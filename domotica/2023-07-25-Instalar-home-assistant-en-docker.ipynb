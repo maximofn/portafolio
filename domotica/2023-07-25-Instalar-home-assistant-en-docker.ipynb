{
 "cells": [
  {
   "cell_type": "markdown",
   "metadata": {},
   "source": [
    "# Instalar home assistant en con docker compose y portainer"
   ]
  },
  {
   "cell_type": "markdown",
   "metadata": {},
   "source": [
    "Como ya tenemos instalado portainer nos conectamos a el mediante el enlace `https:\\\\<IP>:9443`, como mi raspberry está en la IP `192.168.178.142`, en mi caso yo accedo a través de `https:\\\\192.168.178.142:9443`"
   ]
  },
  {
   "cell_type": "markdown",
   "metadata": {},
   "source": [
    "En cuanto nos conectemos veremos algo como esto\n",
    "\n",
    "![portainer home](../images/portainer_home.png)\n",
    "\n",
    "Podemos ver que tenemos el environment local que hemos instalado. En el menú lateral aparecen opciones del environment local, pinchamos en `Stacks`y le damos a añadir nuevo stack. De esta manera vamos a poder escribir un docker compose sin necesitar editar archivos, sino a través de una interfáz web"
   ]
  },
  {
   "cell_type": "markdown",
   "metadata": {},
   "source": [
    "Ahora nos vamos al enlace de [instalación de home assistant mediante docker compose](https://www.home-assistant.io/installation/alternative#docker-compose), copiamos texto del docker compose y lo pegamos en portainer\n",
    "\n",
    "![docker compose de home assistant en portainer](../images/portainer_home_assistant_1.png)"
   ]
  },
  {
   "cell_type": "markdown",
   "metadata": {},
   "source": [
    "Se puede ver que en una de las líneas aparece el texto `PATH_TO_YOUR_CONFIG`, así que vamos a crear ese path en nuestra raspberry"
   ]
  },
  {
   "cell_type": "markdown",
   "metadata": {},
   "source": [
    "Creamos el directorio"
   ]
  },
  {
   "cell_type": "code",
   "execution_count": null,
   "metadata": {
    "vscode": {
     "languageId": "plaintext"
    }
   },
   "outputs": [],
   "source": [
    "!mkdir ~/docker"
   ]
  },
  {
   "cell_type": "markdown",
   "metadata": {},
   "source": [
    "Le asignamos al grupo docker"
   ]
  },
  {
   "cell_type": "code",
   "execution_count": null,
   "metadata": {
    "vscode": {
     "languageId": "plaintext"
    }
   },
   "outputs": [],
   "source": [
    "!sudo chown root:docker ~/docker"
   ]
  },
  {
   "cell_type": "markdown",
   "metadata": {},
   "source": [
    "Y le damos permisos de todo tanto al usuario como al grupo"
   ]
  },
  {
   "cell_type": "code",
   "execution_count": null,
   "metadata": {
    "vscode": {
     "languageId": "plaintext"
    }
   },
   "outputs": [],
   "source": [
    "!sudo chmod 774 ~/docker"
   ]
  },
  {
   "cell_type": "markdown",
   "metadata": {},
   "source": [
    "Ahora creamos dentro una carpeta para las configuraciones de home assistant"
   ]
  },
  {
   "cell_type": "code",
   "execution_count": null,
   "metadata": {
    "vscode": {
     "languageId": "plaintext"
    }
   },
   "outputs": [],
   "source": [
    "!mkdir ~/docker/homeassistant"
   ]
  },
  {
   "cell_type": "markdown",
   "metadata": {},
   "source": [
    "Ahora que hemos creado el path lo añadimos a portainer\n",
    "\n",
    "![docker compose en home assistant en portainer](../images/portainer_home_assistant_2.png)"
   ]
  },
  {
   "cell_type": "markdown",
   "metadata": {},
   "source": [
    "Una vez completado, añadimos un nombre al stack (lo ponemos arriba en la barra `name`) y le damos al botón `Deploy the stack`. Esto tardará un poco en desplegar"
   ]
  },
  {
   "cell_type": "markdown",
   "metadata": {},
   "source": [
    "Una vez se haya desplegado podemos entrar en home assitant mediante el enlace `http:\\\\<IP>:8123` donde la IP tiene que ser la IP de la Raspberry. Al entrar pedirá crear una cuenta y rellenar unos datos"
   ]
  }
 ],
 "metadata": {
  "language_info": {
   "name": "python"
  },
  "orig_nbformat": 4
 },
 "nbformat": 4,
 "nbformat_minor": 2
}
