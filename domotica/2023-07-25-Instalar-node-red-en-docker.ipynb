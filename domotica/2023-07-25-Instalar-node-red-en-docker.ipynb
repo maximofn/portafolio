{
 "cells": [
  {
   "cell_type": "markdown",
   "metadata": {},
   "source": [
    "# Instalar node red en con docker compose y portainer"
   ]
  },
  {
   "cell_type": "markdown",
   "metadata": {},
   "source": [
    "Como ya tenemos instalado portainer nos conectamos a el mediante el enlace `https:\\\\<IP>:9443`, como mi raspberry está en la IP `192.168.178.142`, en mi caso yo accedo a través de `https:\\\\192.168.178.142:9443`. Nos vamos al stack creado para home assistant\n",
    "\n",
    "![docker compose de home assistant en portainer](../images/portainer_home_assistant_2.png)"
   ]
  },
  {
   "cell_type": "markdown",
   "metadata": {},
   "source": [
    "Ahora nos vamos al enlace de [instalación de node red mediante docker compose](https://nodered.org/docs/getting-started/docker#docker-stack--docker-compose), copiamos texto del docker compose y lo pegamos en portainer\n",
    "\n",
    "![docker compose de node red en portainer](../images/portainer_node_red_1.png)"
   ]
  },
  {
   "cell_type": "markdown",
   "metadata": {},
   "source": [
    "Se puede ver que en una de las líneas aparece el texto `node-red-data`, así que vamos a crear ese path en nuestra raspberry"
   ]
  },
  {
   "cell_type": "markdown",
   "metadata": {},
   "source": [
    "Creamos el directorio"
   ]
  },
  {
   "cell_type": "code",
   "execution_count": null,
   "metadata": {
    "vscode": {
     "languageId": "plaintext"
    }
   },
   "outputs": [],
   "source": [
    "!mkdir /docker/nodered"
   ]
  },
  {
   "cell_type": "markdown",
   "metadata": {},
   "source": [
    "Ahora que hemos creado el path lo añadimos a portainer\n",
    "\n",
    "![docker compose de node red en portainer](../images/portainer_node_red_2.png)"
   ]
  },
  {
   "cell_type": "markdown",
   "metadata": {},
   "source": [
    "Una vez completado le damos al botón `Update the stack`. Esto tardará un poco en desplegar"
   ]
  },
  {
   "cell_type": "markdown",
   "metadata": {},
   "source": [
    "Para entrar introducir `http://<IP>:1880/` cambiado `<IP>` por la IP que corresponda"
   ]
  },
  {
   "cell_type": "markdown",
   "metadata": {},
   "source": [
    "## Crear un usuario y contraseña"
   ]
  },
  {
   "cell_type": "markdown",
   "metadata": {},
   "source": [
    "Cuando nos metemos en node red no nos pide usuario y contraseña, lo cual es peligroso, porque si alguien se consigue meter en nuestra red, podrá acceder a node red que es donde crearemos todas nuestras automatizaciones. Así que vamos a crear un usuario y contraseña"
   ]
  },
  {
   "cell_type": "markdown",
   "metadata": {},
   "source": [
    "En primer lugar, en portainer le damos al botón `exec` del contenedor de node red para entrar en el contenedor. Dentro del contenedor ejecutamos\n",
    "\n",
    "``` bash\n",
    "npx node-red-admin hash-pw\n",
    "```\n",
    "\n",
    "Esto nos pedirá que introduzcamos una contraseña, que será la que usaremos en node red, nos devolverá la contraseña cifrada, que será la que meteremos en el archivo de configuración de node red"
   ]
  },
  {
   "cell_type": "markdown",
   "metadata": {},
   "source": [
    "Modificamos el archivo de configuración de node red"
   ]
  },
  {
   "cell_type": "code",
   "execution_count": null,
   "metadata": {
    "vscode": {
     "languageId": "plaintext"
    }
   },
   "outputs": [],
   "source": [
    "!nano /docker/nodered/settings.js"
   ]
  },
  {
   "cell_type": "markdown",
   "metadata": {},
   "source": [
    "Buscamos la parte donde está `adminAuth` y escribimos\n",
    "\n",
    "``` bash\n",
    "adminAuth: {\n",
    "    type: \"credentials\",\n",
    "    users: [{\n",
    "        username: \"<USER>\",\n",
    "        password: \"<PASSWORD>\",\n",
    "        permissions: \"*\"\n",
    "    }]\n",
    "},\n",
    "```\n",
    "\n",
    "Hay que poner un usuario y contraseña"
   ]
  }
 ],
 "metadata": {
  "language_info": {
   "name": "python"
  },
  "orig_nbformat": 4
 },
 "nbformat": 4,
 "nbformat_minor": 2
}
