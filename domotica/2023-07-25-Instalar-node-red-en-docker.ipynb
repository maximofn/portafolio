{
 "cells": [
  {
   "cell_type": "markdown",
   "metadata": {},
   "source": [
    "# Instalar node red en con docker compose y portainer"
   ]
  },
  {
   "cell_type": "markdown",
   "metadata": {},
   "source": [
    "Como ya tenemos instalado portainer nos conectamos a el mediante el enlace `https:\\\\<IP>:9443`, como mi raspberry está en la IP `192.168.178.142`, en mi caso yo accedo a través de `https:\\\\192.168.178.142:9443`. Nos vamos al stack creado para home assistant\n",
    "\n",
    "![docker compose de home assistant en portainer](../images/portainer_home_assistant_2.png)"
   ]
  },
  {
   "cell_type": "markdown",
   "metadata": {},
   "source": [
    "Ahora nos vamos al enlace de [instalación de node red mediante docker compose](https://nodered.org/docs/getting-started/docker#docker-stack--docker-compose), copiamos texto del docker compose y lo pegamos en portainer\n",
    "\n",
    "![docker compose de node red en portainer](../images/portainer_node_red_1.png)"
   ]
  },
  {
   "cell_type": "markdown",
   "metadata": {},
   "source": [
    "Ahora nos vamos al enlace de [instalación de node red mediante docker compose](https://nodered.org/docs/getting-started/docker#docker-stack--docker-compose), copiamos texto del docker compose y lo pegamos en portainer\n",
    "\n",
    "![docker compose de node red en portainer](../images/portainer_node_red_1.png)"
   ]
  },
  {
   "cell_type": "markdown",
   "metadata": {},
   "source": [
    "Se puede ver que en una de las líneas aparece el texto `node-red-data`, así que vamos a crear ese path en nuestra raspberry"
   ]
  },
  {
   "cell_type": "markdown",
   "metadata": {},
   "source": [
    "Creamos el directorio"
   ]
  },
  {
   "cell_type": "code",
   "execution_count": null,
   "metadata": {
    "vscode": {
     "languageId": "plaintext"
    }
   },
   "outputs": [],
   "source": [
    "!sudo mkdir /docker/nodered"
   ]
  },
  {
   "cell_type": "markdown",
   "metadata": {},
   "source": [
    "Ahora que hemos creado el path lo añadimos a portainer\n",
    "\n",
    "![docker compose de node red en portainer](../images/portainer_node_red_2.png)"
   ]
  },
  {
   "cell_type": "markdown",
   "metadata": {},
   "source": [
    "Una vez completado le damos al botón `Update the stack`. Esto tardará un poco en desplegar"
   ]
  }
 ],
 "metadata": {
  "language_info": {
   "name": "python"
  },
  "orig_nbformat": 4
 },
 "nbformat": 4,
 "nbformat_minor": 2
}
