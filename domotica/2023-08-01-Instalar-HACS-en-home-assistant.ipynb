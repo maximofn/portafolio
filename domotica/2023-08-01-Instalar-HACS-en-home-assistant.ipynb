{
 "cells": [
  {
   "cell_type": "markdown",
   "metadata": {},
   "source": [
    "# Instalar HACS en home asisstant"
   ]
  },
  {
   "cell_type": "markdown",
   "metadata": {},
   "source": [
    "[HACS](https://hacs.xyz/) o Home Assistant Community Store fue creado para descargar repositorios de home assistant no soportados"
   ]
  },
  {
   "cell_type": "markdown",
   "metadata": {},
   "source": [
    "## Instalación"
   ]
  },
  {
   "cell_type": "markdown",
   "metadata": {},
   "source": [
    "Para instalarlo ir a la página de [dowload](https://hacs.xyz/docs/setup/download), selecionar `Container`, ya que hemos instalado home assistant en un contenedor de docker, a continuación seleccionar `Host` y ejecutar en la raspberry el comando que aparece dentro del path de la instalación de home assistant\n",
    "\n",
    "``` bash\n",
    "cd ~/docker/homeassistant\n",
    "wget -O - https://get.hacs.xyz | bash -\n",
    "```\n",
    "\n",
    "Esto descargará un script y lo ejecutará"
   ]
  },
  {
   "cell_type": "markdown",
   "metadata": {},
   "source": [
    "A continuación reiniciar home assitant"
   ]
  },
  {
   "cell_type": "markdown",
   "metadata": {},
   "source": [
    "## Configuración"
   ]
  },
  {
   "cell_type": "markdown",
   "metadata": {},
   "source": [
    "En la página de [configuración](https://hacs.xyz/docs/configuration/basic) explican cómo seguir, pero básicamente en home assistant hay que ir a `Ajustes`->`Dispositivos y servicios`, darle al botón de `añadir integración`, buscar `HACS` y registrarse con github mediante un token"
   ]
  }
 ],
 "metadata": {
  "language_info": {
   "name": "python"
  },
  "orig_nbformat": 4
 },
 "nbformat": 4,
 "nbformat_minor": 2
}
