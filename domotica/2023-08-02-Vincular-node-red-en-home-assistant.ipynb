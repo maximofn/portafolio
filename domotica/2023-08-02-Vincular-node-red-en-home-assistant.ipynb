{
 "cells": [
  {
   "cell_type": "markdown",
   "metadata": {},
   "source": [
    "# Vincular node red en home assistant"
   ]
  },
  {
   "cell_type": "markdown",
   "metadata": {},
   "source": [
    "## Instalar el repositorio de node red companion"
   ]
  },
  {
   "cell_type": "markdown",
   "metadata": {},
   "source": [
    "Ir a HACS, darle al botón `explorar y descargar repositorios` y buscar el repositorio `Node-RED Companion`. Instalarlo, reiniciar home assistan, borrar la caché del ordenador y listo"
   ]
  },
  {
   "cell_type": "markdown",
   "metadata": {},
   "source": [
    "## Añadir la integración de node red"
   ]
  },
  {
   "cell_type": "markdown",
   "metadata": {},
   "source": [
    "Ahora en home assistant ir a `Ajustes`->`Dispositivos y servicios`, darle al botón de `añadir integración`, buscar `Node-RED`, darle a añadir y listo"
   ]
  },
  {
   "cell_type": "markdown",
   "metadata": {},
   "source": [
    "## Añadir a node red"
   ]
  },
  {
   "cell_type": "markdown",
   "metadata": {},
   "source": [
    "Nos vamos ahora a node red, le damos al botón de opciones (botón con tres rallas arriba a la derecha), le damos a `Manage palette`, nos vamos a la pestaña `install`, buscamos `node-red-contrib-home-assistant-websocket` y le damos al botón `install`"
   ]
  },
  {
   "cell_type": "markdown",
   "metadata": {},
   "source": [
    "Ahora volvemos a home assistant, nos metemos en nuestro usuario (el último botón del menú de la izquierda) y bajamos hasta abajo a la parte de tokens de larga duración. Creamos uno nuevo, ponemos `node-red` como nombre y nos generará el token. Lo copiamos"
   ]
  },
  {
   "cell_type": "markdown",
   "metadata": {},
   "source": [
    "Volvemos a node red, le damos al botón de opciones (botón de tres rallas) y pinchamos en `Configuration nodes`, veremos que aparece uno con el nombre de home assistant, pinchamos en él.\n",
    "\n",
    "En `Base URL` añadimos la url de nuestro home assitant, en `Acces token` el token que nos ha generado home assistant, pinchamos en `Update` y por último en `Deploy`"
   ]
  }
 ],
 "metadata": {
  "language_info": {
   "name": "python"
  },
  "orig_nbformat": 4
 },
 "nbformat": 4,
 "nbformat_minor": 2
}
