{
 "cells": [
  {
   "cell_type": "markdown",
   "metadata": {},
   "source": [
    "# Vincular node red en home assistant"
   ]
  },
  {
   "cell_type": "markdown",
   "metadata": {},
   "source": [
    "## Instalar el repositorio de node red companion"
   ]
  },
  {
   "cell_type": "markdown",
   "metadata": {},
   "source": [
    "Ir a HACS, darle al botón `explorar y descargar repositorios` y buscar el repositorio `Node-RED Companion`. Instalarlo, reiniciar home assistan, borrar la caché del ordenador y listo"
   ]
  },
  {
   "cell_type": "markdown",
   "metadata": {},
   "source": [
    "## Añadir la integración de node red"
   ]
  },
  {
   "cell_type": "markdown",
   "metadata": {},
   "source": [
    "Ahora en home assistant ir a `Ajustes`->`Dispositivos y servicios`, darle al botón de `añadir integración`, buscar `Node-RED`, darle a añadir y listo"
   ]
  },
  {
   "cell_type": "markdown",
   "metadata": {},
   "source": [
    "## Añadir a node red"
   ]
  },
  {
   "cell_type": "markdown",
   "metadata": {},
   "source": [
    "Nos vamos ahora a node red, le damos al botón de opciones (botón con tres rallas arriba a la derecha), le damos a `Manage palette`, nos vamos a la pestaña `install`, buscamos `node-red-contrib-home-assistant-websocket` y le damos al botón `install`"
   ]
  }
 ],
 "metadata": {
  "language_info": {
   "name": "python"
  },
  "orig_nbformat": 4
 },
 "nbformat": 4,
 "nbformat_minor": 2
}
