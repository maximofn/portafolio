{
 "cells": [
  {
   "cell_type": "markdown",
   "metadata": {},
   "source": [
    "# Instalar pi-hole"
   ]
  },
  {
   "cell_type": "markdown",
   "metadata": {},
   "source": [
    "[pi-hole](https://pi-hole.net/) es un bloqueador de anuncios y de rasteo de internet"
   ]
  },
  {
   "cell_type": "markdown",
   "metadata": {},
   "source": [
    "## Instalación en un contenedor de docker"
   ]
  },
  {
   "cell_type": "markdown",
   "metadata": {},
   "source": [
    "En el repositorio de [GitHub](https://github.com/pi-hole/docker-pi-hole/#quick-start) explican cómo instalarlo mediante un contenedor de docker"
   ]
  },
  {
   "cell_type": "markdown",
   "metadata": {},
   "source": [
    "Primero en la raspberry creamos las carpetas para el contenedor de pi-hole\n",
    "\n",
    "``` bash\n",
    "mkdir ~/pihole\n",
    "mkdir ~/piholedns\n",
    "```"
   ]
  },
  {
   "cell_type": "markdown",
   "metadata": {},
   "source": [
    "Ahora en portainer nos creamos un nuevo stack, le ponemos como nombre `pi-hole` o el que prefieras y añadimos el siguiente código de compose\n",
    "\n",
    "``` docker\n",
    "version: '3'\n",
    "services:\n",
    "  pihole:\n",
    "    container_name: pihole\n",
    "    image: pihole/pihole:latest\n",
    "    ports:\n",
    "      - \"53:53/tcp\"\n",
    "      - \"53:53/udp\"\n",
    "      - \"67:67/udp\"\n",
    "      - \"80:80/tcp\"\n",
    "      - \"443:443/tcp\"\n",
    "    environment:\n",
    "      TZ: 'Europe/Madrid'\n",
    "      # WEBPASSWORD: 'set a secure password here or it will be random'\n",
    "    # Volumes store your data between container upgrades\n",
    "    volumes:\n",
    "       - '~/pihole/:/etc/pihole/'\n",
    "       - '~/piholedns/:/etc/dnsmasq.d/'\n",
    "    dns:\n",
    "      - 127.0.0.1\n",
    "      - 1.1.1.1\n",
    "    # Recommended but not required (DHCP needs NET_ADMIN)\n",
    "    #   https://github.com/pi-hole/docker-pi-hole#note-on-capabilities\n",
    "    cap_add:\n",
    "      - NET_ADMIN\n",
    "    restart: unless-stopped\n",
    "```"
   ]
  },
  {
   "cell_type": "markdown",
   "metadata": {},
   "source": [
    "Le damos a deploy y esperamos a que se levante el contenedor"
   ]
  },
  {
   "cell_type": "markdown",
   "metadata": {},
   "source": [
    "## Contraseña de pi-hole"
   ]
  },
  {
   "cell_type": "markdown",
   "metadata": {},
   "source": [
    "Si te fijas, en el compose aparece `WEBPASSWORD` comentado, esto quiere decir que no establecemos la contraseña en el docker compose, por lo que tenemos que crear una contraseña, para ello en portainer nos vamos a la lista de contenedores, aparecerá una lista de contenedores y para cada contenedor distintas columnas. En la columna `Quick Actions` del contenedor de pi-hole le damos al botón `Exec console`"
   ]
  },
  {
   "cell_type": "markdown",
   "metadata": {},
   "source": [
    "Se nos abrirá una nueva página, en `command` dejamos el que aparece por defecto (`/bin/bash`), no añadimos ningún usuario y le damos a `Connect`, esto nos abrirá una consola de manera que estaremos dentro del contenedor"
   ]
  },
  {
   "cell_type": "markdown",
   "metadata": {},
   "source": [
    "Una vez dentro del contenedor establecemos la contraseña mediante el comando\n",
    "\n",
    "``` bash\n",
    "pihole -a -p <PASSWORD>\n",
    "```"
   ]
  },
  {
   "cell_type": "markdown",
   "metadata": {},
   "source": [
    "## Acceso a pi-hole"
   ]
  },
  {
   "cell_type": "markdown",
   "metadata": {},
   "source": [
    "En el navegador accedemos a la dirección `http://<IP>/admin/login.php` cambiando `<IP>` por la IP de la raspberry e introducir la contraseña"
   ]
  }
 ],
 "metadata": {
  "language_info": {
   "name": "python"
  },
  "orig_nbformat": 4
 },
 "nbformat": 4,
 "nbformat_minor": 2
}
