{
 "cells": [
  {
   "cell_type": "markdown",
   "metadata": {},
   "source": [
    "# Instalar MQTT"
   ]
  },
  {
   "cell_type": "markdown",
   "metadata": {},
   "source": [
    "[MQTT](https://mqtt.org/) (MQ Telemetry Transport) es un protocolo de mensajería para IoT. El broker más popular de MQTT es [Eclipse Mosquitto](https://mosquitto.org/), el cual además es opensource"
   ]
  },
  {
   "cell_type": "markdown",
   "metadata": {},
   "source": [
    "## Instalar mosquitto con docker"
   ]
  },
  {
   "cell_type": "markdown",
   "metadata": {},
   "source": [
    "Primero creamos en la raspberry las carpetas necesarias mediante\n",
    "\n",
    "``` bash\n",
    "mkdir /docker/mosquitto\n",
    "mkdir /docker/mosquitto/config\n",
    "mkdir /docker/mosquitto/log\n",
    "mkdir /docker/mosquitto/data\n",
    "```\n",
    "\n",
    "Dentro de la carpeta de configuración creamos un archivo de configuración\n",
    "\n",
    "``` bash\n",
    "touch /docker/mosquitto/config/mosquitto.conf\n",
    "```\n",
    "\n",
    "Lo abrimos con nano\n",
    "\n",
    "``` bash\n",
    "nano /docker/mosquitto/config/mosquitto.conf\n",
    "```\n",
    "\n",
    "Y añadimos lo siguiente\n",
    "\n",
    "``` bash\n",
    "allow_anonymous false\n",
    "password_file /mqtt/config/passwordfile.txt\n",
    "pid_file /var/run/mosquitto.pid\n",
    "persistence true\n",
    "persistence_location /mqtt/data/\n",
    "log_dest file /mqtt/log/mosquitto.log\n",
    "```"
   ]
  },
  {
   "cell_type": "markdown",
   "metadata": {},
   "source": [
    "Ahora nos vamos al stack de domótica de portainer, dónde instalamos home assistant y node red, y añadimos el siguiente código\n",
    "\n",
    "```bash\n",
    "  mqtt:\n",
    "    container_name: mosquitto\n",
    "    image: eclipse-mosquitto:1.6\n",
    "    ports:\n",
    "      - \"1883:1883\"\n",
    "      - \"9001:9001\"\n",
    "    volumes:\n",
    "      - /docker/mosquitto/config:/mqtt/config\n",
    "      - /docker/mosquitto/log:/mqtt/log\n",
    "      - /docker/mosquitto/data/:/mqtt/data\n",
    "    restart: unless-stopped\n",
    "```"
   ]
  },
  {
   "cell_type": "markdown",
   "metadata": {},
   "source": [
    "Actualizamos el stack"
   ]
  },
  {
   "cell_type": "markdown",
   "metadata": {},
   "source": [
    "Cuando el contenedor se haya levantado, en container le damos al botón `exec` del contenedor de mosquitto que se ha creado. Dentro elegir `/bin/sh`"
   ]
  },
  {
   "cell_type": "markdown",
   "metadata": {},
   "source": [
    "Una vez dentro del contenedor hacer\n",
    "\n",
    "``` bash\n",
    "cd /mqtt/config/\n",
    "mosquitto_passwd -c passwordfile.txt <usuario>\n",
    "```\n",
    "\n",
    "Cambiar `<usuario>` por un nombre de usuario que queramos\n",
    "\n",
    "Nos pedirá una contraseña, introducir una y guardarla, ya que será la que necesitemos para más adelante usar zigbee2mqtt. Lo que hemos hecho es configurar una contraseña para el usuario `<usuario>`"
   ]
  },
  {
   "cell_type": "markdown",
   "metadata": {},
   "source": [
    "## Integración en home assistant"
   ]
  },
  {
   "cell_type": "markdown",
   "metadata": {},
   "source": [
    "En home assistant nos vamos a `Ajustes`->`Dispositivos y servicios`, darle al botón de `añadir integración`, buscar `MQTT`. Dentro, en `Agente` poner `localhost`, en `Puerto` poner `1883` y le damos a `guardar`"
   ]
  }
 ],
 "metadata": {
  "language_info": {
   "name": "python"
  },
  "orig_nbformat": 4
 },
 "nbformat": 4,
 "nbformat_minor": 2
}
