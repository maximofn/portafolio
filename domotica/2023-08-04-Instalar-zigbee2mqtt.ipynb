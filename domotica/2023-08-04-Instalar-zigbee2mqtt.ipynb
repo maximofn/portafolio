{
 "cells": [
  {
   "cell_type": "markdown",
   "metadata": {},
   "source": [
    "# Instalar zigbee2mqtt"
   ]
  },
  {
   "cell_type": "markdown",
   "metadata": {},
   "source": [
    "Con [zigbee2mqtt](https://www.zigbee2mqtt.io/) podemos tener una red zigbee y usarla en home assistant mediante el protocolo mqtt"
   ]
  },
  {
   "cell_type": "markdown",
   "metadata": {},
   "source": [
    "## Controlador o dongle"
   ]
  },
  {
   "cell_type": "markdown",
   "metadata": {},
   "source": [
    "En primer lugar necesitamos tener un controlador que se conectará a la raspberry, en mi caso tengo el `SONOFF Zigbee 3.0 USB Dongle`"
   ]
  },
  {
   "cell_type": "markdown",
   "metadata": {},
   "source": [
    "## Instalación de zigbee2mqtt con docker"
   ]
  },
  {
   "cell_type": "markdown",
   "metadata": {},
   "source": [
    "En la página de [instalación con docker](https://www.zigbee2mqtt.io/guide/installation/02_docker.html) están las instrucciones"
   ]
  },
  {
   "cell_type": "markdown",
   "metadata": {},
   "source": [
    "### Actualización de paquetes para raspberry"
   ]
  },
  {
   "cell_type": "markdown",
   "metadata": {},
   "source": [
    "En versiones anteriores de Debian/Raspberry Pi OS era necesario instalar paquetes adicionales, pero en las versiones actuales (Debian Bookworm/Raspberry Pi OS 12) estos paquetes ya vienen incluidos por defecto.\n",
    "\n",
    "Si estás usando una versión anterior, puedes verificar si tienes libseccomp2 instalado:\n",
    "\n",
    "``` bash\n",
    "dpkg -l | grep libseccomp2\n",
    "```\n",
    "\n",
    "Si no está instalado:\n",
    "``` bash\n",
    "sudo apt update\n",
    "sudo apt install -y libseccomp2\n",
    "```"
   ]
  },
  {
   "cell_type": "markdown",
   "metadata": {},
   "source": [
    "### Carpetas para el contenedor"
   ]
  },
  {
   "cell_type": "markdown",
   "metadata": {},
   "source": [
    "Ahora nos creamos las carpetas necesarias para el contenedor\n",
    "\n",
    "``` bash\n",
    "mkdir ~/docker/zigbee2mqtt\n",
    "mkdir ~/docker/zigbee2mqtt/data\n",
    "```"
   ]
  },
  {
   "cell_type": "markdown",
   "metadata": {},
   "source": [
    "### Encontrar la ruta del controlador"
   ]
  },
  {
   "cell_type": "markdown",
   "metadata": {},
   "source": [
    "Para encontrar la ruta del controlador ejecutar\n",
    "\n",
    "``` bash\n",
    "ls -l /dev/serial/by-path/\n",
    "```\n",
    "\n",
    "En mi caso aparece `lrwxrwxrwx 1 root root 13 Aug 23 05:46 platform-fd500000.pcie-pci-0000:01:00.0-usb-0:1.1:1.0-port0 -> ../../ttyUSB0`, por lo que sé que su path es `/dev/ttyUSB0`"
   ]
  },
  {
   "cell_type": "markdown",
   "metadata": {},
   "source": [
    "### Crear archivo de configuración"
   ]
  },
  {
   "cell_type": "markdown",
   "metadata": {},
   "source": [
    "Crear el archivo de configuración\n",
    "\n",
    "``` bash\n",
    "touch ~/docker/zigbee2mqtt/data/configuration.yaml\n",
    "```\n",
    "\n",
    "Lo abrimos con nano\n",
    "\n",
    "``` bash\n",
    "nano ~/docker/zigbee2mqtt/data/configuration.yaml\n",
    "```\n",
    "\n",
    "Y escribimos lo siguiente\n",
    "\n",
    "``` bash\n",
    "# Home Assistant integration (MQTT discovery)\n",
    "homeassistant: true\n",
    "\n",
    "# allow new devices to join\n",
    "permit_join: true\n",
    "\n",
    "# MQTT settings\n",
    "mqtt:\n",
    "  # MQTT server URL\n",
    "  server: mqtt://localhost:1883\n",
    "  # MQTT base topic for zigbee2mqtt MQTT messages\n",
    "  base_topic: zigbee2mqtt\n",
    "  # MQTT server authentication, uncomment if required:\n",
    "  user: <USER>\n",
    "  password: <PASSWORD>\n",
    "\n",
    "# Serial settings\n",
    "serial:\n",
    "  # Location of CC2531 USB sniffer\n",
    "  port: /dev/ttyACM0\n",
    "\n",
    "frontend: true\n",
    "\n",
    "advanced:\n",
    "  homeassistant_legacy_entity_attributes: false\n",
    "  legacy_api: false\n",
    "  legacy_availability_payload: false\n",
    "  network_key: GENERATE\n",
    "\n",
    "device_options:\n",
    "  legacy: false\n",
    "\n",
    "devices:\n",
    "  '0x00124b0024c8a0fe':\n",
    "    friendly_name: '0x00124b0024c8a0fe'\n",
    "```\n",
    "\n",
    "Poner en `<USER>` y `<PASSWORD>` el nombre y usuario que elegimos cuando instalamos el contenedor de mqtt e hicimos `mosquitto_passwd -c passwordfile.txt <USER>`\n",
    "```"
   ]
  },
  {
   "cell_type": "markdown",
   "metadata": {},
   "source": [
    "### docker compose"
   ]
  },
  {
   "cell_type": "markdown",
   "metadata": {},
   "source": [
    "Ir a portainer y en el stack de domotica añadir\n",
    "\n",
    "``` bash\n",
    "  zigbee2mqtt:\n",
    "    container_name: zigbee2mqtt\n",
    "    image: koenkk/zigbee2mqtt:1.33.2\n",
    "    restart: unless-stopped\n",
    "    volumes:\n",
    "      - /home/raspihome/docker/zigbee2mqtt/data:/app/data\n",
    "      - /run/udev:/run/udev:ro\n",
    "    ports:\n",
    "      - 8080:8080\n",
    "    environment:\n",
    "      - TZ=Europe/Madrid\n",
    "    devices:\n",
    "      - /dev/ttyUSB0:/dev/ttyACM0\n",
    "    network_mode: host\n",
    "    depends_on:\n",
    "      - mqtt\n",
    "```\n",
    "\n",
    "Y darle a deploy"
   ]
  },
  {
   "cell_type": "markdown",
   "metadata": {},
   "source": [
    "Una vez levantado el contenedor podemos ir a `http://<IP>:8080/#/` para ver la red zigbee"
   ]
  }
 ],
 "metadata": {
  "language_info": {
   "name": "python"
  },
  "orig_nbformat": 4
 },
 "nbformat": 4,
 "nbformat_minor": 2
}
