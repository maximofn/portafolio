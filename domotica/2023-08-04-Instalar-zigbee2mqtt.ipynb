{
 "cells": [
  {
   "cell_type": "markdown",
   "metadata": {},
   "source": [
    "# Instalar zigbee2mqtt"
   ]
  },
  {
   "cell_type": "markdown",
   "metadata": {},
   "source": [
    "Con [zigbee2mqtt](https://www.zigbee2mqtt.io/) podemos tener una red zigbee y usarla en home assistant mediante el protocolo mqtt"
   ]
  },
  {
   "cell_type": "markdown",
   "metadata": {},
   "source": [
    "## Controlador o dongle"
   ]
  },
  {
   "cell_type": "markdown",
   "metadata": {},
   "source": [
    "En primer lugar necesitamos tener un controlador que se conectará a la raspberry, en mi caso tengo el `SONOFF Zigbee 3.0 USB Dongle`"
   ]
  },
  {
   "cell_type": "markdown",
   "metadata": {},
   "source": [
    "## Instalación de zigbee2mqtt con docker"
   ]
  },
  {
   "cell_type": "markdown",
   "metadata": {},
   "source": [
    "En la página de [instalación con docker](https://www.zigbee2mqtt.io/guide/installation/02_docker.html) están las instrucciones"
   ]
  },
  {
   "cell_type": "markdown",
   "metadata": {},
   "source": [
    "### Actualización de paquetes para raspberry"
   ]
  },
  {
   "cell_type": "markdown",
   "metadata": {},
   "source": [
    "Si vamos a instalarlo en una raspberry primero hay que instalar unos paquetes\n",
    "\n",
    "``` bash\n",
    "sudo apt-key adv --keyserver hkps://keyserver.ubuntu.com:443 --recv-keys 04EE7237B7D453EC 648ACFD622F3D138\n",
    "echo \"deb http://httpredir.debian.org/debian buster-backports main contrib non-free\" | sudo tee -a \"/etc/apt/sources.list.d/debian-backports.list\"\n",
    "sudo apt update\n",
    "sudo apt install libseccomp2 -t buster-backports\n",
    "```"
   ]
  },
  {
   "cell_type": "markdown",
   "metadata": {},
   "source": [
    "### Carpetas para el contenedor"
   ]
  },
  {
   "cell_type": "markdown",
   "metadata": {},
   "source": [
    "Ahora nos creamos las carpetas necesarias para el contenedor\n",
    "\n",
    "``` bash\n",
    "sudo mkdir /docker/zigbee2mqtt\n",
    "sudo mkdir /docker/zigbee2mqtt/data\n",
    "```"
   ]
  },
  {
   "cell_type": "markdown",
   "metadata": {},
   "source": [
    "### Encontrar la ruta del controlador"
   ]
  },
  {
   "cell_type": "markdown",
   "metadata": {},
   "source": [
    "Para encontrar la ruta del controlador ejecutar\n",
    "\n",
    "``` bash\n",
    "ls -l /dev/serial/by-path/\n",
    "```\n",
    "\n",
    "En mi caso aparece `lrwxrwxrwx 1 root root 13 Aug 23 05:46 platform-fd500000.pcie-pci-0000:01:00.0-usb-0:1.1:1.0-port0 -> ../../ttyUSB0`, por lo que sé que su path es `/dev/ttyUSB0`"
   ]
  },
  {
   "cell_type": "markdown",
   "metadata": {},
   "source": [
    "### Crear archivo de configuración"
   ]
  },
  {
   "cell_type": "markdown",
   "metadata": {},
   "source": [
    "Crear el archivo de configuración\n",
    "\n",
    "``` bash\n",
    "sudo touch /docker/zigbee2mqtt/data/configuration.yaml\n",
    "```\n",
    "\n",
    "Lo abrimos con nano\n",
    "\n",
    "``` bash\n",
    "\n",
    "```\n",
    "\n",
    "Y escribimos lo siguiente\n",
    "\n",
    "``` bash\n",
    "homeassistant: true\n",
    "\n",
    "permit_join: true\n",
    "\n",
    "mqtt:\n",
    "  server: mqtt://mqtt:1883\n",
    "  base_topic: zigbee2mqtt\n",
    "  # Optional: MQTT server authentication user (default: nothing)\n",
    "  # user: <USER>\n",
    "  # Optional: MQTT server authentication password (default: nothing)\n",
    "  # password: <PASSWORD>\n",
    "\n",
    "serial:\n",
    "  port: /dev/ttyACM0\n",
    "\n",
    "frontend: true\n",
    "\n",
    "advanced:\n",
    "  homeassistant_legacy_entity_attributes: false\n",
    "  legacy_api: false\n",
    "  legacy_availability_payload: false\n",
    "  network_key: GENERATE\n",
    "\n",
    "device_options:\n",
    "  legacy: false\n",
    "```"
   ]
  },
  {
   "cell_type": "markdown",
   "metadata": {},
   "source": [
    "### docker compose"
   ]
  },
  {
   "cell_type": "markdown",
   "metadata": {},
   "source": [
    "Ir a portainer y en el stack de domotica añadir\n",
    "\n",
    "``` bash\n",
    "  zigbee2mqtt:\n",
    "    container_name: zigbee2mqtt\n",
    "    image: koenkk/zigbee2mqtt\n",
    "    restart: unless-stopped\n",
    "    volumes:\n",
    "      - /docker/zigbee2mqtt/data:/app/data\n",
    "      - /run/udev:/run/udev:ro\n",
    "    ports:\n",
    "      - 8080:8080\n",
    "    environment:\n",
    "      - TZ=Europe/Madrid\n",
    "    devices:\n",
    "      - /dev/ttyUSB0:/dev/ttyACM0\n",
    "```\n",
    "\n",
    "Y darle a deploy"
   ]
  },
  {
   "cell_type": "markdown",
   "metadata": {},
   "source": [
    "Una vez levantado el contenedor podemos ir a `http://<IP>:8080/#/` para ver la red zigbee"
   ]
  }
 ],
 "metadata": {
  "language_info": {
   "name": "python"
  },
  "orig_nbformat": 4
 },
 "nbformat": 4,
 "nbformat_minor": 2
}
