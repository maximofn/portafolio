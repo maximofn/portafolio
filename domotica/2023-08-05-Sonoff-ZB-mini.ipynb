{
 "cells": [
  {
   "cell_type": "markdown",
   "metadata": {},
   "source": [
    "# Sonoff ZB mini"
   ]
  },
  {
   "cell_type": "markdown",
   "metadata": {},
   "source": [
    "Una vez tenemos zigbee2mqtt instalado, ya podemos ir añadiendo dispositivos a la red zigbee"
   ]
  },
  {
   "cell_type": "markdown",
   "metadata": {},
   "source": [
    "## Conexión con un solo interruptor"
   ]
  },
  {
   "cell_type": "markdown",
   "metadata": {},
   "source": [
    "En el caso de querer conectarlo con un solo interruptor hay que hacer la siguiente conexión\n",
    "\n",
    "![single switch](../images/sonoff-zb-mini-single.png)"
   ]
  },
  {
   "cell_type": "markdown",
   "metadata": {},
   "source": [
    "## Conexión con dos interruptores conmutados"
   ]
  },
  {
   "cell_type": "markdown",
   "metadata": {},
   "source": [
    "En el caso de querer conectarlo con dos interruptores conmutados hay que hacer la siguiente conexión\n",
    "\n",
    "![double switch](../images/sonoff-zb-mini-double.jpeg)"
   ]
  },
  {
   "cell_type": "markdown",
   "metadata": {},
   "source": [
    "## Enlace con el controlador de la red zigbee"
   ]
  },
  {
   "cell_type": "markdown",
   "metadata": {},
   "source": [
    "Como a la hora de instalar zigbee2mqtt pusimos en el archivo de configuración `permit_join: true` se debería enlazar solo. Si no lo hace apretar el botón durante unos segundos"
   ]
  }
 ],
 "metadata": {
  "language_info": {
   "name": "python"
  },
  "orig_nbformat": 4
 },
 "nbformat": 4,
 "nbformat_minor": 2
}
