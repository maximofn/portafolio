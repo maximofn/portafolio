{
 "cells": [
  {
   "cell_type": "markdown",
   "metadata": {},
   "source": [
    "# Copia de seguridad"
   ]
  },
  {
   "cell_type": "markdown",
   "metadata": {},
   "source": [
    "Es recomendable hacer copias de seguridad por si acaso, para ello vamos a usar el contenedor de [duplicati](https://hub.docker.com/r/linuxserver/duplicati)"
   ]
  },
  {
   "cell_type": "markdown",
   "metadata": {},
   "source": [
    "## Instalación"
   ]
  },
  {
   "cell_type": "markdown",
   "metadata": {},
   "source": [
    "Primero vamos a crear las carpetas necesarias en la raspberry\n",
    "\n",
    "``` bash\n",
    "mkdir /docker/duplicati\n",
    "mkdir /docker/duplicati/config\n",
    "sudo mkdir /backups\n",
    "sudo chown root.docker /backups\n",
    "sudo chmod 774 /backups\n",
    "mkdir /backups/duplicati\n",
    "```"
   ]
  },
  {
   "cell_type": "markdown",
   "metadata": {},
   "source": [
    "Ahora en portainer creamos un nuevo stack, lo llamamos `backups` o como prefieras y añadimos este código\n",
    "\n",
    "``` bash\n",
    "version: \"2.1\"\n",
    "services:\n",
    "  duplicati:\n",
    "    image: lscr.io/linuxserver/duplicati:latest\n",
    "    container_name: duplicati\n",
    "    environment:\n",
    "      - PUID=1000\n",
    "      - PGID=1000\n",
    "      - TZ=Etc/UTC\n",
    "      - CLI_ARGS= #optional\n",
    "    volumes:\n",
    "      - /docker/duplicati/config:/config\n",
    "      - /backups/duplicati:/backups\n",
    "      - /docker:/source\n",
    "    ports:\n",
    "      - 8200:8200\n",
    "    restart: unless-stopped\n",
    "```"
   ]
  },
  {
   "cell_type": "markdown",
   "metadata": {},
   "source": [
    "Por último podemos acceder a través del enlace `http://<IP>:8200/ngax/index.html` donde `<IP>` es la IP de la raspberry"
   ]
  },
  {
   "cell_type": "markdown",
   "metadata": {},
   "source": [
    "## Copia de seguridad"
   ]
  },
  {
   "cell_type": "markdown",
   "metadata": {},
   "source": [
    "Una vez dentro de duplicati, la primera vez preguntará si queremos crear un entorno de multi usuarios, en mi caso solo va a hacer copias de seguridad de la raspberry así que le doy a `No, my machine has only a single account`"
   ]
  },
  {
   "cell_type": "markdown",
   "metadata": {},
   "source": [
    "Ahora creamos las copias de seguridad dándole a `Añadir copia de seguridad`, a continuación `Configurar nueva copia de seguridad` y rellenamos los datos"
   ]
  },
  {
   "cell_type": "markdown",
   "metadata": {},
   "source": [
    "A continuación seleccionamos `Google drive`, seleccionamos la ruta en drive y pinchamos en el texto `AuthID` para generar una autentificación a nuestro drive"
   ]
  },
  {
   "cell_type": "markdown",
   "metadata": {},
   "source": [
    "Ahora seleccionamos qué carpetas de la raspberry queremos que haga la copia de seguridad. La ruta está en `Ordenador/source`"
   ]
  },
  {
   "cell_type": "markdown",
   "metadata": {},
   "source": [
    "Después seleccionamos con qué frecuencia se hace la copia de seguridad"
   ]
  },
  {
   "cell_type": "markdown",
   "metadata": {},
   "source": [
    "Y por último podemos cambiar algunas opciones"
   ]
  },
  {
   "cell_type": "markdown",
   "metadata": {},
   "source": [
    "Le damos a guardar"
   ]
  },
  {
   "cell_type": "markdown",
   "metadata": {},
   "source": [
    "Cuando haya terminado le damos a `Ejecutar ahora` para crear una primera copia de seguridad"
   ]
  }
 ],
 "metadata": {
  "language_info": {
   "name": "python"
  },
  "orig_nbformat": 4
 },
 "nbformat": 4,
 "nbformat_minor": 2
}
