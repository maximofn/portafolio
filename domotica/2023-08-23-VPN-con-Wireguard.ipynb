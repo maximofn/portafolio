{
 "cells": [
  {
   "cell_type": "markdown",
   "metadata": {},
   "source": [
    "# VPN con Wireguard"
   ]
  },
  {
   "cell_type": "markdown",
   "metadata": {},
   "source": [
    "Para poder conectarse desde fuera de nuestra red a todos nuestros dispositivos, lo mejor es usar una VPN para no tener que abrir puertos a internet, lo cual es un riesgo. Así que vamos a ver cómo instalar un servidor VPN para poder conectarnos a él"
   ]
  },
  {
   "cell_type": "markdown",
   "metadata": {},
   "source": [
    "## Instalación"
   ]
  },
  {
   "cell_type": "markdown",
   "metadata": {},
   "source": [
    "Primero creamos las carpetas en la raspberry\n",
    "\n",
    "``` bash\n",
    "mkdir ~/docker/wireguard\n",
    "```"
   ]
  },
  {
   "cell_type": "markdown",
   "metadata": {},
   "source": [
    "Para instalar wireguard abrimos portainer, creamos un nuevo stack con el nombre `wireguard` o el que queramos y escribimos esto\n",
    "\n",
    "```docker\n",
    "version: '3.8'\n",
    "services:\n",
    "  wireguard:\n",
    "    image: linuxserver/wireguard:1.0.20210914\n",
    "    container_name: wireguard\n",
    "    cap_add:\n",
    "      - NET_ADMIN\n",
    "      - SYS_MODULE\n",
    "    environment:\n",
    "      - PUID=1000\n",
    "      - PGID=1000\n",
    "      - TZ=Europe/Madrid\n",
    "      - SERVERURL=1.1.1.1 #optional\n",
    "      - SERVERPORT=51820 #optional\n",
    "      - PEERS=1 #optional\n",
    "      - PEERDNS=auto #optional\n",
    "      - INTERNAL_SUBNET=10.13.13.0 #optional\n",
    "    volumes:\n",
    "      - ~/docker/wireguard:/config\n",
    "      - /lib/modules:/lib/modules\n",
    "      - /usr/src:/usr/src\n",
    "    ports:\n",
    "      - 51820:51820/udp\n",
    "    sysctls:\n",
    "      - net.ipv4.conf.all.src_valid_mark=1\n",
    "    restart: unless-stopped\n",
    "```\n",
    "\n",
    "En `PEERS` yo he puesto 1 para que solo se pueda conectar un solo dispositivo a este servidor, en caso de querer que se puedan conectar más dispositivos aumentar el número.\n",
    "\n",
    "Le damos a deploy"
   ]
  },
  {
   "cell_type": "markdown",
   "metadata": {},
   "source": [
    "Una vez se ha levantado el contenedor podemos ver los logs, ahí aparecerá un QR con el que podemos conectarnos"
   ]
  }
 ],
 "metadata": {
  "language_info": {
   "name": "python"
  },
  "orig_nbformat": 4
 },
 "nbformat": 4,
 "nbformat_minor": 2
}
