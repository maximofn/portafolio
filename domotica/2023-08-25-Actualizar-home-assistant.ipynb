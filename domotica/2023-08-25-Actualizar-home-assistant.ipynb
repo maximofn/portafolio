{
 "cells": [
  {
   "cell_type": "markdown",
   "metadata": {},
   "source": [
    "# Actualizar home assistant"
   ]
  },
  {
   "cell_type": "markdown",
   "metadata": {},
   "source": [
    " > **Importante** Antes de actualizar hacer una copia de seguridad\n"
   ]
  },
  {
   "cell_type": "markdown",
   "metadata": {},
   "source": [
    "Como lo hemos instalado mediante docker compose en portainer ir al contenedor de home assistant en container y parar el contenedor"
   ]
  },
  {
   "cell_type": "markdown",
   "metadata": {},
   "source": [
    "En cuanto el contenedor se haya parado darle al botón de `Recreate` y habilitar la opción de `Pull latest image`"
   ]
  },
  {
   "cell_type": "markdown",
   "metadata": {},
   "source": [
    "En cuanto se haya vualto a crear el contenedor darle a `Start`"
   ]
  }
 ],
 "metadata": {
  "language_info": {
   "name": "python"
  },
  "orig_nbformat": 4
 },
 "nbformat": 4,
 "nbformat_minor": 2
}
