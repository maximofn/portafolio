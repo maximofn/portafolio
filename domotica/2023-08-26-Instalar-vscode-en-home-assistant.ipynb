{
 "cells": [
  {
   "cell_type": "markdown",
   "metadata": {},
   "source": [
    "# Instalar vscode en home assistant"
   ]
  },
  {
   "cell_type": "markdown",
   "metadata": {},
   "source": [
    "Como a veces vamos a necesitar editar archivos de configuación en home assistant, vamos a instalar el IDE vscode mediante la imagen de docker de [linuxserver](https://docs.linuxserver.io/images/docker-code-server#docker-compose-recommended-click-here-for-more-info)"
   ]
  },
  {
   "cell_type": "markdown",
   "metadata": {},
   "source": [
    "## Instalación"
   ]
  },
  {
   "cell_type": "markdown",
   "metadata": {},
   "source": [
    "Primero creamos la carpeta de vscode en la carpeta docker de la raspberry\n",
    "\n",
    "``` bash\n",
    "mkdir /docker/vscode\n",
    "```"
   ]
  },
  {
   "cell_type": "markdown",
   "metadata": {},
   "source": [
    "Añadimos lo siguiente al stack de domotica de portainer\n",
    "\n",
    "``` bash\n",
    "  code-server:\n",
    "    container_name: vscode\n",
    "    image: lscr.io/linuxserver/code-server:latest\n",
    "    environment:\n",
    "      - PUID=1000\n",
    "      - PGID=1000\n",
    "      - TZ=Europe/Madrid\n",
    "      # - PASSWORD=password #optional\n",
    "      # - HASHED_PASSWORD= #optional\n",
    "      # - SUDO_PASSWORD=password #optional\n",
    "      # - SUDO_PASSWORD_HASH= #optional\n",
    "      # - PROXY_DOMAIN=code-server.my.domain #optional\n",
    "      # - DEFAULT_WORKSPACE=/config/workspace #optional\n",
    "    volumes:\n",
    "      - /docker/vscode:/config\n",
    "      - /docker:/config/workspace\n",
    "    ports:\n",
    "      - 8443:8443\n",
    "    restart: unless-stopped\n",
    "```\n",
    "\n",
    "Hacemos un deploy"
   ]
  },
  {
   "cell_type": "markdown",
   "metadata": {},
   "source": [
    "## Visualización"
   ]
  },
  {
   "cell_type": "markdown",
   "metadata": {},
   "source": [
    "Cuando se haya levantado el contenedor podemos ver el IDE, para ello vamos al navegador y ponemos `http://<IP>:8443`, acuérdate de cambiar `<IP>` por la IP de la raspberry."
   ]
  },
  {
   "cell_type": "markdown",
   "metadata": {},
   "source": [
    "## Integración en home assistant"
   ]
  },
  {
   "cell_type": "markdown",
   "metadata": {},
   "source": [
    "Una vez dentro de vs code en el navegador abrimos el archivo `configuration.yaml` de home assistant y añadimos lo siguiente\n",
    "\n",
    "``` yaml\n",
    "# vscode\n",
    "panel_iframe:\n",
    "  vscode:\n",
    "    title: Visual Studio Code\n",
    "    icon: mdi:microsoft-visual-studio-code\n",
    "    url: http://192.168.178.142:8443\n",
    "```\n",
    "\n",
    "Y reiniciamos home assistan"
   ]
  }
 ],
 "metadata": {
  "language_info": {
   "name": "python"
  },
  "orig_nbformat": 4
 },
 "nbformat": 4,
 "nbformat_minor": 2
}
