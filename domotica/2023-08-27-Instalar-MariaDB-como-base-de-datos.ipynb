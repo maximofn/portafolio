{
 "cells": [
  {
   "cell_type": "markdown",
   "metadata": {},
   "source": [
    "# Instalar MariaDB como base de datos"
   ]
  },
  {
   "cell_type": "markdown",
   "metadata": {},
   "source": [
    "Para hacer que home assistant use MariaDB como base de datos, que es más rápida, vamos a usar el contenedor de [MariaDB](https://hub.docker.com/_/mariadb)"
   ]
  },
  {
   "cell_type": "markdown",
   "metadata": {},
   "source": [
    "## Instalación"
   ]
  },
  {
   "cell_type": "markdown",
   "metadata": {},
   "source": [
    "Primero creamos la carpeta de mariadb en la carpeta docker de la raspberry\n",
    "\n",
    "``` bash\n",
    "sudo mkdir /docker/mariadb\n",
    "```"
   ]
  },
  {
   "cell_type": "markdown",
   "metadata": {},
   "source": [
    "Añadimos lo siguiente al stack de domotica de portainer\n",
    "\n",
    "``` bash\n",
    "  db:\n",
    "    container_name: mariadb\n",
    "    image: mariadb\n",
    "    restart: always\n",
    "    environment:\n",
    "      MARIADB_ROOT_PASSWORD: <MARIADB_ROOT_PASSWORD>\n",
    "      MARIADB_DATABASE: hass_db\n",
    "      MARIADB_USER: homeassistant\n",
    "      MARIADB_PASSWORD: <MARIADB_PASSWORD>\n",
    "\n",
    "  adminer:\n",
    "    container_name: db-adminer\n",
    "    image: adminer\n",
    "    restart: always\n",
    "    ports:\n",
    "      - 8081:8080\n",
    "```\n",
    "\n",
    "Acordaos de cambiar `<MARIADB_ROOT_PASSWORD>` y `<MARIADB_PASSWORD>`. Hacemos un deploy"
   ]
  },
  {
   "cell_type": "markdown",
   "metadata": {},
   "source": [
    "## Consulta"
   ]
  },
  {
   "cell_type": "markdown",
   "metadata": {},
   "source": [
    "Cuando se hayan levantado los contenedores podemos ver la base de datos a través de `adminer` para ello vamos al navegador y ponemos `http://<IP>:8081/?server=db&username=root&db=hass_db`, acuérdate de cambiar `<IP>` por la IP de la raspberry. Una vez dentro aparecerá un formulario donde tenemos que meter una contraseña, hay que introducir la que pusimos en `MARIADB_ROOT_PASSWORD`"
   ]
  },
  {
   "cell_type": "markdown",
   "metadata": {},
   "source": [
    "## Integración en home assistan"
   ]
  },
  {
   "cell_type": "markdown",
   "metadata": {},
   "source": [
    "Por último abrimos el archivo `configuration.yaml` de home assistant con vscode y añadimos\n",
    "\n",
    "``` yaml\n",
    "recorder:\n",
    "  db_url: mysql://homeassistant:<MARIADB_PASSWORD>@db/hass_db\n",
    "```\n",
    "\n",
    "Acuérdate de cambiar `<MARIADB_PASSWORD>` por la que pusiste en portainer"
   ]
  }
 ],
 "metadata": {
  "language_info": {
   "name": "python"
  },
  "orig_nbformat": 4
 },
 "nbformat": 4,
 "nbformat_minor": 2
}
