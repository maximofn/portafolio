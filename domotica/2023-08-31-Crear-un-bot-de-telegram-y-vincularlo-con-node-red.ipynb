{
 "cells": [
  {
   "cell_type": "markdown",
   "metadata": {},
   "source": [
    "# Crear un bot de telegram y vincularlo con node red"
   ]
  },
  {
   "cell_type": "markdown",
   "metadata": {},
   "source": [
    "## Crear un bot de telegram"
   ]
  },
  {
   "cell_type": "markdown",
   "metadata": {},
   "source": [
    "Para crear un bot de telegram primero tenemos que escribir a [@BotFather](https://t.me/botfather)"
   ]
  },
  {
   "cell_type": "markdown",
   "metadata": {},
   "source": [
    "Una vez se ha iniciado la conversación escribir en el chat el comando `/start`, te responderá con todas las posibles opciones"
   ]
  },
  {
   "cell_type": "markdown",
   "metadata": {},
   "source": [
    "Para crear un nuevo bot hay que escribir `/newbot`, te pedirá que escribas el nombre del bot y a continuación que escribas un username, este tiene que acabar con la palabra `bot`"
   ]
  },
  {
   "cell_type": "markdown",
   "metadata": {},
   "source": [
    "Una vez hayas escrito todo eso te escribirá un mensaje con el token del bot, guárdalo"
   ]
  },
  {
   "cell_type": "markdown",
   "metadata": {},
   "source": [
    "## Obtener el chat ID del bot"
   ]
  },
  {
   "cell_type": "markdown",
   "metadata": {},
   "source": [
    "Una vez creado el bot nos vamos a la página de la API del bot, `https://api.telegram.org/botXXXXXXXX/getUpdates`. Tienes que cambiar `XXXXXXXX` por el token del bot"
   ]
  },
  {
   "cell_type": "markdown",
   "metadata": {},
   "source": [
    "Una vez dentro deberíamos ver algo así `{\"ok\":true,\"result\":[]}`, así que nos vamos a la conversación del bot en telegram (**a la del bot que acabamos de crear, no a la de BotFather**) y escribimos cualquier cosa, en la api aparecerá un nuevo mensaje."
   ]
  },
  {
   "cell_type": "markdown",
   "metadata": {},
   "source": [
    "Tenemos que buscar algo como `{\"id\":xxxxxxxx` el número que aparezca es el chat ID de nuestro bot, guárdalo"
   ]
  },
  {
   "cell_type": "markdown",
   "metadata": {},
   "source": [
    "## Telegram en node red"
   ]
  },
  {
   "cell_type": "markdown",
   "metadata": {},
   "source": [
    "En node red instalamos la paleta `node-red-contrib-telegrambot` y reiniciamos el contenedor de node red"
   ]
  },
  {
   "cell_type": "markdown",
   "metadata": {},
   "source": [
    "Nos aparecerán un montón de nuevos nodos"
   ]
  },
  {
   "cell_type": "markdown",
   "metadata": {},
   "source": [
    "## Obtención de información"
   ]
  },
  {
   "cell_type": "markdown",
   "metadata": {},
   "source": [
    "Vamos a hacer un flujo para escribir a telegram y que nos conteste"
   ]
  },
  {
   "cell_type": "markdown",
   "metadata": {},
   "source": [
    "Cojemos un nodo `command` de telegram. En `Bot` elegimos `Add new telegram bot...` y dentro escribimos\n",
    "\n",
    " * en `Bot-name` ponemos el nombre del bot\n",
    " * en `token` el token del bot\n",
    " * en `ChatIds` la ID del chat del bot\n",
    " * en `Update mode` elegimos `Polling`\n",
    "\n",
    "Le damos a `Update` para terminar de configurar el bot. A continuación, dentro de las opciones del nodo `command`\n",
    "\n",
    " * en `Name` ponemos un nombre identificativo al comando\n",
    " * en `Command` ponemos el comando que queremos configurar para que el bot nos conteste, tiene que empezar por `/`\n",
    " * dejamos habilitada la casilla de `Register at telegram server`\n",
    " * en `Description` ponemos una descripción del comnando"
   ]
  },
  {
   "cell_type": "markdown",
   "metadata": {},
   "source": [
    "A continuación elegimos un nodo `function`, este nodo escribirá el mensaje que se mandará a la API de telegram. En `Name` ponemos nombre de la respuesta y en `On Message` escribimos:\n",
    "\n",
    "```\n",
    "msg.payload = {}\n",
    "msg.payload.type = \"message\"\n",
    "msg.payload.chatId = \"chatID\"\n",
    "msg.payload.content = \"respuesta\"\n",
    "return msg;\n",
    "```\n",
    "\n",
    "Recuerda cambiar `chatID` por el ID del chat del bot y `respuesta` por la respuesta que quieres que escriba el bot"
   ]
  },
  {
   "cell_type": "markdown",
   "metadata": {},
   "source": [
    "Por último cojemos un nodo `sender` de telegram y en `Bot` elegimos el bot de telegram que hemos configurado en el nodo `command`"
   ]
  },
  {
   "cell_type": "markdown",
   "metadata": {},
   "source": [
    "Unimos la salida del nodo `command` con la entrada del nodo `function`, y la salida del nodo `function` con la entrada del nodo `sender`"
   ]
  },
  {
   "cell_type": "markdown",
   "metadata": {},
   "source": [
    "Le damos a `Deploy` y cuando termine de compilar, si en el chat del bot escribimos el comando que configuramos en el nodo `command` nos tendría que responder con la respuesta que escribimos en el nodo `function`"
   ]
  }
 ],
 "metadata": {
  "language_info": {
   "name": "python"
  },
  "orig_nbformat": 4
 },
 "nbformat": 4,
 "nbformat_minor": 2
}
