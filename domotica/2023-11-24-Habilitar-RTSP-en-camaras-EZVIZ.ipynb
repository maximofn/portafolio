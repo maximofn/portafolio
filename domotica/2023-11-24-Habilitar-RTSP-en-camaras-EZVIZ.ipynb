{
 "cells": [
  {
   "cell_type": "markdown",
   "metadata": {},
   "source": [
    "# Habilitar RTSP de cámaras EZVIZ"
   ]
  },
  {
   "cell_type": "markdown",
   "metadata": {},
   "source": [
    "Abrir la aplicación de EZVIZ y pulsar en el botón del usuario\n",
    "\n",
    "![image.png](../images/EZVIZ1.png)"
   ]
  },
  {
   "cell_type": "markdown",
   "metadata": {},
   "source": [
    "A continuación seleccionar `LAN live view`\n",
    "\n",
    "![image.png](../images/EZVIZ2.png)"
   ]
  },
  {
   "cell_type": "markdown",
   "metadata": {},
   "source": [
    "Empezar el escaneo pulsando en el botón `Start scanning`\n",
    "\n",
    "![image.png](../images/EZVIZ3.png)"
   ]
  },
  {
   "cell_type": "markdown",
   "metadata": {},
   "source": [
    "Cuando termine el escaneo aparecerán las cámaras EZVIZ que estén conectadas a la misma red local. Pinchar en la cámara que se quiera habilitar el RTSP\n",
    "\n",
    "![image.png](../images/EZVIZ4.png)"
   ]
  },
  {
   "cell_type": "markdown",
   "metadata": {},
   "source": [
    "Seleccionar `Local Service Settings`\n",
    "\n",
    "![image.png](../images/EZVIZ5.png)"
   ]
  },
  {
   "cell_type": "markdown",
   "metadata": {},
   "source": [
    "Y por último habilitar el RTSP.\n",
    "\n",
    "![image.png](../images/EZVIZ6.png)"
   ]
  }
 ],
 "metadata": {
  "language_info": {
   "name": "python"
  },
  "orig_nbformat": 4
 },
 "nbformat": 4,
 "nbformat_minor": 2
}
