{
 "cells": [
  {
   "cell_type": "markdown",
   "metadata": {},
   "source": [
    "# Habilitar cámaras Tapo"
   ]
  },
  {
   "cell_type": "markdown",
   "metadata": {},
   "source": [
    "## Instalar integración de HACS"
   ]
  },
  {
   "cell_type": "markdown",
   "metadata": {},
   "source": [
    "Ir a HACS y buscar la integración `Tapo: Cameras Control`"
   ]
  },
  {
   "cell_type": "markdown",
   "metadata": {},
   "source": [
    "## Instalar integración"
   ]
  },
  {
   "cell_type": "markdown",
   "metadata": {},
   "source": [
    "Ir a la página de integraciones de Home Assistant, buscar `Tapo: Cameras Control` y agregar la integración."
   ]
  },
  {
   "cell_type": "markdown",
   "metadata": {},
   "source": [
    "A continuación añadir un nuevo dispositivo dándole a `Añadir entrada`"
   ]
  },
  {
   "cell_type": "markdown",
   "metadata": {},
   "source": [
    "Pedirá la IP local de la cámara, introducirla y darle a `Siguiente`"
   ]
  },
  {
   "cell_type": "markdown",
   "metadata": {},
   "source": [
    "A continuación pedirá el usuario y contraseña de la cámara, introducirlos y darle a `Siguiente`"
   ]
  },
  {
   "cell_type": "markdown",
   "metadata": {},
   "source": [
    "A continuación pedirá la contraseña de la cuenta de Tapo, introducirla y darle a `Siguiente`"
   ]
  },
  {
   "cell_type": "markdown",
   "metadata": {},
   "source": [
    "## Código etiqueta cámara"
   ]
  },
  {
   "cell_type": "markdown",
   "metadata": {},
   "source": [
    "Para poder ver la imagen con los botones de movimiento sobre la imagen introducir el siguiente código en la configuración de Home Assistant:\n",
    "\n",
    "``` yaml\n",
    "title: Salón\n",
    "type: picture-glance\n",
    "camera_view: live\n",
    "camera_image: camera.room_camera_sd_stream\n",
    "entities:\n",
    "  - entity: button.room_camera_move_up\n",
    "    tap_action:\n",
    "      action: call-service\n",
    "      service: button.press\n",
    "      service_data:\n",
    "        entity_id: button.room_camera_move_up\n",
    "  - entity: button.room_camera_move_down\n",
    "    tap_action:\n",
    "      action: call-service\n",
    "      service: button.press\n",
    "      service_data:\n",
    "        entity_id: button.room_camera_move_down\n",
    "  - entity: button.room_camera_move_left\n",
    "    tap_action:\n",
    "      action: call-service\n",
    "      service: button.press\n",
    "      service_data:\n",
    "        entity_id: button.room_camera_move_left\n",
    "  - entity: button.room_camera_move_right\n",
    "    tap_action:\n",
    "      action: call-service\n",
    "      service: button.press\n",
    "      service_data:\n",
    "        entity_id: button.room_camera_move_right\n",
    "```"
   ]
  }
 ],
 "metadata": {
  "language_info": {
   "name": "python"
  },
  "orig_nbformat": 4
 },
 "nbformat": 4,
 "nbformat_minor": 2
}
