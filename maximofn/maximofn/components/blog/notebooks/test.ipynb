{
  "cells": [
    {
      "cell_type": "markdown",
      "metadata": {
        "id": "dsaKCKL0IxZl"
      },
      "source": [
        "# Jupyter to html"
      ]
    },
    {
      "cell_type": "markdown",
      "metadata": {
        "id": "Ho_8zgIiI0We"
      },
      "source": [
        "## 1. Resumen"
      ]
    },
    {
      "cell_type": "markdown",
      "metadata": {
        "id": "tT4POPIFNU9M"
      },
      "source": [
        "Vamos a ver una pequeña introducción a la librería de manipulación y analisis de datos `Pandas`. Con ella podremos manejar y procesar datos tabulares que nos ayudará para poder operar con ellos y obtener información de una manera muy valiosa\n",
        "\n",
        "![pandas](https://github.com/DeepMaxFN/DeepMaxFN-blog/blob/master/images/pandas-icon.png?raw=true)"
      ]
    },
    {
      "cell_type": "markdown",
      "metadata": {
        "id": "8JYjaT6-B40Q"
      },
      "source": [
        "## 2. ¿Qué es Pandas?"
      ]
    },
    {
      "cell_type": "markdown",
      "metadata": {
        "id": "fFWFH1s4QWoL"
      },
      "source": [
        "Pandas es una librería de Python que está diseñada para que el trabajo con datos *relacionales* o *etiquetados* sea fácil e intuitivo\n",
        "\n",
        "Pandas está diseñado para muchos tipos diferentes de datos:\n",
        "\n",
        "*   Datos tabulares con columnas de tipos heterogéneos, como en una tabla SQL o una hoja de cálculo de Excel\n",
        "*   Datos de series de tiempo ordenados y desordenados (no necesariamente de frecuencia fija).\n",
        "*   Datos matriciales arbitrarios (homogéneos o heterogéneos) con etiquetas de fila y columna\n",
        "*   Cualquier otra forma de conjuntos de datos observacionales/estadísticos. No es necesario etiquetar los datos en absoluto para colocarlos en una estructura de datos de pandas.\n",
        "\n",
        "Las dos estructuras de datos principales de Pandas son las `Serie`s (unidimensional) y los `DataFrame`s (bidimensional). Pandas está construido sobre NumPy y está destinado a integrarse bien dentro de un entorno informático científico con muchas otras bibliotecas de terceros.\n",
        "\n",
        "Para los científicos de datos, el trabajo con datos generalmente se divide en varias etapas: recopilar y limpiar datos, analizarlos/modelarlos y luego organizar los resultados del análisis en una forma adecuada para trazarlos o mostrarlos en forma de tabla. Pandas es la herramienta ideal para todas estas tareas.\n",
        "\n",
        "Otra característica es que pandas es rápido, muchos de los algoritmos de bajo nivel se han construido en `C`"
      ]
    },
    {
      "cell_type": "markdown",
      "metadata": {
        "id": "s2LkAMGtDGJt"
      },
      "source": [
        "### 2.1. Pandas como `pd`"
      ]
    },
    {
      "cell_type": "markdown",
      "metadata": {
        "id": "99W8bljpDLo_"
      },
      "source": [
        "Generalmente a la hora de importar Pandas se suele importar con el alias de `pd`"
      ]
    },
    {
      "cell_type": "code",
      "execution_count": 1,
      "metadata": {
        "colab": {
          "base_uri": "https://localhost:8080/"
        },
        "id": "NYNGwSloDS1N",
        "outputId": "e25c00ed-aef1-423b-d146-f9ebc46fd869"
      },
      "outputs": [
        {
          "name": "stdout",
          "output_type": "stream",
          "text": [
            "1.1.5\n",
            "1.1.6\n",
            "1.1.7\n"
          ]
        }
      ],
      "source": [
        "import pandas as pd\n",
        "\n",
        "print(pd.__version__)"
      ]
    },
    {
      "cell_type": "code",
      "execution_count": 1,
      "metadata": {},
      "outputs": [
        {
          "ename": "NameError",
          "evalue": "name 'dhasjk' is not defined",
          "output_type": "error",
          "traceback": [
            "\u001b[0;31m---------------------------------------------------------------------------\u001b[0m",
            "\u001b[0;31mNameError\u001b[0m                                 Traceback (most recent call last)",
            "\u001b[0;32m<ipython-input-1-89afc2e15fcd>\u001b[0m in \u001b[0;36m<module>\u001b[0;34m\u001b[0m\n\u001b[0;32m----> 1\u001b[0;31m \u001b[0mdhasjk\u001b[0m\u001b[0;34m\u001b[0m\u001b[0;34m\u001b[0m\u001b[0m\n\u001b[0m",
            "\u001b[0;31mNameError\u001b[0m: name 'dhasjk' is not defined"
          ]
        }
      ],
      "source": [
        "dhasjk"
      ]
    },
    {
      "cell_type": "markdown",
      "metadata": {
        "id": "XX3XZrlITRog"
      },
      "source": [
        "## 3. Estructuras de datos de Pandas"
      ]
    },
    {
      "cell_type": "markdown",
      "metadata": {
        "id": "wj6VxWMrTWvC"
      },
      "source": [
        "En Pandas existen dos tipos de estructuras de datos: las `Serie`s y los `DataFrame`s"
      ]
    },
    {
      "cell_type": "markdown",
      "metadata": {
        "id": "wNCg6NVuTV4H"
      },
      "source": [
        "### 3.1. Series"
      ]
    },
    {
      "cell_type": "markdown",
      "metadata": {
        "id": "zpBARsR2Thdg"
      },
      "source": [
        "El tipo de dato `Serie` es una matriz etiquetada unidimensional capaz de contener cualquier tipo de datos (enteros, cadenas, números de punto flotante, objetos Python, etc.). Están divididas en índices."
      ]
    },
    {
      "cell_type": "markdown",
      "metadata": {
        "id": "DjZt4zQQT1Vt"
      },
      "source": [
        "Para crear un tipo de dato `Serie` la forma más común es\n",
        "\n",
        "``` python\n",
        "serie = pd.Series(data, index=index)\n",
        "```\n",
        "\n",
        "Donde `data` puede ser\n",
        "* Un diccionario\n",
        "* Una lista o tupla\n",
        "* Un ndarray de Numpy\n",
        "* Un valor escalar"
      ]
    },
    {
      "cell_type": "markdown",
      "metadata": {
        "id": "GCgjOsCWU0FJ"
      },
      "source": [
        "#### 3.1.1. Series desde un diccionario"
      ]
    },
    {
      "cell_type": "code",
      "execution_count": null,
      "metadata": {
        "colab": {
          "base_uri": "https://localhost:8080/"
        },
        "id": "cypVGkBsU5T7",
        "outputId": "2fb0b533-1f92-46f6-92b2-eed18f4bbaed"
      },
      "outputs": [
        {
          "data": {
            "text/plain": [
              "b    1\n",
              "a    0\n",
              "c    2\n",
              "dtype: int64"
            ]
          },
          "execution_count": 3,
          "metadata": {
            "tags": []
          },
          "output_type": "execute_result"
        }
      ],
      "source": [
        "diccionario = {\"b\": 1, \"a\": 0, \"c\": 2}\n",
        "\n",
        "serie = pd.Series(diccionario)\n",
        "serie"
      ]
    },
    {
      "cell_type": "markdown",
      "metadata": {
        "id": "02VO51o-ZJMP"
      },
      "source": [
        "### 3.2. DataFrames"
      ]
    },
    {
      "cell_type": "markdown",
      "metadata": {
        "id": "j3qlelNJZUj-"
      },
      "source": [
        "Un `DataFrame` es una estructura de datos etiquetada y bidimensional, con columnas de tipos potencialmente diferentes, es decir, en una columna puede haber datos de tipo entero, en otra columna datos de tipo string, etc. Puede pensar en ello como una hoja de cálculo o una tabla SQL, o un diccionario de objetos `Serie`s. \n",
        "\n",
        "Es el objeto pandas más utilizado. Al igual que las `Serie`s, los `DataFrame`s aceptan muchos tipos diferentes de entrada:"
      ]
    },
    {
      "cell_type": "markdown",
      "metadata": {
        "id": "kjvxblpJbCYo"
      },
      "source": [
        "Junto con los datos, opcionalmente puede pasar argumentos de índice (etiquetas de fila) y columnas (etiquetas de columna). Si pasa un índice y/o columnas, está garantizando el índice y/o columnas del `DataFrame` resultante. Por lo tanto, un diccionario de `Serie`s más un índice específico descartará todos los datos que no coincidan con el índice pasado"
      ]
    },
    {
      "cell_type": "markdown",
      "metadata": {
        "id": "8YJG7n9wbMsk"
      },
      "source": [
        "Si no se pasan las etiquetas de los ejes, se construirán a partir de los datos de entrada basándose en reglas de sentido común."
      ]
    },
    {
      "cell_type": "markdown",
      "metadata": {
        "id": "8B3WyESebVaA"
      },
      "source": [
        "#### 3.2.1. DataFrames desde un diccionario de Series"
      ]
    },
    {
      "cell_type": "markdown",
      "metadata": {
        "id": "WZIXLApCbaST"
      },
      "source": [
        "Si se pasa un diccionario con `Serie`s se creará el `DataFrame` con tantas columnas como `Serie`s tenga el diccionario"
      ]
    },
    {
      "cell_type": "code",
      "execution_count": null,
      "metadata": {
        "colab": {
          "base_uri": "https://localhost:8080/",
          "height": 173
        },
        "id": "Xso6vlCgbtF_",
        "outputId": "93f83ce8-b9a0-48f9-d022-387d73f4799a"
      },
      "outputs": [
        {
          "data": {
            "text/html": [
              "<div>\n",
              "<style scoped>\n",
              "    .dataframe tbody tr th:only-of-type {\n",
              "        vertical-align: middle;\n",
              "    }\n",
              "\n",
              "    .dataframe tbody tr th {\n",
              "        vertical-align: top;\n",
              "    }\n",
              "\n",
              "    .dataframe thead th {\n",
              "        text-align: right;\n",
              "    }\n",
              "</style>\n",
              "<table border=\"1\" class=\"dataframe\">\n",
              "  <thead>\n",
              "    <tr style=\"text-align: right;\">\n",
              "      <th></th>\n",
              "      <th>uno</th>\n",
              "      <th>dos</th>\n",
              "    </tr>\n",
              "  </thead>\n",
              "  <tbody>\n",
              "    <tr>\n",
              "      <th>0</th>\n",
              "      <td>1.0</td>\n",
              "      <td>4.0</td>\n",
              "    </tr>\n",
              "    <tr>\n",
              "      <th>1</th>\n",
              "      <td>2.0</td>\n",
              "      <td>5.0</td>\n",
              "    </tr>\n",
              "    <tr>\n",
              "      <th>2</th>\n",
              "      <td>3.0</td>\n",
              "      <td>6.0</td>\n",
              "    </tr>\n",
              "    <tr>\n",
              "      <th>3</th>\n",
              "      <td>NaN</td>\n",
              "      <td>7.0</td>\n",
              "    </tr>\n",
              "  </tbody>\n",
              "</table>\n",
              "</div>"
            ],
            "text/plain": [
              "   uno  dos\n",
              "0  1.0  4.0\n",
              "1  2.0  5.0\n",
              "2  3.0  6.0\n",
              "3  NaN  7.0"
            ]
          },
          "execution_count": 12,
          "metadata": {
            "tags": []
          },
          "output_type": "execute_result"
        }
      ],
      "source": [
        "diccionario = {\n",
        "    \"uno\": pd.Series([1.0, 2.0, 3.0]),\n",
        "    \"dos\": pd.Series([4.0, 5.0, 6.0, 7.0])\n",
        "    }\n",
        "\n",
        "dataframe = pd.DataFrame(diccionario)\n",
        "dataframe"
      ]
    },
    {
      "cell_type": "markdown",
      "metadata": {
        "id": "f2WWL1c_dqzA"
      },
      "source": [
        "## 4. Exploración de un DataFrame"
      ]
    },
    {
      "cell_type": "markdown",
      "metadata": {
        "id": "sYeTfaA2n3sF"
      },
      "source": [
        "Cuando un `DataFrame` es muy grande no se puede representar entero"
      ]
    },
    {
      "cell_type": "code",
      "execution_count": null,
      "metadata": {
        "colab": {
          "base_uri": "https://localhost:8080/",
          "height": 402
        },
        "id": "nLjNOOrfnCpY",
        "outputId": "4fbc66d5-2125-43e3-c0e1-e0f6b2ffc1db"
      },
      "outputs": [
        {
          "data": {
            "text/html": [
              "<div>\n",
              "<style scoped>\n",
              "    .dataframe tbody tr th:only-of-type {\n",
              "        vertical-align: middle;\n",
              "    }\n",
              "\n",
              "    .dataframe tbody tr th {\n",
              "        vertical-align: top;\n",
              "    }\n",
              "\n",
              "    .dataframe thead th {\n",
              "        text-align: right;\n",
              "    }\n",
              "</style>\n",
              "<table border=\"1\" class=\"dataframe\">\n",
              "  <thead>\n",
              "    <tr style=\"text-align: right;\">\n",
              "      <th></th>\n",
              "      <th>longitude</th>\n",
              "      <th>latitude</th>\n",
              "      <th>housing_median_age</th>\n",
              "      <th>total_rooms</th>\n",
              "      <th>total_bedrooms</th>\n",
              "      <th>population</th>\n",
              "      <th>households</th>\n",
              "      <th>median_income</th>\n",
              "      <th>median_house_value</th>\n",
              "    </tr>\n",
              "  </thead>\n",
              "  <tbody>\n",
              "    <tr>\n",
              "      <th>0</th>\n",
              "      <td>-114.31</td>\n",
              "      <td>34.19</td>\n",
              "      <td>15.0</td>\n",
              "      <td>5612.0</td>\n",
              "      <td>1283.0</td>\n",
              "      <td>1015.0</td>\n",
              "      <td>472.0</td>\n",
              "      <td>1.4936</td>\n",
              "      <td>66900.0</td>\n",
              "    </tr>\n",
              "    <tr>\n",
              "      <th>1</th>\n",
              "      <td>-114.47</td>\n",
              "      <td>34.40</td>\n",
              "      <td>19.0</td>\n",
              "      <td>7650.0</td>\n",
              "      <td>1901.0</td>\n",
              "      <td>1129.0</td>\n",
              "      <td>463.0</td>\n",
              "      <td>1.8200</td>\n",
              "      <td>80100.0</td>\n",
              "    </tr>\n",
              "    <tr>\n",
              "      <th>2</th>\n",
              "      <td>-114.56</td>\n",
              "      <td>33.69</td>\n",
              "      <td>17.0</td>\n",
              "      <td>720.0</td>\n",
              "      <td>174.0</td>\n",
              "      <td>333.0</td>\n",
              "      <td>117.0</td>\n",
              "      <td>1.6509</td>\n",
              "      <td>85700.0</td>\n",
              "    </tr>\n",
              "    <tr>\n",
              "      <th>3</th>\n",
              "      <td>-114.57</td>\n",
              "      <td>33.64</td>\n",
              "      <td>14.0</td>\n",
              "      <td>1501.0</td>\n",
              "      <td>337.0</td>\n",
              "      <td>515.0</td>\n",
              "      <td>226.0</td>\n",
              "      <td>3.1917</td>\n",
              "      <td>73400.0</td>\n",
              "    </tr>\n",
              "    <tr>\n",
              "      <th>4</th>\n",
              "      <td>-114.57</td>\n",
              "      <td>33.57</td>\n",
              "      <td>20.0</td>\n",
              "      <td>1454.0</td>\n",
              "      <td>326.0</td>\n",
              "      <td>624.0</td>\n",
              "      <td>262.0</td>\n",
              "      <td>1.9250</td>\n",
              "      <td>65500.0</td>\n",
              "    </tr>\n",
              "    <tr>\n",
              "      <th>...</th>\n",
              "      <td>...</td>\n",
              "      <td>...</td>\n",
              "      <td>...</td>\n",
              "      <td>...</td>\n",
              "      <td>...</td>\n",
              "      <td>...</td>\n",
              "      <td>...</td>\n",
              "      <td>...</td>\n",
              "      <td>...</td>\n",
              "    </tr>\n",
              "    <tr>\n",
              "      <th>16995</th>\n",
              "      <td>-124.26</td>\n",
              "      <td>40.58</td>\n",
              "      <td>52.0</td>\n",
              "      <td>2217.0</td>\n",
              "      <td>394.0</td>\n",
              "      <td>907.0</td>\n",
              "      <td>369.0</td>\n",
              "      <td>2.3571</td>\n",
              "      <td>111400.0</td>\n",
              "    </tr>\n",
              "    <tr>\n",
              "      <th>16996</th>\n",
              "      <td>-124.27</td>\n",
              "      <td>40.69</td>\n",
              "      <td>36.0</td>\n",
              "      <td>2349.0</td>\n",
              "      <td>528.0</td>\n",
              "      <td>1194.0</td>\n",
              "      <td>465.0</td>\n",
              "      <td>2.5179</td>\n",
              "      <td>79000.0</td>\n",
              "    </tr>\n",
              "    <tr>\n",
              "      <th>16997</th>\n",
              "      <td>-124.30</td>\n",
              "      <td>41.84</td>\n",
              "      <td>17.0</td>\n",
              "      <td>2677.0</td>\n",
              "      <td>531.0</td>\n",
              "      <td>1244.0</td>\n",
              "      <td>456.0</td>\n",
              "      <td>3.0313</td>\n",
              "      <td>103600.0</td>\n",
              "    </tr>\n",
              "    <tr>\n",
              "      <th>16998</th>\n",
              "      <td>-124.30</td>\n",
              "      <td>41.80</td>\n",
              "      <td>19.0</td>\n",
              "      <td>2672.0</td>\n",
              "      <td>552.0</td>\n",
              "      <td>1298.0</td>\n",
              "      <td>478.0</td>\n",
              "      <td>1.9797</td>\n",
              "      <td>85800.0</td>\n",
              "    </tr>\n",
              "    <tr>\n",
              "      <th>16999</th>\n",
              "      <td>-124.35</td>\n",
              "      <td>40.54</td>\n",
              "      <td>52.0</td>\n",
              "      <td>1820.0</td>\n",
              "      <td>300.0</td>\n",
              "      <td>806.0</td>\n",
              "      <td>270.0</td>\n",
              "      <td>3.0147</td>\n",
              "      <td>94600.0</td>\n",
              "    </tr>\n",
              "  </tbody>\n",
              "</table>\n",
              "<p>17000 rows × 9 columns</p>\n",
              "</div>"
            ],
            "text/plain": [
              "       longitude  latitude  ...  median_income  median_house_value\n",
              "0        -114.31     34.19  ...         1.4936             66900.0\n",
              "1        -114.47     34.40  ...         1.8200             80100.0\n",
              "2        -114.56     33.69  ...         1.6509             85700.0\n",
              "3        -114.57     33.64  ...         3.1917             73400.0\n",
              "4        -114.57     33.57  ...         1.9250             65500.0\n",
              "...          ...       ...  ...            ...                 ...\n",
              "16995    -124.26     40.58  ...         2.3571            111400.0\n",
              "16996    -124.27     40.69  ...         2.5179             79000.0\n",
              "16997    -124.30     41.84  ...         3.0313            103600.0\n",
              "16998    -124.30     41.80  ...         1.9797             85800.0\n",
              "16999    -124.35     40.54  ...         3.0147             94600.0\n",
              "\n",
              "[17000 rows x 9 columns]"
            ]
          },
          "execution_count": 3,
          "metadata": {
            "tags": []
          },
          "output_type": "execute_result"
        }
      ],
      "source": [
        "california_housing_train = pd.read_csv(\"/content/sample_data/california_housing_train.csv\")\n",
        "california_housing_train"
      ]
    },
    {
      "cell_type": "markdown",
      "metadata": {
        "id": "vw4TFLC0m2M1"
      },
      "source": [
        "### 4.3. Información del DataFrame"
      ]
    },
    {
      "cell_type": "markdown",
      "metadata": {
        "id": "68m2eqbWo9--"
      },
      "source": [
        "Otro método muy util es `info()` que nos da información del `DataFrame`"
      ]
    },
    {
      "cell_type": "code",
      "execution_count": null,
      "metadata": {
        "colab": {
          "base_uri": "https://localhost:8080/"
        },
        "id": "KN32c6oipERP",
        "outputId": "7c03e8fc-bb22-4b9d-d152-b2325122526f"
      },
      "outputs": [
        {
          "name": "stdout",
          "output_type": "stream",
          "text": [
            "<class 'pandas.core.frame.DataFrame'>\n",
            "RangeIndex: 17000 entries, 0 to 16999\n",
            "Data columns (total 9 columns):\n",
            " #   Column              Non-Null Count  Dtype  \n",
            "---  ------              --------------  -----  \n",
            " 0   longitude           17000 non-null  float64\n",
            " 1   latitude            17000 non-null  float64\n",
            " 2   housing_median_age  17000 non-null  float64\n",
            " 3   total_rooms         17000 non-null  float64\n",
            " 4   total_bedrooms      17000 non-null  float64\n",
            " 5   population          17000 non-null  float64\n",
            " 6   households          17000 non-null  float64\n",
            " 7   median_income       17000 non-null  float64\n",
            " 8   median_house_value  17000 non-null  float64\n",
            "dtypes: float64(9)\n",
            "memory usage: 1.2 MB\n"
          ]
        }
      ],
      "source": [
        "california_housing_train.info()"
      ]
    },
    {
      "cell_type": "markdown",
      "metadata": {
        "id": "Z01MBONBoj00"
      },
      "source": [
        "### 4.4. Filas y columnas DataFrame"
      ]
    },
    {
      "cell_type": "markdown",
      "metadata": {
        "id": "OcM7J5r1dxB4"
      },
      "source": [
        "Se pueden obtener los índices y las columnas de un `DataFrame` mediante los métodos `index` y `columns`"
      ]
    },
    {
      "cell_type": "code",
      "execution_count": null,
      "metadata": {
        "colab": {
          "base_uri": "https://localhost:8080/"
        },
        "id": "SNYWQoxAd-a8",
        "outputId": "85c37313-b3a7-480b-a11a-a7540490fc10"
      },
      "outputs": [
        {
          "name": "stdout",
          "output_type": "stream",
          "text": [
            "El DataFrame tiene los índices\n",
            "\tIndex(['a', 'b', 'c', 'd'], dtype='object')\n",
            "\n",
            "El DataFrame tiene las columnas\n",
            "\tIndex(['uno', 'dos'], dtype='object')\n"
          ]
        }
      ],
      "source": [
        "diccionario = {\n",
        "    \"uno\": pd.Series([1.0, 2.0, 3.0], index=[\"a\", \"b\", \"c\"]),\n",
        "    \"dos\": pd.Series([4.0, 5.0, 6.0, 7.0], index=[\"a\", \"b\", \"c\", \"d\"])\n",
        "    }\n",
        "\n",
        "dataframe = pd.DataFrame(diccionario)\n",
        "\n",
        "indices = dataframe.index\n",
        "columnas = dataframe.columns\n",
        "print(f\"El DataFrame tiene los índices\\n\\t{indices}\\n\")\n",
        "print(f\"El DataFrame tiene las columnas\\n\\t{columnas}\")"
      ]
    },
    {
      "cell_type": "markdown",
      "metadata": {
        "id": "i5qiPsE_rh_y"
      },
      "source": [
        "## 10. Lectura de datos de fuentes externas"
      ]
    },
    {
      "cell_type": "markdown",
      "metadata": {
        "id": "Fml3mqUprzPb"
      },
      "source": [
        "Una de las mayores fortalezas de Pandas es poder leer datos de archivos, por lo que no es necesario crearse un `DataFrame` con los datos que se quieren procesar, sino que se pueden leer de un archivo\n",
        "\n",
        "De la misma manera que se pueden crear `DataFrame`s de archivos externos, también se pueden guardar `DataFrame`s en archivos, para así crearte tu propio set de datos, configurarlo de la manera que quieras y guardarlo en un archivo para poder usarlo más adelante\n",
        "\n",
        "En la siguiente tabla se muestran las funciones para leer y escribir archivos de distintos formatos"
      ]
    },
    {
      "cell_type": "markdown",
      "metadata": {
        "id": "bDdZFrIXtQso"
      },
      "source": [
        "|Fromato|Tipo de archivo|Función de lectura|Función de escritura|\n",
        "|---|---|---|---|\n",
        "|texto|CSV|[read_csv](https://pandas.pydata.org/pandas-docs/stable/user_guide/io.html#io-read-csv-table)|[to_csv](https://pandas.pydata.org/pandas-docs/stable/user_guide/io.html#io-store-in-csv)|\n",
        "|texto|Fixed-Width Text File|[read_fwf](https://pandas.pydata.org/pandas-docs/stable/user_guide/io.html#io-fwf-reader)||\n",
        "|texto|JSON|[read_json](https://pandas.pydata.org/pandas-docs/stable/user_guide/io.html#io-json-reader)|[to_json](https://pandas.pydata.org/pandas-docs/stable/user_guide/io.html#io-json-writer)|\n",
        "|texto|HTML|[read_html](https://pandas.pydata.org/pandas-docs/stable/user_guide/io.html#io-read-html)|[to_html](https://pandas.pydata.org/pandas-docs/stable/user_guide/io.html#io-html)|\n",
        "|texto|Local clipboard|[read_clipboard](https://pandas.pydata.org/pandas-docs/stable/user_guide/io.html#io-clipboard)|[to_clipboard](https://pandas.pydata.org/pandas-docs/stable/user_guide/io.html#io-clipboard)|\n",
        "|binary|MS Excel|[read_excel](https://pandas.pydata.org/pandas-docs/stable/user_guide/io.html#io-excel-reader)|[to_excel](https://pandas.pydata.org/pandas-docs/stable/user_guide/io.html#io-excel-writer)|\n",
        "|binary|OpenDocument|[read_excel](https://pandas.pydata.org/pandas-docs/stable/user_guide/io.html#io-ods)|\n",
        "|binary|HDF5 Format|[read_hdf](https://pandas.pydata.org/pandas-docs/stable/user_guide/io.html#io-hdf5)|[to_hdf](https://pandas.pydata.org/pandas-docs/stable/user_guide/io.html#io-hdf5)|\n",
        "|binary|Feather Format|[read_feather](https://pandas.pydata.org/pandas-docs/stable/user_guide/io.html#io-feather)|[to_feather](https://pandas.pydata.org/pandas-docs/stable/user_guide/io.html#io-feather)|\n",
        "|binary|Parquet Format|[read_parquet](https://pandas.pydata.org/pandas-docs/stable/user_guide/io.html#io-parquet)|[to_parquet](https://pandas.pydata.org/pandas-docs/stable/user_guide/io.html#io-parquet)|\n",
        "|binary|ORC Format|[read_orc](https://pandas.pydata.org/pandas-docs/stable/user_guide/io.html#io-orc)|\n",
        "|binary|Msgpack|[read_msgpack](https://pandas.pydata.org/pandas-docs/stable/user_guide/io.html#io-msgpack)|[to_msgpack](https://pandas.pydata.org/pandas-docs/stable/user_guide/io.html#io-msgpack)|\n",
        "|binary|Stata|[read_stata](https://pandas.pydata.org/pandas-docs/stable/user_guide/io.html#io-stata-reader)|[to_stata](https://pandas.pydata.org/pandas-docs/stable/user_guide/io.html#io-stata-writer)|\n",
        "|binary|SAS|[read_sas](https://pandas.pydata.org/pandas-docs/stable/user_guide/io.html#io-sas-reader)|\n",
        "|binary|SPSS|[read_spss](https://pandas.pydata.org/pandas-docs/stable/user_guide/io.html#io-spss-reader)|\n",
        "|binary|Python Pickle Format|[read_pickle](https://pandas.pydata.org/pandas-docs/stable/user_guide/io.html#io-pickle)|[to_pickle](https://pandas.pydata.org/pandas-docs/stable/user_guide/io.html#io-pickle)|\n",
        "|SQL|SQL|[read_sql](https://pandas.pydata.org/pandas-docs/stable/user_guide/io.html#io-sql)|[to_sql](https://pandas.pydata.org/pandas-docs/stable/user_guide/io.html#io-sql)|\n",
        "|SQL|Google BigQuery|[read_gbq](https://pandas.pydata.org/pandas-docs/stable/user_guide/io.html#io-bigquery)|[to_gbq](https://pandas.pydata.org/pandas-docs/stable/user_guide/io.html#io-bigquery)|"
      ]
    },
    {
      "cell_type": "markdown",
      "metadata": {
        "id": "JetfgdfL08VA"
      },
      "source": [
        "> Tip: Poniendo la variable `inplace=True` se modifica el `DataFrame` sobre el que se está operando, así no hace falta escribir\n",
        "``` Python\n",
        "dataframe = dataframe.fillna(value=5.5)\n",
        "```"
      ]
    },
    {
      "cell_type": "markdown",
      "metadata": {
        "id": "lFUVdqldPYgj"
      },
      "source": [
        "## 16. Gráficos"
      ]
    },
    {
      "cell_type": "markdown",
      "metadata": {
        "id": "yDtiuPQtUnr0"
      },
      "source": [
        "Pandas ofrece la posibilidad de representar los datos de nuestros `DataFrame`s en gráficos para poder obtener una mejor representación de ello. Para ello hace uso de la librería `matplotlib` que veremos en el siguiente post"
      ]
    },
    {
      "cell_type": "markdown",
      "metadata": {
        "id": "GakM81ydXEE1"
      },
      "source": [
        "### 16.1. Gráfica básica"
      ]
    },
    {
      "cell_type": "markdown",
      "metadata": {
        "id": "7MC--SqnVG8r"
      },
      "source": [
        "Para representar los datos en una gráfica la manera más fácil es usar el método `plot()`"
      ]
    },
    {
      "cell_type": "code",
      "execution_count": 13,
      "metadata": {
        "colab": {
          "base_uri": "https://localhost:8080/",
          "height": 294
        },
        "id": "fAD7UqSlU7Um",
        "outputId": "f1a45c9b-88d9-4b26-8b14-8ce71d4dd88c"
      },
      "outputs": [
        {
          "data": {
            "text/plain": [
              "<matplotlib.axes._subplots.AxesSubplot at 0x7fc5666b9990>"
            ]
          },
          "execution_count": 13,
          "metadata": {
            "tags": []
          },
          "output_type": "execute_result"
        },
        {
          "data": {
            "image/png": "[encoded data removed]",
            "text/plain": [
              "<Figure size 432x288 with 1 Axes>"
            ]
          },
          "metadata": {
            "needs_background": "light",
            "tags": []
          },
          "output_type": "display_data"
        }
      ],
      "source": [
        "serie = pd.Series(np.random.randn(1000), index=pd.date_range(\"1/1/2000\", periods=1000))\n",
        "serie = serie.cumsum()\n",
        "\n",
        "serie.plot()"
      ]
    },
    {
      "cell_type": "markdown",
      "metadata": {
        "id": "ix0hdjruVnBs"
      },
      "source": [
        "En el caso de tener un `DataFrame` el método `plot()` representará cada una de las columnas del `DataFrame`"
      ]
    },
    {
      "cell_type": "code",
      "execution_count": 15,
      "metadata": {
        "colab": {
          "base_uri": "https://localhost:8080/",
          "height": 294
        },
        "id": "Nnt6mFwUVubs",
        "outputId": "7850d29f-c571-477c-fc49-3ba3d66ea50a"
      },
      "outputs": [
        {
          "data": {
            "text/plain": [
              "<matplotlib.axes._subplots.AxesSubplot at 0x7fc5663ce610>"
            ]
          },
          "execution_count": 15,
          "metadata": {
            "tags": []
          },
          "output_type": "execute_result"
        },
        {
          "data": {
            "image/png": "[encoded data removed]",
            "text/plain": [
              "<Figure size 432x288 with 1 Axes>"
            ]
          },
          "metadata": {
            "needs_background": "light",
            "tags": []
          },
          "output_type": "display_data"
        }
      ],
      "source": [
        "dataframe = pd.DataFrame(\n",
        "    np.random.randn(1000, 4), index=ts.index, columns=[\"A\", \"B\", \"C\", \"D\"]\n",
        ")\n",
        "dataframe = dataframe.cumsum()\n",
        "\n",
        "dataframe.plot()"
      ]
    },
    {
      "cell_type": "markdown",
      "metadata": {
        "id": "97N6uly5XMUN"
      },
      "source": [
        "### 16.2. Diagrama de barras vertical"
      ]
    },
    {
      "cell_type": "markdown",
      "metadata": {
        "id": "8MXk6R_bWwQf"
      },
      "source": [
        "Hay más métodos de crear gráficos, como el diagrama de barras vertical mediante `plot.bar()`"
      ]
    },
    {
      "cell_type": "code",
      "execution_count": 19,
      "metadata": {
        "colab": {
          "base_uri": "https://localhost:8080/",
          "height": 262
        },
        "id": "HCfWTKN_WLUE",
        "outputId": "c13fac72-afc0-4235-85d9-718918dfd3ed"
      },
      "outputs": [
        {
          "data": {
            "image/png": "[encoded data removed]",
            "text/plain": [
              "<Figure size 432x288 with 1 Axes>"
            ]
          },
          "metadata": {
            "needs_background": "light",
            "tags": []
          },
          "output_type": "display_data"
        }
      ],
      "source": [
        "dataframe = pd.DataFrame(np.random.rand(10, 4), columns=[\"a\", \"b\", \"c\", \"d\"])\n",
        "dataframe.plot.bar()"
      ]
    },
    {
      "cell_type": "markdown",
      "metadata": {
        "id": "WAb_04nXXAQs"
      },
      "source": [
        "Si queremos apilar las barras lo indicamos mediante la variable `stacked=True`"
      ]
    },
    {
      "cell_type": "code",
      "execution_count": 20,
      "metadata": {
        "colab": {
          "base_uri": "https://localhost:8080/",
          "height": 279
        },
        "id": "vYSyiXA4XcYv",
        "outputId": "79443237-bdb7-4e1e-b3bd-e241f7c6bd4f"
      },
      "outputs": [
        {
          "data": {
            "text/plain": [
              "<matplotlib.axes._subplots.AxesSubplot at 0x7fc56265c5d0>"
            ]
          },
          "execution_count": 20,
          "metadata": {
            "tags": []
          },
          "output_type": "execute_result"
        },
        {
          "data": {
            "image/png": "[encoded data removed]",
            "text/plain": [
              "<Figure size 432x288 with 1 Axes>"
            ]
          },
          "metadata": {
            "needs_background": "light",
            "tags": []
          },
          "output_type": "display_data"
        }
      ],
      "source": [
        "dataframe.plot.bar(stacked=True)"
      ]
    },
    {
      "cell_type": "markdown",
      "metadata": {
        "id": "9CsP0mBuXkbL"
      },
      "source": [
        "### 16.3. Diagrama de barras horizontal"
      ]
    },
    {
      "cell_type": "markdown",
      "metadata": {
        "id": "Pb-37eGoXkbL"
      },
      "source": [
        "Para crear un diagrama de barras horizontal usamos `plot.barh()`"
      ]
    },
    {
      "cell_type": "code",
      "execution_count": 21,
      "metadata": {
        "colab": {
          "base_uri": "https://localhost:8080/",
          "height": 282
        },
        "id": "nIwS05kCXkbM",
        "outputId": "0513d8a6-b181-4c9e-d5e2-ceba2269d671"
      },
      "outputs": [
        {
          "data": {
            "text/plain": [
              "<matplotlib.axes._subplots.AxesSubplot at 0x7fc56247fa10>"
            ]
          },
          "execution_count": 21,
          "metadata": {
            "tags": []
          },
          "output_type": "execute_result"
        },
        {
          "data": {
            "image/png": "[encoded data removed]",
            "text/plain": [
              "<Figure size 432x288 with 1 Axes>"
            ]
          },
          "metadata": {
            "needs_background": "light",
            "tags": []
          },
          "output_type": "display_data"
        }
      ],
      "source": [
        "dataframe.plot.barh()"
      ]
    },
    {
      "cell_type": "markdown",
      "metadata": {
        "id": "WcNEkzjOXkbM"
      },
      "source": [
        "Si queremos apilar las barras lo indicamos mediante la variable `stacked=True`"
      ]
    },
    {
      "cell_type": "code",
      "execution_count": 22,
      "metadata": {
        "colab": {
          "base_uri": "https://localhost:8080/",
          "height": 282
        },
        "id": "tunsggUyXkbM",
        "outputId": "714a48de-3fdc-4840-f8d3-1d9fae712fef"
      },
      "outputs": [
        {
          "data": {
            "text/plain": [
              "<matplotlib.axes._subplots.AxesSubplot at 0x7fc562d1d2d0>"
            ]
          },
          "execution_count": 22,
          "metadata": {
            "tags": []
          },
          "output_type": "execute_result"
        },
        {
          "data": {
            "image/png": "[encoded data removed]",
            "text/plain": [
              "<Figure size 432x288 with 1 Axes>"
            ]
          },
          "metadata": {
            "needs_background": "light",
            "tags": []
          },
          "output_type": "display_data"
        }
      ],
      "source": [
        "dataframe.plot.barh(stacked=True)"
      ]
    },
    {
      "cell_type": "markdown",
      "metadata": {
        "id": "Gs2V3BwUX1fn"
      },
      "source": [
        "### 16.4. Histograma"
      ]
    },
    {
      "cell_type": "markdown",
      "metadata": {
        "id": "rU6OnT3VX1fv"
      },
      "source": [
        "Para crear un histograma usamos `plot.hist()`"
      ]
    },
    {
      "cell_type": "code",
      "execution_count": 28,
      "metadata": {
        "colab": {
          "base_uri": "https://localhost:8080/",
          "height": 282
        },
        "id": "b6Ejqe0bX1fv",
        "outputId": "4278db8a-54c6-4340-c35a-501c62bd7b85"
      },
      "outputs": [
        {
          "data": {
            "text/plain": [
              "<matplotlib.axes._subplots.AxesSubplot at 0x7fc5650711d0>"
            ]
          },
          "execution_count": 28,
          "metadata": {
            "tags": []
          },
          "output_type": "execute_result"
        },
        {
          "data": {
            "image/png": "[encoded data removed]",
            "text/plain": [
              "<Figure size 432x288 with 1 Axes>"
            ]
          },
          "metadata": {
            "needs_background": "light",
            "tags": []
          },
          "output_type": "display_data"
        }
      ],
      "source": [
        "dataframe = pd.DataFrame(\n",
        "    {\n",
        "        \"a\": np.random.randn(1000) + 1,\n",
        "        \"b\": np.random.randn(1000),\n",
        "        \"c\": np.random.randn(1000) - 1,\n",
        "    }\n",
        ")\n",
        "\n",
        "dataframe.plot.hist(alpha=0.5)"
      ]
    },
    {
      "cell_type": "markdown",
      "metadata": {
        "id": "G4PINDvlX1fw"
      },
      "source": [
        "Si queremos apilar las barras lo indicamos mediante la variable `stacked=True`"
      ]
    },
    {
      "cell_type": "code",
      "execution_count": 29,
      "metadata": {
        "colab": {
          "base_uri": "https://localhost:8080/",
          "height": 282
        },
        "id": "UelmXHpRX1fw",
        "outputId": "bfd6078d-9df1-4bd1-8cde-6fd0cddbe6a3"
      },
      "outputs": [
        {
          "data": {
            "text/plain": [
              "<matplotlib.axes._subplots.AxesSubplot at 0x7fc5625779d0>"
            ]
          },
          "execution_count": 29,
          "metadata": {
            "tags": []
          },
          "output_type": "execute_result"
        },
        {
          "data": {
            "image/png": "[encoded data removed]",
            "text/plain": [
              "<Figure size 432x288 with 1 Axes>"
            ]
          },
          "metadata": {
            "needs_background": "light",
            "tags": []
          },
          "output_type": "display_data"
        }
      ],
      "source": [
        "dataframe.plot.hist(alpha=0.5, stacked=True)"
      ]
    },
    {
      "cell_type": "markdown",
      "metadata": {
        "id": "_FWdnKrxYr7N"
      },
      "source": [
        "Si queremos añadir más columnas, es decir, si queremos que el histograma sea más informativo o preciso, lo indicamos mediante la variable `bins`"
      ]
    },
    {
      "cell_type": "code",
      "execution_count": 30,
      "metadata": {
        "colab": {
          "base_uri": "https://localhost:8080/",
          "height": 282
        },
        "id": "9JDF44N4YpWO",
        "outputId": "56c7bb20-3830-4f45-86de-815e0533ab47"
      },
      "outputs": [
        {
          "data": {
            "text/plain": [
              "<matplotlib.axes._subplots.AxesSubplot at 0x7fc562324990>"
            ]
          },
          "execution_count": 30,
          "metadata": {
            "tags": []
          },
          "output_type": "execute_result"
        },
        {
          "data": {
            "image/png": "[encoded data removed]",
            "text/plain": [
              "<Figure size 432x288 with 1 Axes>"
            ]
          },
          "metadata": {
            "needs_background": "light",
            "tags": []
          },
          "output_type": "display_data"
        }
      ],
      "source": [
        "dataframe.plot.hist(alpha=0.5, stacked=True, bins=20)"
      ]
    },
    {
      "cell_type": "markdown",
      "metadata": {
        "id": "bN8ugQ0rZDa4"
      },
      "source": [
        "### 16.5. Diagramas de velas"
      ]
    },
    {
      "cell_type": "markdown",
      "metadata": {
        "id": "qIekQMR6ZDa4"
      },
      "source": [
        "Para crear un diagrama de velas usamos `plot.box()`"
      ]
    },
    {
      "cell_type": "code",
      "execution_count": 34,
      "metadata": {
        "colab": {
          "base_uri": "https://localhost:8080/",
          "height": 282
        },
        "id": "4JzLyspDZDa4",
        "outputId": "62472f10-747d-468a-9163-0a5378400976"
      },
      "outputs": [
        {
          "data": {
            "text/plain": [
              "<matplotlib.axes._subplots.AxesSubplot at 0x7fc56201a410>"
            ]
          },
          "execution_count": 34,
          "metadata": {
            "tags": []
          },
          "output_type": "execute_result"
        },
        {
          "data": {
            "image/png": "[encoded data removed]",
            "text/plain": [
              "<Figure size 432x288 with 1 Axes>"
            ]
          },
          "metadata": {
            "needs_background": "light",
            "tags": []
          },
          "output_type": "display_data"
        }
      ],
      "source": [
        "dataframe = pd.DataFrame(np.random.rand(10, 5), columns=[\"A\", \"B\", \"C\", \"D\", \"E\"])\n",
        "\n",
        "dataframe.plot.box()"
      ]
    },
    {
      "cell_type": "markdown",
      "metadata": {
        "id": "MeAn-xwHZcIU"
      },
      "source": [
        "### 16.6. Gráficos de áreas"
      ]
    },
    {
      "cell_type": "markdown",
      "metadata": {
        "id": "uaCcblWWZcIW"
      },
      "source": [
        "Para crear un gráfico de áreas usamos `plot.area()`"
      ]
    },
    {
      "cell_type": "code",
      "execution_count": 36,
      "metadata": {
        "colab": {
          "base_uri": "https://localhost:8080/",
          "height": 282
        },
        "id": "V_IUk1aBZcIX",
        "outputId": "8b67c9be-95d1-48e2-cf4b-609c43b5c80f"
      },
      "outputs": [
        {
          "data": {
            "text/plain": [
              "<matplotlib.axes._subplots.AxesSubplot at 0x7fc561e9ca50>"
            ]
          },
          "execution_count": 36,
          "metadata": {
            "tags": []
          },
          "output_type": "execute_result"
        },
        {
          "data": {
            "image/png": "[encoded data removed]",
            "text/plain": [
              "<Figure size 432x288 with 1 Axes>"
            ]
          },
          "metadata": {
            "needs_background": "light",
            "tags": []
          },
          "output_type": "display_data"
        }
      ],
      "source": [
        "dataframe.plot.area()"
      ]
    },
    {
      "cell_type": "markdown",
      "metadata": {
        "id": "hKCN4N2XZwK6"
      },
      "source": [
        "### 16.7. Diagrama de dispersión"
      ]
    },
    {
      "cell_type": "markdown",
      "metadata": {
        "id": "UdbQThSaZwK6"
      },
      "source": [
        "Para crear un diagrama de dispersión usamos `plot.scatter()`, donde hay que indicar las variables `x` e `y` del diagrama"
      ]
    },
    {
      "cell_type": "code",
      "execution_count": 38,
      "metadata": {
        "colab": {
          "base_uri": "https://localhost:8080/",
          "height": 296
        },
        "id": "9oxO3EbCZwK7",
        "outputId": "2d4a17de-2c29-45f3-f253-1bd1dae22c93"
      },
      "outputs": [
        {
          "data": {
            "text/plain": [
              "<matplotlib.axes._subplots.AxesSubplot at 0x7fc561e2ff10>"
            ]
          },
          "execution_count": 38,
          "metadata": {
            "tags": []
          },
          "output_type": "execute_result"
        },
        {
          "data": {
            "image/png": "[encoded data removed]",
            "text/plain": [
              "<Figure size 432x288 with 1 Axes>"
            ]
          },
          "metadata": {
            "needs_background": "light",
            "tags": []
          },
          "output_type": "display_data"
        }
      ],
      "source": [
        "dataframe.plot.scatter(x='A', y='B')"
      ]
    },
    {
      "cell_type": "markdown",
      "metadata": {
        "id": "C9s7-rRbaImQ"
      },
      "source": [
        "### 16.8. Gráfico de contenedor hexagonal"
      ]
    },
    {
      "cell_type": "markdown",
      "metadata": {
        "id": "ODohMwgzaImX"
      },
      "source": [
        "Para crear un gráfico de contenedor hexagonal usamos `plot.hexbin()`, donde hay que indicar las variables `x` e `y` del diagrama y el tamaño de la malla mediante `gridsize`"
      ]
    },
    {
      "cell_type": "code",
      "execution_count": 40,
      "metadata": {
        "colab": {
          "base_uri": "https://localhost:8080/",
          "height": 275
        },
        "id": "N5OFYixEaImX",
        "outputId": "5440eb77-b1d8-498c-d540-f9d75e782eb3"
      },
      "outputs": [
        {
          "data": {
            "text/plain": [
              "<matplotlib.axes._subplots.AxesSubplot at 0x7fc561cdded0>"
            ]
          },
          "execution_count": 40,
          "metadata": {
            "tags": []
          },
          "output_type": "execute_result"
        },
        {
          "data": {
            "image/png": "[encoded data removed]",
            "text/plain": [
              "<Figure size 432x288 with 2 Axes>"
            ]
          },
          "metadata": {
            "needs_background": "light",
            "tags": []
          },
          "output_type": "display_data"
        }
      ],
      "source": [
        "dataframe = pd.DataFrame(np.random.randn(1000, 2), columns=[\"a\", \"b\"])\n",
        "dataframe[\"b\"] = dataframe[\"b\"] + np.arange(1000)\n",
        "\n",
        "dataframe.plot.hexbin(x=\"a\", y=\"b\", gridsize=25)"
      ]
    }
  ],
  "metadata": {
    "colab": {
      "authorship_tag": "ABX9TyMyVHrPxpjaVgZI224qe0Y1",
      "collapsed_sections": [],
      "name": "2021-06-15-Manejo-de-datos-con-Pandas.ipynb",
      "provenance": [],
      "toc_visible": true
    },
    "kernelspec": {
      "display_name": "Python 3.8.10 64-bit",
      "language": "python",
      "name": "python3"
    },
    "language_info": {
      "codemirror_mode": {
        "name": "ipython",
        "version": 3
      },
      "file_extension": ".py",
      "mimetype": "text/x-python",
      "name": "python",
      "nbconvert_exporter": "python",
      "pygments_lexer": "ipython3",
      "version": "3.8.10"
    },
    "vscode": {
      "interpreter": {
        "hash": "916dbcbb3f70747c44a77c7bcd40155683ae19c65e1c03b4aa3499c5328201f1"
      }
    }
  },
  "nbformat": 4,
  "nbformat_minor": 0
}
