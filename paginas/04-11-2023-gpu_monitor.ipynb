{
 "cells": [
  {
   "cell_type": "markdown",
   "metadata": {},
   "source": [
    "# GPU Monitor"
   ]
  },
  {
   "cell_type": "markdown",
   "metadata": {},
   "source": [
    "Real-time GPU status tracking right on your Ubuntu menu bar.\n",
    "\n",
    "![gpu monitor](https://maximofn.com/wp-content/uploads/2023/11/gpu_monitor.png)"
   ]
  },
  {
   "cell_type": "markdown",
   "metadata": {},
   "source": [
    "## About GPU Monitor"
   ]
  },
  {
   "cell_type": "markdown",
   "metadata": {},
   "source": [
    "GPU Monitor is an intuitive tool designed for developers, gamers, and professionals who need to keep an eye on their graphics card's performance and health in real time. It integrates seamlessly with the Ubuntu menu bar, providing essential information at your fingertips."
   ]
  },
  {
   "cell_type": "markdown",
   "metadata": {},
   "source": [
    "## Key Features"
   ]
  },
  {
   "cell_type": "markdown",
   "metadata": {},
   "source": [
    " * Real-time Monitoring: View GPU utilization, memory and temperature, all updated live.\n",
    " * Multi-GPU Support: Manage and monitor multiple GPUs from a single instance.\n",
    " * Optimized for Ubuntu: Crafted to integrate flawlessly with the latest Ubuntu OS."
   ]
  },
  {
   "cell_type": "markdown",
   "metadata": {},
   "source": [
    "## Installation"
   ]
  },
  {
   "cell_type": "markdown",
   "metadata": {},
   "source": [
    "### Clone the repository"
   ]
  },
  {
   "cell_type": "markdown",
   "metadata": {},
   "source": [
    " \n",
    "``` bash\n",
    "git clone https://github.com/maximofn/gpu_monitor.git\n",
    "```\n",
    "\n",
    "or with `ssh`\n",
    "\n",
    "``` bash\n",
    "git clone git@github.com:maximofn/gpu_monitor.git\n",
    "```"
   ]
  },
  {
   "cell_type": "markdown",
   "metadata": {},
   "source": [
    "### Install the dependencies"
   ]
  },
  {
   "cell_type": "markdown",
   "metadata": {},
   "source": [
    "Make sure that you do not have any `venv` or `conda` environment installed.\n",
    "\n",
    "``` bash\n",
    "if [ -n \"$VIRTUAL_ENV\" ]; then\n",
    "    deactivate\n",
    "fi\n",
    "if command -v conda &>/dev/null; then\n",
    "    conda deactivate\n",
    "fi\n",
    "deactivate\n",
    "```\n",
    "\n",
    "Now install the dependencies\n",
    "\n",
    "``` bash\n",
    "sudo apt-get install python3-gi python3-gi-cairo gir1.2-gtk-3.0\n",
    "sudo apt-get install gir1.2-appindicator3-0.1\n",
    "pip install nvidia-ml-py3\n",
    "pip install pynvml\n",
    "```"
   ]
  },
  {
   "cell_type": "markdown",
   "metadata": {},
   "source": [
    "## Execution at start-up"
   ]
  },
  {
   "cell_type": "markdown",
   "metadata": {},
   "source": [
    "Opens the application menu\n",
    "\n",
    "![application menu](https://maximofn.com/wp-content/uploads/2023/11/applications_menu.png)\n",
    "\n",
    "Type \"start\"\n",
    "\n",
    "![start](https://maximofn.com/wp-content/uploads/2023/11/applications_at_startup.png)\n",
    "\n",
    "Click on \"Startup Applications\"\n",
    "\n",
    "![startup applications](https://maximofn.com/wp-content/uploads/2023/11/startup-application.webp)\n",
    "\n",
    "Select \"Add\" and write the following:\n",
    "\n",
    " * Name: GPU Monitor\n",
    " * Command: /usr/bin/python3 path_of_script/gpu_monitor.py\n",
    " * Comment: GPU Monitor\n",
    "\n",
    "And click on \"Add\""
   ]
  },
  {
   "cell_type": "markdown",
   "metadata": {},
   "source": [
    "## Support"
   ]
  },
  {
   "cell_type": "markdown",
   "metadata": {},
   "source": [
    "Consider giving a **☆ Star** to this repository, if you also want to invite me for a coffee, click on the following button\n",
    "\n",
    "[![BuyMeACoffee](https://img.shields.io/badge/Buy_Me_A_Coffee-support_my_work-FFDD00?style=for-the-badge&logo=buy-me-a-coffee&logoColor=white&labelColor=101010)](https://www.buymeacoffee.com/maximofn)"
   ]
  }
 ],
 "metadata": {
  "language_info": {
   "name": "python"
  }
 },
 "nbformat": 4,
 "nbformat_minor": 2
}
