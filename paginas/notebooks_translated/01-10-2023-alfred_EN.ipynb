{
      "cells": [
            {
                  "cell_type": "markdown",
                  "metadata": {},
                  "source": [
                        "# Alfred"
                  ]
            },
            {
                  "cell_type": "markdown",
                  "metadata": {},
                  "source": [
                        "Personal terminal assistant for all operating systems and languages\n",
                        "\n",
                        "![usage](https://raw.githubusercontent.com/maximofn/alfred/main/gifs/alfredx4.gif)"
                  ]
            },
            {
                  "cell_type": "markdown",
                  "metadata": {},
                  "source": [
                        "This notebook has been automatically translated to make it accessible to more people, please let me know if you see any typos.\n",
                        "\n",
                        "## Install"
                  ]
            },
            {
                  "cell_type": "markdown",
                  "metadata": {},
                  "source": [
                        "Install system requeriments\n",
                        "\n",
                        "```\n",
                        "sudo apt update\n",
                        "sudo apt install -y python3 python3-pip git\n",
                        "```"
                  ]
            },
            {
                  "cell_type": "markdown",
                  "metadata": {},
                  "source": [
                        "### Install by installer"
                  ]
            },
            {
                  "cell_type": "markdown",
                  "metadata": {},
                  "source": [
                        "From here, if you have a debian based system you can use the [alfred.deb](https://github.com/maximofn/alfred/blob/v1.3/alfredv1_3.deb) installer."
                  ]
            },
            {
                  "cell_type": "markdown",
                  "metadata": {},
                  "source": [
                        "### Install from source"
                  ]
            },
            {
                  "cell_type": "markdown",
                  "metadata": {},
                  "source": [
                        "Install python requeriments\n",
                        "\n",
                        "```\n",
                        "pip install halo\n",
                        "pip install --upgrade openai\n",
                        "```\n",
                        "\n",
                        "Create source folder\n",
                        "\n",
                        "```\n",
                        "sudo rm -r /usr/src/alfred\n",
                        "cd /usr/src\n",
                        "git clone -b branch_v1.3 https://github.com/maximofn/alfred.git\n",
                        "cd /usr/src/alfred\n",
                        "sudo find . -depth -not -name '*.py' -delete\n",
                        "```\n",
                        "\n",
                        "Create symbolic link to /usr/bin/alfred\n",
                        "\n",
                        "```\n",
                        "echo 'alias alfred=\"/usr/src/alfred/alfred/alfred.py\"' >> ~/.bashrc\n",
                        "```\n",
                        "\n",
                        "Restart bash\n",
                        "\n",
                        "```\n",
                        "source ~/.bashrc\n",
                        "```"
                  ]
            },
            {
                  "cell_type": "markdown",
                  "metadata": {},
                  "source": [
                        "## Openai API KEY"
                  ]
            },
            {
                  "cell_type": "markdown",
                  "metadata": {},
                  "source": [
                        "Loggin to <a href=\"https://platform.openai.com/overview\" target=\"_blank\">open ai</a> and get your open ai api key\n",
                        "\n",
                        "![open ai api key](https://raw.githubusercontent.com/maximofn/alfred/main/gifs/openaix2.gif)"
                  ]
            },
            {
                  "cell_type": "markdown",
                  "metadata": {},
                  "source": [
                        "## Usage"
                  ]
            },
            {
                  "cell_type": "markdown",
                  "metadata": {},
                  "source": [
                        "You can ask to alfred specific questions by typing `alfred` followed by your question\n",
                        "\n",
                        "![usage](https://raw.githubusercontent.com/maximofn/alfred/main/gifs/alfredx4.gif)\n",
                        "\n",
                        "Or write `alfred` and keep asking him questions. To finish type `exit`\n",
                        "\n",
                        "![usage](https://raw.githubusercontent.com/maximofn/alfred/main/gifs/alfredBuclex4.gif)"
                  ]
            },
            {
                  "cell_type": "markdown",
                  "metadata": {},
                  "source": [
                        "## Support"
                  ]
            },
            {
                  "cell_type": "markdown",
                  "metadata": {},
                  "source": [
                        "If you like it consider giving the repository a star ⭐, but if you really like it consider buying me a coffee ☕.\n",
                        "\n",
                        "[![BuyMeACoffee](https://img.shields.io/badge/Buy_Me_A_Coffee-Support_my_work-FFDD00?style=for-the-badge&logo=buy-me-a-coffee&logoColor=white&labelColor=101010)](https://www.buymeacoffee.com/maximofn)"
                  ]
            }
      ],
      "metadata": {
            "language_info": {
                  "name": "python"
            },
            "orig_nbformat": 4
      },
      "nbformat": 4,
      "nbformat_minor": 2
}
