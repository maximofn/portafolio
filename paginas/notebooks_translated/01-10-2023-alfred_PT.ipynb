{
      "cells": [
            {
                  "cell_type": "markdown",
                  "metadata": {},
                  "source": [
                        "# Alfred"
                  ]
            },
            {
                  "cell_type": "markdown",
                  "metadata": {},
                  "source": [
                        "Assistente de terminal pessoal para todos os sistemas operacionais e idiomas\n",
                        "\n",
                        "![uso](https://raw.githubusercontent.com/maximofn/alfred/main/gifs/alfredx4.gif)"
                  ]
            },
            {
                  "cell_type": "markdown",
                  "metadata": {},
                  "source": [
                        "Este caderno foi traduzido automaticamente para torná-lo acessível a mais pessoas, por favor me avise se você vir algum erro de digitação..\n",
                        "\n",
                        "## Instalar"
                  ]
            },
            {
                  "cell_type": "markdown",
                  "metadata": {},
                  "source": [
                        "Instalar os requisitos do sistema\n",
                        "\n",
                        "```\n",
                        "sudo apt update\n",
                        "sudo apt install -y python3 python3-pip git\n",
                        "```"
                  ]
            },
            {
                  "cell_type": "markdown",
                  "metadata": {},
                  "source": [
                        "### Instalar pelo instalador"
                  ]
            },
            {
                  "cell_type": "markdown",
                  "metadata": {},
                  "source": [
                        "A partir daqui, se você tiver um sistema baseado em debian, poderá usar o instalador [alfred.deb](https://github.com/maximofn/alfred/blob/v1.3/alfredv1_3.deb)."
                  ]
            },
            {
                  "cell_type": "markdown",
                  "metadata": {},
                  "source": [
                        "### Instalar a partir da fonte"
                  ]
            },
            {
                  "cell_type": "markdown",
                  "metadata": {},
                  "source": [
                        "Instalar os requisitos do python\n",
                        "\n",
                        "```\n",
                        "pip install halo\n",
                        "pip install --upgrade openai\n",
                        "```\n",
                        "\n",
                        "Criar pasta de origem\n",
                        "\n",
                        "```\n",
                        "sudo rm -r /usr/src/alfred\n",
                        "cd /usr/src\n",
                        "git clone -b branch_v1.3 https://github.com/maximofn/alfred.git\n",
                        "cd /usr/src/alfred\n",
                        "sudo find . -depth -not -name '*.py' -delete\n",
                        "```\n",
                        "\n",
                        "Criar um link simbólico para /usr/bin/alfred\n",
                        "\n",
                        "```\n",
                        "echo 'alias alfred=\"/usr/src/alfred/alfred.py\"' >> ~/.bashrc\n",
                        "```\n",
                        "\n",
                        "Reiniciar o bash\n",
                        "\n",
                        "```\n",
                        "fonte ~/.bashrc\n",
                        "```"
                  ]
            },
            {
                  "cell_type": "markdown",
                  "metadata": {},
                  "source": [
                        "## Openai API KEY"
                  ]
            },
            {
                  "cell_type": "markdown",
                  "metadata": {},
                  "source": [
                        "Faça login em <a href=\"https://platform.openai.com/overview\" target=\"_blank\">open ai</a> e obtenha sua chave de API do open ai\n",
                        "\n",
                        "![open ai api key](https://raw.githubusercontent.com/maximofn/alfred/main/gifs/openaix2.gif)"
                  ]
            },
            {
                  "cell_type": "markdown",
                  "metadata": {},
                  "source": [
                        "## Uso"
                  ]
            },
            {
                  "cell_type": "markdown",
                  "metadata": {},
                  "source": [
                        "Você pode fazer perguntas específicas ao alfred digitando `alfred` seguido de sua pergunta\n",
                        "\n",
                        "![uso](https://raw.githubusercontent.com/maximofn/alfred/main/gifs/alfredx4.gif)\n",
                        "\n",
                        "Ou escreva `alfred` e continue fazendo perguntas a ele. Para terminar, digite `exit`\n",
                        "\n",
                        "![uso](https://raw.githubusercontent.com/maximofn/alfred/main/gifs/alfredBuclex4.gif)"
                  ]
            },
            {
                  "cell_type": "markdown",
                  "metadata": {},
                  "source": [
                        "## Suporte"
                  ]
            },
            {
                  "cell_type": "markdown",
                  "metadata": {},
                  "source": [
                        "Se você gostar, considere dar uma estrela ao repositório ⭐, mas se você realmente gostar, considere comprar um café para mim ☕.\n",
                        "\n",
                        "[![BuyMeACoffee](https://img.shields.io/badge/Buy_Me_A_Coffee-Support_my_work-FFDD00?style=for-the-badge&logo=buy-me-a-coffee&logoColor=white&labelColor=101010)](https://www.buymeacoffee.com/maximofn)"
                  ]
            }
      ],
      "metadata": {
            "language_info": {
                  "name": "python"
            },
            "orig_nbformat": 4
      },
      "nbformat": 4,
      "nbformat_minor": 2
}
