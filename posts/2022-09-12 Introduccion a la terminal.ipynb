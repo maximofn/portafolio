{
 "cells": [
  {
   "cell_type": "markdown",
   "metadata": {},
   "source": [
    "# Introducción a la terminal"
   ]
  },
  {
   "cell_type": "markdown",
   "metadata": {},
   "source": [
    "## Formato del post"
   ]
  },
  {
   "cell_type": "markdown",
   "metadata": {},
   "source": [
    "Para no tener que estar poniendo imágenes de la consola en cada acción que haga, he creado la siguiente función que recibe el comando de la terminal que queramos ejecutar y devuelve la salida que nos daría la terminal.\n",
    "\n",
    "Unas veces usaré esta función, y otras usaré `!` antes de cada comando, que en notebooks quiere decir que vas a ejecutar un comando de la terminal"
   ]
  },
  {
   "cell_type": "code",
   "execution_count": 1,
   "metadata": {},
   "outputs": [],
   "source": [
    "import subprocess\n",
    "import os\n",
    "\n",
    "last_directory = ''\n",
    "\n",
    "def terminal(command, max_lines_output=None):\n",
    "    global last_directory\n",
    "    debug = False\n",
    "    str = command.split()\n",
    "\n",
    "    # Check if there are \" or ' characters\n",
    "    for i in range(len(str)):\n",
    "        if debug:   print(f\"i = {i}, str[i] = {str[i]}\")\n",
    "        if len(str[i]) > 0:\n",
    "            if str[i][0] == '\"' or str[i][0] == \"'\":\n",
    "                for j in range(i+1,len(str)):\n",
    "                    if debug:   print(f\"\\t j = {j}, str[j] = {str[j]}\")\n",
    "                    if str[j][-1] == '\"' or str[j][-1] == \"'\":\n",
    "                        for k in range(i+1,j+1):\n",
    "                            if debug:   print(f\"\\t\\t k = {k}, str[i] = {str[i]}, str[k] = {str[k]}\")\n",
    "                            str[i] = str[i] + \" \" + str[k]\n",
    "                            if debug:   print(f\"\\t\\t k = {k}, str[i] = {str[i]}, str[k] = {str[k]}\")\n",
    "                        str[j:] = [\"\"]\n",
    "                        str[i] = str[i].replace('\"','')\n",
    "    \n",
    "    # Remove empty strings\n",
    "    str = [x for x in str if x != \"\"]\n",
    "    if debug:\n",
    "        print(str)\n",
    "        return\n",
    "    if str[0] == \"cd\":\n",
    "        last_dir = os.getcwd()\n",
    "        if len(str) == 1:\n",
    "            os.chdir('/home/wallabot')\n",
    "        else:\n",
    "            if str[1] == \"-\":\n",
    "                os.chdir(last_directory)\n",
    "            else:\n",
    "                os.chdir(str[1])\n",
    "        last_directory = last_dir\n",
    "    else:\n",
    "        result = subprocess.run(str, stdout=subprocess.PIPE).stdout.decode('utf-8')\n",
    "        if max_lines_output is not None:\n",
    "            result_split = result.split('\\n')\n",
    "            print('\\n'.join(result_split[:max_lines_output]))\n",
    "            print(\"\\t ...\")\n",
    "            print('\\n'.join(result_split[-5:]))\n",
    "        else:\n",
    "            print(result)"
   ]
  },
  {
   "cell_type": "markdown",
   "metadata": {},
   "source": [
    "## Primeros comandos para moverse por la terminal"
   ]
  },
  {
   "cell_type": "markdown",
   "metadata": {},
   "source": [
    "### `ls` (list directory)"
   ]
  },
  {
   "cell_type": "markdown",
   "metadata": {},
   "source": [
    "El primer comando que vamos a ver es `ls` (list directory) que sirve para listar todos los archivos de la carpeta en la que estemos"
   ]
  },
  {
   "cell_type": "code",
   "execution_count": 2,
   "metadata": {},
   "outputs": [
    {
     "name": "stdout",
     "output_type": "stream",
     "text": [
      "2021-02-11-Introduccion-a-Python.ipynb\n",
      "2021-04-23-Calculo-matricial-con-Numpy.ipynb\n",
      "2021-06-15-Manejo-de-datos-con-Pandas.ipynb\n",
      "2022-09-12 Introduccion a la terminal.ipynb\n",
      "2022-09-12 Introduccion a la terminal.txt\n",
      "command-line-cheat-sheet.pdf\n",
      "CSS.ipynb\n",
      "Docker.html\n",
      "Docker.ipynb\n",
      "Expresiones regulares.html\n",
      "Expresiones regulares.ipynb\n",
      "html_files\n",
      "html.ipynb\n",
      "introduccion_python\n",
      "movies.csv\n",
      "movies.dat\n",
      "notebooks_translated\n",
      "__pycache__\n",
      "ssh.ipynb\n",
      "test.html\n",
      "test.ipynb\n",
      "\n"
     ]
    }
   ],
   "source": [
    "terminal(\"ls\")"
   ]
  },
  {
   "cell_type": "markdown",
   "metadata": {},
   "source": [
    "Los comandos normalmente pueden recibir opciones (`flags`), que se introducen con el caracter `-`, por ejemplo veamos `ls -l` que nos devuelve la lista de archivos del directorio en el que estamos, pero con más información"
   ]
  },
  {
   "cell_type": "code",
   "execution_count": 3,
   "metadata": {},
   "outputs": [
    {
     "name": "stdout",
     "output_type": "stream",
     "text": [
      "total 4512\n",
      "-rw-rw-r-- 1 wallabot wallabot 285898 nov 12 02:07 2021-02-11-Introduccion-a-Python.ipynb\n",
      "-rw-rw-r-- 1 wallabot wallabot  78450 nov 13 00:10 2021-04-23-Calculo-matricial-con-Numpy.ipynb\n",
      "-rw-rw-r-- 1 wallabot wallabot 484213 nov 13 00:44 2021-06-15-Manejo-de-datos-con-Pandas.ipynb\n",
      "-rw-rw-r-- 1 wallabot wallabot 320810 dic  6 00:11 2022-09-12 Introduccion a la terminal.ipynb\n",
      "-rw-rw-r-- 1 wallabot wallabot 320594 dic  6 00:04 2022-09-12 Introduccion a la terminal.txt\n",
      "-rw-rw-r-- 1 wallabot wallabot 119471 oct  3 16:13 command-line-cheat-sheet.pdf\n",
      "-rw-rw-r-- 1 wallabot wallabot   2660 sep 18 03:32 CSS.ipynb\n",
      "-rw-rw-r-- 1 wallabot wallabot 699225 nov 27 04:16 Docker.html\n",
      "-rw-rw-r-- 1 wallabot wallabot 509125 sep 22 16:48 Docker.ipynb\n",
      "-rw-rw-r-- 1 wallabot wallabot 156193 nov 27 04:21 Expresiones regulares.html\n",
      "-rw-rw-r-- 1 wallabot wallabot  53094 oct  2 04:57 Expresiones regulares.ipynb\n",
      "drwxrwxr-x 2 wallabot wallabot   4096 nov 28 14:39 html_files\n",
      "-rw-rw-r-- 1 wallabot wallabot  14775 sep 18 03:29 html.ipynb\n",
      "drwxrwxr-x 3 wallabot wallabot   4096 nov 12 01:51 introduccion_python\n",
      "-rw-rw-r-- 1 wallabot wallabot 446172 oct  2 04:39 movies.csv\n",
      "-rw-rw-r-- 1 wallabot wallabot 522197 oct  2 04:33 movies.dat\n",
      "drwxrwxr-x 2 wallabot wallabot   4096 nov 28 14:39 notebooks_translated\n",
      "drwxrwxr-x 2 wallabot wallabot   4096 ago 27 03:25 __pycache__\n",
      "-rw-rw-r-- 1 wallabot wallabot    586 dic  4 02:31 ssh.ipynb\n",
      "-rw-rw-r-- 1 wallabot wallabot 292936 nov  9 01:46 test.html\n",
      "-rw-rw-r-- 1 wallabot wallabot 260227 nov  9 01:13 test.ipynb\n",
      "\n"
     ]
    }
   ],
   "source": [
    "terminal('ls -l')"
   ]
  },
  {
   "cell_type": "markdown",
   "metadata": {},
   "source": [
    "Como vemos, tenemos cuantos bytes ocupa cada archivo, pero cuando tenemos archivos que ocupan mucho esto no es muy fácil de leer, así que podemos añadir la opción `h` (`human`) que nos da información más fácil de leer"
   ]
  },
  {
   "cell_type": "code",
   "execution_count": 4,
   "metadata": {},
   "outputs": [
    {
     "name": "stdout",
     "output_type": "stream",
     "text": [
      "total 4,5M\n",
      "-rw-rw-r-- 1 wallabot wallabot 280K nov 12 02:07 2021-02-11-Introduccion-a-Python.ipynb\n",
      "-rw-rw-r-- 1 wallabot wallabot  77K nov 13 00:10 2021-04-23-Calculo-matricial-con-Numpy.ipynb\n",
      "-rw-rw-r-- 1 wallabot wallabot 473K nov 13 00:44 2021-06-15-Manejo-de-datos-con-Pandas.ipynb\n",
      "-rw-rw-r-- 1 wallabot wallabot 314K dic  6 00:11 2022-09-12 Introduccion a la terminal.ipynb\n",
      "-rw-rw-r-- 1 wallabot wallabot 314K dic  6 00:04 2022-09-12 Introduccion a la terminal.txt\n",
      "-rw-rw-r-- 1 wallabot wallabot 117K oct  3 16:13 command-line-cheat-sheet.pdf\n",
      "-rw-rw-r-- 1 wallabot wallabot 2,6K sep 18 03:32 CSS.ipynb\n",
      "-rw-rw-r-- 1 wallabot wallabot 683K nov 27 04:16 Docker.html\n",
      "-rw-rw-r-- 1 wallabot wallabot 498K sep 22 16:48 Docker.ipynb\n",
      "-rw-rw-r-- 1 wallabot wallabot 153K nov 27 04:21 Expresiones regulares.html\n",
      "-rw-rw-r-- 1 wallabot wallabot  52K oct  2 04:57 Expresiones regulares.ipynb\n",
      "drwxrwxr-x 2 wallabot wallabot 4,0K nov 28 14:39 html_files\n",
      "-rw-rw-r-- 1 wallabot wallabot  15K sep 18 03:29 html.ipynb\n",
      "drwxrwxr-x 3 wallabot wallabot 4,0K nov 12 01:51 introduccion_python\n",
      "-rw-rw-r-- 1 wallabot wallabot 436K oct  2 04:39 movies.csv\n",
      "-rw-rw-r-- 1 wallabot wallabot 510K oct  2 04:33 movies.dat\n",
      "drwxrwxr-x 2 wallabot wallabot 4,0K nov 28 14:39 notebooks_translated\n",
      "drwxrwxr-x 2 wallabot wallabot 4,0K ago 27 03:25 __pycache__\n",
      "-rw-rw-r-- 1 wallabot wallabot  586 dic  4 02:31 ssh.ipynb\n",
      "-rw-rw-r-- 1 wallabot wallabot 287K nov  9 01:46 test.html\n",
      "-rw-rw-r-- 1 wallabot wallabot 255K nov  9 01:13 test.ipynb\n",
      "\n"
     ]
    }
   ],
   "source": [
    "terminal('ls -lh')"
   ]
  },
  {
   "cell_type": "markdown",
   "metadata": {},
   "source": [
    "Si queremos ver los archivos ocultos podemos usar la opción `a`, que nos mosntrará todos los archivos de un directorio"
   ]
  },
  {
   "cell_type": "code",
   "execution_count": 5,
   "metadata": {},
   "outputs": [
    {
     "name": "stdout",
     "output_type": "stream",
     "text": [
      "total 4,5M\n",
      "drwxrwxr-x 6 wallabot wallabot 4,0K dic  6 00:04 .\n",
      "drwxrwxr-x 5 wallabot wallabot 4,0K oct  2 03:10 ..\n",
      "-rw-rw-r-- 1 wallabot wallabot 280K nov 12 02:07 2021-02-11-Introduccion-a-Python.ipynb\n",
      "-rw-rw-r-- 1 wallabot wallabot  77K nov 13 00:10 2021-04-23-Calculo-matricial-con-Numpy.ipynb\n",
      "-rw-rw-r-- 1 wallabot wallabot 473K nov 13 00:44 2021-06-15-Manejo-de-datos-con-Pandas.ipynb\n",
      "-rw-rw-r-- 1 wallabot wallabot 314K dic  6 00:11 2022-09-12 Introduccion a la terminal.ipynb\n",
      "-rw-rw-r-- 1 wallabot wallabot 314K dic  6 00:04 2022-09-12 Introduccion a la terminal.txt\n",
      "-rw-rw-r-- 1 wallabot wallabot 117K oct  3 16:13 command-line-cheat-sheet.pdf\n",
      "-rw-rw-r-- 1 wallabot wallabot 2,6K sep 18 03:32 CSS.ipynb\n",
      "-rw-rw-r-- 1 wallabot wallabot 683K nov 27 04:16 Docker.html\n",
      "-rw-rw-r-- 1 wallabot wallabot 498K sep 22 16:48 Docker.ipynb\n",
      "-rw-rw-r-- 1 wallabot wallabot 153K nov 27 04:21 Expresiones regulares.html\n",
      "-rw-rw-r-- 1 wallabot wallabot  52K oct  2 04:57 Expresiones regulares.ipynb\n",
      "drwxrwxr-x 2 wallabot wallabot 4,0K nov 28 14:39 html_files\n",
      "-rw-rw-r-- 1 wallabot wallabot  15K sep 18 03:29 html.ipynb\n",
      "drwxrwxr-x 3 wallabot wallabot 4,0K nov 12 01:51 introduccion_python\n",
      "-rw-rw-r-- 1 wallabot wallabot 436K oct  2 04:39 movies.csv\n",
      "-rw-rw-r-- 1 wallabot wallabot 510K oct  2 04:33 movies.dat\n",
      "drwxrwxr-x 2 wallabot wallabot 4,0K nov 28 14:39 notebooks_translated\n",
      "drwxrwxr-x 2 wallabot wallabot 4,0K ago 27 03:25 __pycache__\n",
      "-rw-rw-r-- 1 wallabot wallabot  586 dic  4 02:31 ssh.ipynb\n",
      "-rw-rw-r-- 1 wallabot wallabot 287K nov  9 01:46 test.html\n",
      "-rw-rw-r-- 1 wallabot wallabot 255K nov  9 01:13 test.ipynb\n",
      "\n"
     ]
    }
   ],
   "source": [
    "terminal('ls -lha')"
   ]
  },
  {
   "cell_type": "markdown",
   "metadata": {},
   "source": [
    "Si lo que queremos es que nos los ordene por tamaño, podemo usar la opción `S`"
   ]
  },
  {
   "cell_type": "code",
   "execution_count": 6,
   "metadata": {},
   "outputs": [
    {
     "name": "stdout",
     "output_type": "stream",
     "text": [
      "total 4,5M\n",
      "-rw-rw-r-- 1 wallabot wallabot 683K nov 27 04:16 Docker.html\n",
      "-rw-rw-r-- 1 wallabot wallabot 510K oct  2 04:33 movies.dat\n",
      "-rw-rw-r-- 1 wallabot wallabot 498K sep 22 16:48 Docker.ipynb\n",
      "-rw-rw-r-- 1 wallabot wallabot 473K nov 13 00:44 2021-06-15-Manejo-de-datos-con-Pandas.ipynb\n",
      "-rw-rw-r-- 1 wallabot wallabot 436K oct  2 04:39 movies.csv\n",
      "-rw-rw-r-- 1 wallabot wallabot 314K dic  6 00:11 2022-09-12 Introduccion a la terminal.ipynb\n",
      "-rw-rw-r-- 1 wallabot wallabot 314K dic  6 00:04 2022-09-12 Introduccion a la terminal.txt\n",
      "-rw-rw-r-- 1 wallabot wallabot 287K nov  9 01:46 test.html\n",
      "-rw-rw-r-- 1 wallabot wallabot 280K nov 12 02:07 2021-02-11-Introduccion-a-Python.ipynb\n",
      "-rw-rw-r-- 1 wallabot wallabot 255K nov  9 01:13 test.ipynb\n",
      "-rw-rw-r-- 1 wallabot wallabot 153K nov 27 04:21 Expresiones regulares.html\n",
      "-rw-rw-r-- 1 wallabot wallabot 117K oct  3 16:13 command-line-cheat-sheet.pdf\n",
      "-rw-rw-r-- 1 wallabot wallabot  77K nov 13 00:10 2021-04-23-Calculo-matricial-con-Numpy.ipynb\n",
      "-rw-rw-r-- 1 wallabot wallabot  52K oct  2 04:57 Expresiones regulares.ipynb\n",
      "-rw-rw-r-- 1 wallabot wallabot  15K sep 18 03:29 html.ipynb\n",
      "drwxrwxr-x 2 wallabot wallabot 4,0K nov 28 14:39 html_files\n",
      "drwxrwxr-x 3 wallabot wallabot 4,0K nov 12 01:51 introduccion_python\n",
      "drwxrwxr-x 2 wallabot wallabot 4,0K nov 28 14:39 notebooks_translated\n",
      "drwxrwxr-x 2 wallabot wallabot 4,0K ago 27 03:25 __pycache__\n",
      "-rw-rw-r-- 1 wallabot wallabot 2,6K sep 18 03:32 CSS.ipynb\n",
      "-rw-rw-r-- 1 wallabot wallabot  586 dic  4 02:31 ssh.ipynb\n",
      "\n"
     ]
    }
   ],
   "source": [
    "terminal('ls -lhS')"
   ]
  },
  {
   "cell_type": "markdown",
   "metadata": {},
   "source": [
    "Si queremos que nos muestre los archivos ordenados alfabéticamente, pero al revés, debemos usar la opción `r`"
   ]
  },
  {
   "cell_type": "code",
   "execution_count": 7,
   "metadata": {},
   "outputs": [
    {
     "name": "stdout",
     "output_type": "stream",
     "text": [
      "total 4,5M\n",
      "-rw-rw-r-- 1 wallabot wallabot 255K nov  9 01:13 test.ipynb\n",
      "-rw-rw-r-- 1 wallabot wallabot 287K nov  9 01:46 test.html\n",
      "-rw-rw-r-- 1 wallabot wallabot  586 dic  4 02:31 ssh.ipynb\n",
      "drwxrwxr-x 2 wallabot wallabot 4,0K ago 27 03:25 __pycache__\n",
      "drwxrwxr-x 2 wallabot wallabot 4,0K nov 28 14:39 notebooks_translated\n",
      "-rw-rw-r-- 1 wallabot wallabot 510K oct  2 04:33 movies.dat\n",
      "-rw-rw-r-- 1 wallabot wallabot 436K oct  2 04:39 movies.csv\n",
      "drwxrwxr-x 3 wallabot wallabot 4,0K nov 12 01:51 introduccion_python\n",
      "-rw-rw-r-- 1 wallabot wallabot  15K sep 18 03:29 html.ipynb\n",
      "drwxrwxr-x 2 wallabot wallabot 4,0K nov 28 14:39 html_files\n",
      "-rw-rw-r-- 1 wallabot wallabot  52K oct  2 04:57 Expresiones regulares.ipynb\n",
      "-rw-rw-r-- 1 wallabot wallabot 153K nov 27 04:21 Expresiones regulares.html\n",
      "-rw-rw-r-- 1 wallabot wallabot 498K sep 22 16:48 Docker.ipynb\n",
      "-rw-rw-r-- 1 wallabot wallabot 683K nov 27 04:16 Docker.html\n",
      "-rw-rw-r-- 1 wallabot wallabot 2,6K sep 18 03:32 CSS.ipynb\n",
      "-rw-rw-r-- 1 wallabot wallabot 117K oct  3 16:13 command-line-cheat-sheet.pdf\n",
      "-rw-rw-r-- 1 wallabot wallabot 314K dic  6 00:04 2022-09-12 Introduccion a la terminal.txt\n",
      "-rw-rw-r-- 1 wallabot wallabot 314K dic  6 00:11 2022-09-12 Introduccion a la terminal.ipynb\n",
      "-rw-rw-r-- 1 wallabot wallabot 473K nov 13 00:44 2021-06-15-Manejo-de-datos-con-Pandas.ipynb\n",
      "-rw-rw-r-- 1 wallabot wallabot  77K nov 13 00:10 2021-04-23-Calculo-matricial-con-Numpy.ipynb\n",
      "-rw-rw-r-- 1 wallabot wallabot 280K nov 12 02:07 2021-02-11-Introduccion-a-Python.ipynb\n",
      "\n"
     ]
    }
   ],
   "source": [
    "terminal('ls -lhr')"
   ]
  },
  {
   "cell_type": "markdown",
   "metadata": {},
   "source": [
    "### `cd` (change directory)"
   ]
  },
  {
   "cell_type": "markdown",
   "metadata": {},
   "source": [
    "El segundo comando será `cd` (change directory) que nos permite cambiar el directorio"
   ]
  },
  {
   "cell_type": "code",
   "execution_count": 8,
   "metadata": {},
   "outputs": [],
   "source": [
    "terminal('cd /home/wallabot/Documentos/')"
   ]
  },
  {
   "cell_type": "markdown",
   "metadata": {},
   "source": [
    "Si ahora volvemos a usar `ls` para ver los archivos que tenemos, vemos que cambian"
   ]
  },
  {
   "cell_type": "code",
   "execution_count": 9,
   "metadata": {},
   "outputs": [
    {
     "name": "stdout",
     "output_type": "stream",
     "text": [
      "aprendiendo-git.pdf\n",
      "balena-etcher-electron-1.7.9-linux-x64\n",
      "camerasIP\n",
      "Documentacion\n",
      "gstreamer\n",
      "gstreamer_old\n",
      "jetsonNano\n",
      "kaggle\n",
      "Libros\n",
      "nerf\n",
      "prueba.txt\n",
      "pytorch\n",
      "wallabot\n",
      "web\n",
      "\n"
     ]
    }
   ],
   "source": [
    "terminal('ls')"
   ]
  },
  {
   "cell_type": "markdown",
   "metadata": {},
   "source": [
    "Si a `cd`, en vez de darle el directorio al que nos queremos mover, le damos el caracter `-`, volverá al anterior directorio donde estaba"
   ]
  },
  {
   "cell_type": "code",
   "execution_count": 10,
   "metadata": {},
   "outputs": [],
   "source": [
    "terminal('cd -')"
   ]
  },
  {
   "cell_type": "code",
   "execution_count": 11,
   "metadata": {},
   "outputs": [
    {
     "name": "stdout",
     "output_type": "stream",
     "text": [
      "2021-02-11-Introduccion-a-Python.ipynb\n",
      "2021-04-23-Calculo-matricial-con-Numpy.ipynb\n",
      "2021-06-15-Manejo-de-datos-con-Pandas.ipynb\n",
      "2022-09-12 Introduccion a la terminal.ipynb\n",
      "2022-09-12 Introduccion a la terminal.txt\n",
      "command-line-cheat-sheet.pdf\n",
      "CSS.ipynb\n",
      "Docker.html\n",
      "Docker.ipynb\n",
      "Expresiones regulares.html\n",
      "Expresiones regulares.ipynb\n",
      "html_files\n",
      "html.ipynb\n",
      "introduccion_python\n",
      "movies.csv\n",
      "movies.dat\n",
      "notebooks_translated\n",
      "__pycache__\n",
      "ssh.ipynb\n",
      "test.html\n",
      "test.ipynb\n",
      "\n"
     ]
    }
   ],
   "source": [
    "terminal('ls')"
   ]
  },
  {
   "cell_type": "markdown",
   "metadata": {},
   "source": [
    "Si nos quisiéramos mover a la `home` con introducir solamente `cd` en la terminal nos llevará"
   ]
  },
  {
   "cell_type": "code",
   "execution_count": 12,
   "metadata": {},
   "outputs": [],
   "source": [
    "terminal('cd')"
   ]
  },
  {
   "cell_type": "markdown",
   "metadata": {},
   "source": [
    "### `pwd` (print working directory)"
   ]
  },
  {
   "cell_type": "markdown",
   "metadata": {},
   "source": [
    "Para obtener el directorio en el que estamos podemos usar `pwd` (print working directory)"
   ]
  },
  {
   "cell_type": "code",
   "execution_count": 15,
   "metadata": {},
   "outputs": [
    {
     "name": "stdout",
     "output_type": "stream",
     "text": [
      "/home/wallabot\n",
      "\n"
     ]
    }
   ],
   "source": [
    "terminal('pwd')"
   ]
  },
  {
   "cell_type": "markdown",
   "metadata": {},
   "source": [
    "Podemos movernos mediante el comando `cd` mediante rutas relativas y mediante rutas absolutas. Por ejemplo, vamos a movernos a un directorio mediante una ruta absoluta"
   ]
  },
  {
   "cell_type": "code",
   "execution_count": 16,
   "metadata": {},
   "outputs": [],
   "source": [
    "terminal('cd /home/wallabot/Documentos/')"
   ]
  },
  {
   "cell_type": "code",
   "execution_count": 17,
   "metadata": {},
   "outputs": [
    {
     "name": "stdout",
     "output_type": "stream",
     "text": [
      "/home/wallabot/Documentos\n",
      "\n"
     ]
    }
   ],
   "source": [
    "terminal('pwd')"
   ]
  },
  {
   "cell_type": "code",
   "execution_count": 18,
   "metadata": {},
   "outputs": [
    {
     "name": "stdout",
     "output_type": "stream",
     "text": [
      "aprendiendo-git.pdf\n",
      "balena-etcher-electron-1.7.9-linux-x64\n",
      "camerasIP\n",
      "Documentacion\n",
      "gstreamer\n",
      "gstreamer_old\n",
      "jetsonNano\n",
      "kaggle\n",
      "Libros\n",
      "nerf\n",
      "prueba.txt\n",
      "pytorch\n",
      "wallabot\n",
      "web\n",
      "\n"
     ]
    }
   ],
   "source": [
    "terminal('ls')"
   ]
  },
  {
   "cell_type": "markdown",
   "metadata": {},
   "source": [
    "Podemos movernos mediante rutas relativas si solo ponemos la dirección a partir del punto en el que nos encontramos"
   ]
  },
  {
   "cell_type": "code",
   "execution_count": 19,
   "metadata": {},
   "outputs": [],
   "source": [
    "terminal('cd web')"
   ]
  },
  {
   "cell_type": "code",
   "execution_count": 20,
   "metadata": {},
   "outputs": [
    {
     "name": "stdout",
     "output_type": "stream",
     "text": [
      "/home/wallabot/Documentos/web\n",
      "\n"
     ]
    }
   ],
   "source": [
    "terminal('pwd')"
   ]
  },
  {
   "cell_type": "markdown",
   "metadata": {},
   "source": [
    "También mediante rutas relativas podemos ir un directorio arriba mediante `..`"
   ]
  },
  {
   "cell_type": "code",
   "execution_count": 21,
   "metadata": {},
   "outputs": [],
   "source": [
    "terminal('cd ..')"
   ]
  },
  {
   "cell_type": "code",
   "execution_count": 22,
   "metadata": {},
   "outputs": [
    {
     "name": "stdout",
     "output_type": "stream",
     "text": [
      "/home/wallabot/Documentos\n",
      "\n"
     ]
    }
   ],
   "source": [
    "terminal('pwd')"
   ]
  },
  {
   "cell_type": "markdown",
   "metadata": {},
   "source": [
    "Si en vez de `..` ponemos `.` nos estamos refiriendo al directorio en el que nos encontramos ahora mismo, es decir, si ponemos `cd .` no nos moveremos, ya que le estamos diciendo a la terminal que vaya al directorio en el que estamos"
   ]
  },
  {
   "cell_type": "code",
   "execution_count": 23,
   "metadata": {},
   "outputs": [],
   "source": [
    "terminal('cd .')"
   ]
  },
  {
   "cell_type": "code",
   "execution_count": 24,
   "metadata": {},
   "outputs": [
    {
     "name": "stdout",
     "output_type": "stream",
     "text": [
      "/home/wallabot/Documentos\n",
      "\n"
     ]
    }
   ],
   "source": [
    "terminal('pwd')"
   ]
  },
  {
   "cell_type": "markdown",
   "metadata": {},
   "source": [
    "Vamos a movernos a una ruta en la que tenga archivos para mostrar el siguiente comando"
   ]
  },
  {
   "cell_type": "code",
   "execution_count": 25,
   "metadata": {},
   "outputs": [],
   "source": [
    "terminal('cd web/portafolio/posts/')"
   ]
  },
  {
   "cell_type": "code",
   "execution_count": 26,
   "metadata": {},
   "outputs": [
    {
     "name": "stdout",
     "output_type": "stream",
     "text": [
      "2021-02-11-Introduccion-a-Python.ipynb\n",
      "2021-04-23-Calculo-matricial-con-Numpy.ipynb\n",
      "2021-06-15-Manejo-de-datos-con-Pandas.ipynb\n",
      "2022-09-12 Introduccion a la terminal.ipynb\n",
      "2022-09-12 Introduccion a la terminal.txt\n",
      "command-line-cheat-sheet.pdf\n",
      "CSS.ipynb\n",
      "Docker.html\n",
      "Docker.ipynb\n",
      "Expresiones regulares.html\n",
      "Expresiones regulares.ipynb\n",
      "html_files\n",
      "html.ipynb\n",
      "introduccion_python\n",
      "movies.csv\n",
      "movies.dat\n",
      "notebooks_translated\n",
      "__pycache__\n",
      "ssh.ipynb\n",
      "test.html\n",
      "test.ipynb\n",
      "\n"
     ]
    }
   ],
   "source": [
    "terminal('ls')"
   ]
  },
  {
   "cell_type": "markdown",
   "metadata": {},
   "source": [
    "### Información de archivos con `file`"
   ]
  },
  {
   "cell_type": "markdown",
   "metadata": {},
   "source": [
    "Si yo no sé qué tipo de archivo es alguno en particular, mediante el comando `file` puedo obtener una descripción"
   ]
  },
  {
   "cell_type": "code",
   "execution_count": 27,
   "metadata": {},
   "outputs": [
    {
     "name": "stdout",
     "output_type": "stream",
     "text": [
      "2021-02-11-Introduccion-a-Python.ipynb: UTF-8 Unicode text, with very long lines\n",
      "\n"
     ]
    }
   ],
   "source": [
    "terminal('file 2021-02-11-Introduccion-a-Python.ipynb')"
   ]
  },
  {
   "cell_type": "markdown",
   "metadata": {},
   "source": [
    "## Manipulando archivos y directorios"
   ]
  },
  {
   "cell_type": "markdown",
   "metadata": {},
   "source": [
    "Movámonos primero a la home"
   ]
  },
  {
   "cell_type": "code",
   "execution_count": 28,
   "metadata": {},
   "outputs": [],
   "source": [
    "terminal('cd /home/wallabot/Documentos/')"
   ]
  },
  {
   "cell_type": "markdown",
   "metadata": {},
   "source": [
    "### Arbol de direcotrios con `tree`"
   ]
  },
  {
   "cell_type": "markdown",
   "metadata": {},
   "source": [
    "Podemos ver toda la estructura de la carpeta en la que estamos mediante el comando `tree`"
   ]
  },
  {
   "cell_type": "code",
   "execution_count": 29,
   "metadata": {},
   "outputs": [
    {
     "name": "stdout",
     "output_type": "stream",
     "text": [
      ".\n",
      "├── aprendiendo-git.pdf\n",
      "├── balena-etcher-electron-1.7.9-linux-x64\n",
      "│   └── balenaEtcher-1.7.9-x64.AppImage\n",
      "├── camerasIP\n",
      "│   ├── camerasIP.py\n",
      "│   ├── camerasIP.sh\n",
      "│   ├── config.py\n",
      "│   ├── __pycache__\n",
      "│   │   ├── config.cpython-38.pyc\n",
      "│   │   └── config.cpython-39.pyc\n",
      "│   └── README.md\n",
      "├── Documentacion\n",
      "│   ├── Curriculum Vitae (5).pdf\n",
      "│   ├── Firma Pris.PNG\n",
      "│   └── Firma.png\n",
      "├── gstreamer\n",
      "│   ├── basic_tutorial_c\n",
      "│   │   ├── basic_tutorial_1_hello_world\n",
      "│   │   │   ├── basic-tutorial-1\n",
      "\t ...\n",
      "        ├── upload_page.py\n",
      "        └── utils.py\n",
      "\n",
      "873 directories, 119679 files\n",
      "\n"
     ]
    }
   ],
   "source": [
    "terminal('tree', max_lines_output=20)"
   ]
  },
  {
   "cell_type": "markdown",
   "metadata": {},
   "source": [
    "Pero a la salida tenemos demasiadas líneas, y esto es porque `tree` es un comando que muestra todos los archivos desde la ruta en la que estamos, por lo que es un poco dificil de leer. Sin embargo, con la opción `L` podemos indicarle en cuantos niveles queremos que profundice"
   ]
  },
  {
   "cell_type": "code",
   "execution_count": 30,
   "metadata": {},
   "outputs": [
    {
     "name": "stdout",
     "output_type": "stream",
     "text": [
      ".\n",
      "├── aprendiendo-git.pdf\n",
      "├── balena-etcher-electron-1.7.9-linux-x64\n",
      "│   └── balenaEtcher-1.7.9-x64.AppImage\n",
      "├── camerasIP\n",
      "│   ├── camerasIP.py\n",
      "│   ├── camerasIP.sh\n",
      "│   ├── config.py\n",
      "│   ├── __pycache__\n",
      "│   └── README.md\n",
      "├── Documentacion\n",
      "│   ├── Curriculum Vitae (5).pdf\n",
      "│   ├── Firma Pris.PNG\n",
      "│   └── Firma.png\n",
      "├── gstreamer\n",
      "│   ├── basic_tutorial_c\n",
      "│   └── README.md\n",
      "├── gstreamer_old\n",
      "│   ├── basic_tutorial_c\n",
      "│   └── basic_tutorial_python\n",
      "├── jetsonNano\n",
      "│   ├── apuntes-Jetson-Nano\n",
      "│   ├── deepstream_apps\n",
      "│   ├── deepstream_nano\n",
      "│   └── Digital zoom\n",
      "├── kaggle\n",
      "│   └── hubmap\n",
      "├── Libros\n",
      "│   └── aprendiendo-git.pdf\n",
      "├── nerf\n",
      "│   └── instant-ngp\n",
      "├── prueba.txt\n",
      "├── pytorch\n",
      "│   └── Curso_Pytorch\n",
      "├── wallabot\n",
      "│   ├── Microfono - Blue Yeti X\n",
      "│   ├── placa base - Asus prime x570-p\n",
      "│   └── Silla - Corsair T3 Rush\n",
      "└── web\n",
      "    ├── jupyter-to-html\n",
      "    ├── jupyter-translator\n",
      "    ├── portafolio\n",
      "    └── wordpress_api_rest\n",
      "\n",
      "30 directories, 12 files\n",
      "\n"
     ]
    }
   ],
   "source": [
    "terminal('tree -L 2')"
   ]
  },
  {
   "cell_type": "markdown",
   "metadata": {},
   "source": [
    "Podemos ver que muestra que hay 30 directorios y 12 archivos, mientras que antes indicaba 873 directorios, 119679 archivos"
   ]
  },
  {
   "cell_type": "markdown",
   "metadata": {},
   "source": [
    "### Crear carpetas com `mkdir` (make direcotry)"
   ]
  },
  {
   "cell_type": "markdown",
   "metadata": {},
   "source": [
    "Si queremos crear un nuevo directorio podemos usar el comando `mkdir` (make directory) y un nombre"
   ]
  },
  {
   "cell_type": "code",
   "execution_count": 31,
   "metadata": {},
   "outputs": [],
   "source": [
    "terminal(\"cd /home/wallabot/Documentos/web/portafolio/posts/\")"
   ]
  },
  {
   "cell_type": "code",
   "execution_count": 32,
   "metadata": {},
   "outputs": [
    {
     "name": "stdout",
     "output_type": "stream",
     "text": [
      "\n"
     ]
    }
   ],
   "source": [
    "terminal('mkdir prueba')"
   ]
  },
  {
   "cell_type": "code",
   "execution_count": 33,
   "metadata": {},
   "outputs": [
    {
     "name": "stdout",
     "output_type": "stream",
     "text": [
      "2021-02-11-Introduccion-a-Python.ipynb\n",
      "2021-04-23-Calculo-matricial-con-Numpy.ipynb\n",
      "2021-06-15-Manejo-de-datos-con-Pandas.ipynb\n",
      "2022-09-12 Introduccion a la terminal.ipynb\n",
      "2022-09-12 Introduccion a la terminal.txt\n",
      "command-line-cheat-sheet.pdf\n",
      "CSS.ipynb\n",
      "Docker.html\n",
      "Docker.ipynb\n",
      "Expresiones regulares.html\n",
      "Expresiones regulares.ipynb\n",
      "html_files\n",
      "html.ipynb\n",
      "introduccion_python\n",
      "movies.csv\n",
      "movies.dat\n",
      "notebooks_translated\n",
      "prueba\n",
      "__pycache__\n",
      "ssh.ipynb\n",
      "test.html\n",
      "test.ipynb\n",
      "\n"
     ]
    }
   ],
   "source": [
    "terminal('ls')"
   ]
  },
  {
   "cell_type": "markdown",
   "metadata": {},
   "source": [
    "Si lo que queremos es crear un directorio con espacios en el nombre, tenemos que poner el nombre entre comillas"
   ]
  },
  {
   "cell_type": "code",
   "execution_count": 34,
   "metadata": {},
   "outputs": [
    {
     "name": "stdout",
     "output_type": "stream",
     "text": [
      "\n"
     ]
    }
   ],
   "source": [
    "terminal('mkdir \"directorio prueba\"')"
   ]
  },
  {
   "cell_type": "code",
   "execution_count": 35,
   "metadata": {},
   "outputs": [
    {
     "name": "stdout",
     "output_type": "stream",
     "text": [
      "2021-02-11-Introduccion-a-Python.ipynb\n",
      "2021-04-23-Calculo-matricial-con-Numpy.ipynb\n",
      "2021-06-15-Manejo-de-datos-con-Pandas.ipynb\n",
      "2022-09-12 Introduccion a la terminal.ipynb\n",
      "2022-09-12 Introduccion a la terminal.txt\n",
      "command-line-cheat-sheet.pdf\n",
      "CSS.ipynb\n",
      "directorio prueba\n",
      "Docker.html\n",
      "Docker.ipynb\n",
      "Expresiones regulares.html\n",
      "Expresiones regulares.ipynb\n",
      "html_files\n",
      "html.ipynb\n",
      "introduccion_python\n",
      "movies.csv\n",
      "movies.dat\n",
      "notebooks_translated\n",
      "prueba\n",
      "__pycache__\n",
      "ssh.ipynb\n",
      "test.html\n",
      "test.ipynb\n",
      "\n"
     ]
    }
   ],
   "source": [
    "terminal('ls')"
   ]
  },
  {
   "cell_type": "markdown",
   "metadata": {},
   "source": [
    "Vamos a meternos dentro de la carpeta `prueba` que hemos creado, para seguir viendo ahí la terminal"
   ]
  },
  {
   "cell_type": "code",
   "execution_count": 36,
   "metadata": {},
   "outputs": [],
   "source": [
    "terminal(\"cd prueba\")"
   ]
  },
  {
   "cell_type": "markdown",
   "metadata": {},
   "source": [
    "### Crear archivos con `touch`"
   ]
  },
  {
   "cell_type": "markdown",
   "metadata": {},
   "source": [
    "En caso que queramos crear un archivo, el comando que tenemos que usar es `touch`"
   ]
  },
  {
   "cell_type": "code",
   "execution_count": 37,
   "metadata": {},
   "outputs": [
    {
     "name": "stdout",
     "output_type": "stream",
     "text": [
      "\n"
     ]
    }
   ],
   "source": [
    "terminal(\"touch prueba.txt\")"
   ]
  },
  {
   "cell_type": "code",
   "execution_count": 38,
   "metadata": {},
   "outputs": [
    {
     "name": "stdout",
     "output_type": "stream",
     "text": [
      "prueba.txt\n",
      "\n"
     ]
    }
   ],
   "source": [
    "terminal(\"ls\")"
   ]
  },
  {
   "cell_type": "markdown",
   "metadata": {},
   "source": [
    "### Copiar archivos con `cp` (copy)"
   ]
  },
  {
   "cell_type": "markdown",
   "metadata": {},
   "source": [
    "Si queremos copiar un archivo lo hacemos pediante el comando `cp` (copy)"
   ]
  },
  {
   "cell_type": "code",
   "execution_count": 39,
   "metadata": {},
   "outputs": [
    {
     "name": "stdout",
     "output_type": "stream",
     "text": [
      "\n"
     ]
    }
   ],
   "source": [
    "terminal(\"cp prueba.txt prueba_copy.txt\")"
   ]
  },
  {
   "cell_type": "code",
   "execution_count": 40,
   "metadata": {},
   "outputs": [
    {
     "name": "stdout",
     "output_type": "stream",
     "text": [
      "prueba_copy.txt\n",
      "prueba.txt\n",
      "\n"
     ]
    }
   ],
   "source": [
    "terminal(\"ls\")"
   ]
  },
  {
   "cell_type": "markdown",
   "metadata": {},
   "source": [
    "### Mover archivos con `mv` (move)"
   ]
  },
  {
   "cell_type": "markdown",
   "metadata": {},
   "source": [
    "Si lo que queremos es moverlo, lo que usamos es el comando `mv` (move)"
   ]
  },
  {
   "cell_type": "code",
   "execution_count": 41,
   "metadata": {},
   "outputs": [
    {
     "name": "stdout",
     "output_type": "stream",
     "text": [
      "\n"
     ]
    }
   ],
   "source": [
    "terminal(\"mv prueba.txt ../prueba.txt\")"
   ]
  },
  {
   "cell_type": "code",
   "execution_count": 42,
   "metadata": {},
   "outputs": [
    {
     "name": "stdout",
     "output_type": "stream",
     "text": [
      "prueba_copy.txt\n",
      "\n"
     ]
    }
   ],
   "source": [
    "terminal(\"ls\")"
   ]
  },
  {
   "cell_type": "code",
   "execution_count": 43,
   "metadata": {},
   "outputs": [
    {
     "name": "stdout",
     "output_type": "stream",
     "text": [
      "2021-02-11-Introduccion-a-Python.ipynb\n",
      "2021-04-23-Calculo-matricial-con-Numpy.ipynb\n",
      "2021-06-15-Manejo-de-datos-con-Pandas.ipynb\n",
      "2022-09-12 Introduccion a la terminal.ipynb\n",
      "2022-09-12 Introduccion a la terminal.txt\n",
      "command-line-cheat-sheet.pdf\n",
      "CSS.ipynb\n",
      "directorio prueba\n",
      "Docker.html\n",
      "Docker.ipynb\n",
      "Expresiones regulares.html\n",
      "Expresiones regulares.ipynb\n",
      "html_files\n",
      "html.ipynb\n",
      "introduccion_python\n",
      "movies.csv\n",
      "movies.dat\n",
      "notebooks_translated\n",
      "prueba\n",
      "prueba.txt\n",
      "__pycache__\n",
      "ssh.ipynb\n",
      "test.html\n",
      "test.ipynb\n",
      "\n"
     ]
    }
   ],
   "source": [
    "terminal(\"ls ../\")"
   ]
  },
  {
   "cell_type": "markdown",
   "metadata": {},
   "source": [
    "### Renombrar archivos con `mv` (move)"
   ]
  },
  {
   "cell_type": "markdown",
   "metadata": {},
   "source": [
    "El comando `mv` también nos sirve para renombrar ficheros, ya que si lo que hacemos es moverlo en el mismo directorio, pero dándole otro nombre, al final eso es renombrar el archivo"
   ]
  },
  {
   "cell_type": "code",
   "execution_count": 44,
   "metadata": {},
   "outputs": [
    {
     "name": "stdout",
     "output_type": "stream",
     "text": [
      "\n"
     ]
    }
   ],
   "source": [
    "terminal(\"mv prueba_copy.txt prueba_move.txt\")"
   ]
  },
  {
   "cell_type": "code",
   "execution_count": 45,
   "metadata": {},
   "outputs": [
    {
     "name": "stdout",
     "output_type": "stream",
     "text": [
      "prueba_move.txt\n",
      "\n"
     ]
    }
   ],
   "source": [
    "terminal(\"ls\")"
   ]
  },
  {
   "cell_type": "markdown",
   "metadata": {},
   "source": [
    "### Borrar archivos con `rm` (remove)"
   ]
  },
  {
   "cell_type": "markdown",
   "metadata": {},
   "source": [
    "Para borrar archivos o direcotrios usamos el comando `rm` (remove)"
   ]
  },
  {
   "cell_type": "code",
   "execution_count": 46,
   "metadata": {},
   "outputs": [
    {
     "name": "stdout",
     "output_type": "stream",
     "text": [
      "\n"
     ]
    }
   ],
   "source": [
    "terminal(\"rm prueba_move.txt\")"
   ]
  },
  {
   "cell_type": "code",
   "execution_count": 47,
   "metadata": {},
   "outputs": [
    {
     "name": "stdout",
     "output_type": "stream",
     "text": [
      "\n"
     ]
    }
   ],
   "source": [
    "terminal(\"ls\")"
   ]
  },
  {
   "cell_type": "markdown",
   "metadata": {},
   "source": [
    "### Eliminar directorios con `rm -r` (remove recursive)"
   ]
  },
  {
   "cell_type": "markdown",
   "metadata": {},
   "source": [
    "Si lo que queremos es eliminar un directorio con archivos dentro, debemos usar el flag `-r`."
   ]
  },
  {
   "cell_type": "code",
   "execution_count": 48,
   "metadata": {},
   "outputs": [],
   "source": [
    "terminal(\"cd ..\")"
   ]
  },
  {
   "cell_type": "code",
   "execution_count": 49,
   "metadata": {},
   "outputs": [
    {
     "name": "stdout",
     "output_type": "stream",
     "text": [
      "\n"
     ]
    }
   ],
   "source": [
    "terminal('rm -r \"directorio prueba\"')"
   ]
  },
  {
   "cell_type": "code",
   "execution_count": 50,
   "metadata": {},
   "outputs": [
    {
     "name": "stdout",
     "output_type": "stream",
     "text": [
      "2021-02-11-Introduccion-a-Python.ipynb\n",
      "2021-04-23-Calculo-matricial-con-Numpy.ipynb\n",
      "2021-06-15-Manejo-de-datos-con-Pandas.ipynb\n",
      "2022-09-12 Introduccion a la terminal.ipynb\n",
      "2022-09-12 Introduccion a la terminal.txt\n",
      "command-line-cheat-sheet.pdf\n",
      "CSS.ipynb\n",
      "Docker.html\n",
      "Docker.ipynb\n",
      "Expresiones regulares.html\n",
      "Expresiones regulares.ipynb\n",
      "html_files\n",
      "html.ipynb\n",
      "introduccion_python\n",
      "movies.csv\n",
      "movies.dat\n",
      "notebooks_translated\n",
      "prueba\n",
      "prueba.txt\n",
      "__pycache__\n",
      "ssh.ipynb\n",
      "test.html\n",
      "test.ipynb\n",
      "\n"
     ]
    }
   ],
   "source": [
    "terminal(\"ls\")"
   ]
  },
  {
   "cell_type": "markdown",
   "metadata": {},
   "source": [
    "Como puedes ver nunca pregunta si estamos seguros, para que pregunte hay que añadir el flag `-i` (`iteractive`)"
   ]
  },
  {
   "cell_type": "code",
   "execution_count": 66,
   "metadata": {},
   "outputs": [
    {
     "name": "stdout",
     "output_type": "stream",
     "text": [
      "rm: ¿borrar el fichero regular vacío 'prueba.txt'? (s/n) s\n",
      "\n"
     ]
    }
   ],
   "source": [
    "terminal(\"rm -i prueba.txt\")"
   ]
  },
  {
   "cell_type": "markdown",
   "metadata": {},
   "source": [
    "\n",
    "## Explorando el contenido de los archivos"
   ]
  },
  {
   "cell_type": "markdown",
   "metadata": {},
   "source": [
    "Para no tener que abrir un archivo desde una interfaz gráfica tenemos varias formas. Voy a copiar un archivo de texto en esta carpeta lo primero"
   ]
  },
  {
   "cell_type": "code",
   "execution_count": 51,
   "metadata": {},
   "outputs": [],
   "source": [
    "terminal(\"cd prueba\")"
   ]
  },
  {
   "cell_type": "code",
   "execution_count": 52,
   "metadata": {},
   "outputs": [
    {
     "name": "stdout",
     "output_type": "stream",
     "text": [
      "\n"
     ]
    }
   ],
   "source": [
    "terminal(\"cp ../2021-02-11-Introduccion-a-Python.ipynb .\")"
   ]
  },
  {
   "cell_type": "code",
   "execution_count": 53,
   "metadata": {},
   "outputs": [
    {
     "name": "stdout",
     "output_type": "stream",
     "text": [
      "2021-02-11-Introduccion-a-Python.ipynb\n",
      "\n"
     ]
    }
   ],
   "source": [
    "terminal(\"ls\")"
   ]
  },
  {
   "cell_type": "markdown",
   "metadata": {},
   "source": [
    "### Cabecera de archivos con `head`"
   ]
  },
  {
   "cell_type": "markdown",
   "metadata": {},
   "source": [
    "El primer comando para poder ver dentro de un arhcivo de texto es `head`, que nos permite ver las primeras 10 líneas de un archivo, pero si se le mete el flag `-n` puedes indicar el número de líneas"
   ]
  },
  {
   "cell_type": "code",
   "execution_count": 54,
   "metadata": {},
   "outputs": [
    {
     "name": "stdout",
     "output_type": "stream",
     "text": [
      "{\n",
      "  \"cells\": [\n",
      "    {\n",
      "      \"cell_type\": \"markdown\",\n",
      "      \"metadata\": {\n",
      "        \"id\": \"dsaKCKL0IxZl\"\n",
      "      },\n",
      "      \"source\": [\n",
      "        \"# Introducción a Python\"\n",
      "      ]\n",
      "\n"
     ]
    }
   ],
   "source": [
    "terminal(\"head 2021-02-11-Introduccion-a-Python.ipynb\")"
   ]
  },
  {
   "cell_type": "code",
   "execution_count": 55,
   "metadata": {},
   "outputs": [
    {
     "name": "stdout",
     "output_type": "stream",
     "text": [
      "{\n",
      "  \"cells\": [\n",
      "    {\n",
      "      \"cell_type\": \"markdown\",\n",
      "      \"metadata\": {\n",
      "\n"
     ]
    }
   ],
   "source": [
    "terminal(\"head -n 5 2021-02-11-Introduccion-a-Python.ipynb\")"
   ]
  },
  {
   "cell_type": "markdown",
   "metadata": {},
   "source": [
    "### Cola de un archivo con `tail`"
   ]
  },
  {
   "cell_type": "markdown",
   "metadata": {},
   "source": [
    "En caso de querer ver las últimas líneas usamos `tail`"
   ]
  },
  {
   "cell_type": "code",
   "execution_count": 56,
   "metadata": {},
   "outputs": [
    {
     "name": "stdout",
     "output_type": "stream",
     "text": [
      "    },\n",
      "    \"vscode\": {\n",
      "      \"interpreter\": {\n",
      "        \"hash\": \"d5745ab6aba164e1152437c779991855725055592b9f2bdb41a4825db7168d26\"\n",
      "      }\n",
      "    }\n",
      "  },\n",
      "  \"nbformat\": 4,\n",
      "  \"nbformat_minor\": 0\n",
      "}\n",
      "\n"
     ]
    }
   ],
   "source": [
    "terminal(\"tail 2021-02-11-Introduccion-a-Python.ipynb\")"
   ]
  },
  {
   "cell_type": "code",
   "execution_count": 57,
   "metadata": {},
   "outputs": [
    {
     "name": "stdout",
     "output_type": "stream",
     "text": [
      "    }\n",
      "  },\n",
      "  \"nbformat\": 4,\n",
      "  \"nbformat_minor\": 0\n",
      "}\n",
      "\n"
     ]
    }
   ],
   "source": [
    "terminal(\"tail -n 5 2021-02-11-Introduccion-a-Python.ipynb\")"
   ]
  },
  {
   "cell_type": "markdown",
   "metadata": {},
   "source": [
    "Si queremos ver continuamente las últimas líneas de un archivo, por ejemplo, queremos estar monitorizando continuamente un archivo de LOG para ver eventos, añadimos el flag `-f`, esto hará que la terminal se quede continuamente comprobando el archivo, y cada vez que aparezca una nueva linea en el la mostrará"
   ]
  },
  {
   "cell_type": "markdown",
   "metadata": {},
   "source": [
    "Por ejemplo si yo monitoreo el log de inicio de sesión en mi máquna"
   ]
  },
  {
   "cell_type": "code",
   "execution_count": 57,
   "metadata": {},
   "outputs": [
    {
     "name": "stdout",
     "output_type": "stream",
     "text": [
      "Dec  1 16:27:22 wallabot gcr-prompter[1457]: Gcr: calling the PromptDone method on /org/gnome/keyring/Prompt/p2@:1.26, and ignoring reply\n",
      "Dec  1 16:27:22 wallabot gnome-keyring-daemon[1178]: asked to register item /org/freedesktop/secrets/collection/login/10, but it's already registered\n",
      "Dec  1 16:27:26 wallabot systemd-logind[835]: Watching system buttons on /dev/input/event28 (Logitech Wireless Mouse MX Master 3)\n",
      "Dec  1 16:27:33 wallabot gcr-prompter[1457]: Gcr: 10 second inactivity timeout, quitting\n",
      "Dec  1 16:27:33 wallabot gcr-prompter[1457]: Gcr: unregistering prompter\n",
      "Dec  1 16:27:33 wallabot gcr-prompter[1457]: Gcr: disposing prompter\n",
      "Dec  1 16:27:33 wallabot gcr-prompter[1457]: Gcr: finalizing prompter\n",
      "Dec  1 16:27:34 wallabot polkitd(authority=local): Operator of unix-session:1 successfully authenticated as unix-user:wallabot to gain TEMPORARY authorization for action org.debian.apt.install-or-remove-packages for system-bus-name::1.96 [/usr/bin/python3 /usr/bin/update-manager --no-update --no-focus-on-map] (owned by unix-user:wallabot)\n",
      "Dec  1 16:27:42 wallabot systemd-logind[835]: Watching system buttons on /dev/input/event30 (T9-R (AVRCP))\n",
      "Dec  1 16:27:49 wallabot gnome-keyring-daemon[1178]: asked to register item /org/freedesktop/secrets/collection/login/2, but it's already registered\n"
     ]
    }
   ],
   "source": [
    "!tail -f /var/log/auth.log"
   ]
  },
  {
   "cell_type": "markdown",
   "metadata": {},
   "source": [
    "Vemos en las dos últimas líneas mi inicio de sesión cuando he encendido hoy mi ordenador"
   ]
  },
  {
   "cell_type": "markdown",
   "metadata": {},
   "source": [
    "Ahora me conecto por ssh a mi propia máquina"
   ]
  },
  {
   "cell_type": "code",
   "execution_count": 57,
   "metadata": {},
   "outputs": [
    {
     "name": "stdout",
     "output_type": "stream",
     "text": [
      "wallabot@localhost's password: \n",
      "Welcome to Ubuntu 20.04.5 LTS (GNU/Linux 5.15.0-53-generic x86_64)\n",
      "\n",
      " * Documentation:  https://help.ubuntu.com\n",
      " * Management:     https://landscape.canonical.com\n",
      " * Support:        https://ubuntu.com/advantage\n",
      "\n",
      "1 device has a firmware upgrade available.\n",
      "Run `fwupdmgr get-upgrades` for more information.\n",
      "\n",
      "\n",
      "Se pueden aplicar 0 actualizaciones de forma inmediata.\n",
      "\n",
      "Your Hardware Enablement Stack (HWE) is supported until April 2025.\n",
      "*** System restart required ***\n",
      "Last login: Sun May  8 02:18:09 2022 from 192.168.1.147\n"
     ]
    }
   ],
   "source": [
    "!ssh localhost"
   ]
  },
  {
   "cell_type": "markdown",
   "metadata": {},
   "source": [
    "En la consola donde estaba monitorizando el inicio de sesión han aparecido dos nuevas líneas"
   ]
  },
  {
   "cell_type": "code",
   "execution_count": 57,
   "metadata": {},
   "outputs": [
    {
     "name": "stdout",
     "output_type": "stream",
     "text": [
      "Dec  1 16:32:23 wallabot sshd[25647]: Accepted password for wallabot from 127.0.0.1 port 54668 ssh2\n",
      "Dec  1 16:32:23 wallabot sshd[25647]: pam_unix(sshd:session): session opened for user wallabot by (uid=0)\n",
      "Dec  1 16:32:23 wallabot systemd-logind[835]: New session 4 of user wallabot.\n"
     ]
    }
   ],
   "source": []
  },
  {
   "cell_type": "markdown",
   "metadata": {},
   "source": [
    "Y cuando cierro la sesión ssh aparecen otras dos líneas nuevas"
   ]
  },
  {
   "cell_type": "code",
   "execution_count": 57,
   "metadata": {},
   "outputs": [
    {
     "name": "stdout",
     "output_type": "stream",
     "text": [
      "Dec  1 16:33:52 wallabot sshd[25647]: pam_unix(sshd:session): session closed for user wallabot\n",
      "Dec  1 16:33:52 wallabot systemd-logind[835]: Session 4 logged out. Waiting for processes to exit.\n",
      "Dec  1 16:33:52 wallabot systemd-logind[835]: Removed session 4.\n"
     ]
    }
   ],
   "source": []
  },
  {
   "cell_type": "markdown",
   "metadata": {},
   "source": [
    "### El visor de archivos más potente: `less`"
   ]
  },
  {
   "cell_type": "markdown",
   "metadata": {},
   "source": [
    "Uno de los comandos más potentes para ver dentro de los archivos es `less`"
   ]
  },
  {
   "cell_type": "code",
   "execution_count": 58,
   "metadata": {},
   "outputs": [
    {
     "name": "stdout",
     "output_type": "stream",
     "text": [
      "{\n",
      "  \"cells\": [\n",
      "    {\n",
      "      \"cell_type\": \"markdown\",\n",
      "      \"metadata\": {\n",
      "        \"id\": \"dsaKCKL0IxZl\"\n",
      "      },\n",
      "      \"source\": [\n",
      "        \"# Introducción a Python\"\n",
      "      ]\n",
      "    },\n",
      "    {\n",
      "      \"cell_type\": \"markdown\",\n",
      "      \"metadata\": {\n",
      "        \"id\": \"Ho_8zgIiI0We\"\n",
      "      },\n",
      "      \"source\": [\n",
      "        \"## 1. Resumen\"\n",
      "      ]\n",
      "    },\n",
      "\t ...\n",
      "  },\n",
      "  \"nbformat\": 4,\n",
      "  \"nbformat_minor\": 0\n",
      "}\n",
      "\n"
     ]
    }
   ],
   "source": [
    "terminal(\"less 2021-02-11-Introduccion-a-Python.ipynb\", max_lines_output=20)"
   ]
  },
  {
   "cell_type": "markdown",
   "metadata": {},
   "source": [
    "Al estar dentro de un cuaderno no se puede ver lo que ocurre realmente al usar `less` pero cuando lo usamos nos metemos en el documento, podemos movernos a través de el mediante las teclas, o con el ratón\n",
    "\n",
    "Si queremos buscar algo dentro del docuento, escribimos el caracter `/` y lo que queramos buscar. Para cambiar entre las distintas instancias que ha encontrado pulsamos la tecla `n`, y si queremos volver hacia atrás en las búsquedas pulsamos `shift+n`\n",
    "\n",
    "Para salir solo hay que pulsar `q`"
   ]
  },
  {
   "cell_type": "markdown",
   "metadata": {},
   "source": [
    "### El visor `cat`"
   ]
  },
  {
   "cell_type": "markdown",
   "metadata": {},
   "source": [
    "`cat` no es un visor tan potente como `less` pero sirve para ver archivos. No te permite navegar por el archivo ni hacer búsquedas. Muestra todo el contenido del archivo"
   ]
  },
  {
   "cell_type": "code",
   "execution_count": 64,
   "metadata": {},
   "outputs": [
    {
     "name": "stdout",
     "output_type": "stream",
     "text": [
      "{\n",
      "  \"cells\": [\n",
      "    {\n",
      "      \"cell_type\": \"markdown\",\n",
      "      \"metadata\": {\n",
      "        \"id\": \"dsaKCKL0IxZl\"\n",
      "      },\n",
      "      \"source\": [\n",
      "        \"# Introducción a Python\"\n",
      "      ]\n",
      "    },\n",
      "    {\n",
      "      \"cell_type\": \"markdown\",\n",
      "      \"metadata\": {\n",
      "        \"id\": \"Ho_8zgIiI0We\"\n",
      "      },\n",
      "      \"source\": [\n",
      "        \"## 1. Resumen\"\n",
      "      ]\n",
      "    },\n",
      "\t ...\n",
      "  },\n",
      "  \"nbformat\": 4,\n",
      "  \"nbformat_minor\": 0\n",
      "}\n",
      "\n"
     ]
    }
   ],
   "source": [
    "terminal(\"cat 2021-02-11-Introduccion-a-Python.ipynb\", max_lines_output=20)"
   ]
  },
  {
   "cell_type": "markdown",
   "metadata": {},
   "source": [
    "### Editor por defecto del sistema `xdg-open`"
   ]
  },
  {
   "cell_type": "markdown",
   "metadata": {},
   "source": [
    "Si lo queremos abrir con el editor por defecto del archivo tenemos que usar `xdg-open`"
   ]
  },
  {
   "cell_type": "code",
   "execution_count": 59,
   "metadata": {},
   "outputs": [
    {
     "name": "stdout",
     "output_type": "stream",
     "text": [
      "\n"
     ]
    }
   ],
   "source": [
    "terminal(\"xdg-open 2021-02-11-Introducción-a-Python.ipynb\")"
   ]
  },
  {
   "cell_type": "markdown",
   "metadata": {},
   "source": [
    "### Navegador de archivos `nautilus`"
   ]
  },
  {
   "cell_type": "markdown",
   "metadata": {},
   "source": [
    "Si lo que queremos es abrir la carpeta en la que estamos usamos `nautilus`"
   ]
  },
  {
   "cell_type": "code",
   "execution_count": 60,
   "metadata": {},
   "outputs": [
    {
     "name": "stdout",
     "output_type": "stream",
     "text": [
      "\n"
     ]
    }
   ],
   "source": [
    "terminal(\"nautilus\")"
   ]
  },
  {
   "cell_type": "markdown",
   "metadata": {},
   "source": [
    "Y si lo que queremos es que se abra en una ruta determinada se incluye la ruta"
   ]
  },
  {
   "cell_type": "code",
   "execution_count": 62,
   "metadata": {},
   "outputs": [
    {
     "name": "stdout",
     "output_type": "stream",
     "text": [
      "\n"
     ]
    }
   ],
   "source": [
    "terminal(\"nautilus ~/\")"
   ]
  },
  {
   "cell_type": "markdown",
   "metadata": {},
   "source": [
    "### Contador de palabras de un archivo con `wc` (word count)"
   ]
  },
  {
   "cell_type": "markdown",
   "metadata": {},
   "source": [
    "Por último, un comando muy útil es `wc` (word count), que te muestra cuántas líneas, palabras y bits tiene un archivo"
   ]
  },
  {
   "cell_type": "code",
   "execution_count": 63,
   "metadata": {},
   "outputs": [
    {
     "name": "stdout",
     "output_type": "stream",
     "text": [
      " 11678  25703 285898 2021-02-11-Introduccion-a-Python.ipynb\n",
      "\n"
     ]
    }
   ],
   "source": [
    "terminal(\"wc 2021-02-11-Introduccion-a-Python.ipynb\")"
   ]
  },
  {
   "cell_type": "markdown",
   "metadata": {},
   "source": [
    "Como vemos, el archivo tiene 11678 líneas, 25703 palabras y ocupa 285898 bytes"
   ]
  },
  {
   "cell_type": "markdown",
   "metadata": {},
   "source": [
    "## Qué es un comando"
   ]
  },
  {
   "cell_type": "markdown",
   "metadata": {},
   "source": [
    "Un comando puede ser 4 cosas\n",
    " * Un programa ejecutable, estos normalmente se guardan en la ruta `/usr/bin`\n",
    " * Un comando de shell\n",
    " * Una función de shell\n",
    " * Un alias"
   ]
  },
  {
   "cell_type": "markdown",
   "metadata": {},
   "source": [
    "Para ver a qué clase pertenece un comando usamos `type`"
   ]
  },
  {
   "cell_type": "code",
   "execution_count": 65,
   "metadata": {},
   "outputs": [
    {
     "name": "stdout",
     "output_type": "stream",
     "text": [
      "cd is a shell builtin\n"
     ]
    }
   ],
   "source": [
    "!type cd"
   ]
  },
  {
   "cell_type": "code",
   "execution_count": 66,
   "metadata": {},
   "outputs": [
    {
     "name": "stdout",
     "output_type": "stream",
     "text": [
      "mkdir is /usr/bin/mkdir\n"
     ]
    }
   ],
   "source": [
    "!type mkdir"
   ]
  },
  {
   "cell_type": "code",
   "execution_count": 67,
   "metadata": {},
   "outputs": [
    {
     "name": "stdout",
     "output_type": "stream",
     "text": [
      "ls is /usr/bin/ls\n"
     ]
    }
   ],
   "source": [
    "!type ls"
   ]
  },
  {
   "cell_type": "markdown",
   "metadata": {},
   "source": [
    "## ¿Qué es un alias?"
   ]
  },
  {
   "cell_type": "markdown",
   "metadata": {},
   "source": [
    "Un alias es un comando que definimos nosotros, este se define mediante el comando `alias`. Por ejemplo, vamos a crear el alias `l` que lo que haga sea `ls -h`"
   ]
  },
  {
   "cell_type": "code",
   "execution_count": 68,
   "metadata": {},
   "outputs": [],
   "source": [
    "!alias l='ls -l'"
   ]
  },
  {
   "cell_type": "markdown",
   "metadata": {},
   "source": [
    "Cuando ejecutamos `l` nos muestra el resultado de `ls -h`"
   ]
  },
  {
   "cell_type": "code",
   "execution_count": 67,
   "metadata": {},
   "outputs": [
    {
     "name": "stdout",
     "output_type": "stream",
     "text": [
      "2021-02-11-Introducción-a-Python.ipynb\n"
     ]
    }
   ],
   "source": [
    "!l"
   ]
  },
  {
   "cell_type": "markdown",
   "metadata": {},
   "source": [
    "Pero esto tiene el problema, que cuando cerremos la terminal desaparece el `alias`. Más adelante aprenderemos a crear `alias` permanentes"
   ]
  },
  {
   "cell_type": "markdown",
   "metadata": {},
   "source": [
    "## Ayuda de los comandos"
   ]
  },
  {
   "cell_type": "markdown",
   "metadata": {},
   "source": [
    "### Ayuda con `help`"
   ]
  },
  {
   "cell_type": "markdown",
   "metadata": {},
   "source": [
    "Con muchos comandos de la shell, podemos obtener su ayuda mediante el comando `help`"
   ]
  },
  {
   "cell_type": "code",
   "execution_count": 67,
   "metadata": {},
   "outputs": [
    {
     "name": "stdout",
     "output_type": "stream",
     "text": [
      "cd: cd [-L|[-P [-e]]] [dir]\n",
      "    Modifica el directorio de trabajo del shell.\n",
      "    \n",
      "    Modifica el directorio actual a DIR.  DIR por defecto es el valor de la\n",
      "    variable de shell HOME.\n",
      "    \n",
      "    La variable CDPATH define la ruta de búsqueda para el directorio que\n",
      "    contiene DIR.  Los nombres alternativos de directorio en CDPATH se\n",
      "    separan con dos puntos (:).  Un nombre de directorio nulo es igual que\n",
      "    el directorio actual.  Si DIR comienza con una barra inclinada (/),\n",
      "    entonces no se usa CDPATH.\n",
      "    \n",
      "    Si no se encuentra el directorio, y la opción del shell \"cdable_vars\"\n",
      "    está activa, entonces se trata la palabra como un nombre de variable.\n",
      "    Si esa variable tiene un valor, se utiliza su valor para DIR.\n",
      "    \n",
      "    Opciones:\n",
      "      -L\tfuerza a seguir los enlaces simbólicos: resuelve los enlaces\n",
      "    \t\tsimbólicos en DIR después de procesar las instancias de \"..\"\n",
      "      -P\tusa la estructura física de directorios sin seguir los enlaces\n",
      "    \t\tsimbólicos: resuelve los enlaces simbólicos en DIR antes de procesar\n",
      "    \t\tlas instancias de \"..\"\n",
      "      -e\tsi se da la opción -P y el directorio actual de trabajo no se\n",
      "    \t\tpuede determinar con éxito, termina con un estado diferente de cero.\n",
      "    \n",
      "    La acción por defecto es seguir los enlaces simbólicos, como si se\n",
      "    especificara \"-L\".\n",
      "    \"..\" se procesa quitando la componente del nombre de la ruta inmediatamente\n",
      "    anterior hasta una barra inclinada o el comienzo de DIR.\n",
      "    \n",
      "    Estado de Salida:\n",
      "    Devuelve 0 si se cambia el directorio, y si $PWD está definido como\n",
      "    correcto cuando se emplee -P; de otra forma es diferente a cero.\n"
     ]
    }
   ],
   "source": [
    "!help cd"
   ]
  },
  {
   "cell_type": "markdown",
   "metadata": {},
   "source": [
    "### Manual con `man`"
   ]
  },
  {
   "cell_type": "markdown",
   "metadata": {},
   "source": [
    "Otro comando es `man`, que hace referencia al manual de usuario"
   ]
  },
  {
   "cell_type": "code",
   "execution_count": 70,
   "metadata": {},
   "outputs": [
    {
     "name": "stdout",
     "output_type": "stream",
     "text": [
      "LS(1)                            User Commands                           LS(1)\n",
      "\n",
      "NAME\n",
      "       ls - list directory contents\n",
      "\n",
      "SYNOPSIS\n",
      "       ls [OPTION]... [FILE]...\n",
      "\n",
      "DESCRIPTION\n",
      "       List  information  about  the FILEs (the current directory by default).\n",
      "       Sort entries alphabetically if none of -cftuvSUX nor --sort  is  speci‐\n",
      "       fied.\n",
      "\n",
      "       Mandatory  arguments  to  long  options are mandatory for short options\n",
      "       too.\n",
      "\n",
      "       -a, --all\n",
      "              do not ignore entries starting with .\n",
      "\n",
      "       -A, --almost-all\n",
      "\t ...\n",
      "       Full documentation at: <https://www.gnu.org/software/coreutils/ls>\n",
      "       or available locally via: info '(coreutils) ls invocation'\n",
      "\n",
      "GNU coreutils 8.30              September 2019                           LS(1)\n",
      "\n"
     ]
    }
   ],
   "source": [
    "terminal(\"man ls\", max_lines_output=20)"
   ]
  },
  {
   "cell_type": "markdown",
   "metadata": {},
   "source": [
    "Para salir pulsar `q`, ya que `man` utiliza a `less` como visualizador del manual"
   ]
  },
  {
   "cell_type": "markdown",
   "metadata": {},
   "source": [
    "### Información con `info`"
   ]
  },
  {
   "cell_type": "markdown",
   "metadata": {},
   "source": [
    "Otro comando es `info`"
   ]
  },
  {
   "cell_type": "code",
   "execution_count": 71,
   "metadata": {},
   "outputs": [
    {
     "name": "stdout",
     "output_type": "stream",
     "text": [
      "File: coreutils.info,  Node: ls invocation,  Next: dir invocation,  Up: Directory listing\n",
      "\n",
      "10.1 ‘ls’: List directory contents\n",
      "==================================\n",
      "\n",
      "The ‘ls’ program lists information about files (of any type, including\n",
      "directories).  Options and file arguments can be intermixed arbitrarily,\n",
      "as usual.\n",
      "\n",
      "   For non-option command-line arguments that are directories, by\n",
      "default ‘ls’ lists the contents of directories, not recursively, and\n",
      "omitting files with names beginning with ‘.’.  For other non-option\n",
      "arguments, by default ‘ls’ lists just the file name.  If no non-option\n",
      "argument is specified, ‘ls’ operates on the current directory, acting as\n",
      "if it had been invoked with a single argument of ‘.’.\n",
      "\n",
      "   By default, the output is sorted alphabetically, according to the\n",
      "locale settings in effect.(1)  If standard output is a terminal, the\n",
      "output is in columns (sorted vertically) and control characters are\n",
      "output as question marks; otherwise, the output is listed one per line\n",
      "\t ...\n",
      "‘--show-control-chars’\n",
      "     Print nongraphic characters as-is in file names.  This is the\n",
      "     default unless the output is a terminal and the program is ‘ls’.\n",
      "\n",
      "\n"
     ]
    }
   ],
   "source": [
    "terminal(\"info ls\", max_lines_output=20)"
   ]
  },
  {
   "cell_type": "markdown",
   "metadata": {},
   "source": [
    "Para salir pulsar `q`, ya que `info` utiliza a `less` como visualizador de la información"
   ]
  },
  {
   "cell_type": "markdown",
   "metadata": {},
   "source": [
    "### Información de un comando con `whatis`"
   ]
  },
  {
   "cell_type": "markdown",
   "metadata": {},
   "source": [
    "Otro comando es `whatis`"
   ]
  },
  {
   "cell_type": "code",
   "execution_count": 72,
   "metadata": {},
   "outputs": [
    {
     "name": "stdout",
     "output_type": "stream",
     "text": [
      "ls (1)               - list directory contents\n",
      "\n"
     ]
    }
   ],
   "source": [
    "terminal(\"whatis ls\")"
   ]
  },
  {
   "cell_type": "markdown",
   "metadata": {},
   "source": [
    "## Wildcards"
   ]
  },
  {
   "cell_type": "markdown",
   "metadata": {},
   "source": [
    "Las wildcards son caracteres especiales que nos sirven para realizar búsquedas especiales. Por ejemplo, si quiero buscar todos los archivos que terminen en `.txt`. Vamos a crear unos cuantos archivos para verlas"
   ]
  },
  {
   "cell_type": "code",
   "execution_count": 73,
   "metadata": {},
   "outputs": [
    {
     "name": "stdout",
     "output_type": "stream",
     "text": [
      "\n"
     ]
    }
   ],
   "source": [
    "terminal(\"touch file.txt dot.txt dot2.txt index.html datos1 datos123 Abc\")"
   ]
  },
  {
   "cell_type": "code",
   "execution_count": 74,
   "metadata": {},
   "outputs": [
    {
     "name": "stdout",
     "output_type": "stream",
     "text": [
      "2021-02-11-Introduccion-a-Python.ipynb\n",
      "Abc\n",
      "datos1\n",
      "datos123\n",
      "dot2.txt\n",
      "dot.txt\n",
      "file.txt\n",
      "index.html\n",
      "\n"
     ]
    }
   ],
   "source": [
    "terminal(\"ls\")"
   ]
  },
  {
   "cell_type": "markdown",
   "metadata": {},
   "source": [
    "### Todos los caracteres `*`"
   ]
  },
  {
   "cell_type": "markdown",
   "metadata": {},
   "source": [
    "Vamos a buscar ahora todos los archivos `.txt`"
   ]
  },
  {
   "cell_type": "code",
   "execution_count": 75,
   "metadata": {},
   "outputs": [
    {
     "name": "stdout",
     "output_type": "stream",
     "text": [
      "dot2.txt  dot.txt  file.txt\n"
     ]
    }
   ],
   "source": [
    "!ls *.txt"
   ]
  },
  {
   "cell_type": "markdown",
   "metadata": {},
   "source": [
    "Vamos ahora a buscar todos los que empiecen por la palabra `datos`"
   ]
  },
  {
   "cell_type": "code",
   "execution_count": 76,
   "metadata": {},
   "outputs": [
    {
     "name": "stdout",
     "output_type": "stream",
     "text": [
      "datos1\tdatos123\n"
     ]
    }
   ],
   "source": [
    "!ls datos*"
   ]
  },
  {
   "cell_type": "markdown",
   "metadata": {},
   "source": [
    "### Números `?`"
   ]
  },
  {
   "cell_type": "markdown",
   "metadata": {},
   "source": [
    "Pero qué pasa si en realidad lo que queremos es que nos muestre todos los archivos que empiecen por la palabra `datos` pero segido solo un números, tenemos que poner un signo de interrogación `?`"
   ]
  },
  {
   "cell_type": "code",
   "execution_count": 76,
   "metadata": {},
   "outputs": [
    {
     "name": "stdout",
     "output_type": "stream",
     "text": [
      "datos1\n"
     ]
    }
   ],
   "source": [
    "!ls datos?"
   ]
  },
  {
   "cell_type": "markdown",
   "metadata": {},
   "source": [
    "Si lo que queremos es que tenga tres números, entonces tenemos que poner tres signos de interrogación `???`"
   ]
  },
  {
   "cell_type": "code",
   "execution_count": 76,
   "metadata": {},
   "outputs": [
    {
     "name": "stdout",
     "output_type": "stream",
     "text": [
      "datos123\n"
     ]
    }
   ],
   "source": [
    "!ls datos???"
   ]
  },
  {
   "cell_type": "markdown",
   "metadata": {},
   "source": [
    "### Mayúsculas `[[:upper:]]`"
   ]
  },
  {
   "cell_type": "markdown",
   "metadata": {},
   "source": [
    "Si queremos que busque los archivos que empiecen por mayúsculas"
   ]
  },
  {
   "cell_type": "code",
   "execution_count": 76,
   "metadata": {},
   "outputs": [
    {
     "name": "stdout",
     "output_type": "stream",
     "text": [
      "Abc\n"
     ]
    }
   ],
   "source": [
    "!ls [[:upper:]]*"
   ]
  },
  {
   "cell_type": "markdown",
   "metadata": {},
   "source": [
    "### Minúsculas `[[:lower:]]`"
   ]
  },
  {
   "cell_type": "markdown",
   "metadata": {},
   "source": [
    "Para los archivos que empiecen con minúsculas"
   ]
  },
  {
   "cell_type": "code",
   "execution_count": 76,
   "metadata": {},
   "outputs": [
    {
     "name": "stdout",
     "output_type": "stream",
     "text": [
      "datos1  datos123  dot2.txt  dot.txt  file.txt  index.html\n"
     ]
    }
   ],
   "source": [
    "!ls [[:lower:]]*"
   ]
  },
  {
   "cell_type": "markdown",
   "metadata": {},
   "source": [
    "### Clases"
   ]
  },
  {
   "cell_type": "markdown",
   "metadata": {},
   "source": [
    "Mediante el usos de corchetes podemos crear clases, así si queremos buscar los archivos que empiecen por las letras `d` o `f` seguido de cualquier caracter"
   ]
  },
  {
   "cell_type": "code",
   "execution_count": 76,
   "metadata": {},
   "outputs": [
    {
     "name": "stdout",
     "output_type": "stream",
     "text": [
      "datos1  datos123  dot2.txt  dot.txt  file.txt\n"
     ]
    }
   ],
   "source": [
    "!ls [df]*"
   ]
  },
  {
   "cell_type": "markdown",
   "metadata": {},
   "source": [
    "## Redirecciones: como funciona la shell"
   ]
  },
  {
   "cell_type": "markdown",
   "metadata": {},
   "source": [
    "Un comando funciona de la siguiente manera\n",
    "\n",
    "![pipeline comando](https://ptgmedia.pearsoncmg.com/images/chap5_9780133927313/elementLinks/05fig02_alt.jpg)\n",
    "\n",
    "Tiene un `standard input`, que por defecto es el texto que intorducimos por teclado, un `standard output`, que por defecto es el texto que sale por consola y un `standard error` que también es por defecto un texto que sale por consola, pero que tiene otro formato"
   ]
  },
  {
   "cell_type": "markdown",
   "metadata": {},
   "source": [
    "### Redirección del `standard output`"
   ]
  },
  {
   "cell_type": "markdown",
   "metadata": {},
   "source": [
    "Pero con el caracter `>` podemos modificar el `standard output` de un comando. Por ejemplo, si queremos listar con `ls` los archivos de la carpeta en la que estamos, pero no queremos que el resultado se imprima por pantalla, sino que se guarde en un archivo haríamos lo siguiente `ls > lista.txt`, esto escribe la lista en `lista.txt`, además si `lista.txt` no existe lo crea"
   ]
  },
  {
   "cell_type": "code",
   "execution_count": 77,
   "metadata": {},
   "outputs": [],
   "source": [
    "!ls > lista.txt"
   ]
  },
  {
   "cell_type": "markdown",
   "metadata": {},
   "source": [
    "Vemos que ha creado el archivo y vemos qué hay dentro"
   ]
  },
  {
   "cell_type": "code",
   "execution_count": 78,
   "metadata": {},
   "outputs": [
    {
     "name": "stdout",
     "output_type": "stream",
     "text": [
      "2021-02-11-Introduccion-a-Python.ipynb\n",
      "Abc\n",
      "datos1\n",
      "datos123\n",
      "dot2.txt\n",
      "dot.txt\n",
      "file.txt\n",
      "index.html\n",
      "lista.txt\n",
      "\n"
     ]
    }
   ],
   "source": [
    "terminal(\"ls\")"
   ]
  },
  {
   "cell_type": "code",
   "execution_count": 79,
   "metadata": {},
   "outputs": [
    {
     "name": "stdout",
     "output_type": "stream",
     "text": [
      "2021-02-11-Introduccion-a-Python.ipynb\n",
      "Abc\n",
      "datos1\n",
      "datos123\n",
      "dot2.txt\n",
      "dot.txt\n",
      "file.txt\n",
      "index.html\n",
      "lista.txt\n",
      "\n"
     ]
    }
   ],
   "source": [
    "terminal(\"cat lista.txt\")"
   ]
  },
  {
   "cell_type": "markdown",
   "metadata": {},
   "source": [
    "Vemos que dentro de `lista.txt` aparece `lista.txt`, eso es porque primero crea el archivo y luego ejecuta el comando"
   ]
  },
  {
   "cell_type": "markdown",
   "metadata": {},
   "source": [
    "Hacemos lo mismo pero con la carpeta padre"
   ]
  },
  {
   "cell_type": "code",
   "execution_count": 80,
   "metadata": {},
   "outputs": [],
   "source": [
    "!ls ../ > lista.txt"
   ]
  },
  {
   "cell_type": "markdown",
   "metadata": {},
   "source": [
    "Si volvemos a ver dentro de `lista.txt`"
   ]
  },
  {
   "cell_type": "code",
   "execution_count": 81,
   "metadata": {},
   "outputs": [
    {
     "name": "stdout",
     "output_type": "stream",
     "text": [
      "2021-02-11-Introduccion-a-Python.ipynb\n",
      "2021-04-23-Calculo-matricial-con-Numpy.ipynb\n",
      "2021-06-15-Manejo-de-datos-con-Pandas.ipynb\n",
      "2022-09-12 Introduccion a la terminal.ipynb\n",
      "2022-09-12 Introduccion a la terminal.txt\n",
      "command-line-cheat-sheet.pdf\n",
      "CSS.ipynb\n",
      "Docker.html\n",
      "Docker.ipynb\n",
      "Expresiones regulares.html\n",
      "Expresiones regulares.ipynb\n",
      "html_files\n",
      "html.ipynb\n",
      "introduccion_python\n",
      "movies.csv\n",
      "movies.dat\n",
      "notebooks_translated\n",
      "prueba\n",
      "__pycache__\n",
      "ssh.ipynb\n",
      "test.html\n",
      "test.ipynb\n",
      "\n"
     ]
    }
   ],
   "source": [
    "terminal(\"cat lista.txt\")"
   ]
  },
  {
   "cell_type": "markdown",
   "metadata": {},
   "source": [
    "Vemos que se sobreescribe el contenido"
   ]
  },
  {
   "cell_type": "markdown",
   "metadata": {},
   "source": [
    "Si lo que queremos es que se concatene el contenido debemos usar `>>`"
   ]
  },
  {
   "cell_type": "code",
   "execution_count": 82,
   "metadata": {},
   "outputs": [],
   "source": [
    "!ls > lista.txt"
   ]
  },
  {
   "cell_type": "code",
   "execution_count": 83,
   "metadata": {},
   "outputs": [],
   "source": [
    "!ls ../ >> lista.txt"
   ]
  },
  {
   "cell_type": "code",
   "execution_count": 84,
   "metadata": {},
   "outputs": [
    {
     "name": "stdout",
     "output_type": "stream",
     "text": [
      "2021-02-11-Introduccion-a-Python.ipynb\n",
      "Abc\n",
      "datos1\n",
      "datos123\n",
      "dot2.txt\n",
      "dot.txt\n",
      "file.txt\n",
      "index.html\n",
      "lista.txt\n",
      "2021-02-11-Introduccion-a-Python.ipynb\n",
      "2021-04-23-Calculo-matricial-con-Numpy.ipynb\n",
      "2021-06-15-Manejo-de-datos-con-Pandas.ipynb\n",
      "2022-09-12 Introduccion a la terminal.ipynb\n",
      "2022-09-12 Introduccion a la terminal.txt\n",
      "command-line-cheat-sheet.pdf\n",
      "CSS.ipynb\n",
      "Docker.html\n",
      "Docker.ipynb\n",
      "Expresiones regulares.html\n",
      "Expresiones regulares.ipynb\n",
      "html_files\n",
      "html.ipynb\n",
      "introduccion_python\n",
      "movies.csv\n",
      "movies.dat\n",
      "notebooks_translated\n",
      "prueba\n",
      "__pycache__\n",
      "ssh.ipynb\n",
      "test.html\n",
      "test.ipynb\n",
      "\n"
     ]
    }
   ],
   "source": [
    "terminal(\"cat lista.txt\")"
   ]
  },
  {
   "cell_type": "markdown",
   "metadata": {},
   "source": [
    "Ahora si se ha concatenado la información"
   ]
  },
  {
   "cell_type": "markdown",
   "metadata": {},
   "source": [
    "Esto es muy últil para crear archivos de log"
   ]
  },
  {
   "cell_type": "markdown",
   "metadata": {},
   "source": [
    "### Redirección del `standard error`"
   ]
  },
  {
   "cell_type": "markdown",
   "metadata": {},
   "source": [
    "Si realizamos una operación incorrecta obtenemos un error, veamos que pasa al redireccionar un comando que da un error"
   ]
  },
  {
   "cell_type": "code",
   "execution_count": 85,
   "metadata": {},
   "outputs": [
    {
     "name": "stdout",
     "output_type": "stream",
     "text": [
      "ls: no se puede acceder a 'fjhdsalkfs': No existe el archivo o el directorio\n"
     ]
    }
   ],
   "source": [
    "!ls fjhdsalkfs > lista.txt"
   ]
  },
  {
   "cell_type": "markdown",
   "metadata": {},
   "source": [
    "Como vemos ha dado un error, pero si ahora vemos dentro de `lista.txt`"
   ]
  },
  {
   "cell_type": "code",
   "execution_count": 86,
   "metadata": {},
   "outputs": [
    {
     "name": "stdout",
     "output_type": "stream",
     "text": [
      "\n"
     ]
    }
   ],
   "source": [
    "terminal(\"cat lista.txt\")"
   ]
  },
  {
   "cell_type": "markdown",
   "metadata": {},
   "source": [
    "Vemos que el archivo está vacío, eso es porque no hemos redireccionado el `standard error` a `lista.txt`, sino el `standard output`. Como hemos visto en la imagen, hay dos standards de salida en un comando, el primero es el `standard output` y el segundo el `standard error`, por lo que para redireccionar el standard error hay que indicarlo mediante `2>`. Vamos ahora así"
   ]
  },
  {
   "cell_type": "code",
   "execution_count": 87,
   "metadata": {},
   "outputs": [],
   "source": [
    "!ls kjhsfskjd 2> lista.txt"
   ]
  },
  {
   "cell_type": "code",
   "execution_count": 88,
   "metadata": {},
   "outputs": [
    {
     "name": "stdout",
     "output_type": "stream",
     "text": [
      "ls: no se puede acceder a 'kjhsfskjd': No existe el archivo o el directorio\n",
      "\n"
     ]
    }
   ],
   "source": [
    "terminal(\"cat lista.txt\")"
   ]
  },
  {
   "cell_type": "markdown",
   "metadata": {},
   "source": [
    "Como vemos ahora si se ha redireccionado"
   ]
  },
  {
   "cell_type": "markdown",
   "metadata": {},
   "source": [
    "### Redirección del `standard output` y del `standard error`"
   ]
  },
  {
   "cell_type": "markdown",
   "metadata": {},
   "source": [
    "Si queremos redireccionar los dos usamos lo siguiente"
   ]
  },
  {
   "cell_type": "code",
   "execution_count": 89,
   "metadata": {},
   "outputs": [],
   "source": [
    "!ls kjhsfskjd > lista.txt 2>&1"
   ]
  },
  {
   "cell_type": "markdown",
   "metadata": {},
   "source": [
    "Veamos dentro de `lista.txt`"
   ]
  },
  {
   "cell_type": "code",
   "execution_count": 90,
   "metadata": {},
   "outputs": [
    {
     "name": "stdout",
     "output_type": "stream",
     "text": [
      "ls: no se puede acceder a 'kjhsfskjd': No existe el archivo o el directorio\n",
      "\n"
     ]
    }
   ],
   "source": [
    "terminal(\"cat lista.txt\")"
   ]
  },
  {
   "cell_type": "markdown",
   "metadata": {},
   "source": [
    "Si ahora ejecutamos un comando sin error"
   ]
  },
  {
   "cell_type": "code",
   "execution_count": 91,
   "metadata": {},
   "outputs": [],
   "source": [
    "!ls . >> lista.txt 2>&1"
   ]
  },
  {
   "cell_type": "markdown",
   "metadata": {},
   "source": [
    "Veamos dentro de `lista.txt` (**ojo**, ahora hemos concatenado)"
   ]
  },
  {
   "cell_type": "code",
   "execution_count": 92,
   "metadata": {},
   "outputs": [
    {
     "name": "stdout",
     "output_type": "stream",
     "text": [
      "ls: no se puede acceder a 'kjhsfskjd': No existe el archivo o el directorio\n",
      "2021-02-11-Introduccion-a-Python.ipynb\n",
      "Abc\n",
      "datos1\n",
      "datos123\n",
      "dot2.txt\n",
      "dot.txt\n",
      "file.txt\n",
      "index.html\n",
      "lista.txt\n",
      "\n"
     ]
    }
   ],
   "source": [
    "terminal(\"cat lista.txt\")"
   ]
  },
  {
   "cell_type": "markdown",
   "metadata": {},
   "source": [
    "Como se puede ver, se han redirigido, tanto el `standard error`, como el `standard output` al mismo archivo"
   ]
  },
  {
   "cell_type": "markdown",
   "metadata": {},
   "source": [
    "## Pipelines"
   ]
  },
  {
   "cell_type": "markdown",
   "metadata": {},
   "source": [
    "Podemos crear pipelines haciendo que el `standard output` de un comando se convierta en el `standard input` de otro. Por ejemplo, vamos a hacer que la salida de `ls -lha` sea la entrada de `grep`, que lo veremos más adelante, pero es un comando para buscar."
   ]
  },
  {
   "cell_type": "code",
   "execution_count": 93,
   "metadata": {},
   "outputs": [
    {
     "name": "stdout",
     "output_type": "stream",
     "text": [
      "-rw-rw-r-- 1 wallabot wallabot    0 dic  6 00:56 dot2.txt\n",
      "-rw-rw-r-- 1 wallabot wallabot    0 dic  6 00:56 dot.txt\n",
      "-rw-rw-r-- 1 wallabot wallabot    0 dic  6 00:56 file.txt\n",
      "-rw-rw-r-- 1 wallabot wallabot  182 dic  6 01:06 lista.txt\n"
     ]
    }
   ],
   "source": [
    "!ls -lha |  grep -i \"txt\""
   ]
  },
  {
   "cell_type": "markdown",
   "metadata": {},
   "source": [
    "Como podemos ver lo que hemos hecho ha sido llevar la salida de `ls` a `grep` con el que hemos buscado algún archivo con `txt` en el nombre"
   ]
  },
  {
   "cell_type": "markdown",
   "metadata": {},
   "source": [
    "## Operadores de control - encadenar comandos"
   ]
  },
  {
   "cell_type": "markdown",
   "metadata": {},
   "source": [
    "### Comandos de manera secuencial"
   ]
  },
  {
   "cell_type": "markdown",
   "metadata": {},
   "source": [
    "Una forma de encadenar comandos de forma secuencial es separarlos mediante `;`. Esto crea distintos hilos para cada tarea"
   ]
  },
  {
   "cell_type": "code",
   "execution_count": 94,
   "metadata": {},
   "outputs": [
    {
     "name": "stdout",
     "output_type": "stream",
     "text": [
      "2021-02-11-Introduccion-a-Python.ipynb\tdatos123  file.txt\n",
      "Abc\t\t\t\t\tdot2.txt  index.html\n",
      "datos1\t\t\t\t\tdot.txt   lista.txt\n",
      "Hola\n",
      "   Diciembre 2022     \n",
      "do lu ma mi ju vi sá  \n",
      "             1  2  3  \n",
      " 4  5 \u001b[7m 6\u001b[m  7  8  9 10  \n",
      "11 12 13 14 15 16 17  \n",
      "18 19 20 21 22 23 24  \n",
      "25 26 27 28 29 30 31  \n",
      "                      \n"
     ]
    }
   ],
   "source": [
    "!ls; echo 'Hola'; cal"
   ]
  },
  {
   "cell_type": "markdown",
   "metadata": {},
   "source": [
    "Como podemos ver primero se ha ejecutado el comando `ls`, luego se ha impreso Hola gracias al comando `echo \"Hola\"` y por último se ha impreso un calendario gracias al comando `cal`"
   ]
  },
  {
   "cell_type": "markdown",
   "metadata": {},
   "source": [
    "Vamos ahora a hacer otro ejemplo para ver que se ejecutan de manera secuencial"
   ]
  },
  {
   "cell_type": "code",
   "execution_count": 95,
   "metadata": {},
   "outputs": [
    {
     "name": "stdout",
     "output_type": "stream",
     "text": [
      "Before touch;\n",
      "total 292K\n",
      "drwxrwxr-x 2 wallabot wallabot 4,0K dic  6 01:04 .\n",
      "drwxrwxr-x 7 wallabot wallabot 4,0K dic  6 00:24 ..\n",
      "-rw-rw-r-- 1 wallabot wallabot 280K dic  6 00:28 2021-02-11-Introduccion-a-Python.ipynb\n",
      "-rw-rw-r-- 1 wallabot wallabot    0 dic  6 00:56 Abc\n",
      "-rw-rw-r-- 1 wallabot wallabot    0 dic  6 00:56 datos1\n",
      "-rw-rw-r-- 1 wallabot wallabot    0 dic  6 00:56 datos123\n",
      "-rw-rw-r-- 1 wallabot wallabot    0 dic  6 00:56 dot2.txt\n",
      "-rw-rw-r-- 1 wallabot wallabot    0 dic  6 00:56 dot.txt\n",
      "-rw-rw-r-- 1 wallabot wallabot    0 dic  6 00:56 file.txt\n",
      "-rw-rw-r-- 1 wallabot wallabot    0 dic  6 00:56 index.html\n",
      "-rw-rw-r-- 1 wallabot wallabot  182 dic  6 01:06 lista.txt\n",
      "After touch:\n",
      "total 292K\n",
      "drwxrwxr-x 2 wallabot wallabot 4,0K dic  6 01:07 .\n",
      "drwxrwxr-x 7 wallabot wallabot 4,0K dic  6 00:24 ..\n",
      "-rw-rw-r-- 1 wallabot wallabot 280K dic  6 00:28 2021-02-11-Introduccion-a-Python.ipynb\n",
      "-rw-rw-r-- 1 wallabot wallabot    0 dic  6 00:56 Abc\n",
      "-rw-rw-r-- 1 wallabot wallabot    0 dic  6 00:56 datos1\n",
      "-rw-rw-r-- 1 wallabot wallabot    0 dic  6 00:56 datos123\n",
      "-rw-rw-r-- 1 wallabot wallabot    0 dic  6 00:56 dot2.txt\n",
      "-rw-rw-r-- 1 wallabot wallabot    0 dic  6 00:56 dot.txt\n",
      "-rw-rw-r-- 1 wallabot wallabot    0 dic  6 00:56 file.txt\n",
      "-rw-rw-r-- 1 wallabot wallabot    0 dic  6 00:56 index.html\n",
      "-rw-rw-r-- 1 wallabot wallabot  182 dic  6 01:06 lista.txt\n",
      "-rw-rw-r-- 1 wallabot wallabot    0 dic  6 01:07 secuential.txt\n"
     ]
    }
   ],
   "source": [
    "!echo \"Before touch;\"; ls -lha; touch secuential.txt; echo \"After touch:\"; ls -lha"
   ]
  },
  {
   "cell_type": "markdown",
   "metadata": {},
   "source": [
    "Como se puede ver, en el primer `ls` no aparece `secuential.txt`, mientras que en el segundo sí. Eso quiere decir que los comandos se han ejecutado en orden, uno detrás de otro"
   ]
  },
  {
   "cell_type": "markdown",
   "metadata": {},
   "source": [
    "### Comandos de manera paralela"
   ]
  },
  {
   "cell_type": "markdown",
   "metadata": {},
   "source": [
    "Si lo que queremos es que los comandos se ejecuten de manera paralela hay que usar el operador `&`, esto hará que se cree un nuevo proceso por cada comando"
   ]
  },
  {
   "cell_type": "markdown",
   "metadata": {},
   "source": [
    "Veamos el ejemplo de antes"
   ]
  },
  {
   "cell_type": "code",
   "execution_count": 96,
   "metadata": {},
   "outputs": [],
   "source": [
    "!rm secuential.txt"
   ]
  },
  {
   "cell_type": "code",
   "execution_count": 97,
   "metadata": {},
   "outputs": [
    {
     "name": "stdout",
     "output_type": "stream",
     "text": [
      "Before touch;\n",
      "After touch:\n",
      "total 292K\n",
      "drwxrwxr-x 2 wallabot wallabot 4,0K dic  6 01:08 .\n",
      "drwxrwxr-x 7 wallabot wallabot 4,0K dic  6 00:24 ..\n",
      "-rw-rw-r-- 1 wallabot wallabot 280K dic  6 00:28 2021-02-11-Introduccion-a-Python.ipynb\n",
      "-rw-rw-r-- 1 wallabot wallabot    0 dic  6 00:56 Abc\n",
      "-rw-rw-r-- 1 wallabot wallabot    0 dic  6 00:56 datos1\n",
      "-rw-rw-r-- 1 wallabot wallabot    0 dic  6 00:56 datos123\n",
      "-rw-rw-r-- 1 wallabot wallabot    0 dic  6 00:56 dot2.txt\n",
      "-rw-rw-r-- 1 wallabot wallabot    0 dic  6 00:56 dot.txt\n",
      "-rw-rw-r-- 1 wallabot wallabot    0 dic  6 00:56 file.txt\n",
      "-rw-rw-r-- 1 wallabot wallabot    0 dic  6 00:56 index.html\n",
      "-rw-rw-r-- 1 wallabot wallabot  182 dic  6 01:06 lista.txt\n",
      "-rw-rw-r-- 1 wallabot wallabot    0 dic  6 01:08 secuential.txt\n"
     ]
    }
   ],
   "source": [
    "!echo \"Before touch;\" & ls -lha & touch secuential.txt & echo \"After touch:\" & ls -lha"
   ]
  },
  {
   "cell_type": "markdown",
   "metadata": {},
   "source": [
    "Ahora se puede ver que no se han ejecutado secuencialmente, ya que primero se han ejecutado los `echo`s, que serán los que menos tarden, y después el resto"
   ]
  },
  {
   "cell_type": "markdown",
   "metadata": {},
   "source": [
    "### Comandos de manera condicional"
   ]
  },
  {
   "cell_type": "markdown",
   "metadata": {},
   "source": [
    "#### And"
   ]
  },
  {
   "cell_type": "markdown",
   "metadata": {},
   "source": [
    "Utilizando el operador `&&` un comando se ejecutará cuando el anterior se haya ejecutado satisfactoriamente"
   ]
  },
  {
   "cell_type": "code",
   "execution_count": 98,
   "metadata": {},
   "outputs": [],
   "source": [
    "!rm secuential.txt"
   ]
  },
  {
   "cell_type": "code",
   "execution_count": 99,
   "metadata": {},
   "outputs": [
    {
     "name": "stdout",
     "output_type": "stream",
     "text": [
      "Before touch;\n",
      "total 292K\n",
      "drwxrwxr-x 2 wallabot wallabot 4,0K dic  6 01:08 .\n",
      "drwxrwxr-x 7 wallabot wallabot 4,0K dic  6 00:24 ..\n",
      "-rw-rw-r-- 1 wallabot wallabot 280K dic  6 00:28 2021-02-11-Introduccion-a-Python.ipynb\n",
      "-rw-rw-r-- 1 wallabot wallabot    0 dic  6 00:56 Abc\n",
      "-rw-rw-r-- 1 wallabot wallabot    0 dic  6 00:56 datos1\n",
      "-rw-rw-r-- 1 wallabot wallabot    0 dic  6 00:56 datos123\n",
      "-rw-rw-r-- 1 wallabot wallabot    0 dic  6 00:56 dot2.txt\n",
      "-rw-rw-r-- 1 wallabot wallabot    0 dic  6 00:56 dot.txt\n",
      "-rw-rw-r-- 1 wallabot wallabot    0 dic  6 00:56 file.txt\n",
      "-rw-rw-r-- 1 wallabot wallabot    0 dic  6 00:56 index.html\n",
      "-rw-rw-r-- 1 wallabot wallabot  182 dic  6 01:06 lista.txt\n",
      "After touch:\n",
      "total 292K\n",
      "drwxrwxr-x 2 wallabot wallabot 4,0K dic  6 01:08 .\n",
      "drwxrwxr-x 7 wallabot wallabot 4,0K dic  6 00:24 ..\n",
      "-rw-rw-r-- 1 wallabot wallabot 280K dic  6 00:28 2021-02-11-Introduccion-a-Python.ipynb\n",
      "-rw-rw-r-- 1 wallabot wallabot    0 dic  6 00:56 Abc\n",
      "-rw-rw-r-- 1 wallabot wallabot    0 dic  6 00:56 datos1\n",
      "-rw-rw-r-- 1 wallabot wallabot    0 dic  6 00:56 datos123\n",
      "-rw-rw-r-- 1 wallabot wallabot    0 dic  6 00:56 dot2.txt\n",
      "-rw-rw-r-- 1 wallabot wallabot    0 dic  6 00:56 dot.txt\n",
      "-rw-rw-r-- 1 wallabot wallabot    0 dic  6 00:56 file.txt\n",
      "-rw-rw-r-- 1 wallabot wallabot    0 dic  6 00:56 index.html\n",
      "-rw-rw-r-- 1 wallabot wallabot  182 dic  6 01:06 lista.txt\n",
      "-rw-rw-r-- 1 wallabot wallabot    0 dic  6 01:08 secuential.txt\n"
     ]
    }
   ],
   "source": [
    "!echo \"Before touch;\" && ls -lha && touch secuential.txt && echo \"After touch:\" && ls -lha"
   ]
  },
  {
   "cell_type": "markdown",
   "metadata": {},
   "source": [
    "Aquí podemos ver como se ha ejecutado uno detrás de otro, es decir, un comando no empieza hasta que el anterior acaba"
   ]
  },
  {
   "cell_type": "markdown",
   "metadata": {},
   "source": [
    "Pero entonces, ¿cuál es la diferencia entre `;` y `&&`?"
   ]
  },
  {
   "cell_type": "markdown",
   "metadata": {},
   "source": [
    "En el primero, el secuencial `;`, primero se ejecuta un comando y luego otro, pero para que se ejecute un comando da igual que el anterior se haya ejecutado satisfactoriamente"
   ]
  },
  {
   "cell_type": "code",
   "execution_count": 100,
   "metadata": {},
   "outputs": [
    {
     "name": "stdout",
     "output_type": "stream",
     "text": [
      "rm: no se puede borrar 'prueba': No existe el archivo o el directorio\n",
      "total 292K\n",
      "drwxrwxr-x 2 wallabot wallabot 4,0K dic  6 01:08 .\n",
      "drwxrwxr-x 7 wallabot wallabot 4,0K dic  6 00:24 ..\n",
      "-rw-rw-r-- 1 wallabot wallabot 280K dic  6 00:28 2021-02-11-Introduccion-a-Python.ipynb\n",
      "-rw-rw-r-- 1 wallabot wallabot    0 dic  6 00:56 Abc\n",
      "-rw-rw-r-- 1 wallabot wallabot    0 dic  6 00:56 datos1\n",
      "-rw-rw-r-- 1 wallabot wallabot    0 dic  6 00:56 datos123\n",
      "-rw-rw-r-- 1 wallabot wallabot    0 dic  6 00:56 dot2.txt\n",
      "-rw-rw-r-- 1 wallabot wallabot    0 dic  6 00:56 dot.txt\n",
      "-rw-rw-r-- 1 wallabot wallabot    0 dic  6 00:56 file.txt\n",
      "-rw-rw-r-- 1 wallabot wallabot    0 dic  6 00:56 index.html\n",
      "-rw-rw-r-- 1 wallabot wallabot  182 dic  6 01:06 lista.txt\n",
      "-rw-rw-r-- 1 wallabot wallabot    0 dic  6 01:08 secuential.txt\n"
     ]
    }
   ],
   "source": [
    "!rm prueba ; ls -lha"
   ]
  },
  {
   "cell_type": "markdown",
   "metadata": {},
   "source": [
    "Como se puede ver primero se ejecuta `rm prueba`, da un error y aun así se ejecuta `ls -lha prueba`"
   ]
  },
  {
   "cell_type": "markdown",
   "metadata": {},
   "source": [
    "En la manera condicional `&&`, si un comando no se ejecuta satisfactoriamente, el siguiente no se ejecuta"
   ]
  },
  {
   "cell_type": "code",
   "execution_count": 101,
   "metadata": {},
   "outputs": [
    {
     "name": "stdout",
     "output_type": "stream",
     "text": [
      "rm: no se puede borrar 'prueba': No existe el archivo o el directorio\n"
     ]
    }
   ],
   "source": [
    "!rm prueba && ls -lha"
   ]
  },
  {
   "cell_type": "markdown",
   "metadata": {},
   "source": [
    "Como se puede ver `ls -lha prueba` no se ejecuta ya que `rm prueba` a dado un error"
   ]
  },
  {
   "cell_type": "markdown",
   "metadata": {},
   "source": [
    "#### Or"
   ]
  },
  {
   "cell_type": "markdown",
   "metadata": {},
   "source": [
    "A diferencia del `&&`, el or ejecutará todos los procesos sea cual sea su resultado. Se ha de utilizar el operador `||`"
   ]
  },
  {
   "cell_type": "code",
   "execution_count": 102,
   "metadata": {},
   "outputs": [
    {
     "name": "stdout",
     "output_type": "stream",
     "text": [
      "rm: no se puede borrar 'prueba': No existe el archivo o el directorio\n",
      "total 292K\n",
      "drwxrwxr-x 2 wallabot wallabot 4,0K dic  6 01:08 .\n",
      "drwxrwxr-x 7 wallabot wallabot 4,0K dic  6 00:24 ..\n",
      "-rw-rw-r-- 1 wallabot wallabot 280K dic  6 00:28 2021-02-11-Introduccion-a-Python.ipynb\n",
      "-rw-rw-r-- 1 wallabot wallabot    0 dic  6 00:56 Abc\n",
      "-rw-rw-r-- 1 wallabot wallabot    0 dic  6 00:56 datos1\n",
      "-rw-rw-r-- 1 wallabot wallabot    0 dic  6 00:56 datos123\n",
      "-rw-rw-r-- 1 wallabot wallabot    0 dic  6 00:56 dot2.txt\n",
      "-rw-rw-r-- 1 wallabot wallabot    0 dic  6 00:56 dot.txt\n",
      "-rw-rw-r-- 1 wallabot wallabot    0 dic  6 00:56 file.txt\n",
      "-rw-rw-r-- 1 wallabot wallabot    0 dic  6 00:56 index.html\n",
      "-rw-rw-r-- 1 wallabot wallabot  182 dic  6 01:06 lista.txt\n",
      "-rw-rw-r-- 1 wallabot wallabot    0 dic  6 01:08 secuential.txt\n"
     ]
    }
   ],
   "source": [
    "!rm prueba || ls -lha"
   ]
  },
  {
   "cell_type": "markdown",
   "metadata": {},
   "source": [
    "La diferencia entre este y `;` es que el `||` (or) no crea un nuevo hilo para cada comando"
   ]
  },
  {
   "cell_type": "markdown",
   "metadata": {},
   "source": [
    "## Cómo se manejan los permisos"
   ]
  },
  {
   "cell_type": "markdown",
   "metadata": {},
   "source": [
    "Cuando se listan los archivos de un directorio con el flag `-l` (long) aparecen unos símbolos al lado de  cada archivo"
   ]
  },
  {
   "cell_type": "code",
   "execution_count": 103,
   "metadata": {},
   "outputs": [],
   "source": [
    "!mkdir subdirectorio"
   ]
  },
  {
   "cell_type": "code",
   "execution_count": 104,
   "metadata": {},
   "outputs": [
    {
     "name": "stdout",
     "output_type": "stream",
     "text": [
      "total 288\n",
      "-rw-rw-r-- 1 wallabot wallabot 285898 dic  6 00:28 2021-02-11-Introduccion-a-Python.ipynb\n",
      "-rw-rw-r-- 1 wallabot wallabot      0 dic  6 00:56 Abc\n",
      "-rw-rw-r-- 1 wallabot wallabot      0 dic  6 00:56 datos1\n",
      "-rw-rw-r-- 1 wallabot wallabot      0 dic  6 00:56 datos123\n",
      "-rw-rw-r-- 1 wallabot wallabot      0 dic  6 00:56 dot2.txt\n",
      "-rw-rw-r-- 1 wallabot wallabot      0 dic  6 00:56 dot.txt\n",
      "-rw-rw-r-- 1 wallabot wallabot      0 dic  6 00:56 file.txt\n",
      "-rw-rw-r-- 1 wallabot wallabot      0 dic  6 00:56 index.html\n",
      "-rw-rw-r-- 1 wallabot wallabot    182 dic  6 01:06 lista.txt\n",
      "-rw-rw-r-- 1 wallabot wallabot      0 dic  6 01:08 secuential.txt\n",
      "drwxrwxr-x 2 wallabot wallabot   4096 dic  6 01:10 subdirectorio\n"
     ]
    }
   ],
   "source": [
    "!ls -l"
   ]
  },
  {
   "cell_type": "markdown",
   "metadata": {},
   "source": [
    "Esto nos da información de cada archivo"
   ]
  },
  {
   "cell_type": "markdown",
   "metadata": {},
   "source": [
    "Primero veamos qué tipos de archivos hay\n",
    " * -: Archivo normal\n",
    " * d: Directorio\n",
    " * l: Link simbólico\n",
    " * b: Archivo de bloque especial. Son archivos que manejan la información de los bloques de datos como por ejemplo un USB"
   ]
  },
  {
   "cell_type": "markdown",
   "metadata": {},
   "source": [
    "Después veremos los tipos de modo:\n",
    "\n",
    "<table border=\"1\">\n",
    "\t<header>\n",
    "\t\t<tr>\n",
    "\t\t\t<th scope=\"col\" colspan=\"3\">Dueño</th>\n",
    "\t\t\t<th scope=\"col\" colspan=\"3\">Grupo</th>\n",
    "\t\t\t<th scope=\"col\" colspan=\"3\">World</th>\n",
    "\t\t</tr>\n",
    "\t</header>\n",
    "\t<body>\n",
    "\t\t<tr>\n",
    "\t\t\t<th scope=\"row\" colspan=\"3\">rwx</th>\n",
    "\t\t\t<th scope=\"row\" colspan=\"3\">r-x</th>\n",
    "\t\t\t<th scope=\"row\" colspan=\"3\">r-x</th>\n",
    "\t\t</tr>\n",
    "\t\t<tr>\n",
    "\t\t\t<th scope=\"row\">1</th>\n",
    "\t\t\t<th scope=\"row\">1</th>\n",
    "\t\t\t<th scope=\"row\">1</th>\n",
    "\t\t\t<th scope=\"row\">1</th>\n",
    "\t\t\t<th scope=\"row\">0</th>\n",
    "\t\t\t<th scope=\"row\">1</th>\n",
    "\t\t\t<th scope=\"row\">1</th>\n",
    "\t\t\t<th scope=\"row\">0</th>\n",
    "\t\t\t<th scope=\"row\">1</th>\n",
    "\t\t</tr>\n",
    "\t\t<tr>\n",
    "\t\t\t<th scope=\"row\" colspan=\"3\">7</th>\n",
    "\t\t\t<th scope=\"row\" colspan=\"3\">5</th>\n",
    "\t\t\t<th scope=\"row\" colspan=\"3\">5</th>\n",
    "\t\t</tr>\n",
    "\t<body>\n",
    "</table>\n",
    "\n",
    " * r: read\n",
    " * w: write\n",
    " * x: execute"
   ]
  },
  {
   "cell_type": "markdown",
   "metadata": {},
   "source": [
    "Modo simbólico:\n",
    " * u: Solo para el usuario\n",
    " * g: Solo para el grupo\n",
    " * o: Solo para otros (world)\n",
    " * a: Para todos"
   ]
  },
  {
   "cell_type": "markdown",
   "metadata": {},
   "source": [
    "## Modificando los permisos en la terminal"
   ]
  },
  {
   "cell_type": "markdown",
   "metadata": {},
   "source": [
    "Creamos un nuevo archivo"
   ]
  },
  {
   "cell_type": "code",
   "execution_count": 105,
   "metadata": {},
   "outputs": [],
   "source": [
    "terminal(\"cd subdirectorio\")"
   ]
  },
  {
   "cell_type": "code",
   "execution_count": 106,
   "metadata": {},
   "outputs": [],
   "source": [
    "!echo \"hola mundo\" > mitexto.txt"
   ]
  },
  {
   "cell_type": "code",
   "execution_count": 107,
   "metadata": {},
   "outputs": [
    {
     "name": "stdout",
     "output_type": "stream",
     "text": [
      "hola mundo\n"
     ]
    }
   ],
   "source": [
    "!cat mitexto.txt"
   ]
  },
  {
   "cell_type": "markdown",
   "metadata": {},
   "source": [
    "Vamos a ver los permisos que tiene"
   ]
  },
  {
   "cell_type": "code",
   "execution_count": 108,
   "metadata": {},
   "outputs": [
    {
     "name": "stdout",
     "output_type": "stream",
     "text": [
      "total 4\n",
      "-rw-rw-r-- 1 wallabot wallabot 11 dic  6 01:10 mitexto.txt\n"
     ]
    }
   ],
   "source": [
    "!ls -l"
   ]
  },
  {
   "cell_type": "markdown",
   "metadata": {},
   "source": [
    "Como vemos tiene permisos de lectura y escritura para mi usuario y el grupo, y solo permisos de lectura para el resto (world)"
   ]
  },
  {
   "cell_type": "markdown",
   "metadata": {},
   "source": [
    "### Cambio de permisos con `chmod` (change mode)"
   ]
  },
  {
   "cell_type": "markdown",
   "metadata": {},
   "source": [
    "Para cambiar los permisos de un archivo usamos el comando `chmod` (change mode), donde tenemos que poner en octal, los permisos del usuario, luego los de grupo y por último los del resto."
   ]
  },
  {
   "cell_type": "code",
   "execution_count": 109,
   "metadata": {},
   "outputs": [],
   "source": [
    "!chmod 755 mitexto.txt"
   ]
  },
  {
   "cell_type": "code",
   "execution_count": 110,
   "metadata": {},
   "outputs": [
    {
     "name": "stdout",
     "output_type": "stream",
     "text": [
      "total 4\n",
      "-rwxr-xr-x 1 wallabot wallabot 11 dic  6 01:10 mitexto.txt\n"
     ]
    }
   ],
   "source": [
    "!ls -l"
   ]
  },
  {
   "cell_type": "markdown",
   "metadata": {},
   "source": [
    "Vemos que ahora mi usuario tiene permisos de lectura, escritura y ejecución, mientras que el grupo y el resto del mundo tiene permisos de lectura y ejecución"
   ]
  },
  {
   "cell_type": "markdown",
   "metadata": {},
   "source": [
    "Vamos a quitar los permisos de lectura solo a mi usuario. Para cambiar solo los permisos de un usuario usamos el identificador simbólico, un `+` si queremos agregar permisos o un `-` si queremos quitarlos o un `=` si queremos restablecerlos y seguido del tipo de permiso"
   ]
  },
  {
   "cell_type": "code",
   "execution_count": 111,
   "metadata": {},
   "outputs": [],
   "source": [
    "!chmod u-r mitexto.txt"
   ]
  },
  {
   "cell_type": "code",
   "execution_count": 112,
   "metadata": {},
   "outputs": [
    {
     "name": "stdout",
     "output_type": "stream",
     "text": [
      "total 4\n",
      "--wxr-xr-x 1 wallabot wallabot 11 dic  6 01:10 mitexto.txt\n"
     ]
    }
   ],
   "source": [
    "!ls -l"
   ]
  },
  {
   "cell_type": "code",
   "execution_count": 113,
   "metadata": {},
   "outputs": [
    {
     "name": "stdout",
     "output_type": "stream",
     "text": [
      "cat: mitexto.txt: Permiso denegado\n"
     ]
    }
   ],
   "source": [
    "!cat mitexto.txt"
   ]
  },
  {
   "cell_type": "markdown",
   "metadata": {},
   "source": [
    "Como vemos, al quitar permisos de lectura para mi usuario, no podemos leer el archivo"
   ]
  },
  {
   "cell_type": "markdown",
   "metadata": {},
   "source": [
    "Le volvemos a poner el permiso de lectura"
   ]
  },
  {
   "cell_type": "code",
   "execution_count": 114,
   "metadata": {},
   "outputs": [],
   "source": [
    "!chmod u+r mitexto.txt"
   ]
  },
  {
   "cell_type": "code",
   "execution_count": 115,
   "metadata": {},
   "outputs": [
    {
     "name": "stdout",
     "output_type": "stream",
     "text": [
      "total 4\n",
      "-rwxr-xr-x 1 wallabot wallabot 11 dic  6 01:10 mitexto.txt\n"
     ]
    }
   ],
   "source": [
    "!ls -l"
   ]
  },
  {
   "cell_type": "code",
   "execution_count": 116,
   "metadata": {},
   "outputs": [
    {
     "name": "stdout",
     "output_type": "stream",
     "text": [
      "hola mundo\n"
     ]
    }
   ],
   "source": [
    "!cat mitexto.txt"
   ]
  },
  {
   "cell_type": "markdown",
   "metadata": {},
   "source": [
    "Si queremos agregar o quitar permisos a más de un usuario lo hacemos separando cada permiso por una `,`"
   ]
  },
  {
   "cell_type": "code",
   "execution_count": 117,
   "metadata": {},
   "outputs": [],
   "source": [
    "!chmod u-x,go=w mitexto.txt"
   ]
  },
  {
   "cell_type": "code",
   "execution_count": 118,
   "metadata": {},
   "outputs": [
    {
     "name": "stdout",
     "output_type": "stream",
     "text": [
      "total 4\n",
      "-rw--w--w- 1 wallabot wallabot 11 dic  6 01:10 mitexto.txt\n"
     ]
    }
   ],
   "source": [
    "!ls -l"
   ]
  },
  {
   "cell_type": "markdown",
   "metadata": {},
   "source": [
    "Como se puede ver, se le ha quitado el permiso de ejecución al usuario y se ha establecido el permiso de solo escritura para el grupo y el resto del mundo"
   ]
  },
  {
   "cell_type": "markdown",
   "metadata": {},
   "source": [
    "### Identificación de usuario con `whoami`"
   ]
  },
  {
   "cell_type": "markdown",
   "metadata": {},
   "source": [
    "Para saber quienes somos podemos usar el comando `whoami` (who am I)"
   ]
  },
  {
   "cell_type": "code",
   "execution_count": 119,
   "metadata": {},
   "outputs": [
    {
     "name": "stdout",
     "output_type": "stream",
     "text": [
      "wallabot\n"
     ]
    }
   ],
   "source": [
    "!whoami"
   ]
  },
  {
   "cell_type": "markdown",
   "metadata": {},
   "source": [
    "### Información de usuario con `id`"
   ]
  },
  {
   "cell_type": "markdown",
   "metadata": {},
   "source": [
    "Otra manera, que además da más información, es el comando `id`"
   ]
  },
  {
   "cell_type": "code",
   "execution_count": 120,
   "metadata": {},
   "outputs": [
    {
     "name": "stdout",
     "output_type": "stream",
     "text": [
      "uid=1000(wallabot) gid=1000(wallabot) grupos=1000(wallabot),4(adm),24(cdrom),27(sudo),30(dip),46(plugdev),120(lpadmin),131(lxd),132(sambashare),998(docker)\n"
     ]
    }
   ],
   "source": [
    "!id"
   ]
  },
  {
   "cell_type": "markdown",
   "metadata": {},
   "source": [
    "Este comando nos dice que nuestro id de usuario es el 1000, el id de grupo es el 1000 y que pertenecemos a los grupos wallabot, adm, cdrom, sudo, dip, plugdev, lpadmin, lxd, sambashare y docker"
   ]
  },
  {
   "cell_type": "markdown",
   "metadata": {},
   "source": [
    "### Cambio de usuario con el comando `su` (switch user)"
   ]
  },
  {
   "cell_type": "markdown",
   "metadata": {},
   "source": [
    "Si queremos cambiar de usuario usamos el comando `su` (switch user). Para según que usuario hay que usar `sudo` (superuser do)"
   ]
  },
  {
   "cell_type": "code",
   "execution_count": 120,
   "metadata": {},
   "outputs": [
    {
     "name": "stdout",
     "output_type": "stream",
     "text": [
      "root@wallabot:/home/wallabot/Documentos/web/portafolio/posts/prueba/subdirectorio#\n"
     ]
    }
   ],
   "source": [
    "!sudo su root"
   ]
  },
  {
   "cell_type": "markdown",
   "metadata": {},
   "source": [
    "Como vemos cambia el `propt` y ahora indica que somos el usuario `root`"
   ]
  },
  {
   "cell_type": "markdown",
   "metadata": {},
   "source": [
    "Vamos a la carpeta home"
   ]
  },
  {
   "cell_type": "code",
   "execution_count": 120,
   "metadata": {},
   "outputs": [
    {
     "name": "stdout",
     "output_type": "stream",
     "text": [
      "root@wallabot:~#\n"
     ]
    }
   ],
   "source": [
    "!cd"
   ]
  },
  {
   "cell_type": "markdown",
   "metadata": {},
   "source": [
    "Pero en Linux hay una carpeta home por cada usuario, esto lo podemos ver si ejecutamos el comando `pwd`"
   ]
  },
  {
   "cell_type": "code",
   "execution_count": 120,
   "metadata": {},
   "outputs": [
    {
     "name": "stdout",
     "output_type": "stream",
     "text": [
      "/root\n"
     ]
    }
   ],
   "source": [
    "!pwd"
   ]
  },
  {
   "cell_type": "markdown",
   "metadata": {},
   "source": [
    "Voy a crear un archivo en la carpeta donde antes he creado el archivo *mitexto.txt*"
   ]
  },
  {
   "cell_type": "code",
   "execution_count": 120,
   "metadata": {},
   "outputs": [
    {
     "name": "stdout",
     "output_type": "stream",
     "text": [
      "\n"
     ]
    }
   ],
   "source": [
    "!touch /home/wallabot/Documentos/web/portafolio/posts/prueba/subdirectorio/rootfile.txt"
   ]
  },
  {
   "cell_type": "markdown",
   "metadata": {},
   "source": [
    "Vuelvo a cambiarme a mi usuario"
   ]
  },
  {
   "cell_type": "code",
   "execution_count": 120,
   "metadata": {},
   "outputs": [
    {
     "name": "stdout",
     "output_type": "stream",
     "text": [
      "wallabot@wallabot:\n"
     ]
    }
   ],
   "source": [
    "!su wallabot"
   ]
  },
  {
   "cell_type": "markdown",
   "metadata": {},
   "source": [
    "Y me voy al directorio donde están los archivos que he creado"
   ]
  },
  {
   "cell_type": "code",
   "execution_count": 121,
   "metadata": {},
   "outputs": [],
   "source": [
    "!cd /home/wallabot/Documentos/web/portafolio/posts/prueba/subdirectorio"
   ]
  },
  {
   "cell_type": "markdown",
   "metadata": {},
   "source": [
    "Vemos los archivos que hay y sus permisos"
   ]
  },
  {
   "cell_type": "code",
   "execution_count": 123,
   "metadata": {},
   "outputs": [
    {
     "name": "stdout",
     "output_type": "stream",
     "text": [
      "total 4\n",
      "-rw--w--w- 1 wallabot wallabot 11 dic  6 01:10 mitexto.txt\n",
      "-rw-r--r-- 1 root     root      0 dic  6 01:22 rootfile.txt\n"
     ]
    }
   ],
   "source": [
    "!ls -l"
   ]
  },
  {
   "cell_type": "markdown",
   "metadata": {},
   "source": [
    "Como vemos el usuario y el grupo del archivo *rootfile.txt* es el usuario `root`"
   ]
  },
  {
   "cell_type": "markdown",
   "metadata": {},
   "source": [
    "Si yo ahora que soy el usuario *wallabot* intento borrar el archivo `rootfile.txt`"
   ]
  },
  {
   "cell_type": "code",
   "execution_count": 124,
   "metadata": {},
   "outputs": [
    {
     "name": "stdout",
     "output_type": "stream",
     "text": [
      "rm: ¿borrar el fichero regular vacío 'rootfile.txt'  protegido contra escritura? (s/n)\n"
     ]
    }
   ],
   "source": [
    "!rm rootfile.txt"
   ]
  },
  {
   "cell_type": "markdown",
   "metadata": {},
   "source": [
    "Como vemos, nos pregunta si lo queremos borrar, ya que pertenece a otro usuario"
   ]
  },
  {
   "cell_type": "markdown",
   "metadata": {},
   "source": [
    "## Modificar la contraseña de un usuario"
   ]
  },
  {
   "cell_type": "markdown",
   "metadata": {},
   "source": [
    "Si quiero modificar la contraseña del usuario que tengo actualmente activo uso el comando `passwd` (password)"
   ]
  },
  {
   "cell_type": "markdown",
   "metadata": {},
   "source": [
    "Primero compruebo qué usuario soy"
   ]
  },
  {
   "cell_type": "code",
   "execution_count": 125,
   "metadata": {},
   "outputs": [
    {
     "name": "stdout",
     "output_type": "stream",
     "text": [
      "wallabot\n"
     ]
    }
   ],
   "source": [
    "!whoami"
   ]
  },
  {
   "cell_type": "markdown",
   "metadata": {},
   "source": [
    "Y ahora probamos a cambiar la contraseña"
   ]
  },
  {
   "cell_type": "code",
   "execution_count": 125,
   "metadata": {},
   "outputs": [
    {
     "name": "stdout",
     "output_type": "stream",
     "text": [
      "$ passwd\n",
      "Cambiando la contraseña de wallabot.\n",
      "Contraseña actual de : \n",
      "Nueva contraseña: \n",
      "Vuelva a escribir la nueva contraseña\n"
     ]
    }
   ],
   "source": [
    "!passwd"
   ]
  },
  {
   "cell_type": "markdown",
   "metadata": {},
   "source": [
    "Como vemos pide la actual contraseña para poder cambiarla"
   ]
  },
  {
   "cell_type": "markdown",
   "metadata": {},
   "source": [
    "## Links simbólicos"
   ]
  },
  {
   "cell_type": "markdown",
   "metadata": {},
   "source": [
    "Podemos crear links simbólicos a una ruta determinada mediante el comando `ln` (link) seguido del flag `-s` (symbolic), el directorio y el nombre del link"
   ]
  },
  {
   "cell_type": "code",
   "execution_count": 126,
   "metadata": {},
   "outputs": [],
   "source": [
    "!ln -s /home/wallabot/Documentos/web web"
   ]
  },
  {
   "cell_type": "markdown",
   "metadata": {},
   "source": [
    "Si ahora listamos los archivos"
   ]
  },
  {
   "cell_type": "code",
   "execution_count": 127,
   "metadata": {},
   "outputs": [
    {
     "name": "stdout",
     "output_type": "stream",
     "text": [
      "total 4\n",
      "-rw--w--w- 1 wallabot wallabot 11 dic  6 01:10 mitexto.txt\n",
      "-rw-r--r-- 1 root     root      0 dic  6 01:22 rootfile.txt\n",
      "lrwxrwxrwx 1 wallabot wallabot 29 dic  6 01:28 web -> /home/wallabot/Documentos/web\n"
     ]
    }
   ],
   "source": [
    "!ls -l"
   ]
  },
  {
   "cell_type": "markdown",
   "metadata": {},
   "source": [
    "Vemos el link simbólico `web` que apunta a `/home/wallabot/Documentos/web:`"
   ]
  },
  {
   "cell_type": "markdown",
   "metadata": {},
   "source": [
    "Yo ahora me puedo ir a `web`"
   ]
  },
  {
   "cell_type": "code",
   "execution_count": 128,
   "metadata": {},
   "outputs": [],
   "source": [
    "terminal(\"cd web\")"
   ]
  },
  {
   "cell_type": "code",
   "execution_count": 129,
   "metadata": {},
   "outputs": [
    {
     "name": "stdout",
     "output_type": "stream",
     "text": [
      "/home/wallabot/Documentos/web\n"
     ]
    }
   ],
   "source": [
    "!pwd"
   ]
  },
  {
   "cell_type": "markdown",
   "metadata": {},
   "source": [
    "## Configurar las variables de entorno"
   ]
  },
  {
   "cell_type": "markdown",
   "metadata": {},
   "source": [
    "### Ver las variables de entorno con `printenv`"
   ]
  },
  {
   "cell_type": "markdown",
   "metadata": {},
   "source": [
    "Con el comando `printenv` podemos ver todas las variables de entorno"
   ]
  },
  {
   "cell_type": "code",
   "execution_count": 130,
   "metadata": {},
   "outputs": [
    {
     "name": "stdout",
     "output_type": "stream",
     "text": [
      "GJS_DEBUG_TOPICS=JS ERROR;JS LOG\n",
      "VSCODE_CWD=/home/wallabot\n",
      "LESSOPEN=| /usr/bin/lesspipe %s\n",
      "CONDA_PROMPT_MODIFIER=(base) \n",
      "PYTHONIOENCODING=utf-8\n",
      "USER=wallabot\n",
      "VSCODE_NLS_CONFIG={\"locale\":\"es\",\"availableLanguages\":{\"*\":\"es\"},\"_languagePackId\":\"b07c40c9acb9e1d7b3ca14b06f814803.es\",\"_translationsConfigFile\":\"/home/wallabot/.config/Code/clp/b07c40c9acb9e1d7b3ca14b06f814803.es/tcf.json\",\"_cacheRoot\":\"/home/wallabot/.config/Code/clp/b07c40c9acb9e1d7b3ca14b06f814803.es\",\"_resolvedLanguagePackCoreLocation\":\"/home/wallabot/.config/Code/clp/b07c40c9acb9e1d7b3ca14b06f814803.es/6261075646f055b99068d3688932416f2346dd3b\",\"_corruptedFile\":\"/home/wallabot/.config/Code/clp/b07c40c9acb9e1d7b3ca14b06f814803.es/corrupted.info\",\"_languagePackSupport\":true}\n",
      "VSCODE_HANDLES_UNCAUGHT_ERRORS=true\n",
      "MPLBACKEND=module://ipykernel.pylab.backend_inline\n",
      "SSH_AGENT_PID=1373\n",
      "XDG_SESSION_TYPE=x11\n",
      "SHLVL=0\n",
      "HOME=/home/wallabot\n",
      "CHROME_DESKTOP=code-url-handler.desktop\n",
      "CONDA_SHLVL=1\n",
      "DESKTOP_SESSION=ubuntu\n",
      "GIO_LAUNCHED_DESKTOP_FILE=/usr/share/applications/code.desktop\n",
      "VSCODE_IPC_HOOK=/run/user/1000/vscode-26527400-1.73.1-main.sock\n",
      "PYTHONUNBUFFERED=1\n",
      "GTK_MODULES=gail:atk-bridge\n",
      "GNOME_SHELL_SESSION_MODE=ubuntu\n",
      "APPLICATION_INSIGHTS_NO_DIAGNOSTIC_CHANNEL=true\n",
      "PAGER=cat\n",
      "MANAGERPID=1153\n",
      "DBUS_SESSION_BUS_ADDRESS=unix:path=/run/user/1000/bus\n",
      "GIO_LAUNCHED_DESKTOP_FILE_PID=3897\n",
      "_CE_M=\n",
      "IM_CONFIG_PHASE=1\n",
      "LOGNAME=wallabot\n",
      "_=/home/wallabot/anaconda3/bin/python\n",
      "JOURNAL_STREAM=8:52662\n",
      "XDG_SESSION_CLASS=user\n",
      "USERNAME=wallabot\n",
      "TERM=xterm-color\n",
      "GNOME_DESKTOP_SESSION_ID=this-is-deprecated\n",
      "_CE_CONDA=\n",
      "WINDOWPATH=2\n",
      "PATH=/home/wallabot/anaconda3/bin:/home/wallabot/anaconda3/condabin:/usr/local/sbin:/usr/local/bin:/usr/sbin:/usr/bin:/sbin:/bin:/usr/games:/usr/local/games:/snap/bin\n",
      "SESSION_MANAGER=local/wallabot:@/tmp/.ICE-unix/1410,unix/wallabot:/tmp/.ICE-unix/1410\n",
      "INVOCATION_ID=73bba2d15f2e492fa6c16538996a2556\n",
      "VSCODE_AMD_ENTRYPOINT=vs/workbench/api/node/extensionHostProcess\n",
      "XDG_RUNTIME_DIR=/run/user/1000\n",
      "XDG_MENU_PREFIX=gnome-\n",
      "GDK_BACKEND=x11\n",
      "DISPLAY=:0\n",
      "LANG=es_ES.UTF-8\n",
      "XDG_CURRENT_DESKTOP=Unity\n",
      "XAUTHORITY=/run/user/1000/gdm/Xauthority\n",
      "XDG_SESSION_DESKTOP=ubuntu\n",
      "XMODIFIERS=@im=ibus\n",
      "LS_COLORS=\n",
      "SSH_AUTH_SOCK=/run/user/1000/keyring/ssh\n",
      "ORIGINAL_XDG_CURRENT_DESKTOP=ubuntu:GNOME\n",
      "CONDA_PYTHON_EXE=/home/wallabot/anaconda3/bin/python\n",
      "SHELL=/bin/bash\n",
      "ELECTRON_RUN_AS_NODE=1\n",
      "QT_ACCESSIBILITY=1\n",
      "GDMSESSION=ubuntu\n",
      "LESSCLOSE=/usr/bin/lesspipe %s %s\n",
      "CONDA_DEFAULT_ENV=base\n",
      "PYDEVD_IPYTHON_COMPATIBLE_DEBUGGING=1\n",
      "GPG_AGENT_INFO=/run/user/1000/gnupg/S.gpg-agent:0:1\n",
      "GJS_DEBUG_OUTPUT=stderr\n",
      "QT_IM_MODULE=ibus\n",
      "GIT_PAGER=cat\n",
      "PWD=/home/wallabot/Documentos/web\n",
      "CLICOLOR=1\n",
      "XDG_DATA_DIRS=/usr/share/ubuntu:/usr/local/share/:/usr/share/:/var/lib/snapd/desktop\n",
      "XDG_CONFIG_DIRS=/etc/xdg/xdg-ubuntu:/etc/xdg\n",
      "VSCODE_CODE_CACHE_PATH=/home/wallabot/.config/Code/CachedData/6261075646f055b99068d3688932416f2346dd3b\n",
      "CONDA_EXE=/home/wallabot/anaconda3/bin/conda\n",
      "CONDA_PREFIX=/home/wallabot/anaconda3\n",
      "VSCODE_PID=3897\n"
     ]
    }
   ],
   "source": [
    "!printenv"
   ]
  },
  {
   "cell_type": "markdown",
   "metadata": {},
   "source": [
    "### Ver una variable de entorno con el comando `echo`"
   ]
  },
  {
   "cell_type": "markdown",
   "metadata": {},
   "source": [
    "Para ver una variable de entorno en concreto podemos hacerlo mediante el comando `echo` seguido del símbolo `$` y el nombre de la variable"
   ]
  },
  {
   "cell_type": "code",
   "execution_count": 131,
   "metadata": {},
   "outputs": [
    {
     "name": "stdout",
     "output_type": "stream",
     "text": [
      "/home/wallabot\n"
     ]
    }
   ],
   "source": [
    "!echo $HOME"
   ]
  },
  {
   "cell_type": "markdown",
   "metadata": {},
   "source": [
    "### Modificar una variable de entorno para una sesión de terminal"
   ]
  },
  {
   "cell_type": "markdown",
   "metadata": {},
   "source": [
    "Podemos modificar una variable de entorno para la sesión activa de terminal, por ejemplo, vamos a agregar una nueva ruta a la variable `PATH`. Primero vemos qué hay en ella"
   ]
  },
  {
   "cell_type": "code",
   "execution_count": 131,
   "metadata": {},
   "outputs": [
    {
     "name": "stdout",
     "output_type": "stream",
     "text": [
      "/home/wallabot/anaconda3/bin:/home/wallabot/anaconda3/condabin:/usr/local/sbin:/usr/local/bin:/usr/sbin:/usr/bin:/sbin:/bin:/usr/games:/usr/local/games:/snap/bin\n"
     ]
    }
   ],
   "source": [
    "!echo $PATH"
   ]
  },
  {
   "cell_type": "markdown",
   "metadata": {},
   "source": [
    "Ahora añadimos un nuevo direcotorio"
   ]
  },
  {
   "cell_type": "code",
   "execution_count": 131,
   "metadata": {},
   "outputs": [
    {
     "name": "stdout",
     "output_type": "stream",
     "text": [
      "\n"
     ]
    }
   ],
   "source": [
    "!PATH=$PATH:\"subdirectorio"
   ]
  },
  {
   "cell_type": "markdown",
   "metadata": {},
   "source": [
    "Volvemos a ver qué hay dentro de `PATH`"
   ]
  },
  {
   "cell_type": "code",
   "execution_count": 131,
   "metadata": {},
   "outputs": [
    {
     "name": "stdout",
     "output_type": "stream",
     "text": [
      "/home/wallabot/anaconda3/bin:/home/wallabot/anaconda3/condabin:/usr/local/sbin:/usr/local/bin:/usr/sbin:/usr/bin:/sbin:/bin:/usr/games:/usr/local/games:/snap/bin:subdirectorio\n"
     ]
    }
   ],
   "source": [
    "!echo $PATH"
   ]
  },
  {
   "cell_type": "markdown",
   "metadata": {},
   "source": [
    "Vemos que se ha añadido el directorio `subdirectorio`.\n",
    "\n",
    "El problema de este método es que cuando abramos una nueva terminal no se mantendrá este cambio en `PATH`"
   ]
  },
  {
   "cell_type": "markdown",
   "metadata": {},
   "source": [
    "### Modificar una variable de entorno para todas las sesiones de terminal"
   ]
  },
  {
   "cell_type": "markdown",
   "metadata": {},
   "source": [
    "Nos vamos a la carpeta home"
   ]
  },
  {
   "cell_type": "code",
   "execution_count": 132,
   "metadata": {},
   "outputs": [],
   "source": [
    "terminal(\"cd /home/wallabot\")"
   ]
  },
  {
   "cell_type": "markdown",
   "metadata": {},
   "source": [
    "Aquí en el home listamos todos los archivos con el flag `-a` (all)"
   ]
  },
  {
   "cell_type": "code",
   "execution_count": 133,
   "metadata": {},
   "outputs": [
    {
     "name": "stdout",
     "output_type": "stream",
     "text": [
      ".\t\t.eclipse\t\t       .pki\n",
      "..\t\tEscritorio\t\t       Plantillas\n",
      ".afirma\t\t.gitconfig\t\t       .platformio\n",
      "anaconda3\t.gnupg\t\t\t       .profile\n",
      ".audacity-data\tImágenes\t\t       .psensor\n",
      ".bash_history\t.ipython\t\t       Público\n",
      ".bash_logout\t.java\t\t\t       .python_history\n",
      ".bashrc\t\t.jupyter\t\t       snap\n",
      ".cache\t\t.lesshst\t\t       .ssh\n",
      ".conda\t\tLightworks\t\t       .sudo_as_admin_successful\n",
      ".config\t\t.Lightworks.thereCanBeOnlyOne  .thunderbird\n",
      ".cortex-debug\t.local\t\t\t       Vídeos\n",
      ".cyberghost\tlogiops\t\t\t       .vnc\n",
      ".dbus\t\t.MCTranscodingSDK\t       .vscode\n",
      "Descargas\t.mozilla\t\t       .wget-hsts\n",
      ".docker\t\tMúsica\n",
      "Documentos\t.nv\n"
     ]
    }
   ],
   "source": [
    "!ls -a"
   ]
  },
  {
   "cell_type": "markdown",
   "metadata": {},
   "source": [
    "Vemos que hay una archivo que se llama `.bashrc`, este archivo es el archivo que tiene la configuración de nuestro bash"
   ]
  },
  {
   "cell_type": "code",
   "execution_count": 134,
   "metadata": {},
   "outputs": [
    {
     "name": "stdout",
     "output_type": "stream",
     "text": [
      "# ~/.bashrc: executed by bash(1) for non-login shells.\n",
      "# see /usr/share/doc/bash/examples/startup-files (in the package bash-doc)\n",
      "# for examples\n",
      "\t ...\n",
      "fi\n",
      "unset __conda_setup\n",
      "# <<< conda initialize <<<\n",
      "\n",
      "\n"
     ]
    }
   ],
   "source": [
    "terminal(\"cat .bashrc\", max_lines_output=3)"
   ]
  },
  {
   "cell_type": "markdown",
   "metadata": {},
   "source": [
    "Este archivo es el que configura la terminal cada vez que se abre una nueva, por lo que si en el editamos la variable `PATH`, este cambio se mantendrá para todas las ventanas nuevas de terminal que abramos"
   ]
  },
  {
   "cell_type": "markdown",
   "metadata": {},
   "source": [
    "Para modificar la variable `PATH` dentro del archivo de configuración tenemos que agregar la siguiente linea al archivo"
   ]
  },
  {
   "cell_type": "markdown",
   "metadata": {},
   "source": [
    "```\n",
    "PATH=$PATH:\"subdirectorio\"\n",
    "```"
   ]
  },
  {
   "cell_type": "markdown",
   "metadata": {},
   "source": [
    "### Crear alias para todas las sesiones"
   ]
  },
  {
   "cell_type": "markdown",
   "metadata": {},
   "source": [
    "Ya vimos cómo crear alias de comandos, pero también pasaba que se perdían cada vez que cerrábamos una sesión de terminal, para que esto no pase, los añadimos tambien al archivo de configuración `.bashrc`. Por ejemplo, en mi caso he añadido las siguientes línea\n",
    "\n",
    "```\n",
    "alias ll='ls -l'\n",
    "alias la='ls -a'\n",
    "alias lh='ls -h'\n",
    "alias lha='ls -lha'\n",
    "```"
   ]
  },
  {
   "cell_type": "markdown",
   "metadata": {},
   "source": [
    "## Comandos de búsqueda"
   ]
  },
  {
   "cell_type": "markdown",
   "metadata": {},
   "source": [
    "### Búsqueda de binarios con `which`"
   ]
  },
  {
   "cell_type": "markdown",
   "metadata": {},
   "source": [
    "El primer comando de busqueda que vamos a ver es `which` que nos permite encontrar la ruta de los binarios"
   ]
  },
  {
   "cell_type": "code",
   "execution_count": 135,
   "metadata": {},
   "outputs": [
    {
     "name": "stdout",
     "output_type": "stream",
     "text": [
      "/home/wallabot/anaconda3/bin/python\n"
     ]
    }
   ],
   "source": [
    "!which python"
   ]
  },
  {
   "cell_type": "markdown",
   "metadata": {},
   "source": [
    "Sin embargo, si buscamos algo que no esté en alguna de las rutas de PATH, `which` no será capaz de decirnos la ruta"
   ]
  },
  {
   "cell_type": "code",
   "execution_count": 136,
   "metadata": {},
   "outputs": [],
   "source": [
    "!which cd"
   ]
  },
  {
   "cell_type": "markdown",
   "metadata": {},
   "source": [
    "### Búsqueda de archivos con `find`"
   ]
  },
  {
   "cell_type": "markdown",
   "metadata": {},
   "source": [
    "Para buscar un archivo con find tenemos que indicarle desde qué ruta queremos buscar el archivo, seguido del flag `-name` y el nombre del archivo que queremos buscar"
   ]
  },
  {
   "cell_type": "code",
   "execution_count": 137,
   "metadata": {},
   "outputs": [
    {
     "name": "stdout",
     "output_type": "stream",
     "text": [
      "/home/wallabot/Documentos/web/portafolio/posts/prueba/2021-02-11-Introduccion-a-Python.ipynb\n",
      "/home/wallabot/Documentos/web/portafolio/posts/2021-02-11-Introduccion-a-Python.ipynb\n"
     ]
    }
   ],
   "source": [
    "!find ~ -name \"2021-02-11-Introduccion-a-Python.ipynb\""
   ]
  },
  {
   "cell_type": "markdown",
   "metadata": {},
   "source": [
    "Como vemos está en su directorio más la copia que he creado en este notebook y la he guardado en la carpeta `prueba`"
   ]
  },
  {
   "cell_type": "markdown",
   "metadata": {},
   "source": [
    "Una cosa muy poderosa de `find` es que podemos usar `wildcards`, por ejemplo si quiero buscar todos los archivos de texto de mi carpeta `web`"
   ]
  },
  {
   "cell_type": "code",
   "execution_count": 139,
   "metadata": {},
   "outputs": [
    {
     "name": "stdout",
     "output_type": "stream",
     "text": [
      "/home/wallabot/Documentos/web/portafolio/posts/2022-09-12 Introduccion a la terminal.txt\n",
      "/home/wallabot/Documentos/web/portafolio/posts/prueba/lista.txt\n",
      "/home/wallabot/Documentos/web/portafolio/posts/prueba/dot.txt\n",
      "/home/wallabot/Documentos/web/portafolio/posts/prueba/dot2.txt\n",
      "/home/wallabot/Documentos/web/portafolio/posts/prueba/secuential.txt\n",
      "/home/wallabot/Documentos/web/portafolio/posts/prueba/subdirectorio/rootfile.txt\n",
      "/home/wallabot/Documentos/web/portafolio/posts/prueba/subdirectorio/mitexto.txt\n",
      "/home/wallabot/Documentos/web/portafolio/posts/prueba/file.txt\n",
      "/home/wallabot/Documentos/web/wordpress_api_rest/page.txt\n"
     ]
    }
   ],
   "source": [
    "!find ~/Documentos/web/ -name *.txt"
   ]
  },
  {
   "cell_type": "markdown",
   "metadata": {},
   "source": [
    "Si no queremos que distinga entre mayúsculas y minúsculas debemos usar el flag `-iname`, por ejemplo si buscamos todos los archivos que contengaen el tecto `FILE`, pero usando el flag `-iname`"
   ]
  },
  {
   "cell_type": "code",
   "execution_count": 140,
   "metadata": {},
   "outputs": [
    {
     "name": "stdout",
     "output_type": "stream",
     "text": [
      "/home/wallabot/Documentos/web/portafolio/posts/html_files\n",
      "/home/wallabot/Documentos/web/portafolio/posts/prueba/subdirectorio/rootfile.txt\n",
      "/home/wallabot/Documentos/web/portafolio/posts/prueba/file.txt\n"
     ]
    }
   ],
   "source": [
    "!find ~/Documentos/web/ -iname *FILE*"
   ]
  },
  {
   "cell_type": "markdown",
   "metadata": {},
   "source": [
    "Vemos que todos los resultados contienen `file` y no `FILE`, es decir, no ha hecho distinción entre mayúsculas y minúsculas"
   ]
  },
  {
   "cell_type": "markdown",
   "metadata": {},
   "source": [
    "Podemos especificar el tipo de archivo con el flag `-type`. Solo admite dos tipos `f` para archivos y `d` para directorios"
   ]
  },
  {
   "cell_type": "code",
   "execution_count": 141,
   "metadata": {},
   "outputs": [
    {
     "name": "stdout",
     "output_type": "stream",
     "text": [
      "/home/wallabot/Documentos/nerf/instant-ngp/configs/image\n",
      "/home/wallabot/Documentos/nerf/instant-ngp/dependencies/tiny-cuda-nn/benchmarks/image\n",
      "/home/wallabot/Documentos/nerf/instant-ngp/dependencies/tiny-cuda-nn/dependencies/cutlass/media/images\n",
      "/home/wallabot/Documentos/nerf/instant-ngp/dependencies/tiny-cuda-nn/dependencies/fmt/doc/bootstrap/mixins/image.less\n",
      "/home/wallabot/Documentos/nerf/instant-ngp/dependencies/tiny-cuda-nn/data/images\n",
      "/home/wallabot/Documentos/nerf/instant-ngp/dependencies/dlss/NVIDIAImageScaling/samples/media/images\n",
      "/home/wallabot/Documentos/nerf/instant-ngp/data/nerf/fox/images\n",
      "/home/wallabot/Documentos/nerf/instant-ngp/data/image\n"
     ]
    }
   ],
   "source": [
    "!find ~/Documentos/nerf -name image*"
   ]
  },
  {
   "cell_type": "code",
   "execution_count": 142,
   "metadata": {},
   "outputs": [
    {
     "name": "stdout",
     "output_type": "stream",
     "text": [
      "/home/wallabot/Documentos/nerf/instant-ngp/configs/image\n",
      "/home/wallabot/Documentos/nerf/instant-ngp/dependencies/tiny-cuda-nn/benchmarks/image\n",
      "/home/wallabot/Documentos/nerf/instant-ngp/dependencies/tiny-cuda-nn/dependencies/cutlass/media/images\n",
      "/home/wallabot/Documentos/nerf/instant-ngp/dependencies/tiny-cuda-nn/data/images\n",
      "/home/wallabot/Documentos/nerf/instant-ngp/dependencies/dlss/NVIDIAImageScaling/samples/media/images\n",
      "/home/wallabot/Documentos/nerf/instant-ngp/data/nerf/fox/images\n",
      "/home/wallabot/Documentos/nerf/instant-ngp/data/image\n"
     ]
    }
   ],
   "source": [
    "!find ~/Documentos/nerf -name image* -type d"
   ]
  },
  {
   "cell_type": "code",
   "execution_count": 143,
   "metadata": {},
   "outputs": [
    {
     "name": "stdout",
     "output_type": "stream",
     "text": [
      "/home/wallabot/Documentos/nerf/instant-ngp/dependencies/tiny-cuda-nn/dependencies/fmt/doc/bootstrap/mixins/image.less\n"
     ]
    }
   ],
   "source": [
    "!find ~/Documentos/nerf -name image* -type f"
   ]
  },
  {
   "cell_type": "markdown",
   "metadata": {},
   "source": [
    "Si queremos filtrar por el tamaño del archivo podemos usar el flag `-size`, por ejemplo, si queremos buscar todos los archivos de más de 200 MB"
   ]
  },
  {
   "cell_type": "code",
   "execution_count": 144,
   "metadata": {},
   "outputs": [
    {
     "name": "stdout",
     "output_type": "stream",
     "text": [
      "/home/wallabot/Documentos/kaggle/hubmap/models/13_efficientnet-b7_final_model.pth\n",
      "/home/wallabot/Documentos/kaggle/hubmap/models/12_efficientnet-b7_final_model.pth\n",
      "/home/wallabot/Documentos/kaggle/hubmap/models/14_resnet152_final_model.pth\n",
      "/home/wallabot/Documentos/kaggle/hubmap/models/14_resnet152_best_model.pth\n",
      "/home/wallabot/Documentos/kaggle/hubmap/models/12_efficientnet-b7_early_stopping.pth\n",
      "/home/wallabot/Documentos/kaggle/hubmap/models/efficientnet-b7-dcc49843.pth\n",
      "/home/wallabot/Documentos/kaggle/hubmap/models/13_efficientnet-b7_early_stopping.pth\n",
      "/home/wallabot/Documentos/kaggle/hubmap/models/14_resnet152_early_stopping.pth\n",
      "/home/wallabot/Documentos/kaggle/hubmap/models/12_efficientnet-b7_best_model.pth\n",
      "/home/wallabot/Documentos/kaggle/hubmap/models/13_efficientnet-b7_best_model.pth\n"
     ]
    }
   ],
   "source": [
    "!find ~/Documentos/ -type f -size +200M"
   ]
  },
  {
   "cell_type": "markdown",
   "metadata": {},
   "source": [
    "Si queremos realizar operaciones tras la búsqueda usamos el flag `-exec`"
   ]
  },
  {
   "cell_type": "markdown",
   "metadata": {},
   "source": [
    "Por ejemplo voy a buscar todas las carpetas con el nombre `subdirectorio`"
   ]
  },
  {
   "cell_type": "code",
   "execution_count": 145,
   "metadata": {},
   "outputs": [
    {
     "name": "stdout",
     "output_type": "stream",
     "text": [
      "/home/wallabot/Documentos/web/portafolio/posts/prueba/subdirectorio\n"
     ]
    }
   ],
   "source": [
    "!find ~/ -name subdirectorio -type d"
   ]
  },
  {
   "cell_type": "markdown",
   "metadata": {},
   "source": [
    "Puedo hacer que se borren con el flag `-exec`"
   ]
  },
  {
   "cell_type": "code",
   "execution_count": 164,
   "metadata": {},
   "outputs": [
    {
     "name": "stdout",
     "output_type": "stream",
     "text": [
      "rm: ¿borrar el fichero regular vacío '/home/wallabot/Documentos/web/portafolio/posts/prueba/subdirectorio/rootfile.txt'  protegido contra escritura? (s/n) s\n",
      "find: ‘/home/wallabot/Documentos/web/portafolio/posts/prueba/subdirectorio’: No existe el archivo o el directorio\n"
     ]
    }
   ],
   "source": [
    "!find ~/ -name subdirectorio -type d -exec rm -r {} \\;"
   ]
  },
  {
   "cell_type": "code",
   "execution_count": 146,
   "metadata": {},
   "outputs": [],
   "source": [
    "!find ~/ -name subdirectorio -type d"
   ]
  },
  {
   "cell_type": "markdown",
   "metadata": {},
   "source": [
    "Por último, si usamos el caracter `!` estaremos indicando que encuentre todo lo que no coincide con lo que hemos especificado"
   ]
  },
  {
   "cell_type": "code",
   "execution_count": 147,
   "metadata": {},
   "outputs": [
    {
     "name": "stdout",
     "output_type": "stream",
     "text": [
      "/home/wallabot/Documentos/web/portafolio/posts/prueba\n",
      "/home/wallabot/Documentos/web/portafolio/posts/prueba/index.html\n",
      "/home/wallabot/Documentos/web/portafolio/posts/prueba/Abc\n",
      "/home/wallabot/Documentos/web/portafolio/posts/prueba/datos1\n",
      "/home/wallabot/Documentos/web/portafolio/posts/prueba/2021-02-11-Introduccion-a-Python.ipynb\n",
      "/home/wallabot/Documentos/web/portafolio/posts/prueba/datos123\n"
     ]
    }
   ],
   "source": [
    "!find ~/Documentos/web/portafolio/posts/prueba ! -name *.txt"
   ]
  },
  {
   "cell_type": "markdown",
   "metadata": {},
   "source": [
    "Como vemos ha encontrado todo lo que no es un `.txt`"
   ]
  },
  {
   "cell_type": "markdown",
   "metadata": {},
   "source": [
    "## Comando de búsqueda `grep`"
   ]
  },
  {
   "cell_type": "markdown",
   "metadata": {},
   "source": [
    "`grep` es un comando de búsqueda muy potente, por eso le dedicamos un apartado a el solo. El comando `grep` utiliza las expresiones regulares por lo que si quieres aprender de ellas te dejo un enlace a un [post](https://maximofn.com/expresiones-regulares) donde las explico"
   ]
  },
  {
   "cell_type": "markdown",
   "metadata": {},
   "source": [
    "Vamos a empezar a ver la potencia de este comando, vamos a buscar todas las veces que aparece el texto `MaximoFN` dentro del archivo `2021-02-11-Introduccion-a-Python.ipynb`"
   ]
  },
  {
   "cell_type": "code",
   "execution_count": 148,
   "metadata": {},
   "outputs": [],
   "source": [
    "terminal(\"cd /home/wallabot/Documentos/web/portafolio/posts/prueba\")"
   ]
  },
  {
   "cell_type": "code",
   "execution_count": 150,
   "metadata": {},
   "outputs": [
    {
     "name": "stdout",
     "output_type": "stream",
     "text": [
      "        \"a = 'MaximoFN'\\n\",\n",
      "              \"'MaximoFN'\"\n",
      "        \"string = \\\"MaximoFN\\\"\\n\",\n",
      "              \"'MaximoFN'\"\n",
      "        \"string = 'MaximoFN'\\n\",\n",
      "              \"'MaximoFN'\"\n",
      "            \"Este es el blog de \\\"MaximoFN\\\"\\n\"\n",
      "        \"print(\\\"Este es el blog de \\\\\\\"MaximoFN\\\\\\\"\\\")\"\n",
      "            \"Este es el blog de 'MaximoFN'\\n\"\n",
      "        \"print('Este es el blog de \\\\'MaximoFN\\\\'')\"\n",
      "            \"Este es el blog de \\\\MaximoFN\\\\\\n\"\n",
      "        \"print('Este es el blog de \\\\\\\\MaximoFN\\\\\\\\')\"\n",
      "            \"MaximoFN\\n\"\n",
      "        \"print('Este es el blog de \\\\nMaximoFN')\"\n",
      "            \"Este es el blog de MaximoFN\\n\"\n",
      "        \"print('Esto no se imprimirá \\\\rEste es el blog de MaximoFN')\"\n",
      "            \"Este es el blog de \\tMaximoFN\\n\"\n",
      "        \"print('Este es el blog de \\\\tMaximoFN')\"\n",
      "            \"Este es el blog deMaximoFN\\n\"\n",
      "        \"print('Este es el blog de \\\\bMaximoFN')\"\n",
      "\t ...\n",
      "        \"funcion2_del_modulo('MaximoFN')\"\n",
      "            \"MaximoFN\\n\",\n",
      "        \"  print('MaximoFN')\\n\",\n",
      "        \"  variable = 'MaximoFN'\\n\",\n",
      "\n"
     ]
    }
   ],
   "source": [
    "terminal(\"grep MaximoFN 2021-02-11-Introduccion-a-Python.ipynb\", max_lines_output=20)"
   ]
  },
  {
   "cell_type": "markdown",
   "metadata": {},
   "source": [
    "Sin embargo si hacemos la misma búsqueda para el texto `maximofn`"
   ]
  },
  {
   "cell_type": "code",
   "execution_count": 151,
   "metadata": {},
   "outputs": [],
   "source": [
    "!grep maximofn 2021-02-11-Introduccion-a-Python.ipynb"
   ]
  },
  {
   "cell_type": "markdown",
   "metadata": {},
   "source": [
    "No aparece ningún resultado, esto es porque `grep` es `case sensitive` es decir busca el texto tal cual se lo has introducido, diferenciando mayúsculas y minúsculas. Si no queremos esto, tenemos que introducir el flag `-i`"
   ]
  },
  {
   "cell_type": "code",
   "execution_count": 152,
   "metadata": {},
   "outputs": [
    {
     "name": "stdout",
     "output_type": "stream",
     "text": [
      "        \"a = 'MaximoFN'\\n\",\n",
      "              \"'MaximoFN'\"\n",
      "        \"string = \\\"MaximoFN\\\"\\n\",\n",
      "              \"'MaximoFN'\"\n",
      "        \"string = 'MaximoFN'\\n\",\n",
      "              \"'MaximoFN'\"\n",
      "            \"Este es el blog de \\\"MaximoFN\\\"\\n\"\n",
      "        \"print(\\\"Este es el blog de \\\\\\\"MaximoFN\\\\\\\"\\\")\"\n",
      "            \"Este es el blog de 'MaximoFN'\\n\"\n",
      "        \"print('Este es el blog de \\\\'MaximoFN\\\\'')\"\n",
      "            \"Este es el blog de \\\\MaximoFN\\\\\\n\"\n",
      "        \"print('Este es el blog de \\\\\\\\MaximoFN\\\\\\\\')\"\n",
      "            \"MaximoFN\\n\"\n",
      "        \"print('Este es el blog de \\\\nMaximoFN')\"\n",
      "            \"Este es el blog de MaximoFN\\n\"\n",
      "        \"print('Esto no se imprimirá \\\\rEste es el blog de MaximoFN')\"\n",
      "            \"Este es el blog de \\tMaximoFN\\n\"\n",
      "        \"print('Este es el blog de \\\\tMaximoFN')\"\n",
      "            \"Este es el blog deMaximoFN\\n\"\n",
      "        \"print('Este es el blog de \\\\bMaximoFN')\"\n",
      "\t ...\n",
      "        \"funcion2_del_modulo('MaximoFN')\"\n",
      "            \"MaximoFN\\n\",\n",
      "        \"  print('MaximoFN')\\n\",\n",
      "        \"  variable = 'MaximoFN'\\n\",\n",
      "\n"
     ]
    }
   ],
   "source": [
    "terminal(\"grep -i MaximoFN 2021-02-11-Introduccion-a-Python.ipynb\", max_lines_output=20)"
   ]
  },
  {
   "cell_type": "markdown",
   "metadata": {},
   "source": [
    "Si lo que queremos es que nos devuelva el número de veces que aparece introducimos el flag `-c`"
   ]
  },
  {
   "cell_type": "code",
   "execution_count": 153,
   "metadata": {},
   "outputs": [
    {
     "name": "stdout",
     "output_type": "stream",
     "text": [
      "105\n"
     ]
    }
   ],
   "source": [
    "!grep -c MaximoFN 2021-02-11-Introduccion-a-Python.ipynb"
   ]
  },
  {
   "cell_type": "markdown",
   "metadata": {},
   "source": [
    "Si nos da igual si aparece con mayúscula o minúscula podemos volver a agregar el flag `-i`, pero no hace falta meterlo separado del flag `-c`, se pueden introducir juntos"
   ]
  },
  {
   "cell_type": "code",
   "execution_count": 154,
   "metadata": {},
   "outputs": [
    {
     "name": "stdout",
     "output_type": "stream",
     "text": [
      "105\n"
     ]
    }
   ],
   "source": [
    "!grep -ci MaximoFN 2021-02-11-Introduccion-a-Python.ipynb"
   ]
  },
  {
   "cell_type": "markdown",
   "metadata": {},
   "source": [
    "Si ahora queremos todas las veces en las que **no** aparece la palabra `MáximoFN` instroducimos el flag `-v`"
   ]
  },
  {
   "cell_type": "code",
   "execution_count": 155,
   "metadata": {},
   "outputs": [
    {
     "name": "stdout",
     "output_type": "stream",
     "text": [
      "11573\n"
     ]
    }
   ],
   "source": [
    "!grep -cv MaximoFN 2021-02-11-Introduccion-a-Python.ipynb"
   ]
  },
  {
   "cell_type": "markdown",
   "metadata": {},
   "source": [
    "## Utilidades de red"
   ]
  },
  {
   "cell_type": "markdown",
   "metadata": {},
   "source": [
    "### Información de las interfaces de red con `ifconfig`"
   ]
  },
  {
   "cell_type": "markdown",
   "metadata": {},
   "source": [
    "El primer comando va a ser `ifconfig` que nos muestra información de nuestras interfaces de red"
   ]
  },
  {
   "cell_type": "code",
   "execution_count": 156,
   "metadata": {},
   "outputs": [
    {
     "name": "stdout",
     "output_type": "stream",
     "text": [
      "br-470e52ae2708: flags=4099<UP,BROADCAST,MULTICAST>  mtu 1500\n",
      "        inet 172.18.0.1  netmask 255.255.0.0  broadcast 172.18.255.255\n",
      "        ether 02:42:ac:d0:b9:eb  txqueuelen 0  (Ethernet)\n",
      "        RX packets 0  bytes 0 (0.0 B)\n",
      "        RX errors 0  dropped 0  overruns 0  frame 0\n",
      "        TX packets 0  bytes 0 (0.0 B)\n",
      "        TX errors 0  dropped 0 overruns 0  carrier 0  collisions 0\n",
      "\n",
      "docker0: flags=4099<UP,BROADCAST,MULTICAST>  mtu 1500\n",
      "        inet 172.17.0.1  netmask 255.255.0.0  broadcast 172.17.255.255\n",
      "        ether 02:42:5d:15:1c:e9  txqueuelen 0  (Ethernet)\n",
      "        RX packets 0  bytes 0 (0.0 B)\n",
      "        RX errors 0  dropped 0  overruns 0  frame 0\n",
      "        TX packets 0  bytes 0 (0.0 B)\n",
      "        TX errors 0  dropped 0 overruns 0  carrier 0  collisions 0\n",
      "\n",
      "enp6s0: flags=4163<UP,BROADCAST,RUNNING,MULTICAST>  mtu 1500\n",
      "        inet 192.168.1.144  netmask 255.255.255.0  broadcast 192.168.1.255\n",
      "        inet6 fe80::7dc2:6944:3fbe:c18e  prefixlen 64  scopeid 0x20<link>\n",
      "        ether 24:4b:fe:5c:f6:59  txqueuelen 1000  (Ethernet)\n",
      "        RX packets 144369  bytes 123807349 (123.8 MB)\n",
      "        RX errors 0  dropped 2056  overruns 0  frame 0\n",
      "        TX packets 100672  bytes 55678042 (55.6 MB)\n",
      "        TX errors 0  dropped 0 overruns 0  carrier 0  collisions 0\n",
      "\n",
      "lo: flags=73<UP,LOOPBACK,RUNNING>  mtu 65536\n",
      "        inet 127.0.0.1  netmask 255.0.0.0\n",
      "        inet6 ::1  prefixlen 128  scopeid 0x10<host>\n",
      "        loop  txqueuelen 1000  (Bucle local)\n",
      "        RX packets 10748  bytes 1832545 (1.8 MB)\n",
      "        RX errors 0  dropped 0  overruns 0  frame 0\n",
      "        TX packets 10748  bytes 1832545 (1.8 MB)\n",
      "        TX errors 0  dropped 0 overruns 0  carrier 0  collisions 0\n",
      "\n",
      "wlp5s0: flags=4099<UP,BROADCAST,MULTICAST>  mtu 1500\n",
      "        ether 4c:77:cb:1d:66:cc  txqueuelen 1000  (Ethernet)\n",
      "        RX packets 0  bytes 0 (0.0 B)\n",
      "        RX errors 0  dropped 0  overruns 0  frame 0\n",
      "        TX packets 0  bytes 0 (0.0 B)\n",
      "        TX errors 0  dropped 0 overruns 0  carrier 0  collisions 0\n",
      "\n"
     ]
    }
   ],
   "source": [
    "!ifconfig"
   ]
  },
  {
   "cell_type": "markdown",
   "metadata": {},
   "source": [
    "Como vemos tenemos la información de todas las interfaces de red de mi ordenador, pero si quiero saber solo la de una, se especifica añadiendo su numbre"
   ]
  },
  {
   "cell_type": "code",
   "execution_count": 157,
   "metadata": {},
   "outputs": [
    {
     "name": "stdout",
     "output_type": "stream",
     "text": [
      "enp6s0: flags=4163<UP,BROADCAST,RUNNING,MULTICAST>  mtu 1500\n",
      "        inet 192.168.1.144  netmask 255.255.255.0  broadcast 192.168.1.255\n",
      "        inet6 fe80::7dc2:6944:3fbe:c18e  prefixlen 64  scopeid 0x20<link>\n",
      "        ether 24:4b:fe:5c:f6:59  txqueuelen 1000  (Ethernet)\n",
      "        RX packets 144467  bytes 123842258 (123.8 MB)\n",
      "        RX errors 0  dropped 2060  overruns 0  frame 0\n",
      "        TX packets 100786  bytes 55749109 (55.7 MB)\n",
      "        TX errors 0  dropped 0 overruns 0  carrier 0  collisions 0\n",
      "\n"
     ]
    }
   ],
   "source": [
    "!ifconfig enp6s0"
   ]
  },
  {
   "cell_type": "markdown",
   "metadata": {},
   "source": [
    "### Información de las interfaces de red con `ip`"
   ]
  },
  {
   "cell_type": "markdown",
   "metadata": {},
   "source": [
    "Otra manera de obtener la información de nuestras interfaces de red es mediante el comando `ip`, añadiendo `a` nos da la información de todas las interfaces"
   ]
  },
  {
   "cell_type": "code",
   "execution_count": 158,
   "metadata": {},
   "outputs": [
    {
     "name": "stdout",
     "output_type": "stream",
     "text": [
      "1: lo: <LOOPBACK,UP,LOWER_UP> mtu 65536 qdisc noqueue state UNKNOWN group default qlen 1000\n",
      "    link/loopback 00:00:00:00:00:00 brd 00:00:00:00:00:00\n",
      "    inet 127.0.0.1/8 scope host lo\n",
      "       valid_lft forever preferred_lft forever\n",
      "    inet6 ::1/128 scope host \n",
      "       valid_lft forever preferred_lft forever\n",
      "2: enp6s0: <BROADCAST,MULTICAST,UP,LOWER_UP> mtu 1500 qdisc fq_codel state UP group default qlen 1000\n",
      "    link/ether 24:4b:fe:5c:f6:59 brd ff:ff:ff:ff:ff:ff\n",
      "    inet 192.168.1.144/24 brd 192.168.1.255 scope global dynamic noprefixroute enp6s0\n",
      "       valid_lft 80218sec preferred_lft 80218sec\n",
      "    inet6 fe80::7dc2:6944:3fbe:c18e/64 scope link noprefixroute \n",
      "       valid_lft forever preferred_lft forever\n",
      "3: wlp5s0: <NO-CARRIER,BROADCAST,MULTICAST,UP> mtu 1500 qdisc noqueue state DOWN group default qlen 1000\n",
      "    link/ether 4c:77:cb:1d:66:cc brd ff:ff:ff:ff:ff:ff\n",
      "4: br-470e52ae2708: <NO-CARRIER,BROADCAST,MULTICAST,UP> mtu 1500 qdisc noqueue state DOWN group default \n",
      "    link/ether 02:42:ac:d0:b9:eb brd ff:ff:ff:ff:ff:ff\n",
      "    inet 172.18.0.1/16 brd 172.18.255.255 scope global br-470e52ae2708\n",
      "       valid_lft forever preferred_lft forever\n",
      "5: docker0: <NO-CARRIER,BROADCAST,MULTICAST,UP> mtu 1500 qdisc noqueue state DOWN group default \n",
      "    link/ether 02:42:5d:15:1c:e9 brd ff:ff:ff:ff:ff:ff\n",
      "    inet 172.17.0.1/16 brd 172.17.255.255 scope global docker0\n",
      "       valid_lft forever preferred_lft forever\n"
     ]
    }
   ],
   "source": [
    "!ip a"
   ]
  },
  {
   "cell_type": "markdown",
   "metadata": {},
   "source": [
    "### Test comunicaciones con `ping`"
   ]
  },
  {
   "cell_type": "markdown",
   "metadata": {},
   "source": [
    "Otro comando útil es `ping`, que nos puede servir para ver si tenemos conexión con una determinada `IP`. Por ejemplo, la `IP` de google es `142.250.200.78`, por lo que le hacemos `ping` a ver si nos contesta. El comando `ping` en linux hace `ping`s sin parar, por lo que nunca termina hasta que no lo paramos, para que no pase eso añadimos el flag `-c` y el número de intentos"
   ]
  },
  {
   "cell_type": "code",
   "execution_count": 161,
   "metadata": {},
   "outputs": [
    {
     "name": "stdout",
     "output_type": "stream",
     "text": [
      "PING 142.250.200.132 (142.250.200.132) 56(84) bytes of data.\n",
      "64 bytes from 142.250.200.132: icmp_seq=1 ttl=117 time=3.46 ms\n",
      "64 bytes from 142.250.200.132: icmp_seq=2 ttl=117 time=3.77 ms\n",
      "64 bytes from 142.250.200.132: icmp_seq=3 ttl=117 time=2.81 ms\n",
      "64 bytes from 142.250.200.132: icmp_seq=4 ttl=117 time=2.86 ms\n",
      "\n",
      "--- 142.250.200.132 ping statistics ---\n",
      "4 packets transmitted, 4 received, 0% packet loss, time 3004ms\n",
      "rtt min/avg/max/mdev = 2.812/3.227/3.773/0.405 ms\n"
     ]
    }
   ],
   "source": [
    "!ping 142.250.200.132 -c 4"
   ]
  },
  {
   "cell_type": "markdown",
   "metadata": {},
   "source": [
    "Lo mismo hubiese pasado si lo hubiésemos hecho directamente sobre `google.com`"
   ]
  },
  {
   "cell_type": "code",
   "execution_count": 160,
   "metadata": {},
   "outputs": [
    {
     "name": "stdout",
     "output_type": "stream",
     "text": [
      "PING www.google.com (142.250.200.132) 56(84) bytes of data.\n",
      "64 bytes from mad41s14-in-f4.1e100.net (142.250.200.132): icmp_seq=1 ttl=117 time=2.74 ms\n",
      "64 bytes from mad41s14-in-f4.1e100.net (142.250.200.132): icmp_seq=2 ttl=117 time=3.96 ms\n",
      "64 bytes from mad41s14-in-f4.1e100.net (142.250.200.132): icmp_seq=3 ttl=117 time=3.56 ms\n",
      "64 bytes from mad41s14-in-f4.1e100.net (142.250.200.132): icmp_seq=4 ttl=117 time=2.87 ms\n",
      "\n",
      "--- www.google.com ping statistics ---\n",
      "4 packets transmitted, 4 received, 0% packet loss, time 3003ms\n",
      "rtt min/avg/max/mdev = 2.741/3.283/3.962/0.499 ms\n"
     ]
    }
   ],
   "source": [
    "!ping www.google.com -c 4"
   ]
  },
  {
   "cell_type": "markdown",
   "metadata": {},
   "source": [
    "### Descargar archivos fuente con `curl`"
   ]
  },
  {
   "cell_type": "markdown",
   "metadata": {},
   "source": [
    "Podemos obtener un archivo de texto de una dirección dada mediante el comando `curl`, por ejemplo, nos podemos descargar el html de google"
   ]
  },
  {
   "cell_type": "code",
   "execution_count": 162,
   "metadata": {},
   "outputs": [
    {
     "name": "stdout",
     "output_type": "stream",
     "text": [
      "<!doctype html><html itemscope=\"\" itemtype=\"http://schema.org/WebPage\" lang=\"es\"><head><meta content=\"Google.es permite acceder a la informaci�n mundial en castellano, catal�n, gallego, euskara e ingl�s.\" name=\"description\"><meta content=\"noodp\" name=\"robots\"><meta content=\"text/html; charset=UTF-8\" http-equiv=\"Content-Type\"><meta content=\"/images/branding/googleg/1x/googleg_standard_color_128dp.png\" itemprop=\"image\"><title>Google</title><script nonce=\"zXcc4tMJWBRoE7q_o_Z2fQ\">(function(){window.google={kEI:'M5GOY6PeLr-jkdUP1pir0AE',kEXPI:'0,1359409,6059,206,4804,2316,383,246,5,5367,1123753,1197713,688,380089,16115,28684,22430,1362,12312,17587,4998,13228,3847,10622,22741,5081,1593,1279,2742,149,1103,840,1983,214,4100,3514,606,2023,2297,14670,3227,2845,7,4773,28997,1850,15757,3,346,230,6459,149,13975,4,1528,2304,7039,27731,7357,13658,4437,16786,5815,2542,4094,4052,3,3541,1,14262,27892,2,14022,6248,19490,5680,1021,2380,28741,4569,6255,23421,1252,5835,14967,4333,7484,11406,15676,8155,7381,15970,873,14804,1,4828,7,1922,5784,12208,10330,587,12192,4832,26504,5796,3,14433,3890,751,13384,1499,3,679,1622,1779,1886,338,1627,1119,6,8909,80,243,458,3438,1763,722,1020,813,91,1133,10,280,2306,44,77,1420,3,562,402,314,275,2095,440,399,138,384,1033,334,2667,2,723,444,79,403,501,929,3,785,2,240,78,2022,284,196,732,175,342,244,617,335,1,841,1275,14,979,57,857,446,2,1900,838,251,227,50,21,8,3,442,57,40,936,697,773,95,121,643,1502,163,355,702,195,1,452,50,334,687,109,1,19,109,134,546,80,5,36,124,68,135,131,415,47,27,266,563,48,231,742,15,527,2,6,495,1,495,5,62,1627,441,262,5,3,648,3,6,4,13,39,538,792,337,9,115,98,180,148,308,401,1240,2,726,243,2044,5286450,84,19,32,115,11,70,5995534,2803414,3311,141,795,19735,1,1,346,1755,1004,41,342,1,189,14,1,10,8,1,5,4,2,1,3,2,2,1,3,1,3,1,4,3,1,3,2,2,23947076,511,21,11,4041599,1964,1007,2087,13579,3102,303,5595,11,3835,3637,2623,9,136,1524825',kBL:'p9Xv'};google.sn='webhp';google.kHL='es';})();(function(){\n",
      "var f=this||self;var h,k=[];function l(a){for(var b;a&&(!a.getAttribute||!(b=a.getAttribute(\"eid\")));)a=a.parentNode;return b||h}function m(a){for(var b=null;a&&(!a.getAttribute||!(b=a.getAttribute(\"leid\")));)a=a.parentNode;return b}\n",
      "function n(a,b,c,d,g){var e=\"\";c||-1!==b.search(\"&ei=\")||(e=\"&ei=\"+l(d),-1===b.search(\"&lei=\")&&(d=m(d))&&(e+=\"&lei=\"+d));d=\"\";!c&&f._cshid&&-1===b.search(\"&cshid=\")&&\"slh\"!==a&&(d=\"&cshid=\"+f._cshid);c=c||\"/\"+(g||\"gen_204\")+\"?atyp=i&ct=\"+a+\"&cad=\"+b+e+\"&zx=\"+Date.now()+d;/^http:/i.test(c)&&\"https:\"===window.location.protocol&&(google.ml&&google.ml(Error(\"a\"),!1,{src:c,glmm:1}),c=\"\");return c};h=google.kEI;google.getEI=l;google.getLEI=m;google.ml=function(){return null};google.log=function(a,b,c,d,g){if(c=n(a,b,c,d,g)){a=new Image;var e=k.length;k[e]=a;a.onerror=a.onload=a.onabort=function(){delete k[e]};a.src=c}};google.logUrl=n;}).call(this);(function(){google.y={};google.sy=[];google.x=function(a,b){if(a)var c=a.id;else{do c=Math.random();while(google.y[c])}google.y[c]=[a,b];return!1};google.sx=function(a){google.sy.push(a)};google.lm=[];google.plm=function(a){google.lm.push.apply(google.lm,a)};google.lq=[];google.load=function(a,b,c){google.lq.push([[a],b,c])};google.loadAll=function(a,b){google.lq.push([a,b])};google.bx=!1;google.lx=function(){};}).call(this);google.f={};(function(){\n",
      "document.documentElement.addEventListener(\"submit\",function(b){var a;if(a=b.target){var c=a.getAttribute(\"data-submitfalse\");a=\"1\"===c||\"q\"===c&&!a.elements.q.value?!0:!1}else a=!1;a&&(b.preventDefault(),b.stopPropagation())},!0);document.documentElement.addEventListener(\"click\",function(b){var a;a:{for(a=b.target;a&&a!==document.documentElement;a=a.parentElement)if(\"A\"===a.tagName){a=\"1\"===a.getAttribute(\"data-nohref\");break a}a=!1}a&&b.preventDefault()},!0);}).call(this);</script><style>#gbar,#guser{font-size:13px;padding-top:1px !important;}#gbar{height:22px}#guser{padding-bottom:7px !important;text-align:right}.gbh,.gbd{border-top:1px solid #c9d7f1;font-size:1px}.gbh{height:0;position:absolute;top:24px;width:100%}@media all{.gb1{height:22px;margin-right:.5em;vertical-align:top}#gbar{float:left}}a.gb1,a.gb4{text-decoration:underline !important}a.gb1,a.gb4{color:#00c !important}.gbi .gb4{color:#dd8e27 !important}.gbf .gb4{color:#900 !important}\n",
      "</style><style>body,td,a,p,.h{font-family:arial,sans-serif}body{margin:0;overflow-y:scroll}#gog{padding:3px 8px 0}td{line-height:.8em}.gac_m td{line-height:17px}form{margin-bottom:20px}.h{color:#1558d6}em{font-weight:bold;font-style:normal}.lst{height:25px;width:496px}.gsfi,.lst{font:18px arial,sans-serif}.gsfs{font:17px arial,sans-serif}.ds{display:inline-box;display:inline-block;margin:3px 0 4px;margin-left:4px}input{font-family:inherit}body{background:#fff;color:#000}a{color:#4b11a8;text-decoration:none}a:hover,a:active{text-decoration:underline}.fl a{color:#1558d6}a:visited{color:#4b11a8}.sblc{padding-top:5px}.sblc a{display:block;margin:2px 0;margin-left:13px;font-size:11px}.lsbb{background:#f8f9fa;border:solid 1px;border-color:#dadce0 #70757a #70757a #dadce0;height:30px}.lsbb{display:block}#WqQANb a{display:inline-block;margin:0 12px}.lsb{background:url(/images/nav_logo229.png) 0 -261px repeat-x;border:none;color:#000;cursor:pointer;height:30px;margin:0;outline:0;font:15px arial,sans-serif;vertical-align:top}.lsb:active{background:#dadce0}.lst:focus{outline:none}</style><script nonce=\"zXcc4tMJWBRoE7q_o_Z2fQ\">(function(){window.google.erd={jsr:1,bv:1698,de:true};\n",
      "var h=this||self;var k,l=null!=(k=h.mei)?k:1,n,p=null!=(n=h.sdo)?n:!0,q=0,r,t=google.erd,v=t.jsr;google.ml=function(a,b,d,m,e){e=void 0===e?2:e;b&&(r=a&&a.message);if(google.dl)return google.dl(a,e,d),null;if(0>v){window.console&&console.error(a,d);if(-2===v)throw a;b=!1}else b=!a||!a.message||\"Error loading script\"===a.message||q>=l&&!m?!1:!0;if(!b)return null;q++;d=d||{};b=encodeURIComponent;var c=\"/gen_204?atyp=i&ei=\"+b(google.kEI);google.kEXPI&&(c+=\"&jexpid=\"+b(google.kEXPI));c+=\"&srcpg=\"+b(google.sn)+\"&jsr=\"+b(t.jsr)+\"&bver=\"+b(t.bv);var f=a.lineNumber;void 0!==f&&(c+=\"&line=\"+f);var g=\n",
      "a.fileName;g&&(0<g.indexOf(\"-extension:/\")&&(e=3),c+=\"&script=\"+b(g),f&&g===window.location.href&&(f=document.documentElement.outerHTML.split(\"\\n\")[f],c+=\"&cad=\"+b(f?f.substring(0,300):\"No script found.\")));c+=\"&jsel=\"+e;for(var u in d)c+=\"&\",c+=b(u),c+=\"=\",c+=b(d[u]);c=c+\"&emsg=\"+b(a.name+\": \"+a.message);c=c+\"&jsst=\"+b(a.stack||\"N/A\");12288<=c.length&&(c=c.substr(0,12288));a=c;m||google.log(0,\"\",a);return a};window.onerror=function(a,b,d,m,e){r!==a&&(a=e instanceof Error?e:Error(a),void 0===d||\"lineNumber\"in a||(a.lineNumber=d),void 0===b||\"fileName\"in a||(a.fileName=b),google.ml(a,!1,void 0,!1,\"SyntaxError\"===a.name||\"SyntaxError\"===a.message.substring(0,11)||-1!==a.message.indexOf(\"Script error\")?3:0));r=null;p&&q>=l&&(window.onerror=null)};})();</script></head><body bgcolor=\"#fff\"><script nonce=\"zXcc4tMJWBRoE7q_o_Z2fQ\">(function(){var src='/images/nav_logo229.png';var iesg=false;document.body.onload = function(){window.n && window.n();if (document.images){new Image().src=src;}\n",
      "if (!iesg){document.f&&document.f.q.focus();document.gbqf&&document.gbqf.q.focus();}\n",
      "}\n",
      "})();</script><div id=\"mngb\"><div id=gbar><nobr><b class=gb1>B�squeda</b> <a class=gb1 href=\"https://www.google.es/imghp?hl=es&tab=wi\">Im�genes</a> <a class=gb1 href=\"https://maps.google.es/maps?hl=es&tab=wl\">Maps</a> <a class=gb1 href=\"https://play.google.com/?hl=es&tab=w8\">Play</a> <a class=gb1 href=\"https://www.youtube.com/?tab=w1\">YouTube</a> <a class=gb1 href=\"https://news.google.com/?tab=wn\">Noticias</a> <a class=gb1 href=\"https://mail.google.com/mail/?tab=wm\">Gmail</a> <a class=gb1 href=\"https://drive.google.com/?tab=wo\">Drive</a> <a class=gb1 style=\"text-decoration:none\" href=\"https://www.google.es/intl/es/about/products?tab=wh\"><u>M�s</u> &raquo;</a></nobr></div><div id=guser width=100%><nobr><span id=gbn class=gbi></span><span id=gbf class=gbf></span><span id=gbe></span><a href=\"http://www.google.es/history/optout?hl=es\" class=gb4>Historial web</a> | <a  href=\"/preferences?hl=es\" class=gb4>Ajustes</a> | <a target=_top id=gb_70 href=\"https://accounts.google.com/ServiceLogin?hl=es&passive=true&continue=https://www.google.com/&ec=GAZAAQ\" class=gb4>Iniciar sesi�n</a></nobr></div><div class=gbh style=left:0></div><div class=gbh style=right:0></div></div><center><br clear=\"all\" id=\"lgpd\"><div id=\"lga\"><img alt=\"Google\" height=\"92\" src=\"/images/branding/googlelogo/1x/googlelogo_white_background_color_272x92dp.png\" style=\"padding:28px 0 14px\" width=\"272\" id=\"hplogo\"><br><br></div><form action=\"/search\" name=\"f\"><table cellpadding=\"0\" cellspacing=\"0\"><tr valign=\"top\"><td width=\"25%\">&nbsp;</td><td align=\"center\" nowrap=\"\"><input name=\"ie\" value=\"ISO-8859-1\" type=\"hidden\"><input value=\"es\" name=\"hl\" type=\"hidden\"><input name=\"source\" type=\"hidden\" value=\"hp\"><input name=\"biw\" type=\"hidden\"><input name=\"bih\" type=\"hidden\"><div class=\"ds\" style=\"height:32px;margin:4px 0\"><input class=\"lst\" style=\"margin:0;padding:5px 8px 0 6px;vertical-align:top;color:#000\" autocomplete=\"off\" value=\"\" title=\"Buscar con Google\" maxlength=\"2048\" name=\"q\" size=\"57\"></div><br style=\"line-height:0\"><span class=\"ds\"><span class=\"lsbb\"><input class=\"lsb\" value=\"Buscar con Google\" name=\"btnG\" type=\"submit\"></span></span><span class=\"ds\"><span class=\"lsbb\"><input class=\"lsb\" id=\"tsuid_1\" value=\"Voy a tener suerte\" name=\"btnI\" type=\"submit\"><script nonce=\"zXcc4tMJWBRoE7q_o_Z2fQ\">(function(){var id='tsuid_1';document.getElementById(id).onclick = function(){if (this.form.q.value){this.checked = 1;if (this.form.iflsig)this.form.iflsig.disabled = false;}\n",
      "else top.location='/doodles/';};})();</script><input value=\"AJiK0e8AAAAAY46fQwdyVrbrgW6gkEtVkGfp2nyO0ZXL\" name=\"iflsig\" type=\"hidden\"></span></span></td><td class=\"fl sblc\" align=\"left\" nowrap=\"\" width=\"25%\"><a href=\"/advanced_search?hl=es&amp;authuser=0\">B�squeda avanzada</a></td></tr></table><input id=\"gbv\" name=\"gbv\" type=\"hidden\" value=\"1\"><script nonce=\"zXcc4tMJWBRoE7q_o_Z2fQ\">(function(){var a,b=\"1\";if(document&&document.getElementById)if(\"undefined\"!=typeof XMLHttpRequest)b=\"2\";else if(\"undefined\"!=typeof ActiveXObject){var c,d,e=[\"MSXML2.XMLHTTP.6.0\",\"MSXML2.XMLHTTP.3.0\",\"MSXML2.XMLHTTP\",\"Microsoft.XMLHTTP\"];for(c=0;d=e[c++];)try{new ActiveXObject(d),b=\"2\"}catch(h){}}a=b;if(\"2\"==a&&-1==location.search.indexOf(\"&gbv=2\")){var f=google.gbvu,g=document.getElementById(\"gbv\");g&&(g.value=a);f&&window.setTimeout(function(){location.href=f},0)};}).call(this);</script></form><div id=\"gac_scont\"></div><div style=\"font-size:83%;min-height:3.5em\"><br><div id=\"gws-output-pages-elements-homepage_additional_languages__als\"><style>#gws-output-pages-elements-homepage_additional_languages__als{font-size:small;margin-bottom:24px}#SIvCob{color:#3c4043;display:inline-block;line-height:28px;}#SIvCob a{padding:0 3px;}.H6sW5{display:inline-block;margin:0 2px;white-space:nowrap}.z4hgWe{display:inline-block;margin:0 2px}</style><div id=\"SIvCob\">Ofrecido por Google en:  <a href=\"https://www.google.com/setprefs?sig=0_vwUKUD2Xhro4NnrueK1hCfItt30%3D&amp;hl=ca&amp;source=homepage&amp;sa=X&amp;ved=0ahUKEwjjw_C44uP7AhW_UaQEHVbMChoQ2ZgBCAU\">catal�</a>    <a href=\"https://www.google.com/setprefs?sig=0_vwUKUD2Xhro4NnrueK1hCfItt30%3D&amp;hl=gl&amp;source=homepage&amp;sa=X&amp;ved=0ahUKEwjjw_C44uP7AhW_UaQEHVbMChoQ2ZgBCAY\">galego</a>    <a href=\"https://www.google.com/setprefs?sig=0_vwUKUD2Xhro4NnrueK1hCfItt30%3D&amp;hl=eu&amp;source=homepage&amp;sa=X&amp;ved=0ahUKEwjjw_C44uP7AhW_UaQEHVbMChoQ2ZgBCAc\">euskara</a>  </div></div></div><span id=\"footer\"><div style=\"font-size:10pt\"><div style=\"margin:19px auto;text-align:center\" id=\"WqQANb\"><a href=\"http://www.google.es/intl/es/services/\">Soluciones Empresariales</a><a href=\"/intl/es/about.html\">Todo acerca de Google</a><a href=\"https://www.google.com/setprefdomain?prefdom=ES&amp;prev=https://www.google.es/&amp;sig=K_a2UXepORMQOw5-SHU8h4noB_VWk%3D\">Google.es</a></div></div><p style=\"font-size:8pt;color:#70757a\">&copy; 2022 - <a href=\"/intl/es/policies/privacy/\">Privacidad</a> - <a href=\"/intl/es/policies/terms/\">T�rminos</a></p></span></center><script nonce=\"zXcc4tMJWBRoE7q_o_Z2fQ\">(function(){window.google.cdo={height:757,width:1440};(function(){var a=window.innerWidth,b=window.innerHeight;if(!a||!b){var c=window.document,d=\"CSS1Compat\"==c.compatMode?c.documentElement:c.body;a=d.clientWidth;b=d.clientHeight}a&&b&&(a!=google.cdo.width||b!=google.cdo.height)&&google.log(\"\",\"\",\"/client_204?&atyp=i&biw=\"+a+\"&bih=\"+b+\"&ei=\"+google.kEI);}).call(this);})();</script> <script nonce=\"zXcc4tMJWBRoE7q_o_Z2fQ\">(function(){google.xjs={ck:'xjs.hp.oxai9SxkIQY.L.X.O',cs:'ACT90oEGh-_ImDfBjn6aD_ABGaOlD2MqVw',excm:[]};})();</script>  <script nonce=\"zXcc4tMJWBRoE7q_o_Z2fQ\">(function(){var u='/xjs/_/js/k\\x3dxjs.hp.en.9b-uVUIpJU8.O/am\\x3dAADoBABQAGAB/d\\x3d1/ed\\x3d1/rs\\x3dACT90oG-6KYVksw4jxVvNcwan406xE6qVw/m\\x3dsb_he,d';var amd=0;\n",
      "var d=this||self,e=function(a){return a};var g;var l=function(a,b){this.g=b===h?a:\"\"};l.prototype.toString=function(){return this.g+\"\"};var h={};\n",
      "function m(){var a=u;google.lx=function(){p(a);google.lx=function(){}};google.bx||google.lx()}\n",
      "function p(a){google.timers&&google.timers.load&&google.tick&&google.tick(\"load\",\"xjsls\");var b=document;var c=\"SCRIPT\";\"application/xhtml+xml\"===b.contentType&&(c=c.toLowerCase());c=b.createElement(c);if(void 0===g){b=null;var k=d.trustedTypes;if(k&&k.createPolicy){try{b=k.createPolicy(\"goog#html\",{createHTML:e,createScript:e,createScriptURL:e})}catch(q){d.console&&d.console.error(q.message)}g=b}else g=b}a=(b=g)?b.createScriptURL(a):a;a=new l(a,h);c.src=a instanceof l&&a.constructor===l?a.g:\"type_error:TrustedResourceUrl\";var f,n;(f=(a=null==(n=(f=(c.ownerDocument&&c.ownerDocument.defaultView||window).document).querySelector)?void 0:n.call(f,\"script[nonce]\"))?a.nonce||a.getAttribute(\"nonce\")||\"\":\"\")&&c.setAttribute(\"nonce\",f);document.body.appendChild(c);google.psa=!0};google.xjsu=u;setTimeout(function(){0<amd?google.caft(function(){return m()},amd):m()},0);})();function _DumpException(e){throw e;}\n",
      "function _F_installCss(c){}\n",
      "(function(){google.jl={blt:'none',chnk:0,dw:false,dwu:true,emtn:0,end:0,ico:false,ikb:0,ine:false,injs:'none',injt:0,injth:0,injv2:false,lls:'default',pdt:0,rep:0,snet:true,strt:0,ubm:false,uwp:true};})();(function(){var pmc='{\\x22d\\x22:{},\\x22sb_he\\x22:{\\x22agen\\x22:true,\\x22cgen\\x22:true,\\x22client\\x22:\\x22heirloom-hp\\x22,\\x22dh\\x22:true,\\x22ds\\x22:\\x22\\x22,\\x22fl\\x22:true,\\x22host\\x22:\\x22google.com\\x22,\\x22jsonp\\x22:true,\\x22lm\\x22:true,\\x22msgs\\x22:{\\x22cibl\\x22:\\x22Borrar b�squeda\\x22,\\x22dym\\x22:\\x22Quiz�s quisiste decir:\\x22,\\x22lcky\\x22:\\x22Voy a tener suerte\\x22,\\x22lml\\x22:\\x22M�s informaci�n\\x22,\\x22psrc\\x22:\\x22Esta b�squeda se ha eliminado de tu \\\\u003Ca href\\x3d\\\\\\x22/history\\\\\\x22\\\\u003Ehistorial web\\\\u003C/a\\\\u003E.\\x22,\\x22psrl\\x22:\\x22Eliminar\\x22,\\x22sbit\\x22:\\x22Buscar por imagen\\x22,\\x22srch\\x22:\\x22Buscar con Google\\x22},\\x22ovr\\x22:{},\\x22pq\\x22:\\x22\\x22,\\x22rfs\\x22:[],\\x22sbas\\x22:\\x220 3px 8px 0 rgba(0,0,0,0.2),0 0 0 1px rgba(0,0,0,0.08)\\x22,\\x22stok\\x22:\\x22gh8wSanWNWQy8f-PH0wGTjDkvYQ\\x22}}';google.pmc=JSON.parse(pmc);})();</script>        </body></html>"
     ]
    }
   ],
   "source": [
    "!curl https://www.google.com"
   ]
  },
  {
   "cell_type": "markdown",
   "metadata": {},
   "source": [
    "Tambien podemos hacer un pipeline para guardarlo en un archivo"
   ]
  },
  {
   "cell_type": "code",
   "execution_count": 163,
   "metadata": {},
   "outputs": [
    {
     "name": "stdout",
     "output_type": "stream",
     "text": [
      "  % Total    % Received % Xferd  Average Speed   Time    Time     Time  Current\n",
      "                                 Dload  Upload   Total   Spent    Left  Speed\n",
      "100 15168    0 15168    0     0   135k      0 --:--:-- --:--:-- --:--:--  137k\n"
     ]
    }
   ],
   "source": [
    "!curl https://www.google.com > google.html"
   ]
  },
  {
   "cell_type": "markdown",
   "metadata": {},
   "source": [
    "Ahora podemos ver si se ha guardado bien"
   ]
  },
  {
   "cell_type": "code",
   "execution_count": 165,
   "metadata": {},
   "outputs": [
    {
     "name": "stdout",
     "output_type": "stream",
     "text": [
      "<!doctype html><html itemscope=\"\" itemtype=\"http://schema.org/WebPage\" lang=\"es\"><head><meta content=\"Google.es permite acceder a la informaci�n mundial en castellano, catal�n, gallego, euskara e ingl�s.\" name=\"description\"><meta content=\"noodp\" name=\"robots\"><meta content=\"text/html; charset=UTF-8\" http-equiv=\"Content-Type\"><meta content=\"/images/branding/googleg/1x/googleg_standard_color_128dp.png\" itemprop=\"image\"><title>Google</title><script nonce=\"Jo7WFU6XWWwu6NrdwaRyIw\">(function(){window.google={kEI:'R5GOY-LZHLegkdUP_IqzoAE',kEXPI:'0,1359409,6059,206,4804,2316,383,246,5,5367,1123753,1197777,380713,16115,28684,22430,1362,283,12036,17580,4998,13228,516,3331,10622,22741,5081,1593,1279,2742,149,1103,840,1983,4,210,4100,3514,606,2023,2299,14668,3229,2843,7,4773,826,23475,4696,1851,15756,3,346,230,6459,149,13975,4,1528,2304,7039,20309,7422,7357,13658,4437,16786,5812,2545,4094,4052,3,3541,1,11943,30211,2,8984,1,5037,6249,19490,5679,1020,2378,28745,4568,6258,23418,1252,5835,14967,4333,4239,3245,27082,239,7916,7381,15969,874,19633,6,1923,5784,3995,21779,1120,8423,4832,26080,423,107,5690,3,14433,3890,751,14879,3,683,217,1405,1779,1854,31,1966,1119,6,8909,323,5659,1741,814,1224,10,280,2346,82,1419,3,565,401,519,68,970,1125,440,398,156,367,1034,333,3392,526,396,3,1431,3,785,2,312,2312,196,907,342,244,618,314,1,293,568,171,1104,14,89,891,56,857,306,14,509,154,246,1110,219,628,249,229,49,8,8,3,55,4,399,55,39,1072,49,43,2,468,782,83,123,641,1502,166,350,707,195,5,140,358,329,692,109,1,20,108,134,547,67,5,49,93,31,77,124,79,355,160,27,829,236,764,12,35,118,98,803,1,65,436,5,5,54,2065,262,5,3,647,3,8,2,14,39,65,380,80,14,790,346,115,99,1323,4,711,242,2,723,2286,5280608,12,5934,147,81,8798948,3311,141,795,19735,1,1,346,1755,1004,41,342,1,189,14,9,4,6,3,3,4,1,2,2,3,2,2,2,1,2,5,2,2,1,2,2,2,23947077,512,18,13,2737921,1303678,1964,3094,13579,3405,5595,11,3835,1923,3208,1069,1480676,40778',kBL:'p9Xv'};google.sn='webhp';google.kHL='es';})();(function(){\n",
      "var f=this||self;var h,k=[];function l(a){for(var b;a&&(!a.getAttribute||!(b=a.getAttribute(\"eid\")));)a=a.parentNode;return b||h}function m(a){for(var b=null;a&&(!a.getAttribute||!(b=a.getAttribute(\"leid\")));)a=a.parentNode;return b}\n",
      "function n(a,b,c,d,g){var e=\"\";c||-1!==b.search(\"&ei=\")||(e=\"&ei=\"+l(d),-1===b.search(\"&lei=\")&&(d=m(d))&&(e+=\"&lei=\"+d));d=\"\";!c&&f._cshid&&-1===b.search(\"&cshid=\")&&\"slh\"!==a&&(d=\"&cshid=\"+f._cshid);c=c||\"/\"+(g||\"gen_204\")+\"?atyp=i&ct=\"+a+\"&cad=\"+b+e+\"&zx=\"+Date.now()+d;/^http:/i.test(c)&&\"https:\"===window.location.protocol&&(google.ml&&google.ml(Error(\"a\"),!1,{src:c,glmm:1}),c=\"\");return c};h=google.kEI;google.getEI=l;google.getLEI=m;google.ml=function(){return null};google.log=function(a,b,c,d,g){if(c=n(a,b,c,d,g)){a=new Image;var e=k.length;k[e]=a;a.onerror=a.onload=a.onabort=function(){delete k[e]};a.src=c}};google.logUrl=n;}).call(this);(function(){google.y={};google.sy=[];google.x=function(a,b){if(a)var c=a.id;else{do c=Math.random();while(google.y[c])}google.y[c]=[a,b];return!1};google.sx=function(a){google.sy.push(a)};google.lm=[];google.plm=function(a){google.lm.push.apply(google.lm,a)};google.lq=[];google.load=function(a,b,c){google.lq.push([[a],b,c])};google.loadAll=function(a,b){google.lq.push([a,b])};google.bx=!1;google.lx=function(){};}).call(this);google.f={};(function(){\n",
      "document.documentElement.addEventListener(\"submit\",function(b){var a;if(a=b.target){var c=a.getAttribute(\"data-submitfalse\");a=\"1\"===c||\"q\"===c&&!a.elements.q.value?!0:!1}else a=!1;a&&(b.preventDefault(),b.stopPropagation())},!0);document.documentElement.addEventListener(\"click\",function(b){var a;a:{for(a=b.target;a&&a!==document.documentElement;a=a.parentElement)if(\"A\"===a.tagName){a=\"1\"===a.getAttribute(\"data-nohref\");break a}a=!1}a&&b.preventDefault()},!0);}).call(this);</script><style>#gbar,#guser{font-size:13px;padding-top:1px !important;}#gbar{height:22px}#guser{padding-bottom:7px !important;text-align:right}.gbh,.gbd{border-top:1px solid #c9d7f1;font-size:1px}.gbh{height:0;position:absolute;top:24px;width:100%}@media all{.gb1{height:22px;margin-right:.5em;vertical-align:top}#gbar{float:left}}a.gb1,a.gb4{text-decoration:underline !important}a.gb1,a.gb4{color:#00c !important}.gbi .gb4{color:#dd8e27 !important}.gbf .gb4{color:#900 !important}\n",
      "</style><style>body,td,a,p,.h{font-family:arial,sans-serif}body{margin:0;overflow-y:scroll}#gog{padding:3px 8px 0}td{line-height:.8em}.gac_m td{line-height:17px}form{margin-bottom:20px}.h{color:#1558d6}em{font-weight:bold;font-style:normal}.lst{height:25px;width:496px}.gsfi,.lst{font:18px arial,sans-serif}.gsfs{font:17px arial,sans-serif}.ds{display:inline-box;display:inline-block;margin:3px 0 4px;margin-left:4px}input{font-family:inherit}body{background:#fff;color:#000}a{color:#4b11a8;text-decoration:none}a:hover,a:active{text-decoration:underline}.fl a{color:#1558d6}a:visited{color:#4b11a8}.sblc{padding-top:5px}.sblc a{display:block;margin:2px 0;margin-left:13px;font-size:11px}.lsbb{background:#f8f9fa;border:solid 1px;border-color:#dadce0 #70757a #70757a #dadce0;height:30px}.lsbb{display:block}#WqQANb a{display:inline-block;margin:0 12px}.lsb{background:url(/images/nav_logo229.png) 0 -261px repeat-x;border:none;color:#000;cursor:pointer;height:30px;margin:0;outline:0;font:15px arial,sans-serif;vertical-align:top}.lsb:active{background:#dadce0}.lst:focus{outline:none}</style><script nonce=\"Jo7WFU6XWWwu6NrdwaRyIw\">(function(){window.google.erd={jsr:1,bv:1698,de:true};\n",
      "var h=this||self;var k,l=null!=(k=h.mei)?k:1,n,p=null!=(n=h.sdo)?n:!0,q=0,r,t=google.erd,v=t.jsr;google.ml=function(a,b,d,m,e){e=void 0===e?2:e;b&&(r=a&&a.message);if(google.dl)return google.dl(a,e,d),null;if(0>v){window.console&&console.error(a,d);if(-2===v)throw a;b=!1}else b=!a||!a.message||\"Error loading script\"===a.message||q>=l&&!m?!1:!0;if(!b)return null;q++;d=d||{};b=encodeURIComponent;var c=\"/gen_204?atyp=i&ei=\"+b(google.kEI);google.kEXPI&&(c+=\"&jexpid=\"+b(google.kEXPI));c+=\"&srcpg=\"+b(google.sn)+\"&jsr=\"+b(t.jsr)+\"&bver=\"+b(t.bv);var f=a.lineNumber;void 0!==f&&(c+=\"&line=\"+f);var g=\n",
      "a.fileName;g&&(0<g.indexOf(\"-extension:/\")&&(e=3),c+=\"&script=\"+b(g),f&&g===window.location.href&&(f=document.documentElement.outerHTML.split(\"\\n\")[f],c+=\"&cad=\"+b(f?f.substring(0,300):\"No script found.\")));c+=\"&jsel=\"+e;for(var u in d)c+=\"&\",c+=b(u),c+=\"=\",c+=b(d[u]);c=c+\"&emsg=\"+b(a.name+\": \"+a.message);c=c+\"&jsst=\"+b(a.stack||\"N/A\");12288<=c.length&&(c=c.substr(0,12288));a=c;m||google.log(0,\"\",a);return a};window.onerror=function(a,b,d,m,e){r!==a&&(a=e instanceof Error?e:Error(a),void 0===d||\"lineNumber\"in a||(a.lineNumber=d),void 0===b||\"fileName\"in a||(a.fileName=b),google.ml(a,!1,void 0,!1,\"SyntaxError\"===a.name||\"SyntaxError\"===a.message.substring(0,11)||-1!==a.message.indexOf(\"Script error\")?3:0));r=null;p&&q>=l&&(window.onerror=null)};})();</script></head><body bgcolor=\"#fff\"><script nonce=\"Jo7WFU6XWWwu6NrdwaRyIw\">(function(){var src='/images/nav_logo229.png';var iesg=false;document.body.onload = function(){window.n && window.n();if (document.images){new Image().src=src;}\n",
      "if (!iesg){document.f&&document.f.q.focus();document.gbqf&&document.gbqf.q.focus();}\n",
      "}\n",
      "})();</script><div id=\"mngb\"><div id=gbar><nobr><b class=gb1>B�squeda</b> <a class=gb1 href=\"https://www.google.es/imghp?hl=es&tab=wi\">Im�genes</a> <a class=gb1 href=\"https://maps.google.es/maps?hl=es&tab=wl\">Maps</a> <a class=gb1 href=\"https://play.google.com/?hl=es&tab=w8\">Play</a> <a class=gb1 href=\"https://www.youtube.com/?tab=w1\">YouTube</a> <a class=gb1 href=\"https://news.google.com/?tab=wn\">Noticias</a> <a class=gb1 href=\"https://mail.google.com/mail/?tab=wm\">Gmail</a> <a class=gb1 href=\"https://drive.google.com/?tab=wo\">Drive</a> <a class=gb1 style=\"text-decoration:none\" href=\"https://www.google.es/intl/es/about/products?tab=wh\"><u>M�s</u> &raquo;</a></nobr></div><div id=guser width=100%><nobr><span id=gbn class=gbi></span><span id=gbf class=gbf></span><span id=gbe></span><a href=\"http://www.google.es/history/optout?hl=es\" class=gb4>Historial web</a> | <a  href=\"/preferences?hl=es\" class=gb4>Ajustes</a> | <a target=_top id=gb_70 href=\"https://accounts.google.com/ServiceLogin?hl=es&passive=true&continue=https://www.google.com/&ec=GAZAAQ\" class=gb4>Iniciar sesi�n</a></nobr></div><div class=gbh style=left:0></div><div class=gbh style=right:0></div></div><center><br clear=\"all\" id=\"lgpd\"><div id=\"lga\"><img alt=\"Google\" height=\"92\" src=\"/images/branding/googlelogo/1x/googlelogo_white_background_color_272x92dp.png\" style=\"padding:28px 0 14px\" width=\"272\" id=\"hplogo\"><br><br></div><form action=\"/search\" name=\"f\"><table cellpadding=\"0\" cellspacing=\"0\"><tr valign=\"top\"><td width=\"25%\">&nbsp;</td><td align=\"center\" nowrap=\"\"><input name=\"ie\" value=\"ISO-8859-1\" type=\"hidden\"><input value=\"es\" name=\"hl\" type=\"hidden\"><input name=\"source\" type=\"hidden\" value=\"hp\"><input name=\"biw\" type=\"hidden\"><input name=\"bih\" type=\"hidden\"><div class=\"ds\" style=\"height:32px;margin:4px 0\"><input class=\"lst\" style=\"margin:0;padding:5px 8px 0 6px;vertical-align:top;color:#000\" autocomplete=\"off\" value=\"\" title=\"Buscar con Google\" maxlength=\"2048\" name=\"q\" size=\"57\"></div><br style=\"line-height:0\"><span class=\"ds\"><span class=\"lsbb\"><input class=\"lsb\" value=\"Buscar con Google\" name=\"btnG\" type=\"submit\"></span></span><span class=\"ds\"><span class=\"lsbb\"><input class=\"lsb\" id=\"tsuid_1\" value=\"Voy a tener suerte\" name=\"btnI\" type=\"submit\"><script nonce=\"Jo7WFU6XWWwu6NrdwaRyIw\">(function(){var id='tsuid_1';document.getElementById(id).onclick = function(){if (this.form.q.value){this.checked = 1;if (this.form.iflsig)this.form.iflsig.disabled = false;}\n",
      "else top.location='/doodles/';};})();</script><input value=\"AJiK0e8AAAAAY46fV7gpXBHCT6KAebFZAqGv1l-4BtIR\" name=\"iflsig\" type=\"hidden\"></span></span></td><td class=\"fl sblc\" align=\"left\" nowrap=\"\" width=\"25%\"><a href=\"/advanced_search?hl=es&amp;authuser=0\">B�squeda avanzada</a></td></tr></table><input id=\"gbv\" name=\"gbv\" type=\"hidden\" value=\"1\"><script nonce=\"Jo7WFU6XWWwu6NrdwaRyIw\">(function(){var a,b=\"1\";if(document&&document.getElementById)if(\"undefined\"!=typeof XMLHttpRequest)b=\"2\";else if(\"undefined\"!=typeof ActiveXObject){var c,d,e=[\"MSXML2.XMLHTTP.6.0\",\"MSXML2.XMLHTTP.3.0\",\"MSXML2.XMLHTTP\",\"Microsoft.XMLHTTP\"];for(c=0;d=e[c++];)try{new ActiveXObject(d),b=\"2\"}catch(h){}}a=b;if(\"2\"==a&&-1==location.search.indexOf(\"&gbv=2\")){var f=google.gbvu,g=document.getElementById(\"gbv\");g&&(g.value=a);f&&window.setTimeout(function(){location.href=f},0)};}).call(this);</script></form><div id=\"gac_scont\"></div><div style=\"font-size:83%;min-height:3.5em\"><br><div id=\"gws-output-pages-elements-homepage_additional_languages__als\"><style>#gws-output-pages-elements-homepage_additional_languages__als{font-size:small;margin-bottom:24px}#SIvCob{color:#3c4043;display:inline-block;line-height:28px;}#SIvCob a{padding:0 3px;}.H6sW5{display:inline-block;margin:0 2px;white-space:nowrap}.z4hgWe{display:inline-block;margin:0 2px}</style><div id=\"SIvCob\">Ofrecido por Google en:  <a href=\"https://www.google.com/setprefs?sig=0_HljXEzVisqsnlJP1S5dx0Fao0Lw%3D&amp;hl=ca&amp;source=homepage&amp;sa=X&amp;ved=0ahUKEwiimaPC4uP7AhU3UKQEHXzFDBQQ2ZgBCAU\">catal�</a>    <a href=\"https://www.google.com/setprefs?sig=0_HljXEzVisqsnlJP1S5dx0Fao0Lw%3D&amp;hl=gl&amp;source=homepage&amp;sa=X&amp;ved=0ahUKEwiimaPC4uP7AhU3UKQEHXzFDBQQ2ZgBCAY\">galego</a>    <a href=\"https://www.google.com/setprefs?sig=0_HljXEzVisqsnlJP1S5dx0Fao0Lw%3D&amp;hl=eu&amp;source=homepage&amp;sa=X&amp;ved=0ahUKEwiimaPC4uP7AhU3UKQEHXzFDBQQ2ZgBCAc\">euskara</a>  </div></div></div><span id=\"footer\"><div style=\"font-size:10pt\"><div style=\"margin:19px auto;text-align:center\" id=\"WqQANb\"><a href=\"http://www.google.es/intl/es/services/\">Soluciones Empresariales</a><a href=\"/intl/es/about.html\">Todo acerca de Google</a><a href=\"https://www.google.com/setprefdomain?prefdom=ES&amp;prev=https://www.google.es/&amp;sig=K_8O8QHBmoai9DOT5YZxMWevJK8VI%3D\">Google.es</a></div></div><p style=\"font-size:8pt;color:#70757a\">&copy; 2022 - <a href=\"/intl/es/policies/privacy/\">Privacidad</a> - <a href=\"/intl/es/policies/terms/\">T�rminos</a></p></span></center><script nonce=\"Jo7WFU6XWWwu6NrdwaRyIw\">(function(){window.google.cdo={height:757,width:1440};(function(){var a=window.innerWidth,b=window.innerHeight;if(!a||!b){var c=window.document,d=\"CSS1Compat\"==c.compatMode?c.documentElement:c.body;a=d.clientWidth;b=d.clientHeight}a&&b&&(a!=google.cdo.width||b!=google.cdo.height)&&google.log(\"\",\"\",\"/client_204?&atyp=i&biw=\"+a+\"&bih=\"+b+\"&ei=\"+google.kEI);}).call(this);})();</script> <script nonce=\"Jo7WFU6XWWwu6NrdwaRyIw\">(function(){google.xjs={ck:'xjs.hp.oxai9SxkIQY.L.X.O',cs:'ACT90oEGh-_ImDfBjn6aD_ABGaOlD2MqVw',excm:[]};})();</script>  <script nonce=\"Jo7WFU6XWWwu6NrdwaRyIw\">(function(){var u='/xjs/_/js/k\\x3dxjs.hp.en.9b-uVUIpJU8.O/am\\x3dAADoBABQAGAB/d\\x3d1/ed\\x3d1/rs\\x3dACT90oG-6KYVksw4jxVvNcwan406xE6qVw/m\\x3dsb_he,d';var amd=0;\n",
      "var d=this||self,e=function(a){return a};var g;var l=function(a,b){this.g=b===h?a:\"\"};l.prototype.toString=function(){return this.g+\"\"};var h={};\n",
      "function m(){var a=u;google.lx=function(){p(a);google.lx=function(){}};google.bx||google.lx()}\n",
      "function p(a){google.timers&&google.timers.load&&google.tick&&google.tick(\"load\",\"xjsls\");var b=document;var c=\"SCRIPT\";\"application/xhtml+xml\"===b.contentType&&(c=c.toLowerCase());c=b.createElement(c);if(void 0===g){b=null;var k=d.trustedTypes;if(k&&k.createPolicy){try{b=k.createPolicy(\"goog#html\",{createHTML:e,createScript:e,createScriptURL:e})}catch(q){d.console&&d.console.error(q.message)}g=b}else g=b}a=(b=g)?b.createScriptURL(a):a;a=new l(a,h);c.src=a instanceof l&&a.constructor===l?a.g:\"type_error:TrustedResourceUrl\";var f,n;(f=(a=null==(n=(f=(c.ownerDocument&&c.ownerDocument.defaultView||window).document).querySelector)?void 0:n.call(f,\"script[nonce]\"))?a.nonce||a.getAttribute(\"nonce\")||\"\":\"\")&&c.setAttribute(\"nonce\",f);document.body.appendChild(c);google.psa=!0};google.xjsu=u;setTimeout(function(){0<amd?google.caft(function(){return m()},amd):m()},0);})();function _DumpException(e){throw e;}\n",
      "function _F_installCss(c){}\n",
      "(function(){google.jl={blt:'none',chnk:0,dw:false,dwu:true,emtn:0,end:0,ico:false,ikb:0,ine:false,injs:'none',injt:0,injth:0,injv2:false,lls:'default',pdt:0,rep:0,snet:true,strt:0,ubm:false,uwp:true};})();(function(){var pmc='{\\x22d\\x22:{},\\x22sb_he\\x22:{\\x22agen\\x22:true,\\x22cgen\\x22:true,\\x22client\\x22:\\x22heirloom-hp\\x22,\\x22dh\\x22:true,\\x22ds\\x22:\\x22\\x22,\\x22fl\\x22:true,\\x22host\\x22:\\x22google.com\\x22,\\x22jsonp\\x22:true,\\x22lm\\x22:true,\\x22msgs\\x22:{\\x22cibl\\x22:\\x22Borrar b�squeda\\x22,\\x22dym\\x22:\\x22Quiz�s quisiste decir:\\x22,\\x22lcky\\x22:\\x22Voy a tener suerte\\x22,\\x22lml\\x22:\\x22M�s informaci�n\\x22,\\x22psrc\\x22:\\x22Esta b�squeda se ha eliminado de tu \\\\u003Ca href\\x3d\\\\\\x22/history\\\\\\x22\\\\u003Ehistorial web\\\\u003C/a\\\\u003E.\\x22,\\x22psrl\\x22:\\x22Eliminar\\x22,\\x22sbit\\x22:\\x22Buscar por imagen\\x22,\\x22srch\\x22:\\x22Buscar con Google\\x22},\\x22ovr\\x22:{},\\x22pq\\x22:\\x22\\x22,\\x22rfs\\x22:[],\\x22sbas\\x22:\\x220 3px 8px 0 rgba(0,0,0,0.2),0 0 0 1px rgba(0,0,0,0.08)\\x22,\\x22stok\\x22:\\x22GYSMF2y7hymT0L3W0W4RPVIsSrU\\x22}}';google.pmc=JSON.parse(pmc);})();</script>        </body></html>"
     ]
    }
   ],
   "source": [
    "!cat google.html"
   ]
  },
  {
   "cell_type": "markdown",
   "metadata": {},
   "source": [
    "### Descargar archivos con `wget`"
   ]
  },
  {
   "cell_type": "markdown",
   "metadata": {},
   "source": [
    "Otro comando parecido es `wget`, sin embargo, a diferencia de `curl`, wget descarga el archivo directamente"
   ]
  },
  {
   "cell_type": "code",
   "execution_count": 166,
   "metadata": {},
   "outputs": [
    {
     "name": "stdout",
     "output_type": "stream",
     "text": [
      "--2022-12-06 01:49:19--  https://www.google.com/\n",
      "Resolviendo www.google.com (www.google.com)... 142.250.200.68, 2a00:1450:4003:80c::2004\n",
      "Conectando con www.google.com (www.google.com)[142.250.200.68]:443... conectado.\n",
      "Petición HTTP enviada, esperando respuesta... 200 OK\n",
      "Longitud: no especificado [text/html]\n",
      "Guardando como: “index.html.1”\n",
      "\n",
      "index.html.1            [ <=>                ]  14,76K  --.-KB/s    en 0,002s  \n",
      "\n",
      "2022-12-06 01:49:19 (7,17 MB/s) - “index.html.1” guardado [15117]\n",
      "\n"
     ]
    }
   ],
   "source": [
    "!wget https://www.google.com"
   ]
  },
  {
   "cell_type": "code",
   "execution_count": 167,
   "metadata": {},
   "outputs": [
    {
     "name": "stdout",
     "output_type": "stream",
     "text": [
      "total 316\n",
      "-rw-rw-r-- 1 wallabot wallabot 285898 dic  6 00:28 2021-02-11-Introduccion-a-Python.ipynb\n",
      "-rw-rw-r-- 1 wallabot wallabot      0 dic  6 00:56 Abc\n",
      "-rw-rw-r-- 1 wallabot wallabot      0 dic  6 00:56 datos1\n",
      "-rw-rw-r-- 1 wallabot wallabot      0 dic  6 00:56 datos123\n",
      "-rw-rw-r-- 1 wallabot wallabot      0 dic  6 00:56 dot2.txt\n",
      "-rw-rw-r-- 1 wallabot wallabot      0 dic  6 00:56 dot.txt\n",
      "-rw-rw-r-- 1 wallabot wallabot      0 dic  6 00:56 file.txt\n",
      "-rw-rw-r-- 1 wallabot wallabot  15168 dic  6 01:48 google.html\n",
      "-rw-rw-r-- 1 wallabot wallabot      0 dic  6 00:56 index.html\n",
      "-rw-rw-r-- 1 wallabot wallabot  15117 dic  6 01:49 index.html.1\n",
      "-rw-rw-r-- 1 wallabot wallabot    182 dic  6 01:06 lista.txt\n",
      "-rw-rw-r-- 1 wallabot wallabot      0 dic  6 01:08 secuential.txt\n"
     ]
    }
   ],
   "source": [
    "!ls -l"
   ]
  },
  {
   "cell_type": "markdown",
   "metadata": {},
   "source": [
    "Vemos que lo ha guardado como `index.html`, que es como google lo tiene nombrado"
   ]
  },
  {
   "cell_type": "markdown",
   "metadata": {},
   "source": [
    "Si queremos que se guarde con un nombre específico podemos usar el flag `-O`"
   ]
  },
  {
   "cell_type": "code",
   "execution_count": 168,
   "metadata": {},
   "outputs": [
    {
     "name": "stdout",
     "output_type": "stream",
     "text": [
      "--2022-12-06 01:49:37--  https://www.google.com/\n",
      "Resolviendo www.google.com (www.google.com)... 142.250.200.68, 2a00:1450:4003:80c::2004\n",
      "Conectando con www.google.com (www.google.com)[142.250.200.68]:443... conectado.\n",
      "Petición HTTP enviada, esperando respuesta... 200 OK\n",
      "Longitud: no especificado [text/html]\n",
      "Guardando como: “google2.html”\n",
      "\n",
      "google2.html            [ <=>                ]  14,78K  --.-KB/s    en 0,003s  \n",
      "\n",
      "2022-12-06 01:49:37 (5,27 MB/s) - “google2.html” guardado [15131]\n",
      "\n"
     ]
    }
   ],
   "source": [
    "!wget https://www.google.com -O google2.html"
   ]
  },
  {
   "cell_type": "code",
   "execution_count": 169,
   "metadata": {},
   "outputs": [
    {
     "name": "stdout",
     "output_type": "stream",
     "text": [
      "total 332\n",
      "-rw-rw-r-- 1 wallabot wallabot 285898 dic  6 00:28 2021-02-11-Introduccion-a-Python.ipynb\n",
      "-rw-rw-r-- 1 wallabot wallabot      0 dic  6 00:56 Abc\n",
      "-rw-rw-r-- 1 wallabot wallabot      0 dic  6 00:56 datos1\n",
      "-rw-rw-r-- 1 wallabot wallabot      0 dic  6 00:56 datos123\n",
      "-rw-rw-r-- 1 wallabot wallabot      0 dic  6 00:56 dot2.txt\n",
      "-rw-rw-r-- 1 wallabot wallabot      0 dic  6 00:56 dot.txt\n",
      "-rw-rw-r-- 1 wallabot wallabot      0 dic  6 00:56 file.txt\n",
      "-rw-rw-r-- 1 wallabot wallabot  15131 dic  6 01:49 google2.html\n",
      "-rw-rw-r-- 1 wallabot wallabot  15168 dic  6 01:48 google.html\n",
      "-rw-rw-r-- 1 wallabot wallabot      0 dic  6 00:56 index.html\n",
      "-rw-rw-r-- 1 wallabot wallabot  15117 dic  6 01:49 index.html.1\n",
      "-rw-rw-r-- 1 wallabot wallabot    182 dic  6 01:06 lista.txt\n",
      "-rw-rw-r-- 1 wallabot wallabot      0 dic  6 01:08 secuential.txt\n"
     ]
    }
   ],
   "source": [
    "!ls -l"
   ]
  },
  {
   "cell_type": "markdown",
   "metadata": {},
   "source": [
    "### Depuración de la ruta con `traceroute`"
   ]
  },
  {
   "cell_type": "markdown",
   "metadata": {},
   "source": [
    "Un comando muy útil es ver la ruta hasta un destino, para ello usamos `traceroute`, por ejemplo vamos a ver todos los sitios por los que tengo que pasar para conectarme a google"
   ]
  },
  {
   "cell_type": "code",
   "execution_count": 170,
   "metadata": {},
   "outputs": [
    {
     "name": "stdout",
     "output_type": "stream",
     "text": [
      "traceroute to www.google.com (142.250.200.68), 64 hops max\n",
      "  1   192.168.1.1  0,435ms  0,154ms  0,133ms \n",
      "  2   188.127.176.1  3,979ms  2,914ms  3,397ms \n",
      "  3   10.15.0.77  3,600ms  3,914ms  2,669ms \n",
      "  4   10.15.246.6  3,567ms  3,713ms  2,926ms \n",
      "  5   *  *  * \n",
      "  6   72.14.209.84  3,981ms  2,914ms  2,993ms \n",
      "  7   *  *  * \n",
      "  8   142.251.54.148  3,856ms  2,916ms  2,905ms \n",
      "  9   142.250.200.68  2,908ms  2,949ms  3,037ms \n"
     ]
    }
   ],
   "source": [
    "!traceroute www.google.com"
   ]
  },
  {
   "cell_type": "markdown",
   "metadata": {},
   "source": [
    "### Nombre de nuestra máquina con `hostname`"
   ]
  },
  {
   "cell_type": "markdown",
   "metadata": {},
   "source": [
    "Si queremos saber el nombre de nuestro equipo podemos usar `hostname`, lo cual es útil si queremos conectarnos a nuestra máquina desde otra"
   ]
  },
  {
   "cell_type": "code",
   "execution_count": 171,
   "metadata": {},
   "outputs": [
    {
     "name": "stdout",
     "output_type": "stream",
     "text": [
      "wallabot\n"
     ]
    }
   ],
   "source": [
    "!hostname"
   ]
  },
  {
   "cell_type": "markdown",
   "metadata": {},
   "source": [
    "### Información de enlace de puerta predeterminada con `route -n`"
   ]
  },
  {
   "cell_type": "markdown",
   "metadata": {},
   "source": [
    "Si queremos conocer nuestra puerta de enlace predeterminada usamos el comando `route -n`"
   ]
  },
  {
   "cell_type": "code",
   "execution_count": 172,
   "metadata": {},
   "outputs": [
    {
     "name": "stdout",
     "output_type": "stream",
     "text": [
      "Tabla de rutas IP del núcleo\n",
      "Destino         Pasarela        Genmask         Indic Métric Ref    Uso Interfaz\n",
      "0.0.0.0         192.168.1.1     0.0.0.0         UG    100    0        0 enp6s0\n",
      "169.254.0.0     0.0.0.0         255.255.0.0     U     1000   0        0 enp6s0\n",
      "172.17.0.0      0.0.0.0         255.255.0.0     U     0      0        0 docker0\n",
      "172.18.0.0      0.0.0.0         255.255.0.0     U     0      0        0 br-470e52ae2708\n",
      "192.168.1.0     0.0.0.0         255.255.255.0   U     100    0        0 enp6s0\n"
     ]
    }
   ],
   "source": [
    "!route -n"
   ]
  },
  {
   "cell_type": "markdown",
   "metadata": {},
   "source": [
    "### Información de la IP de un dominio con `nslookup`"
   ]
  },
  {
   "cell_type": "markdown",
   "metadata": {},
   "source": [
    "Si queremos saber la IP de algún dominio lo podemos saber mediante el comando `nslookup`"
   ]
  },
  {
   "cell_type": "code",
   "execution_count": 173,
   "metadata": {},
   "outputs": [
    {
     "name": "stdout",
     "output_type": "stream",
     "text": [
      "Server:\t\t127.0.0.53\n",
      "Address:\t127.0.0.53#53\n",
      "\n",
      "Non-authoritative answer:\n",
      "Name:\tgoogle.com\n",
      "Address: 142.250.185.14\n",
      "Name:\tgoogle.com\n",
      "Address: 2a00:1450:4003:808::200e\n",
      "\n"
     ]
    }
   ],
   "source": [
    "!nslookup google.com"
   ]
  },
  {
   "cell_type": "markdown",
   "metadata": {},
   "source": [
    "Esto nos dice que la IP v4 de Google es 172.217.168.174 y su IP v6 es 2a00:1450:4003:803::200e"
   ]
  },
  {
   "cell_type": "markdown",
   "metadata": {},
   "source": [
    "### Información de nuestra red con `netstats`"
   ]
  },
  {
   "cell_type": "markdown",
   "metadata": {},
   "source": [
    "El último comando de utilidad des `netstats`, este comando nos da el estado de nuestra red, además con el flag `-i` nos devuelve nuestras interfaces de red"
   ]
  },
  {
   "cell_type": "code",
   "execution_count": 174,
   "metadata": {},
   "outputs": [
    {
     "name": "stdout",
     "output_type": "stream",
     "text": [
      "Tabla de la interfaz del núcleo\n",
      "Iface      MTU    RX-OK RX-ERR RX-DRP RX-OVR    TX-OK TX-ERR TX-DRP TX-OVR Flg\n",
      "br-470e5  1500        0      0      0 0             0      0      0      0 BMU\n",
      "docker0   1500        0      0      0 0             0      0      0      0 BMU\n",
      "enp6s0    1500   148385      0   2182 0        106135      0      0      0 BMRU\n",
      "lo       65536    11674      0      0 0         11674      0      0      0 LRU\n",
      "wlp5s0    1500        0      0      0 0             0      0      0      0 BMU\n"
     ]
    }
   ],
   "source": [
    "!netstat -i"
   ]
  },
  {
   "cell_type": "markdown",
   "metadata": {},
   "source": [
    "## Comprimiendo archivos"
   ]
  },
  {
   "cell_type": "markdown",
   "metadata": {},
   "source": [
    "Antes de comprimir y descomprimir vamos a ver qué vamos a comprimir, primero imprimimos nuestra ruta y listamos los archivos"
   ]
  },
  {
   "cell_type": "code",
   "execution_count": 175,
   "metadata": {},
   "outputs": [
    {
     "name": "stdout",
     "output_type": "stream",
     "text": [
      "/home/wallabot/Documentos/web/portafolio/posts/prueba\n",
      "total 332\n",
      "-rw-rw-r-- 1 wallabot wallabot 285898 dic  6 00:28 2021-02-11-Introduccion-a-Python.ipynb\n",
      "-rw-rw-r-- 1 wallabot wallabot      0 dic  6 00:56 Abc\n",
      "-rw-rw-r-- 1 wallabot wallabot      0 dic  6 00:56 datos1\n",
      "-rw-rw-r-- 1 wallabot wallabot      0 dic  6 00:56 datos123\n",
      "-rw-rw-r-- 1 wallabot wallabot      0 dic  6 00:56 dot2.txt\n",
      "-rw-rw-r-- 1 wallabot wallabot      0 dic  6 00:56 dot.txt\n",
      "-rw-rw-r-- 1 wallabot wallabot      0 dic  6 00:56 file.txt\n",
      "-rw-rw-r-- 1 wallabot wallabot  15131 dic  6 01:49 google2.html\n",
      "-rw-rw-r-- 1 wallabot wallabot  15168 dic  6 01:48 google.html\n",
      "-rw-rw-r-- 1 wallabot wallabot      0 dic  6 00:56 index.html\n",
      "-rw-rw-r-- 1 wallabot wallabot  15117 dic  6 01:49 index.html.1\n",
      "-rw-rw-r-- 1 wallabot wallabot    182 dic  6 01:06 lista.txt\n",
      "-rw-rw-r-- 1 wallabot wallabot      0 dic  6 01:08 secuential.txt\n"
     ]
    }
   ],
   "source": [
    "!pwd; ls -l"
   ]
  },
  {
   "cell_type": "markdown",
   "metadata": {},
   "source": [
    "Vamos a crear una nueva carpeta y a copiar todo lo que está dentro de la actual carpeta en ella"
   ]
  },
  {
   "cell_type": "code",
   "execution_count": 176,
   "metadata": {},
   "outputs": [
    {
     "name": "stdout",
     "output_type": "stream",
     "text": [
      "cp: -r not specified; omitting directory 'tocompress'\n",
      "total 336\n",
      "-rw-rw-r-- 1 wallabot wallabot 285898 dic  6 00:28 2021-02-11-Introduccion-a-Python.ipynb\n",
      "-rw-rw-r-- 1 wallabot wallabot      0 dic  6 00:56 Abc\n",
      "-rw-rw-r-- 1 wallabot wallabot      0 dic  6 00:56 datos1\n",
      "-rw-rw-r-- 1 wallabot wallabot      0 dic  6 00:56 datos123\n",
      "-rw-rw-r-- 1 wallabot wallabot      0 dic  6 00:56 dot2.txt\n",
      "-rw-rw-r-- 1 wallabot wallabot      0 dic  6 00:56 dot.txt\n",
      "-rw-rw-r-- 1 wallabot wallabot      0 dic  6 00:56 file.txt\n",
      "-rw-rw-r-- 1 wallabot wallabot  15131 dic  6 01:49 google2.html\n",
      "-rw-rw-r-- 1 wallabot wallabot  15168 dic  6 01:48 google.html\n",
      "-rw-rw-r-- 1 wallabot wallabot      0 dic  6 00:56 index.html\n",
      "-rw-rw-r-- 1 wallabot wallabot  15117 dic  6 01:49 index.html.1\n",
      "-rw-rw-r-- 1 wallabot wallabot    182 dic  6 01:06 lista.txt\n",
      "-rw-rw-r-- 1 wallabot wallabot      0 dic  6 01:08 secuential.txt\n",
      "drwxrwxr-x 2 wallabot wallabot   4096 dic  6 01:52 tocompress\n"
     ]
    }
   ],
   "source": [
    "!mkdir tocompress; cp * tocompress; ls -l"
   ]
  },
  {
   "cell_type": "markdown",
   "metadata": {},
   "source": [
    "Como vemos se ha compiado todo menos la propia carpeta `tocompress` ya que no hemos puesto el flag `-r` en el comando `cp`. Pero lo que ha pasado es lo que queríamos"
   ]
  },
  {
   "cell_type": "markdown",
   "metadata": {},
   "source": [
    "### Comrpimir con `tar`"
   ]
  },
  {
   "cell_type": "markdown",
   "metadata": {},
   "source": [
    "El primero comando que vamos a usar para comprimir es `tar` al que vamos a añadir el flag `-c` de compress, `-v` de verbose, para que nos vaya sacando qué está haciendo y el flag `-f` de file, y a continuación el nombre que queremos que tenga el archivo comprimido y el nombre del archivo que queremos comprimir"
   ]
  },
  {
   "cell_type": "code",
   "execution_count": 177,
   "metadata": {},
   "outputs": [
    {
     "name": "stdout",
     "output_type": "stream",
     "text": [
      "tocompress/\n",
      "tocompress/lista.txt\n",
      "tocompress/dot.txt\n",
      "tocompress/google.html\n",
      "tocompress/index.html\n",
      "tocompress/Abc\n",
      "tocompress/google2.html\n",
      "tocompress/dot2.txt\n",
      "tocompress/secuential.txt\n",
      "tocompress/index.html.1\n",
      "tocompress/file.txt\n",
      "tocompress/datos1\n",
      "tocompress/2021-02-11-Introduccion-a-Python.ipynb\n",
      "tocompress/datos123\n"
     ]
    }
   ],
   "source": [
    "!tar -cvf tocompress.tar tocompress"
   ]
  },
  {
   "cell_type": "code",
   "execution_count": 178,
   "metadata": {},
   "outputs": [
    {
     "name": "stdout",
     "output_type": "stream",
     "text": [
      "total 676\n",
      "-rw-rw-r-- 1 wallabot wallabot 285898 dic  6 00:28 2021-02-11-Introduccion-a-Python.ipynb\n",
      "-rw-rw-r-- 1 wallabot wallabot      0 dic  6 00:56 Abc\n",
      "-rw-rw-r-- 1 wallabot wallabot      0 dic  6 00:56 datos1\n",
      "-rw-rw-r-- 1 wallabot wallabot      0 dic  6 00:56 datos123\n",
      "-rw-rw-r-- 1 wallabot wallabot      0 dic  6 00:56 dot2.txt\n",
      "-rw-rw-r-- 1 wallabot wallabot      0 dic  6 00:56 dot.txt\n",
      "-rw-rw-r-- 1 wallabot wallabot      0 dic  6 00:56 file.txt\n",
      "-rw-rw-r-- 1 wallabot wallabot  15131 dic  6 01:49 google2.html\n",
      "-rw-rw-r-- 1 wallabot wallabot  15168 dic  6 01:48 google.html\n",
      "-rw-rw-r-- 1 wallabot wallabot      0 dic  6 00:56 index.html\n",
      "-rw-rw-r-- 1 wallabot wallabot  15117 dic  6 01:49 index.html.1\n",
      "-rw-rw-r-- 1 wallabot wallabot    182 dic  6 01:06 lista.txt\n",
      "-rw-rw-r-- 1 wallabot wallabot      0 dic  6 01:08 secuential.txt\n",
      "drwxrwxr-x 2 wallabot wallabot   4096 dic  6 01:52 tocompress\n",
      "-rw-rw-r-- 1 wallabot wallabot 348160 dic  6 01:53 tocompress.tar\n"
     ]
    }
   ],
   "source": [
    "!ls -l"
   ]
  },
  {
   "cell_type": "markdown",
   "metadata": {},
   "source": [
    "Vemos que ha creado el archivo `tocompress.tar`"
   ]
  },
  {
   "cell_type": "markdown",
   "metadata": {},
   "source": [
    "Ahora vamos a repetir el proceso, pero añadiendo el flag `-z`, esto lo que hace es comprimir en el formato `gzip`, que es un algoritmo de compresión más eficiente"
   ]
  },
  {
   "cell_type": "code",
   "execution_count": 179,
   "metadata": {},
   "outputs": [
    {
     "name": "stdout",
     "output_type": "stream",
     "text": [
      "tocompress/\n",
      "tocompress/lista.txt\n",
      "tocompress/dot.txt\n",
      "tocompress/google.html\n",
      "tocompress/index.html\n",
      "tocompress/Abc\n",
      "tocompress/google2.html\n",
      "tocompress/dot2.txt\n",
      "tocompress/secuential.txt\n",
      "tocompress/index.html.1\n",
      "tocompress/file.txt\n",
      "tocompress/datos1\n",
      "tocompress/2021-02-11-Introduccion-a-Python.ipynb\n",
      "tocompress/datos123\n"
     ]
    }
   ],
   "source": [
    "!tar -cvzf tocompress.tar.gz tocompress"
   ]
  },
  {
   "cell_type": "code",
   "execution_count": 180,
   "metadata": {},
   "outputs": [
    {
     "name": "stdout",
     "output_type": "stream",
     "text": [
      "total 728K\n",
      "-rw-rw-r-- 1 wallabot wallabot 280K dic  6 00:28 2021-02-11-Introduccion-a-Python.ipynb\n",
      "-rw-rw-r-- 1 wallabot wallabot    0 dic  6 00:56 Abc\n",
      "-rw-rw-r-- 1 wallabot wallabot    0 dic  6 00:56 datos1\n",
      "-rw-rw-r-- 1 wallabot wallabot    0 dic  6 00:56 datos123\n",
      "-rw-rw-r-- 1 wallabot wallabot    0 dic  6 00:56 dot2.txt\n",
      "-rw-rw-r-- 1 wallabot wallabot    0 dic  6 00:56 dot.txt\n",
      "-rw-rw-r-- 1 wallabot wallabot    0 dic  6 00:56 file.txt\n",
      "-rw-rw-r-- 1 wallabot wallabot  15K dic  6 01:49 google2.html\n",
      "-rw-rw-r-- 1 wallabot wallabot  15K dic  6 01:48 google.html\n",
      "-rw-rw-r-- 1 wallabot wallabot    0 dic  6 00:56 index.html\n",
      "-rw-rw-r-- 1 wallabot wallabot  15K dic  6 01:49 index.html.1\n",
      "-rw-rw-r-- 1 wallabot wallabot  182 dic  6 01:06 lista.txt\n",
      "-rw-rw-r-- 1 wallabot wallabot    0 dic  6 01:08 secuential.txt\n",
      "drwxrwxr-x 2 wallabot wallabot 4,0K dic  6 01:52 tocompress\n",
      "-rw-rw-r-- 1 wallabot wallabot 340K dic  6 01:53 tocompress.tar\n",
      "-rw-rw-r-- 1 wallabot wallabot  52K dic  6 01:53 tocompress.tar.gz\n"
     ]
    }
   ],
   "source": [
    "!ls -lh"
   ]
  },
  {
   "cell_type": "markdown",
   "metadata": {},
   "source": [
    "Como se puede ver el archivo `tocompress.tar` ocupa `340 kB`, mientras que el archivo `tocompress.tar.gz` ocupa solo `52 kB`"
   ]
  },
  {
   "cell_type": "markdown",
   "metadata": {},
   "source": [
    "Ahora vamos a descomprimir los archivos, para descomprimir, se usa el mismo comando, solo que cambiando el flag `-c` por el flag `-x`"
   ]
  },
  {
   "cell_type": "markdown",
   "metadata": {},
   "source": [
    "Primero borramos la carpeta original"
   ]
  },
  {
   "cell_type": "code",
   "execution_count": 181,
   "metadata": {},
   "outputs": [],
   "source": [
    "!rm -r tocompress"
   ]
  },
  {
   "cell_type": "markdown",
   "metadata": {},
   "source": [
    "Descomprimimos"
   ]
  },
  {
   "cell_type": "code",
   "execution_count": 182,
   "metadata": {},
   "outputs": [
    {
     "name": "stdout",
     "output_type": "stream",
     "text": [
      "tocompress/\n",
      "tocompress/lista.txt\n",
      "tocompress/dot.txt\n",
      "tocompress/google.html\n",
      "tocompress/index.html\n",
      "tocompress/Abc\n",
      "tocompress/google2.html\n",
      "tocompress/dot2.txt\n",
      "tocompress/secuential.txt\n",
      "tocompress/index.html.1\n",
      "tocompress/file.txt\n",
      "tocompress/datos1\n",
      "tocompress/2021-02-11-Introduccion-a-Python.ipynb\n",
      "tocompress/datos123\n"
     ]
    }
   ],
   "source": [
    "!tar -xvf tocompress.tar"
   ]
  },
  {
   "cell_type": "code",
   "execution_count": 183,
   "metadata": {},
   "outputs": [
    {
     "name": "stdout",
     "output_type": "stream",
     "text": [
      "total 728K\n",
      "-rw-rw-r-- 1 wallabot wallabot 280K dic  6 00:28 2021-02-11-Introduccion-a-Python.ipynb\n",
      "-rw-rw-r-- 1 wallabot wallabot    0 dic  6 00:56 Abc\n",
      "-rw-rw-r-- 1 wallabot wallabot    0 dic  6 00:56 datos1\n",
      "-rw-rw-r-- 1 wallabot wallabot    0 dic  6 00:56 datos123\n",
      "-rw-rw-r-- 1 wallabot wallabot    0 dic  6 00:56 dot2.txt\n",
      "-rw-rw-r-- 1 wallabot wallabot    0 dic  6 00:56 dot.txt\n",
      "-rw-rw-r-- 1 wallabot wallabot    0 dic  6 00:56 file.txt\n",
      "-rw-rw-r-- 1 wallabot wallabot  15K dic  6 01:49 google2.html\n",
      "-rw-rw-r-- 1 wallabot wallabot  15K dic  6 01:48 google.html\n",
      "-rw-rw-r-- 1 wallabot wallabot    0 dic  6 00:56 index.html\n",
      "-rw-rw-r-- 1 wallabot wallabot  15K dic  6 01:49 index.html.1\n",
      "-rw-rw-r-- 1 wallabot wallabot  182 dic  6 01:06 lista.txt\n",
      "-rw-rw-r-- 1 wallabot wallabot    0 dic  6 01:08 secuential.txt\n",
      "drwxrwxr-x 2 wallabot wallabot 4,0K dic  6 01:52 tocompress\n",
      "-rw-rw-r-- 1 wallabot wallabot 340K dic  6 01:53 tocompress.tar\n",
      "-rw-rw-r-- 1 wallabot wallabot  52K dic  6 01:53 tocompress.tar.gz\n"
     ]
    }
   ],
   "source": [
    "!ls -lh"
   ]
  },
  {
   "cell_type": "markdown",
   "metadata": {},
   "source": [
    "Hacemos lo mismo con el `gzip`"
   ]
  },
  {
   "cell_type": "code",
   "execution_count": 184,
   "metadata": {},
   "outputs": [],
   "source": [
    "!rm -r tocompress"
   ]
  },
  {
   "cell_type": "code",
   "execution_count": 185,
   "metadata": {},
   "outputs": [
    {
     "name": "stdout",
     "output_type": "stream",
     "text": [
      "tocompress/\n",
      "tocompress/lista.txt\n",
      "tocompress/dot.txt\n",
      "tocompress/google.html\n",
      "tocompress/index.html\n",
      "tocompress/Abc\n",
      "tocompress/google2.html\n",
      "tocompress/dot2.txt\n",
      "tocompress/secuential.txt\n",
      "tocompress/index.html.1\n",
      "tocompress/file.txt\n",
      "tocompress/datos1\n",
      "tocompress/2021-02-11-Introduccion-a-Python.ipynb\n",
      "tocompress/datos123\n"
     ]
    }
   ],
   "source": [
    "!tar -xvzf tocompress.tar.gz"
   ]
  },
  {
   "cell_type": "code",
   "execution_count": 186,
   "metadata": {},
   "outputs": [
    {
     "name": "stdout",
     "output_type": "stream",
     "text": [
      "total 728K\n",
      "-rw-rw-r-- 1 wallabot wallabot 280K dic  6 00:28 2021-02-11-Introduccion-a-Python.ipynb\n",
      "-rw-rw-r-- 1 wallabot wallabot    0 dic  6 00:56 Abc\n",
      "-rw-rw-r-- 1 wallabot wallabot    0 dic  6 00:56 datos1\n",
      "-rw-rw-r-- 1 wallabot wallabot    0 dic  6 00:56 datos123\n",
      "-rw-rw-r-- 1 wallabot wallabot    0 dic  6 00:56 dot2.txt\n",
      "-rw-rw-r-- 1 wallabot wallabot    0 dic  6 00:56 dot.txt\n",
      "-rw-rw-r-- 1 wallabot wallabot    0 dic  6 00:56 file.txt\n",
      "-rw-rw-r-- 1 wallabot wallabot  15K dic  6 01:49 google2.html\n",
      "-rw-rw-r-- 1 wallabot wallabot  15K dic  6 01:48 google.html\n",
      "-rw-rw-r-- 1 wallabot wallabot    0 dic  6 00:56 index.html\n",
      "-rw-rw-r-- 1 wallabot wallabot  15K dic  6 01:49 index.html.1\n",
      "-rw-rw-r-- 1 wallabot wallabot  182 dic  6 01:06 lista.txt\n",
      "-rw-rw-r-- 1 wallabot wallabot    0 dic  6 01:08 secuential.txt\n",
      "drwxrwxr-x 2 wallabot wallabot 4,0K dic  6 01:52 tocompress\n",
      "-rw-rw-r-- 1 wallabot wallabot 340K dic  6 01:53 tocompress.tar\n",
      "-rw-rw-r-- 1 wallabot wallabot  52K dic  6 01:53 tocompress.tar.gz\n"
     ]
    }
   ],
   "source": [
    "!ls -lh"
   ]
  },
  {
   "cell_type": "markdown",
   "metadata": {},
   "source": [
    "### Comprimir con `zip`"
   ]
  },
  {
   "cell_type": "markdown",
   "metadata": {},
   "source": [
    "Otro comando para comprimir el `zip`, para comprimir solo hay que añadirle el flag `-r` (recursive), el nombre que queremos que tenga el archivo comprimido y el archivo que queremos comprimir"
   ]
  },
  {
   "cell_type": "code",
   "execution_count": 187,
   "metadata": {},
   "outputs": [
    {
     "name": "stdout",
     "output_type": "stream",
     "text": [
      "  adding: tocompress/ (stored 0%)\n",
      "  adding: tocompress/lista.txt (deflated 23%)\n",
      "  adding: tocompress/dot.txt (stored 0%)\n",
      "  adding: tocompress/google.html (deflated 56%)\n",
      "  adding: tocompress/index.html (stored 0%)\n",
      "  adding: tocompress/Abc (stored 0%)\n",
      "  adding: tocompress/google2.html (deflated 56%)\n",
      "  adding: tocompress/dot2.txt (stored 0%)\n",
      "  adding: tocompress/secuential.txt (stored 0%)\n",
      "  adding: tocompress/index.html.1 (deflated 56%)\n",
      "  adding: tocompress/file.txt (stored 0%)\n",
      "  adding: tocompress/datos1 (stored 0%)\n",
      "  adding: tocompress/2021-02-11-Introduccion-a-Python.ipynb (deflated 85%)\n",
      "  adding: tocompress/datos123 (stored 0%)\n"
     ]
    }
   ],
   "source": [
    "!zip -r tocompress.zip tocompress"
   ]
  },
  {
   "cell_type": "code",
   "execution_count": 188,
   "metadata": {},
   "outputs": [
    {
     "name": "stdout",
     "output_type": "stream",
     "text": [
      "total 792K\n",
      "-rw-rw-r-- 1 wallabot wallabot 280K dic  6 00:28 2021-02-11-Introduccion-a-Python.ipynb\n",
      "-rw-rw-r-- 1 wallabot wallabot    0 dic  6 00:56 Abc\n",
      "-rw-rw-r-- 1 wallabot wallabot    0 dic  6 00:56 datos1\n",
      "-rw-rw-r-- 1 wallabot wallabot    0 dic  6 00:56 datos123\n",
      "-rw-rw-r-- 1 wallabot wallabot    0 dic  6 00:56 dot2.txt\n",
      "-rw-rw-r-- 1 wallabot wallabot    0 dic  6 00:56 dot.txt\n",
      "-rw-rw-r-- 1 wallabot wallabot    0 dic  6 00:56 file.txt\n",
      "-rw-rw-r-- 1 wallabot wallabot  15K dic  6 01:49 google2.html\n",
      "-rw-rw-r-- 1 wallabot wallabot  15K dic  6 01:48 google.html\n",
      "-rw-rw-r-- 1 wallabot wallabot    0 dic  6 00:56 index.html\n",
      "-rw-rw-r-- 1 wallabot wallabot  15K dic  6 01:49 index.html.1\n",
      "-rw-rw-r-- 1 wallabot wallabot  182 dic  6 01:06 lista.txt\n",
      "-rw-rw-r-- 1 wallabot wallabot    0 dic  6 01:08 secuential.txt\n",
      "drwxrwxr-x 2 wallabot wallabot 4,0K dic  6 01:52 tocompress\n",
      "-rw-rw-r-- 1 wallabot wallabot 340K dic  6 01:53 tocompress.tar\n",
      "-rw-rw-r-- 1 wallabot wallabot  52K dic  6 01:53 tocompress.tar.gz\n",
      "-rw-rw-r-- 1 wallabot wallabot  64K dic  6 01:53 tocompress.zip\n"
     ]
    }
   ],
   "source": [
    "!ls -lh"
   ]
  },
  {
   "cell_type": "markdown",
   "metadata": {},
   "source": [
    "Para descomprimir se usa el comando `unzip` seguido del nombre del archivo que quiero descomprimir. Primero borramos la carpeta `tocompress`"
   ]
  },
  {
   "cell_type": "code",
   "execution_count": 189,
   "metadata": {},
   "outputs": [],
   "source": [
    "!rm -r tocompress"
   ]
  },
  {
   "cell_type": "code",
   "execution_count": 190,
   "metadata": {},
   "outputs": [
    {
     "name": "stdout",
     "output_type": "stream",
     "text": [
      "Archive:  tocompress.zip\n",
      "   creating: tocompress/\n",
      "  inflating: tocompress/lista.txt    \n",
      " extracting: tocompress/dot.txt      \n",
      "  inflating: tocompress/google.html  \n",
      " extracting: tocompress/index.html   \n",
      " extracting: tocompress/Abc          \n",
      "  inflating: tocompress/google2.html  \n",
      " extracting: tocompress/dot2.txt     \n",
      " extracting: tocompress/secuential.txt  \n",
      "  inflating: tocompress/index.html.1  \n",
      " extracting: tocompress/file.txt     \n",
      " extracting: tocompress/datos1       \n",
      "  inflating: tocompress/2021-02-11-Introduccion-a-Python.ipynb  \n",
      " extracting: tocompress/datos123     \n"
     ]
    }
   ],
   "source": [
    "!unzip tocompress.zip"
   ]
  },
  {
   "cell_type": "code",
   "execution_count": 191,
   "metadata": {},
   "outputs": [
    {
     "name": "stdout",
     "output_type": "stream",
     "text": [
      "total 792K\n",
      "-rw-rw-r-- 1 wallabot wallabot 280K dic  6 00:28 2021-02-11-Introduccion-a-Python.ipynb\n",
      "-rw-rw-r-- 1 wallabot wallabot    0 dic  6 00:56 Abc\n",
      "-rw-rw-r-- 1 wallabot wallabot    0 dic  6 00:56 datos1\n",
      "-rw-rw-r-- 1 wallabot wallabot    0 dic  6 00:56 datos123\n",
      "-rw-rw-r-- 1 wallabot wallabot    0 dic  6 00:56 dot2.txt\n",
      "-rw-rw-r-- 1 wallabot wallabot    0 dic  6 00:56 dot.txt\n",
      "-rw-rw-r-- 1 wallabot wallabot    0 dic  6 00:56 file.txt\n",
      "-rw-rw-r-- 1 wallabot wallabot  15K dic  6 01:49 google2.html\n",
      "-rw-rw-r-- 1 wallabot wallabot  15K dic  6 01:48 google.html\n",
      "-rw-rw-r-- 1 wallabot wallabot    0 dic  6 00:56 index.html\n",
      "-rw-rw-r-- 1 wallabot wallabot  15K dic  6 01:49 index.html.1\n",
      "-rw-rw-r-- 1 wallabot wallabot  182 dic  6 01:06 lista.txt\n",
      "-rw-rw-r-- 1 wallabot wallabot    0 dic  6 01:08 secuential.txt\n",
      "drwxrwxr-x 2 wallabot wallabot 4,0K dic  6 01:52 tocompress\n",
      "-rw-rw-r-- 1 wallabot wallabot 340K dic  6 01:53 tocompress.tar\n",
      "-rw-rw-r-- 1 wallabot wallabot  52K dic  6 01:53 tocompress.tar.gz\n",
      "-rw-rw-r-- 1 wallabot wallabot  64K dic  6 01:53 tocompress.zip\n"
     ]
    }
   ],
   "source": [
    "!ls -lh"
   ]
  },
  {
   "cell_type": "markdown",
   "metadata": {},
   "source": [
    "## Procesos en background y foreground"
   ]
  },
  {
   "cell_type": "markdown",
   "metadata": {},
   "source": [
    "### Pausar un proceso y llevarlo al background con `CTRL+z`"
   ]
  },
  {
   "cell_type": "markdown",
   "metadata": {},
   "source": [
    "Cuando corremos un proceso en la terminal, este puede que no pare de ejecutarse y queramos seguir usando la terminal, para solucionar esto podemos llevarnos el proceso al background presionando `CTRL+z`"
   ]
  },
  {
   "cell_type": "markdown",
   "metadata": {},
   "source": [
    "Por ejemplo, me puedo hacer un ping a mi mismo, sin especificar el número de intentos, por lo que esto se estará ejecutando hasta que pare el proceso presionando `CTRL+C`"
   ]
  },
  {
   "cell_type": "code",
   "execution_count": 191,
   "metadata": {},
   "outputs": [
    {
     "name": "stdout",
     "output_type": "stream",
     "text": [
      "PING localhost (127.0.0.1) 56(84) bytes of data.\n",
      "64 bytes from localhost (127.0.0.1): icmp_seq=1 ttl=64 time=0.025 ms\n",
      "64 bytes from localhost (127.0.0.1): icmp_seq=2 ttl=64 time=0.027 ms\n",
      "64 bytes from localhost (127.0.0.1): icmp_seq=3 ttl=64 time=0.024 ms\n",
      "64 bytes from localhost (127.0.0.1): icmp_seq=4 ttl=64 time=0.024 ms\n",
      "64 bytes from localhost (127.0.0.1): icmp_seq=5 ttl=64 time=0.027 ms\n",
      "64 bytes from localhost (127.0.0.1): icmp_seq=6 ttl=64 time=0.036 ms\n",
      "^C\n",
      "--- localhost ping statistics ---\n",
      "6 packets transmitted, 6 received, 0% packet loss, time 5127ms\n",
      "rtt min/avg/max/mdev = 0.024/0.027/0.036/0.004 ms\n"
     ]
    }
   ],
   "source": [
    "!ping localhost"
   ]
  },
  {
   "cell_type": "markdown",
   "metadata": {},
   "source": [
    "Sin embargo, si lo que queremos es parar un momento el proceso para poder seguir usando la terminal, hay que introducir `CTRL+Z`"
   ]
  },
  {
   "cell_type": "code",
   "execution_count": 191,
   "metadata": {},
   "outputs": [
    {
     "name": "stdout",
     "output_type": "stream",
     "text": [
      "PING localhost (127.0.0.1) 56(84) bytes of data.\n",
      "64 bytes from localhost (127.0.0.1): icmp_seq=1 ttl=64 time=0.028 ms\n",
      "64 bytes from localhost (127.0.0.1): icmp_seq=2 ttl=64 time=0.020 ms\n",
      "64 bytes from localhost (127.0.0.1): icmp_seq=3 ttl=64 time=0.017 ms\n",
      "64 bytes from localhost (127.0.0.1): icmp_seq=4 ttl=64 time=0.025 ms\n",
      "64 bytes from localhost (127.0.0.1): icmp_seq=5 ttl=64 time=0.021 ms\n",
      "64 bytes from localhost (127.0.0.1): icmp_seq=6 ttl=64 time=0.055 ms\n",
      "^Z\n",
      "[1]+  Detenido                ping localhost\n"
     ]
    }
   ],
   "source": [
    "!ping localhost"
   ]
  },
  {
   "cell_type": "markdown",
   "metadata": {},
   "source": [
    "Como se indica, el proceso ha sido detenido, no se está ejecutando mientras lo he llevado al background"
   ]
  },
  {
   "cell_type": "markdown",
   "metadata": {},
   "source": [
    "### Ver los procesos en background con `jobs`"
   ]
  },
  {
   "cell_type": "markdown",
   "metadata": {},
   "source": [
    "Para ver qué procesos están en el background tenemos dos comandos, por un lado podemos usar `jobs`"
   ]
  },
  {
   "cell_type": "code",
   "execution_count": 191,
   "metadata": {},
   "outputs": [
    {
     "name": "stdout",
     "output_type": "stream",
     "text": [
      "jobs\n",
      "[1]+  Detenido                ping localhost\n"
     ]
    }
   ],
   "source": [
    "!jobs"
   ]
  },
  {
   "cell_type": "markdown",
   "metadata": {},
   "source": [
    "Este comando nos da el proceso y el número de job, este número será el que deberemos usar para llevar el proceso al foreground"
   ]
  },
  {
   "cell_type": "markdown",
   "metadata": {},
   "source": [
    "### Ver los procesos en background con `ps`"
   ]
  },
  {
   "cell_type": "markdown",
   "metadata": {},
   "source": [
    "Otro comando que podemos usar es `ps` (processes)"
   ]
  },
  {
   "cell_type": "code",
   "execution_count": 191,
   "metadata": {},
   "outputs": [
    {
     "name": "stdout",
     "output_type": "stream",
     "text": [
      "    PID TTY          TIME CMD\n",
      "  16232 pts/3    00:00:00 bash\n",
      "  17070 pts/3    00:00:00 ping\n",
      "  18376 pts/3    00:00:00 ps\n"
     ]
    }
   ],
   "source": [
    "!ps"
   ]
  },
  {
   "cell_type": "markdown",
   "metadata": {},
   "source": [
    "Este comando no solo nos da la información de los procesos que corren en background, sino de todos los procesos que están corriendo en la terminal"
   ]
  },
  {
   "cell_type": "markdown",
   "metadata": {},
   "source": [
    "Es importante recalcar, que si abrimos una nueva terminal y usamos cualquiera de estos comandos no nos va a dar la información del ping, ya que lo ejecutamos en otra terminal"
   ]
  },
  {
   "cell_type": "code",
   "execution_count": 191,
   "metadata": {},
   "outputs": [
    {
     "name": "stdout",
     "output_type": "stream",
     "text": [
      "    PID TTY          TIME CMD\n",
      "  18993 pts/2    00:00:00 bash\n",
      "  19290 pts/2    00:00:00 ps\n"
     ]
    }
   ],
   "source": [
    "!ps"
   ]
  },
  {
   "cell_type": "markdown",
   "metadata": {},
   "source": [
    "Como vemos `jobs` no devuelve nada porque en esta terminal no hay ningún proceso en el background y `ps` solo nos devuelve la información de bash (la propia terminal) y el comando ps lanzado"
   ]
  },
  {
   "cell_type": "markdown",
   "metadata": {},
   "source": [
    "### Llevar un proceso del background al foreground"
   ]
  },
  {
   "cell_type": "markdown",
   "metadata": {},
   "source": [
    "Para llevar un proceso al foreground hay que usar el comando `fg`, si se quiere traer el último que se ha llevado al background solo con poner `fg` vale, si no hay que indicarle el número de job"
   ]
  },
  {
   "cell_type": "markdown",
   "metadata": {},
   "source": [
    "Vamos a volver a ver los procesos que teníamos en el background"
   ]
  },
  {
   "cell_type": "code",
   "execution_count": 191,
   "metadata": {},
   "outputs": [
    {
     "name": "stdout",
     "output_type": "stream",
     "text": [
      "[1]+  Detenido                ping localhost\n"
     ]
    }
   ],
   "source": [
    "!jobs"
   ]
  },
  {
   "cell_type": "markdown",
   "metadata": {},
   "source": [
    "Nos podemos llevar este proceso al foreground solo escribiendo `fg` o indicándole el número de job mediante `fg %1`"
   ]
  },
  {
   "cell_type": "code",
   "execution_count": 191,
   "metadata": {},
   "outputs": [
    {
     "name": "stdout",
     "output_type": "stream",
     "text": [
      "ping localhost\n",
      "64 bytes from localhost (127.0.0.1): icmp_seq=7 ttl=64 time=0.032 ms\n",
      "64 bytes from localhost (127.0.0.1): icmp_seq=8 ttl=64 time=0.036 ms\n",
      "64 bytes from localhost (127.0.0.1): icmp_seq=9 ttl=64 time=0.045 ms\n",
      "64 bytes from localhost (127.0.0.1): icmp_seq=10 ttl=64 time=0.035 ms\n",
      "64 bytes from localhost (127.0.0.1): icmp_seq=11 ttl=64 time=0.031 ms\n"
     ]
    }
   ],
   "source": [
    "!fg %1"
   ]
  },
  {
   "cell_type": "markdown",
   "metadata": {},
   "source": [
    "### Correr un proceso directamente en el background"
   ]
  },
  {
   "cell_type": "markdown",
   "metadata": {},
   "source": [
    "Vamos a volver a lanzar ahora el navegador firefox escribiendo `firefox` en la terminal y pulsar `CTRL+Z` para llevarlo al background"
   ]
  },
  {
   "cell_type": "code",
   "execution_count": 191,
   "metadata": {},
   "outputs": [
    {
     "name": "stdout",
     "output_type": "stream",
     "text": [
      "[GFX1-]: glxtest: VA-API test failed: failed to initialise VAAPI connection.\n",
      "[2022-11-29T06:16:17Z ERROR glean_core::metrics::ping] Invalid reason code startup for ping background-update\n",
      "^Z\n",
      "[1]+  Detenido                firefox\n"
     ]
    }
   ],
   "source": [
    "!firefox"
   ]
  },
  {
   "cell_type": "markdown",
   "metadata": {},
   "source": [
    "Como vemos, pone que el proceso ha sido detenido, por lo que si ahora queremos navegar por firefox no podemos, ya que está detenido."
   ]
  },
  {
   "cell_type": "markdown",
   "metadata": {},
   "source": [
    "Para poder lanzar firefox y que esté en background para que no nos bloquee la terminal hay que escribir un `&` al final del comando"
   ]
  },
  {
   "cell_type": "code",
   "execution_count": 191,
   "metadata": {},
   "outputs": [
    {
     "name": "stdout",
     "output_type": "stream",
     "text": [
      "[1] 23663\n",
      "$ [GFX1-]: glxtest: VA-API test failed: failed to initialise VAAPI connection.\n",
      "[2022-11-29T06:19:40Z ERROR glean_core::metrics::ping] Invalid reason code startup for ping background-update\n",
      "\n",
      "$\n"
     ]
    }
   ],
   "source": [
    "!firefox &"
   ]
  },
  {
   "cell_type": "markdown",
   "metadata": {},
   "source": [
    "Ahora nos lanzamos firefox, nos dice su número de job y se queda en el background ejecutándose"
   ]
  },
  {
   "cell_type": "markdown",
   "metadata": {},
   "source": [
    "De hecho, si ahora miramos los procesos, podemos ver el estado de firefox es *Ejecutando*"
   ]
  },
  {
   "cell_type": "code",
   "execution_count": 191,
   "metadata": {},
   "outputs": [
    {
     "name": "stdout",
     "output_type": "stream",
     "text": [
      "[1]+  Ejecutando              firefox &\n"
     ]
    }
   ],
   "source": [
    "!jobs"
   ]
  },
  {
   "cell_type": "markdown",
   "metadata": {},
   "source": [
    "### Terminar un proceso que está en background"
   ]
  },
  {
   "cell_type": "markdown",
   "metadata": {},
   "source": [
    "Como tenemos firefox corriendo en background, si queremos que termine tenemos que usar `kill` y el número de job del proceso. Vamos a usar `jobs` para ver el número de job de firefox"
   ]
  },
  {
   "cell_type": "code",
   "execution_count": 191,
   "metadata": {},
   "outputs": [
    {
     "name": "stdout",
     "output_type": "stream",
     "text": [
      "[1]+  Ejecutando              firefox &\n"
     ]
    }
   ],
   "source": [
    "!jobs"
   ]
  },
  {
   "cell_type": "markdown",
   "metadata": {},
   "source": [
    "Su número de trabajo es el 1, por lo que ponemos ese número para terminar el proceso"
   ]
  },
  {
   "cell_type": "code",
   "execution_count": 191,
   "metadata": {},
   "outputs": [
    {
     "name": "stdout",
     "output_type": "stream",
     "text": [
      "\n"
     ]
    }
   ],
   "source": [
    "!kill %1"
   ]
  },
  {
   "cell_type": "markdown",
   "metadata": {},
   "source": [
    "No nos responde nada, pero si volvemos a usar `jobs` para ver los procesos en el background"
   ]
  },
  {
   "cell_type": "code",
   "execution_count": 191,
   "metadata": {},
   "outputs": [
    {
     "name": "stdout",
     "output_type": "stream",
     "text": [
      "[1]+  Terminado               firefox\n"
     ]
    }
   ],
   "source": [
    "!jobs"
   ]
  },
  {
   "cell_type": "markdown",
   "metadata": {},
   "source": [
    "Vemos que nos dice que firefox ha terminado, si volvemos a ejecutar `jobs` ya no aparecerá nada"
   ]
  },
  {
   "cell_type": "code",
   "execution_count": 191,
   "metadata": {},
   "outputs": [
    {
     "name": "stdout",
     "output_type": "stream",
     "text": [
      "\n"
     ]
    }
   ],
   "source": [
    "!jobs"
   ]
  },
  {
   "cell_type": "markdown",
   "metadata": {},
   "source": [
    "## Procesos en background independientes de la terminal"
   ]
  },
  {
   "cell_type": "markdown",
   "metadata": {},
   "source": [
    "Hasta ahora hemos visto cómo ejecutar procesos en background dependientes de la terminal, esto quiere decir, que is mandamos al background un procesos y cerramos la terminal, este mandará un mensaje de fin a todos los procesos que están en su background y terminarán"
   ]
  },
  {
   "cell_type": "markdown",
   "metadata": {},
   "source": [
    "Pero hay veces que nos interesa que el proceso se quede en background, poder cerrar la terminal, abrir otra y recuperar ese proceso, para ello usaremos `tmux`, que es un multiplexor de terminal.\n",
    "\n",
    "Es posible que te venga instalada, por lo que para instalarla tienes que introducir lo siguiente\n",
    "\n",
    "``` bash\n",
    "sudo apt install tmux\n",
    "```"
   ]
  },
  {
   "cell_type": "markdown",
   "metadata": {},
   "source": [
    "Una vez instalada podemos crear una nueva sesión de `tmux` mediante el `tmux new -s <name>`\n",
    "\n",
    "``` bash\n",
    "tmux new -s session1\n",
    "```\n",
    "\n",
    "Esto nos abrirá una nueva terminal, que en realidad es una sesión de `tmux`"
   ]
  },
  {
   "cell_type": "markdown",
   "metadata": {},
   "source": [
    "Dentro de ella podemos lanzar un proceso, por ejemplo un `ping` a nosotros mismos\n",
    "\n",
    "``` bash\n",
    "$ ping localhost\n",
    "PING localhost (127.0.0.1) 56(84) bytes of data.\n",
    "64 bytes from localhost (127.0.0.1): icmp_seq=1 ttl=64 time=0.036 ms\n",
    "64 bytes from localhost (127.0.0.1): icmp_seq=2 ttl=64 time=0.019 ms\n",
    "64 bytes from localhost (127.0.0.1): icmp_seq=3 ttl=64 time=0.031 ms\n",
    "```"
   ]
  },
  {
   "cell_type": "markdown",
   "metadata": {},
   "source": [
    "Podemos cerrar esa terminal"
   ]
  },
  {
   "cell_type": "markdown",
   "metadata": {},
   "source": [
    "Si abrimos una nueva, podemos ver todas las sesiones de `tmux` abiertas con el comando `tmux ls`"
   ]
  },
  {
   "cell_type": "code",
   "execution_count": 6,
   "metadata": {},
   "outputs": [
    {
     "name": "stdout",
     "output_type": "stream",
     "text": [
      "session1: 1 windows (created Tue Nov 29 08:15:22 2022)\n"
     ]
    }
   ],
   "source": [
    "!tmux ls"
   ]
  },
  {
   "cell_type": "markdown",
   "metadata": {},
   "source": [
    "Y podemos entrar en una sesión mediante el comando `tmux`, seguido de `a` (attach), `-t` (tag) y el nombre de la sesión\n",
    "\n",
    "```\n",
    "$ tmux a -t session1\n",
    "64 bytes from localhost (127.0.0.1): icmp_seq=146 ttl=64 time=0.025 ms\n",
    "64 bytes from localhost (127.0.0.1): icmp_seq=147 ttl=64 time=0.022 ms\n",
    "64 bytes from localhost (127.0.0.1): icmp_seq=148 ttl=64 time=0.026 ms\n",
    "64 bytes from localhost (127.0.0.1): icmp_seq=149 ttl=64 time=0.013 ms\n",
    "64 bytes from localhost (127.0.0.1): icmp_seq=150 ttl=64 time=0.027 ms\n",
    "64 bytes from localhost (127.0.0.1): icmp_seq=151 ttl=64 time=0.019 ms\n",
    "```\n",
    "\n",
    "Como vemos hemos recuperado el `ping` de antes"
   ]
  },
  {
   "cell_type": "markdown",
   "metadata": {},
   "source": [
    "Cuando estamos dentro de una sesión podemos salir de ella (matándola) escribiendo `CTRL+D` o escribiendo `exit`"
   ]
  },
  {
   "cell_type": "markdown",
   "metadata": {},
   "source": [
    "## Manejo de procesos"
   ]
  },
  {
   "cell_type": "markdown",
   "metadata": {},
   "source": [
    "Para manejar los procesos de nuestro sistema tenemos varias opciones"
   ]
  },
  {
   "cell_type": "markdown",
   "metadata": {},
   "source": [
    "### `ps`"
   ]
  },
  {
   "cell_type": "markdown",
   "metadata": {},
   "source": [
    "Como hemos visto antes `ps` nos da los procesos que están corriendo en nuestra terminal. Por ejemplo ejecutamos un proceso en el background y vemos los procesos con `ps`"
   ]
  },
  {
   "cell_type": "markdown",
   "metadata": {},
   "source": [
    "``` bash\n",
    "$ firefox &\n",
    "[1] 50555\n",
    "```\n",
    "\n",
    "Vemos ahora los procesos\n",
    "\n",
    "``` bash\n",
    "$ ps\n",
    "    PID TTY          TIME CMD\n",
    "  36660 pts/3    00:00:00 bash\n",
    "  50555 pts/3    00:00:02 firefox\n",
    "  50613 pts/3    00:00:00 Socket Process\n",
    "  50635 pts/3    00:00:00 Privileged Cont\n",
    "  50683 pts/3    00:00:00 WebExtensions\n",
    "  50741 pts/3    00:00:00 Web Content\n",
    "  50743 pts/3    00:00:00 Web Content\n",
    "  50748 pts/3    00:00:00 Web Content\n",
    "  50840 pts/3    00:00:00 ps\n",
    "```"
   ]
  },
  {
   "cell_type": "markdown",
   "metadata": {},
   "source": [
    "Una vez sepamos su PID podemos matar el proceso\n",
    "\n",
    "``` bash\n",
    "$ kill 50555\n",
    "```\n",
    "\n",
    "Vemos ahora los procesos\n",
    "\n",
    "``` bash\n",
    "$ ps\n",
    "    PID TTY          TIME CMD\n",
    "  36660 pts/3    00:00:00 bash\n",
    "  51132 pts/3    00:00:00 ps\n",
    "```"
   ]
  },
  {
   "cell_type": "markdown",
   "metadata": {},
   "source": [
    "Pero como hemos dicho, lo malo de ps es que solo muestra los procesos de su terminal"
   ]
  },
  {
   "cell_type": "markdown",
   "metadata": {},
   "source": [
    "Para que nos muestre todos los procesos del sistema tenemos que añadir `aux`"
   ]
  },
  {
   "cell_type": "code",
   "execution_count": 3,
   "metadata": {},
   "outputs": [
    {
     "name": "stdout",
     "output_type": "stream",
     "text": [
      "USER         PID %CPU %MEM    VSZ   RSS TTY      STAT START   TIME COMMAND\n",
      "root           1  0.2  0.0 169936 13172 ?        Ss   23:06   0:01 /sbin/init splash\n",
      "root           2  0.0  0.0      0     0 ?        S    23:06   0:00 [kthreadd]\n",
      "root           3  0.0  0.0      0     0 ?        I<   23:06   0:00 [rcu_gp]\n",
      "root           4  0.0  0.0      0     0 ?        I<   23:06   0:00 [rcu_par_gp]\n",
      "root           5  0.0  0.0      0     0 ?        I<   23:06   0:00 [netns]\n",
      "root           7  0.0  0.0      0     0 ?        I<   23:06   0:00 [kworker/0:0H-events_highpri]\n",
      "root           9  0.0  0.0      0     0 ?        I<   23:06   0:00 [kworker/0:1H-events_highpri]\n",
      "root          10  0.0  0.0      0     0 ?        I<   23:06   0:00 [mm_percpu_wq]\n",
      "root          11  0.0  0.0      0     0 ?        S    23:06   0:00 [rcu_tasks_rude_]\n",
      "\t ...\n",
      "wallabot   11094  0.0  0.2 1184730916 65900 ?    Sl   23:19   0:00 /opt/google/chrome/chrome --type=renderer --crashpad-handler-pid=5080 --enable-crash-reporter=, --change-stack-guard-on-fork=enable --lang=es --num-raster-threads=4 --enable-main-frame-before-activation --renderer-client-id=76 --time-ticks-at-unix-epoch=-1670018798736448 --launch-time-ticks=781545948 --shared-files=v8_context_snapshot_data:100 --field-trial-handle=0,i,18391862866948577032,30807856093711604,131072\n",
      "wallabot   11428  0.3  0.2 38136100 75812 ?      Sl   23:21   0:00 /usr/share/code/code --ms-enable-electron-run-as-node /usr/share/code/resources/app/extensions/markdown-language-features/server/dist/node/main --node-ipc --clientProcessId=8508\n",
      "root       11508  0.0  0.0      0     0 ?        I    23:21   0:00 [kworker/4:1-events]\n",
      "wallabot   11683  0.0  0.0  14192  3380 ?        R    23:22   0:00 ps aux\n",
      "\n"
     ]
    }
   ],
   "source": [
    "terminal(\"ps aux\", max_lines_output=10)"
   ]
  },
  {
   "cell_type": "markdown",
   "metadata": {},
   "source": [
    "Ahora, si lo que quiero es buscar solo los procesos que esté ejecutando mi usuario lo puedo hacer creando un `pipe` y buscando con `grep`"
   ]
  },
  {
   "cell_type": "code",
   "execution_count": 7,
   "metadata": {},
   "outputs": [
    {
     "name": "stdout",
     "output_type": "stream",
     "text": [
      "avahi        802  0.0  0.0   8536  3912 ?        Ss   23:06   0:00 avahi-daemon: running [wallabot.local]\n",
      "wallabot    1153  0.0  0.0  19856 10624 ?        Ss   23:06   0:00 /lib/systemd/systemd --user\n",
      "wallabot    1154  0.0  0.0 170004  3680 ?        S    23:06   0:00 (sd-pam)\n",
      "wallabot    1159  0.1  0.0 2569384 22808 ?       S<sl 23:06   0:01 /usr/bin/pulseaudio --daemonize=no --log-target=journal\n",
      "wallabot    1161  0.1  0.1 591424 37248 ?        SNsl 23:06   0:02 /usr/libexec/tracker-miner-fs\n",
      "wallabot    1164  0.0  0.0 390744  8664 ?        SLl  23:06   0:00 /usr/bin/gnome-keyring-daemon --daemonize --login\n",
      "wallabot    1168  0.0  0.0 166804  6616 tty2     Ssl+ 23:06   0:00 /usr/lib/gdm3/gdm-x-session --run-script env GNOME_SHELL_SESSION_MODE=ubuntu /usr/bin/gnome-session --systemd --session=ubuntu\n",
      "wallabot    1173  0.0  0.0   8904  6012 ?        Ss   23:06   0:00 /usr/bin/dbus-daemon --session --address=systemd: --nofork --nopidfile --systemd-activation --syslog-only\n",
      "wallabot    1181  0.0  0.0 242628  7884 ?        Ssl  23:06   0:00 /usr/libexec/gvfsd\n",
      "wallabot    1196  0.0  0.0 378348  5544 ?        Sl   23:06   0:00 /usr/libexec/gvfsd-fuse /run/user/1000/gvfs -f -o big_writes\n",
      "wallabot    1203  0.0  0.0 316896  9540 ?        Ssl  23:06   0:00 /usr/libexec/gvfs-udisks2-volume-monitor\n",
      "wallabot    1209  0.0  0.0 319540  8920 ?        Ssl  23:06   0:00 /usr/libexec/gvfs-afc-volume-monitor\n",
      "wallabot    1215  0.0  0.0 238612  5476 ?        Ssl  23:06   0:00 /usr/libexec/gvfs-mtp-volume-monitor\n",
      "wallabot    1220  0.0  0.0 239456  6988 ?        Ssl  23:06   0:00 /usr/libexec/gvfs-goa-volume-monitor\n",
      "wallabot    1224  0.0  0.2 707176 69244 ?        SLl  23:06   0:00 /usr/libexec/goa-daemon\n",
      "wallabot    1231  0.0  0.0 317692  9068 ?        Sl   23:06   0:00 /usr/libexec/goa-identity-service\n",
      "wallabot    1237  0.0  0.0 240888  6244 ?        Ssl  23:06   0:00 /usr/libexec/gvfs-gphoto2-volume-monitor\n",
      "wallabot    1308  0.0  0.0 190872 13688 tty2     Sl+  23:06   0:00 /usr/libexec/gnome-session-binary --systemd --systemd --session=ubuntu\n",
      "wallabot    1375  0.0  0.0   6040   452 ?        Ss   23:06   0:00 /usr/bin/ssh-agent /usr/bin/im-launch env GNOME_SHELL_SESSION_MODE=ubuntu /usr/bin/gnome-session --systemd --session=ubuntu\n",
      "wallabot    1394  0.0  0.0 305428  6572 ?        Ssl  23:06   0:00 /usr/libexec/at-spi-bus-launcher\n",
      "wallabot    1399  0.0  0.0   7380  4240 ?        S    23:06   0:00 /usr/bin/dbus-daemon --config-file=/usr/share/defaults/at-spi2/accessibility.conf --nofork --print-address 3\n",
      "wallabot    1405  0.0  0.0  92852  4228 ?        Ssl  23:06   0:00 /usr/libexec/gnome-session-ctl --monitor\n",
      "wallabot    1412  0.0  0.0 414004 16532 ?        Ssl  23:06   0:00 /usr/libexec/gnome-session-binary --systemd-service --session=ubuntu\n",
      "wallabot    1426  3.7  1.2 5576364 425284 ?      Rsl  23:06   0:41 /usr/bin/gnome-shell\n",
      "wallabot    1476  0.0  0.0 387612  8436 ?        Sl   23:06   0:00 ibus-daemon --panel disable --xim\n",
      "wallabot    1480  0.0  0.0 165628  7060 ?        Sl   23:06   0:00 /usr/libexec/ibus-memconf\n",
      "wallabot    1481  0.0  0.0 276012 29224 ?        Sl   23:06   0:00 /usr/libexec/ibus-extension-gtk3\n",
      "wallabot    1483  0.0  0.0 196832 24676 ?        Sl   23:06   0:00 /usr/libexec/ibus-x11 --kill-daemon\n",
      "wallabot    1486  0.0  0.0 239400  7244 ?        Sl   23:06   0:00 /usr/libexec/ibus-portal\n",
      "wallabot    1498  0.0  0.0 162916  6508 ?        Sl   23:06   0:00 /usr/libexec/at-spi2-registryd --use-gnome-session\n",
      "wallabot    1502  0.0  0.0 238512  5936 ?        Ssl  23:06   0:00 /usr/libexec/xdg-permission-store\n",
      "wallabot    1504  0.0  0.0 862476 24084 ?        Sl   23:06   0:00 /usr/libexec/gnome-shell-calendar-server\n",
      "wallabot    1513  0.0  0.0 618416 32636 ?        Ssl  23:06   0:00 /usr/libexec/evolution-source-registry\n",
      "wallabot    1521  0.0  0.0 156476  5716 ?        Sl   23:06   0:00 /usr/libexec/dconf-service\n",
      "wallabot    1524  0.0  0.0 165712  7076 ?        Ssl  23:06   0:00 /usr/libexec/gvfsd-metadata\n",
      "wallabot    1535  0.0  0.1 1680828 49932 ?       Ssl  23:06   0:00 /usr/libexec/evolution-calendar-factory\n",
      "wallabot    1551  0.0  0.0 676260 30636 ?        Ssl  23:06   0:00 /usr/libexec/evolution-addressbook-factory\n",
      "wallabot    1585  0.0  0.0 2933212 27180 ?       Sl   23:06   0:00 /usr/bin/gjs /usr/share/gnome-shell/org.gnome.Shell.Notifications\n",
      "wallabot    1597  0.0  0.0 316920  7980 ?        Sl   23:06   0:00 /usr/libexec/gvfsd-trash --spawner :1.4 /org/gtk/gvfs/exec_spaw/0\n",
      "wallabot    1612  0.0  0.0 312652  6796 ?        Ssl  23:06   0:00 /usr/libexec/gsd-a11y-settings\n",
      "wallabot    1613  0.0  0.0 587548 27164 ?        Ssl  23:06   0:00 /usr/libexec/gsd-color\n",
      "wallabot    1614  0.0  0.0 376604 16508 ?        Ssl  23:06   0:00 /usr/libexec/gsd-datetime\n",
      "wallabot    1616  0.0  0.0 314840  7876 ?        Ssl  23:06   0:00 /usr/libexec/gsd-housekeeping\n",
      "wallabot    1619  0.0  0.0 344796 25276 ?        Ssl  23:06   0:00 /usr/libexec/gsd-keyboard\n",
      "wallabot    1623  0.0  0.0 900140 28012 ?        Ssl  23:06   0:00 /usr/libexec/gsd-media-keys\n",
      "wallabot    1627  0.0  0.0 418936 25736 ?        Ssl  23:06   0:00 /usr/libexec/gsd-power\n",
      "wallabot    1629  0.0  0.0 251196 11384 ?        Ssl  23:06   0:00 /usr/libexec/gsd-print-notifications\n",
      "wallabot    1630  0.0  0.0 459940  6088 ?        Ssl  23:06   0:00 /usr/libexec/gsd-rfkill\n",
      "wallabot    1632  0.0  0.0 238348  6344 ?        Ssl  23:06   0:00 /usr/libexec/gsd-screensaver-proxy\n",
      "wallabot    1633  0.0  0.0 467776 11088 ?        Ssl  23:06   0:00 /usr/libexec/gsd-sharing\n",
      "wallabot    1634  0.0  0.0 318156 10452 ?        Ssl  23:06   0:00 /usr/libexec/gsd-smartcard\n",
      "wallabot    1636  0.0  0.0 322344  9400 ?        Ssl  23:06   0:00 /usr/libexec/gsd-sound\n",
      "wallabot    1637  0.0  0.0 461692  7252 ?        Ssl  23:06   0:00 /usr/libexec/gsd-usb-protection\n",
      "wallabot    1640  0.0  0.0 344332 24372 ?        Ssl  23:06   0:00 /usr/libexec/gsd-wacom\n",
      "wallabot    1643  0.0  0.0 390820  8260 ?        Ssl  23:06   0:00 /usr/libexec/gsd-wwan\n",
      "wallabot    1644  0.0  0.0 345572 25980 ?        Ssl  23:06   0:00 /usr/libexec/gsd-xsettings\n",
      "wallabot    1649  0.0  0.2 1227284 75100 ?       Sl   23:06   0:00 /usr/libexec/evolution-data-server/evolution-alarm-notify\n",
      "wallabot    1673  0.0  0.1 413288 60304 ?        Sl   23:06   0:00 /usr/bin/python3 /usr/bin/solaar\n",
      "wallabot    1692  0.0  0.0 231804  5972 ?        Sl   23:06   0:00 /usr/libexec/gsd-disk-utility-notify\n",
      "wallabot    1730  0.0  0.0 165620  7028 ?        Sl   23:06   0:00 /usr/libexec/ibus-engine-simple\n",
      "wallabot    1739  0.0  0.0 438456 19104 ?        Sl   23:06   0:00 /usr/libexec/gvfsd-http --spawner :1.4 /org/gtk/gvfs/exec_spaw/1\n",
      "wallabot    1748  0.4  0.6 1242548 217144 ?      Sl   23:06   0:04 /snap/snap-store/599/usr/bin/snap-store --gapplication-service\n",
      "wallabot    1760  0.0  0.0 345020 15016 ?        Sl   23:06   0:00 /usr/libexec/gsd-printer\n",
      "wallabot    1797  0.0  0.0 608052  6664 ?        Ssl  23:06   0:00 /usr/libexec/xdg-document-portal\n",
      "wallabot    2170  0.0  0.0 612960 11060 ?        Ssl  23:06   0:00 /usr/libexec/xdg-desktop-portal\n",
      "wallabot    2174  0.0  0.0 493648 26488 ?        Ssl  23:06   0:00 /usr/libexec/xdg-desktop-portal-gtk\n",
      "wallabot    4839  0.0  0.0 420020 28340 ?        Sl   23:07   0:00 update-notifier\n",
      "wallabot    5019  0.0  0.0 436628 21644 ?        Sl   23:08   0:00 /usr/libexec/gvfsd-google --spawner :1.4 /org/gtk/gvfs/exec_spaw/2\n",
      "wallabot    5072  3.2  1.1 34219664 391492 ?     SLl  23:08   0:32 /opt/google/chrome/chrome\n",
      "wallabot    5077  0.0  0.0  10844   580 ?        S    23:08   0:00 cat\n",
      "wallabot    5078  0.0  0.0  10844   516 ?        S    23:08   0:00 cat\n",
      "wallabot    5080  0.0  0.0 33576132 3140 ?       Sl   23:08   0:00 /opt/google/chrome/chrome_crashpad_handler --monitor-self --monitor-self-annotation=ptype=crashpad-handler --database=/home/wallabot/.config/google-chrome/Crash Reports --url=https://clients2.google.com/cr/report --annotation=channel= --annotation=lsb-release=Ubuntu 20.04.5 LTS --annotation=plat=Linux --annotation=prod=Chrome_Linux --annotation=ver=108.0.5359.71 --initial-client-fd=5 --shared-client-connection\n",
      "wallabot    5082  0.0  0.0 33567920 2952 ?       Sl   23:08   0:00 /opt/google/chrome/chrome_crashpad_handler --no-periodic-tasks --monitor-self-annotation=ptype=crashpad-handler --database=/home/wallabot/.config/google-chrome/Crash Reports --url=https://clients2.google.com/cr/report --annotation=channel= --annotation=lsb-release=Ubuntu 20.04.5 LTS --annotation=plat=Linux --annotation=prod=Chrome_Linux --annotation=ver=108.0.5359.71 --initial-client-fd=4 --shared-client-connection\n",
      "wallabot    5088  0.0  0.1 33854440 59168 ?      S    23:08   0:00 /opt/google/chrome/chrome --type=zygote --no-zygote-sandbox --crashpad-handler-pid=5080 --enable-crash-reporter=, --change-stack-guard-on-fork=enable\n",
      "wallabot    5089  0.0  0.1 33854436 59068 ?      S    23:08   0:00 /opt/google/chrome/chrome --type=zygote --crashpad-handler-pid=5080 --enable-crash-reporter=, --change-stack-guard-on-fork=enable\n",
      "wallabot    5090  0.0  0.0 33568428 5024 ?       S    23:08   0:00 /opt/google/chrome/nacl_helper\n",
      "wallabot    5093  0.0  0.0 33854460 16384 ?      S    23:08   0:00 /opt/google/chrome/chrome --type=zygote --crashpad-handler-pid=5080 --enable-crash-reporter=, --change-stack-guard-on-fork=enable\n",
      "wallabot    5123  6.0  0.8 34211392 285560 ?     Sl   23:08   1:00 /opt/google/chrome/chrome --type=gpu-process --crashpad-handler-pid=5080 --enable-crash-reporter=, --change-stack-guard-on-fork=enable --gpu-preferences=WAAAAAAAAAAgAAAIAAAAAAAAAAAAAAAAAABgAAAAAAA4AAAAAAAAAAAAAAAAAAAAAAAAAAAAAAAAAAAAAAAAACAAAAAAAAAAIAAAAAAAAAABAAAAAAAAAAgAAAAAAAAACAAAAAAAAAAIAAAAAAAAAA== --shared-files --field-trial-handle=0,i,18391862866948577032,30807856093711604,131072\n",
      "wallabot    5124  0.6  0.3 33918264 119584 ?     Sl   23:08   0:06 /opt/google/chrome/chrome --type=utility --utility-sub-type=network.mojom.NetworkService --lang=es --service-sandbox-type=none --crashpad-handler-pid=5080 --enable-crash-reporter=, --change-stack-guard-on-fork=enable --shared-files=v8_context_snapshot_data:100 --field-trial-handle=0,i,18391862866948577032,30807856093711604,131072\n",
      "wallabot    5136  0.0  0.1 33895840 52500 ?      Sl   23:08   0:00 /opt/google/chrome/chrome --type=utility --utility-sub-type=storage.mojom.StorageService --lang=es --service-sandbox-type=utility --crashpad-handler-pid=5080 --enable-crash-reporter=, --change-stack-guard-on-fork=enable --shared-files=v8_context_snapshot_data:100 --field-trial-handle=0,i,18391862866948577032,30807856093711604,131072\n",
      "wallabot    5155  0.1  0.4 1184797648 132208 ?   Sl   23:08   0:01 /opt/google/chrome/chrome --type=renderer --crashpad-handler-pid=5080 --enable-crash-reporter=, --extension-process --change-stack-guard-on-fork=enable --lang=es --num-raster-threads=4 --enable-main-frame-before-activation --renderer-client-id=5 --time-ticks-at-unix-epoch=-1670018798736448 --launch-time-ticks=121160165 --shared-files=v8_context_snapshot_data:100 --field-trial-handle=0,i,18391862866948577032,30807856093711604,131072\n",
      "wallabot    5171  4.5  0.6 1188020280 229028 ?   Sl   23:08   0:44 /opt/google/chrome/chrome --type=renderer --crashpad-handler-pid=5080 --enable-crash-reporter=, --change-stack-guard-on-fork=enable --lang=es --num-raster-threads=4 --enable-main-frame-before-activation --renderer-client-id=27 --time-ticks-at-unix-epoch=-1670018798736448 --launch-time-ticks=121254783 --shared-files=v8_context_snapshot_data:100 --field-trial-handle=0,i,18391862866948577032,30807856093711604,131072\n",
      "wallabot    5228  0.0  0.2 1184772236 89352 ?    Sl   23:08   0:00 /opt/google/chrome/chrome --type=renderer --crashpad-handler-pid=5080 --enable-crash-reporter=, --extension-process --change-stack-guard-on-fork=enable --lang=es --num-raster-threads=4 --enable-main-frame-before-activation --renderer-client-id=6 --time-ticks-at-unix-epoch=-1670018798736448 --launch-time-ticks=121309474 --shared-files=v8_context_snapshot_data:100 --field-trial-handle=0,i,18391862866948577032,30807856093711604,131072\n",
      "wallabot    5247  0.0  0.2 1184788292 86368 ?    Sl   23:08   0:00 /opt/google/chrome/chrome --type=renderer --crashpad-handler-pid=5080 --enable-crash-reporter=, --extension-process --change-stack-guard-on-fork=enable --lang=es --num-raster-threads=4 --enable-main-frame-before-activation --renderer-client-id=7 --time-ticks-at-unix-epoch=-1670018798736448 --launch-time-ticks=121342017 --shared-files=v8_context_snapshot_data:100 --field-trial-handle=0,i,18391862866948577032,30807856093711604,131072\n",
      "wallabot    5274  0.3  0.4 1184796488 155056 ?   Sl   23:08   0:03 /opt/google/chrome/chrome --type=renderer --crashpad-handler-pid=5080 --enable-crash-reporter=, --extension-process --change-stack-guard-on-fork=enable --lang=es --num-raster-threads=4 --enable-main-frame-before-activation --renderer-client-id=8 --time-ticks-at-unix-epoch=-1670018798736448 --launch-time-ticks=121354013 --shared-files=v8_context_snapshot_data:100 --field-trial-handle=0,i,18391862866948577032,30807856093711604,131072\n",
      "wallabot    5294  0.1  0.3 1184797648 123536 ?   Sl   23:08   0:01 /opt/google/chrome/chrome --type=renderer --crashpad-handler-pid=5080 --enable-crash-reporter=, --extension-process --change-stack-guard-on-fork=enable --lang=es --num-raster-threads=4 --enable-main-frame-before-activation --renderer-client-id=9 --time-ticks-at-unix-epoch=-1670018798736448 --launch-time-ticks=121366454 --shared-files=v8_context_snapshot_data:100 --field-trial-handle=0,i,18391862866948577032,30807856093711604,131072\n",
      "wallabot    5300  0.0  0.2 1184771900 88048 ?    Sl   23:08   0:00 /opt/google/chrome/chrome --type=renderer --crashpad-handler-pid=5080 --enable-crash-reporter=, --extension-process --change-stack-guard-on-fork=enable --lang=es --num-raster-threads=4 --enable-main-frame-before-activation --renderer-client-id=10 --time-ticks-at-unix-epoch=-1670018798736448 --launch-time-ticks=121370528 --shared-files=v8_context_snapshot_data:100 --field-trial-handle=0,i,18391862866948577032,30807856093711604,131072\n",
      "wallabot    5325  0.0  0.1 34023608 34500 ?      S    23:08   0:00 /opt/google/chrome/chrome --type=broker\n",
      "wallabot    5343  0.0  0.3 1184780096 98820 ?    Sl   23:08   0:00 /opt/google/chrome/chrome --type=renderer --crashpad-handler-pid=5080 --enable-crash-reporter=, --extension-process --change-stack-guard-on-fork=enable --lang=es --num-raster-threads=4 --enable-main-frame-before-activation --renderer-client-id=45 --time-ticks-at-unix-epoch=-1670018798736448 --launch-time-ticks=121454617 --shared-files=v8_context_snapshot_data:100 --field-trial-handle=0,i,18391862866948577032,30807856093711604,131072\n",
      "wallabot    5381  0.0  0.0 197896 29728 ?        Sl   23:08   0:00 /usr/bin/python3 /usr/bin/chrome-gnome-shell chrome-extension://gphhapmejobijbbhgpjhcjognlahblep/\n",
      "wallabot    5467  0.8  0.5 1185857508 194536 ?   Sl   23:08   0:08 /opt/google/chrome/chrome --type=renderer --crashpad-handler-pid=5080 --enable-crash-reporter=, --change-stack-guard-on-fork=enable --lang=es --num-raster-threads=4 --enable-main-frame-before-activation --renderer-client-id=48 --time-ticks-at-unix-epoch=-1670018798736448 --launch-time-ticks=122388284 --shared-files=v8_context_snapshot_data:100 --field-trial-handle=0,i,18391862866948577032,30807856093711604,131072\n",
      "wallabot    5547  0.0  0.2 34155852 77000 ?      Sl   23:08   0:00 /opt/google/chrome/chrome --type=utility --utility-sub-type=audio.mojom.AudioService --lang=es --service-sandbox-type=none --crashpad-handler-pid=5080 --enable-crash-reporter=, --change-stack-guard-on-fork=enable --shared-files=v8_context_snapshot_data:100 --field-trial-handle=0,i,18391862866948577032,30807856093711604,131072\n",
      "wallabot    5584  0.0  0.3 1184798704 126008 ?   Sl   23:08   0:00 /opt/google/chrome/chrome --type=renderer --crashpad-handler-pid=5080 --enable-crash-reporter=, --change-stack-guard-on-fork=enable --lang=es --num-raster-threads=4 --enable-main-frame-before-activation --renderer-client-id=40 --time-ticks-at-unix-epoch=-1670018798736448 --launch-time-ticks=127275168 --shared-files=v8_context_snapshot_data:100 --field-trial-handle=0,i,18391862866948577032,30807856093711604,131072\n",
      "wallabot    5590  0.1  0.4 1184799064 148824 ?   Sl   23:08   0:01 /opt/google/chrome/chrome --type=renderer --crashpad-handler-pid=5080 --enable-crash-reporter=, --change-stack-guard-on-fork=enable --lang=es --num-raster-threads=4 --enable-main-frame-before-activation --renderer-client-id=28 --time-ticks-at-unix-epoch=-1670018798736448 --launch-time-ticks=127276723 --shared-files=v8_context_snapshot_data:100 --field-trial-handle=0,i,18391862866948577032,30807856093711604,131072\n",
      "wallabot    5592  8.3  0.8 1187976688 283688 ?   Sl   23:08   1:22 /opt/google/chrome/chrome --type=renderer --crashpad-handler-pid=5080 --enable-crash-reporter=, --change-stack-guard-on-fork=enable --lang=es --num-raster-threads=4 --enable-main-frame-before-activation --renderer-client-id=30 --time-ticks-at-unix-epoch=-1670018798736448 --launch-time-ticks=127278497 --shared-files=v8_context_snapshot_data:100 --field-trial-handle=0,i,18391862866948577032,30807856093711604,131072\n",
      "wallabot    5636  0.0  0.3 1184805876 122780 ?   Sl   23:08   0:00 /opt/google/chrome/chrome --type=renderer --crashpad-handler-pid=5080 --enable-crash-reporter=, --change-stack-guard-on-fork=enable --lang=es --num-raster-threads=4 --enable-main-frame-before-activation --renderer-client-id=51 --time-ticks-at-unix-epoch=-1670018798736448 --launch-time-ticks=127293028 --shared-files=v8_context_snapshot_data:100 --field-trial-handle=0,i,18391862866948577032,30807856093711604,131072\n",
      "wallabot    5753  0.0  0.3 1184796632 104664 ?   Sl   23:08   0:00 /opt/google/chrome/chrome --type=renderer --crashpad-handler-pid=5080 --enable-crash-reporter=, --change-stack-guard-on-fork=enable --lang=es --num-raster-threads=4 --enable-main-frame-before-activation --renderer-client-id=52 --time-ticks-at-unix-epoch=-1670018798736448 --launch-time-ticks=129692647 --shared-files=v8_context_snapshot_data:100 --field-trial-handle=0,i,18391862866948577032,30807856093711604,131072\n",
      "wallabot    5788  3.0  0.8 1185884504 276332 ?   Sl   23:08   0:29 /opt/google/chrome/chrome --type=renderer --crashpad-handler-pid=5080 --enable-crash-reporter=, --change-stack-guard-on-fork=enable --lang=es --num-raster-threads=4 --enable-main-frame-before-activation --renderer-client-id=19 --time-ticks-at-unix-epoch=-1670018798736448 --launch-time-ticks=130329055 --shared-files=v8_context_snapshot_data:100 --field-trial-handle=0,i,18391862866948577032,30807856093711604,131072\n",
      "wallabot    5828  1.9  0.9 1184827212 309156 ?   Sl   23:08   0:19 /opt/google/chrome/chrome --type=renderer --crashpad-handler-pid=5080 --enable-crash-reporter=, --change-stack-guard-on-fork=enable --lang=es --num-raster-threads=4 --enable-main-frame-before-activation --renderer-client-id=22 --time-ticks-at-unix-epoch=-1670018798736448 --launch-time-ticks=131345480 --shared-files=v8_context_snapshot_data:100 --field-trial-handle=0,i,18391862866948577032,30807856093711604,131072\n",
      "wallabot    5846  0.6  0.6 1184844960 207484 ?   Sl   23:08   0:06 /opt/google/chrome/chrome --type=renderer --crashpad-handler-pid=5080 --enable-crash-reporter=, --change-stack-guard-on-fork=enable --lang=es --num-raster-threads=4 --enable-main-frame-before-activation --renderer-client-id=36 --time-ticks-at-unix-epoch=-1670018798736448 --launch-time-ticks=131537892 --shared-files=v8_context_snapshot_data:100 --field-trial-handle=0,i,18391862866948577032,30807856093711604,131072\n",
      "wallabot    6066  0.5  0.6 1184828968 220584 ?   Sl   23:08   0:05 /opt/google/chrome/chrome --type=renderer --crashpad-handler-pid=5080 --enable-crash-reporter=, --change-stack-guard-on-fork=enable --lang=es --num-raster-threads=4 --enable-main-frame-before-activation --renderer-client-id=35 --time-ticks-at-unix-epoch=-1670018798736448 --launch-time-ticks=135569943 --shared-files=v8_context_snapshot_data:100 --field-trial-handle=0,i,18391862866948577032,30807856093711604,131072\n",
      "wallabot    6120  0.0  0.0  43992  6552 ?        Ss   23:08   0:00 /usr/lib/bluetooth/obexd\n",
      "wallabot    6134  0.4  0.7 1184856952 230428 ?   Sl   23:08   0:04 /opt/google/chrome/chrome --type=renderer --crashpad-handler-pid=5080 --enable-crash-reporter=, --change-stack-guard-on-fork=enable --lang=es --num-raster-threads=4 --enable-main-frame-before-activation --renderer-client-id=34 --time-ticks-at-unix-epoch=-1670018798736448 --launch-time-ticks=136358048 --shared-files=v8_context_snapshot_data:100 --field-trial-handle=0,i,18391862866948577032,30807856093711604,131072\n",
      "wallabot    6524  0.4  0.6 1184857312 226988 ?   Sl   23:08   0:04 /opt/google/chrome/chrome --type=renderer --crashpad-handler-pid=5080 --enable-crash-reporter=, --change-stack-guard-on-fork=enable --lang=es --num-raster-threads=4 --enable-main-frame-before-activation --renderer-client-id=33 --time-ticks-at-unix-epoch=-1670018798736448 --launch-time-ticks=139865567 --shared-files=v8_context_snapshot_data:100 --field-trial-handle=0,i,18391862866948577032,30807856093711604,131072\n",
      "wallabot    8034  0.0  0.1 1064452 54580 ?       Sl   23:10   0:00 /usr/bin/gnome-calendar --gapplication-service\n",
      "wallabot    8158  0.7  0.7 3981248 239132 ?      Sl   23:10   0:07 /snap/spotify/60/usr/share/spotify/spotify\n",
      "wallabot    8242  0.0  0.2 647244 77376 ?        S    23:10   0:00 /snap/spotify/60/usr/share/spotify/spotify --type=zygote --no-zygote-sandbox --no-sandbox --log-severity=disable --user-agent-product=Chrome/99.0.4844.84 Spotify/1.1.84.716 --lang=en --user-data-dir=/home/wallabot/snap/spotify/60/.config/spotify/User Data --log-file=/snap/spotify/60/usr/share/spotify/debug.log\n",
      "wallabot    8243  0.0  0.2 647244 77100 ?        S    23:10   0:00 /snap/spotify/60/usr/share/spotify/spotify --type=zygote --no-sandbox --log-severity=disable --user-agent-product=Chrome/99.0.4844.84 Spotify/1.1.84.716 --lang=en --user-data-dir=/home/wallabot/snap/spotify/60/.config/spotify/User Data --log-file=/snap/spotify/60/usr/share/spotify/debug.log\n",
      "wallabot    8259  0.1  0.3 2041284 114252 ?      Sl   23:10   0:01 /snap/spotify/60/usr/share/spotify/spotify --type=gpu-process --no-sandbox --log-severity=disable --user-agent-product=Chrome/99.0.4844.84 Spotify/1.1.84.716 --lang=en --user-data-dir=/home/wallabot/snap/spotify/60/.config/spotify/User Data --gpu-preferences=UAAAAAAAAAAgAAAIAAAAAAAAAAAAAAAAAABgAAAAAAAwAAAAAAAAAAAAAAAAAAAAAAAAAAAAAAAAAAAAAQAAABgAAAAAAAAAGAAAAAAAAAAIAAAAAAAAAAgAAAAAAAAACAAAAAAAAAA= --log-file=/snap/spotify/60/usr/share/spotify/debug.log --shared-files --field-trial-handle=0,i,8625640855432007833,7773453088797360000,131072\n",
      "wallabot    8274  0.0  0.1 868700 34104 ?        Sl   23:10   0:00 /snap/spotify/60/usr/share/spotify/spotify --type=utility --utility-sub-type=storage.mojom.StorageService --lang=en-US --service-sandbox-type=utility --no-sandbox --log-severity=disable --user-agent-product=Chrome/99.0.4844.84 Spotify/1.1.84.716 --lang=en --user-data-dir=/home/wallabot/snap/spotify/60/.config/spotify/User Data --log-file=/snap/spotify/60/usr/share/spotify/debug.log --shared-files=v8_context_snapshot_data:100 --field-trial-handle=0,i,8625640855432007833,7773453088797360000,131072\n",
      "wallabot    8279  0.0  0.3 1148480 99680 ?       Sl   23:10   0:00 /snap/spotify/60/usr/share/spotify/spotify --type=utility --utility-sub-type=network.mojom.NetworkService --lang=en-US --service-sandbox-type=none --no-sandbox --log-severity=disable --user-agent-product=Chrome/99.0.4844.84 Spotify/1.1.84.716 --lang=en --user-data-dir=/home/wallabot/snap/spotify/60/.config/spotify/User Data --log-file=/snap/spotify/60/usr/share/spotify/debug.log --shared-files=v8_context_snapshot_data:100 --field-trial-handle=0,i,8625640855432007833,7773453088797360000,131072\n",
      "wallabot    8319  0.5  0.5 31646352 187140 ?     Sl   23:10   0:05 /snap/spotify/60/usr/share/spotify/spotify --type=renderer --log-severity=disable --user-agent-product=Chrome/99.0.4844.84 Spotify/1.1.84.716 --disable-spell-checking --user-data-dir=/home/wallabot/snap/spotify/60/.config/spotify/User Data --no-sandbox --log-file=/snap/spotify/60/usr/share/spotify/debug.log --lang=en-US --num-raster-threads=4 --enable-main-frame-before-activation --renderer-client-id=5 --launch-time-ticks=210215195 --shared-files=v8_context_snapshot_data:100 --field-trial-handle=0,i,8625640855432007833,7773453088797360000,131072\n",
      "wallabot    8377  0.5  0.4 38371288 161752 ?     SLl  23:10   0:05 /usr/share/code/code --unity-launch --enable-crashpad\n",
      "wallabot    8391  0.0  0.1 33775112 48516 ?      S    23:10   0:00 /usr/share/code/code --type=zygote --no-zygote-sandbox --enable-crashpad --enable-crashpad\n",
      "wallabot    8392  0.0  0.1 33775096 48304 ?      S    23:10   0:00 /usr/share/code/code --type=zygote --enable-crashpad --enable-crashpad\n",
      "wallabot    8394  0.0  0.0 33775124 12448 ?      S    23:10   0:00 /usr/share/code/code --type=zygote --enable-crashpad --enable-crashpad\n",
      "wallabot    8407  0.0  0.0 33575984 3384 ?       Sl   23:10   0:00 /usr/share/code/chrome_crashpad_handler --monitor-self-annotation=ptype=crashpad-handler --no-rate-limit --database=/home/wallabot/.config/Code/Crashpad --url=appcenter://code?aid=fba07a4d-84bd-4fc8-a125-9640fc8ce171&uid=e1be826f-73fb-46c2-a439-9bb52643ccc1&iid=e1be826f-73fb-46c2-a439-9bb52643ccc1&sid=e1be826f-73fb-46c2-a439-9bb52643ccc1 --annotation=_companyName=Microsoft --annotation=_productName=VSCode --annotation=_version=1.73.1 --annotation=lsb-release=Ubuntu 20.04.5 LTS --annotation=plat=Linux --annotation=prod=Electron --annotation=ver=19.0.17 --initial-client-fd=43 --shared-client-connection\n",
      "wallabot    8425  1.5  0.5 33985512 195464 ?     Sl   23:10   0:14 /usr/share/code/code --type=gpu-process --enable-crashpad --crashpad-handler-pid=8407 --enable-crash-reporter=7a83c65f-14e6-4aa2-9df9-71fc458479f5,no_channel --user-data-dir=/home/wallabot/.config/Code --gpu-preferences=WAAAAAAAAAAgAAAIAAAAAAAAAAAAAAAAAABgAAAAAAA4AAAAAAAAAAAAAAAAAAAAAAAAAAAAAAAAAAAAAAAAACAAAAAAAAAAIAAAAAAAAAABAAAAAAAAAAgAAAAAAAAACAAAAAAAAAAIAAAAAAAAAA== --shared-files --field-trial-handle=0,i,8890103601020485358,15523745040863579529,131072 --disable-features=CalculateNativeWinOcclusion,SpareRendererForSitePerProcess\n",
      "wallabot    8429  0.0  0.2 33840968 66520 ?      Sl   23:10   0:00 /usr/share/code/code --type=utility --utility-sub-type=network.mojom.NetworkService --lang=es --service-sandbox-type=none --enable-crashpad --crashpad-handler-pid=8407 --enable-crash-reporter=7a83c65f-14e6-4aa2-9df9-71fc458479f5,no_channel --user-data-dir=/home/wallabot/.config/Code --standard-schemes=vscode-webview,vscode-file --secure-schemes=vscode-webview,vscode-file --bypasscsp-schemes --cors-schemes=vscode-webview,vscode-file --fetch-schemes=vscode-webview,vscode-file --service-worker-schemes=vscode-webview --streaming-schemes --shared-files=v8_context_snapshot_data:100 --field-trial-handle=0,i,8890103601020485358,15523745040863579529,131072 --disable-features=CalculateNativeWinOcclusion,SpareRendererForSitePerProcess --enable-crashpad\n",
      "wallabot    8439  0.0  0.0 33851528 23624 ?      S    23:10   0:00 /usr/share/code/code --type=broker\n",
      "wallabot    8449  8.5  1.1 61424852 390980 ?     Sl   23:10   1:16 /usr/share/code/code --type=renderer --enable-crashpad --crashpad-handler-pid=8407 --enable-crash-reporter=7a83c65f-14e6-4aa2-9df9-71fc458479f5,no_channel --user-data-dir=/home/wallabot/.config/Code --standard-schemes=vscode-webview,vscode-file --secure-schemes=vscode-webview,vscode-file --bypasscsp-schemes --cors-schemes=vscode-webview,vscode-file --fetch-schemes=vscode-webview,vscode-file --service-worker-schemes=vscode-webview --streaming-schemes --app-path=/usr/share/code/resources/app --no-sandbox --no-zygote --enable-blink-features=HighlightAPI --lang=es --num-raster-threads=4 --enable-main-frame-before-activation --renderer-client-id=4 --launch-time-ticks=217445761 --shared-files=v8_context_snapshot_data:100 --field-trial-handle=0,i,8890103601020485358,15523745040863579529,131072 --disable-features=CalculateNativeWinOcclusion,SpareRendererForSitePerProcess --vscode-window-config=vscode:13905479-a7dd-4e24-9b88-cf580c42a25d --enable-crashpad\n",
      "wallabot    8508  1.4  0.8 59175788 268364 ?     Sl   23:10   0:12 /usr/share/code/code --ms-enable-electron-run-as-node --inspect-port=0 /usr/share/code/resources/app/out/bootstrap-fork --type=extensionHost --skipWorkspaceStorageLock\n",
      "wallabot    8566  0.1  0.2 38136100 81468 ?      Sl   23:10   0:01 /usr/share/code/code --ms-enable-electron-run-as-node /home/wallabot/.vscode/extensions/kisstkondoros.vscode-gutter-preview-0.30.0/dist/server.js --node-ipc --clientProcessId=8508\n",
      "wallabot    8575  0.6  0.4 46670736 139408 ?     Sl   23:10   0:05 /usr/share/code/code --type=renderer --enable-crashpad --crashpad-handler-pid=8407 --enable-crash-reporter=7a83c65f-14e6-4aa2-9df9-71fc458479f5,no_channel --user-data-dir=/home/wallabot/.config/Code --standard-schemes=vscode-webview,vscode-file --secure-schemes=vscode-webview,vscode-file --bypasscsp-schemes --cors-schemes=vscode-webview,vscode-file --fetch-schemes=vscode-webview,vscode-file --service-worker-schemes=vscode-webview --streaming-schemes --app-path=/usr/share/code/resources/app --no-sandbox --no-zygote --node-integration-in-worker --lang=es --num-raster-threads=4 --enable-main-frame-before-activation --renderer-client-id=5 --launch-time-ticks=219833707 --shared-files=v8_context_snapshot_data:100 --field-trial-handle=0,i,8890103601020485358,15523745040863579529,131072 --disable-features=CalculateNativeWinOcclusion,SpareRendererForSitePerProcess --vscode-window-config=vscode:be96c98d-9154-449a-b127-c0211495f4ef --vscode-window-kind=shared-process --enable-crashpad\n",
      "wallabot    8593  0.0  0.2 38177772 78236 ?      Sl   23:10   0:00 /usr/share/code/code --ms-enable-electron-run-as-node /usr/share/code/resources/app/out/bootstrap-fork --type=ptyHost --logsPath /home/wallabot/.config/Code/logs/20221202T231016\n",
      "wallabot    8632  0.0  0.2 38185752 94568 ?      Sl   23:10   0:00 /usr/share/code/code --ms-enable-electron-run-as-node /usr/share/code/resources/app/out/bootstrap-fork --type=fileWatcher\n",
      "wallabot    8656  0.6  0.5 42430176 182480 ?     Sl   23:10   0:05 /usr/share/code/code --type=renderer --enable-crashpad --crashpad-handler-pid=8407 --enable-crash-reporter=7a83c65f-14e6-4aa2-9df9-71fc458479f5,no_channel --user-data-dir=/home/wallabot/.config/Code --standard-schemes=vscode-webview,vscode-file --secure-schemes=vscode-webview,vscode-file --bypasscsp-schemes --cors-schemes=vscode-webview,vscode-file --fetch-schemes=vscode-webview,vscode-file --service-worker-schemes=vscode-webview --streaming-schemes --app-path=/usr/share/code/resources/app --enable-sandbox --enable-blink-features=HighlightAPI --lang=es --num-raster-threads=4 --enable-main-frame-before-activation --renderer-client-id=6 --launch-time-ticks=220495638 --shared-files=v8_context_snapshot_data:100 --field-trial-handle=0,i,8890103601020485358,15523745040863579529,131072 --disable-features=CalculateNativeWinOcclusion,SpareRendererForSitePerProcess --vscode-window-config=vscode:13905479-a7dd-4e24-9b88-cf580c42a25d\n",
      "wallabot    8716  1.4  0.5 38140204 169984 ?     Sl   23:10   0:12 /usr/share/code/code --ms-enable-electron-run-as-node /home/wallabot/.vscode/extensions/ms-python.vscode-pylance-2022.11.40/dist/server.bundle.js --cancellationReceive=file:3646d9eb9edaa1bd82425403564df0006a57a0df01 --node-ipc --clientProcessId=8508\n",
      "wallabot    8744  0.1  0.3 38140204 104772 ?     Sl   23:10   0:01 /usr/share/code/code --ms-enable-electron-run-as-node /home/wallabot/.vscode/extensions/ms-python.vscode-pylance-2022.11.40/dist/server.bundle.js --cancellationReceive=file:f832ffa59d80abd5b35e8851e94332c285b2c3f9bb --node-ipc --clientProcessId=8508\n",
      "wallabot    8781  0.1  0.2 480956 77852 ?        Sl   23:10   0:01 /home/wallabot/anaconda3/bin/python -m ipykernel_launcher --ip=127.0.0.1 --stdin=9003 --control=9001 --hb=9000 --Session.signature_scheme=\"hmac-sha256\" --Session.key=b\"c6d890f5-5fb6-41d8-9a66-32d953505406\" --shell=9002 --transport=\"tcp\" --iopub=9004 --f=/home/wallabot/.local/share/jupyter/runtime/kernel-v2-8508kHWtNFMgKsBL.json\n",
      "wallabot    8788  0.0  0.0 116624 29744 ?        Sl   23:10   0:00 /bin/python3 /home/wallabot/.vscode/extensions/ms-python.isort-2022.8.0/bundled/tool/server.py\n",
      "wallabot    8898  0.6  0.4 38144304 146508 ?     Sl   23:10   0:05 /usr/share/code/code --ms-enable-electron-run-as-node /home/wallabot/.vscode/extensions/ms-python.vscode-pylance-2022.11.40/dist/server.bundle.js --cancellationReceive=file:f57d6ea9bb6b4fa6ae2a6938661d2443c126a7b3df --node-ipc --clientProcessId=8508\n",
      "wallabot    8911  0.0  0.2 38136100 70604 ?      Sl   23:10   0:00 /usr/share/code/code --ms-enable-electron-run-as-node /usr/share/code/resources/app/extensions/json-language-features/server/dist/node/jsonServerMain --node-ipc --clientProcessId=8508\n",
      "wallabot    8932  0.0  0.0  13648  5412 pts/0    Ss+  23:10   0:00 /usr/bin/bash --init-file /usr/share/code/resources/app/out/vs/workbench/contrib/terminal/browser/media/shellIntegration-bash.sh\n",
      "wallabot    9112  0.0  0.1 816596 50392 ?        Ssl  23:10   0:00 /usr/libexec/gnome-terminal-server\n",
      "wallabot    9120  0.0  0.0  13628  5212 pts/1    Ss+  23:10   0:00 bash\n",
      "wallabot   10927  0.0  0.3 1184807108 117996 ?   Sl   23:19   0:00 /opt/google/chrome/chrome --type=renderer --crashpad-handler-pid=5080 --enable-crash-reporter=, --change-stack-guard-on-fork=enable --lang=es --num-raster-threads=4 --enable-main-frame-before-activation --renderer-client-id=72 --time-ticks-at-unix-epoch=-1670018798736448 --launch-time-ticks=743183717 --shared-files=v8_context_snapshot_data:100 --field-trial-handle=0,i,18391862866948577032,30807856093711604,131072\n",
      "wallabot   11428  0.1  0.2 38136100 74884 ?      Sl   23:21   0:00 /usr/share/code/code --ms-enable-electron-run-as-node /usr/share/code/resources/app/extensions/markdown-language-features/server/dist/node/main --node-ipc --clientProcessId=8508\n",
      "wallabot   12009  0.0  0.2 1184730916 65832 ?    Sl   23:24   0:00 /opt/google/chrome/chrome --type=renderer --crashpad-handler-pid=5080 --enable-crash-reporter=, --change-stack-guard-on-fork=enable --lang=es --num-raster-threads=4 --enable-main-frame-before-activation --renderer-client-id=80 --time-ticks-at-unix-epoch=-1670018798736448 --launch-time-ticks=1081580044 --shared-files=v8_context_snapshot_data:100 --field-trial-handle=0,i,18391862866948577032,30807856093711604,131072\n",
      "wallabot   12109  0.0  0.0   2616   596 pts/2    Ss+  23:25   0:00 /usr/bin/sh -c ps aux | grep wallabot\n",
      "wallabot   12110  0.0  0.0  14192  3560 pts/2    R+   23:25   0:00 ps aux\n",
      "wallabot   12111  0.0  0.0  11668   660 pts/2    S+   23:25   0:00 grep wallabot\n"
     ]
    }
   ],
   "source": [
    "!ps aux | grep wallabot"
   ]
  },
  {
   "cell_type": "markdown",
   "metadata": {},
   "source": [
    "### `top`"
   ]
  },
  {
   "cell_type": "markdown",
   "metadata": {},
   "source": [
    "Con `top` podemos ver todos los procesos del sistema operativo. Nos enseñará la información con `less`, por lo que al igual que se ha explicado antes, cuando se quiera parar `top`, introduciendo `q` parará\n",
    "\n",
    "``` bash\n",
    "$ top\n",
    "\n",
    "top - 09:31:32 up  3:21,  1 user,  load average: 2,42, 2,79, 2,48\n",
    "Tareas: 382 total,   1 ejecutar,  381 hibernar,    0 detener,    0 zombie\n",
    "%Cpu(s): 14,2 usuario,  1,5 sist,  0,0 adecuado, 84,3 inact,  0,0 en espera,  0,\n",
    "MiB Mem :  32006,4 total,  20281,8 libre,   6229,0 usado,   5495,6 búfer/caché\n",
    "MiB Intercambio:   2048,0 total,   2048,0 libre,      0,0 usado.  24979,1 dispon\n",
    "\n",
    "    PID USUARIO   PR  NI    VIRT    RES    SHR S  %CPU  %MEM     HORA+ ORDEN    \n",
    "  10192 wallabot  20   0 3347636 388848  84140 S 137,5   1,2 282:24.59 python   \n",
    "  44161 wallabot  20   0   30,2g 217208 100148 S  12,5   0,7   0:40.92 spotify  \n",
    "     76 root      20   0       0      0      0 S   6,2   0,0   0:00.12 ksoftir+ \n",
    "   1105 root     -51   0       0      0      0 S   6,2   0,0   2:54.29 irq/125+ \n",
    "  43990 wallabot  20   0 3998836 246260 145800 S   6,2   0,8   0:53.69 spotify  \n",
    "  44101 wallabot  20   0 1995108 130316  89848 S   6,2   0,4   0:08.34 spotify  \n",
    "  51510 wallabot  20   0   14876   4088   3288 R   6,2   0,0   0:00.01 top      \n",
    "      1 root      20   0  169736  13188   8380 S   0,0   0,0   0:01.51 systemd  \n",
    "      2 root      20   0       0      0      0 S   0,0   0,0   0:00.00 kthreadd \n",
    "      3 root       0 -20       0      0      0 I   0,0   0,0   0:00.00 rcu_gp   \n",
    "      4 root       0 -20       0      0      0 I   0,0   0,0   0:00.00 rcu_par+ \n",
    "      5 root       0 -20       0      0      0 I   0,0   0,0   0:00.00 netns    \n",
    "      7 root       0 -20       0      0      0 I   0,0   0,0   0:00.00 kworker+ \n",
    "      9 root       0 -20       0      0      0 I   0,0   0,0   0:00.03 kworker+ \n",
    "     10 root       0 -20       0      0      0 I   0,0   0,0   0:00.00 mm_perc+ \n",
    "     11 root      20   0       0      0      0 S   0,0   0,0   0:00.00 rcu_tas+ \n",
    "     12 root      20   0       0      0      0 S   0,0   0,0   0:00.00 rcu_tas+\n",
    "```\n",
    "\n",
    "Como se puede ver, el `PID` 44161 es spotify que lo estoy usando ahora para reproducir música, pero con `ps` no lo habíamos visto"
   ]
  },
  {
   "cell_type": "markdown",
   "metadata": {},
   "source": [
    "Al igual que antes, si queremos matar un proceso debemos introducir `kill` y su `PID`"
   ]
  },
  {
   "cell_type": "markdown",
   "metadata": {},
   "source": [
    "Lo bueno de top es que nos da muchas más utilidades, si pulsamos `h` nos mostrará una ayuda\n",
    "\n",
    "``` bash\n",
    "Help for Interactive Commands - procps-ng 3.3.16\n",
    "Window 1:Def: Cumulative mode Apagado.  System: Delay 3,0 secs; Secure mode Apag\n",
    "\n",
    "  Z,B,E,e   Global: 'Z' colors; 'B' bold; 'E'/'e' summary/task memory scale\n",
    "  l,t,m     Toggle Summary: 'l' load avg; 't' task/cpu stats; 'm' memory info\n",
    "  0,1,2,3,I Toggle: '0' zeros; '1/2/3' cpus or numa node views; 'I' Irix mode\n",
    "  f,F,X     Fields: 'f'/'F' add/remove/order/sort; 'X' increase fixed-width\n",
    "\n",
    "  L,&,<,> . Locate: 'L'/'&' find/again; Move sort column: '<'/'>' left/right\n",
    "  R,H,J,C . Toggle: 'R' Sort; 'H' Threads; 'J' Num justify; 'C' Coordinates\n",
    "  c,i,S,j . Toggle: 'c' Cmd name/line; 'i' Idle; 'S' Time; 'j' Str justify\n",
    "  x,y     . Toggle highlights: 'x' sort field; 'y' running tasks\n",
    "  z,b     . Toggle: 'z' color/mono; 'b' bold/reverse (only if 'x' or 'y')\n",
    "  u,U,o,O . Filter by: 'u'/'U' effective/any user; 'o'/'O' other criteria\n",
    "  n,#,^O  . Set: 'n'/'#' max tasks displayed; Show: Ctrl+'O' other filter(s)\n",
    "  V,v     . Toggle: 'V' forest view; 'v' hide/show forest view children\n",
    "\n",
    "  k,r Gestiona tareas: «k» detener; «r» reiniciar\n",
    "  d o s Establece intervalo de actualización\n",
    "  W,Y       Write configuration file 'W'; Inspect other output 'Y'\n",
    "  q         Quit\n",
    "          ( commands shown with '.' require a visible task display window ) \n",
    "Press 'h' or '?' for help with Windows,\n",
    "Type 'q' or <Esc> to continue\n",
    "```\n",
    "\n",
    "Para salir pulsar `ESC` o `q`"
   ]
  },
  {
   "cell_type": "markdown",
   "metadata": {},
   "source": [
    "Como se muestra en la ayuda, si se introduce `u` podemos filtrar por usuario, introducimos mi usuario (wallabot) y puedo ver solo mis procesos\n",
    "\n",
    "``` bash\n",
    "top - 09:35:57 up  3:25,  1 user,  load average: 1,02, 2,27, 2,39\n",
    "Tareas: 378 total,   1 ejecutar,  377 hibernar,    0 detener,    0 zombie\n",
    "%Cpu(s): 13,4 usuario,  0,4 sist,  0,0 adecuado, 86,1 inact,  0,1 en espera,  0,\n",
    "MiB Mem :  32006,4 total,  20288,0 libre,   6212,0 usado,   5506,4 búfer/caché\n",
    "MiB Intercambio:   2048,0 total,   2048,0 libre,      0,0 usado.  24989,1 dispon\n",
    "\n",
    "    PID USUARIO   PR  NI    VIRT    RES    SHR S  %CPU  %MEM     HORA+ ORDEN    \n",
    "  10192 wallabot  20   0 3347636 388848  84140 S 148,2   1,2 288:46.50 python   \n",
    "  43990 wallabot  20   0 3998836 246552 146092 S   2,7   0,8   0:59.55 spotify  \n",
    "   1384 wallabot  20   0 4909848 453700 133164 S   1,7   1,4  11:14.02 gnome-s+ \n",
    "   1119 wallabot   9 -11 3093876  24504  17836 S   1,3   0,1   0:48.99 pulseau+ \n",
    "  32462 wallabot  20   0 1134,0g 643412 128632 S   1,3   2,0   7:39.91 chrome   \n",
    "  44161 wallabot  20   0   30,2g 217112 100488 S   1,3   0,7   0:44.87 spotify  \n",
    "  10135 wallabot  20   0  826220  58164  41648 S   1,0   0,2   0:14.56 gnome-t+ \n",
    "   6635 wallabot  20   0   33,0g 647936 436252 S   0,3   2,0   4:01.80 chrome   \n",
    "   6679 wallabot  20   0   32,4g 125564  94016 S   0,3   0,4   0:52.19 chrome   \n",
    "   8010 wallabot  20   0 1130,9g 232800 116092 S   0,3   0,7   0:13.70 chrome   \n",
    "  44101 wallabot  20   0 1995108 130444  89916 S   0,3   0,4   0:09.19 spotify  \n",
    "   1113 wallabot  20   0   19880  10528   8096 S   0,0   0,0   0:00.38 systemd  \n",
    "   1114 wallabot  20   0  169792   3636     12 S   0,0   0,0   0:00.00 (sd-pam) \n",
    "   1121 wallabot  39  19  591436  37256  16676 S   0,0   0,1   0:03.19 tracker+ \n",
    "   1124 wallabot  20   0  390740   8688   7416 S   0,0   0,0   0:00.45 gnome-k+ \n",
    "   1128 wallabot  20   0  166804   6596   5956 S   0,0   0,0   0:00.00 gdm-x-s+ \n",
    "   1134 wallabot  20   0    9152   6144   3796 S   0,0   0,0   0:01.81 dbus-da+\n",
    "```"
   ]
  },
  {
   "cell_type": "markdown",
   "metadata": {},
   "source": [
    "Otra forma de ver esto poder filtrar por usuario sería hacerse un pipeline y usando `grep`\n",
    "\n",
    "``` bash\n",
    "$ top | grep wallabot\n",
    "   1440 wallabot  20   0 4684708 505432 118024 S   6,7   1,5   2:05.92 gnome-s+ \n",
    "  25326 wallabot  20   0 1133,0g 527912 123732 S   1,7   1,6   1:31.73 chrome   \n",
    "   1440 wallabot  20   0 4684708 505476 118024 S   1,3   1,5   2:05.96 gnome-s+ \n",
    "   6199 wallabot  20   0 1131,0g 266068 116164 S   0,3   0,8   0:15.23 chrome   \n",
    "  17606 wallabot  20   0  818228  52096  39488 S   0,3   0,2   0:02.59 gnome-t+ \n",
    "  34284 wallabot  20   0   14876   4376   3308 R   0,3   0,0   0:00.02 top\n",
    "```"
   ]
  },
  {
   "cell_type": "markdown",
   "metadata": {},
   "source": [
    "### `htop`"
   ]
  },
  {
   "cell_type": "markdown",
   "metadata": {},
   "source": [
    "Es parecido a `top` pero más potente\n",
    "\n",
    "Probablemente no lo tengas instalado, así que para instalarlo introduce el comando\n",
    "\n",
    "``` bash\n",
    "sudo apt install htop\n",
    "```\n",
    "\n",
    "o\n",
    "\n",
    "``` bash\n",
    "sudo snap install htop\n",
    "```"
   ]
  },
  {
   "cell_type": "markdown",
   "metadata": {},
   "source": [
    "### `glances`"
   ]
  },
  {
   "cell_type": "markdown",
   "metadata": {},
   "source": [
    "Es parecido a `top` pero más potente\n",
    "\n",
    "Probablemente no lo tengas instalado, así que para instalarlo introduce el comando\n",
    "\n",
    "``` bash\n",
    "sudo apt install glances\n",
    "```"
   ]
  },
  {
   "cell_type": "markdown",
   "metadata": {},
   "source": [
    "## Gestión de memoria RAM"
   ]
  },
  {
   "cell_type": "markdown",
   "metadata": {},
   "source": [
    "Si solo queremos obtener información de la memoria podemos hacer uso del comando `free`"
   ]
  },
  {
   "cell_type": "code",
   "execution_count": 8,
   "metadata": {},
   "outputs": [
    {
     "name": "stdout",
     "output_type": "stream",
     "text": [
      "              total       usado       libre  compartido búfer/caché  disponible\n",
      "Memoria:    32774516     6563544    20091804      276296     6119168    25479600\n",
      "Swap:       2097148           0     2097148\n"
     ]
    }
   ],
   "source": [
    "!free"
   ]
  },
  {
   "cell_type": "markdown",
   "metadata": {},
   "source": [
    "Pero como esta información no es muy fácil de digerir, añadimos el flag `-h` (human), para que sea más fácil de leer"
   ]
  },
  {
   "cell_type": "code",
   "execution_count": 9,
   "metadata": {},
   "outputs": [
    {
     "name": "stdout",
     "output_type": "stream",
     "text": [
      "              total       usado       libre  compartido búfer/caché  disponible\n",
      "Memoria:        31Gi       6,3Gi        19Gi       270Mi       5,8Gi        24Gi\n",
      "Swap:         2,0Gi          0B       2,0Gi\n"
     ]
    }
   ],
   "source": [
    "!free -h"
   ]
  },
  {
   "cell_type": "markdown",
   "metadata": {},
   "source": [
    "## Gestión del disco duro"
   ]
  },
  {
   "cell_type": "markdown",
   "metadata": {},
   "source": [
    "Para obtener información del disco duro hacemos uso del comando `du`, si solo introducimos este comando por terminal nos dará la información de todas las carpetas de nuestra máquina, por eso, para no obtener demasiada información, es necesario introducirle una ruta que queremos escanear"
   ]
  },
  {
   "cell_type": "code",
   "execution_count": 10,
   "metadata": {},
   "outputs": [
    {
     "name": "stdout",
     "output_type": "stream",
     "text": [
      "8\t/home/wallabot/Documentos/web/portafolio/posts/__pycache__\n",
      "1648\t/home/wallabot/Documentos/web/portafolio/posts/notebooks_translated\n",
      "4288\t/home/wallabot/Documentos/web/portafolio/posts/html_files\n",
      "336\t/home/wallabot/Documentos/web/portafolio/posts/prueba/tocompress\n",
      "1132\t/home/wallabot/Documentos/web/portafolio/posts/prueba\n",
      "16\t/home/wallabot/Documentos/web/portafolio/posts/introduccion_python/__pycache__\n",
      "28\t/home/wallabot/Documentos/web/portafolio/posts/introduccion_python\n",
      "11232\t/home/wallabot/Documentos/web/portafolio/posts/\n"
     ]
    }
   ],
   "source": [
    "!du ~/Documentos/web/portafolio/posts/"
   ]
  },
  {
   "cell_type": "markdown",
   "metadata": {},
   "source": [
    "Al igual que antes, añadimos el flag `-h` (human) para que sea más fácil de leer"
   ]
  },
  {
   "cell_type": "code",
   "execution_count": 11,
   "metadata": {},
   "outputs": [
    {
     "name": "stdout",
     "output_type": "stream",
     "text": [
      "8,0K\t/home/wallabot/Documentos/web/portafolio/posts/__pycache__\n",
      "1,7M\t/home/wallabot/Documentos/web/portafolio/posts/notebooks_translated\n",
      "4,2M\t/home/wallabot/Documentos/web/portafolio/posts/html_files\n",
      "336K\t/home/wallabot/Documentos/web/portafolio/posts/prueba/tocompress\n",
      "1,2M\t/home/wallabot/Documentos/web/portafolio/posts/prueba\n",
      "16K\t/home/wallabot/Documentos/web/portafolio/posts/introduccion_python/__pycache__\n",
      "28K\t/home/wallabot/Documentos/web/portafolio/posts/introduccion_python\n",
      "11M\t/home/wallabot/Documentos/web/portafolio/posts/\n"
     ]
    }
   ],
   "source": [
    "!du ~/Documentos/web/portafolio/posts/ -h"
   ]
  },
  {
   "cell_type": "markdown",
   "metadata": {},
   "source": [
    "## Gestión de interfaces"
   ]
  },
  {
   "cell_type": "markdown",
   "metadata": {},
   "source": [
    "En Ubuntu, por defecto arrancamos en un interfaz gráfica, pero podemos abrir otras interfaces, que no serán gráficas, introduciendo `CTRL`+`ALT`+`F<num>` donde el número puede ir desde el 1 hasta el 6. Solo la 2 tendrá la interfaz gráfica y la 1 será el inicio de sesión"
   ]
  },
  {
   "cell_type": "markdown",
   "metadata": {},
   "source": [
    "Al manejar varias interfaces podemos no saber en cual nos encontramos, así que introduciendo el comando `tty` nos dirá en cual estamos"
   ]
  },
  {
   "cell_type": "code",
   "execution_count": 1,
   "metadata": {},
   "outputs": [
    {
     "name": "stdout",
     "output_type": "stream",
     "text": [
      "/dev/pts/0\n"
     ]
    }
   ],
   "source": [
    "!tty"
   ]
  },
  {
   "cell_type": "markdown",
   "metadata": {},
   "source": [
    "## Manejo de paquetes"
   ]
  },
  {
   "cell_type": "markdown",
   "metadata": {},
   "source": [
    "### Repositorios PPA (Personal Package Archives)"
   ]
  },
  {
   "cell_type": "markdown",
   "metadata": {},
   "source": [
    "En Linux, la gestión de paquetes se hace a través de repositorios. Esto es una lista de direcciones donde se encuentran los binarios de nuestros programas. Así cuando queremos actualizar o instalar nuestros programas (luego explicaremos cómo), lo que hará el sistema operativo es ver la lista de estos repositorios e ir a las direcciones indicadas a buscar los binarios"
   ]
  },
  {
   "cell_type": "markdown",
   "metadata": {},
   "source": [
    "Esta lista de repositorios se encuentra en `/etc/apt/sources.list` y dentro de la carpeta `/etc/apt/sources.list.d`. Vamos a ver esta lista"
   ]
  },
  {
   "cell_type": "code",
   "execution_count": 19,
   "metadata": {},
   "outputs": [
    {
     "name": "stdout",
     "output_type": "stream",
     "text": [
      "# deb cdrom:[Ubuntu 20.04.2.0 LTS _Focal Fossa_ - Release amd64 (20210209.1)]/ focal main restricted\n",
      "\n",
      "# See http://help.ubuntu.com/community/UpgradeNotes for how to upgrade to\n",
      "# newer versions of the distribution.\n",
      "deb http://es.archive.ubuntu.com/ubuntu/ focal main restricted\n",
      "# deb-src http://es.archive.ubuntu.com/ubuntu/ focal main restricted\n",
      "\n",
      "## Major bug fix updates produced after the final release of the\n",
      "## distribution.\n",
      "deb http://es.archive.ubuntu.com/ubuntu/ focal-updates main restricted\n",
      "\t ...\n",
      "deb https://developer.download.nvidia.com/compute/cuda/repos/ubuntu2004/x86_64/ /\n",
      "# deb-src https://developer.download.nvidia.com/compute/cuda/repos/ubuntu2004/x86_64/ /\n",
      "deb https://apt.kitware.com/ubuntu/ focal main\n",
      "# deb-src https://apt.kitware.com/ubuntu/ focal main\n",
      "\n"
     ]
    }
   ],
   "source": [
    "terminal(\"cat /etc/apt/sources.list\", max_lines_output=10)"
   ]
  },
  {
   "cell_type": "markdown",
   "metadata": {},
   "source": [
    "Las primeras líneas que incluyen la palabra `cd-rom` son referencias al cd de instalación, siempre vienen con las palabras `deb cdrom:` aunque se haya instalado a través de la red o de un usb.\n",
    "\n",
    "A partir de aquí empiezan a aparecer diversas líneas que empiezan con `deb` o `deb-src`. En `deb` se encuentran los binarios y en `deb-src` se encuentra el código fuente.\n",
    "\n",
    "Toda dirección valida de repositorio tiene uno de esots formatos:\n",
    "\n",
    " * deb http://direccion_del_servidor/nombre_carpeta nombre_de_version (main o universe o multiverse o main restricted, etc)\n",
    " * deb-src http://direccion_del_servidor/nombre_carpeta nombre_de_version (main o universe o multiverse o main restricted, etc)"
   ]
  },
  {
   "cell_type": "markdown",
   "metadata": {},
   "source": [
    "Los seis tipos de repositorios de Ubuntu son :\n",
    " 1. Main\n",
    "\n",
    "`Main` es el repositorio principal de Ubuntu. El repositorio `Main` está activado por defecto y contiene solo software libre y de código abierto o `FOSS` por sus siglas en inglés (Free and Open Source Software). Todo el software que ofrece `Main` se puede distribuir libremente y sin restricciones.\n",
    "\n",
    " 2. Universe\n",
    "\n",
    "Como `Main`, `Universe` también ofrece `FOSS`. La diferencia es que en este repositorio no es Ubuntu quien garantiza actualizaciones de seguridad regulares, sino que es la comunidad quien se encarga de su soporte. Viene activado por defecto, pero no siempre. Algunos sistemas operativos lo tienen desactivado por defecto y podríamos tener que activarlo si estamos ejecutando una Live Session. Si no lo tenemos añadido, podemos hacerlo con este comando:\n",
    "    \n",
    "``` bash\n",
    "sudo add-apt-repository universe\n",
    "```\n",
    "\n",
    "¿Qué encontramos en «Universe»? Yo diría que la mayoría del software que merece la pena, entre lo que tenemos VLC u OpenShot.\n",
    "\n",
    " 3. Multiverse\n",
    "\n",
    "A partir de aquí vienen los repositorios de Ubuntu con menos libertad. `Multiverse` contiene software que ya no es `FOSS` y Ubuntu no puede activar este repositorio por defecto por problemas legales y de licencias. Por otra parte, tampoco puede proporcionar parches y actualizaciones. Con esto en mente, tenemos que valorar si lo añadimos o no, algo que podremos hacer con este comando:\n",
    "\n",
    "``` bash\n",
    "sudo add-apt-repository multiverse\n",
    "```\n",
    "\n",
    " 4. Restricted\n",
    "\n",
    "En los repositorios de Ubuntu podremos encontrar software libre y de código abierto, pero esto no es posible cuando se trata de algo relacionado con el hardware. En los repositorios `Restricted` encontraremos drivers, como los de las tarjetas gráficas, paneles táctiles o tarjetas de red.\n",
    "\n",
    "``` bash\n",
    "sudo add-apt-repository restricted\n",
    "```\n",
    "\n",
    " 5. Partner\n",
    "\n",
    "Este repositorio contiene software propietario compilado por Ubuntu de sus socios.\n",
    "\n",
    " 6. Repositorios de Ubuntu de terceros\n",
    "\n",
    "Por último, tenemos los repositorios de terceros. Ubuntu trata de ofrecer siempre la mejor experiencia de usuario y ese es uno de los motivos por los que rechaza cierto software. También hay desarrolladores que prefieren tener un control total sobre lo que ofrecen y por ese motivo crean sus propios repositorios."
   ]
  },
  {
   "cell_type": "markdown",
   "metadata": {},
   "source": [
    "### Añadir repositorios"
   ]
  },
  {
   "cell_type": "markdown",
   "metadata": {},
   "source": [
    "Si estamos en Ubuntu podemos añadir un repositorio mediante el comando `add-apt-repository <repository>`. Pero como en otras distribuciones que no sean Ubuntu no tenemos este comando"
   ]
  },
  {
   "cell_type": "markdown",
   "metadata": {},
   "source": [
    "### Actualizar los repositorios"
   ]
  },
  {
   "cell_type": "markdown",
   "metadata": {},
   "source": [
    "Mediante el comando `apt update` podremos actualizar las últimas versiones de los paquetes que tenemos en nuestro repositorio"
   ]
  },
  {
   "cell_type": "markdown",
   "metadata": {},
   "source": [
    "### Actualizar los paquetes"
   ]
  },
  {
   "cell_type": "markdown",
   "metadata": {},
   "source": [
    "Mediante el comando `apt upgrade` podremos actualizar los programas que tengamos instalados y de los cuales antes hayamos actualizado su repositorio"
   ]
  },
  {
   "cell_type": "markdown",
   "metadata": {},
   "source": [
    "### Actualizar el kernell"
   ]
  },
  {
   "cell_type": "markdown",
   "metadata": {},
   "source": [
    "Si usamos el comando `apt dist-upgrade` se actualizarán también paquetes del kernell\n",
    "\n",
    " > Cuidado!: Actualizar paquetes del kernell puede conllevar a que algunos paquetes se rompan\n",
    "\n",
    " > Recordatorio: Al actualizar paquetes del kernell, para que hagan efecto es necesario reiniciar el ordendador"
   ]
  },
  {
   "cell_type": "markdown",
   "metadata": {},
   "source": [
    "### Búsqueda de paquetes"
   ]
  },
  {
   "cell_type": "markdown",
   "metadata": {},
   "source": [
    "Con el comando `apt search <paquete>` podemos encontrar paquetes"
   ]
  },
  {
   "cell_type": "code",
   "execution_count": 5,
   "metadata": {},
   "outputs": [
    {
     "name": "stdout",
     "output_type": "stream",
     "text": [
      "Ordenando...\n",
      "Buscar en todo el texto...\n",
      "anacrolix-dms/focal 1.1.0-1 amd64\n",
      "  Go UPnP DLNA Digital Media Server with basic video transcoding\n",
      "\n",
      "cubemap/focal 1.4.3-1build1 amd64\n",
      "  scalable video reflector, designed to be used with VLC\n",
      "\n",
      "dvblast/focal 3.4-1 amd64\n",
      "  Simple and powerful dvb-streaming application\n",
      "\t ...\n",
      "\n",
      "x264/focal 2:0.155.2917+git0a84d98-2 amd64\n",
      "  video encoder for the H.264/MPEG-4 AVC standard\n",
      "\n",
      "\n"
     ]
    }
   ],
   "source": [
    "terminal(\"apt search vlc\", max_lines_output=10)"
   ]
  },
  {
   "cell_type": "markdown",
   "metadata": {},
   "source": [
    "### Listado de paquetes instalados"
   ]
  },
  {
   "cell_type": "markdown",
   "metadata": {},
   "source": [
    "Para ver qué paquetes tenemos instalados podemos usar `dpkg -l`, esto nos dará una lista de todos los paquetes que tenemos instalados en nuestro ordenador"
   ]
  },
  {
   "cell_type": "code",
   "execution_count": 6,
   "metadata": {},
   "outputs": [
    {
     "name": "stdout",
     "output_type": "stream",
     "text": [
      "Deseado=desconocido(U)/Instalar/eliminaR/Purgar/retener(H)\n",
      "| Estado=No/Inst/ficheros-Conf/desempaqUetado/medio-conF/medio-inst(H)/espera-disparo(W)/pendienTe-disparo\n",
      "|/ Err?=(ninguno)/requiere-Reinst (Estado,Err: mayúsc.=malo)\n",
      "||/ Nombre                                     Versión                               Arquitectura Descripción\n",
      "+++-==========================================-=====================================-============-===========================================================================================================================================================================================================================================================================================================================================================================================================================================\n",
      "ii  accountsservice                            0.6.55-0ubuntu12~20.04.5              amd64        query and manipulate user account information\n",
      "ii  acl                                        2.2.53-6                              amd64        access control list - utilities\n",
      "ii  acpi-support                               0.143                                 amd64        scripts for handling many ACPI events\n",
      "ii  acpid                                      1:2.0.32-1ubuntu1                     amd64        Advanced Configuration and Power Interface event daemon\n",
      "ii  adduser                                    3.118ubuntu2                          all          add and remove users and groups\n",
      "\t ...\n",
      "ii  zip                                        3.0-11build1                          amd64        Archiver for .zip files\n",
      "ii  zlib1g:amd64                               1:1.2.11.dfsg-2ubuntu1.5              amd64        compression library - runtime\n",
      "ii  zlib1g:i386                                1:1.2.11.dfsg-2ubuntu1.5              i386         compression library - runtime\n",
      "ii  zlib1g-dev:amd64                           1:1.2.11.dfsg-2ubuntu1.5              amd64        compression library - development\n",
      "\n"
     ]
    }
   ],
   "source": [
    "terminal(\"dpkg -l\", max_lines_output=10)"
   ]
  },
  {
   "cell_type": "markdown",
   "metadata": {},
   "source": [
    "Si queremos buscar si tenemos un paquete instalado, podemos usar el comando anterior y crear un `pipe` y buscar el nombre del paquete con `grep`"
   ]
  },
  {
   "cell_type": "code",
   "execution_count": 7,
   "metadata": {},
   "outputs": [
    {
     "name": "stdout",
     "output_type": "stream",
     "text": [
      "Deseado=desconocido(U)/Instalar/eliminaR/Purgar/retener(H)\n",
      "| Estado=No/Inst/ficheros-Conf/desempaqUetado/medio-conF/medio-inst(H)/espera-disparo(W)/pendienTe-disparo\n",
      "|/ Err?=(ninguno)/requiere-Reinst (Estado,Err: mayúsc.=malo)\n",
      "||/ Nombre         Versión      Arquitectura Descripción\n",
      "+++-==============-============-============-=================================\n",
      "ii  grep           3.4-1        amd64        GNU grep, egrep and fgrep\n",
      "ii  vlc            3.0.9.2-1    amd64        multimedia player and streamer\n",
      "\n"
     ]
    }
   ],
   "source": [
    "terminal(\"dpkg -l | grep vlc\")"
   ]
  },
  {
   "cell_type": "markdown",
   "metadata": {},
   "source": [
    "### Instalar paquetes descargados y no de repositorios"
   ]
  },
  {
   "cell_type": "markdown",
   "metadata": {},
   "source": [
    "En algunas ocasiones, cuando te quieres instalar un programa, lo que hacen es que te dan un archivo `.deb`, por lo que para instalarlo usamos el comando `dpkg -i <file.deb>`"
   ]
  },
  {
   "cell_type": "markdown",
   "metadata": {},
   "source": [
    "## Administrador de usuarios"
   ]
  },
  {
   "cell_type": "markdown",
   "metadata": {},
   "source": [
    "### Comandos básicos"
   ]
  },
  {
   "cell_type": "markdown",
   "metadata": {},
   "source": [
    "Mediante el comando `id` puedo ver qué usuario soy"
   ]
  },
  {
   "cell_type": "code",
   "execution_count": 8,
   "metadata": {},
   "outputs": [
    {
     "name": "stdout",
     "output_type": "stream",
     "text": [
      "uid=1000(wallabot) gid=1000(wallabot) grupos=1000(wallabot),4(adm),24(cdrom),27(sudo),30(dip),46(plugdev),120(lpadmin),131(lxd),132(sambashare),998(docker)\n"
     ]
    }
   ],
   "source": [
    "!id"
   ]
  },
  {
   "cell_type": "markdown",
   "metadata": {},
   "source": [
    "Con este comando puedo ver mi `id`, la id de grupo `gid` y los grupos a los que pertenezco. Las distriubuciones basadas en debian a los usuarios se les da una id a partir de la 1000, misntras que al usuario root se le asigna la `id` 0"
   ]
  },
  {
   "cell_type": "markdown",
   "metadata": {},
   "source": [
    "Otro comando para saber qué usuario soy es `whoami`"
   ]
  },
  {
   "cell_type": "code",
   "execution_count": 9,
   "metadata": {},
   "outputs": [
    {
     "name": "stdout",
     "output_type": "stream",
     "text": [
      "wallabot\n"
     ]
    }
   ],
   "source": [
    "!whoami"
   ]
  },
  {
   "cell_type": "markdown",
   "metadata": {},
   "source": [
    "La información de los usuarios está en el archivo `/etc/passwd`"
   ]
  },
  {
   "cell_type": "code",
   "execution_count": 11,
   "metadata": {},
   "outputs": [
    {
     "name": "stdout",
     "output_type": "stream",
     "text": [
      "root:x:0:0:root:/root:/bin/bash\n",
      "daemon:x:1:1:daemon:/usr/sbin:/usr/sbin/nologin\n",
      "bin:x:2:2:bin:/bin:/usr/sbin/nologin\n",
      "sys:x:3:3:sys:/dev:/usr/sbin/nologin\n",
      "sync:x:4:65534:sync:/bin:/bin/sync\n",
      "games:x:5:60:games:/usr/games:/usr/sbin/nologin\n",
      "man:x:6:12:man:/var/cache/man:/usr/sbin/nologin\n",
      "lp:x:7:7:lp:/var/spool/lpd:/usr/sbin/nologin\n",
      "mail:x:8:8:mail:/var/mail:/usr/sbin/nologin\n",
      "news:x:9:9:news:/var/spool/news:/usr/sbin/nologin\n",
      "\t ...\n",
      "sshd:x:126:65534::/run/sshd:/usr/sbin/nologin\n",
      "nvidia-persistenced:x:127:135:NVIDIA Persistence Daemon,,,:/nonexistent:/usr/sbin/nologin\n",
      "fwupd-refresh:x:128:136:fwupd-refresh user,,,:/run/systemd:/usr/sbin/nologin\n",
      "glances:x:129:137::/var/lib/glances:/usr/sbin/nologin\n",
      "\n"
     ]
    }
   ],
   "source": [
    "terminal(\"cat /etc/passwd\", max_lines_output=10)"
   ]
  },
  {
   "cell_type": "markdown",
   "metadata": {},
   "source": [
    "Si quiero cambiar la contraseña de un usuario hay que usar el comando `passwd <user> <password`, si no se especifica el usuario, se cogerá lo que devuelva el comando `whoami`"
   ]
  },
  {
   "cell_type": "markdown",
   "metadata": {},
   "source": [
    "### Creando y manejando usuarios"
   ]
  },
  {
   "cell_type": "markdown",
   "metadata": {},
   "source": [
    "Para crear un nuevo usuario se usa el comando `useradd <user name>`, vamos a crear un nuevso usuario"
   ]
  },
  {
   "cell_type": "markdown",
   "metadata": {},
   "source": [
    "``` bash\n",
    "$ sudo useradd usertest\n",
    "```"
   ]
  },
  {
   "cell_type": "markdown",
   "metadata": {},
   "source": [
    "Vamos a ver si está en el archivo con todos los usuarios"
   ]
  },
  {
   "cell_type": "code",
   "execution_count": 1,
   "metadata": {},
   "outputs": [
    {
     "name": "stdout",
     "output_type": "stream",
     "text": [
      "usertest1:x:1001:1001::/home/usertest1:/bin/sh\n"
     ]
    }
   ],
   "source": [
    "!cat /etc/passwd | grep usertest"
   ]
  },
  {
   "cell_type": "markdown",
   "metadata": {},
   "source": [
    "Como vemos se ha creado el usuario con la `id` 1001, la siguiente a la que tenía mi usuario wallabot, que era el último"
   ]
  },
  {
   "cell_type": "markdown",
   "metadata": {},
   "source": [
    "Sin embargo al crear este usuario no nos ha pedido que le asignemos una contraseña. Además, si miramos qué hay dentro de `home`"
   ]
  },
  {
   "cell_type": "code",
   "execution_count": 2,
   "metadata": {},
   "outputs": [
    {
     "name": "stdout",
     "output_type": "stream",
     "text": [
      "wallabot\n"
     ]
    }
   ],
   "source": [
    "!ls /home"
   ]
  },
  {
   "cell_type": "markdown",
   "metadata": {},
   "source": [
    "Solo está la carpeta del usuario `wallabot`, pero no la del usuario `test1`"
   ]
  },
  {
   "cell_type": "markdown",
   "metadata": {},
   "source": [
    "Por lo que vamos a ver otro comando para crear usuarios que sí pide una contraseña y sí crea una carpeta en `home`. Este comando es `adduser`"
   ]
  },
  {
   "cell_type": "markdown",
   "metadata": {},
   "source": [
    "``` bash\n",
    "$ sudo adduser usertest2\n",
    "[sudo] contraseña para wallabot: \n",
    "Añadiendo el usuario `usertest2' ...\n",
    "Añadiendo el nuevo grupo `usertest2' (1002) ...\n",
    "Añadiendo el nuevo usuario `usertest2' (1002) con grupo `usertest2' ...\n",
    "Creando el directorio personal `/home/usertest2' ...\n",
    "Copiando los ficheros desde `/etc/skel' ...\n",
    "Nueva contraseña: \n",
    "Vuelva a escribir la nueva contraseña: \n",
    "passwd: contraseña actualizada correctamente\n",
    "Cambiando la información de usuario para usertest2\n",
    "Introduzca el nuevo valor, o presione INTRO para el predeterminado\n",
    "\tNombre completo []: \n",
    "\tNúmero de habitación []: \n",
    "\tTeléfono del trabajo []: \n",
    "\tTeléfono de casa []: \n",
    "\tOtro []: \n",
    "¿Es correcta la información? [S/n] s\n",
    "```"
   ]
  },
  {
   "cell_type": "markdown",
   "metadata": {},
   "source": [
    "Si miramos en el archivo con todos los usuarios"
   ]
  },
  {
   "cell_type": "code",
   "execution_count": 3,
   "metadata": {},
   "outputs": [
    {
     "name": "stdout",
     "output_type": "stream",
     "text": [
      "usertest1:x:1001:1001::/home/usertest1:/bin/sh\n",
      "usertest2:x:1002:1002:,,,:/home/usertest2:/bin/bash\n"
     ]
    }
   ],
   "source": [
    "!cat /etc/passwd | grep usertest"
   ]
  },
  {
   "cell_type": "markdown",
   "metadata": {},
   "source": [
    "Vemos que se ha creado el usuario `usertest2`"
   ]
  },
  {
   "cell_type": "code",
   "execution_count": 4,
   "metadata": {},
   "outputs": [
    {
     "name": "stdout",
     "output_type": "stream",
     "text": [
      "usertest2  wallabot\n"
     ]
    }
   ],
   "source": [
    "!ls /home"
   ]
  },
  {
   "cell_type": "markdown",
   "metadata": {},
   "source": [
    "Y vemos que se ha creado una carpeta para el en `home`"
   ]
  },
  {
   "cell_type": "markdown",
   "metadata": {},
   "source": [
    "Para borrar un usuario hay que usar el comando `userdel <user name>`"
   ]
  },
  {
   "cell_type": "markdown",
   "metadata": {},
   "source": [
    "``` bash\n",
    "$ sudo userdel usertest1\n",
    "$ sudo userdel usertest2\n",
    "```"
   ]
  },
  {
   "cell_type": "markdown",
   "metadata": {},
   "source": [
    "Vamos a ver si están en el archivo con todos los usuarios"
   ]
  },
  {
   "cell_type": "code",
   "execution_count": 5,
   "metadata": {},
   "outputs": [],
   "source": [
    "!cat /etc/passwd | grep usertest"
   ]
  },
  {
   "cell_type": "markdown",
   "metadata": {},
   "source": [
    "Vemos que ya no aparece nada, de hecho vemos el final de ese archivo"
   ]
  },
  {
   "cell_type": "code",
   "execution_count": 17,
   "metadata": {},
   "outputs": [
    {
     "name": "stdout",
     "output_type": "stream",
     "text": [
      "geoclue:x:122:127::/var/lib/geoclue:/usr/sbin/nologin\n",
      "pulse:x:123:128:PulseAudio daemon,,,:/var/run/pulse:/usr/sbin/nologin\n",
      "gnome-initial-setup:x:124:65534::/run/gnome-initial-setup/:/bin/false\n",
      "gdm:x:125:130:Gnome Display Manager:/var/lib/gdm3:/bin/false\n",
      "wallabot:x:1000:1000:wallabot,,,:/home/wallabot:/bin/bash\n",
      "systemd-coredump:x:999:999:systemd Core Dumper:/:/usr/sbin/nologin\n",
      "sshd:x:126:65534::/run/sshd:/usr/sbin/nologin\n",
      "nvidia-persistenced:x:127:135:NVIDIA Persistence Daemon,,,:/nonexistent:/usr/sbin/nologin\n",
      "fwupd-refresh:x:128:136:fwupd-refresh user,,,:/run/systemd:/usr/sbin/nologin\n",
      "glances:x:129:137::/var/lib/glances:/usr/sbin/nologin\n"
     ]
    }
   ],
   "source": [
    "!tail /etc/passwd"
   ]
  },
  {
   "cell_type": "markdown",
   "metadata": {},
   "source": [
    "## Hacer un usuario administrador"
   ]
  },
  {
   "cell_type": "markdown",
   "metadata": {},
   "source": [
    "Primero vamos a crear un usuario nuevo, que al inicio no va a ser administrador"
   ]
  },
  {
   "cell_type": "markdown",
   "metadata": {},
   "source": [
    "``` bash\n",
    "$ sudo adduser noadmin\n",
    "Añadiendo el usuario `noadmin' ...\n",
    "Añadiendo el nuevo grupo `noadmin' (1001) ...\n",
    "Añadiendo el nuevo usuario `noadmin' (1001) con grupo `noadmin' ...\n",
    "Creando el directorio personal `/home/noadmin' ...\n",
    "Copiando los ficheros desde `/etc/skel' ...\n",
    "Nueva contraseña: \n",
    "Vuelva a escribir la nueva contraseña: \n",
    "passwd: contraseña actualizada correctamente\n",
    "Cambiando la información de usuario para noadmin\n",
    "Introduzca el nuevo valor, o presione INTRO para el predeterminado\n",
    "\tNombre completo []: \n",
    "\tNúmero de habitación []: \n",
    "\tTeléfono del trabajo []: \n",
    "\tTeléfono de casa []: \n",
    "\tOtro []: \n",
    "¿Es correcta la información? [S/n] s\n",
    "```"
   ]
  },
  {
   "cell_type": "markdown",
   "metadata": {},
   "source": [
    "Vamos a ver a qué grupos está el usuario que acabamos de crear, para ello usamos el comando `groups <user>`"
   ]
  },
  {
   "cell_type": "code",
   "execution_count": 6,
   "metadata": {},
   "outputs": [
    {
     "name": "stdout",
     "output_type": "stream",
     "text": [
      "noadmin : noadmin\n"
     ]
    }
   ],
   "source": [
    "!groups noadmin"
   ]
  },
  {
   "cell_type": "markdown",
   "metadata": {},
   "source": [
    "Como vemos solo está en el grupo `noadmin`, que es un grupo que se creó al crear el usuario"
   ]
  },
  {
   "cell_type": "markdown",
   "metadata": {},
   "source": [
    "Vamos a ver a qué grupos pertenece mi usuario"
   ]
  },
  {
   "cell_type": "code",
   "execution_count": 7,
   "metadata": {},
   "outputs": [
    {
     "name": "stdout",
     "output_type": "stream",
     "text": [
      "wallabot : wallabot adm cdrom sudo dip plugdev lpadmin lxd sambashare docker\n"
     ]
    }
   ],
   "source": [
    "!groups wallabot"
   ]
  },
  {
   "cell_type": "markdown",
   "metadata": {},
   "source": [
    "Como vemos mi usuario pertenece a varios grupos más, entre ellos a uno llamado `sudo`. Los usuarios que tengan acceso a este grupo tienen poderes de administrador, por lo que para que el nuevo usuario que hemos creado tenga estos poderes hay que añadirle al grupo `sudo`"
   ]
  },
  {
   "cell_type": "markdown",
   "metadata": {},
   "source": [
    "Para añadir a un usuario a un grupo hay dos maneras, una es con el comando `gpasswd -a <user> <group>`"
   ]
  },
  {
   "cell_type": "markdown",
   "metadata": {},
   "source": [
    "``` bash\n",
    "$ sudo gpasswd -a noadmin sudo \n",
    "Añadiendo al usuario noadmin al grupo sudo\n",
    "```"
   ]
  },
  {
   "cell_type": "markdown",
   "metadata": {},
   "source": [
    "Vemos ahora a qué grupos pertenece el usuario `noadmin`"
   ]
  },
  {
   "cell_type": "code",
   "execution_count": 8,
   "metadata": {},
   "outputs": [
    {
     "name": "stdout",
     "output_type": "stream",
     "text": [
      "noadmin : noadmin sudo\n"
     ]
    }
   ],
   "source": [
    "!groups noadmin"
   ]
  },
  {
   "cell_type": "markdown",
   "metadata": {},
   "source": [
    "Como vemos ya pertenece al grupo sudo, por lo que ya tendría poderes de administrador"
   ]
  },
  {
   "cell_type": "markdown",
   "metadata": {},
   "source": [
    "Eliminamos al usuario `noadmin` del grupo `sudo` con el comando `gpasswd -d <user> <group>`"
   ]
  },
  {
   "cell_type": "markdown",
   "metadata": {},
   "source": [
    "``` bash\n",
    "$ sudo gpasswd -d noadmin sudo \n",
    "Eliminando al usuario noadmin del grupo sudo\n",
    "```"
   ]
  },
  {
   "cell_type": "markdown",
   "metadata": {},
   "source": [
    "Vemos que `noadmin` ya no pertenece al grupo `sudo`"
   ]
  },
  {
   "cell_type": "code",
   "execution_count": 10,
   "metadata": {},
   "outputs": [
    {
     "name": "stdout",
     "output_type": "stream",
     "text": [
      "noadmin : noadmin\n"
     ]
    }
   ],
   "source": [
    "!groups noadmin"
   ]
  },
  {
   "cell_type": "markdown",
   "metadata": {},
   "source": [
    "El segundo comando para añadir a un usuario a un grupo es `usermod -aG <group> <user>`"
   ]
  },
  {
   "cell_type": "markdown",
   "metadata": {},
   "source": [
    "``` bash\n",
    "$ sudo usermod -aG sudo noadmin\n",
    "```"
   ]
  },
  {
   "cell_type": "markdown",
   "metadata": {},
   "source": [
    "Volvemos a ver a qué grupos pertenece el usuario `noadmin`"
   ]
  },
  {
   "cell_type": "code",
   "execution_count": 11,
   "metadata": {},
   "outputs": [
    {
     "name": "stdout",
     "output_type": "stream",
     "text": [
      "noadmin : noadmin sudo\n"
     ]
    }
   ],
   "source": [
    "!groups noadmin"
   ]
  },
  {
   "cell_type": "markdown",
   "metadata": {},
   "source": [
    "Sacamos al usuario `noadmin` del grupo `sudo` y lo borramos"
   ]
  },
  {
   "cell_type": "markdown",
   "metadata": {},
   "source": [
    "``` bash\n",
    "$ sudo gpasswd -d noadmin sudo \n",
    "Eliminando al usuario noadmin del grupo sudo\n",
    "```"
   ]
  },
  {
   "cell_type": "markdown",
   "metadata": {},
   "source": [
    "``` bash\n",
    "$ sudo userdel noadmin\n",
    "```"
   ]
  },
  {
   "cell_type": "markdown",
   "metadata": {},
   "source": [
    "## Historial de comandos"
   ]
  },
  {
   "cell_type": "markdown",
   "metadata": {},
   "source": [
    "### `history`"
   ]
  },
  {
   "cell_type": "markdown",
   "metadata": {},
   "source": [
    "Si en la terminal introducimos el comando `history` vemos un historial de los comandos utilizados"
   ]
  },
  {
   "cell_type": "markdown",
   "metadata": {},
   "source": [
    "``` bash\n",
    "$ history\n",
    " 1009  docker build . nvidia/cuda\n",
    " 1010  docker build --help\n",
    " 1011  docker build --build-arg nvidia/cuda\n",
    " 1012  docker build --build-arg [nvidia/cuda]\n",
    " 1013  cd ../docker/\n",
    " 1014  docker ps -a\n",
    " 1015  docker rm boring_wescoff \n",
    " 1016  docker compose up -d\n",
    " 1017  docker compose exec deepstream61 bash\n",
    " 1018  cd ..\n",
    "    ....\n",
    " 1996  ps\n",
    " 1997  ps aux\n",
    " 1998  camerasIP.sh \n",
    " 1999  sudo su\n",
    " 2000  sudo useradd usertest\n",
    " 2001  sudo userdel usertest\n",
    " 2002  sudo useradd usertest\n",
    " 2003  sudo userdel usertest\n",
    " 2004  sudo su\n",
    " 2005  sudo apt install history\n",
    " 2006  history\n",
    " 2007  clear\n",
    " 2008  history\n",
    "```"
   ]
  },
  {
   "cell_type": "markdown",
   "metadata": {},
   "source": [
    "Si queremos ejecutar uno de los comandos del historial, lo hacemos mediante `!<num command>`, por ejemplo, si quiero volver a ejecutar el comando 1996"
   ]
  },
  {
   "cell_type": "markdown",
   "metadata": {},
   "source": [
    "``` bash\n",
    "$ !1996\n",
    "ps\n",
    "    PID TTY          TIME CMD\n",
    "   6610 pts/0    00:00:00 bash\n",
    "  20826 pts/0    00:00:00 ps\n",
    "```"
   ]
  },
  {
   "cell_type": "markdown",
   "metadata": {},
   "source": [
    "### `reverse-i-search`"
   ]
  },
  {
   "cell_type": "markdown",
   "metadata": {},
   "source": [
    "Una manera más refinada de buscar en el historial es introducir `CTRL`+`r`, al hacer esto aparecerá el siguiente mensaje en la consola\n",
    "\n",
    "``` bash\n",
    "(reverse-i-search)`':\n",
    "```\n",
    "\n",
    "De manera que según vayas escribiendo, irán apareciendo comandos que coincidan con lo que has introducido, por ejemplo, si introduzco `if` me aparece la última vez que utilicé `ifconfig`\n",
    "\n",
    "Si volvemos a introducir `CTRL`+`r` iran apareciendo concidencias más antiguas"
   ]
  },
  {
   "cell_type": "markdown",
   "metadata": {},
   "source": [
    "### Eliminar comandos del historial"
   ]
  },
  {
   "cell_type": "markdown",
   "metadata": {},
   "source": [
    "Hay comandos como `ls`, `cd`, `pwd` que no nos aporta mucho que estén en el historial, por lo que se puede configurar para que no se guarden en el historial. Para hacerlo modificamos el archivo `~/.bashrc` y añadimos la línea `HISTIGNORE=\"pwd:ls:cd\"`"
   ]
  },
  {
   "cell_type": "markdown",
   "metadata": {},
   "source": [
    "## Seguridad"
   ]
  },
  {
   "cell_type": "markdown",
   "metadata": {},
   "source": [
    "### Fireward `ufw`"
   ]
  },
  {
   "cell_type": "markdown",
   "metadata": {},
   "source": [
    "Ubunut viene con el fireward `ufw` instalado, pero para comprobarlo usamos el siguiente comando"
   ]
  },
  {
   "cell_type": "markdown",
   "metadata": {},
   "source": [
    "``` bash\n",
    "$ sudo ufw status \n",
    "Estado: inactivo\n",
    "```"
   ]
  },
  {
   "cell_type": "markdown",
   "metadata": {},
   "source": [
    "Como vemos por defecto está inactivo, por lo que vamos a crear un conjunto de reglas. Por ejemplo vamos a empezar abriendo el puerto 22 (SSH), para ello usamos el comando `sudo allow <port> comment \"<coment>\"`, con el que abrimos un puerto y añadimos un comentario"
   ]
  },
  {
   "cell_type": "markdown",
   "metadata": {},
   "source": [
    "``` bash\n",
    "$ sudo ufw allow 22 comment 'ssh'\n",
    "Regla añadida\n",
    "Regla añadida (v6)\n",
    "```"
   ]
  },
  {
   "cell_type": "markdown",
   "metadata": {},
   "source": [
    "Como vemos ha abierto el puerto 22 para IPv4 e IPv6. Vamos ahora a activar `ufW` con el comando `ufw enable`"
   ]
  },
  {
   "cell_type": "markdown",
   "metadata": {},
   "source": [
    "``` bash\n",
    "$ sudo ufw enable \n",
    "El cortafuegos está activo y habilitado en el arranque del sistema\n",
    "```"
   ]
  },
  {
   "cell_type": "markdown",
   "metadata": {},
   "source": [
    "Si queremos ver las reglas que tenemos en el fireward usamos el comando `ufw status`"
   ]
  },
  {
   "cell_type": "markdown",
   "metadata": {},
   "source": [
    "```bash\n",
    "$ sudo ufw status\n",
    "Estado: activo\n",
    "\n",
    "Hasta                      Acción      Desde\n",
    "-----                      ------      -----\n",
    "22                         ALLOW       Anywhere                   # ssh\n",
    "22 (v6)                    ALLOW       Anywhere (v6)              # ssh\n",
    "```"
   ]
  },
  {
   "cell_type": "markdown",
   "metadata": {},
   "source": [
    "Tambien podemos decirle que nos muestre las reglas numeradas con el comando `ufw status numbered`"
   ]
  },
  {
   "cell_type": "markdown",
   "metadata": {},
   "source": [
    "``` bash\n",
    "$ sudo ufw status numbered \n",
    "Estado: activo\n",
    "\n",
    "     Hasta                      Acción      Desde\n",
    "     -----                      ------      -----\n",
    "[ 1] 22                         ALLOW IN    Anywhere                   # ssh\n",
    "[ 2] 22 (v6)                    ALLOW IN    Anywhere (v6)              # ssh\n",
    "```"
   ]
  },
  {
   "cell_type": "markdown",
   "metadata": {},
   "source": [
    "Como las tenemos numeradas podemos eliminar una mediante el comando `ufw delete <rule number>`, por lo que para borrar la regla para IPv6 hacemos"
   ]
  },
  {
   "cell_type": "markdown",
   "metadata": {},
   "source": [
    "``` bash\n",
    "$ sudo ufw delete 2\n",
    "Borrando:\n",
    " allow 22 comment 'ssh'\n",
    "¿Continuar con la operación (s|n)? s\n",
    "Regla eliminada (v6)\n",
    "```"
   ]
  },
  {
   "cell_type": "markdown",
   "metadata": {},
   "source": [
    "Volvemos a ver el estado"
   ]
  },
  {
   "cell_type": "markdown",
   "metadata": {},
   "source": [
    "``` bash\n",
    "$ sudo ufw status numbered \n",
    "Estado: activo\n",
    "\n",
    "     Hasta                      Acción      Desde\n",
    "     -----                      ------      -----\n",
    "[ 1] 22                         ALLOW IN    Anywhere                   # ssh\n",
    "```"
   ]
  },
  {
   "cell_type": "markdown",
   "metadata": {},
   "source": [
    "Vemos que efectivamente se ha eliminado la regla número 2"
   ]
  },
  {
   "cell_type": "markdown",
   "metadata": {},
   "source": [
    "Si queremos habilitar la conexión ssh desde una sola IP usamos el flag `from <IP>`"
   ]
  },
  {
   "cell_type": "markdown",
   "metadata": {},
   "source": [
    "``` bash\n",
    "$ sudo ufw  allow from 192.168.1.103 proto tcp to any port 22 comment 'ssh ip'\n",
    "Regla añadida\n",
    "```"
   ]
  },
  {
   "cell_type": "markdown",
   "metadata": {},
   "source": [
    "Volvemos a comprobar las reglas"
   ]
  },
  {
   "cell_type": "markdown",
   "metadata": {},
   "source": [
    "``` bash\n",
    "$ sudo ufw status numbered \n",
    "Estado: activo\n",
    "\n",
    "     Hasta                      Acción      Desde\n",
    "     -----                      ------      -----\n",
    "[ 1] 22                         ALLOW IN    Anywhere                   # ssh\n",
    "[ 2] 22/tcp                     ALLOW IN    192.168.1.103              # ssh ip\n",
    "```"
   ]
  },
  {
   "cell_type": "markdown",
   "metadata": {},
   "source": [
    "Si queremos borrar todas las reglas usamos el comando `reset`"
   ]
  },
  {
   "cell_type": "markdown",
   "metadata": {},
   "source": [
    "``` bash\n",
    "$ sudo ufw reset \n",
    "Reiniciando todas las reglas a sus valores predeterminados instalados.\n",
    "¿Continuar con la operación (s|n)? s\n",
    "Respaldando «user.rules» en «/etc/ufw/user.rules.20221205_171730»\n",
    "Respaldando «before.rules» en «/etc/ufw/before.rules.20221205_171730»\n",
    "Respaldando «after.rules» en «/etc/ufw/after.rules.20221205_171730»\n",
    "Respaldando «user6.rules» en «/etc/ufw/user6.rules.20221205_171730»\n",
    "Respaldando «before6.rules» en «/etc/ufw/before6.rules.20221205_171730»\n",
    "Respaldando «after6.rules» en «/etc/ufw/after6.rules.20221205_171730»\n",
    "```"
   ]
  },
  {
   "cell_type": "markdown",
   "metadata": {},
   "source": [
    "Volvemos a comprobar el estado"
   ]
  },
  {
   "cell_type": "markdown",
   "metadata": {},
   "source": [
    "``` bash\n",
    "$ sudo ufw status numbered \n",
    "Estado: inactivo\n",
    "```"
   ]
  },
  {
   "cell_type": "markdown",
   "metadata": {},
   "source": [
    "Vemos que ya no hay ninguna regla"
   ]
  },
  {
   "cell_type": "markdown",
   "metadata": {},
   "source": [
    "Para desactivar el fireward usamos el comando `ufw disable`"
   ]
  },
  {
   "cell_type": "markdown",
   "metadata": {},
   "source": [
    "``` bash\n",
    "$ sudo ufw disable \n",
    "El cortafuegos está detenido y deshabilitado en el arranque del sistema\n",
    "```"
   ]
  },
  {
   "cell_type": "markdown",
   "metadata": {},
   "source": [
    "Volvemos a comprobar el estado"
   ]
  },
  {
   "cell_type": "markdown",
   "metadata": {},
   "source": [
    "``` bash\n",
    "$ sudo ufw status\n",
    "Estado: inactivo\n",
    "```"
   ]
  },
  {
   "cell_type": "markdown",
   "metadata": {},
   "source": [
    "### Auditoría de seguridad con `Lynis`"
   ]
  },
  {
   "cell_type": "markdown",
   "metadata": {},
   "source": [
    "Para instalar Lynis tienes que usar el comando `sudo apt install lynis`"
   ]
  },
  {
   "cell_type": "markdown",
   "metadata": {},
   "source": [
    "Para hacer una auditoría de tu sistema hay que usar el comando `lynis audit system`. Esto comienza a hacer un escaneo de todo el sistema y te lo reporta\n",
    "\n",
    " > No voy a mostrar el resultado del escaneo de mi sistema para no mostrar en internet mis vulnerabilidades"
   ]
  },
  {
   "cell_type": "markdown",
   "metadata": {},
   "source": [
    "## Atajos de teclado"
   ]
  },
  {
   "cell_type": "markdown",
   "metadata": {},
   "source": [
    "A continuación se muestran unos cuantos atajos de tecládo útiles en el uso de la terminal\n",
    " * Ctrl+a: lleva el cursor al inicio de la línea de comandos.\n",
    " * Ctrl+e: lleva el cursor al final de la línea de comandos.\n",
    " * Ctrl+l: limpia la terminal, similar a lo que hace el comando `clear`.\n",
    " * Ctrl+u: limpia desde la posición del cursor hasta el inicio de la línea. Si se está al final limpia la línea entera.\n",
    " * Ctrl+k: limpia desde la posición del cursor hasta el final de la línea. Si se está al inicio limpia la línea entera.\n",
    " * Ctrl+h: hace lo mismo que la tecla backspace, borra el caracter inmediatamente anterior a la posición del cursor.\n",
    " * Ctrl+w: borra la palabra inmediatamente antes del cursor.\n",
    " * Alt+d o Esc+d: borra la palabra siguiente después del cursor.\n",
    " * Ctrl+p: establece la línea de comandos con el último comando introducido.\n",
    " * Ctrl+r: inicia la búsqueda de comandos usados anteriormente, tecleando parte de un comando usos anteriores que hayamos realizado incluyendo las opciones y parámetros. Hecha una búsqueda pulsando de nuevo la combinación de teclas encontraremos coincidencias anteriores.\n",
    " * Ctrl+c: termina el proceso que se esté ejecutando, útil para recuperar el control del sistema.\n",
    " * Ctrl+d: sale de la terminal, similar al comando exit.\n",
    " * Ctrl+z: suspende la ejecución del proceso que se está ejecutando y lo pone en segundo plano, con el comando fg podremos volver a continuar su ejecución.\n",
    " * Ctrl+t: intercambia la posición de los dos caracteres antes del cursor, útil para corregir malos tecleos.\n",
    " * Esc+t: intercambia la posición de las dos palabras antes del cursor, útil para corregir malos tecleos.\n",
    " * Alt+f: mueve el cursor al inicio de la palabra siguiente de la línea, lo mismo que Ctrl+right en la terminal de GNOME.\n",
    " * Alt+b: mueve el cursor al inicio de la palabra anterior de la línea, lo mismo que Ctrl+left en la terminal de GNOME.\n",
    " * Tab: autocompleta comandos o rutas de directorios o archivos.\n",
    " * Ctrl+Shift+f: abre un diálogo para hacer una búsqueda de texto en la salida de la terminal.\n",
    " * Ctrl+Shift+g: busca la siguiente ocurrencia de la búsqueda previa en la terminal.\n",
    " * Ctrl+Shift+h: busca la anterior ocurrencia de la búsqueda previa en la terminal.\n",
    " * Ctrl+Shift+c: copia el texto seleccionado de la terminal al portapapeles.\n",
    " * Ctrl+Shift+v: pega el texto del portapapeles en la línea de comandos.\n",
    " * Up: establece en la línea de comandos el comando anterior del historial, igual que Ctrl+p.\n",
    " * Down: establece en la línea de comandos el siguiente comando del historial.\n",
    " * Left Mouse: selecciona líneas de texto de la terminal.\n",
    " * Ctrl+Left Mouse: selecciona bloques de texto de la terminal."
   ]
  },
  {
   "cell_type": "markdown",
   "metadata": {},
   "source": [
    "## Fricadas"
   ]
  },
  {
   "cell_type": "markdown",
   "metadata": {},
   "source": [
    "### Cowsay"
   ]
  },
  {
   "cell_type": "markdown",
   "metadata": {},
   "source": [
    "Hay un comando llamado `cowsay` al que le pasas como parámetro un texto y te dibuja una vaca diciendo ese texto\n",
    "\n",
    "Es posible que no lo tengas instalado, por lo que para instalarlo tienes que introducir el comando\n",
    "\n",
    "``` bash\n",
    "sudo apt install cowsay\n",
    "```"
   ]
  },
  {
   "cell_type": "code",
   "execution_count": 12,
   "metadata": {},
   "outputs": [
    {
     "name": "stdout",
     "output_type": "stream",
     "text": [
      " __________\n",
      "< MaximoFN >\n",
      " ----------\n",
      "        \\   ^__^\n",
      "         \\  (oo)\\_______\n",
      "            (__)\\       )\\/\\\n",
      "                ||----w |\n",
      "                ||     ||\n",
      "\n"
     ]
    }
   ],
   "source": [
    "terminal(\"cowsay MaximoFN\")"
   ]
  },
  {
   "cell_type": "markdown",
   "metadata": {},
   "source": [
    "Si le añades el flag `-f dragon` quien lo dice es un dragón"
   ]
  },
  {
   "cell_type": "code",
   "execution_count": 15,
   "metadata": {},
   "outputs": [
    {
     "name": "stdout",
     "output_type": "stream",
     "text": [
      " __________\n",
      "< MaximoFN >\n",
      " ----------\n",
      "      \\                    / \\  //\\\n",
      "       \\    |\\___/|      /   \\//  \\\\\n",
      "            /0  0  \\__  /    //  | \\ \\    \n",
      "           /     /  \\/_/    //   |  \\  \\  \n",
      "           @_^_@'/   \\/_   //    |   \\   \\ \n",
      "           //_^_/     \\/_ //     |    \\    \\\n",
      "        ( //) |        \\///      |     \\     \\\n",
      "      ( / /) _|_ /   )  //       |      \\     _\\\n",
      "    ( // /) '/,_ _ _/  ( ; -.    |    _ _\\.-~        .-~~~^-.\n",
      "  (( / / )) ,-{        _      `-.|.-~-.           .~         `.\n",
      " (( // / ))  '/\\      /                 ~-. _ .-~      .-~^-.  \\\n",
      " (( /// ))      `.   {            }                   /      \\  \\\n",
      "  (( / ))     .----~-.\\        \\-'                 .~         \\  `. \\^-.\n",
      "             ///.----..>        \\             _ -~             `.  ^-`  ^-_\n",
      "               ///-._ _ _ _ _ _ _}^ - - - - ~                     ~-- ,.-~\n",
      "                                                                  /.-~\n",
      "\n"
     ]
    }
   ],
   "source": [
    "terminal(\"cowsay -f dragon MaximoFN\")"
   ]
  },
  {
   "cell_type": "code",
   "execution_count": 14,
   "metadata": {},
   "outputs": [
    {
     "name": "stdout",
     "output_type": "stream",
     "text": [
      " __________\n",
      "< MaximoFN >\n",
      " ----------\n",
      "                       \\                    ^    /^\n",
      "                        \\                  / \\  // \\\n",
      "                         \\   |\\___/|      /   \\//  .\\\n",
      "                          \\  /O  O  \\__  /    //  | \\ \\           *----*\n",
      "                            /     /  \\/_/    //   |  \\  \\          \\   |\n",
      "                            @___@`    \\/_   //    |   \\   \\         \\/\\ \\\n",
      "                           0/0/|       \\/_ //     |    \\    \\         \\  \\\n",
      "                       0/0/0/0/|        \\///      |     \\     \\       |  |\n",
      "                    0/0/0/0/0/_|_ /   (  //       |      \\     _\\     |  /\n",
      "                 0/0/0/0/0/0/`/,_ _ _/  ) ; -.    |    _ _\\.-~       /   /\n",
      "                             ,-}        _      *-.|.-~-.           .~    ~\n",
      "            \\     \\__/        `/\\      /                 ~-. _ .-~      /\n",
      "             \\____(oo)           *.   }            {                   /\n",
      "             (    (--)          .----~-.\\        \\-`                 .~\n",
      "             //__\\\\  \\__ Ack!   ///.----..<        \\             _ -~\n",
      "            //    \\\\               ///-._ _ _ _ _ _ _{^ - - - - ~\n",
      "\n"
     ]
    }
   ],
   "source": [
    "terminal(\"cowsay -f dragon-and-cow MaximoFN\")"
   ]
  },
  {
   "cell_type": "markdown",
   "metadata": {},
   "source": [
    "## Limpieza"
   ]
  },
  {
   "cell_type": "markdown",
   "metadata": {},
   "source": [
    "Como se ha creado la carpeta `prueba`, la borramos para dejar todo como lo encontramos"
   ]
  },
  {
   "cell_type": "code",
   "execution_count": 1,
   "metadata": {},
   "outputs": [],
   "source": [
    "!rm -r prueba"
   ]
  }
 ],
 "metadata": {
  "kernelspec": {
   "display_name": "Python 3.7.6 ('base')",
   "language": "python",
   "name": "python3"
  },
  "language_info": {
   "codemirror_mode": {
    "name": "ipython",
    "version": 3
   },
   "file_extension": ".py",
   "mimetype": "text/x-python",
   "name": "python",
   "nbconvert_exporter": "python",
   "pygments_lexer": "ipython3",
   "version": "3.7.6"
  },
  "orig_nbformat": 4,
  "vscode": {
   "interpreter": {
    "hash": "d5745ab6aba164e1152437c779991855725055592b9f2bdb41a4825db7168d26"
   }
  }
 },
 "nbformat": 4,
 "nbformat_minor": 2
}
