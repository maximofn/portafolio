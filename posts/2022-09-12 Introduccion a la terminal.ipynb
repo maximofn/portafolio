{
 "cells": [
  {
   "cell_type": "markdown",
   "metadata": {},
   "source": [
    "# Introducción a la terminal"
   ]
  },
  {
   "cell_type": "markdown",
   "metadata": {},
   "source": [
    "## Formato del post"
   ]
  },
  {
   "cell_type": "markdown",
   "metadata": {},
   "source": [
    "Para no tener que estar poniendo imágenes de la consola en cada acción que haga, he creado la siguiente función que recibe el comando de la terminal que queramos ejecutar y devuelve la salida que nos daría la terminal.\n",
    "\n",
    "Unas veces usaré esta función, y otras usaré `!` antes de cada comando, que en notebooks quiere decir que vas a ejecutar un comando de la terminal"
   ]
  },
  {
   "cell_type": "code",
   "execution_count": 1,
   "metadata": {},
   "outputs": [],
   "source": [
    "import subprocess\n",
    "import os\n",
    "\n",
    "last_directory = ''\n",
    "\n",
    "def terminal(command, max_lines_output=None):\n",
    "    global last_directory\n",
    "    debug = False\n",
    "    str = command.split()\n",
    "\n",
    "    # Check if there are \" or ' characters\n",
    "    for i in range(len(str)):\n",
    "        if debug:   print(f\"i = {i}, str[i] = {str[i]}\")\n",
    "        if len(str[i]) > 0:\n",
    "            if str[i][0] == '\"' or str[i][0] == \"'\":\n",
    "                for j in range(i+1,len(str)):\n",
    "                    if debug:   print(f\"\\t j = {j}, str[j] = {str[j]}\")\n",
    "                    if str[j][-1] == '\"' or str[j][-1] == \"'\":\n",
    "                        for k in range(i+1,j+1):\n",
    "                            if debug:   print(f\"\\t\\t k = {k}, str[i] = {str[i]}, str[k] = {str[k]}\")\n",
    "                            str[i] = str[i] + \" \" + str[k]\n",
    "                            if debug:   print(f\"\\t\\t k = {k}, str[i] = {str[i]}, str[k] = {str[k]}\")\n",
    "                        str[j:] = [\"\"]\n",
    "                        str[i] = str[i].replace('\"','')\n",
    "    \n",
    "    # Remove empty strings\n",
    "    str = [x for x in str if x != \"\"]\n",
    "    if debug:\n",
    "        print(str)\n",
    "        return\n",
    "    if str[0] == \"cd\":\n",
    "        last_dir = os.getcwd()\n",
    "        if len(str) == 1:\n",
    "            os.chdir('/home/wallabot')\n",
    "        else:\n",
    "            if str[1] == \"-\":\n",
    "                os.chdir(last_directory)\n",
    "            else:\n",
    "                os.chdir(str[1])\n",
    "        last_directory = last_dir\n",
    "    else:\n",
    "        result = subprocess.run(str, stdout=subprocess.PIPE).stdout.decode('utf-8')\n",
    "        if max_lines_output is not None:\n",
    "            result_split = result.split('\\n')\n",
    "            print('\\n'.join(result_split[:max_lines_output]))\n",
    "            print(\"\\t ...\")\n",
    "            print('\\n'.join(result_split[-5:]))\n",
    "        else:\n",
    "            print(result)"
   ]
  },
  {
   "cell_type": "markdown",
   "metadata": {},
   "source": [
    "## Primeros pasos"
   ]
  },
  {
   "cell_type": "markdown",
   "metadata": {},
   "source": [
    "### Primeros comandos para moverse por la terminal"
   ]
  },
  {
   "cell_type": "markdown",
   "metadata": {},
   "source": [
    "El primer comando que vamos a ver es `ls` (`list directory`) que sirve para listar todos los archivos de la carpeta en la que estemos"
   ]
  },
  {
   "cell_type": "code",
   "execution_count": 2,
   "metadata": {},
   "outputs": [
    {
     "name": "stdout",
     "output_type": "stream",
     "text": [
      "2021-02-11-Introduccion-a-Python.ipynb\n",
      "2021-04-23-Calculo-matricial-con-Numpy.ipynb\n",
      "2021-06-15-Manejo-de-datos-con-Pandas.ipynb\n",
      "2022-09-12 Introduccion a la terminal.ipynb\n",
      "command-line-cheat-sheet.pdf\n",
      "CSS.ipynb\n",
      "Docker.html\n",
      "Docker.ipynb\n",
      "Expresiones regulares.html\n",
      "Expresiones regulares.ipynb\n",
      "html_files\n",
      "html.ipynb\n",
      "introduccion_python\n",
      "movies.csv\n",
      "movies.dat\n",
      "notebooks_translated\n",
      "__pycache__\n",
      "test.html\n",
      "test.ipynb\n",
      "\n"
     ]
    }
   ],
   "source": [
    "terminal(\"ls\")"
   ]
  },
  {
   "cell_type": "markdown",
   "metadata": {},
   "source": [
    "El segundo comando será `cd` (`change directory`) que nos permite cambiar el directorio"
   ]
  },
  {
   "cell_type": "code",
   "execution_count": 3,
   "metadata": {},
   "outputs": [],
   "source": [
    "terminal('cd /home/wallabot/Documentos/')"
   ]
  },
  {
   "cell_type": "markdown",
   "metadata": {},
   "source": [
    "Si ahora volvemos a usar `ls` para ver los archivos que tenemos, vemos que cambian"
   ]
  },
  {
   "cell_type": "code",
   "execution_count": 4,
   "metadata": {},
   "outputs": [
    {
     "name": "stdout",
     "output_type": "stream",
     "text": [
      "aprendiendo-git.pdf\n",
      "balena-etcher-electron-1.7.9-linux-x64\n",
      "camerasIP\n",
      "Documentacion\n",
      "jetsonNano\n",
      "kaggle\n",
      "Libros\n",
      "nerf\n",
      "prueba.txt\n",
      "pytorch\n",
      "wallabot\n",
      "web\n",
      "\n"
     ]
    }
   ],
   "source": [
    "terminal('ls')"
   ]
  },
  {
   "cell_type": "markdown",
   "metadata": {},
   "source": [
    "Si a `cd`, en vez de darle el directorio al que nos queremos mover, le damos el caracter `-`, volverá al anterior directorio donde estaba"
   ]
  },
  {
   "cell_type": "code",
   "execution_count": 5,
   "metadata": {},
   "outputs": [],
   "source": [
    "terminal('cd -')"
   ]
  },
  {
   "cell_type": "markdown",
   "metadata": {},
   "source": [
    "Los comandos normalmente pueden recibir opciones (`flags`), que se introducen con el caracter `-`, por ejemplo veamos `ls -l` que nos devuelve la lista de archivos del directorio en el que estamos, pero con más información"
   ]
  },
  {
   "cell_type": "code",
   "execution_count": 6,
   "metadata": {},
   "outputs": [
    {
     "name": "stdout",
     "output_type": "stream",
     "text": [
      "total 14364\n",
      "-rw-rw-r-- 1 wallabot wallabot   285898 nov 12 02:07 2021-02-11-Introduccion-a-Python.ipynb\n",
      "-rw-rw-r-- 1 wallabot wallabot    78450 nov 13 00:10 2021-04-23-Calculo-matricial-con-Numpy.ipynb\n",
      "-rw-rw-r-- 1 wallabot wallabot   484213 nov 13 00:44 2021-06-15-Manejo-de-datos-con-Pandas.ipynb\n",
      "-rw-rw-r-- 1 wallabot wallabot 10739185 nov 28 14:47 2022-09-12 Introduccion a la terminal.ipynb\n",
      "-rw-rw-r-- 1 wallabot wallabot   119471 oct  3 16:13 command-line-cheat-sheet.pdf\n",
      "-rw-rw-r-- 1 wallabot wallabot     2660 sep 18 03:32 CSS.ipynb\n",
      "-rw-rw-r-- 1 wallabot wallabot   699225 nov 27 04:16 Docker.html\n",
      "-rw-rw-r-- 1 wallabot wallabot   509125 sep 22 16:48 Docker.ipynb\n",
      "-rw-rw-r-- 1 wallabot wallabot   156193 nov 27 04:21 Expresiones regulares.html\n",
      "-rw-rw-r-- 1 wallabot wallabot    53094 oct  2 04:57 Expresiones regulares.ipynb\n",
      "drwxrwxr-x 2 wallabot wallabot     4096 nov 28 14:39 html_files\n",
      "-rw-rw-r-- 1 wallabot wallabot    14775 sep 18 03:29 html.ipynb\n",
      "drwxrwxr-x 3 wallabot wallabot     4096 nov 12 01:51 introduccion_python\n",
      "-rw-rw-r-- 1 wallabot wallabot   446172 oct  2 04:39 movies.csv\n",
      "-rw-rw-r-- 1 wallabot wallabot   522197 oct  2 04:33 movies.dat\n",
      "drwxrwxr-x 2 wallabot wallabot     4096 nov 28 14:39 notebooks_translated\n",
      "drwxrwxr-x 2 wallabot wallabot     4096 ago 27 03:25 __pycache__\n",
      "-rw-rw-r-- 1 wallabot wallabot   292936 nov  9 01:46 test.html\n",
      "-rw-rw-r-- 1 wallabot wallabot   260227 nov  9 01:13 test.ipynb\n",
      "\n"
     ]
    }
   ],
   "source": [
    "terminal('ls -l')"
   ]
  },
  {
   "cell_type": "markdown",
   "metadata": {},
   "source": [
    "Como vemos, tenemos cuantos bytes ocupa cada archivo, pero cuando tenemos archivos que ocupan mucho esto no es muy fácil de leer, así que podemos añadir la opción `h` (`human`) que nos da información más fácil de leer"
   ]
  },
  {
   "cell_type": "code",
   "execution_count": 7,
   "metadata": {},
   "outputs": [
    {
     "name": "stdout",
     "output_type": "stream",
     "text": [
      "total 15M\n",
      "-rw-rw-r-- 1 wallabot wallabot 280K nov 12 02:07 2021-02-11-Introduccion-a-Python.ipynb\n",
      "-rw-rw-r-- 1 wallabot wallabot  77K nov 13 00:10 2021-04-23-Calculo-matricial-con-Numpy.ipynb\n",
      "-rw-rw-r-- 1 wallabot wallabot 473K nov 13 00:44 2021-06-15-Manejo-de-datos-con-Pandas.ipynb\n",
      "-rw-rw-r-- 1 wallabot wallabot  11M nov 28 14:47 2022-09-12 Introduccion a la terminal.ipynb\n",
      "-rw-rw-r-- 1 wallabot wallabot 117K oct  3 16:13 command-line-cheat-sheet.pdf\n",
      "-rw-rw-r-- 1 wallabot wallabot 2,6K sep 18 03:32 CSS.ipynb\n",
      "-rw-rw-r-- 1 wallabot wallabot 683K nov 27 04:16 Docker.html\n",
      "-rw-rw-r-- 1 wallabot wallabot 498K sep 22 16:48 Docker.ipynb\n",
      "-rw-rw-r-- 1 wallabot wallabot 153K nov 27 04:21 Expresiones regulares.html\n",
      "-rw-rw-r-- 1 wallabot wallabot  52K oct  2 04:57 Expresiones regulares.ipynb\n",
      "drwxrwxr-x 2 wallabot wallabot 4,0K nov 28 14:39 html_files\n",
      "-rw-rw-r-- 1 wallabot wallabot  15K sep 18 03:29 html.ipynb\n",
      "drwxrwxr-x 3 wallabot wallabot 4,0K nov 12 01:51 introduccion_python\n",
      "-rw-rw-r-- 1 wallabot wallabot 436K oct  2 04:39 movies.csv\n",
      "-rw-rw-r-- 1 wallabot wallabot 510K oct  2 04:33 movies.dat\n",
      "drwxrwxr-x 2 wallabot wallabot 4,0K nov 28 14:39 notebooks_translated\n",
      "drwxrwxr-x 2 wallabot wallabot 4,0K ago 27 03:25 __pycache__\n",
      "-rw-rw-r-- 1 wallabot wallabot 287K nov  9 01:46 test.html\n",
      "-rw-rw-r-- 1 wallabot wallabot 255K nov  9 01:13 test.ipynb\n",
      "\n"
     ]
    }
   ],
   "source": [
    "terminal('ls -lh')"
   ]
  },
  {
   "cell_type": "markdown",
   "metadata": {},
   "source": [
    "Si queremos ver los archivos ocultos podemos usar la opción `a`, que nos mosntrará todos los archivos de un directorio"
   ]
  },
  {
   "cell_type": "code",
   "execution_count": 8,
   "metadata": {},
   "outputs": [
    {
     "name": "stdout",
     "output_type": "stream",
     "text": [
      "total 15M\n",
      "drwxrwxr-x 6 wallabot wallabot 4,0K nov 28 14:40 .\n",
      "drwxrwxr-x 5 wallabot wallabot 4,0K oct  2 03:10 ..\n",
      "-rw-rw-r-- 1 wallabot wallabot 280K nov 12 02:07 2021-02-11-Introduccion-a-Python.ipynb\n",
      "-rw-rw-r-- 1 wallabot wallabot  77K nov 13 00:10 2021-04-23-Calculo-matricial-con-Numpy.ipynb\n",
      "-rw-rw-r-- 1 wallabot wallabot 473K nov 13 00:44 2021-06-15-Manejo-de-datos-con-Pandas.ipynb\n",
      "-rw-rw-r-- 1 wallabot wallabot  11M nov 28 14:47 2022-09-12 Introduccion a la terminal.ipynb\n",
      "-rw-rw-r-- 1 wallabot wallabot 117K oct  3 16:13 command-line-cheat-sheet.pdf\n",
      "-rw-rw-r-- 1 wallabot wallabot 2,6K sep 18 03:32 CSS.ipynb\n",
      "-rw-rw-r-- 1 wallabot wallabot 683K nov 27 04:16 Docker.html\n",
      "-rw-rw-r-- 1 wallabot wallabot 498K sep 22 16:48 Docker.ipynb\n",
      "-rw-rw-r-- 1 wallabot wallabot 153K nov 27 04:21 Expresiones regulares.html\n",
      "-rw-rw-r-- 1 wallabot wallabot  52K oct  2 04:57 Expresiones regulares.ipynb\n",
      "drwxrwxr-x 2 wallabot wallabot 4,0K nov 28 14:39 html_files\n",
      "-rw-rw-r-- 1 wallabot wallabot  15K sep 18 03:29 html.ipynb\n",
      "drwxrwxr-x 3 wallabot wallabot 4,0K nov 12 01:51 introduccion_python\n",
      "-rw-rw-r-- 1 wallabot wallabot 436K oct  2 04:39 movies.csv\n",
      "-rw-rw-r-- 1 wallabot wallabot 510K oct  2 04:33 movies.dat\n",
      "drwxrwxr-x 2 wallabot wallabot 4,0K nov 28 14:39 notebooks_translated\n",
      "drwxrwxr-x 2 wallabot wallabot 4,0K ago 27 03:25 __pycache__\n",
      "-rw-rw-r-- 1 wallabot wallabot 287K nov  9 01:46 test.html\n",
      "-rw-rw-r-- 1 wallabot wallabot 255K nov  9 01:13 test.ipynb\n",
      "\n"
     ]
    }
   ],
   "source": [
    "terminal('ls -lha')"
   ]
  },
  {
   "cell_type": "markdown",
   "metadata": {},
   "source": [
    "Si lo que queremos es que nos los ordene por tamaño, podemo usar la opción `S`"
   ]
  },
  {
   "cell_type": "code",
   "execution_count": 9,
   "metadata": {},
   "outputs": [
    {
     "name": "stdout",
     "output_type": "stream",
     "text": [
      "total 15M\n",
      "-rw-rw-r-- 1 wallabot wallabot  11M nov 28 14:47 2022-09-12 Introduccion a la terminal.ipynb\n",
      "-rw-rw-r-- 1 wallabot wallabot 683K nov 27 04:16 Docker.html\n",
      "-rw-rw-r-- 1 wallabot wallabot 510K oct  2 04:33 movies.dat\n",
      "-rw-rw-r-- 1 wallabot wallabot 498K sep 22 16:48 Docker.ipynb\n",
      "-rw-rw-r-- 1 wallabot wallabot 473K nov 13 00:44 2021-06-15-Manejo-de-datos-con-Pandas.ipynb\n",
      "-rw-rw-r-- 1 wallabot wallabot 436K oct  2 04:39 movies.csv\n",
      "-rw-rw-r-- 1 wallabot wallabot 287K nov  9 01:46 test.html\n",
      "-rw-rw-r-- 1 wallabot wallabot 280K nov 12 02:07 2021-02-11-Introduccion-a-Python.ipynb\n",
      "-rw-rw-r-- 1 wallabot wallabot 255K nov  9 01:13 test.ipynb\n",
      "-rw-rw-r-- 1 wallabot wallabot 153K nov 27 04:21 Expresiones regulares.html\n",
      "-rw-rw-r-- 1 wallabot wallabot 117K oct  3 16:13 command-line-cheat-sheet.pdf\n",
      "-rw-rw-r-- 1 wallabot wallabot  77K nov 13 00:10 2021-04-23-Calculo-matricial-con-Numpy.ipynb\n",
      "-rw-rw-r-- 1 wallabot wallabot  52K oct  2 04:57 Expresiones regulares.ipynb\n",
      "-rw-rw-r-- 1 wallabot wallabot  15K sep 18 03:29 html.ipynb\n",
      "drwxrwxr-x 2 wallabot wallabot 4,0K nov 28 14:39 html_files\n",
      "drwxrwxr-x 3 wallabot wallabot 4,0K nov 12 01:51 introduccion_python\n",
      "drwxrwxr-x 2 wallabot wallabot 4,0K nov 28 14:39 notebooks_translated\n",
      "drwxrwxr-x 2 wallabot wallabot 4,0K ago 27 03:25 __pycache__\n",
      "-rw-rw-r-- 1 wallabot wallabot 2,6K sep 18 03:32 CSS.ipynb\n",
      "\n"
     ]
    }
   ],
   "source": [
    "terminal('ls -lhS')"
   ]
  },
  {
   "cell_type": "markdown",
   "metadata": {},
   "source": [
    "Si queremos que nos muestre los archivos ordenados alfabéticamente, pero al revés, debemos usar la opción `r`"
   ]
  },
  {
   "cell_type": "code",
   "execution_count": 10,
   "metadata": {},
   "outputs": [
    {
     "name": "stdout",
     "output_type": "stream",
     "text": [
      "total 15M\n",
      "-rw-rw-r-- 1 wallabot wallabot 255K nov  9 01:13 test.ipynb\n",
      "-rw-rw-r-- 1 wallabot wallabot 287K nov  9 01:46 test.html\n",
      "drwxrwxr-x 2 wallabot wallabot 4,0K ago 27 03:25 __pycache__\n",
      "drwxrwxr-x 2 wallabot wallabot 4,0K nov 28 14:39 notebooks_translated\n",
      "-rw-rw-r-- 1 wallabot wallabot 510K oct  2 04:33 movies.dat\n",
      "-rw-rw-r-- 1 wallabot wallabot 436K oct  2 04:39 movies.csv\n",
      "drwxrwxr-x 3 wallabot wallabot 4,0K nov 12 01:51 introduccion_python\n",
      "-rw-rw-r-- 1 wallabot wallabot  15K sep 18 03:29 html.ipynb\n",
      "drwxrwxr-x 2 wallabot wallabot 4,0K nov 28 14:39 html_files\n",
      "-rw-rw-r-- 1 wallabot wallabot  52K oct  2 04:57 Expresiones regulares.ipynb\n",
      "-rw-rw-r-- 1 wallabot wallabot 153K nov 27 04:21 Expresiones regulares.html\n",
      "-rw-rw-r-- 1 wallabot wallabot 498K sep 22 16:48 Docker.ipynb\n",
      "-rw-rw-r-- 1 wallabot wallabot 683K nov 27 04:16 Docker.html\n",
      "-rw-rw-r-- 1 wallabot wallabot 2,6K sep 18 03:32 CSS.ipynb\n",
      "-rw-rw-r-- 1 wallabot wallabot 117K oct  3 16:13 command-line-cheat-sheet.pdf\n",
      "-rw-rw-r-- 1 wallabot wallabot  11M nov 28 14:47 2022-09-12 Introduccion a la terminal.ipynb\n",
      "-rw-rw-r-- 1 wallabot wallabot 473K nov 13 00:44 2021-06-15-Manejo-de-datos-con-Pandas.ipynb\n",
      "-rw-rw-r-- 1 wallabot wallabot  77K nov 13 00:10 2021-04-23-Calculo-matricial-con-Numpy.ipynb\n",
      "-rw-rw-r-- 1 wallabot wallabot 280K nov 12 02:07 2021-02-11-Introduccion-a-Python.ipynb\n",
      "\n"
     ]
    }
   ],
   "source": [
    "terminal('ls -lhr')"
   ]
  },
  {
   "cell_type": "markdown",
   "metadata": {},
   "source": [
    "Si nos quisiéramos mover a la `home` con introducir solamente `cd` en la terminal nos llevará"
   ]
  },
  {
   "cell_type": "code",
   "execution_count": 11,
   "metadata": {},
   "outputs": [],
   "source": [
    "terminal('cd')"
   ]
  },
  {
   "cell_type": "markdown",
   "metadata": {},
   "source": [
    "Para obtener el directorio en el que estamos podemos usar `pwd` (`print working directory`)"
   ]
  },
  {
   "cell_type": "code",
   "execution_count": 12,
   "metadata": {},
   "outputs": [
    {
     "name": "stdout",
     "output_type": "stream",
     "text": [
      "/home/wallabot\n",
      "\n"
     ]
    }
   ],
   "source": [
    "terminal('pwd')"
   ]
  },
  {
   "cell_type": "markdown",
   "metadata": {},
   "source": [
    "Podemos movernos mediante el comando `cd` mediante rutas relativas y mediante rutas absolutas. Por ejemplo, vamos a movernos a un directorio mediante una ruta absoluta"
   ]
  },
  {
   "cell_type": "code",
   "execution_count": 13,
   "metadata": {},
   "outputs": [],
   "source": [
    "terminal('cd /home/wallabot/Documentos/')"
   ]
  },
  {
   "cell_type": "code",
   "execution_count": 14,
   "metadata": {},
   "outputs": [
    {
     "name": "stdout",
     "output_type": "stream",
     "text": [
      "/home/wallabot/Documentos\n",
      "\n"
     ]
    }
   ],
   "source": [
    "terminal('pwd')"
   ]
  },
  {
   "cell_type": "code",
   "execution_count": 15,
   "metadata": {},
   "outputs": [
    {
     "name": "stdout",
     "output_type": "stream",
     "text": [
      "aprendiendo-git.pdf\n",
      "balena-etcher-electron-1.7.9-linux-x64\n",
      "camerasIP\n",
      "Documentacion\n",
      "jetsonNano\n",
      "kaggle\n",
      "Libros\n",
      "nerf\n",
      "prueba.txt\n",
      "pytorch\n",
      "wallabot\n",
      "web\n",
      "\n"
     ]
    }
   ],
   "source": [
    "terminal('ls')"
   ]
  },
  {
   "cell_type": "markdown",
   "metadata": {},
   "source": [
    "Podemos movernos mediante rutas relativas si solo ponemos la dirección a partir del punto en el que nos encontramos"
   ]
  },
  {
   "cell_type": "code",
   "execution_count": 16,
   "metadata": {},
   "outputs": [],
   "source": [
    "terminal('cd web')"
   ]
  },
  {
   "cell_type": "code",
   "execution_count": 17,
   "metadata": {},
   "outputs": [
    {
     "name": "stdout",
     "output_type": "stream",
     "text": [
      "/home/wallabot/Documentos/web\n",
      "\n"
     ]
    }
   ],
   "source": [
    "terminal('pwd')"
   ]
  },
  {
   "cell_type": "markdown",
   "metadata": {},
   "source": [
    "También mediante rutas relativas podemos ir un directorio arriba mediante `..`"
   ]
  },
  {
   "cell_type": "code",
   "execution_count": 18,
   "metadata": {},
   "outputs": [],
   "source": [
    "terminal('cd ..')"
   ]
  },
  {
   "cell_type": "code",
   "execution_count": 19,
   "metadata": {},
   "outputs": [
    {
     "name": "stdout",
     "output_type": "stream",
     "text": [
      "/home/wallabot/Documentos\n",
      "\n"
     ]
    }
   ],
   "source": [
    "terminal('pwd')"
   ]
  },
  {
   "cell_type": "markdown",
   "metadata": {},
   "source": [
    "Si en vez de `..` ponemos `.` nos estamos refiriendo al directorio en el que nos encontramos ahora mismo, es decir, si ponemos `cd .` no nos moveremos, ya que le estamos diciendo a la terminal que vaya al directorio en el que estamos"
   ]
  },
  {
   "cell_type": "code",
   "execution_count": 20,
   "metadata": {},
   "outputs": [],
   "source": [
    "terminal('cd .')"
   ]
  },
  {
   "cell_type": "code",
   "execution_count": 21,
   "metadata": {},
   "outputs": [
    {
     "name": "stdout",
     "output_type": "stream",
     "text": [
      "/home/wallabot/Documentos\n",
      "\n"
     ]
    }
   ],
   "source": [
    "terminal('pwd')"
   ]
  },
  {
   "cell_type": "markdown",
   "metadata": {},
   "source": [
    "Vamos a movernos a una ruta en la que tenga archivos para mostrar el siguiente comando"
   ]
  },
  {
   "cell_type": "code",
   "execution_count": 22,
   "metadata": {},
   "outputs": [],
   "source": [
    "terminal('cd web/portafolio/posts/')"
   ]
  },
  {
   "cell_type": "code",
   "execution_count": 23,
   "metadata": {},
   "outputs": [
    {
     "name": "stdout",
     "output_type": "stream",
     "text": [
      "2021-02-11-Introduccion-a-Python.ipynb\n",
      "2021-04-23-Calculo-matricial-con-Numpy.ipynb\n",
      "2021-06-15-Manejo-de-datos-con-Pandas.ipynb\n",
      "2022-09-12 Introduccion a la terminal.ipynb\n",
      "command-line-cheat-sheet.pdf\n",
      "CSS.ipynb\n",
      "Docker.html\n",
      "Docker.ipynb\n",
      "Expresiones regulares.html\n",
      "Expresiones regulares.ipynb\n",
      "html_files\n",
      "html.ipynb\n",
      "introduccion_python\n",
      "movies.csv\n",
      "movies.dat\n",
      "notebooks_translated\n",
      "__pycache__\n",
      "test.html\n",
      "test.ipynb\n",
      "\n"
     ]
    }
   ],
   "source": [
    "terminal('ls')"
   ]
  },
  {
   "cell_type": "markdown",
   "metadata": {},
   "source": [
    "Si yo no sé qué tipo de archivo es alguno en particular, mediante el comando `file` puedo obtener una descripción"
   ]
  },
  {
   "cell_type": "code",
   "execution_count": 24,
   "metadata": {},
   "outputs": [
    {
     "name": "stdout",
     "output_type": "stream",
     "text": [
      "2021-02-11-Introduccion-a-Python.ipynb: UTF-8 Unicode text, with very long lines\n",
      "\n"
     ]
    }
   ],
   "source": [
    "terminal('file 2021-02-11-Introduccion-a-Python.ipynb')"
   ]
  },
  {
   "cell_type": "markdown",
   "metadata": {},
   "source": [
    "### Manipulando archivos y directorios"
   ]
  },
  {
   "cell_type": "markdown",
   "metadata": {},
   "source": [
    "Movámonos primero a la home"
   ]
  },
  {
   "cell_type": "code",
   "execution_count": 25,
   "metadata": {},
   "outputs": [],
   "source": [
    "terminal('cd /home/wallabot/Documentos/')"
   ]
  },
  {
   "cell_type": "markdown",
   "metadata": {},
   "source": [
    "Podemos ver toda la estructura de la carpeta en la que estamos mediante el comando `tree`"
   ]
  },
  {
   "cell_type": "code",
   "execution_count": 39,
   "metadata": {},
   "outputs": [
    {
     "name": "stdout",
     "output_type": "stream",
     "text": [
      ".\n",
      "├── aprendiendo-git.pdf\n",
      "├── balena-etcher-electron-1.7.9-linux-x64\n",
      "│   └── balenaEtcher-1.7.9-x64.AppImage\n",
      "├── camerasIP\n",
      "│   ├── camerasIP.py\n",
      "│   ├── camerasIP.sh\n",
      "│   ├── config.py\n",
      "│   ├── __pycache__\n",
      "│   │   ├── config.cpython-38.pyc\n",
      "│   │   └── config.cpython-39.pyc\n",
      "│   └── README.md\n",
      "├── Documentacion\n",
      "│   ├── Curriculum Vitae (5).pdf\n",
      "│   ├── Firma Pris.PNG\n",
      "│   └── Firma.png\n",
      "├── jetsonNano\n",
      "│   ├── apuntes-Jetson-Nano\n",
      "│   │   ├── 01 Cambiar el Swap a 4 GB.ipynb\n",
      "│   │   ├── 02 Conectar por SSH a través del USB.ipynb\n",
      "\t ...\n",
      "        ├── upload_page.py\n",
      "        └── utils.py\n",
      "\n",
      "861 directories, 119656 files\n",
      "\n"
     ]
    }
   ],
   "source": [
    "terminal('tree', 20)"
   ]
  },
  {
   "cell_type": "markdown",
   "metadata": {},
   "source": [
    "Pero a la salida tenemos demasiadas líneas, y esto es porque `tree` es un comando que muestra todos los archivos desde la ruta en la que estamos, por lo que es un poco dificil de leer. Sin embargo, con la opción `L` podemos indicarle en cuantos niveles queremos que profundice"
   ]
  },
  {
   "cell_type": "code",
   "execution_count": 26,
   "metadata": {},
   "outputs": [
    {
     "name": "stdout",
     "output_type": "stream",
     "text": [
      ".\n",
      "├── aprendiendo-git.pdf\n",
      "├── balena-etcher-electron-1.7.9-linux-x64\n",
      "│   └── balenaEtcher-1.7.9-x64.AppImage\n",
      "├── camerasIP\n",
      "│   ├── camerasIP.py\n",
      "│   ├── camerasIP.sh\n",
      "│   ├── config.py\n",
      "│   ├── __pycache__\n",
      "│   └── README.md\n",
      "├── Documentacion\n",
      "│   ├── Curriculum Vitae (5).pdf\n",
      "│   ├── Firma Pris.PNG\n",
      "│   └── Firma.png\n",
      "├── jetsonNano\n",
      "│   ├── apuntes-Jetson-Nano\n",
      "│   ├── deepstream_apps\n",
      "│   ├── deepstream_nano\n",
      "│   └── Digital zoom\n",
      "├── kaggle\n",
      "│   └── hubmap\n",
      "├── Libros\n",
      "│   └── aprendiendo-git.pdf\n",
      "├── nerf\n",
      "│   └── instant-ngp\n",
      "├── prueba.txt\n",
      "├── pytorch\n",
      "│   └── Curso_Pytorch\n",
      "├── wallabot\n",
      "│   ├── Microfono - Blue Yeti X\n",
      "│   ├── placa base - Asus prime x570-p\n",
      "│   └── Silla - Corsair T3 Rush\n",
      "└── web\n",
      "    ├── jupyter-to-html\n",
      "    ├── jupyter-translator\n",
      "    ├── portafolio\n",
      "    └── wordpress_api_rest\n",
      "\n",
      "25 directories, 11 files\n",
      "\n"
     ]
    }
   ],
   "source": [
    "terminal('tree -L 2')"
   ]
  },
  {
   "cell_type": "markdown",
   "metadata": {},
   "source": [
    "Podemos ver que muestra que hay 25 directorios y 11 archivos, mientras que antes indicaba 51946 directorios, 507633 archivos"
   ]
  },
  {
   "cell_type": "markdown",
   "metadata": {},
   "source": [
    "Si queremos crear un nuevo directorio podemos usar el comando `mkdir` (`make directory`) y un nombre"
   ]
  },
  {
   "cell_type": "code",
   "execution_count": 40,
   "metadata": {},
   "outputs": [],
   "source": [
    "terminal(\"cd /home/wallabot/Documentos/web/portafolio/posts/\")"
   ]
  },
  {
   "cell_type": "code",
   "execution_count": 41,
   "metadata": {},
   "outputs": [
    {
     "name": "stdout",
     "output_type": "stream",
     "text": [
      "\n"
     ]
    }
   ],
   "source": [
    "terminal('mkdir prueba')"
   ]
  },
  {
   "cell_type": "code",
   "execution_count": 42,
   "metadata": {},
   "outputs": [
    {
     "name": "stdout",
     "output_type": "stream",
     "text": [
      "2021-02-11-Introduccion-a-Python.ipynb\n",
      "2021-04-23-Calculo-matricial-con-Numpy.ipynb\n",
      "2021-06-15-Manejo-de-datos-con-Pandas.ipynb\n",
      "2022-09-12 Introduccion a la terminal.ipynb\n",
      "command-line-cheat-sheet.pdf\n",
      "CSS.ipynb\n",
      "Docker.html\n",
      "Docker.ipynb\n",
      "Expresiones regulares.html\n",
      "Expresiones regulares.ipynb\n",
      "html_files\n",
      "html.ipynb\n",
      "introduccion_python\n",
      "movies.csv\n",
      "movies.dat\n",
      "notebooks_translated\n",
      "prueba\n",
      "__pycache__\n",
      "test.html\n",
      "test.ipynb\n",
      "\n"
     ]
    }
   ],
   "source": [
    "terminal('ls')"
   ]
  },
  {
   "cell_type": "markdown",
   "metadata": {},
   "source": [
    "Si lo que queremos es crear un directorio con espacios en el nombre, tenemos que poner el nombre entre comillas"
   ]
  },
  {
   "cell_type": "code",
   "execution_count": 43,
   "metadata": {},
   "outputs": [
    {
     "name": "stdout",
     "output_type": "stream",
     "text": [
      "\n"
     ]
    }
   ],
   "source": [
    "terminal('mkdir \"directorio prueba\"')"
   ]
  },
  {
   "cell_type": "code",
   "execution_count": 44,
   "metadata": {},
   "outputs": [
    {
     "name": "stdout",
     "output_type": "stream",
     "text": [
      "2021-02-11-Introduccion-a-Python.ipynb\n",
      "2021-04-23-Calculo-matricial-con-Numpy.ipynb\n",
      "2021-06-15-Manejo-de-datos-con-Pandas.ipynb\n",
      "2022-09-12 Introduccion a la terminal.ipynb\n",
      "command-line-cheat-sheet.pdf\n",
      "CSS.ipynb\n",
      "directorio prueba\n",
      "Docker.html\n",
      "Docker.ipynb\n",
      "Expresiones regulares.html\n",
      "Expresiones regulares.ipynb\n",
      "html_files\n",
      "html.ipynb\n",
      "introduccion_python\n",
      "movies.csv\n",
      "movies.dat\n",
      "notebooks_translated\n",
      "prueba\n",
      "__pycache__\n",
      "test.html\n",
      "test.ipynb\n",
      "\n"
     ]
    }
   ],
   "source": [
    "terminal('ls')"
   ]
  },
  {
   "cell_type": "markdown",
   "metadata": {},
   "source": [
    "Vamos a meternos dentro de la carpeta `prueba` que hemos creado, para seguir viendo ahí la terminal"
   ]
  },
  {
   "cell_type": "code",
   "execution_count": 45,
   "metadata": {},
   "outputs": [],
   "source": [
    "terminal(\"cd prueba\")"
   ]
  },
  {
   "cell_type": "markdown",
   "metadata": {},
   "source": [
    "En caso que queramos crear un archivo, el comando que tenemos que usar es `touch`"
   ]
  },
  {
   "cell_type": "code",
   "execution_count": 46,
   "metadata": {},
   "outputs": [
    {
     "name": "stdout",
     "output_type": "stream",
     "text": [
      "\n"
     ]
    }
   ],
   "source": [
    "terminal(\"touch prueba.txt\")"
   ]
  },
  {
   "cell_type": "code",
   "execution_count": 47,
   "metadata": {},
   "outputs": [
    {
     "name": "stdout",
     "output_type": "stream",
     "text": [
      "prueba.txt\n",
      "\n"
     ]
    }
   ],
   "source": [
    "terminal(\"ls\")"
   ]
  },
  {
   "cell_type": "markdown",
   "metadata": {},
   "source": [
    "Si queremos copiar un archivo lo hacemos pediante el comando `cp` (`copy`)"
   ]
  },
  {
   "cell_type": "code",
   "execution_count": 48,
   "metadata": {},
   "outputs": [
    {
     "name": "stdout",
     "output_type": "stream",
     "text": [
      "\n"
     ]
    }
   ],
   "source": [
    "terminal(\"cp prueba.txt prueba_copy.txt\")"
   ]
  },
  {
   "cell_type": "code",
   "execution_count": 49,
   "metadata": {},
   "outputs": [
    {
     "name": "stdout",
     "output_type": "stream",
     "text": [
      "prueba_copy.txt\n",
      "prueba.txt\n",
      "\n"
     ]
    }
   ],
   "source": [
    "terminal(\"ls\")"
   ]
  },
  {
   "cell_type": "markdown",
   "metadata": {},
   "source": [
    "Si lo que queremos es moverlo, lo que usamos es el comando `mv` (`move`)"
   ]
  },
  {
   "cell_type": "code",
   "execution_count": 50,
   "metadata": {},
   "outputs": [
    {
     "name": "stdout",
     "output_type": "stream",
     "text": [
      "\n"
     ]
    }
   ],
   "source": [
    "terminal(\"mv prueba.txt ../prueba.txt\")"
   ]
  },
  {
   "cell_type": "code",
   "execution_count": 51,
   "metadata": {},
   "outputs": [
    {
     "name": "stdout",
     "output_type": "stream",
     "text": [
      "prueba_copy.txt\n",
      "\n"
     ]
    }
   ],
   "source": [
    "terminal(\"ls\")"
   ]
  },
  {
   "cell_type": "code",
   "execution_count": 52,
   "metadata": {},
   "outputs": [
    {
     "name": "stdout",
     "output_type": "stream",
     "text": [
      "2021-02-11-Introduccion-a-Python.ipynb\n",
      "2021-04-23-Calculo-matricial-con-Numpy.ipynb\n",
      "2021-06-15-Manejo-de-datos-con-Pandas.ipynb\n",
      "2022-09-12 Introduccion a la terminal.ipynb\n",
      "command-line-cheat-sheet.pdf\n",
      "CSS.ipynb\n",
      "directorio prueba\n",
      "Docker.html\n",
      "Docker.ipynb\n",
      "Expresiones regulares.html\n",
      "Expresiones regulares.ipynb\n",
      "html_files\n",
      "html.ipynb\n",
      "introduccion_python\n",
      "movies.csv\n",
      "movies.dat\n",
      "notebooks_translated\n",
      "prueba\n",
      "prueba.txt\n",
      "__pycache__\n",
      "test.html\n",
      "test.ipynb\n",
      "\n"
     ]
    }
   ],
   "source": [
    "terminal(\"ls ../\")"
   ]
  },
  {
   "cell_type": "markdown",
   "metadata": {},
   "source": [
    "El comando `mv` también nos sirve para renombrar ficheros, ya que si lo que hacemos es moverlo en el mismo directorio, pero dándole otro nombre, al final eso es renombrar el archivo"
   ]
  },
  {
   "cell_type": "code",
   "execution_count": 53,
   "metadata": {},
   "outputs": [
    {
     "name": "stdout",
     "output_type": "stream",
     "text": [
      "\n"
     ]
    }
   ],
   "source": [
    "terminal(\"mv prueba_copy.txt prueba_move.txt\")"
   ]
  },
  {
   "cell_type": "code",
   "execution_count": 54,
   "metadata": {},
   "outputs": [
    {
     "name": "stdout",
     "output_type": "stream",
     "text": [
      "prueba_move.txt\n",
      "\n"
     ]
    }
   ],
   "source": [
    "terminal(\"ls\")"
   ]
  },
  {
   "cell_type": "markdown",
   "metadata": {},
   "source": [
    "Para borrar archivos o direcotrios usamos el comando `rm` (`remove`)"
   ]
  },
  {
   "cell_type": "code",
   "execution_count": 55,
   "metadata": {},
   "outputs": [
    {
     "name": "stdout",
     "output_type": "stream",
     "text": [
      "\n"
     ]
    }
   ],
   "source": [
    "terminal(\"rm prueba_move.txt\")"
   ]
  },
  {
   "cell_type": "code",
   "execution_count": 56,
   "metadata": {},
   "outputs": [
    {
     "name": "stdout",
     "output_type": "stream",
     "text": [
      "\n"
     ]
    }
   ],
   "source": [
    "terminal(\"ls\")"
   ]
  },
  {
   "cell_type": "markdown",
   "metadata": {},
   "source": [
    "Si lo que queremos es eliminar un directorio con archivos dentro, debemos usar el flag `-r`."
   ]
  },
  {
   "cell_type": "code",
   "execution_count": 57,
   "metadata": {},
   "outputs": [],
   "source": [
    "terminal(\"cd ..\")"
   ]
  },
  {
   "cell_type": "code",
   "execution_count": 64,
   "metadata": {},
   "outputs": [
    {
     "name": "stdout",
     "output_type": "stream",
     "text": [
      "\n"
     ]
    }
   ],
   "source": [
    "terminal('rm -r \"directorio prueba\"')"
   ]
  },
  {
   "cell_type": "code",
   "execution_count": 65,
   "metadata": {},
   "outputs": [
    {
     "name": "stdout",
     "output_type": "stream",
     "text": [
      "2021-02-11-Introduccion-a-Python.ipynb\n",
      "2021-04-23-Calculo-matricial-con-Numpy.ipynb\n",
      "2021-06-15-Manejo-de-datos-con-Pandas.ipynb\n",
      "2022-09-12 Introduccion a la terminal.ipynb\n",
      "command-line-cheat-sheet.pdf\n",
      "CSS.ipynb\n",
      "Docker.html\n",
      "Docker.ipynb\n",
      "Expresiones regulares.html\n",
      "Expresiones regulares.ipynb\n",
      "html_files\n",
      "html.ipynb\n",
      "introduccion_python\n",
      "movies.csv\n",
      "movies.dat\n",
      "notebooks_translated\n",
      "prueba\n",
      "prueba.txt\n",
      "__pycache__\n",
      "test.html\n",
      "test.ipynb\n",
      "\n"
     ]
    }
   ],
   "source": [
    "terminal(\"ls\")"
   ]
  },
  {
   "cell_type": "markdown",
   "metadata": {},
   "source": [
    "Como puedes ver nunca pregunta si estamos seguros, para que pregunte hay que añadir el flag `-i` (`iteractive`)"
   ]
  },
  {
   "cell_type": "markdown",
   "metadata": {},
   "source": [
    "Borramos el archivo `prueba.txt` creado"
   ]
  },
  {
   "cell_type": "code",
   "execution_count": 66,
   "metadata": {},
   "outputs": [
    {
     "name": "stdout",
     "output_type": "stream",
     "text": [
      "\n"
     ]
    }
   ],
   "source": [
    "terminal(\"rm prueba.txt\")"
   ]
  },
  {
   "cell_type": "markdown",
   "metadata": {},
   "source": [
    "### Explorando el contenido de los archivos"
   ]
  },
  {
   "cell_type": "markdown",
   "metadata": {},
   "source": [
    "Para no tener que abrir un archivo desde una interfaz gráfica tenemos varias formas. Voy a copiar un archivo de texto en esta carpeta lo primero"
   ]
  },
  {
   "cell_type": "code",
   "execution_count": 67,
   "metadata": {},
   "outputs": [],
   "source": [
    "terminal(\"cd prueba\")"
   ]
  },
  {
   "cell_type": "code",
   "execution_count": 68,
   "metadata": {},
   "outputs": [
    {
     "name": "stdout",
     "output_type": "stream",
     "text": [
      "\n"
     ]
    }
   ],
   "source": [
    "terminal(\"cp ../2021-02-11-Introduccion-a-Python.ipynb .\")"
   ]
  },
  {
   "cell_type": "code",
   "execution_count": 69,
   "metadata": {},
   "outputs": [
    {
     "name": "stdout",
     "output_type": "stream",
     "text": [
      "2021-02-11-Introduccion-a-Python.ipynb\n",
      "\n"
     ]
    }
   ],
   "source": [
    "terminal(\"ls\")"
   ]
  },
  {
   "cell_type": "markdown",
   "metadata": {},
   "source": [
    "El primer comando para poder ver dentro de un arhcivo de texto es `head`, que nos permite ver las primeras 10 líneas de un archivo, pero si se le mete el flag `-n` puedes indicar el número de líneas"
   ]
  },
  {
   "cell_type": "code",
   "execution_count": 70,
   "metadata": {},
   "outputs": [
    {
     "name": "stdout",
     "output_type": "stream",
     "text": [
      "{\n",
      "  \"cells\": [\n",
      "    {\n",
      "      \"cell_type\": \"markdown\",\n",
      "      \"metadata\": {\n",
      "        \"id\": \"dsaKCKL0IxZl\"\n",
      "      },\n",
      "      \"source\": [\n",
      "        \"# Introducción a Python\"\n",
      "      ]\n",
      "\n"
     ]
    }
   ],
   "source": [
    "terminal(\"head 2021-02-11-Introduccion-a-Python.ipynb\")"
   ]
  },
  {
   "cell_type": "code",
   "execution_count": 71,
   "metadata": {},
   "outputs": [
    {
     "name": "stdout",
     "output_type": "stream",
     "text": [
      "{\n",
      "  \"cells\": [\n",
      "    {\n",
      "      \"cell_type\": \"markdown\",\n",
      "      \"metadata\": {\n",
      "\n"
     ]
    }
   ],
   "source": [
    "terminal(\"head -n 5 2021-02-11-Introduccion-a-Python.ipynb\")"
   ]
  },
  {
   "cell_type": "markdown",
   "metadata": {},
   "source": [
    "En caso de querer ver las últimas líneas usamos `tail`"
   ]
  },
  {
   "cell_type": "code",
   "execution_count": 72,
   "metadata": {},
   "outputs": [
    {
     "name": "stdout",
     "output_type": "stream",
     "text": [
      "    },\n",
      "    \"vscode\": {\n",
      "      \"interpreter\": {\n",
      "        \"hash\": \"d5745ab6aba164e1152437c779991855725055592b9f2bdb41a4825db7168d26\"\n",
      "      }\n",
      "    }\n",
      "  },\n",
      "  \"nbformat\": 4,\n",
      "  \"nbformat_minor\": 0\n",
      "}\n",
      "\n"
     ]
    }
   ],
   "source": [
    "terminal(\"tail 2021-02-11-Introduccion-a-Python.ipynb\")"
   ]
  },
  {
   "cell_type": "code",
   "execution_count": 73,
   "metadata": {},
   "outputs": [
    {
     "name": "stdout",
     "output_type": "stream",
     "text": [
      "    }\n",
      "  },\n",
      "  \"nbformat\": 4,\n",
      "  \"nbformat_minor\": 0\n",
      "}\n",
      "\n"
     ]
    }
   ],
   "source": [
    "terminal(\"tail -n 5 2021-02-11-Introduccion-a-Python.ipynb\")"
   ]
  },
  {
   "cell_type": "markdown",
   "metadata": {},
   "source": [
    "Si queremos ver continuamente las últimas líneas de un archivo, por ejemplo, queremos estar monitorizando continuamente un archivo de LOG para ver eventos, añadimos el flag `-f`, esto hará que la terminal se quede continuamente comprobando el archivo, y cada vez que aparezca una nueva linea en el la mostrará\n",
    "\n",
    "Por ejemplo si yo monitoreo el log de inicio de sesión en mi máquna\n",
    "\n",
    "``` bash\n",
    "$ tail -f /var/log/auth.log\n",
    "Dec  1 16:27:22 wallabot gcr-prompter[1457]: Gcr: calling the PromptDone method on /org/gnome/keyring/Prompt/p2@:1.26, and ignoring reply\n",
    "Dec  1 16:27:22 wallabot gnome-keyring-daemon[1178]: asked to register item /org/freedesktop/secrets/collection/login/10, but it's already registered\n",
    "Dec  1 16:27:26 wallabot systemd-logind[835]: Watching system buttons on /dev/input/event28 (Logitech Wireless Mouse MX Master 3)\n",
    "Dec  1 16:27:33 wallabot gcr-prompter[1457]: Gcr: 10 second inactivity timeout, quitting\n",
    "Dec  1 16:27:33 wallabot gcr-prompter[1457]: Gcr: unregistering prompter\n",
    "Dec  1 16:27:33 wallabot gcr-prompter[1457]: Gcr: disposing prompter\n",
    "Dec  1 16:27:33 wallabot gcr-prompter[1457]: Gcr: finalizing prompter\n",
    "Dec  1 16:27:34 wallabot polkitd(authority=local): Operator of unix-session:1 successfully authenticated as unix-user:wallabot to gain TEMPORARY authorization for action org.debian.apt.install-or-remove-packages for system-bus-name::1.96 [/usr/bin/python3 /usr/bin/update-manager --no-update --no-focus-on-map] (owned by unix-user:wallabot)\n",
    "Dec  1 16:27:42 wallabot systemd-logind[835]: Watching system buttons on /dev/input/event30 (T9-R (AVRCP))\n",
    "Dec  1 16:27:49 wallabot gnome-keyring-daemon[1178]: asked to register item /org/freedesktop/secrets/collection/login/2, but it's already registered\n",
    "```\n",
    "\n",
    "Vemos en las dos últimas líneas mi inicio de sesión cuando he encendido hoy mi ordenador\n",
    "\n",
    "Ahora me conecto por ssh a mi propia máquina\n",
    "\n",
    "``` bash\n",
    "$ ssh localhost \n",
    "wallabot@localhost's password: \n",
    "Welcome to Ubuntu 20.04.5 LTS (GNU/Linux 5.15.0-53-generic x86_64)\n",
    "\n",
    " * Documentation:  https://help.ubuntu.com\n",
    " * Management:     https://landscape.canonical.com\n",
    " * Support:        https://ubuntu.com/advantage\n",
    "\n",
    "1 device has a firmware upgrade available.\n",
    "Run `fwupdmgr get-upgrades` for more information.\n",
    "\n",
    "\n",
    "Se pueden aplicar 0 actualizaciones de forma inmediata.\n",
    "\n",
    "Your Hardware Enablement Stack (HWE) is supported until April 2025.\n",
    "*** System restart required ***\n",
    "Last login: Sun May  8 02:18:09 2022 from 192.168.1.147\n",
    "```\n",
    "\n",
    "En la consola donde estaba monitorizando el inicio de sesión han aparecido dos nuevas líneas\n",
    "\n",
    "``` bash\n",
    "Dec  1 16:32:23 wallabot sshd[25647]: Accepted password for wallabot from 127.0.0.1 port 54668 ssh2\n",
    "Dec  1 16:32:23 wallabot sshd[25647]: pam_unix(sshd:session): session opened for user wallabot by (uid=0)\n",
    "Dec  1 16:32:23 wallabot systemd-logind[835]: New session 4 of user wallabot.\n",
    "```\n",
    "\n",
    "Y cuando cierro la sesión ssh aparecen otras dos líneas nuevas\n",
    "\n",
    "``` bash\n",
    "Dec  1 16:33:52 wallabot sshd[25647]: pam_unix(sshd:session): session closed for user wallabot\n",
    "Dec  1 16:33:52 wallabot systemd-logind[835]: Session 4 logged out. Waiting for processes to exit.\n",
    "Dec  1 16:33:52 wallabot systemd-logind[835]: Removed session 4.\n",
    "```"
   ]
  },
  {
   "cell_type": "markdown",
   "metadata": {},
   "source": [
    "Uno de los comandos más potentes para ver dentro de los archivos es `less`"
   ]
  },
  {
   "cell_type": "code",
   "execution_count": 74,
   "metadata": {},
   "outputs": [
    {
     "name": "stdout",
     "output_type": "stream",
     "text": [
      "{\n",
      "  \"cells\": [\n",
      "    {\n",
      "      \"cell_type\": \"markdown\",\n",
      "      \"metadata\": {\n",
      "        \"id\": \"dsaKCKL0IxZl\"\n",
      "      },\n",
      "      \"source\": [\n",
      "        \"# Introducción a Python\"\n",
      "      ]\n",
      "    },\n",
      "    {\n",
      "      \"cell_type\": \"markdown\",\n",
      "      \"metadata\": {\n",
      "        \"id\": \"Ho_8zgIiI0We\"\n",
      "      },\n",
      "      \"source\": [\n",
      "        \"## 1. Resumen\"\n",
      "      ]\n",
      "    },\n",
      "\t ...\n",
      "  },\n",
      "  \"nbformat\": 4,\n",
      "  \"nbformat_minor\": 0\n",
      "}\n",
      "\n"
     ]
    }
   ],
   "source": [
    "terminal(\"less 2021-02-11-Introduccion-a-Python.ipynb\", max_lines_output=20)"
   ]
  },
  {
   "cell_type": "markdown",
   "metadata": {},
   "source": [
    "Al estar dentro de un cuaderno no se puede ver lo que ocurre realmente al usar `less` pero cuando lo usamos nos metemos en el documento, podemos movernos a través de el mediante las teclas, o con el ratón\n",
    "\n",
    "Si queremos buscar algo dentro del docuento, escribimos el caracter `/` y lo que queramos buscar. Para cambiar entre las distintas instancias que ha encontrado pulsamos la tecla `n`, y si queremos volver hacia atrás en las búsquedas pulsamos `shift+n`\n",
    "\n",
    "Para salir solo hay que pulsar `q`"
   ]
  },
  {
   "cell_type": "markdown",
   "metadata": {},
   "source": [
    "Si lo queremos abrir con el editor por defecto del archivo tenemos que usar `xdg-open`"
   ]
  },
  {
   "cell_type": "code",
   "execution_count": 75,
   "metadata": {},
   "outputs": [
    {
     "name": "stdout",
     "output_type": "stream",
     "text": [
      "\n"
     ]
    }
   ],
   "source": [
    "terminal(\"xdg-open 2021-02-11-Introducción-a-Python.ipynb\")"
   ]
  },
  {
   "cell_type": "markdown",
   "metadata": {},
   "source": [
    "Si lo que queremos es abrir la carpeta en la que estamos usamos `nautilus`"
   ]
  },
  {
   "cell_type": "code",
   "execution_count": null,
   "metadata": {},
   "outputs": [],
   "source": [
    "terminal(\"nautilus\")"
   ]
  },
  {
   "cell_type": "markdown",
   "metadata": {},
   "source": [
    "Y si lo que queremos es que se abra en una ruta determinada se incluye la ruta"
   ]
  },
  {
   "cell_type": "code",
   "execution_count": null,
   "metadata": {},
   "outputs": [],
   "source": [
    "terminal(\"nautilus ~\")"
   ]
  },
  {
   "cell_type": "markdown",
   "metadata": {},
   "source": [
    "Por último, un comando muy útil es `wc` (word count), que te muestra cuántas líneas, palabras y bits tiene un archivo"
   ]
  },
  {
   "cell_type": "code",
   "execution_count": 8,
   "metadata": {},
   "outputs": [
    {
     "name": "stdout",
     "output_type": "stream",
     "text": [
      " 11678  25703 285898 2021-02-11-Introduccion-a-Python.ipynb\n",
      "\n"
     ]
    }
   ],
   "source": [
    "terminal(\"wc 2021-02-11-Introduccion-a-Python.ipynb\")"
   ]
  },
  {
   "cell_type": "markdown",
   "metadata": {},
   "source": [
    "Como vemos, el archivo tiene 11678 líneas, 25703 palabras y ocupa 285898 bytes"
   ]
  },
  {
   "cell_type": "markdown",
   "metadata": {},
   "source": [
    "### Qué es un comando"
   ]
  },
  {
   "cell_type": "markdown",
   "metadata": {},
   "source": [
    "Un comando puede ser 4 cosas\n",
    " * Un programa ejecutable, estos normalmente se guardan en la ruta /usr/bin\n",
    " * Un comando de shell\n",
    " * Una función de shell\n",
    " * Un alias"
   ]
  },
  {
   "cell_type": "markdown",
   "metadata": {},
   "source": [
    "Para ver a qué clase pertenece un comando usamos `type`"
   ]
  },
  {
   "cell_type": "code",
   "execution_count": 76,
   "metadata": {},
   "outputs": [
    {
     "name": "stdout",
     "output_type": "stream",
     "text": [
      "cd is a shell builtin\n"
     ]
    }
   ],
   "source": [
    "!type cd"
   ]
  },
  {
   "cell_type": "code",
   "execution_count": 77,
   "metadata": {},
   "outputs": [
    {
     "name": "stdout",
     "output_type": "stream",
     "text": [
      "mkdir is /usr/bin/mkdir\n"
     ]
    }
   ],
   "source": [
    "!type mkdir"
   ]
  },
  {
   "cell_type": "code",
   "execution_count": 78,
   "metadata": {},
   "outputs": [
    {
     "name": "stdout",
     "output_type": "stream",
     "text": [
      "ls is /usr/bin/ls\n"
     ]
    }
   ],
   "source": [
    "!type ls"
   ]
  },
  {
   "cell_type": "markdown",
   "metadata": {},
   "source": [
    "#### ¿Qué es un alias?"
   ]
  },
  {
   "cell_type": "markdown",
   "metadata": {},
   "source": [
    "Un alias es un comando que definimos nosotros, este se define mediante el comando `alias`. Por ejemplo, vamos a crear el alias `l` que lo que haga sea `ls -h`"
   ]
  },
  {
   "cell_type": "code",
   "execution_count": 80,
   "metadata": {},
   "outputs": [],
   "source": [
    "!alias l='ls -l'"
   ]
  },
  {
   "cell_type": "markdown",
   "metadata": {},
   "source": [
    "Cuando ejecutamos `l` nos muestra el resultado de `ls -h`"
   ]
  },
  {
   "cell_type": "markdown",
   "metadata": {},
   "source": [
    "``` bash\n",
    "$ l\n",
    "2021-02-11-Introducción-a-Python.ipynb\n",
    "```"
   ]
  },
  {
   "cell_type": "markdown",
   "metadata": {},
   "source": [
    "Pero esto tiene el problema, que cuando cerremos la terminal desaparece el `alias`. Más adelante aprenderemos a crear `alias` permanentes"
   ]
  },
  {
   "cell_type": "markdown",
   "metadata": {},
   "source": [
    "#### Ayuda de los comandos"
   ]
  },
  {
   "cell_type": "markdown",
   "metadata": {},
   "source": [
    "Con muchos comandos de la shell, podemos obtener su ayuda mediante el comando `help`"
   ]
  },
  {
   "cell_type": "markdown",
   "metadata": {},
   "source": [
    "``` bash\n",
    "$ help cd\n",
    "cd: cd [-L|[-P [-e]]] [dir]\n",
    "    Modifica el directorio de trabajo del shell.\n",
    "    \n",
    "    Modifica el directorio actual a DIR.  DIR por defecto es el valor de la\n",
    "    variable de shell HOME.\n",
    "    \n",
    "    La variable CDPATH define la ruta de búsqueda para el directorio que\n",
    "    contiene DIR.  Los nombres alternativos de directorio en CDPATH se\n",
    "    separan con dos puntos (:).  Un nombre de directorio nulo es igual que\n",
    "    el directorio actual.  Si DIR comienza con una barra inclinada (/),\n",
    "    entonces no se usa CDPATH.\n",
    "    \n",
    "    Si no se encuentra el directorio, y la opción del shell \"cdable_vars\"\n",
    "    está activa, entonces se trata la palabra como un nombre de variable.\n",
    "    Si esa variable tiene un valor, se utiliza su valor para DIR.\n",
    "    \n",
    "    Opciones:\n",
    "      -L\tfuerza a seguir los enlaces simbólicos: resuelve los enlaces\n",
    "    \t\tsimbólicos en DIR después de procesar las instancias de \"..\"\n",
    "      -P\tusa la estructura física de directorios sin seguir los enlaces\n",
    "    \t\tsimbólicos: resuelve los enlaces simbólicos en DIR antes de procesar\n",
    "    \t\tlas instancias de \"..\"\n",
    "      -e\tsi se da la opción -P y el directorio actual de trabajo no se\n",
    "    \t\tpuede determinar con éxito, termina con un estado diferente de cero.\n",
    "    \n",
    "    La acción por defecto es seguir los enlaces simbólicos, como si se\n",
    "    especificara \"-L\".\n",
    "    \"..\" se procesa quitando la componente del nombre de la ruta inmediatamente\n",
    "    anterior hasta una barra inclinada o el comienzo de DIR.\n",
    "    \n",
    "    Estado de Salida:\n",
    "    Devuelve 0 si se cambia el directorio, y si $PWD está definido como\n",
    "    correcto cuando se emplee -P; de otra forma es diferente a cero.\n",
    "    ```"
   ]
  },
  {
   "cell_type": "markdown",
   "metadata": {},
   "source": [
    "Otro comando es `man`, que hace referencia al manual de usuario"
   ]
  },
  {
   "cell_type": "code",
   "execution_count": 81,
   "metadata": {},
   "outputs": [
    {
     "name": "stdout",
     "output_type": "stream",
     "text": [
      "LS(1)                            User Commands                           LS(1)\n",
      "\n",
      "NAME\n",
      "       ls - list directory contents\n",
      "\n",
      "SYNOPSIS\n",
      "       ls [OPTION]... [FILE]...\n",
      "\n",
      "DESCRIPTION\n",
      "       List  information  about  the FILEs (the current directory by default).\n",
      "       Sort entries alphabetically if none of -cftuvSUX nor --sort  is  speci‐\n",
      "       fied.\n",
      "\n",
      "       Mandatory  arguments  to  long  options are mandatory for short options\n",
      "       too.\n",
      "\n",
      "       -a, --all\n",
      "              do not ignore entries starting with .\n",
      "\n",
      "       -A, --almost-all\n",
      "\t ...\n",
      "       Full documentation at: <https://www.gnu.org/software/coreutils/ls>\n",
      "       or available locally via: info '(coreutils) ls invocation'\n",
      "\n",
      "GNU coreutils 8.30              September 2019                           LS(1)\n",
      "\n"
     ]
    }
   ],
   "source": [
    "terminal(\"man ls\", max_lines_output=20)"
   ]
  },
  {
   "cell_type": "markdown",
   "metadata": {},
   "source": [
    "Para salir pulsar `q`"
   ]
  },
  {
   "cell_type": "markdown",
   "metadata": {},
   "source": [
    "Otro comando es `info`"
   ]
  },
  {
   "cell_type": "code",
   "execution_count": 82,
   "metadata": {},
   "outputs": [
    {
     "name": "stdout",
     "output_type": "stream",
     "text": [
      "File: coreutils.info,  Node: ls invocation,  Next: dir invocation,  Up: Directory listing\n",
      "\n",
      "10.1 ‘ls’: List directory contents\n",
      "==================================\n",
      "\n",
      "The ‘ls’ program lists information about files (of any type, including\n",
      "directories).  Options and file arguments can be intermixed arbitrarily,\n",
      "as usual.\n",
      "\n",
      "   For non-option command-line arguments that are directories, by\n",
      "default ‘ls’ lists the contents of directories, not recursively, and\n",
      "omitting files with names beginning with ‘.’.  For other non-option\n",
      "arguments, by default ‘ls’ lists just the file name.  If no non-option\n",
      "argument is specified, ‘ls’ operates on the current directory, acting as\n",
      "if it had been invoked with a single argument of ‘.’.\n",
      "\n",
      "   By default, the output is sorted alphabetically, according to the\n",
      "locale settings in effect.(1)  If standard output is a terminal, the\n",
      "output is in columns (sorted vertically) and control characters are\n",
      "output as question marks; otherwise, the output is listed one per line\n",
      "\t ...\n",
      "‘--show-control-chars’\n",
      "     Print nongraphic characters as-is in file names.  This is the\n",
      "     default unless the output is a terminal and the program is ‘ls’.\n",
      "\n",
      "\n"
     ]
    }
   ],
   "source": [
    "terminal(\"info ls\", max_lines_output=20)"
   ]
  },
  {
   "cell_type": "markdown",
   "metadata": {},
   "source": [
    "Para salir pulsar `q`"
   ]
  },
  {
   "cell_type": "markdown",
   "metadata": {},
   "source": [
    "Otro comando es `whatis`"
   ]
  },
  {
   "cell_type": "code",
   "execution_count": 83,
   "metadata": {},
   "outputs": [
    {
     "name": "stdout",
     "output_type": "stream",
     "text": [
      "ls (1)               - list directory contents\n",
      "\n"
     ]
    }
   ],
   "source": [
    "terminal(\"whatis ls\")"
   ]
  },
  {
   "cell_type": "markdown",
   "metadata": {},
   "source": [
    "### Wildcards"
   ]
  },
  {
   "cell_type": "markdown",
   "metadata": {},
   "source": [
    "Las wildcards son caracteres especiales que nos sirven para realizar búsquedas especiales. Por ejemplo, si quiero buscar todos los archivos que terminen en `.txt`. Vamos a crear unos cuantos archivos para verlas"
   ]
  },
  {
   "cell_type": "code",
   "execution_count": 84,
   "metadata": {},
   "outputs": [
    {
     "name": "stdout",
     "output_type": "stream",
     "text": [
      "\n"
     ]
    }
   ],
   "source": [
    "terminal(\"touch file.txt dot.txt dot2.txt index.html datos1 datos123 Abc\")"
   ]
  },
  {
   "cell_type": "code",
   "execution_count": 85,
   "metadata": {},
   "outputs": [
    {
     "name": "stdout",
     "output_type": "stream",
     "text": [
      "2021-02-11-Introduccion-a-Python.ipynb\n",
      "Abc\n",
      "datos1\n",
      "datos123\n",
      "dot2.txt\n",
      "dot.txt\n",
      "file.txt\n",
      "index.html\n",
      "\n"
     ]
    }
   ],
   "source": [
    "terminal(\"ls\")"
   ]
  },
  {
   "cell_type": "markdown",
   "metadata": {},
   "source": [
    "Vamos a buscar ahora todos los archivos `.txt`"
   ]
  },
  {
   "cell_type": "code",
   "execution_count": 86,
   "metadata": {},
   "outputs": [
    {
     "name": "stdout",
     "output_type": "stream",
     "text": [
      "dot2.txt  dot.txt  file.txt\n"
     ]
    }
   ],
   "source": [
    "!ls *.txt"
   ]
  },
  {
   "cell_type": "markdown",
   "metadata": {},
   "source": [
    "Vamos ahora a buscar todos los que empiecen por la palabra `datos`"
   ]
  },
  {
   "cell_type": "code",
   "execution_count": 87,
   "metadata": {},
   "outputs": [
    {
     "name": "stdout",
     "output_type": "stream",
     "text": [
      "datos1\tdatos123\n"
     ]
    }
   ],
   "source": [
    "!ls datos*"
   ]
  },
  {
   "cell_type": "markdown",
   "metadata": {},
   "source": [
    "Pero qué pasa si en realidad lo que queremos es que nos muestre todos los archivos que empiecen por la palabra `datos` pero segido solo un números, tenemos que poner un signo de interrogación `?`"
   ]
  },
  {
   "cell_type": "markdown",
   "metadata": {},
   "source": [
    "``` bash\n",
    "$ ls datos?\n",
    "datos1\n",
    "```"
   ]
  },
  {
   "cell_type": "markdown",
   "metadata": {},
   "source": [
    "Si lo que queremos es que tenga tres números, entonces tenemos que poner tres signos de interrogación `???`"
   ]
  },
  {
   "cell_type": "markdown",
   "metadata": {},
   "source": [
    "``` bash\n",
    "$ ls datos???\n",
    "datos123\n",
    "```"
   ]
  },
  {
   "cell_type": "markdown",
   "metadata": {},
   "source": [
    "Si queremos que busque los archivos que empiecen por mayúsculas"
   ]
  },
  {
   "cell_type": "markdown",
   "metadata": {},
   "source": [
    "``` bash \n",
    "$ ls [[:upper:]]*\n",
    "Abc\n",
    "```"
   ]
  },
  {
   "cell_type": "markdown",
   "metadata": {},
   "source": [
    "Para los archivos que empiecen con minúsculas"
   ]
  },
  {
   "cell_type": "markdown",
   "metadata": {},
   "source": [
    "``` bash\n",
    "$ ls [[:lower:]]*\n",
    "datos1  datos123  dot2.txt  dot.txt  file.txt  index.html\n",
    "```"
   ]
  },
  {
   "cell_type": "markdown",
   "metadata": {},
   "source": [
    "#### Clases"
   ]
  },
  {
   "cell_type": "markdown",
   "metadata": {},
   "source": [
    "Mediante el usos de corchetes podemos crear clases, así si queremos buscar los archivos que empiecen por las letras `d` o `f` seguido de cualquier caracter"
   ]
  },
  {
   "cell_type": "markdown",
   "metadata": {},
   "source": [
    "``` bash\n",
    "$ ls [df]*\n",
    "datos1  datos123  dot2.txt  dot.txt  file.txt\n",
    "```"
   ]
  },
  {
   "cell_type": "markdown",
   "metadata": {},
   "source": [
    "## Empezando a correr"
   ]
  },
  {
   "cell_type": "markdown",
   "metadata": {},
   "source": [
    "### Redirecciones: como funciona la shell"
   ]
  },
  {
   "cell_type": "markdown",
   "metadata": {},
   "source": [
    "Un comando funciona de la siguiente manera\n",
    "\n",
    "![pipeline comando](https://ptgmedia.pearsoncmg.com/images/chap5_9780133927313/elementLinks/05fig02_alt.jpg)\n",
    "\n",
    "Tiene un `standard input`, que por defecto es el texto que intorducimos por teclado, un `standard output`, que por defecto es el texto que sale por consola y un `standard error` que también es por defecto un texto que sale por consola, pero que tiene otro formato"
   ]
  },
  {
   "cell_type": "markdown",
   "metadata": {},
   "source": [
    "Pero con el caracter `>` podemos modificar el `standard output` de un comando. Por ejemplo, si queremos listar con `ls` los archivos de la carpeta en la que estamos, pero no queremos que el resultado se imprima por pantalla, sino que se guarde en un archivo haríamos lo siguiente `ls > lista.txt`, esto escribe la lista en `lista.txt`, además si `lista.txt` no existe lo crea"
   ]
  },
  {
   "cell_type": "code",
   "execution_count": 88,
   "metadata": {},
   "outputs": [],
   "source": [
    "!ls > lista.txt"
   ]
  },
  {
   "cell_type": "markdown",
   "metadata": {},
   "source": [
    "Vemos que ha creado el archivo y vemos qué hay dentro"
   ]
  },
  {
   "cell_type": "code",
   "execution_count": 89,
   "metadata": {},
   "outputs": [
    {
     "name": "stdout",
     "output_type": "stream",
     "text": [
      "2021-02-11-Introduccion-a-Python.ipynb\n",
      "Abc\n",
      "datos1\n",
      "datos123\n",
      "dot2.txt\n",
      "dot.txt\n",
      "file.txt\n",
      "index.html\n",
      "lista.txt\n",
      "\n"
     ]
    }
   ],
   "source": [
    "terminal(\"ls\")"
   ]
  },
  {
   "cell_type": "code",
   "execution_count": 90,
   "metadata": {},
   "outputs": [
    {
     "name": "stdout",
     "output_type": "stream",
     "text": [
      "2021-02-11-Introduccion-a-Python.ipynb\n",
      "Abc\n",
      "datos1\n",
      "datos123\n",
      "dot2.txt\n",
      "dot.txt\n",
      "file.txt\n",
      "index.html\n",
      "lista.txt\n",
      "\n"
     ]
    }
   ],
   "source": [
    "terminal(\"cat lista.txt\")"
   ]
  },
  {
   "cell_type": "markdown",
   "metadata": {},
   "source": [
    "Vemos que dentro de `lista.txt` aparece `lista.txt`, eso es porque primero crea el archivo y luego ejecuta el comando"
   ]
  },
  {
   "cell_type": "markdown",
   "metadata": {},
   "source": [
    "Hacemos lo mismo pero con la carpeta padre"
   ]
  },
  {
   "cell_type": "code",
   "execution_count": 91,
   "metadata": {},
   "outputs": [],
   "source": [
    "!ls ../ > lista.txt"
   ]
  },
  {
   "cell_type": "markdown",
   "metadata": {},
   "source": [
    "Si volvemos a ver dentro de `lista.txt`"
   ]
  },
  {
   "cell_type": "code",
   "execution_count": 92,
   "metadata": {},
   "outputs": [
    {
     "name": "stdout",
     "output_type": "stream",
     "text": [
      "2021-02-11-Introduccion-a-Python.ipynb\n",
      "2021-04-23-Calculo-matricial-con-Numpy.ipynb\n",
      "2021-06-15-Manejo-de-datos-con-Pandas.ipynb\n",
      "2022-09-12 Introduccion a la terminal.ipynb\n",
      "command-line-cheat-sheet.pdf\n",
      "CSS.ipynb\n",
      "Docker.html\n",
      "Docker.ipynb\n",
      "Expresiones regulares.html\n",
      "Expresiones regulares.ipynb\n",
      "html_files\n",
      "html.ipynb\n",
      "introduccion_python\n",
      "movies.csv\n",
      "movies.dat\n",
      "notebooks_translated\n",
      "prueba\n",
      "__pycache__\n",
      "test.html\n",
      "test.ipynb\n",
      "\n"
     ]
    }
   ],
   "source": [
    "terminal(\"cat lista.txt\")"
   ]
  },
  {
   "cell_type": "markdown",
   "metadata": {},
   "source": [
    "Vemos que se sobreescribe el contenido"
   ]
  },
  {
   "cell_type": "markdown",
   "metadata": {},
   "source": [
    "Si lo que queremos es que se concatene el contenido debemos usar `>>`"
   ]
  },
  {
   "cell_type": "code",
   "execution_count": 93,
   "metadata": {},
   "outputs": [],
   "source": [
    "!ls > lista.txt"
   ]
  },
  {
   "cell_type": "code",
   "execution_count": 94,
   "metadata": {},
   "outputs": [],
   "source": [
    "!ls ../ >> lista.txt"
   ]
  },
  {
   "cell_type": "code",
   "execution_count": 95,
   "metadata": {},
   "outputs": [
    {
     "name": "stdout",
     "output_type": "stream",
     "text": [
      "2021-02-11-Introduccion-a-Python.ipynb\n",
      "Abc\n",
      "datos1\n",
      "datos123\n",
      "dot2.txt\n",
      "dot.txt\n",
      "file.txt\n",
      "index.html\n",
      "lista.txt\n",
      "2021-02-11-Introduccion-a-Python.ipynb\n",
      "2021-04-23-Calculo-matricial-con-Numpy.ipynb\n",
      "2021-06-15-Manejo-de-datos-con-Pandas.ipynb\n",
      "2022-09-12 Introduccion a la terminal.ipynb\n",
      "command-line-cheat-sheet.pdf\n",
      "CSS.ipynb\n",
      "Docker.html\n",
      "Docker.ipynb\n",
      "Expresiones regulares.html\n",
      "Expresiones regulares.ipynb\n",
      "html_files\n",
      "html.ipynb\n",
      "introduccion_python\n",
      "movies.csv\n",
      "movies.dat\n",
      "notebooks_translated\n",
      "prueba\n",
      "__pycache__\n",
      "test.html\n",
      "test.ipynb\n",
      "\n"
     ]
    }
   ],
   "source": [
    "terminal(\"cat lista.txt\")"
   ]
  },
  {
   "cell_type": "markdown",
   "metadata": {},
   "source": [
    "Ahora si se ha concatenado la información"
   ]
  },
  {
   "cell_type": "markdown",
   "metadata": {},
   "source": [
    "Esto es muy últil para crear archivos de log"
   ]
  },
  {
   "cell_type": "markdown",
   "metadata": {},
   "source": [
    "#### Redirección del `standard error`"
   ]
  },
  {
   "cell_type": "markdown",
   "metadata": {},
   "source": [
    "Si realizamos una operación incorrecta obtenemos un error, veamos que pasa al redireccionar un comando que da un error"
   ]
  },
  {
   "cell_type": "code",
   "execution_count": 96,
   "metadata": {},
   "outputs": [
    {
     "name": "stdout",
     "output_type": "stream",
     "text": [
      "ls: no se puede acceder a 'fjhdsalkfs': No existe el archivo o el directorio\n"
     ]
    }
   ],
   "source": [
    "!ls fjhdsalkfs > lista.txt"
   ]
  },
  {
   "cell_type": "markdown",
   "metadata": {},
   "source": [
    "Como vemos ha dado un error, pero si ahora vemos dentro de `lista.txt`"
   ]
  },
  {
   "cell_type": "code",
   "execution_count": 97,
   "metadata": {},
   "outputs": [
    {
     "name": "stdout",
     "output_type": "stream",
     "text": [
      "\n"
     ]
    }
   ],
   "source": [
    "terminal(\"cat lista.txt\")"
   ]
  },
  {
   "cell_type": "markdown",
   "metadata": {},
   "source": [
    "Vemos que el archivo está vacío, eso es porque no hemos redireccionado el `standard error` a `lista.txt`, sino el `standard output`. Como hemos visto en la imagen, hay dos standards de salida en un comando, el primero es el `standard output` y el segundo el `standard error`, por lo que para redireccionar el standard error hay que indicarlo mediante `2>`. Vamos ahora así"
   ]
  },
  {
   "cell_type": "code",
   "execution_count": 98,
   "metadata": {},
   "outputs": [],
   "source": [
    "!ls kjhsfskjd 2> lista.txt"
   ]
  },
  {
   "cell_type": "code",
   "execution_count": 99,
   "metadata": {},
   "outputs": [
    {
     "name": "stdout",
     "output_type": "stream",
     "text": [
      "ls: no se puede acceder a 'kjhsfskjd': No existe el archivo o el directorio\n",
      "\n"
     ]
    }
   ],
   "source": [
    "terminal(\"cat lista.txt\")"
   ]
  },
  {
   "cell_type": "markdown",
   "metadata": {},
   "source": [
    "Como vemos ahora si se ha redireccionado"
   ]
  },
  {
   "cell_type": "markdown",
   "metadata": {},
   "source": [
    "Si queremos redireccionar los dos usamos lo siguiente"
   ]
  },
  {
   "cell_type": "code",
   "execution_count": 100,
   "metadata": {},
   "outputs": [],
   "source": [
    "!ls kjhsfskjd > lista.txt 2>&1"
   ]
  },
  {
   "cell_type": "markdown",
   "metadata": {},
   "source": [
    "Veamos dentro de `lista.txt`"
   ]
  },
  {
   "cell_type": "code",
   "execution_count": 101,
   "metadata": {},
   "outputs": [
    {
     "name": "stdout",
     "output_type": "stream",
     "text": [
      "ls: no se puede acceder a 'kjhsfskjd': No existe el archivo o el directorio\n",
      "\n"
     ]
    }
   ],
   "source": [
    "terminal(\"cat lista.txt\")"
   ]
  },
  {
   "cell_type": "markdown",
   "metadata": {},
   "source": [
    "Si ahora ejecutamos un comando sin error"
   ]
  },
  {
   "cell_type": "code",
   "execution_count": 102,
   "metadata": {},
   "outputs": [],
   "source": [
    "!ls . >> lista.txt 2>&1"
   ]
  },
  {
   "cell_type": "markdown",
   "metadata": {},
   "source": [
    "Veamos dentro de `lista.txt` (**ojo**, ahora hemos concatenado)"
   ]
  },
  {
   "cell_type": "code",
   "execution_count": 103,
   "metadata": {},
   "outputs": [
    {
     "name": "stdout",
     "output_type": "stream",
     "text": [
      "ls: no se puede acceder a 'kjhsfskjd': No existe el archivo o el directorio\n",
      "2021-02-11-Introduccion-a-Python.ipynb\n",
      "Abc\n",
      "datos1\n",
      "datos123\n",
      "dot2.txt\n",
      "dot.txt\n",
      "file.txt\n",
      "index.html\n",
      "lista.txt\n",
      "\n"
     ]
    }
   ],
   "source": [
    "terminal(\"cat lista.txt\")"
   ]
  },
  {
   "cell_type": "markdown",
   "metadata": {},
   "source": [
    "Como se puede ver, se han redirigido, tanto el `standard error`, como el `standard output` al mismo archivo"
   ]
  },
  {
   "cell_type": "markdown",
   "metadata": {},
   "source": [
    "### Pipelines"
   ]
  },
  {
   "cell_type": "markdown",
   "metadata": {},
   "source": [
    "Podemos crear pipelines haciendo que el `standard output` de un comando se convierta en el `standard input` de otro. Por ejemplo, vamos a hacer que la salida de `ls -lha` sea la entrada de `grep`, que lo veremos más adelante, pero es un comando para buscar."
   ]
  },
  {
   "cell_type": "code",
   "execution_count": 104,
   "metadata": {},
   "outputs": [
    {
     "name": "stdout",
     "output_type": "stream",
     "text": [
      "-rw-rw-r-- 1 wallabot wallabot    0 nov 28 15:12 dot2.txt\n",
      "-rw-rw-r-- 1 wallabot wallabot    0 nov 28 15:12 dot.txt\n",
      "-rw-rw-r-- 1 wallabot wallabot    0 nov 28 15:12 file.txt\n",
      "-rw-rw-r-- 1 wallabot wallabot  182 nov 28 15:15 lista.txt\n"
     ]
    }
   ],
   "source": [
    "!ls -lha |  grep -i \"txt\""
   ]
  },
  {
   "cell_type": "markdown",
   "metadata": {},
   "source": [
    "Como podemos ver lo que hemos hecho ha sido llevar la salida de `ls` a `grep` con el que hemos buscado algún archivo con `txt` en el nombre"
   ]
  },
  {
   "cell_type": "markdown",
   "metadata": {},
   "source": [
    "### Operadores de control - encadenar comandos"
   ]
  },
  {
   "cell_type": "markdown",
   "metadata": {},
   "source": [
    "#### Comandos de manera secuencial"
   ]
  },
  {
   "cell_type": "markdown",
   "metadata": {},
   "source": [
    "Una forma de encadenar comandos de forma secuencial es separarlos mediante `;`. Esto crea distintos hilos para cada tarea"
   ]
  },
  {
   "cell_type": "code",
   "execution_count": 105,
   "metadata": {},
   "outputs": [
    {
     "name": "stdout",
     "output_type": "stream",
     "text": [
      "2021-02-11-Introduccion-a-Python.ipynb\tdatos123  file.txt\n",
      "Abc\t\t\t\t\tdot2.txt  index.html\n",
      "datos1\t\t\t\t\tdot.txt   lista.txt\n",
      "Hola\n",
      "   Noviembre 2022     \n",
      "do lu ma mi ju vi sá  \n",
      "       1  2  3  4  5  \n",
      " 6  7  8  9 10 11 12  \n",
      "13 14 15 16 17 18 19  \n",
      "20 21 22 23 24 25 26  \n",
      "27 \u001b[7m28\u001b[m 29 30           \n",
      "                      \n"
     ]
    }
   ],
   "source": [
    "!ls; echo 'Hola'; cal"
   ]
  },
  {
   "cell_type": "markdown",
   "metadata": {},
   "source": [
    "Como podemos ver primero se ha ejecutado el comando `ls`, luego se ha impreso Hola gracias al comando `echo \"Hola\"` y por último se ha impreso un calendario gracias al comando `cal`"
   ]
  },
  {
   "cell_type": "markdown",
   "metadata": {},
   "source": [
    "Vamos ahora a hacer otro ejemplo para ver que se ejecutan de manera secuencial"
   ]
  },
  {
   "cell_type": "code",
   "execution_count": 106,
   "metadata": {},
   "outputs": [
    {
     "name": "stdout",
     "output_type": "stream",
     "text": [
      "Before touch;\n",
      "total 292K\n",
      "drwxrwxr-x 2 wallabot wallabot 4,0K nov 28 15:13 .\n",
      "drwxrwxr-x 7 wallabot wallabot 4,0K nov 28 15:06 ..\n",
      "-rw-rw-r-- 1 wallabot wallabot 280K nov 28 15:06 2021-02-11-Introduccion-a-Python.ipynb\n",
      "-rw-rw-r-- 1 wallabot wallabot    0 nov 28 15:12 Abc\n",
      "-rw-rw-r-- 1 wallabot wallabot    0 nov 28 15:12 datos1\n",
      "-rw-rw-r-- 1 wallabot wallabot    0 nov 28 15:12 datos123\n",
      "-rw-rw-r-- 1 wallabot wallabot    0 nov 28 15:12 dot2.txt\n",
      "-rw-rw-r-- 1 wallabot wallabot    0 nov 28 15:12 dot.txt\n",
      "-rw-rw-r-- 1 wallabot wallabot    0 nov 28 15:12 file.txt\n",
      "-rw-rw-r-- 1 wallabot wallabot    0 nov 28 15:12 index.html\n",
      "-rw-rw-r-- 1 wallabot wallabot  182 nov 28 15:15 lista.txt\n",
      "After touch:\n",
      "total 292K\n",
      "drwxrwxr-x 2 wallabot wallabot 4,0K nov 28 15:16 .\n",
      "drwxrwxr-x 7 wallabot wallabot 4,0K nov 28 15:06 ..\n",
      "-rw-rw-r-- 1 wallabot wallabot 280K nov 28 15:06 2021-02-11-Introduccion-a-Python.ipynb\n",
      "-rw-rw-r-- 1 wallabot wallabot    0 nov 28 15:12 Abc\n",
      "-rw-rw-r-- 1 wallabot wallabot    0 nov 28 15:12 datos1\n",
      "-rw-rw-r-- 1 wallabot wallabot    0 nov 28 15:12 datos123\n",
      "-rw-rw-r-- 1 wallabot wallabot    0 nov 28 15:12 dot2.txt\n",
      "-rw-rw-r-- 1 wallabot wallabot    0 nov 28 15:12 dot.txt\n",
      "-rw-rw-r-- 1 wallabot wallabot    0 nov 28 15:12 file.txt\n",
      "-rw-rw-r-- 1 wallabot wallabot    0 nov 28 15:12 index.html\n",
      "-rw-rw-r-- 1 wallabot wallabot  182 nov 28 15:15 lista.txt\n",
      "-rw-rw-r-- 1 wallabot wallabot    0 nov 28 15:16 secuential.txt\n"
     ]
    }
   ],
   "source": [
    "!echo \"Before touch;\"; ls -lha; touch secuential.txt; echo \"After touch:\"; ls -lha"
   ]
  },
  {
   "cell_type": "markdown",
   "metadata": {},
   "source": [
    "Como se puede ver, en el primer `ls` no aparece `secuential.txt`, mientras que en el segundo sí. Eso quiere decir que los comandos se han ejecutado en orden, uno detrás de otro"
   ]
  },
  {
   "cell_type": "markdown",
   "metadata": {},
   "source": [
    "#### Comandos de manera paralela"
   ]
  },
  {
   "cell_type": "markdown",
   "metadata": {},
   "source": [
    "Si lo que queremos es que los comandos se ejecuten de manera paralela hay que usar el operador `&`, esto hará que se cree un nuevo proceso por cada comando"
   ]
  },
  {
   "cell_type": "markdown",
   "metadata": {},
   "source": [
    "Veamos el ejemplo de antes"
   ]
  },
  {
   "cell_type": "code",
   "execution_count": 107,
   "metadata": {},
   "outputs": [],
   "source": [
    "!rm secuential.txt"
   ]
  },
  {
   "cell_type": "code",
   "execution_count": 108,
   "metadata": {},
   "outputs": [
    {
     "name": "stdout",
     "output_type": "stream",
     "text": [
      "Before touch;\n",
      "After touch:\n",
      "total 292K\n",
      "drwxrwxr-x 2 wallabot wallabot 4,0K nov 28 15:23 .\n",
      "drwxrwxr-x 7 wallabot wallabot 4,0K nov 28 15:06 ..\n",
      "-rw-rw-r-- 1 wallabot wallabot 280K nov 28 15:06 2021-02-11-Introduccion-a-Python.ipynb\n",
      "-rw-rw-r-- 1 wallabot wallabot    0 nov 28 15:12 Abc\n",
      "-rw-rw-r-- 1 wallabot wallabot    0 nov 28 15:12 datos1\n",
      "-rw-rw-r-- 1 wallabot wallabot    0 nov 28 15:12 datos123\n",
      "-rw-rw-r-- 1 wallabot wallabot    0 nov 28 15:12 dot2.txt\n",
      "-rw-rw-r-- 1 wallabot wallabot    0 nov 28 15:12 dot.txt\n",
      "-rw-rw-r-- 1 wallabot wallabot    0 nov 28 15:12 file.txt\n",
      "-rw-rw-r-- 1 wallabot wallabot    0 nov 28 15:12 index.html\n",
      "-rw-rw-r-- 1 wallabot wallabot  182 nov 28 15:15 lista.txt\n",
      "-rw-rw-r-- 1 wallabot wallabot    0 nov 28 15:23 secuential.txt\n",
      "total 292K\n",
      "drwxrwxr-x 2 wallabot wallabot 4,0K nov 28 15:23 .\n",
      "drwxrwxr-x 7 wallabot wallabot 4,0K nov 28 15:06 ..\n",
      "-rw-rw-r-- 1 wallabot wallabot 280K nov 28 15:06 2021-02-11-Introduccion-a-Python.ipynb\n",
      "-rw-rw-r-- 1 wallabot wallabot    0 nov 28 15:12 Abc\n",
      "-rw-rw-r-- 1 wallabot wallabot    0 nov 28 15:12 datos1\n",
      "-rw-rw-r-- 1 wallabot wallabot    0 nov 28 15:12 datos123\n",
      "-rw-rw-r-- 1 wallabot wallabot    0 nov 28 15:12 dot2.txt\n",
      "-rw-rw-r-- 1 wallabot wallabot    0 nov 28 15:12 dot.txt\n",
      "-rw-rw-r-- 1 wallabot wallabot    0 nov 28 15:12 file.txt\n",
      "-rw-rw-r-- 1 wallabot wallabot    0 nov 28 15:12 index.html\n",
      "-rw-rw-r-- 1 wallabot wallabot  182 nov 28 15:15 lista.txt\n",
      "-rw-rw-r-- 1 wallabot wallabot    0 nov 28 15:23 secuential.txt\n"
     ]
    }
   ],
   "source": [
    "!echo \"Before touch;\" & ls -lha & touch secuential.txt & echo \"After touch:\" & ls -lha"
   ]
  },
  {
   "cell_type": "markdown",
   "metadata": {},
   "source": [
    "Ahora se puede ver que no se han ejecutado secuencialmente, ya que primero se han ejecutado los `echo`s, que serán los que menos tarden, y después el resto"
   ]
  },
  {
   "cell_type": "markdown",
   "metadata": {},
   "source": [
    "#### Comandos de manera condicional"
   ]
  },
  {
   "cell_type": "markdown",
   "metadata": {},
   "source": [
    "##### And"
   ]
  },
  {
   "cell_type": "markdown",
   "metadata": {},
   "source": [
    "Utilizando el operador `&&` un comando se ejecutará cuando el anterior se haya ejecutado satisfactoriamente"
   ]
  },
  {
   "cell_type": "code",
   "execution_count": 109,
   "metadata": {},
   "outputs": [],
   "source": [
    "!rm secuential.txt"
   ]
  },
  {
   "cell_type": "code",
   "execution_count": 110,
   "metadata": {},
   "outputs": [
    {
     "name": "stdout",
     "output_type": "stream",
     "text": [
      "Before touch;\n",
      "total 292K\n",
      "drwxrwxr-x 2 wallabot wallabot 4,0K nov 28 15:24 .\n",
      "drwxrwxr-x 7 wallabot wallabot 4,0K nov 28 15:06 ..\n",
      "-rw-rw-r-- 1 wallabot wallabot 280K nov 28 15:06 2021-02-11-Introduccion-a-Python.ipynb\n",
      "-rw-rw-r-- 1 wallabot wallabot    0 nov 28 15:12 Abc\n",
      "-rw-rw-r-- 1 wallabot wallabot    0 nov 28 15:12 datos1\n",
      "-rw-rw-r-- 1 wallabot wallabot    0 nov 28 15:12 datos123\n",
      "-rw-rw-r-- 1 wallabot wallabot    0 nov 28 15:12 dot2.txt\n",
      "-rw-rw-r-- 1 wallabot wallabot    0 nov 28 15:12 dot.txt\n",
      "-rw-rw-r-- 1 wallabot wallabot    0 nov 28 15:12 file.txt\n",
      "-rw-rw-r-- 1 wallabot wallabot    0 nov 28 15:12 index.html\n",
      "-rw-rw-r-- 1 wallabot wallabot  182 nov 28 15:15 lista.txt\n",
      "After touch:\n",
      "total 292K\n",
      "drwxrwxr-x 2 wallabot wallabot 4,0K nov 28 15:24 .\n",
      "drwxrwxr-x 7 wallabot wallabot 4,0K nov 28 15:06 ..\n",
      "-rw-rw-r-- 1 wallabot wallabot 280K nov 28 15:06 2021-02-11-Introduccion-a-Python.ipynb\n",
      "-rw-rw-r-- 1 wallabot wallabot    0 nov 28 15:12 Abc\n",
      "-rw-rw-r-- 1 wallabot wallabot    0 nov 28 15:12 datos1\n",
      "-rw-rw-r-- 1 wallabot wallabot    0 nov 28 15:12 datos123\n",
      "-rw-rw-r-- 1 wallabot wallabot    0 nov 28 15:12 dot2.txt\n",
      "-rw-rw-r-- 1 wallabot wallabot    0 nov 28 15:12 dot.txt\n",
      "-rw-rw-r-- 1 wallabot wallabot    0 nov 28 15:12 file.txt\n",
      "-rw-rw-r-- 1 wallabot wallabot    0 nov 28 15:12 index.html\n",
      "-rw-rw-r-- 1 wallabot wallabot  182 nov 28 15:15 lista.txt\n",
      "-rw-rw-r-- 1 wallabot wallabot    0 nov 28 15:24 secuential.txt\n"
     ]
    }
   ],
   "source": [
    "!echo \"Before touch;\" && ls -lha && touch secuential.txt && echo \"After touch:\" && ls -lha"
   ]
  },
  {
   "cell_type": "markdown",
   "metadata": {},
   "source": [
    "Aquí podemos ver como se ha ejecutado uno detrás de otro, es decir, un comando no empieza hasta que el anterior acaba"
   ]
  },
  {
   "cell_type": "markdown",
   "metadata": {},
   "source": [
    "Pero entonces, ¿cuál es la diferencia entre `;` y `&&`?"
   ]
  },
  {
   "cell_type": "markdown",
   "metadata": {},
   "source": [
    "En el primero, el secuencial `;`, primero se ejecuta un comando y luego otro, pero para que se ejecute un comando da igual que el anterior se haya ejecutado satisfactoriamente"
   ]
  },
  {
   "cell_type": "code",
   "execution_count": 111,
   "metadata": {},
   "outputs": [
    {
     "name": "stdout",
     "output_type": "stream",
     "text": [
      "rm: no se puede borrar 'prueba': No existe el archivo o el directorio\n",
      "total 292K\n",
      "drwxrwxr-x 2 wallabot wallabot 4,0K nov 28 15:24 .\n",
      "drwxrwxr-x 7 wallabot wallabot 4,0K nov 28 15:06 ..\n",
      "-rw-rw-r-- 1 wallabot wallabot 280K nov 28 15:06 2021-02-11-Introduccion-a-Python.ipynb\n",
      "-rw-rw-r-- 1 wallabot wallabot    0 nov 28 15:12 Abc\n",
      "-rw-rw-r-- 1 wallabot wallabot    0 nov 28 15:12 datos1\n",
      "-rw-rw-r-- 1 wallabot wallabot    0 nov 28 15:12 datos123\n",
      "-rw-rw-r-- 1 wallabot wallabot    0 nov 28 15:12 dot2.txt\n",
      "-rw-rw-r-- 1 wallabot wallabot    0 nov 28 15:12 dot.txt\n",
      "-rw-rw-r-- 1 wallabot wallabot    0 nov 28 15:12 file.txt\n",
      "-rw-rw-r-- 1 wallabot wallabot    0 nov 28 15:12 index.html\n",
      "-rw-rw-r-- 1 wallabot wallabot  182 nov 28 15:15 lista.txt\n",
      "-rw-rw-r-- 1 wallabot wallabot    0 nov 28 15:24 secuential.txt\n"
     ]
    }
   ],
   "source": [
    "!rm prueba ; ls -lha"
   ]
  },
  {
   "cell_type": "markdown",
   "metadata": {},
   "source": [
    "Como se puede ver primero se ejecuta `rm prueba`, da un error y aun así se ejecuta `ls -lha prueba`"
   ]
  },
  {
   "cell_type": "markdown",
   "metadata": {},
   "source": [
    "En la manera condicional `&&`, si un comando no se ejecuta satisfactoriamente, el siguiente no se ejecuta"
   ]
  },
  {
   "cell_type": "code",
   "execution_count": 112,
   "metadata": {},
   "outputs": [
    {
     "name": "stdout",
     "output_type": "stream",
     "text": [
      "rm: no se puede borrar 'prueba': No existe el archivo o el directorio\n"
     ]
    }
   ],
   "source": [
    "!rm prueba && ls -lha"
   ]
  },
  {
   "cell_type": "markdown",
   "metadata": {},
   "source": [
    "Como se puede ver `ls -lha prueba` no se ejecuta ya que `rm prueba` a dado un error"
   ]
  },
  {
   "cell_type": "markdown",
   "metadata": {},
   "source": [
    "##### Or"
   ]
  },
  {
   "cell_type": "markdown",
   "metadata": {},
   "source": [
    "A diferencia del `&&`, el or ejecutará todos los procesos sea cual sea su resultado. Se ha de utilizar el operador `||`"
   ]
  },
  {
   "cell_type": "code",
   "execution_count": 113,
   "metadata": {},
   "outputs": [
    {
     "name": "stdout",
     "output_type": "stream",
     "text": [
      "rm: no se puede borrar 'prueba': No existe el archivo o el directorio\n",
      "total 292K\n",
      "drwxrwxr-x 2 wallabot wallabot 4,0K nov 28 15:24 .\n",
      "drwxrwxr-x 7 wallabot wallabot 4,0K nov 28 15:06 ..\n",
      "-rw-rw-r-- 1 wallabot wallabot 280K nov 28 15:06 2021-02-11-Introduccion-a-Python.ipynb\n",
      "-rw-rw-r-- 1 wallabot wallabot    0 nov 28 15:12 Abc\n",
      "-rw-rw-r-- 1 wallabot wallabot    0 nov 28 15:12 datos1\n",
      "-rw-rw-r-- 1 wallabot wallabot    0 nov 28 15:12 datos123\n",
      "-rw-rw-r-- 1 wallabot wallabot    0 nov 28 15:12 dot2.txt\n",
      "-rw-rw-r-- 1 wallabot wallabot    0 nov 28 15:12 dot.txt\n",
      "-rw-rw-r-- 1 wallabot wallabot    0 nov 28 15:12 file.txt\n",
      "-rw-rw-r-- 1 wallabot wallabot    0 nov 28 15:12 index.html\n",
      "-rw-rw-r-- 1 wallabot wallabot  182 nov 28 15:15 lista.txt\n",
      "-rw-rw-r-- 1 wallabot wallabot    0 nov 28 15:24 secuential.txt\n"
     ]
    }
   ],
   "source": [
    "!rm prueba || ls -lha"
   ]
  },
  {
   "cell_type": "markdown",
   "metadata": {},
   "source": [
    "La diferencia entre este y `;` es que el `||` (or) no crea un nuevo hilo para cada comando"
   ]
  },
  {
   "cell_type": "markdown",
   "metadata": {},
   "source": [
    "### Cómo se manejan los permisos"
   ]
  },
  {
   "cell_type": "markdown",
   "metadata": {},
   "source": [
    "Cuando se listan los archivos de un directorio con el flag `-l` (long) aparecen unos símbolos al lado de  cada archivo"
   ]
  },
  {
   "cell_type": "code",
   "execution_count": 114,
   "metadata": {},
   "outputs": [],
   "source": [
    "!mkdir subdirectorio"
   ]
  },
  {
   "cell_type": "code",
   "execution_count": 115,
   "metadata": {},
   "outputs": [
    {
     "name": "stdout",
     "output_type": "stream",
     "text": [
      "total 288\n",
      "-rw-rw-r-- 1 wallabot wallabot 285898 nov 28 15:06 2021-02-11-Introduccion-a-Python.ipynb\n",
      "-rw-rw-r-- 1 wallabot wallabot      0 nov 28 15:12 Abc\n",
      "-rw-rw-r-- 1 wallabot wallabot      0 nov 28 15:12 datos1\n",
      "-rw-rw-r-- 1 wallabot wallabot      0 nov 28 15:12 datos123\n",
      "-rw-rw-r-- 1 wallabot wallabot      0 nov 28 15:12 dot2.txt\n",
      "-rw-rw-r-- 1 wallabot wallabot      0 nov 28 15:12 dot.txt\n",
      "-rw-rw-r-- 1 wallabot wallabot      0 nov 28 15:12 file.txt\n",
      "-rw-rw-r-- 1 wallabot wallabot      0 nov 28 15:12 index.html\n",
      "-rw-rw-r-- 1 wallabot wallabot    182 nov 28 15:15 lista.txt\n",
      "-rw-rw-r-- 1 wallabot wallabot      0 nov 28 15:24 secuential.txt\n",
      "drwxrwxr-x 2 wallabot wallabot   4096 nov 28 15:28 subdirectorio\n"
     ]
    }
   ],
   "source": [
    "!ls -l"
   ]
  },
  {
   "cell_type": "markdown",
   "metadata": {},
   "source": [
    "Esto nos da información de cada archivo"
   ]
  },
  {
   "cell_type": "markdown",
   "metadata": {},
   "source": [
    "Primero veamos qué tipos de archivos hay\n",
    " * -: Archivo normal\n",
    " * d: Directorio\n",
    " * l: Link simbólico\n",
    " * b: Archivo de bloque especial. Son archivos que manejan la información de los bloques de datos como por ejemplo un USB"
   ]
  },
  {
   "cell_type": "markdown",
   "metadata": {},
   "source": [
    "Después veremos los tipos de modo:\n",
    "\n",
    "<table border=\"1\">\n",
    "\t<header>\n",
    "\t\t<tr>\n",
    "\t\t\t<th scope=\"col\" colspan=\"3\">Dueño</th>\n",
    "\t\t\t<th scope=\"col\" colspan=\"3\">Grupo</th>\n",
    "\t\t\t<th scope=\"col\" colspan=\"3\">World</th>\n",
    "\t\t</tr>\n",
    "\t</header>\n",
    "\t<body>\n",
    "\t\t<tr>\n",
    "\t\t\t<th scope=\"row\" colspan=\"3\">rwx</th>\n",
    "\t\t\t<th scope=\"row\" colspan=\"3\">r-x</th>\n",
    "\t\t\t<th scope=\"row\" colspan=\"3\">r-x</th>\n",
    "\t\t</tr>\n",
    "\t\t<tr>\n",
    "\t\t\t<th scope=\"row\">1</th>\n",
    "\t\t\t<th scope=\"row\">1</th>\n",
    "\t\t\t<th scope=\"row\">1</th>\n",
    "\t\t\t<th scope=\"row\">1</th>\n",
    "\t\t\t<th scope=\"row\">0</th>\n",
    "\t\t\t<th scope=\"row\">1</th>\n",
    "\t\t\t<th scope=\"row\">1</th>\n",
    "\t\t\t<th scope=\"row\">0</th>\n",
    "\t\t\t<th scope=\"row\">1</th>\n",
    "\t\t</tr>\n",
    "\t\t<tr>\n",
    "\t\t\t<th scope=\"row\" colspan=\"3\">7</th>\n",
    "\t\t\t<th scope=\"row\" colspan=\"3\">5</th>\n",
    "\t\t\t<th scope=\"row\" colspan=\"3\">5</th>\n",
    "\t\t</tr>\n",
    "\t<body>\n",
    "</table>\n",
    "\n",
    " * r: read\n",
    " * w: write\n",
    " * x: execute"
   ]
  },
  {
   "cell_type": "markdown",
   "metadata": {},
   "source": [
    "Modo simbólico:\n",
    " * u: Solo para el usuario\n",
    " * g: Solo para el grupo\n",
    " * o: Solo para otros (world)\n",
    " * a: Para todos"
   ]
  },
  {
   "cell_type": "markdown",
   "metadata": {},
   "source": [
    "### Modificando los permisos en la terminal"
   ]
  },
  {
   "cell_type": "markdown",
   "metadata": {},
   "source": [
    "Creamos un nuevo archivo"
   ]
  },
  {
   "cell_type": "code",
   "execution_count": 116,
   "metadata": {},
   "outputs": [],
   "source": [
    "terminal(\"cd subdirectorio\")"
   ]
  },
  {
   "cell_type": "code",
   "execution_count": 117,
   "metadata": {},
   "outputs": [],
   "source": [
    "!echo \"hola mundo\" > mitexto.txt"
   ]
  },
  {
   "cell_type": "code",
   "execution_count": 118,
   "metadata": {},
   "outputs": [
    {
     "name": "stdout",
     "output_type": "stream",
     "text": [
      "hola mundo\n"
     ]
    }
   ],
   "source": [
    "!cat mitexto.txt"
   ]
  },
  {
   "cell_type": "markdown",
   "metadata": {},
   "source": [
    "Vamos a ver los permisos que tiene"
   ]
  },
  {
   "cell_type": "code",
   "execution_count": 119,
   "metadata": {},
   "outputs": [
    {
     "name": "stdout",
     "output_type": "stream",
     "text": [
      "total 4\n",
      "-rw-rw-r-- 1 wallabot wallabot 11 nov 28 15:29 mitexto.txt\n"
     ]
    }
   ],
   "source": [
    "!ls -l"
   ]
  },
  {
   "cell_type": "markdown",
   "metadata": {},
   "source": [
    "Como vemos tiene permisos de lectura y escritura para mi usuario y el grupo, y solo permisos de lectura para el resto (world)"
   ]
  },
  {
   "cell_type": "markdown",
   "metadata": {},
   "source": [
    "Para cambiar los permisos de un archivo usamos el comando `chmod` (change mode), donde tenemos que poner en octal, los permisos del usuario, luego los de grupo y por último los del resto."
   ]
  },
  {
   "cell_type": "code",
   "execution_count": 120,
   "metadata": {},
   "outputs": [],
   "source": [
    "!chmod 755 mitexto.txt"
   ]
  },
  {
   "cell_type": "code",
   "execution_count": 121,
   "metadata": {},
   "outputs": [
    {
     "name": "stdout",
     "output_type": "stream",
     "text": [
      "total 4\n",
      "-rwxr-xr-x 1 wallabot wallabot 11 nov 28 15:29 mitexto.txt\n"
     ]
    }
   ],
   "source": [
    "!ls -l"
   ]
  },
  {
   "cell_type": "markdown",
   "metadata": {},
   "source": [
    "Vemos que ahora mi usuario tiene permisos de lectura, escritura y ejecución, mientras que el grupo y el resto del mundo tiene permisos de lectura y ejecución"
   ]
  },
  {
   "cell_type": "markdown",
   "metadata": {},
   "source": [
    "Vamos a quitar los permisos de lectura solo a mi usuario. Para cambiar solo los permisos de un usuario usamos el identificador simbólico, un `+` si queremos agregar permisos o un `-` si queremos quitarlos o un `=` si queremos restablecerlos y seguido del tipo de permiso"
   ]
  },
  {
   "cell_type": "code",
   "execution_count": 122,
   "metadata": {},
   "outputs": [],
   "source": [
    "!chmod u-r mitexto.txt"
   ]
  },
  {
   "cell_type": "code",
   "execution_count": 123,
   "metadata": {},
   "outputs": [
    {
     "name": "stdout",
     "output_type": "stream",
     "text": [
      "total 4\n",
      "--wxr-xr-x 1 wallabot wallabot 11 nov 28 15:29 mitexto.txt\n"
     ]
    }
   ],
   "source": [
    "!ls -l"
   ]
  },
  {
   "cell_type": "code",
   "execution_count": 124,
   "metadata": {},
   "outputs": [
    {
     "name": "stdout",
     "output_type": "stream",
     "text": [
      "cat: mitexto.txt: Permiso denegado\n"
     ]
    }
   ],
   "source": [
    "!cat mitexto.txt"
   ]
  },
  {
   "cell_type": "markdown",
   "metadata": {},
   "source": [
    "Como vemos, al quitar permisos de lectura para mi usuario, no podemos leer el archivo"
   ]
  },
  {
   "cell_type": "markdown",
   "metadata": {},
   "source": [
    "Le volvemos a poner el permiso de lectura"
   ]
  },
  {
   "cell_type": "code",
   "execution_count": 125,
   "metadata": {},
   "outputs": [],
   "source": [
    "!chmod u+r mitexto.txt"
   ]
  },
  {
   "cell_type": "code",
   "execution_count": 126,
   "metadata": {},
   "outputs": [
    {
     "name": "stdout",
     "output_type": "stream",
     "text": [
      "total 4\n",
      "-rwxr-xr-x 1 wallabot wallabot 11 nov 28 15:29 mitexto.txt\n"
     ]
    }
   ],
   "source": [
    "!ls -l"
   ]
  },
  {
   "cell_type": "code",
   "execution_count": 127,
   "metadata": {},
   "outputs": [
    {
     "name": "stdout",
     "output_type": "stream",
     "text": [
      "hola mundo\n"
     ]
    }
   ],
   "source": [
    "!cat mitexto.txt"
   ]
  },
  {
   "cell_type": "markdown",
   "metadata": {},
   "source": [
    "Si queremos agregar o quitar permisos a más de un usuario lo hacemos separando cada permiso por una `,`"
   ]
  },
  {
   "cell_type": "code",
   "execution_count": 128,
   "metadata": {},
   "outputs": [],
   "source": [
    "!chmod u-x,go=w mitexto.txt"
   ]
  },
  {
   "cell_type": "code",
   "execution_count": 129,
   "metadata": {},
   "outputs": [
    {
     "name": "stdout",
     "output_type": "stream",
     "text": [
      "total 4\n",
      "-rw--w--w- 1 wallabot wallabot 11 nov 28 15:29 mitexto.txt\n"
     ]
    }
   ],
   "source": [
    "!ls -l"
   ]
  },
  {
   "cell_type": "markdown",
   "metadata": {},
   "source": [
    "Como se puede ver, se le ha quitado el permiso de ejecución al usuario y se ha establecido el permiso de solo escritura para el grupo y el resto del mundo"
   ]
  },
  {
   "cell_type": "markdown",
   "metadata": {},
   "source": [
    "Para saber quienes somos podemos usar el comando `whoami` (who am I)"
   ]
  },
  {
   "cell_type": "code",
   "execution_count": 130,
   "metadata": {},
   "outputs": [
    {
     "name": "stdout",
     "output_type": "stream",
     "text": [
      "wallabot\n"
     ]
    }
   ],
   "source": [
    "!whoami"
   ]
  },
  {
   "cell_type": "markdown",
   "metadata": {},
   "source": [
    "Otra manera, que además da más información, es el comando `id`"
   ]
  },
  {
   "cell_type": "code",
   "execution_count": 131,
   "metadata": {},
   "outputs": [
    {
     "name": "stdout",
     "output_type": "stream",
     "text": [
      "uid=1000(wallabot) gid=1000(wallabot) grupos=1000(wallabot),4(adm),24(cdrom),27(sudo),30(dip),46(plugdev),120(lpadmin),131(lxd),132(sambashare),998(docker)\n"
     ]
    }
   ],
   "source": [
    "!id"
   ]
  },
  {
   "cell_type": "markdown",
   "metadata": {},
   "source": [
    "Este comando nos dice que nuestro id de usuario es el 1000, el id de grupo es el 1000 y que pertenecemos a los grupos wallabot, adm, cdrom, sudo, dip, plugdev, lpadmin, lxd, sambashare y docker"
   ]
  },
  {
   "cell_type": "markdown",
   "metadata": {},
   "source": [
    "Si queremos cambiar de usuario usamos el comando `su` (switch user). Para según que usuario hay que usar `sudo` (superuser do)"
   ]
  },
  {
   "cell_type": "markdown",
   "metadata": {},
   "source": [
    "``` bash\n",
    "$ sudo su root\n",
    "root@wallabot:/home/wallabot/Documentos/web/portafolio/posts/prueba/subdirectorio#\n",
    "```\n",
    "\n",
    "Como vemos cambia el propt y ahora indica que somos el usuario root"
   ]
  },
  {
   "cell_type": "markdown",
   "metadata": {},
   "source": [
    "Vamos a la carpeta home\n",
    "\n",
    "```bash\n",
    "$ cd\n",
    "root@wallabot:~# \n",
    "```\n",
    "\n",
    "Pero en Linux hay una carpeta home por cada usuario, esto lo podemos ver si ejecutamos el comando `pwd`\n",
    "\n",
    "```bash\n",
    "$ pwd\n",
    "/root\n",
    "```"
   ]
  },
  {
   "cell_type": "markdown",
   "metadata": {},
   "source": [
    "Voy a crear un archivo en la carpeta donde antes he creado el archivo *mitexto.txt*\n",
    "\n",
    "```bash\n",
    "$ touch /home/wallabot/Documentos/web/portafolio/posts/prueba/subdirectorio/rootfile.txt\n",
    "```"
   ]
  },
  {
   "cell_type": "markdown",
   "metadata": {},
   "source": [
    "Vuelvo a cambiarme a mi usuario\n",
    "\n",
    "```bash\n",
    "$ su wallabot\n",
    "wallabot@wallabot:/root$\n",
    "```\n",
    "\n",
    "Y me voy al directorio donde están los archivos que he creado"
   ]
  },
  {
   "cell_type": "code",
   "execution_count": 134,
   "metadata": {},
   "outputs": [],
   "source": [
    "!cd /home/wallabot/Documentos/web/portafolio/posts/prueba/subdirectorio"
   ]
  },
  {
   "cell_type": "markdown",
   "metadata": {},
   "source": [
    "Vemos los archivos que hay y sus permisos"
   ]
  },
  {
   "cell_type": "code",
   "execution_count": 135,
   "metadata": {},
   "outputs": [
    {
     "name": "stdout",
     "output_type": "stream",
     "text": [
      "total 4\n",
      "-rw--w--w- 1 wallabot wallabot 11 nov 28 15:29 mitexto.txt\n",
      "-rw-r--r-- 1 root     root      0 nov 28 15:33 rootfile.txt\n"
     ]
    }
   ],
   "source": [
    "!ls -l"
   ]
  },
  {
   "cell_type": "markdown",
   "metadata": {},
   "source": [
    "Como vemos el usuario y el grupo del archivo *rootfile.txt* es el usuario `root`"
   ]
  },
  {
   "cell_type": "markdown",
   "metadata": {},
   "source": [
    "Si yo ahora que soy el usuario *wallabot* intento borrar el archivo `rootfile.txt`"
   ]
  },
  {
   "cell_type": "code",
   "execution_count": 136,
   "metadata": {},
   "outputs": [
    {
     "name": "stdout",
     "output_type": "stream",
     "text": [
      "rm: ¿borrar el fichero regular vacío 'rootfile.txt'  protegido contra escritura? (s/n) ^C\n"
     ]
    }
   ],
   "source": [
    "!rm rootfile.txt"
   ]
  },
  {
   "cell_type": "markdown",
   "metadata": {},
   "source": [
    "Como vemos, nos pregunta si lo queremos borrar, ya que pertenece a otro usuario"
   ]
  },
  {
   "cell_type": "markdown",
   "metadata": {},
   "source": [
    "### Modificar la contraseña de un usuario"
   ]
  },
  {
   "cell_type": "markdown",
   "metadata": {},
   "source": [
    "Si quiero modificar la contraseña del usuario que tengo actualmente activo uso el comando `passwd` (password)\n",
    "\n",
    "Primero compruebo qué usuario soy\n",
    "\n",
    "```bash\n",
    "$ whoami\n",
    "wallabot\n",
    "```\n",
    "\n",
    "Y ahora probamos a cambiar la contraseña\n",
    "\n",
    "```bash\n",
    "$ passwd\n",
    "Cambiando la contraseña de wallabot.\n",
    "Contraseña actual de : \n",
    "Nueva contraseña: \n",
    "Vuelva a escribir la nueva contraseña\n",
    "```\n",
    "\n",
    "Como vemos pide la actual contraseña para poder cambiarla"
   ]
  },
  {
   "cell_type": "markdown",
   "metadata": {},
   "source": [
    "### Links simbólicos"
   ]
  },
  {
   "cell_type": "markdown",
   "metadata": {},
   "source": [
    "Podemos crear links simbólicos a una ruta determinada mediante el comando `ln` (link) seguido del flag `-s` (symbolic), el directorio y el nombre del link"
   ]
  },
  {
   "cell_type": "code",
   "execution_count": 137,
   "metadata": {},
   "outputs": [],
   "source": [
    "!ln -s /home/wallabot/Documentos/web web"
   ]
  },
  {
   "cell_type": "markdown",
   "metadata": {},
   "source": [
    "Si ahora listamos los archivos"
   ]
  },
  {
   "cell_type": "code",
   "execution_count": 138,
   "metadata": {},
   "outputs": [
    {
     "name": "stdout",
     "output_type": "stream",
     "text": [
      "total 4\n",
      "-rw--w--w- 1 wallabot wallabot 11 nov 28 15:29 mitexto.txt\n",
      "-rw-r--r-- 1 root     root      0 nov 28 15:33 rootfile.txt\n",
      "lrwxrwxrwx 1 wallabot wallabot 29 nov 28 15:34 web -> /home/wallabot/Documentos/web\n"
     ]
    }
   ],
   "source": [
    "!ls -l"
   ]
  },
  {
   "cell_type": "markdown",
   "metadata": {},
   "source": [
    "Vemos el link simbólico `web` que apunta a # ln: `/home/wallabot/Documentos/web:` no se permiten enlaces fuertes para directorios"
   ]
  },
  {
   "cell_type": "markdown",
   "metadata": {},
   "source": [
    "Yo ahora me puedo ir a `web`"
   ]
  },
  {
   "cell_type": "code",
   "execution_count": 139,
   "metadata": {},
   "outputs": [],
   "source": [
    "terminal(\"cd web\")"
   ]
  },
  {
   "cell_type": "code",
   "execution_count": 140,
   "metadata": {},
   "outputs": [
    {
     "name": "stdout",
     "output_type": "stream",
     "text": [
      "/home/wallabot/Documentos/web\n"
     ]
    }
   ],
   "source": [
    "!pwd"
   ]
  },
  {
   "cell_type": "markdown",
   "metadata": {},
   "source": [
    "### Configurar las variables de entorno"
   ]
  },
  {
   "cell_type": "markdown",
   "metadata": {},
   "source": [
    "Con el comando `printenv` podemos ver todas las variables de entorno"
   ]
  },
  {
   "cell_type": "code",
   "execution_count": 141,
   "metadata": {},
   "outputs": [
    {
     "name": "stdout",
     "output_type": "stream",
     "text": [
      "GJS_DEBUG_TOPICS=JS ERROR;JS LOG\n",
      "VSCODE_CWD=/home/wallabot\n",
      "LESSOPEN=| /usr/bin/lesspipe %s\n",
      "CONDA_PROMPT_MODIFIER=(base) \n",
      "PYTHONIOENCODING=utf-8\n",
      "USER=wallabot\n",
      "VSCODE_NLS_CONFIG={\"locale\":\"es\",\"availableLanguages\":{\"*\":\"es\"},\"_languagePackId\":\"b07c40c9acb9e1d7b3ca14b06f814803.es\",\"_translationsConfigFile\":\"/home/wallabot/.config/Code/clp/b07c40c9acb9e1d7b3ca14b06f814803.es/tcf.json\",\"_cacheRoot\":\"/home/wallabot/.config/Code/clp/b07c40c9acb9e1d7b3ca14b06f814803.es\",\"_resolvedLanguagePackCoreLocation\":\"/home/wallabot/.config/Code/clp/b07c40c9acb9e1d7b3ca14b06f814803.es/6261075646f055b99068d3688932416f2346dd3b\",\"_corruptedFile\":\"/home/wallabot/.config/Code/clp/b07c40c9acb9e1d7b3ca14b06f814803.es/corrupted.info\",\"_languagePackSupport\":true}\n",
      "VSCODE_HANDLES_UNCAUGHT_ERRORS=true\n",
      "MPLBACKEND=module://ipykernel.pylab.backend_inline\n",
      "SSH_AGENT_PID=1344\n",
      "XDG_SESSION_TYPE=x11\n",
      "SHLVL=0\n",
      "HOME=/home/wallabot\n",
      "CHROME_DESKTOP=code-url-handler.desktop\n",
      "CONDA_SHLVL=1\n",
      "DESKTOP_SESSION=ubuntu\n",
      "GIO_LAUNCHED_DESKTOP_FILE=/usr/share/applications/code.desktop\n",
      "VSCODE_IPC_HOOK=/run/user/1000/vscode-26527400-1.73.1-main.sock\n",
      "PYTHONUNBUFFERED=1\n",
      "GTK_MODULES=gail:atk-bridge\n",
      "GNOME_SHELL_SESSION_MODE=ubuntu\n",
      "APPLICATION_INSIGHTS_NO_DIAGNOSTIC_CHANNEL=true\n",
      "PAGER=cat\n",
      "MANAGERPID=1124\n",
      "DBUS_SESSION_BUS_ADDRESS=unix:path=/run/user/1000/bus\n",
      "GIO_LAUNCHED_DESKTOP_FILE_PID=11810\n",
      "_CE_M=\n",
      "IM_CONFIG_PHASE=1\n",
      "LOGNAME=wallabot\n",
      "_=/home/wallabot/anaconda3/bin/python\n",
      "JOURNAL_STREAM=8:52882\n",
      "XDG_SESSION_CLASS=user\n",
      "USERNAME=wallabot\n",
      "TERM=xterm-color\n",
      "GNOME_DESKTOP_SESSION_ID=this-is-deprecated\n",
      "_CE_CONDA=\n",
      "WINDOWPATH=2\n",
      "PATH=/home/wallabot/anaconda3/bin:/home/wallabot/anaconda3/condabin:/usr/local/sbin:/usr/local/bin:/usr/sbin:/usr/bin:/sbin:/bin:/usr/games:/usr/local/games:/snap/bin\n",
      "SESSION_MANAGER=local/wallabot:@/tmp/.ICE-unix/1381,unix/wallabot:/tmp/.ICE-unix/1381\n",
      "INVOCATION_ID=85cd2f45e0c44f3dab77c4a8542f230b\n",
      "VSCODE_AMD_ENTRYPOINT=vs/workbench/api/node/extensionHostProcess\n",
      "XDG_RUNTIME_DIR=/run/user/1000\n",
      "XDG_MENU_PREFIX=gnome-\n",
      "GDK_BACKEND=x11\n",
      "DISPLAY=:0\n",
      "LANG=es_ES.UTF-8\n",
      "XDG_CURRENT_DESKTOP=Unity\n",
      "XAUTHORITY=/run/user/1000/gdm/Xauthority\n",
      "XDG_SESSION_DESKTOP=ubuntu\n",
      "XMODIFIERS=@im=ibus\n",
      "LS_COLORS=\n",
      "SSH_AUTH_SOCK=/run/user/1000/keyring/ssh\n",
      "ORIGINAL_XDG_CURRENT_DESKTOP=ubuntu:GNOME\n",
      "CONDA_PYTHON_EXE=/home/wallabot/anaconda3/bin/python\n",
      "SHELL=/bin/bash\n",
      "ELECTRON_RUN_AS_NODE=1\n",
      "QT_ACCESSIBILITY=1\n",
      "GDMSESSION=ubuntu\n",
      "LESSCLOSE=/usr/bin/lesspipe %s %s\n",
      "CONDA_DEFAULT_ENV=base\n",
      "PYDEVD_IPYTHON_COMPATIBLE_DEBUGGING=1\n",
      "GPG_AGENT_INFO=/run/user/1000/gnupg/S.gpg-agent:0:1\n",
      "GJS_DEBUG_OUTPUT=stderr\n",
      "QT_IM_MODULE=ibus\n",
      "GIT_PAGER=cat\n",
      "PWD=/home/wallabot/Documentos/web\n",
      "CLICOLOR=1\n",
      "XDG_DATA_DIRS=/usr/share/ubuntu:/usr/local/share/:/usr/share/:/var/lib/snapd/desktop\n",
      "XDG_CONFIG_DIRS=/etc/xdg/xdg-ubuntu:/etc/xdg\n",
      "VSCODE_CODE_CACHE_PATH=/home/wallabot/.config/Code/CachedData/6261075646f055b99068d3688932416f2346dd3b\n",
      "CONDA_EXE=/home/wallabot/anaconda3/bin/conda\n",
      "CONDA_PREFIX=/home/wallabot/anaconda3\n",
      "VSCODE_PID=11810\n"
     ]
    }
   ],
   "source": [
    "!printenv"
   ]
  },
  {
   "cell_type": "markdown",
   "metadata": {},
   "source": [
    "Para ver una variable de entorno en concreto podemos hacerlo mediante el comando `echo` seguido del símbolo `$` y el nombre de la variable"
   ]
  },
  {
   "cell_type": "code",
   "execution_count": 142,
   "metadata": {},
   "outputs": [
    {
     "name": "stdout",
     "output_type": "stream",
     "text": [
      "/home/wallabot\n"
     ]
    }
   ],
   "source": [
    "!echo $HOME"
   ]
  },
  {
   "cell_type": "markdown",
   "metadata": {},
   "source": [
    "#### Modificar una variable de entorno para una sesión de terminal"
   ]
  },
  {
   "cell_type": "markdown",
   "metadata": {},
   "source": [
    "Podemos modificar una variable de entorno para la sesión activa de terminal, por ejemplo, vamos a agregar una nueva ruta a la variable `PATH`. Primero vemos qué hay en ella\n",
    "\n",
    "```bash\n",
    "$ echo $PATH\n",
    "/home/wallabot/anaconda3/bin:/home/wallabot/anaconda3/condabin:/usr/local/sbin:/usr/local/bin:/usr/sbin:/usr/bin:/sbin:/bin:/usr/games:/usr/local/games:/snap/bin\n",
    "```\n",
    "\n",
    "Ahora añadimos un nuevo direcotorio\n",
    "\n",
    "```bash\n",
    "$ PATH=$PATH:\"subdirectorio\"\n",
    "```\n",
    "\n",
    "Volvemos a ver qué hay dentro de `PATH`\n",
    "\n",
    "```bash\n",
    "$ $ echo $PATH\n",
    "/home/wallabot/anaconda3/bin:/home/wallabot/anaconda3/condabin:/usr/local/sbin:/usr/local/bin:/usr/sbin:/usr/bin:/sbin:/bin:/usr/games:/usr/local/games:/snap/bin:subdirectorio\n",
    "```\n",
    "\n",
    "Vemos que se ha añadido el directorio `subdirectorio`.\n",
    "\n",
    "El problema de este método es que cuando abramos una nueva terminal no se mantendrá este cambio en `PATH`"
   ]
  },
  {
   "cell_type": "markdown",
   "metadata": {},
   "source": [
    "#### Modificar una variable de entorno para todas las sesiones de terminal"
   ]
  },
  {
   "cell_type": "markdown",
   "metadata": {},
   "source": [
    "Nos vamos a la carpeta home"
   ]
  },
  {
   "cell_type": "code",
   "execution_count": 143,
   "metadata": {},
   "outputs": [],
   "source": [
    "terminal(\"cd /home/wallabot\")"
   ]
  },
  {
   "cell_type": "markdown",
   "metadata": {},
   "source": [
    "Aquí en el home listamos todos los archivos con el flag `-a` (all)"
   ]
  },
  {
   "cell_type": "code",
   "execution_count": 144,
   "metadata": {},
   "outputs": [
    {
     "name": "stdout",
     "output_type": "stream",
     "text": [
      ".\t\t.eclipse\t\t       .pki\n",
      "..\t\tEscritorio\t\t       Plantillas\n",
      ".afirma\t\t.gitconfig\t\t       .platformio\n",
      "anaconda3\t.gnupg\t\t\t       .profile\n",
      ".audacity-data\tImágenes\t\t       .psensor\n",
      ".bash_history\t.ipython\t\t       Público\n",
      ".bash_logout\t.java\t\t\t       .python_history\n",
      ".bashrc\t\t.jupyter\t\t       snap\n",
      ".cache\t\t.lesshst\t\t       .ssh\n",
      ".conda\t\tLightworks\t\t       .sudo_as_admin_successful\n",
      ".config\t\t.Lightworks.thereCanBeOnlyOne  .thunderbird\n",
      ".cortex-debug\t.local\t\t\t       Vídeos\n",
      ".cyberghost\tlogiops\t\t\t       .vnc\n",
      ".dbus\t\t.MCTranscodingSDK\t       .vscode\n",
      "Descargas\t.mozilla\t\t       .wget-hsts\n",
      ".docker\t\tMúsica\n",
      "Documentos\t.nv\n"
     ]
    }
   ],
   "source": [
    "!ls -a"
   ]
  },
  {
   "cell_type": "markdown",
   "metadata": {},
   "source": [
    "Vemos que hay una archivo que se llama `.bashrc`, este archivo es el archivo que tiene la configuración de nuestro bash"
   ]
  },
  {
   "cell_type": "code",
   "execution_count": 145,
   "metadata": {},
   "outputs": [
    {
     "name": "stdout",
     "output_type": "stream",
     "text": [
      "# ~/.bashrc: executed by bash(1) for non-login shells.\n",
      "# see /usr/share/doc/bash/examples/startup-files (in the package bash-doc)\n",
      "# for examples\n",
      "\t ...\n",
      "fi\n",
      "unset __conda_setup\n",
      "# <<< conda initialize <<<\n",
      "\n",
      "\n"
     ]
    }
   ],
   "source": [
    "terminal(\"cat .bashrc\", max_lines_output=3)"
   ]
  },
  {
   "cell_type": "markdown",
   "metadata": {},
   "source": [
    "Este archivo es el que configura la terminal cada vez que se abre una nueva, por lo que si en el editamos la variable `PATH`, este cambio se mantendrá para todas las ventanas nuevas de terminal que abramos"
   ]
  },
  {
   "cell_type": "markdown",
   "metadata": {},
   "source": [
    "Para modificar la variable `PATH` dentro del archivo de configuración tenemos que agregar la siguiente linea al archivo\n",
    "\n",
    "```\n",
    "PATH=$PATH:\"subdirectorio\"\n",
    "```"
   ]
  },
  {
   "cell_type": "markdown",
   "metadata": {},
   "source": [
    "Ya vimos cómo crear alias de comandos, pero también pasaba que se perdían cada vez que cerrábamos una sesión de terminal, para que esto no pase, los añadimos tambien al archivo de configuración `.bashrc`. Por ejemplo, en mi caso he añadido las siguientes línea\n",
    "\n",
    "```\n",
    "alias ll='ls -l'\n",
    "alias la='ls -a'\n",
    "alias lh='ls -h'\n",
    "alias lha='ls -lha'\n",
    "```"
   ]
  },
  {
   "cell_type": "markdown",
   "metadata": {},
   "source": [
    "### Comandos de búsqueda"
   ]
  },
  {
   "cell_type": "markdown",
   "metadata": {},
   "source": [
    "#### Búsqueda de binarios con `which`"
   ]
  },
  {
   "cell_type": "markdown",
   "metadata": {},
   "source": [
    "El primer comando de busqueda que vamos a ver es `which` que nos permite encontrar la ruta de los binarios"
   ]
  },
  {
   "cell_type": "code",
   "execution_count": 146,
   "metadata": {},
   "outputs": [
    {
     "name": "stdout",
     "output_type": "stream",
     "text": [
      "/home/wallabot/anaconda3/bin/python\n"
     ]
    }
   ],
   "source": [
    "!which python"
   ]
  },
  {
   "cell_type": "markdown",
   "metadata": {},
   "source": [
    "Sin embargo, si buscamos algo que no esté en alguna de las rutas de PATH, `which` no será capaz de decirnos la ruta"
   ]
  },
  {
   "cell_type": "code",
   "execution_count": 147,
   "metadata": {},
   "outputs": [],
   "source": [
    "!which cd"
   ]
  },
  {
   "cell_type": "markdown",
   "metadata": {},
   "source": [
    "#### Búsqueda de archivos con `find`"
   ]
  },
  {
   "cell_type": "markdown",
   "metadata": {},
   "source": [
    "Para buscar un archivo con find tenemos que indicarle desde qué ruta queremos buscar el archivo, seguido del flag `-name` y el nombre del archivo que queremos buscar"
   ]
  },
  {
   "cell_type": "code",
   "execution_count": 151,
   "metadata": {},
   "outputs": [
    {
     "name": "stdout",
     "output_type": "stream",
     "text": [
      "/home/wallabot/Documentos/web/portafolio/posts/prueba/2021-02-11-Introduccion-a-Python.ipynb\n",
      "/home/wallabot/Documentos/web/portafolio/posts/2021-02-11-Introduccion-a-Python.ipynb\n"
     ]
    }
   ],
   "source": [
    "!find ~ -name \"2021-02-11-Introduccion-a-Python.ipynb\""
   ]
  },
  {
   "cell_type": "markdown",
   "metadata": {},
   "source": [
    "Como vemos está en su directorio más la copia que he creado en este notebook y la he guardado en la carpeta `prueba`"
   ]
  },
  {
   "cell_type": "markdown",
   "metadata": {},
   "source": [
    "Una cosa muy poderosa de `find` es que podemos usar `wildcards`, por ejemplo si quiero buscar todos los archivos de texto de mi carpeta `Documentos`"
   ]
  },
  {
   "cell_type": "code",
   "execution_count": 152,
   "metadata": {},
   "outputs": [
    {
     "name": "stdout",
     "output_type": "stream",
     "text": [
      "\n"
     ]
    }
   ],
   "source": [
    "terminal(\"find ~/Documentos/ -name *.txt\")"
   ]
  },
  {
   "cell_type": "code",
   "execution_count": 154,
   "metadata": {},
   "outputs": [
    {
     "name": "stdout",
     "output_type": "stream",
     "text": [
      "/home/wallabot/Documentos/web/portafolio/posts/prueba/lista.txt\n",
      "/home/wallabot/Documentos/web/portafolio/posts/prueba/dot.txt\n",
      "/home/wallabot/Documentos/web/portafolio/posts/prueba/dot2.txt\n",
      "/home/wallabot/Documentos/web/portafolio/posts/prueba/secuential.txt\n",
      "/home/wallabot/Documentos/web/portafolio/posts/prueba/subdirectorio/rootfile.txt\n",
      "/home/wallabot/Documentos/web/portafolio/posts/prueba/subdirectorio/mitexto.txt\n",
      "/home/wallabot/Documentos/web/portafolio/posts/prueba/file.txt\n",
      "/home/wallabot/Documentos/web/wordpress_api_rest/page.txt\n"
     ]
    }
   ],
   "source": [
    "!find ~/Documentos/web/ -name *.txt"
   ]
  },
  {
   "cell_type": "markdown",
   "metadata": {},
   "source": [
    "Podemos especificar el tipo de archivo con el flag `-type`. Solo admite dos tipos `f` para archivos y `d` para directorios"
   ]
  },
  {
   "cell_type": "code",
   "execution_count": 157,
   "metadata": {},
   "outputs": [
    {
     "name": "stdout",
     "output_type": "stream",
     "text": [
      "/home/wallabot/Documentos/nerf/instant-ngp/configs/image\n",
      "/home/wallabot/Documentos/nerf/instant-ngp/dependencies/tiny-cuda-nn/benchmarks/image\n",
      "/home/wallabot/Documentos/nerf/instant-ngp/dependencies/tiny-cuda-nn/dependencies/cutlass/media/images\n",
      "/home/wallabot/Documentos/nerf/instant-ngp/dependencies/tiny-cuda-nn/dependencies/fmt/doc/bootstrap/mixins/image.less\n",
      "/home/wallabot/Documentos/nerf/instant-ngp/dependencies/tiny-cuda-nn/data/images\n",
      "/home/wallabot/Documentos/nerf/instant-ngp/dependencies/dlss/NVIDIAImageScaling/samples/media/images\n",
      "/home/wallabot/Documentos/nerf/instant-ngp/data/nerf/fox/images\n",
      "/home/wallabot/Documentos/nerf/instant-ngp/data/image\n"
     ]
    }
   ],
   "source": [
    "!find ~/Documentos/nerf -name image*"
   ]
  },
  {
   "cell_type": "code",
   "execution_count": 161,
   "metadata": {},
   "outputs": [
    {
     "name": "stdout",
     "output_type": "stream",
     "text": [
      "/home/wallabot/Documentos/nerf/instant-ngp/configs/image\n",
      "/home/wallabot/Documentos/nerf/instant-ngp/dependencies/tiny-cuda-nn/benchmarks/image\n",
      "/home/wallabot/Documentos/nerf/instant-ngp/dependencies/tiny-cuda-nn/dependencies/cutlass/media/images\n",
      "/home/wallabot/Documentos/nerf/instant-ngp/dependencies/tiny-cuda-nn/data/images\n",
      "/home/wallabot/Documentos/nerf/instant-ngp/dependencies/dlss/NVIDIAImageScaling/samples/media/images\n",
      "/home/wallabot/Documentos/nerf/instant-ngp/data/nerf/fox/images\n",
      "/home/wallabot/Documentos/nerf/instant-ngp/data/image\n"
     ]
    }
   ],
   "source": [
    "!find ~/Documentos/nerf -name image* -type d"
   ]
  },
  {
   "cell_type": "code",
   "execution_count": 160,
   "metadata": {},
   "outputs": [
    {
     "name": "stdout",
     "output_type": "stream",
     "text": [
      "/home/wallabot/Documentos/nerf/instant-ngp/dependencies/tiny-cuda-nn/dependencies/fmt/doc/bootstrap/mixins/image.less\n"
     ]
    }
   ],
   "source": [
    "!find ~/Documentos/nerf -name image* -type f"
   ]
  },
  {
   "cell_type": "markdown",
   "metadata": {},
   "source": [
    "Si queremos filtrar por el tamaño del archivo podemos usar el flag `-size`, por ejemplo, si queremos buscar todos los archivos de más de 200 MB"
   ]
  },
  {
   "cell_type": "code",
   "execution_count": 162,
   "metadata": {},
   "outputs": [
    {
     "name": "stdout",
     "output_type": "stream",
     "text": [
      "/home/wallabot/Documentos/kaggle/hubmap/models/13_efficientnet-b7_final_model.pth\n",
      "/home/wallabot/Documentos/kaggle/hubmap/models/12_efficientnet-b7_final_model.pth\n",
      "/home/wallabot/Documentos/kaggle/hubmap/models/14_resnet152_final_model.pth\n",
      "/home/wallabot/Documentos/kaggle/hubmap/models/14_resnet152_best_model.pth\n",
      "/home/wallabot/Documentos/kaggle/hubmap/models/12_efficientnet-b7_early_stopping.pth\n",
      "/home/wallabot/Documentos/kaggle/hubmap/models/efficientnet-b7-dcc49843.pth\n",
      "/home/wallabot/Documentos/kaggle/hubmap/models/13_efficientnet-b7_early_stopping.pth\n",
      "/home/wallabot/Documentos/kaggle/hubmap/models/14_resnet152_early_stopping.pth\n",
      "/home/wallabot/Documentos/kaggle/hubmap/models/12_efficientnet-b7_best_model.pth\n",
      "/home/wallabot/Documentos/kaggle/hubmap/models/13_efficientnet-b7_best_model.pth\n"
     ]
    }
   ],
   "source": [
    "!find ~/Documentos/ -type f -size +200M"
   ]
  },
  {
   "cell_type": "markdown",
   "metadata": {},
   "source": [
    "Si queremos realizar operaciones tras la búsqueda usamos el flag `-exec`"
   ]
  },
  {
   "cell_type": "markdown",
   "metadata": {},
   "source": [
    "Por ejemplo voy a buscar todas las carpetas con el nombre `subdirectorio`"
   ]
  },
  {
   "cell_type": "code",
   "execution_count": 163,
   "metadata": {},
   "outputs": [
    {
     "name": "stdout",
     "output_type": "stream",
     "text": [
      "/home/wallabot/Documentos/web/portafolio/posts/prueba/subdirectorio\n"
     ]
    }
   ],
   "source": [
    "!find ~/ -name subdirectorio -type d"
   ]
  },
  {
   "cell_type": "markdown",
   "metadata": {},
   "source": [
    "Puedo hacer que se borren con el flag `-exec`"
   ]
  },
  {
   "cell_type": "code",
   "execution_count": 164,
   "metadata": {},
   "outputs": [
    {
     "name": "stdout",
     "output_type": "stream",
     "text": [
      "rm: ¿borrar el fichero regular vacío '/home/wallabot/Documentos/web/portafolio/posts/prueba/subdirectorio/rootfile.txt'  protegido contra escritura? (s/n) ^C\n"
     ]
    }
   ],
   "source": [
    "!find ~/ -name subdirectorio -type d -exec rm -r {} \\;"
   ]
  },
  {
   "cell_type": "code",
   "execution_count": 165,
   "metadata": {},
   "outputs": [],
   "source": [
    "!find ~/ -name subdirectorio -type d"
   ]
  },
  {
   "cell_type": "markdown",
   "metadata": {},
   "source": [
    "### Comando de búsqueda `grep`"
   ]
  },
  {
   "cell_type": "markdown",
   "metadata": {},
   "source": [
    "`grep` es un comando de búsqueda muy potente, por eso le dedicamos un apartado a el solo. El comando `grep` utiliza las expresiones regulares por lo que si quieres aprender de ellas te dejo un enlace a un [post](https://maximofn.com/expresiones-regulares) donde las explico"
   ]
  },
  {
   "cell_type": "markdown",
   "metadata": {},
   "source": [
    "Vamos a empezar a ver la potencia de este comando, vamos a buscar todas las veces que aparece el texto `MaximoFN` dentro del archivo `2021-02-11-Introduccion-a-Python.ipynb`"
   ]
  },
  {
   "cell_type": "code",
   "execution_count": 168,
   "metadata": {},
   "outputs": [],
   "source": [
    "terminal(\"cd /home/wallabot/Documentos/web/portafolio/posts/prueba\")"
   ]
  },
  {
   "cell_type": "code",
   "execution_count": 169,
   "metadata": {},
   "outputs": [
    {
     "name": "stdout",
     "output_type": "stream",
     "text": [
      "        \"a = 'MaximoFN'\\n\",\n",
      "              \"'MaximoFN'\"\n",
      "        \"string = \\\"MaximoFN\\\"\\n\",\n",
      "              \"'MaximoFN'\"\n",
      "        \"string = 'MaximoFN'\\n\",\n",
      "              \"'MaximoFN'\"\n",
      "            \"Este es el blog de \\\"MaximoFN\\\"\\n\"\n",
      "        \"print(\\\"Este es el blog de \\\\\\\"MaximoFN\\\\\\\"\\\")\"\n",
      "            \"Este es el blog de 'MaximoFN'\\n\"\n",
      "        \"print('Este es el blog de \\\\'MaximoFN\\\\'')\"\n",
      "            \"Este es el blog de \\\\MaximoFN\\\\\\n\"\n",
      "        \"print('Este es el blog de \\\\\\\\MaximoFN\\\\\\\\')\"\n",
      "            \"MaximoFN\\n\"\n",
      "        \"print('Este es el blog de \\\\nMaximoFN')\"\n",
      "            \"Este es el blog de MaximoFN\\n\"\n",
      "        \"print('Esto no se imprimirá \\\\rEste es el blog de MaximoFN')\"\n",
      "            \"Este es el blog de \\tMaximoFN\\n\"\n",
      "        \"print('Este es el blog de \\\\tMaximoFN')\"\n",
      "            \"Este es el blog deMaximoFN\\n\"\n",
      "        \"print('Este es el blog de \\\\bMaximoFN')\"\n",
      "            \"MaximoFN\\n\"\n",
      "            \"MaximoFN\\n\"\n",
      "              \"b'MaximoFN'\"\n",
      "        \"byte = b\\\"MaximoFN\\\"\\n\",\n",
      "              \"b'MaximoFN MaximoFN MaximoFN '\"\n",
      "        \"byte1 = b'MaximoFN '\\n\",\n",
      "              \"bytearray(b'MaximoFN')\"\n",
      "        \"byte_array = bytearray(b'MaximoFN')\\n\",\n",
      "            \"MaximoFN tiene 8 caracteres\\n\"\n",
      "        \"if len('MaximoFN') == 8:\\n\",\n",
      "        \"  print('MaximoFN tiene 8 caracteres')\"\n",
      "            \"MaximoFN tiene 8 caracteres\\n\"\n",
      "        \"if len('MaximoFN') < 8:\\n\",\n",
      "        \"  print('MaximoFN tiene menos de 8 caracteres')\\n\",\n",
      "        \"elif len('MaximoFN') == 8:\\n\",\n",
      "        \"  print('MaximoFN tiene 8 caracteres')\"\n",
      "            \"MaximoFN tiene 8 caracteres\\n\"\n",
      "        \"if len('MaximoFN') < 8:\\n\",\n",
      "        \"  print('MaximoFN tiene menos de 8 caracteres')\\n\",\n",
      "        \"elif len('MaximoFN') > 8:\\n\",\n",
      "        \"  print('MaximoFN tiene más de 8 caracteres')\\n\",\n",
      "        \"  print('MaximoFN tiene 8 caracteres')\"\n",
      "            \"MaximoFN tiene 8 caracteres\\n\"\n",
      "        \"if len('MaximoFN') == 8: print('MaximoFN tiene 8 caracteres')\"\n",
      "            \"MaximoFN tiene 8 caracteres\\n\"\n",
      "        \"print('MaximoFN tiene menos de 8 caracteres') if len('MaximoFN') < 8 else print('MaximoFN tiene más de 8 caracteres') if len('MaximoFN') > 8 else print('MaximoFN tiene 8 caracteres')\"\n",
      "            \"MaximoFN tiene 8 caracteres\\n\"\n",
      "        \"if len('MaximoFN') < 8:\\n\",\n",
      "        \"  print('MaximoFN tiene menos de 8 caracteres')\\n\",\n",
      "        \"elif len('MaximoFN') > 8:\\n\",\n",
      "        \"  print('MaximoFN tiene 8 caracteres')\"\n",
      "            \"MaximoFN\"\n",
      "        \"string = 'MaximoFN'\\n\",\n",
      "        \"string = 'MaximoFN'\\n\",\n",
      "            \"MaximoFN\"\n",
      "            \"MaximoFN\\n\",\n",
      "        \"string = 'MaximoFN'\\n\",\n",
      "            \"MaximoFN\"\n",
      "        \"string = 'MaximoFN'\\n\",\n",
      "            \"MaximoFN\"\n",
      "            \"MaximoFN\"\n",
      "            \"MaximoFN\"\n",
      "        \"string = 'MaximoFN'\\n\",\n",
      "            \"MaximoFN\"\n",
      "        \"string = 'MaximoFN'\\n\",\n",
      "            \"MaximoFN\"\n",
      "            \"MaximoFN\\n\",\n",
      "        \"string = 'MaximoFN'\\n\",\n",
      "        \"string = 'MaximoFN'\\n\",\n",
      "        \"  print('MaximoFN')\"\n",
      "            \"MaximoFN\\n\"\n",
      "            \"Hola MaximoFN\\n\"\n",
      "        \"funcion(\\\"Hola\\\", \\\"MaximoFN\\\")\"\n",
      "            \"Blog de MaximoFN\\n\"\n",
      "        \"funcion(argumento3 = \\\"MaximoFN\\\", argumento1 = \\\"Blog\\\", argumento2 = \\\"de\\\")\"\n",
      "            \"Autor del blog: MaximoFN\\n\"\n",
      "        \"funcion(blog = \\\"Blog\\\", pertenencia = \\\"de\\\", autor = \\\"MaximoFN\\\")\"\n",
      "            \"Blog de MaximoFN\\n\"\n",
      "        \"def funcion(argumento1, argumento2, argumento3 = \\\"MaximoFN\\\"):\\n\",\n",
      "            \"Blog de MaximoFN \"\n",
      "        \"funcion([\\\"Blog\\\", \\\"de\\\", \\\"MaximoFN\\\"])\"\n",
      "            \"Blog de MaximoFN \\n\"\n",
      "        \"print(funcion([\\\"Blog\\\", \\\"de\\\", \\\"MaximoFN\\\"]))\"\n",
      "            \"Blog de MaximoFN\\n\"\n",
      "        \"dato0, dato1, dato2 = funcion([\\\"Blog\\\", \\\"de\\\", \\\"MaximoFN\\\"])\\n\",\n",
      "            \"MaximoFN\\n\"\n",
      "        \"_, _, dato_de_interes = funcion([\\\"Blog\\\", \\\"de\\\", \\\"MaximoFN\\\"])\\n\",\n",
      "            \"MaximoFN\\n\",\n",
      "            \"MaximoFN\\n\",\n",
      "        \"  print(\\\"MaximoFN\\\")\\n\",\n",
      "            \"MaximoFN\\n\",\n",
      "        \"  print(\\\"MaximoFN\\\")\\n\",\n",
      "        \"  variable = 'MaximoFN'\"\n",
      "              \"'MaximoFN'\"\n",
      "        \"string = \\\"MaximoFN\\\"\\n\",\n",
      "        \"string1 = 'MaximoFN__'\\n\",\n",
      "            \"Hola, MaximoFN\\n\"\n",
      "        \"introduccion_python.modulo1.funcion_del_modulo('MaximoFN')\"\n",
      "            \"Hola, MaximoFN\\n\"\n",
      "        \"mod1.funcion_del_modulo('MaximoFN')\"\n",
      "            \"Hola, MaximoFN, funcion 2\\n\"\n",
      "        \"funcion2_del_modulo('MaximoFN')\"\n",
      "            \"MaximoFN\\n\",\n",
      "        \"  print('MaximoFN')\\n\",\n",
      "        \"  variable = 'MaximoFN'\\n\",\n"
     ]
    }
   ],
   "source": [
    "!grep MaximoFN 2021-02-11-Introduccion-a-Python.ipynb"
   ]
  },
  {
   "cell_type": "markdown",
   "metadata": {},
   "source": [
    "Sin embargo si hacemos la misma búsqueda para el texto `maximofn`"
   ]
  },
  {
   "cell_type": "code",
   "execution_count": 170,
   "metadata": {},
   "outputs": [],
   "source": [
    "!grep maximofn 2021-02-11-Introduccion-a-Python.ipynb"
   ]
  },
  {
   "cell_type": "markdown",
   "metadata": {},
   "source": [
    "No aparece ningún resultado, esto es porque `grep` es `case sensitive` es decir busca el texto tal cual se lo has introducido, diferenciando mayúsculas y minúsculas. Si no queremos esto, tenemos que introducir el flag `-i`"
   ]
  },
  {
   "cell_type": "code",
   "execution_count": 171,
   "metadata": {},
   "outputs": [
    {
     "name": "stdout",
     "output_type": "stream",
     "text": [
      "        \"a = 'MaximoFN'\\n\",\n",
      "              \"'MaximoFN'\"\n",
      "        \"string = \\\"MaximoFN\\\"\\n\",\n",
      "              \"'MaximoFN'\"\n",
      "        \"string = 'MaximoFN'\\n\",\n",
      "              \"'MaximoFN'\"\n",
      "            \"Este es el blog de \\\"MaximoFN\\\"\\n\"\n",
      "        \"print(\\\"Este es el blog de \\\\\\\"MaximoFN\\\\\\\"\\\")\"\n",
      "            \"Este es el blog de 'MaximoFN'\\n\"\n",
      "        \"print('Este es el blog de \\\\'MaximoFN\\\\'')\"\n",
      "            \"Este es el blog de \\\\MaximoFN\\\\\\n\"\n",
      "        \"print('Este es el blog de \\\\\\\\MaximoFN\\\\\\\\')\"\n",
      "            \"MaximoFN\\n\"\n",
      "        \"print('Este es el blog de \\\\nMaximoFN')\"\n",
      "            \"Este es el blog de MaximoFN\\n\"\n",
      "        \"print('Esto no se imprimirá \\\\rEste es el blog de MaximoFN')\"\n",
      "            \"Este es el blog de \\tMaximoFN\\n\"\n",
      "        \"print('Este es el blog de \\\\tMaximoFN')\"\n",
      "            \"Este es el blog deMaximoFN\\n\"\n",
      "        \"print('Este es el blog de \\\\bMaximoFN')\"\n",
      "            \"MaximoFN\\n\"\n",
      "            \"MaximoFN\\n\"\n",
      "              \"b'MaximoFN'\"\n",
      "        \"byte = b\\\"MaximoFN\\\"\\n\",\n",
      "              \"b'MaximoFN MaximoFN MaximoFN '\"\n",
      "        \"byte1 = b'MaximoFN '\\n\",\n",
      "              \"bytearray(b'MaximoFN')\"\n",
      "        \"byte_array = bytearray(b'MaximoFN')\\n\",\n",
      "            \"MaximoFN tiene 8 caracteres\\n\"\n",
      "        \"if len('MaximoFN') == 8:\\n\",\n",
      "        \"  print('MaximoFN tiene 8 caracteres')\"\n",
      "            \"MaximoFN tiene 8 caracteres\\n\"\n",
      "        \"if len('MaximoFN') < 8:\\n\",\n",
      "        \"  print('MaximoFN tiene menos de 8 caracteres')\\n\",\n",
      "        \"elif len('MaximoFN') == 8:\\n\",\n",
      "        \"  print('MaximoFN tiene 8 caracteres')\"\n",
      "            \"MaximoFN tiene 8 caracteres\\n\"\n",
      "        \"if len('MaximoFN') < 8:\\n\",\n",
      "        \"  print('MaximoFN tiene menos de 8 caracteres')\\n\",\n",
      "        \"elif len('MaximoFN') > 8:\\n\",\n",
      "        \"  print('MaximoFN tiene más de 8 caracteres')\\n\",\n",
      "        \"  print('MaximoFN tiene 8 caracteres')\"\n",
      "            \"MaximoFN tiene 8 caracteres\\n\"\n",
      "        \"if len('MaximoFN') == 8: print('MaximoFN tiene 8 caracteres')\"\n",
      "            \"MaximoFN tiene 8 caracteres\\n\"\n",
      "        \"print('MaximoFN tiene menos de 8 caracteres') if len('MaximoFN') < 8 else print('MaximoFN tiene más de 8 caracteres') if len('MaximoFN') > 8 else print('MaximoFN tiene 8 caracteres')\"\n",
      "            \"MaximoFN tiene 8 caracteres\\n\"\n",
      "        \"if len('MaximoFN') < 8:\\n\",\n",
      "        \"  print('MaximoFN tiene menos de 8 caracteres')\\n\",\n",
      "        \"elif len('MaximoFN') > 8:\\n\",\n",
      "        \"  print('MaximoFN tiene 8 caracteres')\"\n",
      "            \"MaximoFN\"\n",
      "        \"string = 'MaximoFN'\\n\",\n",
      "        \"string = 'MaximoFN'\\n\",\n",
      "            \"MaximoFN\"\n",
      "            \"MaximoFN\\n\",\n",
      "        \"string = 'MaximoFN'\\n\",\n",
      "            \"MaximoFN\"\n",
      "        \"string = 'MaximoFN'\\n\",\n",
      "            \"MaximoFN\"\n",
      "            \"MaximoFN\"\n",
      "            \"MaximoFN\"\n",
      "        \"string = 'MaximoFN'\\n\",\n",
      "            \"MaximoFN\"\n",
      "        \"string = 'MaximoFN'\\n\",\n",
      "            \"MaximoFN\"\n",
      "            \"MaximoFN\\n\",\n",
      "        \"string = 'MaximoFN'\\n\",\n",
      "        \"string = 'MaximoFN'\\n\",\n",
      "        \"  print('MaximoFN')\"\n",
      "            \"MaximoFN\\n\"\n",
      "            \"Hola MaximoFN\\n\"\n",
      "        \"funcion(\\\"Hola\\\", \\\"MaximoFN\\\")\"\n",
      "            \"Blog de MaximoFN\\n\"\n",
      "        \"funcion(argumento3 = \\\"MaximoFN\\\", argumento1 = \\\"Blog\\\", argumento2 = \\\"de\\\")\"\n",
      "            \"Autor del blog: MaximoFN\\n\"\n",
      "        \"funcion(blog = \\\"Blog\\\", pertenencia = \\\"de\\\", autor = \\\"MaximoFN\\\")\"\n",
      "            \"Blog de MaximoFN\\n\"\n",
      "        \"def funcion(argumento1, argumento2, argumento3 = \\\"MaximoFN\\\"):\\n\",\n",
      "            \"Blog de MaximoFN \"\n",
      "        \"funcion([\\\"Blog\\\", \\\"de\\\", \\\"MaximoFN\\\"])\"\n",
      "            \"Blog de MaximoFN \\n\"\n",
      "        \"print(funcion([\\\"Blog\\\", \\\"de\\\", \\\"MaximoFN\\\"]))\"\n",
      "            \"Blog de MaximoFN\\n\"\n",
      "        \"dato0, dato1, dato2 = funcion([\\\"Blog\\\", \\\"de\\\", \\\"MaximoFN\\\"])\\n\",\n",
      "            \"MaximoFN\\n\"\n",
      "        \"_, _, dato_de_interes = funcion([\\\"Blog\\\", \\\"de\\\", \\\"MaximoFN\\\"])\\n\",\n",
      "            \"MaximoFN\\n\",\n",
      "            \"MaximoFN\\n\",\n",
      "        \"  print(\\\"MaximoFN\\\")\\n\",\n",
      "            \"MaximoFN\\n\",\n",
      "        \"  print(\\\"MaximoFN\\\")\\n\",\n",
      "        \"  variable = 'MaximoFN'\"\n",
      "              \"'MaximoFN'\"\n",
      "        \"string = \\\"MaximoFN\\\"\\n\",\n",
      "        \"string1 = 'MaximoFN__'\\n\",\n",
      "            \"Hola, MaximoFN\\n\"\n",
      "        \"introduccion_python.modulo1.funcion_del_modulo('MaximoFN')\"\n",
      "            \"Hola, MaximoFN\\n\"\n",
      "        \"mod1.funcion_del_modulo('MaximoFN')\"\n",
      "            \"Hola, MaximoFN, funcion 2\\n\"\n",
      "        \"funcion2_del_modulo('MaximoFN')\"\n",
      "            \"MaximoFN\\n\",\n",
      "        \"  print('MaximoFN')\\n\",\n",
      "        \"  variable = 'MaximoFN'\\n\",\n"
     ]
    }
   ],
   "source": [
    "!grep -i MaximoFN 2021-02-11-Introduccion-a-Python.ipynb"
   ]
  },
  {
   "cell_type": "markdown",
   "metadata": {},
   "source": [
    "Si lo que queremos es que nos devuelva el número de veces que aparece introducimos el flag `-c`"
   ]
  },
  {
   "cell_type": "code",
   "execution_count": 172,
   "metadata": {},
   "outputs": [
    {
     "name": "stdout",
     "output_type": "stream",
     "text": [
      "105\n"
     ]
    }
   ],
   "source": [
    "!grep -c MaximoFN 2021-02-11-Introduccion-a-Python.ipynb"
   ]
  },
  {
   "cell_type": "markdown",
   "metadata": {},
   "source": [
    "Si nos da igual si aparece con mayúscula o minúscula podemos volver a agregar el flag `-i`, pero no hace falta meterlo separado del flag `-c`, se pueden introducir juntos"
   ]
  },
  {
   "cell_type": "code",
   "execution_count": 173,
   "metadata": {},
   "outputs": [
    {
     "name": "stdout",
     "output_type": "stream",
     "text": [
      "105\n"
     ]
    }
   ],
   "source": [
    "!grep -ci MaximoFN 2021-02-11-Introduccion-a-Python.ipynb"
   ]
  },
  {
   "cell_type": "markdown",
   "metadata": {},
   "source": [
    "Si ahora queremos todas las veces en las que **no** aparece la palabra `MáximoFN` instroducimos el flag `-v`"
   ]
  },
  {
   "cell_type": "code",
   "execution_count": 174,
   "metadata": {},
   "outputs": [
    {
     "name": "stdout",
     "output_type": "stream",
     "text": [
      "11573\n"
     ]
    }
   ],
   "source": [
    "!grep -cv MaximoFN 2021-02-11-Introduccion-a-Python.ipynb"
   ]
  },
  {
   "cell_type": "markdown",
   "metadata": {},
   "source": [
    "## Utilidades de la terminal"
   ]
  },
  {
   "cell_type": "markdown",
   "metadata": {},
   "source": [
    "### Utilidades de red"
   ]
  },
  {
   "cell_type": "markdown",
   "metadata": {},
   "source": [
    "El primer comando va a ser `ifconfig` que nos muestra información de nuestras interfaces de red"
   ]
  },
  {
   "cell_type": "code",
   "execution_count": 175,
   "metadata": {},
   "outputs": [
    {
     "name": "stdout",
     "output_type": "stream",
     "text": [
      "br-470e52ae2708: flags=4099<UP,BROADCAST,MULTICAST>  mtu 1500\n",
      "        inet 172.18.0.1  netmask 255.255.0.0  broadcast 172.18.255.255\n",
      "        ether 02:42:16:03:64:fa  txqueuelen 0  (Ethernet)\n",
      "        RX packets 0  bytes 0 (0.0 B)\n",
      "        RX errors 0  dropped 0  overruns 0  frame 0\n",
      "        TX packets 0  bytes 0 (0.0 B)\n",
      "        TX errors 0  dropped 0 overruns 0  carrier 0  collisions 0\n",
      "\n",
      "docker0: flags=4099<UP,BROADCAST,MULTICAST>  mtu 1500\n",
      "        inet 172.17.0.1  netmask 255.255.0.0  broadcast 172.17.255.255\n",
      "        ether 02:42:6a:26:9c:1b  txqueuelen 0  (Ethernet)\n",
      "        RX packets 0  bytes 0 (0.0 B)\n",
      "        RX errors 0  dropped 0  overruns 0  frame 0\n",
      "        TX packets 0  bytes 0 (0.0 B)\n",
      "        TX errors 0  dropped 0 overruns 0  carrier 0  collisions 0\n",
      "\n",
      "enp6s0: flags=4163<UP,BROADCAST,RUNNING,MULTICAST>  mtu 1500\n",
      "        inet 192.168.1.144  netmask 255.255.255.0  broadcast 192.168.1.255\n",
      "        inet6 fe80::7dc2:6944:3fbe:c18e  prefixlen 64  scopeid 0x20<link>\n",
      "        ether 24:4b:fe:5c:f6:59  txqueuelen 1000  (Ethernet)\n",
      "        RX packets 740029  bytes 564652798 (564.6 MB)\n",
      "        RX errors 0  dropped 2296  overruns 0  frame 0\n",
      "        TX packets 773187  bytes 677575676 (677.5 MB)\n",
      "        TX errors 0  dropped 0 overruns 0  carrier 0  collisions 0\n",
      "\n",
      "lo: flags=73<UP,LOOPBACK,RUNNING>  mtu 65536\n",
      "        inet 127.0.0.1  netmask 255.0.0.0\n",
      "        inet6 ::1  prefixlen 128  scopeid 0x10<host>\n",
      "        loop  txqueuelen 1000  (Bucle local)\n",
      "        RX packets 13212  bytes 11273209 (11.2 MB)\n",
      "        RX errors 0  dropped 0  overruns 0  frame 0\n",
      "        TX packets 13212  bytes 11273209 (11.2 MB)\n",
      "        TX errors 0  dropped 0 overruns 0  carrier 0  collisions 0\n",
      "\n",
      "wlp5s0: flags=4099<UP,BROADCAST,MULTICAST>  mtu 1500\n",
      "        ether 4c:77:cb:1d:66:cc  txqueuelen 1000  (Ethernet)\n",
      "        RX packets 0  bytes 0 (0.0 B)\n",
      "        RX errors 0  dropped 0  overruns 0  frame 0\n",
      "        TX packets 0  bytes 0 (0.0 B)\n",
      "        TX errors 0  dropped 0 overruns 0  carrier 0  collisions 0\n",
      "\n"
     ]
    }
   ],
   "source": [
    "!ifconfig"
   ]
  },
  {
   "cell_type": "markdown",
   "metadata": {},
   "source": [
    "Como vemos tenemos la información de todas las interfaces de red de mi ordenador, pero si quiero saber solo la de una, se especifica añadiendo su numbre"
   ]
  },
  {
   "cell_type": "code",
   "execution_count": 176,
   "metadata": {},
   "outputs": [
    {
     "name": "stdout",
     "output_type": "stream",
     "text": [
      "enp6s0: flags=4163<UP,BROADCAST,RUNNING,MULTICAST>  mtu 1500\n",
      "        inet 192.168.1.144  netmask 255.255.255.0  broadcast 192.168.1.255\n",
      "        inet6 fe80::7dc2:6944:3fbe:c18e  prefixlen 64  scopeid 0x20<link>\n",
      "        ether 24:4b:fe:5c:f6:59  txqueuelen 1000  (Ethernet)\n",
      "        RX packets 740088  bytes 564669048 (564.6 MB)\n",
      "        RX errors 0  dropped 2297  overruns 0  frame 0\n",
      "        TX packets 773267  bytes 677643097 (677.6 MB)\n",
      "        TX errors 0  dropped 0 overruns 0  carrier 0  collisions 0\n",
      "\n"
     ]
    }
   ],
   "source": [
    "!ifconfig enp6s0"
   ]
  },
  {
   "cell_type": "markdown",
   "metadata": {},
   "source": [
    "Otro comando útil es `ping`, que nos puede servir para ver si tenemos conexión con una determinada `IP`. Por ejemplo, la `IP` de google es `142.250.200.78`, por lo que le hacemos `ping` a ver si nos contesta. El comando `ping` en linux hace `ping`s sin parar, por lo que nunca termina hasta que no lo paramos, para que no pase eso añadimos el flag `-c` y el número de intentos"
   ]
  },
  {
   "cell_type": "code",
   "execution_count": 179,
   "metadata": {},
   "outputs": [
    {
     "name": "stdout",
     "output_type": "stream",
     "text": [
      "PING 142.250.200.68 (142.250.200.68) 56(84) bytes of data.\n",
      "64 bytes from 142.250.200.68: icmp_seq=1 ttl=117 time=3.22 ms\n",
      "64 bytes from 142.250.200.68: icmp_seq=2 ttl=117 time=3.66 ms\n",
      "64 bytes from 142.250.200.68: icmp_seq=3 ttl=117 time=2.96 ms\n",
      "64 bytes from 142.250.200.68: icmp_seq=4 ttl=117 time=3.20 ms\n",
      "\n",
      "--- 142.250.200.68 ping statistics ---\n",
      "4 packets transmitted, 4 received, 0% packet loss, time 3003ms\n",
      "rtt min/avg/max/mdev = 2.960/3.259/3.656/0.250 ms\n"
     ]
    }
   ],
   "source": [
    "!ping 142.250.200.68 -c 4"
   ]
  },
  {
   "cell_type": "markdown",
   "metadata": {},
   "source": [
    "Lo mismo hubiese pasado si lo hubiésemos hecho directamente sobre `google.com`"
   ]
  },
  {
   "cell_type": "code",
   "execution_count": 178,
   "metadata": {},
   "outputs": [
    {
     "name": "stdout",
     "output_type": "stream",
     "text": [
      "PING www.google.com (142.250.200.68) 56(84) bytes of data.\n",
      "64 bytes from mad07s24-in-f4.1e100.net (142.250.200.68): icmp_seq=1 ttl=117 time=3.46 ms\n",
      "64 bytes from mad07s24-in-f4.1e100.net (142.250.200.68): icmp_seq=2 ttl=117 time=2.92 ms\n",
      "64 bytes from mad07s24-in-f4.1e100.net (142.250.200.68): icmp_seq=3 ttl=117 time=2.94 ms\n",
      "64 bytes from mad07s24-in-f4.1e100.net (142.250.200.68): icmp_seq=4 ttl=117 time=2.99 ms\n",
      "\n",
      "--- www.google.com ping statistics ---\n",
      "4 packets transmitted, 4 received, 0% packet loss, time 3005ms\n",
      "rtt min/avg/max/mdev = 2.916/3.076/3.463/0.224 ms\n"
     ]
    }
   ],
   "source": [
    "!ping www.google.com -c 4"
   ]
  },
  {
   "cell_type": "markdown",
   "metadata": {},
   "source": [
    "Podemos obtener un archivo de texto de una dirección dada mediante el comando `curl`, por ejemplo, nos podemos descargar el html de google"
   ]
  },
  {
   "cell_type": "code",
   "execution_count": 180,
   "metadata": {},
   "outputs": [
    {
     "name": "stdout",
     "output_type": "stream",
     "text": [
      "<!doctype html><html itemscope=\"\" itemtype=\"http://schema.org/WebPage\" lang=\"es\"><head><meta content=\"Google.es permite acceder a la informaci�n mundial en castellano, catal�n, gallego, euskara e ingl�s.\" name=\"description\"><meta content=\"noodp\" name=\"robots\"><meta content=\"text/html; charset=UTF-8\" http-equiv=\"Content-Type\"><meta content=\"/images/branding/googleg/1x/googleg_standard_color_128dp.png\" itemprop=\"image\"><title>Google</title><script nonce=\"kRRv1Jmvk_EyPXDf3lZ9LQ\">(function(){window.google={kEI:'v8yEY5CQDIrg0PEP_NyGkAs',kEXPI:'0,1359409,6058,207,2414,2390,2316,383,246,5,5367,1123753,1197792,380699,16114,28684,22430,1362,12318,2817,14764,4998,13228,3847,10622,22742,5080,1595,1277,2742,149,1103,840,1983,4314,3514,606,2023,2297,14670,3227,2845,9,29072,4696,1851,2614,13142,3,346,230,6460,148,13975,4,1528,2304,7039,4887,15422,7422,7355,13660,4437,16786,5818,2539,4094,4052,3,3541,1,11942,30218,2,14016,25739,5679,1021,2380,22668,6073,4568,6256,23421,1252,5835,14967,4333,7484,25076,2006,8155,7381,1401,14569,872,19634,7,1922,3872,5,1907,3995,12414,6129,3236,9543,4832,15758,7431,3315,5796,3,6059,3746,689,1325,2614,950,2940,751,2070,13495,1622,1778,670,1185,1997,1119,6,1538,3299,4072,323,1305,2,4352,1741,814,1542,550,1768,84,599,818,3,565,399,589,1500,819,126,90,921,451,473,109,334,881,2655,12,370,399,402,100,793,136,3,785,2,314,1111,265,650,482,651,7,2,3,1102,246,64,368,1,57,216,511,59,644,629,14,89,891,56,857,311,585,88,335,1613,255,317,168,41,8,8,3,55,4,208,191,55,1213,1245,80,123,1396,293,620,166,33,151,902,5,498,662,274,85,130,242,14,351,261,5,362,447,55,92,292,199,644,181,187,178,193,16,106,356,9,543,1,1667,1030,9,687,5289898,5999836,82,2803332,3311,141,795,19735,1,1,346,2759,41,169,140,23947376,486,46,4041610,5058,13578,3406,11363,1471,1133,15,32,1119,1481184',kBL:'-1VY'};google.sn='webhp';google.kHL='es';})();(function(){\n",
      "var f=this||self;var h,k=[];function l(a){for(var b;a&&(!a.getAttribute||!(b=a.getAttribute(\"eid\")));)a=a.parentNode;return b||h}function m(a){for(var b=null;a&&(!a.getAttribute||!(b=a.getAttribute(\"leid\")));)a=a.parentNode;return b}\n",
      "function n(a,b,c,d,g){var e=\"\";c||-1!==b.search(\"&ei=\")||(e=\"&ei=\"+l(d),-1===b.search(\"&lei=\")&&(d=m(d))&&(e+=\"&lei=\"+d));d=\"\";!c&&f._cshid&&-1===b.search(\"&cshid=\")&&\"slh\"!==a&&(d=\"&cshid=\"+f._cshid);c=c||\"/\"+(g||\"gen_204\")+\"?atyp=i&ct=\"+a+\"&cad=\"+b+e+\"&zx=\"+Date.now()+d;/^http:/i.test(c)&&\"https:\"===window.location.protocol&&(google.ml&&google.ml(Error(\"a\"),!1,{src:c,glmm:1}),c=\"\");return c};h=google.kEI;google.getEI=l;google.getLEI=m;google.ml=function(){return null};google.log=function(a,b,c,d,g){if(c=n(a,b,c,d,g)){a=new Image;var e=k.length;k[e]=a;a.onerror=a.onload=a.onabort=function(){delete k[e]};a.src=c}};google.logUrl=n;}).call(this);(function(){google.y={};google.sy=[];google.x=function(a,b){if(a)var c=a.id;else{do c=Math.random();while(google.y[c])}google.y[c]=[a,b];return!1};google.sx=function(a){google.sy.push(a)};google.lm=[];google.plm=function(a){google.lm.push.apply(google.lm,a)};google.lq=[];google.load=function(a,b,c){google.lq.push([[a],b,c])};google.loadAll=function(a,b){google.lq.push([a,b])};google.bx=!1;google.lx=function(){};}).call(this);google.f={};(function(){\n",
      "document.documentElement.addEventListener(\"submit\",function(b){var a;if(a=b.target){var c=a.getAttribute(\"data-submitfalse\");a=\"1\"===c||\"q\"===c&&!a.elements.q.value?!0:!1}else a=!1;a&&(b.preventDefault(),b.stopPropagation())},!0);document.documentElement.addEventListener(\"click\",function(b){var a;a:{for(a=b.target;a&&a!==document.documentElement;a=a.parentElement)if(\"A\"===a.tagName){a=\"1\"===a.getAttribute(\"data-nohref\");break a}a=!1}a&&b.preventDefault()},!0);}).call(this);</script><style>#gbar,#guser{font-size:13px;padding-top:1px !important;}#gbar{height:22px}#guser{padding-bottom:7px !important;text-align:right}.gbh,.gbd{border-top:1px solid #c9d7f1;font-size:1px}.gbh{height:0;position:absolute;top:24px;width:100%}@media all{.gb1{height:22px;margin-right:.5em;vertical-align:top}#gbar{float:left}}a.gb1,a.gb4{text-decoration:underline !important}a.gb1,a.gb4{color:#00c !important}.gbi .gb4{color:#dd8e27 !important}.gbf .gb4{color:#900 !important}\n",
      "</style><style>body,td,a,p,.h{font-family:arial,sans-serif}body{margin:0;overflow-y:scroll}#gog{padding:3px 8px 0}td{line-height:.8em}.gac_m td{line-height:17px}form{margin-bottom:20px}.h{color:#1558d6}em{font-weight:bold;font-style:normal}.lst{height:25px;width:496px}.gsfi,.lst{font:18px arial,sans-serif}.gsfs{font:17px arial,sans-serif}.ds{display:inline-box;display:inline-block;margin:3px 0 4px;margin-left:4px}input{font-family:inherit}body{background:#fff;color:#000}a{color:#4b11a8;text-decoration:none}a:hover,a:active{text-decoration:underline}.fl a{color:#1558d6}a:visited{color:#4b11a8}.sblc{padding-top:5px}.sblc a{display:block;margin:2px 0;margin-left:13px;font-size:11px}.lsbb{background:#f8f9fa;border:solid 1px;border-color:#dadce0 #70757a #70757a #dadce0;height:30px}.lsbb{display:block}#WqQANb a{display:inline-block;margin:0 12px}.lsb{background:url(/images/nav_logo229.png) 0 -261px repeat-x;border:none;color:#000;cursor:pointer;height:30px;margin:0;outline:0;font:15px arial,sans-serif;vertical-align:top}.lsb:active{background:#dadce0}.lst:focus{outline:none}</style><script nonce=\"kRRv1Jmvk_EyPXDf3lZ9LQ\">(function(){window.google.erd={jsr:1,bv:1693,de:true};\n",
      "var h=this||self;var k,l=null!=(k=h.mei)?k:1,n,p=null!=(n=h.sdo)?n:!0,q=0,r,t=google.erd,v=t.jsr;google.ml=function(a,b,d,m,e){e=void 0===e?2:e;b&&(r=a&&a.message);if(google.dl)return google.dl(a,e,d),null;if(0>v){window.console&&console.error(a,d);if(-2===v)throw a;b=!1}else b=!a||!a.message||\"Error loading script\"===a.message||q>=l&&!m?!1:!0;if(!b)return null;q++;d=d||{};b=encodeURIComponent;var c=\"/gen_204?atyp=i&ei=\"+b(google.kEI);google.kEXPI&&(c+=\"&jexpid=\"+b(google.kEXPI));c+=\"&srcpg=\"+b(google.sn)+\"&jsr=\"+b(t.jsr)+\"&bver=\"+b(t.bv);var f=a.lineNumber;void 0!==f&&(c+=\"&line=\"+f);var g=\n",
      "a.fileName;g&&(0<g.indexOf(\"-extension:/\")&&(e=3),c+=\"&script=\"+b(g),f&&g===window.location.href&&(f=document.documentElement.outerHTML.split(\"\\n\")[f],c+=\"&cad=\"+b(f?f.substring(0,300):\"No script found.\")));c+=\"&jsel=\"+e;for(var u in d)c+=\"&\",c+=b(u),c+=\"=\",c+=b(d[u]);c=c+\"&emsg=\"+b(a.name+\": \"+a.message);c=c+\"&jsst=\"+b(a.stack||\"N/A\");12288<=c.length&&(c=c.substr(0,12288));a=c;m||google.log(0,\"\",a);return a};window.onerror=function(a,b,d,m,e){r!==a&&(a=e instanceof Error?e:Error(a),void 0===d||\"lineNumber\"in a||(a.lineNumber=d),void 0===b||\"fileName\"in a||(a.fileName=b),google.ml(a,!1,void 0,!1,\"SyntaxError\"===a.name||\"SyntaxError\"===a.message.substring(0,11)||-1!==a.message.indexOf(\"Script error\")?3:0));r=null;p&&q>=l&&(window.onerror=null)};})();</script></head><body bgcolor=\"#fff\"><script nonce=\"kRRv1Jmvk_EyPXDf3lZ9LQ\">(function(){var src='/images/nav_logo229.png';var iesg=false;document.body.onload = function(){window.n && window.n();if (document.images){new Image().src=src;}\n",
      "if (!iesg){document.f&&document.f.q.focus();document.gbqf&&document.gbqf.q.focus();}\n",
      "}\n",
      "})();</script><div id=\"mngb\"><div id=gbar><nobr><b class=gb1>B�squeda</b> <a class=gb1 href=\"https://www.google.es/imghp?hl=es&tab=wi\">Im�genes</a> <a class=gb1 href=\"https://maps.google.es/maps?hl=es&tab=wl\">Maps</a> <a class=gb1 href=\"https://play.google.com/?hl=es&tab=w8\">Play</a> <a class=gb1 href=\"https://www.youtube.com/?tab=w1\">YouTube</a> <a class=gb1 href=\"https://news.google.com/?tab=wn\">Noticias</a> <a class=gb1 href=\"https://mail.google.com/mail/?tab=wm\">Gmail</a> <a class=gb1 href=\"https://drive.google.com/?tab=wo\">Drive</a> <a class=gb1 style=\"text-decoration:none\" href=\"https://www.google.es/intl/es/about/products?tab=wh\"><u>M�s</u> &raquo;</a></nobr></div><div id=guser width=100%><nobr><span id=gbn class=gbi></span><span id=gbf class=gbf></span><span id=gbe></span><a href=\"http://www.google.es/history/optout?hl=es\" class=gb4>Historial web</a> | <a  href=\"/preferences?hl=es\" class=gb4>Ajustes</a> | <a target=_top id=gb_70 href=\"https://accounts.google.com/ServiceLogin?hl=es&passive=true&continue=https://www.google.com/&ec=GAZAAQ\" class=gb4>Iniciar sesi�n</a></nobr></div><div class=gbh style=left:0></div><div class=gbh style=right:0></div></div><center><br clear=\"all\" id=\"lgpd\"><div id=\"lga\"><img alt=\"Google\" height=\"92\" src=\"/images/branding/googlelogo/1x/googlelogo_white_background_color_272x92dp.png\" style=\"padding:28px 0 14px\" width=\"272\" id=\"hplogo\"><br><br></div><form action=\"/search\" name=\"f\"><table cellpadding=\"0\" cellspacing=\"0\"><tr valign=\"top\"><td width=\"25%\">&nbsp;</td><td align=\"center\" nowrap=\"\"><input name=\"ie\" value=\"ISO-8859-1\" type=\"hidden\"><input value=\"es\" name=\"hl\" type=\"hidden\"><input name=\"source\" type=\"hidden\" value=\"hp\"><input name=\"biw\" type=\"hidden\"><input name=\"bih\" type=\"hidden\"><div class=\"ds\" style=\"height:32px;margin:4px 0\"><input class=\"lst\" style=\"margin:0;padding:5px 8px 0 6px;vertical-align:top;color:#000\" autocomplete=\"off\" value=\"\" title=\"Buscar con Google\" maxlength=\"2048\" name=\"q\" size=\"57\"></div><br style=\"line-height:0\"><span class=\"ds\"><span class=\"lsbb\"><input class=\"lsb\" value=\"Buscar con Google\" name=\"btnG\" type=\"submit\"></span></span><span class=\"ds\"><span class=\"lsbb\"><input class=\"lsb\" id=\"tsuid_1\" value=\"Voy a tener suerte\" name=\"btnI\" type=\"submit\"><script nonce=\"kRRv1Jmvk_EyPXDf3lZ9LQ\">(function(){var id='tsuid_1';document.getElementById(id).onclick = function(){if (this.form.q.value){this.checked = 1;if (this.form.iflsig)this.form.iflsig.disabled = false;}\n",
      "else top.location='/doodles/';};})();</script><input value=\"AJiK0e8AAAAAY4Taz0t6eQ7s6t9SMfo8UlnUSaKIDFMZ\" name=\"iflsig\" type=\"hidden\"></span></span></td><td class=\"fl sblc\" align=\"left\" nowrap=\"\" width=\"25%\"><a href=\"/advanced_search?hl=es&amp;authuser=0\">B�squeda avanzada</a></td></tr></table><input id=\"gbv\" name=\"gbv\" type=\"hidden\" value=\"1\"><script nonce=\"kRRv1Jmvk_EyPXDf3lZ9LQ\">(function(){var a,b=\"1\";if(document&&document.getElementById)if(\"undefined\"!=typeof XMLHttpRequest)b=\"2\";else if(\"undefined\"!=typeof ActiveXObject){var c,d,e=[\"MSXML2.XMLHTTP.6.0\",\"MSXML2.XMLHTTP.3.0\",\"MSXML2.XMLHTTP\",\"Microsoft.XMLHTTP\"];for(c=0;d=e[c++];)try{new ActiveXObject(d),b=\"2\"}catch(h){}}a=b;if(\"2\"==a&&-1==location.search.indexOf(\"&gbv=2\")){var f=google.gbvu,g=document.getElementById(\"gbv\");g&&(g.value=a);f&&window.setTimeout(function(){location.href=f},0)};}).call(this);</script></form><div id=\"gac_scont\"></div><div style=\"font-size:83%;min-height:3.5em\"><br><div id=\"prm\"><style>.szppmdbYutt__middle-slot-promo{font-size:small;margin-bottom:32px}.szppmdbYutt__middle-slot-promo a.ZIeIlb{display:inline-block;text-decoration:none}.szppmdbYutt__middle-slot-promo img{border:none;margin-right:5px;vertical-align:middle}</style><div class=\"szppmdbYutt__middle-slot-promo\" data-ved=\"0ahUKEwjQ68HpkdH7AhUKMDQIHXyuAbIQnIcBCAQ\"><img height=\"32\" src=\"https://www.google.com/images/hpp/bf-announce-hpp-48x48px.png\" width=\"32\"><a class=\"NKcBbd\" href=\"https://www.google.com/url?q=https://store.google.com/collection/offers%3Futm_source%3Dhpp%26utm_medium%3Dgoogle_oo%26utm_campaign%3DGS107465&amp;source=hpp&amp;id=19032768&amp;ct=3&amp;usg=AOvVaw2tIJtoGfndifaRoJL3gX8w&amp;sa=X&amp;ved=0ahUKEwjQ68HpkdH7AhUKMDQIHXyuAbIQ8IcBCAU\" rel=\"nofollow\">Descubre las ofertas finales del Black Friday</a><span> en dispositivos en la Google Store</span></div></div><div id=\"gws-output-pages-elements-homepage_additional_languages__als\"><style>#gws-output-pages-elements-homepage_additional_languages__als{font-size:small;margin-bottom:24px}#SIvCob{color:#3c4043;display:inline-block;line-height:28px;}#SIvCob a{padding:0 3px;}.H6sW5{display:inline-block;margin:0 2px;white-space:nowrap}.z4hgWe{display:inline-block;margin:0 2px}</style><div id=\"SIvCob\">Ofrecido por Google en:  <a href=\"https://www.google.com/setprefs?sig=0_SVV2AY4Cy6F8CoPy003r6Lff9b0%3D&amp;hl=ca&amp;source=homepage&amp;sa=X&amp;ved=0ahUKEwjQ68HpkdH7AhUKMDQIHXyuAbIQ2ZgBCAc\">catal�</a>    <a href=\"https://www.google.com/setprefs?sig=0_SVV2AY4Cy6F8CoPy003r6Lff9b0%3D&amp;hl=gl&amp;source=homepage&amp;sa=X&amp;ved=0ahUKEwjQ68HpkdH7AhUKMDQIHXyuAbIQ2ZgBCAg\">galego</a>    <a href=\"https://www.google.com/setprefs?sig=0_SVV2AY4Cy6F8CoPy003r6Lff9b0%3D&amp;hl=eu&amp;source=homepage&amp;sa=X&amp;ved=0ahUKEwjQ68HpkdH7AhUKMDQIHXyuAbIQ2ZgBCAk\">euskara</a>  </div></div></div><span id=\"footer\"><div style=\"font-size:10pt\"><div style=\"margin:19px auto;text-align:center\" id=\"WqQANb\"><a href=\"http://www.google.es/intl/es/services/\">Soluciones Empresariales</a><a href=\"/intl/es/about.html\">Todo acerca de Google</a><a href=\"https://www.google.com/setprefdomain?prefdom=ES&amp;prev=https://www.google.es/&amp;sig=K_HzPJ8ogdZi9_ySmM56rtKhlLeoo%3D\">Google.es</a></div></div><p style=\"font-size:8pt;color:#70757a\">&copy; 2022 - <a href=\"/intl/es/policies/privacy/\">Privacidad</a> - <a href=\"/intl/es/policies/terms/\">T�rminos</a></p></span></center><script nonce=\"kRRv1Jmvk_EyPXDf3lZ9LQ\">(function(){window.google.cdo={height:757,width:1440};(function(){var a=window.innerWidth,b=window.innerHeight;if(!a||!b){var c=window.document,d=\"CSS1Compat\"==c.compatMode?c.documentElement:c.body;a=d.clientWidth;b=d.clientHeight}a&&b&&(a!=google.cdo.width||b!=google.cdo.height)&&google.log(\"\",\"\",\"/client_204?&atyp=i&biw=\"+a+\"&bih=\"+b+\"&ei=\"+google.kEI);}).call(this);})();</script> <script nonce=\"kRRv1Jmvk_EyPXDf3lZ9LQ\">(function(){google.xjs={ck:'xjs.hp.o5AfvK7BgaM.L.X.O',cs:'ACT90oHYeVP2Dhl_7iuSPJ-kmBX9I1TdlA',excm:[]};})();</script>  <script nonce=\"kRRv1Jmvk_EyPXDf3lZ9LQ\">(function(){var u='/xjs/_/js/k\\x3dxjs.hp.en.dE-FG74hDaY.O/am\\x3dAADoBABQAGAB/d\\x3d1/ed\\x3d1/rs\\x3dACT90oEgcGLBR3Xg2czKlKHLkgkwguUztg/m\\x3dsb_he,d';var amd=0;\n",
      "var d=this||self,e=function(a){return a};var g;var l=function(a,b){this.g=b===h?a:\"\"};l.prototype.toString=function(){return this.g+\"\"};var h={};\n",
      "function m(){var a=u;google.lx=function(){p(a);google.lx=function(){}};google.bx||google.lx()}\n",
      "function p(a){google.timers&&google.timers.load&&google.tick&&google.tick(\"load\",\"xjsls\");var b=document;var c=\"SCRIPT\";\"application/xhtml+xml\"===b.contentType&&(c=c.toLowerCase());c=b.createElement(c);if(void 0===g){b=null;var k=d.trustedTypes;if(k&&k.createPolicy){try{b=k.createPolicy(\"goog#html\",{createHTML:e,createScript:e,createScriptURL:e})}catch(q){d.console&&d.console.error(q.message)}g=b}else g=b}a=(b=g)?b.createScriptURL(a):a;a=new l(a,h);c.src=a instanceof l&&a.constructor===l?a.g:\"type_error:TrustedResourceUrl\";var f,n;(f=(a=null==(n=(f=(c.ownerDocument&&c.ownerDocument.defaultView||window).document).querySelector)?void 0:n.call(f,\"script[nonce]\"))?a.nonce||a.getAttribute(\"nonce\")||\"\":\"\")&&c.setAttribute(\"nonce\",f);document.body.appendChild(c);google.psa=!0};google.xjsu=u;setTimeout(function(){0<amd?google.caft(function(){return m()},amd):m()},0);})();function _DumpException(e){throw e;}\n",
      "function _F_installCss(c){}\n",
      "(function(){google.jl={blt:'none',chnk:0,dw:false,dwu:true,emtn:0,end:0,ico:false,ikb:0,ine:false,injs:'none',injt:0,injth:0,injv2:false,lls:'default',pdt:0,rep:0,snet:true,strt:0,ubm:false,uwp:true};})();(function(){var pmc='{\\x22d\\x22:{},\\x22sb_he\\x22:{\\x22agen\\x22:true,\\x22cgen\\x22:true,\\x22client\\x22:\\x22heirloom-hp\\x22,\\x22dh\\x22:true,\\x22ds\\x22:\\x22\\x22,\\x22fl\\x22:true,\\x22host\\x22:\\x22google.com\\x22,\\x22jsonp\\x22:true,\\x22lm\\x22:true,\\x22msgs\\x22:{\\x22cibl\\x22:\\x22Borrar b�squeda\\x22,\\x22dym\\x22:\\x22Quiz�s quisiste decir:\\x22,\\x22lcky\\x22:\\x22Voy a tener suerte\\x22,\\x22lml\\x22:\\x22M�s informaci�n\\x22,\\x22psrc\\x22:\\x22Esta b�squeda se ha eliminado de tu \\\\u003Ca href\\x3d\\\\\\x22/history\\\\\\x22\\\\u003Ehistorial web\\\\u003C/a\\\\u003E.\\x22,\\x22psrl\\x22:\\x22Eliminar\\x22,\\x22sbit\\x22:\\x22Buscar por imagen\\x22,\\x22srch\\x22:\\x22Buscar con Google\\x22},\\x22ovr\\x22:{},\\x22pq\\x22:\\x22\\x22,\\x22rfs\\x22:[],\\x22sbas\\x22:\\x220 3px 8px 0 rgba(0,0,0,0.2),0 0 0 1px rgba(0,0,0,0.08)\\x22,\\x22stok\\x22:\\x22tjw2R022XFybzaq6e4BbrQhdszQ\\x22}}';google.pmc=JSON.parse(pmc);})();</script>        </body></html>"
     ]
    }
   ],
   "source": [
    "!curl https://www.google.com"
   ]
  },
  {
   "cell_type": "markdown",
   "metadata": {},
   "source": [
    "Tambien podemos hacer un pipeline para guardarlo en un archivo"
   ]
  },
  {
   "cell_type": "code",
   "execution_count": 182,
   "metadata": {},
   "outputs": [
    {
     "name": "stdout",
     "output_type": "stream",
     "text": [
      "  % Total    % Received % Xferd  Average Speed   Time    Time     Time  Current\n",
      "                                 Dload  Upload   Total   Spent    Left  Speed\n",
      "100 15949    0 15949    0     0  56556      0 --:--:-- --:--:-- --:--:-- 56556\n"
     ]
    }
   ],
   "source": [
    "!curl https://www.google.com > google.html"
   ]
  },
  {
   "cell_type": "markdown",
   "metadata": {},
   "source": [
    "Ahora podemos ver si se ha guardado bien"
   ]
  },
  {
   "cell_type": "code",
   "execution_count": 183,
   "metadata": {},
   "outputs": [
    {
     "name": "stdout",
     "output_type": "stream",
     "text": [
      "<!doctype html><html itemscope=\"\" itemtype=\"http://schema.org/WebPage\" lang=\"es\"><head><meta content=\"Google.es permite acceder a la informaci�n mundial en castellano, catal�n, gallego, euskara e ingl�s.\" name=\"description\"><meta content=\"noodp\" name=\"robots\"><meta content=\"text/html; charset=UTF-8\" http-equiv=\"Content-Type\"><meta content=\"/images/branding/googleg/1x/googleg_standard_color_128dp.png\" itemprop=\"image\"><title>Google</title><script nonce=\"fFiK5W11HEiG9GsXWX28Wg\">(function(){window.google={kEI:'0cyEY9avD4zh0PEPy7GEgA4',kEXPI:'0,1359409,1709,4350,206,4804,2316,383,246,5,5367,1123753,1197730,317329,63432,16114,28684,22430,1362,12316,17583,4998,13228,3847,10622,22741,5081,1593,1279,2742,149,1103,840,1983,4314,3514,606,2025,2295,14670,3227,2845,7,24990,8780,1851,2614,13142,3,346,230,6459,149,13975,4,1528,2304,7039,27731,7357,13658,4437,16786,5800,2557,4094,17,4035,3,3541,1,14263,27891,2,14022,7646,18093,6699,2380,28742,4568,6256,23421,1252,5835,14967,4333,5016,2468,5627,5779,13670,2006,5665,2490,7381,15970,872,19634,7,1922,5784,3995,19130,12192,4832,11645,14859,5796,3,6014,46,8373,3890,751,2068,13497,1622,1779,1854,1997,1119,6,1539,208,7162,79,248,3243,2412,1742,813,1542,550,1768,84,600,252,565,3,565,399,589,2266,184,85,921,451,397,76,110,333,880,2656,12,770,401,101,792,136,3,261,524,2,312,1112,1017,183,197,646,2,3,841,274,246,64,368,1,57,230,497,59,644,732,890,57,857,306,117,902,442,32,1639,66,168,42,21,8,3,253,228,18,1468,2,203,782,83,124,646,749,294,619,180,170,778,4,119,6,497,303,360,274,85,111,194,67,365,261,5,37,196,129,84,363,147,27,143,4,694,36,412,122,439,17,103,864,61,1,482,667,500,1119,5290505,4055,17,34,49,66,11,8799018,3311,141,795,19735,2,300,46,2759,41,169,1,23947515,486,46,4041610,1964,3094,13578,3406,5595,11,6010,1218,1133,15,97,493,1510174,12345',kBL:'-1VY'};google.sn='webhp';google.kHL='es';})();(function(){\n",
      "var f=this||self;var h,k=[];function l(a){for(var b;a&&(!a.getAttribute||!(b=a.getAttribute(\"eid\")));)a=a.parentNode;return b||h}function m(a){for(var b=null;a&&(!a.getAttribute||!(b=a.getAttribute(\"leid\")));)a=a.parentNode;return b}\n",
      "function n(a,b,c,d,g){var e=\"\";c||-1!==b.search(\"&ei=\")||(e=\"&ei=\"+l(d),-1===b.search(\"&lei=\")&&(d=m(d))&&(e+=\"&lei=\"+d));d=\"\";!c&&f._cshid&&-1===b.search(\"&cshid=\")&&\"slh\"!==a&&(d=\"&cshid=\"+f._cshid);c=c||\"/\"+(g||\"gen_204\")+\"?atyp=i&ct=\"+a+\"&cad=\"+b+e+\"&zx=\"+Date.now()+d;/^http:/i.test(c)&&\"https:\"===window.location.protocol&&(google.ml&&google.ml(Error(\"a\"),!1,{src:c,glmm:1}),c=\"\");return c};h=google.kEI;google.getEI=l;google.getLEI=m;google.ml=function(){return null};google.log=function(a,b,c,d,g){if(c=n(a,b,c,d,g)){a=new Image;var e=k.length;k[e]=a;a.onerror=a.onload=a.onabort=function(){delete k[e]};a.src=c}};google.logUrl=n;}).call(this);(function(){google.y={};google.sy=[];google.x=function(a,b){if(a)var c=a.id;else{do c=Math.random();while(google.y[c])}google.y[c]=[a,b];return!1};google.sx=function(a){google.sy.push(a)};google.lm=[];google.plm=function(a){google.lm.push.apply(google.lm,a)};google.lq=[];google.load=function(a,b,c){google.lq.push([[a],b,c])};google.loadAll=function(a,b){google.lq.push([a,b])};google.bx=!1;google.lx=function(){};}).call(this);google.f={};(function(){\n",
      "document.documentElement.addEventListener(\"submit\",function(b){var a;if(a=b.target){var c=a.getAttribute(\"data-submitfalse\");a=\"1\"===c||\"q\"===c&&!a.elements.q.value?!0:!1}else a=!1;a&&(b.preventDefault(),b.stopPropagation())},!0);document.documentElement.addEventListener(\"click\",function(b){var a;a:{for(a=b.target;a&&a!==document.documentElement;a=a.parentElement)if(\"A\"===a.tagName){a=\"1\"===a.getAttribute(\"data-nohref\");break a}a=!1}a&&b.preventDefault()},!0);}).call(this);</script><style>#gbar,#guser{font-size:13px;padding-top:1px !important;}#gbar{height:22px}#guser{padding-bottom:7px !important;text-align:right}.gbh,.gbd{border-top:1px solid #c9d7f1;font-size:1px}.gbh{height:0;position:absolute;top:24px;width:100%}@media all{.gb1{height:22px;margin-right:.5em;vertical-align:top}#gbar{float:left}}a.gb1,a.gb4{text-decoration:underline !important}a.gb1,a.gb4{color:#00c !important}.gbi .gb4{color:#dd8e27 !important}.gbf .gb4{color:#900 !important}\n",
      "</style><style>body,td,a,p,.h{font-family:arial,sans-serif}body{margin:0;overflow-y:scroll}#gog{padding:3px 8px 0}td{line-height:.8em}.gac_m td{line-height:17px}form{margin-bottom:20px}.h{color:#1558d6}em{font-weight:bold;font-style:normal}.lst{height:25px;width:496px}.gsfi,.lst{font:18px arial,sans-serif}.gsfs{font:17px arial,sans-serif}.ds{display:inline-box;display:inline-block;margin:3px 0 4px;margin-left:4px}input{font-family:inherit}body{background:#fff;color:#000}a{color:#4b11a8;text-decoration:none}a:hover,a:active{text-decoration:underline}.fl a{color:#1558d6}a:visited{color:#4b11a8}.sblc{padding-top:5px}.sblc a{display:block;margin:2px 0;margin-left:13px;font-size:11px}.lsbb{background:#f8f9fa;border:solid 1px;border-color:#dadce0 #70757a #70757a #dadce0;height:30px}.lsbb{display:block}#WqQANb a{display:inline-block;margin:0 12px}.lsb{background:url(/images/nav_logo229.png) 0 -261px repeat-x;border:none;color:#000;cursor:pointer;height:30px;margin:0;outline:0;font:15px arial,sans-serif;vertical-align:top}.lsb:active{background:#dadce0}.lst:focus{outline:none}</style><script nonce=\"fFiK5W11HEiG9GsXWX28Wg\">(function(){window.google.erd={jsr:1,bv:1693,de:true};\n",
      "var h=this||self;var k,l=null!=(k=h.mei)?k:1,n,p=null!=(n=h.sdo)?n:!0,q=0,r,t=google.erd,v=t.jsr;google.ml=function(a,b,d,m,e){e=void 0===e?2:e;b&&(r=a&&a.message);if(google.dl)return google.dl(a,e,d),null;if(0>v){window.console&&console.error(a,d);if(-2===v)throw a;b=!1}else b=!a||!a.message||\"Error loading script\"===a.message||q>=l&&!m?!1:!0;if(!b)return null;q++;d=d||{};b=encodeURIComponent;var c=\"/gen_204?atyp=i&ei=\"+b(google.kEI);google.kEXPI&&(c+=\"&jexpid=\"+b(google.kEXPI));c+=\"&srcpg=\"+b(google.sn)+\"&jsr=\"+b(t.jsr)+\"&bver=\"+b(t.bv);var f=a.lineNumber;void 0!==f&&(c+=\"&line=\"+f);var g=\n",
      "a.fileName;g&&(0<g.indexOf(\"-extension:/\")&&(e=3),c+=\"&script=\"+b(g),f&&g===window.location.href&&(f=document.documentElement.outerHTML.split(\"\\n\")[f],c+=\"&cad=\"+b(f?f.substring(0,300):\"No script found.\")));c+=\"&jsel=\"+e;for(var u in d)c+=\"&\",c+=b(u),c+=\"=\",c+=b(d[u]);c=c+\"&emsg=\"+b(a.name+\": \"+a.message);c=c+\"&jsst=\"+b(a.stack||\"N/A\");12288<=c.length&&(c=c.substr(0,12288));a=c;m||google.log(0,\"\",a);return a};window.onerror=function(a,b,d,m,e){r!==a&&(a=e instanceof Error?e:Error(a),void 0===d||\"lineNumber\"in a||(a.lineNumber=d),void 0===b||\"fileName\"in a||(a.fileName=b),google.ml(a,!1,void 0,!1,\"SyntaxError\"===a.name||\"SyntaxError\"===a.message.substring(0,11)||-1!==a.message.indexOf(\"Script error\")?3:0));r=null;p&&q>=l&&(window.onerror=null)};})();</script></head><body bgcolor=\"#fff\"><script nonce=\"fFiK5W11HEiG9GsXWX28Wg\">(function(){var src='/images/nav_logo229.png';var iesg=false;document.body.onload = function(){window.n && window.n();if (document.images){new Image().src=src;}\n",
      "if (!iesg){document.f&&document.f.q.focus();document.gbqf&&document.gbqf.q.focus();}\n",
      "}\n",
      "})();</script><div id=\"mngb\"><div id=gbar><nobr><b class=gb1>B�squeda</b> <a class=gb1 href=\"https://www.google.es/imghp?hl=es&tab=wi\">Im�genes</a> <a class=gb1 href=\"https://maps.google.es/maps?hl=es&tab=wl\">Maps</a> <a class=gb1 href=\"https://play.google.com/?hl=es&tab=w8\">Play</a> <a class=gb1 href=\"https://www.youtube.com/?tab=w1\">YouTube</a> <a class=gb1 href=\"https://news.google.com/?tab=wn\">Noticias</a> <a class=gb1 href=\"https://mail.google.com/mail/?tab=wm\">Gmail</a> <a class=gb1 href=\"https://drive.google.com/?tab=wo\">Drive</a> <a class=gb1 style=\"text-decoration:none\" href=\"https://www.google.es/intl/es/about/products?tab=wh\"><u>M�s</u> &raquo;</a></nobr></div><div id=guser width=100%><nobr><span id=gbn class=gbi></span><span id=gbf class=gbf></span><span id=gbe></span><a href=\"http://www.google.es/history/optout?hl=es\" class=gb4>Historial web</a> | <a  href=\"/preferences?hl=es\" class=gb4>Ajustes</a> | <a target=_top id=gb_70 href=\"https://accounts.google.com/ServiceLogin?hl=es&passive=true&continue=https://www.google.com/&ec=GAZAAQ\" class=gb4>Iniciar sesi�n</a></nobr></div><div class=gbh style=left:0></div><div class=gbh style=right:0></div></div><center><br clear=\"all\" id=\"lgpd\"><div id=\"lga\"><img alt=\"Google\" height=\"92\" src=\"/images/branding/googlelogo/1x/googlelogo_white_background_color_272x92dp.png\" style=\"padding:28px 0 14px\" width=\"272\" id=\"hplogo\"><br><br></div><form action=\"/search\" name=\"f\"><table cellpadding=\"0\" cellspacing=\"0\"><tr valign=\"top\"><td width=\"25%\">&nbsp;</td><td align=\"center\" nowrap=\"\"><input name=\"ie\" value=\"ISO-8859-1\" type=\"hidden\"><input value=\"es\" name=\"hl\" type=\"hidden\"><input name=\"source\" type=\"hidden\" value=\"hp\"><input name=\"biw\" type=\"hidden\"><input name=\"bih\" type=\"hidden\"><div class=\"ds\" style=\"height:32px;margin:4px 0\"><input class=\"lst\" style=\"margin:0;padding:5px 8px 0 6px;vertical-align:top;color:#000\" autocomplete=\"off\" value=\"\" title=\"Buscar con Google\" maxlength=\"2048\" name=\"q\" size=\"57\"></div><br style=\"line-height:0\"><span class=\"ds\"><span class=\"lsbb\"><input class=\"lsb\" value=\"Buscar con Google\" name=\"btnG\" type=\"submit\"></span></span><span class=\"ds\"><span class=\"lsbb\"><input class=\"lsb\" id=\"tsuid_1\" value=\"Voy a tener suerte\" name=\"btnI\" type=\"submit\"><script nonce=\"fFiK5W11HEiG9GsXWX28Wg\">(function(){var id='tsuid_1';document.getElementById(id).onclick = function(){if (this.form.q.value){this.checked = 1;if (this.form.iflsig)this.form.iflsig.disabled = false;}\n",
      "else top.location='/doodles/';};})();</script><input value=\"AJiK0e8AAAAAY4Ta4dg7dymm44-siV37gLsLLfEU5kAE\" name=\"iflsig\" type=\"hidden\"></span></span></td><td class=\"fl sblc\" align=\"left\" nowrap=\"\" width=\"25%\"><a href=\"/advanced_search?hl=es&amp;authuser=0\">B�squeda avanzada</a></td></tr></table><input id=\"gbv\" name=\"gbv\" type=\"hidden\" value=\"1\"><script nonce=\"fFiK5W11HEiG9GsXWX28Wg\">(function(){var a,b=\"1\";if(document&&document.getElementById)if(\"undefined\"!=typeof XMLHttpRequest)b=\"2\";else if(\"undefined\"!=typeof ActiveXObject){var c,d,e=[\"MSXML2.XMLHTTP.6.0\",\"MSXML2.XMLHTTP.3.0\",\"MSXML2.XMLHTTP\",\"Microsoft.XMLHTTP\"];for(c=0;d=e[c++];)try{new ActiveXObject(d),b=\"2\"}catch(h){}}a=b;if(\"2\"==a&&-1==location.search.indexOf(\"&gbv=2\")){var f=google.gbvu,g=document.getElementById(\"gbv\");g&&(g.value=a);f&&window.setTimeout(function(){location.href=f},0)};}).call(this);</script></form><div id=\"gac_scont\"></div><div style=\"font-size:83%;min-height:3.5em\"><br><div id=\"prm\"><style>.szppmdbYutt__middle-slot-promo{font-size:small;margin-bottom:32px}.szppmdbYutt__middle-slot-promo a.ZIeIlb{display:inline-block;text-decoration:none}.szppmdbYutt__middle-slot-promo img{border:none;margin-right:5px;vertical-align:middle}</style><div class=\"szppmdbYutt__middle-slot-promo\" data-ved=\"0ahUKEwiW3I_ykdH7AhWMMDQIHcsYAeAQnIcBCAQ\"><img height=\"32\" src=\"https://www.google.com/images/hpp/bf-announce-hpp-48x48px.png\" width=\"32\"><a class=\"NKcBbd\" href=\"https://www.google.com/url?q=https://store.google.com/collection/offers%3Futm_source%3Dhpp%26utm_medium%3Dgoogle_oo%26utm_campaign%3DGS107465&amp;source=hpp&amp;id=19032768&amp;ct=3&amp;usg=AOvVaw2tIJtoGfndifaRoJL3gX8w&amp;sa=X&amp;ved=0ahUKEwiW3I_ykdH7AhWMMDQIHcsYAeAQ8IcBCAU\" rel=\"nofollow\">Descubre las ofertas finales del Black Friday</a><span> en dispositivos en la Google Store</span></div></div><div id=\"gws-output-pages-elements-homepage_additional_languages__als\"><style>#gws-output-pages-elements-homepage_additional_languages__als{font-size:small;margin-bottom:24px}#SIvCob{color:#3c4043;display:inline-block;line-height:28px;}#SIvCob a{padding:0 3px;}.H6sW5{display:inline-block;margin:0 2px;white-space:nowrap}.z4hgWe{display:inline-block;margin:0 2px}</style><div id=\"SIvCob\">Ofrecido por Google en:  <a href=\"https://www.google.com/setprefs?sig=0_bAgGYQGfrh3-ZRPCMLz0Zc4MzOY%3D&amp;hl=ca&amp;source=homepage&amp;sa=X&amp;ved=0ahUKEwiW3I_ykdH7AhWMMDQIHcsYAeAQ2ZgBCAc\">catal�</a>    <a href=\"https://www.google.com/setprefs?sig=0_bAgGYQGfrh3-ZRPCMLz0Zc4MzOY%3D&amp;hl=gl&amp;source=homepage&amp;sa=X&amp;ved=0ahUKEwiW3I_ykdH7AhWMMDQIHcsYAeAQ2ZgBCAg\">galego</a>    <a href=\"https://www.google.com/setprefs?sig=0_bAgGYQGfrh3-ZRPCMLz0Zc4MzOY%3D&amp;hl=eu&amp;source=homepage&amp;sa=X&amp;ved=0ahUKEwiW3I_ykdH7AhWMMDQIHcsYAeAQ2ZgBCAk\">euskara</a>  </div></div></div><span id=\"footer\"><div style=\"font-size:10pt\"><div style=\"margin:19px auto;text-align:center\" id=\"WqQANb\"><a href=\"http://www.google.es/intl/es/services/\">Soluciones Empresariales</a><a href=\"/intl/es/about.html\">Todo acerca de Google</a><a href=\"https://www.google.com/setprefdomain?prefdom=ES&amp;prev=https://www.google.es/&amp;sig=K_WD2_fdSuE8BAGxKPBpVpN6ILBF8%3D\">Google.es</a></div></div><p style=\"font-size:8pt;color:#70757a\">&copy; 2022 - <a href=\"/intl/es/policies/privacy/\">Privacidad</a> - <a href=\"/intl/es/policies/terms/\">T�rminos</a></p></span></center><script nonce=\"fFiK5W11HEiG9GsXWX28Wg\">(function(){window.google.cdo={height:757,width:1440};(function(){var a=window.innerWidth,b=window.innerHeight;if(!a||!b){var c=window.document,d=\"CSS1Compat\"==c.compatMode?c.documentElement:c.body;a=d.clientWidth;b=d.clientHeight}a&&b&&(a!=google.cdo.width||b!=google.cdo.height)&&google.log(\"\",\"\",\"/client_204?&atyp=i&biw=\"+a+\"&bih=\"+b+\"&ei=\"+google.kEI);}).call(this);})();</script> <script nonce=\"fFiK5W11HEiG9GsXWX28Wg\">(function(){google.xjs={ck:'xjs.hp.o5AfvK7BgaM.L.X.O',cs:'ACT90oHYeVP2Dhl_7iuSPJ-kmBX9I1TdlA',excm:[]};})();</script>  <script nonce=\"fFiK5W11HEiG9GsXWX28Wg\">(function(){var u='/xjs/_/js/k\\x3dxjs.hp.en.dE-FG74hDaY.O/am\\x3dAADoBABQAGAB/d\\x3d1/ed\\x3d1/rs\\x3dACT90oEgcGLBR3Xg2czKlKHLkgkwguUztg/m\\x3dsb_he,d';var amd=0;\n",
      "var d=this||self,e=function(a){return a};var g;var l=function(a,b){this.g=b===h?a:\"\"};l.prototype.toString=function(){return this.g+\"\"};var h={};\n",
      "function m(){var a=u;google.lx=function(){p(a);google.lx=function(){}};google.bx||google.lx()}\n",
      "function p(a){google.timers&&google.timers.load&&google.tick&&google.tick(\"load\",\"xjsls\");var b=document;var c=\"SCRIPT\";\"application/xhtml+xml\"===b.contentType&&(c=c.toLowerCase());c=b.createElement(c);if(void 0===g){b=null;var k=d.trustedTypes;if(k&&k.createPolicy){try{b=k.createPolicy(\"goog#html\",{createHTML:e,createScript:e,createScriptURL:e})}catch(q){d.console&&d.console.error(q.message)}g=b}else g=b}a=(b=g)?b.createScriptURL(a):a;a=new l(a,h);c.src=a instanceof l&&a.constructor===l?a.g:\"type_error:TrustedResourceUrl\";var f,n;(f=(a=null==(n=(f=(c.ownerDocument&&c.ownerDocument.defaultView||window).document).querySelector)?void 0:n.call(f,\"script[nonce]\"))?a.nonce||a.getAttribute(\"nonce\")||\"\":\"\")&&c.setAttribute(\"nonce\",f);document.body.appendChild(c);google.psa=!0};google.xjsu=u;setTimeout(function(){0<amd?google.caft(function(){return m()},amd):m()},0);})();function _DumpException(e){throw e;}\n",
      "function _F_installCss(c){}\n",
      "(function(){google.jl={blt:'none',chnk:0,dw:false,dwu:true,emtn:0,end:0,ico:false,ikb:0,ine:false,injs:'none',injt:0,injth:0,injv2:false,lls:'default',pdt:0,rep:0,snet:true,strt:0,ubm:false,uwp:true};})();(function(){var pmc='{\\x22d\\x22:{},\\x22sb_he\\x22:{\\x22agen\\x22:true,\\x22cgen\\x22:true,\\x22client\\x22:\\x22heirloom-hp\\x22,\\x22dh\\x22:true,\\x22ds\\x22:\\x22\\x22,\\x22fl\\x22:true,\\x22host\\x22:\\x22google.com\\x22,\\x22jsonp\\x22:true,\\x22lm\\x22:true,\\x22msgs\\x22:{\\x22cibl\\x22:\\x22Borrar b�squeda\\x22,\\x22dym\\x22:\\x22Quiz�s quisiste decir:\\x22,\\x22lcky\\x22:\\x22Voy a tener suerte\\x22,\\x22lml\\x22:\\x22M�s informaci�n\\x22,\\x22psrc\\x22:\\x22Esta b�squeda se ha eliminado de tu \\\\u003Ca href\\x3d\\\\\\x22/history\\\\\\x22\\\\u003Ehistorial web\\\\u003C/a\\\\u003E.\\x22,\\x22psrl\\x22:\\x22Eliminar\\x22,\\x22sbit\\x22:\\x22Buscar por imagen\\x22,\\x22srch\\x22:\\x22Buscar con Google\\x22},\\x22ovr\\x22:{},\\x22pq\\x22:\\x22\\x22,\\x22rfs\\x22:[],\\x22sbas\\x22:\\x220 3px 8px 0 rgba(0,0,0,0.2),0 0 0 1px rgba(0,0,0,0.08)\\x22,\\x22stok\\x22:\\x222KZ_q0X2GZVswgP_Jl2xdjD4wLk\\x22}}';google.pmc=JSON.parse(pmc);})();</script>        </body></html>"
     ]
    }
   ],
   "source": [
    "!cat google.html"
   ]
  },
  {
   "cell_type": "markdown",
   "metadata": {},
   "source": [
    "Otro comando parecido es `wget`, sin embargo, a diferencia de `curl`, wget descarga el archivo directamente"
   ]
  },
  {
   "cell_type": "code",
   "execution_count": 184,
   "metadata": {},
   "outputs": [
    {
     "name": "stdout",
     "output_type": "stream",
     "text": [
      "--2022-11-28 15:59:41--  https://www.google.com/\n",
      "Resolviendo www.google.com (www.google.com)... 172.217.168.164, 2a00:1450:4003:803::2004\n",
      "Conectando con www.google.com (www.google.com)[172.217.168.164]:443... conectado.\n",
      "Petición HTTP enviada, esperando respuesta... 200 OK\n",
      "Longitud: no especificado [text/html]\n",
      "Guardando como: “index.html.1”\n",
      "\n",
      "index.html.1            [ <=>                ]  15,54K  --.-KB/s    en 0,009s  \n",
      "\n",
      "2022-11-28 15:59:41 (1,62 MB/s) - “index.html.1” guardado [15912]\n",
      "\n"
     ]
    }
   ],
   "source": [
    "!wget https://www.google.com"
   ]
  },
  {
   "cell_type": "code",
   "execution_count": 185,
   "metadata": {},
   "outputs": [
    {
     "name": "stdout",
     "output_type": "stream",
     "text": [
      "total 316\n",
      "-rw-rw-r-- 1 wallabot wallabot 285898 nov 28 15:06 2021-02-11-Introduccion-a-Python.ipynb\n",
      "-rw-rw-r-- 1 wallabot wallabot      0 nov 28 15:12 Abc\n",
      "-rw-rw-r-- 1 wallabot wallabot      0 nov 28 15:12 datos1\n",
      "-rw-rw-r-- 1 wallabot wallabot      0 nov 28 15:12 datos123\n",
      "-rw-rw-r-- 1 wallabot wallabot      0 nov 28 15:12 dot2.txt\n",
      "-rw-rw-r-- 1 wallabot wallabot      0 nov 28 15:12 dot.txt\n",
      "-rw-rw-r-- 1 wallabot wallabot      0 nov 28 15:12 file.txt\n",
      "-rw-rw-r-- 1 wallabot wallabot  15949 nov 28 15:59 google.html\n",
      "-rw-rw-r-- 1 wallabot wallabot      0 nov 28 15:12 index.html\n",
      "-rw-rw-r-- 1 wallabot wallabot  15912 nov 28 15:59 index.html.1\n",
      "-rw-rw-r-- 1 wallabot wallabot    182 nov 28 15:15 lista.txt\n",
      "-rw-rw-r-- 1 wallabot wallabot      0 nov 28 15:24 secuential.txt\n"
     ]
    }
   ],
   "source": [
    "!ls -l"
   ]
  },
  {
   "cell_type": "markdown",
   "metadata": {},
   "source": [
    "Vemos que lo ha guardado como `index.html`, que es como google lo tiene nombrado"
   ]
  },
  {
   "cell_type": "markdown",
   "metadata": {},
   "source": [
    "Si queremos que se guarde con un nombre específico podemos usar el flag `-O`"
   ]
  },
  {
   "cell_type": "code",
   "execution_count": 186,
   "metadata": {},
   "outputs": [
    {
     "name": "stdout",
     "output_type": "stream",
     "text": [
      "--2022-11-28 15:59:50--  https://www.google.com/\n",
      "Resolviendo www.google.com (www.google.com)... 172.217.168.164, 2a00:1450:4003:803::2004\n",
      "Conectando con www.google.com (www.google.com)[172.217.168.164]:443... conectado.\n",
      "Petición HTTP enviada, esperando respuesta... 200 OK\n",
      "Longitud: no especificado [text/html]\n",
      "Guardando como: “google2.html”\n",
      "\n",
      "google2.html            [ <=>                ]  15,59K  --.-KB/s    en 0,01s   \n",
      "\n",
      "2022-11-28 15:59:50 (1,55 MB/s) - “google2.html” guardado [15964]\n",
      "\n"
     ]
    }
   ],
   "source": [
    "!wget https://www.google.com -O google2.html"
   ]
  },
  {
   "cell_type": "code",
   "execution_count": 187,
   "metadata": {},
   "outputs": [
    {
     "name": "stdout",
     "output_type": "stream",
     "text": [
      "total 332\n",
      "-rw-rw-r-- 1 wallabot wallabot 285898 nov 28 15:06 2021-02-11-Introduccion-a-Python.ipynb\n",
      "-rw-rw-r-- 1 wallabot wallabot      0 nov 28 15:12 Abc\n",
      "-rw-rw-r-- 1 wallabot wallabot      0 nov 28 15:12 datos1\n",
      "-rw-rw-r-- 1 wallabot wallabot      0 nov 28 15:12 datos123\n",
      "-rw-rw-r-- 1 wallabot wallabot      0 nov 28 15:12 dot2.txt\n",
      "-rw-rw-r-- 1 wallabot wallabot      0 nov 28 15:12 dot.txt\n",
      "-rw-rw-r-- 1 wallabot wallabot      0 nov 28 15:12 file.txt\n",
      "-rw-rw-r-- 1 wallabot wallabot  15964 nov 28 15:59 google2.html\n",
      "-rw-rw-r-- 1 wallabot wallabot  15949 nov 28 15:59 google.html\n",
      "-rw-rw-r-- 1 wallabot wallabot      0 nov 28 15:12 index.html\n",
      "-rw-rw-r-- 1 wallabot wallabot  15912 nov 28 15:59 index.html.1\n",
      "-rw-rw-r-- 1 wallabot wallabot    182 nov 28 15:15 lista.txt\n",
      "-rw-rw-r-- 1 wallabot wallabot      0 nov 28 15:24 secuential.txt\n"
     ]
    }
   ],
   "source": [
    "!ls -l"
   ]
  },
  {
   "cell_type": "markdown",
   "metadata": {},
   "source": [
    "Un comando muy útil es ver la ruta hasta un destino, para ello usamos `traceroute`, por ejemplo vamos a ver todos los sitios por los que tengo que pasar para conectarme a google"
   ]
  },
  {
   "cell_type": "code",
   "execution_count": 188,
   "metadata": {},
   "outputs": [
    {
     "name": "stdout",
     "output_type": "stream",
     "text": [
      "traceroute to www.google.com (172.217.168.164), 64 hops max\n",
      "  1   192.168.1.1  0,491ms  0,151ms  0,141ms \n",
      "  2   188.127.176.1  7,852ms  4,517ms  9,176ms \n",
      "  3   10.15.0.77  3,340ms  3,113ms  2,930ms \n",
      "  4   10.15.246.6  3,282ms  2,995ms  2,917ms \n",
      "  5   *  *  * \n",
      "  6   72.14.195.182  3,817ms  3,102ms  2,825ms \n",
      "  7   *  *  * \n",
      "  8   142.250.232.26  57,435ms  5,071ms  4,894ms \n",
      "  9   74.125.253.201  4,098ms  4,095ms  4,061ms \n",
      " 10   172.217.168.164  2,810ms  2,941ms  3,077ms \n"
     ]
    }
   ],
   "source": [
    "!traceroute www.google.com"
   ]
  },
  {
   "cell_type": "markdown",
   "metadata": {},
   "source": [
    "El último comando de utilidad des `netstats`, este comando nos da el estado de nuestra red, además con el flag `-i` nos devuelve nuestras interfaces de red"
   ]
  },
  {
   "cell_type": "code",
   "execution_count": 189,
   "metadata": {},
   "outputs": [
    {
     "name": "stdout",
     "output_type": "stream",
     "text": [
      "Tabla de la interfaz del núcleo\n",
      "Iface      MTU    RX-OK RX-ERR RX-DRP RX-OVR    TX-OK TX-ERR TX-DRP TX-OVR Flg\n",
      "br-470e5  1500        0      0      0 0             0      0      0      0 BMU\n",
      "docker0   1500        0      0      0 0             0      0      0      0 BMU\n",
      "enp6s0    1500   741277      0   2327 0        774584      0      0      0 BMRU\n",
      "lo       65536    13658      0      0 0         13658      0      0      0 LRU\n",
      "wlp5s0    1500        0      0      0 0             0      0      0      0 BMU\n"
     ]
    }
   ],
   "source": [
    "!netstat -i"
   ]
  },
  {
   "cell_type": "markdown",
   "metadata": {},
   "source": [
    "### Comprimiendo archivos"
   ]
  },
  {
   "cell_type": "markdown",
   "metadata": {},
   "source": [
    "Antes de comprimir y descomprimir vamos a ver qué vamos a comprimir, primero imprimimos nuestra ruta y listamos los archivos"
   ]
  },
  {
   "cell_type": "code",
   "execution_count": 192,
   "metadata": {},
   "outputs": [
    {
     "name": "stdout",
     "output_type": "stream",
     "text": [
      "/home/wallabot/Documentos/web/portafolio/posts/prueba\n",
      "total 332\n",
      "-rw-rw-r-- 1 wallabot wallabot 285898 nov 28 15:06 2021-02-11-Introduccion-a-Python.ipynb\n",
      "-rw-rw-r-- 1 wallabot wallabot      0 nov 28 15:12 Abc\n",
      "-rw-rw-r-- 1 wallabot wallabot      0 nov 28 15:12 datos1\n",
      "-rw-rw-r-- 1 wallabot wallabot      0 nov 28 15:12 datos123\n",
      "-rw-rw-r-- 1 wallabot wallabot      0 nov 28 15:12 dot2.txt\n",
      "-rw-rw-r-- 1 wallabot wallabot      0 nov 28 15:12 dot.txt\n",
      "-rw-rw-r-- 1 wallabot wallabot      0 nov 28 15:12 file.txt\n",
      "-rw-rw-r-- 1 wallabot wallabot  15964 nov 28 15:59 google2.html\n",
      "-rw-rw-r-- 1 wallabot wallabot  15949 nov 28 15:59 google.html\n",
      "-rw-rw-r-- 1 wallabot wallabot      0 nov 28 15:12 index.html\n",
      "-rw-rw-r-- 1 wallabot wallabot  15912 nov 28 15:59 index.html.1\n",
      "-rw-rw-r-- 1 wallabot wallabot    182 nov 28 15:15 lista.txt\n",
      "-rw-rw-r-- 1 wallabot wallabot      0 nov 28 15:24 secuential.txt\n"
     ]
    }
   ],
   "source": [
    "!pwd; ls -l"
   ]
  },
  {
   "cell_type": "markdown",
   "metadata": {},
   "source": [
    "Vamos a crear una nueva carpeta y a copiar todo lo que está dentro de la actual carpeta en ella"
   ]
  },
  {
   "cell_type": "code",
   "execution_count": 193,
   "metadata": {},
   "outputs": [
    {
     "name": "stdout",
     "output_type": "stream",
     "text": [
      "cp: -r not specified; omitting directory 'tocompress'\n",
      "total 336\n",
      "-rw-rw-r-- 1 wallabot wallabot 285898 nov 28 15:06 2021-02-11-Introduccion-a-Python.ipynb\n",
      "-rw-rw-r-- 1 wallabot wallabot      0 nov 28 15:12 Abc\n",
      "-rw-rw-r-- 1 wallabot wallabot      0 nov 28 15:12 datos1\n",
      "-rw-rw-r-- 1 wallabot wallabot      0 nov 28 15:12 datos123\n",
      "-rw-rw-r-- 1 wallabot wallabot      0 nov 28 15:12 dot2.txt\n",
      "-rw-rw-r-- 1 wallabot wallabot      0 nov 28 15:12 dot.txt\n",
      "-rw-rw-r-- 1 wallabot wallabot      0 nov 28 15:12 file.txt\n",
      "-rw-rw-r-- 1 wallabot wallabot  15964 nov 28 15:59 google2.html\n",
      "-rw-rw-r-- 1 wallabot wallabot  15949 nov 28 15:59 google.html\n",
      "-rw-rw-r-- 1 wallabot wallabot      0 nov 28 15:12 index.html\n",
      "-rw-rw-r-- 1 wallabot wallabot  15912 nov 28 15:59 index.html.1\n",
      "-rw-rw-r-- 1 wallabot wallabot    182 nov 28 15:15 lista.txt\n",
      "-rw-rw-r-- 1 wallabot wallabot      0 nov 28 15:24 secuential.txt\n",
      "drwxrwxr-x 2 wallabot wallabot   4096 nov 28 16:02 tocompress\n"
     ]
    }
   ],
   "source": [
    "!mkdir tocompress; cp * tocompress; ls -l"
   ]
  },
  {
   "cell_type": "markdown",
   "metadata": {},
   "source": [
    "Como vemos se ha compiado todo menos la propia carpeta `tocompress` ya que no hemos puesto el flag `-r` en el comando `cp`. Pero lo que ha pasado es lo que queríamos"
   ]
  },
  {
   "cell_type": "markdown",
   "metadata": {},
   "source": [
    "#### Comrpimir con `tar`"
   ]
  },
  {
   "cell_type": "markdown",
   "metadata": {},
   "source": [
    "El primero comando que vamos a usar para comprimir es `tar` al que vamos a añadir el flag `-c` de compress, `-v` de verbose, para que nos vaya sacando qué está haciendo y el flag `-f` de file, y a continuación el nombre que queremos que tenga el archivo comprimido y el nombre del archivo que queremos comprimir"
   ]
  },
  {
   "cell_type": "code",
   "execution_count": 194,
   "metadata": {},
   "outputs": [
    {
     "name": "stdout",
     "output_type": "stream",
     "text": [
      "tocompress/\n",
      "tocompress/lista.txt\n",
      "tocompress/dot.txt\n",
      "tocompress/google.html\n",
      "tocompress/index.html\n",
      "tocompress/Abc\n",
      "tocompress/google2.html\n",
      "tocompress/dot2.txt\n",
      "tocompress/secuential.txt\n",
      "tocompress/index.html.1\n",
      "tocompress/file.txt\n",
      "tocompress/datos1\n",
      "tocompress/2021-02-11-Introduccion-a-Python.ipynb\n",
      "tocompress/datos123\n"
     ]
    }
   ],
   "source": [
    "!tar -cvf tocompress.tar tocompress"
   ]
  },
  {
   "cell_type": "code",
   "execution_count": 195,
   "metadata": {},
   "outputs": [
    {
     "name": "stdout",
     "output_type": "stream",
     "text": [
      "total 676\n",
      "-rw-rw-r-- 1 wallabot wallabot 285898 nov 28 15:06 2021-02-11-Introduccion-a-Python.ipynb\n",
      "-rw-rw-r-- 1 wallabot wallabot      0 nov 28 15:12 Abc\n",
      "-rw-rw-r-- 1 wallabot wallabot      0 nov 28 15:12 datos1\n",
      "-rw-rw-r-- 1 wallabot wallabot      0 nov 28 15:12 datos123\n",
      "-rw-rw-r-- 1 wallabot wallabot      0 nov 28 15:12 dot2.txt\n",
      "-rw-rw-r-- 1 wallabot wallabot      0 nov 28 15:12 dot.txt\n",
      "-rw-rw-r-- 1 wallabot wallabot      0 nov 28 15:12 file.txt\n",
      "-rw-rw-r-- 1 wallabot wallabot  15964 nov 28 15:59 google2.html\n",
      "-rw-rw-r-- 1 wallabot wallabot  15949 nov 28 15:59 google.html\n",
      "-rw-rw-r-- 1 wallabot wallabot      0 nov 28 15:12 index.html\n",
      "-rw-rw-r-- 1 wallabot wallabot  15912 nov 28 15:59 index.html.1\n",
      "-rw-rw-r-- 1 wallabot wallabot    182 nov 28 15:15 lista.txt\n",
      "-rw-rw-r-- 1 wallabot wallabot      0 nov 28 15:24 secuential.txt\n",
      "drwxrwxr-x 2 wallabot wallabot   4096 nov 28 16:02 tocompress\n",
      "-rw-rw-r-- 1 wallabot wallabot 348160 nov 28 16:02 tocompress.tar\n"
     ]
    }
   ],
   "source": [
    "!ls -l"
   ]
  },
  {
   "cell_type": "markdown",
   "metadata": {},
   "source": [
    "Vemos que ha creado el archivo `tocompress.tar`"
   ]
  },
  {
   "cell_type": "markdown",
   "metadata": {},
   "source": [
    "Ahora vamos a repetir el proceso, pero añadiendo el flag `-z`, esto lo que hace es comprimir en el formato `gzip`, que es un algoritmo de compresión más eficiente"
   ]
  },
  {
   "cell_type": "code",
   "execution_count": 196,
   "metadata": {},
   "outputs": [
    {
     "name": "stdout",
     "output_type": "stream",
     "text": [
      "tocompress/\n",
      "tocompress/lista.txt\n",
      "tocompress/dot.txt\n",
      "tocompress/google.html\n",
      "tocompress/index.html\n",
      "tocompress/Abc\n",
      "tocompress/google2.html\n",
      "tocompress/dot2.txt\n",
      "tocompress/secuential.txt\n",
      "tocompress/index.html.1\n",
      "tocompress/file.txt\n",
      "tocompress/datos1\n",
      "tocompress/2021-02-11-Introduccion-a-Python.ipynb\n",
      "tocompress/datos123\n"
     ]
    }
   ],
   "source": [
    "!tar -cvzf tocompress.tar.gz tocompress"
   ]
  },
  {
   "cell_type": "code",
   "execution_count": 197,
   "metadata": {},
   "outputs": [
    {
     "name": "stdout",
     "output_type": "stream",
     "text": [
      "total 728K\n",
      "-rw-rw-r-- 1 wallabot wallabot 280K nov 28 15:06 2021-02-11-Introduccion-a-Python.ipynb\n",
      "-rw-rw-r-- 1 wallabot wallabot    0 nov 28 15:12 Abc\n",
      "-rw-rw-r-- 1 wallabot wallabot    0 nov 28 15:12 datos1\n",
      "-rw-rw-r-- 1 wallabot wallabot    0 nov 28 15:12 datos123\n",
      "-rw-rw-r-- 1 wallabot wallabot    0 nov 28 15:12 dot2.txt\n",
      "-rw-rw-r-- 1 wallabot wallabot    0 nov 28 15:12 dot.txt\n",
      "-rw-rw-r-- 1 wallabot wallabot    0 nov 28 15:12 file.txt\n",
      "-rw-rw-r-- 1 wallabot wallabot  16K nov 28 15:59 google2.html\n",
      "-rw-rw-r-- 1 wallabot wallabot  16K nov 28 15:59 google.html\n",
      "-rw-rw-r-- 1 wallabot wallabot    0 nov 28 15:12 index.html\n",
      "-rw-rw-r-- 1 wallabot wallabot  16K nov 28 15:59 index.html.1\n",
      "-rw-rw-r-- 1 wallabot wallabot  182 nov 28 15:15 lista.txt\n",
      "-rw-rw-r-- 1 wallabot wallabot    0 nov 28 15:24 secuential.txt\n",
      "drwxrwxr-x 2 wallabot wallabot 4,0K nov 28 16:02 tocompress\n",
      "-rw-rw-r-- 1 wallabot wallabot 340K nov 28 16:02 tocompress.tar\n",
      "-rw-rw-r-- 1 wallabot wallabot  52K nov 28 16:03 tocompress.tar.gz\n"
     ]
    }
   ],
   "source": [
    "!ls -lh"
   ]
  },
  {
   "cell_type": "markdown",
   "metadata": {},
   "source": [
    "Como se puede ver el archivo `tocompress.tar` ocupa `340 kB`, mientras que el archivo `tocompress.tar.gz` ocupa solo `52 kB`"
   ]
  },
  {
   "cell_type": "markdown",
   "metadata": {},
   "source": [
    "Ahora vamos a descomprimir los archivos, para descomprimir, se usa el mismo comando, solo que cambiando el flag `-c` por el flag `-x`"
   ]
  },
  {
   "cell_type": "markdown",
   "metadata": {},
   "source": [
    "Primero borramos la carpeta original"
   ]
  },
  {
   "cell_type": "code",
   "execution_count": 198,
   "metadata": {},
   "outputs": [],
   "source": [
    "!rm -r tocompress"
   ]
  },
  {
   "cell_type": "markdown",
   "metadata": {},
   "source": [
    "Descomprimimos"
   ]
  },
  {
   "cell_type": "code",
   "execution_count": 199,
   "metadata": {},
   "outputs": [
    {
     "name": "stdout",
     "output_type": "stream",
     "text": [
      "tocompress/\n",
      "tocompress/lista.txt\n",
      "tocompress/dot.txt\n",
      "tocompress/google.html\n",
      "tocompress/index.html\n",
      "tocompress/Abc\n",
      "tocompress/google2.html\n",
      "tocompress/dot2.txt\n",
      "tocompress/secuential.txt\n",
      "tocompress/index.html.1\n",
      "tocompress/file.txt\n",
      "tocompress/datos1\n",
      "tocompress/2021-02-11-Introduccion-a-Python.ipynb\n",
      "tocompress/datos123\n"
     ]
    }
   ],
   "source": [
    "!tar -xvf tocompress.tar"
   ]
  },
  {
   "cell_type": "code",
   "execution_count": 200,
   "metadata": {},
   "outputs": [
    {
     "name": "stdout",
     "output_type": "stream",
     "text": [
      "total 728K\n",
      "-rw-rw-r-- 1 wallabot wallabot 280K nov 28 15:06 2021-02-11-Introduccion-a-Python.ipynb\n",
      "-rw-rw-r-- 1 wallabot wallabot    0 nov 28 15:12 Abc\n",
      "-rw-rw-r-- 1 wallabot wallabot    0 nov 28 15:12 datos1\n",
      "-rw-rw-r-- 1 wallabot wallabot    0 nov 28 15:12 datos123\n",
      "-rw-rw-r-- 1 wallabot wallabot    0 nov 28 15:12 dot2.txt\n",
      "-rw-rw-r-- 1 wallabot wallabot    0 nov 28 15:12 dot.txt\n",
      "-rw-rw-r-- 1 wallabot wallabot    0 nov 28 15:12 file.txt\n",
      "-rw-rw-r-- 1 wallabot wallabot  16K nov 28 15:59 google2.html\n",
      "-rw-rw-r-- 1 wallabot wallabot  16K nov 28 15:59 google.html\n",
      "-rw-rw-r-- 1 wallabot wallabot    0 nov 28 15:12 index.html\n",
      "-rw-rw-r-- 1 wallabot wallabot  16K nov 28 15:59 index.html.1\n",
      "-rw-rw-r-- 1 wallabot wallabot  182 nov 28 15:15 lista.txt\n",
      "-rw-rw-r-- 1 wallabot wallabot    0 nov 28 15:24 secuential.txt\n",
      "drwxrwxr-x 2 wallabot wallabot 4,0K nov 28 16:02 tocompress\n",
      "-rw-rw-r-- 1 wallabot wallabot 340K nov 28 16:02 tocompress.tar\n",
      "-rw-rw-r-- 1 wallabot wallabot  52K nov 28 16:03 tocompress.tar.gz\n"
     ]
    }
   ],
   "source": [
    "!ls -lh"
   ]
  },
  {
   "cell_type": "markdown",
   "metadata": {},
   "source": [
    "Hacemos lo mismo con el `gzip`"
   ]
  },
  {
   "cell_type": "code",
   "execution_count": 201,
   "metadata": {},
   "outputs": [],
   "source": [
    "!rm -r tocompress"
   ]
  },
  {
   "cell_type": "code",
   "execution_count": 202,
   "metadata": {},
   "outputs": [
    {
     "name": "stdout",
     "output_type": "stream",
     "text": [
      "tocompress/\n",
      "tocompress/lista.txt\n",
      "tocompress/dot.txt\n",
      "tocompress/google.html\n",
      "tocompress/index.html\n",
      "tocompress/Abc\n",
      "tocompress/google2.html\n",
      "tocompress/dot2.txt\n",
      "tocompress/secuential.txt\n",
      "tocompress/index.html.1\n",
      "tocompress/file.txt\n",
      "tocompress/datos1\n",
      "tocompress/2021-02-11-Introduccion-a-Python.ipynb\n",
      "tocompress/datos123\n"
     ]
    }
   ],
   "source": [
    "!tar -xvzf tocompress.tar.gz"
   ]
  },
  {
   "cell_type": "code",
   "execution_count": 203,
   "metadata": {},
   "outputs": [
    {
     "name": "stdout",
     "output_type": "stream",
     "text": [
      "total 728K\n",
      "-rw-rw-r-- 1 wallabot wallabot 280K nov 28 15:06 2021-02-11-Introduccion-a-Python.ipynb\n",
      "-rw-rw-r-- 1 wallabot wallabot    0 nov 28 15:12 Abc\n",
      "-rw-rw-r-- 1 wallabot wallabot    0 nov 28 15:12 datos1\n",
      "-rw-rw-r-- 1 wallabot wallabot    0 nov 28 15:12 datos123\n",
      "-rw-rw-r-- 1 wallabot wallabot    0 nov 28 15:12 dot2.txt\n",
      "-rw-rw-r-- 1 wallabot wallabot    0 nov 28 15:12 dot.txt\n",
      "-rw-rw-r-- 1 wallabot wallabot    0 nov 28 15:12 file.txt\n",
      "-rw-rw-r-- 1 wallabot wallabot  16K nov 28 15:59 google2.html\n",
      "-rw-rw-r-- 1 wallabot wallabot  16K nov 28 15:59 google.html\n",
      "-rw-rw-r-- 1 wallabot wallabot    0 nov 28 15:12 index.html\n",
      "-rw-rw-r-- 1 wallabot wallabot  16K nov 28 15:59 index.html.1\n",
      "-rw-rw-r-- 1 wallabot wallabot  182 nov 28 15:15 lista.txt\n",
      "-rw-rw-r-- 1 wallabot wallabot    0 nov 28 15:24 secuential.txt\n",
      "drwxrwxr-x 2 wallabot wallabot 4,0K nov 28 16:02 tocompress\n",
      "-rw-rw-r-- 1 wallabot wallabot 340K nov 28 16:02 tocompress.tar\n",
      "-rw-rw-r-- 1 wallabot wallabot  52K nov 28 16:03 tocompress.tar.gz\n"
     ]
    }
   ],
   "source": [
    "!ls -lh"
   ]
  },
  {
   "cell_type": "markdown",
   "metadata": {},
   "source": [
    "#### Comprimir con `zip`"
   ]
  },
  {
   "cell_type": "markdown",
   "metadata": {},
   "source": [
    "Otro comando para comprimir el `zip`, para comprimir solo hay que añadirle el flag `-r` (recursive), el nombre que queremos que tenga el archivo comprimido y el archivo que queremos comprimir"
   ]
  },
  {
   "cell_type": "code",
   "execution_count": 204,
   "metadata": {},
   "outputs": [
    {
     "name": "stdout",
     "output_type": "stream",
     "text": [
      "  adding: tocompress/ (stored 0%)\n",
      "  adding: tocompress/lista.txt (deflated 23%)\n",
      "  adding: tocompress/dot.txt (stored 0%)\n",
      "  adding: tocompress/google.html (deflated 56%)\n",
      "  adding: tocompress/index.html (stored 0%)\n",
      "  adding: tocompress/Abc (stored 0%)\n",
      "  adding: tocompress/google2.html (deflated 56%)\n",
      "  adding: tocompress/dot2.txt (stored 0%)\n",
      "  adding: tocompress/secuential.txt (stored 0%)\n",
      "  adding: tocompress/index.html.1 (deflated 56%)\n",
      "  adding: tocompress/file.txt (stored 0%)\n",
      "  adding: tocompress/datos1 (stored 0%)\n",
      "  adding: tocompress/2021-02-11-Introduccion-a-Python.ipynb (deflated 85%)\n",
      "  adding: tocompress/datos123 (stored 0%)\n"
     ]
    }
   ],
   "source": [
    "!zip -r tocompress.zip tocompress"
   ]
  },
  {
   "cell_type": "code",
   "execution_count": 205,
   "metadata": {},
   "outputs": [
    {
     "name": "stdout",
     "output_type": "stream",
     "text": [
      "total 796K\n",
      "-rw-rw-r-- 1 wallabot wallabot 280K nov 28 15:06 2021-02-11-Introduccion-a-Python.ipynb\n",
      "-rw-rw-r-- 1 wallabot wallabot    0 nov 28 15:12 Abc\n",
      "-rw-rw-r-- 1 wallabot wallabot    0 nov 28 15:12 datos1\n",
      "-rw-rw-r-- 1 wallabot wallabot    0 nov 28 15:12 datos123\n",
      "-rw-rw-r-- 1 wallabot wallabot    0 nov 28 15:12 dot2.txt\n",
      "-rw-rw-r-- 1 wallabot wallabot    0 nov 28 15:12 dot.txt\n",
      "-rw-rw-r-- 1 wallabot wallabot    0 nov 28 15:12 file.txt\n",
      "-rw-rw-r-- 1 wallabot wallabot  16K nov 28 15:59 google2.html\n",
      "-rw-rw-r-- 1 wallabot wallabot  16K nov 28 15:59 google.html\n",
      "-rw-rw-r-- 1 wallabot wallabot    0 nov 28 15:12 index.html\n",
      "-rw-rw-r-- 1 wallabot wallabot  16K nov 28 15:59 index.html.1\n",
      "-rw-rw-r-- 1 wallabot wallabot  182 nov 28 15:15 lista.txt\n",
      "-rw-rw-r-- 1 wallabot wallabot    0 nov 28 15:24 secuential.txt\n",
      "drwxrwxr-x 2 wallabot wallabot 4,0K nov 28 16:02 tocompress\n",
      "-rw-rw-r-- 1 wallabot wallabot 340K nov 28 16:02 tocompress.tar\n",
      "-rw-rw-r-- 1 wallabot wallabot  52K nov 28 16:03 tocompress.tar.gz\n",
      "-rw-rw-r-- 1 wallabot wallabot  65K nov 28 16:03 tocompress.zip\n"
     ]
    }
   ],
   "source": [
    "!ls -lh"
   ]
  },
  {
   "cell_type": "markdown",
   "metadata": {},
   "source": [
    "Para descomprimir se usa el comando `unzip` seguido del nombre del archivo que quiero descomprimir. Primero borramos la carpeta `tocompress`"
   ]
  },
  {
   "cell_type": "code",
   "execution_count": 206,
   "metadata": {},
   "outputs": [],
   "source": [
    "!rm -r tocompress"
   ]
  },
  {
   "cell_type": "code",
   "execution_count": 207,
   "metadata": {},
   "outputs": [
    {
     "name": "stdout",
     "output_type": "stream",
     "text": [
      "Archive:  tocompress.zip\n",
      "   creating: tocompress/\n",
      "  inflating: tocompress/lista.txt    \n",
      " extracting: tocompress/dot.txt      \n",
      "  inflating: tocompress/google.html  \n",
      " extracting: tocompress/index.html   \n",
      " extracting: tocompress/Abc          \n",
      "  inflating: tocompress/google2.html  \n",
      " extracting: tocompress/dot2.txt     \n",
      " extracting: tocompress/secuential.txt  \n",
      "  inflating: tocompress/index.html.1  \n",
      " extracting: tocompress/file.txt     \n",
      " extracting: tocompress/datos1       \n",
      "  inflating: tocompress/2021-02-11-Introduccion-a-Python.ipynb  \n",
      " extracting: tocompress/datos123     \n"
     ]
    }
   ],
   "source": [
    "!unzip tocompress.zip"
   ]
  },
  {
   "cell_type": "code",
   "execution_count": 208,
   "metadata": {},
   "outputs": [
    {
     "name": "stdout",
     "output_type": "stream",
     "text": [
      "total 796K\n",
      "-rw-rw-r-- 1 wallabot wallabot 280K nov 28 15:06 2021-02-11-Introduccion-a-Python.ipynb\n",
      "-rw-rw-r-- 1 wallabot wallabot    0 nov 28 15:12 Abc\n",
      "-rw-rw-r-- 1 wallabot wallabot    0 nov 28 15:12 datos1\n",
      "-rw-rw-r-- 1 wallabot wallabot    0 nov 28 15:12 datos123\n",
      "-rw-rw-r-- 1 wallabot wallabot    0 nov 28 15:12 dot2.txt\n",
      "-rw-rw-r-- 1 wallabot wallabot    0 nov 28 15:12 dot.txt\n",
      "-rw-rw-r-- 1 wallabot wallabot    0 nov 28 15:12 file.txt\n",
      "-rw-rw-r-- 1 wallabot wallabot  16K nov 28 15:59 google2.html\n",
      "-rw-rw-r-- 1 wallabot wallabot  16K nov 28 15:59 google.html\n",
      "-rw-rw-r-- 1 wallabot wallabot    0 nov 28 15:12 index.html\n",
      "-rw-rw-r-- 1 wallabot wallabot  16K nov 28 15:59 index.html.1\n",
      "-rw-rw-r-- 1 wallabot wallabot  182 nov 28 15:15 lista.txt\n",
      "-rw-rw-r-- 1 wallabot wallabot    0 nov 28 15:24 secuential.txt\n",
      "drwxrwxr-x 2 wallabot wallabot 4,0K nov 28 16:02 tocompress\n",
      "-rw-rw-r-- 1 wallabot wallabot 340K nov 28 16:02 tocompress.tar\n",
      "-rw-rw-r-- 1 wallabot wallabot  52K nov 28 16:03 tocompress.tar.gz\n",
      "-rw-rw-r-- 1 wallabot wallabot  65K nov 28 16:03 tocompress.zip\n"
     ]
    }
   ],
   "source": [
    "!ls -lh"
   ]
  },
  {
   "cell_type": "markdown",
   "metadata": {},
   "source": [
    "### Procesos en background y foreground"
   ]
  },
  {
   "cell_type": "markdown",
   "metadata": {},
   "source": [
    "#### Pausar un proceso y llevarlo al background con `CTRL+z`"
   ]
  },
  {
   "cell_type": "markdown",
   "metadata": {},
   "source": [
    "Cuando corremos un proceso en la terminal, este puede que no pare de ejecutarse y queramos seguir usando la terminal, para solucionar esto podemos llevarnos el proceso al background presionando `CTRL+z`"
   ]
  },
  {
   "cell_type": "markdown",
   "metadata": {},
   "source": [
    "Por ejemplo, me puedo hacer un ping a mi mismo, sin especificar el número de intentos, por lo que esto se estará ejecutando hasta que pare el proceso presionando `CTRL+C`"
   ]
  },
  {
   "cell_type": "markdown",
   "metadata": {},
   "source": [
    "``` bash\n",
    "$ ping localhost\n",
    "PING localhost (127.0.0.1) 56(84) bytes of data.\n",
    "64 bytes from localhost (127.0.0.1): icmp_seq=1 ttl=64 time=0.025 ms\n",
    "64 bytes from localhost (127.0.0.1): icmp_seq=2 ttl=64 time=0.027 ms\n",
    "64 bytes from localhost (127.0.0.1): icmp_seq=3 ttl=64 time=0.024 ms\n",
    "64 bytes from localhost (127.0.0.1): icmp_seq=4 ttl=64 time=0.024 ms\n",
    "64 bytes from localhost (127.0.0.1): icmp_seq=5 ttl=64 time=0.027 ms\n",
    "64 bytes from localhost (127.0.0.1): icmp_seq=6 ttl=64 time=0.036 ms\n",
    "^C\n",
    "--- localhost ping statistics ---\n",
    "6 packets transmitted, 6 received, 0% packet loss, time 5127ms\n",
    "rtt min/avg/max/mdev = 0.024/0.027/0.036/0.004 ms\n",
    "```"
   ]
  },
  {
   "cell_type": "markdown",
   "metadata": {},
   "source": [
    "Sin embargo, si lo que queremos es parar un momento el proceso para poder seguir usando la terminal, hay que introducir `CTRL+Z`"
   ]
  },
  {
   "cell_type": "markdown",
   "metadata": {},
   "source": [
    "``` bash\n",
    "$ ping localhost\n",
    "PING localhost (127.0.0.1) 56(84) bytes of data.\n",
    "64 bytes from localhost (127.0.0.1): icmp_seq=1 ttl=64 time=0.028 ms\n",
    "64 bytes from localhost (127.0.0.1): icmp_seq=2 ttl=64 time=0.020 ms\n",
    "64 bytes from localhost (127.0.0.1): icmp_seq=3 ttl=64 time=0.017 ms\n",
    "64 bytes from localhost (127.0.0.1): icmp_seq=4 ttl=64 time=0.025 ms\n",
    "64 bytes from localhost (127.0.0.1): icmp_seq=5 ttl=64 time=0.021 ms\n",
    "64 bytes from localhost (127.0.0.1): icmp_seq=6 ttl=64 time=0.055 ms\n",
    "^Z\n",
    "[1]+  Detenido                ping localhost\n",
    "```"
   ]
  },
  {
   "cell_type": "markdown",
   "metadata": {},
   "source": [
    "Como se indica, el proceso ha sido detenido, no se está ejecutando mientras lo he llevado al background"
   ]
  },
  {
   "cell_type": "markdown",
   "metadata": {},
   "source": [
    "#### Ver los procesos en background"
   ]
  },
  {
   "cell_type": "markdown",
   "metadata": {},
   "source": [
    "Para ver qué procesos están en el background tenemos dos comandos, por un lado podemos usar `jobs`"
   ]
  },
  {
   "cell_type": "markdown",
   "metadata": {},
   "source": [
    "``` bash\n",
    "$ jobs\n",
    "[1]+  Detenido                ping localhost\n",
    "```"
   ]
  },
  {
   "cell_type": "markdown",
   "metadata": {},
   "source": [
    "Este comando nos da el proceso y el número de job, este número será el que deberemos usar para llevar el proceso al foreground"
   ]
  },
  {
   "cell_type": "markdown",
   "metadata": {},
   "source": [
    "Otro comando que podemos usar es `ps` (processes)"
   ]
  },
  {
   "cell_type": "markdown",
   "metadata": {},
   "source": [
    "``` bash\n",
    "$ ps\n",
    "    PID TTY          TIME CMD\n",
    "  16232 pts/3    00:00:00 bash\n",
    "  17070 pts/3    00:00:00 ping\n",
    "  18376 pts/3    00:00:00 ps\n",
    "```"
   ]
  },
  {
   "cell_type": "markdown",
   "metadata": {},
   "source": [
    "Este comando no solo nos da la información de los procesos que corren en background, sino de todos los procesos que están corriendo en la terminal"
   ]
  },
  {
   "cell_type": "markdown",
   "metadata": {},
   "source": [
    "Es importante recalcar, que si abrimos una nueva terminal y usamos cualquiera de estos comandos no nos va a dar la información del ping, ya que lo ejecutamos en otra terminal\n",
    "\n",
    "``` bash\n",
    "$ jobs\n",
    "$ ps\n",
    "    PID TTY          TIME CMD\n",
    "  18993 pts/2    00:00:00 bash\n",
    "  19290 pts/2    00:00:00 ps\n",
    "```\n",
    "\n",
    "Como vemos `jobs` no devuelve nada porque en esta terminal no hay ningún proceso en el background y `ps` solo nos devuelve la información de bash (la propia terminal) y el comando ps lanzado"
   ]
  },
  {
   "cell_type": "markdown",
   "metadata": {},
   "source": [
    "#### Llevar un proceso del background al foreground"
   ]
  },
  {
   "cell_type": "markdown",
   "metadata": {},
   "source": [
    "Para llevar un proceso al foreground hay que usar el comando `fg`, si se quiere traer el último que se ha llevado al background solo con poner `fg` vale, si no hay que indicarle el número de job"
   ]
  },
  {
   "cell_type": "markdown",
   "metadata": {},
   "source": [
    "Vamos a volver a ver los procesos que teníamos en el background\n",
    "\n",
    "``` bash\n",
    "$ jobs\n",
    "[1]+  Detenido                ping localhost\n",
    "```"
   ]
  },
  {
   "cell_type": "markdown",
   "metadata": {},
   "source": [
    "Nos podemos llevar este proceso al foreground solo escribiendo `fg` o indicándole el número de job mediante `fg %1`\n",
    "\n",
    "``` bash\n",
    "$ fg %1\n",
    "ping localhost\n",
    "64 bytes from localhost (127.0.0.1): icmp_seq=7 ttl=64 time=0.032 ms\n",
    "64 bytes from localhost (127.0.0.1): icmp_seq=8 ttl=64 time=0.036 ms\n",
    "64 bytes from localhost (127.0.0.1): icmp_seq=9 ttl=64 time=0.045 ms\n",
    "64 bytes from localhost (127.0.0.1): icmp_seq=10 ttl=64 time=0.035 ms\n",
    "64 bytes from localhost (127.0.0.1): icmp_seq=11 ttl=64 time=0.031 ms\n",
    "```"
   ]
  },
  {
   "cell_type": "markdown",
   "metadata": {},
   "source": [
    "#### Correr un proceso directamente en el background"
   ]
  },
  {
   "cell_type": "markdown",
   "metadata": {},
   "source": [
    "Vamos a volver a lanzar ahora el navegador firefox escribiendo `firefox` en la terminal y pulsar `CTRL+Z` para llevarlo al background\n",
    "\n",
    "``` bash\n",
    "$ firefox\n",
    "[GFX1-]: glxtest: VA-API test failed: failed to initialise VAAPI connection.\n",
    "[2022-11-29T06:16:17Z ERROR glean_core::metrics::ping] Invalid reason code startup for ping background-update\n",
    "^Z\n",
    "[1]+  Detenido                firefox\n",
    "```\n",
    "\n",
    "Como vemos, pone que el proceso ha sido detenido, por lo que si ahora queremos navegar por firefox no podemos, ya que está detenido."
   ]
  },
  {
   "cell_type": "markdown",
   "metadata": {},
   "source": [
    "Para poder lanzar firefox y que esté en background para que no nos bloquee la terminal hay que escribir un `&` al final del comando\n",
    "\n",
    "``` bash\n",
    "$ firefox &\n",
    "[1] 23663\n",
    "$ [GFX1-]: glxtest: VA-API test failed: failed to initialise VAAPI connection.\n",
    "[2022-11-29T06:19:40Z ERROR glean_core::metrics::ping] Invalid reason code startup for ping background-update\n",
    "\n",
    "$\n",
    "```\n",
    "\n",
    "Ahora nos lanzamos firefox, nos dice su número de job y se queda en el background ejecutándose"
   ]
  },
  {
   "cell_type": "markdown",
   "metadata": {},
   "source": [
    "De hecho, si ahora miramos los procesos, podemos ver el estado de firefox es *Ejecutando*\n",
    "\n",
    "``` bash\n",
    "$ jobs\n",
    "[1]+  Ejecutando              firefox &\n",
    "```"
   ]
  },
  {
   "cell_type": "markdown",
   "metadata": {},
   "source": [
    "#### Terminar un proceso que está en background"
   ]
  },
  {
   "cell_type": "markdown",
   "metadata": {},
   "source": [
    "Como tenemos firefox corriendo en background, si queremos que termine tenemos que usar `kill` y el número de job del proceso. Vamos a usar `jobs` para ver el número de job de firefox\n",
    "\n",
    "``` bash\n",
    "$ jobs\n",
    "[1]+  Ejecutando              firefox &\n",
    "```"
   ]
  },
  {
   "cell_type": "markdown",
   "metadata": {},
   "source": [
    "Su número de trabajo es el 1, por lo que ponemos ese número para terminar el proceso\n",
    "\n",
    "``` bash\n",
    "$ kill %1\n",
    "```\n",
    "\n",
    "No nos responde nada, pero si volvemos a usar `jobs` para ver los procesos en el background\n",
    "\n",
    "``` bash\n",
    "$ jobs\n",
    "[1]+  Terminado               firefox\n",
    "```\n",
    "\n",
    "Vemos que nos dice que firefox ha terminado, si volvemos a ejecutar `jobs` ya no aparecerá nada\n",
    "\n",
    "``` bash\n",
    "$ jobs\n",
    "```"
   ]
  },
  {
   "cell_type": "markdown",
   "metadata": {},
   "source": [
    "### Procesos en background independientes de la terminal"
   ]
  },
  {
   "cell_type": "markdown",
   "metadata": {},
   "source": [
    "Hasta ahora hemos visto cómo ejecutar procesos en background dependientes de la terminal, esto quiere decir, que is mandamos al background un procesos y cerramos la terminal, este mandará un mensaje de fin a todos los procesos que están en su background y terminarán"
   ]
  },
  {
   "cell_type": "markdown",
   "metadata": {},
   "source": [
    "Pero hay veces que nos interesa que el proceso se quede en background, poder cerrar la terminal, abrir otra y recuperar ese proceso, para ello usaremos `tmux`, que es un multiplexor de terminal.\n",
    "\n",
    "Es posible que te venga instalada, por lo que para instalarla tienes que introducir lo siguiente\n",
    "\n",
    "``` bash\n",
    "sudo apt install tmux\n",
    "```"
   ]
  },
  {
   "cell_type": "markdown",
   "metadata": {},
   "source": [
    "Una vez instalada podemos crear una nueva sesión de `tmux` mediante el `tmux new -s <name>`\n",
    "\n",
    "``` bash\n",
    "tmux new -s session1\n",
    "```\n",
    "\n",
    "Esto nos abrirá una nueva terminal, que en realidad es una sesión de `tmux`"
   ]
  },
  {
   "cell_type": "markdown",
   "metadata": {},
   "source": [
    "Dentro de ella podemos lanzar un proceso, por ejemplo un `ping` a nosotros mismos\n",
    "\n",
    "``` bash\n",
    "$ ping localhost\n",
    "PING localhost (127.0.0.1) 56(84) bytes of data.\n",
    "64 bytes from localhost (127.0.0.1): icmp_seq=1 ttl=64 time=0.036 ms\n",
    "64 bytes from localhost (127.0.0.1): icmp_seq=2 ttl=64 time=0.019 ms\n",
    "64 bytes from localhost (127.0.0.1): icmp_seq=3 ttl=64 time=0.031 ms\n",
    "```"
   ]
  },
  {
   "cell_type": "markdown",
   "metadata": {},
   "source": [
    "Podemos cerrar esa terminal"
   ]
  },
  {
   "cell_type": "markdown",
   "metadata": {},
   "source": [
    "Si abrimos una nueva, podemos ver todas las sesiones de `tmux` abiertas con el comando `tmux ls`"
   ]
  },
  {
   "cell_type": "code",
   "execution_count": 6,
   "metadata": {},
   "outputs": [
    {
     "name": "stdout",
     "output_type": "stream",
     "text": [
      "session1: 1 windows (created Tue Nov 29 08:15:22 2022)\n"
     ]
    }
   ],
   "source": [
    "!tmux ls"
   ]
  },
  {
   "cell_type": "markdown",
   "metadata": {},
   "source": [
    "Y podemos entrar en una sesión mediante el comando `tmux`, seguido de `a` (attach), `-t` (tag) y el nombre de la sesión\n",
    "\n",
    "```\n",
    "$ tmux a -t session1\n",
    "64 bytes from localhost (127.0.0.1): icmp_seq=146 ttl=64 time=0.025 ms\n",
    "64 bytes from localhost (127.0.0.1): icmp_seq=147 ttl=64 time=0.022 ms\n",
    "64 bytes from localhost (127.0.0.1): icmp_seq=148 ttl=64 time=0.026 ms\n",
    "64 bytes from localhost (127.0.0.1): icmp_seq=149 ttl=64 time=0.013 ms\n",
    "64 bytes from localhost (127.0.0.1): icmp_seq=150 ttl=64 time=0.027 ms\n",
    "64 bytes from localhost (127.0.0.1): icmp_seq=151 ttl=64 time=0.019 ms\n",
    "```\n",
    "\n",
    "Como vemos hemos recuperado el `ping` de antes"
   ]
  },
  {
   "cell_type": "markdown",
   "metadata": {},
   "source": [
    "Cuando estamos dentro de una sesión podemos salir de ella (matándola) escribiendo `CTRL+D` o escribiendo `exit`"
   ]
  },
  {
   "cell_type": "markdown",
   "metadata": {},
   "source": [
    "### Manejo de procesos"
   ]
  },
  {
   "cell_type": "markdown",
   "metadata": {},
   "source": [
    "Para manejar los procesos de nuestro sistema tenemos varias opciones"
   ]
  },
  {
   "cell_type": "markdown",
   "metadata": {},
   "source": [
    "#### `ps`"
   ]
  },
  {
   "cell_type": "markdown",
   "metadata": {},
   "source": [
    "Como hemos visto antes `ps` nos da los procesos que están corriendo en nuestra terminal. Por ejemplo ejecutamos un proceso en el background y vemos los procesos con `ps`"
   ]
  },
  {
   "cell_type": "markdown",
   "metadata": {},
   "source": [
    "``` bash\n",
    "$ firefox &\n",
    "[1] 50555\n",
    "```\n",
    "\n",
    "Vemos ahora los procesos\n",
    "\n",
    "``` bash\n",
    "$ ps\n",
    "    PID TTY          TIME CMD\n",
    "  36660 pts/3    00:00:00 bash\n",
    "  50555 pts/3    00:00:02 firefox\n",
    "  50613 pts/3    00:00:00 Socket Process\n",
    "  50635 pts/3    00:00:00 Privileged Cont\n",
    "  50683 pts/3    00:00:00 WebExtensions\n",
    "  50741 pts/3    00:00:00 Web Content\n",
    "  50743 pts/3    00:00:00 Web Content\n",
    "  50748 pts/3    00:00:00 Web Content\n",
    "  50840 pts/3    00:00:00 ps\n",
    "```"
   ]
  },
  {
   "cell_type": "markdown",
   "metadata": {},
   "source": [
    "Una vez sepamos su PID podemos matar el proceso\n",
    "\n",
    "``` bash\n",
    "$ kill 50555\n",
    "```\n",
    "\n",
    "Vemos ahora los procesos\n",
    "\n",
    "``` bash\n",
    "$ ps\n",
    "    PID TTY          TIME CMD\n",
    "  36660 pts/3    00:00:00 bash\n",
    "  51132 pts/3    00:00:00 ps\n",
    "```"
   ]
  },
  {
   "cell_type": "markdown",
   "metadata": {},
   "source": [
    "Pero como hemos dicho, lo malo de ps es que solo muestra los procesos de su terminal"
   ]
  },
  {
   "cell_type": "markdown",
   "metadata": {},
   "source": [
    "#### `top`"
   ]
  },
  {
   "cell_type": "markdown",
   "metadata": {},
   "source": [
    "Con `top` podemos ver todos los procesos del sistema operativo. Nos enseñará la información con `less`, por lo que al igual que se ha explicado antes, cuando se quiera parar `top`, introduciendo `q` parará\n",
    "\n",
    "``` bash\n",
    "$ top\n",
    "\n",
    "top - 09:31:32 up  3:21,  1 user,  load average: 2,42, 2,79, 2,48\n",
    "Tareas: 382 total,   1 ejecutar,  381 hibernar,    0 detener,    0 zombie\n",
    "%Cpu(s): 14,2 usuario,  1,5 sist,  0,0 adecuado, 84,3 inact,  0,0 en espera,  0,\n",
    "MiB Mem :  32006,4 total,  20281,8 libre,   6229,0 usado,   5495,6 búfer/caché\n",
    "MiB Intercambio:   2048,0 total,   2048,0 libre,      0,0 usado.  24979,1 dispon\n",
    "\n",
    "    PID USUARIO   PR  NI    VIRT    RES    SHR S  %CPU  %MEM     HORA+ ORDEN    \n",
    "  10192 wallabot  20   0 3347636 388848  84140 S 137,5   1,2 282:24.59 python   \n",
    "  44161 wallabot  20   0   30,2g 217208 100148 S  12,5   0,7   0:40.92 spotify  \n",
    "     76 root      20   0       0      0      0 S   6,2   0,0   0:00.12 ksoftir+ \n",
    "   1105 root     -51   0       0      0      0 S   6,2   0,0   2:54.29 irq/125+ \n",
    "  43990 wallabot  20   0 3998836 246260 145800 S   6,2   0,8   0:53.69 spotify  \n",
    "  44101 wallabot  20   0 1995108 130316  89848 S   6,2   0,4   0:08.34 spotify  \n",
    "  51510 wallabot  20   0   14876   4088   3288 R   6,2   0,0   0:00.01 top      \n",
    "      1 root      20   0  169736  13188   8380 S   0,0   0,0   0:01.51 systemd  \n",
    "      2 root      20   0       0      0      0 S   0,0   0,0   0:00.00 kthreadd \n",
    "      3 root       0 -20       0      0      0 I   0,0   0,0   0:00.00 rcu_gp   \n",
    "      4 root       0 -20       0      0      0 I   0,0   0,0   0:00.00 rcu_par+ \n",
    "      5 root       0 -20       0      0      0 I   0,0   0,0   0:00.00 netns    \n",
    "      7 root       0 -20       0      0      0 I   0,0   0,0   0:00.00 kworker+ \n",
    "      9 root       0 -20       0      0      0 I   0,0   0,0   0:00.03 kworker+ \n",
    "     10 root       0 -20       0      0      0 I   0,0   0,0   0:00.00 mm_perc+ \n",
    "     11 root      20   0       0      0      0 S   0,0   0,0   0:00.00 rcu_tas+ \n",
    "     12 root      20   0       0      0      0 S   0,0   0,0   0:00.00 rcu_tas+\n",
    "```\n",
    "\n",
    "Como se puede ver, el `PID` 44161 es spotify que lo estoy usando ahora para reproducir música, pero con `ps` no lo habíamos visto"
   ]
  },
  {
   "cell_type": "markdown",
   "metadata": {},
   "source": [
    "Al igual que antes, si queremos matar un proceso debemos introducir `kill` y su `PID`"
   ]
  },
  {
   "cell_type": "markdown",
   "metadata": {},
   "source": [
    "Lo bueno de top es que nos da muchas más utilidades, si pulsamos `h` nos mostrará una ayuda\n",
    "\n",
    "``` bash\n",
    "Help for Interactive Commands - procps-ng 3.3.16\n",
    "Window 1:Def: Cumulative mode Apagado.  System: Delay 3,0 secs; Secure mode Apag\n",
    "\n",
    "  Z,B,E,e   Global: 'Z' colors; 'B' bold; 'E'/'e' summary/task memory scale\n",
    "  l,t,m     Toggle Summary: 'l' load avg; 't' task/cpu stats; 'm' memory info\n",
    "  0,1,2,3,I Toggle: '0' zeros; '1/2/3' cpus or numa node views; 'I' Irix mode\n",
    "  f,F,X     Fields: 'f'/'F' add/remove/order/sort; 'X' increase fixed-width\n",
    "\n",
    "  L,&,<,> . Locate: 'L'/'&' find/again; Move sort column: '<'/'>' left/right\n",
    "  R,H,J,C . Toggle: 'R' Sort; 'H' Threads; 'J' Num justify; 'C' Coordinates\n",
    "  c,i,S,j . Toggle: 'c' Cmd name/line; 'i' Idle; 'S' Time; 'j' Str justify\n",
    "  x,y     . Toggle highlights: 'x' sort field; 'y' running tasks\n",
    "  z,b     . Toggle: 'z' color/mono; 'b' bold/reverse (only if 'x' or 'y')\n",
    "  u,U,o,O . Filter by: 'u'/'U' effective/any user; 'o'/'O' other criteria\n",
    "  n,#,^O  . Set: 'n'/'#' max tasks displayed; Show: Ctrl+'O' other filter(s)\n",
    "  V,v     . Toggle: 'V' forest view; 'v' hide/show forest view children\n",
    "\n",
    "  k,r Gestiona tareas: «k» detener; «r» reiniciar\n",
    "  d o s Establece intervalo de actualización\n",
    "  W,Y       Write configuration file 'W'; Inspect other output 'Y'\n",
    "  q         Quit\n",
    "          ( commands shown with '.' require a visible task display window ) \n",
    "Press 'h' or '?' for help with Windows,\n",
    "Type 'q' or <Esc> to continue\n",
    "```\n",
    "\n",
    "Para salir pulsar `ESC` o `q`"
   ]
  },
  {
   "cell_type": "markdown",
   "metadata": {},
   "source": [
    "Como se muestra en la ayuda, si se introduce `u` podemos filtrar por usuario, introducimos mi usuario (wallabot) y puedo ver solo mis procesos\n",
    "\n",
    "``` bash\n",
    "top - 09:35:57 up  3:25,  1 user,  load average: 1,02, 2,27, 2,39\n",
    "Tareas: 378 total,   1 ejecutar,  377 hibernar,    0 detener,    0 zombie\n",
    "%Cpu(s): 13,4 usuario,  0,4 sist,  0,0 adecuado, 86,1 inact,  0,1 en espera,  0,\n",
    "MiB Mem :  32006,4 total,  20288,0 libre,   6212,0 usado,   5506,4 búfer/caché\n",
    "MiB Intercambio:   2048,0 total,   2048,0 libre,      0,0 usado.  24989,1 dispon\n",
    "\n",
    "    PID USUARIO   PR  NI    VIRT    RES    SHR S  %CPU  %MEM     HORA+ ORDEN    \n",
    "  10192 wallabot  20   0 3347636 388848  84140 S 148,2   1,2 288:46.50 python   \n",
    "  43990 wallabot  20   0 3998836 246552 146092 S   2,7   0,8   0:59.55 spotify  \n",
    "   1384 wallabot  20   0 4909848 453700 133164 S   1,7   1,4  11:14.02 gnome-s+ \n",
    "   1119 wallabot   9 -11 3093876  24504  17836 S   1,3   0,1   0:48.99 pulseau+ \n",
    "  32462 wallabot  20   0 1134,0g 643412 128632 S   1,3   2,0   7:39.91 chrome   \n",
    "  44161 wallabot  20   0   30,2g 217112 100488 S   1,3   0,7   0:44.87 spotify  \n",
    "  10135 wallabot  20   0  826220  58164  41648 S   1,0   0,2   0:14.56 gnome-t+ \n",
    "   6635 wallabot  20   0   33,0g 647936 436252 S   0,3   2,0   4:01.80 chrome   \n",
    "   6679 wallabot  20   0   32,4g 125564  94016 S   0,3   0,4   0:52.19 chrome   \n",
    "   8010 wallabot  20   0 1130,9g 232800 116092 S   0,3   0,7   0:13.70 chrome   \n",
    "  44101 wallabot  20   0 1995108 130444  89916 S   0,3   0,4   0:09.19 spotify  \n",
    "   1113 wallabot  20   0   19880  10528   8096 S   0,0   0,0   0:00.38 systemd  \n",
    "   1114 wallabot  20   0  169792   3636     12 S   0,0   0,0   0:00.00 (sd-pam) \n",
    "   1121 wallabot  39  19  591436  37256  16676 S   0,0   0,1   0:03.19 tracker+ \n",
    "   1124 wallabot  20   0  390740   8688   7416 S   0,0   0,0   0:00.45 gnome-k+ \n",
    "   1128 wallabot  20   0  166804   6596   5956 S   0,0   0,0   0:00.00 gdm-x-s+ \n",
    "   1134 wallabot  20   0    9152   6144   3796 S   0,0   0,0   0:01.81 dbus-da+\n",
    "```"
   ]
  },
  {
   "cell_type": "markdown",
   "metadata": {},
   "source": [
    "Otra forma de ver esto poder filtrar por usuario sería hacerse un pipeline y usando `grep`\n",
    "\n",
    "``` bash\n",
    "$ top | grep wallabot\n",
    "   1440 wallabot  20   0 4684708 505432 118024 S   6,7   1,5   2:05.92 gnome-s+ \n",
    "  25326 wallabot  20   0 1133,0g 527912 123732 S   1,7   1,6   1:31.73 chrome   \n",
    "   1440 wallabot  20   0 4684708 505476 118024 S   1,3   1,5   2:05.96 gnome-s+ \n",
    "   6199 wallabot  20   0 1131,0g 266068 116164 S   0,3   0,8   0:15.23 chrome   \n",
    "  17606 wallabot  20   0  818228  52096  39488 S   0,3   0,2   0:02.59 gnome-t+ \n",
    "  34284 wallabot  20   0   14876   4376   3308 R   0,3   0,0   0:00.02 top\n",
    "```"
   ]
  },
  {
   "cell_type": "markdown",
   "metadata": {},
   "source": [
    "#### `htop`"
   ]
  },
  {
   "cell_type": "markdown",
   "metadata": {},
   "source": [
    "Es parecido a `top` pero más potente\n",
    "\n",
    "Probablemente no lo tengas instalado, así que para instalarlo introduce el comando\n",
    "\n",
    "``` bash\n",
    "sudo apt install htop\n",
    "```\n",
    "\n",
    "o\n",
    "\n",
    "``` bash\n",
    "sudo snap install htop\n",
    "```"
   ]
  },
  {
   "cell_type": "markdown",
   "metadata": {},
   "source": [
    "#### `glances`"
   ]
  },
  {
   "cell_type": "markdown",
   "metadata": {},
   "source": [
    "Es parecido a `top` pero más potente\n",
    "\n",
    "Probablemente no lo tengas instalado, así que para instalarlo introduce el comando\n",
    "\n",
    "``` bash\n",
    "sudo apt install glances\n",
    "```"
   ]
  },
  {
   "cell_type": "markdown",
   "metadata": {},
   "source": [
    "### Gestión de interfaces"
   ]
  },
  {
   "cell_type": "markdown",
   "metadata": {},
   "source": [
    "En Ubuntu, por defecto arrancamos en un interfaz gráfica, pero podemos abrir otras interfaces, que no serán gráficas, introduciendo `CTRL`+`ALT`+`F<num>` donde el número puede ir desde el 1 hasta el 6. Solo la 2 tendrá la interfaz gráfica y la 1 será el inicio de sesión"
   ]
  },
  {
   "cell_type": "markdown",
   "metadata": {},
   "source": [
    "Al manejar varias interfaces podemos no saber en cual nos encontramos, así que introduciendo el comando `tty` nos dirá en cual estamos"
   ]
  },
  {
   "cell_type": "code",
   "execution_count": 1,
   "metadata": {},
   "outputs": [
    {
     "name": "stdout",
     "output_type": "stream",
     "text": [
      "/dev/pts/0\n"
     ]
    }
   ],
   "source": [
    "!tty"
   ]
  },
  {
   "cell_type": "markdown",
   "metadata": {},
   "source": [
    "## Fricadas"
   ]
  },
  {
   "cell_type": "markdown",
   "metadata": {},
   "source": [
    "### Cowsay"
   ]
  },
  {
   "cell_type": "markdown",
   "metadata": {},
   "source": [
    "Hay un comando llamado `cowsay` al que le pasas como parámetro un texto y te dibuja una vaca diciendo ese texto\n",
    "\n",
    "Es posible que no lo tengas instalado, por lo que para instalarlo tienes que introducir el comando\n",
    "\n",
    "``` bash\n",
    "sudo apt install cowsay\n",
    "```"
   ]
  },
  {
   "cell_type": "code",
   "execution_count": 12,
   "metadata": {},
   "outputs": [
    {
     "name": "stdout",
     "output_type": "stream",
     "text": [
      " __________\n",
      "< MaximoFN >\n",
      " ----------\n",
      "        \\   ^__^\n",
      "         \\  (oo)\\_______\n",
      "            (__)\\       )\\/\\\n",
      "                ||----w |\n",
      "                ||     ||\n",
      "\n"
     ]
    }
   ],
   "source": [
    "terminal(\"cowsay MaximoFN\")"
   ]
  },
  {
   "cell_type": "markdown",
   "metadata": {},
   "source": [
    "Si le añades el flag `-f dragon` quien lo dice es un dragón"
   ]
  },
  {
   "cell_type": "code",
   "execution_count": 15,
   "metadata": {},
   "outputs": [
    {
     "name": "stdout",
     "output_type": "stream",
     "text": [
      " __________\n",
      "< MaximoFN >\n",
      " ----------\n",
      "      \\                    / \\  //\\\n",
      "       \\    |\\___/|      /   \\//  \\\\\n",
      "            /0  0  \\__  /    //  | \\ \\    \n",
      "           /     /  \\/_/    //   |  \\  \\  \n",
      "           @_^_@'/   \\/_   //    |   \\   \\ \n",
      "           //_^_/     \\/_ //     |    \\    \\\n",
      "        ( //) |        \\///      |     \\     \\\n",
      "      ( / /) _|_ /   )  //       |      \\     _\\\n",
      "    ( // /) '/,_ _ _/  ( ; -.    |    _ _\\.-~        .-~~~^-.\n",
      "  (( / / )) ,-{        _      `-.|.-~-.           .~         `.\n",
      " (( // / ))  '/\\      /                 ~-. _ .-~      .-~^-.  \\\n",
      " (( /// ))      `.   {            }                   /      \\  \\\n",
      "  (( / ))     .----~-.\\        \\-'                 .~         \\  `. \\^-.\n",
      "             ///.----..>        \\             _ -~             `.  ^-`  ^-_\n",
      "               ///-._ _ _ _ _ _ _}^ - - - - ~                     ~-- ,.-~\n",
      "                                                                  /.-~\n",
      "\n"
     ]
    }
   ],
   "source": [
    "terminal(\"cowsay -f dragon MaximoFN\")"
   ]
  },
  {
   "cell_type": "code",
   "execution_count": 14,
   "metadata": {},
   "outputs": [
    {
     "name": "stdout",
     "output_type": "stream",
     "text": [
      " __________\n",
      "< MaximoFN >\n",
      " ----------\n",
      "                       \\                    ^    /^\n",
      "                        \\                  / \\  // \\\n",
      "                         \\   |\\___/|      /   \\//  .\\\n",
      "                          \\  /O  O  \\__  /    //  | \\ \\           *----*\n",
      "                            /     /  \\/_/    //   |  \\  \\          \\   |\n",
      "                            @___@`    \\/_   //    |   \\   \\         \\/\\ \\\n",
      "                           0/0/|       \\/_ //     |    \\    \\         \\  \\\n",
      "                       0/0/0/0/|        \\///      |     \\     \\       |  |\n",
      "                    0/0/0/0/0/_|_ /   (  //       |      \\     _\\     |  /\n",
      "                 0/0/0/0/0/0/`/,_ _ _/  ) ; -.    |    _ _\\.-~       /   /\n",
      "                             ,-}        _      *-.|.-~-.           .~    ~\n",
      "            \\     \\__/        `/\\      /                 ~-. _ .-~      /\n",
      "             \\____(oo)           *.   }            {                   /\n",
      "             (    (--)          .----~-.\\        \\-`                 .~\n",
      "             //__\\\\  \\__ Ack!   ///.----..<        \\             _ -~\n",
      "            //    \\\\               ///-._ _ _ _ _ _ _{^ - - - - ~\n",
      "\n"
     ]
    }
   ],
   "source": [
    "terminal(\"cowsay -f dragon-and-cow MaximoFN\")"
   ]
  }
 ],
 "metadata": {
  "kernelspec": {
   "display_name": "Python 3.7.6 ('base')",
   "language": "python",
   "name": "python3"
  },
  "language_info": {
   "codemirror_mode": {
    "name": "ipython",
    "version": 3
   },
   "file_extension": ".py",
   "mimetype": "text/x-python",
   "name": "python",
   "nbconvert_exporter": "python",
   "pygments_lexer": "ipython3",
   "version": "3.7.6"
  },
  "orig_nbformat": 4,
  "vscode": {
   "interpreter": {
    "hash": "d5745ab6aba164e1152437c779991855725055592b9f2bdb41a4825db7168d26"
   }
  }
 },
 "nbformat": 4,
 "nbformat_minor": 2
}
