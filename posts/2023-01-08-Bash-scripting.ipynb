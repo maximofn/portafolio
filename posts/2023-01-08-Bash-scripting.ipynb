{
 "cells": [
  {
   "attachments": {},
   "cell_type": "markdown",
   "metadata": {},
   "source": [
    "# Bash scripting"
   ]
  },
  {
   "attachments": {},
   "cell_type": "markdown",
   "metadata": {},
   "source": [
    "## Carpeta con scripts"
   ]
  },
  {
   "attachments": {},
   "cell_type": "markdown",
   "metadata": {},
   "source": [
    "Para realizar este post vamos a crear una carpeta donde vamos a guardar todos los scripts"
   ]
  },
  {
   "cell_type": "code",
   "execution_count": 1,
   "metadata": {},
   "outputs": [],
   "source": [
    "!mkdir scripts_bash"
   ]
  },
  {
   "attachments": {},
   "cell_type": "markdown",
   "metadata": {},
   "source": [
    "## Primer script"
   ]
  },
  {
   "attachments": {},
   "cell_type": "markdown",
   "metadata": {},
   "source": [
    "### Especificación del binario de ejecución"
   ]
  },
  {
   "attachments": {},
   "cell_type": "markdown",
   "metadata": {},
   "source": [
    "En linux se puede indicar con qué programa ejecutar un archivo poniendo en la primera linea `#!<ruta binario>`, por ejemplo, si creamos un `.py` podemos indicar que se tiene que ejecutar con python poniendo en la primera linea `#!/usr/bin/python3`. En nuestro, como estamos haciendo un script de la terminal ponemos en la primera linea `#!/bin/bash`.\n",
    "\n",
    "Ahora si se le dan permisos de ejecución al archivo, se puede ejecutar directamente sin indicar el programa con el que se tiene que ejecutar. Es decir, el `.py` ya no necesita ser ejecutado mediante `python script.py`, sino que se puede ejecutar mediante `.script.py`. En nuestro caso, en vez de ejecutar el archivo mediante `bash script.sh` podemos ejecutarlo mediante `./script.sh`"
   ]
  },
  {
   "attachments": {},
   "cell_type": "markdown",
   "metadata": {},
   "source": [
    "### Comentarios en scripts de bash"
   ]
  },
  {
   "attachments": {},
   "cell_type": "markdown",
   "metadata": {},
   "source": [
    "Si queremos introducir un comentario bastaría con empezar la linea con `#`.\n",
    "\n",
    "``` bash\n",
    "# Esto es un comentario de una sola línea\n",
    "```\n",
    "\n",
    "Si lo que queremos es introducir varias líneas de comentarios tenemos que empezar con `: '` y terminar con `'`\n",
    "\n",
    "``` bash\n",
    ": '\n",
    "Este es un comentario de varias líneas\n",
    "que se extiende a través de varias líneas.\n",
    "'\n",
    "```"
   ]
  },
  {
   "attachments": {},
   "cell_type": "markdown",
   "metadata": {},
   "source": [
    "### Imprimir por pantalla con el comando `echo`"
   ]
  },
  {
   "attachments": {},
   "cell_type": "markdown",
   "metadata": {},
   "source": [
    "Si queremos imprimir por pantalla utilizamos el comando `echo` seguido de lo que queramos imprimir"
   ]
  },
  {
   "cell_type": "code",
   "execution_count": 2,
   "metadata": {},
   "outputs": [
    {
     "name": "stdout",
     "output_type": "stream",
     "text": [
      "Writing scripts_bash/01_primerScript.sh\n"
     ]
    }
   ],
   "source": [
    "%%writefile scripts_bash/01_primerScript.sh\n",
    "#!/bin/bash\n",
    "# Comentario de una sola linea\n",
    ": '\n",
    "Comentario de varias\n",
    "lineas\n",
    "'\n",
    "echo \"Hola mundo\""
   ]
  },
  {
   "attachments": {},
   "cell_type": "markdown",
   "metadata": {},
   "source": [
    "Damos permisos de ejecución y ejecutamos el script"
   ]
  },
  {
   "cell_type": "code",
   "execution_count": 3,
   "metadata": {},
   "outputs": [
    {
     "name": "stdout",
     "output_type": "stream",
     "text": [
      "Hola mundo\n"
     ]
    }
   ],
   "source": [
    "!chmod +x scripts_bash/01_primerScript.sh && ./scripts_bash/01_primerScript.sh"
   ]
  },
  {
   "attachments": {},
   "cell_type": "markdown",
   "metadata": {},
   "source": [
    "## Declaración de variables"
   ]
  },
  {
   "attachments": {},
   "cell_type": "markdown",
   "metadata": {},
   "source": [
    "Hay dos tipos de variables, las `variables de usuario` y las `variables de entorno`"
   ]
  },
  {
   "attachments": {},
   "cell_type": "markdown",
   "metadata": {},
   "source": [
    "Para crear una variable basta con declararla introduciendo el nombre que queremos, seguido de `=` y el valor\n",
    "\n",
    "Para imprimir el valor de una variable con `echo`, se tiene que referenciar a ella mediante `$<nombre de variable>\n",
    "\n",
    "``` bash\n",
    "echo \"Variable = $<nombre de variable>\n",
    "```"
   ]
  },
  {
   "cell_type": "code",
   "execution_count": 6,
   "metadata": {},
   "outputs": [
    {
     "name": "stdout",
     "output_type": "stream",
     "text": [
      "Writing scripts_bash/02_variables.sh\n"
     ]
    }
   ],
   "source": [
    "%%writefile scripts_bash/02_variables.sh\n",
    "#!/bin/bash\n",
    "opcion=1\n",
    "nombre=\"Juan\"\n",
    "\n",
    "echo \"Opcion: $opcion\"\n",
    "echo \"Nombre: $nombre\""
   ]
  },
  {
   "cell_type": "code",
   "execution_count": 7,
   "metadata": {},
   "outputs": [
    {
     "name": "stdout",
     "output_type": "stream",
     "text": [
      "Opcion: 1\n",
      "Nombre: Juan\n"
     ]
    }
   ],
   "source": [
    "!chmod +x scripts_bash/02_variables.sh && ./scripts_bash/02_variables.sh"
   ]
  },
  {
   "attachments": {},
   "cell_type": "markdown",
   "metadata": {},
   "source": [
    "### Alcande de las variables"
   ]
  },
  {
   "attachments": {},
   "cell_type": "markdown",
   "metadata": {},
   "source": [
    "Las variables creadas solo son accesibles desde el script, es decir, su alcance es dentro del script"
   ]
  },
  {
   "attachments": {},
   "cell_type": "markdown",
   "metadata": {},
   "source": [
    "#### Exportación de variables"
   ]
  },
  {
   "attachments": {},
   "cell_type": "markdown",
   "metadata": {},
   "source": [
    "Podemos exportar variables para que estén accesibles por otros scrips, para ello primero exportamos la variable mediante el comando `export` y ejecutamos llamamos, dentro del script, al segundo script al que se le quiere pasar la variable"
   ]
  },
  {
   "cell_type": "code",
   "execution_count": 29,
   "metadata": {},
   "outputs": [
    {
     "name": "stdout",
     "output_type": "stream",
     "text": [
      "Overwriting scripts_bash/02_variables.sh\n"
     ]
    }
   ],
   "source": [
    "%%writefile scripts_bash/02_variables.sh\n",
    "#!/bin/bash\n",
    "opcion=1\n",
    "nombre=\"Juan\"\n",
    "\n",
    "echo \"Opcion: $opcion\"\n",
    "echo \"Nombre: $nombre\"\n",
    "\n",
    "# Exportar variable nombre\n",
    "echo \"export nombre=$nombre\"\n",
    "export nombre\n",
    "\n",
    "# Ejecutar script de importacion\n",
    "echo \"\"\n",
    "echo \"Ejecutando script de importacion\"\n",
    "./scripts_bash/02_variables_importacion.sh"
   ]
  },
  {
   "cell_type": "code",
   "execution_count": 30,
   "metadata": {},
   "outputs": [
    {
     "name": "stdout",
     "output_type": "stream",
     "text": [
      "Writing scripts_bash/02_variables_importacion.sh\n"
     ]
    }
   ],
   "source": [
    "%%writefile scripts_bash/02_variables_importacion.sh\n",
    "#!/bin/bash\n",
    "echo \"Nombre importado: $nombre\""
   ]
  },
  {
   "cell_type": "code",
   "execution_count": 32,
   "metadata": {},
   "outputs": [
    {
     "name": "stdout",
     "output_type": "stream",
     "text": [
      "Opcion: 1\n",
      "Nombre: Juan\n",
      "export nombre=Juan\n",
      "\n",
      "Ejecutando script de importacion\n",
      "Nombre importado: Juan\n"
     ]
    }
   ],
   "source": [
    "!chmod +x scripts_bash/02_variables.sh && chmod +x scripts_bash/02_variables_importacion.sh && ./scripts_bash/02_variables.sh"
   ]
  },
  {
   "attachments": {},
   "cell_type": "markdown",
   "metadata": {},
   "source": [
    "Se tiene que ejecutar el segundo script dentro del primer script. Si ahora ejecutamos el segundo script no tenemos la variable"
   ]
  },
  {
   "cell_type": "code",
   "execution_count": 33,
   "metadata": {},
   "outputs": [
    {
     "name": "stdout",
     "output_type": "stream",
     "text": [
      "Nombre importado: \n"
     ]
    }
   ],
   "source": [
    "!chmod +x scripts_bash/02_variables_importacion.sh && ./scripts_bash/02_variables_importacion.sh"
   ]
  },
  {
   "attachments": {},
   "cell_type": "markdown",
   "metadata": {},
   "source": [
    "Si queremos que sea accesible desde cualquier un segundo script, sin tener que ejecutarlo dentro del primer scritp, tenemos que exportar la variable a una variable de entorno"
   ]
  },
  {
   "attachments": {},
   "cell_type": "markdown",
   "metadata": {},
   "source": [
    "## Tipos de operadores"
   ]
  },
  {
   "attachments": {},
   "cell_type": "markdown",
   "metadata": {},
   "source": [
    "A continuación mostramos todos los posibles operadores"
   ]
  },
  {
   "cell_type": "code",
   "execution_count": 38,
   "metadata": {},
   "outputs": [
    {
     "name": "stdout",
     "output_type": "stream",
     "text": [
      "Overwriting scripts_bash/03_operadores.sh\n"
     ]
    }
   ],
   "source": [
    "%%writefile scripts_bash/03_operadores.sh\n",
    "#!/bin/bash\n",
    "\n",
    "# Asignación de variables\n",
    "x=10\n",
    "y=20\n",
    "echo \"x = $x\"\n",
    "echo \"y = $y\"\n",
    "\n",
    "# Operadores aritméticos\n",
    "echo \"\"\n",
    "echo \"Operadores aritméticos\"\n",
    "echo \"x + y = $((x + y))\"\n",
    "echo \"x - y = $((x - y))\"\n",
    "echo \"x * y = $((x * y))\"\n",
    "echo \"x / y = $((x / y))\"\n",
    "echo \"x % y = $((x % y))\"\n",
    "\n",
    "# Operadores de comparación\n",
    "echo \"\"\n",
    "echo \"Operadores de comparación\"\n",
    "if [ \"$x\" -eq \"$y\" ]; then\n",
    "  echo \"x es igual a y\"\n",
    "else\n",
    "  echo \"x no es igual a y\"\n",
    "fi\n",
    "\n",
    "if [ \"$x\" -ne \"$y\" ]; then\n",
    "  echo \"x no es igual a y\"\n",
    "else\n",
    "  echo \"x es igual a y\"\n",
    "fi\n",
    "\n",
    "if [ \"$x\" -lt \"$y\" ]; then\n",
    "  echo \"x es menor que y\"\n",
    "else\n",
    "  echo \"x no es menor que y\"\n",
    "fi\n",
    "\n",
    "if [ \"$x\" -gt \"$y\" ]; then\n",
    "  echo \"x es mayor que y\"\n",
    "else\n",
    "  echo \"x no es mayor que y\"\n",
    "fi\n",
    "\n",
    "# Operadores de cadena\n",
    "echo \"\"\n",
    "echo \"Operadores de cadena\"\n",
    "if [ \"$a\" = \"$b\" ]; then\n",
    "  echo \"a es igual a b\"\n",
    "else\n",
    "  echo \"a no es igual a b\"\n",
    "fi\n",
    "\n",
    "if [ \"$a\" != \"$b\" ]; then\n",
    "  echo \"a no es igual a b\"\n",
    "else\n",
    "  echo \"a es igual a b\"\n",
    "fi\n",
    "\n",
    "if [ -z \"$a\" ]; then\n",
    "  echo \"a es una cadena vacía\"\n",
    "else\n",
    "  echo \"a no es una cadena vacía\"\n",
    "fi\n",
    "\n",
    "if [ -n \"$a\" ]; then\n",
    "  echo \"a no es una cadena vacía\"\n",
    "else\n",
    "  echo \"a es una cadena vacía\"\n",
    "fi\n",
    "\n",
    "# Operadores de archivo\n",
    "echo \"\"\n",
    "echo \"Operadores de archivo\"\n",
    "if [ -e \"/path/to/file\" ]; then\n",
    "  echo \"El archivo existe\"\n",
    "else\n",
    "  echo \"El archivo no existe\"\n",
    "fi\n",
    "\n",
    "if [ -f \"/path/to/file\" ]; then\n",
    "  echo \"Es un archivo regular\"\n",
    "else\n",
    "  echo \"No es un archivo regular\"\n",
    "fi\n",
    "\n",
    "if [ -d \"/path/to/dir\" ]; then\n",
    "  echo \"Es un directorio\"\n",
    "else\n",
    "  echo \"No es un directorio\"\n",
    "fi\n"
   ]
  },
  {
   "cell_type": "code",
   "execution_count": 39,
   "metadata": {},
   "outputs": [
    {
     "name": "stdout",
     "output_type": "stream",
     "text": [
      "x = 10\n",
      "y = 20\n",
      "\n",
      "Operadores aritméticos\n",
      "x + y = 30\n",
      "x - y = -10\n",
      "x * y = 200\n",
      "x / y = 0\n",
      "x % y = 10\n",
      "\n",
      "Operadores de comparación\n",
      "x no es igual a y\n",
      "x no es igual a y\n",
      "x es menor que y\n",
      "x no es mayor que y\n",
      "\n",
      "Operadores de cadena\n",
      "a es igual a b\n",
      "a es igual a b\n",
      "a es una cadena vacía\n",
      "a es una cadena vacía\n",
      "\n",
      "Operadores de archivo\n",
      "El archivo no existe\n",
      "No es un archivo regular\n",
      "No es un directorio\n"
     ]
    }
   ],
   "source": [
    "!chmod +x scripts_bash/03_operadores.sh && ./scripts_bash/03_operadores.sh"
   ]
  },
  {
   "attachments": {},
   "cell_type": "markdown",
   "metadata": {},
   "source": [
    "## Paso de argumentos"
   ]
  },
  {
   "attachments": {},
   "cell_type": "markdown",
   "metadata": {},
   "source": [
    "Se pueden pasar argumentos a los scrips, una vez dentro del script podemos hacer uso de ellos de la siguiente manera\n",
    "\n"
   ]
  },
  {
   "cell_type": "code",
   "execution_count": 3,
   "metadata": {},
   "outputs": [
    {
     "name": "stdout",
     "output_type": "stream",
     "text": [
      "Overwriting scripts_bash/04_argumentos.sh\n"
     ]
    }
   ],
   "source": [
    "%%writefile scripts_bash/04_argumentos.sh\n",
    "#!/bin/bash\n",
    "\n",
    "# Pasos de argumentos simples\n",
    "echo \"Primer argumento: $1\"\n",
    "echo \"Segundo argumento: $2\"\n",
    "echo \"Tercer argumento: $3\"\n",
    "\n",
    "# Accediendo a todos los argumentos\n",
    "echo \"Todos los argumentos: $*\"\n",
    "\n",
    "# Accediendo al número de argumentos\n",
    "echo \"Número de argumentos: $#\"\n",
    "\n",
    "# Accediendo al nombre del script\n",
    "echo \"Nombre del script: $0\"\n",
    "\n",
    "# Accediendo al código de salida del último comando ejecutado\n",
    "echo \"Código de salida del último comando: $?\"\n",
    "\n",
    "# Accediendo al PID del script\n",
    "echo \"PID del script: $$\"\n",
    "\n",
    "# Accediendo a los argumentos con índices\n",
    "echo \"Argumento 3: ${3}\"\n",
    "echo \"Argumento 2: ${2}\"\n",
    "\n",
    "# Accediendo a los argumentos con índices y longitud máxima\n",
    "echo \"Argumento 3 con longitud máxima de 2 caracteres: ${3:0:2}\"\n",
    "echo \"Argumento 2 con longitud máxima de 3 caracteres: ${2:0:3}\"\n",
    "\n",
    "# Reemplazando argumentos con índices y longitud máxima\n",
    "echo \"Reemplazando argumento 3: ${3/arg/replacement}\"\n",
    "echo \"Reemplazando argumento 2: ${2/arg/replacement}\"\n",
    "\n",
    "# Accediendo a los argumentos con índices y patrones de reemplazo\n",
    "echo \"Reemplazando patrón en argumento 3: ${3/#arg/replacement}\"\n",
    "echo \"Reemplazando patrón en argumento 2: ${2/#arg/replacement}\""
   ]
  },
  {
   "cell_type": "code",
   "execution_count": 4,
   "metadata": {},
   "outputs": [
    {
     "name": "stdout",
     "output_type": "stream",
     "text": [
      "Primer argumento: primer argumento\n",
      "Segundo argumento: segundo argumento\n",
      "Tercer argumento: tercer argumento\n",
      "Todos los argumentos: primer argumento segundo argumento tercer argumento\n",
      "Número de argumentos: 3\n",
      "Nombre del script: ./scripts_bash/04_argumentos.sh\n",
      "Código de salida del último comando: 0\n",
      "PID del script: 29008\n",
      "Argumento 3: tercer argumento\n",
      "Argumento 2: segundo argumento\n",
      "Argumento 3 con longitud máxima de 2 caracteres: te\n",
      "Argumento 2 con longitud máxima de 3 caracteres: seg\n",
      "Reemplazando argumento 3: tercer replacementumento\n",
      "Reemplazando argumento 2: segundo replacementumento\n",
      "Reemplazando patrón en argumento 3: tercer argumento\n",
      "Reemplazando patrón en argumento 2: segundo argumento\n"
     ]
    }
   ],
   "source": [
    "!arg1=\"primer argumento\" && arg2=\"segundo argumento\" && arg3=\"tercer argumento\" && chmod +x scripts_bash/04_argumentos.sh && ./scripts_bash/04_argumentos.sh \"$arg1\" \"$arg2\" \"$arg3\""
   ]
  }
 ],
 "metadata": {
  "kernelspec": {
   "display_name": "base",
   "language": "python",
   "name": "python3"
  },
  "language_info": {
   "codemirror_mode": {
    "name": "ipython",
    "version": 3
   },
   "file_extension": ".py",
   "mimetype": "text/x-python",
   "name": "python",
   "nbconvert_exporter": "python",
   "pygments_lexer": "ipython3",
   "version": "3.7.6 (default, Jan  8 2020, 19:59:22) \n[GCC 7.3.0]"
  },
  "orig_nbformat": 4,
  "vscode": {
   "interpreter": {
    "hash": "d5745ab6aba164e1152437c779991855725055592b9f2bdb41a4825db7168d26"
   }
  }
 },
 "nbformat": 4,
 "nbformat_minor": 2
}
