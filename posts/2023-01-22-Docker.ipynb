{
  "cells": [
    {
      "cell_type": "markdown",
      "metadata": {},
      "source": [
        "# Docker"
      ]
    },
    {
      "cell_type": "markdown",
      "metadata": {},
      "source": [
        "## Contenedores"
      ]
    },
    {
      "cell_type": "markdown",
      "metadata": {},
      "source": [
        "### Hello world"
      ]
    },
    {
      "cell_type": "markdown",
      "metadata": {},
      "source": [
        "Ejecutar el primer contenedor tipo Hello world con el comando `docker run hello-world`"
      ]
    },
    {
      "cell_type": "code",
      "execution_count": 1,
      "metadata": {},
      "outputs": [
        {
          "name": "stdout",
          "output_type": "stream",
          "text": [
            "Unable to find image 'hello-world:latest' locally\n"
          ]
        },
        {
          "name": "stdout",
          "output_type": "stream",
          "text": [
            "latest: Pulling from library/hello-world\n",
            "\n",
            "\u001b[1B85e32844: Pull complete 457kB/2.457kBB\u001b[1A\u001b[2KDigest: sha256:dcba6daec718f547568c562956fa47e1b03673dd010fe6ee58ca806767031d1c\n",
            "Status: Downloaded newer image for hello-world:latest\n",
            "\n",
            "Hello from Docker!\n",
            "This message shows that your installation appears to be working correctly.\n",
            "\n",
            "To generate this message, Docker took the following steps:\n",
            " 1. The Docker client contacted the Docker daemon.\n",
            " 2. The Docker daemon pulled the \"hello-world\" image from the Docker Hub.\n",
            "    (amd64)\n",
            " 3. The Docker daemon created a new container from that image which runs the\n",
            "    executable that produces the output you are currently reading.\n",
            " 4. The Docker daemon streamed that output to the Docker client, which sent it\n",
            "    to your terminal.\n",
            "\n",
            "To try something more ambitious, you can run an Ubuntu container with:\n",
            " $ docker run -it ubuntu bash\n",
            "\n",
            "Share images, automate workflows, and more with a free Docker ID:\n",
            " https://hub.docker.com/\n",
            "\n",
            "For more examples and ideas, visit:\n",
            " https://docs.docker.com/get-started/\n",
            "\n"
          ]
        }
      ],
      "source": [
        "!docker run hello-world"
      ]
    },
    {
      "cell_type": "markdown",
      "metadata": {},
      "source": [
        "Como no tenemos el contenedor guardado en local, Docker lo descarga de Docker Hub. Si ahora volvemos a ejecutar el contenedor, ya no aparecerá el primer mensaje, en el que indica que se está descargando"
      ]
    },
    {
      "cell_type": "code",
      "execution_count": 2,
      "metadata": {},
      "outputs": [
        {
          "name": "stdout",
          "output_type": "stream",
          "text": [
            "\n",
            "Hello from Docker!\n",
            "This message shows that your installation appears to be working correctly.\n",
            "\n",
            "To generate this message, Docker took the following steps:\n",
            " 1. The Docker client contacted the Docker daemon.\n",
            " 2. The Docker daemon pulled the \"hello-world\" image from the Docker Hub.\n",
            "    (amd64)\n",
            " 3. The Docker daemon created a new container from that image which runs the\n",
            "    executable that produces the output you are currently reading.\n",
            " 4. The Docker daemon streamed that output to the Docker client, which sent it\n",
            "    to your terminal.\n",
            "\n",
            "To try something more ambitious, you can run an Ubuntu container with:\n",
            " $ docker run -it ubuntu bash\n",
            "\n",
            "Share images, automate workflows, and more with a free Docker ID:\n",
            " https://hub.docker.com/\n",
            "\n",
            "For more examples and ideas, visit:\n",
            " https://docs.docker.com/get-started/\n",
            "\n"
          ]
        }
      ],
      "source": [
        "!docker run hello-world"
      ]
    },
    {
      "cell_type": "markdown",
      "metadata": {},
      "source": [
        "Para ver los contenedores que están corriendo ejecutar `docker ps`"
      ]
    },
    {
      "cell_type": "code",
      "execution_count": 3,
      "metadata": {},
      "outputs": [
        {
          "name": "stdout",
          "output_type": "stream",
          "text": [
            "CONTAINER ID   IMAGE     COMMAND   CREATED   STATUS    PORTS     NAMES\n"
          ]
        }
      ],
      "source": [
        "!docker ps"
      ]
    },
    {
      "cell_type": "markdown",
      "metadata": {},
      "source": [
        "Como vemos no hay ningún contenedor abierto. Pero sin embargo, si ejecutamos `docker ps -a` (`all`) vemos que sí aparecen"
      ]
    },
    {
      "cell_type": "code",
      "execution_count": 6,
      "metadata": {},
      "outputs": [
        {
          "name": "stdout",
          "output_type": "stream",
          "text": [
            "CONTAINER ID   IMAGE         COMMAND    CREATED          STATUS                      PORTS     NAMES\n",
            "1efb51bbbf38   hello-world   \"/hello\"   10 seconds ago   Exited (0) 9 seconds ago              strange_thompson\n",
            "5f5705e7603e   hello-world   \"/hello\"   15 seconds ago   Exited (0) 14 seconds ago             laughing_jang\n"
          ]
        }
      ],
      "source": [
        "!docker ps -a"
      ]
    },
    {
      "cell_type": "markdown",
      "metadata": {},
      "source": [
        "Vemos que aparecen dos contenedores llamados `hello-world` que son los dos que hemos ejecutado antes. Por tanto cada vez que ejecutamos el comando `run`, docker crea un nuevo contenedor, no ejecuta uno que ya exista"
      ]
    },
    {
      "cell_type": "markdown",
      "metadata": {},
      "source": [
        "Si queremos tener más información de uno de los dos contenedores podemos ejecutar `docker inspect <id>`, donde `<id>` corresponde a la ID del contenedor que se ha mostrado en la lista anterior"
      ]
    },
    {
      "cell_type": "code",
      "execution_count": 7,
      "metadata": {},
      "outputs": [
        {
          "name": "stdout",
          "output_type": "stream",
          "text": [
            "[\n",
            "    {\n",
            "        \"Id\": \"1efb51bbbf38917affd1b5871db8e658ebfe0b2efa5ead17545680b7866f682e\",\n",
            "        \"Created\": \"2023-09-04T03:59:17.795499354Z\",\n",
            "        \"Path\": \"/hello\",\n",
            "        \"Args\": [],\n",
            "        \"State\": {\n",
            "            \"Status\": \"exited\",\n",
            "            \"Running\": false,\n",
            "            \"Paused\": false,\n",
            "            \"Restarting\": false,\n",
            "            \"OOMKilled\": false,\n",
            "            \"Dead\": false,\n",
            "            \"Pid\": 0,\n",
            "            \"ExitCode\": 0,\n",
            "            \"Error\": \"\",\n",
            "            \"StartedAt\": \"2023-09-04T03:59:18.406663026Z\",\n",
            "            \"FinishedAt\": \"2023-09-04T03:59:18.406181184Z\"\n",
            "        },\n",
            "        \"Image\": \"sha256:9c7a54a9a43cca047013b82af109fe963fde787f63f9e016fdc3384500c2823d\",\n",
            "        \"ResolvConfPath\": \"/var/lib/docker/containers/1efb51bbbf38917affd1b5871db8e658ebfe0b2efa5ead17545680b7866f682e/resolv.conf\",\n",
            "        \"HostnamePath\": \"/var/lib/docker/containers/1efb51bbbf38917affd1b5871db8e658ebfe0b2efa5ead17545680b7866f682e/hostname\",\n",
            "        \"HostsPath\": \"/var/lib/docker/containers/1efb51bbbf38917affd1b5871db8e658ebfe0b2efa5ead17545680b7866f682e/hosts\",\n",
            "        \"LogPath\": \"/var/lib/docker/containers/1efb51bbbf38917affd1b5871db8e658ebfe0b2efa5ead17545680b7866f682e/1efb51bbbf38917affd1b5871db8e658ebfe0b2efa5ead17545680b7866f682e-json.log\",\n",
            "        \"Name\": \"/strange_thompson\",\n",
            "        ...\n",
            "            }\n",
            "        }\n",
            "    }\n",
            "]\n"
          ]
        }
      ],
      "source": [
        "!docker inspect 1efb51bbbf38"
      ]
    },
    {
      "cell_type": "markdown",
      "metadata": {},
      "source": [
        "Como acordarnos de IDs es complicado para nosotros, Docker asigna nombres a los contenedores para facilitarnos la vida. Así en la lista anterior, la última columna corresponde al nombre que ha asignado Docker a cada contenedor, de modo que si ahora ejecutamos `docker inspect <name>` obtendremos la misma información que con la ID"
      ]
    },
    {
      "cell_type": "markdown",
      "metadata": {},
      "source": [
        "Vuelvo a ejecutar `docker ps -a` para volver a ver la lista"
      ]
    },
    {
      "cell_type": "code",
      "execution_count": 8,
      "metadata": {},
      "outputs": [
        {
          "name": "stdout",
          "output_type": "stream",
          "text": [
            "CONTAINER ID   IMAGE         COMMAND    CREATED         STATUS                     PORTS     NAMES\n",
            "1efb51bbbf38   hello-world   \"/hello\"   2 minutes ago   Exited (0) 2 minutes ago             strange_thompson\n",
            "5f5705e7603e   hello-world   \"/hello\"   2 minutes ago   Exited (0) 2 minutes ago             laughing_jang\n"
          ]
        }
      ],
      "source": [
        "!docker ps -a"
      ]
    },
    {
      "cell_type": "markdown",
      "metadata": {},
      "source": [
        "Y ahora ejecuto `docker inspect <name>` para ver la información del contenedor"
      ]
    },
    {
      "cell_type": "code",
      "execution_count": 9,
      "metadata": {},
      "outputs": [
        {
          "name": "stdout",
          "output_type": "stream",
          "text": [
            "[\n",
            "    {\n",
            "        \"Id\": \"1efb51bbbf38917affd1b5871db8e658ebfe0b2efa5ead17545680b7866f682e\",\n",
            "        \"Created\": \"2023-09-04T03:59:17.795499354Z\",\n",
            "        \"Path\": \"/hello\",\n",
            "        \"Args\": [],\n",
            "        \"State\": {\n",
            "            \"Status\": \"exited\",\n",
            "            \"Running\": false,\n",
            "            \"Paused\": false,\n",
            "            \"Restarting\": false,\n",
            "            \"OOMKilled\": false,\n",
            "            \"Dead\": false,\n",
            "            \"Pid\": 0,\n",
            "            \"ExitCode\": 0,\n",
            "            \"Error\": \"\",\n",
            "            \"StartedAt\": \"2023-09-04T03:59:18.406663026Z\",\n",
            "            \"FinishedAt\": \"2023-09-04T03:59:18.406181184Z\"\n",
            "        },\n",
            "        \"Image\": \"sha256:9c7a54a9a43cca047013b82af109fe963fde787f63f9e016fdc3384500c2823d\",\n",
            "        \"ResolvConfPath\": \"/var/lib/docker/containers/1efb51bbbf38917affd1b5871db8e658ebfe0b2efa5ead17545680b7866f682e/resolv.conf\",\n",
            "        \"HostnamePath\": \"/var/lib/docker/containers/1efb51bbbf38917affd1b5871db8e658ebfe0b2efa5ead17545680b7866f682e/hostname\",\n",
            "        \"HostsPath\": \"/var/lib/docker/containers/1efb51bbbf38917affd1b5871db8e658ebfe0b2efa5ead17545680b7866f682e/hosts\",\n",
            "        \"LogPath\": \"/var/lib/docker/containers/1efb51bbbf38917affd1b5871db8e658ebfe0b2efa5ead17545680b7866f682e/1efb51bbbf38917affd1b5871db8e658ebfe0b2efa5ead17545680b7866f682e-json.log\",\n",
            "        \"Name\": \"/strange_thompson\",\n",
            "        ...\n",
            "            }\n",
            "        }\n",
            "    }\n",
            "]\n"
          ]
        }
      ],
      "source": [
        "!docker inspect strange_thompson"
      ]
    },
    {
      "cell_type": "markdown",
      "metadata": {},
      "source": [
        "Pero por qué con `docker ps` no vemos ningún contenedor y con `docker ps -a` sí. Esto es porque `docker ps` solo muestra los contenedores que están corriendo, mientras que `docker ps -a` muestra todos los contenedores, los que están corriendo y los que están apagados"
      ]
    },
    {
      "cell_type": "markdown",
      "metadata": {},
      "source": [
        "Podemos crear un contenedor asignándole un nombre nosotros mediante el comando `docker run --name <name> hello-world`"
      ]
    },
    {
      "cell_type": "code",
      "execution_count": 10,
      "metadata": {},
      "outputs": [
        {
          "name": "stdout",
          "output_type": "stream",
          "text": [
            "\n",
            "Hello from Docker!\n",
            "This message shows that your installation appears to be working correctly.\n",
            "\n",
            "To generate this message, Docker took the following steps:\n",
            " 1. The Docker client contacted the Docker daemon.\n",
            " 2. The Docker daemon pulled the \"hello-world\" image from the Docker Hub.\n",
            "    (amd64)\n",
            " 3. The Docker daemon created a new container from that image which runs the\n",
            "    executable that produces the output you are currently reading.\n",
            " 4. The Docker daemon streamed that output to the Docker client, which sent it\n",
            "    to your terminal.\n",
            "\n",
            "To try something more ambitious, you can run an Ubuntu container with:\n",
            " $ docker run -it ubuntu bash\n",
            "\n",
            "Share images, automate workflows, and more with a free Docker ID:\n",
            " https://hub.docker.com/\n",
            "\n",
            "For more examples and ideas, visit:\n",
            " https://docs.docker.com/get-started/\n",
            "\n"
          ]
        }
      ],
      "source": [
        "!docker run --name hello_world hello-world"
      ]
    },
    {
      "cell_type": "markdown",
      "metadata": {},
      "source": [
        "Esto será más cómodo para nosotros, ya que podremos controlar nosotros los nombres de los contenedores"
      ]
    },
    {
      "cell_type": "markdown",
      "metadata": {},
      "source": [
        "Si ahora queremos crear otro contenedor con el mismo nombre no podremos, porque docker no permite que se dupliquen los nombres de los contenedores. De modo que si queremos renombrar el contenedor podemos usar el comando `docker rename <old name> <new name>`"
      ]
    },
    {
      "cell_type": "code",
      "execution_count": 11,
      "metadata": {},
      "outputs": [],
      "source": [
        "!docker rename hello_world hello_world2"
      ]
    },
    {
      "cell_type": "markdown",
      "metadata": {},
      "source": [
        "Tenemos ahora un montón de contenedores iguales. Así que si queremos borrar alguno tenemos que usar el comando `docker rm <id>` o `docker rm <name>`"
      ]
    },
    {
      "cell_type": "code",
      "execution_count": 12,
      "metadata": {},
      "outputs": [
        {
          "name": "stdout",
          "output_type": "stream",
          "text": [
            "CONTAINER ID   IMAGE         COMMAND    CREATED         STATUS                     PORTS     NAMES\n",
            "f432c9c2ca21   hello-world   \"/hello\"   9 seconds ago   Exited (0) 8 seconds ago             hello_world2\n",
            "1efb51bbbf38   hello-world   \"/hello\"   4 minutes ago   Exited (0) 4 minutes ago             strange_thompson\n",
            "5f5705e7603e   hello-world   \"/hello\"   4 minutes ago   Exited (0) 4 minutes ago             laughing_jang\n"
          ]
        }
      ],
      "source": [
        "!docker ps -a"
      ]
    },
    {
      "cell_type": "code",
      "execution_count": 13,
      "metadata": {},
      "outputs": [
        {
          "name": "stdout",
          "output_type": "stream",
          "text": [
            "hello_world2\n"
          ]
        }
      ],
      "source": [
        "!docker rm hello_world2"
      ]
    },
    {
      "cell_type": "markdown",
      "metadata": {},
      "source": [
        "Si volvemos a ver la lista de contenedores, el contenedor `hello_world2` ya no estará"
      ]
    },
    {
      "cell_type": "code",
      "execution_count": 14,
      "metadata": {},
      "outputs": [
        {
          "name": "stdout",
          "output_type": "stream",
          "text": [
            "CONTAINER ID   IMAGE         COMMAND    CREATED         STATUS                     PORTS     NAMES\n",
            "1efb51bbbf38   hello-world   \"/hello\"   5 minutes ago   Exited (0) 5 minutes ago             strange_thompson\n",
            "5f5705e7603e   hello-world   \"/hello\"   5 minutes ago   Exited (0) 5 minutes ago             laughing_jang\n"
          ]
        }
      ],
      "source": [
        "!docker ps -a"
      ]
    },
    {
      "cell_type": "markdown",
      "metadata": {},
      "source": [
        "Si queremos borrar todos los contenedores, podemos hacerlo uno a uno, pero como es muy pesado, podemos borrar todos mediante el comando `docker container prune`. Este comando elimina solo los contenedores que estén parados"
      ]
    },
    {
      "cell_type": "code",
      "execution_count": 17,
      "metadata": {},
      "outputs": [
        {
          "name": "stdout",
          "output_type": "stream",
          "text": [
            "WARNING! This will remove all stopped containers.\n",
            "Are you sure you want to continue? [y/N] y"
          ]
        }
      ],
      "source": [
        "!docker container prune"
      ]
    },
    {
      "cell_type": "markdown",
      "metadata": {},
      "source": [
        "Docker pregunta si estás seguro, y si le dices que sí, borra todos. Si ahora listo todos los contenedores, no aparece ninguno"
      ]
    },
    {
      "cell_type": "code",
      "execution_count": 19,
      "metadata": {},
      "outputs": [
        {
          "name": "stdout",
          "output_type": "stream",
          "text": [
            "CONTAINER ID   IMAGE     COMMAND   CREATED   STATUS    PORTS     NAMES\n"
          ]
        }
      ],
      "source": [
        "!docker ps -a"
      ]
    },
    {
      "cell_type": "markdown",
      "metadata": {},
      "source": [
        "### El modo iteractivo"
      ]
    },
    {
      "cell_type": "markdown",
      "metadata": {},
      "source": [
        "Vamos a ejecutar un ubuntu mediante el comando `docker run ubuntu`"
      ]
    },
    {
      "cell_type": "code",
      "execution_count": 29,
      "metadata": {},
      "outputs": [
        {
          "name": "stdout",
          "output_type": "stream",
          "text": [
            "Unable to find image 'ubuntu:latest' locally\n",
            "latest: Pulling from library/ubuntu\n",
            "\n",
            "\u001b[1BDigest: sha256:20fa2d7bb4de7723f542be5923b06c4d704370f0390e4ae9e1c833c8785644c1[1A\u001b[2K\u001b[1A\u001b[2K\u001b[1A\u001b[2K\u001b[1A\u001b[2K\u001b[1A\u001b[2K\u001b[1A\u001b[2K\u001b[1A\u001b[2K\u001b[1A\u001b[2K\n",
            "Status: Downloaded newer image for ubuntu:latest\n"
          ]
        }
      ],
      "source": [
        "!docker run ubuntu"
      ]
    },
    {
      "cell_type": "markdown",
      "metadata": {},
      "source": [
        "Como vemos, ahora ha tardado más en descargar. Si listamos los contenedores mediante el comando `docker ps`, vemos que no aparece el contenedor que acabamos de crear, es decir, no está corriendo."
      ]
    },
    {
      "cell_type": "code",
      "execution_count": 30,
      "metadata": {},
      "outputs": [
        {
          "name": "stdout",
          "output_type": "stream",
          "text": [
            "CONTAINER ID   IMAGE     COMMAND   CREATED   STATUS    PORTS     NAMES\n"
          ]
        }
      ],
      "source": [
        "!docker ps"
      ]
    },
    {
      "cell_type": "markdown",
      "metadata": {},
      "source": [
        "Listamos ahora todos los contenedores"
      ]
    },
    {
      "cell_type": "code",
      "execution_count": 31,
      "metadata": {},
      "outputs": [
        {
          "name": "stdout",
          "output_type": "stream",
          "text": [
            "CONTAINER ID   IMAGE     COMMAND   CREATED         STATUS                     PORTS     NAMES\n",
            "da16b3a85178   ubuntu    \"bash\"    4 seconds ago   Exited (0) 3 seconds ago             hardcore_kare\n"
          ]
        }
      ],
      "source": [
        "!docker ps -a"
      ]
    },
    {
      "cell_type": "markdown",
      "metadata": {},
      "source": [
        "Vemos que el estado del contenedor es `Exited (0)`"
      ]
    },
    {
      "cell_type": "markdown",
      "metadata": {},
      "source": [
        "Si nos fijamos en el comando del contenedor aparece `bash` y junto al estado `Exited (0)` nos indica que ha arrancado Ubuntu, ha ejecutado su *bash*, ha terminado la ejecución y ha devuelto un 0. Esto pasa porque al bash de Ubuntu no se le ha dicho nada que hacer. Para solucionar esto, ahora vamos a ejecutar el contenedor mediante el comando `docker run -it ubuntu`, con `it` lo que le estamos indicando es que lo queremos ejecutar en modo interactivo"
      ]
    },
    {
      "cell_type": "code",
      "execution_count": 31,
      "metadata": {},
      "outputs": [
        {
          "name": "stdout",
          "output_type": "stream",
          "text": [
            "root@5b633e9d838f:/#"
          ]
        }
      ],
      "source": [
        "!docker run -it ubuntu"
      ]
    },
    {
      "cell_type": "markdown",
      "metadata": {},
      "source": [
        "Ahora vemos que estamos dentro del bash de Ubuntu. Si ejecutamos el comando `cat /etc/lsb-release` podemos ver la distribución de Ubuntu"
      ]
    },
    {
      "cell_type": "code",
      "execution_count": 31,
      "metadata": {},
      "outputs": [
        {
          "name": "stdout",
          "output_type": "stream",
          "text": [
            "DISTRIB_ID=Ubuntu\n",
            "DISTRIB_RELEASE=22.04\n",
            "DISTRIB_CODENAME=jammy\n",
            "DISTRIB_DESCRIPTION=\"Ubuntu 22.04.1 LTS\""
          ]
        }
      ],
      "source": [
        "!root@5b633e9d838f:/# cat /etc/lsb-release"
      ]
    },
    {
      "cell_type": "markdown",
      "metadata": {},
      "source": [
        "Si abrimos otra terminal y vemos la lista de contenedores, ahora sí aparecerá el contenedor corriendo Ubuntu"
      ]
    },
    {
      "cell_type": "code",
      "execution_count": 35,
      "metadata": {},
      "outputs": [
        {
          "name": "stdout",
          "output_type": "stream",
          "text": [
            "CONTAINER ID   IMAGE     COMMAND   CREATED         STATUS         PORTS     NAMES\n",
            "5b633e9d838f   ubuntu    \"bash\"    3 minutes ago   Up 3 minutes             funny_mirzakhani\n"
          ]
        }
      ],
      "source": [
        "!docker ps"
      ]
    },
    {
      "cell_type": "markdown",
      "metadata": {},
      "source": [
        "Vemos el contenedor con Ubuntu y en su estado podemos ver `UP`"
      ]
    },
    {
      "cell_type": "markdown",
      "metadata": {},
      "source": [
        "Si vemos ahora la lista de todos los contenedores, veremos que aparecen los dos contenedores con Ubuntu, el primero apagado y el segundo el que está corriendo"
      ]
    },
    {
      "cell_type": "code",
      "execution_count": 36,
      "metadata": {},
      "outputs": [
        {
          "name": "stdout",
          "output_type": "stream",
          "text": [
            "CONTAINER ID   IMAGE     COMMAND   CREATED         STATUS                     PORTS     NAMES\n",
            "5b633e9d838f   ubuntu    \"bash\"    3 minutes ago   Up 3 minutes                         funny_mirzakhani\n",
            "da16b3a85178   ubuntu    \"bash\"    3 minutes ago   Exited (0) 3 minutes ago             hardcore_kare\n"
          ]
        }
      ],
      "source": [
        "!docker ps -a"
      ]
    },
    {
      "cell_type": "markdown",
      "metadata": {},
      "source": [
        "Si volvemos a la terminal donde teníamos Ubuntu corriendo dentro de un docker, si escribimos ``exit`` saldremos de Ubuntu."
      ]
    },
    {
      "cell_type": "code",
      "execution_count": 36,
      "metadata": {},
      "outputs": [
        {
          "name": "stdout",
          "output_type": "stream",
          "text": [
            "exit"
          ]
        }
      ],
      "source": [
        "!root@5b633e9d838f:/# exit"
      ]
    },
    {
      "cell_type": "markdown",
      "metadata": {},
      "source": [
        "Si ejecutamos `docker ps` el contenedor ya no aparece"
      ]
    },
    {
      "cell_type": "code",
      "execution_count": 37,
      "metadata": {},
      "outputs": [
        {
          "name": "stdout",
          "output_type": "stream",
          "text": [
            "CONTAINER ID   IMAGE     COMMAND   CREATED   STATUS    PORTS     NAMES\n"
          ]
        }
      ],
      "source": [
        "!docker ps"
      ]
    },
    {
      "cell_type": "markdown",
      "metadata": {},
      "source": [
        "Pero si ejecuto ``docker ps -a`` sí que aparece. Esto quiere decir que el contenedor se apagó"
      ]
    },
    {
      "cell_type": "code",
      "execution_count": 38,
      "metadata": {},
      "outputs": [
        {
          "name": "stdout",
          "output_type": "stream",
          "text": [
            "CONTAINER ID   IMAGE     COMMAND   CREATED         STATUS                      PORTS     NAMES\n",
            "5b633e9d838f   ubuntu    \"bash\"    4 minutes ago   Exited (0) 27 seconds ago             funny_mirzakhani\n",
            "da16b3a85178   ubuntu    \"bash\"    4 minutes ago   Exited (0) 4 minutes ago              hardcore_kare\n"
          ]
        }
      ],
      "source": [
        "!docker ps -a"
      ]
    },
    {
      "cell_type": "markdown",
      "metadata": {},
      "source": [
        "Esto ocurre porque al escribir ``exit``, en realidad lo estamos escribiendo en la consola del bash de Ubuntu, lo que significa que estamos terminando el proceso bash de Ubuntu."
      ]
    },
    {
      "cell_type": "markdown",
      "metadata": {},
      "source": [
        "### Ciclo de vida de un contenedor"
      ]
    },
    {
      "cell_type": "markdown",
      "metadata": {},
      "source": [
        "En Docker, cuando el proceso principal de un contenedor se termina, se apaga el contenedor. Dentro de un contenedor pueden ejecutarse varios procesos, pero solo cuando se termina el proceso principal se apaga el contenedor\n",
        "\n",
        "Por tanto, si queremos correr un contenedor que no se apague cuando finalice un proceso, debemos hacer que su proceso principal no termine. En este caso, que no finalice bash\n",
        "\n",
        "Si queremos ejecutar un contenedor con Ubuntu, pero que no finalice cuando termine el proceso de Bash lo podemos hacer de la siguiente manera"
      ]
    },
    {
      "cell_type": "code",
      "execution_count": 39,
      "metadata": {},
      "outputs": [
        {
          "name": "stdout",
          "output_type": "stream",
          "text": [
            "ce4d60427dcd4b326d15aa832b816c209761d6b4e067a016bb75bf9366c37054\n"
          ]
        }
      ],
      "source": [
        "!docker run --name alwaysup -d ubuntu tail -f /dev/null"
      ]
    },
    {
      "cell_type": "markdown",
      "metadata": {},
      "source": [
        "Lo que hacemos es primero darle el nombre ``alwaysup``, en segundo lugar pasarle la opción ``-d`` (``detach``) para que el contenedor se ejecute en segundo plano y por último le decimos el proceso principal que queremos que se ejecute en el contenedor, que en este caso es ``tail -f /dev/null`` que equivale a un comando ``nop``\n",
        "\n",
        "Esto nos devolverá la ID del contenedor, pero no estaremos dentro de Ubuntu como pasaba antes"
      ]
    },
    {
      "cell_type": "markdown",
      "metadata": {},
      "source": [
        "Si ahora vemos la lista de contenedores que se están ejecutando, aparece el contenedor que acabamos de crear"
      ]
    },
    {
      "cell_type": "code",
      "execution_count": 40,
      "metadata": {},
      "outputs": [
        {
          "name": "stdout",
          "output_type": "stream",
          "text": [
            "CONTAINER ID   IMAGE     COMMAND               CREATED          STATUS          PORTS     NAMES\n",
            "ce4d60427dcd   ubuntu    \"tail -f /dev/null\"   18 seconds ago   Up 17 seconds             alwaysup\n"
          ]
        }
      ],
      "source": [
        "!docker ps"
      ]
    },
    {
      "cell_type": "markdown",
      "metadata": {},
      "source": [
        "Como ya tenemos un contenedor corriendo siempre, podemos conectarnos al el mediante el comando ``exec``. Le decimos el nombre o la ID del contenedor y le pasamos el proceso que queremos que se ejecuta. Además pasamos la opción ``-it`` para decirle que sea iteractivo"
      ]
    },
    {
      "cell_type": "code",
      "execution_count": 40,
      "metadata": {},
      "outputs": [
        {
          "name": "stdout",
          "output_type": "stream",
          "text": [
            "root@ce4d60427dcd:/#"
          ]
        }
      ],
      "source": [
        "!docker exec -it alwaysup bash"
      ]
    },
    {
      "attachments": {},
      "cell_type": "markdown",
      "metadata": {},
      "source": [
        "Ahora volvemos a estar dentro de Ubuntu. Si ejecutamos el comando ``ps -aux`` podemos ver una lista de los procesos que se están ejecutando dentro de Ubuntu."
      ]
    },
    {
      "cell_type": "code",
      "execution_count": 40,
      "metadata": {},
      "outputs": [
        {
          "name": "stdout",
          "output_type": "stream",
          "text": [
            "USER         PID %CPU %MEM    VSZ   RSS TTY      STAT START   TIME COMMAND\n",
            "root           1  0.0  0.0   2820  1048 ?        Ss   13:04   0:00 tail -f /dev/null\n",
            "root           7  0.0  0.0   4628  3796 pts/0    Ss   13:04   0:00 bash\n",
            "root          15  0.0  0.0   7060  1556 pts/0    R+   13:05   0:00 ps -aux"
          ]
        }
      ],
      "source": [
        "!ps -aux"
      ]
    },
    {
      "attachments": {},
      "cell_type": "markdown",
      "metadata": {},
      "source": [
        "Vemos solo tres procesos, el ``ps -aux``, el ``bash`` y el ``tail -f /dev/null``\n",
        "\n",
        "Este contenedor va a estar siempre encendido mientras el proceso ``tail -f /dev/null`` siga corriendo"
      ]
    },
    {
      "cell_type": "markdown",
      "metadata": {},
      "source": [
        "Si salimos del contenedor con el comando ``exit`` y ejecutamos el comando ``docker ps`` vemos que el contenedor sigue encendido"
      ]
    },
    {
      "cell_type": "code",
      "execution_count": 40,
      "metadata": {},
      "outputs": [
        {
          "name": "stdout",
          "output_type": "stream",
          "text": [
            "exit"
          ]
        }
      ],
      "source": [
        "!exit"
      ]
    },
    {
      "cell_type": "code",
      "execution_count": 41,
      "metadata": {},
      "outputs": [
        {
          "name": "stdout",
          "output_type": "stream",
          "text": [
            "CONTAINER ID   IMAGE     COMMAND               CREATED         STATUS         PORTS     NAMES\n",
            "ce4d60427dcd   ubuntu    \"tail -f /dev/null\"   2 minutes ago   Up 2 minutes             alwaysup\n"
          ]
        }
      ],
      "source": [
        "!docker ps"
      ]
    },
    {
      "cell_type": "markdown",
      "metadata": {},
      "source": [
        "Para poder finalizar el proceso y poder apagar el contenedor debemos usar el comando ``docker stop <name>``"
      ]
    },
    {
      "cell_type": "code",
      "execution_count": 53,
      "metadata": {},
      "outputs": [
        {
          "name": "stdout",
          "output_type": "stream",
          "text": [
            "alwaysup\n"
          ]
        }
      ],
      "source": [
        "!docker stop alwaysup"
      ]
    },
    {
      "cell_type": "markdown",
      "metadata": {},
      "source": [
        "Si ahora volvemos a listar los contenedores encendidos ya no aparece el contenedor con Ubuntu"
      ]
    },
    {
      "cell_type": "code",
      "execution_count": 54,
      "metadata": {},
      "outputs": [
        {
          "name": "stdout",
          "output_type": "stream",
          "text": [
            "CONTAINER ID   IMAGE     COMMAND   CREATED   STATUS    PORTS     NAMES\n"
          ]
        }
      ],
      "source": [
        "!docker ps"
      ]
    },
    {
      "cell_type": "markdown",
      "metadata": {},
      "source": [
        "Y si listamos todos los contenedores, aparece el contenedor con Ubuntu, y su estado ``Exited``"
      ]
    },
    {
      "cell_type": "code",
      "execution_count": 55,
      "metadata": {},
      "outputs": [
        {
          "name": "stdout",
          "output_type": "stream",
          "text": [
            "CONTAINER ID   IMAGE     COMMAND               CREATED          STATUS                            PORTS     NAMES\n",
            "ce4d60427dcd   ubuntu    \"tail -f /dev/null\"   14 minutes ago   Exited (137) About a minute ago             alwaysup\n",
            "5b633e9d838f   ubuntu    \"bash\"                19 minutes ago   Exited (0) 15 minutes ago                   funny_mirzakhani\n",
            "da16b3a85178   ubuntu    \"bash\"                20 minutes ago   Exited (0) 20 minutes ago                   hardcore_kare\n"
          ]
        }
      ],
      "source": [
        "!docker ps -a"
      ]
    },
    {
      "cell_type": "markdown",
      "metadata": {},
      "source": [
        "También podemos pausar un contenedor mediante el comando `docker pause <name>`"
      ]
    },
    {
      "cell_type": "code",
      "execution_count": 5,
      "metadata": {},
      "outputs": [
        {
          "name": "stdout",
          "output_type": "stream",
          "text": [
            "8282eaf9dc3604fa94df206b2062287409cc92cbcd203f1a018742b5c171c9e4\n"
          ]
        }
      ],
      "source": [
        "!docker run --name alwaysup -d ubuntu tail -f /dev/null"
      ]
    },
    {
      "cell_type": "markdown",
      "metadata": {},
      "source": [
        "Ahora lo pausamos"
      ]
    },
    {
      "cell_type": "code",
      "execution_count": 6,
      "metadata": {},
      "outputs": [
        {
          "name": "stdout",
          "output_type": "stream",
          "text": [
            "alwaysup\n"
          ]
        }
      ],
      "source": [
        "!docker pause alwaysup"
      ]
    },
    {
      "cell_type": "markdown",
      "metadata": {},
      "source": [
        "Si volvemos a ver todos los contenedores, vemos que el contenedor con Ubuntu está pausado"
      ]
    },
    {
      "cell_type": "code",
      "execution_count": 7,
      "metadata": {},
      "outputs": [
        {
          "name": "stdout",
          "output_type": "stream",
          "text": [
            "CONTAINER ID   IMAGE     COMMAND               CREATED          STATUS                       PORTS     NAMES\n",
            "8282eaf9dc36   ubuntu    \"tail -f /dev/null\"   41 seconds ago   Up 41 seconds (Paused)                 alwaysup\n",
            "5b633e9d838f   ubuntu    \"bash\"                19 minutes ago   Exited (0) 15 minutes ago              funny_mirzakhani\n",
            "da16b3a85178   ubuntu    \"bash\"                20 minutes ago   Exited (0) 20 minutes ago              hardcore_kare\n"
          ]
        }
      ],
      "source": [
        "!docker ps -a"
      ]
    },
    {
      "cell_type": "markdown",
      "metadata": {},
      "source": [
        "### Contenedores de un solo uso"
      ]
    },
    {
      "cell_type": "markdown",
      "metadata": {},
      "source": [
        "Si a la hora de ejecutar un contenedor, ponemos la opción `--rm`, ese contenedor se va a borrar cuando termine de ejecutarse."
      ]
    },
    {
      "cell_type": "code",
      "execution_count": 77,
      "metadata": {},
      "outputs": [],
      "source": [
        "!docker run --rm --name autoremove ubuntu:latest"
      ]
    },
    {
      "cell_type": "markdown",
      "metadata": {},
      "source": [
        "Si ahora vemos cuáles contenedores tenemos"
      ]
    },
    {
      "cell_type": "code",
      "execution_count": 79,
      "metadata": {},
      "outputs": [
        {
          "name": "stdout",
          "output_type": "stream",
          "text": [
            "CONTAINER ID   IMAGE     COMMAND   CREATED   STATUS    PORTS     NAMES\n"
          ]
        }
      ],
      "source": [
        "!docker ps -a"
      ]
    },
    {
      "cell_type": "markdown",
      "metadata": {},
      "source": [
        "Vemos que no está el contenedor que acabamos de crear"
      ]
    },
    {
      "cell_type": "markdown",
      "metadata": {},
      "source": [
        "### Exponer contenedores al mundo exterior"
      ]
    },
    {
      "cell_type": "markdown",
      "metadata": {},
      "source": [
        "Vamos a crear un nuevo contenedor con un servidor"
      ]
    },
    {
      "cell_type": "code",
      "execution_count": 56,
      "metadata": {},
      "outputs": [
        {
          "name": "stdout",
          "output_type": "stream",
          "text": [
            "Unable to find image 'nginx:latest' locally\n",
            "latest: Pulling from library/nginx\n",
            "\n",
            "\u001b[1Bf1ad4ce1: Pulling fs layer \n",
            "\u001b[1Bb079d0f8: Pulling fs layer \n",
            "\u001b[1B5fbbebc6: Pulling fs layer \n",
            "\u001b[1Bffdd25f4: Pulling fs layer \n",
            "\u001b[1B32c8fba2: Pulling fs layer \n",
            "\u001b[1B24b8ba39: Pull complete 393kB/1.393kBB[5A\u001b[2K\u001b[6A\u001b[2K\u001b[5A\u001b[2K\u001b[6A\u001b[2K\u001b[5A\u001b[2K\u001b[6A\u001b[2K\u001b[5A\u001b[2K\u001b[6A\u001b[2K\u001b[5A\u001b[2K\u001b[3A\u001b[2K\u001b[5A\u001b[2K\u001b[5A\u001b[2K\u001b[6A\u001b[2K\u001b[6A\u001b[2K\u001b[6A\u001b[2K\u001b[2A\u001b[2K\u001b[6A\u001b[2K\u001b[6A\u001b[2K\u001b[6A\u001b[2K\u001b[6A\u001b[2K\u001b[6A\u001b[2K\u001b[6A\u001b[2K\u001b[5A\u001b[2K\u001b[5A\u001b[2K\u001b[5A\u001b[2K\u001b[5A\u001b[2K\u001b[5A\u001b[2K\u001b[4A\u001b[2K\u001b[3A\u001b[2K\u001b[2A\u001b[2K\u001b[1A\u001b[2K\u001b[1A\u001b[2KDigest: sha256:2888a97f7c7d498bbcc47ede1ad0f6ced07d72dfd181071dde051863f1f79d7b\n",
            "Status: Downloaded newer image for nginx:latest\n",
            "1a530e04f14be082811b72ea8b6ea5a95dad3037301ee8a1351a0108ff8d3b30\n"
          ]
        }
      ],
      "source": [
        "!docker run -d --name proxy nginx"
      ]
    },
    {
      "cell_type": "markdown",
      "metadata": {},
      "source": [
        "Esto crea un servidor, vamos a volver a listar los contenedores que están corriendo"
      ]
    },
    {
      "cell_type": "code",
      "execution_count": 57,
      "metadata": {},
      "outputs": [
        {
          "name": "stdout",
          "output_type": "stream",
          "text": [
            "CONTAINER ID   IMAGE     COMMAND                  CREATED        STATUS                  PORTS     NAMES\n",
            "1a530e04f14b   nginx     \"/docker-entrypoint.…\"   1 second ago   Up Less than a second   80/tcp    proxy\n"
          ]
        }
      ],
      "source": [
        "!docker ps"
      ]
    },
    {
      "cell_type": "markdown",
      "metadata": {},
      "source": [
        "Ahora aparece una nueva columna con el puerto, y nos dice que el servidor que acabamos de crear está en el puerto ``80`` bajo el protocolo ``tcp``.\n",
        "\n",
        "Si abrimos un navegador e intentamos conectarnos al servidor mediante ``http://localhost:80`` no conseguimos conectar. Esto es porque cada contenedor tiene su propia interfaz de red. Es decir, el servidor está escuchando en el puerto ``80`` del contenedor, pero nosotros estamos intentando conectar al puerto ``80`` del host"
      ]
    },
    {
      "cell_type": "markdown",
      "metadata": {},
      "source": [
        "Paramos el contenedor para relanzarlo de otra forma"
      ]
    },
    {
      "cell_type": "code",
      "execution_count": 58,
      "metadata": {},
      "outputs": [
        {
          "name": "stdout",
          "output_type": "stream",
          "text": [
            "proxy\n"
          ]
        }
      ],
      "source": [
        "!docker stop proxy"
      ]
    },
    {
      "cell_type": "markdown",
      "metadata": {},
      "source": [
        "Si listamos los contenedores, no aparece corriendo"
      ]
    },
    {
      "cell_type": "code",
      "execution_count": 59,
      "metadata": {},
      "outputs": [
        {
          "name": "stdout",
          "output_type": "stream",
          "text": [
            "CONTAINER ID   IMAGE     COMMAND   CREATED   STATUS    PORTS     NAMES\n"
          ]
        }
      ],
      "source": [
        "!docker ps"
      ]
    },
    {
      "cell_type": "markdown",
      "metadata": {},
      "source": [
        "Lo borramos para volver a crearlo"
      ]
    },
    {
      "cell_type": "code",
      "execution_count": 60,
      "metadata": {},
      "outputs": [
        {
          "name": "stdout",
          "output_type": "stream",
          "text": [
            "proxy\n"
          ]
        }
      ],
      "source": [
        "!docker rm proxy"
      ]
    },
    {
      "cell_type": "markdown",
      "metadata": {},
      "source": [
        "Si listamos todos los contenedores ya no está"
      ]
    },
    {
      "cell_type": "code",
      "execution_count": 61,
      "metadata": {},
      "outputs": [
        {
          "name": "stdout",
          "output_type": "stream",
          "text": [
            "CONTAINER ID   IMAGE     COMMAND               CREATED          STATUS                       PORTS     NAMES\n",
            "ce4d60427dcd   ubuntu    \"tail -f /dev/null\"   19 minutes ago   Exited (137) 5 minutes ago             alwaysup\n",
            "5b633e9d838f   ubuntu    \"bash\"                24 minutes ago   Exited (0) 20 minutes ago              funny_mirzakhani\n",
            "da16b3a85178   ubuntu    \"bash\"                24 minutes ago   Exited (0) 24 minutes ago              hardcore_kare\n"
          ]
        }
      ],
      "source": [
        "!docker ps -a"
      ]
    },
    {
      "cell_type": "markdown",
      "metadata": {},
      "source": [
        "Para volver a crear el contenedor con el servidor y poderlo ver desde el host, tenemos que usar la opción ``-p`` (``publish``), indicando en primer lugar el puerto en el que queremos verlo en el host y a continuación el puerto del contenedor, es decir, ``-p <ip host>:<ip contenedor>``"
      ]
    },
    {
      "cell_type": "code",
      "execution_count": 62,
      "metadata": {},
      "outputs": [
        {
          "name": "stdout",
          "output_type": "stream",
          "text": [
            "c199235e42f76a30266f6e1af972e0a59811806eb3d3a9afdd873f6fa1785eae\n"
          ]
        }
      ],
      "source": [
        "!docker run -d --name proxy -p 8080:80 nginx"
      ]
    },
    {
      "cell_type": "markdown",
      "metadata": {},
      "source": [
        "Listamos los contenedores"
      ]
    },
    {
      "cell_type": "code",
      "execution_count": 63,
      "metadata": {},
      "outputs": [
        {
          "name": "stdout",
          "output_type": "stream",
          "text": [
            "CONTAINER ID   IMAGE     COMMAND                  CREATED          STATUS          PORTS                                   NAMES\n",
            "c199235e42f7   nginx     \"/docker-entrypoint.…\"   22 seconds ago   Up 21 seconds   0.0.0.0:8080->80/tcp, :::8080->80/tcp   proxy\n"
          ]
        }
      ],
      "source": [
        "!docker ps"
      ]
    },
    {
      "cell_type": "markdown",
      "metadata": {},
      "source": [
        "Vemos que el puerto del contenedor es `0.0.0.0:8080->80/tcp`. Si ahora vamos a un navegador e introducimos `0.0.0.0:8080` podremos acceder al servidor del contenedor"
      ]
    },
    {
      "cell_type": "markdown",
      "metadata": {},
      "source": [
        "Al listar los contenedores, en la columna ``PORTS`` indica ``0.0.0.0:8080->80/tcp``, lo que nos ayuda a ver la relación de puertos"
      ]
    },
    {
      "cell_type": "markdown",
      "metadata": {},
      "source": [
        "Para ver los logs del contenedor, mediante el comando ``docker logs <name>`` puedo ver los registros del contenedor"
      ]
    },
    {
      "cell_type": "code",
      "execution_count": 64,
      "metadata": {},
      "outputs": [
        {
          "name": "stdout",
          "output_type": "stream",
          "text": [
            "/docker-entrypoint.sh: /docker-entrypoint.d/ is not empty, will attempt to perform configuration\n",
            "/docker-entrypoint.sh: Looking for shell scripts in /docker-entrypoint.d/\n",
            "/docker-entrypoint.sh: Launching /docker-entrypoint.d/10-listen-on-ipv6-by-default.sh\n",
            "10-listen-on-ipv6-by-default.sh: info: Getting the checksum of /etc/nginx/conf.d/default.conf\n",
            "10-listen-on-ipv6-by-default.sh: info: Enabled listen on IPv6 in /etc/nginx/conf.d/default.conf\n",
            "/docker-entrypoint.sh: Launching /docker-entrypoint.d/20-envsubst-on-templates.sh\n",
            "/docker-entrypoint.sh: Launching /docker-entrypoint.d/30-tune-worker-processes.sh\n",
            "/docker-entrypoint.sh: Configuration complete; ready for start up\n",
            "2022/09/13 13:24:06 [notice] 1#1: using the \"epoll\" event method\n",
            "2022/09/13 13:24:06 [notice] 1#1: nginx/1.23.1\n",
            "2022/09/13 13:24:06 [notice] 1#1: built by gcc 10.2.1 20210110 (Debian 10.2.1-6) \n",
            "2022/09/13 13:24:06 [notice] 1#1: OS: Linux 5.15.0-46-generic\n",
            "2022/09/13 13:24:06 [notice] 1#1: getrlimit(RLIMIT_NOFILE): 1048576:1048576\n",
            "2022/09/13 13:24:06 [notice] 1#1: start worker processes\n",
            "2022/09/13 13:24:06 [notice] 1#1: start worker process 31\n",
            "2022/09/13 13:24:06 [notice] 1#1: start worker process 32\n",
            "2022/09/13 13:24:06 [notice] 1#1: start worker process 33\n",
            "2022/09/13 13:24:06 [notice] 1#1: start worker process 34\n",
            "2022/09/13 13:24:06 [notice] 1#1: start worker process 35\n",
            "2022/09/13 13:24:06 [notice] 1#1: start worker process 36\n",
            "2022/09/13 13:24:06 [notice] 1#1: start worker process 37\n",
            "2022/09/13 13:24:06 [notice] 1#1: start worker process 38\n",
            "2022/09/13 13:24:06 [notice] 1#1: start worker process 39\n",
            "2022/09/13 13:24:06 [notice] 1#1: start worker process 40\n",
            "2022/09/13 13:24:06 [notice] 1#1: start worker process 41\n",
            "...\n",
            "172.17.0.1 - - [13/Sep/2022:13:24:40 +0000] \"GET /favicon.ico HTTP/1.1\" 404 555 \"http://0.0.0.0:8080/\" \"Mozilla/5.0 (X11; Linux x86_64) AppleWebKit/537.36 (KHTML, like Gecko) Chrome/105.0.0.0 Safari/537.36\" \"-\"\n",
            "172.17.0.1 - - [13/Sep/2022:13:25:00 +0000] \"\\x16\\x03\\x01\\x02\\x00\\x01\\x00\\x01\\xFC\\x03\\x03\\xE2\\x19V$Zqi'\\xD7\\xFC[\\x80\\xEF\\xBA\\xE5\\xC7\\xE8\\xF7&3nS\\xEB\\xC9\\xEC\\x91\\xC2\\xD8\\xD1\\x89\\x9E\\xBE \\xC7?\\xE1\\xFA\\x04a\\x1C\\xCE\\x90\\x0F\\x8F\\x98u\\xE3/\\xD8RfOH\\xEC\\x92+\\x93\\x5C\\xBB\\xB1\\xBF\\xD2m\\xB09\\x00 \\xFA\\xFA\\x13\\x01\\x13\\x02\\x13\\x03\\xC0+\\xC0/\\xC0,\\xC00\\xCC\\xA9\\xCC\\xA8\\xC0\\x13\\xC0\\x14\\x00\\x9C\\x00\\x9D\\x00/\\x005\\x01\\x00\\x01\\x93\\x9A\\x9A\\x00\\x00\\x00\\x00\\x00\\x0E\\x00\\x0C\\x00\\x00\\x09localhost\\x00\\x17\\x00\\x00\\xFF\\x01\\x00\\x01\\x00\\x00\" 400 157 \"-\" \"-\" \"-\"\n",
            "172.17.0.1 - - [13/Sep/2022:13:25:00 +0000] \"\\x16\\x03\\x01\\x02\\x00\\x01\\x00\\x01\\xFC\\x03\\x03)\\x9A\\x8FbC\\xD9m\\xF1\\x86\\xEBd\\x22\\xCF\\xC4E\\x87#~L\\xC1\\x84\\x7F\\xB5\\x91k\\x98\\xABl\\xEE\\x1E[0 \\xD0\\xD2`\\x85\\xC6\\x8B\\x85R\\x8B\\x87\\xEAq{P\\xF2\\xFB\\xE2\\xA8\\x9DI\\xF4tH\\x99\\x13\\x10~\\xCA1-|\\x8E\\x00 \\xEA\\xEA\\x13\\x01\\x13\\x02\\x13\\x03\\xC0+\\xC0/\\xC0,\\xC00\\xCC\\xA9\\xCC\\xA8\\xC0\\x13\\xC0\\x14\\x00\\x9C\\x00\\x9D\\x00/\\x005\\x01\\x00\\x01\\x93\" 400 157 \"-\" \"-\" \"-\"\n",
            "172.17.0.1 - - [13/Sep/2022:13:26:28 +0000] \"GET / HTTP/1.1\" 304 0 \"-\" \"Mozilla/5.0 (X11; Linux x86_64) AppleWebKit/537.36 (KHTML, like Gecko) Chrome/105.0.0.0 Safari/537.36\" \"-\"\n"
          ]
        }
      ],
      "source": [
        "!docker logs proxy"
      ]
    },
    {
      "attachments": {},
      "cell_type": "markdown",
      "metadata": {},
      "source": [
        "Ahora puedo ver todas las peticiones que se le han hecho al servidor. Pero si quiero ver los logs en tiempo real, mediante ``docker logs -f <name>`` lo puedo hacer"
      ]
    },
    {
      "cell_type": "code",
      "execution_count": 64,
      "metadata": {},
      "outputs": [
        {
          "name": "stdout",
          "output_type": "stream",
          "text": []
        }
      ],
      "source": [
        "!docker logs -f proxy"
      ]
    },
    {
      "attachments": {},
      "cell_type": "markdown",
      "metadata": {},
      "source": [
        "Ahora puedo ver los logs en tiempo real. Para salir introducir ``CTRL+C``"
      ]
    },
    {
      "cell_type": "markdown",
      "metadata": {},
      "source": [
        "Como puede llegar un momento en el que haya muchos logs, si solo quieres los últimos logs, mediante la opción ``--tail <num>`` puedes ver los últimos ``<num>`` logs. Si añado la opción ``-f`` estaremos viendo siempre los últimos ``<num>`` logs"
      ]
    },
    {
      "cell_type": "code",
      "execution_count": 65,
      "metadata": {},
      "outputs": [
        {
          "name": "stdout",
          "output_type": "stream",
          "text": [
            "2022/09/13 13:24:06 [notice] 1#1: start worker process 41\n",
            "2022/09/13 13:24:06 [notice] 1#1: start worker process 42\n",
            "172.17.0.1 - - [13/Sep/2022:13:24:16 +0000] \"\\x16\\x03\\x01\\x02\\x00\\x01\\x00\\x01\\xFC\\x03\\x03\\x01E\\x14\\x8E\\xB6\\x0BEg\\xF3\\xC9\\x9A\\x19\\x9C\\xCA\\xEC\\xA7y#3\\x92\\x05\\x95\\xDCQ\\x07\\x19\\x1D\\xEF\\xEA$\\xBF# \\x0B\\x83\\xF7-,s\\x1B!r\\xEA|\\xAE\\xDF\\xA1\\x9DLZ\\xAA4y\\xB3t\\xAB\\xC0\\xCE_\\xB8\\xE7\\xFF'\\xCF\\x86\\x00 \\xEA\\xEA\\x13\\x01\\x13\\x02\\x13\\x03\\xC0+\\xC0/\\xC0,\\xC00\\xCC\\xA9\\xCC\\xA8\\xC0\\x13\\xC0\\x14\\x00\\x9C\\x00\\x9D\\x00/\\x005\\x01\\x00\\x01\\x93\\x8A\\x8A\\x00\\x00\\x00\\x00\\x00\\x0E\\x00\\x0C\\x00\\x00\\x09localhost\\x00\\x17\\x00\\x00\\xFF\\x01\\x00\\x01\\x00\\x00\" 400 157 \"-\" \"-\" \"-\"\n",
            "172.17.0.1 - - [13/Sep/2022:13:24:16 +0000] \"\\x16\\x03\\x01\\x02\\x00\\x01\\x00\\x01\\xFC\\x03\\x03}\\xA9Dr{\\x8C;\\x90z\\x82\\xAD\\xBC\\x8Az\\xC2x\\xDF\\x1E\\x9A\\xE6l?\\xA7\\xE0DoK\\x91'g\\xBB\\xB5 %\\xBB\\xFD\\xD9\\x82?\\xDB\\x80\\xB3T\\xF6cJ\\xF7\\xE5\\xC2\\xD2\\x11\\xBC\\xA2\\x1F\\x90\\x14\\xA3\\xEB\\xBD=R\\xBC\\x83\\x89\\x85\\x00 \\xCA\\xCA\\x13\\x01\\x13\\x02\\x13\\x03\\xC0+\\xC0/\\xC0,\\xC00\\xCC\\xA9\\xCC\\xA8\\xC0\\x13\\xC0\\x14\\x00\\x9C\\x00\\x9D\\x00/\\x005\\x01\\x00\\x01\\x93\\x9A\\x9A\\x00\\x00\\x00\\x00\\x00\\x0E\\x00\\x0C\\x00\\x00\\x09localhost\\x00\\x17\\x00\\x00\\xFF\\x01\\x00\\x01\\x00\\x00\" 400 157 \"-\" \"-\" \"-\"\n",
            "172.17.0.1 - - [13/Sep/2022:13:24:39 +0000] \"GET / HTTP/1.1\" 200 615 \"-\" \"Mozilla/5.0 (X11; Linux x86_64) AppleWebKit/537.36 (KHTML, like Gecko) Chrome/105.0.0.0 Safari/537.36\" \"-\"\n",
            "2022/09/13 13:24:40 [error] 34#34: *3 open() \"/usr/share/nginx/html/favicon.ico\" failed (2: No such file or directory), client: 172.17.0.1, server: localhost, request: \"GET /favicon.ico HTTP/1.1\", host: \"0.0.0.0:8080\", referrer: \"http://0.0.0.0:8080/\"\n",
            "172.17.0.1 - - [13/Sep/2022:13:24:40 +0000] \"GET /favicon.ico HTTP/1.1\" 404 555 \"http://0.0.0.0:8080/\" \"Mozilla/5.0 (X11; Linux x86_64) AppleWebKit/537.36 (KHTML, like Gecko) Chrome/105.0.0.0 Safari/537.36\" \"-\"\n",
            "172.17.0.1 - - [13/Sep/2022:13:25:00 +0000] \"\\x16\\x03\\x01\\x02\\x00\\x01\\x00\\x01\\xFC\\x03\\x03\\xE2\\x19V$Zqi'\\xD7\\xFC[\\x80\\xEF\\xBA\\xE5\\xC7\\xE8\\xF7&3nS\\xEB\\xC9\\xEC\\x91\\xC2\\xD8\\xD1\\x89\\x9E\\xBE \\xC7?\\xE1\\xFA\\x04a\\x1C\\xCE\\x90\\x0F\\x8F\\x98u\\xE3/\\xD8RfOH\\xEC\\x92+\\x93\\x5C\\xBB\\xB1\\xBF\\xD2m\\xB09\\x00 \\xFA\\xFA\\x13\\x01\\x13\\x02\\x13\\x03\\xC0+\\xC0/\\xC0,\\xC00\\xCC\\xA9\\xCC\\xA8\\xC0\\x13\\xC0\\x14\\x00\\x9C\\x00\\x9D\\x00/\\x005\\x01\\x00\\x01\\x93\\x9A\\x9A\\x00\\x00\\x00\\x00\\x00\\x0E\\x00\\x0C\\x00\\x00\\x09localhost\\x00\\x17\\x00\\x00\\xFF\\x01\\x00\\x01\\x00\\x00\" 400 157 \"-\" \"-\" \"-\"\n",
            "172.17.0.1 - - [13/Sep/2022:13:25:00 +0000] \"\\x16\\x03\\x01\\x02\\x00\\x01\\x00\\x01\\xFC\\x03\\x03)\\x9A\\x8FbC\\xD9m\\xF1\\x86\\xEBd\\x22\\xCF\\xC4E\\x87#~L\\xC1\\x84\\x7F\\xB5\\x91k\\x98\\xABl\\xEE\\x1E[0 \\xD0\\xD2`\\x85\\xC6\\x8B\\x85R\\x8B\\x87\\xEAq{P\\xF2\\xFB\\xE2\\xA8\\x9DI\\xF4tH\\x99\\x13\\x10~\\xCA1-|\\x8E\\x00 \\xEA\\xEA\\x13\\x01\\x13\\x02\\x13\\x03\\xC0+\\xC0/\\xC0,\\xC00\\xCC\\xA9\\xCC\\xA8\\xC0\\x13\\xC0\\x14\\x00\\x9C\\x00\\x9D\\x00/\\x005\\x01\\x00\\x01\\x93\" 400 157 \"-\" \"-\" \"-\"\n",
            "172.17.0.1 - - [13/Sep/2022:13:26:28 +0000] \"GET / HTTP/1.1\" 304 0 \"-\" \"Mozilla/5.0 (X11; Linux x86_64) AppleWebKit/537.36 (KHTML, like Gecko) Chrome/105.0.0.0 Safari/537.36\" \"-\"\n"
          ]
        }
      ],
      "source": [
        "!docker logs --tail 10 proxy"
      ]
    },
    {
      "cell_type": "markdown",
      "metadata": {},
      "source": [
        "Si además añadimos la opción `-t` podemos ver la fecha y hora de cada log, de esta manera si hemos tenido un problema, podemos saber en qué momento ha ocurrido"
      ]
    },
    {
      "cell_type": "code",
      "execution_count": 100,
      "metadata": {},
      "outputs": [
        {
          "name": "stdout",
          "output_type": "stream",
          "text": [
            "2022-09-13T13:24:06.573362728Z 2022/09/13 13:24:06 [notice] 1#1: start worker process 41\n",
            "2022-09-13T13:24:06.651127107Z 2022/09/13 13:24:06 [notice] 1#1: start worker process 42\n",
            "2022-09-13T13:24:16.651160189Z 172.17.0.1 - - [13/Sep/2022:13:24:16 +0000] \"\\x16\\x03\\x01\\x02\\x00\\x01\\x00\\x01\\xFC\\x03\\x03\\x01E\\x14\\x8E\\xB6\\x0BEg\\xF3\\xC9\\x9A\\x19\\x9C\\xCA\\xEC\\xA7y#3\\x92\\x05\\x95\\xDCQ\\x07\\x19\\x1D\\xEF\\xEA$\\xBF# \\x0B\\x83\\xF7-,s\\x1B!r\\xEA|\\xAE\\xDF\\xA1\\x9DLZ\\xAA4y\\xB3t\\xAB\\xC0\\xCE_\\xB8\\xE7\\xFF'\\xCF\\x86\\x00 \\xEA\\xEA\\x13\\x01\\x13\\x02\\x13\\x03\\xC0+\\xC0/\\xC0,\\xC00\\xCC\\xA9\\xCC\\xA8\\xC0\\x13\\xC0\\x14\\x00\\x9C\\x00\\x9D\\x00/\\x005\\x01\\x00\\x01\\x93\\x8A\\x8A\\x00\\x00\\x00\\x00\\x00\\x0E\\x00\\x0C\\x00\\x00\\x09localhost\\x00\\x17\\x00\\x00\\xFF\\x01\\x00\\x01\\x00\\x00\" 400 157 \"-\" \"-\" \"-\"\n",
            "2022-09-13T13:24:16.116817914Z 172.17.0.1 - - [13/Sep/2022:13:24:16 +0000] \"\\x16\\x03\\x01\\x02\\x00\\x01\\x00\\x01\\xFC\\x03\\x03}\\xA9Dr{\\x8C;\\x90z\\x82\\xAD\\xBC\\x8Az\\xC2x\\xDF\\x1E\\x9A\\xE6l?\\xA7\\xE0DoK\\x91'g\\xBB\\xB5 %\\xBB\\xFD\\xD9\\x82?\\xDB\\x80\\xB3T\\xF6cJ\\xF7\\xE5\\xC2\\xD2\\x11\\xBC\\xA2\\x1F\\x90\\x14\\xA3\\xEB\\xBD=R\\xBC\\x83\\x89\\x85\\x00 \\xCA\\xCA\\x13\\x01\\x13\\x02\\x13\\x03\\xC0+\\xC0/\\xC0,\\xC00\\xCC\\xA9\\xCC\\xA8\\xC0\\x13\\xC0\\x14\\x00\\x9C\\x00\\x9D\\x00/\\x005\\x01\\x00\\x01\\x93\\x9A\\x9A\\x00\\x00\\x00\\x00\\x00\\x0E\\x00\\x0C\\x00\\x00\\x09localhost\\x00\\x17\\x00\\x00\\xFF\\x01\\x00\\x01\\x00\\x00\" 400 157 \"-\" \"-\" \"-\"\n",
            "2022-09-13T13:24:39.117398081Z 172.17.0.1 - - [13/Sep/2022:13:24:39 +0000] \"GET / HTTP/1.1\" 200 615 \"-\" \"Mozilla/5.0 (X11; Linux x86_64) AppleWebKit/537.36 (KHTML, like Gecko) Chrome/105.0.0.0 Safari/537.36\" \"-\"\n",
            "2022-09-13T13:24:39.117412408Z 2022/09/13 13:24:40 [error] 34#34: *3 open() \"/usr/share/nginx/html/favicon.ico\" failed (2: No such file or directory), client: 172.17.0.1, server: localhost, request: \"GET /favicon.ico HTTP/1.1\", host: \"0.0.0.0:8080\", referrer: \"http://0.0.0.0:8080/\"\n",
            "2022-09-13T13:24:40.117419389Z 172.17.0.1 - - [13/Sep/2022:13:24:40 +0000] \"GET /favicon.ico HTTP/1.1\" 404 555 \"http://0.0.0.0:8080/\" \"Mozilla/5.0 (X11; Linux x86_64) AppleWebKit/537.36 (KHTML, like Gecko) Chrome/105.0.0.0 Safari/537.36\" \"-\"\n",
            "2022-09-13T13:25:00.117434249Z 172.17.0.1 - - [13/Sep/2022:13:25:00 +0000] \"\\x16\\x03\\x01\\x02\\x00\\x01\\x00\\x01\\xFC\\x03\\x03\\xE2\\x19V$Zqi'\\xD7\\xFC[\\x80\\xEF\\xBA\\xE5\\xC7\\xE8\\xF7&3nS\\xEB\\xC9\\xEC\\x91\\xC2\\xD8\\xD1\\x89\\x9E\\xBE \\xC7?\\xE1\\xFA\\x04a\\x1C\\xCE\\x90\\x0F\\x8F\\x98u\\xE3/\\xD8RfOH\\xEC\\x92+\\x93\\x5C\\xBB\\xB1\\xBF\\xD2m\\xB09\\x00 \\xFA\\xFA\\x13\\x01\\x13\\x02\\x13\\x03\\xC0+\\xC0/\\xC0,\\xC00\\xCC\\xA9\\xCC\\xA8\\xC0\\x13\\xC0\\x14\\x00\\x9C\\x00\\x9D\\x00/\\x005\\x01\\x00\\x01\\x93\\x9A\\x9A\\x00\\x00\\x00\\x00\\x00\\x0E\\x00\\x0C\\x00\\x00\\x09localhost\\x00\\x17\\x00\\x00\\xFF\\x01\\x00\\x01\\x00\\x00\" 400 157 \"-\" \"-\" \"-\"\n",
            "2022-09-13T13:25:00.223560881Z 172.17.0.1 - - [13/Sep/2022:13:25:00 +0000] \"\\x16\\x03\\x01\\x02\\x00\\x01\\x00\\x01\\xFC\\x03\\x03)\\x9A\\x8FbC\\xD9m\\xF1\\x86\\xEBd\\x22\\xCF\\xC4E\\x87#~L\\xC1\\x84\\x7F\\xB5\\x91k\\x98\\xABl\\xEE\\x1E[0 \\xD0\\xD2`\\x85\\xC6\\x8B\\x85R\\x8B\\x87\\xEAq{P\\xF2\\xFB\\xE2\\xA8\\x9DI\\xF4tH\\x99\\x13\\x10~\\xCA1-|\\x8E\\x00 \\xEA\\xEA\\x13\\x01\\x13\\x02\\x13\\x03\\xC0+\\xC0/\\xC0,\\xC00\\xCC\\xA9\\xCC\\xA8\\xC0\\x13\\xC0\\x14\\x00\\x9C\\x00\\x9D\\x00/\\x005\\x01\\x00\\x01\\x93\" 400 157 \"-\" \"-\" \"-\"\n",
            "2022-09-13T13:26:25.223596738Z 172.17.0.1 - - [13/Sep/2022:13:26:28 +0000] \"GET / HTTP/1.1\" 304 0 \"-\" \"Mozilla/5.0 (X11; Linux x86_64) AppleWebKit/537.36 (KHTML, like Gecko) Chrome/105.0.0.0 Safari/537.36\" \"-\"\n"
          ]
        }
      ],
      "source": [
        "!docker logs --tail -t 10 proxy"
      ]
    },
    {
      "cell_type": "markdown",
      "metadata": {},
      "source": [
        "Paramos y borramos el contenedor"
      ]
    },
    {
      "cell_type": "code",
      "execution_count": 71,
      "metadata": {},
      "outputs": [
        {
          "name": "stdout",
          "output_type": "stream",
          "text": [
            "proxy\n"
          ]
        }
      ],
      "source": [
        "!docker rm -f proxy"
      ]
    },
    {
      "cell_type": "code",
      "execution_count": 72,
      "metadata": {},
      "outputs": [
        {
          "name": "stdout",
          "output_type": "stream",
          "text": [
            "CONTAINER ID   IMAGE     COMMAND               CREATED          STATUS                        PORTS     NAMES\n",
            "ce4d60427dcd   ubuntu    \"tail -f /dev/null\"   26 minutes ago   Exited (137) 13 minutes ago             alwaysup\n",
            "5b633e9d838f   ubuntu    \"bash\"                31 minutes ago   Exited (0) 27 minutes ago               funny_mirzakhani\n",
            "da16b3a85178   ubuntu    \"bash\"                32 minutes ago   Exited (0) 32 minutes ago               hardcore_kare\n"
          ]
        }
      ],
      "source": [
        "!docker ps -a"
      ]
    },
    {
      "cell_type": "markdown",
      "metadata": {},
      "source": [
        "## Datos en Docker"
      ]
    },
    {
      "cell_type": "markdown",
      "metadata": {},
      "source": [
        "### Bind mounts"
      ]
    },
    {
      "cell_type": "markdown",
      "metadata": {},
      "source": [
        "Vamos a ver los contenedores que tenemos parados"
      ]
    },
    {
      "cell_type": "code",
      "execution_count": 73,
      "metadata": {},
      "outputs": [
        {
          "name": "stdout",
          "output_type": "stream",
          "text": [
            "CONTAINER ID   IMAGE     COMMAND               CREATED          STATUS                        PORTS     NAMES\n",
            "ce4d60427dcd   ubuntu    \"tail -f /dev/null\"   26 minutes ago   Exited (137) 13 minutes ago             alwaysup\n",
            "5b633e9d838f   ubuntu    \"bash\"                31 minutes ago   Exited (0) 28 minutes ago               funny_mirzakhani\n",
            "da16b3a85178   ubuntu    \"bash\"                32 minutes ago   Exited (0) 32 minutes ago               hardcore_kare\n"
          ]
        }
      ],
      "source": [
        "!docker ps -a"
      ]
    },
    {
      "cell_type": "markdown",
      "metadata": {},
      "source": [
        "Vamos a borrar los dos de Ubuntu en los que su comando principal es la Bash y vamos a dejar el que dejamos como no operación"
      ]
    },
    {
      "cell_type": "code",
      "execution_count": 75,
      "metadata": {},
      "outputs": [
        {
          "name": "stdout",
          "output_type": "stream",
          "text": [
            "funny_mirzakhani\n"
          ]
        }
      ],
      "source": [
        "!docker rm funny_mirzakhani"
      ]
    },
    {
      "cell_type": "code",
      "execution_count": 76,
      "metadata": {},
      "outputs": [
        {
          "name": "stdout",
          "output_type": "stream",
          "text": [
            "hardcore_kare\n"
          ]
        }
      ],
      "source": [
        "!docker rm hardcore_kare"
      ]
    },
    {
      "cell_type": "code",
      "execution_count": 77,
      "metadata": {},
      "outputs": [
        {
          "name": "stdout",
          "output_type": "stream",
          "text": [
            "CONTAINER ID   IMAGE     COMMAND               CREATED          STATUS                        PORTS     NAMES\n",
            "ce4d60427dcd   ubuntu    \"tail -f /dev/null\"   27 minutes ago   Exited (137) 14 minutes ago             alwaysup\n"
          ]
        }
      ],
      "source": [
        "!docker ps -a"
      ]
    },
    {
      "cell_type": "markdown",
      "metadata": {},
      "source": [
        "Vamos a volver a ejecutar el contenedor de Ubuntu que hemos dejado, esto se hace mediante el comando `start`"
      ]
    },
    {
      "cell_type": "code",
      "execution_count": 78,
      "metadata": {},
      "outputs": [
        {
          "name": "stdout",
          "output_type": "stream",
          "text": [
            "alwaysup\n"
          ]
        }
      ],
      "source": [
        "!docker start alwaysup"
      ]
    },
    {
      "attachments": {},
      "cell_type": "markdown",
      "metadata": {},
      "source": [
        "Nos metemos otra vez dentro de el"
      ]
    },
    {
      "cell_type": "code",
      "execution_count": 78,
      "metadata": {},
      "outputs": [
        {
          "name": "stdout",
          "output_type": "stream",
          "text": [
            "root@ce4d60427dcd:/#\n"
          ]
        }
      ],
      "source": [
        "!docker exec -it alwaysup bash"
      ]
    },
    {
      "attachments": {},
      "cell_type": "markdown",
      "metadata": {},
      "source": [
        "En el contenedor, puedo crear una nueva carpeta que se llame `dockerfolder`"
      ]
    },
    {
      "cell_type": "code",
      "execution_count": 78,
      "metadata": {},
      "outputs": [
        {
          "name": "stdout",
          "output_type": "stream",
          "text": []
        }
      ],
      "source": [
        "!mkdir dockerfolder"
      ]
    },
    {
      "attachments": {},
      "cell_type": "markdown",
      "metadata": {},
      "source": [
        "Si listamos los archivos aparecerá la nueva carpeta"
      ]
    },
    {
      "cell_type": "code",
      "execution_count": 78,
      "metadata": {},
      "outputs": [
        {
          "name": "stdout",
          "output_type": "stream",
          "text": [
            "bin  boot  dev  dockerfolder  etc  home  lib  lib32  lib64  libx32  media  mnt  opt  proc  root  run  sbin  srv  sys  tmp  usr  var"
          ]
        }
      ],
      "source": [
        "!ls"
      ]
    },
    {
      "attachments": {},
      "cell_type": "markdown",
      "metadata": {},
      "source": [
        "Si salimos del contenedor"
      ]
    },
    {
      "cell_type": "code",
      "execution_count": 78,
      "metadata": {},
      "outputs": [
        {
          "name": "stdout",
          "output_type": "stream",
          "text": [
            "exit"
          ]
        }
      ],
      "source": [
        "!exit"
      ]
    },
    {
      "attachments": {},
      "cell_type": "markdown",
      "metadata": {},
      "source": [
        "Y lo borramos"
      ]
    },
    {
      "cell_type": "code",
      "execution_count": 79,
      "metadata": {},
      "outputs": [
        {
          "name": "stdout",
          "output_type": "stream",
          "text": [
            "alwaysup\n"
          ]
        }
      ],
      "source": [
        "!docker rm -f alwaysup"
      ]
    },
    {
      "cell_type": "markdown",
      "metadata": {},
      "source": [
        "Si listamos todos los contenedores, ya no aparece el último que hemos creado"
      ]
    },
    {
      "cell_type": "code",
      "execution_count": 81,
      "metadata": {},
      "outputs": [
        {
          "name": "stdout",
          "output_type": "stream",
          "text": [
            "CONTAINER ID   IMAGE     COMMAND   CREATED   STATUS    PORTS     NAMES\n"
          ]
        }
      ],
      "source": [
        "!docker ps -a"
      ]
    },
    {
      "cell_type": "markdown",
      "metadata": {},
      "source": [
        "Vamos a volver a hacer todo, pero primero vamos a crear una carpeta en el host en la que compartiremos los datos con el contenedor"
      ]
    },
    {
      "cell_type": "code",
      "execution_count": 82,
      "metadata": {},
      "outputs": [],
      "source": [
        "!mkdir dockerHostFolder"
      ]
    },
    {
      "cell_type": "markdown",
      "metadata": {},
      "source": [
        "Vemos que dentro de la carpeta no hay nada"
      ]
    },
    {
      "cell_type": "code",
      "execution_count": 83,
      "metadata": {},
      "outputs": [],
      "source": [
        "!ls dockerHostFolder"
      ]
    },
    {
      "cell_type": "markdown",
      "metadata": {},
      "source": [
        "Ahora obtenemos nuestra ruta absoluta"
      ]
    },
    {
      "cell_type": "code",
      "execution_count": 84,
      "metadata": {},
      "outputs": [
        {
          "name": "stdout",
          "output_type": "stream",
          "text": [
            "/home/wallabot/Documentos/web/portafolio/posts\n"
          ]
        }
      ],
      "source": [
        "!pwd"
      ]
    },
    {
      "cell_type": "markdown",
      "metadata": {},
      "source": [
        "Volvemos a crear el contenedor pero añadiendo la opción ``-v`` (``bind mount``). A continuación se añade la ruta absoluta de la carpeta del host y la ruta absoluta de la carpeta en el contenedor, ``-v <host path>:<container path>``"
      ]
    },
    {
      "cell_type": "code",
      "execution_count": 87,
      "metadata": {},
      "outputs": [
        {
          "name": "stdout",
          "output_type": "stream",
          "text": [
            "4ede4512c293bdcc155e9c8e874dfb4a28e5163f4d5c7ddda24ad2863f28921b\n"
          ]
        }
      ],
      "source": [
        "!docker run -d --name alwaysup -v ~/Documentos/web/portafolio/posts/dockerHostFolder:/dockerContainerFolder ubuntu tail -f /dev/null"
      ]
    },
    {
      "attachments": {},
      "cell_type": "markdown",
      "metadata": {},
      "source": [
        "Entramos al contenedor, listamos los archivos y ya aparece la carpeta que habíamos creado"
      ]
    },
    {
      "cell_type": "code",
      "execution_count": 87,
      "metadata": {},
      "outputs": [
        {
          "name": "stdout",
          "output_type": "stream",
          "text": [
            "root@4ede4512c293:/#"
          ]
        }
      ],
      "source": [
        "!docker exec -it alwaysup bash"
      ]
    },
    {
      "cell_type": "code",
      "execution_count": 87,
      "metadata": {},
      "outputs": [
        {
          "name": "stdout",
          "output_type": "stream",
          "text": [
            "bin   dev                    etc   lib    lib64   media  opt   root  sbin  sys  usr\n",
            "boot  dockerContainerFolder  home  lib32  libx32  mnt    proc  run   srv   tmp  var\n"
          ]
        }
      ],
      "source": [
        "root@4ede4512c293:/# ls"
      ]
    },
    {
      "attachments": {},
      "cell_type": "markdown",
      "metadata": {},
      "source": [
        "Vamos al directorio del contenedor que hemos compartido, creamos un archivo y salimos del contenedor"
      ]
    },
    {
      "cell_type": "code",
      "execution_count": 87,
      "metadata": {},
      "outputs": [
        {
          "name": "stdout",
          "output_type": "stream",
          "text": []
        }
      ],
      "source": [
        "root@4ede4512c293:/# cd dockerContainerFolder"
      ]
    },
    {
      "cell_type": "code",
      "execution_count": 87,
      "metadata": {},
      "outputs": [
        {
          "name": "stdout",
          "output_type": "stream",
          "text": []
        }
      ],
      "source": [
        "root@4ede4512c293:/dockerContainerFolder# touch bindFile.txt"
      ]
    },
    {
      "cell_type": "code",
      "execution_count": 87,
      "metadata": {},
      "outputs": [
        {
          "name": "stdout",
          "output_type": "stream",
          "text": [
            "exit"
          ]
        }
      ],
      "source": [
        "root@4ede4512c293:/dockerContainerFolder# exit"
      ]
    },
    {
      "cell_type": "markdown",
      "metadata": {},
      "source": [
        "Vemos qué hay dentro de la carpeta compartida"
      ]
    },
    {
      "cell_type": "code",
      "execution_count": 88,
      "metadata": {},
      "outputs": [
        {
          "name": "stdout",
          "output_type": "stream",
          "text": [
            "bindFile.txt\n"
          ]
        }
      ],
      "source": [
        "!ls dockerHostFolder"
      ]
    },
    {
      "cell_type": "markdown",
      "metadata": {},
      "source": [
        "Pero es más, si borramos el contenedor, el archivo sigue allí"
      ]
    },
    {
      "cell_type": "code",
      "execution_count": 89,
      "metadata": {},
      "outputs": [
        {
          "name": "stdout",
          "output_type": "stream",
          "text": [
            "alwaysup\n"
          ]
        }
      ],
      "source": [
        "!docker rm -f alwaysup"
      ]
    },
    {
      "cell_type": "code",
      "execution_count": 90,
      "metadata": {},
      "outputs": [
        {
          "name": "stdout",
          "output_type": "stream",
          "text": [
            "bindFile.txt\n"
          ]
        }
      ],
      "source": [
        "!ls dockerHostFolder"
      ]
    },
    {
      "cell_type": "markdown",
      "metadata": {},
      "source": [
        "Si vuelvo a crear un contenedor compartiendo las carpetas, todos los archivos estarán en el contenedor"
      ]
    },
    {
      "cell_type": "code",
      "execution_count": 91,
      "metadata": {},
      "outputs": [
        {
          "name": "stdout",
          "output_type": "stream",
          "text": [
            "6c021d37ea29d8b23fe5cd4968baa446085ae1756682f65340288b4c851c362d\n"
          ]
        }
      ],
      "source": [
        "!docker run -d --name alwaysup -v ~/Documentos/web/portafolio/posts/dockerHostFolder:/dockerContainerFolder ubuntu tail -f /dev/null"
      ]
    },
    {
      "cell_type": "code",
      "execution_count": 91,
      "metadata": {},
      "outputs": [
        {
          "name": "stdout",
          "output_type": "stream",
          "text": [
            "root@6c021d37ea29:/#"
          ]
        }
      ],
      "source": [
        "!docker exec -it alwaysup bash"
      ]
    },
    {
      "cell_type": "code",
      "execution_count": 91,
      "metadata": {},
      "outputs": [
        {
          "name": "stdout",
          "output_type": "stream",
          "text": [
            "bindFile.txt:/#"
          ]
        }
      ],
      "source": [
        "!root@6c021d37ea29:/# ls dockerContainerFolder/"
      ]
    },
    {
      "cell_type": "markdown",
      "metadata": {},
      "source": [
        "Eliminamos el contenedor"
      ]
    },
    {
      "cell_type": "code",
      "execution_count": 92,
      "metadata": {},
      "outputs": [
        {
          "name": "stdout",
          "output_type": "stream",
          "text": [
            "alwaysup\n"
          ]
        }
      ],
      "source": [
        "!docker rm -f alwaysup"
      ]
    },
    {
      "cell_type": "code",
      "execution_count": 93,
      "metadata": {},
      "outputs": [
        {
          "name": "stdout",
          "output_type": "stream",
          "text": [
            "CONTAINER ID   IMAGE     COMMAND   CREATED   STATUS    PORTS     NAMES\n"
          ]
        }
      ],
      "source": [
        "!docker ps -a"
      ]
    },
    {
      "cell_type": "markdown",
      "metadata": {},
      "source": [
        "### Volúmenes"
      ]
    },
    {
      "cell_type": "markdown",
      "metadata": {},
      "source": [
        "Los volúmenes se crearon como una evolución de los ``bind mounts`` para dar más seguridad. Podemos listar todos los volúmenes de docker mediante ``docker volume ls``"
      ]
    },
    {
      "cell_type": "code",
      "execution_count": 1,
      "metadata": {},
      "outputs": [
        {
          "name": "stdout",
          "output_type": "stream",
          "text": [
            "DRIVER    VOLUME NAME\n"
          ]
        }
      ],
      "source": [
        "!docker volume ls"
      ]
    },
    {
      "cell_type": "markdown",
      "metadata": {},
      "source": [
        "Vamos a crear un nuevo volumen para el contenedor de ubuntu, para ello usamos el comando ``docker volume create <volume name>``"
      ]
    },
    {
      "cell_type": "code",
      "execution_count": 2,
      "metadata": {},
      "outputs": [
        {
          "name": "stdout",
          "output_type": "stream",
          "text": [
            "ubuntuVolume\n"
          ]
        }
      ],
      "source": [
        "!docker volume create ubuntuVolume"
      ]
    },
    {
      "cell_type": "markdown",
      "metadata": {},
      "source": [
        "Si volvemos a listar los volúmenes aparecerá el que acabamos de crear"
      ]
    },
    {
      "cell_type": "code",
      "execution_count": 3,
      "metadata": {},
      "outputs": [
        {
          "name": "stdout",
          "output_type": "stream",
          "text": [
            "DRIVER    VOLUME NAME\n",
            "local     ubuntuVolume\n"
          ]
        }
      ],
      "source": [
        "!docker volume ls"
      ]
    },
    {
      "cell_type": "markdown",
      "metadata": {},
      "source": [
        "Sin embargo, no aparece como una carpeta en el sistema de archivos del host. Con `ls -d */` listamos todas las carpetas"
      ]
    },
    {
      "cell_type": "code",
      "execution_count": 7,
      "metadata": {},
      "outputs": [
        {
          "name": "stdout",
          "output_type": "stream",
          "text": [
            "dockerHostFolder/  __pycache__/\n"
          ]
        }
      ],
      "source": [
        "!ls -d */"
      ]
    },
    {
      "cell_type": "markdown",
      "metadata": {},
      "source": [
        "Vamos a volver a crear un contenedor, pero ahora lo creamos con el volumen que acabamos de crear con la opción ``--mount``, indicando el volumen fuente mediante ``src=<volume name>`` (si el volumen no existiese, docker lo crearía), a continuación el destino separado por una ``,``, ``dst=<container path>``, es decir ``--mount src=<volume name>,dst=<container path>``"
      ]
    },
    {
      "cell_type": "code",
      "execution_count": 8,
      "metadata": {},
      "outputs": [
        {
          "name": "stdout",
          "output_type": "stream",
          "text": [
            "42cdcddf4e46dc298a87b0570115e0b2fc900cb4c6db5eea22a61409b8cb271d\n"
          ]
        }
      ],
      "source": [
        "!docker run -d --name alwaysup --mount src=ubuntuVolume,dst=/dockerVolumeFolder ubuntu tail -f /dev/null"
      ]
    },
    {
      "cell_type": "markdown",
      "metadata": {},
      "source": [
        "Una vez creado podemos ver los volúmenes del contenedor mediante el comando ``inspect`` y filtrando por `'{{.Mounts}}'`\n",
        "\n",
        "```bash\n",
        "$ docker inspect --format '{{.Mounts}}' alwaysup \n",
        "[\n",
        "    {\n",
        "        volume ubuntuVolume /var/lib/docker/volumes/ubuntuVolume/_data /dockerVolumeFolder local z true \n",
        "    }\n",
        "]\n",
        "```"
      ]
    },
    {
      "cell_type": "markdown",
      "metadata": {},
      "source": [
        "Vemos que el volumen se llama `ubuntuVolume` y además podemos ver la ruta donde está guardado, en este caso en `/var/lib/docker/volumes/ubuntuVolume/_data`. Hacemos lo mismo que antes, nos metemos en el contenedor, creamos un archivo en la ruta del volumen, salimos y vemos en el host si se ha creado\n",
        "\n",
        "```bash\n",
        "$ docker exec -it alwaysup bash\n",
        "root@42cdcddf4e46:/# touch dockerVolumeFolder/volumeFile.txt\n",
        "root@42cdcddf4e46:/# exit\n",
        "```\n",
        "\n",
        "\n",
        "```bash\n",
        "$ sudo ls /var/lib/docker/volumes/ubuntuVolume/_data\n",
        "volumeFile.txt\n",
        "```"
      ]
    },
    {
      "cell_type": "markdown",
      "metadata": {},
      "source": [
        "Está el archivo creado"
      ]
    },
    {
      "cell_type": "markdown",
      "metadata": {},
      "source": [
        "### Insertar y extraer archivos de un contenedor"
      ]
    },
    {
      "cell_type": "markdown",
      "metadata": {},
      "source": [
        "Primero vamos a crear un archivo que queremos copiar dentro de un contenedor"
      ]
    },
    {
      "cell_type": "code",
      "execution_count": 14,
      "metadata": {},
      "outputs": [],
      "source": [
        "!touch dockerHostFolder/text.txt"
      ]
    },
    {
      "cell_type": "markdown",
      "metadata": {},
      "source": [
        "Entramos en el contenedor\n",
        "\n",
        "```bash\n",
        "$ docker exec -it alwaysup bash\n",
        "root@42cdcddf4e46:/#\n",
        "```"
      ]
    },
    {
      "cell_type": "markdown",
      "metadata": {},
      "source": [
        "Creamos una nueva carpeta donde vamos a copiar el archivo y salimos\n",
        "\n",
        "```bash\n",
        "root@42cdcddf4e46:/# mkdir folderToCopy\n",
        "root@42cdcddf4e46:/# ls\n",
        "bin  boot  dev  dockerVolumeFolder  etc  folderToCopy  home  lib  lib32  lib64  libx32  media  mnt  opt  proc  root  run  sbin  srv  sys  tmp  usr  var\n",
        "root@42cdcddf4e46:/# exit\n",
        "exit\n",
        "```"
      ]
    },
    {
      "cell_type": "markdown",
      "metadata": {},
      "source": [
        "Copiamos dentro del contenedor el archivo mediante el comando ``cp``, indicando el archivo que **quiero** copiar, el contenedor donde lo queremos copiar y la ruta dentro del contenedor, ``docker cp <file> <container>:<container path>``"
      ]
    },
    {
      "cell_type": "code",
      "execution_count": 15,
      "metadata": {},
      "outputs": [],
      "source": [
        "!docker cp dockerHostFolder/text.txt alwaysup:/folderToCopy"
      ]
    },
    {
      "cell_type": "markdown",
      "metadata": {},
      "source": [
        "Volvemos a entrar al contenedor y comprobamos que esté el archivo\n",
        "\n",
        "```bash\n",
        "$ docker exec -it alwaysup bash\n",
        "root@42cdcddf4e46:/# ls folderToCopy/\n",
        "text.txt\n",
        "```"
      ]
    },
    {
      "cell_type": "markdown",
      "metadata": {},
      "source": [
        "Salimos del contenedor\n",
        "\n",
        "```bash\n",
        "/# exit\n",
        "exit\n",
        "```"
      ]
    },
    {
      "cell_type": "markdown",
      "metadata": {},
      "source": [
        "Ahora vamos a extraer el archivo del contenedor y lo vamos a guardar en el host con otro nombre, para ello usamos otra vez el comando ``cp``, pero indicando ahora el contenedor, la ruta del archivo en el contenedor y la ruta y nombre que queremos que tenga el archivo en el host, ``docker cp <container>:<docker file path> <host file path>``"
      ]
    },
    {
      "cell_type": "code",
      "execution_count": 16,
      "metadata": {},
      "outputs": [],
      "source": [
        "!docker cp alwaysup:/folderToCopy/text.txt dockerHostFolder/fileExtract.txt"
      ]
    },
    {
      "cell_type": "markdown",
      "metadata": {},
      "source": [
        "Vemos que está en el host"
      ]
    },
    {
      "cell_type": "code",
      "execution_count": 17,
      "metadata": {},
      "outputs": [
        {
          "name": "stdout",
          "output_type": "stream",
          "text": [
            "bindFile.txt  fileExtract.txt  text.txt\n"
          ]
        }
      ],
      "source": [
        "!ls dockerHostFolder"
      ]
    },
    {
      "cell_type": "markdown",
      "metadata": {},
      "source": [
        "Aunque el contenedor esté parado también se pueden copiar archivos"
      ]
    },
    {
      "cell_type": "markdown",
      "metadata": {},
      "source": [
        "Por último, borramos el contenedor"
      ]
    },
    {
      "cell_type": "code",
      "execution_count": 8,
      "metadata": {},
      "outputs": [
        {
          "name": "stdout",
          "output_type": "stream",
          "text": [
            "alwaysup\n"
          ]
        }
      ],
      "source": [
        "!docker rm -f alwaysup"
      ]
    },
    {
      "cell_type": "markdown",
      "metadata": {},
      "source": [
        "## Imágenes"
      ]
    },
    {
      "cell_type": "markdown",
      "metadata": {},
      "source": [
        "### Conceptos fundamentales"
      ]
    },
    {
      "cell_type": "markdown",
      "metadata": {},
      "source": [
        "Las imágenes son los archivos (\"plantillas\") con toda la configuración para crear un contenedor. Cada vez que creamos un contenedor se crea a partir de una imagen. Cuando creábamos contenedores nuevos, la primera vez salía un mensaje diciendo que no teníamos la imagen y que iba a descargarla. En Docker Hub existen multitud de imágenes con todo tipo de máquinas, pero para un entorno de desarrollo muy específico podemos crear nuestra propia plantilla para pasársela a alguien y trabaje en un contenedor con la misma configuración que el nuestro"
      ]
    },
    {
      "cell_type": "markdown",
      "metadata": {},
      "source": [
        "Podemos ver todas las imágenes que tenemos guardadas en nuestro ordenador mediante el comando ``docker image ls``"
      ]
    },
    {
      "cell_type": "code",
      "execution_count": 1,
      "metadata": {},
      "outputs": [
        {
          "name": "stdout",
          "output_type": "stream",
          "text": [
            "REPOSITORY    TAG       IMAGE ID       CREATED         SIZE\n",
            "nginx         latest    2d389e545974   8 hours ago     142MB\n",
            "ubuntu        latest    2dc39ba059dc   11 days ago     77.8MB\n",
            "hello-world   latest    feb5d9fea6a5   11 months ago   13.3kB\n"
          ]
        }
      ],
      "source": [
        "!docker image ls"
      ]
    },
    {
      "cell_type": "markdown",
      "metadata": {},
      "source": [
        "Podemos ver los tamaños, y podemos ver cómo la de `nginx` ocupa mucho y por eso tardó más en descargarse que el resto"
      ]
    },
    {
      "cell_type": "markdown",
      "metadata": {},
      "source": [
        "Otra columna que podemos ver es la de ``TAG``, esto indica la versión de la imagen. En todas pone ``latest``, esto quiere decir que es la última. Es decir, en el momento de descargárnosla nos hemos descargado la última versión que hay en Docker Hub. Esto en un entorno de desarrollo no es óptimo, porque nosotros podemos descargarnos una imagen de Ubuntu, y si no especificamos versión se baja la última, por ejemplo la 20.04. Pero después de un tiempo alguien puede querer desarrollar contigo y descargarse esa imagen, pero al no especificar la versión se descargará otra vez la última, que en su caso puede ser la 22.04. Esto puede dar lugar a problemas y a que cosas que a una de las personas le funcione y a la otra no"
      ]
    },
    {
      "cell_type": "markdown",
      "metadata": {},
      "source": [
        "Podemos ver todas las imágenes que hay en docker hub yendo a ``https://hub.docker.com/``. Ahí podrás buscar la imagen que mejor se adapte al proyecto que quieras hacer. Si navegamos a la image de Ubuntu, por ejemplo, podemos ver las versiones (`tags`) de las imágenes."
      ]
    },
    {
      "cell_type": "markdown",
      "metadata": {},
      "source": [
        "Vamos a descargar, **pero no ejecutar** una imagen. Para ello usamos el comando ``docker pull <hub> <image name>:<tag>``. Si no indicamos el hub, lo descargará de docker hub por defecto, pero podemos indicar otro, por ejemplo uno privado de nuestra organización. También, si no indicamos el tag, por defecto bajará la última versión"
      ]
    },
    {
      "cell_type": "code",
      "execution_count": 2,
      "metadata": {},
      "outputs": [
        {
          "name": "stdout",
          "output_type": "stream",
          "text": [
            "20.04: Pulling from library/ubuntu\n",
            "\n",
            "\u001b[1BDigest: sha256:35ab2bf57814e9ff49e365efd5a5935b6915eede5c7f8581e9e1b85e0eecbe16[1A\u001b[2K\u001b[1A\u001b[2K\u001b[1A\u001b[2K\u001b[1A\u001b[2K\u001b[1A\u001b[2K\u001b[1A\u001b[2K\u001b[1A\u001b[2K\u001b[1A\u001b[2K\u001b[1A\u001b[2K\n",
            "Status: Downloaded newer image for ubuntu:20.04\n",
            "docker.io/library/ubuntu:20.04\n"
          ]
        }
      ],
      "source": [
        "!docker pull ubuntu:20.04"
      ]
    },
    {
      "cell_type": "markdown",
      "metadata": {},
      "source": [
        "Si volvemos a listar las imágenes, vemos que ahora tenemos dos imágenes de Ubuntu, una con el tag ``20.04`` y otra con el tag ``latest``"
      ]
    },
    {
      "cell_type": "code",
      "execution_count": 3,
      "metadata": {},
      "outputs": [
        {
          "name": "stdout",
          "output_type": "stream",
          "text": [
            "REPOSITORY    TAG       IMAGE ID       CREATED         SIZE\n",
            "nginx         latest    2d389e545974   8 hours ago     142MB\n",
            "ubuntu        latest    2dc39ba059dc   11 days ago     77.8MB\n",
            "ubuntu        20.04     a0ce5a295b63   11 days ago     72.8MB\n",
            "hello-world   latest    feb5d9fea6a5   11 months ago   13.3kB\n"
          ]
        }
      ],
      "source": [
        "!docker image ls"
      ]
    },
    {
      "attachments": {},
      "cell_type": "markdown",
      "metadata": {},
      "source": [
        "### Crear imágenes mediante `Dockerfile`"
      ]
    },
    {
      "cell_type": "markdown",
      "metadata": {},
      "source": [
        "Creamos un directorio en el host llamado `dockerImages` para trabajar en él"
      ]
    },
    {
      "cell_type": "code",
      "execution_count": 15,
      "metadata": {},
      "outputs": [],
      "source": [
        "!mkdir dockerImages"
      ]
    },
    {
      "cell_type": "markdown",
      "metadata": {},
      "source": [
        "Creamos un archivo `Dockerfile` con el que crearemos una imagen"
      ]
    },
    {
      "cell_type": "code",
      "execution_count": 16,
      "metadata": {},
      "outputs": [],
      "source": [
        "!touch dockerImages/Dockerfile"
      ]
    },
    {
      "cell_type": "markdown",
      "metadata": {},
      "source": [
        "Abrimos el archivo creado con nuestro editor preferido y escribimos lo siguiente:\n",
        "\n",
        "```Dockerfile\n",
        "FROM ubuntu:latest\n",
        "```\n",
        "\n",
        "Esto le dice a docker que cree la imagen a raíz de la imagen `latest` de ubuntu"
      ]
    },
    {
      "cell_type": "markdown",
      "metadata": {},
      "source": [
        "A continuación, escribimos un comando que se va a ejecutar en tiempo de compilación\n",
        "\n",
        "```Dockerfile\n",
        "RUN touch /test.txt\n",
        "```\n",
        "\n",
        "Esto quiere decir que cuando se compile el `Dockerfile` se ejecutará ese comando, pero no cuando se corra el contenedor de la imagen"
      ]
    },
    {
      "cell_type": "markdown",
      "metadata": {},
      "source": [
        "Al final el `Dockerfile` queda así:\n",
        "```dockerfile\n",
        "    FROM ubuntu:latest\n",
        "    RUN touch /test.txt\n",
        "```"
      ]
    },
    {
      "cell_type": "markdown",
      "metadata": {},
      "source": [
        "Compilamos el `Dockerfile` mediante el comando `build`, con la opción `-t` podemos darle un `tag`. Por último, hay que indicarle la ruta del contexto de `build`, más adelante explicaremos esto"
      ]
    },
    {
      "cell_type": "code",
      "execution_count": 21,
      "metadata": {},
      "outputs": [
        {
          "name": "stdout",
          "output_type": "stream",
          "text": [
            "Sending build context to Docker daemon  2.048kB\n",
            "Step 1/2 : FROM ubuntu:latest\n",
            " ---> 2dc39ba059dc\n",
            "Step 2/2 : RUN touch /test.txt\n",
            " ---> Using cache\n",
            " ---> a78cf3ea16d8\n",
            "Successfully built a78cf3ea16d8\n",
            "Successfully tagged ubuntu:test\n",
            "\n",
            "Use 'docker scan' to run Snyk tests against images to find vulnerabilities and learn how to fix them\n"
          ]
        }
      ],
      "source": [
        "!docker build -t ubuntu:test ./dockerImages"
      ]
    },
    {
      "cell_type": "markdown",
      "metadata": {},
      "source": [
        "Como vemos se compila en 2 pasos, cada uno tiene una `id`, cada una de esas `id`s son capas de la imagen, esto también lo veremos más adelante\n",
        "\n",
        "Volvemos a ver las imágenes que tenemos guardadas en nuestro ordenador y aparece la que acabamos de crear"
      ]
    },
    {
      "cell_type": "code",
      "execution_count": 10,
      "metadata": {},
      "outputs": [
        {
          "name": "stdout",
          "output_type": "stream",
          "text": [
            "REPOSITORY    TAG       IMAGE ID       CREATED         SIZE\n",
            "ubuntu        test      a78cf3ea16d8   8 minutes ago   77.8MB\n",
            "nginx         latest    2d389e545974   8 hours ago     142MB\n",
            "ubuntu        latest    2dc39ba059dc   11 days ago     77.8MB\n",
            "ubuntu        20.04     a0ce5a295b63   11 days ago     72.8MB\n",
            "hello-world   latest    feb5d9fea6a5   11 months ago   13.3kB\n"
          ]
        }
      ],
      "source": [
        "!docker image ls"
      ]
    },
    {
      "cell_type": "markdown",
      "metadata": {},
      "source": [
        "Corremos el contenedor a partir de la imagen que acabamos de crear\n",
        "\n",
        "```bash\n",
        "$ docker run -it ubuntu:test\n",
        "root@b57b9d4eedeb:/#\n",
        "```\n",
        "\n",
        "Entramos en el bash del contenedor. Como dijimos, el comando RUN se ejecuta en tiempo de compilación de la imagen, por lo que el archivo que hemos pedido que se cree debería estar en nuestro contenedor\n",
        "\n",
        "```bash\n",
        "root@b57b9d4eedeb:/# ls\n",
        "bin  boot  dev  etc  home  lib  lib32  lib64  libx32  media  mnt  opt  proc  root  run  sbin  srv  sys  test.txt  tmp  usr  var\n",
        "```\n",
        "\n",
        "Es importante entender que ese archivo se creó cuando se construyó la imagen, es decir, la imagen del contenedor ya tiene ese archivo. No se crea cuando se lanza el contenedor\n",
        "\n",
        "Salimos del contenedor\n",
        "\n",
        "```bash\n",
        "root@b57b9d4eedeb:/# exit\n",
        "exit\n",
        "```"
      ]
    },
    {
      "cell_type": "markdown",
      "metadata": {},
      "source": [
        "Como ya tenemos una imagen, la podríamos subir al hub de Docker, pero vamos a volver a listar las imágenes antes de eso."
      ]
    },
    {
      "cell_type": "code",
      "execution_count": 12,
      "metadata": {},
      "outputs": [
        {
          "name": "stdout",
          "output_type": "stream",
          "text": [
            "REPOSITORY    TAG       IMAGE ID       CREATED          SIZE\n",
            "ubuntu        test      a78cf3ea16d8   20 minutes ago   77.8MB\n",
            "nginx         latest    2d389e545974   8 hours ago      142MB\n",
            "ubuntu        latest    2dc39ba059dc   11 days ago      77.8MB\n",
            "ubuntu        20.04     a0ce5a295b63   11 days ago      72.8MB\n",
            "hello-world   latest    feb5d9fea6a5   11 months ago    13.3kB\n"
          ]
        }
      ],
      "source": [
        "!docker image ls"
      ]
    },
    {
      "cell_type": "markdown",
      "metadata": {},
      "source": [
        "Si vemos, nos está diciendo que la imagen que acabamos de crear pertenece al repositorio de ubuntu, pero nosotros no tenemos acceso al repositorio de ubuntu, por lo que en docker hub nos tenemos que hacer una cuenta para poder subir la imagen a nuestro repositorio. En mi caso, mi repositorio se llama `maximofn`, por lo que cambio el repositorio de la imagen mediante el comando `tag`, indicándole la imagen a la que queremos cambiar de repositorio y el nuevo repositorio. En el nuevo repositorio se suele indicar el nombre del repositorio seguido del tipo de imagen y el tag, en mi caso `maximofn/ubuntu:test`"
      ]
    },
    {
      "cell_type": "code",
      "execution_count": 22,
      "metadata": {},
      "outputs": [],
      "source": [
        "!docker tag ubuntu:test maximofn/ubuntu:test"
      ]
    },
    {
      "cell_type": "markdown",
      "metadata": {},
      "source": [
        "Si ahora volvemos a listar las imágenes"
      ]
    },
    {
      "cell_type": "code",
      "execution_count": 14,
      "metadata": {},
      "outputs": [
        {
          "name": "stdout",
          "output_type": "stream",
          "text": [
            "REPOSITORY        TAG       IMAGE ID       CREATED          SIZE\n",
            "ubuntu            test      a78cf3ea16d8   24 minutes ago   77.8MB\n",
            "maximofn/ubuntu   test      a78cf3ea16d8   24 minutes ago   77.8MB\n",
            "nginx             latest    2d389e545974   8 hours ago      142MB\n",
            "ubuntu            latest    2dc39ba059dc   11 days ago      77.8MB\n",
            "ubuntu            20.04     a0ce5a295b63   11 days ago      72.8MB\n",
            "hello-world       latest    feb5d9fea6a5   11 months ago    13.3kB\n"
          ]
        }
      ],
      "source": [
        "!docker image ls"
      ]
    },
    {
      "cell_type": "markdown",
      "metadata": {},
      "source": [
        "Ahora debemos loguearnos dentro de docker hub para poder subir la imagen, para ello usamos el comando `login`\n",
        "\n",
        "```bash\n",
        "$ docker login\n",
        "Login with your Docker ID to push and pull images from Docker Hub. If you do not have a Docker ID, head over to https://hub.docker.com to create one.\n",
        "Username: maximofn\n",
        "Password:\n",
        "\n",
        "Login Succeeded\n",
        "```"
      ]
    },
    {
      "cell_type": "markdown",
      "metadata": {},
      "source": [
        "Ahora podemos subir la imagen mediante el comando `push`"
      ]
    },
    {
      "cell_type": "code",
      "execution_count": 25,
      "metadata": {},
      "outputs": [
        {
          "name": "stdout",
          "output_type": "stream",
          "text": [
            "The push refers to repository [docker.io/maximofn/ubuntu]\n",
            "\n",
            "\u001b[1B06994357: Preparing \n",
            "\u001b[2B06994357: Pushed  from library/ubuntu \u001b[2A\u001b[2Ktest: digest: sha256:318d83fc3c35ff930d695b0dc1c5ad1b0ea54e1ec6e3478b8ca85c05fd793c4e size: 735\n"
          ]
        }
      ],
      "source": [
        "!docker push maximofn/ubuntu:test"
      ]
    },
    {
      "cell_type": "markdown",
      "metadata": {},
      "source": [
        "Ha subido solo la primera capa, la segunda, como la usé a raíz de la imagen de Ubuntu, lo que hace es colocar un puntero a esa imagen para no tener capas subidas más de una vez"
      ]
    },
    {
      "cell_type": "markdown",
      "metadata": {},
      "source": [
        "Hay que tener en cuenta que este repositorio es público, por lo que no debes subir imágenes con datos sensibles. Además, si una imagen no tiene uso en 6 meses será borrada"
      ]
    },
    {
      "cell_type": "markdown",
      "metadata": {},
      "source": [
        "### El sistema de capas"
      ]
    },
    {
      "cell_type": "markdown",
      "metadata": {},
      "source": [
        "Mediante el comando `history` podemos ver las capas de una imagen. Si vemos las capas de la imagen que acabamos de crear, usamos `docker history ubuntu:test`"
      ]
    },
    {
      "cell_type": "code",
      "execution_count": 1,
      "metadata": {},
      "outputs": [
        {
          "name": "stdout",
          "output_type": "stream",
          "text": [
            "IMAGE          CREATED        CREATED BY                                      SIZE      COMMENT\n",
            "a78cf3ea16d8   3 minutes ago  /bin/sh -c touch /test.txt                      0B        \n",
            "2dc39ba059dc   12 days ago    /bin/sh -c #(nop)  CMD [\"bash\"]                 0B        \n",
            "<missing>      12 days ago    /bin/sh -c #(nop) ADD file:a7268f82a86219801…   77.8MB    \n"
          ]
        }
      ],
      "source": [
        "!docker history ubuntu:test"
      ]
    },
    {
      "cell_type": "markdown",
      "metadata": {},
      "source": [
        "Vemos que la primera capa tiene el comando que hemos introducido en el `Dockerfile`, además dice que ha sido creada hace 3 minutos. Sin embargo, el resto de capas fueron creadas hace 12 días, y son las capas de la imagen de Ubuntu de la que nos hemos basado"
      ]
    },
    {
      "cell_type": "markdown",
      "metadata": {},
      "source": [
        "Al `Dockerfile` que hemos creado anteriormente le añadimos la línea\n",
        "\n",
        "```docker\n",
        "RUN rm /test.txt\n",
        "```"
      ]
    },
    {
      "cell_type": "markdown",
      "metadata": {},
      "source": [
        "Al final el `Dockerfile` queda así:\n",
        "```dockerfile\n",
        "    FROM ubuntu:latest\n",
        "    RUN touch /test.txt\n",
        "    RUN rm /test.txt\n",
        "```"
      ]
    },
    {
      "cell_type": "markdown",
      "metadata": {},
      "source": [
        "Si volvemos a compilar, vemos qué pasa"
      ]
    },
    {
      "cell_type": "code",
      "execution_count": 2,
      "metadata": {},
      "outputs": [
        {
          "name": "stdout",
          "output_type": "stream",
          "text": [
            "Sending build context to Docker daemon  2.048kB\n",
            "Step 1/3 : FROM ubuntu:latest\n",
            " ---> 2dc39ba059dc\n",
            "Step 2/3 : RUN touch /test.txt\n",
            " ---> Using cache\n",
            " ---> a78cf3ea16d8\n",
            "Step 3/3 : RUN rm /test.txt\n",
            " ---> Running in c2e6887f2025\n",
            "Removing intermediate container c2e6887f2025\n",
            " ---> 313243a9b573\n",
            "Successfully built 313243a9b573\n",
            "Successfully tagged ubuntu:test\n",
            "\n",
            "Use 'docker scan' to run Snyk tests against images to find vulnerabilities and learn how to fix them\n"
          ]
        }
      ],
      "source": [
        "!docker build -t ubuntu:test ./dockerImages"
      ]
    },
    {
      "cell_type": "markdown",
      "metadata": {},
      "source": [
        "Como vemos, hay una capa más con la nueva línea que hemos agregado. Si volvemos a ver las capas de la imagen con `history`"
      ]
    },
    {
      "cell_type": "code",
      "execution_count": 3,
      "metadata": {},
      "outputs": [
        {
          "name": "stdout",
          "output_type": "stream",
          "text": [
            "IMAGE          CREATED              CREATED BY                                      SIZE      COMMENT\n",
            "313243a9b573   About a minute ago   /bin/sh -c rm /test.txt                         0B        \n",
            "a78cf3ea16d8   3 minutes ago        /bin/sh -c touch /test.txt                      0B        \n",
            "2dc39ba059dc   12 days ago          /bin/sh -c #(nop)  CMD [\"bash\"]                 0B        \n",
            "<missing>      12 days ago          /bin/sh -c #(nop) ADD file:a7268f82a86219801…   77.8MB    \n"
          ]
        }
      ],
      "source": [
        "!docker history ubuntu:test"
      ]
    },
    {
      "cell_type": "markdown",
      "metadata": {},
      "source": [
        "Vemos que las primeras capas son iguales a las de antes y ha añadido una nueva capa con el nuevo comando"
      ]
    },
    {
      "cell_type": "markdown",
      "metadata": {},
      "source": [
        "### Búsqueda en docker hub"
      ]
    },
    {
      "cell_type": "markdown",
      "metadata": {},
      "source": [
        "No hace falta meterse en la página de docker hub para buscar imágenes, se puede hacer desde la terminal. Para ello usamos el comando `docker search <image name>`"
      ]
    },
    {
      "cell_type": "code",
      "execution_count": 8,
      "metadata": {},
      "outputs": [
        {
          "name": "stdout",
          "output_type": "stream",
          "text": [
            "NAME                             DESCRIPTION                                     STARS     OFFICIAL   AUTOMATED\n",
            "ubuntu                           Ubuntu is a Debian-based Linux operating sys…   16425     [OK]       \n",
            "websphere-liberty                WebSphere Liberty multi-architecture images …   297       [OK]       \n",
            "open-liberty                     Open Liberty multi-architecture images based…   62        [OK]       \n",
            "neurodebian                      NeuroDebian provides neuroscience research s…   104       [OK]       \n",
            "ubuntu-debootstrap               DEPRECATED; use \"ubuntu\" instead                52        [OK]       \n",
            "ubuntu-upstart                   DEPRECATED, as is Upstart (find other proces…   115       [OK]       \n",
            "ubuntu/nginx                     Nginx, a high-performance reverse proxy & we…   98                   \n",
            "ubuntu/squid                     Squid is a caching proxy for the Web. Long-t…   66                   \n",
            "ubuntu/cortex                    Cortex provides storage for Prometheus. Long…   4                    \n",
            "ubuntu/apache2                   Apache, a secure & extensible open-source HT…   60                   \n",
            "ubuntu/kafka                     Apache Kafka, a distributed event streaming …   35                   \n",
            "ubuntu/mysql                     MySQL open source fast, stable, multi-thread…   53                   \n",
            "ubuntu/bind9                     BIND 9 is a very flexible, full-featured DNS…   62                   \n",
            "ubuntu/prometheus                Prometheus is a systems and service monitori…   51                   \n",
            "ubuntu/zookeeper                 ZooKeeper maintains configuration informatio…   12                   \n",
            "ubuntu/postgres                  PostgreSQL is an open source object-relation…   31                   \n",
            "ubuntu/redis                     Redis, an open source key-value store. Long-…   19                   \n",
            "ubuntu/grafana                   Grafana, a feature rich metrics dashboard & …   9                    \n",
            "ubuntu/memcached                 Memcached, in-memory keyvalue store for smal…   5                    \n",
            "ubuntu/dotnet-aspnet             Chiselled Ubuntu runtime image for ASP.NET a…   11                   \n",
            "ubuntu/dotnet-deps               Chiselled Ubuntu for self-contained .NET & A…   11                   \n",
            "ubuntu/prometheus-alertmanager   Alertmanager handles client alerts from Prom…   9                    \n",
            "ubuntu/dotnet-runtime            Chiselled Ubuntu runtime image for .NET apps…   10                   \n",
            "ubuntu/cassandra                 Cassandra, an open source NoSQL distributed …   2                    \n",
            "ubuntu/telegraf                  Telegraf collects, processes, aggregates & w…   4                    \n"
          ]
        }
      ],
      "source": [
        "!docker search ubuntu"
      ]
    },
    {
      "cell_type": "markdown",
      "metadata": {},
      "source": [
        "## Uso de docker para crear aplicaciones"
      ]
    },
    {
      "cell_type": "markdown",
      "metadata": {},
      "source": [
        "### Exposición de puertos"
      ]
    },
    {
      "cell_type": "markdown",
      "metadata": {},
      "source": [
        "Antes vimos cómo podíamos vincular un puerto de un contenedor a un puerto del ordenador (`-p 8080:80`). Pero para que eso sea posible, a la hora de crear la imagen hay que exponer el puerto, esto se hace añadiendo al Dockerfile la línea `EXPOSE <port>`, en el caso de antes\n",
        "\n",
        "```docker\n",
        "EXPOSE 80\n",
        "```\n",
        "\n",
        "O usar imágenes como base que ya tengan puertos expuestos"
      ]
    },
    {
      "cell_type": "markdown",
      "metadata": {},
      "source": [
        "### Reuso del caché de capas al compilar"
      ]
    },
    {
      "cell_type": "markdown",
      "metadata": {},
      "source": [
        "Cuando compilamos una imagen, si alguna de las capas que hemos definido ya han sido compiladas antes, Docker lo detecta y las usa, no las vuelve a compilar. Si volvemos a compilar la imagen que hemos definido en el `Dockerfile` ahora tardará muy poco, porque todas las capas ya están compiladas y Docker no las vuelve a compilar"
      ]
    },
    {
      "cell_type": "code",
      "execution_count": 4,
      "metadata": {},
      "outputs": [
        {
          "name": "stdout",
          "output_type": "stream",
          "text": [
            "Sending build context to Docker daemon  2.048kB\n",
            "Step 1/3 : FROM ubuntu:latest\n",
            " ---> 2dc39ba059dc\n",
            "Step 2/3 : RUN touch /test.txt\n",
            " ---> Using cache\n",
            " ---> a78cf3ea16d8\n",
            "Step 3/3 : RUN rm /test.txt\n",
            " ---> Using cache\n",
            " ---> 313243a9b573\n",
            "Successfully built 313243a9b573\n",
            "Successfully tagged ubuntu:test\n",
            "\n",
            "Use 'docker scan' to run Snyk tests against images to find vulnerabilities and learn how to fix them\n"
          ]
        }
      ],
      "source": [
        "!docker build -t ubuntu:test ./dockerImages"
      ]
    },
    {
      "cell_type": "markdown",
      "metadata": {},
      "source": [
        "En la segunda y tercera capa aparece el texto `Using cache`\n",
        "\n",
        "Como esto es un cuaderno Jupyter a la hora de ejecutar las celdas te da la información del tiempo que tardan en ejecutarse, la vez anterior que compilé la imagen tardó 1,4 segundos, mientras que ahora ha tardado 0,5 segundos"
      ]
    },
    {
      "cell_type": "markdown",
      "metadata": {},
      "source": [
        "Pero si ahora cambio el Dockerfile, y en la primera línea, donde decía que nos basábamos en la última versión de Ubuntu y cambiamos a la versión 20.04\n",
        "\n",
        "```docker\n",
        "FROM ubuntu:20.04\n",
        "```"
      ]
    },
    {
      "cell_type": "markdown",
      "metadata": {},
      "source": [
        "Al final el `Dockerfile` queda así:\n",
        "```dockerfile\n",
        "    FROM ubuntu:20.04\n",
        "    RUN touch /test.txt\n",
        "    RUN rm /test.txt\n",
        "```"
      ]
    },
    {
      "cell_type": "markdown",
      "metadata": {},
      "source": [
        "Si volvemos a compilar, tardará mucho más"
      ]
    },
    {
      "cell_type": "code",
      "execution_count": 5,
      "metadata": {},
      "outputs": [
        {
          "name": "stdout",
          "output_type": "stream",
          "text": [
            "Sending build context to Docker daemon  2.048kB\n",
            "Step 1/3 : FROM ubuntu:20.04\n",
            " ---> a0ce5a295b63\n",
            "Step 2/3 : RUN touch /test.txt\n",
            " ---> Running in a40fe8df2c0d\n",
            "Removing intermediate container a40fe8df2c0d\n",
            " ---> 0bb9b452c11f\n",
            "Step 3/3 : RUN rm /test.txt\n",
            " ---> Running in 2e14919f3685\n",
            "Removing intermediate container 2e14919f3685\n",
            " ---> fdc248fa833b\n",
            "Successfully built fdc248fa833b\n",
            "Successfully tagged ubuntu:test\n",
            "\n",
            "Use 'docker scan' to run Snyk tests against images to find vulnerabilities and learn how to fix them\n"
          ]
        }
      ],
      "source": [
        "!docker build -t ubuntu:test ./dockerImages"
      ]
    },
    {
      "cell_type": "markdown",
      "metadata": {},
      "source": [
        "Ha tardado 1,9 segundos y ya no aparece el texto `Using cache`"
      ]
    },
    {
      "cell_type": "markdown",
      "metadata": {},
      "source": [
        "Al cambiar la primera capa, Docker vuelve a compilar todas las capas. Esto puede ser un problema porque a la hora de desarrollar código se puede dar el siguiente caso\n",
        " * Desarrollamos el código en nuestro ordenador\n",
        " * Al construir la imagen, copiamos todo el código de nuestro ordenador al contenedor\n",
        " * Luego le pedimos a la imagen que instale las bibliotecas necesarias\n",
        "\n",
        "Esto puede hacer que al cambiar cualquier parte del código, al tener que volver a compilar la imagen, la capa en la que se instalan las librerías se tenga que volver a compilar, ya que ha cambiado una capa anterior"
      ]
    },
    {
      "cell_type": "markdown",
      "metadata": {},
      "source": [
        "Para solucionar esto, la idea sería que a la hora de crear la imagen, primero pidamos que se instalen las librerías y luego que se copie el código de nuestro ordenador al contenedor. Así, cada vez que cambiemos el código y volvamos a compilar la imagen, solo se recompilará la capa en la que se copia el código, por lo que la compilación será más rápida"
      ]
    },
    {
      "cell_type": "markdown",
      "metadata": {},
      "source": [
        "Podrás pensar que es mejor compartir una carpeta entre el host y el contenedor (`bind mount`) donde tendremos el código y así no hace falta volver a compilar la imagen cada vez que cambiemos el código. Y la respuesta es que es verdad, solo he puesto este ejemplo porque es muy fácil de entender, pero es para escenificar que a la hora de crear imágenes hay que pensar bien de manera que si hace falta volver a compilarla, recompile el mínimo número de capas"
      ]
    },
    {
      "cell_type": "markdown",
      "metadata": {},
      "source": [
        "### Escribir correctamente un Dockerfile"
      ]
    },
    {
      "cell_type": "markdown",
      "metadata": {},
      "source": [
        "Como hemos visto Docker no vuelve a compilar capas de un Dockerfile si ya las ha compilado antes, por lo que las carga de caché. Vamos a ver cómo tiene que ser la forma correcta de escribir un Dockerfile para aprovecharnos de esto"
      ]
    },
    {
      "cell_type": "markdown",
      "metadata": {},
      "source": [
        "Vamos a partir de este Dockerfile para ir comentando posibles correcciones\n",
        "\n",
        "``` Dockerfile\n",
        "FROM ubuntu\n",
        "COPY ./sourceCode /sourceCode\n",
        "RUN apt-get update\n",
        "RUN apt-get install -y python3 ssh\n",
        "CMD [\"python3\", \"/sourceCode/sourceApp/app.py\"]\n",
        "```\n",
        "\n",
        "Como se puede ver se parte de una imagen de ubuntu, se copia la carpeta con el código, se actualizan los repositorios, se instala python, se instala también ssh y se corre la aplicación"
      ]
    },
    {
      "cell_type": "markdown",
      "metadata": {},
      "source": [
        "#### Copiar el código antes de la ejecución"
      ]
    },
    {
      "cell_type": "markdown",
      "metadata": {},
      "source": [
        "Como hemos dicho antes, si primero copiamos el código y luego instalamos Python, cada vez que hagamos un cambio en el código y compilemos la imagen la compilará entera, pero si copiamos el código después de instalar Python, cada vez que cambiemos el código y compilemos la imagen, solo compilará desde la copia del código y no volverá a instalar Python, por lo que el Dockerfile debería pasar a ser así\n",
        "\n",
        "``` Dockerfile\n",
        "FROM ubuntu\n",
        "RUN apt-get update\n",
        "RUN apt-get install -y python3 ssh\n",
        "COPY ./sourceCode /sourceCode\n",
        "CMD [\"python3\", \"/sourceCode/sourceApp/app.py\"]\n",
        "```"
      ]
    },
    {
      "cell_type": "markdown",
      "metadata": {},
      "source": [
        "#### Copiar solo el código nesario"
      ]
    },
    {
      "cell_type": "markdown",
      "metadata": {},
      "source": [
        "Estamos copiando la carpeta con todo el código, pero a lo mejor dentro tenemos código que no necesitamos, por lo que hay que copiar solo el código que de verdad necesitemos para la aplicación, de esta manera la imagen ocupará menos memoria. De modo que el Dockerfile quedaría así\n",
        "\n",
        "``` Dockerfile\n",
        "FROM ubuntu\n",
        "RUN apt-get update\n",
        "RUN apt-get install -y python3 ssh\n",
        "COPY ./sourceCode/sourceApp /sourceCode/sourceApp\n",
        "CMD [\"python3\", \"/sourceCode/sourceApp/app.py\"]\n",
        "```"
      ]
    },
    {
      "cell_type": "markdown",
      "metadata": {},
      "source": [
        "#### Actualizar repositorios e instalar python en la misma línea"
      ]
    },
    {
      "cell_type": "markdown",
      "metadata": {},
      "source": [
        "Estamos actualizando los repositorios en una línea y en otra instalando python3.\n",
        "\n",
        "``` Dockerfile\n",
        "FROM ubuntu\n",
        "RUN apt-get update && apt-get install -y python3 ssh\n",
        "COPY ./sourceCode/sourceApp /sourceCode/sourceApp\n",
        "CMD [\"python3\", \"/sourceCode/sourceApp/app.py\"]\n",
        "```"
      ]
    },
    {
      "cell_type": "markdown",
      "metadata": {},
      "source": [
        "#### No instalar ssh"
      ]
    },
    {
      "cell_type": "markdown",
      "metadata": {},
      "source": [
        "Habíamos instalado ssh en la imagen para poder debuggear en caso de necesitarlo, pero eso hace que la imagen ocupe más memoria. En caso de necesitar debuggear, deberíamos entrar en el contenedor, instalar ssh y a continuación debuggear. Por lo que quitamos la instalación de ssh\n",
        "\n",
        "``` Dockerfile\n",
        "FROM ubuntu\n",
        "RUN apt-get update && apt-get install -y python3\n",
        "COPY ./sourceCode/sourceApp /sourceCode/sourceApp\n",
        "CMD [\"python3\", \"/sourceCode/sourceApp/app.py\"]\n",
        "```"
      ]
    },
    {
      "cell_type": "markdown",
      "metadata": {},
      "source": [
        "#### Usar `--no-install-recommends`"
      ]
    },
    {
      "cell_type": "markdown",
      "metadata": {},
      "source": [
        "Cuando instalamos algo en Ubuntu instala paquetes recomendados, pero que no necesitamos, por lo que la imagen ocupa más espacio. Así que para evitarlo añadimos a la instalación `--no-install-recommends`\n",
        "\n",
        "``` Dockerfile\n",
        "FROM ubuntu\n",
        "RUN apt-get update && apt-get install -y python3 --no-install-recommends\n",
        "COPY ./sourceCode/sourceApp /sourceCode/sourceApp\n",
        "CMD [\"python3\", \"/sourceCode/sourceApp/app.py\"]\n",
        "```"
      ]
    },
    {
      "cell_type": "markdown",
      "metadata": {},
      "source": [
        "#### Borrar lista de repositorios actualizados"
      ]
    },
    {
      "cell_type": "markdown",
      "metadata": {},
      "source": [
        "Hemos actualizado la lista de repositorios y hemos instalado python, pero una vez hecho ya no necesitamos la lista de repositorios actualizados, porque lo único que harán será que la imagen ocupe más, de modo que los eliminamos después de instalar python y en su misma línea\n",
        "\n",
        "``` Dockerfile\n",
        "FROM ubuntu\n",
        "RUN apt-get update && apt-get install -y python3 --no-install-recommends && rm -rf /var/lib/apt/lists/*\n",
        "COPY ./sourceCode/sourceApp /sourceCode/sourceApp\n",
        "CMD [\"python3\", \"/sourceCode/sourceApp/app.py\"]\n",
        "```"
      ]
    },
    {
      "cell_type": "markdown",
      "metadata": {},
      "source": [
        "#### Usar una imagen de Python"
      ]
    },
    {
      "cell_type": "markdown",
      "metadata": {},
      "source": [
        "Todo lo que hemos hecho de actualizar la lista de paquetes e instalar python no es necesario, ya que ya existen imágenes de python sobre Ubuntu, que seguramente también han seguido buenas prácticas, que incluso lo hayan hecho mejor que nosotros y que ha sido escaneada en busca de vulnerabilidades por Docker Hub. Por lo que quitamos todo eso y partimos de una imagen de Python\n",
        "\n",
        "``` Dockerfile\n",
        "FROM python\n",
        "COPY ./sourceCode/sourceApp /sourceCode/sourceApp\n",
        "CMD [\"python3\", \"/sourceCode/sourceApp/app.py\"]\n",
        "```"
      ]
    },
    {
      "cell_type": "markdown",
      "metadata": {},
      "source": [
        "#### Especificar la imagen de Python"
      ]
    },
    {
      "cell_type": "markdown",
      "metadata": {},
      "source": [
        "Al no especificar la imagen de Python se está bajando la última, pero en función de cuándo construyas el contenedor se puede bajar una u otra, por lo que hay que añadir el tag con la versión de Python que se quiere\n",
        "\n",
        "``` Dockerfile\n",
        "FROM python:3.9.18\n",
        "COPY ./sourceCode/sourceApp /sourceCode/sourceApp\n",
        "CMD [\"python3\", \"/sourceCode/sourceApp/app.py\"]\n",
        "```"
      ]
    },
    {
      "cell_type": "markdown",
      "metadata": {},
      "source": [
        "#### Elegir un tag pequeño"
      ]
    },
    {
      "cell_type": "markdown",
      "metadata": {},
      "source": [
        "Hemos elegido el tag `3.9.18`, pero esa versión de python tiene un montón de librerías que posiblemente no las necesitemos, por lo que podemos usar las versiones `3.9.18-slim` que tiene muchas menos librerías instaladas, o la versión `3.9.18-alpine` que es una versión de python sobre Alpine y no sobre Ubuntu. Alpine es una distribución de Linux muy ligera que tiene muy pocos paquetes instalados y que se suele usar mucho en contenedores Docker para que ocupen muy poco espacio\n",
        "\n",
        "La imagen de python `3.9.18` ocupa 997 MB, la `3.9.18-slim` ocupa 126 MB y la `3.9.18-alpine` ocupa 47.8 MB\n",
        "\n",
        "``` Dockerfile\n",
        "FROM python:3.9.18-alpine\n",
        "COPY ./sourceCode/sourceApp /sourceCode/sourceApp\n",
        "CMD [\"python3\", \"/sourceCode/sourceApp/app.py\"]\n",
        "```"
      ]
    },
    {
      "cell_type": "markdown",
      "metadata": {},
      "source": [
        "#### Indicar el workspace"
      ]
    },
    {
      "cell_type": "markdown",
      "metadata": {},
      "source": [
        "En lugar de indicar la ruta de la imagen `/sourceCode/sourceApp` establecemos que dicha ruta sea el workspace de la imagen. Así cuando copiemos el código o ejecutemos la aplicación no hace falta indicar la ruta\n",
        "\n",
        "``` Dockerfile\n",
        "FROM python:3.9.18-alpine\n",
        "WORKDIR /sourceCode/sourceApp\n",
        "COPY ./sourceCode/sourceApp .\n",
        "CMD [\"python3\", \"app.py\"]\n",
        "```"
      ]
    },
    {
      "cell_type": "markdown",
      "metadata": {},
      "source": [
        "#### Indicar el workspace"
      ]
    },
    {
      "cell_type": "markdown",
      "metadata": {},
      "source": [
        "En lugar de indicar la ruta de la imagen `/sourceCode/sourceApp` establecemos que dicha ruta sea el workspace de la imagen. Así cuando copiemos el código o ejecutemos la aplicación no hace falta indicar la ruta\n",
        "\n",
        "``` Dockerfile\n",
        "FROM python:3.9.18-alpine\n",
        "WORKDIR /sourceCode/sourceApp\n",
        "COPY ./sourceCode/sourceApp .\n",
        "CMD [\"python3\", \"app.py\"]\n",
        "```"
      ]
    },
    {
      "cell_type": "markdown",
      "metadata": {},
      "source": [
        "### Código compartido en una carpeta `bind mount`"
      ]
    },
    {
      "cell_type": "markdown",
      "metadata": {},
      "source": [
        "Habíamos creado una carpeta llamada `dockerHostFolder` en la que habíamos compartido archivos entre el host y un contenedor. Dentro, además, deberían haber tres archivos"
      ]
    },
    {
      "cell_type": "code",
      "execution_count": 1,
      "metadata": {},
      "outputs": [
        {
          "name": "stdout",
          "output_type": "stream",
          "text": [
            "bindFile.txt  fileExtract.txt  text.txt\n"
          ]
        }
      ],
      "source": [
        "!ls dockerHostFolder"
      ]
    },
    {
      "cell_type": "markdown",
      "metadata": {},
      "source": [
        "Vamos a aprovechar el archivo `text.txt` para ver eso. Vamos a ver qué hay dentro de `text.txt`"
      ]
    },
    {
      "cell_type": "code",
      "execution_count": 3,
      "metadata": {},
      "outputs": [],
      "source": [
        "!cat dockerHostFolder/text.txt"
      ]
    },
    {
      "cell_type": "markdown",
      "metadata": {},
      "source": [
        "No hay salida, el archivo está vacío. Vamos a crear de nuevo un contenedor de ubuntu compartiendo la carpeta `dockerHostFolder`"
      ]
    },
    {
      "cell_type": "code",
      "execution_count": 4,
      "metadata": {},
      "outputs": [
        {
          "name": "stdout",
          "output_type": "stream",
          "text": [
            "24adbded61f507cdf7f192eb5e246e43ee3ffafc9944b7c57918eb2d547dff19\n"
          ]
        }
      ],
      "source": [
        "!docker run --name alwaysup -d -v ~/Documentos/web/portafolio/posts/dockerHostFolder:/dockerContainerFolder ubuntu tail -f /dev/null"
      ]
    },
    {
      "cell_type": "markdown",
      "metadata": {},
      "source": [
        "Vemos que el contenedor está corriendo"
      ]
    },
    {
      "cell_type": "code",
      "execution_count": 5,
      "metadata": {},
      "outputs": [
        {
          "name": "stdout",
          "output_type": "stream",
          "text": [
            "CONTAINER ID   IMAGE     COMMAND               CREATED          STATUS          PORTS     NAMES\n",
            "24adbded61f5   ubuntu    \"tail -f /dev/null\"   16 seconds ago   Up 15 seconds             alwaysup\n"
          ]
        }
      ],
      "source": [
        "!docker ps"
      ]
    },
    {
      "cell_type": "markdown",
      "metadata": {},
      "source": [
        "Entramos en el contenedor, vemos que está `text.txt` y que está vacío\n",
        "\n",
        "```bash\n",
        "$ docker exec -it alwaysup bash\n",
        "root@24adbded61f5:/# ls dockerContainerFolder/\n",
        "bindFile.txt  fileExtract.txt  text.txt\n",
        "root@24adbded61f5:/# cat dockerContainerFolder/text.txt \n",
        "root@24adbded61f5:/# \n",
        "```\n",
        "\n",
        "Ahora abrimos en el host el archivo `text.txt` con el editor de textos que queramos, escribimos `Hola mundo` y guardamos. Si ahora vemos qué hay dentro del archivo en el contenedor veremos el mismo texto\n",
        "\n",
        "```bash\n",
        "root@24adbded61f5:/# cat dockerContainerFolder/text.txt \n",
        "Hola mundo\n",
        "```\n",
        "\n",
        "Ahora editamos el archivo en el contenedor y salimos del contenedor\n",
        "\n",
        "```bash\n",
        "root@24adbded61f5:/# echo hola contenedor > dockerContainerFolder/text.txt \n",
        "root@24adbded61f5:/# cat dockerContainerFolder/text.txt \n",
        "hola contenedor\n",
        "root@24adbded61f5:/# exit\n",
        "exit\n",
        "```\n",
        "\n",
        "Si miramos el archivo en el host, veremos el texto que escribimos en el contenedor"
      ]
    },
    {
      "cell_type": "code",
      "execution_count": 6,
      "metadata": {},
      "outputs": [
        {
          "name": "stdout",
          "output_type": "stream",
          "text": [
            "hola contenedor\n"
          ]
        }
      ],
      "source": [
        "!cat dockerHostFolder/text.txt"
      ]
    },
    {
      "cell_type": "markdown",
      "metadata": {},
      "source": [
        "Borramos el contenedor"
      ]
    },
    {
      "cell_type": "code",
      "execution_count": 7,
      "metadata": {},
      "outputs": [
        {
          "name": "stdout",
          "output_type": "stream",
          "text": [
            "alwaysup\n"
          ]
        }
      ],
      "source": [
        "!docker rm -f alwaysup"
      ]
    },
    {
      "cell_type": "markdown",
      "metadata": {},
      "source": [
        "### Conectar contenedores por red"
      ]
    },
    {
      "cell_type": "markdown",
      "metadata": {},
      "source": [
        "En caso de que queramos tener varios contenedores corriendo y queramos que se comuniquen, podemos hacer que se comuniquen por red. Docker nos da la posibilidad de hacer eso mediante sus redes virtuales"
      ]
    },
    {
      "cell_type": "markdown",
      "metadata": {},
      "source": [
        "Vamos a ver qué redes tiene docker mediante el comando `docker network ls`"
      ]
    },
    {
      "cell_type": "code",
      "execution_count": 8,
      "metadata": {},
      "outputs": [
        {
          "name": "stdout",
          "output_type": "stream",
          "text": [
            "NETWORK ID     NAME      DRIVER    SCOPE\n",
            "de6e8b7b737e   bridge    bridge    local\n",
            "da1f5f6fccc0   host      host      local\n",
            "d3b0d93993c0   none      null      local\n"
          ]
        }
      ],
      "source": [
        "!docker network ls"
      ]
    },
    {
      "cell_type": "markdown",
      "metadata": {},
      "source": [
        "Vemos que por defecto Docker tiene tres redes\n",
        "* bridge: Está por retrocompatibilidad con versiones anteriores, pero no deberíamos usarla ya\n",
        " * host: Es la red del host\n",
        "* none: Esta es la opción que debemos usar si queremos que un contenedor no tenga acceso a internet"
      ]
    },
    {
      "cell_type": "markdown",
      "metadata": {},
      "source": [
        "Podemos crear redes nuevas a las que otros contenedores se puedan conectar, para ello usamos el comando `docker network create <name>`, para que otros contenedores se puedan conectar además debemos añadir la opción `--attachable`"
      ]
    },
    {
      "cell_type": "code",
      "execution_count": 11,
      "metadata": {},
      "outputs": [
        {
          "name": "stdout",
          "output_type": "stream",
          "text": [
            "2f6f3ddbfa8642e9f6819aa0965c16339e9e910be7bcf56ebb718fcac324cc27\n"
          ]
        }
      ],
      "source": [
        "!docker network create --attachable myNetwork"
      ]
    },
    {
      "cell_type": "markdown",
      "metadata": {},
      "source": [
        "Podemos inspeccionarla mediante el comando `docker network inspect <name>`"
      ]
    },
    {
      "cell_type": "code",
      "execution_count": 12,
      "metadata": {},
      "outputs": [
        {
          "name": "stdout",
          "output_type": "stream",
          "text": [
            "[\n",
            "    {\n",
            "        \"Name\": \"myNetwork\",\n",
            "        \"Id\": \"2f6f3ddbfa8642e9f6819aa0965c16339e9e910be7bcf56ebb718fcac324cc27\",\n",
            "        \"Created\": \"2022-09-14T15:20:08.539830161+02:00\",\n",
            "        \"Scope\": \"local\",\n",
            "        \"Driver\": \"bridge\",\n",
            "        \"EnableIPv6\": false,\n",
            "        \"IPAM\": {\n",
            "            \"Driver\": \"default\",\n",
            "            \"Options\": {},\n",
            "            \"Config\": [\n",
            "                {\n",
            "                    \"Subnet\": \"172.18.0.0/16\",\n",
            "                    \"Gateway\": \"172.18.0.1\"\n",
            "                }\n",
            "            ]\n",
            "        },\n",
            "        \"Internal\": false,\n",
            "        \"Attachable\": true,\n",
            "        \"Ingress\": false,\n",
            "        \"ConfigFrom\": {\n",
            "            \"Network\": \"\"\n",
            "        },\n",
            "        \"ConfigOnly\": false,\n",
            "        \"Containers\": {},\n",
            "        \"Options\": {},\n",
            "        \"Labels\": {}\n",
            "    }\n",
            "]\n"
          ]
        }
      ],
      "source": [
        "!docker network inspect myNetwork"
      ]
    },
    {
      "cell_type": "markdown",
      "metadata": {},
      "source": [
        "Ahora tenemos que crear dos contenedores para que se puedan comunicar."
      ]
    },
    {
      "cell_type": "markdown",
      "metadata": {},
      "source": [
        "Vamos a crear un nuevo contenedor, que llamaremos `container1`, con una carpeta compartida y que en su interior se llamará `folder1`"
      ]
    },
    {
      "cell_type": "code",
      "execution_count": 17,
      "metadata": {},
      "outputs": [
        {
          "name": "stdout",
          "output_type": "stream",
          "text": [
            "a5fca8ba1e4ff0a67002f8f1b8cc3cd43185373c2a7e295546f774059ad8dd1a\n"
          ]
        }
      ],
      "source": [
        "!docker run --name container1 -d -v ~/Documentos/web/portafolio/posts/dockerHostFolder:/folder1 ubuntu tail -f /dev/null"
      ]
    },
    {
      "cell_type": "markdown",
      "metadata": {},
      "source": [
        "Ahora creamos otro contenedor, llamado `container2`, con otra carpeta compartida, pero que se llame `folder2`"
      ]
    },
    {
      "cell_type": "code",
      "execution_count": 18,
      "metadata": {},
      "outputs": [
        {
          "name": "stdout",
          "output_type": "stream",
          "text": [
            "6c8dc18315488ef686f7548516c19b3d716728dd8a173cdb889ec0dd082232f9\n"
          ]
        }
      ],
      "source": [
        "!docker run --name container2 -d -v ~/Documentos/web/portafolio/posts/dockerHostFolder:/folder2 ubuntu tail -f /dev/null"
      ]
    },
    {
      "cell_type": "markdown",
      "metadata": {},
      "source": [
        "Vemos los contenedores corriendo y vemos que están los dos"
      ]
    },
    {
      "cell_type": "code",
      "execution_count": 19,
      "metadata": {},
      "outputs": [
        {
          "name": "stdout",
          "output_type": "stream",
          "text": [
            "CONTAINER ID   IMAGE     COMMAND               CREATED         STATUS         PORTS     NAMES\n",
            "6c8dc1831548   ubuntu    \"tail -f /dev/null\"   3 seconds ago   Up 2 seconds             container2\n",
            "a5fca8ba1e4f   ubuntu    \"tail -f /dev/null\"   4 seconds ago   Up 3 seconds             container1\n"
          ]
        }
      ],
      "source": [
        "!docker ps"
      ]
    },
    {
      "cell_type": "markdown",
      "metadata": {},
      "source": [
        "Ahora tenemos que conectar los contenedores a la red, para ello usamos el comando `docker network connect <network name> <container name>`"
      ]
    },
    {
      "cell_type": "code",
      "execution_count": 20,
      "metadata": {},
      "outputs": [],
      "source": [
        "!docker network connect myNetwork container1"
      ]
    },
    {
      "cell_type": "code",
      "execution_count": 21,
      "metadata": {},
      "outputs": [],
      "source": [
        "!docker network connect myNetwork container2"
      ]
    },
    {
      "cell_type": "markdown",
      "metadata": {},
      "source": [
        "Para comprobar que se han conectado correctamente podemos inspeccionar la red, pero filtrando por los contenedores conectados\n",
        "\n",
        "```bash\n",
        "$ docker network inspect --format '{{.Containers}}' myNetwork \n",
        "map\n",
        "[\n",
        "    6c8dc18315488ef686f7548516c19b3d716728dd8a173cdb889ec0dd082232f9:\n",
        "    {\n",
        "        container2 \n",
        "        f828d211e894f7a5a992ce41a2a0def8e2424e9737fb4e1485fc09cc2d607b69 \n",
        "        02:42:ac:12:00:03 \n",
        "        172.18.0.3/16 \n",
        "    }\n",
        "    a5fca8ba1e4ff0a67002f8f1b8cc3cd43185373c2a7e295546f774059ad8dd1a:\n",
        "    {\n",
        "        container1 \n",
        "        cff762e6286ebc169804b2a675bbff904102de796751d367c18d4b490c994c45 \n",
        "        02:42:ac:12:00:02 \n",
        "        172.18.0.2/16 \n",
        "    }\n",
        "]\n",
        "```\n",
        "\n",
        "Como podemos ver el contenedor `container1` tiene la IP `172.18.0.2` y el contenedor `container2` tiene la IP `172.18.0.3`"
      ]
    },
    {
      "cell_type": "markdown",
      "metadata": {},
      "source": [
        "Nos metemos dentro del contenedor `container1` e instalamos `ping`\n",
        "\n",
        "``` bash\n",
        "$ docker exec -it container1 bash\n",
        "root@a5fca8ba1e4f:/# apt update\n",
        "    ...\n",
        "root@a5fca8ba1e4f:/# apt install iputils-ping\n",
        "    ...\n",
        "root@a5fca8ba1e4f:/#\n",
        "```"
      ]
    },
    {
      "cell_type": "markdown",
      "metadata": {},
      "source": [
        "Nos metemos dentro del contenedor `container2` e instalamos `ping`\n",
        "\n",
        "```bash\n",
        "$ docker exec -it container2 bash\n",
        "root@a5fca8ba1e4f:/# apt update\n",
        "    ...\n",
        "root@a5fca8ba1e4f:/# apt install iputils-ping\n",
        "    ...\n",
        "root@a5fca8ba1e4f:/#\n",
        "```"
      ]
    },
    {
      "cell_type": "markdown",
      "metadata": {},
      "source": [
        "Ahora desde el contenedor `container1` hacemos un ping a la IP `172.18.0.3`, que pertenece al contenedor `container2`\n",
        "\n",
        "```bash\n",
        "root@a5fca8ba1e4f:/# ping 172.18.0.3\n",
        "PING 172.18.0.3 (172.18.0.3) 56(84) bytes of data.\n",
        "64 bytes from 172.18.0.3: icmp_seq=1 ttl=64 time=0.115 ms\n",
        "64 bytes from 172.18.0.3: icmp_seq=2 ttl=64 time=0.049 ms\n",
        "64 bytes from 172.18.0.3: icmp_seq=3 ttl=64 time=0.056 ms\n",
        "64 bytes from 172.18.0.3: icmp_seq=4 ttl=64 time=0.060 ms\n",
        "^C\n",
        "--- 172.18.0.3 ping statistics ---\n",
        "4 packets transmitted, 4 received, 0% packet loss, time 3068ms\n",
        "rtt min/avg/max/mdev = 0.049/0.070/0.115/0.026 ms\n",
        "```"
      ]
    },
    {
      "cell_type": "markdown",
      "metadata": {},
      "source": [
        "Y desde el contenedor `container2` hacemos un ping a la IP `172.18.0.2`, que pertenece al contenedor `container1`\n",
        "\n",
        "```bash\n",
        "root@6c8dc1831548:/# ping 172.18.0.2\n",
        "PING 172.18.0.2 (172.18.0.2) 56(84) bytes of data.\n",
        "64 bytes from 172.18.0.2: icmp_seq=1 ttl=64 time=0.076 ms\n",
        "64 bytes from 172.18.0.2: icmp_seq=2 ttl=64 time=0.045 ms\n",
        "64 bytes from 172.18.0.2: icmp_seq=3 ttl=64 time=0.049 ms\n",
        "64 bytes from 172.18.0.2: icmp_seq=4 ttl=64 time=0.051 ms\n",
        "^C\n",
        "--- 172.18.0.2 ping statistics ---\n",
        "4 packets transmitted, 4 received, 0% packet loss, time 3074ms\n",
        "rtt min/avg/max/mdev = 0.045/0.055/0.076/0.012 ms\n",
        "```"
      ]
    },
    {
      "cell_type": "markdown",
      "metadata": {},
      "source": [
        "Pero hay una cosa mejor que nos permite hacer Docker, si no me sé la IP del contenedor al que me quiero conectar, en vez de escribir su IP puedo escribir su nombre"
      ]
    },
    {
      "cell_type": "markdown",
      "metadata": {},
      "source": [
        "Ahora desde el contenedor `container1` hacemos un ping a la IP de `container2`\n",
        "\n",
        "```bash\n",
        "root@a5fca8ba1e4f:/# ping container2\n",
        "PING container2 (172.18.0.3) 56(84) bytes of data.\n",
        "64 bytes from container2.myNetwork (172.18.0.3): icmp_seq=1 ttl=64 time=0.048 ms\n",
        "64 bytes from container2.myNetwork (172.18.0.3): icmp_seq=2 ttl=64 time=0.050 ms\n",
        "64 bytes from container2.myNetwork (172.18.0.3): icmp_seq=3 ttl=64 time=0.052 ms\n",
        "64 bytes from container2.myNetwork (172.18.0.3): icmp_seq=4 ttl=64 time=0.053 ms\n",
        "^C\n",
        "--- container2 ping statistics ---\n",
        "4 packets transmitted, 4 received, 0% packet loss, time 3071ms\n",
        "rtt min/avg/max/mdev = 0.048/0.050/0.053/0.002 ms\n",
        "```\n",
        "\n",
        "Como vemos docker sabe que la IP del contenedor `container2` es la `172.18.0.3`"
      ]
    },
    {
      "cell_type": "markdown",
      "metadata": {},
      "source": [
        "Y desde el contenedor `container2` hacemos un ping a la IP de `container1`\n",
        "\n",
        "```bash\n",
        "root@6c8dc1831548:/# ping container1\n",
        "PING container1 (172.18.0.2) 56(84) bytes of data.\n",
        "64 bytes from container1.myNetwork (172.18.0.2): icmp_seq=1 ttl=64 time=0.051 ms\n",
        "64 bytes from container1.myNetwork (172.18.0.2): icmp_seq=2 ttl=64 time=0.058 ms\n",
        "64 bytes from container1.myNetwork (172.18.0.2): icmp_seq=3 ttl=64 time=0.052 ms\n",
        "64 bytes from container1.myNetwork (172.18.0.2): icmp_seq=4 ttl=64 time=0.056 ms\n",
        "^C\n",
        "--- container1 ping statistics ---\n",
        "4 packets transmitted, 4 received, 0% packet loss, time 3057ms\n",
        "rtt min/avg/max/mdev = 0.051/0.054/0.058/0.003 ms\n",
        "```\n",
        "\n",
        "Como vemos docker sabe que la IP del contenedor `container1` es la `172.18.0.2`"
      ]
    },
    {
      "cell_type": "markdown",
      "metadata": {},
      "source": [
        "Salimos de los contenedores y los borramos"
      ]
    },
    {
      "cell_type": "code",
      "execution_count": 23,
      "metadata": {},
      "outputs": [
        {
          "name": "stdout",
          "output_type": "stream",
          "text": [
            "container1\n",
            "container2\n"
          ]
        }
      ],
      "source": [
        "!docker rm -f container1 container2"
      ]
    },
    {
      "cell_type": "markdown",
      "metadata": {},
      "source": [
        "Borramos también la red que hemos creado"
      ]
    },
    {
      "cell_type": "code",
      "execution_count": 25,
      "metadata": {},
      "outputs": [
        {
          "name": "stdout",
          "output_type": "stream",
          "text": [
            "myNetwork\n"
          ]
        }
      ],
      "source": [
        "!docker network rm myNetwork"
      ]
    },
    {
      "cell_type": "markdown",
      "metadata": {},
      "source": [
        "## Uso de GPUs"
      ]
    },
    {
      "cell_type": "markdown",
      "metadata": {},
      "source": [
        "Para poder usar las GPUs del host dentro de los contenedores Docker es necesario realizar los pasos descritos en la página de instalación de [Nvidia container toolkit](https://docs.nvidia.com/datacenter/cloud-native/container-toolkit/install-guide.html)"
      ]
    },
    {
      "cell_type": "markdown",
      "metadata": {},
      "source": [
        "### Configurar el repositorio y la llave GPG"
      ]
    },
    {
      "cell_type": "markdown",
      "metadata": {},
      "source": [
        "Tenemos que configurar el repositorio de `nvidia container toolkit` y la llave GPG, para ello ejecutamos el siguiente comando en la consola\n",
        "\n",
        "``` bash\n",
        "distribution=$(. /etc/os-release;echo $ID$VERSION_ID) \\\n",
        "      && curl -fsSL https://nvidia.github.io/libnvidia-container/gpgkey | sudo gpg --dearmor -o /usr/share/keyrings/nvidia-container-toolkit-keyring.gpg \\\n",
        "      && curl -s -L https://nvidia.github.io/libnvidia-container/$distribution/libnvidia-container.list | \\\n",
        "            sed 's#deb https://#deb [signed-by=/usr/share/keyrings/nvidia-container-toolkit-keyring.gpg] https://#g' | \\\n",
        "            sudo tee /etc/apt/sources.list.d/nvidia-container-toolkit.list\n",
        "```"
      ]
    },
    {
      "cell_type": "markdown",
      "metadata": {},
      "source": [
        "### Instalación de `nvidia container toolkit`"
      ]
    },
    {
      "cell_type": "markdown",
      "metadata": {},
      "source": [
        "Una vez hemos actualizado el repositorio y la llave actualizamos los repositorios mediante el comando\n",
        "``` bash\n",
        "sudo apt update\n",
        "```\n",
        "\n",
        "E instalamos `nvidia container toolkit`\n",
        "``` bash\n",
        "sudo apt install -y nvidia-docker2\n",
        "```"
      ]
    },
    {
      "cell_type": "markdown",
      "metadata": {},
      "source": [
        "### Reinicio de docker"
      ]
    },
    {
      "cell_type": "markdown",
      "metadata": {},
      "source": [
        "Una vez hayamos terminado, tenemos que reiniciar el demonio de Docker mediante\n",
        "``` bash\n",
        "sudo systemctl restart docker\n",
        "```"
      ]
    },
    {
      "cell_type": "markdown",
      "metadata": {},
      "source": [
        "### Uso de GPUs"
      ]
    },
    {
      "cell_type": "markdown",
      "metadata": {},
      "source": [
        "Ahora que hemos configurado Docker para poder usar las GPUs del host dentro de los contenedores lo podemos probar mediante la opción `--gpus all`. Si se tiene más de una GPU y solo se quiere usar 1 habría que especificarlo, pero de momento aquí solo explicamos cómo usar todas"
      ]
    },
    {
      "cell_type": "markdown",
      "metadata": {},
      "source": [
        "Creamos un contenedor que no se va a ejecutar en segundo plano, sino que lo que va a hacer es ejecutar el comando `nvidia-smi` para que podamos ver si tiene acceso a las GPUs"
      ]
    },
    {
      "cell_type": "code",
      "execution_count": 32,
      "metadata": {},
      "outputs": [
        {
          "name": "stdout",
          "output_type": "stream",
          "text": [
            "Unable to find image 'ubuntu:latest' locally\n",
            "latest: Pulling from library/ubuntu\n",
            "\n",
            "\u001b[1B6a12be2b: Pull complete .54MB/29.54MBB\u001b[1A\u001b[2K\u001b[1A\u001b[2K\u001b[1A\u001b[2K\u001b[1A\u001b[2K\u001b[1A\u001b[2K\u001b[1A\u001b[2K\u001b[1A\u001b[2K\u001b[1A\u001b[2K\u001b[1A\u001b[2K\u001b[1A\u001b[2K\u001b[1A\u001b[2K\u001b[1A\u001b[2K\u001b[1A\u001b[2K\u001b[1A\u001b[2K\u001b[1A\u001b[2K\u001b[1A\u001b[2K\u001b[1A\u001b[2K\u001b[1A\u001b[2K\u001b[1A\u001b[2K\u001b[1A\u001b[2K\u001b[1A\u001b[2KDigest: sha256:aabed3296a3d45cede1dc866a24476c4d7e093aa806263c27ddaadbdce3c1054\n",
            "Status: Downloaded newer image for ubuntu:latest\n",
            "Mon Sep  4 07:10:36 2023       \n",
            "+-----------------------------------------------------------------------------+\n",
            "| NVIDIA-SMI 510.39.01    Driver Version: 510.39.01    CUDA Version: 11.6     |\n",
            "|-------------------------------+----------------------+----------------------+\n",
            "| GPU  Name        Persistence-M| Bus-Id        Disp.A | Volatile Uncorr. ECC |\n",
            "| Fan  Temp  Perf  Pwr:Usage/Cap|         Memory-Usage | GPU-Util  Compute M. |\n",
            "|                               |                      |               MIG M. |\n",
            "|===============================+======================+======================|\n",
            "|   0  Quadro T1000        On   | 00000000:01:00.0 Off |                  N/A |\n",
            "| N/A   44C    P0    15W /  N/A |      9MiB /  4096MiB |      0%      Default |\n",
            "|                               |                      |                  N/A |\n",
            "+-------------------------------+----------------------+----------------------+\n",
            "                                                                               \n",
            "+-----------------------------------------------------------------------------+\n",
            "| Processes:                                                                  |\n",
            "|  GPU   GI   CI        PID   Type   Process name                  GPU Memory |\n",
            "|        ID   ID                                                   Usage      |\n",
            "|=============================================================================|\n",
            "|    0   N/A  N/A      2545      G                                       4MiB |\n",
            "|    0   N/A  N/A      3421      G                                       4MiB |\n",
            "+-----------------------------------------------------------------------------+\n"
          ]
        }
      ],
      "source": [
        "!docker run --name container_gpus --gpus all ubuntu nvidia-smi"
      ]
    },
    {
      "cell_type": "markdown",
      "metadata": {},
      "source": [
        "Borramos el contenedor"
      ]
    },
    {
      "cell_type": "code",
      "execution_count": 1,
      "metadata": {},
      "outputs": [],
      "source": [
        "!doker rm container_gpus"
      ]
    },
    {
      "cell_type": "markdown",
      "metadata": {},
      "source": [
        "## Docker compose"
      ]
    },
    {
      "cell_type": "markdown",
      "metadata": {},
      "source": [
        "### Docker compose vs docker-compose"
      ]
    },
    {
      "cell_type": "markdown",
      "metadata": {},
      "source": [
        "`docker-compose` fue una herramienta que se creó para ayudar al mantenimiento de imágenes y contenedores y había que instalarla a parte de docker. Sin embargo docker lo incorporó en sus últimas versiones y ya no es necesario instalarla, sin embargo, para usarla, en vez de usar el comando `docker-compose` hay que usar el comando `docker compose`. En muchos sitios encontrarás información con `docker-compose`, pero al instalar docker ya te vendrá instalado `docker compose` por lo que todo lo que se podía hacer con `docker-compose` es compatible con `docker compose`"
      ]
    },
    {
      "cell_type": "markdown",
      "metadata": {},
      "source": [
        "### Docker compose"
      ]
    },
    {
      "cell_type": "markdown",
      "metadata": {},
      "source": [
        "Docker Compose es una herramienta de Docker que hace todo lo que hemos visto hasta ahora, pero ahorrándonos tiempo y esfuerzo. Editando un archivo `.yml` podemos decirle a Docker Compose que cree todos los contenedores que queramos.\n",
        "\n",
        "Para usarlo una vez no habrá mucha diferencia de escribir todos los comandos que vimos antes o escribir el archivo `.yml` pero cuando quieras volver a tener la misma configuración de contenedores trabajando, solo con llamar al archivo `.yml` volverá a crear toda la configuración"
      ]
    },
    {
      "cell_type": "markdown",
      "metadata": {},
      "source": [
        "Vamos a crear una carpeta donde guardaremos los archivos de Docker Compose"
      ]
    },
    {
      "cell_type": "code",
      "execution_count": 26,
      "metadata": {},
      "outputs": [],
      "source": [
        "!mkdir dockerComposeFiles"
      ]
    },
    {
      "cell_type": "markdown",
      "metadata": {},
      "source": [
        "Creamos el archivo .yml dentro"
      ]
    },
    {
      "cell_type": "code",
      "execution_count": 27,
      "metadata": {},
      "outputs": [],
      "source": [
        "!touch dockerComposeFiles/docker-compose.yml"
      ]
    },
    {
      "cell_type": "markdown",
      "metadata": {},
      "source": [
        "Un archivo Docker Compose tiene que empezar por la versión\n",
        "\n",
        "```json\n",
        "version: \"<v.v>\"\n",
        "```\n",
        "\n",
        "En el momento de escribir esto, la última versión es la `3.8` así que escribimos esa"
      ]
    },
    {
      "cell_type": "markdown",
      "metadata": {},
      "source": [
        "*docker-compose.yml*:\n",
        "\n",
        "```json\n",
        "    version: \"3.8\"\n",
        "```"
      ]
    },
    {
      "cell_type": "markdown",
      "metadata": {},
      "source": [
        "A continuación se indican los servicios, que son los contenedores. En cada servicio hay que especificar la imagen y, además, se pueden añadir otros parámetros como puertos, variables de entorno, etc.\n",
        "\n",
        "```json\n",
        "services:\n",
        "    container1:\n",
        "        image: ubuntu\n",
        "    \n",
        "    container2:\n",
        "        image: ubuntu\n",
        "```"
      ]
    },
    {
      "cell_type": "markdown",
      "metadata": {},
      "source": [
        "El `docker-compose.yml` quedaría así:\n",
        "\n",
        "```json\n",
        "    version: \"3.8\"\n",
        "\n",
        "    services:\n",
        "    container1:\n",
        "        image: ubuntu\n",
        "    \n",
        "    container2:\n",
        "        image: ubuntu\n",
        "```"
      ]
    },
    {
      "cell_type": "markdown",
      "metadata": {},
      "source": [
        "Una vez que hemos creado el archivo, en su path, podemos ejecutar todo mediante el comando `docker compose up`, pero además añadiendo la opción `-d` haremos que corra en segundo plano"
      ]
    },
    {
      "cell_type": "code",
      "execution_count": 30,
      "metadata": {},
      "outputs": [
        {
          "name": "stdout",
          "output_type": "stream",
          "text": [
            "\u001b[1A\u001b[1B\u001b[0G\u001b[?25l[+] Running 1/0\n",
            "\u001b[34m ⠿ Network dockercomposefiles_default         Created                      0.1s\n",
            "\u001b[0m\u001b[37m ⠋ Container dockercomposefiles-container2-1  Creating                     0.0s\n",
            "\u001b[0m\u001b[37m ⠋ Container dockercomposefiles-container1-1  Creating                     0.0s\n",
            "\u001b[0m\u001b[?25h\u001b[1A\u001b[1A\u001b[1A\u001b[1A\u001b[0G\u001b[?25l[+] Running 1/3\n",
            "\u001b[34m ⠿ Network dockercomposefiles_default         Created                      0.1s\n",
            "\u001b[0m\u001b[37m ⠙ Container dockercomposefiles-container2-1  Creating                     0.1s\n",
            "\u001b[0m\u001b[37m ⠙ Container dockercomposefiles-container1-1  Creating                     0.1s\n",
            "\u001b[0m\u001b[?25h\u001b[1A\u001b[1A\u001b[1A\u001b[1A\u001b[0G\u001b[?25l[+] Running 1/3\n",
            "\u001b[34m ⠿ Network dockercomposefiles_default         Created                      0.1s\n",
            "\u001b[0m\u001b[37m ⠿ Container dockercomposefiles-container2-1  Starting                     0.2s\n",
            "\u001b[0m\u001b[37m ⠿ Container dockercomposefiles-container1-1  Starting                     0.2s\n",
            "\u001b[0m\u001b[?25h\u001b[1A\u001b[1A\u001b[1A\u001b[1A\u001b[0G\u001b[?25l[+] Running 1/3\n",
            "\u001b[34m ⠿ Network dockercomposefiles_default         Created                      0.1s\n",
            "\u001b[0m\u001b[37m ⠿ Container dockercomposefiles-container2-1  Starting                     0.3s\n",
            "\u001b[0m\u001b[37m ⠿ Container dockercomposefiles-container1-1  Starting                     0.3s\n",
            "\u001b[0m\u001b[?25h\u001b[1A\u001b[1A\u001b[1A\u001b[1A\u001b[0G\u001b[?25l[+] Running 1/3\n",
            "\u001b[34m ⠿ Network dockercomposefiles_default         Created                      0.1s\n",
            "\u001b[0m\u001b[37m ⠿ Container dockercomposefiles-container2-1  Starting                     0.4s\n",
            "\u001b[0m\u001b[37m ⠿ Container dockercomposefiles-container1-1  Starting                     0.4s\n",
            "\u001b[0m\u001b[?25h\u001b[1A\u001b[1A\u001b[1A\u001b[1A\u001b[0G\u001b[?25l[+] Running 1/3\n",
            "\u001b[34m ⠿ Network dockercomposefiles_default         Created                      0.1s\n",
            "\u001b[0m\u001b[37m ⠿ Container dockercomposefiles-container2-1  Starting                     0.5s\n",
            "\u001b[0m\u001b[37m ⠿ Container dockercomposefiles-container1-1  Starting                     0.5s\n",
            "\u001b[0m\u001b[?25h\u001b[1A\u001b[1A\u001b[1A\u001b[1A\u001b[0G\u001b[?25l[+] Running 2/3\n",
            "\u001b[34m ⠿ Network dockercomposefiles_default         Created                      0.1s\n",
            "\u001b[0m\u001b[34m ⠿ Container dockercomposefiles-container2-1  Started                      0.5s\n",
            "\u001b[0m\u001b[37m ⠿ Container dockercomposefiles-container1-1  Starting                     0.6s\n",
            "\u001b[0m\u001b[?25h\u001b[1A\u001b[1A\u001b[1A\u001b[1A\u001b[0G\u001b[?25l\u001b[34m[+] Running 3/3\u001b[0m\n",
            "\u001b[34m ⠿ Network dockercomposefiles_default         Created                      0.1s\n",
            "\u001b[0m\u001b[34m ⠿ Container dockercomposefiles-container2-1  Started                      0.5s\n",
            "\u001b[0m\u001b[34m ⠿ Container dockercomposefiles-container1-1  Started                      0.7s\n",
            "\u001b[0m\u001b[?25h"
          ]
        }
      ],
      "source": [
        "!cd dockerComposeFiles && docker compose up -d"
      ]
    },
    {
      "cell_type": "markdown",
      "metadata": {},
      "source": [
        "Si nos fijamos, ha creado dos contenedores `dockercomposefiles-container1-1` y `dockercomposefiles-container2-1` y la red que los une `dockercomposefiles_default`"
      ]
    },
    {
      "cell_type": "markdown",
      "metadata": {},
      "source": [
        "Vamos a borrar los dos contenedores"
      ]
    },
    {
      "cell_type": "code",
      "execution_count": 34,
      "metadata": {},
      "outputs": [
        {
          "name": "stdout",
          "output_type": "stream",
          "text": [
            "dockercomposefiles-container1-1\n",
            "dockercomposefiles-container2-1\n"
          ]
        }
      ],
      "source": [
        "!docker rm -f dockercomposefiles-container1-1 dockercomposefiles-container2-1"
      ]
    },
    {
      "cell_type": "markdown",
      "metadata": {},
      "source": [
        "Y borramos la red que ha creado"
      ]
    },
    {
      "cell_type": "code",
      "execution_count": 35,
      "metadata": {},
      "outputs": [
        {
          "name": "stdout",
          "output_type": "stream",
          "text": [
            "dockercomposefiles_default\n"
          ]
        }
      ],
      "source": [
        "!docker network rm dockercomposefiles_default"
      ]
    },
    {
      "cell_type": "markdown",
      "metadata": {},
      "source": [
        "Vamos a intentar hacer lo que hicimos antes con lo que sabemos hasta ahora. Creamos una nueva imagen que venga con `ping` instalada\n",
        "\n",
        "*Dockerfile*:\n",
        "```docker\n",
        "    FROM ubuntu:20.04\n",
        "    RUN apt update\n",
        "    RUN apt install iputils-ping -y\n",
        "```\n",
        "\n",
        "Y la compilamos"
      ]
    },
    {
      "cell_type": "code",
      "execution_count": 2,
      "metadata": {},
      "outputs": [
        {
          "name": "stdout",
          "output_type": "stream",
          "text": [
            "Sending build context to Docker daemon  2.048kB\n",
            "Step 1/3 : FROM ubuntu:20.04\n",
            " ---> a0ce5a295b63\n",
            "Step 2/3 : RUN apt update\n",
            " ---> Running in 3bd5278d39b4\n",
            "\u001b[91m\n",
            "WARNING: apt does not have a stable CLI interface. Use with caution in scripts.\n",
            "\n",
            "\u001b[0mGet:1 http://security.ubuntu.com/ubuntu focal-security InRelease [114 kB]\n",
            "Get:2 http://archive.ubuntu.com/ubuntu focal InRelease [265 kB]\n",
            "Get:3 http://security.ubuntu.com/ubuntu focal-security/universe amd64 Packages [898 kB]\n",
            "Get:4 http://archive.ubuntu.com/ubuntu focal-updates InRelease [114 kB]\n",
            "Get:5 http://archive.ubuntu.com/ubuntu focal-backports InRelease [108 kB]\n",
            "Get:6 http://archive.ubuntu.com/ubuntu focal/universe amd64 Packages [11.3 MB]\n",
            "Get:7 http://security.ubuntu.com/ubuntu focal-security/main amd64 Packages [2133 kB]\n",
            "Get:8 http://security.ubuntu.com/ubuntu focal-security/multiverse amd64 Packages [27.5 kB]\n",
            "Get:9 http://security.ubuntu.com/ubuntu focal-security/restricted amd64 Packages [1501 kB]\n",
            "Get:10 http://archive.ubuntu.com/ubuntu focal/main amd64 Packages [1275 kB]\n",
            "Get:11 http://archive.ubuntu.com/ubuntu focal/restricted amd64 Packages [33.4 kB]\n",
            "Get:12 http://archive.ubuntu.com/ubuntu focal/multiverse amd64 Packages [177 kB]\n",
            "Get:13 http://archive.ubuntu.com/ubuntu focal-updates/main amd64 Packages [2594 kB]\n",
            "Get:14 http://archive.ubuntu.com/ubuntu focal-updates/restricted amd64 Packages [1613 kB]\n",
            "Get:15 http://archive.ubuntu.com/ubuntu focal-updates/multiverse amd64 Packages [30.2 kB]\n",
            "Get:16 http://archive.ubuntu.com/ubuntu focal-updates/universe amd64 Packages [1200 kB]\n",
            "Get:17 http://archive.ubuntu.com/ubuntu focal-backports/universe amd64 Packages [27.4 kB]\n",
            "...\n",
            "Successfully built c3d32aa9de02\n",
            "Successfully tagged ubuntu:ping\n",
            "\n",
            "Use 'docker scan' to run Snyk tests against images to find vulnerabilities and learn how to fix them\n"
          ]
        }
      ],
      "source": [
        "!docker build -t ubuntu:ping ./dockerImages"
      ]
    },
    {
      "cell_type": "markdown",
      "metadata": {},
      "source": [
        "Comprobamos que se ha creado"
      ]
    },
    {
      "cell_type": "code",
      "execution_count": 3,
      "metadata": {},
      "outputs": [
        {
          "name": "stdout",
          "output_type": "stream",
          "text": [
            "REPOSITORY        TAG       IMAGE ID       CREATED              SIZE\n",
            "ubuntu            ping      c3d32aa9de02   About a minute ago   112MB\n",
            "maximofn/ubuntu   test      a78cf3ea16d8   25 hours ago         77.8MB\n",
            "nginx             latest    2d389e545974   33 hours ago         142MB\n",
            "ubuntu            latest    2dc39ba059dc   12 days ago          77.8MB\n",
            "ubuntu            20.04     a0ce5a295b63   12 days ago          72.8MB\n",
            "hello-world       latest    feb5d9fea6a5   11 months ago        13.3kB\n"
          ]
        }
      ],
      "source": [
        "!docker image ls"
      ]
    },
    {
      "cell_type": "markdown",
      "metadata": {},
      "source": [
        "Le cambiamos el tag"
      ]
    },
    {
      "cell_type": "code",
      "execution_count": 6,
      "metadata": {},
      "outputs": [],
      "source": [
        "!docker tag ubuntu:ping maximofn/ubuntu:ping"
      ]
    },
    {
      "cell_type": "code",
      "execution_count": 8,
      "metadata": {},
      "outputs": [
        {
          "name": "stdout",
          "output_type": "stream",
          "text": [
            "REPOSITORY        TAG       IMAGE ID       CREATED              SIZE\n",
            "ubuntu            ping      c3d32aa9de02   About a minute ago   112MB\n",
            "maximofn/ubuntu   ping      c3d32aa9de02   About a minute ago   112MB\n",
            "maximofn/ubuntu   test      c3d32aa9de02   About a minute ago   112MB\n",
            "nginx             latest    2d389e545974   33 hours ago         142MB\n",
            "ubuntu            latest    2dc39ba059dc   12 days ago          77.8MB\n",
            "ubuntu            20.04     a0ce5a295b63   12 days ago          72.8MB\n",
            "hello-world       latest    feb5d9fea6a5   11 months ago        13.3kB\n"
          ]
        }
      ],
      "source": [
        "!docker image ls"
      ]
    },
    {
      "cell_type": "markdown",
      "metadata": {},
      "source": [
        "Editamos el archivo Docker Compose para que coja las imágenes que acabamos de crear\n",
        "\n",
        "*docker-compose.yml*:\n",
        "```json\n",
        "    version: \"3.8\"\n",
        "\n",
        "    services:\n",
        "      container1:\n",
        "        image: maximofn/ubuntu:ping\n",
        "\n",
        "    container2:\n",
        "        image: maximofn/ubuntu:ping\n",
        "```\n",
        "\n",
        "Y además le decimos que ejecute una no operación\n",
        "\n",
        "El `docker-compose.yml` quedaría así:\n",
        "```json\n",
        "    version: \"3.8\"\n",
        "\n",
        "    services:\n",
        "      container1:\n",
        "        image: ubuntu\n",
        "        command: tail -f /dev/null\n",
        "\n",
        "    container2:\n",
        "        image: ubuntu\n",
        "        command: tail -f /dev/null\n",
        "```\n",
        "\n",
        "Lo levantamos"
      ]
    },
    {
      "cell_type": "code",
      "execution_count": 9,
      "metadata": {},
      "outputs": [
        {
          "name": "stdout",
          "output_type": "stream",
          "text": [
            "\u001b[1A\u001b[1B\u001b[0G\u001b[?25l[+] Running 0/0\n",
            "\u001b[37m ⠋ Container dockercomposefiles-container1-1  Recreate                     0.1s\n",
            "\u001b[0m\u001b[37m ⠋ Container dockercomposefiles-container2-1  Recreate                     0.1s\n",
            "\u001b[0m\u001b[?25h\u001b[1A\u001b[1A\u001b[1A\u001b[0G\u001b[?25l[+] Running 1/2\n",
            "\u001b[34m ⠿ Container dockercomposefiles-container1-1  Recreated                    0.1s\n",
            "\u001b[0m\u001b[37m ⠙ Container dockercomposefiles-container2-1  Recreate                     0.2s\n",
            "\u001b[0m\u001b[?25h\u001b[1A\u001b[1A\u001b[1A\u001b[0G\u001b[?25l[+] Running 1/2\n",
            "\u001b[34m ⠿ Container dockercomposefiles-container1-1  Recreated                    0.1s\n",
            "\u001b[0m\u001b[37m ⠹ Container dockercomposefiles-container2-1  Recreate                     0.3s\n",
            "\u001b[0m\u001b[?25h\u001b[1A\u001b[1A\u001b[1A\u001b[0G\u001b[?25l[+] Running 1/2\n",
            "\u001b[34m ⠿ Container dockercomposefiles-container1-1  Recreated                    0.1s\n",
            "\u001b[0m\u001b[37m ⠸ Container dockercomposefiles-container2-1  Recreate                     0.4s\n",
            "\u001b[0m\u001b[?25h\u001b[1A\u001b[1A\u001b[1A\u001b[0G\u001b[?25l[+] Running 1/2\n",
            "\u001b[34m ⠿ Container dockercomposefiles-container1-1  Recreated                    0.1s\n",
            "\u001b[0m\u001b[37m ⠼ Container dockercomposefiles-container2-1  Recreate                     0.5s\n",
            "\u001b[0m\u001b[?25h\u001b[1A\u001b[1A\u001b[1A\u001b[0G\u001b[?25l[+] Running 1/2\n",
            "\u001b[34m ⠿ Container dockercomposefiles-container1-1  Recreated                    0.1s\n",
            "\u001b[0m\u001b[37m ⠴ Container dockercomposefiles-container2-1  Recreate                     0.6s\n",
            "\u001b[0m\u001b[?25h\u001b[1A\u001b[1A\u001b[1A\u001b[0G\u001b[?25l[+] Running 1/2\n",
            "\u001b[34m ⠿ Container dockercomposefiles-container1-1  Recreated                    0.1s\n",
            "\u001b[0m\u001b[37m ⠦ Container dockercomposefiles-container2-1  Recreate                     0.7s\n",
            "\u001b[0m\u001b[?25h\u001b[1A\u001b[1A\u001b[1A\u001b[0G\u001b[?25l[+] Running 1/2\n",
            "\u001b[34m ⠿ Container dockercomposefiles-container1-1  Recreated                    0.1s\n",
            "\u001b[0m\u001b[37m ⠧ Container dockercomposefiles-container2-1  Recreate                     0.8s\n",
            "\u001b[0m\u001b[?25h\u001b[1A\u001b[1A\u001b[1A\u001b[0G\u001b[?25l[+] Running 1/2\n",
            "\u001b[34m ⠿ Container dockercomposefiles-container1-1  Recreated                    0.1s\n",
            "\u001b[0m\u001b[37m ⠇ Container dockercomposefiles-container2-1  Recreate                     0.9s\n",
            "\u001b[0m\u001b[?25h\u001b[1A\u001b[1A\u001b[1A\u001b[0G\u001b[?25l[+] Running 1/2\n",
            "\u001b[34m ⠿ Container dockercomposefiles-container1-1  Recreated                    0.1s\n",
            "\u001b[0m\u001b[37m ⠏ Container dockercomposefiles-container2-1  Recreate                     1.0s\n",
            "\u001b[0m\u001b[?25h\u001b[1A\u001b[1A\u001b[1A\u001b[0G\u001b[?25l[+] Running 1/2\n",
            "\u001b[34m ⠿ Container dockercomposefiles-container1-1  Recreated                    0.1s\n",
            "\u001b[0m\u001b[37m ⠋ Container dockercomposefiles-container2-1  Recreate                     1.1s\n",
            "\u001b[0m\u001b[?25h\u001b[1A\u001b[1A\u001b[1A\u001b[0G\u001b[?25l[+] Running 1/2\n",
            "\u001b[34m ⠿ Container dockercomposefiles-container1-1  Recreated                    0.1s\n",
            "\u001b[0m\u001b[37m ⠙ Container dockercomposefiles-container2-1  Recreate                     1.2s\n",
            "\u001b[0m\u001b[?25h\u001b[1A\u001b[1A\u001b[1A\u001b[0G\u001b[?25l[+] Running 1/2\n",
            "\u001b[34m ⠿ Container dockercomposefiles-container1-1  Recreated                    0.1s\n",
            "\u001b[0m\u001b[37m ⠹ Container dockercomposefiles-container2-1  Recreate                     1.3s\n",
            "\u001b[0m\u001b[?25h\u001b[1A\u001b[1A\u001b[1A\u001b[0G\u001b[?25l[+] Running 1/2\n",
            "\u001b[34m ⠿ Container dockercomposefiles-container1-1  Recreated                    0.1s\n",
            "\u001b[0m\u001b[37m ⠸ Container dockercomposefiles-container2-1  Recreate                     1.4s\n",
            "\u001b[0m\u001b[?25h\u001b[1A\u001b[1A\u001b[1A\u001b[0G\u001b[?25l[+] Running 1/2\n",
            "\u001b[34m ⠿ Container dockercomposefiles-container1-1  Recreated                    0.1s\n",
            "...\n",
            "\u001b[0m\u001b[?25h\u001b[1A\u001b[1A\u001b[1A\u001b[0G\u001b[?25l\u001b[34m[+] Running 2/2\u001b[0m\n",
            "\u001b[34m ⠿ Container dockercomposefiles-container1-1  Started                     10.8s\n",
            "\u001b[0m\u001b[34m ⠿ Container dockercomposefiles-container2-1  Started                     10.9s\n",
            "\u001b[0m\u001b[?25h\u001b[1A\u001b[1A\u001b[1A\u001b[0G\u001b[?25l\u001b[34m[+] Running 2/2\u001b[0m\n",
            "\u001b[34m ⠿ Container dockercomposefiles-container1-1  Started                     10.8s\n",
            "\u001b[0m\u001b[34m ⠿ Container dockercomposefiles-container2-1  Started                     10.9s\n",
            "\u001b[0m\u001b[?25h"
          ]
        }
      ],
      "source": [
        "!cd dockerComposeFiles && docker compose up -d"
      ]
    },
    {
      "cell_type": "markdown",
      "metadata": {},
      "source": [
        "Vemos los contenedores que están corriendo"
      ]
    },
    {
      "cell_type": "code",
      "execution_count": 10,
      "metadata": {},
      "outputs": [
        {
          "name": "stdout",
          "output_type": "stream",
          "text": [
            "CONTAINER ID   IMAGE                  COMMAND               CREATED          STATUS          PORTS     NAMES\n",
            "935939e5a75d   maximofn/ubuntu:ping   \"tail -f /dev/null\"   15 seconds ago   Up 13 seconds             dockercomposefiles-container2-1\n",
            "f9138d7064dd   maximofn/ubuntu:ping   \"tail -f /dev/null\"   25 seconds ago   Up 13 seconds             dockercomposefiles-container1-1\n"
          ]
        }
      ],
      "source": [
        "!docker ps"
      ]
    },
    {
      "cell_type": "markdown",
      "metadata": {},
      "source": [
        "Están los dos contenedores corriendo, ahora nos metemos en uno e intentamos hacer `ping` al otro\n",
        "\n",
        "```bash\n",
        "$ docker exec -it dockercomposefiles-container1-1 bash\n",
        "root@f9138d7064dd:/# ping dockercomposefiles-container2-1\n",
        "PING dockercomposefiles-container2-1 (172.21.0.3) 56(84) bytes of data.\n",
        "64 bytes from dockercomposefiles-container2-1.dockercomposefiles_default (172.21.0.3): icmp_seq=1 ttl=64 time=0.110 ms\n",
        "64 bytes from dockercomposefiles-container2-1.dockercomposefiles_default (172.21.0.3): icmp_seq=2 ttl=64 time=0.049 ms\n",
        "64 bytes from dockercomposefiles-container2-1.dockercomposefiles_default (172.21.0.3): icmp_seq=3 ttl=64 time=0.049 ms\n",
        "64 bytes from dockercomposefiles-container2-1.dockercomposefiles_default (172.21.0.3): icmp_seq=4 ttl=64 time=0.075 ms\n",
        "^C\n",
        "--- dockercomposefiles-container2-1 ping statistics ---\n",
        "4 packets transmitted, 4 received, 0% packet loss, time 3068ms\n",
        "rtt min/avg/max/mdev = 0.049/0.070/0.110/0.025 ms\n",
        "```\n",
        "\n",
        "Como vemos, podemos hacer `ping`, hemos creado bien la imagen con `ping` instalado. Además, en el docker-compose hemos hecho que se ejecute una no operación para que los contenedores estén corriendo"
      ]
    },
    {
      "cell_type": "markdown",
      "metadata": {},
      "source": [
        "Borramos los dos contenedores y la red que hemos creado"
      ]
    },
    {
      "cell_type": "code",
      "execution_count": 11,
      "metadata": {},
      "outputs": [
        {
          "name": "stdout",
          "output_type": "stream",
          "text": [
            "dockercomposefiles-container1-1\n",
            "dockercomposefiles-container2-1\n"
          ]
        }
      ],
      "source": [
        "!docker rm -f dockercomposefiles-container1-1 dockercomposefiles-container2-1"
      ]
    },
    {
      "cell_type": "code",
      "execution_count": 12,
      "metadata": {},
      "outputs": [
        {
          "name": "stdout",
          "output_type": "stream",
          "text": [
            "dockercomposefiles_default\n"
          ]
        }
      ],
      "source": [
        "!docker network rm dockercomposefiles_default"
      ]
    },
    {
      "cell_type": "markdown",
      "metadata": {},
      "source": [
        "### Cómo nombra docker compose los contenedores"
      ]
    },
    {
      "cell_type": "markdown",
      "metadata": {},
      "source": [
        "Si nos fijamos, los contenedores que crea Docker se llaman `dockercomposefiles-container1-1` y `dockercomposefiles-container2-1`. Esto es porque la carpeta en la que está el archivo de Docker Compose está en una carpeta llamada `dockerComposeFiles`, por eso la primera parte del nombre de los contenedores es `dockercomposefiles`, a continuación aparece el nombre del servicio que le hemos dado en el archivo Docker Compose (`container1` y `container2`) y por último un número para poder crear más si es necesario\n",
        "\n",
        "Similar ocurre con el nombre de la red que ha creado `dockercomposefiles_default`"
      ]
    },
    {
      "cell_type": "markdown",
      "metadata": {},
      "source": [
        "### Logs en docker compose"
      ]
    },
    {
      "cell_type": "markdown",
      "metadata": {},
      "source": [
        "Vamos ahora a cambiar el archivo Docker Compose, en las líneas en las que teníamos `command: tail -f /dev/null`, vamos a poner `command: ping 0.0.0.0`\n",
        "\n",
        "Y además le decimos que ejecute una no operación\n",
        "\n",
        "El `docker-compose.yml` quedaría así:\n",
        "```json\n",
        "    version: \"3.8\"\n",
        "\n",
        "    services:\n",
        "      container1:\n",
        "        image: ubuntu\n",
        "        command: ping 0.0.0.0\n",
        "\n",
        "    container2:\n",
        "        image: ubuntu\n",
        "        command: ping 0.0.0.0\n",
        "```\n",
        "\n",
        "Esto lo hacemos para que cada contenedor esté escupiendo el ping constantemente, así simulamos algunos logs\n",
        "\n",
        "Si ejecutamos de nuevo el docker compose"
      ]
    },
    {
      "cell_type": "code",
      "execution_count": 1,
      "metadata": {},
      "outputs": [
        {
          "name": "stdout",
          "output_type": "stream",
          "text": [
            "\u001b[1A\u001b[1B\u001b[0G\u001b[?25l[+] Running 0/0\n",
            "\u001b[37m ⠋ Container dockercomposefiles-container1-1  Recreate                     0.1s\n",
            "\u001b[0m\u001b[37m ⠋ Container dockercomposefiles-container2-1  Recreate                     0.1s\n",
            "\u001b[0m\u001b[?25h\u001b[1A\u001b[1A\u001b[1A\u001b[0G\u001b[?25l[+] Running 0/2\n",
            "\u001b[37m ⠙ Container dockercomposefiles-container1-1  Recreate                     0.2s\n",
            "\u001b[0m\u001b[37m ⠙ Container dockercomposefiles-container2-1  Recreate                     0.2s\n",
            "\u001b[0m\u001b[?25h\u001b[1A\u001b[1A\u001b[1A\u001b[0G\u001b[?25l[+] Running 0/2\n",
            "\u001b[37m ⠹ Container dockercomposefiles-container1-1  Recreate                     0.3s\n",
            "\u001b[0m\u001b[37m ⠹ Container dockercomposefiles-container2-1  Recreate                     0.3s\n",
            "\u001b[0m\u001b[?25h\u001b[1A\u001b[1A\u001b[1A\u001b[0G\u001b[?25l[+] Running 0/2\n",
            "\u001b[37m ⠸ Container dockercomposefiles-container1-1  Recreate                     0.4s\n",
            "\u001b[0m\u001b[37m ⠸ Container dockercomposefiles-container2-1  Recreate                     0.4s\n",
            "\u001b[0m\u001b[?25h\u001b[1A\u001b[1A\u001b[1A\u001b[0G\u001b[?25l[+] Running 0/2\n",
            "\u001b[37m ⠼ Container dockercomposefiles-container1-1  Recreate                     0.5s\n",
            "\u001b[0m\u001b[37m ⠼ Container dockercomposefiles-container2-1  Recreate                     0.5s\n",
            "\u001b[0m\u001b[?25h\u001b[1A\u001b[1A\u001b[1A\u001b[0G\u001b[?25l[+] Running 0/2\n",
            "\u001b[37m ⠴ Container dockercomposefiles-container1-1  Recreate                     0.6s\n",
            "\u001b[0m\u001b[37m ⠴ Container dockercomposefiles-container2-1  Recreate                     0.6s\n",
            "\u001b[0m\u001b[?25h\u001b[1A\u001b[1A\u001b[1A\u001b[0G\u001b[?25l[+] Running 0/2\n",
            "\u001b[37m ⠦ Container dockercomposefiles-container1-1  Recreate                     0.7s\n",
            "\u001b[0m\u001b[37m ⠦ Container dockercomposefiles-container2-1  Recreate                     0.7s\n",
            "\u001b[0m\u001b[?25h\u001b[1A\u001b[1A\u001b[1A\u001b[0G\u001b[?25l[+] Running 0/2\n",
            "\u001b[37m ⠧ Container dockercomposefiles-container1-1  Recreate                     0.8s\n",
            "\u001b[0m\u001b[37m ⠧ Container dockercomposefiles-container2-1  Recreate                     0.8s\n",
            "\u001b[0m\u001b[?25h\u001b[1A\u001b[1A\u001b[1A\u001b[0G\u001b[?25l[+] Running 0/2\n",
            "...\n",
            "\u001b[37m ⠿ Container dockercomposefiles-container1-1  Starting                    11.0s\n",
            "\u001b[0m\u001b[34m ⠿ Container dockercomposefiles-container2-1  Started                     11.0s\n",
            "\u001b[0m\u001b[?25h\u001b[1A\u001b[1A\u001b[1A\u001b[0G\u001b[?25l\u001b[34m[+] Running 2/2\u001b[0m\n",
            "\u001b[34m ⠿ Container dockercomposefiles-container1-1  Started                     11.1s\n",
            "\u001b[0m\u001b[34m ⠿ Container dockercomposefiles-container2-1  Started                     11.0s\n",
            "\u001b[0m\u001b[?25h"
          ]
        }
      ],
      "source": [
        "!cd dockerComposeFiles && docker compose up -d"
      ]
    },
    {
      "cell_type": "markdown",
      "metadata": {},
      "source": [
        "Ahora podemos ver los logs de los dos contenedores mediante el comando `docker compose logs`"
      ]
    },
    {
      "cell_type": "code",
      "execution_count": 3,
      "metadata": {},
      "outputs": [
        {
          "name": "stdout",
          "output_type": "stream",
          "text": [
            "\u001b[36mdockercomposefiles-container2-1  | \u001b[0mPING 0.0.0.0 (127.0.0.1) 56(84) bytes of data.\n",
            "\u001b[36mdockercomposefiles-container2-1  | \u001b[0m64 bytes from 127.0.0.1: icmp_seq=1 ttl=64 time=0.042 ms\n",
            "\u001b[36mdockercomposefiles-container2-1  | \u001b[0m64 bytes from 127.0.0.1: icmp_seq=2 ttl=64 time=0.025 ms\n",
            "\u001b[36mdockercomposefiles-container2-1  | \u001b[0m64 bytes from 127.0.0.1: icmp_seq=3 ttl=64 time=0.022 ms\n",
            "\u001b[36mdockercomposefiles-container2-1  | \u001b[0m64 bytes from 127.0.0.1: icmp_seq=4 ttl=64 time=0.030 ms\n",
            "\u001b[36mdockercomposefiles-container2-1  | \u001b[0m64 bytes from 127.0.0.1: icmp_seq=5 ttl=64 time=0.021 ms\n",
            "\u001b[36mdockercomposefiles-container2-1  | \u001b[0m64 bytes from 127.0.0.1: icmp_seq=6 ttl=64 time=0.021 ms\n",
            "\u001b[36mdockercomposefiles-container2-1  | \u001b[0m64 bytes from 127.0.0.1: icmp_seq=7 ttl=64 time=0.030 ms\n",
            "\u001b[36mdockercomposefiles-container2-1  | \u001b[0m64 bytes from 127.0.0.1: icmp_seq=8 ttl=64 time=0.028 ms\n",
            "\u001b[36mdockercomposefiles-container2-1  | \u001b[0m64 bytes from 127.0.0.1: icmp_seq=9 ttl=64 time=0.028 ms\n",
            "\u001b[36mdockercomposefiles-container2-1  | \u001b[0m64 bytes from 127.0.0.1: icmp_seq=10 ttl=64 time=0.026 ms\n",
            "\u001b[36mdockercomposefiles-container2-1  | \u001b[0m64 bytes from 127.0.0.1: icmp_seq=11 ttl=64 time=0.028 ms\n",
            "\u001b[33mdockercomposefiles-container1-1  | \u001b[0mPING 0.0.0.0 (127.0.0.1) 56(84) bytes of data.\n",
            "\u001b[36mdockercomposefiles-container2-1  | \u001b[0m64 bytes from 127.0.0.1: icmp_seq=12 ttl=64 time=0.027 ms\n",
            "\u001b[36mdockercomposefiles-container2-1  | \u001b[0m64 bytes from 127.0.0.1: icmp_seq=13 ttl=64 time=0.039 ms\n",
            "\u001b[36mdockercomposefiles-container2-1  | \u001b[0m64 bytes from 127.0.0.1: icmp_seq=14 ttl=64 time=0.035 ms\n",
            "\u001b[36mdockercomposefiles-container2-1  | \u001b[0m64 bytes from 127.0.0.1: icmp_seq=15 ttl=64 time=0.034 ms\n",
            "\u001b[36mdockercomposefiles-container2-1  | \u001b[0m64 bytes from 127.0.0.1: icmp_seq=16 ttl=64 time=0.036 ms\n",
            "\u001b[36mdockercomposefiles-container2-1  | \u001b[0m64 bytes from 127.0.0.1: icmp_seq=17 ttl=64 time=0.034 ms\n",
            "\u001b[36mdockercomposefiles-container2-1  | \u001b[0m64 bytes from 127.0.0.1: icmp_seq=18 ttl=64 time=0.036 ms\n",
            "\u001b[36mdockercomposefiles-container2-1  | \u001b[0m64 bytes from 127.0.0.1: icmp_seq=19 ttl=64 time=0.032 ms\n",
            "\u001b[36mdockercomposefiles-container2-1  | \u001b[0m64 bytes from 127.0.0.1: icmp_seq=20 ttl=64 time=0.032 ms\n",
            "\u001b[36mdockercomposefiles-container2-1  | \u001b[0m64 bytes from 127.0.0.1: icmp_seq=21 ttl=64 time=0.033 ms\n",
            "\u001b[36mdockercomposefiles-container2-1  | \u001b[0m64 bytes from 127.0.0.1: icmp_seq=22 ttl=64 time=0.034 ms\n",
            "\u001b[33mdockercomposefiles-container1-1  | \u001b[0m64 bytes from 127.0.0.1: icmp_seq=1 ttl=64 time=0.037 ms\n",
            "...\n",
            "\u001b[33mdockercomposefiles-container1-1  | \u001b[0m64 bytes from 127.0.0.1: icmp_seq=214 ttl=64 time=0.015 ms\n",
            "\u001b[33mdockercomposefiles-container1-1  | \u001b[0m64 bytes from 127.0.0.1: icmp_seq=215 ttl=64 time=0.021 ms\n",
            "\u001b[33mdockercomposefiles-container1-1  | \u001b[0m64 bytes from 127.0.0.1: icmp_seq=216 ttl=64 time=0.020 ms\n",
            "\u001b[33mdockercomposefiles-container1-1  | \u001b[0m64 bytes from 127.0.0.1: icmp_seq=217 ttl=64 time=0.049 ms\n"
          ]
        }
      ],
      "source": [
        "!cd dockerComposeFiles && docker compose logs"
      ]
    },
    {
      "cell_type": "markdown",
      "metadata": {},
      "source": [
        "Como vemos, podemos ver los logs de los dos contenedores, pero en el caso de querer ver solo los de uno, podemos especificar el **nombre del servicio**"
      ]
    },
    {
      "cell_type": "code",
      "execution_count": 5,
      "metadata": {},
      "outputs": [
        {
          "name": "stdout",
          "output_type": "stream",
          "text": [
            "\u001b[36mdockercomposefiles-container1-1  | \u001b[0mPING 0.0.0.0 (127.0.0.1) 56(84) bytes of data.\n",
            "\u001b[36mdockercomposefiles-container1-1  | \u001b[0m64 bytes from 127.0.0.1: icmp_seq=1 ttl=64 time=0.037 ms\n",
            "\u001b[36mdockercomposefiles-container1-1  | \u001b[0m64 bytes from 127.0.0.1: icmp_seq=2 ttl=64 time=0.025 ms\n",
            "\u001b[36mdockercomposefiles-container1-1  | \u001b[0m64 bytes from 127.0.0.1: icmp_seq=3 ttl=64 time=0.023 ms\n",
            "\u001b[36mdockercomposefiles-container1-1  | \u001b[0m64 bytes from 127.0.0.1: icmp_seq=4 ttl=64 time=0.031 ms\n",
            "\u001b[36mdockercomposefiles-container1-1  | \u001b[0m64 bytes from 127.0.0.1: icmp_seq=5 ttl=64 time=0.034 ms\n",
            "\u001b[36mdockercomposefiles-container1-1  | \u001b[0m64 bytes from 127.0.0.1: icmp_seq=6 ttl=64 time=0.033 ms\n",
            "\u001b[36mdockercomposefiles-container1-1  | \u001b[0m64 bytes from 127.0.0.1: icmp_seq=7 ttl=64 time=0.034 ms\n",
            "\u001b[36mdockercomposefiles-container1-1  | \u001b[0m64 bytes from 127.0.0.1: icmp_seq=8 ttl=64 time=0.022 ms\n",
            "\u001b[36mdockercomposefiles-container1-1  | \u001b[0m64 bytes from 127.0.0.1: icmp_seq=9 ttl=64 time=0.032 ms\n",
            "\u001b[36mdockercomposefiles-container1-1  | \u001b[0m64 bytes from 127.0.0.1: icmp_seq=10 ttl=64 time=0.029 ms\n",
            "\u001b[36mdockercomposefiles-container1-1  | \u001b[0m64 bytes from 127.0.0.1: icmp_seq=11 ttl=64 time=0.031 ms\n",
            "\u001b[36mdockercomposefiles-container1-1  | \u001b[0m64 bytes from 127.0.0.1: icmp_seq=12 ttl=64 time=0.024 ms\n",
            "\u001b[36mdockercomposefiles-container1-1  | \u001b[0m64 bytes from 127.0.0.1: icmp_seq=13 ttl=64 time=0.029 ms\n",
            "\u001b[36mdockercomposefiles-container1-1  | \u001b[0m64 bytes from 127.0.0.1: icmp_seq=14 ttl=64 time=0.032 ms\n",
            "\u001b[36mdockercomposefiles-container1-1  | \u001b[0m64 bytes from 127.0.0.1: icmp_seq=15 ttl=64 time=0.033 ms\n",
            "\u001b[36mdockercomposefiles-container1-1  | \u001b[0m64 bytes from 127.0.0.1: icmp_seq=16 ttl=64 time=0.034 ms\n",
            "\u001b[36mdockercomposefiles-container1-1  | \u001b[0m64 bytes from 127.0.0.1: icmp_seq=17 ttl=64 time=0.028 ms\n",
            "\u001b[36mdockercomposefiles-container1-1  | \u001b[0m64 bytes from 127.0.0.1: icmp_seq=18 ttl=64 time=0.034 ms\n",
            "...\n",
            "\u001b[36mdockercomposefiles-container1-1  | \u001b[0m64 bytes from 127.0.0.1: icmp_seq=332 ttl=64 time=0.027 ms\n",
            "\u001b[36mdockercomposefiles-container1-1  | \u001b[0m64 bytes from 127.0.0.1: icmp_seq=333 ttl=64 time=0.030 ms\n",
            "\u001b[36mdockercomposefiles-container1-1  | \u001b[0m64 bytes from 127.0.0.1: icmp_seq=334 ttl=64 time=0.033 ms\n",
            "\u001b[36mdockercomposefiles-container1-1  | \u001b[0m64 bytes from 127.0.0.1: icmp_seq=335 ttl=64 time=0.036 ms\n"
          ]
        }
      ],
      "source": [
        "!cd dockerComposeFiles && docker compose logs container1"
      ]
    },
    {
      "cell_type": "code",
      "execution_count": 6,
      "metadata": {},
      "outputs": [
        {
          "name": "stdout",
          "output_type": "stream",
          "text": [
            "\u001b[36mdockercomposefiles-container2-1  | \u001b[0mPING 0.0.0.0 (127.0.0.1) 56(84) bytes of data.\n",
            "\u001b[36mdockercomposefiles-container2-1  | \u001b[0m64 bytes from 127.0.0.1: icmp_seq=1 ttl=64 time=0.042 ms\n",
            "\u001b[36mdockercomposefiles-container2-1  | \u001b[0m64 bytes from 127.0.0.1: icmp_seq=2 ttl=64 time=0.025 ms\n",
            "\u001b[36mdockercomposefiles-container2-1  | \u001b[0m64 bytes from 127.0.0.1: icmp_seq=3 ttl=64 time=0.022 ms\n",
            "\u001b[36mdockercomposefiles-container2-1  | \u001b[0m64 bytes from 127.0.0.1: icmp_seq=4 ttl=64 time=0.030 ms\n",
            "\u001b[36mdockercomposefiles-container2-1  | \u001b[0m64 bytes from 127.0.0.1: icmp_seq=5 ttl=64 time=0.021 ms\n",
            "\u001b[36mdockercomposefiles-container2-1  | \u001b[0m64 bytes from 127.0.0.1: icmp_seq=6 ttl=64 time=0.021 ms\n",
            "\u001b[36mdockercomposefiles-container2-1  | \u001b[0m64 bytes from 127.0.0.1: icmp_seq=7 ttl=64 time=0.030 ms\n",
            "\u001b[36mdockercomposefiles-container2-1  | \u001b[0m64 bytes from 127.0.0.1: icmp_seq=8 ttl=64 time=0.028 ms\n",
            "\u001b[36mdockercomposefiles-container2-1  | \u001b[0m64 bytes from 127.0.0.1: icmp_seq=9 ttl=64 time=0.028 ms\n",
            "\u001b[36mdockercomposefiles-container2-1  | \u001b[0m64 bytes from 127.0.0.1: icmp_seq=10 ttl=64 time=0.026 ms\n",
            "\u001b[36mdockercomposefiles-container2-1  | \u001b[0m64 bytes from 127.0.0.1: icmp_seq=11 ttl=64 time=0.028 ms\n",
            "\u001b[36mdockercomposefiles-container2-1  | \u001b[0m64 bytes from 127.0.0.1: icmp_seq=12 ttl=64 time=0.027 ms\n",
            "\u001b[36mdockercomposefiles-container2-1  | \u001b[0m64 bytes from 127.0.0.1: icmp_seq=13 ttl=64 time=0.039 ms\n",
            "\u001b[36mdockercomposefiles-container2-1  | \u001b[0m64 bytes from 127.0.0.1: icmp_seq=14 ttl=64 time=0.035 ms\n",
            "\u001b[36mdockercomposefiles-container2-1  | \u001b[0m64 bytes from 127.0.0.1: icmp_seq=15 ttl=64 time=0.034 ms\n",
            "\u001b[36mdockercomposefiles-container2-1  | \u001b[0m64 bytes from 127.0.0.1: icmp_seq=16 ttl=64 time=0.036 ms\n",
            "\u001b[36mdockercomposefiles-container2-1  | \u001b[0m64 bytes from 127.0.0.1: icmp_seq=17 ttl=64 time=0.034 ms\n",
            "\u001b[36mdockercomposefiles-container2-1  | \u001b[0m64 bytes from 127.0.0.1: icmp_seq=18 ttl=64 time=0.036 ms\n",
            "\u001b[36mdockercomposefiles-container2-1  | \u001b[0m64 bytes from 127.0.0.1: icmp_seq=19 ttl=64 time=0.032 ms\n",
            "\u001b[36mdockercomposefiles-container2-1  | \u001b[0m64 bytes from 127.0.0.1: icmp_seq=20 ttl=64 time=0.032 ms\n",
            "\u001b[36mdockercomposefiles-container2-1  | \u001b[0m64 bytes from 127.0.0.1: icmp_seq=21 ttl=64 time=0.033 ms\n",
            "\u001b[36mdockercomposefiles-container2-1  | \u001b[0m64 bytes from 127.0.0.1: icmp_seq=22 ttl=64 time=0.034 ms\n",
            "\u001b[36mdockercomposefiles-container2-1  | \u001b[0m64 bytes from 127.0.0.1: icmp_seq=23 ttl=64 time=0.035 ms\n",
            "\u001b[36mdockercomposefiles-container2-1  | \u001b[0m64 bytes from 127.0.0.1: icmp_seq=24 ttl=64 time=0.037 ms\n",
            "...\n",
            "\u001b[36mdockercomposefiles-container2-1  | \u001b[0m64 bytes from 127.0.0.1: icmp_seq=340 ttl=64 time=0.034 ms\n",
            "\u001b[36mdockercomposefiles-container2-1  | \u001b[0m64 bytes from 127.0.0.1: icmp_seq=341 ttl=64 time=0.033 ms\n",
            "\u001b[36mdockercomposefiles-container2-1  | \u001b[0m64 bytes from 127.0.0.1: icmp_seq=342 ttl=64 time=0.034 ms\n",
            "\u001b[36mdockercomposefiles-container2-1  | \u001b[0m64 bytes from 127.0.0.1: icmp_seq=343 ttl=64 time=0.036 ms\n"
          ]
        }
      ],
      "source": [
        "!cd dockerComposeFiles && docker compose logs container2"
      ]
    },
    {
      "cell_type": "markdown",
      "metadata": {},
      "source": [
        "Si queremos ver los logs continuamente, podemos añadir la opción `-f`: `docker compose logs -f <service name>`"
      ]
    },
    {
      "cell_type": "markdown",
      "metadata": {},
      "source": [
        "Si he hecho un docker compose con más de dos servicios, cuando se quiera ver los logs de varios servicios solo hay que añadir más nombres al comando, `docker compose logs <name service 1> <name service 2> ...`"
      ]
    },
    {
      "cell_type": "markdown",
      "metadata": {},
      "source": [
        "### Exec servicios"
      ]
    },
    {
      "cell_type": "markdown",
      "metadata": {},
      "source": [
        "Como hemos visto, mediante el comando `exec` podemos entrar a un contenedor indicando el nombre del contenedor, el comando que se quiere ejecutar y la opción `-it`. Con Docker Compose esto es más sencillo, ya que solamente es necesario el nombre del servicio y el comando, pero no es necesaria la opción `-it` ya que Docker Compose lo da por supuesto\n",
        "\n",
        "```bash\n",
        "$ docker compose exec container1 bash\n",
        "root@a7cf282fe66c:/#\n",
        "```"
      ]
    },
    {
      "cell_type": "markdown",
      "metadata": {},
      "source": [
        "### Deteniendo docker compose"
      ]
    },
    {
      "cell_type": "markdown",
      "metadata": {},
      "source": [
        "Cuando hemos terminado de trabajar, con un solo comando (`stop`), Docker Compose para todo, no hace falta ir parando uno a uno cada contenedor"
      ]
    },
    {
      "cell_type": "code",
      "execution_count": 7,
      "metadata": {},
      "outputs": [
        {
          "name": "stdout",
          "output_type": "stream",
          "text": [
            "\u001b[1A\u001b[1B\u001b[0G\u001b[?25l[+] Running 0/0\n",
            "\u001b[37m ⠋ Container dockercomposefiles-container2-1  Stopping                     0.1s\n",
            "\u001b[0m\u001b[37m ⠋ Container dockercomposefiles-container1-1  Stopping                     0.1s\n",
            "\u001b[0m\u001b[?25h\u001b[1A\u001b[1A\u001b[1A\u001b[0G\u001b[?25l[+] Running 0/2\n",
            "\u001b[37m ⠙ Container dockercomposefiles-container2-1  Stopping                     0.2s\n",
            "\u001b[0m\u001b[37m ⠙ Container dockercomposefiles-container1-1  Stopping                     0.2s\n",
            "\u001b[0m\u001b[?25h\u001b[1A\u001b[1A\u001b[1A\u001b[0G\u001b[?25l[+] Running 0/2\n",
            "\u001b[37m ⠹ Container dockercomposefiles-container2-1  Stopping                     0.3s\n",
            "\u001b[0m\u001b[37m ⠹ Container dockercomposefiles-container1-1  Stopping                     0.3s\n",
            "\u001b[0m\u001b[?25h\u001b[1A\u001b[1A\u001b[1A\u001b[0G\u001b[?25l[+] Running 0/2\n",
            "\u001b[37m ⠸ Container dockercomposefiles-container2-1  Stopping                     0.4s\n",
            "\u001b[0m\u001b[37m ⠸ Container dockercomposefiles-container1-1  Stopping                     0.4s\n",
            "\u001b[0m\u001b[?25h\u001b[1A\u001b[1A\u001b[1A\u001b[0G\u001b[?25l[+] Running 0/2\n",
            "\u001b[37m ⠼ Container dockercomposefiles-container2-1  Stopping                     0.5s\n",
            "\u001b[0m\u001b[37m ⠼ Container dockercomposefiles-container1-1  Stopping                     0.5s\n",
            "\u001b[0m\u001b[?25h\u001b[1A\u001b[1A\u001b[1A\u001b[0G\u001b[?25l[+] Running 0/2\n",
            "\u001b[37m ⠴ Container dockercomposefiles-container2-1  Stopping                     0.6s\n",
            "\u001b[0m\u001b[37m ⠴ Container dockercomposefiles-container1-1  Stopping                     0.6s\n",
            "\u001b[0m\u001b[?25h\u001b[1A\u001b[1A\u001b[1A\u001b[0G\u001b[?25l[+] Running 0/2\n",
            "\u001b[37m ⠦ Container dockercomposefiles-container2-1  Stopping                     0.7s\n",
            "\u001b[0m\u001b[37m ⠦ Container dockercomposefiles-container1-1  Stopping                     0.7s\n",
            "\u001b[0m\u001b[?25h\u001b[1A\u001b[1A\u001b[1A\u001b[0G\u001b[?25l[+] Running 0/2\n",
            "\u001b[37m ⠧ Container dockercomposefiles-container2-1  Stopping                     0.8s\n",
            "\u001b[0m\u001b[37m ⠧ Container dockercomposefiles-container1-1  Stopping                     0.8s\n",
            "...\n",
            "\u001b[0m\u001b[?25h\u001b[1A\u001b[1A\u001b[1A\u001b[0G\u001b[?25l[+] Running 1/2\n",
            "\u001b[34m ⠿ Container dockercomposefiles-container2-1  Stopped                     10.4s\n",
            "\u001b[0m\u001b[37m ⠸ Container dockercomposefiles-container1-1  Stopping                    10.4s\n",
            "\u001b[0m\u001b[?25h\u001b[1A\u001b[1A\u001b[1A\u001b[0G\u001b[?25l\u001b[34m[+] Running 2/2\u001b[0m\n",
            "\u001b[34m ⠿ Container dockercomposefiles-container2-1  Stopped                     10.4s\n",
            "\u001b[0m\u001b[34m ⠿ Container dockercomposefiles-container1-1  Stopped                     10.4s\n",
            "\u001b[0m\u001b[?25h"
          ]
        }
      ],
      "source": [
        "!cd dockerComposeFiles && docker compose stop"
      ]
    },
    {
      "cell_type": "markdown",
      "metadata": {},
      "source": [
        "Como se puede ver, docker compose ha parado los dos contenedores, pero no los ha borrado, ni ha borrado la red"
      ]
    },
    {
      "cell_type": "code",
      "execution_count": 8,
      "metadata": {},
      "outputs": [
        {
          "name": "stdout",
          "output_type": "stream",
          "text": [
            "CONTAINER ID   IMAGE     COMMAND   CREATED   STATUS    PORTS     NAMES\n"
          ]
        }
      ],
      "source": [
        "!docker ps"
      ]
    },
    {
      "cell_type": "code",
      "execution_count": 9,
      "metadata": {},
      "outputs": [
        {
          "name": "stdout",
          "output_type": "stream",
          "text": [
            "CONTAINER ID   IMAGE                  COMMAND          CREATED          STATUS                        PORTS     NAMES\n",
            "1e6c1dd9adb2   maximofn/ubuntu:ping   \"ping 0.0.0.0\"   16 minutes ago   Exited (137) 25 seconds ago             dockercomposefiles-container2-1\n",
            "a7cf282fe66c   maximofn/ubuntu:ping   \"ping 0.0.0.0\"   16 minutes ago   Exited (137) 25 seconds ago             dockercomposefiles-container1-1\n"
          ]
        }
      ],
      "source": [
        "!docker ps -a"
      ]
    },
    {
      "cell_type": "code",
      "execution_count": 10,
      "metadata": {},
      "outputs": [
        {
          "name": "stdout",
          "output_type": "stream",
          "text": [
            "NETWORK ID     NAME                         DRIVER    SCOPE\n",
            "13cc632147f3   bridge                       bridge    local\n",
            "d4a2f718cd83   dockercomposefiles_default   bridge    local\n",
            "da1f5f6fccc0   host                         host      local\n",
            "d3b0d93993c0   none                         null      local\n"
          ]
        }
      ],
      "source": [
        "!docker network ls"
      ]
    },
    {
      "cell_type": "markdown",
      "metadata": {},
      "source": [
        "### Docker compose como herramienta de desarrollo"
      ]
    },
    {
      "cell_type": "markdown",
      "metadata": {},
      "source": [
        "Al igual que vimos antes, para poder desarrollar, lo ideal sería compartir la carpeta que tiene el código con el servicio. Esto con docker compose se hace añadiendo la etiqueta `volumes` al archivo docker compose. Primero tenemos que añadirle la ruta de la carpeta donde está el código en el host y luego la ruta en el contenedor.\n",
        "\n",
        "*docker-compose.yml*:\n",
        "```json\n",
        "    version: \"3.8\"\n",
        "\n",
        "    services:\n",
        "      container1:\n",
        "        image: ubuntu\n",
        "        command: ping 0.0.0.0\n",
        "        volumes:\n",
        "            - ../dockerHostFolder/:/dockerContainerFolder\n",
        "\n",
        "    container2:\n",
        "        image: ubuntu\n",
        "        command: ping 0.0.0.0\n",
        "```\n",
        "\n",
        "Como se puede ver, la ruta de la carpeta del host la he puesto relativa\n",
        "\n",
        "Si levantamos el Docker Compose"
      ]
    },
    {
      "cell_type": "code",
      "execution_count": 11,
      "metadata": {},
      "outputs": [
        {
          "name": "stdout",
          "output_type": "stream",
          "text": [
            "\u001b[1A\u001b[1B\u001b[0G\u001b[?25l[+] Running 1/0\n",
            "\u001b[37m ⠋ Container dockercomposefiles-container1-1  Recreate                     0.1s\n",
            "\u001b[0m\u001b[34m ⠿ Container dockercomposefiles-container2-1  Created                      0.0s\n",
            "\u001b[0m\u001b[?25h\u001b[1A\u001b[1A\u001b[1A\u001b[0G\u001b[?25l[+] Running 0/2\n",
            "\u001b[37m ⠿ Container dockercomposefiles-container1-1  Starting                     0.2s\n",
            "\u001b[0m\u001b[37m ⠿ Container dockercomposefiles-container2-1  Starting                     0.2s\n",
            "\u001b[0m\u001b[?25h\u001b[1A\u001b[1A\u001b[1A\u001b[0G\u001b[?25l[+] Running 0/2\n",
            "\u001b[37m ⠿ Container dockercomposefiles-container1-1  Starting                     0.3s\n",
            "\u001b[0m\u001b[37m ⠿ Container dockercomposefiles-container2-1  Starting                     0.3s\n",
            "\u001b[0m\u001b[?25h\u001b[1A\u001b[1A\u001b[1A\u001b[0G\u001b[?25l[+] Running 0/2\n",
            "\u001b[37m ⠿ Container dockercomposefiles-container1-1  Starting                     0.4s\n",
            "\u001b[0m\u001b[37m ⠿ Container dockercomposefiles-container2-1  Starting                     0.4s\n",
            "\u001b[0m\u001b[?25h\u001b[1A\u001b[1A\u001b[1A\u001b[0G\u001b[?25l[+] Running 1/2\n",
            "\u001b[34m ⠿ Container dockercomposefiles-container1-1  Started                      0.5s\n",
            "\u001b[0m\u001b[37m ⠿ Container dockercomposefiles-container2-1  Starting                     0.5s\n",
            "\u001b[0m\u001b[?25h\u001b[1A\u001b[1A\u001b[1A\u001b[0G\u001b[?25l\u001b[34m[+] Running 2/2\u001b[0m\n",
            "\u001b[34m ⠿ Container dockercomposefiles-container1-1  Started                      0.5s\n",
            "\u001b[0m\u001b[34m ⠿ Container dockercomposefiles-container2-1  Started                      0.6s\n",
            "\u001b[0m\u001b[?25h"
          ]
        }
      ],
      "source": [
        "!cd dockerComposeFiles && docker compose up -d"
      ]
    },
    {
      "cell_type": "markdown",
      "metadata": {},
      "source": [
        "Si entramos en el contenedor, podemos ver qué hay dentro del archivo text.txt\n",
        "\n",
        "```bash\n",
        "$ docker compose exec container1 bash\n",
        "root@c8aae9d619d3:/# ls dockerContainerFolder/\n",
        "bindFile.txt  fileExtract.txt  text.txt\n",
        "root@c8aae9d619d3:/# cat dockerContainerFolder/text.txt \n",
        "hola contenedor\n",
        "```\n",
        "\n",
        "Si ahora lo abrimos en el host, escribimos `hola host` y volvemos a ver en el contenedor\n",
        "\n",
        "```bash\n",
        "root@c8aae9d619d3:/# cat dockerContainerFolder/text.txt \n",
        "hola host\n",
        "```\n",
        "\n",
        "Y ahora al revés, si lo modificamos en el contenedor\n",
        "\n",
        "```bash\n",
        "root@c8aae9d619d3:/# echo hola compose > dockerContainerFolder/text.txt\n",
        "root@c8aae9d619d3:/# exit\n",
        "exit\n",
        "```\n",
        "\n",
        "Si lo vemos desde el host, debemos obtener `hola compose`"
      ]
    },
    {
      "cell_type": "code",
      "execution_count": 12,
      "metadata": {},
      "outputs": [
        {
          "name": "stdout",
          "output_type": "stream",
          "text": [
            "hola compose\n"
          ]
        }
      ],
      "source": [
        "!cat dockerHostFolder/text.txt"
      ]
    },
    {
      "cell_type": "markdown",
      "metadata": {},
      "source": [
        "### Exposición de puertos en docker compose"
      ]
    },
    {
      "cell_type": "markdown",
      "metadata": {},
      "source": [
        "También podemos configurar los puertos en el archivo de Docker Compose, mediante la etiqueta `ports`, indicando el puerto del host y a continuación la IP del servicio\n",
        "\n",
        "```json\n",
        "ports:\n",
        "    - <host port>:<service port>\n",
        "```"
      ]
    },
    {
      "cell_type": "markdown",
      "metadata": {},
      "source": [
        "### Docker compose en equipo - docker override"
      ]
    },
    {
      "cell_type": "markdown",
      "metadata": {},
      "source": [
        "Si somos un grupo de personas desarrollando sobre Docker con Docker Compose, es probable que muchas personas anden cambiando el archivo Docker Compose, lo cual puede hacer que no se sincronicen bien y haya conflictos.\n",
        "\n",
        "Para solucionar esto Docker ofrece una herramienta llamada Docker Override. De esta manera puede haber un archivo Docker Compose base y que cada uno lo modifique mediante Docker Override.\n",
        "\n",
        "Para hacer esto, ahora tenemos que crear un archivo llamado `docker-compose.override.yml` que será el que podremos editar"
      ]
    },
    {
      "cell_type": "code",
      "execution_count": 13,
      "metadata": {},
      "outputs": [],
      "source": [
        "!touch dockerComposeFiles/docker-compose.override.yml"
      ]
    },
    {
      "cell_type": "markdown",
      "metadata": {},
      "source": [
        "Si ahora intentamos levantar el Docker Compose vamos a recibir un error"
      ]
    },
    {
      "cell_type": "code",
      "execution_count": 14,
      "metadata": {},
      "outputs": [
        {
          "name": "stdout",
          "output_type": "stream",
          "text": [
            "Top-level object must be a mapping\n"
          ]
        }
      ],
      "source": [
        "!cd dockerComposeFiles && docker compose up -d"
      ]
    },
    {
      "cell_type": "markdown",
      "metadata": {},
      "source": [
        "Y esto es porque Docker Compose ha detectado que hay un archivo llamado `docker-compose.override.yml` y que está vacío, por lo que vamos a editarlo. El archivo `docker-compose.override.yml` lo que hace es editar el archivo `docker-compose.yml`, por lo que si por ejemplo queremos hacer un cambio en el servicio `container2` para añadirle un volumen escribiríamos así el archivo `docker-compose.override.yml`\n",
        "\n",
        "*docker-compose.override.yml*:\n",
        "```json\n",
        "    version: \"3.8\"\n",
        "\n",
        "    services:\n",
        "    container2:\n",
        "        volumes:\n",
        "        - ../dockerHostFolder/:/dockerOverrideFolder\n",
        "```\n",
        "\n",
        "Date cuenta de que la carpeta compartida en el servicio la he llamado `dockerOverrideFolder`, por lo que vamos a levantar el docker compose y ver si vemos esa carpeta en el contenedor `container2`"
      ]
    },
    {
      "cell_type": "code",
      "execution_count": 15,
      "metadata": {},
      "outputs": [
        {
          "name": "stdout",
          "output_type": "stream",
          "text": [
            "\u001b[1A\u001b[1B\u001b[0G\u001b[?25l[+] Running 1/0\n",
            "\u001b[37m ⠋ Container dockercomposefiles-container2-1  Recreate                     0.1s\n",
            "\u001b[0m\u001b[34m ⠿ Container dockercomposefiles-container1-1  Running                      0.0s\n",
            "\u001b[0m\u001b[?25h\u001b[1A\u001b[1A\u001b[1A\u001b[0G\u001b[?25l[+] Running 1/2\n",
            "\u001b[37m ⠙ Container dockercomposefiles-container2-1  Recreate                     0.2s\n",
            "\u001b[0m\u001b[34m ⠿ Container dockercomposefiles-container1-1  Running                      0.0s\n",
            "\u001b[0m\u001b[?25h\u001b[1A\u001b[1A\u001b[1A\u001b[0G\u001b[?25l[+] Running 1/2\n",
            "\u001b[37m ⠹ Container dockercomposefiles-container2-1  Recreate                     0.3s\n",
            "\u001b[0m\u001b[34m ⠿ Container dockercomposefiles-container1-1  Running                      0.0s\n",
            "\u001b[0m\u001b[?25h\u001b[1A\u001b[1A\u001b[1A\u001b[0G\u001b[?25l[+] Running 1/2\n",
            "\u001b[37m ⠸ Container dockercomposefiles-container2-1  Recreate                     0.4s\n",
            "\u001b[0m\u001b[34m ⠿ Container dockercomposefiles-container1-1  Running                      0.0s\n",
            "\u001b[0m\u001b[?25h\u001b[1A\u001b[1A\u001b[1A\u001b[0G\u001b[?25l[+] Running 1/2\n",
            "\u001b[37m ⠼ Container dockercomposefiles-container2-1  Recreate                     0.5s\n",
            "\u001b[0m\u001b[34m ⠿ Container dockercomposefiles-container1-1  Running                      0.0s\n",
            "\u001b[0m\u001b[?25h\u001b[1A\u001b[1A\u001b[1A\u001b[0G\u001b[?25l[+] Running 1/2\n",
            "\u001b[37m ⠴ Container dockercomposefiles-container2-1  Recreate                     0.6s\n",
            "\u001b[0m\u001b[34m ⠿ Container dockercomposefiles-container1-1  Running                      0.0s\n",
            "\u001b[0m\u001b[?25h\u001b[1A\u001b[1A\u001b[1A\u001b[0G\u001b[?25l[+] Running 1/2\n",
            "\u001b[37m ⠦ Container dockercomposefiles-container2-1  Recreate                     0.7s\n",
            "\u001b[0m\u001b[34m ⠿ Container dockercomposefiles-container1-1  Running                      0.0s\n",
            "\u001b[0m\u001b[?25h\u001b[1A\u001b[1A\u001b[1A\u001b[0G\u001b[?25l[+] Running 1/2\n",
            "\u001b[37m ⠧ Container dockercomposefiles-container2-1  Recreate                     0.8s\n",
            "\u001b[0m\u001b[34m ⠿ Container dockercomposefiles-container1-1  Running                      0.0s\n",
            "...\n",
            "\u001b[0m\u001b[?25h\u001b[1A\u001b[1A\u001b[1A\u001b[0G\u001b[?25l[+] Running 1/2\n",
            "\u001b[37m ⠿ Container dockercomposefiles-container2-1  Starting                    10.8s\n",
            "\u001b[0m\u001b[34m ⠿ Container dockercomposefiles-container1-1  Running                      0.0s\n",
            "\u001b[0m\u001b[?25h\u001b[1A\u001b[1A\u001b[1A\u001b[0G\u001b[?25l\u001b[34m[+] Running 2/2\u001b[0m\n",
            "\u001b[34m ⠿ Container dockercomposefiles-container2-1  Started                     10.8s\n",
            "\u001b[0m\u001b[34m ⠿ Container dockercomposefiles-container1-1  Running                      0.0s\n",
            "\u001b[0m\u001b[?25h"
          ]
        }
      ],
      "source": [
        "!cd dockerComposeFiles && docker compose up -d"
      ]
    },
    {
      "cell_type": "markdown",
      "metadata": {},
      "source": [
        "Vemos que ha tardado 10 segundos en montar el servicio `container2`, eso es porque ha estado aplicando los cambios\n",
        "\n",
        "```bash\n",
        "$ docker compose exec container2 bash\n",
        "root@d8777a4e611a:/# ls dockerOverrideFolder/\n",
        "bindFile.txt  fileExtract.txt  text.txt\n",
        "root@d8777a4e611a:/# cat dockerOverrideFolder/text.txt \n",
        "hola compose\n",
        "root@d8777a4e611a:/# exit\n",
        "exit\n",
        "```"
      ]
    },
    {
      "cell_type": "markdown",
      "metadata": {},
      "source": [
        "Bajamos el Compose y borramos los contenedores y la red creada"
      ]
    },
    {
      "cell_type": "code",
      "execution_count": 16,
      "metadata": {},
      "outputs": [
        {
          "name": "stdout",
          "output_type": "stream",
          "text": [
            "\u001b[1A\u001b[1B\u001b[0G\u001b[?25l[+] Running 0/0\n",
            "\u001b[37m ⠋ Container dockercomposefiles-container2-1  Stopping                     0.1s\n",
            "\u001b[0m\u001b[37m ⠋ Container dockercomposefiles-container1-1  Stopping                     0.1s\n",
            "\u001b[0m\u001b[?25h\u001b[1A\u001b[1A\u001b[1A\u001b[0G\u001b[?25l[+] Running 0/2\n",
            "\u001b[37m ⠙ Container dockercomposefiles-container2-1  Stopping                     0.2s\n",
            "\u001b[0m\u001b[37m ⠙ Container dockercomposefiles-container1-1  Stopping                     0.2s\n",
            "\u001b[0m\u001b[?25h\u001b[1A\u001b[1A\u001b[1A\u001b[0G\u001b[?25l[+] Running 0/2\n",
            "\u001b[37m ⠹ Container dockercomposefiles-container2-1  Stopping                     0.3s\n",
            "\u001b[0m\u001b[37m ⠹ Container dockercomposefiles-container1-1  Stopping                     0.3s\n",
            "\u001b[0m\u001b[?25h\u001b[1A\u001b[1A\u001b[1A\u001b[0G\u001b[?25l[+] Running 0/2\n",
            "\u001b[37m ⠸ Container dockercomposefiles-container2-1  Stopping                     0.4s\n",
            "\u001b[0m\u001b[37m ⠸ Container dockercomposefiles-container1-1  Stopping                     0.4s\n",
            "\u001b[0m\u001b[?25h\u001b[1A\u001b[1A\u001b[1A\u001b[0G\u001b[?25l[+] Running 0/2\n",
            "\u001b[37m ⠼ Container dockercomposefiles-container2-1  Stopping                     0.5s\n",
            "\u001b[0m\u001b[37m ⠼ Container dockercomposefiles-container1-1  Stopping                     0.5s\n",
            "\u001b[0m\u001b[?25h\u001b[1A\u001b[1A\u001b[1A\u001b[0G\u001b[?25l[+] Running 0/2\n",
            "\u001b[37m ⠴ Container dockercomposefiles-container2-1  Stopping                     0.6s\n",
            "\u001b[0m\u001b[37m ⠴ Container dockercomposefiles-container1-1  Stopping                     0.6s\n",
            "\u001b[0m\u001b[?25h\u001b[1A\u001b[1A\u001b[1A\u001b[0G\u001b[?25l[+] Running 0/2\n",
            "\u001b[37m ⠦ Container dockercomposefiles-container2-1  Stopping                     0.7s\n",
            "\u001b[0m\u001b[37m ⠦ Container dockercomposefiles-container1-1  Stopping                     0.7s\n",
            "\u001b[0m\u001b[?25h\u001b[1A\u001b[1A\u001b[1A\u001b[0G\u001b[?25l[+] Running 0/2\n",
            "\u001b[37m ⠧ Container dockercomposefiles-container2-1  Stopping                     0.8s\n",
            "\u001b[0m\u001b[37m ⠧ Container dockercomposefiles-container1-1  Stopping                     0.8s\n",
            "...\n",
            "\u001b[37m ⠸ Container dockercomposefiles-container2-1  Stopping                    10.4s\n",
            "\u001b[0m\u001b[37m ⠸ Container dockercomposefiles-container1-1  Stopping                    10.4s\n",
            "\u001b[0m\u001b[?25h\u001b[1A\u001b[1A\u001b[1A\u001b[0G\u001b[?25l[+] Running 1/2\n",
            "\u001b[34m ⠿ Container dockercomposefiles-container2-1  Removed                     10.4s\n",
            "\u001b[0m\u001b[37m ⠿ Container dockercomposefiles-container1-1  Removing                    10.5s\n",
            "\u001b[0m\u001b[?25h\u001b[1A\u001b[1A\u001b[1A\u001b[0G\u001b[?25l\u001b[34m[+] Running 2/2\u001b[0m\n",
            "\u001b[34m ⠿ Container dockercomposefiles-container2-1  Removed                     10.4s\n",
            "\u001b[0m\u001b[34m ⠿ Container dockercomposefiles-container1-1  Removed                     10.5s\n",
            "\u001b[0m\u001b[37m ⠋ Network dockercomposefiles_default         Removing                     0.1s\n",
            "\u001b[0m\u001b[?25h\u001b[1A\u001b[1A\u001b[1A\u001b[1A\u001b[0G\u001b[?25l\u001b[34m[+] Running 3/3\u001b[0m\n",
            "\u001b[34m ⠿ Container dockercomposefiles-container2-1  Removed                     10.4s\n",
            "\u001b[0m\u001b[34m ⠿ Container dockercomposefiles-container1-1  Removed                     10.5s\n",
            "\u001b[0m\u001b[34m ⠿ Network dockercomposefiles_default         Removed                      0.2s\n",
            "\u001b[0m\u001b[?25h"
          ]
        }
      ],
      "source": [
        "!cd dockerComposeFiles && docker compose down"
      ]
    },
    {
      "cell_type": "markdown",
      "metadata": {},
      "source": [
        "En este caso, solo con `down` Docker Compose ha parado y borrado todo, ya que, como vemos en los contenedores y en la red pone `Removed`"
      ]
    },
    {
      "cell_type": "markdown",
      "metadata": {},
      "source": [
        "### Docker compose restart"
      ]
    },
    {
      "cell_type": "markdown",
      "metadata": {},
      "source": [
        "A la hora de escribir un docker compose, podemos añadir la etiqueta `restart` para que si el contenedor se cae, se reinicie automáticamente\n",
        "\n",
        "```json\n",
        "restart: always\n",
        "```\n",
        "\n",
        "De esta manera, si el contenedor se cae, se reiniciará automáticamente. Si queremos que se reinicie solo un número de veces, podemos añadirle la opción `on-failure`\n",
        "\n",
        "```json\n",
        "restart: on-failure:<number>\n",
        "```\n",
        "\n",
        "Ahora el contenedor se reiniciará un número de veces, pero si se cae más veces, no se reiniciará. Si queremos que se reinicie siempre, podemos añadirle la opción `unless-stopped`\n",
        "\n",
        "```json\n",
        "restart: unless-stopped\n",
        "```\n",
        "\n",
        "Ahora el contenedor se reiniciará siempre, a menos que se pare manualmente"
      ]
    },
    {
      "cell_type": "markdown",
      "metadata": {},
      "source": [
        "## Docker avanzado"
      ]
    },
    {
      "cell_type": "markdown",
      "metadata": {},
      "source": [
        "### Administrar ambiente de trabajo"
      ]
    },
    {
      "cell_type": "markdown",
      "metadata": {},
      "source": [
        "#### Borrado de contenedores apagados"
      ]
    },
    {
      "cell_type": "markdown",
      "metadata": {},
      "source": [
        "Después de estar un tiempo desarrollando, podemos tener varios contenedores apagados, pero guardados en el ordenador. Esto al final ocupa memoria, así que con `docker container prune` podemos eliminar todos los que están parados"
      ]
    },
    {
      "cell_type": "code",
      "execution_count": 19,
      "metadata": {},
      "outputs": [],
      "source": [
        "!docker run ubuntu"
      ]
    },
    {
      "cell_type": "code",
      "execution_count": 20,
      "metadata": {},
      "outputs": [
        {
          "name": "stdout",
          "output_type": "stream",
          "text": [
            "CONTAINER ID   IMAGE     COMMAND   CREATED   STATUS    PORTS     NAMES\n"
          ]
        }
      ],
      "source": [
        "!docker ps"
      ]
    },
    {
      "cell_type": "code",
      "execution_count": 23,
      "metadata": {},
      "outputs": [
        {
          "name": "stdout",
          "output_type": "stream",
          "text": [
            "CONTAINER ID   IMAGE     COMMAND   CREATED          STATUS                      PORTS     NAMES\n",
            "effcee24f54a   ubuntu    \"bash\"    37 seconds ago   Exited (0) 36 seconds ago             musing_rosalind\n"
          ]
        }
      ],
      "source": [
        "!docker ps -a"
      ]
    },
    {
      "cell_type": "markdown",
      "metadata": {},
      "source": [
        "``` bash\n",
        "$ docker container prune \n",
        "WARNING! This will remove all stopped containers.\n",
        "Are you sure you want to continue? [y/N] y\n",
        "Deleted Containers:\n",
        "effcee24f54aab22e34fdea2465b3b7af132d8c627e5432ba3e915a370876977\n",
        "\n",
        "Total reclaimed space: 0B\n",
        "```\n",
        "\n",
        "En este caso hemos ahorrado 0 bytes, pero en el caso de dejar contenedores apagados después de mucho desarrollo, seguro que el ahorro de memoria será mayor"
      ]
    },
    {
      "cell_type": "markdown",
      "metadata": {},
      "source": [
        "#### Borrado de todos los contenedores"
      ]
    },
    {
      "cell_type": "markdown",
      "metadata": {},
      "source": [
        "En caso de tener contenedores corriendo, podemos eliminar todos los contenedores mediante otro comando\n",
        "\n",
        "El comando `docker ps -q` nos devuelve la ID de todos los contenedores, por lo que con el comando `docker rm -f $(docker ps -aq)` pararemos y borraremos todos"
      ]
    },
    {
      "cell_type": "code",
      "execution_count": 27,
      "metadata": {},
      "outputs": [
        {
          "name": "stdout",
          "output_type": "stream",
          "text": [
            "c22516186ef7e3561fb1ad0d508a914857dbc61274a218f297c4d80b1fc33863\n"
          ]
        }
      ],
      "source": [
        "!docker run -d ubuntu tail -f /dev/null"
      ]
    },
    {
      "cell_type": "code",
      "execution_count": 32,
      "metadata": {},
      "outputs": [
        {
          "name": "stdout",
          "output_type": "stream",
          "text": [
            "CONTAINER ID   IMAGE     COMMAND               CREATED              STATUS              PORTS     NAMES\n",
            "c22516186ef7   ubuntu    \"tail -f /dev/null\"   About a minute ago   Up About a minute             agitated_knuth\n"
          ]
        }
      ],
      "source": [
        "!docker ps"
      ]
    },
    {
      "cell_type": "code",
      "execution_count": 33,
      "metadata": {},
      "outputs": [
        {
          "name": "stdout",
          "output_type": "stream",
          "text": [
            "c22516186ef7\n"
          ]
        }
      ],
      "source": [
        "!docker rm -f $(docker ps -aq)"
      ]
    },
    {
      "cell_type": "code",
      "execution_count": 34,
      "metadata": {},
      "outputs": [
        {
          "name": "stdout",
          "output_type": "stream",
          "text": [
            "CONTAINER ID   IMAGE     COMMAND   CREATED   STATUS    PORTS     NAMES\n"
          ]
        }
      ],
      "source": [
        "!docker ps -a"
      ]
    },
    {
      "cell_type": "markdown",
      "metadata": {},
      "source": [
        "#### Borrado de todo"
      ]
    },
    {
      "cell_type": "markdown",
      "metadata": {},
      "source": [
        "Como hemos visto Docker también crea redes, imágenes, volúmenes, etc, así que con el comando `docker system prune` podemos borrar todos los contenedores parados, todas las redes que no estén usadas por al menos un contenedor, las imágenes repetidas, y lo que haya repetido en la caché de compilación\n",
        "\n",
        "``` bash\n",
        "$ docker system prune \n",
        "WARNING! This will remove:\n",
        "  - all stopped containers\n",
        "  - all networks not used by at least one container\n",
        "  - all dangling images\n",
        "  - all dangling build cache\n",
        "\n",
        "Are you sure you want to continue? [y/N] y\n",
        "Total reclaimed space: 0B\n",
        "```\n",
        "\n",
        "Al igual que antes, no se ha ahorrado mucho espacio, pero después de mucho tiempo desarrollando, el ahorro será considerable"
      ]
    },
    {
      "cell_type": "markdown",
      "metadata": {},
      "source": [
        "### Uso de recursos del host por parte de contenedores"
      ]
    },
    {
      "cell_type": "markdown",
      "metadata": {},
      "source": [
        "Por ejemplo a la hora de crear un contenedor, podemos limitar la RAM que el host puede usar mediante la opción `--memory`"
      ]
    },
    {
      "cell_type": "code",
      "execution_count": 35,
      "metadata": {},
      "outputs": [
        {
          "name": "stdout",
          "output_type": "stream",
          "text": [
            "d84888eafe531831ef8915d2270422365adec02678122bf59580e2da782e6972\n"
          ]
        }
      ],
      "source": [
        "!docker run -d --memory 1g ubuntu tail -f /dev/null"
      ]
    },
    {
      "cell_type": "markdown",
      "metadata": {},
      "source": [
        "Pero con `docker ps` no tenemos acceso a los recursos que está consumiendo el contenedor"
      ]
    },
    {
      "cell_type": "code",
      "execution_count": 36,
      "metadata": {},
      "outputs": [
        {
          "name": "stdout",
          "output_type": "stream",
          "text": [
            "CONTAINER ID   IMAGE     COMMAND               CREATED          STATUS          PORTS     NAMES\n",
            "d84888eafe53   ubuntu    \"tail -f /dev/null\"   35 seconds ago   Up 34 seconds             musing_ritchie\n"
          ]
        }
      ],
      "source": [
        "!docker ps"
      ]
    },
    {
      "cell_type": "markdown",
      "metadata": {},
      "source": [
        "Para ello tenemos el comando `docker stats`\n",
        "\n",
        "```bash\n",
        "$ docker stats\n",
        "CONTAINER ID   NAME             CPU %     MEM USAGE / LIMIT   MEM %     NET I/O       BLOCK I/O   PIDS\n",
        "d84888eafe53   musing_ritchie   0.00%     540KiB / 1GiB       0.05%     5.62kB / 0B   0B / 0B     1\n",
        "```\n",
        "\n",
        "Esto es muy útil si queremos simular un entorno con un límite de RAM"
      ]
    },
    {
      "cell_type": "markdown",
      "metadata": {},
      "source": [
        "### Deteniendo contenedores correctamente: SHELL vs EXEC"
      ]
    },
    {
      "cell_type": "markdown",
      "metadata": {},
      "source": [
        "Como hemos explicado, cuando asignamos un proceso a un contenedor, cuando ese proceso termina, el contenedor se para, pero a veces podemos encontrarnos con problemas con esto. Vamos a crear una nueva carpeta llamada Dockerfile_loop"
      ]
    },
    {
      "cell_type": "code",
      "execution_count": 1,
      "metadata": {},
      "outputs": [],
      "source": [
        "!mkdir Dockerfile_loop"
      ]
    },
    {
      "cell_type": "markdown",
      "metadata": {},
      "source": [
        "Ahora vamos a crear un archivo llamado `loop.sh` dentro de `Dockerfile_loop`"
      ]
    },
    {
      "cell_type": "code",
      "execution_count": 2,
      "metadata": {},
      "outputs": [],
      "source": [
        "!touch Dockerfile_loop/loop.sh"
      ]
    },
    {
      "cell_type": "markdown",
      "metadata": {},
      "source": [
        "Y vamos a escribir lo siguiente dentro de `loop.sh`\n",
        "\n",
        "``` shell\n",
        "#!/usr/bin/env bash\n",
        "trap \"exit 0\" SIGTERM\n",
        "while true; do :; done\n",
        "```\n",
        "\n",
        "Si yo ejecuto este script en el host se ejecuta hasta que introduzca `CTRL+C`\n",
        "\n",
        "\n",
        "``` bash\n",
        " ./loop\n",
        " ^C\n",
        " ```"
      ]
    },
    {
      "cell_type": "markdown",
      "metadata": {},
      "source": [
        "Ahora vamos a crear un archivo `Dockerfile` dentro de `Dockerfile_loop`"
      ]
    },
    {
      "cell_type": "code",
      "execution_count": 3,
      "metadata": {},
      "outputs": [],
      "source": [
        "!touch Dockerfile_loop/Dockerfile"
      ]
    },
    {
      "cell_type": "markdown",
      "metadata": {},
      "source": [
        "*Dockerfile*:\n",
        "``` docker\n",
        "FROM ubuntu:trusty\n",
        "COPY [\"loop.sh\", \"/\"]\n",
        "CMD /loop.sh\n",
        "```"
      ]
    },
    {
      "cell_type": "markdown",
      "metadata": {},
      "source": [
        "Vamos a crear una imagen basada en Ubuntu que copia el script dentro y lo ejecuta, y el script se ejecuta hasta que recibe la señal `SIGTERM` del sistema operativo. Compilamos la imagen"
      ]
    },
    {
      "cell_type": "code",
      "execution_count": 10,
      "metadata": {},
      "outputs": [
        {
          "name": "stdout",
          "output_type": "stream",
          "text": [
            "Sending build context to Docker daemon  3.072kB\n",
            "Step 1/3 : FROM ubuntu:trusty\n",
            " ---> 13b66b487594\n",
            "Step 2/3 : COPY [\"loop.sh\", \"/\"]\n",
            " ---> 89f2bbd25a88\n",
            "Step 3/3 : CMD /loop.sh\n",
            " ---> Running in ff52569c35fd\n",
            "Removing intermediate container ff52569c35fd\n",
            " ---> feb091e4efa3\n",
            "Successfully built feb091e4efa3\n",
            "Successfully tagged ubuntu:loop\n",
            "\n",
            "Use 'docker scan' to run Snyk tests against images to find vulnerabilities and learn how to fix them\n"
          ]
        }
      ],
      "source": [
        "!docker build -t ubuntu:loop ./Dockerfile_loop"
      ]
    },
    {
      "cell_type": "markdown",
      "metadata": {},
      "source": [
        "Ejecutamos el contenedor\n",
        "\n",
        "``` bash\n",
        "docker run -d --name looper ubuntu:loop bash\n",
        "```"
      ]
    },
    {
      "cell_type": "code",
      "execution_count": 24,
      "metadata": {},
      "outputs": [
        {
          "name": "stdout",
          "output_type": "stream",
          "text": [
            "8a28f8cc9892213c4e0603dfdde320edf52c091b82c60510083549a391cd6645\n"
          ]
        }
      ],
      "source": [
        "!docker run -d --name looper ubuntu:loop"
      ]
    },
    {
      "cell_type": "markdown",
      "metadata": {},
      "source": [
        "Comprobamos y vemos que el contenedor está corriendo"
      ]
    },
    {
      "cell_type": "code",
      "execution_count": 25,
      "metadata": {},
      "outputs": [
        {
          "name": "stdout",
          "output_type": "stream",
          "text": [
            "CONTAINER ID   IMAGE         COMMAND                 CREATED         STATUS         PORTS     NAMES\n",
            "8a28f8cc9892   ubuntu:loop   \"/bin/sh -c /loop.sh\"   4 seconds ago   Up 3 seconds             looper\n"
          ]
        }
      ],
      "source": [
        "!docker ps"
      ]
    },
    {
      "cell_type": "markdown",
      "metadata": {},
      "source": [
        "Intentamos parar el contenedor con `docker stop looper`. Docker stop trata de parar el contenedor enviándole la señal `SIGTERM`."
      ]
    },
    {
      "cell_type": "code",
      "execution_count": 26,
      "metadata": {},
      "outputs": [
        {
          "name": "stdout",
          "output_type": "stream",
          "text": [
            "looper\n",
            "CPU times: user 89.2 ms, sys: 21.7 ms, total: 111 ms\n",
            "Wall time: 10.6 s\n"
          ]
        }
      ],
      "source": [
        "%%time\n",
        "!docker stop looper"
      ]
    },
    {
      "cell_type": "markdown",
      "metadata": {},
      "source": [
        "Esto ha tardado unos 10 segundos en detenerse, cuando tendría que ser inmediato. Esto es porque `stop` ha mandado la orden `SIGTERM` para que se parara el contenedor, pero como no paraba, al rato le ha mandado un `SIGKILL` para forzar que se detenga. Vemos a ver qué pasa, si listamos los contenedores"
      ]
    },
    {
      "cell_type": "code",
      "execution_count": 27,
      "metadata": {},
      "outputs": [
        {
          "name": "stdout",
          "output_type": "stream",
          "text": [
            "CONTAINER ID   IMAGE         COMMAND                 CREATED          STATUS                       PORTS     NAMES\n",
            "8a28f8cc9892   ubuntu:loop   \"/bin/sh -c /loop.sh\"   23 seconds ago   Exited (137) 2 seconds ago             looper\n"
          ]
        }
      ],
      "source": [
        "!docker ps -a"
      ]
    },
    {
      "cell_type": "markdown",
      "metadata": {},
      "source": [
        "Podemos ver que la señal de `Exited` es `137`, eso equivale a SIGKILL, es decir, docker tuvo que forzar el apagado."
      ]
    },
    {
      "cell_type": "markdown",
      "metadata": {},
      "source": [
        "Vamos a borrar el contenedor y a volverlo a ejecutar"
      ]
    },
    {
      "cell_type": "code",
      "execution_count": 28,
      "metadata": {},
      "outputs": [
        {
          "name": "stdout",
          "output_type": "stream",
          "text": [
            "looper\n"
          ]
        }
      ],
      "source": [
        "!docker rm looper"
      ]
    },
    {
      "cell_type": "code",
      "execution_count": 29,
      "metadata": {},
      "outputs": [
        {
          "name": "stdout",
          "output_type": "stream",
          "text": [
            "84bc37f944d270be5f84a952968db2b8cf5372c61146d29383468198ceed18fd\n"
          ]
        }
      ],
      "source": [
        "!docker run -d --name looper ubuntu:loop"
      ]
    },
    {
      "cell_type": "markdown",
      "metadata": {},
      "source": [
        "Si ahora intentamos detener el contenedor con `docker kill looper`"
      ]
    },
    {
      "cell_type": "code",
      "execution_count": 30,
      "metadata": {},
      "outputs": [
        {
          "name": "stdout",
          "output_type": "stream",
          "text": [
            "looper\n",
            "CPU times: user 9.1 ms, sys: 857 µs, total: 9.96 ms\n",
            "Wall time: 545 ms\n"
          ]
        }
      ],
      "source": [
        "%%time\n",
        "!docker kill looper"
      ]
    },
    {
      "cell_type": "markdown",
      "metadata": {},
      "source": [
        "Vemos que el tiempo son unos 500 ms, es decir, docker lo ha parado en un momento enviándole la orden `SIGKILL`. Porque `kill` no manda `SIGTERM` y si en un tiempo no se ha parado el contenedor manda `SIGKILL`, lo que hace es mandar `SIGKILL` desde el inicio.\n",
        "\n",
        "Si vemos los contenedores, vemos que la señal de salida es la misma, `137`"
      ]
    },
    {
      "cell_type": "code",
      "execution_count": 31,
      "metadata": {},
      "outputs": [
        {
          "name": "stdout",
          "output_type": "stream",
          "text": [
            "CONTAINER ID   IMAGE         COMMAND                 CREATED         STATUS                       PORTS     NAMES\n",
            "84bc37f944d2   ubuntu:loop   \"/bin/sh -c /loop.sh\"   6 seconds ago   Exited (137) 2 seconds ago             looper\n"
          ]
        }
      ],
      "source": [
        "!docker ps -a"
      ]
    },
    {
      "cell_type": "markdown",
      "metadata": {},
      "source": [
        "Esta no es la manera correcta de apagar un contenedor, porque cuando queramos apagar el contenedor habría que hacerlo mediante la señal `SIGTERM`, para que este termine de procesar lo que estuviera haciendo y luego se apague"
      ]
    },
    {
      "cell_type": "markdown",
      "metadata": {},
      "source": [
        "Si borramos el contenedor y lo volvemos a ejecutar"
      ]
    },
    {
      "cell_type": "code",
      "execution_count": 32,
      "metadata": {},
      "outputs": [
        {
          "name": "stdout",
          "output_type": "stream",
          "text": [
            "looper\n"
          ]
        }
      ],
      "source": [
        "!docker rm looper"
      ]
    },
    {
      "cell_type": "code",
      "execution_count": 33,
      "metadata": {},
      "outputs": [
        {
          "name": "stdout",
          "output_type": "stream",
          "text": [
            "b9d9f370cc0de7569eb09d0a85cd67e8ea6babc0754a517ccba5c5057f5cc50e\n"
          ]
        }
      ],
      "source": [
        "!docker run -d --name looper ubuntu:loop"
      ]
    },
    {
      "cell_type": "markdown",
      "metadata": {},
      "source": [
        "Si ahora vemos los procesos que se están ejecutando dentro del contenedor"
      ]
    },
    {
      "cell_type": "code",
      "execution_count": 34,
      "metadata": {},
      "outputs": [
        {
          "name": "stdout",
          "output_type": "stream",
          "text": [
            "UID          PID    PPID  C STIME TTY          TIME CMD\n",
            "root           1       0  0 14:05 ?        00:00:00 /bin/sh -c /loop.sh\n",
            "root           7       1 93 14:05 ?        00:00:02 bash /loop.sh\n",
            "root           8       0  0 14:05 ?        00:00:00 ps -ef\n"
          ]
        }
      ],
      "source": [
        "!docker exec looper ps -ef"
      ]
    },
    {
      "cell_type": "markdown",
      "metadata": {},
      "source": [
        "En realidad el proceso principal, el 1, no es `/loop.sh` sino que es `/bin/sh -c /loop.sh`, es decir, es un proceso hijo del `shell`. Por lo que cuando llegaba la señal `SIGTERM` le llegaba al `shell`, pero este no se lo manda a sus procesos hijos, por eso no le llegaba a `loop.sh`"
      ]
    },
    {
      "cell_type": "markdown",
      "metadata": {},
      "source": [
        "Para que no pase esto hay que cambiar el `Dockerfile` a lo siguiente\n",
        "\n",
        "*Dockerfile*:\n",
        "``` docker\n",
        "FROM ubuntu:trusty\n",
        "COPY [\"loop.sh\", \"/\"]\n",
        "CMD [\"/loop.sh\"]    # antes era CMD /loop.sh\n",
        "```\n",
        "\n",
        "Esta forma se llama `exec form`, mientras que la anterior se llama `shell form`, de manera que de la anterior forma corre el proceso como un hijo del `shell`, mientras que de la forma `exec form` ejecuta el proceso que le digamos. Así que borramos el contenedor, volvemos a compilar y volvemos a hacer correr el contenedor con la imagen"
      ]
    },
    {
      "cell_type": "code",
      "execution_count": 41,
      "metadata": {},
      "outputs": [
        {
          "name": "stdout",
          "output_type": "stream",
          "text": [
            "looper\n"
          ]
        }
      ],
      "source": [
        "!docker rm -f looper"
      ]
    },
    {
      "cell_type": "code",
      "execution_count": 45,
      "metadata": {},
      "outputs": [
        {
          "name": "stdout",
          "output_type": "stream",
          "text": [
            "Sending build context to Docker daemon  3.072kB\n",
            "Step 1/3 : FROM ubuntu:trusty\n",
            " ---> 13b66b487594\n",
            "Step 2/3 : COPY [\"loop.sh\", \"/\"]\n",
            " ---> Using cache\n",
            " ---> 89f2bbd25a88\n",
            "Step 3/3 : CMD [\"/loop.sh\"]\n",
            " ---> Running in 6b8d92fcd57c\n",
            "Removing intermediate container 6b8d92fcd57c\n",
            " ---> 35a7bb2b1892\n",
            "Successfully built 35a7bb2b1892\n",
            "Successfully tagged ubuntu:loop\n",
            "\n",
            "Use 'docker scan' to run Snyk tests against images to find vulnerabilities and learn how to fix them\n"
          ]
        }
      ],
      "source": [
        "!docker build -t ubuntu:loop ./Dockerfile_loop"
      ]
    },
    {
      "cell_type": "code",
      "execution_count": 46,
      "metadata": {},
      "outputs": [
        {
          "name": "stdout",
          "output_type": "stream",
          "text": [
            "850ae70c071426850b28428ac60dcbf875c6d35d9b7cc66c17cf391a23392965\n"
          ]
        }
      ],
      "source": [
        "!docker run -d --name looper ubuntu:loop"
      ]
    },
    {
      "cell_type": "markdown",
      "metadata": {},
      "source": [
        "Sí ahora veo los procesos dentro del contenedor"
      ]
    },
    {
      "cell_type": "code",
      "execution_count": 47,
      "metadata": {},
      "outputs": [
        {
          "name": "stdout",
          "output_type": "stream",
          "text": [
            "UID          PID    PPID  C STIME TTY          TIME CMD\n",
            "root           1       0 88 14:14 ?        00:00:02 bash /loop.sh\n",
            "root           7       0  0 14:14 ?        00:00:00 ps -ef\n"
          ]
        }
      ],
      "source": [
        "!docker exec looper ps -ef"
      ]
    },
    {
      "cell_type": "markdown",
      "metadata": {},
      "source": [
        "Ahora sí veo que el proceso principal, el 1, es `/loop.sh`\n",
        "\n",
        "Si ahora pruebo a parar el contenedor"
      ]
    },
    {
      "cell_type": "code",
      "execution_count": 48,
      "metadata": {},
      "outputs": [
        {
          "name": "stdout",
          "output_type": "stream",
          "text": [
            "looper\n",
            "CPU times: user 989 µs, sys: 7.55 ms, total: 8.54 ms\n",
            "Wall time: 529 ms\n"
          ]
        }
      ],
      "source": [
        "%%time\n",
        "!docker stop looper"
      ]
    },
    {
      "cell_type": "markdown",
      "metadata": {},
      "source": [
        "Vemos que tarda más. Veamos el código con el que paró"
      ]
    },
    {
      "cell_type": "code",
      "execution_count": 49,
      "metadata": {},
      "outputs": [
        {
          "name": "stdout",
          "output_type": "stream",
          "text": [
            "CONTAINER ID   IMAGE         COMMAND      CREATED              STATUS                      PORTS     NAMES\n",
            "850ae70c0714   ubuntu:loop   \"/loop.sh\"   About a minute ago   Exited (0) 33 seconds ago             looper\n"
          ]
        }
      ],
      "source": [
        "!docker ps -a"
      ]
    },
    {
      "cell_type": "markdown",
      "metadata": {},
      "source": [
        "### Contenedores ejecutables"
      ]
    },
    {
      "cell_type": "markdown",
      "metadata": {},
      "source": [
        "Si queremos un binario que corra como un ejecutable, en el `dockerfile` hay que especificar el comando en `ENTRYPOINT` y los parámetros del comando en `CMD`, vamos a verlo"
      ]
    },
    {
      "cell_type": "markdown",
      "metadata": {},
      "source": [
        "Vamos a crear una nueva carpeta donde guardaremos el `Dockerfile`"
      ]
    },
    {
      "cell_type": "code",
      "execution_count": 4,
      "metadata": {},
      "outputs": [],
      "source": [
        "!mkdir dockerfile_ping"
      ]
    },
    {
      "cell_type": "markdown",
      "metadata": {},
      "source": [
        "Ahora creamos un Dockerfile dentro"
      ]
    },
    {
      "cell_type": "code",
      "execution_count": 5,
      "metadata": {},
      "outputs": [],
      "source": [
        "!touch dockerfile_ping/Dockerfile"
      ]
    },
    {
      "cell_type": "markdown",
      "metadata": {},
      "source": [
        "Escribimos dentro del Dockerfile lo siguiente\n",
        "\n",
        "``` docker\n",
        "FROM ubuntu:trusty\n",
        "ENTRYPOINT [ \"/bin/ping\", \"-c\", \"3\" ]\n",
        "CMD [ \"localhost\" ]\n",
        "```\n",
        "\n",
        "Compilamos la imagen"
      ]
    },
    {
      "cell_type": "code",
      "execution_count": 8,
      "metadata": {},
      "outputs": [
        {
          "name": "stdout",
          "output_type": "stream",
          "text": [
            "Sending build context to Docker daemon  3.072kB\n",
            "Step 1/3 : FROM ubuntu:trusty\n",
            " ---> 13b66b487594\n",
            "Step 2/3 : ENTRYPOINT [ \"/bin/ping\", \"-c\", \"3\" ]\n",
            " ---> Using cache\n",
            " ---> 1cebcfb542b1\n",
            "Step 3/3 : CMD [ \"localhost\" ]\n",
            " ---> Using cache\n",
            " ---> 04ddc3de52a2\n",
            "Successfully built 04ddc3de52a2\n",
            "Successfully tagged ubuntu:ping\n",
            "\n",
            "Use 'docker scan' to run Snyk tests against images to find vulnerabilities and learn how to fix them\n"
          ]
        }
      ],
      "source": [
        "!docker build -t ubuntu:ping ./dockerfile_ping"
      ]
    },
    {
      "cell_type": "markdown",
      "metadata": {},
      "source": [
        "Si ahora corremos la imagen sin pasarle un parámetro, el contenedor se hará un ping a sí mismo"
      ]
    },
    {
      "cell_type": "code",
      "execution_count": 10,
      "metadata": {},
      "outputs": [
        {
          "name": "stdout",
          "output_type": "stream",
          "text": [
            "PING localhost (127.0.0.1) 56(84) bytes of data.\n",
            "64 bytes from localhost (127.0.0.1): icmp_seq=1 ttl=64 time=0.041 ms\n",
            "64 bytes from localhost (127.0.0.1): icmp_seq=2 ttl=64 time=0.058 ms\n",
            "64 bytes from localhost (127.0.0.1): icmp_seq=3 ttl=64 time=0.054 ms\n",
            "\n",
            "--- localhost ping statistics ---\n",
            "3 packets transmitted, 3 received, 0% packet loss, time 2027ms\n",
            "rtt min/avg/max/mdev = 0.041/0.051/0.058/0.007 ms\n"
          ]
        }
      ],
      "source": [
        "!docker run --name ping_localhost ubuntu:ping"
      ]
    },
    {
      "cell_type": "markdown",
      "metadata": {},
      "source": [
        "Pero si ahora le pasamos un parámetro, hará ping a la dirección que le digamos"
      ]
    },
    {
      "cell_type": "code",
      "execution_count": 11,
      "metadata": {},
      "outputs": [
        {
          "name": "stdout",
          "output_type": "stream",
          "text": [
            "PING google.com (216.58.209.78) 56(84) bytes of data.\n",
            "64 bytes from waw02s06-in-f14.1e100.net (216.58.209.78): icmp_seq=1 ttl=111 time=3.93 ms\n",
            "64 bytes from waw02s06-in-f14.1e100.net (216.58.209.78): icmp_seq=2 ttl=111 time=6.80 ms\n",
            "64 bytes from waw02s06-in-f14.1e100.net (216.58.209.78): icmp_seq=3 ttl=111 time=6.92 ms\n",
            "\n",
            "--- google.com ping statistics ---\n",
            "3 packets transmitted, 3 received, 0% packet loss, time 2002ms\n",
            "rtt min/avg/max/mdev = 3.930/5.886/6.920/1.383 ms\n"
          ]
        }
      ],
      "source": [
        "!docker run --name ping_google ubuntu:ping google.com"
      ]
    },
    {
      "cell_type": "markdown",
      "metadata": {},
      "source": [
        "Borramos los contenedores"
      ]
    },
    {
      "cell_type": "code",
      "execution_count": 12,
      "metadata": {},
      "outputs": [
        {
          "name": "stdout",
          "output_type": "stream",
          "text": [
            "ping_localhost\n",
            "ping_google\n"
          ]
        }
      ],
      "source": [
        "!docker rm ping_localhost ping_google"
      ]
    },
    {
      "cell_type": "markdown",
      "metadata": {},
      "source": [
        "### El contexto de `build`"
      ]
    },
    {
      "cell_type": "markdown",
      "metadata": {},
      "source": [
        "Vamos a crear una carpeta llamada `dockerfile_contexto`"
      ]
    },
    {
      "cell_type": "code",
      "execution_count": 58,
      "metadata": {},
      "outputs": [],
      "source": [
        "!mkdir dokerfile_contexto"
      ]
    },
    {
      "cell_type": "markdown",
      "metadata": {},
      "source": [
        "Ahora creamos en ella dos archivos: un `test.txt` y el `Dockerfile`"
      ]
    },
    {
      "cell_type": "code",
      "execution_count": 59,
      "metadata": {},
      "outputs": [],
      "source": [
        "!touch dokerfile_contexto/Dockerfile dokerfile_contexto/text.txt"
      ]
    },
    {
      "cell_type": "markdown",
      "metadata": {},
      "source": [
        "Modificamos el Dockerfile y ponemos lo siguiente\n",
        "\n",
        "``` docker\n",
        "FROM ubuntu:trusty\n",
        "COPY [\".\", \"/\"]\n",
        "```\n",
        "\n",
        "Esto lo que va a hacer es que va a copiar dentro de la imagen, todo lo que tenga en la carpeta en la que se encuentra el `Dockerfile`. Compilamos la imagen"
      ]
    },
    {
      "cell_type": "code",
      "execution_count": 60,
      "metadata": {},
      "outputs": [
        {
          "name": "stdout",
          "output_type": "stream",
          "text": [
            "Sending build context to Docker daemon   2.56kB\n",
            "Step 1/2 : FROM ubuntu:trusty\n",
            " ---> 13b66b487594\n",
            "Step 2/2 : COPY [\".\", \"/\"]\n",
            " ---> 3ab79fdce389\n",
            "Successfully built 3ab79fdce389\n",
            "Successfully tagged ubuntu:contexto\n",
            "\n",
            "Use 'docker scan' to run Snyk tests against images to find vulnerabilities and learn how to fix them\n"
          ]
        }
      ],
      "source": [
        "!docker build -t ubuntu:contexto ./dokerfile_contexto"
      ]
    },
    {
      "cell_type": "markdown",
      "metadata": {},
      "source": [
        "Vamos a ver qué hay dentro del contenedor"
      ]
    },
    {
      "cell_type": "code",
      "execution_count": 63,
      "metadata": {},
      "outputs": [
        {
          "name": "stdout",
          "output_type": "stream",
          "text": [
            "Dockerfile\n",
            "bin\n",
            "boot\n",
            "dev\n",
            "etc\n",
            "home\n",
            "lib\n",
            "lib64\n",
            "media\n",
            "mnt\n",
            "opt\n",
            "proc\n",
            "root\n",
            "run\n",
            "sbin\n",
            "srv\n",
            "sys\n",
            "text.txt\n",
            "tmp\n",
            "usr\n",
            "var\n"
          ]
        }
      ],
      "source": [
        "!docker run --name ls ubuntu:contexto ls"
      ]
    },
    {
      "cell_type": "markdown",
      "metadata": {},
      "source": [
        "Como vemos está el archivo `text.txt`. Pero es posible que dentro de la carpeta que está en el mismo directorio que el `Dockerfile` haya archivos o carpetas que no queremos que se copien en la imagen, por la razón que sea, así que al igual que en git tenemos el `.gitignore`, en docker tenemos el `.dockerignore`, donde metemos los archivos o carpetas que no queremos que a la hora de compilar se tengan en cuenta\n",
        "\n",
        "Así que creamos un archivo `.dockerignore`"
      ]
    },
    {
      "cell_type": "code",
      "execution_count": 62,
      "metadata": {},
      "outputs": [],
      "source": [
        "!touch dokerfile_contexto/.dockerignore"
      ]
    },
    {
      "cell_type": "markdown",
      "metadata": {},
      "source": [
        "Y dentro añadimos el `text.txt`, y de paso el `Dockerfile` que no lo necesitamos dentro de la imagen\n",
        "\n",
        "*.dockerignore*:\n",
        "```\n",
        "Dockerfile\n",
        "text.txt\n",
        "```"
      ]
    },
    {
      "cell_type": "markdown",
      "metadata": {},
      "source": [
        "Borramos el contenedor que habíamos creado, volvemos a compilar y vemos qué hay dentro del contenedor"
      ]
    },
    {
      "cell_type": "code",
      "execution_count": 67,
      "metadata": {},
      "outputs": [
        {
          "name": "stdout",
          "output_type": "stream",
          "text": [
            "ls\n"
          ]
        }
      ],
      "source": [
        "!docker rm ls"
      ]
    },
    {
      "cell_type": "code",
      "execution_count": 71,
      "metadata": {},
      "outputs": [
        {
          "name": "stdout",
          "output_type": "stream",
          "text": [
            "Sending build context to Docker daemon  3.072kB\n",
            "Step 1/2 : FROM ubuntu:trusty\n",
            " ---> 13b66b487594\n",
            "Step 2/2 : COPY [\".\", \"/\"]\n",
            " ---> 7a6689546da4\n",
            "Successfully built 7a6689546da4\n",
            "Successfully tagged ubuntu:contexto\n",
            "\n",
            "Use 'docker scan' to run Snyk tests against images to find vulnerabilities and learn how to fix them\n"
          ]
        }
      ],
      "source": [
        "!docker build -t ubuntu:contexto ./dokerfile_contexto"
      ]
    },
    {
      "cell_type": "code",
      "execution_count": 72,
      "metadata": {},
      "outputs": [
        {
          "name": "stdout",
          "output_type": "stream",
          "text": [
            "bin\n",
            "boot\n",
            "dev\n",
            "etc\n",
            "home\n",
            "lib\n",
            "lib64\n",
            "media\n",
            "mnt\n",
            "opt\n",
            "proc\n",
            "root\n",
            "run\n",
            "sbin\n",
            "srv\n",
            "sys\n",
            "tmp\n",
            "usr\n",
            "var\n"
          ]
        }
      ],
      "source": [
        "!docker run --name ls ubuntu:contexto ls"
      ]
    },
    {
      "cell_type": "markdown",
      "metadata": {},
      "source": [
        "Vemos que ahora no están ni `Dockerfile` ni `text.txt`. Borramos el contenedor"
      ]
    },
    {
      "cell_type": "code",
      "execution_count": 73,
      "metadata": {},
      "outputs": [
        {
          "name": "stdout",
          "output_type": "stream",
          "text": [
            "ls\n"
          ]
        }
      ],
      "source": [
        "!docker rm ls"
      ]
    },
    {
      "cell_type": "markdown",
      "metadata": {},
      "source": [
        "### Multi-stage build"
      ]
    },
    {
      "cell_type": "markdown",
      "metadata": {},
      "source": [
        "Al final de un desarrollo no queremos que todo el código esté en la imagen que se va a mandar a producción.\n",
        "\n",
        "Podemos dividir el `dockerfile` en dos, por ejemplo, el `developer.Dockerfile` y el `production.Dockerfile`, donde en desarrollo habrá más cosas que en el de producción. A la hora de compilarlos, mediante la opción `-f` elegimos el `dockerfile` que queremos usar\n",
        "\n",
        "``` bash\n",
        "docker build -t <tag> -f developer.Dockerfile\n",
        "docker build -t <tag> -f production.Dockerfile\n",
        "```"
      ]
    },
    {
      "cell_type": "markdown",
      "metadata": {},
      "source": [
        "Pero para no tener que crear dos archivos `Dockerfile`, Docker creó el `multi stage builds`. Con un solo `Dockerfile` vamos a solucionar el problema"
      ]
    },
    {
      "cell_type": "markdown",
      "metadata": {},
      "source": [
        "Creamos la carpeta donde vamos a guardar el `Dockerfile`"
      ]
    },
    {
      "cell_type": "code",
      "execution_count": 2,
      "metadata": {},
      "outputs": [],
      "source": [
        "!mkdir docker_multi_stage"
      ]
    },
    {
      "cell_type": "markdown",
      "metadata": {},
      "source": [
        "Y dentro creamos el archivo `Dockerfile`"
      ]
    },
    {
      "cell_type": "code",
      "execution_count": 3,
      "metadata": {},
      "outputs": [],
      "source": [
        "!cd docker_multi_stage && touch Dockerfile"
      ]
    },
    {
      "cell_type": "markdown",
      "metadata": {},
      "source": [
        "Editamos el archivo, metiendo lo siguiente\n",
        "\n",
        "``` dockerfile\n",
        "# Etapa 1: Generar el ejecutable con Python basado en Alpine\n",
        "FROM python:3.9-alpine as build-stage\n",
        "WORKDIR /app\n",
        "# Instalar dependencias para PyInstaller\n",
        "RUN apk add --no-cache gcc musl-dev libc-dev\n",
        "# Generar hello.py\n",
        "RUN echo 'print(\"Hello from Alpine!\")' > hello.py\n",
        "# Instalar PyInstaller\n",
        "RUN pip install pyinstaller\n",
        "# Usar PyInstaller para crear un ejecutable independiente\n",
        "RUN pyinstaller --onefile hello.py\n",
        "\n",
        "# Etapa 2: Ejecutar el ejecutable en una imagen de Alpine\n",
        "FROM alpine:latest\n",
        "WORKDIR /app\n",
        "# Copiar el ejecutable desde la etapa de build\n",
        "COPY --from=build-stage /app/dist/hello .\n",
        "# Comando por defecto para ejecutar el ejecutable\n",
        "CMD [\"./hello\"]\n",
        "```\n",
        "\n",
        "Como se puede ver, el `Dockerfile` está dividido en dos. Por un lado, se trabaja sobre la imagen `python:3.9-alpine`, que se llama como `build-stage`. Y por otro lado, trabajamos sobre la imagen `alpine:latest`, que es una imagen de Linux muy ligera y se utiliza mucho en producción\n",
        "\n",
        "Lo compilamos"
      ]
    },
    {
      "cell_type": "code",
      "execution_count": 10,
      "metadata": {},
      "outputs": [
        {
          "name": "stdout",
          "output_type": "stream",
          "text": [
            "\u001b[1A\u001b[1B\u001b[0G\u001b[?25l[+] Building 0.0s (0/2)                                          docker:default\n",
            "\u001b[?25h"
          ]
        },
        {
          "name": "stdout",
          "output_type": "stream",
          "text": [
            "\u001b[1A\u001b[0G\u001b[?25l[+] Building 0.2s (4/6)                                          docker:default\n",
            "\u001b[34m => [internal] load build definition from Dockerfile                       0.0s\n",
            "\u001b[0m\u001b[34m => => transferring dockerfile: 722B                                       0.0s\n",
            "\u001b[0m\u001b[34m => [internal] load .dockerignore                                          0.0s\n",
            "\u001b[0m\u001b[34m => => transferring context: 2B                                            0.0s\n",
            "\u001b[0m => [internal] load metadata for docker.io/library/alpine:latest           0.1s\n",
            " => [internal] load metadata for docker.io/library/python:3.9-alpine       0.1s\n",
            "...\n",
            "\u001b[0m\u001b[34m => CACHED [stage-1 3/3] COPY --from=build-stage /app/dist/hello .         0.0s\n",
            "\u001b[0m\u001b[34m => exporting to image                                                     0.0s\n",
            "\u001b[0m\u001b[34m => => exporting layers                                                    0.0s\n",
            "\u001b[0m\u001b[34m => => writing image sha256:7fb090d1495d00e892118b6bc3c03400b63a435fd4703  0.0s\n",
            "\u001b[0m\u001b[34m => => naming to docker.io/maximofn/multistagebuild:latest                 0.0s\n",
            "\u001b[0m\u001b[?25h"
          ]
        }
      ],
      "source": [
        "!docker build -t maximofn/multistagebuild:latest ./docker_multi_stage"
      ]
    },
    {
      "cell_type": "markdown",
      "metadata": {},
      "source": [
        "Si ahora vemos las imágenes que tenemos"
      ]
    },
    {
      "cell_type": "code",
      "execution_count": 11,
      "metadata": {},
      "outputs": [
        {
          "name": "stdout",
          "output_type": "stream",
          "text": [
            "REPOSITORY                 TAG       IMAGE ID       CREATED         SIZE\n",
            "maximofn/multistagebuild   latest    7fb090d1495d   8 minutes ago   13.6MB\n"
          ]
        }
      ],
      "source": [
        "!docker image ls"
      ]
    },
    {
      "cell_type": "markdown",
      "metadata": {},
      "source": [
        "Vamos a bajarnos la imagen de Python para ver cuánto pesa"
      ]
    },
    {
      "cell_type": "code",
      "execution_count": 12,
      "metadata": {},
      "outputs": [
        {
          "name": "stdout",
          "output_type": "stream",
          "text": [
            "3.9-alpine: Pulling from library/python\n",
            "\n",
            "\u001b[1Ba8db6415: Already exists \n",
            "\u001b[1Bd5e70e42: Already exists \n",
            "\u001b[1B3fe96417: Already exists \n",
            "\u001b[1Baa4dddbb: Already exists \n",
            "\u001b[1B518be9f7: Already exists Digest: sha256:6e508b43604ff9a81907ec17405c9ad5c13664e45a5affa2206af128818c7486\n",
            "Status: Downloaded newer image for python:3.9-alpine\n",
            "docker.io/library/python:3.9-alpine\n"
          ]
        }
      ],
      "source": [
        "!docker pull python:3.9-alpine"
      ]
    },
    {
      "cell_type": "code",
      "execution_count": 13,
      "metadata": {},
      "outputs": [
        {
          "name": "stdout",
          "output_type": "stream",
          "text": [
            "REPOSITORY                 TAG          IMAGE ID       CREATED         SIZE\n",
            "maximofn/multistagebuild   latest       7fb090d1495d   9 minutes ago   13.6MB\n",
            "python                     3.9-alpine   6946662f018b   9 days ago      47.8MB\n"
          ]
        }
      ],
      "source": [
        "!docker image ls"
      ]
    },
    {
      "cell_type": "markdown",
      "metadata": {},
      "source": [
        "Podemos ver que mientras nuestra imagen pesa solo 13.6 MB, la de Python con la que ha construido la aplicación pesa 47.8 MB. Por lo que podemos sacar dos conclusiones: con la primera imagen, la de Python, ha construido la aplicación, ha generado el ejecutable y ese ejecutable es el que usamos en la segunda imagen, la de Alpine. Además podemos ver que aunque la primera imagen que usa es la de Python no se descarga en nuestro sistema, ya que la hemos tenido que descargar nosotros"
      ]
    },
    {
      "cell_type": "markdown",
      "metadata": {},
      "source": [
        "Pues ya sólo queda probarlo"
      ]
    },
    {
      "cell_type": "code",
      "execution_count": 14,
      "metadata": {},
      "outputs": [
        {
          "name": "stdout",
          "output_type": "stream",
          "text": [
            "Hello from Alpine!\n"
          ]
        }
      ],
      "source": [
        "!docker run --rm --name multi_stage_build maximofn/multistagebuild"
      ]
    },
    {
      "cell_type": "markdown",
      "metadata": {},
      "source": [
        "Funciona!"
      ]
    },
    {
      "cell_type": "markdown",
      "metadata": {},
      "source": [
        "### Multi arch builds"
      ]
    },
    {
      "cell_type": "markdown",
      "metadata": {},
      "source": [
        "Supongamos que queremos hacer una imagen que se pueda ejecutar en un ordenador y en una Raspberry. El ordenador probablemente tenga un micro con arquitectura AMD64, mientras que la Raspberry tiene un micro con arquitectura ARM. Por lo tanto, no podemos crear la misma imagen para los dos. Es decir, cuando creamos una imagen, la creamos con un `Dockerfile` que suele empezar así\n",
        "\n",
        "``` Dockerfile\n",
        "FROM ...\n",
        "```\n",
        "\n",
        "Por lo tanto, el `Dockerfile` de la imagen del ordenador podría empezar así\n",
        "\n",
        "``` Dockerfile\n",
        "FROM ubuntu:latest\n",
        "```\n",
        "\n",
        "Mientras que el de la Raspberry podría empezar así\n",
        "\n",
        "``` Dockerfile\n",
        "FROM arm64v8/ubuntu:latest\n",
        "```"
      ]
    },
    {
      "cell_type": "markdown",
      "metadata": {},
      "source": [
        "Tendríamos que crear dos archivos `Dockerfile`, compilarlos y en el ordenador usar una imagen y en la raspberry usar otra"
      ]
    },
    {
      "cell_type": "markdown",
      "metadata": {},
      "source": [
        "Para evitar tener que ver la arquitectura del ordenador y ver qué imagen tenemos que usar, Docker crea los `manifest`, que como su nombre indica es un manifiesto que indica en función de qué arquitectura de micro tengamos, usa una imagen u otra"
      ]
    },
    {
      "cell_type": "markdown",
      "metadata": {},
      "source": [
        "Así que vamos a ver cómo hacer esto"
      ]
    },
    {
      "cell_type": "markdown",
      "metadata": {},
      "source": [
        "En primer lugar, creamos una carpeta donde vamos a crear nuestros archivos `Dockerfile`"
      ]
    },
    {
      "cell_type": "code",
      "execution_count": 1,
      "metadata": {},
      "outputs": [],
      "source": [
        "!mkdir docker_multi_arch"
      ]
    },
    {
      "cell_type": "markdown",
      "metadata": {},
      "source": [
        "Ahora creamos los dos Dockerfiles"
      ]
    },
    {
      "cell_type": "code",
      "execution_count": 2,
      "metadata": {},
      "outputs": [],
      "source": [
        "!cd docker_multi_arch && touch Dockerfile_arm64 Dockerfile_amd64"
      ]
    },
    {
      "cell_type": "markdown",
      "metadata": {},
      "source": [
        "Escribimos el `Dockerfile` para AMD64"
      ]
    },
    {
      "cell_type": "code",
      "execution_count": 4,
      "metadata": {},
      "outputs": [],
      "source": [
        "!cd docker_multi_arch && echo \"FROM ubuntu:20.04\" >> Dockerfile_amd64 && echo \"CMD echo 'Hello from amd64'\" >> Dockerfile_amd64"
      ]
    },
    {
      "cell_type": "code",
      "execution_count": 30,
      "metadata": {},
      "outputs": [],
      "source": [
        "!cd docker_multi_arch && echo \"FROM arm64v8/ubuntu:latest\" >> Dockerfile_arm && echo \"CMD echo 'Hello from ARM'\" >> Dockerfile_arm"
      ]
    },
    {
      "cell_type": "markdown",
      "metadata": {},
      "source": [
        "Ahora combinamos las dos imágenes"
      ]
    },
    {
      "cell_type": "code",
      "execution_count": 6,
      "metadata": {},
      "outputs": [
        {
          "name": "stdout",
          "output_type": "stream",
          "text": [
            "\u001b[1A\u001b[1B\u001b[0G\u001b[?25l[+] Building 0.0s (0/1)                                          docker:default\n",
            "\u001b[?25h\u001b[1A\u001b[0G\u001b[?25l[+] Building 0.2s (2/3)                                          docker:default\n",
            "\u001b[34m => [internal] load build definition from Dockerfile_amd64                 0.1s\n",
            "\u001b[0m\u001b[34m => => transferring dockerfile: 89B                                        0.0s\n",
            "\u001b[0m\u001b[34m => [internal] load .dockerignore                                          0.1s\n",
            "\u001b[0m\u001b[34m => => transferring context: 2B                                            0.0s\n",
            "\u001b[0m => [internal] load metadata for docker.io/library/ubuntu:20.04            0.1s\n",
            "\u001b[?25h\u001b[1A\u001b[1A\u001b[1A\u001b[1A\u001b[1A\u001b[1A\u001b[0G\u001b[?25l[+] Building 0.3s (2/3)                                          docker:default\n",
            "\u001b[34m => [internal] load build definition from Dockerfile_amd64                 0.1s\n",
            "\u001b[0m\u001b[34m => => transferring dockerfile: 89B                                        0.0s\n",
            "\u001b[0m\u001b[34m => [internal] load .dockerignore                                          0.1s\n",
            "\u001b[0m\u001b[34m => => transferring context: 2B                                            0.0s\n",
            "\u001b[0m => [internal] load metadata for docker.io/library/ubuntu:20.04            0.2s\n",
            "\u001b[?25h\u001b[1A\u001b[1A\u001b[1A\u001b[1A\u001b[1A\u001b[1A\u001b[0G\u001b[?25l[+] Building 0.5s (2/3)                                          docker:default\n",
            "\u001b[34m => [internal] load build definition from Dockerfile_amd64                 0.1s\n",
            "\u001b[0m\u001b[34m => => transferring dockerfile: 89B                                        0.0s\n",
            "\u001b[0m\u001b[34m => [internal] load .dockerignore                                          0.1s\n",
            "\u001b[0m\u001b[34m => => transferring context: 2B                                            0.0s\n",
            "\u001b[0m => [internal] load metadata for docker.io/library/ubuntu:20.04            0.4s\n",
            "\u001b[?25h\u001b[1A\u001b[1A\u001b[1A\u001b[1A\u001b[1A\u001b[1A\u001b[0G\u001b[?25l[+] Building 0.6s (2/3)                                          docker:default\n",
            "\u001b[34m => [internal] load build definition from Dockerfile_amd64                 0.1s\n",
            "\u001b[0m\u001b[34m => => transferring dockerfile: 89B                                        0.0s\n",
            "\u001b[0m\u001b[34m => [internal] load .dockerignore                                          0.1s\n",
            "\u001b[0m\u001b[34m => => transferring context: 2B                                            0.0s\n",
            "\u001b[0m => [internal] load metadata for docker.io/library/ubuntu:20.04            0.5s\n",
            "...\n",
            "\u001b[0m\u001b[34m => => transferring context: 2B                                            0.0s\n",
            "\u001b[0m\u001b[34m => [internal] load build definition from Dockerfile_arm                   0.0s\n",
            "\u001b[0m\u001b[34m => => transferring dockerfile: 94B                                        0.0s\n",
            "\u001b[0m\u001b[34m => [internal] load metadata for docker.io/arm64v8/ubuntu:latest           1.8s\n",
            "\u001b[0m\u001b[34m => [auth] arm64v8/ubuntu:pull token for registry-1.docker.io              0.0s\n",
            "\u001b[0m\u001b[34m => CACHED [1/1] FROM docker.io/arm64v8/ubuntu:latest@sha256:94d12db896d0  0.0s\n",
            "\u001b[0m\u001b[34m => exporting to image                                                     0.0s\n",
            "\u001b[0m\u001b[34m => => exporting layers                                                    0.0s\n",
            "\u001b[0m\u001b[34m => => writing image sha256:a9732c1988756dc8e836fd96e5c9512e349c97ea5af46  0.0s\n",
            "\u001b[0m\u001b[34m => => naming to docker.io/maximofn/multiarch:arm                          0.0s\n",
            "\u001b[0m\u001b[?25h"
          ]
        }
      ],
      "source": [
        "!cd docker_multi_arch && docker build -t maximofn/multiarch:arm -f Dockerfile_arm ."
      ]
    },
    {
      "cell_type": "markdown",
      "metadata": {},
      "source": [
        "Vamos a ver que tenemos las dos imágenes compiladas"
      ]
    },
    {
      "cell_type": "code",
      "execution_count": 32,
      "metadata": {},
      "outputs": [
        {
          "name": "stdout",
          "output_type": "stream",
          "text": [
            "REPOSITORY           TAG       IMAGE ID       CREATED       SIZE\n",
            "maximofn/multiarch   arm       a9732c198875   4 weeks ago   69.2MB\n",
            "maximofn/multiarch   amd64     5b612c83025f   6 weeks ago   72.8MB\n"
          ]
        }
      ],
      "source": [
        "!docker image ls"
      ]
    },
    {
      "cell_type": "markdown",
      "metadata": {},
      "source": [
        "Vemos que hemos compilado las dos imágenes. Para poder crear un manifest, primero tenemos que subir las imágenes a Docker Hub, así que las subimos"
      ]
    },
    {
      "cell_type": "code",
      "execution_count": 10,
      "metadata": {},
      "outputs": [
        {
          "name": "stdout",
          "output_type": "stream",
          "text": [
            "The push refers to repository [docker.io/maximofn/multiarch]\n",
            "\n",
            "\u001b[1B82bdeb5f: Mounted from library/ubuntu amd64: digest: sha256:30e820f2a11a24ad4d8fb624ae485f7c1bcc299e8cfc72c88adce1acd0447e1d size: 529\n"
          ]
        }
      ],
      "source": [
        "!docker push maximofn/multiarch:amd64"
      ]
    },
    {
      "cell_type": "code",
      "execution_count": 34,
      "metadata": {},
      "outputs": [
        {
          "name": "stdout",
          "output_type": "stream",
          "text": [
            "The push refers to repository [docker.io/maximofn/multiarch]\n"
          ]
        },
        {
          "name": "stdout",
          "output_type": "stream",
          "text": [
            "\n",
            "\u001b[1Beda53374: Layer already exists arm: digest: sha256:6ec5a0752d49d3805061314147761bf25b5ff7430ce143adf34b70d4eda15fb8 size: 529\n"
          ]
        }
      ],
      "source": [
        "!docker push maximofn/multiarch:arm"
      ]
    },
    {
      "cell_type": "markdown",
      "metadata": {},
      "source": [
        "Si me voy a mi Docker Hub puedo ver que mi imagen `maximofn/multiarch` tiene los tags `amd64` y `arm`\n",
        "\n",
        "![docker_multi_arch_tags](https://pub-fb664c455eca46a2ba762a065ac900f7.r2.dev/docker_multi_arch_tags.webp)"
      ]
    },
    {
      "cell_type": "markdown",
      "metadata": {},
      "source": [
        "Ahora vamos a crear el `manifest` basado en estas dos imágenes"
      ]
    },
    {
      "cell_type": "code",
      "execution_count": 36,
      "metadata": {},
      "outputs": [
        {
          "name": "stdout",
          "output_type": "stream",
          "text": [
            "Created manifest list docker.io/maximofn/multiarch:latest\n"
          ]
        }
      ],
      "source": [
        "!docker manifest create maximofn/multiarch:latest maximofn/multiarch:amd64 maximofn/multiarch:arm"
      ]
    },
    {
      "cell_type": "markdown",
      "metadata": {},
      "source": [
        "Una vez creado, tenemos que indicar las arquitecturas de las CPU a las que corresponde cada una"
      ]
    },
    {
      "cell_type": "code",
      "execution_count": 37,
      "metadata": {},
      "outputs": [],
      "source": [
        "!docker manifest annotate maximofn/multiarch:latest maximofn/multiarch:amd64 --os linux --arch amd64"
      ]
    },
    {
      "cell_type": "code",
      "execution_count": 38,
      "metadata": {},
      "outputs": [
        {
          "name": "stdout",
          "output_type": "stream",
          "text": [
            "manifest for image maximofn/multiarch:arm64 does not exist in maximofn/multiarch:latest\n"
          ]
        }
      ],
      "source": [
        "!docker manifest annotate maximofn/multiarch:latest maximofn/multiarch:arm64 --os linux --arch arm64"
      ]
    },
    {
      "cell_type": "markdown",
      "metadata": {},
      "source": [
        "Una vez creado y anotado podemos subir el `manifest` a Docker Hub"
      ]
    },
    {
      "cell_type": "code",
      "execution_count": 39,
      "metadata": {},
      "outputs": [
        {
          "name": "stdout",
          "output_type": "stream",
          "text": [
            "sha256:1ea28e9a04867fe0e0d8b0efa455ce8e4e29e7d9fd4531412b75dbd0325e9304\n"
          ]
        }
      ],
      "source": [
        "!docker manifest push maximofn/multiarch:latest"
      ]
    },
    {
      "cell_type": "markdown",
      "metadata": {},
      "source": [
        "Si ahora vuelvo a mirar los tags que tiene mi imagen `maximofn/multiarch`, veo también la de `latest`\n",
        "\n",
        "![docker_multi_arch_tags_manifest](https://pub-fb664c455eca46a2ba762a065ac900f7.r2.dev/docker_multi_arch_tags_manifest.webp)"
      ]
    },
    {
      "cell_type": "markdown",
      "metadata": {},
      "source": [
        "Ahora, tanto si quiero usar mi imagen desde una máquina con CPU AMD64 o CPU ARM al hacer `FROM maximofn/multiarch:latest`, docker comprobará la arquitectura de la CPU y bajará el tag `amd64` o el tag `arm`. Vamos a verlo, si desde mi ordenador ejecuto la imagen obtengo"
      ]
    },
    {
      "cell_type": "code",
      "execution_count": 29,
      "metadata": {},
      "outputs": [
        {
          "name": "stdout",
          "output_type": "stream",
          "text": [
            "Unable to find image 'maximofn/multiarch:latest' locally\n"
          ]
        },
        {
          "name": "stdout",
          "output_type": "stream",
          "text": [
            "latest: Pulling from maximofn/multiarch\n",
            "Digest: sha256:7cef0de10f7fa2b3b0dca0fbf398d1f48af17a0bbc5b9beca701d7c427c9fd84\n",
            "Status: Downloaded newer image for maximofn/multiarch:latest\n",
            "Hello from amd64\n"
          ]
        }
      ],
      "source": [
        "!docker run maximofn/multiarch:latest"
      ]
    },
    {
      "cell_type": "markdown",
      "metadata": {},
      "source": [
        "Como no la tiene, se la baja"
      ]
    },
    {
      "cell_type": "markdown",
      "metadata": {},
      "source": [
        "Si ahora me conecto por ssh a una Raspberry Pi y pruebo lo mismo obtengo\n",
        "\n",
        "```bash\n",
        "raspberrry@raspberrypi:~ $ docker run maximofn/multiarch:latest\n",
        "    Unable to find image 'maximofn/multiarch:latest' locally\n",
        "    latest: Pulling from maximofn/multiarch\n",
        "    Digest: sha256:1ea28e9a04867fe0e0d8b0efa455ce8e4e29e7d9fd4531412b75dbd0325e9304\n",
        "    Status: Downloaded newer image for maximofn/multiarch:latest\n",
        "    Hello from ARM\n",
        "```\n",
        "\n",
        "Aparece `Hello from ARM` ya que la raspberry tiene un micro con arquitectura ARM"
      ]
    },
    {
      "cell_type": "markdown",
      "metadata": {},
      "source": [
        "Como se puede ver, cada máquina se ha bajado la imagen que necesitaba"
      ]
    },
    {
      "cell_type": "markdown",
      "metadata": {},
      "source": [
        "### Escritura correcta de Dockerfiles avanzado"
      ]
    },
    {
      "cell_type": "markdown",
      "metadata": {},
      "source": [
        "Ya vimos la manera de escribir correctamente Dockerfiles, pero hay una cosa más que podemos hacer ahora que conocemos el multi-stage build y es crear un contenedor para crear el ejecutable y otro más pequeño para ejecutarlo\n",
        "\n",
        "Llegamos a la conclusión de que un buen Dockerfile podría ser este\n",
        "\n",
        "``` Dockerfile\n",
        "FROM python:3.9.18-alpine\n",
        "WORKDIR /sourceCode/sourceApp\n",
        "COPY ./sourceCode/sourceApp .\n",
        "CMD [\"python3\", \"app.py\"]\n",
        "```\n",
        "\n",
        "Vamos a crear ahora un ejecutable en un contenedor builder y en otro más pequeño lo ejecutamos\n",
        "\n",
        "``` dockerfile\n",
        "FROM python:3.9.18-alpine as builder\n",
        "WORKDIR /sourceCode/sourceApp\n",
        "RUN apk add --no-cache gcc musl-dev libc-dev && pip install pyinstaller\n",
        "COPY ./sourceCode/sourceApp .\n",
        "RUN pyinstaller --onefile app.py\n",
        "\n",
        "FROM alpine:3.18.3\n",
        "WORKDIR /sourceCode/sourceApp\n",
        "COPY --from=builder /sourceCode/sourceApp/dist/app .\n",
        "CMD [\"./app\"]\n",
        "```"
      ]
    },
    {
      "cell_type": "markdown",
      "metadata": {},
      "source": [
        "Creamos el código de Python en la ruta necesaria"
      ]
    },
    {
      "cell_type": "code",
      "execution_count": 29,
      "metadata": {},
      "outputs": [],
      "source": [
        "!mkdir multistagebuild/sourceCode\n",
        "!mkdir multistagebuild/sourceCode/sourceApp\n",
        "!touch multistagebuild/sourceCode/sourceApp/app.py\n",
        "!echo 'print(\"Hello from Alpine!\")' > multistagebuild/sourceCode/sourceApp/app.py"
      ]
    },
    {
      "cell_type": "markdown",
      "metadata": {},
      "source": [
        "Ahora compilandos la imagen"
      ]
    },
    {
      "cell_type": "code",
      "execution_count": 30,
      "metadata": {},
      "outputs": [
        {
          "name": "stdout",
          "output_type": "stream",
          "text": [
            "\u001b[1A\u001b[1B\u001b[0G\u001b[?25l[+] Building 0.0s (0/0)                                          docker:default\n",
            "\u001b[?25h\u001b[1A\u001b[0G\u001b[?25l[+] Building 0.0s (0/1)                                          docker:default\n",
            "\u001b[?25h\u001b[1A\u001b[0G\u001b[?25l[+] Building 0.2s (3/5)                                          docker:default\n",
            "\u001b[34m => [internal] load build definition from Dockerfile                       0.1s\n",
            "\u001b[0m\u001b[34m => => transferring dockerfile: 357B                                       0.0s\n",
            "\u001b[0m\u001b[34m => [internal] load .dockerignore                                          0.1s\n",
            "\u001b[0m\u001b[34m => => transferring context: 2B                                            0.0s\n",
            "\u001b[0m => [internal] load metadata for docker.io/library/alpine:3.18.3           0.1s\n",
            " => [internal] load metadata for docker.io/library/python:3.9.18-alpine    0.1s\n",
            "\u001b[34m => [auth] library/alpine:pull token for registry-1.docker.io              0.0s\n",
            "\u001b[0m\u001b[?25h\u001b[1A\u001b[1A\u001b[1A\u001b[1A\u001b[1A\u001b[1A\u001b[1A\u001b[1A\u001b[0G\u001b[?25l[+] Building 0.3s (3/5)                                          docker:default\n",
            "\u001b[34m => [internal] load build definition from Dockerfile                       0.1s\n",
            "\u001b[0m\u001b[34m => => transferring dockerfile: 357B                                       0.0s\n",
            "\u001b[0m\u001b[34m => [internal] load .dockerignore                                          0.1s\n",
            "\u001b[0m\u001b[34m => => transferring context: 2B                                            0.0s\n",
            "\u001b[0m => [internal] load metadata for docker.io/library/alpine:3.18.3           0.2s\n",
            " => [internal] load metadata for docker.io/library/python:3.9.18-alpine    0.2s\n",
            "\u001b[34m => [auth] library/alpine:pull token for registry-1.docker.io              0.0s\n",
            "\u001b[0m\u001b[?25h\u001b[1A\u001b[1A\u001b[1A\u001b[1A\u001b[1A\u001b[1A\u001b[1A\u001b[1A\u001b[0G\u001b[?25l[+] Building 0.5s (4/6)                                          docker:default\n",
            "\u001b[34m => [internal] load build definition from Dockerfile                       0.1s\n",
            "\u001b[0m\u001b[34m => => transferring dockerfile: 357B                                       0.0s\n",
            "\u001b[0m\u001b[34m => [internal] load .dockerignore                                          0.1s\n",
            "\u001b[0m\u001b[34m => => transferring context: 2B                                            0.0s\n",
            "\u001b[0m => [internal] load metadata for docker.io/library/alpine:3.18.3           0.4s\n",
            "...\n",
            "\u001b[0m\u001b[34m => exporting to image                                                     0.1s\n",
            "\u001b[0m\u001b[34m => => exporting layers                                                    0.1s\n",
            "\u001b[0m\u001b[34m => => writing image sha256:8a22819145c6fee17e138e818610ccf46d7e13c786825  0.0s\n",
            "\u001b[0m\u001b[34m => => naming to docker.io/maximofn/multistagebuild:alpine-3.18.3          0.0s\n",
            "\u001b[0m\u001b[?25h"
          ]
        }
      ],
      "source": [
        "!docker build -t maximofn/multistagebuild:alpine-3.18.3 ./multistagebuild"
      ]
    },
    {
      "cell_type": "markdown",
      "metadata": {},
      "source": [
        "La ejecutamos"
      ]
    },
    {
      "cell_type": "code",
      "execution_count": 31,
      "metadata": {},
      "outputs": [
        {
          "name": "stdout",
          "output_type": "stream",
          "text": [
            "Hello from Alpine!\n"
          ]
        }
      ],
      "source": [
        "!docker run --rm --name multi_stage_build maximofn/multistagebuild:alpine-3.18.3"
      ]
    },
    {
      "cell_type": "markdown",
      "metadata": {},
      "source": [
        "La imagen `maximofn/multistagebuild:alpine-3.18.3` sólo pesa 13.6 MB"
      ]
    },
    {
      "cell_type": "markdown",
      "metadata": {},
      "source": [
        "### Diferencia entre RUN, CMD y ENTRYPOINT"
      ]
    },
    {
      "cell_type": "markdown",
      "metadata": {},
      "source": [
        "#### RUN"
      ]
    },
    {
      "cell_type": "markdown",
      "metadata": {},
      "source": [
        "El comando `RUN` es el más sencillo, simplemente ejecuta un comando en el momento de la compilación de la imagen. Por ejemplo, si queremos instalar un paquete en la imagen, lo hacemos mediante `RUN`.\n",
        "\n",
        "Por tanto, es importante, `RUN` se ejecuta en el momento de la compilación de la imagen, no cuando se ejecuta el contenedor"
      ]
    },
    {
      "cell_type": "markdown",
      "metadata": {},
      "source": [
        "#### CMD"
      ]
    },
    {
      "cell_type": "markdown",
      "metadata": {},
      "source": [
        "El comando `CMD` es el comando que se ejecuta cuando se ejecuta el contenedor. Por ejemplo, si queremos que el contenedor ejecute un comando cuando se ejecute, lo hacemos mediante `CMD`. Por ejemplo, si tenemos una aplicación de python en un contenedor, con `CMD` podemos indicarle que cuando se ejecute el contenedor ejecute la aplicación de python.\n",
        "\n",
        "De esta manera, cuando se levante el contenedor, se ejecutará la aplicación de Python. Es decir, si hacemos `docker run <image>` se ejecutará la aplicación de Python. Pero `CMD` nos permite sobreescribir el comando que se ejecuta cuando se levanta el contenedor, por ejemplo, si hacemos `docker run <image> bash` se ejecutará `bash` en vez de la aplicación de Python."
      ]
    },
    {
      "cell_type": "markdown",
      "metadata": {},
      "source": [
        "#### ENTRYPOINT"
      ]
    },
    {
      "cell_type": "markdown",
      "metadata": {},
      "source": [
        "El comando `ENTRYPOINT` es similar al comando `CMD`, pero con una diferencia: y es que `ENTRYPOINT` no está pensado para sobreescribirse. Es decir, si tenemos una aplicación de Python en un contenedor, con `ENTRYPOINT` podemos indicarle que cuando se ejecute el contenedor ejecute la aplicación de Python. Pero si hacemos `docker run <image> bash` se ejecutará la aplicación de Python, no `bash`.\n",
        "\n",
        "Un uso muy común de `ENTRYPOINT` es cuando queremos que el contenedor sea un ejecutable, por ejemplo, si queremos que el contenedor sea un ejecutable de una versión de Python que no tenemos en nuestro host, porque por ejemplo queremos probar la nueva versión de Python que ha salido podemos hacer\n",
        "\n",
        "``` Dockerfile\n",
        "FROM python:3.9.18-alpine\n",
        "ENTRYPOINT [\"python3\"]\n",
        "```\n",
        "\n",
        "De esta manera, cuando se levante el contenedor, se ejecutará Python. Es decir, si hacemos `docker run <image>` se ejecutará Python. Pero `ENTRYPOINT` nos permite sobreescribir el comando que se ejecuta cuando se levanta el contenedor, por ejemplo, si hacemos `docker run <image> myapp.py` se ejecutará `python3 myapp.py` dentro del contenedor. Así podemos probar nuestra aplicación de Python en la nueva versión de Python"
      ]
    },
    {
      "cell_type": "markdown",
      "metadata": {},
      "source": [
        "### Cambios en un contenedor"
      ]
    },
    {
      "cell_type": "markdown",
      "metadata": {},
      "source": [
        "Con `docker diff` podemos ver las diferencias que hay entre el contenedor y la imagen, lo que es lo mismo, la diferencia en el contenedor desde que se creó hasta ahora\n",
        "\n",
        "Vamos a correr un contenedor y dentro creamos un archivo"
      ]
    },
    {
      "cell_type": "code",
      "execution_count": 1,
      "metadata": {},
      "outputs": [
        {
          "name": "stdout",
          "output_type": "stream",
          "text": [
            "root@895a19aef124:/# touch file.txt\n"
          ]
        }
      ],
      "source": [
        "!docker run --rm -it --name ubuntu-20.04 ubuntu:20.04 bash"
      ]
    },
    {
      "cell_type": "markdown",
      "metadata": {},
      "source": [
        "Ahora podemos ver la diferencia"
      ]
    },
    {
      "cell_type": "code",
      "execution_count": 2,
      "metadata": {},
      "outputs": [
        {
          "name": "stdout",
          "output_type": "stream",
          "text": [
            "C /root\n",
            "A /root/.bash_history\n",
            "A /file.txt\n"
          ]
        }
      ],
      "source": [
        "!docker diff ubuntu-20.04"
      ]
    },
    {
      "cell_type": "markdown",
      "metadata": {},
      "source": [
        "`A` significa que se ha añadido, `C` significa que se ha cambiado y `D` significa que se ha borrado"
      ]
    },
    {
      "cell_type": "markdown",
      "metadata": {},
      "source": [
        "### Docker en Docker"
      ]
    },
    {
      "cell_type": "markdown",
      "metadata": {},
      "source": [
        "Supongamos que tenemos contenedores que necesitan levantar o apagar otros contenedores. Esto se logra de la siguiente manera\n",
        "\n",
        "Dado que en Linux todo es un archivo y el host se comunica con Docker mediante un socket. Por lo que para Linux, ese socket es un archivo. Así que si le montamos ese socket como un archivo al contenedor, podrá hablar con Docker"
      ]
    },
    {
      "cell_type": "markdown",
      "metadata": {},
      "source": [
        "Primero vamos a montar un contenedor con Ubuntu"
      ]
    },
    {
      "cell_type": "code",
      "execution_count": 1,
      "metadata": {},
      "outputs": [
        {
          "name": "stdout",
          "output_type": "stream",
          "text": [
            "144091e4a3325c9068064ff438f8865b40f944af5ce649c7156ca55a3453e423\n"
          ]
        }
      ],
      "source": [
        "!docker run -d --name ubuntu ubuntu:latest tail -f /dev/null"
      ]
    },
    {
      "cell_type": "markdown",
      "metadata": {},
      "source": [
        "Vamos a montar el contenedor que va a poder hablar con Docker montando la carpeta `/var/run/docker.sock`\n",
        "\n",
        "``` bash\n",
        "$ docker run -it --rm --name main -v /var/run/docker.sock:/var/run/docker.sock docker:19.03.12\n",
        "/ # \n",
        "```\n",
        "\n",
        "Nos hemos metido dentro de un contenedor, y si dentro ejecutamos `docker ps`\n",
        "\n",
        "``` bash\n",
        "# docker ps\n",
        "CONTAINER ID        IMAGE               COMMAND                  CREATED             STATUS              PORTS               NAMES\n",
        "9afb778d6c20        docker:19.03.12     \"docker-entrypoint.s…\"   3 seconds ago       Up 2 seconds                            main\n",
        "144091e4a332        ubuntu:latest       \"tail -f /dev/null\"      19 seconds ago      Up 18 seconds                           ubuntu\n",
        "```\n",
        "\n",
        "Como podemos ver, dentro de Docker podemos ver los contenedores del host"
      ]
    },
    {
      "cell_type": "markdown",
      "metadata": {},
      "source": [
        "Podemos correr un nuevo contenedor\n",
        "\n",
        "``` bash\n",
        "# docker run -d --name ubuntu_from_main ubuntu:latest tail -f /dev/null\n",
        "362654a72bb0fb047c13968707a6f16b87fed7ce051eb5c1a146b15828589a1a\n",
        "/ #\n",
        "```\n",
        "\n",
        "Y si volvemos a ver los contenedores\n",
        "\n",
        "``` bash\n",
        "# docker ps\n",
        "CONTAINER ID        IMAGE               COMMAND                  CREATED              STATUS              PORTS               NAMES\n",
        "362654a72bb0        ubuntu:latest       \"tail -f /dev/null\"      3 seconds ago        Up 3 seconds                            ubuntu_from_main\n",
        "9afb778d6c20        docker:19.03.12     \"docker-entrypoint.s…\"   About a minute ago   Up About a minute                       main\n",
        "144091e4a332        ubuntu:latest       \"tail -f /dev/null\"      2 minutes ago        Up About a minute                       ubuntu\n",
        "```\n",
        "\n",
        "Pero si ahora ejecutamos una nueva terminal del host, veremos el contenedor creado desde dentro del contenedor"
      ]
    },
    {
      "cell_type": "code",
      "execution_count": 4,
      "metadata": {},
      "outputs": [
        {
          "name": "stdout",
          "output_type": "stream",
          "text": [
            "CONTAINER ID   IMAGE             COMMAND                  CREATED              STATUS              PORTS     NAMES\n",
            "362654a72bb0   ubuntu:latest     \"tail -f /dev/null\"      About a minute ago   Up About a minute             ubuntu_from_main\n",
            "9afb778d6c20   docker:19.03.12   \"docker-entrypoint.s…\"   3 minutes ago        Up 3 minutes                  main\n",
            "144091e4a332   ubuntu:latest     \"tail -f /dev/null\"      3 minutes ago        Up 3 minutes                  ubuntu\n"
          ]
        }
      ],
      "source": [
        "!docker ps"
      ]
    },
    {
      "cell_type": "markdown",
      "metadata": {},
      "source": [
        "Todo lo que hagamos desde el contenedor `main` se verá reflejado en el host"
      ]
    },
    {
      "cell_type": "markdown",
      "metadata": {},
      "source": [
        "Esto tiene la ventaja de que podemos instalar programas en un contenedor que tiene acceso al host para no tener que instalarlos en el host. Por ejemplo [dive](https://github.com/wagoodman/dive) es una herramienta para explorar contenedores, pero si no la quieres instalar en el host la puedes instalar en un contenedor con acceso al host, así desde ese contenedor `main` puedes explorar el resto de contenedores sin tener que instalarla en el host"
      ]
    }
  ],
  "metadata": {
    "kernelspec": {
      "display_name": "Python 3.7.6 ('base')",
      "language": "python",
      "name": "python3"
    },
    "language_info": {
      "codemirror_mode": {
        "name": "ipython",
        "version": 3
      },
      "file_extension": ".py",
      "mimetype": "text/x-python",
      "name": "python",
      "nbconvert_exporter": "python",
      "pygments_lexer": "ipython3",
      "version": "3.10.9"
    },
    "maximofn": {
      "date": "2023-01-22",
      "description_en": "🐳 Create as many development environments as you want with Docker. No more On my machine it works",
      "description_es": "🐳 Crea todos los entornos de desarrollo que quieras con Docker. Ya no más En mi máquina funciona",
      "description_pt": "🐳 Crie quantos ambientes de desenvolvimento você quiser com o Docker. Chega de Funciona na minha máquina",
      "end_url": "docker",
      "image": "https://pub-fb664c455eca46a2ba762a065ac900f7.r2.dev/docker.webp",
      "image_hover_path": "https://pub-fb664c455eca46a2ba762a065ac900f7.r2.dev/docker.webp",
      "keywords_en": "docker, tutorial, development, environments",
      "keywords_es": "docker, tutorial, desarrollo, entornos",
      "keywords_pt": "docker, tutorial, desenvolvimento, ambientes",
      "title_en": "Docker",
      "title_es": "Docker",
      "title_pt": "Docker"
    },
    "orig_nbformat": 4,
    "vscode": {
      "interpreter": {
        "hash": "d5745ab6aba164e1152437c779991855725055592b9f2bdb41a4825db7168d26"
      }
    }
  },
  "nbformat": 4,
  "nbformat_minor": 2
}
