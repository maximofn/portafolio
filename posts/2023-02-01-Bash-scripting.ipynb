{
  "cells": [
    {
      "attachments": {},
      "cell_type": "markdown",
      "metadata": {},
      "source": [
        "# Bash scripting"
      ]
    },
    {
      "attachments": {},
      "cell_type": "markdown",
      "metadata": {},
      "source": [
        "## Carpeta con scripts"
      ]
    },
    {
      "attachments": {},
      "cell_type": "markdown",
      "metadata": {},
      "source": [
        "Para realizar este post, vamos a crear una carpeta donde vamos a guardar todos los scripts"
      ]
    },
    {
      "cell_type": "code",
      "execution_count": 2,
      "metadata": {},
      "outputs": [],
      "source": [
        "!mkdir scripts_bash"
      ]
    },
    {
      "attachments": {},
      "cell_type": "markdown",
      "metadata": {},
      "source": [
        "## Primer script"
      ]
    },
    {
      "attachments": {},
      "cell_type": "markdown",
      "metadata": {},
      "source": [
        "### Especificación del binario de ejecución"
      ]
    },
    {
      "attachments": {},
      "cell_type": "markdown",
      "metadata": {},
      "source": [
        "En Linux se puede indicar con qué programa ejecutar un archivo poniendo en la primera línea `#!<ruta binario>`, por ejemplo, si creamos un `.py` podemos indicar que se tiene que ejecutar con Python poniendo en la primera línea `#!/usr/bin/python3`. En nuestro caso, como estamos haciendo un script de la terminal, ponemos en la primera línea `#!/bin/bash`.\n",
        "\n",
        "Ahora si se le dan permisos de ejecución al archivo, se puede ejecutar directamente sin indicar el programa con el que se tiene que ejecutar. Es decir, el `.py` ya no necesita ser ejecutado mediante `python script.py`, sino que se puede ejecutar mediante `./script.py`. En nuestro caso, en vez de ejecutar el archivo mediante `bash script.sh` podemos ejecutarlo mediante `./script.sh`"
      ]
    },
    {
      "attachments": {},
      "cell_type": "markdown",
      "metadata": {},
      "source": [
        "### Comentarios en scripts de bash"
      ]
    },
    {
      "attachments": {},
      "cell_type": "markdown",
      "metadata": {},
      "source": [
        "Si queremos introducir un comentario bastaría con empezar la línea con `#`.\n",
        "\n",
        "``` bash\n",
        "# Esto es un comentario de una sola línea\n",
        "```\n",
        "\n",
        "Si lo que queremos es introducir varias líneas de comentarios tenemos que empezar con `:#` y terminar con `#`\n",
        "\n",
        "``` bash\n",
        ": '\n",
        "Este es un comentario de varias líneas\n",
        "que se extiende a través de varias líneas.\n",
        "'\n",
        "```"
      ]
    },
    {
      "attachments": {},
      "cell_type": "markdown",
      "metadata": {},
      "source": [
        "### Imprimir por pantalla con el comando `echo`"
      ]
    },
    {
      "attachments": {},
      "cell_type": "markdown",
      "metadata": {},
      "source": [
        "Si queremos imprimir por pantalla utilizamos el comando `echo` seguido de lo que queramos imprimir"
      ]
    },
    {
      "cell_type": "code",
      "execution_count": 2,
      "metadata": {},
      "outputs": [
        {
          "name": "stdout",
          "output_type": "stream",
          "text": [
            "Writing scripts_bash/01_primerScript.sh\n"
          ]
        }
      ],
      "source": [
        "%%writefile scripts_bash/01_primerScript.sh\n",
        "#!/bin/bash\n",
        "# Comentario de una sola linea\n",
        ": '\n",
        "Comentario de varias\n",
        "lineas\n",
        "'\n",
        "echo \"Hola mundo\""
      ]
    },
    {
      "attachments": {},
      "cell_type": "markdown",
      "metadata": {},
      "source": [
        "Damos permisos de ejecución y ejecutamos el script"
      ]
    },
    {
      "cell_type": "code",
      "execution_count": 3,
      "metadata": {},
      "outputs": [
        {
          "name": "stdout",
          "output_type": "stream",
          "text": [
            "Hola mundo\n"
          ]
        }
      ],
      "source": [
        "!chmod +x scripts_bash/01_primerScript.sh && ./scripts_bash/01_primerScript.sh"
      ]
    },
    {
      "attachments": {},
      "cell_type": "markdown",
      "metadata": {},
      "source": [
        "## Declaración de variables"
      ]
    },
    {
      "attachments": {},
      "cell_type": "markdown",
      "metadata": {},
      "source": [
        "Hay dos tipos de variables: las `variables de usuario` y las `variables de entorno`"
      ]
    },
    {
      "attachments": {},
      "cell_type": "markdown",
      "metadata": {},
      "source": [
        "Para crear una variable basta con declararla introduciendo el nombre que queramos, seguido de `=` y el valor\n",
        "\n",
        "Para imprimir el valor de una variable con `echo`, se tiene que referenciar a ella mediante `$<nombre de variable>\n",
        "\n",
        "``` bash\n",
        "echo \"Variable = $<nombre de variable>\n",
        "```"
      ]
    },
    {
      "cell_type": "code",
      "execution_count": 6,
      "metadata": {},
      "outputs": [
        {
          "name": "stdout",
          "output_type": "stream",
          "text": [
            "Writing scripts_bash/02_variables.sh\n"
          ]
        }
      ],
      "source": [
        "%%writefile scripts_bash/02_variables.sh\n",
        "#!/bin/bash\n",
        "opcion=1\n",
        "nombre=\"Juan\"\n",
        "\n",
        "echo \"Opcion: $opcion\"\n",
        "echo \"Nombre: $nombre\""
      ]
    },
    {
      "cell_type": "code",
      "execution_count": 7,
      "metadata": {},
      "outputs": [
        {
          "name": "stdout",
          "output_type": "stream",
          "text": [
            "Opcion: 1\n",
            "Nombre: Juan\n"
          ]
        }
      ],
      "source": [
        "!chmod +x scripts_bash/02_variables.sh && ./scripts_bash/02_variables.sh"
      ]
    },
    {
      "attachments": {},
      "cell_type": "markdown",
      "metadata": {},
      "source": [
        "Alcance de las variables"
      ]
    },
    {
      "attachments": {},
      "cell_type": "markdown",
      "metadata": {},
      "source": [
        "Las variables creadas solo son accesibles desde el script, es decir, su alcance es dentro del script"
      ]
    },
    {
      "attachments": {},
      "cell_type": "markdown",
      "metadata": {},
      "source": [
        "#### Exportación de variables"
      ]
    },
    {
      "attachments": {},
      "cell_type": "markdown",
      "metadata": {},
      "source": [
        "Podemos exportar variables para que estén accesibles por otros scripts, para ello primero exportamos la variable mediante el comando `export` y ejecutamos, dentro del script, al segundo script al que se le quiere pasar la variable"
      ]
    },
    {
      "cell_type": "code",
      "execution_count": 29,
      "metadata": {},
      "outputs": [
        {
          "name": "stdout",
          "output_type": "stream",
          "text": [
            "Overwriting scripts_bash/02_variables.sh\n"
          ]
        }
      ],
      "source": [
        "%%writefile scripts_bash/02_variables.sh\n",
        "#!/bin/bash\n",
        "opcion=1\n",
        "nombre=\"Juan\"\n",
        "\n",
        "echo \"Opcion: $opcion\"\n",
        "echo \"Nombre: $nombre\"\n",
        "\n",
        "# Exportar variable nombre\n",
        "echo \"export nombre=$nombre\"\n",
        "export nombre\n",
        "\n",
        "# Ejecutar script de importacion\n",
        "echo \"\"\n",
        "echo \"Ejecutando script de importacion\"\n",
        "./scripts_bash/02_variables_importacion.sh"
      ]
    },
    {
      "cell_type": "code",
      "execution_count": 30,
      "metadata": {},
      "outputs": [
        {
          "name": "stdout",
          "output_type": "stream",
          "text": [
            "Writing scripts_bash/02_variables_importacion.sh\n"
          ]
        }
      ],
      "source": [
        "%%writefile scripts_bash/02_variables_importacion.sh\n",
        "#!/bin/bash\n",
        "echo \"Nombre importado: $nombre\""
      ]
    },
    {
      "cell_type": "code",
      "execution_count": 32,
      "metadata": {},
      "outputs": [
        {
          "name": "stdout",
          "output_type": "stream",
          "text": [
            "Opcion: 1\n",
            "Nombre: Juan\n",
            "export nombre=Juan\n",
            "\n",
            "Ejecutando script de importacion\n",
            "Nombre importado: Juan\n"
          ]
        }
      ],
      "source": [
        "!chmod +x scripts_bash/02_variables.sh && chmod +x scripts_bash/02_variables_importacion.sh && ./scripts_bash/02_variables.sh"
      ]
    },
    {
      "attachments": {},
      "cell_type": "markdown",
      "metadata": {},
      "source": [
        "Se tiene que ejecutar el segundo script dentro del primer script. Si ahora ejecutamos el segundo script, no tenemos la variable"
      ]
    },
    {
      "cell_type": "code",
      "execution_count": 33,
      "metadata": {},
      "outputs": [
        {
          "name": "stdout",
          "output_type": "stream",
          "text": [
            "Nombre importado: \n"
          ]
        }
      ],
      "source": [
        "!chmod +x scripts_bash/02_variables_importacion.sh && ./scripts_bash/02_variables_importacion.sh"
      ]
    },
    {
      "attachments": {},
      "cell_type": "markdown",
      "metadata": {},
      "source": [
        "Si queremos que sea accesible desde cualquier segundo script, sin tener que ejecutarlo dentro del primer script, tenemos que exportar la variable a una variable de entorno"
      ]
    },
    {
      "attachments": {},
      "cell_type": "markdown",
      "metadata": {},
      "source": [
        "## Tipos de operadores"
      ]
    },
    {
      "attachments": {},
      "cell_type": "markdown",
      "metadata": {},
      "source": [
        "A continuación, mostramos todos los posibles operadores"
      ]
    },
    {
      "cell_type": "code",
      "execution_count": 38,
      "metadata": {},
      "outputs": [
        {
          "name": "stdout",
          "output_type": "stream",
          "text": [
            "Overwriting scripts_bash/03_operadores.sh\n"
          ]
        }
      ],
      "source": [
        "%%writefile scripts_bash/03_operadores.sh\n",
        "#!/bin/bash\n",
        "\n",
        "# Asignación de variables\n",
        "x=10\n",
        "y=20\n",
        "echo \"x = $x\"\n",
        "echo \"y = $y\"\n",
        "\n",
        "# Operadores aritméticos\n",
        "echo \"\"\n",
        "echo \"Operadores aritméticos\"\n",
        "echo \"x + y = $((x + y))\"\n",
        "echo \"x - y = $((x - y))\"\n",
        "echo \"x * y = $((x * y))\"\n",
        "echo \"x / y = $((x / y))\"\n",
        "echo \"x % y = $((x % y))\"\n",
        "\n",
        "# Operadores de comparación\n",
        "echo \"\"\n",
        "echo \"Operadores de comparación\"\n",
        "if [ \"$x\" -eq \"$y\" ]; then\n",
        "  echo \"x es igual a y\"\n",
        "else\n",
        "  echo \"x no es igual a y\"\n",
        "fi\n",
        "\n",
        "if [ \"$x\" -ne \"$y\" ]; then\n",
        "  echo \"x no es igual a y\"\n",
        "else\n",
        "  echo \"x es igual a y\"\n",
        "fi\n",
        "\n",
        "if [ \"$x\" -lt \"$y\" ]; then\n",
        "  echo \"x es menor que y\"\n",
        "else\n",
        "  echo \"x no es menor que y\"\n",
        "fi\n",
        "\n",
        "if [ \"$x\" -gt \"$y\" ]; then\n",
        "  echo \"x es mayor que y\"\n",
        "else\n",
        "  echo \"x no es mayor que y\"\n",
        "fi\n",
        "\n",
        "# Operadores de cadena\n",
        "echo \"\"\n",
        "echo \"Operadores de cadena\"\n",
        "if [ \"$a\" = \"$b\" ]; then\n",
        "  echo \"a es igual a b\"\n",
        "else\n",
        "  echo \"a no es igual a b\"\n",
        "fi\n",
        "\n",
        "if [ \"$a\" != \"$b\" ]; then\n",
        "  echo \"a no es igual a b\"\n",
        "else\n",
        "  echo \"a es igual a b\"\n",
        "fi\n",
        "\n",
        "if [ -z \"$a\" ]; then\n",
        "  echo \"a es una cadena vacía\"\n",
        "else\n",
        "  echo \"a no es una cadena vacía\"\n",
        "fi\n",
        "\n",
        "if [ -n \"$a\" ]; then\n",
        "  echo \"a no es una cadena vacía\"\n",
        "else\n",
        "  echo \"a es una cadena vacía\"\n",
        "fi\n",
        "\n",
        "# Operadores de archivo\n",
        "echo \"\"\n",
        "echo \"Operadores de archivo\"\n",
        "if [ -e \"/path/to/file\" ]; then\n",
        "  echo \"El archivo existe\"\n",
        "else\n",
        "  echo \"El archivo no existe\"\n",
        "fi\n",
        "\n",
        "if [ -f \"/path/to/file\" ]; then\n",
        "  echo \"Es un archivo regular\"\n",
        "else\n",
        "  echo \"No es un archivo regular\"\n",
        "fi\n",
        "\n",
        "if [ -d \"/path/to/dir\" ]; then\n",
        "  echo \"Es un directorio\"\n",
        "else\n",
        "  echo \"No es un directorio\"\n",
        "fi\n"
      ]
    },
    {
      "cell_type": "code",
      "execution_count": 39,
      "metadata": {},
      "outputs": [
        {
          "name": "stdout",
          "output_type": "stream",
          "text": [
            "x = 10\n",
            "y = 20\n",
            "\n",
            "Operadores aritméticos\n",
            "x + y = 30\n",
            "x - y = -10\n",
            "x * y = 200\n",
            "x / y = 0\n",
            "x % y = 10\n",
            "\n",
            "Operadores de comparación\n",
            "x no es igual a y\n",
            "x no es igual a y\n",
            "x es menor que y\n",
            "x no es mayor que y\n",
            "\n",
            "Operadores de cadena\n",
            "a es igual a b\n",
            "a es igual a b\n",
            "a es una cadena vacía\n",
            "a es una cadena vacía\n",
            "\n",
            "Operadores de archivo\n",
            "El archivo no existe\n",
            "No es un archivo regular\n",
            "No es un directorio\n"
          ]
        }
      ],
      "source": [
        "!chmod +x scripts_bash/03_operadores.sh && ./scripts_bash/03_operadores.sh"
      ]
    },
    {
      "attachments": {},
      "cell_type": "markdown",
      "metadata": {},
      "source": [
        "## Paso de argumentos"
      ]
    },
    {
      "attachments": {},
      "cell_type": "markdown",
      "metadata": {},
      "source": [
        "Se pueden pasar argumentos a los scripts, una vez dentro del script podemos hacer uso de ellos de la siguiente manera\n",
        "\n",
        " * Por número de argumento: en este caso se nombrarán como `$1`, `$2`, etc. Pero en caso de que el número de argumentos sea mayor que 9, es decir que haya falta más de 2 dígitos para nombrarlo, en ese caso se identificará el número entre llaves, `${1}`, `${2}`, ..., ${10}, ${11}, etc\n",
        " * Si se llama al argumento `$0` estamos obteniendo el nombre del archivo\n",
        " * Si queremos todos los argumentos, lo hacemos mediante `$*`\n",
        " * Si lo que queremos es el número de argumentos que tenemos, lo obtenemos mediante `$#`\n",
        " * Si queremos saver la salida del último comando lo podemos saber mediante `$?`\n",
        " * Si queremos saber el `PID` del script, lo podemos saber mediante `$$`\n",
        " * Podemos remplazar el valor de una cadena de un argumento mediante `${<indice de argumento>/cadena que se quiere sustituir/cadena nueva}`, es decir, si tenemos `${1/hola/hello}` sustituirá la palabra `hola` por la palabra `hello` en el argumento 1\n",
        " * Sin embargo, si usamos `${<índice de argumento>/#cadena que se quiere sustituir/cadena nueva}`, solo sustituirá la cadena en el argumento si este argumento empieza por dicha cadena"
      ]
    },
    {
      "cell_type": "code",
      "execution_count": 8,
      "metadata": {},
      "outputs": [
        {
          "name": "stdout",
          "output_type": "stream",
          "text": [
            "Overwriting scripts_bash/04_argumentos.sh\n"
          ]
        }
      ],
      "source": [
        "%%writefile scripts_bash/04_argumentos.sh\n",
        "#!/bin/bash\n",
        "\n",
        "# Pasos de argumentos simples\n",
        "echo \"Primer argumento: $1\"\n",
        "echo \"Segundo argumento: $2\"\n",
        "echo \"Tercer argumento: $3\"\n",
        "\n",
        "# Accediendo a todos los argumentos\n",
        "echo \"Todos los argumentos: $*\"\n",
        "\n",
        "# Accediendo al número de argumentos\n",
        "echo \"Número de argumentos: $#\"\n",
        "\n",
        "# Accediendo al nombre del script\n",
        "echo \"Nombre del script: $0\"\n",
        "\n",
        "# Accediendo al código de salida del último comando ejecutado\n",
        "echo \"Código de salida del último comando: $?\"\n",
        "\n",
        "# Accediendo al PID del script\n",
        "echo \"PID del script: $$\"\n",
        "\n",
        "# Accediendo a los argumentos con índices\n",
        "echo \"Argumento 3: ${3}\"\n",
        "echo \"Argumento 2: ${2}\"\n",
        "\n",
        "# Accediendo a los argumentos con índices y longitud máxima\n",
        "echo \"Argumento 3 con longitud máxima de 2 caracteres: ${3:0:2}\"\n",
        "echo \"Argumento 2 con longitud máxima de 3 caracteres: ${2:0:3}\"\n",
        "\n",
        "# Reemplazando argumentos con índices y longitud máxima\n",
        "echo \"Reemplazando argumento 3: ${3/arg/ARG}\"\n",
        "echo \"Reemplazando argumento 2: $                                                                                                                                                                                                                                                                                                                                                                                                                                                                                                                                                                                                                                                                                                                                                                                                                                                                                                                                                                                                                                                                                                                                                                                                                                                                                                                                                                                                                                                                                                                                                                                                                                                                                                                                                                                                                                                                                                                                                                                                                                                                                                                                                                                                                                                                                                                                                                                                                                                                                                                                                                                                                                                                                                                                                                                                                                                                                                                                                                                                                                                                                                                                                                                                                                                                                                                                                                                                                                                                                                                                                                                                                                                                                                                                                                                                                                                                                                                                                                                                                                                                                                                                                                                                                   {2/arg/ARG}\"\n",
        "\n",
        "# Accediendo a los argumentos con índices y patrones de reemplazo\n",
        "echo \"Reemplazando patrón en argumento 3: ${3/#tercer/TERCER}\"\n",
        "echo \"Reemplazando patrón en argumento 2: ${2/#arg/ARG}\""
      ]
    },
    {
      "cell_type": "code",
      "execution_count": 6,
      "metadata": {},
      "outputs": [
        {
          "name": "stdout",
          "output_type": "stream",
          "text": [
            "Primer argumento: primer argumento\n",
            "Segundo argumento: segundo argumento\n",
            "Tercer argumento: tercer argumento\n",
            "Todos los argumentos: primer argumento segundo argumento tercer argumento\n",
            "Número de argumentos: 3\n",
            "Nombre del script: ./scripts_bash/04_argumentos.sh\n",
            "Código de salida del último comando: 0\n",
            "PID del script: 11644\n",
            "Argumento 3: tercer argumento\n",
            "Argumento 2: segundo argumento\n",
            "Argumento 3 con longitud máxima de 2 caracteres: te\n",
            "Argumento 2 con longitud máxima de 3 caracteres: seg\n",
            "Reemplazando argumento 3: tercer ARGumento\n",
            "Reemplazando argumento 2: segundo ARGumento\n",
            "Reemplazando patrón en argumento 3: tercer argumento\n",
            "Reemplazando patrón en argumento 2: segundo argumento\n"
          ]
        }
      ],
      "source": [
        "!arg1=\"primer argumento\" && arg2=\"segundo argumento\" && arg3=\"tercer argumento\" && chmod +x scripts_bash/04_argumentos.sh && ./scripts_bash/04_argumentos.sh \"$arg1\" \"$arg2\" \"$arg3\""
      ]
    },
    {
      "attachments": {},
      "cell_type": "markdown",
      "metadata": {},
      "source": [
        "## Ejecutar comandos y guardarlos en una variable"
      ]
    },
    {
      "attachments": {},
      "cell_type": "markdown",
      "metadata": {},
      "source": [
        "Tenemos dos maneras de ejecutar un comando y guardar su salida en una variable\n",
        " * Mediante `variable=command`\n",
        " * Mediante `variable=$(command)`"
      ]
    },
    {
      "cell_type": "code",
      "execution_count": 23,
      "metadata": {},
      "outputs": [
        {
          "name": "stdout",
          "output_type": "stream",
          "text": [
            "Overwriting scripts_bash/05_variables_comandos.sh\n"
          ]
        }
      ],
      "source": [
        "%%writefile scripts_bash/05_variables_comandos.sh\n",
        "#!/bin/bash\n",
        "\n",
        "path=$(pwd)\n",
        "infokernel=`uname -a`\n",
        "\n",
        "echo \"El directorio actual es: $path\"\n",
        "echo \"La información del kernel es: $infokernel\""
      ]
    },
    {
      "cell_type": "code",
      "execution_count": 24,
      "metadata": {},
      "outputs": [
        {
          "name": "stdout",
          "output_type": "stream",
          "text": [
            "El directorio actual es: /home/wallabot/Documentos/web/portafolio/posts\n",
            "La información del kernel es: Linux wallabot 5.15.0-57-generic #63~20.04.1-Ubuntu SMP Wed Nov 30 13:40:16 UTC 2022 x86_64 x86_64 x86_64 GNU/Linux\n"
          ]
        }
      ],
      "source": [
        "!chmod +x scripts_bash/05_variables_comandos.sh && ./scripts_bash/05_variables_comandos.sh"
      ]
    },
    {
      "attachments": {},
      "cell_type": "markdown",
      "metadata": {},
      "source": [
        "## Debugging"
      ]
    },
    {
      "attachments": {},
      "cell_type": "markdown",
      "metadata": {},
      "source": [
        "Hay dos maneras de depurar en bash scripting\n",
        " * Usando `-v`: Ejecución detallada de un script línea por línea\n",
        " * Usando `-x`: Despliege de información del script"
      ]
    },
    {
      "cell_type": "code",
      "execution_count": 25,
      "metadata": {},
      "outputs": [
        {
          "name": "stdout",
          "output_type": "stream",
          "text": [
            "#!/bin/bash\n",
            "\n",
            "path=$(pwd)\n",
            "infokernel=`uname -a`\n",
            "\n",
            "echo \"El directorio actual es: $path\"\n",
            "El directorio actual es: /home/wallabot/Documentos/web/portafolio/posts\n",
            "echo \"La información del kernel es: $infokernel\"\n",
            "La información del kernel es: Linux wallabot 5.15.0-57-generic #63~20.04.1-Ubuntu SMP Wed Nov 30 13:40:16 UTC 2022 x86_64 x86_64 x86_64 GNU/Linux\n"
          ]
        }
      ],
      "source": [
        "!bash -v scripts_bash/05_variables_comandos.sh"
      ]
    },
    {
      "cell_type": "code",
      "execution_count": 26,
      "metadata": {},
      "outputs": [
        {
          "name": "stdout",
          "output_type": "stream",
          "text": [
            "++ pwd\n",
            "+ path=/home/wallabot/Documentos/web/portafolio/posts\n",
            "++ uname -a\n",
            "+ infokernel='Linux wallabot 5.15.0-57-generic #63~20.04.1-Ubuntu SMP Wed Nov 30 13:40:16 UTC 2022 x86_64 x86_64 x86_64 GNU/Linux'\n",
            "+ echo 'El directorio actual es: /home/wallabot/Documentos/web/portafolio/posts'\n",
            "El directorio actual es: /home/wallabot/Documentos/web/portafolio/posts\n",
            "+ echo 'La información del kernel es: Linux wallabot 5.15.0-57-generic #63~20.04.1-Ubuntu SMP Wed Nov 30 13:40:16 UTC 2022 x86_64 x86_64 x86_64 GNU/Linux'\n",
            "La información del kernel es: Linux wallabot 5.15.0-57-generic #63~20.04.1-Ubuntu SMP Wed Nov 30 13:40:16 UTC 2022 x86_64 x86_64 x86_64 GNU/Linux\n"
          ]
        }
      ],
      "source": [
        "!bash -x scripts_bash/05_variables_comandos.sh"
      ]
    },
    {
      "attachments": {},
      "cell_type": "markdown",
      "metadata": {},
      "source": [
        "## Obtener información del usuario"
      ]
    },
    {
      "attachments": {},
      "cell_type": "markdown",
      "metadata": {},
      "source": [
        "### Obtener información mediante los comandos `echo` y `read`"
      ]
    },
    {
      "attachments": {},
      "cell_type": "markdown",
      "metadata": {},
      "source": [
        "Tenemos tres maneras de obtener información del usuario\n",
        " * Mediante el comando `echo -n`. Con el flag `-n` indicamos que no queremos que se imprima un salto de línea al final del `echo`. Por ejemplo, `echo -n \"Introduce dato: \"`, con este comando le pedimos un dato y el cursor se quedará en la misma línea, no habrá un salto\n",
        " * Mediante el comando `read`. Con este comando el programa se quedará esperando a que el usuario introduzca datos terminando con un salto de línea. Lo que haya introducido lo guardará en la variable `REPLY`. Si se quiere que la variable donde se guarda el dato introducido por el usuario tenga otro nombre se debe introducir `read [variable]`, por ejemplo el comando `read miVariable`, guardará el dato del usuario en la variable `miVariable`\n",
        " * Mediante el comando `$REPLY` o `$(variable)` accedemos al dato introducido por el usuario."
      ]
    },
    {
      "cell_type": "code",
      "execution_count": 51,
      "metadata": {},
      "outputs": [
        {
          "name": "stdout",
          "output_type": "stream",
          "text": [
            "Overwriting scripts_bash/06_leer_informacion.sh\n"
          ]
        }
      ],
      "source": [
        "%%writefile scripts_bash/06_leer_informacion.sh\n",
        "#!/bin/bash\n",
        "\n",
        "option=0\n",
        "backupName=\"\"\n",
        "\n",
        "echo \"Programa de utilidades\"\n",
        "echo -n \"Ingresar una opción: \"\n",
        "read\n",
        "option=$REPLY\n",
        "echo \"\"\n",
        "echo -n \"Ingresar un nombre: \"\n",
        "read backupName\n",
        "echo \"\"\n",
        "echo \"Opción: $option, backupName: $backupName\"\n"
      ]
    },
    {
      "attachments": {},
      "cell_type": "markdown",
      "metadata": {},
      "source": [
        "Como en un jupyter notebook no puedo meter los datos según me los va pidiendo, se los meto antes en un pipe `|`"
      ]
    },
    {
      "cell_type": "code",
      "execution_count": 52,
      "metadata": {},
      "outputs": [
        {
          "name": "stdout",
          "output_type": "stream",
          "text": [
            "Programa de utilidades\n",
            "Ingresar una opción: \n",
            "Ingresar un nombre: \n",
            "Opción: 1, backupName: nombreprueba\n"
          ]
        }
      ],
      "source": [
        "!chmod +x scripts_bash/06_leer_informacion.sh && echo \"1\\nnombreprueba\" | ./scripts_bash/06_leer_informacion.sh"
      ]
    },
    {
      "attachments": {},
      "cell_type": "markdown",
      "metadata": {},
      "source": [
        "### Obtener información solo mediante el comando `read`"
      ]
    },
    {
      "attachments": {},
      "cell_type": "markdown",
      "metadata": {},
      "source": [
        "Otra forma de obtener información es usar solo el comando `read`, la sintaxis sería\n",
        "\n",
        "``` bash\n",
        "read -p \"Mensaje de prompt:\" [variable]\n",
        "```\n",
        "\n",
        "El flag `-p` indica que el mensaje `Mensaje de prompt:` se mostrará antes de esperar a que el usuario introduzca el dato. Si no se especifica un nombre de variable, el dato se guardará en la variable `REPLY`"
      ]
    },
    {
      "cell_type": "code",
      "execution_count": 55,
      "metadata": {},
      "outputs": [
        {
          "name": "stdout",
          "output_type": "stream",
          "text": [
            "Overwriting scripts_bash/06_leer_informacion.sh\n"
          ]
        }
      ],
      "source": [
        "%%writefile scripts_bash/06_leer_informacion.sh\n",
        "#!/bin/bash\n",
        "\n",
        "option=0\n",
        "backupName=\"\"\n",
        "\n",
        "echo \"Programa de utilidades\"\n",
        "echo -n \"Ingresar una opción: \"\n",
        "read\n",
        "option1=$REPLY\n",
        "echo \"\"\n",
        "echo -n \"Ingresar un nombre: \"\n",
        "read backupName\n",
        "echo \"\"\n",
        "read -p \"Ingresar otra opción: \" option2\n",
        "echo \"\"\n",
        "echo \"Opción: $option1-$option2, backupName: $backupName\""
      ]
    },
    {
      "cell_type": "code",
      "execution_count": 56,
      "metadata": {},
      "outputs": [
        {
          "name": "stdout",
          "output_type": "stream",
          "text": [
            "Programa de utilidades\n",
            "Ingresar una opción: \n",
            "Ingresar un nombre: \n",
            "\n",
            "Opción: 1-2, backupName: nombreprueba\n"
          ]
        }
      ],
      "source": [
        "!chmod +x scripts_bash/06_leer_informacion.sh && echo \"1\\nnombreprueba\\n2\" | ./scripts_bash/06_leer_informacion.sh"
      ]
    },
    {
      "attachments": {},
      "cell_type": "markdown",
      "metadata": {},
      "source": [
        "## Validar la información del usuario"
      ]
    },
    {
      "attachments": {},
      "cell_type": "markdown",
      "metadata": {},
      "source": [
        "Para validar la información del usuario lo mejor sería usar expresiones regulares, aquí dejo un [post](https://maximofn.com/expresiones-regulares/) donde las explico"
      ]
    },
    {
      "attachments": {},
      "cell_type": "markdown",
      "metadata": {},
      "source": [
        "Además podemos especificar el número de caracteres que queremos que el usuario introduzca cuando usamos `read`, para ello usamos el flag `-n`, el cual, si no le sigue ningún número esperará hasta que el usuario introduzca un salto de línea, y si le sigue un número, esperará hasta que el usuario introduzca ese número de caracteres"
      ]
    },
    {
      "cell_type": "code",
      "execution_count": 1,
      "metadata": {},
      "outputs": [
        {
          "name": "stdout",
          "output_type": "stream",
          "text": [
            "Writing scripts_bash/07_validar_informacion.sh\n"
          ]
        }
      ],
      "source": [
        "%%writefile scripts_bash/07_validar_informacion.sh\n",
        "#!/bin/bash\n",
        "\n",
        "option=0\n",
        "backupName=\"\"\n",
        "\n",
        "echo \"Programa de utilidades\"\n",
        "echo -n \"Ingresar una opción: \"\n",
        "read -n1\n",
        "option1=$REPLY\n",
        "echo \"\"\n",
        "echo -n \"Ingresar un nombre: \"\n",
        "read -n4 backupName\n",
        "echo \"\"\n",
        "read -p \"Ingresar otra opción: \" option2\n",
        "echo \"\"\n",
        "echo \"Opción: $option1-$option2, backupName: $backupName\""
      ]
    },
    {
      "cell_type": "code",
      "execution_count": 3,
      "metadata": {},
      "outputs": [
        {
          "name": "stdout",
          "output_type": "stream",
          "text": [
            "Programa de utilidades\n",
            "Ingresar una opción: \n",
            "Ingresar un nombre: \n",
            "\n",
            "Opción: 1-2, backupName: back\n"
          ]
        }
      ],
      "source": [
        "!chmod +x scripts_bash/07_validar_informacion.sh && echo \"1back2\" | ./scripts_bash/07_validar_informacion.sh"
      ]
    },
    {
      "attachments": {},
      "cell_type": "markdown",
      "metadata": {},
      "source": [
        "Si queremos que introduzca un valor confidencial, como una clave, ponemos el flag `-s` (security). De esta manera, cuando el usuario introduzca el dato, este no se imprimirá en la consola"
      ]
    },
    {
      "cell_type": "code",
      "execution_count": 4,
      "metadata": {},
      "outputs": [
        {
          "name": "stdout",
          "output_type": "stream",
          "text": [
            "Overwriting scripts_bash/07_validar_informacion.sh\n"
          ]
        }
      ],
      "source": [
        "%%writefile scripts_bash/07_validar_informacion.sh\n",
        "#!/bin/bash\n",
        "\n",
        "option=0\n",
        "backupName=\"\"\n",
        "\n",
        "echo \"Programa de utilidades\"\n",
        "echo -n \"Ingresar una opción: \"\n",
        "read -n1\n",
        "option1=$REPLY\n",
        "echo \"\"\n",
        "echo -n \"Ingresar un nombre: \"\n",
        "read -n4 backupName\n",
        "echo \"\"\n",
        "read -p \"Ingresar otra opción: \" option2\n",
        "echo \"\"\n",
        "read -s -p \"Password: \" password\n",
        "echo \"\"\n",
        "echo \"Opción: $option1-$option2, backupName: $backupName, password: $password\""
      ]
    },
    {
      "cell_type": "code",
      "execution_count": 5,
      "metadata": {},
      "outputs": [
        {
          "name": "stdout",
          "output_type": "stream",
          "text": [
            "Programa de utilidades\n",
            "Ingresar una opción: \n",
            "Ingresar un nombre: \n",
            "\n",
            "\n",
            "Opción: 1-2, backupName: back, password: 1234\n"
          ]
        }
      ],
      "source": [
        "!chmod +x scripts_bash/07_validar_informacion.sh && echo \"1back2\\n1234\" | ./scripts_bash/07_validar_informacion.sh"
      ]
    },
    {
      "attachments": {},
      "cell_type": "markdown",
      "metadata": {},
      "source": [
        "## If else"
      ]
    },
    {
      "attachments": {},
      "cell_type": "markdown",
      "metadata": {},
      "source": [
        "La manera de escribir condicionales `if`-`else` es:\n",
        "\n",
        "``` bash\n",
        "if [[condición]]; then\n",
        "    statement\n",
        "elif [[condicion]]; then\n",
        "    statement\n",
        "else\n",
        "    statement\n",
        "fi\n",
        "```\n",
        "\n",
        "Es importante recalcar que las condiciones tienen que estar entre dos corchetes `[[]]`"
      ]
    },
    {
      "cell_type": "code",
      "execution_count": 5,
      "metadata": {},
      "outputs": [
        {
          "name": "stdout",
          "output_type": "stream",
          "text": [
            "Overwriting scripts_bash/08_if_else.sh\n"
          ]
        }
      ],
      "source": [
        "%%writefile scripts_bash/08_if_else.sh\n",
        "#!/bin/bash\n",
        "\n",
        "if [[ 1 > 2 ]]; then\n",
        "    echo \"Verdadero\"\n",
        "elif [[ 1 > 3 ]]; then\n",
        "    echo \"Verdadero\"\n",
        "else\n",
        "    echo \"Falso\"\n",
        "fi"
      ]
    },
    {
      "cell_type": "code",
      "execution_count": 6,
      "metadata": {},
      "outputs": [
        {
          "name": "stdout",
          "output_type": "stream",
          "text": [
            "Falso\n"
          ]
        }
      ],
      "source": [
        "!chmod +x scripts_bash/08_if_else.sh && ./scripts_bash/08_if_else.sh"
      ]
    },
    {
      "attachments": {},
      "cell_type": "markdown",
      "metadata": {},
      "source": [
        "Veamos cómo se crean `if`s anidados"
      ]
    },
    {
      "cell_type": "code",
      "execution_count": 7,
      "metadata": {},
      "outputs": [
        {
          "name": "stdout",
          "output_type": "stream",
          "text": [
            "Overwriting scripts_bash/08_if_else.sh\n"
          ]
        }
      ],
      "source": [
        "%%writefile scripts_bash/08_if_else.sh\n",
        "#!/bin/bash\n",
        "\n",
        "if [[ 1 > 2 ]]; then\n",
        "    echo \"Verdadero\"\n",
        "elif [[ 1 > 3 ]]; then\n",
        "    echo \"Verdadero\"\n",
        "else\n",
        "    if [[ 1 > 4 ]]; then\n",
        "        echo \"Verdadero pero falso\"\n",
        "    else\n",
        "        echo \"Totalmente falso\"\n",
        "    fi\n",
        "fi"
      ]
    },
    {
      "cell_type": "code",
      "execution_count": 8,
      "metadata": {},
      "outputs": [
        {
          "name": "stdout",
          "output_type": "stream",
          "text": [
            "Totalmente falso\n"
          ]
        }
      ],
      "source": [
        "!chmod +x scripts_bash/08_if_else.sh && ./scripts_bash/08_if_else.sh"
      ]
    },
    {
      "attachments": {},
      "cell_type": "markdown",
      "metadata": {},
      "source": [
        "## Expresiones condicionales"
      ]
    },
    {
      "attachments": {},
      "cell_type": "markdown",
      "metadata": {},
      "source": [
        "Ya hemos visto cómo crear `if`s, pero es necesario explicar cómo crear las expresiones condicionales\n",
        "\n",
        "Si vamos a realizar comparaciones entre cadenas o strings\n",
        "\n",
        "   |operacion|comando|ejemplo|\n",
        "   |---------|-------|-------|\n",
        "   |mayor que|`>`|`[[ cadena1 > cadena2 ]]`|\n",
        "   |menor que|`<`|`[[ cadena1 < cadena2 ]]`|\n",
        "   |igual que|`==`|`[[ cadena1 == cadena2 ]]`|\n",
        "   |igual que|`=`|`[[ cadena1 = cadena2 ]]`|\n",
        "   |cadena vacía|`-z`|`[[ -z cadena ]]`|\n",
        "   |cadena no vacía|`-n`|`[[ -n cadena ]]`|\n",
        "   |cadena no vacía||`[[ cadena ]]`|\n",
        "    \n",
        "Si lo que vamos a hacer es realizar comparaciones entre números\n",
        "\n",
        "   |operacion|comando|ejemplo|\n",
        "   |---------|-------|-------|\n",
        "   |mayor que|`-gt`|`[[ numero1 -gt numero2 ]]`|\n",
        "   |mayor o igual que|`-ge`|`[[ numero1 -ge numero2 ]]`|\n",
        "   |menor que|`-lt`|`[[ numero1 -lt numero2 ]]`|\n",
        "   |menor o igual que|`-le`|`[[ numero1 -le numero2 ]]`|\n",
        "   |igual que|`-eq`|`[[ numero1 -eq numero2 ]]`|\n",
        "   |distinto que|`-ne`|`[[ numero1 -ne numero2 ]]`|\n",
        "\n",
        "Si queremos comprobar archivos o directorios\n",
        "\n",
        "   |operacion|comando|ejemplo|\n",
        "   |---------|-------|-------|\n",
        "   |es un directorio?|`-d`|`[[ -d <dir> ]]`|\n",
        "   |es un archivo?|`-f`|`[[ -f <file> ]]`|\n",
        "   |existe?|`-e`|`[[ -e <file> ]]` o `[[ -e <dir> ]]`|\n",
        "   |es legible?|`-r`|`[[ -r <file> ]]`|\n",
        "   |es escribible?|`-w`|`[[ -w <file> ]]`|\n",
        "   |es ejecutable?|`-x`|`[[ -x <file> ]]`|\n",
        "   |es un link?|`-L`|`[[ -L <file> ]]`|\n",
        "   |es tiene contenido?|`-s`|`[[ -s <file> ]]`|\n",
        "   |es propiedad del usuario?|`-O`|`[[ -O <file> ]]`|\n",
        "   |es propiedad del grupo?|`-G`|`[[ -G <file> ]]`|\n",
        "   |fue modificado?|`-N`|`[[ -N <file> ]]`|\n",
        "   |file1 es más nuevo que file2?|`-nt`|`[[ <file1> -nt <file2> ]]`|\n",
        "   |file1 es más viejo que file2?|`-ot`|`[[ <file1> -ot <file2> ]]`|\n",
        "   |file1 es el mismo archivo que file2?|`-ef`|`[[ <file1> -ef <file2> ]]`|\n",
        "   |file1 es el mismo archivo que file2?|`-ef`|`[[ <file1> -ef <file2> ]]`|\n",
        "\n",
        "Si queremos comparar condiciones conjuntas con `and`, `or` y `not`\n",
        "\n",
        "   |operacion|comando|ejemplo|\n",
        "   |---------|-------|-------|\n",
        "   |and|`&&`|`[[ <condicion1> && <condicion2> ]]`|\n",
        "   |or|`||`|`[[ <condicion1> || <condicion2> ]]`|\n",
        "\n",
        "Si queremos negar las condiciones\n",
        "\n",
        "   |operacion|comando|ejemplo|\n",
        "   |---------|-------|-------|\n",
        "   |not|`!`|`[[ ! <condicion> ]]`|"
      ]
    },
    {
      "cell_type": "code",
      "execution_count": 51,
      "metadata": {},
      "outputs": [
        {
          "name": "stdout",
          "output_type": "stream",
          "text": [
            "Overwriting scripts_bash/09_condicionales.sh\n"
          ]
        }
      ],
      "source": [
        "%%writefile scripts_bash/09_condicionales.sh\n",
        "#!/bin/bash\n",
        "\n",
        "echo \"Comparando strings\"\n",
        "string1=\"hola\"\n",
        "string2=\"hola\"\n",
        "string3=\"chao\"\n",
        "string4=\"\"\n",
        "if [[ $string1 > $string3 ]]; then\n",
        "    echo \"$string1 es mayor que $string3\"\n",
        "fi\n",
        "if [[ $string3 < $string1 ]]; then\n",
        "    echo \"$string3 es menor que $string1\"\n",
        "fi\n",
        "if [[ $string1 == $string2 ]]; then\n",
        "    echo \"$string1 es igual que $string2\"\n",
        "fi\n",
        "if [[ $string1 != $string3 ]]; then\n",
        "    echo \"$string1 es diferente que $string3\"\n",
        "fi\n",
        "if [[ -z $string4 ]]; then\n",
        "    echo \"$string4 es una cadena vacía\"\n",
        "fi\n",
        "if [[ -n $string3 ]]; then\n",
        "    echo \"$string3 es una cadena no vacía\"\n",
        "fi\n",
        "if [[ $string3 ]]; then\n",
        "    echo \"$string3 es una cadena no vacía\"\n",
        "fi\n",
        "\n",
        "echo -e \"\\nComparando números\"\n",
        "number1=10\n",
        "number2=10\n",
        "number3=20\n",
        "if [[ $number3 -gt $number1 ]]; then\n",
        "    echo \"$number3 es mayor que $number1\"\n",
        "fi\n",
        "if [[ $number3 -ge $number2 ]]; then\n",
        "    echo \"$number3 es mayor o igual que $number2\"\n",
        "fi\n",
        "if [[ $number1 -lt $number3 ]]; then\n",
        "    echo \"$number1 es menor que $number3\"\n",
        "fi\n",
        "if [[ $number1 -le $number2 ]]; then\n",
        "    echo \"$number1 es menor o igual que $number2\"\n",
        "fi\n",
        "if [[ $number1 -eq $number2 ]]; then\n",
        "    echo \"$number1 es igual que $number2\"\n",
        "fi\n",
        "if [[ $number1 -ne $number3 ]]; then\n",
        "    echo \"$number1 es diferente que $number3\"\n",
        "fi\n",
        "\n",
        "echo -e \"\\nComparando archivos\"\n",
        "file1=\"$PWD/2021-02-11-Introduccion-a-Python.ipynb\"\n",
        "file2=\"$PWD/scripts_bash\"\n",
        "file3=\"$PWD/mi_paquete_de_python\"\n",
        "if [[ -d $file2 ]]; then\n",
        "    echo \"$file2 es un directorio\"\n",
        "fi\n",
        "if [[ -f $file1 ]]; then\n",
        "    echo \"$file1 es un archivo\"\n",
        "fi\n",
        "if [[ -e $file1 ]]; then\n",
        "    echo \"$file1 existe\"\n",
        "fi\n",
        "if [[ -r $file1 ]]; then\n",
        "    echo \"$file1 es legible\"\n",
        "fi\n",
        "if [[ -w $file1 ]]; then\n",
        "    echo \"$file1 es escribible\"\n",
        "fi\n",
        "if [[ -x $file1 ]]; then\n",
        "    echo \"$file1 es ejecutable\"\n",
        "fi\n",
        "if [[ -L $file1 ]]; then\n",
        "    echo \"$file1 es un link\"\n",
        "fi\n",
        "if [[ -s $file1 ]]; then\n",
        "    echo \"$file1 tiene contenido\"\n",
        "fi\n",
        "if [[ -O $file1 ]]; then\n",
        "    echo \"$file1 es propiedad del usuario\"\n",
        "fi\n",
        "if [[ -G $file1 ]]; then\n",
        "    echo \"$file1 es propiedad del grupo\"\n",
        "fi\n",
        "if [[ -N $file1 ]]; then\n",
        "    echo \"$file1 fue modificado\"\n",
        "fi\n",
        "if [[ $file1 -nt $file2 ]]; then\n",
        "    echo \"$file1 es más nuevo que $file2\"\n",
        "fi\n",
        "if [[ $file1 -ot $file2 ]]; then\n",
        "    echo \"$file1 es más viejo que $file2\"\n",
        "fi\n",
        "if [[ $file1 -ef $file1 ]]; then\n",
        "    echo \"$file1 es el mismo archivo que $file2\"\n",
        "fi\n",
        "\n",
        "echo -e \"\\nComparando expresiones con AND\"\n",
        "if [[ 2 > 1 && 3 > 1 ]]; then\n",
        "    echo \"2 > 1 y 3 > 1\"\n",
        "fi\n",
        "\n",
        "echo -e \"\\nComparando expresiones con OR\"\n",
        "if [[ 2 > 1 || 1 > 2 ]]; then\n",
        "    echo \"2 > 1 o 1 > 2\"\n",
        "fi\n",
        "\n",
        "echo -e \"\\nComparando expresiones con NOT\"\n",
        "if [[ ! 1 > 2 ]]; then\n",
        "    echo \"1 > 2 no es cierto\"\n",
        "fi\n"
      ]
    },
    {
      "cell_type": "code",
      "execution_count": 52,
      "metadata": {},
      "outputs": [
        {
          "name": "stdout",
          "output_type": "stream",
          "text": [
            "Comparando strings\n",
            "hola es mayor que chao\n",
            "chao es menor que hola\n",
            "hola es igual que hola\n",
            "hola es diferente que chao\n",
            " es una cadena vacía\n",
            "chao es una cadena no vacía\n",
            "chao es una cadena no vacía\n",
            "\n",
            "Comparando números\n",
            "20 es mayor que 10\n",
            "20 es mayor o igual que 10\n",
            "10 es menor que 20\n",
            "10 es menor o igual que 10\n",
            "10 es igual que 10\n",
            "10 es diferente que 20\n",
            "\n",
            "Comparando archivos\n",
            "/home/wallabot/Documentos/web/portafolio/posts/scripts_bash es un directorio\n",
            "/home/wallabot/Documentos/web/portafolio/posts/2021-02-11-Introduccion-a-Python.ipynb es un archivo\n",
            "/home/wallabot/Documentos/web/portafolio/posts/2021-02-11-Introduccion-a-Python.ipynb existe\n",
            "/home/wallabot/Documentos/web/portafolio/posts/2021-02-11-Introduccion-a-Python.ipynb es legible\n",
            "/home/wallabot/Documentos/web/portafolio/posts/2021-02-11-Introduccion-a-Python.ipynb es escribible\n",
            "/home/wallabot/Documentos/web/portafolio/posts/2021-02-11-Introduccion-a-Python.ipynb tiene contenido\n",
            "/home/wallabot/Documentos/web/portafolio/posts/2021-02-11-Introduccion-a-Python.ipynb es propiedad del usuario\n",
            "/home/wallabot/Documentos/web/portafolio/posts/2021-02-11-Introduccion-a-Python.ipynb es propiedad del grupo\n",
            "/home/wallabot/Documentos/web/portafolio/posts/2021-02-11-Introduccion-a-Python.ipynb es más viejo que /home/wallabot/Documentos/web/portafolio/posts/scripts_bash\n",
            "/home/wallabot/Documentos/web/portafolio/posts/2021-02-11-Introduccion-a-Python.ipynb es el mismo archivo que /home/wallabot/Documentos/web/portafolio/posts/scripts_bash\n",
            "\n",
            "Comparando expresiones con AND\n",
            "2 > 1 y 3 > 1\n",
            "\n",
            "Comparando expresiones con OR\n",
            "2 > 1 o 1 > 2\n",
            "\n",
            "Comparando expresiones con NOT\n",
            "1 > 2 no es cierto\n"
          ]
        }
      ],
      "source": [
        "!chmod +x scripts_bash/09_condicionales.sh && ./scripts_bash/09_condicionales.sh"
      ]
    },
    {
      "attachments": {},
      "cell_type": "markdown",
      "metadata": {},
      "source": [
        "## Sentencia `case`"
      ]
    },
    {
      "attachments": {},
      "cell_type": "markdown",
      "metadata": {},
      "source": [
        "A continuación vamos a ver cómo se escribe el típico `switch-case`, pero en este caso solo se usa `case`\n",
        "\n",
        "``` bash\n",
        "case $variable in\n",
        "    <valor1>) <sentencia1>;;\n",
        "    <valor2>) <sentencia2>;;\n",
        "    <valor3>) <sentencia3>;;\n",
        "    ...\n",
        "    *) <sentencia que no cumple ninguna de las anteriores>\n",
        "esac\n",
        "```"
      ]
    },
    {
      "cell_type": "code",
      "execution_count": 53,
      "metadata": {},
      "outputs": [
        {
          "name": "stdout",
          "output_type": "stream",
          "text": [
            "Writing scripts_bash/10_case.sh\n"
          ]
        }
      ],
      "source": [
        "%%writefile scripts_bash/10_case.sh\n",
        "#!/bin/bash\n",
        "\n",
        "variable=\"amarillo\"\n",
        "\n",
        "case $variable in\n",
        "    \"rojo\") echo \"Color rojo\";;\n",
        "    \"verde\") echo \"Color verde\";;\n",
        "    \"azul\") echo \"Color azul\";;\n",
        "    *) echo \"Color desconocido\";;\n",
        "esac"
      ]
    },
    {
      "cell_type": "code",
      "execution_count": 54,
      "metadata": {},
      "outputs": [
        {
          "name": "stdout",
          "output_type": "stream",
          "text": [
            "Color desconocido\n"
          ]
        }
      ],
      "source": [
        "!chmod +x scripts_bash/10_case.sh && ./scripts_bash/10_case.sh"
      ]
    },
    {
      "attachments": {},
      "cell_type": "markdown",
      "metadata": {},
      "source": [
        "## Arrays"
      ]
    },
    {
      "attachments": {},
      "cell_type": "markdown",
      "metadata": {},
      "source": [
        "Vamos a ver cómo se comportan los arrays en bash scripting"
      ]
    },
    {
      "cell_type": "code",
      "execution_count": 5,
      "metadata": {},
      "outputs": [
        {
          "name": "stdout",
          "output_type": "stream",
          "text": [
            "Overwriting scripts_bash/11_arrays.sh\n"
          ]
        }
      ],
      "source": [
        "%%writefile scripts_bash/11_arrays.sh\n",
        "#!/bin/bash\n",
        "\n",
        "arrayNumeros=(1 2 3 4 5)\n",
        "arrayStrings=(\"hola\" \"chao\" \"adios\")\n",
        "arrayMixto=(1 \"hola\" 2 \"chao\" 3 \"adios\")\n",
        "arrayVacio=()\n",
        "arrayRango=({A..Z})\n",
        "\n",
        "echo \"Arrays\"\n",
        "echo \"Array de números: ${arrayNumeros[*]}\"\n",
        "echo \"Array de strings: ${arrayStrings[*]}\"\n",
        "echo \"Array mixto: ${arrayMixto[*]}\"\n",
        "echo \"Array vacío: ${arrayVacio[*]}\"\n",
        "echo \"Array de rango: ${arrayRango[*]}\"\n",
        "\n",
        "echo -e \"\\nAccediendo a elementos\"\n",
        "echo \"Primer elemento del array de números: ${arrayNumeros[0]}\"\n",
        "echo \"Segundo elemento del array de strings: ${arrayStrings[1]}\"\n",
        "echo \"Último elemento del array de números: ${arrayNumeros[-1]}\"\n",
        "echo \"Penúltimo elemento del array de strings: ${arrayStrings[-2]}\"\n",
        "\n",
        "echo -e \"\\nLongitud de arrays\"\n",
        "echo \"Longitud del array de números: ${#arrayNumeros[*]}\"\n",
        "echo \"Longitud del array de strings: ${#arrayStrings[*]}\"\n",
        "echo \"Longitud del array mixto: ${#arrayMixto[*]}\"\n",
        "echo \"Longitud del array vacío: ${#arrayVacio[*]}\"\n",
        "echo \"Longitud del array de rango: ${#arrayRango[*]}\"\n",
        "\n",
        "echo -e \"\\nAñadiendo y eliminando elementos\"\n",
        "arrayNumeros[5]=6\n",
        "echo \"Añadiendo elemento al array de números: ${arrayNumeros[*]}\"\n",
        "unset arrayStrings[1]\n",
        "echo \"Eliminando elemento del array de strings: ${arrayStrings[*]}\""
      ]
    },
    {
      "cell_type": "code",
      "execution_count": 6,
      "metadata": {},
      "outputs": [
        {
          "name": "stdout",
          "output_type": "stream",
          "text": [
            "Arrays\n",
            "Array de números: 1 2 3 4 5\n",
            "Array de strings: hola chao adios\n",
            "Array mixto: 1 hola 2 chao 3 adios\n",
            "Array vacío: \n",
            "Array de rango: A B C D E F G H I J K L M N O P Q R S T U V W X Y Z\n",
            "\n",
            "Accediendo a elementos\n",
            "Primer elemento del array de números: 1\n",
            "Segundo elemento del array de strings: chao\n",
            "Último elemento del array de números: 5\n",
            "Penúltimo elemento del array de strings: chao\n",
            "\n",
            "Longitud de arrays\n",
            "Longitud del array de números: 5\n",
            "Longitud del array de strings: 3\n",
            "Longitud del array mixto: 6\n",
            "Longitud del array vacío: 0\n",
            "Longitud del array de rango: 26\n",
            "\n",
            "Añadiendo y eliminando elementos\n",
            "Añadiendo elemento al array de números: 1 2 3 4 5 6\n",
            "Eliminando elemento del array de strings: hola adios\n"
          ]
        }
      ],
      "source": [
        "!chmod +x scripts_bash/11_arrays.sh && ./scripts_bash/11_arrays.sh"
      ]
    },
    {
      "attachments": {},
      "cell_type": "markdown",
      "metadata": {},
      "source": [
        "## Bucle `for`"
      ]
    },
    {
      "attachments": {},
      "cell_type": "markdown",
      "metadata": {},
      "source": [
        "Para utilizar el bucle `for` hay que usar la siguiente sintaxis\n",
        "\n",
        "``` bash\n",
        "for <variable> in <array>\n",
        "do\n",
        "    sentencia\n",
        "done\n",
        "```\n",
        "\n",
        "Vamos a ver un ejemplo"
      ]
    },
    {
      "cell_type": "code",
      "execution_count": 5,
      "metadata": {},
      "outputs": [
        {
          "name": "stdout",
          "output_type": "stream",
          "text": [
            "Overwriting scripts_bash/12_for.sh\n"
          ]
        }
      ],
      "source": [
        "%%writefile scripts_bash/12_for.sh\n",
        "#!/bin/bash\n",
        "\n",
        "arrayNumeros=(1 2 3 4 5)\n",
        "arrayStrings=(\"hola\" \"chao\" \"adios\")\n",
        "\n",
        "echo \"Iterar a través de un array de numeros\"\n",
        "for numero in ${arrayNumeros[*]}\n",
        "do\n",
        "    echo \"Número: $numero\"\n",
        "done\n",
        "\n",
        "echo -e \"\\nIterar a través de un array de strings\"\n",
        "for string in ${arrayStrings[*]}\n",
        "do\n",
        "    echo \"String: $string\"\n",
        "done\n",
        "\n",
        "echo -e \"\\nIterar a través de un array no declarado\"\n",
        "for string in \"Manolo\" \"Juan\" \"Pedro\"\n",
        "do\n",
        "    echo \"String: $string\"\n",
        "done\n",
        "\n",
        "echo -e \"\\nIterar a través de un rango\"\n",
        "for i in {1..10}\n",
        "do\n",
        "    echo \"Número: $i\"\n",
        "done\n",
        "\n",
        "echo -e \"\\nIterar a través de un rango de manera clásica\"\n",
        "for (( i=1; i<=10; i++ ))\n",
        "do\n",
        "    echo \"Número: $i\"\n",
        "done\n",
        "\n",
        "echo -e \"\\nIterar a través de un comando\"\n",
        "for file in $(ls)\n",
        "do\n",
        "    echo \"Archivo: $file\"\n",
        "done\n",
        "\n",
        "echo -e \"\\nIterar a través de un directorio\"\n",
        "for file in *\n",
        "do\n",
        "    echo \"Archivo: $file\"\n",
        "done"
      ]
    },
    {
      "cell_type": "code",
      "execution_count": 4,
      "metadata": {},
      "outputs": [
        {
          "name": "stdout",
          "output_type": "stream",
          "text": [
            "Iterar a través de un array de numeros\n",
            "Número: 1\n",
            "Número: 2\n",
            "Número: 3\n",
            "Número: 4\n",
            "Número: 5\n",
            "\n",
            "Iterar a través de un array de strings\n",
            "String: hola\n",
            "String: chao\n",
            "String: adios\n",
            "\n",
            "Iterar a través de un array no declarado\n",
            "String: Manolo\n",
            "String: Juan\n",
            "String: Pedro\n",
            "\n",
            "Iterar a través de un rango\n",
            "Número: 1\n",
            "Número: 2\n",
            "Número: 3\n",
            "Número: 4\n",
            "Número: 5\n",
            "Número: 6\n",
            "Número: 7\n",
            "Número: 8\n",
            "Número: 9\n",
            "Número: 10\n",
            "\n",
            "Iterar a través de un rango de manera clásica\n",
            "Número: 1\n",
            "Número: 2\n",
            "Número: 3\n",
            "Número: 4\n",
            "Número: 5\n",
            "Número: 6\n",
            "Número: 7\n",
            "Número: 8\n",
            "Número: 9\n",
            "Número: 10\n",
            "\n",
            "Iterar a través de un comando\n",
            "Archivo: 2021-02-11-Introduccion-a-Python.ipynb\n",
            "Archivo: 2021-04-23-Calculo-matricial-con-Numpy.ipynb\n",
            "Archivo: 2021-06-15-Manejo-de-datos-con-Pandas.ipynb\n",
            "Archivo: 2022-09-12-Introduccion-a-la-terminal.ipynb\n",
            "Archivo: 2023-01-22-Docker.ipynb\n",
            "Archivo: 2023-XX-XX-Bash-scripting.ipynb\n",
            "Archivo: california_housing_train.csv\n",
            "Archivo: command-line-cheat-sheet.pdf\n",
            "Archivo: CSS.ipynb\n",
            "Archivo: Expresiones\n",
            "Archivo: regulares.ipynb\n",
            "Archivo: html_files\n",
            "Archivo: html.ipynb\n",
            "Archivo: introduccion_python\n",
            "Archivo: mi_paquete_de_python\n",
            "Archivo: movies.csv\n",
            "Archivo: movies.dat\n",
            "Archivo: notebooks_translated\n",
            "Archivo: __pycache__\n",
            "Archivo: scripts_bash\n",
            "Archivo: ssh.ipynb\n",
            "Archivo: test.ipynb\n",
            "\n",
            "Iterar a través de un directorio\n",
            "Archivo: 2021-02-11-Introduccion-a-Python.ipynb\n",
            "Archivo: 2021-04-23-Calculo-matricial-con-Numpy.ipynb\n",
            "Archivo: 2021-06-15-Manejo-de-datos-con-Pandas.ipynb\n",
            "Archivo: 2022-09-12-Introduccion-a-la-terminal.ipynb\n",
            "Archivo: 2023-01-22-Docker.ipynb\n",
            "Archivo: 2023-XX-XX-Bash-scripting.ipynb\n",
            "Archivo: california_housing_train.csv\n",
            "Archivo: command-line-cheat-sheet.pdf\n",
            "Archivo: CSS.ipynb\n",
            "Archivo: Expresiones regulares.ipynb\n",
            "Archivo: html_files\n",
            "Archivo: html.ipynb\n",
            "Archivo: introduccion_python\n",
            "Archivo: mi_paquete_de_python\n",
            "Archivo: movies.csv\n",
            "Archivo: movies.dat\n",
            "Archivo: notebooks_translated\n",
            "Archivo: __pycache__\n",
            "Archivo: scripts_bash\n",
            "Archivo: ssh.ipynb\n",
            "Archivo: test.ipynb\n"
          ]
        }
      ],
      "source": [
        "!chmod +x scripts_bash/12_for.sh && ./scripts_bash/12_for.sh"
      ]
    },
    {
      "attachments": {},
      "cell_type": "markdown",
      "metadata": {},
      "source": [
        "## Bucle `while`"
      ]
    },
    {
      "attachments": {},
      "cell_type": "markdown",
      "metadata": {},
      "source": [
        "Para utilizar el bucle `while` hay que usar la siguiente sintaxis\n",
        "\n",
        "``` bash\n",
        "while <condicion>\n",
        "do\n",
        "    sentencia\n",
        "done\n",
        "```\n",
        "\n",
        "Vamos a ver un ejemplo"
      ]
    },
    {
      "cell_type": "code",
      "execution_count": 14,
      "metadata": {},
      "outputs": [
        {
          "name": "stdout",
          "output_type": "stream",
          "text": [
            "Overwriting scripts_bash/13_while.sh\n"
          ]
        }
      ],
      "source": [
        "%%writefile scripts_bash/13_while.sh\n",
        "#!/bin/bash\n",
        "\n",
        "numero=1\n",
        "while [ $numero -ne 5 ]\n",
        "do\n",
        "    echo \"Número: $numero\"\n",
        "    numero=$(( numero + 1 ))\n",
        "done"
      ]
    },
    {
      "cell_type": "code",
      "execution_count": 15,
      "metadata": {},
      "outputs": [
        {
          "name": "stdout",
          "output_type": "stream",
          "text": [
            "Número: 1\n",
            "Número: 2\n",
            "Número: 3\n",
            "Número: 4\n"
          ]
        }
      ],
      "source": [
        "!chmod +x scripts_bash/13_while.sh && ./scripts_bash/13_while.sh"
      ]
    },
    {
      "attachments": {},
      "cell_type": "markdown",
      "metadata": {},
      "source": [
        "## Control de flujo con `break` y `continue`"
      ]
    },
    {
      "attachments": {},
      "cell_type": "markdown",
      "metadata": {},
      "source": [
        "Podemos controlar el flujo de un bucle mediante las palabras `break` y `continue`, veamos un ejemplo"
      ]
    },
    {
      "cell_type": "code",
      "execution_count": 18,
      "metadata": {},
      "outputs": [
        {
          "name": "stdout",
          "output_type": "stream",
          "text": [
            "Overwriting scripts_bash/14_control_de_flujo.sh\n"
          ]
        }
      ],
      "source": [
        "%%writefile scripts_bash/14_control_de_flujo.sh\n",
        "#!/bin/bash\n",
        "\n",
        "numero=1\n",
        "while [ $numero -ne 10 ]\n",
        "do\n",
        "    if [ $numero -eq 5 ]; then\n",
        "        numero=$(( numero + 1 ))\n",
        "        echo \"Saltando el número 5\"\n",
        "        continue\n",
        "    elif\n",
        "        [ $numero -eq 8 ]; then\n",
        "        echo \"Terminando el bucle\"\n",
        "        break\n",
        "    fi \n",
        "    echo \"Número: $numero\"\n",
        "    numero=$(( numero + 1 ))\n",
        "done"
      ]
    },
    {
      "cell_type": "code",
      "execution_count": 19,
      "metadata": {},
      "outputs": [
        {
          "name": "stdout",
          "output_type": "stream",
          "text": [
            "Número: 1\n",
            "Número: 2\n",
            "Número: 3\n",
            "Número: 4\n",
            "Saltando el número 5\n",
            "Número: 6\n",
            "Número: 7\n",
            "Terminando el bucle\n"
          ]
        }
      ],
      "source": [
        "!chmod +x scripts_bash/14_control_de_flujo.sh && ./scripts_bash/14_control_de_flujo.sh"
      ]
    },
    {
      "attachments": {},
      "cell_type": "markdown",
      "metadata": {},
      "source": [
        "## Funciones"
      ]
    },
    {
      "attachments": {},
      "cell_type": "markdown",
      "metadata": {},
      "source": [
        "La sintaxis para escribir funciones es\n",
        "\n",
        "``` bash\n",
        "<nombre de funcion> (){\n",
        "    sentencias\n",
        "}\n",
        "```\n",
        "\n",
        "Veamos un ejemplo"
      ]
    },
    {
      "cell_type": "code",
      "execution_count": 20,
      "metadata": {},
      "outputs": [
        {
          "name": "stdout",
          "output_type": "stream",
          "text": [
            "Writing scripts_bash/15_funciones.sh\n"
          ]
        }
      ],
      "source": [
        "%%writefile scripts_bash/15_funciones.sh\n",
        "#!/bin/bash\n",
        "\n",
        "funcion () {\n",
        "    echo \"Soy una función\"\n",
        "}\n",
        "\n",
        "funcoionConParametros () {\n",
        "    echo \"Soy una función con parámetros\"\n",
        "    echo \"Parámetro 1: $1\"\n",
        "    echo \"Parámetro 2: $2\"\n",
        "}\n",
        "\n",
        "funcion\n",
        "funcoionConParametros \"Hola\" \"Adiós\""
      ]
    },
    {
      "cell_type": "code",
      "execution_count": 21,
      "metadata": {},
      "outputs": [
        {
          "name": "stdout",
          "output_type": "stream",
          "text": [
            "Soy una función\n",
            "Soy una función con parámetros\n",
            "Parámetro 1: Hola\n",
            "Parámetro 2: Adiós\n"
          ]
        }
      ],
      "source": [
        "!chmod +x scripts_bash/15_funciones.sh && ./scripts_bash/15_funciones.sh"
      ]
    }
  ],
  "metadata": {
    "kernelspec": {
      "display_name": "base",
      "language": "python",
      "name": "python3"
    },
    "language_info": {
      "codemirror_mode": {
        "name": "ipython",
        "version": 3
      },
      "file_extension": ".py",
      "mimetype": "text/x-python",
      "name": "python",
      "nbconvert_exporter": "python",
      "pygments_lexer": "ipython3",
      "version": "3.7.6"
    },
    "maximofn": {
      "date": "2023-02-01",
      "description_en": "Feel like an old school programmer 🐧 with this post about bash scripting.",
      "description_es": "Siéntete un programador de la old school 🐧 con este post sobre bash scripting",
      "description_pt": "PSinta-se como um programador da velha guarda 🐧 com esta postagem sobre scripts bash",
      "end_url": "bash-scripting",
      "image": "https://pub-fb664c455eca46a2ba762a065ac900f7.r2.dev/bash-scripting.webp",
      "image_hover_path": "https://pub-fb664c455eca46a2ba762a065ac900f7.r2.dev/bash-scripting.webp",
      "keywords_en": "bash, scripting, linux, old school, terminal",
      "keywords_es": "bash, scripting, linux, old school, terminal",
      "keywords_pt": "bash, scripting, linux, old school, terminal",
      "title_en": "Bash scripting",
      "title_es": "Bash scripting",
      "title_pt": "Bash scripting"
    },
    "orig_nbformat": 4,
    "vscode": {
      "interpreter": {
        "hash": "d5745ab6aba164e1152437c779991855725055592b9f2bdb41a4825db7168d26"
      }
    }
  },
  "nbformat": 4,
  "nbformat_minor": 2
}
