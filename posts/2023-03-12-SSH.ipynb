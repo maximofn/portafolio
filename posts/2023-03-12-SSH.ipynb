{
 "cells": [
  {
   "attachments": {},
   "cell_type": "markdown",
   "metadata": {},
   "source": [
    "# SSH"
   ]
  },
  {
   "attachments": {},
   "cell_type": "markdown",
   "metadata": {},
   "source": [
    "## Introducción histórica"
   ]
  },
  {
   "attachments": {},
   "cell_type": "markdown",
   "metadata": {},
   "source": [
    "En los primeros días de internet se creo el protocolo `telnet` para poder comunicar varios ordenadores, pero tenía el problema de que no estaba cifrado, por lo que cualquiera que se metiera en medio podía leer la comunicación sin problema, por eso se creó `SSH` (Secure Shell)"
   ]
  },
  {
   "attachments": {},
   "cell_type": "markdown",
   "metadata": {},
   "source": [
    "## Cifrado de `SSH`"
   ]
  },
  {
   "attachments": {},
   "cell_type": "markdown",
   "metadata": {},
   "source": [
    "El sistema de cifrado de `SSH` funciona mediante el sistema de clave pública y clave privada, de manera que si se encripta la comunicación con una de las dos, solo puede ser descifrada por la otra\n",
    "\n",
    "¿Y por qué hay una clave pública y una clave privada? La clave pública es la que le das a todo el mundo y la clave privada es la que solo tienes que poseer tú.\n",
    "\n",
    "De manera que si te quieres comunicar con otro equipo por `SSH`, primero le das tu clave pública, a continuación encriptas el mensaje con tu clave privada y solo se puede desencriptar el mensaje con la clave pública que le has dado al otro equipo\n",
    "\n",
    "De la misma manera ocurre a la inversa, si el otro equipo te quiere mandar un mensaje, lo encripta con tu clave pública y solo se puede desencriptar con la clave privada que solo tú posees"
   ]
  },
  {
   "attachments": {},
   "cell_type": "markdown",
   "metadata": {},
   "source": [
    "## Requerimentos `SSH`"
   ]
  },
  {
   "attachments": {},
   "cell_type": "markdown",
   "metadata": {},
   "source": [
    "### Servicio `SSH`"
   ]
  },
  {
   "attachments": {},
   "cell_type": "markdown",
   "metadata": {},
   "source": [
    "Para poder usar `SSH` necesitas tener un servicio de `SSH`. En `Linux` normalmete ya viene instalado, pero si no es así lo puedes instalar mediante"
   ]
  },
  {
   "attachments": {},
   "cell_type": "markdown",
   "metadata": {},
   "source": [
    "``` bash\n",
    "apt install openssh-server\n",
    "```"
   ]
  },
  {
   "attachments": {},
   "cell_type": "markdown",
   "metadata": {},
   "source": [
    "Durante el proceso de instalación te pedirá tu ubicación para ajustar el time zone"
   ]
  },
  {
   "attachments": {},
   "cell_type": "markdown",
   "metadata": {},
   "source": [
    "A continuación levantamos el servicio"
   ]
  },
  {
   "attachments": {},
   "cell_type": "markdown",
   "metadata": {},
   "source": [
    "``` bash\n",
    "systemctl enable ssh\n",
    "```"
   ]
  },
  {
   "attachments": {},
   "cell_type": "markdown",
   "metadata": {},
   "source": [
    "### Cliente `SSH`"
   ]
  },
  {
   "attachments": {},
   "cell_type": "markdown",
   "metadata": {},
   "source": [
    "Una vez tienes el servicio necesitas un cliente, aunque en `Linux` suele venir instalado, pero si no es así lo puedes instalar mediante"
   ]
  },
  {
   "attachments": {},
   "cell_type": "markdown",
   "metadata": {},
   "source": [
    "``` bash\n",
    "apt install openssh-client\n",
    "```"
   ]
  },
  {
   "attachments": {},
   "cell_type": "markdown",
   "metadata": {},
   "source": [
    "## Conexión por `SSH`"
   ]
  },
  {
   "attachments": {},
   "cell_type": "markdown",
   "metadata": {},
   "source": [
    "Para conectarte por `SSH` necesitas introducir el comando `ssh <user>@<ip>`"
   ]
  },
  {
   "attachments": {},
   "cell_type": "markdown",
   "metadata": {},
   "source": [
    "``` bash\n",
    "ssh root@172.17.0.1\n",
    "The authenticity of host '172.17.0.1 (172.17.0.1)' can't be established.\n",
    "ECDSA key fingerprint is SHA256:M+qsqSC4HiYztm1ij8iDkh9KHJz+pxrTm9GTZIf2N9k.\n",
    "Are you sure you want to continue connecting (yes/no/[fingerprint])?\n",
    "```"
   ]
  },
  {
   "attachments": {},
   "cell_type": "markdown",
   "metadata": {},
   "source": [
    "Como puedes ver, la primera vez te pregunta si quieres guardar el `fingerprint`, esto es para que si la próxima vez que te conectes a la misma máquina (a la misma clave pública) si ha cambiado el `fingerprint` debes tener cuidado porque puede haber algo peligroso, como que hagan pasarse por esa máquina.\n",
    "\n",
    "Si nos fiamos introducimos `yes`"
   ]
  },
  {
   "attachments": {},
   "cell_type": "markdown",
   "metadata": {},
   "source": [
    "``` bash\n",
    "ssh root@172.17.0.1\n",
    "The authenticity of host '172.17.0.1 (172.17.0.1)' can't be established.\n",
    "ECDSA key fingerprint is SHA256:M+qsqSC4HiYztm1ij8iDkh9KHJz+pxrTm9GTZIf2N9k.\n",
    "Are you sure you want to continue connecting (yes/no/[fingerprint])? yes\n",
    "Warning: Permanently added '172.17.0.1' (ECDSA) to the list of known hosts.\n",
    "root@172.17.0.1's password:\n",
    "```"
   ]
  },
  {
   "attachments": {},
   "cell_type": "markdown",
   "metadata": {},
   "source": [
    "A continuación, la máquina a la que nos conectamos nos pide la contraseña, la introducimos y ya estaremos dentro de la máquina"
   ]
  },
  {
   "attachments": {},
   "cell_type": "markdown",
   "metadata": {},
   "source": [
    "``` bashi\n",
    "ssh root@172.17.0.1\n",
    "The authenticity pirata of host '172.17.0.1 (172.17.0.1)' can't be established.\n",
    "ECDSA key fingerprint is SHA256:M+qsqSC4HiYztm1ij8iDkh9KHJz+pxrTm9GTZIf2N9k.\n",
    "Are you sure you want to continue connecting (yes/no/[fingerprint])? yes\n",
    "Warning: Permanently added '172.17.0.1' (ECDSA) to the list of known hosts.\n",
    "root@172.17.0.1's password: \n",
    "Welcome to Ubuntu 20.04.5 LTS (GNU/Linux 5.15.0-58-generic x86_64)\n",
    "\n",
    " * Documentation:  https://help.ubuntu.com\n",
    " * Management:     https://landscape.canonical.com\n",
    " * Support:        https://ubuntu.com/advantage\n",
    "\n",
    "1 device has a firmware upgrade available.\n",
    "Run `fwupdmgr get-upgrades` for more information.\n",
    "\n",
    "\n",
    " * Introducing Expanded Security Maintenance for Applications.\n",
    "   Receive updates to over 25,000 software packages with your\n",
    "   Ubuntu Pro subscription. Free for personal use.\n",
    "\n",
    "     https://ubuntu.com/pro\n",
    "\n",
    "Se pueden aplicar 0 actualizaciones de forma inmediata.\n",
    "\n",
    "Your Hardware Enablement Stack (HWE) is supported until April 2025.\n",
    "Last login: Thu Dec  1 16:32:23 2022 from 127.0.0.1\n",
    "root@172.17.0.1:~$\n",
    "```"
   ]
  },
  {
   "attachments": {},
   "cell_type": "markdown",
   "metadata": {},
   "source": [
    "## Conexión sin necesidad de contraseña"
   ]
  },
  {
   "attachments": {},
   "cell_type": "markdown",
   "metadata": {},
   "source": [
    "Como hemos visto cuando nos conectamos nos pide la contraseña de la máquina de destino, pero si es una máquina a la que nos vamos a conectar mucho podemos hacer que no nos pida la contraseña cada vez que nos queramos conectar"
   ]
  },
  {
   "attachments": {},
   "cell_type": "markdown",
   "metadata": {},
   "source": [
    "Para ellos, en primer lugar generamos una clave `ssh` mediante `ssh-keygen`"
   ]
  },
  {
   "attachments": {},
   "cell_type": "markdown",
   "metadata": {},
   "source": [
    "``` bash\n",
    "ssh-keygen\n",
    "Generating public/private rsa key pair.\n",
    "Enter file in which to save the key (/root/.ssh/id_rsa): \n",
    "Enter passphrase (empty for no passphrase): \n",
    "Enter same passphrase again: \n",
    "Your identification has been saved in /root/.ssh/id_rsa\n",
    "Your public key has been saved in /root/.ssh/id_rsa.pub\n",
    "The key fingerprint is:\n",
    "SHA256:4HxRXkVkcK5kNXNyzakfQ6t8a24wRGCUYz4s5KL5ZEc root@e108f6f395b3\n",
    "The key's randomart image is:\n",
    "+---[RSA 3072]----+\n",
    "|          o+==@.=|\n",
    "|         +.= * Oo|\n",
    "|      . + = = + .|\n",
    "|     o o E * + + |\n",
    "|      = S . = o o|\n",
    "|     o + .   = o |\n",
    "|      + .     + .|\n",
    "|       .       + |\n",
    "|              +. |\n",
    "+----[SHA256]-----+\n",
    "```"
   ]
  },
  {
   "attachments": {},
   "cell_type": "markdown",
   "metadata": {},
   "source": [
    "Como vemos, primero nos pregunta dónde queremos guardar la clave, si no introducimos nada nos la guarda en la ruta por defecto. Y a continuación una frase para generar la clave, **si escribes una frase debes recordarla siempre**. Además si escribes una frase, te la pédirá cada vez que intentes acceder a la clave, por lo que cada vez que queramos acceder a la máquina por medio de `SSH`, no nos pedirá la contraseña de la máquina, pero sí esta frase. Por lo que tu eliges si no introduces una frase para que nunca te la pida, o si sí la introduces y siempre las vas a meter."
   ]
  },
  {
   "attachments": {},
   "cell_type": "markdown",
   "metadata": {},
   "source": [
    "A continuación le pedimos a la máquina remota que se guarde nuestra clave mediante `ssh-copy-id <user>@<id>:`"
   ]
  },
  {
   "attachments": {},
   "cell_type": "markdown",
   "metadata": {},
   "source": [
    "``` bash\n",
    "ssh-copy-id root@172.17.0.1:\n",
    "/usr/bin/ssh-copy-id: INFO: Source of key(s) to be installed: \"/root/.ssh/id_rsa.pub\"\n",
    "/usr/bin/ssh-copy-id: INFO: attempting to log in with the new key(s), to filter out any that are already installed\n",
    "/usr/bin/ssh-copy-id: INFO: 1 key(s) remain to be installed -- if you are prompted now it is to install the new keys\n",
    "root@172.17.0.1's password: \n",
    "\n",
    "Number of key(s) added: 1\n",
    "\n",
    "Now try logging into the machine, with:   \"ssh 'root@172.17.0.1'\"\n",
    "and check to make sure that only the key(s) you wanted were added.\n",
    "\n",
    "root@103b6040196a:/# ssh root@172.17.0.1\n",
    "Welcome to Ubuntu 20.04.5 LTS (GNU/Linux 5.15.0-58-generic x86_64)\n",
    "\n",
    " * Documentation:  https://help.ubuntu.com\n",
    " * Management:     https://landscape.canonical.com\n",
    " * Support:        https://ubuntu.com/advantage\n",
    "\n",
    "4 devices have a firmware upgrade available.\n",
    "Run `fwupdmgr get-upgrades` for more information.\n",
    "\n",
    "\n",
    "58 updates can be applied immediately.\n",
    "41 of these updates are standard security updates.\n",
    "To see these additional updates run: apt list --upgradable\n",
    "\n",
    "New release '22.04.1 LTS' available.\n",
    "Run 'do-release-upgrade' to upgrade to it.\n",
    "\n",
    "Your Hardware Enablement Stack (HWE) is supported until April 2025.\n",
    "Last login: Thu Feb  2 08:05:48 2023 from 172.17.0.2\n",
    "(base) root@172.17.0.1:~$\n",
    "```"
   ]
  },
  {
   "attachments": {},
   "cell_type": "markdown",
   "metadata": {},
   "source": [
    "## Usar la terminal remota por `SSH`"
   ]
  },
  {
   "attachments": {},
   "cell_type": "markdown",
   "metadata": {},
   "source": [
    "A lo mejor no nos hace falta tener que meternos a la máquina remota porque solo necesitamos ejecutar un solo comando, por lo que podemos usar remotamente su terminal añadiendo el flag `-t` al comando `SSH`, es decir, mediante `ssh -t <user>@<id> <command>`"
   ]
  },
  {
   "attachments": {},
   "cell_type": "markdown",
   "metadata": {},
   "source": [
    "``` bash\n",
    "ssh -t root@172.17.0.1 ping -c 4 google.com\n",
    "PING google.com (172.217.168.174) 56(84) bytes of data.\n",
    "64 bytes from mad07s10-in-f14.1e100.net (172.217.168.174): icmp_seq=1 ttl=111 time=2.94 ms\n",
    "64 bytes from mad07s10-in-f14.1e100.net (172.217.168.174): icmp_seq=2 ttl=111 time=2.55 ms\n",
    "64 bytes from mad07s10-in-f14.1e100.net (172.217.168.174): icmp_seq=3 ttl=111 time=2.78 ms\n",
    "64 bytes from mad07s10-in-f14.1e100.net (172.217.168.174): icmp_seq=4 ttl=111 time=2.69 ms\n",
    "\n",
    "--- google.com ping statistics ---\n",
    "4 packets transmitted, 4 received, 0% packet loss, time 3005ms\n",
    "rtt min/avg/max/mdev = 2.550/2.739/2.940/0.142 ms\n",
    "Connection to 172.17.0.1 closed.\n",
    "```"
   ]
  },
  {
   "attachments": {},
   "cell_type": "markdown",
   "metadata": {},
   "source": [
    "Como se puede ver se realiza el comando en la máquina remota y cuando termina, en la última línea nos dice que se cierra la conexión"
   ]
  },
  {
   "attachments": {},
   "cell_type": "markdown",
   "metadata": {},
   "source": [
    "## Proxy `SSH`"
   ]
  },
  {
   "attachments": {},
   "cell_type": "markdown",
   "metadata": {},
   "source": [
    "Si estás navegando en un lugar no muy seguro, o en un lugar que tiene un proxy que no te deja acceder a algunos puertos, puedes navegar a través del proxy de otra máquina meidante `SSH`, esto se puede hacer añadiendo el flag `-D` y el puerto por el que quieres realizar la conexión al proxy remoto, como el puerto para el `tcp/ip` es el `9999` el comando podría quedar como `ssh -D 9999 <user>@<id>`"
   ]
  },
  {
   "attachments": {},
   "cell_type": "markdown",
   "metadata": {},
   "source": [
    "Para que esto se vea mejor, antes de ejecutarlo obtengo mi IP píbluca"
   ]
  },
  {
   "cell_type": "code",
   "execution_count": 2,
   "metadata": {},
   "outputs": [
    {
     "name": "stdout",
     "output_type": "stream",
     "text": [
      "188.127.184.59"
     ]
    }
   ],
   "source": [
    "!curl ifconfig.me"
   ]
  },
  {
   "attachments": {},
   "cell_type": "markdown",
   "metadata": {},
   "source": [
    "Ahora utilizo el proxy de un servidor web que tengo levantado"
   ]
  },
  {
   "attachments": {},
   "cell_type": "markdown",
   "metadata": {},
   "source": [
    "``` bash\n",
    "ssh -D 9999 root@194.62.99.222\n",
    "Welcome to Ubuntu 22.04.1 LTS (GNU/Linux 5.15.0-53-generic x86_64)\n",
    "\n",
    " * Documentation:  https://help.ubuntu.com\n",
    " * Management:     https://landscape.canonical.com\n",
    " * Support:        https://ubuntu.com/advantage\n",
    "\n",
    "  System information as of Wed Feb 22 06:08:51 AM UTC 2023\n",
    "\n",
    "  System load:           0.02978515625\n",
    "  Usage of /:            11.7% of 24.53GB\n",
    "  Memory usage:          33%\n",
    "  Swap usage:            0%\n",
    "  Processes:             89\n",
    "  Users logged in:       0\n",
    "  IPv4 address for eth0: 194.62.99.222\n",
    "  IPv4 address for eth1: 10.7.0.168\n",
    "  IPv6 address for eth2: 2a04:3542:8000:1000:d48a:cbff:fefb:5b1\n",
    "\n",
    "\n",
    "0 updates can be applied immediately.\n",
    "\n",
    "\n",
    "The list of available updates is more than a week old.\n",
    "To check for new updates run: sudo apt update\n",
    "\n",
    "Last login: Wed Feb 22 06:02:35 2023 from 188.127.184.59\n",
    "root@server1:~#\n",
    "```"
   ]
  },
  {
   "attachments": {},
   "cell_type": "markdown",
   "metadata": {},
   "source": [
    "Cambio la configuración proxy de mi ordenador\n",
    "\n",
    "![proxy ssh](https://maximofn.com/wp-content/uploads/2023/02/proxy_ssh.png)"
   ]
  },
  {
   "attachments": {},
   "cell_type": "markdown",
   "metadata": {},
   "source": [
    "Ahora vuelvo a mirar mi IP pública, pero cogiendo el proxy recientemente configurado"
   ]
  },
  {
   "cell_type": "code",
   "execution_count": 8,
   "metadata": {},
   "outputs": [
    {
     "name": "stdout",
     "output_type": "stream",
     "text": [
      "194.62.99.222"
     ]
    }
   ],
   "source": [
    "!curl -x socks5h://localhost:9999 ifconfig.me"
   ]
  },
  {
   "attachments": {},
   "cell_type": "markdown",
   "metadata": {},
   "source": [
    "Vemos que obtenemos la IP pública del servidor"
   ]
  },
  {
   "attachments": {},
   "cell_type": "markdown",
   "metadata": {},
   "source": [
    "## Interfaz gráfica remota por `SSH`"
   ]
  },
  {
   "attachments": {},
   "cell_type": "markdown",
   "metadata": {},
   "source": [
    "En linux la interfaz gŕafica es un servidor, por lo que nos podemos beneficiar de ello y podemos ejecutar programas con interfaces gráficas que están en una máquina remota por `SSH`, para ello hay que usar el flag `-X`. El comando quedaría `ssh -X <user>@<id>`"
   ]
  },
  {
   "attachments": {},
   "cell_type": "markdown",
   "metadata": {},
   "source": [
    "Primero entro a mi servidor e instalo `xeyes` mediante `sudo apt install x11-apps` y después lo ejecuto remotamente desde mi ordenador"
   ]
  },
  {
   "attachments": {},
   "cell_type": "markdown",
   "metadata": {},
   "source": [
    "``` bash\n",
    "ssh -X root@194.62.99.222\n",
    "Welcome to Ubuntu 22.04.1 LTS (GNU/Linux 5.15.0-53-generic x86_64)\n",
    "\n",
    "Last login: Wed Feb 22 06:39:52 2023 from 188.127.184.59\n",
    "/usr/bin/xauth:  file /root/.Xauthority does not exist\n",
    "root@server1:~sudo apt install x11-apps\n",
    "root@server1:~#xeyes\n",
    "```"
   ]
  },
  {
   "attachments": {},
   "cell_type": "markdown",
   "metadata": {},
   "source": [
    "Ahora en mi ordenador se abre la ventana de `xeyes` pero no se está ejecutando en mi ordenador\n",
    "\n",
    "![xeyes](https://maximofn.com/wp-content/uploads/2023/02/xeyes.png)"
   ]
  },
  {
   "attachments": {},
   "cell_type": "markdown",
   "metadata": {},
   "source": [
    "## Tunel `SSH`"
   ]
  },
  {
   "attachments": {},
   "cell_type": "markdown",
   "metadata": {},
   "source": [
    "Como he comentado, he levantado un servidor al que tengo acceso por ssh"
   ]
  },
  {
   "attachments": {},
   "cell_type": "markdown",
   "metadata": {},
   "source": [
    "``` bash\n",
    "ssh root@194.62.99.222\n",
    "Welcome to Ubuntu 22.04.1 LTS (GNU/Linux 5.15.0-53-generic x86_64)\n",
    "\n",
    "Last login: Wed Feb 22 06:40:58 2023 from 188.127.184.59\n",
    "root@server1:~#\n",
    "```"
   ]
  },
  {
   "attachments": {},
   "cell_type": "markdown",
   "metadata": {},
   "source": [
    "Y levanto también un segundo servidor desde el que tengo acceso desde el `server1`, pero no tengo acceso desde mi ordenador"
   ]
  },
  {
   "attachments": {},
   "cell_type": "markdown",
   "metadata": {},
   "source": [
    "A continuación intento acceder al `server2` desde mi ordenador y vemos que no puedo"
   ]
  },
  {
   "attachments": {},
   "cell_type": "markdown",
   "metadata": {},
   "source": [
    "``` bash\n",
    "ssh root@194.62.99.235\n",
    "ssh: connect to host 194.62.99.235 port 22: Connection timed out\n",
    "```"
   ]
  },
  {
   "attachments": {},
   "cell_type": "markdown",
   "metadata": {},
   "source": [
    "Y a continuación intento acceder al `server2` desde el `server1` y vemos que sí puedo"
   ]
  },
  {
   "attachments": {},
   "cell_type": "markdown",
   "metadata": {},
   "source": [
    "``` bash\n",
    "root@server1:~# ssh root@10.7.2.228\n",
    "Welcome to Ubuntu 22.04.1 LTS (GNU/Linux 5.15.0-53-generic x86_64)\n",
    "\n",
    "Last login: Wed Feb 22 06:59:01 2023 from 10.7.0.168\n",
    "root@server2:~#\n",
    "```"
   ]
  },
  {
   "attachments": {},
   "cell_type": "markdown",
   "metadata": {},
   "source": [
    "Así que lo que creamos es un tunel desde mi ordenador hasta el `server2` a través del `server1`, para ello usamos el flag `-L`. Para crear el tunel hay que indicar el puerto de tu ordenador en el que vas a crear el tunel, a continuación la `IP` de destino del tunel, el puerto por el que irá el tunel y por último el disposicivo que creará el tunel. Quedaría así\n",
    "\n",
    "``` bash\n",
    "ssh -L <HOST PORT>:<DEST IP>:<TUNNEL PORT> <TUNNEL CREATOR USER>@<TUNNEL CREATOR IP>\n",
    "```\n",
    "\n",
    "Veámoslo con mi ejemplo, tengo el `server1` con una `IP` pública que podemos llamar `ip_pub1` y al que tengo acceso por `SSH` y una `IP` privada que podemos llamar `ip_priv1` que está dentro de la misma red que `server2`. Y tengo el `server2` con una `IP` pública que podemos llamar `ip_pub2` a la que no tengo acceso por `SSH` y una `IP` que podemos llamar `ip_priv2` dentro de la misma red de `server1`\n",
    "\n",
    "Primero creo el tunel\n",
    "\n",
    "``` bash\n",
    "ssh -L host_port:ip_priv2:22 root@ip_pub1\n",
    "```\n",
    "\n",
    "He creado un tunel hasta la `IP` privada del `server2` a través de la `IP` pública del `server1`\n",
    "\n",
    "Por último, para conectarme al `server2` lo hago a través del `localhost` y del puerto del host que he declarado en el tunel\n",
    "\n",
    "``` bash\n",
    "ssh -p 2020 root@localhost\n",
    "```"
   ]
  },
  {
   "attachments": {},
   "cell_type": "markdown",
   "metadata": {},
   "source": [
    "Vamos a verlo en la realidad, las `IP`s de mis servidores son\n",
    "\n",
    " * `server1`:\n",
    "   * `IP` pública: `194.62.99.222`\n",
    "   * `IP` privada: `10.7.0.168`\n",
    " * `server2`:\n",
    "   * `IP` pública: `194.62.99.235`\n",
    "   * `IP` privada: `10.7.2.228`\n",
    "\n",
    "Primero creo el tunel"
   ]
  },
  {
   "cell_type": "code",
   "execution_count": 11,
   "metadata": {},
   "outputs": [
    {
     "name": "stdout",
     "output_type": "stream",
     "text": [
      "Welcome to Ubuntu 22.04.1 LTS (GNU/Linux 5.15.0-53-generic x86_64)\n",
      "\n",
      " * Documentation:  https://help.ubuntu.com\n",
      " * Management:     https://landscape.canonical.com\n",
      " * Support:        https://ubuntu.com/advantage\n",
      "\n",
      "  System information as of Wed Feb 22 11:13:39 AM UTC 2023\n",
      "\n",
      "  System load:           0.0\n",
      "  Usage of /:            13.3% of 24.53GB\n",
      "  Memory usage:          36%\n",
      "  Swap usage:            0%\n",
      "  Processes:             91\n",
      "  Users logged in:       1\n",
      "  IPv4 address for eth0: 194.62.99.222\n",
      "  IPv4 address for eth1: 10.7.0.168\n",
      "  IPv6 address for eth2: 2a04:3542:8000:1000:d48a:cbff:fefb:5b1\n",
      "\n",
      "\n",
      "101 updates can be applied immediately.\n",
      "60 of these updates are standard security updates.\n",
      "To see these additional updates run: apt list --upgradable\n",
      "\n",
      "\n",
      "Last login: Wed Feb 22 09:29:52 2023 from 188.127.184.59\n",
      "\u001b[?2004h\u001b]0;root@server1: ~\u0007\u001b[01;32mroot@server1\u001b[00m:\u001b[01;34m~\u001b[00m# ^C\u001b[?2004l\n",
      "\u001b[?2004l\n",
      "\u001b[?2004h\u001b]0;root@server1: ~\u0007\u001b[01;32mroot@server1\u001b[00m:\u001b[01;34m~\u001b[00m# "
     ]
    }
   ],
   "source": [
    "!ssh -L 2020:10.7.2.228:22 root@194.62.99.222"
   ]
  },
  {
   "attachments": {},
   "cell_type": "markdown",
   "metadata": {},
   "source": [
    "Con el tunel creado ya me puedo conectar al `server2` desde mi ordenador"
   ]
  },
  {
   "cell_type": "code",
   "execution_count": 12,
   "metadata": {},
   "outputs": [
    {
     "name": "stdout",
     "output_type": "stream",
     "text": [
      "Welcome to Ubuntu 22.04.1 LTS (GNU/Linux 5.15.0-53-generic x86_64)\n",
      "\n",
      " * Documentation:  https://help.ubuntu.com\n",
      " * Management:     https://landscape.canonical.com\n",
      " * Support:        https://ubuntu.com/advantage\n",
      "\n",
      "  System information as of Wed Feb 22 11:14:15 AM UTC 2023\n",
      "\n",
      "  System load:           0.0\n",
      "  Usage of /:            13.3% of 24.53GB\n",
      "  Memory usage:          33%\n",
      "  Swap usage:            0%\n",
      "  Processes:             90\n",
      "  Users logged in:       0\n",
      "  IPv4 address for eth0: 194.62.99.235\n",
      "  IPv4 address for eth1: 10.7.2.228\n",
      "  IPv6 address for eth2: 2a04:3542:8000:1000:d48a:cbff:fefb:7f47\n",
      "\n",
      " * Strictly confined Kubernetes makes edge and IoT secure. Learn how MicroK8s\n",
      "   just raised the bar for easy, resilient and secure K8s cluster deployment.\n",
      "\n",
      "   https://ubuntu.com/engage/secure-kubernetes-at-the-edge\n",
      "\n",
      "101 updates can be applied immediately.\n",
      "60 of these updates are standard security updates.\n",
      "To see these additional updates run: apt list --upgradable\n",
      "\n",
      "\n",
      "Last login: Wed Feb 22 11:14:16 2023 from 10.7.0.168\n",
      "\u001b[?2004h\u001b]0;root@server2: ~\u0007\u001b[01;32mroot@server2\u001b[00m:\u001b[01;34m~\u001b[00m# ^C\u001b[?2004l\n",
      "\u001b[?2004l\n",
      "\u001b[?2004h\u001b]0;root@server2: ~\u0007\u001b[01;32mroot@server2\u001b[00m:\u001b[01;34m~\u001b[00m# "
     ]
    }
   ],
   "source": [
    "!ssh -p 2020 root@localhost"
   ]
  },
  {
   "attachments": {},
   "cell_type": "markdown",
   "metadata": {},
   "source": [
    "## Conexión reversa"
   ]
  },
  {
   "attachments": {},
   "cell_type": "markdown",
   "metadata": {},
   "source": [
    "Volvamos a suponer que me quiero conectar al `server2`, pero ahora no puedo hacer, por la razón que sea, un tunel desde el `server1`. Lo que podemos hacer es crear una conexión reversa desde otro servidor.\n",
    "\n",
    "Supongamos que tengo un tercer servidor, llamado `server3`, al que se tiene acceso por `SSH` desde cualquier lado, es decir, tanto yo desde mi ordenador, como el `server2` tienen acceso. Por lo que si podemos acceder físicamente al `server2` se puede hacer una conexión reversa desde el `server2` al `server3`\n",
    "\n",
    "```\n",
    "ssh -R <server3port>:localhost:22 root@<IPserver3>\n",
    "```\n",
    "\n",
    "Con esto, lo que he hecho es habilitar una conexión desde el `server3` al `server2` (cosa que antes no se podía), a través del `localhost` y puerto `<server3port>` del `server3`\n",
    "\n",
    "Ahora desde mi ordenador me puedo conectar al `server3` y desde el `server3` nos podemos conectar al `server2` mediante\n",
    "\n",
    "``` bash\n",
    "ssh -p <server3port> root@localhost\n",
    "```"
   ]
  },
  {
   "attachments": {},
   "cell_type": "markdown",
   "metadata": {},
   "source": [
    "Veámoslo con los datos de mis servidores\n",
    "\n",
    "* `server2`:\n",
    "   * `IP` pública: `194.62.99.235`\n",
    " * `server3`:\n",
    "   * `IP` pública: `194.62.96.236`"
   ]
  },
  {
   "attachments": {},
   "cell_type": "markdown",
   "metadata": {},
   "source": [
    "Primero hago la conexión reversa desde el `server2` al `server3`"
   ]
  },
  {
   "attachments": {},
   "cell_type": "markdown",
   "metadata": {},
   "source": [
    "``` bash\n",
    "root@server2:~# ssh -R 2020:localhost:22 root@194.62.96.236\n",
    "Welcome to Ubuntu 22.04.1 LTS (GNU/Linux 5.15.0-53-generic x86_64)\n",
    "\n",
    "Last login: Wed Feb 22 15:25:58 2023 from 188.127.184.59\n",
    "root@server3:~#\n",
    "```"
   ]
  },
  {
   "attachments": {},
   "cell_type": "markdown",
   "metadata": {},
   "source": [
    "Ahora me conecto al `server3`"
   ]
  },
  {
   "attachments": {},
   "cell_type": "markdown",
   "metadata": {},
   "source": [
    "```\n",
    "ssh root@194.62.96.236\n",
    "Welcome to Ubuntu 22.04.1 LTS (GNU/Linux 5.15.0-53-generic x86_64)\n",
    "\n",
    "Last login: Wed Feb 22 15:12:19 2023 from 188.127.184.59\n",
    "root@server3:~#\n",
    "```"
   ]
  },
  {
   "attachments": {},
   "cell_type": "markdown",
   "metadata": {},
   "source": [
    "Y ahora que estoy en el `server3` me conecto al `server2`"
   ]
  },
  {
   "attachments": {},
   "cell_type": "markdown",
   "metadata": {},
   "source": [
    "``` bash\n",
    "root@server3:~# ssh -p 2020 root@localhost\n",
    "Welcome to Ubuntu 22.04.1 LTS (GNU/Linux 5.15.0-53-generic x86_64)\n",
    "\n",
    "Last login: Wed Feb 22 15:12:07 2023 from 188.127.184.59\n",
    "root@server2:~#\n",
    "```"
   ]
  },
  {
   "attachments": {},
   "cell_type": "markdown",
   "metadata": {},
   "source": [
    "Conseguido! A través de mi ordenador no puedo conectarme directamente al `server2`, pero al conectarme al `server3` he podido acceder al `server2` gracias a la conexión inversa que había hecho del `server2` al `server3`"
   ]
  },
  {
   "attachments": {},
   "cell_type": "markdown",
   "metadata": {},
   "source": [
    "## Jump"
   ]
  },
  {
   "attachments": {},
   "cell_type": "markdown",
   "metadata": {},
   "source": [
    "Por último, otra manera de entrar al `server2` es entrando al `server1` y a continuación, desde el `server1` entrar al `server2`. Pero esto es un poco engorroso, porque primero hay que hacer una conexión `SSH` al `server1` y luego otra al `server2`, así que para hacerlo todo de una podemos usar el flag `-J` (`jump`), es decir, quedaría `ssh -J server1 server2`"
   ]
  },
  {
   "attachments": {},
   "cell_type": "markdown",
   "metadata": {},
   "source": [
    "Resumem, primero haríamos `ssh root@194.62.99.222` y luego `ssh root@10.7.2.228` (ya que dentro de `server1` nos conectamos a `server2` mediante la `IP` privada).\n",
    "\n",
    "Así que podríamos hacer todo de una haciendo `ssh -J root@194.62.99.222 root@10.7.2.228`\n",
    "\n",
    "Vamos a probar"
   ]
  },
  {
   "attachments": {},
   "cell_type": "markdown",
   "metadata": {},
   "source": [
    "``` bash\n",
    "ssh -J root@194.62.99.222 root@10.7.2.228\n",
    "Welcome to Ubuntu 22.04.1 LTS (GNU/Linux 5.15.0-60-generic x86_64)\n",
    "\n",
    "Last login: Fri Feb 24 06:46:11 2023 from 10.7.0.168\n",
    "root@server2:~#\n",
    "```"
   ]
  },
  {
   "attachments": {},
   "cell_type": "markdown",
   "metadata": {},
   "source": [
    "Hemos podido hacer los saltos!"
   ]
  },
  {
   "attachments": {},
   "cell_type": "markdown",
   "metadata": {},
   "source": [
    "## Archivo de configuración `SSH` del usuario"
   ]
  },
  {
   "attachments": {},
   "cell_type": "markdown",
   "metadata": {},
   "source": [
    "### Dispositivos con Alias"
   ]
  },
  {
   "attachments": {},
   "cell_type": "markdown",
   "metadata": {},
   "source": [
    "En todo ordenador hay un archivo de configuración para el `SSH` que suele estar en la carpeta del usuario"
   ]
  },
  {
   "cell_type": "code",
   "execution_count": 2,
   "metadata": {},
   "outputs": [
    {
     "name": "stdout",
     "output_type": "stream",
     "text": [
      "# Read more about SSH config files: https://linux.die.net/man/5/ssh_config\n",
      "Host 192.168.1.138\n",
      "    HostName 192.168.1.138\n",
      "    User maximo.fernandez\n"
     ]
    }
   ],
   "source": [
    "!cat ~/.ssh/config"
   ]
  },
  {
   "attachments": {},
   "cell_type": "markdown",
   "metadata": {},
   "source": [
    "En este archivo tengo guardados el usuario e ip de algunos dispositivos a los que me suelo conectar y así no tengo que rellenar todo yo. Veamoslo con los servidores que tengo\n",
    "\n",
    "Mi servidor `server1` tiene el usuario `root` y la IP `194.62.99.222`, por lo que lo añado a la lista"
   ]
  },
  {
   "cell_type": "code",
   "execution_count": 8,
   "metadata": {},
   "outputs": [],
   "source": [
    "!echo \"Host server1\\n    HostName 194.62.99.222\\n    User root\" >> ~/.ssh/config"
   ]
  },
  {
   "attachments": {},
   "cell_type": "markdown",
   "metadata": {},
   "source": [
    "Volvemos a ver cómo ha quedado el archivo de configuración"
   ]
  },
  {
   "cell_type": "code",
   "execution_count": 9,
   "metadata": {},
   "outputs": [
    {
     "name": "stdout",
     "output_type": "stream",
     "text": [
      "# Read more about SSH config files: https://linux.die.net/man/5/ssh_config\n",
      "Host 192.168.1.138\n",
      "    HostName 192.168.1.138\n",
      "    User maximo.fernandez\n",
      "\n",
      "Host server1\n",
      "    HostName 194.62.99.222\n",
      "    User root\n"
     ]
    }
   ],
   "source": [
    "!cat ~/.ssh/config"
   ]
  },
  {
   "attachments": {},
   "cell_type": "markdown",
   "metadata": {},
   "source": [
    "Ahora que lo hemos añadido para conectarnos al `server1` ya solo nos hace falta hacer `ssh server1`"
   ]
  },
  {
   "attachments": {},
   "cell_type": "markdown",
   "metadata": {},
   "source": [
    "``` bash\n",
    "ssh server1 \n",
    "Welcome to Ubuntu 22.04.1 LTS (GNU/Linux 5.15.0-60-generic x86_64)\n",
    "\n",
    "Last login: Fri Feb 24 05:18:59 2023 from 188.127.184.59\n",
    "root@server1:~# \n",
    "```"
   ]
  },
  {
   "attachments": {},
   "cell_type": "markdown",
   "metadata": {},
   "source": [
    "### Proxy"
   ]
  },
  {
   "attachments": {},
   "cell_type": "markdown",
   "metadata": {},
   "source": [
    "Como ya vimos, añadiendo el flag `-D <port>` podiamos cambiar la proxy. Para dejar esto guardado en el archivo de configuración solo tenemos que añadir la línea `DynamicForward <port>` al host que estamos guardando"
   ]
  },
  {
   "attachments": {},
   "cell_type": "markdown",
   "metadata": {},
   "source": [
    "Repitiendo el ejemplo anterior en el que usamos el `server1` como un proxy del puerto `tcp/ip` (`9999`), en el archivo de configuración quedaría así\n",
    "\n",
    "```\n",
    "Host proxyServer1\n",
    "    HostName 194.62.99.222\n",
    "    User root\n",
    "    DynamicForward 9999\n",
    "```\n",
    "\n",
    "Lo añadimos"
   ]
  },
  {
   "cell_type": "code",
   "execution_count": 10,
   "metadata": {},
   "outputs": [],
   "source": [
    "!echo \"Host proxyServer1\\n    HostName 194.62.99.222\\n    User root\\n    DynamicForward 9999\" >> ~/.ssh/config"
   ]
  },
  {
   "attachments": {},
   "cell_type": "markdown",
   "metadata": {},
   "source": [
    "Veamos cómo queda el archivo de configuración"
   ]
  },
  {
   "cell_type": "code",
   "execution_count": 11,
   "metadata": {},
   "outputs": [
    {
     "name": "stdout",
     "output_type": "stream",
     "text": [
      "# Read more about SSH config files: https://linux.die.net/man/5/ssh_config\n",
      "Host 192.168.1.138\n",
      "    HostName 192.168.1.138\n",
      "    User maximo.fernandez\n",
      "\n",
      "Host server1\n",
      "    HostName 194.62.99.222\n",
      "    User root\n",
      "Host proxyServer1\n",
      "    HostName 194.62.99.222\n",
      "    User root\n",
      "    DynamicForward 9999\n"
     ]
    }
   ],
   "source": [
    "!cat ~/.ssh/config"
   ]
  },
  {
   "attachments": {},
   "cell_type": "markdown",
   "metadata": {},
   "source": [
    "Obtengo mi `IP` pública"
   ]
  },
  {
   "cell_type": "code",
   "execution_count": 12,
   "metadata": {},
   "outputs": [
    {
     "name": "stdout",
     "output_type": "stream",
     "text": [
      "188.127.184.59"
     ]
    }
   ],
   "source": [
    "!curl ifconfig.me"
   ]
  },
  {
   "attachments": {},
   "cell_type": "markdown",
   "metadata": {},
   "source": [
    "Me conecto al servidor proxy"
   ]
  },
  {
   "attachments": {},
   "cell_type": "markdown",
   "metadata": {},
   "source": [
    "``` bash\n",
    "ssh proxyServer1 \n",
    "Welcome to Ubuntu 22.04.1 LTS (GNU/Linux 5.15.0-60-generic x86_64)\n",
    "\n",
    "Last login: Fri Feb 24 05:42:32 2023 from 188.127.184.59\n",
    "root@server1:~#\n",
    "```"
   ]
  },
  {
   "attachments": {},
   "cell_type": "markdown",
   "metadata": {},
   "source": [
    "Cambio la configuración proxy de mi ordenador\n",
    "\n",
    "![proxy ssh](https://maximofn.com/wp-content/uploads/2023/02/proxy_ssh.png)"
   ]
  },
  {
   "attachments": {},
   "cell_type": "markdown",
   "metadata": {},
   "source": [
    "Vuelvo a ver mi `IP` pública, pero cogiendo el proxy recientemente configurado"
   ]
  },
  {
   "cell_type": "code",
   "execution_count": 13,
   "metadata": {},
   "outputs": [
    {
     "name": "stdout",
     "output_type": "stream",
     "text": [
      "194.62.99.222"
     ]
    }
   ],
   "source": [
    "!curl -x socks5h://localhost:9999 ifconfig.me"
   ]
  },
  {
   "attachments": {},
   "cell_type": "markdown",
   "metadata": {},
   "source": [
    "Vemos que obtenemos la IP pública del servidor"
   ]
  },
  {
   "attachments": {},
   "cell_type": "markdown",
   "metadata": {},
   "source": [
    "### Tunel SSH"
   ]
  },
  {
   "attachments": {},
   "cell_type": "markdown",
   "metadata": {},
   "source": [
    "Si como antes quiero crear un tunel hasta el `server2` a través del `server1`, antes teníamos que hacer `ssh <HOST PORT>:<DEST IP>:<TUNNEL PORT> <TUNNEL CREATOR USER>@<TUNNEL CREATOR IP>`, ahora tenemos que añadir la línea\n",
    "\n",
    "``` bash\n",
    "LocalForward <localhost>:<HOST PORT> <DEST IP>:<TUNNEL PORT>\n",
    "```"
   ]
  },
  {
   "attachments": {},
   "cell_type": "markdown",
   "metadata": {},
   "source": [
    "Es decir, el archivo de configuarción quedaría\n",
    "\n",
    "```\n",
    "Host tunelToServer2\n",
    "    HostName 194.62.99.222\n",
    "    User root\n",
    "    LocalForward 127.0.0.1:2020 10.7.2.228:22\n",
    "```"
   ]
  },
  {
   "attachments": {},
   "cell_type": "markdown",
   "metadata": {},
   "source": [
    "Pero como así no se entiende muy bien veamoslo con algo concreto\n",
    "\n",
    " * `server1`:\n",
    "   * `IP` pública: `194.62.99.222`\n",
    "   * `IP` privada: `10.7.0.168`\n",
    " * `server2`:\n",
    "   * `IP` pública: `194.62.99.235`\n",
    "   * `IP` privada: `10.7.2.228`\n",
    "\n",
    "Antes el comando era\n",
    "\n",
    "``` bash\n",
    "ssh -L 2020:10.7.2.228:22 root@194.62.99.222\n",
    "```\n",
    "\n",
    "De modo que el archivo de configuración tiene que quedar\n",
    "\n",
    "```\n",
    "Host tunelToServer2\n",
    "    HostName 194.62.99.222\n",
    "    User root\n",
    "    LocalForward 127.0.0.1:2020 10.7.2.228:22\n",
    "```\n",
    "\n",
    "Veamos si funciona"
   ]
  },
  {
   "attachments": {},
   "cell_type": "markdown",
   "metadata": {},
   "source": [
    "Añadimos la nueva configuración"
   ]
  },
  {
   "cell_type": "code",
   "execution_count": 14,
   "metadata": {},
   "outputs": [],
   "source": [
    "!echo \"Host tunelToServer2\\n    HostName 194.62.99.222\\n    User root\\n    LocalForward 127.0.0.1:2020 10.7.2.228:22\" >> ~/.ssh/config"
   ]
  },
  {
   "attachments": {},
   "cell_type": "markdown",
   "metadata": {},
   "source": [
    "Veamos cómo ha quedado el archivo de configuración"
   ]
  },
  {
   "cell_type": "code",
   "execution_count": 15,
   "metadata": {},
   "outputs": [
    {
     "name": "stdout",
     "output_type": "stream",
     "text": [
      "# Read more about SSH config files: https://linux.die.net/man/5/ssh_config\n",
      "Host 192.168.1.138\n",
      "    HostName 192.168.1.138\n",
      "    User maximo.fernandez\n",
      "\n",
      "Host server1\n",
      "    HostName 194.62.99.222\n",
      "    User root\n",
      "Host proxyServer1\n",
      "    HostName 194.62.99.222\n",
      "    User root\n",
      "    DynamicForward 9999\n",
      "Host tunelToServer2\n",
      "    HostName 194.62.99.222\n",
      "    User root\n",
      "    LocalForward 127.0.0.1:2020 10.7.2.228:22\n"
     ]
    }
   ],
   "source": [
    "!cat ~/.ssh/config"
   ]
  },
  {
   "attachments": {},
   "cell_type": "markdown",
   "metadata": {},
   "source": [
    "Creamos el tunel"
   ]
  },
  {
   "attachments": {},
   "cell_type": "markdown",
   "metadata": {},
   "source": [
    "``` bash\n",
    "ssh tunelToServer2 \n",
    "Welcome to Ubuntu 22.04.1 LTS (GNU/Linux 5.15.0-60-generic x86_64)\n",
    "\n",
    "Last login: Fri Feb 24 06:02:20 2023 from 188.127.184.59\n",
    "root@server1:~#\n",
    "```"
   ]
  },
  {
   "attachments": {},
   "cell_type": "markdown",
   "metadata": {},
   "source": [
    "Ahora intentamos conectarnos al `server2` desde mi ordenador"
   ]
  },
  {
   "attachments": {},
   "cell_type": "markdown",
   "metadata": {},
   "source": [
    "``` bash\n",
    "ssh -p 2020 root@localhost\n",
    "Welcome to Ubuntu 22.04.1 LTS (GNU/Linux 5.15.0-60-generic x86_64)\n",
    "\n",
    "Last login: Fri Feb 24 06:02:36 2023 from 10.7.0.168\n",
    "root@server2:~# \n",
    "```"
   ]
  },
  {
   "attachments": {},
   "cell_type": "markdown",
   "metadata": {},
   "source": [
    "Conseguido! Pero podemos dejarlo un poco más limpio todo, podemos añadir esta última conexión al archivo de configuración"
   ]
  },
  {
   "cell_type": "code",
   "execution_count": 16,
   "metadata": {},
   "outputs": [],
   "source": [
    "!echo \"Host server2ByTunel\\n    HostName localhost\\n    User root\\n    Port 2020\" >> ~/.ssh/config"
   ]
  },
  {
   "attachments": {},
   "cell_type": "markdown",
   "metadata": {},
   "source": [
    "Veamos cómo queda el archivo de configuración"
   ]
  },
  {
   "cell_type": "code",
   "execution_count": 17,
   "metadata": {},
   "outputs": [
    {
     "name": "stdout",
     "output_type": "stream",
     "text": [
      "# Read more about SSH config files: https://linux.die.net/man/5/ssh_config\n",
      "Host 192.168.1.138\n",
      "    HostName 192.168.1.138\n",
      "    User maximo.fernandez\n",
      "\n",
      "Host server1\n",
      "    HostName 194.62.99.222\n",
      "    User root\n",
      "Host proxyServer1\n",
      "    HostName 194.62.99.222\n",
      "    User root\n",
      "    DynamicForward 9999\n",
      "Host tunelToServer2\n",
      "    HostName 194.62.99.222\n",
      "    User root\n",
      "    LocalForward 127.0.0.1:2020 10.7.2.228:22\n",
      "Host server2ByTunel\n",
      "    HostName localhost\n",
      "    User root\n",
      "    Port 2020\n"
     ]
    }
   ],
   "source": [
    "!cat ~/.ssh/config"
   ]
  },
  {
   "attachments": {},
   "cell_type": "markdown",
   "metadata": {},
   "source": [
    "Ahora nos volvemos a conectar al `server2` desde mi ordenador, a través del tunel, pero con la última configuración que acabamos de guardar"
   ]
  },
  {
   "attachments": {},
   "cell_type": "markdown",
   "metadata": {},
   "source": [
    "``` bash\n",
    "ssh server2ByTunel \n",
    "Welcome to Ubuntu 22.04.1 LTS (GNU/Linux 5.15.0-60-generic x86_64)\n",
    "\n",
    "Last login: Fri Feb 24 06:13:33 2023 from 10.7.0.168\n",
    "root@server2:~# \n",
    "```"
   ]
  },
  {
   "attachments": {},
   "cell_type": "markdown",
   "metadata": {},
   "source": [
    "En resumen, con todo lo que hemos hecho, podemos crear el tunel hasta el `server2` con el comando `ssh tunelToServer2` y a continuación conectarnos al `server2` con el comando `ssh server2ByTunel`\n",
    "\n",
    "Impresionante!"
   ]
  },
  {
   "attachments": {},
   "cell_type": "markdown",
   "metadata": {},
   "source": [
    "### Conexión reversa"
   ]
  },
  {
   "attachments": {},
   "cell_type": "markdown",
   "metadata": {},
   "source": [
    "Recordamos que ahora nuestro problema era que no nos podíamos conectar al `server2` a través del tunel del `server1`. De modo que creando una conexión reversa desde el `server2` (tenemos alguien en el `server2` que puede hacer esa conexión reversa, o lo dejamos hecho nosotros antes de irnos) hasta un `server3`, desde mi ordenador me puedo conectar al `server3` y a continuación conectarme al `server2`"
   ]
  },
  {
   "attachments": {},
   "cell_type": "markdown",
   "metadata": {},
   "source": [
    "Primero tenemos que hacer la conexión reversa desde el `server2` al `server3`. Esto lo podíamos hacer mediante un comando\n",
    "\n",
    "``` bash\n",
    "ssh -R <server3port>:localhost:22 root@<IPserver3>\n",
    "```\n",
    "\n",
    "O guardar la conexión en el archivo de configuración añadiendo\n",
    "\n",
    "```\n",
    "Host reverseToServer3\n",
    "    HostName <IPserver3>\n",
    "    User root\n",
    "    RemoteForward <server3port> localhost:22\n",
    "```\n",
    "\n",
    "Y hacer la conexión reversa mediante\n",
    "\n",
    "``` bash\n",
    "ssh reverseToServer3\n",
    "```"
   ]
  },
  {
   "attachments": {},
   "cell_type": "markdown",
   "metadata": {},
   "source": [
    "Como así no se entiende bien, veámoslo con datos concretos\n",
    "\n",
    " * `server2`:\n",
    "   * `IP` pública: `194.62.99.235`\n",
    " * `server3`:\n",
    "   * `IP` pública: `194.62.96.236`\n",
    "\n",
    "Para hacer la conexión reversa habría que usar el comando\n",
    "\n",
    "``` bash\n",
    "ssh -R 2020:localhost:22 root@194.62.96.236\n",
    "```\n",
    "\n",
    "O guardar la siguiente configuración\n",
    "\n",
    "``` bash\n",
    "Host reverseToServer3\n",
    "    HostName 194.62.96.236\n",
    "    User root\n",
    "    RemoteForward 2020 localhost:22\n",
    "```\n",
    "\n",
    "Y conectarse mediante\n",
    "\n",
    "``` bash\n",
    "ssh reverseToServer3\n",
    "```"
   ]
  },
  {
   "attachments": {},
   "cell_type": "markdown",
   "metadata": {},
   "source": [
    "De modo que guardo la configuración en el server 2 y hago la conexión"
   ]
  },
  {
   "attachments": {},
   "cell_type": "markdown",
   "metadata": {},
   "source": [
    "``` bash\n",
    "root@server2:~# echo \"Host reverseToServer3\\n    HostName 194.62.96.236\\n    User root\\n    RemoteForward 2020 localhost:22\" >> ~/.ssh/config\n",
    "```"
   ]
  },
  {
   "attachments": {},
   "cell_type": "markdown",
   "metadata": {},
   "source": [
    "Veamos que se ha guardado bien"
   ]
  },
  {
   "attachments": {},
   "cell_type": "markdown",
   "metadata": {},
   "source": [
    "``` bash\n",
    "root@server2:~# cat .ssh/config\n",
    "\n",
    "Host reverseToServer3\n",
    "    HostName 194.62.96.236\n",
    "    User root\n",
    "    RemoteForward 2020 localhost:22\n",
    "```"
   ]
  },
  {
   "attachments": {},
   "cell_type": "markdown",
   "metadata": {},
   "source": [
    "Hago la conexión reversa"
   ]
  },
  {
   "attachments": {},
   "cell_type": "markdown",
   "metadata": {},
   "source": [
    "``` bash\n",
    "root@server2:~# ssh reverseToServer3 \n",
    "Welcome to Ubuntu 22.04.1 LTS (GNU/Linux 5.15.0-53-generic x86_64)\n",
    "\n",
    "Last login: Wed Feb 22 15:26:18 2023 from 194.62.99.235\n",
    "root@server3:~# \n",
    "```"
   ]
  },
  {
   "attachments": {},
   "cell_type": "markdown",
   "metadata": {},
   "source": [
    "### Jump"
   ]
  },
  {
   "attachments": {},
   "cell_type": "markdown",
   "metadata": {},
   "source": [
    "Como hemos dicho hacíamos saltos mediante el flag `-J`, de manera que con el comando `ssh -J root@194.62.99.222 root@10.7.2.228` podíamos llegar a conectarnos al `server2`"
   ]
  },
  {
   "attachments": {},
   "cell_type": "markdown",
   "metadata": {},
   "source": [
    "Para configurar el archivo de configuración hay dos opciones"
   ]
  },
  {
   "attachments": {},
   "cell_type": "markdown",
   "metadata": {},
   "source": [
    "La primera es que como ya tenemos el `server1` guardada en el archivo de configuración, solamente añadimos `server2`\n",
    "\n",
    "``` bash\n",
    "Host server2\n",
    "    HostName 10.7.2.228\n",
    "    User root\n",
    "```\n",
    "\n",
    "Y a continuación nos podríamos conectar mediante\n",
    "\n",
    "``` bash\n",
    "ssh -J server1 server2\n",
    "```\n",
    "\n",
    "Vamos a probarlo"
   ]
  },
  {
   "cell_type": "code",
   "execution_count": 19,
   "metadata": {},
   "outputs": [],
   "source": [
    "!echo \"Host server2\\n    HostName 10.7.2.228\\n    User root\\n\" >> ~/.ssh/config"
   ]
  },
  {
   "attachments": {},
   "cell_type": "markdown",
   "metadata": {},
   "source": [
    "Vemos el archivo de configuración"
   ]
  },
  {
   "cell_type": "code",
   "execution_count": 21,
   "metadata": {},
   "outputs": [
    {
     "name": "stdout",
     "output_type": "stream",
     "text": [
      "# Read more about SSH config files: https://linux.die.net/man/5/ssh_config\n",
      "Host 192.168.1.138\n",
      "    HostName 192.168.1.138\n",
      "    User maximo.fernandez\n",
      "\n",
      "Host server1\n",
      "    HostName 194.62.99.222\n",
      "    User root\n",
      "Host proxyServer1\n",
      "    HostName 194.62.99.222\n",
      "    User root\n",
      "    DynamicForward 9999\n",
      "Host tunelToServer2\n",
      "    HostName 194.62.99.222\n",
      "    User root\n",
      "    LocalForward 127.0.0.1:2020 10.7.2.228:22\n",
      "Host server2ByTunel\n",
      "    HostName localhost\n",
      "    User root\n",
      "    Port 2020\n",
      "Host server2\n",
      "    HostName 10.7.2.228\n",
      "    User root\n",
      "\n"
     ]
    }
   ],
   "source": [
    "!cat ~/.ssh/config"
   ]
  },
  {
   "attachments": {},
   "cell_type": "markdown",
   "metadata": {},
   "source": [
    "Ahora nos conectamos mediante los saltos"
   ]
  },
  {
   "attachments": {},
   "cell_type": "markdown",
   "metadata": {},
   "source": [
    "``` bash\n",
    "ssh -J server1 server2\n",
    "Welcome to Ubuntu 22.04.1 LTS (GNU/Linux 5.15.0-60-generic x86_64)\n",
    "\n",
    "Last login: Fri Feb 24 12:05:16 2023 from 10.7.0.168\n",
    "root@server2:~#\n",
    "```"
   ]
  },
  {
   "attachments": {},
   "cell_type": "markdown",
   "metadata": {},
   "source": [
    "Esta ha sido la primera opción, guardar cada servidor y establecer los saltos, pero una segunda opción es guardar todos los saltos en una sola configuración, que quedaría así\n",
    "\n",
    "``` bash\n",
    "Host server2jumping\n",
    "    HostName 10.7.2.228\n",
    "    User root\n",
    "    ProxyJump root@194.62.99.222\n",
    "```\n",
    "\n",
    "Y ya solo haría falta conectarse mediante\n",
    "\n",
    "```\n",
    "ssh server2jumping\n",
    "```\n",
    "\n",
    "Vamos a probar"
   ]
  },
  {
   "cell_type": "code",
   "execution_count": 22,
   "metadata": {},
   "outputs": [],
   "source": [
    "!echo \"Host server2jumping\\n    HostName 10.7.2.228\\n    User root\\n    ProxyJump root@194.62.99.222\" >> ~/.ssh/config"
   ]
  },
  {
   "attachments": {},
   "cell_type": "markdown",
   "metadata": {},
   "source": [
    "Vamos a ver el archivo de configuración"
   ]
  },
  {
   "cell_type": "code",
   "execution_count": 24,
   "metadata": {},
   "outputs": [
    {
     "name": "stdout",
     "output_type": "stream",
     "text": [
      "# Read more about SSH config files: https://linux.die.net/man/5/ssh_config\n",
      "Host 192.168.1.138\n",
      "    HostName 192.168.1.138\n",
      "    User maximo.fernandez\n",
      "\n",
      "Host server1\n",
      "    HostName 194.62.99.222\n",
      "    User root\n",
      "Host proxyServer1\n",
      "    HostName 194.62.99.222\n",
      "    User root\n",
      "    DynamicForward 9999\n",
      "Host tunelToServer2\n",
      "    HostName 194.62.99.222\n",
      "    User root\n",
      "    LocalForward 127.0.0.1:2020 10.7.2.228:22\n",
      "Host server2ByTunel\n",
      "    HostName localhost\n",
      "    User root\n",
      "    Port 2020\n",
      "Host server2\n",
      "    HostName 10.7.2.228\n",
      "    User root\n",
      "Host server2jumping\n",
      "    HostName 10.7.2.228\n",
      "    User root\n",
      "    ProxyJump root@194.62.99.222\n"
     ]
    }
   ],
   "source": [
    "!cat ~/.ssh/config"
   ]
  },
  {
   "attachments": {},
   "cell_type": "markdown",
   "metadata": {},
   "source": [
    "Ahora intentamos conectarnos"
   ]
  },
  {
   "attachments": {},
   "cell_type": "markdown",
   "metadata": {},
   "source": [
    "```\n",
    "ssh server2jumping\n",
    "Welcome to Ubuntu 22.04.1 LTS (GNU/Linux 5.15.0-60-generic x86_64)\n",
    "\n",
    "Last login: Fri Feb 24 12:06:22 2023 from 10.7.0.168\n",
    "root@server2:~# \n",
    "```"
   ]
  },
  {
   "attachments": {},
   "cell_type": "markdown",
   "metadata": {},
   "source": [
    "## Archivo de configuración `SSH` del sistema"
   ]
  },
  {
   "attachments": {},
   "cell_type": "markdown",
   "metadata": {},
   "source": [
    "Antes vimos el archivo de configuración de `SSH` del usuario, donde guardamos configuraciones de maquinas donde nos queríamos conectar por `SSH`, pero hay otro archivo de configuración de `SSH` pero en este caso del sistema, que se encuentra en `/etc/ssh/ssh_config`, vamos a verlo"
   ]
  },
  {
   "cell_type": "code",
   "execution_count": 25,
   "metadata": {},
   "outputs": [
    {
     "name": "stdout",
     "output_type": "stream",
     "text": [
      "#\t$OpenBSD: sshd_config,v 1.103 2018/04/09 20:41:22 tj Exp $\n",
      "\n",
      "# This is the sshd server system-wide configuration file.  See\n",
      "# sshd_config(5) for more information.\n",
      "\n",
      "# This sshd was compiled with PATH=/usr/bin:/bin:/usr/sbin:/sbin\n",
      "\n",
      "# The strategy used for options in the default sshd_config shipped with\n",
      "# OpenSSH is to specify options with their default value where\n",
      "# possible, but leave them commented.  Uncommented options override the\n",
      "# default value.\n",
      "\n",
      "Include /etc/ssh/sshd_config.d/*.conf\n",
      "\n",
      "#Port 22\n",
      "#AddressFamily any\n",
      "#ListenAddress 0.0.0.0\n",
      "#ListenAddress ::\n",
      "\n",
      "#HostKey /etc/ssh/ssh_host_rsa_key\n",
      "#HostKey /etc/ssh/ssh_host_ecdsa_key\n",
      "#HostKey /etc/ssh/ssh_host_ed25519_key\n",
      "\n",
      "# Ciphers and keying\n",
      "#RekeyLimit default none\n",
      "\n",
      "# Logging\n",
      "#SyslogFacility AUTH\n",
      "#LogLevel INFO\n",
      "\n",
      "# Authentication:\n",
      "\n",
      "#LoginGraceTime 2m\n",
      "#PermitRootLogin prohibit-password\n",
      "#StrictModes yes\n",
      "#MaxAuthTries 6\n",
      "#MaxSessions 10\n",
      "\n",
      "#PubkeyAuthentication yes\n",
      "\n",
      "# Expect .ssh/authorized_keys2 to be disregarded by default in future.\n",
      "#AuthorizedKeysFile\t.ssh/authorized_keys .ssh/authorized_keys2\n",
      "\n",
      "#AuthorizedPrincipalsFile none\n",
      "\n",
      "#AuthorizedKeysCommand none\n",
      "#AuthorizedKeysCommandUser nobody\n",
      "\n",
      "# For this to work you will also need host keys in /etc/ssh/ssh_known_hosts\n",
      "#HostbasedAuthentication no\n",
      "# Change to yes if you don't trust ~/.ssh/known_hosts for\n",
      "# HostbasedAuthentication\n",
      "#IgnoreUserKnownHosts no\n",
      "# Don't read the user's ~/.rhosts and ~/.shosts files\n",
      "#IgnoreRhosts yes\n",
      "\n",
      "# To disable tunneled clear text passwords, change to no here!\n",
      "#PasswordAuthentication yes\n",
      "#PermitEmptyPasswords no\n",
      "\n",
      "# Change to yes to enable challenge-response passwords (beware issues with\n",
      "# some PAM modules and threads)\n",
      "ChallengeResponseAuthentication no\n",
      "\n",
      "# Kerberos options\n",
      "#KerberosAuthentication no\n",
      "#KerberosOrLocalPasswd yes\n",
      "#KerberosTicketCleanup yes\n",
      "#KerberosGetAFSToken no\n",
      "\n",
      "# GSSAPI options\n",
      "#GSSAPIAuthentication no\n",
      "#GSSAPICleanupCredentials yes\n",
      "#GSSAPIStrictAcceptorCheck yes\n",
      "#GSSAPIKeyExchange no\n",
      "\n",
      "# Set this to 'yes' to enable PAM authentication, account processing,\n",
      "# and session processing. If this is enabled, PAM authentication will\n",
      "# be allowed through the ChallengeResponseAuthentication and\n",
      "# PasswordAuthentication.  Depending on your PAM configuration,\n",
      "# PAM authentication via ChallengeResponseAuthentication may bypass\n",
      "# the setting of \"PermitRootLogin without-password\".\n",
      "# If you just want the PAM account and session checks to run without\n",
      "# PAM authentication, then enable this but set PasswordAuthentication\n",
      "# and ChallengeResponseAuthentication to 'no'.\n",
      "UsePAM yes\n",
      "\n",
      "#AllowAgentForwarding yes\n",
      "#AllowTcpForwarding yes\n",
      "#GatewayPorts no\n",
      "X11Forwarding yes\n",
      "#X11DisplayOffset 10\n",
      "#X11UseLocalhost yes\n",
      "#PermitTTY yes\n",
      "PrintMotd no\n",
      "#PrintLastLog yes\n",
      "#TCPKeepAlive yes\n",
      "#PermitUserEnvironment no\n",
      "#Compression delayed\n",
      "#ClientAliveInterval 0\n",
      "#ClientAliveCountMax 3\n",
      "#UseDNS no\n",
      "#PidFile /var/run/sshd.pid\n",
      "#MaxStartups 10:30:100\n",
      "#PermitTunnel no\n",
      "#ChrootDirectory none\n",
      "#VersionAddendum none\n",
      "\n",
      "# no default banner path\n",
      "#Banner none\n",
      "\n",
      "# Allow client to pass locale environment variables\n",
      "AcceptEnv LANG LC_*\n",
      "\n",
      "# override default of no subsystems\n",
      "Subsystem\tsftp\t/usr/lib/openssh/sftp-server\n",
      "\n",
      "# Example of overriding settings on a per-user basis\n",
      "#Match User anoncvs\n",
      "#\tX11Forwarding no\n",
      "#\tAllowTcpForwarding no\n",
      "#\tPermitTTY no\n",
      "#\tForceCommand cvs server\n"
     ]
    }
   ],
   "source": [
    "!cat /etc/ssh/sshd_config"
   ]
  },
  {
   "attachments": {},
   "cell_type": "markdown",
   "metadata": {},
   "source": [
    "Con este archivo podemos cambiar la configuración de cómo funciona `SSH` en nuestro ordenador. Por ejemplo podemos ver una linea comentada que pone\n",
    "\n",
    "``` bash\n",
    "#Port 22\n",
    "```\n",
    "\n",
    "Si la descomentamos y cambiamos el número `SSH` dejará de ir por el puerto 22, que es su puerto por defecto, e ira por el número de puerto que ahí se especifique. "
   ]
  },
  {
   "attachments": {},
   "cell_type": "markdown",
   "metadata": {},
   "source": [
    "## Copia de archivos por `SSH`"
   ]
  },
  {
   "attachments": {},
   "cell_type": "markdown",
   "metadata": {},
   "source": [
    "Podemos copiar archivos por `SSH` mediante el comando `scp` (secure copy), para ello la sintaxis es \n",
    "\n",
    "``` bash\n",
    "scp <path local file> <user>@<IP>:<path to save>\n",
    "```\n",
    "\n",
    "o\n",
    "\n",
    "``` bash\n",
    "scp <user>@<ip>:<path to remote file> <path to save>\n",
    "```\n",
    "\n",
    "De la primera forma se copia un archivo de nuestro ordenador a otro y de la segunda de otro al nuestro"
   ]
  },
  {
   "attachments": {},
   "cell_type": "markdown",
   "metadata": {},
   "source": [
    "Por ejemplo hagamos un `ls` del `server1`"
   ]
  },
  {
   "cell_type": "code",
   "execution_count": 35,
   "metadata": {},
   "outputs": [
    {
     "name": "stdout",
     "output_type": "stream",
     "text": [
      "snap\n",
      "Connection to 194.62.99.222 closed.\n"
     ]
    }
   ],
   "source": [
    "!ssh -t server1 \"ls\""
   ]
  },
  {
   "attachments": {},
   "cell_type": "markdown",
   "metadata": {},
   "source": [
    "Veamos ahora qué tenemos en local que le podamos pasar"
   ]
  },
  {
   "cell_type": "code",
   "execution_count": 33,
   "metadata": {},
   "outputs": [
    {
     "name": "stdout",
     "output_type": "stream",
     "text": [
      " 2021-02-11-Introduccion-a-Python.ipynb         html_files\n",
      " 2021-04-23-Calculo-matricial-con-Numpy.ipynb   html.ipynb\n",
      " 2021-06-15-Manejo-de-datos-con-Pandas.ipynb    introduccion_python\n",
      " 2022-09-12-Introduccion-a-la-terminal.ipynb    mi_paquete_de_python\n",
      " 2023-01-22-Docker.ipynb\t\t        movies.csv\n",
      " 2023-02-01-Bash-scripting.ipynb\t        movies.dat\n",
      " 2023-02-04-Blip-2.ipynb\t\t        notebooks_translated\n",
      " 2023-XX-XX-SSH.ipynb\t\t\t        __pycache__\n",
      " california_housing_train.csv\t\t        scripts_bash\n",
      " command-line-cheat-sheet.pdf\t\t        ssh.ipynb\n",
      " CSS.ipynb\t\t\t\t        test.ipynb\n",
      "'Expresiones regulares.ipynb'\n"
     ]
    }
   ],
   "source": [
    "!ls"
   ]
  },
  {
   "attachments": {},
   "cell_type": "markdown",
   "metadata": {},
   "source": [
    "Vamos a mandarle al servidor el archivo `html.ipynb` ya que ocupa poco"
   ]
  },
  {
   "cell_type": "code",
   "execution_count": 36,
   "metadata": {},
   "outputs": [
    {
     "name": "stdout",
     "output_type": "stream",
     "text": [
      "html.ipynb                                    100%   14KB 229.0KB/s   00:00    \n"
     ]
    }
   ],
   "source": [
    "!scp html.ipynb server1:/root/"
   ]
  },
  {
   "attachments": {},
   "cell_type": "markdown",
   "metadata": {},
   "source": [
    "Volvemos a ver qué hay dentro de `server1`"
   ]
  },
  {
   "cell_type": "code",
   "execution_count": 38,
   "metadata": {},
   "outputs": [
    {
     "name": "stdout",
     "output_type": "stream",
     "text": [
      "html.ipynb  snap\n",
      "Connection to 194.62.99.222 closed.\n"
     ]
    }
   ],
   "source": [
    "!ssh -t server1 \"ls\""
   ]
  },
  {
   "attachments": {},
   "cell_type": "markdown",
   "metadata": {},
   "source": [
    "Se ha copiado"
   ]
  },
  {
   "attachments": {},
   "cell_type": "markdown",
   "metadata": {},
   "source": [
    "## Sincroniazción de archivos por `SSH`"
   ]
  },
  {
   "attachments": {},
   "cell_type": "markdown",
   "metadata": {},
   "source": [
    "Lo malo del comando `scp` es que si en medio de la copia pasa algo y no se termina de copiar el archivo, cuando se vuelva a intentar hay que empezar desde cero, esto sobre todo es un problema con archivos muy pesados"
   ]
  },
  {
   "attachments": {},
   "cell_type": "markdown",
   "metadata": {},
   "source": [
    "Para solucionar esto se puede usar `rsync`, la sintaxis es\n",
    "\n",
    "``` bash\n",
    "rsync --partial --progress --rsh=ssh <path local file> <user>@<IP>:<path to save>\n",
    "```\n",
    "\n",
    "o\n",
    "\n",
    "``` bash\n",
    "rsync --partial --progress --rsh=ssh <user>@<ip>:<path to remote file> <path to save>\n",
    "```\n",
    "\n",
    "Al igual que antes, de la primera forma se copia un archivo de nuestro ordenador a otro y de la segunda de otro al nuestro. El flag `--partial` es para indicar que se guarden archivos parcialmente copiados, es decir, que si se para la copia antes de que termine, que lo que se haya copiado se mantenga. El flag `--progress` es para indicar que muestre el progreso de la copia. El flag `--rsh=ssh` es para indicar que la transferencia de archivos se haga por `SSH`"
   ]
  },
  {
   "attachments": {},
   "cell_type": "markdown",
   "metadata": {},
   "source": [
    "Pasamos un archivo"
   ]
  },
  {
   "cell_type": "code",
   "execution_count": 39,
   "metadata": {},
   "outputs": [
    {
     "name": "stdout",
     "output_type": "stream",
     "text": [
      "sending incremental file list\n",
      "2021-06-15-Manejo-de-datos-con-Pandas.ipynb\n",
      "        608.34K 100%  197.78MB/s    0:00:00 (xfr#1, to-chk=0/1)\n"
     ]
    }
   ],
   "source": [
    "!rsync --partial --progress -rsh=ssh 2021-06-15-Manejo-de-datos-con-Pandas.ipynb  server1:/root/"
   ]
  },
  {
   "attachments": {},
   "cell_type": "markdown",
   "metadata": {},
   "source": [
    "Y vemos si se ha copiado"
   ]
  },
  {
   "cell_type": "code",
   "execution_count": 40,
   "metadata": {},
   "outputs": [
    {
     "name": "stdout",
     "output_type": "stream",
     "text": [
      "2021-06-15-Manejo-de-datos-con-Pandas.ipynb  html.ipynb  snap\n",
      "Connection to 194.62.99.222 closed.\n"
     ]
    }
   ],
   "source": [
    "!ssh -t server1 \"ls\""
   ]
  },
  {
   "attachments": {},
   "cell_type": "markdown",
   "metadata": {},
   "source": [
    "## Montar carpetas remotas en local"
   ]
  },
  {
   "attachments": {},
   "cell_type": "markdown",
   "metadata": {},
   "source": [
    "En el caso que queramos tener una carpeta de otra máquina como si estuviese en nuestro ordenador tenemos que uasr `sshfs`\n",
    "\n",
    "Primero es necesario instalarlo mediante \n",
    "\n",
    "``` bash\n",
    "sudo apt install sshfs\n",
    "```\n",
    "\n",
    "Y una vez esté instalado se usa con la sintaxis\n",
    "\n",
    "``` bash\n",
    "sshfs <user>@<ip>:<remote path> <local path to mount>\n",
    "```"
   ]
  },
  {
   "attachments": {},
   "cell_type": "markdown",
   "metadata": {},
   "source": [
    "Vamos a montar la carpeta `/root` del `server1`, pero para ello primero vamos a crear una carpeta en la que lo vamos a montar"
   ]
  },
  {
   "cell_type": "code",
   "execution_count": 41,
   "metadata": {},
   "outputs": [],
   "source": [
    "!mkdir server1folder"
   ]
  },
  {
   "attachments": {},
   "cell_type": "markdown",
   "metadata": {},
   "source": [
    "Vemos que dentro de la carpeta que hemos montado no hay nada"
   ]
  },
  {
   "cell_type": "code",
   "execution_count": 42,
   "metadata": {},
   "outputs": [],
   "source": [
    "!ls server1folder"
   ]
  },
  {
   "attachments": {},
   "cell_type": "markdown",
   "metadata": {},
   "source": [
    "Ahora montamos la carpeta del servidor"
   ]
  },
  {
   "attachments": {},
   "cell_type": "markdown",
   "metadata": {},
   "source": [
    "``` bash\n",
    "!sshfs server1:/root/ server1folder\n",
    "```"
   ]
  },
  {
   "attachments": {},
   "cell_type": "markdown",
   "metadata": {},
   "source": [
    "Volvemos a ver qué hay dentro"
   ]
  },
  {
   "cell_type": "code",
   "execution_count": 47,
   "metadata": {},
   "outputs": [
    {
     "name": "stdout",
     "output_type": "stream",
     "text": [
      "2021-06-15-Manejo-de-datos-con-Pandas.ipynb  html.ipynb  snap\n"
     ]
    }
   ],
   "source": [
    "!ls server1folder"
   ]
  },
  {
   "attachments": {},
   "cell_type": "markdown",
   "metadata": {},
   "source": [
    "Cuando ya no queramos tener más la carpeta montada la podemos desmontar mediante `fusermount -u server1folder`"
   ]
  },
  {
   "attachments": {},
   "cell_type": "markdown",
   "metadata": {},
   "source": [
    "``` bash\n",
    "!fusermount -u server1folder\n",
    "```"
   ]
  },
  {
   "attachments": {},
   "cell_type": "markdown",
   "metadata": {},
   "source": [
    "Volvemos a mirar qué hay dentro para ver que no hay nada"
   ]
  },
  {
   "cell_type": "code",
   "execution_count": 48,
   "metadata": {},
   "outputs": [],
   "source": [
    "!ls server1folder"
   ]
  },
  {
   "attachments": {},
   "cell_type": "markdown",
   "metadata": {},
   "source": [
    "## Depurar la conexión `SSH`"
   ]
  },
  {
   "attachments": {},
   "cell_type": "markdown",
   "metadata": {},
   "source": [
    "Podemos depurar la conexión `SSH` añadiendo desde `-v`, hasta `-vvvv` a la conexión, cuantas más `v`s pongamos mayor nivel de información"
   ]
  },
  {
   "cell_type": "code",
   "execution_count": 49,
   "metadata": {},
   "outputs": [
    {
     "name": "stdout",
     "output_type": "stream",
     "text": [
      "OpenSSH_8.2p1 Ubuntu-4ubuntu0.5, OpenSSL 1.1.1f  31 Mar 2020\n",
      "debug1: Reading configuration data /home/wallabot/.ssh/config\n",
      "debug1: /home/wallabot/.ssh/config line 6: Applying options for server1\n",
      "debug1: Reading configuration data /etc/ssh/ssh_config\n",
      "debug1: /etc/ssh/ssh_config line 19: include /etc/ssh/ssh_config.d/*.conf matched no files\n",
      "debug1: /etc/ssh/ssh_config line 21: Applying options for *\n",
      "debug1: Connecting to 194.62.99.222 [194.62.99.222] port 22.\n",
      "debug1: Connection established.\n",
      "debug1: identity file /home/wallabot/.ssh/id_rsa type 0\n",
      "debug1: identity file /home/wallabot/.ssh/id_rsa-cert type -1\n",
      "debug1: identity file /home/wallabot/.ssh/id_dsa type -1\n",
      "debug1: identity file /home/wallabot/.ssh/id_dsa-cert type -1\n",
      "debug1: identity file /home/wallabot/.ssh/id_ecdsa type -1\n",
      "debug1: identity file /home/wallabot/.ssh/id_ecdsa-cert type -1\n",
      "debug1: identity file /home/wallabot/.ssh/id_ecdsa_sk type -1\n",
      "debug1: identity file /home/wallabot/.ssh/id_ecdsa_sk-cert type -1\n",
      "debug1: identity file /home/wallabot/.ssh/id_ed25519 type -1\n",
      "debug1: identity file /home/wallabot/.ssh/id_ed25519-cert type -1\n",
      "debug1: identity file /home/wallabot/.ssh/id_ed25519_sk type -1\n",
      "debug1: identity file /home/wallabot/.ssh/id_ed25519_sk-cert type -1\n",
      "debug1: identity file /home/wallabot/.ssh/id_xmss type -1\n",
      "debug1: identity file /home/wallabot/.ssh/id_xmss-cert type -1\n",
      "debug1: Local version string SSH-2.0-OpenSSH_8.2p1 Ubuntu-4ubuntu0.5\n",
      "debug1: Remote protocol version 2.0, remote software version OpenSSH_8.9p1 Ubuntu-3\n",
      "debug1: match: OpenSSH_8.9p1 Ubuntu-3 pat OpenSSH* compat 0x04000000\n",
      "debug1: Authenticating to 194.62.99.222:22 as 'root'\n",
      "debug1: SSH2_MSG_KEXINIT sent\n",
      "debug1: SSH2_MSG_KEXINIT received\n",
      "debug1: kex: algorithm: curve25519-sha256\n",
      "debug1: kex: host key algorithm: ecdsa-sha2-nistp256\n",
      "debug1: kex: server->client cipher: chacha20-poly1305@openssh.com MAC: <implicit> compression: none\n",
      "debug1: kex: client->server cipher: chacha20-poly1305@openssh.com MAC: <implicit> compression: none\n",
      "debug1: expecting SSH2_MSG_KEX_ECDH_REPLY\n",
      "debug1: Server host key: ecdsa-sha2-nistp256 SHA256:jwpQt2a69LQcuvvYPPKL32bBwTi1Je/ZmUdr4zEiD1Y\n",
      "debug1: Host '194.62.99.222' is known and matches the ECDSA host key.\n",
      "debug1: Found key in /home/wallabot/.ssh/known_hosts:14\n",
      "debug1: rekey out after 134217728 blocks\n",
      "debug1: SSH2_MSG_NEWKEYS sent\n",
      "debug1: expecting SSH2_MSG_NEWKEYS\n",
      "debug1: SSH2_MSG_NEWKEYS received\n",
      "debug1: rekey in after 134217728 blocks\n",
      "debug1: Will attempt key: /home/wallabot/.ssh/id_rsa RSA SHA256:ID3HcrbyPBGjFx/qeiJK50eqihLGrpDVu02oRSyKGh4 agent\n",
      "debug1: Will attempt key: wallabot@wallabot RSA SHA256:Qlq6hXbToInW+efEK666BFT26EeUSpBhzcqxTLrDBpQ agent\n",
      "debug1: Will attempt key: /home/wallabot/.ssh/id_dsa \n",
      "debug1: Will attempt key: /home/wallabot/.ssh/id_ecdsa \n",
      "debug1: Will attempt key: /home/wallabot/.ssh/id_ecdsa_sk \n",
      "debug1: Will attempt key: /home/wallabot/.ssh/id_ed25519 \n",
      "debug1: Will attempt key: /home/wallabot/.ssh/id_ed25519_sk \n",
      "debug1: Will attempt key: /home/wallabot/.ssh/id_xmss \n",
      "debug1: SSH2_MSG_EXT_INFO received\n",
      "debug1: kex_input_ext_info: server-sig-algs=<ssh-ed25519,sk-ssh-ed25519@openssh.com,ssh-rsa,rsa-sha2-256,rsa-sha2-512,ssh-dss,ecdsa-sha2-nistp256,ecdsa-sha2-nistp384,ecdsa-sha2-nistp521,sk-ecdsa-sha2-nistp256@openssh.com,webauthn-sk-ecdsa-sha2-nistp256@openssh.com>\n",
      "debug1: kex_input_ext_info: publickey-hostbound@openssh.com (unrecognised)\n",
      "debug1: SSH2_MSG_SERVICE_ACCEPT received\n",
      "debug1: Authentications that can continue: publickey\n",
      "debug1: Next authentication method: publickey\n",
      "debug1: Offering public key: /home/wallabot/.ssh/id_rsa RSA SHA256:ID3HcrbyPBGjFx/qeiJK50eqihLGrpDVu02oRSyKGh4 agent\n",
      "debug1: Authentications that can continue: publickey\n",
      "debug1: Offering public key: wallabot@wallabot RSA SHA256:Qlq6hXbToInW+efEK666BFT26EeUSpBhzcqxTLrDBpQ agent\n",
      "debug1: Server accepts key: wallabot@wallabot RSA SHA256:Qlq6hXbToInW+efEK666BFT26EeUSpBhzcqxTLrDBpQ agent\n",
      "debug1: Authentication succeeded (publickey).\n",
      "Authenticated to 194.62.99.222 ([194.62.99.222]:22).\n",
      "debug1: channel 0: new [client-session]\n",
      "debug1: Requesting no-more-sessions@openssh.com\n",
      "debug1: Entering interactive session.\n",
      "debug1: pledge: network\n",
      "debug1: client_input_global_request: rtype hostkeys-00@openssh.com want_reply 0\n",
      "debug1: Remote: /root/.ssh/authorized_keys:1: key options: agent-forwarding port-forwarding pty user-rc x11-forwarding\n",
      "debug1: Remote: /root/.ssh/authorized_keys:1: key options: agent-forwarding port-forwarding pty user-rc x11-forwarding\n",
      "debug1: Sending environment.\n",
      "debug1: Sending env LANG = es_ES.UTF-8\n",
      "Welcome to Ubuntu 22.04.1 LTS (GNU/Linux 5.15.0-60-generic x86_64)\n",
      "\n",
      " * Documentation:  https://help.ubuntu.com\n",
      " * Management:     https://landscape.canonical.com\n",
      " * Support:        https://ubuntu.com/advantage\n",
      "\n",
      "  System information as of Fri Feb 24 01:25:10 PM UTC 2023\n",
      "\n",
      "  System load:           0.0\n",
      "  Usage of /:            15.2% of 24.53GB\n",
      "  Memory usage:          34%\n",
      "  Swap usage:            0%\n",
      "  Processes:             89\n",
      "  Users logged in:       0\n",
      "  IPv4 address for eth0: 194.62.99.222\n",
      "  IPv4 address for eth1: 10.7.0.168\n",
      "  IPv6 address for eth2: 2a04:3542:8000:1000:d48a:cbff:fefb:5b1\n",
      "\n",
      " * Strictly confined Kubernetes makes edge and IoT secure. Learn how MicroK8s\n",
      "   just raised the bar for easy, resilient and secure K8s cluster deployment.\n",
      "\n",
      "   https://ubuntu.com/engage/secure-kubernetes-at-the-edge\n",
      "\n",
      "43 updates can be applied immediately.\n",
      "To see these additional updates run: apt list --upgradable\n",
      "\n",
      "\n",
      "Last login: Fri Feb 24 13:10:05 2023 from 188.127.184.59\n",
      "\u001b[?2004h\u001b]0;root@server1: ~\u0007\u001b[01;32mroot@server1\u001b[00m:\u001b[01;34m~\u001b[00m# ^C\u001b[?2004l\n",
      "\u001b[?2004l\n",
      "\u001b[?2004h\u001b]0;root@server1: ~\u0007\u001b[01;32mroot@server1\u001b[00m:\u001b[01;34m~\u001b[00m# "
     ]
    }
   ],
   "source": [
    "!ssh -v server1"
   ]
  }
 ],
 "metadata": {
  "kernelspec": {
   "display_name": "base",
   "language": "python",
   "name": "python3"
  },
  "language_info": {
   "codemirror_mode": {
    "name": "ipython",
    "version": 3
   },
   "file_extension": ".py",
   "mimetype": "text/x-python",
   "name": "python",
   "nbconvert_exporter": "python",
   "pygments_lexer": "ipython3",
   "version": "3.7.6"
  },
  "orig_nbformat": 4,
  "vscode": {
   "interpreter": {
    "hash": "d5745ab6aba164e1152437c779991855725055592b9f2bdb41a4825db7168d26"
   }
  }
 },
 "nbformat": 4,
 "nbformat_minor": 2
}
