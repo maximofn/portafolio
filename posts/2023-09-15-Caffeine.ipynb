{
 "cells": [
  {
   "attachments": {},
   "cell_type": "markdown",
   "metadata": {},
   "source": [
    "# Caffeine"
   ]
  },
  {
   "cell_type": "markdown",
   "metadata": {},
   "source": [
    "Caffeine es un software para evitar que a nuestro linux se le bloquee la pantalla y después se duerma, para ello le daremos cafeína"
   ]
  },
  {
   "cell_type": "markdown",
   "metadata": {},
   "source": [
    "## Instalación"
   ]
  },
  {
   "cell_type": "markdown",
   "metadata": {},
   "source": [
    "La instalación es muy sencilla, solo tenemos que hacer\n",
    "\n",
    "``` bash\n",
    "sudo apt update\n",
    "sudo apt install caffeine\n",
    "```"
   ]
  },
  {
   "cell_type": "markdown",
   "metadata": {},
   "source": [
    "## Cafeína infinita"
   ]
  },
  {
   "cell_type": "markdown",
   "metadata": {},
   "source": [
    "Si pulsamos el botón de `windows` del teclado, y escribimos `caffeine-indicator` nos aparecerá la opción de iniciar el indicador del software\n",
    "\n",
    "![caffeine-indicator-executable](https://maximofn.com/wp-content/uploads/2023/09/caffeine-indicator-executable.png)"
   ]
  },
  {
   "cell_type": "markdown",
   "metadata": {},
   "source": [
    "Si lo ejecutamos aparecerá un indicador del sofware en la barra superior de ubuntu\n",
    "\n",
    "![caffeine-indicator](https://maximofn.com/wp-content/uploads/2023/09/caffeine-indicator.png)"
   ]
  },
  {
   "cell_type": "markdown",
   "metadata": {},
   "source": [
    "Si pinchamos sobre el indicador aparecerá un menú\n",
    "\n",
    "![caffeine-indicator-menu](https://maximofn.com/wp-content/uploads/2023/09/caffeine-indicator-menu.png)"
   ]
  },
  {
   "cell_type": "markdown",
   "metadata": {},
   "source": [
    "Ahora podemos darle a `Activate` de manera que nuestro Ubuntu tendrá cafeína infinita y nunca se dormirá\n",
    "\n",
    "![caffeine-indicator-on](https://maximofn.com/wp-content/uploads/2023/09/caffeine-indicator-on.png)"
   ]
  },
  {
   "cell_type": "markdown",
   "metadata": {},
   "source": [
    "## Cafeína para un comando"
   ]
  },
  {
   "cell_type": "markdown",
   "metadata": {},
   "source": [
    "Una cosa que me pasa, es que cuando entreno una red neuronal, me gusta dejar la evaluación del modelo a la vista, aunque ni esté en el ordenador. Pero si ese entrenamiento dura horas, en algún momento se activa el protector de pantalla y ya no se ve la evolución del entrenamiento, así que para arreglar eso tenemos `caffeinate` por lo que haciendo \n",
    "\n",
    "``` bash\n",
    "caffeinate COMMAND\n",
    "```\n",
    "\n",
    "Haremos que nuestro ordenador tenga cafeína y no se duerma mientras se ejecuta el comando `COMMAND`"
   ]
  }
 ],
 "metadata": {
  "kernelspec": {
   "display_name": "base",
   "language": "python",
   "name": "python3"
  },
  "language_info": {
   "codemirror_mode": {
    "name": "ipython",
    "version": 3
   },
   "file_extension": ".py",
   "mimetype": "text/x-python",
   "name": "python",
   "nbconvert_exporter": "python",
   "pygments_lexer": "ipython3",
   "version": "3.10.9"
  },
  "maximofn": {
      "date": "2023-09-15",
      "description_es": "🚀 ¡Despierta, Ubuntu! ☕ Con Caffeine para Linux, dile adiós a esos molestos modos de suspensión justo cuando menos lo esperas. ¿Maratón de trabajo? ¿Descarga eterna? Caffeine está aquí para mantener tu máquina en marcha. Esta chulada se integra a la perfección con tu entorno Ubuntu y es pan comido usarla. Descubre más sobre cómo instalar y usar Caffeine en nuestro post. ¡Te prometemos que tu computadora no se dormirá mientras lees!",
      "description_en": "🚀 Wake up, Ubuntu! ☕ With Caffeine for Linux, say goodbye to those annoying sleep modes just when you least expect it. Work marathon? Eternal download? Caffeine is here to keep your machine up and running. This cool thing integrates seamlessly with your Ubuntu environment and is a breeze to use. Find out more about how to install and use Caffeine in our post - we promise your computer won't fall asleep while you read!",
      "description_pt": "🚀 Acorde, Ubuntu! ☕ Com o Caffeine para Linux, diga adeus àqueles modos de suspensão irritantes quando você menos espera. Maratona de trabalho? Download eterno? O Caffeine está aqui para manter sua máquina em funcionamento. Essa coisa legal se integra perfeitamente ao seu ambiente Ubuntu e é muito fácil de usar. Saiba mais sobre como instalar e usar o Caffeine em nossa postagem - prometemos que seu computador não cairá no sono enquanto você lê!",
      "end_url": "caffeine",
      "image": "https://pub-fb664c455eca46a2ba762a065ac900f7.r2.dev/caffeine_shots_so.webp",
      "keywords_en": "caffeine, linux, ubuntu, software, caffeine-indicator, caffeine-infinita, caffeine-command",
      "keywords_es": "caffeine, linux, ubuntu, software, caffeine-indicator, caffeine-infinita, caffeine-command",
      "keywords_pt": "caffeine, linux, ubuntu, software, caffeine-indicator, caffeine-infinita, caffeine-command",
      "title_en": "Caffeine",
      "title_es": "Caffeine",
      "title_pt": "Caffeine"
    },
    "orig_nbformat": 4
 },
 "nbformat": 4,
 "nbformat_minor": 2
}
