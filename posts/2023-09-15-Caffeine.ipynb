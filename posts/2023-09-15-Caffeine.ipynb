{
 "cells": [
  {
   "attachments": {},
   "cell_type": "markdown",
   "metadata": {},
   "source": [
    "# Caffeine"
   ]
  },
  {
   "cell_type": "markdown",
   "metadata": {},
   "source": [
    "Caffeine es un software para evitar que a nuestro linux se le bloquee la pantalla y después se duerma, para ello le daremos cafeína"
   ]
  },
  {
   "cell_type": "markdown",
   "metadata": {},
   "source": [
    "## Instalación"
   ]
  },
  {
   "cell_type": "markdown",
   "metadata": {},
   "source": [
    "La instalación es muy sencilla, solo tenemos que hacer\n",
    "\n",
    "``` bash\n",
    "sudo apt update\n",
    "sudo apt install caffeine\n",
    "```"
   ]
  },
  {
   "cell_type": "markdown",
   "metadata": {},
   "source": [
    "## Cafeína infinita"
   ]
  },
  {
   "cell_type": "markdown",
   "metadata": {},
   "source": [
    "Si pulsamos el botón de `windows` del teclado, y escribimos `caffeine-indicator` nos aparecerá la opción de iniciar el indicador del software\n",
    "\n",
    "![caffeine-indicator-executable](https://maximofn.com/wp-content/uploads/2023/09/caffeine-indicator-executable.png)"
   ]
  },
  {
   "cell_type": "markdown",
   "metadata": {},
   "source": [
    "Si lo ejecutamos aparecerá un indicador del sofware en la barra superior de ubuntu\n",
    "\n",
    "![caffeine-indicator](https://maximofn.com/wp-content/uploads/2023/09/caffeine-indicator.png)"
   ]
  },
  {
   "cell_type": "markdown",
   "metadata": {},
   "source": [
    "Si pinchamos sobre el indicador aparecerá un menú\n",
    "\n",
    "![caffeine-indicator-menu](https://maximofn.com/wp-content/uploads/2023/09/caffeine-indicator-menu.png)"
   ]
  },
  {
   "cell_type": "markdown",
   "metadata": {},
   "source": [
    "Ahora podemos darle a `Activate` de manera que nuestro Ubuntu tendrá cafeína infinita y nunca se dormirá\n",
    "\n",
    "![caffeine-indicator-on](https://maximofn.com/wp-content/uploads/2023/09/caffeine-indicator-on.png)"
   ]
  },
  {
   "cell_type": "markdown",
   "metadata": {},
   "source": [
    "## Cafeína para un comando"
   ]
  },
  {
   "cell_type": "markdown",
   "metadata": {},
   "source": [
    "Una cosa que me pasa, es que cuando entreno una red neuronal, me gusta dejar la evaluación del modelo a la vista, aunque ni esté en el ordenador. Pero si ese entrenamiento dura horas, en algún momento se activa el protector de pantalla y ya no se ve la evolución del entrenamiento, así que para arreglar eso tenemos `caffeinate` por lo que haciendo \n",
    "\n",
    "``` bash\n",
    "caffeinate COMMAND\n",
    "```\n",
    "\n",
    "Haremos que nuestro ordenador tenga cafeína y no se duerma mientras se ejecuta el comando `COMMAND`"
   ]
  }
 ],
 "metadata": {
  "kernelspec": {
   "display_name": "base",
   "language": "python",
   "name": "python3"
  },
  "language_info": {
   "codemirror_mode": {
    "name": "ipython",
    "version": 3
   },
   "file_extension": ".py",
   "mimetype": "text/x-python",
   "name": "python",
   "nbconvert_exporter": "python",
   "pygments_lexer": "ipython3",
   "version": "3.10.9"
  },
  "orig_nbformat": 4
 },
 "nbformat": 4,
 "nbformat_minor": 2
}
