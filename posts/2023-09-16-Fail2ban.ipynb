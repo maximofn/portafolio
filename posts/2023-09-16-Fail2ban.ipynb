{
  "cells": [
    {
      "attachments": {},
      "cell_type": "markdown",
      "metadata": {},
      "source": [
        "# Fail2ban"
      ]
    },
    {
      "cell_type": "markdown",
      "metadata": {},
      "source": [
        "Con Fail2ban podemos bloquear IPs que quieran conectarse a un dispositivo nuestro, aqu\u00ed voy a explicar c\u00f3mo configurar el bloqueo cuando intentan conectarse por ssh"
      ]
    },
    {
      "cell_type": "markdown",
      "metadata": {},
      "source": [
        "## Instalaci\u00f3n"
      ]
    },
    {
      "cell_type": "markdown",
      "metadata": {},
      "source": [
        "La instalaci\u00f3n es muy sencilla, solo tenemos que hacer\n",
        "\n",
        "``` bash\n",
        "sudo apt update\n",
        "sudo apt install fail2ban\n",
        "```"
      ]
    },
    {
      "cell_type": "markdown",
      "metadata": {},
      "source": [
        "## Archivo de configuraci\u00f3n"
      ]
    },
    {
      "cell_type": "markdown",
      "metadata": {},
      "source": [
        "Una vez instalado, modificamos el archivo de configuraci\u00f3n haciendo",
        "\n",
        "``` bash\n",
        "sudo nano /etc/fail2ban/jail.conf\n",
        "```"
      ]
    },
    {
      "cell_type": "markdown",
      "metadata": {},
      "source": [
        "Bajamos hasta la parte donde est\u00e1 `[sshd]`, en mi caso lo he dejado as\u00ed\n",
        "\n",
        "``` bash\n",
        "[sshd]\n",
        "bantime  = 172800    \n",
        "port     = ssh\n",
        "logpath  = %(sshd_log)s\n",
        "backend  = %(sshd_backend)s\n",
        "maxretry = 3\n",
        "```\n",
        "\n",
        "Lo que hace es que si alguien hace 3 reintentos de conexi\u00f3n banee a esa IP durante 48 horas (172800 segundos)"
      ]
    },
    {
      "cell_type": "markdown",
      "metadata": {},
      "source": [
        "## Revisar los logs"
      ]
    },
    {
      "cell_type": "markdown",
      "metadata": {},
      "source": [
        "Podemos revisar mediante los logs si alguna IP ha sido bloqueada con\n",
        "\n",
        "``` bash\n",
        "cat /var/log/fail2ban.log\n",
        "```"
      ]
    }
  ],
  "metadata": {
    "kernelspec": {
      "display_name": "base",
      "language": "python",
      "name": "python3"
    },
    "language_info": {
      "codemirror_mode": {
        "name": "ipython",
        "version": 3
      },
      "file_extension": ".py",
      "mimetype": "text/x-python",
      "name": "python",
      "nbconvert_exporter": "python",
      "pygments_lexer": "ipython3",
      "version": "3.10.9"
    },
    "maximofn": {
      "date": "2023-09-16",
      "description_es": "\ud83d\udee1\ufe0f \ud83d\udcbb \u00a1Eleva tu juego en seguridad! Sum\u00e9rgete en este tutorial y descubre c\u00f3mo Fail2Ban te ayuda a parar en seco los ataques de fuerza bruta. De la instalaci\u00f3n a la configuraci\u00f3n, te tengo cubierto. #SeguridadAlM\u00e1ximo",
      "description_en": "\ud83d\udee1\ufe0f \ud83d\udcbb Raise your security game! Dive into this tutorial and find out how Fail2Ban helps you stop brute force attacks in their tracks. From installation to configuration, I've got you covered. #SecurityToTheMaximum",
      "description_pt": "\ud83d\udee1\ufe0f \ud83d\udcbb Aumente seu n\u00edvel de seguran\u00e7a! Mergulhe neste tutorial e descubra como o Fail2Ban o ajuda a impedir ataques de for\u00e7a bruta em seu caminho. Desde a instala\u00e7\u00e3o at\u00e9 a configura\u00e7\u00e3o, voc\u00ea ter\u00e1 tudo o que precisa. #SecurityToTheMax",
      "end_url": "fail2ban",
      "image": "https://pub-fb664c455eca46a2ba762a065ac900f7.r2.dev/fail2ban.webp",
      "image_hover_path": "https://pub-fb664c455eca46a2ba762a065ac900f7.r2.dev/fail2ban.webp",
      "keywords_en": "fail2ban, firewall, security, ssh, brute force, Linux",
      "keywords_es": "fail2ban, firewall, seguridad, ssh, fuerza bruta, Linux",
      "keywords_pt": "fail2ban, firewall, seguran\u00e7a, ssh, for\u00e7a bruta, Linux",
      "title_en": "Fail2ban",
      "title_es": "Fail2ban",
      "title_pt": "Fail2ban"
    },
    "orig_nbformat": 4
  },
  "nbformat": 4,
  "nbformat_minor": 2
}