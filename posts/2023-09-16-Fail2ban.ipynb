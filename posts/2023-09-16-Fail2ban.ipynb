{
 "cells": [
  {
   "attachments": {},
   "cell_type": "markdown",
   "metadata": {},
   "source": [
    "# Fail2ban"
   ]
  },
  {
   "cell_type": "markdown",
   "metadata": {},
   "source": [
    "Con Fail2ban podemos bloquear IPs que quieran conectarse a un dispositivo nuestro, aquí voy a explicar como configurar el bloqueo cuando intentan conectarse por ssh"
   ]
  },
  {
   "cell_type": "markdown",
   "metadata": {},
   "source": [
    "## Instalación"
   ]
  },
  {
   "cell_type": "markdown",
   "metadata": {},
   "source": [
    "La instalación es muy sencilla, solo tenemos que hacer\n",
    "\n",
    "``` bash\n",
    "sudo apt update\n",
    "sudo apt install fail2ban\n",
    "```"
   ]
  },
  {
   "cell_type": "markdown",
   "metadata": {},
   "source": [
    "## Archivo de configuración"
   ]
  },
  {
   "cell_type": "markdown",
   "metadata": {},
   "source": [
    "Una vez instalado modificamos el archivo de configuración haciendo \n",
    "\n",
    "``` bash\n",
    "sudo nano /etc/fail2ban/jail.conf\n",
    "```"
   ]
  },
  {
   "cell_type": "markdown",
   "metadata": {},
   "source": [
    "Bajamos hasta la parte donde está `[sshd]`, en mi caso lo he dejado así\n",
    "\n",
    "``` bash\n",
    "[sshd]\n",
    "bantime  = 172800    \n",
    "port     = ssh\n",
    "logpath  = %(sshd_log)s\n",
    "backend  = %(sshd_backend)s\n",
    "maxretry = 3\n",
    "```\n",
    "\n",
    "Que lo que hace es que si alguien hace 3 reintentos de conexión banee a esa IP durante 48 horas (172800 segundos)"
   ]
  },
  {
   "cell_type": "markdown",
   "metadata": {},
   "source": [
    "## Revisar los logs"
   ]
  },
  {
   "cell_type": "markdown",
   "metadata": {},
   "source": [
    "Podemos revisar mediante los logs si alguna IP ha sido bloqueada con\n",
    "\n",
    "``` bash\n",
    "cat /var/log/fail2ban.log\n",
    "```"
   ]
  }
 ],
 "metadata": {
  "kernelspec": {
   "display_name": "base",
   "language": "python",
   "name": "python3"
  },
  "language_info": {
   "codemirror_mode": {
    "name": "ipython",
    "version": 3
   },
   "file_extension": ".py",
   "mimetype": "text/x-python",
   "name": "python",
   "nbconvert_exporter": "python",
   "pygments_lexer": "ipython3",
   "version": "3.10.9"
  },
  "maximofn": {
      "date": "2023-09-16",
      "description_es": "🛡️ 💻 ¡Eleva tu juego en seguridad! Sumérgete en este tutorial y descubre cómo Fail2Ban te ayuda a parar en seco los ataques de fuerza bruta. De la instalación a la configuración, te tengo cubierto. #SeguridadAlMáximo",
      "description_en": "🛡️ 💻 Raise your security game! Dive into this tutorial and find out how Fail2Ban helps you stop brute force attacks in their tracks. From installation to configuration, I've got you covered. #SecurityToTheMaximum",
      "description_pt": "🛡️ 💻 Aumente seu nível de segurança! Mergulhe neste tutorial e descubra como o Fail2Ban o ajuda a impedir ataques de força bruta em seu caminho. Desde a instalação até a configuração, você terá tudo o que precisa. #SecurityToTheMax",
      "end_url": "fail2ban",
      "image": "https://pub-fb664c455eca46a2ba762a065ac900f7.r2.dev/fail2ban.webp",
      "keywords_en": "fail2ban, firewall, security, ssh, brute force, Linux",
      "keywords_es": "fail2ban, firewall, seguridad, ssh, fuerza bruta, Linux",
      "keywords_pt": "fail2ban, firewall, segurança, ssh, força bruta, Linux",
      "title_en": "Fail2bab",
      "title_es": "Fail2bab",
      "title_pt": "Fail2bab"
    },
    "orig_nbformat": 4
 },
 "nbformat": 4,
 "nbformat_minor": 2
}
