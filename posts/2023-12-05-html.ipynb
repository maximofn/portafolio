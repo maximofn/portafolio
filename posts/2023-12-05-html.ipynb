{
 "cells": [
  {
   "cell_type": "markdown",
   "metadata": {},
   "source": [
    "# HTML"
   ]
  },
  {
   "cell_type": "markdown",
   "metadata": {},
   "source": [
    "## Comentarios"
   ]
  },
  {
   "cell_type": "markdown",
   "metadata": {},
   "source": [
    "Para añadir un comentario a un `html`, se utiliza el siguiente código:"
   ]
  },
  {
   "cell_type": "code",
   "execution_count": null,
   "metadata": {
    "vscode": {
     "languageId": "plaintext"
    }
   },
   "outputs": [],
   "source": [
    "<!-- Comentario -->"
   ]
  },
  {
   "cell_type": "markdown",
   "metadata": {},
   "source": [
    "## Head"
   ]
  },
  {
   "cell_type": "markdown",
   "metadata": {},
   "source": [
    "El `html` tiene que empezar con una etiqueta `!DOCTYPE` que indica al navegador la versión de html, con poner html el navegador entiende que es la 5"
   ]
  },
  {
   "cell_type": "code",
   "execution_count": null,
   "metadata": {
    "vscode": {
     "languageId": "plaintext"
    }
   },
   "outputs": [],
   "source": [
    "<!DOCTYPE html>"
   ]
  },
  {
   "cell_type": "markdown",
   "metadata": {},
   "source": [
    "A continuación se tiene que poner un contenedor con la etiqueta `html` con un atributo llamado `lang` que indica el idioma con el que se ha escrito la página"
   ]
  },
  {
   "cell_type": "code",
   "execution_count": null,
   "metadata": {
    "vscode": {
     "languageId": "plaintext"
    }
   },
   "outputs": [],
   "source": [
    "<!DOCTYPE html>\n",
    "<html lang=\"es\">\n",
    "</html>"
   ]
  },
  {
   "cell_type": "markdown",
   "metadata": {},
   "source": [
    "Dentro se crean dos contenedores más, el de `head` y el de `body`"
   ]
  },
  {
   "cell_type": "code",
   "execution_count": null,
   "metadata": {
    "vscode": {
     "languageId": "plaintext"
    }
   },
   "outputs": [],
   "source": [
    "<!DOCTYPE html>\n",
    "<html lang=\"es\">\n",
    "    <head>\n",
    "    </head>\n",
    "    <body>\n",
    "    </body>\n",
    "</html>"
   ]
  },
  {
   "cell_type": "markdown",
   "metadata": {},
   "source": [
    "En el contenedor `head` va todo lo que el navegador necesita para poder cargar, mientras que en el body va todo lo que se va a ver en la página"
   ]
  },
  {
   "cell_type": "markdown",
   "metadata": {},
   "source": [
    "Una de las etiquetas del `head` es `meta` que lleva un atributo llamado `charset` que indica el tipo de codificación del texto, normalmente es `utf-8`, `utf-16`.\n",
    "\n",
    "Otro tipo de `meta` es el `name=\"description\"` que es una descripción para los navegadores. Es importante para el SEO.\n",
    "\n",
    "Otro tipo de meta es el `name=\"robots\"` que es para los robots de los buscadores e indica si se puede segui la página o no.\n",
    "\n",
    "Otro atributo del `head` es `title` que indica el título que se ve en la pestaña.\n",
    "\n",
    "Otro meta es `name=\"viewport\"` que es para el responsible design.\n",
    "\n",
    "Otra meta es `name=\"theme-color\"` que es para el color de la barra de navegación.\n",
    "\n",
    "Otra meta es el favicon que es el icono que se ve en la pestaña. Se escribe con la etiqueta `link` y el atributo `type` y `href=\"path\"`.\n",
    "\n",
    "Unas etiquetas muy importantes para el SEO son todas las relacionadas con `Open Graph` que son las que se ven cuando se comparte un enlace en las redes sociales. Para esto un página muy útil es [open graph](https://opengraph.xyz/), donde pones tu enlace y te dice cómo se vería en cada red social. Estas metas son\n",
    "\n",
    "`property=\"og:title\"` que es el título que se ve en las redes sociales.\n",
    "\n",
    "`property=\"og:description\"` que es la descripción que se ve en las redes sociales.\n",
    "\n",
    "`property=\"og:image\"` que es la imagen que se ve en las redes sociales.\n",
    "\n",
    "`property=\"og:image:alt\"` que es el texto alternativo de la imagen que se ve en las redes sociales.\n",
    "\n",
    "Hay una etiqueta para el `CSS` que es `link`\n",
    "\n",
    "En la página de [Open Graph](https://ogp.me/) se pueden ver todas las etiquetas que se pueden poner en el `head`.\n",
    "\n",
    "Otra etiqueta importante para el SEO es `link rel=\"alternate\"` que es para indicar que hay una versión alternativa de la página, por ejemplo en otro idioma.\n",
    "\n",
    "Otra etiqueta importante para el SEO es `link rel=\"canonical\"` que es para indicar que hay una versión canónica de la página, por ejemplo en otro idioma.\n",
    "\n",
    "Con las etiquetas `style` y `script` se puede escribir `CSS` y `JavaScript` en el `html`."
   ]
  },
  {
   "cell_type": "code",
   "execution_count": null,
   "metadata": {
    "vscode": {
     "languageId": "plaintext"
    }
   },
   "outputs": [],
   "source": [
    "<!DOCTYPE html>\n",
    "<html lang=\"es\">\n",
    "    <head>\n",
    "        <meta charset=\"utf-8\"/>\n",
    "        <meta name=\"description\" content=\"Descripción para los buscadores\"/>\n",
    "        <meta name=\"robots\" content=\"index,folow\"/>\n",
    "        <title>Título pestaña</title>\n",
    "        <meta name=\"viewport\" content=\"width=device-width\"/>\n",
    "        <meta name=\"theme-color\" content=\"#09f\"/>\n",
    "        <link rel=\"stulesheet\" href=\"path\"/>\n",
    "        <link rel=\"icon\" type=\"image/png\" href=\"path\"/>\n",
    "        <meta property=\"og:title\" content=\"Título para las redes sociales\"/>\n",
    "        <meta property=\"og:description\" content=\"Descripción para las redes sociales\"/>\n",
    "        <meta property=\"og:image\" content=\"path\"/>\n",
    "        <meta property=\"og:image:alt\" content=\"Texto alternativo para la imagen\"/>\n",
    "        <link rel=\"alternate\" href=\"path\" hreflang=\"en\"/>\n",
    "        <link rel=\"canonical\" href=\"path\"/>\n",
    "    </head>\n",
    "    <body>\n",
    "    </body>\n",
    "</html>"
   ]
  },
  {
   "cell_type": "markdown",
   "metadata": {},
   "source": [
    "## Body"
   ]
  },
  {
   "cell_type": "markdown",
   "metadata": {},
   "source": [
    "Hay etiquetas contenedoras que ayudan a crear una estructuran y llevan más etiquetas dentro. Y hay etiquetas contenedoras que son las que contienen el texto, imágenes, etc."
   ]
  },
  {
   "cell_type": "markdown",
   "metadata": {},
   "source": [
    "### Etiquetas contenedoras"
   ]
  },
  {
   "cell_type": "markdown",
   "metadata": {},
   "source": [
    "#### Header"
   ]
  },
  {
   "cell_type": "markdown",
   "metadata": {},
   "source": [
    "Esta es la etiqueta para describir el `header`"
   ]
  },
  {
   "cell_type": "code",
   "execution_count": null,
   "metadata": {
    "vscode": {
     "languageId": "plaintext"
    }
   },
   "outputs": [],
   "source": [
    "<!DOCTYPE html>\n",
    "<html lang=\"es\">\n",
    "    <head>\n",
    "        <meta charset=\"utf-8\"/>\n",
    "        <meta name=\"description\" content=\"Descripción para los buscadores\"/>\n",
    "        <meta name=\"robots\" content=\"index,folow\"/>\n",
    "        <title>Título pestaña</title>\n",
    "        <meta name=\"viewport\" content=\"width=device-width\"/>\n",
    "        <meta name=\"theme-color\" content=\"#09f\"/>\n",
    "        <link rel=\"stulesheet\" href=\"path\"/>\n",
    "        <link rel=\"icon\" type=\"image/png\" href=\"path\"/>\n",
    "        <meta property=\"og:title\" content=\"Título para las redes sociales\"/>\n",
    "        <meta property=\"og:description\" content=\"Descripción para las redes sociales\"/>\n",
    "        <meta property=\"og:image\" content=\"path\"/>\n",
    "        <meta property=\"og:image:alt\" content=\"Texto alternativo para la imagen\"/>\n",
    "        <link rel=\"alternate\" href=\"path\" hreflang=\"en\"/>\n",
    "        <link rel=\"canonical\" href=\"path\"/>\n",
    "    </head>\n",
    "    <body>\n",
    "        <header>\n",
    "            Header\n",
    "        </header>\n",
    "    </body>\n",
    "</html>"
   ]
  },
  {
   "cell_type": "markdown",
   "metadata": {},
   "source": [
    "##### Navegación"
   ]
  },
  {
   "cell_type": "markdown",
   "metadata": {},
   "source": [
    "Con la etiqueta `nav` se crea la navegación. Dentro de esta etiqueta se pueden poner enlaces con la etiqueta `a` y se puede poner un logo con la etiqueta `img`."
   ]
  },
  {
   "cell_type": "code",
   "execution_count": null,
   "metadata": {
    "vscode": {
     "languageId": "plaintext"
    }
   },
   "outputs": [],
   "source": [
    "<!DOCTYPE html>\n",
    "<html lang=\"es\">\n",
    "    <head>\n",
    "        <meta charset=\"utf-8\"/>\n",
    "        <meta name=\"description\" content=\"Descripción para los buscadores\"/>\n",
    "        <meta name=\"robots\" content=\"index,folow\"/>\n",
    "        <title>Título pestaña</title>\n",
    "        <meta name=\"viewport\" content=\"width=device-width\"/>\n",
    "        <meta name=\"theme-color\" content=\"#09f\"/>\n",
    "        <link rel=\"stulesheet\" href=\"path\"/>\n",
    "        <link rel=\"icon\" type=\"image/png\" href=\"path\"/>\n",
    "        <meta property=\"og:title\" content=\"Título para las redes sociales\"/>\n",
    "        <meta property=\"og:description\" content=\"Descripción para las redes sociales\"/>\n",
    "        <meta property=\"og:image\" content=\"path\"/>\n",
    "        <meta property=\"og:image:alt\" content=\"Texto alternativo para la imagen\"/>\n",
    "        <link rel=\"alternate\" href=\"path\" hreflang=\"en\"/>\n",
    "        <link rel=\"canonical\" href=\"path\"/>\n",
    "    </head>\n",
    "    <body>\n",
    "        <header>\n",
    "            <nav>\n",
    "                <a href=\"path\">Enlace</a>\n",
    "                <img src=\"path\" alt=\"Texto alternativo\"/>\n",
    "            </nav>\n",
    "        </header>\n",
    "    </body>\n",
    "</html>"
   ]
  },
  {
   "cell_type": "markdown",
   "metadata": {},
   "source": [
    "##### Enlaces"
   ]
  },
  {
   "cell_type": "markdown",
   "metadata": {},
   "source": [
    "Como en la navegación, los enlaces se crean con la etiqueta `a` y llevan un atributo `href=\"path\"` que indica el enlace al que lleva el enlace. También llevan un atributo `target=\"_blank\"` que indica que se abre en una nueva pestaña. Ademmás se puede poner el atributo `rel=\"noreferer\"` que indica que no se pasa información de la página de la que viene el enlace."
   ]
  },
  {
   "cell_type": "code",
   "execution_count": null,
   "metadata": {
    "vscode": {
     "languageId": "plaintext"
    }
   },
   "outputs": [],
   "source": [
    "<a href=\"path\" target=\"_blank\">Enlace</a>"
   ]
  },
  {
   "cell_type": "markdown",
   "metadata": {},
   "source": [
    "Si el enlace es un enlace a una sección de la página, se pone el atributo `href=\"#id\"`."
   ]
  },
  {
   "cell_type": "code",
   "execution_count": null,
   "metadata": {
    "vscode": {
     "languageId": "plaintext"
    }
   },
   "outputs": [],
   "source": [
    "<a href=\"#id\">Enlace</a>"
   ]
  },
  {
   "cell_type": "markdown",
   "metadata": {},
   "source": [
    "Por lo que en otra parte de la página se tiene que poner un contenedor con el atributo `id=\"id\"`."
   ]
  },
  {
   "cell_type": "code",
   "execution_count": null,
   "metadata": {
    "vscode": {
     "languageId": "plaintext"
    }
   },
   "outputs": [],
   "source": [
    "<div id=\"id\">\n",
    "</div>"
   ]
  },
  {
   "cell_type": "markdown",
   "metadata": {},
   "source": [
    "Si el enlace es un correo electrónico, se pone el atributo `href=\"mailto:email\"`."
   ]
  },
  {
   "cell_type": "code",
   "execution_count": null,
   "metadata": {
    "vscode": {
     "languageId": "plaintext"
    }
   },
   "outputs": [],
   "source": [
    "<a href=\"mailto:email\">Email</a>"
   ]
  },
  {
   "cell_type": "markdown",
   "metadata": {},
   "source": [
    "Si el enlace es un teléfono, se pone el atributo `href=\"tel:phone\"`."
   ]
  },
  {
   "cell_type": "code",
   "execution_count": null,
   "metadata": {
    "vscode": {
     "languageId": "plaintext"
    }
   },
   "outputs": [],
   "source": [
    "<a href=\"tel:phone\">Teléfono</a>"
   ]
  },
  {
   "cell_type": "markdown",
   "metadata": {},
   "source": [
    "Si lo que quieres es poner un enlace para abrir WhatsApp, se pone el atributo `href=\"https://wa.me/phone\"`."
   ]
  },
  {
   "cell_type": "code",
   "execution_count": null,
   "metadata": {
    "vscode": {
     "languageId": "plaintext"
    }
   },
   "outputs": [],
   "source": [
    "<a href=\"https://wa.me/phone\">WhatsApp</a>"
   ]
  },
  {
   "cell_type": "markdown",
   "metadata": {},
   "source": [
    "#### Main"
   ]
  },
  {
   "cell_type": "markdown",
   "metadata": {},
   "source": [
    "Esta es la etiqueta para describir el `main`"
   ]
  },
  {
   "cell_type": "code",
   "execution_count": null,
   "metadata": {
    "vscode": {
     "languageId": "plaintext"
    }
   },
   "outputs": [],
   "source": [
    "<!DOCTYPE html>\n",
    "<html lang=\"es\">\n",
    "    <head>\n",
    "        <meta charset=\"utf-8\"/>\n",
    "        <meta name=\"description\" content=\"Descripción para los buscadores\"/>\n",
    "        <meta name=\"robots\" content=\"index,folow\"/>\n",
    "        <title>Título pestaña</title>\n",
    "        <meta name=\"viewport\" content=\"width=device-width\"/>\n",
    "        <meta name=\"theme-color\" content=\"#09f\"/>\n",
    "        <link rel=\"stulesheet\" href=\"path\"/>\n",
    "        <link rel=\"icon\" type=\"image/png\" href=\"path\"/>\n",
    "        <meta property=\"og:title\" content=\"Título para las redes sociales\"/>\n",
    "        <meta property=\"og:description\" content=\"Descripción para las redes sociales\"/>\n",
    "        <meta property=\"og:image\" content=\"path\"/>\n",
    "        <meta property=\"og:image:alt\" content=\"Texto alternativo para la imagen\"/>\n",
    "        <link rel=\"alternate\" href=\"path\" hreflang=\"en\"/>\n",
    "        <link rel=\"canonical\" href=\"path\"/>\n",
    "    </head>\n",
    "    <body>\n",
    "        <header>\n",
    "            <nav>\n",
    "                <a href=\"path\">Enlace</a>\n",
    "                <img src=\"path\" alt=\"Texto alternativo\"/>\n",
    "            </nav>\n",
    "        </header>\n",
    "        <main>\n",
    "        </main>\n",
    "    </body>\n",
    "</html>"
   ]
  },
  {
   "cell_type": "markdown",
   "metadata": {},
   "source": [
    "#### Footer"
   ]
  },
  {
   "cell_type": "markdown",
   "metadata": {},
   "source": [
    "Esta es la etiqueta para describir el `footer`"
   ]
  },
  {
   "cell_type": "code",
   "execution_count": null,
   "metadata": {
    "vscode": {
     "languageId": "plaintext"
    }
   },
   "outputs": [],
   "source": [
    "<!DOCTYPE html>\n",
    "<html lang=\"es\">\n",
    "    <head>\n",
    "        <meta charset=\"utf-8\"/>\n",
    "        <meta name=\"description\" content=\"Descripción para los buscadores\"/>\n",
    "        <meta name=\"robots\" content=\"index,folow\"/>\n",
    "        <title>Título pestaña</title>\n",
    "        <meta name=\"viewport\" content=\"width=device-width\"/>\n",
    "        <meta name=\"theme-color\" content=\"#09f\"/>\n",
    "        <link rel=\"stulesheet\" href=\"path\"/>\n",
    "        <link rel=\"icon\" type=\"image/png\" href=\"path\"/>\n",
    "        <meta property=\"og:title\" content=\"Título para las redes sociales\"/>\n",
    "        <meta property=\"og:description\" content=\"Descripción para las redes sociales\"/>\n",
    "        <meta property=\"og:image\" content=\"path\"/>\n",
    "        <meta property=\"og:image:alt\" content=\"Texto alternativo para la imagen\"/>\n",
    "        <link rel=\"alternate\" href=\"path\" hreflang=\"en\"/>\n",
    "        <link rel=\"canonical\" href=\"path\"/>\n",
    "    </head>\n",
    "    <body>\n",
    "        <header>\n",
    "            <nav>\n",
    "                <a href=\"path\">Enlace</a>\n",
    "                <img src=\"path\" alt=\"Texto alternativo\"/>\n",
    "            </nav>\n",
    "        </header>\n",
    "        <main>\n",
    "        </main>\n",
    "        <footer>\n",
    "        </footer>\n",
    "    </body>\n",
    "</html>"
   ]
  },
  {
   "cell_type": "markdown",
   "metadata": {},
   "source": [
    "#### Section"
   ]
  },
  {
   "cell_type": "markdown",
   "metadata": {},
   "source": [
    "Dentro de `main` se pueden hacer secciones"
   ]
  },
  {
   "cell_type": "code",
   "execution_count": null,
   "metadata": {
    "vscode": {
     "languageId": "plaintext"
    }
   },
   "outputs": [],
   "source": [
    "<!DOCTYPE html>\n",
    "<html lang=\"es\">\n",
    "    <head>\n",
    "        <meta charset=\"utf-8\"/>\n",
    "        <meta name=\"description\" content=\"Descripción para los buscadores\"/>\n",
    "        <meta name=\"robots\" content=\"index,folow\"/>\n",
    "        <title>Título pestaña</title>\n",
    "        <meta name=\"viewport\" content=\"width=device-width\"/>\n",
    "        <meta name=\"theme-color\" content=\"#09f\"/>\n",
    "        <link rel=\"stulesheet\" href=\"path\"/>\n",
    "        <link rel=\"icon\" type=\"image/png\" href=\"path\"/>\n",
    "        <meta property=\"og:title\" content=\"Título para las redes sociales\"/>\n",
    "        <meta property=\"og:description\" content=\"Descripción para las redes sociales\"/>\n",
    "        <meta property=\"og:image\" content=\"path\"/>\n",
    "        <meta property=\"og:image:alt\" content=\"Texto alternativo para la imagen\"/>\n",
    "        <link rel=\"alternate\" href=\"path\" hreflang=\"en\"/>\n",
    "        <link rel=\"canonical\" href=\"path\"/>\n",
    "    </head>\n",
    "    <body>\n",
    "        <header>\n",
    "            <nav>\n",
    "                <a href=\"path\">Enlace</a>\n",
    "                <img src=\"path\" alt=\"Texto alternativo\"/>\n",
    "            </nav>\n",
    "        </header>\n",
    "        <main>\n",
    "            <section>\n",
    "            </section>\n",
    "        </main>\n",
    "        <footer>\n",
    "        </footer>\n",
    "    </body>\n",
    "</html>"
   ]
  },
  {
   "cell_type": "markdown",
   "metadata": {},
   "source": [
    "#### Article"
   ]
  },
  {
   "cell_type": "markdown",
   "metadata": {},
   "source": [
    "Dentro de `main` se pueden haber artículos"
   ]
  },
  {
   "cell_type": "code",
   "execution_count": null,
   "metadata": {
    "vscode": {
     "languageId": "plaintext"
    }
   },
   "outputs": [],
   "source": [
    "<!DOCTYPE html>\n",
    "<html lang=\"es\">\n",
    "    <head>\n",
    "        <meta charset=\"utf-8\"/>\n",
    "        <meta name=\"description\" content=\"Descripción para los buscadores\"/>\n",
    "        <meta name=\"robots\" content=\"index,folow\"/>\n",
    "        <title>Título pestaña</title>\n",
    "        <meta name=\"viewport\" content=\"width=device-width\"/>\n",
    "        <meta name=\"theme-color\" content=\"#09f\"/>\n",
    "        <link rel=\"stulesheet\" href=\"path\"/>\n",
    "        <link rel=\"icon\" type=\"image/png\" href=\"path\"/>\n",
    "        <meta property=\"og:title\" content=\"Título para las redes sociales\"/>\n",
    "        <meta property=\"og:description\" content=\"Descripción para las redes sociales\"/>\n",
    "        <meta property=\"og:image\" content=\"path\"/>\n",
    "        <meta property=\"og:image:alt\" content=\"Texto alternativo para la imagen\"/>\n",
    "        <link rel=\"alternate\" href=\"path\" hreflang=\"en\"/>\n",
    "        <link rel=\"canonical\" href=\"path\"/>\n",
    "    </head>\n",
    "    <body>\n",
    "        <header>\n",
    "            <nav>\n",
    "                <a href=\"path\">Enlace</a>\n",
    "                <img src=\"path\" alt=\"Texto alternativo\"/>\n",
    "            </nav>\n",
    "        </header>\n",
    "        <main>\n",
    "            <section>\n",
    "                <article>\n",
    "                </article>\n",
    "            </section>\n",
    "        </main>\n",
    "        <footer>\n",
    "        </footer>\n",
    "    </body>\n",
    "</html>"
   ]
  },
  {
   "cell_type": "markdown",
   "metadata": {},
   "source": [
    "#### Divisor"
   ]
  },
  {
   "cell_type": "markdown",
   "metadata": {},
   "source": [
    "Cuando se nos han acabado las etiquetas semánticas, se puede utilizar la etiqueta `div` que es un contenedor genérico."
   ]
  },
  {
   "cell_type": "code",
   "execution_count": null,
   "metadata": {
    "vscode": {
     "languageId": "plaintext"
    }
   },
   "outputs": [],
   "source": [
    "<!DOCTYPE html>\n",
    "<html lang=\"es\">\n",
    "    <head>\n",
    "        <meta charset=\"utf-8\"/>\n",
    "        <meta name=\"description\" content=\"Descripción para los buscadores\"/>\n",
    "        <meta name=\"robots\" content=\"index,folow\"/>\n",
    "        <title>Título pestaña</title>\n",
    "        <meta name=\"viewport\" content=\"width=device-width\"/>\n",
    "        <meta name=\"theme-color\" content=\"#09f\"/>\n",
    "        <link rel=\"stulesheet\" href=\"path\"/>\n",
    "        <link rel=\"icon\" type=\"image/png\" href=\"path\"/>\n",
    "        <meta property=\"og:title\" content=\"Título para las redes sociales\"/>\n",
    "        <meta property=\"og:description\" content=\"Descripción para las redes sociales\"/>\n",
    "        <meta property=\"og:image\" content=\"path\"/>\n",
    "        <meta property=\"og:image:alt\" content=\"Texto alternativo para la imagen\"/>\n",
    "        <link rel=\"alternate\" href=\"path\" hreflang=\"en\"/>\n",
    "        <link rel=\"canonical\" href=\"path\"/>\n",
    "    </head>\n",
    "    <body>\n",
    "        <header>\n",
    "            <nav>\n",
    "                <a href=\"path\">Enlace</a>\n",
    "                <img src=\"path\" alt=\"Texto alternativo\"/>\n",
    "            </nav>\n",
    "        </header>\n",
    "        <main>\n",
    "            <section>\n",
    "                <article>\n",
    "                    <div>\n",
    "                    </div>\n",
    "                </article>\n",
    "            </section>\n",
    "        </main>\n",
    "        <footer>\n",
    "        </footer>\n",
    "    </body>\n",
    "</html>"
   ]
  },
  {
   "cell_type": "markdown",
   "metadata": {},
   "source": [
    "#### Listas no ordenadas `ul`"
   ]
  },
  {
   "cell_type": "markdown",
   "metadata": {},
   "source": [
    "Dentro de `main` se pueden haber listas no ordenadas, cada item de la lista tiene que tener la etiqueta `li`"
   ]
  },
  {
   "cell_type": "code",
   "execution_count": null,
   "metadata": {
    "vscode": {
     "languageId": "plaintext"
    }
   },
   "outputs": [],
   "source": [
    "<!DOCTYPE html>\n",
    "<html lang=\"es\">\n",
    "    <head>\n",
    "        <meta charset=\"utf-8\"/>\n",
    "        <meta name=\"description\" content=\"Descripción para los buscadores\"/>\n",
    "        <meta name=\"robots\" content=\"index,folow\"/>\n",
    "        <title>Título pestaña</title>\n",
    "        <meta name=\"viewport\" content=\"width=device-width\"/>\n",
    "        <meta name=\"theme-color\" content=\"#09f\"/>\n",
    "        <link rel=\"stulesheet\" href=\"path\"/>\n",
    "        <link rel=\"icon\" type=\"image/png\" href=\"path\"/>\n",
    "        <meta property=\"og:title\" content=\"Título para las redes sociales\"/>\n",
    "        <meta property=\"og:description\" content=\"Descripción para las redes sociales\"/>\n",
    "        <meta property=\"og:image\" content=\"path\"/>\n",
    "        <meta property=\"og:image:alt\" content=\"Texto alternativo para la imagen\"/>\n",
    "        <link rel=\"alternate\" href=\"path\" hreflang=\"en\"/>\n",
    "        <link rel=\"canonical\" href=\"path\"/>\n",
    "    </head>\n",
    "    <body>\n",
    "        <header>\n",
    "            <nav>\n",
    "                <a href=\"path\">Enlace</a>\n",
    "                <img src=\"path\" alt=\"Texto alternativo\"/>\n",
    "            </nav>\n",
    "        </header>\n",
    "        <main>\n",
    "            <section>\n",
    "                <article>\n",
    "                    <div>\n",
    "                        <ul>\n",
    "                            <li></li>\n",
    "                        </ul>\n",
    "                    </div>\n",
    "                </article>\n",
    "            </section>\n",
    "        </main>\n",
    "        <footer>\n",
    "        </footer>\n",
    "    </body>\n",
    "</html>"
   ]
  },
  {
   "cell_type": "markdown",
   "metadata": {},
   "source": [
    "#### Listas ordenadas `ol`"
   ]
  },
  {
   "cell_type": "markdown",
   "metadata": {},
   "source": [
    "Dentro de `main` se pueden haber listas ordenadas, cada item de la lista tiene que tener la etiqueta `li`"
   ]
  },
  {
   "cell_type": "code",
   "execution_count": null,
   "metadata": {
    "vscode": {
     "languageId": "plaintext"
    }
   },
   "outputs": [],
   "source": [
    "<!DOCTYPE html>\n",
    "<html lang=\"es\">\n",
    "    <head>\n",
    "        <meta charset=\"utf-8\"/>\n",
    "        <meta name=\"description\" content=\"Descripción para los buscadores\"/>\n",
    "        <meta name=\"robots\" content=\"index,folow\"/>\n",
    "        <title>Título pestaña</title>\n",
    "        <meta name=\"viewport\" content=\"width=device-width\"/>\n",
    "        <meta name=\"theme-color\" content=\"#09f\"/>\n",
    "        <link rel=\"stulesheet\" href=\"path\"/>\n",
    "        <link rel=\"icon\" type=\"image/png\" href=\"path\"/>\n",
    "        <meta property=\"og:title\" content=\"Título para las redes sociales\"/>\n",
    "        <meta property=\"og:description\" content=\"Descripción para las redes sociales\"/>\n",
    "        <meta property=\"og:image\" content=\"path\"/>\n",
    "        <meta property=\"og:image:alt\" content=\"Texto alternativo para la imagen\"/>\n",
    "        <link rel=\"alternate\" href=\"path\" hreflang=\"en\"/>\n",
    "        <link rel=\"canonical\" href=\"path\"/>\n",
    "    </head>\n",
    "    <body>\n",
    "        <header>\n",
    "            <nav>\n",
    "                <a href=\"path\">Enlace</a>\n",
    "                <img src=\"path\" alt=\"Texto alternativo\"/>\n",
    "            </nav>\n",
    "        </header>\n",
    "        <main>\n",
    "            <section>\n",
    "                <article>\n",
    "                    <div>\n",
    "                        <ul>\n",
    "                            <li></li>\n",
    "                        </ul>\n",
    "                        <ol>\n",
    "                            <li></li>\n",
    "                        </ol>\n",
    "                    </div>\n",
    "                </article>\n",
    "            </section>\n",
    "        </main>\n",
    "        <footer>\n",
    "        </footer>\n",
    "    </body>\n",
    "</html>"
   ]
  },
  {
   "cell_type": "markdown",
   "metadata": {},
   "source": [
    "Se puede cambiar el tipo de orden de la lista con el atributo `type=\"a\"` para letras, `type=\"i\"` para números romanos, `type=\"1\"` para números arábigos."
   ]
  },
  {
   "cell_type": "code",
   "execution_count": null,
   "metadata": {
    "vscode": {
     "languageId": "plaintext"
    }
   },
   "outputs": [],
   "source": [
    "<ol type=\"a\">\n",
    "    <li></li>\n",
    "</ol>"
   ]
  },
  {
   "cell_type": "markdown",
   "metadata": {},
   "source": [
    "Si se quiere que el orden de la lista empiece en un número en concreto, se pone el atributo `start=\"number\"`."
   ]
  },
  {
   "cell_type": "code",
   "execution_count": null,
   "metadata": {
    "vscode": {
     "languageId": "plaintext"
    }
   },
   "outputs": [],
   "source": [
    "<ol start=\"2\">\n",
    "    <li></li>\n",
    "</ol>"
   ]
  },
  {
   "cell_type": "markdown",
   "metadata": {},
   "source": [
    "Si se quiere que el orden de la lista vaya en orden inverso, se pone el atributo `reversed`."
   ]
  },
  {
   "cell_type": "code",
   "execution_count": null,
   "metadata": {
    "vscode": {
     "languageId": "plaintext"
    }
   },
   "outputs": [],
   "source": [
    "<ol reversed>\n",
    "    <li></li>\n",
    "</ol>"
   ]
  },
  {
   "cell_type": "markdown",
   "metadata": {},
   "source": [
    "Si queremos que un list item tenga un valor, se pone el atributo `value=\"number\"`."
   ]
  },
  {
   "cell_type": "code",
   "execution_count": null,
   "metadata": {
    "vscode": {
     "languageId": "plaintext"
    }
   },
   "outputs": [],
   "source": [
    "<ol>\n",
    "    <li value=\"2\"></li>\n",
    "</ol>"
   ]
  },
  {
   "cell_type": "markdown",
   "metadata": {},
   "source": [
    "#### Rol `role`"
   ]
  },
  {
   "cell_type": "markdown",
   "metadata": {},
   "source": [
    "Cada una de las etiquetas que hemos visto antes tienen un rol, pero se puede cambiar el rol de cada una de ellas con la etiqueta `role=\"rol\"`."
   ]
  },
  {
   "cell_type": "code",
   "execution_count": null,
   "metadata": {
    "vscode": {
     "languageId": "plaintext"
    }
   },
   "outputs": [],
   "source": [
    "<!DOCTYPE html>\n",
    "<html lang=\"es\">\n",
    "    <head>\n",
    "        <meta charset=\"utf-8\"/>\n",
    "        <meta name=\"description\" content=\"Descripción para los buscadores\"/>\n",
    "        <meta name=\"robots\" content=\"index,folow\"/>\n",
    "        <title>Título pestaña</title>\n",
    "        <meta name=\"viewport\" content=\"width=device-width\"/>\n",
    "        <meta name=\"theme-color\" content=\"#09f\"/>\n",
    "        <link rel=\"stulesheet\" href=\"path\"/>\n",
    "        <link rel=\"icon\" type=\"image/png\" href=\"path\"/>\n",
    "        <meta property=\"og:title\" content=\"Título para las redes sociales\"/>\n",
    "        <meta property=\"og:description\" content=\"Descripción para las redes sociales\"/>\n",
    "        <meta property=\"og:image\" content=\"path\"/>\n",
    "        <meta property=\"og:image:alt\" content=\"Texto alternativo para la imagen\"/>\n",
    "        <link rel=\"alternate\" href=\"path\" hreflang=\"en\"/>\n",
    "        <link rel=\"canonical\" href=\"path\"/>\n",
    "    </head>\n",
    "    <body>\n",
    "        <header>\n",
    "            <nav>\n",
    "                <a href=\"path\">Enlace</a>\n",
    "                <img src=\"path\" alt=\"Texto alternativo\"/>\n",
    "            </nav>\n",
    "        </header>\n",
    "        <main>\n",
    "            <section>\n",
    "                <article>\n",
    "                    <div>\n",
    "                        <ul>\n",
    "                            <li></li>\n",
    "                        </ul>\n",
    "                        <ol>\n",
    "                            <li></li>\n",
    "                        </ol>\n",
    "                    </div>\n",
    "                    <div role=\"list\">\n",
    "                        <div role=\"listitem\">\n",
    "                        </div>\n",
    "                    </div>\n",
    "                </article>\n",
    "            </section>\n",
    "        </main>\n",
    "        <footer>\n",
    "        </footer>\n",
    "    </body>\n",
    "</html>"
   ]
  },
  {
   "cell_type": "markdown",
   "metadata": {},
   "source": [
    "### Etiquetas de contenido"
   ]
  },
  {
   "cell_type": "markdown",
   "metadata": {},
   "source": [
    "Para crear un nuevo párrafo utilizamos la etiqueta `<p></p>`. Para darle énfasis a algo dentro de un párrafo podemos pensar en usar negrita (`<b></b>`), pero es mejor usar la etiqueta `<strong></strong>`, ya que la etiqueta `b` está deprecada"
   ]
  },
  {
   "cell_type": "markdown",
   "metadata": {},
   "source": [
    "Para crear un título tenemos las etiquetas `h1`, `h2`, `h3`, `h4`, `h5`, `h6`."
   ]
  },
  {
   "cell_type": "markdown",
   "metadata": {},
   "source": [
    "Para crear hipervínculos se usa la etiqueta `a`, el atributo `href` indica la dirección del hipervínculo. Si se pone una almohadilla `#` no se refresca la página"
   ]
  },
  {
   "cell_type": "markdown",
   "metadata": {},
   "source": [
    "### Etiquetas multimedia"
   ]
  },
  {
   "cell_type": "markdown",
   "metadata": {},
   "source": [
    "Las etiquetas multimedia no tienen etiqueta de apertura y cierre, por ejemplo la etiqueta `img` no se escribe como `<img></img>` sino como `<img/>`. Esto es porque se reemplaza por una imagen. Por lo que en general las etiquetas reemplazables no tienen etiqueta de cierre."
   ]
  },
  {
   "cell_type": "markdown",
   "metadata": {},
   "source": [
    "Existen dos tipos de imágenes\n",
    " * Lossy (con pérdida): Estas imágenes pierden la calidad, pero son menos pesadas. jpg, jpeg\n",
    " * Lossless (sin pérdida): Estas imágenes no pierden la calidad, pero son muy pesadas. gif, png-8, png-24, svg"
   ]
  },
  {
   "cell_type": "markdown",
   "metadata": {},
   "source": [
    "#### Optimización de las imágenes"
   ]
  },
  {
   "cell_type": "markdown",
   "metadata": {},
   "source": [
    "El tamaño promedio debe ser de 70 kB\n",
    "\n",
    "* [Tiny PNG](https://tinypng.com/): mejora el tamaño de la imagen\n",
    "* [Verexif](https://www.verexif.com/): Quita los metadatos de la imagen"
   ]
  },
  {
   "cell_type": "markdown",
   "metadata": {},
   "source": [
    "#### Etiqueta `img`"
   ]
  },
  {
   "cell_type": "markdown",
   "metadata": {},
   "source": [
    "Página para descargar imágenes gratuitas por internet [pexels](https://www.pexels.com/es-es/)"
   ]
  },
  {
   "cell_type": "markdown",
   "metadata": {},
   "source": [
    "La etiqueta `img` tiene el atributo `src` donde se indica la fuente."
   ]
  },
  {
   "cell_type": "code",
   "execution_count": null,
   "metadata": {
    "vscode": {
     "languageId": "plaintext"
    }
   },
   "outputs": [],
   "source": [
    "<img src=\"path\"/>"
   ]
  },
  {
   "cell_type": "markdown",
   "metadata": {},
   "source": [
    "El atributo `alt` donde se indica el texto alternativo."
   ]
  },
  {
   "cell_type": "code",
   "execution_count": null,
   "metadata": {
    "vscode": {
     "languageId": "plaintext"
    }
   },
   "outputs": [],
   "source": [
    "<img src=\"path\" alt=\"Texto alternativo\"/>"
   ]
  },
  {
   "cell_type": "markdown",
   "metadata": {},
   "source": [
    "El atributo `title` donde se indica el título de la imagen, que sirve para que cuando dejemos el ratón encima de la imagen aparezca el título, también sirve para el `SEO`, para que los buscadores sepan de que trata la imagen."
   ]
  },
  {
   "cell_type": "code",
   "execution_count": null,
   "metadata": {
    "vscode": {
     "languageId": "plaintext"
    }
   },
   "outputs": [],
   "source": [
    "<img src=\"path\" alt=\"Texto alternativo\" title=\"Título\"/>"
   ]
  },
  {
   "cell_type": "markdown",
   "metadata": {},
   "source": [
    "También podemos poner el atributo `width` y `height` para indicar el tamaño de la imagen, pero es mejor no ponerlo y dejar que el navegador lo calcule"
   ]
  },
  {
   "cell_type": "code",
   "execution_count": null,
   "metadata": {
    "vscode": {
     "languageId": "plaintext"
    }
   },
   "outputs": [],
   "source": [
    "<img src=\"path\" alt=\"Texto alternativo\" title=\"Título\" width=\"100\" height=\"100\"/>"
   ]
  },
  {
   "cell_type": "markdown",
   "metadata": {},
   "source": [
    "Con el atributo `hidden` se puede ocultar la imagen. Lo cual es muy útil para cuando queremos que una imagen aparezca después de que el usuario haga una acción. Así con el JavaScript podemos quitar el atributo `hidden` y la imagen aparecerá."
   ]
  },
  {
   "cell_type": "code",
   "execution_count": null,
   "metadata": {
    "vscode": {
     "languageId": "plaintext"
    }
   },
   "outputs": [],
   "source": [
    "<img src=\"path\" alt=\"Texto alternativo\" title=\"Título\" hidden/>"
   ]
  },
  {
   "cell_type": "markdown",
   "metadata": {},
   "source": [
    "Para que las páginas se carguen más rápido, se puede poner el atributo `loading=\"lazy\"` que hace que la imagen se cargue cuando el usuario se acerca a ella."
   ]
  },
  {
   "cell_type": "code",
   "execution_count": null,
   "metadata": {
    "vscode": {
     "languageId": "plaintext"
    }
   },
   "outputs": [],
   "source": [
    "<img src=\"path\" alt=\"Texto alternativo\" title=\"Título\" loading=\"lazy\"/>"
   ]
  },
  {
   "cell_type": "markdown",
   "metadata": {},
   "source": [
    " > **Importante!** No hay que poner el atributo `loading=\"lazy\"` en las imágenes que son importantes para el SEO, como por ejemplo el logo. Ni tampoco en las imágenes que están al inicion de la página web porque si no se verá un parpadeo"
   ]
  },
  {
   "cell_type": "markdown",
   "metadata": {},
   "source": [
    "#### Etiqueta `figure`"
   ]
  },
  {
   "cell_type": "markdown",
   "metadata": {},
   "source": [
    "Esta etiqueta nos permite crear un contenedor para la imagen, por ejemplo nos permite añadir una descripción, para ello se necesita usar la etiqueta `figcapture`"
   ]
  },
  {
   "cell_type": "code",
   "execution_count": null,
   "metadata": {
    "vscode": {
     "languageId": "plaintext"
    }
   },
   "outputs": [],
   "source": [
    "<figure>\n",
    "    <img src=\"path\" alt=\"Texto alternativo\" title=\"Título\"/>\n",
    "    <figcaption>Descripción</figcaption>\n",
    "</figure>"
   ]
  },
  {
   "cell_type": "markdown",
   "metadata": {},
   "source": [
    "#### Etiqueta `video`"
   ]
  },
  {
   "cell_type": "markdown",
   "metadata": {},
   "source": [
    "Con esta etiqueta se pueden añadir vídeos, para ello se usa el atributo `src`. Para que aparezcan los botones de reproducción hay que poner el atributo `controls`. El último atributo es `preload=\"auto\"`, esto es para que el vídeo se empiece a descargar cuando se empieza a cargar la página, así cuando lo va a reproducir el usuario ya tiene mucho cargado y tardará menos en reproducirse."
   ]
  },
  {
   "cell_type": "code",
   "execution_count": null,
   "metadata": {
    "vscode": {
     "languageId": "plaintext"
    }
   },
   "outputs": [],
   "source": [
    "<video src=\"path\" controls preload=\"auto\">\n",
    "</video>"
   ]
  },
  {
   "cell_type": "markdown",
   "metadata": {},
   "source": [
    "Si quieres que empiece a reproducirse en un minuto determinado, en `src` justo después de la fuente hay que poner `#t=xx,yy`"
   ]
  },
  {
   "cell_type": "code",
   "execution_count": null,
   "metadata": {
    "vscode": {
     "languageId": "plaintext"
    }
   },
   "outputs": [],
   "source": [
    "<video src=\"path#t=1,2\" controls>\n",
    "</video>"
   ]
  },
  {
   "cell_type": "markdown",
   "metadata": {},
   "source": [
    "Si el video está en varios formatos, la fuente hay que ponerla dentro de una etiqueta llamada `source`, ahí se indican las distintas posibles fuentes del video. El navegador decidirá qué fuente usar. Esto es porque hay navegadores que reproducen mejor unos vídeos u otros"
   ]
  },
  {
   "cell_type": "code",
   "execution_count": null,
   "metadata": {
    "vscode": {
     "languageId": "plaintext"
    }
   },
   "outputs": [],
   "source": [
    "<video controls>\n",
    "    <source src=\"path\" type=\"video/mp4\"/>\n",
    "    <source src=\"path\" type=\"video/webm\"/>\n",
    "</video>"
   ]
  },
  {
   "cell_type": "markdown",
   "metadata": {},
   "source": [
    "Si no queremos que haya controles de reproducción y que el video se reproduzca automáticamente, se pone el atributo `autoplay`."
   ]
  },
  {
   "cell_type": "code",
   "execution_count": null,
   "metadata": {
    "vscode": {
     "languageId": "plaintext"
    }
   },
   "outputs": [],
   "source": [
    "<video src=\"path\" autoplay>\n",
    "</video>"
   ]
  },
  {
   "cell_type": "markdown",
   "metadata": {},
   "source": [
    "Pero para no molestar al usuario podemo hacer que se reproduzca sin sonido, para ello se pone el atributo `muted`."
   ]
  },
  {
   "cell_type": "code",
   "execution_count": null,
   "metadata": {
    "vscode": {
     "languageId": "plaintext"
    }
   },
   "outputs": [],
   "source": [
    "<video src=\"path\" autoplay muted>\n",
    "</video>"
   ]
  },
  {
   "cell_type": "markdown",
   "metadata": {},
   "source": [
    "Si queremos que el video se reproduzca en bucle, se pone el atributo `loop`."
   ]
  },
  {
   "cell_type": "code",
   "execution_count": null,
   "metadata": {
    "vscode": {
     "languageId": "plaintext"
    }
   },
   "outputs": [],
   "source": [
    "<video src=\"path\" autoplay muted loop>\n",
    "</video>"
   ]
  },
  {
   "cell_type": "markdown",
   "metadata": {},
   "source": [
    "Esto es muy útil para poner un vídeo de fondo en una página web."
   ]
  },
  {
   "cell_type": "markdown",
   "metadata": {},
   "source": [
    "Para cambiar la imagen del vídeo cuando no se está reproduciendo, se pone el atributo `poster=\"path\"`."
   ]
  },
  {
   "cell_type": "code",
   "execution_count": null,
   "metadata": {
    "vscode": {
     "languageId": "plaintext"
    }
   },
   "outputs": [],
   "source": [
    "<video src=\"path\" autoplay muted loop poster=\"path\">\n",
    "</video>"
   ]
  },
  {
   "cell_type": "markdown",
   "metadata": {},
   "source": [
    "#### Etiqueta `audio`"
   ]
  },
  {
   "cell_type": "markdown",
   "metadata": {},
   "source": [
    "Para reproducir audio se usa la etiqueta `audio`, para ello se usa el atributo `src`."
   ]
  },
  {
   "cell_type": "code",
   "execution_count": null,
   "metadata": {
    "vscode": {
     "languageId": "plaintext"
    }
   },
   "outputs": [],
   "source": [
    "<audio src=\"path\">\n",
    "</audio>"
   ]
  },
  {
   "cell_type": "markdown",
   "metadata": {},
   "source": [
    "Para que aparezcan los controles de reproducción se pone el atributo `controls`."
   ]
  },
  {
   "cell_type": "code",
   "execution_count": null,
   "metadata": {
    "vscode": {
     "languageId": "plaintext"
    }
   },
   "outputs": [],
   "source": [
    "<audio src=\"path\" controls>\n",
    "</audio>"
   ]
  },
  {
   "cell_type": "markdown",
   "metadata": {},
   "source": [
    "Si queremos que el audio se reproduzca automáticamente, se pone el atributo `autoplay`."
   ]
  },
  {
   "cell_type": "code",
   "execution_count": null,
   "metadata": {
    "vscode": {
     "languageId": "plaintext"
    }
   },
   "outputs": [],
   "source": [
    "<audio src=\"path\" autoplay>\n",
    "</audio>"
   ]
  },
  {
   "cell_type": "markdown",
   "metadata": {},
   "source": [
    "Si queremos que el audio se reproduzca en bucle, se pone el atributo `loop`."
   ]
  },
  {
   "cell_type": "code",
   "execution_count": null,
   "metadata": {
    "vscode": {
     "languageId": "plaintext"
    }
   },
   "outputs": [],
   "source": [
    "<audio src=\"path\" autoplay loop>\n",
    "</audio>"
   ]
  },
  {
   "cell_type": "markdown",
   "metadata": {},
   "source": [
    "Si queremos que el audio se reproduzca en bucle, se pone el atributo `loop`."
   ]
  },
  {
   "cell_type": "code",
   "execution_count": null,
   "metadata": {
    "vscode": {
     "languageId": "plaintext"
    }
   },
   "outputs": [],
   "source": [
    "<audio src=\"path\" autoplay loop>\n",
    "</audio>"
   ]
  },
  {
   "cell_type": "markdown",
   "metadata": {},
   "source": [
    "#### Etiqueta `iframe`"
   ]
  },
  {
   "cell_type": "markdown",
   "metadata": {},
   "source": [
    "Cuando compartimos un vídeo de youtube nos da la opción de copiar el código. Esto genera un código html que tiene la etiqueta `iframe`. Esta etiqueta sirve para incrustar contenido de otras páginas web."
   ]
  },
  {
   "cell_type": "code",
   "execution_count": null,
   "metadata": {
    "vscode": {
     "languageId": "plaintext"
    }
   },
   "outputs": [],
   "source": [
    "<iframe src=\"path\">\n",
    "</iframe>"
   ]
  },
  {
   "cell_type": "markdown",
   "metadata": {},
   "source": [
    "Hemos hablado de la página de youtube, pero podríamos incrustar cualquier página. Aunque hay algunas páginas que no permiten esto."
   ]
  },
  {
   "cell_type": "markdown",
   "metadata": {},
   "source": [
    "#### Etiqueta `dialog`"
   ]
  },
  {
   "cell_type": "markdown",
   "metadata": {},
   "source": [
    "Habrás visto que mucha gente en sus portfolios pone sus proyectos y cuando pinchas en él se te abre un cuadro de diálogo con más información, o en galerías de imágenes cuando pinchas en una imagen se te abre un cuadro de diálogo con la imagen más grande. Esto se hace con la etiqueta `dialog`."
   ]
  },
  {
   "cell_type": "code",
   "execution_count": null,
   "metadata": {
    "vscode": {
     "languageId": "plaintext"
    }
   },
   "outputs": [],
   "source": [
    "<dialog>\n",
    "</dialog>"
   ]
  },
  {
   "cell_type": "markdown",
   "metadata": {},
   "source": [
    "Dentro puedes poner lo que quieras, por ejemplo un título, un texto, una imagen, etc."
   ]
  },
  {
   "cell_type": "code",
   "execution_count": null,
   "metadata": {
    "vscode": {
     "languageId": "plaintext"
    }
   },
   "outputs": [],
   "source": [
    "<dialog id=\"id\">\n",
    "    <h1>Título</h1>\n",
    "    <p>Texto</p>\n",
    "    <img src=\"path\" alt=\"Texto alternativo\"/>\n",
    "</dialog>"
   ]
  },
  {
   "cell_type": "markdown",
   "metadata": {},
   "source": [
    "Para que se abra el cuadro de diálogo, se puede poner un botón dentr de un script."
   ]
  },
  {
   "cell_type": "code",
   "execution_count": null,
   "metadata": {
    "vscode": {
     "languageId": "plaintext"
    }
   },
   "outputs": [],
   "source": [
    "<dialog id=\"dialog\">\n",
    "    <h1>Título</h1>\n",
    "    <p>Texto</p>\n",
    "    <img src=\"path\" alt=\"Texto alternativo\"/>\n",
    "</dialog>\n",
    "\n",
    "<button id=\"open\">\n",
    "    Abrir\n",
    "</button>\n",
    "\n",
    "<script>\n",
    "    window.open.addEventListener(\"click\", () => {\n",
    "        window.dialog.showModal();\n",
    "    });\n",
    "</script>"
   ]
  },
  {
   "cell_type": "markdown",
   "metadata": {},
   "source": [
    "### Formularios"
   ]
  },
  {
   "cell_type": "markdown",
   "metadata": {},
   "source": [
    "para crear un formulario lo hacemos con la etiqueta `form`, dentro de esta etiqueta se ponen los campos del formulario. El atributo `action` indica a dónde se envía el formulario. El atributo `method` indica el método de envío, puede ser `get` o `post`. El atributo `name` indica el nombre del formulario, esto es útil para el `JavaScript`."
   ]
  },
  {
   "cell_type": "code",
   "execution_count": null,
   "metadata": {
    "vscode": {
     "languageId": "plaintext"
    }
   },
   "outputs": [],
   "source": [
    "<form action=\"path\" method=\"post\" name=\"name\">\n",
    "</form>"
   ]
  },
  {
   "cell_type": "markdown",
   "metadata": {},
   "source": [
    "#### Agrupación de elementos"
   ]
  },
  {
   "cell_type": "markdown",
   "metadata": {},
   "source": [
    "Con la etiqueta `fieldset` se pueden agrupar elementos de un formulario. Dentro de esta etiqueta se ponen los elementos del formulario. El atributo `legend` indica el título del grupo de elementos."
   ]
  },
  {
   "cell_type": "code",
   "execution_count": null,
   "metadata": {
    "vscode": {
     "languageId": "plaintext"
    }
   },
   "outputs": [],
   "source": [
    "<form action=\"path\" method=\"post\" name=\"name\">\n",
    "    <fieldset>\n",
    "        <legend>Título</legend>\n",
    "    </fieldset>\n",
    "</form>"
   ]
  },
  {
   "cell_type": "markdown",
   "metadata": {},
   "source": [
    "#### Label"
   ]
  },
  {
   "cell_type": "markdown",
   "metadata": {},
   "source": [
    "Con la etiqueta `label` se crea una etiqueta para un elemento del formulario. El atributo `for` indica el id del elemento del formulario al que hace referencia.\n",
    "\n",
    "A continuación se pone el elemento del formulario, por ejemplo `input`.\n",
    "\n",
    "Hay que especificar el `type`, que puede ser de tipo `text`, `email`, `password`, `number`, `date`, `time`, `color`, `range`, `file`, `checkbox`, `radio`, `submit`, `reset`, `button`, `hidden`.\n",
    "\n",
    "Si el `input` hay que introducirlo obligatorioamente, se puede añadir el atributo `required`.\n",
    "\n",
    "Si el usuario ya había introducido un valor en el `input`, mediante el atributo `autocomplete` se puede indicar que se rellene automáticamente.\n",
    "\n",
    "Con el atributo `pattern` se puede especificar una expresión regular para validar el `input`. Por ejemplo para validar si el correo o el teléfono son correctos."
   ]
  },
  {
   "cell_type": "code",
   "execution_count": null,
   "metadata": {
    "vscode": {
     "languageId": "plaintext"
    }
   },
   "outputs": [],
   "source": [
    "<form action=\"path\" method=\"post\" name=\"name\">\n",
    "    <fieldset>\n",
    "        <legend>Título</legend>\n",
    "\n",
    "        <label for=\"id\">Nombre:</label>\n",
    "        <input type=\"text\" id=\"id\" name=\"name\" placeholder=\"Nombre\" required autocomplete=\"on\"/>\n",
    "        \n",
    "    </fieldset>\n",
    "</form>"
   ]
  },
  {
   "cell_type": "markdown",
   "metadata": {},
   "source": [
    "Otra manera de especificar el `input` de una `label` es poner el `input` dentro de la `label`. Ahora no es necesario el atributo `for` porque se entiende que la `label` hace referencia al `input` que está dentro."
   ]
  },
  {
   "cell_type": "code",
   "execution_count": null,
   "metadata": {
    "vscode": {
     "languageId": "plaintext"
    }
   },
   "outputs": [],
   "source": [
    "<form action=\"path\" method=\"post\" name=\"name\">\n",
    "    <fieldset>\n",
    "        <legend>Título</legend>\n",
    "\n",
    "        <label>Nombre:\n",
    "            <input type=\"text\" id=\"id\" name=\"name\" placeholder=\"Nombre\" required/>\n",
    "        </label>\n",
    "        \n",
    "    </fieldset>\n",
    "</form>"
   ]
  },
  {
   "cell_type": "markdown",
   "metadata": {},
   "source": [
    "#### Select"
   ]
  },
  {
   "cell_type": "markdown",
   "metadata": {},
   "source": [
    "Con la etiqueta `select` se crea un desplegable. Dentro de esta etiqueta se ponen las opciones del desplegable con la etiqueta `option`. El atributo `value` indica el valor de la opción. El atributo `selected` indica la opción que está seleccionada por defecto."
   ]
  },
  {
   "cell_type": "code",
   "execution_count": null,
   "metadata": {
    "vscode": {
     "languageId": "plaintext"
    }
   },
   "outputs": [],
   "source": [
    "<form action=\"path\" method=\"post\" name=\"name\">\n",
    "    <fieldset>\n",
    "        <legend>Título</legend>\n",
    "\n",
    "        <label>Nombre:\n",
    "            <input type=\"text\" id=\"id\" name=\"name\" placeholder=\"Nombre\" required/>\n",
    "        </label>\n",
    "\n",
    "        <label>País:\n",
    "            <select name=\"country\">\n",
    "                <option value=\"es\">España</option>\n",
    "                <option value=\"fr\">Francia</option>\n",
    "                <option value=\"it\" selected>Italia</option>\n",
    "            </select>\n",
    "        </label>\n",
    "        \n",
    "    </fieldset>\n",
    "</form>"
   ]
  },
  {
   "cell_type": "markdown",
   "metadata": {},
   "source": [
    "En caso de tener muchas opciones, se puede usar la etiqueta `datalist` para crear una lista de opciones, de esta manera, cuando el usuario va escribiendo una de las opciones de la lista, se le van mostrando las opciones que coinciden con lo que ha escrito. Dentro de esta etiqueta se ponen las opciones con la etiqueta `option`. El atributo `value` indica el valor de la opción."
   ]
  },
  {
   "cell_type": "code",
   "execution_count": null,
   "metadata": {
    "vscode": {
     "languageId": "plaintext"
    }
   },
   "outputs": [],
   "source": [
    "<form action=\"path\" method=\"post\" name=\"name\">\n",
    "    <fieldset>\n",
    "        <legend>Título</legend>\n",
    "\n",
    "        <label>Nombre:\n",
    "            <input type=\"text\" id=\"id\" name=\"name\" placeholder=\"Nombre\" required/>\n",
    "        </label>\n",
    "\n",
    "        <label>País:\n",
    "            <input type=\"text\" list=\"countries\" name=\"country\"/>\n",
    "            <datalist id=\"countries\">\n",
    "                <option value=\"es\">España</option>\n",
    "                <option value=\"fr\">Francia</option>\n",
    "                <option value=\"it\">Italia</option>\n",
    "            </datalist>\n",
    "        </label>\n",
    "        \n",
    "    </fieldset>\n",
    "</form>"
   ]
  },
  {
   "cell_type": "markdown",
   "metadata": {},
   "source": [
    "#### Enviar"
   ]
  },
  {
   "cell_type": "markdown",
   "metadata": {},
   "source": [
    "Para enviar el formulario se usa la etiqueta `input` con el atributo `type=\"submit\"`."
   ]
  },
  {
   "cell_type": "code",
   "execution_count": null,
   "metadata": {
    "vscode": {
     "languageId": "plaintext"
    }
   },
   "outputs": [],
   "source": [
    "<form action=\"path\" method=\"post\" name=\"name\">\n",
    "    <fieldset>\n",
    "        <legend>Título</legend>\n",
    "\n",
    "        <label>Nombre:\n",
    "            <input type=\"text\" id=\"id\" name=\"name\" placeholder=\"Nombre\" required/>\n",
    "        </label>\n",
    "        \n",
    "        <input type=\"submit\" value=\"Enviar\"/>\n",
    "    </fieldset>\n",
    "</form>"
   ]
  },
  {
   "cell_type": "markdown",
   "metadata": {},
   "source": [
    "### Details"
   ]
  },
  {
   "cell_type": "markdown",
   "metadata": {},
   "source": [
    "Si se quieren hacer secciones de texto que normalmente estén contraidas, como por ejemplo una sección de preguntas frecuentes, podemos usar la etiqueta `details`. Dentro de esta etiqueta se pone la etiqueta `summary` que es el título de la sección. Y dentro de la etiqueta `details` se pone el texto de la sección."
   ]
  },
  {
   "cell_type": "code",
   "execution_count": null,
   "metadata": {
    "vscode": {
     "languageId": "plaintext"
    }
   },
   "outputs": [],
   "source": [
    "<details>\n",
    "    <summary>Título</summary>\n",
    "    <p>Texto</p>\n",
    "</details>"
   ]
  },
  {
   "cell_type": "markdown",
   "metadata": {},
   "source": [
    "Si queremos que alguno aparezca por defecto, se pone el atributo `open`."
   ]
  },
  {
   "cell_type": "code",
   "execution_count": null,
   "metadata": {
    "vscode": {
     "languageId": "plaintext"
    }
   },
   "outputs": [],
   "source": [
    "<details open>\n",
    "    <summary>Título</summary>\n",
    "    <p>Texto</p>\n",
    "</details>"
   ]
  }
 ],
 "metadata": {
  "kernelspec": {
   "display_name": "Python 3.8.10 64-bit",
   "language": "python",
   "name": "python3"
  },
  "language_info": {
   "name": "python",
   "version": "3.8.10"
  },
  "orig_nbformat": 4,
  "vscode": {
   "interpreter": {
    "hash": "916dbcbb3f70747c44a77c7bcd40155683ae19c65e1c03b4aa3499c5328201f1"
   }
  }
 },
 "nbformat": 4,
 "nbformat_minor": 2
}
