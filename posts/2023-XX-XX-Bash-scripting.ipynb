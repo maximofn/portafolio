{
 "cells": [
  {
   "attachments": {},
   "cell_type": "markdown",
   "metadata": {},
   "source": [
    "# Bash scripting"
   ]
  },
  {
   "attachments": {},
   "cell_type": "markdown",
   "metadata": {},
   "source": [
    "## Carpeta con scripts"
   ]
  },
  {
   "attachments": {},
   "cell_type": "markdown",
   "metadata": {},
   "source": [
    "Para realizar este post vamos a crear una carpeta donde vamos a guardar todos los scripts"
   ]
  },
  {
   "cell_type": "code",
   "execution_count": 2,
   "metadata": {},
   "outputs": [],
   "source": [
    "!mkdir scripts_bash"
   ]
  },
  {
   "attachments": {},
   "cell_type": "markdown",
   "metadata": {},
   "source": [
    "## Primer script"
   ]
  },
  {
   "attachments": {},
   "cell_type": "markdown",
   "metadata": {},
   "source": [
    "### Especificación del binario de ejecución"
   ]
  },
  {
   "attachments": {},
   "cell_type": "markdown",
   "metadata": {},
   "source": [
    "En linux se puede indicar con qué programa ejecutar un archivo poniendo en la primera linea `#!<ruta binario>`, por ejemplo, si creamos un `.py` podemos indicar que se tiene que ejecutar con python poniendo en la primera linea `#!/usr/bin/python3`. En nuestro, como estamos haciendo un script de la terminal ponemos en la primera linea `#!/bin/bash`.\n",
    "\n",
    "Ahora si se le dan permisos de ejecución al archivo, se puede ejecutar directamente sin indicar el programa con el que se tiene que ejecutar. Es decir, el `.py` ya no necesita ser ejecutado mediante `python script.py`, sino que se puede ejecutar mediante `.script.py`. En nuestro caso, en vez de ejecutar el archivo mediante `bash script.sh` podemos ejecutarlo mediante `./script.sh`"
   ]
  },
  {
   "attachments": {},
   "cell_type": "markdown",
   "metadata": {},
   "source": [
    "### Comentarios en scripts de bash"
   ]
  },
  {
   "attachments": {},
   "cell_type": "markdown",
   "metadata": {},
   "source": [
    "Si queremos introducir un comentario bastaría con empezar la linea con `#`.\n",
    "\n",
    "``` bash\n",
    "# Esto es un comentario de una sola línea\n",
    "```\n",
    "\n",
    "Si lo que queremos es introducir varias líneas de comentarios tenemos que empezar con `: '` y terminar con `'`\n",
    "\n",
    "``` bash\n",
    ": '\n",
    "Este es un comentario de varias líneas\n",
    "que se extiende a través de varias líneas.\n",
    "'\n",
    "```"
   ]
  },
  {
   "attachments": {},
   "cell_type": "markdown",
   "metadata": {},
   "source": [
    "### Imprimir por pantalla con el comando `echo`"
   ]
  },
  {
   "attachments": {},
   "cell_type": "markdown",
   "metadata": {},
   "source": [
    "Si queremos imprimir por pantalla utilizamos el comando `echo` seguido de lo que queramos imprimir"
   ]
  },
  {
   "cell_type": "code",
   "execution_count": 2,
   "metadata": {},
   "outputs": [
    {
     "name": "stdout",
     "output_type": "stream",
     "text": [
      "Writing scripts_bash/01_primerScript.sh\n"
     ]
    }
   ],
   "source": [
    "%%writefile scripts_bash/01_primerScript.sh\n",
    "#!/bin/bash\n",
    "# Comentario de una sola linea\n",
    ": '\n",
    "Comentario de varias\n",
    "lineas\n",
    "'\n",
    "echo \"Hola mundo\""
   ]
  },
  {
   "attachments": {},
   "cell_type": "markdown",
   "metadata": {},
   "source": [
    "Damos permisos de ejecución y ejecutamos el script"
   ]
  },
  {
   "cell_type": "code",
   "execution_count": 3,
   "metadata": {},
   "outputs": [
    {
     "name": "stdout",
     "output_type": "stream",
     "text": [
      "Hola mundo\n"
     ]
    }
   ],
   "source": [
    "!chmod +x scripts_bash/01_primerScript.sh && ./scripts_bash/01_primerScript.sh"
   ]
  },
  {
   "attachments": {},
   "cell_type": "markdown",
   "metadata": {},
   "source": [
    "## Declaración de variables"
   ]
  },
  {
   "attachments": {},
   "cell_type": "markdown",
   "metadata": {},
   "source": [
    "Hay dos tipos de variables, las `variables de usuario` y las `variables de entorno`"
   ]
  },
  {
   "attachments": {},
   "cell_type": "markdown",
   "metadata": {},
   "source": [
    "Para crear una variable basta con declararla introduciendo el nombre que queremos, seguido de `=` y el valor\n",
    "\n",
    "Para imprimir el valor de una variable con `echo`, se tiene que referenciar a ella mediante `$<nombre de variable>\n",
    "\n",
    "``` bash\n",
    "echo \"Variable = $<nombre de variable>\n",
    "```"
   ]
  },
  {
   "cell_type": "code",
   "execution_count": 6,
   "metadata": {},
   "outputs": [
    {
     "name": "stdout",
     "output_type": "stream",
     "text": [
      "Writing scripts_bash/02_variables.sh\n"
     ]
    }
   ],
   "source": [
    "%%writefile scripts_bash/02_variables.sh\n",
    "#!/bin/bash\n",
    "opcion=1\n",
    "nombre=\"Juan\"\n",
    "\n",
    "echo \"Opcion: $opcion\"\n",
    "echo \"Nombre: $nombre\""
   ]
  },
  {
   "cell_type": "code",
   "execution_count": 7,
   "metadata": {},
   "outputs": [
    {
     "name": "stdout",
     "output_type": "stream",
     "text": [
      "Opcion: 1\n",
      "Nombre: Juan\n"
     ]
    }
   ],
   "source": [
    "!chmod +x scripts_bash/02_variables.sh && ./scripts_bash/02_variables.sh"
   ]
  },
  {
   "attachments": {},
   "cell_type": "markdown",
   "metadata": {},
   "source": [
    "### Alcande de las variables"
   ]
  },
  {
   "attachments": {},
   "cell_type": "markdown",
   "metadata": {},
   "source": [
    "Las variables creadas solo son accesibles desde el script, es decir, su alcance es dentro del script"
   ]
  },
  {
   "attachments": {},
   "cell_type": "markdown",
   "metadata": {},
   "source": [
    "#### Exportación de variables"
   ]
  },
  {
   "attachments": {},
   "cell_type": "markdown",
   "metadata": {},
   "source": [
    "Podemos exportar variables para que estén accesibles por otros scrips, para ello primero exportamos la variable mediante el comando `export` y ejecutamos llamamos, dentro del script, al segundo script al que se le quiere pasar la variable"
   ]
  },
  {
   "cell_type": "code",
   "execution_count": 29,
   "metadata": {},
   "outputs": [
    {
     "name": "stdout",
     "output_type": "stream",
     "text": [
      "Overwriting scripts_bash/02_variables.sh\n"
     ]
    }
   ],
   "source": [
    "%%writefile scripts_bash/02_variables.sh\n",
    "#!/bin/bash\n",
    "opcion=1\n",
    "nombre=\"Juan\"\n",
    "\n",
    "echo \"Opcion: $opcion\"\n",
    "echo \"Nombre: $nombre\"\n",
    "\n",
    "# Exportar variable nombre\n",
    "echo \"export nombre=$nombre\"\n",
    "export nombre\n",
    "\n",
    "# Ejecutar script de importacion\n",
    "echo \"\"\n",
    "echo \"Ejecutando script de importacion\"\n",
    "./scripts_bash/02_variables_importacion.sh"
   ]
  },
  {
   "cell_type": "code",
   "execution_count": 30,
   "metadata": {},
   "outputs": [
    {
     "name": "stdout",
     "output_type": "stream",
     "text": [
      "Writing scripts_bash/02_variables_importacion.sh\n"
     ]
    }
   ],
   "source": [
    "%%writefile scripts_bash/02_variables_importacion.sh\n",
    "#!/bin/bash\n",
    "echo \"Nombre importado: $nombre\""
   ]
  },
  {
   "cell_type": "code",
   "execution_count": 32,
   "metadata": {},
   "outputs": [
    {
     "name": "stdout",
     "output_type": "stream",
     "text": [
      "Opcion: 1\n",
      "Nombre: Juan\n",
      "export nombre=Juan\n",
      "\n",
      "Ejecutando script de importacion\n",
      "Nombre importado: Juan\n"
     ]
    }
   ],
   "source": [
    "!chmod +x scripts_bash/02_variables.sh && chmod +x scripts_bash/02_variables_importacion.sh && ./scripts_bash/02_variables.sh"
   ]
  },
  {
   "attachments": {},
   "cell_type": "markdown",
   "metadata": {},
   "source": [
    "Se tiene que ejecutar el segundo script dentro del primer script. Si ahora ejecutamos el segundo script no tenemos la variable"
   ]
  },
  {
   "cell_type": "code",
   "execution_count": 33,
   "metadata": {},
   "outputs": [
    {
     "name": "stdout",
     "output_type": "stream",
     "text": [
      "Nombre importado: \n"
     ]
    }
   ],
   "source": [
    "!chmod +x scripts_bash/02_variables_importacion.sh && ./scripts_bash/02_variables_importacion.sh"
   ]
  },
  {
   "attachments": {},
   "cell_type": "markdown",
   "metadata": {},
   "source": [
    "Si queremos que sea accesible desde cualquier un segundo script, sin tener que ejecutarlo dentro del primer scritp, tenemos que exportar la variable a una variable de entorno"
   ]
  },
  {
   "attachments": {},
   "cell_type": "markdown",
   "metadata": {},
   "source": [
    "## Tipos de operadores"
   ]
  },
  {
   "attachments": {},
   "cell_type": "markdown",
   "metadata": {},
   "source": [
    "A continuación mostramos todos los posibles operadores"
   ]
  },
  {
   "cell_type": "code",
   "execution_count": 38,
   "metadata": {},
   "outputs": [
    {
     "name": "stdout",
     "output_type": "stream",
     "text": [
      "Overwriting scripts_bash/03_operadores.sh\n"
     ]
    }
   ],
   "source": [
    "%%writefile scripts_bash/03_operadores.sh\n",
    "#!/bin/bash\n",
    "\n",
    "# Asignación de variables\n",
    "x=10\n",
    "y=20\n",
    "echo \"x = $x\"\n",
    "echo \"y = $y\"\n",
    "\n",
    "# Operadores aritméticos\n",
    "echo \"\"\n",
    "echo \"Operadores aritméticos\"\n",
    "echo \"x + y = $((x + y))\"\n",
    "echo \"x - y = $((x - y))\"\n",
    "echo \"x * y = $((x * y))\"\n",
    "echo \"x / y = $((x / y))\"\n",
    "echo \"x % y = $((x % y))\"\n",
    "\n",
    "# Operadores de comparación\n",
    "echo \"\"\n",
    "echo \"Operadores de comparación\"\n",
    "if [ \"$x\" -eq \"$y\" ]; then\n",
    "  echo \"x es igual a y\"\n",
    "else\n",
    "  echo \"x no es igual a y\"\n",
    "fi\n",
    "\n",
    "if [ \"$x\" -ne \"$y\" ]; then\n",
    "  echo \"x no es igual a y\"\n",
    "else\n",
    "  echo \"x es igual a y\"\n",
    "fi\n",
    "\n",
    "if [ \"$x\" -lt \"$y\" ]; then\n",
    "  echo \"x es menor que y\"\n",
    "else\n",
    "  echo \"x no es menor que y\"\n",
    "fi\n",
    "\n",
    "if [ \"$x\" -gt \"$y\" ]; then\n",
    "  echo \"x es mayor que y\"\n",
    "else\n",
    "  echo \"x no es mayor que y\"\n",
    "fi\n",
    "\n",
    "# Operadores de cadena\n",
    "echo \"\"\n",
    "echo \"Operadores de cadena\"\n",
    "if [ \"$a\" = \"$b\" ]; then\n",
    "  echo \"a es igual a b\"\n",
    "else\n",
    "  echo \"a no es igual a b\"\n",
    "fi\n",
    "\n",
    "if [ \"$a\" != \"$b\" ]; then\n",
    "  echo \"a no es igual a b\"\n",
    "else\n",
    "  echo \"a es igual a b\"\n",
    "fi\n",
    "\n",
    "if [ -z \"$a\" ]; then\n",
    "  echo \"a es una cadena vacía\"\n",
    "else\n",
    "  echo \"a no es una cadena vacía\"\n",
    "fi\n",
    "\n",
    "if [ -n \"$a\" ]; then\n",
    "  echo \"a no es una cadena vacía\"\n",
    "else\n",
    "  echo \"a es una cadena vacía\"\n",
    "fi\n",
    "\n",
    "# Operadores de archivo\n",
    "echo \"\"\n",
    "echo \"Operadores de archivo\"\n",
    "if [ -e \"/path/to/file\" ]; then\n",
    "  echo \"El archivo existe\"\n",
    "else\n",
    "  echo \"El archivo no existe\"\n",
    "fi\n",
    "\n",
    "if [ -f \"/path/to/file\" ]; then\n",
    "  echo \"Es un archivo regular\"\n",
    "else\n",
    "  echo \"No es un archivo regular\"\n",
    "fi\n",
    "\n",
    "if [ -d \"/path/to/dir\" ]; then\n",
    "  echo \"Es un directorio\"\n",
    "else\n",
    "  echo \"No es un directorio\"\n",
    "fi\n"
   ]
  },
  {
   "cell_type": "code",
   "execution_count": 39,
   "metadata": {},
   "outputs": [
    {
     "name": "stdout",
     "output_type": "stream",
     "text": [
      "x = 10\n",
      "y = 20\n",
      "\n",
      "Operadores aritméticos\n",
      "x + y = 30\n",
      "x - y = -10\n",
      "x * y = 200\n",
      "x / y = 0\n",
      "x % y = 10\n",
      "\n",
      "Operadores de comparación\n",
      "x no es igual a y\n",
      "x no es igual a y\n",
      "x es menor que y\n",
      "x no es mayor que y\n",
      "\n",
      "Operadores de cadena\n",
      "a es igual a b\n",
      "a es igual a b\n",
      "a es una cadena vacía\n",
      "a es una cadena vacía\n",
      "\n",
      "Operadores de archivo\n",
      "El archivo no existe\n",
      "No es un archivo regular\n",
      "No es un directorio\n"
     ]
    }
   ],
   "source": [
    "!chmod +x scripts_bash/03_operadores.sh && ./scripts_bash/03_operadores.sh"
   ]
  },
  {
   "attachments": {},
   "cell_type": "markdown",
   "metadata": {},
   "source": [
    "## Paso de argumentos"
   ]
  },
  {
   "attachments": {},
   "cell_type": "markdown",
   "metadata": {},
   "source": [
    "Se pueden pasar argumentos a los scrips, una vez dentro del script podemos hacer uso de ellos de la siguiente manera\n",
    "\n",
    " * Por número de argumento: en este caso se nombrarán como `$1`, `$2`, etc. Pero en caso de que el número de argumentos sea mayor que 9, es decir que haga falta más de 2 dígitos para nombrarlo, en ese caso se identificará el número entre llaves, `${1}`, `${2}`, ..., ${10}, ${11}, etc\n",
    " * Si se llama al argumento $0 estamos obteniendo el nombre del archivo\n",
    " * Si queremos todos los argumentos lo hacemos mediante `$*`\n",
    " * Si lo que queremos es el número de argumentos que tenemos lo obtenemos mediante `$#`\n",
    " * Si queremos saner la salida del último comando lo podemos saber mediante `$?`\n",
    " * Si queremos saber el `PID` del script, lo podemos saber mediante `$$`\n",
    " * Podemos remplazar el valor de una cadena de un argumento mediante `${<indice de argumento>/cadena que se quiere sustituir/cadena nueva}`, es decir, si tenemos `${1/hola/hello}` sustituirá la palabra `hola` por la palabra `hello` en el argumento 1\n",
    " * Sin embargo, si usamos `${<indice de argumento>/#cadena que se quiere sustituir/cadena nueva}`, solo sustituirá la cadena en el argumento si este argumento empieza por dicha cadena"
   ]
  },
  {
   "cell_type": "code",
   "execution_count": 8,
   "metadata": {},
   "outputs": [
    {
     "name": "stdout",
     "output_type": "stream",
     "text": [
      "Overwriting scripts_bash/04_argumentos.sh\n"
     ]
    }
   ],
   "source": [
    "%%writefile scripts_bash/04_argumentos.sh\n",
    "#!/bin/bash\n",
    "\n",
    "# Pasos de argumentos simples\n",
    "echo \"Primer argumento: $1\"\n",
    "echo \"Segundo argumento: $2\"\n",
    "echo \"Tercer argumento: $3\"\n",
    "\n",
    "# Accediendo a todos los argumentos\n",
    "echo \"Todos los argumentos: $*\"\n",
    "\n",
    "# Accediendo al número de argumentos\n",
    "echo \"Número de argumentos: $#\"\n",
    "\n",
    "# Accediendo al nombre del script\n",
    "echo \"Nombre del script: $0\"\n",
    "\n",
    "# Accediendo al código de salida del último comando ejecutado\n",
    "echo \"Código de salida del último comando: $?\"\n",
    "\n",
    "# Accediendo al PID del script\n",
    "echo \"PID del script: $$\"\n",
    "\n",
    "# Accediendo a los argumentos con índices\n",
    "echo \"Argumento 3: ${3}\"\n",
    "echo \"Argumento 2: ${2}\"\n",
    "\n",
    "# Accediendo a los argumentos con índices y longitud máxima\n",
    "echo \"Argumento 3 con longitud máxima de 2 caracteres: ${3:0:2}\"\n",
    "echo \"Argumento 2 con longitud máxima de 3 caracteres: ${2:0:3}\"\n",
    "\n",
    "# Reemplazando argumentos con índices y longitud máxima\n",
    "echo \"Reemplazando argumento 3: ${3/arg/ARG}\"\n",
    "echo \"Reemplazando argumento 2: $                                                                                                                                                                                                                                                                                                                                                                                                                                                                                                                                                                                                                                                                                                                                                                                                                                                                                                                                                                                                                                                                                                                                                                                                                                                                                                                                                                                                                                                                                                                                                                                                                                                                                                                                                                                                                                                                                                                                                                                                                                                                                                                                                                                                                                                                                                                                                                                                                                                                                                                                                                                                                                                                                                                                                                                                                                                                                                                                                                                                                                                                                                                                                                                                                                                                                                                                                                                                                                                                                                                                                                                                                                                                                                                                                                                                                                                                                                                                                                                                                                                                                                                                                                                                                   {2/arg/ARG}\"\n",
    "\n",
    "# Accediendo a los argumentos con índices y patrones de reemplazo\n",
    "echo \"Reemplazando patrón en argumento 3: ${3/#tercer/TERCER}\"\n",
    "echo \"Reemplazando patrón en argumento 2: ${2/#arg/ARG}\""
   ]
  },
  {
   "cell_type": "code",
   "execution_count": 6,
   "metadata": {},
   "outputs": [
    {
     "name": "stdout",
     "output_type": "stream",
     "text": [
      "Primer argumento: primer argumento\n",
      "Segundo argumento: segundo argumento\n",
      "Tercer argumento: tercer argumento\n",
      "Todos los argumentos: primer argumento segundo argumento tercer argumento\n",
      "Número de argumentos: 3\n",
      "Nombre del script: ./scripts_bash/04_argumentos.sh\n",
      "Código de salida del último comando: 0\n",
      "PID del script: 11644\n",
      "Argumento 3: tercer argumento\n",
      "Argumento 2: segundo argumento\n",
      "Argumento 3 con longitud máxima de 2 caracteres: te\n",
      "Argumento 2 con longitud máxima de 3 caracteres: seg\n",
      "Reemplazando argumento 3: tercer ARGumento\n",
      "Reemplazando argumento 2: segundo ARGumento\n",
      "Reemplazando patrón en argumento 3: tercer argumento\n",
      "Reemplazando patrón en argumento 2: segundo argumento\n"
     ]
    }
   ],
   "source": [
    "!arg1=\"primer argumento\" && arg2=\"segundo argumento\" && arg3=\"tercer argumento\" && chmod +x scripts_bash/04_argumentos.sh && ./scripts_bash/04_argumentos.sh \"$arg1\" \"$arg2\" \"$arg3\""
   ]
  },
  {
   "attachments": {},
   "cell_type": "markdown",
   "metadata": {},
   "source": [
    "## Ejecutar comandos y guardarlos en una variable"
   ]
  },
  {
   "attachments": {},
   "cell_type": "markdown",
   "metadata": {},
   "source": [
    "Tenemos dos maneras de ejecutar un comando y guardar su salida en una variable\n",
    " * Mediante variable=`command`\n",
    " * Mediante `variable=$(command)`"
   ]
  },
  {
   "cell_type": "code",
   "execution_count": 23,
   "metadata": {},
   "outputs": [
    {
     "name": "stdout",
     "output_type": "stream",
     "text": [
      "Overwriting scripts_bash/05_variables_comandos.sh\n"
     ]
    }
   ],
   "source": [
    "%%writefile scripts_bash/05_variables_comandos.sh\n",
    "#!/bin/bash\n",
    "\n",
    "path=$(pwd)\n",
    "infokernel=`uname -a`\n",
    "\n",
    "echo \"El directorio actual es: $path\"\n",
    "echo \"La información del kernel es: $infokernel\""
   ]
  },
  {
   "cell_type": "code",
   "execution_count": 24,
   "metadata": {},
   "outputs": [
    {
     "name": "stdout",
     "output_type": "stream",
     "text": [
      "El directorio actual es: /home/wallabot/Documentos/web/portafolio/posts\n",
      "La información del kernel es: Linux wallabot 5.15.0-57-generic #63~20.04.1-Ubuntu SMP Wed Nov 30 13:40:16 UTC 2022 x86_64 x86_64 x86_64 GNU/Linux\n"
     ]
    }
   ],
   "source": [
    "!chmod +x scripts_bash/05_variables_comandos.sh && ./scripts_bash/05_variables_comandos.sh"
   ]
  },
  {
   "attachments": {},
   "cell_type": "markdown",
   "metadata": {},
   "source": [
    "## Debugging"
   ]
  },
  {
   "attachments": {},
   "cell_type": "markdown",
   "metadata": {},
   "source": [
    "Hay dos maneras de poder depurar en bash scripting\n",
    " * Usando `-v`: Ejecución detallada de un script linea por línea\n",
    " * Usando `-x`: Despliegue de información del script"
   ]
  },
  {
   "cell_type": "code",
   "execution_count": 25,
   "metadata": {},
   "outputs": [
    {
     "name": "stdout",
     "output_type": "stream",
     "text": [
      "#!/bin/bash\n",
      "\n",
      "path=$(pwd)\n",
      "infokernel=`uname -a`\n",
      "\n",
      "echo \"El directorio actual es: $path\"\n",
      "El directorio actual es: /home/wallabot/Documentos/web/portafolio/posts\n",
      "echo \"La información del kernel es: $infokernel\"\n",
      "La información del kernel es: Linux wallabot 5.15.0-57-generic #63~20.04.1-Ubuntu SMP Wed Nov 30 13:40:16 UTC 2022 x86_64 x86_64 x86_64 GNU/Linux\n"
     ]
    }
   ],
   "source": [
    "!bash -v scripts_bash/05_variables_comandos.sh"
   ]
  },
  {
   "cell_type": "code",
   "execution_count": 26,
   "metadata": {},
   "outputs": [
    {
     "name": "stdout",
     "output_type": "stream",
     "text": [
      "++ pwd\n",
      "+ path=/home/wallabot/Documentos/web/portafolio/posts\n",
      "++ uname -a\n",
      "+ infokernel='Linux wallabot 5.15.0-57-generic #63~20.04.1-Ubuntu SMP Wed Nov 30 13:40:16 UTC 2022 x86_64 x86_64 x86_64 GNU/Linux'\n",
      "+ echo 'El directorio actual es: /home/wallabot/Documentos/web/portafolio/posts'\n",
      "El directorio actual es: /home/wallabot/Documentos/web/portafolio/posts\n",
      "+ echo 'La información del kernel es: Linux wallabot 5.15.0-57-generic #63~20.04.1-Ubuntu SMP Wed Nov 30 13:40:16 UTC 2022 x86_64 x86_64 x86_64 GNU/Linux'\n",
      "La información del kernel es: Linux wallabot 5.15.0-57-generic #63~20.04.1-Ubuntu SMP Wed Nov 30 13:40:16 UTC 2022 x86_64 x86_64 x86_64 GNU/Linux\n"
     ]
    }
   ],
   "source": [
    "!bash -x scripts_bash/05_variables_comandos.sh"
   ]
  },
  {
   "attachments": {},
   "cell_type": "markdown",
   "metadata": {},
   "source": [
    "## Obtener información del usuario"
   ]
  },
  {
   "attachments": {},
   "cell_type": "markdown",
   "metadata": {},
   "source": [
    "### Obtener información mediante los comandos `echo` y `read`"
   ]
  },
  {
   "attachments": {},
   "cell_type": "markdown",
   "metadata": {},
   "source": [
    "Tenemos dos maneras de obtener información del usuario\n",
    " 1. Mediante el comando `echo -n`. Con el flag `-n` indicamos que no queremos que se imprima un salto de línea al final del `echo`. Por ejemplo, `echo -n \"Introduce dato: \"`, con este comando le pedimos un dato y el cursor se quedará en la misma linea, no habrá un salto\n",
    " 2. Mediante el comando `read`. Con este comando el programa se quedará esperando aq eu el usuario introduzca datos terminando con un salto de linea. Lo que haya introducido lo guardará en la variable `REPLY`. Si se quiere que la variable donde se guarda el dato introducido por el usuario tenga otro ombre se debe introducir `read [variable]`, por ejemplo el comando `read miVariable`, guardará el dato del usuario en la variable `miVariable`\n",
    " 3. Mediante el comando `$REPLY` o `$[variable]` accedemos al dato introducido por el usuario."
   ]
  },
  {
   "cell_type": "code",
   "execution_count": 51,
   "metadata": {},
   "outputs": [
    {
     "name": "stdout",
     "output_type": "stream",
     "text": [
      "Overwriting scripts_bash/06_leer_informacion.sh\n"
     ]
    }
   ],
   "source": [
    "%%writefile scripts_bash/06_leer_informacion.sh\n",
    "#!/bin/bash\n",
    "\n",
    "option=0\n",
    "backupName=\"\"\n",
    "\n",
    "echo \"Programa de utilidades\"\n",
    "echo -n \"Ingresar una opción: \"\n",
    "read\n",
    "option=$REPLY\n",
    "echo \"\"\n",
    "echo -n \"Ingresar un nombre: \"\n",
    "read backupName\n",
    "echo \"\"\n",
    "echo \"Opción: $option, backupName: $backupName\"\n"
   ]
  },
  {
   "attachments": {},
   "cell_type": "markdown",
   "metadata": {},
   "source": [
    "Como en un jupyter notebook no puedo meter los datos según me los va pidiendo, se los meto antes en un pipe `|`"
   ]
  },
  {
   "cell_type": "code",
   "execution_count": 52,
   "metadata": {},
   "outputs": [
    {
     "name": "stdout",
     "output_type": "stream",
     "text": [
      "Programa de utilidades\n",
      "Ingresar una opción: \n",
      "Ingresar un nombre: \n",
      "Opción: 1, backupName: nombreprueba\n"
     ]
    }
   ],
   "source": [
    "!chmod +x scripts_bash/06_leer_informacion.sh && echo \"1\\nnombreprueba\" | ./scripts_bash/06_leer_informacion.sh"
   ]
  },
  {
   "attachments": {},
   "cell_type": "markdown",
   "metadata": {},
   "source": [
    "### Obtener información solo mediante el comando `read`"
   ]
  },
  {
   "attachments": {},
   "cell_type": "markdown",
   "metadata": {},
   "source": [
    "Otra forma de obtener información es usar solo el comando `read`, la sintaxsis sería\n",
    "\n",
    "``` bash\n",
    "read -p \"Mensaje de prompt:\" [variable]\n",
    "```\n",
    "\n",
    "El flag `-p` indica que el mensaje `Mensaje de prompt:` se mostrará antes de esperar a que el usuario introduzca el dato. Si no se especifica nombre de variable, el dato se guardará en la variable `REPLY`"
   ]
  },
  {
   "cell_type": "code",
   "execution_count": 55,
   "metadata": {},
   "outputs": [
    {
     "name": "stdout",
     "output_type": "stream",
     "text": [
      "Overwriting scripts_bash/06_leer_informacion.sh\n"
     ]
    }
   ],
   "source": [
    "%%writefile scripts_bash/06_leer_informacion.sh\n",
    "#!/bin/bash\n",
    "\n",
    "option=0\n",
    "backupName=\"\"\n",
    "\n",
    "echo \"Programa de utilidades\"\n",
    "echo -n \"Ingresar una opción: \"\n",
    "read\n",
    "option1=$REPLY\n",
    "echo \"\"\n",
    "echo -n \"Ingresar un nombre: \"\n",
    "read backupName\n",
    "echo \"\"\n",
    "read -p \"Ingresar otra opción: \" option2\n",
    "echo \"\"\n",
    "echo \"Opción: $option1-$option2, backupName: $backupName\""
   ]
  },
  {
   "cell_type": "code",
   "execution_count": 56,
   "metadata": {},
   "outputs": [
    {
     "name": "stdout",
     "output_type": "stream",
     "text": [
      "Programa de utilidades\n",
      "Ingresar una opción: \n",
      "Ingresar un nombre: \n",
      "\n",
      "Opción: 1-2, backupName: nombreprueba\n"
     ]
    }
   ],
   "source": [
    "!chmod +x scripts_bash/06_leer_informacion.sh && echo \"1\\nnombreprueba\\n2\" | ./scripts_bash/06_leer_informacion.sh"
   ]
  },
  {
   "attachments": {},
   "cell_type": "markdown",
   "metadata": {},
   "source": [
    "## Validar la información del usuario"
   ]
  },
  {
   "attachments": {},
   "cell_type": "markdown",
   "metadata": {},
   "source": [
    "Para validar la información del usuario lo mejor sería usar expresiones regulares, aquí dejo un [post](https://maximofn.com/expresiones-regulares/) donde las explico"
   ]
  },
  {
   "attachments": {},
   "cell_type": "markdown",
   "metadata": {},
   "source": [
    "Además podemos especificar el número de caracteres que queremos que el usuario introduzca cuando usamos `read`, para ello usamos el flag `-n`, el cual, si no le sigue ningún número esperará hasta que el usuario introduzca un salto de linea, y si le sigue un número, esperará hasta que el usuario introduzca ese número de caracteres"
   ]
  },
  {
   "cell_type": "code",
   "execution_count": 1,
   "metadata": {},
   "outputs": [
    {
     "name": "stdout",
     "output_type": "stream",
     "text": [
      "Writing scripts_bash/07_validar_informacion.sh\n"
     ]
    }
   ],
   "source": [
    "%%writefile scripts_bash/07_validar_informacion.sh\n",
    "#!/bin/bash\n",
    "\n",
    "option=0\n",
    "backupName=\"\"\n",
    "\n",
    "echo \"Programa de utilidades\"\n",
    "echo -n \"Ingresar una opción: \"\n",
    "read -n1\n",
    "option1=$REPLY\n",
    "echo \"\"\n",
    "echo -n \"Ingresar un nombre: \"\n",
    "read -n4 backupName\n",
    "echo \"\"\n",
    "read -p \"Ingresar otra opción: \" option2\n",
    "echo \"\"\n",
    "echo \"Opción: $option1-$option2, backupName: $backupName\""
   ]
  },
  {
   "cell_type": "code",
   "execution_count": 3,
   "metadata": {},
   "outputs": [
    {
     "name": "stdout",
     "output_type": "stream",
     "text": [
      "Programa de utilidades\n",
      "Ingresar una opción: \n",
      "Ingresar un nombre: \n",
      "\n",
      "Opción: 1-2, backupName: back\n"
     ]
    }
   ],
   "source": [
    "!chmod +x scripts_bash/07_validar_informacion.sh && echo \"1back2\" | ./scripts_bash/07_validar_informacion.sh"
   ]
  },
  {
   "attachments": {},
   "cell_type": "markdown",
   "metadata": {},
   "source": [
    "Si queremos que introduzca un valor confidencial, como una clave, ponemos el flag `-s` (security). De esta manera, cuando el usuario introduzca el dato, este no se imprimirá en la consola"
   ]
  },
  {
   "cell_type": "code",
   "execution_count": 4,
   "metadata": {},
   "outputs": [
    {
     "name": "stdout",
     "output_type": "stream",
     "text": [
      "Overwriting scripts_bash/07_validar_informacion.sh\n"
     ]
    }
   ],
   "source": [
    "%%writefile scripts_bash/07_validar_informacion.sh\n",
    "#!/bin/bash\n",
    "\n",
    "option=0\n",
    "backupName=\"\"\n",
    "\n",
    "echo \"Programa de utilidades\"\n",
    "echo -n \"Ingresar una opción: \"\n",
    "read -n1\n",
    "option1=$REPLY\n",
    "echo \"\"\n",
    "echo -n \"Ingresar un nombre: \"\n",
    "read -n4 backupName\n",
    "echo \"\"\n",
    "read -p \"Ingresar otra opción: \" option2\n",
    "echo \"\"\n",
    "read -s -p \"Password: \" password\n",
    "echo \"\"\n",
    "echo \"Opción: $option1-$option2, backupName: $backupName, password: $password\""
   ]
  },
  {
   "cell_type": "code",
   "execution_count": 5,
   "metadata": {},
   "outputs": [
    {
     "name": "stdout",
     "output_type": "stream",
     "text": [
      "Programa de utilidades\n",
      "Ingresar una opción: \n",
      "Ingresar un nombre: \n",
      "\n",
      "\n",
      "Opción: 1-2, backupName: back, password: 1234\n"
     ]
    }
   ],
   "source": [
    "!chmod +x scripts_bash/07_validar_informacion.sh && echo \"1back2\\n1234\" | ./scripts_bash/07_validar_informacion.sh"
   ]
  },
  {
   "attachments": {},
   "cell_type": "markdown",
   "metadata": {},
   "source": [
    "## If else"
   ]
  },
  {
   "attachments": {},
   "cell_type": "markdown",
   "metadata": {},
   "source": [
    "La manera de escribir condicionales `if`-`else` es:\n",
    "\n",
    "``` bash\n",
    "if [[condicion]]; then\n",
    "    statement\n",
    "elif [[condicion]]; then\n",
    "    statement\n",
    "else\n",
    "    statement\n",
    "fi\n",
    "```\n",
    "\n",
    "Es importante recalcar que las condiciones tienen que estar entre dos corchetes `[[]]`"
   ]
  },
  {
   "cell_type": "code",
   "execution_count": 5,
   "metadata": {},
   "outputs": [
    {
     "name": "stdout",
     "output_type": "stream",
     "text": [
      "Overwriting scripts_bash/08_if_else.sh\n"
     ]
    }
   ],
   "source": [
    "%%writefile scripts_bash/08_if_else.sh\n",
    "#!/bin/bash\n",
    "\n",
    "if [[ 1 > 2 ]]; then\n",
    "    echo \"Verdadero\"\n",
    "elif [[ 1 > 3 ]]; then\n",
    "    echo \"Verdadero\"\n",
    "else\n",
    "    echo \"Falso\"\n",
    "fi"
   ]
  },
  {
   "cell_type": "code",
   "execution_count": 6,
   "metadata": {},
   "outputs": [
    {
     "name": "stdout",
     "output_type": "stream",
     "text": [
      "Falso\n"
     ]
    }
   ],
   "source": [
    "!chmod +x scripts_bash/08_if_else.sh && ./scripts_bash/08_if_else.sh"
   ]
  },
  {
   "attachments": {},
   "cell_type": "markdown",
   "metadata": {},
   "source": [
    "Veamos cómo se crean `if`s anidados"
   ]
  },
  {
   "cell_type": "code",
   "execution_count": 7,
   "metadata": {},
   "outputs": [
    {
     "name": "stdout",
     "output_type": "stream",
     "text": [
      "Overwriting scripts_bash/08_if_else.sh\n"
     ]
    }
   ],
   "source": [
    "%%writefile scripts_bash/08_if_else.sh\n",
    "#!/bin/bash\n",
    "\n",
    "if [[ 1 > 2 ]]; then\n",
    "    echo \"Verdadero\"\n",
    "elif [[ 1 > 3 ]]; then\n",
    "    echo \"Verdadero\"\n",
    "else\n",
    "    if [[ 1 > 4 ]]; then\n",
    "        echo \"Verdadero pero falso\"\n",
    "    else\n",
    "        echo \"Totalmente falso\"\n",
    "    fi\n",
    "fi"
   ]
  },
  {
   "cell_type": "code",
   "execution_count": 8,
   "metadata": {},
   "outputs": [
    {
     "name": "stdout",
     "output_type": "stream",
     "text": [
      "Totalmente falso\n"
     ]
    }
   ],
   "source": [
    "!chmod +x scripts_bash/08_if_else.sh && ./scripts_bash/08_if_else.sh"
   ]
  },
  {
   "attachments": {},
   "cell_type": "markdown",
   "metadata": {},
   "source": [
    "## Expresiones condicionales"
   ]
  },
  {
   "attachments": {},
   "cell_type": "markdown",
   "metadata": {},
   "source": [
    "Ya hemos visto como crear `if`s, pero es necesario explicar cómo crear las expresiones condicionales"
   ]
  }
 ],
 "metadata": {
  "kernelspec": {
   "display_name": "base",
   "language": "python",
   "name": "python3"
  },
  "language_info": {
   "codemirror_mode": {
    "name": "ipython",
    "version": 3
   },
   "file_extension": ".py",
   "mimetype": "text/x-python",
   "name": "python",
   "nbconvert_exporter": "python",
   "pygments_lexer": "ipython3",
   "version": "3.9.13"
  },
  "orig_nbformat": 4,
  "vscode": {
   "interpreter": {
    "hash": "b2af3135499c4cc4659220baa8d57d20fd35a58497fd7648737e38d0561042d8"
   }
  }
 },
 "nbformat": 4,
 "nbformat_minor": 2
}
