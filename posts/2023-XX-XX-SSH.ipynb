{
 "cells": [
  {
   "attachments": {},
   "cell_type": "markdown",
   "metadata": {},
   "source": [
    "# SSH"
   ]
  },
  {
   "attachments": {},
   "cell_type": "markdown",
   "metadata": {},
   "source": [
    "## Introducción histórica"
   ]
  },
  {
   "attachments": {},
   "cell_type": "markdown",
   "metadata": {},
   "source": [
    "En los primeros días de internet se creo el protocolo `telnet` para poder comunicar varios ordenadores, pero tenía el problema de que no estaba cifrado, por lo que cualquiera que se metiera en medio podía leer la comunicación sin problema, por eso se creó `SSH` (Secure Shell)"
   ]
  },
  {
   "attachments": {},
   "cell_type": "markdown",
   "metadata": {},
   "source": [
    "## Cifrado de `SSH`"
   ]
  },
  {
   "attachments": {},
   "cell_type": "markdown",
   "metadata": {},
   "source": [
    "El sistema de cifrado de `SSH` funciona mediante el sistema de clave pública y clave privada, de manera que si se encripta la comunicación con una de las dos, solo puede ser descifrada por la otra\n",
    "\n",
    "¿Y por qué hay una clave pública y una clave privada? La clave pública es la que le das a todo el mundo y la clave privada es la que solo tienes que poseer tú.\n",
    "\n",
    "De manera que si te quieres comunicar con otro equipo por `SSH`, primero le das tu clave pública, a continuación encriptas el mensaje con tu clave privada y solo se puede desencriptar el mensaje con la clave pública que le has dado al otro equipo\n",
    "\n",
    "De la misma manera ocurre a la inversa, si el otro equipo te quiere mandar un mensaje, lo encripta con tu clave pública y solo se puede desencriptar con la clave privada que solo tú posees"
   ]
  },
  {
   "attachments": {},
   "cell_type": "markdown",
   "metadata": {},
   "source": [
    "## Requerimentos `SSH`"
   ]
  },
  {
   "attachments": {},
   "cell_type": "markdown",
   "metadata": {},
   "source": [
    "### Servicio `SSH`"
   ]
  },
  {
   "attachments": {},
   "cell_type": "markdown",
   "metadata": {},
   "source": [
    "Para poder usar `SSH` necesitas tener un servicio de `SSH`. En `Linux` normalmete ya viene instalado, pero si no es así lo puedes instalar mediante"
   ]
  },
  {
   "attachments": {},
   "cell_type": "markdown",
   "metadata": {},
   "source": [
    "``` bash\n",
    "apt install openssh-server\n",
    "```"
   ]
  },
  {
   "attachments": {},
   "cell_type": "markdown",
   "metadata": {},
   "source": [
    "Durante el proceso de instalación te pedirá tu ubicación para ajustar el time zone"
   ]
  },
  {
   "attachments": {},
   "cell_type": "markdown",
   "metadata": {},
   "source": [
    "A continuación levantamos el servicio"
   ]
  },
  {
   "attachments": {},
   "cell_type": "markdown",
   "metadata": {},
   "source": [
    "``` bash\n",
    "systemctl enable ssh\n",
    "```"
   ]
  },
  {
   "attachments": {},
   "cell_type": "markdown",
   "metadata": {},
   "source": [
    "### Cliente `SSH`"
   ]
  },
  {
   "attachments": {},
   "cell_type": "markdown",
   "metadata": {},
   "source": [
    "Una vez tienes el servicio necesitas un cliente, aunque en `Linux` suele venir instalado, pero si no es así lo puedes instalar mediante"
   ]
  },
  {
   "attachments": {},
   "cell_type": "markdown",
   "metadata": {},
   "source": [
    "``` bash\n",
    "apt install openssh-client\n",
    "```"
   ]
  },
  {
   "attachments": {},
   "cell_type": "markdown",
   "metadata": {},
   "source": [
    "## Conexión por `SSH`"
   ]
  },
  {
   "attachments": {},
   "cell_type": "markdown",
   "metadata": {},
   "source": [
    "Para conectarte por `SSH` necesitas introducir el comando `ssh <user>@<ip>`"
   ]
  },
  {
   "attachments": {},
   "cell_type": "markdown",
   "metadata": {},
   "source": [
    "``` bash\n",
    "ssh root@172.17.0.1\n",
    "The authenticity of host '172.17.0.1 (172.17.0.1)' can't be established.\n",
    "ECDSA key fingerprint is SHA256:M+qsqSC4HiYztm1ij8iDkh9KHJz+pxrTm9GTZIf2N9k.\n",
    "Are you sure you want to continue connecting (yes/no/[fingerprint])?\n",
    "```"
   ]
  },
  {
   "attachments": {},
   "cell_type": "markdown",
   "metadata": {},
   "source": [
    "Como puedes ver, la primera vez te pregunta si quieres guardar el `fingerprint`, esto es para que si la próxima vez que te conectes a la misma máquina (a la misma clave pública) si ha cambiado el `fingerprint` debes tener cuidado porque puede haber algo peligroso, como que hagan pasarse por esa máquina.\n",
    "\n",
    "Si nos fiamos introducimos `yes`"
   ]
  },
  {
   "attachments": {},
   "cell_type": "markdown",
   "metadata": {},
   "source": [
    "``` bash\n",
    "ssh root@172.17.0.1\n",
    "The authenticity of host '172.17.0.1 (172.17.0.1)' can't be established.\n",
    "ECDSA key fingerprint is SHA256:M+qsqSC4HiYztm1ij8iDkh9KHJz+pxrTm9GTZIf2N9k.\n",
    "Are you sure you want to continue connecting (yes/no/[fingerprint])? yes\n",
    "Warning: Permanently added '172.17.0.1' (ECDSA) to the list of known hosts.\n",
    "root@172.17.0.1's password:\n",
    "```"
   ]
  },
  {
   "attachments": {},
   "cell_type": "markdown",
   "metadata": {},
   "source": [
    "A continuación, la máquina a la que nos conectamos nos pide la contraseña, la introducimos y ya estaremos dentro de la máquina"
   ]
  },
  {
   "attachments": {},
   "cell_type": "markdown",
   "metadata": {},
   "source": [
    "```\n",
    "ssh root@172.17.0.1\n",
    "The authenticity of host '172.17.0.1 (172.17.0.1)' can't be established.\n",
    "ECDSA key fingerprint is SHA256:M+qsqSC4HiYztm1ij8iDkh9KHJz+pxrTm9GTZIf2N9k.\n",
    "Are you sure you want to continue connecting (yes/no/[fingerprint])? yes\n",
    "Warning: Permanently added '172.17.0.1' (ECDSA) to the list of known hosts.\n",
    "root@172.17.0.1's password: \n",
    "Welcome to Ubuntu 20.04.5 LTS (GNU/Linux 5.15.0-58-generic x86_64)\n",
    "\n",
    " * Documentation:  https://help.ubuntu.com\n",
    " * Management:     https://landscape.canonical.com\n",
    " * Support:        https://ubuntu.com/advantage\n",
    "\n",
    "1 device has a firmware upgrade available.\n",
    "Run `fwupdmgr get-upgrades` for more information.\n",
    "\n",
    "\n",
    " * Introducing Expanded Security Maintenance for Applications.\n",
    "   Receive updates to over 25,000 software packages with your\n",
    "   Ubuntu Pro subscription. Free for personal use.\n",
    "\n",
    "     https://ubuntu.com/pro\n",
    "\n",
    "Se pueden aplicar 0 actualizaciones de forma inmediata.\n",
    "\n",
    "Your Hardware Enablement Stack (HWE) is supported until April 2025.\n",
    "Last login: Thu Dec  1 16:32:23 2022 from 127.0.0.1\n",
    "root@172.17.0.1:~$\n",
    "```"
   ]
  },
  {
   "attachments": {},
   "cell_type": "markdown",
   "metadata": {},
   "source": [
    "## Conexión sin necesidad de contraseña"
   ]
  },
  {
   "attachments": {},
   "cell_type": "markdown",
   "metadata": {},
   "source": [
    "Como hemos visto cuando nos conectamos nos pide la contraseña de la máquina de destino, pero si es una máquina a la que nos vamos a conectar mucho podemos hacer que no nos pida la contraseña cada vez que nos queramos conectar"
   ]
  },
  {
   "attachments": {},
   "cell_type": "markdown",
   "metadata": {},
   "source": [
    "Para ellos, en primer lugar generamos una clave `ssh` mediante `ssh-keygen`"
   ]
  },
  {
   "attachments": {},
   "cell_type": "markdown",
   "metadata": {},
   "source": [
    "``` bash\n",
    "ssh-keygen\n",
    "Generating public/private rsa key pair.\n",
    "Enter file in which to save the key (/root/.ssh/id_rsa): \n",
    "Enter passphrase (empty for no passphrase): \n",
    "Enter same passphrase again: \n",
    "Your identification has been saved in /root/.ssh/id_rsa\n",
    "Your public key has been saved in /root/.ssh/id_rsa.pub\n",
    "The key fingerprint is:\n",
    "SHA256:4HxRXkVkcK5kNXNyzakfQ6t8a24wRGCUYz4s5KL5ZEc root@e108f6f395b3\n",
    "The key's randomart image is:\n",
    "+---[RSA 3072]----+\n",
    "|          o+==@.=|\n",
    "|         +.= * Oo|\n",
    "|      . + = = + .|\n",
    "|     o o E * + + |\n",
    "|      = S . = o o|\n",
    "|     o + .   = o |\n",
    "|      + .     + .|\n",
    "|       .       + |\n",
    "|              +. |\n",
    "+----[SHA256]-----+\n",
    "```"
   ]
  },
  {
   "attachments": {},
   "cell_type": "markdown",
   "metadata": {},
   "source": [
    "Como vemos, primero nos pregunta dónde queremos guardar la clave, si no introducimos nada nos la guarda en la ruta por defecto. Y a continuación una frase para generar la clave, **si escribes una frase debes recordarla siempre**. Además si escribes una frase, te la pédirá cada vez que intentes acceder a la clave, por lo que cada vez que queramos acceder a la máquina por medio de `SSH`, no nos pedirá la contraseña de la máquina, pero sí esta frase. Por lo que tu eliges si no introduces una frase para que nunca te la pida, o si sí la introduces y siempre las vas a meter."
   ]
  },
  {
   "attachments": {},
   "cell_type": "markdown",
   "metadata": {},
   "source": [
    "A continuación le pedimos a la máquina remota que se guarde nuestra clave mediante `ssh-copy-id <user>@<id>:`"
   ]
  },
  {
   "attachments": {},
   "cell_type": "markdown",
   "metadata": {},
   "source": [
    "``` bash\n",
    "ssh-copy-id root@172.17.0.1:\n",
    "/usr/bin/ssh-copy-id: INFO: Source of key(s) to be installed: \"/root/.ssh/id_rsa.pub\"\n",
    "/usr/bin/ssh-copy-id: INFO: attempting to log in with the new key(s), to filter out any that are already installed\n",
    "/usr/bin/ssh-copy-id: INFO: 1 key(s) remain to be installed -- if you are prompted now it is to install the new keys\n",
    "root@172.17.0.1's password: \n",
    "\n",
    "Number of key(s) added: 1\n",
    "\n",
    "Now try logging into the machine, with:   \"ssh 'root@172.17.0.1'\"\n",
    "and check to make sure that only the key(s) you wanted were added.\n",
    "\n",
    "root@103b6040196a:/# ssh root@172.17.0.1\n",
    "Welcome to Ubuntu 20.04.5 LTS (GNU/Linux 5.15.0-58-generic x86_64)\n",
    "\n",
    " * Documentation:  https://help.ubuntu.com\n",
    " * Management:     https://landscape.canonical.com\n",
    " * Support:        https://ubuntu.com/advantage\n",
    "\n",
    "4 devices have a firmware upgrade available.\n",
    "Run `fwupdmgr get-upgrades` for more information.\n",
    "\n",
    "\n",
    "58 updates can be applied immediately.\n",
    "41 of these updates are standard security updates.\n",
    "To see these additional updates run: apt list --upgradable\n",
    "\n",
    "New release '22.04.1 LTS' available.\n",
    "Run 'do-release-upgrade' to upgrade to it.\n",
    "\n",
    "Your Hardware Enablement Stack (HWE) is supported until April 2025.\n",
    "Last login: Thu Feb  2 08:05:48 2023 from 172.17.0.2\n",
    "(base) root@172.17.0.1:~$\n",
    "```"
   ]
  },
  {
   "attachments": {},
   "cell_type": "markdown",
   "metadata": {},
   "source": [
    "## Usar la terminal remota por `SSH`"
   ]
  },
  {
   "attachments": {},
   "cell_type": "markdown",
   "metadata": {},
   "source": [
    "A lo mejor no nos hace falta tener que meternos a la máquina remota porque solo necesitamos ejecutar un solo comando, por lo que podemos usar remotamente su terminal añadiendo el flag `-t` al comando `SSH`, es decir, mediante `ssh -t <user>@<id> <command>`"
   ]
  },
  {
   "attachments": {},
   "cell_type": "markdown",
   "metadata": {},
   "source": [
    "``` bash\n",
    "ssh -t root@172.17.0.1 ping -c 4 google.com\n",
    "PING google.com (172.217.168.174) 56(84) bytes of data.\n",
    "64 bytes from mad07s10-in-f14.1e100.net (172.217.168.174): icmp_seq=1 ttl=111 time=2.94 ms\n",
    "64 bytes from mad07s10-in-f14.1e100.net (172.217.168.174): icmp_seq=2 ttl=111 time=2.55 ms\n",
    "64 bytes from mad07s10-in-f14.1e100.net (172.217.168.174): icmp_seq=3 ttl=111 time=2.78 ms\n",
    "64 bytes from mad07s10-in-f14.1e100.net (172.217.168.174): icmp_seq=4 ttl=111 time=2.69 ms\n",
    "\n",
    "--- google.com ping statistics ---\n",
    "4 packets transmitted, 4 received, 0% packet loss, time 3005ms\n",
    "rtt min/avg/max/mdev = 2.550/2.739/2.940/0.142 ms\n",
    "Connection to 172.17.0.1 closed.\n",
    "```"
   ]
  },
  {
   "attachments": {},
   "cell_type": "markdown",
   "metadata": {},
   "source": [
    "Como se puede ver se realiza el comando en la máquina remota y cuando termina, en la última línea nos dice que se cierra la conexión"
   ]
  },
  {
   "attachments": {},
   "cell_type": "markdown",
   "metadata": {},
   "source": [
    "## Proxy `SSH`"
   ]
  },
  {
   "attachments": {},
   "cell_type": "markdown",
   "metadata": {},
   "source": [
    "Si estás navegando en un lugar no muy seguro, o en un lugar que tiene un proxy que no te deja acceder a algunos puertos, puedes navegar a través del proxy de otra máquina meidante `SSH`, esto se puede hacer añadiendo el flag `-D` y el puerto por el que quieres realizar la conexión al proxy remoto, como el puerto para el `tcp/ip` es el `9999` el comando podría quedar como `ssh -D 9999 <user>@<id>`"
   ]
  },
  {
   "attachments": {},
   "cell_type": "markdown",
   "metadata": {},
   "source": [
    "Para que esto se vea mejor, antes de ejecutarlo obtengo mi IP píbluca"
   ]
  },
  {
   "cell_type": "code",
   "execution_count": 2,
   "metadata": {},
   "outputs": [
    {
     "name": "stdout",
     "output_type": "stream",
     "text": [
      "188.127.184.59"
     ]
    }
   ],
   "source": [
    "!curl ifconfig.me"
   ]
  },
  {
   "attachments": {},
   "cell_type": "markdown",
   "metadata": {},
   "source": [
    "Ahora utilizo el proxy de un servidor web que tengo levantado"
   ]
  },
  {
   "attachments": {},
   "cell_type": "markdown",
   "metadata": {},
   "source": [
    "``` bash\n",
    "ssh -D 9999 root@194.62.99.222\n",
    "Welcome to Ubuntu 22.04.1 LTS (GNU/Linux 5.15.0-53-generic x86_64)\n",
    "\n",
    " * Documentation:  https://help.ubuntu.com\n",
    " * Management:     https://landscape.canonical.com\n",
    " * Support:        https://ubuntu.com/advantage\n",
    "\n",
    "  System information as of Wed Feb 22 06:08:51 AM UTC 2023\n",
    "\n",
    "  System load:           0.02978515625\n",
    "  Usage of /:            11.7% of 24.53GB\n",
    "  Memory usage:          33%\n",
    "  Swap usage:            0%\n",
    "  Processes:             89\n",
    "  Users logged in:       0\n",
    "  IPv4 address for eth0: 194.62.99.222\n",
    "  IPv4 address for eth1: 10.7.0.168\n",
    "  IPv6 address for eth2: 2a04:3542:8000:1000:d48a:cbff:fefb:5b1\n",
    "\n",
    "\n",
    "0 updates can be applied immediately.\n",
    "\n",
    "\n",
    "The list of available updates is more than a week old.\n",
    "To check for new updates run: sudo apt update\n",
    "\n",
    "Last login: Wed Feb 22 06:02:35 2023 from 188.127.184.59\n",
    "root@server1:~#\n",
    "```"
   ]
  },
  {
   "attachments": {},
   "cell_type": "markdown",
   "metadata": {},
   "source": [
    "Cambio la configuración proxy de mi ordenador\n",
    "\n",
    "![proxy ssh](https://maximofn.com/wp-content/uploads/2023/02/proxy_ssh.png)"
   ]
  },
  {
   "attachments": {},
   "cell_type": "markdown",
   "metadata": {},
   "source": [
    "Ahora vuelvo a mirar mi IP pública, pero cogiendo el proxy recientemente configurado"
   ]
  },
  {
   "cell_type": "code",
   "execution_count": 8,
   "metadata": {},
   "outputs": [
    {
     "name": "stdout",
     "output_type": "stream",
     "text": [
      "194.62.99.222"
     ]
    }
   ],
   "source": [
    "!curl -x socks5h://localhost:9999 ifconfig.me"
   ]
  },
  {
   "attachments": {},
   "cell_type": "markdown",
   "metadata": {},
   "source": [
    "Vemos que obtenemos la IP pública del servidor"
   ]
  },
  {
   "attachments": {},
   "cell_type": "markdown",
   "metadata": {},
   "source": [
    "## Interfaz gráfica remota por `SSH`"
   ]
  },
  {
   "attachments": {},
   "cell_type": "markdown",
   "metadata": {},
   "source": [
    "En linux la interfaz gŕafica es un servidor, por lo que nos podemos beneficiar de ello y podemos ejecutar programas con interfaces gráficas que están en una máquina remota por `SSH`, para ello hay que usar el flag `-X`. El comando quedaría `ssh -X <user>@<id>`"
   ]
  },
  {
   "attachments": {},
   "cell_type": "markdown",
   "metadata": {},
   "source": [
    "Primero entro a mi servidor e instalo `xeyes` mediante `sudo apt install x11-apps` y después lo ejecuto remotamente desde mi ordenador"
   ]
  },
  {
   "attachments": {},
   "cell_type": "markdown",
   "metadata": {},
   "source": [
    "``` bash\n",
    "ssh -X root@194.62.99.222\n",
    "Welcome to Ubuntu 22.04.1 LTS (GNU/Linux 5.15.0-53-generic x86_64)\n",
    "\n",
    "Last login: Wed Feb 22 06:39:52 2023 from 188.127.184.59\n",
    "/usr/bin/xauth:  file /root/.Xauthority does not exist\n",
    "root@server1:~sudo apt install x11-apps\n",
    "root@server1:~#xeyes\n",
    "```"
   ]
  },
  {
   "attachments": {},
   "cell_type": "markdown",
   "metadata": {},
   "source": [
    "Ahora en mi ordenador se abre la ventana de `xeyes` pero no se está ejecutando en mi ordenador\n",
    "\n",
    "![xeyes](https://maximofn.com/wp-content/uploads/2023/02/xeyes.png)"
   ]
  },
  {
   "attachments": {},
   "cell_type": "markdown",
   "metadata": {},
   "source": [
    "## Acceso a otras máquinas de la red a través de un tunel"
   ]
  },
  {
   "attachments": {},
   "cell_type": "markdown",
   "metadata": {},
   "source": [
    "Como he comentado, he levantado un servidor al que tengo acceso por ssh"
   ]
  },
  {
   "attachments": {},
   "cell_type": "markdown",
   "metadata": {},
   "source": [
    "``` bash\n",
    "ssh root@194.62.99.222\n",
    "Welcome to Ubuntu 22.04.1 LTS (GNU/Linux 5.15.0-53-generic x86_64)\n",
    "\n",
    "Last login: Wed Feb 22 06:40:58 2023 from 188.127.184.59\n",
    "root@server1:~#\n",
    "```"
   ]
  },
  {
   "attachments": {},
   "cell_type": "markdown",
   "metadata": {},
   "source": [
    "Y levanto también un segundo servidor desde el que tengo acceso desde el `server1`, pero no tengo acceso desde mi ordenador"
   ]
  },
  {
   "attachments": {},
   "cell_type": "markdown",
   "metadata": {},
   "source": [
    "A continuación intento acceder al `server2` desde mi ordenador y vemos que no puedo"
   ]
  },
  {
   "attachments": {},
   "cell_type": "markdown",
   "metadata": {},
   "source": [
    "``` bash\n",
    "ssh root@194.62.99.235\n",
    "ssh: connect to host 194.62.99.235 port 22: Connection timed out\n",
    "```"
   ]
  },
  {
   "attachments": {},
   "cell_type": "markdown",
   "metadata": {},
   "source": [
    "Y a continuación intento acceder al `server2` desde el `server1` y vemos que sí puedo"
   ]
  },
  {
   "attachments": {},
   "cell_type": "markdown",
   "metadata": {},
   "source": [
    "``` bash\n",
    "root@server1:~# ssh root@10.7.2.228\n",
    "Welcome to Ubuntu 22.04.1 LTS (GNU/Linux 5.15.0-53-generic x86_64)\n",
    "\n",
    "Last login: Wed Feb 22 06:59:01 2023 from 10.7.0.168\n",
    "root@server2:~#\n",
    "```"
   ]
  },
  {
   "attachments": {},
   "cell_type": "markdown",
   "metadata": {},
   "source": [
    "Así que lo que creamos es un tunel desde mi ordenador hasta el `server2` a través del `server1`, para ello usamos el flag `-L`. Para crear el tunel hay que indicar el puerto de tu ordenador en el que vas a crear el tunel, a continuación la `IP` de destino del tunel, el puerto por el que irá el tunel y por último el disposicivo que creará el tunel. Quedaría así\n",
    "\n",
    "``` bash\n",
    "ssh <HOST PORT>:<DEST IP>:<TUNNEL PORT> <TUNNEL CREATOR USER>@<TUNNEL CREATOR IP>\n",
    "```\n",
    "\n",
    "Veámoslo con mi ejemplo, tengo el `server1` con una `IP` pública que podemos llamar `ip_pub1` y al que tengo acceso por `SSH` y una `IP` privada que podemos llamar `ip_priv1` que está dentro de la misma red que `server2`. Y tengo el `server2` con una `IP` pública que podemos llamar `ip_pub2` a la que no tengo acceso por `SSH` y una `IP` que podemos llamar `ip_priv2` dentro de la misma red de `server1`\n",
    "\n",
    "Primero creo el tunel\n",
    "\n",
    "``` bash\n",
    "ssh host_port:ip_priv2:22 root@ip_pub1\n",
    "```\n",
    "\n",
    "He creado un tunel hasta la `IP` privada del `server2` a través de la `IP` pública del `server1`\n",
    "\n",
    "Por último, para conectarme al `server2` lo hago a través del `localhost` y del puerto del host que he declarado en el tunel\n",
    "\n",
    "``` bash\n",
    "ssh -p 2020 root@localhost\n",
    "```"
   ]
  },
  {
   "attachments": {},
   "cell_type": "markdown",
   "metadata": {},
   "source": [
    "Vamos a verlo en la realidad, las `IP`s de mis servidores son\n",
    "\n",
    " * `server1`:\n",
    "   * `IP` pública: `194.62.99.222`\n",
    "   * `IP` privada: `10.7.0.168`\n",
    " * `server2`:\n",
    "   * `IP` pública: `194.62.99.235`\n",
    "   * `IP` privada: `10.7.2.228`\n",
    "\n",
    "Primero creo el tunel"
   ]
  },
  {
   "cell_type": "code",
   "execution_count": 11,
   "metadata": {},
   "outputs": [
    {
     "name": "stdout",
     "output_type": "stream",
     "text": [
      "Welcome to Ubuntu 22.04.1 LTS (GNU/Linux 5.15.0-53-generic x86_64)\n",
      "\n",
      " * Documentation:  https://help.ubuntu.com\n",
      " * Management:     https://landscape.canonical.com\n",
      " * Support:        https://ubuntu.com/advantage\n",
      "\n",
      "  System information as of Wed Feb 22 11:13:39 AM UTC 2023\n",
      "\n",
      "  System load:           0.0\n",
      "  Usage of /:            13.3% of 24.53GB\n",
      "  Memory usage:          36%\n",
      "  Swap usage:            0%\n",
      "  Processes:             91\n",
      "  Users logged in:       1\n",
      "  IPv4 address for eth0: 194.62.99.222\n",
      "  IPv4 address for eth1: 10.7.0.168\n",
      "  IPv6 address for eth2: 2a04:3542:8000:1000:d48a:cbff:fefb:5b1\n",
      "\n",
      "\n",
      "101 updates can be applied immediately.\n",
      "60 of these updates are standard security updates.\n",
      "To see these additional updates run: apt list --upgradable\n",
      "\n",
      "\n",
      "Last login: Wed Feb 22 09:29:52 2023 from 188.127.184.59\n",
      "\u001b[?2004h\u001b]0;root@server1: ~\u0007\u001b[01;32mroot@server1\u001b[00m:\u001b[01;34m~\u001b[00m# ^C\u001b[?2004l\n",
      "\u001b[?2004l\n",
      "\u001b[?2004h\u001b]0;root@server1: ~\u0007\u001b[01;32mroot@server1\u001b[00m:\u001b[01;34m~\u001b[00m# "
     ]
    }
   ],
   "source": [
    "!ssh -L 2020:10.7.2.228:22 root@194.62.99.222"
   ]
  },
  {
   "attachments": {},
   "cell_type": "markdown",
   "metadata": {},
   "source": [
    "Con el tunel creado ya me puedo conectar al `server2` desde mi ordenador"
   ]
  },
  {
   "cell_type": "code",
   "execution_count": 12,
   "metadata": {},
   "outputs": [
    {
     "name": "stdout",
     "output_type": "stream",
     "text": [
      "Welcome to Ubuntu 22.04.1 LTS (GNU/Linux 5.15.0-53-generic x86_64)\n",
      "\n",
      " * Documentation:  https://help.ubuntu.com\n",
      " * Management:     https://landscape.canonical.com\n",
      " * Support:        https://ubuntu.com/advantage\n",
      "\n",
      "  System information as of Wed Feb 22 11:14:15 AM UTC 2023\n",
      "\n",
      "  System load:           0.0\n",
      "  Usage of /:            13.3% of 24.53GB\n",
      "  Memory usage:          33%\n",
      "  Swap usage:            0%\n",
      "  Processes:             90\n",
      "  Users logged in:       0\n",
      "  IPv4 address for eth0: 194.62.99.235\n",
      "  IPv4 address for eth1: 10.7.2.228\n",
      "  IPv6 address for eth2: 2a04:3542:8000:1000:d48a:cbff:fefb:7f47\n",
      "\n",
      " * Strictly confined Kubernetes makes edge and IoT secure. Learn how MicroK8s\n",
      "   just raised the bar for easy, resilient and secure K8s cluster deployment.\n",
      "\n",
      "   https://ubuntu.com/engage/secure-kubernetes-at-the-edge\n",
      "\n",
      "101 updates can be applied immediately.\n",
      "60 of these updates are standard security updates.\n",
      "To see these additional updates run: apt list --upgradable\n",
      "\n",
      "\n",
      "Last login: Wed Feb 22 11:14:16 2023 from 10.7.0.168\n",
      "\u001b[?2004h\u001b]0;root@server2: ~\u0007\u001b[01;32mroot@server2\u001b[00m:\u001b[01;34m~\u001b[00m# ^C\u001b[?2004l\n",
      "\u001b[?2004l\n",
      "\u001b[?2004h\u001b]0;root@server2: ~\u0007\u001b[01;32mroot@server2\u001b[00m:\u001b[01;34m~\u001b[00m# "
     ]
    }
   ],
   "source": [
    "!ssh -p 2020 root@localhost"
   ]
  },
  {
   "attachments": {},
   "cell_type": "markdown",
   "metadata": {},
   "source": [
    "## Acceso a otras máquinas mediante la conexión reversa"
   ]
  },
  {
   "attachments": {},
   "cell_type": "markdown",
   "metadata": {},
   "source": [
    "Volvamos a suponer que me quiero conectar al `server2`, pero ahora no puedo hacer, por la razón que sea, un tunel desde el `server1`. Lo que podemos hacer es crear una conexión reversa desde otro servidor.\n",
    "\n",
    "Supongamos que tengo un tercer servidor, llamado `server3`, al que se tiene acceso por `SSH` desde cualquier lado, es decir, tanto yo desde mi ordenador, como el `server2` tienen acceso. Por lo que si podemos acceder físicamente al `server2` se puede hacer una conexión reversa desde el `server2` al `server3`\n",
    "\n",
    "```\n",
    "ssh -R <server3port>:localhost:22 root@<IPserver3>\n",
    "```\n",
    "\n",
    "Con esto, lo que he hecho es habilitar una conexión desde el `server3` al `server2` (cosa que antes no se podía), a través del `localhost` y puerto `<server3port>` del `server3`\n",
    "\n",
    "Ahora desde mi ordenador me puedo conectar al `server3` y desde el `server3` nos podemos conectar al `server2` mediante\n",
    "\n",
    "``` bash\n",
    "ssh -p <server3port> root@localhost\n",
    "```"
   ]
  },
  {
   "attachments": {},
   "cell_type": "markdown",
   "metadata": {},
   "source": [
    "Veámoslo con los datos de mis servidores\n",
    "\n",
    "* `server2`:\n",
    "   * `IP` pública: `194.62.99.235`\n",
    " * `server3`:\n",
    "   * `IP` pública: `194.62.96.236`"
   ]
  },
  {
   "attachments": {},
   "cell_type": "markdown",
   "metadata": {},
   "source": [
    "Primero hago la conexión reversa desde el `server2` al `server3`"
   ]
  },
  {
   "attachments": {},
   "cell_type": "markdown",
   "metadata": {},
   "source": [
    "``` bash\n",
    "root@server2:~# ssh -R 2020:localhost:22 root@194.62.96.236\n",
    "Welcome to Ubuntu 22.04.1 LTS (GNU/Linux 5.15.0-53-generic x86_64)\n",
    "\n",
    "Last login: Wed Feb 22 15:25:58 2023 from 188.127.184.59\n",
    "root@server3:~#\n",
    "```"
   ]
  },
  {
   "attachments": {},
   "cell_type": "markdown",
   "metadata": {},
   "source": [
    "Ahora me conecto al `server3`"
   ]
  },
  {
   "attachments": {},
   "cell_type": "markdown",
   "metadata": {},
   "source": [
    "```\n",
    "ssh root@194.62.96.236\n",
    "Welcome to Ubuntu 22.04.1 LTS (GNU/Linux 5.15.0-53-generic x86_64)\n",
    "\n",
    "Last login: Wed Feb 22 15:12:19 2023 from 188.127.184.59\n",
    "root@server3:~#\n",
    "```"
   ]
  },
  {
   "attachments": {},
   "cell_type": "markdown",
   "metadata": {},
   "source": [
    "Y ahora que estoy en el `server3` me conecto al `server2`"
   ]
  },
  {
   "attachments": {},
   "cell_type": "markdown",
   "metadata": {},
   "source": [
    "``` bash\n",
    "root@server3:~# ssh -p 2020 root@localhost\n",
    "Welcome to Ubuntu 22.04.1 LTS (GNU/Linux 5.15.0-53-generic x86_64)\n",
    "\n",
    "Last login: Wed Feb 22 15:12:07 2023 from 188.127.184.59\n",
    "root@server2:~#\n",
    "```"
   ]
  },
  {
   "attachments": {},
   "cell_type": "markdown",
   "metadata": {},
   "source": [
    "Conseguido! A través de mi ordenador no puedo conectarme directamente al `server2`, pero al conectarme al `server3` he podido acceder al `server2` gracias a la conexión inversa que había hecho del `server2` al `server3`"
   ]
  },
  {
   "cell_type": "markdown",
   "metadata": {},
   "source": []
  }
 ],
 "metadata": {
  "kernelspec": {
   "display_name": "base",
   "language": "python",
   "name": "python3"
  },
  "language_info": {
   "codemirror_mode": {
    "name": "ipython",
    "version": 3
   },
   "file_extension": ".py",
   "mimetype": "text/x-python",
   "name": "python",
   "nbconvert_exporter": "python",
   "pygments_lexer": "ipython3",
   "version": "3.7.6"
  },
  "orig_nbformat": 4,
  "vscode": {
   "interpreter": {
    "hash": "d5745ab6aba164e1152437c779991855725055592b9f2bdb41a4825db7168d26"
   }
  }
 },
 "nbformat": 4,
 "nbformat_minor": 2
}
