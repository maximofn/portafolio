{
 "cells": [
  {
   "attachments": {},
   "cell_type": "markdown",
   "metadata": {},
   "source": [
    "# SSH"
   ]
  },
  {
   "attachments": {},
   "cell_type": "markdown",
   "metadata": {},
   "source": [
    "## Introducción histórica"
   ]
  },
  {
   "attachments": {},
   "cell_type": "markdown",
   "metadata": {},
   "source": [
    "En los primeros días de internet se creo el protocolo `telnet` para poder comunicar varios ordenadores, pero tenía el problema de que no estaba cifrado, por lo que cualquiera que se metiera en medio podía leer la comunicación sin problema, por eso se creó `SSH` (Secure Shell)"
   ]
  },
  {
   "attachments": {},
   "cell_type": "markdown",
   "metadata": {},
   "source": [
    "## Cifrado de `SSH`"
   ]
  },
  {
   "attachments": {},
   "cell_type": "markdown",
   "metadata": {},
   "source": [
    "El sistema de cifrado de `SSH` funciona mediante el sistema de clave pública y clave privada, de manera que si se encripta la comunicación con una de las dos, solo puede ser descifrada por la otra\n",
    "\n",
    "¿Y por qué hay una clave pública y una clave privada? La clave pública es la que le das a todo el mundo y la clave privada es la que solo tienes que poseer tú.\n",
    "\n",
    "De manera que si te quieres comunicar con otro equipo por `SSH`, primero le das tu clave pública, a continuación encriptas el mensaje con tu clave privada y solo se puede desencriptar el mensaje con la clave pública que le has dado al otro equipo\n",
    "\n",
    "De la misma manera ocurre a la inversa, si el otro equipo te quiere mandar un mensaje, lo encripta con tu clave pública y solo se puede desencriptar con la clave privada que solo tú posees"
   ]
  },
  {
   "attachments": {},
   "cell_type": "markdown",
   "metadata": {},
   "source": [
    "## Requerimentos `SSH`"
   ]
  },
  {
   "attachments": {},
   "cell_type": "markdown",
   "metadata": {},
   "source": [
    "### Servicio `SSH`"
   ]
  },
  {
   "attachments": {},
   "cell_type": "markdown",
   "metadata": {},
   "source": [
    "Para poder usar `SSH` necesitas tener un servicio de `SSH`. En `Linux` normalmete ya viene instalado, pero si no es así lo puedes instalar mediante"
   ]
  },
  {
   "attachments": {},
   "cell_type": "markdown",
   "metadata": {},
   "source": [
    "``` bash\n",
    "$ apt install openssh-server\n",
    "```"
   ]
  },
  {
   "attachments": {},
   "cell_type": "markdown",
   "metadata": {},
   "source": [
    "Durante el proceso de instalación te pedirá tu ubicación para ajustar el time zone"
   ]
  },
  {
   "attachments": {},
   "cell_type": "markdown",
   "metadata": {},
   "source": [
    "A continuación levantamos el servicio"
   ]
  },
  {
   "attachments": {},
   "cell_type": "markdown",
   "metadata": {},
   "source": [
    "``` bash\n",
    "$ systemctl enable ssh\n",
    "```"
   ]
  },
  {
   "attachments": {},
   "cell_type": "markdown",
   "metadata": {},
   "source": [
    "### Cliente `SSH`"
   ]
  },
  {
   "attachments": {},
   "cell_type": "markdown",
   "metadata": {},
   "source": [
    "Una vez tienes el servicio necesitas un cliente, aunque en `Linux` suele venir instalado, pero si no es así lo puedes instalar mediante"
   ]
  },
  {
   "attachments": {},
   "cell_type": "markdown",
   "metadata": {},
   "source": [
    "``` bash\n",
    "$ apt install openssh-clien\n",
    "```"
   ]
  },
  {
   "attachments": {},
   "cell_type": "markdown",
   "metadata": {},
   "source": [
    "## Conexión por `SSH`"
   ]
  },
  {
   "attachments": {},
   "cell_type": "markdown",
   "metadata": {},
   "source": [
    "Para conectarte por `SSH` necesitas introducir el comando `ssh <user>@<ip>`"
   ]
  },
  {
   "attachments": {},
   "cell_type": "markdown",
   "metadata": {},
   "source": [
    "``` bash\n",
    "ssh root@172.17.0.1\n",
    "The authenticity of host '172.17.0.1 (172.17.0.1)' can't be established.\n",
    "ECDSA key fingerprint is SHA256:M+qsqSC4HiYztm1ij8iDkh9KHJz+pxrTm9GTZIf2N9k.\n",
    "Are you sure you want to continue connecting (yes/no/[fingerprint])?\n",
    "```"
   ]
  },
  {
   "attachments": {},
   "cell_type": "markdown",
   "metadata": {},
   "source": [
    "Como puedes ver, la primera vez te pregunta si quieres guardar el `fingerprint`, esto es para que si la próxima vez que te conectes a la misma máquina (a la misma clave pública) si ha cambiado el `fingerprint` debes tener cuidado porque puede haber algo peligroso, como que hagan pasarse por esa máquina.\n",
    "\n",
    "Si nos fiamos introducimos `yes`"
   ]
  },
  {
   "attachments": {},
   "cell_type": "markdown",
   "metadata": {},
   "source": [
    "``` bash\n",
    "ssh root@172.17.0.1\n",
    "The authenticity of host '172.17.0.1 (172.17.0.1)' can't be established.\n",
    "ECDSA key fingerprint is SHA256:M+qsqSC4HiYztm1ij8iDkh9KHJz+pxrTm9GTZIf2N9k.\n",
    "Are you sure you want to continue connecting (yes/no/[fingerprint])? yes\n",
    "Warning: Permanently added '172.17.0.1' (ECDSA) to the list of known hosts.\n",
    "root@172.17.0.1's password:\n",
    "```"
   ]
  },
  {
   "attachments": {},
   "cell_type": "markdown",
   "metadata": {},
   "source": [
    "A continuación, la máquina a la que nos conectamos nos pide la contraseña, la introducimos y ya estaremos dentro de la máquina"
   ]
  },
  {
   "attachments": {},
   "cell_type": "markdown",
   "metadata": {},
   "source": [
    "```\n",
    "ssh root@172.17.0.1\n",
    "The authenticity of host '172.17.0.1 (172.17.0.1)' can't be established.\n",
    "ECDSA key fingerprint is SHA256:M+qsqSC4HiYztm1ij8iDkh9KHJz+pxrTm9GTZIf2N9k.\n",
    "Are you sure you want to continue connecting (yes/no/[fingerprint])? yes\n",
    "Warning: Permanently added '172.17.0.1' (ECDSA) to the list of known hosts.\n",
    "root@172.17.0.1's password: \n",
    "Welcome to Ubuntu 20.04.5 LTS (GNU/Linux 5.15.0-58-generic x86_64)\n",
    "\n",
    " * Documentation:  https://help.ubuntu.com\n",
    " * Management:     https://landscape.canonical.com\n",
    " * Support:        https://ubuntu.com/advantage\n",
    "\n",
    "1 device has a firmware upgrade available.\n",
    "Run `fwupdmgr get-upgrades` for more information.\n",
    "\n",
    "\n",
    " * Introducing Expanded Security Maintenance for Applications.\n",
    "   Receive updates to over 25,000 software packages with your\n",
    "   Ubuntu Pro subscription. Free for personal use.\n",
    "\n",
    "     https://ubuntu.com/pro\n",
    "\n",
    "Se pueden aplicar 0 actualizaciones de forma inmediata.\n",
    "\n",
    "Your Hardware Enablement Stack (HWE) is supported until April 2025.\n",
    "Last login: Thu Dec  1 16:32:23 2022 from 127.0.0.1\n",
    "root@172.17.0.1:~$\n",
    "```"
   ]
  },
  {
   "attachments": {},
   "cell_type": "markdown",
   "metadata": {},
   "source": [
    "## Conexión sin necesidad de contraseña"
   ]
  },
  {
   "attachments": {},
   "cell_type": "markdown",
   "metadata": {},
   "source": [
    "Como hemos visto cuando nos conectamos nos pide la contraseña de la máquina de destino, pero si es una máquina a la que nos vamos a conectar mucho podemos hacer que no nos pida la contraseña cada vez que nos queramos conectar"
   ]
  },
  {
   "attachments": {},
   "cell_type": "markdown",
   "metadata": {},
   "source": [
    "Para ellos, en primer lugar generamos una clave `ssh` mediante `ssh-keygen`"
   ]
  },
  {
   "attachments": {},
   "cell_type": "markdown",
   "metadata": {},
   "source": [
    "``` bash\n",
    "$ ssh-keygen\n",
    "Generating public/private rsa key pair.\n",
    "Enter file in which to save the key (/root/.ssh/id_rsa): \n",
    "Enter passphrase (empty for no passphrase): \n",
    "Enter same passphrase again: \n",
    "Your identification has been saved in /root/.ssh/id_rsa\n",
    "Your public key has been saved in /root/.ssh/id_rsa.pub\n",
    "The key fingerprint is:\n",
    "SHA256:4HxRXkVkcK5kNXNyzakfQ6t8a24wRGCUYz4s5KL5ZEc root@e108f6f395b3\n",
    "The key's randomart image is:\n",
    "+---[RSA 3072]----+\n",
    "|          o+==@.=|\n",
    "|         +.= * Oo|\n",
    "|      . + = = + .|\n",
    "|     o o E * + + |\n",
    "|      = S . = o o|\n",
    "|     o + .   = o |\n",
    "|      + .     + .|\n",
    "|       .       + |\n",
    "|              +. |\n",
    "+----[SHA256]-----+\n",
    "```"
   ]
  },
  {
   "attachments": {},
   "cell_type": "markdown",
   "metadata": {},
   "source": [
    "Como vemos, primero nos pregunta dónde queremos guardar la clave, si no introducimos nada nos la guarda en la ruta por defecto. Y a continuación una frase para generar la clave, esa frase deberías recordarla en el futuro"
   ]
  }
 ],
 "metadata": {
  "kernelspec": {
   "display_name": "Python 3",
   "language": "python",
   "name": "python3"
  },
  "language_info": {
   "name": "python",
   "version": "3.8.10 (default, Nov 14 2022, 12:59:47) \n[GCC 9.4.0]"
  },
  "orig_nbformat": 4,
  "vscode": {
   "interpreter": {
    "hash": "916dbcbb3f70747c44a77c7bcd40155683ae19c65e1c03b4aa3499c5328201f1"
   }
  }
 },
 "nbformat": 4,
 "nbformat_minor": 2
}
