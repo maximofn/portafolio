{
 "cells": [
  {
   "attachments": {},
   "cell_type": "markdown",
   "metadata": {},
   "source": [
    "# SSH"
   ]
  },
  {
   "attachments": {},
   "cell_type": "markdown",
   "metadata": {},
   "source": [
    "## Introducción histórica"
   ]
  },
  {
   "attachments": {},
   "cell_type": "markdown",
   "metadata": {},
   "source": [
    "En los primeros días de internet se creo el protocolo `telnet` para poder comunicar varios ordenadores, pero tenía el problema de que no estaba cifrado, por lo que cualquiera que se metiera en medio podía leer la comunicación sin problema, por eso se creó `SSH` (Secure Shell)"
   ]
  },
  {
   "attachments": {},
   "cell_type": "markdown",
   "metadata": {},
   "source": [
    "## Cifrado de `SSH`"
   ]
  },
  {
   "attachments": {},
   "cell_type": "markdown",
   "metadata": {},
   "source": [
    "El sistema de cifrado de `SSH` funciona mediante el sistema de clave pública y clave privada, de manera que si se encripta la comunicación con una de las dos, solo puede ser descifrada por la otra\n",
    "\n",
    "¿Y por qué hay una clave pública y una clave privada? La clave pública es la que le das a todo el mundo y la clave privada es la que solo tienes que poseer tú.\n",
    "\n",
    "De manera que si te quieres comunicar con otro equipo por `SSH`, primero le das tu clave pública, a continuación encriptas el mensaje con tu clave privada y solo se puede desencriptar el mensaje con la clave pública que le has dado al otro equipo\n",
    "\n",
    "De la misma manera ocurre a la inversa, si el otro equipo te quiere mandar un mensaje, lo encripta con tu clave pública y solo se puede desencriptar con la clave privada que solo tú posees"
   ]
  },
  {
   "attachments": {},
   "cell_type": "markdown",
   "metadata": {},
   "source": [
    "## Requerimentos `SSH`"
   ]
  },
  {
   "attachments": {},
   "cell_type": "markdown",
   "metadata": {},
   "source": [
    "### Servicio `SSH`"
   ]
  },
  {
   "attachments": {},
   "cell_type": "markdown",
   "metadata": {},
   "source": [
    "Para poder usar `SSH` necesitas tener un servicio de `SSH`. En `Linux` normalmete ya viene instalado, pero si no es así lo puedes instalar mediante"
   ]
  },
  {
   "attachments": {},
   "cell_type": "markdown",
   "metadata": {},
   "source": [
    "``` bash\n",
    "apt install openssh-server\n",
    "```"
   ]
  },
  {
   "attachments": {},
   "cell_type": "markdown",
   "metadata": {},
   "source": [
    "Durante el proceso de instalación te pedirá tu ubicación para ajustar el time zone"
   ]
  },
  {
   "attachments": {},
   "cell_type": "markdown",
   "metadata": {},
   "source": [
    "A continuación levantamos el servicio"
   ]
  },
  {
   "attachments": {},
   "cell_type": "markdown",
   "metadata": {},
   "source": [
    "``` bash\n",
    "systemctl enable ssh\n",
    "```"
   ]
  },
  {
   "attachments": {},
   "cell_type": "markdown",
   "metadata": {},
   "source": [
    "### Cliente `SSH`"
   ]
  },
  {
   "attachments": {},
   "cell_type": "markdown",
   "metadata": {},
   "source": [
    "Una vez tienes el servicio necesitas un cliente, aunque en `Linux` suele venir instalado, pero si no es así lo puedes instalar mediante"
   ]
  },
  {
   "attachments": {},
   "cell_type": "markdown",
   "metadata": {},
   "source": [
    "``` bash\n",
    "apt install openssh-clien\n",
    "```"
   ]
  },
  {
   "attachments": {},
   "cell_type": "markdown",
   "metadata": {},
   "source": [
    "## Conexión por `SSH`"
   ]
  },
  {
   "attachments": {},
   "cell_type": "markdown",
   "metadata": {},
   "source": [
    "Para conectarte por `SSH` necesitas introducir el comando `ssh <user>@<ip>`"
   ]
  },
  {
   "attachments": {},
   "cell_type": "markdown",
   "metadata": {},
   "source": [
    "``` bash\n",
    "ssh root@172.17.0.1\n",
    "The authenticity of host '172.17.0.1 (172.17.0.1)' can't be established.\n",
    "ECDSA key fingerprint is SHA256:M+qsqSC4HiYztm1ij8iDkh9KHJz+pxrTm9GTZIf2N9k.\n",
    "Are you sure you want to continue connecting (yes/no/[fingerprint])?\n",
    "```"
   ]
  },
  {
   "attachments": {},
   "cell_type": "markdown",
   "metadata": {},
   "source": [
    "Como puedes ver, la primera vez te pregunta si quieres guardar el `fingerprint`, esto es para que si la próxima vez que te conectes a la misma máquina (a la misma clave pública) si ha cambiado el `fingerprint` debes tener cuidado porque puede haber algo peligroso, como que hagan pasarse por esa máquina.\n",
    "\n",
    "Si nos fiamos introducimos `yes`"
   ]
  },
  {
   "attachments": {},
   "cell_type": "markdown",
   "metadata": {},
   "source": [
    "``` bash\n",
    "ssh root@172.17.0.1\n",
    "The authenticity of host '172.17.0.1 (172.17.0.1)' can't be established.\n",
    "ECDSA key fingerprint is SHA256:M+qsqSC4HiYztm1ij8iDkh9KHJz+pxrTm9GTZIf2N9k.\n",
    "Are you sure you want to continue connecting (yes/no/[fingerprint])? yes\n",
    "Warning: Permanently added '172.17.0.1' (ECDSA) to the list of known hosts.\n",
    "root@172.17.0.1's password:\n",
    "```"
   ]
  },
  {
   "attachments": {},
   "cell_type": "markdown",
   "metadata": {},
   "source": [
    "A continuación, la máquina a la que nos conectamos nos pide la contraseña, la introducimos y ya estaremos dentro de la máquina"
   ]
  },
  {
   "attachments": {},
   "cell_type": "markdown",
   "metadata": {},
   "source": [
    "```\n",
    "ssh root@172.17.0.1\n",
    "The authenticity of host '172.17.0.1 (172.17.0.1)' can't be established.\n",
    "ECDSA key fingerprint is SHA256:M+qsqSC4HiYztm1ij8iDkh9KHJz+pxrTm9GTZIf2N9k.\n",
    "Are you sure you want to continue connecting (yes/no/[fingerprint])? yes\n",
    "Warning: Permanently added '172.17.0.1' (ECDSA) to the list of known hosts.\n",
    "root@172.17.0.1's password: \n",
    "Welcome to Ubuntu 20.04.5 LTS (GNU/Linux 5.15.0-58-generic x86_64)\n",
    "\n",
    " * Documentation:  https://help.ubuntu.com\n",
    " * Management:     https://landscape.canonical.com\n",
    " * Support:        https://ubuntu.com/advantage\n",
    "\n",
    "1 device has a firmware upgrade available.\n",
    "Run `fwupdmgr get-upgrades` for more information.\n",
    "\n",
    "\n",
    " * Introducing Expanded Security Maintenance for Applications.\n",
    "   Receive updates to over 25,000 software packages with your\n",
    "   Ubuntu Pro subscription. Free for personal use.\n",
    "\n",
    "     https://ubuntu.com/pro\n",
    "\n",
    "Se pueden aplicar 0 actualizaciones de forma inmediata.\n",
    "\n",
    "Your Hardware Enablement Stack (HWE) is supported until April 2025.\n",
    "Last login: Thu Dec  1 16:32:23 2022 from 127.0.0.1\n",
    "root@172.17.0.1:~$\n",
    "```"
   ]
  },
  {
   "attachments": {},
   "cell_type": "markdown",
   "metadata": {},
   "source": [
    "## Conexión sin necesidad de contraseña"
   ]
  },
  {
   "attachments": {},
   "cell_type": "markdown",
   "metadata": {},
   "source": [
    "Como hemos visto cuando nos conectamos nos pide la contraseña de la máquina de destino, pero si es una máquina a la que nos vamos a conectar mucho podemos hacer que no nos pida la contraseña cada vez que nos queramos conectar"
   ]
  },
  {
   "attachments": {},
   "cell_type": "markdown",
   "metadata": {},
   "source": [
    "Para ellos, en primer lugar generamos una clave `ssh` mediante `ssh-keygen`"
   ]
  },
  {
   "attachments": {},
   "cell_type": "markdown",
   "metadata": {},
   "source": [
    "``` bash\n",
    "ssh-keygen\n",
    "Generating public/private rsa key pair.\n",
    "Enter file in which to save the key (/root/.ssh/id_rsa): \n",
    "Enter passphrase (empty for no passphrase): \n",
    "Enter same passphrase again: \n",
    "Your identification has been saved in /root/.ssh/id_rsa\n",
    "Your public key has been saved in /root/.ssh/id_rsa.pub\n",
    "The key fingerprint is:\n",
    "SHA256:4HxRXkVkcK5kNXNyzakfQ6t8a24wRGCUYz4s5KL5ZEc root@e108f6f395b3\n",
    "The key's randomart image is:\n",
    "+---[RSA 3072]----+\n",
    "|          o+==@.=|\n",
    "|         +.= * Oo|\n",
    "|      . + = = + .|\n",
    "|     o o E * + + |\n",
    "|      = S . = o o|\n",
    "|     o + .   = o |\n",
    "|      + .     + .|\n",
    "|       .       + |\n",
    "|              +. |\n",
    "+----[SHA256]-----+\n",
    "```"
   ]
  },
  {
   "attachments": {},
   "cell_type": "markdown",
   "metadata": {},
   "source": [
    "Como vemos, primero nos pregunta dónde queremos guardar la clave, si no introducimos nada nos la guarda en la ruta por defecto. Y a continuación una frase para generar la clave, **si escribes una frase debes recordarla siempre**. Además si escribes una frase, te la pédirá cada vez que intentes acceder a la clave, por lo que cada vez que queramos acceder a la máquina por medio de `SSH`, no nos pedirá la contraseña de la máquina, pero sí esta frase. Por lo que tu eliges si no introduces una frase para que nunca te la pida, o si sí la introduces y siempre las vas a meter."
   ]
  },
  {
   "attachments": {},
   "cell_type": "markdown",
   "metadata": {},
   "source": [
    "A continuación le pedimos a la máquina remota que se guarde nuestra clave mediante `ssh-copy-id <user>@<id>:`"
   ]
  },
  {
   "attachments": {},
   "cell_type": "markdown",
   "metadata": {},
   "source": [
    "``` bash\n",
    "ssh-copy-id root@172.17.0.1:\n",
    "/usr/bin/ssh-copy-id: INFO: Source of key(s) to be installed: \"/root/.ssh/id_rsa.pub\"\n",
    "/usr/bin/ssh-copy-id: INFO: attempting to log in with the new key(s), to filter out any that are already installed\n",
    "/usr/bin/ssh-copy-id: INFO: 1 key(s) remain to be installed -- if you are prompted now it is to install the new keys\n",
    "root@172.17.0.1's password: \n",
    "\n",
    "Number of key(s) added: 1\n",
    "\n",
    "Now try logging into the machine, with:   \"ssh 'root@172.17.0.1'\"\n",
    "and check to make sure that only the key(s) you wanted were added.\n",
    "\n",
    "root@103b6040196a:/# ssh root@172.17.0.1\n",
    "Welcome to Ubuntu 20.04.5 LTS (GNU/Linux 5.15.0-58-generic x86_64)\n",
    "\n",
    " * Documentation:  https://help.ubuntu.com\n",
    " * Management:     https://landscape.canonical.com\n",
    " * Support:        https://ubuntu.com/advantage\n",
    "\n",
    "4 devices have a firmware upgrade available.\n",
    "Run `fwupdmgr get-upgrades` for more information.\n",
    "\n",
    "\n",
    "58 updates can be applied immediately.\n",
    "41 of these updates are standard security updates.\n",
    "To see these additional updates run: apt list --upgradable\n",
    "\n",
    "New release '22.04.1 LTS' available.\n",
    "Run 'do-release-upgrade' to upgrade to it.\n",
    "\n",
    "Your Hardware Enablement Stack (HWE) is supported until April 2025.\n",
    "Last login: Thu Feb  2 08:05:48 2023 from 172.17.0.2\n",
    "(base) root@172.17.0.1:~$\n",
    "```"
   ]
  },
  {
   "attachments": {},
   "cell_type": "markdown",
   "metadata": {},
   "source": [
    "## Usar la terminal remota por `SSH`"
   ]
  },
  {
   "attachments": {},
   "cell_type": "markdown",
   "metadata": {},
   "source": [
    "A lo mejor no nos hace falta tener que meternos a la máquina remota porque solo necesitamos ejecutar un solo comando, por lo que podemos usar remotamente su terminal añadiendo el flag `-t` al comando `SSH`, es decir, mediante `ssh -t <user>@<id> <command>`"
   ]
  },
  {
   "attachments": {},
   "cell_type": "markdown",
   "metadata": {},
   "source": [
    "``` bash\n",
    "ssh -t root@172.17.0.1 ping -c 4 google.com\n",
    "PING google.com (172.217.168.174) 56(84) bytes of data.\n",
    "64 bytes from mad07s10-in-f14.1e100.net (172.217.168.174): icmp_seq=1 ttl=111 time=2.94 ms\n",
    "64 bytes from mad07s10-in-f14.1e100.net (172.217.168.174): icmp_seq=2 ttl=111 time=2.55 ms\n",
    "64 bytes from mad07s10-in-f14.1e100.net (172.217.168.174): icmp_seq=3 ttl=111 time=2.78 ms\n",
    "64 bytes from mad07s10-in-f14.1e100.net (172.217.168.174): icmp_seq=4 ttl=111 time=2.69 ms\n",
    "\n",
    "--- google.com ping statistics ---\n",
    "4 packets transmitted, 4 received, 0% packet loss, time 3005ms\n",
    "rtt min/avg/max/mdev = 2.550/2.739/2.940/0.142 ms\n",
    "Connection to 172.17.0.1 closed.\n",
    "```"
   ]
  },
  {
   "attachments": {},
   "cell_type": "markdown",
   "metadata": {},
   "source": [
    "Como se puede ver se realiza el comando en la máquina remota y cuando termina, en la última línea nos dice que se cierra la conexión"
   ]
  },
  {
   "attachments": {},
   "cell_type": "markdown",
   "metadata": {},
   "source": [
    "## Proxy `SSH`"
   ]
  },
  {
   "attachments": {},
   "cell_type": "markdown",
   "metadata": {},
   "source": [
    "Si estás navegando en un lugar no muy seguro, o en un lugar que tiene un proxy que no te deja acceder a algunos puertos, puedes navegar a través del proxy de otra máquina meidante `SSH`, esto se puede hacer añadiendo el flag `-D` y eñl puerto por el que quieres realizar la conexión al proxy remoto, como el puerto para el `tcp/ip` es el `9999` el comando podría quedar como `ssh -D 9999 <user>@<id>`"
   ]
  },
  {
   "attachments": {},
   "cell_type": "markdown",
   "metadata": {},
   "source": [
    "``` bash\n",
    "ssh -D 9999 root@172.17.0.1\n",
    "```"
   ]
  },
  {
   "attachments": {},
   "cell_type": "markdown",
   "metadata": {},
   "source": [
    "## Interfaz gráfica remota por `SSH`"
   ]
  },
  {
   "attachments": {},
   "cell_type": "markdown",
   "metadata": {},
   "source": [
    "En linux la interfaz gŕafica es un servidor, por lo que nos podemos beneficiar de ello y podemos ejecutar programas con interfaces gráficas que están en una máquina remota por `SSH`, para ello hay que usar el flag `-X`. El comando quedaría `ssh -X <user>@<id>`"
   ]
  },
  {
   "attachments": {},
   "cell_type": "markdown",
   "metadata": {},
   "source": [
    "``` bas\n",
    "ssh -X root@172.17.0.1\n",
    "```"
   ]
  },
  {
   "attachments": {},
   "cell_type": "markdown",
   "metadata": {},
   "source": [
    "Una vez dentro podemos lanzar un programa con interfaz gráfica y se nos abrirá en nuestro ordenador, por ejemplo, si escribo `firefox`, se me abrirá el navegador firefox de la máquina remota"
   ]
  }
 ],
 "metadata": {
  "kernelspec": {
   "display_name": "Python 3",
   "language": "python",
   "name": "python3"
  },
  "language_info": {
   "name": "python",
   "version": "3.8.10 (default, Nov 14 2022, 12:59:47) \n[GCC 9.4.0]"
  },
  "orig_nbformat": 4,
  "vscode": {
   "interpreter": {
    "hash": "916dbcbb3f70747c44a77c7bcd40155683ae19c65e1c03b4aa3499c5328201f1"
   }
  }
 },
 "nbformat": 4,
 "nbformat_minor": 2
}
