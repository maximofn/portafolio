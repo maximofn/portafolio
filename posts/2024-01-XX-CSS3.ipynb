{
 "cells": [
  {
   "cell_type": "markdown",
   "metadata": {},
   "source": [
    "# CSS 3"
   ]
  },
  {
   "cell_type": "markdown",
   "metadata": {},
   "source": [
    "## Partes de CSS (selector, propiedades, valores)"
   ]
  },
  {
   "cell_type": "markdown",
   "metadata": {},
   "source": [
    "En CSS se pueden hablar de 3 partes principales:\n",
    "\n",
    "- **Selector**: Es la parte que selecciona el elemento al que se le va a aplicar el estilo.\n",
    "- **Propiedad**: Es la parte que define el estilo que se le va a aplicar al elemento.\n",
    "- **Valor**: Es la parte que define el valor de la propiedad que se le va a aplicar al elemento.\n",
    "\n",
    "Para añadir comentarios en CSS se utiliza `/* comentario */`.\n",
    "\n",
    "A l línea que tiene `propiedad: valor;` se le llama **declaración**.\n",
    "\n",
    "```css\n",
    "selector {\n",
    "    propiedad: valor;   /* comentario */\n",
    "}\n",
    "```"
   ]
  },
  {
   "cell_type": "markdown",
   "metadata": {},
   "source": [
    "## Selectores"
   ]
  },
  {
   "cell_type": "markdown",
   "metadata": {},
   "source": [
    "Hay varios tipos de selectores:\n",
    "\n",
    "- **Selector universal**: Selecciona todos los elementos de la página. Se utiliza el asterisco `*`.\n",
    "- **Selector de tipo**: Selecciona todos los elementos de un tipo. Se utiliza el nombre del tipo de elemento. Por ejemplo, `p` selecciona todos los párrafos.\n",
    "- **Selector de clase**: Selecciona todos los elementos que tengan una clase. Se utiliza el nombre de la clase. Por ejemplo, `.clase` selecciona todos los elementos que tengan la clase `clase`. Esto es útil, porque si queremos que todos los botones sean iguales, en el html ponemos `<button class=\"boton\">` y en el css ponemos `.boton { /* estilos */ }`. Así todos los botones tendrán los mismos estilos, y queremos que un botón sea diferente, le ponemos otra clase.\n",
    "- **Selector de pseudo-clase**: Selecciona todos los elementos que tengan una pseudo-clase. Se utiliza el nombre de la pseudo-clase. Por ejemplo, `:hover` selecciona todos los elementos que estén siendo seleccionados por el ratón. Esto es útil, porque si queremos que un botón cambie de color cuando el ratón esté encima, en el css ponemos `.boton:hover { /* estilos */ }`. Así el botón tendrá los estilos que queramos cuando el ratón esté encima. Algunas pseudo-clases son:\n",
    "    - `:hover`: Selecciona todos los elementos que estén siendo seleccionados por el ratón.\n",
    "    - `:active`: Selecciona todos los elementos que estén siendo seleccionados por el ratón y estén siendo pulsados.\n",
    "    - `:focus`: Selecciona todos los elementos que estén siendo seleccionados por el ratón y estén siendo pulsados, y además tengan el foco.\n",
    "    - `:first-child`: Selecciona todos los elementos que sean el primer hijo de su padre. Esto es útil por ejemplo con los `<li>` de las listas, porque si queremos que el primer elemento de la lista tenga un estilo diferente, en el css ponemos `li:first-child { /* estilos */ }`. Así el primer elemento de la lista tendrá los estilos que queramos.\n",
    "    - `:last-child`: Selecciona todos los elementos que sean el último hijo de su padre. Esto es útil por ejemplo con los `<li>` de las listas, porque si queremos que el último elemento de la lista tenga un estilo diferente, en el css ponemos `li:last-child { /* estilos */ }`. Así el último elemento de la lista tendrá los estilos que queramos.\n",
    "    - `:nth-child(n)`: Selecciona todos los elementos que sean el n-ésimo hijo de su padre. Por ejemplo, `:nth-child(2)` selecciona todos los elementos que sean el segundo hijo de su padre.\n",
    "    - `:nth-last-child(n)`: Selecciona todos los elementos que sean el n-ésimo hijo de su padre, empezando desde el final. Por ejemplo, `:nth-last-child(2)` selecciona todos los elementos que sean el segundo hijo de su padre, empezando desde el final.\n",
    "    - `:nth-of-type(n)`: Selecciona todos los elementos que sean el n-ésimo hijo de su padre, del mismo tipo. Por ejemplo, `:nth-of-type(2)` selecciona todos los elementos que sean el segundo hijo de su padre, del mismo tipo.\n",
    "    - `:nth-last-of-type(n)`: Selecciona todos los elementos que sean el n-ésimo hijo de su padre, del mismo tipo, empezando desde el final. Por ejemplo, `:nth-last-of-type(2)` selecciona todos los elementos que sean el segundo hijo de su padre, del mismo tipo, empezando desde el final.\n",
    "    - `:first-of-type`: Selecciona todos los elementos que sean el primer hijo de su padre, del mismo tipo.\n",
    "    - `:last-of-type`: Selecciona todos los elementos que sean el último hijo de su padre, del mismo tipo.\n",
    "    - `:only-child`: Selecciona todos los elementos que sean el único hijo de su padre.\n",
    "    - `:only-of-type`: Selecciona todos los elementos que sean el único hijo de su padre, del mismo tipo.\n",
    "    - `:empty`: Se\n",
    "- **Selector de id**: Selecciona un elemento que tenga un id. Se utiliza el nombre del id. Por ejemplo, `#id` selecciona el elemento que tenga el id `id`. Esto es útil, porque si queremos que un elemento sea único, en el html ponemos `<p id=\"unico\">` y en el css ponemos `#unico { /* estilos */ }`. Así ese elemento tendrá los estilos que queramos, y si queremos que otro elemento sea igual, le ponemos otra clase.\n",
    "- **Selectores combinados**: Seleccionan elementos que cumplan varias condiciones. Se utilizan los selectores que queramos, separados por un espacio. Por ejemplo, `p .clase` selecciona todos los elementos que tengan la clase `clase` y sean hijos de un párrafo. Esto es útil, porque si queremos que todos los botones que estén dentro de un párrafo sean iguales, en el html ponemos `<p class=\"parrafo_que_quiero_cambiar\"><button class=\"boton\">` y en el css ponemos `.parrafo_que_quiero_cambiar .boton { /* estilos */ }`. Así todos los botones que estén dentro de un párrafo con la clase `parrafo_que_quiero_cambiar` tendrán los mismos estilos, y queremos que un botón sea diferente, le ponemos otra clase.\n",
    "- **Selector combinado de primer nivel**: Seleccionan elementos que cumplan varias condiciones, pero solo si están en el primer nivel. Se utilizan los selectores que queramos, separados por un `>`. Por ejemplo, `p > .clase` selecciona todos los elementos que tengan la clase `clase` y sean hijos directos de un párrafo. Esto es útil, porque si queremos que todos los botones que estén dentro de un párrafo sean iguales, en el html ponemos `<p class=\"parrafo_que_quiero_cambiar\"><button class=\"boton\">` y en el css ponemos `.parrafo_que_quiero_cambiar > .boton { /* estilos */ }`. Así todos los botones que estén dentro de un párrafo con la clase `parrafo_que_quiero_cambiar` tendrán los mismos estilos, y queremos que un botón sea diferente, le ponemos otra clase.\n",
    "- **Selector combinado de hermanos**: Seleccionan elementos que cumplan varias condiciones, pero solo si están en el mismo nivel. Se utilizan los selectores que queramos, separados por un `~`. Por ejemplo, `p ~ .clase` selecciona todos los elementos que tengan la clase `clase` y estén en el mismo nivel que un párrafo. Esto es útil, porque si queremos que todos los botones que estén en el mismo nivel que un párrafo sean iguales, en el html ponemos `<p class=\"parrafo_que_quiero_cambiar\"></p><button class=\"boton\">` y en el css ponemos `.parrafo_que_quiero_cambiar ~ .boton { /* estilos */ }`. Así todos los botones que estén en el mismo nivel que un párrafo con la clase `parrafo_que_quiero_cambiar` tendrán los mismos estilos, y queremos que un botón sea diferente, le ponemos otra clase.\n",
    "- **Selector combinado de hermanos adyacentes**: Seleccionan elementos que cumplan varias condiciones, pero solo si están en el mismo nivel y son adyacentes. Se utilizan los selectores que queramos, separados por un `+`. Por ejemplo, `p + .clase` selecciona todos los elementos que tengan la clase `clase` y estén en el mismo nivel y sean adyacentes a un párrafo. Esto es útil, porque si queremos que todos los botones que estén en el mismo nivel y sean adyacentes a un párrafo sean iguales, en el html ponemos `<p class=\"parrafo_que_quiero_cambiar\"></p><button class=\"boton\">` y en el css ponemos `.parrafo_que_quiero_cambiar + .boton { /* estilos */ }`. Así todos los botones que estén en el mismo nivel y sean adyacentes a un párrafo con la clase `parrafo_que_quiero_cambiar` tendrán los mismos estilos, y queremos que un botón sea diferente, le ponemos otra clase.\n",
    "\n",
    "Lo normal es utilizar el selector de clase, porque así podemos reutilizar los estilos."
   ]
  },
  {
   "cell_type": "markdown",
   "metadata": {},
   "source": [
    "## Estilos"
   ]
  },
  {
   "cell_type": "markdown",
   "metadata": {},
   "source": [
    "### Color"
   ]
  },
  {
   "cell_type": "markdown",
   "metadata": {},
   "source": [
    "El color se puede poner de varias formas:\n",
    "\n",
    "- **Nombre**: Se puede poner el nombre del color. Por ejemplo, `red` es rojo.\n",
    "- **Hexadecimal**: Se puede poner el color en hexadecimal. Por ejemplo, `#ff0000` es rojo.\n",
    "  \n",
    "  Si se quiere añadir transparencia, se puede poner `#ff000080`, que es rojo con 50% de transparencia.\n",
    "  \n",
    "  Si solo se ponen 3 números, se repiten. Por ejemplo, `#f10` es lo mismo que `#ff1100`. Si se quiere añadir transparencia, se puede poner `#f108`, que es lo mismo que `#ff110088`.\n",
    "- **RGB**: Se puede poner el color en RGB. Por ejemplo, `rgb(255, 0, 0)` es rojo.\n",
    "\n",
    "  Si se quiere añadir transparencia, se puede poner `rgb(255 0 0 / 0.5)`, que es rojo con 50% de transparencia. También se poner la transparencia en porcentaje, `rgb(255 0 0 / 50%)`. Puedes encontrar la transparencia de una forma legacy con `rgba(255, 0, 0, 0.5)`, que es rojo con 50% de transparencia, pero lo mejor es utilizar la forma moderna.\n",
    "\n",
    "- **HSL**: Se puede poner el color en HSL. Por ejemplo, `hsl(0, 100%, 50%)` es rojo.\n",
    "\n",
    "- **OKLCH**: Se puede poner el color en OKLCH. Por ejemplo, `oklch(0 100% 50%)` es rojo.\n",
    "\n",
    "En `HSL` y `OKLCH` hay más escala de colores que en `RGB`, por lo que si necesitas más colores, es mejor utilizar `HSL` o `OKLCH`.\n",
    "\n",
    "También se puede añadir la transparencia añadiendo la declaración `color:transparent`."
   ]
  },
  {
   "cell_type": "markdown",
   "metadata": {},
   "source": [
    "### Current Color"
   ]
  },
  {
   "cell_type": "markdown",
   "metadata": {},
   "source": [
    "Hay un valor de color que es `currentColor`, que es el color actual. Por ejemplo, si tenemos un texto y configuramos su color a rojo, y luego a este texto le añadimos un borde, si ponemos `border: 1px solid currentColor;`, el borde será rojo.\n",
    "\n",
    "```css\n",
    "p {\n",
    "    color: red;\n",
    "    border: 1px solid currentColor;\n",
    "}\n",
    "```"
   ]
  },
  {
   "cell_type": "markdown",
   "metadata": {},
   "source": [
    "### Herencia"
   ]
  },
  {
   "cell_type": "markdown",
   "metadata": {},
   "source": [
    "Cuando se pone un estilo a un elemento, este estilo se hereda a los elementos hijos. Por ejemplo, si tenemos un `div` con un texto, y le ponemos el color rojo al `div`, el texto también será rojo.\n",
    "\n",
    "```html\n",
    "<div>\n",
    "    <p>Texto</p>\n",
    "</div>\n",
    "```\n",
    "\n",
    "```css\n",
    "div {\n",
    "    color: red;\n",
    "}\n",
    "```\n",
    "\n",
    "Al hacer esto, el texto será rojo."
   ]
  },
  {
   "cell_type": "markdown",
   "metadata": {},
   "source": [
    "Podemos indicar en el hijo qué estilos se heredan, por ejemplo supongamos que tenemos un padre y un hijo\n",
    "\n",
    "```html\n",
    "<div class=\"padre\">\n",
    "    <p class=\"hijo\">Texto</p>\n",
    "</div>\n",
    "```\n",
    "\n",
    "```css\n",
    ".padre {\n",
    "    color: red;\n",
    "}\n",
    "\n",
    ".hijo {\n",
    "    color: inherit;\n",
    "}\n",
    "```\n",
    "\n",
    "Al hacer esto, el texto será rojo, porque el hijo hereda el color del padre.\n",
    "\n",
    "Las posibles opciones son:\n",
    "\n",
    "- `inherit`: Hereda el estilo del padre.\n",
    "- `initial`: Pone el estilo por defecto.\n",
    "- `unset`: Resetea el estilo\n",
    "- `revert`: Revierte el estilo\n",
    "\n",
    "No todos los estilos se herean, por ejemplo, el `background` no se hereda. Para no poner todos los estilos que se heredan, una forma de saberlo es llendo a `MDN` y mirando si el estilo tiene la propiedad `Inherited` a `yes` (Dentro de `Formal definition`)."
   ]
  },
  {
   "cell_type": "markdown",
   "metadata": {},
   "source": [
    "### Fuentes"
   ]
  },
  {
   "cell_type": "markdown",
   "metadata": {},
   "source": [
    "A la hora de cargar las fuentes, se pueden cargar de varias formas:\n",
    "\n",
    "- **Local**: Se puede cargar una fuente local. Por ejemplo, `font-family: Arial;` carga la fuente Arial.\n",
    "- **URL**: Se puede cargar una fuente de una URL. Por ejemplo, `font-family: url(https://fonts.googleapis.com/css2?family=Roboto);` carga la fuente Roboto de Google Fonts.\n",
    "- **Genérica**: Se puede cargar una fuente genérica. Por ejemplo, `font-family: sans-serif;` carga una fuente sin serifa. Esta fuente depende del sistema operativo, por lo que en Windows será Arial, en Mac será Helvetica y en Linux será DejaVu Sans.\n",
    "\n",
    "Se pueden cargar varias fuentes, y si una no está disponible, se carga la siguiente. Por ejemplo, `font-family: Arial, sans-serif;` carga Arial, y si no está disponible, carga una fuente sin serifa.\n",
    "\n",
    "También se puede cargar una fuente con varios estilos. Por ejemplo, `font-family: Arial, sans-serif; font-weight: 700;` carga Arial en negrita, y si no está disponible, carga una fuente sin serifa en negrita.\n",
    "\n",
    "Como `sans-serif` es una fuente genérica, lo ideal es siempre ponerla la última, para que si no está disponible la fuente que queremos, se cargue la genérica.\n",
    "\n",
    "```css\n",
    "p {\n",
    "    font-family: url(https://fonts.googleapis.com/css2?family=Roboto), url(https://fonts.googleapis.com/css2?family=Roboto+Slab), Ubuntu, sans-serif;\n",
    "}\n",
    "```"
   ]
  },
  {
   "cell_type": "markdown",
   "metadata": {},
   "source": [
    "### Border y Outline"
   ]
  },
  {
   "cell_type": "markdown",
   "metadata": {},
   "source": [
    "Podemos ponerle un borde a un elemento con `border: 1px solid red;`. Esto pone un borde de 1px de grosor, sólido y rojo.\n",
    "\n",
    "Si queremos poner un contorno, podemos utilizar `outline: 1px solid red;`. Esto pone un contorno de 1px de grosor, sólido y rojo.\n",
    "\n",
    "La diferencia entre `border` y `outline` es que `border` ocupa espacio, y `outline` no. Por ejemplo, si tenemos un `div` con un texto, y le ponemos un borde, el texto se moverá para que el borde se vea. Si ponemos un contorno, el texto no se moverá, porque el contorno no ocupa espacio. Esto se puede apreciar si cambiamos el estilo en la pseudo-clase `:hover`. Si ponemos un borde, cuando pasemos el ratón por encima, el texto se moverá, pero si ponemos un contorno, el texto no se moverá."
   ]
  },
  {
   "cell_type": "markdown",
   "metadata": {},
   "source": [
    "## Cascada"
   ]
  },
  {
   "cell_type": "markdown",
   "metadata": {},
   "source": [
    "La cascada es el orden en el que se aplican los estilos. El orden es:\n",
    "\n",
    "1. Estilos del usuario: Son los estilos que el usuario ha configurado. Por ejemplo, si el usuario tiene configurado que el texto sea de color rojo, el texto será rojo.\n",
    "2. Estilos del autor: Son los estilos que el autor ha configurado. Por ejemplo, si el autor ha configurado que el texto sea de color azul, el texto será azul.\n",
    "3. Estilos del navegador: Son los estilos del navegador. Por ejemplo, si el navegador tiene configurado que el texto sea de color verde, el texto será verde.\n",
    "\n",
    "Prevalecen los estilos del usuario sobre los del autor, y los del autor sobre los del navegador.\n",
    "\n",
    "Pero dentro de los estilos del autor, prevalecen los estilos que estén más abajo en el código. Por ejemplo, si tenemos un `div` con un texto, y le ponemos el color rojo, y luego le ponemos el color azul, el texto será azul.\n",
    "\n",
    "```html\n",
    "<div>\n",
    "    <p>Texto</p>\n",
    "</div>\n",
    "```\n",
    "\n",
    "```css\n",
    "div {\n",
    "    color: red;\n",
    "}\n",
    "\n",
    "div {\n",
    "    color: blue;\n",
    "}\n",
    "```\n",
    "\n",
    "En este ejemplo, el texto será azul. Se sobreescribe el color rojo con el color azul."
   ]
  },
  {
   "cell_type": "markdown",
   "metadata": {},
   "source": [
    "### Fallback"
   ]
  },
  {
   "cell_type": "markdown",
   "metadata": {},
   "source": [
    "Uno de los beneficios de la cascada es que podemos poner un estilo muy nuevo, pero por si el navegador que esté usando el usuario no lo soporta, podemos poner un estilo más antiguo antes por si acaso. Por ejemplo, estilar el color con `oklch` es algo nuevo, que puede que el navegador que el usuario esté usando no lo soporte, por lo que podemos poner un estilo más antiguo antes por si acaso.\n",
    "\n",
    "```css\n",
    "p {\n",
    "    color: rgb(255, 0, 0);\n",
    "    color: oklch(0 100% 50%);\n",
    "}\n",
    "```\n",
    "\n",
    "De esta manera el navegador primero intentará estilar con `oklch`, y si no puede, estilará con `rgb`."
   ]
  },
  {
   "cell_type": "markdown",
   "metadata": {},
   "source": [
    "### Especificidad"
   ]
  },
  {
   "cell_type": "markdown",
   "metadata": {},
   "source": [
    "Puede ser que un elemento html tenga varias formas de referirnos a él. Por ejemplo\n",
    "\n",
    "```html\n",
    "<p class=\"clase\" id=\"id\">Texto</p>\n",
    "```\n",
    "\n",
    "```css\n",
    "p {\n",
    "    color: red;\n",
    "}\n",
    "\n",
    ".clase {\n",
    "    color: blue;\n",
    "}\n",
    "\n",
    "#id {\n",
    "    color: green;\n",
    "}\n",
    "```\n",
    "\n",
    "En este ejemplo, el texto será verde. Esto es porque el selector de id tiene más especificidad que el selector de clase, y el selector de clase tiene más especificidad que el selector de tipo. Por lo que el selector de id sobreescribe al selector de clase, y el selector de clase sobreescribe al selector de tipo.\n",
    "\n",
    "Si en el css tuviésemos\n",
    "\n",
    "```css\n",
    "p {\n",
    "    color: red;\n",
    "}\n",
    "\n",
    "p.clase {\n",
    "    color: blue;\n",
    "}\n",
    "```\n",
    "\n",
    "El texto sería azul. Esto es porque el selector de clase tiene más especificidad que el selector de tipo, por lo que el selector de clase sobreescribe al selector de tipo."
   ]
  },
  {
   "cell_type": "markdown",
   "metadata": {},
   "source": [
    "Los estilos en línea tienen más especificidad que los estilos del autor. Por ejemplo\n",
    "\n",
    "```html\n",
    "<p style=\"color: red;\">Texto</p>\n",
    "```\n",
    "\n",
    "```css\n",
    "p {\n",
    "    color: blue;\n",
    "}\n",
    "```\n",
    "\n",
    "En este ejemplo, el texto será rojo. Esto es porque el estilo en línea tiene más especificidad que el estilo del autor."
   ]
  },
  {
   "cell_type": "markdown",
   "metadata": {},
   "source": [
    "Si se pone `!important` al final de la declaración, esta declaración tendrá más especificidad que cualquier otra. Por ejemplo\n",
    "\n",
    "```html\n",
    "<p class=\"clase\" id=\"id\">Texto</p>\n",
    "```\n",
    "\n",
    "```css\n",
    "p {\n",
    "    color: red;\n",
    "}\n",
    "\n",
    ".clase {\n",
    "    color: blue;\n",
    "}\n",
    "\n",
    "#id {\n",
    "    color: green;\n",
    "}\n",
    "\n",
    "p.clase {\n",
    "    color: yellow !important;\n",
    "}\n",
    "```\n",
    "\n",
    "En este ejemplo, el texto será amarillo. Esto es porque la declaración con `!important` tiene más especificidad que cualquier otra."
   ]
  },
  {
   "cell_type": "markdown",
   "metadata": {},
   "source": [
    "## Unidades"
   ]
  },
  {
   "cell_type": "markdown",
   "metadata": {},
   "source": [
    "### Unidades de longitud"
   ]
  },
  {
   "cell_type": "markdown",
   "metadata": {},
   "source": [
    "#### Unidades absolutas"
   ]
  },
  {
   "cell_type": "markdown",
   "metadata": {},
   "source": [
    "Si queremos poner un tamaño fijo, podemos utilizar unidades absolutas. Por ejemplo, `px` es un píxel, `cm` es un centímetro, `mm` es un milímetro, `in` es una pulgada, `pt` es un punto, `pc` es una pica."
   ]
  },
  {
   "cell_type": "markdown",
   "metadata": {},
   "source": [
    "#### Unidades relativas"
   ]
  },
  {
   "cell_type": "markdown",
   "metadata": {},
   "source": [
    "Sin embargo, si queremos que el tamaño sea relativo, podemos utilizar unidades relativas. Por ejemplo, `em` es el tamaño de la fuente, `rem` es el tamaño de la fuente del elemento raíz, `vw` es el ancho de la ventana, `vh` es el alto de la ventana, `vmin` es el ancho o el alto de la ventana, dependiendo de cuál sea menor, `vmax` es el ancho o el alto de la ventana, dependiendo de cuál sea mayor, `ch` es el ancho de un carácter, `ex` es la altura de una x, `fr` es una fracción del espacio disponible."
   ]
  },
  {
   "cell_type": "markdown",
   "metadata": {},
   "source": [
    "## Modelo de la caja"
   ]
  },
  {
   "cell_type": "markdown",
   "metadata": {},
   "source": [
    "En html todo son cajas, pero hay dos tipos de maneras de ver las cajas, `inline` y `block`. Por ejemplo, los `<span>` son `inline`, y los `<div>` son `block`."
   ]
  },
  {
   "cell_type": "markdown",
   "metadata": {},
   "source": [
    "### Cajas `inline`"
   ]
  },
  {
   "cell_type": "markdown",
   "metadata": {},
   "source": [
    "Cuando el elemento es `inline`, el ancho y el alto no se pueden configurar, y el elemento se comporta como si fuese texto. Por ejemplo, si tenemos un `span` con un texto, y le ponemos un ancho y un alto, el ancho y el alto no se aplicarán, y el elemento se comportará como si fuese texto.\n",
    "\n",
    "```html\n",
    "<span>Texto</span>\n",
    "```\n",
    "\n",
    "```css\n",
    "span {\n",
    "    width: 100px;\n",
    "    height: 100px;\n",
    "}\n",
    "```\n",
    "\n",
    "En este ejemplo, el ancho y el alto no se aplicarán, y el elemento se comportará como si fuese texto."
   ]
  },
  {
   "cell_type": "markdown",
   "metadata": {},
   "source": [
    "Además, cuando el elemento es `inline`, si se ponen varios elementos juntos en el html, estos elementos se mostrarán juntos. Por ejemplo, si tenemos varios `span` con un texto, y los ponemos juntos en el html, estos elementos se mostrarán juntos.\n",
    "\n",
    "```html\n",
    "<span>Texto</span>\n",
    "<span>Texto</span>\n",
    "<span>Texto</span>\n",
    "```\n",
    "\n",
    "En este ejemplo, los elementos se mostrarán juntos ==> TextoTextoTexto."
   ]
  },
  {
   "cell_type": "markdown",
   "metadata": {},
   "source": [
    "Pero si queremos que los elementos se muestren en diferentes líneas, podemos utilizar `display: block;`. Por ejemplo, si tenemos varios `span` con un texto, y les ponemos `display: block;`, estos elementos se mostrarán en diferentes líneas.\n",
    "\n",
    "```html\n",
    "<span>Texto</span>\n",
    "<span>Texto</span>\n",
    "<span>Texto</span>\n",
    "```\n",
    "\n",
    "```css\n",
    "span {\n",
    "    display: block;\n",
    "}\n",
    "```\n",
    "\n",
    "En este ejemplo, los elementos se mostrarán en diferentes líneas \n",
    "                        \n",
    "⬇\n",
    "                        \n",
    "Texto\n",
    "                        \n",
    "Texto\n",
    "                        \n",
    "Texto"
   ]
  },
  {
   "cell_type": "markdown",
   "metadata": {},
   "source": [
    "### Cajas `block`"
   ]
  },
  {
   "cell_type": "markdown",
   "metadata": {},
   "source": [
    "Cuanod el elemento es `block`, el ancho y el alto se pueden configurar, y el elemento se comporta como si fuese un bloque. Por ejemplo, si tenemos un `div` con un texto, y le ponemos un ancho y un alto, el ancho y el alto se aplicarán, y el elemento se comportará como si fuese un bloque.\n",
    "\n",
    "```html\n",
    "<div>Texto</div>\n",
    "```\n",
    "\n",
    "```css\n",
    "div {\n",
    "    width: 100px;\n",
    "    height: 100px;\n",
    "}\n",
    "```\n",
    "\n",
    "En este ejemplo, el ancho y el alto se aplicarán, y el elemento se comportará como si fuese un bloque."
   ]
  },
  {
   "cell_type": "markdown",
   "metadata": {},
   "source": [
    "Además, cuando el elemento es `block`, si se ponen varios elementos juntos en el html, estos elementos se mostrarán uno debajo del otro. Por ejemplo, si tenemos varios `div` con un texto, y los ponemos juntos en el html, estos elementos se mostrarán uno debajo del otro.\n",
    "\n",
    "```html\n",
    "<div>Texto</div>\n",
    "<div>Texto</div>\n",
    "<div>Texto</div>\n",
    "```\n",
    "\n",
    "En este ejemplo, los elementos se mostrarán uno debajo del otro\n",
    "                        \n",
    "⬇\n",
    "                        \n",
    "Texto\n",
    "                        \n",
    "Texto\n",
    "                        \n",
    "Texto"
   ]
  },
  {
   "cell_type": "markdown",
   "metadata": {},
   "source": [
    "Pero si queremos que los elementos se muestren en la misma línea, podemos utilizar `display: inline;`. Por ejemplo, si tenemos varios `div` con un texto, y les ponemos `display: inline;`, estos elementos se mostrarán en la misma línea.\n",
    "\n",
    "```html\n",
    "<div>Texto</div>\n",
    "<div>Texto</div>\n",
    "<div>Texto</div>\n",
    "```\n",
    "\n",
    "```css\n",
    "div {\n",
    "    display: inline;\n",
    "}\n",
    "```\n",
    "\n",
    "En este ejemplo, los elementos se mostrarán en la misma línea ==> TextoTextoTexto."
   ]
  },
  {
   "cell_type": "markdown",
   "metadata": {},
   "source": [
    "### Margin, Border, Padding y Content"
   ]
  },
  {
   "cell_type": "markdown",
   "metadata": {},
   "source": [
    "Ahora que sabemos en en html todo son cajas, podemos ver que cada caja tiene 4 partes:\n",
    "\n",
    "- **Margin**: Es el espacio que hay entre la caja y las demás cajas.\n",
    "- **Border**: Es el borde de la caja.\n",
    "- **Padding**: Es el espacio que hay entre el borde y el contenido.\n",
    "- **Content**: Es el contenido de la caja.\n",
    "\n",
    "![Margin, Border, Padding y Content](https://web.dev/static/learn/css/box-model/image/un-diagrama-que-muestra-l-a71d29fe924e.svg?hl=es)"
   ]
  },
  {
   "cell_type": "markdown",
   "metadata": {},
   "source": [
    "Todas estas propiedades se pueden configurar. Por ejemplo, si tenemos un `div` con un texto, y le ponemos un ancho y un alto, el ancho y el alto se aplicarán, y el elemento se comportará como si fuese un bloque.\n",
    "\n",
    "```html\n",
    "<div>Texto</div>\n",
    "```\n",
    "\n",
    "```css\n",
    "div {\n",
    "    width: 100px;\n",
    "    height: 100px;\n",
    "    margin: 10px;\n",
    "    border: 10px solid red;\n",
    "    padding: 10px;\n",
    "}\n",
    "```\n",
    "\n",
    "Como son propiedades de tamaño, se pueden poner unidades de longitud. Por ejemplo:\n",
    "\n",
    " * Si queremos que el margen sea de 10 píxeles, ponemos `margin: 10px;`.\n",
    " * Si queremos que solo sea el margen izquierdo, ponemos `margin-left: 10px;`.\n",
    " * Si queremos que solo sea el margen derecho, ponemos `margin-right: 10px;`.\n",
    " * Si queremos que solo sea el margen superior, ponemos `margin-top: 10px;`.\n",
    " * Si queremos que solo sea el margen inferior, ponemos `margin-bottom: 10px;`.\n",
    " * Si queremos que cada margen sea de un tamaño, ponemos `margin: 10px 20px 30px 40px;`. El orden es arriba, derecha, abajo, izquierda, como si fuesen las agujas del reloj.\n",
    " * Si queremos cambiar los tamaños en el eje horizontal y vertical, ponemos `margin: 10px 20px;`. El orden es arriba y abajo (10px), izquierda y derecha (20px)."
   ]
  },
  {
   "cell_type": "markdown",
   "metadata": {},
   "source": [
    "#### Tamaño de la caja al cambiar el padding"
   ]
  },
  {
   "cell_type": "markdown",
   "metadata": {},
   "source": [
    "Si tenemos un `div` con un texto, y le ponemos un ancho y un alto, el ancho y el alto se aplicarán, y el elemento se comportará como si fuese un bloque.\n",
    "\n",
    "```html\n",
    "<div>Texto</div>\n",
    "```\n",
    "\n",
    "```css\n",
    "div {\n",
    "    width: 100px;\n",
    "    height: 100px;\n",
    "}\n",
    "```\n",
    "\n",
    "De esta manera el `div` tendrá un ancho y un alto de 100px.\n",
    "\n",
    "Pero si ahora le aplicamos un padding de 10px, el ancho y el alto se mantendrán, pero el tamaño de la caja será de 120px, porque el padding se añade al ancho y al alto.\n",
    "\n",
    "```html\n",
    "<div>Texto</div>\n",
    "```\n",
    "\n",
    "```css\n",
    "div {\n",
    "    width: 100px;\n",
    "    height: 100px;\n",
    "    padding: 10px;\n",
    "}\n",
    "```\n",
    "\n",
    "De esta manera el `div` tendrá un ancho y un alto de 100px, pero el tamaño de la caja será de 120px."
   ]
  },
  {
   "cell_type": "markdown",
   "metadata": {},
   "source": [
    "#### Tamaño de la caja al cambiar el border"
   ]
  },
  {
   "cell_type": "markdown",
   "metadata": {},
   "source": [
    "Si tenemos un `div` con un texto, y le ponemos un ancho y un alto, el ancho y el alto se aplicarán, y el elemento se comportará como si fuese un bloque.\n",
    "\n",
    "```html\n",
    "<div>Texto</div>\n",
    "```\n",
    "\n",
    "```css\n",
    "div {\n",
    "    width: 100px;\n",
    "    height: 100px;\n",
    "}\n",
    "```\n",
    "\n",
    "De esta manera el `div` tendrá un ancho y un alto de 100px.\n",
    "\n",
    "Pero si ahora le aplicamos un border de 10px, el ancho y el alto se mantendrán, pero el tamaño de la caja será de 120px, porque el border se añade al ancho y al alto.\n",
    "\n",
    "```html\n",
    "<div>Texto</div>\n",
    "```\n",
    "\n",
    "```css\n",
    "div {\n",
    "    width: 100px;\n",
    "    height: 100px;\n",
    "    border: 10px solid red;\n",
    "}\n",
    "```\n",
    "\n",
    "De esta manera el `div` tendrá un ancho y un alto de 100px, pero el tamaño de la caja será de 120px."
   ]
  },
  {
   "cell_type": "markdown",
   "metadata": {},
   "source": [
    "#### Tamaño de la caja al cambiar el margin"
   ]
  },
  {
   "cell_type": "markdown",
   "metadata": {},
   "source": [
    "En el caso de los márgenes, el tamaño de la caja no cambia, pero el espacio entre las cajas sí. Por ejemplo, si tenemos dos `div` con un texto, y le ponemos un ancho y un alto, el ancho y el alto se aplicarán, y el elemento se comportará como si fuese un bloque.\n",
    "\n",
    "```html\n",
    "<div>Texto</div>\n",
    "<div>Texto</div>\n",
    "```\n",
    "\n",
    "```css\n",
    "div {\n",
    "    width: 100px;\n",
    "    height: 100px;\n",
    "}\n",
    "```\n",
    "\n",
    "De esta manera los `div` tendrán un ancho y un alto de 100px.\n",
    "\n",
    "Pero si ahora le aplicamos un margin de 10px, el ancho y el alto se mantendrán, pero el espacio entre los `div` será de 20px, porque el margin se añade al espacio entre los `div`.\n",
    "\n",
    "```html\n",
    "<div>Texto</div>\n",
    "<div>Texto</div>\n",
    "```\n",
    "\n",
    "```css\n",
    "div {\n",
    "    width: 100px;\n",
    "    height: 100px;\n",
    "    margin: 10px;\n",
    "}\n",
    "```\n",
    "\n",
    "De esta manera los `div` tendrán un ancho y un alto de 100px, pero el espacio entre los `div` será de 20px."
   ]
  },
  {
   "cell_type": "markdown",
   "metadata": {},
   "source": [
    "#### Tamaño de la caja"
   ]
  },
  {
   "cell_type": "markdown",
   "metadata": {},
   "source": [
    "Por tanto lo que ocupa la caja es:\n",
    "\n",
    " * Ancho: `width + padding + border`.\n",
    " * Alto: `height + padding + border`.\n",
    "\n",
    "El margen no cuenta, porque el margen es el espacio entre las cajas."
   ]
  },
  {
   "cell_type": "markdown",
   "metadata": {},
   "source": [
    "### Box-sizing"
   ]
  },
  {
   "cell_type": "markdown",
   "metadata": {},
   "source": [
    "Por defecto, la propiedad `box-sizing` está configurada a `content-box`. Esto significa que el ancho y el alto no incluyen el padding ni el border. Por ejemplo, si tenemos un `div` con un texto, y le ponemos un ancho y un alto, el ancho y el alto se aplicarán, y el elemento se comportará como si fuese un bloque.\n",
    "\n",
    "```html\n",
    "<div>Texto</div>\n",
    "```\n",
    "\n",
    "```css\n",
    "div {\n",
    "    width: 100px;\n",
    "    height: 100px;\n",
    "}\n",
    "```\n",
    "\n",
    "De esta manera el `div` tendrá un ancho y un alto de 100px.\n",
    "\n",
    "Pero si ahora le aplicamos un padding de 10px, el ancho y el alto se mantendrán, pero el tamaño de la caja será de 120px, porque el padding se añade al ancho y al alto.\n",
    "\n",
    "```html\n",
    "<div>Texto</div>\n",
    "```\n",
    "\n",
    "```css\n",
    "div {\n",
    "    width: 100px;\n",
    "    height: 100px;\n",
    "    padding: 10px;\n",
    "}\n",
    "```\n",
    "\n",
    "De esta manera el `div` tendrá un ancho y un alto de 100px, pero el tamaño de la caja será de 120px."
   ]
  },
  {
   "cell_type": "markdown",
   "metadata": {},
   "source": [
    "Si cambiaramos la propiedad `box-sizing` a `border-box`, el ancho y el alto incluirían el padding y el border. Por ejemplo, si tenemos un `div` con un texto, y le ponemos un ancho y un alto, el ancho y el alto se aplicarán, y el elemento se comportará como si fuese un bloque.\n",
    "\n",
    "```html\n",
    "<div>Texto</div>\n",
    "```\n",
    "\n",
    "```css\n",
    "div {\n",
    "    width: 100px;\n",
    "    height: 100px;\n",
    "    box-sizing: border-box;\n",
    "}\n",
    "```\n",
    "\n",
    "De esta manera el `div` tendrá un ancho y un alto de 100px.\n",
    "\n",
    "Pero si ahora le aplicamos un padding de 10px, el ancho y el alto se mantendrán, y el tamaño de la caja también será de 100px, porque el padding no se añade al ancho y al alto.\n",
    "\n",
    "```html\n",
    "<div>Texto</div>\n",
    "```\n",
    "\n",
    "```css\n",
    "div {\n",
    "    width: 100px;\n",
    "    height: 100px;\n",
    "    box-sizing: border-box;\n",
    "    padding: 10px;\n",
    "}\n",
    "```\n",
    "\n",
    "De esta manera el `div` tendrá un ancho y un alto de 100px, y el tamaño de la caja también será de 100px.\n",
    "\n",
    "Hay que tener en cuenta que cuando se cambia la propiedad `box-sizing` a `border-box`, el ancho y el alto incluyen el padding y el border, por lo que no podemos poner un ancho y un alto menor que el padding y el border. Por ejemplo, si tenemos un `div` con un texto, y le ponemos un ancho y un alto, el ancho y el alto se aplicarán, y el elemento se comportará como si fuese un bloque.\n",
    "\n",
    "```html\n",
    "<div>Texto</div>\n",
    "```\n",
    "\n",
    "```css\n",
    "div {\n",
    "    width: 100px;\n",
    "    height: 100px;\n",
    "    box-sizing: border-box;\n",
    "}\n",
    "```\n",
    "\n",
    "De esta manera el `div` tendrá un ancho y un alto de 100px.\n",
    "\n",
    "Pero si ahora le aplicamos un padding de 110px, el ancho y el alto se mantendrán, pero el tamaño de la caja será de 220px, porque el padding se añade al ancho y al alto.\n",
    "\n",
    "```html\n",
    "<div>Texto</div>\n",
    "```\n",
    "\n",
    "```css\n",
    "div {\n",
    "    width: 100px;\n",
    "    height: 100px;\n",
    "    box-sizing: border-box;\n",
    "    padding: 110px;\n",
    "}\n",
    "```\n",
    "\n",
    "De esta manera el `div` tendrá un ancho y un alto de 100px, pero el tamaño de la caja será de 220px."
   ]
  },
  {
   "cell_type": "markdown",
   "metadata": {},
   "source": [
    "### Overflow"
   ]
  },
  {
   "cell_type": "markdown",
   "metadata": {},
   "source": [
    "Uno de los memes más famosos de CSS es el siguiente\n",
    "\n",
    "![CSS is awesome](https://css-tricks.com/wp-content/uploads/2021/04/css-is-awesome.jpg)\n",
    "\n",
    "Y esto se produce cuando el tamaño del contenido es mayor que el tamaño de la caja. Por ejemplo, si tenemos un `div` con un texto, y le ponemos un ancho y un alto, el ancho y el alto se aplicarán, y el elemento se comportará como si fuese un bloque.\n",
    "\n",
    "```html\n",
    "<div>Texto</div>\n",
    "```\n",
    "\n",
    "```css\n",
    "div {\n",
    "    width: 100px;\n",
    "    height: 100px;\n",
    "}\n",
    "```\n",
    "\n",
    "De esta manera el `div` tendrá un ancho y un alto de 100px.\n",
    "\n",
    "Pero si ahora le aplicamos un texto muy largo, el texto se saldrá de la caja, porque el tamaño del contenido es mayor que el tamaño de la caja.\n",
    "\n",
    "```html\n",
    "<div>Texto muy largo</div>\n",
    "```\n",
    "\n",
    "```css\n",
    "div {\n",
    "    width: 100px;\n",
    "    height: 100px;\n",
    "}\n",
    "```\n",
    "\n",
    "De esta manera el `div` tendrá un ancho y un alto de 100px, pero el texto se saldrá de la caja."
   ]
  },
  {
   "cell_type": "markdown",
   "metadata": {},
   "source": [
    "Esto ocurreo porque en CSS la propiedad `overflow` está configurada a `visible`. Esto significa que el contenido se puede salir de la caja. Pero tenemos otras opciones:\n",
    "\n",
    " * `hidden`: El contenido no se puede salir de la caja, y se corta.\n",
    " * `scroll`: El contenido no se puede salir de la caja, y se añade una barra de desplazamiento.\n",
    " * `auto`: El contenido no se puede salir de la caja, y se añade una barra de desplazamiento si es necesario. En este caso depende del dispositivo, porque si el dispositivo tiene una barra de desplazamiento, se añadirá una barra de desplazamiento, y si el dispositivo no tiene una barra de desplazamiento, no se añadirá una barra de desplazamiento.\n",
    "\n",
    "Entre `scroll` y `auto` el recomendado es `auto`, porque si el dispositivo tiene una barra de desplazamiento, se añadirá una barra de desplazamiento, y si el dispositivo no tiene una barra de desplazamiento, no se añadirá una barra de desplazamiento.\n",
    "\n",
    "![aoverflow](https://lh3.googleusercontent.com/-tVNmvecB8A4/Ukqdi769oPI/AAAAAAAAAd0/kgisEf3RGRk/s538/CU01038D_1.png)"
   ]
  },
  {
   "cell_type": "markdown",
   "metadata": {},
   "source": [
    "### Overflow hidden"
   ]
  },
  {
   "cell_type": "markdown",
   "metadata": {},
   "source": [
    "En el caso de elegir `hidden`, el contenido no se puede salir de la caja, y se corta. En este caso tenemos la propiedad `text-overlow`, que nos permite configurar qué se hace con el texto que se sale de la caja. Las opciones son:\n",
    "\n",
    " * `clip`: El texto se corta.\n",
    " * `ellipsis`: El texto se corta, y se añade `...` al final del texto.\n",
    "\n",
    "En el futuro se podrá poner un símbolo personalizado, pero de momento no se puede."
   ]
  },
  {
   "cell_type": "markdown",
   "metadata": {},
   "source": [
    "#### Estilado de la barra"
   ]
  },
  {
   "cell_type": "markdown",
   "metadata": {},
   "source": [
    "En caso de tener desbordamientos se puede estilar la barra, pero es recomendable no estilar la barra de la página y solo hacerlo en barras de cajas internas. Por ejemplo, si en la página hay un índice en el lateral, y queremos cambiar el tamaño y el color de la barra para que se vea mejor, podemos hacerlo.\n",
    "\n",
    "En [scrollbar.app](https://scrollbar.app/) tenemos un editor para poder estilar la barra y obtener el código necesario"
   ]
  },
  {
   "cell_type": "markdown",
   "metadata": {},
   "source": [
    "### Position"
   ]
  },
  {
   "cell_type": "markdown",
   "metadata": {},
   "source": [
    "En html los elementos se van apilando, se posicionan por defecto de manera estática, esto es porque por defecto en CSS tienen el atributo `position` con el valor `static`. Esto significa que el elemento se posiciona de manera estática, y no se puede mover. Los posibles valores son\n",
    "\n",
    " * `static`: El elemento se posiciona de manera estática, y no se puede mover.\n",
    " * `relative`: El elemento se posiciona de manera relativa, y se puede mover.\n",
    " * `absolute`: El elemento se posiciona de manera absoluta, y se puede mover.\n",
    " * `fixed`: El elemento se posiciona de manera fija, y se puede mover.\n",
    " * `sticky`: El elemento se posiciona de manera pegajosa, y se puede mover.\n",
    "\n",
    "![Position](https://miro.medium.com/v2/resize:fit:600/1*WU2bIP1OCaS71r82S5zFeA.jpeg)"
   ]
  },
  {
   "cell_type": "markdown",
   "metadata": {},
   "source": [
    "#### Position relative"
   ]
  },
  {
   "cell_type": "markdown",
   "metadata": {},
   "source": [
    "Cuando queremos que la posición de un elemento sea relativa a otro usamos `position: relative;`. Pero hay que poner `position: relative;` en el padre, y `position: absolute;` en el hijo. Por ejemplo, si tenemos un `div` con un texto, y queremos que el texto esté en la esquina superior derecha del `div`, podemos hacerlo.\n",
    "\n",
    "```html\n",
    "<div>\n",
    "    <p>Texto</p>\n",
    "</div>\n",
    "```\n",
    "\n",
    "```css\n",
    "div {\n",
    "    position: relative;\n",
    "}\n",
    "\n",
    "p {\n",
    "    position: absolute;\n",
    "    top: 0;\n",
    "    right: 50px;\n",
    "}\n",
    "```\n",
    "\n",
    "De esta manera el texto estará en la esquina superior derecha del `div`."
   ]
  },
  {
   "cell_type": "markdown",
   "metadata": {},
   "source": [
    "#### Position absolute"
   ]
  },
  {
   "cell_type": "markdown",
   "metadata": {},
   "source": [
    "Cuando el elemento es `absolute`, el elemento se posiciona de manera absoluta al primer elemento padre que no sea `static`. En el ejemplo anteriore hemos visto que si tenemos un `div` con un texto, y queremos que el texto esté en la esquina superior derecha del `div`, podemos hacerlo.\n",
    "\n",
    "```html\n",
    "<div>\n",
    "    <p>Texto</p>\n",
    "</div>\n",
    "```\n",
    "\n",
    "```css\n",
    "div {\n",
    "    position: relative;\n",
    "}\n",
    "\n",
    "p {\n",
    "    position: absolute;\n",
    "    top: 0;\n",
    "    right: 50px;\n",
    "}\n",
    "```\n",
    "\n",
    "En este ejemplo, el `div` tiene `position: relative;`, por lo que el `p` se posiciona de manera absoluta al `div`, en la esquina superior derecha."
   ]
  },
  {
   "cell_type": "markdown",
   "metadata": {},
   "source": [
    "En caso de que no haya ningún elemento padre que no sea `static`, el elemento se posiciona de manera absoluta al `body`, es decir, a la página.\n",
    "\n",
    "```html\n",
    "<p>Texto</p>\n",
    "```\n",
    "\n",
    "```css\n",
    "p {\n",
    "    position: absolute;\n",
    "    top: 0;\n",
    "    right: 50px;\n",
    "}\n",
    "```\n",
    "\n",
    "En este ejemplo, el `p` no tiene ningún elemento padre que no sea `static`, por lo que el `p` se posiciona de manera absoluta al `body`. Es decir en la parte superior derecha de la página."
   ]
  },
  {
   "cell_type": "markdown",
   "metadata": {},
   "source": [
    "Gracias a las propiedades `relative` y `absolute` podemos centrar un `div` horizontalmente y verticalmente. Por ejemplo, si tenemos un `div` con un texto, y queremos que el texto esté centrado horizontalmente y verticalmente, podemos hacerlo.\n",
    "\n",
    "```html\n",
    "<div>\n",
    "    <p>Texto</p>\n",
    "</div>\n",
    "```\n",
    "\n",
    "```css\n",
    "div {\n",
    "    position: relative;\n",
    "}\n",
    "\n",
    "p {\n",
    "    position: absolute;\n",
    "    top: 0;\n",
    "    right: 0;\n",
    "    bottom: 0;\n",
    "    left: 0;\n",
    "    margin: auto;\n",
    "}\n",
    "```\n",
    "\n",
    "En este ejemplo, el `div` tiene `position: relative;`, por lo que el `p` se posiciona de manera absoluta al `div`, en la esquina superior derecha. Además, el `p` tiene `top: 0;`, `right: 0;`, `bottom: 0;` y `left: 0;`, por lo que el `p` ocupa todo el `div`. Por último, el `p` tiene `margin: auto;`, por lo que el `p` se centra horizontalmente y verticalmente.\n",
    "\n",
    "Esta no es la mejor manera de centrar el contenido en un `div`, pero puede ser muy útil en algunos casos, como por ejemplo en un modal."
   ]
  },
  {
   "cell_type": "markdown",
   "metadata": {},
   "source": [
    "#### Position fixed"
   ]
  },
  {
   "cell_type": "markdown",
   "metadata": {},
   "source": [
    "Cuando el elemento es `fixed`, el elemento se posiciona de manera fija a la ventana. Es parecido a `absolute`, pero en vez de posicionarse al primer elemento padre que no sea `static`, se posiciona a la ventana. Además, si la ventana se mueve, el elemento se mueve con ella, es decir, que si hacemos scroll, el elemento siempre estará en la misma posición.\n",
    "\n",
    "Por ejemplo, si tenemos un `div` con un texto, y queremos que el texto esté en la esquina superior derecha de la ventana, podemos hacerlo.\n",
    "\n",
    "```html\n",
    "<div>\n",
    "    <p>Texto</p>\n",
    "</div>\n",
    "```\n",
    "\n",
    "```css\n",
    "p {\n",
    "    position: fixed;\n",
    "    top: 0;\n",
    "    right: 50px;\n",
    "}\n",
    "```\n",
    "\n",
    "En este ejemplo, el `p` se posiciona de manera fija a la ventana, en la esquina superior derecha y al hacer scroll, el `p` siempre estará en la misma posición."
   ]
  },
  {
   "cell_type": "markdown",
   "metadata": {},
   "source": [
    "#### Position sticky"
   ]
  },
  {
   "cell_type": "markdown",
   "metadata": {},
   "source": [
    "Cuando el elemento es `sticky`, el elemento se posiciona de manera pegajosa al primer elemento padre que no sea `static`.\n",
    "\n",
    "Es parecido a `relative`, pero cuando el elemento llega a la parte superior de la ventana, el elemento se posiciona de manera fija a la ventana. Además, si la ventana se mueve, el elemento se mueve con ella, es decir, que si hacemos scroll, el elemento siempre estará en la misma posición.\n",
    "\n",
    "Por ejemplo, si tenemos un `div` con un texto, y queremos que el texto esté en la esquina superior derecha del `div`, podemos hacerlo.\n",
    "\n",
    "```html\n",
    "<div>\n",
    "    <p>Texto</p>\n",
    "</div>\n",
    "```\n",
    "\n",
    "```css\n",
    "div {\n",
    "    position: relative;\n",
    "}\n",
    "\n",
    "p {\n",
    "    position: sticky;\n",
    "    top: 0;\n",
    "    right: 50px;\n",
    "}\n",
    "```\n",
    "\n",
    "En este ejemplo, el `div` tiene `position: relative;`, por lo que el `p` se posiciona de manera relativa al `div`, en la esquina superior derecha. Además, el `p` tiene `top: 0;`, por lo que el `p` se posiciona de manera pegajosa al `div`. Es decir, que cuando el `p` llega a la parte superior de la ventana, el `p` se posiciona de manera fija a la ventana.\n",
    "\n",
    "![sticky](https://miro.medium.com/v2/resize:fit:720/format:webp/1*kyrVMytQd1Dt19D0If5q3Q.gif)"
   ]
  },
  {
   "cell_type": "markdown",
   "metadata": {},
   "source": [
    "### Z-index"
   ]
  },
  {
   "cell_type": "markdown",
   "metadata": {},
   "source": [
    "Como hemos visto al cambiar el `position` de un elemento, el elemento se posiciona encima de los demás elementos. Por lo que necesitamos tener control de qué elemento está o se verá por encima de los demás. Para ello tenemos la propiedad `z-index`. Por defecto, todos los elementos tienen `z-index: auto;`, pero podemos cambiarlo. Por ejemplo, si tenemos un `div` con un texto, y queremos que el texto esté encima del `div`, podemos hacerlo.\n",
    "\n",
    "```html\n",
    "<div>\n",
    "    <p>Texto</p>\n",
    "</div>\n",
    "```\n",
    "\n",
    "```css\n",
    "div {\n",
    "    position: relative;\n",
    "    z-index: 0;\n",
    "}\n",
    "\n",
    "p {\n",
    "    position: absolute;\n",
    "    top: 0;\n",
    "    right: 50px;\n",
    "    z-index: 1;\n",
    "}\n",
    "```\n",
    "\n",
    "En este ejemplo, el `div` tiene `position: relative;` y `z-index: 0;`, por lo que el `div` se posiciona de manera relativa al `div`, y el `div` tiene un `z-index` de 0. Además, el `p` tiene `position: absolute;`, `top: 0;`, `right: 50px;` y `z-index: 1;`, por lo que el `p` se posiciona de manera absoluta al `div`, en la esquina superior derecha, y el `p` tiene un `z-index` de 1. Por lo que el `p` estará encima del `div`."
   ]
  },
  {
   "cell_type": "markdown",
   "metadata": {},
   "source": [
    "Si no se indica el `z-index`, los hijos tienen un `z-index` mayor que los padres. Pero por ejemplo, en el caso de `position: sticky;`, el `z-index` del elemento hijo es mayor que el `z-index` del de su padre, pero a la hora de hacer scroll, si en algún momento coincide el hijo con otro padre, el otro padre estará por encima.\n",
    "\n",
    "Si queremos que ese hijo se vea por encima de los otros padres podemos controlarlo con el `z-index`.\n",
    "\n",
    "En el [curso de CSS de Goolge](https://web.dev/learn/css/z-index?hl=es-419) se puede ver muy bien cómo funciona el `z-index`."
   ]
  },
  {
   "cell_type": "markdown",
   "metadata": {},
   "source": [
    "## Flexbox y Grid"
   ]
  },
  {
   "cell_type": "markdown",
   "metadata": {},
   "source": [
    "Hay dos maneras de hacer layouts en CSS, con `flexbox` y con `grid`. `Flexbox` es más antiguo, y `grid` es más nuevo. `Flexbox` es unidimensional, y `grid` es bidimensional. `Flexbox` es para layouts sencillos, y `grid` es para layouts complejos."
   ]
  },
  {
   "cell_type": "markdown",
   "metadata": {},
   "source": [
    "## Flexbox"
   ]
  },
  {
   "cell_type": "markdown",
   "metadata": {},
   "source": [
    "Como hemos visto, tenemos contenedores que tienen `display: block;`, y contenedores que tienen `display: inline;`. Los primeros se muestran en diferentes líneas, y los segundos se muestran en la misma línea. Por lo que si tenemos varios `div`s se verán uno debajo del otro, y si tenemos varios `span`s se verán en la misma línea.\n",
    "\n",
    "Pero si queremos que los `div`s se vean en la misma línea y además de manera flexible, podemos crear un contenedor padre que los contenga y hacer que el contenedor padre tenga `display: flex;`.\n",
    "\n",
    "```html\n",
    "<section>\n",
    "    <div>Texto</div>\n",
    "    <div>Texto</div>\n",
    "    <div>Texto</div>\n",
    "</div>\n",
    "```\n",
    "\n",
    "```css\n",
    "section {\n",
    "    display: flex;\n",
    "}\n",
    "```\n",
    "\n",
    "De esta manera los `div`s se verán en la misma línea y además de manera flexible, es decir, si no caben en la misma línea, se pondrán en la siguiente línea."
   ]
  },
  {
   "cell_type": "markdown",
   "metadata": {},
   "source": [
    "### Flex-direction"
   ]
  },
  {
   "cell_type": "markdown",
   "metadata": {},
   "source": [
    "`Flexbox` es uni-dimensional, por lo que solo se puede configurar una dirección. Por defecto, la propiedad `flex-direction` está configurada a `row`. Esto significa que los elementos se muestran en la misma línea. Pero podemos cambiarlo a `column`, para que los elementos se muestren en diferentes líneas.\n",
    "\n",
    "```html\n",
    "<section>\n",
    "    <div>Texto</div>\n",
    "    <div>Texto</div>\n",
    "    <div>Texto</div>\n",
    "</section>\n",
    "```\n",
    "\n",
    "```css\n",
    "section {\n",
    "    display: flex;\n",
    "    flex-direction: column;\n",
    "}\n",
    "```\n",
    "\n",
    "De esta manera los `div`s se verán en diferentes líneas.\n",
    "\n",
    "Esto es muy útil para hacer layouts responsive, porque podemos cambiar la dirección de los elementos dependiendo del tamaño de la pantalla."
   ]
  },
  {
   "cell_type": "markdown",
   "metadata": {},
   "source": [
    "Podemos además inidicar el sentido de la dirección, con `flex-direction: row-reverse;` o `flex-direction: column-reverse;`. Por ejemplo, si tenemos varios `div`s, y queremos que se muestren en la misma línea, pero en sentido contrario, podemos hacerlo.\n",
    "\n",
    "```html\n",
    "<section>\n",
    "    <div>Texto</div>\n",
    "    <div>Texto</div>\n",
    "    <div>Texto</div>\n",
    "</section>\n",
    "```\n",
    "\n",
    "```css\n",
    "section {\n",
    "    display: flex;\n",
    "    flex-direction: row-reverse;\n",
    "}\n",
    "```\n",
    "\n",
    "De esta manera los `div`s se verán en la misma línea, pero en sentido contrario.\n",
    "\n",
    "Esto es muy útil cuando queremos ordenar los elementos de manera inversa, por ejemplo, si tenemos un `ul` con una lista, y queremos que la lista se muestre en sentido contrario, de esta manera no hace falta programar nada y se puede hacer con CSS."
   ]
  },
  {
   "cell_type": "markdown",
   "metadata": {},
   "source": [
    "![flex-direction](https://byteiota.com/wp-content/uploads/2020/11/flex-direction.png)"
   ]
  },
  {
   "cell_type": "markdown",
   "metadata": {},
   "source": [
    "### Direction"
   ]
  },
  {
   "cell_type": "markdown",
   "metadata": {},
   "source": [
    "Otra manera de indicar el sentido de la dirección es con la propiedad `direction`. Por defecto, la propiedad `direction` está configurada a `ltr`. Esto significa que el sentido de la dirección es de izquierda a derecha. Pero podemos cambiarlo a `rtl`, para que el sentido de la dirección sea de derecha a izquierda.\n",
    "\n",
    "```html\n",
    "<section>\n",
    "    <div>Texto</div>\n",
    "    <div>Texto</div>\n",
    "    <div>Texto</div>\n",
    "</section>\n",
    "```\n",
    "\n",
    "```css\n",
    "section {\n",
    "    display: flex;\n",
    "    direction: rtl;\n",
    "}\n",
    "```\n",
    "\n",
    "![direction](https://rtlstyling.com/img/flexbox-axis.jpg)"
   ]
  },
  {
   "cell_type": "markdown",
   "metadata": {},
   "source": [
    "### Flex-wrap"
   ]
  },
  {
   "cell_type": "markdown",
   "metadata": {},
   "source": [
    "Cuando los elementos no caben en la misma línea, se ponen en la siguiente línea. Pero podemos cambiar este comportamiento con la propiedad `flex-wrap`. Por defecto, la propiedad `flex-wrap` está configurada a `nowrap`. Esto significa que los elementos no se pueden poner en la siguiente línea. Pero podemos cambiarlo a `wrap`, para que los elementos se puedan poner en la siguiente línea.\n",
    "\n",
    "```html\n",
    "<section>\n",
    "    <div>Texto</div>\n",
    "    <div>Texto</div>\n",
    "    <div>Texto</div>\n",
    "</section>\n",
    "```\n",
    "\n",
    "```css\n",
    "section {\n",
    "    display: flex;\n",
    "    flex-wrap: wrap;\n",
    "}\n",
    "```\n",
    "\n",
    "De esta manera los `div`s se podrán poner en la siguiente línea.\n",
    "\n",
    "![flex-wrap](https://static.platzi.com/media/user_upload/3-bc5be74e-4e40-438d-a2d9-b7a918f504fb.jpg)"
   ]
  },
  {
   "cell_type": "markdown",
   "metadata": {},
   "source": [
    "### Flex-flow"
   ]
  },
  {
   "cell_type": "markdown",
   "metadata": {},
   "source": [
    "Una manera de configurar la dirección y el wrap de los elementos es con la propiedad `flex-flow`. Por defecto, la propiedad `flex-flow` está configurada a `row nowrap`. Esto significa que los elementos se muestran en la misma línea, y no se pueden poner en la siguiente línea. Pero podemos cambiarlo a `row wrap`, para que los elementos se muestren en la misma línea, y se puedan poner en la siguiente línea.\n",
    "\n",
    "```html\n",
    "<section>\n",
    "    <div>Texto</div>\n",
    "    <div>Texto</div>\n",
    "    <div>Texto</div>\n",
    "</section>\n",
    "```\n",
    "\n",
    "```css\n",
    "section {\n",
    "    display: flex;\n",
    "    flex-flow: row wrap;\n",
    "}\n",
    "```\n",
    "\n",
    "De esta manera los `div`s se verán en la misma línea, y se podrán poner en la siguiente línea.\n",
    "\n",
    "![flex-flow](https://i.stack.imgur.com/6vtqd.png)"
   ]
  },
  {
   "cell_type": "markdown",
   "metadata": {},
   "source": [
    "### Flex-grow, Flex-shrink y Flex-basis"
   ]
  },
  {
   "cell_type": "markdown",
   "metadata": {},
   "source": [
    "Podemos configurar el tamaño de los elementos con las propiedades `flex-grow`, `flex-shrink` y `flex-basis`.\n",
    "\n",
    " * `flex-grow`: Indica si el elemento puede crecer o no. Por defecto, la propiedad `flex-grow` está configurada a `0`, lo que significa que el elemento no puede crecer. Pero podemos cambiarlo a `1`, para que el elemento pueda crecer.\n",
    " * `flex-shrink`: Indica si el elemento puede encoger o no. Por defecto, la propiedad `flex-shrink` está configurada a `1`, lo que significa que el elemento puede encoger. Pero podemos cambiarlo a `0`, para que el elemento no pueda encoger.\n",
    " * `flex-basis`: Indica el tamaño del elemento. Por defecto, la propiedad `flex-basis` está configurada a `auto`, lo que significa que el elemento tiene un tamaño automático. Pero podemos cambiarlo a `100px`, para que el elemento tenga un tamaño de 100px.\n",
    "\n",
    "Por ejemplo, si tenemos varios `div`s, y queremos que el primer `div` tenga un tamaño de 100px, y los demás se repartan el espacio restante, podemos hacerlo.\n",
    "\n",
    "```html\n",
    "<section>\n",
    "    <div>Texto</div>\n",
    "    <div>Texto</div>\n",
    "    <div>Texto</div>\n",
    "</section>\n",
    "```\n",
    "\n",
    "```css\n",
    "section {\n",
    "    display: flex;\n",
    "}\n",
    "\n",
    "section div:first-child {\n",
    "    flex-grow: 0;   /* Como por feecto está a 0, no hace falta ponerlo */\n",
    "    flex-shrink: 0; /* Como por feecto está a 1, no hace falta ponerlo */\n",
    "    flex-basis: 100px;\n",
    "}\n",
    "\n",
    "section div {\n",
    "    flex-grow: 1;\n",
    "    flex-shrink: 1;     /* Como por feecto está a 1, no hace falta ponerlo */\n",
    "    flex-basis: auto;   /* Como por feecto está a auto, no hace falta ponerlo */\n",
    "}\n",
    "```\n",
    "\n",
    "De esta manera el primer `div` tendrá un tamaño de 100px, y los demás se repartirán el espacio restante."
   ]
  },
  {
   "cell_type": "markdown",
   "metadata": {},
   "source": [
    "\n",
    "Se pueden modificar los tres valores de una vez con la propiedad `flex`. Por ejemplo, si tenemos varios `div`s, y queremos que el primer `div` tenga un tamaño de 100px, y los demás se repartan el espacio restante, podemos hacerlo.\n",
    "\n",
    "```html\n",
    "<section>\n",
    "    <div>Texto</div>\n",
    "    <div>Texto</div>\n",
    "    <div>Texto</div>\n",
    "</section>\n",
    "```\n",
    "\n",
    "```css\n",
    "section {\n",
    "    display: flex;\n",
    "}\n",
    "\n",
    "section div:first-child {\n",
    "    flex: 0 0 100px;\n",
    "}\n",
    "\n",
    "section div {\n",
    "    flex: 1 1 auto;\n",
    "}\n",
    "```\n",
    "\n",
    "De esta manera el primer `div` tendrá un tamaño de 100px, y los demás se repartirán el espacio restante."
   ]
  },
  {
   "cell_type": "markdown",
   "metadata": {},
   "source": [
    "O también se puede modificar de una vez con `flex: initial;`, que es lo mismo que `flex: 0 1 auto;`. O con `flex: auto;`, que es lo mismo que `flex: 1 1 auto;`. O con `flex: none;`, que es lo mismo que `flex: 0 0 auto;`. O con `flex: 1;`, que es lo mismo que `flex: 1 1 0%;`."
   ]
  },
  {
   "cell_type": "markdown",
   "metadata": {},
   "source": [
    "Otra forma de modificar `flex` es poniendo números, que indicarán el espacio relativo del contenedor. Por ejemplo, si tenemos varios `div`s, y queremos que el primero tenga el doble de eespacio del segundo, y el segundo tenga el doble de espacio del tercero, podemos hacerlo.\n",
    "\n",
    "```html\n",
    "<section>\n",
    "    <div>Texto</div>\n",
    "    <div>Texto</div>\n",
    "    <div>Texto</div>\n",
    "</section>\n",
    "```\n",
    "\n",
    "```css\n",
    "section {\n",
    "    display: flex;\n",
    "}\n",
    "\n",
    "section div:first-child {\n",
    "    flex: 4;\n",
    "}\n",
    "\n",
    "section div:nth-child(2) {\n",
    "    flex: 4;\n",
    "}\n",
    "\n",
    "section div:nth-child(3) {\n",
    "    flex: 1;\n",
    "}\n",
    "```\n",
    "\n",
    "De esta manera el primer `div` tendrá el doble de espacio del segundo, y el segundo tendrá el doble de espacio del tercero."
   ]
  },
  {
   "cell_type": "markdown",
   "metadata": {},
   "source": [
    "### Order"
   ]
  },
  {
   "cell_type": "markdown",
   "metadata": {},
   "source": [
    "Podemos ordenar los elementos dentro de un contenedor con la propiedad `order`. Por defecto, la propiedad `order` está configurada a `0`. Pero podemos cambiarlo a `1`, para que el elemento se ponga después de los elementos que tengan `order: 0;`. O podemos cambiarlo a `-1`, para que el elemento se ponga antes de los elementos que tengan `order: 0;`.\n",
    "\n",
    "Es como `z-index`, pero para el orden de los elementos. Cuanto mayor sea el `order`, más tarde se pondrá el elemento. Por ejemplo, si tenemos varios `div`s, y queremos que el primer `div` se ponga después del segundo, podemos hacerlo.\n",
    "\n",
    "```html\n",
    "<section>\n",
    "    <div>Texto 1</div>\n",
    "    <div>Texto 2</div>\n",
    "    <div>Texto 3</div>\n",
    "</section>\n",
    "```\n",
    "\n",
    "```css\n",
    "section {\n",
    "    display: flex;\n",
    "}\n",
    "\n",
    "section div:first-child {\n",
    "    order: 1;\n",
    "}\n",
    "\n",
    "section div {\n",
    "    order: 0;\n",
    "}\n",
    "```\n",
    "\n",
    "El resultado será\n",
    "\n",
    "Texto 2\n",
    "\n",
    "Texto 3\n",
    "\n",
    "Texto 1\n",
    "\n",
    "![order](https://p6-juejin.byteimg.com/tos-cn-i-k3u1fbpfcp/8a7d45de6a88466ca3f98f4f0505f4d7~tplv-k3u1fbpfcp-zoom-in-crop-mark:1512:0:0:0.awebp)"
   ]
  },
  {
   "cell_type": "markdown",
   "metadata": {},
   "source": [
    "### Justify-content"
   ]
  },
  {
   "cell_type": "markdown",
   "metadata": {},
   "source": [
    "Como `Flexbox` es uni-dimensional, podemos configurar el justificado de los elementos del contenedor en el eje del `Flebox` del contenedor. Es decir, si el eje del `Flexbox` del contenedor es horizontal, podemos configurar el justificado de los elementos del contenedor en el eje horizontal. Y si el eje del `Flexbox` del contenedor es vertical, podemos configurar el justificado de los elementos del contenedor en el eje vertical.\n",
    "\n",
    "Los posibles valores son:\n",
    "\n",
    " * `flex-start`: Los elementos se justifican al principio del eje del `Flexbox` del contenedor.\n",
    " * `flex-end`: Los elementos se justifican al final del eje del `Flexbox` del contenedor.\n",
    " * `center`: Los elementos se justifican en el centro del eje del `Flexbox` del contenedor.\n",
    " * `space-between`: Los elementos se justifican con el mismo espacio entre ellos. A los laterales del primer y último elemento no se deja espacio.\n",
    " * `space-around`: Los elementos se justifican con el mismo espacio alrededor de ellos.\n",
    " * `space-evenly`: Los elementos se justifican con el mismo espacio entre ellos y alrededor de ellos. Es decir, es similar a `space-between`, pero a los laterales del primer y último elemento se deja espacio. El espacio en los laterales es el mismo que el espacio entre los elementos\n",
    "\n",
    "![justify-content](https://css-tricks.com/wp-content/uploads/2018/10/justify-content.svg)"
   ]
  },
  {
   "cell_type": "markdown",
   "metadata": {},
   "source": [
    "### Gap"
   ]
  },
  {
   "cell_type": "markdown",
   "metadata": {},
   "source": [
    "Supon que tenemos varios elementos dentro de un contenedor y hemos puesto `justify-content: center;`. Esto hará que los elementos estén centrados en el contenedor, pero pegados entre ellos. Si queremos que haya un espacio entre los elementos, podemos poner `gap: 10px;`. De esta manera habrá un espacio de 10px entre los elementos.\n",
    "\n",
    "```html\n",
    "<section>\n",
    "    <div>Texto 1</div>\n",
    "    <div>Texto 2</div>\n",
    "    <div>Texto 3</div>\n",
    "</section>\n",
    "```\n",
    "\n",
    "```css\n",
    "section {\n",
    "    display: flex;\n",
    "    justify-content: center;\n",
    "    gap: 10px;\n",
    "}\n",
    "```\n",
    "\n",
    "![gap](data:image/png;base64,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)"
   ]
  },
  {
   "cell_type": "markdown",
   "metadata": {},
   "source": [
    "### Align-items"
   ]
  },
  {
   "cell_type": "markdown",
   "metadata": {},
   "source": [
    "Hasta ahora hemos visto como distribuir los elementos en el eje principal del `Flexbox`. Pero, ¿qué pasa con el eje secundario? Para ello tenemos la propiedad `align-items`. Esta propiedad nos permite alinear los elementos en el eje secundario del `Flexbox`.\n",
    "\n",
    "```html\n",
    "<section>\n",
    "    <div>Texto 1</div>\n",
    "    <div>Texto 2</div>\n",
    "    <div>Texto 3</div>\n",
    "</section>\n",
    "```\n",
    "\n",
    "```css\n",
    "section {\n",
    "    display: flex;\n",
    "    align-items: center;\n",
    "}\n",
    "```\n",
    "\n",
    "![align-items](https://css-tricks.com/wp-content/uploads/2018/10/align-items.svg)"
   ]
  },
  {
   "cell_type": "markdown",
   "metadata": {},
   "source": [
    "### Align-content"
   ]
  },
  {
   "cell_type": "markdown",
   "metadata": {},
   "source": [
    "Con `align-content` podemos alinear el contenido del contenedor en el eje secundario. Esta propiedad es similar a `align-items`, pero en vez de alinear los elementos, alinea el contenido del contenedor.\n",
    "\n",
    "```html\n",
    "<section>\n",
    "    <div>Texto 1</div>\n",
    "    <div>Texto 2</div>\n",
    "    <div>Texto 3</div>\n",
    "</section>\n",
    "```\n",
    "\n",
    "```css\n",
    "section {\n",
    "    display: flex;\n",
    "    align-content: center;\n",
    "    flex-wrap: wrap;\n",
    "    height: 200px;\n",
    "}\n",
    "```\n",
    "\n",
    "![align-content](https://css-tricks.com/wp-content/uploads/2018/10/align-content.svg)"
   ]
  },
  {
   "cell_type": "markdown",
   "metadata": {},
   "source": [
    "### Align-content vs Align-items"
   ]
  },
  {
   "cell_type": "markdown",
   "metadata": {},
   "source": [
    "Como puede haber confusión entre `align-content` y `align-items`, vamos a ver un ejemplo para ver la diferencia entre ambas propiedades.\n",
    "\n",
    "```html\n",
    "<section>\n",
    "    <div>Texto 1</div>\n",
    "    <div>Texto 2</div>\n",
    "    <div>Texto 3</div>\n",
    "    <div>Texto 4</div>\n",
    "    <div>Texto 5</div>\n",
    "    <div>Texto 6</div>\n",
    "    <div>Texto 7</div>\n",
    "    <div>Texto 8</div>\n",
    "    <div>Texto 9</div>\n",
    "</section>\n",
    "```\n",
    "\n",
    "```css\n",
    "section {\n",
    "    display: flex;\n",
    "    align-items: center;\n",
    "    align-content: center;\n",
    "    flex-wrap: wrap;\n",
    "    height: 200px;\n",
    "}\n",
    "```\n",
    "\n",
    "Con `align-items` alineamos los elementos en el eje secundario, mientras que con `align-content` alineamos el contenido del contenedor en el eje secundario. Es decir, con `align-items` alineamos los elementos entre ellos, mientras que con `align-content` alineamos el contenido del contenedor. En el ejemplo anterior podemos ver que con `align-items` los elementos se alinean entre ellos, mientras que con `align-content` el contenido del contenedor se alinea en el eje secundario."
   ]
  },
  {
   "cell_type": "markdown",
   "metadata": {},
   "source": [
    "### Align-self"
   ]
  },
  {
   "cell_type": "markdown",
   "metadata": {},
   "source": [
    "En ocasiones necesitamos alinear un elemento en el eje secundario de forma diferente al resto de elementos. Para ello tenemos la propiedad `align-self`. Esta propiedad nos permite alinear un elemento en el eje secundario de forma diferente al resto de elementos.\n",
    "\n",
    "Hasta ahora alineábamos los elementos en el padre, pero con `align-self` podemos alinear un elemento en el eje secundario de forma diferente al resto de elementos.\n",
    "\n",
    "```html\n",
    "<section>\n",
    "    <div>Texto 1</div>\n",
    "    <div>Texto 2</div>\n",
    "    <div>Texto 3</div>\n",
    "</section>\n",
    "```\n",
    "\n",
    "```css\n",
    "section {\n",
    "    display: flex;\n",
    "    align-items: center;\n",
    "}\n",
    "\n",
    "section div:nth-child(2) {\n",
    "    align-self: flex-end;\n",
    "}\n",
    "```\n",
    "\n",
    "![align-self](https://css-tricks.com/wp-content/uploads/2018/10/align-self.svg)"
   ]
  }
 ],
 "metadata": {
  "language_info": {
   "name": "python"
  }
 },
 "nbformat": 4,
 "nbformat_minor": 2
}
