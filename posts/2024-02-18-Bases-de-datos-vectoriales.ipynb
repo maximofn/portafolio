{
  "cells": [
    {
      "cell_type": "markdown",
      "metadata": {},
      "source": [
        "# Bases de datos vectoriales"
      ]
    },
    {
      "cell_type": "markdown",
      "metadata": {},
      "source": [
        "Hemos visto en el post de [embeddings](https://www.maximofn.com/embeddings) que los embeddings son una forma de representar palabras en un espacio vectorial. En este post vamos a ver cómo podemos almacenar esos embeddings en bases de datos vectoriales y cómo podemos hacer consultas sobre ellas."
      ]
    },
    {
      "cell_type": "markdown",
      "metadata": {},
      "source": [
        "Cuando tenemos una consulta, podemos crear el embedding de la consulta, buscar en la base de datos vectorial los embeddings que más se parezcan a la consulta y devolver los documentos que correspondan a esos embeddings o una explicación sobre esos documentos.\n",
        "\n",
        "![vector database](https://images.maximofn.com/vector_database.svg)\n",
        "\n",
        "Es decir, vamos a generar una base de datos de información, vamos a crear embeddings de esa información y la vamos a guardar en una base de datos vectorial. Luego cuando un usuario haga una consulta, convertiremos la consulta a embeddings, buscaremos en la base de datos los embeddings con mayor similitud y devolveremos los documentos que correspondan a esos embeddings.\n",
        "\n",
        "Además de los documentos, en la base de datos se puede guardar información adicional que llamaremos metadata. Por ejemplo, si estamos trabajando con un conjunto de noticias, podemos guardar el título, la fecha, el autor, etc. de la noticia."
      ]
    },
    {
      "cell_type": "markdown",
      "metadata": {},
      "source": [
        "## Chroma"
      ]
    },
    {
      "cell_type": "markdown",
      "metadata": {},
      "source": [
        "En este post vamos a ver [chroma](https://www.trychroma.com/), ya que es la base de [datos vectorial más usada](https://blog.langchain.dev/langchain-state-of-ai-2023/#most-used-vectorstores), como se puede ver en este reporte del [langchain state of ai 2023](https://blog.langchain.dev/langchain-state-of-ai-2023).\n",
        "\n",
        "![Most Used Vectorstores](https://blog.langchain.dev/content/images/size/w1000/2023/12/Top-vectorstores--1-.png)"
      ]
    },
    {
      "cell_type": "markdown",
      "metadata": {},
      "source": [
        "## Instalación"
      ]
    },
    {
      "cell_type": "markdown",
      "metadata": {},
      "source": [
        "De modo que para instalar Chroma con Conda hay que hacer\n",
        "\n",
        "```bash\n",
        "conda install conda-forge::chromadb\n",
        "```\n",
        "\n",
        "O si se quiere instalar con Pip\n",
        "\n",
        "```bash\n",
        "pip install chromadb\n",
        "```"
      ]
    },
    {
      "cell_type": "markdown",
      "metadata": {},
      "source": [
        "## Uso rápido"
      ]
    },
    {
      "cell_type": "markdown",
      "metadata": {},
      "source": [
        "Para una aplicación rápida, primero importamos Chroma"
      ]
    },
    {
      "cell_type": "code",
      "execution_count": 1,
      "metadata": {},
      "outputs": [],
      "source": [
        "import chromadb"
      ]
    },
    {
      "cell_type": "markdown",
      "metadata": {},
      "source": [
        "A continuación, creamos un cliente de chroma"
      ]
    },
    {
      "cell_type": "code",
      "execution_count": 2,
      "metadata": {},
      "outputs": [],
      "source": [
        "chroma_client = chromadb.Client()"
      ]
    },
    {
      "cell_type": "markdown",
      "metadata": {},
      "source": [
        "Creamos una colección. Una colección es el lugar donde se guardarán los embeddings y la metadata."
      ]
    },
    {
      "cell_type": "code",
      "execution_count": 3,
      "metadata": {},
      "outputs": [],
      "source": [
        "collection = chroma_client.create_collection(name=\"my_collection\")"
      ]
    },
    {
      "cell_type": "markdown",
      "metadata": {},
      "source": [
        "Como vemos sale un mensaje indicando que no se ha introducido una función de embeddings y por lo tanto usará por defecto `all-MiniLM-L6-v2`, que es similar al modelo `paraphrase-MiniLM-L6-v2` que usamos en el post de [embeddings](https://maximofn.com/embeddings/).\n",
        "\n",
        "Más adelante veremos esto, pero podemos elegir cómo vamos a generar los embeddings."
      ]
    },
    {
      "cell_type": "markdown",
      "metadata": {},
      "source": [
        "Ahora añadimos documentos, IDs y metadatos a la colección"
      ]
    },
    {
      "cell_type": "code",
      "execution_count": 4,
      "metadata": {},
      "outputs": [],
      "source": [
        "collection.add(\n",
        "    documents=[\"This is a python docs\", \"This is JavaScript docs\"],\n",
        "    metadatas=[{\"source\": \"Python source\"}, {\"source\": \"JavaScript source\"}],\n",
        "    ids=[\"id1\", \"id2\"]\n",
        ")"
      ]
    },
    {
      "cell_type": "markdown",
      "metadata": {},
      "source": [
        "Ahora podemos hacer una consulta"
      ]
    },
    {
      "cell_type": "code",
      "execution_count": 5,
      "metadata": {},
      "outputs": [],
      "source": [
        "results = collection.query(\n",
        "    query_texts=[\"This is a query of Python\"],\n",
        "    n_results=2\n",
        ")"
      ]
    },
    {
      "cell_type": "code",
      "execution_count": 6,
      "metadata": {},
      "outputs": [
        {
          "data": {
            "text/plain": [
              "{'ids': [['id1', 'id2']],\n",
              " 'distances': [[0.6205940246582031, 1.4631636142730713]],\n",
              " 'metadatas': [[{'source': 'Python source'}, {'source': 'JavaScript source'}]],\n",
              " 'embeddings': None,\n",
              " 'documents': [['This is a python docs', 'This is JavaScript docs']],\n",
              " 'uris': None,\n",
              " 'data': None}"
            ]
          },
          "execution_count": 6,
          "metadata": {},
          "output_type": "execute_result"
        }
      ],
      "source": [
        "results"
      ]
    },
    {
      "cell_type": "markdown",
      "metadata": {},
      "source": [
        "Como vemos, la distancia al id1 es menor a la distancia al id2, por lo que parece que el documento 1 es más apropiado para responder la consulta"
      ]
    },
    {
      "cell_type": "markdown",
      "metadata": {},
      "source": [
        "## Bases de datos persistentes"
      ]
    },
    {
      "cell_type": "markdown",
      "metadata": {},
      "source": [
        "La base de datos que hemos creado antes es temporal, en cuanto cerremos el notebook desaparecerá. Por lo que para crear una base de datos persistente hay que pasarle a chroma el path donde guardarla"
      ]
    },
    {
      "cell_type": "markdown",
      "metadata": {},
      "source": [
        "Primero vamos a crear la carpeta donde guardar la base de datos"
      ]
    },
    {
      "cell_type": "code",
      "execution_count": 7,
      "metadata": {},
      "outputs": [],
      "source": [
        "from pathlib import Path\n",
        "\n",
        "chroma_path = Path(\"chromadb\")\n",
        "chroma_path.mkdir(exist_ok=True)"
      ]
    },
    {
      "cell_type": "markdown",
      "metadata": {},
      "source": [
        "Ahora creamos un cliente en la carpeta que hemos creado"
      ]
    },
    {
      "cell_type": "code",
      "execution_count": 8,
      "metadata": {},
      "outputs": [],
      "source": [
        "chroma_client_persistent = chromadb.PersistentClient(path = str(chroma_path))"
      ]
    },
    {
      "cell_type": "markdown",
      "metadata": {},
      "source": [
        "## Colecciones"
      ]
    },
    {
      "cell_type": "markdown",
      "metadata": {},
      "source": [
        "### Crear colecciones"
      ]
    },
    {
      "cell_type": "markdown",
      "metadata": {},
      "source": [
        "A la hora de crear una colección hay que especificar un nombre. El nombre tiene que tener las siguientes consideraciones:\n",
        "\n",
        " * La longitud del nombre debe tener entre 3 y 63 caracteres.\n",
        " * El nombre debe comenzar y terminar con una letra minúscula o un dígito y puede contener puntos, guiones y guiones bajos en el medio.\n",
        " * El nombre no debe contener dos puntos consecutivos.\n",
        " * El nombre no debe ser una dirección IP válida.\n",
        "\n",
        "También podemos darle una función de embedding. En caso de no darle una usará por defecto la función `all-MiniLM-L6-v2`"
      ]
    },
    {
      "cell_type": "code",
      "execution_count": 9,
      "metadata": {},
      "outputs": [],
      "source": [
        "collection = chroma_client.create_collection(name=\"my_other_collection\")"
      ]
    },
    {
      "cell_type": "markdown",
      "metadata": {},
      "source": [
        "Como se puede ver, se ha creado una segunda colección para el mismo cliente `chroma_client`, por lo que para un único cliente podemos tener varias colecciones."
      ]
    },
    {
      "cell_type": "markdown",
      "metadata": {},
      "source": [
        "### Recuperar colecciones"
      ]
    },
    {
      "cell_type": "markdown",
      "metadata": {},
      "source": [
        "Si queremos recuperar una colección de un cliente, lo podemos hacer con el método `get_collection`"
      ]
    },
    {
      "cell_type": "code",
      "execution_count": 10,
      "metadata": {},
      "outputs": [],
      "source": [
        "collection = chroma_client.get_collection(name = \"my_collection\")"
      ]
    },
    {
      "cell_type": "markdown",
      "metadata": {},
      "source": [
        "### Recuperar o crear colecciones"
      ]
    },
    {
      "cell_type": "markdown",
      "metadata": {},
      "source": [
        "Podemos obtener colecciones, y en caso de que no existan, las cree con el método `get_or_create_collection`"
      ]
    },
    {
      "cell_type": "code",
      "execution_count": 11,
      "metadata": {},
      "outputs": [],
      "source": [
        "collection = chroma_client.get_or_create_collection(name = \"my_tird_collection\")"
      ]
    },
    {
      "cell_type": "markdown",
      "metadata": {},
      "source": [
        "### Borrar colecciones"
      ]
    },
    {
      "cell_type": "markdown",
      "metadata": {},
      "source": [
        "Podemos borrar una colección con el método `delete_collection`"
      ]
    },
    {
      "cell_type": "code",
      "execution_count": 12,
      "metadata": {},
      "outputs": [],
      "source": [
        "chroma_client.delete_collection(name=\"my_tird_collection\")"
      ]
    },
    {
      "cell_type": "markdown",
      "metadata": {},
      "source": [
        "### Obtener items de las colecciones"
      ]
    },
    {
      "cell_type": "markdown",
      "metadata": {},
      "source": [
        "Podemos obtener los 10 primeros ítems de la colección con el método `peek`"
      ]
    },
    {
      "cell_type": "code",
      "execution_count": 13,
      "metadata": {},
      "outputs": [
        {
          "data": {
            "text/plain": [
              "{'ids': ['id1', 'id2'],\n",
              " 'embeddings': [[-0.06924048811197281,\n",
              "   0.061624377965927124,\n",
              "   -0.090973399579525,\n",
              "   0.013923337683081627,\n",
              "   0.006247623357921839,\n",
              "   -0.1078396588563919,\n",
              "   -0.012472339905798435,\n",
              "   0.03485661745071411,\n",
              "   -0.06300634145736694,\n",
              "   -0.00880391988903284,\n",
              "   0.06879935413599014,\n",
              "   0.0564003586769104,\n",
              "   0.07040536403656006,\n",
              "   -0.020754728466272354,\n",
              "   -0.04048658534884453,\n",
              "   -0.006666888482868671,\n",
              "   -0.0953674241900444,\n",
              "   0.049781784415245056,\n",
              "   0.021780474111437798,\n",
              "   -0.06344643980264664,\n",
              "   0.06119797006249428,\n",
              "   0.0834411084651947,\n",
              "   -0.034758951514959335,\n",
              "   0.0029120452236384153,\n",
              "   ...\n",
              "   -0.013378280214965343]],\n",
              " 'metadatas': [{'source': 'Python source'}, {'source': 'JavaScript source'}],\n",
              " 'documents': ['This is a python docs', 'This is JavaScript docs'],\n",
              " 'uris': None,\n",
              " 'data': None}"
            ]
          },
          "execution_count": 13,
          "metadata": {},
          "output_type": "execute_result"
        }
      ],
      "source": [
        "collection = chroma_client.get_collection(name = \"my_collection\")\n",
        "collection.peek()"
      ]
    },
    {
      "cell_type": "markdown",
      "metadata": {},
      "source": [
        "En este caso solo se han obtenido dos, porque nuestra colección solo tiene dos documentos"
      ]
    },
    {
      "cell_type": "markdown",
      "metadata": {},
      "source": [
        "Si se quiere obtener otra cantidad de items se puede especificar con el argumento `limit`"
      ]
    },
    {
      "cell_type": "code",
      "execution_count": 14,
      "metadata": {},
      "outputs": [
        {
          "data": {
            "text/plain": [
              "{'ids': ['id1'],\n",
              " 'embeddings': [[-0.06924048811197281,\n",
              "   0.061624377965927124,\n",
              "   -0.090973399579525,\n",
              "   0.013923337683081627,\n",
              "   0.006247623357921839,\n",
              "   -0.1078396588563919,\n",
              "   -0.012472339905798435,\n",
              "   0.03485661745071411,\n",
              "   -0.06300634145736694,\n",
              "   -0.00880391988903284,\n",
              "   0.06879935413599014,\n",
              "   0.0564003586769104,\n",
              "   0.07040536403656006,\n",
              "   -0.020754728466272354,\n",
              "   -0.04048658534884453,\n",
              "   -0.006666888482868671,\n",
              "   -0.0953674241900444,\n",
              "   0.049781784415245056,\n",
              "   0.021780474111437798,\n",
              "   -0.06344643980264664,\n",
              "   0.06119797006249428,\n",
              "   0.0834411084651947,\n",
              "   -0.034758951514959335,\n",
              "   0.0029120452236384153,\n",
              "   ...\n",
              "   0.012315398082137108]],\n",
              " 'metadatas': [{'source': 'Python source'}],\n",
              " 'documents': ['This is a python docs'],\n",
              " 'uris': None,\n",
              " 'data': None}"
            ]
          },
          "execution_count": 14,
          "metadata": {},
          "output_type": "execute_result"
        }
      ],
      "source": [
        "collection.peek(limit=1)"
      ]
    },
    {
      "cell_type": "markdown",
      "metadata": {},
      "source": [
        "### Obtener el número total de items de las colecciones"
      ]
    },
    {
      "cell_type": "markdown",
      "metadata": {},
      "source": [
        "Podemos obtener el número total de items de la colección con el método `count`"
      ]
    },
    {
      "cell_type": "code",
      "execution_count": 15,
      "metadata": {},
      "outputs": [
        {
          "data": {
            "text/plain": [
              "2"
            ]
          },
          "execution_count": 15,
          "metadata": {},
          "output_type": "execute_result"
        }
      ],
      "source": [
        "collection.count()"
      ]
    },
    {
      "cell_type": "markdown",
      "metadata": {},
      "source": [
        "### Cambiar la función de similitud"
      ]
    },
    {
      "cell_type": "markdown",
      "metadata": {},
      "source": [
        "Antes, cuando hicimos una consulta obtuvimos la similitud de los embeddings con nuestra consulta, ya que por defecto en una colección se usa la función de distancia, pero podemos especificar qué función de similitud queremos usar. Las posiilidades son\n",
        "\n",
        " * Squared L2 (`l2`)\n",
        " * Inner product (`ip`)\n",
        " * Cosine similarity (`cosine`)\n",
        "\n",
        "En el post [Medida de similitud entre embeddings](https://maximofn.com/embeddings-similarity/) vimos L2 y cosine similarity, por si quieres profundizar en ellas."
      ]
    },
    {
      "cell_type": "markdown",
      "metadata": {},
      "source": [
        "Por lo que podemos crear colecciones con otra función de similitud con el argumento `metadata={\"hnsw:space\": <function>}`"
      ]
    },
    {
      "cell_type": "code",
      "execution_count": 16,
      "metadata": {},
      "outputs": [],
      "source": [
        "collection = chroma_client.create_collection(name=\"colection_cosine\", metadata={\"hnsw:space\": \"cosine\"})"
      ]
    },
    {
      "cell_type": "markdown",
      "metadata": {},
      "source": [
        "### Añadir datos a la colección"
      ]
    },
    {
      "cell_type": "markdown",
      "metadata": {},
      "source": [
        "#### Añadir documentos"
      ]
    },
    {
      "cell_type": "markdown",
      "metadata": {},
      "source": [
        "Vamos a volver a ver los datos que tenemos en la colección con el método `peek`"
      ]
    },
    {
      "cell_type": "code",
      "execution_count": 17,
      "metadata": {},
      "outputs": [
        {
          "data": {
            "text/plain": [
              "{'ids': [],\n",
              " 'embeddings': [],\n",
              " 'metadatas': [],\n",
              " 'documents': [],\n",
              " 'uris': None,\n",
              " 'data': None}"
            ]
          },
          "execution_count": 17,
          "metadata": {},
          "output_type": "execute_result"
        }
      ],
      "source": [
        "collection.peek()"
      ]
    },
    {
      "cell_type": "markdown",
      "metadata": {},
      "source": [
        "Como vemos está vacía, eso es porque la última colección que hemos creado ha sido la de la función de similitud `cosine`, pero no le hemos añadido datos. Veamos cómo es así obteniendo el nombre de la colección"
      ]
    },
    {
      "cell_type": "code",
      "execution_count": 18,
      "metadata": {},
      "outputs": [
        {
          "data": {
            "text/plain": [
              "'colection_cosine'"
            ]
          },
          "execution_count": 18,
          "metadata": {},
          "output_type": "execute_result"
        }
      ],
      "source": [
        "collection.name"
      ]
    },
    {
      "cell_type": "markdown",
      "metadata": {},
      "source": [
        "Por lo que nos volvemos a traer la primera colección que hemos creado, a la que sí le hemos introducido datos"
      ]
    },
    {
      "cell_type": "code",
      "execution_count": 19,
      "metadata": {},
      "outputs": [],
      "source": [
        "collection = chroma_client.get_collection(name = \"my_collection\")"
      ]
    },
    {
      "cell_type": "markdown",
      "metadata": {},
      "source": [
        "Ahora ya podemos añadir datos a la collección con el método `add`"
      ]
    },
    {
      "cell_type": "code",
      "execution_count": 20,
      "metadata": {},
      "outputs": [],
      "source": [
        "collection.add(\n",
        "    documents=[\"This is a Mojo docs\", \"This is Rust docs\"],\n",
        "    metadatas=[{\"source\": \"Mojo source\"}, {\"source\": \"Rust source\"}],\n",
        "    ids=[\"id3\", \"id4\"]\n",
        ")"
      ]
    },
    {
      "cell_type": "markdown",
      "metadata": {},
      "source": [
        "Como se puede ver los `ID`s son consecutivos y no tienen el mismo valor que ya tenían antes, ya que los `ID`s tienen que ser únicos."
      ]
    },
    {
      "cell_type": "markdown",
      "metadata": {},
      "source": [
        "Si intentamos añadir datos repitiendo `ID`s, nos indicará que ya existían datos con esas `ID`s"
      ]
    },
    {
      "cell_type": "code",
      "execution_count": 21,
      "metadata": {},
      "outputs": [
        {
          "name": "stderr",
          "output_type": "stream",
          "text": [
            "Add of existing embedding ID: id3\n",
            "Add of existing embedding ID: id4\n",
            "Insert of existing embedding ID: id3\n",
            "Insert of existing embedding ID: id4\n"
          ]
        }
      ],
      "source": [
        "collection.add(\n",
        "    documents=[\"This is a Pytorch docs\", \"This is TensorRT docs\"],\n",
        "    metadatas=[{\"source\": \"Pytorch source\"}, {\"source\": \"TensorRT source\"}],\n",
        "    ids=[\"id3\", \"id4\"]\n",
        ")"
      ]
    },
    {
      "cell_type": "markdown",
      "metadata": {},
      "source": [
        "No hemos podido añadir los documentos de Pytorch y TensorRT"
      ]
    },
    {
      "cell_type": "markdown",
      "metadata": {},
      "source": [
        "Veamos los datos de la colección"
      ]
    },
    {
      "cell_type": "code",
      "execution_count": 22,
      "metadata": {},
      "outputs": [
        {
          "data": {
            "text/plain": [
              "{'ids': ['id1', 'id2', 'id3', 'id4'],\n",
              " 'embeddings': [[-0.06924048811197281,\n",
              "   0.061624377965927124,\n",
              "   -0.090973399579525,\n",
              "   0.013923337683081627,\n",
              "   0.006247623357921839,\n",
              "   -0.1078396588563919,\n",
              "   -0.012472339905798435,\n",
              "   0.03485661745071411,\n",
              "   -0.06300634145736694,\n",
              "   -0.00880391988903284,\n",
              "   0.06879935413599014,\n",
              "   0.0564003586769104,\n",
              "   0.07040536403656006,\n",
              "   -0.020754728466272354,\n",
              "   -0.04048658534884453,\n",
              "   -0.006666888482868671,\n",
              "   -0.0953674241900444,\n",
              "   0.049781784415245056,\n",
              "   0.021780474111437798,\n",
              "   -0.06344643980264664,\n",
              "   0.06119797006249428,\n",
              "   0.0834411084651947,\n",
              "   -0.034758951514959335,\n",
              "   0.0029120452236384153,\n",
              "   ...\n",
              "  {'source': 'JavaScript source'},\n",
              "  {'source': 'Mojo source'},\n",
              "  {'source': 'Rust source'}],\n",
              " 'documents': ['This is a python docs',\n",
              "  'This is JavaScript docs',\n",
              "  'This is a Mojo docs',\n",
              "  'This is Rust docs'],\n",
              " 'uris': None,\n",
              " 'data': None}"
            ]
          },
          "execution_count": 22,
          "metadata": {},
          "output_type": "execute_result"
        }
      ],
      "source": [
        "collection.peek()"
      ]
    },
    {
      "cell_type": "markdown",
      "metadata": {},
      "source": [
        "Como vemos, se han mantenido los contenidos originales de `ID3` e `ID4`"
      ]
    },
    {
      "cell_type": "markdown",
      "metadata": {},
      "source": [
        "#### Añadir embeddings"
      ]
    },
    {
      "cell_type": "markdown",
      "metadata": {},
      "source": [
        "Podemos añadir embeddings directamente sin añadir documentos. Aunque esto no tiene mucho sentido, ya que si solo añadimos los embeddings, cuando queramos hacer una consulta no habrá documentos que recuperar."
      ]
    },
    {
      "cell_type": "markdown",
      "metadata": {},
      "source": [
        "Obtenemos unos embeddings para poder crear otros con las mismas dimensiones"
      ]
    },
    {
      "cell_type": "code",
      "execution_count": 23,
      "metadata": {},
      "outputs": [
        {
          "data": {
            "text/plain": [
              "(1, 384)"
            ]
          },
          "execution_count": 23,
          "metadata": {},
          "output_type": "execute_result"
        }
      ],
      "source": [
        "embedding1 = collection.peek(1)['embeddings']\n",
        "len(embedding1), len(embedding1[0])"
      ]
    },
    {
      "cell_type": "markdown",
      "metadata": {},
      "source": [
        "Creamos unos embeddings nuevos con todos unos para saber cuáles son los que hemos creado"
      ]
    },
    {
      "cell_type": "code",
      "execution_count": 24,
      "metadata": {},
      "outputs": [
        {
          "data": {
            "text/plain": [
              "(1, 384)"
            ]
          },
          "execution_count": 24,
          "metadata": {},
          "output_type": "execute_result"
        }
      ],
      "source": [
        "new_embedding = [1] * len(embedding1[0])\n",
        "new_embedding = [new_embedding]\n",
        "len(new_embedding), len(new_embedding[0])"
      ]
    },
    {
      "cell_type": "markdown",
      "metadata": {},
      "source": [
        "Ahora añadimos los nuevos embeddings"
      ]
    },
    {
      "cell_type": "code",
      "execution_count": 25,
      "metadata": {},
      "outputs": [],
      "source": [
        "collection.add(\n",
        "    embeddings=new_embedding,\n",
        "    metadatas=[{\"source\": \"Only embeddings\"}],\n",
        "    ids=[\"id5\"]\n",
        ")"
      ]
    },
    {
      "cell_type": "markdown",
      "metadata": {},
      "source": [
        "Vamos a ver los datos de la colección"
      ]
    },
    {
      "cell_type": "code",
      "execution_count": 26,
      "metadata": {},
      "outputs": [
        {
          "data": {
            "text/plain": [
              "[1.0,\n",
              " 1.0,\n",
              " 1.0,\n",
              " 1.0,\n",
              " 1.0,\n",
              " 1.0,\n",
              " 1.0,\n",
              " 1.0,\n",
              " 1.0,\n",
              " 1.0,\n",
              " 1.0,\n",
              " 1.0,\n",
              " 1.0,\n",
              " 1.0,\n",
              " 1.0,\n",
              " 1.0,\n",
              " 1.0,\n",
              " 1.0,\n",
              " 1.0,\n",
              " 1.0,\n",
              " 1.0,\n",
              " 1.0,\n",
              " 1.0,\n",
              " 1.0,\n",
              " 1.0,\n",
              " 1.0,\n",
              " ...,\n",
              " 1.0,\n",
              " 1.0,\n",
              " 1.0,\n",
              " 1.0,\n",
              " 1.0]"
            ]
          },
          "execution_count": 26,
          "metadata": {},
          "output_type": "execute_result"
        }
      ],
      "source": [
        "collection.peek()['embeddings'][-1]"
      ]
    },
    {
      "cell_type": "markdown",
      "metadata": {},
      "source": [
        "El último elemento de la condición tiene los embeddings que hemos añadido"
      ]
    },
    {
      "cell_type": "markdown",
      "metadata": {},
      "source": [
        " > **Nota**: Si intentamos añadir embeddings con un tamaño diferente a los que ya hay en la colección, nos dará un error"
      ]
    },
    {
      "cell_type": "code",
      "execution_count": 27,
      "metadata": {},
      "outputs": [
        {
          "data": {
            "text/plain": [
              "(1, 383)"
            ]
          },
          "execution_count": 27,
          "metadata": {},
          "output_type": "execute_result"
        }
      ],
      "source": [
        "new_embedding_differetn_size = [1] * (len(embedding1[0])-1)\n",
        "new_embedding_differetn_size = [new_embedding_differetn_size]\n",
        "len(new_embedding_differetn_size), len(new_embedding_differetn_size[0])"
      ]
    },
    {
      "cell_type": "markdown",
      "metadata": {},
      "source": [
        "Como se puede ver la dimensión del embedding es 383, en vez de 384"
      ]
    },
    {
      "cell_type": "code",
      "execution_count": 28,
      "metadata": {},
      "outputs": [
        {
          "ename": "InvalidDimensionException",
          "evalue": "Embedding dimension 383 does not match collection dimensionality 384",
          "output_type": "error",
          "traceback": [
            "\u001b[0;31m---------------------------------------------------------------------------\u001b[0m",
            "\u001b[0;31mInvalidDimensionException\u001b[0m                 Traceback (most recent call last)",
            "Cell \u001b[0;32mIn[28], line 1\u001b[0m\n\u001b[0;32m----> 1\u001b[0m collection\u001b[38;5;241m.\u001b[39madd(\n\u001b[1;32m      2\u001b[0m     embeddings\u001b[38;5;241m=\u001b[39mnew_embedding_differetn_size,\n\u001b[1;32m      3\u001b[0m     metadatas\u001b[38;5;241m=\u001b[39m[{\u001b[38;5;124m\"\u001b[39m\u001b[38;5;124msource\u001b[39m\u001b[38;5;124m\"\u001b[39m: \u001b[38;5;124m\"\u001b[39m\u001b[38;5;124mNew embeddings different size\u001b[39m\u001b[38;5;124m\"\u001b[39m}],\n\u001b[1;32m      4\u001b[0m     ids\u001b[38;5;241m=\u001b[39m[\u001b[38;5;124m\"\u001b[39m\u001b[38;5;124mid6\u001b[39m\u001b[38;5;124m\"\u001b[39m]\n\u001b[1;32m      5\u001b[0m )\n",
            "File \u001b[0;32m~/miniforge3/envs/crhomadb/lib/python3.11/site-packages/chromadb/api/models/Collection.py:168\u001b[0m, in \u001b[0;36mCollection.add\u001b[0;34m(self, ids, embeddings, metadatas, documents, images, uris)\u001b[0m\n\u001b[1;32m    163\u001b[0m             \u001b[38;5;28;01mraise\u001b[39;00m \u001b[38;5;167;01mValueError\u001b[39;00m(\n\u001b[1;32m    164\u001b[0m                 \u001b[38;5;124m\"\u001b[39m\u001b[38;5;124mYou must set a data loader on the collection if loading from URIs.\u001b[39m\u001b[38;5;124m\"\u001b[39m\n\u001b[1;32m    165\u001b[0m             )\n\u001b[1;32m    166\u001b[0m         embeddings \u001b[38;5;241m=\u001b[39m \u001b[38;5;28mself\u001b[39m\u001b[38;5;241m.\u001b[39m_embed(\u001b[38;5;28mself\u001b[39m\u001b[38;5;241m.\u001b[39m_data_loader(uris))\n\u001b[0;32m--> 168\u001b[0m \u001b[38;5;28mself\u001b[39m\u001b[38;5;241m.\u001b[39m_client\u001b[38;5;241m.\u001b[39m_add(ids, \u001b[38;5;28mself\u001b[39m\u001b[38;5;241m.\u001b[39mid, embeddings, metadatas, documents, uris)\n",
            "File \u001b[0;32m~/miniforge3/envs/crhomadb/lib/python3.11/site-packages/chromadb/telemetry/opentelemetry/__init__.py:127\u001b[0m, in \u001b[0;36mtrace_method.<locals>.decorator.<locals>.wrapper\u001b[0;34m(*args, **kwargs)\u001b[0m\n\u001b[1;32m    125\u001b[0m \u001b[38;5;28;01mglobal\u001b[39;00m tracer, granularity\n\u001b[1;32m    126\u001b[0m \u001b[38;5;28;01mif\u001b[39;00m trace_granularity \u001b[38;5;241m<\u001b[39m granularity:\n\u001b[0;32m--> 127\u001b[0m     \u001b[38;5;28;01mreturn\u001b[39;00m f(\u001b[38;5;241m*\u001b[39margs, \u001b[38;5;241m*\u001b[39m\u001b[38;5;241m*\u001b[39mkwargs)\n\u001b[1;32m    128\u001b[0m \u001b[38;5;28;01mif\u001b[39;00m \u001b[38;5;129;01mnot\u001b[39;00m tracer:\n\u001b[1;32m    129\u001b[0m     \u001b[38;5;28;01mreturn\u001b[39;00m f(\u001b[38;5;241m*\u001b[39margs, \u001b[38;5;241m*\u001b[39m\u001b[38;5;241m*\u001b[39mkwargs)\n",
            "File \u001b[0;32m~/miniforge3/envs/crhomadb/lib/python3.11/site-packages/chromadb/api/segment.py:375\u001b[0m, in \u001b[0;36mSegmentAPI._add\u001b[0;34m(self, ids, collection_id, embeddings, metadatas, documents, uris)\u001b[0m\n\u001b[1;32m    365\u001b[0m records_to_submit \u001b[38;5;241m=\u001b[39m []\n\u001b[1;32m    366\u001b[0m \u001b[38;5;28;01mfor\u001b[39;00m r \u001b[38;5;129;01min\u001b[39;00m _records(\n\u001b[1;32m    367\u001b[0m     t\u001b[38;5;241m.\u001b[39mOperation\u001b[38;5;241m.\u001b[39mADD,\n\u001b[1;32m    368\u001b[0m     ids\u001b[38;5;241m=\u001b[39mids,\n\u001b[0;32m   (...)\u001b[0m\n\u001b[1;32m    373\u001b[0m     uris\u001b[38;5;241m=\u001b[39muris,\n\u001b[1;32m    374\u001b[0m ):\n\u001b[0;32m--> 375\u001b[0m     \u001b[38;5;28mself\u001b[39m\u001b[38;5;241m.\u001b[39m_validate_embedding_record(coll, r)\n\u001b[1;32m    376\u001b[0m     records_to_submit\u001b[38;5;241m.\u001b[39mappend(r)\n\u001b[1;32m    377\u001b[0m \u001b[38;5;28mself\u001b[39m\u001b[38;5;241m.\u001b[39m_producer\u001b[38;5;241m.\u001b[39msubmit_embeddings(coll[\u001b[38;5;124m\"\u001b[39m\u001b[38;5;124mtopic\u001b[39m\u001b[38;5;124m\"\u001b[39m], records_to_submit)\n",
            "File \u001b[0;32m~/miniforge3/envs/crhomadb/lib/python3.11/site-packages/chromadb/telemetry/opentelemetry/__init__.py:127\u001b[0m, in \u001b[0;36mtrace_method.<locals>.decorator.<locals>.wrapper\u001b[0;34m(*args, **kwargs)\u001b[0m\n\u001b[1;32m    125\u001b[0m \u001b[38;5;28;01mglobal\u001b[39;00m tracer, granularity\n\u001b[1;32m    126\u001b[0m \u001b[38;5;28;01mif\u001b[39;00m trace_granularity \u001b[38;5;241m<\u001b[39m granularity:\n\u001b[0;32m--> 127\u001b[0m     \u001b[38;5;28;01mreturn\u001b[39;00m f(\u001b[38;5;241m*\u001b[39margs, \u001b[38;5;241m*\u001b[39m\u001b[38;5;241m*\u001b[39mkwargs)\n\u001b[1;32m    128\u001b[0m \u001b[38;5;28;01mif\u001b[39;00m \u001b[38;5;129;01mnot\u001b[39;00m tracer:\n\u001b[1;32m    129\u001b[0m     \u001b[38;5;28;01mreturn\u001b[39;00m f(\u001b[38;5;241m*\u001b[39margs, \u001b[38;5;241m*\u001b[39m\u001b[38;5;241m*\u001b[39mkwargs)\n",
            "File \u001b[0;32m~/miniforge3/envs/crhomadb/lib/python3.11/site-packages/chromadb/api/segment.py:799\u001b[0m, in \u001b[0;36mSegmentAPI._validate_embedding_record\u001b[0;34m(self, collection, record)\u001b[0m\n\u001b[1;32m    797\u001b[0m add_attributes_to_current_span({\u001b[38;5;124m\"\u001b[39m\u001b[38;5;124mcollection_id\u001b[39m\u001b[38;5;124m\"\u001b[39m: \u001b[38;5;28mstr\u001b[39m(collection[\u001b[38;5;124m\"\u001b[39m\u001b[38;5;124mid\u001b[39m\u001b[38;5;124m\"\u001b[39m])})\n\u001b[1;32m    798\u001b[0m \u001b[38;5;28;01mif\u001b[39;00m record[\u001b[38;5;124m\"\u001b[39m\u001b[38;5;124membedding\u001b[39m\u001b[38;5;124m\"\u001b[39m]:\n\u001b[0;32m--> 799\u001b[0m     \u001b[38;5;28mself\u001b[39m\u001b[38;5;241m.\u001b[39m_validate_dimension(collection, \u001b[38;5;28mlen\u001b[39m(record[\u001b[38;5;124m\"\u001b[39m\u001b[38;5;124membedding\u001b[39m\u001b[38;5;124m\"\u001b[39m]), update\u001b[38;5;241m=\u001b[39m\u001b[38;5;28;01mTrue\u001b[39;00m)\n",
            "File \u001b[0;32m~/miniforge3/envs/crhomadb/lib/python3.11/site-packages/chromadb/telemetry/opentelemetry/__init__.py:127\u001b[0m, in \u001b[0;36mtrace_method.<locals>.decorator.<locals>.wrapper\u001b[0;34m(*args, **kwargs)\u001b[0m\n\u001b[1;32m    125\u001b[0m \u001b[38;5;28;01mglobal\u001b[39;00m tracer, granularity\n\u001b[1;32m    126\u001b[0m \u001b[38;5;28;01mif\u001b[39;00m trace_granularity \u001b[38;5;241m<\u001b[39m granularity:\n\u001b[0;32m--> 127\u001b[0m     \u001b[38;5;28;01mreturn\u001b[39;00m f(\u001b[38;5;241m*\u001b[39margs, \u001b[38;5;241m*\u001b[39m\u001b[38;5;241m*\u001b[39mkwargs)\n\u001b[1;32m    128\u001b[0m \u001b[38;5;28;01mif\u001b[39;00m \u001b[38;5;129;01mnot\u001b[39;00m tracer:\n\u001b[1;32m    129\u001b[0m     \u001b[38;5;28;01mreturn\u001b[39;00m f(\u001b[38;5;241m*\u001b[39margs, \u001b[38;5;241m*\u001b[39m\u001b[38;5;241m*\u001b[39mkwargs)\n",
            "File \u001b[0;32m~/miniforge3/envs/crhomadb/lib/python3.11/site-packages/chromadb/api/segment.py:814\u001b[0m, in \u001b[0;36mSegmentAPI._validate_dimension\u001b[0;34m(self, collection, dim, update)\u001b[0m\n\u001b[1;32m    812\u001b[0m         \u001b[38;5;28mself\u001b[39m\u001b[38;5;241m.\u001b[39m_collection_cache[\u001b[38;5;28mid\u001b[39m][\u001b[38;5;124m\"\u001b[39m\u001b[38;5;124mdimension\u001b[39m\u001b[38;5;124m\"\u001b[39m] \u001b[38;5;241m=\u001b[39m dim\n\u001b[1;32m    813\u001b[0m \u001b[38;5;28;01melif\u001b[39;00m collection[\u001b[38;5;124m\"\u001b[39m\u001b[38;5;124mdimension\u001b[39m\u001b[38;5;124m\"\u001b[39m] \u001b[38;5;241m!=\u001b[39m dim:\n\u001b[0;32m--> 814\u001b[0m     \u001b[38;5;28;01mraise\u001b[39;00m InvalidDimensionException(\n\u001b[1;32m    815\u001b[0m         \u001b[38;5;124mf\u001b[39m\u001b[38;5;124m\"\u001b[39m\u001b[38;5;124mEmbedding dimension \u001b[39m\u001b[38;5;132;01m{\u001b[39;00mdim\u001b[38;5;132;01m}\u001b[39;00m\u001b[38;5;124m does not match collection dimensionality \u001b[39m\u001b[38;5;132;01m{\u001b[39;00mcollection[\u001b[38;5;124m'\u001b[39m\u001b[38;5;124mdimension\u001b[39m\u001b[38;5;124m'\u001b[39m]\u001b[38;5;132;01m}\u001b[39;00m\u001b[38;5;124m\"\u001b[39m\n\u001b[1;32m    816\u001b[0m     )\n\u001b[1;32m    817\u001b[0m \u001b[38;5;28;01melse\u001b[39;00m:\n\u001b[1;32m    818\u001b[0m     \u001b[38;5;28;01mreturn\u001b[39;00m\n",
            "\u001b[0;31mInvalidDimensionException\u001b[0m: Embedding dimension 383 does not match collection dimensionality 384"
          ]
        }
      ],
      "source": [
        "collection.add(\n",
        "    embeddings=new_embedding_differetn_size,\n",
        "    metadatas=[{\"source\": \"New embeddings different size\"}],\n",
        "    ids=[\"id6\"]\n",
        ")"
      ]
    },
    {
      "cell_type": "markdown",
      "metadata": {},
      "source": [
        "#### Añadir documentos y embeddings"
      ]
    },
    {
      "cell_type": "markdown",
      "metadata": {},
      "source": [
        "Chroma nos permite también añadir documentos y embeddings a la vez. De modo que si se hace esto, no creará los embedding del documento"
      ]
    },
    {
      "cell_type": "code",
      "execution_count": 100,
      "metadata": {},
      "outputs": [],
      "source": [
        "collection.add(\n",
        "    documents=[\"This is a Pytorch docs\"],\n",
        "    embeddings=new_embedding,\n",
        "    metadatas=[{\"source\": \"Pytorch source\"}],\n",
        "    ids=[\"id6\"]\n",
        ")"
      ]
    },
    {
      "cell_type": "markdown",
      "metadata": {},
      "source": [
        "Si miramos los embeddings del último elemento de la colección, veremos que son los que hemos añadido"
      ]
    },
    {
      "cell_type": "code",
      "execution_count": 100,
      "metadata": {},
      "outputs": [
        {
          "data": {
            "text/plain": [
              "[1.0,\n",
              " 1.0,\n",
              " 1.0,\n",
              " 1.0,\n",
              " 1.0,\n",
              " 1.0,\n",
              " 1.0,\n",
              " 1.0,\n",
              " 1.0,\n",
              " 1.0,\n",
              " 1.0,\n",
              " 1.0,\n",
              " 1.0,\n",
              " 1.0,\n",
              " 1.0,\n",
              " 1.0,\n",
              " 1.0,\n",
              " 1.0,\n",
              " 1.0,\n",
              " 1.0,\n",
              " 1.0,\n",
              " 1.0,\n",
              " 1.0,\n",
              " 1.0,\n",
              " 1.0,\n",
              " 1.0,\n",
              " 1.0,\n",
              " ...,\n",
              " 1.0,\n",
              " 1.0,\n",
              " 1.0,\n",
              " 1.0,\n",
              " 1.0]"
            ]
          },
          "execution_count": 45,
          "metadata": {},
          "output_type": "execute_result"
        }
      ],
      "source": [
        "collection.peek()['embeddings'][-1]"
      ]
    },
    {
      "cell_type": "markdown",
      "metadata": {},
      "source": [
        "### Consultas"
      ]
    },
    {
      "cell_type": "markdown",
      "metadata": {},
      "source": [
        "#### Consultas por documentos"
      ]
    },
    {
      "cell_type": "markdown",
      "metadata": {},
      "source": [
        "Para hacer una consulta usamos el método `query`. Con el parámetro `n_results` podemos especificar cuántos resultados queremos obtener"
      ]
    },
    {
      "cell_type": "code",
      "execution_count": 100,
      "metadata": {},
      "outputs": [
        {
          "data": {
            "text/plain": [
              "{'ids': [['id1']],\n",
              " 'distances': [[0.5389559268951416]],\n",
              " 'metadatas': [[{'source': 'Python source'}]],\n",
              " 'embeddings': None,\n",
              " 'documents': [['This is a python docs']],\n",
              " 'uris': None,\n",
              " 'data': None}"
            ]
          },
          "execution_count": 47,
          "metadata": {},
          "output_type": "execute_result"
        }
      ],
      "source": [
        "collection.query(\n",
        "    query_texts=[\"python\"],\n",
        "    n_results=1,\n",
        ")"
      ]
    },
    {
      "cell_type": "markdown",
      "metadata": {},
      "source": [
        "Si en vez de `n_results = 1` ponemos un valor mayor, nos devolverá más resultados"
      ]
    },
    {
      "cell_type": "code",
      "execution_count": 100,
      "metadata": {},
      "outputs": [
        {
          "name": "stderr",
          "output_type": "stream",
          "text": [
            "Number of requested results 10 is greater than number of elements in index 6, updating n_results = 6\n"
          ]
        },
        {
          "data": {
            "text/plain": [
              "{'ids': [['id1', 'id2', 'id4', 'id3', 'id5', 'id6']],\n",
              " 'distances': [[0.5389559268951416,\n",
              "   1.5743632316589355,\n",
              "   1.578398585319519,\n",
              "   1.59961998462677,\n",
              "   384.56890869140625,\n",
              "   384.56890869140625]],\n",
              " 'metadatas': [[{'source': 'Python source'},\n",
              "   {'source': 'JavaScript source'},\n",
              "   {'source': 'Rust source'},\n",
              "   {'source': 'Mojo source'},\n",
              "   {'source': 'Only embeddings'},\n",
              "   {'source': 'Pytorch source'}]],\n",
              " 'embeddings': None,\n",
              " 'documents': [['This is a python docs',\n",
              "   'This is JavaScript docs',\n",
              "   'This is Rust docs',\n",
              "   'This is a Mojo docs',\n",
              "   None,\n",
              "   'This is a Pytorch docs']],\n",
              " 'uris': None,\n",
              " 'data': None}"
            ]
          },
          "execution_count": 48,
          "metadata": {},
          "output_type": "execute_result"
        }
      ],
      "source": [
        "collection.query(\n",
        "    query_texts=[\"python\"],\n",
        "    n_results=10,\n",
        ")"
      ]
    },
    {
      "cell_type": "markdown",
      "metadata": {},
      "source": [
        "Podemos filtrar por un valor de metadato con el argumento `where`"
      ]
    },
    {
      "cell_type": "code",
      "execution_count": 100,
      "metadata": {},
      "outputs": [
        {
          "name": "stderr",
          "output_type": "stream",
          "text": [
            "Number of requested results 10 is greater than number of elements in index 6, updating n_results = 6\n"
          ]
        },
        {
          "data": {
            "text/plain": [
              "{'ids': [['id1']],\n",
              " 'distances': [[0.5389559268951416]],\n",
              " 'metadatas': [[{'source': 'Python source'}]],\n",
              " 'embeddings': None,\n",
              " 'documents': [['This is a python docs']],\n",
              " 'uris': None,\n",
              " 'data': None}"
            ]
          },
          "execution_count": 49,
          "metadata": {},
          "output_type": "execute_result"
        }
      ],
      "source": [
        "collection.query(\n",
        "    query_texts=[\"python\"],\n",
        "    n_results=10,\n",
        "    where={\"source\": \"Python source\"}\n",
        ")"
      ]
    },
    {
      "cell_type": "markdown",
      "metadata": {},
      "source": [
        "Vemos que ya solo nos devuelve un resultado"
      ]
    },
    {
      "cell_type": "markdown",
      "metadata": {},
      "source": [
        "También podemos filtrar por el contenido del documento con el argumento `where_document`"
      ]
    },
    {
      "cell_type": "code",
      "execution_count": 100,
      "metadata": {},
      "outputs": [
        {
          "name": "stderr",
          "output_type": "stream",
          "text": [
            "Number of requested results 10 is greater than number of elements in index 6, updating n_results = 6\n"
          ]
        },
        {
          "data": {
            "text/plain": [
              "{'ids': [['id1']],\n",
              " 'distances': [[0.5389559268951416]],\n",
              " 'metadatas': [[{'source': 'Python source'}]],\n",
              " 'embeddings': None,\n",
              " 'documents': [['This is a python docs']],\n",
              " 'uris': None,\n",
              " 'data': None}"
            ]
          },
          "execution_count": 51,
          "metadata": {},
          "output_type": "execute_result"
        }
      ],
      "source": [
        "collection.query(\n",
        "    query_texts=[\"python\"],\n",
        "    n_results=10,\n",
        "    where_document={\"$contains\": \"python\"}\n",
        ")"
      ]
    },
    {
      "cell_type": "markdown",
      "metadata": {},
      "source": [
        "Más adelante veremos las posibilidades que tenemos aquí"
      ]
    },
    {
      "cell_type": "markdown",
      "metadata": {},
      "source": [
        "Cuando hacemos una consulta podemos decir qué datos queremos que nos devuelva, por ejemplo solo los embeddings, solo la metadatos, o varios datos especificándoselo en una lista mediante el argumento `include`"
      ]
    },
    {
      "cell_type": "code",
      "execution_count": 100,
      "metadata": {},
      "outputs": [
        {
          "name": "stderr",
          "output_type": "stream",
          "text": [
            "Number of requested results 10 is greater than number of elements in index 6, updating n_results = 6\n"
          ]
        },
        {
          "data": {
            "text/plain": [
              "{'ids': [['id1', 'id2', 'id4', 'id3', 'id5', 'id6']],\n",
              " 'distances': [[0.5389559268951416,\n",
              "   1.5743632316589355,\n",
              "   1.578398585319519,\n",
              "   1.59961998462677,\n",
              "   384.56890869140625,\n",
              "   384.56890869140625]],\n",
              " 'metadatas': None,\n",
              " 'embeddings': None,\n",
              " 'documents': [['This is a python docs',\n",
              "   'This is JavaScript docs',\n",
              "   'This is Rust docs',\n",
              "   'This is a Mojo docs',\n",
              "   None,\n",
              "   'This is a Pytorch docs']],\n",
              " 'uris': None,\n",
              " 'data': None}"
            ]
          },
          "execution_count": 59,
          "metadata": {},
          "output_type": "execute_result"
        }
      ],
      "source": [
        "collection.query(\n",
        "    query_texts=[\"python\"],\n",
        "    n_results=10,\n",
        "    include=[\"documents\", \"distances\"]\n",
        ")"
      ]
    },
    {
      "cell_type": "markdown",
      "metadata": {},
      "source": [
        "Vemos que ahora `metadatas` es `None`"
      ]
    },
    {
      "cell_type": "markdown",
      "metadata": {},
      "source": [
        "#### Varias consultas a la vez"
      ]
    },
    {
      "cell_type": "markdown",
      "metadata": {},
      "source": [
        "Podemos hacerle a la colección varias consultas a la vez, para ello, le pasamos una lista al parámetro `query_texts`"
      ]
    },
    {
      "cell_type": "code",
      "execution_count": 100,
      "metadata": {},
      "outputs": [
        {
          "data": {
            "text/plain": [
              "{'ids': [['id1'], ['id1'], ['id3']],\n",
              " 'distances': [[1.152251958847046], [1.654376745223999], [1.6786067485809326]],\n",
              " 'metadatas': [[{'source': 'Python source'}],\n",
              "  [{'source': 'Python source'}],\n",
              "  [{'source': 'Mojo source'}]],\n",
              " 'embeddings': None,\n",
              " 'documents': [['This is a python docs'],\n",
              "  ['This is a python docs'],\n",
              "  ['This is a Mojo docs']],\n",
              " 'uris': None,\n",
              " 'data': None}"
            ]
          },
          "execution_count": 57,
          "metadata": {},
          "output_type": "execute_result"
        }
      ],
      "source": [
        "collection.query(\n",
        "    query_texts=[\"programming language\", \"high level\", \"multi propuse\"],\n",
        "    n_results=1,\n",
        ")"
      ]
    },
    {
      "cell_type": "markdown",
      "metadata": {},
      "source": [
        "Para cada consulta me ha devuelto un resultado"
      ]
    },
    {
      "cell_type": "markdown",
      "metadata": {},
      "source": [
        "Esto es muy útil cuando la base de datos está alojada en un servidor y nos cobran por cada consulta que hacemos. Por lo que en vez de hacer una consulta por cada duda que tengamos, hacemos una consulta con todas"
      ]
    },
    {
      "cell_type": "markdown",
      "metadata": {},
      "source": [
        "#### Consultas por embeddings"
      ]
    },
    {
      "cell_type": "markdown",
      "metadata": {},
      "source": [
        "Cuando hacemos una consulta por documentos, lo que hace Chroma es calcular el embedding del `query_texts` y buscar los documentos que más se parezcan a ese embedding. Pero si ya tenemos el embedding, podemos hacer la consulta directamente con el embedding"
      ]
    },
    {
      "cell_type": "markdown",
      "metadata": {},
      "source": [
        "Vamos primero a obtener el embedding de una consulta con la misma función de embedding de las colección"
      ]
    },
    {
      "cell_type": "code",
      "execution_count": 100,
      "metadata": {},
      "outputs": [
        {
          "data": {
            "text/plain": [
              "[[-0.04816831275820732,\n",
              "  0.014662696048617363,\n",
              "  -0.031021444126963615,\n",
              "  0.008308809250593185,\n",
              "  -0.07176128774881363,\n",
              "  -0.10355626791715622,\n",
              "  0.06690476089715958,\n",
              "  0.04229631647467613,\n",
              "  -0.03681119903922081,\n",
              "  -0.04993892088532448,\n",
              "  0.03186540678143501,\n",
              "  0.015252595767378807,\n",
              "  0.0642094686627388,\n",
              "  0.018130118027329445,\n",
              "  0.016300885006785393,\n",
              "  -0.028082313016057014,\n",
              "  -0.03994889184832573,\n",
              "  0.023195551708340645,\n",
              "  0.004547565709799528,\n",
              "  -0.11764183640480042,\n",
              "  0.019792592152953148,\n",
              "  0.0496944822371006,\n",
              "  -0.013253907673060894,\n",
              "  0.03610404208302498,\n",
              "  0.030529780313372612,\n",
              "  -0.01815914921462536,\n",
              "  -0.009753326885402203,\n",
              "  0.03412770479917526,\n",
              "  0.03020440600812435,\n",
              "  ...\n",
              "  0.02079579420387745,\n",
              "  -0.00972712505608797,\n",
              "  0.13462257385253906,\n",
              "  0.15277136862277985,\n",
              "  -0.028574923053383827]]"
            ]
          },
          "execution_count": 54,
          "metadata": {},
          "output_type": "execute_result"
        }
      ],
      "source": [
        "query_texts = [\"python language\"]\n",
        "query_embeddings = collection._embedding_function(query_texts)\n",
        "query_embeddings"
      ]
    },
    {
      "cell_type": "markdown",
      "metadata": {},
      "source": [
        "Ahora podemos hacer la consulta con el embedding"
      ]
    },
    {
      "cell_type": "code",
      "execution_count": 100,
      "metadata": {},
      "outputs": [
        {
          "data": {
            "text/plain": [
              "{'ids': [['id1']],\n",
              " 'distances': [[0.6297433376312256]],\n",
              " 'metadatas': [[{'source': 'Python source'}]],\n",
              " 'embeddings': None,\n",
              " 'documents': [['This is a python docs']],\n",
              " 'uris': None,\n",
              " 'data': None}"
            ]
          },
          "execution_count": 55,
          "metadata": {},
          "output_type": "execute_result"
        }
      ],
      "source": [
        "collection.query(\n",
        "    query_embeddings=query_embeddings,\n",
        "    n_results=1,\n",
        ")"
      ]
    },
    {
      "cell_type": "markdown",
      "metadata": {},
      "source": [
        "Al igual que antes podemos obtener más resultados aumentando el valor del parámetro `n_results`, y podemos filtrar con los parámetros `where` y `where_document`. También podemos hacer varias consultas de una vez, y podemos especificar qué datos queremos que nos devuelva con el parámetro `include`"
      ]
    },
    {
      "cell_type": "markdown",
      "metadata": {},
      "source": [
        " > **Nota**: Si intentamos hacer una consulta con un embedding de diferente dimensión a los que ya hay en la colección, nos dará un error"
      ]
    },
    {
      "cell_type": "markdown",
      "metadata": {},
      "source": [
        "### Recuperar documentos por `ID`"
      ]
    },
    {
      "cell_type": "markdown",
      "metadata": {},
      "source": [
        "Si conocemos la `ID` de un documento, podemos recuperar el documento con el método `get`"
      ]
    },
    {
      "cell_type": "code",
      "execution_count": 100,
      "metadata": {},
      "outputs": [
        {
          "data": {
            "text/plain": [
              "{'ids': ['id1'],\n",
              " 'embeddings': None,\n",
              " 'metadatas': [{'source': 'Python source'}],\n",
              " 'documents': ['This is a python docs'],\n",
              " 'uris': None,\n",
              " 'data': None}"
            ]
          },
          "execution_count": 56,
          "metadata": {},
          "output_type": "execute_result"
        }
      ],
      "source": [
        "collection.get(\n",
        "    ids=[\"id1\"],\n",
        ")"
      ]
    },
    {
      "cell_type": "markdown",
      "metadata": {},
      "source": [
        "También se pueden recuperar varios documentos de una sola vez"
      ]
    },
    {
      "cell_type": "code",
      "execution_count": 100,
      "metadata": {},
      "outputs": [
        {
          "data": {
            "text/plain": [
              "{'ids': ['id1', 'id2', 'id3'],\n",
              " 'embeddings': None,\n",
              " 'metadatas': [{'source': 'Python source'},\n",
              "  {'source': 'JavaScript source'},\n",
              "  {'source': 'Mojo source'}],\n",
              " 'documents': ['This is a python docs',\n",
              "  'This is JavaScript docs',\n",
              "  'This is a Mojo docs'],\n",
              " 'uris': None,\n",
              " 'data': None}"
            ]
          },
          "execution_count": 58,
          "metadata": {},
          "output_type": "execute_result"
        }
      ],
      "source": [
        "collection.get(\n",
        "    ids=[\"id1\", \"id2\", \"id3\"],\n",
        ")"
      ]
    },
    {
      "cell_type": "markdown",
      "metadata": {},
      "source": [
        "Al igual que antes podemos filtrar con los argumentos `where` y `where_document`. También podemos hacer varias consultas de una vez, y podemos especificar qué datos queremos que nos devuelva con el parámetro `include`"
      ]
    },
    {
      "cell_type": "markdown",
      "metadata": {},
      "source": [
        "### Filtrado"
      ]
    },
    {
      "cell_type": "markdown",
      "metadata": {},
      "source": [
        "Como habíamos visto, se pueden realizar filtros por metadatos con el parámetro `where`, y por el contenido del documento con el parámetro `where_document`"
      ]
    },
    {
      "cell_type": "markdown",
      "metadata": {},
      "source": [
        "#### Filtrado por metadata"
      ]
    },
    {
      "cell_type": "markdown",
      "metadata": {},
      "source": [
        "Como los metadatos me introducían como un diccionario\n",
        "\n",
        "```python\n",
        "collection.add(\n",
        "    documents=[\"This is a python docs\", \"This is JavaScript docs\"],\n",
        "    metadatas=[{\"source\": \"Python source\"}, {\"source\": \"JavaScript source\"}],\n",
        "    ids=[\"id1\", \"id2\"]\n",
        ")\n",
        "```\n",
        "\n",
        "Lo primero que tenemos que hacer es indicar la llave de la metadata por la que queremos filtrar. A continuación tenemos que poner un operador y el valor\n",
        "\n",
        "```python\n",
        "{\n",
        "    \"metadata_field\": {\n",
        "        <Operator>: <Value>\n",
        "    }\n",
        "}\n",
        "```"
      ]
    },
    {
      "cell_type": "markdown",
      "metadata": {},
      "source": [
        "Los posibles valores del operador son\n",
        "\n",
        " * **$eq** - equal to (string, int, float)\n",
        " * **$ne** - not equal to (string, int, float)\n",
        " * **$gt** - greater than (int, float)\n",
        " * **$gte** - greater than or equal to (int, float)\n",
        " * **$lt** - less than (int, float)\n",
        " * **$lte** - less than or equal to (int, float)"
      ]
    },
    {
      "cell_type": "markdown",
      "metadata": {},
      "source": [
        "Vamos a ver ahora una consulta"
      ]
    },
    {
      "cell_type": "code",
      "execution_count": 100,
      "metadata": {},
      "outputs": [
        {
          "data": {
            "text/plain": [
              "{'ids': [['id1']],\n",
              " 'distances': [[0.5389559268951416]],\n",
              " 'metadatas': [[{'source': 'Python source'}]],\n",
              " 'embeddings': None,\n",
              " 'documents': [['This is a python docs']],\n",
              " 'uris': None,\n",
              " 'data': None}"
            ]
          },
          "execution_count": 61,
          "metadata": {},
          "output_type": "execute_result"
        }
      ],
      "source": [
        "collection.query(\n",
        "    query_texts=[\"python\"],\n",
        "    n_results=1,\n",
        "    where=\n",
        "    {\n",
        "        \"source\": \n",
        "        {\n",
        "            \"$eq\": \"Python source\"\n",
        "        }\n",
        "    }\n",
        ")"
      ]
    },
    {
      "cell_type": "markdown",
      "metadata": {},
      "source": [
        "Si no ponemos operador, por defecto será `$eq`, es decir, esto\n",
        "\n",
        "```python\n",
        "{\n",
        "    \"metadata_field\": {\n",
        "        <\"$eq\">: <Value>\n",
        "    }\n",
        "}\n",
        "```\n",
        "\n",
        "Es lo mismo que esto\n",
        "\n",
        "```python\n",
        "{\n",
        "    \"metadata_field\": <Value>\n",
        "}\n",
        "```"
      ]
    },
    {
      "cell_type": "markdown",
      "metadata": {},
      "source": [
        " > **Nota**: Chroma solo buscará en los datos que tengan el metadato `source`, por ejemplo si se hace la búsqueda `where={\"version\": {\"$ne\": 1}}` solo devolverá los datos que en su metadata haya una key `version` y que no sea 1"
      ]
    },
    {
      "cell_type": "markdown",
      "metadata": {},
      "source": [
        "#### Filtrado por el contenido del documento"
      ]
    },
    {
      "cell_type": "markdown",
      "metadata": {},
      "source": [
        "A la hora de filtrar por el contenido del documento tenemos dos posibles llaves `$contains` and `$not_contains`"
      ]
    },
    {
      "cell_type": "markdown",
      "metadata": {},
      "source": [
        "Por ejemplo, buscamos los datos de la colección en los que aparece la palabra `python` en su documento"
      ]
    },
    {
      "cell_type": "code",
      "execution_count": 100,
      "metadata": {},
      "outputs": [
        {
          "name": "stderr",
          "output_type": "stream",
          "text": [
            "Number of requested results 10 is greater than number of elements in index 6, updating n_results = 6\n"
          ]
        },
        {
          "data": {
            "text/plain": [
              "{'ids': [['id1']],\n",
              " 'distances': [[0.5389559268951416]],\n",
              " 'metadatas': [[{'source': 'Python source'}]],\n",
              " 'embeddings': None,\n",
              " 'documents': [['This is a python docs']],\n",
              " 'uris': None,\n",
              " 'data': None}"
            ]
          },
          "execution_count": 74,
          "metadata": {},
          "output_type": "execute_result"
        }
      ],
      "source": [
        "collection.query(\n",
        "    query_texts=[\"python\"],\n",
        "    n_results=10,\n",
        "    where_document={\"$contains\": \"python\"}\n",
        ")"
      ]
    },
    {
      "cell_type": "markdown",
      "metadata": {},
      "source": [
        "Y todos los datos de la colección en los que no aparece la palabra `python` en su documento"
      ]
    },
    {
      "cell_type": "code",
      "execution_count": 100,
      "metadata": {},
      "outputs": [
        {
          "name": "stderr",
          "output_type": "stream",
          "text": [
            "Number of requested results 10 is greater than number of elements in index 6, updating n_results = 6\n"
          ]
        },
        {
          "data": {
            "text/plain": [
              "{'ids': [['id2', 'id4', 'id3', 'id6']],\n",
              " 'distances': [[1.5743632316589355,\n",
              "   1.578398585319519,\n",
              "   1.59961998462677,\n",
              "   384.56890869140625]],\n",
              " 'metadatas': [[{'source': 'JavaScript source'},\n",
              "   {'source': 'Rust source'},\n",
              "   {'source': 'Mojo source'},\n",
              "   {'source': 'Pytorch source'}]],\n",
              " 'embeddings': None,\n",
              " 'documents': [['This is JavaScript docs',\n",
              "   'This is Rust docs',\n",
              "   'This is a Mojo docs',\n",
              "   'This is a Pytorch docs']],\n",
              " 'uris': None,\n",
              " 'data': None}"
            ]
          },
          "execution_count": 75,
          "metadata": {},
          "output_type": "execute_result"
        }
      ],
      "source": [
        "collection.query(\n",
        "    query_texts=[\"python\"],\n",
        "    n_results=10,\n",
        "    where_document={\"$not_contains\": \"python\"}\n",
        ")"
      ]
    },
    {
      "cell_type": "markdown",
      "metadata": {},
      "source": [
        "Además podemos usar los operadores lógicos `$and` y `$or` para hacer consultas más complejas\n",
        "\n",
        "```python\n",
        "{\n",
        "    \"$and\": [\n",
        "        {\n",
        "            <Operator>: <Value>\n",
        "        },\n",
        "        {\n",
        "            <Operator>: <Value>\n",
        "        }\n",
        "    ]\n",
        "}\n",
        "```\n",
        "\n",
        "```python\n",
        "{\n",
        "    \"$or\": [\n",
        "        {\n",
        "            <Operator>: <Value>\n",
        "        },\n",
        "        {\n",
        "            <Operator>: <Value>\n",
        "        }\n",
        "    ]\n",
        "}\n",
        "```"
      ]
    },
    {
      "cell_type": "markdown",
      "metadata": {},
      "source": [
        "Por ejemplo, buscamos todos los documentos en los que aparecen las palabras `python` y `docs`"
      ]
    },
    {
      "cell_type": "code",
      "execution_count": 100,
      "metadata": {},
      "outputs": [
        {
          "name": "stderr",
          "output_type": "stream",
          "text": [
            "Number of requested results 10 is greater than number of elements in index 6, updating n_results = 6\n"
          ]
        },
        {
          "data": {
            "text/plain": [
              "{'ids': [['id1']],\n",
              " 'distances': [[0.5389559268951416]],\n",
              " 'metadatas': [[{'source': 'Python source'}]],\n",
              " 'embeddings': None,\n",
              " 'documents': [['This is a python docs']],\n",
              " 'uris': None,\n",
              " 'data': None}"
            ]
          },
          "execution_count": 79,
          "metadata": {},
          "output_type": "execute_result"
        }
      ],
      "source": [
        "collection.query(\n",
        "    query_texts=[\"python\"],\n",
        "    n_results=10,\n",
        "    where_document=\n",
        "    {\n",
        "        \"$and\": [\n",
        "            {\"$contains\": \"python\"},\n",
        "            {\"$contains\": \"docs\"},\n",
        "        ],\n",
        "    },\n",
        ")"
      ]
    },
    {
      "cell_type": "markdown",
      "metadata": {},
      "source": [
        "### Actualizar datos"
      ]
    },
    {
      "cell_type": "markdown",
      "metadata": {},
      "source": [
        "Cualquier ítem de un dato se puede actualizar con el método update"
      ]
    },
    {
      "cell_type": "code",
      "execution_count": 100,
      "metadata": {},
      "outputs": [],
      "source": [
        "collection.update(\n",
        "    ids=[\"id1\"],\n",
        "    documents=[\"This is a updated Python docs\"]\n",
        ")"
      ]
    },
    {
      "cell_type": "markdown",
      "metadata": {},
      "source": [
        "Vamos a ver si se ha actualizado"
      ]
    },
    {
      "cell_type": "code",
      "execution_count": 100,
      "metadata": {},
      "outputs": [
        {
          "name": "stderr",
          "output_type": "stream",
          "text": [
            "Number of requested results 10 is greater than number of elements in index 6, updating n_results = 6\n"
          ]
        },
        {
          "data": {
            "text/plain": [
              "{'ids': [['id1']],\n",
              " 'distances': [[0.8247963190078735]],\n",
              " 'metadatas': [[{'source': 'Python source'}]],\n",
              " 'embeddings': None,\n",
              " 'documents': [['This is a updated Python docs']],\n",
              " 'uris': None,\n",
              " 'data': None}"
            ]
          },
          "execution_count": 82,
          "metadata": {},
          "output_type": "execute_result"
        }
      ],
      "source": [
        "collection.query(\n",
        "    query_texts=[\"python\"],\n",
        "    n_results=10,\n",
        "    where_document={\"$contains\": \"Python\"}\n",
        ")"
      ]
    },
    {
      "cell_type": "markdown",
      "metadata": {},
      "source": [
        " > **Nota**: Si intentamos actualizar un `ID` que no existe, nos dará un error"
      ]
    },
    {
      "cell_type": "markdown",
      "metadata": {},
      "source": [
        " > **Nota**: Si intentamos actualizar un embedding con otro de distinta dimensión, nos dará un error"
      ]
    },
    {
      "cell_type": "markdown",
      "metadata": {},
      "source": [
        "### Actualizar o añadir datos"
      ]
    },
    {
      "cell_type": "markdown",
      "metadata": {},
      "source": [
        "Con el método `upsert` podemos actualizar un dato si ya existe, o añadirlo si no existe"
      ]
    },
    {
      "cell_type": "code",
      "execution_count": 100,
      "metadata": {},
      "outputs": [],
      "source": [
        "collection.upsert(\n",
        "    ids=[\"id6\"],\n",
        "    documents=[\"This is a Pytorch docs\"],\n",
        "    metadatas=[{\"source\": \"Pytorch source\"}],   \n",
        ")"
      ]
    },
    {
      "cell_type": "markdown",
      "metadata": {},
      "source": [
        "Veamos si se ha añadido a la colección"
      ]
    },
    {
      "cell_type": "code",
      "execution_count": 100,
      "metadata": {},
      "outputs": [
        {
          "data": {
            "text/plain": [
              "{'ids': ['id1', 'id2', 'id3', 'id4', 'id5', 'id6'],\n",
              " 'embeddings': [[-0.08374718576669693,\n",
              "   0.01027572900056839,\n",
              "   -0.04819200187921524,\n",
              "   0.01758415624499321,\n",
              "   0.013158757239580154,\n",
              "   -0.11435151100158691,\n",
              "   -0.024248722940683365,\n",
              "   -0.01319972239434719,\n",
              "   -0.09626100957393646,\n",
              "   -0.010561048053205013,\n",
              "   0.09369225800037384,\n",
              "   0.06017905846238136,\n",
              "   0.031283188611269,\n",
              "   0.014855983667075634,\n",
              "   -0.0015984248602762818,\n",
              "   0.023238031193614006,\n",
              "   -0.04709107056260109,\n",
              "   -0.007838696241378784,\n",
              "   0.012870412319898605,\n",
              "   -0.028354981914162636,\n",
              "   -0.007653804495930672,\n",
              "   0.09018168598413467,\n",
              "   0.060235824435949326,\n",
              "   0.0005205210763961077,\n",
              "   ...\n",
              "   0.014388148672878742]],\n",
              " 'metadatas': [{'source': 'Python source'},\n",
              "  {'source': 'JavaScript source'},\n",
              "  {'source': 'Mojo source'},\n",
              "  {'source': 'Rust source'},\n",
              "  {'source': 'Only embeddings'},\n",
              "  {'source': 'Pytorch source'}],\n",
              " 'documents': ['This is a updated Python docs',\n",
              "  'This is JavaScript docs',\n",
              "  'This is a Mojo docs',\n",
              "  'This is Rust docs',\n",
              "  None,\n",
              "  'This is a Pytorch docs'],\n",
              " 'uris': None,\n",
              " 'data': None}"
            ]
          },
          "execution_count": 84,
          "metadata": {},
          "output_type": "execute_result"
        }
      ],
      "source": [
        "collection.peek()"
      ]
    },
    {
      "cell_type": "markdown",
      "metadata": {},
      "source": [
        "Vemos que sí"
      ]
    },
    {
      "cell_type": "markdown",
      "metadata": {},
      "source": [
        "### Eliminar datos"
      ]
    },
    {
      "cell_type": "markdown",
      "metadata": {},
      "source": [
        "Podemos eliminar datos de una colección con el método `delete`"
      ]
    },
    {
      "cell_type": "markdown",
      "metadata": {},
      "source": [
        "Vamos a eliminar el dato con `ID` `id5` que es el que añadimos con su embedding todo a unos"
      ]
    },
    {
      "cell_type": "code",
      "execution_count": 100,
      "metadata": {},
      "outputs": [],
      "source": [
        "collection.delete(\n",
        "    ids=[\"id5\"]\n",
        ")"
      ]
    },
    {
      "cell_type": "markdown",
      "metadata": {},
      "source": [
        "Vamos a ver si se ha eliminado"
      ]
    },
    {
      "cell_type": "code",
      "execution_count": 100,
      "metadata": {},
      "outputs": [
        {
          "data": {
            "text/plain": [
              "{'ids': ['id1', 'id2', 'id3', 'id4', 'id6'],\n",
              " 'embeddings': [[-0.08374718576669693,\n",
              "   0.01027572900056839,\n",
              "   -0.04819200187921524,\n",
              "   0.01758415624499321,\n",
              "   0.013158757239580154,\n",
              "   -0.11435151100158691,\n",
              "   -0.024248722940683365,\n",
              "   -0.01319972239434719,\n",
              "   -0.09626100957393646,\n",
              "   -0.010561048053205013,\n",
              "   0.09369225800037384,\n",
              "   0.06017905846238136,\n",
              "   0.031283188611269,\n",
              "   0.014855983667075634,\n",
              "   -0.0015984248602762818,\n",
              "   0.023238031193614006,\n",
              "   -0.04709107056260109,\n",
              "   -0.007838696241378784,\n",
              "   0.012870412319898605,\n",
              "   -0.028354981914162636,\n",
              "   -0.007653804495930672,\n",
              "   0.09018168598413467,\n",
              "   0.060235824435949326,\n",
              "   0.0005205210763961077,\n",
              "   ...\n",
              "   0.07033486664295197,\n",
              "   0.014388148672878742]],\n",
              " 'metadatas': [{'source': 'Python source'},\n",
              "  {'source': 'JavaScript source'},\n",
              "  {'source': 'Mojo source'},\n",
              "  {'source': 'Rust source'},\n",
              "  {'source': 'Pytorch source'}],\n",
              " 'documents': ['This is a updated Python docs',\n",
              "  'This is JavaScript docs',\n",
              "  'This is a Mojo docs',\n",
              "  'This is Rust docs',\n",
              "  'This is a Pytorch docs'],\n",
              " 'uris': None,\n",
              " 'data': None}"
            ]
          },
          "execution_count": 86,
          "metadata": {},
          "output_type": "execute_result"
        }
      ],
      "source": [
        "collection.peek()"
      ]
    },
    {
      "cell_type": "markdown",
      "metadata": {},
      "source": [
        "Vemos que ya no está"
      ]
    },
    {
      "cell_type": "markdown",
      "metadata": {},
      "source": [
        "## Embeddings"
      ]
    },
    {
      "cell_type": "markdown",
      "metadata": {},
      "source": [
        "Como hemos dicho, podemos usar distintas funciones de embeddings y si no se le especifica ninguna usará `all-MiniLM-L6-v2`. En la página de la [documentación de embeddings](https://docs.trychroma.com/embeddings) de chroma podemos ver las distintas funciones de embeddings que podemos usar. Como esto es algo que puede ir cambiando, y además algunas son de pago y requieren api key, vamos a explicar solo cómo usar las de HuggingFace"
      ]
    },
    {
      "cell_type": "markdown",
      "metadata": {},
      "source": [
        "Primero establecemos la función de embedding"
      ]
    },
    {
      "cell_type": "code",
      "execution_count": 100,
      "metadata": {},
      "outputs": [],
      "source": [
        "import chromadb.utils.embedding_functions as embedding_functions\n",
        "\n",
        "huggingface_ef = embedding_functions.HuggingFaceEmbeddingFunction(\n",
        "    api_key=\"YOUR_API_KEY\",\n",
        "    model_name=\"sentence-transformers/all-mpnet-base-v2\"\n",
        ")"
      ]
    },
    {
      "cell_type": "markdown",
      "metadata": {},
      "source": [
        "En mi caso uso `sentence-transformers/all-mpnet-base-v2` que es la más descargada de `sentence-transformers` en el momento de escribir este post"
      ]
    },
    {
      "cell_type": "markdown",
      "metadata": {},
      "source": [
        "Para añadir ahora la función de embedding a la colección, tenemos que añadir el argumento `metadata={\"embedding\": <function>}`"
      ]
    },
    {
      "cell_type": "code",
      "execution_count": 100,
      "metadata": {},
      "outputs": [],
      "source": [
        "collection = chroma_client.create_collection(\n",
        "    name=\"colection_huggingface\",\n",
        "    embedding_function=huggingface_ef\n",
        ")"
      ]
    },
    {
      "cell_type": "markdown",
      "metadata": {},
      "source": [
        "Podemos comprobar que hemos añadido la nueva función de embedding. Lo podemos hacer calculando los embeddings de una palabra"
      ]
    },
    {
      "cell_type": "code",
      "execution_count": 100,
      "metadata": {},
      "outputs": [
        {
          "data": {
            "text/plain": [
              "(1, 768)"
            ]
          },
          "execution_count": 101,
          "metadata": {},
          "output_type": "execute_result"
        }
      ],
      "source": [
        "embedding = collection._embedding_function([\"python\"])\n",
        "len(embedding), len(embedding[0])"
      ]
    },
    {
      "cell_type": "markdown",
      "metadata": {},
      "source": [
        "La longitud del embedding es de 768"
      ]
    },
    {
      "cell_type": "markdown",
      "metadata": {},
      "source": [
        "Si ahora calculamos el embedding con la función de embedding de la colección anterior"
      ]
    },
    {
      "cell_type": "code",
      "execution_count": 100,
      "metadata": {},
      "outputs": [],
      "source": [
        "collection = chroma_client.get_collection(name = \"my_collection\")"
      ]
    },
    {
      "cell_type": "code",
      "execution_count": 100,
      "metadata": {},
      "outputs": [
        {
          "data": {
            "text/plain": [
              "(1, 384)"
            ]
          },
          "execution_count": 103,
          "metadata": {},
          "output_type": "execute_result"
        }
      ],
      "source": [
        "embedding = collection._embedding_function([\"python\"])\n",
        "len(embedding), len(embedding[0])"
      ]
    },
    {
      "cell_type": "markdown",
      "metadata": {},
      "source": [
        "Vemos que ahora la longitud del embedding es 384, es decir, sí habíamos usado antes una nueva función de embedding"
      ]
    },
    {
      "cell_type": "markdown",
      "metadata": {},
      "source": [
        "## Multimodalidad"
      ]
    },
    {
      "cell_type": "markdown",
      "metadata": {},
      "source": [
        "Podemos añadir embeddings de imágenes ya que Chroma tiene incorporado [OpenCLIP](https://github.com/mlfoundations/open_clip). [OpenCLIP](https://github.com/mlfoundations/open_clip) es una implementación open source de [CLIP](https://github.com/openai/CLIP) (Contrastive Language-Image Pre-Training), que es una red neuronal de OpenAI la cual es capaz de dar una descripción de una imagen"
      ]
    },
    {
      "cell_type": "markdown",
      "metadata": {},
      "source": [
        "Para poder usar OpenCLIP, tenemos que instalarlo con pip\n",
        "\n",
        "```bash\n",
        "pip install open-clip-torch\n",
        "```"
      ]
    },
    {
      "cell_type": "markdown",
      "metadata": {},
      "source": [
        "Una vez instalado, podemos usarlo para crear embeddings de la siguiente foto\n",
        "\n",
        "![chroma db - python mixture](https://images.maximofn.com/chromadb_dalle3.webp)\n",
        "\n",
        "Qué la tengo en mi path local `../images/chromadb_dalle3.webp`"
      ]
    },
    {
      "cell_type": "code",
      "execution_count": 44,
      "metadata": {},
      "outputs": [
        {
          "data": {
            "text/plain": [
              "(30, 512)"
            ]
          },
          "execution_count": 44,
          "metadata": {},
          "output_type": "execute_result"
        }
      ],
      "source": [
        "from chromadb.utils.embedding_functions import  OpenCLIPEmbeddingFunction\n",
        "\n",
        "embedding_function = OpenCLIPEmbeddingFunction()\n",
        "image = \"../images/chromadb_dalle3.webp\"\n",
        "embedding = embedding_function(image)\n",
        "len(embedding), len(embedding[0])"
      ]
    },
    {
      "cell_type": "markdown",
      "metadata": {},
      "source": [
        "Como vemos, crea un embedding de tamaño 30x512"
      ]
    },
    {
      "cell_type": "markdown",
      "metadata": {},
      "source": [
        "Chroma también trae un cargador de imágenes"
      ]
    },
    {
      "cell_type": "code",
      "execution_count": 45,
      "metadata": {},
      "outputs": [
        {
          "data": {
            "text/plain": [
              "(numpy.ndarray, (1024, 1024, 3))"
            ]
          },
          "execution_count": 45,
          "metadata": {},
          "output_type": "execute_result"
        }
      ],
      "source": [
        "from chromadb.utils.data_loaders import ImageLoader\n",
        "data_loader = ImageLoader()\n",
        "data = data_loader._load_image(image)\n",
        "type(data), data.shape"
      ]
    },
    {
      "cell_type": "markdown",
      "metadata": {},
      "source": [
        "Así que podemos crear una colección multimodal con esta función de embedding y el cargador de imágenes"
      ]
    },
    {
      "cell_type": "code",
      "execution_count": 46,
      "metadata": {},
      "outputs": [],
      "source": [
        "collection = chroma_client.create_collection(\n",
        "    name=\"multimodal_collection\",\n",
        "    embedding_function=embedding_function,\n",
        "    data_loader=data_loader\n",
        ")"
      ]
    },
    {
      "cell_type": "markdown",
      "metadata": {},
      "source": [
        "Y podemos añadir los embeddings de las imágenes"
      ]
    },
    {
      "cell_type": "code",
      "execution_count": 47,
      "metadata": {},
      "outputs": [],
      "source": [
        "collection.add(\n",
        "    ids=['id1'],\n",
        "    images=[image]\n",
        ")"
      ]
    },
    {
      "cell_type": "markdown",
      "metadata": {},
      "source": [
        "Vamos a ver qué ha guardado"
      ]
    },
    {
      "cell_type": "code",
      "execution_count": 48,
      "metadata": {},
      "outputs": [
        {
          "data": {
            "text/plain": [
              "{'ids': ['id1'],\n",
              " 'embeddings': [[-0.014372998848557472,\n",
              "   0.0063015008345246315,\n",
              "   -0.03794914484024048,\n",
              "   -0.028725482523441315,\n",
              "   -0.014304812066257,\n",
              "   -0.04323698952794075,\n",
              "   0.008670451119542122,\n",
              "   -0.016066772863268852,\n",
              "   -0.02365742437541485,\n",
              "   0.07881983369588852,\n",
              "   0.022775636985898018,\n",
              "   0.004407387692481279,\n",
              "   0.058205753564834595,\n",
              "   -0.02389293536543846,\n",
              "   -0.027586588636040688,\n",
              "   0.05778728798031807,\n",
              "   -0.2631031572818756,\n",
              "   0.044124454259872437,\n",
              "   0.010588622651994228,\n",
              "   -0.035578884184360504,\n",
              "   -0.041719693690538406,\n",
              "   -0.0033654430881142616,\n",
              "   -0.04731074720621109,\n",
              "   -0.0019943572115153074,\n",
              "   ...\n",
              "   0.04397008568048477,\n",
              "   0.04396628588438034]],\n",
              " 'metadatas': [None],\n",
              " 'documents': [None],\n",
              " 'uris': None,\n",
              " 'data': None}"
            ]
          },
          "execution_count": 48,
          "metadata": {},
          "output_type": "execute_result"
        }
      ],
      "source": [
        "collection.peek()"
      ]
    },
    {
      "cell_type": "markdown",
      "metadata": {},
      "source": [
        "Chroma no almacena las imágenes, solo los embeddings, por lo que para no perder la relación entre los embeddings y las imágenes, podemos guardar la ruta de las imágenes en la metadatos. Vamos a usar el método `update` para añadir la ruta de la imagen"
      ]
    },
    {
      "cell_type": "code",
      "execution_count": 55,
      "metadata": {},
      "outputs": [],
      "source": [
        "collection.update(\n",
        "    ids=['id1'],\n",
        "    images=[image],\n",
        "    metadatas=[{\"source\": image}]\n",
        ")"
      ]
    },
    {
      "cell_type": "markdown",
      "metadata": {},
      "source": [
        "Si volvemos a ver qué tiene guardada la colección"
      ]
    },
    {
      "cell_type": "code",
      "execution_count": 56,
      "metadata": {},
      "outputs": [
        {
          "data": {
            "text/plain": [
              "{'ids': ['id1'],\n",
              " 'embeddings': [[-0.014372998848557472,\n",
              "   0.0063015008345246315,\n",
              "   -0.03794914484024048,\n",
              "   -0.028725482523441315,\n",
              "   -0.014304812066257,\n",
              "   -0.04323698952794075,\n",
              "   0.008670451119542122,\n",
              "   -0.016066772863268852,\n",
              "   -0.02365742437541485,\n",
              "   0.07881983369588852,\n",
              "   0.022775636985898018,\n",
              "   0.004407387692481279,\n",
              "   0.058205753564834595,\n",
              "   -0.02389293536543846,\n",
              "   -0.027586588636040688,\n",
              "   0.05778728798031807,\n",
              "   -0.2631031572818756,\n",
              "   0.044124454259872437,\n",
              "   0.010588622651994228,\n",
              "   -0.035578884184360504,\n",
              "   -0.041719693690538406,\n",
              "   -0.0033654430881142616,\n",
              "   -0.04731074720621109,\n",
              "   -0.0019943572115153074,\n",
              "   ...\n",
              "   0.04397008568048477,\n",
              "   0.04396628588438034]],\n",
              " 'metadatas': [{'source': '../images/chromadb_dalle3.webp'}],\n",
              " 'documents': [None],\n",
              " 'uris': None,\n",
              " 'data': None}"
            ]
          },
          "execution_count": 56,
          "metadata": {},
          "output_type": "execute_result"
        }
      ],
      "source": [
        "collection.peek()"
      ]
    },
    {
      "cell_type": "markdown",
      "metadata": {},
      "source": [
        "Como la colección es multimodal, podemos añadirle documentos igual que antes"
      ]
    },
    {
      "cell_type": "code",
      "execution_count": 57,
      "metadata": {},
      "outputs": [
        {
          "data": {
            "text/plain": [
              "{'ids': ['id1', 'id2', 'id3'],\n",
              " 'embeddings': [[-0.014372998848557472,\n",
              "   0.0063015008345246315,\n",
              "   -0.03794914484024048,\n",
              "   -0.028725482523441315,\n",
              "   -0.014304812066257,\n",
              "   -0.04323698952794075,\n",
              "   0.008670451119542122,\n",
              "   -0.016066772863268852,\n",
              "   -0.02365742437541485,\n",
              "   0.07881983369588852,\n",
              "   0.022775636985898018,\n",
              "   0.004407387692481279,\n",
              "   0.058205753564834595,\n",
              "   -0.02389293536543846,\n",
              "   -0.027586588636040688,\n",
              "   0.05778728798031807,\n",
              "   -0.2631031572818756,\n",
              "   0.044124454259872437,\n",
              "   0.010588622651994228,\n",
              "   -0.035578884184360504,\n",
              "   -0.041719693690538406,\n",
              "   -0.0033654430881142616,\n",
              "   -0.04731074720621109,\n",
              "   -0.0019943572115153074,\n",
              "   ...\n",
              "   -0.061795610934495926,\n",
              "   -0.02433035336434841]],\n",
              " 'metadatas': [{'source': '../images/chromadb_dalle3.webp'},\n",
              "  {'source': 'Python source'},\n",
              "  {'source': 'JavaScript source'}],\n",
              " 'documents': [None, 'This is a python docs', 'This is JavaScript docs'],\n",
              " 'uris': None,\n",
              " 'data': None}"
            ]
          },
          "execution_count": 57,
          "metadata": {},
          "output_type": "execute_result"
        }
      ],
      "source": [
        "collection.add(\n",
        "    ids=['id2', 'id3'],\n",
        "    documents=[\"This is a python docs\", \"This is JavaScript docs\"],\n",
        "    metadatas=[{\"source\": \"Python source\"}, {\"source\": \"JavaScript source\"}]\n",
        ")\n",
        "collection.peek()"
      ]
    },
    {
      "cell_type": "markdown",
      "metadata": {},
      "source": [
        "Por último, podemos hacer consultas con texto"
      ]
    },
    {
      "cell_type": "code",
      "execution_count": 59,
      "metadata": {},
      "outputs": [
        {
          "name": "stderr",
          "output_type": "stream",
          "text": [
            "WARNING:chromadb.segment.impl.vector.local_hnsw:Number of requested results 10 is greater than number of elements in index 3, updating n_results = 3\n"
          ]
        },
        {
          "data": {
            "text/plain": [
              "{'ids': [['id2', 'id1', 'id3']],\n",
              " 'distances': [[1.1276676654815674, 1.1777206659317017, 1.2047353982925415]],\n",
              " 'metadatas': [[{'source': 'Python source'},\n",
              "   {'source': '../images/chromadb_dalle3.webp'},\n",
              "   {'source': 'JavaScript source'}]],\n",
              " 'embeddings': None,\n",
              " 'documents': [['This is a python docs', None, 'This is JavaScript docs']],\n",
              " 'uris': None,\n",
              " 'data': None}"
            ]
          },
          "execution_count": 59,
          "metadata": {},
          "output_type": "execute_result"
        }
      ],
      "source": [
        "collection.query(\n",
        "    query_texts=[\"persona trabajando en una mesa\"],\n",
        ")"
      ]
    },
    {
      "cell_type": "markdown",
      "metadata": {},
      "source": [
        "Con texto no nos ha dado la imagen como primer resultado, sino la documentación de python"
      ]
    },
    {
      "cell_type": "markdown",
      "metadata": {},
      "source": [
        "Pero también podemos hacerlas con imágenes, en este caso la voy a hacer con esta imagen\n",
        "\n",
        "![chroma logo](https://images.maximofn.com/chromadb_elegant.webp)"
      ]
    },
    {
      "cell_type": "code",
      "execution_count": 60,
      "metadata": {},
      "outputs": [
        {
          "name": "stderr",
          "output_type": "stream",
          "text": [
            "WARNING:chromadb.segment.impl.vector.local_hnsw:Number of requested results 10 is greater than number of elements in index 3, updating n_results = 3\n"
          ]
        },
        {
          "data": {
            "text/plain": [
              "{'ids': [['id1', 'id2', 'id3']],\n",
              " 'distances': [[0.6684874296188354, 0.9450105428695679, 1.0639115571975708]],\n",
              " 'metadatas': [[{'source': '../images/chromadb_dalle3.webp'},\n",
              "   {'source': 'Python source'},\n",
              "   {'source': 'JavaScript source'}]],\n",
              " 'embeddings': None,\n",
              " 'documents': [[None, 'This is a python docs', 'This is JavaScript docs']],\n",
              " 'uris': None,\n",
              " 'data': None}"
            ]
          },
          "execution_count": 60,
          "metadata": {},
          "output_type": "execute_result"
        }
      ],
      "source": [
        "query_image = \"https://images.maximofn.com/chromadb_elegant.webp\"\n",
        "collection.query(\n",
        "    query_images=[query_image],\n",
        ")"
      ]
    },
    {
      "cell_type": "markdown",
      "metadata": {},
      "source": [
        "Ahora sí da como primer resultado la imagen que habíamos guardado"
      ]
    }
  ],
  "metadata": {
    "kernelspec": {
      "display_name": "base",
      "language": "python",
      "name": "python3"
    },
    "language_info": {
      "codemirror_mode": {
        "name": "ipython",
        "version": 3
      },
      "file_extension": ".py",
      "mimetype": "text/x-python",
      "name": "python",
      "nbconvert_exporter": "python",
      "pygments_lexer": "ipython3",
      "version": "3.11.7"
    },
    "maximofn": {
      "date": "2024-02-18",
      "description_en": "Discover how ChromaDB redefines vector data search and management for AI applications, with ultra-fast and accurate similarity searches in high-dimensional spaces",
      "description_es": "Descubre cómo ChromaDB redefine la búsqueda y gestión de datos vectoriales para aplicaciones de IA, con búsquedas de similitud ultrarrápidas y precisas en espacios de alta dimensión",
      "description_pt": "Descubra como o ChromaDB redefine a pesquisa vetorial e o gerenciamento de dados para aplicativos de IA, com pesquisas de similaridade ultrarrápidas e precisas em espaços de alta dimensão",
      "end_url": "chromadb",
      "image": "https://images.maximofn.com/chromadb_dalle3.webp",
      "image_hover_path": "https://images.maximofn.com/chromadb_dalle3.webp",
      "keywords_en": "chromadb, vector search, vector database, vector similarity search, vector data, vector data management, vector data search, vector data search engine, vector data search tool, vector data search platform, vector data search software, vector data search service, vector data search library, vector data search system, vector data search solution, vector data search product, vector data search application, vector data search API, vector data search SDK, vector data search framework, vector data search technology, vector data search company, vector data search startup, vector data search tool, vector data search platform, vector data search software, vector data search service, vector data search library, vector data search system, vector data search solution, vector data search product, vector data search application, vector data search API, vector data search SDK, vector data search framework, vector data search technology, vector data search company, vector data search startup",
      "keywords_es": "chromadb, búsqueda vectorial, base de datos vectorial, búsqueda de similitud vectorial, datos vectoriales, gestión de datos vectoriales, búsqueda de datos vectoriales, motor de búsqueda de datos vectoriales, herramienta de búsqueda de datos vectoriales, plataforma de búsqueda de datos vectoriales, software de búsqueda de datos vectoriales, servicio de búsqueda de datos vectoriales, biblioteca de búsqueda de datos vectoriales, sistema de búsqueda de datos vectoriales, solución de búsqueda de datos vectoriales, producto de búsqueda de datos vectoriales, aplicación de búsqueda de datos vectoriales, API de búsqueda de datos vectoriales, SDK de búsqueda de datos vectoriales, marco de búsqueda de datos vectoriales, tecnología de búsqueda de datos vectoriales, empresa de búsqueda de datos vectoriales, startup de búsqueda de datos vectoriales",
      "keywords_pt": "chromadb, pesquisa vetorial, banco de dados vetorial, pesquisa de similaridade vetorial, dados vetoriais, gerenciamento de dados vetoriais, pesquisa de dados vetoriais, mecanismo de pesquisa de dados vetoriais, ferramenta de pesquisa de dados vetoriais, plataforma de pesquisa de dados vetoriais, software de pesquisa de dados vetoriais, serviço de pesquisa de dados vetoriais, biblioteca de pesquisa de dados vetoriais, sistema de pesquisa de dados vetoriais, solução de pesquisa de dados vetoriais, produto de pesquisa de dados vetoriais, aplicativo de pesquisa de dados vetoriais, API de pesquisa de dados vetoriais, SDK de pesquisa de dados vetoriais, estrutura de pesquisa de dados vetoriais, tecnologia de pesquisa de dados vetoriais, empresa de pesquisa de dados vetoriais, startup de pesquisa de dados vetoriais",
      "title_en": "ChromaDB",
      "title_es": "ChromaDB",
      "title_pt": "ChromaDB"
    }
  },
  "nbformat": 4,
  "nbformat_minor": 2
}
