{
 "cells": [
  {
   "cell_type": "markdown",
   "metadata": {},
   "source": [
    "# Git-sim"
   ]
  },
  {
   "cell_type": "markdown",
   "metadata": {},
   "source": [
    "Te da miedo hacer un `git rebase`? O un `git reset`? O cualquier otro comando de git? No te preoucupes, porque con `git-sim` vas a poder ver antes de hacerlo qué es lo que va a pasar para así tomar la decisión"
   ]
  },
  {
   "cell_type": "markdown",
   "metadata": {},
   "source": [
    "## Instalación\n",
    "\n",
    "Para instalar `git-sim` primero necesiamos instalar `manim`, que es una librería de python para hacer animaciones. Para ello lo podemos instalar con pip:\n",
    "\n",
    "```bash\n",
    "pip install manim\n",
    "```\n",
    "\n",
    "o con conda\n",
    "\n",
    "```bash\n",
    "conda install -c conda-forge manim\n",
    "```"
   ]
  },
  {
   "cell_type": "markdown",
   "metadata": {},
   "source": [
    "Una vez unstalado `manim` podemos instalar `git-sim` con pip:\n",
    "\n",
    "```bash\n",
    "pip install git-sim\n",
    "```"
   ]
  },
  {
   "cell_type": "markdown",
   "metadata": {},
   "source": [
    "## Uso"
   ]
  },
  {
   "cell_type": "markdown",
   "metadata": {},
   "source": [
    "Ahora que lo hemos instalado nos vamos a un repositorio y probamos cualquier comando de git cambiando `git` por `git-sim`. Por ejemplo, si en un repositorio mío hago un `git-sim reset --hard HEAD~1` me va a mostrar una animación de cómo quedaría el rebase antes de hacerlo.\n",
    "\n",
    "![git-sim](http://maximofn.com/wp-content/uploads/2024/03/git-sim-scaled.webp)\n",
    "\n",
    "Como podemos ver me está mostrando que si hago `git reset --hard HEAD~1` pasaría del commit `ae757a8` al commit `3754c64` y que además se eliminarían los cambios en los archivos indicados en `Changes deleted from`"
   ]
  }
 ],
 "metadata": {
  "kernelspec": {
   "display_name": "nlp",
   "language": "python",
   "name": "python3"
  },
  "language_info": {
   "codemirror_mode": {
    "name": "ipython",
    "version": 3
   },
   "file_extension": ".py",
   "mimetype": "text/x-python",
   "name": "python",
   "nbconvert_exporter": "python",
   "pygments_lexer": "ipython3",
   "version": "3.11.5"
  }
 },
 "nbformat": 4,
 "nbformat_minor": 2
}
