{
  "cells": [
    {
      "cell_type": "markdown",
      "metadata": {},
      "source": [
        "# Git-sim"
      ]
    },
    {
      "cell_type": "markdown",
      "metadata": {},
      "source": [
        "Te da miedo hacer un `git rebase`? O un `git reset`? O cualquier otro comando de git? No te preoucupes, porque con `git-sim` vas a poder ver antes de hacerlo qué es lo que va a pasar para así tomar la decisión"
      ]
    },
    {
      "cell_type": "markdown",
      "metadata": {},
      "source": [
        "## Instalación\n",
        "\n",
        "Para instalar `git-sim` primero necesitamos instalar `manim`, que es una librería de python para hacer animaciones. Para ello lo podemos instalar con pip:\n",
        "\n",
        "```bash\n",
        "pip install manim\n",
        "```\n",
        "\n",
        "o con Conda\n",
        "\n",
        "```bash\n",
        "conda install -c conda-forge manim\n",
        "```"
      ]
    },
    {
      "cell_type": "markdown",
      "metadata": {},
      "source": [
        "Una vez instalado `manim` podemos instalar `git-sim` con pip:\n",
        "\n",
        "```bash\n",
        "pip install git-sim\n",
        "```"
      ]
    },
    {
      "cell_type": "markdown",
      "metadata": {},
      "source": [
        "## Uso"
      ]
    },
    {
      "cell_type": "markdown",
      "metadata": {},
      "source": [
        "Ahora que lo hemos instalado nos vamos a un repositorio y probamos cualquier comando de git cambiando `git` por `git-sim`. Por ejemplo, si en un repositorio mío hago un `git-sim reset --hard HEAD~1` me va a mostrar una animación de cómo quedaría el **rebase** antes de hacerlo.\n",
        "\n",
        "![git-sim](https://pub-fb664c455eca46a2ba762a065ac900f7.r2.dev/git-sim-scaled.webp)\n",
        "\n",
        "Como podemos ver, me está mostrando que si hago `git reset --hard HEAD~1` pasaría del commit `ae757a8` al commit `3754c64` y que además se eliminarían los cambios en los archivos indicados en `Changes deleted from`"
      ]
    }
  ],
  "metadata": {
    "kernelspec": {
      "display_name": "nlp",
      "language": "python",
      "name": "python3"
    },
    "language_info": {
      "codemirror_mode": {
        "name": "ipython",
        "version": 3
      },
      "file_extension": ".py",
      "mimetype": "text/x-python",
      "name": "python",
      "nbconvert_exporter": "python",
      "pygments_lexer": "ipython3",
      "version": "3.11.5"
    },
    "maximofn": {
      "date": "2024-03-16",
      "description_en": "If you are afraid 😱 to use git commands, come in and learn how to test them easily and graphically with git-sim 😊",
      "description_es": "Si te da miedo 😱 usar comandos de git, entra y aprende cómo testearlos fácilmente y con gráficas con git-sim 😊",
      "description_pt": "Se você tem medo 😱 de usar os comandos do git, venha e aprenda a testá-los de forma fácil e gráfica com o git-sim 😊",
      "end_url": "git-sim",
      "image": "https://pub-fb664c455eca46a2ba762a065ac900f7.r2.dev/git-sim-shot.webp",
      "image_hover_path": "https://pub-fb664c455eca46a2ba762a065ac900f7.r2.dev/git-sim-shot.webp",
      "keywords_en": "git, git sim, git-sim, git commands, git rebase, git reset",
      "keywords_es": "git, git sim, git-sim, comandos de git, git rebase, git reset",
      "keywords_pt": "git, git sim, git-sim, comandos do git, git rebase, git reset",
      "title_en": "git-sim",
      "title_es": "git-sim",
      "title_pt": "git-sim"
    }
  },
  "nbformat": 4,
  "nbformat_minor": 2
}
