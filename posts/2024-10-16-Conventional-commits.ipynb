{
 "cells": [
  {
   "cell_type": "markdown",
   "metadata": {},
   "source": [
    "# Conventional commits"
   ]
  },
  {
   "cell_type": "markdown",
   "metadata": {},
   "source": [
    "Este post se ha creado a partir del [vídeo](https://www.youtube.com/watch?v=SigVVJmUGv8) de [Carlos Azaustre](https://x.com/carlosazaustre), solo que como él explica cómo hacer todo con herramientas de JavaScript, hay mucha gente desarrolladora de Python que no tiene instalado Node.js, por lo que he hecho una versión del mismo pero todo con herramientas de Python."
   ]
  },
  {
   "cell_type": "markdown",
   "metadata": {},
   "source": [
    "## ¿Qué son los conventional commits?"
   ]
  },
  {
   "cell_type": "markdown",
   "metadata": {},
   "source": [
    "**Conventional Commits** es una convención para escribir mensajes de commit en proyectos de desarrollo de software. La idea principal es estandarizar la forma en que se escriben los mensajes de commit, lo que facilita la comprensión del historial de cambios, la generación automática de notas de versión y la integración con herramientas de gestión de cambios y releases."
   ]
  },
  {
   "cell_type": "markdown",
   "metadata": {},
   "source": [
    "### Formato de los Mensajes de Commit"
   ]
  },
  {
   "cell_type": "markdown",
   "metadata": {},
   "source": [
    "Un mensaje de commit en Conventional Commits sigue un formato específico:\n",
    "\n",
    "``` git\n",
    "<type>[optional scope]: <description>\n",
    "\n",
    "[optional body]\n",
    "\n",
    "[optional footer(s)]\n",
    "```"
   ]
  },
  {
   "cell_type": "markdown",
   "metadata": {},
   "source": [
    "Vamos a verlo más detalladamente"
   ]
  },
  {
   "cell_type": "markdown",
   "metadata": {},
   "source": [
    "#### Tipo `type`"
   ]
  },
  {
   "cell_type": "markdown",
   "metadata": {},
   "source": [
    "El tipo de commit indica la naturaleza del cambio. Algunos tipos comunes son:\n",
    "\n",
    " * **fix**: Se utiliza para correcciones de bugs.\n",
    " * **feat**: Se utiliza para nuevas características.\n",
    " * **docs**: Se utiliza para cambios en la documentación.\n",
    " * **style**: Se utiliza para cambios que no afectan el significado del código (por ejemplo, formateo, eliminación de espacios en blanco).\n",
    " * **refactor**: Se utiliza para cambios de código que ni mejoran ni empeoran la funcionalidad, como reorganizar el código.\n",
    " * **perf**: Se utiliza para cambios que mejoran el rendimiento.\n",
    " * **test**: Se utiliza para agregar o actualizar pruebas.\n",
    " * **chore**: Se utiliza para cambios en el proceso o en las herramientas de desarrollo.\n",
    " * **ci**: Se utiliza para cambios en los archivos de configuración de integración continua.\n",
    " * **build**: Se utiliza para cambios que afectan el sistema de compilación o dependencias externas.\n",
    " * **revert**: Se utiliza para revertir un commit anterior."
   ]
  },
  {
   "cell_type": "markdown",
   "metadata": {},
   "source": [
    "#### Ámbito `scope`"
   ]
  },
  {
   "cell_type": "markdown",
   "metadata": {},
   "source": [
    "El ámbito es opcional y se utiliza para especificar la parte del proyecto que se modificó. Por ejemplo, si estás trabajando en un componente específico de una aplicación web, el ámbito podría ser el nombre del componente.\n",
    "\n",
    "Ejemplo:\n",
    "\n",
    "``` git\n",
    "fix(auth): fix authentication issue\n",
    "```"
   ]
  },
  {
   "cell_type": "markdown",
   "metadata": {},
   "source": [
    "#### Descripción `description`"
   ]
  },
  {
   "cell_type": "markdown",
   "metadata": {},
   "source": [
    "La descripción es una breve explicación del cambio. Debe ser concisa y clara, y proporcionar suficiente contexto para entender el propósito del commit.\n",
    "\n",
    "Ejemlo:\n",
    "\n",
    "``` git\n",
    "fix(auth): fix authentication error on login page\n",
    "```"
   ]
  },
  {
   "cell_type": "markdown",
   "metadata": {},
   "source": [
    "#### Cuerpo `body`"
   ]
  },
  {
   "cell_type": "markdown",
   "metadata": {},
   "source": [
    "El cuerpo es opcional y se utiliza para proporcionar más detalles sobre el cambio. Aquí puedes incluir motivaciones para el cambio y contrastes con la implementación anterior.\n",
    "\n",
    "Ejemplo:\n",
    "\n",
    "``` git\n",
    "fix(auth): fix authentication error on login page\n",
    "\n",
    "The access token was expiring earlier than expected due to an error in the expiration date calculation. It has been fixed by adjusting the calculation logic.\n",
    "```"
   ]
  },
  {
   "cell_type": "markdown",
   "metadata": {},
   "source": [
    "#### Pie de página `footer`"
   ]
  },
  {
   "cell_type": "markdown",
   "metadata": {},
   "source": [
    "El pie de página es opcional y se utiliza para referencias adicionales, como números de issues cerrados o commits relacionados.\n",
    "\n",
    "Ejemplo:\n",
    "\n",
    "``` git\n",
    "fix(auth): fix authentication error on login page\n",
    "\n",
    "The access token was expiring earlier than expected due to an error in the expiration date calculation. It has been fixed by adjusting the calculation logic.\n",
    "\n",
    "Closes #123\n",
    "```"
   ]
  },
  {
   "cell_type": "markdown",
   "metadata": {},
   "source": [
    "### Beneficios de los Conventional Commits"
   ]
  },
  {
   "cell_type": "markdown",
   "metadata": {},
   "source": [
    " * **Claridad y Consistencia**: Los mensajes de commit estandarizados son más fáciles de entender y seguirlos, lo que mejora la colaboración en equipos de desarrollo.\n",
    " * **Generación Automática de Notas de Versión**: Se pueden usar herramientas para generar notas de versión automáticamente basándose en los mensajes de commit.\n",
    " * **Integración con Herramientas de Gestión de Cambios**: Muchas herramientas de desarrollo y gestión de proyectos pueden integrarse con Conventional Commits para automatizar tareas como la generación de changelogs y la gestión de releases.\n",
    " * **Historial de Cambios Estructurado**: El historial de cambios se vuelve más estructurado y fácil de navegar, lo que facilita la revisión de cambios y la depuración de problemas."
   ]
  },
  {
   "cell_type": "markdown",
   "metadata": {},
   "source": [
    "### Ejemplos prácticos"
   ]
  },
  {
   "cell_type": "markdown",
   "metadata": {},
   "source": [
    "Ejemplo 1: Corrección de un Bug\n",
    "\n",
    "``` git\n",
    "fix(api): fix error in user validation\n",
    "\n",
    "The user registration endpoint was allowing registrations with invalid email addresses. An additional validation has been added to ensure that email addresses are valid.\n",
    "\n",
    "Closes #456\n",
    "```"
   ]
  },
  {
   "cell_type": "markdown",
   "metadata": {},
   "source": [
    "Ejemplo 2: Añadir una Nueva Característica\n",
    "\n",
    "``` git\n",
    "feat(api): add password recovery endpoint\n",
    "\n",
    "Implemented a new endpoint that allows users to request a password recovery link. The link is sent to their registered email address.\n",
    "\n",
    "Closes #789\n",
    "```"
   ]
  },
  {
   "cell_type": "markdown",
   "metadata": {},
   "source": [
    "Ejemplo 3: Mejora de la Documentación\n",
    "\n",
    "``` git\n",
    "docs: update contribution guide\n",
    "\n",
    "Updated the setup instructions for the development environment and added a section on running tests.\n",
    "\n",
    "Closes #101\n",
    "```"
   ]
  },
  {
   "cell_type": "markdown",
   "metadata": {},
   "source": [
    "## Herramientas para para construir mensajes que cumplan conventional commits"
   ]
  },
  {
   "cell_type": "markdown",
   "metadata": {},
   "source": [
    "Aunque hemos visto cómo crear mensajes d commit mediante conventional commits, es bastante posible que nos equivoquemos, por lo que podemos usar herramientas que nos guien en la creación de estos mensajes. Vamos a ver dos `commitizen` y el plugin `Conventionnal Commit` de vscode."
   ]
  },
  {
   "cell_type": "markdown",
   "metadata": {},
   "source": [
    "### Commitizen"
   ]
  },
  {
   "cell_type": "markdown",
   "metadata": {},
   "source": [
    "Para usarla, primero voy a crear una carpeta nueva en la que voy a iniciar un repositorio de git"
   ]
  },
  {
   "cell_type": "markdown",
   "metadata": {},
   "source": []
  },
  {
   "cell_type": "code",
   "execution_count": 1,
   "metadata": {},
   "outputs": [
    {
     "name": "stdout",
     "output_type": "stream",
     "text": [
      "\u001b[33mhint: Using 'master' as the name for the initial branch. This default branch name\u001b[m\n",
      "\u001b[33mhint: is subject to change. To configure the initial branch name to use in all\u001b[m\n",
      "\u001b[33mhint: of your new repositories, which will suppress this warning, call:\u001b[m\n",
      "\u001b[33mhint: \u001b[m\n",
      "\u001b[33mhint: \tgit config --global init.defaultBranch <name>\u001b[m\n",
      "\u001b[33mhint: \u001b[m\n",
      "\u001b[33mhint: Names commonly chosen instead of 'master' are 'main', 'trunk' and\u001b[m\n",
      "\u001b[33mhint: 'development'. The just-created branch can be renamed via this command:\u001b[m\n",
      "\u001b[33mhint: \u001b[m\n",
      "\u001b[33mhint: \tgit branch -m <name>\u001b[m\n",
      "Initialized empty Git repository in /home/maximofernandez/comitizen_folder/.git/\n"
     ]
    }
   ],
   "source": [
    "!mkdir ~/comitizen_folder && cd ~/comitizen_folder && git init"
   ]
  },
  {
   "cell_type": "markdown",
   "metadata": {},
   "source": [
    "Ahora instalo `commitizen`"
   ]
  },
  {
   "cell_type": "code",
   "execution_count": 1,
   "metadata": {},
   "outputs": [
    {
     "name": "stdout",
     "output_type": "stream",
     "text": [
      "Collecting commitizen\n",
      "  Downloading commitizen-3.29.1-py3-none-any.whl.metadata (7.6 kB)\n",
      "Collecting argcomplete<3.6,>=1.12.1 (from commitizen)\n",
      "  Downloading argcomplete-3.5.1-py3-none-any.whl.metadata (16 kB)\n",
      "Requirement already satisfied: charset-normalizer<4,>=2.1.0 in /home/maximofernandez/miniforge3/lib/python3.12/site-packages (from commitizen) (3.3.2)\n",
      "Requirement already satisfied: colorama<0.5.0,>=0.4.1 in /home/maximofernandez/miniforge3/lib/python3.12/site-packages (from commitizen) (0.4.6)\n",
      "Collecting decli<0.7.0,>=0.6.0 (from commitizen)\n",
      "  Downloading decli-0.6.2-py3-none-any.whl.metadata (17 kB)\n",
      "Requirement already satisfied: jinja2>=2.10.3 in /home/maximofernandez/miniforge3/lib/python3.12/site-packages (from commitizen) (3.1.4)\n",
      "Requirement already satisfied: packaging>=19 in /home/maximofernandez/.local/lib/python3.12/site-packages (from commitizen) (24.1)\n",
      "Requirement already satisfied: pyyaml>=3.08 in /home/maximofernandez/miniforge3/lib/python3.12/site-packages (from commitizen) (6.0.2)\n",
      "Collecting questionary<3.0,>=2.0 (from commitizen)\n",
      "  Downloading questionary-2.0.1-py3-none-any.whl.metadata (5.4 kB)\n",
      "Collecting termcolor<3,>=1.1 (from commitizen)\n",
      "  Downloading termcolor-2.5.0-py3-none-any.whl.metadata (6.1 kB)\n",
      "Collecting tomlkit<1.0.0,>=0.5.3 (from commitizen)\n",
      "  Downloading tomlkit-0.13.2-py3-none-any.whl.metadata (2.7 kB)\n",
      "Requirement already satisfied: MarkupSafe>=2.0 in /home/maximofernandez/miniforge3/lib/python3.12/site-packages (from jinja2>=2.10.3->commitizen) (2.1.5)\n",
      "Collecting prompt_toolkit<=3.0.36,>=2.0 (from questionary<3.0,>=2.0->commitizen)\n",
      "  Downloading prompt_toolkit-3.0.36-py3-none-any.whl.metadata (7.0 kB)\n",
      "Requirement already satisfied: wcwidth in /home/maximofernandez/miniforge3/lib/python3.12/site-packages (from prompt_toolkit<=3.0.36,>=2.0->questionary<3.0,>=2.0->commitizen) (0.2.13)\n",
      "Downloading commitizen-3.29.1-py3-none-any.whl (71 kB)\n",
      "Downloading argcomplete-3.5.1-py3-none-any.whl (43 kB)\n",
      "Downloading decli-0.6.2-py3-none-any.whl (7.9 kB)\n",
      "Downloading questionary-2.0.1-py3-none-any.whl (34 kB)\n",
      "Downloading termcolor-2.5.0-py3-none-any.whl (7.8 kB)\n",
      "Downloading tomlkit-0.13.2-py3-none-any.whl (37 kB)\n",
      "Downloading prompt_toolkit-3.0.36-py3-none-any.whl (386 kB)\n",
      "Installing collected packages: tomlkit, termcolor, prompt_toolkit, decli, argcomplete, questionary, commitizen\n",
      "\u001b[31mERROR: pip's dependency resolver does not currently take into account all the packages that are installed. This behaviour is the source of the following dependency conflicts.\n",
      "ipython 8.27.0 requires prompt-toolkit<3.1.0,>=3.0.41, but you have prompt-toolkit 3.0.36 which is incompatible.\u001b[0m\u001b[31m\n",
      "\u001b[0mSuccessfully installed argcomplete-3.5.1 commitizen-3.29.1 decli-0.6.2 prompt_toolkit-3.0.36 questionary-2.0.1 termcolor-2.5.0 tomlkit-0.13.2\n",
      "Note: you may need to restart the kernel to use updated packages.\n"
     ]
    }
   ],
   "source": [
    "%pip install --user -U commitizen"
   ]
  },
  {
   "cell_type": "markdown",
   "metadata": {},
   "source": [
    "Verificamos la instalación"
   ]
  },
  {
   "cell_type": "code",
   "execution_count": 6,
   "metadata": {},
   "outputs": [
    {
     "name": "stdout",
     "output_type": "stream",
     "text": [
      "3.29.1\n",
      "\u001b[0m"
     ]
    }
   ],
   "source": [
    "!cz version"
   ]
  },
  {
   "cell_type": "markdown",
   "metadata": {},
   "source": [
    "Creo un nuevo archivo en la carpeta en la que he inicializado el repositorio de git y lo añado al area de staging"
   ]
  },
  {
   "cell_type": "code",
   "execution_count": 7,
   "metadata": {},
   "outputs": [],
   "source": [
    "!cd ~/comitizen_folder && touch README.md && git add README.md"
   ]
  },
  {
   "cell_type": "markdown",
   "metadata": {},
   "source": [
    "Si hago `git satatus` veré que el archivo está en el área de staging y que ahora debería hacer un commit"
   ]
  },
  {
   "cell_type": "code",
   "execution_count": 8,
   "metadata": {},
   "outputs": [
    {
     "name": "stdout",
     "output_type": "stream",
     "text": [
      "On branch master\n",
      "\n",
      "No commits yet\n",
      "\n",
      "Changes to be committed:\n",
      "  (use \"git rm --cached <file>...\" to unstage)\n",
      "\t\u001b[32mnew file:   README.md\u001b[m\n",
      "\n"
     ]
    }
   ],
   "source": [
    "!cd ~/comitizen_folder && git status"
   ]
  },
  {
   "cell_type": "markdown",
   "metadata": {},
   "source": [
    "Es hora de crear un commit con `commitizen`, para ello ejecutamos `cz commit` y nos aparecerá un asistente para crear el commit"
   ]
  },
  {
   "cell_type": "code",
   "execution_count": 9,
   "metadata": {},
   "outputs": [
    {
     "name": "stdout",
     "output_type": "stream",
     "text": [
      "? Select the type of change you are committing docs: Documentation only changes\n",
      "? What is the scope of this change? (class or file name): (press [enter] to skip)\n",
      " readme\n",
      "? Write a short and imperative summary of the code changes: (lower case and no period)\n",
      " First innit, create readme\n",
      "? Provide additional contextual information about the code changes: (press [enter] to skip)\n",
      " This is the first commit, I create a empty readme\n",
      "? Is this a BREAKING CHANGE? Correlates with MAJOR in SemVer No\n",
      "? Footer. Information about Breaking Changes and reference issues that this commit closes: (press [enter] to skip)\n",
      "\n",
      "\n",
      "docs(readme): First innit, create readme\n",
      "\n",
      "This is the first commit, I create a empty readme\n",
      "\n",
      "\n",
      "[master (root-commit) 4f646d4] docs(readme): First innit, create readme\n",
      " 1 file changed, 0 insertions(+), 0 deletions(-)\n",
      " create mode 100644 README.md\n",
      "\n",
      "Commit successful!"
     ]
    }
   ],
   "source": [
    "!cd ~/comitizen_folder && cz commit"
   ]
  },
  {
   "cell_type": "markdown",
   "metadata": {},
   "source": [
    "Listo, ya tenemos nuestro primer commit creado con `commitizen` que sigue las reglas de `conventional commits`"
   ]
  },
  {
   "cell_type": "markdown",
   "metadata": {},
   "source": [
    "### Plugin Conventional Commit de vscode"
   ]
  },
  {
   "cell_type": "markdown",
   "metadata": {},
   "source": [
    "Ahora vamos a hacer lo mismo solo que con el plugin de vscode [Conventional Commit](https://marketplace.visualstudio.com/items?itemName=vivaxy.vscode-conventional-commits)"
   ]
  },
  {
   "cell_type": "markdown",
   "metadata": {},
   "source": [
    "Primero hay que instalar el plugin y una vez esté instalado pulsamos `Ctrl + Shift + P` y escribimos `Conventional Commit`, le damos a `enter` y nos aparecerá un asistente para crear el commit"
   ]
  },
  {
   "cell_type": "markdown",
   "metadata": {},
   "source": [
    "Para mi el uso de este plugin tiene dos ventajas sobre `commitizen`\n",
    "\n",
    " * La primera es que nos permite añadir emogis de [gitmoji](https://gitmoji.dev/). Lo cual, si no se abusan de los emogis y se usan unos pocos, hace que al ver el historial de commits sea más fácil identificar el tipo de commit\n",
    " * La segunda es que guarda los ámbitos `scope`s que has usado, por lo que hace que no se creen nuevos ámbitos si no que se reutilicen los que ya has usado"
   ]
  },
  {
   "cell_type": "markdown",
   "metadata": {},
   "source": [
    "## Herramientas para para comprobar que se sigue la convención de conventional commits"
   ]
  },
  {
   "cell_type": "markdown",
   "metadata": {},
   "source": [
    "Hemos visto cómo crear mensajes de commit que sigan la convención de `conventional commits`, pero una buena práctica es crear una herramienta para comprobar que el commit creado sigue la convención, sobre todo cuando se trabaja en equipo.\n",
    "\n",
    "Hay herramientas que nos permiten hacer esto como `pre-commit` pero lo que hacen es modificar los hooks de git, así que vamos a hacerlo nosotros y a usar `commitizen` para que nos ayude a validar el mensaje de commit."
   ]
  },
  {
   "cell_type": "markdown",
   "metadata": {},
   "source": [
    "Ya hemos instalado `commitizen`, así que vamos a ver cómo se puede usar para comprobar un mensaje de commit"
   ]
  },
  {
   "cell_type": "markdown",
   "metadata": {},
   "source": [
    "Primero creamos un archivo llamado `commit-msg` en la carpeta `.git/hooks` y le damos permisos de ejecución. Dentro de los hooks de git hay [varios tipos de archivos](https://git-scm.com/docs/githooks#_hooks) que se pueden usar para diferentes tareas, en este caso vamos a usar `commit-msg` que se ejecuta justo antes de que se cree el commit."
   ]
  },
  {
   "cell_type": "code",
   "execution_count": 11,
   "metadata": {},
   "outputs": [],
   "source": [
    "!cd ~/comitizen_folder/.git/hooks && touch commit-msg && chmod +x commit-msg"
   ]
  },
  {
   "cell_type": "markdown",
   "metadata": {},
   "source": [
    "Ahora añadimos el siguiente código al archivo `commit-msg`\n",
    "\n",
    "``` bash\n",
    "#!/bin/sh\n",
    "# Este script valida el mensaje del commit usando commitizen\n",
    "\n",
    "COMMIT_MSG_FILE=$1\n",
    "cz check --commit-msg-file $COMMIT_MSG_FILE\n",
    "```"
   ]
  },
  {
   "cell_type": "code",
   "execution_count": 16,
   "metadata": {},
   "outputs": [],
   "source": [
    "!cd ~/comitizen_folder/.git/hooks && \\\n",
    "echo '#!/bin/sh' > commit-msg && \\\n",
    "echo '# Este script valida el mensaje del commit usando commitizen' >> commit-msg && \\\n",
    "echo ' ' >> commit-msg && \\\n",
    "echo 'COMMIT_MSG_FILE=$1' >> commit-msg && \\\n",
    "echo 'cz check --commit-msg-file $COMMIT_MSG_FILE' >> commit-msg"
   ]
  },
  {
   "cell_type": "markdown",
   "metadata": {},
   "source": [
    "Una vez hecho probamos a hacer un commit con un mensaje incorrecto. Primero modificamos el readme y lo añaadimos al área de staging"
   ]
  },
  {
   "cell_type": "code",
   "execution_count": 18,
   "metadata": {},
   "outputs": [],
   "source": [
    "!cd ~/comitizen_folder && echo '.' >> README.md && git add README.md"
   ]
  },
  {
   "cell_type": "markdown",
   "metadata": {},
   "source": [
    "Ahora hacemos un commit con un mensaje incorrecto"
   ]
  },
  {
   "cell_type": "code",
   "execution_count": 20,
   "metadata": {},
   "outputs": [
    {
     "name": "stdout",
     "output_type": "stream",
     "text": [
      "\u001b[31mcommit validation: failed!\n",
      "please enter a commit message in the commitizen format.\n",
      "commit \"\": \"Add dot to README\"\n",
      "pattern: (?s)(build|ci|docs|feat|fix|perf|refactor|style|test|chore|revert|bump)(\\(\\S+\\))?!?:( [^\\n\\r]+)((\\n\\n.*)|(\\s*))?$\u001b[0m\n",
      "\u001b[0m"
     ]
    }
   ],
   "source": [
    "!cd ~/comitizen_folder && git commit -m \"Add dot to README\""
   ]
  },
  {
   "cell_type": "markdown",
   "metadata": {},
   "source": [
    "Ahora hacemos un commit con un mensaje correcto"
   ]
  },
  {
   "cell_type": "code",
   "execution_count": 21,
   "metadata": {},
   "outputs": [
    {
     "name": "stdout",
     "output_type": "stream",
     "text": [
      "\u001b[32mCommit validation: successful!\u001b[0m\n",
      "\u001b[0m[master d488656] docs(readme): :memo: Add dot to README\n",
      " 1 file changed, 1 insertion(+), 1 deletion(-)\n"
     ]
    }
   ],
   "source": [
    "!cd ~/comitizen_folder && git commit -m \"docs(readme): :memo: Add dot to README\""
   ]
  },
  {
   "cell_type": "markdown",
   "metadata": {},
   "source": [
    "Nos ha validado el commit correctamente por lo que si miramos el historial de commits veremos que el commit con el mensaje incorrecto no se ha creado y el commit con el mensaje correcto sí"
   ]
  },
  {
   "cell_type": "code",
   "execution_count": 22,
   "metadata": {},
   "outputs": [
    {
     "name": "stdout",
     "output_type": "stream",
     "text": [
      "\u001b[33mcommit d488656297c7cb448a25dd33a008cb5ce1e14e83\u001b[m\u001b[33m (\u001b[m\u001b[1;36mHEAD\u001b[m\u001b[33m -> \u001b[m\u001b[1;32mmaster\u001b[m\u001b[33m)\u001b[m\n",
      "Author: MaximoFN <maximofn@gmail.com>\n",
      "Date:   Tue Oct 8 11:22:19 2024 +0200\n",
      "\n",
      "    docs(readme): :memo: Add dot to README\n",
      "\n",
      "\u001b[33mcommit fb518c2b903a259b2e44972e88aabf5656f97be9\u001b[m\n",
      "Author: MaximoFN <maximofn@gmail.com>\n",
      "Date:   Tue Oct 8 10:57:41 2024 +0200\n",
      "\n",
      "    docs(readme): :memo: Update readme\n",
      "    \n",
      "    Update readme with text conventional commits\n",
      "\n",
      "\u001b[33mcommit 4f646d45047a45b549243efbfde9e331d45e23f1\u001b[m\n",
      "Author: MaximoFN <maximofn@gmail.com>\n",
      "Date:   Tue Oct 8 10:48:07 2024 +0200\n",
      "\n",
      "    docs(readme): First innit, create readme\n",
      "    \n",
      "    This is the first commit, I create a empty readme\n"
     ]
    }
   ],
   "source": [
    "!cd ~/comitizen_folder && git log"
   ]
  },
  {
   "cell_type": "markdown",
   "metadata": {},
   "source": [
    "## Herramientas para crear changelogs a partir de conventional commits"
   ]
  },
  {
   "cell_type": "markdown",
   "metadata": {},
   "source": [
    "Como tenemos los commits escritos mediante el mismo convenio, podemos crear changelog automáticamente con `git-changelog`. Instalamos las dependencias"
   ]
  },
  {
   "cell_type": "code",
   "execution_count": 25,
   "metadata": {},
   "outputs": [
    {
     "name": "stdout",
     "output_type": "stream",
     "text": [
      "Collecting git-changelog\n",
      "  Downloading git_changelog-2.5.2-py3-none-any.whl.metadata (5.4 kB)\n",
      "Collecting appdirs>=1.4 (from git-changelog)\n",
      "  Downloading appdirs-1.4.4-py2.py3-none-any.whl.metadata (9.0 kB)\n",
      "Requirement already satisfied: Jinja2>=2.10 in /home/maximofernandez/miniforge3/lib/python3.12/site-packages (from git-changelog) (3.1.4)\n",
      "Requirement already satisfied: packaging>=24.0 in /home/maximofernandez/.local/lib/python3.12/site-packages (from git-changelog) (24.1)\n",
      "Collecting semver>=2.13 (from git-changelog)\n",
      "  Downloading semver-3.0.2-py3-none-any.whl.metadata (5.0 kB)\n",
      "Requirement already satisfied: MarkupSafe>=2.0 in /home/maximofernandez/miniforge3/lib/python3.12/site-packages (from Jinja2>=2.10->git-changelog) (2.1.5)\n",
      "Downloading git_changelog-2.5.2-py3-none-any.whl (32 kB)\n",
      "Downloading appdirs-1.4.4-py2.py3-none-any.whl (9.6 kB)\n",
      "Downloading semver-3.0.2-py3-none-any.whl (17 kB)\n",
      "Installing collected packages: appdirs, semver, git-changelog\n",
      "Successfully installed appdirs-1.4.4 git-changelog-2.5.2 semver-3.0.2\n",
      "Note: you may need to restart the kernel to use updated packages.\n"
     ]
    }
   ],
   "source": [
    "%pip install git-changelog"
   ]
  },
  {
   "cell_type": "markdown",
   "metadata": {},
   "source": [
    "Ahora podemos crear un changelog con `git-changelog`. Como hemos creado unos commits muy simples, el changelog será muy simple"
   ]
  },
  {
   "cell_type": "code",
   "execution_count": 26,
   "metadata": {},
   "outputs": [
    {
     "name": "stdout",
     "output_type": "stream",
     "text": [
      "# Changelog\n",
      "\n",
      "All notable changes to this project will be documented in this file.\n",
      "\n",
      "The format is based on [Keep a Changelog](http://keepachangelog.com/en/1.0.0/)\n",
      "and this project adheres to [Semantic Versioning](http://semver.org/spec/v2.0.0.html).\n",
      "\n",
      "<!-- insertion marker -->\n",
      "## Unreleased\n",
      "\n",
      "<small>[Compare with latest]()</small>\n",
      "\n",
      "<!-- insertion marker -->\n"
     ]
    }
   ],
   "source": [
    "!cd ~/comitizen_folder && git-changelog"
   ]
  },
  {
   "cell_type": "markdown",
   "metadata": {},
   "source": [
    "Nos genera un changelog en formato markdown que podemos añadir a nuestro proyecto. También podems pedirle que lo escriba en un archivo y muchas más opciones"
   ]
  },
  {
   "cell_type": "code",
   "execution_count": 27,
   "metadata": {},
   "outputs": [
    {
     "name": "stdout",
     "output_type": "stream",
     "text": [
      "usage: git-changelog [--config-file [PATH ...]] [-b] [-B VERSION] [-n SCHEME]\n",
      "                     [-h] [-i] [-g REGEX] [-m MARKER] [-o FILE] [-p PROVIDER]\n",
      "                     [-r] [-R] [-I FILE] [-c CONVENTION] [-s SECTIONS]\n",
      "                     [-t TEMPLATE] [-T] [-E] [-Z] [-F RANGE] [-j KEY=VALUE]\n",
      "                     [-V] [--debug-info]\n",
      "                     [REPOSITORY]\n",
      "\n",
      "Automatic Changelog generator using Jinja2 templates.\n",
      "\n",
      "This tool parses your commit messages to extract useful data\n",
      "that is then rendered using Jinja2 templates, for example to\n",
      "a changelog file formatted in Markdown.\n",
      "\n",
      "Each Git tag will be treated as a version of your project.\n",
      "Each version contains a set of commits, and will be an entry\n",
      "in your changelog. Commits in each version will be grouped\n",
      "by sections, depending on the commit convention you follow.\n",
      "\n",
      "### Conventions\n",
      "\n",
      "#### Basic\n",
      "\n",
      "*Default sections:*\n",
      "\n",
      "- add: Added\n",
      "- fix: Fixed\n",
      "- change: Changed\n",
      "- remove: Removed\n",
      "\n",
      "*Additional sections:*\n",
      "\n",
      "- merge: Merged\n",
      "- doc: Documented\n",
      "\n",
      "#### Angular\n",
      "\n",
      "*Default sections:*\n",
      "\n",
      "- feat: Features\n",
      "- fix: Bug Fixes\n",
      "- revert: Reverts\n",
      "- ref, refactor: Code Refactoring\n",
      "- perf: Performance Improvements\n",
      "\n",
      "*Additional sections:*\n",
      "\n",
      "- build: Build\n",
      "- chore: Chore\n",
      "- ci: Continuous Integration\n",
      "- deps: Dependencies\n",
      "- doc, docs: Docs\n",
      "- style: Style\n",
      "- test, tests: Tests\n",
      "\n",
      "#### ConventionalCommit\n",
      "\n",
      "*Default sections:*\n",
      "\n",
      "- feat: Features\n",
      "- fix: Bug Fixes\n",
      "- revert: Reverts\n",
      "- ref, refactor: Code Refactoring\n",
      "- perf: Performance Improvements\n",
      "\n",
      "*Additional sections:*\n",
      "\n",
      "- build: Build\n",
      "- chore: Chore\n",
      "- ci: Continuous Integration\n",
      "- deps: Dependencies\n",
      "- doc, docs: Docs\n",
      "- style: Style\n",
      "- test, tests: Tests\n",
      "\n",
      "positional arguments:\n",
      "  REPOSITORY            The repository path, relative or absolute. Default:\n",
      "                        current working directory.\n",
      "\n",
      "options:\n",
      "  --config-file [PATH ...]\n",
      "                        Configuration file(s).\n",
      "  -b, --bump-latest     Deprecated, use --bump=auto instead. Guess the new\n",
      "                        latest version by bumping the previous one based on\n",
      "                        the set of unreleased commits. For example, if a\n",
      "                        commit contains breaking changes, bump the major\n",
      "                        number (or the minor number for 0.x versions). Else if\n",
      "                        there are new features, bump the minor number. Else\n",
      "                        just bump the patch number. Default: unset (false).\n",
      "  -B VERSION, --bump VERSION\n",
      "                        Specify the bump from latest version for the set of\n",
      "                        unreleased commits. Can be one of `auto`, `major`,\n",
      "                        `minor`, `patch` or a valid SemVer version (eg.\n",
      "                        1.2.3). For both SemVer and PEP 440 versioning schemes\n",
      "                        (see -n), `auto` will bump the major number if a\n",
      "                        commit contains breaking changes (or the minor number\n",
      "                        for 0.x versions, see -Z), else the minor number if\n",
      "                        there are new features, else the patch number.\n",
      "                        Default: unset (false).\n",
      "  -n SCHEME, --versioning SCHEME\n",
      "                        Versioning scheme to use when bumping and comparing\n",
      "                        versions. The selected scheme will impact the values\n",
      "                        accepted by the `--bump` option. Supported: `pep440`,\n",
      "                        `semver`. PEP 440 provides the following bump\n",
      "                        strategies: `auto`, `epoch`, `release`, `major`,\n",
      "                        `minor`, `micro`, `patch`, `pre`, `alpha`, `beta`,\n",
      "                        `candidate`, `post`, `dev`. Values `auto`, `major`,\n",
      "                        `minor`, `micro` can be suffixed with one of `+alpha`,\n",
      "                        `+beta`, `+candidate`, and/or `+dev`. Values `alpha`,\n",
      "                        `beta` and `candidate` can be suffixed with `+dev`.\n",
      "                        Examples: `auto+alpha`, `major+beta+dev`, `micro+dev`,\n",
      "                        `candidate+dev`, etc.. SemVer provides the following\n",
      "                        bump strategies: `auto`, `major`, `minor`, `patch`,\n",
      "                        `release`. See the docs for more information. Default:\n",
      "                        unset (`semver`).\n",
      "  -h, --help            Show this help message and exit.\n",
      "  -i, --in-place        Insert new entries (versions missing from changelog)\n",
      "                        in-place. An output file must be specified. With\n",
      "                        custom templates, you can pass two additional\n",
      "                        arguments: `--version-regex` and `--marker-line`. When\n",
      "                        writing in-place, an `in_place` variable will be\n",
      "                        injected in the Jinja context, allowing to adapt the\n",
      "                        generated contents (for example to skip changelog\n",
      "                        headers or footers). Default: unset (false).\n",
      "  -g REGEX, --version-regex REGEX\n",
      "                        A regular expression to match versions in the existing\n",
      "                        changelog (used to find the latest release) when\n",
      "                        writing in-place. The regular expression must be a\n",
      "                        Python regex with a `version` named group. Default:\n",
      "                        `^## \\[(?P<version>v?[^\\]]+)`.\n",
      "  -m MARKER, --marker-line MARKER\n",
      "                        A marker line at which to insert new entries (versions\n",
      "                        missing from changelog). If two marker lines are\n",
      "                        present in the changelog, the contents between those\n",
      "                        two lines will be overwritten (useful to update an\n",
      "                        'Unreleased' entry for example). Default: `<!--\n",
      "                        insertion marker -->`.\n",
      "  -o FILE, --output FILE\n",
      "                        Output to given file. Default: standard output.\n",
      "  -p PROVIDER, --provider PROVIDER\n",
      "                        Explicitly specify the repository provider. Default:\n",
      "                        unset.\n",
      "  -r, --parse-refs      Parse provider-specific references in commit messages\n",
      "                        (GitHub/GitLab/Bitbucket issues, PRs, etc.). Default:\n",
      "                        unset (false).\n",
      "  -R, --release-notes   Output release notes to stdout based on the last entry\n",
      "                        in the changelog. Default: unset (false).\n",
      "  -I FILE, --input FILE\n",
      "                        Read from given file when creating release notes.\n",
      "                        Default: `CHANGELOG.md`.\n",
      "  -c CONVENTION, --convention CONVENTION, --commit-style CONVENTION, --style CONVENTION\n",
      "                        The commit convention to match against. Default:\n",
      "                        `basic`.\n",
      "  -s SECTIONS, --sections SECTIONS\n",
      "                        A comma-separated list of sections to render. See the\n",
      "                        available sections for each supported convention in\n",
      "                        the description. Default: unset (None).\n",
      "  -t TEMPLATE, --template TEMPLATE\n",
      "                        The Jinja2 template to use. Prefix it with `path:` to\n",
      "                        specify the path to a Jinja templated file. Default:\n",
      "                        `keepachangelog`.\n",
      "  -T, --trailers, --git-trailers\n",
      "                        Parse Git trailers in the commit message. See\n",
      "                        https://git-scm.com/docs/git-interpret-trailers.\n",
      "                        Default: unset (false).\n",
      "  -E, --omit-empty-versions\n",
      "                        Omit empty versions from the output. Default: unset\n",
      "                        (false).\n",
      "  -Z, --no-zerover      By default, breaking changes on a 0.x don't bump the\n",
      "                        major version, maintaining it at 0. With this option,\n",
      "                        a breaking change will bump a 0.x version to 1.0.\n",
      "  -F RANGE, --filter-commits RANGE\n",
      "                        The Git revision-range filter to use (e.g.\n",
      "                        `v1.2.0..`). Default: no filter.\n",
      "  -j KEY=VALUE, --jinja-context KEY=VALUE\n",
      "                        Pass additional key/value pairs to the template.\n",
      "                        Option can be used multiple times. The key/value pairs\n",
      "                        are accessible as 'jinja_context' in the template.\n",
      "  -V, --version         Show the current version of the program and exit.\n",
      "  --debug-info          Print debug information.\n"
     ]
    }
   ],
   "source": [
    "!git-changelog -h"
   ]
  },
  {
   "cell_type": "markdown",
   "metadata": {},
   "source": [
    "Ya podríamos generar changelogs fácilmente a partir de los commits que siguen la convención de `conventional commits`. Además podemos añadirlo a un pipeline de CI/CD para que se genere automáticamente en cada release."
   ]
  }
 ],
 "metadata": {
  "kernelspec": {
   "display_name": "base",
   "language": "python",
   "name": "python3"
  },
  "language_info": {
   "codemirror_mode": {
    "name": "ipython",
    "version": 3
   },
   "file_extension": ".py",
   "mimetype": "text/x-python",
   "name": "python",
   "nbconvert_exporter": "python",
   "pygments_lexer": "ipython3",
   "version": "3.12.5"
  }
 },
 "nbformat": 4,
 "nbformat_minor": 2
}
