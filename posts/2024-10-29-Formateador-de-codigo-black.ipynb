{
 "cells": [
  {
   "cell_type": "markdown",
   "metadata": {},
   "source": [
    "# Formateador de código Black"
   ]
  },
  {
   "cell_type": "markdown",
   "metadata": {},
   "source": [
    "Si llevas un tiempo porgramando en Python supongo que conocerás el [PEP8](https://peps.python.org/pep-0008/), que es una guía de estilo para la escritura de código en Python, [Black](https://black.readthedocs.io/en/stable/)"
   ]
  },
  {
   "cell_type": "markdown",
   "metadata": {},
   "source": [
    "Pues hoy traigo un formateador de código Python que sigue el `PEP8` de manera que tus códigos sean más legibles y mantenibles tanto por otros como para tu yo del futuro"
   ]
  },
  {
   "cell_type": "markdown",
   "metadata": {},
   "source": [
    "## Instalación"
   ]
  },
  {
   "cell_type": "markdown",
   "metadata": {},
   "source": [
    "Para instalarlo podemos instalarlo con conda\n",
    "\n",
    "```bash\n",
    "conda install conda-forge::black\n",
    "```\n",
    "\n",
    "o con pip\n",
    "\n",
    "```bash\n",
    "pip install black\n",
    "```"
   ]
  },
  {
   "cell_type": "markdown",
   "metadata": {},
   "source": [
    "## Código de ejemplo"
   ]
  },
  {
   "cell_type": "markdown",
   "metadata": {},
   "source": [
    "Voy a crear un archivo llamado `sample_code.py` con el siguiente código\n",
    "\n",
    "```python\n",
    "class myClass:\n",
    "    def display_info(self, name, subname, age, description, address, city, zip_code, country, phone, email, license, departament):\n",
    "        return f\"Name : {name}, Subname : {subname}, Age : {age}, Description : {description}, Address : {address}, City : {city}, Zip Code : {zip_code}, Country : {country}, Phone : {phone}, Email : {email}, License : {license}, Departament : {departament}\"\n",
    "    \n",
    "    def add_numbers(num1,\n",
    "                    num2):\n",
    "        return num1 + num2\n",
    "    \n",
    "    text = \"This is some text\"\n",
    "\n",
    "    letters = (\n",
    "        \"alpha\",\n",
    "        \"beta\",\n",
    "        \"gamma\",\n",
    "        \"delta\",\n",
    "        \"epsilon\",\n",
    "        \"zeta\",\n",
    "        \"eta\",\n",
    "        \"theta\",\n",
    "        \"iota\",\n",
    "        \"kappa\",\n",
    "    )\n",
    "```"
   ]
  },
  {
   "cell_type": "markdown",
   "metadata": {},
   "source": [
    "Como vemos tiene las dos primera líneas muy largas, la declaración del segundo método en varias líneas, etc\n",
    "\n",
    "![eyes](https://pub-fb664c455eca46a2ba762a065ac900f7.r2.dev/eyes.webp)"
   ]
  },
  {
   "cell_type": "markdown",
   "metadata": {},
   "source": [
    "## Formatear el código"
   ]
  },
  {
   "cell_type": "markdown",
   "metadata": {},
   "source": [
    "Para formatear el código tenemos dos opciones, hacer\n",
    "\n",
    "```bash\n",
    "black {source_file_or_directory}\n",
    "```\n",
    "\n",
    "o hacer\n",
    "\n",
    "```bash\n",
    "python -m black {source_file_or_directory}\n",
    "```"
   ]
  },
  {
   "cell_type": "markdown",
   "metadata": {},
   "source": [
    "Así que vamos a formatearlo"
   ]
  },
  {
   "cell_type": "code",
   "execution_count": 3,
   "metadata": {},
   "outputs": [
    {
     "name": "stdout",
     "output_type": "stream",
     "text": [
      "\u001b[1mreformatted sample_code.py\u001b[0m\n",
      "\n",
      "\u001b[1mAll done! ✨ 🍰 ✨\u001b[0m\n",
      "\u001b[34m\u001b[1m1 file \u001b[0m\u001b[1mreformatted\u001b[0m.\n"
     ]
    }
   ],
   "source": [
    "!black sample_code.py"
   ]
  },
  {
   "cell_type": "markdown",
   "metadata": {},
   "source": [
    "Después de formatearlo el código ha quedado así\n",
    "\n",
    "```python\n",
    "class myClass:\n",
    "    def display_info(\n",
    "        self,\n",
    "        name,\n",
    "        subname,\n",
    "        age,\n",
    "        description,\n",
    "        address,\n",
    "        city,\n",
    "        zip_code,\n",
    "        country,\n",
    "        phone,\n",
    "        email,\n",
    "        license,\n",
    "        departament,\n",
    "    ):\n",
    "        return f\"Name : {name}, Subname : {subname}, Age : {age}, Description : {description}, Address : {address}, City : {city}, Zip Code : {zip_code}, Country : {country}, Phone : {phone}, Email : {email}, License : {license}, Departament : {departament}\"\n",
    "\n",
    "    def add_numbers(num1, num2):\n",
    "        return num1 + num2\n",
    "\n",
    "    text = \"This is some text\"\n",
    "\n",
    "    letters = (\n",
    "        \"alpha\",\n",
    "        \"beta\",\n",
    "        \"gamma\",\n",
    "        \"delta\",\n",
    "        \"epsilon\",\n",
    "        \"zeta\",\n",
    "        \"eta\",\n",
    "        \"theta\",\n",
    "        \"iota\",\n",
    "        \"kappa\",\n",
    "    )\n",
    "```\n",
    "\n",
    "Mucho mejor, ¿verdad?"
   ]
  }
 ],
 "metadata": {
  "kernelspec": {
   "display_name": "rag",
   "language": "python",
   "name": "python3"
  },
  "language_info": {
   "codemirror_mode": {
    "name": "ipython",
    "version": 3
   },
   "file_extension": ".py",
   "mimetype": "text/x-python",
   "name": "python",
   "nbconvert_exporter": "python",
   "pygments_lexer": "ipython3",
   "version": "3.11.10"
  }
 },
 "nbformat": 4,
 "nbformat_minor": 2
}
