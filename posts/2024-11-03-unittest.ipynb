{
  "cells": [
    {
      "cell_type": "markdown",
      "metadata": {},
      "source": [
        "# unittest Python"
      ]
    },
    {
      "cell_type": "markdown",
      "metadata": {},
      "source": [
        "Para realizar este post vamos a crear una carpeta llamada `testing_python` donde vamos a crear todo el c\u00f3digo"
      ]
    },
    {
      "cell_type": "code",
      "execution_count": 1,
      "metadata": {},
      "outputs": [],
      "source": [
        "!mkdir testing_python"
      ]
    },
    {
      "cell_type": "markdown",
      "metadata": {},
      "source": [
        "Dentro de esa carpeta vamos a crear las carpetas `src` y `tests` donde vamos a poner el c\u00f3digo fuente y los tests respectivamente"
      ]
    },
    {
      "cell_type": "code",
      "execution_count": 3,
      "metadata": {},
      "outputs": [],
      "source": [
        "!mkdir testing_python/src\n",
        "!mkdir testing_python/tests"
      ]
    },
    {
      "cell_type": "markdown",
      "metadata": {},
      "source": [
        "## Librer\u00edas necesarias"
      ]
    },
    {
      "cell_type": "markdown",
      "metadata": {},
      "source": [
        "Para hacer los tests vamos a usar la librer\u00eda `unittest` que viene por defecto en Python, pero adem\u00e1s vamos a instalar `coverage` para poder ver la cobertura de los tests. La instalamos con Conda",
        "\n",
        "```bash\n",
        "conda install conda-forge::coverage",
        "```\n",
        "\n",
        "O con Pip",
        "\n",
        "```bash\n",
        "pip install coverage\n",
        "```"
      ]
    },
    {
      "cell_type": "markdown",
      "metadata": {},
      "source": [
        "## Primeros tests"
      ]
    },
    {
      "cell_type": "markdown",
      "metadata": {},
      "source": [
        "Vamos a crear un primer archivo llamado `calculator.py` en la carpeta `src`"
      ]
    },
    {
      "cell_type": "code",
      "execution_count": null,
      "metadata": {},
      "outputs": [],
      "source": [
        "!echo \"def sum(a, b):\"           > testing_python/src/calculator.py\n",
        "!echo \"    return a + b\"        >> testing_python/src/calculator.py\n",
        "!echo \"\"                        >> testing_python/src/calculator.py\n",
        "!echo \"def substract(a, b):\"    >> testing_python/src/calculator.py\n",
        "!echo \"    return a - b\"        >> testing_python/src/calculator.py\n",
        "!echo \"\"                        >> testing_python/src/calculator.py\n",
        "!echo \"def multiply(a, b):\"     >> testing_python/src/calculator.py\n",
        "!echo \"    return a * b\"        >> testing_python/src/calculator.py\n",
        "!echo \"\"                        >> testing_python/src/calculator.py\n",
        "!echo \"def divide(a, b):\"       >> testing_python/src/calculator.py\n",
        "!echo \"    return a / b\"        >> testing_python/src/calculator.py"
      ]
    },
    {
      "cell_type": "markdown",
      "metadata": {},
      "source": [
        "Ahora creamos un archivo llamado `test_calculator.py` en la carpeta `tests`"
      ]
    },
    {
      "cell_type": "code",
      "execution_count": null,
      "metadata": {},
      "outputs": [],
      "source": [
        "!echo \"import unittest\"                                                  >  testing_python/tests/test_calculator.py\n",
        "!echo \"from src.calculator import sum, substract, multiply, divide\"     >> testing_python/tests/test_calculator.py\n",
        "!echo \"\"                                                                >> testing_python/tests/test_calculator.py\n",
        "!echo \"class TestCalculator(unittest.TestCase):\"                        >> testing_python/tests/test_calculator.py\n",
        "!echo \"    def test_sum(self):\"                                         >> testing_python/tests/test_calculator.py\n",
        "!echo \"        self.assertEqual(sum(2, 2), 4)\"                          >> testing_python/tests/test_calculator.py\n",
        "!echo \"\"                                                                >> testing_python/tests/test_calculator.py\n",
        "!echo \"    def test_substract(self):\"                                   >> testing_python/tests/test_calculator.py\n",
        "!echo \"        self.assertEqual(substract(2, 1), 1)\"                    >> testing_python/tests/test_calculator.py\n",
        "!echo \"\"                                                                >> testing_python/tests/test_calculator.py\n",
        "!echo \"    def test_multiply(self):\"                                    >> testing_python/tests/test_calculator.py\n",
        "!echo \"        self.assertEqual(multiply(2, 3), 6)\"                     >> testing_python/tests/test_calculator.py\n",
        "!echo \"\"                                                                >> testing_python/tests/test_calculator.py\n",
        "!echo \"    def test_divide(self):\"                                      >> testing_python/tests/test_calculator.py\n",
        "!echo \"        self.assertEqual(divide(6, 3), 2)\"                       >> testing_python/tests/test_calculator.py"
      ]
    },
    {
      "cell_type": "markdown",
      "metadata": {},
      "source": [
        "Ahora para ejecutarlo hacemos `python -m unittest tests/test_calculator.py discover -s tests`"
      ]
    },
    {
      "cell_type": "code",
      "execution_count": 38,
      "metadata": {},
      "outputs": [
        {
          "name": "stdout",
          "output_type": "stream",
          "text": [
            "....\n",
            "----------------------------------------------------------------------\n",
            "Ran 4 tests in 0.000s\n",
            "\n",
            "OK\n"
          ]
        }
      ],
      "source": [
        "!cd testing_python && python -m unittest tests/test_calculator.py"
      ]
    },
    {
      "cell_type": "markdown",
      "metadata": {},
      "source": [
        "Como vemos aparecen cuatro puntos por los dos tests que se han pasado y que han sido correctos"
      ]
    },
    {
      "cell_type": "markdown",
      "metadata": {},
      "source": [
        "Vamos a modificar el archivo de test para provocar un error, vamos a hacer que al sumar 2 y 2 nos d\u00e9 5"
      ]
    },
    {
      "cell_type": "code",
      "execution_count": null,
      "metadata": {},
      "outputs": [],
      "source": [
        "!echo \"import unittest\"                                                  >  testing_python/tests/test_calculator.py\n",
        "!echo \"from src.calculator import sum, substract, multiply, divide\"     >> testing_python/tests/test_calculator.py\n",
        "!echo \"\"                                                                >> testing_python/tests/test_calculator.py\n",
        "!echo \"class TestCalculator(unittest.TestCase):\"                        >> testing_python/tests/test_calculator.py\n",
        "!echo \"    def test_sum(self):\"                                         >> testing_python/tests/test_calculator.py\n",
        "!echo \"        self.assertEqual(sum(2, 2), 5)\"                          >> testing_python/tests/test_calculator.py\n",
        "!echo \"\"                                                                >> testing_python/tests/test_calculator.py\n",
        "!echo \"    def test_substract(self):\"                                   >> testing_python/tests/test_calculator.py\n",
        "!echo \"        self.assertEqual(substract(2, 1), 1)\"                    >> testing_python/tests/test_calculator.py\n",
        "!echo \"\"                                                                >> testing_python/tests/test_calculator.py\n",
        "!echo \"    def test_multiply(self):\"                                    >> testing_python/tests/test_calculator.py\n",
        "!echo \"        self.assertEqual(multiply(2, 3), 6)\"                     >> testing_python/tests/test_calculator.py\n",
        "!echo \"\"                                                                >> testing_python/tests/test_calculator.py\n",
        "!echo \"    def test_divide(self):\"                                      >> testing_python/tests/test_calculator.py\n",
        "!echo \"        self.assertEqual(divide(6, 3), 2)\"                       >> testing_python/tests/test_calculator.py"
      ]
    },
    {
      "cell_type": "markdown",
      "metadata": {},
      "source": [
        "Ahora corremos los test"
      ]
    },
    {
      "cell_type": "code",
      "execution_count": 40,
      "metadata": {},
      "outputs": [
        {
          "name": "stdout",
          "output_type": "stream",
          "text": [
            "...F\n",
            "======================================================================\n",
            "FAIL: test_sum (tests.test_calculator.TestCalculator)\n",
            "----------------------------------------------------------------------\n",
            "Traceback (most recent call last):\n",
            "  File \"/home/wallabot/Documentos/web/portafolio/posts/testing_python/tests/test_calculator.py\", line 6, in test_sum\n",
            "    self.assertEqual(sum(2, 2), 5)\n",
            "AssertionError: 4 != 5\n",
            "\n",
            "----------------------------------------------------------------------\n",
            "Ran 4 tests in 0.000s\n",
            "\n",
            "FAILED (failures=1)\n"
          ]
        }
      ],
      "source": [
        "!cd testing_python && python -m unittest tests/test_calculator.py"
      ]
    },
    {
      "cell_type": "markdown",
      "metadata": {},
      "source": [
        "Como vemos, ahora nos sale una `F` que significa que ha fallado un test, adem\u00e1s nos da la siguiente informaci\u00f3n",
        "\n",
        "```\n",
        "FAIL: test_sum (tests.test_calculator.TestCalculator)\n",
        "----------------------------------------------------------------------\n",
        "Traceback (most recent call last):\n",
        "  File \"/home/wallabot/Documentos/web/portafolio/posts/testing_python/tests/test_calculator.py\", line 6, in test_sum\n",
        "    self.assertEqual(sum(2, 2), 5)\n",
        "AssertionError: 4 != 5\n",
        "```\n",
        "\n",
        "Nos est\u00e1 diciendo que ha fallado el test `test_sum` en la l\u00ednea 6, que es la que hemos modificado, y que el resultado esperado era 5 y el obtenido 4"
      ]
    },
    {
      "cell_type": "markdown",
      "metadata": {},
      "source": [
        "Una cosa que no hemos dicho y que es importante, es que no hemos llamado a los m\u00e9todos `test_sum` y `test_subtract` directamente, se han ejecutado autom\u00e1ticamente. Esto es debido a que los m\u00e9todos que empiezan por `test_` son los que se ejecutan autom\u00e1ticamente"
      ]
    },
    {
      "cell_type": "markdown",
      "metadata": {},
      "source": [
        "Una forma m\u00e1s sencilla de ejecutar los tests es usar el comando `discover` que busca todos los archivos que empiezan por `test_` en la carpeta que le pasemos por el par\u00e1metro `-s`"
      ]
    },
    {
      "cell_type": "markdown",
      "metadata": {},
      "source": [
        "Primero volvemos a escribir bien los test"
      ]
    },
    {
      "cell_type": "code",
      "execution_count": null,
      "metadata": {},
      "outputs": [],
      "source": [
        "!echo \"import unittest\"                                                  >  testing_python/tests/test_calculator.py\n",
        "!echo \"from src.calculator import sum, substract, multiply, divide\"     >> testing_python/tests/test_calculator.py\n",
        "!echo \"\"                                                                >> testing_python/tests/test_calculator.py\n",
        "!echo \"class TestCalculator(unittest.TestCase):\"                        >> testing_python/tests/test_calculator.py\n",
        "!echo \"    def test_sum(self):\"                                         >> testing_python/tests/test_calculator.py\n",
        "!echo \"        self.assertEqual(sum(2, 2), 4)\"                          >> testing_python/tests/test_calculator.py\n",
        "!echo \"\"                                                                >> testing_python/tests/test_calculator.py\n",
        "!echo \"    def test_substract(self):\"                                   >> testing_python/tests/test_calculator.py\n",
        "!echo \"        self.assertEqual(substract(2, 1), 1)\"                    >> testing_python/tests/test_calculator.py\n",
        "!echo \"\"                                                                >> testing_python/tests/test_calculator.py\n",
        "!echo \"    def test_multiply(self):\"                                    >> testing_python/tests/test_calculator.py\n",
        "!echo \"        self.assertEqual(multiply(2, 3), 6)\"                     >> testing_python/tests/test_calculator.py\n",
        "!echo \"\"                                                                >> testing_python/tests/test_calculator.py\n",
        "!echo \"    def test_divide(self):\"                                      >> testing_python/tests/test_calculator.py\n",
        "!echo \"        self.assertEqual(divide(6, 3), 2)\"                       >> testing_python/tests/test_calculator.py"
      ]
    },
    {
      "cell_type": "markdown",
      "metadata": {},
      "source": [
        "Y ahora pasamos los test mediante `discover`"
      ]
    },
    {
      "cell_type": "code",
      "execution_count": 42,
      "metadata": {},
      "outputs": [
        {
          "name": "stdout",
          "output_type": "stream",
          "text": [
            "....\n",
            "----------------------------------------------------------------------\n",
            "Ran 4 tests in 0.000s\n",
            "\n",
            "OK\n"
          ]
        }
      ],
      "source": [
        "!cd testing_python && python -m unittest discover -s tests"
      ]
    },
    {
      "cell_type": "markdown",
      "metadata": {},
      "source": [
        "Ha encontrado los tests y los ha pasado correctamente"
      ]
    },
    {
      "cell_type": "markdown",
      "metadata": {},
      "source": [
        "## Configuraci\u00f3n de los tests"
      ]
    },
    {
      "cell_type": "markdown",
      "metadata": {},
      "source": [
        "### `setUp`"
      ]
    },
    {
      "cell_type": "markdown",
      "metadata": {},
      "source": [
        "Con la librer\u00eda `unittest` podemos configurar los tests, pero para verlo, primero vamos a crear un nuevo archivo de c\u00f3digo llamado `bank_account.py` en la carpeta `src`"
      ]
    },
    {
      "cell_type": "code",
      "execution_count": 43,
      "metadata": {},
      "outputs": [],
      "source": [
        "!echo \"class BankAccount:\"                           > testing_python/src/bank_account.py\n",
        "!echo \"    def __init__(self, balance=0):\"          >> testing_python/src/bank_account.py\n",
        "!echo \"        self.balance = balance\"              >> testing_python/src/bank_account.py\n",
        "!echo \"\"                                            >> testing_python/src/bank_account.py\n",
        "!echo \"    def deposit(self, amount):\"              >> testing_python/src/bank_account.py\n",
        "!echo \"        if amount > 0:\"                      >> testing_python/src/bank_account.py\n",
        "!echo \"            self.balance += amount\"          >> testing_python/src/bank_account.py\n",
        "!echo \"        return self.balance\"                 >> testing_python/src/bank_account.py\n",
        "!echo \"\"                                            >> testing_python/src/bank_account.py\n",
        "!echo \"    def withdraw(self, amount):\"             >> testing_python/src/bank_account.py\n",
        "!echo \"        if amount > 0:\"                      >> testing_python/src/bank_account.py\n",
        "!echo \"            self.balance -= amount\"          >> testing_python/src/bank_account.py\n",
        "!echo \"        return self.balance\"                 >> testing_python/src/bank_account.py\n",
        "!echo \"\"                                            >> testing_python/src/bank_account.py\n",
        "!echo \"    def get_balance(self):\"                  >> testing_python/src/bank_account.py\n",
        "!echo \"        return self.balance\"                 >> testing_python/src/bank_account.py"
      ]
    },
    {
      "cell_type": "markdown",
      "metadata": {},
      "source": [
        "Ahora a\u00f1adimos tests al nuevo c\u00f3digo, creando un archivo llamado `test_bank_account.py` en la carpeta `tests`"
      ]
    },
    {
      "cell_type": "markdown",
      "metadata": {},
      "source": [
        "Vamos a crear primero la prueba de a\u00f1adir dep\u00f3sito, es decir, el m\u00e9todo `deposit`"
      ]
    },
    {
      "cell_type": "code",
      "execution_count": null,
      "metadata": {},
      "outputs": [],
      "source": [
        "!echo \"import unittest\"                              > testing_python/tests/test_bank_account.py\n",
        "!echo \"from src.bank_account import BankAccount\"    >> testing_python/tests/test_bank_account.py\n",
        "!echo \"\"                                            >> testing_python/tests/test_bank_account.py\n",
        "!echo \"class TestBankAccount(unittest.TestCase):\"   >> testing_python/tests/test_bank_account.py\n",
        "!echo \"    def test_deposit(self):\"                 >> testing_python/tests/test_bank_account.py\n",
        "!echo \"        account = BankAccount()\"             >> testing_python/tests/test_bank_account.py\n",
        "!echo \"        new_balace = account.deposit(1500)\"  >> testing_python/tests/test_bank_account.py\n",
        "!echo \"        self.assertEqual(new_balace, 1500)\"  >> testing_python/tests/test_bank_account.py"
      ]
    },
    {
      "cell_type": "markdown",
      "metadata": {},
      "source": [
        "Pasamos los test"
      ]
    },
    {
      "cell_type": "code",
      "execution_count": 45,
      "metadata": {},
      "outputs": [
        {
          "name": "stdout",
          "output_type": "stream",
          "text": [
            ".....\n",
            "----------------------------------------------------------------------\n",
            "Ran 5 tests in 0.000s\n",
            "\n",
            "OK\n"
          ]
        }
      ],
      "source": [
        "!cd testing_python && python -m unittest discover -s tests"
      ]
    },
    {
      "cell_type": "markdown",
      "metadata": {},
      "source": [
        "Vemos que hay cinco puntos, pero nosotros solo hemos escrito un test, as\u00ed que usamos el flag `-v` para ver m\u00e1s informaci\u00f3n"
      ]
    },
    {
      "cell_type": "code",
      "execution_count": 46,
      "metadata": {},
      "outputs": [
        {
          "name": "stdout",
          "output_type": "stream",
          "text": [
            "test_deposit (test_bank_account.TestBankAccount) ... ok\n",
            "test_divide (test_calculator.TestCalculator) ... ok\n",
            "test_multiply (test_calculator.TestCalculator) ... ok\n",
            "test_substract (test_calculator.TestCalculator) ... ok\n",
            "test_sum (test_calculator.TestCalculator) ... ok\n",
            "\n",
            "----------------------------------------------------------------------\n",
            "Ran 5 tests in 0.000s\n",
            "\n",
            "OK\n"
          ]
        }
      ],
      "source": [
        "!cd testing_python && python -m unittest discover -s tests -v"
      ]
    },
    {
      "cell_type": "markdown",
      "metadata": {},
      "source": [
        "Vemos que `discover` ha encontrado los tests `test_calculator` y `test_bank_account` y ha pasado los dos"
      ]
    },
    {
      "cell_type": "markdown",
      "metadata": {},
      "source": [
        "Vamos a crear los tests para el resto de m\u00e9todos"
      ]
    },
    {
      "cell_type": "code",
      "execution_count": null,
      "metadata": {},
      "outputs": [],
      "source": [
        "!echo \"import unittest\"                              > testing_python/tests/test_bank_account.py\n",
        "!echo \"from src.bank_account import BankAccount\"    >> testing_python/tests/test_bank_account.py\n",
        "!echo \"\"                                            >> testing_python/tests/test_bank_account.py\n",
        "!echo \"class TestBankAccount(unittest.TestCase):\"   >> testing_python/tests/test_bank_account.py\n",
        "!echo \"    def test_deposit(self):\"                 >> testing_python/tests/test_bank_account.py\n",
        "!echo \"        account = BankAccount(balance=1000)\" >> testing_python/tests/test_bank_account.py\n",
        "!echo \"        new_balace = account.deposit(500)\"   >> testing_python/tests/test_bank_account.py\n",
        "!echo \"        self.assertEqual(new_balace, 1500)\"  >> testing_python/tests/test_bank_account.py\n",
        "!echo \"\"                                            >> testing_python/tests/test_bank_account.py\n",
        "!echo \"    def test_withdraw(self):\"                >> testing_python/tests/test_bank_account.py\n",
        "!echo \"        account = BankAccount(balance=1000)\" >> testing_python/tests/test_bank_account.py\n",
        "!echo \"        new_balace = account.withdraw(200)\"  >> testing_python/tests/test_bank_account.py\n",
        "!echo \"        self.assertEqual(new_balace, 800)\"   >> testing_python/tests/test_bank_account.py\n",
        "!echo \"\"                                            >> testing_python/tests/test_bank_account.py\n",
        "!echo \"    def test_get_balance(self):\"             >> testing_python/tests/test_bank_account.py\n",
        "!echo \"        account = BankAccount(balance=1000)\" >> testing_python/tests/test_bank_account.py\n",
        "!echo \"        balance = account.get_balance()\"     >> testing_python/tests/test_bank_account.py\n",
        "!echo \"        self.assertEqual(balance, 1000)\"     >> testing_python/tests/test_bank_account.py"
      ]
    },
    {
      "cell_type": "markdown",
      "metadata": {},
      "source": [
        "Pasamos los test"
      ]
    },
    {
      "cell_type": "code",
      "execution_count": 48,
      "metadata": {},
      "outputs": [
        {
          "name": "stdout",
          "output_type": "stream",
          "text": [
            "test_deposit (test_bank_account.TestBankAccount) ... ok\n",
            "test_get_balance (test_bank_account.TestBankAccount) ... ok\n",
            "test_withdraw (test_bank_account.TestBankAccount) ... ok\n",
            "test_divide (test_calculator.TestCalculator) ... ok\n",
            "test_multiply (test_calculator.TestCalculator) ... ok\n",
            "test_substract (test_calculator.TestCalculator) ... ok\n",
            "test_sum (test_calculator.TestCalculator) ... ok\n",
            "\n",
            "----------------------------------------------------------------------\n",
            "Ran 7 tests in 0.000s\n",
            "\n",
            "OK\n"
          ]
        }
      ],
      "source": [
        "!cd testing_python && python -m unittest discover -s tests -v"
      ]
    },
    {
      "cell_type": "markdown",
      "metadata": {},
      "source": [
        "Vemos que han pasado satisfactoriamente. Ahora veamos una cosa, en todos los tests hemos hecho `account = BankAccount(balance=1000)` y luego hemos llamado a los m\u00e9todos, esto es porque cada test se ejecuta en un nuevo objeto, es decir, no se comparten los objetos entre tests.\n",
        "\n",
        "De modo que podemos usar el m\u00e9todo `setUp` para crear un objeto que se comparta entre todos los tests"
      ]
    },
    {
      "cell_type": "code",
      "execution_count": null,
      "metadata": {},
      "outputs": [],
      "source": [
        "!echo \"import unittest\"                                      > testing_python/tests/test_bank_account.py\n",
        "!echo \"from src.bank_account import BankAccount\"            >> testing_python/tests/test_bank_account.py\n",
        "!echo \"\"                                                    >> testing_python/tests/test_bank_account.py\n",
        "!echo \"class TestBankAccount(unittest.TestCase):\"           >> testing_python/tests/test_bank_account.py\n",
        "!echo \"    def setUp(self):\"                                >> testing_python/tests/test_bank_account.py\n",
        "!echo \"        self.account = BankAccount(balance=1000)\"    >> testing_python/tests/test_bank_account.py\n",
        "!echo \"\"                                                    >> testing_python/tests/test_bank_account.py\n",
        "!echo \"    def test_deposit(self):\"                         >> testing_python/tests/test_bank_account.py\n",
        "!echo \"        new_balace = self.account.deposit(500)\"      >> testing_python/tests/test_bank_account.py\n",
        "!echo \"        self.assertEqual(new_balace, 1500)\"          >> testing_python/tests/test_bank_account.py\n",
        "!echo \"\"                                                    >> testing_python/tests/test_bank_account.py\n",
        "!echo \"    def test_withdraw(self):\"                        >> testing_python/tests/test_bank_account.py\n",
        "!echo \"        new_balace = self.account.withdraw(200)\"     >> testing_python/tests/test_bank_account.py\n",
        "!echo \"        self.assertEqual(new_balace, 800)\"           >> testing_python/tests/test_bank_account.py\n",
        "!echo \"\"                                                    >> testing_python/tests/test_bank_account.py\n",
        "!echo \"    def test_get_balance(self):\"                     >> testing_python/tests/test_bank_account.py\n",
        "!echo \"        balance = self.account.get_balance()\"        >> testing_python/tests/test_bank_account.py\n",
        "!echo \"        self.assertEqual(balance, 1000)\"             >> testing_python/tests/test_bank_account.py"
      ]
    },
    {
      "cell_type": "markdown",
      "metadata": {},
      "source": [
        "Como vemos, hemos creado la cuenta en el m\u00e9todo `setUp` y hemos eliminado la creaci\u00f3n de la cuenta en los tests. Vamos a pasar los tests"
      ]
    },
    {
      "cell_type": "code",
      "execution_count": 50,
      "metadata": {},
      "outputs": [
        {
          "name": "stdout",
          "output_type": "stream",
          "text": [
            "test_deposit (test_bank_account.TestBankAccount) ... ok\n",
            "test_get_balance (test_bank_account.TestBankAccount) ... ok\n",
            "test_withdraw (test_bank_account.TestBankAccount) ... ok\n",
            "test_divide (test_calculator.TestCalculator) ... ok\n",
            "test_multiply (test_calculator.TestCalculator) ... ok\n",
            "test_substract (test_calculator.TestCalculator) ... ok\n",
            "test_sum (test_calculator.TestCalculator) ... ok\n",
            "\n",
            "----------------------------------------------------------------------\n",
            "Ran 7 tests in 0.000s\n",
            "\n",
            "OK\n"
          ]
        }
      ],
      "source": [
        "!cd testing_python && python -m unittest discover -s tests -v"
      ]
    },
    {
      "cell_type": "markdown",
      "metadata": {},
      "source": [
        "### `tearDown`"
      ]
    },
    {
      "cell_type": "markdown",
      "metadata": {},
      "source": [
        "Igual que con el m\u00e9todo `setUp` configuramos el entorno antes de ejecutar los tests, con el m\u00e9todo `tearDown` podemos limpiar el entorno despu\u00e9s de ejecutar los tests. Para probarlo vamos a a\u00f1adir al c\u00f3digo de `bank_account.py` que las operaciones se escriban en un archivo de log"
      ]
    },
    {
      "cell_type": "code",
      "execution_count": null,
      "metadata": {},
      "outputs": [],
      "source": [
        "!echo \"class BankAccount:\"                                                                   > testing_python/src/bank_account.py\n",
        "!echo \"    def __init__(self, balance=0, log_file=None):\"                                   >> testing_python/src/bank_account.py\n",
        "!echo \"        self.balance = balance\"                                                      >> testing_python/src/bank_account.py\n",
        "!echo \"        self.log_file = log_file\"                                                    >> testing_python/src/bank_account.py\n",
        "!echo \"        self._log_transaction('Account created')\"                                    >> testing_python/src/bank_account.py\n",
        "!echo \"\"                                                                                    >> testing_python/src/bank_account.py\n",
        "!echo \"    def _log_transaction(self, message):\"                                            >> testing_python/src/bank_account.py\n",
        "!echo \"        if self.log_file:\"                                                           >> testing_python/src/bank_account.py\n",
        "!echo \"            with open(self.log_file, 'a') as file:\"                                  >> testing_python/src/bank_account.py\n",
        "!echo \"                file.write(f'{message}\\\\\\\\n')\"                                       >> testing_python/src/bank_account.py\n",
        "!echo \"\"                                                                                    >> testing_python/src/bank_account.py\n",
        "!echo \"    def deposit(self, amount):\"                                                      >> testing_python/src/bank_account.py\n",
        "!echo \"        if amount > 0:\"                                                              >> testing_python/src/bank_account.py\n",
        "!echo \"            self.balance += amount\"                                                  >> testing_python/src/bank_account.py\n",
        "!echo \"            self._log_transaction(f'Deposit {amount}, new balance {self.balance}')\"  >> testing_python/src/bank_account.py\n",
        "!echo \"        return self.balance\"                                                         >> testing_python/src/bank_account.py\n",
        "!echo \"\"                                                                                    >> testing_python/src/bank_account.py\n",
        "!echo \"    def withdraw(self, amount):\"                                                     >> testing_python/src/bank_account.py\n",
        "!echo \"        if amount > 0:\"                                                              >> testing_python/src/bank_account.py\n",
        "!echo \"            self.balance -= amount\"                                                  >> testing_python/src/bank_account.py\n",
        "!echo \"            self._log_transaction(f'Withdraw {amount}, new balance {self.balance}')\" >> testing_python/src/bank_account.py\n",
        "!echo \"        return self.balance\"                                                         >> testing_python/src/bank_account.py\n",
        "!echo \"\"                                                                                    >> testing_python/src/bank_account.py\n",
        "!echo \"    def get_balance(self):\"                                                          >> testing_python/src/bank_account.py\n",
        "!echo \"        self._log_transaction(f'Balance check, balance {self.balance}')\"             >> testing_python/src/bank_account.py\n",
        "!echo \"        return self.balance\"                                                         >> testing_python/src/bank_account.py"
      ]
    },
    {
      "cell_type": "markdown",
      "metadata": {},
      "source": [
        "Ahora a\u00f1adimos un test al nuevo m\u00e9todo `_log_transaction`"
      ]
    },
    {
      "cell_type": "code",
      "execution_count": null,
      "metadata": {},
      "outputs": [],
      "source": [
        "!echo \"import unittest\"                                                                      > testing_python/tests/test_bank_account.py\n",
        "!echo \"import os\"                                                                           >> testing_python/tests/test_bank_account.py\n",
        "!echo \"from src.bank_account import BankAccount\"                                            >> testing_python/tests/test_bank_account.py\n",
        "!echo \"\"                                                                                    >> testing_python/tests/test_bank_account.py\n",
        "!echo \"class TestBankAccount(unittest.TestCase):\"                                           >> testing_python/tests/test_bank_account.py\n",
        "!echo \"    def setUp(self):\"                                                                >> testing_python/tests/test_bank_account.py\n",
        "!echo \"        self.account = BankAccount(balance=1000, log_file='test_log.txt')\"           >> testing_python/tests/test_bank_account.py\n",
        "!echo \"\"                                                                                    >> testing_python/tests/test_bank_account.py\n",
        "!echo \"    def test_deposit(self):\"                                                         >> testing_python/tests/test_bank_account.py\n",
        "!echo \"        new_balace = self.account.deposit(500)\"                                      >> testing_python/tests/test_bank_account.py\n",
        "!echo \"        self.assertEqual(new_balace, 1500)\"                                          >> testing_python/tests/test_bank_account.py\n",
        "!echo \"\"                                                                                    >> testing_python/tests/test_bank_account.py\n",
        "!echo \"    def test_withdraw(self):\"                                                        >> testing_python/tests/test_bank_account.py\n",
        "!echo \"        new_balace = self.account.withdraw(200)\"                                     >> testing_python/tests/test_bank_account.py\n",
        "!echo \"        self.assertEqual(new_balace, 800)\"                                           >> testing_python/tests/test_bank_account.py\n",
        "!echo \"\"                                                                                    >> testing_python/tests/test_bank_account.py\n",
        "!echo \"    def test_get_balance(self):\"                                                     >> testing_python/tests/test_bank_account.py\n",
        "!echo \"        balance = self.account.get_balance()\"                                        >> testing_python/tests/test_bank_account.py\n",
        "!echo \"        self.assertEqual(balance, 1000)\"                                             >> testing_python/tests/test_bank_account.py\n",
        "!echo \"\"                                                                                    >> testing_python/tests/test_bank_account.py\n",
        "!echo \"    def test_transaction_log(self):\"                                                 >> testing_python/tests/test_bank_account.py\n",
        "!echo \"        self.account.deposit(500)\"                                                   >> testing_python/tests/test_bank_account.py\n",
        "!echo \"        self.account.withdraw(200)\"                                                  >> testing_python/tests/test_bank_account.py\n",
        "!echo \"        self.account.get_balance()\"                                                  >> testing_python/tests/test_bank_account.py\n",
        "!echo \"        assert os.path.exists('test_log.txt')\"                                       >> testing_python/tests/test_bank_account.py\n",
        "!echo \"        with open('test_log.txt', 'r') as file:\"                                     >> testing_python/tests/test_bank_account.py\n",
        "!echo \"            content = file.readlines()\"                                              >> testing_python/tests/test_bank_account.py\n",
        "!echo \"        self.assertEqual(content, [\"                                                 >> testing_python/tests/test_bank_account.py\n",
        "!echo \"            'Account created\\\\\\n', \"                                                 >> testing_python/tests/test_bank_account.py\n",
        "!echo \"            'Deposit 500, new balance 1500\\\\\\n', \"                                   >> testing_python/tests/test_bank_account.py\n",
        "!echo \"            'Account created\\\\\\n', \"                                                 >> testing_python/tests/test_bank_account.py\n",
        "!echo \"            'Balance check, balance 1000\\\\\\n', \"                                     >> testing_python/tests/test_bank_account.py\n",
        "!echo \"            'Account created\\\\\\n', \"                                                 >> testing_python/tests/test_bank_account.py\n",
        "!echo \"            'Deposit 500, new balance 1500\\\\\\n', \"                                   >> testing_python/tests/test_bank_account.py\n",
        "!echo \"            'Withdraw 200, new balance 1300\\\\\\n', \"                                  >> testing_python/tests/test_bank_account.py\n",
        "!echo \"            'Balance check, balance 1300\\\\\\n'])\"                                     >> testing_python/tests/test_bank_account.py"
      ]
    },
    {
      "cell_type": "markdown",
      "metadata": {},
      "source": [
        "Pasamos los test"
      ]
    },
    {
      "cell_type": "code",
      "execution_count": 93,
      "metadata": {},
      "outputs": [
        {
          "name": "stdout",
          "output_type": "stream",
          "text": [
            "test_deposit (test_bank_account.TestBankAccount) ... ok\n",
            "test_get_balance (test_bank_account.TestBankAccount) ... ok\n",
            "test_transaction_log (test_bank_account.TestBankAccount) ... FAIL\n",
            "test_withdraw (test_bank_account.TestBankAccount) ... ok\n",
            "test_divide (test_calculator.TestCalculator) ... ok\n",
            "test_multiply (test_calculator.TestCalculator) ... ok\n",
            "test_substract (test_calculator.TestCalculator) ... ok\n",
            "test_sum (test_calculator.TestCalculator) ... ok\n",
            "\n",
            "======================================================================\n",
            "FAIL: test_transaction_log (test_bank_account.TestBankAccount)\n",
            "----------------------------------------------------------------------\n",
            "Traceback (most recent call last):\n",
            "  File \"/home/wallabot/Documentos/web/portafolio/posts/testing_python/tests/test_bank_account.py\", line 28, in test_transaction_log\n",
            "    self.assertEqual(content, [\n",
            "AssertionError: Lists differ: ['Acc[224 chars]00\\n', 'Account created\\n', 'Withdraw 200, new[246 chars]0\\n'] != ['Acc[224 chars]00\\n']\n",
            "\n",
            "First list contains 10 additional elements.\n",
            "First extra element 8:\n",
            "'Account created\\n'\n",
            "\n",
            "  ['Account created\\n',\n",
            "   'Deposit 500, new balance 1500\\n',\n",
            "   'Account created\\n',\n",
            "   'Balance check, balance 1000\\n',\n",
            "   'Account created\\n',\n",
            "   'Deposit 500, new balance 1500\\n',\n",
            "   'Withdraw 200, new balance 1300\\n',\n",
            "-  'Balance check, balance 1300\\n',\n",
            "-  'Account created\\n',\n",
            "-  'Withdraw 200, new balance 800\\n',\n",
            "-  'Account created\\n',\n",
            "-  'Deposit 500, new balance 1500\\n',\n",
            "-  'Account created\\n',\n",
            "-  'Balance check, balance 1000\\n',\n",
            "-  'Account created\\n',\n",
            "-  'Deposit 500, new balance 1500\\n',\n",
            "-  'Withdraw 200, new balance 1300\\n',\n",
            "   'Balance check, balance 1300\\n']\n",
            "\n",
            "----------------------------------------------------------------------\n",
            "Ran 8 tests in 0.001s\n",
            "\n",
            "FAILED (failures=1)\n"
          ]
        }
      ],
      "source": [
        "!cd testing_python && python -m unittest discover -s tests -v"
      ]
    },
    {
      "cell_type": "markdown",
      "metadata": {},
      "source": [
        "Los test han salido bien, pero vemos que en el archivo de log hay muchas l\u00edneas con el texto `Account created`, esto es porque al principio de cada test se ejecuta el m\u00e9todo `setUp` que crea una cuenta, por lo que tenemos que crear el m\u00e9todo `tearDown` para eliminar el archivo de log despu\u00e9s de cada test"
      ]
    },
    {
      "cell_type": "markdown",
      "metadata": {},
      "source": [
        "Como es un archivo generado para el test, no deber\u00eda existir despu\u00e9s de ejecutar los tests, as\u00ed que vamos a a\u00f1adir el m\u00e9todo `tearDown` para borrar el archivo"
      ]
    },
    {
      "cell_type": "code",
      "execution_count": null,
      "metadata": {},
      "outputs": [],
      "source": [
        "!echo \"import unittest\"                                                                      > testing_python/tests/test_bank_account.py\n",
        "!echo \"import os\"                                                                           >> testing_python/tests/test_bank_account.py\n",
        "!echo \"from src.bank_account import BankAccount\"                                            >> testing_python/tests/test_bank_account.py\n",
        "!echo \"\"                                                                                    >> testing_python/tests/test_bank_account.py\n",
        "!echo \"class TestBankAccount(unittest.TestCase):\"                                           >> testing_python/tests/test_bank_account.py\n",
        "!echo \"    def setUp(self):\"                                                                >> testing_python/tests/test_bank_account.py\n",
        "!echo \"        self.account = BankAccount(balance=1000, log_file='test_log.txt')\"           >> testing_python/tests/test_bank_account.py\n",
        "!echo \"\"                                                                                    >> testing_python/tests/test_bank_account.py\n",
        "!echo \"    def tearDown(self):\"                                                             >> testing_python/tests/test_bank_account.py\n",
        "!echo \"        if os.path.exists('test_log.txt'):\"                                          >> testing_python/tests/test_bank_account.py\n",
        "!echo \"            os.remove('test_log.txt')\"                                               >> testing_python/tests/test_bank_account.py\n",
        "!echo \"\"                                                                                    >> testing_python/tests/test_bank_account.py\n",
        "!echo \"    def test_deposit(self):\"                                                         >> testing_python/tests/test_bank_account.py\n",
        "!echo \"        new_balace = self.account.deposit(500)\"                                      >> testing_python/tests/test_bank_account.py\n",
        "!echo \"        self.assertEqual(new_balace, 1500)\"                                          >> testing_python/tests/test_bank_account.py\n",
        "!echo \"\"                                                                                    >> testing_python/tests/test_bank_account.py\n",
        "!echo \"    def test_withdraw(self):\"                                                        >> testing_python/tests/test_bank_account.py\n",
        "!echo \"        new_balace = self.account.withdraw(200)\"                                     >> testing_python/tests/test_bank_account.py\n",
        "!echo \"        self.assertEqual(new_balace, 800)\"                                           >> testing_python/tests/test_bank_account.py\n",
        "!echo \"\"                                                                                    >> testing_python/tests/test_bank_account.py\n",
        "!echo \"    def test_get_balance(self):\"                                                     >> testing_python/tests/test_bank_account.py\n",
        "!echo \"        balance = self.account.get_balance()\"                                        >> testing_python/tests/test_bank_account.py\n",
        "!echo \"        self.assertEqual(balance, 1000)\"                                             >> testing_python/tests/test_bank_account.py\n",
        "!echo \"\"                                                                                    >> testing_python/tests/test_bank_account.py\n",
        "!echo \"    def test_transaction_log(self):\"                                                 >> testing_python/tests/test_bank_account.py\n",
        "!echo \"        self.account.deposit(500)\"                                                   >> testing_python/tests/test_bank_account.py\n",
        "!echo \"        self.account.withdraw(200)\"                                                  >> testing_python/tests/test_bank_account.py\n",
        "!echo \"        self.account.get_balance()\"                                                  >> testing_python/tests/test_bank_account.py\n",
        "!echo \"        assert os.path.exists('test_log.txt')\"                                       >> testing_python/tests/test_bank_account.py\n",
        "!echo \"        with open('test_log.txt', 'r') as file:\"                                     >> testing_python/tests/test_bank_account.py\n",
        "!echo \"            content = file.readlines()\"                                              >> testing_python/tests/test_bank_account.py\n",
        "!echo \"        self.assertEqual(content, [\"                                                 >> testing_python/tests/test_bank_account.py\n",
        "!echo \"            'Account created\\\\\\n', \"                                                 >> testing_python/tests/test_bank_account.py\n",
        "!echo \"            'Deposit 500, new balance 1500\\\\\\n', \"                                   >> testing_python/tests/test_bank_account.py\n",
        "!echo \"            'Account created\\\\\\n', \"                                                 >> testing_python/tests/test_bank_account.py\n",
        "!echo \"            'Balance check, balance 1000\\\\\\n', \"                                     >> testing_python/tests/test_bank_account.py\n",
        "!echo \"            'Account created\\\\\\n', \"                                                 >> testing_python/tests/test_bank_account.py\n",
        "!echo \"            'Deposit 500, new balance 1500\\\\\\n', \"                                   >> testing_python/tests/test_bank_account.py\n",
        "!echo \"            'Withdraw 200, new balance 1300\\\\\\n', \"                                  >> testing_python/tests/test_bank_account.py\n",
        "!echo \"            'Balance check, balance 1300\\\\\\n'\"                                       >> testing_python/tests/test_bank_account.py\n",
        "!echo \"            ])\"                                                                      >> testing_python/tests/test_bank_account.py"
      ]
    },
    {
      "cell_type": "markdown",
      "metadata": {},
      "source": [
        "Volvemos a pasar los test"
      ]
    },
    {
      "cell_type": "code",
      "execution_count": 99,
      "metadata": {},
      "outputs": [
        {
          "name": "stdout",
          "output_type": "stream",
          "text": [
            "test_deposit (test_bank_account.TestBankAccount) ... ok\n",
            "test_get_balance (test_bank_account.TestBankAccount) ... ok\n",
            "test_transaction_log (test_bank_account.TestBankAccount) ... FAIL\n",
            "test_withdraw (test_bank_account.TestBankAccount) ... ok\n",
            "test_divide (test_calculator.TestCalculator) ... ok\n",
            "test_multiply (test_calculator.TestCalculator) ... ok\n",
            "test_substract (test_calculator.TestCalculator) ... ok\n",
            "test_sum (test_calculator.TestCalculator) ... ok\n",
            "\n",
            "======================================================================\n",
            "FAIL: test_transaction_log (test_bank_account.TestBankAccount)\n",
            "----------------------------------------------------------------------\n",
            "Traceback (most recent call last):\n",
            "  File \"/home/wallabot/Documentos/web/portafolio/posts/testing_python/tests/test_bank_account.py\", line 32, in test_transaction_log\n",
            "    self.assertEqual(content, [\n",
            "AssertionError: Lists differ: ['Acc[48 chars]n', 'Withdraw 200, new balance 1300\\n', 'Balan[21 chars]0\\n'] != ['Acc[48 chars]n', 'Account created\\n', 'Balance check, balan[131 chars]0\\n']\n",
            "\n",
            "First differing element 2:\n",
            "'Withdraw 200, new balance 1300\\n'\n",
            "'Account created\\n'\n",
            "\n",
            "Second list contains 4 additional elements.\n",
            "First extra element 4:\n",
            "'Account created\\n'\n",
            "\n",
            "  ['Account created\\n',\n",
            "+  'Deposit 500, new balance 1500\\n',\n",
            "+  'Account created\\n',\n",
            "+  'Balance check, balance 1000\\n',\n",
            "+  'Account created\\n',\n",
            "   'Deposit 500, new balance 1500\\n',\n",
            "   'Withdraw 200, new balance 1300\\n',\n",
            "   'Balance check, balance 1300\\n']\n",
            "\n",
            "----------------------------------------------------------------------\n",
            "Ran 8 tests in 0.001s\n",
            "\n",
            "FAILED (failures=1)\n"
          ]
        }
      ],
      "source": [
        "!cd testing_python && python -m unittest discover -s tests -v"
      ]
    },
    {
      "cell_type": "markdown",
      "metadata": {},
      "source": [
        "Pero ahora nos da error, porque como al final de cada prueba hemos eliminado el archivo de log, ya no hay que comprobar que se haya escrito tanto texto, sino solo el del test que estamos haciendo. As\u00ed que vamos a modificar el test para que solo compruebe que se ha escrito el texto del test"
      ]
    },
    {
      "cell_type": "code",
      "execution_count": null,
      "metadata": {},
      "outputs": [],
      "source": [
        "!echo \"import unittest\"                                                                      > testing_python/tests/test_bank_account.py\n",
        "!echo \"import os\"                                                                           >> testing_python/tests/test_bank_account.py\n",
        "!echo \"from src.bank_account import BankAccount\"                                            >> testing_python/tests/test_bank_account.py\n",
        "!echo \"\"                                                                                    >> testing_python/tests/test_bank_account.py\n",
        "!echo \"class TestBankAccount(unittest.TestCase):\"                                           >> testing_python/tests/test_bank_account.py\n",
        "!echo \"    def setUp(self):\"                                                                >> testing_python/tests/test_bank_account.py\n",
        "!echo \"        self.account = BankAccount(balance=1000, log_file='test_log.txt')\"           >> testing_python/tests/test_bank_account.py\n",
        "!echo \"\"                                                                                    >> testing_python/tests/test_bank_account.py\n",
        "!echo \"    def tearDown(self):\"                                                             >> testing_python/tests/test_bank_account.py\n",
        "!echo \"        if os.path.exists('test_log.txt'):\"                                          >> testing_python/tests/test_bank_account.py\n",
        "!echo \"            os.remove('test_log.txt')\"                                               >> testing_python/tests/test_bank_account.py\n",
        "!echo \"\"                                                                                    >> testing_python/tests/test_bank_account.py\n",
        "!echo \"    def test_deposit(self):\"                                                         >> testing_python/tests/test_bank_account.py\n",
        "!echo \"        new_balace = self.account.deposit(500)\"                                      >> testing_python/tests/test_bank_account.py\n",
        "!echo \"        self.assertEqual(new_balace, 1500)\"                                          >> testing_python/tests/test_bank_account.py\n",
        "!echo \"\"                                                                                    >> testing_python/tests/test_bank_account.py\n",
        "!echo \"    def test_withdraw(self):\"                                                        >> testing_python/tests/test_bank_account.py\n",
        "!echo \"        new_balace = self.account.withdraw(200)\"                                     >> testing_python/tests/test_bank_account.py\n",
        "!echo \"        self.assertEqual(new_balace, 800)\"                                           >> testing_python/tests/test_bank_account.py\n",
        "!echo \"\"                                                                                    >> testing_python/tests/test_bank_account.py\n",
        "!echo \"    def test_get_balance(self):\"                                                     >> testing_python/tests/test_bank_account.py\n",
        "!echo \"        balance = self.account.get_balance()\"                                        >> testing_python/tests/test_bank_account.py\n",
        "!echo \"        self.assertEqual(balance, 1000)\"                                             >> testing_python/tests/test_bank_account.py\n",
        "!echo \"\"                                                                                    >> testing_python/tests/test_bank_account.py\n",
        "!echo \"    def test_transaction_log(self):\"                                                 >> testing_python/tests/test_bank_account.py\n",
        "!echo \"        self.account.deposit(500)\"                                                   >> testing_python/tests/test_bank_account.py\n",
        "!echo \"        self.account.withdraw(200)\"                                                  >> testing_python/tests/test_bank_account.py\n",
        "!echo \"        self.account.get_balance()\"                                                  >> testing_python/tests/test_bank_account.py\n",
        "!echo \"        assert os.path.exists('test_log.txt')\"                                       >> testing_python/tests/test_bank_account.py\n",
        "!echo \"        with open('test_log.txt', 'r') as file:\"                                     >> testing_python/tests/test_bank_account.py\n",
        "!echo \"            content = file.readlines()\"                                              >> testing_python/tests/test_bank_account.py\n",
        "!echo \"        self.assertEqual(content, [\"                                                 >> testing_python/tests/test_bank_account.py\n",
        "!echo \"            'Account created\\\\\\n', \"                                                 >> testing_python/tests/test_bank_account.py\n",
        "!echo \"            'Deposit 500, new balance 1500\\\\\\n', \"                                   >> testing_python/tests/test_bank_account.py\n",
        "!echo \"            'Withdraw 200, new balance 1300\\\\\\n', \"                                  >> testing_python/tests/test_bank_account.py\n",
        "!echo \"            'Balance check, balance 1300\\\\\\n'\"                                       >> testing_python/tests/test_bank_account.py\n",
        "!echo \"            ])\"                                                                      >> testing_python/tests/test_bank_account.py"
      ]
    },
    {
      "cell_type": "markdown",
      "metadata": {},
      "source": [
        "Y pasamos los test"
      ]
    },
    {
      "cell_type": "code",
      "execution_count": 101,
      "metadata": {},
      "outputs": [
        {
          "name": "stdout",
          "output_type": "stream",
          "text": [
            "test_deposit (test_bank_account.TestBankAccount) ... ok\n",
            "test_get_balance (test_bank_account.TestBankAccount) ... ok\n",
            "test_transaction_log (test_bank_account.TestBankAccount) ... ok\n",
            "test_withdraw (test_bank_account.TestBankAccount) ... ok\n",
            "test_divide (test_calculator.TestCalculator) ... ok\n",
            "test_multiply (test_calculator.TestCalculator) ... ok\n",
            "test_substract (test_calculator.TestCalculator) ... ok\n",
            "test_sum (test_calculator.TestCalculator) ... ok\n",
            "\n",
            "----------------------------------------------------------------------\n",
            "Ran 8 tests in 0.001s\n",
            "\n",
            "OK\n"
          ]
        }
      ],
      "source": [
        "!cd testing_python && python -m unittest discover -s tests -v"
      ]
    },
    {
      "cell_type": "markdown",
      "metadata": {},
      "source": [
        "### Documentaci\u00f3n de errores"
      ]
    },
    {
      "cell_type": "markdown",
      "metadata": {},
      "source": [
        "Si te has fijado, hasta ahora en los test us\u00e1bamos `assertEqual`. Este m\u00e9todo nos da la opci\u00f3n de escribir un mensaje de error cuando no se cumple la condici\u00f3n. Vamos a modificar un test para que falle y ver el mensaje de error"
      ]
    },
    {
      "cell_type": "code",
      "execution_count": null,
      "metadata": {},
      "outputs": [],
      "source": [
        "!echo \"import unittest\"                                                                      > testing_python/tests/test_bank_account.py\n",
        "!echo \"import os\"                                                                           >> testing_python/tests/test_bank_account.py\n",
        "!echo \"from src.bank_account import BankAccount\"                                            >> testing_python/tests/test_bank_account.py\n",
        "!echo \"\"                                                                                    >> testing_python/tests/test_bank_account.py\n",
        "!echo \"class TestBankAccount(unittest.TestCase):\"                                           >> testing_python/tests/test_bank_account.py\n",
        "!echo \"    def setUp(self):\"                                                                >> testing_python/tests/test_bank_account.py\n",
        "!echo \"        self.account = BankAccount(balance=1000, log_file='test_log.txt')\"           >> testing_python/tests/test_bank_account.py\n",
        "!echo \"\"                                                                                    >> testing_python/tests/test_bank_account.py\n",
        "!echo \"    def tearDown(self):\"                                                             >> testing_python/tests/test_bank_account.py\n",
        "!echo \"        if os.path.exists('test_log.txt'):\"                                          >> testing_python/tests/test_bank_account.py\n",
        "!echo \"            os.remove('test_log.txt')\"                                               >> testing_python/tests/test_bank_account.py\n",
        "!echo \"\"                                                                                    >> testing_python/tests/test_bank_account.py\n",
        "!echo \"    def test_deposit(self):\"                                                         >> testing_python/tests/test_bank_account.py\n",
        "!echo \"        new_balace = self.account.deposit(500)\"                                      >> testing_python/tests/test_bank_account.py\n",
        "!echo \"        self.assertEqual(new_balace, 1500)\"                                          >> testing_python/tests/test_bank_account.py\n",
        "!echo \"\"                                                                                    >> testing_python/tests/test_bank_account.py\n",
        "!echo \"    def test_withdraw(self):\"                                                        >> testing_python/tests/test_bank_account.py\n",
        "!echo \"        new_balace = self.account.withdraw(200)\"                                     >> testing_python/tests/test_bank_account.py\n",
        "!echo \"        self.assertEqual(new_balace, 500, 'Balance is not correct')\"                 >> testing_python/tests/test_bank_account.py\n",
        "!echo \"\"                                                                                    >> testing_python/tests/test_bank_account.py\n",
        "!echo \"    def test_get_balance(self):\"                                                     >> testing_python/tests/test_bank_account.py\n",
        "!echo \"        balance = self.account.get_balance()\"                                        >> testing_python/tests/test_bank_account.py\n",
        "!echo \"        self.assertEqual(balance, 1000)\"                                             >> testing_python/tests/test_bank_account.py\n",
        "!echo \"\"                                                                                    >> testing_python/tests/test_bank_account.py\n",
        "!echo \"    def test_transaction_log(self):\"                                                 >> testing_python/tests/test_bank_account.py\n",
        "!echo \"        self.account.deposit(500)\"                                                   >> testing_python/tests/test_bank_account.py\n",
        "!echo \"        self.account.withdraw(200)\"                                                  >> testing_python/tests/test_bank_account.py\n",
        "!echo \"        self.account.get_balance()\"                                                  >> testing_python/tests/test_bank_account.py\n",
        "!echo \"        assert os.path.exists('test_log.txt')\"                                       >> testing_python/tests/test_bank_account.py\n",
        "!echo \"        with open('test_log.txt', 'r') as file:\"                                     >> testing_python/tests/test_bank_account.py\n",
        "!echo \"            content = file.readlines()\"                                              >> testing_python/tests/test_bank_account.py\n",
        "!echo \"        self.assertEqual(content, [\"                                                 >> testing_python/tests/test_bank_account.py\n",
        "!echo \"            'Account created\\\\\\n', \"                                                 >> testing_python/tests/test_bank_account.py\n",
        "!echo \"            'Deposit 500, new balance 1500\\\\\\n', \"                                   >> testing_python/tests/test_bank_account.py\n",
        "!echo \"            'Withdraw 200, new balance 1300\\\\\\n', \"                                  >> testing_python/tests/test_bank_account.py\n",
        "!echo \"            'Balance check, balance 1300\\\\\\n'\"                                       >> testing_python/tests/test_bank_account.py\n",
        "!echo \"            ])\"                                                                      >> testing_python/tests/test_bank_account.py"
      ]
    },
    {
      "cell_type": "markdown",
      "metadata": {},
      "source": [
        "Pasamos los test"
      ]
    },
    {
      "cell_type": "code",
      "execution_count": 2,
      "metadata": {},
      "outputs": [
        {
          "name": "stdout",
          "output_type": "stream",
          "text": [
            "test_deposit (test_bank_account.TestBankAccount) ... ok\n",
            "test_get_balance (test_bank_account.TestBankAccount) ... ok\n",
            "test_transaction_log (test_bank_account.TestBankAccount) ... ok\n",
            "test_withdraw (test_bank_account.TestBankAccount) ... FAIL\n",
            "test_divide (test_calculator.TestCalculator) ... ok\n",
            "test_multiply (test_calculator.TestCalculator) ... ok\n",
            "test_substract (test_calculator.TestCalculator) ... ok\n",
            "test_sum (test_calculator.TestCalculator) ... ok\n",
            "\n",
            "======================================================================\n",
            "FAIL: test_withdraw (test_bank_account.TestBankAccount)\n",
            "----------------------------------------------------------------------\n",
            "Traceback (most recent call last):\n",
            "  File \"/home/wallabot/Documentos/web/portafolio/posts/testing_python/tests/test_bank_account.py\", line 19, in test_withdraw\n",
            "    self.assertEqual(new_balace, 500, 'Balance is not correct')\n",
            "AssertionError: 800 != 500 : Balance is not correct\n",
            "\n",
            "----------------------------------------------------------------------\n",
            "Ran 8 tests in 0.001s\n",
            "\n",
            "FAILED (failures=1)\n"
          ]
        }
      ],
      "source": [
        "!cd testing_python && python -m unittest discover -s tests -v"
      ]
    },
    {
      "cell_type": "markdown",
      "metadata": {},
      "source": [
        "Como podemos ver, tenemos el mensaje que hemos escrito en el test `AssertionError: 800 != 500 : Balance is not correct`"
      ]
    },
    {
      "cell_type": "markdown",
      "metadata": {},
      "source": [
        "### `assert`s"
      ]
    },
    {
      "cell_type": "markdown",
      "metadata": {},
      "source": [
        "Hasta ahora hemos usado los `assertEqual`, pero hay m\u00e1s, como por ejemplo el `assertTrue`. Vamos a modificar la l\u00ednea `assert os.path.exists('test_log.txt')` por `self.assertTrue(os.path.exists('test_log.txt'))`"
      ]
    },
    {
      "cell_type": "code",
      "execution_count": null,
      "metadata": {},
      "outputs": [],
      "source": [
        "!echo \"import unittest\"                                                                     > testing_python/tests/test_bank_account.py\n",
        "!echo \"import os\"                                                                           >> testing_python/tests/test_bank_account.py\n",
        "!echo \"from src.bank_account import BankAccount\"                                            >> testing_python/tests/test_bank_account.py\n",
        "!echo \"\"                                                                                    >> testing_python/tests/test_bank_account.py\n",
        "!echo \"class TestBankAccount(unittest.TestCase):\"                                           >> testing_python/tests/test_bank_account.py\n",
        "!echo \"    def setUp(self):\"                                                                >> testing_python/tests/test_bank_account.py\n",
        "!echo \"        self.account = BankAccount(balance=1000, log_file='test_log.txt')\"           >> testing_python/tests/test_bank_account.py\n",
        "!echo \"\"                                                                                    >> testing_python/tests/test_bank_account.py\n",
        "!echo \"    def tearDown(self):\"                                                             >> testing_python/tests/test_bank_account.py\n",
        "!echo \"        if os.path.exists('test_log.txt'):\"                                          >> testing_python/tests/test_bank_account.py\n",
        "!echo \"            os.remove('test_log.txt')\"                                               >> testing_python/tests/test_bank_account.py\n",
        "!echo \"\"                                                                                    >> testing_python/tests/test_bank_account.py\n",
        "!echo \"    def test_deposit(self):\"                                                         >> testing_python/tests/test_bank_account.py\n",
        "!echo \"        new_balace = self.account.deposit(500)\"                                      >> testing_python/tests/test_bank_account.py\n",
        "!echo \"        self.assertEqual(new_balace, 1500)\"                                          >> testing_python/tests/test_bank_account.py\n",
        "!echo \"\"                                                                                    >> testing_python/tests/test_bank_account.py\n",
        "!echo \"    def test_withdraw(self):\"                                                        >> testing_python/tests/test_bank_account.py\n",
        "!echo \"        new_balace = self.account.withdraw(200)\"                                     >> testing_python/tests/test_bank_account.py\n",
        "!echo \"        self.assertEqual(new_balace, 800, 'Balance is not correct')\"                 >> testing_python/tests/test_bank_account.py\n",
        "!echo \"\"                                                                                    >> testing_python/tests/test_bank_account.py\n",
        "!echo \"    def test_get_balance(self):\"                                                     >> testing_python/tests/test_bank_account.py\n",
        "!echo \"        balance = self.account.get_balance()\"                                        >> testing_python/tests/test_bank_account.py\n",
        "!echo \"        self.assertEqual(balance, 1000)\"                                             >> testing_python/tests/test_bank_account.py\n",
        "!echo \"\"                                                                                    >> testing_python/tests/test_bank_account.py\n",
        "!echo \"    def test_transaction_log(self):\"                                                 >> testing_python/tests/test_bank_account.py\n",
        "!echo \"        self.account.deposit(500)\"                                                   >> testing_python/tests/test_bank_account.py\n",
        "!echo \"        self.account.withdraw(200)\"                                                  >> testing_python/tests/test_bank_account.py\n",
        "!echo \"        self.account.get_balance()\"                                                  >> testing_python/tests/test_bank_account.py\n",
        "!echo \"        self.assertTrue(os.path.exists('test_log.txt'))\"                             >> testing_python/tests/test_bank_account.py\n",
        "!echo \"        with open('test_log.txt', 'r') as file:\"                                     >> testing_python/tests/test_bank_account.py\n",
        "!echo \"            content = file.readlines()\"                                              >> testing_python/tests/test_bank_account.py\n",
        "!echo \"        self.assertEqual(content, [\"                                                 >> testing_python/tests/test_bank_account.py\n",
        "!echo \"            'Account created\\\\\\n', \"                                                 >> testing_python/tests/test_bank_account.py\n",
        "!echo \"            'Deposit 500, new balance 1500\\\\\\n', \"                                   >> testing_python/tests/test_bank_account.py\n",
        "!echo \"            'Withdraw 200, new balance 1300\\\\\\n', \"                                  >> testing_python/tests/test_bank_account.py\n",
        "!echo \"            'Balance check, balance 1300\\\\\\n'\"                                       >> testing_python/tests/test_bank_account.py\n",
        "!echo \"            ])\"                                                                      >> testing_python/tests/test_bank_account.py"
      ]
    },
    {
      "cell_type": "markdown",
      "metadata": {},
      "source": [
        "Y pasamos los test"
      ]
    },
    {
      "cell_type": "code",
      "execution_count": 5,
      "metadata": {},
      "outputs": [
        {
          "name": "stdout",
          "output_type": "stream",
          "text": [
            "test_deposit (test_bank_account.TestBankAccount) ... ok\n",
            "test_get_balance (test_bank_account.TestBankAccount) ... ok\n",
            "test_transaction_log (test_bank_account.TestBankAccount) ... ok\n",
            "test_withdraw (test_bank_account.TestBankAccount) ... ok\n",
            "test_divide (test_calculator.TestCalculator) ... ok\n",
            "test_multiply (test_calculator.TestCalculator) ... ok\n",
            "test_substract (test_calculator.TestCalculator) ... ok\n",
            "test_sum (test_calculator.TestCalculator) ... ok\n",
            "\n",
            "----------------------------------------------------------------------\n",
            "Ran 8 tests in 0.001s\n",
            "\n",
            "OK\n"
          ]
        }
      ],
      "source": [
        "!cd testing_python && python -m unittest discover -s tests -v"
      ]
    },
    {
      "cell_type": "markdown",
      "metadata": {},
      "source": [
        "Algunos otros `assert`s que podemos usar son:\n",
        " * `assertEqual`\n",
        " * `assertNotEqual`\n",
        " * `assertTrue`\n",
        " * `assertFalse`\n",
        " * `assertRaises`"
      ]
    },
    {
      "cell_type": "markdown",
      "metadata": {},
      "source": [
        "### `skip`"
      ]
    },
    {
      "cell_type": "markdown",
      "metadata": {},
      "source": [
        "Al igual que en Python podemos usar `pass` para no hacer nada, en los tests podemos usar `skip` para saltar un test. Esto puede ser \u00fatil cuando sabemos que queremos pasar unas pruebas, pero a\u00fan no est\u00e1 el c\u00f3digo para pasarlas."
      ]
    },
    {
      "cell_type": "markdown",
      "metadata": {},
      "source": [
        "Voy a a\u00f1adir un test que compruebe si el usuario tiene un pr\u00e9stamo, pero como a\u00fan no hay c\u00f3digo referente a los pr\u00e9stamos, voy a saltar el test"
      ]
    },
    {
      "cell_type": "code",
      "execution_count": 6,
      "metadata": {},
      "outputs": [],
      "source": [
        "!echo \"import unittest\"                                                                      > testing_python/tests/test_bank_account.py\n",
        "!echo \"import os\"                                                                           >> testing_python/tests/test_bank_account.py\n",
        "!echo \"from src.bank_account import BankAccount\"                                            >> testing_python/tests/test_bank_account.py\n",
        "!echo \"\"                                                                                    >> testing_python/tests/test_bank_account.py\n",
        "!echo \"class TestBankAccount(unittest.TestCase):\"                                           >> testing_python/tests/test_bank_account.py\n",
        "!echo \"    def setUp(self):\"                                                                >> testing_python/tests/test_bank_account.py\n",
        "!echo \"        self.account = BankAccount(balance=1000, log_file='test_log.txt')\"           >> testing_python/tests/test_bank_account.py\n",
        "!echo \"\"                                                                                    >> testing_python/tests/test_bank_account.py\n",
        "!echo \"    def tearDown(self):\"                                                             >> testing_python/tests/test_bank_account.py\n",
        "!echo \"        if os.path.exists('test_log.txt'):\"                                          >> testing_python/tests/test_bank_account.py\n",
        "!echo \"            os.remove('test_log.txt')\"                                               >> testing_python/tests/test_bank_account.py\n",
        "!echo \"\"                                                                                    >> testing_python/tests/test_bank_account.py\n",
        "!echo \"    def test_deposit(self):\"                                                         >> testing_python/tests/test_bank_account.py\n",
        "!echo \"        new_balace = self.account.deposit(500)\"                                      >> testing_python/tests/test_bank_account.py\n",
        "!echo \"        self.assertEqual(new_balace, 1500)\"                                          >> testing_python/tests/test_bank_account.py\n",
        "!echo \"\"                                                                                    >> testing_python/tests/test_bank_account.py\n",
        "!echo \"    def test_withdraw(self):\"                                                        >> testing_python/tests/test_bank_account.py\n",
        "!echo \"        new_balace = self.account.withdraw(200)\"                                     >> testing_python/tests/test_bank_account.py\n",
        "!echo \"        self.assertEqual(new_balace, 800, 'Balance is not correct')\"                 >> testing_python/tests/test_bank_account.py\n",
        "!echo \"\"                                                                                    >> testing_python/tests/test_bank_account.py\n",
        "!echo \"    def test_get_balance(self):\"                                                     >> testing_python/tests/test_bank_account.py\n",
        "!echo \"        balance = self.account.get_balance()\"                                        >> testing_python/tests/test_bank_account.py\n",
        "!echo \"        self.assertEqual(balance, 1000)\"                                             >> testing_python/tests/test_bank_account.py\n",
        "!echo \"\"                                                                                    >> testing_python/tests/test_bank_account.py\n",
        "!echo \"    def test_transaction_log(self):\"                                                 >> testing_python/tests/test_bank_account.py\n",
        "!echo \"        self.account.deposit(500)\"                                                   >> testing_python/tests/test_bank_account.py\n",
        "!echo \"        self.account.withdraw(200)\"                                                  >> testing_python/tests/test_bank_account.py\n",
        "!echo \"        self.account.get_balance()\"                                                  >> testing_python/tests/test_bank_account.py\n",
        "!echo \"        self.assertTrue(os.path.exists('test_log.txt'))\"                             >> testing_python/tests/test_bank_account.py\n",
        "!echo \"        with open('test_log.txt', 'r') as file:\"                                     >> testing_python/tests/test_bank_account.py\n",
        "!echo \"            content = file.readlines()\"                                              >> testing_python/tests/test_bank_account.py\n",
        "!echo \"        self.assertEqual(content, [\"                                                 >> testing_python/tests/test_bank_account.py\n",
        "!echo \"            'Account created\\\\\\n', \"                                                 >> testing_python/tests/test_bank_account.py\n",
        "!echo \"            'Deposit 500, new balance 1500\\\\\\n', \"                                   >> testing_python/tests/test_bank_account.py\n",
        "!echo \"            'Withdraw 200, new balance 1300\\\\\\n', \"                                  >> testing_python/tests/test_bank_account.py\n",
        "!echo \"            'Balance check, balance 1300\\\\\\n'\"                                       >> testing_python/tests/test_bank_account.py\n",
        "!echo \"            ])\"                                                                      >> testing_python/tests/test_bank_account.py\n",
        "!echo \"\"                                                                                    >> testing_python/tests/test_bank_account.py\n",
        "!echo \"    @unittest.skip('Not implemented yet')\"                                           >> testing_python/tests/test_bank_account.py\n",
        "!echo \"    def test_has_loan(self):\"                                                        >> testing_python/tests/test_bank_account.py\n",
        "!echo \"        self.assertFalse(self.account.has_loan())\"                                   >> testing_python/tests/test_bank_account.py"
      ]
    },
    {
      "cell_type": "markdown",
      "metadata": {},
      "source": [
        "Vamos a ver qu\u00e9 pasa al ejecutarlo"
      ]
    },
    {
      "cell_type": "code",
      "execution_count": 7,
      "metadata": {},
      "outputs": [
        {
          "name": "stdout",
          "output_type": "stream",
          "text": [
            "test_deposit (test_bank_account.TestBankAccount) ... ok\n",
            "test_get_balance (test_bank_account.TestBankAccount) ... ok\n",
            "test_has_loan (test_bank_account.TestBankAccount) ... skipped 'Not implemented yet'\n",
            "test_transaction_log (test_bank_account.TestBankAccount) ... ok\n",
            "test_withdraw (test_bank_account.TestBankAccount) ... ok\n",
            "test_divide (test_calculator.TestCalculator) ... ok\n",
            "test_multiply (test_calculator.TestCalculator) ... ok\n",
            "test_substract (test_calculator.TestCalculator) ... ok\n",
            "test_sum (test_calculator.TestCalculator) ... ok\n",
            "\n",
            "----------------------------------------------------------------------\n",
            "Ran 9 tests in 0.001s\n",
            "\n",
            "OK (skipped=1)\n"
          ]
        }
      ],
      "source": [
        "!cd testing_python && python -m unittest discover -s tests -v"
      ]
    },
    {
      "cell_type": "markdown",
      "metadata": {},
      "source": [
        "Podemos ver `test_has_loan (test_bank_account.TestBankAccount) ... skipped 'Not implemented yet'` se ha saltado ese test como quer\u00edamos"
      ]
    },
    {
      "cell_type": "markdown",
      "metadata": {},
      "source": [
        "### `skipIf`"
      ]
    },
    {
      "cell_type": "markdown",
      "metadata": {},
      "source": [
        "Otra opci\u00f3n es usar `skipIf` para saltar un test si se cumple una condici\u00f3n. Voy a a\u00f1adir una variable al principio llamada `server` para saber si estamos en un entorno local o en el servidor, y el test comprobar\u00e1 esa variable, de modo que si estamos en el servidor, se saltar\u00e1 el test"
      ]
    },
    {
      "cell_type": "code",
      "execution_count": null,
      "metadata": {},
      "outputs": [],
      "source": [
        "!echo \"import unittest\"                                                                      > testing_python/tests/test_bank_account.py\n",
        "!echo \"import os\"                                                                           >> testing_python/tests/test_bank_account.py\n",
        "!echo \"from src.bank_account import BankAccount\"                                            >> testing_python/tests/test_bank_account.py\n",
        "!echo \"\"                                                                                    >> testing_python/tests/test_bank_account.py\n",
        "!echo \"SERVER = True\"                                                                       >> testing_python/tests/test_bank_account.py\n",
        "!echo \"\"                                                                                    >> testing_python/tests/test_bank_account.py\n",
        "!echo \"class TestBankAccount(unittest.TestCase):\"                                           >> testing_python/tests/test_bank_account.py\n",
        "!echo \"    def setUp(self):\"                                                                >> testing_python/tests/test_bank_account.py\n",
        "!echo \"        self.account = BankAccount(balance=1000, log_file='test_log.txt')\"           >> testing_python/tests/test_bank_account.py\n",
        "!echo \"\"                                                                                    >> testing_python/tests/test_bank_account.py\n",
        "!echo \"    def tearDown(self):\"                                                             >> testing_python/tests/test_bank_account.py\n",
        "!echo \"        if os.path.exists('test_log.txt'):\"                                          >> testing_python/tests/test_bank_account.py\n",
        "!echo \"            os.remove('test_log.txt')\"                                               >> testing_python/tests/test_bank_account.py\n",
        "!echo \"\"                                                                                    >> testing_python/tests/test_bank_account.py\n",
        "!echo \"    def test_deposit(self):\"                                                         >> testing_python/tests/test_bank_account.py\n",
        "!echo \"        new_balace = self.account.deposit(500)\"                                      >> testing_python/tests/test_bank_account.py\n",
        "!echo \"        self.assertEqual(new_balace, 1500)\"                                          >> testing_python/tests/test_bank_account.py\n",
        "!echo \"\"                                                                                    >> testing_python/tests/test_bank_account.py\n",
        "!echo \"    def test_withdraw(self):\"                                                        >> testing_python/tests/test_bank_account.py\n",
        "!echo \"        new_balace = self.account.withdraw(200)\"                                     >> testing_python/tests/test_bank_account.py\n",
        "!echo \"        self.assertEqual(new_balace, 800, 'Balance is not correct')\"                 >> testing_python/tests/test_bank_account.py\n",
        "!echo \"\"                                                                                    >> testing_python/tests/test_bank_account.py\n",
        "!echo \"    def test_get_balance(self):\"                                                     >> testing_python/tests/test_bank_account.py\n",
        "!echo \"        balance = self.account.get_balance()\"                                        >> testing_python/tests/test_bank_account.py\n",
        "!echo \"        self.assertEqual(balance, 1000)\"                                             >> testing_python/tests/test_bank_account.py\n",
        "!echo \"\"                                                                                    >> testing_python/tests/test_bank_account.py\n",
        "!echo \"    def test_transaction_log(self):\"                                                 >> testing_python/tests/test_bank_account.py\n",
        "!echo \"        self.account.deposit(500)\"                                                   >> testing_python/tests/test_bank_account.py\n",
        "!echo \"        self.account.withdraw(200)\"                                                  >> testing_python/tests/test_bank_account.py\n",
        "!echo \"        self.account.get_balance()\"                                                  >> testing_python/tests/test_bank_account.py\n",
        "!echo \"        self.assertTrue(os.path.exists('test_log.txt'))\"                             >> testing_python/tests/test_bank_account.py\n",
        "!echo \"        with open('test_log.txt', 'r') as file:\"                                     >> testing_python/tests/test_bank_account.py\n",
        "!echo \"            content = file.readlines()\"                                              >> testing_python/tests/test_bank_account.py\n",
        "!echo \"        self.assertEqual(content, [\"                                                 >> testing_python/tests/test_bank_account.py\n",
        "!echo \"            'Account created\\\\\\n', \"                                                 >> testing_python/tests/test_bank_account.py\n",
        "!echo \"            'Deposit 500, new balance 1500\\\\\\n', \"                                   >> testing_python/tests/test_bank_account.py\n",
        "!echo \"            'Withdraw 200, new balance 1300\\\\\\n', \"                                  >> testing_python/tests/test_bank_account.py\n",
        "!echo \"            'Balance check, balance 1300\\\\\\n'\"                                       >> testing_python/tests/test_bank_account.py\n",
        "!echo \"            ])\"                                                                      >> testing_python/tests/test_bank_account.py\n",
        "!echo \"\"                                                                                    >> testing_python/tests/test_bank_account.py\n",
        "!echo \"    @unittest.skip('Not implemented yet')\"                                           >> testing_python/tests/test_bank_account.py\n",
        "!echo \"    def test_has_loan(self):\"                                                        >> testing_python/tests/test_bank_account.py\n",
        "!echo \"        self.assertFalse(self.account.has_loan())\"                                   >> testing_python/tests/test_bank_account.py\n",
        "!echo \"\"                                                                                    >> testing_python/tests/test_bank_account.py\n",
        "!echo \"    @unittest.skipIf(SERVER, 'Only for local testing')\"                              >> testing_python/tests/test_bank_account.py\n",
        "!echo \"    def test_server(self):\"                                                          >> testing_python/tests/test_bank_account.py\n",
        "!echo \"        self.assertTrue(SERVER)\"                                                     >> testing_python/tests/test_bank_account.py"
      ]
    },
    {
      "cell_type": "markdown",
      "metadata": {},
      "source": [
        "Si pasamos los test"
      ]
    },
    {
      "cell_type": "code",
      "execution_count": 9,
      "metadata": {},
      "outputs": [
        {
          "name": "stdout",
          "output_type": "stream",
          "text": [
            "test_deposit (test_bank_account.TestBankAccount) ... ok\n",
            "test_get_balance (test_bank_account.TestBankAccount) ... ok\n",
            "test_has_loan (test_bank_account.TestBankAccount) ... skipped 'Not implemented yet'\n",
            "test_server (test_bank_account.TestBankAccount) ... skipped 'Only for local testing'\n",
            "test_transaction_log (test_bank_account.TestBankAccount) ... ok\n",
            "test_withdraw (test_bank_account.TestBankAccount) ... ok\n",
            "test_divide (test_calculator.TestCalculator) ... ok\n",
            "test_multiply (test_calculator.TestCalculator) ... ok\n",
            "test_substract (test_calculator.TestCalculator) ... ok\n",
            "test_sum (test_calculator.TestCalculator) ... ok\n",
            "\n",
            "----------------------------------------------------------------------\n",
            "Ran 10 tests in 0.001s\n",
            "\n",
            "OK (skipped=2)\n"
          ]
        }
      ],
      "source": [
        "!cd testing_python && python -m unittest discover -s tests -v"
      ]
    },
    {
      "cell_type": "markdown",
      "metadata": {},
      "source": [
        "Vemos `test_server (test_bank_account.TestBankAccount) ... skipped 'Only for local testing'` ya que como `SERVER = True` se ha saltado el test"
      ]
    },
    {
      "cell_type": "markdown",
      "metadata": {},
      "source": [
        "### `expectedFailure`"
      ]
    },
    {
      "cell_type": "markdown",
      "metadata": {},
      "source": [
        "Se tiene que producir un error cuando un usuario quiere sacar m\u00e1s dinero del que tiene, de modo que con el m\u00e9todo `expectedFailure` podemos decir que esperamos que falle el test"
      ]
    },
    {
      "cell_type": "code",
      "execution_count": 12,
      "metadata": {},
      "outputs": [],
      "source": [
        "!echo \"import unittest\"                                                                      > testing_python/tests/test_bank_account.py\n",
        "!echo \"import os\"                                                                           >> testing_python/tests/test_bank_account.py\n",
        "!echo \"from src.bank_account import BankAccount\"                                            >> testing_python/tests/test_bank_account.py\n",
        "!echo \"\"                                                                                    >> testing_python/tests/test_bank_account.py\n",
        "!echo \"SERVER = True\"                                                                       >> testing_python/tests/test_bank_account.py\n",
        "!echo \"\"                                                                                    >> testing_python/tests/test_bank_account.py\n",
        "!echo \"class TestBankAccount(unittest.TestCase):\"                                           >> testing_python/tests/test_bank_account.py\n",
        "!echo \"    def setUp(self):\"                                                                >> testing_python/tests/test_bank_account.py\n",
        "!echo \"        self.account = BankAccount(balance=1000, log_file='test_log.txt')\"           >> testing_python/tests/test_bank_account.py\n",
        "!echo \"\"                                                                                    >> testing_python/tests/test_bank_account.py\n",
        "!echo \"    def tearDown(self):\"                                                             >> testing_python/tests/test_bank_account.py\n",
        "!echo \"        if os.path.exists('test_log.txt'):\"                                          >> testing_python/tests/test_bank_account.py\n",
        "!echo \"            os.remove('test_log.txt')\"                                               >> testing_python/tests/test_bank_account.py\n",
        "!echo \"\"                                                                                    >> testing_python/tests/test_bank_account.py\n",
        "!echo \"    def test_deposit(self):\"                                                         >> testing_python/tests/test_bank_account.py\n",
        "!echo \"        new_balace = self.account.deposit(500)\"                                      >> testing_python/tests/test_bank_account.py\n",
        "!echo \"        self.assertEqual(new_balace, 1500)\"                                          >> testing_python/tests/test_bank_account.py\n",
        "!echo \"\"                                                                                    >> testing_python/tests/test_bank_account.py\n",
        "!echo \"    def test_withdraw(self):\"                                                        >> testing_python/tests/test_bank_account.py\n",
        "!echo \"        new_balace = self.account.withdraw(200)\"                                     >> testing_python/tests/test_bank_account.py\n",
        "!echo \"        self.assertEqual(new_balace, 800, 'Balance is not correct')\"                 >> testing_python/tests/test_bank_account.py\n",
        "!echo \"\"                                                                                    >> testing_python/tests/test_bank_account.py\n",
        "!echo \"    def test_get_balance(self):\"                                                     >> testing_python/tests/test_bank_account.py\n",
        "!echo \"        balance = self.account.get_balance()\"                                        >> testing_python/tests/test_bank_account.py\n",
        "!echo \"        self.assertEqual(balance, 1000)\"                                             >> testing_python/tests/test_bank_account.py\n",
        "!echo \"\"                                                                                    >> testing_python/tests/test_bank_account.py\n",
        "!echo \"    def test_transaction_log(self):\"                                                 >> testing_python/tests/test_bank_account.py\n",
        "!echo \"        self.account.deposit(500)\"                                                   >> testing_python/tests/test_bank_account.py\n",
        "!echo \"        self.account.withdraw(200)\"                                                  >> testing_python/tests/test_bank_account.py\n",
        "!echo \"        self.account.get_balance()\"                                                  >> testing_python/tests/test_bank_account.py\n",
        "!echo \"        self.assertTrue(os.path.exists('test_log.txt'))\"                             >> testing_python/tests/test_bank_account.py\n",
        "!echo \"        with open('test_log.txt', 'r') as file:\"                                     >> testing_python/tests/test_bank_account.py\n",
        "!echo \"            content = file.readlines()\"                                              >> testing_python/tests/test_bank_account.py\n",
        "!echo \"        self.assertEqual(content, [\"                                                 >> testing_python/tests/test_bank_account.py\n",
        "!echo \"            'Account created\\\\\\n', \"                                                 >> testing_python/tests/test_bank_account.py\n",
        "!echo \"            'Deposit 500, new balance 1500\\\\\\n', \"                                   >> testing_python/tests/test_bank_account.py\n",
        "!echo \"            'Withdraw 200, new balance 1300\\\\\\n', \"                                  >> testing_python/tests/test_bank_account.py\n",
        "!echo \"            'Balance check, balance 1300\\\\\\n'\"                                       >> testing_python/tests/test_bank_account.py\n",
        "!echo \"            ])\"                                                                      >> testing_python/tests/test_bank_account.py\n",
        "!echo \"\"                                                                                    >> testing_python/tests/test_bank_account.py\n",
        "!echo \"    @unittest.skip('Not implemented yet')\"                                           >> testing_python/tests/test_bank_account.py\n",
        "!echo \"    def test_has_loan(self):\"                                                        >> testing_python/tests/test_bank_account.py\n",
        "!echo \"        self.assertFalse(self.account.has_loan())\"                                   >> testing_python/tests/test_bank_account.py\n",
        "!echo \"\"                                                                                    >> testing_python/tests/test_bank_account.py\n",
        "!echo \"    @unittest.skipIf(SERVER, 'Only for local testing')\"                              >> testing_python/tests/test_bank_account.py\n",
        "!echo \"    def test_server(self):\"                                                          >> testing_python/tests/test_bank_account.py\n",
        "!echo \"        self.assertTrue(SERVER)\"                                                     >> testing_python/tests/test_bank_account.py\n",
        "!echo \"\"                                                                                    >> testing_python/tests/test_bank_account.py\n",
        "!echo \"    @unittest.expectedFailure\"                                                       >> testing_python/tests/test_bank_account.py\n",
        "!echo \"    def test_fail(self):\"                                                            >> testing_python/tests/test_bank_account.py\n",
        "!echo \"        new_balace = self.account.withdraw(1200)\"                                    >> testing_python/tests/test_bank_account.py\n",
        "!echo \"        self.assertEqual(new_balace, 800, 'Not enough money')\"                       >> testing_python/tests/test_bank_account.py"
      ]
    },
    {
      "cell_type": "markdown",
      "metadata": {},
      "source": [
        "Pasamos los test"
      ]
    },
    {
      "cell_type": "code",
      "execution_count": 13,
      "metadata": {},
      "outputs": [
        {
          "name": "stdout",
          "output_type": "stream",
          "text": [
            "test_deposit (test_bank_account.TestBankAccount) ... ok\n",
            "test_fail (test_bank_account.TestBankAccount) ... expected failure\n",
            "test_get_balance (test_bank_account.TestBankAccount) ... ok\n",
            "test_has_loan (test_bank_account.TestBankAccount) ... skipped 'Not implemented yet'\n",
            "test_server (test_bank_account.TestBankAccount) ... skipped 'Only for local testing'\n",
            "test_transaction_log (test_bank_account.TestBankAccount) ... ok\n",
            "test_withdraw (test_bank_account.TestBankAccount) ... ok\n",
            "test_divide (test_calculator.TestCalculator) ... ok\n",
            "test_multiply (test_calculator.TestCalculator) ... ok\n",
            "test_substract (test_calculator.TestCalculator) ... ok\n",
            "test_sum (test_calculator.TestCalculator) ... ok\n",
            "\n",
            "----------------------------------------------------------------------\n",
            "Ran 11 tests in 0.001s\n",
            "\n",
            "OK (skipped=2, expected failures=1)\n"
          ]
        }
      ],
      "source": [
        "!cd testing_python && python -m unittest discover -s tests -v"
      ]
    },
    {
      "cell_type": "markdown",
      "metadata": {},
      "source": [
        "Como vemos, obtenemos `test_fail (test_bank_account.TestBankAccount) ... expected failure` porque es un error que esper\u00e1bamos"
      ]
    },
    {
      "cell_type": "markdown",
      "metadata": {},
      "source": [
        "### `skipUnless`"
      ]
    },
    {
      "cell_type": "markdown",
      "metadata": {},
      "source": [
        "Al igual que antes, puede que haya pruebas que solo queramos hacer en el entorno de desarrollo, pero nunca en el servidor, o en staging, o en producci\u00f3n. Para eso podemos usar `skipUnless`"
      ]
    },
    {
      "cell_type": "code",
      "execution_count": null,
      "metadata": {},
      "outputs": [],
      "source": [
        "!echo \"import unittest\"                                                                      > testing_python/tests/test_bank_account.py\n",
        "!echo \"import os\"                                                                           >> testing_python/tests/test_bank_account.py\n",
        "!echo \"from src.bank_account import BankAccount\"                                            >> testing_python/tests/test_bank_account.py\n",
        "!echo \"\"                                                                                    >> testing_python/tests/test_bank_account.py\n",
        "!echo \"SERVER = True\"                                                                       >> testing_python/tests/test_bank_account.py\n",
        "!echo \"ENVIRONMENT = 'server'\"                                                              >> testing_python/tests/test_bank_account.py\n",
        "!echo \"\"                                                                                    >> testing_python/tests/test_bank_account.py\n",
        "!echo \"class TestBankAccount(unittest.TestCase):\"                                           >> testing_python/tests/test_bank_account.py\n",
        "!echo \"    def setUp(self):\"                                                                >> testing_python/tests/test_bank_account.py\n",
        "!echo \"        self.account = BankAccount(balance=1000, log_file='test_log.txt')\"           >> testing_python/tests/test_bank_account.py\n",
        "!echo \"\"                                                                                    >> testing_python/tests/test_bank_account.py\n",
        "!echo \"    def tearDown(self):\"                                                             >> testing_python/tests/test_bank_account.py\n",
        "!echo \"        if os.path.exists('test_log.txt'):\"                                          >> testing_python/tests/test_bank_account.py\n",
        "!echo \"            os.remove('test_log.txt')\"                                               >> testing_python/tests/test_bank_account.py\n",
        "!echo \"\"                                                                                    >> testing_python/tests/test_bank_account.py\n",
        "!echo \"    def test_deposit(self):\"                                                         >> testing_python/tests/test_bank_account.py\n",
        "!echo \"        new_balace = self.account.deposit(500)\"                                      >> testing_python/tests/test_bank_account.py\n",
        "!echo \"        self.assertEqual(new_balace, 1500)\"                                          >> testing_python/tests/test_bank_account.py\n",
        "!echo \"\"                                                                                    >> testing_python/tests/test_bank_account.py\n",
        "!echo \"    def test_withdraw(self):\"                                                        >> testing_python/tests/test_bank_account.py\n",
        "!echo \"        new_balace = self.account.withdraw(200)\"                                     >> testing_python/tests/test_bank_account.py\n",
        "!echo \"        self.assertEqual(new_balace, 800, 'Balance is not correct')\"                 >> testing_python/tests/test_bank_account.py\n",
        "!echo \"\"                                                                                    >> testing_python/tests/test_bank_account.py\n",
        "!echo \"    def test_get_balance(self):\"                                                     >> testing_python/tests/test_bank_account.py\n",
        "!echo \"        balance = self.account.get_balance()\"                                        >> testing_python/tests/test_bank_account.py\n",
        "!echo \"        self.assertEqual(balance, 1000)\"                                             >> testing_python/tests/test_bank_account.py\n",
        "!echo \"\"                                                                                    >> testing_python/tests/test_bank_account.py\n",
        "!echo \"    def test_transaction_log(self):\"                                                 >> testing_python/tests/test_bank_account.py\n",
        "!echo \"        self.account.deposit(500)\"                                                   >> testing_python/tests/test_bank_account.py\n",
        "!echo \"        self.account.withdraw(200)\"                                                  >> testing_python/tests/test_bank_account.py\n",
        "!echo \"        self.account.get_balance()\"                                                  >> testing_python/tests/test_bank_account.py\n",
        "!echo \"        self.assertTrue(os.path.exists('test_log.txt'))\"                             >> testing_python/tests/test_bank_account.py\n",
        "!echo \"        with open('test_log.txt', 'r') as file:\"                                     >> testing_python/tests/test_bank_account.py\n",
        "!echo \"            content = file.readlines()\"                                              >> testing_python/tests/test_bank_account.py\n",
        "!echo \"        self.assertEqual(content, [\"                                                 >> testing_python/tests/test_bank_account.py\n",
        "!echo \"            'Account created\\\\\\n', \"                                                 >> testing_python/tests/test_bank_account.py\n",
        "!echo \"            'Deposit 500, new balance 1500\\\\\\n', \"                                   >> testing_python/tests/test_bank_account.py\n",
        "!echo \"            'Withdraw 200, new balance 1300\\\\\\n', \"                                  >> testing_python/tests/test_bank_account.py\n",
        "!echo \"            'Balance check, balance 1300\\\\\\n'\"                                       >> testing_python/tests/test_bank_account.py\n",
        "!echo \"            ])\"                                                                      >> testing_python/tests/test_bank_account.py\n",
        "!echo \"\"                                                                                    >> testing_python/tests/test_bank_account.py\n",
        "!echo \"    @unittest.skip('Not implemented yet')\"                                           >> testing_python/tests/test_bank_account.py\n",
        "!echo \"    def test_has_loan(self):\"                                                        >> testing_python/tests/test_bank_account.py\n",
        "!echo \"        self.assertFalse(self.account.has_loan())\"                                   >> testing_python/tests/test_bank_account.py\n",
        "!echo \"\"                                                                                    >> testing_python/tests/test_bank_account.py\n",
        "!echo \"    @unittest.skipIf(SERVER, 'Only for local testing')\"                              >> testing_python/tests/test_bank_account.py\n",
        "!echo \"    def test_server(self):\"                                                          >> testing_python/tests/test_bank_account.py\n",
        "!echo \"        self.assertTrue(SERVER)\"                                                     >> testing_python/tests/test_bank_account.py\n",
        "!echo \"\"                                                                                    >> testing_python/tests/test_bank_account.py\n",
        "!echo \"    @unittest.expectedFailure\"                                                       >> testing_python/tests/test_bank_account.py\n",
        "!echo \"    def test_fail(self):\"                                                            >> testing_python/tests/test_bank_account.py\n",
        "!echo \"        new_balace = self.account.withdraw(1200)\"                                    >> testing_python/tests/test_bank_account.py\n",
        "!echo \"        self.assertEqual(new_balace, 800, 'Not enough money')\"                       >> testing_python/tests/test_bank_account.py\n",
        "!echo \"\"                                                                                    >> testing_python/tests/test_bank_account.py\n",
        "!echo \"    @unittest.skipUnless(ENVIRONMENT == 'dev', 'Only for dev environment')\"          >> testing_python/tests/test_bank_account.py\n",
        "!echo \"    def test_environment(self):\"                                                     >> testing_python/tests/test_bank_account.py\n",
        "!echo \"        self.assertEqual(ENVIRONMENT, 'dev')\"                                        >> testing_python/tests/test_bank_account.py"
      ]
    },
    {
      "cell_type": "markdown",
      "metadata": {},
      "source": [
        "Pasamos los test"
      ]
    },
    {
      "cell_type": "code",
      "execution_count": 15,
      "metadata": {},
      "outputs": [
        {
          "name": "stdout",
          "output_type": "stream",
          "text": [
            "test_deposit (test_bank_account.TestBankAccount) ... ok\n",
            "test_environment (test_bank_account.TestBankAccount) ... skipped 'Only for dev environment'\n",
            "test_fail (test_bank_account.TestBankAccount) ... expected failure\n",
            "test_get_balance (test_bank_account.TestBankAccount) ... ok\n",
            "test_has_loan (test_bank_account.TestBankAccount) ... skipped 'Not implemented yet'\n",
            "test_server (test_bank_account.TestBankAccount) ... skipped 'Only for local testing'\n",
            "test_transaction_log (test_bank_account.TestBankAccount) ... ok\n",
            "test_withdraw (test_bank_account.TestBankAccount) ... ok\n",
            "test_divide (test_calculator.TestCalculator) ... ok\n",
            "test_multiply (test_calculator.TestCalculator) ... ok\n",
            "test_substract (test_calculator.TestCalculator) ... ok\n",
            "test_sum (test_calculator.TestCalculator) ... ok\n",
            "\n",
            "----------------------------------------------------------------------\n",
            "Ran 12 tests in 0.001s\n",
            "\n",
            "OK (skipped=3, expected failures=1)\n"
          ]
        }
      ],
      "source": [
        "!cd testing_python && python -m unittest discover -s tests -v"
      ]
    },
    {
      "cell_type": "markdown",
      "metadata": {},
      "source": [
        "Obtenemos `test_environment (test_bank_account.TestBankAccount) ... skipped 'Only for dev environment'` porque ese test solo se va a pasar en el entorno de desarrollo y se supone que estamos en el servidor"
      ]
    },
    {
      "cell_type": "markdown",
      "metadata": {},
      "source": [
        "## Organizar los tests"
      ]
    },
    {
      "cell_type": "markdown",
      "metadata": {},
      "source": [
        "Podemos organizar los test organizando lo que se llaman `test suites`. Para ello vamos a crear un archivo llamado `test_suites.py` en la carpeta `tests`"
      ]
    },
    {
      "cell_type": "code",
      "execution_count": 17,
      "metadata": {},
      "outputs": [],
      "source": [
        "!cd testing_python && cd tests && touch test_suites.py"
      ]
    },
    {
      "cell_type": "markdown",
      "metadata": {},
      "source": [
        "Y ahora generamos dos test suite con los tests de `test_calculator` y `test_bank_account`"
      ]
    },
    {
      "cell_type": "code",
      "execution_count": 32,
      "metadata": {},
      "outputs": [],
      "source": [
        "!echo \"import unittest\"                                              > testing_python/tests/test_suite_calculator.py\n",
        "!echo \"\"                                                            >> testing_python/tests/test_suite_calculator.py\n",
        "!echo \"from test_calculator import TestCalculator\"                  >> testing_python/tests/test_suite_calculator.py\n",
        "!echo \"\"                                                            >> testing_python/tests/test_suite_calculator.py\n",
        "!echo \"def calculator_suite():\"                                     >> testing_python/tests/test_suite_calculator.py\n",
        "!echo \"    suite = unittest.TestSuite()\"                            >> testing_python/tests/test_suite_calculator.py\n",
        "!echo \"    suite.addTest(TestCalculator('test_sum'))\"               >> testing_python/tests/test_suite_calculator.py\n",
        "!echo \"    suite.addTest(TestCalculator('test_substract'))\"          >> testing_python/tests/test_suite_calculator.py\n",
        "!echo \"    suite.addTest(TestCalculator('test_multiply'))\"          >> testing_python/tests/test_suite_calculator.py\n",
        "!echo \"    suite.addTest(TestCalculator('test_divide'))\"          >> testing_python/tests/test_suite_calculator.py\n",
        "!echo \"    return suite\"                                            >> testing_python/tests/test_suite_calculator.py\n",
        "!echo \"\"                                                            >> testing_python/tests/test_suite_calculator.py\n",
        "!echo \"if __name__ == '__main__':\"                                  >> testing_python/tests/test_suite_calculator.py\n",
        "!echo \"    runner = unittest.TextTestRunner()\"                      >> testing_python/tests/test_suite_calculator.py\n",
        "!echo \"    runner.run(calculator_suite())\"                          >> testing_python/tests/test_suite_calculator.py"
      ]
    },
    {
      "cell_type": "markdown",
      "metadata": {},
      "source": [
        "Ahora el de `test_bank_account`"
      ]
    },
    {
      "cell_type": "code",
      "execution_count": 35,
      "metadata": {},
      "outputs": [],
      "source": [
        "!echo \"import unittest\"                                              > testing_python/tests/test_suite_bank_account.py\n",
        "!echo \"\"                                                            >> testing_python/tests/test_suite_bank_account.py\n",
        "!echo \"from test_bank_account import TestBankAccount\"               >> testing_python/tests/test_suite_bank_account.py\n",
        "!echo \"\"                                                            >> testing_python/tests/test_suite_bank_account.py\n",
        "!echo \"def bank_account_suite():\"                                   >> testing_python/tests/test_suite_bank_account.py\n",
        "!echo \"    suite = unittest.TestSuite()\"                            >> testing_python/tests/test_suite_bank_account.py\n",
        "!echo \"    suite.addTest(TestBankAccount('test_deposit'))\"          >> testing_python/tests/test_suite_bank_account.py\n",
        "!echo \"    suite.addTest(TestBankAccount('test_withdraw'))\"         >> testing_python/tests/test_suite_bank_account.py\n",
        "!echo \"    suite.addTest(TestBankAccount('test_get_balance'))\"      >> testing_python/tests/test_suite_bank_account.py\n",
        "!echo \"    suite.addTest(TestBankAccount('test_transaction_log'))\"  >> testing_python/tests/test_suite_bank_account.py\n",
        "!echo \"    suite.addTest(TestBankAccount('test_has_loan'))\"         >> testing_python/tests/test_suite_bank_account.py\n",
        "!echo \"    suite.addTest(TestBankAccount('test_server'))\"           >> testing_python/tests/test_suite_bank_account.py\n",
        "!echo \"    suite.addTest(TestBankAccount('test_fail'))\"             >> testing_python/tests/test_suite_bank_account.py\n",
        "!echo \"    suite.addTest(TestBankAccount('test_environment'))\"      >> testing_python/tests/test_suite_bank_account.py\n",
        "!echo \"    return suite\"                                            >> testing_python/tests/test_suite_bank_account.py\n",
        "!echo \"\"                                                            >> testing_python/tests/test_suite_bank_account.py\n",
        "!echo \"if __name__ == '__main__':\"                                  >> testing_python/tests/test_suite_bank_account.py\n",
        "!echo \"    runner = unittest.TextTestRunner()\"                      >> testing_python/tests/test_suite_bank_account.py\n",
        "!echo \"    runner.run(bank_account_suite())\"                        >> testing_python/tests/test_suite_bank_account.py"
      ]
    },
    {
      "cell_type": "markdown",
      "metadata": {},
      "source": [
        "Podemos ejecutar solo los tests de `test_calculator` con el comando `python tests/test_suite_calculator.py`"
      ]
    },
    {
      "cell_type": "code",
      "execution_count": null,
      "metadata": {},
      "outputs": [
        {
          "name": "stdout",
          "output_type": "stream",
          "text": [
            "Traceback (most recent call last):\n",
            "  File \"/home/wallabot/Documentos/web/portafolio/posts/testing_python/tests/test_suite_calculator.py\", line 3, in <module>\n",
            "    from test_calculator import TestCalculator\n",
            "  File \"/home/wallabot/Documentos/web/portafolio/posts/testing_python/tests/test_calculator.py\", line 2, in <module>\n",
            "    from src.calculator import sum, substract, multiply, divide\n",
            "ModuleNotFoundError: No module named 'src'\n"
          ]
        }
      ],
      "source": [
        "!cd testing_python && python tests/test_suite_calculator.py"
      ]
    },
    {
      "cell_type": "markdown",
      "metadata": {},
      "source": [
        "Vemos que no encuentra el m\u00f3dulo `src` de `test_calculator.py`, eso es porque no est\u00e1 en la ruta, as\u00ed que vamos a a\u00f1adirlo"
      ]
    },
    {
      "cell_type": "code",
      "execution_count": null,
      "metadata": {},
      "outputs": [
        {
          "name": "stdout",
          "output_type": "stream",
          "text": [
            "....\n",
            "----------------------------------------------------------------------\n",
            "Ran 4 tests in 0.000s\n",
            "\n",
            "OK\n"
          ]
        }
      ],
      "source": [
        "!cd testing_python && PYTHONPATH=. python tests/test_suite_calculator.py"
      ]
    },
    {
      "cell_type": "markdown",
      "metadata": {},
      "source": [
        "Vemos que solo ha pasado los test de `test_calculator`"
      ]
    },
    {
      "cell_type": "markdown",
      "metadata": {},
      "source": [
        "Vamos a pasar ahora los de `test_bank_account.py`"
      ]
    },
    {
      "cell_type": "code",
      "execution_count": null,
      "metadata": {},
      "outputs": [
        {
          "name": "stdout",
          "output_type": "stream",
          "text": [
            "....ssxs\n",
            "----------------------------------------------------------------------\n",
            "Ran 8 tests in 0.001s\n",
            "\n",
            "OK (skipped=3, expected failures=1)\n"
          ]
        }
      ],
      "source": [
        "!cd testing_python && PYTHONPATH=. python tests/test_suite_bank_account.py"
      ]
    },
    {
      "cell_type": "markdown",
      "metadata": {},
      "source": [
        "Y aqu\u00ed vemos que pasa los tests de `test_bank_account`"
      ]
    },
    {
      "cell_type": "markdown",
      "metadata": {},
      "source": [
        "Hay que diferenciar con lo que hac\u00edamos al principio, antes de usar `discover`, cuando hac\u00edamos `!cd testing_python && python -m unittest tests/test_calculator.py`. Porque en `test_calculator.py` podemos escribir todos los posibles test para `calculator.py`, pero con las `suite`s ejecutamos los test que queramos. Podr\u00edamos tener varias `suite`s para ejecutar los test que queramos de `test_calculator.py` y `test_bank_account.py`"
      ]
    },
    {
      "cell_type": "markdown",
      "metadata": {},
      "source": [
        "## Mejores pr\u00e1cticas a la hora de nombrar los test"
      ]
    },
    {
      "cell_type": "markdown",
      "metadata": {},
      "source": [
        "A la hora de nombrar los test viene bien seguir las siguientes pautas:",
        " * Una clase de test por cada clase de c\u00f3digo",
        "* Todos los test deben empezar por `test_` para saber que es un c\u00f3digo",
        " * A continuaci\u00f3n debe ir el nombre de la funci\u00f3n o m\u00e9todo que se est\u00e1 probando\n",
        " * A continuaci\u00f3n debe ir el escenario de la prueba, ya que un m\u00e9todo o funci\u00f3n puede tener varios escenarios de prueba. Por ejemplo con todos los posibles valores de entrada, con valores l\u00edmite, con valores incorrectos, etc.",
        " * Por \u00faltimo, se debe a\u00f1adir el resultado esperado",
        "\n",
        "Por lo que un test deber\u00eda tener el siguiente formato `test_<nombre_funcion>_<escenario>_<resultado_esperado>`"
      ]
    },
    {
      "cell_type": "markdown",
      "metadata": {},
      "source": [
        "## Mocking de APIs"
      ]
    },
    {
      "cell_type": "markdown",
      "metadata": {},
      "source": [
        "Supongamos que nuestro c\u00f3digo llama a una API externa y queremos hacer tests de nuestro c\u00f3digo sin depender de la API externa. Para ello podemos usar `unittest.mock` que viene por defecto en Python"
      ]
    },
    {
      "cell_type": "markdown",
      "metadata": {},
      "source": [
        "Primero vamos a crear un archivo llamado `api.py` en la carpeta `src`"
      ]
    },
    {
      "cell_type": "code",
      "execution_count": 44,
      "metadata": {},
      "outputs": [],
      "source": [
        "!echo \"import requests\"                                              > testing_python/src/api.py\n",
        "!echo \"\"                                                            >> testing_python/src/api.py\n",
        "!echo \"def get_api():\"                                              >> testing_python/src/api.py\n",
        "!echo \"    url = 'https://jsonplaceholder.typicode.com/posts/1'\"    >> testing_python/src/api.py\n",
        "!echo \"    try:\"                                                    >> testing_python/src/api.py\n",
        "!echo \"        response = requests.get(url)\"                        >> testing_python/src/api.py\n",
        "!echo \"        response.raise_for_status()\"                         >> testing_python/src/api.py\n",
        "!echo \"        data = response.json()\"                              >> testing_python/src/api.py\n",
        "!echo \"        print(data)\"                                         >> testing_python/src/api.py\n",
        "!echo \"        return data\"                                         >> testing_python/src/api.py\n",
        "!echo \"    except requests.exceptions.RequestException as e:\"       >> testing_python/src/api.py\n",
        "!echo \"        print(f'error: {e}')\"                                >> testing_python/src/api.py\n",
        "!echo \"        return None\"                                         >> testing_python/src/api.py\n",
        "!echo \"\"                                                            >> testing_python/src/api.py\n",
        "!echo \"if __name__ == '__main__':\"                                  >> testing_python/src/api.py\n",
        "!echo \"    get_api()\"                                               >> testing_python/src/api.py"
      ]
    },
    {
      "cell_type": "markdown",
      "metadata": {},
      "source": [
        "Vamos a ejecutar el archivo para ver qu\u00e9 devuelve"
      ]
    },
    {
      "cell_type": "code",
      "execution_count": 45,
      "metadata": {},
      "outputs": [
        {
          "name": "stdout",
          "output_type": "stream",
          "text": [
            "{'userId': 1, 'id': 1, 'title': 'sunt aut facere repellat provident occaecati excepturi optio reprehenderit', 'body': 'quia et suscipit\\nsuscipit recusandae consequuntur expedita et cum\\nreprehenderit molestiae ut ut quas totam\\nnostrum rerum est autem sunt rem eveniet architecto'}\n"
          ]
        }
      ],
      "source": [
        "!cd testing_python/src && python api.py"
      ]
    },
    {
      "cell_type": "markdown",
      "metadata": {},
      "source": [
        "Ahora creamos el test"
      ]
    },
    {
      "cell_type": "code",
      "execution_count": null,
      "metadata": {},
      "outputs": [],
      "source": [
        "!echo \"import unittest\"                                              > testing_python/tests/test_api.py\n",
        "!echo \"from src.api import get_api\"                                 >> testing_python/tests/test_api.py\n",
        "!echo \"\"                                                            >> testing_python/tests/test_api.py\n",
        "!echo \"class TestApi(unittest.TestCase):\"                           >> testing_python/tests/test_api.py\n",
        "!echo \"    def test_get_api(self):\"                                 >> testing_python/tests/test_api.py\n",
        "!echo \"        data = get_api()\"                                    >> testing_python/tests/test_api.py\n",
        "!echo \"        self.assertIsNotNone(data)\"                          >> testing_python/tests/test_api.py\n",
        "!echo \"        self.assertIsInstance(data, dict)\"                   >> testing_python/tests/test_api.py\n",
        "!echo \"        self.assertIn('userId', data)\"                       >> testing_python/tests/test_api.py\n",
        "!echo \"        self.assertIn('id', data)\"                           >> testing_python/tests/test_api.py\n",
        "!echo \"        self.assertIn('title', data)\"                        >> testing_python/tests/test_api.py\n",
        "!echo \"        self.assertIn('body', data)\"                         >> testing_python/tests/test_api.py\n",
        "!echo \"        self.assertEqual(data['userId'], 1)\"                 >> testing_python/tests/test_api.py\n",
        "!echo \"        self.assertEqual(data['id'], 1)\"                     >> testing_python/tests/test_api.py"
      ]
    },
    {
      "cell_type": "markdown",
      "metadata": {},
      "source": [
        "Pasamos los test"
      ]
    },
    {
      "cell_type": "code",
      "execution_count": 47,
      "metadata": {},
      "outputs": [
        {
          "name": "stdout",
          "output_type": "stream",
          "text": [
            "{'userId': 1, 'id': 1, 'title': 'sunt aut facere repellat provident occaecati excepturi optio reprehenderit', 'body': 'quia et suscipit\\nsuscipit recusandae consequuntur expedita et cum\\nreprehenderit molestiae ut ut quas totam\\nnostrum rerum est autem sunt rem eveniet architecto'}\n",
            ".\n",
            "----------------------------------------------------------------------\n",
            "Ran 1 test in 0.074s\n",
            "\n",
            "OK\n"
          ]
        }
      ],
      "source": [
        "!cd testing_python && python -m unittest tests/test_api.py"
      ]
    },
    {
      "cell_type": "markdown",
      "metadata": {},
      "source": [
        "Vamos a pasar los test de `bank_account` para ver cuanto tardaba"
      ]
    },
    {
      "cell_type": "code",
      "execution_count": 48,
      "metadata": {},
      "outputs": [
        {
          "name": "stdout",
          "output_type": "stream",
          "text": [
            "....ssxs\n",
            "----------------------------------------------------------------------\n",
            "Ran 8 tests in 0.001s\n",
            "\n",
            "OK (skipped=3, expected failures=1)\n"
          ]
        }
      ],
      "source": [
        "!cd testing_python && PYTHONPATH=. python tests/test_suite_bank_account.py"
      ]
    },
    {
      "cell_type": "markdown",
      "metadata": {},
      "source": [
        "Como vemos 8 test han tardado 0.001 segundos, mientras que 1 solo test de la api ha tardado 0.074 segundos. Esto puede hacer que un c\u00f3digo con muchas llamadas a una API tarde mucho en ejecutar los test. Adem\u00e1s que corremos el riesgo de que si cambia la API y no nos devuelve lo que esperamos, los test fallar\u00e1n, aunque nuestro c\u00f3digo est\u00e9 bien. As\u00ed que para eso se mockean las APIs"
      ]
    },
    {
      "cell_type": "markdown",
      "metadata": {},
      "source": [
        "Vamos a ver c\u00f3mo hacerlo"
      ]
    },
    {
      "cell_type": "code",
      "execution_count": null,
      "metadata": {},
      "outputs": [],
      "source": [
        "!echo \"import unittest\"                                              > testing_python/tests/test_api.py\n",
        "!echo \"from src.api import get_api\"                                 >> testing_python/tests/test_api.py\n",
        "!echo \"from unittest.mock import patch\"                             >> testing_python/tests/test_api.py\n",
        "!echo \"\"                                                            >> testing_python/tests/test_api.py\n",
        "!echo \"class TestApi(unittest.TestCase):\"                           >> testing_python/tests/test_api.py\n",
        "!echo \"    @patch('src.api.requests.get')\"                          >> testing_python/tests/test_api.py\n",
        "!echo \"    def test_get_api(self, mock_get):\"                       >> testing_python/tests/test_api.py\n",
        "!echo \"        mock_get.return_value.status_code = 200\"             >> testing_python/tests/test_api.py\n",
        "!echo \"        mock_get.return_value.json.return_value = {\"         >> testing_python/tests/test_api.py\n",
        "!echo \"            'userId': 1,\"                                    >> testing_python/tests/test_api.py\n",
        "!echo \"            'id': 1,\"                                        >> testing_python/tests/test_api.py\n",
        "!echo \"            'title': 'title',\"                               >> testing_python/tests/test_api.py\n",
        "!echo \"            'body': 'body'\"                                  >> testing_python/tests/test_api.py\n",
        "!echo \"        }\"                                                   >> testing_python/tests/test_api.py\n",
        "!echo \"        data = get_api()\"                                    >> testing_python/tests/test_api.py\n",
        "!echo \"        self.assertIsNotNone(data)\"                          >> testing_python/tests/test_api.py\n",
        "!echo \"        self.assertIsInstance(data, dict)\"                   >> testing_python/tests/test_api.py\n",
        "!echo \"        self.assertIn('userId', data)\"                       >> testing_python/tests/test_api.py\n",
        "!echo \"        self.assertIn('id', data)\"                           >> testing_python/tests/test_api.py\n",
        "!echo \"        self.assertIn('title', data)\"                        >> testing_python/tests/test_api.py\n",
        "!echo \"        self.assertIn('body', data)\"                         >> testing_python/tests/test_api.py\n",
        "!echo \"        self.assertEqual(data['userId'], 1)\"                 >> testing_python/tests/test_api.py\n",
        "!echo \"        self.assertEqual(data['id'], 1)\"                     >> testing_python/tests/test_api.py\n",
        "!echo \"        \"                                                    >> testing_python/tests/test_api.py\n",
        "!echo \"        mock_get.assert_called_once_with('https://jsonplaceholder.typicode.com/posts/1')\" >> testing_python/tests/test_api.py"
      ]
    },
    {
      "cell_type": "markdown",
      "metadata": {},
      "source": [
        "Lo que hemos hecho ha sido \n",
        " * Importar `patch` de `unittest.mock`. \n",
        " * Hemos puesto un decorador a la funci\u00f3n `test_get_data` y hemos pasado como par\u00e1metro al decorador la funci\u00f3n que queremos mockear. ",
        " * Hemos creado un objeto `mock_get` que es el que va a sustituir a la funci\u00f3n original con el m\u00e9todo `return_value` que es el valor que va a devolver la funci\u00f3n mockeada. \n",
        " * Cuando se llame a `get_api()` en vez de ejecutarse la funci\u00f3n original, se obtendr\u00e1 en `data` el valor que hemos mockeado en `return_value`\n",
        " * Por \u00faltimo hemos a\u00f1adido la comprobaci\u00f3n de que se puede llamar a la `URL` de la API"
      ]
    },
    {
      "cell_type": "code",
      "execution_count": 57,
      "metadata": {},
      "outputs": [
        {
          "name": "stdout",
          "output_type": "stream",
          "text": [
            "{'userId': 1, 'id': 1, 'title': 'title', 'body': 'body'}\n",
            ".\n",
            "----------------------------------------------------------------------\n",
            "Ran 1 test in 0.001s\n",
            "\n",
            "OK\n"
          ]
        }
      ],
      "source": [
        "!cd testing_python && python -m unittest tests/test_api.py"
      ]
    },
    {
      "cell_type": "markdown",
      "metadata": {},
      "source": [
        "Como vemos, ahora solo tarda 0.002 segundos."
      ]
    },
    {
      "cell_type": "markdown",
      "metadata": {},
      "source": [
        "## Modificar el resultado de objetos mediante `patch`"
      ]
    },
    {
      "cell_type": "markdown",
      "metadata": {},
      "source": [
        "Supongamos que queremos modificar el m\u00e9todo de sacar dinero para que solo se pueda hacer en un rango de horas",
        "\n",
        "Primero modificamos la funci\u00f3n de retirar dinero\n",
        "\n",
        "```python\n",
        "    def withdraw(self, amount):\n",
        "        now = datetime.now()\n",
        "        if now.hour < 7 or now.hour > 18:\n",
        "            print('Out of hours')\n",
        "            return None\n",
        "        if amount > 0:\n",
        "            self.balance -= amount\n",
        "            self._log_transaction(f'Withdraw {amount}, new balance {self.balance}')\n",
        "        return self.balance\n",
        "```"
      ]
    },
    {
      "cell_type": "code",
      "execution_count": 5,
      "metadata": {},
      "outputs": [],
      "source": [
        "!echo \"from datetime import datetime\"                                                        > testing_python/src/bank_account.py\n",
        "!echo \"\"                                                                                    >> testing_python/src/bank_account.py\n",
        "!echo \"class BankAccount:\"                                                                  >> testing_python/src/bank_account.py\n",
        "!echo \"    def __init__(self, balance=0, log_file=None):\"                                   >> testing_python/src/bank_account.py\n",
        "!echo \"        self.balance = balance\"                                                      >> testing_python/src/bank_account.py\n",
        "!echo \"        self.log_file = log_file\"                                                    >> testing_python/src/bank_account.py\n",
        "!echo \"        self._log_transaction('Account created')\"                                    >> testing_python/src/bank_account.py\n",
        "!echo \"\"                                                                                    >> testing_python/src/bank_account.py\n",
        "!echo \"    def _log_transaction(self, message):\"                                            >> testing_python/src/bank_account.py\n",
        "!echo \"        if self.log_file:\"                                                           >> testing_python/src/bank_account.py\n",
        "!echo \"            with open(self.log_file, 'a') as file:\"                                  >> testing_python/src/bank_account.py\n",
        "!echo \"                file.write(f'{message}\\\\\\\\n')\"                                       >> testing_python/src/bank_account.py\n",
        "!echo \"\"                                                                                    >> testing_python/src/bank_account.py\n",
        "!echo \"    def deposit(self, amount):\"                                                      >> testing_python/src/bank_account.py\n",
        "!echo \"        if amount > 0:\"                                                              >> testing_python/src/bank_account.py\n",
        "!echo \"            self.balance += amount\"                                                  >> testing_python/src/bank_account.py\n",
        "!echo \"            self._log_transaction(f'Deposit {amount}, new balance {self.balance}')\"  >> testing_python/src/bank_account.py\n",
        "!echo \"        return self.balance\"                                                         >> testing_python/src/bank_account.py\n",
        "!echo \"\"                                                                                    >> testing_python/src/bank_account.py\n",
        "!echo \"    def withdraw(self, amount):\"                                                     >> testing_python/src/bank_account.py\n",
        "!echo \"        now = datetime.now()\"                                                        >> testing_python/src/bank_account.py\n",
        "!echo \"        if now.hour < 7 or now.hour > 18:\"                                           >> testing_python/src/bank_account.py\n",
        "!echo \"            print('Out of hours')\"                                                   >> testing_python/src/bank_account.py\n",
        "!echo \"            return None\"                                                             >> testing_python/src/bank_account.py\n",
        "!echo \"        if amount > 0:\"                                                              >> testing_python/src/bank_account.py\n",
        "!echo \"            self.balance -= amount\"                                                  >> testing_python/src/bank_account.py\n",
        "!echo \"            self._log_transaction(f'Withdraw {amount}, new balance {self.balance}')\" >> testing_python/src/bank_account.py\n",
        "!echo \"        return self.balance\"                                                         >> testing_python/src/bank_account.py\n",
        "!echo \"\"                                                                                    >> testing_python/src/bank_account.py\n",
        "!echo \"    def get_balance(self):\"                                                          >> testing_python/src/bank_account.py\n",
        "!echo \"        self._log_transaction(f'Balance check, balance {self.balance}')\"             >> testing_python/src/bank_account.py\n",
        "!echo \"        return self.balance\"                                                         >> testing_python/src/bank_account.py"
      ]
    },
    {
      "cell_type": "markdown",
      "metadata": {},
      "source": [
        "Ahora tenemos que poder probar la retirada de dinero a distintas horas, pero no podemos estar cambiando la hora del sistema, ni podemos esperar a que sea una hora determinada para hacer la prueba. Para eso podemos usar `patch` para modificar el resultado de `datetime.now()`",
        "\n",
        "```python\n",
        "    @patch('src.bank_account.datetime.now')\n",
        "    def test_withdraw_during_working_hours(self, mock_now):\n",
        "        mock_now.return_value.hour = 10\n",
        "new_balance = self.account.withdraw(200)",
        "self.assertEqual(new_balance, 800, 'Balance is not correct')",
        "\n",
        "    @patch('src.bank_account.datetime.now')\n",
        "    def test_withdraw_during_non_working_hours(self, mock_now):\n",
        "mock_now.return_value.hour = 20",
        "new_balance = self.account.withdraw(200)",
        "self.assertIsNone(new_balance, 'Balance is not correct')",
        "```"
      ]
    },
    {
      "cell_type": "code",
      "execution_count": 10,
      "metadata": {},
      "outputs": [],
      "source": [
        "!echo \"import unittest\"                                                                      > testing_python/tests/test_bank_account.py\n",
        "!echo \"from unittest.mock import patch\"                                                     >> testing_python/tests/test_bank_account.py\n",
        "!echo \"import os\"                                                                           >> testing_python/tests/test_bank_account.py\n",
        "!echo \"from src.bank_account import BankAccount\"                                            >> testing_python/tests/test_bank_account.py\n",
        "!echo \"\"                                                                                    >> testing_python/tests/test_bank_account.py\n",
        "!echo \"SERVER = True\"                                                                       >> testing_python/tests/test_bank_account.py\n",
        "!echo \"ENVIRONMENT = 'server'\"                                                              >> testing_python/tests/test_bank_account.py\n",
        "!echo \"\"                                                                                    >> testing_python/tests/test_bank_account.py\n",
        "!echo \"class TestBankAccount(unittest.TestCase):\"                                           >> testing_python/tests/test_bank_account.py\n",
        "!echo \"    def setUp(self):\"                                                                >> testing_python/tests/test_bank_account.py\n",
        "!echo \"        self.account = BankAccount(balance=1000, log_file='test_log.txt')\"           >> testing_python/tests/test_bank_account.py\n",
        "!echo \"\"                                                                                    >> testing_python/tests/test_bank_account.py\n",
        "!echo \"    def tearDown(self):\"                                                             >> testing_python/tests/test_bank_account.py\n",
        "!echo \"        if os.path.exists('test_log.txt'):\"                                          >> testing_python/tests/test_bank_account.py\n",
        "!echo \"            os.remove('test_log.txt')\"                                               >> testing_python/tests/test_bank_account.py\n",
        "!echo \"\"                                                                                    >> testing_python/tests/test_bank_account.py\n",
        "!echo \"    def test_deposit(self):\"                                                         >> testing_python/tests/test_bank_account.py\n",
        "!echo \"        new_balace = self.account.deposit(500)\"                                      >> testing_python/tests/test_bank_account.py\n",
        "!echo \"        self.assertEqual(new_balace, 1500)\"                                          >> testing_python/tests/test_bank_account.py\n",
        "!echo \"\"                                                                                    >> testing_python/tests/test_bank_account.py\n",
        "!echo \"    def test_withdraw(self):\"                                                        >> testing_python/tests/test_bank_account.py\n",
        "!echo \"        new_balace = self.account.withdraw(200)\"                                     >> testing_python/tests/test_bank_account.py\n",
        "!echo \"        self.assertEqual(new_balace, 800, 'Balance is not correct')\"                 >> testing_python/tests/test_bank_account.py\n",
        "!echo \"\"                                                                                    >> testing_python/tests/test_bank_account.py\n",
        "!echo \"    @patch('src.bank_account.datetime.now')\"                                         >> testing_python/tests/test_bank_account.py\n",
        "!echo \"    def test_withdraw_during_working_hours(self, mock_now):\"                         >> testing_python/tests/test_bank_account.py\n",
        "!echo \"        mock_now.return_value.hour = 10\"                                             >> testing_python/tests/test_bank_account.py\n",
        "!echo \"        new_balace = self.account.withdraw(200)\"                                     >> testing_python/tests/test_bank_account.py\n",
        "!echo \"        self.assertEqual(new_balace, 800, 'Balance is not correct')\"                 >> testing_python/tests/test_bank_account.py\n",
        "!echo \"\"                                                                                    >> testing_python/tests/test_bank_account.py\n",
        "!echo \"    @patch('src.bank_account.datetime.now')\"                                         >> testing_python/tests/test_bank_account.py\n",
        "!echo \"    def test_withdraw_during_non_working_hours(self, mock_now):\"                     >> testing_python/tests/test_bank_account.py\n",
        "!echo \"        mock_now.return_value.hour = 20\"                                             >> testing_python/tests/test_bank_account.py\n",
        "!echo \"        new_balace = self.account.withdraw(200)\"                                     >> testing_python/tests/test_bank_account.py\n",
        "!echo \"        self.assertIsNone(new_balace, 'Balance is not correct')\"                     >> testing_python/tests/test_bank_account.py\n",
        "!echo \"\"                                                                                    >> testing_python/tests/test_bank_account.py\n",
        "!echo \"    def test_get_balance(self):\"                                                     >> testing_python/tests/test_bank_account.py\n",
        "!echo \"        balance = self.account.get_balance()\"                                        >> testing_python/tests/test_bank_account.py\n",
        "!echo \"        self.assertEqual(balance, 1000)\"                                             >> testing_python/tests/test_bank_account.py\n",
        "!echo \"\"                                                                                    >> testing_python/tests/test_bank_account.py\n",
        "!echo \"    def test_transaction_log(self):\"                                                 >> testing_python/tests/test_bank_account.py\n",
        "!echo \"        self.account.deposit(500)\"                                                   >> testing_python/tests/test_bank_account.py\n",
        "!echo \"        self.account.withdraw(200)\"                                                  >> testing_python/tests/test_bank_account.py\n",
        "!echo \"        self.account.get_balance()\"                                                  >> testing_python/tests/test_bank_account.py\n",
        "!echo \"        self.assertTrue(os.path.exists('test_log.txt'))\"                             >> testing_python/tests/test_bank_account.py\n",
        "!echo \"        with open('test_log.txt', 'r') as file:\"                                     >> testing_python/tests/test_bank_account.py\n",
        "!echo \"            content = file.readlines()\"                                              >> testing_python/tests/test_bank_account.py\n",
        "!echo \"        self.assertEqual(content, [\"                                                 >> testing_python/tests/test_bank_account.py\n",
        "!echo \"            'Account created\\\\\\n', \"                                                 >> testing_python/tests/test_bank_account.py\n",
        "!echo \"            'Deposit 500, new balance 1500\\\\\\n', \"                                   >> testing_python/tests/test_bank_account.py\n",
        "!echo \"            'Withdraw 200, new balance 1300\\\\\\n', \"                                  >> testing_python/tests/test_bank_account.py\n",
        "!echo \"            'Balance check, balance 1300\\\\\\n'\"                                       >> testing_python/tests/test_bank_account.py\n",
        "!echo \"            ])\"                                                                      >> testing_python/tests/test_bank_account.py\n",
        "!echo \"\"                                                                                    >> testing_python/tests/test_bank_account.py\n",
        "!echo \"    @unittest.skip('Not implemented yet')\"                                           >> testing_python/tests/test_bank_account.py\n",
        "!echo \"    def test_has_loan(self):\"                                                        >> testing_python/tests/test_bank_account.py\n",
        "!echo \"        self.assertFalse(self.account.has_loan())\"                                   >> testing_python/tests/test_bank_account.py\n",
        "!echo \"\"                                                                                    >> testing_python/tests/test_bank_account.py\n",
        "!echo \"    @unittest.skipIf(SERVER, 'Only for local testing')\"                              >> testing_python/tests/test_bank_account.py\n",
        "!echo \"    def test_server(self):\"                                                          >> testing_python/tests/test_bank_account.py\n",
        "!echo \"        self.assertTrue(SERVER)\"                                                     >> testing_python/tests/test_bank_account.py\n",
        "!echo \"\"                                                                                    >> testing_python/tests/test_bank_account.py\n",
        "!echo \"    @unittest.expectedFailure\"                                                       >> testing_python/tests/test_bank_account.py\n",
        "!echo \"    def test_fail(self):\"                                                            >> testing_python/tests/test_bank_account.py\n",
        "!echo \"        new_balace = self.account.withdraw(1200)\"                                    >> testing_python/tests/test_bank_account.py\n",
        "!echo \"        self.assertEqual(new_balace, 800, 'Not enough money')\"                       >> testing_python/tests/test_bank_account.py\n",
        "!echo \"\"                                                                                    >> testing_python/tests/test_bank_account.py\n",
        "!echo \"    @unittest.skipUnless(ENVIRONMENT == 'dev', 'Only for dev environment')\"          >> testing_python/tests/test_bank_account.py\n",
        "!echo \"    def test_environment(self):\"                                                     >> testing_python/tests/test_bank_account.py\n",
        "!echo \"        self.assertEqual(ENVIRONMENT, 'dev')\"                                        >> testing_python/tests/test_bank_account.py"
      ]
    },
    {
      "cell_type": "markdown",
      "metadata": {},
      "source": [
        "Pasamos los test"
      ]
    },
    {
      "cell_type": "code",
      "execution_count": 11,
      "metadata": {},
      "outputs": [
        {
          "name": "stdout",
          "output_type": "stream",
          "text": [
            "....ssxs\n",
            "----------------------------------------------------------------------\n",
            "Ran 8 tests in 0.001s\n",
            "\n",
            "OK (skipped=3, expected failures=1)\n"
          ]
        }
      ],
      "source": [
        "!cd testing_python && PYTHONPATH=. python tests/test_suite_bank_account.py"
      ]
    },
    {
      "cell_type": "markdown",
      "metadata": {},
      "source": [
        "## Parametrizar pruebas con `subTest`"
      ]
    },
    {
      "cell_type": "markdown",
      "metadata": {},
      "source": [
        "Supongamos que queremos hacer varias pruebas de sacar dinero para diferentes valores, podr\u00edamos escribir una prueba para cada valor de dinero que queremos probar, pero ser\u00eda repetir c\u00f3digo. Para eso podemos usar `subTest` que nos permite hacer varias pruebas con un solo test\n",
        "\n",
        "Lo que hacemos es crear un diccionario con los diferentes valores que queremos probar y el resultado esperado, y luego con un bucle `for` y `subTest` hacemos las pruebas. As\u00ed quedar\u00eda el test del m\u00e9todo `withdraw`",
        "\n",
        "```python\n",
        "    def test_withdraw(self):\n",
        "        test_cases = {\n",
        "            test_200: {\n",
        "                'amount': 200,\n",
        "                'expected': 800\n",
        "            },\n",
        "            test_400: {\n",
        "                'amount': 400,\n",
        "                'expected': 600\n",
        "            },\n",
        "            test_600: {\n",
        "                'amount': 600,\n",
        "                'expected': 400\n",
        "            },\n",
        "            test_800: {\n",
        "                'amount': 800,\n",
        "                'expected': 200\n",
        "            },\n",
        "            test_1000: {\n",
        "                'amount': 1000,\n",
        "                'expected': 0\n",
        "            }\n",
        "        }\n",
        "\n",
        "        for test_name, test_case in test_cases.items():\n",
        "            with self.subTest(test_name):\n",
        "                self.account = BankAccount(balance=1000, log_file='test_log.txt')\n",
        "                new_balance = self.account.withdraw(test_case['amount'])\n",
        "self.assertEqual(new_balance, test_case['expected'], 'Balance is not correct')",
        "```"
      ]
    },
    {
      "cell_type": "code",
      "execution_count": 14,
      "metadata": {},
      "outputs": [],
      "source": [
        "!echo \"import unittest\"                                                                      > testing_python/tests/test_bank_account.py\n",
        "!echo \"from unittest.mock import patch\"                                                     >> testing_python/tests/test_bank_account.py\n",
        "!echo \"import os\"                                                                           >> testing_python/tests/test_bank_account.py\n",
        "!echo \"from src.bank_account import BankAccount\"                                            >> testing_python/tests/test_bank_account.py\n",
        "!echo \"\"                                                                                    >> testing_python/tests/test_bank_account.py\n",
        "!echo \"SERVER = True\"                                                                       >> testing_python/tests/test_bank_account.py\n",
        "!echo \"ENVIRONMENT = 'server'\"                                                              >> testing_python/tests/test_bank_account.py\n",
        "!echo \"\"                                                                                    >> testing_python/tests/test_bank_account.py\n",
        "!echo \"class TestBankAccount(unittest.TestCase):\"                                           >> testing_python/tests/test_bank_account.py\n",
        "!echo \"    def setUp(self):\"                                                                >> testing_python/tests/test_bank_account.py\n",
        "!echo \"        self.account = BankAccount(balance=1000, log_file='test_log.txt')\"           >> testing_python/tests/test_bank_account.py\n",
        "!echo \"\"                                                                                    >> testing_python/tests/test_bank_account.py\n",
        "!echo \"    def tearDown(self):\"                                                             >> testing_python/tests/test_bank_account.py\n",
        "!echo \"        if os.path.exists('test_log.txt'):\"                                          >> testing_python/tests/test_bank_account.py\n",
        "!echo \"            os.remove('test_log.txt')\"                                               >> testing_python/tests/test_bank_account.py\n",
        "!echo \"\"                                                                                    >> testing_python/tests/test_bank_account.py\n",
        "!echo \"    def test_deposit(self):\"                                                         >> testing_python/tests/test_bank_account.py\n",
        "!echo \"        new_balace = self.account.deposit(500)\"                                      >> testing_python/tests/test_bank_account.py\n",
        "!echo \"        self.assertEqual(new_balace, 1500)\"                                          >> testing_python/tests/test_bank_account.py\n",
        "!echo \"\"                                                                                    >> testing_python/tests/test_bank_account.py\n",
        "!echo \"    def test_withdraw(self):\"                                                        >> testing_python/tests/test_bank_account.py\n",
        "!echo \"        test_cases = {\"                                                              >> testing_python/tests/test_bank_account.py\n",
        "!echo \"            'test_200': {\"                                                           >> testing_python/tests/test_bank_account.py\n",
        "!echo \"                'amount': 200,\"                                                      >> testing_python/tests/test_bank_account.py\n",
        "!echo \"                'expected': 800\"                                                     >> testing_python/tests/test_bank_account.py\n",
        "!echo \"            },\"                                                                      >> testing_python/tests/test_bank_account.py\n",
        "!echo \"            'test_400': {\"                                                           >> testing_python/tests/test_bank_account.py\n",
        "!echo \"                'amount': 400,\"                                                      >> testing_python/tests/test_bank_account.py\n",
        "!echo \"                'expected': 600\"                                                     >> testing_python/tests/test_bank_account.py\n",
        "!echo \"            },\"                                                                      >> testing_python/tests/test_bank_account.py\n",
        "!echo \"            'test_600': {\"                                                           >> testing_python/tests/test_bank_account.py\n",
        "!echo \"                'amount': 600,\"                                                      >> testing_python/tests/test_bank_account.py\n",
        "!echo \"                'expected': 400\"                                                     >> testing_python/tests/test_bank_account.py\n",
        "!echo \"            },\"                                                                      >> testing_python/tests/test_bank_account.py\n",
        "!echo \"            'test_800': {\"                                                           >> testing_python/tests/test_bank_account.py\n",
        "!echo \"                'amount': 800,\"                                                      >> testing_python/tests/test_bank_account.py\n",
        "!echo \"                'expected': 200\"                                                     >> testing_python/tests/test_bank_account.py\n",
        "!echo \"            },\"                                                                      >> testing_python/tests/test_bank_account.py\n",
        "!echo \"            'test_1000': {\"                                                          >> testing_python/tests/test_bank_account.py\n",
        "!echo \"                'amount': 1000,\"                                                     >> testing_python/tests/test_bank_account.py\n",
        "!echo \"                'expected': 0\"                                                       >> testing_python/tests/test_bank_account.py\n",
        "!echo \"            }\"                                                                       >> testing_python/tests/test_bank_account.py\n",
        "!echo \"        }\"                                                                           >> testing_python/tests/test_bank_account.py\n",
        "!echo \"        for test_case, values in test_cases.items():\"                                >> testing_python/tests/test_bank_account.py\n",
        "!echo \"            with self.subTest(test_case=test_case):\"                                 >> testing_python/tests/test_bank_account.py\n",
        "!echo \"                self.account = BankAccount(balance=1000, log_file='test_log.txt')\"   >> testing_python/tests/test_bank_account.py\n",
        "!echo \"                new_balace = self.account.withdraw(values['amount'])\"                >> testing_python/tests/test_bank_account.py\n",
        "!echo \"                self.assertEqual(new_balace, values['expected'], 'Balance is not correct')\" >> testing_python/tests/test_bank_account.py\n",
        "!echo \"\"                                                                                    >> testing_python/tests/test_bank_account.py\n",
        "!echo \"    @patch('src.bank_account.datetime.now')\"                                         >> testing_python/tests/test_bank_account.py\n",
        "!echo \"    def test_withdraw_during_working_hours(self, mock_now):\"                         >> testing_python/tests/test_bank_account.py\n",
        "!echo \"        mock_now.return_value.hour = 10\"                                             >> testing_python/tests/test_bank_account.py\n",
        "!echo \"        new_balace = self.account.withdraw(200)\"                                     >> testing_python/tests/test_bank_account.py\n",
        "!echo \"        self.assertEqual(new_balace, 800, 'Balance is not correct')\"                 >> testing_python/tests/test_bank_account.py\n",
        "!echo \"\"                                                                                    >> testing_python/tests/test_bank_account.py\n",
        "!echo \"    @patch('src.bank_account.datetime.now')\"                                         >> testing_python/tests/test_bank_account.py\n",
        "!echo \"    def test_withdraw_during_non_working_hours(self, mock_now):\"                     >> testing_python/tests/test_bank_account.py\n",
        "!echo \"        mock_now.return_value.hour = 20\"                                             >> testing_python/tests/test_bank_account.py\n",
        "!echo \"        new_balace = self.account.withdraw(200)\"                                     >> testing_python/tests/test_bank_account.py\n",
        "!echo \"        self.assertIsNone(new_balace, 'Balance is not correct')\"                     >> testing_python/tests/test_bank_account.py\n",
        "!echo \"\"                                                                                    >> testing_python/tests/test_bank_account.py\n",
        "!echo \"    def test_get_balance(self):\"                                                     >> testing_python/tests/test_bank_account.py\n",
        "!echo \"        balance = self.account.get_balance()\"                                        >> testing_python/tests/test_bank_account.py\n",
        "!echo \"        self.assertEqual(balance, 1000)\"                                             >> testing_python/tests/test_bank_account.py\n",
        "!echo \"\"                                                                                    >> testing_python/tests/test_bank_account.py\n",
        "!echo \"    def test_transaction_log(self):\"                                                 >> testing_python/tests/test_bank_account.py\n",
        "!echo \"        self.account.deposit(500)\"                                                   >> testing_python/tests/test_bank_account.py\n",
        "!echo \"        self.account.withdraw(200)\"                                                  >> testing_python/tests/test_bank_account.py\n",
        "!echo \"        self.account.get_balance()\"                                                  >> testing_python/tests/test_bank_account.py\n",
        "!echo \"        self.assertTrue(os.path.exists('test_log.txt'))\"                             >> testing_python/tests/test_bank_account.py\n",
        "!echo \"        with open('test_log.txt', 'r') as file:\"                                     >> testing_python/tests/test_bank_account.py\n",
        "!echo \"            content = file.readlines()\"                                              >> testing_python/tests/test_bank_account.py\n",
        "!echo \"        self.assertEqual(content, [\"                                                 >> testing_python/tests/test_bank_account.py\n",
        "!echo \"            'Account created\\\\\\n', \"                                                 >> testing_python/tests/test_bank_account.py\n",
        "!echo \"            'Deposit 500, new balance 1500\\\\\\n', \"                                   >> testing_python/tests/test_bank_account.py\n",
        "!echo \"            'Withdraw 200, new balance 1300\\\\\\n', \"                                  >> testing_python/tests/test_bank_account.py\n",
        "!echo \"            'Balance check, balance 1300\\\\\\n'\"                                       >> testing_python/tests/test_bank_account.py\n",
        "!echo \"            ])\"                                                                      >> testing_python/tests/test_bank_account.py\n",
        "!echo \"\"                                                                                    >> testing_python/tests/test_bank_account.py\n",
        "!echo \"    @unittest.skip('Not implemented yet')\"                                           >> testing_python/tests/test_bank_account.py\n",
        "!echo \"    def test_has_loan(self):\"                                                        >> testing_python/tests/test_bank_account.py\n",
        "!echo \"        self.assertFalse(self.account.has_loan())\"                                   >> testing_python/tests/test_bank_account.py\n",
        "!echo \"\"                                                                                    >> testing_python/tests/test_bank_account.py\n",
        "!echo \"    @unittest.skipIf(SERVER, 'Only for local testing')\"                              >> testing_python/tests/test_bank_account.py\n",
        "!echo \"    def test_server(self):\"                                                          >> testing_python/tests/test_bank_account.py\n",
        "!echo \"        self.assertTrue(SERVER)\"                                                     >> testing_python/tests/test_bank_account.py\n",
        "!echo \"\"                                                                                    >> testing_python/tests/test_bank_account.py\n",
        "!echo \"    @unittest.expectedFailure\"                                                       >> testing_python/tests/test_bank_account.py\n",
        "!echo \"    def test_fail(self):\"                                                            >> testing_python/tests/test_bank_account.py\n",
        "!echo \"        new_balace = self.account.withdraw(1200)\"                                    >> testing_python/tests/test_bank_account.py\n",
        "!echo \"        self.assertEqual(new_balace, 800, 'Not enough money')\"                       >> testing_python/tests/test_bank_account.py\n",
        "!echo \"\"                                                                                    >> testing_python/tests/test_bank_account.py\n",
        "!echo \"    @unittest.skipUnless(ENVIRONMENT == 'dev', 'Only for dev environment')\"          >> testing_python/tests/test_bank_account.py\n",
        "!echo \"    def test_environment(self):\"                                                     >> testing_python/tests/test_bank_account.py\n",
        "!echo \"        self.assertEqual(ENVIRONMENT, 'dev')\"                                        >> testing_python/tests/test_bank_account.py"
      ]
    },
    {
      "cell_type": "markdown",
      "metadata": {},
      "source": [
        "Pasamos los test"
      ]
    },
    {
      "cell_type": "code",
      "execution_count": 15,
      "metadata": {},
      "outputs": [
        {
          "name": "stdout",
          "output_type": "stream",
          "text": [
            "....ssxs\n",
            "----------------------------------------------------------------------\n",
            "Ran 8 tests in 0.001s\n",
            "\n",
            "OK (skipped=3, expected failures=1)\n"
          ]
        }
      ],
      "source": [
        "!cd testing_python && PYTHONPATH=. python tests/test_suite_bank_account.py"
      ]
    },
    {
      "cell_type": "markdown",
      "metadata": {},
      "source": [
        "## Cobertura de test"
      ]
    },
    {
      "cell_type": "markdown",
      "metadata": {},
      "source": [
        "Podemos ver la cobertura de test que tenemos, ya que aunque pensemos que hemos probado todo, puede que haya partes del c\u00f3digo que no hemos probado. Para ello vamos a usar la librer\u00eda `coverage`"
      ]
    },
    {
      "cell_type": "code",
      "execution_count": 32,
      "metadata": {},
      "outputs": [
        {
          "name": "stdout",
          "output_type": "stream",
          "text": [
            "....\n",
            "----------------------------------------------------------------------\n",
            "Ran 4 tests in 0.000s\n",
            "\n",
            "OK\n"
          ]
        }
      ],
      "source": [
        "!cd testing_python && coverage run -m unittest tests/test_calculator.py"
      ]
    },
    {
      "cell_type": "markdown",
      "metadata": {},
      "source": [
        "Como vemos solo hemos pasado los test de `test_calculator`, pero a\u00fan no sabemos la cobertura"
      ]
    },
    {
      "cell_type": "markdown",
      "metadata": {},
      "source": [
        "### Reporte de cobertura"
      ]
    },
    {
      "cell_type": "markdown",
      "metadata": {},
      "source": [
        "Despu\u00e9s de haber ejecutado `coverage` podemos pedirle un reporte de la cobertura de test con el comando `coverage report`"
      ]
    },
    {
      "cell_type": "code",
      "execution_count": 34,
      "metadata": {},
      "outputs": [
        {
          "name": "stdout",
          "output_type": "stream",
          "text": [
            "Name                       Stmts   Miss  Cover\n",
            "----------------------------------------------\n",
            "src/calculator.py              8      0   100%\n",
            "tests/test_calculator.py      11      0   100%\n",
            "----------------------------------------------\n",
            "TOTAL                         19      0   100% \n"
          ]
        }
      ],
      "source": [
        "!cd testing_python && coverage report"
      ]
    },
    {
      "cell_type": "markdown",
      "metadata": {},
      "source": [
        "O ped\u00edrselo mediante un archivo HTML con el comando `coverage html`"
      ]
    },
    {
      "cell_type": "code",
      "execution_count": 35,
      "metadata": {},
      "outputs": [
        {
          "name": "stdout",
          "output_type": "stream",
          "text": [
            "Wrote HTML report to \u001b]8;;file:///home/wallabot/Documentos/web/portafolio/posts/testing_python/htmlcov/index.html\u0007htmlcov/index.html\u001b]8;;\u0007\n"
          ]
        }
      ],
      "source": [
        "!cd testing_python && coverage html"
      ]
    },
    {
      "cell_type": "markdown",
      "metadata": {},
      "source": [
        "Se nos crea un archivo `index.html` en la carpeta `htmlcov` que podemos abrir en el navegador y ver la cobertura de test"
      ]
    }
  ],
  "metadata": {
    "kernelspec": {
      "display_name": "base",
      "language": "python",
      "name": "python3"
    },
    "maximofn": {
      "date": "2024-11-03",
      "description_es": "Refactoriza sin miedo \ud83d\udee0\ufe0f gracias a los test unitarios. En este post vas a aprender a hacer test unitarios en Python con la librer\u00eda unittest \ud83d\udc0d\u2705 y a medir la cobertura de test \ud83d\udcca para que puedas hacer todas las modificaciones que quieras sin miedo a romper nada \ud83d\udcaa",
      "description_en": "Refactor without fear \ud83d\udee0\ufe0f thanks to unit tests. In this post you will learn how to do unit tests in Python with the unittest library \ud83d\udc0d\u2705 and measure test coverage \ud83d\udcca so you can make all the modifications you want without fear of breaking anything \ud83d\udcaa",
      "description_pt": "Refatore sem medo \ud83d\udee0\ufe0f gra\u00e7as aos testes unit\u00e1rios. Neste post voc\u00ea aprender\u00e1 a fazer testes unit\u00e1rios em Python com a biblioteca unittest \ud83d\udc0d\u2705 e medir a cobertura de testes \ud83d\udcca para que voc\u00ea possa fazer todas as modifica\u00e7\u00f5es que desejar sem medo de quebrar nada \ud83d\udcaa",
      "end_url": "unittest",
      "image": "https://pub-fb664c455eca46a2ba762a065ac900f7.r2.dev/unittest.webp",
      "keywords_en": "unnittest, python, unit tests, test coverage, unittest library, test suite, test case, test fixture, test runner, test result, test discovery, test loader, test suite, test",
      "keywords_es": "unnittest, python, test unitarios, cobertura de test, librer\u00eda unittest, suite de test, caso de test, fixture de test, corredor de test, resultado de test, descubrimiento de test, cargador de test, suite de test, test",
      "keywords_pt": "unnittest, python, testes unit\u00e1rios, cobertura de testes, biblioteca de testes unittest, conjunto de testes, caso de teste, fixture de teste, executor de teste, resultado de teste, descoberta de teste, carregador de teste, conjunto de testes, teste",
      "title_es": "unittest",
      "title_en": "unittest",
      "title_pt": "unittest"
    },
    "language_info": {
      "codemirror_mode": {
        "name": "ipython",
        "version": 3
      },
      "file_extension": ".py",
      "mimetype": "text/x-python",
      "name": "python",
      "nbconvert_exporter": "python",
      "pygments_lexer": "ipython3",
      "version": "3.10.9"
    }
  },
  "nbformat": 4,
  "nbformat_minor": 2
}