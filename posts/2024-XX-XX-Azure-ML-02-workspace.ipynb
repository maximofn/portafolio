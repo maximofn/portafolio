{
 "cells": [
  {
   "cell_type": "markdown",
   "metadata": {},
   "source": [
    "# Azure ML - Workspace"
   ]
  },
  {
   "cell_type": "markdown",
   "metadata": {},
   "source": [
    "## Loguearse a Azure ML"
   ]
  },
  {
   "cell_type": "markdown",
   "metadata": {},
   "source": [
    "Como las acciones que vamos a hacer por CLI o a través del SDK de Python necesitan una autentificación, primero vamos a loguearnos en Azure ML"
   ]
  },
  {
   "cell_type": "markdown",
   "metadata": {},
   "source": [
    "### Login en Azure ML con el CLI de Azure ML"
   ]
  },
  {
   "cell_type": "markdown",
   "metadata": {},
   "source": [
    "Para logearnos en Azure hacemos"
   ]
  },
  {
   "cell_type": "code",
   "execution_count": null,
   "metadata": {},
   "outputs": [],
   "source": [
    "!az login"
   ]
  },
  {
   "cell_type": "markdown",
   "metadata": {},
   "source": [
    "Se nos abrirá el navegador para logearnos"
   ]
  },
  {
   "cell_type": "markdown",
   "metadata": {},
   "source": [
    "### Crear un cliente de Azure ML con el SDK de Python"
   ]
  },
  {
   "cell_type": "markdown",
   "metadata": {},
   "source": [
    "Primero creamos dos variables con la ID de la suscripción y el grupo de recursos, como estos son datos personales, no los voy a poner aquí. Lo que voy a hacer es incluirlos en un archivo `.env` que no voy a subir a GitHub\n",
    "\n",
    "```bash\n",
    "AZURE_SUSCRIPION_ID=\"xxxxx-xxxx-xxxx-xxxx-xxxxx\"\n",
    "AZURE_ML_RESOURCE_GRPU_ID=\"xxxxx-xxxx-xxxx-xxxx-xxxxx\"\n",
    "```"
   ]
  },
  {
   "cell_type": "markdown",
   "metadata": {},
   "source": [
    "Ahora para leerlos primero necesitasos tener instalado `dotenv` que lo hacemos mediante `pip install python-dotenv`"
   ]
  },
  {
   "cell_type": "code",
   "execution_count": 1,
   "metadata": {},
   "outputs": [],
   "source": [
    "import os\n",
    "import dotenv\n",
    "\n",
    "dotenv.load_dotenv()\n",
    "\n",
    "AZURE_SUSCRIPION_ID = os.getenv(\"AZURE_SUSCRIPION_ID\")\n",
    "AZURE_ML_RESOURCE_GRPU_ID = os.getenv(\"AZURE_ML_RESOURCE_GRPU_ID\")\n"
   ]
  },
  {
   "cell_type": "markdown",
   "metadata": {},
   "source": [
    "Ahora que tenemos estas variables creamos un cliente"
   ]
  },
  {
   "cell_type": "code",
   "execution_count": 2,
   "metadata": {},
   "outputs": [],
   "source": [
    "from azure.ai.ml import MLClient\n",
    "from azure.identity import DefaultAzureCredential\n",
    "\n",
    "ml_client = MLClient(DefaultAzureCredential(), AZURE_SUSCRIPION_ID, AZURE_ML_RESOURCE_GRPU_ID)"
   ]
  },
  {
   "cell_type": "markdown",
   "metadata": {},
   "source": [
    "## Crear un `Workspace` de Azure ML"
   ]
  },
  {
   "cell_type": "markdown",
   "metadata": {},
   "source": [
    "Hemos visto que el `Workspace` es el eje central de `Azure ML`, así que ahora tenemos que crear un `Workspace` de Azure ML para poder trabajar con Azure ML.\n",
    "\n",
    "Se puede crear con la interfaz gŕafica de Azure ML, el CLI de Azure ML o el SDK de Azure ML para Python."
   ]
  },
  {
   "cell_type": "markdown",
   "metadata": {},
   "source": [
    "### Crear un `Workspace` de Azure ML con la interfaz gráfica de Azure ML"
   ]
  },
  {
   "cell_type": "markdown",
   "metadata": {},
   "source": [
    "En Azure ML Studio debería haber un botón de `Create workspace`, así que le damos y se nos abrirá una modal en la que tenemos que poner\n",
    " * `Name`, un nombre único dentro del grupo de recursos, en mis caso he puesto `azure-ml-workspace-GUI`\n",
    " * `Friendly name`, un nombre amigable para el `Workspace`, en mi caso he puesto `Azure ML Workspace GUI`\n",
    " * En `Hub` no ponemos nada porque no lo vamos a compartir en ningún hub\n",
    " * En `Subscription` elegimos la suscripción que hemos creado, si es que la has creado, y si no la que tengas\n",
    " * En `Resource group` elegimos el grupo de recursos que hemos creado, en mi caso he puesto `rg-azure-ml`\n",
    " * En `Region` elegimos la región que más nos convenga, en mi caso he elegido `France Central`. Pero lo ideal es que sea la misma región que el grupo de recursos\n",
    " * Por último le damos al botón de `Create` y esperamos a que se cree el `Workspace`"
   ]
  },
  {
   "cell_type": "markdown",
   "metadata": {},
   "source": [
    "### Crear un `Workspace` de Azure ML con el CLI de Azure ML"
   ]
  },
  {
   "cell_type": "markdown",
   "metadata": {},
   "source": [
    "Ahora usamos la linea de comandos para crear otro recurso"
   ]
  },
  {
   "cell_type": "markdown",
   "metadata": {},
   "source": [
    "Ahora podemos crear un nuevo `Workspace` de Azure ML. En mi caso el `Resource group` será `rg-azure-ml`, el `Location` será `France Central` y el `Workspace` será `azure-ml-workspace-CLI`\n",
    "\n",
    "```bash\n",
    "GROUP='rg-azure-ml'\n",
    "LOCATION='francecentral'\n",
    "WORKSPACE='azure-ml-workspace-CLI'\n",
    "\n",
    "az ml workspace create -n $WORKSPACE -g $GROUP -l $LOCATION\n",
    "```"
   ]
  },
  {
   "cell_type": "markdown",
   "metadata": {},
   "source": [
    "Como no sabemos cómo se tiene que escribir exactamente `France Central` en el CLI, lo buscamos"
   ]
  },
  {
   "cell_type": "code",
   "execution_count": 3,
   "metadata": {},
   "outputs": [
    {
     "name": "stdout",
     "output_type": "stream",
     "text": [
      "          \"name\": \"francesouth\"\n",
      "    \"name\": \"francecentral\",\n",
      "    \"name\": \"france\",\n",
      "          \"name\": \"francecentral\"\n",
      "    \"name\": \"francesouth\",\n"
     ]
    }
   ],
   "source": [
    "!az account list-locations | grep \"name\" | grep france"
   ]
  },
  {
   "cell_type": "markdown",
   "metadata": {},
   "source": [
    "Es `francecentral`, así que creamos el `Workspace`"
   ]
  },
  {
   "cell_type": "code",
   "execution_count": 3,
   "metadata": {},
   "outputs": [
    {
     "name": "stdout",
     "output_type": "stream",
     "text": [
      "The deployment request azure-ml-workspace-CLI-339705 was accepted. ARM deployment URI for reference: \n",
      "https://portal.azure.com//#blade/HubsExtension/DeploymentDetailsBlade/overview/id/%2Fsubscriptions%2F40018f20-6173-46c6-9434-ce9df3089dce%2FresourceGroups%2Frg-azure-ml%2Fproviders%2FMicrosoft.Resources%2Fdeployments%2Fazure-ml-workspace-CLI-339705\n",
      "Creating Storage Account: (azuremlwstorage989ac8f2e  ) ...  Done (21s)\n",
      "Creating Log Analytics Workspace: (azuremlwlogalytidb24365b  )  Done (16s)\n",
      "Creating AzureML Workspace: (azure-ml-workspace-CLI  ) .....  Done (35s)\n",
      "Creating Application Insights: (azuremlwinsights89062123  )  Done (18s)\n",
      "Creating Key Vault: (azuremlwkeyvault89751e05  )  Done (22s)\n",
      "Total time : 59s\n",
      "\n",
      "\u001b[K{\\ Finished ..\n",
      "  \"allow_roleassignment_on_rg\": true,\n",
      "  \"application_insights\": \"/subscriptions/40018f20-6173-46c6-9434-ce9df3089dce/resourceGroups/rg-azure-ml/providers/Microsoft.insights/components/azuremlwinsights89062123\",\n",
      "  \"description\": \"azure-ml-workspace-CLI\",\n",
      "  \"discovery_url\": \"https://francecentral.api.azureml.ms/discovery\",\n",
      "  \"display_name\": \"azure-ml-workspace-CLI\",\n",
      "  \"enable_data_isolation\": false,\n",
      "  \"hbi_workspace\": false,\n",
      "  \"id\": \"/subscriptions/40018f20-6173-46c6-9434-ce9df3089dce/resourceGroups/rg-azure-ml/providers/Microsoft.MachineLearningServices/workspaces/azure-ml-workspace-CLI\",\n",
      "  \"identity\": {\n",
      "    \"principal_id\": \"6311ae8b-08e3-4f23-a1fd-2d709e65db4e\",\n",
      "    \"tenant_id\": \"af68d0a0-cc2f-4750-b6c7-17aa0d0315f6\",\n",
      "    \"type\": \"system_assigned\"\n",
      "  },\n",
      "  \"key_vault\": \"/subscriptions/40018f20-6173-46c6-9434-ce9df3089dce/resourceGroups/rg-azure-ml/providers/Microsoft.Keyvault/vaults/azuremlwkeyvault89751e05\",\n",
      "  \"location\": \"francecentral\",\n",
      "  \"managed_network\": {\n",
      "    \"isolation_mode\": \"disabled\",\n",
      "    \"outbound_rules\": []\n",
      "  },\n",
      "  \"mlflow_tracking_uri\": \"azureml://francecentral.api.azureml.ms/mlflow/v1.0/subscriptions/40018f20-6173-46c6-9434-ce9df3089dce/resourceGroups/rg-azure-ml/providers/Microsoft.MachineLearningServices/workspaces/azure-ml-workspace-CLI\",\n",
      "  \"name\": \"azure-ml-workspace-CLI\",\n",
      "  \"public_network_access\": \"Enabled\",\n",
      "  \"resourceGroup\": \"rg-azure-ml\",\n",
      "  \"resource_group\": \"rg-azure-ml\",\n",
      "  \"serverless_compute\": {\n",
      "    \"no_public_ip\": false\n",
      "  },\n",
      "  \"storage_account\": \"/subscriptions/40018f20-6173-46c6-9434-ce9df3089dce/resourceGroups/rg-azure-ml/providers/Microsoft.Storage/storageAccounts/azuremlwstorage989ac8f2e\",\n",
      "  \"system_datastores_auth_mode\": \"accesskey\",\n",
      "  \"tags\": {\n",
      "    \"createdByToolkit\": \"cli-v2-1.20.0\"\n",
      "  }\n",
      "}\n",
      "\u001b[0m"
     ]
    }
   ],
   "source": [
    "!GROUP='rg-azure-ml' && \\\n",
    "LOCATION='francecentral' && \\\n",
    "WORKSPACE='azure-ml-workspace-CLI' && \\\n",
    "az ml workspace create -n $WORKSPACE -g $GROUP -l $LOCATION"
   ]
  },
  {
   "cell_type": "markdown",
   "metadata": {},
   "source": [
    "### Crear un `Workspace` de Azure ML con Python"
   ]
  },
  {
   "cell_type": "markdown",
   "metadata": {},
   "source": [
    "Para crear un `Workspace` con el SDK de Python usamos la clase [azure.ai.ml.entities.workspace](azure.ai.ml.entities.workspace)"
   ]
  },
  {
   "cell_type": "code",
   "execution_count": 4,
   "metadata": {},
   "outputs": [
    {
     "name": "stderr",
     "output_type": "stream",
     "text": [
      "The deployment request azure-ml-workspace-Python-SDK-7545254 was accepted. ARM deployment URI for reference: \n",
      "https://portal.azure.com//#blade/HubsExtension/DeploymentDetailsBlade/overview/id/%2Fsubscriptions%2F40018f20-6173-46c6-9434-ce9df3089dce%2FresourceGroups%2Frg-azure-ml%2Fproviders%2FMicrosoft.Resources%2Fdeployments%2Fazure-ml-workspace-Python-SDK-7545254\n"
     ]
    }
   ],
   "source": [
    "from azure.ai.ml.entities import Workspace\n",
    "\n",
    "workspace_name = \"azure-ml-workspace-Python-SDK\"\n",
    "friendly_name = \"Azure ML Workspace Python SDK\"\n",
    "description = \"This example shows how to create a workspace using the Python API\"\n",
    "location = \"francecentral\"\n",
    "tags=dict(purpose=\"Azure-ml-post\", environment=\"dev\"),\n",
    "high_business_impact = False\n",
    "\n",
    "python_workspace = Workspace(\n",
    "    name=workspace_name,\n",
    "    description=description,\n",
    "    tags=tags,\n",
    "    display_name=friendly_name,\n",
    "    location=location,\n",
    "    resource_group=AZURE_ML_RESOURCE_GRPU_ID,\n",
    "    hbi_workspace=high_business_impact,\n",
    ")\n",
    "\n",
    "python_workspace = ml_client.workspaces.begin_create(python_workspace)"
   ]
  },
  {
   "cell_type": "markdown",
   "metadata": {},
   "source": [
    "Comprobamos que se ha creado bien el `Workspace`"
   ]
  },
  {
   "cell_type": "code",
   "execution_count": 5,
   "metadata": {},
   "outputs": [
    {
     "name": "stderr",
     "output_type": "stream",
     "text": [
      "Creating AzureML Workspace: (azure-ml-workspace-Python-SDK  )  Done (37s)\n",
      "Creating Application Insights: (azuremlwinsightsb60f3499  )  Done (18s)\n",
      "Creating Key Vault: (azuremlwkeyvault55cd59c3  )  Done (18s)\n",
      "Creating Storage Account: (azuremlwstorage3969c17d3  )  Done (20s)\n",
      "Creating Log Analytics Workspace: (azuremlwlogalyti23adb8e2  )  Done (16s)\n",
      "Total time : 59s\n",
      "\n"
     ]
    },
    {
     "data": {
      "text/plain": [
       "Workspace({'kind': 'default', 'print_as_yaml': False, 'discovery_url': 'https://francecentral.api.azureml.ms/discovery', 'mlflow_tracking_uri': 'azureml://francecentral.api.azureml.ms/mlflow/v1.0/subscriptions/40018f20-6173-46c6-9434-ce9df3089dce/resourceGroups/rg-azure-ml/providers/Microsoft.MachineLearningServices/workspaces/azure-ml-workspace-Python-SDK', 'workspace_id': 'ab824634-1b9f-4941-97cd-0af4c78c6969', 'feature_store_settings': None, 'name': 'azure-ml-workspace-Python-SDK', 'description': 'This example shows how to create a workspace using the Python API', 'tags': {'purpose': 'environment', 'createdByToolkit': 'sdk-v2-1.20.0'}, 'properties': {}, 'id': '/subscriptions/40018f20-6173-46c6-9434-ce9df3089dce/resourceGroups/rg-azure-ml/providers/Microsoft.MachineLearningServices/workspaces/azure-ml-workspace-Python-SDK', 'Resource__source_path': '', 'base_path': '/home/maximofernandez/Documents/web/portafolio/posts', 'creation_context': None, 'serialize': <msrest.serialization.Serializer object at 0x7b084fd6a8d0>, 'display_name': 'Azure ML Workspace Python SDK', 'location': 'francecentral', 'resource_group': 'rg-azure-ml', 'hbi_workspace': False, 'storage_account': '/subscriptions/40018f20-6173-46c6-9434-ce9df3089dce/resourceGroups/rg-azure-ml/providers/Microsoft.Storage/storageAccounts/azuremlwstorage3969c17d3', 'container_registry': None, 'key_vault': '/subscriptions/40018f20-6173-46c6-9434-ce9df3089dce/resourceGroups/rg-azure-ml/providers/Microsoft.Keyvault/vaults/azuremlwkeyvault55cd59c3', 'application_insights': '/subscriptions/40018f20-6173-46c6-9434-ce9df3089dce/resourceGroups/rg-azure-ml/providers/Microsoft.insights/components/azuremlwinsightsb60f3499', 'customer_managed_key': None, 'image_build_compute': None, 'public_network_access': 'Enabled', 'identity': <azure.ai.ml.entities._credentials.IdentityConfiguration object at 0x7b084f3850d0>, 'primary_user_assigned_identity': None, 'managed_network': <azure.ai.ml.entities._workspace.networking.ManagedNetwork object at 0x7b084fd75f90>, 'system_datastores_auth_mode': 'accesskey', 'enable_data_isolation': False, 'allow_roleassignment_on_rg': True, 'Workspace__hub_id': None, 'serverless_compute': <azure.ai.ml.entities._workspace.serverless_compute.ServerlessComputeSettings object at 0x7b084f3854d0>})"
      ]
     },
     "execution_count": 5,
     "metadata": {},
     "output_type": "execute_result"
    }
   ],
   "source": [
    "python_workspace.result()"
   ]
  },
  {
   "cell_type": "markdown",
   "metadata": {},
   "source": [
    "## Conectarse a un `Workspace` de Azure ML"
   ]
  },
  {
   "cell_type": "markdown",
   "metadata": {},
   "source": [
    "Solamente vamos a crear el `Workspace` una vez, el resto de veces solo hace falta conectarnos a uno ya creado. Así que vamos a ver cómo hacerlo"
   ]
  },
  {
   "cell_type": "markdown",
   "metadata": {},
   "source": [
    "### Conectarse a un `Workspace` de Azure ML con la interfaz gráfica de Azure ML"
   ]
  },
  {
   "cell_type": "markdown",
   "metadata": {},
   "source": [
    "Simplemente abrirmos ML Studio y entramos en el `Workspace` que queramos"
   ]
  },
  {
   "cell_type": "markdown",
   "metadata": {},
   "source": [
    "### Conectarse a un `Workspace` de Azure ML con el CLI de Azure ML"
   ]
  },
  {
   "cell_type": "markdown",
   "metadata": {},
   "source": [
    "Hacemos lo mismo que hicimos para logearnos"
   ]
  },
  {
   "cell_type": "code",
   "execution_count": null,
   "metadata": {},
   "outputs": [],
   "source": [
    "!az login"
   ]
  },
  {
   "cell_type": "markdown",
   "metadata": {},
   "source": [
    "Se nos abrirá el navegador para logearnos"
   ]
  },
  {
   "cell_type": "markdown",
   "metadata": {},
   "source": [
    "### Conectarse un `Workspace` de Azure ML con Python"
   ]
  },
  {
   "cell_type": "markdown",
   "metadata": {},
   "source": [
    "Para conectarse a un `Workspace` de Azure ML con el SDK de Python volvemos a crear un cliente, pero asociado al `Workspace` que queramos"
   ]
  },
  {
   "cell_type": "code",
   "execution_count": 6,
   "metadata": {},
   "outputs": [],
   "source": [
    "from azure.ai.ml import MLClient\n",
    "from azure.identity import DefaultAzureCredential\n",
    "\n",
    "workspace_name = \"azure-ml-workspace-Python-SDK\"\n",
    "\n",
    "ml_client = MLClient(DefaultAzureCredential(), AZURE_SUSCRIPION_ID, AZURE_ML_RESOURCE_GRPU_ID, workspace_name)"
   ]
  }
 ],
 "metadata": {
  "kernelspec": {
   "display_name": "azure_ml",
   "language": "python",
   "name": "python3"
  },
  "language_info": {
   "codemirror_mode": {
    "name": "ipython",
    "version": 3
   },
   "file_extension": ".py",
   "mimetype": "text/x-python",
   "name": "python",
   "nbconvert_exporter": "python",
   "pygments_lexer": "ipython3",
   "version": "3.11.10"
  }
 },
 "nbformat": 4,
 "nbformat_minor": 2
}
