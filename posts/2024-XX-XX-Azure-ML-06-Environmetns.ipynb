{
 "cells": [
  {
   "cell_type": "markdown",
   "metadata": {},
   "source": [
    "# Azure ML - Environments"
   ]
  },
  {
   "cell_type": "markdown",
   "metadata": {},
   "source": [
    "## Loguearse a Azure ML"
   ]
  },
  {
   "cell_type": "markdown",
   "metadata": {},
   "source": [
    "Como las acciones que vamos a hacer por CLI o a través del SDK de Python necesitan una autentificación, primero vamos a loguearnos en Azure ML"
   ]
  },
  {
   "cell_type": "markdown",
   "metadata": {},
   "source": [
    "### Login en Azure ML con el CLI de Azure ML"
   ]
  },
  {
   "cell_type": "markdown",
   "metadata": {},
   "source": [
    "Para logearnos en Azure hacemos"
   ]
  },
  {
   "cell_type": "code",
   "execution_count": null,
   "metadata": {},
   "outputs": [],
   "source": [
    "!az login"
   ]
  },
  {
   "cell_type": "markdown",
   "metadata": {},
   "source": [
    "Se nos abrirá el navegador para logearnos"
   ]
  },
  {
   "cell_type": "markdown",
   "metadata": {},
   "source": [
    "### Crear un cliente de Azure ML con el SDK de Python"
   ]
  },
  {
   "cell_type": "markdown",
   "metadata": {},
   "source": [
    "Primero creamos dos variables con la ID de la suscripción y el grupo de recursos, como estos son datos personales, no los voy a poner aquí. Lo que voy a hacer es incluirlos en un archivo `.env` que no voy a subir a GitHub\n",
    "\n",
    "```bash\n",
    "AZURE_SUSCRIPION_ID=\"xxxxx-xxxx-xxxx-xxxx-xxxxx\"\n",
    "AZURE_ML_RESOURCE_GRPU_ID=\"xxxxx-xxxx-xxxx-xxxx-xxxxx\"\n",
    "```"
   ]
  },
  {
   "cell_type": "markdown",
   "metadata": {},
   "source": [
    "Ahora para leerlos primero necesitasos tener instalado `dotenv` que lo hacemos mediante `pip install python-dotenv`"
   ]
  },
  {
   "cell_type": "code",
   "execution_count": 9,
   "metadata": {},
   "outputs": [],
   "source": [
    "import os\n",
    "import dotenv\n",
    "\n",
    "dotenv.load_dotenv()\n",
    "\n",
    "AZURE_SUSCRIPION_ID = os.getenv(\"AZURE_SUSCRIPION_ID\")\n",
    "AZURE_ML_RESOURCE_GRPU_ID = os.getenv(\"AZURE_ML_RESOURCE_GRPU_ID\")\n"
   ]
  },
  {
   "cell_type": "markdown",
   "metadata": {},
   "source": [
    "Ahora que tenemos estas variables creamos un cliente"
   ]
  },
  {
   "cell_type": "code",
   "execution_count": 10,
   "metadata": {},
   "outputs": [],
   "source": [
    "from azure.ai.ml import MLClient\n",
    "from azure.identity import DefaultAzureCredential\n",
    "\n",
    "workspace_name = \"azure-ml-workspace-Python-SDK\"\n",
    "\n",
    "ml_client = MLClient(DefaultAzureCredential(), AZURE_SUSCRIPION_ID, AZURE_ML_RESOURCE_GRPU_ID, workspace_name)"
   ]
  },
  {
   "cell_type": "markdown",
   "metadata": {},
   "source": [
    "## Environmnets"
   ]
  },
  {
   "cell_type": "markdown",
   "metadata": {},
   "source": [
    "Hemos visto cómo crear `Compute Instance`s y `Compute Cluster`s, pero a la hora de entrenar un modelo necesitamos tener ciertas librerías instaladas. Para ello podemos crear entornos. La forma de hacerlo en Azure ML es mediante imágenes `Docker` o entornos de `Conda`."
   ]
  },
  {
   "cell_type": "markdown",
   "metadata": {},
   "source": [
    "Para mejorar la portabilidad normalemente se usan entornos `Conda` dentro de entornos `Docker`.\n",
    "\n",
    "![Azure ML Environments](https://pub-fb664c455eca46a2ba762a065ac900f7.r2.dev/azureml-environment.webp)"
   ]
  },
  {
   "cell_type": "markdown",
   "metadata": {},
   "source": [
    "#### Crear un `Environment` desde la interfaz gráfica"
   ]
  },
  {
   "cell_type": "markdown",
   "metadata": {},
   "source": [
    "Para crear un nuevo `Environment` nos vamos a nuestro workspace y en el menú de la izquierda seleccionamos `Environments`, dentro de `Assets`. Vamos a la pestaña `Custom envronments` y le damos a `Create`, a partir de aquí\n",
    "\n",
    " * Seleccionamos un nombre, en mi caso le voy a poner `cuda_11_8_0_cudnn8_devel_ubuntu22_04_transformers_GUI`\n",
    " * Le pongo la descripción `Environment cuda 11.8.0 - cudnn8 devel - ubuntu 22.04 - transformers - GUI`\n",
    " * En `Select environment source` seleccionamos `Create a new docker context`\n",
    "\n",
    "Pulsamos en `Next`. Ahora tenemos que escribir el archivo `Dockerfile` que queremos usar. En mi caso voy a usar el siguiente\n",
    "\n",
    "```dockerfile\n",
    "FROM nvcr.io/nvidia/cuda:11.8.0-cudnn8-devel-ubuntu22.04\n",
    "\n",
    "RUN apt-get update \\\n",
    "    && apt-get install -y git git-lfs python3 python3-pip \\\n",
    "    && curl -s https://packagecloud.io/install/repositories/github/git-lfs/script.deb.sh | bash \\\n",
    "    && git lfs install \\\n",
    "    && rm cuda-keyring_1.0-1_all.deb \\\n",
    "    && ln -s /usr/bin/python3 /usr/bin/python \\\n",
    "    && rm -rf /var/lib/apt/lists/*\n",
    "\n",
    "RUN pip3 install --no-cache-dir torch torchvision torchaudio --index-url https://download.pytorch.org/whl/cu118\n",
    "\n",
    "RUN pip3 install --no-cache-dir -U transformers accelerate datasets evaluate\n",
    "\n",
    "WORKDIR /text-classification\n",
    "```\n",
    "\n",
    "Pulsamos en `Next` y en `Create` y ya tenemos nuestro entorno creado"
   ]
  },
  {
   "cell_type": "markdown",
   "metadata": {},
   "source": [
    "### Crear un `Environment` con el CLI de Azure ML"
   ]
  },
  {
   "cell_type": "markdown",
   "metadata": {},
   "source": [
    "Para crear un entorno, primero creamos el archivo de configuración del entorno de conda"
   ]
  },
  {
   "cell_type": "code",
   "execution_count": 11,
   "metadata": {},
   "outputs": [
    {
     "name": "stdout",
     "output_type": "stream",
     "text": [
      "Writing azure_environment_docker/dockerfile\n"
     ]
    }
   ],
   "source": [
    "%%writefile azure_environment_docker/dockerfile\n",
    "FROM nvcr.io/nvidia/cuda:11.8.0-cudnn8-devel-ubuntu22.04\n",
    "\n",
    "RUN apt-get update \\\n",
    "    && apt-get install -y git git-lfs python3 python3-pip \\\n",
    "    && curl -s https://packagecloud.io/install/repositories/github/git-lfs/script.deb.sh | bash \\\n",
    "    && git lfs install \\\n",
    "    && rm cuda-keyring_1.0-1_all.deb \\\n",
    "    && ln -s /usr/bin/python3 /usr/bin/python \\\n",
    "    && rm -rf /var/lib/apt/lists/*\n",
    "\n",
    "RUN pip3 install --no-cache-dir torch torchvision torchaudio --index-url https://download.pytorch.org/whl/cu118\n",
    "\n",
    "RUN pip3 install --no-cache-dir -U transformers accelerate datasets evaluate\n",
    "\n",
    "WORKDIR /text-classification"
   ]
  },
  {
   "cell_type": "markdown",
   "metadata": {},
   "source": [
    "Ahora creamos el entorno con el siguiente comando"
   ]
  },
  {
   "cell_type": "code",
   "execution_count": null,
   "metadata": {},
   "outputs": [
    {
     "name": "stdout",
     "output_type": "stream",
     "text": [
      "\u001b[32mUploading azure_CLI_docker (0.0 MBs): 100%|█| 605/605 [00:00<00:00, 16623.35it/s\u001b[0m\n",
      "\u001b[39m\n",
      "\n",
      "{\n",
      "  \"build\": {\n",
      "    \"dockerfile_path\": \"dockerfile\",\n",
      "    \"path\": \"https://azuremlwstorage989ac8f2e.blob.core.windows.net/azureml-blobstore-824e3c4b-1e0b-44f9-b53b-4b14844feb97/LocalUpload/da9736b376135ad63aefe4607821f044/azure_CLI_docker/\"\n",
      "  },\n",
      "  \"creation_context\": {\n",
      "    \"created_at\": \"2024-11-06T12:58:20.029673+00:00\",\n",
      "    \"created_by\": \"Maximo Fernandez Nuñez\",\n",
      "    \"created_by_type\": \"User\",\n",
      "    \"last_modified_at\": \"2024-11-06T12:58:20.029673+00:00\",\n",
      "    \"last_modified_by\": \"Maximo Fernandez Nuñez\",\n",
      "    \"last_modified_by_type\": \"User\"\n",
      "  },\n",
      "  \"id\": \"azureml:/subscriptions/40018f20-6173-46c6-9434-ce9df3089dce/resourceGroups/rg-azure-ml/providers/Microsoft.MachineLearningServices/workspaces/azure-ml-workspace-CLI/environments/cuda_11_8_0_cudnn8_devel_ubuntu22_04_transformers_CLI/versions/3\",\n",
      "  \"name\": \"cuda_11_8_0_cudnn8_devel_ubuntu22_04_transformers_CLI\",\n",
      "  \"os_type\": \"linux\",\n",
      "  \"resourceGroup\": \"rg-azure-ml\",\n",
      "  \"tags\": {},\n",
      "  \"version\": \"3\"\n",
      "}\n",
      "\u001b[0m"
     ]
    }
   ],
   "source": [
    "!GROUP='rg-azure-ml' && \\\n",
    "WORKSPACE='azure-ml-workspace-CLI' && \\\n",
    "NAME=\"cuda_11_8_0_cudnn8_devel_ubuntu22_04_transformers_CLI\" && \\\n",
    "DOCKER_FILE_PATH=\"./azure_environment_docker\" && \\\n",
    "DOCKER_FILE=\"dockerfile\" && \\\n",
    "az ml environment create --name $NAME --resource-group $GROUP --workspace-name $WORKSPACE --build-context $DOCKER_FILE_PATH --dockerfile-path $DOCKER_FILE"
   ]
  },
  {
   "cell_type": "markdown",
   "metadata": {},
   "source": [
    "### Crear un `Environment` con el SDK de Python"
   ]
  },
  {
   "cell_type": "markdown",
   "metadata": {},
   "source": [
    "Con la documentación de Azure no he sido capaz de crear un entorno con el SDK de Python usando un dockerfile, de modo que lo creo a mano y lo llamo `cuda_11_8_0_cudnn8_devel_ubuntu22_04_transformers_python_`"
   ]
  }
 ],
 "metadata": {
  "kernelspec": {
   "display_name": "azure_ml",
   "language": "python",
   "name": "python3"
  },
  "language_info": {
   "codemirror_mode": {
    "name": "ipython",
    "version": 3
   },
   "file_extension": ".py",
   "mimetype": "text/x-python",
   "name": "python",
   "nbconvert_exporter": "python",
   "pygments_lexer": "ipython3",
   "version": "3.11.10"
  }
 },
 "nbformat": 4,
 "nbformat_minor": 2
}
