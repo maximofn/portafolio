{
 "cells": [
  {
   "cell_type": "markdown",
   "metadata": {},
   "source": [
    "# Azure ML - Environments"
   ]
  },
  {
   "cell_type": "markdown",
   "metadata": {},
   "source": [
    "## Loguearse a Azure ML"
   ]
  },
  {
   "cell_type": "markdown",
   "metadata": {},
   "source": [
    "Como las acciones que vamos a hacer por CLI o a través del SDK de Python necesitan una autentificación, primero vamos a loguearnos en Azure ML"
   ]
  },
  {
   "cell_type": "markdown",
   "metadata": {},
   "source": [
    "### Login en Azure ML con el CLI de Azure ML"
   ]
  },
  {
   "cell_type": "markdown",
   "metadata": {},
   "source": [
    "Para logearnos en Azure hacemos"
   ]
  },
  {
   "cell_type": "code",
   "execution_count": null,
   "metadata": {},
   "outputs": [],
   "source": [
    "!az login"
   ]
  },
  {
   "cell_type": "markdown",
   "metadata": {},
   "source": [
    "Se nos abrirá el navegador para logearnos"
   ]
  },
  {
   "cell_type": "markdown",
   "metadata": {},
   "source": [
    "### Crear un cliente de Azure ML con el SDK de Python"
   ]
  },
  {
   "cell_type": "markdown",
   "metadata": {},
   "source": [
    "Primero creamos dos variables con la ID de la suscripción y el grupo de recursos, como estos son datos personales, no los voy a poner aquí. Lo que voy a hacer es incluirlos en un archivo `.env` que no voy a subir a GitHub\n",
    "\n",
    "```bash\n",
    "AZURE_SUSCRIPION_ID=\"xxxxx-xxxx-xxxx-xxxx-xxxxx\"\n",
    "AZURE_ML_RESOURCE_GRPU_ID=\"xxxxx-xxxx-xxxx-xxxx-xxxxx\"\n",
    "```"
   ]
  },
  {
   "cell_type": "markdown",
   "metadata": {},
   "source": [
    "Ahora para leerlos primero necesitasos tener instalado `dotenv` que lo hacemos mediante `pip install python-dotenv`"
   ]
  },
  {
   "cell_type": "code",
   "execution_count": 1,
   "metadata": {},
   "outputs": [],
   "source": [
    "import os\n",
    "import dotenv\n",
    "\n",
    "dotenv.load_dotenv()\n",
    "\n",
    "AZURE_SUSCRIPION_ID = os.getenv(\"AZURE_SUSCRIPION_ID\")\n",
    "AZURE_ML_RESOURCE_GRPU_ID = os.getenv(\"AZURE_ML_RESOURCE_GRPU_ID\")\n"
   ]
  },
  {
   "cell_type": "markdown",
   "metadata": {},
   "source": [
    "Ahora que tenemos estas variables creamos un cliente"
   ]
  },
  {
   "cell_type": "code",
   "execution_count": 2,
   "metadata": {},
   "outputs": [],
   "source": [
    "from azure.ai.ml import MLClient\n",
    "from azure.identity import DefaultAzureCredential\n",
    "\n",
    "workspace_name = \"azure-ml-workspace-Python-SDK\"\n",
    "\n",
    "ml_client = MLClient(DefaultAzureCredential(), AZURE_SUSCRIPION_ID, AZURE_ML_RESOURCE_GRPU_ID, workspace_name)"
   ]
  },
  {
   "cell_type": "markdown",
   "metadata": {},
   "source": [
    "## Environmnets"
   ]
  },
  {
   "cell_type": "markdown",
   "metadata": {},
   "source": [
    "Hemos visto cómo crear `Compute Instance`s y `Compute Cluster`s, pero a la hora de entrenar un modelo necesitamos tener ciertas librerías instaladas. Para ello podemos crear entornos. La forma de hacerlo en Azure ML es mediante imágenes `Docker` o entornos de `Conda`."
   ]
  },
  {
   "cell_type": "markdown",
   "metadata": {},
   "source": [
    "Para mejorar la portabilidad normalemente se usan entornos `Conda` dentro de entornos `Docker`.\n",
    "\n",
    "![Azure ML Environments](https://pub-fb664c455eca46a2ba762a065ac900f7.r2.dev/azureml-environment.webp)"
   ]
  },
  {
   "cell_type": "markdown",
   "metadata": {},
   "source": [
    "#### Crear un `Environment` desde la interfaz gráfica"
   ]
  },
  {
   "cell_type": "markdown",
   "metadata": {},
   "source": [
    "Para crear un nuevo `ENvironment` nos vamos a nuestro workspace y en el menú de la izquierda seleccionamos `Environments`, dentro de `Assets`. Vamos a la pestaña `Custom envronments` y le damos a `Create`, a partir de aquí\n",
    "\n",
    " * Seleccionamos un nombre, en mi caso le voy a poner `environment-GUI`\n",
    " * En `Select environment source` seleccionamos `Use existing docker image with conda file`\n",
    " * En `Container registry image path` introducimos `pytorch/pytorch:2.5.0-cuda12.4-cudnn9-devel`\n",
    "\n",
    "Pulsamos en `Next`. Ahora tenemos que escribir el archivo `conda.yml` que queremos usar. En mi caso voy a usar el siguiente\n",
    "\n",
    "```yaml\n",
    "name: transformers\n",
    "channels:\n",
    "  - conda-forge\n",
    "dependencies:\n",
    "  - python=3.11\n",
    "  - pip\n",
    "  - pip:\n",
    "    - transformers\n",
    "    - accelerate\n",
    "    - datasets\n",
    "```\n",
    "\n",
    "Pulsamos en `Next` y en `Create` y ya tenemos nuestro entorno creado"
   ]
  },
  {
   "cell_type": "markdown",
   "metadata": {},
   "source": [
    "### Crear un `Environment` con el CLI de Azure ML"
   ]
  },
  {
   "cell_type": "markdown",
   "metadata": {},
   "source": [
    "Para crear un entorno, primero creamos el archivo de configuración del entorno de conda"
   ]
  },
  {
   "cell_type": "code",
   "execution_count": 6,
   "metadata": {},
   "outputs": [],
   "source": [
    "!echo \"name: transformers\"  > conda_env.yml\n",
    "!echo \"channels:\"          >> conda_env.yml\n",
    "!echo \"  - conda-forge\"    >> conda_env.yml\n",
    "!echo \"dependencies:\"      >> conda_env.yml\n",
    "!echo \"  - python=3.11\"    >> conda_env.yml\n",
    "!echo \"  - pip\"            >> conda_env.yml\n",
    "!echo \"  - pip:\"           >> conda_env.yml\n",
    "!echo \"    - transformers\" >> conda_env.yml\n",
    "!echo \"    - accelerate\"   >> conda_env.yml\n",
    "!echo \"    - datasets\"     >> conda_env.yml"
   ]
  },
  {
   "cell_type": "markdown",
   "metadata": {},
   "source": [
    "Ahora creamos el entorno con el siguiente comando"
   ]
  },
  {
   "cell_type": "code",
   "execution_count": 14,
   "metadata": {},
   "outputs": [
    {
     "name": "stdout",
     "output_type": "stream",
     "text": [
      "{\n",
      "  \"conda_file\": {\n",
      "    \"channels\": [\n",
      "      \"conda-forge\"\n",
      "    ],\n",
      "    \"dependencies\": [\n",
      "      \"python=3.11\",\n",
      "      \"pip\",\n",
      "      {\n",
      "        \"pip\": [\n",
      "          \"transformers\",\n",
      "          \"accelerate\",\n",
      "          \"datasets\"\n",
      "        ]\n",
      "      }\n",
      "    ],\n",
      "    \"name\": \"transformers\"\n",
      "  },\n",
      "  \"creation_context\": {\n",
      "    \"created_at\": \"2024-10-28T20:00:55.768966+00:00\",\n",
      "    \"created_by\": \"Maximo Fernandez Nuñez\",\n",
      "    \"created_by_type\": \"User\",\n",
      "    \"last_modified_at\": \"2024-10-28T20:00:55.768966+00:00\",\n",
      "    \"last_modified_by\": \"Maximo Fernandez Nuñez\",\n",
      "    \"last_modified_by_type\": \"User\"\n",
      "  },\n",
      "  \"id\": \"azureml:/subscriptions/40018f20-6173-46c6-9434-ce9df3089dce/resourceGroups/rg-azure-ml/providers/Microsoft.MachineLearningServices/workspaces/azure-ml-workspace-CLI/environments/environment-CLI/versions/1\",\n",
      "  \"image\": \"pytorch/pytorch:2.5.0-cuda12.4-cudnn9-devel\",\n",
      "  \"name\": \"environment-CLI\",\n",
      "  \"os_type\": \"linux\",\n",
      "  \"resourceGroup\": \"rg-azure-ml\",\n",
      "  \"tags\": {},\n",
      "  \"version\": \"1\"\n",
      "}\n",
      "\u001b[0m"
     ]
    }
   ],
   "source": [
    "!GROUP='rg-azure-ml' && \\\n",
    "WORKSPACE='azure-ml-workspace-CLI' && \\\n",
    "NAME=\"environment-CLI\" && \\\n",
    "CONDA_FILE=\"conda_env.yml\" && \\\n",
    "DOCKER_IMAGE=\"pytorch/pytorch:2.5.0-cuda12.4-cudnn9-devel\" && \\\n",
    "az ml environment create --name $NAME --resource-group $GROUP --workspace-name $WORKSPACE --conda-file $CONDA_FILE --image $DOCKER_IMAGE"
   ]
  },
  {
   "cell_type": "markdown",
   "metadata": {},
   "source": [
    "### Crear un `Environment` con el SDK de Python"
   ]
  },
  {
   "cell_type": "markdown",
   "metadata": {},
   "source": [
    "Para crear un entorno con el SDK de Python hacemos lo siguiente"
   ]
  },
  {
   "cell_type": "code",
   "execution_count": 3,
   "metadata": {},
   "outputs": [],
   "source": [
    "from azure.ai.ml.entities import Environment\n",
    "\n",
    "docker_image = \"pytorch/pytorch:2.5.0-cuda12.4-cudnn9-devel\"\n",
    "conda_file = \"conda_env.yml\"\n",
    "name = \"environment-python\"\n",
    "\n",
    "env_docker_conda = Environment(\n",
    "    image=docker_image,\n",
    "    conda_file=conda_file,\n",
    "    name=name,\n",
    "    description=\"Environment created from a Docker image plus Conda environment. Pyhton SDK\",\n",
    ")\n",
    "\n",
    "result = ml_client.environments.create_or_update(env_docker_conda)"
   ]
  },
  {
   "cell_type": "code",
   "execution_count": 4,
   "metadata": {},
   "outputs": [
    {
     "data": {
      "text/plain": [
       "Environment({'arm_type': 'environment_version', 'latest_version': None, 'image': 'pytorch/pytorch:2.5.0-cuda12.4-cudnn9-devel', 'intellectual_property': None, 'is_anonymous': False, 'auto_increment_version': False, 'auto_delete_setting': None, 'name': 'environment-python', 'description': 'Environment created from a Docker image plus Conda environment. Pyhton SDK', 'tags': {}, 'properties': {'azureml.labels': 'latest'}, 'print_as_yaml': False, 'id': '/subscriptions/40018f20-6173-46c6-9434-ce9df3089dce/resourceGroups/rg-azure-ml/providers/Microsoft.MachineLearningServices/workspaces/azure-ml-workspace-Python-SDK/environments/environment-python/versions/1', 'Resource__source_path': '', 'base_path': '/home/wallabot/Documentos/web/portafolio/posts', 'creation_context': <azure.ai.ml.entities._system_data.SystemData object at 0x7f00ba102650>, 'serialize': <msrest.serialization.Serializer object at 0x7f00ba113010>, 'version': '1', 'conda_file': {'channels': ['conda-forge'], 'dependencies': ['python=3.11', 'pip', {'pip': ['transformers', 'accelerate', 'datasets']}], 'name': 'transformers'}, 'build': None, 'inference_config': None, 'os_type': 'Linux', 'conda_file_path': None, 'path': None, 'datastore': None, 'upload_hash': None, 'translated_conda_file': '{\\n  \"channels\": [\\n    \"conda-forge\"\\n  ],\\n  \"dependencies\": [\\n    \"python=3.11\",\\n    \"pip\",\\n    {\\n      \"pip\": [\\n        \"transformers\",\\n        \"accelerate\",\\n        \"datasets\"\\n      ]\\n    }\\n  ],\\n  \"name\": \"transformers\"\\n}'})"
      ]
     },
     "execution_count": 4,
     "metadata": {},
     "output_type": "execute_result"
    }
   ],
   "source": [
    "result"
   ]
  }
 ],
 "metadata": {
  "kernelspec": {
   "display_name": "azure_ml",
   "language": "python",
   "name": "python3"
  },
  "language_info": {
   "codemirror_mode": {
    "name": "ipython",
    "version": 3
   },
   "file_extension": ".py",
   "mimetype": "text/x-python",
   "name": "python",
   "nbconvert_exporter": "python",
   "pygments_lexer": "ipython3",
   "version": "3.11.10"
  }
 },
 "nbformat": 4,
 "nbformat_minor": 2
}
