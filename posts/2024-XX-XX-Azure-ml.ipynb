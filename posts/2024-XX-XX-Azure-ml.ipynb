{
 "cells": [
  {
   "cell_type": "markdown",
   "metadata": {},
   "source": [
    "# Azure ML"
   ]
  },
  {
   "cell_type": "markdown",
   "metadata": {},
   "source": [
    "## Crear un servicio de Azure ML"
   ]
  },
  {
   "cell_type": "markdown",
   "metadata": {},
   "source": [
    "Para crear un servicio de Azure ML hay que seguir los siguientes pasos:\n",
    " * Ir al portal de Azure\n",
    " * En mi caso me he creado una nueva suscripción para tener más trazabilidad de los gastos\n",
    " * Ahora crear un nuevo grupo de recursos con la siguiente configuración:\n",
    "   * En `Suscription` elegir la suscripción que hemos creado, si es que la has creado, y si no la que tengas\n",
    "   * En `Resource group` poner un nombre para el grupo de recursos, en mi caso he puesto `rg-azure-ml`\n",
    "   * En `Region` elegir la región que más te convenga, en mi caso he elegido `France Central`\n",
    " * Una vez creado el grupo de recursos, vamos a crear un nuevo recurso. Buscamos `Azure Machine Learning Service` en el buscador que se nos abre y le damos a `Create`\n",
    "   * En `Subscription` elegimos la suscripción que hemos creado, si es que la has creado, y si no la que tengas\n",
    "   * En `Resource group` elegimos el grupo de recursos que hemos creado\n",
    "   * En `Name` ponemos un nombre para el servicio de Azure ML, en mi caso he puesto `azure-ml-service`\n",
    "   * En `Region` elegimos la región que más nos convenga, en mi caso he elegido `France Central`. Pero lo ideal es que sea la misma región que el grupo de recursos\n",
    "   * Se nos han creado automáticamente un `Storage account`, un `Kay vault` y un `Application Insights`, así que los dejamos así\n",
    "   * En `Container registry` elegimos `Create new` y ponemos un nombre para el registro de contenedores, en mi caso he puesto `azuremlcontainerregistryXXXXXXXXXX` donde las `X` son números aleatorios, ya que este nombre tiene que ser único\n",
    "   * Por último le damos al botón de `Review + create` y si todo está bien le damos al botón de `Create`\n",
    "\n",
    "Enhorabuena, ya tienes tu primer servicio de Azure Machine Learning creado. Ahora toca esperar un poco a que el proceso de crearlo termine\n",
    "\n",
    "Cuando termine aparecerá un botón de `Go to resource` que nos llevará a la página principal del servicio de Azure ML. Y dentro de esta página podemos ver otro botón de `Launch studio` que nos llevará al estudio de Azure ML"
   ]
  },
  {
   "cell_type": "markdown",
   "metadata": {},
   "source": [
    "## Instalar las librerías necesarias"
   ]
  },
  {
   "cell_type": "markdown",
   "metadata": {},
   "source": [
    "Mientras esperamos a que se cree el servicio de Azure ML, vamos a instalar las librerías que vamos a necesitar para trabajar con Azure ML."
   ]
  },
  {
   "cell_type": "markdown",
   "metadata": {},
   "source": [
    "Al trabajar con Azure Machine Learning tenemos tres opciones\n",
    " * Usar la interfaz gráfica de Azure ML\n",
    " * Usar el CLI de Azure ML\n",
    " * Usar el SDK de Azure ML para Python"
   ]
  },
  {
   "cell_type": "markdown",
   "metadata": {},
   "source": [
    "### Intalar librerías necesarias para el CLI de Azure ML"
   ]
  },
  {
   "cell_type": "markdown",
   "metadata": {},
   "source": [
    "Para poder usar las funcionalidades del CLI de Azure ML necesitamos instalar las siguientes librerías\n",
    "\n",
    "```bash\n",
    "curl -sL https://aka.ms/InstallAzureCLIDeb | sudo bash\n",
    "az extension add -n ml -y\n",
    "```"
   ]
  },
  {
   "cell_type": "markdown",
   "metadata": {},
   "source": [
    "Vamos a comprobar que las hemos instalado bien"
   ]
  },
  {
   "cell_type": "code",
   "execution_count": 2,
   "metadata": {},
   "outputs": [
    {
     "name": "stdout",
     "output_type": "stream",
     "text": [
      "\n",
      "     /\\\n",
      "    /  \\    _____   _ _  ___ _\n",
      "   / /\\ \\  |_  / | | | \\'__/ _\\\n",
      "  / ____ \\  / /| |_| | | |  __/\n",
      " /_/    \\_\\/___|\\__,_|_|  \\___|\n",
      "\n",
      "\n",
      "Welcome to the cool new Azure CLI!\n",
      "\n",
      "Use `az --version` to display the current version.\n",
      "Here are the base commands:\n",
      "\n",
      "    account             : Manage Azure subscription information.\n",
      "    acr                 : Manage private registries with Azure Container Registries.\n",
      "    ad                  : Manage Microsoft Entra ID (formerly known as Azure Active Directory, Azure\n",
      "                         AD, AAD) entities needed for Azure role-based access control (Azure RBAC)\n",
      "                         through Microsoft Graph API.\n",
      "    advisor             : Manage Azure Advisor.\n",
      "    afd                 : Manage Azure Front Door Standard/Premium.\n",
      "    aks                 : Manage Azure Kubernetes Services.\n",
      "    ams                 : Manage Azure Media Services resources.\n",
      "    apim                : Manage Azure API Management services.\n",
      "    appconfig           : Manage App Configurations.\n",
      "    appservice          : Manage App Service plans.\n",
      "    aro                 : Manage Azure Red Hat OpenShift clusters.\n",
      "    backup              : Manage Azure Backups.\n",
      "    batch               : Manage Azure Batch.\n",
      "    bicep               : Bicep CLI command group.\n",
      "    billing             : Manage Azure Billing.\n",
      "    bot                 : Manage Microsoft Azure Bot Service.\n",
      "    cache               : Commands to manage CLI objects cached using the `--defer` argument.\n",
      "    capacity            : Manage capacity.\n",
      "    cdn                 : Manage Azure Content Delivery Networks (CDNs).\n",
      "    cloud               : Manage registered Azure clouds.\n",
      "    cognitiveservices   : Manage Azure Cognitive Services accounts.\n",
      "    compute-recommender : Manage sku/zone/region recommender info for compute resources.\n",
      "    config              : Manage Azure CLI configuration.\n",
      "    configure           : Manage Azure CLI configuration. This command is interactive.\n",
      "    connection          : Commands to manage Service Connector local connections which allow local\n",
      "                         environment to connect Azure Resource. If you want to manage connection for\n",
      "                         compute service, please run 'az webapp/containerapp/spring connection'.\n",
      "    consumption         : Manage consumption of Azure resources.\n",
      "    container           : Manage Azure Container Instances.\n",
      "    containerapp        : Manage Azure Container Apps.\n",
      "    cosmosdb            : Manage Azure Cosmos DB database accounts.\n",
      "    databoxedge         : Manage device with databoxedge.\n",
      "    deployment          : Manage Azure Resource Manager template deployment at subscription scope.\n",
      "    deployment-scripts  : Manage deployment scripts at subscription or resource group scope.\n",
      "    disk                : Manage Azure Managed Disks.\n",
      "    disk-access         : Manage disk access resources.\n",
      "    disk-encryption-set : Disk Encryption Set resource.\n",
      "    dla                 : Manage Data Lake Analytics accounts, jobs, and catalogs.\n",
      "    dls                 : Manage Data Lake Store accounts and filesystems.\n",
      "    dms                 : Manage Azure Data Migration Service (classic) instances.\n",
      "    eventgrid           : Manage Azure Event Grid topics, domains, domain topics, system topics\n",
      "                         partner topics, event subscriptions, system topic event subscriptions and\n",
      "                         partner topic event subscriptions.\n",
      "    eventhubs           : Eventhubs.\n",
      "    extension           : Manage and update CLI extensions.\n",
      "    feature             : Manage resource provider features.\n",
      "    feedback            : Send feedback to the Azure CLI Team.\n",
      "    find                : I'm an AI robot, my advice is based on our Azure documentation as well as\n",
      "                         the usage patterns of Azure CLI and Azure ARM users. Using me improves\n",
      "                         Azure products and documentation.\n",
      "    functionapp         : Manage function apps. To install the Azure Functions Core tools see\n",
      "                         https://github.com/Azure/azure-functions-core-tools.\n",
      "    group               : Manage resource groups and template deployments.\n",
      "    hdinsight           : Manage HDInsight resources.\n",
      "    identity            : Managed Identities.\n",
      "    image               : Manage custom virtual machine images.\n",
      "    interactive         : Start interactive mode. Installs the Interactive extension if not\n",
      "                         installed already.\n",
      "    iot                 : Manage Internet of Things (IoT) assets.\n",
      "    keyvault            : Manage KeyVault keys, secrets, and certificates.\n",
      "    kusto               : Manage Azure Kusto resources.\n",
      "    lab                 : Manage Azure DevTest Labs.\n",
      "    lock                : Manage Azure locks.\n",
      "    logicapp            : Manage logic apps.\n",
      "    login               : Log in to Azure.\n",
      "    logout              : Log out to remove access to Azure subscriptions.\n",
      "    managed-cassandra   : Azure Managed Cassandra.\n",
      "    managedapp          : Manage template solutions provided and maintained by Independent Software\n",
      "                         Vendors (ISVs).\n",
      "    managedservices     : Manage the registration assignments and definitions in Azure.\n",
      "    maps                : Manage Azure Maps.\n",
      "    mariadb             : Manage Azure Database for MariaDB servers.\n",
      "    monitor             : Manage the Azure Monitor Service.\n",
      "    mysql               : Manage Azure Database for MySQL servers.\n",
      "    netappfiles         : Manage Azure NetApp Files (ANF) Resources.\n",
      "    network             : Manage Azure Network resources.\n",
      "    policy              : Manage resource policies.\n",
      "    postgres            : Manage Azure Database for PostgreSQL servers.\n",
      "    ppg                 : Manage Proximity Placement Groups.\n",
      "    private-link        : Private-link association CLI command group.\n",
      "    provider            : Manage resource providers.\n",
      "    redis               : Manage dedicated Redis caches for your Azure applications.\n",
      "    relay               : Manage Azure Relay Service namespaces, WCF relays, hybrid connections, and\n",
      "                         rules.\n",
      "    resource            : Manage Azure resources.\n",
      "    resourcemanagement  : Resourcemanagement CLI command group.\n",
      "    rest                : Invoke a custom request.\n",
      "    restore-point       : Manage restore point with res.\n",
      "    role                : Manage Azure role-based access control (Azure RBAC).\n",
      "    search              : Manage Azure Search services, admin keys and query keys.\n",
      "    security            : Manage your security posture with Microsoft Defender for Cloud.\n",
      "    servicebus          : Servicebus.\n",
      "    sf                  : Manage and administer Azure Service Fabric clusters.\n",
      "    sig                 : Manage shared image gallery.\n",
      "    signalr             : Manage Azure SignalR Service.\n",
      "    snapshot            : Manage point-in-time copies of managed disks, native blobs, or other\n",
      "                         snapshots.\n",
      "    sql                 : Manage Azure SQL Databases and Data Warehouses.\n",
      "    sshkey              : Manage ssh public key with vm.\n",
      "    stack               : A deployment stack is a native Azure resource type that enables you to\n",
      "                         perform operations on a resource collection as an atomic unit.\n",
      "    staticwebapp        : Manage static apps.\n",
      "    storage             : Manage Azure Cloud Storage resources.\n",
      "    survey              : Take Azure CLI survey.\n",
      "    synapse             : Manage and operate Synapse Workspace, Spark Pool, SQL Pool.\n",
      "    tag                 : Tag Management on a resource.\n",
      "    term                : Manage marketplace agreement with marketplaceordering.\n",
      "    ts                  : Manage template specs at subscription or resource group scope.\n",
      "    upgrade             : Upgrade Azure CLI and extensions.\n",
      "    version             : Show the versions of Azure CLI modules and extensions in JSON format by\n",
      "                         default or format configured by --output.\n",
      "    vm                  : Manage Linux or Windows virtual machines.\n",
      "    vmss                : Manage groupings of virtual machines in an Azure Virtual Machine Scale Set\n",
      "                         (VMSS).\n",
      "    webapp              : Manage web apps.\n"
     ]
    }
   ],
   "source": [
    "!az"
   ]
  },
  {
   "cell_type": "markdown",
   "metadata": {},
   "source": [
    "Hemos instalado bien el CLI de Azure ML"
   ]
  },
  {
   "cell_type": "markdown",
   "metadata": {},
   "source": [
    "### Intalar librerías necesarias para el SDK de Azure ML para Python"
   ]
  },
  {
   "cell_type": "markdown",
   "metadata": {},
   "source": [
    "Antes de instalar las librerías de Python creo un entorno de conda para tener todo bien organizado\n",
    "\n",
    "```bash\n",
    "conda create --name azure_ml python=3.11\n",
    "```"
   ]
  },
  {
   "cell_type": "markdown",
   "metadata": {},
   "source": [
    "Activo el entorno\n",
    "\n",
    "```bash\n",
    "conda activate azure_ml\n",
    "```"
   ]
  },
  {
   "cell_type": "markdown",
   "metadata": {},
   "source": [
    "Y ahora instalo las librerías necesarias para trabajar con el SDK de Azure ML para Python\n",
    "\n",
    "```bash\n",
    "pip install azure-ai-ml\n",
    "pip install azure-identity\n",
    "```"
   ]
  },
  {
   "cell_type": "markdown",
   "metadata": {},
   "source": [
    "## Loguearse a Azure ML"
   ]
  },
  {
   "cell_type": "markdown",
   "metadata": {},
   "source": [
    "Como las acciones que vamos a hacer por CLI o a través del SDK de Python necesitan una autentificación, primero vamos a loguearnos en Azure ML"
   ]
  },
  {
   "cell_type": "markdown",
   "metadata": {},
   "source": [
    "### Login en Azure ML con el CLI de Azure ML"
   ]
  },
  {
   "cell_type": "markdown",
   "metadata": {},
   "source": [
    "Para logearnos en Azure hacemos"
   ]
  },
  {
   "cell_type": "code",
   "execution_count": null,
   "metadata": {},
   "outputs": [],
   "source": [
    "!az login"
   ]
  },
  {
   "cell_type": "markdown",
   "metadata": {},
   "source": [
    "Se nos abrirá el navegador para logearnos"
   ]
  },
  {
   "cell_type": "markdown",
   "metadata": {},
   "source": [
    "### Crear un cliente de Azure ML con el SDK de Python"
   ]
  },
  {
   "cell_type": "markdown",
   "metadata": {},
   "source": [
    "Primero creamos dos variables con la ID de la suscripción y el grupo de recursos, como estos son datos personales, no los voy a poner aquí. Lo que voy a hacer es incluirlos en un archivo `.env` que no voy a subir a GitHub\n",
    "\n",
    "```bash\n",
    "AZURE_SUSCRIPION_ID=\"xxxxx-xxxx-xxxx-xxxx-xxxxx\"\n",
    "AZURE_ML_RESOURCE_GRPU_ID=\"xxxxx-xxxx-xxxx-xxxx-xxxxx\"\n",
    "```"
   ]
  },
  {
   "cell_type": "markdown",
   "metadata": {},
   "source": [
    "Ahora para leerlos primero necesitasos tener instalado `dotenv` que lo hacemos mediante `pip install python-dotenv`"
   ]
  },
  {
   "cell_type": "code",
   "execution_count": 1,
   "metadata": {},
   "outputs": [],
   "source": [
    "import os\n",
    "import dotenv\n",
    "\n",
    "dotenv.load_dotenv()\n",
    "\n",
    "AZURE_SUSCRIPION_ID = os.getenv(\"AZURE_SUSCRIPION_ID\")\n",
    "AZURE_ML_RESOURCE_GRPU_ID = os.getenv(\"AZURE_ML_RESOURCE_GRPU_ID\")\n"
   ]
  },
  {
   "cell_type": "markdown",
   "metadata": {},
   "source": [
    "Ahora que tenemos estas variables creamos un cliente"
   ]
  },
  {
   "cell_type": "code",
   "execution_count": 2,
   "metadata": {},
   "outputs": [],
   "source": [
    "from azure.ai.ml import MLClient\n",
    "from azure.identity import DefaultAzureCredential\n",
    "\n",
    "ml_client = MLClient(DefaultAzureCredential(), AZURE_SUSCRIPION_ID, AZURE_ML_RESOURCE_GRPU_ID)"
   ]
  },
  {
   "cell_type": "markdown",
   "metadata": {},
   "source": [
    "## Crear un `Workspace` de Azure ML"
   ]
  },
  {
   "cell_type": "markdown",
   "metadata": {},
   "source": [
    "Ahora tenemos que crear un `Workspace` de Azure ML para poder trabajar con Azure ML. Como antes se puede usar la interfaz gŕafica de Azure ML, el CLI de Azure ML o el SDK de Azure ML para Python."
   ]
  },
  {
   "cell_type": "markdown",
   "metadata": {},
   "source": [
    "### Crear un `Workspace` de Azure ML con la interfaz gráfica de Azure ML"
   ]
  },
  {
   "cell_type": "markdown",
   "metadata": {},
   "source": [
    "En Azure ML Studio debería haber un botón de `Create workspace`, así que le damos y se nos abrirá una modal en la que tenemos que poner\n",
    " * `Name`, un nombre único dentro del grupo de recursos, en mis caso he puesto `azure-ml-workspace-GUI`\n",
    " * `Friendly name`, un nombre amigable para el `Workspace`, en mi caso he puesto `Azure ML Workspace GUI`\n",
    " * En `Hub` no ponemos nada porque no lo vamos a compartir en ningún hub\n",
    " * En `Subscription` elegimos la suscripción que hemos creado, si es que la has creado, y si no la que tengas\n",
    " * En `Resource group` elegimos el grupo de recursos que hemos creado, en mi caso he puesto `rg-azure-ml`\n",
    " * En `Region` elegimos la región que más nos convenga, en mi caso he elegido `France Central`. Pero lo ideal es que sea la misma región que el grupo de recursos\n",
    " * Por último le damos al botón de `Create` y esperamos a que se cree el `Workspace`"
   ]
  },
  {
   "cell_type": "markdown",
   "metadata": {},
   "source": [
    "### Crear un `Workspace` de Azure ML con el CLI de Azure ML"
   ]
  },
  {
   "cell_type": "markdown",
   "metadata": {},
   "source": [
    "Ahora usamos la linea de comandos para crear otro recurso"
   ]
  },
  {
   "cell_type": "markdown",
   "metadata": {},
   "source": [
    "Ahora podemos crear un nuevo `Workspace` de Azure ML. En mi caso el `Resource group` será `rg-azure-ml`, el `Location` será `France Central` y el `Workspace` será `azure-ml-workspace-CLI`\n",
    "\n",
    "```bash\n",
    "GROUP='rg-azure-ml'\n",
    "LOCATION='francecentral'\n",
    "WORKSPACE='azure-ml-workspace-CLI'\n",
    "\n",
    "az ml workspace create -n $WORKSPACE -g $GROUP -l $LOCATION\n",
    "```"
   ]
  },
  {
   "cell_type": "markdown",
   "metadata": {},
   "source": [
    "Como no sabemos cómo se tiene que escribir exactamente `France Central` en el CLI, lo buscamos"
   ]
  },
  {
   "cell_type": "code",
   "execution_count": 3,
   "metadata": {},
   "outputs": [
    {
     "name": "stdout",
     "output_type": "stream",
     "text": [
      "          \"name\": \"francesouth\"\n",
      "    \"name\": \"francecentral\",\n",
      "    \"name\": \"france\",\n",
      "          \"name\": \"francecentral\"\n",
      "    \"name\": \"francesouth\",\n"
     ]
    }
   ],
   "source": [
    "!az account list-locations | grep \"name\" | grep france"
   ]
  },
  {
   "cell_type": "markdown",
   "metadata": {},
   "source": [
    "Es `francecentral`, así que creamos el `Workspace`"
   ]
  },
  {
   "cell_type": "code",
   "execution_count": 4,
   "metadata": {},
   "outputs": [
    {
     "name": "stdout",
     "output_type": "stream",
     "text": [
      "The deployment request azure-ml-workspace-CLI-226067 was accepted. ARM deployment URI for reference: \n",
      "https://portal.azure.com//#blade/HubsExtension/DeploymentDetailsBlade/overview/id/%2Fsubscriptions%2Fc1ffdd1c-ecfc-4119-bf19-e207f9a4bcaf%2FresourceGroups%2Frg-azure-ml%2Fproviders%2FMicrosoft.Resources%2Fdeployments%2Fazure-ml-workspace-CLI-226067\n",
      "Creating Storage Account: (azuremlwstorageb7a3ba595  ) ...  Done (25s)\n",
      "Creating Key Vault: (azuremlwkeyvault73f23be7  )  Done (20s)\n",
      "Creating Log Analytics Workspace: (azuremlwlogalyti541a12e1  )  Done (17s)\n",
      "Creating AzureML Workspace: (azure-ml-workspace-CLI  ) ....  Done (33s)\n",
      "Creating Application Insights: (azuremlwinsightsfc90b676  )  Done (19s)\n",
      "Total time : 1m 0s\n",
      "\n",
      "\u001b[K{\\ Finished ..\n",
      "  \"allow_roleassignment_on_rg\": true,\n",
      "  \"application_insights\": \"/subscriptions/c1ffdd1c-ecfc-4119-bf19-e207f9a4bcaf/resourceGroups/rg-azure-ml/providers/Microsoft.insights/components/azuremlwinsightsfc90b676\",\n",
      "  \"description\": \"azure-ml-workspace-CLI\",\n",
      "  \"discovery_url\": \"https://francecentral.api.azureml.ms/discovery\",\n",
      "  \"display_name\": \"azure-ml-workspace-CLI\",\n",
      "  \"enable_data_isolation\": false,\n",
      "  \"hbi_workspace\": false,\n",
      "  \"id\": \"/subscriptions/c1ffdd1c-ecfc-4119-bf19-e207f9a4bcaf/resourceGroups/rg-azure-ml/providers/Microsoft.MachineLearningServices/workspaces/azure-ml-workspace-CLI\",\n",
      "  \"identity\": {\n",
      "    \"principal_id\": \"72a305f3-e3d5-43d4-97b6-a6755791093b\",\n",
      "    \"tenant_id\": \"e159768e-d60d-4421-a2e8-9104ec69ce18\",\n",
      "    \"type\": \"system_assigned\"\n",
      "  },\n",
      "  \"key_vault\": \"/subscriptions/c1ffdd1c-ecfc-4119-bf19-e207f9a4bcaf/resourceGroups/rg-azure-ml/providers/Microsoft.Keyvault/vaults/azuremlwkeyvault73f23be7\",\n",
      "  \"location\": \"francecentral\",\n",
      "  \"managed_network\": {\n",
      "    \"isolation_mode\": \"disabled\",\n",
      "    \"outbound_rules\": []\n",
      "  },\n",
      "  \"mlflow_tracking_uri\": \"azureml://francecentral.api.azureml.ms/mlflow/v1.0/subscriptions/c1ffdd1c-ecfc-4119-bf19-e207f9a4bcaf/resourceGroups/rg-azure-ml/providers/Microsoft.MachineLearningServices/workspaces/azure-ml-workspace-CLI\",\n",
      "  \"name\": \"azure-ml-workspace-CLI\",\n",
      "  \"public_network_access\": \"Enabled\",\n",
      "  \"resourceGroup\": \"rg-azure-ml\",\n",
      "  \"resource_group\": \"rg-azure-ml\",\n",
      "  \"serverless_compute\": {\n",
      "    \"no_public_ip\": false\n",
      "  },\n",
      "  \"storage_account\": \"/subscriptions/c1ffdd1c-ecfc-4119-bf19-e207f9a4bcaf/resourceGroups/rg-azure-ml/providers/Microsoft.Storage/storageAccounts/azuremlwstorageb7a3ba595\",\n",
      "  \"system_datastores_auth_mode\": \"accesskey\",\n",
      "  \"tags\": {\n",
      "    \"createdByToolkit\": \"cli-v2-1.20.0\"\n",
      "  }\n",
      "}\n",
      "\u001b[0m"
     ]
    }
   ],
   "source": [
    "!GROUP='rg-azure-ml' && \\\n",
    "LOCATION='francecentral' && \\\n",
    "WORKSPACE='azure-ml-workspace-CLI' && \\\n",
    "az ml workspace create -n $WORKSPACE -g $GROUP -l $LOCATION"
   ]
  },
  {
   "cell_type": "markdown",
   "metadata": {},
   "source": [
    "### Crear un `Workspace` de Azure ML con Python"
   ]
  },
  {
   "cell_type": "markdown",
   "metadata": {},
   "source": [
    "Para crear un `Workspace` con el SDK de Python usamos la clase [azure.ai.ml.entities.workspace](azure.ai.ml.entities.workspace)"
   ]
  },
  {
   "cell_type": "code",
   "execution_count": 4,
   "metadata": {},
   "outputs": [
    {
     "name": "stderr",
     "output_type": "stream",
     "text": [
      "The deployment request azure-ml-workspace-Python-SDK-3484363 was accepted. ARM deployment URI for reference: \n",
      "https://portal.azure.com//#blade/HubsExtension/DeploymentDetailsBlade/overview/id/%2Fsubscriptions%2Fc1ffdd1c-ecfc-4119-bf19-e207f9a4bcaf%2FresourceGroups%2Frg-azure-ml%2Fproviders%2FMicrosoft.Resources%2Fdeployments%2Fazure-ml-workspace-Python-SDK-3484363\n"
     ]
    }
   ],
   "source": [
    "from azure.ai.ml.entities import Workspace\n",
    "\n",
    "workspace_name = \"azure-ml-workspace-Python-SDK\"\n",
    "friendly_name = \"Azure ML Workspace Python SDK\"\n",
    "description = \"This example shows how to create a workspace using the Python API\"\n",
    "location = \"francecentral\"\n",
    "tags=dict(purpose=\"Azure-ml-post\", environment=\"dev\"),\n",
    "high_business_impact = False\n",
    "\n",
    "python_workspace = Workspace(\n",
    "    name=workspace_name,\n",
    "    description=description,\n",
    "    tags=tags,\n",
    "    display_name=friendly_name,\n",
    "    location=location,\n",
    "    resource_group=AZURE_ML_RESOURCE_GRPU_ID,\n",
    "    hbi_workspace=high_business_impact,\n",
    ")\n",
    "\n",
    "python_workspace = ml_client.workspaces.begin_create(python_workspace)"
   ]
  },
  {
   "cell_type": "markdown",
   "metadata": {},
   "source": [
    "Comprobamos que se ha creado bien el `Workspace`"
   ]
  },
  {
   "cell_type": "code",
   "execution_count": 5,
   "metadata": {},
   "outputs": [
    {
     "name": "stderr",
     "output_type": "stream",
     "text": [
      "Creating AzureML Workspace: (azure-ml-workspace-Python-SDK  ) ..  Done (34s)\n",
      "Creating Application Insights: (azuremlwinsights46915e17  )  Done (18s)\n",
      "Creating Key Vault: (azuremlwkeyvault1c2fc7b1  )  Done (19s)\n",
      "Creating Storage Account: (azuremlwstorage261c5fca7  )  Done (20s)\n",
      "Creating Log Analytics Workspace: (azuremlwlogalytic1c3ae5e  )  Done (16s)\n",
      "Total time : 58s\n",
      "\n"
     ]
    },
    {
     "data": {
      "text/plain": [
       "Workspace({'kind': 'default', 'print_as_yaml': False, 'discovery_url': 'https://francecentral.api.azureml.ms/discovery', 'mlflow_tracking_uri': 'azureml://francecentral.api.azureml.ms/mlflow/v1.0/subscriptions/c1ffdd1c-ecfc-4119-bf19-e207f9a4bcaf/resourceGroups/rg-azure-ml/providers/Microsoft.MachineLearningServices/workspaces/azure-ml-workspace-Python-SDK', 'workspace_id': 'ddd8f284-8a7a-4809-8b63-afc77bdab056', 'feature_store_settings': None, 'name': 'azure-ml-workspace-Python-SDK', 'description': 'This example shows how to create a workspace using the Python API', 'tags': {'purpose': 'environment', 'createdByToolkit': 'sdk-v2-1.20.0'}, 'properties': {}, 'id': '/subscriptions/c1ffdd1c-ecfc-4119-bf19-e207f9a4bcaf/resourceGroups/rg-azure-ml/providers/Microsoft.MachineLearningServices/workspaces/azure-ml-workspace-Python-SDK', 'Resource__source_path': '', 'base_path': '/home/maximofernandez/Documents/web/portafolio/posts', 'creation_context': None, 'serialize': <msrest.serialization.Serializer object at 0x75aa7c50d2d0>, 'display_name': 'Azure ML Workspace Python SDK', 'location': 'francecentral', 'resource_group': 'rg-azure-ml', 'hbi_workspace': False, 'storage_account': '/subscriptions/c1ffdd1c-ecfc-4119-bf19-e207f9a4bcaf/resourceGroups/rg-azure-ml/providers/Microsoft.Storage/storageAccounts/azuremlwstorage261c5fca7', 'container_registry': None, 'key_vault': '/subscriptions/c1ffdd1c-ecfc-4119-bf19-e207f9a4bcaf/resourceGroups/rg-azure-ml/providers/Microsoft.Keyvault/vaults/azuremlwkeyvault1c2fc7b1', 'application_insights': '/subscriptions/c1ffdd1c-ecfc-4119-bf19-e207f9a4bcaf/resourceGroups/rg-azure-ml/providers/Microsoft.insights/components/azuremlwinsights46915e17', 'customer_managed_key': None, 'image_build_compute': None, 'public_network_access': 'Enabled', 'identity': <azure.ai.ml.entities._credentials.IdentityConfiguration object at 0x75aa7c431910>, 'primary_user_assigned_identity': None, 'managed_network': <azure.ai.ml.entities._workspace.networking.ManagedNetwork object at 0x75aa91d6c290>, 'system_datastores_auth_mode': 'accesskey', 'enable_data_isolation': False, 'allow_roleassignment_on_rg': True, 'Workspace__hub_id': None, 'serverless_compute': <azure.ai.ml.entities._workspace.serverless_compute.ServerlessComputeSettings object at 0x75aa7c96dd90>})"
      ]
     },
     "execution_count": 5,
     "metadata": {},
     "output_type": "execute_result"
    }
   ],
   "source": [
    "python_workspace.result()"
   ]
  },
  {
   "cell_type": "markdown",
   "metadata": {},
   "source": [
    "## Conectarse a un `Workspace` de Azure ML"
   ]
  },
  {
   "cell_type": "markdown",
   "metadata": {},
   "source": [
    "Solamente vamos a crear el `Workspace` una vez, el resto de veces solo hace falta conectarnos a uno ya creado. Así que vamos a ver cómo hacerlo"
   ]
  },
  {
   "cell_type": "markdown",
   "metadata": {},
   "source": [
    "### Conectarse a un `Workspace` de Azure ML con la interfaz gráfica de Azure ML"
   ]
  },
  {
   "cell_type": "markdown",
   "metadata": {},
   "source": [
    "Simplemente abrirmos ML Studio y entramos en el `Workspace` que queramos"
   ]
  },
  {
   "cell_type": "markdown",
   "metadata": {},
   "source": [
    "### Conectarse a un `Workspace` de Azure ML con el CLI de Azure ML"
   ]
  },
  {
   "cell_type": "markdown",
   "metadata": {},
   "source": [
    "Hacemos lo mismo que hicimos para logearnos"
   ]
  },
  {
   "cell_type": "code",
   "execution_count": null,
   "metadata": {},
   "outputs": [],
   "source": [
    "!az login"
   ]
  },
  {
   "cell_type": "markdown",
   "metadata": {},
   "source": [
    "Se nos abrirá el navegador para logearnos"
   ]
  },
  {
   "cell_type": "markdown",
   "metadata": {},
   "source": [
    "### Conectarse un `Workspace` de Azure ML con Python"
   ]
  },
  {
   "cell_type": "markdown",
   "metadata": {},
   "source": [
    "Para conectarse a un `Workspace` de Azure ML con el SDK de Python volvemos a crear un cliente, pero asociado al `Workspace` que queramos"
   ]
  },
  {
   "cell_type": "code",
   "execution_count": 3,
   "metadata": {},
   "outputs": [],
   "source": [
    "from azure.ai.ml import MLClient\n",
    "from azure.identity import DefaultAzureCredential\n",
    "\n",
    "workspace_name = \"azure-ml-workspace-Python-SDK\"\n",
    "\n",
    "ml_client = MLClient(DefaultAzureCredential(), AZURE_SUSCRIPION_ID, AZURE_ML_RESOURCE_GRPU_ID, workspace_name)"
   ]
  },
  {
   "cell_type": "markdown",
   "metadata": {},
   "source": [
    "## Ciclo de vida del machine learning"
   ]
  },
  {
   "cell_type": "markdown",
   "metadata": {},
   "source": [
    "En la siguiente imagen podemos ver el ciclo de vida de un desarrollo en Azure ML\n",
    "\n",
    "![Ciclo de vida de un desarrollo en Azure ML](https://pub-fb664c455eca46a2ba762a065ac900f7.r2.dev/azure-compute-targets.webp)\n",
    "\n",
    "Se puede ver hay una primera etapa de experimentación de Jupyter notebooks, luego una etapa de entrenamiento del modelo en un script, después una etapa de entrenamiento en paralelo en varios sccripts, para probar diferenctes hiperparámetros y por último el despliegue del modelo en producción. De modo que vamos a ir viendo cada una de esas etapas"
   ]
  },
  {
   "cell_type": "markdown",
   "metadata": {},
   "source": [
    "## `Compute instance` de Azure ML"
   ]
  },
  {
   "cell_type": "markdown",
   "metadata": {},
   "source": [
    "### Crear un `Compute instance` de Azure ML"
   ]
  },
  {
   "cell_type": "markdown",
   "metadata": {},
   "source": [
    "Para poder experimentar en Jupyter notebooks necesitamos crear una `Compute instance`. Así que igual que antes vamos a verlo mediante la interfaz gráfica, la CLI y la API de Python."
   ]
  },
  {
   "cell_type": "markdown",
   "metadata": {},
   "source": [
    "#### Crear un `Compute instance` desde la interfaz gráfica"
   ]
  },
  {
   "cell_type": "markdown",
   "metadata": {},
   "source": [
    "En `Azure ML studio` deberíamos tener el `Workspace` `Azure ML Workspace GUI`, así que entramos en él y pinchamos en el botón `New` y seleccionamos `Compute instance`\n",
    " * Le ponemos un nombre, en mi caso le pondré `compute-instance-GUI`\n",
    " * Seleccionamos el tipo de máquina, si `CPU` o `GPU`, en mi caso selecciono `GPU` para poder entrenar modelos\n",
    " * Seleccionamos el tipo de `GPU` que queremos, espero que cuando leas esto los filtros sean mejores y puedas filtrar por `VRAM`, pero cuando lo estoy escribiendo no está ese filtro básico. En mi caso, como no voy a hacer entrenamientos muy grandes elijo la `Standard_NC4as_T4_v3` que tiene una `Tesla T4` con `16GB` de `VRAM`\n",
    " * Pulsamos `Next` y en la siguiente pantalla dejamos la configuración de autoapagado después de 60 minutos de inactividad, por si acaso\n",
    " * El resto de opciones las dejamos como están y creamos la instancia, tardará unos minutos"
   ]
  },
  {
   "cell_type": "markdown",
   "metadata": {},
   "source": [
    "Cuando se crea hay una zona llamada `Applications` donde podemos elegir si ejecutar la instancia en `JupyterLab`, `Jupyter`, `vscode` en la web o `vscode` en local."
   ]
  },
  {
   "cell_type": "markdown",
   "metadata": {},
   "source": [
    "Por otro lado, cuando se crea la instancia, se crea encendida, así que entramos y la apagamos para que no genere costes. Cuando entras en la instancia hay un botón q`Stop` para apagarla"
   ]
  },
  {
   "cell_type": "markdown",
   "metadata": {},
   "source": [
    "#### Crear un `Compute instance` con el CLI de Azure ML"
   ]
  },
  {
   "cell_type": "markdown",
   "metadata": {},
   "source": [
    "Creamos la `Compute instance` con el siguiente comando"
   ]
  },
  {
   "cell_type": "code",
   "execution_count": 27,
   "metadata": {},
   "outputs": [
    {
     "name": "stdout",
     "output_type": "stream",
     "text": [
      "\u001b[K{- Finished ..\n",
      "  \"created_on\": \"2024-10-15T08:51:45.785449+0000\",\n",
      "  \"enable_node_public_ip\": true,\n",
      "  \"enable_os_patching\": false,\n",
      "  \"enable_root_access\": true,\n",
      "  \"enable_sso\": true,\n",
      "  \"id\": \"/subscriptions/c1ffdd1c-ecfc-4119-bf19-e207f9a4bcaf/resourceGroups/rg-azure-ml/providers/Microsoft.MachineLearningServices/workspaces/azure-ml-workspace-CLI/computes/compute-instance-CLI\",\n",
      "  \"last_operation\": {\n",
      "    \"operation_name\": \"Create\",\n",
      "    \"operation_status\": \"Succeeded\",\n",
      "    \"operation_time\": \"2024-10-15T08:51:54.183Z\",\n",
      "    \"operation_trigger\": \"User\"\n",
      "  },\n",
      "  \"location\": \"francecentral\",\n",
      "  \"name\": \"compute-instance-CLI\",\n",
      "  \"network_settings\": {\n",
      "    \"private_ip_address\": \"10.0.0.4\",\n",
      "    \"public_ip_address\": \"4.233.64.249\"\n",
      "  },\n",
      "  \"os_image_metadata\": {\n",
      "    \"current_image_version\": \"24.09.23\",\n",
      "    \"is_latest_os_image_version\": true,\n",
      "    \"latest_image_version\": \"24.09.23\"\n",
      "  },\n",
      "  \"provisioning_state\": \"Succeeded\",\n",
      "  \"release_quota_on_stop\": false,\n",
      "  \"resourceGroup\": \"rg-azure-ml\",\n",
      "  \"services\": [\n",
      "    {\n",
      "      \"display_name\": \"Jupyter\",\n",
      "      \"endpoint_uri\": \"https://compute-instance-cli.francecentral.instances.azureml.ms/tree/\"\n",
      "    },\n",
      "    {\n",
      "      \"display_name\": \"Jupyter Lab\",\n",
      "      \"endpoint_uri\": \"https://compute-instance-cli.francecentral.instances.azureml.ms/lab\"\n",
      "    }\n",
      "  ],\n",
      "  \"size\": \"STANDARD_E4DS_V4\",\n",
      "  \"ssh_public_access_enabled\": false,\n",
      "  \"ssh_settings\": {\n",
      "    \"admin_username\": \"azureuser\",\n",
      "    \"ssh_port\": \"50000\"\n",
      "  },\n",
      "  \"state\": \"Running\",\n",
      "  \"type\": \"computeinstance\"\n",
      "}\n",
      "\u001b[0m"
     ]
    }
   ],
   "source": [
    "!GROUP='rg-azure-ml' && \\\n",
    "LOCATION='francecentral' && \\\n",
    "WORKSPACE='azure-ml-workspace-CLI' && \\\n",
    "NAME=\"compute-instance-CLI\" && \\\n",
    "SIZE=\"STANDARD_E4DS_V4\" && \\\n",
    "TYPE=\"computeinstance\" && \\\n",
    "az ml compute create --name $NAME --size $SIZE --type $TYPE --workspace-name $WORKSPACE --resource-group $GROUP"
   ]
  },
  {
   "cell_type": "markdown",
   "metadata": {},
   "source": [
    "#### Crear un `Compute instance` con el SDK de Python"
   ]
  },
  {
   "cell_type": "markdown",
   "metadata": {},
   "source": [
    "Creamos la `Compute instance` con el siguiente código. Lo llamo `compute-instance-Python` y no `compute-instance-Python-SDK` porque el nombre tienen que tener 24 caracteres como máximo. Además, este `Compute instance` lo voy a crear con una GPU `Standard_NC8as_T4_v3` porque no me deja crear más `Compute instance`s con la GPU que he elegido antes en la misma suscripción"
   ]
  },
  {
   "cell_type": "code",
   "execution_count": 21,
   "metadata": {},
   "outputs": [],
   "source": [
    "from azure.ai.ml.entities import ComputeInstance, AmlCompute\n",
    "\n",
    "compute_instance_name = \"compute-instance-Python\"\n",
    "size = \"STANDARD_E4DS_V4\"\n",
    "time_before_shutdown_minutes = \"30\"\n",
    "\n",
    "compute_instance = ComputeInstance(name=compute_instance_name, size=size, idle_time_before_shutdown_minutes=time_before_shutdown_minutes)\n",
    "\n",
    "result = ml_client.begin_create_or_update(compute_instance).result()"
   ]
  },
  {
   "cell_type": "code",
   "execution_count": 22,
   "metadata": {},
   "outputs": [
    {
     "data": {
      "text/plain": [
       "ComputeInstance({'state': 'Running', 'last_operation': {'operation_name': 'Create', 'operation_time': '2024-10-15T08:36:44.038Z', 'operation_status': 'Succeeded', 'operation_trigger': 'User'}, 'os_image_metadata': <azure.ai.ml.entities._compute._image_metadata.ImageMetadata object at 0x77963d78c510>, 'services': [{'display_name': 'Jupyter', 'endpoint_uri': 'https://compute-instance-python.francecentral.instances.azureml.ms/tree/'}, {'display_name': 'Jupyter Lab', 'endpoint_uri': 'https://compute-instance-python.francecentral.instances.azureml.ms/lab'}], 'type': 'computeinstance', 'created_on': '2024-10-15T08:36:35.730569+0000', 'provisioning_state': 'Succeeded', 'provisioning_errors': None, 'name': 'compute-instance-Python', 'description': None, 'tags': None, 'properties': {}, 'print_as_yaml': False, 'id': '/subscriptions/c1ffdd1c-ecfc-4119-bf19-e207f9a4bcaf/resourceGroups/rg-azure-ml/providers/Microsoft.MachineLearningServices/workspaces/azure-ml-workspace-Python-SDK/computes/compute-instance-Python', 'Resource__source_path': '', 'base_path': '/home/maximofernandez/Documents/web/portafolio/posts', 'creation_context': None, 'serialize': <msrest.serialization.Serializer object at 0x77963d76f550>, 'resource_id': None, 'location': 'francecentral', 'size': 'STANDARD_E4DS_V4', 'ssh_public_access_enabled': False, 'create_on_behalf_of': None, 'network_settings': <azure.ai.ml.entities._compute.compute.NetworkSettings object at 0x77963d78d310>, 'ssh_settings': <azure.ai.ml.entities._compute.compute_instance.ComputeInstanceSshSettings object at 0x77963d78c9d0>, 'schedules': None, 'identity': None, 'idle_time_before_shutdown': 'PT30M', 'idle_time_before_shutdown_minutes': 30, 'setup_scripts': None, 'enable_node_public_ip': True, 'enable_sso': True, 'enable_root_access': True, 'release_quota_on_stop': False, 'enable_os_patching': False, 'custom_applications': None, 'subnet': None})"
      ]
     },
     "execution_count": 22,
     "metadata": {},
     "output_type": "execute_result"
    }
   ],
   "source": [
    "result"
   ]
  },
  {
   "cell_type": "markdown",
   "metadata": {},
   "source": [
    "### Administrar un `Compute instance` de Azure ML"
   ]
  },
  {
   "cell_type": "markdown",
   "metadata": {},
   "source": [
    "#### Administrar un `Compute instance` desde la interfaz gráfica"
   ]
  },
  {
   "cell_type": "markdown",
   "metadata": {},
   "source": [
    "Entramos en la sección `Compute` del `Workspace` y pinchamos en la `Compute instance` que queramos administrar y a través de la interfaz gráfica podemos hacer lo que queramos"
   ]
  },
  {
   "cell_type": "markdown",
   "metadata": {},
   "source": [
    "#### Administrar un `Compute instance` con el CLI de Azure ML"
   ]
  },
  {
   "cell_type": "markdown",
   "metadata": {},
   "source": [
    "Podemos realizar varias operaciones básicas en la `COmpute instance` con el CLI de Azure ML"
   ]
  },
  {
   "cell_type": "markdown",
   "metadata": {},
   "source": [
    "##### Parar un `Compute instance` con el CLI de Azure ML"
   ]
  },
  {
   "cell_type": "code",
   "execution_count": 29,
   "metadata": {},
   "outputs": [
    {
     "name": "stdout",
     "output_type": "stream",
     "text": [
      "\u001b[K\u001b[0minished .."
     ]
    }
   ],
   "source": [
    "!GROUP='rg-azure-ml' && \\\n",
    "WORKSPACE='azure-ml-workspace-CLI' && \\\n",
    "NAME=\"compute-instance-CLI\" && \\\n",
    "az ml compute stop --name $NAME --workspace-name $WORKSPACE --resource-group $GROUP"
   ]
  },
  {
   "cell_type": "markdown",
   "metadata": {},
   "source": [
    "##### Iniciar un `Compute instance` con el CLI de Azure ML"
   ]
  },
  {
   "cell_type": "code",
   "execution_count": 19,
   "metadata": {},
   "outputs": [
    {
     "name": "stdout",
     "output_type": "stream",
     "text": [
      "\u001b[K / Finished ..\u001b[0m"
     ]
    }
   ],
   "source": [
    "!GROUP='rg-azure-ml' && \\\n",
    "WORKSPACE='azure-ml-workspace-CLI' && \\\n",
    "NAME=\"compute-instance-CLI\" && \\\n",
    "az ml compute start --name $NAME --workspace-name $WORKSPACE --resource-group $GROUP"
   ]
  },
  {
   "cell_type": "markdown",
   "metadata": {},
   "source": [
    "##### Reiniciar un `Compute instance` con el CLI de Azure ML"
   ]
  },
  {
   "cell_type": "code",
   "execution_count": 16,
   "metadata": {},
   "outputs": [
    {
     "name": "stdout",
     "output_type": "stream",
     "text": [
      "\u001b[K / Finished ..\u001b[0m"
     ]
    }
   ],
   "source": [
    "!GROUP='rg-azure-ml' && \\\n",
    "WORKSPACE='azure-ml-workspace-CLI' && \\\n",
    "NAME=\"compute-instance-CLI\" && \\\n",
    "az ml compute restart --name $NAME --workspace-name $WORKSPACE --resource-group $GROUP"
   ]
  },
  {
   "cell_type": "markdown",
   "metadata": {},
   "source": [
    "##### Eliminar un `Compute instance` con el CLI de Azure ML"
   ]
  },
  {
   "cell_type": "code",
   "execution_count": 17,
   "metadata": {},
   "outputs": [
    {
     "name": "stdout",
     "output_type": "stream",
     "text": [
      "Are you sure you want to perform this operation? (y/n): ^C\n",
      "\u001b[0m"
     ]
    }
   ],
   "source": [
    "!GROUP='rg-azure-ml' && \\\n",
    "WORKSPACE='azure-ml-workspace-CLI' && \\\n",
    "NAME=\"compute-instance-CLI\" && \\\n",
    "az ml compute delete --name $NAME --workspace-name $WORKSPACE --resource-group $GROUP"
   ]
  },
  {
   "cell_type": "markdown",
   "metadata": {},
   "source": [
    "Respondo que no porque voy a seguir trabajando con el `Compute instance`"
   ]
  },
  {
   "cell_type": "markdown",
   "metadata": {},
   "source": [
    "##### Observar un `Compute instance` con el CLI de Azure ML"
   ]
  },
  {
   "cell_type": "code",
   "execution_count": 20,
   "metadata": {},
   "outputs": [
    {
     "name": "stdout",
     "output_type": "stream",
     "text": [
      "{\n",
      "  \"created_on\": \"2024-10-14T10:47:41.472829+0000\",\n",
      "  \"enable_node_public_ip\": true,\n",
      "  \"enable_os_patching\": false,\n",
      "  \"enable_root_access\": true,\n",
      "  \"enable_sso\": true,\n",
      "  \"id\": \"/subscriptions/c1ffdd1c-ecfc-4119-bf19-e207f9a4bcaf/resourceGroups/rg-azure-ml/providers/Microsoft.MachineLearningServices/workspaces/azure-ml-workspace-CLI/computes/compute-instance-CLI\",\n",
      "  \"last_operation\": {\n",
      "    \"operation_name\": \"Start\",\n",
      "    \"operation_status\": \"Succeeded\",\n",
      "    \"operation_time\": \"2024-10-14T11:12:50.323Z\",\n",
      "    \"operation_trigger\": \"User\"\n",
      "  },\n",
      "  \"location\": \"francecentral\",\n",
      "  \"name\": \"compute-instance-CLI\",\n",
      "  \"network_settings\": {\n",
      "    \"private_ip_address\": \"10.0.0.4\",\n",
      "    \"public_ip_address\": \"52.143.163.77\"\n",
      "  },\n",
      "  \"os_image_metadata\": {\n",
      "    \"current_image_version\": \"24.09.23\",\n",
      "    \"is_latest_os_image_version\": true,\n",
      "    \"latest_image_version\": \"24.09.23\"\n",
      "  },\n",
      "  \"provisioning_state\": \"Succeeded\",\n",
      "  \"release_quota_on_stop\": false,\n",
      "  \"resourceGroup\": \"rg-azure-ml\",\n",
      "  \"services\": [\n",
      "    {\n",
      "      \"display_name\": \"Jupyter\",\n",
      "      \"endpoint_uri\": \"https://compute-instance-cli.francecentral.instances.azureml.ms/tree/\"\n",
      "    },\n",
      "    {\n",
      "      \"display_name\": \"Jupyter Lab\",\n",
      "      \"endpoint_uri\": \"https://compute-instance-cli.francecentral.instances.azureml.ms/lab\"\n",
      "    }\n",
      "  ],\n",
      "  \"size\": \"Standard_E4ds_v4\",\n",
      "  \"ssh_public_access_enabled\": false,\n",
      "  \"ssh_settings\": {\n",
      "    \"admin_username\": \"azureuser\",\n",
      "    \"ssh_port\": \"50000\"\n",
      "  },\n",
      "  \"state\": \"Running\",\n",
      "  \"type\": \"computeinstance\"\n",
      "}\n",
      "\u001b[0m"
     ]
    }
   ],
   "source": [
    "!GROUP='rg-azure-ml' && \\\n",
    "WORKSPACE='azure-ml-workspace-CLI' && \\\n",
    "NAME=\"compute-instance-CLI\" && \\\n",
    "az ml compute show --name $NAME --workspace-name $WORKSPACE --resource-group $GROUP"
   ]
  },
  {
   "cell_type": "markdown",
   "metadata": {},
   "source": [
    " > ¡Asegurate de pararlo si no vas a aseguir trabajando ahora!"
   ]
  },
  {
   "cell_type": "markdown",
   "metadata": {},
   "source": [
    "#### Administrar un `Compute instance` con el SDK de Python"
   ]
  },
  {
   "cell_type": "markdown",
   "metadata": {},
   "source": [
    "##### Estado de un `Compute instance` con el SDK de Python"
   ]
  },
  {
   "cell_type": "code",
   "execution_count": 16,
   "metadata": {},
   "outputs": [
    {
     "name": "stdout",
     "output_type": "stream",
     "text": [
      "created_on: 2024-10-15T08:25:33.612998+0000\n",
      "enable_node_public_ip: true\n",
      "enable_os_patching: false\n",
      "enable_root_access: true\n",
      "enable_sso: true\n",
      "id: /subscriptions/c1ffdd1c-ecfc-4119-bf19-e207f9a4bcaf/resourceGroups/rg-azure-ml/providers/Microsoft.MachineLearningServices/workspaces/azure-ml-workspace-Python-SDK/computes/compute-instance-Python\n",
      "idle_time_before_shutdown: PT30M\n",
      "idle_time_before_shutdown_minutes: 30\n",
      "last_operation:\n",
      "  operation_name: Create\n",
      "  operation_status: Succeeded\n",
      "  operation_time: '2024-10-15T08:25:41.912Z'\n",
      "  operation_trigger: User\n",
      "location: francecentral\n",
      "name: compute-instance-Python\n",
      "network_settings:\n",
      "  private_ip_address: 10.0.0.4\n",
      "  public_ip_address: 4.212.11.121\n",
      "os_image_metadata:\n",
      "  current_image_version: 24.09.23\n",
      "  is_latest_os_image_version: true\n",
      "  latest_image_version: 24.09.23\n",
      "provisioning_state: Succeeded\n",
      "release_quota_on_stop: false\n",
      "services:\n",
      "- display_name: Jupyter\n",
      "  endpoint_uri: https://compute-instance-python.francecentral.instances.azureml.ms/tree/\n",
      "- display_name: Jupyter Lab\n",
      "  endpoint_uri: https://compute-instance-python.francecentral.instances.azureml.ms/lab\n",
      "size: STANDARD_E4DS_V4\n",
      "ssh_public_access_enabled: false\n",
      "ssh_settings:\n",
      "  admin_username: azureuser\n",
      "  ssh_port: '50000'\n",
      "state: Running\n",
      "type: computeinstance\n",
      "\n"
     ]
    }
   ],
   "source": [
    "from azure.ai.ml.entities import ComputeInstance, AmlCompute\n",
    "\n",
    "compute_instance_name = \"compute-instance-Python\"\n",
    "\n",
    "compute_instance_state = ml_client.compute.get(compute_instance_name)\n",
    "print(compute_instance_state)"
   ]
  },
  {
   "cell_type": "markdown",
   "metadata": {},
   "source": [
    "##### Parar un `Compute instance` con el SDK de Python"
   ]
  },
  {
   "cell_type": "code",
   "execution_count": 24,
   "metadata": {},
   "outputs": [],
   "source": [
    "from azure.ai.ml.entities import ComputeInstance, AmlCompute\n",
    "\n",
    "compute_instance_name = \"compute-instance-Python\"\n",
    "\n",
    "ml_client.compute.begin_stop(compute_instance_name).wait()"
   ]
  },
  {
   "cell_type": "markdown",
   "metadata": {},
   "source": [
    "##### Iniciar un `Compute instance` con el SDK de Python"
   ]
  },
  {
   "cell_type": "code",
   "execution_count": 18,
   "metadata": {},
   "outputs": [],
   "source": [
    "from azure.ai.ml.entities import ComputeInstance, AmlCompute\n",
    "\n",
    "compute_instance_name = \"compute-instance-Python\"\n",
    "\n",
    "ml_client.compute.begin_start(compute_instance_name).wait()"
   ]
  },
  {
   "cell_type": "markdown",
   "metadata": {},
   "source": [
    "##### Reiniciar un `Compute instance` con el SDK de Python"
   ]
  },
  {
   "cell_type": "code",
   "execution_count": 19,
   "metadata": {},
   "outputs": [],
   "source": [
    "from azure.ai.ml.entities import ComputeInstance, AmlCompute\n",
    "\n",
    "compute_instance_name = \"compute-instance-Python\"\n",
    "\n",
    "ml_client.compute.begin_restart(compute_instance_name).wait()"
   ]
  },
  {
   "cell_type": "markdown",
   "metadata": {},
   "source": [
    "##### Eliminar un `Compute instance` con el SDK de Python"
   ]
  },
  {
   "cell_type": "code",
   "execution_count": 20,
   "metadata": {},
   "outputs": [],
   "source": [
    "from azure.ai.ml.entities import ComputeInstance, AmlCompute\n",
    "\n",
    "compute_instance_name = \"compute-instance-Python\"\n",
    "\n",
    "ml_client.compute.begin_delete(compute_instance_name).wait()"
   ]
  },
  {
   "cell_type": "markdown",
   "metadata": {},
   "source": [
    "##### Observar un `Compute instance` con el SDK de Python"
   ]
  },
  {
   "cell_type": "code",
   "execution_count": 23,
   "metadata": {},
   "outputs": [
    {
     "name": "stdout",
     "output_type": "stream",
     "text": [
      "<azure.ai.ml.entities._compute._image_metadata.ImageMetadata object at 0x77963d78d3d0>\n"
     ]
    }
   ],
   "source": [
    "from azure.ai.ml.entities import ComputeInstance, AmlCompute\n",
    "\n",
    "compute_instance_name = \"compute-instance-Python\"\n",
    "\n",
    "instance = ml_client.compute.get(compute_instance_name)\n",
    "print(instance.os_image_metadata)"
   ]
  },
  {
   "cell_type": "markdown",
   "metadata": {},
   "source": [
    "Vemos que ha devuelto un objeto de la clase `ComputeInstance`, para ver todos los parámetros de esta clase podemos entrar en [azure.ai.ml.entities.computeinstance](https://learn.microsoft.com/en-us/python/api/azure-ai-ml/azure.ai.ml.entities.computeinstance?view=azure-python). Vamos a ver por ejemplo el nombre"
   ]
  },
  {
   "cell_type": "code",
   "execution_count": 28,
   "metadata": {},
   "outputs": [
    {
     "data": {
      "text/plain": [
       "'compute-instance-Python'"
      ]
     },
     "execution_count": 28,
     "metadata": {},
     "output_type": "execute_result"
    }
   ],
   "source": [
    "instance.name"
   ]
  }
 ],
 "metadata": {
  "kernelspec": {
   "display_name": "azure_ml",
   "language": "python",
   "name": "python3"
  },
  "language_info": {
   "codemirror_mode": {
    "name": "ipython",
    "version": 3
   },
   "file_extension": ".py",
   "mimetype": "text/x-python",
   "name": "python",
   "nbconvert_exporter": "python",
   "pygments_lexer": "ipython3",
   "version": "3.11.10"
  }
 },
 "nbformat": 4,
 "nbformat_minor": 2
}
