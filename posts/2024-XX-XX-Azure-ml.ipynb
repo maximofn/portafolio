{
 "cells": [
  {
   "cell_type": "markdown",
   "metadata": {},
   "source": [
    "# Azure ML"
   ]
  },
  {
   "cell_type": "markdown",
   "metadata": {},
   "source": [
    "## Crear un servicio de Azure ML"
   ]
  },
  {
   "cell_type": "markdown",
   "metadata": {},
   "source": [
    "Para crear un servicio de Azure ML hay que seguir los siguientes pasos:\n",
    " * Ir al portal de Azure\n",
    " * En mi caso me he creado una nueva suscripción para tener más trazabilidad de los gastos\n",
    " * Ahora crear un nuevo grupo de recursos con la siguiente configuración:\n",
    "   * En `Suscription` elegir la suscripción que hemos creado, si es que la has creado, y si no la que tengas\n",
    "   * En `Resource group` poner un nombre para el grupo de recursos, en mi caso he puesto `rg-azure-ml`\n",
    "   * En `Region` elegir la región que más te convenga, en mi caso he elegido `France Central`\n",
    " * Una vez creado el grupo de recursos, vamos a crear un nuevo recurso. Buscamos `Azure Machine Learning Service` en el buscador que se nos abre y le damos a `Create`\n",
    "   * En `Subscription` elegimos la suscripción que hemos creado, si es que la has creado, y si no la que tengas\n",
    "   * En `Resource group` elegimos el grupo de recursos que hemos creado\n",
    "   * En `Name` ponemos un nombre para el servicio de Azure ML, en mi caso he puesto `azure-ml-service`\n",
    "   * En `Region` elegimos la región que más nos convenga, en mi caso he elegido `France Central`. Pero lo ideal es que sea la misma región que el grupo de recursos\n",
    "   * Se nos han creado automáticamente un `Storage account`, un `Kay vault` y un `Application Insights`, así que los dejamos así\n",
    "   * En `Container registry` elegimos `Create new` y ponemos un nombre para el registro de contenedores, en mi caso he puesto `azuremlcontainerregistryXXXXXXXXXX` donde las `X` son números aleatorios, ya que este nombre tiene que ser único\n",
    "   * Por último le damos al botón de `Review + create` y si todo está bien le damos al botón de `Create`\n",
    "\n",
    "Enhorabuena, ya tienes tu primer servicio de Azure Machine Learning creado. Ahora toca esperar un poco a que el proceso de crearlo termine\n",
    "\n",
    "Cuando termine aparecerá un botón de `Go to resource` que nos llevará a la página principal del servicio de Azure ML. Y dentro de esta página podemos ver otro botón de `Launch studio` que nos llevará al estudio de Azure ML"
   ]
  },
  {
   "cell_type": "markdown",
   "metadata": {},
   "source": [
    "## Instalar las librerías necesarias"
   ]
  },
  {
   "cell_type": "markdown",
   "metadata": {},
   "source": [
    "Mientras esperamos a que se cree el servicio de Azure ML, vamos a instalar las librerías que vamos a necesitar para trabajar con Azure ML."
   ]
  },
  {
   "cell_type": "markdown",
   "metadata": {},
   "source": [
    "Al trabajar con Azure Machine Learning tenemos tres opciones\n",
    " * Usar la interfaz gráfica de Azure ML\n",
    " * Usar el CLI de Azure ML\n",
    " * Usar el SDK de Azure ML para Python"
   ]
  },
  {
   "cell_type": "markdown",
   "metadata": {},
   "source": [
    "### Intalar librerías necesarias para el CLI de Azure ML"
   ]
  },
  {
   "cell_type": "markdown",
   "metadata": {},
   "source": [
    "Para poder usar las funcionalidades del CLI de Azure ML necesitamos instalar las siguientes librerías\n",
    "\n",
    "```bash\n",
    "curl -sL https://aka.ms/InstallAzureCLIDeb | sudo bash\n",
    "az extension add -n ml -y\n",
    "```"
   ]
  },
  {
   "cell_type": "markdown",
   "metadata": {},
   "source": [
    "Vamos a comprobar que las hemos instalado bien"
   ]
  },
  {
   "cell_type": "code",
   "execution_count": 2,
   "metadata": {},
   "outputs": [
    {
     "name": "stdout",
     "output_type": "stream",
     "text": [
      "\n",
      "     /\\\n",
      "    /  \\    _____   _ _  ___ _\n",
      "   / /\\ \\  |_  / | | | \\'__/ _\\\n",
      "  / ____ \\  / /| |_| | | |  __/\n",
      " /_/    \\_\\/___|\\__,_|_|  \\___|\n",
      "\n",
      "\n",
      "Welcome to the cool new Azure CLI!\n",
      "\n",
      "Use `az --version` to display the current version.\n",
      "Here are the base commands:\n",
      "\n",
      "    account             : Manage Azure subscription information.\n",
      "    acr                 : Manage private registries with Azure Container Registries.\n",
      "    ad                  : Manage Microsoft Entra ID (formerly known as Azure Active Directory, Azure\n",
      "                         AD, AAD) entities needed for Azure role-based access control (Azure RBAC)\n",
      "                         through Microsoft Graph API.\n",
      "    advisor             : Manage Azure Advisor.\n",
      "    afd                 : Manage Azure Front Door Standard/Premium.\n",
      "    aks                 : Manage Azure Kubernetes Services.\n",
      "    ams                 : Manage Azure Media Services resources.\n",
      "    apim                : Manage Azure API Management services.\n",
      "    appconfig           : Manage App Configurations.\n",
      "    appservice          : Manage App Service plans.\n",
      "    aro                 : Manage Azure Red Hat OpenShift clusters.\n",
      "    backup              : Manage Azure Backups.\n",
      "    batch               : Manage Azure Batch.\n",
      "    bicep               : Bicep CLI command group.\n",
      "    billing             : Manage Azure Billing.\n",
      "    bot                 : Manage Microsoft Azure Bot Service.\n",
      "    cache               : Commands to manage CLI objects cached using the `--defer` argument.\n",
      "    capacity            : Manage capacity.\n",
      "    cdn                 : Manage Azure Content Delivery Networks (CDNs).\n",
      "    cloud               : Manage registered Azure clouds.\n",
      "    cognitiveservices   : Manage Azure Cognitive Services accounts.\n",
      "    compute-recommender : Manage sku/zone/region recommender info for compute resources.\n",
      "    config              : Manage Azure CLI configuration.\n",
      "    configure           : Manage Azure CLI configuration. This command is interactive.\n",
      "    connection          : Commands to manage Service Connector local connections which allow local\n",
      "                         environment to connect Azure Resource. If you want to manage connection for\n",
      "                         compute service, please run 'az webapp/containerapp/spring connection'.\n",
      "    consumption         : Manage consumption of Azure resources.\n",
      "    container           : Manage Azure Container Instances.\n",
      "    containerapp        : Manage Azure Container Apps.\n",
      "    cosmosdb            : Manage Azure Cosmos DB database accounts.\n",
      "    databoxedge         : Manage device with databoxedge.\n",
      "    deployment          : Manage Azure Resource Manager template deployment at subscription scope.\n",
      "    deployment-scripts  : Manage deployment scripts at subscription or resource group scope.\n",
      "    disk                : Manage Azure Managed Disks.\n",
      "    disk-access         : Manage disk access resources.\n",
      "    disk-encryption-set : Disk Encryption Set resource.\n",
      "    dla                 : Manage Data Lake Analytics accounts, jobs, and catalogs.\n",
      "    dls                 : Manage Data Lake Store accounts and filesystems.\n",
      "    dms                 : Manage Azure Data Migration Service (classic) instances.\n",
      "    eventgrid           : Manage Azure Event Grid topics, domains, domain topics, system topics\n",
      "                         partner topics, event subscriptions, system topic event subscriptions and\n",
      "                         partner topic event subscriptions.\n",
      "    eventhubs           : Eventhubs.\n",
      "    extension           : Manage and update CLI extensions.\n",
      "    feature             : Manage resource provider features.\n",
      "    feedback            : Send feedback to the Azure CLI Team.\n",
      "    find                : I'm an AI robot, my advice is based on our Azure documentation as well as\n",
      "                         the usage patterns of Azure CLI and Azure ARM users. Using me improves\n",
      "                         Azure products and documentation.\n",
      "    functionapp         : Manage function apps. To install the Azure Functions Core tools see\n",
      "                         https://github.com/Azure/azure-functions-core-tools.\n",
      "    group               : Manage resource groups and template deployments.\n",
      "    hdinsight           : Manage HDInsight resources.\n",
      "    identity            : Managed Identities.\n",
      "    image               : Manage custom virtual machine images.\n",
      "    interactive         : Start interactive mode. Installs the Interactive extension if not\n",
      "                         installed already.\n",
      "    iot                 : Manage Internet of Things (IoT) assets.\n",
      "    keyvault            : Manage KeyVault keys, secrets, and certificates.\n",
      "    kusto               : Manage Azure Kusto resources.\n",
      "    lab                 : Manage Azure DevTest Labs.\n",
      "    lock                : Manage Azure locks.\n",
      "    logicapp            : Manage logic apps.\n",
      "    login               : Log in to Azure.\n",
      "    logout              : Log out to remove access to Azure subscriptions.\n",
      "    managed-cassandra   : Azure Managed Cassandra.\n",
      "    managedapp          : Manage template solutions provided and maintained by Independent Software\n",
      "                         Vendors (ISVs).\n",
      "    managedservices     : Manage the registration assignments and definitions in Azure.\n",
      "    maps                : Manage Azure Maps.\n",
      "    mariadb             : Manage Azure Database for MariaDB servers.\n",
      "    monitor             : Manage the Azure Monitor Service.\n",
      "    mysql               : Manage Azure Database for MySQL servers.\n",
      "    netappfiles         : Manage Azure NetApp Files (ANF) Resources.\n",
      "    network             : Manage Azure Network resources.\n",
      "    policy              : Manage resource policies.\n",
      "    postgres            : Manage Azure Database for PostgreSQL servers.\n",
      "    ppg                 : Manage Proximity Placement Groups.\n",
      "    private-link        : Private-link association CLI command group.\n",
      "    provider            : Manage resource providers.\n",
      "    redis               : Manage dedicated Redis caches for your Azure applications.\n",
      "    relay               : Manage Azure Relay Service namespaces, WCF relays, hybrid connections, and\n",
      "                         rules.\n",
      "    resource            : Manage Azure resources.\n",
      "    resourcemanagement  : Resourcemanagement CLI command group.\n",
      "    rest                : Invoke a custom request.\n",
      "    restore-point       : Manage restore point with res.\n",
      "    role                : Manage Azure role-based access control (Azure RBAC).\n",
      "    search              : Manage Azure Search services, admin keys and query keys.\n",
      "    security            : Manage your security posture with Microsoft Defender for Cloud.\n",
      "    servicebus          : Servicebus.\n",
      "    sf                  : Manage and administer Azure Service Fabric clusters.\n",
      "    sig                 : Manage shared image gallery.\n",
      "    signalr             : Manage Azure SignalR Service.\n",
      "    snapshot            : Manage point-in-time copies of managed disks, native blobs, or other\n",
      "                         snapshots.\n",
      "    sql                 : Manage Azure SQL Databases and Data Warehouses.\n",
      "    sshkey              : Manage ssh public key with vm.\n",
      "    stack               : A deployment stack is a native Azure resource type that enables you to\n",
      "                         perform operations on a resource collection as an atomic unit.\n",
      "    staticwebapp        : Manage static apps.\n",
      "    storage             : Manage Azure Cloud Storage resources.\n",
      "    survey              : Take Azure CLI survey.\n",
      "    synapse             : Manage and operate Synapse Workspace, Spark Pool, SQL Pool.\n",
      "    tag                 : Tag Management on a resource.\n",
      "    term                : Manage marketplace agreement with marketplaceordering.\n",
      "    ts                  : Manage template specs at subscription or resource group scope.\n",
      "    upgrade             : Upgrade Azure CLI and extensions.\n",
      "    version             : Show the versions of Azure CLI modules and extensions in JSON format by\n",
      "                         default or format configured by --output.\n",
      "    vm                  : Manage Linux or Windows virtual machines.\n",
      "    vmss                : Manage groupings of virtual machines in an Azure Virtual Machine Scale Set\n",
      "                         (VMSS).\n",
      "    webapp              : Manage web apps.\n"
     ]
    }
   ],
   "source": [
    "!az"
   ]
  },
  {
   "cell_type": "markdown",
   "metadata": {},
   "source": [
    "Hemos instalado bien el CLI de Azure ML"
   ]
  },
  {
   "cell_type": "markdown",
   "metadata": {},
   "source": [
    "### Intalar librerías necesarias para el SDK de Azure ML para Python"
   ]
  },
  {
   "cell_type": "markdown",
   "metadata": {},
   "source": [
    "Antes de instalar las librerías de Python creo un entorno de conda para tener todo bien organizado\n",
    "\n",
    "```bash\n",
    "conda create --name azure_ml python=3.11\n",
    "```"
   ]
  },
  {
   "cell_type": "markdown",
   "metadata": {},
   "source": [
    "Activo el entorno\n",
    "\n",
    "```bash\n",
    "conda activate azure_ml\n",
    "```"
   ]
  },
  {
   "cell_type": "markdown",
   "metadata": {},
   "source": [
    "Y ahora instalo las librerías necesarias para trabajar con el SDK de Azure ML para Python\n",
    "\n",
    "```bash\n",
    "pip install azure-ai-ml\n",
    "pip install azure-identity\n",
    "```"
   ]
  },
  {
   "cell_type": "markdown",
   "metadata": {},
   "source": [
    "## Crear un `Workspace` de Azure ML"
   ]
  },
  {
   "cell_type": "markdown",
   "metadata": {},
   "source": [
    "Ahora tenemos que crear un `Workspace` de Azure ML para poder trabajar con Azure ML. Como antes se puede usar la interfaz gŕafica de Azure ML, el CLI de Azure ML o el SDK de Azure ML para Python."
   ]
  },
  {
   "cell_type": "markdown",
   "metadata": {},
   "source": [
    "### Crear un `Workspace` de Azure ML con la interfaz gráfica de Azure ML"
   ]
  },
  {
   "cell_type": "markdown",
   "metadata": {},
   "source": [
    "En Azure ML Studio debería haber un botón de `Create workspace`, así que le damos y se nos abrirá una modal en la que tenemos que poner\n",
    " * `Name`, un nombre único dentro del grupo de recursos, en mis caso he puesto `azure-ml-workspace-GUI`\n",
    " * `Friendly name`, un nombre amigable para el `Workspace`, en mi caso he puesto `Azure ML Workspace GUI`\n",
    " * En `Hub` no ponemos nada porque no lo vamos a compartir en ningún hub\n",
    " * En `Subscription` elegimos la suscripción que hemos creado, si es que la has creado, y si no la que tengas\n",
    " * En `Resource group` elegimos el grupo de recursos que hemos creado, en mi caso he puesto `rg-azure-ml`\n",
    " * En `Region` elegimos la región que más nos convenga, en mi caso he elegido `France Central`. Pero lo ideal es que sea la misma región que el grupo de recursos\n",
    " * Por último le damos al botón de `Create` y esperamos a que se cree el `Workspace`"
   ]
  },
  {
   "cell_type": "markdown",
   "metadata": {},
   "source": [
    "### Crear un `Workspace` de Azure ML con el CLI de Azure ML"
   ]
  },
  {
   "cell_type": "markdown",
   "metadata": {},
   "source": [
    "Ahora usamos la linea de comandos para crear otro recurso"
   ]
  },
  {
   "cell_type": "markdown",
   "metadata": {},
   "source": [
    "Primero tenemos que logearnos en Azure\n",
    "\n",
    "```bash\n",
    "az login\n",
    "```\n",
    "\n",
    "Se nos abrirá el navegador para logearnos"
   ]
  },
  {
   "cell_type": "markdown",
   "metadata": {},
   "source": [
    "Ahora podemos crear un nuevo `Workspace` de Azure ML. En mi caso el `Resource group` será `rg-azure-ml`, el `Location` será `France Central` y el `Workspace` será `azure-ml-workspace-CLI`\n",
    "\n",
    "```bash\n",
    "GROUP='rg-azure-ml'\n",
    "LOCATION='francecentral'\n",
    "WORKSPACE='azure-ml-workspace-CLI'\n",
    "\n",
    "az ml workspace create -n $WORKSPACE -g $GROUP -l $LOCATION\n",
    "```"
   ]
  },
  {
   "cell_type": "markdown",
   "metadata": {},
   "source": [
    "Como no sabemos cómo se tiene que escribir exactamente `France Central` en el CLI, lo buscamos"
   ]
  },
  {
   "cell_type": "code",
   "execution_count": 3,
   "metadata": {},
   "outputs": [
    {
     "name": "stdout",
     "output_type": "stream",
     "text": [
      "          \"name\": \"francesouth\"\n",
      "    \"name\": \"francecentral\",\n",
      "    \"name\": \"france\",\n",
      "          \"name\": \"francecentral\"\n",
      "    \"name\": \"francesouth\",\n"
     ]
    }
   ],
   "source": [
    "!az account list-locations | grep \"name\" | grep france"
   ]
  },
  {
   "cell_type": "markdown",
   "metadata": {},
   "source": [
    "Es `francecentral`, así que creamos el `Workspace`"
   ]
  },
  {
   "cell_type": "code",
   "execution_count": 4,
   "metadata": {},
   "outputs": [
    {
     "name": "stdout",
     "output_type": "stream",
     "text": [
      "The deployment request azure-ml-workspace-CLI-226067 was accepted. ARM deployment URI for reference: \n",
      "https://portal.azure.com//#blade/HubsExtension/DeploymentDetailsBlade/overview/id/%2Fsubscriptions%2Fc1ffdd1c-ecfc-4119-bf19-e207f9a4bcaf%2FresourceGroups%2Frg-azure-ml%2Fproviders%2FMicrosoft.Resources%2Fdeployments%2Fazure-ml-workspace-CLI-226067\n",
      "Creating Storage Account: (azuremlwstorageb7a3ba595  ) ...  Done (25s)\n",
      "Creating Key Vault: (azuremlwkeyvault73f23be7  )  Done (20s)\n",
      "Creating Log Analytics Workspace: (azuremlwlogalyti541a12e1  )  Done (17s)\n",
      "Creating AzureML Workspace: (azure-ml-workspace-CLI  ) ....  Done (33s)\n",
      "Creating Application Insights: (azuremlwinsightsfc90b676  )  Done (19s)\n",
      "Total time : 1m 0s\n",
      "\n",
      "\u001b[K{\\ Finished ..\n",
      "  \"allow_roleassignment_on_rg\": true,\n",
      "  \"application_insights\": \"/subscriptions/c1ffdd1c-ecfc-4119-bf19-e207f9a4bcaf/resourceGroups/rg-azure-ml/providers/Microsoft.insights/components/azuremlwinsightsfc90b676\",\n",
      "  \"description\": \"azure-ml-workspace-CLI\",\n",
      "  \"discovery_url\": \"https://francecentral.api.azureml.ms/discovery\",\n",
      "  \"display_name\": \"azure-ml-workspace-CLI\",\n",
      "  \"enable_data_isolation\": false,\n",
      "  \"hbi_workspace\": false,\n",
      "  \"id\": \"/subscriptions/c1ffdd1c-ecfc-4119-bf19-e207f9a4bcaf/resourceGroups/rg-azure-ml/providers/Microsoft.MachineLearningServices/workspaces/azure-ml-workspace-CLI\",\n",
      "  \"identity\": {\n",
      "    \"principal_id\": \"72a305f3-e3d5-43d4-97b6-a6755791093b\",\n",
      "    \"tenant_id\": \"e159768e-d60d-4421-a2e8-9104ec69ce18\",\n",
      "    \"type\": \"system_assigned\"\n",
      "  },\n",
      "  \"key_vault\": \"/subscriptions/c1ffdd1c-ecfc-4119-bf19-e207f9a4bcaf/resourceGroups/rg-azure-ml/providers/Microsoft.Keyvault/vaults/azuremlwkeyvault73f23be7\",\n",
      "  \"location\": \"francecentral\",\n",
      "  \"managed_network\": {\n",
      "    \"isolation_mode\": \"disabled\",\n",
      "    \"outbound_rules\": []\n",
      "  },\n",
      "  \"mlflow_tracking_uri\": \"azureml://francecentral.api.azureml.ms/mlflow/v1.0/subscriptions/c1ffdd1c-ecfc-4119-bf19-e207f9a4bcaf/resourceGroups/rg-azure-ml/providers/Microsoft.MachineLearningServices/workspaces/azure-ml-workspace-CLI\",\n",
      "  \"name\": \"azure-ml-workspace-CLI\",\n",
      "  \"public_network_access\": \"Enabled\",\n",
      "  \"resourceGroup\": \"rg-azure-ml\",\n",
      "  \"resource_group\": \"rg-azure-ml\",\n",
      "  \"serverless_compute\": {\n",
      "    \"no_public_ip\": false\n",
      "  },\n",
      "  \"storage_account\": \"/subscriptions/c1ffdd1c-ecfc-4119-bf19-e207f9a4bcaf/resourceGroups/rg-azure-ml/providers/Microsoft.Storage/storageAccounts/azuremlwstorageb7a3ba595\",\n",
      "  \"system_datastores_auth_mode\": \"accesskey\",\n",
      "  \"tags\": {\n",
      "    \"createdByToolkit\": \"cli-v2-1.20.0\"\n",
      "  }\n",
      "}\n",
      "\u001b[0m"
     ]
    }
   ],
   "source": [
    "!GROUP='rg-azure-ml' && \\\n",
    "LOCATION='francecentral' && \\\n",
    "WORKSPACE='azure-ml-workspace-CLI' && \\\n",
    "az ml workspace create -n $WORKSPACE -g $GROUP -l $LOCATION"
   ]
  },
  {
   "cell_type": "markdown",
   "metadata": {},
   "source": [
    "### Crear un `Workspace` de Azure ML con Python"
   ]
  },
  {
   "cell_type": "markdown",
   "metadata": {},
   "source": [
    "Primero tenemos que crear un cliente para poder interactuar con Azure ML"
   ]
  },
  {
   "cell_type": "code",
   "execution_count": 2,
   "metadata": {},
   "outputs": [],
   "source": [
    "from azure.ai.ml import MLClient\n",
    "from azure.identity import DefaultAzureCredential\n",
    "\n",
    "subscription_id = \"c1ffdd1c-ecfc-4119-bf19-e207f9a4bcaf\"\n",
    "resource_group = \"rg-azure-ml\"\n",
    "workspace = \"azure-ml-workspace-Python-API\"\n",
    "\n",
    "ml_client = MLClient(\n",
    "    DefaultAzureCredential(), subscription_id, resource_group, workspace\n",
    ")"
   ]
  },
  {
   "cell_type": "markdown",
   "metadata": {},
   "source": [
    "Ahora podemos crear un nuevo `Workspace` de Azure ML. En mi caso el `Resource group` será `rg-azure-ml`, el `Location` será `France Central` y el `Workspace` será `azure-ml-workspace-Python-API`"
   ]
  },
  {
   "cell_type": "code",
   "execution_count": 3,
   "metadata": {},
   "outputs": [
    {
     "name": "stderr",
     "output_type": "stream",
     "text": [
      "The deployment request azure-ml-workspace-Python-API-5117233 was accepted. ARM deployment URI for reference: \n",
      "https://portal.azure.com//#blade/HubsExtension/DeploymentDetailsBlade/overview/id/%2Fsubscriptions%2Fc1ffdd1c-ecfc-4119-bf19-e207f9a4bcaf%2FresourceGroups%2Frg-azure-ml%2Fproviders%2FMicrosoft.Resources%2Fdeployments%2Fazure-ml-workspace-Python-API-5117233\n"
     ]
    },
    {
     "data": {
      "text/plain": [
       "<azure.core.polling._poller.LROPoller at 0x77beb4bdc1d0>"
      ]
     },
     "execution_count": 3,
     "metadata": {},
     "output_type": "execute_result"
    }
   ],
   "source": [
    "from azure.ai.ml.entities import Workspace\n",
    "\n",
    "group = \"rg-azure-ml\"\n",
    "workspace_name = \"azure-ml-workspace-Python-API\"\n",
    "friendly_name = \"Azure ML Workspace Python API\"\n",
    "location = \"francecentral\"\n",
    "description = \"This example shows how to create a workspace using the Python API\"\n",
    "\n",
    "ws_basic = Workspace(\n",
    "    name=workspace_name,\n",
    "    location=location,\n",
    "    display_name=friendly_name,\n",
    "    description=description,\n",
    ")\n",
    "ml_client.workspaces.begin_create(ws_basic)"
   ]
  }
 ],
 "metadata": {
  "kernelspec": {
   "display_name": "azure_ml",
   "language": "python",
   "name": "python3"
  },
  "language_info": {
   "codemirror_mode": {
    "name": "ipython",
    "version": 3
   },
   "file_extension": ".py",
   "mimetype": "text/x-python",
   "name": "python",
   "nbconvert_exporter": "python",
   "pygments_lexer": "ipython3",
   "version": "3.11.10"
  }
 },
 "nbformat": 4,
 "nbformat_minor": 2
}
