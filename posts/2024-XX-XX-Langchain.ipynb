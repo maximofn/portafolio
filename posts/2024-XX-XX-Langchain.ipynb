{
 "cells": [
  {
   "cell_type": "markdown",
   "metadata": {},
   "source": [
    "# Langchain"
   ]
  },
  {
   "cell_type": "markdown",
   "metadata": {},
   "source": [
    "## Instalación"
   ]
  },
  {
   "cell_type": "markdown",
   "metadata": {},
   "source": [
    "Para instalar Langchain se puede hacer con pip\n",
    "\n",
    "``` bash\n",
    "pip install langchain\n",
    "```\n",
    "\n",
    "o con conda\n",
    "\n",
    "``` bash\n",
    "conda install langchain -c conda-forge\n",
    "```"
   ]
  },
  {
   "cell_type": "code",
   "execution_count": 1,
   "metadata": {},
   "outputs": [],
   "source": [
    "from langchain_community.llms import Ollama\n",
    "\n",
    "llm = Ollama(model=\"gemma:2b\")"
   ]
  },
  {
   "cell_type": "code",
   "execution_count": 2,
   "metadata": {},
   "outputs": [
    {
     "data": {
      "text/plain": [
       "'Los LLMs son una clase de modelos de lenguaje que tienen la capacidad de generar lenguaje de forma significativa y natural, como el texto, la traducción y la escritura. Los LLMs son diferentes de los modelos de lenguaje anteriores en que no necesitan un conjunto de datos de entrenamiento extenso para aprender el lenguaje. En cambio, los LLMs utilizan un conjunto de arquitectura de redes neuronales profundas para aprender el lenguaje de forma interna.\\n\\n**Características principales de los LLMs:**\\n\\n* **Generación de lenguaje natural:** Los LLMs pueden generar textos, traducciones y otros tipos de lenguaje en respuesta a indicaciones específicas.\\n* **Aprendizaje automático:** Los LLMs no necesitan un conjunto de datos de entrenamiento extenso para aprender el lenguaje.\\n* **Autoencodificación:** Los LLMs pueden codificar y decodificar el lenguaje, lo que permite que puedan entender y generar textos que son similares al texto original.\\n* **Multimodal:** Los LLMs pueden generar textos que son relevantes en diferentes formatos, como imágenes o vídeos.\\n\\n**Ejemplos de los LLMs:**\\n\\n* **ChatGPT**\\n* **LM7**\\n* **T5**\\n* **BART**\\n\\n**Usos de los LLMs:**\\n\\n* **Procesamiento del lenguaje natural**\\n* **Traducción**\\n* **escritura creativa**\\n* **generación de ideas**\\n* **chatbots**'"
      ]
     },
     "execution_count": 2,
     "metadata": {},
     "output_type": "execute_result"
    }
   ],
   "source": [
    "llm.invoke(\"¿Qué son los LLMs\")"
   ]
  }
 ],
 "metadata": {
  "kernelspec": {
   "display_name": "base",
   "language": "python",
   "name": "python3"
  },
  "language_info": {
   "codemirror_mode": {
    "name": "ipython",
    "version": 3
   },
   "file_extension": ".py",
   "mimetype": "text/x-python",
   "name": "python",
   "nbconvert_exporter": "python",
   "pygments_lexer": "ipython3",
   "version": "3.11.8"
  }
 },
 "nbformat": 4,
 "nbformat_minor": 2
}
