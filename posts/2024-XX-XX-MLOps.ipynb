{
 "cells": [
  {
   "cell_type": "markdown",
   "metadata": {},
   "source": [
    "# MLOps"
   ]
  },
  {
   "cell_type": "markdown",
   "metadata": {},
   "source": [
    "MLOps viene de DevOps y son las prácticas y herramientas que se utilizan para mejorar la colaboración y la comunicación entre los equipos de desarrollo de software y los equipos de operaciones.\n",
    "\n",
    "En el caso de MLOps, se refiere a las prácticas y herramientas que se utilizan para mejorar la colaboración y la comunicación entre los equipos de desarrollo de modelos de machine learning y los equipos de operaciones"
   ]
  },
  {
   "cell_type": "markdown",
   "metadata": {},
   "source": [
    "## Estapas de MLOps"
   ]
  },
  {
   "cell_type": "markdown",
   "metadata": {},
   "source": [
    "Estas son las etapas de MLOps:\n",
    "\n",
    "![Etapas MLOps](https://pub-fb664c455eca46a2ba762a065ac900f7.r2.dev/mlops_operations.webp)"
   ]
  },
  {
   "cell_type": "markdown",
   "metadata": {},
   "source": [
    "Vamos a explicarlas:\n",
    "\n",
    " * Diseño: En esta etapa se define el problema que se va a resolver y se recopilan los datos necesarios para resolverlo.\n",
    " * Desarrollo del modelo: En esta etapa se entrena el modelo y se evalúa su rendimiento.\n",
    " * Operaciones: En esta etapa se despliega el modelo en producción, se crean los pipelines de CI/CD y se monitoriza el rendimiento del modelo.\n",
    "\n",
    "Como se puede ver no son etapas cerradas, sino que nos podemos mover de una a otra en cualquier momento como se puede ver en la siguiente imagen:\n",
    "\n",
    "![mlops operations](https://pub-fb664c455eca46a2ba762a065ac900f7.r2.dev/mlops_operations2.webp)"
   ]
  },
  {
   "cell_type": "markdown",
   "metadata": {},
   "source": []
  }
 ],
 "metadata": {
  "kernelspec": {
   "display_name": "base",
   "language": "python",
   "name": "python3"
  },
  "language_info": {
   "codemirror_mode": {
    "name": "ipython",
    "version": 3
   },
   "file_extension": ".py",
   "mimetype": "text/x-python",
   "name": "python",
   "nbconvert_exporter": "python",
   "pygments_lexer": "ipython3",
   "version": "3.11.8"
  }
 },
 "nbformat": 4,
 "nbformat_minor": 2
}
