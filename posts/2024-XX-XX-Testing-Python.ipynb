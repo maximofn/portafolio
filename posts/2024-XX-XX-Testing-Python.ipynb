{
 "cells": [
  {
   "cell_type": "markdown",
   "metadata": {},
   "source": [
    "# Tesing Python"
   ]
  },
  {
   "cell_type": "markdown",
   "metadata": {},
   "source": [
    "Para realizar este post vamos a crear una carpeta llamada `testing_python` donde vamos a crear todo el código"
   ]
  },
  {
   "cell_type": "code",
   "execution_count": 1,
   "metadata": {},
   "outputs": [],
   "source": [
    "!mkdir testing_python"
   ]
  },
  {
   "cell_type": "markdown",
   "metadata": {},
   "source": [
    "Dentro de esa carpeta vamos a crear las carpetas `src` y `tests` donde vamos a poner el código fuente y los tests respectivamente"
   ]
  },
  {
   "cell_type": "code",
   "execution_count": 3,
   "metadata": {},
   "outputs": [],
   "source": [
    "!mkdir testing_python/src\n",
    "!mkdir testing_python/tests"
   ]
  },
  {
   "cell_type": "markdown",
   "metadata": {},
   "source": [
    "## Librerías necesarias"
   ]
  },
  {
   "cell_type": "markdown",
   "metadata": {},
   "source": [
    "Para hacer los tests vamos a usar la librería `unittest` que viene por defecto en Python, pero además vamos a instalar `ipdb` para poder hacer debug de los tests. La instalamos con Conda\n",
    "\n",
    "```bash\n",
    "conda install conda-forge::ipdb\n",
    "```\n",
    "\n",
    "O con pip\n",
    "\n",
    "```bash\n",
    "pip install ipdb\n",
    "```"
   ]
  },
  {
   "cell_type": "markdown",
   "metadata": {},
   "source": [
    "## Primeros tests"
   ]
  },
  {
   "cell_type": "markdown",
   "metadata": {},
   "source": [
    "Vamos a crear un primer archivo llamado `calculator.py` en la carpeta `src`"
   ]
  },
  {
   "cell_type": "code",
   "execution_count": 36,
   "metadata": {},
   "outputs": [],
   "source": [
    "!echo \"def sum(a, b):\"          > testing_python/src/calculator.py\n",
    "!echo \"    return a + b\"        >> testing_python/src/calculator.py\n",
    "!echo \"\"                        >> testing_python/src/calculator.py\n",
    "!echo \"def substract(a, b):\"    >> testing_python/src/calculator.py\n",
    "!echo \"    return a - b\"        >> testing_python/src/calculator.py\n",
    "!echo \"\"                        >> testing_python/src/calculator.py\n",
    "!echo \"def multiply(a, b):\"     >> testing_python/src/calculator.py\n",
    "!echo \"    return a * b\"        >> testing_python/src/calculator.py\n",
    "!echo \"\"                        >> testing_python/src/calculator.py\n",
    "!echo \"def divide(a, b):\"       >> testing_python/src/calculator.py\n",
    "!echo \"    return a / b\"        >> testing_python/src/calculator.py"
   ]
  },
  {
   "cell_type": "markdown",
   "metadata": {},
   "source": [
    "Ahora creamos un archivo llamado `test_calculator.py` en la carpeta `tests`"
   ]
  },
  {
   "cell_type": "code",
   "execution_count": 37,
   "metadata": {},
   "outputs": [],
   "source": [
    "!echo \"import unittest\"                                                 >  testing_python/tests/test_calculator.py\n",
    "!echo \"from src.calculator import sum, substract, multiply, divide\"     >> testing_python/tests/test_calculator.py\n",
    "!echo \"\"                                                                >> testing_python/tests/test_calculator.py\n",
    "!echo \"class TestCalculator(unittest.TestCase):\"                        >> testing_python/tests/test_calculator.py\n",
    "!echo \"    def test_sum(self):\"                                         >> testing_python/tests/test_calculator.py\n",
    "!echo \"        self.assertEqual(sum(2, 2), 4)\"                          >> testing_python/tests/test_calculator.py\n",
    "!echo \"\"                                                                >> testing_python/tests/test_calculator.py\n",
    "!echo \"    def test_substract(self):\"                                   >> testing_python/tests/test_calculator.py\n",
    "!echo \"        self.assertEqual(substract(2, 1), 1)\"                    >> testing_python/tests/test_calculator.py\n",
    "!echo \"\"                                                                >> testing_python/tests/test_calculator.py\n",
    "!echo \"    def test_multiply(self):\"                                    >> testing_python/tests/test_calculator.py\n",
    "!echo \"        self.assertEqual(multiply(2, 3), 6)\"                     >> testing_python/tests/test_calculator.py\n",
    "!echo \"\"                                                                >> testing_python/tests/test_calculator.py\n",
    "!echo \"    def test_divide(self):\"                                      >> testing_python/tests/test_calculator.py\n",
    "!echo \"        self.assertEqual(divide(6, 3), 2)\"                       >> testing_python/tests/test_calculator.py"
   ]
  },
  {
   "cell_type": "markdown",
   "metadata": {},
   "source": [
    "Ahora para ejecutarlo hacemos `python -m unittest tests/test_calculator.py discover -s tests`"
   ]
  },
  {
   "cell_type": "code",
   "execution_count": 38,
   "metadata": {},
   "outputs": [
    {
     "name": "stdout",
     "output_type": "stream",
     "text": [
      "....\n",
      "----------------------------------------------------------------------\n",
      "Ran 4 tests in 0.000s\n",
      "\n",
      "OK\n"
     ]
    }
   ],
   "source": [
    "!cd testing_python && python -m unittest tests/test_calculator.py"
   ]
  },
  {
   "cell_type": "markdown",
   "metadata": {},
   "source": [
    "Como vemos aparecen cuatro puntos por los dos tests que se han pasado y que ha sido correctos"
   ]
  },
  {
   "cell_type": "markdown",
   "metadata": {},
   "source": [
    "Vamos a modificar el archivo de test para provocar un error, vamos a hacer que al sumar 2 y 2 nos de 5"
   ]
  },
  {
   "cell_type": "code",
   "execution_count": 39,
   "metadata": {},
   "outputs": [],
   "source": [
    "!echo \"import unittest\"                                                 >  testing_python/tests/test_calculator.py\n",
    "!echo \"from src.calculator import sum, substract, multiply, divide\"     >> testing_python/tests/test_calculator.py\n",
    "!echo \"\"                                                                >> testing_python/tests/test_calculator.py\n",
    "!echo \"class TestCalculator(unittest.TestCase):\"                        >> testing_python/tests/test_calculator.py\n",
    "!echo \"    def test_sum(self):\"                                         >> testing_python/tests/test_calculator.py\n",
    "!echo \"        self.assertEqual(sum(2, 2), 5)\"                          >> testing_python/tests/test_calculator.py\n",
    "!echo \"\"                                                                >> testing_python/tests/test_calculator.py\n",
    "!echo \"    def test_substract(self):\"                                   >> testing_python/tests/test_calculator.py\n",
    "!echo \"        self.assertEqual(substract(2, 1), 1)\"                    >> testing_python/tests/test_calculator.py\n",
    "!echo \"\"                                                                >> testing_python/tests/test_calculator.py\n",
    "!echo \"    def test_multiply(self):\"                                    >> testing_python/tests/test_calculator.py\n",
    "!echo \"        self.assertEqual(multiply(2, 3), 6)\"                     >> testing_python/tests/test_calculator.py\n",
    "!echo \"\"                                                                >> testing_python/tests/test_calculator.py\n",
    "!echo \"    def test_divide(self):\"                                      >> testing_python/tests/test_calculator.py\n",
    "!echo \"        self.assertEqual(divide(6, 3), 2)\"                       >> testing_python/tests/test_calculator.py"
   ]
  },
  {
   "cell_type": "markdown",
   "metadata": {},
   "source": [
    "Ahora corremos los tests"
   ]
  },
  {
   "cell_type": "code",
   "execution_count": 40,
   "metadata": {},
   "outputs": [
    {
     "name": "stdout",
     "output_type": "stream",
     "text": [
      "...F\n",
      "======================================================================\n",
      "FAIL: test_sum (tests.test_calculator.TestCalculator)\n",
      "----------------------------------------------------------------------\n",
      "Traceback (most recent call last):\n",
      "  File \"/home/wallabot/Documentos/web/portafolio/posts/testing_python/tests/test_calculator.py\", line 6, in test_sum\n",
      "    self.assertEqual(sum(2, 2), 5)\n",
      "AssertionError: 4 != 5\n",
      "\n",
      "----------------------------------------------------------------------\n",
      "Ran 4 tests in 0.000s\n",
      "\n",
      "FAILED (failures=1)\n"
     ]
    }
   ],
   "source": [
    "!cd testing_python && python -m unittest tests/test_calculator.py"
   ]
  },
  {
   "cell_type": "markdown",
   "metadata": {},
   "source": [
    "Como vemos ahora nos sale una `F` que significa que ha fallado un test, además nos da la siguiente información\n",
    "\n",
    "```\n",
    "FAIL: test_sum (tests.test_calculator.TestCalculator)\n",
    "----------------------------------------------------------------------\n",
    "Traceback (most recent call last):\n",
    "  File \"/home/wallabot/Documentos/web/portafolio/posts/testing_python/tests/test_calculator.py\", line 6, in test_sum\n",
    "    self.assertEqual(sum(2, 2), 5)\n",
    "AssertionError: 4 != 5\n",
    "```\n",
    "\n",
    "Nos está diciendo que ha fallado el test `test_sum` en la línea 6, que es la que hemos modificado, y que el resultado esperado era 5 y el obtenido 4"
   ]
  },
  {
   "cell_type": "markdown",
   "metadata": {},
   "source": [
    "Una cosa que no hemos dicho y que es importante, es que no hemos llamado a los métodos `test_sum` y `test_substract` directamente, se han ejecutado automáticamente. Esto es debido a que los métodos que empiezan por `test_` son los que se ejecutan automáticamente"
   ]
  },
  {
   "cell_type": "markdown",
   "metadata": {},
   "source": [
    "Una forma más sencilla de ejecutar los tests es usar el comando `discover` que busca todos los archivos que empiezan por `test_` en la carpeta que le pasemos por el parámetro `-s`"
   ]
  },
  {
   "cell_type": "markdown",
   "metadata": {},
   "source": [
    "Primero volvemos a escribir bien los tests"
   ]
  },
  {
   "cell_type": "code",
   "execution_count": 41,
   "metadata": {},
   "outputs": [],
   "source": [
    "!echo \"import unittest\"                                                 >  testing_python/tests/test_calculator.py\n",
    "!echo \"from src.calculator import sum, substract, multiply, divide\"     >> testing_python/tests/test_calculator.py\n",
    "!echo \"\"                                                                >> testing_python/tests/test_calculator.py\n",
    "!echo \"class TestCalculator(unittest.TestCase):\"                        >> testing_python/tests/test_calculator.py\n",
    "!echo \"    def test_sum(self):\"                                         >> testing_python/tests/test_calculator.py\n",
    "!echo \"        self.assertEqual(sum(2, 2), 4)\"                          >> testing_python/tests/test_calculator.py\n",
    "!echo \"\"                                                                >> testing_python/tests/test_calculator.py\n",
    "!echo \"    def test_substract(self):\"                                   >> testing_python/tests/test_calculator.py\n",
    "!echo \"        self.assertEqual(substract(2, 1), 1)\"                    >> testing_python/tests/test_calculator.py\n",
    "!echo \"\"                                                                >> testing_python/tests/test_calculator.py\n",
    "!echo \"    def test_multiply(self):\"                                    >> testing_python/tests/test_calculator.py\n",
    "!echo \"        self.assertEqual(multiply(2, 3), 6)\"                     >> testing_python/tests/test_calculator.py\n",
    "!echo \"\"                                                                >> testing_python/tests/test_calculator.py\n",
    "!echo \"    def test_divide(self):\"                                      >> testing_python/tests/test_calculator.py\n",
    "!echo \"        self.assertEqual(divide(6, 3), 2)\"                       >> testing_python/tests/test_calculator.py"
   ]
  },
  {
   "cell_type": "markdown",
   "metadata": {},
   "source": [
    "Y ahora pasamos los tests mediante `discover`"
   ]
  },
  {
   "cell_type": "code",
   "execution_count": 42,
   "metadata": {},
   "outputs": [
    {
     "name": "stdout",
     "output_type": "stream",
     "text": [
      "....\n",
      "----------------------------------------------------------------------\n",
      "Ran 4 tests in 0.000s\n",
      "\n",
      "OK\n"
     ]
    }
   ],
   "source": [
    "!cd testing_python && python -m unittest discover -s tests"
   ]
  },
  {
   "cell_type": "markdown",
   "metadata": {},
   "source": [
    "Ha encontrado los tests y los ha pasado correctamente"
   ]
  },
  {
   "cell_type": "markdown",
   "metadata": {},
   "source": [
    "## Configuración de los tests"
   ]
  },
  {
   "cell_type": "markdown",
   "metadata": {},
   "source": [
    "### `setUp`"
   ]
  },
  {
   "cell_type": "markdown",
   "metadata": {},
   "source": [
    "Con la librería `unittest` podemos configurar los tests, pero para verlo, primero vamos a crear un nuevo archivo de código llamado `bank_account.py` en la carpeta `src`"
   ]
  },
  {
   "cell_type": "code",
   "execution_count": 43,
   "metadata": {},
   "outputs": [],
   "source": [
    "!echo \"class BankAccount:\"                           > testing_python/src/bank_account.py\n",
    "!echo \"    def __init__(self, balance=0):\"          >> testing_python/src/bank_account.py\n",
    "!echo \"        self.balance = balance\"              >> testing_python/src/bank_account.py\n",
    "!echo \"\"                                            >> testing_python/src/bank_account.py\n",
    "!echo \"    def deposit(self, amount):\"              >> testing_python/src/bank_account.py\n",
    "!echo \"        if amount > 0:\"                      >> testing_python/src/bank_account.py\n",
    "!echo \"            self.balance += amount\"          >> testing_python/src/bank_account.py\n",
    "!echo \"        return self.balance\"                 >> testing_python/src/bank_account.py\n",
    "!echo \"\"                                            >> testing_python/src/bank_account.py\n",
    "!echo \"    def withdraw(self, amount):\"             >> testing_python/src/bank_account.py\n",
    "!echo \"        if amount > 0:\"                      >> testing_python/src/bank_account.py\n",
    "!echo \"            self.balance -= amount\"          >> testing_python/src/bank_account.py\n",
    "!echo \"        return self.balance\"                 >> testing_python/src/bank_account.py\n",
    "!echo \"\"                                            >> testing_python/src/bank_account.py\n",
    "!echo \"    def get_balance(self):\"                  >> testing_python/src/bank_account.py\n",
    "!echo \"        return self.balance\"                 >> testing_python/src/bank_account.py"
   ]
  },
  {
   "cell_type": "markdown",
   "metadata": {},
   "source": [
    "Ahora añadimos test al nuevo código, creando un archivo llamado `test_bank_account.py` en la carpeta `tests`"
   ]
  },
  {
   "cell_type": "markdown",
   "metadata": {},
   "source": [
    "Vamos a crear primero la prueba de añadir depósito, es decir el método `deposit`"
   ]
  },
  {
   "cell_type": "code",
   "execution_count": 44,
   "metadata": {},
   "outputs": [],
   "source": [
    "!echo \"import unittest\"                             > testing_python/tests/test_bank_account.py\n",
    "!echo \"from src.bank_account import BankAccount\"    >> testing_python/tests/test_bank_account.py\n",
    "!echo \"\"                                            >> testing_python/tests/test_bank_account.py\n",
    "!echo \"class TestBankAccount(unittest.TestCase):\"   >> testing_python/tests/test_bank_account.py\n",
    "!echo \"    def test_deposit(self):\"                 >> testing_python/tests/test_bank_account.py\n",
    "!echo \"        account = BankAccount()\"             >> testing_python/tests/test_bank_account.py\n",
    "!echo \"        new_balace = account.deposit(1500)\"  >> testing_python/tests/test_bank_account.py\n",
    "!echo \"        self.assertEqual(new_balace, 1500)\"  >> testing_python/tests/test_bank_account.py"
   ]
  },
  {
   "cell_type": "markdown",
   "metadata": {},
   "source": [
    "Pasamos los test"
   ]
  },
  {
   "cell_type": "code",
   "execution_count": 45,
   "metadata": {},
   "outputs": [
    {
     "name": "stdout",
     "output_type": "stream",
     "text": [
      ".....\n",
      "----------------------------------------------------------------------\n",
      "Ran 5 tests in 0.000s\n",
      "\n",
      "OK\n"
     ]
    }
   ],
   "source": [
    "!cd testing_python && python -m unittest discover -s tests"
   ]
  },
  {
   "cell_type": "markdown",
   "metadata": {},
   "source": [
    "Vemos que hay cinco puntos, pero nosotros solo hemos escrito un test, así que usamos el flag `-v` para ver más información"
   ]
  },
  {
   "cell_type": "code",
   "execution_count": 46,
   "metadata": {},
   "outputs": [
    {
     "name": "stdout",
     "output_type": "stream",
     "text": [
      "test_deposit (test_bank_account.TestBankAccount) ... ok\n",
      "test_divide (test_calculator.TestCalculator) ... ok\n",
      "test_multiply (test_calculator.TestCalculator) ... ok\n",
      "test_substract (test_calculator.TestCalculator) ... ok\n",
      "test_sum (test_calculator.TestCalculator) ... ok\n",
      "\n",
      "----------------------------------------------------------------------\n",
      "Ran 5 tests in 0.000s\n",
      "\n",
      "OK\n"
     ]
    }
   ],
   "source": [
    "!cd testing_python && python -m unittest discover -s tests -v"
   ]
  },
  {
   "cell_type": "markdown",
   "metadata": {},
   "source": [
    "Vemos que `discover` ha encontrado el test `test_calculator` y `test_bank_account` y ha pasado los dos"
   ]
  },
  {
   "cell_type": "markdown",
   "metadata": {},
   "source": [
    "Vamos a crear los tests para el resto de métodos"
   ]
  },
  {
   "cell_type": "code",
   "execution_count": 47,
   "metadata": {},
   "outputs": [],
   "source": [
    "!echo \"import unittest\"                             > testing_python/tests/test_bank_account.py\n",
    "!echo \"from src.bank_account import BankAccount\"    >> testing_python/tests/test_bank_account.py\n",
    "!echo \"\"                                            >> testing_python/tests/test_bank_account.py\n",
    "!echo \"class TestBankAccount(unittest.TestCase):\"   >> testing_python/tests/test_bank_account.py\n",
    "!echo \"    def test_deposit(self):\"                 >> testing_python/tests/test_bank_account.py\n",
    "!echo \"        account = BankAccount(balance=1000)\" >> testing_python/tests/test_bank_account.py\n",
    "!echo \"        new_balace = account.deposit(500)\"   >> testing_python/tests/test_bank_account.py\n",
    "!echo \"        self.assertEqual(new_balace, 1500)\"  >> testing_python/tests/test_bank_account.py\n",
    "!echo \"\"                                            >> testing_python/tests/test_bank_account.py\n",
    "!echo \"    def test_withdraw(self):\"                >> testing_python/tests/test_bank_account.py\n",
    "!echo \"        account = BankAccount(balance=1000)\" >> testing_python/tests/test_bank_account.py\n",
    "!echo \"        new_balace = account.withdraw(200)\"  >> testing_python/tests/test_bank_account.py\n",
    "!echo \"        self.assertEqual(new_balace, 800)\"   >> testing_python/tests/test_bank_account.py\n",
    "!echo \"\"                                            >> testing_python/tests/test_bank_account.py\n",
    "!echo \"    def test_get_balance(self):\"             >> testing_python/tests/test_bank_account.py\n",
    "!echo \"        account = BankAccount(balance=1000)\" >> testing_python/tests/test_bank_account.py\n",
    "!echo \"        balance = account.get_balance()\"     >> testing_python/tests/test_bank_account.py\n",
    "!echo \"        self.assertEqual(balance, 1000)\"     >> testing_python/tests/test_bank_account.py"
   ]
  },
  {
   "cell_type": "markdown",
   "metadata": {},
   "source": [
    "Pasamos los test"
   ]
  },
  {
   "cell_type": "code",
   "execution_count": 48,
   "metadata": {},
   "outputs": [
    {
     "name": "stdout",
     "output_type": "stream",
     "text": [
      "test_deposit (test_bank_account.TestBankAccount) ... ok\n",
      "test_get_balance (test_bank_account.TestBankAccount) ... ok\n",
      "test_withdraw (test_bank_account.TestBankAccount) ... ok\n",
      "test_divide (test_calculator.TestCalculator) ... ok\n",
      "test_multiply (test_calculator.TestCalculator) ... ok\n",
      "test_substract (test_calculator.TestCalculator) ... ok\n",
      "test_sum (test_calculator.TestCalculator) ... ok\n",
      "\n",
      "----------------------------------------------------------------------\n",
      "Ran 7 tests in 0.000s\n",
      "\n",
      "OK\n"
     ]
    }
   ],
   "source": [
    "!cd testing_python && python -m unittest discover -s tests -v"
   ]
  },
  {
   "cell_type": "markdown",
   "metadata": {},
   "source": [
    "Vemos que han pasado satisfactoriamente. Ahora veamos una cosa, en todos los tests hemos hecho `account = BankAccount(balance=1000)` y luego hemos llamado a los métodos, esto es porque cada test se ejecuta en un nuevo objeto, es decir, no se comparten los objetos entre tests.\n",
    "\n",
    "De modo que podemos usar el método `setUp` para crear un objeto que se comparta entre todos los tests"
   ]
  },
  {
   "cell_type": "code",
   "execution_count": 49,
   "metadata": {},
   "outputs": [],
   "source": [
    "!echo \"import unittest\"                                     > testing_python/tests/test_bank_account.py\n",
    "!echo \"from src.bank_account import BankAccount\"            >> testing_python/tests/test_bank_account.py\n",
    "!echo \"\"                                                    >> testing_python/tests/test_bank_account.py\n",
    "!echo \"class TestBankAccount(unittest.TestCase):\"           >> testing_python/tests/test_bank_account.py\n",
    "!echo \"    def setUp(self):\"                                >> testing_python/tests/test_bank_account.py\n",
    "!echo \"        self.account = BankAccount(balance=1000)\"    >> testing_python/tests/test_bank_account.py\n",
    "!echo \"\"                                                    >> testing_python/tests/test_bank_account.py\n",
    "!echo \"    def test_deposit(self):\"                         >> testing_python/tests/test_bank_account.py\n",
    "!echo \"        new_balace = self.account.deposit(500)\"      >> testing_python/tests/test_bank_account.py\n",
    "!echo \"        self.assertEqual(new_balace, 1500)\"          >> testing_python/tests/test_bank_account.py\n",
    "!echo \"\"                                                    >> testing_python/tests/test_bank_account.py\n",
    "!echo \"    def test_withdraw(self):\"                        >> testing_python/tests/test_bank_account.py\n",
    "!echo \"        new_balace = self.account.withdraw(200)\"     >> testing_python/tests/test_bank_account.py\n",
    "!echo \"        self.assertEqual(new_balace, 800)\"           >> testing_python/tests/test_bank_account.py\n",
    "!echo \"\"                                                    >> testing_python/tests/test_bank_account.py\n",
    "!echo \"    def test_get_balance(self):\"                     >> testing_python/tests/test_bank_account.py\n",
    "!echo \"        balance = self.account.get_balance()\"        >> testing_python/tests/test_bank_account.py\n",
    "!echo \"        self.assertEqual(balance, 1000)\"             >> testing_python/tests/test_bank_account.py"
   ]
  },
  {
   "cell_type": "markdown",
   "metadata": {},
   "source": [
    "Como vemos hemos creado la cuenta en el método `setUp` y hemos eliminado la creación de la cuenta en los tests. Vamos a pasar los tests"
   ]
  },
  {
   "cell_type": "code",
   "execution_count": 50,
   "metadata": {},
   "outputs": [
    {
     "name": "stdout",
     "output_type": "stream",
     "text": [
      "test_deposit (test_bank_account.TestBankAccount) ... ok\n",
      "test_get_balance (test_bank_account.TestBankAccount) ... ok\n",
      "test_withdraw (test_bank_account.TestBankAccount) ... ok\n",
      "test_divide (test_calculator.TestCalculator) ... ok\n",
      "test_multiply (test_calculator.TestCalculator) ... ok\n",
      "test_substract (test_calculator.TestCalculator) ... ok\n",
      "test_sum (test_calculator.TestCalculator) ... ok\n",
      "\n",
      "----------------------------------------------------------------------\n",
      "Ran 7 tests in 0.000s\n",
      "\n",
      "OK\n"
     ]
    }
   ],
   "source": [
    "!cd testing_python && python -m unittest discover -s tests -v"
   ]
  },
  {
   "cell_type": "markdown",
   "metadata": {},
   "source": [
    "### `tearDown`"
   ]
  },
  {
   "cell_type": "markdown",
   "metadata": {},
   "source": [
    "Igual que con el método `setUp` configuramos el entorno antes de ejecutar los tests, con el método `tearDown` podemos limpiar el entorno después de ejecutar los tests. Para probarlo vamos a añadir al código de `bank_account.py` que las operaciones se escriban en un archivo de log"
   ]
  },
  {
   "cell_type": "code",
   "execution_count": 73,
   "metadata": {},
   "outputs": [],
   "source": [
    "!echo \"class BankAccount:\"                                                                   > testing_python/src/bank_account.py\n",
    "!echo \"    def __init__(self, balance=0, log_file=None):\"                                   >> testing_python/src/bank_account.py\n",
    "!echo \"        self.balance = balance\"                                                      >> testing_python/src/bank_account.py\n",
    "!echo \"        self.log_file = log_file\"                                                    >> testing_python/src/bank_account.py\n",
    "!echo \"        self._log_transaction('Account created')\"                                    >> testing_python/src/bank_account.py\n",
    "!echo \"\"                                                                                    >> testing_python/src/bank_account.py\n",
    "!echo \"    def _log_transaction(self, message):\"                                            >> testing_python/src/bank_account.py\n",
    "!echo \"        if self.log_file:\"                                                           >> testing_python/src/bank_account.py\n",
    "!echo \"            with open(self.log_file, 'a') as file:\"                                  >> testing_python/src/bank_account.py\n",
    "!echo \"                file.write(f'{message}\\\\\\\\n')\"                                         >> testing_python/src/bank_account.py\n",
    "!echo \"\"                                                                                    >> testing_python/src/bank_account.py\n",
    "!echo \"    def deposit(self, amount):\"                                                      >> testing_python/src/bank_account.py\n",
    "!echo \"        if amount > 0:\"                                                              >> testing_python/src/bank_account.py\n",
    "!echo \"            self.balance += amount\"                                                  >> testing_python/src/bank_account.py\n",
    "!echo \"            self._log_transaction(f'Deposit {amount}, new balance {self.balance}')\"  >> testing_python/src/bank_account.py\n",
    "!echo \"        return self.balance\"                                                         >> testing_python/src/bank_account.py\n",
    "!echo \"\"                                                                                    >> testing_python/src/bank_account.py\n",
    "!echo \"    def withdraw(self, amount):\"                                                     >> testing_python/src/bank_account.py\n",
    "!echo \"        if amount > 0:\"                                                              >> testing_python/src/bank_account.py\n",
    "!echo \"            self.balance -= amount\"                                                  >> testing_python/src/bank_account.py\n",
    "!echo \"            self._log_transaction(f'Withdraw {amount}, new balance {self.balance}')\" >> testing_python/src/bank_account.py\n",
    "!echo \"        return self.balance\"                                                         >> testing_python/src/bank_account.py\n",
    "!echo \"\"                                                                                    >> testing_python/src/bank_account.py\n",
    "!echo \"    def get_balance(self):\"                                                          >> testing_python/src/bank_account.py\n",
    "!echo \"        self._log_transaction(f'Balance check, balance {self.balance}')\"             >> testing_python/src/bank_account.py\n",
    "!echo \"        return self.balance\"                                                         >> testing_python/src/bank_account.py"
   ]
  },
  {
   "cell_type": "markdown",
   "metadata": {},
   "source": [
    "Ahora añadimos un test al nuevo método `_log_transaction`"
   ]
  },
  {
   "cell_type": "code",
   "execution_count": 92,
   "metadata": {},
   "outputs": [],
   "source": [
    "!echo \"import unittest\"                                                                     > testing_python/tests/test_bank_account.py\n",
    "!echo \"import os\"                                                                           >> testing_python/tests/test_bank_account.py\n",
    "!echo \"from src.bank_account import BankAccount\"                                            >> testing_python/tests/test_bank_account.py\n",
    "!echo \"\"                                                                                    >> testing_python/tests/test_bank_account.py\n",
    "!echo \"class TestBankAccount(unittest.TestCase):\"                                           >> testing_python/tests/test_bank_account.py\n",
    "!echo \"    def setUp(self):\"                                                                >> testing_python/tests/test_bank_account.py\n",
    "!echo \"        self.account = BankAccount(balance=1000, log_file='test_log.txt')\"           >> testing_python/tests/test_bank_account.py\n",
    "!echo \"\"                                                                                    >> testing_python/tests/test_bank_account.py\n",
    "!echo \"    def test_deposit(self):\"                                                         >> testing_python/tests/test_bank_account.py\n",
    "!echo \"        new_balace = self.account.deposit(500)\"                                      >> testing_python/tests/test_bank_account.py\n",
    "!echo \"        self.assertEqual(new_balace, 1500)\"                                          >> testing_python/tests/test_bank_account.py\n",
    "!echo \"\"                                                                                    >> testing_python/tests/test_bank_account.py\n",
    "!echo \"    def test_withdraw(self):\"                                                        >> testing_python/tests/test_bank_account.py\n",
    "!echo \"        new_balace = self.account.withdraw(200)\"                                     >> testing_python/tests/test_bank_account.py\n",
    "!echo \"        self.assertEqual(new_balace, 800)\"                                           >> testing_python/tests/test_bank_account.py\n",
    "!echo \"\"                                                                                    >> testing_python/tests/test_bank_account.py\n",
    "!echo \"    def test_get_balance(self):\"                                                     >> testing_python/tests/test_bank_account.py\n",
    "!echo \"        balance = self.account.get_balance()\"                                        >> testing_python/tests/test_bank_account.py\n",
    "!echo \"        self.assertEqual(balance, 1000)\"                                             >> testing_python/tests/test_bank_account.py\n",
    "!echo \"\"                                                                                    >> testing_python/tests/test_bank_account.py\n",
    "!echo \"    def test_transaction_log(self):\"                                                 >> testing_python/tests/test_bank_account.py\n",
    "!echo \"        self.account.deposit(500)\"                                                   >> testing_python/tests/test_bank_account.py\n",
    "!echo \"        self.account.withdraw(200)\"                                                  >> testing_python/tests/test_bank_account.py\n",
    "!echo \"        self.account.get_balance()\"                                                  >> testing_python/tests/test_bank_account.py\n",
    "!echo \"        assert os.path.exists('test_log.txt')\"                                       >> testing_python/tests/test_bank_account.py\n",
    "!echo \"        with open('test_log.txt', 'r') as file:\"                                     >> testing_python/tests/test_bank_account.py\n",
    "!echo \"            content = file.readlines()\"                                              >> testing_python/tests/test_bank_account.py\n",
    "!echo \"        self.assertEqual(content, [\"                                                 >> testing_python/tests/test_bank_account.py\n",
    "!echo \"            'Account created\\\\\\n', \"                                                 >> testing_python/tests/test_bank_account.py\n",
    "!echo \"            'Deposit 500, new balance 1500\\\\\\n', \"                                   >> testing_python/tests/test_bank_account.py\n",
    "!echo \"            'Account created\\\\\\n', \"                                                 >> testing_python/tests/test_bank_account.py\n",
    "!echo \"            'Balance check, balance 1000\\\\\\n', \"                                     >> testing_python/tests/test_bank_account.py\n",
    "!echo \"            'Account created\\\\\\n', \"                                                 >> testing_python/tests/test_bank_account.py\n",
    "!echo \"            'Deposit 500, new balance 1500\\\\\\n', \"                                   >> testing_python/tests/test_bank_account.py\n",
    "!echo \"            'Withdraw 200, new balance 1300\\\\\\n', \"                                  >> testing_python/tests/test_bank_account.py\n",
    "!echo \"            'Balance check, balance 1300\\\\\\n'])\"                                     >> testing_python/tests/test_bank_account.py"
   ]
  },
  {
   "cell_type": "markdown",
   "metadata": {},
   "source": [
    "Pasamos los tests"
   ]
  },
  {
   "cell_type": "code",
   "execution_count": 93,
   "metadata": {},
   "outputs": [
    {
     "name": "stdout",
     "output_type": "stream",
     "text": [
      "test_deposit (test_bank_account.TestBankAccount) ... ok\n",
      "test_get_balance (test_bank_account.TestBankAccount) ... ok\n",
      "test_transaction_log (test_bank_account.TestBankAccount) ... FAIL\n",
      "test_withdraw (test_bank_account.TestBankAccount) ... ok\n",
      "test_divide (test_calculator.TestCalculator) ... ok\n",
      "test_multiply (test_calculator.TestCalculator) ... ok\n",
      "test_substract (test_calculator.TestCalculator) ... ok\n",
      "test_sum (test_calculator.TestCalculator) ... ok\n",
      "\n",
      "======================================================================\n",
      "FAIL: test_transaction_log (test_bank_account.TestBankAccount)\n",
      "----------------------------------------------------------------------\n",
      "Traceback (most recent call last):\n",
      "  File \"/home/wallabot/Documentos/web/portafolio/posts/testing_python/tests/test_bank_account.py\", line 28, in test_transaction_log\n",
      "    self.assertEqual(content, [\n",
      "AssertionError: Lists differ: ['Acc[224 chars]00\\n', 'Account created\\n', 'Withdraw 200, new[246 chars]0\\n'] != ['Acc[224 chars]00\\n']\n",
      "\n",
      "First list contains 10 additional elements.\n",
      "First extra element 8:\n",
      "'Account created\\n'\n",
      "\n",
      "  ['Account created\\n',\n",
      "   'Deposit 500, new balance 1500\\n',\n",
      "   'Account created\\n',\n",
      "   'Balance check, balance 1000\\n',\n",
      "   'Account created\\n',\n",
      "   'Deposit 500, new balance 1500\\n',\n",
      "   'Withdraw 200, new balance 1300\\n',\n",
      "-  'Balance check, balance 1300\\n',\n",
      "-  'Account created\\n',\n",
      "-  'Withdraw 200, new balance 800\\n',\n",
      "-  'Account created\\n',\n",
      "-  'Deposit 500, new balance 1500\\n',\n",
      "-  'Account created\\n',\n",
      "-  'Balance check, balance 1000\\n',\n",
      "-  'Account created\\n',\n",
      "-  'Deposit 500, new balance 1500\\n',\n",
      "-  'Withdraw 200, new balance 1300\\n',\n",
      "   'Balance check, balance 1300\\n']\n",
      "\n",
      "----------------------------------------------------------------------\n",
      "Ran 8 tests in 0.001s\n",
      "\n",
      "FAILED (failures=1)\n"
     ]
    }
   ],
   "source": [
    "!cd testing_python && python -m unittest discover -s tests -v"
   ]
  },
  {
   "cell_type": "markdown",
   "metadata": {},
   "source": [
    "Los test han salido bien, pero vemos que en el archivo de log hay muchas líneas con el texto `Account created`, esto es porque al principio de cada test se ejecuta el método `setUp` que crea una cuenta, por lo que tenemos que crear el método `tearDown` para eliminar el archivo de log después de cada test"
   ]
  },
  {
   "cell_type": "markdown",
   "metadata": {},
   "source": [
    "Como es un archivo generado para el test, no debería exixtir después de ejecutar los tests, así que vamos a añadir el método `tearDown` para borrar el archivo"
   ]
  },
  {
   "cell_type": "code",
   "execution_count": 98,
   "metadata": {},
   "outputs": [],
   "source": [
    "!echo \"import unittest\"                                                                     > testing_python/tests/test_bank_account.py\n",
    "!echo \"import os\"                                                                           >> testing_python/tests/test_bank_account.py\n",
    "!echo \"from src.bank_account import BankAccount\"                                            >> testing_python/tests/test_bank_account.py\n",
    "!echo \"\"                                                                                    >> testing_python/tests/test_bank_account.py\n",
    "!echo \"class TestBankAccount(unittest.TestCase):\"                                           >> testing_python/tests/test_bank_account.py\n",
    "!echo \"    def setUp(self):\"                                                                >> testing_python/tests/test_bank_account.py\n",
    "!echo \"        self.account = BankAccount(balance=1000, log_file='test_log.txt')\"           >> testing_python/tests/test_bank_account.py\n",
    "!echo \"\"                                                                                    >> testing_python/tests/test_bank_account.py\n",
    "!echo \"    def tearDown(self):\"                                                             >> testing_python/tests/test_bank_account.py\n",
    "!echo \"        if os.path.exists('test_log.txt'):\"                                          >> testing_python/tests/test_bank_account.py\n",
    "!echo \"            os.remove('test_log.txt')\"                                               >> testing_python/tests/test_bank_account.py\n",
    "!echo \"\"                                                                                    >> testing_python/tests/test_bank_account.py\n",
    "!echo \"    def test_deposit(self):\"                                                         >> testing_python/tests/test_bank_account.py\n",
    "!echo \"        new_balace = self.account.deposit(500)\"                                      >> testing_python/tests/test_bank_account.py\n",
    "!echo \"        self.assertEqual(new_balace, 1500)\"                                          >> testing_python/tests/test_bank_account.py\n",
    "!echo \"\"                                                                                    >> testing_python/tests/test_bank_account.py\n",
    "!echo \"    def test_withdraw(self):\"                                                        >> testing_python/tests/test_bank_account.py\n",
    "!echo \"        new_balace = self.account.withdraw(200)\"                                     >> testing_python/tests/test_bank_account.py\n",
    "!echo \"        self.assertEqual(new_balace, 800)\"                                           >> testing_python/tests/test_bank_account.py\n",
    "!echo \"\"                                                                                    >> testing_python/tests/test_bank_account.py\n",
    "!echo \"    def test_get_balance(self):\"                                                     >> testing_python/tests/test_bank_account.py\n",
    "!echo \"        balance = self.account.get_balance()\"                                        >> testing_python/tests/test_bank_account.py\n",
    "!echo \"        self.assertEqual(balance, 1000)\"                                             >> testing_python/tests/test_bank_account.py\n",
    "!echo \"\"                                                                                    >> testing_python/tests/test_bank_account.py\n",
    "!echo \"    def test_transaction_log(self):\"                                                 >> testing_python/tests/test_bank_account.py\n",
    "!echo \"        self.account.deposit(500)\"                                                   >> testing_python/tests/test_bank_account.py\n",
    "!echo \"        self.account.withdraw(200)\"                                                  >> testing_python/tests/test_bank_account.py\n",
    "!echo \"        self.account.get_balance()\"                                                  >> testing_python/tests/test_bank_account.py\n",
    "!echo \"        assert os.path.exists('test_log.txt')\"                                       >> testing_python/tests/test_bank_account.py\n",
    "!echo \"        with open('test_log.txt', 'r') as file:\"                                     >> testing_python/tests/test_bank_account.py\n",
    "!echo \"            content = file.readlines()\"                                              >> testing_python/tests/test_bank_account.py\n",
    "!echo \"        self.assertEqual(content, [\"                                                 >> testing_python/tests/test_bank_account.py\n",
    "!echo \"            'Account created\\\\\\n', \"                                                 >> testing_python/tests/test_bank_account.py\n",
    "!echo \"            'Deposit 500, new balance 1500\\\\\\n', \"                                   >> testing_python/tests/test_bank_account.py\n",
    "!echo \"            'Account created\\\\\\n', \"                                                 >> testing_python/tests/test_bank_account.py\n",
    "!echo \"            'Balance check, balance 1000\\\\\\n', \"                                     >> testing_python/tests/test_bank_account.py\n",
    "!echo \"            'Account created\\\\\\n', \"                                                 >> testing_python/tests/test_bank_account.py\n",
    "!echo \"            'Deposit 500, new balance 1500\\\\\\n', \"                                   >> testing_python/tests/test_bank_account.py\n",
    "!echo \"            'Withdraw 200, new balance 1300\\\\\\n', \"                                  >> testing_python/tests/test_bank_account.py\n",
    "!echo \"            'Balance check, balance 1300\\\\\\n'\"                                     >> testing_python/tests/test_bank_account.py\n",
    "!echo \"            ])\"                                     >> testing_python/tests/test_bank_account.py"
   ]
  },
  {
   "cell_type": "markdown",
   "metadata": {},
   "source": [
    "Volvemos a pasar los test"
   ]
  },
  {
   "cell_type": "code",
   "execution_count": 99,
   "metadata": {},
   "outputs": [
    {
     "name": "stdout",
     "output_type": "stream",
     "text": [
      "test_deposit (test_bank_account.TestBankAccount) ... ok\n",
      "test_get_balance (test_bank_account.TestBankAccount) ... ok\n",
      "test_transaction_log (test_bank_account.TestBankAccount) ... FAIL\n",
      "test_withdraw (test_bank_account.TestBankAccount) ... ok\n",
      "test_divide (test_calculator.TestCalculator) ... ok\n",
      "test_multiply (test_calculator.TestCalculator) ... ok\n",
      "test_substract (test_calculator.TestCalculator) ... ok\n",
      "test_sum (test_calculator.TestCalculator) ... ok\n",
      "\n",
      "======================================================================\n",
      "FAIL: test_transaction_log (test_bank_account.TestBankAccount)\n",
      "----------------------------------------------------------------------\n",
      "Traceback (most recent call last):\n",
      "  File \"/home/wallabot/Documentos/web/portafolio/posts/testing_python/tests/test_bank_account.py\", line 32, in test_transaction_log\n",
      "    self.assertEqual(content, [\n",
      "AssertionError: Lists differ: ['Acc[48 chars]n', 'Withdraw 200, new balance 1300\\n', 'Balan[21 chars]0\\n'] != ['Acc[48 chars]n', 'Account created\\n', 'Balance check, balan[131 chars]0\\n']\n",
      "\n",
      "First differing element 2:\n",
      "'Withdraw 200, new balance 1300\\n'\n",
      "'Account created\\n'\n",
      "\n",
      "Second list contains 4 additional elements.\n",
      "First extra element 4:\n",
      "'Account created\\n'\n",
      "\n",
      "  ['Account created\\n',\n",
      "+  'Deposit 500, new balance 1500\\n',\n",
      "+  'Account created\\n',\n",
      "+  'Balance check, balance 1000\\n',\n",
      "+  'Account created\\n',\n",
      "   'Deposit 500, new balance 1500\\n',\n",
      "   'Withdraw 200, new balance 1300\\n',\n",
      "   'Balance check, balance 1300\\n']\n",
      "\n",
      "----------------------------------------------------------------------\n",
      "Ran 8 tests in 0.001s\n",
      "\n",
      "FAILED (failures=1)\n"
     ]
    }
   ],
   "source": [
    "!cd testing_python && python -m unittest discover -s tests -v"
   ]
  },
  {
   "cell_type": "markdown",
   "metadata": {},
   "source": [
    "Pero ahora nos da error, porque como al final de cada prueba hemos eliminado el archivo de log, ya no hay que comprobar que se haya escrito tanto texto, sino solo el del test que estamos haciendo. Así que vamos a modificar el test para que solo compruebe que se ha escrito el texto del test"
   ]
  },
  {
   "cell_type": "code",
   "execution_count": 100,
   "metadata": {},
   "outputs": [],
   "source": [
    "!echo \"import unittest\"                                                                     > testing_python/tests/test_bank_account.py\n",
    "!echo \"import os\"                                                                           >> testing_python/tests/test_bank_account.py\n",
    "!echo \"from src.bank_account import BankAccount\"                                            >> testing_python/tests/test_bank_account.py\n",
    "!echo \"\"                                                                                    >> testing_python/tests/test_bank_account.py\n",
    "!echo \"class TestBankAccount(unittest.TestCase):\"                                           >> testing_python/tests/test_bank_account.py\n",
    "!echo \"    def setUp(self):\"                                                                >> testing_python/tests/test_bank_account.py\n",
    "!echo \"        self.account = BankAccount(balance=1000, log_file='test_log.txt')\"           >> testing_python/tests/test_bank_account.py\n",
    "!echo \"\"                                                                                    >> testing_python/tests/test_bank_account.py\n",
    "!echo \"    def tearDown(self):\"                                                             >> testing_python/tests/test_bank_account.py\n",
    "!echo \"        if os.path.exists('test_log.txt'):\"                                          >> testing_python/tests/test_bank_account.py\n",
    "!echo \"            os.remove('test_log.txt')\"                                               >> testing_python/tests/test_bank_account.py\n",
    "!echo \"\"                                                                                    >> testing_python/tests/test_bank_account.py\n",
    "!echo \"    def test_deposit(self):\"                                                         >> testing_python/tests/test_bank_account.py\n",
    "!echo \"        new_balace = self.account.deposit(500)\"                                      >> testing_python/tests/test_bank_account.py\n",
    "!echo \"        self.assertEqual(new_balace, 1500)\"                                          >> testing_python/tests/test_bank_account.py\n",
    "!echo \"\"                                                                                    >> testing_python/tests/test_bank_account.py\n",
    "!echo \"    def test_withdraw(self):\"                                                        >> testing_python/tests/test_bank_account.py\n",
    "!echo \"        new_balace = self.account.withdraw(200)\"                                     >> testing_python/tests/test_bank_account.py\n",
    "!echo \"        self.assertEqual(new_balace, 800)\"                                           >> testing_python/tests/test_bank_account.py\n",
    "!echo \"\"                                                                                    >> testing_python/tests/test_bank_account.py\n",
    "!echo \"    def test_get_balance(self):\"                                                     >> testing_python/tests/test_bank_account.py\n",
    "!echo \"        balance = self.account.get_balance()\"                                        >> testing_python/tests/test_bank_account.py\n",
    "!echo \"        self.assertEqual(balance, 1000)\"                                             >> testing_python/tests/test_bank_account.py\n",
    "!echo \"\"                                                                                    >> testing_python/tests/test_bank_account.py\n",
    "!echo \"    def test_transaction_log(self):\"                                                 >> testing_python/tests/test_bank_account.py\n",
    "!echo \"        self.account.deposit(500)\"                                                   >> testing_python/tests/test_bank_account.py\n",
    "!echo \"        self.account.withdraw(200)\"                                                  >> testing_python/tests/test_bank_account.py\n",
    "!echo \"        self.account.get_balance()\"                                                  >> testing_python/tests/test_bank_account.py\n",
    "!echo \"        assert os.path.exists('test_log.txt')\"                                       >> testing_python/tests/test_bank_account.py\n",
    "!echo \"        with open('test_log.txt', 'r') as file:\"                                     >> testing_python/tests/test_bank_account.py\n",
    "!echo \"            content = file.readlines()\"                                              >> testing_python/tests/test_bank_account.py\n",
    "!echo \"        self.assertEqual(content, [\"                                                 >> testing_python/tests/test_bank_account.py\n",
    "!echo \"            'Account created\\\\\\n', \"                                                 >> testing_python/tests/test_bank_account.py\n",
    "!echo \"            'Deposit 500, new balance 1500\\\\\\n', \"                                   >> testing_python/tests/test_bank_account.py\n",
    "!echo \"            'Withdraw 200, new balance 1300\\\\\\n', \"                                  >> testing_python/tests/test_bank_account.py\n",
    "!echo \"            'Balance check, balance 1300\\\\\\n'\"                                     >> testing_python/tests/test_bank_account.py\n",
    "!echo \"            ])\"                                     >> testing_python/tests/test_bank_account.py"
   ]
  },
  {
   "cell_type": "markdown",
   "metadata": {},
   "source": [
    "Y pasamos los test"
   ]
  },
  {
   "cell_type": "code",
   "execution_count": 101,
   "metadata": {},
   "outputs": [
    {
     "name": "stdout",
     "output_type": "stream",
     "text": [
      "test_deposit (test_bank_account.TestBankAccount) ... ok\n",
      "test_get_balance (test_bank_account.TestBankAccount) ... ok\n",
      "test_transaction_log (test_bank_account.TestBankAccount) ... ok\n",
      "test_withdraw (test_bank_account.TestBankAccount) ... ok\n",
      "test_divide (test_calculator.TestCalculator) ... ok\n",
      "test_multiply (test_calculator.TestCalculator) ... ok\n",
      "test_substract (test_calculator.TestCalculator) ... ok\n",
      "test_sum (test_calculator.TestCalculator) ... ok\n",
      "\n",
      "----------------------------------------------------------------------\n",
      "Ran 8 tests in 0.001s\n",
      "\n",
      "OK\n"
     ]
    }
   ],
   "source": [
    "!cd testing_python && python -m unittest discover -s tests -v"
   ]
  },
  {
   "cell_type": "code",
   "execution_count": null,
   "metadata": {},
   "outputs": [],
   "source": []
  }
 ],
 "metadata": {
  "kernelspec": {
   "display_name": "base",
   "language": "python",
   "name": "python3"
  },
  "language_info": {
   "codemirror_mode": {
    "name": "ipython",
    "version": 3
   },
   "file_extension": ".py",
   "mimetype": "text/x-python",
   "name": "python",
   "nbconvert_exporter": "python",
   "pygments_lexer": "ipython3",
   "version": "3.10.9"
  }
 },
 "nbformat": 4,
 "nbformat_minor": 2
}
