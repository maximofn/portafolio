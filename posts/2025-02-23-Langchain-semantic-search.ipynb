{
 "cells": [
  {
   "cell_type": "markdown",
   "metadata": {},
   "source": [
    "# Langchain - Semantic Search"
   ]
  },
  {
   "cell_type": "markdown",
   "metadata": {},
   "source": [
    "Este post vamos a ver cómo usar [El cargador de documentos](https://python.langchain.com/docs/concepts/document_loaders), el uso y cómo crear [embeddings](https://python.langchain.com/docs/concepts/embedding_models/) y el uso de [bases de datos vectoriales](https://python.langchain.com/docs/concepts/vectorstores).\n",
    "\n",
    "Estas funciones están diseñadas para gestionar la recuperación de datos de bases de datos (vector) y otras fuentes para la integración con flujos de trabajo con LLMs.\n",
    "\n",
    "Son importantes para las aplicaciones que obtienen datos para ser razonados como parte de la inferencia del modelo, como en el caso de [RAG](https://python.langchain.com/docs/concepts/rag/)."
   ]
  },
  {
   "cell_type": "markdown",
   "metadata": {},
   "source": [
    "Vamos a construir un motor de búsqueda sobre un documento PDF. Esto nos permitirá recuperar datos en el PDF"
   ]
  },
  {
   "cell_type": "markdown",
   "metadata": {},
   "source": [
    "## Instalación de librerías"
   ]
  },
  {
   "cell_type": "markdown",
   "metadata": {},
   "source": [
    "Para este post vamos a necesitar instalar las librerías `langchain-community` y `pypdf`, para ello las instalamos con conda\n",
    "\n",
    "``` bash\n",
    "conda install langchain-community pypdf -c conda-forge\n",
    "```\n",
    "\n",
    "o con pip\n",
    "\n",
    "``` bash\n",
    "pip install langchain-community pypdf\n",
    "```"
   ]
  },
  {
   "cell_type": "markdown",
   "metadata": {},
   "source": [
    "### Token de LangSmith (opcional)"
   ]
  },
  {
   "cell_type": "markdown",
   "metadata": {},
   "source": [
    "Mediante LangSmith podemos guardar las llamadas a los modelos y ver las métricas de las llamadas. Pera ello, necesitamos crear un token de LangSmith."
   ]
  },
  {
   "cell_type": "markdown",
   "metadata": {},
   "source": [
    "Ahora configuramos LangSmith para que guarde las llamadas a los modelos."
   ]
  },
  {
   "cell_type": "code",
   "execution_count": 1,
   "metadata": {},
   "outputs": [],
   "source": [
    "import os\n",
    "import dotenv\n",
    "\n",
    "dotenv.load_dotenv()\n",
    "\n",
    "LANGSMITH_API_KEY = os.getenv(\"LANGSMITH_API_KEY\")\n",
    "LANGSMITH_TRACING = os.getenv(\"LANGSMITH_TRACING\")"
   ]
  },
  {
   "cell_type": "code",
   "execution_count": 2,
   "metadata": {},
   "outputs": [],
   "source": [
    "import os\n",
    "\n",
    "LANGSMITH_API_KEY = os.getenv(\"LANGSMITH_API_KEY\")\n",
    "LANGSMITH_TRACING = os.getenv(\"LANGSMITH_TRACING\")\n",
    "\n",
    "os.environ[\"LANGSMITH_API_KEY\"] = LANGSMITH_API_KEY\n",
    "os.environ[\"LANGSMITH_TRACING\"] = LANGSMITH_TRACING"
   ]
  },
  {
   "cell_type": "markdown",
   "metadata": {},
   "source": [
    "## Documentos y cargadores de documentos"
   ]
  },
  {
   "cell_type": "markdown",
   "metadata": {},
   "source": [
    "LangChain tiene la librería [Documento](https://python.langchain.com/api_reference/core/documents/langchain_core.documents.base.Document.html), que pretende representar una unidad de texto y metadatos asociados. Tiene tres atributos:\n",
    "\n",
    " + ``page_content``: una cadena que representa el contenido;\n",
    " + ``metadata``: un dict que contiene metadatos arbitrarios;\n",
    " + ``id``: ``(opcional)`` un identificador de cadena para el documento.\n",
    "\n",
    "El atributo metadata puede capturar información sobre la fuente del documento, su relación con otros documentos y otra información. Un objeto ``Document`` a menudo representa una parte de un documento más grande."
   ]
  },
  {
   "cell_type": "markdown",
   "metadata": {},
   "source": [
    "Vamos a ver cómo crear un ``Document``"
   ]
  },
  {
   "cell_type": "code",
   "execution_count": 3,
   "metadata": {},
   "outputs": [],
   "source": [
    "from langchain_core.documents import Document\n",
    "\n",
    "documents = [\n",
    "    Document(\n",
    "        page_content=\"Dogs are great companions, known for their loyalty and friendliness.\",\n",
    "        metadata={\"source\": \"mammal-pets-doc\"},\n",
    "    ),\n",
    "    Document(\n",
    "        page_content=\"Cats are independent pets that often enjoy their own space.\",\n",
    "        metadata={\"source\": \"mammal-pets-doc\"},\n",
    "    ),\n",
    "]"
   ]
  },
  {
   "cell_type": "markdown",
   "metadata": {},
   "source": [
    "## Document loaders"
   ]
  },
  {
   "cell_type": "markdown",
   "metadata": {},
   "source": [
    "LangChain implementa la herramienta de [cargadores de documentos](https://python.langchain.com/docs/concepts/document_loaders/) que se puede usar con cientos de [fuentes comunes](https://python.langchain.com/docs/integrations/document_loaders/). Esto facilita la incorporación de datos de estas fuentes en su aplicación de IA"
   ]
  },
  {
   "cell_type": "markdown",
   "metadata": {},
   "source": [
    "Vamos a cargar un PDF como un objeto ``Document``. [Aquí](https://github.com/langchain-ai/langchain/tree/master/docs/docs/example_data) hay un ejemplo de un PDF, un reporte aunal del 2023 de Nike.\n",
    "\n",
    "Podemos ver los posibles [cargadores de documentos PDF](https://python.langchain.com/docs/integrations/document_loaders/#pdfs) disponibles en Langchain. Vamos a usar ``PyPDFLoader``, que es bastante ligero."
   ]
  },
  {
   "cell_type": "markdown",
   "metadata": {},
   "source": [
    "Primero cargamos el PDF"
   ]
  },
  {
   "cell_type": "code",
   "execution_count": 4,
   "metadata": {},
   "outputs": [],
   "source": [
    "from langchain_community.document_loaders import PyPDFLoader\n",
    "\n",
    "file_path = \"nke-10k-2023.pdf\"\n",
    "loader = PyPDFLoader(file_path)\n",
    "\n",
    "docs = loader.load()"
   ]
  },
  {
   "cell_type": "markdown",
   "metadata": {},
   "source": [
    "PyPDFLoader carga el contenido de cada hoja del PDF como un ``Document``, así que vemos cuantos documentos tenemos, que debería ser igual al número de hojas del PDF."
   ]
  },
  {
   "cell_type": "code",
   "execution_count": 5,
   "metadata": {},
   "outputs": [
    {
     "name": "stdout",
     "output_type": "stream",
     "text": [
      "107\n"
     ]
    }
   ],
   "source": [
    "print(len(docs))"
   ]
  },
  {
   "cell_type": "markdown",
   "metadata": {},
   "source": [
    "Obtenemos 107 documentos, que son las 107 hojas del PDF."
   ]
  },
  {
   "cell_type": "markdown",
   "metadata": {},
   "source": [
    "Vamos a ver el contenido de la primera página"
   ]
  },
  {
   "cell_type": "code",
   "execution_count": 6,
   "metadata": {},
   "outputs": [
    {
     "name": "stdout",
     "output_type": "stream",
     "text": [
      "Table of Contents\n",
      "UNITED STATES\n",
      "SECURITIES AND EXCHANGE COMMISSION\n",
      "Washington, D.C. 20549\n",
      "FORM 10-K\n",
      "(Mark One)\n",
      "☑  ANNUAL REPORT PURSUANT TO SECTION 13 OR 15(D) OF THE SECURITIES EXCHANGE ACT OF 1934\n",
      "FOR THE FISCAL YEAR ENDED MAY 31, 2023\n",
      "OR\n",
      "☐  TRANSITION REPORT PURSUANT TO SECTION 13 OR 15(D) OF THE SECURITIES EXCHANGE ACT OF 1934\n",
      "FOR THE TRANSITION PERIOD FROM                         TO                         .\n",
      "Commission File No. 1-10635\n",
      "NIKE, Inc.\n",
      "(Exact name of Registrant as specified in it\n"
     ]
    }
   ],
   "source": [
    "print(docs[0].page_content[:500])"
   ]
  },
  {
   "cell_type": "markdown",
   "metadata": {},
   "source": [
    "Vemos también sus metadatos"
   ]
  },
  {
   "cell_type": "code",
   "execution_count": 7,
   "metadata": {},
   "outputs": [
    {
     "data": {
      "text/plain": [
       "{'producer': 'EDGRpdf Service w/ EO.Pdf 22.0.40.0',\n",
       " 'creator': 'EDGAR Filing HTML Converter',\n",
       " 'creationdate': '2023-07-20T16:22:00-04:00',\n",
       " 'title': '0000320187-23-000039',\n",
       " 'author': 'EDGAR Online, a division of Donnelley Financial Solutions',\n",
       " 'subject': 'Form 10-K filed on 2023-07-20 for the period ending 2023-05-31',\n",
       " 'keywords': '0000320187-23-000039; ; 10-K',\n",
       " 'moddate': '2023-07-20T16:22:08-04:00',\n",
       " 'source': 'nke-10k-2023.pdf',\n",
       " 'total_pages': 107,\n",
       " 'page': 0,\n",
       " 'page_label': '1'}"
      ]
     },
     "execution_count": 7,
     "metadata": {},
     "output_type": "execute_result"
    }
   ],
   "source": [
    "docs[0].metadata"
   ]
  },
  {
   "cell_type": "markdown",
   "metadata": {},
   "source": [
    "## División del contenido en chunks"
   ]
  },
  {
   "cell_type": "markdown",
   "metadata": {},
   "source": [
    "Para fines de recuperación de información, una página puede ser una representación demasiado grande. Así que el objetivo al final será recuperar el objeto ``Document`` que responde a una consulta de entrada y dividirlo aún más ayuda a garantizar que los significados de las partes relevantes del documento no se diluyan con el resto del documento."
   ]
  },
  {
   "cell_type": "markdown",
   "metadata": {},
   "source": [
    "Podemos usar [text splitters](https://python.langchain.com/docs/concepts/text_splitters) para este propósito."
   ]
  },
  {
   "cell_type": "markdown",
   "metadata": {},
   "source": [
    "En este post vamos a usar un divisor de texto simple que particiona en función de los caracteres. Dividiremos el documento en trozos de 1000 caracteres con 200 caracteres de superposición (``overlap``) entre los trozos. La superposición ayuda mitigar la posibilidad de separar una parte de texto con contexto que al separarlo deja de tener el mismo significado."
   ]
  },
  {
   "cell_type": "markdown",
   "metadata": {},
   "source": [
    "Vamos a usar [RecursivoCaracterTextSplitter](https://python.langchain.com/docs/how_to/recursive_text_splitter), que dividirá recursivamente el documento usando separadores comunes como nuevas líneas hasta que cada fragmento sea del tamaño apropiado. Este es el divisor de texto recomendado para casos de uso de texto genérico."
   ]
  },
  {
   "cell_type": "code",
   "execution_count": 8,
   "metadata": {},
   "outputs": [],
   "source": [
    "from langchain_text_splitters import RecursiveCharacterTextSplitter\n",
    "\n",
    "text_splitter = RecursiveCharacterTextSplitter(\n",
    "    chunk_size=1000, chunk_overlap=200, add_start_index=True\n",
    ")\n",
    "all_splits = text_splitter.split_documents(docs)"
   ]
  },
  {
   "cell_type": "markdown",
   "metadata": {},
   "source": [
    "Una vez dividido el documento, vemos el número de chunks"
   ]
  },
  {
   "cell_type": "code",
   "execution_count": 9,
   "metadata": {},
   "outputs": [
    {
     "data": {
      "text/plain": [
       "516"
      ]
     },
     "execution_count": 9,
     "metadata": {},
     "output_type": "execute_result"
    }
   ],
   "source": [
    "len(all_splits)"
   ]
  },
  {
   "cell_type": "markdown",
   "metadata": {},
   "source": [
    "## Embeddings"
   ]
  },
  {
   "cell_type": "markdown",
   "metadata": {},
   "source": [
    "Los [embeddings](https://python.langchain.com/docs/concepts/embedding_models) son una forma común de almacenar y buscar datos no estructurados (como texto no estructurado). La idea es crear embeddings de cada chunck y almacenarlos en una base de datos vectorial."
   ]
  },
  {
   "cell_type": "markdown",
   "metadata": {},
   "source": [
    "Dada una consulta, la convertimos a embeddings y la comparamos con los embeddings de cada chunk para encontrar el más similar, por ejemplo, usando la similitud de coseno."
   ]
  },
  {
   "cell_type": "markdown",
   "metadata": {},
   "source": [
    "``LangChain`` admite embeddings de docenas de [proveedores](https://python.langchain.com/docs/integrations/text_embedding). Estos modelos especifican cómo el texto debe convertirse en un embedding."
   ]
  },
  {
   "cell_type": "markdown",
   "metadata": {},
   "source": [
    "Nosotros vamos a usar los modelos de embeddings de Hugging Face. Así que creamos el modelo de embeddings"
   ]
  },
  {
   "cell_type": "code",
   "execution_count": 11,
   "metadata": {},
   "outputs": [],
   "source": [
    "from langchain_huggingface import HuggingFaceEmbeddings\n",
    "\n",
    "embeddings = HuggingFaceEmbeddings(model_name=\"sentence-transformers/all-mpnet-base-v2\")"
   ]
  },
  {
   "cell_type": "markdown",
   "metadata": {},
   "source": [
    "Creamos los embeddings de dos chunks"
   ]
  },
  {
   "cell_type": "code",
   "execution_count": 12,
   "metadata": {},
   "outputs": [],
   "source": [
    "vector_1 = embeddings.embed_query(all_splits[0].page_content)\n",
    "vector_2 = embeddings.embed_query(all_splits[1].page_content)"
   ]
  },
  {
   "cell_type": "markdown",
   "metadata": {},
   "source": [
    "Primero comprobamos que la longitud de los dos embeddings es la misma"
   ]
  },
  {
   "cell_type": "code",
   "execution_count": 13,
   "metadata": {},
   "outputs": [
    {
     "name": "stdout",
     "output_type": "stream",
     "text": [
      "Generated vectors of length 768\n",
      "\n"
     ]
    }
   ],
   "source": [
    "assert len(vector_1) == len(vector_2)\n",
    "print(f\"Generated vectors of length {len(vector_1)}\\n\")"
   ]
  },
  {
   "cell_type": "markdown",
   "metadata": {},
   "source": [
    "## Bases de datos vectoriales"
   ]
  },
  {
   "cell_type": "markdown",
   "metadata": {},
   "source": [
    "Los objetos [VectorStore](https://python.langchain.com/api_reference/core/vectorstores/langchain_core.vectorstores.base.VectorStore.html) de ``LangChain`` contienen métodos para agregar texto y objetos ``Document`` a la base de datos vectorial y consultarlos utilizando varias métricas de similitud. A menudo se inicializan con modelos de [embeddings](https://python.langchain.com/docs/how_to/embed_text), que determinan cómo se traducen los datos de texto a vectores de embeddings."
   ]
  },
  {
   "cell_type": "markdown",
   "metadata": {},
   "source": [
    "``LangChain`` incluye un conjunto de [integraciones](https://python.langchain.com/docs/integrations/vectorstores) con diferentes tecnologías de almacenamiento de embeddings.\n",
    "\n",
    " + Algunas base de datos vectoriales están alojadas por un proveedor (por ejemplo, varios proveedores de la nube) y requieren credenciales específicas para usar\n",
    " + Algunos (como [Postgres](https://python.langchain.com/docs/integrations/vectorstores/pgvector)) pueden ejecutarse en una infraestructura separada que se puede ejecutar localmente o a través de un tercero\n",
    " + Otros pueden ejecutarse en memoria para cargas de trabajo livianas."
   ]
  },
  {
   "cell_type": "markdown",
   "metadata": {},
   "source": [
    "En este post vamos a usar [ChromaDB](https://www.maximofn.com/chromadb), así que para ello primero tenemos que instalar la librería de ChromaDB de Langchain\n",
    "\n",
    "``` bash\n",
    "pip install -qU langchain-chroma\n",
    "```"
   ]
  },
  {
   "cell_type": "markdown",
   "metadata": {},
   "source": [
    "Una vez instalado, podemos crear una base de datos vectorial en memoria"
   ]
  },
  {
   "cell_type": "code",
   "execution_count": 14,
   "metadata": {},
   "outputs": [],
   "source": [
    "from langchain_chroma import Chroma\n",
    "\n",
    "vector_store = Chroma(embedding_function=embeddings)"
   ]
  },
  {
   "cell_type": "markdown",
   "metadata": {},
   "source": [
    "Una vez creada la base de datos vectorial, podemos agregar los chunks a la base de datos"
   ]
  },
  {
   "cell_type": "code",
   "execution_count": 15,
   "metadata": {},
   "outputs": [],
   "source": [
    "ids = vector_store.add_documents(documents=all_splits)"
   ]
  },
  {
   "cell_type": "markdown",
   "metadata": {},
   "source": [
    "Una vez que hayamos instanciado un ``VectorStore`` que contiene documentos, podemos consultarlo. ``VectorStore`` incluye métodos para consultar:\n",
    " * Sincrónica y asincrónicamente;\n",
    " * Por consulta de cadena y por vector;\n",
    " * Con y sin devolver puntuaciones de similitud;\n",
    " * Por similitud y [máxima relevancia marginal](https://python.langchain.com/api_reference/core/vectorstores/langchain_core.vectorstores.base.VectorStore.html#langchain_core.vectorstores.base.VectorStore.max_marginal_relevance_search) (para equilibrar la similitud con la consulta a la diversidad en los resultados recuperados).\n",
    "\n",
    "Los métodos generalmente incluirán una lista de Documento objetos en sus salidas."
   ]
  },
  {
   "cell_type": "markdown",
   "metadata": {},
   "source": [
    "### Búsqueda por similitud"
   ]
  },
  {
   "cell_type": "markdown",
   "metadata": {},
   "source": [
    "Los embeddings típicamente representan el texto como un vector de tal manera que los textos con significados similares están geométricamente cerca. Esto nos permite recuperar información relevante con solo pasar una pregunta, sin conocimiento de ningún término clave específico utilizado en el documento.\n",
    "\n",
    "De esta manera, podemos recuperar documentos basados en la similitud con una consulta de texto"
   ]
  },
  {
   "cell_type": "code",
   "execution_count": 16,
   "metadata": {},
   "outputs": [
    {
     "name": "stdout",
     "output_type": "stream",
     "text": [
      "page_content='operations. We also lease an office complex in Shanghai, China, our headquarters for our Greater China geography, occupied by employees focused on implementing our\n",
      "wholesale, NIKE Direct and merchandising strategies in the region, among other functions.\n",
      "In the United States, NIKE has eight significant distribution centers. Five are located in or near Memphis, Tennessee, two of which are owned and three of which are\n",
      "leased. Two other distribution centers, one located in Indianapolis, Indiana and one located in Dayton, Tennessee, are leased and operated by third-party logistics\n",
      "providers. One distribution center for Converse is located in Ontario, California, which is leased. NIKE has a number of distribution facilities outside the United States,\n",
      "some of which are leased and operated by third-party logistics providers. The most significant distribution facilities outside the United States are located in Laakdal,' metadata={'author': 'EDGAR Online, a division of Donnelley Financial Solutions', 'creationdate': '2023-07-20T16:22:00-04:00', 'creator': 'EDGAR Filing HTML Converter', 'keywords': '0000320187-23-000039; ; 10-K', 'moddate': '2023-07-20T16:22:08-04:00', 'page': 26, 'page_label': '27', 'producer': 'EDGRpdf Service w/ EO.Pdf 22.0.40.0', 'source': 'nke-10k-2023.pdf', 'start_index': 804, 'subject': 'Form 10-K filed on 2023-07-20 for the period ending 2023-05-31', 'title': '0000320187-23-000039', 'total_pages': 107}\n"
     ]
    }
   ],
   "source": [
    "results = vector_store.similarity_search(\n",
    "    \"How many distribution centers does Nike have in the US?\"\n",
    ")\n",
    "\n",
    "print(results[0])"
   ]
  },
  {
   "cell_type": "markdown",
   "metadata": {},
   "source": [
    "Sin embargo como esto consume un tiempo de crear el embedding de la consulta y después calcular la similitud con cada chunk, podemos hacer esta consulta de manera asíncrona"
   ]
  },
  {
   "cell_type": "code",
   "execution_count": 17,
   "metadata": {},
   "outputs": [
    {
     "name": "stdout",
     "output_type": "stream",
     "text": [
      "page_content='Table of Contents\n",
      "PART I\n",
      "ITEM 1. BUSINESS\n",
      "GENERAL\n",
      "NIKE, Inc. was incorporated in 1967 under the laws of the State of Oregon. As used in this Annual Report on Form 10-K (this \"Annual Report\"), the terms \"we,\" \"us,\" \"our,\"\n",
      "\"NIKE\" and the \"Company\" refer to NIKE, Inc. and its predecessors, subsidiaries and affiliates, collectively, unless the context indicates otherwise.\n",
      "Our principal business activity is the design, development and worldwide marketing and selling of athletic footwear, apparel, equipment, accessories and services. NIKE is\n",
      "the largest seller of athletic footwear and apparel in the world. We sell our products through NIKE Direct operations, which are comprised of both NIKE-owned retail stores\n",
      "and sales through our digital platforms (also referred to as \"NIKE Brand Digital\"), to retail accounts and to a mix of independent distributors, licensees and sales' metadata={'author': 'EDGAR Online, a division of Donnelley Financial Solutions', 'creationdate': '2023-07-20T16:22:00-04:00', 'creator': 'EDGAR Filing HTML Converter', 'keywords': '0000320187-23-000039; ; 10-K', 'moddate': '2023-07-20T16:22:08-04:00', 'page': 3, 'page_label': '4', 'producer': 'EDGRpdf Service w/ EO.Pdf 22.0.40.0', 'source': 'nke-10k-2023.pdf', 'start_index': 0, 'subject': 'Form 10-K filed on 2023-07-20 for the period ending 2023-05-31', 'title': '0000320187-23-000039', 'total_pages': 107}\n"
     ]
    }
   ],
   "source": [
    "results = await vector_store.asimilarity_search(\"When was Nike incorporated?\")\n",
    "\n",
    "print(results[0])"
   ]
  },
  {
   "cell_type": "markdown",
   "metadata": {},
   "source": [
    "### Búsqueda por similitud con puntuación"
   ]
  },
  {
   "cell_type": "markdown",
   "metadata": {},
   "source": [
    "Podemos obtener los resultados con las puntuaciones de similitud"
   ]
  },
  {
   "cell_type": "code",
   "execution_count": 18,
   "metadata": {},
   "outputs": [
    {
     "name": "stdout",
     "output_type": "stream",
     "text": [
      "Score: 0.3725222051143646\n",
      "\n",
      "page_content='Table of Contents\n",
      "YEAR ENDED MAY 31,\n",
      "(Dollars in millions) 2023 2022 2021\n",
      "REVENUES\n",
      "North America $ 21,608 $ 18,353 $ 17,179 \n",
      "Europe, Middle East & Africa 13,418 12,479 11,456 \n",
      "Greater China 7,248 7,547 8,290 \n",
      "Asia Pacific & Latin America 6,431 5,955 5,343 \n",
      "Global Brand Divisions 58 102 25 \n",
      "Total NIKE Brand 48,763 44,436 42,293 \n",
      "Converse 2,427 2,346 2,205 \n",
      "Corporate 27 (72) 40 \n",
      "TOTAL NIKE, INC. REVENUES $ 51,217 $ 46,710 $ 44,538 \n",
      "EARNINGS BEFORE INTEREST AND TAXES\n",
      "North America $ 5,454 $ 5,114 $ 5,089 \n",
      "Europe, Middle East & Africa 3,531 3,293 2,435 \n",
      "Greater China 2,283 2,365 3,243 \n",
      "Asia Pacific & Latin America 1,932 1,896 1,530 \n",
      "Global Brand Divisions (4,841) (4,262) (3,656)\n",
      "Converse 676 669 543 \n",
      "Corporate (2,840) (2,219) (2,261)\n",
      "Interest expense (income), net (6) 205 262 \n",
      "TOTAL NIKE, INC. INCOME BEFORE INCOME TAXES $ 6,201 $ 6,651 $ 6,661 \n",
      "ADDITIONS TO PROPERTY, PLANT AND EQUIPMENT\n",
      "North America $ 283 $ 146 $ 98 \n",
      "Europe, Middle East & Africa 215 197 153 \n",
      "Greater China 56 78 94' metadata={'author': 'EDGAR Online, a division of Donnelley Financial Solutions', 'creationdate': '2023-07-20T16:22:00-04:00', 'creator': 'EDGAR Filing HTML Converter', 'keywords': '0000320187-23-000039; ; 10-K', 'moddate': '2023-07-20T16:22:08-04:00', 'page': 88, 'page_label': '89', 'producer': 'EDGRpdf Service w/ EO.Pdf 22.0.40.0', 'source': 'nke-10k-2023.pdf', 'start_index': 0, 'subject': 'Form 10-K filed on 2023-07-20 for the period ending 2023-05-31', 'title': '0000320187-23-000039', 'total_pages': 107}\n"
     ]
    }
   ],
   "source": [
    "results = vector_store.similarity_search_with_score(\"What was Nike's revenue in 2023?\")\n",
    "\n",
    "doc, score = results[0]\n",
    "print(f\"Score: {score}\\n\")\n",
    "print(doc)"
   ]
  },
  {
   "cell_type": "markdown",
   "metadata": {},
   "source": [
    "### Devolución del ``Document`` ante una consulta"
   ]
  },
  {
   "cell_type": "markdown",
   "metadata": {},
   "source": [
    "Si queremos obtener el ``Document`` ante una consulta"
   ]
  },
  {
   "cell_type": "code",
   "execution_count": 19,
   "metadata": {},
   "outputs": [
    {
     "name": "stdout",
     "output_type": "stream",
     "text": [
      "page_content='Table of Contents\n",
      "GROSS MARGIN\n",
      "FISCAL 2023 COMPARED TO FISCAL 2022\n",
      "For fiscal 2023, our consolidated gross profit increased 4% to $22,292 million compared to $21,479 million for fiscal 2022. Gross margin decreased 250 basis points to\n",
      "43.5% for fiscal 2023 compared to 46.0% for fiscal 2022 due to the following:\n",
      "*Wholesale equivalent\n",
      "The decrease in gross margin for fiscal 2023 was primarily due to:\n",
      "• Higher NIKE Brand product costs, on a wholesale equivalent basis, primarily due to higher input costs and elevated inbound freight and logistics costs as well as\n",
      "product mix;\n",
      "• Lower margin in our NIKE Direct business, driven by higher promotional activity to liquidate inventory in the current period compared to lower promotional activity in\n",
      "the prior period resulting from lower available inventory supply;\n",
      "• Unfavorable changes in net foreign currency exchange rates, including hedges; and\n",
      "• Lower off-price margin, on a wholesale equivalent basis.\n",
      "This was partially offset by:' metadata={'author': 'EDGAR Online, a division of Donnelley Financial Solutions', 'creationdate': '2023-07-20T16:22:00-04:00', 'creator': 'EDGAR Filing HTML Converter', 'keywords': '0000320187-23-000039; ; 10-K', 'moddate': '2023-07-20T16:22:08-04:00', 'page': 36, 'page_label': '37', 'producer': 'EDGRpdf Service w/ EO.Pdf 22.0.40.0', 'source': 'nke-10k-2023.pdf', 'start_index': 0, 'subject': 'Form 10-K filed on 2023-07-20 for the period ending 2023-05-31', 'title': '0000320187-23-000039', 'total_pages': 107}\n"
     ]
    }
   ],
   "source": [
    "embedding = embeddings.embed_query(\"How were Nike's margins impacted in 2023?\")\n",
    "\n",
    "results = vector_store.similarity_search_by_vector(embedding)\n",
    "print(results[0])"
   ]
  },
  {
   "cell_type": "markdown",
   "metadata": {},
   "source": [
    "## ``Retrievers``"
   ]
  },
  {
   "cell_type": "markdown",
   "metadata": {},
   "source": [
    "Los objetos ``VectorStore`` no tienen una subclase ``Runnable``. De modo Langchain ofrece el objeto [Retrievers](https://python.langchain.com/api_reference/core/index.html#langchain-core-retrievers), que son objetos ``Runnable``, por lo que implementan un conjunto estándar de métodos (por ejemplo, síncronos y asíncronos como ``invoke`` y ``batch``). Aunque podemos construir retrievers a partir de bases de datos vectoriales, los retrievers también pueden interactuar con fuentes de datos que no sean de bases de datos vectoriales (como API externas)."
   ]
  },
  {
   "cell_type": "markdown",
   "metadata": {},
   "source": [
    "Las ``Vectorstores`` implementan un método ``as_retriever`` que generará un objeto ``Retriever``, específicamente un [VectorStoreRetriever](https://python.langchain.com/api_reference/core/vectorstores/langchain_core.vectorstores.base.VectorStoreRetriever.html).\n",
    "\n",
    "Estos retrievers incluyen las variables ``search_type`` y ``search_kwargs`` que identifican qué métodos del almacén de vectores subyacente llamar y cómo parametrizarlos."
   ]
  },
  {
   "cell_type": "code",
   "execution_count": 20,
   "metadata": {},
   "outputs": [],
   "source": [
    "retriever = vector_store.as_retriever(\n",
    "    search_type=\"similarity\",\n",
    "    search_kwargs={\"k\": 1},\n",
    ")"
   ]
  },
  {
   "cell_type": "markdown",
   "metadata": {},
   "source": [
    "Y ahora podemos usar el retriever como un ``Runnable`` para recuperar documentos"
   ]
  },
  {
   "cell_type": "code",
   "execution_count": 21,
   "metadata": {},
   "outputs": [
    {
     "name": "stderr",
     "output_type": "stream",
     "text": [
      "huggingface/tokenizers: The current process just got forked, after parallelism has already been used. Disabling parallelism to avoid deadlocks...\n",
      "To disable this warning, you can either:\n",
      "\t- Avoid using `tokenizers` before the fork if possible\n",
      "\t- Explicitly set the environment variable TOKENIZERS_PARALLELISM=(true | false)\n",
      "huggingface/tokenizers: The current process just got forked, after parallelism has already been used. Disabling parallelism to avoid deadlocks...\n",
      "To disable this warning, you can either:\n",
      "\t- Avoid using `tokenizers` before the fork if possible\n",
      "\t- Explicitly set the environment variable TOKENIZERS_PARALLELISM=(true | false)\n"
     ]
    },
    {
     "data": {
      "text/plain": [
       "[[Document(id='8e65328d-73e5-49be-bd9c-5324dab3f32a', metadata={'author': 'EDGAR Online, a division of Donnelley Financial Solutions', 'creationdate': '2023-07-20T16:22:00-04:00', 'creator': 'EDGAR Filing HTML Converter', 'keywords': '0000320187-23-000039; ; 10-K', 'moddate': '2023-07-20T16:22:08-04:00', 'page': 26, 'page_label': '27', 'producer': 'EDGRpdf Service w/ EO.Pdf 22.0.40.0', 'source': 'nke-10k-2023.pdf', 'start_index': 804, 'subject': 'Form 10-K filed on 2023-07-20 for the period ending 2023-05-31', 'title': '0000320187-23-000039', 'total_pages': 107}, page_content='operations. We also lease an office complex in Shanghai, China, our headquarters for our Greater China geography, occupied by employees focused on implementing our\\nwholesale, NIKE Direct and merchandising strategies in the region, among other functions.\\nIn the United States, NIKE has eight significant distribution centers. Five are located in or near Memphis, Tennessee, two of which are owned and three of which are\\nleased. Two other distribution centers, one located in Indianapolis, Indiana and one located in Dayton, Tennessee, are leased and operated by third-party logistics\\nproviders. One distribution center for Converse is located in Ontario, California, which is leased. NIKE has a number of distribution facilities outside the United States,\\nsome of which are leased and operated by third-party logistics providers. The most significant distribution facilities outside the United States are located in Laakdal,')],\n",
       " [Document(id='2eb62e8e-618f-479f-9d56-9fc62d5e9a4b', metadata={'author': 'EDGAR Online, a division of Donnelley Financial Solutions', 'creationdate': '2023-07-20T16:22:00-04:00', 'creator': 'EDGAR Filing HTML Converter', 'keywords': '0000320187-23-000039; ; 10-K', 'moddate': '2023-07-20T16:22:08-04:00', 'page': 3, 'page_label': '4', 'producer': 'EDGRpdf Service w/ EO.Pdf 22.0.40.0', 'source': 'nke-10k-2023.pdf', 'start_index': 0, 'subject': 'Form 10-K filed on 2023-07-20 for the period ending 2023-05-31', 'title': '0000320187-23-000039', 'total_pages': 107}, page_content='Table of Contents\\nPART I\\nITEM 1. BUSINESS\\nGENERAL\\nNIKE, Inc. was incorporated in 1967 under the laws of the State of Oregon. As used in this Annual Report on Form 10-K (this \"Annual Report\"), the terms \"we,\" \"us,\" \"our,\"\\n\"NIKE\" and the \"Company\" refer to NIKE, Inc. and its predecessors, subsidiaries and affiliates, collectively, unless the context indicates otherwise.\\nOur principal business activity is the design, development and worldwide marketing and selling of athletic footwear, apparel, equipment, accessories and services. NIKE is\\nthe largest seller of athletic footwear and apparel in the world. We sell our products through NIKE Direct operations, which are comprised of both NIKE-owned retail stores\\nand sales through our digital platforms (also referred to as \"NIKE Brand Digital\"), to retail accounts and to a mix of independent distributors, licensees and sales')]]"
      ]
     },
     "execution_count": 21,
     "metadata": {},
     "output_type": "execute_result"
    }
   ],
   "source": [
    "retriever.batch(\n",
    "    [\n",
    "        \"How many distribution centers does Nike have in the US?\",\n",
    "        \"When was Nike incorporated?\",\n",
    "    ],\n",
    ")"
   ]
  },
  {
   "cell_type": "markdown",
   "metadata": {},
   "source": [
    "``VectorStoreRetriever`` admite tipos de búsqueda ``similarity`` (predeterminado), ``mmr`` (relevancia marginal máxima), y ``similarity_score_threshold``. Podemos usar este último para limitar la salida de documentos por parte del recuperador por puntuación de similitud."
   ]
  },
  {
   "cell_type": "markdown",
   "metadata": {},
   "source": [
    "Podemos crear una versión simple de esto nosotros mismos, sin subclases ``Retriever``. Si elegimos qué método deseamos utilizar para recuperar documentos, podemos crear un ``Runnable`` fácilmente. A continuación construiremos uno alrededor del método ``similarity_search``"
   ]
  },
  {
   "cell_type": "code",
   "execution_count": 22,
   "metadata": {},
   "outputs": [],
   "source": [
    "from typing import List\n",
    "\n",
    "from langchain_core.documents import Document\n",
    "from langchain_core.runnables import chain\n",
    "\n",
    "\n",
    "@chain\n",
    "def retriever(query: str) -> List[Document]:\n",
    "    return vector_store.similarity_search(query, k=1)"
   ]
  },
  {
   "cell_type": "markdown",
   "metadata": {},
   "source": [
    "Volvemos a usar el retriever para recuperar documentos"
   ]
  },
  {
   "cell_type": "code",
   "execution_count": 23,
   "metadata": {},
   "outputs": [
    {
     "data": {
      "text/plain": [
       "[[Document(id='8e65328d-73e5-49be-bd9c-5324dab3f32a', metadata={'author': 'EDGAR Online, a division of Donnelley Financial Solutions', 'creationdate': '2023-07-20T16:22:00-04:00', 'creator': 'EDGAR Filing HTML Converter', 'keywords': '0000320187-23-000039; ; 10-K', 'moddate': '2023-07-20T16:22:08-04:00', 'page': 26, 'page_label': '27', 'producer': 'EDGRpdf Service w/ EO.Pdf 22.0.40.0', 'source': 'nke-10k-2023.pdf', 'start_index': 804, 'subject': 'Form 10-K filed on 2023-07-20 for the period ending 2023-05-31', 'title': '0000320187-23-000039', 'total_pages': 107}, page_content='operations. We also lease an office complex in Shanghai, China, our headquarters for our Greater China geography, occupied by employees focused on implementing our\\nwholesale, NIKE Direct and merchandising strategies in the region, among other functions.\\nIn the United States, NIKE has eight significant distribution centers. Five are located in or near Memphis, Tennessee, two of which are owned and three of which are\\nleased. Two other distribution centers, one located in Indianapolis, Indiana and one located in Dayton, Tennessee, are leased and operated by third-party logistics\\nproviders. One distribution center for Converse is located in Ontario, California, which is leased. NIKE has a number of distribution facilities outside the United States,\\nsome of which are leased and operated by third-party logistics providers. The most significant distribution facilities outside the United States are located in Laakdal,')],\n",
       " [Document(id='2eb62e8e-618f-479f-9d56-9fc62d5e9a4b', metadata={'author': 'EDGAR Online, a division of Donnelley Financial Solutions', 'creationdate': '2023-07-20T16:22:00-04:00', 'creator': 'EDGAR Filing HTML Converter', 'keywords': '0000320187-23-000039; ; 10-K', 'moddate': '2023-07-20T16:22:08-04:00', 'page': 3, 'page_label': '4', 'producer': 'EDGRpdf Service w/ EO.Pdf 22.0.40.0', 'source': 'nke-10k-2023.pdf', 'start_index': 0, 'subject': 'Form 10-K filed on 2023-07-20 for the period ending 2023-05-31', 'title': '0000320187-23-000039', 'total_pages': 107}, page_content='Table of Contents\\nPART I\\nITEM 1. BUSINESS\\nGENERAL\\nNIKE, Inc. was incorporated in 1967 under the laws of the State of Oregon. As used in this Annual Report on Form 10-K (this \"Annual Report\"), the terms \"we,\" \"us,\" \"our,\"\\n\"NIKE\" and the \"Company\" refer to NIKE, Inc. and its predecessors, subsidiaries and affiliates, collectively, unless the context indicates otherwise.\\nOur principal business activity is the design, development and worldwide marketing and selling of athletic footwear, apparel, equipment, accessories and services. NIKE is\\nthe largest seller of athletic footwear and apparel in the world. We sell our products through NIKE Direct operations, which are comprised of both NIKE-owned retail stores\\nand sales through our digital platforms (also referred to as \"NIKE Brand Digital\"), to retail accounts and to a mix of independent distributors, licensees and sales')]]"
      ]
     },
     "execution_count": 23,
     "metadata": {},
     "output_type": "execute_result"
    }
   ],
   "source": [
    "retriever.batch(\n",
    "    [\n",
    "        \"How many distribution centers does Nike have in the US?\",\n",
    "        \"When was Nike incorporated?\",\n",
    "    ],\n",
    ")"
   ]
  },
  {
   "cell_type": "markdown",
   "metadata": {},
   "source": [
    "Las estrategias de recuperación pueden ser ricas y complejas. Por ejemplo:\n",
    "\n",
    " * Podemos inferir [reglas y filtros](https://python.langchain.com/docs/how_to/self_query) de una consulta (por ejemplo, \"utilizando documentos publicados después de 2020\")\n",
    " * Podemos [devolver documentos](https://python.langchain.com/docs/how_to/parent_document_retriever) que estén vinculados al contexto recuperado de alguna manera (por ejemplo, a través de alguna taxonomía de documentos)\n",
    " * Podemos generar [múltiples embeddings](https://python.langchain.com/docs/how_to/multi_vector/) para cada unidad de contexto\n",
    " * Podemos generar [resultados del conjunto](https://python.langchain.com/docs/how_to/ensemble_retriever/) de múltiples retrievers\n",
    " * Podemos asignar pesos a documentos, por ejemplo, para pesar [documentos recientes](https://python.langchain.com/docs/how_to/time_weighted_vectorstore) más alto.\n",
    "\n",
    "En [retrievers](https://python.langchain.com/docs/how_to/#retrievers) encontramos las guías prácticas que cubren cubre estas y otras estrategias de recuperación integradas\n",
    "\n",
    "También es sencillo extender la clase [BaseRetriever](https://python.langchain.com/api_reference/core/retrievers/langchain_core.retrievers.BaseRetriever.html) para implementar [retrievers personalizados](https://python.langchain.com/docs/how_to/custom_retriever)."
   ]
  }
 ],
 "metadata": {
  "kernelspec": {
   "display_name": "langchain",
   "language": "python",
   "name": "python3"
  },
  "language_info": {
   "codemirror_mode": {
    "name": "ipython",
    "version": 3
   },
   "file_extension": ".py",
   "mimetype": "text/x-python",
   "name": "python",
   "nbconvert_exporter": "python",
   "pygments_lexer": "ipython3",
   "version": "3.13.2"
  }
 },
 "nbformat": 4,
 "nbformat_minor": 2
}
