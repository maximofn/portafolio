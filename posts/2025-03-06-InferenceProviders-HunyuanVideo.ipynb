{
 "cells": [
  {
   "cell_type": "markdown",
   "metadata": {},
   "source": [
    "# Hugging Face Inference Providers"
   ]
  },
  {
   "cell_type": "markdown",
   "metadata": {},
   "source": [
    "Está claro que el mayor hub de modelos de inteligencia artificial es Hugging Face. Y ahora están dando la posibilidad de hacer inferencia de alguno de sus modelos en proveedores de GPUs serverless"
   ]
  },
  {
   "cell_type": "markdown",
   "metadata": {},
   "source": [
    "Uno de esos modelos es [Wan-AI/Wan2.1-T2V-14B](https://huggingface.co/Wan-AI/Wan2.1-T2V-14B) que a día de escribir este post es el mejor modelo de generación de vídeo open source, como se puede ver en la [Artificial Analysis Video Generation Arena Leaderboard](https://artificialanalysis.ai/text-to-video/arena?tab=Leaderboard)\n",
    "\n",
    "![video generation arena leaderboard](https://pub-fb664c455eca46a2ba762a065ac900f7.r2.dev/Video-arena-leaderboard-wan21.webp)"
   ]
  },
  {
   "cell_type": "markdown",
   "metadata": {},
   "source": [
    "Si nos fijamos en su [modelcard](https://huggingface.co/Wan-AI/Wan2.1-T2V-14B) podemos ver a la derecha un botón que pone `Replicate`.\n",
    "\n",
    "![Wan2.1-T2V-14B modelcard](https://pub-fb664c455eca46a2ba762a065ac900f7.r2.dev/Wan2.1-T2V-14B.webp)"
   ]
  },
  {
   "cell_type": "markdown",
   "metadata": {},
   "source": [
    "## Inference providers"
   ]
  },
  {
   "cell_type": "markdown",
   "metadata": {},
   "source": [
    "Si vamos a la página de configuración de los [Inference providers](https://huggingface.co/settings/inference-providers) veremos algo como esto\n",
    "\n",
    "![Inference Providers](https://pub-fb664c455eca46a2ba762a065ac900f7.r2.dev/Inference%20Providers.webp)\n",
    "\n",
    "Donde podemos darle al botón con una llave para introducir la API KEY del proveedor que queramos usar, o dejar seleccionado el camino con dos puntos. Si hacemos la primera opción será el proveedor el que nos cobre por la inferencia, mientras que en el segundo será Hugging Face quién nos cobre la inferencia. Así que haz lo que mejor te convenga"
   ]
  },
  {
   "cell_type": "markdown",
   "metadata": {},
   "source": [
    "## Inferencia con Replicate"
   ]
  },
  {
   "cell_type": "markdown",
   "metadata": {},
   "source": [
    "En mi caso he obtenido una API KEY de Replicate y la he introducido en un archivo llamado `.env` que es donde guardaré las API KEYs y que no debes subir a GitHub, GitLab o el repositorio de tu proyecto.\n",
    "\n",
    "El `.env` tiene que tener este formato\n",
    "\n",
    "``` python\n",
    "HUGGINGFACE_TOKEN_INFERENCE_PROVIDERS=\"hf_aL...AY\"\n",
    "REPLICATE_API_KEY=\"r8_Sh...UD\"\n",
    "```\n",
    "\n",
    "Donde `HUGGINGFACE_TOKEN_INFERENCE_PROVIDERS` es un token que tienes que obtener desde [Hugging Face](https://huggingface.co/settings/tokens) y `REPLICATE_API_KEY` es la API KEY de Replicate que puedes obtener desde [Replicate](https://replicate.com/account/api-tokens)."
   ]
  },
  {
   "cell_type": "markdown",
   "metadata": {},
   "source": [
    "### Lectura de las API KEYs"
   ]
  },
  {
   "cell_type": "markdown",
   "metadata": {},
   "source": [
    "Lo primero que tenemos que hacer es leer las API KEYs desde el archivo `.env`"
   ]
  },
  {
   "cell_type": "code",
   "execution_count": 1,
   "metadata": {},
   "outputs": [],
   "source": [
    "import os\n",
    "import dotenv\n",
    "dotenv.load_dotenv()\n",
    "\n",
    "REPLICATE_API_KEY = os.getenv(\"REPLICATE_API_KEY\")\n",
    "HUGGINGFACE_TOKEN_INFERENCE_PROVIDERS = os.getenv(\"HUGGINGFACE_TOKEN_INFERENCE_PROVIDERS\")"
   ]
  },
  {
   "cell_type": "markdown",
   "metadata": {},
   "source": [
    "### Logging en el hub de Hugging Face"
   ]
  },
  {
   "cell_type": "markdown",
   "metadata": {},
   "source": [
    "Para poder usar el modelo de Wan-AI/Wan2.1-T2V-14B, como está en el hub de Huggin Face, necesitamos loguearnos."
   ]
  },
  {
   "cell_type": "code",
   "execution_count": 2,
   "metadata": {},
   "outputs": [],
   "source": [
    "from huggingface_hub import login\n",
    "login(HUGGINGFACE_TOKEN_INFERENCE_PROVIDERS)"
   ]
  },
  {
   "cell_type": "markdown",
   "metadata": {},
   "source": [
    "### Cliente de Inferencia"
   ]
  },
  {
   "cell_type": "markdown",
   "metadata": {},
   "source": [
    "Ahora creamos un cliente de inferencia, tenemos que expecificar el proveedor, la API KEY y en este caso, además, vamos a establecer un tiempo de `timeout` de 1000 segundos, porque por defecto es de 60 segundos y el modelo tarda bastante en generar el vídeo."
   ]
  },
  {
   "cell_type": "code",
   "execution_count": 3,
   "metadata": {},
   "outputs": [],
   "source": [
    "from huggingface_hub import InferenceClient\n",
    "\n",
    "client = InferenceClient(\n",
    "\tprovider=\"replicate\",\n",
    "\tapi_key=REPLICATE_API_KEY,\n",
    "\ttimeout=1000\n",
    ")"
   ]
  },
  {
   "cell_type": "markdown",
   "metadata": {},
   "source": [
    "### Generación del vídeo"
   ]
  },
  {
   "cell_type": "markdown",
   "metadata": {},
   "source": [
    "Ya tenemos todo para generar nuestro video. Usamos el método `text_to_video` del cliente, le pasamos el prompt y le decimos qué modelo del hub queremos usar, si no usará el que está por defecto."
   ]
  },
  {
   "cell_type": "code",
   "execution_count": 6,
   "metadata": {},
   "outputs": [],
   "source": [
    "video = client.text_to_video(\n",
    "\t\"Funky dancer, dancing in a rehearsal room. She wears long hair that moves to the rhythm of her dance.\",\n",
    "\tmodel=\"Wan-AI/Wan2.1-T2V-14B\",\n",
    ")"
   ]
  },
  {
   "cell_type": "markdown",
   "metadata": {},
   "source": [
    "### Guardando el vídeo"
   ]
  },
  {
   "cell_type": "markdown",
   "metadata": {},
   "source": [
    "Por último guardamos el vídeo, que es de tipo `bytes`, en un fichero en nuestro disco"
   ]
  },
  {
   "cell_type": "code",
   "execution_count": 7,
   "metadata": {},
   "outputs": [
    {
     "name": "stdout",
     "output_type": "stream",
     "text": [
      "Video saved to: output_video.mp4\n"
     ]
    }
   ],
   "source": [
    "output_path = \"output_video.mp4\"\n",
    "with open(output_path, \"wb\") as f:\n",
    "    f.write(video)\n",
    "print(f\"Video saved to: {output_path}\")"
   ]
  },
  {
   "cell_type": "markdown",
   "metadata": {},
   "source": [
    "## Video generado"
   ]
  },
  {
   "cell_type": "markdown",
   "metadata": {},
   "source": [
    "Este es el vídeo generado por el modelo\n",
    "\n",
    "<video src=\"https://pub-fb664c455eca46a2ba762a065ac900f7.r2.dev/wan2_1_video.webm\" controls></video>"
   ]
  }
 ],
 "metadata": {
  "kernelspec": {
   "display_name": "langchain",
   "language": "python",
   "name": "python3"
  },
  "language_info": {
   "codemirror_mode": {
    "name": "ipython",
    "version": 3
   },
   "file_extension": ".py",
   "mimetype": "text/x-python",
   "name": "python",
   "nbconvert_exporter": "python",
   "pygments_lexer": "ipython3",
   "version": "3.13.2"
  }
 },
 "nbformat": 4,
 "nbformat_minor": 2
}
