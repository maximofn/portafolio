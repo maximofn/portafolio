{
  "cells": [
    {
      "cell_type": "markdown",
      "metadata": {},
      "source": [
        "# Gestión de entornos con uv"
      ]
    },
    {
      "cell_type": "markdown",
      "metadata": {},
      "source": [
        "Hasta ahora he estado controlando mis entornos con conda. Pero desde hace tiempo llevo leyendo mucho sobre `poetry`, pero sobre todo sobre `uv`. ¿Qué ventajas tiene `uv`? La velocidad. `uv` está implementado en Rust, por lo que gestiona los entornos e instala paquetes de una manera rapidísima."
      ]
    },
    {
      "cell_type": "markdown",
      "metadata": {},
      "source": [
        "En la siguiente tabla se muestra la diferencia de velocidad entre diferentes gestores de paquetes. Fuente: [LLMs-from-scratch/setup/01_optional-python-setup-preferences/native-uv.md](https://github.com/rasbt/LLMs-from-scratch/blob/main/setup/01_optional-python-setup-preferences/native-uv.md#native-uv-python-and-package-management)\n",
        "\n",
        "| Comando | Velocidad |\n",
        "|--------------------|-----------------------|\n",
        "| `conda install <pkg>`              | lento           |\n",
        "| `pip install <pkg>`             | entre 2 y 10 veces más rápido que el anterior            |\n",
        "| `uv pip install <pkg>`                 | entre 5 y 10 veces más rápido que el anterior            |\n",
        "| `uv add <pkg>`                 | entre 2 y 5 veces más rápido que el anterior            |"
      ]
    },
    {
      "cell_type": "markdown",
      "metadata": {},
      "source": [
        "Viendo la tabla, merece bastante la pensa usar `uv`. Así que vamos a ver cómo crear un entorno e instalar paquetes con `uv`."
      ]
    },
    {
      "cell_type": "markdown",
      "metadata": {},
      "source": [
        "## Descarga de repositorio"
      ]
    },
    {
      "cell_type": "markdown",
      "metadata": {},
      "source": [
        "Como he dicho, estoy usando [LLMs-from-scratch/setup/01_optional-python-setup-preferences\n",
        "/native-uv.md](https://github.com/rasbt/LLMs-from-scratch/blob/main/setup/01_optional-python-setup-preferences/native-uv.md) como fuente, así que vamos a descargarnos el repositorio, instalar el entorno que propone y ver cómo ejecutar un script\n",
        "\n",
        "Usamos `--depth 1` para descargar solo el último commit del repositorio y que se clone más rápidamente, no nos interesa el historial."
      ]
    },
    {
      "cell_type": "code",
      "execution_count": 3,
      "metadata": {},
      "outputs": [
        {
          "name": "stdout",
          "output_type": "stream",
          "text": [
            "Cloning into 'LLMs-from-scratch'...\n",
            "remote: Enumerating objects: 260, done.\u001b[K\n",
            "remote: Counting objects: 100% (260/260), done.\u001b[K\n",
            "remote: Compressing objects: 100% (226/226), done.\u001b[K\n",
            "remote: Total 260 (delta 61), reused 121 (delta 22), pack-reused 0 (from 0)\u001b[K\n",
            "Receiving objects: 100% (260/260), 1.64 MiB | 6.94 MiB/s, done.\n",
            "Resolving deltas: 100% (61/61), done.\n"
          ]
        }
      ],
      "source": [
        "git clone https://github.com/rasbt/LLMs-from-scratch.git --depth 1"
      ]
    },
    {
      "cell_type": "markdown",
      "metadata": {},
      "source": [
        "Ahora nos vamos al repositorio que hemos descargado"
      ]
    },
    {
      "cell_type": "code",
      "execution_count": 4,
      "metadata": {},
      "outputs": [],
      "source": [
        "cd LLMs-from-scratch"
      ]
    },
    {
      "cell_type": "markdown",
      "metadata": {},
      "source": [
        "## Instalar `uv`"
      ]
    },
    {
      "cell_type": "markdown",
      "metadata": {},
      "source": [
        "Si estamos en macOS o Linux, podemos instalar mediante el comando\n",
        "\n",
        "``` bash\n",
        "curl -LsSf https://astral.sh/uv/install.sh | sh\n",
        "```\n",
        "\n",
        "Si estamos en Windows\n",
        "\n",
        "``` bash\n",
        "curl -LsSf https://astral.sh/uv/install.sh | sh\n",
        "```"
      ]
    },
    {
      "cell_type": "markdown",
      "metadata": {},
      "source": [
        "## Crear entorno"
      ]
    },
    {
      "cell_type": "markdown",
      "metadata": {},
      "source": [
        "Si hacemos un `ls` podemos ver que hay un archivo llamado `pyproject.toml`, ese va a ser el archivo que `uv` usará para crear el entorno."
      ]
    },
    {
      "cell_type": "code",
      "execution_count": 1,
      "metadata": {},
      "outputs": [
        {
          "name": "stdout",
          "output_type": "stream",
          "text": [
            "2025-03-10-uv.ipynb \u001b[1m\u001b[36mappendix-D\u001b[m\u001b[m          \u001b[1m\u001b[36mch04\u001b[m\u001b[m                pyproject.toml\n",
            "CITATION.cff        \u001b[1m\u001b[36mappendix-E\u001b[m\u001b[m          \u001b[1m\u001b[36mch05\u001b[m\u001b[m                requirements.txt\n",
            "LICENSE.txt         \u001b[1m\u001b[36mch01\u001b[m\u001b[m                \u001b[1m\u001b[36mch06\u001b[m\u001b[m                \u001b[1m\u001b[36msetup\u001b[m\u001b[m\n",
            "README.md           \u001b[1m\u001b[36mch02\u001b[m\u001b[m                \u001b[1m\u001b[36mch07\u001b[m\u001b[m\n",
            "\u001b[1m\u001b[36mappendix-A\u001b[m\u001b[m          \u001b[1m\u001b[36mch03\u001b[m\u001b[m                pixi.toml\n"
          ]
        }
      ],
      "source": [
        "ls"
      ]
    },
    {
      "cell_type": "markdown",
      "metadata": {},
      "source": [
        "Así que vamos a ver qué tiene el archivo"
      ]
    },
    {
      "cell_type": "code",
      "execution_count": 2,
      "metadata": {},
      "outputs": [
        {
          "name": "stdout",
          "output_type": "stream",
          "text": [
            "[project]\n",
            "name = \"llms-from-scratch\"\n",
            "version = \"0.1.0\"\n",
            "description = \"Implement a ChatGPT-like LLM in PyTorch from scratch, step by step\"\n",
            "readme = \"README.md\"\n",
            "requires-python = \">=3.10\"\n",
            "dependencies = [\n",
            "    \"torch>=2.3.0\",\n",
            "    \"jupyterlab>=4.0\",\n",
            "    \"tiktoken>=0.5.1\",\n",
            "    \"matplotlib>=3.7.1\",\n",
            "    \"tensorflow>=2.18.0\",\n",
            "    \"tqdm>=4.66.1\",\n",
            "    \"numpy>=1.26,<2.1\",\n",
            "    \"pandas>=2.2.1\",\n",
            "    \"pip>=25.0.1\",\n",
            "]\n",
            "\n",
            "[tool.setuptools.packages]\n",
            "find = {}\n",
            "\n",
            "[tool.uv.sources]\n",
            "llms-from-scratch = { workspace = true }\n",
            "\n",
            "[dependency-groups]\n",
            "dev = [\n",
            "    \"llms-from-scratch\",\n",
            "]\n",
            "\n",
            "[tool.ruff]\n",
            "line-length = 140\n",
            "\n",
            "[tool.ruff.lint]\n",
            "exclude = [\".venv\"]\n",
            "# Ignored rules (W504 removed)\n",
            "ignore = [\n",
            "    \"C406\", \"E226\", \"E402\", \"E702\", \"E703\",\n",
            "    \"E722\", \"E731\", \"E741\"\n",
            "]\n"
          ]
        }
      ],
      "source": [
        "cat pyproject.toml"
      ]
    },
    {
      "cell_type": "markdown",
      "metadata": {},
      "source": [
        "Como se puede ver, hay datos como el nombre, versión, etc, y las dependencias, que son los paquetes que vamos a instalar."
      ]
    },
    {
      "cell_type": "markdown",
      "metadata": {},
      "source": [
        "Para crear el entorno usamos el comando `uv sync`, además añadimos el flag `--dev` para instalar también las dependencias de desarrollo y el flag `--python` para especificar la versión de Python que queremos usar."
      ]
    },
    {
      "cell_type": "code",
      "execution_count": 7,
      "metadata": {},
      "outputs": [
        {
          "name": "stdout",
          "output_type": "stream",
          "text": [
            "Using CPython \u001b[36m3.11.11\u001b[39m\n",
            "Creating virtual environment at: \u001b[36m.venv\u001b[39m\n",
            "\u001b[2K\u001b[2mResolved \u001b[1m160 packages\u001b[0m \u001b[2min 175ms\u001b[0m\u001b[0m                                       \u001b[0m\n",
            "\u001b[2K\u001b[2mInstalled \u001b[1m139 packages\u001b[0m \u001b[2min 1.46s\u001b[0m\u001b[0m                             \u001b[0m\n",
            " \u001b[32m+\u001b[39m \u001b[1mabsl-py\u001b[0m\u001b[2m==2.1.0\u001b[0m\n",
            " \u001b[32m+\u001b[39m \u001b[1manyio\u001b[0m\u001b[2m==4.8.0\u001b[0m\n",
            " \u001b[32m+\u001b[39m \u001b[1mappnope\u001b[0m\u001b[2m==0.1.4\u001b[0m\n",
            " \u001b[32m+\u001b[39m \u001b[1margon2-cffi\u001b[0m\u001b[2m==23.1.0\u001b[0m\n",
            " \u001b[32m+\u001b[39m \u001b[1margon2-cffi-bindings\u001b[0m\u001b[2m==21.2.0\u001b[0m\n",
            " \u001b[32m+\u001b[39m \u001b[1marrow\u001b[0m\u001b[2m==1.3.0\u001b[0m\n",
            " \u001b[32m+\u001b[39m \u001b[1masttokens\u001b[0m\u001b[2m==3.0.0\u001b[0m\n",
            " \u001b[32m+\u001b[39m \u001b[1mastunparse\u001b[0m\u001b[2m==1.6.3\u001b[0m\n",
            " \u001b[32m+\u001b[39m \u001b[1masync-lru\u001b[0m\u001b[2m==2.0.4\u001b[0m\n",
            " \u001b[32m+\u001b[39m \u001b[1mattrs\u001b[0m\u001b[2m==25.1.0\u001b[0m\n",
            " \u001b[32m+\u001b[39m \u001b[1mbabel\u001b[0m\u001b[2m==2.17.0\u001b[0m\n",
            " \u001b[32m+\u001b[39m \u001b[1mbeautifulsoup4\u001b[0m\u001b[2m==4.13.3\u001b[0m\n",
            " \u001b[32m+\u001b[39m \u001b[1mbleach\u001b[0m\u001b[2m==6.2.0\u001b[0m\n",
            " \u001b[32m+\u001b[39m \u001b[1mcertifi\u001b[0m\u001b[2m==2025.1.31\u001b[0m\n",
            " \u001b[32m+\u001b[39m \u001b[1mcffi\u001b[0m\u001b[2m==1.17.1\u001b[0m\n",
            " \u001b[32m+\u001b[39m \u001b[1mcharset-normalizer\u001b[0m\u001b[2m==3.4.1\u001b[0m\n",
            " \u001b[32m+\u001b[39m \u001b[1mcomm\u001b[0m\u001b[2m==0.2.2\u001b[0m\n",
            " \u001b[32m+\u001b[39m \u001b[1mcontourpy\u001b[0m\u001b[2m==1.3.1\u001b[0m\n",
            " \u001b[32m+\u001b[39m \u001b[1mcycler\u001b[0m\u001b[2m==0.12.1\u001b[0m\n",
            " \u001b[32m+\u001b[39m \u001b[1mdebugpy\u001b[0m\u001b[2m==1.8.13\u001b[0m\n",
            " \u001b[32m+\u001b[39m \u001b[1mdecorator\u001b[0m\u001b[2m==5.2.1\u001b[0m\n",
            " \u001b[32m+\u001b[39m \u001b[1mdefusedxml\u001b[0m\u001b[2m==0.7.1\u001b[0m\n",
            " \u001b[32m+\u001b[39m \u001b[1mexecuting\u001b[0m\u001b[2m==2.2.0\u001b[0m\n",
            " \u001b[32m+\u001b[39m \u001b[1mfastjsonschema\u001b[0m\u001b[2m==2.21.1\u001b[0m\n",
            " \u001b[32m+\u001b[39m \u001b[1mfilelock\u001b[0m\u001b[2m==3.17.0\u001b[0m\n",
            " \u001b[32m+\u001b[39m \u001b[1mflatbuffers\u001b[0m\u001b[2m==25.2.10\u001b[0m\n",
            " \u001b[32m+\u001b[39m \u001b[1mfonttools\u001b[0m\u001b[2m==4.56.0\u001b[0m\n",
            " \u001b[32m+\u001b[39m \u001b[1mfqdn\u001b[0m\u001b[2m==1.5.1\u001b[0m\n",
            " \u001b[32m+\u001b[39m \u001b[1mfsspec\u001b[0m\u001b[2m==2025.3.0\u001b[0m\n",
            " \u001b[32m+\u001b[39m \u001b[1mgast\u001b[0m\u001b[2m==0.6.0\u001b[0m\n",
            " \u001b[32m+\u001b[39m \u001b[1mgoogle-pasta\u001b[0m\u001b[2m==0.2.0\u001b[0m\n",
            " \u001b[32m+\u001b[39m \u001b[1mgrpcio\u001b[0m\u001b[2m==1.70.0\u001b[0m\n",
            " \u001b[32m+\u001b[39m \u001b[1mh11\u001b[0m\u001b[2m==0.14.0\u001b[0m\n",
            " \u001b[32m+\u001b[39m \u001b[1mh5py\u001b[0m\u001b[2m==3.13.0\u001b[0m\n",
            " \u001b[32m+\u001b[39m \u001b[1mhttpcore\u001b[0m\u001b[2m==1.0.7\u001b[0m\n",
            " \u001b[32m+\u001b[39m \u001b[1mhttpx\u001b[0m\u001b[2m==0.28.1\u001b[0m\n",
            " \u001b[32m+\u001b[39m \u001b[1midna\u001b[0m\u001b[2m==3.10\u001b[0m\n",
            " \u001b[32m+\u001b[39m \u001b[1mipykernel\u001b[0m\u001b[2m==6.29.5\u001b[0m\n",
            " \u001b[32m+\u001b[39m \u001b[1mipython\u001b[0m\u001b[2m==9.0.2\u001b[0m\n",
            " \u001b[32m+\u001b[39m \u001b[1mipython-pygments-lexers\u001b[0m\u001b[2m==1.1.1\u001b[0m\n",
            " \u001b[32m+\u001b[39m \u001b[1misoduration\u001b[0m\u001b[2m==20.11.0\u001b[0m\n",
            " \u001b[32m+\u001b[39m \u001b[1mjedi\u001b[0m\u001b[2m==0.19.2\u001b[0m\n",
            " \u001b[32m+\u001b[39m \u001b[1mjinja2\u001b[0m\u001b[2m==3.1.6\u001b[0m\n",
            " \u001b[32m+\u001b[39m \u001b[1mjson5\u001b[0m\u001b[2m==0.10.0\u001b[0m\n",
            " \u001b[32m+\u001b[39m \u001b[1mjsonpointer\u001b[0m\u001b[2m==3.0.0\u001b[0m\n",
            " \u001b[32m+\u001b[39m \u001b[1mjsonschema\u001b[0m\u001b[2m==4.23.0\u001b[0m\n",
            " \u001b[32m+\u001b[39m \u001b[1mjsonschema-specifications\u001b[0m\u001b[2m==2024.10.1\u001b[0m\n",
            " \u001b[32m+\u001b[39m \u001b[1mjupyter-client\u001b[0m\u001b[2m==8.6.3\u001b[0m\n",
            " \u001b[32m+\u001b[39m \u001b[1mjupyter-core\u001b[0m\u001b[2m==5.7.2\u001b[0m\n",
            " \u001b[32m+\u001b[39m \u001b[1mjupyter-events\u001b[0m\u001b[2m==0.12.0\u001b[0m\n",
            " \u001b[32m+\u001b[39m \u001b[1mjupyter-lsp\u001b[0m\u001b[2m==2.2.5\u001b[0m\n",
            " \u001b[32m+\u001b[39m \u001b[1mjupyter-server\u001b[0m\u001b[2m==2.15.0\u001b[0m\n",
            " \u001b[32m+\u001b[39m \u001b[1mjupyter-server-terminals\u001b[0m\u001b[2m==0.5.3\u001b[0m\n",
            " \u001b[32m+\u001b[39m \u001b[1mjupyterlab\u001b[0m\u001b[2m==4.3.5\u001b[0m\n",
            " \u001b[32m+\u001b[39m \u001b[1mjupyterlab-pygments\u001b[0m\u001b[2m==0.3.0\u001b[0m\n",
            " \u001b[32m+\u001b[39m \u001b[1mjupyterlab-server\u001b[0m\u001b[2m==2.27.3\u001b[0m\n",
            " \u001b[32m+\u001b[39m \u001b[1mkeras\u001b[0m\u001b[2m==3.9.0\u001b[0m\n",
            " \u001b[32m+\u001b[39m \u001b[1mkiwisolver\u001b[0m\u001b[2m==1.4.8\u001b[0m\n",
            " \u001b[32m+\u001b[39m \u001b[1mlibclang\u001b[0m\u001b[2m==18.1.1\u001b[0m\n",
            " \u001b[32m+\u001b[39m \u001b[1mmarkdown\u001b[0m\u001b[2m==3.7\u001b[0m\n",
            " \u001b[32m+\u001b[39m \u001b[1mmarkdown-it-py\u001b[0m\u001b[2m==3.0.0\u001b[0m\n",
            " \u001b[32m+\u001b[39m \u001b[1mmarkupsafe\u001b[0m\u001b[2m==3.0.2\u001b[0m\n",
            " \u001b[32m+\u001b[39m \u001b[1mmatplotlib\u001b[0m\u001b[2m==3.10.1\u001b[0m\n",
            " \u001b[32m+\u001b[39m \u001b[1mmatplotlib-inline\u001b[0m\u001b[2m==0.1.7\u001b[0m\n",
            " \u001b[32m+\u001b[39m \u001b[1mmdurl\u001b[0m\u001b[2m==0.1.2\u001b[0m\n",
            " \u001b[32m+\u001b[39m \u001b[1mmistune\u001b[0m\u001b[2m==3.1.2\u001b[0m\n",
            " \u001b[32m+\u001b[39m \u001b[1mml-dtypes\u001b[0m\u001b[2m==0.4.1\u001b[0m\n",
            " \u001b[32m+\u001b[39m \u001b[1mmpmath\u001b[0m\u001b[2m==1.3.0\u001b[0m\n",
            " \u001b[32m+\u001b[39m \u001b[1mnamex\u001b[0m\u001b[2m==0.0.8\u001b[0m\n",
            " \u001b[32m+\u001b[39m \u001b[1mnbclient\u001b[0m\u001b[2m==0.10.2\u001b[0m\n",
            " \u001b[32m+\u001b[39m \u001b[1mnbconvert\u001b[0m\u001b[2m==7.16.6\u001b[0m\n",
            " \u001b[32m+\u001b[39m \u001b[1mnbformat\u001b[0m\u001b[2m==5.10.4\u001b[0m\n",
            " \u001b[32m+\u001b[39m \u001b[1mnest-asyncio\u001b[0m\u001b[2m==1.6.0\u001b[0m\n",
            " \u001b[32m+\u001b[39m \u001b[1mnetworkx\u001b[0m\u001b[2m==3.4.2\u001b[0m\n",
            " \u001b[32m+\u001b[39m \u001b[1mnotebook-shim\u001b[0m\u001b[2m==0.2.4\u001b[0m\n",
            " \u001b[32m+\u001b[39m \u001b[1mnumpy\u001b[0m\u001b[2m==2.0.2\u001b[0m\n",
            " \u001b[32m+\u001b[39m \u001b[1mopt-einsum\u001b[0m\u001b[2m==3.4.0\u001b[0m\n",
            " \u001b[32m+\u001b[39m \u001b[1moptree\u001b[0m\u001b[2m==0.14.1\u001b[0m\n",
            " \u001b[32m+\u001b[39m \u001b[1moverrides\u001b[0m\u001b[2m==7.7.0\u001b[0m\n",
            " \u001b[32m+\u001b[39m \u001b[1mpackaging\u001b[0m\u001b[2m==24.2\u001b[0m\n",
            " \u001b[32m+\u001b[39m \u001b[1mpandas\u001b[0m\u001b[2m==2.2.3\u001b[0m\n",
            " \u001b[32m+\u001b[39m \u001b[1mpandocfilters\u001b[0m\u001b[2m==1.5.1\u001b[0m\n",
            " \u001b[32m+\u001b[39m \u001b[1mparso\u001b[0m\u001b[2m==0.8.4\u001b[0m\n",
            " \u001b[32m+\u001b[39m \u001b[1mpexpect\u001b[0m\u001b[2m==4.9.0\u001b[0m\n",
            " \u001b[32m+\u001b[39m \u001b[1mpillow\u001b[0m\u001b[2m==11.1.0\u001b[0m\n",
            " \u001b[32m+\u001b[39m \u001b[1mpip\u001b[0m\u001b[2m==25.0.1\u001b[0m\n",
            " \u001b[32m+\u001b[39m \u001b[1mplatformdirs\u001b[0m\u001b[2m==4.3.6\u001b[0m\n",
            " \u001b[32m+\u001b[39m \u001b[1mprometheus-client\u001b[0m\u001b[2m==0.21.1\u001b[0m\n",
            " \u001b[32m+\u001b[39m \u001b[1mprompt-toolkit\u001b[0m\u001b[2m==3.0.50\u001b[0m\n",
            " \u001b[32m+\u001b[39m \u001b[1mprotobuf\u001b[0m\u001b[2m==5.29.3\u001b[0m\n",
            " \u001b[32m+\u001b[39m \u001b[1mpsutil\u001b[0m\u001b[2m==7.0.0\u001b[0m\n",
            " \u001b[32m+\u001b[39m \u001b[1mptyprocess\u001b[0m\u001b[2m==0.7.0\u001b[0m\n",
            " \u001b[32m+\u001b[39m \u001b[1mpure-eval\u001b[0m\u001b[2m==0.2.3\u001b[0m\n",
            " \u001b[32m+\u001b[39m \u001b[1mpycparser\u001b[0m\u001b[2m==2.22\u001b[0m\n",
            " \u001b[32m+\u001b[39m \u001b[1mpygments\u001b[0m\u001b[2m==2.19.1\u001b[0m\n",
            " \u001b[32m+\u001b[39m \u001b[1mpyparsing\u001b[0m\u001b[2m==3.2.1\u001b[0m\n",
            " \u001b[32m+\u001b[39m \u001b[1mpython-dateutil\u001b[0m\u001b[2m==2.9.0.post0\u001b[0m\n",
            " \u001b[32m+\u001b[39m \u001b[1mpython-json-logger\u001b[0m\u001b[2m==3.3.0\u001b[0m\n",
            " \u001b[32m+\u001b[39m \u001b[1mpytz\u001b[0m\u001b[2m==2025.1\u001b[0m\n",
            " \u001b[32m+\u001b[39m \u001b[1mpyyaml\u001b[0m\u001b[2m==6.0.2\u001b[0m\n",
            " \u001b[32m+\u001b[39m \u001b[1mpyzmq\u001b[0m\u001b[2m==26.2.1\u001b[0m\n",
            " \u001b[32m+\u001b[39m \u001b[1mreferencing\u001b[0m\u001b[2m==0.36.2\u001b[0m\n",
            " \u001b[32m+\u001b[39m \u001b[1mregex\u001b[0m\u001b[2m==2024.11.6\u001b[0m\n",
            " \u001b[32m+\u001b[39m \u001b[1mrequests\u001b[0m\u001b[2m==2.32.3\u001b[0m\n",
            " \u001b[32m+\u001b[39m \u001b[1mrfc3339-validator\u001b[0m\u001b[2m==0.1.4\u001b[0m\n",
            " \u001b[32m+\u001b[39m \u001b[1mrfc3986-validator\u001b[0m\u001b[2m==0.1.1\u001b[0m\n",
            " \u001b[32m+\u001b[39m \u001b[1mrich\u001b[0m\u001b[2m==13.9.4\u001b[0m\n",
            " \u001b[32m+\u001b[39m \u001b[1mrpds-py\u001b[0m\u001b[2m==0.23.1\u001b[0m\n",
            " \u001b[32m+\u001b[39m \u001b[1msend2trash\u001b[0m\u001b[2m==1.8.3\u001b[0m\n",
            " \u001b[32m+\u001b[39m \u001b[1msetuptools\u001b[0m\u001b[2m==76.0.0\u001b[0m\n",
            " \u001b[32m+\u001b[39m \u001b[1msix\u001b[0m\u001b[2m==1.17.0\u001b[0m\n",
            " \u001b[32m+\u001b[39m \u001b[1msniffio\u001b[0m\u001b[2m==1.3.1\u001b[0m\n",
            " \u001b[32m+\u001b[39m \u001b[1msoupsieve\u001b[0m\u001b[2m==2.6\u001b[0m\n",
            " \u001b[32m+\u001b[39m \u001b[1mstack-data\u001b[0m\u001b[2m==0.6.3\u001b[0m\n",
            " \u001b[32m+\u001b[39m \u001b[1msympy\u001b[0m\u001b[2m==1.13.1\u001b[0m\n",
            " \u001b[32m+\u001b[39m \u001b[1mtensorboard\u001b[0m\u001b[2m==2.18.0\u001b[0m\n",
            " \u001b[32m+\u001b[39m \u001b[1mtensorboard-data-server\u001b[0m\u001b[2m==0.7.2\u001b[0m\n",
            " \u001b[32m+\u001b[39m \u001b[1mtensorflow\u001b[0m\u001b[2m==2.18.0\u001b[0m\n",
            " \u001b[32m+\u001b[39m \u001b[1mtensorflow-io-gcs-filesystem\u001b[0m\u001b[2m==0.37.1\u001b[0m\n",
            " \u001b[32m+\u001b[39m \u001b[1mtermcolor\u001b[0m\u001b[2m==2.5.0\u001b[0m\n",
            " \u001b[32m+\u001b[39m \u001b[1mterminado\u001b[0m\u001b[2m==0.18.1\u001b[0m\n",
            " \u001b[32m+\u001b[39m \u001b[1mtiktoken\u001b[0m\u001b[2m==0.9.0\u001b[0m\n",
            " \u001b[32m+\u001b[39m \u001b[1mtinycss2\u001b[0m\u001b[2m==1.4.0\u001b[0m\n",
            " \u001b[32m+\u001b[39m \u001b[1mtorch\u001b[0m\u001b[2m==2.6.0\u001b[0m\n",
            " \u001b[32m+\u001b[39m \u001b[1mtornado\u001b[0m\u001b[2m==6.4.2\u001b[0m\n",
            " \u001b[32m+\u001b[39m \u001b[1mtqdm\u001b[0m\u001b[2m==4.67.1\u001b[0m\n",
            " \u001b[32m+\u001b[39m \u001b[1mtraitlets\u001b[0m\u001b[2m==5.14.3\u001b[0m\n",
            " \u001b[32m+\u001b[39m \u001b[1mtypes-python-dateutil\u001b[0m\u001b[2m==2.9.0.20241206\u001b[0m\n",
            " \u001b[32m+\u001b[39m \u001b[1mtyping-extensions\u001b[0m\u001b[2m==4.12.2\u001b[0m\n",
            " \u001b[32m+\u001b[39m \u001b[1mtzdata\u001b[0m\u001b[2m==2025.1\u001b[0m\n",
            " \u001b[32m+\u001b[39m \u001b[1muri-template\u001b[0m\u001b[2m==1.3.0\u001b[0m\n",
            " \u001b[32m+\u001b[39m \u001b[1murllib3\u001b[0m\u001b[2m==2.3.0\u001b[0m\n",
            " \u001b[32m+\u001b[39m \u001b[1mwcwidth\u001b[0m\u001b[2m==0.2.13\u001b[0m\n",
            " \u001b[32m+\u001b[39m \u001b[1mwebcolors\u001b[0m\u001b[2m==24.11.1\u001b[0m\n",
            " \u001b[32m+\u001b[39m \u001b[1mwebencodings\u001b[0m\u001b[2m==0.5.1\u001b[0m\n",
            " \u001b[32m+\u001b[39m \u001b[1mwebsocket-client\u001b[0m\u001b[2m==1.8.0\u001b[0m\n",
            " \u001b[32m+\u001b[39m \u001b[1mwerkzeug\u001b[0m\u001b[2m==3.1.3\u001b[0m\n",
            " \u001b[32m+\u001b[39m \u001b[1mwheel\u001b[0m\u001b[2m==0.45.1\u001b[0m\n",
            " \u001b[32m+\u001b[39m \u001b[1mwrapt\u001b[0m\u001b[2m==1.17.2\u001b[0m\n"
          ]
        }
      ],
      "source": [
        "uv sync --dev --python 3.11"
      ]
    },
    {
      "cell_type": "markdown",
      "metadata": {},
      "source": [
        "Nos ha creado el entorno y ha instalado los paquetes de una manera rápidísima"
      ]
    },
    {
      "cell_type": "markdown",
      "metadata": {},
      "source": [
        "Además, si volvemos a hacer `ls` ahora veremos una nueva carpeta llamada `.venv`, esa es la carpeta del entorno virtual."
      ]
    },
    {
      "cell_type": "code",
      "execution_count": 8,
      "metadata": {},
      "outputs": [
        {
          "name": "stdout",
          "output_type": "stream",
          "text": [
            "\u001b[1m\u001b[36m.\u001b[m\u001b[m                   CITATION.cff        \u001b[1m\u001b[36mch02\u001b[m\u001b[m                pyproject.toml\n",
            "\u001b[1m\u001b[36m..\u001b[m\u001b[m                  LICENSE.txt         \u001b[1m\u001b[36mch03\u001b[m\u001b[m                requirements.txt\n",
            "\u001b[1m\u001b[36m.git\u001b[m\u001b[m                README.md           \u001b[1m\u001b[36mch04\u001b[m\u001b[m                \u001b[1m\u001b[36msetup\u001b[m\u001b[m\n",
            "\u001b[1m\u001b[36m.github\u001b[m\u001b[m             \u001b[1m\u001b[36mappendix-A\u001b[m\u001b[m          \u001b[1m\u001b[36mch05\u001b[m\u001b[m                uv.lock\n",
            ".gitignore          \u001b[1m\u001b[36mappendix-D\u001b[m\u001b[m          \u001b[1m\u001b[36mch06\u001b[m\u001b[m\n",
            "\u001b[1m\u001b[36m.venv\u001b[m\u001b[m               \u001b[1m\u001b[36mappendix-E\u001b[m\u001b[m          \u001b[1m\u001b[36mch07\u001b[m\u001b[m\n",
            "2025-03-10-uv.ipynb \u001b[1m\u001b[36mch01\u001b[m\u001b[m                pixi.toml\n"
          ]
        }
      ],
      "source": [
        "ls -a"
      ]
    },
    {
      "cell_type": "markdown",
      "metadata": {},
      "source": [
        "## Añadir paquetes"
      ]
    },
    {
      "cell_type": "markdown",
      "metadata": {},
      "source": [
        "Si queremos añadir paquetes a nuestro entorno que no están en el archivo `pyproject.toml`, podemos hacerlo con el comando `uv add <pkg>`."
      ]
    },
    {
      "cell_type": "markdown",
      "metadata": {},
      "source": [
        "Por ejemplo, si hacemos `cat pyproject.toml | grep dotenv` veremos que no está instalado el paquete `python-dotenv`."
      ]
    },
    {
      "cell_type": "code",
      "execution_count": 9,
      "metadata": {},
      "outputs": [],
      "source": [
        "cat pyproject.toml | grep dotenv"
      ]
    },
    {
      "cell_type": "markdown",
      "metadata": {},
      "source": [
        "De modo que añadimos el paquete"
      ]
    },
    {
      "cell_type": "code",
      "execution_count": null,
      "metadata": {},
      "outputs": [
        {
          "name": "stdout",
          "output_type": "stream",
          "text": [
            "\u001b[2K\u001b[2mResolved \u001b[1m162 packages\u001b[0m \u001b[2min 92ms\u001b[0m\u001b[0m                                        \u001b[0m\n",
            "\u001b[2K\u001b[2mInstalled \u001b[1m2 packages\u001b[0m \u001b[2min 5ms\u001b[0m\u001b[0m                                 \u001b[0m     \u001b[0m░░░░░░░░░░░░░░░░░░░░ [0/0] \u001b[2mInstalling wheels...                                 \u001b[0m\n",
            " \u001b[32m+\u001b[39m \u001b[1mdotenv\u001b[0m\u001b[2m==0.9.9\u001b[0m\n",
            " \u001b[32m+\u001b[39m \u001b[1mpython-dotenv\u001b[0m\u001b[2m==1.0.1\u001b[0m\n"
          ]
        }
      ],
      "source": [
        "uv add dotenv"
      ]
    },
    {
      "cell_type": "markdown",
      "metadata": {},
      "source": [
        "Si ahora volvemos a hacer `cat pyproject.toml | grep dotenv` veremos que se ha añadido al archivo."
      ]
    },
    {
      "cell_type": "code",
      "execution_count": 12,
      "metadata": {},
      "outputs": [
        {
          "name": "stdout",
          "output_type": "stream",
          "text": [
            "    \"dotenv>=0.9.9\",\n"
          ]
        }
      ],
      "source": [
        "cat pyproject.toml | grep dotenv"
      ]
    },
    {
      "cell_type": "markdown",
      "metadata": {},
      "source": [
        "Esto es muy bueno, porque ahora con este nuevo archivo `pyproject.toml` podemos recrear el entorno con el comando `uv sync` en cualquier otro ordenador."
      ]
    },
    {
      "cell_type": "markdown",
      "metadata": {},
      "source": [
        "## Ejecutar un script"
      ]
    },
    {
      "cell_type": "markdown",
      "metadata": {},
      "source": [
        "Ahora que ya tenemos un entorno podemos ejecutar un script de dos maneras, la primera con `uv run python <script>.py`, que activará el entorno de `.venv` y ejecutará el script."
      ]
    },
    {
      "cell_type": "code",
      "execution_count": 13,
      "metadata": {},
      "outputs": [
        {
          "name": "stdout",
          "output_type": "stream",
          "text": [
            "[OK] Your Python version is 3.11.11\n",
            "[OK] torch 2.6.0\n",
            "[OK] jupyterlab 4.3.5\n",
            "[OK] tiktoken 0.9.0\n",
            "[OK] matplotlib 3.10.1\n",
            "[OK] tensorflow 2.18.0\n",
            "[OK] tqdm 4.67.1\n",
            "[OK] numpy 2.0.2\n",
            "[OK] pandas 2.2.3\n",
            "[OK] psutil 7.0.0\n"
          ]
        }
      ],
      "source": [
        "uv run python setup/02_installing-python-libraries/python_environment_check.py"
      ]
    },
    {
      "cell_type": "markdown",
      "metadata": {},
      "source": [
        "Sin embargo, si lo que queremos es ejecutar el script directamente con `python <script>.py` necesitamos activar el entorno primero a mano"
      ]
    },
    {
      "cell_type": "code",
      "execution_count": 14,
      "metadata": {},
      "outputs": [
        {
          "name": "stdout",
          "output_type": "stream",
          "text": [
            "[OK] Your Python version is 3.11.11\n",
            "[OK] torch 2.6.0\n",
            "[OK] jupyterlab 4.3.5\n",
            "[OK] tiktoken 0.9.0\n",
            "[OK] matplotlib 3.10.1\n",
            "[OK] tensorflow 2.18.0\n",
            "[OK] tqdm 4.67.1\n",
            "[OK] numpy 2.0.2\n",
            "[OK] pandas 2.2.3\n",
            "[OK] psutil 7.0.0\n"
          ]
        }
      ],
      "source": [
        "source .venv/bin/activate && python setup/02_installing-python-libraries/python_environment_check.py"
      ]
    }
  ],
  "metadata": {
    "kernelspec": {
      "display_name": "base",
      "language": "python",
      "name": "python3"
    },
    "language_info": {
      "codemirror_mode": {
        "name": "ipython",
        "version": 3
      },
      "file_extension": ".py",
      "mimetype": "text/x-python",
      "name": "python",
      "nbconvert_exporter": "python",
      "pygments_lexer": "ipython3",
      "version": "3.12.8"
    },
    "maximofn": {
      "date": "2025-03-10",
      "description_en": "Tired of slow conda and venv? Discover uv, the Python package manager written in Rust. Learn to create environments and install dependencies up to 100x faster.",
      "description_es": "¿Cansado de la lentitud de conda y venv? Descubre uv, el gestor de paquetes de Python escrito en Rust. Aprende a crear entornos e instalar dependencias 100x más rápido.",
      "description_pt": "Cansado da lentidão do conda e do venv? Descubra o uv, o gerenciador de pacotes para Python escrito em Rust. Aprenda a criar ambientes e instalar dependências até 100x mais rápido.",
      "end_url": "uv",
      "image": "https://images.maximofn.com/uv_thumbnail.webp",
      "image_hover_path": "https://images.maximofn.com/uv_thumbnail.webp",
      "keywords_en": "uv, python, environment, virtual, package, manager, conda, venv, fast, rust, tutorial, guide",
      "keywords_es": "uv, python, entorno, virtual, paquete, gestor, conda, venv, rapido, rust, tutorial, guia",
      "keywords_pt": "uv, python, ambiente, virtual, pacote, gerenciador, conda, venv, rápido, rust, tutorial, guia",
      "title_en": "uv Guide: The Fast Alternative to conda & venv for Python",
      "title_es": "Guía de uv: La Alternativa Rápida a conda y venv para Python",
      "title_pt": "Guia uv: A Alternativa Rápida ao conda e venv para Python"
    }
  },
  "nbformat": 4,
  "nbformat_minor": 2
}
