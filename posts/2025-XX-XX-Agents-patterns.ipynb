{
 "cells": [
  {
   "cell_type": "markdown",
   "metadata": {},
   "source": [
    "# Patrones de agentes"
   ]
  },
  {
   "cell_type": "markdown",
   "metadata": {},
   "source": [
    "En mi post anterior expliqué cómo usar [LangGraph](https://www.maximofn.com/LangGraph/) para crear agentes."
   ]
  },
  {
   "cell_type": "markdown",
   "metadata": {},
   "source": [
    "Así que en este vamos a ver los diferentes patrones de agentes que podemos construir y lo haremos con LangGraph."
   ]
  },
  {
   "cell_type": "markdown",
   "metadata": {},
   "source": [
    " > **Nota**: Vamos a partir desde el modelo más básico que consiste en un chatbot con un LLM hasta llegar a arquitecturas más complejas."
   ]
  },
  {
   "cell_type": "markdown",
   "metadata": {},
   "source": [
    " > **Nota**: Siempre que sea posible, vamos a usar `Qwen2-72B-Instruct` para poder usarlo gratis con Hugging Face."
   ]
  },
  {
   "cell_type": "markdown",
   "metadata": {},
   "source": [
    "## Respondedor de prompts (chain block)"
   ]
  },
  {
   "cell_type": "markdown",
   "metadata": {},
   "source": [
    "![chain block](https://pub-fb664c455eca46a2ba762a065ac900f7.r2.dev/agent_patterns_01_chain_block.webp)"
   ]
  },
  {
   "cell_type": "markdown",
   "metadata": {},
   "source": [
    "Es el modelo más básico, al LLM le entra un prompt y él devuelve una respuesta."
   ]
  },
  {
   "cell_type": "code",
   "execution_count": 1,
   "metadata": {},
   "outputs": [
    {
     "data": {
      "image/png": "[encoded data removed]",
      "text/plain": [
       "<IPython.core.display.Image object>"
      ]
     },
     "metadata": {},
     "output_type": "display_data"
    }
   ],
   "source": [
    "from typing import Annotated\n",
    "from typing_extensions import TypedDict\n",
    "\n",
    "from langgraph.graph import StateGraph, START, END\n",
    "from langgraph.graph.message import add_messages\n",
    "\n",
    "from langchain_huggingface import HuggingFaceEndpoint, ChatHuggingFace\n",
    "from huggingface_hub import login\n",
    "\n",
    "from IPython.display import Image, display\n",
    "\n",
    "import os\n",
    "os.environ[\"LANGCHAIN_TRACING_V2\"] = \"false\"    # Disable LangSmith tracing\n",
    "\n",
    "import dotenv\n",
    "dotenv.load_dotenv()\n",
    "HUGGINGFACE_TOKEN = os.getenv(\"HUGGINGFACE_LANGGRAPH\")\n",
    "\n",
    "# State\n",
    "class State(TypedDict):\n",
    "    messages: Annotated[list, add_messages]\n",
    "\n",
    "# Create the LLM model\n",
    "login(token=HUGGINGFACE_TOKEN)  # Login to HuggingFace to use the model\n",
    "MODEL = \"Qwen/Qwen2.5-72B-Instruct\"\n",
    "model = HuggingFaceEndpoint(\n",
    "    repo_id=MODEL,\n",
    "    task=\"text-generation\",\n",
    "    max_new_tokens=512,\n",
    "    do_sample=False,\n",
    "    repetition_penalty=1.03,\n",
    ")\n",
    "# Create the chat model\n",
    "llm = ChatHuggingFace(llm=model)\n",
    "\n",
    "# Function\n",
    "def chatbot_function(state: State):\n",
    "    return {\"messages\": [llm.invoke(state[\"messages\"])]}\n",
    "\n",
    "# Start to build the graph\n",
    "graph_builder = StateGraph(State)\n",
    "\n",
    "# Add nodes to the graph\n",
    "graph_builder.add_node(\"chatbot_node\", chatbot_function)\n",
    "\n",
    "# Add edges\n",
    "graph_builder.add_edge(START, \"chatbot_node\")\n",
    "graph_builder.add_edge(\"chatbot_node\", END)\n",
    "\n",
    "# Compile the graph\n",
    "graph = graph_builder.compile()\n",
    "\n",
    "# Display the graph\n",
    "try:\n",
    "    display(Image(graph.get_graph().draw_mermaid_png()))\n",
    "except Exception as e:\n",
    "    print(f\"Error al visualizar el grafo: {e}\")"
   ]
  },
  {
   "cell_type": "markdown",
   "metadata": {},
   "source": [
    "Vamos a probarlo"
   ]
  },
  {
   "cell_type": "code",
   "execution_count": 7,
   "metadata": {},
   "outputs": [
    {
     "name": "stdout",
     "output_type": "stream",
     "text": [
      "==================================\u001b[1m Ai Message \u001b[0m==================================\n",
      "\n",
      "Hello! I'm doing well, thank you for asking. How about you? How can I assist you today?\n"
     ]
    }
   ],
   "source": [
    "from langchain_core.messages import HumanMessage\n",
    "\n",
    "messages = [HumanMessage(content=\"Hello, how are you?\")]\n",
    "\n",
    "result = graph.invoke({\"messages\": messages})\n",
    "result[\"messages\"][-1].pretty_print()"
   ]
  },
  {
   "cell_type": "markdown",
   "metadata": {},
   "source": [
    "## Cadena de bloques (chain of blocks)"
   ]
  },
  {
   "cell_type": "markdown",
   "metadata": {},
   "source": [
    "![chain of blocks](https://pub-fb664c455eca46a2ba762a065ac900f7.r2.dev/agent_patterns_02_chain_of_blocks.webp)"
   ]
  },
  {
   "cell_type": "markdown",
   "metadata": {},
   "source": [
    "Cuando una tarea se puede dividir en varias subtareas, podemos usar una cadena de bloques. Por ejemplo, si queremos resumir y traducir un texto, podemos hacerlo en dos pasos:"
   ]
  },
  {
   "cell_type": "code",
   "execution_count": 1,
   "metadata": {},
   "outputs": [
    {
     "name": "stdout",
     "output_type": "stream",
     "text": [
      "Error al visualizar el grafo: Failed to reach https://mermaid.ink/ API while trying to render your graph after 1 retries. To resolve this issue:\n",
      "1. Check your internet connection and try again\n",
      "2. Try with higher retry settings: `draw_mermaid_png(..., max_retries=5, retry_delay=2.0)`\n",
      "3. Use the Pyppeteer rendering method which will render your graph locally in a browser: `draw_mermaid_png(..., draw_method=MermaidDrawMethod.PYPPETEER)`\n"
     ]
    }
   ],
   "source": [
    "from typing import Annotated\n",
    "from typing_extensions import TypedDict\n",
    "\n",
    "from langgraph.graph import StateGraph, START, END\n",
    "from langgraph.graph.message import add_messages\n",
    "\n",
    "from langchain_huggingface import HuggingFaceEndpoint, ChatHuggingFace\n",
    "from langchain_core.messages import SystemMessage\n",
    "from huggingface_hub import login\n",
    "\n",
    "from IPython.display import Image, display\n",
    "\n",
    "import os\n",
    "os.environ[\"LANGCHAIN_TRACING_V2\"] = \"false\"    # Disable LangSmith tracing\n",
    "\n",
    "import dotenv\n",
    "dotenv.load_dotenv()\n",
    "HUGGINGFACE_TOKEN = os.getenv(\"HUGGINGFACE_LANGGRAPH\")\n",
    "\n",
    "# State\n",
    "class State(TypedDict):\n",
    "    messages: Annotated[list, add_messages]\n",
    "\n",
    "# Create the LLM model\n",
    "login(token=HUGGINGFACE_TOKEN)  # Login to HuggingFace to use the model\n",
    "MODEL = \"Qwen/Qwen2.5-72B-Instruct\"\n",
    "model = HuggingFaceEndpoint(\n",
    "    repo_id=MODEL,\n",
    "    task=\"text-generation\",\n",
    "    max_new_tokens=512,\n",
    "    do_sample=False,\n",
    "    repetition_penalty=1.03,\n",
    ")\n",
    "# Create the chat model\n",
    "llm = ChatHuggingFace(llm=model)\n",
    "\n",
    "# Function\n",
    "def summary(state: State):\n",
    "    input_text = state[\"messages\"][-1].content\n",
    "    prompt = f\"Summarize the following text: {input_text}\"\n",
    "    llm_response = llm.invoke(prompt)\n",
    "    return {\"messages\": [llm_response]}\n",
    "\n",
    "def translate(state: State):\n",
    "    input_text = state[\"messages\"][-1].content\n",
    "    prompt = f\"Translate the following text to Spanish: {input_text}\"\n",
    "    llm_response = llm.invoke(prompt)\n",
    "    return {\"messages\": [llm_response]}\n",
    "\n",
    "# Start to build the graph\n",
    "graph_builder = StateGraph(State)\n",
    "\n",
    "# Add nodes to the graph\n",
    "graph_builder.add_node(\"summary\", summary)\n",
    "graph_builder.add_node(\"translate\", translate)\n",
    "\n",
    "# Add edges\n",
    "graph_builder.add_edge(START, \"summary\")\n",
    "graph_builder.add_edge(\"summary\", \"translate\")\n",
    "graph_builder.add_edge(\"translate\", END)\n",
    "\n",
    "# Compile the graph\n",
    "graph = graph_builder.compile()\n",
    "\n",
    "# Display the graph\n",
    "try:\n",
    "    display(Image(graph.get_graph().draw_mermaid_png()))\n",
    "except Exception as e:\n",
    "    print(f\"Error al visualizar el grafo: {e}\")"
   ]
  },
  {
   "cell_type": "code",
   "execution_count": 2,
   "metadata": {},
   "outputs": [
    {
     "name": "stdout",
     "output_type": "stream",
     "text": [
      "================================\u001b[1m Human Message \u001b[0m=================================\n",
      "\n",
      "Large language models are powerful AI systems trained on vast amounts of text data.\n",
      "They can generate human-like text, translate languages, write different kinds of creative content, and answer your questions in an informative way.\n",
      "==================================\u001b[1m Ai Message \u001b[0m==================================\n",
      "\n",
      "Large language models are advanced AI systems trained on extensive text data, enabling them to produce human-like text, translate languages, create various types of creative content, and provide informative answers to questions.\n",
      "==================================\u001b[1m Ai Message \u001b[0m==================================\n",
      "\n",
      "Los modelos de lenguaje grandes son sistemas de IA avanzados entrenados con extensos datos de texto, lo que les permite producir texto similar al humano, traducir idiomas, crear diversos tipos de contenido creativo y proporcionar respuestas informativas a preguntas.\n"
     ]
    }
   ],
   "source": [
    "from langchain_core.messages import HumanMessage\n",
    "\n",
    "text = \"\"\"Large language models are powerful AI systems trained on vast amounts of text data.\n",
    "They can generate human-like text, translate languages, write different kinds of creative content, and answer your questions in an informative way.\"\"\"\n",
    "\n",
    "messages = [HumanMessage(content=text)]\n",
    "\n",
    "result = graph.invoke({\"messages\": messages})\n",
    "\n",
    "for message in result[\"messages\"]:\n",
    "    message.pretty_print()"
   ]
  },
  {
   "cell_type": "markdown",
   "metadata": {},
   "source": [
    "## Enrutamiento (routing)"
   ]
  },
  {
   "cell_type": "markdown",
   "metadata": {},
   "source": [
    "![routing](https://pub-fb664c455eca46a2ba762a065ac900f7.r2.dev/agent_patterns_03_routing.webp)"
   ]
  },
  {
   "cell_type": "markdown",
   "metadata": {},
   "source": [
    "Otra cosa que podemos hacer es crear varias rutas en función del problema y elegir la que mejor se adapte a nuestro problema. Vamos a ver un ejemplo en el que el usuario puede elegir entre resumir o traducir un texto."
   ]
  },
  {
   "cell_type": "code",
   "execution_count": 1,
   "metadata": {},
   "outputs": [
    {
     "data": {
      "image/png": "[encoded data removed]",
      "text/plain": [
       "<IPython.core.display.Image object>"
      ]
     },
     "metadata": {},
     "output_type": "display_data"
    }
   ],
   "source": [
    "from typing import Annotated\n",
    "from typing_extensions import TypedDict\n",
    "\n",
    "from langgraph.graph import StateGraph, START, END\n",
    "from langgraph.graph.message import add_messages\n",
    "\n",
    "from langchain_huggingface import HuggingFaceEndpoint, ChatHuggingFace\n",
    "from langchain_core.messages import SystemMessage, HumanMessage\n",
    "from huggingface_hub import login\n",
    "\n",
    "from IPython.display import Image, display\n",
    "\n",
    "import os\n",
    "os.environ[\"LANGCHAIN_TRACING_V2\"] = \"false\"    # Disable LangSmith tracing\n",
    "\n",
    "import dotenv\n",
    "dotenv.load_dotenv()\n",
    "HUGGINGFACE_TOKEN = os.getenv(\"HUGGINGFACE_LANGGRAPH\")\n",
    "\n",
    "# State\n",
    "class State(TypedDict):\n",
    "    messages: Annotated[list, add_messages]\n",
    "\n",
    "# Create the LLM model\n",
    "login(token=HUGGINGFACE_TOKEN)  # Login to HuggingFace to use the model\n",
    "MODEL = \"Qwen/Qwen2.5-72B-Instruct\"\n",
    "model = HuggingFaceEndpoint(\n",
    "    repo_id=MODEL,\n",
    "    task=\"text-generation\",\n",
    "    max_new_tokens=512,\n",
    "    do_sample=False,\n",
    "    repetition_penalty=1.03,\n",
    ")\n",
    "# Create the chat model\n",
    "llm = ChatHuggingFace(llm=model)\n",
    "\n",
    "# Function\n",
    "def chatbot_function(state: State):\n",
    "    return {\"messages\": [llm.invoke(state[\"messages\"])]}\n",
    "\n",
    "def summary(state: State):\n",
    "    input_text = state[\"messages\"][-1].content\n",
    "    prompt = f\"Summarize the following text: {input_text}\"\n",
    "    llm_response = llm.invoke(prompt)\n",
    "    return {\"messages\": [llm_response]}\n",
    "\n",
    "def translate(state: State):\n",
    "    input_text = state[\"messages\"][-1].content\n",
    "    prompt = f\"Translate the following text to Spanish: {input_text}\"\n",
    "    llm_response = llm.invoke(prompt)\n",
    "    return {\"messages\": [llm_response]}\n",
    "\n",
    "# Decision function for conditional edges\n",
    "def decide_next_step(state: State) -> str:\n",
    "    \"\"\"\n",
    "    Decides the next step after the chatbot_node.\n",
    "    It checks the user's last message for keywords like 'summarize' or 'translate'.\n",
    "    \"\"\"\n",
    "    # Filter out human messages from the state\n",
    "    user_messages = [msg for msg in state[\"messages\"] if isinstance(msg, HumanMessage)]\n",
    "    \n",
    "    if not user_messages:\n",
    "        # If there are no human messages, default to ending the process\n",
    "        return \"end\"\n",
    "\n",
    "    # Get the content of the last human message\n",
    "    last_user_message_content = user_messages[-1].content.lower()\n",
    "\n",
    "    if \"summarize\" in last_user_message_content or \"resumir\" in last_user_message_content:\n",
    "        # If the user asked to summarize\n",
    "        return \"summary\"\n",
    "    elif \"translate\" in last_user_message_content or \"traducir\" in last_user_message_content:\n",
    "        # If the user asked to translate\n",
    "        return \"translate\"\n",
    "    else:\n",
    "        # Otherwise, end the process\n",
    "        return \"end\"\n",
    "\n",
    "# Start to build the graph\n",
    "graph_builder = StateGraph(State)\n",
    "\n",
    "# Add nodes to the graph\n",
    "graph_builder.add_node(\"chatbot_node\", chatbot_function)\n",
    "graph_builder.add_node(\"summary\", summary)\n",
    "graph_builder.add_node(\"translate\", translate)\n",
    "\n",
    "# Add edges\n",
    "graph_builder.add_edge(START, \"chatbot_node\")\n",
    "\n",
    "# Add conditional edges from chatbot_node\n",
    "# The decide_next_step function will determine which path to take\n",
    "graph_builder.add_conditional_edges(\n",
    "    \"chatbot_node\",         # The node where the decision is made\n",
    "    decide_next_step,       # The function that makes the decision\n",
    "    {                       # A dictionary mapping decision outcomes to next nodes\n",
    "        \"summary\": \"summary\",   # If decide_next_step returns \"summary\", go to the \"summary\" node\n",
    "        \"translate\": \"translate\", # If decide_next_step returns \"translate\", go to the \"translate\" node\n",
    "        \"end\": END              # If decide_next_step returns \"end\", end the graph\n",
    "    }\n",
    ")\n",
    "\n",
    "# Add edges to end the graph after summary or translate\n",
    "graph_builder.add_edge(\"summary\", END)\n",
    "graph_builder.add_edge(\"translate\", END)\n",
    "\n",
    "# Compile the graph\n",
    "graph = graph_builder.compile()\n",
    "\n",
    "# Display the graph\n",
    "try:\n",
    "    display(Image(graph.get_graph().draw_mermaid_png()))\n",
    "except Exception as e:\n",
    "    print(f\"Error al visualizar el grafo: {e}\")"
   ]
  },
  {
   "cell_type": "code",
   "execution_count": 2,
   "metadata": {},
   "outputs": [
    {
     "name": "stdout",
     "output_type": "stream",
     "text": [
      "================================\u001b[1m Human Message \u001b[0m=================================\n",
      "\n",
      "Summarize the following text: Large language models are powerful AI systems trained on vast amounts of text data.\n",
      "They can generate human-like text, translate languages, write different kinds of creative content, and answer your questions in an informative way.\n",
      "==================================\u001b[1m Ai Message \u001b[0m==================================\n",
      "\n",
      "Large language models are advanced AI systems trained on extensive text data, enabling them to produce human-like text, translate languages, create various types of creative content, and provide informative answers to questions.\n",
      "==================================\u001b[1m Ai Message \u001b[0m==================================\n",
      "\n",
      "Large language models are sophisticated AI systems trained on vast amounts of text data, which allows them to generate human-like text, translate languages, produce creative content, and answer questions informatively.\n"
     ]
    }
   ],
   "source": [
    "from langchain_core.messages import HumanMessage\n",
    "\n",
    "text = \"\"\"Large language models are powerful AI systems trained on vast amounts of text data.\n",
    "They can generate human-like text, translate languages, write different kinds of creative content, and answer your questions in an informative way.\"\"\"\n",
    "\n",
    "prompt = f\"Summarize the following text: {text}\"\n",
    "\n",
    "messages = [HumanMessage(content=prompt)]\n",
    "\n",
    "result = graph.invoke({\"messages\": messages})\n",
    "\n",
    "for message in result[\"messages\"]:\n",
    "    message.pretty_print()"
   ]
  },
  {
   "cell_type": "code",
   "execution_count": 3,
   "metadata": {},
   "outputs": [
    {
     "name": "stdout",
     "output_type": "stream",
     "text": [
      "================================\u001b[1m Human Message \u001b[0m=================================\n",
      "\n",
      "Translate the following text to Spanish: Large language models are powerful AI systems trained on vast amounts of text data.\n",
      "They can generate human-like text, translate languages, write different kinds of creative content, and answer your questions in an informative way.\n",
      "==================================\u001b[1m Ai Message \u001b[0m==================================\n",
      "\n",
      "Los modelos de lenguaje grandes son sistemas de IA potentes entrenados en enormes cantidades de datos de texto. Pueden generar texto similar al humano, traducir idiomas, escribir diversos tipos de contenido creativo y responder a tus preguntas de manera informativa.\n",
      "==================================\u001b[1m Ai Message \u001b[0m==================================\n",
      "\n",
      "Los grandes modelos de lenguaje son sistemas de IA potentes entrenados en enormes cantidades de datos de texto. Pueden generar texto similar al humano, traducir idiomas, escribir diversos tipos de contenido creativo y responder a tus preguntas de manera informativa.\n"
     ]
    }
   ],
   "source": [
    "from langchain_core.messages import HumanMessage\n",
    "\n",
    "text = \"\"\"Large language models are powerful AI systems trained on vast amounts of text data.\n",
    "They can generate human-like text, translate languages, write different kinds of creative content, and answer your questions in an informative way.\"\"\"\n",
    "\n",
    "prompt = f\"Translate the following text to Spanish: {text}\"\n",
    "\n",
    "messages = [HumanMessage(content=prompt)]\n",
    "\n",
    "result = graph.invoke({\"messages\": messages})\n",
    "\n",
    "for message in result[\"messages\"]:\n",
    "    message.pretty_print()"
   ]
  },
  {
   "cell_type": "markdown",
   "metadata": {},
   "source": [
    "## Paralelización (parallelization)"
   ]
  },
  {
   "cell_type": "markdown",
   "metadata": {},
   "source": [
    "![parallelization](https://pub-fb664c455eca46a2ba762a065ac900f7.r2.dev/agent_patterns_04_paralellitation.webp)"
   ]
  },
  {
   "cell_type": "markdown",
   "metadata": {},
   "source": [
    "Cuando una tarea es muy importante o compleja podemos paralelizarla para que la ejecuten diferentes LLMs. Después le pasamos el resultado a un LLM para que pueda combinarlos. Vamos a ver un ejemplo en el que tenemos tres LLMs que resumen un texto de manera diferente y luego lo combinamos."
   ]
  },
  {
   "cell_type": "code",
   "execution_count": 19,
   "metadata": {},
   "outputs": [
    {
     "name": "stdout",
     "output_type": "stream",
     "text": [
      "Error al visualizar el grafo: Failed to reach https://mermaid.ink/ API while trying to render your graph after 1 retries. To resolve this issue:\n",
      "1. Check your internet connection and try again\n",
      "2. Try with higher retry settings: `draw_mermaid_png(..., max_retries=5, retry_delay=2.0)`\n",
      "3. Use the Pyppeteer rendering method which will render your graph locally in a browser: `draw_mermaid_png(..., draw_method=MermaidDrawMethod.PYPPETEER)`\n"
     ]
    }
   ],
   "source": [
    "from typing import Annotated\n",
    "from typing_extensions import TypedDict\n",
    "\n",
    "from langgraph.graph import StateGraph, START, END\n",
    "from langgraph.graph.message import add_messages\n",
    "\n",
    "from langchain_huggingface import HuggingFaceEndpoint, ChatHuggingFace\n",
    "from langchain_core.messages import SystemMessage, HumanMessage\n",
    "from huggingface_hub import login\n",
    "\n",
    "from IPython.display import Image, display\n",
    "\n",
    "import os\n",
    "os.environ[\"LANGCHAIN_TRACING_V2\"] = \"false\"    # Disable LangSmith tracing\n",
    "\n",
    "import dotenv\n",
    "dotenv.load_dotenv()\n",
    "HUGGINGFACE_TOKEN = os.getenv(\"HUGGINGFACE_LANGGRAPH\")\n",
    "\n",
    "# State\n",
    "class State(TypedDict):\n",
    "    messages: Annotated[list, add_messages]\n",
    "    tiny_summary: str\n",
    "    normal_summary: str\n",
    "    extended_summary: str\n",
    "\n",
    "# Create the LLM model\n",
    "login(token=HUGGINGFACE_TOKEN)  # Login to HuggingFace to use the model\n",
    "MODEL = \"Qwen/Qwen2.5-72B-Instruct\"\n",
    "model = HuggingFaceEndpoint(\n",
    "    repo_id=MODEL,\n",
    "    task=\"text-generation\",\n",
    "    max_new_tokens=512,\n",
    "    do_sample=False,\n",
    "    repetition_penalty=1.03,\n",
    ")\n",
    "# Create the chat model\n",
    "llm = ChatHuggingFace(llm=model)\n",
    "\n",
    "# Function\n",
    "def tiny_summary(state: State):\n",
    "    input_text = state[\"messages\"][-1].content\n",
    "    prompt = f\"Summarize the following text in 10 words: {input_text}\"\n",
    "    llm_response = llm.invoke(prompt)\n",
    "    return {\"messages\": [llm_response], \"tiny_summary\": llm_response.content}\n",
    "\n",
    "def normal_summary(state: State):\n",
    "    input_text = state[\"messages\"][-1].content\n",
    "    prompt = f\"Summarize the following text: {input_text}\"\n",
    "    llm_response = llm.invoke(prompt)\n",
    "    return {\"messages\": [llm_response], \"normal_summary\": llm_response.content}\n",
    "\n",
    "def extended_summary(state: State):\n",
    "    input_text = state[\"messages\"][-1].content\n",
    "    prompt = f\"Summarize the following text in 100 words: {input_text}\"\n",
    "    llm_response = llm.invoke(prompt)\n",
    "    return {\"messages\": [llm_response], \"extended_summary\": llm_response.content}\n",
    "\n",
    "def aggregate(state: State):\n",
    "    prompt = f\"Combine the following summaries into a single one: {state['tiny_summary']}, {state['normal_summary']}, {state['extended_summary']}\"\n",
    "    llm_response = llm.invoke(prompt)\n",
    "    return {\"messages\": [llm_response]}\n",
    "\n",
    "# Start to build the graph\n",
    "graph_builder = StateGraph(State)\n",
    "\n",
    "# Add nodes to the graph\n",
    "graph_builder.add_node(\"tiny_summary_node\", tiny_summary)\n",
    "graph_builder.add_node(\"normal_summary_node\", normal_summary)\n",
    "graph_builder.add_node(\"extended_summary_node\", extended_summary)\n",
    "graph_builder.add_node(\"aggregate_node\", aggregate)\n",
    "\n",
    "# Add edges\n",
    "graph_builder.add_edge(START, \"tiny_summary_node\")\n",
    "graph_builder.add_edge(START, \"normal_summary_node\")\n",
    "graph_builder.add_edge(START, \"extended_summary_node\")\n",
    "graph_builder.add_edge(\"tiny_summary_node\", \"aggregate_node\")\n",
    "graph_builder.add_edge(\"normal_summary_node\", \"aggregate_node\")\n",
    "graph_builder.add_edge(\"extended_summary_node\", \"aggregate_node\")\n",
    "graph_builder.add_edge(\"aggregate_node\", END)\n",
    "\n",
    "# Compile the graph\n",
    "graph = graph_builder.compile()\n",
    "\n",
    "# Display the graph\n",
    "try:\n",
    "    display(Image(graph.get_graph().draw_mermaid_png()))\n",
    "except Exception as e:\n",
    "    print(f\"Error al visualizar el grafo: {e}\")"
   ]
  },
  {
   "cell_type": "code",
   "execution_count": 20,
   "metadata": {},
   "outputs": [
    {
     "name": "stdout",
     "output_type": "stream",
     "text": [
      "================================\u001b[1m Human Message \u001b[0m=================================\n",
      "\n",
      "Large language models are powerful AI systems trained on vast amounts of text data.\n",
      "They can generate human-like text, translate languages, write different kinds of creative content, and answer your questions in an informative way.\n",
      "==================================\u001b[1m Ai Message \u001b[0m==================================\n",
      "\n",
      "Large language models are advanced AI systems trained on extensive text data, enabling them to produce human-like text, translate languages, create diverse content, and provide informative answers to questions. These models leverage their vast training data to understand context and generate responses that are often indistinguishable from those written by humans, making them useful in various applications such as writing, translation, and customer service.\n",
      "==================================\u001b[1m Ai Message \u001b[0m==================================\n",
      "\n",
      "Large language models are advanced AI systems trained on extensive text data, enabling them to produce human-like text, translate languages, create various types of creative content, and provide informative answers to questions.\n",
      "==================================\u001b[1m Ai Message \u001b[0m==================================\n",
      "\n",
      "AI models trained on text data generate human-like responses, translations, and content.\n",
      "==================================\u001b[1m Ai Message \u001b[0m==================================\n",
      "\n",
      "Large language models are advanced AI systems trained on extensive text data, enabling them to produce human-like text, translate languages, create diverse and creative content, and provide informative answers to questions. These models leverage their vast training data to understand context and generate responses that are often indistinguishable from those written by humans, making them useful in various applications such as writing, translation, and customer service.\n"
     ]
    }
   ],
   "source": [
    "from langchain_core.messages import HumanMessage\n",
    "\n",
    "text = \"\"\"Large language models are powerful AI systems trained on vast amounts of text data.\n",
    "They can generate human-like text, translate languages, write different kinds of creative content, and answer your questions in an informative way.\"\"\"\n",
    "\n",
    "messages = [HumanMessage(content=text)]\n",
    "\n",
    "result = graph.invoke({\"messages\": messages})\n",
    "\n",
    "for message in result[\"messages\"]:\n",
    "    message.pretty_print()"
   ]
  },
  {
   "cell_type": "markdown",
   "metadata": {},
   "source": [
    "## Evaluador-optimizador (reflection pattern)"
   ]
  },
  {
   "cell_type": "markdown",
   "metadata": {},
   "source": [
    "![reflection pattern](https://pub-fb664c455eca46a2ba762a065ac900f7.r2.dev/agent_patterns_05_reflection_pattern.webp)"
   ]
  },
  {
   "cell_type": "markdown",
   "metadata": {},
   "source": [
    "Otra manera de resolver tareas complejas es tener un LLM para resolver la tarea y otro LLM para evaluar el resultado, de manera que se ejecutan en bucle, hasta que el evaluador considera que en trabajo ha finalizado correctamente. Vamos a ver un ejemplo en el que un LLM suma 1 a un número y otro comprueba si el número es 10. "
   ]
  },
  {
   "cell_type": "code",
   "execution_count": 4,
   "metadata": {},
   "outputs": [
    {
     "data": {
      "image/png": "[encoded data removed]",
      "text/plain": [
       "<IPython.core.display.Image object>"
      ]
     },
     "metadata": {},
     "output_type": "display_data"
    }
   ],
   "source": [
    "from typing import Annotated\n",
    "from typing_extensions import TypedDict\n",
    "\n",
    "from langgraph.graph import StateGraph, START, END\n",
    "from langgraph.graph.message import add_messages\n",
    "\n",
    "from langchain_huggingface import HuggingFaceEndpoint, ChatHuggingFace\n",
    "from langchain_core.messages import SystemMessage, HumanMessage, AIMessage\n",
    "from huggingface_hub import login\n",
    "\n",
    "from IPython.display import Image, display\n",
    "\n",
    "import os\n",
    "os.environ[\"LANGCHAIN_TRACING_V2\"] = \"false\"    # Disable LangSmith tracing\n",
    "\n",
    "import dotenv\n",
    "dotenv.load_dotenv()\n",
    "HUGGINGFACE_TOKEN = os.getenv(\"HUGGINGFACE_LANGGRAPH\")\n",
    "\n",
    "# State\n",
    "class State(TypedDict):\n",
    "    messages: Annotated[list, add_messages]\n",
    "    number: int\n",
    "    evaluator: str\n",
    "    \n",
    "# Create the LLM model\n",
    "login(token=HUGGINGFACE_TOKEN)  # Login to HuggingFace to use the model\n",
    "MODEL = \"Qwen/Qwen2.5-72B-Instruct\"\n",
    "model = HuggingFaceEndpoint(\n",
    "    repo_id=MODEL,\n",
    "    task=\"text-generation\",\n",
    "    max_new_tokens=512,\n",
    "    do_sample=False,\n",
    "    repetition_penalty=1.03,\n",
    ")\n",
    "# Create the chat model\n",
    "llm = ChatHuggingFace(llm=model)\n",
    "\n",
    "# Function\n",
    "def agregate_1(state: State):\n",
    "    if state.get(\"number\", None) is None:\n",
    "        input_text = state[\"messages\"][-1].content\n",
    "        prompt = f\"Get the number from the following text: {input_text}. Respond only with the number.\"\n",
    "        number_str = llm.invoke(prompt)\n",
    "        number = int(number_str.content)\n",
    "        state[\"number\"] = number\n",
    "    \n",
    "    number_state = state[\"number\"]\n",
    "    number_plus_1 = number_state + 1\n",
    "    response = AIMessage(content=f\"[Agregator] --> The number is {number_state} and the next number is {number_plus_1}\")\n",
    "    return {\"messages\": [response], \"number\": number_plus_1, \"evaluator\": \"no\"}\n",
    "\n",
    "def evaluator(state: State):\n",
    "    prompt = f\"Is the following number {state['number']} equal to 10? Respond only with 'yes' or 'no'.\"\n",
    "    result = llm.invoke(prompt)\n",
    "    number_state = state[\"number\"]\n",
    "    response = AIMessage(content=f\"[Evaluator] --> Is the following number {number_state} equal to 10? Result: {result.content}\")\n",
    "    return {\"messages\": [response], \"evaluator\": result.content, \"number\": number_state}\n",
    "\n",
    "def decide_next_step(state: State):\n",
    "    if state[\"evaluator\"] == \"yes\":\n",
    "        return END\n",
    "    else:\n",
    "        return \"agregate_1_node\"\n",
    "\n",
    "# Start to build the graph\n",
    "graph_builder = StateGraph(State)\n",
    "\n",
    "# Add nodes to the graph\n",
    "graph_builder.add_node(\"agregate_1_node\", agregate_1)\n",
    "graph_builder.add_node(\"evaluator_node\", evaluator)\n",
    "\n",
    "# Add edges\n",
    "graph_builder.add_edge(START, \"agregate_1_node\")\n",
    "graph_builder.add_edge(\"agregate_1_node\", \"evaluator_node\")\n",
    "graph_builder.add_conditional_edges(\n",
    "    \"evaluator_node\",\n",
    "    decide_next_step,\n",
    "    {\n",
    "        \"agregate_1_node\": \"agregate_1_node\",\n",
    "        END: END\n",
    "    }\n",
    ")\n",
    "\n",
    "# Compile the graph\n",
    "graph = graph_builder.compile()\n",
    "\n",
    "# Display the graph\n",
    "try:\n",
    "    display(Image(graph.get_graph().draw_mermaid_png()))\n",
    "except Exception as e:\n",
    "    print(f\"Error al visualizar el grafo: {e}\")"
   ]
  },
  {
   "cell_type": "code",
   "execution_count": 5,
   "metadata": {},
   "outputs": [
    {
     "name": "stdout",
     "output_type": "stream",
     "text": [
      "================================\u001b[1m Human Message \u001b[0m=================================\n",
      "\n",
      "Start the process with the number 1\n",
      "==================================\u001b[1m Ai Message \u001b[0m==================================\n",
      "\n",
      "[Agregator] --> The number is 1 and the next number is 2\n",
      "==================================\u001b[1m Ai Message \u001b[0m==================================\n",
      "\n",
      "[Evaluator] --> Is the following number 2 equal to 10? Result: no\n",
      "==================================\u001b[1m Ai Message \u001b[0m==================================\n",
      "\n",
      "[Agregator] --> The number is 2 and the next number is 3\n",
      "==================================\u001b[1m Ai Message \u001b[0m==================================\n",
      "\n",
      "[Evaluator] --> Is the following number 3 equal to 10? Result: no\n",
      "==================================\u001b[1m Ai Message \u001b[0m==================================\n",
      "\n",
      "[Agregator] --> The number is 3 and the next number is 4\n",
      "==================================\u001b[1m Ai Message \u001b[0m==================================\n",
      "\n",
      "[Evaluator] --> Is the following number 4 equal to 10? Result: no\n",
      "==================================\u001b[1m Ai Message \u001b[0m==================================\n",
      "\n",
      "[Agregator] --> The number is 4 and the next number is 5\n",
      "==================================\u001b[1m Ai Message \u001b[0m==================================\n",
      "\n",
      "[Evaluator] --> Is the following number 5 equal to 10? Result: no\n",
      "==================================\u001b[1m Ai Message \u001b[0m==================================\n",
      "\n",
      "[Agregator] --> The number is 5 and the next number is 6\n",
      "==================================\u001b[1m Ai Message \u001b[0m==================================\n",
      "\n",
      "[Evaluator] --> Is the following number 6 equal to 10? Result: no\n",
      "==================================\u001b[1m Ai Message \u001b[0m==================================\n",
      "\n",
      "[Agregator] --> The number is 6 and the next number is 7\n",
      "==================================\u001b[1m Ai Message \u001b[0m==================================\n",
      "\n",
      "[Evaluator] --> Is the following number 7 equal to 10? Result: no\n",
      "==================================\u001b[1m Ai Message \u001b[0m==================================\n",
      "\n",
      "[Agregator] --> The number is 7 and the next number is 8\n",
      "==================================\u001b[1m Ai Message \u001b[0m==================================\n",
      "\n",
      "[Evaluator] --> Is the following number 8 equal to 10? Result: no\n",
      "==================================\u001b[1m Ai Message \u001b[0m==================================\n",
      "\n",
      "[Agregator] --> The number is 8 and the next number is 9\n",
      "==================================\u001b[1m Ai Message \u001b[0m==================================\n",
      "\n",
      "[Evaluator] --> Is the following number 9 equal to 10? Result: no\n",
      "==================================\u001b[1m Ai Message \u001b[0m==================================\n",
      "\n",
      "[Agregator] --> The number is 9 and the next number is 10\n",
      "==================================\u001b[1m Ai Message \u001b[0m==================================\n",
      "\n",
      "[Evaluator] --> Is the following number 10 equal to 10? Result: yes\n"
     ]
    }
   ],
   "source": [
    "from langchain_core.messages import HumanMessage\n",
    "\n",
    "prompt = \"Start the process with the number 1\"\n",
    "\n",
    "messages = [HumanMessage(content=prompt)]\n",
    "\n",
    "result = graph.invoke({\"messages\": messages}, {\"number\": None})\n",
    "\n",
    "for message in result[\"messages\"]:\n",
    "    message.pretty_print()"
   ]
  },
  {
   "cell_type": "markdown",
   "metadata": {},
   "source": [
    "## Agente con herramientas (ReAct pattern)"
   ]
  },
  {
   "cell_type": "markdown",
   "metadata": {},
   "source": [
    "![ReAct pattern](https://pub-fb664c455eca46a2ba762a065ac900f7.r2.dev/agent_patterns_06_react_pattern.webp)"
   ]
  },
  {
   "cell_type": "markdown",
   "metadata": {},
   "source": [
    " > **Nota**: Este patrón lo voy a tener que resolver con Sonnet"
   ]
  },
  {
   "cell_type": "markdown",
   "metadata": {},
   "source": [
    "Otra posibilidad es poder darle herramientas al agente"
   ]
  },
  {
   "cell_type": "code",
   "execution_count": 20,
   "metadata": {},
   "outputs": [
    {
     "data": {
      "image/png": "[encoded data removed]",
      "text/plain": [
       "<IPython.core.display.Image object>"
      ]
     },
     "metadata": {},
     "output_type": "display_data"
    }
   ],
   "source": [
    "from typing import Annotated\n",
    "from typing_extensions import TypedDict\n",
    "\n",
    "from langgraph.graph import StateGraph, START, END\n",
    "from langgraph.graph.message import add_messages\n",
    "from langgraph.prebuilt import ToolNode, tools_condition\n",
    "\n",
    "from langchain_huggingface import HuggingFaceEndpoint, ChatHuggingFace\n",
    "from langchain_anthropic import ChatAnthropic\n",
    "from langchain_core.messages import SystemMessage, HumanMessage, AIMessage\n",
    "from langchain_core.tools import tool\n",
    "\n",
    "from huggingface_hub import login\n",
    "\n",
    "from IPython.display import Image, display\n",
    "\n",
    "import os\n",
    "os.environ[\"LANGCHAIN_TRACING_V2\"] = \"false\"    # Disable LangSmith tracing\n",
    "\n",
    "import dotenv\n",
    "dotenv.load_dotenv()\n",
    "ANTHROPIC_TOKEN = os.getenv(\"ANTHROPIC_LANGGRAPH_API_KEY\")\n",
    "\n",
    "# State\n",
    "class State(TypedDict):\n",
    "    messages: Annotated[list, add_messages]\n",
    "\n",
    "# Tools\n",
    "@tool\n",
    "def multiply(a: int, b: int) -> int:\n",
    "    \"\"\"Multiply a and b.\n",
    "\n",
    "    Args:\n",
    "        a: first int\n",
    "        b: second int\n",
    "\n",
    "    Returns:\n",
    "        The product of a and b.\n",
    "    \"\"\"\n",
    "    return a * b\n",
    "\n",
    "tools_list = [multiply]\n",
    "    \n",
    "# Create the LLM model\n",
    "llm = ChatAnthropic(model=\"claude-3-7-sonnet-20250219\", api_key=ANTHROPIC_TOKEN)\n",
    "llm_with_tools = llm.bind_tools(tools_list)\n",
    "\n",
    "# Function\n",
    "def chatbot_function(state: State):\n",
    "    system_message = \"You are a helpful assistant that can use tools to answer questions. Once you have the result of a tool, provide a final answer without calling more tools.\"\n",
    "    messages = [SystemMessage(content=system_message)] + state[\"messages\"]\n",
    "    return {\"messages\": [llm_with_tools.invoke(messages)]}\n",
    "\n",
    "# Start to build the graph\n",
    "graph_builder = StateGraph(State)\n",
    "\n",
    "# Add nodes to the graph\n",
    "graph_builder.add_node(\"chatbot_node\", chatbot_function)\n",
    "tool_node = ToolNode(tools=tools_list)\n",
    "graph_builder.add_node(\"tools\", tool_node)\n",
    "\n",
    "# Add edges\n",
    "graph_builder.add_edge(START, \"chatbot_node\")\n",
    "graph_builder.add_conditional_edges(\"chatbot_node\", tools_condition)\n",
    "graph_builder.add_edge(\"tools\", \"chatbot_node\")\n",
    "graph_builder.add_edge(\"chatbot_node\", END)\n",
    "\n",
    "# Compile the graph\n",
    "graph = graph_builder.compile()\n",
    "\n",
    "# Display the graph\n",
    "try:\n",
    "    display(Image(graph.get_graph().draw_mermaid_png()))\n",
    "except Exception as e:\n",
    "    print(f\"Error al visualizar el grafo: {e}\")"
   ]
  },
  {
   "cell_type": "code",
   "execution_count": 21,
   "metadata": {},
   "outputs": [
    {
     "name": "stdout",
     "output_type": "stream",
     "text": [
      "================================\u001b[1m Human Message \u001b[0m=================================\n",
      "\n",
      "Multiply 2 and 3\n",
      "==================================\u001b[1m Ai Message \u001b[0m==================================\n",
      "\n",
      "[{'text': \"I'll calculate the product of 2 and 3 for you using the multiply function.\", 'type': 'text'}, {'id': 'toolu_01BEDxEjrJX51kGLfYENBEot', 'input': {'a': 2, 'b': 3}, 'name': 'multiply', 'type': 'tool_use'}]\n",
      "Tool Calls:\n",
      "  multiply (toolu_01BEDxEjrJX51kGLfYENBEot)\n",
      " Call ID: toolu_01BEDxEjrJX51kGLfYENBEot\n",
      "  Args:\n",
      "    a: 2\n",
      "    b: 3\n",
      "=================================\u001b[1m Tool Message \u001b[0m=================================\n",
      "Name: multiply\n",
      "\n",
      "6\n",
      "==================================\u001b[1m Ai Message \u001b[0m==================================\n",
      "\n",
      "The product of 2 and 3 is 6.\n"
     ]
    }
   ],
   "source": [
    "from langchain_core.messages import HumanMessage\n",
    "\n",
    "prompt = \"Multiply 2 and 3\"\n",
    "\n",
    "messages = [HumanMessage(content=prompt)]\n",
    "\n",
    "result = graph.invoke({\"messages\": messages}, {\"number\": None})\n",
    "\n",
    "for message in result[\"messages\"]:\n",
    "    message.pretty_print()"
   ]
  },
  {
   "cell_type": "markdown",
   "metadata": {},
   "source": [
    "## Planning pattern"
   ]
  },
  {
   "cell_type": "markdown",
   "metadata": {},
   "source": [
    "![planning pattern](https://pub-fb664c455eca46a2ba762a065ac900f7.r2.dev/agent_patterns_07_planning_pattern.webp)"
   ]
  },
  {
   "cell_type": "code",
   "execution_count": null,
   "metadata": {},
   "outputs": [],
   "source": [
    "from typing import Annotated\n",
    "from typing_extensions import TypedDict\n",
    "\n",
    "from langgraph.graph import StateGraph, START, END\n",
    "from langgraph.graph.message import add_messages\n",
    "from langgraph.prebuilt import ToolNode, tools_condition\n",
    "\n",
    "from langchain_huggingface import HuggingFaceEndpoint, ChatHuggingFace\n",
    "from langchain_anthropic import ChatAnthropic\n",
    "from langchain_core.messages import SystemMessage, HumanMessage, AIMessage\n",
    "from langchain_core.tools import tool\n",
    "\n",
    "from huggingface_hub import login\n",
    "\n",
    "from IPython.display import Image, display\n",
    "\n",
    "import os\n",
    "os.environ[\"LANGCHAIN_TRACING_V2\"] = \"false\"    # Disable LangSmith tracing\n",
    "\n",
    "import dotenv\n",
    "dotenv.load_dotenv()\n",
    "HUGGINGFACE_TOKEN = os.getenv(\"HUGGINGFACE_LANGGRAPH\")\n",
    "ANTHROPIC_TOKEN = os.getenv(\"ANTHROPIC_LANGGRAPH_API_KEY\")\n",
    "\n",
    "# State\n",
    "class State(TypedDict):\n",
    "    messages: Annotated[list, add_messages]\n",
    "\n",
    "# Tools\n",
    "@tool\n",
    "def multiply(a: int, b: int) -> int:\n",
    "    \"\"\"Multiply a and b.\n",
    "\n",
    "    Args:\n",
    "        a: first int\n",
    "        b: second int\n",
    "\n",
    "    Returns:\n",
    "        The product of a and b.\n",
    "    \"\"\"\n",
    "    return a * b\n",
    "\n",
    "tools_list = [multiply]\n",
    "    \n",
    "# Create the LLM model\n",
    "login(token=HUGGINGFACE_TOKEN)  # Login to HuggingFace to use the model\n",
    "MODEL = \"Qwen/Qwen2.5-72B-Instruct\"\n",
    "model = HuggingFaceEndpoint(\n",
    "    repo_id=MODEL,\n",
    "    task=\"text-generation\",\n",
    "    max_new_tokens=512,\n",
    "    do_sample=False,\n",
    "    repetition_penalty=1.03,\n",
    ")\n",
    "# Create the chat model\n",
    "llm = ChatHuggingFace(llm=model)\n",
    "llm = ChatAnthropic(model=\"claude-3-7-sonnet-20250219\", api_key=ANTHROPIC_TOKEN)\n",
    "llm_with_tools = llm.bind_tools(tools_list)\n",
    "\n",
    "# Function\n",
    "def chatbot_function(state: State):\n",
    "    system_message = \"You are a helpful assistant that can use tools to answer questions. Once you have the result of a tool, provide a final answer without calling more tools.\"\n",
    "    messages = [SystemMessage(content=system_message)] + state[\"messages\"]\n",
    "    return {\"messages\": [llm_with_tools.invoke(messages)]}\n",
    "\n",
    "# Start to build the graph\n",
    "graph_builder = StateGraph(State)\n",
    "\n",
    "# Add nodes to the graph\n",
    "graph_builder.add_node(\"chatbot_node\", chatbot_function)\n",
    "tool_node = ToolNode(tools=tools_list)\n",
    "graph_builder.add_node(\"tools\", tool_node)\n",
    "\n",
    "# Add edges\n",
    "graph_builder.add_edge(START, \"chatbot_node\")\n",
    "graph_builder.add_conditional_edges(\"chatbot_node\", tools_condition)\n",
    "graph_builder.add_edge(\"tools\", \"chatbot_node\")\n",
    "graph_builder.add_edge(\"chatbot_node\", END)\n",
    "\n",
    "# Compile the graph\n",
    "graph = graph_builder.compile()\n",
    "\n",
    "# Display the graph\n",
    "try:\n",
    "    display(Image(graph.get_graph().draw_mermaid_png()))\n",
    "except Exception as e:\n",
    "    print(f\"Error al visualizar el grafo: {e}\")"
   ]
  },
  {
   "cell_type": "code",
   "execution_count": null,
   "metadata": {},
   "outputs": [],
   "source": [
    "from langchain_core.messages import HumanMessage\n",
    "\n",
    "prompt = \"Multiply 2 and 3\"\n",
    "\n",
    "messages = [HumanMessage(content=prompt)]\n",
    "\n",
    "result = graph.invoke({\"messages\": messages}, {\"number\": None})\n",
    "\n",
    "for message in result[\"messages\"]:\n",
    "    message.pretty_print()"
   ]
  },
  {
   "cell_type": "markdown",
   "metadata": {},
   "source": [
    "## Multi agent pattern"
   ]
  },
  {
   "cell_type": "markdown",
   "metadata": {},
   "source": [
    "![multi agent pattern](https://pub-fb664c455eca46a2ba762a065ac900f7.r2.dev/agent_patterns_08_multi_agent_pattern.webp)"
   ]
  },
  {
   "cell_type": "code",
   "execution_count": null,
   "metadata": {},
   "outputs": [],
   "source": [
    "from typing import Annotated\n",
    "from typing_extensions import TypedDict\n",
    "\n",
    "from langgraph.graph import StateGraph, START, END\n",
    "from langgraph.graph.message import add_messages\n",
    "from langgraph.prebuilt import ToolNode, tools_condition\n",
    "\n",
    "from langchain_huggingface import HuggingFaceEndpoint, ChatHuggingFace\n",
    "from langchain_anthropic import ChatAnthropic\n",
    "from langchain_core.messages import SystemMessage, HumanMessage, AIMessage\n",
    "from langchain_core.tools import tool\n",
    "\n",
    "from huggingface_hub import login\n",
    "\n",
    "from IPython.display import Image, display\n",
    "\n",
    "import os\n",
    "os.environ[\"LANGCHAIN_TRACING_V2\"] = \"false\"    # Disable LangSmith tracing\n",
    "\n",
    "import dotenv\n",
    "dotenv.load_dotenv()\n",
    "HUGGINGFACE_TOKEN = os.getenv(\"HUGGINGFACE_LANGGRAPH\")\n",
    "ANTHROPIC_TOKEN = os.getenv(\"ANTHROPIC_LANGGRAPH_API_KEY\")\n",
    "\n",
    "# State\n",
    "class Task(TypedDict):\n",
    "    task_id: int\n",
    "    task_description: str\n",
    "    task_assigned_to: str\n",
    "\n",
    "class Plan(TypedDict):\n",
    "    plan_goal: str\n",
    "    plan_steps: list[Task]\n",
    "    \n",
    "# Create the LLM model\n",
    "login(token=HUGGINGFACE_TOKEN)  # Login to HuggingFace to use the model\n",
    "MODEL = \"Qwen/Qwen2.5-72B-Instruct\"\n",
    "model = HuggingFaceEndpoint(\n",
    "    repo_id=MODEL,\n",
    "    task=\"text-generation\",\n",
    "    max_new_tokens=512,\n",
    "    do_sample=False,\n",
    "    repetition_penalty=1.03,\n",
    ")\n",
    "# Create the chat model\n",
    "llm = ChatHuggingFace(llm=model)\n",
    "llm = ChatAnthropic(model=\"claude-3-7-sonnet-20250219\", api_key=ANTHROPIC_TOKEN)\n",
    "\n",
    "# Function\n",
    "def planner_function(plan: Plan):\n",
    "    system_message = \"You are a planner that can plan tasks for a team. You will be given a goal and a list of tasks. You will need to plan the tasks for the team.\"\n",
    "    messages = [SystemMessage(content=system_message)] + [HumanMessage(content=plan)]\n",
    "    return {\"messages\": [llm.invoke(messages)]}\n",
    "\n",
    "# Start to build the graph\n",
    "graph_builder = StateGraph(State)\n",
    "\n",
    "# Add nodes to the graph\n",
    "graph_builder.add_node(\"chatbot_node\", chatbot_function)\n",
    "tool_node = ToolNode(tools=tools_list)\n",
    "graph_builder.add_node(\"tools\", tool_node)\n",
    "\n",
    "# Add edges\n",
    "graph_builder.add_edge(START, \"chatbot_node\")\n",
    "graph_builder.add_conditional_edges(\"chatbot_node\", tools_condition)\n",
    "graph_builder.add_edge(\"tools\", \"chatbot_node\")\n",
    "graph_builder.add_edge(\"chatbot_node\", END)\n",
    "\n",
    "# Compile the graph\n",
    "graph = graph_builder.compile()\n",
    "\n",
    "# Display the graph\n",
    "try:\n",
    "    display(Image(graph.get_graph().draw_mermaid_png()))\n",
    "except Exception as e:\n",
    "    print(f\"Error al visualizar el grafo: {e}\")"
   ]
  },
  {
   "cell_type": "code",
   "execution_count": null,
   "metadata": {},
   "outputs": [],
   "source": [
    "from langchain_core.messages import HumanMessage\n",
    "\n",
    "prompt = \"Multiply 2 and 3\"\n",
    "\n",
    "messages = [HumanMessage(content=prompt)]\n",
    "\n",
    "result = graph.invoke({\"messages\": messages}, {\"number\": None})\n",
    "\n",
    "for message in result[\"messages\"]:\n",
    "    message.pretty_print()"
   ]
  }
 ],
 "metadata": {
  "kernelspec": {
   "display_name": "langgraph",
   "language": "python",
   "name": "python3"
  },
  "language_info": {
   "codemirror_mode": {
    "name": "ipython",
    "version": 3
   },
   "file_extension": ".py",
   "mimetype": "text/x-python",
   "name": "python",
   "nbconvert_exporter": "python",
   "pygments_lexer": "ipython3",
   "version": "3.13.2"
  }
 },
 "nbformat": 4,
 "nbformat_minor": 2
}
