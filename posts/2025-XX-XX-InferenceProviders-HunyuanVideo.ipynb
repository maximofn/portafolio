{
 "cells": [
  {
   "cell_type": "code",
   "execution_count": 9,
   "metadata": {},
   "outputs": [],
   "source": [
    "import os\n",
    "import dotenv\n",
    "dotenv.load_dotenv()\n",
    "\n",
    "REPLICATE_API_KEY = os.getenv(\"REPLICATE_API_KEY\")\n",
    "HUGGINGFACE_TOKEN_INFERENCE_PROVIDERS = os.getenv(\"HUGGINGFACE_TOKEN_INFERENCE_PROVIDERS\")"
   ]
  },
  {
   "cell_type": "code",
   "execution_count": 10,
   "metadata": {},
   "outputs": [],
   "source": [
    "from huggingface_hub import login\n",
    "login(HUGGINGFACE_TOKEN_INFERENCE_PROVIDERS)"
   ]
  },
  {
   "cell_type": "code",
   "execution_count": 13,
   "metadata": {},
   "outputs": [],
   "source": [
    "from huggingface_hub import InferenceClient\n",
    "\n",
    "client = InferenceClient(\n",
    "\tprovider=\"replicate\",\n",
    "\tapi_key=REPLICATE_API_KEY,\n",
    "\ttimeout=1000\n",
    ")"
   ]
  },
  {
   "cell_type": "code",
   "execution_count": 18,
   "metadata": {},
   "outputs": [],
   "source": [
    "video = client.text_to_video(\n",
    "\t\"A young man walking on the street\",\n",
    "\tmodel=\"Wan-AI/Wan2.1-T2V-14B\",\n",
    ")"
   ]
  },
  {
   "cell_type": "code",
   "execution_count": null,
   "metadata": {},
   "outputs": [],
   "source": [
    "# Save the video (bytes) to a file\n",
    "output_path = \"output_video.mp4\"\n",
    "with open(output_path, \"wb\") as f:\n",
    "    f.write(video)\n",
    "print(f\"Video saved to: {output_path}\")"
   ]
  }
 ],
 "metadata": {
  "kernelspec": {
   "display_name": "langchain",
   "language": "python",
   "name": "python3"
  },
  "language_info": {
   "codemirror_mode": {
    "name": "ipython",
    "version": 3
   },
   "file_extension": ".py",
   "mimetype": "text/x-python",
   "name": "python",
   "nbconvert_exporter": "python",
   "pygments_lexer": "ipython3",
   "version": "3.13.2"
  }
 },
 "nbformat": 4,
 "nbformat_minor": 2
}
