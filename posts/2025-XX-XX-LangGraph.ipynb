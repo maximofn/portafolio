{
 "cells": [
  {
   "cell_type": "markdown",
   "metadata": {},
   "source": [
    "# LangGraph"
   ]
  },
  {
   "cell_type": "markdown",
   "metadata": {},
   "source": [
    "`LangGraph` es un marco de orquestación de bajo nivel para construir agentes controlables"
   ]
  },
  {
   "cell_type": "markdown",
   "metadata": {},
   "source": [
    "Mientras que `LangChain` proporciona integraciones y componentes para agilizar el desarrollo de aplicaciones LLM, la biblioteca `LangGraph` permite la orquestación de agentes, ofreciendo arquitecturas personalizables, memoria a largo plazo y `human in the loop` para manejar de manera confiable tareas complejas."
   ]
  },
  {
   "cell_type": "markdown",
   "metadata": {},
   "source": [
    "## Instalación de LangGraph"
   ]
  },
  {
   "cell_type": "markdown",
   "metadata": {},
   "source": [
    "Para instalar `LangGraph` se puede usar pip:\n",
    "\n",
    "```bash\n",
    "pip install -U langgraph\n",
    "```\n",
    "\n",
    "o instalar desde conda:\n",
    "\n",
    "```bash\n",
    "conda install langgraph\n",
    "```"
   ]
  },
  {
   "cell_type": "markdown",
   "metadata": {},
   "source": [
    "## Instalación de módulo de Hugging Face y Anthropic"
   ]
  },
  {
   "cell_type": "markdown",
   "metadata": {},
   "source": [
    "Vamos a usar un modelo de lenguaje de `Hugging Face`, por lo que necesitamos instalar su paquete de langgraph.\n",
    "\n",
    "```bash\n",
    "pip install langchain-huggingface\n",
    "```"
   ]
  },
  {
   "cell_type": "markdown",
   "metadata": {},
   "source": [
    "Para una parte vamos a usar `Sonnet 3.7`, luego explicaremos por qué. Así que tambien instalamos el paquere de `Anthropic`.\n",
    "\n",
    "```bash\n",
    "pip install langchain_anthropic\n",
    "```"
   ]
  },
  {
   "cell_type": "markdown",
   "metadata": {},
   "source": [
    "## API KEY de Hugging Face"
   ]
  },
  {
   "cell_type": "markdown",
   "metadata": {},
   "source": [
    "Vamos a usar `Qwen/Qwen2.5-72B-Instruct` a través de `Hugging Face Inference Endpoints`, por lo que necesitamos una API KEY."
   ]
  },
  {
   "cell_type": "markdown",
   "metadata": {},
   "source": [
    "Para poder usar el `Inference Endpoints` de HuggingFace, lo primero que necesitas es tener una cuenta en HuggingFace. Una vez la tengas, hay que ir a [Access tokens](https://huggingface.co/settings/keys) en la configuración de tu perfil y generar un nuevo token.\n",
    "\n",
    "Hay que ponerle un nombre. En mi caso, le voy a poner `langgraph` y habilitar el permiso `Make calls to inference providers`. Nos creará un token que tendremos que copiar"
   ]
  },
  {
   "cell_type": "markdown",
   "metadata": {},
   "source": [
    "Para gestionar el token, vamos a crear un archivo en la misma ruta en la que estemos trabajando llamado`.env` y vamos a poner el token que hemos copiado en el archivo de la siguiente manera:\n",
    "\n",
    "``` bash\n",
    "HUGGINGFACE_LANGGRAPH=\"hf_....\"\n",
    "```"
   ]
  },
  {
   "cell_type": "markdown",
   "metadata": {},
   "source": [
    "Ahora, para poder obtener el token, necesitamos tener instalado `dotenv`, que lo instalamos mediante\n",
    "\n",
    "```bash\n",
    "pip install python-dotenv\n",
    "```\n",
    "\n",
    "Y ejecutamos lo siguiente"
   ]
  },
  {
   "cell_type": "code",
   "execution_count": 1,
   "metadata": {},
   "outputs": [],
   "source": [
    "import os\n",
    "import dotenv\n",
    "\n",
    "dotenv.load_dotenv()\n",
    "\n",
    "HUGGINGFACE_TOKEN = os.getenv(\"HUGGINGFACE_LANGGRAPH\")"
   ]
  },
  {
   "cell_type": "markdown",
   "metadata": {},
   "source": [
    "Ahora que tenemos un token, creamos un cliente. Para ello, necesitamos tener instalada la librería `huggingface_hub`. La instalamos mediante conda o pip.\n",
    "\n",
    "``` bash\n",
    "pip install --upgrade huggingface_hub\n",
    "```\n",
    "\n",
    "o\n",
    "\n",
    "``` bash\n",
    "conda install -c conda-forge huggingface_hub\n",
    "```"
   ]
  },
  {
   "cell_type": "markdown",
   "metadata": {},
   "source": [
    "Ahora tenemos que elegir qué modelo vamos a usar. Puedes ver los modelos disponibles en la página de [Supported models](https://huggingface.co/docs/api-inference/supported-models) de la documentación de `Inference Endpoints` de Hugging Face.\n",
    "\n",
    "Vamos a usar `Qwen2.5-72B-Instruct` que es un modelo muy bueno."
   ]
  },
  {
   "cell_type": "code",
   "execution_count": 2,
   "metadata": {},
   "outputs": [],
   "source": [
    "MODEL = \"Qwen/Qwen2.5-72B-Instruct\""
   ]
  },
  {
   "cell_type": "markdown",
   "metadata": {},
   "source": [
    "Ahora podemos crear el cliente"
   ]
  },
  {
   "cell_type": "code",
   "execution_count": 3,
   "metadata": {},
   "outputs": [
    {
     "data": {
      "text/plain": [
       "<InferenceClient(model='Qwen/Qwen2.5-72B-Instruct', timeout=None)>"
      ]
     },
     "execution_count": 3,
     "metadata": {},
     "output_type": "execute_result"
    }
   ],
   "source": [
    "from huggingface_hub import InferenceClient\n",
    "\n",
    "client = InferenceClient(api_key=HUGGINGFACE_TOKEN, model=MODEL)\n",
    "client"
   ]
  },
  {
   "cell_type": "markdown",
   "metadata": {},
   "source": [
    "Hacemos una prueba a ver si funciona"
   ]
  },
  {
   "cell_type": "code",
   "execution_count": 4,
   "metadata": {},
   "outputs": [
    {
     "name": "stdout",
     "output_type": "stream",
     "text": [
      "¡Hola! Estoy bien, gracias por preguntar. ¿Cómo estás tú? ¿En qué puedo ayudarte hoy?\n"
     ]
    }
   ],
   "source": [
    "message = [\n",
    "\t{ \"role\": \"user\", \"content\": \"Hola, qué tal?\" }\n",
    "]\n",
    "\n",
    "stream = client.chat.completions.create(\n",
    "\tmessages=message, \n",
    "\ttemperature=0.5,\n",
    "\tmax_tokens=1024,\n",
    "\ttop_p=0.7,\n",
    "\tstream=False\n",
    ")\n",
    "\n",
    "response = stream.choices[0].message.content\n",
    "print(response)"
   ]
  },
  {
   "cell_type": "markdown",
   "metadata": {},
   "source": [
    "## API KEY de Anthropic"
   ]
  },
  {
   "cell_type": "markdown",
   "metadata": {},
   "source": [
    "## Crear un chatbot básico"
   ]
  },
  {
   "cell_type": "markdown",
   "metadata": {},
   "source": [
    "Vamos a crear un chatbot simple usando `LangGraph`. Este chatbot responderá directamente a los mensajes del usuario. Aunque es simple, nos servirá para ver los conceptos básicos de la construcción con `LangGraph`."
   ]
  },
  {
   "cell_type": "markdown",
   "metadata": {},
   "source": [
    "Como su nomre indica, `LangGraph` es una biblioteca para manejar grafos. así que comenzamos creando un grafo [StateGraph](https://langchain-ai.github.io/langgraph/reference/graphs/#langgraph.graph.state.StateGraph).\n",
    "\n",
    "Un `StateGraph` define la estructura de nuestro chatbot como una `máquina de estados`. Agregaremos `nodos` para representar el `llm` y `funciones` a nuestro chatbot que podrá llamar y `edges` para especificar cómo el bot debe hacer la transición entre estas funciones."
   ]
  },
  {
   "cell_type": "markdown",
   "metadata": {},
   "source": [
    "Así que comenzamos creando un `StateGraph` que necesita una clase `State` para manejar el estado del grafo. Como ahora vamos a crear una chatbot sencillo, solo necesitamos manejar una lista de mensajes en el estado."
   ]
  },
  {
   "cell_type": "code",
   "execution_count": 5,
   "metadata": {},
   "outputs": [],
   "source": [
    "from typing import Annotated\n",
    "\n",
    "from typing_extensions import TypedDict\n",
    "\n",
    "from langgraph.graph import StateGraph, START, END\n",
    "from langgraph.graph.message import add_messages\n",
    "\n",
    "\n",
    "class State(TypedDict):\n",
    "    # Messages have the type \"list\". The `add_messages` function\n",
    "    # in the annotation defines how this state key should be updated\n",
    "    # (in this case, it appends messages to the list, rather than overwriting them)\n",
    "    messages: Annotated[list, add_messages]\n",
    "\n",
    "\n",
    "graph_builder = StateGraph(State)"
   ]
  },
  {
   "cell_type": "markdown",
   "metadata": {},
   "source": [
    "La función [add_messages](https://langchain-ai.github.io/langgraph/reference/graphs/#langgraph.graph.message.add_messages) une dos listas de mensajes.\n",
    "\n",
    "Llegarán nuevas listas de mensajes, por lo que se unirán a la lista de mensajes ya existente. Cada lista de mensajes contiene un `ID`, por lo que se agregan con este `ID`. Esto asegura que los mensajes solo se añaden, no se reemplazan, a no ser que un nuevo mensaje tenga el mismo `ID` que uno ya existente.\n",
    "\n",
    "`add_messages` es una [reducer function](https://langchain-ai.github.io/langgraph/concepts/low_level/#reducers), es una función que se encarga de actualizar el estado."
   ]
  },
  {
   "cell_type": "markdown",
   "metadata": {},
   "source": [
    "El grafo `graph_builder` que hemos creado, recibe un estado `State` y devuelve un nuevo estado `State`. Además, actualiza la lista de mensajes."
   ]
  },
  {
   "cell_type": "markdown",
   "metadata": {},
   "source": [
    " > **Concepto**\n",
    " >\n",
    " > Al definir un grafo, el primer paso es definir su `State`. El `State` incluye el esquema del grafo y las `reducer functions` que manejan actualizaciones de estado. \n",
    " > \n",
    " > En nuestro ejemplo, `State` es de tipo `TypedDict` (diccionario tipado) con una llave: `messages`.\n",
    " > \n",
    " > `add_messages` es una `reducer function` que se utiliza para agregar nuevos mensajes a la lista en lugar de sobrescribirlos en la lista. Si una llave de un estado no tiene una `reducer function`, cada valor que llegue de esa clave sobrescribirán los valores anteriores."
   ]
  },
  {
   "cell_type": "markdown",
   "metadata": {},
   "source": [
    "Ahora vamos a agregar al grafo el nodo `chatbot`. Los nodos representan unidades de trabajo. Por lo general, son funciones regulares de `Python`."
   ]
  },
  {
   "cell_type": "markdown",
   "metadata": {},
   "source": [
    "Añadimos un nodo con el método `add_node` que recibe el nombre del nodo y la función que se ejecutará."
   ]
  },
  {
   "cell_type": "markdown",
   "metadata": {},
   "source": [
    "De modo que vamos a crear un LLM con HuggingFace, después crearemos un chat model con `LangGraph` que hará referencia al LLM creado. Una vez tenemos definido un chat model, definimos la función que se ejecutará en el nodo de nuestro grafo. Esa función hará una llamada al chat model creado y devolverá el resultado."
   ]
  },
  {
   "cell_type": "code",
   "execution_count": 6,
   "metadata": {},
   "outputs": [
    {
     "data": {
      "text/plain": [
       "<langgraph.graph.state.StateGraph at 0x1119fa7b0>"
      ]
     },
     "execution_count": 6,
     "metadata": {},
     "output_type": "execute_result"
    }
   ],
   "source": [
    "from langchain_huggingface import HuggingFaceEndpoint, ChatHuggingFace\n",
    "from huggingface_hub import login\n",
    "os.environ[\"LANGCHAIN_TRACING_V2\"] = \"false\"    # Disable LangSmith tracing\n",
    "login(token=HUGGINGFACE_TOKEN)\n",
    "\n",
    "# Create the LLM model\n",
    "model = HuggingFaceEndpoint(\n",
    "    repo_id=MODEL,\n",
    "    task=\"text-generation\",\n",
    "    max_new_tokens=512,\n",
    "    do_sample=False,\n",
    "    repetition_penalty=1.03,\n",
    ")\n",
    "# Create the chat model\n",
    "llm = ChatHuggingFace(llm=model)\n",
    "\n",
    "# Define the chatbot function\n",
    "def chatbot(state: State):\n",
    "    return {\"messages\": [llm.invoke(state[\"messages\"])]}\n",
    "\n",
    "\n",
    "# The first argument is the unique node name\n",
    "# The second argument is the function or object that will be called whenever\n",
    "# the node is used.\n",
    "graph_builder.add_node(\"chatbot\", chatbot)"
   ]
  },
  {
   "cell_type": "markdown",
   "metadata": {},
   "source": [
    "Hemos usado [ChatHuggingFace](https://python.langchain.com/api_reference/huggingface/chat_models/langchain_huggingface.chat_models.huggingface.ChatHuggingFace.html#langchain_huggingface.chat_models.huggingface.ChatHuggingFace) que es un chat del tipo [BaseChatModel](https://python.langchain.com/api_reference/core/language_models/langchain_core.language_models.chat_models.BaseChatModel.html#langchain_core.language_models.chat_models.BaseChatModel) que es un tipo de chat base de `LangChain`. Una vez hemos creado el `BaseChatModel`, hemos creado la función `chatbot` que se ejecutará cuando se ejecute el nodo. Y por último, hemos creado el nodo `chatbot` y le hemos indicado que tiene que ejecutar la función `chatbot`."
   ]
  },
  {
   "cell_type": "markdown",
   "metadata": {},
   "source": [
    " > **Aviso** \n",
    " >\n",
    " > La función de nodo `chatbot` toma el estado `State` como entrada y devuelve un diccionario que contiene una actualización de la lista `messages` para la key `mensajes`. Este es el patrón básico para todas las funciones del nodo `LangGraph`."
   ]
  },
  {
   "cell_type": "markdown",
   "metadata": {},
   "source": [
    "La `reducer function` de nuestro grafo `add_messages` agregará los mensajes de respuesta del `llm` a cualquier mensaje que ya esté en el estado."
   ]
  },
  {
   "cell_type": "markdown",
   "metadata": {},
   "source": [
    "A continuación, agregamos un nodo `entry`. Esto le dice a nuestro grafo dónde empezar su trabajo cada vez que lo ejecutamos."
   ]
  },
  {
   "cell_type": "code",
   "execution_count": 7,
   "metadata": {},
   "outputs": [
    {
     "data": {
      "text/plain": [
       "<langgraph.graph.state.StateGraph at 0x1119fa7b0>"
      ]
     },
     "execution_count": 7,
     "metadata": {},
     "output_type": "execute_result"
    }
   ],
   "source": [
    "from langgraph.graph import START\n",
    "\n",
    "graph_builder.add_edge(START, \"chatbot\")"
   ]
  },
  {
   "cell_type": "markdown",
   "metadata": {},
   "source": [
    "Del mismo modo, añadimos un nodo `finish`. Esto indica al grafo `cada vez que se ejecuta este nodo, puede terminar el trabajo.`"
   ]
  },
  {
   "cell_type": "code",
   "execution_count": 8,
   "metadata": {},
   "outputs": [
    {
     "data": {
      "text/plain": [
       "<langgraph.graph.state.StateGraph at 0x1119fa7b0>"
      ]
     },
     "execution_count": 8,
     "metadata": {},
     "output_type": "execute_result"
    }
   ],
   "source": [
    "from langgraph.graph import END\n",
    "\n",
    "graph_builder.add_edge(\"chatbot\", END)"
   ]
  },
  {
   "cell_type": "markdown",
   "metadata": {},
   "source": [
    "Hemos importado `START` y `END` que podemos encontrarlos en [constants](https://langchain-ai.github.io/langgraph/reference/constants/) y el primer y último nodo de nuestro grafo.\n",
    "\n",
    "Normalmente son nodos virtuales"
   ]
  },
  {
   "cell_type": "markdown",
   "metadata": {},
   "source": [
    "Finalmente, queremos poder ejecutar nuestro grafo. Para hacerlo, usamos el método constructor de grafos `compile()`. Esto crea un `CompiledGraph` que podemos usar para ejecutar nuestra aplicación."
   ]
  },
  {
   "cell_type": "code",
   "execution_count": 9,
   "metadata": {},
   "outputs": [],
   "source": [
    "graph = graph_builder.compile()"
   ]
  },
  {
   "cell_type": "markdown",
   "metadata": {},
   "source": [
    "Podemos visualizar el grafo usando el método `get_graph` y uno de los métodos de \"dibujo\", como `draw_ascii` o `draw_mermaid_png`. El dibujo de cada uno de los métodos requiere dependencias adicionales."
   ]
  },
  {
   "cell_type": "code",
   "execution_count": 10,
   "metadata": {},
   "outputs": [
    {
     "data": {
      "image/png": "[encoded data removed]",
      "text/plain": [
       "<IPython.core.display.Image object>"
      ]
     },
     "metadata": {},
     "output_type": "display_data"
    }
   ],
   "source": [
    "from IPython.display import Image, display\n",
    "\n",
    "try:\n",
    "    display(Image(graph.get_graph().draw_mermaid_png()))\n",
    "except Exception as e:\n",
    "    print(f\"Error al visualizar el grafo: {e}\")"
   ]
  },
  {
   "cell_type": "markdown",
   "metadata": {},
   "source": [
    "¡Ahora podemos probar el chatbot!"
   ]
  },
  {
   "cell_type": "markdown",
   "metadata": {},
   "source": [
    " > **Consejo**\n",
    " >\n",
    " > Puedes salir del bucle de chat en cualquier momento escribiendo `quit`, `exit` o `q`."
   ]
  },
  {
   "cell_type": "code",
   "execution_count": 11,
   "metadata": {},
   "outputs": [
    {
     "name": "stdout",
     "output_type": "stream",
     "text": [
      "Assistant: Hello! I'm Qwen, your AI assistant from Alibaba Cloud. I'm here to assist you with a wide range of tasks, from answering questions and generating text to providing creative ideas and technical support. How can I help you today? Feel free to ask me anything or let me know if you need assistance with a specific task!\n",
      "Assistant: I'm just a computer program, so I don't have feelings, but I'm here and ready to help you with any questions or tasks you have! How can I assist you today?\n",
      "Assistant: Certainly! I can help you craft a compelling post about LangGraph! Here’s a structured outline and some key points to consider including in your post:\n",
      "\n",
      "### Title: \n",
      "Understanding LangGraph: Revolutionizing Multimodal Understanding with Graph Neural Networks \n",
      "\n",
      "### Introduction:\n",
      "- Brief overview of the rapid advancements in AI, specifically focusing on the integration of natural language processing (NLP) and graph-based models.\n",
      "- Introduction to LangGraph: A groundbreaking solution from Alibaba Cloud that leverages graph neural networks to enhance multimodal understanding.\n",
      "\n",
      "### What is LangGraph?\n",
      "- Definition: LangGraph is a sophisticated AI model designed to process and understand data that spans multiple modalities, including text, images, and other structured and unstructured data formats.\n",
      "- Core Technology: Utilizes Graph Neural Networks (GNNs) to build a comprehensive understanding of the relationships within the data.\n",
      "\n",
      "### Key Features:\n",
      "1. **Multimodal Integration**:\n",
      "   - How LangGraph integrates different types of data to provide a holistic analysis.\n",
      "   - Examples of real-world applications, such as recommendation systems, content moderation, and more.\n",
      "\n",
      "2. **Graph Neural Networks**:\n",
      "   - Explanation of how GNNs work and their role in enhancing data understanding.\n",
      "   - Advantages of using graph-based approaches over traditional methods.\n",
      "\n",
      "3. **Scalability and Flexibility**:\n",
      "   - Ability to scale with increasing data sizes and adapt to diverse use cases.\n",
      "   - Use cases in industries like e-commerce, healthcare, and finance.\n",
      "\n",
      "4. **Performance andEfficiency**:\n",
      "   - Benchmarks and performance metrics that demonstrate LangGraph's superiority over other models.\n",
      "   - Resource efficiency and computational requirements.\n",
      "\n",
      "### Impact and Benefits:\n",
      "- **Improved Accuracy**: How Langgraph enhances precision in data interpretation and decision-making.\n",
      "- **Enhanced User Experience**: Better recommendations, more accurate content moderation, and more effective search results.\n",
      "- **Business Value**: Cost savings through optimized operations and new revenue streams.\n",
      "\n",
      "### Future Directions:\n",
      "- Upcoming developments in graph-based AI models and LangGraph’s role in shaping the future.\n",
      "- **PotentialResearch Areas**: Areas for further exploration and innovation, such as cross-modal interactions and semantic understanding.\n",
      "\n",
      "### Conclusion:\n",
      "- Summarize the key points and the transformative potential of Langgraph in the AI landscape.\n",
      "- Call to action for businesses and researchers to explore and leverageLangGraph’scapabilities in their projects and applications.\n",
      "\n",
      "### Additional Elements:\n",
      "- **Infographics**: Visual aids to illustrate how LangGraph integrates and processes multimodal data.\n",
      "- **Testimonials**: Quotes from industry experts and early adopters highlighting the model's effectiveness and benefits.\n",
      "- **Case Studies**: Real-life examples of LangGraph in action, showcasing its practical value.\n",
      "\n",
      "Feel free to expand on any of these sections or add your own insights to make the post comprehensive and engaging!\n",
      "Goodbye!\n"
     ]
    }
   ],
   "source": [
    "def stream_graph_updates(user_input: str):\n",
    "    for event in graph.stream({\"messages\": [{\"role\": \"user\", \"content\": user_input}]}):\n",
    "        for value in event.values():\n",
    "            print(\"Assistant:\", value[\"messages\"][-1].content)\n",
    "\n",
    "\n",
    "while True:\n",
    "    try:\n",
    "        user_input = input(\"User: \")\n",
    "        if user_input.lower() in [\"quit\", \"exit\", \"q\"]:\n",
    "            print(\"Goodbye!\")\n",
    "            break\n",
    "\n",
    "        events =stream_graph_updates(user_input)\n",
    "    except:\n",
    "        # fallback if input() is not available\n",
    "        user_input = \"What do you know about LangGraph?\"\n",
    "        print(\"User: \" + user_input)\n",
    "        stream_graph_updates(user_input)\n",
    "        break\n",
    "\n",
    "events[\"messages\"].pretty_print()"
   ]
  },
  {
   "cell_type": "markdown",
   "metadata": {},
   "source": [
    "No se mustra lo que le he dicho, así que esta ha sido la conversación\n",
    "\n",
    "``` markdown\n",
    "User: Hello\n",
    "Assistant: Hello! I'm Qwen, your AI assistant from Alibaba Cloud. I'm here to assist you with a wide range of tasks, from answering questions and generating text to providing creative ideas and technical support. How can I help you today? Feel free to ask me anything or let me know if you need assistance with a specific task!\n",
    "User: How are you doing?\n",
    "Assistant: I'm just a computer program, so I don't have feelings, but I'm here and ready to help you with any questions or tasks you have! How can I assist you today?\n",
    "User: Me well, I'm making a post about LangGraph, what do you think?\n",
    "Assistant: Certainly! I can help you craft a compelling post about LangGraph! Here’s a structured outline and some key points to consider including in your post:\n",
    "\n",
    "### Title: \n",
    "Understanding LangGraph: Revolutionizing Multimodal Understanding with Graph Neural Networks \n",
    "\n",
    "### Introduction:\n",
    "- Brief overview of the rapid advancements in AI, specifically focusing on the integration of natural language processing (NLP) and graph-based models.\n",
    "- Introduction to LangGraph: A groundbreaking solution from Alibaba Cloud that leverages graph neural networks to enhance multimodal understanding.\n",
    "\n",
    "### What is LangGraph?\n",
    "- Definition: LangGraph is a sophisticated AI model designed to process and understand data that spans multiple modalities, including text, images, and other structured and unstructured data formats.\n",
    "- Core Technology: Utilizes Graph Neural Networks (GNNs) to build a comprehensive understanding of the relationships within the data.\n",
    "\n",
    "### Key Features:\n",
    "1. **Multimodal Integration**:\n",
    "   - How LangGraph integrates different types of data to provide a holistic analysis.\n",
    "   - Examples of real-world applications, such as recommendation systems, content moderation, and more.\n",
    "\n",
    "2. **Graph Neural Networks**:\n",
    "   - Explanation of how GNNs work and their role in enhancing data understanding.\n",
    "   - Advantages of using graph-based approaches over traditional methods.\n",
    "\n",
    "3. **Scalability and Flexibility**:\n",
    "   - Ability to scale with increasing data sizes and adapt to diverse use cases.\n",
    "   - Use cases in industries like e-commerce, healthcare, and finance.\n",
    "\n",
    "4. **Performance andEfficiency**:\n",
    "   - Benchmarks and performance metrics that demonstrate LangGraph's superiority over other models.\n",
    "   - Resource efficiency and computational requirements.\n",
    "\n",
    "### Impact and Benefits:\n",
    "- **Improved Accuracy**: How Langgraph enhances precision in data interpretation and decision-making.\n",
    "- **Enhanced User Experience**: Better recommendations, more accurate content moderation, and more effective search results.\n",
    "- **Business Value**: Cost savings through optimized operations and new revenue streams.\n",
    "\n",
    "### Future Directions:\n",
    "- Upcoming developments in graph-based AI models and LangGraph’s role in shaping the future.\n",
    "- **PotentialResearch Areas**: Areas for further exploration and innovation, such as cross-modal interactions and semantic understanding.\n",
    "\n",
    "### Conclusion:\n",
    "- Summarize the key points and the transformative potential of Langgraph in the AI landscape.\n",
    "- Call to action for businesses and researchers to explore and leverageLangGraph’scapabilities in their projects and applications.\n",
    "\n",
    "### Additional Elements:\n",
    "- **Infographics**: Visual aids to illustrate how LangGraph integrates and processes multimodal data.\n",
    "- **Testimonials**: Quotes from industry experts and early adopters highlighting the model's effectiveness and benefits.\n",
    "- **Case Studies**: Real-life examples of LangGraph in action, showcasing its practical value.\n",
    "\n",
    "Feel free to expand on any of these sections or add your own insights to make the post comprehensive and engaging!\n",
    "User: q\n",
    "Goodbye!\n",
    "```"
   ]
  },
  {
   "cell_type": "markdown",
   "metadata": {},
   "source": [
    "**!Felicidades!** Has construido tu primer chatbot usando `LangGraph`. Este bot puede participar en una conversación básica tomando la entrada del usuario y generando respuestas utilizando el `LLM` que hemos definido."
   ]
  },
  {
   "cell_type": "markdown",
   "metadata": {},
   "source": [
    "Sin embargo, este bot se limita a lo que hay en sus datos de entrenamiento. Así que vamos a agregar una herramienta de búsqueda web para expandir el conocimiento del bot y hacerlo más capaz."
   ]
  },
  {
   "cell_type": "markdown",
   "metadata": {},
   "source": [
    "## Mejorar el chatbot con herramientas"
   ]
  },
  {
   "cell_type": "markdown",
   "metadata": {},
   "source": [
    "Para manejar consultas, nuestro chatbot no puede responder `desde su conocimiento`, así que vamos a integrar una herramienta de búsqueda web. Nuestro bot puede utilizar esta herramienta para encontrar información relevante y proporcionar mejores respuestas."
   ]
  },
  {
   "cell_type": "markdown",
   "metadata": {},
   "source": [
    "### Requisitos"
   ]
  },
  {
   "cell_type": "markdown",
   "metadata": {},
   "source": [
    "Antes de comenzar, tenemos que instalar el buscador [Tavily](https://python.langchain.com/docs/integrations/tools/tavily_search/) que es un buscador web que nos permite buscar información en la web.\n",
    "\n",
    "```bash\n",
    "pip install -U tavily-python langchain_community\n",
    "```"
   ]
  },
  {
   "cell_type": "markdown",
   "metadata": {},
   "source": [
    "Después, tenemos que crear una [API KEY](https://app.tavily.com/home), la escribimos en nuestro archivo `.env` y la cargamos en una variable."
   ]
  },
  {
   "cell_type": "code",
   "execution_count": 2,
   "metadata": {},
   "outputs": [],
   "source": [
    "dotenv.load_dotenv()\n",
    "TAVILY_API_KEY = os.getenv(\"TAVILY_LANGGRAPH_API_KEY\")"
   ]
  },
  {
   "cell_type": "markdown",
   "metadata": {},
   "source": [
    "Ahora, definimos la herramienta de búsqueda web mediante [TavilySearchResults](https://python.langchain.com/api_reference/community/tools/langchain_community.tools.tavily_search.tool.TavilySearchResults.html)"
   ]
  },
  {
   "cell_type": "code",
   "execution_count": 3,
   "metadata": {},
   "outputs": [],
   "source": [
    "from langchain_community.utilities.tavily_search import TavilySearchAPIWrapper\n",
    "from langchain_community.tools.tavily_search import TavilySearchResults\n",
    "\n",
    "wrapper = TavilySearchAPIWrapper(tavily_api_key=TAVILY_API_KEY)\n",
    "tool = TavilySearchResults(api_wrapper=wrapper, max_results=2)"
   ]
  },
  {
   "cell_type": "markdown",
   "metadata": {},
   "source": [
    "Probamos la herramienta"
   ]
  },
  {
   "cell_type": "code",
   "execution_count": 4,
   "metadata": {},
   "outputs": [
    {
     "data": {
      "text/plain": [
       "[{'title': 'How Real Madrid knocked out Atletico Madrid in dramatic ...',\n",
       "  'url': 'https://www.nytimes.com/athletic/live-blogs/atletico-real-madrid-live-updates-champions-league-score-result/Dva4QzgBFDVo/',\n",
       "  'content': 'The Champions League holders won 4-2 on penalties after the two rivals played out an enthralling 2-2 draw over two legs.',\n",
       "  'score': 0.43165663},\n",
       " {'title': 'Atletico Madrid vs Real Madrid (2-4) Full Penalty Shootout - YouTube',\n",
       "  'url': 'https://www.youtube.com/watch?v=p8vKGIcLBok',\n",
       "  'content': '⚪️Atletico Madrid vs Real Madrid (2-4) Full Penalty Shootout | UEFA Champions League Round Of 16 · Comments411.',\n",
       "  'score': 0.3384274}]"
      ]
     },
     "execution_count": 4,
     "metadata": {},
     "output_type": "execute_result"
    }
   ],
   "source": [
    "tool.invoke(\"What was the result of Real Madrid's last match in the Champions League?\")"
   ]
  },
  {
   "cell_type": "markdown",
   "metadata": {},
   "source": [
    "Los resultados son resúmenes de páginas que nuestro chatbot puede usar para responder preguntas."
   ]
  },
  {
   "cell_type": "markdown",
   "metadata": {},
   "source": [
    "Creamos una lista de herramientas, porque nuestro grafo necesita definir las herramientas mediante una lista."
   ]
  },
  {
   "cell_type": "code",
   "execution_count": 5,
   "metadata": {},
   "outputs": [],
   "source": [
    "tools = [tool]"
   ]
  },
  {
   "cell_type": "markdown",
   "metadata": {},
   "source": [
    "A continuación, comenzaremos a definir nuestro gráfico. Lo siguiente es todo lo mismo que antes, excepto que hemos añadido `bind_tools` en nuestro `LLM`. Esto le permite al `LLM` saber el formato `JSON` correcto para usar si desea usar el motor de búsqueda."
   ]
  },
  {
   "cell_type": "markdown",
   "metadata": {},
   "source": [
    "Definimos el grafo"
   ]
  },
  {
   "cell_type": "code",
   "execution_count": 6,
   "metadata": {},
   "outputs": [],
   "source": [
    "from typing import Annotated\n",
    "\n",
    "from typing_extensions import TypedDict\n",
    "\n",
    "from langgraph.graph import StateGraph, START, END\n",
    "from langgraph.graph.message import add_messages\n",
    "\n",
    "\n",
    "class State(TypedDict):\n",
    "    messages: Annotated[list, add_messages]\n",
    "\n",
    "\n",
    "graph_builder = StateGraph(State)"
   ]
  },
  {
   "cell_type": "markdown",
   "metadata": {},
   "source": [
    "A continuación el `LLM` con las `bind_tools` y lo añadimos al grafo"
   ]
  },
  {
   "cell_type": "code",
   "execution_count": 7,
   "metadata": {},
   "outputs": [
    {
     "data": {
      "text/plain": [
       "<langgraph.graph.state.StateGraph at 0x12ab8ecf0>"
      ]
     },
     "execution_count": 7,
     "metadata": {},
     "output_type": "execute_result"
    }
   ],
   "source": [
    "from langchain_huggingface import HuggingFaceEndpoint, ChatHuggingFace\n",
    "from huggingface_hub import login\n",
    "\n",
    "login(token=HUGGINGFACE_TOKEN)\n",
    "os.environ[\"LANGCHAIN_TRACING_V2\"] = \"false\"    # Disable LangSmith tracing\n",
    "\n",
    "# Create the LLM\n",
    "MODEL = \"Qwen/Qwen2.5-72B-Instruct\"\n",
    "model = HuggingFaceEndpoint(\n",
    "    repo_id=MODEL,\n",
    "    task=\"text-generation\",\n",
    "    max_new_tokens=512,\n",
    "    do_sample=False,\n",
    "    repetition_penalty=1.03,\n",
    ")\n",
    "# Create the chat model\n",
    "llm = ChatHuggingFace(llm=model)\n",
    "\n",
    "# Modification: tell the LLM which tools it can call\n",
    "llm_with_tools = llm.bind_tools(tools)\n",
    "\n",
    "# Define the chatbot function\n",
    "def chatbot(state: State):\n",
    "    return {\"messages\": [llm_with_tools.invoke(state[\"messages\"])]}\n",
    "\n",
    "# Add the chatbot node\n",
    "graph_builder.add_node(\"chatbot\", chatbot)"
   ]
  },
  {
   "cell_type": "markdown",
   "metadata": {},
   "source": [
    "A continuación, necesitamos crear una función para ejecutar las `tools` si se llaman. Agregamos las `tools` a un nuevo nodo."
   ]
  },
  {
   "cell_type": "markdown",
   "metadata": {},
   "source": [
    "A continuación, implementamos la clase `BasicToolNode`, que comprueba el mensaje más reciente en el estado y llama a las `tools` si el mensaje contiene `tool_calls`.\n",
    "\n",
    "Se basa en el soporte de `tool_calling` de los `LLM`s , que está disponible en `Anthropic`, `HuggingFace`, `Google Gemini` y varios otros proveedores de `LLM`."
   ]
  },
  {
   "cell_type": "markdown",
   "metadata": {},
   "source": [
    "Más tarde reemplazaremos esto con el método [ToolNode](https://langchain-ai.github.io/langgraph/reference/prebuilt/#toolnode) de `LangGraph` para acelerar las cosas, pero primero lo construiremos nosotros mismos para entender cómo funciona."
   ]
  },
  {
   "cell_type": "code",
   "execution_count": 8,
   "metadata": {},
   "outputs": [
    {
     "data": {
      "text/plain": [
       "<langgraph.graph.state.StateGraph at 0x12ab8ecf0>"
      ]
     },
     "execution_count": 8,
     "metadata": {},
     "output_type": "execute_result"
    }
   ],
   "source": [
    "import json\n",
    "\n",
    "from langchain_core.messages import ToolMessage\n",
    "\n",
    "class BasicToolNode:\n",
    "    \"\"\"A node that runs the tools requested in the last AIMessage.\"\"\"\n",
    "\n",
    "    def __init__(self, tools: list) -> None:\n",
    "        self.tools_by_name = {tool.name: tool for tool in tools}\n",
    "\n",
    "    def __call__(self, inputs: dict):\n",
    "        if messages := inputs.get(\"messages\", []):\n",
    "            message = messages[-1]\n",
    "        else:\n",
    "            raise ValueError(\"No message found in input\")\n",
    "        outputs = []\n",
    "        for tool_call in message.tool_calls:\n",
    "            tool_result = self.tools_by_name[tool_call[\"name\"]].invoke(\n",
    "                tool_call[\"args\"]\n",
    "            )\n",
    "            outputs.append(\n",
    "                ToolMessage(\n",
    "                    content=json.dumps(tool_result),\n",
    "                    name=tool_call[\"name\"],\n",
    "                    tool_call_id=tool_call[\"id\"],\n",
    "                )\n",
    "            )\n",
    "        return {\"messages\": outputs}\n",
    "\n",
    "\n",
    "tool_node = BasicToolNode(tools=[tool])\n",
    "graph_builder.add_node(\"tools\", tool_node)"
   ]
  },
  {
   "cell_type": "markdown",
   "metadata": {},
   "source": [
    "Hemos usado [ToolMessage](https://python.langchain.com/api_reference/core/messages/langchain_core.messages.tool.ToolMessage.html) que pasa el resultado de ejecutar una `tool` de nuevo a un `LLM`.\n",
    "\n",
    "`ToolMessage` contiene el resultado de una invocación de una `tool`."
   ]
  },
  {
   "cell_type": "markdown",
   "metadata": {},
   "source": [
    "Con el nodo de `tool_node` (que es un objeto de la clase `BasicToolNode` que hemos creado) agregado al grafo, podemos definir los `conditional_edges`."
   ]
  },
  {
   "cell_type": "markdown",
   "metadata": {},
   "source": [
    "El enrutador enruta el flujo de control de un nodo al siguiente. Los `conditional_edges` por lo general, contienen declaraciones `if` para enrutar a diferentes nodos dependiendo del estado actual del grafo.\n",
    "\n",
    "Estas funciones reciben el grafo actual `state` y devuelven una cadena o lista de cadenas que indican qué nodo o nodos llamar a continuación."
   ]
  },
  {
   "cell_type": "markdown",
   "metadata": {},
   "source": [
    "Vamos a definir una función de enrutadora llamada `route_tools`, que comprueba si hay `tool_calls` en la salida del chatbot.\n",
    "\n",
    "Añadimos esta función al gráfico llamando `add_conditional_edges`, que le dice al gráfico que cada vez que el nodo del `chatbot` se completa para verificar a dónde ir a continuación.\n",
    "\n",
    "La condición se dirigirá a `tools` si las llamadas de herramientas están presentes y `END` si no.\n",
    "\n",
    "Más tarde, reemplazaremos esto con el método preconstruido `tools_condition` para ser más rápidos, pero ahora lo implementamos nosotros mismos primero ver cómo funciona."
   ]
  },
  {
   "cell_type": "code",
   "execution_count": 9,
   "metadata": {},
   "outputs": [
    {
     "data": {
      "text/plain": [
       "<langgraph.graph.state.StateGraph at 0x12ab8ecf0>"
      ]
     },
     "execution_count": 9,
     "metadata": {},
     "output_type": "execute_result"
    }
   ],
   "source": [
    "def route_tools(\n",
    "    state: State,\n",
    "):\n",
    "    \"\"\"\n",
    "    Use in the conditional_edge to route to the ToolNode if the last message\n",
    "    has tool calls. Otherwise, route to the end.\n",
    "    \"\"\"\n",
    "    if isinstance(state, list):\n",
    "        ai_message = state[-1]\n",
    "    elif messages := state.get(\"messages\", []):\n",
    "        ai_message = messages[-1]\n",
    "    else:\n",
    "        raise ValueError(f\"No messages found in input state to tool_edge: {state}\")\n",
    "    if hasattr(ai_message, \"tool_calls\") and len(ai_message.tool_calls) > 0:\n",
    "        return \"tools\"\n",
    "    return END\n",
    "\n",
    "\n",
    "# The `tools_condition` function returns \"tools\" if the chatbot asks to use a tool, and \"END\" if\n",
    "# it is fine directly responding. This conditional routing defines the main agent loop.\n",
    "graph_builder.add_conditional_edges(\n",
    "    \"chatbot\",\n",
    "    route_tools,\n",
    "    # The following dictionary lets you tell the graph to interpret the condition's outputs as a specific node\n",
    "    # It defaults to the identity function, but if you\n",
    "    # want to use a node named something else apart from \"tools\",\n",
    "    # You can update the value of the dictionary to something else\n",
    "    # e.g., \"tools\": \"my_tools\"\n",
    "    {\"tools\": \"tools\", END: END},\n",
    ")"
   ]
  },
  {
   "cell_type": "markdown",
   "metadata": {},
   "source": [
    "Como el método de `LangGraph` ya existente `tools_condition`, nuestra función devuelve `END` si no se realizan llamadas de `tool`s. Cuando el grafo pasa a `END` éste no tiene más tareas que completar y cesa la ejecución."
   ]
  },
  {
   "cell_type": "markdown",
   "metadata": {},
   "source": [
    "Como la condición puede devolver `END`, no necesitamos establecer explícitamente un `finish_point` esta vez. Nuestro grafo ya tiene una manera de terminar"
   ]
  },
  {
   "cell_type": "code",
   "execution_count": 10,
   "metadata": {},
   "outputs": [
    {
     "data": {
      "text/plain": [
       "<langgraph.graph.state.StateGraph at 0x12ab8ecf0>"
      ]
     },
     "execution_count": 10,
     "metadata": {},
     "output_type": "execute_result"
    }
   ],
   "source": [
    "graph_builder.add_edge(\"tools\", \"chatbot\")"
   ]
  },
  {
   "cell_type": "markdown",
   "metadata": {},
   "source": [
    "Añadimos un otro nodo `edge`, pero en este caso incluye el uso de la `tool` o en final `END`"
   ]
  },
  {
   "cell_type": "code",
   "execution_count": 11,
   "metadata": {},
   "outputs": [
    {
     "data": {
      "text/plain": [
       "<langgraph.graph.state.StateGraph at 0x12ab8ecf0>"
      ]
     },
     "execution_count": 11,
     "metadata": {},
     "output_type": "execute_result"
    }
   ],
   "source": [
    "graph_builder.add_edge(START, \"chatbot\")"
   ]
  },
  {
   "cell_type": "markdown",
   "metadata": {},
   "source": [
    " > **Aviso** \n",
    " >\n",
    " > Los `conditional_edge`s comienzan desde un solo nodo. Esto le dice al grafo \"en cualquier momento el 'chatbot' se ejecuta el nodo, ve a las 'tools' si se llama a una herramienta o termina el bucle si responde directamente\"."
   ]
  },
  {
   "cell_type": "markdown",
   "metadata": {},
   "source": [
    "Compilamos el grafo"
   ]
  },
  {
   "cell_type": "code",
   "execution_count": 12,
   "metadata": {},
   "outputs": [],
   "source": [
    "graph = graph_builder.compile()"
   ]
  },
  {
   "cell_type": "markdown",
   "metadata": {},
   "source": [
    "Visualizamos el grafo que hemos construido."
   ]
  },
  {
   "cell_type": "code",
   "execution_count": 13,
   "metadata": {},
   "outputs": [
    {
     "data": {
      "image/png": "[encoded data removed]",
      "text/plain": [
       "<IPython.core.display.Image object>"
      ]
     },
     "metadata": {},
     "output_type": "display_data"
    }
   ],
   "source": [
    "from IPython.display import Image, display\n",
    "\n",
    "try:\n",
    "    display(Image(graph.get_graph().draw_mermaid_png()))\n",
    "except Exception as e:\n",
    "    print(f\"Error al visualizar el grafo: {e}\")"
   ]
  },
  {
   "cell_type": "markdown",
   "metadata": {},
   "source": [
    "Ahora podemos hacer preguntas al bot fuera de sus datos de entrenamiento"
   ]
  },
  {
   "cell_type": "code",
   "execution_count": 15,
   "metadata": {},
   "outputs": [
    {
     "name": "stdout",
     "output_type": "stream",
     "text": [
      "Assistant: \n",
      "Assistant: [{\"title\": \"HIGHLIGHTS | Villarreal 1-2 Real Madrid | LaLiga 2024/25 - YouTube\", \"url\": \"https://www.youtube.com/watch?v=O6r9tgG1LBg\", \"content\": \"Real Madrid overcame their tiredness and once again showed their fighting spirit. They came from behind against Villarreal at the Estadio de\", \"score\": 0.68344116}]\n",
      "Assistant: \n",
      "Assistant: [{\"title\": \"Real Madrid 2-1 Villarreal (Mar 15, 2025) Game Analysis - ESPN\", \"url\": \"https://www.espn.com/soccer/report/_/gameId/704939\", \"content\": \"Kylian Mbapp\\u00e9 scored twice to help Real Madrid fight back to beat Villarreal 2-1 on Saturday and move provisionally top of the LaLiga standings.\", \"score\": 0.834852}, {\"title\": \"HIGHLIGHTS | Villarreal 1-2 Real Madrid | LaLiga 2024/25 - YouTube\", \"url\": \"https://www.youtube.com/watch?v=O6r9tgG1LBg\", \"content\": \"Real Madrid overcame their tiredness and once again showed their fighting spirit. They came from behind against Villarreal at the Estadio de\", \"score\": 0.71040785}]\n",
      "Assistant: Real Madrid managed to overcome their fatigue and once again showed their fighting spirit. They came from behind to win 2-1 against Villarreal on The weekend. Kylian Mbappe scored twice to help Real madrid fight Back and win the match. With this victory, Real Madrid Moves provionally at the top of the LaLliga standings.\n",
      "Assistant: The question is unclear. Could you please provide more context or specify which sport and event you are referring to?\n",
      "Goodbye!\n"
     ]
    }
   ],
   "source": [
    "def stream_graph_updates(user_input: str):\n",
    "    for event in graph.stream({\"messages\": [{\"role\": \"user\", \"content\": user_input}]}):\n",
    "        for value in event.values():\n",
    "            print(\"Assistant:\", value[\"messages\"][-1].content)\n",
    "\n",
    "while True:\n",
    "    try:\n",
    "        user_input = input(\"User: \")\n",
    "        if user_input.lower() in [\"quit\", \"exit\", \"q\"]:\n",
    "            print(\"Goodbye!\")\n",
    "            break\n",
    "\n",
    "        stream_graph_updates(user_input)\n",
    "    except:\n",
    "        # fallback if input() is not available\n",
    "        user_input = \"What do you know about LangGraph?\"\n",
    "        print(\"User: \" + user_input)\n",
    "        stream_graph_updates(user_input)\n",
    "        break"
   ]
  },
  {
   "cell_type": "markdown",
   "metadata": {},
   "source": [
    "La conversación ha sido\n",
    "\n",
    "``` markdown\n",
    "User: How did Real Madrid fare this weekend against Villareal in La Liga?\n",
    "Assistant: \n",
    "Assistant: [{\"title\": \"HIGHLIGHTS | Villarreal 1-2 Real Madrid | LaLiga 2024/25 - YouTube\", \"url\": \"https://www.youtube.com/watch?v=O6r9tgG1LBg\", \"content\": \"Real Madrid overcame their tiredness and once again showed their fighting spirit. They came from behind against Villarreal at the Estadio de\", \"score\": 0.68344116}]\n",
    "Assistant: \n",
    "Assistant: [{\"title\": \"Real Madrid 2-1 Villarreal (Mar 15, 2025) Game Analysis - ESPN\", \"url\": \"https://www.espn.com/soccer/report/_/gameId/704939\", \"content\": \"Kylian Mbapp\\u00e9 scored twice to help Real Madrid fight back to beat Villarreal 2-1 on Saturday and move provisionally top of the LaLiga standings.\", \"score\": 0.834852}, {\"title\": \"HIGHLIGHTS | Villarreal 1-2 Real Madrid | LaLiga 2024/25 - YouTube\", \"url\": \"https://www.youtube.com/watch?v=O6r9tgG1LBg\", \"content\": \"Real Madrid overcame their tiredness and once again showed their fighting spirit. They came from behind against Villarreal at the Estadio de\", \"score\": 0.71040785}]\n",
    "Assistant: Real Madrid managed to overcome their fatigue and once again showed their fighting spirit. They came from behind to win 2-1 against Villarreal on The weekend. Kylian Mbappe scored twice to help Real madrid fight Back and win the match. With this victory, Real Madrid Moves provionally at the top of the LaLliga standings.\n",
    "\n",
    "User: Which players played?\n",
    "Assistant: The question is unclear. Could you please provide more context or specify which sport and event you are referring to?\n",
    "Goodbye!\n",
    "```"
   ]
  },
  {
   "cell_type": "markdown",
   "metadata": {},
   "source": [
    "Como ves, primero le he preguntado cómo quedó el Real Madrid en su último partido en la Liga contra el Villareal, como es algo de actualidad, ha decidido usar la herramienta de búsqueda, con lo que ha obtenido el resultado"
   ]
  },
  {
   "cell_type": "markdown",
   "metadata": {},
   "source": [
    "Sin embargo, a continuación le he preguntado qué jugadores jugaron y no sabía de qué le hablaba, eso es porque no se mantiene el contexto de la conversación. Así que lo siguiente que vamos a hacer es agregar una memoria al agente para que pueda mantener el contexto de la conversación."
   ]
  },
  {
   "cell_type": "markdown",
   "metadata": {},
   "source": [
    "## Agregar memoria al chatbot"
   ]
  },
  {
   "cell_type": "markdown",
   "metadata": {},
   "source": [
    "Nuestro chatbot ahora puede usar herramientas para responder preguntas de los usuarios, pero no recuerda el contexto de las interacciones anteriores. Esto limita su capacidad de tener conversaciones coherentes y de múltiples tandas."
   ]
  },
  {
   "cell_type": "markdown",
   "metadata": {},
   "source": [
    "`LangGraph` resuelve este problema a través de puntos de control persistentes o `checkpoints`. Si le proporcionamos un `checkpointer` al compilar el grafo y un `thread_id` al llamar al grafo, `LangGraph` guarda automáticamente el estado después de cada iteración en la conversación.\n",
    "\n",
    "Cuando invoquemos el grafo nuevamente usando el mismo `thread_id`, el grafo cargará su estado guardado, permitiendo que el chatbot continúe donde lo dejó."
   ]
  },
  {
   "cell_type": "markdown",
   "metadata": {},
   "source": [
    "Veremos más tarde que ese `checkpointing` es mucho más potente que la simple memoria de chat: le permite guardar y reanudar estados complejos en cualquier momento para la recuperación de errores, flujos de trabajo con `human in the loop`, interacciones en el tiempo y más. Pero de ver todo eso, vamos a agregar puntos de control para permitir conversaciones de varias iteraciones."
   ]
  },
  {
   "cell_type": "code",
   "execution_count": 1,
   "metadata": {},
   "outputs": [],
   "source": [
    "import os\n",
    "import dotenv\n",
    "\n",
    "dotenv.load_dotenv()\n",
    "\n",
    "HUGGINGFACE_TOKEN = os.getenv(\"HUGGINGFACE_LANGGRAPH\")\n",
    "TAVILY_API_KEY = os.getenv(\"TAVILY_LANGGRAPH_API_KEY\")"
   ]
  },
  {
   "cell_type": "markdown",
   "metadata": {},
   "source": [
    "Para empezar, creamos un `checkpointer` [MemorySaver](https://langchain-ai.github.io/langgraph/reference/checkpoints/#langgraph.checkpoint.memory.MemorySaver)."
   ]
  },
  {
   "cell_type": "code",
   "execution_count": 2,
   "metadata": {},
   "outputs": [],
   "source": [
    "from langgraph.checkpoint.memory import MemorySaver\n",
    "\n",
    "memory = MemorySaver()"
   ]
  },
  {
   "cell_type": "markdown",
   "metadata": {},
   "source": [
    " > **Aviso**\n",
    " >\n",
    " > Estamos usando un `checkpointer` en memoria. Esto es conveniente para nuestro caso, ya que lo guarda todo en memoria la memoria del ordenador. En una aplicación de producción, es probable que se necesite cambiar esto para usarlo con `SqliteSaver` o `PostgresSaver` y conéctarnos a nuestra propia base de datos."
   ]
  },
  {
   "cell_type": "markdown",
   "metadata": {},
   "source": [
    "A continuación, definimos el grafo."
   ]
  },
  {
   "cell_type": "markdown",
   "metadata": {},
   "source": [
    "Definimos el grafo"
   ]
  },
  {
   "cell_type": "code",
   "execution_count": 3,
   "metadata": {},
   "outputs": [],
   "source": [
    "from typing import Annotated\n",
    "\n",
    "from typing_extensions import TypedDict\n",
    "\n",
    "from langgraph.graph import StateGraph, START, END\n",
    "from langgraph.graph.message import add_messages\n",
    "\n",
    "\n",
    "class State(TypedDict):\n",
    "    messages: Annotated[list, add_messages]\n",
    "\n",
    "\n",
    "graph_builder = StateGraph(State)"
   ]
  },
  {
   "cell_type": "markdown",
   "metadata": {},
   "source": [
    "Definimos la `tool`"
   ]
  },
  {
   "cell_type": "code",
   "execution_count": 4,
   "metadata": {},
   "outputs": [],
   "source": [
    "from langchain_community.utilities.tavily_search import TavilySearchAPIWrapper\n",
    "from langchain_community.tools.tavily_search import TavilySearchResults\n",
    "\n",
    "wrapper = TavilySearchAPIWrapper(tavily_api_key=TAVILY_API_KEY)\n",
    "tool = TavilySearchResults(api_wrapper=wrapper, max_results=2)\n",
    "tools = [tool]"
   ]
  },
  {
   "cell_type": "markdown",
   "metadata": {},
   "source": [
    "A continuación el `LLM` con las `bind_tools` y lo añadimos al grafo"
   ]
  },
  {
   "cell_type": "code",
   "execution_count": 5,
   "metadata": {},
   "outputs": [
    {
     "data": {
      "text/plain": [
       "<langgraph.graph.state.StateGraph at 0x107e0a270>"
      ]
     },
     "execution_count": 5,
     "metadata": {},
     "output_type": "execute_result"
    }
   ],
   "source": [
    "from langchain_huggingface import HuggingFaceEndpoint, ChatHuggingFace\n",
    "from huggingface_hub import login\n",
    "\n",
    "login(token=HUGGINGFACE_TOKEN)\n",
    "os.environ[\"LANGCHAIN_TRACING_V2\"] = \"false\"    # Disable LangSmith tracing\n",
    "\n",
    "# Create the LLM\n",
    "MODEL = \"Qwen/Qwen2.5-72B-Instruct\"\n",
    "model = HuggingFaceEndpoint(\n",
    "    repo_id=MODEL,\n",
    "    task=\"text-generation\",\n",
    "    max_new_tokens=512,\n",
    "    do_sample=False,\n",
    "    repetition_penalty=1.03,\n",
    ")\n",
    "# Create the chat model\n",
    "llm = ChatHuggingFace(llm=model)\n",
    "\n",
    "# Modification: tell the LLM which tools it can call\n",
    "llm_with_tools = llm.bind_tools(tools)\n",
    "\n",
    "# Define the chatbot function\n",
    "def chatbot(state: State):\n",
    "    return {\"messages\": [llm_with_tools.invoke(state[\"messages\"])]}\n",
    "\n",
    "# Add the chatbot node\n",
    "graph_builder.add_node(\"chatbot\", chatbot)"
   ]
  },
  {
   "cell_type": "markdown",
   "metadata": {},
   "source": [
    "Ahora que ya hemos construido el nuestro `BasicToolNode`, lo reemplazaremos con el método de LangGraph `ToolNode` y `tools_condition`, ya que estos hacen algunas cosas buenas como la ejecución paralela de API. Aparte de eso, el resto es igual que antes."
   ]
  },
  {
   "cell_type": "code",
   "execution_count": 6,
   "metadata": {},
   "outputs": [
    {
     "data": {
      "text/plain": [
       "<langgraph.graph.state.StateGraph at 0x107e0a270>"
      ]
     },
     "execution_count": 6,
     "metadata": {},
     "output_type": "execute_result"
    }
   ],
   "source": [
    "from langgraph.prebuilt import ToolNode, tools_condition\n",
    "\n",
    "tool_node = ToolNode(tools=[tool])\n",
    "graph_builder.add_node(\"tools\", tool_node)"
   ]
  },
  {
   "cell_type": "markdown",
   "metadata": {},
   "source": [
    "Añadimos el nodo de `tools_condition` al grafo"
   ]
  },
  {
   "cell_type": "code",
   "execution_count": 7,
   "metadata": {},
   "outputs": [
    {
     "data": {
      "text/plain": [
       "<langgraph.graph.state.StateGraph at 0x107e0a270>"
      ]
     },
     "execution_count": 7,
     "metadata": {},
     "output_type": "execute_result"
    }
   ],
   "source": [
    "graph_builder.add_conditional_edges(\n",
    "    \"chatbot\",\n",
    "    tools_condition,\n",
    ")"
   ]
  },
  {
   "cell_type": "markdown",
   "metadata": {},
   "source": [
    "Añadimos el nodo de `tools` al grafo"
   ]
  },
  {
   "cell_type": "code",
   "execution_count": 8,
   "metadata": {},
   "outputs": [
    {
     "data": {
      "text/plain": [
       "<langgraph.graph.state.StateGraph at 0x107e0a270>"
      ]
     },
     "execution_count": 8,
     "metadata": {},
     "output_type": "execute_result"
    }
   ],
   "source": [
    "graph_builder.add_edge(\"tools\", \"chatbot\")"
   ]
  },
  {
   "cell_type": "markdown",
   "metadata": {},
   "source": [
    "Añadimos el nodo de `START` al grafo"
   ]
  },
  {
   "cell_type": "code",
   "execution_count": 9,
   "metadata": {},
   "outputs": [
    {
     "data": {
      "text/plain": [
       "<langgraph.graph.state.StateGraph at 0x107e0a270>"
      ]
     },
     "execution_count": 9,
     "metadata": {},
     "output_type": "execute_result"
    }
   ],
   "source": [
    "graph_builder.add_edge(START, \"chatbot\")"
   ]
  },
  {
   "cell_type": "markdown",
   "metadata": {},
   "source": [
    "Compilamos el grafo"
   ]
  },
  {
   "cell_type": "code",
   "execution_count": 10,
   "metadata": {},
   "outputs": [],
   "source": [
    "graph = graph_builder.compile(checkpointer=memory)"
   ]
  },
  {
   "cell_type": "markdown",
   "metadata": {},
   "source": [
    "Lo representamos gráficamente"
   ]
  },
  {
   "cell_type": "code",
   "execution_count": 11,
   "metadata": {},
   "outputs": [
    {
     "data": {
      "image/png": "[encoded data removed]",
      "text/plain": [
       "<IPython.core.display.Image object>"
      ]
     },
     "metadata": {},
     "output_type": "display_data"
    }
   ],
   "source": [
    "from IPython.display import Image, display\n",
    "\n",
    "try:\n",
    "    display(Image(graph.get_graph().draw_mermaid_png()))\n",
    "except Exception as e:\n",
    "    print(f\"Error al visualizar el grafo: {e}\")"
   ]
  },
  {
   "cell_type": "markdown",
   "metadata": {},
   "source": [
    "Creamos una configuración con un `thread_id` de un usuario"
   ]
  },
  {
   "cell_type": "code",
   "execution_count": 12,
   "metadata": {},
   "outputs": [],
   "source": [
    "USER1_THREAD_ID = \"1\"\n",
    "config_USER1 = {\"configurable\": {\"thread_id\": USER1_THREAD_ID}}"
   ]
  },
  {
   "cell_type": "code",
   "execution_count": 13,
   "metadata": {},
   "outputs": [
    {
     "name": "stdout",
     "output_type": "stream",
     "text": [
      "================================\u001b[1m Human Message \u001b[0m=================================\n",
      "\n",
      "Hi there! My name is Maximo.\n",
      "==================================\u001b[1m Ai Message \u001b[0m==================================\n",
      "\n",
      "Hello Maximo! It's nice to meet you. How can I assist you today?\n"
     ]
    }
   ],
   "source": [
    "user_input = \"Hi there! My name is Maximo.\"\n",
    "\n",
    "# The config is the **second positional argument** to stream() or invoke()!\n",
    "events = graph.stream(\n",
    "    {\"messages\": [{\"role\": \"user\", \"content\": user_input}]},\n",
    "    config_USER1,\n",
    "    stream_mode=\"values\",\n",
    ")\n",
    "for event in events:\n",
    "    event[\"messages\"][-1].pretty_print()"
   ]
  },
  {
   "cell_type": "code",
   "execution_count": 14,
   "metadata": {},
   "outputs": [
    {
     "name": "stdout",
     "output_type": "stream",
     "text": [
      "================================\u001b[1m Human Message \u001b[0m=================================\n",
      "\n",
      "Remember my name?\n",
      "==================================\u001b[1m Ai Message \u001b[0m==================================\n",
      "Tool Calls:\n",
      "  tavily_search_results_json (0)\n",
      " Call ID: 0\n",
      "  Args:\n",
      "    query: query for information about recent events or current news topics. Useful for answering questions about current events or news. Does not include ads. Input should be a search query. For example, you can use a query term like\n",
      "=================================\u001b[1m Tool Message \u001b[0m=================================\n",
      "Name: tavily_search_results_json\n",
      "\n",
      "[{\"title\": \"SQL Query wildcard search - Stack Overflow\", \"url\": \"https://stackoverflow.com/questions/5290554/sql-query-wildcard-search\", \"content\": \"Use the LIKE operator. SELECT * FROM Table WHERE PhoneNumber LIKE '%value%' OR Name LIKE '%value%' OR City LIKE '%value%'\", \"score\": 0.17604777}, {\"title\": \"What the hell is wrong with google search? : r/degoogle - Reddit\", \"url\": \"https://www.reddit.com/r/degoogle/comments/106fru1/what_the_hell_is_wrong_with_google_search/\", \"content\": \"I've been a strong user of Android since the Samsung Galaxy S3. Used google search since dial-up internet was the norm.\", \"score\": 0.13990518000000002}]\n",
      "==================================\u001b[1m Ai Message \u001b[0m==================================\n",
      "\n",
      "Of course, Maximo! I remember your name. How can I assist you today?\n"
     ]
    }
   ],
   "source": [
    "user_input = \"Remember my name?\"\n",
    "\n",
    "# The config is the **second positional argument** to stream() or invoke()!\n",
    "events = graph.stream(\n",
    "    {\"messages\": [{\"role\": \"user\", \"content\": user_input}]},\n",
    "    config_USER1,\n",
    "    stream_mode=\"values\",\n",
    ")\n",
    "for event in events:\n",
    "    event[\"messages\"][-1].pretty_print()"
   ]
  },
  {
   "cell_type": "markdown",
   "metadata": {},
   "source": [
    "Como se puede ver, no hemos pasado una lista con los mensakes, todo está siendo gestionado por el `checkpointer`."
   ]
  },
  {
   "cell_type": "markdown",
   "metadata": {},
   "source": [
    "Si ahora probamos con otro usuario, es decir, con otro `thread_id`, veremos que el grafo no recuerda la conversación anterior."
   ]
  },
  {
   "cell_type": "code",
   "execution_count": 15,
   "metadata": {},
   "outputs": [
    {
     "name": "stdout",
     "output_type": "stream",
     "text": [
      "================================\u001b[1m Human Message \u001b[0m=================================\n",
      "\n",
      "Remember my name?\n",
      "==================================\u001b[1m Ai Message \u001b[0m==================================\n",
      "\n",
      "I'm sorry, I don't have a specific name to recall as our conversations are not tracked for personal information. How can I assist you today?\n"
     ]
    }
   ],
   "source": [
    "USER2_THREAD_ID = \"2\"\n",
    "config_USER2 = {\"configurable\": {\"thread_id\": USER2_THREAD_ID}}\n",
    "\n",
    "user_input = \"Remember my name?\"\n",
    "\n",
    "events = graph.stream(\n",
    "    {\"messages\": [{\"role\": \"user\", \"content\": user_input}]},\n",
    "    config_USER2,\n",
    "    stream_mode=\"values\",\n",
    ")\n",
    "for event in events:\n",
    "    event[\"messages\"][-1].pretty_print()"
   ]
  },
  {
   "cell_type": "markdown",
   "metadata": {},
   "source": [
    "Ahora que nuestro chatbot tiene herramientas de búsqueda y memoria, vamos a repetir el ejemplo anterior, donde le pregunto por el resultado del último partido del Real Madrid en la Liga y luego por qué jugadores jugaron."
   ]
  },
  {
   "cell_type": "code",
   "execution_count": 12,
   "metadata": {},
   "outputs": [
    {
     "name": "stdout",
     "output_type": "stream",
     "text": [
      "================================\u001b[1m Human Message \u001b[0m=================================\n",
      "\n",
      "How did Real Madrid fare this weekend against Villareal in La Liga?\n",
      "==================================\u001b[1m Ai Message \u001b[0m==================================\n",
      "Tool Calls:\n",
      "  tavily_search_results_json (0)\n",
      " Call ID: 0\n",
      "  Args:\n",
      "    query: Real Madrid vs Villareal La Liga weekend result\n",
      "=================================\u001b[1m Tool Message \u001b[0m=================================\n",
      "Name: tavily_search_results_json\n",
      "\n",
      "[{\"title\": \"Real Madrid 2-1 Villarreal (Mar 15, 2025) Game Analysis - ESPN\", \"url\": \"https://www.espn.com/soccer/report/_/gameId/704939\", \"content\": \"Kylian Mbappé scored twice to help Real Madrid fight back to beat Villarreal 2-1 on Saturday and move provisionally top of the LaLiga standings.\", \"score\": 0.8724455}, {\"title\": \"Real Madrid 2-1 Villarreal (15 Mar, 2025) Final Score - ESPN Global\", \"url\": \"https://global.espn.com/football/match/_/gameId/704939/real-madrid-villarreal\", \"content\": \"Kylian Mbappé scored twice to help Real Madrid fight back to beat Villarreal 2-1 on Saturday and move provisionally top of the LaLiga standings.\", \"score\": 0.7700667911111111}]\n",
      "==================================\u001b[1m Ai Message \u001b[0m==================================\n",
      "\n",
      "Real Madrid defeated Villarreal 2-1, with Kylian Mbappé scoring both goals, which moved Real Madrid provisionally to the top of LaLiga standings.\n"
     ]
    }
   ],
   "source": [
    "USER3_THREAD_ID = \"3\"\n",
    "config_USER3 = {\"configurable\": {\"thread_id\": USER3_THREAD_ID}}\n",
    "\n",
    "user_input = \"How did Real Madrid fare this weekend against Villareal in La Liga?\"\n",
    "\n",
    "events = graph.stream(\n",
    "    {\"messages\": [{\"role\": \"user\", \"content\": user_input}]},\n",
    "    config_USER3,\n",
    "    stream_mode=\"values\",\n",
    ")\n",
    "for event in events:\n",
    "    event[\"messages\"][-1].pretty_print()"
   ]
  },
  {
   "cell_type": "markdown",
   "metadata": {},
   "source": [
    "Ahora le preguntamos por los jugadores que jugaron en el partido."
   ]
  },
  {
   "cell_type": "code",
   "execution_count": 13,
   "metadata": {},
   "outputs": [
    {
     "name": "stdout",
     "output_type": "stream",
     "text": [
      "================================\u001b[1m Human Message \u001b[0m=================================\n",
      "\n",
      "Which players played against Villareal?\n",
      "==================================\u001b[1m Ai Message \u001b[0m==================================\n",
      "Tool Calls:\n",
      "  tavily_search_results_json (0)\n",
      " Call ID: 0\n",
      "  Args:\n",
      "    query: Real Madrid Villareal squad list match 15 Mar 2025\n",
      "=================================\u001b[1m Tool Message \u001b[0m=================================\n",
      "Name: tavily_search_results_json\n",
      "\n",
      "[{\"title\": \"Villarreal v Real Madrid | March 15, 2025 | Goal.com US\", \"url\": \"https://www.goal.com/en-us/match/villarreal-vs-real-madrid/lineups/B_4aE8NTdMuaWGZQjye8h\", \"content\": \"Substitutes · 43. D. Aguado · 4. D. Alaba · 16. Endrick · 26. F. Gonzalez · 22. A. Ruediger. 61' · 13. A. Lunin · 45. V. Valdepenas · 7. Vinicius Junior.\", \"score\": 0.8891543}, {\"title\": \"Real Madrid squad for Villarreal match\", \"url\": \"https://www.realmadrid.com/en-US/news/football/first-team/squad-call/convocatoria-del-real-madrid-contra-el-villarreal-14-03-2025\", \"content\": \"Midfielders: Bellingham, Camavinga, Valverde, Modrić, Tchouameni and Arda Güler. Forwards: Vini Jr., Mbappé, Rodrygo, Endrick and Brahim.\", \"score\": 0.7188278125}]\n",
      "==================================\u001b[1m Ai Message \u001b[0m==================================\n",
      "Tool Calls:\n",
      "  tavily_search_results_json (0)\n",
      " Call ID: 0\n",
      "  Args:\n",
      "    query: which real Madrid players played against Villareal?\n",
      "=================================\u001b[1m Tool Message \u001b[0m=================================\n",
      "Name: tavily_search_results_json\n",
      "\n",
      "[{\"title\": \"Real Madrid announce squad for LaLiga match against Villarreal\", \"url\": \"https://www.managingmadrid.com/2025/3/14/24385700/villarreal-real-madrid-2025-liga-squad-list\", \"content\": \"Goalkeepers: Courtois, Lunin y Fran González. Defenders: Alaba, Lucas V., Fran García, Rüdiger, Asencio, Diego Aguado y Valdepeñas. Midfielders:\", \"score\": 0.7763013}, {\"title\": \"Real Madrid player ratings from 2-1 win vs Villarreal in LaLiga\", \"url\": \"https://therealchamps.com/real-madrid-player-ratings-from-2-1-win-vs-villarreal-in-laliga-01jpdehskd0y\", \"content\": \"Real Madrid player ratings from 2-1 win vs Villarreal in LaLiga · GK Thibaut Courtois · RB Lucas Vazquez · CB Raul Asencio · CB Aurelien Tchouameni.\", \"score\": 0.7348644}]\n",
      "==================================\u001b[1m Ai Message \u001b[0m==================================\n",
      "Tool Calls:\n",
      "  tavily_search_results_json (0)\n",
      " Call ID: 0\n",
      "  Args:\n",
      "    query: Real Madrid vs Villarreal match lineup March 15, 2025\n",
      "=================================\u001b[1m Tool Message \u001b[0m=================================\n",
      "Name: tavily_search_results_json\n",
      "\n",
      "[{\"title\": \"Villarreal v Real Madrid | March 15, 2025 | Goal.com US\", \"url\": \"https://www.goal.com/en-us/match/villarreal-vs-real-madrid/lineups/B_4aE8NTdMuaWGZQjye8h\", \"content\": \"Substitutes · 43. D. Aguado · 4. D. Alaba · 16. Endrick · 26. F. Gonzalez · 22. A. Ruediger. 61' · 13. A. Lunin · 45. V. Valdepenas · 7. Vinicius Junior.\", \"score\": 0.9368016}, {\"title\": \"Villarreal vs. Real Madrid final score: La Liga result, updates, stats ...\", \"url\": \"https://www.sportingnews.com/us/soccer/news/villarreal-vs-real-madrid-score-result-updates-stats-la-liga/67cd5249ed55e513dcbfd906\", \"content\": \"— Villarreal CF (@VillarrealCF) March 15, 2025. 1 hr 30 mins before kickoff: Here's the Madrid lineup. Plenty of changes from Carlo Ancelotti\", \"score\": 0.7115741333333333}]\n",
      "==================================\u001b[1m Ai Message \u001b[0m==================================\n",
      "\n",
      "The starting lineup for Real Madrid against Villarreal included the following players:\">\">\">\">\">\">\">\">\">\">\">\">\">\">\">\">\">\">\">\">\">\">Goalkeepers: Thibaut Courtois, Andriy Lunin, and Fran González.\">\">\">\">\">\">\">\">\">\">\">\">\">\">\">\">\">Defenders: David Alaba, Lucas Vázquez, Fran García, Antonio Rüdiger, Raúl Asensio, Diego Aguado, and Víctor Valdepeñas.\">\">\">\">\">\">\">\">\">\">\">\">\">\">\">\">Midfielders: Jude Bellingham, Eduardo Camavinga, Federico Valverde, Luka Modrić, Aurélien Tchouaméni, and Arda Güler.\">\">\">\">\">\">\">\">\">\">\">\">\">\">\">\">\">Forwards: Vinicius Júnior, Kylian Mbappé, Rodrygo, Endrick, and Brahim.\n"
     ]
    }
   ],
   "source": [
    "user_input = \"Which players played against Villareal?\"\n",
    "\n",
    "events = graph.stream(\n",
    "    {\"messages\": [{\"role\": \"user\", \"content\": user_input}]},\n",
    "    config_USER3,\n",
    "    stream_mode=\"values\",\n",
    ")\n",
    "for event in events:\n",
    "    event[\"messages\"][-1].pretty_print()"
   ]
  },
  {
   "cell_type": "markdown",
   "metadata": {},
   "source": [
    "Tras mucho buscar, al final lo encuentra. Por lo que ya tenemos un chatbot con `tools` y memoria."
   ]
  },
  {
   "cell_type": "markdown",
   "metadata": {},
   "source": [
    "Por ahora, hemos creado unos `checkpoints` en tres hilos diferentes. Pero, ¿qué entra en cada `checkpoint`? Para inspeccionar el estado de un grafo para una configuración dada podemos usar el método `get_state(config)`."
   ]
  },
  {
   "cell_type": "code",
   "execution_count": 14,
   "metadata": {},
   "outputs": [
    {
     "data": {
      "text/plain": [
       "StateSnapshot(values={'messages': [HumanMessage(content='How did Real Madrid fare this weekend against Villareal in La Liga?', additional_kwargs={}, response_metadata={}, id='4badb145-8e5b-4b68-aba0-861c5bfc991e'), AIMessage(content='', additional_kwargs={'tool_calls': [{'function': {'arguments': {'query': 'Real Madrid vs Villareal La Liga weekend result'}, 'name': 'tavily_search_results_json', 'description': None}, 'id': '0', 'type': 'function'}]}, response_metadata={'token_usage': {'completion_tokens': 30, 'prompt_tokens': 297, 'total_tokens': 327}, 'model': '', 'finish_reason': 'stop'}, id='run-dbb9a5f5-7eb6-4eaf-b18c-7f5caf67c2ba-0', tool_calls=[{'name': 'tavily_search_results_json', 'args': {'query': 'Real Madrid vs Villareal La Liga weekend result'}, 'id': '0', 'type': 'tool_call'}]), ToolMessage(content='[{\"title\": \"Real Madrid 2-1 Villarreal (Mar 15, 2025) Game Analysis - ESPN\", \"url\": \"https://www.espn.com/soccer/report/_/gameId/704939\", \"content\": \"Kylian Mbappé scored twice to help Real Madrid fight back to beat Villarreal 2-1 on Saturday and move provisionally top of the LaLiga standings.\", \"score\": 0.8724455}, {\"title\": \"Real Madrid 2-1 Villarreal (15 Mar, 2025) Final Score - ESPN Global\", \"url\": \"https://global.espn.com/football/match/_/gameId/704939/real-madrid-villarreal\", \"content\": \"Kylian Mbappé scored twice to help Real Madrid fight back to beat Villarreal 2-1 on Saturday and move provisionally top of the LaLiga standings.\", \"score\": 0.7700667911111111}]', name='tavily_search_results_json', id='6fed7a08-d7a3-4824-90ec-fe0ec4d37537', tool_call_id='0', artifact={'query': 'Real Madrid vs Villareal La Liga weekend result', 'follow_up_questions': None, 'answer': None, 'images': [], 'results': [{'url': 'https://www.espn.com/soccer/report/_/gameId/704939', 'title': 'Real Madrid 2-1 Villarreal (Mar 15, 2025) Game Analysis - ESPN', 'content': 'Kylian Mbappé scored twice to help Real Madrid fight back to beat Villarreal 2-1 on Saturday and move provisionally top of the LaLiga standings.', 'score': 0.8724455, 'raw_content': None}, {'url': 'https://global.espn.com/football/match/_/gameId/704939/real-madrid-villarreal', 'title': 'Real Madrid 2-1 Villarreal (15 Mar, 2025) Final Score - ESPN Global', 'content': 'Kylian Mbappé scored twice to help Real Madrid fight back to beat Villarreal 2-1 on Saturday and move provisionally top of the LaLiga standings.', 'score': 0.7700667911111111, 'raw_content': None}], 'response_time': 2.15}), AIMessage(content='Real Madrid defeated Villarreal 2-1, with Kylian Mbappé scoring both goals, which moved Real Madrid provisionally to the top of LaLiga standings.', additional_kwargs={}, response_metadata={'token_usage': {'completion_tokens': 52, 'prompt_tokens': 553, 'total_tokens': 605}, 'model': '', 'finish_reason': 'stop'}, id='run-5bbba0c8-a7f8-4b21-9604-9554bd4a89f8-0'), HumanMessage(content='Which players played against Villareal?', additional_kwargs={}, response_metadata={}, id='54e05178-0d37-4d07-9d9b-645aaa69568b'), AIMessage(content='', additional_kwargs={'tool_calls': [{'function': {'arguments': {'query': 'Real Madrid Villareal squad list match 15 Mar 2025'}, 'name': 'tavily_search_results_json', 'description': None}, 'id': '0', 'type': 'function'}]}, response_metadata={'token_usage': {'completion_tokens': 37, 'prompt_tokens': 607, 'total_tokens': 644}, 'model': '', 'finish_reason': 'stop'}, id='run-70d198fc-444d-4111-bfc1-368de43b84ac-0', tool_calls=[{'name': 'tavily_search_results_json', 'args': {'query': 'Real Madrid Villareal squad list match 15 Mar 2025'}, 'id': '0', 'type': 'tool_call'}]), ToolMessage(content='[{\"title\": \"Villarreal v Real Madrid | March 15, 2025 | Goal.com US\", \"url\": \"https://www.goal.com/en-us/match/villarreal-vs-real-madrid/lineups/B_4aE8NTdMuaWGZQjye8h\", \"content\": \"Substitutes · 43. D. Aguado · 4. D. Alaba · 16. Endrick · 26. F. Gonzalez · 22. A. Ruediger. 61\\' · 13. A. Lunin · 45. V. Valdepenas · 7. Vinicius Junior.\", \"score\": 0.8891543}, {\"title\": \"Real Madrid squad for Villarreal match\", \"url\": \"https://www.realmadrid.com/en-US/news/football/first-team/squad-call/convocatoria-del-real-madrid-contra-el-villarreal-14-03-2025\", \"content\": \"Midfielders: Bellingham, Camavinga, Valverde, Modrić, Tchouameni and Arda Güler. Forwards: Vini Jr., Mbappé, Rodrygo, Endrick and Brahim.\", \"score\": 0.7188278125}]', name='tavily_search_results_json', id='bf59fb6c-6578-470c-b887-a61788f966db', tool_call_id='0', artifact={'query': 'Real Madrid Villareal squad list match 15 Mar 2025', 'follow_up_questions': None, 'answer': None, 'images': [], 'results': [{'url': 'https://www.goal.com/en-us/match/villarreal-vs-real-madrid/lineups/B_4aE8NTdMuaWGZQjye8h', 'title': 'Villarreal v Real Madrid | March 15, 2025 | Goal.com US', 'content': \"Substitutes · 43. D. Aguado · 4. D. Alaba · 16. Endrick · 26. F. Gonzalez · 22. A. Ruediger. 61' · 13. A. Lunin · 45. V. Valdepenas · 7. Vinicius Junior.\", 'score': 0.8891543, 'raw_content': None}, {'url': 'https://www.realmadrid.com/en-US/news/football/first-team/squad-call/convocatoria-del-real-madrid-contra-el-villarreal-14-03-2025', 'title': 'Real Madrid squad for Villarreal match', 'content': 'Midfielders: Bellingham, Camavinga, Valverde, Modrić, Tchouameni and Arda Güler. Forwards: Vini Jr., Mbappé, Rodrygo, Endrick and Brahim.', 'score': 0.7188278125, 'raw_content': None}], 'response_time': 1.46}), AIMessage(content='', additional_kwargs={'tool_calls': [{'function': {'arguments': {'query': 'which real Madrid players played against Villareal?'}, 'name': 'tavily_search_results_json', 'description': None}, 'id': '0', 'type': 'function'}]}, response_metadata={'token_usage': {'completion_tokens': 30, 'prompt_tokens': 929, 'total_tokens': 959}, 'model': '', 'finish_reason': 'stop'}, id='run-62f6edae-4dc9-4168-8907-4c503eb2e828-0', tool_calls=[{'name': 'tavily_search_results_json', 'args': {'query': 'which real Madrid players played against Villareal?'}, 'id': '0', 'type': 'tool_call'}]), ToolMessage(content='[{\"title\": \"Real Madrid announce squad for LaLiga match against Villarreal\", \"url\": \"https://www.managingmadrid.com/2025/3/14/24385700/villarreal-real-madrid-2025-liga-squad-list\", \"content\": \"Goalkeepers: Courtois, Lunin y Fran González. Defenders: Alaba, Lucas V., Fran García, Rüdiger, Asencio, Diego Aguado y Valdepeñas. Midfielders:\", \"score\": 0.7763013}, {\"title\": \"Real Madrid player ratings from 2-1 win vs Villarreal in LaLiga\", \"url\": \"https://therealchamps.com/real-madrid-player-ratings-from-2-1-win-vs-villarreal-in-laliga-01jpdehskd0y\", \"content\": \"Real Madrid player ratings from 2-1 win vs Villarreal in LaLiga · GK Thibaut Courtois · RB Lucas Vazquez · CB Raul Asencio · CB Aurelien Tchouameni.\", \"score\": 0.7348644}]', name='tavily_search_results_json', id='74587d4d-2374-445a-9544-cb63c4fa006d', tool_call_id='0', artifact={'query': 'which real Madrid players played against Villareal?', 'follow_up_questions': None, 'answer': None, 'images': [], 'results': [{'url': 'https://www.managingmadrid.com/2025/3/14/24385700/villarreal-real-madrid-2025-liga-squad-list', 'title': 'Real Madrid announce squad for LaLiga match against Villarreal', 'content': 'Goalkeepers: Courtois, Lunin y Fran González. Defenders: Alaba, Lucas V., Fran García, Rüdiger, Asencio, Diego Aguado y Valdepeñas. Midfielders:', 'score': 0.7763013, 'raw_content': None}, {'url': 'https://therealchamps.com/real-madrid-player-ratings-from-2-1-win-vs-villarreal-in-laliga-01jpdehskd0y', 'title': 'Real Madrid player ratings from 2-1 win vs Villarreal in LaLiga', 'content': 'Real Madrid player ratings from 2-1 win vs Villarreal in LaLiga · GK Thibaut Courtois · RB Lucas Vazquez · CB Raul Asencio · CB Aurelien Tchouameni.', 'score': 0.7348644, 'raw_content': None}], 'response_time': 1.45}), AIMessage(content='', additional_kwargs={'tool_calls': [{'function': {'arguments': {'query': 'Real Madrid vs Villarreal match lineup March 15, 2025'}, 'name': 'tavily_search_results_json', 'description': None}, 'id': '0', 'type': 'function'}]}, response_metadata={'token_usage': {'completion_tokens': 34, 'prompt_tokens': 1217, 'total_tokens': 1251}, 'model': '', 'finish_reason': 'stop'}, id='run-61b371e7-a3ae-48d5-bf53-aaadeb0e13e6-0', tool_calls=[{'name': 'tavily_search_results_json', 'args': {'query': 'Real Madrid vs Villarreal match lineup March 15, 2025'}, 'id': '0', 'type': 'tool_call'}]), ToolMessage(content='[{\"title\": \"Villarreal v Real Madrid | March 15, 2025 | Goal.com US\", \"url\": \"https://www.goal.com/en-us/match/villarreal-vs-real-madrid/lineups/B_4aE8NTdMuaWGZQjye8h\", \"content\": \"Substitutes · 43. D. Aguado · 4. D. Alaba · 16. Endrick · 26. F. Gonzalez · 22. A. Ruediger. 61\\' · 13. A. Lunin · 45. V. Valdepenas · 7. Vinicius Junior.\", \"score\": 0.9368016}, {\"title\": \"Villarreal vs. Real Madrid final score: La Liga result, updates, stats ...\", \"url\": \"https://www.sportingnews.com/us/soccer/news/villarreal-vs-real-madrid-score-result-updates-stats-la-liga/67cd5249ed55e513dcbfd906\", \"content\": \"— Villarreal CF (@VillarrealCF) March 15, 2025. 1 hr 30 mins before kickoff: Here\\'s the Madrid lineup. Plenty of changes from Carlo Ancelotti\", \"score\": 0.7115741333333333}]', name='tavily_search_results_json', id='bb3ee5d9-5b18-469e-a5a3-7dc9222eec73', tool_call_id='0', artifact={'query': 'Real Madrid vs Villarreal match lineup March 15, 2025', 'follow_up_questions': None, 'answer': None, 'images': [], 'results': [{'url': 'https://www.goal.com/en-us/match/villarreal-vs-real-madrid/lineups/B_4aE8NTdMuaWGZQjye8h', 'title': 'Villarreal v Real Madrid | March 15, 2025 | Goal.com US', 'content': \"Substitutes · 43. D. Aguado · 4. D. Alaba · 16. Endrick · 26. F. Gonzalez · 22. A. Ruediger. 61' · 13. A. Lunin · 45. V. Valdepenas · 7. Vinicius Junior.\", 'score': 0.9368016, 'raw_content': None}, {'url': 'https://www.sportingnews.com/us/soccer/news/villarreal-vs-real-madrid-score-result-updates-stats-la-liga/67cd5249ed55e513dcbfd906', 'title': 'Villarreal vs. Real Madrid final score: La Liga result, updates, stats ...', 'content': \"— Villarreal CF (@VillarrealCF) March 15, 2025. 1 hr 30 mins before kickoff: Here's the Madrid lineup. Plenty of changes from Carlo Ancelotti\", 'score': 0.7115741333333333, 'raw_content': None}], 'response_time': 1.58}), AIMessage(content='The starting lineup for Real Madrid against Villarreal included the following players:\">\">\">\">\">\">\">\">\">\">\">\">\">\">\">\">\">\">\">\">\">\">Goalkeepers: Thibaut Courtois, Andriy Lunin, and Fran González.\">\">\">\">\">\">\">\">\">\">\">\">\">\">\">\">\">Defenders: David Alaba, Lucas Vázquez, Fran García, Antonio Rüdiger, Raúl Asensio, Diego Aguado, and Víctor Valdepeñas.\">\">\">\">\">\">\">\">\">\">\">\">\">\">\">\">Midfielders: Jude Bellingham, Eduardo Camavinga, Federico Valverde, Luka Modrić, Aurélien Tchouaméni, and Arda Güler.\">\">\">\">\">\">\">\">\">\">\">\">\">\">\">\">\">Forwards: Vinicius Júnior, Kylian Mbappé, Rodrygo, Endrick, and Brahim. ', additional_kwargs={}, response_metadata={'token_usage': {'completion_tokens': 235, 'prompt_tokens': 1557, 'total_tokens': 1792}, 'model': '', 'finish_reason': 'stop'}, id='run-cbe4043a-bbf1-4671-9ad6-e491c2bd490c-0')]}, next=(), config={'configurable': {'thread_id': '3', 'checkpoint_ns': '', 'checkpoint_id': '1f003681-88f6-6a0e-800c-b30587220347'}}, metadata={'source': 'loop', 'writes': {'chatbot': {'messages': [AIMessage(content='The starting lineup for Real Madrid against Villarreal included the following players:\">\">\">\">\">\">\">\">\">\">\">\">\">\">\">\">\">\">\">\">\">\">Goalkeepers: Thibaut Courtois, Andriy Lunin, and Fran González.\">\">\">\">\">\">\">\">\">\">\">\">\">\">\">\">\">Defenders: David Alaba, Lucas Vázquez, Fran García, Antonio Rüdiger, Raúl Asensio, Diego Aguado, and Víctor Valdepeñas.\">\">\">\">\">\">\">\">\">\">\">\">\">\">\">\">Midfielders: Jude Bellingham, Eduardo Camavinga, Federico Valverde, Luka Modrić, Aurélien Tchouaméni, and Arda Güler.\">\">\">\">\">\">\">\">\">\">\">\">\">\">\">\">\">Forwards: Vinicius Júnior, Kylian Mbappé, Rodrygo, Endrick, and Brahim. ', additional_kwargs={}, response_metadata={'token_usage': {'completion_tokens': 235, 'prompt_tokens': 1557, 'total_tokens': 1792}, 'model': '', 'finish_reason': 'stop'}, id='run-cbe4043a-bbf1-4671-9ad6-e491c2bd490c-0')]}}, 'thread_id': '3', 'step': 12, 'parents': {}}, created_at='2025-03-17T19:43:27.201925+00:00', parent_config={'configurable': {'thread_id': '3', 'checkpoint_ns': '', 'checkpoint_id': '1f003681-2cd9-6050-800b-55c0e26ea9a9'}}, tasks=())"
      ]
     },
     "execution_count": 14,
     "metadata": {},
     "output_type": "execute_result"
    }
   ],
   "source": [
    "snapshot = graph.get_state(config_USER3)\n",
    "snapshot"
   ]
  },
  {
   "cell_type": "code",
   "execution_count": 15,
   "metadata": {},
   "outputs": [
    {
     "data": {
      "text/plain": [
       "()"
      ]
     },
     "execution_count": 15,
     "metadata": {},
     "output_type": "execute_result"
    }
   ],
   "source": [
    "snapshot.next  # (since the graph ended this turn, `next` is empty. If you fetch a state from within a graph invocation, next tells which node will execute next)"
   ]
  },
  {
   "cell_type": "markdown",
   "metadata": {},
   "source": [
    "La instantánea anterior (`snapshot`) contiene los valores de estado actuales, la configuración correspondiente y el siguiente nodo (`next`) a procesar. En nuestro caso, el gráfico ha alcanzado el estado `END`, por eso `next` está vacío."
   ]
  },
  {
   "cell_type": "markdown",
   "metadata": {},
   "source": [
    "**¡Felicidades!** Nuestro chatbot ahora puede mantener el estado de conversación en todas las sesiones gracias al sistema de puntos de control (`checkpoints`) de `LangGraph`. Esto abre posibilidades para interacciones más naturales y contextuales. El control de `LangGraph` incluso maneja estados de grafos complejos."
   ]
  },
  {
   "cell_type": "markdown",
   "metadata": {},
   "source": [
    "## Human in the loop"
   ]
  },
  {
   "cell_type": "markdown",
   "metadata": {},
   "source": [
    "Aunque un agente puede realizar tareas, para según que tareas, es necesario que haya una supervisión humana. A esto se le llama `human in the loop`. Así que vamos a ver cómo se puede hacer esto con `LangGraph`."
   ]
  },
  {
   "cell_type": "markdown",
   "metadata": {},
   "source": [
    "La capa de [persistencia](https://langchain-ai.github.io/langgraph/concepts/persistence/) de `LangGraph` admite flujos de trabajo humanos en el bucle, lo que permite que la ejecución se detenga y reanude en función de los comentarios de los usuarios. La interfaz principal de esta funcionalidad es la función [interrupt](https://langchain-ai.github.io/langgraph/concepts/human_in_the_loop/#interrupt). Llamando a `interrupt` dentro de un nodo se detendrá la ejecución. La ejecución se puede reanudar, junto con la nueva aportación del humano, pasanda en una primitiva [Command](https://langchain-ai.github.io/langgraph/concepts/human_in_the_loop/#the-command-primitive). `interrupt` es similar al comando de Python `input()`, pero con algunas consideraciones."
   ]
  },
  {
   "cell_type": "markdown",
   "metadata": {},
   "source": [
    "Vamos a repetir el código anterior, pero haremos un cambio, que es agregar una simple herramienta `human_assistance`. Esta herramienta utiliza `interrupt` para recibir información de un humano."
   ]
  },
  {
   "cell_type": "markdown",
   "metadata": {},
   "source": [
    "Primero cargamos los valores de las API KEYs"
   ]
  },
  {
   "cell_type": "code",
   "execution_count": 1,
   "metadata": {},
   "outputs": [],
   "source": [
    "import os\n",
    "import dotenv\n",
    "\n",
    "dotenv.load_dotenv()\n",
    "\n",
    "HUGGINGFACE_TOKEN = os.getenv(\"HUGGINGFACE_LANGGRAPH\")\n",
    "TAVILY_API_KEY = os.getenv(\"TAVILY_LANGGRAPH_API_KEY\")"
   ]
  },
  {
   "cell_type": "markdown",
   "metadata": {},
   "source": [
    "Creamos el grafo"
   ]
  },
  {
   "cell_type": "code",
   "execution_count": 2,
   "metadata": {},
   "outputs": [],
   "source": [
    "from typing import Annotated\n",
    "\n",
    "from typing_extensions import TypedDict\n",
    "\n",
    "from langgraph.graph import StateGraph, START, END\n",
    "from langgraph.graph.message import add_messages\n",
    "\n",
    "\n",
    "class State(TypedDict):\n",
    "    messages: Annotated[list, add_messages]\n",
    "\n",
    "graph_builder = StateGraph(State)"
   ]
  },
  {
   "cell_type": "markdown",
   "metadata": {},
   "source": [
    "Definimos la `tool` de búsqueda"
   ]
  },
  {
   "cell_type": "code",
   "execution_count": 3,
   "metadata": {},
   "outputs": [],
   "source": [
    "from langchain_community.utilities.tavily_search import TavilySearchAPIWrapper\n",
    "from langchain_community.tools.tavily_search import TavilySearchResults\n",
    "\n",
    "wrapper = TavilySearchAPIWrapper(tavily_api_key=TAVILY_API_KEY)\n",
    "search_tool = TavilySearchResults(api_wrapper=wrapper, max_results=2)"
   ]
  },
  {
   "cell_type": "markdown",
   "metadata": {},
   "source": [
    "Ahora creamos la `tool` de ayuda humana"
   ]
  },
  {
   "cell_type": "code",
   "execution_count": 4,
   "metadata": {},
   "outputs": [],
   "source": [
    "from langgraph.types import Command, interrupt\n",
    "from langchain_core.tools import tool\n",
    "\n",
    "@tool\n",
    "def human_assistance(query: str) -> str:\n",
    "    \"\"\"\n",
    "    Request assistance from a human expert. Use this tool ONLY ONCE per conversation.\n",
    "    After receiving the expert's response, you should provide an elaborated response to the user based on the information received\n",
    "    based on the information received, without calling this tool again.\n",
    "    \"\"\"\n",
    "    human_response = interrupt({\"query\": query})\n",
    "    return human_response[\"data\"]"
   ]
  },
  {
   "cell_type": "markdown",
   "metadata": {},
   "source": [
    "Creamos una lista de `tools`"
   ]
  },
  {
   "cell_type": "code",
   "execution_count": 5,
   "metadata": {},
   "outputs": [],
   "source": [
    "tools = [search_tool, human_assistance]"
   ]
  },
  {
   "cell_type": "markdown",
   "metadata": {},
   "source": [
    "A continuación el `LLM` con las `bind_tools` y lo añadimos al grafo"
   ]
  },
  {
   "cell_type": "code",
   "execution_count": 6,
   "metadata": {},
   "outputs": [
    {
     "data": {
      "text/plain": [
       "<langgraph.graph.state.StateGraph at 0x106605160>"
      ]
     },
     "execution_count": 6,
     "metadata": {},
     "output_type": "execute_result"
    }
   ],
   "source": [
    "from langchain_huggingface import HuggingFaceEndpoint, ChatHuggingFace\n",
    "from huggingface_hub import login\n",
    "\n",
    "login(token=HUGGINGFACE_TOKEN)\n",
    "os.environ[\"LANGCHAIN_TRACING_V2\"] = \"false\"    # Disable LangSmith tracing\n",
    "\n",
    "# Create the LLM\n",
    "MODEL = \"Qwen/Qwen2.5-72B-Instruct\"\n",
    "model = HuggingFaceEndpoint(\n",
    "    repo_id=MODEL,\n",
    "    task=\"text-generation\",\n",
    "    max_new_tokens=512,\n",
    "    do_sample=False,\n",
    "    repetition_penalty=1.03,\n",
    ")\n",
    "# Create the chat model\n",
    "llm = ChatHuggingFace(llm=model)\n",
    "\n",
    "# Modification: tell the LLM which tools it can call\n",
    "llm_with_tools = llm.bind_tools(tools)\n",
    "\n",
    "# Define the chatbot function\n",
    "def chatbot(state: State):\n",
    "    message = llm_with_tools.invoke(state[\"messages\"])\n",
    "    # Because we will be interrupting during tool execution,\n",
    "    # we disable parallel tool calling to avoid repeating any\n",
    "    # tool invocations when we resume.\n",
    "    assert len(message.tool_calls) <= 1\n",
    "    return {\"messages\": [message]}\n",
    "\n",
    "# Add the chatbot node\n",
    "graph_builder.add_node(\"chatbot\", chatbot)"
   ]
  },
  {
   "cell_type": "markdown",
   "metadata": {},
   "source": [
    "Si te fijas, hemos cambiado la forma de definir la función `chatbot`, ya que ahora tiene que manejar la interrupción."
   ]
  },
  {
   "cell_type": "markdown",
   "metadata": {},
   "source": [
    "Añadimos la `tool` al grafo"
   ]
  },
  {
   "cell_type": "code",
   "execution_count": 7,
   "metadata": {},
   "outputs": [
    {
     "data": {
      "text/plain": [
       "<langgraph.graph.state.StateGraph at 0x106605160>"
      ]
     },
     "execution_count": 7,
     "metadata": {},
     "output_type": "execute_result"
    }
   ],
   "source": [
    "from langgraph.prebuilt import ToolNode, tools_condition\n",
    "\n",
    "tool_node = ToolNode(tools=tools)\n",
    "graph_builder.add_node(\"tools\", tool_node)\n",
    "graph_builder.add_conditional_edges(\"chatbot\", tools_condition)\n",
    "graph_builder.add_edge(\"tools\", \"chatbot\")"
   ]
  },
  {
   "cell_type": "markdown",
   "metadata": {},
   "source": [
    "Añadimos el nodo de `START` al grafo"
   ]
  },
  {
   "cell_type": "code",
   "execution_count": 8,
   "metadata": {},
   "outputs": [
    {
     "data": {
      "text/plain": [
       "<langgraph.graph.state.StateGraph at 0x106605160>"
      ]
     },
     "execution_count": 8,
     "metadata": {},
     "output_type": "execute_result"
    }
   ],
   "source": [
    "graph_builder.add_edge(START, \"chatbot\")"
   ]
  },
  {
   "cell_type": "markdown",
   "metadata": {},
   "source": [
    "Creamos un `checkpointer` [MemorySaver](https://langchain-ai.github.io/langgraph/reference/checkpoints/#langgraph.checkpoint.memory.MemorySaver)."
   ]
  },
  {
   "cell_type": "code",
   "execution_count": 9,
   "metadata": {},
   "outputs": [],
   "source": [
    "from langgraph.checkpoint.memory import MemorySaver\n",
    "\n",
    "memory = MemorySaver()"
   ]
  },
  {
   "cell_type": "markdown",
   "metadata": {},
   "source": [
    "Compilamos el grafo con el `checkpointer`"
   ]
  },
  {
   "cell_type": "code",
   "execution_count": 10,
   "metadata": {},
   "outputs": [],
   "source": [
    "graph = graph_builder.compile(checkpointer=memory)"
   ]
  },
  {
   "cell_type": "markdown",
   "metadata": {},
   "source": [
    "Lo representamos gráficamente"
   ]
  },
  {
   "cell_type": "code",
   "execution_count": 11,
   "metadata": {},
   "outputs": [
    {
     "data": {
      "image/png": "[encoded data removed]",
      "text/plain": [
       "<IPython.core.display.Image object>"
      ]
     },
     "metadata": {},
     "output_type": "display_data"
    }
   ],
   "source": [
    "from IPython.display import Image, display\n",
    "\n",
    "try:\n",
    "    display(Image(graph.get_graph().draw_mermaid_png()))\n",
    "except Exception as e:\n",
    "    print(f\"Error al visualizar el grafo: {e}\")"
   ]
  },
  {
   "cell_type": "markdown",
   "metadata": {},
   "source": [
    "Ahora solicitemos el chatbot con una pregunta que involucrará a la nueva herramienta `human_assistance`:"
   ]
  },
  {
   "cell_type": "code",
   "execution_count": 12,
   "metadata": {},
   "outputs": [
    {
     "name": "stdout",
     "output_type": "stream",
     "text": [
      "================================\u001b[1m Human Message \u001b[0m=================================\n",
      "\n",
      "I need some expert guidance for building an AI agent. Could you request assistance for me?\n",
      "==================================\u001b[1m Ai Message \u001b[0m==================================\n",
      "Tool Calls:\n",
      "  human_assistance (0)\n",
      " Call ID: 0\n",
      "  Args:\n",
      "    query: I need some expert guidance for building an AI agent. Could you provide advice on key considerations, best practices, and potential pitfalls to avoid?\n"
     ]
    }
   ],
   "source": [
    "user_input = \"I need some expert guidance for building an AI agent. Could you request assistance for me?\"\n",
    "config = {\"configurable\": {\"thread_id\": \"1\"}}\n",
    "\n",
    "events = graph.stream(\n",
    "    {\"messages\": [{\"role\": \"user\", \"content\": user_input}]},\n",
    "    config,\n",
    "    stream_mode=\"values\",\n",
    ")\n",
    "for event in events:\n",
    "    if \"messages\" in event:\n",
    "        event[\"messages\"][-1].pretty_print()"
   ]
  },
  {
   "cell_type": "markdown",
   "metadata": {},
   "source": [
    "Como se puede ver, el chatbot generó una llamada de herramienta de asistencia humana.\n",
    "\n",
    "``` markdown\n",
    "Tool Calls:\n",
    "  human_assistance (0)\n",
    " Call ID: 0\n",
    "  Args:\n",
    "    query: I need some expert guidance for building an AI agent. Could you provide advice on key considerations, best practices, and potential pitfalls to avoid?\n",
    "```\n",
    "\n",
    "pero luego la ejecución se ha interrumpido. Vamos a ver el estado del grafo"
   ]
  },
  {
   "cell_type": "code",
   "execution_count": 13,
   "metadata": {},
   "outputs": [
    {
     "data": {
      "text/plain": [
       "('tools',)"
      ]
     },
     "execution_count": 13,
     "metadata": {},
     "output_type": "execute_result"
    }
   ],
   "source": [
    "snapshot = graph.get_state(config)\n",
    "snapshot.next"
   ]
  },
  {
   "cell_type": "markdown",
   "metadata": {},
   "source": [
    "Vemos que se detuvo en el nodo de `tools`. Analizamos cómo se ha definido la herramienta `human_assistance`.\n",
    "\n",
    "``` python\n",
    "from langgraph.types import Command, interrupt\n",
    "from langchain_core.tools import tool\n",
    "\n",
    "@tool\n",
    "def human_assistance(query: str) -> str:\n",
    "    \"\"\"\n",
    "    Request assistance from a human expert. Use this tool ONLY ONCE per conversation.\n",
    "    After receiving the expert's response, you should provide an elaborated response to the user based on the information received\n",
    "    based on the information received, without calling this tool again.\n",
    "    \"\"\"\n",
    "    human_response = interrupt({\"query\": query})\n",
    "    return human_response[\"data\"]\n",
    "```"
   ]
  },
  {
   "cell_type": "markdown",
   "metadata": {},
   "source": [
    "Llamando a la herramienta `interrupt` se detendrá la ejecución, similar al la función de Python `input()`.\n",
    "\n",
    "El progreso se mantiene en función de nuestra elección de [checkpointer](https://langchain-ai.github.io/langgraph/concepts/persistence/#checkpointer-libraries). Es decir, la elección de dónde se guarda el estado del grafo. Así que si estamos persistiendo (guardando el estado del grafo) con una base de datos como `Postgres`, podemos reanudar la ejecución en cualquier momento siempre y cuando la base de datos esté viva.\n",
    "\n",
    "Aquí estamos persistiendo (guardando el estado del grafo) con el puntero de verificación en memoria, por lo que podemos reanudar en cualquier momento mientras nuestro kernel de Python se esté ejecutando. En mi caso, mientras no resetee el kernel de mi Jupyter Notebook.\n",
    "\n",
    "Para reanudar la ejecución, pasamos un objeto [Command](https://langchain-ai.github.io/langgraph/concepts/human_in_the_loop/#the-command-primitive) que contiene los datos esperados por la herramienta. El formato de estos datos se puede personalizar en función de nuestras necesidades. Aquí, solo necesitamos un diccionario con una key `data`"
   ]
  },
  {
   "cell_type": "code",
   "execution_count": 14,
   "metadata": {},
   "outputs": [
    {
     "name": "stdout",
     "output_type": "stream",
     "text": [
      "==================================\u001b[1m Ai Message \u001b[0m==================================\n",
      "Tool Calls:\n",
      "  human_assistance (0)\n",
      " Call ID: 0\n",
      "  Args:\n",
      "    query: I need some expert guidance for building an AI agent. Could you provide advice on key considerations, best practices, and potential pitfalls to avoid?\n",
      "=================================\u001b[1m Tool Message \u001b[0m=================================\n",
      "Name: human_assistance\n",
      "\n",
      "We, the experts are here to help! We'd recommend you check out LangGraph to build your agent.It's much more reliable and extensible than simple autonomous agents.\n",
      "==================================\u001b[1m Ai Message \u001b[0m==================================\n",
      "\n",
      "The experts recommend checking out LangGraph for building your AI agent. It's much more reliable and extensible compared to simple autonomous agents.\n"
     ]
    }
   ],
   "source": [
    "human_response = (\n",
    "    \"We, the experts are here to help! We'd recommend you check out LangGraph to build your agent.\"\n",
    "    \"It's much more reliable and extensible than simple autonomous agents.\"\n",
    ")\n",
    "\n",
    "human_command = Command(resume={\"data\": human_response})\n",
    "\n",
    "events = graph.stream(human_command, config, stream_mode=\"values\")\n",
    "for event in events:\n",
    "    if \"messages\" in event:\n",
    "        event[\"messages\"][-1].pretty_print()"
   ]
  },
  {
   "cell_type": "markdown",
   "metadata": {},
   "source": [
    "Como vemos, el chatbot ha esperado a que un humano le proporcione la respuesta y luego ha generado una respuesta basada en la información recibida. Le hemos pedido por la ayuda sobre un experto sobre cómo crear agentes, el humano le ha dicho que lo mejor es usar LangGraph, y el chatbot ha generado una respuesta basada en esa información."
   ]
  },
  {
   "cell_type": "markdown",
   "metadata": {},
   "source": [
    "Pero sigue teniendo la posibilidad de realizar búsquedas en la web. Así que ahora le vamos a pedir las últimas noticias sobre LangGraph."
   ]
  },
  {
   "cell_type": "code",
   "execution_count": 15,
   "metadata": {},
   "outputs": [
    {
     "name": "stdout",
     "output_type": "stream",
     "text": [
      "================================\u001b[1m Human Message \u001b[0m=================================\n",
      "\n",
      "What's the latest news about LangGraph?\n",
      "==================================\u001b[1m Ai Message \u001b[0m==================================\n",
      "Tool Calls:\n",
      "  tavily_search_results_json (0)\n",
      " Call ID: 0\n",
      "  Args:\n",
      "    query: latest news about LangGraph\n",
      "=================================\u001b[1m Tool Message \u001b[0m=================================\n",
      "Name: tavily_search_results_json\n",
      "\n",
      "[{\"title\": \"Top 5 LangGraph Agents in Production 2024 - LangChain Blog\", \"url\": \"https://blog.langchain.dev/top-5-langgraph-agents-in-production-2024/\", \"content\": \"We launched LangGraph in early 2024 as a new take on an agentic framework. Incorporating lessons learned from LangChain, we made LangGraph very low level, controllable agentic framework. No hidden prompts, no obfuscated \\\"cognitive architecture\\\". Soon after it's launch, we saw LangGraph become the go-to default framework for agents.\", \"score\": 0.7293491339285714}, {\"title\": \"LangGraph 0.3 Release: Prebuilt Agents - LangChain Blog\", \"url\": \"https://blog.langchain.dev/langgraph-0-3-release-prebuilt-agents/\", \"content\": \"LangGraph 0.3 Release: Prebuilt Agents\\n2 min read Feb 27, 2025\\nBy Nuno Campos and Vadym Barda\\nOver the past year, we’ve invested heavily in making LangGraph the go-to framework for building AI agents. With companies like Replit, Klarna, LinkedIn and Uber choosing to build on top of LangGraph, we have more conviction than ever that we are on the right path. [...] Up to this point, we’ve had one higher level abstraction and it’s lived in the main langgraph package. It was create_react_agent, a wrapper for creating a simple tool calling agent. Today, we are splitting that out of langgraph as part of a 0.3 release, and moving it into langgraph-prebuilt.\\nWe are also introducing a new set of prebuilt agents built on top of LangGraph, in both Python and JavaScript.\\nOver the past three weeks, we’ve already released a few of these: [...] Published Time: 2025-02-27T15:09:15.000Z\\nLangGraph 0.3 Release: Prebuilt Agents\\nSkip to content\\n\\n\\nCase Studies\\nIn the Loop\\nLangChain\\nDocs\\nChangelog\\n\\nSign in Subscribe\", \"score\": 0.7048658747619049}]\n",
      "==================================\u001b[1m Ai Message \u001b[0m==================================\n",
      "Tool Calls:\n",
      "  tavily_search_results_json (0)\n",
      " Call ID: 0\n",
      "  Args:\n",
      "    query: latest news about LangGraph\n",
      "=================================\u001b[1m Tool Message \u001b[0m=================================\n",
      "Name: tavily_search_results_json\n",
      "\n",
      "[{\"title\": \"Top 5 LangGraph Agents in Production 2024 - LangChain Blog\", \"url\": \"https://blog.langchain.dev/top-5-langgraph-agents-in-production-2024/\", \"content\": \"We launched LangGraph in early 2024 as a new take on an agentic framework. Incorporating lessons learned from LangChain, we made LangGraph very low level, controllable agentic framework. No hidden prompts, no obfuscated \\\"cognitive architecture\\\". Soon after it's launch, we saw LangGraph become the go-to default framework for agents.\", \"score\": 0.7293491339285714}, {\"title\": \"LangGraph 0.3 Release: Prebuilt Agents - LangChain Blog\", \"url\": \"https://blog.langchain.dev/langgraph-0-3-release-prebuilt-agents/\", \"content\": \"LangGraph 0.3 Release: Prebuilt Agents\\n2 min read Feb 27, 2025\\nBy Nuno Campos and Vadym Barda\\nOver the past year, we’ve invested heavily in making LangGraph the go-to framework for building AI agents. With companies like Replit, Klarna, LinkedIn and Uber choosing to build on top of LangGraph, we have more conviction than ever that we are on the right path. [...] Up to this point, we’ve had one higher level abstraction and it’s lived in the main langgraph package. It was create_react_agent, a wrapper for creating a simple tool calling agent. Today, we are splitting that out of langgraph as part of a 0.3 release, and moving it into langgraph-prebuilt.\\nWe are also introducing a new set of prebuilt agents built on top of LangGraph, in both Python and JavaScript.\\nOver the past three weeks, we’ve already released a few of these: [...] Published Time: 2025-02-27T15:09:15.000Z\\nLangGraph 0.3 Release: Prebuilt Agents\\nSkip to content\\n\\n\\nCase Studies\\nIn the Loop\\nLangChain\\nDocs\\nChangelog\\n\\nSign in Subscribe\", \"score\": 0.7048658747619049}]\n",
      "==================================\u001b[1m Ai Message \u001b[0m==================================\n",
      "Tool Calls:\n",
      "  tavily_search_results_json (0)\n",
      " Call ID: 0\n",
      "  Args:\n",
      "    query: latestnews about Lang:// lang46 released927418\n",
      "=================================\u001b[1m Tool Message \u001b[0m=================================\n",
      "Name: tavily_search_results_json\n",
      "\n",
      "[{\"title\": \"Lang Lang - News - Deutsche Grammophon\", \"url\": \"https://www.deutschegrammophon.com/en/artists/langlang/news\", \"content\": \"Deutsche Grammophon Releases Lang Lang's World Premiere Recording of Long-Lost Chopin Waltz · Lang Lang Celebrates the Year of the Dragon · Lang Lang's New Album\", \"score\": 0.25990826}, {\"title\": \"Lang Lang - Wikipedia\", \"url\": \"https://en.wikipedia.org/wiki/Lang_Lang\", \"content\": \"On 30 September 2021, Lang performed at the opening ceremony of Expo 2020 in Dubai, UAE.\\nOn 7 May 2023, Lang performed at the Coronation Concert, held in celebration of the coronation of King Charles III and Queen Camilla the day before.[63] Lang played the piano for the song \\\"Reflection\\\", from Disney's 1998 animated film Mulan, accompanied by singer Nicole Scherzinger.[64]\\nBooks\\n[edit] [...] On 30 April 2015, Lang performed at the Expo 2015 opening concert with Andrea Bocelli at Piazza del Duomo in Milan.\\nOn 4 July 2015, Lang performed \\\"Rhapsody in Blue\\\" during \\\"A Capitol Fourth\\\", a U.S. Independence Day celebration televised from Washington, D.C.\\nOn 24 September 2015, Lang performed the Edvard Grieg Piano Concerto in A minor, Op. 16 at the New York Philharmonic Opening Gala Concert at the David Geffen Hall with Alan Gilbert conducting. [...] Lang's autobiography, Journey of a Thousand Miles, published by Random House in 8 languages, was released in the summer of 2008.[citation needed] Delacorte Press also released a version of the autobiography specifically for younger readers, entitled Playing with Flying Keys.\\nAwards and outreach\\n[edit]\", \"score\": 0.22016132313218395}]\n",
      "==================================\u001b[1m Ai Message \u001b[0m==================================\n",
      "Tool Calls:\n",
      "  tavily_search_results_json (0)\n",
      " Call ID: 0\n",
      "  Args:\n",
      "    query: latest news about LangGraph\n",
      "=================================\u001b[1m Tool Message \u001b[0m=================================\n",
      "Name: tavily_search_results_json\n",
      "\n",
      "[{\"title\": \"Top 5 LangGraph Agents in Production 2024 - LangChain Blog\", \"url\": \"https://blog.langchain.dev/top-5-langgraph-agents-in-production-2024/\", \"content\": \"We launched LangGraph in early 2024 as a new take on an agentic framework. Incorporating lessons learned from LangChain, we made LangGraph very low level, controllable agentic framework. No hidden prompts, no obfuscated \\\"cognitive architecture\\\". Soon after it's launch, we saw LangGraph become the go-to default framework for agents.\", \"score\": 0.7293491339285714}, {\"title\": \"LangGraph 0.3 Release: Prebuilt Agents - LangChain Blog\", \"url\": \"https://blog.langchain.dev/langgraph-0-3-release-prebuilt-agents/\", \"content\": \"LangGraph 0.3 Release: Prebuilt Agents\\n2 min read Feb 27, 2025\\nBy Nuno Campos and Vadym Barda\\nOver the past year, we’ve invested heavily in making LangGraph the go-to framework for building AI agents. With companies like Replit, Klarna, LinkedIn and Uber choosing to build on top of LangGraph, we have more conviction than ever that we are on the right path. [...] Up to this point, we’ve had one higher level abstraction and it’s lived in the main langgraph package. It was create_react_agent, a wrapper for creating a simple tool calling agent. Today, we are splitting that out of langgraph as part of a 0.3 release, and moving it into langgraph-prebuilt.\\nWe are also introducing a new set of prebuilt agents built on top of LangGraph, in both Python and JavaScript.\\nOver the past three weeks, we’ve already released a few of these: [...] Published Time: 2025-02-27T15:09:15.000Z\\nLangGraph 0.3 Release: Prebuilt Agents\\nSkip to content\\n\\n\\nCase Studies\\nIn the Loop\\nLangChain\\nDocs\\nChangelog\\n\\nSign in Subscribe\", \"score\": 0.7048658747619049}]\n",
      "==================================\u001b[1m Ai Message \u001b[0m==================================\n",
      "Tool Calls:\n",
      "  tavily_search_results_json (0)\n",
      " Call ID: 0\n",
      "  Args:\n",
      "    query: LangGraph latest news\n",
      "=================================\u001b[1m Tool Message \u001b[0m=================================\n",
      "Name: tavily_search_results_json\n",
      "\n",
      "[{\"title\": \"LangChain - Changelog\", \"url\": \"https://changelog.langchain.com/\", \"content\": \"LangGraph 🔁 Modify graph state from tools in LangGraph --------------------------------------------- LangGraph's latest update gives you greater control over your agents by enabling tools to directly update the graph state. This is a game-changer for use... December 18, 2024 [...] LangGraph `interrupt`: Simplifying human-in-the-loop agents --------------------------------------------------- Our latest feature in LangGraph, interrupt , makes building human-in-the-loop workflows easier. Agents aren’t perfect, so keeping humans “in the loop”... December 16, 2024\", \"score\": 0.7828389173362446}, {\"title\": \"Top 5 LangGraph Agents in Production 2024 - LangChain Blog\", \"url\": \"https://blog.langchain.dev/top-5-langgraph-agents-in-production-2024/\", \"content\": \"We launched LangGraph in early 2024 as a new take on an agentic framework. Incorporating lessons learned from LangChain, we made LangGraph very low level, controllable agentic framework. No hidden prompts, no obfuscated \\\"cognitive architecture\\\". Soon after it's launch, we saw LangGraph become the go-to default framework for agents.\", \"score\": 0.7102904655021833}]\n",
      "==================================\u001b[1m Ai Message \u001b[0m==================================\n",
      "Tool Calls:\n",
      "  tavily_search_results_json (0)\n",
      " Call ID: 0\n",
      "  Args:\n",
      "    query: LangGraph latest news\n",
      "=================================\u001b[1m Tool Message \u001b[0m=================================\n",
      "Name: tavily_search_results_json\n",
      "\n",
      "[{\"title\": \"LangChain - Changelog\", \"url\": \"https://changelog.langchain.com/\", \"content\": \"LangGraph 🔁 Modify graph state from tools in LangGraph --------------------------------------------- LangGraph's latest update gives you greater control over your agents by enabling tools to directly update the graph state. This is a game-changer for use... December 18, 2024 [...] LangGraph `interrupt`: Simplifying human-in-the-loop agents --------------------------------------------------- Our latest feature in LangGraph, interrupt , makes building human-in-the-loop workflows easier. Agents aren’t perfect, so keeping humans “in the loop”... December 16, 2024\", \"score\": 0.7828389173362446}, {\"title\": \"Top 5 LangGraph Agents in Production 2024 - LangChain Blog\", \"url\": \"https://blog.langchain.dev/top-5-langgraph-agents-in-production-2024/\", \"content\": \"We launched LangGraph in early 2024 as a new take on an agentic framework. Incorporating lessons learned from LangChain, we made LangGraph very low level, controllable agentic framework. No hidden prompts, no obfuscated \\\"cognitive architecture\\\". Soon after it's launch, we saw LangGraph become the go-to default framework for agents.\", \"score\": 0.7102904655021833}]\n",
      "==================================\u001b[1m Ai Message \u001b[0m==================================\n",
      "\n",
      "The latest news about LangGraph includes two significant updates:\\\\- **Modify Graph State from Tools**: This update gives developers greater control over their agents by enabling tools to directly update the graph state. (Announced on December 18, 2024) \\\\- **LangGraph `interrupt`**: A new feature that simplifies human-in-the-loop workflows, making it easier to keep humans involved in the decision-making process of AI agents. (Announced on December 16, 2024) For more details, you can check out the [LangChain Changelog](https://changelog.langchain.com/) or the [LangChain Blog](https://blog.langchain.dev/top-5-langgraph-agents-in-production-2024/) for the top 5 LangGraph agents in production.\n"
     ]
    }
   ],
   "source": [
    "user_input = \"What's the latest news about LangGraph?\"\n",
    "\n",
    "events = graph.stream(\n",
    "    {\"messages\": [{\"role\": \"user\", \"content\": user_input}]},\n",
    "    config,\n",
    "    stream_mode=\"values\",\n",
    ")\n",
    "for event in events:\n",
    "    if \"messages\" in event:\n",
    "        event[\"messages\"][-1].pretty_print()"
   ]
  },
  {
   "cell_type": "markdown",
   "metadata": {},
   "source": [
    "Ha buscado las últimas noticias sobre LangGraph y ha generado una respuesta basada en la información recibida."
   ]
  },
  {
   "cell_type": "markdown",
   "metadata": {},
   "source": [
    "## Personalización del estado"
   ]
  },
  {
   "cell_type": "markdown",
   "metadata": {},
   "source": [
    " > Nota: Este apartado lo vamos a hacer usando Sonnet 3.7, ya que a día de la escritura del post, es el mejor modelo para uso con agentes, y es el único que entiende cuando tiene que llamar a las tools y cuando no"
   ]
  },
  {
   "cell_type": "markdown",
   "metadata": {},
   "source": [
    "Hasta ahora, hemos confiado en un estado simple con una entrada, una lista de mensajes. Se puede llegar lejos con este estado simple, pero si se desea definir un comportamiento complejo sin depender de la lista de mensajes, se pueden agregar campos adicionales al estado.\n",
    "\n",
    "Aquí vamos a ver un nuevo escenario, en el que el chatbot está utilizando la herramienta de búsqueda para encontrar información específica, y reenviándola a un ser humano para su revisión. Vamos a hacer que el chatbot investigue el cumpleaños de una entidad. Agregaremos `name` y `birthday` claves del estado."
   ]
  },
  {
   "cell_type": "markdown",
   "metadata": {},
   "source": [
    "Primero cargamos los valores de las API KEYs"
   ]
  },
  {
   "cell_type": "code",
   "execution_count": 1,
   "metadata": {},
   "outputs": [],
   "source": [
    "import os\n",
    "import dotenv\n",
    "\n",
    "dotenv.load_dotenv()\n",
    "\n",
    "HUGGINGFACE_TOKEN = os.getenv(\"HUGGINGFACE_LANGGRAPH\")\n",
    "ANTHROPIC_TOKEN = os.getenv(\"ANTHROPIC_LANGGRAPH_API_KEY\")\n",
    "TAVILY_API_KEY = os.getenv(\"TAVILY_LANGGRAPH_API_KEY\")"
   ]
  },
  {
   "cell_type": "markdown",
   "metadata": {},
   "source": [
    "Creamos el nuevo estado"
   ]
  },
  {
   "cell_type": "code",
   "execution_count": 2,
   "metadata": {},
   "outputs": [],
   "source": [
    "from typing import Annotated\n",
    "\n",
    "from typing_extensions import TypedDict\n",
    "\n",
    "from langgraph.graph.message import add_messages\n",
    "\n",
    "class State(TypedDict):\n",
    "    messages: Annotated[list, add_messages]\n",
    "    name: str\n",
    "    birthday: str"
   ]
  },
  {
   "cell_type": "markdown",
   "metadata": {},
   "source": [
    "Agregar esta información al estado hace que sea fácilmente accesible por otros nodos del grafo (por ejemplo, un nodo downstram que almacena o procesa la información), así como la capa de persistencia del grafo."
   ]
  },
  {
   "cell_type": "markdown",
   "metadata": {},
   "source": [
    "Ahora creamos el grafo"
   ]
  },
  {
   "cell_type": "code",
   "execution_count": 3,
   "metadata": {},
   "outputs": [],
   "source": [
    "from langgraph.graph import StateGraph, START, END\n",
    "\n",
    "graph_builder = StateGraph(State)"
   ]
  },
  {
   "cell_type": "markdown",
   "metadata": {},
   "source": [
    "Definimos la `tool` de búsqueda"
   ]
  },
  {
   "cell_type": "code",
   "execution_count": 4,
   "metadata": {},
   "outputs": [],
   "source": [
    "from langchain_community.utilities.tavily_search import TavilySearchAPIWrapper\n",
    "from langchain_community.tools.tavily_search import TavilySearchResults\n",
    "\n",
    "wrapper = TavilySearchAPIWrapper(tavily_api_key=TAVILY_API_KEY)\n",
    "search_tool = TavilySearchResults(api_wrapper=wrapper, max_results=2)"
   ]
  },
  {
   "cell_type": "markdown",
   "metadata": {},
   "source": [
    "Ahora creamos la tool de asistencia humana. En esta tool rellenaremos las claves de estado dentro de nuestra herramienta `human_assistance`. Esto permite a un ser humano revisar la información antes de que se almacene en el estado. Volveremos a usar `Command`, esta vez para emitir una actualización de estado desde el interior de nuestra herramienta."
   ]
  },
  {
   "cell_type": "code",
   "execution_count": 5,
   "metadata": {},
   "outputs": [],
   "source": [
    "from langchain_core.messages import ToolMessage\n",
    "from langchain_core.tools import InjectedToolCallId, tool\n",
    "\n",
    "from langgraph.types import Command, interrupt\n",
    "\n",
    "\n",
    "@tool\n",
    "# Note that because we are generating a ToolMessage for a state update, we\n",
    "# generally require the ID of the corresponding tool call. We can use\n",
    "# LangChain's InjectedToolCallId to signal that this argument should not\n",
    "# be revealed to the model in the tool's schema.\n",
    "def human_assistance(\n",
    "    name: str, birthday: str, tool_call_id: Annotated[str, InjectedToolCallId]\n",
    ") -> str:\n",
    "    \"\"\"\n",
    "    Request assistance from a human expert. Use this tool ONLY ONCE per conversation.\n",
    "    After receiving the expert's response, you should provide an elaborated response to the user based on the information received\n",
    "    based on the information received, without calling this tool again.\n",
    "    \"\"\"\n",
    "    human_response = interrupt(\n",
    "        {\n",
    "            \"question\": \"Is this correct?\",\n",
    "            \"name\": name,\n",
    "            \"birthday\": birthday,\n",
    "        },\n",
    "    )\n",
    "    # If the information is correct, update the state as-is.\n",
    "    if human_response.get(\"correct\", \"\").lower().startswith(\"y\"):\n",
    "        verified_name = name\n",
    "        verified_birthday = birthday\n",
    "        response = \"Correct\"\n",
    "    # Otherwise, receive information from the human reviewer.\n",
    "    else:\n",
    "        verified_name = human_response.get(\"name\", name)\n",
    "        verified_birthday = human_response.get(\"birthday\", birthday)\n",
    "        response = f\"Made a correction: {human_response}\"\n",
    "\n",
    "    # This time we explicitly update the state with a ToolMessage inside\n",
    "    # the tool.\n",
    "    state_update = {\n",
    "        \"name\": verified_name,\n",
    "        \"birthday\": verified_birthday,\n",
    "        \"messages\": [ToolMessage(response, tool_call_id=tool_call_id)],\n",
    "    }\n",
    "    # We return a Command object in the tool to update our state.\n",
    "    return Command(update=state_update)"
   ]
  },
  {
   "cell_type": "markdown",
   "metadata": {},
   "source": [
    "Hemos usado [ToolMessage](https://python.langchain.com/api_reference/core/messages/langchain_core.messages.tool.ToolMessage.html) que se usa para pasar el resultado de ejecutar una `tool` de nuevo a un modelo y [InjectedToolCallId](https://python.langchain.com/api_reference/core/tools/langchain_core.tools.base.InjectedToolCallId.html)"
   ]
  },
  {
   "cell_type": "markdown",
   "metadata": {},
   "source": [
    "Creamos una lista de `tools`"
   ]
  },
  {
   "cell_type": "code",
   "execution_count": 6,
   "metadata": {},
   "outputs": [],
   "source": [
    "tools = [search_tool, human_assistance]"
   ]
  },
  {
   "cell_type": "markdown",
   "metadata": {},
   "source": [
    "A continuación el `LLM` con las `bind_tools` y lo añadimos al grafo"
   ]
  },
  {
   "cell_type": "code",
   "execution_count": 7,
   "metadata": {},
   "outputs": [
    {
     "data": {
      "text/plain": [
       "<langgraph.graph.state.StateGraph at 0x106405160>"
      ]
     },
     "execution_count": 7,
     "metadata": {},
     "output_type": "execute_result"
    }
   ],
   "source": [
    "from langchain_huggingface import HuggingFaceEndpoint, ChatHuggingFace\n",
    "from langchain_anthropic import ChatAnthropic\n",
    "from huggingface_hub import login\n",
    "\n",
    "login(token=HUGGINGFACE_TOKEN)\n",
    "os.environ[\"LANGCHAIN_TRACING_V2\"] = \"false\"    # Disable LangSmith tracing\n",
    "\n",
    "# Create the LLM\n",
    "# MODEL = \"mistralai/Mistral-Small-3.1-24B-Instruct-2503\"\n",
    "# model = HuggingFaceEndpoint(\n",
    "#     repo_id=MODEL,\n",
    "#     task=\"text-generation\",\n",
    "#     max_new_tokens=512,\n",
    "#     do_sample=False,\n",
    "#     repetition_penalty=1.03,\n",
    "# )\n",
    "# Create the chat model\n",
    "# llm = ChatHuggingFace(llm=model)\n",
    "llm = ChatAnthropic(model=\"claude-3-7-sonnet-20250219\", api_key=ANTHROPIC_TOKEN)\n",
    "\n",
    "# Modification: tell the LLM which tools it can call\n",
    "llm_with_tools = llm.bind_tools(tools)\n",
    "\n",
    "# Define the chatbot function\n",
    "def chatbot(state: State):\n",
    "    message = llm_with_tools.invoke(state[\"messages\"])\n",
    "    # Because we will be interrupting during tool execution,\n",
    "    # we disable parallel tool calling to avoid repeating any\n",
    "    # tool invocations when we resume.\n",
    "    assert len(message.tool_calls) <= 1\n",
    "    return {\"messages\": [message]}\n",
    "\n",
    "# Add the chatbot node\n",
    "graph_builder.add_node(\"chatbot\", chatbot)"
   ]
  },
  {
   "cell_type": "markdown",
   "metadata": {},
   "source": [
    "Añadimos la `tool` al grafo"
   ]
  },
  {
   "cell_type": "code",
   "execution_count": 8,
   "metadata": {},
   "outputs": [
    {
     "data": {
      "text/plain": [
       "<langgraph.graph.state.StateGraph at 0x106405160>"
      ]
     },
     "execution_count": 8,
     "metadata": {},
     "output_type": "execute_result"
    }
   ],
   "source": [
    "from langgraph.prebuilt import ToolNode, tools_condition\n",
    "\n",
    "tool_node = ToolNode(tools=tools)\n",
    "graph_builder.add_node(\"tools\", tool_node)\n",
    "graph_builder.add_conditional_edges(\"chatbot\", tools_condition)\n",
    "graph_builder.add_edge(\"tools\", \"chatbot\")"
   ]
  },
  {
   "cell_type": "markdown",
   "metadata": {},
   "source": [
    "Añadimos el nodo de `START` al grafo"
   ]
  },
  {
   "cell_type": "code",
   "execution_count": 9,
   "metadata": {},
   "outputs": [
    {
     "data": {
      "text/plain": [
       "<langgraph.graph.state.StateGraph at 0x106405160>"
      ]
     },
     "execution_count": 9,
     "metadata": {},
     "output_type": "execute_result"
    }
   ],
   "source": [
    "graph_builder.add_edge(START, \"chatbot\")"
   ]
  },
  {
   "cell_type": "markdown",
   "metadata": {},
   "source": [
    "Creamos un `checkpointer` [MemorySaver](https://langchain-ai.github.io/langgraph/reference/checkpoints/#langgraph.checkpoint.memory.MemorySaver)."
   ]
  },
  {
   "cell_type": "code",
   "execution_count": 10,
   "metadata": {},
   "outputs": [],
   "source": [
    "from langgraph.checkpoint.memory import MemorySaver\n",
    "\n",
    "memory = MemorySaver()"
   ]
  },
  {
   "cell_type": "markdown",
   "metadata": {},
   "source": [
    "Compilamos el grafo con el `checkpointer`"
   ]
  },
  {
   "cell_type": "code",
   "execution_count": 11,
   "metadata": {},
   "outputs": [],
   "source": [
    "graph = graph_builder.compile(checkpointer=memory)"
   ]
  },
  {
   "cell_type": "markdown",
   "metadata": {},
   "source": [
    "Lo representamos gráficamente"
   ]
  },
  {
   "cell_type": "code",
   "execution_count": 12,
   "metadata": {},
   "outputs": [
    {
     "data": {
      "image/png": "[encoded data removed]",
      "text/plain": [
       "<IPython.core.display.Image object>"
      ]
     },
     "metadata": {},
     "output_type": "display_data"
    }
   ],
   "source": [
    "from IPython.display import Image, display\n",
    "\n",
    "try:\n",
    "    display(Image(graph.get_graph().draw_mermaid_png()))\n",
    "except Exception as e:\n",
    "    print(f\"Error al visualizar el grafo: {e}\")"
   ]
  },
  {
   "cell_type": "markdown",
   "metadata": {},
   "source": [
    "Vamos a pedir a nuestro chatbot que busque el \"cumpleaños\" de la biblioteca de `LangGraph`.\n",
    "\n",
    "Dirigiremos al chatbot hata la herramienta `human_assistance` una vez que tenga la información requerida. Los argumentos `name` y `birthday` son obligatorios para la herramienta `human_assistance`, así que obligan al chatbot a generar propuestas para estos campos."
   ]
  },
  {
   "cell_type": "code",
   "execution_count": 13,
   "metadata": {},
   "outputs": [
    {
     "name": "stdout",
     "output_type": "stream",
     "text": [
      "================================\u001b[1m Human Message \u001b[0m=================================\n",
      "\n",
      "Can you look up when LangGraph was released? When you have the answer, use the human_assistance tool for review.\n",
      "==================================\u001b[1m Ai Message \u001b[0m==================================\n",
      "\n",
      "[{'text': \"I'll help you find out when LangGraph was released and then have it reviewed by a human expert. Let me search for this information first.\", 'type': 'text'}, {'id': 'toolu_015TjcZmu3j4PSicctmEQrdE', 'input': {'query': 'when was LangGraph released official launch date'}, 'name': 'tavily_search_results_json', 'type': 'tool_use'}]\n",
      "Tool Calls:\n",
      "  tavily_search_results_json (toolu_015TjcZmu3j4PSicctmEQrdE)\n",
      " Call ID: toolu_015TjcZmu3j4PSicctmEQrdE\n",
      "  Args:\n",
      "    query: when was LangGraph released official launch date\n",
      "=================================\u001b[1m Tool Message \u001b[0m=================================\n",
      "Name: tavily_search_results_json\n",
      "\n",
      "[{\"title\": \"LangGraph Quickstart - GitHub Pages\", \"url\": \"https://langchain-ai.github.io/langgraph/tutorials/introduction/\", \"content\": \"[](https://langchain-ai.github.io/langgraph/tutorials/introduction/#__codelineno-56-24)It's worth noting that LangGraph had been in development and use for some time before the LangGraph Cloud announcement, but the official initial release of LangGraph itself was on January 17, 2024.\\nNote that these fields are now reflected in the state:\\n[](https://langchain-ai.github.io/langgraph/tutorials/introduction/#__codelineno-57-1)snapshot = graph.get_state(config) [...] [](https://langchain-ai.github.io/langgraph/tutorials/introduction/#__codelineno-56-20)To summarize:\\n[](https://langchain-ai.github.io/langgraph/tutorials/introduction/#__codelineno-56-21)1. LangGraph's original release date: January 17, 2024\\n[](https://langchain-ai.github.io/langgraph/tutorials/introduction/#__codelineno-56-22)2. LangGraph Cloud announcement: June 27, 2024\\n[](https://langchain-ai.github.io/langgraph/tutorials/introduction/#__codelineno-56-23) [...] [](https://langchain-ai.github.io/langgraph/tutorials/introduction/#__codelineno-56-17)\\n[](https://langchain-ai.github.io/langgraph/tutorials/introduction/#__codelineno-56-18)LangGraph was initially released on January 17, 2024. This information comes from the human assistance correction, which is more accurate than the search results I initially found.\\n[](https://langchain-ai.github.io/langgraph/tutorials/introduction/#__codelineno-56-19)\", \"score\": 0.849569660980057}, {\"title\": \"LangChain Unveils LangGraph Studio: The First IDE for Agent ...\", \"url\": \"https://blockchain.news/news/langchain-unveils-langgraph-studio-the-first-ide-for-agent-development\", \"content\": \"LangGraph, introduced in January 2023, is a low-level orchestration framework for building agentic applications. Since its launch, LangGraph has undergone significant enhancements, culminating in a stable 0.1 release in June 2024. The framework supports complex applications requiring highly domain-specific cognitive architectures and features a persistence layer that enables human-in-the-loop interactions.\", \"score\": 0.8159328605128205}]\n",
      "==================================\u001b[1m Ai Message \u001b[0m==================================\n",
      "\n",
      "[{'text': \"I found some information about LangGraph's release date, but there seems to be conflicting information. Let me request human assistance to verify this information.\", 'type': 'text'}, {'id': 'toolu_01EcmepXKp3XviABG2aTxi8X', 'input': {'name': 'LangGraph Release Date', 'birthday': 'January 2024'}, 'name': 'human_assistance', 'type': 'tool_use'}]\n",
      "Tool Calls:\n",
      "  human_assistance (toolu_01EcmepXKp3XviABG2aTxi8X)\n",
      " Call ID: toolu_01EcmepXKp3XviABG2aTxi8X\n",
      "  Args:\n",
      "    name: LangGraph Release Date\n",
      "    birthday: January 2024\n"
     ]
    }
   ],
   "source": [
    "user_input = (\n",
    "    \"Can you look up when LangGraph was released? \"\n",
    "    \"When you have the answer, use the human_assistance tool for review.\"\n",
    ")\n",
    "config = {\"configurable\": {\"thread_id\": \"1\"}}\n",
    "\n",
    "events = graph.stream(\n",
    "    {\"messages\": [{\"role\": \"user\", \"content\": user_input}]},\n",
    "    config,\n",
    "    stream_mode=\"values\",\n",
    ")\n",
    "for event in events:\n",
    "    if \"messages\" in event:\n",
    "        event[\"messages\"][-1].pretty_print()"
   ]
  },
  {
   "cell_type": "markdown",
   "metadata": {},
   "source": [
    "Se ha parado por el `interrupt` en la herramienta `human_assistance`. En este caso, el chatbot no identificó la fecha correcta, por lo que podemos introducirla nosotros mismos."
   ]
  },
  {
   "cell_type": "code",
   "execution_count": 14,
   "metadata": {},
   "outputs": [
    {
     "name": "stdout",
     "output_type": "stream",
     "text": [
      "==================================\u001b[1m Ai Message \u001b[0m==================================\n",
      "\n",
      "[{'text': \"I found some information about LangGraph's release date, but there seems to be conflicting information. Let me request human assistance to verify this information.\", 'type': 'text'}, {'id': 'toolu_01EcmepXKp3XviABG2aTxi8X', 'input': {'name': 'LangGraph Release Date', 'birthday': 'January 2024'}, 'name': 'human_assistance', 'type': 'tool_use'}]\n",
      "Tool Calls:\n",
      "  human_assistance (toolu_01EcmepXKp3XviABG2aTxi8X)\n",
      " Call ID: toolu_01EcmepXKp3XviABG2aTxi8X\n",
      "  Args:\n",
      "    name: LangGraph Release Date\n",
      "    birthday: January 2024\n",
      "=================================\u001b[1m Tool Message \u001b[0m=================================\n",
      "Name: human_assistance\n",
      "\n",
      "Made a correction: {'name': 'LangGraph', 'birthday': 'Jan 17, 2024'}\n",
      "==================================\u001b[1m Ai Message \u001b[0m==================================\n",
      "\n",
      "Thank you for your patience. Based on my research and the human expert verification, I can now provide you with the accurate information:\n",
      "\n",
      "LangGraph was officially released on January 17, 2024. \n",
      "\n",
      "There was some conflicting information in my initial search results, with one source mentioning January 2023, but the human expert has confirmed that the correct release date is January 17, 2024. This aligns with the more reliable source I found that specifically noted this was the initial release date of the framework.\n",
      "\n",
      "LangGraph is a framework for orchestrating agentic applications, and since its initial release in January 2024, it has continued to evolve, with a stable 0.1 release in June 2024, followed by the announcement of LangGraph Cloud on June 27, 2024.\n"
     ]
    }
   ],
   "source": [
    "human_command = Command(\n",
    "    resume={\n",
    "        \"name\": \"LangGraph\",\n",
    "        \"birthday\": \"Jan 17, 2024\",\n",
    "    },\n",
    ")\n",
    "\n",
    "events = graph.stream(human_command, config, stream_mode=\"values\")\n",
    "for event in events:\n",
    "    if \"messages\" in event:\n",
    "        event[\"messages\"][-1].pretty_print()"
   ]
  },
  {
   "cell_type": "code",
   "execution_count": 15,
   "metadata": {},
   "outputs": [
    {
     "data": {
      "text/plain": [
       "{'name': 'LangGraph', 'birthday': 'Jan 17, 2024'}"
      ]
     },
     "execution_count": 15,
     "metadata": {},
     "output_type": "execute_result"
    }
   ],
   "source": [
    "snapshot = graph.get_state(config)\n",
    "\n",
    "{k: v for k, v in snapshot.values.items() if k in (\"name\", \"birthday\")}"
   ]
  },
  {
   "cell_type": "markdown",
   "metadata": {},
   "source": [
    "### Actualización manual del estado"
   ]
  },
  {
   "cell_type": "markdown",
   "metadata": {},
   "source": [
    "LangGraph proporciona un alto grado de control sobre el estado de aplicación. Por ejemplo, en cualquier punto (incluso cuando se interrumpe), podemos soreescribir manualmente una key del estado usando `graph.update_state`:"
   ]
  },
  {
   "cell_type": "markdown",
   "metadata": {},
   "source": [
    "Vamos a actualizar el `name` del estado a `LangGraph (library)`."
   ]
  },
  {
   "cell_type": "code",
   "execution_count": 16,
   "metadata": {},
   "outputs": [
    {
     "data": {
      "text/plain": [
       "{'configurable': {'thread_id': '1',\n",
       "  'checkpoint_ns': '',\n",
       "  'checkpoint_id': '1f0067be-cd1d-6fd4-8006-fa5a987d1d2c'}}"
      ]
     },
     "execution_count": 16,
     "metadata": {},
     "output_type": "execute_result"
    }
   ],
   "source": [
    "graph.update_state(config, {\"name\": \"LangGraph (library)\"})"
   ]
  },
  {
   "cell_type": "markdown",
   "metadata": {},
   "source": [
    "Si ahora vemos el estado con `graph.get_state(config)` veremos que el `name` se ha actualizado."
   ]
  },
  {
   "cell_type": "code",
   "execution_count": 17,
   "metadata": {},
   "outputs": [
    {
     "data": {
      "text/plain": [
       "{'name': 'LangGraph (library)', 'birthday': 'Jan 17, 2024'}"
      ]
     },
     "execution_count": 17,
     "metadata": {},
     "output_type": "execute_result"
    }
   ],
   "source": [
    "snapshot = graph.get_state(config)\n",
    "\n",
    "{k: v for k, v in snapshot.values.items() if k in (\"name\", \"birthday\")}"
   ]
  },
  {
   "cell_type": "markdown",
   "metadata": {},
   "source": [
    "Las actualizaciones de estado manuales generarán una traza en `LangSmith`. Se pueden usar para controlar flujos de trabajo de `human in the loop`, como se puede ver en esta [guía](https://langchain-ai.github.io/langgraph/how-tos/human_in_the_loop/edit-graph-state/)."
   ]
  },
  {
   "cell_type": "markdown",
   "metadata": {},
   "source": [
    "## Checkpoints"
   ]
  },
  {
   "cell_type": "markdown",
   "metadata": {},
   "source": [
    "En un flujo de trabajo típico de un chatbot, el usuario interactúa con el chatbot una o más veces para realizar una tarea. En las secciones anteriores, vimos cómo agregar memoria y un `human in the loop` para poder verificar nuestro estado de gráfico y controlar las respuestas futuras."
   ]
  },
  {
   "cell_type": "markdown",
   "metadata": {},
   "source": [
    "Pero, a lo mejor un usuario quiere comenzar desde una respuesta anterior y o quiere `ramificar` para explorar un resultado separado. Esto es útil para aplicaciones de agentes, cuando un flujo falla pueden volver a un checkpoint anterior y probar otra estrategia."
   ]
  },
  {
   "cell_type": "markdown",
   "metadata": {},
   "source": [
    "`LangGraph` da esta posibilidad mediante los `checkpoints`"
   ]
  },
  {
   "cell_type": "markdown",
   "metadata": {},
   "source": [
    "Primero cargamos los valores de las API KEYs"
   ]
  },
  {
   "cell_type": "code",
   "execution_count": 1,
   "metadata": {},
   "outputs": [],
   "source": [
    "import os\n",
    "import dotenv\n",
    "\n",
    "dotenv.load_dotenv()\n",
    "\n",
    "HUGGINGFACE_TOKEN = os.getenv(\"HUGGINGFACE_LANGGRAPH\")\n",
    "TAVILY_API_KEY = os.getenv(\"TAVILY_LANGGRAPH_API_KEY\")"
   ]
  },
  {
   "cell_type": "markdown",
   "metadata": {},
   "source": [
    "Creamos el nuevo estado"
   ]
  },
  {
   "cell_type": "code",
   "execution_count": 2,
   "metadata": {},
   "outputs": [],
   "source": [
    "from typing import Annotated\n",
    "\n",
    "from typing_extensions import TypedDict\n",
    "\n",
    "from langgraph.graph.message import add_messages\n",
    "\n",
    "class State(TypedDict):\n",
    "    messages: Annotated[list, add_messages]"
   ]
  },
  {
   "cell_type": "markdown",
   "metadata": {},
   "source": [
    "Agregar esta información al estado hace que sea fácilmente accesible por otros nodos del grafo (por ejemplo, un nodo downstram que almacena o procesa la información), así como la capa de persistencia del grafo."
   ]
  },
  {
   "cell_type": "markdown",
   "metadata": {},
   "source": [
    "Ahora creamos el grafo"
   ]
  },
  {
   "cell_type": "code",
   "execution_count": 3,
   "metadata": {},
   "outputs": [],
   "source": [
    "from langgraph.graph import StateGraph, START, END\n",
    "\n",
    "graph_builder = StateGraph(State)"
   ]
  },
  {
   "cell_type": "markdown",
   "metadata": {},
   "source": [
    "Definimos la `tool` de búsqueda"
   ]
  },
  {
   "cell_type": "code",
   "execution_count": 4,
   "metadata": {},
   "outputs": [],
   "source": [
    "from langchain_community.utilities.tavily_search import TavilySearchAPIWrapper\n",
    "from langchain_community.tools.tavily_search import TavilySearchResults\n",
    "\n",
    "wrapper = TavilySearchAPIWrapper(tavily_api_key=TAVILY_API_KEY)\n",
    "search_tool = TavilySearchResults(api_wrapper=wrapper, max_results=2)"
   ]
  },
  {
   "cell_type": "markdown",
   "metadata": {},
   "source": [
    "Ahora creamos la tool de asistencia humana. En esta tool rellenaremos las claves de estado dentro de nuestra herramienta `human_assistance`. Esto permite a un ser humano revisar la información antes de que se almacene en el estado. Volveremos a usar `Command`, esta vez para emitir una actualización de estado desde el interior de nuestra herramienta."
   ]
  },
  {
   "cell_type": "markdown",
   "metadata": {},
   "source": [
    "Creamos una lista de `tools`"
   ]
  },
  {
   "cell_type": "code",
   "execution_count": 5,
   "metadata": {},
   "outputs": [],
   "source": [
    "tools = [search_tool]"
   ]
  },
  {
   "cell_type": "markdown",
   "metadata": {},
   "source": [
    "A continuación el `LLM` con las `bind_tools` y lo añadimos al grafo"
   ]
  },
  {
   "cell_type": "code",
   "execution_count": 6,
   "metadata": {},
   "outputs": [
    {
     "data": {
      "text/plain": [
       "<langgraph.graph.state.StateGraph at 0x114d05160>"
      ]
     },
     "execution_count": 6,
     "metadata": {},
     "output_type": "execute_result"
    }
   ],
   "source": [
    "from langchain_huggingface import HuggingFaceEndpoint, ChatHuggingFace\n",
    "from huggingface_hub import login\n",
    "\n",
    "login(token=HUGGINGFACE_TOKEN)\n",
    "os.environ[\"LANGCHAIN_TRACING_V2\"] = \"false\"    # Disable LangSmith tracing\n",
    "\n",
    "# Create the LLM\n",
    "MODEL = \"Qwen/Qwen2.5-72B-Instruct\"\n",
    "model = HuggingFaceEndpoint(\n",
    "    repo_id=MODEL,\n",
    "    task=\"text-generation\",\n",
    "    max_new_tokens=512,\n",
    "    do_sample=False,\n",
    "    repetition_penalty=1.03,\n",
    ")\n",
    "# Create the chat model\n",
    "llm = ChatHuggingFace(llm=model)\n",
    "\n",
    "# Modification: tell the LLM which tools it can call\n",
    "llm_with_tools = llm.bind_tools(tools)\n",
    "\n",
    "# Define the chatbot function\n",
    "def chatbot(state: State):\n",
    "    message = llm_with_tools.invoke(state[\"messages\"])\n",
    "    return {\"messages\": [message]}\n",
    "\n",
    "# Add the chatbot node\n",
    "graph_builder.add_node(\"chatbot\", chatbot)"
   ]
  },
  {
   "cell_type": "markdown",
   "metadata": {},
   "source": [
    "Añadimos la `tool` al grafo"
   ]
  },
  {
   "cell_type": "code",
   "execution_count": 7,
   "metadata": {},
   "outputs": [
    {
     "data": {
      "text/plain": [
       "<langgraph.graph.state.StateGraph at 0x114d05160>"
      ]
     },
     "execution_count": 7,
     "metadata": {},
     "output_type": "execute_result"
    }
   ],
   "source": [
    "from langgraph.prebuilt import ToolNode, tools_condition\n",
    "\n",
    "tool_node = ToolNode(tools=tools)\n",
    "graph_builder.add_node(\"tools\", tool_node)\n",
    "graph_builder.add_conditional_edges(\"chatbot\", tools_condition)\n",
    "graph_builder.add_edge(\"tools\", \"chatbot\")"
   ]
  },
  {
   "cell_type": "markdown",
   "metadata": {},
   "source": [
    "Añadimos el nodo de `START` al grafo"
   ]
  },
  {
   "cell_type": "code",
   "execution_count": 8,
   "metadata": {},
   "outputs": [
    {
     "data": {
      "text/plain": [
       "<langgraph.graph.state.StateGraph at 0x114d05160>"
      ]
     },
     "execution_count": 8,
     "metadata": {},
     "output_type": "execute_result"
    }
   ],
   "source": [
    "graph_builder.add_edge(START, \"chatbot\")"
   ]
  },
  {
   "cell_type": "markdown",
   "metadata": {},
   "source": [
    "Creamos un `checkpointer` [MemorySaver](https://langchain-ai.github.io/langgraph/reference/checkpoints/#langgraph.checkpoint.memory.MemorySaver)."
   ]
  },
  {
   "cell_type": "code",
   "execution_count": 9,
   "metadata": {},
   "outputs": [],
   "source": [
    "from langgraph.checkpoint.memory import MemorySaver\n",
    "\n",
    "memory = MemorySaver()"
   ]
  },
  {
   "cell_type": "markdown",
   "metadata": {},
   "source": [
    "Compilamos el grafo con el `checkpointer`"
   ]
  },
  {
   "cell_type": "code",
   "execution_count": 10,
   "metadata": {},
   "outputs": [],
   "source": [
    "graph = graph_builder.compile(checkpointer=memory)"
   ]
  },
  {
   "cell_type": "markdown",
   "metadata": {},
   "source": [
    "Lo representamos gráficamente"
   ]
  },
  {
   "cell_type": "code",
   "execution_count": 11,
   "metadata": {},
   "outputs": [
    {
     "data": {
      "image/png": "[encoded data removed]",
      "text/plain": [
       "<IPython.core.display.Image object>"
      ]
     },
     "metadata": {},
     "output_type": "display_data"
    }
   ],
   "source": [
    "from IPython.display import Image, display\n",
    "\n",
    "try:\n",
    "    display(Image(graph.get_graph().draw_mermaid_png()))\n",
    "except Exception as e:\n",
    "    print(f\"Error al visualizar el grafo: {e}\")"
   ]
  },
  {
   "cell_type": "markdown",
   "metadata": {},
   "source": [
    "Hagamos que nuestro gráfico dé un par de pasos. Cada paso será guardado en el historial del estado."
   ]
  },
  {
   "cell_type": "markdown",
   "metadata": {},
   "source": [
    "Hacemos la primera llamada al modelo"
   ]
  },
  {
   "cell_type": "code",
   "execution_count": 12,
   "metadata": {},
   "outputs": [
    {
     "name": "stdout",
     "output_type": "stream",
     "text": [
      "================================\u001b[1m Human Message \u001b[0m=================================\n",
      "\n",
      "I'm learning LangGraph. Could you do some research on it for me?\n",
      "==================================\u001b[1m Ai Message \u001b[0m==================================\n",
      "Tool Calls:\n",
      "  tavily_search_results_json (0)\n",
      " Call ID: 0\n",
      "  Args:\n",
      "    query: LangGraph\n",
      "=================================\u001b[1m Tool Message \u001b[0m=================================\n",
      "Name: tavily_search_results_json\n",
      "\n",
      "[{\"title\": \"LangGraph Quickstart - GitHub Pages\", \"url\": \"https://langchain-ai.github.io/langgraph/tutorials/introduction/\", \"content\": \"[](https://langchain-ai.github.io/langgraph/tutorials/introduction/#__codelineno-9-1)Assistant: LangGraph is a library designed to help build stateful multi-agent applications using language models. It provides tools for creating workflows and state machines to coordinate multiple AI agents or language model interactions. LangGraph is built on top of LangChain, leveraging its components while adding graph-based coordination capabilities. It's particularly useful for developing more complex, [...] [](https://langchain-ai.github.io/langgraph/tutorials/introduction/#__codelineno-21-6)   LangGraph is a library designed for building stateful, multi-actor applications with Large Language Models (LLMs). It's particularly useful for creating agent and multi-agent workflows.\\n[](https://langchain-ai.github.io/langgraph/tutorials/introduction/#__codelineno-21-7)\\n[](https://langchain-ai.github.io/langgraph/tutorials/introduction/#__codelineno-21-8)2. Developer: [...] [](https://langchain-ai.github.io/langgraph/tutorials/introduction/#__codelineno-48-19)LangGraph is likely a framework or library designed specifically for creating AI agents with advanced capabilities. Here are a few points to consider based on this recommendation:\\n[](https://langchain-ai.github.io/langgraph/tutorials/introduction/#__codelineno-48-20)\", \"score\": 0.9032571072124412}, {\"title\": \"langchain-ai/langgraph: Build resilient language agents as graphs.\", \"url\": \"https://github.com/langchain-ai/langgraph\", \"content\": \"Note\\nLooking for the JS version? See the JS repo and the JS docs.\\nLangGraph — used by Replit, Uber, LinkedIn, GitLab and more — is a low-level orchestration framework for building controllable agents. While langchain provides integrations and composable components to streamline LLM application development, the LangGraph library enables agent orchestration — offering customizable architectures, long-term memory, and human-in-the-loop to reliably handle complex tasks.\\nshell [...] LangGraph is built for developers who want to build powerful, adaptable AI agents. Developers choose LangGraph for: [...] While LangGraph is our open-source agent orchestration framework, enterprises that need scalable agent deployment can benefit from LangGraph Platform.\\nLangGraph Platform can help engineering teams:\", \"score\": 0.8625389469131455}]\n",
      "==================================\u001b[1m Ai Message \u001b[0m==================================\n",
      "\n",
      "LangGraph is a library built on top of LangChain, designed to facilitate the creation of stateful, multi-agent applications using large language models (LLMs). It offers tools for crafting workflows and state machines to coordinate interactions among multiple AI agents or language models. Key features include customizable architectures, support for long-term memory, and the ability to incorporate human-in-the-loop for managing complex tasks. This makes it particularly useful for developers looking to build powerful and adaptable AI agents. For more detailed information and tutorials, you can visit the official [LangGraph Quickstart guide](https://langchain-ai.github.io/langgraph/tutorials/introduction/) or the [LangGraph GitHub repository](https://github.com/langchain-ai/langgraph).\n"
     ]
    }
   ],
   "source": [
    "config = {\"configurable\": {\"thread_id\": \"1\"}}\n",
    "events = graph.stream(\n",
    "    {\n",
    "        \"messages\": [\n",
    "            {\n",
    "                \"role\": \"user\",\n",
    "                \"content\": (\n",
    "                    \"I'm learning LangGraph. \"\n",
    "                    \"Could you do some research on it for me?\"\n",
    "                ),\n",
    "            },\n",
    "        ],\n",
    "    },\n",
    "    config,\n",
    "    stream_mode=\"values\",\n",
    ")\n",
    "for event in events:\n",
    "    if \"messages\" in event:\n",
    "        event[\"messages\"][-1].pretty_print()"
   ]
  },
  {
   "cell_type": "markdown",
   "metadata": {},
   "source": [
    "Y ahora la segunda llamada"
   ]
  },
  {
   "cell_type": "code",
   "execution_count": 13,
   "metadata": {},
   "outputs": [
    {
     "name": "stdout",
     "output_type": "stream",
     "text": [
      "================================\u001b[1m Human Message \u001b[0m=================================\n",
      "\n",
      "Ya that's helpful. Maybe I'll build an autonomous agent with it!\n",
      "==================================\u001b[1m Ai Message \u001b[0m==================================\n",
      "\n",
      "That sounds like an exciting project! Building an autonomous agent with LangGraph can be a rewarding experience. If you have any specific questions or need guidance along the way, feel free to ask. Good luck with your development!\n"
     ]
    }
   ],
   "source": [
    "events = graph.stream(\n",
    "    {\n",
    "        \"messages\": [\n",
    "            {\n",
    "                \"role\": \"user\",\n",
    "                \"content\": (\n",
    "                    \"Ya that's helpful. Maybe I'll \"\n",
    "                    \"build an autonomous agent with it!\"\n",
    "                ),\n",
    "            },\n",
    "        ],\n",
    "    },\n",
    "    config,\n",
    "    stream_mode=\"values\",\n",
    ")\n",
    "for event in events:\n",
    "    if \"messages\" in event:\n",
    "        event[\"messages\"][-1].pretty_print()"
   ]
  },
  {
   "cell_type": "markdown",
   "metadata": {},
   "source": [
    "Ahora que hemos hecho dos llamadas al modelo, vamos a ver el historial del estado."
   ]
  },
  {
   "cell_type": "code",
   "execution_count": 15,
   "metadata": {},
   "outputs": [
    {
     "name": "stdout",
     "output_type": "stream",
     "text": [
      "Num Messages:  6 Next:  ()\n",
      "--------------------------------------------------------------------------------\n",
      "Num Messages:  5 Next:  ('chatbot',)\n",
      "--------------------------------------------------------------------------------\n",
      "Num Messages:  4 Next:  ('__start__',)\n",
      "--------------------------------------------------------------------------------\n",
      "Num Messages:  4 Next:  ()\n",
      "--------------------------------------------------------------------------------\n",
      "Num Messages:  3 Next:  ('chatbot',)\n",
      "--------------------------------------------------------------------------------\n",
      "Num Messages:  2 Next:  ('tools',)\n",
      "--------------------------------------------------------------------------------\n",
      "Num Messages:  1 Next:  ('chatbot',)\n",
      "--------------------------------------------------------------------------------\n",
      "Num Messages:  0 Next:  ('__start__',)\n",
      "--------------------------------------------------------------------------------\n"
     ]
    }
   ],
   "source": [
    "to_replay = None\n",
    "for state in graph.get_state_history(config):\n",
    "    print(\"Num Messages: \", len(state.values[\"messages\"]), \"Next: \", state.next)\n",
    "    print(\"-\" * 80)\n",
    "    if len(state.values[\"messages\"]) == 2:\n",
    "        # We are somewhat arbitrarily selecting a specific state based on the number of chat messages in the state.\n",
    "        to_replay = state"
   ]
  },
  {
   "cell_type": "markdown",
   "metadata": {},
   "source": [
    "Hemos guardado en `to_replay` el estado después del nodo del chatbot. Podemos volver a ese estado y continuar el flujo desde allí."
   ]
  },
  {
   "cell_type": "markdown",
   "metadata": {},
   "source": [
    "Para reanudar el flujo en ese estado hay que usar el método `next`"
   ]
  },
  {
   "cell_type": "code",
   "execution_count": 16,
   "metadata": {},
   "outputs": [
    {
     "name": "stdout",
     "output_type": "stream",
     "text": [
      "('tools',)\n"
     ]
    }
   ],
   "source": [
    "print(to_replay.next)"
   ]
  },
  {
   "cell_type": "markdown",
   "metadata": {},
   "source": [
    "La configuración del checkpoint contiene el `checkpoint_id`, que es un timestamp del flujo"
   ]
  },
  {
   "cell_type": "code",
   "execution_count": 17,
   "metadata": {},
   "outputs": [
    {
     "name": "stdout",
     "output_type": "stream",
     "text": [
      "{'configurable': {'thread_id': '1', 'checkpoint_ns': '', 'checkpoint_id': '1f00684f-a9cd-6570-8001-e85959dd7e1b'}}\n"
     ]
    }
   ],
   "source": [
    "print(to_replay.config)"
   ]
  },
  {
   "cell_type": "markdown",
   "metadata": {},
   "source": [
    "Dando este `checkpoint_id` a `LangGrah` carga el estado en ese momento del flujo"
   ]
  },
  {
   "cell_type": "code",
   "execution_count": 18,
   "metadata": {},
   "outputs": [
    {
     "name": "stdout",
     "output_type": "stream",
     "text": [
      "==================================\u001b[1m Ai Message \u001b[0m==================================\n",
      "Tool Calls:\n",
      "  tavily_search_results_json (0)\n",
      " Call ID: 0\n",
      "  Args:\n",
      "    query: LangGraph\n",
      "=================================\u001b[1m Tool Message \u001b[0m=================================\n",
      "Name: tavily_search_results_json\n",
      "\n",
      "[{\"title\": \"LangGraph Quickstart - GitHub Pages\", \"url\": \"https://langchain-ai.github.io/langgraph/tutorials/introduction/\", \"content\": \"[](https://langchain-ai.github.io/langgraph/tutorials/introduction/#__codelineno-9-1)Assistant: LangGraph is a library designed to help build stateful multi-agent applications using language models. It provides tools for creating workflows and state machines to coordinate multiple AI agents or language model interactions. LangGraph is built on top of LangChain, leveraging its components while adding graph-based coordination capabilities. It's particularly useful for developing more complex, [...] [](https://langchain-ai.github.io/langgraph/tutorials/introduction/#__codelineno-21-6)   LangGraph is a library designed for building stateful, multi-actor applications with Large Language Models (LLMs). It's particularly useful for creating agent and multi-agent workflows.\\n[](https://langchain-ai.github.io/langgraph/tutorials/introduction/#__codelineno-21-7)\\n[](https://langchain-ai.github.io/langgraph/tutorials/introduction/#__codelineno-21-8)2. Developer: [...] [](https://langchain-ai.github.io/langgraph/tutorials/introduction/#__codelineno-48-19)LangGraph is likely a framework or library designed specifically for creating AI agents with advanced capabilities. Here are a few points to consider based on this recommendation:\\n[](https://langchain-ai.github.io/langgraph/tutorials/introduction/#__codelineno-48-20)\", \"score\": 0.9032571072124412}, {\"title\": \"langchain-ai/langgraph: Build resilient language agents as graphs.\", \"url\": \"https://github.com/langchain-ai/langgraph\", \"content\": \"Note\\nLooking for the JS version? See the JS repo and the JS docs.\\nLangGraph — used by Replit, Uber, LinkedIn, GitLab and more — is a low-level orchestration framework for building controllable agents. While langchain provides integrations and composable components to streamline LLM application development, the LangGraph library enables agent orchestration — offering customizable architectures, long-term memory, and human-in-the-loop to reliably handle complex tasks.\\nshell [...] LangGraph is built for developers who want to build powerful, adaptable AI agents. Developers choose LangGraph for: [...] While LangGraph is our open-source agent orchestration framework, enterprises that need scalable agent deployment can benefit from LangGraph Platform.\\nLangGraph Platform can help engineering teams:\", \"score\": 0.8625389469131455}]\n",
      "==================================\u001b[1m Ai Message \u001b[0m==================================\n",
      "Tool Calls:\n",
      "  tavily_search_results_json (0)\n",
      " Call ID: 0\n",
      "  Args:\n",
      "    query: LangGraph library for building multi-agent applications with language models\n",
      "=================================\u001b[1m Tool Message \u001b[0m=================================\n",
      "Name: tavily_search_results_json\n",
      "\n",
      "[{\"title\": \"LangGraph Uncovered: Building Stateful Multi-Agent Applications ...\", \"url\": \"https://dev.to/sreeni5018/langgraph-uncovered-building-stateful-multi-agent-applications-with-llms-part-i-p86\", \"content\": \"Seenivasa RamaduraiPosted on Feb 10\\n       \\nLangGraph Uncovered: Building Stateful Multi-Agent Applications with LLMs-Part I\\n#langgraph #multiagent\\nIntroduction\\nThe field of AI-driven applications is advancing rapidly, with LangGraph emerging as a cutting-edge framework for developing intelligent multi-agent systems. Created by the team behind LangChain, LangGraph is an open-source library designed to enable developers to build stateful, structured workflows for Large Language Models (LLMs). [...] LangGraph distinguishes itself from traditional actor-based models by introducing a shared state mechanism. This approach enhances collaboration and control over agent interactions, moving beyond isolated message queues.\\nThis blog will delve into LangGraph's core features, its differences from traditional actor models, and practical applications. By the end, you will understand how to leverage LangGraph to build robust AI-powered applications.\", \"score\": 0.8229665345454544}, {\"title\": \"langchain-ai/langgraph: Build resilient language agents as graphs.\", \"url\": \"https://github.com/langchain-ai/langgraph\", \"content\": \"Note\\nLooking for the JS version? See the JS repo and the JS docs.\\nLangGraph — used by Replit, Uber, LinkedIn, GitLab and more — is a low-level orchestration framework for building controllable agents. While langchain provides integrations and composable components to streamline LLM application development, the LangGraph library enables agent orchestration — offering customizable architectures, long-term memory, and human-in-the-loop to reliably handle complex tasks.\\nshell [...] While LangGraph can be used standalone, it also integrates seamlessly with any LangChain product, giving developers a full suite of tools for building agents. To improve your LLM application development, pair LangGraph with:\", \"score\": 0.7898933337727273}]\n",
      "==================================\u001b[1m Ai Message \u001b[0m==================================\n",
      "Tool Calls:\n",
      "  tavily_search_results_json (0)\n",
      " Call ID: 0\n",
      "  Args:\n",
      "    query: LangGraph\n",
      "=================================\u001b[1m Tool Message \u001b[0m=================================\n",
      "Name: tavily_search_results_json\n",
      "\n",
      "[{\"title\": \"LangGraph Quickstart - GitHub Pages\", \"url\": \"https://langchain-ai.github.io/langgraph/tutorials/introduction/\", \"content\": \"[](https://langchain-ai.github.io/langgraph/tutorials/introduction/#__codelineno-9-1)Assistant: LangGraph is a library designed to help build stateful multi-agent applications using language models. It provides tools for creating workflows and state machines to coordinate multiple AI agents or language model interactions. LangGraph is built on top of LangChain, leveraging its components while adding graph-based coordination capabilities. It's particularly useful for developing more complex, [...] [](https://langchain-ai.github.io/langgraph/tutorials/introduction/#__codelineno-21-6)   LangGraph is a library designed for building stateful, multi-actor applications with Large Language Models (LLMs). It's particularly useful for creating agent and multi-agent workflows.\\n[](https://langchain-ai.github.io/langgraph/tutorials/introduction/#__codelineno-21-7)\\n[](https://langchain-ai.github.io/langgraph/tutorials/introduction/#__codelineno-21-8)2. Developer: [...] [](https://langchain-ai.github.io/langgraph/tutorials/introduction/#__codelineno-48-19)LangGraph is likely a framework or library designed specifically for creating AI agents with advanced capabilities. Here are a few points to consider based on this recommendation:\\n[](https://langchain-ai.github.io/langgraph/tutorials/introduction/#__codelineno-48-20)\", \"score\": 0.9032571072124412}, {\"title\": \"langchain-ai/langgraph: Build resilient language agents as graphs.\", \"url\": \"https://github.com/langchain-ai/langgraph\", \"content\": \"Note\\nLooking for the JS version? See the JS repo and the JS docs.\\nLangGraph — used by Replit, Uber, LinkedIn, GitLab and more — is a low-level orchestration framework for building controllable agents. While langchain provides integrations and composable components to streamline LLM application development, the LangGraph library enables agent orchestration — offering customizable architectures, long-term memory, and human-in-the-loop to reliably handle complex tasks.\\nshell [...] LangGraph is built for developers who want to build powerful, adaptable AI agents. Developers choose LangGraph for: [...] While LangGraph is our open-source agent orchestration framework, enterprises that need scalable agent deployment can benefit from LangGraph Platform.\\nLangGraph Platform can help engineering teams:\", \"score\": 0.8625389469131455}]\n",
      "==================================\u001b[1m Ai Message \u001b[0m==================================\n",
      "Tool Calls:\n",
      "  tavily_search_results_json (0)\n",
      " Call ID: 0\n",
      "  Args:\n",
      "    query: LangGraph library for building stateful multi-agent applications using language models\n",
      "=================================\u001b[1m Tool Message \u001b[0m=================================\n",
      "Name: tavily_search_results_json\n",
      "\n",
      "[{\"title\": \"LangGraph - CopilotKit\", \"url\": \"https://docs.copilotkit.ai/coagents/concepts/langgraph\", \"content\": \"LangGraph is an agentic framework for building LLM applications that can be used with Copilotkit. It is built on top of LangChain's LangGraph library and extends it with additional functionality for building agentic applications.\\nCoAgents and LangGraph\\nHow do CoAgents extend LangGraph? Let's read the first sentence of their project page to understand.\\n\\nLangGraph is a library for building stateful, multi-actor applications with LLMs, used to create agent and multi-agent workflows.\", \"score\": 0.8715619834710744}, {\"title\": \"Introduction to LangGraph: A Beginner's Guide - Medium\", \"url\": \"https://medium.com/@cplog/introduction-to-langgraph-a-beginners-guide-14f9be027141\", \"content\": \"LangGraph is a powerful tool for building stateful, multi-actor applications with Large Language Models (LLMs). It extends the LangChain library, allowing you to coordinate multiple chains (or actors) across multiple steps of computation in a cyclic manner. In this article, we’ll introduce LangGraph, walk you through its basic concepts, and share some insights and common points of confusion for beginners.\\nWhat is LangGraph?\", \"score\": 0.8630661859504132}]\n",
      "==================================\u001b[1m Ai Message \u001b[0m==================================\n",
      "\n",
      "LangGraph is an advanced library and framework designed for building stateful, multi-agent applications using Large Language Models (LLMs). It is built on top of LangChain and is used to create complex workflows and state machines to coordinate multiple AI agents or language model interactions. LangGraph introduces a shared state mechanism, distinguishing itself from traditional actor-based models by enhancing collaboration and control over agent interactions. It is particularly useful for developers who are looking to build powerful, adaptable AI agents, and it supports long-term memory and human-in-the-loop interactions. For more detailed information and to get started, you can visit the official LangGraph Quickstart guide at [LangGraph Quickstart - GitHub Pages](https://langchain-ai.github.io/langgraph/tutorials/introduction/) or explore the [LangGraph GitHub repository](https://github.com/langchain-ai/langgraph).\n"
     ]
    }
   ],
   "source": [
    "# The `checkpoint_id` in the `to_replay.config` corresponds to a state we've persisted to our checkpointer.\n",
    "for event in graph.stream(None, to_replay.config, stream_mode=\"values\"):\n",
    "    if \"messages\" in event:\n",
    "        event[\"messages\"][-1].pretty_print()"
   ]
  },
  {
   "cell_type": "markdown",
   "metadata": {},
   "source": [
    "El grafo reanudó la ejecución desde el nodo `action`."
   ]
  }
 ],
 "metadata": {
  "kernelspec": {
   "display_name": "langgraph",
   "language": "python",
   "name": "python3"
  },
  "language_info": {
   "codemirror_mode": {
    "name": "ipython",
    "version": 3
   },
   "file_extension": ".py",
   "mimetype": "text/x-python",
   "name": "python",
   "nbconvert_exporter": "python",
   "pygments_lexer": "ipython3",
   "version": "3.13.2"
  }
 },
 "nbformat": 4,
 "nbformat_minor": 2
}
