{
 "cells": [
  {
   "cell_type": "markdown",
   "metadata": {},
   "source": [
    "# LangGraph"
   ]
  },
  {
   "cell_type": "markdown",
   "metadata": {},
   "source": [
    "`LangGraph` es un marco de orquestación de bajo nivel para construir agentes controlables"
   ]
  },
  {
   "cell_type": "markdown",
   "metadata": {},
   "source": [
    "Mientras que `LangChain` proporciona integraciones y componentes para agilizar el desarrollo de aplicaciones LLM, la biblioteca `LangGraph` permite la orquestación de agentes, ofreciendo arquitecturas personalizables, memoria a largo plazo y `human in the loop` para manejar de manera confiable tareas complejas."
   ]
  },
  {
   "cell_type": "markdown",
   "metadata": {},
   "source": [
    "## ¿Cómo funciona `LangGraph`?"
   ]
  },
  {
   "cell_type": "markdown",
   "metadata": {},
   "source": [
    "`LangGraph` se basa en tres componentes:\n",
    "\n",
    " * **Nodos**: Representan las unidades de procesamiento de la aplicación, como llamar a un LLM, o a una herramienta. Son funciones de Python que se ejecutan cuando se llama al nodo.\n",
    "   * Toman el estado como entrada\n",
    "   * Realizan alguna operación\n",
    "   * Devuelven el estado actualizado\n",
    " * **Edges**: Representan las transiciones entre los nodos. Definen la lógica de cómo se va a ejecutar el grafo, es decir, qué nodo se va a ejecutar después de otro. Pueden ser:\n",
    "   * Directos: Van de un nodo a otro\n",
    "   * Condicionales: Dependen de una condición\n",
    " * **State**: Representa el estado de la aplicación, es decir, que contiene toda la información necesaria para la aplicación. Se mantiene durante la ejecución de la aplicación. Es definido por el usuario, así que hay que pensar muy bien qué se va a guardar en él."
   ]
  },
  {
   "cell_type": "markdown",
   "metadata": {},
   "source": [
    "![LangGraph concept](https://pub-fb664c455eca46a2ba762a065ac900f7.r2.dev/LangGraph_concept.webp)"
   ]
  },
  {
   "cell_type": "markdown",
   "metadata": {},
   "source": [
    "Todos los grafos de `LangGraph` comienzan desde un nodo `START` y terminan en un nodo `END`."
   ]
  },
  {
   "cell_type": "markdown",
   "metadata": {},
   "source": [
    "## Instalación de LangGraph"
   ]
  },
  {
   "cell_type": "markdown",
   "metadata": {},
   "source": [
    "Para instalar `LangGraph` se puede usar pip:\n",
    "\n",
    "```bash\n",
    "pip install -U langgraph\n",
    "```\n",
    "\n",
    "o instalar desde conda:\n",
    "\n",
    "```bash\n",
    "conda install langgraph\n",
    "```"
   ]
  },
  {
   "cell_type": "markdown",
   "metadata": {},
   "source": [
    "## Instalación de módulo de Hugging Face y Anthropic"
   ]
  },
  {
   "cell_type": "markdown",
   "metadata": {},
   "source": [
    "Vamos a usar un modelo de lenguaje de `Hugging Face`, por lo que necesitamos instalar su paquete de langgraph.\n",
    "\n",
    "```bash\n",
    "pip install langchain-huggingface\n",
    "```"
   ]
  },
  {
   "cell_type": "markdown",
   "metadata": {},
   "source": [
    "Para una parte vamos a usar `Sonnet 3.7`, luego explicaremos por qué. Así que tambien instalamos el paquere de `Anthropic`.\n",
    "\n",
    "```bash\n",
    "pip install langchain_anthropic\n",
    "```"
   ]
  },
  {
   "cell_type": "markdown",
   "metadata": {},
   "source": [
    "## API KEY de Hugging Face"
   ]
  },
  {
   "cell_type": "markdown",
   "metadata": {},
   "source": [
    "Vamos a usar `Qwen/Qwen2.5-72B-Instruct` a través de `Hugging Face Inference Endpoints`, por lo que necesitamos una API KEY."
   ]
  },
  {
   "cell_type": "markdown",
   "metadata": {},
   "source": [
    "Para poder usar el `Inference Endpoints` de HuggingFace, lo primero que necesitas es tener una cuenta en HuggingFace. Una vez la tengas, hay que ir a [Access tokens](https://huggingface.co/settings/keys) en la configuración de tu perfil y generar un nuevo token.\n",
    "\n",
    "Hay que ponerle un nombre. En mi caso, le voy a poner `langgraph` y habilitar el permiso `Make calls to inference providers`. Nos creará un token que tendremos que copiar"
   ]
  },
  {
   "cell_type": "markdown",
   "metadata": {},
   "source": [
    "Para gestionar el token, vamos a crear un archivo en la misma ruta en la que estemos trabajando llamado`.env` y vamos a poner el token que hemos copiado en el archivo de la siguiente manera:\n",
    "\n",
    "``` bash\n",
    "HUGGINGFACE_LANGGRAPH=\"hf_....\"\n",
    "```"
   ]
  },
  {
   "cell_type": "markdown",
   "metadata": {},
   "source": [
    "Ahora, para poder obtener el token, necesitamos tener instalado `dotenv`, que lo instalamos mediante\n",
    "\n",
    "```bash\n",
    "pip install python-dotenv\n",
    "```\n",
    "\n",
    "Y ejecutamos lo siguiente"
   ]
  },
  {
   "cell_type": "code",
   "execution_count": 1,
   "metadata": {},
   "outputs": [],
   "source": [
    "import os\n",
    "import dotenv\n",
    "\n",
    "dotenv.load_dotenv()\n",
    "\n",
    "HUGGINGFACE_TOKEN = os.getenv(\"HUGGINGFACE_LANGGRAPH\")"
   ]
  },
  {
   "cell_type": "markdown",
   "metadata": {},
   "source": [
    "Ahora que tenemos un token, creamos un cliente. Para ello, necesitamos tener instalada la librería `huggingface_hub`. La instalamos mediante conda o pip.\n",
    "\n",
    "``` bash\n",
    "pip install --upgrade huggingface_hub\n",
    "```\n",
    "\n",
    "o\n",
    "\n",
    "``` bash\n",
    "conda install -c conda-forge huggingface_hub\n",
    "```"
   ]
  },
  {
   "cell_type": "markdown",
   "metadata": {},
   "source": [
    "Ahora tenemos que elegir qué modelo vamos a usar. Puedes ver los modelos disponibles en la página de [Supported models](https://huggingface.co/docs/api-inference/supported-models) de la documentación de `Inference Endpoints` de Hugging Face.\n",
    "\n",
    "Vamos a usar `Qwen2.5-72B-Instruct` que es un modelo muy bueno."
   ]
  },
  {
   "cell_type": "code",
   "execution_count": 2,
   "metadata": {},
   "outputs": [],
   "source": [
    "MODEL = \"Qwen/Qwen2.5-72B-Instruct\""
   ]
  },
  {
   "cell_type": "markdown",
   "metadata": {},
   "source": [
    "Ahora podemos crear el cliente"
   ]
  },
  {
   "cell_type": "code",
   "execution_count": 3,
   "metadata": {},
   "outputs": [
    {
     "data": {
      "text/plain": [
       "<InferenceClient(model='Qwen/Qwen2.5-72B-Instruct', timeout=None)>"
      ]
     },
     "execution_count": 3,
     "metadata": {},
     "output_type": "execute_result"
    }
   ],
   "source": [
    "from huggingface_hub import InferenceClient\n",
    "\n",
    "client = InferenceClient(api_key=HUGGINGFACE_TOKEN, model=MODEL)\n",
    "client"
   ]
  },
  {
   "cell_type": "markdown",
   "metadata": {},
   "source": [
    "Hacemos una prueba a ver si funciona"
   ]
  },
  {
   "cell_type": "code",
   "execution_count": 4,
   "metadata": {},
   "outputs": [
    {
     "name": "stdout",
     "output_type": "stream",
     "text": [
      "¡Hola! Estoy bien, gracias por preguntar. ¿Cómo estás tú? ¿En qué puedo ayudarte hoy?\n"
     ]
    }
   ],
   "source": [
    "message = [\n",
    "\t{ \"role\": \"user\", \"content\": \"Hola, qué tal?\" }\n",
    "]\n",
    "\n",
    "stream = client.chat.completions.create(\n",
    "\tmessages=message, \n",
    "\ttemperature=0.5,\n",
    "\tmax_tokens=1024,\n",
    "\ttop_p=0.7,\n",
    "\tstream=False\n",
    ")\n",
    "\n",
    "response = stream.choices[0].message.content\n",
    "print(response)"
   ]
  },
  {
   "cell_type": "markdown",
   "metadata": {},
   "source": [
    "## API KEY de Anthropic"
   ]
  },
  {
   "cell_type": "markdown",
   "metadata": {},
   "source": [
    "## Crear un chatbot básico"
   ]
  },
  {
   "cell_type": "markdown",
   "metadata": {},
   "source": [
    "Vamos a crear un chatbot simple usando `LangGraph`. Este chatbot responderá directamente a los mensajes del usuario. Aunque es simple, nos servirá para ver los conceptos básicos de la construcción de grafos con `LangGraph`."
   ]
  },
  {
   "cell_type": "markdown",
   "metadata": {},
   "source": [
    "Como su nomre indica, `LangGraph` es una biblioteca para manejar grafos. así que comenzamos creando un grafo [StateGraph](https://langchain-ai.github.io/langgraph/reference/graphs/#langgraph.graph.state.StateGraph).\n",
    "\n",
    "Un `StateGraph` define la estructura de nuestro chatbot como una `máquina de estados`. Agregaremos `nodos` para representar el `llm` y `funciones` a nuestro chatbot que podrá llamar y `edges` para especificar cómo el bot debe hacer la transición entre estas funciones o `nodos`."
   ]
  },
  {
   "cell_type": "markdown",
   "metadata": {},
   "source": [
    "Así que comenzamos creando un `StateGraph` que necesita una clase `State` para manejar el estado del grafo. Como ahora vamos a crear una chatbot sencillo, solo necesitamos manejar una lista de mensajes en el estado."
   ]
  },
  {
   "cell_type": "code",
   "execution_count": 3,
   "metadata": {},
   "outputs": [],
   "source": [
    "from typing import Annotated\n",
    "\n",
    "from typing_extensions import TypedDict\n",
    "\n",
    "from langgraph.graph import StateGraph, START, END\n",
    "from langgraph.graph.message import add_messages\n",
    "\n",
    "\n",
    "class State(TypedDict):\n",
    "    # Messages have the type \"list\". The `add_messages` function\n",
    "    # in the annotation defines how this state key should be updated\n",
    "    # (in this case, it appends messages to the list, rather than overwriting them)\n",
    "    messages: Annotated[list, add_messages]\n",
    "\n",
    "\n",
    "graph_builder = StateGraph(State)"
   ]
  },
  {
   "cell_type": "markdown",
   "metadata": {},
   "source": [
    "La función [add_messages](https://langchain-ai.github.io/langgraph/reference/graphs/#langgraph.graph.message.add_messages) une dos listas de mensajes.\n",
    "\n",
    "Llegarán nuevas listas de mensajes, por lo que se unirán a la lista de mensajes ya existente. Cada lista de mensajes contiene un `ID`, por lo que se agregan con este `ID`. Esto asegura que los mensajes solo se añaden, no se reemplazan, a no ser que un nuevo mensaje tenga el mismo `ID` que uno ya existente.\n",
    "\n",
    "`add_messages` es una [reducer function](https://langchain-ai.github.io/langgraph/concepts/low_level/#reducers), es una función que se encarga de actualizar el estado."
   ]
  },
  {
   "cell_type": "markdown",
   "metadata": {},
   "source": [
    "El grafo `graph_builder` que hemos creado, recibe un estado `State` y devuelve un nuevo estado `State`. Además, actualiza la lista de mensajes."
   ]
  },
  {
   "cell_type": "markdown",
   "metadata": {},
   "source": [
    " > **Concepto**\n",
    " >\n",
    " > Al definir un grafo, el primer paso es definir su `State`. El `State` incluye el esquema del grafo y las `reducer functions` que manejan actualizaciones del estado. \n",
    " > \n",
    " > En nuestro ejemplo, `State` es de tipo `TypedDict` (diccionario tipado) con una llave: `messages`.\n",
    " > \n",
    " > `add_messages` es una `reducer function` que se utiliza para agregar nuevos mensajes a la lista en lugar de sobrescribirlos en la lista. Si una llave de un estado no tiene una `reducer function`, cada valor que llegue de esa clave sobrescribirán los valores anteriores."
   ]
  },
  {
   "cell_type": "markdown",
   "metadata": {},
   "source": [
    "Ahora vamos a agregar al grafo el nodo `chatbot`. Los nodos representan unidades de trabajo. Por lo general, son funciones regulares de `Python`."
   ]
  },
  {
   "cell_type": "markdown",
   "metadata": {},
   "source": [
    "Añadimos un nodo con el método `add_node` que recibe el nombre del nodo y la función que se ejecutará."
   ]
  },
  {
   "cell_type": "markdown",
   "metadata": {},
   "source": [
    "De modo que vamos a crear un LLM con HuggingFace, después crearemos un chat model con `LangChain` que hará referencia al LLM creado. Una vez tenemos definido un chat model, definimos la función que se ejecutará en el nodo de nuestro grafo. Esa función hará una llamada al chat model creado y devolverá el resultado."
   ]
  },
  {
   "cell_type": "code",
   "execution_count": 4,
   "metadata": {},
   "outputs": [
    {
     "data": {
      "text/plain": [
       "<langgraph.graph.state.StateGraph at 0x130548440>"
      ]
     },
     "execution_count": 4,
     "metadata": {},
     "output_type": "execute_result"
    }
   ],
   "source": [
    "from langchain_huggingface import HuggingFaceEndpoint, ChatHuggingFace\n",
    "from huggingface_hub import login\n",
    "os.environ[\"LANGCHAIN_TRACING_V2\"] = \"false\"    # Disable LangSmith tracing\n",
    "\n",
    "# Create the LLM model\n",
    "login(token=HUGGINGFACE_TOKEN)  # Login to HuggingFace to use the model\n",
    "MODEL = \"Qwen/Qwen2.5-72B-Instruct\"\n",
    "model = HuggingFaceEndpoint(\n",
    "    repo_id=MODEL,\n",
    "    task=\"text-generation\",\n",
    "    max_new_tokens=512,\n",
    "    do_sample=False,\n",
    "    repetition_penalty=1.03,\n",
    ")\n",
    "# Create the chat model\n",
    "llm = ChatHuggingFace(llm=model)\n",
    "\n",
    "# Define the chatbot function\n",
    "def chatbot_function(state: State):\n",
    "    return {\"messages\": [llm.invoke(state[\"messages\"])]}\n",
    "\n",
    "\n",
    "# The first argument is the unique node name\n",
    "# The second argument is the function or object that will be called whenever\n",
    "# the node is used.\n",
    "graph_builder.add_node(\"chatbot_node\", chatbot_function)"
   ]
  },
  {
   "cell_type": "markdown",
   "metadata": {},
   "source": [
    "Hemos usado [ChatHuggingFace](https://python.langchain.com/api_reference/huggingface/chat_models/langchain_huggingface.chat_models.huggingface.ChatHuggingFace.html#langchain_huggingface.chat_models.huggingface.ChatHuggingFace) que es un chat del tipo [BaseChatModel](https://python.langchain.com/api_reference/core/language_models/langchain_core.language_models.chat_models.BaseChatModel.html#langchain_core.language_models.chat_models.BaseChatModel) que es un tipo de chat base de `LangChain`. Una vez hemos creado el `BaseChatModel`, hemos creado la función `chatbot_function` que se ejecutará cuando se ejecute el nodo. Y por último, hemos creado el nodo `chatbot_node` y le hemos indicado que tiene que ejecutar la función `chatbot_function`."
   ]
  },
  {
   "cell_type": "markdown",
   "metadata": {},
   "source": [
    " > **Aviso** \n",
    " >\n",
    " > La función de nodo `chatbot_function` toma el estado `State` como entrada y devuelve un diccionario que contiene una actualización de la lista `messages` para la key `mensajes`. Este es el patrón básico para todas las funciones del nodo `LangGraph`."
   ]
  },
  {
   "cell_type": "markdown",
   "metadata": {},
   "source": [
    "La `reducer function` de nuestro grafo `add_messages` agregará los mensajes de respuesta del `llm` a cualquier mensaje que ya esté en el estado."
   ]
  },
  {
   "cell_type": "markdown",
   "metadata": {},
   "source": [
    "A continuación, agregamos un nodo `entry`. Esto le dice a nuestro grafo dónde empezar su trabajo cada vez que lo ejecutamos."
   ]
  },
  {
   "cell_type": "code",
   "execution_count": 5,
   "metadata": {},
   "outputs": [
    {
     "data": {
      "text/plain": [
       "<langgraph.graph.state.StateGraph at 0x130548440>"
      ]
     },
     "execution_count": 5,
     "metadata": {},
     "output_type": "execute_result"
    }
   ],
   "source": [
    "from langgraph.graph import START\n",
    "\n",
    "graph_builder.add_edge(START, \"chatbot_node\")"
   ]
  },
  {
   "cell_type": "markdown",
   "metadata": {},
   "source": [
    "Del mismo modo, añadimos un nodo `finish`. Esto indica al grafo `cada vez que se ejecuta este nodo, puede terminar el trabajo.`"
   ]
  },
  {
   "cell_type": "code",
   "execution_count": 6,
   "metadata": {},
   "outputs": [
    {
     "data": {
      "text/plain": [
       "<langgraph.graph.state.StateGraph at 0x130548440>"
      ]
     },
     "execution_count": 6,
     "metadata": {},
     "output_type": "execute_result"
    }
   ],
   "source": [
    "from langgraph.graph import END\n",
    "\n",
    "graph_builder.add_edge(\"chatbot_node\", END)"
   ]
  },
  {
   "cell_type": "markdown",
   "metadata": {},
   "source": [
    "Hemos importado `START` y `END` que podemos encontrarlos en [constants](https://langchain-ai.github.io/langgraph/reference/constants/) y el primer y último nodo de nuestro grafo.\n",
    "\n",
    "Normalmente son nodos virtuales"
   ]
  },
  {
   "cell_type": "markdown",
   "metadata": {},
   "source": [
    "Finalmente, queremos poder ejecutar nuestro grafo. Para hacerlo, usamos el método constructor de grafos `compile()`. Esto crea un `CompiledGraph` que podemos usar para ejecutar nuestra aplicación."
   ]
  },
  {
   "cell_type": "code",
   "execution_count": 7,
   "metadata": {},
   "outputs": [],
   "source": [
    "graph = graph_builder.compile()"
   ]
  },
  {
   "cell_type": "markdown",
   "metadata": {},
   "source": [
    "Podemos visualizar el grafo usando el método `get_graph` y uno de los métodos de \"dibujo\", como `draw_ascii` o `draw_mermaid_png`. El dibujo de cada uno de los métodos requiere dependencias adicionales."
   ]
  },
  {
   "cell_type": "code",
   "execution_count": 8,
   "metadata": {},
   "outputs": [
    {
     "data": {
      "image/png": "[encoded data removed]",
      "text/plain": [
       "<IPython.core.display.Image object>"
      ]
     },
     "metadata": {},
     "output_type": "display_data"
    }
   ],
   "source": [
    "from IPython.display import Image, display\n",
    "\n",
    "try:\n",
    "    display(Image(graph.get_graph().draw_mermaid_png()))\n",
    "except Exception as e:\n",
    "    print(f\"Error al visualizar el grafo: {e}\")"
   ]
  },
  {
   "cell_type": "markdown",
   "metadata": {},
   "source": [
    "¡Ahora podemos probar el chatbot!"
   ]
  },
  {
   "cell_type": "markdown",
   "metadata": {},
   "source": [
    " > **Consejo**\n",
    " >\n",
    " > Puedes salir del bucle de chat en cualquier momento escribiendo `quit`, `exit` o `q`."
   ]
  },
  {
   "cell_type": "code",
   "execution_count": 9,
   "metadata": {},
   "outputs": [
    {
     "name": "stdout",
     "output_type": "stream",
     "text": [
      "\u001b[32mUser: \u001b[0mHello\n",
      "\u001b[33mAssistant: \u001b[0mHello! It's nice to meet you. How can I assist you today? Whether you have questions, need information, or just want to chat, I'm here to help!\n",
      "\u001b[32mUser: \u001b[0mHow are you doing?\n",
      "\u001b[33mAssistant: \u001b[0mI'm just a computer program, so I don't have feelings, but I'm here and ready to help you with any questions or tasks you have! How can I assist you today?\n",
      "\u001b[32mUser: \u001b[0mMe well, I'm making a post about LangGraph, what do you think?\n",
      "\u001b[33mAssistant: \u001b[0mLangGraph is an intriguing topic, especially if you're delving into the realm of graph-based models and their applications in natural language processing (NLP). LangGraph, as I understand, is a framework or tool that leverages graph theory to improve or provide a new perspective on NLP tasks such as text classification, information extraction, and semantic analysis. By representing textual information as graphs (nodes for entities and edges for relationships), it can offer a more nuanced understanding of the context and semantics in language data.\n",
      "\n",
      "If you're making a post about it, here are a few points you might consider:\n",
      "\n",
      "1. **Introduction to LangGraph**: Start with a brief explanation of what LangGraph is and its core principles. How does it model language or text differently compared to traditional NLP approaches? What unique advantages does it offer by using graph-based methods?\n",
      "\n",
      "2. **Applications of LangGraph**: Discuss some of the key applications where LangGraph has been or can be applied. This could include improving the accuracy of sentiment analysis, enhancing machine translation, or optimizing chatbot responses to be more contextually aware.\n",
      "\n",
      "3. **Technical Innovations**: Highlight any technical innovations or advancements that LangGraph brings to the table. This could be about new algorithms, more efficient data structures, or novel ways of training models on graph data.\n",
      "\n",
      "4. **Challenges and Limitations**: It's also important to address the challenges and limitations of using graph-based methods in NLP. Performance, scalability, and the current state of the technology can be discussed here.\n",
      "\n",
      "5. **Future Prospects**: Wrap up with a look into the future of LangGraph and graph-based NLP in general. What are the upcoming trends, potential areas of growth, and how might these tools start impacting broader technology landscapes?\n",
      "\n",
      "Each section can help frame your post in a way that's informative and engaging for your audience, whether they're technical experts or casual readers looking for an introduction to this intriguing area of NLP.\n",
      "\u001b[32mUser: \u001b[0mq\n",
      "\u001b[33mAssistant: \u001b[0mGoodbye!\n"
     ]
    }
   ],
   "source": [
    "# Colors for the terminal\n",
    "COLOR_GREEN = \"\\033[32m\"\n",
    "COLOR_YELLOW = \"\\033[33m\"\n",
    "COLOR_RESET = \"\\033[0m\"\n",
    "\n",
    "\n",
    "def stream_graph_updates(user_input: str):\n",
    "    for event in graph.stream({\"messages\": [{\"role\": \"user\", \"content\": user_input}]}):\n",
    "        for value in event.values():\n",
    "            print(f\"{COLOR_GREEN}User: {COLOR_RESET}{user_input}\")\n",
    "            print(f\"{COLOR_YELLOW}Assistant: {COLOR_RESET}{value['messages'][-1].content}\")\n",
    "\n",
    "\n",
    "while True:\n",
    "    try:\n",
    "        user_input = input(\"User: \")\n",
    "        if user_input.lower() in [\"quit\", \"exit\", \"q\"]:\n",
    "            print(f\"{COLOR_GREEN}User: {COLOR_RESET}{user_input}\")\n",
    "            print(f\"{COLOR_YELLOW}Assistant: {COLOR_RESET}Goodbye!\")\n",
    "            break\n",
    "        \n",
    "        events =stream_graph_updates(user_input)\n",
    "    except:\n",
    "        # fallback if input() is not available\n",
    "        user_input = \"What do you know about LangGraph?\"\n",
    "        print(\"User: \" + user_input)\n",
    "        stream_graph_updates(user_input)\n",
    "        break"
   ]
  },
  {
   "cell_type": "markdown",
   "metadata": {},
   "source": [
    "**!Felicidades!** Has construido tu primer chatbot usando `LangGraph`. Este bot puede participar en una conversación básica tomando la entrada del usuario y generando respuestas utilizando el `LLM` que hemos definido."
   ]
  },
  {
   "cell_type": "markdown",
   "metadata": {},
   "source": [
    "Sin embargo, este bot se limita a lo que hay en sus datos de entrenamiento. Así que vamos a agregar una herramienta de búsqueda web para expandir el conocimiento del bot y hacerlo más capaz."
   ]
  },
  {
   "cell_type": "markdown",
   "metadata": {},
   "source": [
    "### Más"
   ]
  },
  {
   "cell_type": "markdown",
   "metadata": {},
   "source": [
    "Hemos visto cómo crear un agente con un estado tipado mediante `TypedDict`, pero podemos crearlo con otro tipado. Si te interesa sigue leyendo, si no puedes pasar al siguiente punto de mejora del agente con herramientas"
   ]
  },
  {
   "cell_type": "markdown",
   "metadata": {},
   "source": [
    "#### Tipado del estado"
   ]
  },
  {
   "cell_type": "markdown",
   "metadata": {},
   "source": [
    "##### Tipado mediante `TypeDict`"
   ]
  },
  {
   "cell_type": "markdown",
   "metadata": {},
   "source": [
    "Es la forma que hemos visto antes, tipamos el estado como un diccionario usando el tipado de Python `TypeDict`. Le pasamos una llave y un valor para cada variable de nuestro estado"
   ]
  },
  {
   "cell_type": "markdown",
   "metadata": {},
   "source": [
    "``` python\n",
    "from typing_extensions import TypedDict\n",
    "from typing import Annotated\n",
    "from langgraph.graph.message import add_messages\n",
    "from langgraph.graph import StateGraph\n",
    "\n",
    "class State(TypedDict):\n",
    "    messages: Annotated[list, add_messages]\n",
    "```"
   ]
  },
  {
   "cell_type": "markdown",
   "metadata": {},
   "source": [
    "Para acceder a los mensajes lo hacemos como con cualquier diccionario, mediante `state[\"messages\"]`"
   ]
  },
  {
   "cell_type": "markdown",
   "metadata": {},
   "source": [
    "##### Tipado mediante `dataclass`"
   ]
  },
  {
   "cell_type": "markdown",
   "metadata": {},
   "source": [
    "Otra opción es usar el tipado de python `dataclass`"
   ]
  },
  {
   "cell_type": "markdown",
   "metadata": {},
   "source": [
    "``` python\n",
    "from dataclasses import dataclass\n",
    "from typing import Annotated\n",
    "from langgraph.graph.message import add_messages\n",
    "from langgraph.graph import StateGraph\n",
    "\n",
    "@dataclass\n",
    "class State:\n",
    "    messages: Annotated[list, add_messages]\n",
    "```"
   ]
  },
  {
   "cell_type": "markdown",
   "metadata": {},
   "source": [
    "Como se puede ver es similar al tipado mediante diccionarios, pero ahora, al ser el estado un clase, accedemos a los mensajes mediante `state.mesages`"
   ]
  },
  {
   "cell_type": "markdown",
   "metadata": {},
   "source": [
    "##### Tipado con `Pydantic`"
   ]
  },
  {
   "cell_type": "markdown",
   "metadata": {},
   "source": [
    "`Pydantic` es una librería muy usada para tipar datos en Python. Nos ofrece la posibilidad de añadir una comprobación del tipado. Vamos a comprobar que el mensaje empiece con `'User'`, `'Assistant'` o `'System'`"
   ]
  },
  {
   "cell_type": "markdown",
   "metadata": {},
   "source": [
    "``` python\n",
    "from pydantic import BaseModel, field_validator, ValidationError\n",
    "from typing import Annotated\n",
    "from langgraph.graph.message import add_messages\n",
    "\n",
    "class State(BaseModel):\n",
    "    messages: Annotated[list, add_messages] # Should start by 'User', 'Assistant' or 'System'\n",
    "\n",
    "    @field_validator('messages')\n",
    "    @classmethod\n",
    "    def validate_messages(cls, value):\n",
    "        # Ensure the messages start with `User`, `Assistant` or `System`\n",
    "        if not value.startswith[\"'User'\"] and not value.startswith[\"'Assistant'\"] and not value.startswith[\"'System'\"]:\n",
    "            raise ValueError(\"Message must to start with 'User', 'Assistant' or 'System'\")\n",
    "        return value\n",
    "\n",
    "try:\n",
    "    state = PydanticState(messages=[\"Hello\"])\n",
    "except ValidationError as e:\n",
    "    print(\"Validation Error:\", e)\n",
    "```"
   ]
  },
  {
   "cell_type": "markdown",
   "metadata": {},
   "source": [
    "#### Reducers"
   ]
  },
  {
   "cell_type": "markdown",
   "metadata": {},
   "source": [
    "Como hemos dicho necesitamos usar una función de tipo `Reducer` para indicar cómo actualizar el estado, ya que si no el valor se sobreescribe"
   ]
  },
  {
   "cell_type": "markdown",
   "metadata": {},
   "source": [
    "Vamos a ver un ejemplo de un grafo en el que no usamos una función de tipo `Reducer` para indicar cómo actualizar el estado"
   ]
  },
  {
   "cell_type": "code",
   "execution_count": 5,
   "metadata": {},
   "outputs": [
    {
     "data": {
      "image/png": "[encoded data removed]",
      "text/plain": [
       "<IPython.core.display.Image object>"
      ]
     },
     "metadata": {},
     "output_type": "display_data"
    }
   ],
   "source": [
    "from typing_extensions import TypedDict\n",
    "from langgraph.graph import StateGraph, START, END\n",
    "from IPython.display import Image, display\n",
    "\n",
    "class State(TypedDict):\n",
    "    foo: int\n",
    "\n",
    "def node_1(state):\n",
    "    print(\"---Node 1---\")\n",
    "    return {\"foo\": state['foo'] + 1}\n",
    "\n",
    "def node_2(state):\n",
    "    print(\"---Node 2---\")\n",
    "    return {\"foo\": state['foo'] + 1}\n",
    "\n",
    "def node_3(state):\n",
    "    print(\"---Node 3---\")\n",
    "    return {\"foo\": state['foo'] + 1}\n",
    "\n",
    "# Build graph\n",
    "builder = StateGraph(State)\n",
    "builder.add_node(\"node_1\", node_1)\n",
    "builder.add_node(\"node_2\", node_2)\n",
    "builder.add_node(\"node_3\", node_3)\n",
    "\n",
    "# Logic\n",
    "builder.add_edge(START, \"node_1\")\n",
    "builder.add_edge(\"node_1\", \"node_2\")\n",
    "builder.add_edge(\"node_1\", \"node_3\")\n",
    "builder.add_edge(\"node_2\", END)\n",
    "builder.add_edge(\"node_3\", END)\n",
    "\n",
    "# Add\n",
    "graph = builder.compile()\n",
    "\n",
    "# View\n",
    "display(Image(graph.get_graph().draw_mermaid_png()))"
   ]
  },
  {
   "cell_type": "markdown",
   "metadata": {},
   "source": [
    "Como vemos hemos definido un grafo en el que primero se ejecuta el nodo 1 y luego el 2 y el 3. Vamos a ejecutarlo a ver qué pasa"
   ]
  },
  {
   "cell_type": "code",
   "execution_count": 6,
   "metadata": {},
   "outputs": [
    {
     "name": "stdout",
     "output_type": "stream",
     "text": [
      "---Node 1---\n",
      "---Node 2---\n",
      "---Node 3---\n",
      "InvalidUpdateError occurred: At key 'foo': Can receive only one value per step. Use an Annotated key to handle multiple values.\n",
      "For troubleshooting, visit: https://python.langchain.com/docs/troubleshooting/errors/INVALID_CONCURRENT_GRAPH_UPDATE\n"
     ]
    }
   ],
   "source": [
    "from langgraph.errors import InvalidUpdateError\n",
    "\n",
    "try:\n",
    "    graph.invoke({\"foo\" : 1})\n",
    "except InvalidUpdateError as e:\n",
    "    print(f\"InvalidUpdateError occurred: {e}\")"
   ]
  },
  {
   "cell_type": "markdown",
   "metadata": {},
   "source": [
    "Obtenemos un error porque primero el nodo 1 modifica el valor de `foo` y luego los nodos 2 y 3 intentan modificar el valor de `foo` en paralelo, lo cual da un error"
   ]
  },
  {
   "cell_type": "markdown",
   "metadata": {},
   "source": [
    "Así que para evitar eso usamos una función de tipo `Reducer` para indicar cómo modificar el estado"
   ]
  },
  {
   "cell_type": "markdown",
   "metadata": {},
   "source": [
    "##### Reducers predefinidos"
   ]
  },
  {
   "cell_type": "markdown",
   "metadata": {},
   "source": [
    "Usamos el tipo `Annotated` para especificar que es una función de tipo `Reducer`. Y usamos el operador `add` para concatenar un valor en una lista"
   ]
  },
  {
   "cell_type": "code",
   "execution_count": 7,
   "metadata": {},
   "outputs": [
    {
     "data": {
      "image/png": "[encoded data removed]",
      "text/plain": [
       "<IPython.core.display.Image object>"
      ]
     },
     "metadata": {},
     "output_type": "display_data"
    }
   ],
   "source": [
    "from typing_extensions import TypedDict\n",
    "from langgraph.graph import StateGraph, START, END\n",
    "from IPython.display import Image, display\n",
    "from operator import add\n",
    "from typing import Annotated\n",
    "\n",
    "class State(TypedDict):\n",
    "    foo: Annotated[list[int], add]\n",
    "\n",
    "def node_1(state):\n",
    "    print(\"---Node 1---\")\n",
    "    return {\"foo\": [state['foo'][-1] + 1]}\n",
    "\n",
    "def node_2(state):\n",
    "    print(\"---Node 2---\")\n",
    "    return {\"foo\": [state['foo'][-1] + 1]}\n",
    "\n",
    "def node_3(state):\n",
    "    print(\"---Node 3---\")\n",
    "    return {\"foo\": [state['foo'][-1] + 1]}\n",
    "\n",
    "# Build graph\n",
    "builder = StateGraph(State)\n",
    "builder.add_node(\"node_1\", node_1)\n",
    "builder.add_node(\"node_2\", node_2)\n",
    "builder.add_node(\"node_3\", node_3)\n",
    "\n",
    "# Logic\n",
    "builder.add_edge(START, \"node_1\")\n",
    "builder.add_edge(\"node_1\", \"node_2\")\n",
    "builder.add_edge(\"node_1\", \"node_3\")\n",
    "builder.add_edge(\"node_2\", END)\n",
    "builder.add_edge(\"node_3\", END)\n",
    "\n",
    "# Add\n",
    "graph = builder.compile()\n",
    "\n",
    "# View\n",
    "display(Image(graph.get_graph().draw_mermaid_png()))"
   ]
  },
  {
   "cell_type": "markdown",
   "metadata": {},
   "source": [
    "Lo volvemos a ejecutar a ver qué pasa"
   ]
  },
  {
   "cell_type": "code",
   "execution_count": 8,
   "metadata": {},
   "outputs": [
    {
     "name": "stdout",
     "output_type": "stream",
     "text": [
      "---Node 1---\n",
      "---Node 2---\n",
      "---Node 3---\n"
     ]
    },
    {
     "data": {
      "text/plain": [
       "{'foo': [1, 2, 3, 3]}"
      ]
     },
     "execution_count": 8,
     "metadata": {},
     "output_type": "execute_result"
    }
   ],
   "source": [
    "graph.invoke({\"foo\" : [1]})"
   ]
  },
  {
   "cell_type": "markdown",
   "metadata": {},
   "source": [
    "Como vemos inicializamos el valor de `foo` a 1, lo cual se añade en una lista. Luego el nodo 1 le suma 1 y lo añade como nuevo valor en la lista, es decir, añade un 2. Por último los nodos 2 y 3 suman uno al último valor de la lista, es decir, los dos nodos obtienen un 3 y los dos nodos lo añaden al final de la lista, por eso la lista resultante tiene dos 3 al final"
   ]
  },
  {
   "cell_type": "markdown",
   "metadata": {},
   "source": [
    "Como hemos definido `foo` como una lista de enteros, y está tipado, si inicializamos el estado con `None` obtenemos un error"
   ]
  },
  {
   "cell_type": "code",
   "execution_count": 9,
   "metadata": {},
   "outputs": [
    {
     "name": "stdout",
     "output_type": "stream",
     "text": [
      "TypeError occurred: can only concatenate list (not \"NoneType\") to list\n"
     ]
    }
   ],
   "source": [
    "try:\n",
    "    graph.invoke({\"foo\" : None})\n",
    "except TypeError as e:\n",
    "    print(f\"TypeError occurred: {e}\")"
   ]
  },
  {
   "cell_type": "markdown",
   "metadata": {},
   "source": [
    "##### Reducers personalizados"
   ]
  },
  {
   "cell_type": "markdown",
   "metadata": {},
   "source": [
    "A veces no podemos usar un `Reducer` predefinido y tenemos que crearnos el nuestro"
   ]
  },
  {
   "cell_type": "code",
   "execution_count": null,
   "metadata": {},
   "outputs": [
    {
     "data": {
      "image/png": "[encoded data removed]",
      "text/plain": [
       "<IPython.core.display.Image object>"
      ]
     },
     "metadata": {},
     "output_type": "display_data"
    }
   ],
   "source": [
    "from typing_extensions import TypedDict\n",
    "from langgraph.graph import StateGraph, START, END\n",
    "from IPython.display import Image, display\n",
    "from typing import Annotated\n",
    "\n",
    "def reducer_function(current_list, new_item: list | None):\n",
    "    if current_list is None:\n",
    "        current_list = []\n",
    "\n",
    "    if new_item is not None:\n",
    "        return current_list + new_item\n",
    "    return current_list\n",
    "\n",
    "class State(TypedDict):\n",
    "    foo: Annotated[list[int], reducer_function]\n",
    "\n",
    "def node_1(state):\n",
    "    print(\"---Node 1---\")\n",
    "    if len(state['foo']) == 0:\n",
    "        return {'foo': [0]}\n",
    "    return {\"foo\": [state['foo'][-1] + 1]}\n",
    "\n",
    "def node_2(state):\n",
    "    print(\"---Node 2---\")\n",
    "    return {\"foo\": [state['foo'][-1] + 1]}\n",
    "\n",
    "def node_3(state):\n",
    "    print(\"---Node 3---\")\n",
    "    return {\"foo\": [state['foo'][-1] + 1]}\n",
    "\n",
    "# Build graph\n",
    "builder = StateGraph(State)\n",
    "builder.add_node(\"node_1\", node_1)\n",
    "builder.add_node(\"node_2\", node_2)\n",
    "builder.add_node(\"node_3\", node_3)\n",
    "\n",
    "# Logic\n",
    "builder.add_edge(START, \"node_1\")\n",
    "builder.add_edge(\"node_1\", \"node_2\")\n",
    "builder.add_edge(\"node_1\", \"node_3\")\n",
    "builder.add_edge(\"node_2\", END)\n",
    "builder.add_edge(\"node_3\", END)\n",
    "\n",
    "# Add\n",
    "graph = builder.compile()\n",
    "\n",
    "# View\n",
    "display(Image(graph.get_graph().draw_mermaid_png()))"
   ]
  },
  {
   "cell_type": "code",
   "execution_count": 22,
   "metadata": {},
   "outputs": [
    {
     "name": "stdout",
     "output_type": "stream",
     "text": [
      "---Node 1---\n",
      "---Node 2---\n",
      "---Node 3---\n"
     ]
    }
   ],
   "source": [
    "try:\n",
    "    graph.invoke({\"foo\" : None})\n",
    "except TypeError as e:\n",
    "    print(f\"TypeError occurred: {e}\")"
   ]
  },
  {
   "cell_type": "markdown",
   "metadata": {},
   "source": [
    "#### Múltiples estados"
   ]
  },
  {
   "cell_type": "markdown",
   "metadata": {},
   "source": [
    "Supongamos que queremos ocultar variables del estado, por la razón que sea, porque algunas variables solo aportan ruido o porque queremos mantener alguna variable privada."
   ]
  },
  {
   "cell_type": "markdown",
   "metadata": {},
   "source": [
    "##### Estados privados"
   ]
  },
  {
   "cell_type": "markdown",
   "metadata": {},
   "source": [
    "Si queremos tener un estado privado, simplemente lo creamos."
   ]
  },
  {
   "cell_type": "code",
   "execution_count": 2,
   "metadata": {},
   "outputs": [
    {
     "data": {
      "image/png": "[encoded data removed]",
      "text/plain": [
       "<IPython.core.display.Image object>"
      ]
     },
     "metadata": {},
     "output_type": "display_data"
    }
   ],
   "source": [
    "from typing_extensions import TypedDict\n",
    "from IPython.display import Image, display\n",
    "from langgraph.graph import StateGraph, START, END\n",
    "\n",
    "class OverallState(TypedDict):\n",
    "    public_var: int\n",
    "\n",
    "class PrivateState(TypedDict):\n",
    "    private_var: int\n",
    "\n",
    "def node_1(state: OverallState) -> PrivateState:\n",
    "    print(\"---Node 1---\")\n",
    "    return {\"private_var\": state['public_var'] + 1}\n",
    "\n",
    "def node_2(state: PrivateState) -> OverallState:\n",
    "    print(\"---Node 2---\")\n",
    "    return {\"public_var\": state['private_var'] + 1}\n",
    "\n",
    "# Build graph\n",
    "builder = StateGraph(OverallState)\n",
    "builder.add_node(\"node_1\", node_1)\n",
    "builder.add_node(\"node_2\", node_2)\n",
    "\n",
    "# Logic\n",
    "builder.add_edge(START, \"node_1\")\n",
    "builder.add_edge(\"node_1\", \"node_2\")\n",
    "builder.add_edge(\"node_2\", END)\n",
    "\n",
    "# Add\n",
    "graph = builder.compile()\n",
    "\n",
    "# View\n",
    "display(Image(graph.get_graph().draw_mermaid_png()))"
   ]
  },
  {
   "cell_type": "markdown",
   "metadata": {},
   "source": [
    "Como vemos hemos creado el estado privado `PrivateState` y el estado público `OverallState`. Cada uno con una variable privada y una pública. Primero se ejecuta el nodo 1, que modifica la variable privada y la devuelve. Luego se ejecuta el nodo 2, que modifica la variable pública y la devuelve. Vamos a ejecutar el grafo para ver qué pasa"
   ]
  },
  {
   "cell_type": "code",
   "execution_count": 2,
   "metadata": {},
   "outputs": [
    {
     "name": "stdout",
     "output_type": "stream",
     "text": [
      "---Node 1---\n",
      "---Node 2---\n"
     ]
    },
    {
     "data": {
      "text/plain": [
       "{'public_var': 3}"
      ]
     },
     "execution_count": 2,
     "metadata": {},
     "output_type": "execute_result"
    }
   ],
   "source": [
    "graph.invoke({\"public_var\" : 1})"
   ]
  },
  {
   "cell_type": "markdown",
   "metadata": {},
   "source": [
    "Como vemos al ejecutar el grafo, pasamos la variable pública `public_var` y obtenemos a la salida otra variable pública `public_var` con el valor modificado, pero nunca se ha accedido a la variable privada `private_var`"
   ]
  },
  {
   "cell_type": "markdown",
   "metadata": {},
   "source": [
    "##### Estados de entrada y salida"
   ]
  },
  {
   "cell_type": "markdown",
   "metadata": {},
   "source": [
    "Podemos definir las variables de entrada y salida del grafo. Aunque internamente el estado puede tener más variables, definimos qué variables son de entrada al grafo y qué variables son de salida."
   ]
  },
  {
   "cell_type": "code",
   "execution_count": 3,
   "metadata": {},
   "outputs": [
    {
     "data": {
      "image/png": "[encoded data removed]",
      "text/plain": [
       "<IPython.core.display.Image object>"
      ]
     },
     "metadata": {},
     "output_type": "display_data"
    }
   ],
   "source": [
    "from typing_extensions import TypedDict\n",
    "from IPython.display import Image, display\n",
    "from langgraph.graph import StateGraph, START, END\n",
    "\n",
    "class InputState(TypedDict):\n",
    "    question: str\n",
    "\n",
    "class OutputState(TypedDict):\n",
    "    answer: str\n",
    "\n",
    "class OverallState(TypedDict):\n",
    "    question: str\n",
    "    answer: str\n",
    "    notes: str\n",
    "\n",
    "def thinking_node(state: InputState):\n",
    "    return {\"answer\": \"bye\", \"notes\": \"... his is name is Lance\"}\n",
    "\n",
    "def answer_node(state: OverallState) -> OutputState:\n",
    "    return {\"answer\": \"bye Lance\"}\n",
    "\n",
    "graph = StateGraph(OverallState, input=InputState, output=OutputState)\n",
    "graph.add_node(\"answer_node\", answer_node)\n",
    "graph.add_node(\"thinking_node\", thinking_node)\n",
    "graph.add_edge(START, \"thinking_node\")\n",
    "graph.add_edge(\"thinking_node\", \"answer_node\")\n",
    "graph.add_edge(\"answer_node\", END)\n",
    "\n",
    "graph = graph.compile()\n",
    "\n",
    "# View\n",
    "display(Image(graph.get_graph().draw_mermaid_png()))"
   ]
  },
  {
   "cell_type": "markdown",
   "metadata": {},
   "source": [
    "En este caso el estado tiene 3 variables, `question`, `answer` y `notes`. Sin embargo definimos como entrada al grafo `question` y como salida del grafo `answer`. Por lo tanto, el estado interno puede tener más variables, pero no se tienen en cuenta a la hora de invocar el grafo. Vamos a ejecutar el grafo para ver qué pasa"
   ]
  },
  {
   "cell_type": "code",
   "execution_count": 4,
   "metadata": {},
   "outputs": [
    {
     "data": {
      "text/plain": [
       "{'answer': 'bye Lance'}"
      ]
     },
     "execution_count": 4,
     "metadata": {},
     "output_type": "execute_result"
    }
   ],
   "source": [
    "graph.invoke({\"question\":\"hi\"})"
   ]
  },
  {
   "cell_type": "markdown",
   "metadata": {},
   "source": [
    "Como vemos, le hemos metido `question` al grafo y hemos obtenido `answer` a la salida."
   ]
  },
  {
   "cell_type": "markdown",
   "metadata": {},
   "source": [
    "#### Manejo del contexto"
   ]
  },
  {
   "cell_type": "markdown",
   "metadata": {},
   "source": [
    "Vamos a volver a ver el código del chatbot básico"
   ]
  },
  {
   "cell_type": "code",
   "execution_count": 3,
   "metadata": {},
   "outputs": [
    {
     "data": {
      "image/png": "[encoded data removed]",
      "text/plain": [
       "<IPython.core.display.Image object>"
      ]
     },
     "metadata": {},
     "output_type": "display_data"
    }
   ],
   "source": [
    "from typing import Annotated\n",
    "from typing_extensions import TypedDict\n",
    "from langgraph.graph import StateGraph, START, END\n",
    "from langgraph.graph.message import add_messages\n",
    "from langchain_huggingface import HuggingFaceEndpoint, ChatHuggingFace\n",
    "from huggingface_hub import login\n",
    "from IPython.display import Image, display\n",
    "import os\n",
    "import dotenv\n",
    "\n",
    "dotenv.load_dotenv()\n",
    "HUGGINGFACE_TOKEN = os.getenv(\"HUGGINGFACE_LANGGRAPH\")\n",
    "\n",
    "class State(TypedDict):\n",
    "    messages: Annotated[list, add_messages]\n",
    "\n",
    "os.environ[\"LANGCHAIN_TRACING_V2\"] = \"false\"    # Disable LangSmith tracing\n",
    "\n",
    "# Create the LLM model\n",
    "login(token=HUGGINGFACE_TOKEN)  # Login to HuggingFace to use the model\n",
    "MODEL = \"Qwen/Qwen2.5-72B-Instruct\"\n",
    "model = HuggingFaceEndpoint(\n",
    "    repo_id=MODEL,\n",
    "    task=\"text-generation\",\n",
    "    max_new_tokens=512,\n",
    "    do_sample=False,\n",
    "    repetition_penalty=1.03,\n",
    ")\n",
    "# Create the chat model\n",
    "llm = ChatHuggingFace(llm=model)\n",
    "\n",
    "# Define the chatbot function\n",
    "def chatbot_function(state: State):\n",
    "    return {\"messages\": [llm.invoke(state[\"messages\"])]}\n",
    "\n",
    "# Create graph builder\n",
    "graph_builder = StateGraph(State)\n",
    "\n",
    "# Add nodes\n",
    "graph_builder.add_node(\"chatbot_node\", chatbot_function)\n",
    "\n",
    "# Connecto nodes\n",
    "graph_builder.add_edge(START, \"chatbot_node\")\n",
    "graph_builder.add_edge(\"chatbot_node\", END)\n",
    "\n",
    "# Compile the graph\n",
    "graph = graph_builder.compile()\n",
    "\n",
    "display(Image(graph.get_graph().draw_mermaid_png()))"
   ]
  },
  {
   "cell_type": "markdown",
   "metadata": {},
   "source": [
    "Vamos a crear un contexto que le pasaremos al modelo"
   ]
  },
  {
   "cell_type": "code",
   "execution_count": 9,
   "metadata": {},
   "outputs": [
    {
     "name": "stdout",
     "output_type": "stream",
     "text": [
      "==================================\u001b[1m Ai Message \u001b[0m==================================\n",
      "Name: Bot\n",
      "\n",
      "So you said you were researching ocean mammals?\n",
      "================================\u001b[1m Human Message \u001b[0m=================================\n",
      "Name: Lance\n",
      "\n",
      "Yes, I know about whales. But what others should I learn about?\n"
     ]
    }
   ],
   "source": [
    "from langchain_core.messages import AIMessage, HumanMessage\n",
    "\n",
    "messages = [AIMessage(f\"So you said you were researching ocean mammals?\", name=\"Bot\")]\n",
    "messages.append(HumanMessage(f\"Yes, I know about whales. But what others should I learn about?\", name=\"Lance\"))\n",
    "\n",
    "for m in messages:\n",
    "    m.pretty_print()"
   ]
  },
  {
   "cell_type": "markdown",
   "metadata": {},
   "source": [
    "Si se lo pasamos al grafo obtendremos la salida"
   ]
  },
  {
   "cell_type": "code",
   "execution_count": 10,
   "metadata": {},
   "outputs": [
    {
     "name": "stdout",
     "output_type": "stream",
     "text": [
      "==================================\u001b[1m Ai Message \u001b[0m==================================\n",
      "Name: Bot\n",
      "\n",
      "So you said you were researching ocean mammals?\n",
      "================================\u001b[1m Human Message \u001b[0m=================================\n",
      "Name: Lance\n",
      "\n",
      "Yes, I know about whales. But what others should I learn about?\n",
      "==================================\u001b[1m Ai Message \u001b[0m==================================\n",
      "\n",
      "That's a great topic! Besides whales, there are several other fascinating ocean mammals you might want to learn about. Here are a few:\n",
      "\n",
      "1. **Dolphins**: Highly intelligent and social, dolphins are found in all oceans of the world. They are known for their playful behavior and communication skills.\n",
      "\n",
      "2. **Porpoises**: Similar to dolphins but generally smaller and stouter, porpoises are less social and more elusive. They are found in coastal waters around the world.\n",
      "\n",
      "3. **Seals and Sea Lions**: These are semi-aquatic mammals that can be found in both Arctic and Antarctic regions, as well as in more temperate waters. They are known for their sleek bodies and flippers, and they differ in their ability to walk on land (sea lions can \"walk\" on their flippers, while seals can only wriggle or slide).\n",
      "\n",
      "4. **Walruses**: Known for their large tusks and whiskers, walruses are found in the Arctic. They are well-adapted to cold waters and have a thick layer of blubber to keep them warm.\n",
      "\n",
      "5. **Manatees and Dugongs**: These gentle, herbivorous mammals are often called \"sea cows.\" They live in shallow, coastal areas and are found in tropical and subtropical regions. Manatees are found in the Americas, while dugongs are found in the Indo-Pacific region.\n",
      "\n",
      "6. **Otters**: While not fully aquatic, sea otters spend most of their lives in the water and are excellent swimmers. They are known for their dense fur, which keeps them warm in cold waters.\n",
      "\n",
      "7. **Polar Bears**: Although primarily considered land animals, polar bears are excellent swimmers and spend a significant amount of time in the water, especially when hunting for seals.\n",
      "\n",
      "Each of these mammals has unique adaptations and behaviors that make them incredibly interesting to study. If you have any specific questions or topics you'd like to explore further, feel free to ask!\n"
     ]
    }
   ],
   "source": [
    "output = graph.invoke({'messages': messages})\n",
    "for m in output['messages']:\n",
    "    m.pretty_print()"
   ]
  },
  {
   "cell_type": "markdown",
   "metadata": {},
   "source": [
    "Como vemos ahora a la salida tenemos un mensaje más.\n",
    "\n",
    "Si esto sigue creciendo llegará un momento en el que tendremos un contexto muy largo, por lo que supondrá un mayor gasto de tokens, que puede acarrear un mayor gasto económico, conlleva también mayor latencia.\n",
    "\n",
    "Además con contextos muy largos los LLMs empiezan a rendir peor.\n",
    "\n",
    "Los últimos modelos, a día de la escritura de este post, por encima de 8k tokens como contexto, empieza a decaer el rendimiento del LLM"
   ]
  },
  {
   "cell_type": "markdown",
   "metadata": {},
   "source": [
    "Así que vamos a ver varias maneras de gestionar esto"
   ]
  },
  {
   "cell_type": "markdown",
   "metadata": {},
   "source": [
    "##### Modificar el contexto con funciones de tipo `Reducer`"
   ]
  },
  {
   "cell_type": "markdown",
   "metadata": {},
   "source": [
    "Hemos visto que con las funciones de tipo `Reducer` podemos modificar los mensajes del estado"
   ]
  },
  {
   "cell_type": "code",
   "execution_count": 4,
   "metadata": {},
   "outputs": [
    {
     "data": {
      "image/png": "[encoded data removed]",
      "text/plain": [
       "<IPython.core.display.Image object>"
      ]
     },
     "metadata": {},
     "output_type": "display_data"
    }
   ],
   "source": [
    "from typing import Annotated\n",
    "from typing_extensions import TypedDict\n",
    "from langgraph.graph import StateGraph, START, END\n",
    "from langgraph.graph.message import add_messages\n",
    "from langchain_huggingface import HuggingFaceEndpoint, ChatHuggingFace\n",
    "from langchain_core.messages import RemoveMessage\n",
    "from huggingface_hub import login\n",
    "from IPython.display import Image, display\n",
    "import os\n",
    "import dotenv\n",
    "\n",
    "dotenv.load_dotenv()\n",
    "HUGGINGFACE_TOKEN = os.getenv(\"HUGGINGFACE_LANGGRAPH\")\n",
    "\n",
    "class State(TypedDict):\n",
    "    messages: Annotated[list, add_messages]\n",
    "\n",
    "os.environ[\"LANGCHAIN_TRACING_V2\"] = \"false\"    # Disable LangSmith tracing\n",
    "\n",
    "# Create the LLM model\n",
    "login(token=HUGGINGFACE_TOKEN)  # Login to HuggingFace to use the model\n",
    "MODEL = \"Qwen/Qwen2.5-72B-Instruct\"\n",
    "model = HuggingFaceEndpoint(\n",
    "    repo_id=MODEL,\n",
    "    task=\"text-generation\",\n",
    "    max_new_tokens=512,\n",
    "    do_sample=False,\n",
    "    repetition_penalty=1.03,\n",
    ")\n",
    "# Create the chat model\n",
    "llm = ChatHuggingFace(llm=model)\n",
    "\n",
    "# Nodes\n",
    "def filter_messages(state: State):\n",
    "    # Delete all but the 2 most recent messages\n",
    "    delete_messages = [RemoveMessage(id=m.id) for m in state[\"messages\"][:-2]]\n",
    "    return {\"messages\": delete_messages}\n",
    "\n",
    "def chat_model_node(state: State):    \n",
    "    return {\"messages\": [llm.invoke(state[\"messages\"])]}\n",
    "\n",
    "# Create graph builder\n",
    "graph_builder = StateGraph(State)\n",
    "\n",
    "# Add nodes\n",
    "graph_builder.add_node(\"filter_messages_node\", filter_messages)\n",
    "graph_builder.add_node(\"chatbot_node\", chat_model_node)\n",
    "\n",
    "# Connecto nodes\n",
    "graph_builder.add_edge(START, \"filter_messages_node\")\n",
    "graph_builder.add_edge(\"filter_messages_node\", \"chatbot_node\")\n",
    "graph_builder.add_edge(\"chatbot_node\", END)\n",
    "\n",
    "# Compile the graph\n",
    "graph = graph_builder.compile()\n",
    "\n",
    "display(Image(graph.get_graph().draw_mermaid_png()))"
   ]
  },
  {
   "cell_type": "markdown",
   "metadata": {},
   "source": [
    "Como vemos en el grafo, primero filtramos los mensajes y luego pasamos el resultado al modelo."
   ]
  },
  {
   "cell_type": "markdown",
   "metadata": {},
   "source": [
    "Volvemos a crear un contexto que le pasaremos al modelo, pero ahora con más mensajes"
   ]
  },
  {
   "cell_type": "code",
   "execution_count": 32,
   "metadata": {},
   "outputs": [
    {
     "name": "stdout",
     "output_type": "stream",
     "text": [
      "==================================\u001b[1m Ai Message \u001b[0m==================================\n",
      "Name: Bot\n",
      "\n",
      "So you said you were researching ocean mammals?\n",
      "================================\u001b[1m Human Message \u001b[0m=================================\n",
      "Name: Lance\n",
      "\n",
      "Yes, I know about whales. But what others should I learn about?\n",
      "==================================\u001b[1m Ai Message \u001b[0m==================================\n",
      "Name: Bot\n",
      "\n",
      "I know about sharks too\n",
      "================================\u001b[1m Human Message \u001b[0m=================================\n",
      "Name: Lance\n",
      "\n",
      "What others should I learn about?\n",
      "==================================\u001b[1m Ai Message \u001b[0m==================================\n",
      "Name: Bot\n",
      "\n",
      "I know about dolphins too\n",
      "================================\u001b[1m Human Message \u001b[0m=================================\n",
      "Name: Lance\n",
      "\n",
      "Tell me more about dolphins\n"
     ]
    }
   ],
   "source": [
    "from langchain_core.messages import AIMessage, HumanMessage\n",
    "\n",
    "messages = [AIMessage(f\"So you said you were researching ocean mammals?\", name=\"Bot\")]\n",
    "messages.append(HumanMessage(f\"Yes, I know about whales. But what others should I learn about?\", name=\"Lance\"))\n",
    "messages.append(AIMessage(f\"I know about sharks too\", name=\"Bot\"))\n",
    "messages.append(HumanMessage(f\"What others should I learn about?\", name=\"Lance\"))\n",
    "messages.append(AIMessage(f\"I know about dolphins too\", name=\"Bot\"))\n",
    "messages.append(HumanMessage(f\"Tell me more about dolphins\", name=\"Lance\"))\n",
    "\n",
    "for m in messages:\n",
    "    m.pretty_print()"
   ]
  },
  {
   "cell_type": "markdown",
   "metadata": {},
   "source": [
    "Si se lo pasamos al grafo obtendremos la salida"
   ]
  },
  {
   "cell_type": "code",
   "execution_count": 33,
   "metadata": {},
   "outputs": [
    {
     "name": "stdout",
     "output_type": "stream",
     "text": [
      "==================================\u001b[1m Ai Message \u001b[0m==================================\n",
      "Name: Bot\n",
      "\n",
      "I know about dolphins too\n",
      "================================\u001b[1m Human Message \u001b[0m=================================\n",
      "Name: Lance\n",
      "\n",
      "Tell me more about dolphins\n",
      "==================================\u001b[1m Ai Message \u001b[0m==================================\n",
      "\n",
      "Dolphins are highly intelligent marine mammals that are part of the family Delphinidae, which includes about 40 species. They are found in oceans worldwide, from tropical to temperate regions, and are known for their agility and playful behavior. Here are some interesting facts about dolphins:\n",
      "\n",
      "1. **Social Behavior**: Dolphins are highly social animals and often live in groups called pods, which can range from a few individuals to several hundred. Social interactions are complex and include cooperative behaviors, such as hunting and defending against predators.\n",
      "\n",
      "2. **Communication**: Dolphins communicate using a variety of sounds, including clicks, whistles, and body language. These sounds can be used for navigation (echolocation), communication, and social bonding. Each dolphin has a unique signature whistle that helps identify it to others in the pod.\n",
      "\n",
      "3. **Intelligence**: Dolphins are considered one of the most intelligent animals on Earth. They have large brains and display behaviors such as problem-solving, mimicry, and even the use of tools. Some studies suggest that dolphins can recognize themselves in mirrors, indicating a level of self-awareness.\n",
      "\n",
      "4. **Diet**: Dolphins are carnivores and primarily feed on fish and squid. They use echolocation to locate and catch their prey. Some species, like the bottlenose dolphin, have been observed using teamwork to herd fish into tight groups, making them easier to catch.\n",
      "\n",
      "5. **Reproduction**: Dolphins typically give birth to a single calf after a gestation period of about 10 to 12 months. Calves are born tail-first and are immediately helped to the surface for their first breath by their mother or another dolphin. Calves nurse for up to two years and remain dependent on their mothers for a significant period.\n",
      "\n",
      "6. **Conservation**: Many dolphin species are threatened by human activities such as pollution, overfishing, and habitat destruction. Some species, like the Indo-Pacific humpback dolphin and the Amazon river dolphin, are endangered. Conservation efforts are crucial to protect these animals and their habitats.\n",
      "\n",
      "7. **Human Interaction**: Dolphins have a long history of interaction with humans, often appearing in mythology and literature. In some cultures, they are considered sacred or bring good luck. Today, dolphins are popular in marine parks and are often the focus of eco-tourism activities, such as dolphin-watching tours.\n",
      "\n",
      "Dolphins continue to fascinate scientists and the general public alike, with ongoing research into their behavior, communication, and social structures providing new insights into these remarkable creatures.\n"
     ]
    }
   ],
   "source": [
    "output = graph.invoke({'messages': messages})\n",
    "for m in output['messages']:\n",
    "    m.pretty_print()"
   ]
  },
  {
   "cell_type": "markdown",
   "metadata": {},
   "source": [
    "Como se puede ver, se ha pasado como contexto los dos últimos mensajes."
   ]
  },
  {
   "cell_type": "markdown",
   "metadata": {},
   "source": [
    "##### Recortar mensajes"
   ]
  },
  {
   "cell_type": "markdown",
   "metadata": {},
   "source": [
    "Otra solución es recortar cada mensaje de la lista de mensajes, se establece un límite de tokens y se elimina el mensaje que supera ese límite."
   ]
  },
  {
   "cell_type": "code",
   "execution_count": 5,
   "metadata": {},
   "outputs": [
    {
     "data": {
      "image/png": "[encoded data removed]",
      "text/plain": [
       "<IPython.core.display.Image object>"
      ]
     },
     "metadata": {},
     "output_type": "display_data"
    }
   ],
   "source": [
    "from typing import Annotated\n",
    "from typing_extensions import TypedDict\n",
    "from langgraph.graph import StateGraph, START, END\n",
    "from langgraph.graph.message import add_messages\n",
    "from langchain_huggingface import HuggingFaceEndpoint, ChatHuggingFace\n",
    "from langchain_core.messages import trim_messages\n",
    "from huggingface_hub import login\n",
    "from IPython.display import Image, display\n",
    "import os\n",
    "import dotenv\n",
    "\n",
    "dotenv.load_dotenv()\n",
    "HUGGINGFACE_TOKEN = os.getenv(\"HUGGINGFACE_LANGGRAPH\")\n",
    "\n",
    "class State(TypedDict):\n",
    "    messages: Annotated[list, add_messages]\n",
    "\n",
    "os.environ[\"LANGCHAIN_TRACING_V2\"] = \"false\"    # Disable LangSmith tracing\n",
    "\n",
    "# Create the LLM model\n",
    "login(token=HUGGINGFACE_TOKEN)  # Login to HuggingFace to use the model\n",
    "MODEL = \"Qwen/Qwen2.5-72B-Instruct\"\n",
    "model = HuggingFaceEndpoint(\n",
    "    repo_id=MODEL,\n",
    "    task=\"text-generation\",\n",
    "    max_new_tokens=512,\n",
    "    do_sample=False,\n",
    "    repetition_penalty=1.03,\n",
    ")\n",
    "# Create the chat model\n",
    "llm = ChatHuggingFace(llm=model)\n",
    "\n",
    "# Nodes\n",
    "def trim_messages_node(state: State):\n",
    "    # Trim the messages based on the specified parameters\n",
    "    trimmed_messages = trim_messages(\n",
    "        state[\"messages\"],\n",
    "        max_tokens=100,       # Maximum tokens allowed in the trimmed list\n",
    "        strategy=\"last\",     # Keep the latest messages\n",
    "        token_counter=llm,   # Use the LLM's tokenizer to count tokens\n",
    "        allow_partial=True,  # Allow cutting messages mid-way if needed\n",
    "    )\n",
    "\n",
    "    # Print the trimmed messages to see the effect of trim_messages\n",
    "    print(\"--- trimmed messages (input to LLM) ---\")\n",
    "    for m in trimmed_messages:\n",
    "        m.pretty_print()\n",
    "    print(\"------------------------------------------------\")\n",
    "\n",
    "    # Invoke the LLM with the trimmed messages\n",
    "    response = llm.invoke(trimmed_messages)\n",
    "\n",
    "    # Return the LLM's response in the correct state format\n",
    "    return {\"messages\": [response]}\n",
    "\n",
    "# Create graph builder\n",
    "graph_builder = StateGraph(State)\n",
    "\n",
    "# Add nodes\n",
    "graph_builder.add_node(\"trim_messages_node\", trim_messages_node)\n",
    "\n",
    "# Connecto nodes\n",
    "graph_builder.add_edge(START, \"trim_messages_node\")\n",
    "graph_builder.add_edge(\"trim_messages_node\", END)\n",
    "\n",
    "# Compile the graph\n",
    "graph = graph_builder.compile()\n",
    "\n",
    "display(Image(graph.get_graph().draw_mermaid_png()))"
   ]
  },
  {
   "cell_type": "markdown",
   "metadata": {},
   "source": [
    "Como vemos en el grafo, primero filtramos los mensajes y luego pasamos el resultado al modelo."
   ]
  },
  {
   "cell_type": "markdown",
   "metadata": {},
   "source": [
    "Volvemos a crear un contexto que le pasaremos al modelo, pero ahora con más mensajes"
   ]
  },
  {
   "cell_type": "code",
   "execution_count": 2,
   "metadata": {},
   "outputs": [
    {
     "name": "stdout",
     "output_type": "stream",
     "text": [
      "==================================\u001b[1m Ai Message \u001b[0m==================================\n",
      "Name: Bot\n",
      "\n",
      "So you said you were researching ocean mammals?\n",
      "================================\u001b[1m Human Message \u001b[0m=================================\n",
      "Name: Lance\n",
      "\n",
      "Yes, I know about whales. But what others should I learn about?\n",
      "==================================\u001b[1m Ai Message \u001b[0m==================================\n",
      "Name: Bot\n",
      "\n",
      "I know about sharks too. They are very dangerous, but they are also very beautiful.\n",
      "Sometimes have been seen in the wild, but they are not very common. In the wild, they are very dangerous, but they are also very beautiful.\n",
      "They live in the sea and in the ocean. They can travel long distances and can be found in many parts of the world.\n",
      "Often they live in groups of 20 or more, but they are not very common.\n",
      "They should eat a lot of food. Normally they eat a lot of fish.\n",
      "The white shark is the largest of the sharks and is the most dangerous.\n",
      "The great white shark is the most famous of the sharks and is the most dangerous.\n",
      "The tiger shark is the most aggressive of the sharks and is the most dangerous.\n",
      "The hammerhead shark is the most beautiful of the sharks and is the most dangerous.\n",
      "The mako shark is the fastest of the sharks and is the most dangerous.\n",
      "The bull shark is the most common of the sharks and is the most dangerous.\n",
      "================================\u001b[1m Human Message \u001b[0m=================================\n",
      "Name: Lance\n",
      "\n",
      "What others should I learn about?\n",
      "==================================\u001b[1m Ai Message \u001b[0m==================================\n",
      "Name: Bot\n",
      "\n",
      "I know about dolphins too\n",
      "================================\u001b[1m Human Message \u001b[0m=================================\n",
      "Name: Lance\n",
      "\n",
      "Tell me more about dolphins\n"
     ]
    }
   ],
   "source": [
    "from langchain_core.messages import AIMessage, HumanMessage\n",
    "\n",
    "messages = [AIMessage(f\"So you said you were researching ocean mammals?\", name=\"Bot\")]\n",
    "messages.append(HumanMessage(f\"Yes, I know about whales. But what others should I learn about?\", name=\"Lance\"))\n",
    "messages.append(AIMessage(f\"\"\"I know about sharks too. They are very dangerous, but they are also very beautiful.\n",
    "Sometimes have been seen in the wild, but they are not very common. In the wild, they are very dangerous, but they are also very beautiful.\n",
    "They live in the sea and in the ocean. They can travel long distances and can be found in many parts of the world.\n",
    "Often they live in groups of 20 or more, but they are not very common.\n",
    "They should eat a lot of food. Normally they eat a lot of fish.\n",
    "The white shark is the largest of the sharks and is the most dangerous.\n",
    "The great white shark is the most famous of the sharks and is the most dangerous.\n",
    "The tiger shark is the most aggressive of the sharks and is the most dangerous.\n",
    "The hammerhead shark is the most beautiful of the sharks and is the most dangerous.\n",
    "The mako shark is the fastest of the sharks and is the most dangerous.\n",
    "The bull shark is the most common of the sharks and is the most dangerous.\n",
    "\"\"\", name=\"Bot\"))\n",
    "messages.append(HumanMessage(f\"What others should I learn about?\", name=\"Lance\"))\n",
    "messages.append(AIMessage(f\"I know about dolphins too\", name=\"Bot\"))\n",
    "messages.append(HumanMessage(f\"Tell me more about dolphins\", name=\"Lance\"))\n",
    "\n",
    "for m in messages:\n",
    "    m.pretty_print()"
   ]
  },
  {
   "cell_type": "markdown",
   "metadata": {},
   "source": [
    "Si se lo pasamos al grafo obtendremos la salida"
   ]
  },
  {
   "cell_type": "code",
   "execution_count": 4,
   "metadata": {},
   "outputs": [
    {
     "name": "stdout",
     "output_type": "stream",
     "text": [
      "--- trimmed messages (input to LLM) ---\n",
      "==================================\u001b[1m Ai Message \u001b[0m==================================\n",
      "Name: Bot\n",
      "\n",
      "The tiger shark is the most aggressive of the sharks and is the most dangerous.\n",
      "The hammerhead shark is the most beautiful of the sharks and is the most dangerous.\n",
      "The mako shark is the fastest of the sharks and is the most dangerous.\n",
      "The bull shark is the most common of the sharks and is the most dangerous.\n",
      "================================\u001b[1m Human Message \u001b[0m=================================\n",
      "Name: Lance\n",
      "\n",
      "What others should I learn about?\n",
      "==================================\u001b[1m Ai Message \u001b[0m==================================\n",
      "Name: Bot\n",
      "\n",
      "I know about dolphins too\n",
      "================================\u001b[1m Human Message \u001b[0m=================================\n",
      "Name: Lance\n",
      "\n",
      "Tell me more about dolphins\n",
      "------------------------------------------------\n"
     ]
    }
   ],
   "source": [
    "output = graph.invoke({'messages': messages})"
   ]
  },
  {
   "cell_type": "markdown",
   "metadata": {},
   "source": [
    "Como se puede ver se ha recortado el contexto que se le pasa al LLM, vamos a ver la salida del LLM"
   ]
  },
  {
   "cell_type": "code",
   "execution_count": 5,
   "metadata": {},
   "outputs": [
    {
     "name": "stdout",
     "output_type": "stream",
     "text": [
      "==================================\u001b[1m Ai Message \u001b[0m==================================\n",
      "Name: Bot\n",
      "\n",
      "So you said you were researching ocean mammals?\n",
      "================================\u001b[1m Human Message \u001b[0m=================================\n",
      "Name: Lance\n",
      "\n",
      "Yes, I know about whales. But what others should I learn about?\n",
      "==================================\u001b[1m Ai Message \u001b[0m==================================\n",
      "Name: Bot\n",
      "\n",
      "I know about sharks too. They are very dangerous, but they are also very beautiful.\n",
      "Sometimes have been seen in the wild, but they are not very common. In the wild, they are very dangerous, but they are also very beautiful.\n",
      "They live in the sea and in the ocean. They can travel long distances and can be found in many parts of the world.\n",
      "Often they live in groups of 20 or more, but they are not very common.\n",
      "They should eat a lot of food. Normally they eat a lot of fish.\n",
      "The white shark is the largest of the sharks and is the most dangerous.\n",
      "The great white shark is the most famous of the sharks and is the most dangerous.\n",
      "The tiger shark is the most aggressive of the sharks and is the most dangerous.\n",
      "The hammerhead shark is the most beautiful of the sharks and is the most dangerous.\n",
      "The mako shark is the fastest of the sharks and is the most dangerous.\n",
      "The bull shark is the most common of the sharks and is the most dangerous.\n",
      "================================\u001b[1m Human Message \u001b[0m=================================\n",
      "Name: Lance\n",
      "\n",
      "What others should I learn about?\n",
      "==================================\u001b[1m Ai Message \u001b[0m==================================\n",
      "Name: Bot\n",
      "\n",
      "I know about dolphins too\n",
      "================================\u001b[1m Human Message \u001b[0m=================================\n",
      "Name: Lance\n",
      "\n",
      "Tell me more about dolphins\n",
      "==================================\u001b[1m Ai Message \u001b[0m==================================\n",
      "\n",
      "Certainly! Dolphins are intelligent marine mammals that are part of the family Delphinidae, which includes nearly 40 species. Here are some interesting facts about dolphins:\n",
      "\n",
      "1. **Intelligence**: Dolphins are known for their high intelligence and have large brains relative to their body size. They exhibit behaviors that suggest social complexity, self-awareness, and problem-solving skills. For example, they can recognize themselves in mirrors, a trait shared by only a few other species.\n",
      "\n",
      "2. **Communication**: Dolphins communicate using a variety of clicks, whistles, and body language. Each dolphin has a unique \"signature whistle\" that helps identify it to others, similar to a human name. They use echolocation to navigate and locate prey by emitting clicks and interpreting the echoes that bounce back.\n",
      "\n",
      "3. **Social Structure**: Dolphins are highly social animals and often live in groups called pods. These pods can vary in size from a few individuals to several hundred. Within these groups, dolphins form complex social relationships and often cooperate to hunt and protect each other from predators.\n",
      "\n",
      "4. **Habitat**: Dolphins are found in all the world's oceans and in some rivers. Different species have adapted to various environments, from tropical waters to the cooler regions of the open sea. Some species, like the Amazon river dolphin (also known as the boto), live in freshwater rivers.\n",
      "\n",
      "5. **Diet**: Dolphins are carnivores and primarily eat fish, squid, and crustaceans. Their diet can vary depending on the species and their habitat. Some species, like the killer whale (which is actually a large dolphin), can even hunt larger marine mammals.\n",
      "\n",
      "6. **Reproduction**: Dolphins have a long gestation period, typically around 10 to 12 months. Calves are born tail-first and are nursed by their mothers for up to two years. Dolphins often form strong bonds with their offspring and other members of their pod.\n",
      "\n",
      "7. **Conservation**: Many species of dolphins face threats such as pollution, overfishing, and entanglement in fishing nets. Conservation efforts are ongoing to protect these animals and their habitats. Organizations like the International Union for Conservation of Nature (IUCN) and the World Wildlife Fund (WWF) work to raise awareness and implement conservation measures.\n",
      "\n",
      "8. **Cultural Significance**: Dolphins have been a source of fascination and inspiration for humans for centuries. They appear in myths, legends, and art across many cultures and are often seen as symbols of intelligence, playfulness, and freedom.\n",
      "\n",
      "Dolphins are truly remarkable creatures with a lot to teach us about social behavior, communication, and the complexities of marine ecosystems. If you have any specific questions or want to know more about a particular species, feel free to ask!\n"
     ]
    }
   ],
   "source": [
    "for m in output['messages']:\n",
    "    m.pretty_print()"
   ]
  },
  {
   "cell_type": "markdown",
   "metadata": {},
   "source": [
    "Con un contexto recortado el LLM sigue contestando"
   ]
  },
  {
   "cell_type": "markdown",
   "metadata": {},
   "source": [
    "##### Modificación del contexto y recorte de mensajes"
   ]
  },
  {
   "cell_type": "markdown",
   "metadata": {},
   "source": [
    "Vamos a juntar las dos técnicas anteriores, modificaremos el contexto y recortaremos los mensajes."
   ]
  },
  {
   "cell_type": "code",
   "execution_count": 7,
   "metadata": {},
   "outputs": [
    {
     "data": {
      "image/png": "[encoded data removed]",
      "text/plain": [
       "<IPython.core.display.Image object>"
      ]
     },
     "metadata": {},
     "output_type": "display_data"
    }
   ],
   "source": [
    "from typing_extensions import TypedDict\n",
    "from langgraph.graph import StateGraph, START, END\n",
    "from langgraph.graph.message import add_messages\n",
    "from langchain_huggingface import HuggingFaceEndpoint, ChatHuggingFace\n",
    "from langchain_core.messages import RemoveMessage, trim_messages\n",
    "from huggingface_hub import login\n",
    "from IPython.display import Image, display\n",
    "import os\n",
    "import dotenv\n",
    "\n",
    "dotenv.load_dotenv()\n",
    "HUGGINGFACE_TOKEN = os.getenv(\"HUGGINGFACE_LANGGRAPH\")\n",
    "\n",
    "class State(TypedDict):\n",
    "    messages: Annotated[list, add_messages]\n",
    "\n",
    "os.environ[\"LANGCHAIN_TRACING_V2\"] = \"false\"    # Disable LangSmith tracing\n",
    "\n",
    "# Create the LLM model\n",
    "login(token=HUGGINGFACE_TOKEN)  # Login to HuggingFace to use the model\n",
    "MODEL = \"Qwen/Qwen2.5-72B-Instruct\"\n",
    "model = HuggingFaceEndpoint(\n",
    "    repo_id=MODEL,\n",
    "    task=\"text-generation\",\n",
    "    max_new_tokens=512,\n",
    "    do_sample=False,\n",
    "    repetition_penalty=1.03,\n",
    ")\n",
    "# Create the chat model\n",
    "llm = ChatHuggingFace(llm=model)\n",
    "\n",
    "# Nodes\n",
    "def filter_messages(state: State):\n",
    "    # Delete all but the 2 most recent messages\n",
    "    delete_messages = [RemoveMessage(id=m.id) for m in state[\"messages\"][:-2]]\n",
    "    return {\"messages\": delete_messages}\n",
    "\n",
    "def trim_messages_node(state: State):\n",
    "    # print the messages\n",
    "    print(\"--- messages (input to trim_messages) ---\")\n",
    "    for m in state[\"messages\"]:\n",
    "        m.pretty_print()\n",
    "    print(\"------------------------------------------------\")\n",
    "\n",
    "    # Trim the messages based on the specified parameters\n",
    "    trimmed_messages = trim_messages(\n",
    "        state[\"messages\"],\n",
    "        max_tokens=100,       # Maximum tokens allowed in the trimmed list\n",
    "        strategy=\"last\",     # Keep the latest messages\n",
    "        token_counter=llm,   # Use the LLM's tokenizer to count tokens\n",
    "        allow_partial=True,  # Allow cutting messages mid-way if needed\n",
    "    )\n",
    "\n",
    "    # Print the trimmed messages to see the effect of trim_messages\n",
    "    print(\"--- trimmed messages (input to LLM) ---\")\n",
    "    for m in trimmed_messages:\n",
    "        m.pretty_print()\n",
    "    print(\"------------------------------------------------\")\n",
    "\n",
    "    # Invoke the LLM with the trimmed messages\n",
    "    response = llm.invoke(trimmed_messages)\n",
    "\n",
    "    # Return the LLM's response in the correct state format\n",
    "    return {\"messages\": [response]}\n",
    "\n",
    "def chat_model_node(state: State):    \n",
    "    return {\"messages\": [llm.invoke(state[\"messages\"])]}\n",
    "\n",
    "# Create graph builder\n",
    "graph_builder = StateGraph(State)\n",
    "\n",
    "# Add nodes\n",
    "graph_builder.add_node(\"filter_messages_node\", filter_messages)\n",
    "graph_builder.add_node(\"chatbot_node\", chat_model_node)\n",
    "graph_builder.add_node(\"trim_messages_node\", trim_messages_node)\n",
    "\n",
    "# Connecto nodes\n",
    "graph_builder.add_edge(START, \"filter_messages_node\")\n",
    "graph_builder.add_edge(\"filter_messages_node\", \"trim_messages_node\")\n",
    "graph_builder.add_edge(\"trim_messages_node\", \"chatbot_node\")\n",
    "graph_builder.add_edge(\"chatbot_node\", END)\n",
    "\n",
    "# Compile the graph\n",
    "graph = graph_builder.compile()\n",
    "\n",
    "display(Image(graph.get_graph().draw_mermaid_png()))"
   ]
  },
  {
   "cell_type": "markdown",
   "metadata": {},
   "source": [
    "Ahora filtramos quedándonos con los dos últimos mensajes, luego trimamos el contexto para que no se gasten muchos tokens y finalmente pasamos el resultado al modelo."
   ]
  },
  {
   "cell_type": "markdown",
   "metadata": {},
   "source": [
    "Creamos un contexto para pasárselo al grafo"
   ]
  },
  {
   "cell_type": "code",
   "execution_count": 8,
   "metadata": {},
   "outputs": [
    {
     "name": "stdout",
     "output_type": "stream",
     "text": [
      "==================================\u001b[1m Ai Message \u001b[0m==================================\n",
      "Name: Bot\n",
      "\n",
      "So you said you were researching ocean mammals?\n",
      "================================\u001b[1m Human Message \u001b[0m=================================\n",
      "Name: Lance\n",
      "\n",
      "Yes, I know about whales. But what others should I learn about?\n",
      "==================================\u001b[1m Ai Message \u001b[0m==================================\n",
      "Name: Bot\n",
      "\n",
      "I know about dolphins too\n",
      "================================\u001b[1m Human Message \u001b[0m=================================\n",
      "Name: Lance\n",
      "\n",
      "What others should I learn about?\n",
      "==================================\u001b[1m Ai Message \u001b[0m==================================\n",
      "Name: Bot\n",
      "\n",
      "I know about sharks too. They are very dangerous, but they are also very beautiful.\n",
      "Sometimes have been seen in the wild, but they are not very common. In the wild, they are very dangerous, but they are also very beautiful.\n",
      "They live in the sea and in the ocean. They can travel long distances and can be found in many parts of the world.\n",
      "Often they live in groups of 20 or more, but they are not very common.\n",
      "They should eat a lot of food. Normally they eat a lot of fish.\n",
      "The white shark is the largest of the sharks and is the most dangerous.\n",
      "The great white shark is the most famous of the sharks and is the most dangerous.\n",
      "The tiger shark is the most aggressive of the sharks and is the most dangerous.\n",
      "The hammerhead shark is the most beautiful of the sharks and is the most dangerous.\n",
      "The mako shark is the fastest of the sharks and is the most dangerous.\n",
      "The bull shark is the most common of the sharks and is the most dangerous.\n",
      "================================\u001b[1m Human Message \u001b[0m=================================\n",
      "Name: Lance\n",
      "\n",
      "What others should I learn about?\n"
     ]
    }
   ],
   "source": [
    "from langchain_core.messages import AIMessage, HumanMessage\n",
    "\n",
    "messages = [AIMessage(f\"So you said you were researching ocean mammals?\", name=\"Bot\")]\n",
    "messages.append(HumanMessage(f\"Yes, I know about whales. But what others should I learn about?\", name=\"Lance\"))\n",
    "messages.append(AIMessage(f\"I know about dolphins too\", name=\"Bot\"))\n",
    "messages.append(HumanMessage(f\"What others should I learn about?\", name=\"Lance\"))\n",
    "messages.append(AIMessage(f\"\"\"I know about sharks too. They are very dangerous, but they are also very beautiful.\n",
    "Sometimes have been seen in the wild, but they are not very common. In the wild, they are very dangerous, but they are also very beautiful.\n",
    "They live in the sea and in the ocean. They can travel long distances and can be found in many parts of the world.\n",
    "Often they live in groups of 20 or more, but they are not very common.\n",
    "They should eat a lot of food. Normally they eat a lot of fish.\n",
    "The white shark is the largest of the sharks and is the most dangerous.\n",
    "The great white shark is the most famous of the sharks and is the most dangerous.\n",
    "The tiger shark is the most aggressive of the sharks and is the most dangerous.\n",
    "The hammerhead shark is the most beautiful of the sharks and is the most dangerous.\n",
    "The mako shark is the fastest of the sharks and is the most dangerous.\n",
    "The bull shark is the most common of the sharks and is the most dangerous.\n",
    "\"\"\", name=\"Bot\"))\n",
    "messages.append(HumanMessage(f\"What others should I learn about?\", name=\"Lance\"))\n",
    "\n",
    "for m in messages:\n",
    "    m.pretty_print()"
   ]
  },
  {
   "cell_type": "markdown",
   "metadata": {},
   "source": [
    "Se lo pasamos al grafo y obtenemos la salida"
   ]
  },
  {
   "cell_type": "code",
   "execution_count": 9,
   "metadata": {},
   "outputs": [
    {
     "name": "stdout",
     "output_type": "stream",
     "text": [
      "--- messages (input to trim_messages) ---\n",
      "==================================\u001b[1m Ai Message \u001b[0m==================================\n",
      "Name: Bot\n",
      "\n",
      "I know about sharks too. They are very dangerous, but they are also very beautiful.\n",
      "Sometimes have been seen in the wild, but they are not very common. In the wild, they are very dangerous, but they are also very beautiful.\n",
      "They live in the sea and in the ocean. They can travel long distances and can be found in many parts of the world.\n",
      "Often they live in groups of 20 or more, but they are not very common.\n",
      "They should eat a lot of food. Normally they eat a lot of fish.\n",
      "The white shark is the largest of the sharks and is the most dangerous.\n",
      "The great white shark is the most famous of the sharks and is the most dangerous.\n",
      "The tiger shark is the most aggressive of the sharks and is the most dangerous.\n",
      "The hammerhead shark is the most beautiful of the sharks and is the most dangerous.\n",
      "The mako shark is the fastest of the sharks and is the most dangerous.\n",
      "The bull shark is the most common of the sharks and is the most dangerous.\n",
      "================================\u001b[1m Human Message \u001b[0m=================================\n",
      "Name: Lance\n",
      "\n",
      "What others should I learn about?\n",
      "------------------------------------------------\n",
      "--- trimmed messages (input to LLM) ---\n",
      "================================\u001b[1m Human Message \u001b[0m=================================\n",
      "Name: Lance\n",
      "\n",
      "What others should I learn about?\n",
      "------------------------------------------------\n"
     ]
    }
   ],
   "source": [
    "output = graph.invoke({'messages': messages})"
   ]
  },
  {
   "cell_type": "markdown",
   "metadata": {},
   "source": [
    "Como se ve solo nos hemos quedado con el último mensaje, el filtrado ha devuelto los dos últimos mensajes, pero el trimado ha eliminado el penúltimo mensaje por tener más de 100 tokens."
   ]
  },
  {
   "cell_type": "markdown",
   "metadata": {},
   "source": [
    "Vamos a ver qué tenemos a la salida del modelo"
   ]
  },
  {
   "cell_type": "code",
   "execution_count": 10,
   "metadata": {},
   "outputs": [
    {
     "name": "stdout",
     "output_type": "stream",
     "text": [
      "==================================\u001b[1m Ai Message \u001b[0m==================================\n",
      "Name: Bot\n",
      "\n",
      "I know about sharks too. They are very dangerous, but they are also very beautiful.\n",
      "Sometimes have been seen in the wild, but they are not very common. In the wild, they are very dangerous, but they are also very beautiful.\n",
      "They live in the sea and in the ocean. They can travel long distances and can be found in many parts of the world.\n",
      "Often they live in groups of 20 or more, but they are not very common.\n",
      "They should eat a lot of food. Normally they eat a lot of fish.\n",
      "The white shark is the largest of the sharks and is the most dangerous.\n",
      "The great white shark is the most famous of the sharks and is the most dangerous.\n",
      "The tiger shark is the most aggressive of the sharks and is the most dangerous.\n",
      "The hammerhead shark is the most beautiful of the sharks and is the most dangerous.\n",
      "The mako shark is the fastest of the sharks and is the most dangerous.\n",
      "The bull shark is the most common of the sharks and is the most dangerous.\n",
      "================================\u001b[1m Human Message \u001b[0m=================================\n",
      "Name: Lance\n",
      "\n",
      "What others should I learn about?\n",
      "==================================\u001b[1m Ai Message \u001b[0m==================================\n",
      "\n",
      "Certainly! To provide a more tailored response, it would be helpful to know what areas or topics you're interested in. However, here’s a general list of areas that are often considered valuable for personal and professional development:\n",
      "\n",
      "1. **Technology & Digital Skills**: \n",
      "   - Programming languages (Python, JavaScript, etc.)\n",
      "   - Web development (HTML, CSS, React, etc.)\n",
      "   - Data analysis and visualization (SQL, Tableau, Power BI)\n",
      "   - Machine learning and AI\n",
      "   - Cloud computing (AWS, Azure, Google Cloud)\n",
      "\n",
      "2. **Business & Entrepreneurship**:\n",
      "   - Marketing (digital marketing, SEO, content marketing)\n",
      "   - Project management\n",
      "   - Financial literacy\n",
      "   - Leadership and management\n",
      "   -Startup and venture capital\n",
      "\n",
      "3. **Science & Engineering**:\n",
      "   - Biology and genetics\n",
      "   - Physics and materials science\n",
      "   - Environmental science and sustainability\n",
      "   - Robotics and automation\n",
      "   - Aerospace engineering\n",
      "\n",
      "4. **Health & Wellness**:\n",
      "   - Nutrition and dietetics\n",
      "   - Mental health and psychology\n",
      "   - Exercise science\n",
      "   - Yoga and mindfulness\n",
      "   - Traditional and alternative medicine\n",
      "\n",
      "5. **Arts & Humanities**:\n",
      "   - Creative writing and storytelling\n",
      "   - Music and sound production\n",
      "   - Visual arts and design (graphic design, photography)\n",
      "   - Philosophy and ethics\n",
      "   - History and cultural studies\n",
      "\n",
      "6. **Communication & Languages**:\n",
      "   - Public speaking and presentation skills\n",
      "   - Conflict resolution and negotiation\n",
      "   - Learning a new language (Spanish, Mandarin, French, etc.)\n",
      "   - Writing and editing\n",
      "\n",
      "7. **Personal Development**:\n",
      "   - Time management and productivity\n",
      "   - Mindfulness and stress management\n",
      "   - Goal setting and motivation\n",
      "   - Personal finance and budgeting\n",
      "   - Critical thinking and problem solving\n",
      "\n",
      "8. **Social & Environmental Impact**:\n",
      "   - Social entrepreneurship\n",
      "   - Community organizing and activism\n",
      "   - Sustainable living practices\n",
      "   - Climate change and environmental policy\n",
      "\n",
      "If you have a specific area of interest or a particular goal in mind, feel free to share, and I can provide more detailed recommendations!\n",
      "==================================\u001b[1m Ai Message \u001b[0m==================================\n"
     ]
    }
   ],
   "source": [
    "for m in output['messages']:\n",
    "    m.pretty_print()"
   ]
  },
  {
   "cell_type": "markdown",
   "metadata": {},
   "source": [
    "Hemos filtrado tanto el estado que el LLM no tiene contexto suficiente, esto lo vamos a solucionar con la siguiente técnica."
   ]
  },
  {
   "cell_type": "markdown",
   "metadata": {},
   "source": [
    "#### Modos de streaming"
   ]
  },
  {
   "cell_type": "markdown",
   "metadata": {},
   "source": [
    "##### Streaming síncrono"
   ]
  },
  {
   "cell_type": "markdown",
   "metadata": {},
   "source": [
    "En este caso vamos a recibir el resultado del LLM completo de una vez haya terminado de generar el texto."
   ]
  },
  {
   "cell_type": "markdown",
   "metadata": {},
   "source": [
    "Para explicar los modos de streaming sícrono, primero vamos a crear un grafo básico."
   ]
  },
  {
   "cell_type": "code",
   "execution_count": 1,
   "metadata": {},
   "outputs": [
    {
     "data": {
      "image/png": "[encoded data removed]",
      "text/plain": [
       "<IPython.core.display.Image object>"
      ]
     },
     "metadata": {},
     "output_type": "display_data"
    }
   ],
   "source": [
    "from typing import Annotated\n",
    "from typing_extensions import TypedDict\n",
    "from langgraph.graph import StateGraph, START, END\n",
    "from langgraph.graph.message import add_messages\n",
    "from langchain_huggingface import HuggingFaceEndpoint, ChatHuggingFace\n",
    "from langchain_core.messages import HumanMessage\n",
    "from huggingface_hub import login\n",
    "from IPython.display import Image, display\n",
    "import os\n",
    "import dotenv\n",
    "\n",
    "dotenv.load_dotenv()\n",
    "HUGGINGFACE_TOKEN = os.getenv(\"HUGGINGFACE_LANGGRAPH\")\n",
    "\n",
    "class State(TypedDict):\n",
    "    messages: Annotated[list, add_messages]\n",
    "\n",
    "os.environ[\"LANGCHAIN_TRACING_V2\"] = \"false\"    # Disable LangSmith tracing\n",
    "\n",
    "# Create the LLM model\n",
    "login(token=HUGGINGFACE_TOKEN)  # Login to HuggingFace to use the model\n",
    "MODEL = \"Qwen/Qwen2.5-72B-Instruct\"\n",
    "model = HuggingFaceEndpoint(\n",
    "    repo_id=MODEL,\n",
    "    task=\"text-generation\",\n",
    "    max_new_tokens=512,\n",
    "    do_sample=False,\n",
    "    repetition_penalty=1.03,\n",
    ")\n",
    "# Create the chat model\n",
    "llm = ChatHuggingFace(llm=model)\n",
    "\n",
    "# Nodes\n",
    "def chat_model_node(state: State):\n",
    "    # Return the LLM's response in the correct state format\n",
    "    return {\"messages\": [llm.invoke(state[\"messages\"])]}\n",
    "\n",
    "# Create graph builder\n",
    "graph_builder = StateGraph(State)\n",
    "\n",
    "# Add nodes\n",
    "graph_builder.add_node(\"chatbot_node\", chat_model_node)\n",
    "\n",
    "# Connecto nodes\n",
    "graph_builder.add_edge(START, \"chatbot_node\")\n",
    "graph_builder.add_edge(\"chatbot_node\", END)\n",
    "\n",
    "# Compile the graph\n",
    "graph = graph_builder.compile()\n",
    "\n",
    "display(Image(graph.get_graph().draw_mermaid_png()))"
   ]
  },
  {
   "cell_type": "markdown",
   "metadata": {},
   "source": [
    "Ahora tenemos dos maneras de obtener el resultado del LLM, una es mediante el modo `updates` y la otra mediante el modo `values`.\n",
    "\n",
    "![updates vs values](https://cdn.prod.website-files.com/65b8cd72835ceeacd4449a53/66dbaf892d24625a201744e5_streaming1.png)\n",
    "\n",
    "Mientras que `updates` nos da cada nuevo resultado, `values` nos da todo el historial de resultados."
   ]
  },
  {
   "cell_type": "markdown",
   "metadata": {},
   "source": [
    "###### Updates"
   ]
  },
  {
   "cell_type": "code",
   "execution_count": 2,
   "metadata": {},
   "outputs": [
    {
     "name": "stdout",
     "output_type": "stream",
     "text": [
      "Hello Máximo! It's nice to meet you. How can I assist you today? Feel free to ask me any questions or let me know if you need help with anything specific.\n"
     ]
    }
   ],
   "source": [
    "for chunk in graph.stream({\"messages\": [HumanMessage(content=\"hi! I'm Máximo\")]}, stream_mode=\"updates\"):\n",
    "    print(chunk['chatbot_node']['messages'][-1].content)"
   ]
  },
  {
   "cell_type": "markdown",
   "metadata": {},
   "source": [
    "###### Values"
   ]
  },
  {
   "cell_type": "code",
   "execution_count": 3,
   "metadata": {},
   "outputs": [
    {
     "name": "stdout",
     "output_type": "stream",
     "text": [
      "hi! I'm Máximo\n",
      "Hello Máximo! It's nice to meet you. How can I assist you today? Feel free to ask me any questions or let me know if you need help with anything specific.\n"
     ]
    }
   ],
   "source": [
    "for chunk in graph.stream({\"messages\": [HumanMessage(content=\"hi! I'm Máximo\")]}, stream_mode=\"values\"):\n",
    "    print(chunk['messages'][-1].content)"
   ]
  },
  {
   "cell_type": "markdown",
   "metadata": {},
   "source": [
    "##### Streaming asíncrono"
   ]
  },
  {
   "cell_type": "markdown",
   "metadata": {},
   "source": [
    "Ahora vamos a recibir el resultado del LLM token a token. Para ello tenemos que añadir `streaming=True` cuando creamos el LLM de HuggingFace y tenemos que cambiar la función del nodo del chatbot para que sea asíncrona."
   ]
  },
  {
   "cell_type": "code",
   "execution_count": 13,
   "metadata": {},
   "outputs": [
    {
     "data": {
      "image/png": "[encoded data removed]",
      "text/plain": [
       "<IPython.core.display.Image object>"
      ]
     },
     "metadata": {},
     "output_type": "display_data"
    }
   ],
   "source": [
    "from typing import Annotated\n",
    "from typing_extensions import TypedDict\n",
    "from langgraph.graph import StateGraph, START, END\n",
    "from langgraph.graph.message import add_messages\n",
    "from langchain_huggingface import HuggingFaceEndpoint, ChatHuggingFace\n",
    "from langchain_core.messages import HumanMessage\n",
    "from huggingface_hub import login\n",
    "from IPython.display import Image, display\n",
    "import os\n",
    "import dotenv\n",
    "\n",
    "dotenv.load_dotenv()\n",
    "HUGGINGFACE_TOKEN = os.getenv(\"HUGGINGFACE_LANGGRAPH\")\n",
    "\n",
    "class State(TypedDict):\n",
    "    messages: Annotated[list, add_messages]\n",
    "\n",
    "os.environ[\"LANGCHAIN_TRACING_V2\"] = \"false\"    # Disable LangSmith tracing\n",
    "\n",
    "# Create the LLM model\n",
    "login(token=HUGGINGFACE_TOKEN)  # Login to HuggingFace to use the model\n",
    "MODEL = \"Qwen/Qwen2.5-72B-Instruct\"\n",
    "model = HuggingFaceEndpoint(\n",
    "    repo_id=MODEL,\n",
    "    task=\"text-generation\",\n",
    "    max_new_tokens=512,\n",
    "    do_sample=False,\n",
    "    repetition_penalty=1.03,\n",
    "    streaming=True,\n",
    ")\n",
    "# Create the chat model\n",
    "llm = ChatHuggingFace(llm=model)\n",
    "\n",
    "# Nodes\n",
    "async def chat_model_node(state: State):\n",
    "    async for token in llm.astream_log(state[\"messages\"]):\n",
    "        yield {\"messages\": [token]}\n",
    "\n",
    "# Create graph builder\n",
    "graph_builder = StateGraph(State)\n",
    "\n",
    "# Add nodes\n",
    "graph_builder.add_node(\"chatbot_node\", chat_model_node)\n",
    "\n",
    "# Connecto nodes\n",
    "graph_builder.add_edge(START, \"chatbot_node\")\n",
    "graph_builder.add_edge(\"chatbot_node\", END)\n",
    "\n",
    "# Compile the graph\n",
    "graph = graph_builder.compile()\n",
    "\n",
    "display(Image(graph.get_graph().draw_mermaid_png()))"
   ]
  },
  {
   "cell_type": "markdown",
   "metadata": {},
   "source": [
    "Como se puede ver la función se ha creado asíncrona y se ha convertido en una generador ya que el `yield` devuelve un valor y pausa la ejecución de la función hasta que se llame de nuevo."
   ]
  },
  {
   "cell_type": "markdown",
   "metadata": {},
   "source": [
    "Vamos a ejecutar el grafo de forma aíncrona y vemos los tipos de eventos que se generan."
   ]
  },
  {
   "cell_type": "code",
   "execution_count": 7,
   "metadata": {},
   "outputs": [
    {
     "name": "stdout",
     "output_type": "stream",
     "text": [
      "event: {'event': 'on_chain_start', 'data': {'input': {'messages': [HumanMessage(content=\"hi! I'm Máximo\", additional_kwargs={}, response_metadata={})]}}, 'name': 'LangGraph', 'tags': [], 'run_id': 'c9c40a00-157a-4229-a0d1-fda00e7bfd34', 'metadata': {}, 'parent_ids': []}\n",
      "event: {'event': 'on_chain_start', 'data': {'input': {'messages': [HumanMessage(content=\"hi! I'm Máximo\", additional_kwargs={}, response_metadata={}, id='6469501c-07b0-42e4-a3e6-f133ace1860c')]}}, 'name': 'chatbot_node', 'tags': ['graph:step:1'], 'run_id': '638828c0-4add-4141-b6b6-484446100237', 'metadata': {'langgraph_step': 1, 'langgraph_node': 'chatbot_node', 'langgraph_triggers': ('branch:to:chatbot_node',), 'langgraph_path': ('__pregel_pull', 'chatbot_node'), 'langgraph_checkpoint_ns': 'chatbot_node:b7599990-0c1a-4133-fb2c-f32105784fbd'}, 'parent_ids': ['c9c40a00-157a-4229-a0d1-fda00e7bfd34']}\n",
      "event: {'event': 'on_chain_start', 'data': {}, 'name': 'chatbot_node', 'tags': ['seq:step:1'], 'run_id': '15247b1a-1cd6-4863-9402-66499f921244', 'metadata': {'langgraph_step': 1, 'langgraph_node': 'chatbot_node', 'langgraph_triggers': ('branch:to:chatbot_node',), 'langgraph_path': ('__pregel_pull', 'chatbot_node'), 'langgraph_checkpoint_ns': 'chatbot_node:b7599990-0c1a-4133-fb2c-f32105784fbd', 'checkpoint_ns': 'chatbot_node:b7599990-0c1a-4133-fb2c-f32105784fbd'}, 'parent_ids': ['c9c40a00-157a-4229-a0d1-fda00e7bfd34', '638828c0-4add-4141-b6b6-484446100237']}\n",
      "event: {'event': 'on_chat_model_start', 'data': {'input': {'messages': [[HumanMessage(content=\"hi! I'm Máximo\", additional_kwargs={}, response_metadata={}, id='6469501c-07b0-42e4-a3e6-f133ace1860c')]]}}, 'name': 'ChatHuggingFace', 'tags': [], 'run_id': '74dfdbb9-4c2d-4a08-ad7d-795b5953cae3', 'metadata': {'langgraph_step': 1, 'langgraph_node': 'chatbot_node', 'langgraph_triggers': ('branch:to:chatbot_node',), 'langgraph_path': ('__pregel_pull', 'chatbot_node'), 'langgraph_checkpoint_ns': 'chatbot_node:b7599990-0c1a-4133-fb2c-f32105784fbd', 'checkpoint_ns': 'chatbot_node:b7599990-0c1a-4133-fb2c-f32105784fbd', 'ls_provider': 'huggingface', 'ls_model_type': 'chat'}, 'parent_ids': ['c9c40a00-157a-4229-a0d1-fda00e7bfd34', '638828c0-4add-4141-b6b6-484446100237', '15247b1a-1cd6-4863-9402-66499f921244']}\n",
      "event: {'event': 'on_chain_stream', 'run_id': '15247b1a-1cd6-4863-9402-66499f921244', 'name': 'chatbot_node', 'tags': ['seq:step:1'], 'metadata': {'langgraph_step': 1, 'langgraph_node': 'chatbot_node', 'langgraph_triggers': ('branch:to:chatbot_node',), 'langgraph_path': ('__pregel_pull', 'chatbot_node'), 'langgraph_checkpoint_ns': 'chatbot_node:b7599990-0c1a-4133-fb2c-f32105784fbd', 'checkpoint_ns': 'chatbot_node:b7599990-0c1a-4133-fb2c-f32105784fbd'}, 'data': {'chunk': {'messages': [RunLogPatch({'op': 'replace',\n",
      "  'path': '',\n",
      "  'value': {'final_output': None,\n",
      "            'id': '74dfdbb9-4c2d-4a08-ad7d-795b5953cae3',\n",
      "            'logs': {},\n",
      "            'name': 'ChatHuggingFace',\n",
      "            'streamed_output': [],\n",
      "            'type': 'llm'}})]}}, 'parent_ids': ['c9c40a00-157a-4229-a0d1-fda00e7bfd34', '638828c0-4add-4141-b6b6-484446100237']}\n",
      "event: {'event': 'on_chat_model_stream', 'data': {'chunk': AIMessageChunk(content='Hello', additional_kwargs={}, response_metadata={})}, 'run_id': '74dfdbb9-4c2d-4a08-ad7d-795b5953cae3', 'name': 'ChatHuggingFace', 'tags': [], 'metadata': {'langgraph_step': 1, 'langgraph_node': 'chatbot_node', 'langgraph_triggers': ('branch:to:chatbot_node',), 'langgraph_path': ('__pregel_pull', 'chatbot_node'), 'langgraph_checkpoint_ns': 'chatbot_node:b7599990-0c1a-4133-fb2c-f32105784fbd', 'checkpoint_ns': 'chatbot_node:b7599990-0c1a-4133-fb2c-f32105784fbd', 'ls_provider': 'huggingface', 'ls_model_type': 'chat'}, 'parent_ids': ['c9c40a00-157a-4229-a0d1-fda00e7bfd34', '638828c0-4add-4141-b6b6-484446100237', '15247b1a-1cd6-4863-9402-66499f921244']}\n",
      "event: {'event': 'on_chat_model_stream', 'data': {'chunk': AIMessageChunk(content=' Má', additional_kwargs={}, response_metadata={})}, 'run_id': '74dfdbb9-4c2d-4a08-ad7d-795b5953cae3', 'name': 'ChatHuggingFace', 'tags': [], 'metadata': {'langgraph_step': 1, 'langgraph_node': 'chatbot_node', 'langgraph_triggers': ('branch:to:chatbot_node',), 'langgraph_path': ('__pregel_pull', 'chatbot_node'), 'langgraph_checkpoint_ns': 'chatbot_node:b7599990-0c1a-4133-fb2c-f32105784fbd', 'checkpoint_ns': 'chatbot_node:b7599990-0c1a-4133-fb2c-f32105784fbd', 'ls_provider': 'huggingface', 'ls_model_type': 'chat'}, 'parent_ids': ['c9c40a00-157a-4229-a0d1-fda00e7bfd34', '638828c0-4add-4141-b6b6-484446100237', '15247b1a-1cd6-4863-9402-66499f921244']}\n",
      "event: {'event': 'on_chat_model_stream', 'data': {'chunk': AIMessageChunk(content='ximo', additional_kwargs={}, response_metadata={})}, 'run_id': '74dfdbb9-4c2d-4a08-ad7d-795b5953cae3', 'name': 'ChatHuggingFace', 'tags': [], 'metadata': {'langgraph_step': 1, 'langgraph_node': 'chatbot_node', 'langgraph_triggers': ('branch:to:chatbot_node',), 'langgraph_path': ('__pregel_pull', 'chatbot_node'), 'langgraph_checkpoint_ns': 'chatbot_node:b7599990-0c1a-4133-fb2c-f32105784fbd', 'checkpoint_ns': 'chatbot_node:b7599990-0c1a-4133-fb2c-f32105784fbd', 'ls_provider': 'huggingface', 'ls_model_type': 'chat'}, 'parent_ids': ['c9c40a00-157a-4229-a0d1-fda00e7bfd34', '638828c0-4add-4141-b6b6-484446100237', '15247b1a-1cd6-4863-9402-66499f921244']}\n",
      "event: {'event': 'on_chat_model_stream', 'data': {'chunk': AIMessageChunk(content='!', additional_kwargs={}, response_metadata={})}, 'run_id': '74dfdbb9-4c2d-4a08-ad7d-795b5953cae3', 'name': 'ChatHuggingFace', 'tags': [], 'metadata': {'langgraph_step': 1, 'langgraph_node': 'chatbot_node', 'langgraph_triggers': ('branch:to:chatbot_node',), 'langgraph_path': ('__pregel_pull', 'chatbot_node'), 'langgraph_checkpoint_ns': 'chatbot_node:b7599990-0c1a-4133-fb2c-f32105784fbd', 'checkpoint_ns': 'chatbot_node:b7599990-0c1a-4133-fb2c-f32105784fbd', 'ls_provider': 'huggingface', 'ls_model_type': 'chat'}, 'parent_ids': ['c9c40a00-157a-4229-a0d1-fda00e7bfd34', '638828c0-4add-4141-b6b6-484446100237', '15247b1a-1cd6-4863-9402-66499f921244']}\n",
      "event: {'event': 'on_chat_model_stream', 'data': {'chunk': AIMessageChunk(content=' It', additional_kwargs={}, response_metadata={})}, 'run_id': '74dfdbb9-4c2d-4a08-ad7d-795b5953cae3', 'name': 'ChatHuggingFace', 'tags': [], 'metadata': {'langgraph_step': 1, 'langgraph_node': 'chatbot_node', 'langgraph_triggers': ('branch:to:chatbot_node',), 'langgraph_path': ('__pregel_pull', 'chatbot_node'), 'langgraph_checkpoint_ns': 'chatbot_node:b7599990-0c1a-4133-fb2c-f32105784fbd', 'checkpoint_ns': 'chatbot_node:b7599990-0c1a-4133-fb2c-f32105784fbd', 'ls_provider': 'huggingface', 'ls_model_type': 'chat'}, 'parent_ids': ['c9c40a00-157a-4229-a0d1-fda00e7bfd34', '638828c0-4add-4141-b6b6-484446100237', '15247b1a-1cd6-4863-9402-66499f921244']}\n",
      "event: {'event': 'on_chat_model_stream', 'data': {'chunk': AIMessageChunk(content=\"'s\", additional_kwargs={}, response_metadata={})}, 'run_id': '74dfdbb9-4c2d-4a08-ad7d-795b5953cae3', 'name': 'ChatHuggingFace', 'tags': [], 'metadata': {'langgraph_step': 1, 'langgraph_node': 'chatbot_node', 'langgraph_triggers': ('branch:to:chatbot_node',), 'langgraph_path': ('__pregel_pull', 'chatbot_node'), 'langgraph_checkpoint_ns': 'chatbot_node:b7599990-0c1a-4133-fb2c-f32105784fbd', 'checkpoint_ns': 'chatbot_node:b7599990-0c1a-4133-fb2c-f32105784fbd', 'ls_provider': 'huggingface', 'ls_model_type': 'chat'}, 'parent_ids': ['c9c40a00-157a-4229-a0d1-fda00e7bfd34', '638828c0-4add-4141-b6b6-484446100237', '15247b1a-1cd6-4863-9402-66499f921244']}\n",
      "event: {'event': 'on_chat_model_stream', 'data': {'chunk': AIMessageChunk(content=' nice', additional_kwargs={}, response_metadata={})}, 'run_id': '74dfdbb9-4c2d-4a08-ad7d-795b5953cae3', 'name': 'ChatHuggingFace', 'tags': [], 'metadata': {'langgraph_step': 1, 'langgraph_node': 'chatbot_node', 'langgraph_triggers': ('branch:to:chatbot_node',), 'langgraph_path': ('__pregel_pull', 'chatbot_node'), 'langgraph_checkpoint_ns': 'chatbot_node:b7599990-0c1a-4133-fb2c-f32105784fbd', 'checkpoint_ns': 'chatbot_node:b7599990-0c1a-4133-fb2c-f32105784fbd', 'ls_provider': 'huggingface', 'ls_model_type': 'chat'}, 'parent_ids': ['c9c40a00-157a-4229-a0d1-fda00e7bfd34', '638828c0-4add-4141-b6b6-484446100237', '15247b1a-1cd6-4863-9402-66499f921244']}\n",
      "event: {'event': 'on_chat_model_stream', 'data': {'chunk': AIMessageChunk(content=' to', additional_kwargs={}, response_metadata={})}, 'run_id': '74dfdbb9-4c2d-4a08-ad7d-795b5953cae3', 'name': 'ChatHuggingFace', 'tags': [], 'metadata': {'langgraph_step': 1, 'langgraph_node': 'chatbot_node', 'langgraph_triggers': ('branch:to:chatbot_node',), 'langgraph_path': ('__pregel_pull', 'chatbot_node'), 'langgraph_checkpoint_ns': 'chatbot_node:b7599990-0c1a-4133-fb2c-f32105784fbd', 'checkpoint_ns': 'chatbot_node:b7599990-0c1a-4133-fb2c-f32105784fbd', 'ls_provider': 'huggingface', 'ls_model_type': 'chat'}, 'parent_ids': ['c9c40a00-157a-4229-a0d1-fda00e7bfd34', '638828c0-4add-4141-b6b6-484446100237', '15247b1a-1cd6-4863-9402-66499f921244']}\n",
      "event: {'event': 'on_chat_model_stream', 'data': {'chunk': AIMessageChunk(content=' meet', additional_kwargs={}, response_metadata={})}, 'run_id': '74dfdbb9-4c2d-4a08-ad7d-795b5953cae3', 'name': 'ChatHuggingFace', 'tags': [], 'metadata': {'langgraph_step': 1, 'langgraph_node': 'chatbot_node', 'langgraph_triggers': ('branch:to:chatbot_node',), 'langgraph_path': ('__pregel_pull', 'chatbot_node'), 'langgraph_checkpoint_ns': 'chatbot_node:b7599990-0c1a-4133-fb2c-f32105784fbd', 'checkpoint_ns': 'chatbot_node:b7599990-0c1a-4133-fb2c-f32105784fbd', 'ls_provider': 'huggingface', 'ls_model_type': 'chat'}, 'parent_ids': ['c9c40a00-157a-4229-a0d1-fda00e7bfd34', '638828c0-4add-4141-b6b6-484446100237', '15247b1a-1cd6-4863-9402-66499f921244']}\n",
      "event: {'event': 'on_chat_model_stream', 'data': {'chunk': AIMessageChunk(content=' you', additional_kwargs={}, response_metadata={})}, 'run_id': '74dfdbb9-4c2d-4a08-ad7d-795b5953cae3', 'name': 'ChatHuggingFace', 'tags': [], 'metadata': {'langgraph_step': 1, 'langgraph_node': 'chatbot_node', 'langgraph_triggers': ('branch:to:chatbot_node',), 'langgraph_path': ('__pregel_pull', 'chatbot_node'), 'langgraph_checkpoint_ns': 'chatbot_node:b7599990-0c1a-4133-fb2c-f32105784fbd', 'checkpoint_ns': 'chatbot_node:b7599990-0c1a-4133-fb2c-f32105784fbd', 'ls_provider': 'huggingface', 'ls_model_type': 'chat'}, 'parent_ids': ['c9c40a00-157a-4229-a0d1-fda00e7bfd34', '638828c0-4add-4141-b6b6-484446100237', '15247b1a-1cd6-4863-9402-66499f921244']}\n",
      "event: {'event': 'on_chat_model_stream', 'data': {'chunk': AIMessageChunk(content='.', additional_kwargs={}, response_metadata={})}, 'run_id': '74dfdbb9-4c2d-4a08-ad7d-795b5953cae3', 'name': 'ChatHuggingFace', 'tags': [], 'metadata': {'langgraph_step': 1, 'langgraph_node': 'chatbot_node', 'langgraph_triggers': ('branch:to:chatbot_node',), 'langgraph_path': ('__pregel_pull', 'chatbot_node'), 'langgraph_checkpoint_ns': 'chatbot_node:b7599990-0c1a-4133-fb2c-f32105784fbd', 'checkpoint_ns': 'chatbot_node:b7599990-0c1a-4133-fb2c-f32105784fbd', 'ls_provider': 'huggingface', 'ls_model_type': 'chat'}, 'parent_ids': ['c9c40a00-157a-4229-a0d1-fda00e7bfd34', '638828c0-4add-4141-b6b6-484446100237', '15247b1a-1cd6-4863-9402-66499f921244']}\n",
      "event: {'event': 'on_chat_model_stream', 'data': {'chunk': AIMessageChunk(content=' How', additional_kwargs={}, response_metadata={})}, 'run_id': '74dfdbb9-4c2d-4a08-ad7d-795b5953cae3', 'name': 'ChatHuggingFace', 'tags': [], 'metadata': {'langgraph_step': 1, 'langgraph_node': 'chatbot_node', 'langgraph_triggers': ('branch:to:chatbot_node',), 'langgraph_path': ('__pregel_pull', 'chatbot_node'), 'langgraph_checkpoint_ns': 'chatbot_node:b7599990-0c1a-4133-fb2c-f32105784fbd', 'checkpoint_ns': 'chatbot_node:b7599990-0c1a-4133-fb2c-f32105784fbd', 'ls_provider': 'huggingface', 'ls_model_type': 'chat'}, 'parent_ids': ['c9c40a00-157a-4229-a0d1-fda00e7bfd34', '638828c0-4add-4141-b6b6-484446100237', '15247b1a-1cd6-4863-9402-66499f921244']}\n",
      "event: {'event': 'on_chat_model_stream', 'data': {'chunk': AIMessageChunk(content=' can', additional_kwargs={}, response_metadata={})}, 'run_id': '74dfdbb9-4c2d-4a08-ad7d-795b5953cae3', 'name': 'ChatHuggingFace', 'tags': [], 'metadata': {'langgraph_step': 1, 'langgraph_node': 'chatbot_node', 'langgraph_triggers': ('branch:to:chatbot_node',), 'langgraph_path': ('__pregel_pull', 'chatbot_node'), 'langgraph_checkpoint_ns': 'chatbot_node:b7599990-0c1a-4133-fb2c-f32105784fbd', 'checkpoint_ns': 'chatbot_node:b7599990-0c1a-4133-fb2c-f32105784fbd', 'ls_provider': 'huggingface', 'ls_model_type': 'chat'}, 'parent_ids': ['c9c40a00-157a-4229-a0d1-fda00e7bfd34', '638828c0-4add-4141-b6b6-484446100237', '15247b1a-1cd6-4863-9402-66499f921244']}\n",
      "event: {'event': 'on_chat_model_stream', 'data': {'chunk': AIMessageChunk(content=' I', additional_kwargs={}, response_metadata={})}, 'run_id': '74dfdbb9-4c2d-4a08-ad7d-795b5953cae3', 'name': 'ChatHuggingFace', 'tags': [], 'metadata': {'langgraph_step': 1, 'langgraph_node': 'chatbot_node', 'langgraph_triggers': ('branch:to:chatbot_node',), 'langgraph_path': ('__pregel_pull', 'chatbot_node'), 'langgraph_checkpoint_ns': 'chatbot_node:b7599990-0c1a-4133-fb2c-f32105784fbd', 'checkpoint_ns': 'chatbot_node:b7599990-0c1a-4133-fb2c-f32105784fbd', 'ls_provider': 'huggingface', 'ls_model_type': 'chat'}, 'parent_ids': ['c9c40a00-157a-4229-a0d1-fda00e7bfd34', '638828c0-4add-4141-b6b6-484446100237', '15247b1a-1cd6-4863-9402-66499f921244']}\n",
      "event: {'event': 'on_chat_model_stream', 'data': {'chunk': AIMessageChunk(content=' assist', additional_kwargs={}, response_metadata={})}, 'run_id': '74dfdbb9-4c2d-4a08-ad7d-795b5953cae3', 'name': 'ChatHuggingFace', 'tags': [], 'metadata': {'langgraph_step': 1, 'langgraph_node': 'chatbot_node', 'langgraph_triggers': ('branch:to:chatbot_node',), 'langgraph_path': ('__pregel_pull', 'chatbot_node'), 'langgraph_checkpoint_ns': 'chatbot_node:b7599990-0c1a-4133-fb2c-f32105784fbd', 'checkpoint_ns': 'chatbot_node:b7599990-0c1a-4133-fb2c-f32105784fbd', 'ls_provider': 'huggingface', 'ls_model_type': 'chat'}, 'parent_ids': ['c9c40a00-157a-4229-a0d1-fda00e7bfd34', '638828c0-4add-4141-b6b6-484446100237', '15247b1a-1cd6-4863-9402-66499f921244']}\n",
      "event: {'event': 'on_chat_model_stream', 'data': {'chunk': AIMessageChunk(content=' you', additional_kwargs={}, response_metadata={})}, 'run_id': '74dfdbb9-4c2d-4a08-ad7d-795b5953cae3', 'name': 'ChatHuggingFace', 'tags': [], 'metadata': {'langgraph_step': 1, 'langgraph_node': 'chatbot_node', 'langgraph_triggers': ('branch:to:chatbot_node',), 'langgraph_path': ('__pregel_pull', 'chatbot_node'), 'langgraph_checkpoint_ns': 'chatbot_node:b7599990-0c1a-4133-fb2c-f32105784fbd', 'checkpoint_ns': 'chatbot_node:b7599990-0c1a-4133-fb2c-f32105784fbd', 'ls_provider': 'huggingface', 'ls_model_type': 'chat'}, 'parent_ids': ['c9c40a00-157a-4229-a0d1-fda00e7bfd34', '638828c0-4add-4141-b6b6-484446100237', '15247b1a-1cd6-4863-9402-66499f921244']}\n",
      "event: {'event': 'on_chat_model_stream', 'data': {'chunk': AIMessageChunk(content=' today', additional_kwargs={}, response_metadata={})}, 'run_id': '74dfdbb9-4c2d-4a08-ad7d-795b5953cae3', 'name': 'ChatHuggingFace', 'tags': [], 'metadata': {'langgraph_step': 1, 'langgraph_node': 'chatbot_node', 'langgraph_triggers': ('branch:to:chatbot_node',), 'langgraph_path': ('__pregel_pull', 'chatbot_node'), 'langgraph_checkpoint_ns': 'chatbot_node:b7599990-0c1a-4133-fb2c-f32105784fbd', 'checkpoint_ns': 'chatbot_node:b7599990-0c1a-4133-fb2c-f32105784fbd', 'ls_provider': 'huggingface', 'ls_model_type': 'chat'}, 'parent_ids': ['c9c40a00-157a-4229-a0d1-fda00e7bfd34', '638828c0-4add-4141-b6b6-484446100237', '15247b1a-1cd6-4863-9402-66499f921244']}\n",
      "event: {'event': 'on_chat_model_stream', 'data': {'chunk': AIMessageChunk(content='?', additional_kwargs={}, response_metadata={})}, 'run_id': '74dfdbb9-4c2d-4a08-ad7d-795b5953cae3', 'name': 'ChatHuggingFace', 'tags': [], 'metadata': {'langgraph_step': 1, 'langgraph_node': 'chatbot_node', 'langgraph_triggers': ('branch:to:chatbot_node',), 'langgraph_path': ('__pregel_pull', 'chatbot_node'), 'langgraph_checkpoint_ns': 'chatbot_node:b7599990-0c1a-4133-fb2c-f32105784fbd', 'checkpoint_ns': 'chatbot_node:b7599990-0c1a-4133-fb2c-f32105784fbd', 'ls_provider': 'huggingface', 'ls_model_type': 'chat'}, 'parent_ids': ['c9c40a00-157a-4229-a0d1-fda00e7bfd34', '638828c0-4add-4141-b6b6-484446100237', '15247b1a-1cd6-4863-9402-66499f921244']}\n",
      "event: {'event': 'on_chat_model_stream', 'data': {'chunk': AIMessageChunk(content=' Feel', additional_kwargs={}, response_metadata={})}, 'run_id': '74dfdbb9-4c2d-4a08-ad7d-795b5953cae3', 'name': 'ChatHuggingFace', 'tags': [], 'metadata': {'langgraph_step': 1, 'langgraph_node': 'chatbot_node', 'langgraph_triggers': ('branch:to:chatbot_node',), 'langgraph_path': ('__pregel_pull', 'chatbot_node'), 'langgraph_checkpoint_ns': 'chatbot_node:b7599990-0c1a-4133-fb2c-f32105784fbd', 'checkpoint_ns': 'chatbot_node:b7599990-0c1a-4133-fb2c-f32105784fbd', 'ls_provider': 'huggingface', 'ls_model_type': 'chat'}, 'parent_ids': ['c9c40a00-157a-4229-a0d1-fda00e7bfd34', '638828c0-4add-4141-b6b6-484446100237', '15247b1a-1cd6-4863-9402-66499f921244']}\n",
      "event: {'event': 'on_chat_model_stream', 'data': {'chunk': AIMessageChunk(content=' free', additional_kwargs={}, response_metadata={})}, 'run_id': '74dfdbb9-4c2d-4a08-ad7d-795b5953cae3', 'name': 'ChatHuggingFace', 'tags': [], 'metadata': {'langgraph_step': 1, 'langgraph_node': 'chatbot_node', 'langgraph_triggers': ('branch:to:chatbot_node',), 'langgraph_path': ('__pregel_pull', 'chatbot_node'), 'langgraph_checkpoint_ns': 'chatbot_node:b7599990-0c1a-4133-fb2c-f32105784fbd', 'checkpoint_ns': 'chatbot_node:b7599990-0c1a-4133-fb2c-f32105784fbd', 'ls_provider': 'huggingface', 'ls_model_type': 'chat'}, 'parent_ids': ['c9c40a00-157a-4229-a0d1-fda00e7bfd34', '638828c0-4add-4141-b6b6-484446100237', '15247b1a-1cd6-4863-9402-66499f921244']}\n",
      "event: {'event': 'on_chat_model_stream', 'data': {'chunk': AIMessageChunk(content=' to', additional_kwargs={}, response_metadata={})}, 'run_id': '74dfdbb9-4c2d-4a08-ad7d-795b5953cae3', 'name': 'ChatHuggingFace', 'tags': [], 'metadata': {'langgraph_step': 1, 'langgraph_node': 'chatbot_node', 'langgraph_triggers': ('branch:to:chatbot_node',), 'langgraph_path': ('__pregel_pull', 'chatbot_node'), 'langgraph_checkpoint_ns': 'chatbot_node:b7599990-0c1a-4133-fb2c-f32105784fbd', 'checkpoint_ns': 'chatbot_node:b7599990-0c1a-4133-fb2c-f32105784fbd', 'ls_provider': 'huggingface', 'ls_model_type': 'chat'}, 'parent_ids': ['c9c40a00-157a-4229-a0d1-fda00e7bfd34', '638828c0-4add-4141-b6b6-484446100237', '15247b1a-1cd6-4863-9402-66499f921244']}\n",
      "event: {'event': 'on_chat_model_stream', 'data': {'chunk': AIMessageChunk(content=' ask', additional_kwargs={}, response_metadata={})}, 'run_id': '74dfdbb9-4c2d-4a08-ad7d-795b5953cae3', 'name': 'ChatHuggingFace', 'tags': [], 'metadata': {'langgraph_step': 1, 'langgraph_node': 'chatbot_node', 'langgraph_triggers': ('branch:to:chatbot_node',), 'langgraph_path': ('__pregel_pull', 'chatbot_node'), 'langgraph_checkpoint_ns': 'chatbot_node:b7599990-0c1a-4133-fb2c-f32105784fbd', 'checkpoint_ns': 'chatbot_node:b7599990-0c1a-4133-fb2c-f32105784fbd', 'ls_provider': 'huggingface', 'ls_model_type': 'chat'}, 'parent_ids': ['c9c40a00-157a-4229-a0d1-fda00e7bfd34', '638828c0-4add-4141-b6b6-484446100237', '15247b1a-1cd6-4863-9402-66499f921244']}\n",
      "event: {'event': 'on_chat_model_stream', 'data': {'chunk': AIMessageChunk(content=' me', additional_kwargs={}, response_metadata={})}, 'run_id': '74dfdbb9-4c2d-4a08-ad7d-795b5953cae3', 'name': 'ChatHuggingFace', 'tags': [], 'metadata': {'langgraph_step': 1, 'langgraph_node': 'chatbot_node', 'langgraph_triggers': ('branch:to:chatbot_node',), 'langgraph_path': ('__pregel_pull', 'chatbot_node'), 'langgraph_checkpoint_ns': 'chatbot_node:b7599990-0c1a-4133-fb2c-f32105784fbd', 'checkpoint_ns': 'chatbot_node:b7599990-0c1a-4133-fb2c-f32105784fbd', 'ls_provider': 'huggingface', 'ls_model_type': 'chat'}, 'parent_ids': ['c9c40a00-157a-4229-a0d1-fda00e7bfd34', '638828c0-4add-4141-b6b6-484446100237', '15247b1a-1cd6-4863-9402-66499f921244']}\n",
      "event: {'event': 'on_chat_model_stream', 'data': {'chunk': AIMessageChunk(content=' any', additional_kwargs={}, response_metadata={})}, 'run_id': '74dfdbb9-4c2d-4a08-ad7d-795b5953cae3', 'name': 'ChatHuggingFace', 'tags': [], 'metadata': {'langgraph_step': 1, 'langgraph_node': 'chatbot_node', 'langgraph_triggers': ('branch:to:chatbot_node',), 'langgraph_path': ('__pregel_pull', 'chatbot_node'), 'langgraph_checkpoint_ns': 'chatbot_node:b7599990-0c1a-4133-fb2c-f32105784fbd', 'checkpoint_ns': 'chatbot_node:b7599990-0c1a-4133-fb2c-f32105784fbd', 'ls_provider': 'huggingface', 'ls_model_type': 'chat'}, 'parent_ids': ['c9c40a00-157a-4229-a0d1-fda00e7bfd34', '638828c0-4add-4141-b6b6-484446100237', '15247b1a-1cd6-4863-9402-66499f921244']}\n",
      "event: {'event': 'on_chat_model_stream', 'data': {'chunk': AIMessageChunk(content=' questions', additional_kwargs={}, response_metadata={})}, 'run_id': '74dfdbb9-4c2d-4a08-ad7d-795b5953cae3', 'name': 'ChatHuggingFace', 'tags': [], 'metadata': {'langgraph_step': 1, 'langgraph_node': 'chatbot_node', 'langgraph_triggers': ('branch:to:chatbot_node',), 'langgraph_path': ('__pregel_pull', 'chatbot_node'), 'langgraph_checkpoint_ns': 'chatbot_node:b7599990-0c1a-4133-fb2c-f32105784fbd', 'checkpoint_ns': 'chatbot_node:b7599990-0c1a-4133-fb2c-f32105784fbd', 'ls_provider': 'huggingface', 'ls_model_type': 'chat'}, 'parent_ids': ['c9c40a00-157a-4229-a0d1-fda00e7bfd34', '638828c0-4add-4141-b6b6-484446100237', '15247b1a-1cd6-4863-9402-66499f921244']}\n"
     ]
    },
    {
     "name": "stderr",
     "output_type": "stream",
     "text": [
      "/Users/macm1/miniforge3/envs/langgraph/lib/python3.13/site-packages/huggingface_hub/inference/_generated/_async_client.py:2308: FutureWarning: `stop_sequences` is a deprecated argument for `text_generation` task and will be removed in version '0.28.0'. Use `stop` instead.\n",
      "  warnings.warn(\n"
     ]
    },
    {
     "name": "stdout",
     "output_type": "stream",
     "text": [
      "event: {'event': 'on_chat_model_stream', 'data': {'chunk': AIMessageChunk(content=' or', additional_kwargs={}, response_metadata={})}, 'run_id': '74dfdbb9-4c2d-4a08-ad7d-795b5953cae3', 'name': 'ChatHuggingFace', 'tags': [], 'metadata': {'langgraph_step': 1, 'langgraph_node': 'chatbot_node', 'langgraph_triggers': ('branch:to:chatbot_node',), 'langgraph_path': ('__pregel_pull', 'chatbot_node'), 'langgraph_checkpoint_ns': 'chatbot_node:b7599990-0c1a-4133-fb2c-f32105784fbd', 'checkpoint_ns': 'chatbot_node:b7599990-0c1a-4133-fb2c-f32105784fbd', 'ls_provider': 'huggingface', 'ls_model_type': 'chat'}, 'parent_ids': ['c9c40a00-157a-4229-a0d1-fda00e7bfd34', '638828c0-4add-4141-b6b6-484446100237', '15247b1a-1cd6-4863-9402-66499f921244']}\n",
      "event: {'event': 'on_chat_model_stream', 'data': {'chunk': AIMessageChunk(content=' let', additional_kwargs={}, response_metadata={})}, 'run_id': '74dfdbb9-4c2d-4a08-ad7d-795b5953cae3', 'name': 'ChatHuggingFace', 'tags': [], 'metadata': {'langgraph_step': 1, 'langgraph_node': 'chatbot_node', 'langgraph_triggers': ('branch:to:chatbot_node',), 'langgraph_path': ('__pregel_pull', 'chatbot_node'), 'langgraph_checkpoint_ns': 'chatbot_node:b7599990-0c1a-4133-fb2c-f32105784fbd', 'checkpoint_ns': 'chatbot_node:b7599990-0c1a-4133-fb2c-f32105784fbd', 'ls_provider': 'huggingface', 'ls_model_type': 'chat'}, 'parent_ids': ['c9c40a00-157a-4229-a0d1-fda00e7bfd34', '638828c0-4add-4141-b6b6-484446100237', '15247b1a-1cd6-4863-9402-66499f921244']}\n",
      "event: {'event': 'on_chat_model_stream', 'data': {'chunk': AIMessageChunk(content=' me', additional_kwargs={}, response_metadata={})}, 'run_id': '74dfdbb9-4c2d-4a08-ad7d-795b5953cae3', 'name': 'ChatHuggingFace', 'tags': [], 'metadata': {'langgraph_step': 1, 'langgraph_node': 'chatbot_node', 'langgraph_triggers': ('branch:to:chatbot_node',), 'langgraph_path': ('__pregel_pull', 'chatbot_node'), 'langgraph_checkpoint_ns': 'chatbot_node:b7599990-0c1a-4133-fb2c-f32105784fbd', 'checkpoint_ns': 'chatbot_node:b7599990-0c1a-4133-fb2c-f32105784fbd', 'ls_provider': 'huggingface', 'ls_model_type': 'chat'}, 'parent_ids': ['c9c40a00-157a-4229-a0d1-fda00e7bfd34', '638828c0-4add-4141-b6b6-484446100237', '15247b1a-1cd6-4863-9402-66499f921244']}\n",
      "event: {'event': 'on_chat_model_stream', 'data': {'chunk': AIMessageChunk(content=' know', additional_kwargs={}, response_metadata={})}, 'run_id': '74dfdbb9-4c2d-4a08-ad7d-795b5953cae3', 'name': 'ChatHuggingFace', 'tags': [], 'metadata': {'langgraph_step': 1, 'langgraph_node': 'chatbot_node', 'langgraph_triggers': ('branch:to:chatbot_node',), 'langgraph_path': ('__pregel_pull', 'chatbot_node'), 'langgraph_checkpoint_ns': 'chatbot_node:b7599990-0c1a-4133-fb2c-f32105784fbd', 'checkpoint_ns': 'chatbot_node:b7599990-0c1a-4133-fb2c-f32105784fbd', 'ls_provider': 'huggingface', 'ls_model_type': 'chat'}, 'parent_ids': ['c9c40a00-157a-4229-a0d1-fda00e7bfd34', '638828c0-4add-4141-b6b6-484446100237', '15247b1a-1cd6-4863-9402-66499f921244']}\n",
      "event: {'event': 'on_chat_model_stream', 'data': {'chunk': AIMessageChunk(content=' if', additional_kwargs={}, response_metadata={})}, 'run_id': '74dfdbb9-4c2d-4a08-ad7d-795b5953cae3', 'name': 'ChatHuggingFace', 'tags': [], 'metadata': {'langgraph_step': 1, 'langgraph_node': 'chatbot_node', 'langgraph_triggers': ('branch:to:chatbot_node',), 'langgraph_path': ('__pregel_pull', 'chatbot_node'), 'langgraph_checkpoint_ns': 'chatbot_node:b7599990-0c1a-4133-fb2c-f32105784fbd', 'checkpoint_ns': 'chatbot_node:b7599990-0c1a-4133-fb2c-f32105784fbd', 'ls_provider': 'huggingface', 'ls_model_type': 'chat'}, 'parent_ids': ['c9c40a00-157a-4229-a0d1-fda00e7bfd34', '638828c0-4add-4141-b6b6-484446100237', '15247b1a-1cd6-4863-9402-66499f921244']}\n",
      "event: {'event': 'on_chat_model_stream', 'data': {'chunk': AIMessageChunk(content=' you', additional_kwargs={}, response_metadata={})}, 'run_id': '74dfdbb9-4c2d-4a08-ad7d-795b5953cae3', 'name': 'ChatHuggingFace', 'tags': [], 'metadata': {'langgraph_step': 1, 'langgraph_node': 'chatbot_node', 'langgraph_triggers': ('branch:to:chatbot_node',), 'langgraph_path': ('__pregel_pull', 'chatbot_node'), 'langgraph_checkpoint_ns': 'chatbot_node:b7599990-0c1a-4133-fb2c-f32105784fbd', 'checkpoint_ns': 'chatbot_node:b7599990-0c1a-4133-fb2c-f32105784fbd', 'ls_provider': 'huggingface', 'ls_model_type': 'chat'}, 'parent_ids': ['c9c40a00-157a-4229-a0d1-fda00e7bfd34', '638828c0-4add-4141-b6b6-484446100237', '15247b1a-1cd6-4863-9402-66499f921244']}\n",
      "event: {'event': 'on_chat_model_stream', 'data': {'chunk': AIMessageChunk(content=' need', additional_kwargs={}, response_metadata={})}, 'run_id': '74dfdbb9-4c2d-4a08-ad7d-795b5953cae3', 'name': 'ChatHuggingFace', 'tags': [], 'metadata': {'langgraph_step': 1, 'langgraph_node': 'chatbot_node', 'langgraph_triggers': ('branch:to:chatbot_node',), 'langgraph_path': ('__pregel_pull', 'chatbot_node'), 'langgraph_checkpoint_ns': 'chatbot_node:b7599990-0c1a-4133-fb2c-f32105784fbd', 'checkpoint_ns': 'chatbot_node:b7599990-0c1a-4133-fb2c-f32105784fbd', 'ls_provider': 'huggingface', 'ls_model_type': 'chat'}, 'parent_ids': ['c9c40a00-157a-4229-a0d1-fda00e7bfd34', '638828c0-4add-4141-b6b6-484446100237', '15247b1a-1cd6-4863-9402-66499f921244']}\n",
      "event: {'event': 'on_chat_model_stream', 'data': {'chunk': AIMessageChunk(content=' help', additional_kwargs={}, response_metadata={})}, 'run_id': '74dfdbb9-4c2d-4a08-ad7d-795b5953cae3', 'name': 'ChatHuggingFace', 'tags': [], 'metadata': {'langgraph_step': 1, 'langgraph_node': 'chatbot_node', 'langgraph_triggers': ('branch:to:chatbot_node',), 'langgraph_path': ('__pregel_pull', 'chatbot_node'), 'langgraph_checkpoint_ns': 'chatbot_node:b7599990-0c1a-4133-fb2c-f32105784fbd', 'checkpoint_ns': 'chatbot_node:b7599990-0c1a-4133-fb2c-f32105784fbd', 'ls_provider': 'huggingface', 'ls_model_type': 'chat'}, 'parent_ids': ['c9c40a00-157a-4229-a0d1-fda00e7bfd34', '638828c0-4add-4141-b6b6-484446100237', '15247b1a-1cd6-4863-9402-66499f921244']}\n",
      "event: {'event': 'on_chat_model_stream', 'data': {'chunk': AIMessageChunk(content=' with', additional_kwargs={}, response_metadata={})}, 'run_id': '74dfdbb9-4c2d-4a08-ad7d-795b5953cae3', 'name': 'ChatHuggingFace', 'tags': [], 'metadata': {'langgraph_step': 1, 'langgraph_node': 'chatbot_node', 'langgraph_triggers': ('branch:to:chatbot_node',), 'langgraph_path': ('__pregel_pull', 'chatbot_node'), 'langgraph_checkpoint_ns': 'chatbot_node:b7599990-0c1a-4133-fb2c-f32105784fbd', 'checkpoint_ns': 'chatbot_node:b7599990-0c1a-4133-fb2c-f32105784fbd', 'ls_provider': 'huggingface', 'ls_model_type': 'chat'}, 'parent_ids': ['c9c40a00-157a-4229-a0d1-fda00e7bfd34', '638828c0-4add-4141-b6b6-484446100237', '15247b1a-1cd6-4863-9402-66499f921244']}\n",
      "event: {'event': 'on_chat_model_stream', 'data': {'chunk': AIMessageChunk(content=' anything', additional_kwargs={}, response_metadata={})}, 'run_id': '74dfdbb9-4c2d-4a08-ad7d-795b5953cae3', 'name': 'ChatHuggingFace', 'tags': [], 'metadata': {'langgraph_step': 1, 'langgraph_node': 'chatbot_node', 'langgraph_triggers': ('branch:to:chatbot_node',), 'langgraph_path': ('__pregel_pull', 'chatbot_node'), 'langgraph_checkpoint_ns': 'chatbot_node:b7599990-0c1a-4133-fb2c-f32105784fbd', 'checkpoint_ns': 'chatbot_node:b7599990-0c1a-4133-fb2c-f32105784fbd', 'ls_provider': 'huggingface', 'ls_model_type': 'chat'}, 'parent_ids': ['c9c40a00-157a-4229-a0d1-fda00e7bfd34', '638828c0-4add-4141-b6b6-484446100237', '15247b1a-1cd6-4863-9402-66499f921244']}\n",
      "event: {'event': 'on_chat_model_stream', 'data': {'chunk': AIMessageChunk(content=' specific', additional_kwargs={}, response_metadata={})}, 'run_id': '74dfdbb9-4c2d-4a08-ad7d-795b5953cae3', 'name': 'ChatHuggingFace', 'tags': [], 'metadata': {'langgraph_step': 1, 'langgraph_node': 'chatbot_node', 'langgraph_triggers': ('branch:to:chatbot_node',), 'langgraph_path': ('__pregel_pull', 'chatbot_node'), 'langgraph_checkpoint_ns': 'chatbot_node:b7599990-0c1a-4133-fb2c-f32105784fbd', 'checkpoint_ns': 'chatbot_node:b7599990-0c1a-4133-fb2c-f32105784fbd', 'ls_provider': 'huggingface', 'ls_model_type': 'chat'}, 'parent_ids': ['c9c40a00-157a-4229-a0d1-fda00e7bfd34', '638828c0-4add-4141-b6b6-484446100237', '15247b1a-1cd6-4863-9402-66499f921244']}\n",
      "event: {'event': 'on_chat_model_stream', 'data': {'chunk': AIMessageChunk(content='.', additional_kwargs={}, response_metadata={})}, 'run_id': '74dfdbb9-4c2d-4a08-ad7d-795b5953cae3', 'name': 'ChatHuggingFace', 'tags': [], 'metadata': {'langgraph_step': 1, 'langgraph_node': 'chatbot_node', 'langgraph_triggers': ('branch:to:chatbot_node',), 'langgraph_path': ('__pregel_pull', 'chatbot_node'), 'langgraph_checkpoint_ns': 'chatbot_node:b7599990-0c1a-4133-fb2c-f32105784fbd', 'checkpoint_ns': 'chatbot_node:b7599990-0c1a-4133-fb2c-f32105784fbd', 'ls_provider': 'huggingface', 'ls_model_type': 'chat'}, 'parent_ids': ['c9c40a00-157a-4229-a0d1-fda00e7bfd34', '638828c0-4add-4141-b6b6-484446100237', '15247b1a-1cd6-4863-9402-66499f921244']}\n",
      "event: {'event': 'on_chat_model_stream', 'data': {'chunk': AIMessageChunk(content='<|im_end|>', additional_kwargs={}, response_metadata={})}, 'run_id': '74dfdbb9-4c2d-4a08-ad7d-795b5953cae3', 'name': 'ChatHuggingFace', 'tags': [], 'metadata': {'langgraph_step': 1, 'langgraph_node': 'chatbot_node', 'langgraph_triggers': ('branch:to:chatbot_node',), 'langgraph_path': ('__pregel_pull', 'chatbot_node'), 'langgraph_checkpoint_ns': 'chatbot_node:b7599990-0c1a-4133-fb2c-f32105784fbd', 'checkpoint_ns': 'chatbot_node:b7599990-0c1a-4133-fb2c-f32105784fbd', 'ls_provider': 'huggingface', 'ls_model_type': 'chat'}, 'parent_ids': ['c9c40a00-157a-4229-a0d1-fda00e7bfd34', '638828c0-4add-4141-b6b6-484446100237', '15247b1a-1cd6-4863-9402-66499f921244']}\n",
      "event: {'event': 'on_chat_model_end', 'data': {'output': AIMessage(content=\"Hello Máximo! It's nice to meet you. How can I assist you today? Feel free to ask me any questions or let me know if you need help with anything specific.<|im_end|>\", additional_kwargs={}, response_metadata={}, id='run-74dfdbb9-4c2d-4a08-ad7d-795b5953cae3-0'), 'input': {'messages': [[HumanMessage(content=\"hi! I'm Máximo\", additional_kwargs={}, response_metadata={}, id='6469501c-07b0-42e4-a3e6-f133ace1860c')]]}}, 'run_id': '74dfdbb9-4c2d-4a08-ad7d-795b5953cae3', 'name': 'ChatHuggingFace', 'tags': [], 'metadata': {'langgraph_step': 1, 'langgraph_node': 'chatbot_node', 'langgraph_triggers': ('branch:to:chatbot_node',), 'langgraph_path': ('__pregel_pull', 'chatbot_node'), 'langgraph_checkpoint_ns': 'chatbot_node:b7599990-0c1a-4133-fb2c-f32105784fbd', 'checkpoint_ns': 'chatbot_node:b7599990-0c1a-4133-fb2c-f32105784fbd', 'ls_provider': 'huggingface', 'ls_model_type': 'chat'}, 'parent_ids': ['c9c40a00-157a-4229-a0d1-fda00e7bfd34', '638828c0-4add-4141-b6b6-484446100237', '15247b1a-1cd6-4863-9402-66499f921244']}\n",
      "event: {'event': 'on_chain_stream', 'run_id': '15247b1a-1cd6-4863-9402-66499f921244', 'name': 'chatbot_node', 'tags': ['seq:step:1'], 'metadata': {'langgraph_step': 1, 'langgraph_node': 'chatbot_node', 'langgraph_triggers': ('branch:to:chatbot_node',), 'langgraph_path': ('__pregel_pull', 'chatbot_node'), 'langgraph_checkpoint_ns': 'chatbot_node:b7599990-0c1a-4133-fb2c-f32105784fbd', 'checkpoint_ns': 'chatbot_node:b7599990-0c1a-4133-fb2c-f32105784fbd'}, 'data': {'chunk': {'messages': [RunLogPatch({'op': 'add',\n",
      "  'path': '/streamed_output/-',\n",
      "  'value': AIMessage(content=\"Hello Máximo! It's nice to meet you. How can I assist you today? Feel free to ask me any questions or let me know if you need help with anything specific.<|im_end|>\", additional_kwargs={}, response_metadata={}, id='run-74dfdbb9-4c2d-4a08-ad7d-795b5953cae3-0')},\n",
      " {'op': 'replace',\n",
      "  'path': '/final_output',\n",
      "  'value': AIMessage(content=\"Hello Máximo! It's nice to meet you. How can I assist you today? Feel free to ask me any questions or let me know if you need help with anything specific.<|im_end|>\", additional_kwargs={}, response_metadata={}, id='run-74dfdbb9-4c2d-4a08-ad7d-795b5953cae3-0')})]}}, 'parent_ids': ['c9c40a00-157a-4229-a0d1-fda00e7bfd34', '638828c0-4add-4141-b6b6-484446100237']}\n",
      "event: {'event': 'on_chain_end', 'data': {'output': {'messages': [RunLogPatch({'op': 'add',\n",
      "  'path': '/streamed_output/-',\n",
      "  'value': AIMessage(content=\"Hello Máximo! It's nice to meet you. How can I assist you today? Feel free to ask me any questions or let me know if you need help with anything specific.<|im_end|>\", additional_kwargs={}, response_metadata={}, id='run-74dfdbb9-4c2d-4a08-ad7d-795b5953cae3-0')},\n",
      " {'op': 'replace',\n",
      "  'path': '/final_output',\n",
      "  'value': AIMessage(content=\"Hello Máximo! It's nice to meet you. How can I assist you today? Feel free to ask me any questions or let me know if you need help with anything specific.<|im_end|>\", additional_kwargs={}, response_metadata={}, id='run-74dfdbb9-4c2d-4a08-ad7d-795b5953cae3-0')})]}, 'input': {'messages': [HumanMessage(content=\"hi! I'm Máximo\", additional_kwargs={}, response_metadata={}, id='6469501c-07b0-42e4-a3e6-f133ace1860c')]}}, 'run_id': '15247b1a-1cd6-4863-9402-66499f921244', 'name': 'chatbot_node', 'tags': ['seq:step:1'], 'metadata': {'langgraph_step': 1, 'langgraph_node': 'chatbot_node', 'langgraph_triggers': ('branch:to:chatbot_node',), 'langgraph_path': ('__pregel_pull', 'chatbot_node'), 'langgraph_checkpoint_ns': 'chatbot_node:b7599990-0c1a-4133-fb2c-f32105784fbd', 'checkpoint_ns': 'chatbot_node:b7599990-0c1a-4133-fb2c-f32105784fbd'}, 'parent_ids': ['c9c40a00-157a-4229-a0d1-fda00e7bfd34', '638828c0-4add-4141-b6b6-484446100237']}\n",
      "event: {'event': 'on_chain_stream', 'run_id': '638828c0-4add-4141-b6b6-484446100237', 'name': 'chatbot_node', 'tags': ['graph:step:1'], 'metadata': {'langgraph_step': 1, 'langgraph_node': 'chatbot_node', 'langgraph_triggers': ('branch:to:chatbot_node',), 'langgraph_path': ('__pregel_pull', 'chatbot_node'), 'langgraph_checkpoint_ns': 'chatbot_node:b7599990-0c1a-4133-fb2c-f32105784fbd'}, 'data': {'chunk': {'messages': [RunLogPatch({'op': 'add',\n",
      "  'path': '/streamed_output/-',\n",
      "  'value': AIMessage(content=\"Hello Máximo! It's nice to meet you. How can I assist you today? Feel free to ask me any questions or let me know if you need help with anything specific.<|im_end|>\", additional_kwargs={}, response_metadata={}, id='run-74dfdbb9-4c2d-4a08-ad7d-795b5953cae3-0')},\n",
      " {'op': 'replace',\n",
      "  'path': '/final_output',\n",
      "  'value': AIMessage(content=\"Hello Máximo! It's nice to meet you. How can I assist you today? Feel free to ask me any questions or let me know if you need help with anything specific.<|im_end|>\", additional_kwargs={}, response_metadata={}, id='run-74dfdbb9-4c2d-4a08-ad7d-795b5953cae3-0')})]}}, 'parent_ids': ['c9c40a00-157a-4229-a0d1-fda00e7bfd34']}\n",
      "event: {'event': 'on_chain_end', 'data': {'output': {'messages': [RunLogPatch({'op': 'add',\n",
      "  'path': '/streamed_output/-',\n",
      "  'value': AIMessage(content=\"Hello Máximo! It's nice to meet you. How can I assist you today? Feel free to ask me any questions or let me know if you need help with anything specific.<|im_end|>\", additional_kwargs={}, response_metadata={}, id='run-74dfdbb9-4c2d-4a08-ad7d-795b5953cae3-0')},\n",
      " {'op': 'replace',\n",
      "  'path': '/final_output',\n",
      "  'value': AIMessage(content=\"Hello Máximo! It's nice to meet you. How can I assist you today? Feel free to ask me any questions or let me know if you need help with anything specific.<|im_end|>\", additional_kwargs={}, response_metadata={}, id='run-74dfdbb9-4c2d-4a08-ad7d-795b5953cae3-0')})]}, 'input': {'messages': [HumanMessage(content=\"hi! I'm Máximo\", additional_kwargs={}, response_metadata={}, id='6469501c-07b0-42e4-a3e6-f133ace1860c')]}}, 'run_id': '638828c0-4add-4141-b6b6-484446100237', 'name': 'chatbot_node', 'tags': ['graph:step:1'], 'metadata': {'langgraph_step': 1, 'langgraph_node': 'chatbot_node', 'langgraph_triggers': ('branch:to:chatbot_node',), 'langgraph_path': ('__pregel_pull', 'chatbot_node'), 'langgraph_checkpoint_ns': 'chatbot_node:b7599990-0c1a-4133-fb2c-f32105784fbd'}, 'parent_ids': ['c9c40a00-157a-4229-a0d1-fda00e7bfd34']}\n",
      "Error: Unsupported message type: <class 'langchain_core.tracers.log_stream.RunLogPatch'>\n",
      "For troubleshooting, visit: https://python.langchain.com/docs/troubleshooting/errors/MESSAGE_COERCION_FAILURE \n"
     ]
    }
   ],
   "source": [
    "try:\n",
    "    async for event in graph.astream_events({\"messages\": [HumanMessage(content=\"hi! I'm Máximo\")]}, version=\"v2\"):\n",
    "        print(f\"event: {event}\")\n",
    "except Exception as e:\n",
    "    print(f\"Error: {e}\")"
   ]
  },
  {
   "cell_type": "markdown",
   "metadata": {},
   "source": [
    "Como se puede ver los tokens llegan con el evento `on_chat_model_stream`, así que vamos a capturarlo e imprimirlo."
   ]
  },
  {
   "cell_type": "code",
   "execution_count": 14,
   "metadata": {},
   "outputs": [
    {
     "name": "stderr",
     "output_type": "stream",
     "text": [
      "/Users/macm1/miniforge3/envs/langgraph/lib/python3.13/site-packages/huggingface_hub/inference/_generated/_async_client.py:2308: FutureWarning: `stop_sequences` is a deprecated argument for `text_generation` task and will be removed in version '0.28.0'. Use `stop` instead.\n",
      "  warnings.warn(\n"
     ]
    },
    {
     "name": "stdout",
     "output_type": "stream",
     "text": [
      "Hello |  Má | ximo | ! |  It | 's |  nice |  to |  meet |  you | . |  How |  can |  I |  assist |  you |  today | ? |  Feel |  free |  to |  ask |  me |  any |  questions |  or |  let |  me |  know |  if |  you |  need |  help |  with |  anything |  specific | . | <|im_end|> | "
     ]
    }
   ],
   "source": [
    "try:\n",
    "    async for event in graph.astream_events({\"messages\": [HumanMessage(content=\"hi! I'm Máximo\")]}, version=\"v2\"):\n",
    "        if event[\"event\"] == \"on_chat_model_stream\":\n",
    "            print(event[\"data\"][\"chunk\"].content, end=\" | \", flush=True)\n",
    "except Exception as e:\n",
    "    pass"
   ]
  },
  {
   "cell_type": "markdown",
   "metadata": {},
   "source": [
    "## Mejorar el chatbot con herramientas"
   ]
  },
  {
   "cell_type": "markdown",
   "metadata": {},
   "source": [
    "Para manejar algunas consultas, nuestro chatbot no puede responder `desde su conocimiento`, así que vamos a integrar una herramienta de búsqueda web. Nuestro bot puede utilizar esta herramienta para encontrar información relevante y proporcionar mejores respuestas."
   ]
  },
  {
   "cell_type": "markdown",
   "metadata": {},
   "source": [
    "### Requisitos"
   ]
  },
  {
   "cell_type": "markdown",
   "metadata": {},
   "source": [
    "Antes de comenzar, tenemos que instalar el buscador [Tavily](https://python.langchain.com/docs/integrations/tools/tavily_search/) que es un buscador web que nos permite buscar información en la web.\n",
    "\n",
    "```bash\n",
    "pip install -U tavily-python langchain_community\n",
    "```"
   ]
  },
  {
   "cell_type": "markdown",
   "metadata": {},
   "source": [
    "Después, tenemos que crear una [API KEY](https://app.tavily.com/home), la escribimos en nuestro archivo `.env` y la cargamos en una variable."
   ]
  },
  {
   "cell_type": "code",
   "execution_count": 1,
   "metadata": {},
   "outputs": [],
   "source": [
    "import dotenv\n",
    "import os\n",
    "\n",
    "dotenv.load_dotenv()\n",
    "\n",
    "HUGGINGFACE_TOKEN = os.getenv(\"HUGGINGFACE_LANGGRAPH\")\n",
    "TAVILY_API_KEY = os.getenv(\"TAVILY_LANGGRAPH_API_KEY\")"
   ]
  },
  {
   "cell_type": "markdown",
   "metadata": {},
   "source": [
    "Ahora, definimos la herramienta de búsqueda web mediante [TavilySearchResults](https://python.langchain.com/api_reference/community/tools/langchain_community.tools.tavily_search.tool.TavilySearchResults.html)"
   ]
  },
  {
   "cell_type": "code",
   "execution_count": 2,
   "metadata": {},
   "outputs": [],
   "source": [
    "from langchain_community.utilities.tavily_search import TavilySearchAPIWrapper\n",
    "from langchain_community.tools.tavily_search import TavilySearchResults\n",
    "\n",
    "wrapper = TavilySearchAPIWrapper(tavily_api_key=TAVILY_API_KEY)\n",
    "tool = TavilySearchResults(api_wrapper=wrapper, max_results=2)"
   ]
  },
  {
   "cell_type": "markdown",
   "metadata": {},
   "source": [
    "Probamos la herramienta, vamos a hacer una búsqueda en internet"
   ]
  },
  {
   "cell_type": "code",
   "execution_count": 3,
   "metadata": {},
   "outputs": [
    {
     "name": "stderr",
     "output_type": "stream",
     "text": [
      "Failed to multipart ingest runs: langsmith.utils.LangSmithError: Failed to POST https://eu.api.smith.langchain.com/runs/multipart in LangSmith API. HTTPError('403 Client Error: Forbidden for url: https://eu.api.smith.langchain.com/runs/multipart', '{\"error\":\"Forbidden\"}\\n')\n"
     ]
    },
    {
     "data": {
      "text/plain": [
       "[{'title': 'HIGHLIGHTS | Real Madrid 3-2 Leganés | LaLiga 2024/25 - YouTube',\n",
       "  'url': 'https://www.youtube.com/watch?v=Np-Kwz4RDpY',\n",
       "  'content': \"20:14 · Go to channel · RONALDO'S LAST MATCH WITH REAL MADRID: THE MOST THRILLING FINAL EVER! ... Champions League 1/4 Final | PES. Football\",\n",
       "  'score': 0.65835214},\n",
       " {'title': 'Real Madrid | History | UEFA Champions League',\n",
       "  'url': 'https://www.uefa.com/uefachampionsleague/history/clubs/50051--real-madrid/',\n",
       "  'content': '1955/56 P W D L Final 7 5 0 2\\nUEFA Champions League [...] 2010/11 P W D L Semi-finals 12 8 3 1\\n2009/10 P W D L Round of 16 8 4 2 2\\n2000s\\n2008/09 P W D L Round of 16 8 4 0 4\\n2007/08 P W D L Round of 16 8 3 2 3\\n2006/07 P W D L Round of 16 8 4 2 2\\n2005/06 P W D L Round of 16 8 3 2 3\\n2004/05 P W D L Round of 16 10 6 2 2\\n2003/04 P W D L Quarter-finals 10 6 3 1\\n2002/03 P W D L Semi-finals 16 7 5 4\\n2001/02 P W D L Final 17 12 3 2\\n2000/01 P W D L Semi-finals 16 9 2 5\\n1990s\\n1999/00 P W D L Final 17 10 3 4\\n1998/99 P W D L Quarter-finals 8 4 1 3 [...] 1969/70 P W D L Second round 4 2 0 2\\n1968/69 P W D L Second round 4 3 0 1\\n1967/68 P W D L Semi-finals 8 2 4 2\\n1966/67 P W D L Quarter-finals 4 1 0 3\\n1965/66 P W D L Final 9 5 2 2\\n1964/65 P W D L Quarter-finals 6 4 1 1\\n1963/64 P W D L Final 9 7 0 2\\n1962/63 P W D L Preliminary round 2 0 1 1\\n1961/62 P W D L Final 10 8 0 2\\n1960/61 P W D L First round 2 0 1 1\\n1950s\\n1959/60 P W D L Final 7 6 0 1\\n1958/59 P W D L Final 8 5 2 1\\n1957/58 P W D L Final 7 5 1 1\\n1956/57 P W D L Final 8 6 1 1',\n",
       "  'score': 0.6030211}]"
      ]
     },
     "execution_count": 3,
     "metadata": {},
     "output_type": "execute_result"
    },
    {
     "name": "stderr",
     "output_type": "stream",
     "text": [
      "Failed to send compressed multipart ingest: langsmith.utils.LangSmithError: Failed to POST https://eu.api.smith.langchain.com/runs/multipart in LangSmith API. HTTPError('403 Client Error: Forbidden for url: https://eu.api.smith.langchain.com/runs/multipart', '{\"error\":\"Forbidden\"}\\n')\n",
      "Failed to send compressed multipart ingest: langsmith.utils.LangSmithError: Failed to POST https://eu.api.smith.langchain.com/runs/multipart in LangSmith API. HTTPError('403 Client Error: Forbidden for url: https://eu.api.smith.langchain.com/runs/multipart', '{\"error\":\"Forbidden\"}\\n')\n",
      "Failed to send compressed multipart ingest: langsmith.utils.LangSmithError: Failed to POST https://eu.api.smith.langchain.com/runs/multipart in LangSmith API. HTTPError('403 Client Error: Forbidden for url: https://eu.api.smith.langchain.com/runs/multipart', '{\"error\":\"Forbidden\"}\\n')\n",
      "Failed to send compressed multipart ingest: langsmith.utils.LangSmithError: Failed to POST https://eu.api.smith.langchain.com/runs/multipart in LangSmith API. HTTPError('403 Client Error: Forbidden for url: https://eu.api.smith.langchain.com/runs/multipart', '{\"error\":\"Forbidden\"}\\n')\n",
      "Failed to send compressed multipart ingest: langsmith.utils.LangSmithError: Failed to POST https://eu.api.smith.langchain.com/runs/multipart in LangSmith API. HTTPError('403 Client Error: Forbidden for url: https://eu.api.smith.langchain.com/runs/multipart', '{\"error\":\"Forbidden\"}\\n')\n",
      "Failed to send compressed multipart ingest: langsmith.utils.LangSmithError: Failed to POST https://eu.api.smith.langchain.com/runs/multipart in LangSmith API. HTTPError('403 Client Error: Forbidden for url: https://eu.api.smith.langchain.com/runs/multipart', '{\"error\":\"Forbidden\"}\\n')\n",
      "Failed to send compressed multipart ingest: langsmith.utils.LangSmithError: Failed to POST https://eu.api.smith.langchain.com/runs/multipart in LangSmith API. HTTPError('403 Client Error: Forbidden for url: https://eu.api.smith.langchain.com/runs/multipart', '{\"error\":\"Forbidden\"}\\n')\n",
      "Failed to send compressed multipart ingest: langsmith.utils.LangSmithError: Failed to POST https://eu.api.smith.langchain.com/runs/multipart in LangSmith API. HTTPError('403 Client Error: Forbidden for url: https://eu.api.smith.langchain.com/runs/multipart', '{\"error\":\"Forbidden\"}\\n')\n",
      "Failed to send compressed multipart ingest: langsmith.utils.LangSmithError: Failed to POST https://eu.api.smith.langchain.com/runs/multipart in LangSmith API. HTTPError('403 Client Error: Forbidden for url: https://eu.api.smith.langchain.com/runs/multipart', '{\"error\":\"Forbidden\"}\\n')\n",
      "Failed to send compressed multipart ingest: langsmith.utils.LangSmithError: Failed to POST https://eu.api.smith.langchain.com/runs/multipart in LangSmith API. HTTPError('403 Client Error: Forbidden for url: https://eu.api.smith.langchain.com/runs/multipart', '{\"error\":\"Forbidden\"}\\n')\n",
      "Failed to send compressed multipart ingest: langsmith.utils.LangSmithError: Failed to POST https://eu.api.smith.langchain.com/runs/multipart in LangSmith API. HTTPError('403 Client Error: Forbidden for url: https://eu.api.smith.langchain.com/runs/multipart', '{\"error\":\"Forbidden\"}\\n')\n",
      "Failed to send compressed multipart ingest: langsmith.utils.LangSmithError: Failed to POST https://eu.api.smith.langchain.com/runs/multipart in LangSmith API. HTTPError('403 Client Error: Forbidden for url: https://eu.api.smith.langchain.com/runs/multipart', '{\"error\":\"Forbidden\"}\\n')\n",
      "Failed to send compressed multipart ingest: langsmith.utils.LangSmithError: Failed to POST https://eu.api.smith.langchain.com/runs/multipart in LangSmith API. HTTPError('403 Client Error: Forbidden for url: https://eu.api.smith.langchain.com/runs/multipart', '{\"error\":\"Forbidden\"}\\n')\n",
      "Failed to send compressed multipart ingest: langsmith.utils.LangSmithError: Failed to POST https://eu.api.smith.langchain.com/runs/multipart in LangSmith API. HTTPError('403 Client Error: Forbidden for url: https://eu.api.smith.langchain.com/runs/multipart', '{\"error\":\"Forbidden\"}\\n')\n",
      "Failed to send compressed multipart ingest: langsmith.utils.LangSmithError: Failed to POST https://eu.api.smith.langchain.com/runs/multipart in LangSmith API. HTTPError('403 Client Error: Forbidden for url: https://eu.api.smith.langchain.com/runs/multipart', '{\"error\":\"Forbidden\"}\\n')\n",
      "Failed to send compressed multipart ingest: langsmith.utils.LangSmithError: Failed to POST https://eu.api.smith.langchain.com/runs/multipart in LangSmith API. HTTPError('403 Client Error: Forbidden for url: https://eu.api.smith.langchain.com/runs/multipart', '{\"error\":\"Forbidden\"}\\n')\n",
      "Failed to send compressed multipart ingest: langsmith.utils.LangSmithError: Failed to POST https://eu.api.smith.langchain.com/runs/multipart in LangSmith API. HTTPError('403 Client Error: Forbidden for url: https://eu.api.smith.langchain.com/runs/multipart', '{\"error\":\"Forbidden\"}\\n')\n",
      "Failed to send compressed multipart ingest: langsmith.utils.LangSmithError: Failed to POST https://eu.api.smith.langchain.com/runs/multipart in LangSmith API. HTTPError('403 Client Error: Forbidden for url: https://eu.api.smith.langchain.com/runs/multipart', '{\"error\":\"Forbidden\"}\\n')\n",
      "Failed to send compressed multipart ingest: langsmith.utils.LangSmithError: Failed to POST https://eu.api.smith.langchain.com/runs/multipart in LangSmith API. HTTPError('403 Client Error: Forbidden for url: https://eu.api.smith.langchain.com/runs/multipart', '{\"error\":\"Forbidden\"}\\n')\n",
      "Failed to send compressed multipart ingest: langsmith.utils.LangSmithError: Failed to POST https://eu.api.smith.langchain.com/runs/multipart in LangSmith API. HTTPError('403 Client Error: Forbidden for url: https://eu.api.smith.langchain.com/runs/multipart', '{\"error\":\"Forbidden\"}\\n')\n",
      "Failed to send compressed multipart ingest: langsmith.utils.LangSmithError: Failed to POST https://eu.api.smith.langchain.com/runs/multipart in LangSmith API. HTTPError('403 Client Error: Forbidden for url: https://eu.api.smith.langchain.com/runs/multipart', '{\"error\":\"Forbidden\"}\\n')\n",
      "Failed to send compressed multipart ingest: langsmith.utils.LangSmithError: Failed to POST https://eu.api.smith.langchain.com/runs/multipart in LangSmith API. HTTPError('403 Client Error: Forbidden for url: https://eu.api.smith.langchain.com/runs/multipart', '{\"error\":\"Forbidden\"}\\n')\n",
      "Failed to send compressed multipart ingest: langsmith.utils.LangSmithError: Failed to POST https://eu.api.smith.langchain.com/runs/multipart in LangSmith API. HTTPError('403 Client Error: Forbidden for url: https://eu.api.smith.langchain.com/runs/multipart', '{\"error\":\"Forbidden\"}\\n')\n",
      "Failed to send compressed multipart ingest: langsmith.utils.LangSmithError: Failed to POST https://eu.api.smith.langchain.com/runs/multipart in LangSmith API. HTTPError('403 Client Error: Forbidden for url: https://eu.api.smith.langchain.com/runs/multipart', '{\"error\":\"Forbidden\"}\\n')\n",
      "Failed to send compressed multipart ingest: langsmith.utils.LangSmithError: Failed to POST https://eu.api.smith.langchain.com/runs/multipart in LangSmith API. HTTPError('403 Client Error: Forbidden for url: https://eu.api.smith.langchain.com/runs/multipart', '{\"error\":\"Forbidden\"}\\n')\n",
      "Failed to send compressed multipart ingest: langsmith.utils.LangSmithError: Failed to POST https://eu.api.smith.langchain.com/runs/multipart in LangSmith API. HTTPError('403 Client Error: Forbidden for url: https://eu.api.smith.langchain.com/runs/multipart', '{\"error\":\"Forbidden\"}\\n')\n",
      "Failed to send compressed multipart ingest: langsmith.utils.LangSmithError: Failed to POST https://eu.api.smith.langchain.com/runs/multipart in LangSmith API. HTTPError('403 Client Error: Forbidden for url: https://eu.api.smith.langchain.com/runs/multipart', '{\"error\":\"Forbidden\"}\\n')\n",
      "Failed to send compressed multipart ingest: langsmith.utils.LangSmithError: Failed to POST https://eu.api.smith.langchain.com/runs/multipart in LangSmith API. HTTPError('403 Client Error: Forbidden for url: https://eu.api.smith.langchain.com/runs/multipart', '{\"error\":\"Forbidden\"}\\n')\n",
      "Failed to send compressed multipart ingest: langsmith.utils.LangSmithError: Failed to POST https://eu.api.smith.langchain.com/runs/multipart in LangSmith API. HTTPError('403 Client Error: Forbidden for url: https://eu.api.smith.langchain.com/runs/multipart', '{\"error\":\"Forbidden\"}\\n')\n",
      "Failed to send compressed multipart ingest: langsmith.utils.LangSmithError: Failed to POST https://eu.api.smith.langchain.com/runs/multipart in LangSmith API. HTTPError('403 Client Error: Forbidden for url: https://eu.api.smith.langchain.com/runs/multipart', '{\"error\":\"Forbidden\"}\\n')\n",
      "Failed to send compressed multipart ingest: langsmith.utils.LangSmithError: Failed to POST https://eu.api.smith.langchain.com/runs/multipart in LangSmith API. HTTPError('403 Client Error: Forbidden for url: https://eu.api.smith.langchain.com/runs/multipart', '{\"error\":\"Forbidden\"}\\n')\n",
      "Failed to send compressed multipart ingest: langsmith.utils.LangSmithError: Failed to POST https://eu.api.smith.langchain.com/runs/multipart in LangSmith API. HTTPError('403 Client Error: Forbidden for url: https://eu.api.smith.langchain.com/runs/multipart', '{\"error\":\"Forbidden\"}\\n')\n",
      "Failed to send compressed multipart ingest: langsmith.utils.LangSmithError: Failed to POST https://eu.api.smith.langchain.com/runs/multipart in LangSmith API. HTTPError('403 Client Error: Forbidden for url: https://eu.api.smith.langchain.com/runs/multipart', '{\"error\":\"Forbidden\"}\\n')\n",
      "Failed to send compressed multipart ingest: langsmith.utils.LangSmithError: Failed to POST https://eu.api.smith.langchain.com/runs/multipart in LangSmith API. HTTPError('403 Client Error: Forbidden for url: https://eu.api.smith.langchain.com/runs/multipart', '{\"error\":\"Forbidden\"}\\n')\n",
      "Failed to send compressed multipart ingest: langsmith.utils.LangSmithError: Failed to POST https://eu.api.smith.langchain.com/runs/multipart in LangSmith API. HTTPError('403 Client Error: Forbidden for url: https://eu.api.smith.langchain.com/runs/multipart', '{\"error\":\"Forbidden\"}\\n')\n",
      "Failed to send compressed multipart ingest: langsmith.utils.LangSmithError: Failed to POST https://eu.api.smith.langchain.com/runs/multipart in LangSmith API. HTTPError('403 Client Error: Forbidden for url: https://eu.api.smith.langchain.com/runs/multipart', '{\"error\":\"Forbidden\"}\\n')\n",
      "Failed to send compressed multipart ingest: langsmith.utils.LangSmithError: Failed to POST https://eu.api.smith.langchain.com/runs/multipart in LangSmith API. HTTPError('403 Client Error: Forbidden for url: https://eu.api.smith.langchain.com/runs/multipart', '{\"error\":\"Forbidden\"}\\n')\n",
      "Failed to send compressed multipart ingest: langsmith.utils.LangSmithError: Failed to POST https://eu.api.smith.langchain.com/runs/multipart in LangSmith API. HTTPError('403 Client Error: Forbidden for url: https://eu.api.smith.langchain.com/runs/multipart', '{\"error\":\"Forbidden\"}\\n')\n"
     ]
    }
   ],
   "source": [
    "tool.invoke(\"What was the result of Real Madrid's at last match in the Champions League?\")"
   ]
  },
  {
   "cell_type": "markdown",
   "metadata": {},
   "source": [
    "Los resultados son resúmenes de páginas que nuestro chatbot puede usar para responder preguntas."
   ]
  },
  {
   "cell_type": "markdown",
   "metadata": {},
   "source": [
    "Creamos una lista de herramientas, porque nuestro grafo necesita definir las herramientas mediante una lista."
   ]
  },
  {
   "cell_type": "code",
   "execution_count": 4,
   "metadata": {},
   "outputs": [],
   "source": [
    "tools_list = [tool]"
   ]
  },
  {
   "cell_type": "markdown",
   "metadata": {},
   "source": [
    "Comenzaremos a definir nuestro gráfico. Lo siguiente es todo lo mismo que antes, excepto que hemos añadido `bind_tools` en nuestro `LLM`. Esto le permite al `LLM` saber el formato `JSON` correcto para usar si desea usar el motor de búsqueda."
   ]
  },
  {
   "cell_type": "markdown",
   "metadata": {},
   "source": [
    "Definimos el grafo"
   ]
  },
  {
   "cell_type": "code",
   "execution_count": 5,
   "metadata": {},
   "outputs": [],
   "source": [
    "from typing import Annotated\n",
    "\n",
    "from typing_extensions import TypedDict\n",
    "\n",
    "from langgraph.graph import StateGraph, START, END\n",
    "from langgraph.graph.message import add_messages\n",
    "\n",
    "\n",
    "class State(TypedDict):\n",
    "    messages: Annotated[list, add_messages]\n",
    "\n",
    "\n",
    "graph_builder = StateGraph(State)"
   ]
  },
  {
   "cell_type": "markdown",
   "metadata": {},
   "source": [
    "A continuación el `LLM` con las `bind_tools` y lo añadimos al grafo"
   ]
  },
  {
   "cell_type": "code",
   "execution_count": 6,
   "metadata": {},
   "outputs": [
    {
     "data": {
      "text/plain": [
       "<langgraph.graph.state.StateGraph at 0x10e961010>"
      ]
     },
     "execution_count": 6,
     "metadata": {},
     "output_type": "execute_result"
    }
   ],
   "source": [
    "from langchain_huggingface import HuggingFaceEndpoint, ChatHuggingFace\n",
    "from huggingface_hub import login\n",
    "os.environ[\"LANGCHAIN_TRACING_V2\"] = \"false\"    # Disable LangSmith tracing\n",
    "\n",
    "# Create the LLM\n",
    "login(token=HUGGINGFACE_TOKEN)  # Login to HuggingFace to use the model\n",
    "MODEL = \"Qwen/Qwen2.5-72B-Instruct\"\n",
    "model = HuggingFaceEndpoint(\n",
    "    repo_id=MODEL,\n",
    "    task=\"text-generation\",\n",
    "    max_new_tokens=512,\n",
    "    do_sample=False,\n",
    "    repetition_penalty=1.03,\n",
    ")\n",
    "# Create the chat model\n",
    "llm = ChatHuggingFace(llm=model)\n",
    "\n",
    "# Modification: tell the LLM which tools it can call\n",
    "llm_with_tools = llm.bind_tools(tools_list)\n",
    "\n",
    "# Define the chatbot function\n",
    "def chatbot_function(state: State):\n",
    "    return {\"messages\": [llm_with_tools.invoke(state[\"messages\"])]}\n",
    "\n",
    "# Add the chatbot node\n",
    "graph_builder.add_node(\"chatbot_node\", chatbot_function)"
   ]
  },
  {
   "cell_type": "markdown",
   "metadata": {},
   "source": [
    "Necesitamos crear una función para ejecutar las `tools_list` si se llaman. Agregamos las `tools_list` a un nuevo nodo."
   ]
  },
  {
   "cell_type": "markdown",
   "metadata": {},
   "source": [
    "Vamos a implementar la clase `BasicToolNode`, que comprueba el mensaje más reciente en el estado y llama a las `tools_list` si el mensaje contiene `tool_calls`.\n",
    "\n",
    "Se basa en el soporte de `tool_calling` de los `LLM`s , que está disponible en `Anthropic`, `HuggingFace`, `Google Gemini` y varios otros proveedores de `LLM`."
   ]
  },
  {
   "cell_type": "markdown",
   "metadata": {},
   "source": [
    "Más tarde reemplazaremos esto con el método [ToolNode](https://langchain-ai.github.io/langgraph/reference/prebuilt/#toolnode) de `LangGraph` para acelerar las cosas, pero primero lo construiremos nosotros mismos para entender cómo funciona."
   ]
  },
  {
   "cell_type": "markdown",
   "metadata": {},
   "source": [
    "Una de las cosas que usa `LangGraph` para entender "
   ]
  },
  {
   "cell_type": "code",
   "execution_count": 7,
   "metadata": {},
   "outputs": [
    {
     "data": {
      "text/plain": [
       "<langgraph.graph.state.StateGraph at 0x10e961010>"
      ]
     },
     "execution_count": 7,
     "metadata": {},
     "output_type": "execute_result"
    }
   ],
   "source": [
    "import json\n",
    "\n",
    "from langchain_core.messages import ToolMessage\n",
    "\n",
    "class BasicToolNode:\n",
    "    \"\"\"A node that runs the tools requested in the last AIMessage.\"\"\"\n",
    "\n",
    "    def __init__(self, tools: list) -> None:\n",
    "        \"\"\"\n",
    "        Initialize the tools\n",
    "\n",
    "        Args:\n",
    "            tools (list): The tools to use\n",
    "\n",
    "        Returns:\n",
    "            None\n",
    "        \"\"\"\n",
    "        # Initialize the tools\n",
    "        self.tools_by_name = {tool.name: tool for tool in tools}\n",
    "\n",
    "    def __call__(self, inputs: dict):\n",
    "        \"\"\"\n",
    "        Call the node\n",
    "\n",
    "        Args:\n",
    "            inputs (dict): The inputs to the node\n",
    "\n",
    "        Returns:\n",
    "            dict: The outputs of the node\n",
    "        \"\"\"\n",
    "        # Get the last message\n",
    "        if messages := inputs.get(\"messages\", []):\n",
    "            message = messages[-1]\n",
    "        else:\n",
    "            raise ValueError(\"No message found in input\")\n",
    "        \n",
    "        # Execute the tools\n",
    "        outputs = []\n",
    "        for tool_call in message.tool_calls:\n",
    "            tool_result = self.tools_by_name[tool_call[\"name\"]].invoke(\n",
    "                tool_call[\"args\"]\n",
    "            )\n",
    "            outputs.append(\n",
    "                ToolMessage(\n",
    "                    content=json.dumps(tool_result),\n",
    "                    name=tool_call[\"name\"],\n",
    "                    tool_call_id=tool_call[\"id\"],\n",
    "                )\n",
    "            )\n",
    "        return {\"messages\": outputs}\n",
    "\n",
    "\n",
    "basic_tool_node = BasicToolNode(tools=tools_list)\n",
    "graph_builder.add_node(\"tools_node\", basic_tool_node)"
   ]
  },
  {
   "cell_type": "markdown",
   "metadata": {},
   "source": [
    "Hemos usado [ToolMessage](https://python.langchain.com/api_reference/core/messages/langchain_core.messages.tool.ToolMessage.html) que pasa el resultado de ejecutar una `tool` de nuevo al `LLM`.\n",
    "\n",
    "`ToolMessage` contiene el resultado de una invocación de una `tool`.\n",
    "\n",
    "Es decir, en cuanto tenemos el resultado de usar una `Tool` se lo pasamos al LLM para que lo procese"
   ]
  },
  {
   "cell_type": "markdown",
   "metadata": {},
   "source": [
    "Con el nodo de `basic_tool_node` (que es un objeto de la clase `BasicToolNode` que hemos creado) agregado al grafo, podemos definir los `conditional_edges`."
   ]
  },
  {
   "cell_type": "markdown",
   "metadata": {},
   "source": [
    "El `enrutador` enruta el flujo de control de un nodo al siguiente. Los `conditional_edges` por lo general, contienen declaraciones `if` para enrutar a diferentes nodos dependiendo del estado actual del grafo.\n",
    "\n",
    "Estas funciones reciben el grafo actual `state` y devuelven una cadena o lista de cadenas que indican qué nodo o nodos llamar a continuación."
   ]
  },
  {
   "cell_type": "markdown",
   "metadata": {},
   "source": [
    "Vamos a definir una función de enrutadora llamada `route_tools_function`, que comprueba si hay `tool_calls` en la salida del chatbot.\n",
    "\n",
    "Añadimos esta función al gráfico llamando `add_conditional_edges`, que le dice al grafo que cada vez que el nodo del `basic_tool_node` se ejecuta, se llama a la función para verificar a dónde ir a continuación.\n",
    "\n",
    "La condición se dirigirá a `tools_node` si las llamadas de herramientas están presentes y `END` si no.\n",
    "\n",
    "Más tarde, reemplazaremos esto con el método preconstruido `tools_condition` para ser más rápidos, pero ahora lo implementamos nosotros mismos primero ver cómo funciona."
   ]
  },
  {
   "cell_type": "code",
   "execution_count": 8,
   "metadata": {},
   "outputs": [
    {
     "data": {
      "text/plain": [
       "<langgraph.graph.state.StateGraph at 0x10e961010>"
      ]
     },
     "execution_count": 8,
     "metadata": {},
     "output_type": "execute_result"
    }
   ],
   "source": [
    "def route_tools_function(\n",
    "    state: State,\n",
    "):\n",
    "    \"\"\"\n",
    "    Use in the conditional_edge to route to the ToolNode if the last message\n",
    "    has tool calls. Otherwise, route to the end.\n",
    "    \"\"\"\n",
    "    # Get las message\n",
    "    if isinstance(state, list):\n",
    "        ai_message = state[-1]\n",
    "    elif messages := state.get(\"messages\", []):\n",
    "        ai_message = messages[-1]\n",
    "    else:\n",
    "        raise ValueError(f\"No messages found in input state to tool_edge: {state}\")\n",
    "    \n",
    "    # Router in function of last message\n",
    "    if hasattr(ai_message, \"tool_calls\") and len(ai_message.tool_calls) > 0:\n",
    "        return \"tools_node\"\n",
    "    return END\n",
    "\n",
    "\n",
    "# The `tools_condition` function returns \"tools\" if the chatbot asks to use a tool, and \"END\" if\n",
    "# it is fine directly responding. This conditional routing defines the main agent loop.\n",
    "graph_builder.add_conditional_edges(\n",
    "    \"chatbot_node\",\n",
    "    route_tools_function,\n",
    "    # The following dictionary lets you tell the graph to interpret the condition's outputs as a specific node\n",
    "    # It defaults to the identity function, but if you\n",
    "    # want to use a node named something else apart from \"tools\",\n",
    "    # You can update the value of the dictionary to something else\n",
    "    # e.g., \"tools\": \"my_tools\"\n",
    "    {\"tools_node\": \"tools_node\", END: END},\n",
    ")"
   ]
  },
  {
   "cell_type": "markdown",
   "metadata": {},
   "source": [
    "Como el método de `LangGraph` ya existente `tools_condition`, nuestra función devuelve `END` si no se realizan llamadas de `tool`s. Cuando el grafo pasa a `END` éste no tiene más tareas que completar y cesa la ejecución."
   ]
  },
  {
   "cell_type": "markdown",
   "metadata": {},
   "source": [
    "Como la condición puede devolver `END`, no necesitamos establecer explícitamente un `finish_point` esta vez. Nuestro grafo ya tiene una manera de terminar"
   ]
  },
  {
   "cell_type": "code",
   "execution_count": 9,
   "metadata": {},
   "outputs": [
    {
     "data": {
      "text/plain": [
       "<langgraph.graph.state.StateGraph at 0x10e961010>"
      ]
     },
     "execution_count": 9,
     "metadata": {},
     "output_type": "execute_result"
    }
   ],
   "source": [
    "graph_builder.add_edge(\"tools_node\", \"chatbot_node\")"
   ]
  },
  {
   "cell_type": "markdown",
   "metadata": {},
   "source": [
    "Añadimos un otro nodo `edge`, pero en este caso incluye el uso de la `tool` o en final `END`"
   ]
  },
  {
   "cell_type": "code",
   "execution_count": 10,
   "metadata": {},
   "outputs": [
    {
     "data": {
      "text/plain": [
       "<langgraph.graph.state.StateGraph at 0x10e961010>"
      ]
     },
     "execution_count": 10,
     "metadata": {},
     "output_type": "execute_result"
    }
   ],
   "source": [
    "graph_builder.add_edge(START, \"chatbot_node\")"
   ]
  },
  {
   "cell_type": "markdown",
   "metadata": {},
   "source": [
    " > **Aviso** \n",
    " >\n",
    " > Los `conditional_edge`s comienzan desde un solo nodo. Esto le dice al grafo \"en cualquier momento el 'chatbot' se ejecuta el nodo, ve a las 'tools' si se llama a una herramienta o termina el bucle si responde directamente\"."
   ]
  },
  {
   "cell_type": "markdown",
   "metadata": {},
   "source": [
    "Compilamos el grafo"
   ]
  },
  {
   "cell_type": "code",
   "execution_count": 11,
   "metadata": {},
   "outputs": [],
   "source": [
    "graph = graph_builder.compile()"
   ]
  },
  {
   "cell_type": "markdown",
   "metadata": {},
   "source": [
    "Visualizamos el grafo que hemos construido."
   ]
  },
  {
   "cell_type": "code",
   "execution_count": 12,
   "metadata": {},
   "outputs": [
    {
     "data": {
      "image/png": "[encoded data removed]",
      "text/plain": [
       "<IPython.core.display.Image object>"
      ]
     },
     "metadata": {},
     "output_type": "display_data"
    }
   ],
   "source": [
    "from IPython.display import Image, display\n",
    "\n",
    "try:\n",
    "    display(Image(graph.get_graph().draw_mermaid_png()))\n",
    "except Exception as e:\n",
    "    print(f\"Error al visualizar el grafo: {e}\")"
   ]
  },
  {
   "cell_type": "markdown",
   "metadata": {},
   "source": [
    "Ahora podemos hacer preguntas al bot fuera de sus datos de entrenamiento"
   ]
  },
  {
   "cell_type": "code",
   "execution_count": 15,
   "metadata": {},
   "outputs": [
    {
     "name": "stdout",
     "output_type": "stream",
     "text": [
      "\u001b[32mUser: \u001b[0mHow did Real Madrid fare this weekend against Leganes in La Liga?\n",
      "\u001b[33mAssistant: \u001b[0m\n",
      "\u001b[32mUser: \u001b[0mHow did Real Madrid fare this weekend against Leganes in La Liga?\n",
      "\u001b[33mAssistant: \u001b[0m[{\"title\": \"Real Madrid 3-2 Leganes: Goals and highlights - LaLiga 24/25 | Marca\", \"url\": \"https://www.marca.com/en/soccer/laliga/r-madrid-leganes/2025/03/29/01_0101_20250329_186_957-live.html\", \"content\": \"While their form has varied throughout the campaign there is no denying Real Madrid are a force at home in LaLiga this season, as they head into Saturday's match having picked up 34 points from 13 matches.\\n\\nAs for Leganes they currently sit 18th in the table, though they are level with Alaves for 17th as both teams look to stay in the top flight. [...] The two teams have already played twice this season, with Real Madrid securing a 3-0 win in the reverse league fixture. They also met in the quarter-finals of the Copa del Rey, a game Real won 3-2.\\n\\nReal Madrid vs Leganes LIVE - Latest Updates\\n\\nMatch ends, Real Madrid 3, Leganes 2.\\n\\nSecond Half ends, Real Madrid 3, Leganes 2.\\n\\nFoul by Vin\\u00edcius J\\u00fanior (Real Madrid).\\n\\nSeydouba Ciss\\u00e9 (Leganes) wins a free kick in the defensive half. [...] Goal! Real Madrid 1, Leganes 1. Diego Garc\\u00eda (Leganes) left footed shot from very close range.\\n\\nAttempt missed. \\u00d3scar Rodr\\u00edguez (Leganes) left footed shot from the centre of the box.\\n\\nGoal! Real Madrid 1, Leganes 0. Kylian Mbapp\\u00e9 (Real Madrid) converts the penalty with a right footed shot.\\n\\nPenalty Real Madrid. Arda G\\u00fcler draws a foul in the penalty area.\\n\\nPenalty conceded by \\u00d3scar Rodr\\u00edguez (Leganes) after a foul in the penalty area.\\n\\nDelay over. They are ready to continue.\", \"score\": 0.8548001}, {\"title\": \"Real Madrid 3-2 Legan\\u00e9s (Mar 29, 2025) Game Analysis - ESPN\", \"url\": \"https://www.espn.com/soccer/report/_/gameId/704946\", \"content\": \"Real Madrid\\n\\nLegan\\u00e9s\\n\\nMbapp\\u00e9 nets twice to keep Real Madrid's title hopes alive\\n\\nReal Madrid vs. Legan\\u00e9s - Game Highlights\\n\\nWatch the Game Highlights from Real Madrid vs. Legan\\u00e9s, 03/30/2025\\n\\nReal Madrid's Kylian Mbapp\\u00e9 struck twice to help his side come from behind to claim a hard-fought 3-2 home win over relegation-threatened Leganes on Saturday to move the second-placed reigning champions level on points with leaders Barcelona. [...] Leganes pushed for an equaliser but fell to a third consecutive defeat to sit 18th on 27 points, level with Alaves who are one place higher in the safety zone on goal difference.\\n\\n\\\"We have done a tremendous job. We leave with our heads held high because we were fighting until the end to score here,\\\" Leganes striker Garcia said.\\n\\n\\\"Ultimately, it was down to the details that they took it. We played a very serious game and now we have to think about next week.\\\"\\n\\nGame Information\", \"score\": 0.82220376}]\n",
      "\u001b[32mUser: \u001b[0mHow did Real Madrid fare this weekend against Leganes in La Liga?\n",
      "\u001b[33mAssistant: \u001b[0m\n",
      "\u001b[32mUser: \u001b[0mHow did Real Madrid fare this weekend against Leganes in La Liga?\n",
      "\u001b[33mAssistant: \u001b[0m[{\"title\": \"Real Madrid vs Leganes 3-2 | Highlights & All Goals - YouTube\", \"url\": \"https://www.youtube.com/watch?v=ngBWsjmeHEk\", \"content\": \"Real Madrid secured a dramatic 3-2 victory over Leganes in an intense La Liga showdown on 29 March 2025! \\u26bd Watch all the goals and\", \"score\": 0.5157425}, {\"title\": \"Real Madrid 3-2 Legan\\u00e9s (Mar 29, 2025) Game Analysis - ESPN\", \"url\": \"https://www.espn.com/soccer/report/_/gameId/704946\", \"content\": \"\\\"We know what we always have to do: win. We started well, in the opposition half, and we scored a goal. Then we didn't play well for 20 minutes and conceded two goals,\\\" said Mbapp\\u00e9.\\n\\n\\\"But we know that if we play well we'll score and in the second half we scored two goals. We won the game and we're very happy.\\n\\n\\\"We worked on [the set piece] a few weeks ago with the staff. I knew I could shoot this way, I saw the space. I asked the others to let me shoot and it worked out well.\\\" [...] Leganes pushed for an equaliser but fell to a third consecutive defeat to sit 18th on 27 points, level with Alaves who are one place higher in the safety zone on goal difference.\\n\\n\\\"We have done a tremendous job. We leave with our heads held high because we were fighting until the end to score here,\\\" Leganes striker Garcia said.\\n\\n\\\"Ultimately, it was down to the details that they took it. We played a very serious game and now we have to think about next week.\\\"\\n\\nGame Information [...] However, Leganes responded almost immediately as Diego Garcia tapped in a loose ball at the far post to equalise in the following minute before Rodriguez set up Dani Raba to slot past goalkeeper Andriy Lunin in the 41st.\\n\\nReal midfielder Jude Bellingham brought the scores level two minutes after the break, sliding the ball into the net after a rebound off the crossbar. Mbapp\\u00e9 then bagged the winner with a brilliant curled free kick in the 76th minute for his second.\", \"score\": 0.50944775}]\n",
      "\u001b[32mUser: \u001b[0mHow did Real Madrid fare this weekend against Leganes in La Liga?\n",
      "\u001b[33mAssistant: \u001b[0m\n",
      "\u001b[32mUser: \u001b[0mHow did Real Madrid fare this weekend against Leganes in La Liga?\n",
      "\u001b[33mAssistant: \u001b[0m[{\"title\": \"Real Madrid 3-2 Legan\\u00e9s (Mar 29, 2025) Game Analysis - ESPN\", \"url\": \"https://www.espn.com/soccer/report/_/gameId/704946\", \"content\": \"Real Madrid\\n\\nLegan\\u00e9s\\n\\nMbapp\\u00e9 nets twice to keep Real Madrid's title hopes alive\\n\\nReal Madrid vs. Legan\\u00e9s - Game Highlights\\n\\nWatch the Game Highlights from Real Madrid vs. Legan\\u00e9s, 03/30/2025\\n\\nReal Madrid's Kylian Mbapp\\u00e9 struck twice to help his side come from behind to claim a hard-fought 3-2 home win over relegation-threatened Leganes on Saturday to move the second-placed reigning champions level on points with leaders Barcelona. [...] Leganes pushed for an equaliser but fell to a third consecutive defeat to sit 18th on 27 points, level with Alaves who are one place higher in the safety zone on goal difference.\\n\\n\\\"We have done a tremendous job. We leave with our heads held high because we were fighting until the end to score here,\\\" Leganes striker Garcia said.\\n\\n\\\"Ultimately, it was down to the details that they took it. We played a very serious game and now we have to think about next week.\\\"\\n\\nGame Information [...] However, Leganes responded almost immediately as Diego Garcia tapped in a loose ball at the far post to equalise in the following minute before Rodriguez set up Dani Raba to slot past goalkeeper Andriy Lunin in the 41st.\\n\\nReal midfielder Jude Bellingham brought the scores level two minutes after the break, sliding the ball into the net after a rebound off the crossbar. Mbapp\\u00e9 then bagged the winner with a brilliant curled free kick in the 76th minute for his second.\", \"score\": 0.93666285}, {\"title\": \"MBAPPE BRACE Leganes vs. Real Madrid - ESPN FC - YouTube\", \"url\": \"https://www.youtube.com/watch?v=0xwUhzx19_4\", \"content\": \"MBAPPE BRACE \\ud83d\\udd25 Leganes vs. Real Madrid | LALIGA Highlights | ESPN FC \\n ESPN FC \\n 6836 likes \\n 550646 views \\n 29 Mar 2025 \\n Watch these highlights as Kylian Mbappe scores 2 goals to give Real Madrid the 3-2 victory over Leganes in their LALIGA matchup.\\n\\n\\u2714 Subscribe to ESPN+: http://espnplus.com/soccer/youtube\\n\\u2714 Subscribe to ESPN FC on YouTube: http://bit.ly/SUBSCRIBEtoESPNFC \\n 790 comments\", \"score\": 0.92857105}]\n",
      "\u001b[32mUser: \u001b[0mHow did Real Madrid fare this weekend against Leganes in La Liga?\n",
      "\u001b[33mAssistant: \u001b[0m\n",
      "\u001b[32mUser: \u001b[0mHow did Real Madrid fare this weekend against Leganes in La Liga?\n",
      "\u001b[33mAssistant: \u001b[0m[{\"title\": \"(VIDEO) All Goals from Real Madrid vs Leganes in La Liga\", \"url\": \"https://www.beinsports.com/en-us/soccer/la-liga/articles-video/-video-all-goals-from-real-madrid-vs-leganes-in-la-liga-2025-03-29?ess=\", \"content\": \"Real Madrid will host CD Leganes this Saturday, March 29, 2025, at the Santiago Bernab\\u00e9u in a Matchday 29 clash of LaLiga EA Sports.\", \"score\": 0.95628047}, {\"title\": \"Real Madrid v Leganes | March 29, 2025 | Goal.com US\", \"url\": \"https://www.goal.com/en-us/match/real-madrid-vs-leganes/sZTw_SnjyKCcntxKHHQI7\", \"content\": \"Latest news, stats and live commentary for the LaLiga's meeting between Real Madrid v Leganes on the March 29, 2025.\", \"score\": 0.9522955}]\n",
      "\u001b[32mUser: \u001b[0mHow did Real Madrid fare this weekend against Leganes in La Liga?\n",
      "\u001b[33mAssistant: \u001b[0mReal Madrid faced Leganes in La Liga this weekend and came away with a 3-2 victory at the Santiago Bernabéu. The match was intense, with Kylian Mbappé scoring twice for Real Madrid, including a curled free kick in the 76th minute that proved to be the winner. Leganes managed to take the lead briefly with goals from Diego García and Dani Raba, but Real Madrid leveled through Jude Bellingham before Mbappé's second goal secured the win. This result keeps Real Madrid's title hopes alive, moving them level on points with leaders Barcelona.\n",
      "\u001b[32mUser: \u001b[0mWhich players played the match?\n",
      "\u001b[33mAssistant: \u001b[0mThe question is too vague and doesn't provide context such as the sport, league, or specific match in question. Could you please provide more details?\n",
      "\u001b[32mUser: \u001b[0mq\n",
      "\u001b[33mAssistant: \u001b[0mGoodbye!\n"
     ]
    }
   ],
   "source": [
    "# Colors for the terminal\n",
    "COLOR_GREEN = \"\\033[32m\"\n",
    "COLOR_YELLOW = \"\\033[33m\"\n",
    "COLOR_RESET = \"\\033[0m\"\n",
    "\n",
    "\n",
    "def stream_graph_updates(user_input: str):\n",
    "    for event in graph.stream({\"messages\": [{\"role\": \"user\", \"content\": user_input}]}):\n",
    "        for value in event.values():\n",
    "            print(f\"{COLOR_GREEN}User: {COLOR_RESET}{user_input}\")\n",
    "            print(f\"{COLOR_YELLOW}Assistant: {COLOR_RESET}{value['messages'][-1].content}\")\n",
    "\n",
    "while True:\n",
    "    try:\n",
    "        user_input = input(\"User: \")\n",
    "        if user_input.lower() in [\"quit\", \"exit\", \"q\"]:\n",
    "            print(f\"{COLOR_GREEN}User: {COLOR_RESET}{user_input}\")\n",
    "            print(f\"{COLOR_YELLOW}Assistant: {COLOR_RESET}Goodbye!\")\n",
    "            break\n",
    "\n",
    "        stream_graph_updates(user_input)\n",
    "    except:\n",
    "        # fallback if input() is not available\n",
    "        user_input = \"What do you know about LangGraph?\"\n",
    "        print(\"User: \" + user_input)\n",
    "        stream_graph_updates(user_input)\n",
    "        break"
   ]
  },
  {
   "cell_type": "markdown",
   "metadata": {},
   "source": [
    "Como ves, primero le he preguntado cómo quedó el Real Madrid en su último partido en la Liga contra el Leganés\n",
    ", como es algo de actualidad, ha decidido usar la herramienta de búsqueda, con lo que ha obtenido el resultado"
   ]
  },
  {
   "cell_type": "markdown",
   "metadata": {},
   "source": [
    "Sin embargo, a continuación le he preguntado qué jugadores jugaron y no sabía de qué le hablaba, eso es porque no se mantiene el contexto de la conversación. Así que lo siguiente que vamos a hacer es agregar una memoria al agente para que pueda mantener el contexto de la conversación."
   ]
  },
  {
   "cell_type": "markdown",
   "metadata": {},
   "source": [
    "## Agregar memoria al chatbot"
   ]
  },
  {
   "cell_type": "markdown",
   "metadata": {},
   "source": [
    "Nuestro chatbot ahora puede usar herramientas para responder preguntas de los usuarios, pero no recuerda el contexto de las interacciones anteriores. Esto limita su capacidad de tener conversaciones coherentes y de múltiples tandas."
   ]
  },
  {
   "cell_type": "markdown",
   "metadata": {},
   "source": [
    "`LangGraph` resuelve este problema a través de puntos de control persistentes o `checkpoints`. Si le proporcionamos un `checkpointer` al compilar el grafo y un `thread_id` al llamar al grafo, `LangGraph` guarda automáticamente el estado después de cada iteración en la conversación.\n",
    "\n",
    "Cuando invoquemos el grafo nuevamente usando el mismo `thread_id`, el grafo cargará su estado guardado, permitiendo que el chatbot continúe donde lo dejó."
   ]
  },
  {
   "cell_type": "markdown",
   "metadata": {},
   "source": [
    "Veremos más tarde que ese `checkpointing` es mucho más potente que la simple memoria de chat: le permite guardar y reanudar estados complejos en cualquier momento para la recuperación de errores, flujos de trabajo con `human in the loop`, interacciones en el tiempo y más. Pero antes de ver todo eso, vamos a agregar puntos de control para permitir conversaciones de varias iteraciones."
   ]
  },
  {
   "cell_type": "code",
   "execution_count": 1,
   "metadata": {},
   "outputs": [],
   "source": [
    "import os\n",
    "import dotenv\n",
    "\n",
    "dotenv.load_dotenv()\n",
    "\n",
    "HUGGINGFACE_TOKEN = os.getenv(\"HUGGINGFACE_LANGGRAPH\")\n",
    "TAVILY_API_KEY = os.getenv(\"TAVILY_LANGGRAPH_API_KEY\")"
   ]
  },
  {
   "cell_type": "markdown",
   "metadata": {},
   "source": [
    "Para empezar, creamos un `checkpointer` [MemorySaver](https://langchain-ai.github.io/langgraph/reference/checkpoints/#langgraph.checkpoint.memory.MemorySaver)."
   ]
  },
  {
   "cell_type": "code",
   "execution_count": 2,
   "metadata": {},
   "outputs": [],
   "source": [
    "from langgraph.checkpoint.memory import MemorySaver\n",
    "\n",
    "memory = MemorySaver()"
   ]
  },
  {
   "cell_type": "markdown",
   "metadata": {},
   "source": [
    " > **Aviso**\n",
    " >\n",
    " > Estamos usando un `checkpointer` en memoria. Esto es conveniente para nuestro caso, ya que lo guarda todo en memoria la memoria del ordenador. En una aplicación de producción, es probable que se necesite cambiar esto para usarlo con `SqliteSaver` o `PostgresSaver` y conéctarnos a nuestra propia base de datos."
   ]
  },
  {
   "cell_type": "markdown",
   "metadata": {},
   "source": [
    "A continuación, definimos el grafo."
   ]
  },
  {
   "cell_type": "code",
   "execution_count": 3,
   "metadata": {},
   "outputs": [],
   "source": [
    "from typing import Annotated\n",
    "\n",
    "from typing_extensions import TypedDict\n",
    "\n",
    "from langgraph.graph import StateGraph, START, END\n",
    "from langgraph.graph.message import add_messages\n",
    "\n",
    "\n",
    "class State(TypedDict):\n",
    "    messages: Annotated[list, add_messages]\n",
    "\n",
    "\n",
    "graph_builder = StateGraph(State)"
   ]
  },
  {
   "cell_type": "markdown",
   "metadata": {},
   "source": [
    "Definimos la `tool`"
   ]
  },
  {
   "cell_type": "code",
   "execution_count": 4,
   "metadata": {},
   "outputs": [],
   "source": [
    "from langchain_community.utilities.tavily_search import TavilySearchAPIWrapper\n",
    "from langchain_community.tools.tavily_search import TavilySearchResults\n",
    "\n",
    "wrapper = TavilySearchAPIWrapper(tavily_api_key=TAVILY_API_KEY)\n",
    "tool = TavilySearchResults(api_wrapper=wrapper, max_results=2)\n",
    "tools_list = [tool]"
   ]
  },
  {
   "cell_type": "markdown",
   "metadata": {},
   "source": [
    "A continuación el `LLM` con las `bind_tools` y lo añadimos al grafo"
   ]
  },
  {
   "cell_type": "code",
   "execution_count": 5,
   "metadata": {},
   "outputs": [
    {
     "data": {
      "text/plain": [
       "<langgraph.graph.state.StateGraph at 0x1173534d0>"
      ]
     },
     "execution_count": 5,
     "metadata": {},
     "output_type": "execute_result"
    }
   ],
   "source": [
    "from langchain_huggingface import HuggingFaceEndpoint, ChatHuggingFace\n",
    "from huggingface_hub import login\n",
    "os.environ[\"LANGCHAIN_TRACING_V2\"] = \"false\"    # Disable LangSmith tracing\n",
    "\n",
    "# Create the LLM\n",
    "login(token=HUGGINGFACE_TOKEN)  # Login to HuggingFace to use the model\n",
    "MODEL = \"Qwen/Qwen2.5-72B-Instruct\"\n",
    "model = HuggingFaceEndpoint(\n",
    "    repo_id=MODEL,\n",
    "    task=\"text-generation\",\n",
    "    max_new_tokens=512,\n",
    "    do_sample=False,\n",
    "    repetition_penalty=1.03,\n",
    ")\n",
    "# Create the chat model\n",
    "llm = ChatHuggingFace(llm=model)\n",
    "\n",
    "# Modification: tell the LLM which tools it can call\n",
    "llm_with_tools = llm.bind_tools(tools_list)\n",
    "\n",
    "# Define the chatbot function\n",
    "def chatbot_function(state: State):\n",
    "    return {\"messages\": [llm_with_tools.invoke(state[\"messages\"])]}\n",
    "\n",
    "# Add the chatbot node\n",
    "graph_builder.add_node(\"chatbot_node\", chatbot_function)"
   ]
  },
  {
   "cell_type": "markdown",
   "metadata": {},
   "source": [
    "Antes construimos nuestro propio `BasicToolNode` para aprender cómo funciona, ahora lo reemplazaremos con el método de LangGraph `ToolNode` y `tools_condition`, ya que estos hacen algunas cosas buenas como la ejecución paralela de API. Aparte de eso, el resto es igual que antes."
   ]
  },
  {
   "cell_type": "code",
   "execution_count": 6,
   "metadata": {},
   "outputs": [
    {
     "data": {
      "text/plain": [
       "<langgraph.graph.state.StateGraph at 0x1173534d0>"
      ]
     },
     "execution_count": 6,
     "metadata": {},
     "output_type": "execute_result"
    }
   ],
   "source": [
    "from langgraph.prebuilt import ToolNode, tools_condition\n",
    "\n",
    "tool_node = ToolNode(tools=[tool])\n",
    "graph_builder.add_node(\"tools\", tool_node)"
   ]
  },
  {
   "cell_type": "markdown",
   "metadata": {},
   "source": [
    "Añadimos el nodo de `tools_condition` al grafo"
   ]
  },
  {
   "cell_type": "code",
   "execution_count": 7,
   "metadata": {},
   "outputs": [
    {
     "data": {
      "text/plain": [
       "<langgraph.graph.state.StateGraph at 0x1173534d0>"
      ]
     },
     "execution_count": 7,
     "metadata": {},
     "output_type": "execute_result"
    }
   ],
   "source": [
    "graph_builder.add_conditional_edges(\n",
    "    \"chatbot_node\",\n",
    "    tools_condition,\n",
    ")"
   ]
  },
  {
   "cell_type": "markdown",
   "metadata": {},
   "source": [
    "Añadimos el nodo de `tools` al grafo"
   ]
  },
  {
   "cell_type": "code",
   "execution_count": 8,
   "metadata": {},
   "outputs": [
    {
     "data": {
      "text/plain": [
       "<langgraph.graph.state.StateGraph at 0x1173534d0>"
      ]
     },
     "execution_count": 8,
     "metadata": {},
     "output_type": "execute_result"
    }
   ],
   "source": [
    "graph_builder.add_edge(\"tools\", \"chatbot_node\")"
   ]
  },
  {
   "cell_type": "markdown",
   "metadata": {},
   "source": [
    "Añadimos el nodo de `START` al grafo"
   ]
  },
  {
   "cell_type": "code",
   "execution_count": 9,
   "metadata": {},
   "outputs": [
    {
     "data": {
      "text/plain": [
       "<langgraph.graph.state.StateGraph at 0x1173534d0>"
      ]
     },
     "execution_count": 9,
     "metadata": {},
     "output_type": "execute_result"
    }
   ],
   "source": [
    "graph_builder.add_edge(START, \"chatbot_node\")"
   ]
  },
  {
   "cell_type": "markdown",
   "metadata": {},
   "source": [
    "Compilamos el grafo añadiendo el `checkpointer`"
   ]
  },
  {
   "cell_type": "code",
   "execution_count": 10,
   "metadata": {},
   "outputs": [],
   "source": [
    "graph = graph_builder.compile(checkpointer=memory)"
   ]
  },
  {
   "cell_type": "markdown",
   "metadata": {},
   "source": [
    "Lo representamos gráficamente"
   ]
  },
  {
   "cell_type": "code",
   "execution_count": 11,
   "metadata": {},
   "outputs": [
    {
     "data": {
      "image/png": "[encoded data removed]",
      "text/plain": [
       "<IPython.core.display.Image object>"
      ]
     },
     "metadata": {},
     "output_type": "display_data"
    }
   ],
   "source": [
    "from IPython.display import Image, display\n",
    "\n",
    "try:\n",
    "    display(Image(graph.get_graph().draw_mermaid_png()))\n",
    "except Exception as e:\n",
    "    print(f\"Error al visualizar el grafo: {e}\")"
   ]
  },
  {
   "cell_type": "markdown",
   "metadata": {},
   "source": [
    "Creamos una configuración con un `thread_id` de un usuario"
   ]
  },
  {
   "cell_type": "code",
   "execution_count": 12,
   "metadata": {},
   "outputs": [],
   "source": [
    "USER1_THREAD_ID = \"1\"\n",
    "config_USER1 = {\"configurable\": {\"thread_id\": USER1_THREAD_ID}}"
   ]
  },
  {
   "cell_type": "code",
   "execution_count": 14,
   "metadata": {},
   "outputs": [
    {
     "name": "stdout",
     "output_type": "stream",
     "text": [
      "================================\u001b[1m Human Message \u001b[0m=================================\n",
      "\n",
      "Hi there! My name is Maximo.\n",
      "==================================\u001b[1m Ai Message \u001b[0m==================================\n",
      "Tool Calls:\n",
      "  tavily_search_results_json (0)\n",
      " Call ID: 0\n",
      "  Args:\n",
      "    query:  does not reside in any location,}},\n",
      "=================================\u001b[1m Tool Message \u001b[0m=================================\n",
      "Name: tavily_search_results_json\n",
      "\n",
      "[{\"title\": \"Determining an individual's tax residency status - IRS\", \"url\": \"https://www.irs.gov/individuals/international-taxpayers/determining-an-individuals-tax-residency-status\", \"content\": \"If you are not a U.S. citizen, you are considered a nonresident of the United States for U.S. tax purposes unless you meet one of two tests.\", \"score\": 0.1508904}, {\"title\": \"Fix \\\"Location Is Not Available\\\", C:\\\\WINDOWS\\\\system32 ... - YouTube\", \"url\": \"https://www.youtube.com/watch?v=QFD-Ptp0SJw\", \"content\": \"Fix Error \\\"Location is not available\\\" C:\\\\WINDOWS\\\\system32\\\\config\\\\systemprofile\\\\Desktop is unavailable. If the location is on this PC,\", \"score\": 0.07777658}]\n",
      "==================================\u001b[1m Ai Message \u001b[0m==================================\n",
      "Invalid Tool Calls:\n",
      "  tavily_search_results_json (0)\n",
      " Call ID: 0\n",
      "  Args:\n",
      "    {\"query\": \"Arguments[\"image={\"}\n"
     ]
    }
   ],
   "source": [
    "user_input = \"Hi there! My name is Maximo.\"\n",
    "\n",
    "# The config is the **second positional argument** to stream() or invoke()!\n",
    "events = graph.stream(\n",
    "    {\"messages\": [{\"role\": \"user\", \"content\": user_input}]},\n",
    "    config_USER1,\n",
    "    stream_mode=\"values\",\n",
    ")\n",
    "for event in events:\n",
    "    event[\"messages\"][-1].pretty_print()"
   ]
  },
  {
   "cell_type": "code",
   "execution_count": 15,
   "metadata": {},
   "outputs": [
    {
     "name": "stdout",
     "output_type": "stream",
     "text": [
      "================================\u001b[1m Human Message \u001b[0m=================================\n",
      "\n",
      "Do you remember my name?\n",
      "==================================\u001b[1m Ai Message \u001b[0m==================================\n",
      "\n",
      "Of course! You mentioned your name is Maximo.\n"
     ]
    }
   ],
   "source": [
    "user_input = \"Do you remember my name?\"\n",
    "\n",
    "# The config is the **second positional argument** to stream() or invoke()!\n",
    "events = graph.stream(\n",
    "    {\"messages\": [{\"role\": \"user\", \"content\": user_input}]},\n",
    "    config_USER1,\n",
    "    stream_mode=\"values\",\n",
    ")\n",
    "for event in events:\n",
    "    event[\"messages\"][-1].pretty_print()"
   ]
  },
  {
   "cell_type": "markdown",
   "metadata": {},
   "source": [
    "Como se puede ver, no hemos pasado una lista con los mensakes, todo está siendo gestionado por el `checkpointer`."
   ]
  },
  {
   "cell_type": "markdown",
   "metadata": {},
   "source": [
    "Si ahora probamos con otro usuario, es decir, con otro `thread_id`, veremos que el grafo no recuerda la conversación anterior."
   ]
  },
  {
   "cell_type": "code",
   "execution_count": 16,
   "metadata": {},
   "outputs": [
    {
     "name": "stdout",
     "output_type": "stream",
     "text": [
      "================================\u001b[1m Human Message \u001b[0m=================================\n",
      "\n",
      "Do you remember my name?\n",
      "==================================\u001b[1m Ai Message \u001b[0m==================================\n",
      "Tool Calls:\n",
      "  tavily_search_results_json (0)\n",
      " Call ID: 0\n",
      "  Args:\n",
      "    query: Do you Remember My Name\n",
      "=================================\u001b[1m Tool Message \u001b[0m=================================\n",
      "Name: tavily_search_results_json\n",
      "\n",
      "[{\"title\": \"Sam Fender - Remember My Name (Official Video) - YouTube\", \"url\": \"https://www.youtube.com/watch?v=uaQm48G6IjY\", \"content\": \"Sam Fender - Remember My Name (Official Video) \\n SamFenderVEVO \\n 10743 likes \\n 862209 views \\n 14 Feb 2025 \\n Remember My Name is a love song dedicated to my late Grandparents - they were always so fiercely proud of our family so I wrote the song in honour of them, from the perspective of my Grandad who was looking after my Grandma when she was suffering from dementia. This video is a really special one for me and I want to say thank you to everyone involved in making it. I hope you like it ❤️ [...] If I was wanting of anymore\\nI’d be as greedy as those men on the hill\\nBut I remain forlorn\\nIn the memory of what once was\\n\\nChasing a cross in from the wing\\nOur boy’s a whippet, he’s faster than anything\\nRemember the pride that we felt\\nFor the two of us made him ourselves\\n\\nHumour me\\nMake my day\\nI’ll tell you stories\\nKiss your face\\nAnd I’ll pray\\nYou’ll remember\\nMy name\\n\\nI’m not sure of what awaits\\nWasn’t a fan of St Peter and his gates\\nBut by god I pray\\nThat I’ll see you in some way [...] Oh 11 Walk Avenue\\nSomething to behold\\nTo them it’s a council house\\nTo me it’s a home\\nAnd a home that you made\\nWhere the grandkids could play\\nBut it’s never the same without you\\n\\nHumour me\\nMake my day\\nI’ll tell you stories\\nI’ll kiss your face\\nAnd I’ll pray\\nYou’ll remember\\nMy name\\n\\nAnd I’ll pray you remember my name\\nAnd I’ll pray you remember my name\\n\\n---\", \"score\": 0.6609831}, {\"title\": \"Do You Remember My Name? - Novel Updates\", \"url\": \"https://www.novelupdates.com/series/do-you-remember-my-name/\", \"content\": \"This is a Cute, Tender, and Heartwarming High School Romance. It's not Heavy. It's not so Emotional too, but it does have Emotional moments. It's story Full of\", \"score\": 0.608897}]\n",
      "==================================\u001b[1m Ai Message \u001b[0m==================================\n",
      "Tool Calls:\n",
      "  tavily_search_results_json (0)\n",
      " Call ID: 0\n",
      "  Args:\n",
      "    query: do you remember my name\n",
      "=================================\u001b[1m Tool Message \u001b[0m=================================\n",
      "Name: tavily_search_results_json\n",
      "\n",
      "[{\"title\": \"Sam Fender - Remember My Name (Official Video) - YouTube\", \"url\": \"https://www.youtube.com/watch?v=uaQm48G6IjY\", \"content\": \"Sam Fender - Remember My Name (Official Video) \\n SamFenderVEVO \\n 10743 likes \\n 862209 views \\n 14 Feb 2025 \\n Remember My Name is a love song dedicated to my late Grandparents - they were always so fiercely proud of our family so I wrote the song in honour of them, from the perspective of my Grandad who was looking after my Grandma when she was suffering from dementia. This video is a really special one for me and I want to say thank you to everyone involved in making it. I hope you like it ❤️ [...] Oh 11 Walk Avenue\\nSomething to behold\\nTo them it’s a council house\\nTo me it’s a home\\nAnd a home that you made\\nWhere the grandkids could play\\nBut it’s never the same without you\\n\\nHumour me\\nMake my day\\nI’ll tell you stories\\nI’ll kiss your face\\nAnd I’ll pray\\nYou’ll remember\\nMy name\\n\\nAnd I’ll pray you remember my name\\nAnd I’ll pray you remember my name\\n\\n--- [...] If I was wanting of anymore\\nI’d be as greedy as those men on the hill\\nBut I remain forlorn\\nIn the memory of what once was\\n\\nChasing a cross in from the wing\\nOur boy’s a whippet, he’s faster than anything\\nRemember the pride that we felt\\nFor the two of us made him ourselves\\n\\nHumour me\\nMake my day\\nI’ll tell you stories\\nKiss your face\\nAnd I’ll pray\\nYou’ll remember\\nMy name\\n\\nI’m not sure of what awaits\\nWasn’t a fan of St Peter and his gates\\nBut by god I pray\\nThat I’ll see you in some way\", \"score\": 0.7123327}, {\"title\": \"Do you remember my name? - song and lyrics by Alea, Mama Marjas\", \"url\": \"https://open.spotify.com/track/3GVBn3rEQLxZl4zJ4dG8UJ\", \"content\": \"Listen to Do you remember my name? on Spotify. Song · Alea, Mama Marjas · 2023.\", \"score\": 0.6506676}]\n",
      "==================================\u001b[1m Ai Message \u001b[0m==================================\n",
      "Tool Calls:\n",
      "  tavily_search_results_json (0)\n",
      " Call ID: 0\n",
      "  Args:\n",
      "    query: do you remember my name\n",
      "=================================\u001b[1m Tool Message \u001b[0m=================================\n",
      "Name: tavily_search_results_json\n",
      "\n",
      "[{\"title\": \"Sam Fender - Remember My Name (Official Video) - YouTube\", \"url\": \"https://www.youtube.com/watch?v=uaQm48G6IjY\", \"content\": \"Sam Fender - Remember My Name (Official Video) \\n SamFenderVEVO \\n 10743 likes \\n 862209 views \\n 14 Feb 2025 \\n Remember My Name is a love song dedicated to my late Grandparents - they were always so fiercely proud of our family so I wrote the song in honour of them, from the perspective of my Grandad who was looking after my Grandma when she was suffering from dementia. This video is a really special one for me and I want to say thank you to everyone involved in making it. I hope you like it ❤️ [...] Oh 11 Walk Avenue\\nSomething to behold\\nTo them it’s a council house\\nTo me it’s a home\\nAnd a home that you made\\nWhere the grandkids could play\\nBut it’s never the same without you\\n\\nHumour me\\nMake my day\\nI’ll tell you stories\\nI’ll kiss your face\\nAnd I’ll pray\\nYou’ll remember\\nMy name\\n\\nAnd I’ll pray you remember my name\\nAnd I’ll pray you remember my name\\n\\n--- [...] If I was wanting of anymore\\nI’d be as greedy as those men on the hill\\nBut I remain forlorn\\nIn the memory of what once was\\n\\nChasing a cross in from the wing\\nOur boy’s a whippet, he’s faster than anything\\nRemember the pride that we felt\\nFor the two of us made him ourselves\\n\\nHumour me\\nMake my day\\nI’ll tell you stories\\nKiss your face\\nAnd I’ll pray\\nYou’ll remember\\nMy name\\n\\nI’m not sure of what awaits\\nWasn’t a fan of St Peter and his gates\\nBut by god I pray\\nThat I’ll see you in some way\", \"score\": 0.7123327}, {\"title\": \"Do you remember my name? - song and lyrics by Alea, Mama Marjas\", \"url\": \"https://open.spotify.com/track/3GVBn3rEQLxZl4zJ4dG8UJ\", \"content\": \"Listen to Do you remember my name? on Spotify. Song · Alea, Mama Marjas · 2023.\", \"score\": 0.6506676}]\n",
      "==================================\u001b[1m Ai Message \u001b[0m==================================\n",
      "\n",
      "I'm here to assist you, but I don't actually have the ability to remember names or personal information from previous conversations. How can I assist you today?\n"
     ]
    }
   ],
   "source": [
    "USER2_THREAD_ID = \"2\"\n",
    "config_USER2 = {\"configurable\": {\"thread_id\": USER2_THREAD_ID}}\n",
    "\n",
    "user_input = \"Do you remember my name?\"\n",
    "\n",
    "events = graph.stream(\n",
    "    {\"messages\": [{\"role\": \"user\", \"content\": user_input}]},\n",
    "    config_USER2,\n",
    "    stream_mode=\"values\",\n",
    ")\n",
    "for event in events:\n",
    "    event[\"messages\"][-1].pretty_print()"
   ]
  },
  {
   "cell_type": "markdown",
   "metadata": {},
   "source": [
    "Ahora que nuestro chatbot tiene herramientas de búsqueda y memoria, vamos a repetir el ejemplo anterior, donde le pregunto por el resultado del último partido del Real Madrid en la Liga y luego por qué jugadores jugaron."
   ]
  },
  {
   "cell_type": "code",
   "execution_count": 17,
   "metadata": {},
   "outputs": [
    {
     "name": "stdout",
     "output_type": "stream",
     "text": [
      "================================\u001b[1m Human Message \u001b[0m=================================\n",
      "\n",
      "How did Real Madrid fare this weekend against Leganes in La Liga?\n",
      "==================================\u001b[1m Ai Message \u001b[0m==================================\n",
      "Tool Calls:\n",
      "  tavily_search_results_json (0)\n",
      " Call ID: 0\n",
      "  Args:\n",
      "    query: Real Madrid vs Leganes La Liga this weekend\n",
      "=================================\u001b[1m Tool Message \u001b[0m=================================\n",
      "Name: tavily_search_results_json\n",
      "\n",
      "[{\"title\": \"Real Madrid 3-2 Leganes: Goals and highlights - LaLiga 24/25 | Marca\", \"url\": \"https://www.marca.com/en/soccer/laliga/r-madrid-leganes/2025/03/29/01_0101_20250329_186_957-live.html\", \"content\": \"While their form has varied throughout the campaign there is no denying Real Madrid are a force at home in LaLiga this season, as they head into Saturday's match having picked up 34 points from 13 matches.\\n\\nAs for Leganes they currently sit 18th in the table, though they are level with Alaves for 17th as both teams look to stay in the top flight. [...] The two teams have already played twice this season, with Real Madrid securing a 3-0 win in the reverse league fixture. They also met in the quarter-finals of the Copa del Rey, a game Real won 3-2.\\n\\nReal Madrid vs Leganes LIVE - Latest Updates\\n\\nMatch ends, Real Madrid 3, Leganes 2.\\n\\nSecond Half ends, Real Madrid 3, Leganes 2.\\n\\nFoul by Vinícius Júnior (Real Madrid).\\n\\nSeydouba Cissé (Leganes) wins a free kick in the defensive half. [...] Goal! Real Madrid 1, Leganes 1. Diego García (Leganes) left footed shot from very close range.\\n\\nAttempt missed. Óscar Rodríguez (Leganes) left footed shot from the centre of the box.\\n\\nGoal! Real Madrid 1, Leganes 0. Kylian Mbappé (Real Madrid) converts the penalty with a right footed shot.\\n\\nPenalty Real Madrid. Arda Güler draws a foul in the penalty area.\\n\\nPenalty conceded by Óscar Rodríguez (Leganes) after a foul in the penalty area.\\n\\nDelay over. They are ready to continue.\", \"score\": 0.8548001}, {\"title\": \"Real Madrid 3-2 Leganés (Mar 29, 2025) Game Analysis - ESPN\", \"url\": \"https://www.espn.com/soccer/report/_/gameId/704946\", \"content\": \"Real Madrid\\n\\nLeganés\\n\\nMbappé nets twice to keep Real Madrid's title hopes alive\\n\\nReal Madrid vs. Leganés - Game Highlights\\n\\nWatch the Game Highlights from Real Madrid vs. Leganés, 03/30/2025\\n\\nReal Madrid's Kylian Mbappé struck twice to help his side come from behind to claim a hard-fought 3-2 home win over relegation-threatened Leganes on Saturday to move the second-placed reigning champions level on points with leaders Barcelona. [...] Leganes pushed for an equaliser but fell to a third consecutive defeat to sit 18th on 27 points, level with Alaves who are one place higher in the safety zone on goal difference.\\n\\n\\\"We have done a tremendous job. We leave with our heads held high because we were fighting until the end to score here,\\\" Leganes striker Garcia said.\\n\\n\\\"Ultimately, it was down to the details that they took it. We played a very serious game and now we have to think about next week.\\\"\\n\\nGame Information\", \"score\": 0.82220376}]\n",
      "==================================\u001b[1m Ai Message \u001b[0m==================================\n",
      "\n",
      "Real Madrid secured a 3-2 victory against Leganes this weekend in their La Liga match. Kylian Mbappé scored twice, including a penalty, to help his team come from behind and claim the win, keeping Real Madrid's title hopes alive. Leganes, now sitting 18th in the table, continues to face challenges in their fight against relegation.\n"
     ]
    }
   ],
   "source": [
    "USER3_THREAD_ID = \"3\"\n",
    "config_USER3 = {\"configurable\": {\"thread_id\": USER3_THREAD_ID}}\n",
    "\n",
    "user_input = \"How did Real Madrid fare this weekend against Leganes in La Liga?\"\n",
    "\n",
    "events = graph.stream(\n",
    "    {\"messages\": [{\"role\": \"user\", \"content\": user_input}]},\n",
    "    config_USER3,\n",
    "    stream_mode=\"values\",\n",
    ")\n",
    "for event in events:\n",
    "    event[\"messages\"][-1].pretty_print()"
   ]
  },
  {
   "cell_type": "markdown",
   "metadata": {},
   "source": [
    "Ahora le preguntamos por los jugadores que jugaron en el partido."
   ]
  },
  {
   "cell_type": "code",
   "execution_count": 18,
   "metadata": {},
   "outputs": [
    {
     "name": "stdout",
     "output_type": "stream",
     "text": [
      "================================\u001b[1m Human Message \u001b[0m=================================\n",
      "\n",
      "Which players played the match?\n",
      "==================================\u001b[1m Ai Message \u001b[0m==================================\n",
      "Tool Calls:\n",
      "  tavily_search_results_json (0)\n",
      " Call ID: 0\n",
      "  Args:\n",
      "    query: Real Madrid vs Leganes match report players lineup\n",
      "=================================\u001b[1m Tool Message \u001b[0m=================================\n",
      "Name: tavily_search_results_json\n",
      "\n",
      "[{\"title\": \"Real Madrid vs. Leganes final score: La Liga result, updates, stats ...\", \"url\": \"https://www.sportingnews.com/us/soccer/news/real-madrid-leganes-score-result-updates-stats-la-liga/8ecf730cfcb9b6c5f6693a0d\", \"content\": \"Real Madrid came through a topsy-turvy game with Leganes to claim a 3-2 victory and put pressure back on Barcelona in La Liga's title race. Kylian Mbappe scored in each half either side of a Jude Bellingham goal — his first in the league since January 3 — to seal all three points for the champions after Leganes had come from behind to lead at the interval. Rodrygo won back the ball in the Leganes half and earned a free-kick on the edge of the box, and Mbappe found the bottom corner after rolling the ball short to Fran Garcia to work an angle. Leganes lead Real Madrid at the Bernabeu for the very first time! *Real Madrid starting lineup (4-3-3, right to left):* Lunin (GK) — Vazquez, Rudiger, Asencio, Garcia — Modric, Bellingham, Camavinga — B.\", \"score\": 0.88372874}, {\"title\": \"CONFIRMED lineups: Real Madrid vs Leganés, 2025 La Liga\", \"url\": \"https://www.managingmadrid.com/2025/3/29/24396638/real-madrid-vs-leganes-2025-la-liga-live-online-stream\", \"content\": \"Real Madrid starting XI: Lunin, Vazquez, Rudiger, Asencio, Fran Garcia, Camavinga, Guler, Modric, Bellingham, Brahim, Mbappe. Leganes starting\", \"score\": 0.83452857}]\n",
      "==================================\u001b[1m Ai Message \u001b[0m==================================\n",
      "Tool Calls:\n",
      "  tavily_search_results_json (0)\n",
      " Call ID: 0\n",
      "  Args:\n",
      "    query: Real Madrid vs Leganes players 2025\n",
      "=================================\u001b[1m Tool Message \u001b[0m=================================\n",
      "Name: tavily_search_results_json\n",
      "\n",
      "[{\"title\": \"Player Ratings: Real Madrid 3-2 Leganes; 2025 La Liga\", \"url\": \"https://www.managingmadrid.com/2025/3/30/24396688/player-ratings-real-madrid-3-2-leganes-2025-la-liga\", \"content\": \"Raúl Asencio—7: Applauded by the Bernabeu on multiple occasions with good sweeping up defensively.\\n\\nFran García—6: Better on the offensive end, getting into the final third and playing some dagger crosses.\\n\\nEduardo Camavinga—6: Modric and Camavinga struggled to deal with Leganes counter attacks and Diego, playing as a #10 for Leganes, got the better of both of them. [...] Follow Managing Madrid online:\\n\\nSite search\\n\\nManaging Madrid main menu\\n\\nFiled under:\\n\\nPlayer Ratings: Real Madrid 3-2 Leganes; 2025 La Liga\\n\\nKylian Mbappe scores a brace to help Madrid secure a nervy 3-2 victory.\\n\\nShare this story\\n\\nShare\\nAll sharing options for:\\nPlayer Ratings: Real Madrid 3-2 Leganes; 2025 La Liga\\n\\nFull match player ratings below:\\n\\nAndriy Lunin—7: Not at fault for the goals, was left with the opposition taking a shot from near the six yard box. [...] Lucas Vázquez—4: Exposed in transition and lacking the speed and athleticism to cover the gaps he leaves when venturing forward. Needs a more “pessimistic” attitude when the ball is on the opposite flank, occupying better spots in ““rest defense”.\\n\\nAntonio Rudiger—5: Several unnecessary long distance shots to hurt Madrid’s rhythm and reinforce Leganes game plan. Playing with too many matches in his legs and it’s beginning to show.\", \"score\": 0.8832463}, {\"title\": \"Real Madrid vs. Leganés (Mar 29, 2025) Live Score - ESPN\", \"url\": \"https://www.espn.com/soccer/match/_/gameId/704946\", \"content\": \"Match Formations · 13. Lunin · 20. García · 22. Rüdiger · 35. Asencio · 17. Vázquez · 5. Bellingham · 10. Modric · 6. Camavinga.\", \"score\": 0.86413884}]\n",
      "==================================\u001b[1m Ai Message \u001b[0m==================================\n",
      "Tool Calls:\n",
      "  tavily_search_results_json (0)\n",
      " Call ID: 0\n",
      "  Args:\n",
      "    query: Real Madrid vs Leganes starting lineup\n",
      "=================================\u001b[1m Tool Message \u001b[0m=================================\n",
      "Name: tavily_search_results_json\n",
      "\n",
      "[{\"title\": \"Starting lineups of Real Madrid and Leganés\", \"url\": \"https://www.realmadrid.com/en-US/news/football/first-team/latest-news/once-inicial-del-real-madrid-contra-el-leganes-29-03-2025\", \"content\": \"Starting lineups of Real Madrid and LeganÃ©s\\n\\n\\n\\nThe Whitesâ team is: Lunin, Lucas V., Asencio, RÃ¼diger, Fran GarcÃ­a, Arda GÃ¼ler, ModriÄ, Camavinga, Bellingham, Brahim and MbappÃ©.\\n\\n\\n\\n\\n\\nReal Madrid have named their starting line-up for the game against LeganÃ©s on matchday 29 of LaLiga, which will be played at the Santiago BernabÃ©u (9 pm CET). [...] Real Madrid starting line-up:\\n13. Lunin\\n17. Lucas V.\\n35. Asencio\\n22. RÃ¼diger\\n20. Fran GarcÃ­a\\n15. Arda GÃ¼ler\\n10. ModriÄ\\n6. Camavinga\\n5. Bellingham\\n21. Brahim\\n9. MbappÃ©.\\n\\nSubstitutes:\\n26. Fran GonzÃ¡lez\\n34. Sergio Mestre\\n4. Alaba\\n7. Vini Jr.\\n8. Valverde\\n11. Rodrygo\\n14. Tchouameni\\n16. Endrick\\n18. Vallejo\\n43. Diego Aguado.\\n\\nLeganÃ©s starting line-up:\\n13. Dmitrovic\\n5. Tapia\\n6. Sergio G.\\n7. Ãscar\\n10. Raba\\n11. Cruz\\n12. V. Rosier\\n17. Neyou\\n19. Diego G.\\n20. Javi HernÃ¡ndez\\n22. Nastasic. [...] Suplentes:\\n1. Juan Soriano\\n36. Abajas\\n2. A. Alti\\n3. Jorge SÃ¡enz\\n8. Cisse\\n9. Miguel\\n14. Darko\\n18. Duk\\n21. R. LÃ³pez\\n23. Munir\\n24. Chicco\\n30. I. Diomande.\\n\\n\\n\\nDownload Now\\n\\nOfficial App Fan\\n\\nReal Madrid Â© 2025 All rights reserved\", \"score\": 0.9465623}, {\"title\": \"Real Madrid vs. Leganes lineups, confirmed starting 11, team news ...\", \"url\": \"https://www.sportingnews.com/us/soccer/news/real-madrid-leganes-lineups-starting-11-team-news-injuries/aac757d10cc7b9a084995b4d\", \"content\": \"Real Madrid starting lineup (4-3-3, right to left): Lunin (GK) — Vazquez, Rudiger, Asencio, Garcia — Modric, Bellingham, Camavinga — B. Diaz,\", \"score\": 0.9224337}]\n",
      "==================================\u001b[1m Ai Message \u001b[0m==================================\n",
      "\n",
      "The starting lineup for Real Madrid in their match against Leganés was: Lunin (GK), Vázquez, Rüdiger, Asencio, Fran García, Modric, Bellingham, Camavinga, Brahim, Arda Güler, and Mbappé. Notable players like Vini Jr., Rodrygo, and Valverde were on the bench.\n"
     ]
    }
   ],
   "source": [
    "user_input = \"Which players played the match?\"\n",
    "\n",
    "events = graph.stream(\n",
    "    {\"messages\": [{\"role\": \"user\", \"content\": user_input}]},\n",
    "    config_USER3,\n",
    "    stream_mode=\"values\",\n",
    ")\n",
    "for event in events:\n",
    "    event[\"messages\"][-1].pretty_print()"
   ]
  },
  {
   "cell_type": "markdown",
   "metadata": {},
   "source": [
    "Tras mucho buscar, al final lo encuentra. Por lo que ya tenemos un chatbot con `tools` y memoria."
   ]
  },
  {
   "cell_type": "markdown",
   "metadata": {},
   "source": [
    "Por ahora, hemos creado unos `checkpoints` en tres hilos diferentes. Pero, ¿qué entra en cada `checkpoint`? Para inspeccionar el estado de un grafo para una configuración dada podemos usar el método `get_state(config)`."
   ]
  },
  {
   "cell_type": "code",
   "execution_count": 19,
   "metadata": {},
   "outputs": [
    {
     "data": {
      "text/plain": [
       "StateSnapshot(values={'messages': [HumanMessage(content='How did Real Madrid fare this weekend against Leganes in La Liga?', additional_kwargs={}, response_metadata={}, id='a33f5825-1ae4-4717-ad17-8e306f35b027'), AIMessage(content='', additional_kwargs={'tool_calls': [{'function': {'arguments': {'query': 'Real Madrid vs Leganes La Liga this weekend'}, 'name': 'tavily_search_results_json', 'description': None}, 'id': '0', 'type': 'function'}]}, response_metadata={'token_usage': {'completion_tokens': 25, 'prompt_tokens': 296, 'total_tokens': 321}, 'model': '', 'finish_reason': 'stop'}, id='run-7905b5ae-5dee-4641-b012-396affde984c-0', tool_calls=[{'name': 'tavily_search_results_json', 'args': {'query': 'Real Madrid vs Leganes La Liga this weekend'}, 'id': '0', 'type': 'tool_call'}]), ToolMessage(content='[{\"title\": \"Real Madrid 3-2 Leganes: Goals and highlights - LaLiga 24/25 | Marca\", \"url\": \"https://www.marca.com/en/soccer/laliga/r-madrid-leganes/2025/03/29/01_0101_20250329_186_957-live.html\", \"content\": \"While their form has varied throughout the campaign there is no denying Real Madrid are a force at home in LaLiga this season, as they head into Saturday\\'s match having picked up 34 points from 13 matches.\\\\n\\\\nAs for Leganes they currently sit 18th in the table, though they are level with Alaves for 17th as both teams look to stay in the top flight. [...] The two teams have already played twice this season, with Real Madrid securing a 3-0 win in the reverse league fixture. They also met in the quarter-finals of the Copa del Rey, a game Real won 3-2.\\\\n\\\\nReal Madrid vs Leganes LIVE - Latest Updates\\\\n\\\\nMatch ends, Real Madrid 3, Leganes 2.\\\\n\\\\nSecond Half ends, Real Madrid 3, Leganes 2.\\\\n\\\\nFoul by Vinícius Júnior (Real Madrid).\\\\n\\\\nSeydouba Cissé (Leganes) wins a free kick in the defensive half. [...] Goal! Real Madrid 1, Leganes 1. Diego García (Leganes) left footed shot from very close range.\\\\n\\\\nAttempt missed. Óscar Rodríguez (Leganes) left footed shot from the centre of the box.\\\\n\\\\nGoal! Real Madrid 1, Leganes 0. Kylian Mbappé (Real Madrid) converts the penalty with a right footed shot.\\\\n\\\\nPenalty Real Madrid. Arda Güler draws a foul in the penalty area.\\\\n\\\\nPenalty conceded by Óscar Rodríguez (Leganes) after a foul in the penalty area.\\\\n\\\\nDelay over. They are ready to continue.\", \"score\": 0.8548001}, {\"title\": \"Real Madrid 3-2 Leganés (Mar 29, 2025) Game Analysis - ESPN\", \"url\": \"https://www.espn.com/soccer/report/_/gameId/704946\", \"content\": \"Real Madrid\\\\n\\\\nLeganés\\\\n\\\\nMbappé nets twice to keep Real Madrid\\'s title hopes alive\\\\n\\\\nReal Madrid vs. Leganés - Game Highlights\\\\n\\\\nWatch the Game Highlights from Real Madrid vs. Leganés, 03/30/2025\\\\n\\\\nReal Madrid\\'s Kylian Mbappé struck twice to help his side come from behind to claim a hard-fought 3-2 home win over relegation-threatened Leganes on Saturday to move the second-placed reigning champions level on points with leaders Barcelona. [...] Leganes pushed for an equaliser but fell to a third consecutive defeat to sit 18th on 27 points, level with Alaves who are one place higher in the safety zone on goal difference.\\\\n\\\\n\\\\\"We have done a tremendous job. We leave with our heads held high because we were fighting until the end to score here,\\\\\" Leganes striker Garcia said.\\\\n\\\\n\\\\\"Ultimately, it was down to the details that they took it. We played a very serious game and now we have to think about next week.\\\\\"\\\\n\\\\nGame Information\", \"score\": 0.82220376}]', name='tavily_search_results_json', id='0e02fce3-a6f0-4cce-9217-04c8c3219265', tool_call_id='0', artifact={'query': 'Real Madrid vs Leganes La Liga this weekend', 'follow_up_questions': None, 'answer': None, 'images': [], 'results': [{'url': 'https://www.marca.com/en/soccer/laliga/r-madrid-leganes/2025/03/29/01_0101_20250329_186_957-live.html', 'title': 'Real Madrid 3-2 Leganes: Goals and highlights - LaLiga 24/25 | Marca', 'content': \"While their form has varied throughout the campaign there is no denying Real Madrid are a force at home in LaLiga this season, as they head into Saturday's match having picked up 34 points from 13 matches.\\n\\nAs for Leganes they currently sit 18th in the table, though they are level with Alaves for 17th as both teams look to stay in the top flight. [...] The two teams have already played twice this season, with Real Madrid securing a 3-0 win in the reverse league fixture. They also met in the quarter-finals of the Copa del Rey, a game Real won 3-2.\\n\\nReal Madrid vs Leganes LIVE - Latest Updates\\n\\nMatch ends, Real Madrid 3, Leganes 2.\\n\\nSecond Half ends, Real Madrid 3, Leganes 2.\\n\\nFoul by Vinícius Júnior (Real Madrid).\\n\\nSeydouba Cissé (Leganes) wins a free kick in the defensive half. [...] Goal! Real Madrid 1, Leganes 1. Diego García (Leganes) left footed shot from very close range.\\n\\nAttempt missed. Óscar Rodríguez (Leganes) left footed shot from the centre of the box.\\n\\nGoal! Real Madrid 1, Leganes 0. Kylian Mbappé (Real Madrid) converts the penalty with a right footed shot.\\n\\nPenalty Real Madrid. Arda Güler draws a foul in the penalty area.\\n\\nPenalty conceded by Óscar Rodríguez (Leganes) after a foul in the penalty area.\\n\\nDelay over. They are ready to continue.\", 'score': 0.8548001, 'raw_content': None}, {'url': 'https://www.espn.com/soccer/report/_/gameId/704946', 'title': 'Real Madrid 3-2 Leganés (Mar 29, 2025) Game Analysis - ESPN', 'content': 'Real Madrid\\n\\nLeganés\\n\\nMbappé nets twice to keep Real Madrid\\'s title hopes alive\\n\\nReal Madrid vs. Leganés - Game Highlights\\n\\nWatch the Game Highlights from Real Madrid vs. Leganés, 03/30/2025\\n\\nReal Madrid\\'s Kylian Mbappé struck twice to help his side come from behind to claim a hard-fought 3-2 home win over relegation-threatened Leganes on Saturday to move the second-placed reigning champions level on points with leaders Barcelona. [...] Leganes pushed for an equaliser but fell to a third consecutive defeat to sit 18th on 27 points, level with Alaves who are one place higher in the safety zone on goal difference.\\n\\n\"We have done a tremendous job. We leave with our heads held high because we were fighting until the end to score here,\" Leganes striker Garcia said.\\n\\n\"Ultimately, it was down to the details that they took it. We played a very serious game and now we have to think about next week.\"\\n\\nGame Information', 'score': 0.82220376, 'raw_content': None}], 'response_time': 1.47}), AIMessage(content=\"Real Madrid secured a 3-2 victory against Leganes this weekend in their La Liga match. Kylian Mbappé scored twice, including a penalty, to help his team come from behind and claim the win, keeping Real Madrid's title hopes alive. Leganes, now sitting 18th in the table, continues to face challenges in their fight against relegation.\", additional_kwargs={}, response_metadata={'token_usage': {'completion_tokens': 92, 'prompt_tokens': 1086, 'total_tokens': 1178}, 'model': '', 'finish_reason': 'stop'}, id='run-22226dda-0475-49b7-882f-fe7bd63ef025-0'), HumanMessage(content='Which players played the match?', additional_kwargs={}, response_metadata={}, id='3e6d9f84-06a2-4148-8f2b-d8ef42c3bea1'), AIMessage(content='', additional_kwargs={'tool_calls': [{'function': {'arguments': {'query': 'Real Madrid vs Leganes match report players lineup'}, 'name': 'tavily_search_results_json', 'description': None}, 'id': '0', 'type': 'function'}]}, response_metadata={'token_usage': {'completion_tokens': 29, 'prompt_tokens': 1178, 'total_tokens': 1207}, 'model': '', 'finish_reason': 'stop'}, id='run-025d3235-61b9-4add-8e1b-5b1bc795a9d3-0', tool_calls=[{'name': 'tavily_search_results_json', 'args': {'query': 'Real Madrid vs Leganes match report players lineup'}, 'id': '0', 'type': 'tool_call'}]), ToolMessage(content='[{\"title\": \"Real Madrid vs. Leganes final score: La Liga result, updates, stats ...\", \"url\": \"https://www.sportingnews.com/us/soccer/news/real-madrid-leganes-score-result-updates-stats-la-liga/8ecf730cfcb9b6c5f6693a0d\", \"content\": \"Real Madrid came through a topsy-turvy game with Leganes to claim a 3-2 victory and put pressure back on Barcelona in La Liga\\'s title race. Kylian Mbappe scored in each half either side of a Jude Bellingham goal — his first in the league since January 3 — to seal all three points for the champions after Leganes had come from behind to lead at the interval. Rodrygo won back the ball in the Leganes half and earned a free-kick on the edge of the box, and Mbappe found the bottom corner after rolling the ball short to Fran Garcia to work an angle. Leganes lead Real Madrid at the Bernabeu for the very first time! *Real Madrid starting lineup (4-3-3, right to left):*\\xa0Lunin (GK) — Vazquez, Rudiger, Asencio, Garcia — Modric, Bellingham, Camavinga — B.\", \"score\": 0.88372874}, {\"title\": \"CONFIRMED lineups: Real Madrid vs Leganés, 2025 La Liga\", \"url\": \"https://www.managingmadrid.com/2025/3/29/24396638/real-madrid-vs-leganes-2025-la-liga-live-online-stream\", \"content\": \"Real Madrid starting XI: Lunin, Vazquez, Rudiger, Asencio, Fran Garcia, Camavinga, Guler, Modric, Bellingham, Brahim, Mbappe. Leganes starting\", \"score\": 0.83452857}]', name='tavily_search_results_json', id='2dbc1324-2c20-406a-b2d7-a3d6fc609537', tool_call_id='0', artifact={'query': 'Real Madrid vs Leganes match report players lineup', 'follow_up_questions': None, 'answer': None, 'images': [], 'results': [{'url': 'https://www.sportingnews.com/us/soccer/news/real-madrid-leganes-score-result-updates-stats-la-liga/8ecf730cfcb9b6c5f6693a0d', 'title': 'Real Madrid vs. Leganes final score: La Liga result, updates, stats ...', 'content': \"Real Madrid came through a topsy-turvy game with Leganes to claim a 3-2 victory and put pressure back on Barcelona in La Liga's title race. Kylian Mbappe scored in each half either side of a Jude Bellingham goal — his first in the league since January 3 — to seal all three points for the champions after Leganes had come from behind to lead at the interval. Rodrygo won back the ball in the Leganes half and earned a free-kick on the edge of the box, and Mbappe found the bottom corner after rolling the ball short to Fran Garcia to work an angle. Leganes lead Real Madrid at the Bernabeu for the very first time! *Real Madrid starting lineup (4-3-3, right to left):*\\xa0Lunin (GK) — Vazquez, Rudiger, Asencio, Garcia — Modric, Bellingham, Camavinga — B.\", 'score': 0.88372874, 'raw_content': None}, {'url': 'https://www.managingmadrid.com/2025/3/29/24396638/real-madrid-vs-leganes-2025-la-liga-live-online-stream', 'title': 'CONFIRMED lineups: Real Madrid vs Leganés, 2025 La Liga', 'content': 'Real Madrid starting XI: Lunin, Vazquez, Rudiger, Asencio, Fran Garcia, Camavinga, Guler, Modric, Bellingham, Brahim, Mbappe. Leganes starting', 'score': 0.83452857, 'raw_content': None}], 'response_time': 3.36}), AIMessage(content='', additional_kwargs={'tool_calls': [{'function': {'arguments': {'query': 'Real Madrid vs Leganes players 2025'}, 'name': 'tavily_search_results_json', 'description': None}, 'id': '0', 'type': 'function'}]}, response_metadata={'token_usage': {'completion_tokens': 31, 'prompt_tokens': 1630, 'total_tokens': 1661}, 'model': '', 'finish_reason': 'stop'}, id='run-d6b4c4ff-0923-4082-9dea-7c51b2a4fc60-0', tool_calls=[{'name': 'tavily_search_results_json', 'args': {'query': 'Real Madrid vs Leganes players 2025'}, 'id': '0', 'type': 'tool_call'}]), ToolMessage(content='[{\"title\": \"Player Ratings: Real Madrid 3-2 Leganes; 2025 La Liga\", \"url\": \"https://www.managingmadrid.com/2025/3/30/24396688/player-ratings-real-madrid-3-2-leganes-2025-la-liga\", \"content\": \"Raúl Asencio—7: Applauded by the Bernabeu on multiple occasions with good sweeping up defensively.\\\\n\\\\nFran García—6: Better on the offensive end, getting into the final third and playing some dagger crosses.\\\\n\\\\nEduardo Camavinga—6: Modric and Camavinga struggled to deal with Leganes counter attacks and Diego, playing as a #10 for Leganes, got the better of both of them. [...] Follow Managing Madrid online:\\\\n\\\\nSite search\\\\n\\\\nManaging Madrid main menu\\\\n\\\\nFiled under:\\\\n\\\\nPlayer Ratings: Real Madrid 3-2 Leganes; 2025 La Liga\\\\n\\\\nKylian Mbappe scores a brace to help Madrid secure a nervy 3-2 victory.\\\\n\\\\nShare this story\\\\n\\\\nShare\\\\nAll sharing options for:\\\\nPlayer Ratings: Real Madrid 3-2 Leganes; 2025 La Liga\\\\n\\\\nFull match player ratings below:\\\\n\\\\nAndriy Lunin—7: Not at fault for the goals, was left with the opposition taking a shot from near the six yard box. [...] Lucas Vázquez—4: Exposed in transition and lacking the speed and athleticism to cover the gaps he leaves when venturing forward. Needs a more “pessimistic” attitude when the ball is on the opposite flank, occupying better spots in ““rest defense”.\\\\n\\\\nAntonio Rudiger—5: Several unnecessary long distance shots to hurt Madrid’s rhythm and reinforce Leganes game plan. Playing with too many matches in his legs and it’s beginning to show.\", \"score\": 0.8832463}, {\"title\": \"Real Madrid vs. Leganés (Mar 29, 2025) Live Score - ESPN\", \"url\": \"https://www.espn.com/soccer/match/_/gameId/704946\", \"content\": \"Match Formations · 13. Lunin · 20. García · 22. Rüdiger · 35. Asencio · 17. Vázquez · 5. Bellingham · 10. Modric · 6. Camavinga.\", \"score\": 0.86413884}]', name='tavily_search_results_json', id='ac15dd6e-09b1-4075-834e-d869f4079285', tool_call_id='0', artifact={'query': 'Real Madrid vs Leganes players 2025', 'follow_up_questions': None, 'answer': None, 'images': [], 'results': [{'url': 'https://www.managingmadrid.com/2025/3/30/24396688/player-ratings-real-madrid-3-2-leganes-2025-la-liga', 'title': 'Player Ratings: Real Madrid 3-2 Leganes; 2025 La Liga', 'content': 'Raúl Asencio—7: Applauded by the Bernabeu on multiple occasions with good sweeping up defensively.\\n\\nFran García—6: Better on the offensive end, getting into the final third and playing some dagger crosses.\\n\\nEduardo Camavinga—6: Modric and Camavinga struggled to deal with Leganes counter attacks and Diego, playing as a #10 for Leganes, got the better of both of them. [...] Follow Managing Madrid online:\\n\\nSite search\\n\\nManaging Madrid main menu\\n\\nFiled under:\\n\\nPlayer Ratings: Real Madrid 3-2 Leganes; 2025 La Liga\\n\\nKylian Mbappe scores a brace to help Madrid secure a nervy 3-2 victory.\\n\\nShare this story\\n\\nShare\\nAll sharing options for:\\nPlayer Ratings: Real Madrid 3-2 Leganes; 2025 La Liga\\n\\nFull match player ratings below:\\n\\nAndriy Lunin—7: Not at fault for the goals, was left with the opposition taking a shot from near the six yard box. [...] Lucas Vázquez—4: Exposed in transition and lacking the speed and athleticism to cover the gaps he leaves when venturing forward. Needs a more “pessimistic” attitude when the ball is on the opposite flank, occupying better spots in ““rest defense”.\\n\\nAntonio Rudiger—5: Several unnecessary long distance shots to hurt Madrid’s rhythm and reinforce Leganes game plan. Playing with too many matches in his legs and it’s beginning to show.', 'score': 0.8832463, 'raw_content': None}, {'url': 'https://www.espn.com/soccer/match/_/gameId/704946', 'title': 'Real Madrid vs. Leganés (Mar 29, 2025) Live Score - ESPN', 'content': 'Match Formations · 13. Lunin · 20. García · 22. Rüdiger · 35. Asencio · 17. Vázquez · 5. Bellingham · 10. Modric · 6. Camavinga.', 'score': 0.86413884, 'raw_content': None}], 'response_time': 0.89}), AIMessage(content='', additional_kwargs={'tool_calls': [{'function': {'arguments': {'query': 'Real Madrid vs Leganes starting lineup'}, 'name': 'tavily_search_results_json', 'description': None}, 'id': '0', 'type': 'function'}]}, response_metadata={'token_usage': {'completion_tokens': 27, 'prompt_tokens': 2212, 'total_tokens': 2239}, 'model': '', 'finish_reason': 'stop'}, id='run-68867df1-2012-47ac-9f01-42b071ef3a1f-0', tool_calls=[{'name': 'tavily_search_results_json', 'args': {'query': 'Real Madrid vs Leganes starting lineup'}, 'id': '0', 'type': 'tool_call'}]), ToolMessage(content='[{\"title\": \"Starting lineups of Real Madrid and Leganés\", \"url\": \"https://www.realmadrid.com/en-US/news/football/first-team/latest-news/once-inicial-del-real-madrid-contra-el-leganes-29-03-2025\", \"content\": \"Starting lineups of Real Madrid and LeganÃ©s\\\\n\\\\n\\\\n\\\\nThe Whitesâ\\x80\\x99 team is: Lunin, Lucas V., Asencio, RÃ¼diger, Fran GarcÃ\\xada, Arda GÃ¼ler, ModriÄ\\x87, Camavinga, Bellingham, Brahim and MbappÃ©.\\\\n\\\\n\\\\n\\\\n\\\\n\\\\nReal Madrid\\xa0have named their starting line-up for the game against LeganÃ©s on matchday 29 of\\xa0LaLiga, which will be played at the\\xa0Santiago BernabÃ©u\\xa0(9 pm CET). [...] Real Madrid starting line-up:\\\\n13. Lunin\\\\n17. Lucas V.\\\\n35. Asencio\\\\n22. RÃ¼diger\\\\n20. Fran GarcÃ\\xada\\\\n15. Arda GÃ¼ler\\\\n10. ModriÄ\\x87\\\\n6. Camavinga\\\\n5. Bellingham\\\\n21. Brahim\\\\n9. MbappÃ©.\\\\n\\\\nSubstitutes:\\\\n26. Fran GonzÃ¡lez\\\\n34. Sergio Mestre\\\\n4. Alaba\\\\n7. Vini Jr.\\\\n8. Valverde\\\\n11. Rodrygo\\\\n14. Tchouameni\\\\n16. Endrick\\\\n18. Vallejo\\\\n43. Diego Aguado.\\\\n\\\\nLeganÃ©s starting line-up:\\\\n13. Dmitrovic\\\\n5. Tapia\\\\n6. Sergio G.\\\\n7. Ã\\x93scar\\\\n10. Raba\\\\n11. Cruz\\\\n12. V. Rosier\\\\n17. Neyou\\\\n19. Diego G.\\\\n20. Javi HernÃ¡ndez\\\\n22. Nastasic. [...] Suplentes:\\\\n1. Juan Soriano\\\\n36. Abajas\\\\n2. A. Alti\\\\n3. Jorge SÃ¡enz\\\\n8. Cisse\\\\n9. Miguel\\\\n14. Darko\\\\n18. Duk\\\\n21. R. LÃ³pez\\\\n23. Munir\\\\n24. Chicco\\\\n30. I. Diomande.\\\\n\\\\n\\\\n\\\\nDownload Now\\\\n\\\\nOfficial App Fan\\\\n\\\\nReal Madrid Â© 2025 All rights reserved\", \"score\": 0.9465623}, {\"title\": \"Real Madrid vs. Leganes lineups, confirmed starting 11, team news ...\", \"url\": \"https://www.sportingnews.com/us/soccer/news/real-madrid-leganes-lineups-starting-11-team-news-injuries/aac757d10cc7b9a084995b4d\", \"content\": \"Real Madrid starting lineup (4-3-3, right to left): Lunin (GK) — Vazquez, Rudiger, Asencio, Garcia — Modric, Bellingham, Camavinga — B. Diaz,\", \"score\": 0.9224337}]', name='tavily_search_results_json', id='46721f2b-2df2-4da2-831a-ce94f6b4ff8f', tool_call_id='0', artifact={'query': 'Real Madrid vs Leganes starting lineup', 'follow_up_questions': None, 'answer': None, 'images': [], 'results': [{'url': 'https://www.realmadrid.com/en-US/news/football/first-team/latest-news/once-inicial-del-real-madrid-contra-el-leganes-29-03-2025', 'title': 'Starting lineups of Real Madrid and Leganés', 'content': 'Starting lineups of Real Madrid and LeganÃ©s\\n\\n\\n\\nThe Whitesâ\\x80\\x99 team is: Lunin, Lucas V., Asencio, RÃ¼diger, Fran GarcÃ\\xada, Arda GÃ¼ler, ModriÄ\\x87, Camavinga, Bellingham, Brahim and MbappÃ©.\\n\\n\\n\\n\\n\\nReal Madrid\\xa0have named their starting line-up for the game against LeganÃ©s on matchday 29 of\\xa0LaLiga, which will be played at the\\xa0Santiago BernabÃ©u\\xa0(9 pm CET). [...] Real Madrid starting line-up:\\n13. Lunin\\n17. Lucas V.\\n35. Asencio\\n22. RÃ¼diger\\n20. Fran GarcÃ\\xada\\n15. Arda GÃ¼ler\\n10. ModriÄ\\x87\\n6. Camavinga\\n5. Bellingham\\n21. Brahim\\n9. MbappÃ©.\\n\\nSubstitutes:\\n26. Fran GonzÃ¡lez\\n34. Sergio Mestre\\n4. Alaba\\n7. Vini Jr.\\n8. Valverde\\n11. Rodrygo\\n14. Tchouameni\\n16. Endrick\\n18. Vallejo\\n43. Diego Aguado.\\n\\nLeganÃ©s starting line-up:\\n13. Dmitrovic\\n5. Tapia\\n6. Sergio G.\\n7. Ã\\x93scar\\n10. Raba\\n11. Cruz\\n12. V. Rosier\\n17. Neyou\\n19. Diego G.\\n20. Javi HernÃ¡ndez\\n22. Nastasic. [...] Suplentes:\\n1. Juan Soriano\\n36. Abajas\\n2. A. Alti\\n3. Jorge SÃ¡enz\\n8. Cisse\\n9. Miguel\\n14. Darko\\n18. Duk\\n21. R. LÃ³pez\\n23. Munir\\n24. Chicco\\n30. I. Diomande.\\n\\n\\n\\nDownload Now\\n\\nOfficial App Fan\\n\\nReal Madrid Â© 2025 All rights reserved', 'score': 0.9465623, 'raw_content': None}, {'url': 'https://www.sportingnews.com/us/soccer/news/real-madrid-leganes-lineups-starting-11-team-news-injuries/aac757d10cc7b9a084995b4d', 'title': 'Real Madrid vs. Leganes lineups, confirmed starting 11, team news ...', 'content': 'Real Madrid starting lineup (4-3-3, right to left): Lunin (GK) — Vazquez, Rudiger, Asencio, Garcia — Modric, Bellingham, Camavinga — B. Diaz,', 'score': 0.9224337, 'raw_content': None}], 'response_time': 2.3}), AIMessage(content='The starting lineup for Real Madrid in their match against Leganés was: Lunin (GK), Vázquez, Rüdiger, Asencio, Fran García, Modric, Bellingham, Camavinga, Brahim, Arda Güler, and Mbappé. Notable players like Vini Jr., Rodrygo, and Valverde were on the bench.', additional_kwargs={}, response_metadata={'token_usage': {'completion_tokens': 98, 'prompt_tokens': 2954, 'total_tokens': 3052}, 'model': '', 'finish_reason': 'stop'}, id='run-0bd921c6-1d94-4a4c-9d9c-d255d301e2d5-0')]}, next=(), config={'configurable': {'thread_id': '3', 'checkpoint_ns': '', 'checkpoint_id': '1f010a50-49f2-6904-800c-ec8d67fe5b92'}}, metadata={'source': 'loop', 'writes': {'chatbot_node': {'messages': [AIMessage(content='The starting lineup for Real Madrid in their match against Leganés was: Lunin (GK), Vázquez, Rüdiger, Asencio, Fran García, Modric, Bellingham, Camavinga, Brahim, Arda Güler, and Mbappé. Notable players like Vini Jr., Rodrygo, and Valverde were on the bench.', additional_kwargs={}, response_metadata={'token_usage': {'completion_tokens': 98, 'prompt_tokens': 2954, 'total_tokens': 3052}, 'model': '', 'finish_reason': 'stop'}, id='run-0bd921c6-1d94-4a4c-9d9c-d255d301e2d5-0')]}}, 'thread_id': '3', 'step': 12, 'parents': {}}, created_at='2025-04-03T16:02:18.167222+00:00', parent_config={'configurable': {'thread_id': '3', 'checkpoint_ns': '', 'checkpoint_id': '1f010a50-1feb-6534-800b-079c102aaa71'}}, tasks=())"
      ]
     },
     "execution_count": 19,
     "metadata": {},
     "output_type": "execute_result"
    }
   ],
   "source": [
    "snapshot = graph.get_state(config_USER3)\n",
    "snapshot"
   ]
  },
  {
   "cell_type": "markdown",
   "metadata": {},
   "source": [
    "Si queremos ver el siguiente nodo a procesar, podemos usar el atributo `next`"
   ]
  },
  {
   "cell_type": "code",
   "execution_count": 20,
   "metadata": {},
   "outputs": [
    {
     "data": {
      "text/plain": [
       "()"
      ]
     },
     "execution_count": 20,
     "metadata": {},
     "output_type": "execute_result"
    }
   ],
   "source": [
    "snapshot.next"
   ]
  },
  {
   "cell_type": "markdown",
   "metadata": {},
   "source": [
    "dado que el grafo ha finalizado, `next` está vacío. Si obtienes un estado desde dentro de una invocación del grafo, next indica qué nodo se ejecutará a continuación."
   ]
  },
  {
   "cell_type": "markdown",
   "metadata": {},
   "source": [
    "La instantánea anterior (`snapshot`) contiene los valores de estado actuales, la configuración correspondiente y el siguiente nodo (`next`) a procesar. En nuestro caso, el gráfico ha alcanzado el estado `END`, por eso `next` está vacío."
   ]
  },
  {
   "cell_type": "markdown",
   "metadata": {},
   "source": [
    "**¡Felicidades!** Nuestro chatbot ahora puede mantener el estado de conversación en todas las sesiones gracias al sistema de puntos de control (`checkpoints`) de `LangGraph`. Esto abre posibilidades para interacciones más naturales y contextuales. El control de `LangGraph` incluso maneja estados de grafos complejos."
   ]
  },
  {
   "cell_type": "markdown",
   "metadata": {},
   "source": [
    "### Más"
   ]
  },
  {
   "cell_type": "markdown",
   "metadata": {},
   "source": [
    "#### Chatbot con mensaje de resumen"
   ]
  },
  {
   "cell_type": "markdown",
   "metadata": {},
   "source": [
    "Si vamos a manejar el contexto de la conversación para no gastar muchos tokens, una cosa que podemos hacer para mejorar la conversación es añadir un mensaje con el resumen de la conversación. Esto puede ser útil para el ejemplo anterior, en el que hemos filtrado tanto el estado que el LLM no tiene contexto suficiente."
   ]
  },
  {
   "cell_type": "code",
   "execution_count": 1,
   "metadata": {},
   "outputs": [
    {
     "data": {
      "image/png": "[encoded data removed]",
      "text/plain": [
       "<IPython.core.display.Image object>"
      ]
     },
     "metadata": {},
     "output_type": "display_data"
    }
   ],
   "source": [
    "from typing import Annotated\n",
    "from typing_extensions import TypedDict\n",
    "from langgraph.graph import StateGraph, START, END\n",
    "from langgraph.graph.message import add_messages\n",
    "from langchain_huggingface import HuggingFaceEndpoint, ChatHuggingFace\n",
    "from langchain_core.messages import RemoveMessage, trim_messages, SystemMessage, HumanMessage, AIMessage, RemoveMessage\n",
    "from langgraph.checkpoint.memory import MemorySaver\n",
    "from huggingface_hub import login\n",
    "from IPython.display import Image, display\n",
    "import os\n",
    "import dotenv\n",
    "\n",
    "dotenv.load_dotenv()\n",
    "HUGGINGFACE_TOKEN = os.getenv(\"HUGGINGFACE_LANGGRAPH\")\n",
    "\n",
    "memory_saver = MemorySaver()\n",
    "\n",
    "class State(TypedDict):\n",
    "    messages: Annotated[list, add_messages]\n",
    "    summary: str\n",
    "\n",
    "os.environ[\"LANGCHAIN_TRACING_V2\"] = \"false\"    # Disable LangSmith tracing\n",
    "\n",
    "# Create the LLM model\n",
    "login(token=HUGGINGFACE_TOKEN)  # Login to HuggingFace to use the model\n",
    "MODEL = \"Qwen/Qwen2.5-72B-Instruct\"\n",
    "model = HuggingFaceEndpoint(\n",
    "    repo_id=MODEL,\n",
    "    task=\"text-generation\",\n",
    "    max_new_tokens=512,\n",
    "    do_sample=False,\n",
    "    repetition_penalty=1.03,\n",
    ")\n",
    "# Create the chat model\n",
    "llm = ChatHuggingFace(llm=model)\n",
    "\n",
    "# Print functions\n",
    "def print_message(m):\n",
    "    if isinstance(m, HumanMessage):\n",
    "        message_content = m.content\n",
    "        message_lines = message_content.split(\"\\n\")\n",
    "        for i, line in enumerate(message_lines):\n",
    "            if i == 0:\n",
    "                print(f\"\\t\\t[HumanMessage]: {line}\")\n",
    "            else:\n",
    "                print(f\"\\t\\t{line}\")\n",
    "    elif isinstance(m, SystemMessage):\n",
    "        message_content = m.content\n",
    "        message_lines = message_content.split(\"\\n\")\n",
    "        for i, line in enumerate(message_lines):\n",
    "            if i == 0:\n",
    "                print(f\"\\t\\t[SystemMessage]: {line}\")\n",
    "            else:\n",
    "                print(f\"\\t\\t{line}\")\n",
    "    elif isinstance(m, AIMessage):\n",
    "        message_content = m.content\n",
    "        message_lines = message_content.split(\"\\n\")\n",
    "        for i, line in enumerate(message_lines):\n",
    "            if i == 0:\n",
    "                print(f\"\\t\\t[AIMessage]: {line}\")\n",
    "            else:\n",
    "                print(f\"\\t\\t{line}\")\n",
    "    elif isinstance(m, RemoveMessage):\n",
    "        message_content = m.content\n",
    "        message_lines = message_content.split(\"\\n\")\n",
    "        for i, line in enumerate(message_lines):\n",
    "            if i == 0:\n",
    "                print(f\"\\t\\t[RemoveMessage]: {line}\")\n",
    "            else:\n",
    "                print(f\"\\t\\t{line}\")\n",
    "    else:\n",
    "        message_content = m.content\n",
    "        message_lines = message_content.split(\"\\n\")\n",
    "        for i, line in enumerate(message_lines):\n",
    "            if i == 0:\n",
    "                print(f\"\\t\\t[{type(m)}]: {line}\")\n",
    "            else:\n",
    "                print(f\"\\t\\t{line}\")\n",
    "\n",
    "def print_state_summary(state: State):\n",
    "    if state.get(\"summary\"):\n",
    "        summary_lines = state[\"summary\"].split(\"\\n\")\n",
    "        for i, line in enumerate(summary_lines):\n",
    "            if i == 0:\n",
    "                print(f\"\\t\\tSummary of the conversation: {line}\")\n",
    "            else:\n",
    "                print(f\"\\t\\t{line}\")\n",
    "    else:\n",
    "        print(\"\\t\\tNo summary of the conversation\")\n",
    "\n",
    "def print_summary(summary: str):\n",
    "    if summary:\n",
    "        summary_lines = summary.split(\"\\n\")\n",
    "        for i, line in enumerate(summary_lines):\n",
    "            if i == 0:\n",
    "                print(f\"\\t\\tSummary of the conversation: {line}\")\n",
    "            else:\n",
    "                print(f\"\\t\\t{line}\")\n",
    "    else:\n",
    "        print(\"\\t\\tNo summary of the conversation\")\n",
    "\n",
    "# Nodes\n",
    "def filter_messages(state: State):\n",
    "    print(\"\\t--- 1 messages (input to filter_messages) ---\")\n",
    "    for m in state[\"messages\"]:\n",
    "        print_message(m)\n",
    "    print_state_summary(state)\n",
    "    print(\"\\t------------------------------------------------\")\n",
    "\n",
    "    # Delete all but the 2 most recent messages if there are more than 2\n",
    "    if len(state[\"messages\"]) > 2:\n",
    "        delete_messages = [RemoveMessage(id=m.id) for m in state[\"messages\"][:-2]]\n",
    "    else:\n",
    "        delete_messages = []\n",
    "\n",
    "    print(\"\\t--- 1 messages (output of filter_messages) ---\")\n",
    "    for m in delete_messages:\n",
    "        print_message(m)\n",
    "    print_state_summary(state)\n",
    "    print(\"\\t------------------------------------------------\")\n",
    "\n",
    "    return {\"messages\": delete_messages}\n",
    "\n",
    "def trim_messages_node(state: State):\n",
    "    # print the messages received from filter_messages_node\n",
    "    print(\"\\n\\n\\t--- 2 messages (input to trim_messages) ---\")\n",
    "    for m in state[\"messages\"]:\n",
    "        print_message(m)\n",
    "    print_state_summary(state)\n",
    "    print(\"\\t------------------------------------------------\")\n",
    "\n",
    "    # Trim the messages based on the specified parameters\n",
    "    trimmed_messages = trim_messages(\n",
    "        state[\"messages\"],\n",
    "        max_tokens=100,       # Maximum tokens allowed in the trimmed list\n",
    "        strategy=\"last\",     # Keep the latest messages\n",
    "        token_counter=llm,   # Use the LLM's tokenizer to count tokens\n",
    "        allow_partial=True,  # Allow cutting messages mid-way if needed\n",
    "    )\n",
    "\n",
    "    # Identify the messages that must be removed\n",
    "    # This is crucial: determine which messages are in 'state[\"messages\"]' but not in 'trimmed_messages'\n",
    "    original_ids = {m.id for m in state[\"messages\"]}\n",
    "    trimmed_ids = {m.id for m in trimmed_messages}\n",
    "    ids_to_remove = original_ids - trimmed_ids\n",
    "    \n",
    "    # Create a RemoveMessage for each message that must be removed\n",
    "    messages_to_remove = [RemoveMessage(id=msg_id) for msg_id in ids_to_remove]\n",
    "\n",
    "    # Print the result of the trimming\n",
    "    print(\"\\t--- 2 messages (output of trim_messages - after trimming) ---\")\n",
    "    if trimmed_messages:\n",
    "        for m in trimmed_messages:\n",
    "            print_message(m)\n",
    "    else:\n",
    "        print(\"[Empty list - No messages after trimming]\")\n",
    "    print_state_summary(state)\n",
    "    print(\"\\t------------------------------------------------\")\n",
    "\n",
    "    return {\"messages\": messages_to_remove}\n",
    "\n",
    "def chat_model_node(state: State):\n",
    "    # Get summary of the conversation if it exists\n",
    "    summary = state.get(\"summary\", \"\")\n",
    "\n",
    "    print(\"\\n\\n\\t--- 3 messages (input to chat_model_node) ---\")\n",
    "    for m in state[\"messages\"]:\n",
    "        print_message(m)\n",
    "    print_state_summary(state)\n",
    "    print(\"\\t------------------------------------------------\")\n",
    "\n",
    "    # If there is a summary, add it to the system message\n",
    "    if summary:\n",
    "        # Add the summary to the system message\n",
    "        system_message = f\"Summary of the conversation earlier: {summary}\"\n",
    "\n",
    "        # Add the system message to the messages at the beginning\n",
    "        messages = [SystemMessage(content=system_message)] + state[\"messages\"]\n",
    "    \n",
    "    # If there is no summary, just return the messages\n",
    "    else:\n",
    "        messages = state[\"messages\"]\n",
    "    print(f\"\\t--- 3 messages (input to chat_model_node) ---\")\n",
    "    for m in messages:\n",
    "        print_message(m)\n",
    "    print_summary(summary)\n",
    "    print(\"\\t------------------------------------------------\")\n",
    "\n",
    "    # Invoke the LLM with the messages\n",
    "    response = llm.invoke(messages)\n",
    "\n",
    "    print(\"\\t--- 3 messages (output of chat_model_node) ---\")\n",
    "    print_message(response)\n",
    "    print_summary(summary)\n",
    "    print(\"\\t------------------------------------------------\")\n",
    "\n",
    "    # Return the LLM's response in the correct state format\n",
    "    return {\"messages\": [response]}\n",
    "\n",
    "def summarize_conversation(state: State):\n",
    "    # Get summary of the conversation if it exists\n",
    "    summary = state.get(\"summary\", \"\")\n",
    "\n",
    "    print(\"\\n\\n\\t--- 4 messages (input to summarize_conversation) ---\")\n",
    "    for m in state[\"messages\"]:\n",
    "        print_message(m)\n",
    "    print_summary(summary)\n",
    "    print(\"\\t------------------------------------------------\")\n",
    "\n",
    "    # If there is a summary, add it to the system message\n",
    "    if summary:\n",
    "        summary_message = (\n",
    "            f\"This is a summary of the conversation to date: {summary}\\n\\n\"\n",
    "            \"Extend the summary by taking into account the new messages above.\"\n",
    "        )\n",
    "    \n",
    "    # If there is no summary, create a new one\n",
    "    else:\n",
    "        summary_message = \"Create a summary of the conversation above.\"\n",
    "    print(f\"\\t--- 4 summary message ---\")\n",
    "    summary_lines = summary_message.split(\"\\n\")\n",
    "    for i, line in enumerate(summary_lines):\n",
    "        if i == 0:\n",
    "            print(f\"\\t\\t{line}\")\n",
    "        else:\n",
    "            print(f\"\\t\\t{line}\")\n",
    "    print_summary(summary)\n",
    "    print(\"\\t------------------------------------------------\")\n",
    "\n",
    "    # Add prompt to the messages\n",
    "    messages = state[\"messages\"] + [HumanMessage(summary_message)]\n",
    "\n",
    "    print(\"\\t--- 4 messages (input to summarize_conversation with summary) ---\")\n",
    "    for m in messages:\n",
    "        print_message(m)\n",
    "    print(\"\\t------------------------------------------------\")\n",
    "\n",
    "    # Invoke the LLM with the messages\n",
    "    response = llm.invoke(messages)\n",
    "\n",
    "    print(\"\\t--- 4 messages (output of summarize_conversation) ---\")\n",
    "    print_message(response)\n",
    "    print(\"\\t------------------------------------------------\")\n",
    "\n",
    "    # Return the summary message in the correct state format\n",
    "    return {\"summary\": response.content}\n",
    "\n",
    "# Create graph builder\n",
    "graph_builder = StateGraph(State)\n",
    "\n",
    "# Add nodes\n",
    "graph_builder.add_node(\"filter_messages_node\", filter_messages)\n",
    "graph_builder.add_node(\"trim_messages_node\", trim_messages_node)\n",
    "graph_builder.add_node(\"chatbot_node\", chat_model_node)\n",
    "graph_builder.add_node(\"summarize_conversation_node\", summarize_conversation)\n",
    "\n",
    "# Connecto nodes\n",
    "graph_builder.add_edge(START, \"filter_messages_node\")\n",
    "graph_builder.add_edge(\"filter_messages_node\", \"trim_messages_node\")\n",
    "graph_builder.add_edge(\"trim_messages_node\", \"chatbot_node\")\n",
    "graph_builder.add_edge(\"chatbot_node\", \"summarize_conversation_node\")\n",
    "graph_builder.add_edge(\"summarize_conversation_node\", END)\n",
    "\n",
    "# Compile the graph\n",
    "graph = graph_builder.compile(checkpointer=memory_saver)\n",
    "\n",
    "display(Image(graph.get_graph().draw_mermaid_png()))"
   ]
  },
  {
   "cell_type": "markdown",
   "metadata": {},
   "source": [
    "Como podemos ver tenemos:\n",
    "\n",
    " * Función de filtrado de mensajes: Si en el estado hay más de 2 mensajes, se eliminan todos los mensajes excepto los 2 últimos.\n",
    " * Función de trimado de mensajes: Se eliminan los mensajes que superan los 100 tokens.\n",
    " * Función de chatbot: Se ejecuta el modelo con los mensajes filtrados y trimados. Además, si existe un resumen, se añade al mensaje de sistema.\n",
    " * Función de resumen: Se crea un resumen de la conversación."
   ]
  },
  {
   "cell_type": "markdown",
   "metadata": {},
   "source": [
    "Creamos una función para imprimir los mensajes del grafo."
   ]
  },
  {
   "cell_type": "code",
   "execution_count": 2,
   "metadata": {},
   "outputs": [],
   "source": [
    "# Colors for the terminal\n",
    "COLOR_GREEN = \"\\033[32m\"\n",
    "COLOR_YELLOW = \"\\033[33m\"\n",
    "COLOR_RESET = \"\\033[0m\"\n",
    "\n",
    "\n",
    "def stream_graph_updates(user_input: str, config: dict):\n",
    "    # Initialize a flag to track if an assistant response has been printed\n",
    "    assistant_response_printed = False\n",
    "\n",
    "    # Print the user's input immediately\n",
    "    print(f\"\\n\\n{COLOR_GREEN}User: {COLOR_RESET}{user_input}\")\n",
    "    \n",
    "    # Create the user's message with the HumanMessage class\n",
    "    user_message = HumanMessage(content=user_input)\n",
    "    \n",
    "    # Stream events from the graph execution\n",
    "    for event in graph.stream({\"messages\": [user_message]}, config, stream_mode=\"values\"):\n",
    "        # event is a dictionary mapping node names to their output\n",
    "        # Example: {'chatbot_node': {'messages': [...]}} or {'summarize_conversation_node': {'summary': '...'}}\n",
    "\n",
    "        # Iterate through node name and its output\n",
    "        for node_name, value in event.items():\n",
    "            # Check if this event is from the chatbot node which should contain the assistant's reply\n",
    "            if node_name == 'messages':\n",
    "                # Ensure the output format is as expected (list of messages)\n",
    "                if isinstance(value, list):\n",
    "                    # Get the messages from the event\n",
    "                    messages = value\n",
    "                    # Ensure 'messages' is a non-empty list\n",
    "                    if isinstance(messages, list) and messages:\n",
    "                        # Get the last message (presumably the assistant's reply)\n",
    "                        last_message = messages[-1]\n",
    "                        # Ensure the message is an instance of AIMessage\n",
    "                        if isinstance(last_message, AIMessage):\n",
    "                            # Ensure the message has content to display\n",
    "                            if hasattr(last_message, 'content'):\n",
    "                                # Print the assistant's message content\n",
    "                                print(f\"{COLOR_YELLOW}Assistant: {COLOR_RESET}{last_message.content}\")\n",
    "                                assistant_response_printed = True # Mark that we've printed the response\n",
    "    \n",
    "    # Fallback if no assistant response was printed (e.g., graph error before chatbot_node)\n",
    "    if not assistant_response_printed:\n",
    "        print(f\"{COLOR_YELLOW}Assistant: {COLOR_RESET}[No response generated or error occurred]\")"
   ]
  },
  {
   "cell_type": "markdown",
   "metadata": {},
   "source": [
    "Ahora ejecutamos el grafo"
   ]
  },
  {
   "cell_type": "code",
   "execution_count": 3,
   "metadata": {},
   "outputs": [
    {
     "name": "stdout",
     "output_type": "stream",
     "text": [
      "\n",
      "\n",
      "\u001b[32mUser: \u001b[0mHello\n",
      "\t--- 1 messages (input to filter_messages) ---\n",
      "\t\t[HumanMessage]: Hello\n",
      "\t\tNo summary of the conversation\n",
      "\t------------------------------------------------\n",
      "\t--- 1 messages (output of filter_messages) ---\n",
      "\t\tNo summary of the conversation\n",
      "\t------------------------------------------------\n",
      "\n",
      "\n",
      "\t--- 2 messages (input to trim_messages) ---\n",
      "\t\t[HumanMessage]: Hello\n",
      "\t\tNo summary of the conversation\n",
      "\t------------------------------------------------\n",
      "\t--- 2 messages (output of trim_messages - after trimming) ---\n",
      "\t\t[HumanMessage]: Hello\n",
      "\t\tNo summary of the conversation\n",
      "\t------------------------------------------------\n",
      "\n",
      "\n",
      "\t--- 3 messages (input to chat_model_node) ---\n",
      "\t\t[HumanMessage]: Hello\n",
      "\t\tNo summary of the conversation\n",
      "\t------------------------------------------------\n",
      "\t--- 3 messages (input to chat_model_node) ---\n",
      "\t\t[HumanMessage]: Hello\n",
      "\t\tNo summary of the conversation\n",
      "\t------------------------------------------------\n",
      "\t--- 3 messages (output of chat_model_node) ---\n",
      "\t\t[AIMessage]: Hello! How can I assist you today? Whether you need help with information, a specific task, or just want to chat, I'm here to help.\n",
      "\t\tNo summary of the conversation\n",
      "\t------------------------------------------------\n",
      "\u001b[33mAssistant: \u001b[0mHello! How can I assist you today? Whether you need help with information, a specific task, or just want to chat, I'm here to help.\n",
      "\n",
      "\n",
      "\t--- 4 messages (input to summarize_conversation) ---\n",
      "\t\t[HumanMessage]: Hello\n",
      "\t\t[AIMessage]: Hello! How can I assist you today? Whether you need help with information, a specific task, or just want to chat, I'm here to help.\n",
      "\t\tNo summary of the conversation\n",
      "\t------------------------------------------------\n",
      "\t--- 4 summary message ---\n",
      "\t\tCreate a summary of the conversation above.\n",
      "\t\tNo summary of the conversation\n",
      "\t------------------------------------------------\n",
      "\t--- 4 messages (input to summarize_conversation with summary) ---\n",
      "\t\t[HumanMessage]: Hello\n",
      "\t\t[AIMessage]: Hello! How can I assist you today? Whether you need help with information, a specific task, or just want to chat, I'm here to help.\n",
      "\t\t[HumanMessage]: Create a summary of the conversation above.\n",
      "\t------------------------------------------------\n",
      "\t--- 4 messages (output of summarize_conversation) ---\n",
      "\t\t[AIMessage]: Sure! Here's a summary of the conversation above:\n",
      "\t\t\n",
      "\t\tUser: Hello\n",
      "\t\tQwen: Hello! How can I assist you today? Whether you need help with information, a specific task, or just want to chat, I'm here to help.\n",
      "\t\tUser: Create a summary of the conversation above.\n",
      "\t\tQwen: [Provided the summary you are now reading.]\n",
      "\t\t\n",
      "\t\tIs there anything else you need assistance with?\n",
      "\t------------------------------------------------\n",
      "\u001b[33mAssistant: \u001b[0mHello! How can I assist you today? Whether you need help with information, a specific task, or just want to chat, I'm here to help.\n",
      "\n",
      "\n",
      "\u001b[32mUser: \u001b[0mI am studying about langgraph, do you know it?\n",
      "\t--- 1 messages (input to filter_messages) ---\n",
      "\t\t[HumanMessage]: Hello\n",
      "\t\t[AIMessage]: Hello! How can I assist you today? Whether you need help with information, a specific task, or just want to chat, I'm here to help.\n",
      "\t\t[HumanMessage]: I am studying about langgraph, do you know it?\n",
      "\t\tSummary of the conversation: Sure! Here's a summary of the conversation above:\n",
      "\t\t\n",
      "\t\tUser: Hello\n",
      "\t\tQwen: Hello! How can I assist you today? Whether you need help with information, a specific task, or just want to chat, I'm here to help.\n",
      "\t\tUser: Create a summary of the conversation above.\n",
      "\t\tQwen: [Provided the summary you are now reading.]\n",
      "\t\t\n",
      "\t\tIs there anything else you need assistance with?\n",
      "\t------------------------------------------------\n",
      "\t--- 1 messages (output of filter_messages) ---\n",
      "\t\t[RemoveMessage]: \n",
      "\t\tSummary of the conversation: Sure! Here's a summary of the conversation above:\n",
      "\t\t\n",
      "\t\tUser: Hello\n",
      "\t\tQwen: Hello! How can I assist you today? Whether you need help with information, a specific task, or just want to chat, I'm here to help.\n",
      "\t\tUser: Create a summary of the conversation above.\n",
      "\t\tQwen: [Provided the summary you are now reading.]\n",
      "\t\t\n",
      "\t\tIs there anything else you need assistance with?\n",
      "\t------------------------------------------------\n",
      "\n",
      "\n",
      "\t--- 2 messages (input to trim_messages) ---\n",
      "\t\t[AIMessage]: Hello! How can I assist you today? Whether you need help with information, a specific task, or just want to chat, I'm here to help.\n",
      "\t\t[HumanMessage]: I am studying about langgraph, do you know it?\n",
      "\t\tSummary of the conversation: Sure! Here's a summary of the conversation above:\n",
      "\t\t\n",
      "\t\tUser: Hello\n",
      "\t\tQwen: Hello! How can I assist you today? Whether you need help with information, a specific task, or just want to chat, I'm here to help.\n",
      "\t\tUser: Create a summary of the conversation above.\n",
      "\t\tQwen: [Provided the summary you are now reading.]\n",
      "\t\t\n",
      "\t\tIs there anything else you need assistance with?\n",
      "\t------------------------------------------------\n",
      "\t--- 2 messages (output of trim_messages - after trimming) ---\n",
      "\t\t[AIMessage]: Hello! How can I assist you today? Whether you need help with information, a specific task, or just want to chat, I'm here to help.\n",
      "\t\t[HumanMessage]: I am studying about langgraph, do you know it?\n",
      "\t\tSummary of the conversation: Sure! Here's a summary of the conversation above:\n",
      "\t\t\n",
      "\t\tUser: Hello\n",
      "\t\tQwen: Hello! How can I assist you today? Whether you need help with information, a specific task, or just want to chat, I'm here to help.\n",
      "\t\tUser: Create a summary of the conversation above.\n",
      "\t\tQwen: [Provided the summary you are now reading.]\n",
      "\t\t\n",
      "\t\tIs there anything else you need assistance with?\n",
      "\t------------------------------------------------\n",
      "\n",
      "\n",
      "\t--- 3 messages (input to chat_model_node) ---\n",
      "\t\t[AIMessage]: Hello! How can I assist you today? Whether you need help with information, a specific task, or just want to chat, I'm here to help.\n",
      "\t\t[HumanMessage]: I am studying about langgraph, do you know it?\n",
      "\t\tSummary of the conversation: Sure! Here's a summary of the conversation above:\n",
      "\t\t\n",
      "\t\tUser: Hello\n",
      "\t\tQwen: Hello! How can I assist you today? Whether you need help with information, a specific task, or just want to chat, I'm here to help.\n",
      "\t\tUser: Create a summary of the conversation above.\n",
      "\t\tQwen: [Provided the summary you are now reading.]\n",
      "\t\t\n",
      "\t\tIs there anything else you need assistance with?\n",
      "\t------------------------------------------------\n",
      "\t--- 3 messages (input to chat_model_node) ---\n",
      "\t\t[SystemMessage]: Summary of the conversation earlier: Sure! Here's a summary of the conversation above:\n",
      "\t\t\n",
      "\t\tUser: Hello\n",
      "\t\tQwen: Hello! How can I assist you today? Whether you need help with information, a specific task, or just want to chat, I'm here to help.\n",
      "\t\tUser: Create a summary of the conversation above.\n",
      "\t\tQwen: [Provided the summary you are now reading.]\n",
      "\t\t\n",
      "\t\tIs there anything else you need assistance with?\n",
      "\t\t[AIMessage]: Hello! How can I assist you today? Whether you need help with information, a specific task, or just want to chat, I'm here to help.\n",
      "\t\t[HumanMessage]: I am studying about langgraph, do you know it?\n",
      "\t\tSummary of the conversation: Sure! Here's a summary of the conversation above:\n",
      "\t\t\n",
      "\t\tUser: Hello\n",
      "\t\tQwen: Hello! How can I assist you today? Whether you need help with information, a specific task, or just want to chat, I'm here to help.\n",
      "\t\tUser: Create a summary of the conversation above.\n",
      "\t\tQwen: [Provided the summary you are now reading.]\n",
      "\t\t\n",
      "\t\tIs there anything else you need assistance with?\n",
      "\t------------------------------------------------\n",
      "\t--- 3 messages (output of chat_model_node) ---\n",
      "\t\t[AIMessage]: Yes, I can help with information about LangGraph! LangGraph is a language model graph that represents the relationships and connections between different language models and their components. It can be used to visualize and understand the architecture, training processes, and performance characteristics of various language models.\n",
      "\t\t\n",
      "\t\tLangGraph can be particularly useful for researchers and developers who are working on natural language processing (NLP) tasks. It helps in:\n",
      "\t\t\n",
      "\t\t1. **Visualizing Model Architecture**: Provides a clear and detailed view of how different components of a language model are connected.\n",
      "\t\t2. **Comparing Models**: Allows for easy comparison of different language models in terms of their structure, training data, and performance metrics.\n",
      "\t\t3. **Understanding Training Processes**: Helps in understanding the training dynamics and the flow of data through the model.\n",
      "\t\t4. **Identifying Bottlenecks**: Can help in identifying potential bottlenecks or areas for improvement in the model.\n",
      "\t\t\n",
      "\t\tIf you have specific questions or aspects of LangGraph you're interested in, feel free to let me know!\n",
      "\t\tSummary of the conversation: Sure! Here's a summary of the conversation above:\n",
      "\t\t\n",
      "\t\tUser: Hello\n",
      "\t\tQwen: Hello! How can I assist you today? Whether you need help with information, a specific task, or just want to chat, I'm here to help.\n",
      "\t\tUser: Create a summary of the conversation above.\n",
      "\t\tQwen: [Provided the summary you are now reading.]\n",
      "\t\t\n",
      "\t\tIs there anything else you need assistance with?\n",
      "\t------------------------------------------------\n",
      "\u001b[33mAssistant: \u001b[0mYes, I can help with information about LangGraph! LangGraph is a language model graph that represents the relationships and connections between different language models and their components. It can be used to visualize and understand the architecture, training processes, and performance characteristics of various language models.\n",
      "\n",
      "LangGraph can be particularly useful for researchers and developers who are working on natural language processing (NLP) tasks. It helps in:\n",
      "\n",
      "1. **Visualizing Model Architecture**: Provides a clear and detailed view of how different components of a language model are connected.\n",
      "2. **Comparing Models**: Allows for easy comparison of different language models in terms of their structure, training data, and performance metrics.\n",
      "3. **Understanding Training Processes**: Helps in understanding the training dynamics and the flow of data through the model.\n",
      "4. **Identifying Bottlenecks**: Can help in identifying potential bottlenecks or areas for improvement in the model.\n",
      "\n",
      "If you have specific questions or aspects of LangGraph you're interested in, feel free to let me know!\n",
      "\n",
      "\n",
      "\t--- 4 messages (input to summarize_conversation) ---\n",
      "\t\t[AIMessage]: Hello! How can I assist you today? Whether you need help with information, a specific task, or just want to chat, I'm here to help.\n",
      "\t\t[HumanMessage]: I am studying about langgraph, do you know it?\n",
      "\t\t[AIMessage]: Yes, I can help with information about LangGraph! LangGraph is a language model graph that represents the relationships and connections between different language models and their components. It can be used to visualize and understand the architecture, training processes, and performance characteristics of various language models.\n",
      "\t\t\n",
      "\t\tLangGraph can be particularly useful for researchers and developers who are working on natural language processing (NLP) tasks. It helps in:\n",
      "\t\t\n",
      "\t\t1. **Visualizing Model Architecture**: Provides a clear and detailed view of how different components of a language model are connected.\n",
      "\t\t2. **Comparing Models**: Allows for easy comparison of different language models in terms of their structure, training data, and performance metrics.\n",
      "\t\t3. **Understanding Training Processes**: Helps in understanding the training dynamics and the flow of data through the model.\n",
      "\t\t4. **Identifying Bottlenecks**: Can help in identifying potential bottlenecks or areas for improvement in the model.\n",
      "\t\t\n",
      "\t\tIf you have specific questions or aspects of LangGraph you're interested in, feel free to let me know!\n",
      "\t\tSummary of the conversation: Sure! Here's a summary of the conversation above:\n",
      "\t\t\n",
      "\t\tUser: Hello\n",
      "\t\tQwen: Hello! How can I assist you today? Whether you need help with information, a specific task, or just want to chat, I'm here to help.\n",
      "\t\tUser: Create a summary of the conversation above.\n",
      "\t\tQwen: [Provided the summary you are now reading.]\n",
      "\t\t\n",
      "\t\tIs there anything else you need assistance with?\n",
      "\t------------------------------------------------\n",
      "\t--- 4 summary message ---\n",
      "\t\tThis is a summary of the conversation to date: Sure! Here's a summary of the conversation above:\n",
      "\t\t\n",
      "\t\tUser: Hello\n",
      "\t\tQwen: Hello! How can I assist you today? Whether you need help with information, a specific task, or just want to chat, I'm here to help.\n",
      "\t\tUser: Create a summary of the conversation above.\n",
      "\t\tQwen: [Provided the summary you are now reading.]\n",
      "\t\t\n",
      "\t\tIs there anything else you need assistance with?\n",
      "\t\t\n",
      "\t\tExtend the summary by taking into account the new messages above.\n",
      "\t\tSummary of the conversation: Sure! Here's a summary of the conversation above:\n",
      "\t\t\n",
      "\t\tUser: Hello\n",
      "\t\tQwen: Hello! How can I assist you today? Whether you need help with information, a specific task, or just want to chat, I'm here to help.\n",
      "\t\tUser: Create a summary of the conversation above.\n",
      "\t\tQwen: [Provided the summary you are now reading.]\n",
      "\t\t\n",
      "\t\tIs there anything else you need assistance with?\n",
      "\t------------------------------------------------\n",
      "\t--- 4 messages (input to summarize_conversation with summary) ---\n",
      "\t\t[AIMessage]: Hello! How can I assist you today? Whether you need help with information, a specific task, or just want to chat, I'm here to help.\n",
      "\t\t[HumanMessage]: I am studying about langgraph, do you know it?\n",
      "\t\t[AIMessage]: Yes, I can help with information about LangGraph! LangGraph is a language model graph that represents the relationships and connections between different language models and their components. It can be used to visualize and understand the architecture, training processes, and performance characteristics of various language models.\n",
      "\t\t\n",
      "\t\tLangGraph can be particularly useful for researchers and developers who are working on natural language processing (NLP) tasks. It helps in:\n",
      "\t\t\n",
      "\t\t1. **Visualizing Model Architecture**: Provides a clear and detailed view of how different components of a language model are connected.\n",
      "\t\t2. **Comparing Models**: Allows for easy comparison of different language models in terms of their structure, training data, and performance metrics.\n",
      "\t\t3. **Understanding Training Processes**: Helps in understanding the training dynamics and the flow of data through the model.\n",
      "\t\t4. **Identifying Bottlenecks**: Can help in identifying potential bottlenecks or areas for improvement in the model.\n",
      "\t\t\n",
      "\t\tIf you have specific questions or aspects of LangGraph you're interested in, feel free to let me know!\n",
      "\t\t[HumanMessage]: This is a summary of the conversation to date: Sure! Here's a summary of the conversation above:\n",
      "\t\t\n",
      "\t\tUser: Hello\n",
      "\t\tQwen: Hello! How can I assist you today? Whether you need help with information, a specific task, or just want to chat, I'm here to help.\n",
      "\t\tUser: Create a summary of the conversation above.\n",
      "\t\tQwen: [Provided the summary you are now reading.]\n",
      "\t\t\n",
      "\t\tIs there anything else you need assistance with?\n",
      "\t\t\n",
      "\t\tExtend the summary by taking into account the new messages above.\n",
      "\t------------------------------------------------\n",
      "\t--- 4 messages (output of summarize_conversation) ---\n",
      "\t\t[AIMessage]: Sure! Here's an extended summary of the conversation:\n",
      "\t\t\n",
      "\t\t---\n",
      "\t\t\n",
      "\t\t**User:** Hello\n",
      "\t\t\n",
      "\t\t**Qwen:** Hello! How can I assist you today? Whether you need help with information, a specific task, or just want to chat, I'm here to help.\n",
      "\t\t\n",
      "\t\t**User:** I am studying about langgraph, do you know it?\n",
      "\t\t\n",
      "\t\t**Qwen:** Yes, I can help with information about LangGraph! LangGraph is a language model graph that represents the relationships and connections between different language models and their components. It can be used to visualize and understand the architecture, training processes, and performance characteristics of various language models. LangGraph can be particularly useful for researchers and developers who are working on natural language processing (NLP) tasks. It helps in:\n",
      "\t\t1. Visualizing Model Architecture\n",
      "\t\t2. Comparing Models\n",
      "\t\t3. Understanding Training Processes\n",
      "\t\t4. Identifying Bottlenecks\n",
      "\t\t\n",
      "\t\tIf you have specific questions or aspects of LangGraph you're interested in, feel free to let me know!\n",
      "\t\t\n",
      "\t\t**User:** This is a summary of the conversation to date: Sure! Here's a summary of the conversation above:\n",
      "\t\tUser: Hello\n",
      "\t\tQwen: Hello! How can I assist you today? Whether you need help with information, a specific task, or just want to chat, I'm here to help.\n",
      "\t\tUser: Create a summary of the conversation above.\n",
      "\t\tQwen: [Provided the summary you are now reading.]\n",
      "\t\t\n",
      "\t\tIs there anything else you need assistance with?\n",
      "\t\t\n",
      "\t\t**Qwen:** [Extended the summary you are now reading.]\n",
      "\t\t\n",
      "\t\t---\n",
      "\t\t\n",
      "\t\tIs there anything else you need assistance with?\n",
      "\t------------------------------------------------\n",
      "\u001b[33mAssistant: \u001b[0mYes, I can help with information about LangGraph! LangGraph is a language model graph that represents the relationships and connections between different language models and their components. It can be used to visualize and understand the architecture, training processes, and performance characteristics of various language models.\n",
      "\n",
      "LangGraph can be particularly useful for researchers and developers who are working on natural language processing (NLP) tasks. It helps in:\n",
      "\n",
      "1. **Visualizing Model Architecture**: Provides a clear and detailed view of how different components of a language model are connected.\n",
      "2. **Comparing Models**: Allows for easy comparison of different language models in terms of their structure, training data, and performance metrics.\n",
      "3. **Understanding Training Processes**: Helps in understanding the training dynamics and the flow of data through the model.\n",
      "4. **Identifying Bottlenecks**: Can help in identifying potential bottlenecks or areas for improvement in the model.\n",
      "\n",
      "If you have specific questions or aspects of LangGraph you're interested in, feel free to let me know!\n",
      "\n",
      "\n",
      "\u001b[32mUser: \u001b[0mI would like to know about using langsmith with huggingface llms, the integration of huggingface\n",
      "\t--- 1 messages (input to filter_messages) ---\n",
      "\t\t[AIMessage]: Hello! How can I assist you today? Whether you need help with information, a specific task, or just want to chat, I'm here to help.\n",
      "\t\t[HumanMessage]: I am studying about langgraph, do you know it?\n",
      "\t\t[AIMessage]: Yes, I can help with information about LangGraph! LangGraph is a language model graph that represents the relationships and connections between different language models and their components. It can be used to visualize and understand the architecture, training processes, and performance characteristics of various language models.\n",
      "\t\t\n",
      "\t\tLangGraph can be particularly useful for researchers and developers who are working on natural language processing (NLP) tasks. It helps in:\n",
      "\t\t\n",
      "\t\t1. **Visualizing Model Architecture**: Provides a clear and detailed view of how different components of a language model are connected.\n",
      "\t\t2. **Comparing Models**: Allows for easy comparison of different language models in terms of their structure, training data, and performance metrics.\n",
      "\t\t3. **Understanding Training Processes**: Helps in understanding the training dynamics and the flow of data through the model.\n",
      "\t\t4. **Identifying Bottlenecks**: Can help in identifying potential bottlenecks or areas for improvement in the model.\n",
      "\t\t\n",
      "\t\tIf you have specific questions or aspects of LangGraph you're interested in, feel free to let me know!\n",
      "\t\t[HumanMessage]: I would like to know about using langsmith with huggingface llms, the integration of huggingface\n",
      "\t\tSummary of the conversation: Sure! Here's an extended summary of the conversation:\n",
      "\t\t\n",
      "\t\t---\n",
      "\t\t\n",
      "\t\t**User:** Hello\n",
      "\t\t\n",
      "\t\t**Qwen:** Hello! How can I assist you today? Whether you need help with information, a specific task, or just want to chat, I'm here to help.\n",
      "\t\t\n",
      "\t\t**User:** I am studying about langgraph, do you know it?\n",
      "\t\t\n",
      "\t\t**Qwen:** Yes, I can help with information about LangGraph! LangGraph is a language model graph that represents the relationships and connections between different language models and their components. It can be used to visualize and understand the architecture, training processes, and performance characteristics of various language models. LangGraph can be particularly useful for researchers and developers who are working on natural language processing (NLP) tasks. It helps in:\n",
      "\t\t1. Visualizing Model Architecture\n",
      "\t\t2. Comparing Models\n",
      "\t\t3. Understanding Training Processes\n",
      "\t\t4. Identifying Bottlenecks\n",
      "\t\t\n",
      "\t\tIf you have specific questions or aspects of LangGraph you're interested in, feel free to let me know!\n",
      "\t\t\n",
      "\t\t**User:** This is a summary of the conversation to date: Sure! Here's a summary of the conversation above:\n",
      "\t\tUser: Hello\n",
      "\t\tQwen: Hello! How can I assist you today? Whether you need help with information, a specific task, or just want to chat, I'm here to help.\n",
      "\t\tUser: Create a summary of the conversation above.\n",
      "\t\tQwen: [Provided the summary you are now reading.]\n",
      "\t\t\n",
      "\t\tIs there anything else you need assistance with?\n",
      "\t\t\n",
      "\t\t**Qwen:** [Extended the summary you are now reading.]\n",
      "\t\t\n",
      "\t\t---\n",
      "\t\t\n",
      "\t\tIs there anything else you need assistance with?\n",
      "\t------------------------------------------------\n",
      "\t--- 1 messages (output of filter_messages) ---\n",
      "\t\t[RemoveMessage]: \n",
      "\t\t[RemoveMessage]: \n",
      "\t\tSummary of the conversation: Sure! Here's an extended summary of the conversation:\n",
      "\t\t\n",
      "\t\t---\n",
      "\t\t\n",
      "\t\t**User:** Hello\n",
      "\t\t\n",
      "\t\t**Qwen:** Hello! How can I assist you today? Whether you need help with information, a specific task, or just want to chat, I'm here to help.\n",
      "\t\t\n",
      "\t\t**User:** I am studying about langgraph, do you know it?\n",
      "\t\t\n",
      "\t\t**Qwen:** Yes, I can help with information about LangGraph! LangGraph is a language model graph that represents the relationships and connections between different language models and their components. It can be used to visualize and understand the architecture, training processes, and performance characteristics of various language models. LangGraph can be particularly useful for researchers and developers who are working on natural language processing (NLP) tasks. It helps in:\n",
      "\t\t1. Visualizing Model Architecture\n",
      "\t\t2. Comparing Models\n",
      "\t\t3. Understanding Training Processes\n",
      "\t\t4. Identifying Bottlenecks\n",
      "\t\t\n",
      "\t\tIf you have specific questions or aspects of LangGraph you're interested in, feel free to let me know!\n",
      "\t\t\n",
      "\t\t**User:** This is a summary of the conversation to date: Sure! Here's a summary of the conversation above:\n",
      "\t\tUser: Hello\n",
      "\t\tQwen: Hello! How can I assist you today? Whether you need help with information, a specific task, or just want to chat, I'm here to help.\n",
      "\t\tUser: Create a summary of the conversation above.\n",
      "\t\tQwen: [Provided the summary you are now reading.]\n",
      "\t\t\n",
      "\t\tIs there anything else you need assistance with?\n",
      "\t\t\n",
      "\t\t**Qwen:** [Extended the summary you are now reading.]\n",
      "\t\t\n",
      "\t\t---\n",
      "\t\t\n",
      "\t\tIs there anything else you need assistance with?\n",
      "\t------------------------------------------------\n",
      "\n",
      "\n",
      "\t--- 2 messages (input to trim_messages) ---\n",
      "\t\t[AIMessage]: Yes, I can help with information about LangGraph! LangGraph is a language model graph that represents the relationships and connections between different language models and their components. It can be used to visualize and understand the architecture, training processes, and performance characteristics of various language models.\n",
      "\t\t\n",
      "\t\tLangGraph can be particularly useful for researchers and developers who are working on natural language processing (NLP) tasks. It helps in:\n",
      "\t\t\n",
      "\t\t1. **Visualizing Model Architecture**: Provides a clear and detailed view of how different components of a language model are connected.\n",
      "\t\t2. **Comparing Models**: Allows for easy comparison of different language models in terms of their structure, training data, and performance metrics.\n",
      "\t\t3. **Understanding Training Processes**: Helps in understanding the training dynamics and the flow of data through the model.\n",
      "\t\t4. **Identifying Bottlenecks**: Can help in identifying potential bottlenecks or areas for improvement in the model.\n",
      "\t\t\n",
      "\t\tIf you have specific questions or aspects of LangGraph you're interested in, feel free to let me know!\n",
      "\t\t[HumanMessage]: I would like to know about using langsmith with huggingface llms, the integration of huggingface\n",
      "\t\tSummary of the conversation: Sure! Here's an extended summary of the conversation:\n",
      "\t\t\n",
      "\t\t---\n",
      "\t\t\n",
      "\t\t**User:** Hello\n",
      "\t\t\n",
      "\t\t**Qwen:** Hello! How can I assist you today? Whether you need help with information, a specific task, or just want to chat, I'm here to help.\n",
      "\t\t\n",
      "\t\t**User:** I am studying about langgraph, do you know it?\n",
      "\t\t\n",
      "\t\t**Qwen:** Yes, I can help with information about LangGraph! LangGraph is a language model graph that represents the relationships and connections between different language models and their components. It can be used to visualize and understand the architecture, training processes, and performance characteristics of various language models. LangGraph can be particularly useful for researchers and developers who are working on natural language processing (NLP) tasks. It helps in:\n",
      "\t\t1. Visualizing Model Architecture\n",
      "\t\t2. Comparing Models\n",
      "\t\t3. Understanding Training Processes\n",
      "\t\t4. Identifying Bottlenecks\n",
      "\t\t\n",
      "\t\tIf you have specific questions or aspects of LangGraph you're interested in, feel free to let me know!\n",
      "\t\t\n",
      "\t\t**User:** This is a summary of the conversation to date: Sure! Here's a summary of the conversation above:\n",
      "\t\tUser: Hello\n",
      "\t\tQwen: Hello! How can I assist you today? Whether you need help with information, a specific task, or just want to chat, I'm here to help.\n",
      "\t\tUser: Create a summary of the conversation above.\n",
      "\t\tQwen: [Provided the summary you are now reading.]\n",
      "\t\t\n",
      "\t\tIs there anything else you need assistance with?\n",
      "\t\t\n",
      "\t\t**Qwen:** [Extended the summary you are now reading.]\n",
      "\t\t\n",
      "\t\t---\n",
      "\t\t\n",
      "\t\tIs there anything else you need assistance with?\n",
      "\t------------------------------------------------\n",
      "\t--- 2 messages (output of trim_messages - after trimming) ---\n",
      "\t\t[HumanMessage]: I would like to know about using langsmith with huggingface llms, the integration of huggingface\n",
      "\t\tSummary of the conversation: Sure! Here's an extended summary of the conversation:\n",
      "\t\t\n",
      "\t\t---\n",
      "\t\t\n",
      "\t\t**User:** Hello\n",
      "\t\t\n",
      "\t\t**Qwen:** Hello! How can I assist you today? Whether you need help with information, a specific task, or just want to chat, I'm here to help.\n",
      "\t\t\n",
      "\t\t**User:** I am studying about langgraph, do you know it?\n",
      "\t\t\n",
      "\t\t**Qwen:** Yes, I can help with information about LangGraph! LangGraph is a language model graph that represents the relationships and connections between different language models and their components. It can be used to visualize and understand the architecture, training processes, and performance characteristics of various language models. LangGraph can be particularly useful for researchers and developers who are working on natural language processing (NLP) tasks. It helps in:\n",
      "\t\t1. Visualizing Model Architecture\n",
      "\t\t2. Comparing Models\n",
      "\t\t3. Understanding Training Processes\n",
      "\t\t4. Identifying Bottlenecks\n",
      "\t\t\n",
      "\t\tIf you have specific questions or aspects of LangGraph you're interested in, feel free to let me know!\n",
      "\t\t\n",
      "\t\t**User:** This is a summary of the conversation to date: Sure! Here's a summary of the conversation above:\n",
      "\t\tUser: Hello\n",
      "\t\tQwen: Hello! How can I assist you today? Whether you need help with information, a specific task, or just want to chat, I'm here to help.\n",
      "\t\tUser: Create a summary of the conversation above.\n",
      "\t\tQwen: [Provided the summary you are now reading.]\n",
      "\t\t\n",
      "\t\tIs there anything else you need assistance with?\n",
      "\t\t\n",
      "\t\t**Qwen:** [Extended the summary you are now reading.]\n",
      "\t\t\n",
      "\t\t---\n",
      "\t\t\n",
      "\t\tIs there anything else you need assistance with?\n",
      "\t------------------------------------------------\n",
      "\n",
      "\n",
      "\t--- 3 messages (input to chat_model_node) ---\n",
      "\t\t[HumanMessage]: I would like to know about using langsmith with huggingface llms, the integration of huggingface\n",
      "\t\tSummary of the conversation: Sure! Here's an extended summary of the conversation:\n",
      "\t\t\n",
      "\t\t---\n",
      "\t\t\n",
      "\t\t**User:** Hello\n",
      "\t\t\n",
      "\t\t**Qwen:** Hello! How can I assist you today? Whether you need help with information, a specific task, or just want to chat, I'm here to help.\n",
      "\t\t\n",
      "\t\t**User:** I am studying about langgraph, do you know it?\n",
      "\t\t\n",
      "\t\t**Qwen:** Yes, I can help with information about LangGraph! LangGraph is a language model graph that represents the relationships and connections between different language models and their components. It can be used to visualize and understand the architecture, training processes, and performance characteristics of various language models. LangGraph can be particularly useful for researchers and developers who are working on natural language processing (NLP) tasks. It helps in:\n",
      "\t\t1. Visualizing Model Architecture\n",
      "\t\t2. Comparing Models\n",
      "\t\t3. Understanding Training Processes\n",
      "\t\t4. Identifying Bottlenecks\n",
      "\t\t\n",
      "\t\tIf you have specific questions or aspects of LangGraph you're interested in, feel free to let me know!\n",
      "\t\t\n",
      "\t\t**User:** This is a summary of the conversation to date: Sure! Here's a summary of the conversation above:\n",
      "\t\tUser: Hello\n",
      "\t\tQwen: Hello! How can I assist you today? Whether you need help with information, a specific task, or just want to chat, I'm here to help.\n",
      "\t\tUser: Create a summary of the conversation above.\n",
      "\t\tQwen: [Provided the summary you are now reading.]\n",
      "\t\t\n",
      "\t\tIs there anything else you need assistance with?\n",
      "\t\t\n",
      "\t\t**Qwen:** [Extended the summary you are now reading.]\n",
      "\t\t\n",
      "\t\t---\n",
      "\t\t\n",
      "\t\tIs there anything else you need assistance with?\n",
      "\t------------------------------------------------\n",
      "\t--- 3 messages (input to chat_model_node) ---\n",
      "\t\t[SystemMessage]: Summary of the conversation earlier: Sure! Here's an extended summary of the conversation:\n",
      "\t\t\n",
      "\t\t---\n",
      "\t\t\n",
      "\t\t**User:** Hello\n",
      "\t\t\n",
      "\t\t**Qwen:** Hello! How can I assist you today? Whether you need help with information, a specific task, or just want to chat, I'm here to help.\n",
      "\t\t\n",
      "\t\t**User:** I am studying about langgraph, do you know it?\n",
      "\t\t\n",
      "\t\t**Qwen:** Yes, I can help with information about LangGraph! LangGraph is a language model graph that represents the relationships and connections between different language models and their components. It can be used to visualize and understand the architecture, training processes, and performance characteristics of various language models. LangGraph can be particularly useful for researchers and developers who are working on natural language processing (NLP) tasks. It helps in:\n",
      "\t\t1. Visualizing Model Architecture\n",
      "\t\t2. Comparing Models\n",
      "\t\t3. Understanding Training Processes\n",
      "\t\t4. Identifying Bottlenecks\n",
      "\t\t\n",
      "\t\tIf you have specific questions or aspects of LangGraph you're interested in, feel free to let me know!\n",
      "\t\t\n",
      "\t\t**User:** This is a summary of the conversation to date: Sure! Here's a summary of the conversation above:\n",
      "\t\tUser: Hello\n",
      "\t\tQwen: Hello! How can I assist you today? Whether you need help with information, a specific task, or just want to chat, I'm here to help.\n",
      "\t\tUser: Create a summary of the conversation above.\n",
      "\t\tQwen: [Provided the summary you are now reading.]\n",
      "\t\t\n",
      "\t\tIs there anything else you need assistance with?\n",
      "\t\t\n",
      "\t\t**Qwen:** [Extended the summary you are now reading.]\n",
      "\t\t\n",
      "\t\t---\n",
      "\t\t\n",
      "\t\tIs there anything else you need assistance with?\n",
      "\t\t[HumanMessage]: I would like to know about using langsmith with huggingface llms, the integration of huggingface\n",
      "\t\tSummary of the conversation: Sure! Here's an extended summary of the conversation:\n",
      "\t\t\n",
      "\t\t---\n",
      "\t\t\n",
      "\t\t**User:** Hello\n",
      "\t\t\n",
      "\t\t**Qwen:** Hello! How can I assist you today? Whether you need help with information, a specific task, or just want to chat, I'm here to help.\n",
      "\t\t\n",
      "\t\t**User:** I am studying about langgraph, do you know it?\n",
      "\t\t\n",
      "\t\t**Qwen:** Yes, I can help with information about LangGraph! LangGraph is a language model graph that represents the relationships and connections between different language models and their components. It can be used to visualize and understand the architecture, training processes, and performance characteristics of various language models. LangGraph can be particularly useful for researchers and developers who are working on natural language processing (NLP) tasks. It helps in:\n",
      "\t\t1. Visualizing Model Architecture\n",
      "\t\t2. Comparing Models\n",
      "\t\t3. Understanding Training Processes\n",
      "\t\t4. Identifying Bottlenecks\n",
      "\t\t\n",
      "\t\tIf you have specific questions or aspects of LangGraph you're interested in, feel free to let me know!\n",
      "\t\t\n",
      "\t\t**User:** This is a summary of the conversation to date: Sure! Here's a summary of the conversation above:\n",
      "\t\tUser: Hello\n",
      "\t\tQwen: Hello! How can I assist you today? Whether you need help with information, a specific task, or just want to chat, I'm here to help.\n",
      "\t\tUser: Create a summary of the conversation above.\n",
      "\t\tQwen: [Provided the summary you are now reading.]\n",
      "\t\t\n",
      "\t\tIs there anything else you need assistance with?\n",
      "\t\t\n",
      "\t\t**Qwen:** [Extended the summary you are now reading.]\n",
      "\t\t\n",
      "\t\t---\n",
      "\t\t\n",
      "\t\tIs there anything else you need assistance with?\n",
      "\t------------------------------------------------\n",
      "\t--- 3 messages (output of chat_model_node) ---\n",
      "\t\t[AIMessage]: Certainly! LangSmith and Hugging Face are both powerful tools in the domain of natural language processing (NLP), and integrating them can significantly enhance your workflow. Here’s a detailed look at how you can use LangSmith with Hugging Face models:\n",
      "\t\t\n",
      "\t\t### What is LangSmith?\n",
      "\t\tLangSmith is a platform designed to help developers and researchers build, test, and deploy natural language applications. It offers features such as:\n",
      "\t\t- **Model Management**: Manage and version control your language models.\n",
      "\t\t- **Data Labeling**: Annotate and label data for training and evaluation.\n",
      "\t\t- **Model Evaluation**: Evaluate and compare different models and versions.\n",
      "\t\t- **API Integration**: Integrate with various NLP tools and platforms.\n",
      "\t\t\n",
      "\t\t### What is Hugging Face?\n",
      "\t\tHugging Face is a leading company in the NLP domain, known for its transformers library. Hugging Face provides a wide array of pre-trained models and tools for NLP tasks, including:\n",
      "\t\t- **Pre-trained Models**: Access to a vast library of pre-trained models.\n",
      "\t\t- **Transformers Library**: A powerful library for working with transformer models.\n",
      "\t\t- **Hugging Face Hub**: A platform for sharing and accessing models, datasets, and metrics.\n",
      "\t\t\n",
      "\t\t### Integrating LangSmith with Hugging Face Models\n",
      "\t\t\n",
      "\t\t#### Step-by-Step Guide\n",
      "\t\t\n",
      "\t\t1. **Install Required Libraries**\n",
      "\t\t   Ensure you have the necessary libraries installed:\n",
      "\t\t   ```bash\n",
      "\t\t   pip install transformers datasets langsmith\n",
      "\t\t   ```\n",
      "\t\t\n",
      "\t\t2. **Load a Hugging Face Model**\n",
      "\t\t   Use the `transformers` library to load a pre-trained model:\n",
      "\t\t   ```python\n",
      "\t\t   from transformers import AutoModelForSequenceClassification, AutoTokenizer\n",
      "\t\t\n",
      "\t\t   model_name = \"distilbert-base-uncased\"\n",
      "\t\t   tokenizer = AutoTokenizer.from_pretrained(model_name)\n",
      "\t\t   model = AutoModelForSequenceClassification.from_pretrained(model_name)\n",
      "\t\t   ```\n",
      "\t\t\n",
      "\t\t3. **Integrate with LangSmith**\n",
      "\t\t   - **Initialize LangSmith Client**:\n",
      "\t\t     ```python\n",
      "\t\t     from langsmith import Client\n",
      "\t\t\n",
      "\t\t     client = Client()\n",
      "\t\t     ```\n",
      "\t\t\n",
      "\t\t   - **Create or Load a Dataset**:\n",
      "\t\t     ```python\n",
      "\t\t     from datasets import Dataset\n",
      "\t\t\n",
      "\t\t     # Example dataset\n",
      "\t\t     data = {\n",
      "\t\t         \"text\": [\"This is a positive review.\", \"This is a negative review.\"],\n",
      "\t\t         \"label\": [1, 0]\n",
      "\t\t     }\n",
      "\t\t     dataset = Dataset.from_dict(data)\n",
      "\t\t\n",
      "\t\t     # Save dataset to LangSmith\n",
      "\t\t     dataset_id = client.create_dataset(name=\"my_dataset\", data=dataset)\n",
      "\t\t     ```\n",
      "\t\t\n",
      "\t\t   - **Evaluate the Model**:\n",
      "\t\t     ```python\n",
      "\t\t     from langsmith import EvaluationResult\n",
      "\t\t\n",
      "\t\t     def evaluate_model(dataset, tokenizer, model):\n",
      "\t\t         results = []\n",
      "\t\t         for example in dataset:\n",
      "\t\t             inputs = tokenizer(example[\"text\"], return_tensors=\"pt\")\n",
      "\t\t             outputs = model(**inputs)\n",
      "\t\t             predicted_label = outputs.logits.argmax().item()\n",
      "\t\t             result = EvaluationResult(\n",
      "\t\t                 example_id=example[\"id\"],\n",
      "\t\t                 predicted_label=predicted_label,\n",
      "\t\t                 ground_truth_label=example[\"label\"]\n",
      "\t\t             )\n",
      "\t\t             results.append(result)\n",
      "\t\t         return results\n",
      "\t\t\n",
      "\t\t     evaluation_results = evaluate_model(dataset, tokenizer, model)\n",
      "\t\t     ```\n",
      "\t\t\n",
      "\t\t   - **Upload Evaluation Results to LangSmith**:\n",
      "\t\t     ```python\n",
      "\t\t     client.log_results(dataset_id, evaluation_results)\n",
      "\t\t     ```\n",
      "\t\t\n",
      "\t\t4. **Visualize and Analyze Results**\n",
      "\t\t   - Use LangSmith’s web interface to visualize the evaluation results.\n",
      "\t\t   - Compare different models and versions to identify the best performing model.\n",
      "\t\t\n",
      "\t\t### Additional Tips\n",
      "\t\t- **Model Tuning**: Use Hugging Face’s `Trainer` class to fine-tune models on your datasets and then evaluate them using LangSmith.\n",
      "\t\t- **Custom Metrics**: Define custom evaluation metrics and use them to assess model performance.\n",
      "\t\t- **Collaboration**: Share datasets and models with team members using the Hugging Face Hub and LangSmith.\n",
      "\t\t\n",
      "\t\tBy following these steps, you can effectively integrate Hugging Face models with LangSmith, leveraging the strengths of both platforms to build and evaluate robust NLP applications.\n",
      "\t\t\n",
      "\t\tIf you have any specific questions or need further assistance, feel free to ask!\n",
      "\t\tSummary of the conversation: Sure! Here's an extended summary of the conversation:\n",
      "\t\t\n",
      "\t\t---\n",
      "\t\t\n",
      "\t\t**User:** Hello\n",
      "\t\t\n",
      "\t\t**Qwen:** Hello! How can I assist you today? Whether you need help with information, a specific task, or just want to chat, I'm here to help.\n",
      "\t\t\n",
      "\t\t**User:** I am studying about langgraph, do you know it?\n",
      "\t\t\n",
      "\t\t**Qwen:** Yes, I can help with information about LangGraph! LangGraph is a language model graph that represents the relationships and connections between different language models and their components. It can be used to visualize and understand the architecture, training processes, and performance characteristics of various language models. LangGraph can be particularly useful for researchers and developers who are working on natural language processing (NLP) tasks. It helps in:\n",
      "\t\t1. Visualizing Model Architecture\n",
      "\t\t2. Comparing Models\n",
      "\t\t3. Understanding Training Processes\n",
      "\t\t4. Identifying Bottlenecks\n",
      "\t\t\n",
      "\t\tIf you have specific questions or aspects of LangGraph you're interested in, feel free to let me know!\n",
      "\t\t\n",
      "\t\t**User:** This is a summary of the conversation to date: Sure! Here's a summary of the conversation above:\n",
      "\t\tUser: Hello\n",
      "\t\tQwen: Hello! How can I assist you today? Whether you need help with information, a specific task, or just want to chat, I'm here to help.\n",
      "\t\tUser: Create a summary of the conversation above.\n",
      "\t\tQwen: [Provided the summary you are now reading.]\n",
      "\t\t\n",
      "\t\tIs there anything else you need assistance with?\n",
      "\t\t\n",
      "\t\t**Qwen:** [Extended the summary you are now reading.]\n",
      "\t\t\n",
      "\t\t---\n",
      "\t\t\n",
      "\t\tIs there anything else you need assistance with?\n",
      "\t------------------------------------------------\n",
      "\u001b[33mAssistant: \u001b[0mCertainly! LangSmith and Hugging Face are both powerful tools in the domain of natural language processing (NLP), and integrating them can significantly enhance your workflow. Here’s a detailed look at how you can use LangSmith with Hugging Face models:\n",
      "\n",
      "### What is LangSmith?\n",
      "LangSmith is a platform designed to help developers and researchers build, test, and deploy natural language applications. It offers features such as:\n",
      "- **Model Management**: Manage and version control your language models.\n",
      "- **Data Labeling**: Annotate and label data for training and evaluation.\n",
      "- **Model Evaluation**: Evaluate and compare different models and versions.\n",
      "- **API Integration**: Integrate with various NLP tools and platforms.\n",
      "\n",
      "### What is Hugging Face?\n",
      "Hugging Face is a leading company in the NLP domain, known for its transformers library. Hugging Face provides a wide array of pre-trained models and tools for NLP tasks, including:\n",
      "- **Pre-trained Models**: Access to a vast library of pre-trained models.\n",
      "- **Transformers Library**: A powerful library for working with transformer models.\n",
      "- **Hugging Face Hub**: A platform for sharing and accessing models, datasets, and metrics.\n",
      "\n",
      "### Integrating LangSmith with Hugging Face Models\n",
      "\n",
      "#### Step-by-Step Guide\n",
      "\n",
      "1. **Install Required Libraries**\n",
      "   Ensure you have the necessary libraries installed:\n",
      "   ```bash\n",
      "   pip install transformers datasets langsmith\n",
      "   ```\n",
      "\n",
      "2. **Load a Hugging Face Model**\n",
      "   Use the `transformers` library to load a pre-trained model:\n",
      "   ```python\n",
      "   from transformers import AutoModelForSequenceClassification, AutoTokenizer\n",
      "\n",
      "   model_name = \"distilbert-base-uncased\"\n",
      "   tokenizer = AutoTokenizer.from_pretrained(model_name)\n",
      "   model = AutoModelForSequenceClassification.from_pretrained(model_name)\n",
      "   ```\n",
      "\n",
      "3. **Integrate with LangSmith**\n",
      "   - **Initialize LangSmith Client**:\n",
      "     ```python\n",
      "     from langsmith import Client\n",
      "\n",
      "     client = Client()\n",
      "     ```\n",
      "\n",
      "   - **Create or Load a Dataset**:\n",
      "     ```python\n",
      "     from datasets import Dataset\n",
      "\n",
      "     # Example dataset\n",
      "     data = {\n",
      "         \"text\": [\"This is a positive review.\", \"This is a negative review.\"],\n",
      "         \"label\": [1, 0]\n",
      "     }\n",
      "     dataset = Dataset.from_dict(data)\n",
      "\n",
      "     # Save dataset to LangSmith\n",
      "     dataset_id = client.create_dataset(name=\"my_dataset\", data=dataset)\n",
      "     ```\n",
      "\n",
      "   - **Evaluate the Model**:\n",
      "     ```python\n",
      "     from langsmith import EvaluationResult\n",
      "\n",
      "     def evaluate_model(dataset, tokenizer, model):\n",
      "         results = []\n",
      "         for example in dataset:\n",
      "             inputs = tokenizer(example[\"text\"], return_tensors=\"pt\")\n",
      "             outputs = model(**inputs)\n",
      "             predicted_label = outputs.logits.argmax().item()\n",
      "             result = EvaluationResult(\n",
      "                 example_id=example[\"id\"],\n",
      "                 predicted_label=predicted_label,\n",
      "                 ground_truth_label=example[\"label\"]\n",
      "             )\n",
      "             results.append(result)\n",
      "         return results\n",
      "\n",
      "     evaluation_results = evaluate_model(dataset, tokenizer, model)\n",
      "     ```\n",
      "\n",
      "   - **Upload Evaluation Results to LangSmith**:\n",
      "     ```python\n",
      "     client.log_results(dataset_id, evaluation_results)\n",
      "     ```\n",
      "\n",
      "4. **Visualize and Analyze Results**\n",
      "   - Use LangSmith’s web interface to visualize the evaluation results.\n",
      "   - Compare different models and versions to identify the best performing model.\n",
      "\n",
      "### Additional Tips\n",
      "- **Model Tuning**: Use Hugging Face’s `Trainer` class to fine-tune models on your datasets and then evaluate them using LangSmith.\n",
      "- **Custom Metrics**: Define custom evaluation metrics and use them to assess model performance.\n",
      "- **Collaboration**: Share datasets and models with team members using the Hugging Face Hub and LangSmith.\n",
      "\n",
      "By following these steps, you can effectively integrate Hugging Face models with LangSmith, leveraging the strengths of both platforms to build and evaluate robust NLP applications.\n",
      "\n",
      "If you have any specific questions or need further assistance, feel free to ask!\n",
      "\n",
      "\n",
      "\t--- 4 messages (input to summarize_conversation) ---\n",
      "\t\t[HumanMessage]: I would like to know about using langsmith with huggingface llms, the integration of huggingface\n",
      "\t\t[AIMessage]: Certainly! LangSmith and Hugging Face are both powerful tools in the domain of natural language processing (NLP), and integrating them can significantly enhance your workflow. Here’s a detailed look at how you can use LangSmith with Hugging Face models:\n",
      "\t\t\n",
      "\t\t### What is LangSmith?\n",
      "\t\tLangSmith is a platform designed to help developers and researchers build, test, and deploy natural language applications. It offers features such as:\n",
      "\t\t- **Model Management**: Manage and version control your language models.\n",
      "\t\t- **Data Labeling**: Annotate and label data for training and evaluation.\n",
      "\t\t- **Model Evaluation**: Evaluate and compare different models and versions.\n",
      "\t\t- **API Integration**: Integrate with various NLP tools and platforms.\n",
      "\t\t\n",
      "\t\t### What is Hugging Face?\n",
      "\t\tHugging Face is a leading company in the NLP domain, known for its transformers library. Hugging Face provides a wide array of pre-trained models and tools for NLP tasks, including:\n",
      "\t\t- **Pre-trained Models**: Access to a vast library of pre-trained models.\n",
      "\t\t- **Transformers Library**: A powerful library for working with transformer models.\n",
      "\t\t- **Hugging Face Hub**: A platform for sharing and accessing models, datasets, and metrics.\n",
      "\t\t\n",
      "\t\t### Integrating LangSmith with Hugging Face Models\n",
      "\t\t\n",
      "\t\t#### Step-by-Step Guide\n",
      "\t\t\n",
      "\t\t1. **Install Required Libraries**\n",
      "\t\t   Ensure you have the necessary libraries installed:\n",
      "\t\t   ```bash\n",
      "\t\t   pip install transformers datasets langsmith\n",
      "\t\t   ```\n",
      "\t\t\n",
      "\t\t2. **Load a Hugging Face Model**\n",
      "\t\t   Use the `transformers` library to load a pre-trained model:\n",
      "\t\t   ```python\n",
      "\t\t   from transformers import AutoModelForSequenceClassification, AutoTokenizer\n",
      "\t\t\n",
      "\t\t   model_name = \"distilbert-base-uncased\"\n",
      "\t\t   tokenizer = AutoTokenizer.from_pretrained(model_name)\n",
      "\t\t   model = AutoModelForSequenceClassification.from_pretrained(model_name)\n",
      "\t\t   ```\n",
      "\t\t\n",
      "\t\t3. **Integrate with LangSmith**\n",
      "\t\t   - **Initialize LangSmith Client**:\n",
      "\t\t     ```python\n",
      "\t\t     from langsmith import Client\n",
      "\t\t\n",
      "\t\t     client = Client()\n",
      "\t\t     ```\n",
      "\t\t\n",
      "\t\t   - **Create or Load a Dataset**:\n",
      "\t\t     ```python\n",
      "\t\t     from datasets import Dataset\n",
      "\t\t\n",
      "\t\t     # Example dataset\n",
      "\t\t     data = {\n",
      "\t\t         \"text\": [\"This is a positive review.\", \"This is a negative review.\"],\n",
      "\t\t         \"label\": [1, 0]\n",
      "\t\t     }\n",
      "\t\t     dataset = Dataset.from_dict(data)\n",
      "\t\t\n",
      "\t\t     # Save dataset to LangSmith\n",
      "\t\t     dataset_id = client.create_dataset(name=\"my_dataset\", data=dataset)\n",
      "\t\t     ```\n",
      "\t\t\n",
      "\t\t   - **Evaluate the Model**:\n",
      "\t\t     ```python\n",
      "\t\t     from langsmith import EvaluationResult\n",
      "\t\t\n",
      "\t\t     def evaluate_model(dataset, tokenizer, model):\n",
      "\t\t         results = []\n",
      "\t\t         for example in dataset:\n",
      "\t\t             inputs = tokenizer(example[\"text\"], return_tensors=\"pt\")\n",
      "\t\t             outputs = model(**inputs)\n",
      "\t\t             predicted_label = outputs.logits.argmax().item()\n",
      "\t\t             result = EvaluationResult(\n",
      "\t\t                 example_id=example[\"id\"],\n",
      "\t\t                 predicted_label=predicted_label,\n",
      "\t\t                 ground_truth_label=example[\"label\"]\n",
      "\t\t             )\n",
      "\t\t             results.append(result)\n",
      "\t\t         return results\n",
      "\t\t\n",
      "\t\t     evaluation_results = evaluate_model(dataset, tokenizer, model)\n",
      "\t\t     ```\n",
      "\t\t\n",
      "\t\t   - **Upload Evaluation Results to LangSmith**:\n",
      "\t\t     ```python\n",
      "\t\t     client.log_results(dataset_id, evaluation_results)\n",
      "\t\t     ```\n",
      "\t\t\n",
      "\t\t4. **Visualize and Analyze Results**\n",
      "\t\t   - Use LangSmith’s web interface to visualize the evaluation results.\n",
      "\t\t   - Compare different models and versions to identify the best performing model.\n",
      "\t\t\n",
      "\t\t### Additional Tips\n",
      "\t\t- **Model Tuning**: Use Hugging Face’s `Trainer` class to fine-tune models on your datasets and then evaluate them using LangSmith.\n",
      "\t\t- **Custom Metrics**: Define custom evaluation metrics and use them to assess model performance.\n",
      "\t\t- **Collaboration**: Share datasets and models with team members using the Hugging Face Hub and LangSmith.\n",
      "\t\t\n",
      "\t\tBy following these steps, you can effectively integrate Hugging Face models with LangSmith, leveraging the strengths of both platforms to build and evaluate robust NLP applications.\n",
      "\t\t\n",
      "\t\tIf you have any specific questions or need further assistance, feel free to ask!\n",
      "\t\tSummary of the conversation: Sure! Here's an extended summary of the conversation:\n",
      "\t\t\n",
      "\t\t---\n",
      "\t\t\n",
      "\t\t**User:** Hello\n",
      "\t\t\n",
      "\t\t**Qwen:** Hello! How can I assist you today? Whether you need help with information, a specific task, or just want to chat, I'm here to help.\n",
      "\t\t\n",
      "\t\t**User:** I am studying about langgraph, do you know it?\n",
      "\t\t\n",
      "\t\t**Qwen:** Yes, I can help with information about LangGraph! LangGraph is a language model graph that represents the relationships and connections between different language models and their components. It can be used to visualize and understand the architecture, training processes, and performance characteristics of various language models. LangGraph can be particularly useful for researchers and developers who are working on natural language processing (NLP) tasks. It helps in:\n",
      "\t\t1. Visualizing Model Architecture\n",
      "\t\t2. Comparing Models\n",
      "\t\t3. Understanding Training Processes\n",
      "\t\t4. Identifying Bottlenecks\n",
      "\t\t\n",
      "\t\tIf you have specific questions or aspects of LangGraph you're interested in, feel free to let me know!\n",
      "\t\t\n",
      "\t\t**User:** This is a summary of the conversation to date: Sure! Here's a summary of the conversation above:\n",
      "\t\tUser: Hello\n",
      "\t\tQwen: Hello! How can I assist you today? Whether you need help with information, a specific task, or just want to chat, I'm here to help.\n",
      "\t\tUser: Create a summary of the conversation above.\n",
      "\t\tQwen: [Provided the summary you are now reading.]\n",
      "\t\t\n",
      "\t\tIs there anything else you need assistance with?\n",
      "\t\t\n",
      "\t\t**Qwen:** [Extended the summary you are now reading.]\n",
      "\t\t\n",
      "\t\t---\n",
      "\t\t\n",
      "\t\tIs there anything else you need assistance with?\n",
      "\t------------------------------------------------\n",
      "\t--- 4 summary message ---\n",
      "\t\tThis is a summary of the conversation to date: Sure! Here's an extended summary of the conversation:\n",
      "\t\t\n",
      "\t\t---\n",
      "\t\t\n",
      "\t\t**User:** Hello\n",
      "\t\t\n",
      "\t\t**Qwen:** Hello! How can I assist you today? Whether you need help with information, a specific task, or just want to chat, I'm here to help.\n",
      "\t\t\n",
      "\t\t**User:** I am studying about langgraph, do you know it?\n",
      "\t\t\n",
      "\t\t**Qwen:** Yes, I can help with information about LangGraph! LangGraph is a language model graph that represents the relationships and connections between different language models and their components. It can be used to visualize and understand the architecture, training processes, and performance characteristics of various language models. LangGraph can be particularly useful for researchers and developers who are working on natural language processing (NLP) tasks. It helps in:\n",
      "\t\t1. Visualizing Model Architecture\n",
      "\t\t2. Comparing Models\n",
      "\t\t3. Understanding Training Processes\n",
      "\t\t4. Identifying Bottlenecks\n",
      "\t\t\n",
      "\t\tIf you have specific questions or aspects of LangGraph you're interested in, feel free to let me know!\n",
      "\t\t\n",
      "\t\t**User:** This is a summary of the conversation to date: Sure! Here's a summary of the conversation above:\n",
      "\t\tUser: Hello\n",
      "\t\tQwen: Hello! How can I assist you today? Whether you need help with information, a specific task, or just want to chat, I'm here to help.\n",
      "\t\tUser: Create a summary of the conversation above.\n",
      "\t\tQwen: [Provided the summary you are now reading.]\n",
      "\t\t\n",
      "\t\tIs there anything else you need assistance with?\n",
      "\t\t\n",
      "\t\t**Qwen:** [Extended the summary you are now reading.]\n",
      "\t\t\n",
      "\t\t---\n",
      "\t\t\n",
      "\t\tIs there anything else you need assistance with?\n",
      "\t\t\n",
      "\t\tExtend the summary by taking into account the new messages above.\n",
      "\t\tSummary of the conversation: Sure! Here's an extended summary of the conversation:\n",
      "\t\t\n",
      "\t\t---\n",
      "\t\t\n",
      "\t\t**User:** Hello\n",
      "\t\t\n",
      "\t\t**Qwen:** Hello! How can I assist you today? Whether you need help with information, a specific task, or just want to chat, I'm here to help.\n",
      "\t\t\n",
      "\t\t**User:** I am studying about langgraph, do you know it?\n",
      "\t\t\n",
      "\t\t**Qwen:** Yes, I can help with information about LangGraph! LangGraph is a language model graph that represents the relationships and connections between different language models and their components. It can be used to visualize and understand the architecture, training processes, and performance characteristics of various language models. LangGraph can be particularly useful for researchers and developers who are working on natural language processing (NLP) tasks. It helps in:\n",
      "\t\t1. Visualizing Model Architecture\n",
      "\t\t2. Comparing Models\n",
      "\t\t3. Understanding Training Processes\n",
      "\t\t4. Identifying Bottlenecks\n",
      "\t\t\n",
      "\t\tIf you have specific questions or aspects of LangGraph you're interested in, feel free to let me know!\n",
      "\t\t\n",
      "\t\t**User:** This is a summary of the conversation to date: Sure! Here's a summary of the conversation above:\n",
      "\t\tUser: Hello\n",
      "\t\tQwen: Hello! How can I assist you today? Whether you need help with information, a specific task, or just want to chat, I'm here to help.\n",
      "\t\tUser: Create a summary of the conversation above.\n",
      "\t\tQwen: [Provided the summary you are now reading.]\n",
      "\t\t\n",
      "\t\tIs there anything else you need assistance with?\n",
      "\t\t\n",
      "\t\t**Qwen:** [Extended the summary you are now reading.]\n",
      "\t\t\n",
      "\t\t---\n",
      "\t\t\n",
      "\t\tIs there anything else you need assistance with?\n",
      "\t------------------------------------------------\n",
      "\t--- 4 messages (input to summarize_conversation with summary) ---\n",
      "\t\t[HumanMessage]: I would like to know about using langsmith with huggingface llms, the integration of huggingface\n",
      "\t\t[AIMessage]: Certainly! LangSmith and Hugging Face are both powerful tools in the domain of natural language processing (NLP), and integrating them can significantly enhance your workflow. Here’s a detailed look at how you can use LangSmith with Hugging Face models:\n",
      "\t\t\n",
      "\t\t### What is LangSmith?\n",
      "\t\tLangSmith is a platform designed to help developers and researchers build, test, and deploy natural language applications. It offers features such as:\n",
      "\t\t- **Model Management**: Manage and version control your language models.\n",
      "\t\t- **Data Labeling**: Annotate and label data for training and evaluation.\n",
      "\t\t- **Model Evaluation**: Evaluate and compare different models and versions.\n",
      "\t\t- **API Integration**: Integrate with various NLP tools and platforms.\n",
      "\t\t\n",
      "\t\t### What is Hugging Face?\n",
      "\t\tHugging Face is a leading company in the NLP domain, known for its transformers library. Hugging Face provides a wide array of pre-trained models and tools for NLP tasks, including:\n",
      "\t\t- **Pre-trained Models**: Access to a vast library of pre-trained models.\n",
      "\t\t- **Transformers Library**: A powerful library for working with transformer models.\n",
      "\t\t- **Hugging Face Hub**: A platform for sharing and accessing models, datasets, and metrics.\n",
      "\t\t\n",
      "\t\t### Integrating LangSmith with Hugging Face Models\n",
      "\t\t\n",
      "\t\t#### Step-by-Step Guide\n",
      "\t\t\n",
      "\t\t1. **Install Required Libraries**\n",
      "\t\t   Ensure you have the necessary libraries installed:\n",
      "\t\t   ```bash\n",
      "\t\t   pip install transformers datasets langsmith\n",
      "\t\t   ```\n",
      "\t\t\n",
      "\t\t2. **Load a Hugging Face Model**\n",
      "\t\t   Use the `transformers` library to load a pre-trained model:\n",
      "\t\t   ```python\n",
      "\t\t   from transformers import AutoModelForSequenceClassification, AutoTokenizer\n",
      "\t\t\n",
      "\t\t   model_name = \"distilbert-base-uncased\"\n",
      "\t\t   tokenizer = AutoTokenizer.from_pretrained(model_name)\n",
      "\t\t   model = AutoModelForSequenceClassification.from_pretrained(model_name)\n",
      "\t\t   ```\n",
      "\t\t\n",
      "\t\t3. **Integrate with LangSmith**\n",
      "\t\t   - **Initialize LangSmith Client**:\n",
      "\t\t     ```python\n",
      "\t\t     from langsmith import Client\n",
      "\t\t\n",
      "\t\t     client = Client()\n",
      "\t\t     ```\n",
      "\t\t\n",
      "\t\t   - **Create or Load a Dataset**:\n",
      "\t\t     ```python\n",
      "\t\t     from datasets import Dataset\n",
      "\t\t\n",
      "\t\t     # Example dataset\n",
      "\t\t     data = {\n",
      "\t\t         \"text\": [\"This is a positive review.\", \"This is a negative review.\"],\n",
      "\t\t         \"label\": [1, 0]\n",
      "\t\t     }\n",
      "\t\t     dataset = Dataset.from_dict(data)\n",
      "\t\t\n",
      "\t\t     # Save dataset to LangSmith\n",
      "\t\t     dataset_id = client.create_dataset(name=\"my_dataset\", data=dataset)\n",
      "\t\t     ```\n",
      "\t\t\n",
      "\t\t   - **Evaluate the Model**:\n",
      "\t\t     ```python\n",
      "\t\t     from langsmith import EvaluationResult\n",
      "\t\t\n",
      "\t\t     def evaluate_model(dataset, tokenizer, model):\n",
      "\t\t         results = []\n",
      "\t\t         for example in dataset:\n",
      "\t\t             inputs = tokenizer(example[\"text\"], return_tensors=\"pt\")\n",
      "\t\t             outputs = model(**inputs)\n",
      "\t\t             predicted_label = outputs.logits.argmax().item()\n",
      "\t\t             result = EvaluationResult(\n",
      "\t\t                 example_id=example[\"id\"],\n",
      "\t\t                 predicted_label=predicted_label,\n",
      "\t\t                 ground_truth_label=example[\"label\"]\n",
      "\t\t             )\n",
      "\t\t             results.append(result)\n",
      "\t\t         return results\n",
      "\t\t\n",
      "\t\t     evaluation_results = evaluate_model(dataset, tokenizer, model)\n",
      "\t\t     ```\n",
      "\t\t\n",
      "\t\t   - **Upload Evaluation Results to LangSmith**:\n",
      "\t\t     ```python\n",
      "\t\t     client.log_results(dataset_id, evaluation_results)\n",
      "\t\t     ```\n",
      "\t\t\n",
      "\t\t4. **Visualize and Analyze Results**\n",
      "\t\t   - Use LangSmith’s web interface to visualize the evaluation results.\n",
      "\t\t   - Compare different models and versions to identify the best performing model.\n",
      "\t\t\n",
      "\t\t### Additional Tips\n",
      "\t\t- **Model Tuning**: Use Hugging Face’s `Trainer` class to fine-tune models on your datasets and then evaluate them using LangSmith.\n",
      "\t\t- **Custom Metrics**: Define custom evaluation metrics and use them to assess model performance.\n",
      "\t\t- **Collaboration**: Share datasets and models with team members using the Hugging Face Hub and LangSmith.\n",
      "\t\t\n",
      "\t\tBy following these steps, you can effectively integrate Hugging Face models with LangSmith, leveraging the strengths of both platforms to build and evaluate robust NLP applications.\n",
      "\t\t\n",
      "\t\tIf you have any specific questions or need further assistance, feel free to ask!\n",
      "\t\t[HumanMessage]: This is a summary of the conversation to date: Sure! Here's an extended summary of the conversation:\n",
      "\t\t\n",
      "\t\t---\n",
      "\t\t\n",
      "\t\t**User:** Hello\n",
      "\t\t\n",
      "\t\t**Qwen:** Hello! How can I assist you today? Whether you need help with information, a specific task, or just want to chat, I'm here to help.\n",
      "\t\t\n",
      "\t\t**User:** I am studying about langgraph, do you know it?\n",
      "\t\t\n",
      "\t\t**Qwen:** Yes, I can help with information about LangGraph! LangGraph is a language model graph that represents the relationships and connections between different language models and their components. It can be used to visualize and understand the architecture, training processes, and performance characteristics of various language models. LangGraph can be particularly useful for researchers and developers who are working on natural language processing (NLP) tasks. It helps in:\n",
      "\t\t1. Visualizing Model Architecture\n",
      "\t\t2. Comparing Models\n",
      "\t\t3. Understanding Training Processes\n",
      "\t\t4. Identifying Bottlenecks\n",
      "\t\t\n",
      "\t\tIf you have specific questions or aspects of LangGraph you're interested in, feel free to let me know!\n",
      "\t\t\n",
      "\t\t**User:** This is a summary of the conversation to date: Sure! Here's a summary of the conversation above:\n",
      "\t\tUser: Hello\n",
      "\t\tQwen: Hello! How can I assist you today? Whether you need help with information, a specific task, or just want to chat, I'm here to help.\n",
      "\t\tUser: Create a summary of the conversation above.\n",
      "\t\tQwen: [Provided the summary you are now reading.]\n",
      "\t\t\n",
      "\t\tIs there anything else you need assistance with?\n",
      "\t\t\n",
      "\t\t**Qwen:** [Extended the summary you are now reading.]\n",
      "\t\t\n",
      "\t\t---\n",
      "\t\t\n",
      "\t\tIs there anything else you need assistance with?\n",
      "\t\t\n",
      "\t\tExtend the summary by taking into account the new messages above.\n",
      "\t------------------------------------------------\n",
      "\t--- 4 messages (output of summarize_conversation) ---\n",
      "\t\t[AIMessage]: Sure! Here's the extended summary of the conversation to date:\n",
      "\t\t\n",
      "\t\t---\n",
      "\t\t\n",
      "\t\t**User:** Hello\n",
      "\t\t\n",
      "\t\t**Qwen:** Hello! How can I assist you today? Whether you need help with information, a specific task, or just want to chat, I'm here to help.\n",
      "\t\t\n",
      "\t\t**User:** I am studying about langgraph, do you know it?\n",
      "\t\t\n",
      "\t\t**Qwen:** Yes, I can help with information about LangGraph! LangGraph is a language model graph that represents the relationships and connections between different language models and their components. It can be used to visualize and understand the architecture, training processes, and performance characteristics of various language models. LangGraph can be particularly useful for researchers and developers who are working on natural language processing (NLP) tasks. It helps in:\n",
      "\t\t1. Visualizing Model Architecture\n",
      "\t\t2. Comparing Models\n",
      "\t\t3. Understanding Training Processes\n",
      "\t\t4. Identifying Bottlenecks\n",
      "\t\t\n",
      "\t\tIf you have specific questions or aspects of LangGraph you're interested in, feel free to let me know!\n",
      "\t\t\n",
      "\t\t**User:** This is a summary of the conversation to date: Sure! Here's a summary of the conversation above:\n",
      "\t\tUser: Hello\n",
      "\t\tQwen: Hello! How can I assist you today? Whether you need help with information, a specific task, or just want to chat, I'm here to help.\n",
      "\t\tUser: Create a summary of the conversation above.\n",
      "\t\tQwen: [Provided the summary you are now reading.]\n",
      "\t\t\n",
      "\t\tIs there anything else you need assistance with?\n",
      "\t\t\n",
      "\t\t**Qwen:** [Extended the summary you are now reading.]\n",
      "\t\t\n",
      "\t\t**User:** Is there anything else you need assistance with?\n",
      "\t\t\n",
      "\t\t**Qwen:** If you have any more questions about LangGraph or any other topic, feel free to ask! I'm here to help with any information or assistance you need.\n",
      "\t\t\n",
      "\t\t---\n",
      "\t\t\n",
      "\t\tIs there anything else you need assistance with?\n",
      "\t------------------------------------------------\n",
      "\u001b[33mAssistant: \u001b[0mCertainly! LangSmith and Hugging Face are both powerful tools in the domain of natural language processing (NLP), and integrating them can significantly enhance your workflow. Here’s a detailed look at how you can use LangSmith with Hugging Face models:\n",
      "\n",
      "### What is LangSmith?\n",
      "LangSmith is a platform designed to help developers and researchers build, test, and deploy natural language applications. It offers features such as:\n",
      "- **Model Management**: Manage and version control your language models.\n",
      "- **Data Labeling**: Annotate and label data for training and evaluation.\n",
      "- **Model Evaluation**: Evaluate and compare different models and versions.\n",
      "- **API Integration**: Integrate with various NLP tools and platforms.\n",
      "\n",
      "### What is Hugging Face?\n",
      "Hugging Face is a leading company in the NLP domain, known for its transformers library. Hugging Face provides a wide array of pre-trained models and tools for NLP tasks, including:\n",
      "- **Pre-trained Models**: Access to a vast library of pre-trained models.\n",
      "- **Transformers Library**: A powerful library for working with transformer models.\n",
      "- **Hugging Face Hub**: A platform for sharing and accessing models, datasets, and metrics.\n",
      "\n",
      "### Integrating LangSmith with Hugging Face Models\n",
      "\n",
      "#### Step-by-Step Guide\n",
      "\n",
      "1. **Install Required Libraries**\n",
      "   Ensure you have the necessary libraries installed:\n",
      "   ```bash\n",
      "   pip install transformers datasets langsmith\n",
      "   ```\n",
      "\n",
      "2. **Load a Hugging Face Model**\n",
      "   Use the `transformers` library to load a pre-trained model:\n",
      "   ```python\n",
      "   from transformers import AutoModelForSequenceClassification, AutoTokenizer\n",
      "\n",
      "   model_name = \"distilbert-base-uncased\"\n",
      "   tokenizer = AutoTokenizer.from_pretrained(model_name)\n",
      "   model = AutoModelForSequenceClassification.from_pretrained(model_name)\n",
      "   ```\n",
      "\n",
      "3. **Integrate with LangSmith**\n",
      "   - **Initialize LangSmith Client**:\n",
      "     ```python\n",
      "     from langsmith import Client\n",
      "\n",
      "     client = Client()\n",
      "     ```\n",
      "\n",
      "   - **Create or Load a Dataset**:\n",
      "     ```python\n",
      "     from datasets import Dataset\n",
      "\n",
      "     # Example dataset\n",
      "     data = {\n",
      "         \"text\": [\"This is a positive review.\", \"This is a negative review.\"],\n",
      "         \"label\": [1, 0]\n",
      "     }\n",
      "     dataset = Dataset.from_dict(data)\n",
      "\n",
      "     # Save dataset to LangSmith\n",
      "     dataset_id = client.create_dataset(name=\"my_dataset\", data=dataset)\n",
      "     ```\n",
      "\n",
      "   - **Evaluate the Model**:\n",
      "     ```python\n",
      "     from langsmith import EvaluationResult\n",
      "\n",
      "     def evaluate_model(dataset, tokenizer, model):\n",
      "         results = []\n",
      "         for example in dataset:\n",
      "             inputs = tokenizer(example[\"text\"], return_tensors=\"pt\")\n",
      "             outputs = model(**inputs)\n",
      "             predicted_label = outputs.logits.argmax().item()\n",
      "             result = EvaluationResult(\n",
      "                 example_id=example[\"id\"],\n",
      "                 predicted_label=predicted_label,\n",
      "                 ground_truth_label=example[\"label\"]\n",
      "             )\n",
      "             results.append(result)\n",
      "         return results\n",
      "\n",
      "     evaluation_results = evaluate_model(dataset, tokenizer, model)\n",
      "     ```\n",
      "\n",
      "   - **Upload Evaluation Results to LangSmith**:\n",
      "     ```python\n",
      "     client.log_results(dataset_id, evaluation_results)\n",
      "     ```\n",
      "\n",
      "4. **Visualize and Analyze Results**\n",
      "   - Use LangSmith’s web interface to visualize the evaluation results.\n",
      "   - Compare different models and versions to identify the best performing model.\n",
      "\n",
      "### Additional Tips\n",
      "- **Model Tuning**: Use Hugging Face’s `Trainer` class to fine-tune models on your datasets and then evaluate them using LangSmith.\n",
      "- **Custom Metrics**: Define custom evaluation metrics and use them to assess model performance.\n",
      "- **Collaboration**: Share datasets and models with team members using the Hugging Face Hub and LangSmith.\n",
      "\n",
      "By following these steps, you can effectively integrate Hugging Face models with LangSmith, leveraging the strengths of both platforms to build and evaluate robust NLP applications.\n",
      "\n",
      "If you have any specific questions or need further assistance, feel free to ask!\n",
      "\u001b[32mUser: \u001b[0mExiting...\n",
      "\u001b[33mAssistant: \u001b[0mGoodbye!\n"
     ]
    }
   ],
   "source": [
    "USER1_THREAD_ID = \"1\"\n",
    "config_USER1 = {\"configurable\": {\"thread_id\": USER1_THREAD_ID}}\n",
    "while True:\n",
    "    user_input = input(f\"\\n\\nUser: \")\n",
    "    if user_input.lower() in [\"quit\", \"exit\", \"q\"]:\n",
    "        print(f\"{COLOR_GREEN}User: {COLOR_RESET}Exiting...\")\n",
    "        print(f\"{COLOR_YELLOW}Assistant: {COLOR_RESET}Goodbye!\")\n",
    "        break\n",
    "    \n",
    "    events = stream_graph_updates(user_input, config_USER1)"
   ]
  },
  {
   "cell_type": "markdown",
   "metadata": {},
   "source": [
    "Si nos vamos al final de la conversación podemos ver\n",
    "\n",
    "``` markdown\n",
    "\t--- 2 messages (input to trim_messages) ---\n",
    "\t\t[AIMessage]: Yes, I can help with information about LangGraph! LangGraph is a language model graph that represents the relationships and connections between different language models and their components. It can be used to visualize and understand the architecture, training processes, and performance characteristics of various language models.\n",
    "\t\t\n",
    "\t\tLangGraph can be particularly useful for researchers and developers who are working on natural language processing (NLP) tasks. It helps in:\n",
    "\t\t\n",
    "\t\t1. **Visualizing Model Architecture**: Provides a clear and detailed view of how different components of a language model are connected.\n",
    "\t\t2. **Comparing Models**: Allows for easy comparison of different language models in terms of their structure, training data, and performance metrics.\n",
    "\t\t3. **Understanding Training Processes**: Helps in understanding the training dynamics and the flow of data through the model.\n",
    "\t\t4. **Identifying Bottlenecks**: Can help in identifying potential bottlenecks or areas for improvement in the model.\n",
    "\t\t\n",
    "\t\tIf you have specific questions or aspects of LangGraph you're interested in, feel free to let me know!\n",
    "\t\t[HumanMessage]: I would like to know about using langsmith with huggingface llms, the integration of huggingface\n",
    "\t\tSummary of the conversation: Sure! Here's an extended summary of the conversation:\n",
    "\t\t\n",
    "\t\t---\n",
    "\t\t\n",
    "\t\t**User:** Hello\n",
    "\t\t\n",
    "\t\t**Qwen:** Hello! How can I assist you today? Whether you need help with information, a specific task, or just want to chat, I'm here to help.\n",
    "\t\t\n",
    "\t\t**User:** I am studying about langgraph, do you know it?\n",
    "\t\t\n",
    "\t\t**Qwen:** Yes, I can help with information about LangGraph! LangGraph is a language model graph that represents the relationships and connections between different language models and their components. It can be used to visualize and understand the architecture, training processes, and performance characteristics of various language models. LangGraph can be particularly useful for researchers and developers who are working on natural language processing (NLP) tasks. It helps in:\n",
    "\t\t1. Visualizing Model Architecture\n",
    "\t\t2. Comparing Models\n",
    "\t\t3. Understanding Training Processes\n",
    "\t\t4. Identifying Bottlenecks\n",
    "\t\t\n",
    "\t\tIf you have specific questions or aspects of LangGraph you're interested in, feel free to let me know!\n",
    "\t\t\n",
    "\t\t**User:** This is a summary of the conversation to date: Sure! Here's a summary of the conversation above:\n",
    "\t\tUser: Hello\n",
    "\t\tQwen: Hello! How can I assist you today? Whether you need help with information, a specific task, or just want to chat, I'm here to help.\n",
    "\t\tUser: Create a summary of the conversation above.\n",
    "\t\tQwen: [Provided the summary you are now reading.]\n",
    "\t\t\n",
    "\t\tIs there anything else you need assistance with?\n",
    "\t\t\n",
    "\t\t**Qwen:** [Extended the summary you are now reading.]\n",
    "\t\t\n",
    "\t\t---\n",
    "\t\t\n",
    "\t\tIs there anything else you need assistance with?\n",
    "\t------------------------------------------------\n",
    "```\n",
    "\n",
    "Vemos que en los mensajes del estado solo se conservan \n",
    "\n",
    "``` markdown\n",
    "\t\t[AIMessage]: Yes, I can help with information about LangGraph! LangGraph is a language model graph that represents the relationships and connections between different language models and their components. It can be used to visualize and understand the architecture, training processes, and performance characteristics of various language models.\n",
    "\t\t\n",
    "\t\tLangGraph can be particularly useful for researchers and developers who are working on natural language processing (NLP) tasks. It helps in:\n",
    "\t\t\n",
    "\t\t1. **Visualizing Model Architecture**: Provides a clear and detailed view of how different components of a language model are connected.\n",
    "\t\t2. **Comparing Models**: Allows for easy comparison of different language models in terms of their structure, training data, and performance metrics.\n",
    "\t\t3. **Understanding Training Processes**: Helps in understanding the training dynamics and the flow of data through the model.\n",
    "\t\t4. **Identifying Bottlenecks**: Can help in identifying potential bottlenecks or areas for improvement in the model.\n",
    "\t\t\n",
    "\t\tIf you have specific questions or aspects of LangGraph you're interested in, feel free to let me know!\n",
    "\t\t[HumanMessage]: I would like to know about using langsmith with huggingface llms, the integration of huggingface\n",
    "```\n",
    "\n",
    "Es decir, la función de filtrado solo mantiene los 2 últimos mensajes."
   ]
  },
  {
   "cell_type": "markdown",
   "metadata": {},
   "source": [
    "Pero después podemos ver\n",
    "\n",
    "```markdown\n",
    "\t--- 2 messages (output of trim_messages - after trimming) ---\n",
    "\t\t[HumanMessage]: I would like to know about using langsmith with huggingface llms, the integration of huggingface\n",
    "\t\tSummary of the conversation: Sure! Here's an extended summary of the conversation:\n",
    "\t\t\n",
    "\t\t---\n",
    "\t\t\n",
    "\t\t**User:** Hello\n",
    "\t\t\n",
    "\t\t**Qwen:** Hello! How can I assist you today? Whether you need help with information, a specific task, or just want to chat, I'm here to help.\n",
    "\t\t\n",
    "\t\t**User:** I am studying about langgraph, do you know it?\n",
    "\t\t\n",
    "\t\t**Qwen:** Yes, I can help with information about LangGraph! LangGraph is a language model graph that represents the relationships and connections between different language models and their components. It can be used to visualize and understand the architecture, training processes, and performance characteristics of various language models. LangGraph can be particularly useful for researchers and developers who are working on natural language processing (NLP) tasks. It helps in:\n",
    "\t\t1. Visualizing Model Architecture\n",
    "\t\t2. Comparing Models\n",
    "\t\t3. Understanding Training Processes\n",
    "\t\t4. Identifying Bottlenecks\n",
    "\t\t\n",
    "\t\tIf you have specific questions or aspects of LangGraph you're interested in, feel free to let me know!\n",
    "\t\t\n",
    "\t\t**User:** This is a summary of the conversation to date: Sure! Here's a summary of the conversation above:\n",
    "\t\tUser: Hello\n",
    "\t\tQwen: Hello! How can I assist you today? Whether you need help with information, a specific task, or just want to chat, I'm here to help.\n",
    "\t\tUser: Create a summary of the conversation above.\n",
    "\t\tQwen: [Provided the summary you are now reading.]\n",
    "\t\t\n",
    "\t\tIs there anything else you need assistance with?\n",
    "\t\t\n",
    "\t\t**Qwen:** [Extended the summary you are now reading.]\n",
    "\t\t\n",
    "\t\t---\n",
    "\t\t\n",
    "\t\tIs there anything else you need assistance with?\n",
    "\t------------------------------------------------\n",
    "```\n",
    "\n",
    "Es decir, la función de trimado elimina el mensaje del asistente porque supera los 100 tokens."
   ]
  },
  {
   "cell_type": "markdown",
   "metadata": {},
   "source": [
    "Aún eliminando mensajes, por lo que no los tiene como contexto el LLM, podemos tener una conversación gracias al resumen de la conversación que vamos generando."
   ]
  },
  {
   "cell_type": "markdown",
   "metadata": {},
   "source": [
    "#### Guardar estado en SQlite"
   ]
  },
  {
   "cell_type": "markdown",
   "metadata": {},
   "source": [
    "Hemos visto cómo guardar el estado del grafo en memoria, pero en cuanto terminamos el proceso, esa memoria se pierde, por lo que vamos a ver cómo guardarla en SQlite"
   ]
  },
  {
   "cell_type": "markdown",
   "metadata": {},
   "source": [
    "Primero necesitamos instalar el paquete de `sqlite` para LangGraph.\n",
    "\n",
    "```bash\n",
    "pip install langgraph-checkpoint-sqlite\n",
    "```"
   ]
  },
  {
   "cell_type": "markdown",
   "metadata": {},
   "source": [
    "Importamos las librerías de `sqlite` y `langgraph-checkpoint-sqlite`. Antes, cuando guardábamos el estado en memoria usábamos `memory_saver`, ahora usaremos `SqliteSaver` para guardar el estado en una base de datos SQlite."
   ]
  },
  {
   "cell_type": "code",
   "execution_count": 1,
   "metadata": {},
   "outputs": [],
   "source": [
    "import sqlite3\n",
    "from langgraph.checkpoint.sqlite import SqliteSaver\n",
    "import os\n",
    "\n",
    "# Create the directory if it doesn't exist\n",
    "os.makedirs(\"state_db\", exist_ok=True)\n",
    "\n",
    "db_path = \"state_db/langgraph_sqlite.db\"\n",
    "conn = sqlite3.connect(db_path, check_same_thread=False)\n",
    "memory = SqliteSaver(conn)"
   ]
  },
  {
   "cell_type": "markdown",
   "metadata": {},
   "source": [
    "Vamos a crear un chatbot básico para no añadir complejidad a parte de la funcionalidad que queremos probar."
   ]
  },
  {
   "cell_type": "code",
   "execution_count": 2,
   "metadata": {},
   "outputs": [
    {
     "data": {
      "image/png": "[encoded data removed]",
      "text/plain": [
       "<IPython.core.display.Image object>"
      ]
     },
     "metadata": {},
     "output_type": "display_data"
    }
   ],
   "source": [
    "from typing import Annotated\n",
    "from typing_extensions import TypedDict\n",
    "from langgraph.graph import StateGraph, START, END\n",
    "from langgraph.graph.message import add_messages\n",
    "from langchain_huggingface import HuggingFaceEndpoint, ChatHuggingFace\n",
    "from langchain_core.messages import HumanMessage, AIMessage\n",
    "from huggingface_hub import login\n",
    "from IPython.display import Image, display\n",
    "import os\n",
    "import dotenv\n",
    "\n",
    "dotenv.load_dotenv()\n",
    "HUGGINGFACE_TOKEN = os.getenv(\"HUGGINGFACE_LANGGRAPH\")\n",
    "\n",
    "class State(TypedDict):\n",
    "    messages: Annotated[list, add_messages]\n",
    "\n",
    "os.environ[\"LANGCHAIN_TRACING_V2\"] = \"false\"    # Disable LangSmith tracing\n",
    "\n",
    "# Create the LLM model\n",
    "login(token=HUGGINGFACE_TOKEN)  # Login to HuggingFace to use the model\n",
    "MODEL = \"Qwen/Qwen2.5-72B-Instruct\"\n",
    "model = HuggingFaceEndpoint(\n",
    "    repo_id=MODEL,\n",
    "    task=\"text-generation\",\n",
    "    max_new_tokens=512,\n",
    "    do_sample=False,\n",
    "    repetition_penalty=1.03,\n",
    ")\n",
    "# Create the chat model\n",
    "llm = ChatHuggingFace(llm=model)\n",
    "\n",
    "# Nodes\n",
    "def chat_model_node(state: State):\n",
    "    # Return the LLM's response in the correct state format\n",
    "    return {\"messages\": [llm.invoke(state[\"messages\"])]}\n",
    "\n",
    "# Create graph builder\n",
    "graph_builder = StateGraph(State)\n",
    "\n",
    "# Add nodes\n",
    "graph_builder.add_node(\"chatbot_node\", chat_model_node)\n",
    "\n",
    "# Connecto nodes\n",
    "graph_builder.add_edge(START, \"chatbot_node\")\n",
    "graph_builder.add_edge(\"chatbot_node\", END)\n",
    "\n",
    "# Compile the graph\n",
    "graph = graph_builder.compile(checkpointer=memory)\n",
    "\n",
    "display(Image(graph.get_graph().draw_mermaid_png()))"
   ]
  },
  {
   "cell_type": "markdown",
   "metadata": {},
   "source": [
    "Definimos la función para imprimir los mensajes del grafo."
   ]
  },
  {
   "cell_type": "code",
   "execution_count": 3,
   "metadata": {},
   "outputs": [],
   "source": [
    "# Colors for the terminal\n",
    "COLOR_GREEN = \"\\033[32m\"\n",
    "COLOR_YELLOW = \"\\033[33m\"\n",
    "COLOR_RESET = \"\\033[0m\"\n",
    "\n",
    "\n",
    "def stream_graph_updates(user_input: str, config: dict):\n",
    "    # Initialize a flag to track if an assistant response has been printed\n",
    "    assistant_response_printed = False\n",
    "\n",
    "    # Print the user's input immediately\n",
    "    print(f\"\\n\\n{COLOR_GREEN}User: {COLOR_RESET}{user_input}\")\n",
    "    \n",
    "    # Create the user's message with the HumanMessage class\n",
    "    user_message = HumanMessage(content=user_input)\n",
    "    \n",
    "    # Stream events from the graph execution\n",
    "    for event in graph.stream({\"messages\": [user_message]}, config, stream_mode=\"values\"):\n",
    "        # event is a dictionary mapping node names to their output\n",
    "        # Example: {'chatbot_node': {'messages': [...]}} or {'summarize_conversation_node': {'summary': '...'}}\n",
    "\n",
    "        # Iterate through node name and its output\n",
    "        for node_name, value in event.items():\n",
    "            # Check if this event is from the chatbot node which should contain the assistant's reply\n",
    "            if node_name == 'messages':\n",
    "                # Ensure the output format is as expected (list of messages)\n",
    "                if isinstance(value, list):\n",
    "                    # Get the messages from the event\n",
    "                    messages = value\n",
    "                    # Ensure 'messages' is a non-empty list\n",
    "                    if isinstance(messages, list) and messages:\n",
    "                        # Get the last message (presumably the assistant's reply)\n",
    "                        last_message = messages[-1]\n",
    "                        # Ensure the message is an instance of AIMessage\n",
    "                        if isinstance(last_message, AIMessage):\n",
    "                            # Ensure the message has content to display\n",
    "                            if hasattr(last_message, 'content'):\n",
    "                                # Print the assistant's message content\n",
    "                                print(f\"{COLOR_YELLOW}Assistant: {COLOR_RESET}{last_message.content}\")\n",
    "                                assistant_response_printed = True # Mark that we've printed the response\n",
    "    \n",
    "    # Fallback if no assistant response was printed (e.g., graph error before chatbot_node)\n",
    "    if not assistant_response_printed:\n",
    "        print(f\"{COLOR_YELLOW}Assistant: {COLOR_RESET}[No response generated or error occurred]\")"
   ]
  },
  {
   "cell_type": "markdown",
   "metadata": {},
   "source": [
    "Ejecutamos el grafo"
   ]
  },
  {
   "cell_type": "code",
   "execution_count": 4,
   "metadata": {},
   "outputs": [
    {
     "name": "stdout",
     "output_type": "stream",
     "text": [
      "\n",
      "\n",
      "\u001b[32mUser: \u001b[0mHello, my name is Máximo\n",
      "\u001b[33mAssistant: \u001b[0mHello Máximo! It's a pleasure to meet you. How can I assist you today?\n",
      "\u001b[32mUser: \u001b[0mExiting...\n",
      "\u001b[33mAssistant: \u001b[0mGoodbye!\n"
     ]
    }
   ],
   "source": [
    "USER1_THREAD_ID = \"USER1\"\n",
    "config_USER1 = {\"configurable\": {\"thread_id\": USER1_THREAD_ID}}\n",
    "while True:\n",
    "    user_input = input(f\"\\n\\nUser: \")\n",
    "    if user_input.lower() in [\"quit\", \"exit\", \"q\"]:\n",
    "        print(f\"{COLOR_GREEN}User: {COLOR_RESET}Exiting...\")\n",
    "        print(f\"{COLOR_YELLOW}Assistant: {COLOR_RESET}Goodbye!\")\n",
    "        break\n",
    "    \n",
    "    events = stream_graph_updates(user_input, config_USER1)"
   ]
  },
  {
   "cell_type": "markdown",
   "metadata": {},
   "source": [
    "Como se puede ver solo le he dicho cómo me llamo"
   ]
  },
  {
   "cell_type": "markdown",
   "metadata": {},
   "source": [
    "Ahora reiniciamos el notebook para que se eliminen todos los datos guardados en RAM del notebook y volvemos a ejecutar el código anterior."
   ]
  },
  {
   "cell_type": "markdown",
   "metadata": {},
   "source": [
    "Volvemos a crear la memoria de `sqlite` con `SqliteSaver`"
   ]
  },
  {
   "cell_type": "code",
   "execution_count": 1,
   "metadata": {},
   "outputs": [],
   "source": [
    "import sqlite3\n",
    "from langgraph.checkpoint.sqlite import SqliteSaver\n",
    "import os\n",
    "\n",
    "# Create the directory if it doesn't exist\n",
    "os.makedirs(\"state_db\", exist_ok=True)\n",
    "\n",
    "db_path = \"state_db/langgraph_sqlite.db\"\n",
    "conn = sqlite3.connect(db_path, check_same_thread=False)\n",
    "memory = SqliteSaver(conn)"
   ]
  },
  {
   "cell_type": "markdown",
   "metadata": {},
   "source": [
    "Volvemos a crear el grafo"
   ]
  },
  {
   "cell_type": "code",
   "execution_count": 2,
   "metadata": {},
   "outputs": [
    {
     "data": {
      "image/png": "[encoded data removed]",
      "text/plain": [
       "<IPython.core.display.Image object>"
      ]
     },
     "metadata": {},
     "output_type": "display_data"
    }
   ],
   "source": [
    "from typing import Annotated\n",
    "from typing_extensions import TypedDict\n",
    "from langgraph.graph import StateGraph, START, END\n",
    "from langgraph.graph.message import add_messages\n",
    "from langchain_huggingface import HuggingFaceEndpoint, ChatHuggingFace\n",
    "from langchain_core.messages import HumanMessage, AIMessage\n",
    "from huggingface_hub import login\n",
    "from IPython.display import Image, display\n",
    "import os\n",
    "import dotenv\n",
    "\n",
    "dotenv.load_dotenv()\n",
    "HUGGINGFACE_TOKEN = os.getenv(\"HUGGINGFACE_LANGGRAPH\")\n",
    "\n",
    "class State(TypedDict):\n",
    "    messages: Annotated[list, add_messages]\n",
    "\n",
    "os.environ[\"LANGCHAIN_TRACING_V2\"] = \"false\"    # Disable LangSmith tracing\n",
    "\n",
    "# Create the LLM model\n",
    "login(token=HUGGINGFACE_TOKEN)  # Login to HuggingFace to use the model\n",
    "MODEL = \"Qwen/Qwen2.5-72B-Instruct\"\n",
    "model = HuggingFaceEndpoint(\n",
    "    repo_id=MODEL,\n",
    "    task=\"text-generation\",\n",
    "    max_new_tokens=512,\n",
    "    do_sample=False,\n",
    "    repetition_penalty=1.03,\n",
    ")\n",
    "# Create the chat model\n",
    "llm = ChatHuggingFace(llm=model)\n",
    "\n",
    "# Nodes\n",
    "def chat_model_node(state: State):\n",
    "    # Return the LLM's response in the correct state format\n",
    "    return {\"messages\": [llm.invoke(state[\"messages\"])]}\n",
    "\n",
    "# Create graph builder\n",
    "graph_builder = StateGraph(State)\n",
    "\n",
    "# Add nodes\n",
    "graph_builder.add_node(\"chatbot_node\", chat_model_node)\n",
    "\n",
    "# Connecto nodes\n",
    "graph_builder.add_edge(START, \"chatbot_node\")\n",
    "graph_builder.add_edge(\"chatbot_node\", END)\n",
    "\n",
    "# Compile the graph\n",
    "graph = graph_builder.compile(checkpointer=memory)\n",
    "\n",
    "display(Image(graph.get_graph().draw_mermaid_png()))"
   ]
  },
  {
   "cell_type": "markdown",
   "metadata": {},
   "source": [
    "Volvemos a definir la función para imprimir los mensajes del grafo."
   ]
  },
  {
   "cell_type": "code",
   "execution_count": 3,
   "metadata": {},
   "outputs": [],
   "source": [
    "# Colors for the terminal\n",
    "COLOR_GREEN = \"\\033[32m\"\n",
    "COLOR_YELLOW = \"\\033[33m\"\n",
    "COLOR_RESET = \"\\033[0m\"\n",
    "\n",
    "\n",
    "def stream_graph_updates(user_input: str, config: dict):\n",
    "    # Initialize a flag to track if an assistant response has been printed\n",
    "    assistant_response_printed = False\n",
    "\n",
    "    # Print the user's input immediately\n",
    "    print(f\"\\n\\n{COLOR_GREEN}User: {COLOR_RESET}{user_input}\")\n",
    "    \n",
    "    # Create the user's message with the HumanMessage class\n",
    "    user_message = HumanMessage(content=user_input)\n",
    "    \n",
    "    # Stream events from the graph execution\n",
    "    for event in graph.stream({\"messages\": [user_message]}, config, stream_mode=\"values\"):\n",
    "        # event is a dictionary mapping node names to their output\n",
    "        # Example: {'chatbot_node': {'messages': [...]}} or {'summarize_conversation_node': {'summary': '...'}}\n",
    "\n",
    "        # Iterate through node name and its output\n",
    "        for node_name, value in event.items():\n",
    "            # Check if this event is from the chatbot node which should contain the assistant's reply\n",
    "            if node_name == 'messages':\n",
    "                # Ensure the output format is as expected (list of messages)\n",
    "                if isinstance(value, list):\n",
    "                    # Get the messages from the event\n",
    "                    messages = value\n",
    "                    # Ensure 'messages' is a non-empty list\n",
    "                    if isinstance(messages, list) and messages:\n",
    "                        # Get the last message (presumably the assistant's reply)\n",
    "                        last_message = messages[-1]\n",
    "                        # Ensure the message is an instance of AIMessage\n",
    "                        if isinstance(last_message, AIMessage):\n",
    "                            # Ensure the message has content to display\n",
    "                            if hasattr(last_message, 'content'):\n",
    "                                # Print the assistant's message content\n",
    "                                print(f\"{COLOR_YELLOW}Assistant: {COLOR_RESET}{last_message.content}\")\n",
    "                                assistant_response_printed = True # Mark that we've printed the response\n",
    "    \n",
    "    # Fallback if no assistant response was printed (e.g., graph error before chatbot_node)\n",
    "    if not assistant_response_printed:\n",
    "        print(f\"{COLOR_YELLOW}Assistant: {COLOR_RESET}[No response generated or error occurred]\")"
   ]
  },
  {
   "cell_type": "markdown",
   "metadata": {},
   "source": [
    "Y lo volvemos a ejecutar"
   ]
  },
  {
   "cell_type": "code",
   "execution_count": 5,
   "metadata": {},
   "outputs": [
    {
     "name": "stdout",
     "output_type": "stream",
     "text": [
      "\n",
      "\n",
      "\u001b[32mUser: \u001b[0mWhat's my name?\n",
      "\u001b[33mAssistant: \u001b[0mYour name is Máximo. It's nice to know and use your name as we chat. How can I assist you today, Máximo?\n",
      "\u001b[32mUser: \u001b[0mExiting...\n",
      "\u001b[33mAssistant: \u001b[0mGoodbye!\n"
     ]
    }
   ],
   "source": [
    "USER1_THREAD_ID = \"USER1\"\n",
    "config_USER1 = {\"configurable\": {\"thread_id\": USER1_THREAD_ID}}\n",
    "while True:\n",
    "    user_input = input(f\"\\n\\nUser: \")\n",
    "    if user_input.lower() in [\"quit\", \"exit\", \"q\"]:\n",
    "        print(f\"{COLOR_GREEN}User: {COLOR_RESET}Exiting...\")\n",
    "        print(f\"{COLOR_YELLOW}Assistant: {COLOR_RESET}Goodbye!\")\n",
    "        break\n",
    "    \n",
    "    events = stream_graph_updates(user_input, config_USER1)"
   ]
  },
  {
   "cell_type": "markdown",
   "metadata": {},
   "source": [
    "Como se puede ver, hemos podido recuperar el estado del grafo de la base de datos SQlite."
   ]
  },
  {
   "cell_type": "markdown",
   "metadata": {},
   "source": [
    "## Human in the loop"
   ]
  },
  {
   "cell_type": "markdown",
   "metadata": {},
   "source": [
    "Aunque un agente puede realizar tareas, para según que tareas, es necesario que haya una supervisión humana. A esto se le llama `human in the loop`. Así que vamos a ver cómo se puede hacer esto con `LangGraph`."
   ]
  },
  {
   "cell_type": "markdown",
   "metadata": {},
   "source": [
    "La capa de [persistencia](https://langchain-ai.github.io/langgraph/concepts/persistence/) de `LangGraph` admite flujos de trabajo con humanos en el bucle, lo que permite que la ejecución se detenga y reanude en función de los comentarios de los usuarios. La interfaz principal de esta funcionalidad es la función [interrupt](https://langchain-ai.github.io/langgraph/concepts/human_in_the_loop/#interrupt). Llamando a `interrupt` dentro de un nodo se detendrá la ejecución. La ejecución se puede reanudar, junto con la nueva aportación del humano, pasada en una primitiva [Command](https://langchain-ai.github.io/langgraph/concepts/human_in_the_loop/#the-command-primitive). `interrupt` es similar al comando de Python `input()`, pero con algunas consideraciones extra."
   ]
  },
  {
   "cell_type": "markdown",
   "metadata": {},
   "source": [
    "Vamos a repetir el código anterior, pero haremos un cambio, que es agregar una simple herramienta `human_assistance`. Esta herramienta utiliza `interrupt` para recibir información de un humano."
   ]
  },
  {
   "cell_type": "markdown",
   "metadata": {},
   "source": [
    "Primero cargamos los valores de las API KEYs"
   ]
  },
  {
   "cell_type": "code",
   "execution_count": 1,
   "metadata": {},
   "outputs": [],
   "source": [
    "import os\n",
    "import dotenv\n",
    "\n",
    "dotenv.load_dotenv()\n",
    "\n",
    "HUGGINGFACE_TOKEN = os.getenv(\"HUGGINGFACE_LANGGRAPH\")\n",
    "TAVILY_API_KEY = os.getenv(\"TAVILY_LANGGRAPH_API_KEY\")"
   ]
  },
  {
   "cell_type": "markdown",
   "metadata": {},
   "source": [
    "Creamos el grafo"
   ]
  },
  {
   "cell_type": "code",
   "execution_count": 2,
   "metadata": {},
   "outputs": [],
   "source": [
    "from typing import Annotated\n",
    "\n",
    "from typing_extensions import TypedDict\n",
    "\n",
    "from langgraph.graph import StateGraph, START, END\n",
    "from langgraph.graph.message import add_messages\n",
    "\n",
    "\n",
    "class State(TypedDict):\n",
    "    messages: Annotated[list, add_messages]\n",
    "\n",
    "graph_builder = StateGraph(State)"
   ]
  },
  {
   "cell_type": "markdown",
   "metadata": {},
   "source": [
    "Definimos la `tool` de búsqueda"
   ]
  },
  {
   "cell_type": "code",
   "execution_count": 3,
   "metadata": {},
   "outputs": [],
   "source": [
    "from langchain_community.utilities.tavily_search import TavilySearchAPIWrapper\n",
    "from langchain_community.tools.tavily_search import TavilySearchResults\n",
    "\n",
    "wrapper = TavilySearchAPIWrapper(tavily_api_key=TAVILY_API_KEY)\n",
    "search_tool = TavilySearchResults(api_wrapper=wrapper, max_results=2)"
   ]
  },
  {
   "cell_type": "markdown",
   "metadata": {},
   "source": [
    "Ahora creamos la `tool` de ayuda humana"
   ]
  },
  {
   "cell_type": "code",
   "execution_count": 4,
   "metadata": {},
   "outputs": [],
   "source": [
    "from langgraph.types import Command, interrupt\n",
    "from langchain_core.tools import tool\n",
    "\n",
    "@tool\n",
    "def human_assistance(query: str) -> str:\n",
    "    \"\"\"\n",
    "    Request assistance from a human expert. Use this tool ONLY ONCE per conversation.\n",
    "    After receiving the expert's response, you should provide an elaborated response to the user based on the information received\n",
    "    based on the information received, without calling this tool again.\n",
    "\n",
    "    Args:\n",
    "        query: The query to ask the human expert.\n",
    "\n",
    "    Returns:\n",
    "        The response from the human expert.\n",
    "    \"\"\"\n",
    "    human_response = interrupt({\"query\": query})\n",
    "    return human_response[\"data\"]"
   ]
  },
  {
   "cell_type": "markdown",
   "metadata": {},
   "source": [
    "`LangGraph` obtiene información de las herramientas mediante la documentación de la herramienta, es decir, el docstring de la función. Por lo que es muy importante generar un buen docstring para la herramienta."
   ]
  },
  {
   "cell_type": "markdown",
   "metadata": {},
   "source": [
    "Creamos una lista de `tools`"
   ]
  },
  {
   "cell_type": "code",
   "execution_count": 5,
   "metadata": {},
   "outputs": [],
   "source": [
    "tools_list = [search_tool, human_assistance]"
   ]
  },
  {
   "cell_type": "markdown",
   "metadata": {},
   "source": [
    "A continuación el `LLM` con las `bind_tools` y lo añadimos al grafo"
   ]
  },
  {
   "cell_type": "code",
   "execution_count": 6,
   "metadata": {},
   "outputs": [
    {
     "data": {
      "text/plain": [
       "<langgraph.graph.state.StateGraph at 0x10764b380>"
      ]
     },
     "execution_count": 6,
     "metadata": {},
     "output_type": "execute_result"
    }
   ],
   "source": [
    "from langchain_huggingface import HuggingFaceEndpoint, ChatHuggingFace\n",
    "from huggingface_hub import login\n",
    "os.environ[\"LANGCHAIN_TRACING_V2\"] = \"false\"    # Disable LangSmith tracing\n",
    "\n",
    "# Create the LLM\n",
    "login(token=HUGGINGFACE_TOKEN)\n",
    "MODEL = \"Qwen/Qwen2.5-72B-Instruct\"\n",
    "model = HuggingFaceEndpoint(\n",
    "    repo_id=MODEL,\n",
    "    task=\"text-generation\",\n",
    "    max_new_tokens=512,\n",
    "    do_sample=False,\n",
    "    repetition_penalty=1.03,\n",
    ")\n",
    "# Create the chat model\n",
    "llm = ChatHuggingFace(llm=model)\n",
    "\n",
    "# Modification: tell the LLM which tools it can call\n",
    "llm_with_tools = llm.bind_tools(tools_list)\n",
    "\n",
    "# Define the chatbot function\n",
    "def chatbot_function(state: State):\n",
    "    message = llm_with_tools.invoke(state[\"messages\"])\n",
    "    assert len(message.tool_calls) <= 1\n",
    "    return {\"messages\": [message]}\n",
    "\n",
    "# Add the chatbot node\n",
    "graph_builder.add_node(\"chatbot_node\", chatbot_function)"
   ]
  },
  {
   "cell_type": "markdown",
   "metadata": {},
   "source": [
    "Si te fijas, hemos cambiado la forma de definir la función `chatbot_function`, ya que ahora tiene que manejar la interrupción."
   ]
  },
  {
   "cell_type": "markdown",
   "metadata": {},
   "source": [
    "Añadimos la `tool_node` al grafo"
   ]
  },
  {
   "cell_type": "code",
   "execution_count": 7,
   "metadata": {},
   "outputs": [
    {
     "data": {
      "text/plain": [
       "<langgraph.graph.state.StateGraph at 0x10764b380>"
      ]
     },
     "execution_count": 7,
     "metadata": {},
     "output_type": "execute_result"
    }
   ],
   "source": [
    "from langgraph.prebuilt import ToolNode, tools_condition\n",
    "\n",
    "tool_node = ToolNode(tools=tools_list)\n",
    "graph_builder.add_node(\"tools\", tool_node)\n",
    "graph_builder.add_conditional_edges(\"chatbot_node\", tools_condition)\n",
    "graph_builder.add_edge(\"tools\", \"chatbot_node\")"
   ]
  },
  {
   "cell_type": "markdown",
   "metadata": {},
   "source": [
    "Añadimos el nodo de `START` al grafo"
   ]
  },
  {
   "cell_type": "code",
   "execution_count": 8,
   "metadata": {},
   "outputs": [
    {
     "data": {
      "text/plain": [
       "<langgraph.graph.state.StateGraph at 0x10764b380>"
      ]
     },
     "execution_count": 8,
     "metadata": {},
     "output_type": "execute_result"
    }
   ],
   "source": [
    "graph_builder.add_edge(START, \"chatbot_node\")"
   ]
  },
  {
   "cell_type": "markdown",
   "metadata": {},
   "source": [
    "Creamos un `checkpointer` [MemorySaver](https://langchain-ai.github.io/langgraph/reference/checkpoints/#langgraph.checkpoint.memory.MemorySaver)."
   ]
  },
  {
   "cell_type": "code",
   "execution_count": 9,
   "metadata": {},
   "outputs": [],
   "source": [
    "from langgraph.checkpoint.memory import MemorySaver\n",
    "\n",
    "memory = MemorySaver()"
   ]
  },
  {
   "cell_type": "markdown",
   "metadata": {},
   "source": [
    "Compilamos el grafo con el `checkpointer`"
   ]
  },
  {
   "cell_type": "code",
   "execution_count": 10,
   "metadata": {},
   "outputs": [],
   "source": [
    "graph = graph_builder.compile(checkpointer=memory)"
   ]
  },
  {
   "cell_type": "markdown",
   "metadata": {},
   "source": [
    "Lo representamos gráficamente"
   ]
  },
  {
   "cell_type": "code",
   "execution_count": 11,
   "metadata": {},
   "outputs": [
    {
     "data": {
      "image/png": "[encoded data removed]",
      "text/plain": [
       "<IPython.core.display.Image object>"
      ]
     },
     "metadata": {},
     "output_type": "display_data"
    }
   ],
   "source": [
    "from IPython.display import Image, display\n",
    "\n",
    "try:\n",
    "    display(Image(graph.get_graph().draw_mermaid_png()))\n",
    "except Exception as e:\n",
    "    print(f\"Error al visualizar el grafo: {e}\")"
   ]
  },
  {
   "cell_type": "markdown",
   "metadata": {},
   "source": [
    "Ahora solicitemos el chatbot con una pregunta que involucrará a la nueva herramienta `human_assistance`:"
   ]
  },
  {
   "cell_type": "code",
   "execution_count": 12,
   "metadata": {},
   "outputs": [
    {
     "name": "stdout",
     "output_type": "stream",
     "text": [
      "================================\u001b[1m Human Message \u001b[0m=================================\n",
      "\n",
      "I need some expert guidance for building an AI agent. Could you request assistance for me?\n",
      "==================================\u001b[1m Ai Message \u001b[0m==================================\n",
      "Tool Calls:\n",
      "  human_assistance (0)\n",
      " Call ID: 0\n",
      "  Args:\n",
      "    query: I need some expert guidance for building an AI agent. Could you provide me with some advice?\n"
     ]
    }
   ],
   "source": [
    "user_input = \"I need some expert guidance for building an AI agent. Could you request assistance for me?\"\n",
    "config = {\"configurable\": {\"thread_id\": \"1\"}}\n",
    "\n",
    "events = graph.stream(\n",
    "    {\"messages\": [{\"role\": \"user\", \"content\": user_input}]},\n",
    "    config,\n",
    "    stream_mode=\"values\",\n",
    ")\n",
    "for event in events:\n",
    "    if \"messages\" in event:\n",
    "        event[\"messages\"][-1].pretty_print()"
   ]
  },
  {
   "cell_type": "markdown",
   "metadata": {},
   "source": [
    "Como se puede ver, el chatbot generó una llamada de herramienta de asistencia humana.\n",
    "\n",
    "``` markdown\n",
    "Tool Calls:\n",
    "  human_assistance (0)\n",
    " Call ID: 0\n",
    "  Args:\n",
    "    query: I need some expert guidance for building an AI agent. Could you provide advice on key considerations, best practices, and potential pitfalls to avoid?\n",
    "```\n",
    "\n",
    "pero luego la ejecución se ha interrumpido. Vamos a ver el estado del grafo"
   ]
  },
  {
   "cell_type": "code",
   "execution_count": 13,
   "metadata": {},
   "outputs": [
    {
     "data": {
      "text/plain": [
       "('tools',)"
      ]
     },
     "execution_count": 13,
     "metadata": {},
     "output_type": "execute_result"
    }
   ],
   "source": [
    "snapshot = graph.get_state(config)\n",
    "snapshot.next"
   ]
  },
  {
   "cell_type": "markdown",
   "metadata": {},
   "source": [
    "Vemos que se detuvo en el nodo de `tools`. Analizamos cómo se ha definido la herramienta `human_assistance`.\n",
    "\n",
    "``` python\n",
    "from langgraph.types import Command, interrupt\n",
    "from langchain_core.tools import tool\n",
    "\n",
    "@tool\n",
    "def human_assistance(query: str) -> str:\n",
    "    \"\"\"\n",
    "    Request assistance from a human expert. Use this tool ONLY ONCE per conversation.\n",
    "    After receiving the expert's response, you should provide an elaborated response to the user based on the information received\n",
    "    based on the information received, without calling this tool again.\n",
    "\n",
    "    Args:\n",
    "        query: The query to ask the human expert.\n",
    "\n",
    "    Returns:\n",
    "        The response from the human expert.\n",
    "    \"\"\"\n",
    "    human_response = interrupt({\"query\": query})\n",
    "    return human_response[\"data\"]\n",
    "```"
   ]
  },
  {
   "cell_type": "markdown",
   "metadata": {},
   "source": [
    "Llamando a la herramienta `interrupt` se detendrá la ejecución, similar al la función de Python `input()`.\n",
    "\n",
    "El progreso se mantiene en función de nuestra elección de [checkpointer](https://langchain-ai.github.io/langgraph/concepts/persistence/#checkpointer-libraries). Es decir, la elección de dónde se guarda el estado del grafo. Así que si estamos persistiendo (guardando el estado del grafo) con una base de datos como `SQlite`, `Postgres`, etc, podemos reanudar la ejecución en cualquier momento siempre y cuando la base de datos esté viva.\n",
    "\n",
    "Aquí estamos persistiendo (guardando el estado del grafo) con el puntero de verificación en memoria, por lo que podemos reanudar en cualquier momento mientras nuestro kernel de Python se esté ejecutando. En mi caso, mientras no resetee el kernel de mi Jupyter Notebook.\n",
    "\n",
    "Para reanudar la ejecución, pasamos un objeto [Command](https://langchain-ai.github.io/langgraph/concepts/human_in_the_loop/#the-command-primitive) que contiene los datos esperados por la herramienta. El formato de estos datos se puede personalizar en función de nuestras necesidades. Aquí, solo necesitamos un diccionario con una key `data`"
   ]
  },
  {
   "cell_type": "code",
   "execution_count": 14,
   "metadata": {},
   "outputs": [
    {
     "name": "stdout",
     "output_type": "stream",
     "text": [
      "==================================\u001b[1m Ai Message \u001b[0m==================================\n",
      "Tool Calls:\n",
      "  human_assistance (0)\n",
      " Call ID: 0\n",
      "  Args:\n",
      "    query: I need some expert guidance for building an AI agent. Could you provide me with some advice?\n",
      "=================================\u001b[1m Tool Message \u001b[0m=================================\n",
      "Name: human_assistance\n",
      "\n",
      "We, the experts are here to help! We'd recommend you check out LangGraph to build your agent.It's much more reliable and extensible than simple autonomous agents.\n",
      "==================================\u001b[1m Ai Message \u001b[0m==================================\n",
      "\n",
      "The experts recommend checking out LangGraph for building your AI agent. It's known for being more reliable and extensible compared to simple autonomous agents.\n"
     ]
    }
   ],
   "source": [
    "human_response = (\n",
    "    \"We, the experts are here to help! We'd recommend you check out LangGraph to build your agent.\"\n",
    "    \"It's much more reliable and extensible than simple autonomous agents.\"\n",
    ")\n",
    "\n",
    "human_command = Command(resume={\"data\": human_response})\n",
    "\n",
    "events = graph.stream(human_command, config, stream_mode=\"values\")\n",
    "for event in events:\n",
    "    if \"messages\" in event:\n",
    "        event[\"messages\"][-1].pretty_print()"
   ]
  },
  {
   "cell_type": "markdown",
   "metadata": {},
   "source": [
    "Como vemos, el chatbot ha esperado a que un humano le proporcione la respuesta y luego ha generado una respuesta basada en la información recibida. Le hemos pedido por la ayuda sobre un experto sobre cómo crear agentes, el humano le ha dicho que lo mejor es usar LangGraph, y el chatbot ha generado una respuesta basada en esa información."
   ]
  },
  {
   "cell_type": "markdown",
   "metadata": {},
   "source": [
    "Pero sigue teniendo la posibilidad de realizar búsquedas en la web. Así que ahora le vamos a pedir las últimas noticias sobre LangGraph."
   ]
  },
  {
   "cell_type": "code",
   "execution_count": 15,
   "metadata": {},
   "outputs": [
    {
     "name": "stdout",
     "output_type": "stream",
     "text": [
      "================================\u001b[1m Human Message \u001b[0m=================================\n",
      "\n",
      "What's the latest news about LangGraph?\n",
      "==================================\u001b[1m Ai Message \u001b[0m==================================\n",
      "Tool Calls:\n",
      "  tavily_search_results_json (0)\n",
      " Call ID: 0\n",
      "  Args:\n",
      "    query: latest news LangGraph\n",
      "=================================\u001b[1m Tool Message \u001b[0m=================================\n",
      "Name: tavily_search_results_json\n",
      "\n",
      "[{\"title\": \"LangChain - Changelog\", \"url\": \"https://changelog.langchain.com/\", \"content\": \"LangGraph `interrupt`: Simplifying human-in-the-loop agents --------------------------------------------------- Our latest feature in LangGraph, interrupt , makes building human-in-the-loop workflows easier. Agents aren’t perfect, so keeping humans “in the loop”... December 16, 2024 [...] LangGraph 🔁 Modify graph state from tools in LangGraph --------------------------------------------- LangGraph's latest update gives you greater control over your agents by enabling tools to directly update the graph state. This is a game-changer for use... December 18, 2024 [...] LangGraph Platform Custom authentication & access control for LangGraph Platform ------------------------------------------------------------- Today, we're thrilled to announce Custom Authentication and Resource-Level Access Control for Python deployments in LangGraph Cloud and self-hosted... December 20, 2024\", \"score\": 0.78650844}, {\"title\": \"LangGraph 0.3 Release: Prebuilt Agents - LangChain Blog\", \"url\": \"https://blog.langchain.dev/langgraph-0-3-release-prebuilt-agents/\", \"content\": \"LangGraph 0.3 Release: Prebuilt Agents\\n2 min read Feb 27, 2025\\nBy Nuno Campos and Vadym Barda\\nOver the past year, we’ve invested heavily in making LangGraph the go-to framework for building AI agents. With companies like Replit, Klarna, LinkedIn and Uber choosing to build on top of LangGraph, we have more conviction than ever that we are on the right path. [...] Up to this point, we’ve had one higher level abstraction and it’s lived in the main langgraph package. It was create_react_agent, a wrapper for creating a simple tool calling agent. Today, we are splitting that out of langgraph as part of a 0.3 release, and moving it into langgraph-prebuilt.\\nWe are also introducing a new set of prebuilt agents built on top of LangGraph, in both Python and JavaScript.\\nOver the past three weeks, we’ve already released a few of these: [...] Published Time: 2025-02-27T15:09:15.000Z\\nLangGraph 0.3 Release: Prebuilt Agents\\nSkip to content\\n\\n\\nCase Studies\\nIn the Loop\\nLangChain\\nDocs\\nChangelog\\n\\nSign in Subscribe\", \"score\": 0.72348577}]\n",
      "==================================\u001b[1m Ai Message \u001b[0m==================================\n",
      "Tool Calls:\n",
      "  tavily_search_results_json (0)\n",
      " Call ID: 0\n",
      "  Args:\n",
      "    query: latest news about LangGraph\n",
      "=================================\u001b[1m Tool Message \u001b[0m=================================\n",
      "Name: tavily_search_results_json\n",
      "\n",
      "[{\"title\": \"LangChain - Changelog\", \"url\": \"https://changelog.langchain.com/\", \"content\": \"LangGraph 🔁 Modify graph state from tools in LangGraph --------------------------------------------- LangGraph's latest update gives you greater control over your agents by enabling tools to directly update the graph state. This is a game-changer for use... December 18, 2024 [...] LangGraph `interrupt`: Simplifying human-in-the-loop agents --------------------------------------------------- Our latest feature in LangGraph, interrupt , makes building human-in-the-loop workflows easier. Agents aren’t perfect, so keeping humans “in the loop”... December 16, 2024 [...] LangGraph Platform Custom authentication & access control for LangGraph Platform ------------------------------------------------------------- Today, we're thrilled to announce Custom Authentication and Resource-Level Access Control for Python deployments in LangGraph Cloud and self-hosted... December 20, 2024\", \"score\": 0.79732054}, {\"title\": \"LangGraph 0.3 Release: Prebuilt Agents - LangChain Blog\", \"url\": \"https://blog.langchain.dev/langgraph-0-3-release-prebuilt-agents/\", \"content\": \"LangGraph 0.3 Release: Prebuilt Agents\\n2 min read Feb 27, 2025\\nBy Nuno Campos and Vadym Barda\\nOver the past year, we’ve invested heavily in making LangGraph the go-to framework for building AI agents. With companies like Replit, Klarna, LinkedIn and Uber choosing to build on top of LangGraph, we have more conviction than ever that we are on the right path. [...] Up to this point, we’ve had one higher level abstraction and it’s lived in the main langgraph package. It was create_react_agent, a wrapper for creating a simple tool calling agent. Today, we are splitting that out of langgraph as part of a 0.3 release, and moving it into langgraph-prebuilt.\\nWe are also introducing a new set of prebuilt agents built on top of LangGraph, in both Python and JavaScript.\\nOver the past three weeks, we’ve already released a few of these: [...] Published Time: 2025-02-27T15:09:15.000Z\\nLangGraph 0.3 Release: Prebuilt Agents\\nSkip to content\\n\\n\\nCase Studies\\nIn the Loop\\nLangChain\\nDocs\\nChangelog\\n\\nSign in Subscribe\", \"score\": 0.7552947}]\n",
      "==================================\u001b[1m Ai Message \u001b[0m==================================\n",
      "\n",
      "The latest news about LangGraph includes several updates and releases. Firstly, the 'interrupt' feature has been added, which simplifies creating human-in-the-loop workflows, essential for maintaining oversight of AI agents. Secondly, an update allows tools to modify the graph state directly, providing more control over the agents. Lastly, custom authentication and resource-level access control have been implemented for Python deployments in LangGraph Cloud and self-hosted environments. In addition, LangGraph released version 0.3, which introduces prebuilt agents in both Python and JavaScript, aimed at making it even easier to develop AI agents.\n"
     ]
    }
   ],
   "source": [
    "user_input = \"What's the latest news about LangGraph?\"\n",
    "\n",
    "events = graph.stream(\n",
    "    {\"messages\": [{\"role\": \"user\", \"content\": user_input}]},\n",
    "    config,\n",
    "    stream_mode=\"values\",\n",
    ")\n",
    "for event in events:\n",
    "    if \"messages\" in event:\n",
    "        event[\"messages\"][-1].pretty_print()"
   ]
  },
  {
   "cell_type": "markdown",
   "metadata": {},
   "source": [
    "Ha buscado las últimas noticias sobre LangGraph y ha generado una respuesta basada en la información recibida."
   ]
  },
  {
   "cell_type": "markdown",
   "metadata": {},
   "source": [
    "### Más"
   ]
  },
  {
   "cell_type": "markdown",
   "metadata": {},
   "source": [
    "### Aprobación del uso de herramientas"
   ]
  },
  {
   "cell_type": "markdown",
   "metadata": {},
   "source": [
    " > Nota: Este apartado lo vamos a hacer usando Sonnet 3.7, ya que a día de la escritura del post, es el mejor modelo para uso con agentes, y es el único que entiende cuando tiene que llamar a las tools y cuando no para este ejemplo"
   ]
  },
  {
   "cell_type": "markdown",
   "metadata": {},
   "source": [
    "Podemos meter un `human in the loop` para aprobar el uso de herramientas. Vamos a crear un chatbot con varias herramientas para hacer oepraciones matemáticas"
   ]
  },
  {
   "cell_type": "code",
   "execution_count": 1,
   "metadata": {},
   "outputs": [
    {
     "data": {
      "image/png": "[encoded data removed]",
      "text/plain": [
       "<IPython.core.display.Image object>"
      ]
     },
     "metadata": {},
     "output_type": "display_data"
    }
   ],
   "source": [
    "from typing import Annotated\n",
    "from typing_extensions import TypedDict\n",
    "from langgraph.graph import StateGraph, START, END\n",
    "from langgraph.graph.message import add_messages\n",
    "from langchain_core.messages import SystemMessage, HumanMessage, AIMessage\n",
    "from langgraph.prebuilt import ToolNode, tools_condition\n",
    "from langgraph.checkpoint.memory import MemorySaver\n",
    "from langchain_core.tools import tool\n",
    "from langchain_anthropic import ChatAnthropic\n",
    "from IPython.display import Image, display\n",
    "import os\n",
    "import dotenv\n",
    "\n",
    "dotenv.load_dotenv()\n",
    "ANTHROPIC_TOKEN = os.getenv(\"ANTHROPIC_LANGGRAPH_API_KEY\")\n",
    "\n",
    "memory = MemorySaver()\n",
    "\n",
    "class State(TypedDict):\n",
    "    messages: Annotated[list, add_messages]\n",
    "\n",
    "os.environ[\"LANGCHAIN_TRACING_V2\"] = \"false\"    # Disable LangSmith tracing\n",
    "\n",
    "# Tools\n",
    "@tool\n",
    "def multiply(a: int, b: int) -> int:\n",
    "    \"\"\"Multiply a and b.\n",
    "\n",
    "    Args:\n",
    "        a: first int\n",
    "        b: second int\n",
    "\n",
    "    Returns:\n",
    "        The product of a and b.\n",
    "    \"\"\"\n",
    "    return a * b\n",
    "\n",
    "@tool\n",
    "def add(a: int, b: int) -> int:\n",
    "    \"\"\"Adds a and b.\n",
    "\n",
    "    Args:\n",
    "        a: first int\n",
    "        b: second int\n",
    "\n",
    "    Returns:\n",
    "        The sum of a and b.\n",
    "    \"\"\"\n",
    "    return a + b\n",
    "\n",
    "@tool\n",
    "def subtract(a: int, b: int) -> int:\n",
    "    \"\"\"Subtract b from a.\n",
    "\n",
    "    Args:\n",
    "        a: first int\n",
    "        b: second int\n",
    "\n",
    "    Returns:\n",
    "        The difference between a and b.\n",
    "    \"\"\"\n",
    "    return a - b\n",
    "\n",
    "@tool\n",
    "def divide(a: int, b: int) -> float:\n",
    "    \"\"\"Divide a by b.\n",
    "\n",
    "    Args:\n",
    "        a: first int\n",
    "        b: second int\n",
    "\n",
    "    Returns:\n",
    "        The quotient of a and b.\n",
    "    \"\"\"\n",
    "    return a / b\n",
    "\n",
    "tools_list = [multiply, add, subtract, divide]\n",
    "\n",
    "# Create the LLM model\n",
    "llm = ChatAnthropic(model=\"claude-3-7-sonnet-20250219\", api_key=ANTHROPIC_TOKEN)\n",
    "llm_with_tools = llm.bind_tools(tools_list)\n",
    "\n",
    "# Nodes\n",
    "def chat_model_node(state: State):\n",
    "    system_message = \"You are a helpful assistant that can use tools to answer questions. Once you have the result of a tool, provide a final answer without calling more tools.\"\n",
    "    messages = [SystemMessage(content=system_message)] + state[\"messages\"]\n",
    "    return {\"messages\": [llm_with_tools.invoke(messages)]}\n",
    "\n",
    "# Create graph builder\n",
    "graph_builder = StateGraph(State)\n",
    "\n",
    "# Add nodes\n",
    "graph_builder.add_node(\"chatbot_node\", chat_model_node)\n",
    "tool_node = ToolNode(tools=tools_list)\n",
    "graph_builder.add_node(\"tools\", tool_node)\n",
    "\n",
    "# Connecto nodes\n",
    "graph_builder.add_edge(START, \"chatbot_node\")\n",
    "graph_builder.add_conditional_edges(\"chatbot_node\", tools_condition)\n",
    "graph_builder.add_edge(\"tools\", \"chatbot_node\")\n",
    "graph_builder.add_edge(\"chatbot_node\", END)\n",
    "\n",
    "# Compile the graph\n",
    "graph = graph_builder.compile(interrupt_before=[\"tools\"], checkpointer=memory)\n",
    "\n",
    "display(Image(graph.get_graph().draw_mermaid_png()))"
   ]
  },
  {
   "cell_type": "code",
   "execution_count": 2,
   "metadata": {},
   "outputs": [
    {
     "name": "stdout",
     "output_type": "stream",
     "text": [
      "==================================\u001b[1m Ai Message \u001b[0m==================================\n",
      "\n",
      "[{'text': \"I'll multiply 2 and 3 for you.\", 'type': 'text'}, {'id': 'toolu_01QDuind1VBHWtvifELN9SPf', 'input': {'a': 2, 'b': 3}, 'name': 'multiply', 'type': 'tool_use'}]\n",
      "Tool Calls:\n",
      "  multiply (toolu_01QDuind1VBHWtvifELN9SPf)\n",
      " Call ID: toolu_01QDuind1VBHWtvifELN9SPf\n",
      "  Args:\n",
      "    a: 2\n",
      "    b: 3\n",
      "None\n",
      "{'__interrupt__': ()}\n"
     ]
    }
   ],
   "source": [
    "# Input\n",
    "initial_input = {\"messages\": HumanMessage(content=\"Multiply 2 and 3\")}\n",
    "\n",
    "config = {\"configurable\": {\"thread_id\": \"1\"}}\n",
    "\n",
    "# Run the graph until the first interruption\n",
    "for event in graph.stream(initial_input, config, stream_mode=\"updates\"):\n",
    "    if 'chatbot_node' in event:\n",
    "        print(event['chatbot_node']['messages'][-1].pretty_print())\n",
    "    else:\n",
    "        print(event)"
   ]
  },
  {
   "cell_type": "markdown",
   "metadata": {},
   "source": [
    "Como podemos ver el LLM sabe que tiene que usar la herramienta `multiply`, pero se interrumpe la ejecución, porque tiene que esperar a que un humano le autorice el uso de la herramienta."
   ]
  },
  {
   "cell_type": "markdown",
   "metadata": {},
   "source": [
    "Podemos ver el estado en el que se ha quedado el grafo"
   ]
  },
  {
   "cell_type": "code",
   "execution_count": 3,
   "metadata": {},
   "outputs": [
    {
     "data": {
      "text/plain": [
       "('tools',)"
      ]
     },
     "execution_count": 3,
     "metadata": {},
     "output_type": "execute_result"
    }
   ],
   "source": [
    "state = graph.get_state(config)\n",
    "state.next"
   ]
  },
  {
   "cell_type": "markdown",
   "metadata": {},
   "source": [
    "Como vemos se ha quedado en el nodo de `tools`."
   ]
  },
  {
   "cell_type": "markdown",
   "metadata": {},
   "source": [
    "Podemos crear una función que le pida al usuario que apruebe el uso de la herramienta."
   ]
  },
  {
   "cell_type": "markdown",
   "metadata": {},
   "source": [
    "Creamos un nuevo `thread_id` para que se cree un nuevo estado."
   ]
  },
  {
   "cell_type": "code",
   "execution_count": 51,
   "metadata": {},
   "outputs": [
    {
     "name": "stdout",
     "output_type": "stream",
     "text": [
      "I'll multiply 2 and 3 for you.\n",
      "The LLM wants to use the tool multiply with the arguments {'a': 2, 'b': 3}\n",
      "Do you approve the use of the tool None with the arguments None? (y/n): y\n",
      "User approved the use of the tool\n",
      "The result of the tool multiply is 6\n",
      "The result of multiplying 2 and 3 is 6."
     ]
    }
   ],
   "source": [
    "# Input\n",
    "initial_input = {\"messages\": HumanMessage(content=\"Multiply 2 and 3\")}\n",
    "\n",
    "config = {\"configurable\": {\"thread_id\": \"2\"}}\n",
    "\n",
    "# Run the graph until the first interruption\n",
    "for event in graph.stream(initial_input, config, stream_mode=\"updates\"):\n",
    "    function_name = None\n",
    "    function_args = None\n",
    "\n",
    "    if 'chatbot_node' in event:\n",
    "        for element in event['chatbot_node']['messages'][-1].content:\n",
    "            if element['type'] == 'text':\n",
    "                print(element['text'])\n",
    "            elif element['type'] == 'tool_use':\n",
    "                function_name = element['name']\n",
    "                function_args = element['input']\n",
    "                print(f\"The LLM wants to use the tool {function_name} with the arguments {function_args}\")\n",
    "    \n",
    "    elif '__interrupt__' in event:\n",
    "        pass\n",
    "    \n",
    "    else:\n",
    "        print(event)\n",
    "\n",
    "question = f\"Do you approve the use of the tool {function_name} with the arguments {function_args}? (y/n)\"\n",
    "user_approval = input(question)\n",
    "print(f\"{question}: {user_approval}\")\n",
    "\n",
    "if user_approval.lower() == 'y':\n",
    "    print(\"User approved the use of the tool\")\n",
    "    for event in graph.stream(None, config, stream_mode=\"updates\"):\n",
    "        if 'chatbot_node' in event:\n",
    "            for element in event['chatbot_node']['messages'][-1].content:\n",
    "                if isinstance(element, str):\n",
    "                    print(element, end=\"\")\n",
    "        \n",
    "        elif 'tools' in event:\n",
    "            result = event['tools']['messages'][-1].content\n",
    "            tool_used = event['tools']['messages'][-1].name\n",
    "            print(f\"The result of the tool {tool_used} is {result}\")\n",
    "        \n",
    "        else:\n",
    "            print(event)\n"
   ]
  },
  {
   "cell_type": "markdown",
   "metadata": {},
   "source": [
    "Podemos ver que el grafo ha terminado viendo el estado del grafo."
   ]
  },
  {
   "cell_type": "code",
   "execution_count": 52,
   "metadata": {},
   "outputs": [
    {
     "data": {
      "text/plain": [
       "()"
      ]
     },
     "execution_count": 52,
     "metadata": {},
     "output_type": "execute_result"
    }
   ],
   "source": [
    "state = graph.get_state(config)\n",
    "state.next"
   ]
  },
  {
   "cell_type": "markdown",
   "metadata": {},
   "source": [
    "## Personalización del estado"
   ]
  },
  {
   "cell_type": "markdown",
   "metadata": {},
   "source": [
    " > Nota: Este apartado lo vamos a hacer usando Sonnet 3.7, ya que a día de la escritura del post, es el mejor modelo para uso con agentes, y es el único que entiende cuando tiene que llamar a las tools y cuando no"
   ]
  },
  {
   "cell_type": "markdown",
   "metadata": {},
   "source": [
    "Hasta ahora, hemos confiado en un estado simple con una entrada, una lista de mensajes. Se puede llegar lejos con este estado simple, pero si se desea definir un comportamiento complejo sin depender de la lista de mensajes, se pueden agregar campos adicionales al estado.\n",
    "\n",
    "Aquí vamos a ver un nuevo escenario, en el que el chatbot está utilizando la herramienta de búsqueda para encontrar información específica, y reenviándola a un ser humano para su revisión. Vamos a hacer que el chatbot investigue el cumpleaños de una entidad. Agregaremos `name` y `birthday` claves del estado."
   ]
  },
  {
   "cell_type": "markdown",
   "metadata": {},
   "source": [
    "Primero cargamos los valores de las API KEYs"
   ]
  },
  {
   "cell_type": "code",
   "execution_count": 1,
   "metadata": {},
   "outputs": [],
   "source": [
    "import os\n",
    "import dotenv\n",
    "\n",
    "dotenv.load_dotenv()\n",
    "\n",
    "TAVILY_API_KEY = os.getenv(\"TAVILY_LANGGRAPH_API_KEY\")\n",
    "ANTHROPIC_TOKEN = os.getenv(\"ANTHROPIC_LANGGRAPH_API_KEY\")"
   ]
  },
  {
   "cell_type": "markdown",
   "metadata": {},
   "source": [
    "Creamos el nuevo estado"
   ]
  },
  {
   "cell_type": "code",
   "execution_count": 2,
   "metadata": {},
   "outputs": [],
   "source": [
    "from typing import Annotated\n",
    "\n",
    "from typing_extensions import TypedDict\n",
    "\n",
    "from langgraph.graph.message import add_messages\n",
    "\n",
    "class State(TypedDict):\n",
    "    messages: Annotated[list, add_messages]\n",
    "    name: str\n",
    "    birthday: str"
   ]
  },
  {
   "cell_type": "markdown",
   "metadata": {},
   "source": [
    "Agregar esta información al estado hace que sea fácilmente accesible por otros nodos del grafo (por ejemplo, un nodo downstram que almacena o procesa la información), así como la capa de persistencia del grafo."
   ]
  },
  {
   "cell_type": "markdown",
   "metadata": {},
   "source": [
    "Ahora creamos el grafo"
   ]
  },
  {
   "cell_type": "code",
   "execution_count": 3,
   "metadata": {},
   "outputs": [],
   "source": [
    "from langgraph.graph import StateGraph, START, END\n",
    "\n",
    "graph_builder = StateGraph(State)"
   ]
  },
  {
   "cell_type": "markdown",
   "metadata": {},
   "source": [
    "Definimos la `tool` de búsqueda"
   ]
  },
  {
   "cell_type": "code",
   "execution_count": 4,
   "metadata": {},
   "outputs": [],
   "source": [
    "from langchain_community.utilities.tavily_search import TavilySearchAPIWrapper\n",
    "from langchain_community.tools.tavily_search import TavilySearchResults\n",
    "\n",
    "wrapper = TavilySearchAPIWrapper(tavily_api_key=TAVILY_API_KEY)\n",
    "search_tool = TavilySearchResults(api_wrapper=wrapper, max_results=2)"
   ]
  },
  {
   "cell_type": "markdown",
   "metadata": {},
   "source": [
    "Ahora creamos la tool de asistencia humana. En esta tool rellenaremos las claves de estado dentro de nuestra herramienta `human_assistance`. Esto permite a un ser humano revisar la información antes de que se almacene en el estado. Volveremos a usar `Command`, esta vez para emitir una actualización de estado desde el interior de nuestra herramienta."
   ]
  },
  {
   "cell_type": "code",
   "execution_count": 5,
   "metadata": {},
   "outputs": [],
   "source": [
    "from langchain_core.messages import ToolMessage\n",
    "from langchain_core.tools import InjectedToolCallId, tool\n",
    "\n",
    "from langgraph.types import Command, interrupt\n",
    "\n",
    "\n",
    "@tool\n",
    "# Note that because we are generating a ToolMessage for a state update, we\n",
    "# generally require the ID of the corresponding tool call. We can use\n",
    "# LangChain's InjectedToolCallId to signal that this argument should not\n",
    "# be revealed to the model in the tool's schema.\n",
    "def human_assistance(\n",
    "    name: str, birthday: str, tool_call_id: Annotated[str, InjectedToolCallId]\n",
    ") -> str:\n",
    "    \"\"\"\n",
    "    Request assistance from a human expert. Use this tool ONLY ONCE per conversation.\n",
    "    After receiving the expert's response, you should provide an elaborated response to the user based on the information received\n",
    "    based on the information received, without calling this tool again.\n",
    "\n",
    "    Args:\n",
    "        query: The query to ask the human expert.\n",
    "\n",
    "    Returns:\n",
    "        The response from the human expert.\n",
    "    \"\"\"\n",
    "    human_response = interrupt(\n",
    "        {\n",
    "            \"question\": \"Is this correct?\",\n",
    "            \"name\": name,\n",
    "            \"birthday\": birthday,\n",
    "        },\n",
    "    )\n",
    "\n",
    "    # If the information is correct, update the state as-is.\n",
    "    if human_response.get(\"correct\", \"\").lower().startswith(\"y\"):\n",
    "        verified_name = name\n",
    "        verified_birthday = birthday\n",
    "        response = \"Correct\"\n",
    "\n",
    "    # Otherwise, receive information from the human reviewer.\n",
    "    else:\n",
    "        verified_name = human_response.get(\"name\", name)\n",
    "        verified_birthday = human_response.get(\"birthday\", birthday)\n",
    "        response = f\"Made a correction: {human_response}\"\n",
    "\n",
    "    # This time we explicitly update the state with a ToolMessage inside\n",
    "    # the tool.\n",
    "    state_update = {\n",
    "        \"name\": verified_name,\n",
    "        \"birthday\": verified_birthday,\n",
    "        \"messages\": [ToolMessage(response, tool_call_id=tool_call_id)],\n",
    "    }\n",
    "    \n",
    "    # We return a Command object in the tool to update our state.\n",
    "    return Command(update=state_update)"
   ]
  },
  {
   "cell_type": "markdown",
   "metadata": {},
   "source": [
    "Hemos usado [ToolMessage](https://python.langchain.com/api_reference/core/messages/langchain_core.messages.tool.ToolMessage.html) que se usa para pasar el resultado de ejecutar una `tool` de nuevo a un modelo y [InjectedToolCallId](https://python.langchain.com/api_reference/core/tools/langchain_core.tools.base.InjectedToolCallId.html)"
   ]
  },
  {
   "cell_type": "markdown",
   "metadata": {},
   "source": [
    "Creamos una lista de `tools`"
   ]
  },
  {
   "cell_type": "code",
   "execution_count": 6,
   "metadata": {},
   "outputs": [],
   "source": [
    "tools_list = [search_tool, human_assistance]"
   ]
  },
  {
   "cell_type": "markdown",
   "metadata": {},
   "source": [
    "A continuación el `LLM` con las `bind_tools` y lo añadimos al grafo"
   ]
  },
  {
   "cell_type": "code",
   "execution_count": 7,
   "metadata": {},
   "outputs": [
    {
     "data": {
      "text/plain": [
       "<langgraph.graph.state.StateGraph at 0x120b4f380>"
      ]
     },
     "execution_count": 7,
     "metadata": {},
     "output_type": "execute_result"
    }
   ],
   "source": [
    "from langchain_huggingface import HuggingFaceEndpoint, ChatHuggingFace\n",
    "from langchain_anthropic import ChatAnthropic\n",
    "\n",
    "\n",
    "# Create the LLM\n",
    "llm = ChatAnthropic(model=\"claude-3-7-sonnet-20250219\", api_key=ANTHROPIC_TOKEN)\n",
    "\n",
    "# Modification: tell the LLM which tools it can call\n",
    "llm_with_tools = llm.bind_tools(tools_list)\n",
    "\n",
    "# Define the chatbot function\n",
    "def chatbot_function(state: State):\n",
    "    message = llm_with_tools.invoke(state[\"messages\"])\n",
    "    # Because we will be interrupting during tool execution,\n",
    "    # we disable parallel tool calling to avoid repeating any\n",
    "    # tool invocations when we resume.\n",
    "    assert len(message.tool_calls) <= 1\n",
    "    return {\"messages\": [message]}\n",
    "\n",
    "# Add the chatbot node\n",
    "graph_builder.add_node(\"chatbot_node\", chatbot_function)"
   ]
  },
  {
   "cell_type": "markdown",
   "metadata": {},
   "source": [
    "Añadimos la `tool` al grafo"
   ]
  },
  {
   "cell_type": "code",
   "execution_count": 8,
   "metadata": {},
   "outputs": [
    {
     "data": {
      "text/plain": [
       "<langgraph.graph.state.StateGraph at 0x120b4f380>"
      ]
     },
     "execution_count": 8,
     "metadata": {},
     "output_type": "execute_result"
    }
   ],
   "source": [
    "from langgraph.prebuilt import ToolNode, tools_condition\n",
    "\n",
    "tool_node = ToolNode(tools=tools_list)\n",
    "graph_builder.add_node(\"tools\", tool_node)\n",
    "graph_builder.add_conditional_edges(\"chatbot_node\", tools_condition)\n",
    "graph_builder.add_edge(\"tools\", \"chatbot_node\")"
   ]
  },
  {
   "cell_type": "markdown",
   "metadata": {},
   "source": [
    "Añadimos el nodo de `START` al grafo"
   ]
  },
  {
   "cell_type": "code",
   "execution_count": 9,
   "metadata": {},
   "outputs": [
    {
     "data": {
      "text/plain": [
       "<langgraph.graph.state.StateGraph at 0x120b4f380>"
      ]
     },
     "execution_count": 9,
     "metadata": {},
     "output_type": "execute_result"
    }
   ],
   "source": [
    "graph_builder.add_edge(START, \"chatbot_node\")"
   ]
  },
  {
   "cell_type": "markdown",
   "metadata": {},
   "source": [
    "Creamos un `checkpointer` [MemorySaver](https://langchain-ai.github.io/langgraph/reference/checkpoints/#langgraph.checkpoint.memory.MemorySaver)."
   ]
  },
  {
   "cell_type": "code",
   "execution_count": 10,
   "metadata": {},
   "outputs": [],
   "source": [
    "from langgraph.checkpoint.memory import MemorySaver\n",
    "\n",
    "memory = MemorySaver()"
   ]
  },
  {
   "cell_type": "markdown",
   "metadata": {},
   "source": [
    "Compilamos el grafo con el `checkpointer`"
   ]
  },
  {
   "cell_type": "code",
   "execution_count": 11,
   "metadata": {},
   "outputs": [],
   "source": [
    "graph = graph_builder.compile(checkpointer=memory)"
   ]
  },
  {
   "cell_type": "markdown",
   "metadata": {},
   "source": [
    "Lo representamos gráficamente"
   ]
  },
  {
   "cell_type": "code",
   "execution_count": 12,
   "metadata": {},
   "outputs": [
    {
     "data": {
      "image/png": "[encoded data removed]",
      "text/plain": [
       "<IPython.core.display.Image object>"
      ]
     },
     "metadata": {},
     "output_type": "display_data"
    }
   ],
   "source": [
    "from IPython.display import Image, display\n",
    "\n",
    "try:\n",
    "    display(Image(graph.get_graph().draw_mermaid_png()))\n",
    "except Exception as e:\n",
    "    print(f\"Error al visualizar el grafo: {e}\")"
   ]
  },
  {
   "cell_type": "markdown",
   "metadata": {},
   "source": [
    "Vamos a pedir a nuestro chatbot que busque el \"cumpleaños\" de la biblioteca de `LangGraph`.\n",
    "\n",
    "Dirigiremos al chatbot hata la herramienta `human_assistance` una vez que tenga la información requerida. Los argumentos `name` y `birthday` son obligatorios para la herramienta `human_assistance`, así que obligan al chatbot a generar propuestas para estos campos."
   ]
  },
  {
   "cell_type": "code",
   "execution_count": 13,
   "metadata": {},
   "outputs": [
    {
     "name": "stdout",
     "output_type": "stream",
     "text": [
      "================================\u001b[1m Human Message \u001b[0m=================================\n",
      "\n",
      "Can you look up when LangGraph was released? When you have the answer, use the human_assistance tool for review.\n"
     ]
    },
    {
     "name": "stderr",
     "output_type": "stream",
     "text": [
      "Failed to multipart ingest runs: langsmith.utils.LangSmithError: Failed to POST https://eu.api.smith.langchain.com/runs/multipart in LangSmith API. HTTPError('403 Client Error: Forbidden for url: https://eu.api.smith.langchain.com/runs/multipart', '{\"error\":\"Forbidden\"}\\n')\n"
     ]
    },
    {
     "name": "stdout",
     "output_type": "stream",
     "text": [
      "==================================\u001b[1m Ai Message \u001b[0m==================================\n",
      "\n",
      "[{'text': \"I'll help you look up when LangGraph was released, and then I'll use the human_assistance tool for review as requested.\\n\\nFirst, let me search for information about LangGraph's release date:\", 'type': 'text'}, {'id': 'toolu_011KHWFxYbFnUvGEF6MPt3dE', 'input': {'query': 'LangGraph release date when was LangGraph released'}, 'name': 'tavily_search_results_json', 'type': 'tool_use'}]\n",
      "Tool Calls:\n",
      "  tavily_search_results_json (toolu_011KHWFxYbFnUvGEF6MPt3dE)\n",
      " Call ID: toolu_011KHWFxYbFnUvGEF6MPt3dE\n",
      "  Args:\n",
      "    query: LangGraph release date when was LangGraph released\n"
     ]
    },
    {
     "name": "stderr",
     "output_type": "stream",
     "text": [
      "Failed to send compressed multipart ingest: langsmith.utils.LangSmithError: Failed to POST https://eu.api.smith.langchain.com/runs/multipart in LangSmith API. HTTPError('403 Client Error: Forbidden for url: https://eu.api.smith.langchain.com/runs/multipart', '{\"error\":\"Forbidden\"}\\n')\n"
     ]
    },
    {
     "name": "stdout",
     "output_type": "stream",
     "text": [
      "=================================\u001b[1m Tool Message \u001b[0m=================================\n",
      "Name: tavily_search_results_json\n",
      "\n",
      "[{\"title\": \"LangGraph Studio: The first agent IDE | by Bhavik Jikadara - Medium\", \"url\": \"https://bhavikjikadara.medium.com/langgraph-studio-the-first-agent-ide-468132628274\", \"content\": \"LangGraph, launched in January 2023, is a low-level orchestration framework designed for building controllable and complex agentic applications.\", \"score\": 0.80405265}, {\"title\": \"langgraph - PyPI\", \"url\": \"https://pypi.org/project/langgraph/\", \"content\": \"langgraph · PyPI\\nSkip to main content Switch to mobile version\\n\\nSearch PyPI  Search\\n\\nHelp\\nSponsors\\nLog in\\nRegister\\n\\nMenu\\n\\nHelp\\nSponsors\\nLog in\\nRegister\\n\\nSearch PyPI  Search\\nlanggraph 0.2.70\\npip install langgraph Copy PIP instructions\\nLatest versionReleased: Feb 6, 2025\\nBuilding stateful, multi-actor applications with LLMs\\nNavigation\\n\\nProject description\\nRelease history\\nDownload files [...] 0.2.20 Sep 13, 2024\\n\\n0.2.19 Sep 6, 2024\\n\\n0.2.18 Sep 6, 2024\\n\\n0.2.17 Sep 5, 2024\\n\\n0.2.16 Sep 1, 2024\\n\\n0.2.15 Aug 30, 2024\\n\\n0.2.14 Aug 24, 2024\\n\\n0.2.13 Aug 23, 2024\\n\\n0.2.12 Aug 22, 2024\\n\\n0.2.11 Aug 22, 2024\\n\\n0.2.10 Aug 21, 2024\\n\\n0.2.9 Aug 21, 2024\\n\\n0.2.8 Aug 21, 2024\\n\\n0.2.7 Aug 21, 2024\\n\\n0.2.7a0 pre-release Aug 21, 2024\\n\\n0.2.6 Aug 21, 2024\\n\\n0.2.5 Aug 21, 2024\\n\\n0.2.5a0 pre-release Aug 20, 2024\\n\\n0.2.4 Aug 15, 2024\\n\\n0.2.3 Aug 8, 2024\\n\\n0.2.2 Aug 7, 2024\\n\\n0.2.1 Aug 7, 2024\\n\\n0.2.0 Aug 7, 2024 [...] Download URL: langgraph-0.2.70.tar.gz\\nUpload date: Feb 6, 2025\\nSize: 129.7 kB\\nTags: Source\\nUploaded using Trusted Publishing? Yes\\nUploaded via: twine/6.1.0 CPython/3.12.8\", \"score\": 0.75659186}]\n"
     ]
    },
    {
     "name": "stderr",
     "output_type": "stream",
     "text": [
      "Failed to send compressed multipart ingest: langsmith.utils.LangSmithError: Failed to POST https://eu.api.smith.langchain.com/runs/multipart in LangSmith API. HTTPError('403 Client Error: Forbidden for url: https://eu.api.smith.langchain.com/runs/multipart', '{\"error\":\"Forbidden\"}\\n')\n"
     ]
    },
    {
     "name": "stdout",
     "output_type": "stream",
     "text": [
      "==================================\u001b[1m Ai Message \u001b[0m==================================\n",
      "\n",
      "[{'text': 'Based on my search, I found that LangGraph was launched in January 2023. However, I noticed some inconsistencies in the information, as one source mentions it was launched in January 2023, while the PyPI page shows a version history starting from 2024.\\n\\nLet me request human assistance to verify this information:', 'type': 'text'}, {'id': 'toolu_019EopKn8bLi3ksvUVY2Mt5p', 'input': {'name': 'LangGraph', 'birthday': 'January 2023'}, 'name': 'human_assistance', 'type': 'tool_use'}]\n",
      "Tool Calls:\n",
      "  human_assistance (toolu_019EopKn8bLi3ksvUVY2Mt5p)\n",
      " Call ID: toolu_019EopKn8bLi3ksvUVY2Mt5p\n",
      "  Args:\n",
      "    name: LangGraph\n",
      "    birthday: January 2023\n"
     ]
    },
    {
     "name": "stderr",
     "output_type": "stream",
     "text": [
      "Failed to send compressed multipart ingest: langsmith.utils.LangSmithError: Failed to POST https://eu.api.smith.langchain.com/runs/multipart in LangSmith API. HTTPError('403 Client Error: Forbidden for url: https://eu.api.smith.langchain.com/runs/multipart', '{\"error\":\"Forbidden\"}\\n')\n",
      "Failed to send compressed multipart ingest: langsmith.utils.LangSmithError: Failed to POST https://eu.api.smith.langchain.com/runs/multipart in LangSmith API. HTTPError('403 Client Error: Forbidden for url: https://eu.api.smith.langchain.com/runs/multipart', '{\"error\":\"Forbidden\"}\\n')\n",
      "Failed to send compressed multipart ingest: langsmith.utils.LangSmithError: Failed to POST https://eu.api.smith.langchain.com/runs/multipart in LangSmith API. HTTPError('403 Client Error: Forbidden for url: https://eu.api.smith.langchain.com/runs/multipart', '{\"error\":\"Forbidden\"}\\n')\n",
      "Failed to send compressed multipart ingest: langsmith.utils.LangSmithError: Failed to POST https://eu.api.smith.langchain.com/runs/multipart in LangSmith API. HTTPError('403 Client Error: Forbidden for url: https://eu.api.smith.langchain.com/runs/multipart', '{\"error\":\"Forbidden\"}\\n')\n"
     ]
    }
   ],
   "source": [
    "user_input = (\n",
    "    \"Can you look up when LangGraph was released? \"\n",
    "    \"When you have the answer, use the human_assistance tool for review.\"\n",
    ")\n",
    "config = {\"configurable\": {\"thread_id\": \"1\"}}\n",
    "\n",
    "events = graph.stream(\n",
    "    {\"messages\": [{\"role\": \"user\", \"content\": user_input}]},\n",
    "    config,\n",
    "    stream_mode=\"values\",\n",
    ")\n",
    "for event in events:\n",
    "    if \"messages\" in event:\n",
    "        event[\"messages\"][-1].pretty_print()"
   ]
  },
  {
   "cell_type": "markdown",
   "metadata": {},
   "source": [
    "Se ha parado por el `interrupt` en la herramienta `human_assistance`. En este caso, el chatbot no identificó la fecha correcta, por lo que podemos introducirla nosotros mismos."
   ]
  },
  {
   "cell_type": "code",
   "execution_count": 14,
   "metadata": {},
   "outputs": [
    {
     "name": "stdout",
     "output_type": "stream",
     "text": [
      "==================================\u001b[1m Ai Message \u001b[0m==================================\n",
      "\n",
      "[{'text': 'Based on my search, I found that LangGraph was launched in January 2023. However, I noticed some inconsistencies in the information, as one source mentions it was launched in January 2023, while the PyPI page shows a version history starting from 2024.\\n\\nLet me request human assistance to verify this information:', 'type': 'text'}, {'id': 'toolu_019EopKn8bLi3ksvUVY2Mt5p', 'input': {'name': 'LangGraph', 'birthday': 'January 2023'}, 'name': 'human_assistance', 'type': 'tool_use'}]\n",
      "Tool Calls:\n",
      "  human_assistance (toolu_019EopKn8bLi3ksvUVY2Mt5p)\n",
      " Call ID: toolu_019EopKn8bLi3ksvUVY2Mt5p\n",
      "  Args:\n",
      "    name: LangGraph\n",
      "    birthday: January 2023\n",
      "=================================\u001b[1m Tool Message \u001b[0m=================================\n",
      "Name: human_assistance\n",
      "\n",
      "Made a correction: {'name': 'LangGraph', 'birthday': 'Jan 17, 2024'}\n",
      "==================================\u001b[1m Ai Message \u001b[0m==================================\n",
      "\n",
      "Thank you for the expert review and correction! Based on the human expert's feedback, I can now provide you with the accurate information:\n",
      "\n",
      "LangGraph was released on January 17, 2024, not January 2023 as one of the search results incorrectly stated. \n",
      "\n",
      "This is an important correction, as it means LangGraph is a relatively recent framework in the LLM orchestration space, having been available for less than a year at this point. LangGraph is developed by LangChain and is designed for building stateful, multi-actor applications with LLMs.\n"
     ]
    }
   ],
   "source": [
    "human_command = Command(\n",
    "    resume={\n",
    "        \"name\": \"LangGraph\",\n",
    "        \"birthday\": \"Jan 17, 2024\",\n",
    "    },\n",
    ")\n",
    "\n",
    "events = graph.stream(human_command, config, stream_mode=\"values\")\n",
    "for event in events:\n",
    "    if \"messages\" in event:\n",
    "        event[\"messages\"][-1].pretty_print()"
   ]
  },
  {
   "cell_type": "code",
   "execution_count": 15,
   "metadata": {},
   "outputs": [
    {
     "data": {
      "text/plain": [
       "{'name': 'LangGraph', 'birthday': 'Jan 17, 2024'}"
      ]
     },
     "execution_count": 15,
     "metadata": {},
     "output_type": "execute_result"
    }
   ],
   "source": [
    "snapshot = graph.get_state(config)\n",
    "\n",
    "{k: v for k, v in snapshot.values.items() if k in (\"name\", \"birthday\")}"
   ]
  },
  {
   "cell_type": "markdown",
   "metadata": {},
   "source": [
    "### Actualización manual del estado"
   ]
  },
  {
   "cell_type": "markdown",
   "metadata": {},
   "source": [
    "LangGraph proporciona un alto grado de control sobre el estado de aplicación. Por ejemplo, en cualquier punto (incluso cuando se interrumpe), podemos soreescribir manualmente una key del estado usando `graph.update_state`:"
   ]
  },
  {
   "cell_type": "markdown",
   "metadata": {},
   "source": [
    "Vamos a actualizar el `name` del estado a `LangGraph (library)`."
   ]
  },
  {
   "cell_type": "code",
   "execution_count": 16,
   "metadata": {},
   "outputs": [
    {
     "data": {
      "text/plain": [
       "{'configurable': {'thread_id': '1',\n",
       "  'checkpoint_ns': '',\n",
       "  'checkpoint_id': '1f010a5a-8a70-618e-8006-89107653db68'}}"
      ]
     },
     "execution_count": 16,
     "metadata": {},
     "output_type": "execute_result"
    }
   ],
   "source": [
    "graph.update_state(config, {\"name\": \"LangGraph (library)\"})"
   ]
  },
  {
   "cell_type": "markdown",
   "metadata": {},
   "source": [
    "Si ahora vemos el estado con `graph.get_state(config)` veremos que el `name` se ha actualizado."
   ]
  },
  {
   "cell_type": "code",
   "execution_count": 17,
   "metadata": {},
   "outputs": [
    {
     "data": {
      "text/plain": [
       "{'name': 'LangGraph (library)', 'birthday': 'Jan 17, 2024'}"
      ]
     },
     "execution_count": 17,
     "metadata": {},
     "output_type": "execute_result"
    }
   ],
   "source": [
    "snapshot = graph.get_state(config)\n",
    "\n",
    "{k: v for k, v in snapshot.values.items() if k in (\"name\", \"birthday\")}"
   ]
  },
  {
   "cell_type": "markdown",
   "metadata": {},
   "source": [
    "Las actualizaciones de estado manuales generarán una traza en `LangSmith`. Se pueden usar para controlar flujos de trabajo de `human in the loop`, como se puede ver en esta [guía](https://langchain-ai.github.io/langgraph/how-tos/human_in_the_loop/edit-graph-state/)."
   ]
  },
  {
   "cell_type": "markdown",
   "metadata": {},
   "source": [
    "## Checkpoints"
   ]
  },
  {
   "cell_type": "markdown",
   "metadata": {},
   "source": [
    "En un flujo de trabajo típico de un chatbot, el usuario interactúa con el chatbot una o más veces para realizar una tarea. En las secciones anteriores, vimos cómo agregar memoria y un `human in the loop` para poder verificar nuestro estado de gráfico y controlar las respuestas futuras."
   ]
  },
  {
   "cell_type": "markdown",
   "metadata": {},
   "source": [
    "Pero, a lo mejor un usuario quiere comenzar desde una respuesta anterior y o quiere `ramificar` para explorar un resultado separado. Esto es útil para aplicaciones de agentes, cuando un flujo falla pueden volver a un checkpoint anterior y probar otra estrategia."
   ]
  },
  {
   "cell_type": "markdown",
   "metadata": {},
   "source": [
    "`LangGraph` da esta posibilidad mediante los `checkpoints`"
   ]
  },
  {
   "cell_type": "markdown",
   "metadata": {},
   "source": [
    "Primero cargamos los valores de las API KEYs"
   ]
  },
  {
   "cell_type": "code",
   "execution_count": 1,
   "metadata": {},
   "outputs": [],
   "source": [
    "import os\n",
    "import dotenv\n",
    "\n",
    "dotenv.load_dotenv()\n",
    "\n",
    "HUGGINGFACE_TOKEN = os.getenv(\"HUGGINGFACE_LANGGRAPH\")\n",
    "TAVILY_API_KEY = os.getenv(\"TAVILY_LANGGRAPH_API_KEY\")"
   ]
  },
  {
   "cell_type": "markdown",
   "metadata": {},
   "source": [
    "Creamos el nuevo estado"
   ]
  },
  {
   "cell_type": "code",
   "execution_count": 2,
   "metadata": {},
   "outputs": [],
   "source": [
    "from typing import Annotated\n",
    "\n",
    "from typing_extensions import TypedDict\n",
    "\n",
    "from langgraph.graph.message import add_messages\n",
    "\n",
    "class State(TypedDict):\n",
    "    messages: Annotated[list, add_messages]"
   ]
  },
  {
   "cell_type": "markdown",
   "metadata": {},
   "source": [
    "Ahora creamos el grafo"
   ]
  },
  {
   "cell_type": "code",
   "execution_count": 3,
   "metadata": {},
   "outputs": [],
   "source": [
    "from langgraph.graph import StateGraph, START, END\n",
    "\n",
    "graph_builder = StateGraph(State)"
   ]
  },
  {
   "cell_type": "markdown",
   "metadata": {},
   "source": [
    "Definimos la `tool` de búsqueda"
   ]
  },
  {
   "cell_type": "code",
   "execution_count": 4,
   "metadata": {},
   "outputs": [],
   "source": [
    "from langchain_community.utilities.tavily_search import TavilySearchAPIWrapper\n",
    "from langchain_community.tools.tavily_search import TavilySearchResults\n",
    "\n",
    "wrapper = TavilySearchAPIWrapper(tavily_api_key=TAVILY_API_KEY)\n",
    "search_tool = TavilySearchResults(api_wrapper=wrapper, max_results=2)"
   ]
  },
  {
   "cell_type": "markdown",
   "metadata": {},
   "source": [
    "Creamos una lista de `tools`"
   ]
  },
  {
   "cell_type": "code",
   "execution_count": 5,
   "metadata": {},
   "outputs": [],
   "source": [
    "tools_list = [search_tool]"
   ]
  },
  {
   "cell_type": "markdown",
   "metadata": {},
   "source": [
    "A continuación el `LLM` con las `bind_tools` y lo añadimos al grafo"
   ]
  },
  {
   "cell_type": "code",
   "execution_count": 7,
   "metadata": {},
   "outputs": [
    {
     "data": {
      "text/plain": [
       "<langgraph.graph.state.StateGraph at 0x10aebb380>"
      ]
     },
     "execution_count": 7,
     "metadata": {},
     "output_type": "execute_result"
    }
   ],
   "source": [
    "from langchain_huggingface import HuggingFaceEndpoint, ChatHuggingFace\n",
    "from huggingface_hub import login\n",
    "os.environ[\"LANGCHAIN_TRACING_V2\"] = \"false\"    # Disable LangSmith tracing\n",
    "\n",
    "\n",
    "# Create the LLM\n",
    "login(token=HUGGINGFACE_TOKEN)\n",
    "MODEL = \"Qwen/Qwen2.5-72B-Instruct\"\n",
    "model = HuggingFaceEndpoint(\n",
    "    repo_id=MODEL,\n",
    "    task=\"text-generation\",\n",
    "    max_new_tokens=512,\n",
    "    do_sample=False,\n",
    "    repetition_penalty=1.03,\n",
    ")\n",
    "# Create the chat model\n",
    "llm = ChatHuggingFace(llm=model)\n",
    "\n",
    "# Modification: tell the LLM which tools it can call\n",
    "llm_with_tools = llm.bind_tools(tools_list)\n",
    "\n",
    "# Define the chatbot function\n",
    "def chatbot_function(state: State):\n",
    "    message = llm_with_tools.invoke(state[\"messages\"])\n",
    "    return {\"messages\": [message]}\n",
    "\n",
    "# Add the chatbot node\n",
    "graph_builder.add_node(\"chatbot_node\", chatbot_function)"
   ]
  },
  {
   "cell_type": "markdown",
   "metadata": {},
   "source": [
    "Añadimos la `tool` al grafo"
   ]
  },
  {
   "cell_type": "code",
   "execution_count": 8,
   "metadata": {},
   "outputs": [
    {
     "data": {
      "text/plain": [
       "<langgraph.graph.state.StateGraph at 0x10aebb380>"
      ]
     },
     "execution_count": 8,
     "metadata": {},
     "output_type": "execute_result"
    }
   ],
   "source": [
    "from langgraph.prebuilt import ToolNode, tools_condition\n",
    "\n",
    "tool_node = ToolNode(tools=tools_list)\n",
    "graph_builder.add_node(\"tools\", tool_node)\n",
    "graph_builder.add_conditional_edges(\"chatbot_node\", tools_condition)\n",
    "graph_builder.add_edge(\"tools\", \"chatbot_node\")"
   ]
  },
  {
   "cell_type": "markdown",
   "metadata": {},
   "source": [
    "Añadimos el nodo de `START` al grafo"
   ]
  },
  {
   "cell_type": "code",
   "execution_count": 9,
   "metadata": {},
   "outputs": [
    {
     "data": {
      "text/plain": [
       "<langgraph.graph.state.StateGraph at 0x10aebb380>"
      ]
     },
     "execution_count": 9,
     "metadata": {},
     "output_type": "execute_result"
    }
   ],
   "source": [
    "graph_builder.add_edge(START, \"chatbot_node\")"
   ]
  },
  {
   "cell_type": "markdown",
   "metadata": {},
   "source": [
    "Creamos un `checkpointer` [MemorySaver](https://langchain-ai.github.io/langgraph/reference/checkpoints/#langgraph.checkpoint.memory.MemorySaver)."
   ]
  },
  {
   "cell_type": "code",
   "execution_count": 10,
   "metadata": {},
   "outputs": [],
   "source": [
    "from langgraph.checkpoint.memory import MemorySaver\n",
    "\n",
    "memory = MemorySaver()"
   ]
  },
  {
   "cell_type": "markdown",
   "metadata": {},
   "source": [
    "Compilamos el grafo con el `checkpointer`"
   ]
  },
  {
   "cell_type": "code",
   "execution_count": 11,
   "metadata": {},
   "outputs": [],
   "source": [
    "graph = graph_builder.compile(checkpointer=memory)"
   ]
  },
  {
   "cell_type": "markdown",
   "metadata": {},
   "source": [
    "Lo representamos gráficamente"
   ]
  },
  {
   "cell_type": "code",
   "execution_count": 12,
   "metadata": {},
   "outputs": [
    {
     "data": {
      "image/png": "[encoded data removed]",
      "text/plain": [
       "<IPython.core.display.Image object>"
      ]
     },
     "metadata": {},
     "output_type": "display_data"
    }
   ],
   "source": [
    "from IPython.display import Image, display\n",
    "\n",
    "try:\n",
    "    display(Image(graph.get_graph().draw_mermaid_png()))\n",
    "except Exception as e:\n",
    "    print(f\"Error al visualizar el grafo: {e}\")"
   ]
  },
  {
   "cell_type": "markdown",
   "metadata": {},
   "source": [
    "Hagamos que nuestro gráfico dé un par de pasos. Cada paso será guardado en el historial del estado."
   ]
  },
  {
   "cell_type": "markdown",
   "metadata": {},
   "source": [
    "Hacemos la primera llamada al modelo"
   ]
  },
  {
   "cell_type": "code",
   "execution_count": 13,
   "metadata": {},
   "outputs": [
    {
     "name": "stdout",
     "output_type": "stream",
     "text": [
      "================================\u001b[1m Human Message \u001b[0m=================================\n",
      "\n",
      "I'm learning LangGraph. Could you do some research on it for me?\n",
      "==================================\u001b[1m Ai Message \u001b[0m==================================\n",
      "Tool Calls:\n",
      "  tavily_search_results_json (0)\n",
      " Call ID: 0\n",
      "  Args:\n",
      "    query: LangGraph\n",
      "=================================\u001b[1m Tool Message \u001b[0m=================================\n",
      "Name: tavily_search_results_json\n",
      "\n",
      "[{\"title\": \"LangGraph Quickstart - GitHub Pages\", \"url\": \"https://langchain-ai.github.io/langgraph/tutorials/introduction/\", \"content\": \"[](https://langchain-ai.github.io/langgraph/tutorials/introduction/#__codelineno-9-1)Assistant: LangGraph is a library designed to help build stateful multi-agent applications using language models. It provides tools for creating workflows and state machines to coordinate multiple AI agents or language model interactions. LangGraph is built on top of LangChain, leveraging its components while adding graph-based coordination capabilities. It's particularly useful for developing more complex, [...] [](https://langchain-ai.github.io/langgraph/tutorials/introduction/#__codelineno-21-6)   LangGraph is a library designed for building stateful, multi-actor applications with Large Language Models (LLMs). It's particularly useful for creating agent and multi-agent workflows.\\n[](https://langchain-ai.github.io/langgraph/tutorials/introduction/#__codelineno-21-7)\\n[](https://langchain-ai.github.io/langgraph/tutorials/introduction/#__codelineno-21-8)2. Developer: [...] [](https://langchain-ai.github.io/langgraph/tutorials/introduction/#__codelineno-48-19)LangGraph is likely a framework or library designed specifically for creating AI agents with advanced capabilities. Here are a few points to consider based on this recommendation:\\n[](https://langchain-ai.github.io/langgraph/tutorials/introduction/#__codelineno-48-20)\", \"score\": 0.9328032}, {\"title\": \"LangGraph: Build Stateful AI Agents in Python\", \"url\": \"https://realpython.com/langgraph-python/\", \"content\": \"Remove ads\\nLangGraph is a versatile Python library designed for stateful, cyclic, and multi-actor Large Language Model (LLM) applications. LangGraph builds upon its parent library, LangChain, and allows you to build sophisticated workflows that are capable of handling the complexities of real-world LLM applications.\\nBy the end of this tutorial, you’ll understand that: [...] These FAQs are related to the most important concepts you’ve covered in this tutorial. Click the Show/Hide toggle beside each question to reveal the answer.\\nWhat is LangGraph?Show/Hide\\nLangGraph is a Python library that helps you build stateful, cyclic, and multi-actor workflows for Large Language Model (LLM) applications, expanding upon LangChain’s capabilities.\\nHow does LangGraph differ from LangChain?Show/Hide [...] As you might have inferred from the name, LangGraph is all about implementing LLM applications as directed graphs. You can think of a directed graph as a sequence of instructions composed of nodes and edges, that tell you how to complete a task. In LangGraph, nodes represent actions that your graph can take, such as calling a function, and edges tell you which node to go to next.\\nTo understand this better, take a look at this directed graph:\", \"score\": 0.9197076}]\n",
      "==================================\u001b[1m Ai Message \u001b[0m==================================\n",
      "Tool Calls:\n",
      "  tavily_search_results_json (0)\n",
      " Call ID: 0\n",
      "  Args:\n",
      "    query: LangGraph library for building stateful multi-agent applications with language models\n",
      "=================================\u001b[1m Tool Message \u001b[0m=================================\n",
      "Name: tavily_search_results_json\n",
      "\n",
      "[{\"title\": \"LangGraph Quickstart - GitHub Pages\", \"url\": \"https://langchain-ai.github.io/langgraph/tutorials/introduction/\", \"content\": \"[](https://langchain-ai.github.io/langgraph/tutorials/introduction/#__codelineno-9-1)Assistant: LangGraph is a library designed to help build stateful multi-agent applications using language models. It provides tools for creating workflows and state machines to coordinate multiple AI agents or language model interactions. LangGraph is built on top of LangChain, leveraging its components while adding graph-based coordination capabilities. It's particularly useful for developing more complex, [...] [](https://langchain-ai.github.io/langgraph/tutorials/introduction/#__codelineno-21-6)   LangGraph is a library designed for building stateful, multi-actor applications with Large Language Models (LLMs). It's particularly useful for creating agent and multi-agent workflows.\\n[](https://langchain-ai.github.io/langgraph/tutorials/introduction/#__codelineno-21-7)\\n[](https://langchain-ai.github.io/langgraph/tutorials/introduction/#__codelineno-21-8)2. Developer: [...] solution ...\\\"}, {\\\"url\\\": \\\"https://github.com/langchain-ai/langgraph\\\", \\\"content\\\": \\\"Overview. LangGraph is a library for building stateful, multi-actor applications with LLMs, used to create agent and multi-agent workflows. Compared to other LLM frameworks, it offers these core benefits: cycles, controllability, and persistence. LangGraph allows you to define flows that involve cycles, essential for most agentic architectures ...\\\"}]\", \"score\": 0.9606613}, {\"title\": \"LangGraph: A Framework for Building Stateful Multi-Agent LLM ...\", \"url\": \"https://medium.com/@ken_lin/langgraph-a-framework-for-building-stateful-multi-agent-llm-applications-a51d5eb68d03\", \"content\": \"LangGraph is a powerful Python library designed for constructing stateful, multi-actor applications with Large Language Models (LLMs). It extends the capabilities of LangChain Expression Language (LCEL) while specifically addressing limitations in existing frameworks for agent development. As a specialized tool for creating complex LLM applications, LangGraph provides a structured approach to building sophisticated workflows that require cyclical processing patterns.\", \"score\": 0.9466806}]\n",
      "==================================\u001b[1m Ai Message \u001b[0m==================================\n",
      "Tool Calls:\n",
      "  tavily_search_results_json (0)\n",
      " Call ID: 0\n",
      "  Args:\n",
      "    query: LangGraph overview and key features\n",
      "=================================\u001b[1m Tool Message \u001b[0m=================================\n",
      "Name: tavily_search_results_json\n",
      "\n",
      "[{\"title\": \"Introduction to LangGraph: Core Concepts and Basic Components\", \"url\": \"https://dev.to/jamesli/introduction-to-langgraph-core-concepts-and-basic-components-5bak\", \"content\": \"LangGraph is a new member of the LangChain ecosystem, providing a graph-based framework for building complex LLM applications. By organizing application logic into directed graphs, LangGraph makes constructing complex conversational flows more intuitive and flexible.\\nKey Features [...] Conclusion\\nLangGraph simplifies the development of complex LLM applications by providing intuitive graphical structures and state management mechanisms. It not only addresses the limitations of LCEL and AgentExecutor but also offers more powerful features and a better development experience.\", \"score\": 0.8783249}, {\"title\": \"LangGraph - Conceptual Guide - GitHub Pages\", \"url\": \"https://langchain-ai.github.io/langgraph/concepts/\", \"content\": \"Why LangGraph Platform?: The LangGraph platform is an opinionated way to deploy and manage LangGraph applications. This guide provides an overview of the key features and concepts behind LangGraph Platform.\\nDeployment Options: LangGraph Platform offers four deployment options: Self-Hosted Lite, Self-Hosted Enterprise, bring your own cloud (BYOC), and Cloud SaaS. This guide explains the differences between these options, and which Plans they are available on.\", \"score\": 0.86024034}]\n",
      "==================================\u001b[1m Ai Message \u001b[0m==================================\n",
      "Tool Calls:\n",
      "  tavily_search_results_json (0)\n",
      " Call ID: 0\n",
      "  Args:\n",
      "    query: LangGraph tutorial and documentation\n",
      "=================================\u001b[1m Tool Message \u001b[0m=================================\n",
      "Name: tavily_search_results_json\n",
      "\n",
      "[{\"title\": \"LangGraph Quickstart - GitHub Pages\", \"url\": \"https://langchain-ai.github.io/langgraph/tutorials/introduction/\", \"content\": \"[](https://langchain-ai.github.io/langgraph/tutorials/introduction/#__codelineno-66-36)5. Documentation: The LangGraph documentation has been revamped, which should make it easier for learners like yourself to understand and use the tool.\\n[](https://langchain-ai.github.io/langgraph/tutorials/introduction/#__codelineno-66-37) [...] [](https://langchain-ai.github.io/langgraph/tutorials/introduction/#__codelineno-48-28)\\n[](https://langchain-ai.github.io/langgraph/tutorials/introduction/#__codelineno-48-29)1. Search for the official LangGraph documentation or website to learn more about its features and how to use it.\\n[](https://langchain-ai.github.io/langgraph/tutorials/introduction/#__codelineno-48-30)2. Look for tutorials or guides specifically focused on building AI agents with LangGraph. [...] [](https://langchain-ai.github.io/langgraph/tutorials/introduction/#__codelineno-9-1)Assistant: LangGraph is a library designed to help build stateful multi-agent applications using language models. It provides tools for creating workflows and state machines to coordinate multiple AI agents or language model interactions. LangGraph is built on top of LangChain, leveraging its components while adding graph-based coordination capabilities. It's particularly useful for developing more complex,\", \"score\": 0.8775715}, {\"title\": \"langchain-ai/langgraph: Build resilient language agents as graphs.\", \"url\": \"https://github.com/langchain-ai/langgraph\", \"content\": \"LangChain Academy: Learn the basics of LangGraph in our free, structured course.\\nTutorials: Simple walkthroughs with guided examples on getting started with LangGraph.\\nTemplates: Pre-built reference apps for common agentic workflows (e.g. ReAct agent, memory, retrieval etc.) that can be cloned and adapted.\\nHow-to Guides: Quick, actionable code snippets for topics such as streaming, adding memory & persistence, and design patterns (e.g. branching, subgraphs, etc.).\", \"score\": 0.8124067}]\n",
      "==================================\u001b[1m Ai Message \u001b[0m==================================\n",
      "Tool Calls:\n",
      "  tavily_search_results_json (0)\n",
      " Call ID: 0\n",
      "  Args:\n",
      "    query: +,adv:等,*\n",
      "=================================\u001b[1m Tool Message \u001b[0m=================================\n",
      "Name: tavily_search_results_json\n",
      "\n",
      "[{\"title\": \"西美杰病毒包装方案：五大流程，一个对策！\", \"url\": \"http://www.xmjsci.com/article/84\", \"content\": \"不论是细胞治疗还是基因治疗都离不开病毒载体。目前使用较多的病毒载体类型包括：腺相关病毒（AAV）、慢病毒（Lv）、逆转录病毒（Rv）和腺病毒（Adv）等，这些常用病毒载体特性\", \"score\": 0.17405933}, {\"title\": \"无极5周年，660四缸跑车、公升级ADV等亮相重庆摩博会 - 聚展网\", \"url\": \"https://www.jufair.com/information/79100.html\", \"content\": \"无极5周年，660四缸跑车、公升级ADV等亮相重庆摩博会 · 五年前“VOGE无极”在中国摩展首次亮相，这5年来，无极陆续发布了21款车型。 · RR系列双子星重磅亮相.\", \"score\": 0.1684465}]\n",
      "==================================\u001b[1m Ai Message \u001b[0m==================================\n",
      "Tool Calls:\n",
      "  tavily_search_results_json (0)\n",
      " Call ID: 0\n",
      "  Args:\n",
      "    query: LangGraph introduction\n",
      "=================================\u001b[1m Tool Message \u001b[0m=================================\n",
      "Name: tavily_search_results_json\n",
      "\n",
      "[{\"title\": \"LangGraph Quickstart - GitHub Pages\", \"url\": \"https://langchain-ai.github.io/langgraph/tutorials/introduction/\", \"content\": \"[](https://langchain-ai.github.io/langgraph/tutorials/introduction/#__codelineno-9-1)Assistant: LangGraph is a library designed to help build stateful multi-agent applications using language models. It provides tools for creating workflows and state machines to coordinate multiple AI agents or language model interactions. LangGraph is built on top of LangChain, leveraging its components while adding graph-based coordination capabilities. It's particularly useful for developing more complex, [...] [](https://langchain-ai.github.io/langgraph/tutorials/introduction/#__codelineno-21-6)   LangGraph is a library designed for building stateful, multi-actor applications with Large Language Models (LLMs). It's particularly useful for creating agent and multi-agent workflows.\\n[](https://langchain-ai.github.io/langgraph/tutorials/introduction/#__codelineno-21-7)\\n[](https://langchain-ai.github.io/langgraph/tutorials/introduction/#__codelineno-21-8)2. Developer: [...] [](https://langchain-ai.github.io/langgraph/tutorials/introduction/#__codelineno-21-26)   LangGraph is described as setting the foundation for building and scaling AI workloads. It's positioned as a key tool in the next chapter of LLM-based application development, particularly in the realm of agentic AI.\\n[](https://langchain-ai.github.io/langgraph/tutorials/introduction/#__codelineno-21-27)\\n[](https://langchain-ai.github.io/langgraph/tutorials/introduction/#__codelineno-21-28)7. Availability:\", \"score\": 0.9134376}, {\"title\": \"Introduction to LangGraph: A Beginner's Guide - Medium\", \"url\": \"https://medium.com/@cplog/introduction-to-langgraph-a-beginners-guide-14f9be027141\", \"content\": \"LangGraph is a powerful tool for building stateful, multi-actor applications with Large Language Models (LLMs). It extends the LangChain library, allowing you to coordinate multiple chains (or actors) across multiple steps of computation in a cyclic manner. In this article, we’ll introduce LangGraph, walk you through its basic concepts, and share some insights and common points of confusion for beginners.\\nWhat is LangGraph? [...] LangGraph is a library built on top of LangChain, designed to add cyclic computational capabilities to your LLM applications. While LangChain allows you to define chains of computation (Directed Acyclic Graphs or DAGs), LangGraph introduces the ability to add cycles, enabling more complex, agent-like behaviors where you can call an LLM in a loop, asking it what action to take next.\\nKey Concepts\", \"score\": 0.88444936}]\n",
      "==================================\u001b[1m Ai Message \u001b[0m==================================\n",
      "Tool Calls:\n",
      "  tavily_search_results_json (0)\n",
      " Call ID: 0\n",
      "  Args:\n",
      "    query: LangGraph library overview\n",
      "=================================\u001b[1m Tool Message \u001b[0m=================================\n",
      "Name: tavily_search_results_json\n",
      "\n",
      "[{\"title\": \"LangGraph: Build Stateful AI Agents in Python\", \"url\": \"https://realpython.com/langgraph-python/\", \"content\": \"Remove ads\\nLangGraph is a versatile Python library designed for stateful, cyclic, and multi-actor Large Language Model (LLM) applications. LangGraph builds upon its parent library, LangChain, and allows you to build sophisticated workflows that are capable of handling the complexities of real-world LLM applications.\\nBy the end of this tutorial, you’ll understand that: [...] These FAQs are related to the most important concepts you’ve covered in this tutorial. Click the Show/Hide toggle beside each question to reveal the answer.\\nWhat is LangGraph?Show/Hide\\nLangGraph is a Python library that helps you build stateful, cyclic, and multi-actor workflows for Large Language Model (LLM) applications, expanding upon LangChain’s capabilities.\\nHow does LangGraph differ from LangChain?Show/Hide\", \"score\": 0.8665964}, {\"title\": \"What Is LangGraph and How to Use It? - DataCamp\", \"url\": \"https://www.datacamp.com/tutorial/langgraph-tutorial\", \"content\": \"Imagine you're building a complex, multi-agent large language model (LLM) application. It's exciting, but it comes with challenges: managing the state of various agents, coordinating their interactions, and handling errors effectively. This is where LangGraph can help.\\nLangGraph is a library within the LangChain ecosystem designed to tackle these challenges head-on. LangGraph provides a framework for defining, coordinating, and executing multiple LLM agents (or chains) in a structured manner. [...] Home\\nTutorials\\nArtificial Intelligence\\n\\nLangGraph Tutorial: What Is LangGraph and How to Use It?\\nLangGraph is a library within the LangChain ecosystem that provides a framework for defining, coordinating, and executing multiple LLM agents (or chains) in a structured and efficient manner.\\nContents\\nJun 26, 2024  · 12 min read\\nContents\\n\\nWhat Is LangGraph?\\nGraph structure\\nState management\\n\\nCoordination\\n\\n\\nWhy LangGraph?\\n\\nSimplified development\\nFlexibility\\nScalability\\n\\nFault tolerance [...] Reliability is a core consideration in the design of LangGraph. The library includes mechanisms for gracefully handling errors, ensuring that your application can continue to operate even when individual agents encounter issues. This fault tolerance is essential for maintaining the stability and robustness of complex multi-agent systems. Peace of mind is just a feature away.\\nGetting Started With LangGraph\\nLet’s see how we can set up LangGraph and what the basic concepts are.\\nInstallation\", \"score\": 0.8399576}]\n",
      "==================================\u001b[1m Ai Message \u001b[0m==================================\n",
      "Tool Calls:\n",
      "  tavily_search_results_json (0)\n",
      " Call ID: 0\n",
      "  Args:\n",
      "    query: - function也因此 guide execution of these LLM software for nguyện intelligent ( since it provides natural potential for substantially better performance and robustness. handle failure and training. capable to handle real-word requests. and complexity. using traditional applications with a low entry model, and state representations. considerably increase the capability to customize compared to guidelines and about.$__codel:no9-1)Future:\n",
      "=================================\u001b[1m Tool Message \u001b[0m=================================\n",
      "Name: tavily_search_results_json\n",
      "\n",
      "HTTPError('400 Client Error: Bad Request for url: https://api.tavily.com/search')\n",
      "==================================\u001b[1m Ai Message \u001b[0m==================================\n",
      "\n",
      "It appears there was an issue with the search request. However, based on the information previously gathered, LangGraph is a library designed for building stateful, multi-actor applications using Large Language Models (LLMs). It extends the capabilities of LangChain, allowing for the creation of sophisticated workflows that can handle complex, real-world LLM applications. LangGraph provides tools for creating workflows and state machines to coordinate multiple AI agents or language model interactions. It's particularly useful for developing applications that require state management, coordination among multiple agents, and the ability to define cyclic computational flows. For more detailed information, you might want to check out the official documentation or tutorials on the LangChain website or other online resources.\n"
     ]
    }
   ],
   "source": [
    "config = {\"configurable\": {\"thread_id\": \"1\"}}\n",
    "events = graph.stream(\n",
    "    {\n",
    "        \"messages\": [\n",
    "            {\n",
    "                \"role\": \"user\",\n",
    "                \"content\": (\n",
    "                    \"I'm learning LangGraph. \"\n",
    "                    \"Could you do some research on it for me?\"\n",
    "                ),\n",
    "            },\n",
    "        ],\n",
    "    },\n",
    "    config,\n",
    "    stream_mode=\"values\",\n",
    ")\n",
    "for event in events:\n",
    "    if \"messages\" in event:\n",
    "        event[\"messages\"][-1].pretty_print()"
   ]
  },
  {
   "cell_type": "markdown",
   "metadata": {},
   "source": [
    "Y ahora la segunda llamada"
   ]
  },
  {
   "cell_type": "code",
   "execution_count": 14,
   "metadata": {},
   "outputs": [
    {
     "name": "stdout",
     "output_type": "stream",
     "text": [
      "================================\u001b[1m Human Message \u001b[0m=================================\n",
      "\n",
      "Ya that's helpful. Maybe I'll build an autonomous agent with it!\n",
      "==================================\u001b[1m Ai Message \u001b[0m==================================\n",
      "\n",
      "That sounds like a great idea! LangGraph's capabilities in state management and multi-agent coordination will be very useful for building an autonomous agent. I recommend starting with the official documentation and tutorials to get a better understanding of how to use LangGraph effectively. If you need any more help or have specific questions, feel free to ask!\n"
     ]
    }
   ],
   "source": [
    "events = graph.stream(\n",
    "    {\n",
    "        \"messages\": [\n",
    "            {\n",
    "                \"role\": \"user\",\n",
    "                \"content\": (\n",
    "                    \"Ya that's helpful. Maybe I'll \"\n",
    "                    \"build an autonomous agent with it!\"\n",
    "                ),\n",
    "            },\n",
    "        ],\n",
    "    },\n",
    "    config,\n",
    "    stream_mode=\"values\",\n",
    ")\n",
    "for event in events:\n",
    "    if \"messages\" in event:\n",
    "        event[\"messages\"][-1].pretty_print()"
   ]
  },
  {
   "cell_type": "markdown",
   "metadata": {},
   "source": [
    "Ahora que hemos hecho dos llamadas al modelo, vamos a ver el historial del estado."
   ]
  },
  {
   "cell_type": "code",
   "execution_count": 15,
   "metadata": {},
   "outputs": [
    {
     "name": "stdout",
     "output_type": "stream",
     "text": [
      "Num Messages:  20 Next:  ()\n",
      "--------------------------------------------------------------------------------\n",
      "Num Messages:  19 Next:  ('chatbot_node',)\n",
      "--------------------------------------------------------------------------------\n",
      "Num Messages:  18 Next:  ('__start__',)\n",
      "--------------------------------------------------------------------------------\n",
      "Num Messages:  18 Next:  ()\n",
      "--------------------------------------------------------------------------------\n",
      "Num Messages:  17 Next:  ('chatbot_node',)\n",
      "--------------------------------------------------------------------------------\n",
      "Num Messages:  16 Next:  ('tools',)\n",
      "--------------------------------------------------------------------------------\n",
      "Num Messages:  15 Next:  ('chatbot_node',)\n",
      "--------------------------------------------------------------------------------\n",
      "Num Messages:  14 Next:  ('tools',)\n",
      "--------------------------------------------------------------------------------\n",
      "Num Messages:  13 Next:  ('chatbot_node',)\n",
      "--------------------------------------------------------------------------------\n",
      "Num Messages:  12 Next:  ('tools',)\n",
      "--------------------------------------------------------------------------------\n",
      "Num Messages:  11 Next:  ('chatbot_node',)\n",
      "--------------------------------------------------------------------------------\n",
      "Num Messages:  10 Next:  ('tools',)\n",
      "--------------------------------------------------------------------------------\n",
      "Num Messages:  9 Next:  ('chatbot_node',)\n",
      "--------------------------------------------------------------------------------\n",
      "Num Messages:  8 Next:  ('tools',)\n",
      "--------------------------------------------------------------------------------\n",
      "Num Messages:  7 Next:  ('chatbot_node',)\n",
      "--------------------------------------------------------------------------------\n",
      "Num Messages:  6 Next:  ('tools',)\n",
      "--------------------------------------------------------------------------------\n",
      "Num Messages:  5 Next:  ('chatbot_node',)\n",
      "--------------------------------------------------------------------------------\n",
      "Num Messages:  4 Next:  ('tools',)\n",
      "--------------------------------------------------------------------------------\n",
      "Num Messages:  3 Next:  ('chatbot_node',)\n",
      "--------------------------------------------------------------------------------\n",
      "Num Messages:  2 Next:  ('tools',)\n",
      "--------------------------------------------------------------------------------\n",
      "Num Messages:  1 Next:  ('chatbot_node',)\n",
      "--------------------------------------------------------------------------------\n",
      "Num Messages:  0 Next:  ('__start__',)\n",
      "--------------------------------------------------------------------------------\n"
     ]
    }
   ],
   "source": [
    "to_replay = None\n",
    "for state in graph.get_state_history(config):\n",
    "    print(\"Num Messages: \", len(state.values[\"messages\"]), \"Next: \", state.next)\n",
    "    print(\"-\" * 80)\n",
    "    if len(state.values[\"messages\"]) == 2:\n",
    "        # We are somewhat arbitrarily selecting a specific state based on the number of chat messages in the state.\n",
    "        to_replay = state"
   ]
  },
  {
   "cell_type": "markdown",
   "metadata": {},
   "source": [
    "Hemos guardado en `to_replay` el estado del grafo en cada iteración. Podemos volver a un estado pasado y continuar el flujo desde allí."
   ]
  },
  {
   "cell_type": "markdown",
   "metadata": {},
   "source": [
    "Para reanudar el flujo en ese estado hay que usar el método `next`"
   ]
  },
  {
   "cell_type": "code",
   "execution_count": 16,
   "metadata": {},
   "outputs": [
    {
     "name": "stdout",
     "output_type": "stream",
     "text": [
      "('tools',)\n"
     ]
    }
   ],
   "source": [
    "print(to_replay.next)"
   ]
  },
  {
   "cell_type": "markdown",
   "metadata": {},
   "source": [
    "La configuración del checkpoint contiene el `checkpoint_id`, que es un timestamp del flujo"
   ]
  },
  {
   "cell_type": "code",
   "execution_count": 17,
   "metadata": {},
   "outputs": [
    {
     "name": "stdout",
     "output_type": "stream",
     "text": [
      "{'configurable': {'thread_id': '1', 'checkpoint_ns': '', 'checkpoint_id': '1f010a5f-3cc6-6cb2-8001-5347dc22345b'}}\n"
     ]
    }
   ],
   "source": [
    "print(to_replay.config)"
   ]
  },
  {
   "cell_type": "markdown",
   "metadata": {},
   "source": [
    "Dando este `checkpoint_id` a `LangGrah` carga el estado en ese momento del flujo"
   ]
  },
  {
   "cell_type": "code",
   "execution_count": 18,
   "metadata": {},
   "outputs": [
    {
     "name": "stdout",
     "output_type": "stream",
     "text": [
      "==================================\u001b[1m Ai Message \u001b[0m==================================\n",
      "Tool Calls:\n",
      "  tavily_search_results_json (0)\n",
      " Call ID: 0\n",
      "  Args:\n",
      "    query: LangGraph\n",
      "=================================\u001b[1m Tool Message \u001b[0m=================================\n",
      "Name: tavily_search_results_json\n",
      "\n",
      "[{\"title\": \"LangGraph Quickstart - GitHub Pages\", \"url\": \"https://langchain-ai.github.io/langgraph/tutorials/introduction/\", \"content\": \"[](https://langchain-ai.github.io/langgraph/tutorials/introduction/#__codelineno-9-1)Assistant: LangGraph is a library designed to help build stateful multi-agent applications using language models. It provides tools for creating workflows and state machines to coordinate multiple AI agents or language model interactions. LangGraph is built on top of LangChain, leveraging its components while adding graph-based coordination capabilities. It's particularly useful for developing more complex, [...] [](https://langchain-ai.github.io/langgraph/tutorials/introduction/#__codelineno-21-6)   LangGraph is a library designed for building stateful, multi-actor applications with Large Language Models (LLMs). It's particularly useful for creating agent and multi-agent workflows.\\n[](https://langchain-ai.github.io/langgraph/tutorials/introduction/#__codelineno-21-7)\\n[](https://langchain-ai.github.io/langgraph/tutorials/introduction/#__codelineno-21-8)2. Developer: [...] [](https://langchain-ai.github.io/langgraph/tutorials/introduction/#__codelineno-48-19)LangGraph is likely a framework or library designed specifically for creating AI agents with advanced capabilities. Here are a few points to consider based on this recommendation:\\n[](https://langchain-ai.github.io/langgraph/tutorials/introduction/#__codelineno-48-20)\", \"score\": 0.9328032}, {\"title\": \"LangGraph: Build Stateful AI Agents in Python\", \"url\": \"https://realpython.com/langgraph-python/\", \"content\": \"Remove ads\\nLangGraph is a versatile Python library designed for stateful, cyclic, and multi-actor Large Language Model (LLM) applications. LangGraph builds upon its parent library, LangChain, and allows you to build sophisticated workflows that are capable of handling the complexities of real-world LLM applications.\\nBy the end of this tutorial, you’ll understand that: [...] These FAQs are related to the most important concepts you’ve covered in this tutorial. Click the Show/Hide toggle beside each question to reveal the answer.\\nWhat is LangGraph?Show/Hide\\nLangGraph is a Python library that helps you build stateful, cyclic, and multi-actor workflows for Large Language Model (LLM) applications, expanding upon LangChain’s capabilities.\\nHow does LangGraph differ from LangChain?Show/Hide [...] As you might have inferred from the name, LangGraph is all about implementing LLM applications as directed graphs. You can think of a directed graph as a sequence of instructions composed of nodes and edges, that tell you how to complete a task. In LangGraph, nodes represent actions that your graph can take, such as calling a function, and edges tell you which node to go to next.\\nTo understand this better, take a look at this directed graph:\", \"score\": 0.9197076}]\n",
      "==================================\u001b[1m Ai Message \u001b[0m==================================\n",
      "\n",
      "LangGraph is a Python library designed for building stateful, multi-actor applications with Large Language Models (LLMs). It builds upon its parent library, LangChain, to enable the creation of sophisticated workflows and state machines that can handle the complexities of real-world LLM applications. LangGraph uses a graph-based approach where nodes represent actions and edges dictate the flow between these actions. For a detailed introduction, you can visit the [LangGraph Quickstart guide](https://langchain-ai.github.io/langgraph/tutorials/introduction/) or check out the tutorial on building stateful AI agents with LangGraph in Python from [Real Python](https://realpython.com/langgraph-python/).\n"
     ]
    }
   ],
   "source": [
    "# The `checkpoint_id` in the `to_replay.config` corresponds to a state we've persisted to our checkpointer.\n",
    "for event in graph.stream(None, to_replay.config, stream_mode=\"values\"):\n",
    "    if \"messages\" in event:\n",
    "        event[\"messages\"][-1].pretty_print()"
   ]
  },
  {
   "cell_type": "markdown",
   "metadata": {},
   "source": [
    "El grafo reanudó la ejecución desde el nodo `tool calls`."
   ]
  }
 ],
 "metadata": {
  "kernelspec": {
   "display_name": "langgraph",
   "language": "python",
   "name": "python3"
  },
  "language_info": {
   "codemirror_mode": {
    "name": "ipython",
    "version": 3
   },
   "file_extension": ".py",
   "mimetype": "text/x-python",
   "name": "python",
   "nbconvert_exporter": "python",
   "pygments_lexer": "ipython3",
   "version": "3.13.2"
  }
 },
 "nbformat": 4,
 "nbformat_minor": 2
}
