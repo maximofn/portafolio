{
 "cells": [
  {
   "cell_type": "code",
   "execution_count": 1,
   "metadata": {},
   "outputs": [],
   "source": [
    "from mlx_lm import load, generate"
   ]
  },
  {
   "cell_type": "code",
   "execution_count": 2,
   "metadata": {},
   "outputs": [
    {
     "data": {
      "application/vnd.jupyter.widget-view+json": {
       "model_id": "f6bc03449d6f436eb3f2407e20836260",
       "version_major": 2,
       "version_minor": 0
      },
      "text/plain": [
       "Fetching 8 files:   0%|          | 0/8 [00:00<?, ?it/s]"
      ]
     },
     "metadata": {},
     "output_type": "display_data"
    }
   ],
   "source": [
    "model, tokenizer = load(\"lmstudio-community/Qwen3-14B-MLX-4bit\")"
   ]
  },
  {
   "cell_type": "code",
   "execution_count": 3,
   "metadata": {},
   "outputs": [],
   "source": [
    "prompt = \"Make me a python script that prints 'Hello, world!'\""
   ]
  },
  {
   "cell_type": "code",
   "execution_count": 4,
   "metadata": {},
   "outputs": [],
   "source": [
    "if tokenizer.chat_template is not None:\n",
    "    messages = [{\"role\": \"user\", \"content\": prompt}]\n",
    "    prompt = tokenizer.apply_chat_template(\n",
    "        messages, add_generation_prompt=True\n",
    "    )"
   ]
  },
  {
   "cell_type": "code",
   "execution_count": 5,
   "metadata": {},
   "outputs": [
    {
     "name": "stdout",
     "output_type": "stream",
     "text": [
      "==========\n",
      "<think>\n",
      "Okay, the user wants a Python script that prints 'Hello, world!'. Let me think. First, I need to remember the basic syntax for print in Python. Oh right, the print function. So the simplest way is to use print(\"Hello, world!\"). But wait, maybe they want it in a script format. So I should write a .py file. Let me check the exact syntax.\n",
      "\n",
      "Wait, in Python 3, print is a function, so parentheses are needed. So the correct line is print(\"Hello, world!\"). Then, the script would just have that line. But maybe they want some comments or structure? The user didn't specify, so probably just the minimal script.\n",
      "\n",
      "So the steps are: create a Python file, write the print statement. Then, when run, it outputs Hello, world. Let me make sure there are no typos. The string should be in quotes, and the exclamation mark is there. Also, check if the user wants any specific formatting, but the question is straightforward. So the answer is a simple script with that line. I'll present it as a code block with the correct syntax.\n",
      "</think>\n",
      "\n",
      "Here's a simple Python script that prints \"Hello, world!\":\n",
      "\n",
      "```python\n",
      "==========\n",
      "Prompt: 20 tokens, 15.382 tokens-per-sec\n",
      "Generation: 256 tokens, 5.295 tokens-per-sec\n",
      "Peak memory: 8.417 GB\n"
     ]
    }
   ],
   "source": [
    "response = generate(model, tokenizer, prompt=prompt, verbose=True)"
   ]
  }
 ],
 "metadata": {
  "kernelspec": {
   "display_name": "mlx",
   "language": "python",
   "name": "python3"
  },
  "language_info": {
   "codemirror_mode": {
    "name": "ipython",
    "version": 3
   },
   "file_extension": ".py",
   "mimetype": "text/x-python",
   "name": "python",
   "nbconvert_exporter": "python",
   "pygments_lexer": "ipython3",
   "version": "3.13.3"
  }
 },
 "nbformat": 4,
 "nbformat_minor": 2
}
