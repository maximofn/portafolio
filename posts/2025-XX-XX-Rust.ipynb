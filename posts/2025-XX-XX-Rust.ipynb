{
 "cells": [
  {
   "cell_type": "markdown",
   "metadata": {},
   "source": [
    "# Rust"
   ]
  },
  {
   "cell_type": "markdown",
   "metadata": {},
   "source": [
    "## Instalar"
   ]
  },
  {
   "cell_type": "markdown",
   "metadata": {},
   "source": [
    "Para ver cómo instalar Rust lo mejor es visitar la página [Install Rust](https://www.rust-lang.org/tools/install). A la hora de escribir este post, la forma de instalarlo es:\n",
    "\n",
    "```bash\n",
    "curl --proto '=https' --tlsv1.2 -sSf https://sh.rustup.rs | sh\n",
    "```"
   ]
  },
  {
   "cell_type": "markdown",
   "metadata": {},
   "source": [
    "Una vez instalado podemos comprobar si se ha instalado bien con los siguientes comandos:"
   ]
  },
  {
   "cell_type": "code",
   "execution_count": 1,
   "metadata": {},
   "outputs": [
    {
     "name": "stdout",
     "output_type": "stream",
     "text": [
      "rustc 1.83.0 (90b35a623 2024-11-26)\n"
     ]
    }
   ],
   "source": [
    "!rustc --version"
   ]
  },
  {
   "cell_type": "code",
   "execution_count": 2,
   "metadata": {},
   "outputs": [
    {
     "name": "stdout",
     "output_type": "stream",
     "text": [
      "cargo 1.83.0 (5ffbef321 2024-10-29)\n"
     ]
    }
   ],
   "source": [
    "!cargo --version"
   ]
  },
  {
   "cell_type": "markdown",
   "metadata": {},
   "source": [
    "## Carpeta para el código"
   ]
  },
  {
   "cell_type": "markdown",
   "metadata": {},
   "source": [
    "Vamos a crear una carpeta para dejar todo el código que vamos a escribir"
   ]
  },
  {
   "cell_type": "code",
   "execution_count": 3,
   "metadata": {},
   "outputs": [],
   "source": [
    "!mkdir rust_src"
   ]
  },
  {
   "cell_type": "markdown",
   "metadata": {},
   "source": [
    "## Hola mundo"
   ]
  },
  {
   "cell_type": "markdown",
   "metadata": {},
   "source": [
    "Vamos a hacer nuestro primer proyecto de Rust, un hola mundo. Para ello, lo primero que vamos a hacer es crea un nuevo proyecto"
   ]
  },
  {
   "cell_type": "code",
   "execution_count": 4,
   "metadata": {},
   "outputs": [
    {
     "name": "stdout",
     "output_type": "stream",
     "text": [
      "\u001b[1m\u001b[32m    Creating\u001b[0m binary (application) `hello_world` package\n",
      "\u001b[1m\u001b[36mnote\u001b[0m\u001b[1m:\u001b[0m see more `Cargo.toml` keys and their definitions at https://doc.rust-lang.org/cargo/reference/manifest.html\n"
     ]
    }
   ],
   "source": [
    "!cd rust_src && cargo new hello_world"
   ]
  },
  {
   "cell_type": "markdown",
   "metadata": {},
   "source": [
    "Vamos a ver qué se ha creado"
   ]
  },
  {
   "cell_type": "code",
   "execution_count": 5,
   "metadata": {},
   "outputs": [
    {
     "name": "stdout",
     "output_type": "stream",
     "text": [
      "hello_world\n"
     ]
    }
   ],
   "source": [
    "!ls rust_src"
   ]
  },
  {
   "cell_type": "markdown",
   "metadata": {},
   "source": [
    "Se ha creado una carpeta llamada `hello_world`. Ahora vamos a ver qué se ha creado dentro"
   ]
  },
  {
   "cell_type": "code",
   "execution_count": 6,
   "metadata": {},
   "outputs": [
    {
     "name": "stdout",
     "output_type": "stream",
     "text": [
      "Cargo.toml  src\n"
     ]
    }
   ],
   "source": [
    "!ls rust_src/hello_world"
   ]
  },
  {
   "cell_type": "markdown",
   "metadata": {},
   "source": [
    "Se ha creado un archivo llamado `Cargo.toml` y una carpeta llamada `src`. El archivo `Cargo.toml` es el archivo de manifiesto de Rust. Es dónde se guardan todas las dependencias y metadata de nuestro proyecto. Vamos a ver qué tiene"
   ]
  },
  {
   "cell_type": "code",
   "execution_count": 7,
   "metadata": {},
   "outputs": [
    {
     "name": "stdout",
     "output_type": "stream",
     "text": [
      "[package]\n",
      "name = \"hello_world\"\n",
      "version = \"0.1.0\"\n",
      "edition = \"2021\"\n",
      "\n",
      "[dependencies]\n"
     ]
    }
   ],
   "source": [
    "!cat rust_src/hello_world/Cargo.toml"
   ]
  },
  {
   "cell_type": "markdown",
   "metadata": {},
   "source": [
    "Como se puede ver tiene los paquetes y las dependencias"
   ]
  },
  {
   "cell_type": "markdown",
   "metadata": {},
   "source": [
    "Ahora vamos a ver qué hay en la carpeta `src`"
   ]
  },
  {
   "cell_type": "code",
   "execution_count": 8,
   "metadata": {},
   "outputs": [
    {
     "name": "stdout",
     "output_type": "stream",
     "text": [
      "main.rs\n"
     ]
    }
   ],
   "source": [
    "!ls rust_src/hello_world/src"
   ]
  },
  {
   "cell_type": "markdown",
   "metadata": {},
   "source": [
    "Está el archivo fuente, `main.rs`. Vamos a ver qué tiene"
   ]
  },
  {
   "cell_type": "code",
   "execution_count": 9,
   "metadata": {},
   "outputs": [
    {
     "name": "stdout",
     "output_type": "stream",
     "text": [
      "fn main() {\n",
      "    println!(\"Hello, world!\");\n",
      "}\n"
     ]
    }
   ],
   "source": [
    "!cat rust_src/hello_world/src/main.rs"
   ]
  },
  {
   "cell_type": "markdown",
   "metadata": {},
   "source": [
    "Simplemente hay una función llamada `main` que imprime `Hello, world!`. Para ejecutar nuestro código hacemos lo siguiente"
   ]
  },
  {
   "cell_type": "code",
   "execution_count": 10,
   "metadata": {},
   "outputs": [
    {
     "name": "stdout",
     "output_type": "stream",
     "text": [
      "\u001b[1m\u001b[32m   Compiling\u001b[0m hello_world v0.1.0 (/home/wallabot/Documentos/web/portafolio/posts/rust_src/hello_world)\n",
      "\u001b[K\u001b[1m\u001b[32m    Finished\u001b[0m `dev` profile [unoptimized + debuginfo] target(s) in 2m 03s   \n",
      "\u001b[1m\u001b[32m     Running\u001b[0m `target/debug/hello_world`\n",
      "Hello, world!\n"
     ]
    }
   ],
   "source": [
    "!cd rust_src/hello_world && cargo run"
   ]
  },
  {
   "cell_type": "markdown",
   "metadata": {},
   "source": [
    "Como se puede ver, se ha compilado el código, se ha construido el ejecutable y se ha ejecutado."
   ]
  },
  {
   "cell_type": "markdown",
   "metadata": {},
   "source": [
    "## Conceptos básicos"
   ]
  },
  {
   "cell_type": "markdown",
   "metadata": {},
   "source": [
    "### Comentarios"
   ]
  },
  {
   "cell_type": "markdown",
   "metadata": {},
   "source": [
    "Una de las utilidades de todos los lenguajes de programación es la de poner comentarios en el código. En Rust los comentarios se ponen con `//`. Modificamos el archivo `main.rs` del Hola mundo y añadimos un comentario\n",
    "\n",
    "``` rust\n",
    "fn main() {\n",
    "    // Print Hello World\n",
    "    println!(\"Hello, world!\");\n",
    "}\n",
    "```"
   ]
  },
  {
   "cell_type": "code",
   "execution_count": 1,
   "metadata": {},
   "outputs": [
    {
     "name": "stdout",
     "output_type": "stream",
     "text": [
      "Overwriting rust_src/hello_world/src/main.rs\n"
     ]
    }
   ],
   "source": [
    "%%writefile rust_src/hello_world/src/main.rs\n",
    "fn main() {\n",
    "    // Print Hello World\n",
    "    println!(\"Hello, world!\");\n",
    "}"
   ]
  },
  {
   "cell_type": "markdown",
   "metadata": {},
   "source": [
    "Comprobamos que se ha escrito bien el comentario"
   ]
  },
  {
   "cell_type": "code",
   "execution_count": 2,
   "metadata": {},
   "outputs": [
    {
     "name": "stdout",
     "output_type": "stream",
     "text": [
      "fn main() {\n",
      "    // Print Hello World\n",
      "    println!(\"Hello, world!\");\n",
      "}\n"
     ]
    }
   ],
   "source": [
    "!cat rust_src/hello_world/src/main.rs"
   ]
  },
  {
   "cell_type": "markdown",
   "metadata": {},
   "source": [
    "Y ahora lo ejecutamos"
   ]
  },
  {
   "cell_type": "code",
   "execution_count": 1,
   "metadata": {},
   "outputs": [
    {
     "name": "stdout",
     "output_type": "stream",
     "text": [
      "\u001b[1m\u001b[32m   Compiling\u001b[0m hello_world v0.1.0 (/home/wallabot/Documentos/web/portafolio/posts/rust_src/hello_world)\n",
      "\u001b[K\u001b[1m\u001b[32m    Finished\u001b[0m `dev` profile [unoptimized + debuginfo] target(s) in 0.30s    \n",
      "\u001b[1m\u001b[32m     Running\u001b[0m `target/debug/hello_world`\n",
      "Hello, world!\n"
     ]
    }
   ],
   "source": [
    "!cd rust_src/hello_world && cargo run"
   ]
  },
  {
   "cell_type": "markdown",
   "metadata": {},
   "source": [
    "Como era de esperar no se ha mostrado el comentario"
   ]
  },
  {
   "cell_type": "markdown",
   "metadata": {},
   "source": [
    "### Variables, mutabilidad y shadowing"
   ]
  },
  {
   "cell_type": "markdown",
   "metadata": {},
   "source": [
    "#### Variables mutables e inmutables"
   ]
  },
  {
   "cell_type": "markdown",
   "metadata": {},
   "source": [
    "En Rust podemos crear variables con `let`. Vamos a crear un nuevo proyecto para verlo"
   ]
  },
  {
   "cell_type": "code",
   "execution_count": 2,
   "metadata": {},
   "outputs": [
    {
     "name": "stdout",
     "output_type": "stream",
     "text": [
      "\u001b[1m\u001b[32m    Creating\u001b[0m binary (application) `variables` package\n",
      "\u001b[1m\u001b[36mnote\u001b[0m\u001b[1m:\u001b[0m see more `Cargo.toml` keys and their definitions at https://doc.rust-lang.org/cargo/reference/manifest.html\n"
     ]
    }
   ],
   "source": [
    "!cd rust_src && cargo new variables"
   ]
  },
  {
   "cell_type": "markdown",
   "metadata": {},
   "source": [
    "Y ahora escribimos el siguiente código\n",
    "\n",
    "``` rust\n",
    "fn main() {\n",
    "    let x = 5;\n",
    "    println!(\"The value of x is: {x}\");\n",
    "    x = 6;\n",
    "    println!(\"The value of x is: {x}\");\n",
    "}\n",
    "```"
   ]
  },
  {
   "cell_type": "code",
   "execution_count": 8,
   "metadata": {},
   "outputs": [
    {
     "name": "stdout",
     "output_type": "stream",
     "text": [
      "Overwriting rust_src/variables/src/main.rs\n"
     ]
    }
   ],
   "source": [
    "%%writefile rust_src/variables/src/main.rs\n",
    "fn main() {\n",
    "    let x = 5;\n",
    "    println!(\"The value of x is: {x}\");\n",
    "    x = 6;\n",
    "    println!(\"The value of x is: {x}\");\n",
    "}"
   ]
  },
  {
   "cell_type": "markdown",
   "metadata": {},
   "source": [
    "Lo ejecutamos para ver qué pasa"
   ]
  },
  {
   "cell_type": "code",
   "execution_count": 9,
   "metadata": {},
   "outputs": [
    {
     "name": "stdout",
     "output_type": "stream",
     "text": [
      "\u001b[1m\u001b[32m   Compiling\u001b[0m variables v0.1.0 (/home/wallabot/Documentos/web/portafolio/posts/rust_src/variables)\n",
      "\u001b[K\u001b[0m\u001b[1m\u001b[38;5;9merror[E0384]\u001b[0m\u001b[0m\u001b[1m: cannot assign twice to immutable variable `x`\u001b[0m\n",
      "\u001b[0m \u001b[0m\u001b[0m\u001b[1m\u001b[38;5;12m--> \u001b[0m\u001b[0msrc/main.rs:4:5\u001b[0m\n",
      "\u001b[0m  \u001b[0m\u001b[0m\u001b[1m\u001b[38;5;12m|\u001b[0m\n",
      "\u001b[0m\u001b[1m\u001b[38;5;12m2\u001b[0m\u001b[0m \u001b[0m\u001b[0m\u001b[1m\u001b[38;5;12m|\u001b[0m\u001b[0m \u001b[0m\u001b[0m    let x = 5;\u001b[0m\n",
      "\u001b[0m  \u001b[0m\u001b[0m\u001b[1m\u001b[38;5;12m|\u001b[0m\u001b[0m         \u001b[0m\u001b[0m\u001b[1m\u001b[38;5;12m-\u001b[0m\u001b[0m \u001b[0m\u001b[0m\u001b[1m\u001b[38;5;12mfirst assignment to `x`\u001b[0m\n",
      "\u001b[0m\u001b[1m\u001b[38;5;12m3\u001b[0m\u001b[0m \u001b[0m\u001b[0m\u001b[1m\u001b[38;5;12m|\u001b[0m\u001b[0m \u001b[0m\u001b[0m    println!(\"The value of x is: {x}\");\u001b[0m\n",
      "\u001b[0m\u001b[1m\u001b[38;5;12m4\u001b[0m\u001b[0m \u001b[0m\u001b[0m\u001b[1m\u001b[38;5;12m|\u001b[0m\u001b[0m \u001b[0m\u001b[0m    x = 6;\u001b[0m\n",
      "\u001b[0m  \u001b[0m\u001b[0m\u001b[1m\u001b[38;5;12m|\u001b[0m\u001b[0m     \u001b[0m\u001b[0m\u001b[1m\u001b[38;5;9m^^^^^\u001b[0m\u001b[0m \u001b[0m\u001b[0m\u001b[1m\u001b[38;5;9mcannot assign twice to immutable variable\u001b[0m\n",
      "\u001b[0m  \u001b[0m\u001b[0m\u001b[1m\u001b[38;5;12m|\u001b[0m\n",
      "\u001b[0m\u001b[1m\u001b[38;5;14mhelp\u001b[0m\u001b[0m: consider making this binding mutable\u001b[0m\n",
      "\u001b[0m  \u001b[0m\u001b[0m\u001b[1m\u001b[38;5;12m|\u001b[0m\n",
      "\u001b[0m\u001b[1m\u001b[38;5;12m2\u001b[0m\u001b[0m \u001b[0m\u001b[0m\u001b[1m\u001b[38;5;12m| \u001b[0m\u001b[0m    let \u001b[0m\u001b[0m\u001b[38;5;10mmut \u001b[0m\u001b[0mx = 5;\u001b[0m\n",
      "\u001b[0m  \u001b[0m\u001b[0m\u001b[1m\u001b[38;5;12m|\u001b[0m\u001b[0m         \u001b[0m\u001b[0m\u001b[38;5;10m+++\u001b[0m\n",
      "\n",
      "\u001b[K\u001b[0m\u001b[1mFor more information about this error, try `rustc --explain E0384`.\u001b[0m         \n",
      "\u001b[K\u001b[1m\u001b[31merror\u001b[0m\u001b[1m:\u001b[0m could not compile `variables` (bin \"variables\") due to 1 previous error\n"
     ]
    }
   ],
   "source": [
    "!cd rust_src/variables && cargo run"
   ]
  },
  {
   "cell_type": "markdown",
   "metadata": {},
   "source": [
    "Nos da un error, nos dice que no podemos modificar una variable inmutable."
   ]
  },
  {
   "cell_type": "markdown",
   "metadata": {},
   "source": [
    "En Rust, por defecto las variables son inmutables. Para hacerlas mutables tenemos que añadir `mut` después de `let`. Vamos a modificar el código para verlo\n",
    "\n",
    "``` rust\n",
    "fn main() {\n",
    "    let mut x = 5;\n",
    "    println!(\"The value of x is: {x}\");\n",
    "    x = 6;\n",
    "    println!(\"The value of x is: {x}\");\n",
    "}\n",
    "```"
   ]
  },
  {
   "cell_type": "code",
   "execution_count": 10,
   "metadata": {},
   "outputs": [
    {
     "name": "stdout",
     "output_type": "stream",
     "text": [
      "Overwriting rust_src/variables/src/main.rs\n"
     ]
    }
   ],
   "source": [
    "%%writefile rust_src/variables/src/main.rs\n",
    "fn main() {\n",
    "    let mut x = 5;\n",
    "    println!(\"The value of x is: {x}\");\n",
    "    x = 6;\n",
    "    println!(\"The value of x is: {x}\");\n",
    "}"
   ]
  },
  {
   "cell_type": "markdown",
   "metadata": {},
   "source": [
    "Lo volvemos a ejecutar"
   ]
  },
  {
   "cell_type": "code",
   "execution_count": 11,
   "metadata": {},
   "outputs": [
    {
     "name": "stdout",
     "output_type": "stream",
     "text": [
      "\u001b[1m\u001b[32m   Compiling\u001b[0m variables v0.1.0 (/home/wallabot/Documentos/web/portafolio/posts/rust_src/variables)\n",
      "\u001b[K\u001b[1m\u001b[32m    Finished\u001b[0m `dev` profile [unoptimized + debuginfo] target(s) in 0.13s    \n",
      "\u001b[1m\u001b[32m     Running\u001b[0m `target/debug/variables`\n",
      "The value of x is: 5\n",
      "The value of x is: 6\n"
     ]
    }
   ],
   "source": [
    "!cd rust_src/variables && cargo run"
   ]
  },
  {
   "cell_type": "markdown",
   "metadata": {},
   "source": [
    "Ahora no nos ha dado ningún error y ha mostrado el valor de `x` correctamente."
   ]
  }
 ],
 "metadata": {
  "kernelspec": {
   "display_name": "base",
   "language": "python",
   "name": "python3"
  },
  "language_info": {
   "codemirror_mode": {
    "name": "ipython",
    "version": 3
   },
   "file_extension": ".py",
   "mimetype": "text/x-python",
   "name": "python",
   "nbconvert_exporter": "python",
   "pygments_lexer": "ipython3",
   "version": "3.10.9"
  }
 },
 "nbformat": 4,
 "nbformat_minor": 2
}
