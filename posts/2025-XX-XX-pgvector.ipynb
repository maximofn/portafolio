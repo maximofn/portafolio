{
 "cells": [
  {
   "cell_type": "markdown",
   "metadata": {},
   "source": [
    "# pgvector"
   ]
  },
  {
   "cell_type": "markdown",
   "metadata": {},
   "source": [
    "pgvector es una extensión de PostgreSQL que permite tener una base de datos vectorial. Por lo que es útil para quién ya tiene una base de datos relacional con PostgreSQL y quiere añadir una base de datos vectorial."
   ]
  },
  {
   "cell_type": "markdown",
   "metadata": {},
   "source": [
    "## Instalación"
   ]
  },
  {
   "cell_type": "markdown",
   "metadata": {},
   "source": [
    "Primero hay que instalar PostgreSQL\n",
    "\n",
    "``` bash\n",
    "sudo apt install -y postgresql-common\n",
    "sudo /usr/share/postgresql-common/pgdg/apt.postgresql.org.sh\n",
    "```"
   ]
  },
  {
   "cell_type": "markdown",
   "metadata": {},
   "source": [
    "Para poder instalar pgvector, primero hay que asegurarse de tener las librerías de desarrolo de PostgreSQL. Para eso hacemos\n",
    "\n",
    "``` bash\n",
    "sudo apt install postgresql-server-dev-all\n",
    "```"
   ]
  },
  {
   "cell_type": "markdown",
   "metadata": {},
   "source": [
    "Ahora instalamos pgvector como se indica en su [repositorio](https://github.com/pgvector/pgvector)\n",
    "\n",
    "``` bash\n",
    "cd /tmp\n",
    "git clone --branch v0.8.0 https://github.com/pgvector/pgvector.git\n",
    "cd pgvector\n",
    "make\n",
    "sudo make install\n",
    "```"
   ]
  },
  {
   "cell_type": "markdown",
   "metadata": {},
   "source": [
    "## Crear base de datos relacional con postgres"
   ]
  },
  {
   "cell_type": "markdown",
   "metadata": {},
   "source": [
    "Para poder usar pgvector, primero hay que crear una base de datos relacional con postgres\n",
    "\n",
    "``` bash\n",
    "sudo -u postgres psql\n",
    "CREATE DATABASE mydb;\n",
    "CREATE USER myuser WITH PASSWORD 'mypassword';\n",
    "GRANT ALL PRIVILEGES ON DATABASE mydb TO myuser;\n",
    "```\n",
    "\n"
   ]
  },
  {
   "cell_type": "code",
   "execution_count": null,
   "metadata": {},
   "outputs": [
    {
     "ename": "",
     "evalue": "",
     "output_type": "error",
     "traceback": [
      "\u001b[1;31mRunning cells with 'miniforge3 (Python 3.12.8)' requires the ipykernel package.\n",
      "\u001b[1;31mRun the following command to install 'ipykernel' into the Python environment. \n",
      "\u001b[1;31mCommand: 'conda install -p /home/maximofernandez/miniforge3 ipykernel --update-deps --force-reinstall'"
     ]
    }
   ],
   "source": [
    "5+2"
   ]
  }
 ],
 "metadata": {
  "kernelspec": {
   "display_name": "Python 3",
   "language": "python",
   "name": "python3"
  },
  "language_info": {
   "name": "python",
   "version": "3.12.8"
  }
 },
 "nbformat": 4,
 "nbformat_minor": 2
}
