{
  "cells": [
    {
      "cell_type": "markdown",
      "metadata": {
        "id": "Ra0u_KtuElkv"
      },
      "source": [
        "# Patrones de agentes"
      ]
    },
    {
      "cell_type": "markdown",
      "metadata": {
        "id": "BIfI_fL6Elkw"
      },
      "source": [
        "En mi post anterior expliqué cómo usar [LangGraph](https://www.maximofn.com/langgraph/) para crear agentes."
      ]
    },
    {
      "cell_type": "code",
      "execution_count": null,
      "metadata": {
        "id": "Lk2GUwLJE4wq"
      },
      "outputs": [],
      "source": [
        "%pip install -U langgraph langchain_anthropic python-dotenv tavily-python langchain_community"
      ]
    },
    {
      "cell_type": "markdown",
      "metadata": {
        "id": "LGEQrOXEElkx"
      },
      "source": [
        "Así que en este vamos a ver los diferentes patrones de agentes que podemos construir y lo haremos con LangGraph."
      ]
    },
    {
      "cell_type": "markdown",
      "metadata": {
        "id": "DNHZ0pr8Elkx"
      },
      "source": [
        " > **Nota**: Vamos a partir desde el modelo más básico que consiste en un chatbot con un LLM hasta llegar a arquitecturas más complejas."
      ]
    },
    {
      "cell_type": "markdown",
      "metadata": {
        "id": "IaBsLZ2WElkx"
      },
      "source": [
        " > **Nota**: Siempre que sea posible, vamos a usar `Qwen2-72B-Instruct` para poder usarlo gratis con Hugging Face."
      ]
    },
    {
      "cell_type": "markdown",
      "metadata": {
        "id": "PB8-bteNElkx"
      },
      "source": [
        "## Respondedor de prompts (chain block)"
      ]
    },
    {
      "cell_type": "markdown",
      "metadata": {
        "id": "TO75MW5JElkx"
      },
      "source": [
        "![chain block](https://images.maximofn.com/agent_patterns_01_chain_block.webp)"
      ]
    },
    {
      "cell_type": "markdown",
      "metadata": {
        "id": "qZv11HFpElkx"
      },
      "source": [
        "Es el modelo más básico, al LLM le entra un prompt y él devuelve una respuesta."
      ]
    },
    {
      "cell_type": "code",
      "execution_count": 3,
      "metadata": {
        "colab": {
          "base_uri": "https://localhost:8080/",
          "height": 251
        },
        "id": "04OQzLCJElkx",
        "outputId": "0126cec6-660a-4c5c-80b2-ccb2a7b0a8ec"
      },
      "outputs": [
        {
          "data": {
            "image/png": "[encoded data removed]",
            "text/plain": [
              "<IPython.core.display.Image object>"
            ]
          },
          "metadata": {},
          "output_type": "display_data"
        }
      ],
      "source": [
        "from typing import Annotated\n",
        "from typing_extensions import TypedDict\n",
        "\n",
        "from langgraph.graph import StateGraph, START, END\n",
        "from langgraph.graph.message import add_messages\n",
        "\n",
        "from langchain_anthropic import ChatAnthropic\n",
        "\n",
        "from IPython.display import Image, display\n",
        "\n",
        "import os\n",
        "os.environ[\"LANGCHAIN_TRACING_V2\"] = \"false\"    # Disable LangSmith tracing\n",
        "\n",
        "import dotenv\n",
        "dotenv.load_dotenv()\n",
        "ANTHROPIC_TOKEN = os.getenv(\"ANTHROPIC_LANGGRAPH_API_KEY\")\n",
        "\n",
        "# State\n",
        "class State(TypedDict):\n",
        "    messages: Annotated[list, add_messages]\n",
        "\n",
        "# Create the LLM model\n",
        "llm = ChatAnthropic(model=\"claude-3-7-sonnet-20250219\", api_key=ANTHROPIC_TOKEN)\n",
        "\n",
        "# Function\n",
        "def chatbot_function(state: State):\n",
        "    return {\"messages\": [llm.invoke(state[\"messages\"])]}\n",
        "\n",
        "# Start to build the graph\n",
        "graph_builder = StateGraph(State)\n",
        "\n",
        "# Add nodes to the graph\n",
        "graph_builder.add_node(\"chatbot_node\", chatbot_function)\n",
        "\n",
        "# Add edges\n",
        "graph_builder.add_edge(START, \"chatbot_node\")\n",
        "graph_builder.add_edge(\"chatbot_node\", END)\n",
        "\n",
        "# Compile the graph\n",
        "graph = graph_builder.compile()\n",
        "\n",
        "# Display the graph\n",
        "try:\n",
        "    display(Image(graph.get_graph().draw_mermaid_png()))\n",
        "except Exception as e:\n",
        "    print(f\"Error al visualizar el grafo: {e}\")"
      ]
    },
    {
      "cell_type": "markdown",
      "metadata": {
        "id": "kCoUlWivElkz"
      },
      "source": [
        "Vamos a probarlo"
      ]
    },
    {
      "cell_type": "code",
      "execution_count": 4,
      "metadata": {
        "colab": {
          "base_uri": "https://localhost:8080/"
        },
        "id": "gGqcq1XJElkz",
        "outputId": "b159d5f4-aa1e-40d8-9582-658580bdaca8"
      },
      "outputs": [
        {
          "name": "stdout",
          "output_type": "stream",
          "text": [
            "==================================\u001b[1m Ai Message \u001b[0m==================================\n",
            "\n",
            "I'm doing well, thank you for asking! How are you today?\n"
          ]
        }
      ],
      "source": [
        "from langchain_core.messages import HumanMessage\n",
        "\n",
        "messages = [HumanMessage(content=\"Hello, how are you?\")]\n",
        "\n",
        "result = graph.invoke({\"messages\": messages})\n",
        "result[\"messages\"][-1].pretty_print()"
      ]
    },
    {
      "cell_type": "markdown",
      "metadata": {
        "id": "XV3gWaKQElkz"
      },
      "source": [
        "## Cadena de bloques (chain of blocks)"
      ]
    },
    {
      "cell_type": "markdown",
      "metadata": {
        "id": "eqYHGjlWElkz"
      },
      "source": [
        "![chain of blocks](https://images.maximofn.com/agent_patterns_02_chain_of_blocks.webp)"
      ]
    },
    {
      "cell_type": "markdown",
      "metadata": {
        "id": "9-0lFzJQElkz"
      },
      "source": [
        "Cuando una tarea se puede dividir en varias subtareas, podemos usar una cadena de bloques. Por ejemplo, si queremos resumir y traducir un texto, podemos hacerlo en dos pasos:"
      ]
    },
    {
      "cell_type": "code",
      "execution_count": 3,
      "metadata": {
        "colab": {
          "base_uri": "https://localhost:8080/",
          "height": 350
        },
        "id": "eqsDdj9RElkz",
        "outputId": "948e14f8-b91c-446d-a78c-ef087f917f75"
      },
      "outputs": [
        {
          "data": {
            "image/png": "[encoded data removed]",
            "text/plain": [
              "<IPython.core.display.Image object>"
            ]
          },
          "metadata": {},
          "output_type": "display_data"
        }
      ],
      "source": [
        "from typing import Annotated\n",
        "from typing_extensions import TypedDict\n",
        "\n",
        "from langgraph.graph import StateGraph, START, END\n",
        "from langgraph.graph.message import add_messages\n",
        "\n",
        "from langchain_anthropic import ChatAnthropic\n",
        "from langchain_core.messages import SystemMessage\n",
        "\n",
        "from IPython.display import Image, display\n",
        "\n",
        "import os\n",
        "os.environ[\"LANGCHAIN_TRACING_V2\"] = \"false\"    # Disable LangSmith tracing\n",
        "\n",
        "import dotenv\n",
        "dotenv.load_dotenv()\n",
        "ANTHROPIC_TOKEN = os.getenv(\"ANTHROPIC_LANGGRAPH_API_KEY\")\n",
        "\n",
        "# State\n",
        "class State(TypedDict):\n",
        "    messages: Annotated[list, add_messages]\n",
        "\n",
        "# Create the LLM model\n",
        "llm = ChatAnthropic(model=\"claude-3-7-sonnet-20250219\", api_key=ANTHROPIC_TOKEN)\n",
        "\n",
        "# Function\n",
        "def summary(state: State):\n",
        "    input_text = state[\"messages\"][-1].content\n",
        "    prompt = f\"Summarize the following text: {input_text}\"\n",
        "    llm_response = llm.invoke(prompt)\n",
        "    return {\"messages\": [llm_response]}\n",
        "\n",
        "def translate(state: State):\n",
        "    input_text = state[\"messages\"][-1].content\n",
        "    prompt = f\"Translate the following text to Spanish: {input_text}\"\n",
        "    llm_response = llm.invoke(prompt)\n",
        "    return {\"messages\": [llm_response]}\n",
        "\n",
        "# Start to build the graph\n",
        "graph_builder = StateGraph(State)\n",
        "\n",
        "# Add nodes to the graph\n",
        "graph_builder.add_node(\"summary\", summary)\n",
        "graph_builder.add_node(\"translate\", translate)\n",
        "\n",
        "# Add edges\n",
        "graph_builder.add_edge(START, \"summary\")\n",
        "graph_builder.add_edge(\"summary\", \"translate\")\n",
        "graph_builder.add_edge(\"translate\", END)\n",
        "\n",
        "# Compile the graph\n",
        "graph = graph_builder.compile()\n",
        "\n",
        "# Display the graph\n",
        "try:\n",
        "    display(Image(graph.get_graph().draw_mermaid_png()))\n",
        "except Exception as e:\n",
        "    print(f\"Error al visualizar el grafo: {e}\")"
      ]
    },
    {
      "cell_type": "code",
      "execution_count": 4,
      "metadata": {
        "colab": {
          "base_uri": "https://localhost:8080/"
        },
        "id": "w51z4f4QElkz",
        "outputId": "3322b0b2-51fa-43d1-84c1-a01122685371"
      },
      "outputs": [
        {
          "name": "stdout",
          "output_type": "stream",
          "text": [
            "================================\u001b[1m Human Message \u001b[0m=================================\n",
            "\n",
            "Large language models are powerful AI systems trained on vast amounts of text data.\n",
            "They can generate human-like text, translate languages, write different kinds of creative content, and answer your questions in an informative way.\n",
            "==================================\u001b[1m Ai Message \u001b[0m==================================\n",
            "\n",
            "Summary: Large language models are AI systems trained on extensive text data that can generate human-like text, translate languages, create various creative content, and provide informative answers to questions.\n",
            "==================================\u001b[1m Ai Message \u001b[0m==================================\n",
            "\n",
            "Resumen: Los modelos de lenguaje grande son sistemas de IA entrenados con extensos datos de texto que pueden generar texto similar al humano, traducir idiomas, crear diversos contenidos creativos y proporcionar respuestas informativas a preguntas.\n"
          ]
        }
      ],
      "source": [
        "from langchain_core.messages import HumanMessage\n",
        "\n",
        "text = \"\"\"Large language models are powerful AI systems trained on vast amounts of text data.\n",
        "They can generate human-like text, translate languages, write different kinds of creative content, and answer your questions in an informative way.\"\"\"\n",
        "\n",
        "messages = [HumanMessage(content=text)]\n",
        "\n",
        "result = graph.invoke({\"messages\": messages})\n",
        "\n",
        "for message in result[\"messages\"]:\n",
        "    message.pretty_print()"
      ]
    },
    {
      "cell_type": "markdown",
      "metadata": {
        "id": "qU9B6aJwElkz"
      },
      "source": [
        "## Enrutamiento (routing)"
      ]
    },
    {
      "cell_type": "markdown",
      "metadata": {
        "id": "0Wb5-XWaElkz"
      },
      "source": [
        "![routing](https://images.maximofn.com/agent_patterns_03_routing.webp)"
      ]
    },
    {
      "cell_type": "markdown",
      "metadata": {
        "id": "y-QDnBK8Elk0"
      },
      "source": [
        "Otra cosa que podemos hacer es crear varias rutas en función del problema y elegir la que mejor se adapte a nuestro problema. Vamos a ver un ejemplo en el que el usuario puede elegir entre resumir o traducir un texto."
      ]
    },
    {
      "cell_type": "code",
      "execution_count": 1,
      "metadata": {
        "colab": {
          "base_uri": "https://localhost:8080/",
          "height": 350
        },
        "id": "80iKcIbiElk0",
        "outputId": "1728355d-32d2-410c-b881-51baaa1084de"
      },
      "outputs": [
        {
          "data": {
            "image/png": "[encoded data removed]",
            "text/plain": [
              "<IPython.core.display.Image object>"
            ]
          },
          "metadata": {},
          "output_type": "display_data"
        }
      ],
      "source": [
        "from typing import Annotated\n",
        "from typing_extensions import TypedDict\n",
        "\n",
        "from langgraph.graph import StateGraph, START, END\n",
        "from langgraph.graph.message import add_messages\n",
        "\n",
        "from langchain_anthropic import ChatAnthropic\n",
        "from langchain_core.messages import SystemMessage, HumanMessage\n",
        "\n",
        "from IPython.display import Image, display\n",
        "\n",
        "import os\n",
        "os.environ[\"LANGCHAIN_TRACING_V2\"] = \"false\"    # Disable LangSmith tracing\n",
        "\n",
        "import dotenv\n",
        "dotenv.load_dotenv()\n",
        "ANTHROPIC_TOKEN = os.getenv(\"ANTHROPIC_LANGGRAPH_API_KEY\")\n",
        "\n",
        "# State\n",
        "class State(TypedDict):\n",
        "    messages: Annotated[list, add_messages]\n",
        "\n",
        "# Create the LLM model\n",
        "llm = ChatAnthropic(model=\"claude-3-7-sonnet-20250219\", api_key=ANTHROPIC_TOKEN)\n",
        "\n",
        "# Function\n",
        "def chatbot_function(state: State):\n",
        "    return {\"messages\": [llm.invoke(state[\"messages\"])]}\n",
        "\n",
        "def summary(state: State):\n",
        "    input_text = state[\"messages\"][-1].content\n",
        "    prompt = f\"Summarize the following text: {input_text}\"\n",
        "    llm_response = llm.invoke(prompt)\n",
        "    return {\"messages\": [llm_response]}\n",
        "\n",
        "def translate(state: State):\n",
        "    input_text = state[\"messages\"][-1].content\n",
        "    prompt = f\"Translate the following text to Spanish: {input_text}\"\n",
        "    llm_response = llm.invoke(prompt)\n",
        "    return {\"messages\": [llm_response]}\n",
        "\n",
        "# Decision function for conditional edges\n",
        "def decide_next_step(state: State) -> str:\n",
        "    \"\"\"\n",
        "    Decides the next step after the chatbot_node.\n",
        "    It checks the user's last message for keywords like 'summarize' or 'translate'.\n",
        "    \"\"\"\n",
        "    # Filter out human messages from the state\n",
        "    user_messages = [msg for msg in state[\"messages\"] if isinstance(msg, HumanMessage)]\n",
        "\n",
        "    if not user_messages:\n",
        "        # If there are no human messages, default to ending the process\n",
        "        return \"end\"\n",
        "\n",
        "    # Get the content of the last human message\n",
        "    last_user_message_content = user_messages[-1].content.lower()\n",
        "\n",
        "    if \"summarize\" in last_user_message_content or \"resumir\" in last_user_message_content:\n",
        "        # If the user asked to summarize\n",
        "        return \"summary\"\n",
        "    elif \"translate\" in last_user_message_content or \"traducir\" in last_user_message_content:\n",
        "        # If the user asked to translate\n",
        "        return \"translate\"\n",
        "    else:\n",
        "        # Otherwise, end the process\n",
        "        return \"end\"\n",
        "\n",
        "# Start to build the graph\n",
        "graph_builder = StateGraph(State)\n",
        "\n",
        "# Add nodes to the graph\n",
        "graph_builder.add_node(\"chatbot_node\", chatbot_function)\n",
        "graph_builder.add_node(\"summary\", summary)\n",
        "graph_builder.add_node(\"translate\", translate)\n",
        "\n",
        "# Add edges\n",
        "graph_builder.add_edge(START, \"chatbot_node\")\n",
        "\n",
        "# Add conditional edges from chatbot_node\n",
        "# The decide_next_step function will determine which path to take\n",
        "graph_builder.add_conditional_edges(\n",
        "    \"chatbot_node\",         # The node where the decision is made\n",
        "    decide_next_step,       # The function that makes the decision\n",
        "    {                       # A dictionary mapping decision outcomes to next nodes\n",
        "        \"summary\": \"summary\",   # If decide_next_step returns \"summary\", go to the \"summary\" node\n",
        "        \"translate\": \"translate\", # If decide_next_step returns \"translate\", go to the \"translate\" node\n",
        "        \"end\": END              # If decide_next_step returns \"end\", end the graph\n",
        "    }\n",
        ")\n",
        "\n",
        "# Add edges to end the graph after summary or translate\n",
        "graph_builder.add_edge(\"summary\", END)\n",
        "graph_builder.add_edge(\"translate\", END)\n",
        "\n",
        "# Compile the graph\n",
        "graph = graph_builder.compile()\n",
        "\n",
        "# Display the graph\n",
        "try:\n",
        "    display(Image(graph.get_graph().draw_mermaid_png()))\n",
        "except Exception as e:\n",
        "    print(f\"Error al visualizar el grafo: {e}\")"
      ]
    },
    {
      "cell_type": "code",
      "execution_count": 2,
      "metadata": {
        "colab": {
          "base_uri": "https://localhost:8080/"
        },
        "id": "fTVnbdxPElk0",
        "outputId": "c77d4bfa-700a-4042-f02d-ada15758a8dc"
      },
      "outputs": [
        {
          "name": "stdout",
          "output_type": "stream",
          "text": [
            "================================\u001b[1m Human Message \u001b[0m=================================\n",
            "\n",
            "Summarize the following text: Large language models are powerful AI systems trained on vast amounts of text data.\n",
            "They can generate human-like text, translate languages, write different kinds of creative content, and answer your questions in an informative way.\n",
            "==================================\u001b[1m Ai Message \u001b[0m==================================\n",
            "\n",
            "The text explains that large language models are AI systems trained on extensive text datasets, enabling them to generate text similar to human writing, perform translations, create various creative content, and provide informative answers to questions.\n",
            "==================================\u001b[1m Ai Message \u001b[0m==================================\n",
            "\n",
            "# Summary\n",
            "\n",
            "Large language models are AI systems trained on vast text datasets that can generate human-like text, translate languages, create creative content, and answer questions informatively.\n"
          ]
        }
      ],
      "source": [
        "from langchain_core.messages import HumanMessage\n",
        "\n",
        "text = \"\"\"Large language models are powerful AI systems trained on vast amounts of text data.\n",
        "They can generate human-like text, translate languages, write different kinds of creative content, and answer your questions in an informative way.\"\"\"\n",
        "\n",
        "prompt = f\"Summarize the following text: {text}\"\n",
        "\n",
        "messages = [HumanMessage(content=prompt)]\n",
        "\n",
        "result = graph.invoke({\"messages\": messages})\n",
        "\n",
        "for message in result[\"messages\"]:\n",
        "    message.pretty_print()"
      ]
    },
    {
      "cell_type": "code",
      "execution_count": 3,
      "metadata": {
        "colab": {
          "base_uri": "https://localhost:8080/"
        },
        "id": "_GViYWQlElk0",
        "outputId": "1179e02c-1d94-44d7-f830-038a15528ccb"
      },
      "outputs": [
        {
          "name": "stdout",
          "output_type": "stream",
          "text": [
            "================================\u001b[1m Human Message \u001b[0m=================================\n",
            "\n",
            "Translate the following text to Spanish: Large language models are powerful AI systems trained on vast amounts of text data.\n",
            "They can generate human-like text, translate languages, write different kinds of creative content, and answer your questions in an informative way.\n",
            "==================================\u001b[1m Ai Message \u001b[0m==================================\n",
            "\n",
            "Los modelos de lenguaje grandes son sistemas de IA potentes entrenados con enormes cantidades de datos textuales.\n",
            "Pueden generar texto similar al humano, traducir idiomas, escribir diferentes tipos de contenido creativo y responder a tus preguntas de manera informativa.\n",
            "==================================\u001b[1m Ai Message \u001b[0m==================================\n",
            "\n",
            "\"Los modelos de lenguaje grandes son sistemas de IA potentes entrenados con enormes cantidades de datos textuales.\n",
            "Pueden generar texto similar al humano, traducir idiomas, escribir diferentes tipos de contenido creativo y responder a tus preguntas de manera informativa.\"\n"
          ]
        }
      ],
      "source": [
        "from langchain_core.messages import HumanMessage\n",
        "\n",
        "text = \"\"\"Large language models are powerful AI systems trained on vast amounts of text data.\n",
        "They can generate human-like text, translate languages, write different kinds of creative content, and answer your questions in an informative way.\"\"\"\n",
        "\n",
        "prompt = f\"Translate the following text to Spanish: {text}\"\n",
        "\n",
        "messages = [HumanMessage(content=prompt)]\n",
        "\n",
        "result = graph.invoke({\"messages\": messages})\n",
        "\n",
        "for message in result[\"messages\"]:\n",
        "    message.pretty_print()"
      ]
    },
    {
      "cell_type": "markdown",
      "metadata": {
        "id": "2yHrYJ5qElk0"
      },
      "source": [
        "## Paralelización (parallelization)"
      ]
    },
    {
      "cell_type": "markdown",
      "metadata": {
        "id": "taY838_OElk0"
      },
      "source": [
        "![parallelization](https://images.maximofn.com/agent_patterns_04_paralellitation.webp)"
      ]
    },
    {
      "cell_type": "markdown",
      "metadata": {
        "id": "j97i1ABMElk0"
      },
      "source": [
        "Cuando una tarea es muy importante o compleja podemos paralelizarla para que la ejecuten diferentes LLMs. Después le pasamos el resultado a un LLM para que pueda combinarlos. Vamos a ver un ejemplo en el que tenemos tres LLMs que resumen un texto de manera diferente y luego lo combinamos."
      ]
    },
    {
      "cell_type": "code",
      "execution_count": 4,
      "metadata": {
        "colab": {
          "base_uri": "https://localhost:8080/",
          "height": 350
        },
        "id": "uiEpfTixElk0",
        "outputId": "37790aa4-ea10-4a92-a107-046303bff6e4"
      },
      "outputs": [
        {
          "data": {
            "image/png": "[encoded data removed]",
            "text/plain": [
              "<IPython.core.display.Image object>"
            ]
          },
          "metadata": {},
          "output_type": "display_data"
        }
      ],
      "source": [
        "from typing import Annotated\n",
        "from typing_extensions import TypedDict\n",
        "\n",
        "from langgraph.graph import StateGraph, START, END\n",
        "from langgraph.graph.message import add_messages\n",
        "\n",
        "from langchain_anthropic import ChatAnthropic\n",
        "from langchain_core.messages import SystemMessage, HumanMessage\n",
        "\n",
        "from IPython.display import Image, display\n",
        "\n",
        "import os\n",
        "os.environ[\"LANGCHAIN_TRACING_V2\"] = \"false\"    # Disable LangSmith tracing\n",
        "\n",
        "import dotenv\n",
        "dotenv.load_dotenv()\n",
        "ANTHROPIC_TOKEN = os.getenv(\"ANTHROPIC_LANGGRAPH_API_KEY\")\n",
        "\n",
        "# State\n",
        "class State(TypedDict):\n",
        "    messages: Annotated[list, add_messages]\n",
        "    tiny_summary: str\n",
        "    normal_summary: str\n",
        "    extended_summary: str\n",
        "\n",
        "# Create the LLM model\n",
        "llm = ChatAnthropic(model=\"claude-3-7-sonnet-20250219\", api_key=ANTHROPIC_TOKEN)\n",
        "\n",
        "# Function\n",
        "def tiny_summary(state: State):\n",
        "    input_text = state[\"messages\"][-1].content\n",
        "    prompt = f\"Summarize the following text in 10 words: {input_text}\"\n",
        "    llm_response = llm.invoke(prompt)\n",
        "    return {\"messages\": [llm_response], \"tiny_summary\": llm_response.content}\n",
        "\n",
        "def normal_summary(state: State):\n",
        "    input_text = state[\"messages\"][-1].content\n",
        "    prompt = f\"Summarize the following text: {input_text}\"\n",
        "    llm_response = llm.invoke(prompt)\n",
        "    return {\"messages\": [llm_response], \"normal_summary\": llm_response.content}\n",
        "\n",
        "def extended_summary(state: State):\n",
        "    input_text = state[\"messages\"][-1].content\n",
        "    prompt = f\"Summarize the following text in 100 words: {input_text}\"\n",
        "    llm_response = llm.invoke(prompt)\n",
        "    return {\"messages\": [llm_response], \"extended_summary\": llm_response.content}\n",
        "\n",
        "def aggregate(state: State):\n",
        "    prompt = f\"Combine the following summaries into a single one: {state['tiny_summary']}, {state['normal_summary']}, {state['extended_summary']}\"\n",
        "    llm_response = llm.invoke(prompt)\n",
        "    return {\"messages\": [llm_response]}\n",
        "\n",
        "# Start to build the graph\n",
        "graph_builder = StateGraph(State)\n",
        "\n",
        "# Add nodes to the graph\n",
        "graph_builder.add_node(\"tiny_summary_node\", tiny_summary)\n",
        "graph_builder.add_node(\"normal_summary_node\", normal_summary)\n",
        "graph_builder.add_node(\"extended_summary_node\", extended_summary)\n",
        "graph_builder.add_node(\"aggregate_node\", aggregate)\n",
        "\n",
        "# Add edges\n",
        "graph_builder.add_edge(START, \"tiny_summary_node\")\n",
        "graph_builder.add_edge(START, \"normal_summary_node\")\n",
        "graph_builder.add_edge(START, \"extended_summary_node\")\n",
        "graph_builder.add_edge(\"tiny_summary_node\", \"aggregate_node\")\n",
        "graph_builder.add_edge(\"normal_summary_node\", \"aggregate_node\")\n",
        "graph_builder.add_edge(\"extended_summary_node\", \"aggregate_node\")\n",
        "graph_builder.add_edge(\"aggregate_node\", END)\n",
        "\n",
        "# Compile the graph\n",
        "graph = graph_builder.compile()\n",
        "\n",
        "# Display the graph\n",
        "try:\n",
        "    display(Image(graph.get_graph().draw_mermaid_png()))\n",
        "except Exception as e:\n",
        "    print(f\"Error al visualizar el grafo: {e}\")"
      ]
    },
    {
      "cell_type": "code",
      "execution_count": 5,
      "metadata": {
        "colab": {
          "base_uri": "https://localhost:8080/"
        },
        "id": "gYXcZ83hElk0",
        "outputId": "2ce383f4-5180-429f-a03e-459793d93ab3"
      },
      "outputs": [
        {
          "name": "stdout",
          "output_type": "stream",
          "text": [
            "================================\u001b[1m Human Message \u001b[0m=================================\n",
            "\n",
            "Large language models are powerful AI systems trained on vast amounts of text data.\n",
            "They can generate human-like text, translate languages, write different kinds of creative content, and answer your questions in an informative way.\n",
            "==================================\u001b[1m Ai Message \u001b[0m==================================\n",
            "\n",
            "Large language models (LLMs) are sophisticated AI systems that learn from extensive text datasets. These models have impressive capabilities, including generating text that resembles human writing, performing language translation, creating various forms of creative content, and providing informative responses to questions. Their versatility and ability to understand and produce natural language make them valuable tools across numerous applications.\n",
            "==================================\u001b[1m Ai Message \u001b[0m==================================\n",
            "\n",
            "Summary: Large language models are AI systems trained on extensive text data that can generate human-like text, translate languages, create various creative content, and provide informative answers to questions.\n",
            "==================================\u001b[1m Ai Message \u001b[0m==================================\n",
            "\n",
            "Large language models: AI systems generating human-like text from vast data.\n",
            "==================================\u001b[1m Ai Message \u001b[0m==================================\n",
            "\n",
            "# Large Language Models\n",
            "\n",
            "Large language models (LLMs) are sophisticated AI systems trained on extensive text datasets that can generate human-like text. These versatile models demonstrate impressive capabilities including language translation, creation of various creative content, and providing informative answers to questions. Their ability to understand and produce natural language makes them valuable tools across numerous applications.\n"
          ]
        }
      ],
      "source": [
        "from langchain_core.messages import HumanMessage\n",
        "\n",
        "text = \"\"\"Large language models are powerful AI systems trained on vast amounts of text data.\n",
        "They can generate human-like text, translate languages, write different kinds of creative content, and answer your questions in an informative way.\"\"\"\n",
        "\n",
        "messages = [HumanMessage(content=text)]\n",
        "\n",
        "result = graph.invoke({\"messages\": messages})\n",
        "\n",
        "for message in result[\"messages\"]:\n",
        "    message.pretty_print()"
      ]
    },
    {
      "cell_type": "markdown",
      "metadata": {
        "id": "rExzrpbFElk0"
      },
      "source": [
        "## Evaluador-optimizador (reflection pattern)"
      ]
    },
    {
      "cell_type": "markdown",
      "metadata": {
        "id": "LmGWjPOPElk0"
      },
      "source": [
        "![reflection pattern](https://images.maximofn.com/agent_patterns_05_reflection_pattern.webp)"
      ]
    },
    {
      "cell_type": "markdown",
      "metadata": {
        "id": "lfnDgWiQElk0"
      },
      "source": [
        "Otra manera de resolver tareas complejas es tener un LLM para resolver la tarea y otro LLM para evaluar el resultado, de manera que se ejecutan en bucle, hasta que el evaluador considera que el trabajo ha finalizado correctamente. Vamos a ver un ejemplo en el que un LLM suma 1 a un número y otro comprueba si el número es 10."
      ]
    },
    {
      "cell_type": "code",
      "execution_count": 6,
      "metadata": {
        "colab": {
          "base_uri": "https://localhost:8080/",
          "height": 350
        },
        "id": "zbrhpJNuElk0",
        "outputId": "1e090d04-d9c0-4cb1-f270-d627fb16241d"
      },
      "outputs": [
        {
          "data": {
            "image/png": "[encoded data removed]",
            "text/plain": [
              "<IPython.core.display.Image object>"
            ]
          },
          "metadata": {},
          "output_type": "display_data"
        }
      ],
      "source": [
        "from typing import Annotated\n",
        "from typing_extensions import TypedDict\n",
        "\n",
        "from langgraph.graph import StateGraph, START, END\n",
        "from langgraph.graph.message import add_messages\n",
        "\n",
        "from langchain_anthropic import ChatAnthropic\n",
        "from langchain_core.messages import SystemMessage, HumanMessage, AIMessage\n",
        "\n",
        "from IPython.display import Image, display\n",
        "\n",
        "import os\n",
        "os.environ[\"LANGCHAIN_TRACING_V2\"] = \"false\"    # Disable LangSmith tracing\n",
        "\n",
        "import dotenv\n",
        "dotenv.load_dotenv()\n",
        "ANTHROPIC_TOKEN = os.getenv(\"ANTHROPIC_LANGGRAPH_API_KEY\")\n",
        "\n",
        "# State\n",
        "class State(TypedDict):\n",
        "    messages: Annotated[list, add_messages]\n",
        "    number: int\n",
        "    evaluator: str\n",
        "\n",
        "# Create the LLM model\n",
        "llm = ChatAnthropic(model=\"claude-3-7-sonnet-20250219\", api_key=ANTHROPIC_TOKEN)\n",
        "\n",
        "# Function\n",
        "def agregate_1(state: State):\n",
        "    if state.get(\"number\", None) is None:\n",
        "        input_text = state[\"messages\"][-1].content\n",
        "        prompt = f\"Get the number from the following text: {input_text}. Respond only with the number.\"\n",
        "        number_str = llm.invoke(prompt)\n",
        "        number = int(number_str.content)\n",
        "        state[\"number\"] = number\n",
        "\n",
        "    number_state = state[\"number\"]\n",
        "    number_plus_1 = number_state + 1\n",
        "    response = AIMessage(content=f\"[Agregator] --> The number is {number_state} and the next number is {number_plus_1}\")\n",
        "    return {\"messages\": [response], \"number\": number_plus_1, \"evaluator\": \"no\"}\n",
        "\n",
        "def evaluator(state: State):\n",
        "    prompt = f\"Is the following number {state['number']} equal to 10? Respond only with 'yes' or 'no'.\"\n",
        "    result = llm.invoke(prompt)\n",
        "    number_state = state[\"number\"]\n",
        "    response = AIMessage(content=f\"[Evaluator] --> Is the following number {number_state} equal to 10? Result: {result.content}\")\n",
        "    return {\"messages\": [response], \"evaluator\": result.content, \"number\": number_state}\n",
        "\n",
        "def decide_next_step(state: State):\n",
        "    if state[\"evaluator\"] == \"yes\":\n",
        "        return END\n",
        "    else:\n",
        "        return \"agregate_1_node\"\n",
        "\n",
        "# Start to build the graph\n",
        "graph_builder = StateGraph(State)\n",
        "\n",
        "# Add nodes to the graph\n",
        "graph_builder.add_node(\"agregate_1_node\", agregate_1)\n",
        "graph_builder.add_node(\"evaluator_node\", evaluator)\n",
        "\n",
        "# Add edges\n",
        "graph_builder.add_edge(START, \"agregate_1_node\")\n",
        "graph_builder.add_edge(\"agregate_1_node\", \"evaluator_node\")\n",
        "graph_builder.add_conditional_edges(\n",
        "    \"evaluator_node\",\n",
        "    decide_next_step,\n",
        "    {\n",
        "        \"agregate_1_node\": \"agregate_1_node\",\n",
        "        END: END\n",
        "    }\n",
        ")\n",
        "\n",
        "# Compile the graph\n",
        "graph = graph_builder.compile()\n",
        "\n",
        "# Display the graph\n",
        "try:\n",
        "    display(Image(graph.get_graph().draw_mermaid_png()))\n",
        "except Exception as e:\n",
        "    print(f\"Error al visualizar el grafo: {e}\")"
      ]
    },
    {
      "cell_type": "code",
      "execution_count": 7,
      "metadata": {
        "colab": {
          "base_uri": "https://localhost:8080/"
        },
        "id": "9gQbdEXpElk1",
        "outputId": "8777a87c-8ef1-4126-c183-fa80bf1c4c8a"
      },
      "outputs": [
        {
          "name": "stdout",
          "output_type": "stream",
          "text": [
            "================================\u001b[1m Human Message \u001b[0m=================================\n",
            "\n",
            "Start the process with the number 1\n",
            "==================================\u001b[1m Ai Message \u001b[0m==================================\n",
            "\n",
            "[Agregator] --> The number is 1 and the next number is 2\n",
            "==================================\u001b[1m Ai Message \u001b[0m==================================\n",
            "\n",
            "[Evaluator] --> Is the following number 2 equal to 10? Result: no\n",
            "==================================\u001b[1m Ai Message \u001b[0m==================================\n",
            "\n",
            "[Agregator] --> The number is 2 and the next number is 3\n",
            "==================================\u001b[1m Ai Message \u001b[0m==================================\n",
            "\n",
            "[Evaluator] --> Is the following number 3 equal to 10? Result: no\n",
            "==================================\u001b[1m Ai Message \u001b[0m==================================\n",
            "\n",
            "[Agregator] --> The number is 3 and the next number is 4\n",
            "==================================\u001b[1m Ai Message \u001b[0m==================================\n",
            "\n",
            "[Evaluator] --> Is the following number 4 equal to 10? Result: no\n",
            "==================================\u001b[1m Ai Message \u001b[0m==================================\n",
            "\n",
            "[Agregator] --> The number is 4 and the next number is 5\n",
            "==================================\u001b[1m Ai Message \u001b[0m==================================\n",
            "\n",
            "[Evaluator] --> Is the following number 5 equal to 10? Result: no\n",
            "==================================\u001b[1m Ai Message \u001b[0m==================================\n",
            "\n",
            "[Agregator] --> The number is 5 and the next number is 6\n",
            "==================================\u001b[1m Ai Message \u001b[0m==================================\n",
            "\n",
            "[Evaluator] --> Is the following number 6 equal to 10? Result: no\n",
            "==================================\u001b[1m Ai Message \u001b[0m==================================\n",
            "\n",
            "[Agregator] --> The number is 6 and the next number is 7\n",
            "==================================\u001b[1m Ai Message \u001b[0m==================================\n",
            "\n",
            "[Evaluator] --> Is the following number 7 equal to 10? Result: no\n",
            "==================================\u001b[1m Ai Message \u001b[0m==================================\n",
            "\n",
            "[Agregator] --> The number is 7 and the next number is 8\n",
            "==================================\u001b[1m Ai Message \u001b[0m==================================\n",
            "\n",
            "[Evaluator] --> Is the following number 8 equal to 10? Result: no\n",
            "==================================\u001b[1m Ai Message \u001b[0m==================================\n",
            "\n",
            "[Agregator] --> The number is 8 and the next number is 9\n",
            "==================================\u001b[1m Ai Message \u001b[0m==================================\n",
            "\n",
            "[Evaluator] --> Is the following number 9 equal to 10? Result: no\n",
            "==================================\u001b[1m Ai Message \u001b[0m==================================\n",
            "\n",
            "[Agregator] --> The number is 9 and the next number is 10\n",
            "==================================\u001b[1m Ai Message \u001b[0m==================================\n",
            "\n",
            "[Evaluator] --> Is the following number 10 equal to 10? Result: yes\n"
          ]
        }
      ],
      "source": [
        "from langchain_core.messages import HumanMessage\n",
        "\n",
        "prompt = \"Start the process with the number 1\"\n",
        "\n",
        "messages = [HumanMessage(content=prompt)]\n",
        "\n",
        "result = graph.invoke({\"messages\": messages}, {\"number\": None})\n",
        "\n",
        "for message in result[\"messages\"]:\n",
        "    message.pretty_print()"
      ]
    },
    {
      "cell_type": "markdown",
      "metadata": {
        "id": "yDp925u9Elk1"
      },
      "source": [
        "## Agente con herramientas (ReAct pattern)"
      ]
    },
    {
      "cell_type": "markdown",
      "metadata": {
        "id": "4rX28kBVElk1"
      },
      "source": [
        "![ReAct pattern](https://images.maximofn.com/agent_patterns_06_react_pattern.webp)"
      ]
    },
    {
      "cell_type": "markdown",
      "metadata": {
        "id": "Qei8571TElk1"
      },
      "source": [
        "Otra posibilidad es poder darle herramientas al agente"
      ]
    },
    {
      "cell_type": "code",
      "execution_count": 9,
      "metadata": {
        "colab": {
          "base_uri": "https://localhost:8080/",
          "height": 266
        },
        "id": "EAREdqKkElk1",
        "outputId": "5cd701f9-8f86-4cbe-90b0-a895b5447f1e"
      },
      "outputs": [
        {
          "data": {
            "image/png": "[encoded data removed]",
            "text/plain": [
              "<IPython.core.display.Image object>"
            ]
          },
          "metadata": {},
          "output_type": "display_data"
        }
      ],
      "source": [
        "from typing import Annotated\n",
        "from typing_extensions import TypedDict\n",
        "\n",
        "from langgraph.graph import StateGraph, START, END\n",
        "from langgraph.graph.message import add_messages\n",
        "from langgraph.prebuilt import ToolNode, tools_condition\n",
        "\n",
        "from langchain_anthropic import ChatAnthropic\n",
        "from langchain_core.messages import SystemMessage, HumanMessage, AIMessage\n",
        "from langchain_core.tools import tool\n",
        "\n",
        "from IPython.display import Image, display\n",
        "\n",
        "import os\n",
        "os.environ[\"LANGCHAIN_TRACING_V2\"] = \"false\"    # Disable LangSmith tracing\n",
        "\n",
        "import dotenv\n",
        "dotenv.load_dotenv()\n",
        "ANTHROPIC_TOKEN = os.getenv(\"ANTHROPIC_LANGGRAPH_API_KEY\")\n",
        "\n",
        "# State\n",
        "class State(TypedDict):\n",
        "    messages: Annotated[list, add_messages]\n",
        "\n",
        "# Tools\n",
        "@tool\n",
        "def multiply(a: int, b: int) -> int:\n",
        "    \"\"\"Multiply a and b.\n",
        "\n",
        "    Args:\n",
        "        a: first int\n",
        "        b: second int\n",
        "\n",
        "    Returns:\n",
        "        The product of a and b.\n",
        "    \"\"\"\n",
        "    return a * b\n",
        "\n",
        "tools_list = [multiply]\n",
        "\n",
        "# Create the LLM model\n",
        "llm = ChatAnthropic(model=\"claude-3-7-sonnet-20250219\", api_key=ANTHROPIC_TOKEN)\n",
        "llm_with_tools = llm.bind_tools(tools_list)\n",
        "\n",
        "# Function\n",
        "def chatbot_function(state: State):\n",
        "    system_message = \"You are a helpful assistant that can use tools to answer questions. Once you have the result of a tool, provide a final answer without calling more tools.\"\n",
        "    messages = [SystemMessage(content=system_message)] + state[\"messages\"]\n",
        "    return {\"messages\": [llm_with_tools.invoke(messages)]}\n",
        "\n",
        "# Start to build the graph\n",
        "graph_builder = StateGraph(State)\n",
        "\n",
        "# Add nodes to the graph\n",
        "graph_builder.add_node(\"chatbot_node\", chatbot_function)\n",
        "tool_node = ToolNode(tools=tools_list)\n",
        "graph_builder.add_node(\"tools\", tool_node)\n",
        "\n",
        "# Add edges\n",
        "graph_builder.add_edge(START, \"chatbot_node\")\n",
        "graph_builder.add_conditional_edges(\"chatbot_node\", tools_condition)\n",
        "graph_builder.add_edge(\"tools\", \"chatbot_node\")\n",
        "graph_builder.add_edge(\"chatbot_node\", END)\n",
        "\n",
        "# Compile the graph\n",
        "graph = graph_builder.compile()\n",
        "\n",
        "# Display the graph\n",
        "try:\n",
        "    display(Image(graph.get_graph().draw_mermaid_png()))\n",
        "except Exception as e:\n",
        "    print(f\"Error al visualizar el grafo: {e}\")"
      ]
    },
    {
      "cell_type": "code",
      "execution_count": 10,
      "metadata": {
        "colab": {
          "base_uri": "https://localhost:8080/"
        },
        "id": "CXO-E_tyElk1",
        "outputId": "dad6e943-2926-4491-bd91-b53794b6d296"
      },
      "outputs": [
        {
          "name": "stdout",
          "output_type": "stream",
          "text": [
            "================================\u001b[1m Human Message \u001b[0m=================================\n",
            "\n",
            "Multiply 2 and 3\n",
            "==================================\u001b[1m Ai Message \u001b[0m==================================\n",
            "\n",
            "[{'text': \"I'll help you multiply 2 and 3 using the available tool.\", 'type': 'text'}, {'id': 'toolu_01HKo8WPhPVuzKm8x2BLZCcs', 'input': {'a': 2, 'b': 3}, 'name': 'multiply', 'type': 'tool_use'}]\n",
            "Tool Calls:\n",
            "  multiply (toolu_01HKo8WPhPVuzKm8x2BLZCcs)\n",
            " Call ID: toolu_01HKo8WPhPVuzKm8x2BLZCcs\n",
            "  Args:\n",
            "    a: 2\n",
            "    b: 3\n",
            "=================================\u001b[1m Tool Message \u001b[0m=================================\n",
            "Name: multiply\n",
            "\n",
            "6\n",
            "==================================\u001b[1m Ai Message \u001b[0m==================================\n",
            "\n",
            "The product of 2 and 3 is 6.\n"
          ]
        }
      ],
      "source": [
        "from langchain_core.messages import HumanMessage\n",
        "\n",
        "prompt = \"Multiply 2 and 3\"\n",
        "\n",
        "messages = [HumanMessage(content=prompt)]\n",
        "\n",
        "result = graph.invoke({\"messages\": messages}, {\"number\": None})\n",
        "\n",
        "for message in result[\"messages\"]:\n",
        "    message.pretty_print()"
      ]
    },
    {
      "cell_type": "markdown",
      "metadata": {
        "id": "LV7bSGXYElk1"
      },
      "source": [
        "## Planning pattern"
      ]
    },
    {
      "cell_type": "markdown",
      "metadata": {
        "id": "GqP0zGesElk9"
      },
      "source": [
        "![planning pattern](https://images.maximofn.com/agent_patterns_07_planning_pattern.webp)"
      ]
    },
    {
      "cell_type": "markdown",
      "metadata": {
        "id": "YTwbn_i5Elk9"
      },
      "source": [
        "En este caso un LLM divide el problema en varias tareas y se las asigna a otros agentes, después otro LLM combina las respuestas de los agentes para dar una respuesta final. Vamos a ver el problema de resumir y traducir un texto."
      ]
    },
    {
      "cell_type": "code",
      "execution_count": 11,
      "metadata": {
        "colab": {
          "base_uri": "https://localhost:8080/",
          "height": 449
        },
        "id": "OT6ldmRBElk9",
        "outputId": "383b8214-6380-4322-f5e8-bbfb016ad27c"
      },
      "outputs": [
        {
          "data": {
            "image/png": "[encoded data removed]",
            "text/plain": [
              "<IPython.core.display.Image object>"
            ]
          },
          "metadata": {},
          "output_type": "display_data"
        }
      ],
      "source": [
        "from typing import Annotated\n",
        "from typing_extensions import TypedDict\n",
        "\n",
        "from langgraph.graph import StateGraph, START, END\n",
        "from langgraph.graph.message import add_messages\n",
        "\n",
        "from langchain_anthropic import ChatAnthropic\n",
        "from langchain_core.messages import SystemMessage, HumanMessage\n",
        "\n",
        "from IPython.display import Image, display\n",
        "\n",
        "import os\n",
        "os.environ[\"LANGCHAIN_TRACING_V2\"] = \"false\"    # Disable LangSmith tracing\n",
        "\n",
        "import dotenv\n",
        "dotenv.load_dotenv()\n",
        "ANTHROPIC_TOKEN = os.getenv(\"ANTHROPIC_LANGGRAPH_API_KEY\")\n",
        "\n",
        "# State\n",
        "class State(TypedDict):\n",
        "    messages: Annotated[list, add_messages]\n",
        "    text_to_summarize: str\n",
        "    text_to_translate: str\n",
        "    summary: str\n",
        "    translation: str\n",
        "# Create the LLM model\n",
        "llm = ChatAnthropic(model=\"claude-3-7-sonnet-20250219\", api_key=ANTHROPIC_TOKEN)\n",
        "\n",
        "# Function\n",
        "def planner_function(state: State):\n",
        "    input_text = state[\"messages\"][-1].content\n",
        "    text_to_summarize = f\"Summarize the following text: {input_text}\"\n",
        "    text_to_translate = f\"Translate the following text to Spanish: {input_text}\"\n",
        "    return {\n",
        "        \"text_to_summarize\": text_to_summarize,\n",
        "        \"text_to_translate\": text_to_translate\n",
        "    }\n",
        "\n",
        "def summary_function(state: State):\n",
        "    input_text = state[\"text_to_summarize\"]\n",
        "    llm_response = llm.invoke(input_text)\n",
        "    summary = llm_response.content\n",
        "    return {\"messages\": [llm_response], \"summary\": summary}\n",
        "\n",
        "def translate_function(state: State):\n",
        "    input_text = state[\"text_to_translate\"]\n",
        "    llm_response = llm.invoke(input_text)\n",
        "    translation = llm_response.content\n",
        "    return {\"messages\": [llm_response], \"translation\": translation}\n",
        "\n",
        "def aggregate_function(state: State):\n",
        "    prompt = f\"\"\"Combine the following summary and translation into a single one:\n",
        "    SUMMARY: {state['summary']}\n",
        "    TRANSLATION: {state['translation']}\"\"\"\n",
        "    llm_response = llm.invoke(prompt)\n",
        "    return {\"messages\": [llm_response]}\n",
        "\n",
        "# Start to build the graph\n",
        "graph_builder = StateGraph(State)\n",
        "\n",
        "# Add nodes to the graph\n",
        "graph_builder.add_node(\"planner_node\", planner_function)\n",
        "graph_builder.add_node(\"summary_node\", summary_function)\n",
        "graph_builder.add_node(\"translate_node\", translate_function)\n",
        "graph_builder.add_node(\"aggregate_node\", aggregate_function)\n",
        "\n",
        "# Add edges\n",
        "graph_builder.add_edge(START, \"planner_node\")\n",
        "graph_builder.add_edge(\"planner_node\", \"summary_node\")\n",
        "graph_builder.add_edge(\"planner_node\", \"translate_node\")\n",
        "graph_builder.add_edge(\"summary_node\", \"aggregate_node\")\n",
        "graph_builder.add_edge(\"translate_node\", \"aggregate_node\")\n",
        "graph_builder.add_edge(\"aggregate_node\", END)\n",
        "\n",
        "# Compile the graph\n",
        "graph = graph_builder.compile()\n",
        "\n",
        "# Display the graph\n",
        "try:\n",
        "    display(Image(graph.get_graph().draw_mermaid_png()))\n",
        "except Exception as e:\n",
        "    print(f\"Error al visualizar el grafo: {e}\")"
      ]
    },
    {
      "cell_type": "code",
      "execution_count": 12,
      "metadata": {
        "colab": {
          "base_uri": "https://localhost:8080/"
        },
        "id": "L9Vol00QElk-",
        "outputId": "659c7c3d-6f18-45d5-81ac-47d0a4317dca"
      },
      "outputs": [
        {
          "name": "stdout",
          "output_type": "stream",
          "text": [
            "================================\u001b[1m Human Message \u001b[0m=================================\n",
            "\n",
            "Large language models are powerful AI systems trained on vast amounts of text data.\n",
            "They can generate human-like text, translate languages, write different kinds of creative content, and answer your questions in an informative way.\n",
            "==================================\u001b[1m Ai Message \u001b[0m==================================\n",
            "\n",
            "The text explains that large language models are AI systems trained on extensive text datasets. These models have multiple capabilities, including generating text similar to human writing, translating between languages, creating various creative content, and providing informative answers to questions.\n",
            "==================================\u001b[1m Ai Message \u001b[0m==================================\n",
            "\n",
            "Los modelos de lenguaje grandes son sistemas de IA potentes entrenados con grandes cantidades de datos textuales.\n",
            "Pueden generar texto similar al humano, traducir idiomas, escribir diferentes tipos de contenido creativo y responder a tus preguntas de manera informativa.\n",
            "==================================\u001b[1m Ai Message \u001b[0m==================================\n",
            "\n",
            "# Combined Summary\n",
            "\n",
            "Large language models are powerful AI systems trained on extensive text datasets (or \"grandes cantidades de datos textuales\"). These models have multiple capabilities, including: generating text similar to human writing, translating between languages, creating various types of creative content, and providing informative answers to questions.\n"
          ]
        }
      ],
      "source": [
        "from langchain_core.messages import HumanMessage\n",
        "\n",
        "text = \"\"\"Large language models are powerful AI systems trained on vast amounts of text data.\n",
        "They can generate human-like text, translate languages, write different kinds of creative content, and answer your questions in an informative way.\"\"\"\n",
        "\n",
        "messages = [HumanMessage(content=text)]\n",
        "\n",
        "result = graph.invoke({\"messages\": messages})\n",
        "\n",
        "for message in result[\"messages\"]:\n",
        "    message.pretty_print()"
      ]
    },
    {
      "cell_type": "markdown",
      "metadata": {
        "id": "EunJUXQsElk-"
      },
      "source": [
        "## Multi agent pattern"
      ]
    },
    {
      "cell_type": "markdown",
      "metadata": {
        "id": "xONAzsPLElk-"
      },
      "source": [
        "![multi agent pattern](https://images.maximofn.com/agent_patterns_08_multi_agent_pattern.webp)"
      ]
    },
    {
      "cell_type": "markdown",
      "metadata": {
        "id": "rn_b69z2Elk-"
      },
      "source": [
        "En este caso tenemos un agente coordinador que se encarga de asignar tareas a los agentes. Además, los agentes se pueden pedir tareas entre ellos"
      ]
    },
    {
      "cell_type": "markdown",
      "metadata": {
        "id": "gvCmF81NElk-"
      },
      "source": [
        "Este sería un posible flujo de trabajo:\n",
        "\n",
        "![multi agent workflow](https://images.maximofn.com/agent_patterns_08_multi_agent_workflow.webp)"
      ]
    },
    {
      "cell_type": "markdown",
      "metadata": {
        "id": "VoCusQiWElk-"
      },
      "source": [
        "Vamos a hacer un pequeño deep researcher"
      ]
    },
    {
      "cell_type": "markdown",
      "metadata": {
        "id": "3EUGN2XDElk-"
      },
      "source": [
        "### Worker 1: Agente buscador de noticias"
      ]
    },
    {
      "cell_type": "markdown",
      "metadata": {
        "id": "juSQTUODElk-"
      },
      "source": [
        "Creamos el primer worker, un agente que se encarga de buscar en internet y generar amplios informes, le pido más de 200 palabras. Además, le voy a crear un checkpoint, para que tenga contexto de lo que ya ha buscado."
      ]
    },
    {
      "cell_type": "code",
      "execution_count": 14,
      "metadata": {
        "colab": {
          "base_uri": "https://localhost:8080/",
          "height": 266
        },
        "id": "uaBq8OBAElk-",
        "outputId": "b606ce56-f717-4988-ba62-f6d9982b7050"
      },
      "outputs": [
        {
          "data": {
            "image/png": "[encoded data removed]",
            "text/plain": [
              "<IPython.core.display.Image object>"
            ]
          },
          "metadata": {},
          "output_type": "display_data"
        }
      ],
      "source": [
        "from typing import Annotated\n",
        "from typing_extensions import TypedDict\n",
        "\n",
        "from langgraph.graph import StateGraph, START, END\n",
        "from langgraph.graph.message import add_messages\n",
        "\n",
        "from langchain_anthropic import ChatAnthropic\n",
        "\n",
        "from langchain_community.utilities.tavily_search import TavilySearchAPIWrapper\n",
        "from langchain_community.tools.tavily_search import TavilySearchResults\n",
        "from langchain_core.messages import SystemMessage, ToolMessage\n",
        "\n",
        "from langgraph.prebuilt import ToolNode, tools_condition\n",
        "\n",
        "from langgraph.checkpoint.memory import MemorySaver\n",
        "\n",
        "from IPython.display import Image, display\n",
        "\n",
        "import os\n",
        "os.environ[\"LANGCHAIN_TRACING_V2\"] = \"false\"    # Disable LangSmith tracing\n",
        "\n",
        "import dotenv\n",
        "dotenv.load_dotenv()\n",
        "ANTHROPIC_TOKEN = os.getenv(\"ANTHROPIC_LANGGRAPH_API_KEY\")\n",
        "TAVILY_API_KEY = os.getenv(\"TAVILY_LANGGRAPH_API_KEY\")\n",
        "\n",
        "# State\n",
        "class State_searcher(TypedDict):\n",
        "    messages: Annotated[list, add_messages]\n",
        "\n",
        "# Tools\n",
        "wrapper = TavilySearchAPIWrapper(tavily_api_key=TAVILY_API_KEY)\n",
        "tool_search = TavilySearchResults(api_wrapper=wrapper, max_results=10)\n",
        "tools_searcher_list = [tool_search]\n",
        "\n",
        "# Create the LLM model\n",
        "llm_searcher = ChatAnthropic(model=\"claude-3-7-sonnet-20250219\", api_key=ANTHROPIC_TOKEN)\n",
        "# Create the LLM with tools\n",
        "llm_searcher_with_tools = llm_searcher.bind_tools(tools_searcher_list)\n",
        "\n",
        "# Tool node\n",
        "tool_searcher_node = ToolNode(tools=tools_searcher_list)\n",
        "\n",
        "# Functions\n",
        "def searcher_function(state: State_searcher):\n",
        "    # Check if the last message is a ToolMessage\n",
        "    if state[\"messages\"] and isinstance(state[\"messages\"][-1], ToolMessage):\n",
        "        # If it is, it means the tool has run, so we pass the messages as they are.\n",
        "        return {\"messages\": state[\"messages\"]}\n",
        "\n",
        "    system_prompt = \"\"\"You are a helpful assistant.\n",
        "    Your task is to decide if you need to search the web for information based on the user's query.\n",
        "    If you need to search the web, invoke the available search tool.\n",
        "    Do NOT process or summarize the search results. Simply return the raw output from the search tool.\n",
        "    If you don't need to search, respond to the user directly.\n",
        "    The document must to have more than 200 words.\n",
        "    \"\"\"\n",
        "    messages = [SystemMessage(content=system_prompt)] + state[\"messages\"]\n",
        "    return {\"messages\": [llm_searcher_with_tools.invoke(messages)]}\n",
        "\n",
        "# Start to build the graph\n",
        "graph_searcher = StateGraph(State_searcher)\n",
        "\n",
        "# Add nodes to the graph\n",
        "graph_searcher.add_node(\"searcher_node\", searcher_function)\n",
        "graph_searcher.add_node(\"tools\", tool_searcher_node)\n",
        "\n",
        "# Add edges\n",
        "graph_searcher.add_edge(START, \"searcher_node\")\n",
        "graph_searcher.add_conditional_edges( \"searcher_node\", tools_condition)\n",
        "graph_searcher.add_edge(\"tools\", \"searcher_node\")\n",
        "\n",
        "# Compile the graph\n",
        "memory_searcher = MemorySaver()\n",
        "graph_searcher_compiled = graph_searcher.compile(checkpointer=memory_searcher)\n",
        "\n",
        "# Display the graph\n",
        "try:\n",
        "    display(Image(graph_searcher_compiled.get_graph().draw_mermaid_png()))\n",
        "except Exception as e:\n",
        "    print(f\"Error al visualizar el grafo: {e}\")"
      ]
    },
    {
      "cell_type": "markdown",
      "metadata": {
        "id": "YJhprtfYElk-"
      },
      "source": [
        "Vamos a probarlo, le voy a pedir los finalistas de la Champions League de este año (2025), que lógicamente no está en el conocimiento del LLM"
      ]
    },
    {
      "cell_type": "code",
      "execution_count": 15,
      "metadata": {
        "colab": {
          "base_uri": "https://localhost:8080/"
        },
        "id": "IC4DeilEElk-",
        "outputId": "0c11d184-601a-4193-f4b0-fdb64d0e90e2"
      },
      "outputs": [
        {
          "name": "stdout",
          "output_type": "stream",
          "text": [
            "================================\u001b[1m Human Message \u001b[0m=================================\n",
            "\n",
            "Who are the Champions League 2025 finalists?\n",
            "==================================\u001b[1m Ai Message \u001b[0m==================================\n",
            "\n",
            "[{'text': 'I need to search for current information about the Champions League 2025 finalists, as this is a question about a future or recent sporting event that requires up-to-date information.', 'type': 'text'}, {'id': 'toolu_01Ji44XJNoDwwoUp9mmPWuG4', 'input': {'query': 'Champions League 2025 finalists'}, 'name': 'tavily_search_results_json', 'type': 'tool_use'}]\n",
            "Tool Calls:\n",
            "  tavily_search_results_json (toolu_01Ji44XJNoDwwoUp9mmPWuG4)\n",
            " Call ID: toolu_01Ji44XJNoDwwoUp9mmPWuG4\n",
            "  Args:\n",
            "    query: Champions League 2025 finalists\n",
            "=================================\u001b[1m Tool Message \u001b[0m=================================\n",
            "Name: tavily_search_results_json\n",
            "\n",
            "[{\"title\": \"2025 UEFA Champions League final: Munich Football Arena\", \"url\": \"https://www.uefa.com/uefachampionsleague/news/0283-186742eb3c74-d5eb4afca229-1000--2025-uefa-champions-league-final-munich-football-arena/\", \"content\": \"The 2025 Champions League final between Paris and Inter takes place on Saturday 31 May 2025. It will be culmination of the 70th season of\", \"score\": 0.86632514}, {\"title\": \"2025 UEFA Champions League final - Wikipedia\", \"url\": \"https://en.wikipedia.org/wiki/2025_UEFA_Champions_League_final\", \"content\": \"10.   **[^](https://en.wikipedia.org/wiki/2025_UEFA_Champions_League_final#cite_ref-11)**Benge, James; Booth, Chuck (31 May 2025). [\\\"Paris Saint-Germain vs. Inter score: PSG crowned Champions League winners for first time with blowout victory\\\"](https://www.cbssports.com/soccer/news/paris-saint-germain-vs-inter-score-psg-crowned-champions-league-winners-for-first-time-with-blowout-victory/live/). _CBS Sports_. Retrieved 31 May 2025. [...] 3.   ^ [_**a**_](https://en.wikipedia.org/wiki/2025_UEFA_Champions_League_final#cite_ref-report_31_May_3-0)[_**b**_](https://en.wikipedia.org/wiki/2025_UEFA_Champions_League_final#cite_ref-report_31_May_3-1)[\\\"Full Time Report Final – Paris Saint-Germain v Inter Milan\\\"](https://www.uefa.com/newsfiles/UCL/2025/2044466_FR.pdf)(PDF). _UEFA.com_. Union of European Football Associations. 31 May 2025. Retrieved 31 May 2025. [...] 40.   **[^](https://en.wikipedia.org/wiki/2025_UEFA_Champions_League_final#cite_ref-41)**[\\\"Inzaghi: \\\"It hurts, but PSG were the better team. I've thanked the lads\\\"\\\"](https://www.inter.it/en/news/inzaghi-interview-psg-inter-champions-league-final). Inter Milan. 1 June 2025. Retrieved 3 June 2025.\", \"score\": 0.8565368}, {\"title\": \"2025 UEFA Champions League final - Simple Wikipedia\", \"url\": \"https://simple.wikipedia.org/wiki/2025_UEFA_Champions_League_final\", \"content\": \"Italy.[[2]](https://simple.wikipedia.org/wiki/2025_UEFA_Champions_League_final#cite_note-2) This will be the first Champions League final since 2004 that does not include a team from [England](https://simple.wikipedia.org/wiki/England \\\"England\\\"), [Spain](https://simple.wikipedia.org/wiki/Spain \\\"Spain\\\"), or [Germany.](https://simple.wikipedia.org/wiki/Germany \\\"Germany\\\") It is also the first final played using the new [Swiss [...] The match will take place on 31 May 2025 at the [Allianz Arena](https://simple.wikipedia.org/wiki/Allianz_Arena \\\"Allianz Arena\\\") in [Munich, Germany](https://simple.wikipedia.org/wiki/Munich \\\"Munich\\\"). The two teams playing are [Paris Saint-Germain](https://simple.wikipedia.org/wiki/Paris_Saint-Germain_F.C. \\\"Paris Saint-Germain F.C.\\\") from France and [Inter Milan](https://simple.wikipedia.org/wiki/Inter_Milan \\\"Inter Milan\\\") from [...] | [Paris Saint-Germain](https://simple.wikipedia.org/wiki/Paris_Saint-Germain_FC \\\"Paris Saint-Germain FC\\\") | [Inter Milan](https://simple.wikipedia.org/wiki/Inter_Milan \\\"Inter Milan\\\") |\\n| --- | --- |\", \"score\": 0.8512743}, {\"title\": \"PSG defeats Inter Milan 5-0 to secure 1st UCL Trophy - YouTube\", \"url\": \"https://www.youtube.com/watch?v=OF-v3cLTXaw\", \"content\": \"# 2025 UEFA Champions League Final: PSG defeats Inter Milan 5-0 to secure 1st UCL Trophy\\n## CBS Sports\\n1010000 subscribers\\n164 likes\\n\\n### Description\\n43695 views\\nPosted: 31 May 2025\\nMichael Lahoud joins CBS Sports HQ to recap the win for PSG over Inter Milan to win their first UEFA Champions League Final.\\n\\nSUBSCRIBE TO OUR CHANNEL:\\nhttps://www.youtube.com/user/CBSSports\", \"score\": 0.8506799}, {\"title\": \"Top Winners and Losers After Champions League 2025 Final\", \"url\": \"https://bleacherreport.com/articles/25200876-top-winners-and-losers-after-champions-league-2025-final\", \"content\": \"![Image 5: Paris Saint-Germain v FC Internazionale Milano - UEFA Champions League Final 2025](https://gsp-image-cdn.wmsports.io/cms/prod/bleacher-report/getty_images/2217997173_large_image.jpg)\\n\\nLars Baron/Getty Images\\n\\nSaturday served as a simply phenomenal showcase for 19-year-old Frenchman Desiré Doué, whose efforts left Inter spinning its wheels. Not only did he score two goals, but Doué registered an assist on Hakimi’s opener. [...] 3 of 3\\n\\n![Image 6: Paris Saint-Germain v FC Internazionale Milano - UEFA Champions League Final 2025](https://gsp-image-cdn.wmsports.io/cms/prod/bleacher-report/getty_images/2217302096_large_image.jpg)\\n\\nRobbie Jay Barratt - AMA/Getty Images\\n\\nNine managers have now won the Champions League two or more times since the competition's rebranding in 1992, after Luis Enrique joined that list Saturday. [...] ![Image 1: Video thumbnail](https://vod-media-aka.warnermediacdn.com/br/clips/2025-05/1927049-daf7f4b2199f49fea9e593db550a06a7/images/video-portal-thumbnails-c4b948f4-d55e-4a92-9c06-d54f1beedad0-1927049-3.png)\\n\\n01:06\\n\\nFeatured Video\\n--------------\\n\\n### PSG Finally Conquers UCL 🏆\\n\\nPrevious Next\\n\\n![Image 2: Paris Saint-Germain v FC Internazionale Milano - UEFA Champions League Final 2025](https://gsp-image-cdn.wmsports.io/cms/prod/bleacher-report/getty_images/2217997018_large_image.jpg)\", \"score\": 0.83549726}, {\"title\": \"2025 UEFA Champions League final: All you need to know\", \"url\": \"https://www.uefa.com/uefachampionsleague/news/0296-1d2ab6f54da7-c43a66bc7b77-1000--2025-uefa-champions-league-final-all-you-need-to-know/\", \"content\": \"More Teams New format News Final History Seasons All-time stats Video Teams Most titles About Store\\n\\nFavourite team\\n\\nUEFA Champions League - 2025 UEFA Champions League final: All you need to know - News\\n\\nGo back\\n\\n2025 UEFA Champions League final: All you need to know\\n======================================================\\n\\nSaturday, May 31, 2025\\n\\nArticle summary\\n---------------\\n\\nThe 2024/25 UEFA Champions League final between Paris and Inter will take place at the Munich Football Arena.\", \"score\": 0.8296166}]\n"
          ]
        }
      ],
      "source": [
        "from langchain_core.messages import HumanMessage\n",
        "\n",
        "USER1_THREAD_ID = \"1\"\n",
        "config_USER1 = {\"configurable\": {\"thread_id\": USER1_THREAD_ID}}\n",
        "\n",
        "prompt = \"Who are the Champions League 2025 finalists?\"\n",
        "\n",
        "messages = [HumanMessage(content=prompt)]\n",
        "\n",
        "result_searcher = graph_searcher_compiled.invoke({\"messages\": messages}, config=config_USER1)\n",
        "\n",
        "for message in result_searcher[\"messages\"]:\n",
        "    message.pretty_print()"
      ]
    },
    {
      "cell_type": "markdown",
      "metadata": {
        "id": "QhcXCtKkElk-"
      },
      "source": [
        "Nos ha devuelto una lista de resultados de la búsqueda, ahora vamos a sintetizarla."
      ]
    },
    {
      "cell_type": "markdown",
      "metadata": {
        "id": "z5PYa_ytElk-"
      },
      "source": [
        "### Worker 2: agente sintetizador de noticias"
      ]
    },
    {
      "cell_type": "markdown",
      "metadata": {
        "id": "8lnp6IaeElk-"
      },
      "source": [
        "Ahora creamos el segundo worker, un agente que se encarga de sintetizar la información de los informes de los otros agentes."
      ]
    },
    {
      "cell_type": "code",
      "execution_count": 16,
      "metadata": {
        "colab": {
          "base_uri": "https://localhost:8080/",
          "height": 398
        },
        "id": "bHsMadxaElk-",
        "outputId": "d39d06be-23b7-4617-99e0-cb4263f41911"
      },
      "outputs": [
        {
          "data": {
            "image/png": "[encoded data removed]",
            "text/plain": [
              "<IPython.core.display.Image object>"
            ]
          },
          "metadata": {},
          "output_type": "display_data"
        }
      ],
      "source": [
        "# State\n",
        "class State_summarizer(TypedDict):\n",
        "    messages: Annotated[list, add_messages]\n",
        "    decision: str\n",
        "\n",
        "# Create the LLM model\n",
        "llm_summarizer = ChatAnthropic(model=\"claude-3-7-sonnet-20250219\", api_key=ANTHROPIC_TOKEN)\n",
        "\n",
        "# Functions\n",
        "def summarizer_function(state: State_summarizer):\n",
        "    system_prompt = \"\"\"You are an advanced AI assistant specialized in summarizing complex information from multiple documents.\n",
        "    Your task is to process a list of provided documents (typically search results) and generate a comprehensive yet concise summary.\n",
        "\n",
        "    Key objectives for your summary:\n",
        "    1.  **Accuracy:** Ensure all information is derived strictly from the provided documents. Do not infer or add external knowledge.\n",
        "    2.  **Relevance:** Focus on the most important facts, findings, and answers related to the core topic of the documents.\n",
        "    3.  **Clarity:** Write in clear, precise, and easily understandable language. Define any jargon if present in the source and necessary for understanding.\n",
        "    4.  **Structure:** Organize the summary logically. Use paragraphs to separate distinct ideas. If helpful for the content, consider using bullet points for lists of key facts or findings.\n",
        "    5.  **Conciseness:** Be thorough but avoid unnecessary repetition or overly verbose phrasing. Capture the essence efficiently.\n",
        "    6.  **Neutrality:** Maintain an objective tone.\n",
        "\n",
        "    Synthesize the information into a coherent piece that gives a full picture of what the documents collectively state about the topic.\n",
        "    \"\"\" # End of the new system_prompt\n",
        "    messages = [SystemMessage(content=system_prompt)] + state[\"messages\"]\n",
        "    summarizer_result = llm_summarizer.invoke(messages)\n",
        "    return {\"messages\": [summarizer_result]}\n",
        "\n",
        "def check_summarizer_result(state: State_summarizer):\n",
        "    system_prompt = \"\"\"You are a critical reviewer AI, tasked with validating text summaries against specific quality criteria.\n",
        "    You will receive an original text and a summary generated from it. The summary was intended to meet the following objectives:\n",
        "    - Accuracy (derived strictly from the original, no external knowledge).\n",
        "    - Relevance (focus on most important facts related to the core topic).\n",
        "    - Clarity (clear, precise, easily understandable language).\n",
        "    - Good Structure (logically organized, paragraphs/bullets if appropriate).\n",
        "    - Conciseness (thorough but not verbose).\n",
        "    - Neutrality (objective tone).\n",
        "\n",
        "    Carefully compare the summary against the original text.\n",
        "    If the summary successfully meets ALL the above objectives, return the single word \"good\".\n",
        "    If the summary fails to meet one or more of these objectives adequately, return the single word \"bad\".\n",
        "    Provide only \"good\" or \"bad\" as your response.\n",
        "    \"\"\" # End of new system_prompt\n",
        "\n",
        "    text_to_summarize = state[\"messages\"][-2].content\n",
        "\n",
        "    summarizer_result = state[\"messages\"][-1].content\n",
        "\n",
        "    prompt = f\"\"\"\n",
        "    Here is the summary:\n",
        "    {summarizer_result}\n",
        "\n",
        "    And here is the original text:\n",
        "    {text_to_summarize}\n",
        "\n",
        "    Please, return only one word, \"good\" or \"bad\".\n",
        "    \"\"\"\n",
        "    messages = [SystemMessage(content=system_prompt)] + [HumanMessage(content=prompt)]\n",
        "    decision = llm_summarizer.invoke(messages)\n",
        "    return {\"decision\": decision.content}\n",
        "\n",
        "# Start to build the graph\n",
        "graph_summarizer = StateGraph(State_summarizer)\n",
        "\n",
        "# Add nodes to the graph\n",
        "graph_summarizer.add_node(\"summarizer_node\", summarizer_function)\n",
        "graph_summarizer.add_node(\"check_summarizer_result\", check_summarizer_result)\n",
        "# Add edges\n",
        "graph_summarizer.add_edge(START, \"summarizer_node\")\n",
        "graph_summarizer.add_edge(\"summarizer_node\", \"check_summarizer_result\")\n",
        "graph_summarizer.add_conditional_edges(\n",
        "    source=\"check_summarizer_result\",\n",
        "    path=lambda state: state[\"decision\"],\n",
        "    path_map={\n",
        "        \"good\": END,\n",
        "        \"bad\": \"summarizer_node\"\n",
        "    }\n",
        ")\n",
        "\n",
        "# Compile the graph\n",
        "memory_summarizer = MemorySaver()\n",
        "graph_summarizer_compiled = graph_summarizer.compile(checkpointer=memory_summarizer)\n",
        "\n",
        "# Display the graph\n",
        "try:\n",
        "    display(Image(graph_summarizer_compiled.get_graph().draw_mermaid_png()))\n",
        "except Exception as e:\n",
        "    print(f\"Error al visualizar el grafo: {e}\")"
      ]
    },
    {
      "cell_type": "markdown",
      "metadata": {
        "id": "tZhhAZuXElk-"
      },
      "source": [
        "Vamos a probarlo, le voy a pasar el resultado del primer worker para ver cómo lo sintetiza."
      ]
    },
    {
      "cell_type": "code",
      "execution_count": 17,
      "metadata": {
        "colab": {
          "base_uri": "https://localhost:8080/"
        },
        "id": "T6-0nX7JElk-",
        "outputId": "b68ff0fd-eb5b-4e41-c5fa-9caa39c39b3a"
      },
      "outputs": [
        {
          "name": "stdout",
          "output_type": "stream",
          "text": [
            "================================\u001b[1m Human Message \u001b[0m=================================\n",
            "\n",
            "[{\"title\": \"2025 UEFA Champions League final: Munich Football Arena\", \"url\": \"https://www.uefa.com/uefachampionsleague/news/0283-186742eb3c74-d5eb4afca229-1000--2025-uefa-champions-league-final-munich-football-arena/\", \"content\": \"The 2025 Champions League final between Paris and Inter takes place on Saturday 31 May 2025. It will be culmination of the 70th season of\", \"score\": 0.86632514}, {\"title\": \"2025 UEFA Champions League final - Wikipedia\", \"url\": \"https://en.wikipedia.org/wiki/2025_UEFA_Champions_League_final\", \"content\": \"10.   **[^](https://en.wikipedia.org/wiki/2025_UEFA_Champions_League_final#cite_ref-11)**Benge, James; Booth, Chuck (31 May 2025). [\\\"Paris Saint-Germain vs. Inter score: PSG crowned Champions League winners for first time with blowout victory\\\"](https://www.cbssports.com/soccer/news/paris-saint-germain-vs-inter-score-psg-crowned-champions-league-winners-for-first-time-with-blowout-victory/live/). _CBS Sports_. Retrieved 31 May 2025. [...] 3.   ^ [_**a**_](https://en.wikipedia.org/wiki/2025_UEFA_Champions_League_final#cite_ref-report_31_May_3-0)[_**b**_](https://en.wikipedia.org/wiki/2025_UEFA_Champions_League_final#cite_ref-report_31_May_3-1)[\\\"Full Time Report Final – Paris Saint-Germain v Inter Milan\\\"](https://www.uefa.com/newsfiles/UCL/2025/2044466_FR.pdf)(PDF). _UEFA.com_. Union of European Football Associations. 31 May 2025. Retrieved 31 May 2025. [...] 40.   **[^](https://en.wikipedia.org/wiki/2025_UEFA_Champions_League_final#cite_ref-41)**[\\\"Inzaghi: \\\"It hurts, but PSG were the better team. I've thanked the lads\\\"\\\"](https://www.inter.it/en/news/inzaghi-interview-psg-inter-champions-league-final). Inter Milan. 1 June 2025. Retrieved 3 June 2025.\", \"score\": 0.8565368}, {\"title\": \"2025 UEFA Champions League final - Simple Wikipedia\", \"url\": \"https://simple.wikipedia.org/wiki/2025_UEFA_Champions_League_final\", \"content\": \"Italy.[[2]](https://simple.wikipedia.org/wiki/2025_UEFA_Champions_League_final#cite_note-2) This will be the first Champions League final since 2004 that does not include a team from [England](https://simple.wikipedia.org/wiki/England \\\"England\\\"), [Spain](https://simple.wikipedia.org/wiki/Spain \\\"Spain\\\"), or [Germany.](https://simple.wikipedia.org/wiki/Germany \\\"Germany\\\") It is also the first final played using the new [Swiss [...] The match will take place on 31 May 2025 at the [Allianz Arena](https://simple.wikipedia.org/wiki/Allianz_Arena \\\"Allianz Arena\\\") in [Munich, Germany](https://simple.wikipedia.org/wiki/Munich \\\"Munich\\\"). The two teams playing are [Paris Saint-Germain](https://simple.wikipedia.org/wiki/Paris_Saint-Germain_F.C. \\\"Paris Saint-Germain F.C.\\\") from France and [Inter Milan](https://simple.wikipedia.org/wiki/Inter_Milan \\\"Inter Milan\\\") from [...] | [Paris Saint-Germain](https://simple.wikipedia.org/wiki/Paris_Saint-Germain_FC \\\"Paris Saint-Germain FC\\\") | [Inter Milan](https://simple.wikipedia.org/wiki/Inter_Milan \\\"Inter Milan\\\") |\\n| --- | --- |\", \"score\": 0.8512743}, {\"title\": \"PSG defeats Inter Milan 5-0 to secure 1st UCL Trophy - YouTube\", \"url\": \"https://www.youtube.com/watch?v=OF-v3cLTXaw\", \"content\": \"# 2025 UEFA Champions League Final: PSG defeats Inter Milan 5-0 to secure 1st UCL Trophy\\n## CBS Sports\\n1010000 subscribers\\n164 likes\\n\\n### Description\\n43695 views\\nPosted: 31 May 2025\\nMichael Lahoud joins CBS Sports HQ to recap the win for PSG over Inter Milan to win their first UEFA Champions League Final.\\n\\nSUBSCRIBE TO OUR CHANNEL:\\nhttps://www.youtube.com/user/CBSSports\", \"score\": 0.8506799}, {\"title\": \"Top Winners and Losers After Champions League 2025 Final\", \"url\": \"https://bleacherreport.com/articles/25200876-top-winners-and-losers-after-champions-league-2025-final\", \"content\": \"![Image 5: Paris Saint-Germain v FC Internazionale Milano - UEFA Champions League Final 2025](https://gsp-image-cdn.wmsports.io/cms/prod/bleacher-report/getty_images/2217997173_large_image.jpg)\\n\\nLars Baron/Getty Images\\n\\nSaturday served as a simply phenomenal showcase for 19-year-old Frenchman Desiré Doué, whose efforts left Inter spinning its wheels. Not only did he score two goals, but Doué registered an assist on Hakimi’s opener. [...] 3 of 3\\n\\n![Image 6: Paris Saint-Germain v FC Internazionale Milano - UEFA Champions League Final 2025](https://gsp-image-cdn.wmsports.io/cms/prod/bleacher-report/getty_images/2217302096_large_image.jpg)\\n\\nRobbie Jay Barratt - AMA/Getty Images\\n\\nNine managers have now won the Champions League two or more times since the competition's rebranding in 1992, after Luis Enrique joined that list Saturday. [...] ![Image 1: Video thumbnail](https://vod-media-aka.warnermediacdn.com/br/clips/2025-05/1927049-daf7f4b2199f49fea9e593db550a06a7/images/video-portal-thumbnails-c4b948f4-d55e-4a92-9c06-d54f1beedad0-1927049-3.png)\\n\\n01:06\\n\\nFeatured Video\\n--------------\\n\\n### PSG Finally Conquers UCL 🏆\\n\\nPrevious Next\\n\\n![Image 2: Paris Saint-Germain v FC Internazionale Milano - UEFA Champions League Final 2025](https://gsp-image-cdn.wmsports.io/cms/prod/bleacher-report/getty_images/2217997018_large_image.jpg)\", \"score\": 0.83549726}, {\"title\": \"2025 UEFA Champions League final: All you need to know\", \"url\": \"https://www.uefa.com/uefachampionsleague/news/0296-1d2ab6f54da7-c43a66bc7b77-1000--2025-uefa-champions-league-final-all-you-need-to-know/\", \"content\": \"More Teams New format News Final History Seasons All-time stats Video Teams Most titles About Store\\n\\nFavourite team\\n\\nUEFA Champions League - 2025 UEFA Champions League final: All you need to know - News\\n\\nGo back\\n\\n2025 UEFA Champions League final: All you need to know\\n======================================================\\n\\nSaturday, May 31, 2025\\n\\nArticle summary\\n---------------\\n\\nThe 2024/25 UEFA Champions League final between Paris and Inter will take place at the Munich Football Arena.\", \"score\": 0.8296166}]\n",
            "==================================\u001b[1m Ai Message \u001b[0m==================================\n",
            "\n",
            "# 2025 UEFA Champions League Final: PSG vs Inter Milan Summary\n",
            "\n",
            "The 2025 UEFA Champions League final will be played between Paris Saint-Germain (PSG) from France and Inter Milan from Italy on Saturday, May 31, 2025. The match will take place at the Allianz Arena (also referred to as the Munich Football Arena) in Munich, Germany.\n",
            "\n",
            "## Match Outcome\n",
            "According to the sources, Paris Saint-Germain won the final with a dominant 5-0 victory over Inter Milan. This marked PSG's first UEFA Champions League trophy in the club's history.\n",
            "\n",
            "## Key Highlights:\n",
            "- The match was a particularly one-sided affair described as a \"blowout victory\" for PSG\n",
            "- 19-year-old French player Desiré Doué had an outstanding performance, scoring two goals and providing an assist for Achraf Hakimi's opening goal\n",
            "- Luis Enrique, PSG's manager, joined an elite group by becoming the ninth manager to win the Champions League two or more times since the competition's rebranding in 1992\n",
            "\n",
            "## Historical Context:\n",
            "- This final was the culmination of the 70th season of the UEFA Champions League\n",
            "- It was the first Champions League final since 2004 that did not include a team from England, Spain, or Germany\n",
            "- The final was played using the new \"Swiss\" format, indicating a change in the tournament structure\n",
            "\n",
            "After the match, Inter Milan manager Simone Inzaghi acknowledged that \"PSG were the better team\" in his post-match comments, accepting the defeat while thanking his players for their efforts throughout the competition.\n",
            "\n",
            "Decision on Summary:\n",
            "good\n",
            "--- End of Summarizer Graph Output ---\n"
          ]
        }
      ],
      "source": [
        "search_result = result_searcher[\"messages\"][-1].content\n",
        "\n",
        "messages = [HumanMessage(content=search_result)]\n",
        "\n",
        "result_sumarizer = graph_summarizer_compiled.invoke({\"messages\": messages}, config=config_USER1)\n",
        "\n",
        "for message in result_sumarizer[\"messages\"]:\n",
        "    message.pretty_print()\n",
        "\n",
        "print(\"\\nDecision on Summary:\")\n",
        "decision = result_sumarizer.get(\"decision\")\n",
        "if decision:\n",
        "    print(decision)\n",
        "else:\n",
        "    print(\"No decision was found.\")\n",
        "\n",
        "print(\"--- End of Summarizer Graph Output ---\")"
      ]
    },
    {
      "cell_type": "markdown",
      "metadata": {
        "id": "WmBvkpofElk-"
      },
      "source": [
        "Vemos que ha hecho un resumen de las noticias"
      ]
    },
    {
      "cell_type": "markdown",
      "metadata": {
        "id": "IKY2apNYElk-"
      },
      "source": [
        "### Grafo principal"
      ]
    },
    {
      "cell_type": "markdown",
      "metadata": {
        "id": "D-Z3wVJSElk-"
      },
      "source": [
        "Una vez tenemos los dos workers, podemos construir el grafo principal."
      ]
    },
    {
      "cell_type": "code",
      "execution_count": 18,
      "metadata": {
        "colab": {
          "base_uri": "https://localhost:8080/",
          "height": 710
        },
        "id": "j0Vd0lFJElk_",
        "outputId": "0b9ba02d-2fe6-40d0-c267-0fb0e729eedc"
      },
      "outputs": [
        {
          "data": {
            "image/png": "[encoded data removed]",
            "text/plain": [
              "<IPython.core.display.Image object>"
            ]
          },
          "metadata": {},
          "output_type": "display_data"
        }
      ],
      "source": [
        "# Entry Graph\n",
        "class State_agent_pattern(TypedDict):\n",
        "    messages: Annotated[list, add_messages]  # Holds all messages: user query, tool calls/results, summaries\n",
        "    agent_decision: str  # Routing: \"route_to_searcher\", \"route_to_summarizer\", \"route_to_end\"\n",
        "\n",
        "# Create the LLM model\n",
        "llm_agent_pattern = ChatAnthropic(model=\"claude-3-7-sonnet-20250219\", api_key=ANTHROPIC_TOKEN)\n",
        "\n",
        "# Functions\n",
        "def decision_function(state: State_agent_pattern) -> dict:\n",
        "    \"\"\"\n",
        "    Decides the next action for the agent based on the current state of messages.\n",
        "    Updates 'agent_decision' to route to the searcher, summarizer, or end the process.\n",
        "    \"\"\"\n",
        "    current_messages = state.get(\"messages\", [])\n",
        "    next_route = \"route_to_searcher\"  # Default action\n",
        "\n",
        "    if not current_messages:\n",
        "        print(\"Warning: decision_function called with empty messages. Defaulting to search.\")\n",
        "        return {\"agent_decision\": \"route_to_searcher\"}\n",
        "\n",
        "    last_message = current_messages[-1]\n",
        "\n",
        "    if isinstance(last_message, ToolMessage):\n",
        "        # Search results are available (ToolMessage). Next step: summarize.\n",
        "        next_route = \"route_to_summarizer\"\n",
        "    elif isinstance(last_message, AIMessage):\n",
        "        # AIMessage could be a direct answer from searcher or a summary from summarizer.\n",
        "        ai_content = getattr(last_message, 'content', \"\").strip()\n",
        "\n",
        "        if not ai_content:\n",
        "            print(\"Warning: AIMessage has no content. Defaulting to search.\")\n",
        "            next_route = \"route_to_searcher\"\n",
        "        else:\n",
        "            # Use LLM to evaluate the AIMessage content\n",
        "            system_prompt_eval = \"\"\"You are an expert content analyst.\n",
        "Analyze the provided text. The text could be a direct answer to a query or a summary.\n",
        "- If the text is a comprehensive and sufficient final answer, respond with \"enough\".\n",
        "- If the text seems like raw search results that were not properly captured as a ToolMessage but as an AIMessage, or requires summarization, respond with \"needs_summary\".\n",
        "- If the text is a summary, but it's insufficient and more searching/refinement is needed, respond with \"search_again\".\n",
        "Respond with only one of: \"enough\", \"needs_summary\", \"search_again\".\n",
        "\"\"\"\n",
        "            eval_messages = [\n",
        "                SystemMessage(content=system_prompt_eval),\n",
        "                HumanMessage(content=ai_content)\n",
        "            ]\n",
        "            try:\n",
        "                llm_eval_decision_obj = llm_agent_pattern.invoke(eval_messages)\n",
        "                eval_decision_str = llm_eval_decision_obj.content.strip().lower()\n",
        "\n",
        "                if eval_decision_str == \"enough\":\n",
        "                    next_route = \"route_to_end\"\n",
        "                elif eval_decision_str == \"needs_summary\":\n",
        "                    next_route = \"route_to_summarizer\"\n",
        "                elif eval_decision_str == \"search_again\":\n",
        "                    next_route = \"route_to_searcher\"\n",
        "                else:\n",
        "                    print(f\"Warning: LLM in decision_function (AIMessage eval) returned: '{eval_decision_str}'. Defaulting to end.\")\n",
        "                    next_route = \"route_to_end\" # Safer default for unrecognized LLM output\n",
        "            except Exception as e:\n",
        "                print(f\"Error during LLM call in decision_function: {e}. Defaulting to search.\")\n",
        "                next_route = \"route_to_searcher\"\n",
        "\n",
        "\n",
        "    elif isinstance(last_message, HumanMessage):\n",
        "        # Initial user query or a follow-up. Start by searching.\n",
        "        next_route = \"route_to_searcher\"\n",
        "    else:\n",
        "        print(f\"Warning: decision_function encountered an unexpected last message type: {type(last_message)}. Defaulting to search.\")\n",
        "        next_route = \"route_to_searcher\"\n",
        "\n",
        "    return {\"agent_decision\": next_route}\n",
        "\n",
        "# Build the graph\n",
        "agent_pattern_builder = StateGraph(State_agent_pattern)\n",
        "\n",
        "# Add nodes\n",
        "agent_pattern_builder.add_node(\"decision_node\", decision_function)\n",
        "agent_pattern_builder.add_node(\"searcher_node\", graph_searcher.compile())\n",
        "agent_pattern_builder.add_node(\"summarizer_node\", graph_summarizer.compile())\n",
        "\n",
        "# Add edges\n",
        "agent_pattern_builder.add_edge(START, \"decision_node\")\n",
        "agent_pattern_builder.add_conditional_edges(\n",
        "    source=\"decision_node\",\n",
        "    path=lambda state: state[\"agent_decision\"],\n",
        "    path_map={\n",
        "        \"route_to_searcher\": \"searcher_node\",\n",
        "        \"route_to_summarizer\": \"summarizer_node\",\n",
        "        \"route_to_end\": END\n",
        "    }\n",
        ")\n",
        "\n",
        "# Edges to loop back to the decision node after search or summarization\n",
        "agent_pattern_builder.add_edge(\"searcher_node\", \"decision_node\")\n",
        "agent_pattern_builder.add_edge(\"summarizer_node\", \"decision_node\")\n",
        "\n",
        "\n",
        "# Compile the graph\n",
        "graph_agent_pattern = agent_pattern_builder.compile()\n",
        "\n",
        "# Setting xray to 1 will show the internal structure of the nested graph\n",
        "try:\n",
        "    display(Image(graph_agent_pattern.get_graph(xray=1).draw_mermaid_png()))\n",
        "except Exception as e:\n",
        "    print(f\"Error al visualizar el grafo: {e}\")"
      ]
    },
    {
      "cell_type": "markdown",
      "metadata": {
        "id": "BVnL1oTDElk_"
      },
      "source": [
        "Vamos a probarlo preguntando por [Jules](https://jules.google/) un agente de codificación asíncrono que ha salido hace una semana (a fecha de escritura del post), por lo que obviamente no debería estar en el conocimiento del LLM."
      ]
    },
    {
      "cell_type": "code",
      "execution_count": 19,
      "metadata": {
        "colab": {
          "base_uri": "https://localhost:8080/"
        },
        "id": "FJgeCdedElk_",
        "outputId": "8787914e-40df-4c9d-d847-9ef81f2fee1f"
      },
      "outputs": [
        {
          "name": "stdout",
          "output_type": "stream",
          "text": [
            "================================\u001b[1m Human Message \u001b[0m=================================\n",
            "\n",
            "Can you explain me what is Jules asyncronous coding agent?\n",
            "==================================\u001b[1m Ai Message \u001b[0m==================================\n",
            "\n",
            "[{'text': \"I'll need to search for up-to-date information about Jules asynchronous coding agent since this appears to be a specific technology or tool that I should provide accurate information about.\", 'type': 'text'}, {'id': 'toolu_01473AZcTAMVypoiFRbgZgfs', 'input': {'query': 'Jules asynchronous coding agent AI developer tool'}, 'name': 'tavily_search_results_json', 'type': 'tool_use'}]\n",
            "Tool Calls:\n",
            "  tavily_search_results_json (toolu_01473AZcTAMVypoiFRbgZgfs)\n",
            " Call ID: toolu_01473AZcTAMVypoiFRbgZgfs\n",
            "  Args:\n",
            "    query: Jules asynchronous coding agent AI developer tool\n",
            "=================================\u001b[1m Tool Message \u001b[0m=================================\n",
            "Name: tavily_search_results_json\n",
            "\n",
            "[{\"title\": \"Jules - AI Agent Store\", \"url\": \"https://aiagentstore.ai/ai-agent/jules\", \"content\": \"Jules is Google's asynchronous AI coding agent designed to autonomously manage software development tasks such as bug fixes, test creation, and feature implementation. Operating within a secure Google Cloud virtual machine, Jules clones repositories, understands project contexts, and executes multi-step plans using the Gemini 2.5 Pro model. It integrates seamlessly with GitHub, allowing developers to assign tasks via prompts or issue labels. Jules provides detailed plans, diffs, and audio [...] An asynchronous AI coding agent by Google that autonomously handles tasks like bug fixes and test writing within GitHub workflows.\\n\\n### Best For Professions: [...] changelogs for transparency. Currently in public beta, Jules offers a free tier with five tasks per day, with plans for future pricing tiers.\", \"score\": 0.91988057}, {\"title\": \"Meet Jules: Google AI Coding Agent — Codex/Copilot Killer?\", \"url\": \"https://medium.com/@samarrana407/meet-jules-google-ai-coding-agent-codex-copilot-killer-bb9e38867436\", \"content\": \"The landscape of AI coding agents is currently experiencing explosive growth, with new tools emerging rapidly to assist developers. Among the latest and most intriguing entries is **Google’s Jules**, an AI agent they are specifically labeling as an “**asynchronous coding agent**.” This designation hints at a fundamental difference from some other AI tools we’ve seen, suggesting a potentially significant shift in how developers interact with AI assistants. [...] Jules, however, operates differently. It aligns more closely with the concept of **autonomous coding agents** like OpenAI’s Codex Agent (distinct from the model). The key distinction is the **asynchronous** nature. Instead of working interactively line-by-line, you assign Jules a specific, potentially complex coding task. The agent then takes ownership of that task, works on it independently in the background, and presents the completed work once it’s ready. This promises a step closer to the [...] # What Sets Jules Apart? Asynchronous vs. Interactive Agents\\n\\nMany developers are familiar with AI coding tools integrated directly into their IDEs, such as Cursor or Windsurf. These tools typically work alongside the developer in real-time, offering code suggestions, completing lines, or refactoring code as you type — essentially “babysitting” your IDE.\", \"score\": 0.8934678}, {\"title\": \"Building with AI: highlights for developers at Google I/O\", \"url\": \"https://blog.google/technology/developers/google-ai-developer-updates-io-2025/\", \"content\": \"*   **Jules:** Now available to everyone, [Jules](http://jules.google/) is an asynchronous coding agent that gets out of your way, so you can focus on the coding you want to do, while Jules picks up the random tasks that you’d rather not. It can tackle your backlog of bugs, handle multiple tasks at once, and even take the first cut at building out a new feature. Jules works directly with GitHub, clones your repository to a Cloud VM and when you’re ready, creates a PR that you can merge back [...] [![Image 10: ](https://storage.googleapis.com/gweb-uniblog-publish-prod/images/Jules_Thumbnail.max-1200x416.format-webp.webp) Google Labs #### Build with Jules, your asynchronous coding agent By Kathy Korevec May 20, 2025](https://blog.google/technology/google-labs/jules/)\", \"score\": 0.86024034}, {\"title\": \"The Rise of Asynchronous AI Coding Agents: Exploring Google's ...\", \"url\": \"https://medium.com/@pratikabnave97/the-rise-of-asynchronous-ai-coding-agents-exploring-googles-jules-and-the-future-of-software-4adf7265e639\", \"content\": \"A new wave of AI-powered coding tools is hitting the scene fast. From OpenAI’s Codex to GitHub Copilot, these helpers are changing how developers write code. Suddenly, AI isn’t just assisting in real-time. Now, tools like Google’s Jules are working in the background, handling tasks asynchronously. This shift could reshape the way we build software. It’s time to look at what makes these agents different — and why they matter for the future of coding.\\n\\n![]() [...] Now, new AI agents like Google’s Jules are taking a different approach. Instead of waiting for your commands and giving quick hints, these tools are…\\n\\n--\\n\\n--\\n\\n![Pratik Abnave](https://miro.medium.com/v2/resize:fill:96:96/1*Og-o8xizX1JnkuO5eJGLpw.jpeg)\\n![Pratik Abnave](https://miro.medium.com/v2/resize:fill:128:128/1*Og-o8xizX1JnkuO5eJGLpw.jpeg)\\n\\n## Written by Pratik Abnave\", \"score\": 0.80089486}, {\"title\": \"Build with Jules, your asynchronous coding agent - Google Blog\", \"url\": \"https://blog.google/technology/google-labs/jules/\", \"content\": \"Copy link\\n\\nOur autonomous coding agent, Jules, is now in public beta.\\n\\nK\\n\\nKathy Korevec\\n\\n Director, Product Management, Google Labs \\n\\n Read AI-generated summary \\n\\nGeneral summary\\n---------------\\n\\nGoogle's Jules coding agent is now in public beta. Jules autonomously reads your code performs tasks like writing tests and fixing bugs. It works asynchronously in a secure cloud environment and offers features like audio changelogs and GitHub integration. [...] Jules is an asynchronous, agentic coding assistant that integrates directly with your existing repositories. It clones your codebase into a secure Google Cloud virtual machine (VM), understands the full context of your project, and performs tasks such as:\\n\\n*   Writing tests\\n*   Building new features\\n*   Providing audio changelogs\\n*   Fixing bugs\\n*   Bumping dependency versions [...] We introduced [Jules](http://jules.google/) last December in Google Labs as an early glimpse of what a true coding agent could become. Not a co-pilot, not a code-completion sidekick, but an autonomous agent that reads your code, understands your intent, and gets to work.\\n\\nToday, Jules is entering public beta, available to _everyone_. No waitlist. Worldwide, everywhere where the [Gemini model is available](https://ai.google.dev/gemini-api/docs/available-regions).\\n\\n### What is Jules?\", \"score\": 0.7876867}, {\"title\": \"Google's FREE AI Coding Agent is UNREAL! (Jules Tested) - YouTube\", \"url\": \"https://www.youtube.com/watch?v=YO7I8OLSwKE\", \"content\": \"Meet Jules an async development agent and it tackles bugs small feature requests and other software engineering tasks with direct export to GitHub.\", \"score\": 0.76194656}, {\"title\": \"Jules - An Asynchronous Coding Agent\", \"url\": \"https://jules.google/\", \"content\": \"[Try Jules](https://jules.google.com/)[Documentation](https://jules.google/docs)\\n\\n[](https://labs.google.com/)\\n*   [Terms of Service](https://policies.google.com/terms)\\n*   [Privacy Policy](https://policies.google.com/privacy) [...] ![Image 2: Writing software](https://jules.google/comic-computer.png)![Image 3: Bike riding](https://jules.google/comic-bike.png)![Image 4: Reading a book](https://jules.google/comic-book.png)![Image 5: Playing tennis](https://jules.google/comic-tennis.png)\\n\\nBrought to life with Gemini 2.5 Pro and the AIDA team.\\n\\n![Image 6: Squid](https://jules.google/squid.png)\\n\\n**GitHub Integration**\\nJules imports your repos, branches changes, and helps you create a PR. [...] Jules - An Asynchronous Coding Agent\\n\\n===============\\nJules - An Asynchronous Coding Agent\\n\\n===============\\n\\n[Try Jules](https://jules.google.com/)\\n\\nAn Asynchronous Coding Agent\\n============================\\n\\n![Image 1: Squid agent](https://jules.google/jules-pixelated.png)\\n\\n1`// Objective: Change UserOnboarding to use a state machine for steps`\\n\\n2``\\n\\n3`class UserOnboarding {`\\n\\n4`constructor(user) {`\\n\\n5`this.user = user;`\\n\\n6``\\n\\n7`this.steps = [\\\"welcome\\\", \\\"profile_setup\\\", \\\"preferences\\\"];`\\n\\n8``\", \"score\": 0.61972505}, {\"title\": \"Jules - An Asynchronous Coding Agent (New Codex alternative from ...\", \"url\": \"https://www.reddit.com/r/ChatGPTCoding/comments/1kqompk/jules_an_asynchronous_coding_agent_new_codex/\", \"content\": \"Jules - An Asynchronous Coding Agent (New Codex alternative from Google with free access). Resources And Tips.\", \"score\": 0.5035894}]\n",
            "==================================\u001b[1m Ai Message \u001b[0m==================================\n",
            "\n",
            "Based on the search results, I can provide you with a comprehensive explanation of Jules, Google's asynchronous coding agent:\n",
            "\n",
            "# Jules: Google's Asynchronous Coding Agent\n",
            "\n",
            "Jules is an AI-powered coding agent developed by Google that works asynchronously to handle software development tasks. Unlike interactive coding assistants that provide real-time suggestions as you type, Jules operates independently in the background, allowing developers to focus on more complex or creative aspects of coding.\n",
            "\n",
            "## Key Features and Capabilities:\n",
            "\n",
            "1. **Asynchronous Operation**: Instead of working alongside you in real-time, Jules takes on assigned tasks and works on them independently, delivering completed work when finished.\n",
            "\n",
            "2. **Task Handling**: Jules can autonomously manage various software development tasks including:\n",
            "   - Bug fixes\n",
            "   - Writing and implementing tests\n",
            "   - Building new features\n",
            "   - Bumping dependency versions\n",
            "   - Understanding complex codebases\n",
            "\n",
            "3. **Technical Implementation**:\n",
            "   - Operates within a secure Google Cloud virtual machine\n",
            "   - Clones repositories to understand project context\n",
            "   - Uses Gemini 2.5 Pro model as its underlying AI technology\n",
            "   - Creates multi-step plans to complete assigned tasks\n",
            "\n",
            "4. **GitHub Integration**:\n",
            "   - Seamless integration with GitHub workflows\n",
            "   - Tasks can be assigned via prompts or issue labels\n",
            "   - Creates pull requests with completed work\n",
            "   - Provides detailed diffs and changelogs for transparency\n",
            "\n",
            "5. **Documentation and Transparency**:\n",
            "   - Provides audio changelogs explaining changes\n",
            "   - Creates detailed plans for implementation\n",
            "   - Maintains transparency in its decision-making process\n",
            "\n",
            "## Availability and Access:\n",
            "\n",
            "Jules is currently in public beta and available worldwide wherever the Gemini model is supported. The free tier offers five tasks per day, with plans for additional pricing tiers in the future.\n",
            "\n",
            "## How Jules Differs from Other Coding Assistants:\n",
            "\n",
            "Unlike tools like GitHub Copilot or other IDE-integrated assistants that require constant interaction and \"babysitting,\" Jules is designed to take complete ownership of specific coding tasks, working autonomously while developers focus on other priorities. This represents a shift toward more autonomous AI coding agents that can handle complex, multi-step development tasks independently.\n"
          ]
        }
      ],
      "source": [
        "from langchain_core.messages import HumanMessage, AIMessage\n",
        "\n",
        "USER2_THREAD_ID = \"2\"\n",
        "config_USER2 = {\"configurable\": {\"thread_id\": USER2_THREAD_ID}}\n",
        "\n",
        "prompt = \"Can you explain me what is Jules asyncronous coding agent?\"\n",
        "\n",
        "messages = [HumanMessage(content=prompt)]\n",
        "\n",
        "result_agent_pattern = graph_agent_pattern.invoke({\"messages\": messages}, config=config_USER2)\n",
        "\n",
        "for message in result_agent_pattern[\"messages\"]:\n",
        "    message.pretty_print()"
      ]
    },
    {
      "cell_type": "markdown",
      "metadata": {
        "id": "xGd7u6r5Elk_"
      },
      "source": [
        "Tenemos un resumen de lo que es Jules, vamos a imprimirlo"
      ]
    },
    {
      "cell_type": "code",
      "execution_count": 20,
      "metadata": {
        "colab": {
          "base_uri": "https://localhost:8080/"
        },
        "id": "rJTl4NYAElk_",
        "outputId": "43d6084d-6adb-4fc2-e5ff-8717ee25a313"
      },
      "outputs": [
        {
          "name": "stdout",
          "output_type": "stream",
          "text": [
            "==================================\u001b[1m Ai Message \u001b[0m==================================\n",
            "\n",
            "Based on the search results, I can provide you with a comprehensive explanation of Jules, Google's asynchronous coding agent:\n",
            "\n",
            "# Jules: Google's Asynchronous Coding Agent\n",
            "\n",
            "Jules is an AI-powered coding agent developed by Google that works asynchronously to handle software development tasks. Unlike interactive coding assistants that provide real-time suggestions as you type, Jules operates independently in the background, allowing developers to focus on more complex or creative aspects of coding.\n",
            "\n",
            "## Key Features and Capabilities:\n",
            "\n",
            "1. **Asynchronous Operation**: Instead of working alongside you in real-time, Jules takes on assigned tasks and works on them independently, delivering completed work when finished.\n",
            "\n",
            "2. **Task Handling**: Jules can autonomously manage various software development tasks including:\n",
            "   - Bug fixes\n",
            "   - Writing and implementing tests\n",
            "   - Building new features\n",
            "   - Bumping dependency versions\n",
            "   - Understanding complex codebases\n",
            "\n",
            "3. **Technical Implementation**:\n",
            "   - Operates within a secure Google Cloud virtual machine\n",
            "   - Clones repositories to understand project context\n",
            "   - Uses Gemini 2.5 Pro model as its underlying AI technology\n",
            "   - Creates multi-step plans to complete assigned tasks\n",
            "\n",
            "4. **GitHub Integration**:\n",
            "   - Seamless integration with GitHub workflows\n",
            "   - Tasks can be assigned via prompts or issue labels\n",
            "   - Creates pull requests with completed work\n",
            "   - Provides detailed diffs and changelogs for transparency\n",
            "\n",
            "5. **Documentation and Transparency**:\n",
            "   - Provides audio changelogs explaining changes\n",
            "   - Creates detailed plans for implementation\n",
            "   - Maintains transparency in its decision-making process\n",
            "\n",
            "## Availability and Access:\n",
            "\n",
            "Jules is currently in public beta and available worldwide wherever the Gemini model is supported. The free tier offers five tasks per day, with plans for additional pricing tiers in the future.\n",
            "\n",
            "## How Jules Differs from Other Coding Assistants:\n",
            "\n",
            "Unlike tools like GitHub Copilot or other IDE-integrated assistants that require constant interaction and \"babysitting,\" Jules is designed to take complete ownership of specific coding tasks, working autonomously while developers focus on other priorities. This represents a shift toward more autonomous AI coding agents that can handle complex, multi-step development tasks independently.\n"
          ]
        }
      ],
      "source": [
        "result_agent_pattern[\"messages\"][-1].pretty_print()"
      ]
    }
  ],
  "metadata": {
    "colab": {
      "provenance": [],
      "toc_visible": true
    },
    "kernelspec": {
      "display_name": "langgraph",
      "language": "python",
      "name": "python3"
    },
    "language_info": {
      "codemirror_mode": {
        "name": "ipython",
        "version": 3
      },
      "file_extension": ".py",
      "mimetype": "text/x-python",
      "name": "python",
      "nbconvert_exporter": "python",
      "pygments_lexer": "ipython3",
      "version": "3.13.2"
    },
    "maximofn": {
      "date": "2025-06-04",
      "description_en": "Learn how to create advanced AI agents with LangGraph. Step-by-step tutorial with 8 patterns: ReAct, planning, multi-agents, parallelization, and more. Python code included.",
      "description_es": "Aprende a crear agentes IA avanzados con LangGraph. Tutorial paso a paso con 8 patrones: ReAct, planificación, multi-agentes, paralelización y más. Código Python incluido.",
      "description_pt": "Aprenda a criar agentes IA avançados com LangGraph. Tutorial passo a passo com 8 padrões: ReAct, planejamento, multi-agentes, paralelização e mais. Código Python incluído.",
      "end_url": "agents-patterns",
      "image": "https://images.maximofn.com/agent_patterns_thumbnail_ES.webp",
      "image_hover_path": "https://images.maximofn.com/agent_patterns_thumbnail_ES.webp",
      "keywords_en": "langgraph, ai, agents, orchestration, framework, memory, human in the loop, agents patterns, react pattern, planning pattern, multi agent, python, tutorial, guide, artificial intelligence, llm, programming, software development, machine learning, deep learning, technical tutorial, educational",
      "keywords_es": "langgraph, ia, agentes, orquestación, framework, memoria, humano en el bucle, patrones de agentes, react pattern, planning pattern, multi agent, python, tutorial, guía, inteligencia artificial, llm, programación, desarrollo de software, machine learning, deep learning, tutorial técnico, educativo",
      "keywords_pt": "langgraph, ia, agentes, orquestração, framework, memória, humano no loop, padrões de agentes, react pattern, planning pattern, multi agent, python, tutorial, guia, inteligencia artificial, llm, programação, desenvolvimento de software, machine learning, deep learning, tutorial técnico, educativo",
      "title_en": "Agents patterns: Complete Guide 2025",
      "title_es": "Patrones de agentes IA con LangGraph: Guía Completa 2025",
      "title_pt": "Padrões de agentes IA com LangGraph: Guia Completa 2025"
    }
  },
  "nbformat": 4,
  "nbformat_minor": 0
}
