{
 "cells": [
  {
   "cell_type": "markdown",
   "metadata": {},
   "source": [
    "# CSS"
   ]
  },
  {
   "cell_type": "markdown",
   "metadata": {},
   "source": [
    "## Como utilizar CSS, por etiqueta, por selector, por class y por ID"
   ]
  },
  {
   "cell_type": "markdown",
   "metadata": {},
   "source": [
    "Lo ideal es tener un archivo `.css` en el proyecto, en el que tienes todos los estilos y llamarlo desde el `html` con la etiqueta `link`\n",
    "\n",
    "``` html\n",
    "<!DOCTYPE html>\n",
    "<html lang=\"es\">\n",
    "    <head>\n",
    "        <meta charset=\"UTF-8\"/>\n",
    "        <meta name=\"description\" content=\"Descripción para los buscadores\"/>\n",
    "        <meta name=\"robots\" content=\"index,folow\"/>\n",
    "        <title>Título pestaña</title>\n",
    "        <meta name=\"viewport\" content=\"width=device-eidth, initial-scale=1.0\"/>\n",
    "        <link rel=\"stylesheet\" href=\"path\"/>\n",
    "    </head>\n",
    "    <body>\n",
    "        <header>\n",
    "        </header>\n",
    "    </body>\n",
    "</html>\n",
    "```"
   ]
  },
  {
   "cell_type": "markdown",
   "metadata": {},
   "source": [
    "Si no se quiere tener un archivo a parte con los estilos, se pueden definir en el `head` mediante la etiqueta `style`\n",
    "\n",
    "``` html\n",
    "<!DOCTYPE html>\n",
    "<html lang=\"es\">\n",
    "    <head>\n",
    "        <meta charset=\"UTF-8\"/>\n",
    "        <meta name=\"description\" content=\"Descripción para los buscadores\"/>\n",
    "        <meta name=\"robots\" content=\"index,folow\"/>\n",
    "        <title>Título pestaña</title>\n",
    "        <meta name=\"viewport\" content=\"width=device-eidth, initial-scale=1.0\"/>\n",
    "        <style>\n",
    "        </style>\n",
    "    </head>\n",
    "    <body>\n",
    "        <header>\n",
    "        </header>\n",
    "    </body>\n",
    "</html>\n",
    "```\n",
    "\n",
    "Si se tienen muchas líneas de estilos puede tardar mucho la página en cargar"
   ]
  },
  {
   "cell_type": "markdown",
   "metadata": {},
   "source": [
    "Otra manera es con el atributo `style` dentro de una etiqueta\n",
    "\n",
    "``` html\n",
    "<p style=\"\">Parrafo</p>\n",
    "```"
   ]
  }
 ],
 "metadata": {
  "kernelspec": {
   "display_name": "Python 3.8.10 64-bit",
   "language": "python",
   "name": "python3"
  },
  "language_info": {
   "name": "python",
   "version": "3.8.10"
  },
  "orig_nbformat": 4,
  "vscode": {
   "interpreter": {
    "hash": "916dbcbb3f70747c44a77c7bcd40155683ae19c65e1c03b4aa3499c5328201f1"
   }
  }
 },
 "nbformat": 4,
 "nbformat_minor": 2
}
