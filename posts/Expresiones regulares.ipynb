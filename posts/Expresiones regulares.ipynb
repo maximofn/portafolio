{
 "cells": [
  {
   "cell_type": "markdown",
   "metadata": {},
   "source": [
    "# Expresiones regulares"
   ]
  },
  {
   "cell_type": "code",
   "execution_count": 1,
   "metadata": {},
   "outputs": [],
   "source": [
    "import re"
   ]
  },
  {
   "cell_type": "markdown",
   "metadata": {},
   "source": [
    "## Lenguaje"
   ]
  },
  {
   "cell_type": "markdown",
   "metadata": {},
   "source": [
    "### El caracter `.`"
   ]
  },
  {
   "cell_type": "markdown",
   "metadata": {},
   "source": [
    "Con el caracter `.` podemos buscar cualquier caracter, cualquier caracter que haya en nuestro string será encontrado"
   ]
  },
  {
   "cell_type": "code",
   "execution_count": 2,
   "metadata": {},
   "outputs": [
    {
     "name": "stdout",
     "output_type": "stream",
     "text": [
      "['H', 'o', 'l', 'a', ',', ' ', 's', 'o', 'y', ' ', 'u', 'n', ' ', 's', 't', 'r', 'i', 'n', 'g']\n"
     ]
    }
   ],
   "source": [
    "string = \"Hola, soy un string\"\n",
    "print(re.findall(\".\", string))"
   ]
  },
  {
   "cell_type": "markdown",
   "metadata": {},
   "source": [
    "Si por ejemplo queremos secuencias de dos caracteres buscaríamos con dos `.`s seguidos"
   ]
  },
  {
   "cell_type": "code",
   "execution_count": 3,
   "metadata": {},
   "outputs": [
    {
     "name": "stdout",
     "output_type": "stream",
     "text": [
      "['Ho', 'la', ', ', 'so', 'y ', 'un', ' s', 'tr', 'in']\n",
      "['Ho', 'la', ', ', 'so', 'y ', 'un', ' s', 'tr', 'in', 'g2']\n"
     ]
    }
   ],
   "source": [
    "string1 = \"Hola, soy un string\"\n",
    "string2 = \"Hola, soy un string2\"\n",
    "print(re.findall(\"..\", string1))\n",
    "print(re.findall(\"..\", string2))"
   ]
  },
  {
   "cell_type": "markdown",
   "metadata": {},
   "source": [
    "Como podemos ver `string1` tiene un numero impar de caracteres, por lo que la última `g` no la coge, si embargo `string2` tiene un número par de caracteres, por lo que coge todos los caracteres"
   ]
  },
  {
   "cell_type": "markdown",
   "metadata": {},
   "source": [
    "Vamos a ver esto de otra forma, vamos a cambiar cada secuencia de tres caracteres por un símbolo de `$`"
   ]
  },
  {
   "cell_type": "code",
   "execution_count": 4,
   "metadata": {},
   "outputs": [
    {
     "name": "stdout",
     "output_type": "stream",
     "text": [
      "Hola, soy un string\n",
      "$  $  $  $  $  $  g\n"
     ]
    }
   ],
   "source": [
    "print(string1)\n",
    "print(re.sub(\"...\", \"$  \", string1))"
   ]
  },
  {
   "cell_type": "markdown",
   "metadata": {},
   "source": [
    "He impreso dos espacios después de cada `$` para que se vea el cambio, se puede ver como el último caracter no lo convierte"
   ]
  },
  {
   "cell_type": "markdown",
   "metadata": {},
   "source": [
    "### Las clases predefinidas y construidas"
   ]
  },
  {
   "cell_type": "markdown",
   "metadata": {},
   "source": [
    "#### Dígito"
   ]
  },
  {
   "cell_type": "markdown",
   "metadata": {},
   "source": [
    "Si queremos encontrar los dígitos necesitamos usar `\\d`"
   ]
  },
  {
   "cell_type": "code",
   "execution_count": 5,
   "metadata": {},
   "outputs": [
    {
     "name": "stdout",
     "output_type": "stream",
     "text": [
      "['1', '2', '3']\n"
     ]
    }
   ],
   "source": [
    "string = \"Hola, soy un string con 123 digitos\"\n",
    "print(re.findall(\"\\d\", string))"
   ]
  },
  {
   "cell_type": "markdown",
   "metadata": {},
   "source": [
    "Al igual que antes, si por ejemplo queremos dos dígitos, ponemos `\\d` dos veces"
   ]
  },
  {
   "cell_type": "code",
   "execution_count": 7,
   "metadata": {},
   "outputs": [
    {
     "name": "stdout",
     "output_type": "stream",
     "text": [
      "['12']\n"
     ]
    }
   ],
   "source": [
    "print(re.findall(\"\\d\\d\", string))"
   ]
  },
  {
   "cell_type": "markdown",
   "metadata": {},
   "source": [
    "#### Letra"
   ]
  },
  {
   "cell_type": "markdown",
   "metadata": {},
   "source": [
    "Si queremos encontrar letras necesitamos usar `\\w`. Se entiende por `word` todas las letras de la `a` a la `z`, de la `A` a la `Z`, los números de `0` al `9` y el `_`"
   ]
  },
  {
   "cell_type": "code",
   "execution_count": 11,
   "metadata": {},
   "outputs": [
    {
     "name": "stdout",
     "output_type": "stream",
     "text": [
      "['H', 'o', 'l', 'a', 's', 'o', 'y', 'u', 'n', '_', 's', 't', 'r', 'i', 'n', 'g', 'c', 'o', 'n', '1', '2', '3', 'd', 'i', 'g', 'i', 't', 'o', 's']\n"
     ]
    }
   ],
   "source": [
    "string = \"Hola, soy un_string con, 123 digitos\"\n",
    "print(re.findall(\"\\w\", string))"
   ]
  },
  {
   "cell_type": "markdown",
   "metadata": {},
   "source": [
    "Como vemos coge todo menos los espacios y la coma"
   ]
  },
  {
   "cell_type": "markdown",
   "metadata": {},
   "source": [
    "#### Espacios"
   ]
  },
  {
   "cell_type": "markdown",
   "metadata": {},
   "source": [
    "Si queremos encontrar espacios necesitamos `\\s`"
   ]
  },
  {
   "cell_type": "code",
   "execution_count": 12,
   "metadata": {},
   "outputs": [
    {
     "name": "stdout",
     "output_type": "stream",
     "text": [
      "Hola,*soy*un_string*con,*123*digitos\n"
     ]
    }
   ],
   "source": [
    "string = \"Hola, soy un_string con, 123 digitos\"\n",
    "print(re.sub(\"\\s\", \"*\", string))"
   ]
  },
  {
   "cell_type": "markdown",
   "metadata": {},
   "source": [
    "Las expresiones regulares considera los saltos de línea como espacios"
   ]
  },
  {
   "cell_type": "code",
   "execution_count": 13,
   "metadata": {},
   "outputs": [
    {
     "name": "stdout",
     "output_type": "stream",
     "text": [
      "Hola,*soy*un*string**con*un*salto*de*línea\n"
     ]
    }
   ],
   "source": [
    "string = \"\"\"Hola, soy un string \n",
    "con un salto de línea\"\"\"\n",
    "print(re.sub(\"\\s\", \"*\", string))"
   ]
  },
  {
   "cell_type": "markdown",
   "metadata": {},
   "source": [
    "#### Rangos"
   ]
  },
  {
   "cell_type": "markdown",
   "metadata": {},
   "source": [
    "Si queremos buscar un rango usamos `[]`, por ejemplo, si queremos los números del 4 al 8 usamos"
   ]
  },
  {
   "cell_type": "code",
   "execution_count": 17,
   "metadata": {},
   "outputs": [
    {
     "name": "stdout",
     "output_type": "stream",
     "text": [
      "['4', '5', '6', '7', '8']\n"
     ]
    }
   ],
   "source": [
    "string = \"1234567890\"\n",
    "print(re.findall(\"[4-8]\", string))"
   ]
  },
  {
   "cell_type": "markdown",
   "metadata": {},
   "source": [
    "Podemos ampliar el rango de búsqueda"
   ]
  },
  {
   "cell_type": "code",
   "execution_count": 18,
   "metadata": {},
   "outputs": [
    {
     "name": "stdout",
     "output_type": "stream",
     "text": [
      "['2', '3', '4', '5', '7', '8', '9']\n"
     ]
    }
   ],
   "source": [
    "string = \"1234567890\"\n",
    "print(re.findall(\"[2-57-9]\", string))"
   ]
  },
  {
   "cell_type": "markdown",
   "metadata": {},
   "source": [
    "Si además queremos encontrar un caracter en concreto ponemos el carcacter seguido de `\\`"
   ]
  },
  {
   "cell_type": "code",
   "execution_count": 19,
   "metadata": {},
   "outputs": [
    {
     "name": "stdout",
     "output_type": "stream",
     "text": [
      "['2', '3', '4', '5', '7', '8', '9', '.']\n"
     ]
    }
   ],
   "source": [
    "string = \"1234567890.\"\n",
    "print(re.findall(\"[2-57-9\\.]\", string))"
   ]
  },
  {
   "cell_type": "markdown",
   "metadata": {},
   "source": [
    "### Los delimitadores `+`, `*`, `?`"
   ]
  },
  {
   "cell_type": "markdown",
   "metadata": {},
   "source": [
    "#### Star `*`"
   ]
  },
  {
   "cell_type": "markdown",
   "metadata": {},
   "source": [
    "Con el delimitador `*` se indica que quieres que te busque ninguno o todos, no uno a uno como antes"
   ]
  },
  {
   "cell_type": "code",
   "execution_count": 22,
   "metadata": {},
   "outputs": [
    {
     "name": "stdout",
     "output_type": "stream",
     "text": [
      "['1', '2', '1', '2', '3']\n",
      "['', '', '', '', '', '', '', '', '', '', '', '', '', '', '', '', '', '', '', '', '', '', '', '', '12', '', '123', '', '', '', '', '', '', '', '', '']\n"
     ]
    }
   ],
   "source": [
    "string = \"Hola, soy un string con 12 123 digitos\"\n",
    "print(re.findall(\"\\d\", string))\n",
    "print(re.findall(\"\\d*\", string))"
   ]
  },
  {
   "cell_type": "markdown",
   "metadata": {},
   "source": [
    "Como se puede ver, al poner el `*` ha encontrado todas las posiciones en las que hay cero caracteres o todos los caracteres"
   ]
  },
  {
   "cell_type": "markdown",
   "metadata": {},
   "source": [
    "#### Plus `+`"
   ]
  },
  {
   "cell_type": "markdown",
   "metadata": {},
   "source": [
    "Con el delimitador `+` se indica que quieres que te busque uno o más"
   ]
  },
  {
   "cell_type": "code",
   "execution_count": 24,
   "metadata": {},
   "outputs": [
    {
     "name": "stdout",
     "output_type": "stream",
     "text": [
      "['1', '12', '123']\n"
     ]
    }
   ],
   "source": [
    "string = \"Hola, soy un string con 1 12 123 digitos\"\n",
    "print(re.findall(\"\\d+\", string))"
   ]
  },
  {
   "cell_type": "markdown",
   "metadata": {},
   "source": [
    "#### Optional `?`"
   ]
  },
  {
   "cell_type": "markdown",
   "metadata": {},
   "source": [
    "Con el delimitador `?` se indica que quieres que te busque cero o uno"
   ]
  },
  {
   "cell_type": "code",
   "execution_count": 27,
   "metadata": {},
   "outputs": [
    {
     "name": "stdout",
     "output_type": "stream",
     "text": [
      "-H-o-l-a-,- -s-o-y- -u-n- -s-t-r-i-n-g- -c-o-n- -- --- ---- -d-i-g-i-t-o-s-\n"
     ]
    }
   ],
   "source": [
    "string = \"Hola, soy un string con 1 12 123 digitos\"\n",
    "print(re.sub(\"\\d?\", \"-\", string))"
   ]
  },
  {
   "cell_type": "markdown",
   "metadata": {},
   "source": [
    "### Contadores"
   ]
  },
  {
   "cell_type": "markdown",
   "metadata": {},
   "source": [
    "Cuando queremos encontrar algo que aparezca x veces usamos los contadores mediante las llaves `{}`. Por ejemplo, si queremos encontrar una secuencia en la que al menos haya dos dígitos"
   ]
  },
  {
   "cell_type": "code",
   "execution_count": 29,
   "metadata": {},
   "outputs": [
    {
     "name": "stdout",
     "output_type": "stream",
     "text": [
      "['12', '12', '12', '34', '12', '34']\n"
     ]
    }
   ],
   "source": [
    "string = \"Hola, soy un string con 1 12 123 1234 1234digitos\"\n",
    "print(re.findall(\"\\d{2}\", string))"
   ]
  },
  {
   "cell_type": "markdown",
   "metadata": {},
   "source": [
    "Como se puede ver ha encontrado las secuencias `12` y `34`"
   ]
  },
  {
   "cell_type": "markdown",
   "metadata": {},
   "source": [
    "Los contadores aceptan una cota superior e inferior `{inf, sup}`"
   ]
  },
  {
   "cell_type": "code",
   "execution_count": 31,
   "metadata": {},
   "outputs": [
    {
     "name": "stdout",
     "output_type": "stream",
     "text": [
      "['12', '123', '1234', '1234']\n"
     ]
    }
   ],
   "source": [
    "string = \"Hola, soy un string con 1 12 123 1234 1234digitos\"\n",
    "print(re.findall(\"\\d{2,5}\", string))"
   ]
  },
  {
   "cell_type": "markdown",
   "metadata": {},
   "source": [
    "Si no se define la cota superior, significa que se quiere como mínimo la cantidad de elementos que se ha indicado, pero sin límite superior"
   ]
  },
  {
   "cell_type": "code",
   "execution_count": 32,
   "metadata": {},
   "outputs": [
    {
     "name": "stdout",
     "output_type": "stream",
     "text": [
      "['12', '123', '1234', '12345464168415641646451563416']\n"
     ]
    }
   ],
   "source": [
    "string = \"Hola, soy un string con 1 12 123 1234 12345464168415641646451563416 digitos\"\n",
    "print(re.findall(\"\\d{2,}\", string))"
   ]
  },
  {
   "cell_type": "markdown",
   "metadata": {},
   "source": [
    "Si queremos usar la notación de cota superior e inferior, pero queremos un número fijo, se tiene que poner dicho número en las dos cotas"
   ]
  },
  {
   "cell_type": "code",
   "execution_count": 33,
   "metadata": {},
   "outputs": [
    {
     "name": "stdout",
     "output_type": "stream",
     "text": [
      "['12', '123', '123', '123', '454', '641', '684', '156', '416', '464', '515', '634', '16']\n"
     ]
    }
   ],
   "source": [
    "string = \"Hola, soy un string con 1 12 123 1234 12345464168415641646451563416 digitos\"\n",
    "print(re.findall(\"\\d{2,3}\", string))"
   ]
  },
  {
   "cell_type": "markdown",
   "metadata": {},
   "source": [
    "### Clases"
   ]
  },
  {
   "cell_type": "markdown",
   "metadata": {},
   "source": [
    "Se pueden crear clases mediante corchetes `[]`. En realidad vimos que este servía para los rangos, pero, una vez que se define lo que se quiere que haya dentro, se puede considerar como una clase y operar con el"
   ]
  },
  {
   "cell_type": "markdown",
   "metadata": {},
   "source": [
    "Por ejemplo, supongamos que tenemos un número de teléfono, que puede darse de las siguientes maneras\n",
    " * 666-66-66-66\n",
    " * 666-666-666\n",
    " * 666 666 666\n",
    " * 666 66 66 66\n",
    " * 666666666\n",
    "\n",
    "Hay muchas maneras de dar un número, así que vamos a ver cómo crear una clase para definir el delimitador"
   ]
  },
  {
   "cell_type": "markdown",
   "metadata": {},
   "source": [
    "Primero vamos a decir que busque todas las secuencias de números en las que haya como mínimo dos números"
   ]
  },
  {
   "cell_type": "code",
   "execution_count": 39,
   "metadata": {},
   "outputs": [
    {
     "name": "stdout",
     "output_type": "stream",
     "text": [
      "string1: 666-66-66-66 --> ['666', '66', '66', '66']\n",
      "string2: 666-666-666 --> ['666', '666', '666']\n",
      "string3: 666 66 66 66 --> ['666', '66', '66', '66']\n",
      "string4: 666 666 666 --> ['666', '666', '666']\n",
      "string5: 666666666 --> ['666666666']\n"
     ]
    }
   ],
   "source": [
    "string1 = \"666-66-66-66\"\n",
    "string2 = \"666-666-666\"\n",
    "string3 = \"666 66 66 66\"\n",
    "string4 = \"666 666 666\"\n",
    "string5 = \"666666666\"\n",
    "print(f\"string1: {string1} -->\", re.findall(\"\\d{2,}\", string1))\n",
    "print(f\"string2: {string2} -->\", re.findall(\"\\d{2,}\", string2))\n",
    "print(f\"string3: {string3} -->\", re.findall(\"\\d{2,}\", string3))\n",
    "print(f\"string4: {string4} -->\", re.findall(\"\\d{2,}\", string4))\n",
    "print(f\"string5: {string5} -->\", re.findall(\"\\d{2,}\", string5))"
   ]
  },
  {
   "cell_type": "markdown",
   "metadata": {},
   "source": [
    "Ahora definimos que encuentre el separador como un `-` o un espacio"
   ]
  },
  {
   "cell_type": "code",
   "execution_count": 41,
   "metadata": {},
   "outputs": [
    {
     "name": "stdout",
     "output_type": "stream",
     "text": [
      "string1: 666-66-66-66 --> ['-', '-', '-']\n",
      "string2: 666-666-666 --> ['-', '-']\n",
      "string3: 666 66 66 66 --> [' ', ' ', ' ']\n",
      "string4: 666 666 666 --> [' ', ' ']\n",
      "string5: 666666666 --> []\n"
     ]
    }
   ],
   "source": [
    "string1 = \"666-66-66-66\"\n",
    "string2 = \"666-666-666\"\n",
    "string3 = \"666 66 66 66\"\n",
    "string4 = \"666 666 666\"\n",
    "string5 = \"666666666\"\n",
    "print(f\"string1: {string1} -->\", re.findall(\"[\\-\\s]\", string1))\n",
    "print(f\"string2: {string2} -->\", re.findall(\"[\\-\\s]\", string2))\n",
    "print(f\"string3: {string3} -->\", re.findall(\"[\\-\\s]\", string3))\n",
    "print(f\"string4: {string4} -->\", re.findall(\"[\\-\\s]\", string4))\n",
    "print(f\"string5: {string5} -->\", re.findall(\"[\\-\\s]\", string5))"
   ]
  },
  {
   "cell_type": "markdown",
   "metadata": {},
   "source": [
    "Como se ve en el último string no ha encontrado, por lo que añadimos un `?` para que encuentre cuando haya cero o uno"
   ]
  },
  {
   "cell_type": "code",
   "execution_count": 42,
   "metadata": {},
   "outputs": [
    {
     "name": "stdout",
     "output_type": "stream",
     "text": [
      "string1: 666-66-66-66 --> ['', '', '', '-', '', '', '-', '', '', '-', '', '', '']\n",
      "string2: 666-666-666 --> ['', '', '', '-', '', '', '', '-', '', '', '', '']\n",
      "string3: 666 66 66 66 --> ['', '', '', ' ', '', '', ' ', '', '', ' ', '', '', '']\n",
      "string4: 666 666 666 --> ['', '', '', ' ', '', '', '', ' ', '', '', '', '']\n",
      "string5: 666666666 --> ['', '', '', '', '', '', '', '', '', '']\n"
     ]
    }
   ],
   "source": [
    "string1 = \"666-66-66-66\"\n",
    "string2 = \"666-666-666\"\n",
    "string3 = \"666 66 66 66\"\n",
    "string4 = \"666 666 666\"\n",
    "string5 = \"666666666\"\n",
    "print(f\"string1: {string1} -->\", re.findall(\"[\\-\\s]?\", string1))\n",
    "print(f\"string2: {string2} -->\", re.findall(\"[\\-\\s]?\", string2))\n",
    "print(f\"string3: {string3} -->\", re.findall(\"[\\-\\s]?\", string3))\n",
    "print(f\"string4: {string4} -->\", re.findall(\"[\\-\\s]?\", string4))\n",
    "print(f\"string5: {string5} -->\", re.findall(\"[\\-\\s]?\", string5))"
   ]
  }
 ],
 "metadata": {
  "kernelspec": {
   "display_name": "Python 3.7.6 ('base')",
   "language": "python",
   "name": "python3"
  },
  "language_info": {
   "codemirror_mode": {
    "name": "ipython",
    "version": 3
   },
   "file_extension": ".py",
   "mimetype": "text/x-python",
   "name": "python",
   "nbconvert_exporter": "python",
   "pygments_lexer": "ipython3",
   "version": "3.7.6"
  },
  "orig_nbformat": 4,
  "vscode": {
   "interpreter": {
    "hash": "d5745ab6aba164e1152437c779991855725055592b9f2bdb41a4825db7168d26"
   }
  }
 },
 "nbformat": 4,
 "nbformat_minor": 2
}
