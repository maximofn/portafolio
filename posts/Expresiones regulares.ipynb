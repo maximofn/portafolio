{
 "cells": [
  {
   "cell_type": "markdown",
   "metadata": {},
   "source": [
    "# Expresiones regulares"
   ]
  },
  {
   "cell_type": "code",
   "execution_count": 1,
   "metadata": {},
   "outputs": [],
   "source": [
    "import re"
   ]
  },
  {
   "cell_type": "markdown",
   "metadata": {},
   "source": [
    "## Lenguaje"
   ]
  },
  {
   "cell_type": "markdown",
   "metadata": {},
   "source": [
    "### Métodos"
   ]
  },
  {
   "cell_type": "markdown",
   "metadata": {},
   "source": [
    "Con el método `findall()` podemos encontrar todas las coincidencias de un patrón en un string"
   ]
  },
  {
   "cell_type": "code",
   "execution_count": 48,
   "metadata": {},
   "outputs": [
    {
     "name": "stdout",
     "output_type": "stream",
     "text": [
      "['H', 'o', 'l', 'a', ',', ' ', 's', 'o', 'y', ' ', 'u', 'n', ' ', 's', 't', 'r', 'i', 'n', 'g']\n"
     ]
    }
   ],
   "source": [
    "string = \"Hola, soy un string\"\n",
    "print(re.findall(\"Hola, soy\", string))"
   ]
  },
  {
   "cell_type": "markdown",
   "metadata": {},
   "source": [
    "Pero si queremos encontrar la posición donde se encuentra un patrón, podemos usar el método `search()` para buscar un patrón en un string. Este método devuelve un objeto de tipo Match si encuentra una coincidencia, y si no devuelve None."
   ]
  },
  {
   "cell_type": "code",
   "execution_count": 45,
   "metadata": {},
   "outputs": [
    {
     "name": "stdout",
     "output_type": "stream",
     "text": [
      "<re.Match object; span=(6, 9), match='soy'>\n"
     ]
    }
   ],
   "source": [
    "print(re.search(\"soy\", string))"
   ]
  },
  {
   "cell_type": "markdown",
   "metadata": {},
   "source": [
    "También podemos usar el método `match()` que busca el patrón **al principio** del string."
   ]
  },
  {
   "cell_type": "code",
   "execution_count": 46,
   "metadata": {},
   "outputs": [
    {
     "name": "stdout",
     "output_type": "stream",
     "text": [
      "<re.Match object; span=(0, 4), match='Hola'>\n"
     ]
    }
   ],
   "source": [
    "print(re.match(\"Hola\", string))"
   ]
  },
  {
   "cell_type": "markdown",
   "metadata": {},
   "source": [
    "Si queremos obtener la posición de la coincidencia, podemos usar el método `span()` que devuelve una tupla con la posición inicial y final de la coincidencia."
   ]
  },
  {
   "cell_type": "code",
   "execution_count": 47,
   "metadata": {},
   "outputs": [
    {
     "name": "stdout",
     "output_type": "stream",
     "text": [
      "(0, 4)\n"
     ]
    }
   ],
   "source": [
    "print(re.match(\"Hola\", string).span())"
   ]
  },
  {
   "cell_type": "markdown",
   "metadata": {},
   "source": [
    "Sabiendo la posición de la coincidencia, podemos usar el método `group()` para obtener la subcadena que coincide con el patrón."
   ]
  },
  {
   "cell_type": "code",
   "execution_count": 49,
   "metadata": {},
   "outputs": [
    {
     "name": "stdout",
     "output_type": "stream",
     "text": [
      "Hola\n"
     ]
    }
   ],
   "source": [
    "print(re.match(\"Hola\", string).group())"
   ]
  },
  {
   "cell_type": "markdown",
   "metadata": {},
   "source": [
    "También podríamos usar el inicio y el final de la coincidencia para hacer un slice del string."
   ]
  },
  {
   "cell_type": "code",
   "execution_count": 51,
   "metadata": {},
   "outputs": [
    {
     "name": "stdout",
     "output_type": "stream",
     "text": [
      "Hola\n"
     ]
    }
   ],
   "source": [
    "start, end = re.match(\"Hola\", string).span()\n",
    "print(string[start:end])"
   ]
  },
  {
   "cell_type": "markdown",
   "metadata": {},
   "source": [
    "### El caracter `.`"
   ]
  },
  {
   "cell_type": "markdown",
   "metadata": {},
   "source": [
    "Con el caracter `.` podemos buscar cualquier caracter, cualquier caracter que haya en nuestro string será encontrado"
   ]
  },
  {
   "cell_type": "code",
   "execution_count": 2,
   "metadata": {},
   "outputs": [
    {
     "name": "stdout",
     "output_type": "stream",
     "text": [
      "['H', 'o', 'l', 'a', ',', ' ', 's', 'o', 'y', ' ', 'u', 'n', ' ', 's', 't', 'r', 'i', 'n', 'g']\n"
     ]
    }
   ],
   "source": [
    "string = \"Hola, soy un string\"\n",
    "print(re.findall(\".\", string))"
   ]
  },
  {
   "cell_type": "markdown",
   "metadata": {},
   "source": [
    "Si por ejemplo queremos secuencias de dos caracteres buscaríamos con dos `.`s seguidos"
   ]
  },
  {
   "cell_type": "code",
   "execution_count": 3,
   "metadata": {},
   "outputs": [
    {
     "name": "stdout",
     "output_type": "stream",
     "text": [
      "['Ho', 'la', ', ', 'so', 'y ', 'un', ' s', 'tr', 'in']\n",
      "['Ho', 'la', ', ', 'so', 'y ', 'un', ' s', 'tr', 'in', 'g2']\n"
     ]
    }
   ],
   "source": [
    "string1 = \"Hola, soy un string\"\n",
    "string2 = \"Hola, soy un string2\"\n",
    "print(re.findall(\"..\", string1))\n",
    "print(re.findall(\"..\", string2))"
   ]
  },
  {
   "cell_type": "markdown",
   "metadata": {},
   "source": [
    "Como podemos ver `string1` tiene un numero impar de caracteres, por lo que la última `g` no la coge, si embargo `string2` tiene un número par de caracteres, por lo que coge todos los caracteres"
   ]
  },
  {
   "cell_type": "markdown",
   "metadata": {},
   "source": [
    "Vamos a ver esto de otra forma, vamos a cambiar cada secuencia de tres caracteres por un símbolo de `$`"
   ]
  },
  {
   "cell_type": "code",
   "execution_count": 4,
   "metadata": {},
   "outputs": [
    {
     "name": "stdout",
     "output_type": "stream",
     "text": [
      "Hola, soy un string\n",
      "$  $  $  $  $  $  g\n"
     ]
    }
   ],
   "source": [
    "print(string1)\n",
    "print(re.sub(\"...\", \"$  \", string1))"
   ]
  },
  {
   "cell_type": "markdown",
   "metadata": {},
   "source": [
    "He impreso dos espacios después de cada `$` para que se vea el cambio, se puede ver como el último caracter no lo convierte"
   ]
  },
  {
   "cell_type": "markdown",
   "metadata": {},
   "source": [
    "### Las clases predefinidas y construidas"
   ]
  },
  {
   "cell_type": "markdown",
   "metadata": {},
   "source": [
    "#### Dígito"
   ]
  },
  {
   "cell_type": "markdown",
   "metadata": {},
   "source": [
    "Si queremos encontrar los dígitos necesitamos usar `\\d`"
   ]
  },
  {
   "cell_type": "code",
   "execution_count": 5,
   "metadata": {},
   "outputs": [
    {
     "name": "stdout",
     "output_type": "stream",
     "text": [
      "['1', '2', '3']\n"
     ]
    }
   ],
   "source": [
    "string = \"Hola, soy un string con 123 digitos\"\n",
    "print(re.findall(\"\\d\", string))"
   ]
  },
  {
   "cell_type": "markdown",
   "metadata": {},
   "source": [
    "Al igual que antes, si por ejemplo queremos dos dígitos, ponemos `\\d` dos veces"
   ]
  },
  {
   "cell_type": "code",
   "execution_count": 6,
   "metadata": {},
   "outputs": [
    {
     "name": "stdout",
     "output_type": "stream",
     "text": [
      "['12']\n"
     ]
    }
   ],
   "source": [
    "print(re.findall(\"\\d\\d\", string))"
   ]
  },
  {
   "cell_type": "markdown",
   "metadata": {},
   "source": [
    "#### Letra"
   ]
  },
  {
   "cell_type": "markdown",
   "metadata": {},
   "source": [
    "Si queremos encontrar letras necesitamos usar `\\w`. Se entiende por `word` todas las letras de la `a` a la `z`, de la `A` a la `Z`, los números de `0` al `9` y el `_`"
   ]
  },
  {
   "cell_type": "code",
   "execution_count": 7,
   "metadata": {},
   "outputs": [
    {
     "name": "stdout",
     "output_type": "stream",
     "text": [
      "['H', 'o', 'l', 'a', 's', 'o', 'y', 'u', 'n', '_', 's', 't', 'r', 'i', 'n', 'g', 'c', 'o', 'n', '1', '2', '3', 'd', 'i', 'g', 'i', 't', 'o', 's']\n"
     ]
    }
   ],
   "source": [
    "string = \"Hola, soy un_string con, 123 digitos\"\n",
    "print(re.findall(\"\\w\", string))"
   ]
  },
  {
   "cell_type": "markdown",
   "metadata": {},
   "source": [
    "Como vemos coge todo menos los espacios y la coma"
   ]
  },
  {
   "cell_type": "markdown",
   "metadata": {},
   "source": [
    "#### Espacios"
   ]
  },
  {
   "cell_type": "markdown",
   "metadata": {},
   "source": [
    "Si queremos encontrar espacios necesitamos `\\s`"
   ]
  },
  {
   "cell_type": "code",
   "execution_count": 8,
   "metadata": {},
   "outputs": [
    {
     "name": "stdout",
     "output_type": "stream",
     "text": [
      "Hola,*soy*un_string*con,*123*digitos\n"
     ]
    }
   ],
   "source": [
    "string = \"Hola, soy un_string con, 123 digitos\"\n",
    "print(re.sub(\"\\s\", \"*\", string))"
   ]
  },
  {
   "cell_type": "markdown",
   "metadata": {},
   "source": [
    "Las expresiones regulares considera los saltos de línea como espacios"
   ]
  },
  {
   "cell_type": "code",
   "execution_count": 9,
   "metadata": {},
   "outputs": [
    {
     "name": "stdout",
     "output_type": "stream",
     "text": [
      "Hola,*soy*un*string**con*un*salto*de*línea\n"
     ]
    }
   ],
   "source": [
    "string = \"\"\"Hola, soy un string \n",
    "con un salto de línea\"\"\"\n",
    "print(re.sub(\"\\s\", \"*\", string))"
   ]
  },
  {
   "cell_type": "markdown",
   "metadata": {},
   "source": [
    "#### Rangos"
   ]
  },
  {
   "cell_type": "markdown",
   "metadata": {},
   "source": [
    "Si queremos buscar un rango usamos `[]`, por ejemplo, si queremos los números del 4 al 8 usamos"
   ]
  },
  {
   "cell_type": "code",
   "execution_count": 10,
   "metadata": {},
   "outputs": [
    {
     "name": "stdout",
     "output_type": "stream",
     "text": [
      "['4', '5', '6', '7', '8']\n"
     ]
    }
   ],
   "source": [
    "string = \"1234567890\"\n",
    "print(re.findall(\"[4-8]\", string))"
   ]
  },
  {
   "cell_type": "markdown",
   "metadata": {},
   "source": [
    "Podemos ampliar el rango de búsqueda"
   ]
  },
  {
   "cell_type": "code",
   "execution_count": 11,
   "metadata": {},
   "outputs": [
    {
     "name": "stdout",
     "output_type": "stream",
     "text": [
      "['2', '3', '4', '5', '7', '8', '9']\n"
     ]
    }
   ],
   "source": [
    "string = \"1234567890\"\n",
    "print(re.findall(\"[2-57-9]\", string))"
   ]
  },
  {
   "cell_type": "markdown",
   "metadata": {},
   "source": [
    "Si además queremos encontrar un caracter en concreto ponemos el carcacter seguido de `\\`"
   ]
  },
  {
   "cell_type": "code",
   "execution_count": 12,
   "metadata": {},
   "outputs": [
    {
     "name": "stdout",
     "output_type": "stream",
     "text": [
      "['2', '3', '4', '5', '7', '8', '9', '.']\n"
     ]
    }
   ],
   "source": [
    "string = \"1234567890.\"\n",
    "print(re.findall(\"[2-57-9\\.]\", string))"
   ]
  },
  {
   "cell_type": "markdown",
   "metadata": {},
   "source": [
    "#### Corchete `[` y corchete `]`"
   ]
  },
  {
   "cell_type": "markdown",
   "metadata": {},
   "source": [
    "Como hemos visto, si queremos encontrar rangos usamos `[]`, pero ¿qué pasa si queremos encontrar solo el `[` o el `]`? Para ello tenemos que usar `\\[` y `\\]`"
   ]
  },
  {
   "cell_type": "code",
   "execution_count": 13,
   "metadata": {},
   "outputs": [
    {
     "name": "stdout",
     "output_type": "stream",
     "text": [
      "['[']\n",
      "[']']\n"
     ]
    }
   ],
   "source": [
    "string = \"[1234567890]\"\n",
    "print(re.findall(\"\\[\", string))\n",
    "print(re.findall(\"\\]\", string))"
   ]
  },
  {
   "cell_type": "markdown",
   "metadata": {},
   "source": [
    "### Los delimitadores `+`, `*`, `?`"
   ]
  },
  {
   "cell_type": "markdown",
   "metadata": {},
   "source": [
    "#### Star `*` (ninguno o todos)"
   ]
  },
  {
   "cell_type": "markdown",
   "metadata": {},
   "source": [
    "Con el delimitador `*` se indica que quieres que te busque ninguno o todos, no uno a uno como antes"
   ]
  },
  {
   "cell_type": "code",
   "execution_count": 14,
   "metadata": {},
   "outputs": [
    {
     "name": "stdout",
     "output_type": "stream",
     "text": [
      "['1', '2', '1', '2', '3']\n",
      "['', '', '', '', '', '', '', '', '', '', '', '', '', '', '', '', '', '', '', '', '', '', '', '', '12', '', '123', '', '', '', '', '', '', '', '', '']\n"
     ]
    }
   ],
   "source": [
    "string = \"Hola, soy un string con 12 123 digitos\"\n",
    "print(re.findall(\"\\d\", string))\n",
    "print(re.findall(\"\\d*\", string))"
   ]
  },
  {
   "cell_type": "markdown",
   "metadata": {},
   "source": [
    "Como se puede ver, al poner el `*` ha encontrado todas las posiciones en las que hay cero caracteres o todos los caracteres"
   ]
  },
  {
   "cell_type": "markdown",
   "metadata": {},
   "source": [
    "#### Plus `+` (uno o más)"
   ]
  },
  {
   "cell_type": "markdown",
   "metadata": {},
   "source": [
    "Con el delimitador `+` se indica que quieres que te busque uno o más"
   ]
  },
  {
   "cell_type": "code",
   "execution_count": 15,
   "metadata": {},
   "outputs": [
    {
     "name": "stdout",
     "output_type": "stream",
     "text": [
      "['1', '12', '123']\n"
     ]
    }
   ],
   "source": [
    "string = \"Hola, soy un string con 1 12 123 digitos\"\n",
    "print(re.findall(\"\\d+\", string))"
   ]
  },
  {
   "cell_type": "markdown",
   "metadata": {},
   "source": [
    "#### Optional `?` (cero o uno)"
   ]
  },
  {
   "cell_type": "markdown",
   "metadata": {},
   "source": [
    "Con el delimitador `?` se indica que quieres que te busque cero o uno"
   ]
  },
  {
   "cell_type": "code",
   "execution_count": 16,
   "metadata": {},
   "outputs": [
    {
     "name": "stdout",
     "output_type": "stream",
     "text": [
      "-H-o-l-a-,- -s-o-y- -u-n- -s-t-r-i-n-g- -c-o-n- -- --- ---- -d-i-g-i-t-o-s-\n"
     ]
    }
   ],
   "source": [
    "string = \"Hola, soy un string con 1 12 123 digitos\"\n",
    "print(re.sub(\"\\d?\", \"-\", string))"
   ]
  },
  {
   "cell_type": "markdown",
   "metadata": {},
   "source": [
    "### Contadores"
   ]
  },
  {
   "cell_type": "markdown",
   "metadata": {},
   "source": [
    "Cuando queremos encontrar algo que aparezca x veces usamos los contadores mediante las llaves `{}`. Por ejemplo, si queremos encontrar una secuencia en la que al menos haya dos dígitos"
   ]
  },
  {
   "cell_type": "code",
   "execution_count": 17,
   "metadata": {},
   "outputs": [
    {
     "name": "stdout",
     "output_type": "stream",
     "text": [
      "['12', '12', '12', '34', '12', '34']\n"
     ]
    }
   ],
   "source": [
    "string = \"Hola, soy un string con 1 12 123 1234 1234digitos\"\n",
    "print(re.findall(\"\\d{2}\", string))"
   ]
  },
  {
   "cell_type": "markdown",
   "metadata": {},
   "source": [
    "Como se puede ver ha encontrado las secuencias `12` y `34`"
   ]
  },
  {
   "cell_type": "markdown",
   "metadata": {},
   "source": [
    "Los contadores aceptan una cota superior e inferior `{inf, sup}`"
   ]
  },
  {
   "cell_type": "code",
   "execution_count": 18,
   "metadata": {},
   "outputs": [
    {
     "name": "stdout",
     "output_type": "stream",
     "text": [
      "['12', '123', '1234', '1234']\n"
     ]
    }
   ],
   "source": [
    "string = \"Hola, soy un string con 1 12 123 1234 1234digitos\"\n",
    "print(re.findall(\"\\d{2,5}\", string))"
   ]
  },
  {
   "cell_type": "markdown",
   "metadata": {},
   "source": [
    "Si no se define la cota superior, significa que se quiere como mínimo la cantidad de elementos que se ha indicado, pero sin límite superior"
   ]
  },
  {
   "cell_type": "code",
   "execution_count": 19,
   "metadata": {},
   "outputs": [
    {
     "name": "stdout",
     "output_type": "stream",
     "text": [
      "['12', '123', '1234', '12345464168415641646451563416']\n"
     ]
    }
   ],
   "source": [
    "string = \"Hola, soy un string con 1 12 123 1234 12345464168415641646451563416 digitos\"\n",
    "print(re.findall(\"\\d{2,}\", string))"
   ]
  },
  {
   "cell_type": "markdown",
   "metadata": {},
   "source": [
    "Si queremos usar la notación de cota superior e inferior, pero queremos un número fijo, se tiene que poner dicho número en las dos cotas"
   ]
  },
  {
   "cell_type": "code",
   "execution_count": 20,
   "metadata": {},
   "outputs": [
    {
     "name": "stdout",
     "output_type": "stream",
     "text": [
      "['12', '123', '123', '123', '454', '641', '684', '156', '416', '464', '515', '634', '16']\n"
     ]
    }
   ],
   "source": [
    "string = \"Hola, soy un string con 1 12 123 1234 12345464168415641646451563416 digitos\"\n",
    "print(re.findall(\"\\d{2,3}\", string))"
   ]
  },
  {
   "cell_type": "markdown",
   "metadata": {},
   "source": [
    "### Clases"
   ]
  },
  {
   "cell_type": "markdown",
   "metadata": {},
   "source": [
    "Se pueden crear clases mediante corchetes `[]`. En realidad vimos que este servía para los rangos, pero, una vez que se define lo que se quiere que haya dentro, se puede considerar como una clase y operar con el"
   ]
  },
  {
   "cell_type": "markdown",
   "metadata": {},
   "source": [
    "Por ejemplo, supongamos que tenemos un número de teléfono, que puede darse de las siguientes maneras\n",
    " * 666-66-66-66\n",
    " * 666-666-666\n",
    " * 666 666 666\n",
    " * 666 66 66 66\n",
    " * 666666666\n",
    "\n",
    "Hay muchas maneras de dar un número, así que vamos a ver cómo crear una clase para definir el delimitador"
   ]
  },
  {
   "cell_type": "markdown",
   "metadata": {},
   "source": [
    "Primero vamos a decir que busque todas las secuencias de números en las que haya como mínimo dos números"
   ]
  },
  {
   "cell_type": "code",
   "execution_count": 21,
   "metadata": {},
   "outputs": [
    {
     "name": "stdout",
     "output_type": "stream",
     "text": [
      "string1: 666-66-66-66 --> ['666', '66', '66', '66']\n",
      "string2: 666-666-666 --> ['666', '666', '666']\n",
      "string3: 666 66 66 66 --> ['666', '66', '66', '66']\n",
      "string4: 666 666 666 --> ['666', '666', '666']\n",
      "string5: 666666666 --> ['666666666']\n"
     ]
    }
   ],
   "source": [
    "string1 = \"666-66-66-66\"\n",
    "string2 = \"666-666-666\"\n",
    "string3 = \"666 66 66 66\"\n",
    "string4 = \"666 666 666\"\n",
    "string5 = \"666666666\"\n",
    "print(f\"string1: {string1} -->\", re.findall(\"\\d{2,}\", string1))\n",
    "print(f\"string2: {string2} -->\", re.findall(\"\\d{2,}\", string2))\n",
    "print(f\"string3: {string3} -->\", re.findall(\"\\d{2,}\", string3))\n",
    "print(f\"string4: {string4} -->\", re.findall(\"\\d{2,}\", string4))\n",
    "print(f\"string5: {string5} -->\", re.findall(\"\\d{2,}\", string5))"
   ]
  },
  {
   "cell_type": "markdown",
   "metadata": {},
   "source": [
    "Ahora definimos que encuentre el separador como un `-` o un espacio"
   ]
  },
  {
   "cell_type": "code",
   "execution_count": 22,
   "metadata": {},
   "outputs": [
    {
     "name": "stdout",
     "output_type": "stream",
     "text": [
      "string1: 666-66-66-66 --> ['-', '-', '-']\n",
      "string2: 666-666-666 --> ['-', '-']\n",
      "string3: 666 66 66 66 --> [' ', ' ', ' ']\n",
      "string4: 666 666 666 --> [' ', ' ']\n",
      "string5: 666666666 --> []\n"
     ]
    }
   ],
   "source": [
    "string1 = \"666-66-66-66\"\n",
    "string2 = \"666-666-666\"\n",
    "string3 = \"666 66 66 66\"\n",
    "string4 = \"666 666 666\"\n",
    "string5 = \"666666666\"\n",
    "print(f\"string1: {string1} -->\", re.findall(\"[-\\s]\", string1))\n",
    "print(f\"string2: {string2} -->\", re.findall(\"[-\\s]\", string2))\n",
    "print(f\"string3: {string3} -->\", re.findall(\"[-\\s]\", string3))\n",
    "print(f\"string4: {string4} -->\", re.findall(\"[-\\s]\", string4))\n",
    "print(f\"string5: {string5} -->\", re.findall(\"[-\\s]\", string5))"
   ]
  },
  {
   "cell_type": "markdown",
   "metadata": {},
   "source": [
    "Como se ve en el último string no ha encontrado, por lo que añadimos un `?` para que encuentre cuando haya cero o uno"
   ]
  },
  {
   "cell_type": "code",
   "execution_count": 23,
   "metadata": {},
   "outputs": [
    {
     "name": "stdout",
     "output_type": "stream",
     "text": [
      "string1: 666-66-66-66 --> ['', '', '', '-', '', '', '-', '', '', '-', '', '', '']\n",
      "string2: 666-666-666 --> ['', '', '', '-', '', '', '', '-', '', '', '', '']\n",
      "string3: 666 66 66 66 --> ['', '', '', ' ', '', '', ' ', '', '', ' ', '', '', '']\n",
      "string4: 666 666 666 --> ['', '', '', ' ', '', '', '', ' ', '', '', '', '']\n",
      "string5: 666666666 --> ['', '', '', '', '', '', '', '', '', '']\n"
     ]
    }
   ],
   "source": [
    "string1 = \"666-66-66-66\"\n",
    "string2 = \"666-666-666\"\n",
    "string3 = \"666 66 66 66\"\n",
    "string4 = \"666 666 666\"\n",
    "string5 = \"666666666\"\n",
    "print(f\"string1: {string1} -->\", re.findall(\"[-\\s]?\", string1))\n",
    "print(f\"string2: {string2} -->\", re.findall(\"[-\\s]?\", string2))\n",
    "print(f\"string3: {string3} -->\", re.findall(\"[-\\s]?\", string3))\n",
    "print(f\"string4: {string4} -->\", re.findall(\"[-\\s]?\", string4))\n",
    "print(f\"string5: {string5} -->\", re.findall(\"[-\\s]?\", string5))"
   ]
  },
  {
   "cell_type": "markdown",
   "metadata": {},
   "source": [
    "Ahora buscamos que esté todo junto"
   ]
  },
  {
   "cell_type": "code",
   "execution_count": 24,
   "metadata": {},
   "outputs": [
    {
     "name": "stdout",
     "output_type": "stream",
     "text": [
      "string1: 666-66-66-66 --> ['666-66-66-66']\n",
      "string2: 666-666-666 --> []\n",
      "string3: 666 66 66 66 --> ['666 66 66 66']\n",
      "string4: 666 666 666 --> []\n",
      "string5: 666666666 --> ['666666666']\n"
     ]
    }
   ],
   "source": [
    "string1 = \"666-66-66-66\"\n",
    "string2 = \"666-666-666\"\n",
    "string3 = \"666 66 66 66\"\n",
    "string4 = \"666 666 666\"\n",
    "string5 = \"666666666\"\n",
    "print(f\"string1: {string1} -->\", re.findall(\"\\d{2,}[-\\s]?\\d{2,}[-\\s]?\\d{2,}[-\\s]?\\d{2,}[-\\s]?\", string1))\n",
    "print(f\"string2: {string2} -->\", re.findall(\"\\d{2,}[-\\s]?\\d{2,}[-\\s]?\\d{2,}[-\\s]?\\d{2,}[-\\s]?\", string2))\n",
    "print(f\"string3: {string3} -->\", re.findall(\"\\d{2,}[-\\s]?\\d{2,}[-\\s]?\\d{2,}[-\\s]?\\d{2,}[-\\s]?\", string3))\n",
    "print(f\"string4: {string4} -->\", re.findall(\"\\d{2,}[-\\s]?\\d{2,}[-\\s]?\\d{2,}[-\\s]?\\d{2,}[-\\s]?\", string4))\n",
    "print(f\"string5: {string5} -->\", re.findall(\"\\d{2,}[-\\s]?\\d{2,}[-\\s]?\\d{2,}[-\\s]?\\d{2,}[-\\s]?\", string5))"
   ]
  },
  {
   "cell_type": "markdown",
   "metadata": {},
   "source": [
    "Como vemos en el `string2` y `string4`, no encuentra nada. Hemos puesto el filtro `\\d{2,}[\\-\\s]?` 4 veces, es decir queremos una secuencia de al menos dos números, seguido de cero o un separador de tipo guion o espacio que se repita 4 veces. Pero en la última secuencia no hace falta el `[\\-\\s]?`, ya que nunca va a terminar un número con un espacio o un guión"
   ]
  },
  {
   "cell_type": "code",
   "execution_count": 25,
   "metadata": {},
   "outputs": [
    {
     "name": "stdout",
     "output_type": "stream",
     "text": [
      "string1: 666-66-66-66 --> ['666-66-66-66']\n",
      "string2: 666-666-666 --> []\n",
      "string3: 666 66 66 66 --> ['666 66 66 66']\n",
      "string4: 666 666 666 --> []\n",
      "string5: 666666666 --> ['666666666']\n"
     ]
    }
   ],
   "source": [
    "string1 = \"666-66-66-66\"\n",
    "string2 = \"666-666-666\"\n",
    "string3 = \"666 66 66 66\"\n",
    "string4 = \"666 666 666\"\n",
    "string5 = \"666666666\"\n",
    "print(f\"string1: {string1} -->\", re.findall(\"\\d{2,}[-\\s]?\\d{2,}[-\\s]?\\d{2,}[-\\s]?\\d{2,}\", string1))\n",
    "print(f\"string2: {string2} -->\", re.findall(\"\\d{2,}[-\\s]?\\d{2,}[-\\s]?\\d{2,}[-\\s]?\\d{2,}\", string2))\n",
    "print(f\"string3: {string3} -->\", re.findall(\"\\d{2,}[-\\s]?\\d{2,}[-\\s]?\\d{2,}[-\\s]?\\d{2,}\", string3))\n",
    "print(f\"string4: {string4} -->\", re.findall(\"\\d{2,}[-\\s]?\\d{2,}[-\\s]?\\d{2,}[-\\s]?\\d{2,}\", string4))\n",
    "print(f\"string5: {string5} -->\", re.findall(\"\\d{2,}[-\\s]?\\d{2,}[-\\s]?\\d{2,}[-\\s]?\\d{2,}\", string5))"
   ]
  },
  {
   "cell_type": "markdown",
   "metadata": {},
   "source": [
    "Sigue sin encontrar para `string2` y `string4`. Esto es porque lo último que hay en el filtro es un `d{2,}`, es decir, después del tercer separador estamos esperando al menos 2 números, pero eso en `string2` y `string4` no pasa, así que ponemos lo siguiente"
   ]
  },
  {
   "cell_type": "code",
   "execution_count": 26,
   "metadata": {},
   "outputs": [
    {
     "name": "stdout",
     "output_type": "stream",
     "text": [
      "string1: 666-66-66-66 --> ['666-66-66-66']\n",
      "string2: 666-666-666 --> ['666-666-666']\n",
      "string3: 666 66 66 66 --> ['666 66 66 66']\n",
      "string4: 666 666 666 --> ['666 666 666']\n",
      "string5: 666666666 --> ['666666666']\n"
     ]
    }
   ],
   "source": [
    "string1 = \"666-66-66-66\"\n",
    "string2 = \"666-666-666\"\n",
    "string3 = \"666 66 66 66\"\n",
    "string4 = \"666 666 666\"\n",
    "string5 = \"666666666\"\n",
    "print(f\"string1: {string1} -->\", re.findall(\"\\d{2,}[-\\s]?\\d{2,}[-\\s]?\\d{2,}[-\\s]?\\d*\", string1))\n",
    "print(f\"string2: {string2} -->\", re.findall(\"\\d{2,}[-\\s]?\\d{2,}[-\\s]?\\d{2,}[-\\s]?\\d*\", string2))\n",
    "print(f\"string3: {string3} -->\", re.findall(\"\\d{2,}[-\\s]?\\d{2,}[-\\s]?\\d{2,}[-\\s]?\\d*\", string3))\n",
    "print(f\"string4: {string4} -->\", re.findall(\"\\d{2,}[-\\s]?\\d{2,}[-\\s]?\\d{2,}[-\\s]?\\d*\", string4))\n",
    "print(f\"string5: {string5} -->\", re.findall(\"\\d{2,}[-\\s]?\\d{2,}[-\\s]?\\d{2,}[-\\s]?\\d*\", string5))"
   ]
  },
  {
   "cell_type": "markdown",
   "metadata": {},
   "source": [
    "### El delimitador `?` como delimitador rápido"
   ]
  },
  {
   "cell_type": "markdown",
   "metadata": {},
   "source": [
    "El ejemplo anterior lo podemos filtrar mediante `\\d+?[- ]`"
   ]
  },
  {
   "cell_type": "code",
   "execution_count": 27,
   "metadata": {},
   "outputs": [
    {
     "name": "stdout",
     "output_type": "stream",
     "text": [
      "string1: 666-66-66-66 --> ['666-', '66-', '66-']\n",
      "string2: 666-666-666 --> ['666-', '666-']\n",
      "string3: 666 66 66 66 --> ['666 ', '66 ', '66 ']\n",
      "string4: 666 666 666 --> ['666 ', '666 ']\n",
      "string5: 666666666 --> []\n"
     ]
    }
   ],
   "source": [
    "string1 = \"666-66-66-66\"\n",
    "string2 = \"666-666-666\"\n",
    "string3 = \"666 66 66 66\"\n",
    "string4 = \"666 666 666\"\n",
    "string5 = \"666666666\"\n",
    "print(f\"string1: {string1} -->\", re.findall(\"\\d+?[- ]\", string1))\n",
    "print(f\"string2: {string2} -->\", re.findall(\"\\d+?[- ]\", string2))\n",
    "print(f\"string3: {string3} -->\", re.findall(\"\\d+?[- ]\", string3))\n",
    "print(f\"string4: {string4} -->\", re.findall(\"\\d+?[- ]\", string4))\n",
    "print(f\"string5: {string5} -->\", re.findall(\"\\d+?[- ]\", string5))"
   ]
  },
  {
   "cell_type": "markdown",
   "metadata": {},
   "source": [
    "Si no estuviese el delimitador `?` tendríamos `\\d+[- ]`, lo que quiere decir una secuencia de uno o más números seguidos de un espacio o un guión. Pero lo que hace el delimitador `?` es hacer esta búsqueda más rápido"
   ]
  },
  {
   "cell_type": "markdown",
   "metadata": {},
   "source": [
    "### El negador"
   ]
  },
  {
   "cell_type": "markdown",
   "metadata": {},
   "source": [
    "Antes hemos visto que con `\\d` encotrábamos dígitos, pues con `\\D` encontramos todo lo que no sean dígitos"
   ]
  },
  {
   "cell_type": "code",
   "execution_count": 28,
   "metadata": {},
   "outputs": [
    {
     "name": "stdout",
     "output_type": "stream",
     "text": [
      "['E', 's', 't', 'e', ' ', 'e', 's', 't', 'r', 'i', 'n', 'g', ' ', 't', 'i', 'e', 'n', 'e', ' ', 'd', 'i', 'g', 'i', 't', 'o', 's']\n"
     ]
    }
   ],
   "source": [
    "string1 = \"E3s4t6e e1s2t3r5i6n7g8 t9i0e4n2e1 d4i5g7i9t0o5s2\"\n",
    "print(re.findall(\"\\D\", string1))"
   ]
  },
  {
   "cell_type": "markdown",
   "metadata": {},
   "source": [
    "Lo mismo ocurre con las letras, si escribimos `\\W` encontrará todo lo que no sean letras"
   ]
  },
  {
   "cell_type": "code",
   "execution_count": 29,
   "metadata": {},
   "outputs": [
    {
     "name": "stdout",
     "output_type": "stream",
     "text": [
      "[' ', ' ', ' ', ' ', ',', '.', ':', ';', '´']\n"
     ]
    }
   ],
   "source": [
    "string1 = \"Letras ab27_ no letras ,.:;´ç\"\n",
    "print(re.findall(\"\\W\", string1))"
   ]
  },
  {
   "cell_type": "markdown",
   "metadata": {},
   "source": [
    "Si ponemos `\\S` encontraremos todo lo que no sean espacios"
   ]
  },
  {
   "cell_type": "code",
   "execution_count": 30,
   "metadata": {},
   "outputs": [
    {
     "name": "stdout",
     "output_type": "stream",
     "text": [
      "['L', 'e', 't', 'r', 'a', 's', 'a', 'b', '2', '7', '_', 'n', 'o', 'l', 'e', 't', 'r', 'a', 's', ',', '.', ':', ';', '´', 'ç']\n"
     ]
    }
   ],
   "source": [
    "print(re.findall(\"\\S\", string1))"
   ]
  },
  {
   "cell_type": "markdown",
   "metadata": {},
   "source": [
    "Pero en caso que tengamos una clase o quialquier otra cosa, podemos negar mediante `^`"
   ]
  },
  {
   "cell_type": "code",
   "execution_count": 31,
   "metadata": {},
   "outputs": [
    {
     "name": "stdout",
     "output_type": "stream",
     "text": [
      "['1', '2', '3', '4', '0']\n"
     ]
    }
   ],
   "source": [
    "string1 = \"1234567890\"\n",
    "print(re.findall(\"[^5-9]\", string1))"
   ]
  },
  {
   "cell_type": "markdown",
   "metadata": {},
   "source": [
    "Volviendo al ejemplo de los números de teléfono de antes, podemos filtrarlos mediante los siguiente"
   ]
  },
  {
   "cell_type": "code",
   "execution_count": 32,
   "metadata": {},
   "outputs": [
    {
     "name": "stdout",
     "output_type": "stream",
     "text": [
      "string1: 666-66-66-66 --> ['666-66-66-66']\n",
      "string2: 666-666-666 --> ['666-666-666']\n",
      "string3: 666 66 66 66 --> ['666 66 66 66']\n",
      "string4: 666 666 666 --> ['666 666 666']\n",
      "string5: 666666666 --> ['666666666']\n"
     ]
    }
   ],
   "source": [
    "string1 = \"666-66-66-66\"\n",
    "string2 = \"666-666-666\"\n",
    "string3 = \"666 66 66 66\"\n",
    "string4 = \"666 666 666\"\n",
    "string5 = \"666666666\"\n",
    "print(f\"string1: {string1} -->\", re.findall(\"\\d{2,}\\D?\\d{2,}\\D?\\d{2,}\\D?\\d*\", string1))\n",
    "print(f\"string2: {string2} -->\", re.findall(\"\\d{2,}\\D?\\d{2,}\\D?\\d{2,}\\D?\\d*\", string2))\n",
    "print(f\"string3: {string3} -->\", re.findall(\"\\d{2,}\\D?\\d{2,}\\D?\\d{2,}\\D?\\d*\", string3))\n",
    "print(f\"string4: {string4} -->\", re.findall(\"\\d{2,}\\D?\\d{2,}\\D?\\d{2,}\\D?\\d*\", string4))\n",
    "print(f\"string5: {string5} -->\", re.findall(\"\\d{2,}\\D?\\d{2,}\\D?\\d{2,}\\D?\\d*\", string5))\n",
    "string5 = \"666 666 666\""
   ]
  },
  {
   "cell_type": "markdown",
   "metadata": {},
   "source": [
    "Lo que estamos haciendo es pedir secuencias de al menos dos dígitos seguido de uno o ningún no dígito"
   ]
  },
  {
   "cell_type": "markdown",
   "metadata": {},
   "source": [
    "### El principio `^` y final de línea `$`"
   ]
  },
  {
   "cell_type": "markdown",
   "metadata": {},
   "source": [
    "Con `^` podemos buscar el inicio de línea, por ejemplo, si queremos encontrar un dígito que solo esté al inicio de una línea"
   ]
  },
  {
   "cell_type": "code",
   "execution_count": 33,
   "metadata": {},
   "outputs": [
    {
     "name": "stdout",
     "output_type": "stream",
     "text": [
      "[]\n",
      "['2']\n"
     ]
    }
   ],
   "source": [
    "string1 = \"linea 1\"\n",
    "string2 = \"2ª linea\"\n",
    "print(re.findall(\"^\\d\", string1))\n",
    "print(re.findall(\"^\\d\", string2))"
   ]
  },
  {
   "cell_type": "markdown",
   "metadata": {},
   "source": [
    "Como se puede ver solo hay un dígito al inicio de linea en `string2`"
   ]
  },
  {
   "cell_type": "markdown",
   "metadata": {},
   "source": [
    "Al igual, el final de línea se puede encontrar con `$`. Si queremos encontrar un dígito solo al final de una línea"
   ]
  },
  {
   "cell_type": "code",
   "execution_count": 34,
   "metadata": {},
   "outputs": [
    {
     "name": "stdout",
     "output_type": "stream",
     "text": [
      "['1']\n",
      "[]\n"
     ]
    }
   ],
   "source": [
    "string1 = \"linea 1\"\n",
    "string2 = \"2ª linea\"\n",
    "print(re.findall(\"\\d$\", string1))\n",
    "print(re.findall(\"\\d$\", string2))"
   ]
  },
  {
   "cell_type": "markdown",
   "metadata": {},
   "source": [
    "Esto solo ocurre en el `string1`"
   ]
  },
  {
   "cell_type": "markdown",
   "metadata": {},
   "source": [
    "### Ejemplos prácticos"
   ]
  },
  {
   "cell_type": "markdown",
   "metadata": {},
   "source": [
    "#### Logs"
   ]
  },
  {
   "cell_type": "markdown",
   "metadata": {},
   "source": [
    "Si en el siguiente log queremos encontrar solo los `WARN`s"
   ]
  },
  {
   "cell_type": "code",
   "execution_count": 35,
   "metadata": {},
   "outputs": [
    {
     "data": {
      "text/plain": [
       "['[LOG ENTRY] [WARN] The system may be down',\n",
       " '[LOG ENTRY] [WARN] Microsoft just bought Github']"
      ]
     },
     "execution_count": 35,
     "metadata": {},
     "output_type": "execute_result"
    }
   ],
   "source": [
    "log = \"\"\"[LOG ENTRY] [ERROR] The system is unstable\n",
    "[LOG ENTRY] [WARN] The system may be down\n",
    "[LOG ENTRY] [WARN] Microsoft just bought Github\n",
    "[LOG DATA] [LOG] Everything is OK\n",
    "[LOG ENTRY] [LOG] [user:@beco] Logged in\n",
    "[LOG ENTRY] [LOG] [user:@beco] Clicked here\n",
    "[LOG DATA] [LOG] [user:@celismx] Did something\n",
    "[LOG ENTRY] [LOG] [user:@beco] Rated the app\n",
    "[LOG ENTRY] [LOG] [user:@beco] Logged out\n",
    "[LOG LINE] [LOG] [user:@celismx] Logged in\"\"\"\n",
    "result = re.findall(\"\\[LOG.*\\[WARN\\].*\", log)\n",
    "result"
   ]
  },
  {
   "cell_type": "markdown",
   "metadata": {},
   "source": [
    "#### Número de teléfono"
   ]
  },
  {
   "cell_type": "markdown",
   "metadata": {},
   "source": [
    "Dentro de un número podemos encontrarnos letras como la `e` de extensión, `#` también para la extensión, o la `p` para que si llama un ordenador haga una pausa. También podemos encontrar el `+` para indicar un prefijo de pais y separadores como espacios, `-`, `.`"
   ]
  },
  {
   "cell_type": "code",
   "execution_count": 36,
   "metadata": {},
   "outputs": [
    {
     "data": {
      "text/plain": [
       "['555658',\n",
       " '56-58-11',\n",
       " '56.58.11',\n",
       " '56.78-98',\n",
       " '65 09 87',\n",
       " '78.87 65',\n",
       " '78 54-56',\n",
       " '+521565811',\n",
       " '58-11-11#246',\n",
       " '55256048p123',\n",
       " '55256048e123']"
      ]
     },
     "execution_count": 36,
     "metadata": {},
     "output_type": "execute_result"
    }
   ],
   "source": [
    "tel = \"\"\"555658\n",
    "56-58-11\n",
    "56.58.11\n",
    "56.78-98\n",
    "65 09 87\n",
    "76y87r98\n",
    "45y78-56\n",
    "78.87 65\n",
    "78 54-56\n",
    "+521565811\n",
    "58-11-11#246\n",
    "55256048p123\n",
    "55256048e123\"\"\"\n",
    "result = re.findall(\"\\+?\\d{2,3}[^\\da-zA-Z\\n]?\\d{2,3}[^\\da-zA-Z\\n]?\\d{2,3}[#pe]?\\d*\", tel)\n",
    "result"
   ]
  },
  {
   "cell_type": "markdown",
   "metadata": {},
   "source": [
    "Pasamos a explicarlo\n",
    " * `\\+?`: Que empiece con el caracter `+` y que haya cero o uno\n",
    " * `\\d{2,3}`: Que siga con entre 2 y 3 dígitos\n",
    " * `[^\\da-zA-Z\\n]?`: A continuación puede haber cero o un caracter que no sea ni un dígito, ni una letra de la `a` la `z`, ni una letra de la `A` a la `Z`, ni un salto de línea\n",
    " * `\\d{2,3}`: Que siga con entre 2 y 3 dígitos\n",
    " * `[^\\da-zA-Z\\n]?`: A continuación puede haber cero o un caracter que no sea ni un dígito, ni una letra de la `a` la `z`, ni una letra de la `A` a la `Z`, ni un salto de línea\n",
    " * `\\d{2,3}`: Que siga con entre 2 y 3 dígitos\n",
    " * `[#pe]?`: A continuación puede haber cero o un caracter tanto `#`, como `p`, como `e`\n",
    " * `\\d*`: Por último que haya cero o todos los números"
   ]
  },
  {
   "cell_type": "markdown",
   "metadata": {},
   "source": [
    "#### URLs"
   ]
  },
  {
   "cell_type": "code",
   "execution_count": 37,
   "metadata": {},
   "outputs": [
    {
     "data": {
      "text/plain": [
       "['https://www.instagram.com/p/BXB4zsUlW5Z/?taken-by=beco.mx',\n",
       " 'http://instagram.com/p/blablablah',\n",
       " 'http://itam.mx/test',\n",
       " 'http://instagram.com/p/blablablah',\n",
       " 'https://www.vanguarsoft.com.ve',\n",
       " 'http://platzi.com',\n",
       " 'https://traetelo.net',\n",
       " 'https://traetelo.net/images',\n",
       " 'https://subdominio.traetelo.net',\n",
       " 'https://www.instagram.com/p/BXB4zsUlW5Z/?taken-by=beco.mx',\n",
       " 'http://instagram.com/p/blablablah',\n",
       " 'http://itam.mx/test',\n",
       " 'http://instagram.com/p/blablablah',\n",
       " 'https://www.google.com.co/',\n",
       " 'https://sub.dominio.de.alguien.com/archivo.html',\n",
       " 'https://en.wikipedia.org/wiki/.org',\n",
       " 'https://cdn-microsoft.org/image/seixo2t9sjl_22.jpg',\n",
       " 'https://hola.pizza',\n",
       " 'https://platzi.com/clases/1301-expresiones-regulares/11860-urls9102/',\n",
       " 'https://api.giphy.com/v1/gifs/search?q=Rick']"
      ]
     },
     "execution_count": 37,
     "metadata": {},
     "output_type": "execute_result"
    }
   ],
   "source": [
    "urls = \"\"\"url: https://www.instagram.com/p/BXB4zsUlW5Z/?taken-by=beco.mx\n",
    "url: http://instagram.com/p/blablablah\n",
    "url: http://itam.mx/test\n",
    "http://instagram.com/p/blablablah\n",
    "https://www.vanguarsoft.com.ve\n",
    "http://platzi.com\n",
    "https://traetelo.net\n",
    "https://traetelo.net/images archivo.jsp\n",
    "url: https://subdominio.traetelo.net\n",
    "url: https://www.instagram.com/p/BXB4zsUlW5Z/?taken-by=beco.mx\n",
    "url: http://instagram.com/p/blablablah\n",
    "url: http://itam.mx/test\n",
    "http://instagram.com/p/blablablah\n",
    "https://www.google.com.co/\n",
    "https://sub.dominio.de.alguien.com/archivo.html\n",
    "https://en.wikipedia.org/wiki/.org\n",
    "https://cdn-microsoft.org/image/seixo2t9sjl_22.jpg\n",
    "https://hola.pizza\n",
    "https://platzi.com/clases/1301-expresiones-regulares/11860-urls9102/ clase\n",
    "\n",
    "\n",
    "https://api.giphy.com/v1/gifs/search?q=Rick and Morty&limit=10&api_key=DG3hItPp5HIRNC0nit3AOR7eQZAe\n",
    "\n",
    "http://localhost:3000/something?color1=red&color2=blue\n",
    "http://localhost:3000/display/post?size=small\n",
    " http://localhost:3000/?name=satyam\n",
    " http://localhost:3000/scanned?orderid=234\n",
    " http://localhost:3000/getUsers?userId=12354411&name=Billy\n",
    " http://localhost:3000/getUsers?userId=12354411\n",
    "http://localhost:3000/search?city=Barcelona\n",
    "\n",
    "www.sitiodeejemplo.net/pagina.php?nombredevalor1=valor1&nombredevalor2=valor2\"\"\"\n",
    "result = re.findall(\"https?:\\/\\/[\\w\\-\\.]+\\.\\w{2,6}\\/?\\S*\", urls)\n",
    "result"
   ]
  },
  {
   "cell_type": "markdown",
   "metadata": {},
   "source": [
    "Pasamos a explicarlo\n",
    " * `http`: Queremos que empiece por `http`\n",
    " * `s?`: A continuación puede haber o no una `s`\n",
    " * `:\\/\\/`: Seguido de `://`\n",
    " * `[\\w\\-\\.]+`: Seguido de uno o más letras, giones o puntos\n",
    " * `\\.`: A continuación un punto\n",
    " * `\\w{2,6}`: Entre 2 y 6 letras para el tld\n",
    " * `\\/?`: Seguido de cero o un `/`\n",
    " * `\\S*`: Ninguno o todo lo que no sea un espacio"
   ]
  },
  {
   "cell_type": "markdown",
   "metadata": {},
   "source": [
    "#### Mails"
   ]
  },
  {
   "cell_type": "code",
   "execution_count": 38,
   "metadata": {},
   "outputs": [
    {
     "data": {
      "text/plain": [
       "['esto.es_un.mail@mail.com',\n",
       " 'esto.es_un.mail+complejo@mail.com',\n",
       " 'rodrigo.jimenez@yahoo.com.mx',\n",
       " 'ruben@starbucks.com',\n",
       " 'es_email@dominio.com',\n",
       " 'no_se_de_internet3@hotmail.com']"
      ]
     },
     "execution_count": 38,
     "metadata": {},
     "output_type": "execute_result"
    }
   ],
   "source": [
    "mails = \"\"\"esto.es_un.mail@mail.com\n",
    "esto.es_un.mail+complejo@mail.com\n",
    "dominio.com\n",
    "rodrigo.jimenez@yahoo.com.mx\n",
    "ruben@starbucks.com\n",
    "esto_no$es_email@dominio.com\n",
    "no_se_de_internet3@hotmail.com\"\"\"\n",
    "result = re.findall(\"[\\w\\._]{5,30}\\+?[\\w\\._]{0,10}@[\\w\\.-]{2,}\\.\\w{2,6}\", mails)\n",
    "result"
   ]
  },
  {
   "cell_type": "markdown",
   "metadata": {},
   "source": [
    "Pasamos a explicarlo\n",
    " * `[\\w\\._]{5,30}`: Queremos que empiece por entre 5 y 30 (que es lo mínimo y máximo que admite gmail) letras, puntos o barras bajas\n",
    " * `\\+?`: Seguido de cero o un `+`\n",
    " * `[\\w\\._]{0,10}`: A continuación entre 0 y 10 letras, puntos o barras bajas\n",
    " * `@`: La `@`\n",
    " * `[\\w\\.-]{2,}`: Entre 2 e infinitas letras, puntos y guiones (dominio)\n",
    " * `\\.`: Seguido de un `.`\n",
    " * `\\w{2,6}`: Y por último entre 2 y 6 letras para el tld"
   ]
  },
  {
   "cell_type": "markdown",
   "metadata": {},
   "source": [
    "#### Localizaciones"
   ]
  },
  {
   "cell_type": "markdown",
   "metadata": {},
   "source": [
    "Hay dos posibles manera de dar localizaciones, por lo que analizamos las dos"
   ]
  },
  {
   "cell_type": "code",
   "execution_count": 39,
   "metadata": {},
   "outputs": [
    {
     "data": {
      "text/plain": [
       "['-99.205646,19.429707,2275.10',\n",
       " '-99.205581, 19.429652,2275.10',\n",
       " '-99.204654,19.428952,2275.58']"
      ]
     },
     "execution_count": 39,
     "metadata": {},
     "output_type": "execute_result"
    }
   ],
   "source": [
    "loc = \"\"\"-99.205646,19.429707,2275.10\n",
    "-99.205581, 19.429652,2275.10\n",
    "-99.204654,19.428952,2275.58\"\"\"\n",
    "result = re.findall(\"\\-?\\d{1,3}\\.\\d{1,6},\\s?\\-?\\d{1,3}\\.\\d{1,6},.*\", loc)\n",
    "result"
   ]
  },
  {
   "cell_type": "markdown",
   "metadata": {},
   "source": [
    "Pasamos a explicarlo\n",
    " * `\\-?`: Queremos que empiece con cero o un signo menos\n",
    " * `\\d{1,3}`: Seguido de entre uno y tres números\n",
    " * `\\.`: A continuación un punto\n",
    " * `\\d{1,6}`: Después entre uno y seis números\n",
    " * `,`: A continuación una `,`\n",
    " * `\\s?`: Después cero o un espacio\n",
    " * `\\-?`: Cero o un signo menos\n",
    " * `\\d{1,3}`: A continuación entre uno y tres números\n",
    " * `\\.`: A continuación un punto\n",
    " * `\\d{1,6}`: Seguido de entre uno y seis números\n",
    " * `,`: Luego una coma\n",
    " * `.*`: Por último ninguno o todo tipo de caracteres"
   ]
  },
  {
   "cell_type": "code",
   "execution_count": 40,
   "metadata": {},
   "outputs": [
    {
     "data": {
      "text/plain": [
       "['-99 12\\' 34.08\"W, 19 34\\' 56.98\"N', '-34 54\\' 32.00\"E, -3 21\\' 67.00\"S']"
      ]
     },
     "execution_count": 40,
     "metadata": {},
     "output_type": "execute_result"
    }
   ],
   "source": [
    "loc = \"\"\"-99 12' 34.08\"W, 19 34' 56.98\"N\n",
    "-34 54' 32.00\"E, -3 21' 67.00\"S\"\"\"\n",
    "result = re.findall(\"\\-?\\d{1,3}\\s\\d{1,2}'\\s\\d{1,2}\\.\\d{2,2}\\\"[WE],\\s?\\-?\\d{1,3}\\s\\d{1,2}'\\s\\d{1,2}\\.\\d{2,2}\\\"[SN]\", loc)\n",
    "result"
   ]
  },
  {
   "cell_type": "code",
   "execution_count": 41,
   "metadata": {},
   "outputs": [
    {
     "name": "stdout",
     "output_type": "stream",
     "text": [
      "-99 12' 34.08\"W, 19 34' 56.98\"N\n",
      "-34 54' 32.00\"E, -3 21' 67.00\"S\n"
     ]
    }
   ],
   "source": [
    "print(result[0])\n",
    "print(result[1])"
   ]
  },
  {
   "cell_type": "markdown",
   "metadata": {},
   "source": [
    "Pasamos a explicarlo\n",
    " * `\\-?`: Queremos que empiece con cero o un signo menos\n",
    " * `\\d{1,3}`: Seguido de entre uno y tres números\n",
    " * `\\s`: Después un espacio\n",
    " * `\\d{1,2}`: Segiodo de entre uno y dos números\n",
    " * `'`: A continuación un `'`\n",
    " * `\\s`: Seguido de un espacio\n",
    " * `\\d{1,2}`: A continuación entre uno y dos números\n",
    " * `\\.`: Después un punto\n",
    " * `\\d{2,2}`: Seguido de dos números\n",
    " * `\\\"`: Después un `\"`\n",
    " * `[WE]`: A continuación la letra `W` o la letra `E`\n",
    " * `,`: Después una coma\n",
    " * `\\s?`: Seguido de cero o un espacio\n",
    " * `\\-?`: Después cero o un signo menos\n",
    " * `\\d{1,3}`: A continuación entre uno y tres números\n",
    " * `\\s`: Seguido de un espacio\n",
    " * `\\d{1,2}`: A continuación entre uno y dos números\n",
    " * `'`: Después un `'`\n",
    " * `\\s`: Después un espacio\n",
    " * `\\d{1,2}`: A continuación entre uno y dos númeors\n",
    " * `\\.`: Seguido de un punto\n",
    " * `\\d{2,2}`: Después dos números\n",
    " * `\\\"`: Segido de `\"`\n",
    " * `[SN]`: Y por último la letra `S` o la letra `N`"
   ]
  },
  {
   "cell_type": "markdown",
   "metadata": {},
   "source": [
    "#### Nombres"
   ]
  },
  {
   "cell_type": "code",
   "execution_count": 42,
   "metadata": {},
   "outputs": [
    {
     "data": {
      "text/plain": [
       "['Camilo Sarmiento Gálvez',\n",
       " 'Alejandro Pliego Abasto',\n",
       " 'Milagros Reyes Japón',\n",
       " 'Samuel París Arrabal',\n",
       " 'Juan Pablo Tafalla',\n",
       " 'Axel Gálvez Velázquez',\n",
       " 'Óscar Montreal Aparicio',\n",
       " 'Jacobo Pozo Tassis',\n",
       " 'Espiga\\nEduardo Pousa',\n",
       " 'Curbelo\\nIvanna Bienvenida',\n",
       " 'Kevin\\nAda Tasis',\n",
       " 'López\\nLuciana Sáenz',\n",
       " 'García\\nFlorencia Sainz',\n",
       " 'Márquz\\nCatarina Cazalla',\n",
       " 'Lombarda\\nPaloma Gallo',\n",
       " 'Perro\\nMargarita Quesada',\n",
       " 'Florez\\nVicente Fox',\n",
       " 'Quesada\\nIris Graciani',\n",
       " 'Asunción Carballar\\nConstanza',\n",
       " 'Manuel Andres García']"
      ]
     },
     "execution_count": 42,
     "metadata": {},
     "output_type": "execute_result"
    }
   ],
   "source": [
    "nombres = \"\"\"Camilo Sarmiento Gálvez\n",
    "Alejandro Pliego Abasto\n",
    "Milagros Reyes Japón\n",
    "Samuel París Arrabal\n",
    "Juan Pablo Tafalla\n",
    "Axel Gálvez Velázquez\n",
    "Óscar Montreal Aparicio\n",
    "Jacobo Pozo Tassis\n",
    "Guillermo Ordóñez Espiga\n",
    "Eduardo Pousa Curbelo\n",
    "Ivanna Bienvenida Kevin\n",
    "Ada Tasis López\n",
    "Luciana Sáenz García\n",
    "Florencia Sainz Márquz\n",
    "Catarina Cazalla Lombarda\n",
    "Paloma Gallo Perro\n",
    "Margarita Quesada Florez\n",
    "Vicente Fox Quesada\n",
    "Iris Graciani\n",
    "Asunción Carballar\n",
    "Constanza Muñoz\n",
    "Manuel Andres García Márquez\"\"\"\n",
    "result = re.findall(\"[A-ZÁÉÍÓÚ][a-záéíóú]+\\s[A-ZÁÉÍÓÚ][a-záéíóú]+\\s[A-ZÁÉÍÓÚ][a-záéíóú]+\", nombres)\n",
    "result"
   ]
  },
  {
   "cell_type": "markdown",
   "metadata": {},
   "source": [
    "Pasamos a explicarlo\n",
    " * `[A-ZÁÉÍÓÚ]`: Queremos que empiece con una letra mayúscula, incluidas con acentos\n",
    " * `[a-záéíóú]+`: Seguido de una o mas letras minúsculas, incluidas con espacios\n",
    " * `\\s`: Segido de un espacio\n",
    " * `[A-ZÁÉÍÓÚ]`: A continuación una letra mayúscula, incluidas con acentos\n",
    " * `[a-záéíóú]+`: Seguido de una o mas letras minúsculas, incluidas con espacios\n",
    " * `\\s`: Segido de un espacio\n",
    " * `[A-ZÁÉÍÓÚ]`: A continuación una letra mayúscula, incluidas con acentos\n",
    " * `[a-záéíóú]+`: Seguido de una o mas letras minúsculas, incluidas con espacios"
   ]
  },
  {
   "cell_type": "markdown",
   "metadata": {},
   "source": [
    "### Búsqueda y remplazo"
   ]
  },
  {
   "cell_type": "markdown",
   "metadata": {},
   "source": [
    "Vamos a descargarnos un archivo con un montón de películas históricas"
   ]
  },
  {
   "cell_type": "code",
   "execution_count": 43,
   "metadata": {},
   "outputs": [
    {
     "ename": "HTTPError",
     "evalue": "HTTP Error 403: Forbidden",
     "output_type": "error",
     "traceback": [
      "\u001b[0;31m---------------------------------------------------------------------------\u001b[0m",
      "\u001b[0;31mHTTPError\u001b[0m                                 Traceback (most recent call last)",
      "Cell \u001b[0;32mIn[43], line 4\u001b[0m\n\u001b[1;32m      2\u001b[0m \u001b[38;5;28;01mimport\u001b[39;00m \u001b[38;5;21;01murllib\u001b[39;00m\u001b[38;5;21;01m.\u001b[39;00m\u001b[38;5;21;01mrequest\u001b[39;00m\n\u001b[1;32m      3\u001b[0m url \u001b[38;5;241m=\u001b[39m \u001b[38;5;124m\"\u001b[39m\u001b[38;5;124mhttps://static.platzi.com/media/tmp/class-files/github/moviedemo/moviedemo-master/movies.dat\u001b[39m\u001b[38;5;124m\"\u001b[39m\n\u001b[0;32m----> 4\u001b[0m urllib\u001b[38;5;241m.\u001b[39mrequest\u001b[38;5;241m.\u001b[39murlretrieve(url, \u001b[38;5;124m\"\u001b[39m\u001b[38;5;124mmovies.dat\u001b[39m\u001b[38;5;124m\"\u001b[39m)\n",
      "File \u001b[0;32m~/miniconda3/envs/mybase/lib/python3.11/urllib/request.py:241\u001b[0m, in \u001b[0;36murlretrieve\u001b[0;34m(url, filename, reporthook, data)\u001b[0m\n\u001b[1;32m    224\u001b[0m \u001b[38;5;250m\u001b[39m\u001b[38;5;124;03m\"\"\"\u001b[39;00m\n\u001b[1;32m    225\u001b[0m \u001b[38;5;124;03mRetrieve a URL into a temporary location on disk.\u001b[39;00m\n\u001b[1;32m    226\u001b[0m \n\u001b[0;32m   (...)\u001b[0m\n\u001b[1;32m    237\u001b[0m \u001b[38;5;124;03mdata file as well as the resulting HTTPMessage object.\u001b[39;00m\n\u001b[1;32m    238\u001b[0m \u001b[38;5;124;03m\"\"\"\u001b[39;00m\n\u001b[1;32m    239\u001b[0m url_type, path \u001b[38;5;241m=\u001b[39m _splittype(url)\n\u001b[0;32m--> 241\u001b[0m \u001b[38;5;28;01mwith\u001b[39;00m contextlib\u001b[38;5;241m.\u001b[39mclosing(urlopen(url, data)) \u001b[38;5;28;01mas\u001b[39;00m fp:\n\u001b[1;32m    242\u001b[0m     headers \u001b[38;5;241m=\u001b[39m fp\u001b[38;5;241m.\u001b[39minfo()\n\u001b[1;32m    244\u001b[0m     \u001b[38;5;66;03m# Just return the local path and the \"headers\" for file://\u001b[39;00m\n\u001b[1;32m    245\u001b[0m     \u001b[38;5;66;03m# URLs. No sense in performing a copy unless requested.\u001b[39;00m\n",
      "File \u001b[0;32m~/miniconda3/envs/mybase/lib/python3.11/urllib/request.py:216\u001b[0m, in \u001b[0;36murlopen\u001b[0;34m(url, data, timeout, cafile, capath, cadefault, context)\u001b[0m\n\u001b[1;32m    214\u001b[0m \u001b[38;5;28;01melse\u001b[39;00m:\n\u001b[1;32m    215\u001b[0m     opener \u001b[38;5;241m=\u001b[39m _opener\n\u001b[0;32m--> 216\u001b[0m \u001b[38;5;28;01mreturn\u001b[39;00m opener\u001b[38;5;241m.\u001b[39mopen(url, data, timeout)\n",
      "File \u001b[0;32m~/miniconda3/envs/mybase/lib/python3.11/urllib/request.py:525\u001b[0m, in \u001b[0;36mOpenerDirector.open\u001b[0;34m(self, fullurl, data, timeout)\u001b[0m\n\u001b[1;32m    523\u001b[0m \u001b[38;5;28;01mfor\u001b[39;00m processor \u001b[38;5;129;01min\u001b[39;00m \u001b[38;5;28mself\u001b[39m\u001b[38;5;241m.\u001b[39mprocess_response\u001b[38;5;241m.\u001b[39mget(protocol, []):\n\u001b[1;32m    524\u001b[0m     meth \u001b[38;5;241m=\u001b[39m \u001b[38;5;28mgetattr\u001b[39m(processor, meth_name)\n\u001b[0;32m--> 525\u001b[0m     response \u001b[38;5;241m=\u001b[39m meth(req, response)\n\u001b[1;32m    527\u001b[0m \u001b[38;5;28;01mreturn\u001b[39;00m response\n",
      "File \u001b[0;32m~/miniconda3/envs/mybase/lib/python3.11/urllib/request.py:634\u001b[0m, in \u001b[0;36mHTTPErrorProcessor.http_response\u001b[0;34m(self, request, response)\u001b[0m\n\u001b[1;32m    631\u001b[0m \u001b[38;5;66;03m# According to RFC 2616, \"2xx\" code indicates that the client's\u001b[39;00m\n\u001b[1;32m    632\u001b[0m \u001b[38;5;66;03m# request was successfully received, understood, and accepted.\u001b[39;00m\n\u001b[1;32m    633\u001b[0m \u001b[38;5;28;01mif\u001b[39;00m \u001b[38;5;129;01mnot\u001b[39;00m (\u001b[38;5;241m200\u001b[39m \u001b[38;5;241m<\u001b[39m\u001b[38;5;241m=\u001b[39m code \u001b[38;5;241m<\u001b[39m \u001b[38;5;241m300\u001b[39m):\n\u001b[0;32m--> 634\u001b[0m     response \u001b[38;5;241m=\u001b[39m \u001b[38;5;28mself\u001b[39m\u001b[38;5;241m.\u001b[39mparent\u001b[38;5;241m.\u001b[39merror(\n\u001b[1;32m    635\u001b[0m         \u001b[38;5;124m'\u001b[39m\u001b[38;5;124mhttp\u001b[39m\u001b[38;5;124m'\u001b[39m, request, response, code, msg, hdrs)\n\u001b[1;32m    637\u001b[0m \u001b[38;5;28;01mreturn\u001b[39;00m response\n",
      "File \u001b[0;32m~/miniconda3/envs/mybase/lib/python3.11/urllib/request.py:563\u001b[0m, in \u001b[0;36mOpenerDirector.error\u001b[0;34m(self, proto, *args)\u001b[0m\n\u001b[1;32m    561\u001b[0m \u001b[38;5;28;01mif\u001b[39;00m http_err:\n\u001b[1;32m    562\u001b[0m     args \u001b[38;5;241m=\u001b[39m (\u001b[38;5;28mdict\u001b[39m, \u001b[38;5;124m'\u001b[39m\u001b[38;5;124mdefault\u001b[39m\u001b[38;5;124m'\u001b[39m, \u001b[38;5;124m'\u001b[39m\u001b[38;5;124mhttp_error_default\u001b[39m\u001b[38;5;124m'\u001b[39m) \u001b[38;5;241m+\u001b[39m orig_args\n\u001b[0;32m--> 563\u001b[0m     \u001b[38;5;28;01mreturn\u001b[39;00m \u001b[38;5;28mself\u001b[39m\u001b[38;5;241m.\u001b[39m_call_chain(\u001b[38;5;241m*\u001b[39margs)\n",
      "File \u001b[0;32m~/miniconda3/envs/mybase/lib/python3.11/urllib/request.py:496\u001b[0m, in \u001b[0;36mOpenerDirector._call_chain\u001b[0;34m(self, chain, kind, meth_name, *args)\u001b[0m\n\u001b[1;32m    494\u001b[0m \u001b[38;5;28;01mfor\u001b[39;00m handler \u001b[38;5;129;01min\u001b[39;00m handlers:\n\u001b[1;32m    495\u001b[0m     func \u001b[38;5;241m=\u001b[39m \u001b[38;5;28mgetattr\u001b[39m(handler, meth_name)\n\u001b[0;32m--> 496\u001b[0m     result \u001b[38;5;241m=\u001b[39m func(\u001b[38;5;241m*\u001b[39margs)\n\u001b[1;32m    497\u001b[0m     \u001b[38;5;28;01mif\u001b[39;00m result \u001b[38;5;129;01mis\u001b[39;00m \u001b[38;5;129;01mnot\u001b[39;00m \u001b[38;5;28;01mNone\u001b[39;00m:\n\u001b[1;32m    498\u001b[0m         \u001b[38;5;28;01mreturn\u001b[39;00m result\n",
      "File \u001b[0;32m~/miniconda3/envs/mybase/lib/python3.11/urllib/request.py:643\u001b[0m, in \u001b[0;36mHTTPDefaultErrorHandler.http_error_default\u001b[0;34m(self, req, fp, code, msg, hdrs)\u001b[0m\n\u001b[1;32m    642\u001b[0m \u001b[38;5;28;01mdef\u001b[39;00m \u001b[38;5;21mhttp_error_default\u001b[39m(\u001b[38;5;28mself\u001b[39m, req, fp, code, msg, hdrs):\n\u001b[0;32m--> 643\u001b[0m     \u001b[38;5;28;01mraise\u001b[39;00m HTTPError(req\u001b[38;5;241m.\u001b[39mfull_url, code, msg, hdrs, fp)\n",
      "\u001b[0;31mHTTPError\u001b[0m: HTTP Error 403: Forbidden"
     ]
    }
   ],
   "source": [
    "# download file from url\n",
    "import urllib.request\n",
    "url = \"https://static.platzi.com/media/tmp/class-files/github/moviedemo/moviedemo-master/movies.dat\"\n",
    "urllib.request.urlretrieve(url, \"movies.dat\")\n"
   ]
  },
  {
   "cell_type": "markdown",
   "metadata": {},
   "source": [
    "Vamos a imprimir las primeras 10 lineas para analizarlo"
   ]
  },
  {
   "cell_type": "code",
   "execution_count": null,
   "metadata": {},
   "outputs": [
    {
     "name": "stdout",
     "output_type": "stream",
     "text": [
      "1::Toy Story (1995)::Adventure|Animation|Children|Comedy|Fantasy\n",
      "2::Jumanji (1995)::Adventure|Children|Fantasy\n",
      "3::Grumpier Old Men (1995)::Comedy|Romance\n",
      "4::Waiting to Exhale (1995)::Comedy|Drama|Romance\n",
      "5::Father of the Bride Part II (1995)::Comedy\n",
      "6::Heat (1995)::Action|Crime|Thriller\n",
      "7::Sabrina (1995)::Comedy|Romance\n",
      "8::Tom and Huck (1995)::Adventure|Children\n",
      "9::Sudden Death (1995)::Action\n",
      "10::GoldenEye (1995)::Action|Adventure|Thriller\n",
      "11::American President, The (1995)::Comedy|Drama|Romance\n"
     ]
    }
   ],
   "source": [
    "file = open(\"movies.dat\", \"r\")\n",
    "\n",
    "for i, line in enumerate(file):\n",
    "    print(line, end=\"\")\n",
    "    if i == 10:\n",
    "        break\n",
    "\n",
    "file.close()"
   ]
  },
  {
   "cell_type": "markdown",
   "metadata": {},
   "source": [
    "Como se puede ver, tenemos un ID, seguido de `::`, a continuación el nombre de la película, entre paréntesis el año, sguido de `::` y después géneros separados por `|`"
   ]
  },
  {
   "cell_type": "markdown",
   "metadata": {},
   "source": [
    "Podemos hacer una limpieza del archivo muy fácil mediante las expresiones regulares, las funciones `compile` y `match` y el uso de agrupaciones con paréntesis. Al hacer agurpaciones, seleccionamos qué zonas del texto queremos guardar para luego trabajar con ellas como queramos, vamos e verlo con un ejemplo"
   ]
  },
  {
   "cell_type": "code",
   "execution_count": null,
   "metadata": {},
   "outputs": [],
   "source": [
    "pattern = re.compile(r\"^\\d+::([\\w\\s:,\\(\\)\\.\\-'&¡!/¿?ÁÉÍÓÚáéíóú\\+*\\$#°\\'\\\"\\[\\]@·]+)\\s\\((\\d{4,4})\\)::(.*)$\")\n",
    "\n",
    "file = open(\"movies.dat\", \"r\")\n",
    "file_filtered = open(\"movies.csv\", \"w\")\n",
    "file_filtered.write(\"title,year,genders\\n\")\n",
    "sep = \";;\"\n",
    "for line in file:\n",
    "    result = re.match(pattern, line)\n",
    "    if result:\n",
    "        file_filtered.write(f\"{result.group(1)}{sep}{result.group(2)}{sep}{result.group(3)}\\n\")\n",
    "    else:\n",
    "        print(line, end=\"\")\n",
    "file.close()\n",
    "file_filtered.close()"
   ]
  },
  {
   "cell_type": "markdown",
   "metadata": {},
   "source": [
    "Vamos a ver qué hemos hecho, primero hemos definido un patrón con lo siguiente:\n",
    " * `^`: Queremos que empiece con el inicio de línea\n",
    " * `\\d+`: A continuación uno o más números\n",
    " * `::`: Seguido de `::`\n",
    " * `([\\w\\s:,\\(\\)\\.\\-'&¡!/¿?ÁÉÍÓÚáéíóú\\+*\\$#°\\'\\\"\\[\\]@·]+)`: Esta es la primera agrupación, buscamos cualquier palabra, espacio o caracter de entre los corchetes que aparezca una o más veces\n",
    " * `\\s`: A continuación un espacio\n",
    " * `\\(`: La apretura de un paréntesis\n",
    " * `(\\d{4,4})`: Aquí esta la segunda agrupación, buscamos cuatro números\n",
    " * `\\)`: Después el cierre de un paréntesis\n",
    " * `::`: A continuación `::`\n",
    " * `(.*)`: La tercera agrupación, cualquier caracter que aparezca ninguna o todas las veces\n",
    " * `$`: Por último el final de línea\n",
    "\n",
    "Dentro del `for` analizamos línea a línea si se encuentra el patrón que hemos definido, y si se encuentra se escriben los tres patrones en el `csv` separados por `sep`, que en nuestro caso lo hemos definido como `;;`. Se ha definido ese separador, porque hay títulos de películas que tienen `,`s."
   ]
  },
  {
   "cell_type": "markdown",
   "metadata": {},
   "source": [
    "Leemos el `csv` con `Pandas`"
   ]
  },
  {
   "cell_type": "code",
   "execution_count": null,
   "metadata": {},
   "outputs": [
    {
     "data": {
      "text/html": [
       "<div>\n",
       "<style scoped>\n",
       "    .dataframe tbody tr th:only-of-type {\n",
       "        vertical-align: middle;\n",
       "    }\n",
       "\n",
       "    .dataframe tbody tr th {\n",
       "        vertical-align: top;\n",
       "    }\n",
       "\n",
       "    .dataframe thead th {\n",
       "        text-align: right;\n",
       "    }\n",
       "</style>\n",
       "<table border=\"1\" class=\"dataframe\">\n",
       "  <thead>\n",
       "    <tr style=\"text-align: right;\">\n",
       "      <th></th>\n",
       "      <th></th>\n",
       "      <th>title,year,genders</th>\n",
       "    </tr>\n",
       "  </thead>\n",
       "  <tbody>\n",
       "    <tr>\n",
       "      <th>Toy Story</th>\n",
       "      <th>1995</th>\n",
       "      <td>Adventure|Animation|Children|Comedy|Fantasy</td>\n",
       "    </tr>\n",
       "    <tr>\n",
       "      <th>Jumanji</th>\n",
       "      <th>1995</th>\n",
       "      <td>Adventure|Children|Fantasy</td>\n",
       "    </tr>\n",
       "    <tr>\n",
       "      <th>Grumpier Old Men</th>\n",
       "      <th>1995</th>\n",
       "      <td>Comedy|Romance</td>\n",
       "    </tr>\n",
       "    <tr>\n",
       "      <th>Waiting to Exhale</th>\n",
       "      <th>1995</th>\n",
       "      <td>Comedy|Drama|Romance</td>\n",
       "    </tr>\n",
       "    <tr>\n",
       "      <th>Father of the Bride Part II</th>\n",
       "      <th>1995</th>\n",
       "      <td>Comedy</td>\n",
       "    </tr>\n",
       "  </tbody>\n",
       "</table>\n",
       "</div>"
      ],
      "text/plain": [
       "                                                           title,year,genders\n",
       "Toy Story                   1995  Adventure|Animation|Children|Comedy|Fantasy\n",
       "Jumanji                     1995                   Adventure|Children|Fantasy\n",
       "Grumpier Old Men            1995                               Comedy|Romance\n",
       "Waiting to Exhale           1995                         Comedy|Drama|Romance\n",
       "Father of the Bride Part II 1995                                       Comedy"
      ]
     },
     "execution_count": 120,
     "metadata": {},
     "output_type": "execute_result"
    }
   ],
   "source": [
    "import pandas as pd\n",
    "df = pd.read_csv(\"movies.csv\", sep=\";;\", engine=\"python\")\n",
    "df.head()"
   ]
  }
 ],
 "metadata": {
  "kernelspec": {
   "display_name": "Python 3.7.6 ('base')",
   "language": "python",
   "name": "python3"
  },
  "language_info": {
   "codemirror_mode": {
    "name": "ipython",
    "version": 3
   },
   "file_extension": ".py",
   "mimetype": "text/x-python",
   "name": "python",
   "nbconvert_exporter": "python",
   "pygments_lexer": "ipython3",
   "version": "3.11.2"
  },
  "orig_nbformat": 4,
  "vscode": {
   "interpreter": {
    "hash": "d5745ab6aba164e1152437c779991855725055592b9f2bdb41a4825db7168d26"
   }
  }
 },
 "nbformat": 4,
 "nbformat_minor": 2
}
