{
 "cells": [
  {
   "cell_type": "markdown",
   "metadata": {},
   "source": [
    "# Azure ML - Compute Instances"
   ]
  },
  {
   "cell_type": "markdown",
   "metadata": {},
   "source": [
    "## Loguearse a Azure ML"
   ]
  },
  {
   "cell_type": "markdown",
   "metadata": {},
   "source": [
    "Como las acciones que vamos a hacer por CLI o a través del SDK de Python necesitan una autentificación, primero vamos a loguearnos en Azure ML"
   ]
  },
  {
   "cell_type": "markdown",
   "metadata": {},
   "source": [
    "### Login en Azure ML con el CLI de Azure ML"
   ]
  },
  {
   "cell_type": "markdown",
   "metadata": {},
   "source": [
    "Para logearnos en Azure hacemos"
   ]
  },
  {
   "cell_type": "code",
   "execution_count": null,
   "metadata": {},
   "outputs": [],
   "source": [
    "!az login"
   ]
  },
  {
   "cell_type": "markdown",
   "metadata": {},
   "source": [
    "Se nos abrirá el navegador para logearnos"
   ]
  },
  {
   "cell_type": "markdown",
   "metadata": {},
   "source": [
    "### Crear un cliente de Azure ML con el SDK de Python"
   ]
  },
  {
   "cell_type": "markdown",
   "metadata": {},
   "source": [
    "Primero creamos dos variables con la ID de la suscripción y el grupo de recursos, como estos son datos personales, no los voy a poner aquí. Lo que voy a hacer es incluirlos en un archivo `.env` que no voy a subir a GitHub\n",
    "\n",
    "```bash\n",
    "AZURE_SUSCRIPION_ID=\"xxxxx-xxxx-xxxx-xxxx-xxxxx\"\n",
    "AZURE_ML_RESOURCE_GRPU_ID=\"xxxxx-xxxx-xxxx-xxxx-xxxxx\"\n",
    "```"
   ]
  },
  {
   "cell_type": "markdown",
   "metadata": {},
   "source": [
    "Ahora para leerlos primero necesitasos tener instalado `dotenv` que lo hacemos mediante `pip install python-dotenv`"
   ]
  },
  {
   "cell_type": "code",
   "execution_count": 1,
   "metadata": {},
   "outputs": [],
   "source": [
    "import os\n",
    "import dotenv\n",
    "\n",
    "dotenv.load_dotenv()\n",
    "\n",
    "AZURE_SUSCRIPION_ID = os.getenv(\"AZURE_SUSCRIPION_ID\")\n",
    "AZURE_ML_RESOURCE_GRPU_ID = os.getenv(\"AZURE_ML_RESOURCE_GRPU_ID\")\n"
   ]
  },
  {
   "cell_type": "markdown",
   "metadata": {},
   "source": [
    "Ahora que tenemos estas variables creamos un cliente"
   ]
  },
  {
   "cell_type": "code",
   "execution_count": 4,
   "metadata": {},
   "outputs": [],
   "source": [
    "from azure.ai.ml import MLClient\n",
    "from azure.identity import DefaultAzureCredential\n",
    "\n",
    "workspace_name = \"azure-ml-workspace-Python-SDK\"\n",
    "\n",
    "ml_client = MLClient(\n",
    "    credential=DefaultAzureCredential(), \n",
    "    suscription_id=AZURE_SUSCRIPION_ID, \n",
    "    resource_group_name=AZURE_ML_RESOURCE_GRPU_ID, \n",
    "    workspace_name=workspace_name\n",
    ")"
   ]
  },
  {
   "cell_type": "markdown",
   "metadata": {},
   "source": [
    "## Compute Instances"
   ]
  },
  {
   "cell_type": "markdown",
   "metadata": {},
   "source": [
    "Va,mos a volver a ver la arquitectura de `Azure ML`\n",
    "\n",
    "![Azure ML architecture concepts](https://pub-fb664c455eca46a2ba762a065ac900f7.r2.dev/azureml-architecture-concepts.webp)\n",
    "\n",
    "Ya hemos visto cómo crear un `Azure Data Storage` y vincularlo a `Azure ML`, cómo crear un `Datastore` y cómo crear un `Dataset`. Ahora necesitamos una máquina dónde empezar a entrenar\n",
    "\n",
    "Para ello tenemos tres opciones\n",
    "\n",
    " * `Compute Instances`: Son máquinas virtuales que se pueden usar para desarrollo y pruebas. No tenemos que preocuparnos del sistema operativo, ni de la instalación de librerías, ni de nada. Son máquinas virtuales que se pueden apagar y encender\n",
    " * `Compute Clusters`: Son como los `Compute Instances` pero en lugar de ser una máquina virtual, es un cluster de máquinas virtuales. Se pueden usar para entrenar modelos en paralelo\n",
    " * `Compute Targets`: En este caso, esto son máquinas externas, que pueden ser otras máquinas de `Azure`, de otro cloud, o incluso una máquina local."
   ]
  },
  {
   "cell_type": "markdown",
   "metadata": {},
   "source": [
    "En este caso vamos a ver cómo crear un `Compute Instance` tanto desde la interfaz web, como desde la CLI de `Azure ML` y como hacerlo con el SDK de Python"
   ]
  },
  {
   "cell_type": "markdown",
   "metadata": {},
   "source": [
    "#### Crear un `Compute instance` desde la interfaz gráfica"
   ]
  },
  {
   "cell_type": "markdown",
   "metadata": {},
   "source": [
    "En `Azure ML studio` deberíamos tener el `Workspace` `Azure ML Workspace GUI`, así que entramos en él y pinchamos en el botón `New` y seleccionamos `Compute instance`\n",
    " * Le ponemos un nombre, en mi caso le pondré `compute-instance-GUI`\n",
    " * Seleccionamos el tipo de máquina, si `CPU` o `GPU`, en mi caso selecciono `GPU` para poder entrenar modelos\n",
    " * Seleccionamos el tipo de `GPU` que queremos, espero que cuando leas esto los filtros sean mejores y puedas filtrar por `VRAM`, pero cuando lo estoy escribiendo no está ese filtro básico. En mi caso, como no voy a hacer entrenamientos muy grandes elijo la `Standard_NC4as_T4_v3` que tiene una `Tesla T4` con `16GB` de `VRAM`\n",
    " * Pulsamos `Next` y en la siguiente pantalla dejamos la configuración de autoapagado después de 60 minutos de inactividad, por si acaso\n",
    " * El resto de opciones las dejamos como están y creamos la instancia, tardará unos minutos"
   ]
  },
  {
   "cell_type": "markdown",
   "metadata": {},
   "source": [
    "Desafortunadamente por defecto no vamos a tener quota de máquinas con GPU. Por lo que aunque hayamos creado una máquina con GPU, no vamos a poder usarla. Más adelante hablaremos de esto"
   ]
  },
  {
   "cell_type": "markdown",
   "metadata": {},
   "source": [
    "Cuando se crea hay una zona llamada `Applications` donde podemos elegir si ejecutar la instancia en `JupyterLab`, `Jupyter`, `vscode` en la web o `vscode` en local."
   ]
  },
  {
   "cell_type": "markdown",
   "metadata": {},
   "source": [
    "Por otro lado, cuando se crea la instancia, se crea encendida, así que entramos y la apagamos para que no genere costes. Cuando entras en la instancia hay un botón q`Stop` para apagarla"
   ]
  },
  {
   "cell_type": "markdown",
   "metadata": {},
   "source": [
    "#### Crear un `Compute instance` con el CLI de Azure ML"
   ]
  },
  {
   "cell_type": "markdown",
   "metadata": {},
   "source": [
    "Creamos la `Compute instance` con el siguiente comando"
   ]
  },
  {
   "cell_type": "code",
   "execution_count": null,
   "metadata": {},
   "outputs": [
    {
     "name": "stdout",
     "output_type": "stream",
     "text": [
      "\u001b[K{- Finished ..\n",
      "  \"created_on\": \"2024-10-15T08:51:45.785449+0000\",\n",
      "  \"enable_node_public_ip\": true,\n",
      "  \"enable_os_patching\": false,\n",
      "  \"enable_root_access\": true,\n",
      "  \"enable_sso\": true,\n",
      "  \"id\": \"/subscriptions/c1ffdd1c-ecfc-4119-bf19-e207f9a4bcaf/resourceGroups/rg-azure-ml/providers/Microsoft.MachineLearningServices/workspaces/azure-ml-workspace-CLI/computes/compute-instance-CLI\",\n",
      "  \"last_operation\": {\n",
      "    \"operation_name\": \"Create\",\n",
      "    \"operation_status\": \"Succeeded\",\n",
      "    \"operation_time\": \"2024-10-15T08:51:54.183Z\",\n",
      "    \"operation_trigger\": \"User\"\n",
      "  },\n",
      "  \"location\": \"francecentral\",\n",
      "  \"name\": \"compute-instance-CLI\",\n",
      "  \"network_settings\": {\n",
      "    \"private_ip_address\": \"10.0.0.4\",\n",
      "    \"public_ip_address\": \"4.233.64.249\"\n",
      "  },\n",
      "  \"os_image_metadata\": {\n",
      "    \"current_image_version\": \"24.09.23\",\n",
      "    \"is_latest_os_image_version\": true,\n",
      "    \"latest_image_version\": \"24.09.23\"\n",
      "  },\n",
      "  \"provisioning_state\": \"Succeeded\",\n",
      "  \"release_quota_on_stop\": false,\n",
      "  \"resourceGroup\": \"rg-azure-ml\",\n",
      "  \"services\": [\n",
      "    {\n",
      "      \"display_name\": \"Jupyter\",\n",
      "      \"endpoint_uri\": \"https://compute-instance-cli.francecentral.instances.azureml.ms/tree/\"\n",
      "    },\n",
      "    {\n",
      "      \"display_name\": \"Jupyter Lab\",\n",
      "      \"endpoint_uri\": \"https://compute-instance-cli.francecentral.instances.azureml.ms/lab\"\n",
      "    }\n",
      "  ],\n",
      "  \"size\": \"STANDARD_E4DS_V4\",\n",
      "  \"ssh_public_access_enabled\": false,\n",
      "  \"ssh_settings\": {\n",
      "    \"admin_username\": \"azureuser\",\n",
      "    \"ssh_port\": \"50000\"\n",
      "  },\n",
      "  \"state\": \"Running\",\n",
      "  \"type\": \"computeinstance\"\n",
      "}\n",
      "\u001b[0m"
     ]
    }
   ],
   "source": [
    "!GROUP='rg-azure-ml' && \\\n",
    "LOCATION='francecentral' && \\\n",
    "WORKSPACE='azure-ml-workspace-CLI' && \\\n",
    "NAME=\"compute-instance-CLI\" && \\\n",
    "SIZE=\"STANDARD_E4DS_V4\" && \\\n",
    "TYPE=\"computeinstance\" && \\\n",
    "az ml compute create --name $NAME --size $SIZE --type $TYPE --workspace-name $WORKSPACE --resource-group $GROUP"
   ]
  },
  {
   "cell_type": "markdown",
   "metadata": {},
   "source": [
    "Desafortunadamente por defecto no vamos a tener quota de máquinas con GPU. Por lo que aunque hayamos creado una máquina con GPU, no vamos a poder usarla. Más adelante hablaremos de esto"
   ]
  },
  {
   "cell_type": "markdown",
   "metadata": {},
   "source": [
    "#### Crear un `Compute instance` con el SDK de Python"
   ]
  },
  {
   "cell_type": "markdown",
   "metadata": {},
   "source": [
    "Creamos la `Compute instance` con el siguiente código. Lo llamo `compute-instance-Python` y no `compute-instance-Python-SDK` porque el nombre tienen que tener 24 caracteres como máximo. Además, este `Compute instance` lo voy a crear con una GPU `Standard_NC8as_T4_v3` porque no me deja crear más `Compute instance`s con la GPU que he elegido antes en la misma suscripción"
   ]
  },
  {
   "cell_type": "code",
   "execution_count": 5,
   "metadata": {},
   "outputs": [],
   "source": [
    "from azure.ai.ml.entities import ComputeInstance, AmlCompute\n",
    "\n",
    "compute_instance_name = \"compute-instance-Python\"\n",
    "size = \"STANDARD_E4DS_V4\"\n",
    "time_before_shutdown_minutes = \"30\"\n",
    "\n",
    "compute_instance = ComputeInstance(name=compute_instance_name, size=size, idle_time_before_shutdown_minutes=time_before_shutdown_minutes)\n",
    "\n",
    "result = ml_client.begin_create_or_update(compute_instance).result()"
   ]
  },
  {
   "cell_type": "code",
   "execution_count": 6,
   "metadata": {},
   "outputs": [
    {
     "data": {
      "text/plain": [
       "ComputeInstance({'state': 'Running', 'last_operation': {'operation_name': 'Create', 'operation_time': '2024-10-28T16:48:19.312Z', 'operation_status': 'Succeeded', 'operation_trigger': 'User'}, 'os_image_metadata': <azure.ai.ml.entities._compute._image_metadata.ImageMetadata object at 0x7cc79e3cee90>, 'services': [{'display_name': 'Jupyter', 'endpoint_uri': 'https://compute-instance-python.francecentral.instances.azureml.ms/tree/'}, {'display_name': 'Jupyter Lab', 'endpoint_uri': 'https://compute-instance-python.francecentral.instances.azureml.ms/lab'}], 'type': 'computeinstance', 'created_on': '2024-10-28T16:48:10.527349+0000', 'provisioning_state': 'Succeeded', 'provisioning_errors': None, 'name': 'compute-instance-Python', 'description': None, 'tags': None, 'properties': {}, 'print_as_yaml': False, 'id': '/subscriptions/40018f20-6173-46c6-9434-ce9df3089dce/resourceGroups/rg-azure-ml/providers/Microsoft.MachineLearningServices/workspaces/azure-ml-workspace-Python-SDK/computes/compute-instance-Python', 'Resource__source_path': '', 'base_path': '/home/maximofernandez/Documents/web/portafolio/posts', 'creation_context': None, 'serialize': <msrest.serialization.Serializer object at 0x7cc79e3cd690>, 'resource_id': None, 'location': 'francecentral', 'size': 'STANDARD_E4DS_V4', 'ssh_public_access_enabled': False, 'create_on_behalf_of': None, 'network_settings': <azure.ai.ml.entities._compute.compute.NetworkSettings object at 0x7cc79e3ce0d0>, 'ssh_settings': <azure.ai.ml.entities._compute.compute_instance.ComputeInstanceSshSettings object at 0x7cc79e3ce010>, 'schedules': None, 'identity': None, 'idle_time_before_shutdown': 'PT30M', 'idle_time_before_shutdown_minutes': 30, 'setup_scripts': None, 'enable_node_public_ip': True, 'enable_sso': True, 'enable_root_access': True, 'release_quota_on_stop': False, 'enable_os_patching': False, 'custom_applications': None, 'subnet': None})"
      ]
     },
     "execution_count": 6,
     "metadata": {},
     "output_type": "execute_result"
    }
   ],
   "source": [
    "result"
   ]
  },
  {
   "cell_type": "markdown",
   "metadata": {},
   "source": [
    "Desafortunadamente por defecto no vamos a tener quota de máquinas con GPU. Por lo que aunque hayamos creado una máquina con GPU, no vamos a poder usarla. Más adelante hablaremos de esto"
   ]
  },
  {
   "cell_type": "markdown",
   "metadata": {},
   "source": [
    "### Administrar un `Compute instance` de Azure ML"
   ]
  },
  {
   "cell_type": "markdown",
   "metadata": {},
   "source": [
    "#### Administrar un `Compute instance` desde la interfaz gráfica"
   ]
  },
  {
   "cell_type": "markdown",
   "metadata": {},
   "source": [
    "Entramos en la sección `Compute` del `Workspace` y pinchamos en la `Compute instance` que queramos administrar y a través de la interfaz gráfica podemos hacer lo que queramos"
   ]
  },
  {
   "cell_type": "markdown",
   "metadata": {},
   "source": [
    "#### Administrar un `Compute instance` con el CLI de Azure ML"
   ]
  },
  {
   "cell_type": "markdown",
   "metadata": {},
   "source": [
    "Podemos realizar varias operaciones básicas en la `COmpute instance` con el CLI de Azure ML"
   ]
  },
  {
   "cell_type": "markdown",
   "metadata": {},
   "source": [
    "##### Parar un `Compute instance` con el CLI de Azure ML"
   ]
  },
  {
   "cell_type": "code",
   "execution_count": null,
   "metadata": {},
   "outputs": [
    {
     "name": "stdout",
     "output_type": "stream",
     "text": [
      "\u001b[K\u001b[0minished .."
     ]
    }
   ],
   "source": [
    "!GROUP='rg-azure-ml' && \\\n",
    "WORKSPACE='azure-ml-workspace-CLI' && \\\n",
    "NAME=\"compute-instance-CLI\" && \\\n",
    "az ml compute stop --name $NAME --workspace-name $WORKSPACE --resource-group $GROUP"
   ]
  },
  {
   "cell_type": "markdown",
   "metadata": {},
   "source": [
    "##### Iniciar un `Compute instance` con el CLI de Azure ML"
   ]
  },
  {
   "cell_type": "code",
   "execution_count": null,
   "metadata": {},
   "outputs": [
    {
     "name": "stdout",
     "output_type": "stream",
     "text": [
      "\u001b[K / Finished ..\u001b[0m"
     ]
    }
   ],
   "source": [
    "!GROUP='rg-azure-ml' && \\\n",
    "WORKSPACE='azure-ml-workspace-CLI' && \\\n",
    "NAME=\"compute-instance-CLI\" && \\\n",
    "az ml compute start --name $NAME --workspace-name $WORKSPACE --resource-group $GROUP"
   ]
  },
  {
   "cell_type": "markdown",
   "metadata": {},
   "source": [
    "##### Reiniciar un `Compute instance` con el CLI de Azure ML"
   ]
  },
  {
   "cell_type": "code",
   "execution_count": null,
   "metadata": {},
   "outputs": [
    {
     "name": "stdout",
     "output_type": "stream",
     "text": [
      "\u001b[K / Finished ..\u001b[0m"
     ]
    }
   ],
   "source": [
    "!GROUP='rg-azure-ml' && \\\n",
    "WORKSPACE='azure-ml-workspace-CLI' && \\\n",
    "NAME=\"compute-instance-CLI\" && \\\n",
    "az ml compute restart --name $NAME --workspace-name $WORKSPACE --resource-group $GROUP"
   ]
  },
  {
   "cell_type": "markdown",
   "metadata": {},
   "source": [
    "##### Eliminar un `Compute instance` con el CLI de Azure ML"
   ]
  },
  {
   "cell_type": "code",
   "execution_count": null,
   "metadata": {},
   "outputs": [
    {
     "name": "stdout",
     "output_type": "stream",
     "text": [
      "Are you sure you want to perform this operation? (y/n): ^C\n",
      "\u001b[0m"
     ]
    }
   ],
   "source": [
    "!GROUP='rg-azure-ml' && \\\n",
    "WORKSPACE='azure-ml-workspace-CLI' && \\\n",
    "NAME=\"compute-instance-CLI\" && \\\n",
    "az ml compute delete --name $NAME --workspace-name $WORKSPACE --resource-group $GROUP"
   ]
  },
  {
   "cell_type": "markdown",
   "metadata": {},
   "source": [
    "Respondo que no porque voy a seguir trabajando con el `Compute instance`"
   ]
  },
  {
   "cell_type": "markdown",
   "metadata": {},
   "source": [
    "##### Observar un `Compute instance` con el CLI de Azure ML"
   ]
  },
  {
   "cell_type": "code",
   "execution_count": null,
   "metadata": {},
   "outputs": [
    {
     "name": "stdout",
     "output_type": "stream",
     "text": [
      "{\n",
      "  \"created_on\": \"2024-10-14T10:47:41.472829+0000\",\n",
      "  \"enable_node_public_ip\": true,\n",
      "  \"enable_os_patching\": false,\n",
      "  \"enable_root_access\": true,\n",
      "  \"enable_sso\": true,\n",
      "  \"id\": \"/subscriptions/c1ffdd1c-ecfc-4119-bf19-e207f9a4bcaf/resourceGroups/rg-azure-ml/providers/Microsoft.MachineLearningServices/workspaces/azure-ml-workspace-CLI/computes/compute-instance-CLI\",\n",
      "  \"last_operation\": {\n",
      "    \"operation_name\": \"Start\",\n",
      "    \"operation_status\": \"Succeeded\",\n",
      "    \"operation_time\": \"2024-10-14T11:12:50.323Z\",\n",
      "    \"operation_trigger\": \"User\"\n",
      "  },\n",
      "  \"location\": \"francecentral\",\n",
      "  \"name\": \"compute-instance-CLI\",\n",
      "  \"network_settings\": {\n",
      "    \"private_ip_address\": \"10.0.0.4\",\n",
      "    \"public_ip_address\": \"52.143.163.77\"\n",
      "  },\n",
      "  \"os_image_metadata\": {\n",
      "    \"current_image_version\": \"24.09.23\",\n",
      "    \"is_latest_os_image_version\": true,\n",
      "    \"latest_image_version\": \"24.09.23\"\n",
      "  },\n",
      "  \"provisioning_state\": \"Succeeded\",\n",
      "  \"release_quota_on_stop\": false,\n",
      "  \"resourceGroup\": \"rg-azure-ml\",\n",
      "  \"services\": [\n",
      "    {\n",
      "      \"display_name\": \"Jupyter\",\n",
      "      \"endpoint_uri\": \"https://compute-instance-cli.francecentral.instances.azureml.ms/tree/\"\n",
      "    },\n",
      "    {\n",
      "      \"display_name\": \"Jupyter Lab\",\n",
      "      \"endpoint_uri\": \"https://compute-instance-cli.francecentral.instances.azureml.ms/lab\"\n",
      "    }\n",
      "  ],\n",
      "  \"size\": \"Standard_E4ds_v4\",\n",
      "  \"ssh_public_access_enabled\": false,\n",
      "  \"ssh_settings\": {\n",
      "    \"admin_username\": \"azureuser\",\n",
      "    \"ssh_port\": \"50000\"\n",
      "  },\n",
      "  \"state\": \"Running\",\n",
      "  \"type\": \"computeinstance\"\n",
      "}\n",
      "\u001b[0m"
     ]
    }
   ],
   "source": [
    "!GROUP='rg-azure-ml' && \\\n",
    "WORKSPACE='azure-ml-workspace-CLI' && \\\n",
    "NAME=\"compute-instance-CLI\" && \\\n",
    "az ml compute show --name $NAME --workspace-name $WORKSPACE --resource-group $GROUP"
   ]
  },
  {
   "cell_type": "markdown",
   "metadata": {},
   "source": [
    " > ¡Asegurate de pararlo si no vas a aseguir trabajando ahora!"
   ]
  },
  {
   "cell_type": "markdown",
   "metadata": {},
   "source": [
    "#### Administrar un `Compute instance` con el SDK de Python"
   ]
  },
  {
   "cell_type": "markdown",
   "metadata": {},
   "source": [
    "##### Estado de un `Compute instance` con el SDK de Python"
   ]
  },
  {
   "cell_type": "code",
   "execution_count": 7,
   "metadata": {},
   "outputs": [
    {
     "name": "stdout",
     "output_type": "stream",
     "text": [
      "created_on: 2024-10-28T16:48:10.527349+0000\n",
      "enable_node_public_ip: true\n",
      "enable_os_patching: false\n",
      "enable_root_access: true\n",
      "enable_sso: true\n",
      "id: /subscriptions/40018f20-6173-46c6-9434-ce9df3089dce/resourceGroups/rg-azure-ml/providers/Microsoft.MachineLearningServices/workspaces/azure-ml-workspace-Python-SDK/computes/compute-instance-Python\n",
      "idle_time_before_shutdown: PT30M\n",
      "idle_time_before_shutdown_minutes: 30\n",
      "last_operation:\n",
      "  operation_name: Create\n",
      "  operation_status: Succeeded\n",
      "  operation_time: '2024-10-28T16:48:19.312Z'\n",
      "  operation_trigger: User\n",
      "location: francecentral\n",
      "name: compute-instance-Python\n",
      "network_settings:\n",
      "  private_ip_address: 10.0.0.4\n",
      "  public_ip_address: 4.178.173.186\n",
      "os_image_metadata:\n",
      "  current_image_version: 24.09.23\n",
      "  is_latest_os_image_version: true\n",
      "  latest_image_version: 24.09.23\n",
      "provisioning_state: Succeeded\n",
      "release_quota_on_stop: false\n",
      "services:\n",
      "- display_name: Jupyter\n",
      "  endpoint_uri: https://compute-instance-python.francecentral.instances.azureml.ms/tree/\n",
      "- display_name: Jupyter Lab\n",
      "  endpoint_uri: https://compute-instance-python.francecentral.instances.azureml.ms/lab\n",
      "size: STANDARD_E4DS_V4\n",
      "ssh_public_access_enabled: false\n",
      "ssh_settings:\n",
      "  admin_username: azureuser\n",
      "  ssh_port: '50000'\n",
      "state: Running\n",
      "type: computeinstance\n",
      "\n"
     ]
    }
   ],
   "source": [
    "from azure.ai.ml.entities import ComputeInstance, AmlCompute\n",
    "\n",
    "compute_instance_name = \"compute-instance-Python\"\n",
    "\n",
    "compute_instance_state = ml_client.compute.get(compute_instance_name)\n",
    "print(compute_instance_state)"
   ]
  },
  {
   "cell_type": "markdown",
   "metadata": {},
   "source": [
    "##### Parar un `Compute instance` con el SDK de Python"
   ]
  },
  {
   "cell_type": "code",
   "execution_count": 10,
   "metadata": {},
   "outputs": [],
   "source": [
    "from azure.ai.ml.entities import ComputeInstance, AmlCompute\n",
    "\n",
    "compute_instance_name = \"compute-instance-Python\"\n",
    "\n",
    "ml_client.compute.begin_stop(compute_instance_name).wait()"
   ]
  },
  {
   "cell_type": "markdown",
   "metadata": {},
   "source": [
    "##### Iniciar un `Compute instance` con el SDK de Python"
   ]
  },
  {
   "cell_type": "code",
   "execution_count": 9,
   "metadata": {},
   "outputs": [],
   "source": [
    "from azure.ai.ml.entities import ComputeInstance, AmlCompute\n",
    "\n",
    "compute_instance_name = \"compute-instance-Python\"\n",
    "\n",
    "ml_client.compute.begin_start(compute_instance_name).wait()"
   ]
  },
  {
   "cell_type": "markdown",
   "metadata": {},
   "source": [
    "##### Reiniciar un `Compute instance` con el SDK de Python"
   ]
  },
  {
   "cell_type": "code",
   "execution_count": null,
   "metadata": {},
   "outputs": [],
   "source": [
    "from azure.ai.ml.entities import ComputeInstance, AmlCompute\n",
    "\n",
    "compute_instance_name = \"compute-instance-Python\"\n",
    "\n",
    "ml_client.compute.begin_restart(compute_instance_name).wait()"
   ]
  },
  {
   "cell_type": "markdown",
   "metadata": {},
   "source": [
    "##### Eliminar un `Compute instance` con el SDK de Python"
   ]
  },
  {
   "cell_type": "code",
   "execution_count": null,
   "metadata": {},
   "outputs": [],
   "source": [
    "from azure.ai.ml.entities import ComputeInstance, AmlCompute\n",
    "\n",
    "compute_instance_name = \"compute-instance-Python\"\n",
    "\n",
    "ml_client.compute.begin_delete(compute_instance_name).wait()"
   ]
  },
  {
   "cell_type": "markdown",
   "metadata": {},
   "source": [
    "##### Observar un `Compute instance` con el SDK de Python"
   ]
  },
  {
   "cell_type": "code",
   "execution_count": null,
   "metadata": {},
   "outputs": [
    {
     "name": "stdout",
     "output_type": "stream",
     "text": [
      "<azure.ai.ml.entities._compute._image_metadata.ImageMetadata object at 0x77963d78d3d0>\n"
     ]
    }
   ],
   "source": [
    "from azure.ai.ml.entities import ComputeInstance, AmlCompute\n",
    "\n",
    "compute_instance_name = \"compute-instance-Python\"\n",
    "\n",
    "instance = ml_client.compute.get(compute_instance_name)\n",
    "print(instance.os_image_metadata)"
   ]
  },
  {
   "cell_type": "markdown",
   "metadata": {},
   "source": [
    "Vemos que ha devuelto un objeto de la clase `ComputeInstance`, para ver todos los parámetros de esta clase podemos entrar en [azure.ai.ml.entities.computeinstance](https://learn.microsoft.com/en-us/python/api/azure-ai-ml/azure.ai.ml.entities.computeinstance?view=azure-python). Vamos a ver por ejemplo el nombre"
   ]
  },
  {
   "cell_type": "code",
   "execution_count": null,
   "metadata": {},
   "outputs": [
    {
     "data": {
      "text/plain": [
       "'compute-instance-Python'"
      ]
     },
     "metadata": {},
     "output_type": "display_data"
    }
   ],
   "source": [
    "instance.name"
   ]
  }
 ],
 "metadata": {
  "kernelspec": {
   "display_name": "azure_ml",
   "language": "python",
   "name": "python3"
  },
  "language_info": {
   "codemirror_mode": {
    "name": "ipython",
    "version": 3
   },
   "file_extension": ".py",
   "mimetype": "text/x-python",
   "name": "python",
   "nbconvert_exporter": "python",
   "pygments_lexer": "ipython3",
   "version": "3.11.10"
  }
 },
 "nbformat": 4,
 "nbformat_minor": 2
}
