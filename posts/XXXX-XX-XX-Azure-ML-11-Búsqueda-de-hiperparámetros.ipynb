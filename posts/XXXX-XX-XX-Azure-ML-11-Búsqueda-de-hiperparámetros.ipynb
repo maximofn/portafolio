{
 "cells": [
  {
   "cell_type": "markdown",
   "metadata": {},
   "source": [
    "# Azure ML - Búsqueda de hiperparámetros"
   ]
  },
  {
   "cell_type": "markdown",
   "metadata": {},
   "source": [
    "## Loguearse a Azure ML"
   ]
  },
  {
   "cell_type": "markdown",
   "metadata": {},
   "source": [
    "Como las acciones que vamos a hacer por CLI o a través del SDK de Python necesitan una autentificación, primero vamos a loguearnos en Azure ML"
   ]
  },
  {
   "cell_type": "markdown",
   "metadata": {},
   "source": [
    "### Login en Azure ML con el CLI de Azure ML"
   ]
  },
  {
   "cell_type": "markdown",
   "metadata": {},
   "source": [
    "Para logearnos en Azure hacemos"
   ]
  },
  {
   "cell_type": "code",
   "execution_count": null,
   "metadata": {},
   "outputs": [],
   "source": [
    "!az login"
   ]
  },
  {
   "cell_type": "markdown",
   "metadata": {},
   "source": [
    "Se nos abrirá el navegador para logearnos"
   ]
  },
  {
   "cell_type": "markdown",
   "metadata": {},
   "source": [
    "### Crear un cliente de Azure ML con el SDK de Python"
   ]
  },
  {
   "cell_type": "markdown",
   "metadata": {},
   "source": [
    "Primero creamos dos variables con la ID de la suscripción y el grupo de recursos, como estos son datos personales, no los voy a poner aquí. Lo que voy a hacer es incluirlos en un archivo `.env` que no voy a subir a GitHub\n",
    "\n",
    "```bash\n",
    "AZURE_SUSCRIPION_ID=\"xxxxx-xxxx-xxxx-xxxx-xxxxx\"\n",
    "AZURE_ML_RESOURCE_GRPU_ID=\"xxxxx-xxxx-xxxx-xxxx-xxxxx\"\n",
    "```"
   ]
  },
  {
   "cell_type": "markdown",
   "metadata": {},
   "source": [
    "Ahora para leerlos primero necesitasos tener instalado `dotenv` que lo hacemos mediante `pip install python-dotenv`"
   ]
  },
  {
   "cell_type": "code",
   "execution_count": 1,
   "metadata": {},
   "outputs": [],
   "source": [
    "import os\n",
    "import dotenv\n",
    "\n",
    "dotenv.load_dotenv()\n",
    "\n",
    "AZURE_SUSCRIPION_ID = os.getenv(\"AZURE_SUSCRIPION_ID\")\n",
    "AZURE_ML_RESOURCE_GRPU_ID = os.getenv(\"AZURE_ML_RESOURCE_GRPU_ID\")\n"
   ]
  },
  {
   "cell_type": "markdown",
   "metadata": {},
   "source": [
    "Ahora que tenemos estas variables creamos un cliente"
   ]
  },
  {
   "cell_type": "code",
   "execution_count": 2,
   "metadata": {},
   "outputs": [],
   "source": [
    "from azure.ai.ml import MLClient\n",
    "from azure.identity import DefaultAzureCredential\n",
    "\n",
    "workspace_name = \"azure-ml-workspace-Python-SDK\"\n",
    "\n",
    "ml_client = MLClient(DefaultAzureCredential(), AZURE_SUSCRIPION_ID, AZURE_ML_RESOURCE_GRPU_ID, workspace_name)"
   ]
  },
  {
   "cell_type": "markdown",
   "metadata": {},
   "source": [
    "## Búsqueda de hiperparámetros"
   ]
  },
  {
   "cell_type": "markdown",
   "metadata": {},
   "source": [
    "Hemos visto cómo seguir el entrenamiento de modelos con mlflow ejecutando scripts. Por lo que ahora vamos a ver cómo buscar la mejor combinación de hiperparámetros para un modelo."
   ]
  },
  {
   "cell_type": "markdown",
   "metadata": {},
   "source": [
    "### Definición de espacio de búsqueda"
   ]
  },
  {
   "cell_type": "markdown",
   "metadata": {},
   "source": [
    "Para poder realizar la búsqueda de hiperparámetros necesitamos definir un espacio de búsqueda. Para ello usamos la librería `azure.ai.ml.sweep`, por ejemplo este sería un código para definir un espacio de búsqueda\n",
    "\n",
    "```python\n",
    "from azure.ai.ml.sweep import Choice, Normal\n",
    "\n",
    "command_job_for_sweep = job(\n",
    "    batch_size=Choice(values=[16, 32, 64]),    \n",
    "    learning_rate=Normal(mu=10, sigma=3),\n",
    ")\n",
    "```"
   ]
  },
  {
   "cell_type": "markdown",
   "metadata": {},
   "source": [
    "Las opciones de búsqueda de valores son:\n",
    "\n",
    " * `Choice(values=[10,20,30])`\n",
    " * `Choice(values=range(1,10))`\n",
    " * `QUniform(min_value, max_value, q)`\n",
    " * `QLogUniform(min_value, max_value, q)`\n",
    " * `QNormal(mu, sigma, q)`\n",
    " * `QLogNormal(mu, sigma, q)`\n",
    " * `Uniform(min_value, max_value)`\n",
    " * `LogUniform(min_value, max_value)`\n",
    " * `Normal(mu, sigma)`\n",
    " * `LogNormal(mu, sigma)`"
   ]
  },
  {
   "cell_type": "markdown",
   "metadata": {},
   "source": [
    "### Configuración de un método de muestreo"
   ]
  },
  {
   "cell_type": "markdown",
   "metadata": {},
   "source": [
    "Hay tres tipos de métodos de muestreo:\n",
    "\n",
    " * `Muestreo de cuadrícula`: prueba todas las combinaciones posibles\n",
    " * `Muestreo aleatorio`: Elige aleatoriamente los valores del espacio de búsqueda\n",
    " * `Muestreo aleatorio Sobol`: Agrega un valor de inicialización al muestreo aleatorio para que los resultados sean reproducibles\n",
    " * `Muestreo bayesiano`: Elige nuevos valores en función de los resultados anteriores"
   ]
  },
  {
   "cell_type": "markdown",
   "metadata": {},
   "source": [
    "#### Muestreo de cuadrícula"
   ]
  },
  {
   "cell_type": "markdown",
   "metadata": {},
   "source": [
    "El código sería algo así\n",
    "\n",
    "```python\n",
    "from azure.ai.ml.sweep import Choice\n",
    "\n",
    "command_job_for_sweep = command_job(\n",
    "    batch_size=Choice(values=[16, 32, 64]),\n",
    "    learning_rate=Choice(values=[0.01, 0.1, 1.0]),\n",
    ")\n",
    "\n",
    "sweep_job = command_job_for_sweep.sweep(\n",
    "    sampling_algorithm = \"grid\",\n",
    "    ...\n",
    ")\n",
    "```"
   ]
  },
  {
   "cell_type": "markdown",
   "metadata": {},
   "source": [
    "#### Muestreo aleatorio"
   ]
  },
  {
   "cell_type": "markdown",
   "metadata": {},
   "source": [
    "El código sería algo así\n",
    "\n",
    "```python\n",
    "from azure.ai.ml.sweep import Normal, Uniform\n",
    "\n",
    "command_job_for_sweep = command_job(\n",
    "    batch_size=Choice(values=[16, 32, 64]),   \n",
    "    learning_rate=Normal(mu=10, sigma=3),\n",
    ")\n",
    "\n",
    "sweep_job = command_job_for_sweep.sweep(\n",
    "    sampling_algorithm = \"random\",\n",
    "    ...\n",
    ")\n",
    "```"
   ]
  },
  {
   "cell_type": "markdown",
   "metadata": {},
   "source": [
    "#### Muestreo aleatorio Sobol"
   ]
  },
  {
   "cell_type": "markdown",
   "metadata": {},
   "source": [
    "El código sería algo así\n",
    "\n",
    "```python\n",
    "from azure.ai.ml.sweep import RandomSamplingAlgorithm\n",
    "\n",
    "sweep_job = command_job_for_sweep.sweep(\n",
    "    sampling_algorithm = RandomSamplingAlgorithm(seed=123, rule=\"sobol\"),\n",
    "    ...\n",
    ")\n",
    "```"
   ]
  },
  {
   "cell_type": "markdown",
   "metadata": {},
   "source": [
    "#### Muestreo bayesiano"
   ]
  },
  {
   "cell_type": "markdown",
   "metadata": {},
   "source": [
    "El código sería algo así\n",
    "\n",
    "```python\n",
    "from azure.ai.ml.sweep import Uniform, Choice\n",
    "\n",
    "command_job_for_sweep = job(\n",
    "    batch_size=Choice(values=[16, 32, 64]),    \n",
    "    learning_rate=Uniform(min_value=0.05, max_value=0.1),\n",
    ")\n",
    "\n",
    "sweep_job = command_job_for_sweep.sweep(\n",
    "    sampling_algorithm = \"bayesian\",\n",
    "    ...\n",
    ")\n",
    "```"
   ]
  },
  {
   "cell_type": "markdown",
   "metadata": {},
   "source": [
    "### Configuración del early stopping"
   ]
  },
  {
   "cell_type": "markdown",
   "metadata": {},
   "source": [
    "#### Directiva de bandidos"
   ]
  },
  {
   "cell_type": "markdown",
   "metadata": {},
   "source": [
    "Detiene una prueba si la métrica de rendimiento objetivo es inferior a la mejor prueba hasta el momento por un margen especificado."
   ]
  },
  {
   "cell_type": "markdown",
   "metadata": {},
   "source": [
    "El código sería algo así\n",
    "\n",
    "```python\n",
    "from azure.ai.ml.sweep import BanditPolicy\n",
    "\n",
    "sweep_job.early_termination = BanditPolicy(\n",
    "    slack_amount = 0.2, \n",
    "    delay_evaluation = 5, \n",
    "    evaluation_interval = 1\n",
    ")\n",
    "```"
   ]
  },
  {
   "cell_type": "markdown",
   "metadata": {},
   "source": [
    "#### Directiva de mediana de detención"
   ]
  },
  {
   "cell_type": "markdown",
   "metadata": {},
   "source": [
    "Detiene las pruebas cuando la métrica de rendimiento de destino es inferior a la mediana del promedio de ejecuciones para todas las pruebas"
   ]
  },
  {
   "cell_type": "markdown",
   "metadata": {},
   "source": [
    "El código sería algo así\n",
    "\n",
    "```python\n",
    "from azure.ai.ml.sweep import MedianStoppingPolicy\n",
    "\n",
    "sweep_job.early_termination = MedianStoppingPolicy(\n",
    "    delay_evaluation = 5, \n",
    "    evaluation_interval = 1\n",
    ")\n",
    "```"
   ]
  },
  {
   "cell_type": "markdown",
   "metadata": {},
   "source": [
    "#### Directiva de selección de truncamiento"
   ]
  },
  {
   "cell_type": "markdown",
   "metadata": {},
   "source": [
    "Detiene el entrenamiento si el X % de ejecuciones con menor rendimiento en cada intervalo de evaluación en función del valor de truncation_percentage que especificó para X"
   ]
  },
  {
   "cell_type": "markdown",
   "metadata": {},
   "source": [
    "El código sería algo así\n",
    "\n",
    "```python\n",
    "from azure.ai.ml.sweep import TruncationSelectionPolicy\n",
    "\n",
    "sweep_job.early_termination = TruncationSelectionPolicy(\n",
    "    evaluation_interval=1, \n",
    "    truncation_percentage=20, \n",
    "    delay_evaluation=4 \n",
    ")\n",
    "```"
   ]
  },
  {
   "cell_type": "markdown",
   "metadata": {},
   "source": [
    "## Ejemplo de búsqueda de hiperparámetros"
   ]
  },
  {
   "cell_type": "markdown",
   "metadata": {},
   "source": [
    "#### Búsqueda de hiperparámetros desde la interfaz gráfica"
   ]
  },
  {
   "cell_type": "markdown",
   "metadata": {},
   "source": [
    "##### Ejecutar el script"
   ]
  },
  {
   "cell_type": "markdown",
   "metadata": {},
   "source": [
    "Volvemos a dar al botón con el símbolo `+`, le damos a `Create new file`, en `File type` seleccionamos `Notebook (*.ipynb)` y le ponemos el nombre `run_text-clasification-mlfow-hyperparameters.ipynb`. Ahora copiamos las siguientes celdas de código"
   ]
  },
  {
   "cell_type": "markdown",
   "metadata": {},
   "source": [
    "```python\n",
    "from azure.ai.ml import MLClient\n",
    "from azure.identity import DefaultAzureCredential, InteractiveBrowserCredential\n",
    "\n",
    "try:\n",
    "    credential = DefaultAzureCredential()\n",
    "    credential.get_token(\"https://management.azure.com/.default\")\n",
    "except:\n",
    "    credential = InteractiveBrowserCredential()\n",
    "```"
   ]
  },
  {
   "cell_type": "markdown",
   "metadata": {},
   "source": [
    "```python\n",
    "ml_client = MLClient.from_config(credential=credential)\n",
    "```"
   ]
  },
  {
   "cell_type": "markdown",
   "metadata": {},
   "source": [
    "```python\n",
    "from azure.ai.ml import command\n",
    "from azure.ai.ml.sweep import Choice, LogUniform\n",
    "\n",
    "SUSCRIPTION_ID = \"\"\n",
    "RESOURCE_GROUP = \"\"\n",
    "WORKSPACE = \"\"\n",
    "EXPERIMENT_NAME = \"image_classification-mlflow-hyperparameter-search\"\n",
    "\n",
    "execute_command = f\"python image-classification-mlflow.py --suscription_id {SUSCRIPTION_ID} --resource_group {RESOURCE_GROUP} --workspace_name {WORKSPACE} --experiment_name {EXPERIMENT_NAME} --batch_size ${{{{inputs.batch_size}}}} --epochs ${{{{inputs.epochs}}}} --learning_rate ${{{{inputs.learning_rate}}}}\"\n",
    "inputs = {\n",
    "    \"batch_size\": 8,\n",
    "    \"epochs\": 1,\n",
    "    \"learning_rate\": 1e-2,\n",
    "}\n",
    "environment = \"cuda_11_8_0_cudnn8_devel_ubuntu22_04_transformers_GUI@latest\"\n",
    "compute_instance = \"compute-instance-GUI\"\n",
    "display_name = \"image-classificator\"\n",
    "sampling_algorithm = \"random\"\n",
    "primary_metric = \"Accuracy\"\n",
    "goal = \"Maximize\"\n",
    "\n",
    "# configure base command\n",
    "job = command(\n",
    "    code=\"./\",\n",
    "    command=execute_command,\n",
    "    inputs=inputs,\n",
    "    environment=environment,\n",
    "    compute=compute_instance,\n",
    "    display_name=display_name,\n",
    "    experiment_name=EXPERIMENT_NAME\n",
    ")\n",
    "\n",
    "# configure sweep\n",
    "command_job_for_sweep = job(\n",
    "    batch_size=Choice(values=[8, 16, 32, 64]),\n",
    "    epochs=Choice(values=range(1,10)),\n",
    "    learning_rate=LogUniform(-6, -2),\n",
    ")\n",
    "\n",
    "# apply the sweep parameter to obtain the sweep_job\n",
    "sweep_job = command_job_for_sweep.sweep(\n",
    "    compute=compute_instance,\n",
    "    sampling_algorithm=sampling_algorithm,\n",
    "    primary_metric=primary_metric,\n",
    "    goal=goal,\n",
    ")\n",
    "\n",
    "# set the name of the sweep job experiment\n",
    "sweep_job.experiment_name=EXPERIMENT_NAME\n",
    "\n",
    "# define the limits for this sweep\n",
    "sweep_job.set_limits(max_total_trials=4, max_concurrent_trials=2, timeout=7200)\n",
    "```"
   ]
  },
  {
   "cell_type": "markdown",
   "metadata": {},
   "source": [
    "Rellena `SUSCRIPTION_ID`, `RESOURCE_GROUP` y `WORKSPACE` con tus valores"
   ]
  },
  {
   "cell_type": "markdown",
   "metadata": {},
   "source": [
    "returned_sweep_job = ml_client.create_or_update(sweep_job)"
   ]
  },
  {
   "cell_type": "markdown",
   "metadata": {},
   "source": [
    "Hemos configurado solo 4 pruebas para que no tarde mucho. Si vamos a la sección de `Jobs` en Azure ML veremos que se están ejecutando las pruebas"
   ]
  },
  {
   "cell_type": "markdown",
   "metadata": {},
   "source": [
    "#### Búsqueda de hiperparámetros con el CLI de Azure ML"
   ]
  },
  {
   "cell_type": "markdown",
   "metadata": {},
   "source": [
    "No he encotrado la manera de ejecutar el script mediante la CLI de Azure ML"
   ]
  },
  {
   "cell_type": "markdown",
   "metadata": {},
   "source": [
    "#### Búsqueda de hiperparámetros con el SDK de Python"
   ]
  },
  {
   "cell_type": "markdown",
   "metadata": {},
   "source": [
    "Para la búsqueda de hiperparámetros ejecutamos el mismo código que ejecutamos en el notebook mediante la interfaz gráfica"
   ]
  },
  {
   "cell_type": "code",
   "execution_count": null,
   "metadata": {},
   "outputs": [],
   "source": [
    "from azure.ai.ml import command\n",
    "from azure.ai.ml.sweep import Choice, LogUniform\n",
    "\n",
    "SUSCRIPTION_ID = \"\"\n",
    "RESOURCE_GROUP = \"\"\n",
    "WORKSPACE = \"\"\n",
    "EXPERIMENT_NAME = \"image_classification-mlflow-hyperparameter-search\"\n",
    "\n",
    "execute_command = f\"python image-classification-mlflow.py --suscription_id {SUSCRIPTION_ID} --resource_group {RESOURCE_GROUP} --workspace_name {WORKSPACE} --experiment_name {EXPERIMENT_NAME} --batch_size ${{{{inputs.batch_size}}}} --epochs ${{{{inputs.epochs}}}} --learning_rate ${{{{inputs.learning_rate}}}}\"\n",
    "inputs = {\n",
    "    \"batch_size\": 8,\n",
    "    \"epochs\": 1,\n",
    "    \"learning_rate\": 1e-2,\n",
    "}\n",
    "environment = \"cuda_11_8_0_cudnn8_devel_ubuntu22_04_transformers_GUI@latest\"\n",
    "compute_instance = \"compute-instance-Python\"\n",
    "display_name = \"image-classificator\"\n",
    "sampling_algorithm = \"random\"\n",
    "primary_metric = \"Accuracy\"\n",
    "goal = \"Maximize\"\n",
    "\n",
    "# configure base command\n",
    "job = command(\n",
    "    code=\"./\",\n",
    "    command=execute_command,\n",
    "    inputs=inputs,\n",
    "    environment=environment,\n",
    "    compute=compute_instance,\n",
    "    display_name=display_name,\n",
    "    experiment_name=EXPERIMENT_NAME\n",
    ")\n",
    "\n",
    "# configure sweep\n",
    "command_job_for_sweep = job(\n",
    "    batch_size=Choice(values=[8, 16, 32, 64]),\n",
    "    epochs=Choice(values=range(1,10)),\n",
    "    learning_rate=LogUniform(-6, -2),\n",
    ")\n",
    "\n",
    "# apply the sweep parameter to obtain the sweep_job\n",
    "sweep_job = command_job_for_sweep.sweep(\n",
    "    compute=compute_instance,\n",
    "    sampling_algorithm=sampling_algorithm,\n",
    "    primary_metric=primary_metric,\n",
    "    goal=goal,\n",
    ")\n",
    "\n",
    "# set the name of the sweep job experiment\n",
    "sweep_job.experiment_name=EXPERIMENT_NAME\n",
    "\n",
    "# define the limits for this sweep\n",
    "sweep_job.set_limits(max_total_trials=4, max_concurrent_trials=2, timeout=7200)\n"
   ]
  },
  {
   "cell_type": "markdown",
   "metadata": {},
   "source": [
    "Rellena `SUSCRIPTION_ID`, `RESOURCE_GROUP` y `WORKSPACE` con tus valores"
   ]
  },
  {
   "cell_type": "code",
   "execution_count": null,
   "metadata": {},
   "outputs": [],
   "source": [
    "returned_sweep_job = ml_client.create_or_update(sweep_job)"
   ]
  }
 ],
 "metadata": {
  "kernelspec": {
   "display_name": "azure_ml",
   "language": "python",
   "name": "python3"
  },
  "language_info": {
   "codemirror_mode": {
    "name": "ipython",
    "version": 3
   },
   "file_extension": ".py",
   "mimetype": "text/x-python",
   "name": "python",
   "nbconvert_exporter": "python",
   "pygments_lexer": "ipython3",
   "version": "3.11.10"
  }
 },
 "nbformat": 4,
 "nbformat_minor": 2
}
