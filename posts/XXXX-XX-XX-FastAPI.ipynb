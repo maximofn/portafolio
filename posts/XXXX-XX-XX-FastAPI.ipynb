{
 "cells": [
  {
   "attachments": {},
   "cell_type": "markdown",
   "metadata": {},
   "source": [
    "# FastAPI"
   ]
  },
  {
   "attachments": {},
   "cell_type": "markdown",
   "metadata": {},
   "source": [
    "## Introducción"
   ]
  },
  {
   "attachments": {},
   "cell_type": "markdown",
   "metadata": {},
   "source": [
    "`FastAPI` está construido sobre otros frameworks:\n",
    "\n",
    " * `Uvicorn`: es una librería de Python que funciona de servidor, es decir, permite que cualquier computadora se convierta en un servidor\n",
    " * `Starlette`: es un framework de desarrollo web de bajo nivel, para desarrollar aplicaciones con este requieres un amplio conocimiento de Python, entonces FastAPI se encarga de añadirle funcionalidades por encima para que se pueda usar mas fácilmente\n",
    " * `Pydantic`: Es un framework que permite trabajar con datos similar a pandas, pero este te permite usar modelos los cuales aprovechara FastAPI para crear la API\n",
    " * `OpenAPI`: Es un conjunto de reglas que permite definir cómo describir, crear y visualizar APIs. Es un conjunto de reglas que permiten decir que una API está bien definida."
   ]
  },
  {
   "attachments": {},
   "cell_type": "markdown",
   "metadata": {},
   "source": [
    "## Instalación"
   ]
  },
  {
   "attachments": {},
   "cell_type": "markdown",
   "metadata": {},
   "source": [
    "Para instalar `FastAPI` voy a hacerlo con `mamba`. En mi [post](https://maximofn.com/conda) anterior explico las ventajas de usar `conda` frente a `pip` y `mamba` para acelerar"
   ]
  },
  {
   "attachments": {},
   "cell_type": "markdown",
   "metadata": {},
   "source": [
    "Como hemos dicho `FastAPI` está construido sobre `uvicorn`, por lo que necesitamos instalarnos los dos"
   ]
  },
  {
   "cell_type": "code",
   "execution_count": 2,
   "metadata": {},
   "outputs": [
    {
     "name": "stdout",
     "output_type": "stream",
     "text": [
      "\n",
      "                  __    __    __    __\n",
      "                 /  \\  /  \\  /  \\  /  \\\n",
      "                /    \\/    \\/    \\/    \\\n",
      "███████████████/  /██/  /██/  /██/  /████████████████████████\n",
      "              /  / \\   / \\   / \\   / \\  \\____\n",
      "             /  /   \\_/   \\_/   \\_/   \\    o \\__,\n",
      "            / _/                       \\_____/  `\n",
      "            |/\n",
      "        ███╗   ███╗ █████╗ ███╗   ███╗██████╗  █████╗\n",
      "        ████╗ ████║██╔══██╗████╗ ████║██╔══██╗██╔══██╗\n",
      "        ██╔████╔██║███████║██╔████╔██║██████╔╝███████║\n",
      "        ██║╚██╔╝██║██╔══██║██║╚██╔╝██║██╔══██╗██╔══██║\n",
      "        ██║ ╚═╝ ██║██║  ██║██║ ╚═╝ ██║██████╔╝██║  ██║\n",
      "        ╚═╝     ╚═╝╚═╝  ╚═╝╚═╝     ╚═╝╚═════╝ ╚═╝  ╚═╝\n",
      "\n",
      "        mamba (1.3.1) supported by @QuantStack\n",
      "\n",
      "        GitHub:  https://github.com/mamba-org/mamba\n",
      "        Twitter: https://twitter.com/QuantStack\n",
      "\n",
      "█████████████████████████████████████████████████████████████\n",
      "\n",
      "\n",
      "Looking for: ['fastapi', 'uvicorn']\n",
      "...\n",
      "Preparing transaction: done\n",
      "Verifying transaction: done\n",
      "Executing transaction: done\n"
     ]
    }
   ],
   "source": [
    "!mamba install -y -c conda-forge fastapi uvicorn"
   ]
  },
  {
   "attachments": {},
   "cell_type": "markdown",
   "metadata": {},
   "source": [
    "## Hola Mundo"
   ]
  },
  {
   "attachments": {},
   "cell_type": "markdown",
   "metadata": {},
   "source": [
    "Para hacer todo nuestras APIs vamos a crear una carpeta llamada `FastAPI`"
   ]
  },
  {
   "cell_type": "code",
   "execution_count": 4,
   "metadata": {},
   "outputs": [],
   "source": [
    "!mkdir FastAPI"
   ]
  },
  {
   "attachments": {},
   "cell_type": "markdown",
   "metadata": {},
   "source": [
    "Ahora creamos un hola mundo de `FastAPI`"
   ]
  },
  {
   "cell_type": "code",
   "execution_count": 5,
   "metadata": {},
   "outputs": [
    {
     "name": "stdout",
     "output_type": "stream",
     "text": [
      "Writing FastAPI/hello_world.py\n"
     ]
    }
   ],
   "source": [
    "%%writefile FastAPI/hello_world.py\n",
    "\n",
    "from fastapi import FastAPI\n",
    "\n",
    "app = FastAPI()\n",
    "\n",
    "@app.get(\"/\")\n",
    "def home():\n",
    "    return {\"Hello\": \"World\"}"
   ]
  },
  {
   "attachments": {},
   "cell_type": "markdown",
   "metadata": {},
   "source": [
    "Lo que hemos hecho es importar `FastAPI`, a cotinuación crear un objeto de la clase `FastAPI` que será nuestra aplicación y pur último la función que se ejecutará al acceder a la API. Más adelante explicaremos bien todo lo que hay en la función"
   ]
  },
  {
   "attachments": {},
   "cell_type": "markdown",
   "metadata": {},
   "source": [
    "Para poder lanzar la API necesitamos usar `uvicorn`, para ello hacemos `uvicorn FastAPI.hello_world:app --reload`. Ponemos `hello_world` porque hemos creado el archivo `hello_world.py`, `app` porque es cómo hemos llamado al objeto de la clase `FastAPI`, y `--reload` para que si hacemos cambios no tengamos qu relanzar la API"
   ]
  },
  {
   "cell_type": "code",
   "execution_count": 8,
   "metadata": {},
   "outputs": [
    {
     "name": "stdout",
     "output_type": "stream",
     "text": [
      "\u001b[32mINFO\u001b[0m:     Will watch for changes in these directories: ['/home/wallabot/Documentos/web/portafolio/posts']\n",
      "\u001b[32mINFO\u001b[0m:     Uvicorn running on \u001b[1mhttp://127.0.0.1:8000\u001b[0m (Press CTRL+C to quit)\n",
      "\u001b[32mINFO\u001b[0m:     Started reloader process [\u001b[36m\u001b[1m55677\u001b[0m] using \u001b[36m\u001b[1mStatReload\u001b[0m\n",
      "\u001b[32mINFO\u001b[0m:     Started server process [\u001b[36m55679\u001b[0m]\n",
      "\u001b[32mINFO\u001b[0m:     Waiting for application startup.\n",
      "\u001b[32mINFO\u001b[0m:     Application startup complete.\n",
      "\u001b[32mINFO\u001b[0m:     127.0.0.1:51580 - \"\u001b[1mGET / HTTP/1.1\u001b[0m\" \u001b[32m200 OK\u001b[0m\n",
      "\u001b[32mINFO\u001b[0m:     127.0.0.1:44282 - \"\u001b[1mGET /docs HTTP/1.1\u001b[0m\" \u001b[32m200 OK\u001b[0m\n",
      "\u001b[32mINFO\u001b[0m:     127.0.0.1:44282 - \"\u001b[1mGET /openapi.json HTTP/1.1\u001b[0m\" \u001b[32m200 OK\u001b[0m\n",
      "\u001b[32mINFO\u001b[0m:     127.0.0.1:39108 - \"\u001b[1mGET /redoc HTTP/1.1\u001b[0m\" \u001b[32m200 OK\u001b[0m\n",
      "\u001b[32mINFO\u001b[0m:     127.0.0.1:39108 - \"\u001b[1mGET /openapi.json HTTP/1.1\u001b[0m\" \u001b[32m200 OK\u001b[0m\n"
     ]
    }
   ],
   "source": [
    "!uvicorn FastAPI.hello_world:app --reload"
   ]
  },
  {
   "attachments": {},
   "cell_type": "markdown",
   "metadata": {},
   "source": [
    "Como vemos, nos da un enlace [http://127.0.0.1:8000](http://127.0.0.1:8000), si accedemos a él a través del navegador, podemos leer `{\"Hello\":\"World\"}`"
   ]
  },
  {
   "attachments": {},
   "cell_type": "markdown",
   "metadata": {},
   "source": [
    "## Documentación interactiva"
   ]
  },
  {
   "attachments": {},
   "cell_type": "markdown",
   "metadata": {},
   "source": [
    "Como hemos dicho `FastAPI` está construido también sobre `OpenAPI` que es un conjunto de reglas que definen cómo crear APIs\n",
    "\n",
    "`OpenAPI` necesita de un software, el cual es `Swagger`, que es un conjunto de softwares que permiten trabajar con APIs. `FastAPI` funciona sobre un programa de `Swagger` el cual es `Swagger UI`, que permite mostrar la API documentada.\n",
    "\n",
    "Acceder a la documentación interactiva con `Swagger UI`:\n",
    "\n",
    "`<IP>/docs`\n",
    "\n",
    "\n",
    "Acceder a la documentación interactiva con `Redoc`:\n",
    "\n",
    "`<IP>/redoc`"
   ]
  },
  {
   "attachments": {},
   "cell_type": "markdown",
   "metadata": {},
   "source": [
    "Si volvemos a lanzar la API de hello world"
   ]
  },
  {
   "cell_type": "code",
   "execution_count": 9,
   "metadata": {},
   "outputs": [
    {
     "name": "stdout",
     "output_type": "stream",
     "text": [
      "\u001b[32mINFO\u001b[0m:     Will watch for changes in these directories: ['/home/wallabot/Documentos/web/portafolio/posts']\n",
      "\u001b[32mINFO\u001b[0m:     Uvicorn running on \u001b[1mhttp://127.0.0.1:8000\u001b[0m (Press CTRL+C to quit)\n",
      "\u001b[32mINFO\u001b[0m:     Started reloader process [\u001b[36m\u001b[1m56013\u001b[0m] using \u001b[36m\u001b[1mStatReload\u001b[0m\n",
      "\u001b[32mINFO\u001b[0m:     Started server process [\u001b[36m56015\u001b[0m]\n",
      "\u001b[32mINFO\u001b[0m:     Waiting for application startup.\n",
      "\u001b[32mINFO\u001b[0m:     Application startup complete.\n",
      "\u001b[32mINFO\u001b[0m:     127.0.0.1:57266 - \"\u001b[1mGET /docs HTTP/1.1\u001b[0m\" \u001b[32m200 OK\u001b[0m\n",
      "\u001b[32mINFO\u001b[0m:     127.0.0.1:57266 - \"\u001b[1mGET /openapi.json HTTP/1.1\u001b[0m\" \u001b[32m200 OK\u001b[0m\n",
      "\u001b[32mINFO\u001b[0m:     127.0.0.1:42336 - \"\u001b[1mGET /openapi.json HTTP/1.1\u001b[0m\" \u001b[32m200 OK\u001b[0m\n",
      "\u001b[32mINFO\u001b[0m:     127.0.0.1:42338 - \"\u001b[1mGET /docs HTTP/1.1\u001b[0m\" \u001b[32m200 OK\u001b[0m\n",
      "\u001b[32mINFO\u001b[0m:     127.0.0.1:42338 - \"\u001b[1mGET /openapi.json HTTP/1.1\u001b[0m\" \u001b[32m200 OK\u001b[0m\n",
      "\u001b[32mINFO\u001b[0m:     127.0.0.1:57620 - \"\u001b[1mGET / HTTP/1.1\u001b[0m\" \u001b[32m200 OK\u001b[0m\n"
     ]
    }
   ],
   "source": [
    "!uvicorn FastAPI.hello_world:app --reload"
   ]
  },
  {
   "attachments": {},
   "cell_type": "markdown",
   "metadata": {},
   "source": [
    "Y accedemos a [http://127.0.0.1:8000/docs](http://127.0.0.1:8000/docs) o [http://127.0.0.1:8000/redoc](http://127.0.0.1:8000/redoc) podremos ver la documentación que nos ha generado `FastAPI` automáticamente\n",
    "\n",
    "hello_world/docs:\n",
    "\n",
    "![hello_world/docs](https://maximofn.com/wp-content/uploads/2023/05/hello_world_docs.png)\n",
    "\n",
    "hello_world/redoc:\n",
    "\n",
    "![hello_world/redoc](https://maximofn.com/wp-content/uploads/2023/05/hello_world_redoc.png)"
   ]
  },
  {
   "attachments": {},
   "cell_type": "markdown",
   "metadata": {},
   "source": [
    "## Path operation"
   ]
  },
  {
   "attachments": {},
   "cell_type": "markdown",
   "metadata": {},
   "source": [
    "Path operation define las operaciones que podemos hacer sobre un path determinado. Si recuerdas en el ejemplo de hola mundo escribimos la siguiente función\n",
    "\n",
    "``` python\n",
    "@app.get(\"/\")\n",
    "def home():\n",
    "    return {\"Hello\": \"World\"}\n",
    "```\n",
    "\n",
    "El decorador es la línea que comienza con `@` y que define que cuando hagamos mediante `HTTP` la operación de `GET` sobre el path `/` se va a ejecutar la función `home()`\n",
    "\n",
    "Lo que es el path está claro, dentro de la API podemos definir carpetas y paths, pero las operaciones son las posibles operaciones `HTTP` que se pueden realizar y que son\n",
    "\n",
    " * `Get`: Traer la documentación\n",
    " * `Post`: Enviar documentación\n",
    " * `Put`: Actualizar información de la documentación que ya está en el servidor\n",
    " * `Delete`: Borrar información\n",
    " * `Options`: Devuelve un header adicional llamado allow que contiene los metodos http que pueden utilizarse en ese endpoint o path.\n",
    " * `Head`: Devuelve info sobre el documento, no el documento en si.\n",
    " * `Patch`: Hacer modificaciones parciales al documento a diferencia de put que permite cambiar el documento entero.\n",
    " * `Trace`: Nos permite observar que esta pasando en la peticion y nos devuelve nuestro input con propositos de debugging.\n",
    "\n",
    "Volviendo al ejemplo del hola mundo\n",
    "\n",
    "``` python\n",
    "@app.get(\"/\")\n",
    "def home():\n",
    "    return {\"Hello\": \"World\"}\n",
    "```\n",
    "\n",
    "La primera linea corresponde a la `path operation decorator` y el resto al `path operation function`"
   ]
  },
  {
   "attachments": {},
   "cell_type": "markdown",
   "metadata": {},
   "source": [
    "## Path parameters"
   ]
  },
  {
   "attachments": {},
   "cell_type": "markdown",
   "metadata": {},
   "source": [
    "Supongamos que estamos haciendo una API, para poder obtener los datos de un dataset para entrenar una red. Por ejemplo, para un problema de segmentación, podemos tener una carpeta por cada par de imagen y másara\n",
    "\n",
    "```\n",
    "dataset\n",
    " |--> Imagen1\n",
    "       |-->Image\n",
    "       |-->Mask\n",
    " |--> Imagen2\n",
    "       |-->Image\n",
    "       |-->Mask\n",
    " |--> Imagen3\n",
    "       |-->Image\n",
    "       |-->Mask\n",
    " ...\n",
    " |--> ImagenN\n",
    "       |-->Image\n",
    "       |-->Mask\n",
    "```\n",
    "\n",
    "Por lo que podemos crear los paths `/dataset/Imagen1`, `/dataset/Imagen2`, `/dataset/Imagen3`, ... . Pero si el dataset es variable? Si nunca vamos a saber cuántas imágenes tiene el dataset?\n",
    "\n",
    "Por ello necesitamos poder crear el path mediante parámetros. Así, externamente podemos saber la longitud del dataset y crear el path que queramos"
   ]
  },
  {
   "attachments": {},
   "cell_type": "markdown",
   "metadata": {},
   "source": [
    "Para crear los path mediante parámetros se hace de la siguiente manera `/dataset/{Image}`, donde `{Image}` es el parámetro"
   ]
  },
  {
   "attachments": {},
   "cell_type": "markdown",
   "metadata": {},
   "source": [
    "Si usamos `path parameter` el paso del parámetro es obligatorio, por lo que si queremos usar algo parecido, pero que sea opcional tenemos que usar `query parameter`"
   ]
  },
  {
   "attachments": {},
   "cell_type": "markdown",
   "metadata": {},
   "source": [
    "## Query parameter"
   ]
  },
  {
   "attachments": {},
   "cell_type": "markdown",
   "metadata": {},
   "source": [
    "Supongamos ahora que estamos haciendo una API con una base de datos de usuarios, en la que cada usuario puede tener o no `username`, `age`, `email`. Los `query parameter`s se suelen utilizar más con la operación de `PUT`, es decir, mediante el path pasamos información del usuraio.\n",
    "\n",
    "Puede que de muchos usuarios sepamos todos los datos, pero ¿qué pasa si un usuario no tiene email? Si hiciésemos uso de `path parameter`s no podríamos añadir ese usuario, o lo tedríamos que hacer con un email que previamente definamos como que el usuario no tiene email. Sin embargo, si usamos `query parameter`s no es obligatorio pasar todos los parámetros"
   ]
  },
  {
   "attachments": {},
   "cell_type": "markdown",
   "metadata": {},
   "source": [
    "La sintaxis de los `query parameter`s es `/path?key1=value1&key2=value2&key3=value3&...&keyN=valueN`\n",
    "\n",
    "Por ejemplo, para la API con la base de datos de usuarios una `query parameter` podría ser `/path?username=Pedro&email=pedro@gmail.com&age=30` y otra solo `/path?username=Luis`"
   ]
  },
  {
   "attachments": {},
   "cell_type": "markdown",
   "metadata": {},
   "source": [
    "Podemos mezclar los dos (`path parameter`s y `query parameter`s) y mejorar los paths anteriores con `/path/{pedro_id}/details?username=Pedro&email=pedro@gmail.com&age=30` y otra solo `/path/{luis_id}/details?username=Luis`"
   ]
  },
  {
   "attachments": {},
   "cell_type": "markdown",
   "metadata": {},
   "source": [
    "## Request Body y Response Body"
   ]
  },
  {
   "attachments": {},
   "cell_type": "markdown",
   "metadata": {},
   "source": [
    "En una comunicación `HTTP` cliente/servidor, la petición que le hace el cliente al servidor se denomina `request` y la respuesta del servidor se denomina `response`. Además dentro del protocolo `HTTP` hay `header`s y el `body`. \n",
    "\n",
    "Por tanto, una `request body` es solo el `body` de una `request` `HTTP`, mientras que una `response body` es solo el `body` de una `response` `HTTP`\n",
    "\n",
    "Esta `request body` y `response body` se hace entre el cliente y servidor mediante `JSON`s"
   ]
  },
  {
   "attachments": {},
   "cell_type": "markdown",
   "metadata": {},
   "source": [
    "Editamos nuestro hola mundo para ver cómo se programaría un `request body` y un `response body`"
   ]
  },
  {
   "cell_type": "code",
   "execution_count": 1,
   "metadata": {},
   "outputs": [
    {
     "name": "stdout",
     "output_type": "stream",
     "text": [
      "Overwriting FastAPI/hello_world.py\n"
     ]
    }
   ],
   "source": [
    "%%writefile FastAPI/hello_world.py\n",
    "\n",
    "from fastapi import FastAPI\n",
    "\n",
    "app = FastAPI()\n",
    "\n",
    "@app.get(\"/\")\n",
    "def home():\n",
    "    return {\"Hello\": \"World\"}\n",
    "\n",
    "# Request and Response body\n",
    "@app.post(\"/user/new\")\n",
    "def new_user():\n",
    "    pass"
   ]
  },
  {
   "attachments": {},
   "cell_type": "markdown",
   "metadata": {},
   "source": [
    "Como vemos solo hemos creado una operación `POST` y su función asociada, de momento lo dejamos sin definir y vemos más conceptos"
   ]
  },
  {
   "attachments": {},
   "cell_type": "markdown",
   "metadata": {},
   "source": [
    "## Models"
   ]
  },
  {
   "attachments": {},
   "cell_type": "markdown",
   "metadata": {},
   "source": [
    "Un modelo es una descripción en código de un elemento de la vida real. Para poder crear nuestros modelos vamos a hacer uso de una librería llamada `pydantic`. Con esto vamos a crear un modelo de la clase `user`"
   ]
  },
  {
   "cell_type": "code",
   "execution_count": 2,
   "metadata": {},
   "outputs": [
    {
     "name": "stdout",
     "output_type": "stream",
     "text": [
      "Overwriting FastAPI/hello_world.py\n"
     ]
    }
   ],
   "source": [
    "%%writefile FastAPI/hello_world.py\n",
    "\n",
    "from typing import Optional\n",
    "from pydantic import BaseModel\n",
    "from fastapi import FastAPI\n",
    "from fastapi import Body\n",
    "\n",
    "app = FastAPI()\n",
    "\n",
    "class User(BaseModel):\n",
    "    name: str\n",
    "    age: int\n",
    "    email: Optional[str] = None\n",
    "\n",
    "@app.get(\"/\")\n",
    "def home():\n",
    "    return {\"Hello\": \"World\"}\n",
    "\n",
    "# Request and Response body\n",
    "@app.post(\"/user/new\")\n",
    "def new_user(user: User = Body(...)):\n",
    "    return user"
   ]
  },
  {
   "attachments": {},
   "cell_type": "markdown",
   "metadata": {},
   "source": [
    "Analizamos el código"
   ]
  },
  {
   "attachments": {},
   "cell_type": "markdown",
   "metadata": {},
   "source": [
    "Con la línea\n",
    "\n",
    "``` python\n",
    "from typing import Optional\n",
    "```\n",
    "\n",
    "Estamos añadiendo el módulo `Optional` de la librería `typing` que nos va a permitir añadir parámetros opcionales"
   ]
  },
  {
   "attachments": {},
   "cell_type": "markdown",
   "metadata": {},
   "source": [
    "Con la línea \n",
    "\n",
    "``` python\n",
    "from pydantic import BaseModel\n",
    "```\n",
    "\n",
    "Estamos importando el módulo `BaseModel` de la librería `pydantic` que nos va a permitir crear clases a partir de ese modelo base"
   ]
  },
  {
   "attachments": {},
   "cell_type": "markdown",
   "metadata": {},
   "source": [
    "Con la línea \n",
    "\n",
    "``` python\n",
    "from fastapi import Body\n",
    "```\n",
    "\n",
    "Importamos el módulo `Body` que nos permite usar objetos de tipo `Body`"
   ]
  },
  {
   "attachments": {},
   "cell_type": "markdown",
   "metadata": {},
   "source": [
    "Con el bloque\n",
    "\n",
    "``` python\n",
    "class User(BaseModel):\n",
    "    name: str\n",
    "    age: int\n",
    "    email: Optional[str] = None\n",
    "```\n",
    "\n",
    "Definimos la clase `User` que hereda de `BaseModel` y que tiene los parámetros `name` y `age` obligatorios y el parámetro `email` que es opcional, y al ser opcional tenemos que darle un valor por defecto, que en este caso es `None`"
   ]
  },
  {
   "attachments": {},
   "cell_type": "markdown",
   "metadata": {},
   "source": [
    "Con el bloque\n",
    "\n",
    "``` python\n",
    "# Request and Response body\n",
    "@app.post(\"/user/new\")\n",
    "def new_user(user: User = Body(...)):\n",
    "    return user\n",
    "```\n",
    "\n",
    "definimos la función para la operación `POST` que añade un nuevo usuario. Los `...` indican que usuario es un parámetro obligatorio que hay que pasarle a la función"
   ]
  },
  {
   "attachments": {},
   "cell_type": "markdown",
   "metadata": {},
   "source": [
    "Levantamos la API"
   ]
  },
  {
   "cell_type": "code",
   "execution_count": 3,
   "metadata": {},
   "outputs": [
    {
     "name": "stdout",
     "output_type": "stream",
     "text": [
      "\u001b[32mINFO\u001b[0m:     Will watch for changes in these directories: ['/home/wallabot/Documentos/web/portafolio/posts']\n",
      "\u001b[32mINFO\u001b[0m:     Uvicorn running on \u001b[1mhttp://127.0.0.1:8000\u001b[0m (Press CTRL+C to quit)\n",
      "\u001b[32mINFO\u001b[0m:     Started reloader process [\u001b[36m\u001b[1m21454\u001b[0m] using \u001b[36m\u001b[1mStatReload\u001b[0m\n",
      "\u001b[32mINFO\u001b[0m:     Started server process [\u001b[36m21456\u001b[0m]\n",
      "\u001b[32mINFO\u001b[0m:     Waiting for application startup.\n",
      "\u001b[32mINFO\u001b[0m:     Application startup complete.\n"
     ]
    }
   ],
   "source": [
    "!uvicorn FastAPI.hello_world:app --reload"
   ]
  },
  {
   "attachments": {},
   "cell_type": "markdown",
   "metadata": {},
   "source": [
    "Si ahora hacemos un `POST` a esta aplicación con nuevo usuario"
   ]
  },
  {
   "cell_type": "code",
   "execution_count": 20,
   "metadata": {},
   "outputs": [
    {
     "name": "stdout",
     "output_type": "stream",
     "text": [
      "{\"name\":\"Mariano\",\"age\":30,\"email\":\"mariano@email.com\"}"
     ]
    }
   ],
   "source": [
    "!curl -X 'POST' \\\n",
    "  'http://127.0.0.1:8000/user/new' \\\n",
    "  -H 'accept: application/json' \\\n",
    "  -H 'Content-Type: application/json' \\\n",
    "  -d '{\"name\": \"Mariano\",\"age\": 30,\"email\": \"mariano@email.com\"}'"
   ]
  },
  {
   "attachments": {},
   "cell_type": "markdown",
   "metadata": {},
   "source": [
    "Qué pasa si en el método `POST` quiero mandar dos modelos"
   ]
  },
  {
   "cell_type": "code",
   "execution_count": 28,
   "metadata": {},
   "outputs": [
    {
     "name": "stdout",
     "output_type": "stream",
     "text": [
      "Overwriting FastAPI/hello_world.py\n"
     ]
    }
   ],
   "source": [
    "%%writefile FastAPI/hello_world.py\n",
    "\n",
    "from typing import Optional\n",
    "from pydantic import BaseModel\n",
    "from fastapi import FastAPI\n",
    "from fastapi import Body\n",
    "\n",
    "app = FastAPI()\n",
    "\n",
    "class User(BaseModel):\n",
    "    name: str\n",
    "    age: int\n",
    "    email: Optional[str] = None\n",
    "\n",
    "class Location(BaseModel):\n",
    "    city: str\n",
    "    state: str\n",
    "    country: str\n",
    "\n",
    "@app.get(\"/\")\n",
    "def home():\n",
    "    return {\"Hello\": \"World\"}\n",
    "\n",
    "# Request and Response body\n",
    "@app.post(\"/user/new\")\n",
    "def new_user(\n",
    "    user: User = Body(...), \n",
    "    location: Location = Body(...)\n",
    "):\n",
    "    return {\"user\": user, \"location\": location}"
   ]
  },
  {
   "attachments": {},
   "cell_type": "markdown",
   "metadata": {},
   "source": [
    "Como vemos ahora hay que mandarle a la API el usuario y la localización, por lo que en el `return` ha habido que juntar los dos diccionarios"
   ]
  },
  {
   "attachments": {},
   "cell_type": "markdown",
   "metadata": {},
   "source": [
    "Volvemos a levantar la API y a probar"
   ]
  },
  {
   "cell_type": "code",
   "execution_count": 22,
   "metadata": {},
   "outputs": [
    {
     "name": "stdout",
     "output_type": "stream",
     "text": [
      "\u001b[32mINFO\u001b[0m:     Will watch for changes in these directories: ['/home/wallabot/Documentos/web/portafolio/posts']\n",
      "\u001b[32mINFO\u001b[0m:     Uvicorn running on \u001b[1mhttp://127.0.0.1:8000\u001b[0m (Press CTRL+C to quit)\n",
      "\u001b[32mINFO\u001b[0m:     Started reloader process [\u001b[36m\u001b[1m23730\u001b[0m] using \u001b[36m\u001b[1mStatReload\u001b[0m\n",
      "\u001b[32mINFO\u001b[0m:     Started server process [\u001b[36m23732\u001b[0m]\n",
      "\u001b[32mINFO\u001b[0m:     Waiting for application startup.\n",
      "\u001b[32mINFO\u001b[0m:     Application startup complete.\n"
     ]
    }
   ],
   "source": [
    "!uvicorn FastAPI.hello_world:app --reload"
   ]
  },
  {
   "cell_type": "code",
   "execution_count": 29,
   "metadata": {},
   "outputs": [
    {
     "name": "stdout",
     "output_type": "stream",
     "text": [
      "{\"user\":{\"name\":\"Mariano\",\"age\":30,\"email\":\"mariano@email.com\"},\"location\":{\"city\":\"Sevilla\",\"state\":\"Andalucía\",\"country\":\"España\"}}"
     ]
    }
   ],
   "source": [
    "!curl -X 'POST' \\\n",
    "  'http://127.0.0.1:8000/user/new' \\\n",
    "  -H 'accept: application/json' \\\n",
    "  -H 'Content-Type: application/json' \\\n",
    "  -d '{\"user\": {\"name\": \"Mariano\", \"age\": 30, \"email\": \"mariano@email.com\"}, \"location\": {\"city\": \"Sevilla\", \"state\": \"Andalucía\", \"country\": \"España\"} }'"
   ]
  },
  {
   "attachments": {},
   "cell_type": "markdown",
   "metadata": {},
   "source": [
    "Aunque otra forma de juntar los diccionarios es"
   ]
  },
  {
   "cell_type": "code",
   "execution_count": 33,
   "metadata": {},
   "outputs": [
    {
     "name": "stdout",
     "output_type": "stream",
     "text": [
      "Overwriting FastAPI/hello_world.py\n"
     ]
    }
   ],
   "source": [
    "%%writefile FastAPI/hello_world.py\n",
    "\n",
    "from typing import Optional\n",
    "from pydantic import BaseModel\n",
    "from fastapi import FastAPI\n",
    "from fastapi import Body\n",
    "\n",
    "app = FastAPI()\n",
    "\n",
    "class User(BaseModel):\n",
    "    name: str\n",
    "    age: int\n",
    "    email: Optional[str] = None\n",
    "\n",
    "class Location(BaseModel):\n",
    "    city: str\n",
    "    state: str\n",
    "    country: str\n",
    "\n",
    "@app.get(\"/\")\n",
    "def home():\n",
    "    return {\"Hello\": \"World\"}\n",
    "\n",
    "# Request and Response body\n",
    "@app.post(\"/user/new\")\n",
    "def new_user(\n",
    "    user: User = Body(...), \n",
    "    location: Location = Body(...)\n",
    "):\n",
    "    resutl = user.dict()\n",
    "    resutl.update(location.dict())\n",
    "    return resutl"
   ]
  },
  {
   "cell_type": "code",
   "execution_count": 27,
   "metadata": {},
   "outputs": [
    {
     "name": "stdout",
     "output_type": "stream",
     "text": [
      "\u001b[32mINFO\u001b[0m:     Will watch for changes in these directories: ['/home/wallabot/Documentos/web/portafolio/posts']\n",
      "\u001b[32mINFO\u001b[0m:     Uvicorn running on \u001b[1mhttp://127.0.0.1:8000\u001b[0m (Press CTRL+C to quit)\n",
      "\u001b[32mINFO\u001b[0m:     Started reloader process [\u001b[36m\u001b[1m24346\u001b[0m] using \u001b[36m\u001b[1mStatReload\u001b[0m\n",
      "\u001b[32mINFO\u001b[0m:     Started server process [\u001b[36m24348\u001b[0m]\n",
      "\u001b[32mINFO\u001b[0m:     Waiting for application startup.\n",
      "\u001b[32mINFO\u001b[0m:     Application startup complete.\n"
     ]
    }
   ],
   "source": [
    "!uvicorn FastAPI.hello_world:app --reload"
   ]
  },
  {
   "cell_type": "code",
   "execution_count": 34,
   "metadata": {},
   "outputs": [
    {
     "name": "stdout",
     "output_type": "stream",
     "text": [
      "{\"name\":\"Mariano\",\"age\":30,\"email\":\"mariano@email.com\",\"city\":\"Sevilla\",\"state\":\"Andalucía\",\"country\":\"España\"}"
     ]
    }
   ],
   "source": [
    "!curl -X 'POST' \\\n",
    "  'http://127.0.0.1:8000/user/new' \\\n",
    "  -H 'accept: application/json' \\\n",
    "  -H 'Content-Type: application/json' \\\n",
    "  -d '{\"user\": {\"name\": \"Mariano\", \"age\": 30, \"email\": \"mariano@email.com\"}, \"location\": {\"city\": \"Sevilla\", \"state\": \"Andalucía\", \"country\": \"España\"} }'"
   ]
  },
  {
   "attachments": {},
   "cell_type": "markdown",
   "metadata": {},
   "source": [
    "La diferencia con el ejemplo anterior es que se han juntado los dos diccionarios en uno solo"
   ]
  },
  {
   "attachments": {},
   "cell_type": "markdown",
   "metadata": {},
   "source": [
    "## Validaciones de los query parameters"
   ]
  },
  {
   "attachments": {},
   "cell_type": "markdown",
   "metadata": {},
   "source": [
    "Supongamos que a la hora de crear un usuario queremos establecer que el nombre tenga como máximo 50 caracteres y como mínimo 1 caracter, así que esto se puede programar"
   ]
  },
  {
   "cell_type": "code",
   "execution_count": 1,
   "metadata": {},
   "outputs": [
    {
     "name": "stdout",
     "output_type": "stream",
     "text": [
      "Overwriting FastAPI/hello_world.py\n"
     ]
    }
   ],
   "source": [
    "%%writefile FastAPI/hello_world.py\n",
    "\n",
    "from typing import Optional\n",
    "from pydantic import BaseModel\n",
    "from fastapi import FastAPI\n",
    "from fastapi import Body\n",
    "from fastapi import Query\n",
    "\n",
    "app = FastAPI()\n",
    "\n",
    "class User(BaseModel):\n",
    "    name: str\n",
    "    age: int\n",
    "    email: Optional[str] = None\n",
    "\n",
    "class Location(BaseModel):\n",
    "    city: str\n",
    "    state: str\n",
    "    country: str\n",
    "\n",
    "@app.get(\"/\")\n",
    "def home():\n",
    "    return {\"Hello\": \"World\"}\n",
    "\n",
    "# Request and Response body\n",
    "@app.post(\"/user/new\")\n",
    "def new_user(\n",
    "    user: User = Body(...), \n",
    "    location: Location = Body(...)\n",
    "):\n",
    "    resutl = user.dict()\n",
    "    resutl.update(location.dict())\n",
    "    return resutl\n",
    "\n",
    "# Validaciones de los query parameters\n",
    "@app.get(\"/user/detail\")\n",
    "def user_show_detail(\n",
    "    name: Optional[str] = Query(None, min_length=1, max_length=50),\n",
    "    age: Optional[int] = Query(None, gt=0, le=100)\n",
    "):\n",
    "    return {\"name\": name, \"age\": age}"
   ]
  },
  {
   "attachments": {},
   "cell_type": "markdown",
   "metadata": {},
   "source": [
    "Hemos necesitado importar al inicio `Query` desde `fastapi`. A continuación hemos creado la función `user_show_detail` que espera dos `query parameter`s. EL primero es `name` que como mínimo tiene que tener 1 caracter y como máximo 50, y `age` que como mínimo tiene que valer 0 y como máximo 100"
   ]
  },
  {
   "attachments": {},
   "cell_type": "markdown",
   "metadata": {},
   "source": [
    "Lanzamos la API"
   ]
  },
  {
   "cell_type": "code",
   "execution_count": 2,
   "metadata": {},
   "outputs": [
    {
     "name": "stdout",
     "output_type": "stream",
     "text": [
      "\u001b[32mINFO\u001b[0m:     Will watch for changes in these directories: ['/home/wallabot/Documentos/web/portafolio/posts']\n",
      "\u001b[32mINFO\u001b[0m:     Uvicorn running on \u001b[1mhttp://127.0.0.1:8000\u001b[0m (Press CTRL+C to quit)\n",
      "\u001b[32mINFO\u001b[0m:     Started reloader process [\u001b[36m\u001b[1m23814\u001b[0m] using \u001b[36m\u001b[1mStatReload\u001b[0m\n",
      "\u001b[32mINFO\u001b[0m:     Started server process [\u001b[36m23816\u001b[0m]\n",
      "\u001b[32mINFO\u001b[0m:     Waiting for application startup.\n",
      "\u001b[32mINFO\u001b[0m:     Application startup complete.\n",
      "\u001b[32mINFO\u001b[0m:     127.0.0.1:41110 - \"\u001b[1mGET / HTTP/1.1\u001b[0m\" \u001b[32m200 OK\u001b[0m\n",
      "\u001b[32mINFO\u001b[0m:     127.0.0.1:41110 - \"\u001b[1mGET /favicon.ico HTTP/1.1\u001b[0m\" \u001b[31m404 Not Found\u001b[0m\n",
      "\u001b[32mINFO\u001b[0m:     127.0.0.1:59194 - \"\u001b[1mGET / HTTP/1.1\u001b[0m\" \u001b[32m200 OK\u001b[0m\n",
      "\u001b[32mINFO\u001b[0m:     127.0.0.1:46092 - \"\u001b[1mGET /user/detail HTTP/1.1\u001b[0m\" \u001b[32m200 OK\u001b[0m\n",
      "\u001b[32mINFO\u001b[0m:     127.0.0.1:42002 - \"\u001b[1mGET /docs HTTP/1.1\u001b[0m\" \u001b[32m200 OK\u001b[0m\n",
      "\u001b[32mINFO\u001b[0m:     127.0.0.1:42002 - \"\u001b[1mGET /openapi.json HTTP/1.1\u001b[0m\" \u001b[32m200 OK\u001b[0m\n",
      "\u001b[32mINFO\u001b[0m:     127.0.0.1:44462 - \"\u001b[1mGET /user/detail?name=mariano&age=30 HTTP/1.1\u001b[0m\" \u001b[32m200 OK\u001b[0m\n"
     ]
    }
   ],
   "source": [
    "!uvicorn FastAPI.hello_world:app --reload"
   ]
  },
  {
   "attachments": {},
   "cell_type": "markdown",
   "metadata": {},
   "source": [
    "Si hacemos un `GET` a `http://127.0.0.1:8000/user/detail`"
   ]
  },
  {
   "cell_type": "code",
   "execution_count": 1,
   "metadata": {},
   "outputs": [
    {
     "name": "stdout",
     "output_type": "stream",
     "text": [
      "{\"name\":null,\"age\":null}"
     ]
    }
   ],
   "source": [
    "!curl -X 'GET' \\\n",
    "  'http://127.0.0.1:8000/user/detail'"
   ]
  },
  {
   "attachments": {},
   "cell_type": "markdown",
   "metadata": {},
   "source": [
    "No obtenemos nada porque no hemos metido ni nombre ni edad, vamos a meter un nombre y una edad"
   ]
  },
  {
   "cell_type": "code",
   "execution_count": 2,
   "metadata": {},
   "outputs": [
    {
     "name": "stdout",
     "output_type": "stream",
     "text": [
      "{\"name\":\"Mariano\",\"age\":30}"
     ]
    }
   ],
   "source": [
    "!curl -X 'GET' \\\n",
    "  'http://127.0.0.1:8000/user/detail?name=Mariano&age=30'"
   ]
  },
  {
   "attachments": {},
   "cell_type": "markdown",
   "metadata": {},
   "source": [
    "Ahora vemos que si nos devuelve un nombre y una edad"
   ]
  },
  {
   "attachments": {},
   "cell_type": "markdown",
   "metadata": {},
   "source": [
    "Probamos ahora a meter un nombre con más de 50 caracteres"
   ]
  },
  {
   "cell_type": "code",
   "execution_count": 4,
   "metadata": {},
   "outputs": [
    {
     "name": "stdout",
     "output_type": "stream",
     "text": [
      "{\"detail\":[{\"loc\":[\"query\",\"name\"],\"msg\":\"ensure this value has at most 50 characters\",\"type\":\"value_error.any_str.max_length\",\"ctx\":{\"limit_value\":50}}]}"
     ]
    }
   ],
   "source": [
    "!curl -X 'GET' \\\n",
    "  'http://127.0.0.1:8000/user/detail?name=012345678911234567892123456789312345678941234567895123456789&age=30'"
   ]
  },
  {
   "attachments": {},
   "cell_type": "markdown",
   "metadata": {},
   "source": [
    "Como vemos obtenemos un error que nos indica que no podemos meter más de 50 caaracteres"
   ]
  },
  {
   "attachments": {},
   "cell_type": "markdown",
   "metadata": {},
   "source": [
    "Lo mismo ocurre si metemos una edad de más de 100"
   ]
  },
  {
   "cell_type": "code",
   "execution_count": 5,
   "metadata": {},
   "outputs": [
    {
     "name": "stdout",
     "output_type": "stream",
     "text": [
      "{\"detail\":[{\"loc\":[\"query\",\"age\"],\"msg\":\"ensure this value is less than or equal to 100\",\"type\":\"value_error.number.not_le\",\"ctx\":{\"limit_value\":100}}]}"
     ]
    }
   ],
   "source": [
    "!curl -X 'GET' \\\n",
    "  'http://127.0.0.1:8000/user/detail?name=Mariano&age=101'"
   ]
  },
  {
   "attachments": {},
   "cell_type": "markdown",
   "metadata": {},
   "source": [
    "Nos dice que la edad límite es 100"
   ]
  },
  {
   "attachments": {},
   "cell_type": "markdown",
   "metadata": {},
   "source": [
    "Vamos a ver qué más parametros se puede validar además de la longitud y el valor máximo y mínimo:\n",
    "\n",
    " * Para tipos de datos str:\n",
    "   * max_length : Para especificar el tamaño máximo de la cadena.\n",
    "   * min_length : Para especificar el tamaño minimo de la cadena.\n",
    "   * regex : Para especificar expresiones regulares.\n",
    " * Para tipos de datos int:\n",
    "   * ge : (greater or equal than ≥) Para especificar que el valor debe ser mayor o igual.\n",
    "   * le : (less or equal than ≤) Para especificar que el valor debe ser menor o igual.\n",
    "   * gt : (greater than >) Para especificar que el valor debe ser mayor.\n",
    "   * lt : (less than <) Para especificar que el valor debe ser menor."
   ]
  },
  {
   "attachments": {},
   "cell_type": "markdown",
   "metadata": {},
   "source": [
    "Para darle un título y una descripción en la documentación están\n",
    " * title: Para crear un título\n",
    " * description: Para añadir una descripción"
   ]
  },
  {
   "attachments": {},
   "cell_type": "markdown",
   "metadata": {},
   "source": [
    "## Validación de path parameters"
   ]
  },
  {
   "attachments": {},
   "cell_type": "markdown",
   "metadata": {},
   "source": [
    "Al igual que los `query parameter`s se puede validar los `path parameter`s"
   ]
  },
  {
   "cell_type": "code",
   "execution_count": 6,
   "metadata": {},
   "outputs": [
    {
     "name": "stdout",
     "output_type": "stream",
     "text": [
      "Overwriting FastAPI/hello_world.py\n"
     ]
    }
   ],
   "source": [
    "%%writefile FastAPI/hello_world.py\n",
    "\n",
    "from typing import Optional\n",
    "from pydantic import BaseModel\n",
    "from fastapi import FastAPI\n",
    "from fastapi import Body\n",
    "from fastapi import Query\n",
    "from fastapi import Path\n",
    "\n",
    "app = FastAPI()\n",
    "\n",
    "class User(BaseModel):\n",
    "    name: str\n",
    "    age: int\n",
    "    email: Optional[str] = None\n",
    "\n",
    "class Location(BaseModel):\n",
    "    city: str\n",
    "    state: str\n",
    "    country: str\n",
    "\n",
    "@app.get(\"/\")\n",
    "def home():\n",
    "    return {\"Hello\": \"World\"}\n",
    "\n",
    "# Request and Response body\n",
    "@app.post(\"/user/new\")\n",
    "def new_user(\n",
    "    user: User = Body(...), \n",
    "    location: Location = Body(...)\n",
    "):\n",
    "    resutl = user.dict()\n",
    "    resutl.update(location.dict())\n",
    "    return resutl\n",
    "\n",
    "# Validaciones de los query parameters\n",
    "@app.get(\"/user/detail\")\n",
    "def user_show_detail(\n",
    "    name: Optional[str] = Query(\n",
    "        None, \n",
    "        min_length=1, \n",
    "        max_length=50,\n",
    "        title=\"User name\",\n",
    "        description=\"This is the user name. It's between 1 and 50 characters\"\n",
    "        ),\n",
    "    age: Optional[int] = Query(\n",
    "        None, \n",
    "        gt=0, \n",
    "        le=100,\n",
    "        title=\"User age\",\n",
    "        description=\"This is the user age. It's between 1 and 100\"\n",
    "        )\n",
    "):\n",
    "    return {\"name\": name, \"age\": age}\n",
    "\n",
    "# Validaciones de los path parameters\n",
    "@app.get(\"/user/detail/{user_id}\")\n",
    "def user_show_detail(\n",
    "    user_id: int = Path(\n",
    "        ..., \n",
    "        gt=0, \n",
    "        le=100,\n",
    "        title=\"User ID\",\n",
    "        description=\"This is the user ID. It's between 1 and 100\"\n",
    "        )\n",
    "):\n",
    "    return {\"user_id\": user_id}"
   ]
  },
  {
   "attachments": {},
   "cell_type": "markdown",
   "metadata": {},
   "source": [
    "Importamos `Path` desde `fastapi`.\n",
    "\n",
    "Por otro lado creamos la función `user_show_detail` que espera un `path parameter` en el endpoint `/user/detail/{user_id}`. La función espera un `ID` por lo que espera un entero. Al ser un `path parameter` ponemos `...` porque tiene que ser un parámetro obligatorio y además decimos que tiene que ser mayor que 0 y menor que 100\n",
    "\n",
    "Aprovechamos y ponemos `title` y `description` en las dos funciones `user_show_detail` para que aparezcan en la documentación"
   ]
  },
  {
   "attachments": {},
   "cell_type": "markdown",
   "metadata": {},
   "source": [
    "Levantamos la API"
   ]
  },
  {
   "cell_type": "code",
   "execution_count": 7,
   "metadata": {},
   "outputs": [
    {
     "name": "stdout",
     "output_type": "stream",
     "text": [
      "\u001b[32mINFO\u001b[0m:     Will watch for changes in these directories: ['/home/wallabot/Documentos/web/portafolio/posts']\n",
      "\u001b[32mINFO\u001b[0m:     Uvicorn running on \u001b[1mhttp://127.0.0.1:8000\u001b[0m (Press CTRL+C to quit)\n",
      "\u001b[32mINFO\u001b[0m:     Started reloader process [\u001b[36m\u001b[1m33520\u001b[0m] using \u001b[36m\u001b[1mStatReload\u001b[0m\n",
      "\u001b[32mINFO\u001b[0m:     Started server process [\u001b[36m33522\u001b[0m]\n",
      "\u001b[32mINFO\u001b[0m:     Waiting for application startup.\n",
      "\u001b[32mINFO\u001b[0m:     Application startup complete.\n"
     ]
    }
   ],
   "source": [
    "!uvicorn FastAPI.hello_world:app --reload"
   ]
  },
  {
   "attachments": {},
   "cell_type": "markdown",
   "metadata": {},
   "source": [
    "Probamos ahora a hacer un `GET` a `http://127.0.0.1:8000/user/detail/5`, es decir, le pasamos `5` como `ID`"
   ]
  },
  {
   "cell_type": "code",
   "execution_count": 10,
   "metadata": {},
   "outputs": [
    {
     "name": "stdout",
     "output_type": "stream",
     "text": [
      "{\"user_id\":5}"
     ]
    }
   ],
   "source": [
    "!curl -X 'GET' \\\n",
    "  'http://127.0.0.1:8000/user/detail/5'"
   ]
  },
  {
   "attachments": {},
   "cell_type": "markdown",
   "metadata": {},
   "source": [
    "Nos devuelve la `ID`"
   ]
  },
  {
   "attachments": {},
   "cell_type": "markdown",
   "metadata": {},
   "source": [
    "Probamos ahora a pasarle una `ID` de `101`"
   ]
  },
  {
   "cell_type": "code",
   "execution_count": 11,
   "metadata": {},
   "outputs": [
    {
     "name": "stdout",
     "output_type": "stream",
     "text": [
      "{\"detail\":[{\"loc\":[\"path\",\"user_id\"],\"msg\":\"ensure this value is less than or equal to 100\",\"type\":\"value_error.number.not_le\",\"ctx\":{\"limit_value\":100}}]}"
     ]
    }
   ],
   "source": [
    "!curl -X 'GET' \\\n",
    "  'http://127.0.0.1:8000/user/detail/101'"
   ]
  },
  {
   "attachments": {},
   "cell_type": "markdown",
   "metadata": {},
   "source": [
    "Nos da un error y nos dice que como máximo puede ser 100"
   ]
  },
  {
   "attachments": {},
   "cell_type": "markdown",
   "metadata": {},
   "source": [
    "## Validación de los Models"
   ]
  },
  {
   "attachments": {},
   "cell_type": "markdown",
   "metadata": {},
   "source": [
    "Vamos a validar los `Model`s"
   ]
  },
  {
   "cell_type": "code",
   "execution_count": 6,
   "metadata": {},
   "outputs": [
    {
     "name": "stdout",
     "output_type": "stream",
     "text": [
      "Overwriting FastAPI/hello_world.py\n"
     ]
    }
   ],
   "source": [
    "%%writefile FastAPI/hello_world.py\n",
    "\n",
    "from typing import Optional\n",
    "from pydantic import BaseModel\n",
    "from pydantic import Field\n",
    "from pydantic import validator\n",
    "from enum import Enum\n",
    "from fastapi import FastAPI\n",
    "from fastapi import Body\n",
    "from fastapi import Query\n",
    "from fastapi import Path\n",
    "\n",
    "app = FastAPI()\n",
    "\n",
    "class ComunidadAutonoma(str, Enum):\n",
    "    Andalucía = \"Andalucía\"\n",
    "    Aragón = \"Aragón\"\n",
    "    Asturias = \"Asturias\"\n",
    "    Baleares = \"Baleares\"\n",
    "    Canarias = \"Canarias\"\n",
    "    Cantabria = \"Cantabria\"\n",
    "    CastillaLaMancha = \"Castilla-La Mancha\"\n",
    "    CastillaLeon = \"Castilla y León\"\n",
    "    Cataluña = \"Cataluña\"\n",
    "    Ceuta = \"Ceuta\"\n",
    "    Extremadura = \"Extremadura\"\n",
    "    Galicia = \"Galicia\"\n",
    "    Madrid = \"Madrid\"\n",
    "    Melilla = \"Melilla\"\n",
    "    Murcia = \"Murcia\"\n",
    "    Navarra = \"Navarra\"\n",
    "    PaisVasco = \"País Vasco\"\n",
    "    LaRioja = \"La Rioja\"\n",
    "    Valencia = \"Valencia\"\n",
    "\n",
    "class User(BaseModel):\n",
    "    name: str = Field(..., min_length=1, max_length=50) # Required\n",
    "    age: int = Field(..., gt=0, le=100) # Required\n",
    "    email: Optional[str] = Field(None) # Optional\n",
    "\n",
    "class Location(BaseModel):\n",
    "    city: str = Field(..., min_length=1, max_length=50) # Required\n",
    "    state: ComunidadAutonoma = Field(..., min_length=1, max_length=50) # Required\n",
    "    country: str = Field(..., min_length=1, max_length=50) # Required\n",
    "\n",
    "    @validator(\"state\", pre=True)\n",
    "    def validate_state(cls, state):\n",
    "        if state not in ComunidadAutonoma._member_names_:\n",
    "            raise ValueError(f\"Invalid state: {state}\")\n",
    "        return state\n",
    "\n",
    "@app.get(\"/\")\n",
    "def home():\n",
    "    return {\"Hello\": \"World\"}\n",
    "\n",
    "# Request and Response body\n",
    "@app.post(\"/user/new\")\n",
    "def new_user(\n",
    "    user: User = Body(...), \n",
    "    location: Location = Body(...)\n",
    "):\n",
    "    resutl = user.dict()\n",
    "    resutl.update(location.dict())\n",
    "    return resutl\n",
    "\n",
    "# Validaciones de los query parameters\n",
    "@app.get(\"/user/detail\")\n",
    "def user_show_detail(\n",
    "    name: Optional[str] = Query(\n",
    "        None, \n",
    "        min_length=1, \n",
    "        max_length=50,\n",
    "        title=\"User name\",\n",
    "        description=\"This is the user name. It's between 1 and 50 characters\"\n",
    "        ),\n",
    "    age: Optional[int] = Query(\n",
    "        None, \n",
    "        gt=0, \n",
    "        le=100,\n",
    "        title=\"User age\",\n",
    "        description=\"This is the user age. It's between 1 and 100\"\n",
    "        )\n",
    "):\n",
    "    return {\"name\": name, \"age\": age}\n",
    "\n",
    "# Validaciones de los path parameters\n",
    "@app.get(\"/user/detail/{user_id}\")\n",
    "def user_show_detail(\n",
    "    user_id: int = Path(\n",
    "        ..., \n",
    "        gt=0, \n",
    "        le=100,\n",
    "        title=\"User ID\",\n",
    "        description=\"This is the user ID. It's between 1 and 100\"\n",
    "        )\n",
    "):\n",
    "    return {\"user_id\": user_id}"
   ]
  },
  {
   "attachments": {},
   "cell_type": "markdown",
   "metadata": {},
   "source": [
    "Importando la clase `Field` de `pydantic` obtenemos la herramienta para validar cada campo de un `Model`, de manera que en cada campo de los `Model`s se indica que es de tipo `Field` y se le indican las características\n",
    "\n",
    "Además importando la clase `Enum` de `enum` podemos crear una clase con todas las posibles comunidades autónomas que puede tener el campo `state` de `Location`. Importando la clase `validator` de `pydantic` podemos validar que la comunidad autónoma esté dentro de uno de los posibles valores de la clase `ComunidadAutonoma` y esto es gracias al método `validate_state` de la clase `Location`"
   ]
  },
  {
   "attachments": {},
   "cell_type": "markdown",
   "metadata": {},
   "source": [
    "Vamos a levantar la API"
   ]
  },
  {
   "cell_type": "code",
   "execution_count": 2,
   "metadata": {},
   "outputs": [
    {
     "name": "stdout",
     "output_type": "stream",
     "text": [
      "\u001b[32mINFO\u001b[0m:     Will watch for changes in these directories: ['/home/wallabot/Documentos/web/portafolio/posts']\n",
      "\u001b[32mINFO\u001b[0m:     Uvicorn running on \u001b[1mhttp://127.0.0.1:8000\u001b[0m (Press CTRL+C to quit)\n",
      "\u001b[32mINFO\u001b[0m:     Started reloader process [\u001b[36m\u001b[1m42849\u001b[0m] using \u001b[36m\u001b[1mStatReload\u001b[0m\n",
      "\u001b[32mINFO\u001b[0m:     Started server process [\u001b[36m42851\u001b[0m]\n",
      "\u001b[32mINFO\u001b[0m:     Waiting for application startup.\n",
      "\u001b[32mINFO\u001b[0m:     Application startup complete.\n"
     ]
    }
   ],
   "source": [
    "!uvicorn FastAPI.hello_world:app --reload"
   ]
  },
  {
   "attachments": {},
   "cell_type": "markdown",
   "metadata": {},
   "source": [
    "Mando datos correctos"
   ]
  },
  {
   "cell_type": "code",
   "execution_count": 3,
   "metadata": {},
   "outputs": [
    {
     "name": "stdout",
     "output_type": "stream",
     "text": [
      "{\"name\":\"Mariano\",\"age\":30,\"email\":\"mariano@email.com\",\"city\":\"Sevilla\",\"state\":\"Andalucía\",\"country\":\"España\"}"
     ]
    }
   ],
   "source": [
    "!curl -X 'POST' \\\n",
    "  'http://127.0.0.1:8000/user/new' \\\n",
    "  -H 'accept: application/json' \\\n",
    "  -H 'Content-Type: application/json' \\\n",
    "  -d '{\"user\": {\"name\": \"Mariano\", \"age\": 30, \"email\": \"mariano@email.com\"}, \"location\": {\"city\": \"Sevilla\", \"state\": \"Andalucía\", \"country\": \"España\"} }'"
   ]
  },
  {
   "attachments": {},
   "cell_type": "markdown",
   "metadata": {},
   "source": [
    "Pruebo ahora a mandar un dato incorrecto, como la edad de 101 años"
   ]
  },
  {
   "cell_type": "code",
   "execution_count": 7,
   "metadata": {},
   "outputs": [
    {
     "name": "stdout",
     "output_type": "stream",
     "text": [
      "{\"detail\":[{\"loc\":[\"body\",\"user\",\"age\"],\"msg\":\"ensure this value is less than or equal to 100\",\"type\":\"value_error.number.not_le\",\"ctx\":{\"limit_value\":100}}]}"
     ]
    }
   ],
   "source": [
    "!curl -X 'POST' \\\n",
    "  'http://127.0.0.1:8000/user/new' \\\n",
    "  -H 'accept: application/json' \\\n",
    "  -H 'Content-Type: application/json' \\\n",
    "  -d '{\"user\": {\"name\": \"Mariano\", \"age\": 101, \"email\": \"mariano@email.com\"}, \"location\": {\"city\": \"Sevilla\", \"state\": \"Andalucía\", \"country\": \"España\"} }'"
   ]
  },
  {
   "attachments": {},
   "cell_type": "markdown",
   "metadata": {},
   "source": [
    "Como se ve nos dice que la edad tiene que ser menor o igual a 100 años"
   ]
  },
  {
   "attachments": {},
   "cell_type": "markdown",
   "metadata": {},
   "source": [
    "Probamos ahora a meter una comunidad autónoma que no esté en la clase `ComunidadAutonoma`"
   ]
  },
  {
   "cell_type": "code",
   "execution_count": 10,
   "metadata": {},
   "outputs": [
    {
     "name": "stdout",
     "output_type": "stream",
     "text": [
      "{\"detail\":[{\"loc\":[\"body\",\"location\",\"state\"],\"msg\":\"Invalid state: AnWalucía\",\"type\":\"value_error\"}]}"
     ]
    }
   ],
   "source": [
    "!curl -X 'POST' \\\n",
    "  'http://127.0.0.1:8000/user/new' \\\n",
    "  -H 'accept: application/json' \\\n",
    "  -H 'Content-Type: application/json' \\\n",
    "  -d '{\"user\": {\"name\": \"Mariano\", \"age\": 30, \"email\": \"mariano@email.com\"}, \"location\": {\"city\": \"Sevilla\", \"state\": \"AnWalucía\", \"country\": \"España\"} }'"
   ]
  },
  {
   "attachments": {},
   "cell_type": "markdown",
   "metadata": {},
   "source": [
    "## Valores por defecto en la documentación"
   ]
  },
  {
   "attachments": {},
   "cell_type": "markdown",
   "metadata": {},
   "source": [
    "Con lo que hemos hecho hasta ahora, si nos vamos a la documentación vemos esto en la operación `POST`\n",
    "\n",
    "![post default](https://maximofn.com/wp-content/uploads/2023/05/hello_world_docs_post_default.png)\n",
    "\n",
    "Es decir, no tenemos valores por defecto, por lo que si queremos probar la operación tenemos que meter a mano uno a uno. Esto cuando se está desarrollando es un lastre, porque hay que mater todos a mano, pruebas, si no funciona cambias el código, recargas la página y tienes que volver a meter los valores a mano\n",
    "\n",
    "Para solucionar esto, podemos crear una clase dentro de las clases `User` y `Location` llamada `Config` con los valores por defecto, veamos el código"
   ]
  },
  {
   "cell_type": "code",
   "execution_count": 7,
   "metadata": {},
   "outputs": [
    {
     "name": "stdout",
     "output_type": "stream",
     "text": [
      "Overwriting FastAPI/hello_world.py\n"
     ]
    }
   ],
   "source": [
    "%%writefile FastAPI/hello_world.py\n",
    "\n",
    "from typing import Optional\n",
    "from pydantic import BaseModel\n",
    "from pydantic import Field\n",
    "from pydantic import validator\n",
    "from enum import Enum\n",
    "from fastapi import FastAPI\n",
    "from fastapi import Body\n",
    "from fastapi import Query\n",
    "from fastapi import Path\n",
    "\n",
    "app = FastAPI()\n",
    "\n",
    "class ComunidadAutonoma(str, Enum):\n",
    "    Andalucía = \"Andalucía\"\n",
    "    Aragón = \"Aragón\"\n",
    "    Asturias = \"Asturias\"\n",
    "    Baleares = \"Baleares\"\n",
    "    Canarias = \"Canarias\"\n",
    "    Cantabria = \"Cantabria\"\n",
    "    CastillaLaMancha = \"Castilla-La Mancha\"\n",
    "    CastillaLeon = \"Castilla y León\"\n",
    "    Cataluña = \"Cataluña\"\n",
    "    Ceuta = \"Ceuta\"\n",
    "    Extremadura = \"Extremadura\"\n",
    "    Galicia = \"Galicia\"\n",
    "    Madrid = \"Madrid\"\n",
    "    Melilla = \"Melilla\"\n",
    "    Murcia = \"Murcia\"\n",
    "    Navarra = \"Navarra\"\n",
    "    PaisVasco = \"País Vasco\"\n",
    "    LaRioja = \"La Rioja\"\n",
    "    Valencia = \"Valencia\"\n",
    "\n",
    "class User(BaseModel):\n",
    "    name: str = Field(..., min_length=1, max_length=50) # Required\n",
    "    age: int = Field(..., gt=0, le=100) # Required\n",
    "    email: Optional[str] = Field(None) # Optional\n",
    "\n",
    "    class Config:\n",
    "        schema_extra = {\n",
    "            \"example\": {\n",
    "                \"name\": \"Mariano\",\n",
    "                \"age\": 30,\n",
    "                \"email\": \"mariano@email.com\"\n",
    "            },\n",
    "        }\n",
    "\n",
    "class Location(BaseModel):\n",
    "    city: str = Field(..., min_length=1, max_length=50) # Required\n",
    "    state: ComunidadAutonoma = Field(..., min_length=1, max_length=50) # Required\n",
    "    country: str = Field(..., min_length=1, max_length=50) # Required\n",
    "\n",
    "    @validator(\"state\", pre=True)\n",
    "    def validate_state(cls, state):\n",
    "        if state not in ComunidadAutonoma._member_names_:\n",
    "            raise ValueError(f\"Invalid state: {state}\")\n",
    "        return state\n",
    "    \n",
    "    class Config:\n",
    "        schema_extra = {\n",
    "            \"example\": {\n",
    "                \"city\": \"Sevilla\",\n",
    "                \"state\": \"Andalucía\",\n",
    "                \"country\": \"España\"\n",
    "            },\n",
    "        }\n",
    "\n",
    "@app.get(\"/\")\n",
    "def home():\n",
    "    return {\"Hello\": \"World\"}\n",
    "\n",
    "# Request and Response body\n",
    "@app.post(\"/user/new\")\n",
    "def new_user(\n",
    "    user: User = Body(...), \n",
    "    location: Location = Body(...)\n",
    "):\n",
    "    resutl = user.dict()\n",
    "    resutl.update(location.dict())\n",
    "    return resutl\n",
    "\n",
    "# Validaciones de los query parameters\n",
    "@app.get(\"/user/detail\")\n",
    "def user_show_detail(\n",
    "    name: Optional[str] = Query(\n",
    "        None, \n",
    "        min_length=1, \n",
    "        max_length=50,\n",
    "        title=\"User name\",\n",
    "        description=\"This is the user name. It's between 1 and 50 characters\"\n",
    "        ),\n",
    "    age: Optional[int] = Query(\n",
    "        None, \n",
    "        gt=0, \n",
    "        le=100,\n",
    "        title=\"User age\",\n",
    "        description=\"This is the user age. It's between 1 and 100\"\n",
    "        )\n",
    "):\n",
    "    return {\"name\": name, \"age\": age}\n",
    "\n",
    "# Validaciones de los path parameters\n",
    "@app.get(\"/user/detail/{user_id}\")\n",
    "def user_show_detail(\n",
    "    user_id: int = Path(\n",
    "        ..., \n",
    "        gt=0, \n",
    "        le=100,\n",
    "        title=\"User ID\",\n",
    "        description=\"This is the user ID. It's between 1 and 100\"\n",
    "        )\n",
    "):\n",
    "    return {\"user_id\": user_id}"
   ]
  },
  {
   "attachments": {},
   "cell_type": "markdown",
   "metadata": {},
   "source": [
    "Una vez hecho esto, la documentación se ve así \n",
    "\n",
    "![docs with values](https://maximofn.com/wp-content/uploads/2023/05/hello_world_docs_POST_values.png)\n",
    "\n",
    "Ahora tenemos todos los campos rellenos, por lo que si queremos probar no tenemos que meterlos nosotros y nos ahorra mucho tiempo a la hora de depurar"
   ]
  },
  {
   "attachments": {},
   "cell_type": "markdown",
   "metadata": {},
   "source": [
    "Con las clases `User` y `Location` podemos establecer valores por defecto para la documentación, lo cual nos cubre el método `POST`, pero para las dos funciones `GET` `user_show_detail` no nos vale ya que no usan las clases `User` y `Location`. Así que en ese caso, podemos establecer el valor por defecto para la documentación añadiendo el parámetro `example` en `name`, `age` y `user_id`"
   ]
  },
  {
   "cell_type": "code",
   "execution_count": 2,
   "metadata": {},
   "outputs": [
    {
     "name": "stdout",
     "output_type": "stream",
     "text": [
      "Overwriting FastAPI/hello_world.py\n"
     ]
    }
   ],
   "source": [
    "%%writefile FastAPI/hello_world.py\n",
    "\n",
    "from typing import Optional\n",
    "from pydantic import BaseModel\n",
    "from pydantic import Field\n",
    "from pydantic import validator\n",
    "from enum import Enum\n",
    "from fastapi import FastAPI\n",
    "from fastapi import Body\n",
    "from fastapi import Query\n",
    "from fastapi import Path\n",
    "\n",
    "app = FastAPI()\n",
    "\n",
    "class ComunidadAutonoma(str, Enum):\n",
    "    Andalucía = \"Andalucía\"\n",
    "    Aragón = \"Aragón\"\n",
    "    Asturias = \"Asturias\"\n",
    "    Baleares = \"Baleares\"\n",
    "    Canarias = \"Canarias\"\n",
    "    Cantabria = \"Cantabria\"\n",
    "    CastillaLaMancha = \"Castilla-La Mancha\"\n",
    "    CastillaLeon = \"Castilla y León\"\n",
    "    Cataluña = \"Cataluña\"\n",
    "    Ceuta = \"Ceuta\"\n",
    "    Extremadura = \"Extremadura\"\n",
    "    Galicia = \"Galicia\"\n",
    "    Madrid = \"Madrid\"\n",
    "    Melilla = \"Melilla\"\n",
    "    Murcia = \"Murcia\"\n",
    "    Navarra = \"Navarra\"\n",
    "    PaisVasco = \"País Vasco\"\n",
    "    LaRioja = \"La Rioja\"\n",
    "    Valencia = \"Valencia\"\n",
    "\n",
    "class User(BaseModel):\n",
    "    name: str = Field(..., min_length=1, max_length=50) # Required\n",
    "    age: int = Field(..., gt=0, le=100) # Required\n",
    "    email: Optional[str] = Field(None) # Optional\n",
    "\n",
    "    class Config:\n",
    "        schema_extra = {\n",
    "            \"example\": {\n",
    "                \"name\": \"Mariano\",\n",
    "                \"age\": 30,\n",
    "                \"email\": \"mariano@email.com\"\n",
    "            },\n",
    "        }\n",
    "\n",
    "class Location(BaseModel):\n",
    "    city: str = Field(..., min_length=1, max_length=50) # Required\n",
    "    state: ComunidadAutonoma = Field(..., min_length=1, max_length=50) # Required\n",
    "    country: str = Field(..., min_length=1, max_length=50) # Required\n",
    "\n",
    "    @validator(\"state\", pre=True)\n",
    "    def validate_state(cls, state):\n",
    "        if state not in ComunidadAutonoma._member_names_:\n",
    "            raise ValueError(f\"Invalid state: {state}\")\n",
    "        return state\n",
    "    \n",
    "    class Config:\n",
    "        schema_extra = {\n",
    "            \"example\": {\n",
    "                \"city\": \"Sevilla\",\n",
    "                \"state\": \"Andalucía\",\n",
    "                \"country\": \"España\"\n",
    "            },\n",
    "        }\n",
    "\n",
    "@app.get(\"/\")\n",
    "def home():\n",
    "    return {\"Hello\": \"World\"}\n",
    "\n",
    "# Request and Response body\n",
    "@app.post(\"/user/new\")\n",
    "def new_user(\n",
    "    user: User = Body(...), \n",
    "    location: Location = Body(...)\n",
    "):\n",
    "    resutl = user.dict()\n",
    "    resutl.update(location.dict())\n",
    "    return resutl\n",
    "\n",
    "# Validaciones de los query parameters\n",
    "@app.get(\"/user/detail\")\n",
    "def user_show_detail(\n",
    "    name: Optional[str] = Query(\n",
    "        None, \n",
    "        min_length=1, \n",
    "        max_length=50,\n",
    "        title=\"User name\",\n",
    "        description=\"This is the user name. It's between 1 and 50 characters\",\n",
    "        example=\"Mariano\"\n",
    "        ),\n",
    "    age: Optional[int] = Query(\n",
    "        None, \n",
    "        gt=0, \n",
    "        le=100,\n",
    "        title=\"User age\",\n",
    "        description=\"This is the user age. It's between 1 and 100\",\n",
    "        example=30\n",
    "        )\n",
    "):\n",
    "    return {\"name\": name, \"age\": age}\n",
    "\n",
    "# Validaciones de los path parameters\n",
    "@app.get(\"/user/detail/{user_id}\")\n",
    "def user_show_detail(\n",
    "    user_id: int = Path(\n",
    "        ..., \n",
    "        gt=0, \n",
    "        le=100,\n",
    "        title=\"User ID\",\n",
    "        description=\"This is the user ID. It's between 1 and 100\",\n",
    "        example=1\n",
    "        )\n",
    "):\n",
    "    return {\"user_id\": user_id}"
   ]
  },
  {
   "attachments": {},
   "cell_type": "markdown",
   "metadata": {},
   "source": [
    "## Response Model"
   ]
  },
  {
   "attachments": {},
   "cell_type": "markdown",
   "metadata": {},
   "source": [
    "Al código anterior vamos a añadirle a la clase `User` el atributo `password`"
   ]
  },
  {
   "cell_type": "code",
   "execution_count": 4,
   "metadata": {},
   "outputs": [
    {
     "name": "stdout",
     "output_type": "stream",
     "text": [
      "Overwriting FastAPI/hello_world.py\n"
     ]
    }
   ],
   "source": [
    "%%writefile FastAPI/hello_world.py\n",
    "\n",
    "from typing import Optional\n",
    "from pydantic import BaseModel\n",
    "from pydantic import Field\n",
    "from pydantic import validator\n",
    "from enum import Enum\n",
    "from fastapi import FastAPI\n",
    "from fastapi import Body\n",
    "from fastapi import Query\n",
    "from fastapi import Path\n",
    "\n",
    "app = FastAPI()\n",
    "\n",
    "class ComunidadAutonoma(str, Enum):\n",
    "    Andalucía = \"Andalucía\"\n",
    "    Aragón = \"Aragón\"\n",
    "    Asturias = \"Asturias\"\n",
    "    Baleares = \"Baleares\"\n",
    "    Canarias = \"Canarias\"\n",
    "    Cantabria = \"Cantabria\"\n",
    "    CastillaLaMancha = \"Castilla-La Mancha\"\n",
    "    CastillaLeon = \"Castilla y León\"\n",
    "    Cataluña = \"Cataluña\"\n",
    "    Ceuta = \"Ceuta\"\n",
    "    Extremadura = \"Extremadura\"\n",
    "    Galicia = \"Galicia\"\n",
    "    Madrid = \"Madrid\"\n",
    "    Melilla = \"Melilla\"\n",
    "    Murcia = \"Murcia\"\n",
    "    Navarra = \"Navarra\"\n",
    "    PaisVasco = \"País Vasco\"\n",
    "    LaRioja = \"La Rioja\"\n",
    "    Valencia = \"Valencia\"\n",
    "\n",
    "class User(BaseModel):\n",
    "    name: str = Field(..., min_length=1, max_length=50) # Required\n",
    "    age: int = Field(..., gt=0, le=100) # Required\n",
    "    email: Optional[str] = Field(None) # Optional\n",
    "    password: str = Field(..., min_length=8, max_length=50) # Required\n",
    "\n",
    "    class Config:\n",
    "        schema_extra = {\n",
    "            \"example\": {\n",
    "                \"name\": \"Mariano\",\n",
    "                \"age\": 30,\n",
    "                \"email\": \"mariano@email.com\",\n",
    "                \"password\": \"12345678\"\n",
    "            },\n",
    "        }\n",
    "\n",
    "class Location(BaseModel):\n",
    "    city: str = Field(..., min_length=1, max_length=50) # Required\n",
    "    state: ComunidadAutonoma = Field(..., min_length=1, max_length=50) # Required\n",
    "    country: str = Field(..., min_length=1, max_length=50) # Required\n",
    "\n",
    "    @validator(\"state\", pre=True)\n",
    "    def validate_state(cls, state):\n",
    "        if state not in ComunidadAutonoma._member_names_:\n",
    "            raise ValueError(f\"Invalid state: {state}\")\n",
    "        return state\n",
    "    \n",
    "    class Config:\n",
    "        schema_extra = {\n",
    "            \"example\": {\n",
    "                \"city\": \"Sevilla\",\n",
    "                \"state\": \"Andalucía\",\n",
    "                \"country\": \"España\"\n",
    "            },\n",
    "        }\n",
    "\n",
    "@app.get(\"/\")\n",
    "def home():\n",
    "    return {\"Hello\": \"World\"}\n",
    "\n",
    "# Request and Response body\n",
    "@app.post(\"/user/new\")\n",
    "def new_user(\n",
    "    user: User = Body(...), \n",
    "    location: Location = Body(...)\n",
    "):\n",
    "    resutl = user.dict()\n",
    "    resutl.update(location.dict())\n",
    "    return resutl\n",
    "\n",
    "# Validaciones de los query parameters\n",
    "@app.get(\"/user/detail\")\n",
    "def user_show_detail(\n",
    "    name: Optional[str] = Query(\n",
    "        None, \n",
    "        min_length=1, \n",
    "        max_length=50,\n",
    "        title=\"User name\",\n",
    "        description=\"This is the user name. It's between 1 and 50 characters\",\n",
    "        example=\"Mariano\"\n",
    "        ),\n",
    "    age: Optional[int] = Query(\n",
    "        None, \n",
    "        gt=0, \n",
    "        le=100,\n",
    "        title=\"User age\",\n",
    "        description=\"This is the user age. It's between 1 and 100\",\n",
    "        example=30\n",
    "        )\n",
    "):\n",
    "    return {\"name\": name, \"age\": age}\n",
    "\n",
    "# Validaciones de los path parameters\n",
    "@app.get(\"/user/detail/{user_id}\")\n",
    "def user_show_detail(\n",
    "    user_id: int = Path(\n",
    "        ..., \n",
    "        gt=0, \n",
    "        le=100,\n",
    "        title=\"User ID\",\n",
    "        description=\"This is the user ID. It's between 1 and 100\",\n",
    "        example=1\n",
    "        )\n",
    "):\n",
    "    return {\"user_id\": user_id}"
   ]
  },
  {
   "attachments": {},
   "cell_type": "markdown",
   "metadata": {},
   "source": [
    "Pero ¿qué pasa si hacemos un `POST` para añadir un nuevo usuario con su contraseña? Levantamos la API"
   ]
  },
  {
   "cell_type": "code",
   "execution_count": 3,
   "metadata": {},
   "outputs": [
    {
     "name": "stdout",
     "output_type": "stream",
     "text": [
      "\u001b[32mINFO\u001b[0m:     Will watch for changes in these directories: ['/home/wallabot/Documentos/web/portafolio/posts']\n",
      "\u001b[32mINFO\u001b[0m:     Uvicorn running on \u001b[1mhttp://127.0.0.1:8000\u001b[0m (Press CTRL+C to quit)\n",
      "\u001b[32mINFO\u001b[0m:     Started reloader process [\u001b[36m\u001b[1m17515\u001b[0m] using \u001b[36m\u001b[1mStatReload\u001b[0m\n",
      "\u001b[32mINFO\u001b[0m:     Started server process [\u001b[36m17517\u001b[0m]\n",
      "\u001b[32mINFO\u001b[0m:     Waiting for application startup.\n",
      "\u001b[32mINFO\u001b[0m:     Application startup complete.\n"
     ]
    }
   ],
   "source": [
    "!uvicorn FastAPI.hello_world:app --reload"
   ]
  },
  {
   "attachments": {},
   "cell_type": "markdown",
   "metadata": {},
   "source": [
    "Hacemos el `POST`"
   ]
  },
  {
   "cell_type": "code",
   "execution_count": 6,
   "metadata": {},
   "outputs": [
    {
     "name": "stdout",
     "output_type": "stream",
     "text": [
      "{\"name\":\"Mariano\",\"age\":30,\"email\":\"mariano@email.com\",\"password\":\"12345678\",\"city\":\"Sevilla\",\"state\":\"Andalucía\",\"country\":\"España\"}"
     ]
    }
   ],
   "source": [
    "!curl -X 'POST' \\\n",
    "  'http://127.0.0.1:8000/user/new' \\\n",
    "  -H 'accept: application/json' \\\n",
    "  -H 'Content-Type: application/json' \\\n",
    "  -d '{\"user\": {\"name\": \"Mariano\", \"age\": 30, \"email\": \"mariano@email.com\", \"password\": \"12345678\"}, \"location\": {\"city\": \"Sevilla\", \"state\": \"Andalucía\", \"country\": \"España\"} }'"
   ]
  },
  {
   "attachments": {},
   "cell_type": "markdown",
   "metadata": {},
   "source": [
    "Si nos fijamos nos está devolviendo el password del usuario, pero esto es muy pelogroso, ya que su password quedaría expuesto.\n",
    "\n",
    "Para evitar esto vamos a crear una nueva clase `UserBasic` que va a ser igual que lo que era `User` pero sin password. Y vamos a crear la clase `User` que va a heredar de `UserBasic` y que va a añadir `password`. Definiremos en el decorador del método `POST` que la clase `UserBasic` será lo que devolvamos en la operación `POST`, así no se devolverá el `password`"
   ]
  },
  {
   "cell_type": "code",
   "execution_count": 9,
   "metadata": {},
   "outputs": [
    {
     "name": "stdout",
     "output_type": "stream",
     "text": [
      "Overwriting FastAPI/hello_world.py\n"
     ]
    }
   ],
   "source": [
    "%%writefile FastAPI/hello_world.py\n",
    "\n",
    "from typing import Optional\n",
    "from pydantic import BaseModel\n",
    "from pydantic import Field\n",
    "from pydantic import validator\n",
    "from enum import Enum\n",
    "from fastapi import FastAPI\n",
    "from fastapi import Body\n",
    "from fastapi import Query\n",
    "from fastapi import Path\n",
    "\n",
    "app = FastAPI()\n",
    "\n",
    "class ComunidadAutonoma(str, Enum):\n",
    "    Andalucía = \"Andalucía\"\n",
    "    Aragón = \"Aragón\"\n",
    "    Asturias = \"Asturias\"\n",
    "    Baleares = \"Baleares\"\n",
    "    Canarias = \"Canarias\"\n",
    "    Cantabria = \"Cantabria\"\n",
    "    CastillaLaMancha = \"Castilla-La Mancha\"\n",
    "    CastillaLeon = \"Castilla y León\"\n",
    "    Cataluña = \"Cataluña\"\n",
    "    Ceuta = \"Ceuta\"\n",
    "    Extremadura = \"Extremadura\"\n",
    "    Galicia = \"Galicia\"\n",
    "    Madrid = \"Madrid\"\n",
    "    Melilla = \"Melilla\"\n",
    "    Murcia = \"Murcia\"\n",
    "    Navarra = \"Navarra\"\n",
    "    PaisVasco = \"País Vasco\"\n",
    "    LaRioja = \"La Rioja\"\n",
    "    Valencia = \"Valencia\"\n",
    "\n",
    "class UserBasic(BaseModel):\n",
    "    name: str = Field(..., min_length=1, max_length=50) # Required\n",
    "    age: int = Field(..., gt=0, le=100) # Required\n",
    "    email: Optional[str] = Field(None) # Optional\n",
    "\n",
    "    class Config:\n",
    "        schema_extra = {\n",
    "            \"example\": {\n",
    "                \"name\": \"Mariano\",\n",
    "                \"age\": 30,\n",
    "                \"email\": \"mariano@email.com\"\n",
    "            },\n",
    "        }\n",
    "\n",
    "class User(UserBasic):\n",
    "    password: str = Field(..., min_length=8, max_length=50) # Required\n",
    "\n",
    "    class Config:\n",
    "        schema_extra = {\n",
    "            \"example\": {\n",
    "                \"name\": \"Mariano\",\n",
    "                \"age\": 30,\n",
    "                \"email\": \"mariano@email.com\",\n",
    "                \"password\": \"12345678\"\n",
    "            },\n",
    "        }\n",
    "\n",
    "class Location(BaseModel):\n",
    "    city: str = Field(..., min_length=1, max_length=50) # Required\n",
    "    state: ComunidadAutonoma = Field(..., min_length=1, max_length=50) # Required\n",
    "    country: str = Field(..., min_length=1, max_length=50) # Required\n",
    "\n",
    "    @validator(\"state\", pre=True)\n",
    "    def validate_state(cls, state):\n",
    "        if state not in ComunidadAutonoma._member_names_:\n",
    "            raise ValueError(f\"Invalid state: {state}\")\n",
    "        return state\n",
    "    \n",
    "    class Config:\n",
    "        schema_extra = {\n",
    "            \"example\": {\n",
    "                \"city\": \"Sevilla\",\n",
    "                \"state\": \"Andalucía\",\n",
    "                \"country\": \"España\"\n",
    "            },\n",
    "        }\n",
    "\n",
    "@app.get(\"/\")\n",
    "def home():\n",
    "    return {\"Hello\": \"World\"}\n",
    "\n",
    "# Request and Response body\n",
    "@app.post(\"/user/new\", response_model=UserBasic)\n",
    "def new_user(\n",
    "    user: User = Body(...), \n",
    "    location: Location = Body(...)\n",
    "):\n",
    "    resutl = user.dict()\n",
    "    resutl.update(location.dict())\n",
    "    return resutl\n",
    "\n",
    "# Validaciones de los query parameters\n",
    "@app.get(\"/user/detail\")\n",
    "def user_show_detail(\n",
    "    name: Optional[str] = Query(\n",
    "        None, \n",
    "        min_length=1, \n",
    "        max_length=50,\n",
    "        title=\"User name\",\n",
    "        description=\"This is the user name. It's between 1 and 50 characters\",\n",
    "        example=\"Mariano\"\n",
    "        ),\n",
    "    age: Optional[int] = Query(\n",
    "        None, \n",
    "        gt=0, \n",
    "        le=100,\n",
    "        title=\"User age\",\n",
    "        description=\"This is the user age. It's between 1 and 100\",\n",
    "        example=30\n",
    "        )\n",
    "):\n",
    "    return {\"name\": name, \"age\": age}\n",
    "\n",
    "# Validaciones de los path parameters\n",
    "@app.get(\"/user/detail/{user_id}\")\n",
    "def user_show_detail(\n",
    "    user_id: int = Path(\n",
    "        ..., \n",
    "        gt=0, \n",
    "        le=100,\n",
    "        title=\"User ID\",\n",
    "        description=\"This is the user ID. It's between 1 and 100\",\n",
    "        example=1\n",
    "        )\n",
    "):\n",
    "    return {\"user_id\": user_id}"
   ]
  },
  {
   "attachments": {},
   "cell_type": "markdown",
   "metadata": {},
   "source": [
    "Levantamos la API"
   ]
  },
  {
   "cell_type": "code",
   "execution_count": null,
   "metadata": {},
   "outputs": [
    {
     "name": "stdout",
     "output_type": "stream",
     "text": [
      "\u001b[32mINFO\u001b[0m:     Will watch for changes in these directories: ['/home/wallabot/Documentos/web/portafolio/posts']\n",
      "\u001b[32mINFO\u001b[0m:     Uvicorn running on \u001b[1mhttp://127.0.0.1:8000\u001b[0m (Press CTRL+C to quit)\n",
      "\u001b[32mINFO\u001b[0m:     Started reloader process [\u001b[36m\u001b[1m17515\u001b[0m] using \u001b[36m\u001b[1mStatReload\u001b[0m\n",
      "\u001b[32mINFO\u001b[0m:     Started server process [\u001b[36m17517\u001b[0m]\n",
      "\u001b[32mINFO\u001b[0m:     Waiting for application startup.\n",
      "\u001b[32mINFO\u001b[0m:     Application startup complete.\n"
     ]
    }
   ],
   "source": [
    "!uvicorn FastAPI.hello_world:app --reload"
   ]
  },
  {
   "attachments": {},
   "cell_type": "markdown",
   "metadata": {},
   "source": [
    "Y hacemos el `POST`"
   ]
  },
  {
   "cell_type": "code",
   "execution_count": 11,
   "metadata": {},
   "outputs": [
    {
     "name": "stdout",
     "output_type": "stream",
     "text": [
      "{\"name\":\"Mariano\",\"age\":30,\"email\":\"mariano@email.com\"}"
     ]
    }
   ],
   "source": [
    "!curl -X 'POST' \\\n",
    "  'http://127.0.0.1:8000/user/new' \\\n",
    "  -H 'accept: application/json' \\\n",
    "  -H 'Content-Type: application/json' \\\n",
    "  -d '{\"user\": {\"name\": \"Mariano\", \"age\": 30, \"email\": \"mariano@email.com\", \"password\": \"12345678\"}, \"location\": {\"city\": \"Sevilla\", \"state\": \"Andalucía\", \"country\": \"España\"} }'"
   ]
  },
  {
   "attachments": {},
   "cell_type": "markdown",
   "metadata": {},
   "source": [
    "Como vemos ahora no nos devuelve ni el `password` ni la clase `Location`"
   ]
  },
  {
   "attachments": {},
   "cell_type": "markdown",
   "metadata": {},
   "source": [
    "## Status code"
   ]
  },
  {
   "attachments": {},
   "cell_type": "markdown",
   "metadata": {},
   "source": [
    "Cuando hacemos un `GET`, un `POST`, etc. Recibimos un código, por ejemplo, si intentamos acceder a una página que no existe recibimos el error 404. A este código se le llama `status code` y los tipos son\n",
    " * Respuestas informativas (100-199)\n",
    " * Respuestas Satisfactorias (200-299)\n",
    " * Redirecciones (300-399)\n",
    " * Errores de los clientes (400-499)\n",
    " * Errores de los servidores (500-599)\n",
    "\n",
    "Así que podemos devolver uno de esos valores en nuestra API, para ello importamos el módulo `status` de la librería `fastapi`"
   ]
  },
  {
   "cell_type": "code",
   "execution_count": 13,
   "metadata": {},
   "outputs": [
    {
     "name": "stdout",
     "output_type": "stream",
     "text": [
      "Overwriting FastAPI/hello_world.py\n"
     ]
    }
   ],
   "source": [
    "%%writefile FastAPI/hello_world.py\n",
    "\n",
    "from typing import Optional\n",
    "from pydantic import BaseModel\n",
    "from pydantic import Field\n",
    "from pydantic import validator\n",
    "from enum import Enum\n",
    "from fastapi import FastAPI\n",
    "from fastapi import Body\n",
    "from fastapi import Query\n",
    "from fastapi import Path\n",
    "from fastapi import status\n",
    "\n",
    "app = FastAPI()\n",
    "\n",
    "class ComunidadAutonoma(str, Enum):\n",
    "    Andalucía = \"Andalucía\"\n",
    "    Aragón = \"Aragón\"\n",
    "    Asturias = \"Asturias\"\n",
    "    Baleares = \"Baleares\"\n",
    "    Canarias = \"Canarias\"\n",
    "    Cantabria = \"Cantabria\"\n",
    "    CastillaLaMancha = \"Castilla-La Mancha\"\n",
    "    CastillaLeon = \"Castilla y León\"\n",
    "    Cataluña = \"Cataluña\"\n",
    "    Ceuta = \"Ceuta\"\n",
    "    Extremadura = \"Extremadura\"\n",
    "    Galicia = \"Galicia\"\n",
    "    Madrid = \"Madrid\"\n",
    "    Melilla = \"Melilla\"\n",
    "    Murcia = \"Murcia\"\n",
    "    Navarra = \"Navarra\"\n",
    "    PaisVasco = \"País Vasco\"\n",
    "    LaRioja = \"La Rioja\"\n",
    "    Valencia = \"Valencia\"\n",
    "\n",
    "class UserBasic(BaseModel):\n",
    "    name: str = Field(..., min_length=1, max_length=50) # Required\n",
    "    age: int = Field(..., gt=0, le=100) # Required\n",
    "    email: Optional[str] = Field(None) # Optional\n",
    "\n",
    "    class Config:\n",
    "        schema_extra = {\n",
    "            \"example\": {\n",
    "                \"name\": \"Mariano\",\n",
    "                \"age\": 30,\n",
    "                \"email\": \"mariano@email.com\"\n",
    "            },\n",
    "        }\n",
    "\n",
    "class User(UserBasic):\n",
    "    password: str = Field(..., min_length=8, max_length=50) # Required\n",
    "\n",
    "    class Config:\n",
    "        schema_extra = {\n",
    "            \"example\": {\n",
    "                \"name\": \"Mariano\",\n",
    "                \"age\": 30,\n",
    "                \"email\": \"mariano@email.com\",\n",
    "                \"password\": \"12345678\"\n",
    "            },\n",
    "        }\n",
    "\n",
    "class Location(BaseModel):\n",
    "    city: str = Field(..., min_length=1, max_length=50) # Required\n",
    "    state: ComunidadAutonoma = Field(..., min_length=1, max_length=50) # Required\n",
    "    country: str = Field(..., min_length=1, max_length=50) # Required\n",
    "\n",
    "    @validator(\"state\", pre=True)\n",
    "    def validate_state(cls, state):\n",
    "        if state not in ComunidadAutonoma._member_names_:\n",
    "            raise ValueError(f\"Invalid state: {state}\")\n",
    "        return state\n",
    "    \n",
    "    class Config:\n",
    "        schema_extra = {\n",
    "            \"example\": {\n",
    "                \"city\": \"Sevilla\",\n",
    "                \"state\": \"Andalucía\",\n",
    "                \"country\": \"España\"\n",
    "            },\n",
    "        }\n",
    "\n",
    "@app.get(\"/\", status_code=status.HTTP_200_OK)\n",
    "def home():\n",
    "    return {\"Hello\": \"World\"}\n",
    "\n",
    "# Request and Response body\n",
    "@app.post(\"/user/new\", response_model=UserBasic, status_code=status.HTTP_201_CREATED)\n",
    "def new_user(\n",
    "    user: User = Body(...), \n",
    "    location: Location = Body(...)\n",
    "):\n",
    "    resutl = user.dict()\n",
    "    resutl.update(location.dict())\n",
    "    return resutl\n",
    "\n",
    "# Validaciones de los query parameters\n",
    "@app.get(\"/user/detail\", status_code=status.HTTP_200_OK)\n",
    "def user_show_detail(\n",
    "    name: Optional[str] = Query(\n",
    "        None, \n",
    "        min_length=1, \n",
    "        max_length=50,\n",
    "        title=\"User name\",\n",
    "        description=\"This is the user name. It's between 1 and 50 characters\",\n",
    "        example=\"Mariano\"\n",
    "        ),\n",
    "    age: Optional[int] = Query(\n",
    "        None, \n",
    "        gt=0, \n",
    "        le=100,\n",
    "        title=\"User age\",\n",
    "        description=\"This is the user age. It's between 1 and 100\",\n",
    "        example=30\n",
    "        )\n",
    "):\n",
    "    return {\"name\": name, \"age\": age}\n",
    "\n",
    "# Validaciones de los path parameters\n",
    "@app.get(\"/user/detail/{user_id}\", status_code=status.HTTP_200_OK)\n",
    "def user_show_detail(\n",
    "    user_id: int = Path(\n",
    "        ..., \n",
    "        gt=0, \n",
    "        le=100,\n",
    "        title=\"User ID\",\n",
    "        description=\"This is the user ID. It's between 1 and 100\",\n",
    "        example=1\n",
    "        )\n",
    "):\n",
    "    return {\"user_id\": user_id}"
   ]
  },
  {
   "attachments": {},
   "cell_type": "markdown",
   "metadata": {},
   "source": [
    "Como vemos en todos los decoradores hemos añadido el código medainte el atributo `status`, vamos a levantar la API"
   ]
  },
  {
   "cell_type": "code",
   "execution_count": null,
   "metadata": {},
   "outputs": [
    {
     "name": "stdout",
     "output_type": "stream",
     "text": [
      "\u001b[32mINFO\u001b[0m:     Will watch for changes in these directories: ['/home/wallabot/Documentos/web/portafolio/posts']\n",
      "\u001b[32mINFO\u001b[0m:     Uvicorn running on \u001b[1mhttp://127.0.0.1:8000\u001b[0m (Press CTRL+C to quit)\n",
      "\u001b[32mINFO\u001b[0m:     Started reloader process [\u001b[36m\u001b[1m17515\u001b[0m] using \u001b[36m\u001b[1mStatReload\u001b[0m\n",
      "\u001b[32mINFO\u001b[0m:     Started server process [\u001b[36m17517\u001b[0m]\n",
      "\u001b[32mINFO\u001b[0m:     Waiting for application startup.\n",
      "\u001b[32mINFO\u001b[0m:     Application startup complete.\n"
     ]
    }
   ],
   "source": [
    "!uvicorn FastAPI.hello_world:app --reload"
   ]
  },
  {
   "attachments": {},
   "cell_type": "markdown",
   "metadata": {},
   "source": [
    "Vamos a hacer una operación para ver el código que obtenemos, para eso añadimos el flag `-i` al `curl`"
   ]
  },
  {
   "cell_type": "code",
   "execution_count": 2,
   "metadata": {},
   "outputs": [
    {
     "name": "stdout",
     "output_type": "stream",
     "text": [
      "HTTP/1.1 201 Created\n",
      "\u001b[1mdate\u001b[0m: Wed, 10 May 2023 14:08:53 GMT\n",
      "\u001b[1mserver\u001b[0m: uvicorn\n",
      "\u001b[1mcontent-length\u001b[0m: 55\n",
      "\u001b[1mcontent-type\u001b[0m: application/json\n",
      "\n",
      "{\"name\":\"Mariano\",\"age\":30,\"email\":\"mariano@email.com\"}"
     ]
    }
   ],
   "source": [
    "!curl -i -X 'POST' \\\n",
    "  'http://127.0.0.1:8000/user/new' \\\n",
    "  -H 'accept: application/json' \\\n",
    "  -H 'Content-Type: application/json' \\\n",
    "  -d '{\"user\": {\"name\": \"Mariano\", \"age\": 30, \"email\": \"mariano@email.com\", \"password\": \"12345678\"}, \"location\": {\"city\": \"Sevilla\", \"state\": \"Andalucía\", \"country\": \"España\"} }'"
   ]
  },
  {
   "attachments": {},
   "cell_type": "markdown",
   "metadata": {},
   "source": [
    "Como vemos hemos recibido un 201, si vemos la definición de la función\n",
    "\n",
    "``` python\n",
    "# Request and Response body\n",
    "@app.post(\"/user/new\", response_model=UserBasic, status_code=status.HTTP_201_CREATED)\n",
    "def new_user(\n",
    "    user: User = Body(...), \n",
    "    location: Location = Body(...)\n",
    "):\n",
    "    resutl = user.dict()\n",
    "    resutl.update(location.dict())\n",
    "    return resutl\n",
    "```\n",
    "\n",
    "Es lo que teníamos que haber recibido"
   ]
  },
  {
   "attachments": {},
   "cell_type": "markdown",
   "metadata": {},
   "source": [
    "## Formularios"
   ]
  },
  {
   "attachments": {},
   "cell_type": "markdown",
   "metadata": {},
   "source": [
    "Para trabajar con formularios, lo primero que tenemos que hacer es instalar el `python-multipart` con el comando `conda install -y -c conda-forge python-multipart`"
   ]
  },
  {
   "cell_type": "code",
   "execution_count": 3,
   "metadata": {},
   "outputs": [
    {
     "name": "stdout",
     "output_type": "stream",
     "text": [
      "Retrieving notices: ...working... done\n",
      "Collecting package metadata (current_repodata.json): done\n",
      "Solving environment: done\n",
      "\n",
      "\n",
      "==> WARNING: A newer version of conda exists. <==\n",
      "  current version: 23.1.0\n",
      "  latest version: 23.3.1\n",
      "\n",
      "Please update conda by running\n",
      "\n",
      "    $ conda update -n base -c conda-forge conda\n",
      "\n",
      "Or to minimize the number of packages updated during conda update use\n",
      "\n",
      "     conda install conda=23.3.1\n",
      "\n",
      "\n",
      "\n",
      "## Package Plan ##\n",
      "\n",
      "  environment location: /home/wallabot/miniconda3/envs/fastapi\n",
      "\n",
      "  added / updated specs:\n",
      "    - python-multipart\n",
      "...\n",
      "Preparing transaction: done\n",
      "Verifying transaction: done\n",
      "Executing transaction: done\n"
     ]
    }
   ],
   "source": [
    "%conda install -y -c conda-forge python-multipart"
   ]
  },
  {
   "attachments": {},
   "cell_type": "markdown",
   "metadata": {},
   "source": [
    "Vamos a crear un nuevo formulario con una operación de tipo `POST`"
   ]
  },
  {
   "cell_type": "code",
   "execution_count": 9,
   "metadata": {},
   "outputs": [
    {
     "name": "stdout",
     "output_type": "stream",
     "text": [
      "Overwriting FastAPI/hello_world.py\n"
     ]
    }
   ],
   "source": [
    "%%writefile FastAPI/hello_world.py\n",
    "\n",
    "from typing import Optional\n",
    "from pydantic import BaseModel\n",
    "from pydantic import Field\n",
    "from pydantic import validator\n",
    "from enum import Enum\n",
    "from fastapi import FastAPI\n",
    "from fastapi import Body\n",
    "from fastapi import Query\n",
    "from fastapi import Path\n",
    "from fastapi import status\n",
    "from fastapi import Form\n",
    "\n",
    "app = FastAPI()\n",
    "\n",
    "class ComunidadAutonoma(str, Enum):\n",
    "    Andalucía = \"Andalucía\"\n",
    "    Aragón = \"Aragón\"\n",
    "    Asturias = \"Asturias\"\n",
    "    Baleares = \"Baleares\"\n",
    "    Canarias = \"Canarias\"\n",
    "    Cantabria = \"Cantabria\"\n",
    "    CastillaLaMancha = \"Castilla-La Mancha\"\n",
    "    CastillaLeon = \"Castilla y León\"\n",
    "    Cataluña = \"Cataluña\"\n",
    "    Ceuta = \"Ceuta\"\n",
    "    Extremadura = \"Extremadura\"\n",
    "    Galicia = \"Galicia\"\n",
    "    Madrid = \"Madrid\"\n",
    "    Melilla = \"Melilla\"\n",
    "    Murcia = \"Murcia\"\n",
    "    Navarra = \"Navarra\"\n",
    "    PaisVasco = \"País Vasco\"\n",
    "    LaRioja = \"La Rioja\"\n",
    "    Valencia = \"Valencia\"\n",
    "\n",
    "class UserBasic(BaseModel):\n",
    "    name: str = Field(..., min_length=1, max_length=50) # Required\n",
    "    age: int = Field(..., gt=0, le=100) # Required\n",
    "    email: Optional[str] = Field(None) # Optional\n",
    "\n",
    "    class Config:\n",
    "        schema_extra = {\n",
    "            \"example\": {\n",
    "                \"name\": \"Mariano\",\n",
    "                \"age\": 30,\n",
    "                \"email\": \"mariano@email.com\"\n",
    "            },\n",
    "        }\n",
    "\n",
    "class User(UserBasic):\n",
    "    password: str = Field(..., min_length=8, max_length=50) # Required\n",
    "\n",
    "    class Config:\n",
    "        schema_extra = {\n",
    "            \"example\": {\n",
    "                \"name\": \"Mariano\",\n",
    "                \"age\": 30,\n",
    "                \"email\": \"mariano@email.com\",\n",
    "                \"password\": \"12345678\"\n",
    "            },\n",
    "        }\n",
    "\n",
    "class Location(BaseModel):\n",
    "    city: str = Field(..., min_length=1, max_length=50) # Required\n",
    "    state: ComunidadAutonoma = Field(..., min_length=1, max_length=50) # Required\n",
    "    country: str = Field(..., min_length=1, max_length=50) # Required\n",
    "\n",
    "    @validator(\"state\", pre=True)\n",
    "    def validate_state(cls, state):\n",
    "        if state not in ComunidadAutonoma._member_names_:\n",
    "            raise ValueError(f\"Invalid state: {state}\")\n",
    "        return state\n",
    "    \n",
    "    class Config:\n",
    "        schema_extra = {\n",
    "            \"example\": {\n",
    "                \"city\": \"Sevilla\",\n",
    "                \"state\": \"Andalucía\",\n",
    "                \"country\": \"España\"\n",
    "            },\n",
    "        }\n",
    "    \n",
    "class LoginOut(BaseModel):\n",
    "    username: str = Field(..., min_length=1, max_length=50) # Required\n",
    "    message: str = Field(min_length=1, max_length=50) # Required\n",
    "\n",
    "    class Config:\n",
    "        schema_extra = {\n",
    "            \"example\": {\n",
    "                \"username\": \"Mariano\",\n",
    "                \"message\": \"Login successful\"\n",
    "            },\n",
    "        }\n",
    "\n",
    "@app.get(\"/\", status_code=status.HTTP_200_OK)\n",
    "def home():\n",
    "    return {\"Hello\": \"World\"}\n",
    "\n",
    "# Request and Response body\n",
    "@app.post(\"/user/new\", response_model=UserBasic, status_code=status.HTTP_201_CREATED)\n",
    "def new_user(\n",
    "    user: User = Body(...), \n",
    "    location: Location = Body(...)\n",
    "):\n",
    "    resutl = user.dict()\n",
    "    resutl.update(location.dict())\n",
    "    return resutl\n",
    "\n",
    "# Validaciones de los query parameters\n",
    "@app.get(\"/user/detail\", status_code=status.HTTP_200_OK)\n",
    "def user_show_detail(\n",
    "    name: Optional[str] = Query(\n",
    "        None, \n",
    "        min_length=1, \n",
    "        max_length=50,\n",
    "        title=\"User name\",\n",
    "        description=\"This is the user name. It's between 1 and 50 characters\",\n",
    "        example=\"Mariano\"\n",
    "        ),\n",
    "    age: Optional[int] = Query(\n",
    "        None, \n",
    "        gt=0, \n",
    "        le=100,\n",
    "        title=\"User age\",\n",
    "        description=\"This is the user age. It's between 1 and 100\",\n",
    "        example=30\n",
    "        )\n",
    "):\n",
    "    return {\"name\": name, \"age\": age}\n",
    "\n",
    "# Validaciones de los path parameters\n",
    "@app.get(\"/user/detail/{user_id}\", status_code=status.HTTP_200_OK)\n",
    "def user_show_detail(\n",
    "    user_id: int = Path(\n",
    "        ..., \n",
    "        gt=0, \n",
    "        le=100,\n",
    "        title=\"User ID\",\n",
    "        description=\"This is the user ID. It's between 1 and 100\",\n",
    "        example=1\n",
    "        )\n",
    "):\n",
    "    return {\"user_id\": user_id}\n",
    "\n",
    "# Formulario\n",
    "@app.post(\"/user/new/form\", status_code=status.HTTP_201_CREATED, response_model=LoginOut)\n",
    "def new_user_form(username: str=Form(...), password: str=Form(...)):\n",
    "    return LoginOut(username=username, message=\"Login successful\")"
   ]
  },
  {
   "attachments": {},
   "cell_type": "markdown",
   "metadata": {},
   "source": [
    "Primero importamos la clase `Form` de `fastapi`\n",
    "\n",
    "``` python\n",
    "from fastapi import Form\n",
    "```"
   ]
  },
  {
   "attachments": {},
   "cell_type": "markdown",
   "metadata": {},
   "source": [
    "Ahora creamos la clase que se devolverá al hacer un `POST` a la nueva ruta que vamos a crear para hacer un formulario\n",
    "\n",
    "``` python\n",
    "class LoginOut(BaseModel):\n",
    "    username: str = Field(..., min_length=1, max_length=50) # Required\n",
    "    message: str = Field(min_length=1, max_length=50) # Required\n",
    "\n",
    "    class Config:\n",
    "        schema_extra = {\n",
    "            \"example\": {\n",
    "                \"username\": \"Mariano\",\n",
    "                \"message\": \"Login successful\"\n",
    "            },\n",
    "        }\n",
    "```"
   ]
  },
  {
   "attachments": {},
   "cell_type": "markdown",
   "metadata": {},
   "source": [
    "Y por último creamos la función para el `POST` con el formulario\n",
    "\n",
    "``` python\n",
    "# Formulario\n",
    "@app.post(\"/user/new/form\", status_code=status.HTTP_201_CREATED, response_model=LoginOut)\n",
    "def new_user_form(username: str=Form(...), password: str=Form(...)):\n",
    "    return LoginOut(username=username, message=\"Login successful\")\n",
    "```"
   ]
  },
  {
   "attachments": {},
   "cell_type": "markdown",
   "metadata": {},
   "source": [
    "Levantamos la API"
   ]
  },
  {
   "cell_type": "code",
   "execution_count": null,
   "metadata": {},
   "outputs": [
    {
     "name": "stdout",
     "output_type": "stream",
     "text": [
      "\u001b[32mINFO\u001b[0m:     Will watch for changes in these directories: ['/home/wallabot/Documentos/web/portafolio/posts']\n",
      "\u001b[32mINFO\u001b[0m:     Uvicorn running on \u001b[1mhttp://127.0.0.1:8000\u001b[0m (Press CTRL+C to quit)\n",
      "\u001b[32mINFO\u001b[0m:     Started reloader process [\u001b[36m\u001b[1m17515\u001b[0m] using \u001b[36m\u001b[1mStatReload\u001b[0m\n",
      "\u001b[32mINFO\u001b[0m:     Started server process [\u001b[36m17517\u001b[0m]\n",
      "\u001b[32mINFO\u001b[0m:     Waiting for application startup.\n",
      "\u001b[32mINFO\u001b[0m:     Application startup complete.\n"
     ]
    }
   ],
   "source": [
    "!uvicorn FastAPI.hello_world:app --reload"
   ]
  },
  {
   "attachments": {},
   "cell_type": "markdown",
   "metadata": {},
   "source": [
    "Y hacemos el `POST`"
   ]
  },
  {
   "cell_type": "code",
   "execution_count": 11,
   "metadata": {},
   "outputs": [
    {
     "name": "stdout",
     "output_type": "stream",
     "text": [
      "{\"username\":\"mariano\",\"message\":\"Login successful\"}"
     ]
    }
   ],
   "source": [
    "!curl -X 'POST' \\\n",
    "  'http://127.0.0.1:8000/user/new/form' \\\n",
    "  -H 'accept: application/json' \\\n",
    "  -H 'Content-Type: application/x-www-form-urlencoded' \\\n",
    "  -d 'username=mariano&password=1234'"
   ]
  },
  {
   "attachments": {},
   "cell_type": "markdown",
   "metadata": {},
   "source": [
    "## Cokie and Header parameters"
   ]
  },
  {
   "attachments": {},
   "cell_type": "markdown",
   "metadata": {},
   "source": [
    "Vamos a realizar un formulario de contacto en el que el usuario, entre otras cosas nos tiene que dat su email. Así que para ello instalamos una librería que nos sirve para comprobar dicho email"
   ]
  },
  {
   "cell_type": "code",
   "execution_count": 3,
   "metadata": {},
   "outputs": [
    {
     "name": "stdout",
     "output_type": "stream",
     "text": [
      "Retrieving notices: ...working... done\n",
      "Collecting package metadata (current_repodata.json): done\n",
      "Solving environment: done\n",
      "\n",
      "\n",
      "## Package Plan ##\n",
      "\n",
      "  environment location: /home/wallabot/miniconda3/envs/fastapi\n",
      "\n",
      "  added / updated specs:\n",
      "    - email_validator\n",
      "...\n",
      "Preparing transaction: done\n",
      "Verifying transaction: done\n",
      "Executing transaction: done\n",
      "\n",
      "Note: you may need to restart the kernel to use updated packages.\n"
     ]
    }
   ],
   "source": [
    "%conda install -c conda-forge email_validator"
   ]
  },
  {
   "cell_type": "code",
   "execution_count": 8,
   "metadata": {},
   "outputs": [
    {
     "name": "stdout",
     "output_type": "stream",
     "text": [
      "Overwriting FastAPI/hello_world.py\n"
     ]
    }
   ],
   "source": [
    "%%writefile FastAPI/hello_world.py\n",
    "\n",
    "from typing import Optional\n",
    "from pydantic import BaseModel\n",
    "from pydantic import Field\n",
    "from pydantic import validator\n",
    "from pydantic import EmailStr\n",
    "from enum import Enum\n",
    "from fastapi import FastAPI\n",
    "from fastapi import Body\n",
    "from fastapi import Query\n",
    "from fastapi import Path\n",
    "from fastapi import status\n",
    "from fastapi import Form\n",
    "from fastapi import Cookie, Header\n",
    "\n",
    "app = FastAPI()\n",
    "\n",
    "class ComunidadAutonoma(str, Enum):\n",
    "    Andalucía = \"Andalucía\"\n",
    "    Aragón = \"Aragón\"\n",
    "    Asturias = \"Asturias\"\n",
    "    Baleares = \"Baleares\"\n",
    "    Canarias = \"Canarias\"\n",
    "    Cantabria = \"Cantabria\"\n",
    "    CastillaLaMancha = \"Castilla-La Mancha\"\n",
    "    CastillaLeon = \"Castilla y León\"\n",
    "    Cataluña = \"Cataluña\"\n",
    "    Ceuta = \"Ceuta\"\n",
    "    Extremadura = \"Extremadura\"\n",
    "    Galicia = \"Galicia\"\n",
    "    Madrid = \"Madrid\"\n",
    "    Melilla = \"Melilla\"\n",
    "    Murcia = \"Murcia\"\n",
    "    Navarra = \"Navarra\"\n",
    "    PaisVasco = \"País Vasco\"\n",
    "    LaRioja = \"La Rioja\"\n",
    "    Valencia = \"Valencia\"\n",
    "\n",
    "class UserBasic(BaseModel):\n",
    "    name: str = Field(..., min_length=1, max_length=50) # Required\n",
    "    age: int = Field(..., gt=0, le=100) # Required\n",
    "    email: Optional[str] = Field(None) # Optional\n",
    "\n",
    "    class Config:\n",
    "        schema_extra = {\n",
    "            \"example\": {\n",
    "                \"name\": \"Mariano\",\n",
    "                \"age\": 30,\n",
    "                \"email\": \"mariano@email.com\"\n",
    "            },\n",
    "        }\n",
    "\n",
    "class User(UserBasic):\n",
    "    password: str = Field(..., min_length=8, max_length=50) # Required\n",
    "\n",
    "    class Config:\n",
    "        schema_extra = {\n",
    "            \"example\": {\n",
    "                \"name\": \"Mariano\",\n",
    "                \"age\": 30,\n",
    "                \"email\": \"mariano@email.com\",\n",
    "                \"password\": \"12345678\"\n",
    "            },\n",
    "        }\n",
    "\n",
    "class Location(BaseModel):\n",
    "    city: str = Field(..., min_length=1, max_length=50) # Required\n",
    "    state: ComunidadAutonoma = Field(..., min_length=1, max_length=50) # Required\n",
    "    country: str = Field(..., min_length=1, max_length=50) # Required\n",
    "\n",
    "    @validator(\"state\", pre=True)\n",
    "    def validate_state(cls, state):\n",
    "        if state not in ComunidadAutonoma._member_names_:\n",
    "            raise ValueError(f\"Invalid state: {state}\")\n",
    "        return state\n",
    "    \n",
    "    class Config:\n",
    "        schema_extra = {\n",
    "            \"example\": {\n",
    "                \"city\": \"Sevilla\",\n",
    "                \"state\": \"Andalucía\",\n",
    "                \"country\": \"España\"\n",
    "            },\n",
    "        }\n",
    "    \n",
    "class LoginOut(BaseModel):\n",
    "    username: str = Field(..., min_length=1, max_length=50) # Required\n",
    "    message: str = Field(min_length=1, max_length=50) # Required\n",
    "\n",
    "    class Config:\n",
    "        schema_extra = {\n",
    "            \"example\": {\n",
    "                \"username\": \"Mariano\",\n",
    "                \"message\": \"Login successful\"\n",
    "            },\n",
    "        }\n",
    "\n",
    "@app.get(\"/\", status_code=status.HTTP_200_OK)\n",
    "def home():\n",
    "    return {\"Hello\": \"World\"}\n",
    "\n",
    "# Request and Response body\n",
    "@app.post(\"/user/new\", response_model=UserBasic, status_code=status.HTTP_201_CREATED)\n",
    "def new_user(\n",
    "    user: User = Body(...), \n",
    "    location: Location = Body(...)\n",
    "):\n",
    "    resutl = user.dict()\n",
    "    resutl.update(location.dict())\n",
    "    return resutl\n",
    "\n",
    "# Validaciones de los query parameters\n",
    "@app.get(\"/user/detail\", status_code=status.HTTP_200_OK)\n",
    "def user_show_detail(\n",
    "    name: Optional[str] = Query(\n",
    "        None, \n",
    "        min_length=1, \n",
    "        max_length=50,\n",
    "        title=\"User name\",\n",
    "        description=\"This is the user name. It's between 1 and 50 characters\",\n",
    "        example=\"Mariano\"\n",
    "        ),\n",
    "    age: Optional[int] = Query(\n",
    "        None, \n",
    "        gt=0, \n",
    "        le=100,\n",
    "        title=\"User age\",\n",
    "        description=\"This is the user age. It's between 1 and 100\",\n",
    "        example=30\n",
    "        )\n",
    "):\n",
    "    return {\"name\": name, \"age\": age}\n",
    "\n",
    "# Validaciones de los path parameters\n",
    "@app.get(\"/user/detail/{user_id}\", status_code=status.HTTP_200_OK)\n",
    "def user_show_detail(\n",
    "    user_id: int = Path(\n",
    "        ..., \n",
    "        gt=0, \n",
    "        le=100,\n",
    "        title=\"User ID\",\n",
    "        description=\"This is the user ID. It's between 1 and 100\",\n",
    "        example=1\n",
    "        )\n",
    "):\n",
    "    return {\"user_id\": user_id}\n",
    "\n",
    "# Formulario\n",
    "@app.post(\"/user/new/form\", status_code=status.HTTP_201_CREATED, response_model=LoginOut)\n",
    "def new_user_form(username: str=Form(...), password: str=Form(...)):\n",
    "    return LoginOut(username=username, message=\"Login successful\")\n",
    "\n",
    "# Cookies y Headers\n",
    "@app.post(\"/contact\", status_code=status.HTTP_200_OK)\n",
    "def contact(\n",
    "    name: str = Form(..., min_length=1, max_length=50),\n",
    "    lastname: str = Form(min_length=1, max_length=50),\n",
    "    email: EmailStr = Form(...),\n",
    "    phone: str = Form(...),\n",
    "    message: str = Form(..., min_length=1, max_length=500),\n",
    "    user_agent: Optional[str] = Header(None),\n",
    "    ads: Optional[str] = Cookie(None)\n",
    "):\n",
    "    return {\n",
    "        \"name\": name,\n",
    "        \"lastname\": lastname,\n",
    "        \"email\": email,\n",
    "        \"phone\": phone,\n",
    "        \"message\": message,\n",
    "        \"user_agent\": user_agent,\n",
    "        \"ads\": ads\n",
    "    }\n"
   ]
  },
  {
   "attachments": {},
   "cell_type": "markdown",
   "metadata": {},
   "source": [
    "Con la linea\n",
    "\n",
    "``` python\n",
    "from pydantic import EmailStr\n",
    "```\n",
    "\n",
    "importamos la librería para poder validar un email que nos introduzca un usuario"
   ]
  },
  {
   "attachments": {},
   "cell_type": "markdown",
   "metadata": {},
   "source": [
    "Con la línea\n",
    "\n",
    "``` python\n",
    "from fastapi import Cookie, Header\n",
    "```\n",
    "\n",
    "Importamos las librerías para las cookies y el header"
   ]
  },
  {
   "attachments": {},
   "cell_type": "markdown",
   "metadata": {},
   "source": [
    "Con el bloque\n",
    "\n",
    "``` python\n",
    "# Cookies y Headers\n",
    "@app.post(\"/contact\", status_code=status.HTTP_200_OK)\n",
    "def contact(\n",
    "    name: str = Form(..., min_length=1, max_length=50),\n",
    "    lastname: str = Form(min_length=1, max_length=50),\n",
    "    email: EmailStr = Form(...),\n",
    "    phone: str = Form(...),\n",
    "    message: str = Form(..., min_length=1, max_length=500),\n",
    "    user_agent: Optional[str] = Header(None),\n",
    "    ads: Optional[str] = Cookie(None)\n",
    "):\n",
    "    return {\n",
    "        \"name\": name,\n",
    "        \"lastname\": lastname,\n",
    "        \"email\": email,\n",
    "        \"phone\": phone,\n",
    "        \"message\": message,\n",
    "        \"user_agent\": user_agent,\n",
    "        \"ads\": ads\n",
    "    }\n",
    "```\n",
    "\n",
    "Realizamos el formulario de contacto en el que un usuario tiene que meter su nombre, apellido, email, teléfono, un mensage y un `header` y una `cookie`"
   ]
  },
  {
   "attachments": {},
   "cell_type": "markdown",
   "metadata": {},
   "source": [
    "Levantamos la API"
   ]
  },
  {
   "cell_type": "code",
   "execution_count": null,
   "metadata": {},
   "outputs": [
    {
     "name": "stdout",
     "output_type": "stream",
     "text": [
      "\u001b[32mINFO\u001b[0m:     Will watch for changes in these directories: ['/home/wallabot/Documentos/web/portafolio/posts']\n",
      "\u001b[32mINFO\u001b[0m:     Uvicorn running on \u001b[1mhttp://127.0.0.1:8000\u001b[0m (Press CTRL+C to quit)\n",
      "\u001b[32mINFO\u001b[0m:     Started reloader process [\u001b[36m\u001b[1m17515\u001b[0m] using \u001b[36m\u001b[1mStatReload\u001b[0m\n",
      "\u001b[32mINFO\u001b[0m:     Started server process [\u001b[36m17517\u001b[0m]\n",
      "\u001b[32mINFO\u001b[0m:     Waiting for application startup.\n",
      "\u001b[32mINFO\u001b[0m:     Application startup complete.\n"
     ]
    }
   ],
   "source": [
    "!uvicorn FastAPI.hello_world:app --reload"
   ]
  },
  {
   "attachments": {},
   "cell_type": "markdown",
   "metadata": {},
   "source": [
    "Y la probamos"
   ]
  },
  {
   "cell_type": "code",
   "execution_count": 2,
   "metadata": {},
   "outputs": [
    {
     "name": "stdout",
     "output_type": "stream",
     "text": [
      "{\"name\":\"Mariano\",\"lastname\":\"Martinez\",\"email\":\"mariano@email.com\",\"phone\":\"666666666\",\"message\":\"Hola caracola\",\"user_agent\":\"user-agent\",\"ads\":\"ads\"}"
     ]
    }
   ],
   "source": [
    "!curl -X 'POST' \\\n",
    "  'http://127.0.0.1:8000/contact' \\\n",
    "  -H 'accept: application/json' \\\n",
    "  -H 'user-agent: user-agent' \\\n",
    "  -H 'Cookie: ads=ads' \\\n",
    "  -H 'Content-Type: application/x-www-form-urlencoded' \\\n",
    "  -d 'name=Mariano&lastname=Martinez&email=mariano%40email.com&phone=666666666&message=Hola%20caracola'"
   ]
  },
  {
   "attachments": {},
   "cell_type": "markdown",
   "metadata": {},
   "source": [
    "## Files"
   ]
  },
  {
   "attachments": {},
   "cell_type": "markdown",
   "metadata": {},
   "source": [
    "Vamos a crear una `POST` operation para subir una imagen"
   ]
  },
  {
   "cell_type": "code",
   "execution_count": 9,
   "metadata": {},
   "outputs": [
    {
     "name": "stdout",
     "output_type": "stream",
     "text": [
      "Overwriting FastAPI/hello_world.py\n"
     ]
    }
   ],
   "source": [
    "%%writefile FastAPI/hello_world.py\n",
    "\n",
    "from typing import Optional\n",
    "from pydantic import BaseModel\n",
    "from pydantic import Field\n",
    "from pydantic import validator\n",
    "from pydantic import EmailStr\n",
    "from enum import Enum\n",
    "from fastapi import FastAPI\n",
    "from fastapi import Body\n",
    "from fastapi import Query\n",
    "from fastapi import Path\n",
    "from fastapi import status\n",
    "from fastapi import Form\n",
    "from fastapi import Cookie, Header\n",
    "from fastapi import UploadFile, File\n",
    "\n",
    "app = FastAPI()\n",
    "\n",
    "class ComunidadAutonoma(str, Enum):\n",
    "    Andalucía = \"Andalucía\"\n",
    "    Aragón = \"Aragón\"\n",
    "    Asturias = \"Asturias\"\n",
    "    Baleares = \"Baleares\"\n",
    "    Canarias = \"Canarias\"\n",
    "    Cantabria = \"Cantabria\"\n",
    "    CastillaLaMancha = \"Castilla-La Mancha\"\n",
    "    CastillaLeon = \"Castilla y León\"\n",
    "    Cataluña = \"Cataluña\"\n",
    "    Ceuta = \"Ceuta\"\n",
    "    Extremadura = \"Extremadura\"\n",
    "    Galicia = \"Galicia\"\n",
    "    Madrid = \"Madrid\"\n",
    "    Melilla = \"Melilla\"\n",
    "    Murcia = \"Murcia\"\n",
    "    Navarra = \"Navarra\"\n",
    "    PaisVasco = \"País Vasco\"\n",
    "    LaRioja = \"La Rioja\"\n",
    "    Valencia = \"Valencia\"\n",
    "\n",
    "class UserBasic(BaseModel):\n",
    "    name: str = Field(..., min_length=1, max_length=50) # Required\n",
    "    age: int = Field(..., gt=0, le=100) # Required\n",
    "    email: Optional[str] = Field(None) # Optional\n",
    "\n",
    "    class Config:\n",
    "        schema_extra = {\n",
    "            \"example\": {\n",
    "                \"name\": \"Mariano\",\n",
    "                \"age\": 30,\n",
    "                \"email\": \"mariano@email.com\"\n",
    "            },\n",
    "        }\n",
    "\n",
    "class User(UserBasic):\n",
    "    password: str = Field(..., min_length=8, max_length=50) # Required\n",
    "\n",
    "    class Config:\n",
    "        schema_extra = {\n",
    "            \"example\": {\n",
    "                \"name\": \"Mariano\",\n",
    "                \"age\": 30,\n",
    "                \"email\": \"mariano@email.com\",\n",
    "                \"password\": \"12345678\"\n",
    "            },\n",
    "        }\n",
    "\n",
    "class Location(BaseModel):\n",
    "    city: str = Field(..., min_length=1, max_length=50) # Required\n",
    "    state: ComunidadAutonoma = Field(..., min_length=1, max_length=50) # Required\n",
    "    country: str = Field(..., min_length=1, max_length=50) # Required\n",
    "\n",
    "    @validator(\"state\", pre=True)\n",
    "    def validate_state(cls, state):\n",
    "        if state not in ComunidadAutonoma._member_names_:\n",
    "            raise ValueError(f\"Invalid state: {state}\")\n",
    "        return state\n",
    "    \n",
    "    class Config:\n",
    "        schema_extra = {\n",
    "            \"example\": {\n",
    "                \"city\": \"Sevilla\",\n",
    "                \"state\": \"Andalucía\",\n",
    "                \"country\": \"España\"\n",
    "            },\n",
    "        }\n",
    "    \n",
    "class LoginOut(BaseModel):\n",
    "    username: str = Field(..., min_length=1, max_length=50) # Required\n",
    "    message: str = Field(min_length=1, max_length=50) # Required\n",
    "\n",
    "    class Config:\n",
    "        schema_extra = {\n",
    "            \"example\": {\n",
    "                \"username\": \"Mariano\",\n",
    "                \"message\": \"Login successful\"\n",
    "            },\n",
    "        }\n",
    "\n",
    "@app.get(\"/\", status_code=status.HTTP_200_OK)\n",
    "def home():\n",
    "    return {\"Hello\": \"World\"}\n",
    "\n",
    "# Request and Response body\n",
    "@app.post(\"/user/new\", response_model=UserBasic, status_code=status.HTTP_201_CREATED)\n",
    "def new_user(\n",
    "    user: User = Body(...), \n",
    "    location: Location = Body(...)\n",
    "):\n",
    "    resutl = user.dict()\n",
    "    resutl.update(location.dict())\n",
    "    return resutl\n",
    "\n",
    "# Validaciones de los query parameters\n",
    "@app.get(\"/user/detail\", status_code=status.HTTP_200_OK)\n",
    "def user_show_detail(\n",
    "    name: Optional[str] = Query(\n",
    "        None, \n",
    "        min_length=1, \n",
    "        max_length=50,\n",
    "        title=\"User name\",\n",
    "        description=\"This is the user name. It's between 1 and 50 characters\",\n",
    "        example=\"Mariano\"\n",
    "        ),\n",
    "    age: Optional[int] = Query(\n",
    "        None, \n",
    "        gt=0, \n",
    "        le=100,\n",
    "        title=\"User age\",\n",
    "        description=\"This is the user age. It's between 1 and 100\",\n",
    "        example=30\n",
    "        )\n",
    "):\n",
    "    return {\"name\": name, \"age\": age}\n",
    "\n",
    "# Validaciones de los path parameters\n",
    "@app.get(\"/user/detail/{user_id}\", status_code=status.HTTP_200_OK)\n",
    "def user_show_detail(\n",
    "    user_id: int = Path(\n",
    "        ..., \n",
    "        gt=0, \n",
    "        le=100,\n",
    "        title=\"User ID\",\n",
    "        description=\"This is the user ID. It's between 1 and 100\",\n",
    "        example=1\n",
    "        )\n",
    "):\n",
    "    return {\"user_id\": user_id}\n",
    "\n",
    "# Formulario\n",
    "@app.post(\"/user/new/form\", status_code=status.HTTP_201_CREATED, response_model=LoginOut)\n",
    "def new_user_form(username: str=Form(...), password: str=Form(...)):\n",
    "    return LoginOut(username=username, message=\"Login successful\")\n",
    "\n",
    "# Cookies y Headers\n",
    "@app.post(\"/contact\", status_code=status.HTTP_200_OK)\n",
    "def contact(\n",
    "    name: str = Form(..., min_length=1, max_length=50),\n",
    "    lastname: str = Form(min_length=1, max_length=50),\n",
    "    email: EmailStr = Form(...),\n",
    "    phone: str = Form(...),\n",
    "    message: str = Form(..., min_length=1, max_length=500),\n",
    "    user_agent: Optional[str] = Header(None),\n",
    "    ads: Optional[str] = Cookie(None)\n",
    "):\n",
    "    return {\n",
    "        \"name\": name,\n",
    "        \"lastname\": lastname,\n",
    "        \"email\": email,\n",
    "        \"phone\": phone,\n",
    "        \"message\": message,\n",
    "        \"user_agent\": user_agent,\n",
    "        \"ads\": ads\n",
    "    }\n",
    "\n",
    "# Files\n",
    "@app.post(\"/post-image\", status_code=status.HTTP_200_OK)\n",
    "def post_image(image: UploadFile = File(...)):\n",
    "    return {\n",
    "        \"filename\": image.filename,\n",
    "        \"format\": image.content_type,\n",
    "        \"size\": round(len(image.file.read())/1024, ndigits=2),\n",
    "    }"
   ]
  },
  {
   "attachments": {},
   "cell_type": "markdown",
   "metadata": {},
   "source": [
    "Con la límea\n",
    "\n",
    "``` python\n",
    "from fastapi import UploadFile, File\n",
    "```\n",
    "\n",
    "Importamos las librerías para poder manejar archivos"
   ]
  },
  {
   "attachments": {},
   "cell_type": "markdown",
   "metadata": {},
   "source": [
    "Con el bloque\n",
    "\n",
    "``` python\n",
    "@app.post(\"/post-image\", status_code=status.HTTP_200_OK)\n",
    "def post_image(image: UploadFile = File(...)):\n",
    "    return {\n",
    "        \"filename\": image.filename\n",
    "        \"format\": image.content_type\n",
    "        \"size\": len(image.file.read())\n",
    "    }\n",
    "```\n",
    "\n",
    "Realizamos la operación de subida de la imagen"
   ]
  },
  {
   "attachments": {},
   "cell_type": "markdown",
   "metadata": {},
   "source": [
    "Levantamos la API"
   ]
  },
  {
   "cell_type": "code",
   "execution_count": null,
   "metadata": {},
   "outputs": [
    {
     "name": "stdout",
     "output_type": "stream",
     "text": [
      "\u001b[32mINFO\u001b[0m:     Will watch for changes in these directories: ['/home/wallabot/Documentos/web/portafolio/posts']\n",
      "\u001b[32mINFO\u001b[0m:     Uvicorn running on \u001b[1mhttp://127.0.0.1:8000\u001b[0m (Press CTRL+C to quit)\n",
      "\u001b[32mINFO\u001b[0m:     Started reloader process [\u001b[36m\u001b[1m17515\u001b[0m] using \u001b[36m\u001b[1mStatReload\u001b[0m\n",
      "\u001b[32mINFO\u001b[0m:     Started server process [\u001b[36m17517\u001b[0m]\n",
      "\u001b[32mINFO\u001b[0m:     Waiting for application startup.\n",
      "\u001b[32mINFO\u001b[0m:     Application startup complete.\n"
     ]
    }
   ],
   "source": [
    "!uvicorn FastAPI.hello_world:app --reload"
   ]
  },
  {
   "attachments": {},
   "cell_type": "markdown",
   "metadata": {},
   "source": [
    "Y la probamos"
   ]
  },
  {
   "cell_type": "code",
   "execution_count": 10,
   "metadata": {},
   "outputs": [
    {
     "name": "stdout",
     "output_type": "stream",
     "text": [
      "{\"filename\":\"fastapi_logo.webp\",\"format\":\"image/webp\",\"size\":5.68}"
     ]
    }
   ],
   "source": [
    "!curl -X 'POST' \\\n",
    "  'http://127.0.0.1:8000/post-image' \\\n",
    "  -H 'accept: application/json' \\\n",
    "  -H 'Content-Type: multipart/form-data' \\\n",
    "  -F 'image=@../images/fastapi_logo.webp;type=image/webp'"
   ]
  },
  {
   "attachments": {},
   "cell_type": "markdown",
   "metadata": {},
   "source": [
    "## HTTP Exceptions"
   ]
  },
  {
   "attachments": {},
   "cell_type": "markdown",
   "metadata": {},
   "source": [
    "Vamos a pedir la información de una usuario, pero si el usuario no existe devolveremos un error"
   ]
  },
  {
   "cell_type": "code",
   "execution_count": 1,
   "metadata": {},
   "outputs": [
    {
     "name": "stdout",
     "output_type": "stream",
     "text": [
      "Overwriting FastAPI/hello_world.py\n"
     ]
    }
   ],
   "source": [
    "%%writefile FastAPI/hello_world.py\n",
    "\n",
    "from typing import Optional\n",
    "from pydantic import BaseModel\n",
    "from pydantic import Field\n",
    "from pydantic import validator\n",
    "from pydantic import EmailStr\n",
    "from enum import Enum\n",
    "from fastapi import FastAPI\n",
    "from fastapi import Body\n",
    "from fastapi import Query\n",
    "from fastapi import Path\n",
    "from fastapi import status\n",
    "from fastapi import Form\n",
    "from fastapi import Cookie, Header\n",
    "from fastapi import UploadFile, File\n",
    "from fastapi import HTTPException\n",
    "\n",
    "app = FastAPI()\n",
    "\n",
    "class ComunidadAutonoma(str, Enum):\n",
    "    Andalucía = \"Andalucía\"\n",
    "    Aragón = \"Aragón\"\n",
    "    Asturias = \"Asturias\"\n",
    "    Baleares = \"Baleares\"\n",
    "    Canarias = \"Canarias\"\n",
    "    Cantabria = \"Cantabria\"\n",
    "    CastillaLaMancha = \"Castilla-La Mancha\"\n",
    "    CastillaLeon = \"Castilla y León\"\n",
    "    Cataluña = \"Cataluña\"\n",
    "    Ceuta = \"Ceuta\"\n",
    "    Extremadura = \"Extremadura\"\n",
    "    Galicia = \"Galicia\"\n",
    "    Madrid = \"Madrid\"\n",
    "    Melilla = \"Melilla\"\n",
    "    Murcia = \"Murcia\"\n",
    "    Navarra = \"Navarra\"\n",
    "    PaisVasco = \"País Vasco\"\n",
    "    LaRioja = \"La Rioja\"\n",
    "    Valencia = \"Valencia\"\n",
    "\n",
    "class UserBasic(BaseModel):\n",
    "    name: str = Field(..., min_length=1, max_length=50) # Required\n",
    "    age: int = Field(..., gt=0, le=100) # Required\n",
    "    email: Optional[str] = Field(None) # Optional\n",
    "\n",
    "    class Config:\n",
    "        schema_extra = {\n",
    "            \"example\": {\n",
    "                \"name\": \"Mariano\",\n",
    "                \"age\": 30,\n",
    "                \"email\": \"mariano@email.com\"\n",
    "            },\n",
    "        }\n",
    "\n",
    "class User(UserBasic):\n",
    "    password: str = Field(..., min_length=8, max_length=50) # Required\n",
    "\n",
    "    class Config:\n",
    "        schema_extra = {\n",
    "            \"example\": {\n",
    "                \"name\": \"Mariano\",\n",
    "                \"age\": 30,\n",
    "                \"email\": \"mariano@email.com\",\n",
    "                \"password\": \"12345678\"\n",
    "            },\n",
    "        }\n",
    "\n",
    "class Location(BaseModel):\n",
    "    city: str = Field(..., min_length=1, max_length=50) # Required\n",
    "    state: ComunidadAutonoma = Field(..., min_length=1, max_length=50) # Required\n",
    "    country: str = Field(..., min_length=1, max_length=50) # Required\n",
    "\n",
    "    @validator(\"state\", pre=True)\n",
    "    def validate_state(cls, state):\n",
    "        if state not in ComunidadAutonoma._member_names_:\n",
    "            raise ValueError(f\"Invalid state: {state}\")\n",
    "        return state\n",
    "    \n",
    "    class Config:\n",
    "        schema_extra = {\n",
    "            \"example\": {\n",
    "                \"city\": \"Sevilla\",\n",
    "                \"state\": \"Andalucía\",\n",
    "                \"country\": \"España\"\n",
    "            },\n",
    "        }\n",
    "    \n",
    "class LoginOut(BaseModel):\n",
    "    username: str = Field(..., min_length=1, max_length=50) # Required\n",
    "    message: str = Field(min_length=1, max_length=50) # Required\n",
    "\n",
    "    class Config:\n",
    "        schema_extra = {\n",
    "            \"example\": {\n",
    "                \"username\": \"Mariano\",\n",
    "                \"message\": \"Login successful\"\n",
    "            },\n",
    "        }\n",
    "\n",
    "@app.get(\"/\", status_code=status.HTTP_200_OK)\n",
    "def home():\n",
    "    return {\"Hello\": \"World\"}\n",
    "\n",
    "# Request and Response body\n",
    "@app.post(\"/user/new\", response_model=UserBasic, status_code=status.HTTP_201_CREATED)\n",
    "def new_user(\n",
    "    user: User = Body(...), \n",
    "    location: Location = Body(...)\n",
    "):\n",
    "    resutl = user.dict()\n",
    "    resutl.update(location.dict())\n",
    "    return resutl\n",
    "\n",
    "# Validaciones de los query parameters\n",
    "@app.get(\"/user/detail\", status_code=status.HTTP_200_OK)\n",
    "def user_show_detail(\n",
    "    name: Optional[str] = Query(\n",
    "        None, \n",
    "        min_length=1, \n",
    "        max_length=50,\n",
    "        title=\"User name\",\n",
    "        description=\"This is the user name. It's between 1 and 50 characters\",\n",
    "        example=\"Mariano\"\n",
    "        ),\n",
    "    age: Optional[int] = Query(\n",
    "        None, \n",
    "        gt=0, \n",
    "        le=100,\n",
    "        title=\"User age\",\n",
    "        description=\"This is the user age. It's between 1 and 100\",\n",
    "        example=30\n",
    "        )\n",
    "):\n",
    "    return {\"name\": name, \"age\": age}\n",
    "\n",
    "# Validaciones de los path parameters\n",
    "@app.get(\"/user/detail/{user_id}\", status_code=status.HTTP_200_OK)\n",
    "def user_show_detail(\n",
    "    user_id: int = Path(\n",
    "        ..., \n",
    "        gt=0, \n",
    "        le=100,\n",
    "        title=\"User ID\",\n",
    "        description=\"This is the user ID. It's between 1 and 100\",\n",
    "        example=1\n",
    "        )\n",
    "):\n",
    "    return {\"user_id\": user_id}\n",
    "\n",
    "# Formulario\n",
    "@app.post(\"/user/new/form\", status_code=status.HTTP_201_CREATED, response_model=LoginOut)\n",
    "def new_user_form(username: str=Form(...), password: str=Form(...)):\n",
    "    return LoginOut(username=username, message=\"Login successful\")\n",
    "\n",
    "# Cookies y Headers\n",
    "@app.post(\"/contact\", status_code=status.HTTP_200_OK)\n",
    "def contact(\n",
    "    name: str = Form(..., min_length=1, max_length=50),\n",
    "    lastname: str = Form(min_length=1, max_length=50),\n",
    "    email: EmailStr = Form(...),\n",
    "    phone: str = Form(...),\n",
    "    message: str = Form(..., min_length=1, max_length=500),\n",
    "    user_agent: Optional[str] = Header(None),\n",
    "    ads: Optional[str] = Cookie(None)\n",
    "):\n",
    "    return {\n",
    "        \"name\": name,\n",
    "        \"lastname\": lastname,\n",
    "        \"email\": email,\n",
    "        \"phone\": phone,\n",
    "        \"message\": message,\n",
    "        \"user_agent\": user_agent,\n",
    "        \"ads\": ads\n",
    "    }\n",
    "\n",
    "# Files\n",
    "@app.post(\"/post-image\", status_code=status.HTTP_200_OK)\n",
    "def post_image(image: UploadFile = File(...)):\n",
    "    return {\n",
    "        \"filename\": image.filename,\n",
    "        \"format\": image.content_type,\n",
    "        \"size\": round(len(image.file.read())/1024, ndigits=2),\n",
    "    }\n",
    "\n",
    "# HTTP Exceptions\n",
    "@app.get(\"/user/{user_id}\", status_code=status.HTTP_200_OK)\n",
    "def get_user(user_id: int):\n",
    "    if user_id == 1:\n",
    "        return {\"name\": \"Mariano\", \"age\": 30}\n",
    "    else:\n",
    "        raise HTTPException(status_code=status.HTTP_404_NOT_FOUND, detail=\"User not found\")\n"
   ]
  },
  {
   "attachments": {},
   "cell_type": "markdown",
   "metadata": {},
   "source": [
    "Con la límea\n",
    "\n",
    "``` python\n",
    "from fastapi import HTTPException\n",
    "```\n",
    "\n",
    "Importamos las librerías para poder manejar las excepciones"
   ]
  },
  {
   "attachments": {},
   "cell_type": "markdown",
   "metadata": {},
   "source": [
    "Con el bloque\n",
    "\n",
    "``` python\n",
    "@app.get(\"/user/{user_id}\", status_code=status.HTTP_200_OK)\n",
    "def get_user(user_id: int):\n",
    "    if user_id == 1:\n",
    "        return {\"name\": \"Mariano\", \"age\": 30}\n",
    "    else:\n",
    "        raise HTTPException(status_code=status.HTTP_404_NOT_FOUND, detail=\"User not found\")\n",
    "```\n",
    "\n",
    "Realizamos pedimos la información de un usuario a partir de una ID de usuario. Si el ID no es válido se devuelve un 404"
   ]
  },
  {
   "attachments": {},
   "cell_type": "markdown",
   "metadata": {},
   "source": [
    "Levantamos la API"
   ]
  },
  {
   "cell_type": "code",
   "execution_count": null,
   "metadata": {},
   "outputs": [
    {
     "name": "stdout",
     "output_type": "stream",
     "text": [
      "\u001b[32mINFO\u001b[0m:     Will watch for changes in these directories: ['/home/wallabot/Documentos/web/portafolio/posts']\n",
      "\u001b[32mINFO\u001b[0m:     Uvicorn running on \u001b[1mhttp://127.0.0.1:8000\u001b[0m (Press CTRL+C to quit)\n",
      "\u001b[32mINFO\u001b[0m:     Started reloader process [\u001b[36m\u001b[1m17515\u001b[0m] using \u001b[36m\u001b[1mStatReload\u001b[0m\n",
      "\u001b[32mINFO\u001b[0m:     Started server process [\u001b[36m17517\u001b[0m]\n",
      "\u001b[32mINFO\u001b[0m:     Waiting for application startup.\n",
      "\u001b[32mINFO\u001b[0m:     Application startup complete.\n"
     ]
    }
   ],
   "source": [
    "!uvicorn FastAPI.hello_world:app --reload"
   ]
  },
  {
   "attachments": {},
   "cell_type": "markdown",
   "metadata": {},
   "source": [
    "La provamos enviando un ID válido, como 1"
   ]
  },
  {
   "cell_type": "code",
   "execution_count": 3,
   "metadata": {},
   "outputs": [
    {
     "name": "stdout",
     "output_type": "stream",
     "text": [
      "{\"name\":\"Mariano\",\"age\":30}"
     ]
    }
   ],
   "source": [
    "!curl -X 'GET' \\\n",
    "  'http://127.0.0.1:8000/user/1' \\\n",
    "  -H 'accept: application/json'"
   ]
  },
  {
   "attachments": {},
   "cell_type": "markdown",
   "metadata": {},
   "source": [
    "Ahora la provamos enviando un ID inválido, como 2"
   ]
  },
  {
   "cell_type": "code",
   "execution_count": 7,
   "metadata": {},
   "outputs": [
    {
     "name": "stdout",
     "output_type": "stream",
     "text": [
      "{\"detail\":\"User not found\"}"
     ]
    }
   ],
   "source": [
    "!curl -X 'GET' \\\n",
    "  'http://127.0.0.1:8000/user/2' \\\n",
    "  -H 'accept: application/json'"
   ]
  },
  {
   "attachments": {},
   "cell_type": "markdown",
   "metadata": {},
   "source": [
    "Como vemos devuelve un error"
   ]
  },
  {
   "attachments": {},
   "cell_type": "markdown",
   "metadata": {},
   "source": [
    "## Documentación"
   ]
  },
  {
   "attachments": {},
   "cell_type": "markdown",
   "metadata": {},
   "source": [
    "### Orden de la documentación"
   ]
  },
  {
   "attachments": {},
   "cell_type": "markdown",
   "metadata": {},
   "source": [
    "Si ahora mismo entramos a [http://127.0.0.1:8000/docs#/](http://127.0.0.1:8000/docs#/) vemos que la documentación de las funciones aparecen en el mismo orden en el que las hemos definido"
   ]
  }
 ],
 "metadata": {
  "kernelspec": {
   "display_name": "fastapi",
   "language": "python",
   "name": "python3"
  },
  "language_info": {
   "codemirror_mode": {
    "name": "ipython",
    "version": 3
   },
   "file_extension": ".py",
   "mimetype": "text/x-python",
   "name": "python",
   "nbconvert_exporter": "python",
   "pygments_lexer": "ipython3",
   "version": "3.11.3"
  },
  "orig_nbformat": 4
 },
 "nbformat": 4,
 "nbformat_minor": 2
}
