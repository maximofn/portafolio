{
 "cells": [
  {
   "attachments": {},
   "cell_type": "markdown",
   "metadata": {},
   "source": [
    "# FastAPI"
   ]
  },
  {
   "attachments": {},
   "cell_type": "markdown",
   "metadata": {},
   "source": [
    "## Introducción"
   ]
  },
  {
   "attachments": {},
   "cell_type": "markdown",
   "metadata": {},
   "source": [
    "`FastAPI` está construido sobre otros frameworks:\n",
    "\n",
    " * `Uvicorn`: es una librería de Python que funciona de servidor, es decir, permite que cualquier computadora se convierta en un servidor\n",
    " * `Starlette`: es un framework de desarrollo web de bajo nivel, para desarrollar aplicaciones con este requieres un amplio conocimiento de Python, entonces FastAPI se encarga de añadirle funcionalidades por encima para que se pueda usar mas fácilmente\n",
    " * `Pydantic`: Es un framework que permite trabajar con datos similar a pandas, pero este te permite usar modelos los cuales aprovechara FastAPI para crear la API\n",
    " * `OpenAPI`: Es un conjunto de reglas que permite definir cómo describir, crear y visualizar APIs. Es un conjunto de reglas que permiten decir que una API está bien definida."
   ]
  },
  {
   "cell_type": "markdown",
   "metadata": {},
   "source": [
    "## Instalación"
   ]
  },
  {
   "attachments": {},
   "cell_type": "markdown",
   "metadata": {},
   "source": [
    "Para instalar `FastAPI` voy a hacerlo con `mamba`. En mi [post](https://maximofn.com/conda) anterior explico las ventajas de usar `conda` frente a `pip` y `mamba` para acelerar"
   ]
  },
  {
   "attachments": {},
   "cell_type": "markdown",
   "metadata": {},
   "source": [
    "Como hemos dicho `FastAPI` está construido sobre `uvicorn`, por lo que necesitamos instalarnos los dos"
   ]
  },
  {
   "cell_type": "code",
   "execution_count": 2,
   "metadata": {},
   "outputs": [
    {
     "name": "stdout",
     "output_type": "stream",
     "text": [
      "\n",
      "                  __    __    __    __\n",
      "                 /  \\  /  \\  /  \\  /  \\\n",
      "                /    \\/    \\/    \\/    \\\n",
      "███████████████/  /██/  /██/  /██/  /████████████████████████\n",
      "              /  / \\   / \\   / \\   / \\  \\____\n",
      "             /  /   \\_/   \\_/   \\_/   \\    o \\__,\n",
      "            / _/                       \\_____/  `\n",
      "            |/\n",
      "        ███╗   ███╗ █████╗ ███╗   ███╗██████╗  █████╗\n",
      "        ████╗ ████║██╔══██╗████╗ ████║██╔══██╗██╔══██╗\n",
      "        ██╔████╔██║███████║██╔████╔██║██████╔╝███████║\n",
      "        ██║╚██╔╝██║██╔══██║██║╚██╔╝██║██╔══██╗██╔══██║\n",
      "        ██║ ╚═╝ ██║██║  ██║██║ ╚═╝ ██║██████╔╝██║  ██║\n",
      "        ╚═╝     ╚═╝╚═╝  ╚═╝╚═╝     ╚═╝╚═════╝ ╚═╝  ╚═╝\n",
      "\n",
      "        mamba (1.3.1) supported by @QuantStack\n",
      "\n",
      "        GitHub:  https://github.com/mamba-org/mamba\n",
      "        Twitter: https://twitter.com/QuantStack\n",
      "\n",
      "█████████████████████████████████████████████████████████████\n",
      "\n",
      "\n",
      "Looking for: ['fastapi', 'uvicorn']\n",
      "...\n",
      "Preparing transaction: done\n",
      "Verifying transaction: done\n",
      "Executing transaction: done\n"
     ]
    }
   ],
   "source": [
    "!mamba install -y -c conda-forge fastapi uvicorn"
   ]
  },
  {
   "attachments": {},
   "cell_type": "markdown",
   "metadata": {},
   "source": [
    "## Hola Mundo"
   ]
  },
  {
   "attachments": {},
   "cell_type": "markdown",
   "metadata": {},
   "source": [
    "Para hacer todo nuestras APIs vamos a crear una carpeta llamada `FastAPI`"
   ]
  },
  {
   "cell_type": "code",
   "execution_count": 4,
   "metadata": {},
   "outputs": [],
   "source": [
    "!mkdir FastAPI"
   ]
  },
  {
   "attachments": {},
   "cell_type": "markdown",
   "metadata": {},
   "source": [
    "Ahora creamos un hola mundo de `FastAPI`"
   ]
  },
  {
   "cell_type": "code",
   "execution_count": 5,
   "metadata": {},
   "outputs": [
    {
     "name": "stdout",
     "output_type": "stream",
     "text": [
      "Writing FastAPI/hello_world.py\n"
     ]
    }
   ],
   "source": [
    "%%writefile FastAPI/hello_world.py\n",
    "\n",
    "from fastapi import FastAPI\n",
    "\n",
    "app = FastAPI()\n",
    "\n",
    "@app.get(\"/\")\n",
    "def home():\n",
    "    return {\"Hello\": \"World\"}"
   ]
  },
  {
   "attachments": {},
   "cell_type": "markdown",
   "metadata": {},
   "source": [
    "Lo que hemos hecho es importar `FastAPI`, a cotinuación crear un objeto de la clase `FastAPI` que será nuestra aplicación y pur último la función que se ejecutará al acceder a la API. Más adelante explicaremos bien todo lo que hay en la función"
   ]
  },
  {
   "attachments": {},
   "cell_type": "markdown",
   "metadata": {},
   "source": [
    "Para poder lanzar la API necesitamos usar `uvicorn`, para ello hacemos `uvicorn FastAPI.hello_world:app --reload`. Ponemos `hello_world` porque hemos creado el archivo `hello_world.py`, `app` porque es cómo hemos llamado al objeto de la clase `FastAPI`, y `--reload` para que si hacemos cambios no tengamos qu relanzar la API"
   ]
  },
  {
   "cell_type": "code",
   "execution_count": 8,
   "metadata": {},
   "outputs": [
    {
     "name": "stdout",
     "output_type": "stream",
     "text": [
      "\u001b[32mINFO\u001b[0m:     Will watch for changes in these directories: ['/home/wallabot/Documentos/web/portafolio/posts']\n",
      "\u001b[32mINFO\u001b[0m:     Uvicorn running on \u001b[1mhttp://127.0.0.1:8000\u001b[0m (Press CTRL+C to quit)\n",
      "\u001b[32mINFO\u001b[0m:     Started reloader process [\u001b[36m\u001b[1m55677\u001b[0m] using \u001b[36m\u001b[1mStatReload\u001b[0m\n",
      "\u001b[32mINFO\u001b[0m:     Started server process [\u001b[36m55679\u001b[0m]\n",
      "\u001b[32mINFO\u001b[0m:     Waiting for application startup.\n",
      "\u001b[32mINFO\u001b[0m:     Application startup complete.\n",
      "\u001b[32mINFO\u001b[0m:     127.0.0.1:51580 - \"\u001b[1mGET / HTTP/1.1\u001b[0m\" \u001b[32m200 OK\u001b[0m\n",
      "\u001b[32mINFO\u001b[0m:     127.0.0.1:44282 - \"\u001b[1mGET /docs HTTP/1.1\u001b[0m\" \u001b[32m200 OK\u001b[0m\n",
      "\u001b[32mINFO\u001b[0m:     127.0.0.1:44282 - \"\u001b[1mGET /openapi.json HTTP/1.1\u001b[0m\" \u001b[32m200 OK\u001b[0m\n",
      "\u001b[32mINFO\u001b[0m:     127.0.0.1:39108 - \"\u001b[1mGET /redoc HTTP/1.1\u001b[0m\" \u001b[32m200 OK\u001b[0m\n",
      "\u001b[32mINFO\u001b[0m:     127.0.0.1:39108 - \"\u001b[1mGET /openapi.json HTTP/1.1\u001b[0m\" \u001b[32m200 OK\u001b[0m\n",
      "^C\n",
      "\u001b[32mINFO\u001b[0m:     Shutting down\n",
      "\u001b[32mINFO\u001b[0m:     Waiting for application shutdown.\n",
      "\u001b[32mINFO\u001b[0m:     Application shutdown complete.\n",
      "\u001b[32mINFO\u001b[0m:     Finished server process [\u001b[36m55679\u001b[0m]\n",
      "\u001b[32mINFO\u001b[0m:     Stopping reloader process [\u001b[36m\u001b[1m55677\u001b[0m]\n"
     ]
    }
   ],
   "source": [
    "!uvicorn FastAPI.hello_world:app --reload"
   ]
  },
  {
   "attachments": {},
   "cell_type": "markdown",
   "metadata": {},
   "source": [
    "Como vemos, nos da un enlace [http://127.0.0.1:8000](http://127.0.0.1:8000), si accedemos a él a través del navegador, podemos leer `{\"Hello\":\"World\"}`"
   ]
  },
  {
   "attachments": {},
   "cell_type": "markdown",
   "metadata": {},
   "source": [
    "## Documentación interactiva"
   ]
  },
  {
   "attachments": {},
   "cell_type": "markdown",
   "metadata": {},
   "source": [
    "Como hemos dicho `FastAPI` está construido también sobre `OpenAPI` que es un conjunto de reglas que definen cómo crear APIs\n",
    "\n",
    "`OpenAPI` necesita de un software, el cual es `Swagger`, que es un conjunto de softwares que permiten trabajar con APIs. `FastAPI` funciona sobre un programa de `Swagger` el cual es `Swagger UI`, que permite mostrar la API documentada.\n",
    "\n",
    "Acceder a la documentación interactiva con `Swagger UI`:\n",
    "\n",
    "`<IP>/docs`\n",
    "\n",
    "\n",
    "Acceder a la documentación interactiva con `Redoc`:\n",
    "\n",
    "`<IP>/redoc`"
   ]
  },
  {
   "attachments": {},
   "cell_type": "markdown",
   "metadata": {},
   "source": [
    "Si volvemos a lanzar la API de hello world"
   ]
  },
  {
   "cell_type": "code",
   "execution_count": 9,
   "metadata": {},
   "outputs": [
    {
     "name": "stdout",
     "output_type": "stream",
     "text": [
      "\u001b[32mINFO\u001b[0m:     Will watch for changes in these directories: ['/home/wallabot/Documentos/web/portafolio/posts']\n",
      "\u001b[32mINFO\u001b[0m:     Uvicorn running on \u001b[1mhttp://127.0.0.1:8000\u001b[0m (Press CTRL+C to quit)\n",
      "\u001b[32mINFO\u001b[0m:     Started reloader process [\u001b[36m\u001b[1m56013\u001b[0m] using \u001b[36m\u001b[1mStatReload\u001b[0m\n",
      "\u001b[32mINFO\u001b[0m:     Started server process [\u001b[36m56015\u001b[0m]\n",
      "\u001b[32mINFO\u001b[0m:     Waiting for application startup.\n",
      "\u001b[32mINFO\u001b[0m:     Application startup complete.\n",
      "\u001b[32mINFO\u001b[0m:     127.0.0.1:57266 - \"\u001b[1mGET /docs HTTP/1.1\u001b[0m\" \u001b[32m200 OK\u001b[0m\n",
      "\u001b[32mINFO\u001b[0m:     127.0.0.1:57266 - \"\u001b[1mGET /openapi.json HTTP/1.1\u001b[0m\" \u001b[32m200 OK\u001b[0m\n",
      "\u001b[32mINFO\u001b[0m:     127.0.0.1:42336 - \"\u001b[1mGET /openapi.json HTTP/1.1\u001b[0m\" \u001b[32m200 OK\u001b[0m\n",
      "\u001b[32mINFO\u001b[0m:     127.0.0.1:42338 - \"\u001b[1mGET /docs HTTP/1.1\u001b[0m\" \u001b[32m200 OK\u001b[0m\n",
      "\u001b[32mINFO\u001b[0m:     127.0.0.1:42338 - \"\u001b[1mGET /openapi.json HTTP/1.1\u001b[0m\" \u001b[32m200 OK\u001b[0m\n",
      "\u001b[32mINFO\u001b[0m:     127.0.0.1:57620 - \"\u001b[1mGET / HTTP/1.1\u001b[0m\" \u001b[32m200 OK\u001b[0m\n",
      "^C\n",
      "\u001b[32mINFO\u001b[0m:     Shutting down\n",
      "\u001b[32mINFO\u001b[0m:     Waiting for application shutdown.\n",
      "\u001b[32mINFO\u001b[0m:     Application shutdown complete.\n",
      "\u001b[32mINFO\u001b[0m:     Finished server process [\u001b[36m56015\u001b[0m]\n"
     ]
    }
   ],
   "source": [
    "!uvicorn FastAPI.hello_world:app --reload"
   ]
  },
  {
   "attachments": {},
   "cell_type": "markdown",
   "metadata": {},
   "source": [
    "Y accedemos a [http://127.0.0.1:8000/docs](http://127.0.0.1:8000/docs) o [http://127.0.0.1:8000/redoc](http://127.0.0.1:8000/redoc) podremos ver la documentación que nos ha generado `FastAPI` automáticamente\n",
    "\n",
    "hello_world/docs:\n",
    "\n",
    "![hello_world/docs](https://maximofn.com/wp-content/uploads/2023/05/hello_world_docs.png)\n",
    "\n",
    "hello_world/redoc:\n",
    "\n",
    "![hello_world/redoc](https://maximofn.com/wp-content/uploads/2023/05/hello_world_redoc.png)"
   ]
  },
  {
   "attachments": {},
   "cell_type": "markdown",
   "metadata": {},
   "source": [
    "## Path operation"
   ]
  },
  {
   "attachments": {},
   "cell_type": "markdown",
   "metadata": {},
   "source": [
    "Path operation define las operaciones que podemos hacer sobre un path determinado. Si recuerdas en el ejemplo de hola mundo escribimos la siguiente función\n",
    "\n",
    "``` python\n",
    "@app.get(\"/\")\n",
    "def home():\n",
    "    return {\"Hello\": \"World\"}\n",
    "```\n",
    "\n",
    "El decorador es la línea que comienza con `@` y que define que cuando hagamos mediante `HTTP` la operación de `GET` sobre el path `/` se va a ejecutar la función `home()`\n",
    "\n",
    "El path es claro, dentro de la API podemos definir carpetas y paths, pero las operaciones son las posibles operaciones `HTTP` que se pueden realizar y que son\n",
    "\n",
    " * Get: Traer la documentación\n",
    " * Post: Enviar documentación\n",
    " * Put: Actualizar información de la documentación que ya está en el servidor\n",
    " * Delete: Borrar información\n",
    " * Options: Devuelve un header adicional llamado allow que contiene los metodos http que pueden utilizarse en ese endpoint o path.\n",
    " * Head: Devuelve info sobre el documento, no el documento en si.\n",
    " * Patch: Hacer modificaciones parciales al documento a diferencia de put que permite cambiar el documento entero.\n",
    " * Trace: Nos permite observar que esta pasando en la peticion y nos devuelve nuestro input con propositos de debugging.\n",
    "\n",
    "Volviendo al ejemplo del hola mundo\n",
    "\n",
    "``` python\n",
    "@app.get(\"/\")\n",
    "def home():\n",
    "    return {\"Hello\": \"World\"}\n",
    "```\n",
    "\n",
    "La primera linea corresponde a la `path operation decorator` y el resto al `path operation function`"
   ]
  },
  {
   "attachments": {},
   "cell_type": "markdown",
   "metadata": {},
   "source": [
    "## Path parameters"
   ]
  },
  {
   "attachments": {},
   "cell_type": "markdown",
   "metadata": {},
   "source": [
    "Supongamos que estamos haciendo una API, para poder obtener los datos de un dataset para entrenar una red. Por ejemplo, para un problema de segmentación, podemos tener una carpeta por cada par de imagen y másara\n",
    "\n",
    "```\n",
    "dataset\n",
    " |--> Imagen1\n",
    "       |-->Image\n",
    "       |-->Mask\n",
    " |--> Imagen2\n",
    "       |-->Image\n",
    "       |-->Mask\n",
    " |--> Imagen3\n",
    "       |-->Image\n",
    "       |-->Mask\n",
    " ...\n",
    " |--> ImagenN\n",
    "       |-->Image\n",
    "       |-->Mask\n",
    "```\n",
    "\n",
    "Por lo que podemos crear los paths `/dataset/Imagen1`, `/dataset/Imagen2`, `/dataset/Imagen3`, ... . Pero si el dataset es variable? Si nunca vamos a saber cuántas imágenes tiene el dataset?\n",
    "\n",
    "Por ello necesitamos poder crear el path mediante parámetros. Así, externamente podemos saber la longitud del dataset y crear el path que queramos"
   ]
  },
  {
   "attachments": {},
   "cell_type": "markdown",
   "metadata": {},
   "source": [
    "Para crear los path mediante parámetros se hace de la siguiente manera `/dataset/{Image}`, donde `{Image}` es el parámetro"
   ]
  },
  {
   "attachments": {},
   "cell_type": "markdown",
   "metadata": {},
   "source": [
    "Si usamos `path parameter` el paso del parámetro es obligatorio, por lo que si queremos usar algo parecido, pero que sea opcional tenemos que usar `query parameter`"
   ]
  },
  {
   "attachments": {},
   "cell_type": "markdown",
   "metadata": {},
   "source": [
    "## Query parameter"
   ]
  },
  {
   "attachments": {},
   "cell_type": "markdown",
   "metadata": {},
   "source": [
    "Supongamos ahora que estamos haciendo una API con una base de datos de usuarios, en la que cada usuario puede tener o no `username`, `age`, `email`. Los `query parameter`s se suelen utilizar más con la operación de `PUT`, es decir, mediante el path pasamos información del usuraio.\n",
    "\n",
    "Puede que de muchos usuarios sepamos todos los datos, pero ¿qué pasa si un usuario no tiene email? Si hiciésemos uso de `path parameter`s no podríamos añadir ese usuario, o lo tedríamos que hacer con un email que previamente definamos como que el usuario no tiene email. Sin embargo, si usamos `query parameter`s no es obligatorio pasar todos los parámetros"
   ]
  },
  {
   "attachments": {},
   "cell_type": "markdown",
   "metadata": {},
   "source": [
    "La sintaxis de los `query parameter`s es `/path?key1=value1&key2=value2&key3=value3&...&keyN=valueN`\n",
    "\n",
    "Por ejemplo, para la API con la base de datos de usuarios una `query parameter` podría ser `/path?username=Pedro&email=pedro@gmail.com&age=30` y otra solo `/path?username=Luis`"
   ]
  },
  {
   "attachments": {},
   "cell_type": "markdown",
   "metadata": {},
   "source": [
    "Podemos mezclar los dos y mejorar los paths anteriores con `/path/{pedro_id}/details?username=Pedro&email=pedro@gmail.com&age=30` y otra solo `/path/{luis_id}/details?username=Luis`"
   ]
  },
  {
   "attachments": {},
   "cell_type": "markdown",
   "metadata": {},
   "source": [
    "## Request Body y Response Body"
   ]
  },
  {
   "attachments": {},
   "cell_type": "markdown",
   "metadata": {},
   "source": [
    "En una comunicación `HTTP` cliente/servidor, la petición que le hace el cliente al servidor se denomina `request` y la respuesta del servidor se denomina `response`. Además dentro del protocolo `HTTP` hay `header`s y el `body`. \n",
    "\n",
    "Por tanto, una `request body` es solo el `body` de una `request` `HTTP`, mientras que una `response body` es solo el body de una `response` `HTTP`\n",
    "\n",
    "Esta `request body` y `response body` se hace entre el cliente y servidor mediante `JSON`s"
   ]
  },
  {
   "attachments": {},
   "cell_type": "markdown",
   "metadata": {},
   "source": [
    "Editamos nuestro hola mundo para ver cómo se programaría un `request body` y un `response body`"
   ]
  },
  {
   "cell_type": "code",
   "execution_count": 1,
   "metadata": {},
   "outputs": [
    {
     "name": "stdout",
     "output_type": "stream",
     "text": [
      "Overwriting FastAPI/hello_world.py\n"
     ]
    }
   ],
   "source": [
    "%%writefile FastAPI/hello_world.py\n",
    "\n",
    "from fastapi import FastAPI\n",
    "\n",
    "app = FastAPI()\n",
    "\n",
    "@app.get(\"/\")\n",
    "def home():\n",
    "    return {\"Hello\": \"World\"}\n",
    "\n",
    "# Request and Response body\n",
    "@app.post(\"/user/new\")\n",
    "def new_user():\n",
    "    pass"
   ]
  },
  {
   "attachments": {},
   "cell_type": "markdown",
   "metadata": {},
   "source": [
    "Como vemos solo hemos creado una operación `POST` y su función asociada, de momento lo dejamos sin definir y vemos más conceptos"
   ]
  },
  {
   "attachments": {},
   "cell_type": "markdown",
   "metadata": {},
   "source": [
    "## Models"
   ]
  },
  {
   "attachments": {},
   "cell_type": "markdown",
   "metadata": {},
   "source": [
    "Un modelo es una descripción en código de un elemento de la vida real. Para poder crear nuestros modelos vamos a hacer uso de una librería llamada `pydantic`. Con esto vamos a crear un modelo de la clase `user`"
   ]
  },
  {
   "cell_type": "code",
   "execution_count": 2,
   "metadata": {},
   "outputs": [
    {
     "name": "stdout",
     "output_type": "stream",
     "text": [
      "Overwriting FastAPI/hello_world.py\n"
     ]
    }
   ],
   "source": [
    "%%writefile FastAPI/hello_world.py\n",
    "\n",
    "from typing import Optional\n",
    "from pydantic import BaseModel\n",
    "from fastapi import FastAPI, Body\n",
    "\n",
    "app = FastAPI()\n",
    "\n",
    "class User(BaseModel):\n",
    "    name: str\n",
    "    age: int\n",
    "    email: Optional[str] = None\n",
    "\n",
    "@app.get(\"/\")\n",
    "def home():\n",
    "    return {\"Hello\": \"World\"}\n",
    "\n",
    "# Request and Response body\n",
    "@app.post(\"/user/new\")\n",
    "def new_user(user: User = Body(...)):\n",
    "    return user"
   ]
  },
  {
   "attachments": {},
   "cell_type": "markdown",
   "metadata": {},
   "source": [
    "Analizamos el código"
   ]
  },
  {
   "attachments": {},
   "cell_type": "markdown",
   "metadata": {},
   "source": [
    "Con la línea\n",
    "\n",
    "``` python\n",
    "from typing import Optional\n",
    "```\n",
    "\n",
    "Estamos añadiendo el módulo `Optional` de la librería `typing` que nos va a permitir añadir parámetros opcionales"
   ]
  },
  {
   "attachments": {},
   "cell_type": "markdown",
   "metadata": {},
   "source": [
    "Con la línea \n",
    "\n",
    "``` python\n",
    "from pydantic import BaseModel\n",
    "```\n",
    "\n",
    "Estamos importando el módulo `BaseModel` de la librería `pydantic` que nos va a permitir crear clases a partir de ese modelo base"
   ]
  },
  {
   "attachments": {},
   "cell_type": "markdown",
   "metadata": {},
   "source": [
    "Con la línea \n",
    "\n",
    "``` python\n",
    "from fastapi import FastAPI, Body\n",
    "```\n",
    "\n",
    "Importamos el módulo `FasAPI` de la librería `fastapi`, pero eso ya lo habíamos hecho antes, y el módulo `Body` que nos permite usar objetos de tipo `Body`"
   ]
  },
  {
   "attachments": {},
   "cell_type": "markdown",
   "metadata": {},
   "source": [
    "Con el bloque\n",
    "\n",
    "``` python\n",
    "class User(BaseModel):\n",
    "    name: str\n",
    "    age: int\n",
    "    email: Optional[str] = None\n",
    "```\n",
    "\n",
    "Definimos la clase `User` que hereda de `BaseModel` y que tiene los parámetros `name` y `age` obligatorios y el parámetro `email` que es opcional, y al ser opcional tenemos que darle un valor por defecto, que en este caso es `None`"
   ]
  },
  {
   "attachments": {},
   "cell_type": "markdown",
   "metadata": {},
   "source": [
    "Con el bloque\n",
    "\n",
    "``` python\n",
    "# Request and Response body\n",
    "@app.post(\"/user/new\")\n",
    "def new_user(user: User = Body(...)):\n",
    "    return user\n",
    "```\n",
    "\n",
    "definimos la función para la operación `POST` que añade un nuevo usuario. Los `...` indican que usuario es un parámetro obligatorio que hay que pasarle a la función"
   ]
  }
 ],
 "metadata": {
  "kernelspec": {
   "display_name": "fastapi",
   "language": "python",
   "name": "python3"
  },
  "language_info": {
   "codemirror_mode": {
    "name": "ipython",
    "version": 3
   },
   "file_extension": ".py",
   "mimetype": "text/x-python",
   "name": "python",
   "nbconvert_exporter": "python",
   "pygments_lexer": "ipython3",
   "version": "3.11.3"
  },
  "orig_nbformat": 4
 },
 "nbformat": 4,
 "nbformat_minor": 2
}
