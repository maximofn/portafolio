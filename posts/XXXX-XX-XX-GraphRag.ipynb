{
 "cells": [
  {
   "cell_type": "markdown",
   "metadata": {},
   "source": [
    "# GraphRAG: Unlocking LLM discovery on narrative private data"
   ]
  },
  {
   "cell_type": "markdown",
   "metadata": {},
   "source": [
    "Los sistemas de RAG básicos se basan en buscar información en datos en función de un prmpt de un usuario. La forma que tienen de hacerlo es medir la similitud entre el embedding del prompt y los embeddings de la documentación. Sin embargo este enfoque falla en dos situaciones:\n",
    "\n",
    " * En el momento en el que la información se tiene que sacar mediante la unión de la información de varios documentos.\n",
    " * Cuando se tienen documentos de gran tamaño.\n",
    "\n",
    "Para solucionar esto el enfoque de Microsoft Research fue crear un grafo de conocimiento basado en el contenido de los documentos. Este grafo se construlle mediante un LLM. Después, este grafo de conocimiento se usa para realizar la búsqueda de información de una manera más rápida y efectiva"
   ]
  },
  {
   "cell_type": "markdown",
   "metadata": {},
   "source": [
    "## Construcción del grafo de conocimiento"
   ]
  },
  {
   "cell_type": "markdown",
   "metadata": {},
   "source": [
    "Un LLM procesa todo el contenido de los documentos, creando referencias a todas las entidades y relaciones que encuentra. Estas referencias se usan para construir un grafo de conocimiento.\n",
    "\n",
    "A continuación se crea una agrupación de las entidades en grupos semánticos\n",
    "\n",
    "![Grafph Rag - Grafo de conocimiento con agrupaciones semánticas](https://pub-fb664c455eca46a2ba762a065ac900f7.r2.dev/GraphRag-grafo.webp)"
   ]
  }
 ],
 "metadata": {
  "language_info": {
   "name": "python"
  }
 },
 "nbformat": 4,
 "nbformat_minor": 2
}
