{
 "cells": [
  {
   "cell_type": "markdown",
   "metadata": {},
   "source": [
    "# Local copilot"
   ]
  },
  {
   "cell_type": "markdown",
   "metadata": {},
   "source": [
    "En este post vamos a ver cómo instalar un copilot en local para ahorrarnos el precio de GitHub Copilot y para asegurarnos que nustros datos no se comparten con nadie. Para ello vamos a utilizar [Ollama](https://maximofn.com/ollama/) como proveedor de LLMs y [Continue](https://www.continue.dev/) como plugin para nuestro IDE."
   ]
  },
  {
   "cell_type": "markdown",
   "metadata": {},
   "source": [
    "## Modelo de lenguaje"
   ]
  },
  {
   "cell_type": "markdown",
   "metadata": {},
   "source": [
    "Para elegir el modelo de lenguaje que vamos a usar miramos la tabla de clasificación de modelos de lenguaje para código [evalplus](https://evalplus.github.io/leaderboard.html).\n",
    "\n",
    "A día de hoy, cuando estoy escribiendo el post, los tres primeros modelos son modelos GPT4, pero el tercero es el modelo `CodeQwen1.5-7B-Chat`, que es un modelo de 7B de parámetros. Por lo que para usar a nivel local, incluso con ordenadores sin GPU, es factible.\n",
    "\n",
    "Pero el problema de `CodeQwen1.5-7B-Chat` es que su licencia no es libre totalmente para uso comercial, por lo que si quieres usarlo para un uso comercial, o si tienes dudas de si puedes usarlo o no, vamos a ver también los modelos `OpenCodeInterpreter-DS-33B` y `OpenCodeInterpreter-DS-6.7B`. Si tenemos un ordenador con GPUs con bastante memoria podremos usar el de 33B de parámetros, pero si tenemos un ordenador más limitado entonces usaremos el de 6.7B de parámetros.\n",
    "\n",
    "![EvalPlus_laderboard](https://pub-fb664c455eca46a2ba762a065ac900f7.r2.dev/EvalPlus_laderboard.webp)"
   ]
  },
  {
   "cell_type": "markdown",
   "metadata": {},
   "source": [
    "Usemos el LLM que usemos, como gestor o proveedor de LLMs vamos a usar [Ollama](https://maximofn.com/ollama/) que ya expliqué en otro [post](https://maximofn.com/ollama/), así que vamos aprovechar el conocimiento para usar modelos cuantizados para que sean más pequeños, se ejecuten más rápido y ocupen menos memoria."
   ]
  },
  {
   "cell_type": "markdown",
   "metadata": {},
   "source": [
    "### Modelo `CodeQwen1.5-7B-Chat`"
   ]
  },
  {
   "cell_type": "markdown",
   "metadata": {},
   "source": [
    "Este modelo es de la empresa `Qwen`, está disponible en la [librería de ollama](https://ollama.com/library/codeqwen), pero además podemos encontrarlo cuantizado en su página de [HuggingFace](https://huggingface.co/Qwen/CodeQwen1.5-7B-Chat-GGUF). Lo podemos descargar cuantizado desde 2 bits hasta 8 bits, así que vamos a quedarnos con un tamaño intermedio de 4 bits. Así que para ello, primero vamos a crear una carpeta donde vamos a descargar el modelo"
   ]
  },
  {
   "cell_type": "code",
   "execution_count": 1,
   "metadata": {},
   "outputs": [],
   "source": [
    "import pathlib\n",
    "\n",
    "path = 'ollama_modelfile'\n",
    "pathlib.Path(path).mkdir(parents=True, exist_ok=True)   # Make folder if it doesn't exist"
   ]
  },
  {
   "cell_type": "markdown",
   "metadata": {},
   "source": [
    "Ahora nos descargamos el modelo cuantizado. Como hemos dicho vamos a descargar el modelo de 4 bits, pero si prefieres descargar el modelo cuantizado en otro número de bits, puedes ver todos los modelos que hay en la página de [archivos](https://huggingface.co/Qwen/CodeQwen1.5-7B-Chat-GGUF/tree/main) del modelo "
   ]
  },
  {
   "cell_type": "code",
   "execution_count": 2,
   "metadata": {},
   "outputs": [
    {
     "name": "stdout",
     "output_type": "stream",
     "text": [
      "--2024-06-05 18:48:49--  https://huggingface.co/Qwen/CodeQwen1.5-7B-Chat-GGUF/resolve/main/codeqwen-1_5-7b-chat-q4_k_m.gguf\n",
      "Resolviendo huggingface.co (huggingface.co)... 54.192.95.21, 54.192.95.79, 54.192.95.70, ...\n",
      "Conectando con huggingface.co (huggingface.co)[54.192.95.21]:443... conectado.\n",
      "Petición HTTP enviada, esperando respuesta... 302 Found\n",
      "Ubicación: https://cdn-lfs-us-1.huggingface.co/repos/6a/7d/6a7d8f0e227de8c36c5c48a9fed818af501675e59f4cec619ac30c7a17303e7e/98572d2cbc355c6be6c89b431df5c26c5bc2838dc755b53fe5f81eb9fa19df3c?response-content-disposition=attachment%3B+filename*%3DUTF-8%27%27codeqwen-1_5-7b-chat-q4_k_m.gguf%3B+filename%3D%22codeqwen-1_5-7b-chat-q4_k_m.gguf%22%3B&Expires=1717865329&Policy=eyJTdGF0ZW1lbnQiOlt7IkNvbmRpdGlvbiI6eyJEYXRlTGVzc1RoYW4iOnsiQVdTOkVwb2NoVGltZSI6MTcxNzg2NTMyOX19LCJSZXNvdXJjZSI6Imh0dHBzOi8vY2RuLWxmcy11cy0xLmh1Z2dpbmdmYWNlLmNvL3JlcG9zLzZhLzdkLzZhN2Q4ZjBlMjI3ZGU4YzM2YzVjNDhhOWZlZDgxOGFmNTAxNjc1ZTU5ZjRjZWM2MTlhYzMwYzdhMTczMDNlN2UvOTg1NzJkMmNiYzM1NWM2YmU2Yzg5YjQzMWRmNWMyNmM1YmMyODM4ZGM3NTViNTNmZTVmODFlYjlmYTE5ZGYzYz9yZXNwb25zZS1jb250ZW50LWRpc3Bvc2l0aW9uPSoifV19&Signature=j4DmsgQv2oSjMVvwUCP0ZRLQk92hSxkYbZIiKfNnpT7EsYOh3zJd%7EBPPNXU0MuEe79mBhdyDBYijdepSsTBb39KKrR2Y7SLqMQnP15tmEBxI-O%7EwXUZYL5bAerHxRJ2e2P-Zxq70Zus6CnYW75i2PtyrPGdk5UwNo7T6Le9kehLfJDmO-ilHyDzXYf1eWnjuuxDaOOQiXwGKMA1lBLqbUke1t8Ur5WMv5lYykcEi6v%7E7H5n9sXx92z0fN5BEY78KfZSwGu5rhptOr6rjVAL5WCCQugwHe1KJyJrmm03BqW5s8fjIkW11VDvTQs3lCmseX-GY6jzWWLbv1fhTLLiuiA__&Key-Pair-Id=KCD77M1F0VK2B [siguiente]\n",
      "--2024-06-05 18:48:49--  https://cdn-lfs-us-1.huggingface.co/repos/6a/7d/6a7d8f0e227de8c36c5c48a9fed818af501675e59f4cec619ac30c7a17303e7e/98572d2cbc355c6be6c89b431df5c26c5bc2838dc755b53fe5f81eb9fa19df3c?response-content-disposition=attachment%3B+filename*%3DUTF-8%27%27codeqwen-1_5-7b-chat-q4_k_m.gguf%3B+filename%3D%22codeqwen-1_5-7b-chat-q4_k_m.gguf%22%3B&Expires=1717865329&Policy=eyJTdGF0ZW1lbnQiOlt7IkNvbmRpdGlvbiI6eyJEYXRlTGVzc1RoYW4iOnsiQVdTOkVwb2NoVGltZSI6MTcxNzg2NTMyOX19LCJSZXNvdXJjZSI6Imh0dHBzOi8vY2RuLWxmcy11cy0xLmh1Z2dpbmdmYWNlLmNvL3JlcG9zLzZhLzdkLzZhN2Q4ZjBlMjI3ZGU4YzM2YzVjNDhhOWZlZDgxOGFmNTAxNjc1ZTU5ZjRjZWM2MTlhYzMwYzdhMTczMDNlN2UvOTg1NzJkMmNiYzM1NWM2YmU2Yzg5YjQzMWRmNWMyNmM1YmMyODM4ZGM3NTViNTNmZTVmODFlYjlmYTE5ZGYzYz9yZXNwb25zZS1jb250ZW50LWRpc3Bvc2l0aW9uPSoifV19&Signature=j4DmsgQv2oSjMVvwUCP0ZRLQk92hSxkYbZIiKfNnpT7EsYOh3zJd%7EBPPNXU0MuEe79mBhdyDBYijdepSsTBb39KKrR2Y7SLqMQnP15tmEBxI-O%7EwXUZYL5bAerHxRJ2e2P-Zxq70Zus6CnYW75i2PtyrPGdk5UwNo7T6Le9kehLfJDmO-ilHyDzXYf1eWnjuuxDaOOQiXwGKMA1lBLqbUke1t8Ur5WMv5lYykcEi6v%7E7H5n9sXx92z0fN5BEY78KfZSwGu5rhptOr6rjVAL5WCCQugwHe1KJyJrmm03BqW5s8fjIkW11VDvTQs3lCmseX-GY6jzWWLbv1fhTLLiuiA__&Key-Pair-Id=KCD77M1F0VK2B\n",
      "Resolviendo cdn-lfs-us-1.huggingface.co (cdn-lfs-us-1.huggingface.co)... 108.157.98.55, 108.157.98.20, 108.157.98.92, ...\n",
      "Conectando con cdn-lfs-us-1.huggingface.co (cdn-lfs-us-1.huggingface.co)[108.157.98.55]:443... conectado.\n",
      "Petición HTTP enviada, esperando respuesta... 200 OK\n",
      "Longitud: 4738590464 (4,4G) [binary/octet-stream]\n",
      "Guardando como: “ollama_modelfile/codeqwen-1_5-7b-chat-q4_k_m.gguf”\n",
      "\n",
      "ollama_modelfile/co 100%[===================>]   4,41G  30,9MB/s    en 1m 51s  \n",
      "\n",
      "2024-06-05 18:50:40 (40,8 MB/s) - “ollama_modelfile/codeqwen-1_5-7b-chat-q4_k_m.gguf” guardado [4738590464/4738590464]\n",
      "\n"
     ]
    }
   ],
   "source": [
    "!wget https://huggingface.co/Qwen/CodeQwen1.5-7B-Chat-GGUF/resolve/main/codeqwen-1_5-7b-chat-q4_k_m.gguf -O ollama_modelfile/codeqwen-1_5-7b-chat-q4_k_m.gguf"
   ]
  },
  {
   "cell_type": "markdown",
   "metadata": {},
   "source": [
    "Ahora, para poder usar este modelo en Ollama, tenemos que crear un `Modelfile`. Ya explicamos en el post de [Ollama](https://maximofn.com/ollama/) cómo crear un `Modelfile`, así que si quires entender lo que vamos a hacer ahora, te recomiendo leerlo, pero si no quieres leerlo, simplemente sigue lo que vamos a hacer."
   ]
  },
  {
   "cell_type": "markdown",
   "metadata": {},
   "source": [
    "Lo primero que vamos a hacer es descar, el modelo de la [librería de ollama](https://ollama.com/library/codeqwen) para ver su `Modelfile` y hacerlo parecido"
   ]
  },
  {
   "cell_type": "code",
   "execution_count": 3,
   "metadata": {},
   "outputs": [
    {
     "name": "stdout",
     "output_type": "stream",
     "text": [
      "pulling manifest \n",
      "pulling 8e31a8360156... 100% ▕██████████████████████████████████████████████████████████████████████████████████████████████████████████████████████████▏ 4.2 GB                         \n",
      "pulling 6b53223f338a... 100% ▕██████████████████████████████████████████████████████████████████████████████████████████████████████████████████████████▏ 6.9 KB                         \n",
      "pulling 62fbfd9ed093... 100% ▕██████████████████████████████████████████████████████████████████████████████████████████████████████████████████████████▏  182 B                         \n",
      "pulling f02dd72bb242... 100% ▕██████████████████████████████████████████████████████████████████████████████████████████████████████████████████████████▏   59 B                         \n",
      "pulling f662c9193901... 100% ▕██████████████████████████████████████████████████████████████████████████████████████████████████████████████████████████▏  483 B                         \n",
      "verifying sha256 digest \n",
      "writing manifest \n",
      "removing any unused layers \n",
      "success "
     ]
    }
   ],
   "source": [
    "!ollama pull codeqwen"
   ]
  },
  {
   "cell_type": "markdown",
   "metadata": {},
   "source": [
    "Ahora leemos su `Modelfile`"
   ]
  },
  {
   "cell_type": "code",
   "execution_count": 4,
   "metadata": {},
   "outputs": [
    {
     "name": "stdout",
     "output_type": "stream",
     "text": [
      "# Modelfile generated by \"ollama show\"\n",
      "# To build a new Modelfile based on this, replace FROM with:\n",
      "# FROM codeqwen:latest\n",
      "\n",
      "FROM /usr/share/ollama/.ollama/models/blobs/sha256-8e31a8360156f558b83085fdae0952112082000df74426197ab91b88635613b6\n",
      "TEMPLATE \"{{ if .System }}<|im_start|>system\n",
      "{{ .System }}<|im_end|>\n",
      "{{ end }}{{ if .Prompt }}<|im_start|>user\n",
      "{{ .Prompt }}<|im_end|>\n",
      "{{ end }}<|im_start|>assistant\n",
      "{{ .Response }}<|im_end|>\n",
      "\"\n",
      "PARAMETER stop <|im_start|>\n",
      "PARAMETER stop <|im_end|>\n",
      "LICENSE \"\"\"Tongyi Qianwen LICENSE AGREEMENT\n",
      "\n",
      "Tongyi Qianwen Release Date: August 3, 2023\n",
      "\n",
      "By clicking to agree or by using or distributing any portion or element of the Tongyi Qianwen Materials, you will be deemed to have recognized and accepted the content of this Agreement, which is effective immediately.\n",
      "\n",
      "1. Definitions\n",
      "    a. This Tongyi Qianwen LICENSE AGREEMENT (this \"Agreement\") shall mean the terms and conditions for use, reproduction, distribution and modification of the Materials as defined by this Agreement.\n",
      "    b. \"We\"(or \"Us\") shall mean Alibaba Cloud.\n",
      "    c. \"You\" (or \"Your\") shall mean a natural person or legal entity exercising the rights granted by this Agreement and/or using the Materials for any purpose and in any field of use.\n",
      "    d. \"Third Parties\" shall mean individuals or legal entities that are not under common control with Us or You.\n",
      "    e. \"Tongyi Qianwen\" shall mean the large language models (including Qwen model and Qwen-Chat model), and software and algorithms, consisting of trained model weights, parameters (including optimizer states), machine-learning model code, inference-enabling code, training-enabling code, fine-tuning enabling code and other elements of the foregoing distributed by Us.\n",
      "    f. \"Materials\" shall mean, collectively, Alibaba Cloud's proprietary Tongyi Qianwen and Documentation (and any portion thereof) made available under this Agreement.\n",
      "    g. \"Source\" form shall mean the preferred form for making modifications, including but not limited to model source code, documentation source, and configuration files.\n",
      "    h. \"Object\" form shall mean any form resulting from mechanical transformation or translation of a Source form, including but not limited to compiled object code, generated documentation,\n",
      " and conversions to other media types.\n",
      "\n",
      "2. Grant of Rights\n",
      "You are granted a non-exclusive, worldwide, non-transferable and royalty-free limited license under Alibaba Cloud's intellectual property or other rights owned by Us embodied in the Materials to use, reproduce, distribute, copy, create derivative works of, and make modifications to the Materials.\n",
      "\n",
      "3. Redistribution\n",
      "You may reproduce and distribute copies of the Materials or derivative works thereof in any medium, with or without modifications, and in Source or Object form, provided that You meet the following conditions:\n",
      "    a. You shall give any other recipients of the Materials or derivative works a copy of this Agreement;\n",
      "    b. You shall cause any modified files to carry prominent notices stating that You changed the files;\n",
      "    c. You shall retain in all copies of the Materials that You distribute the following attribution notices within a \"Notice\" text file distributed as a part of such copies: \"Tongyi Qianwen is licensed under the Tongyi Qianwen LICENSE AGREEMENT, Copyright (c) Alibaba Cloud. All Rights Reserved.\"; and\n",
      "    d. You may add Your own copyright statement to Your modifications and may provide additional or different license terms and conditions for use, reproduction, or distribution of Your modifications, or for any such derivative works as a whole, provided Your use, reproduction, and distribution of the work otherwise complies with the terms and conditions of this Agreement.\n",
      "\n",
      "4. Restrictions\n",
      "If you are commercially using the Materials, and your product or service has more than 100 million monthly active users, You shall request a license from Us. You cannot exercise your rights under this Agreement without our express authorization.\n",
      "\n",
      "5. Rules of use\n",
      "    a. The Materials may be subject to export controls or restrictions in China, the United States or other countries or regions. You shall comply with applicable laws and regulations in your use of the Materials.\n",
      "    b. You can not use the Materials or any output therefrom to improve any other large language model (excluding Tongyi Qianwen or derivative works thereof).\n",
      "\n",
      "6. Intellectual Property\n",
      "    a. We retain ownership of all intellectual property rights in and to the Materials and derivatives made by or for Us. Conditioned upon compliance with the terms and conditions of this Agreement, with respect to any derivative works and modifications of the Materials that are made by you, you are and will be the owner of such derivative works and modifications.\n",
      "    b. No trademark license is granted to use the trade names, trademarks, service marks, or product names of Us, except as required to fulfill notice requirements under this Agreement or as required for reasonable and customary use in describing and redistributing the Materials.\n",
      "    c. If you commence a lawsuit or other proceedings (including a cross-claim or counterclaim in a lawsuit) against Us or any entity alleging that the Materials or any output therefrom, or any part of the foregoing, infringe any intellectual property or other right owned or licensable by you, then all licences granted to you under this Agreement shall terminate as of the date such lawsuit or other proceeding is commenced or brought.\n",
      "7. Disclaimer of Warranty and Limitation of Liability\n",
      "\n",
      "    a. We are not obligated to support, update, provide training for, or develop any further version of the Tongyi Qianwen Materials or to grant any license thereto.\n",
      "    b. THE MATERIALS ARE PROVIDED \"AS IS\" WITHOUT ANY EXPRESS OR IMPLIED WARRANTY OF ANY KIND INCLUDING WARRANTIES OF MERCHANTABILITY, NONINFRINGEMENT, OR FITNESS FOR A PARTICULAR PURPOSE. WE MAKE NO WARRANTY AND ASSUME NO RESPONSIBILITY FOR THE SAFETY OR STABILITY OF THE MATERIALS AND ANY OUTPUT THEREFROM.\n",
      "    c. IN NO EVENT SHALL WE BE LIABLE TO YOU FOR ANY DAMAGES, INCLUDING, BUT NOT LIMITED TO ANY DIRECT, OR INDIRECT, SPECIAL OR CONSEQUENTIAL DAMAGES ARISING FROM YOUR USE OR INABILITY TO USE THE MATERIALS OR ANY OUTPUT OF IT, NO MATTER HOW IT’S CAUSED.\n",
      "    d. You will defend, indemnify and hold harmless Us from and against any claim by any third party arising out of or related to your use or distribution of the Materials.\n",
      "\n",
      "8. Survival and Termination.\n",
      "    a. The term of this Agreement shall commence upon your acceptance of this Agreement or access to the Materials and will continue in full force and effect until terminated in accordance with the terms and conditions herein.\n",
      "    b. We may terminate this Agreement if you breach any of the terms or conditions of this Agreement. Upon termination of this Agreement, you must delete and cease use of the Materials. Sections 7 and 9 shall survive the termination of this Agreement.\n",
      "\n",
      "9. Governing Law and Jurisdiction.\n",
      "    a. This Agreement and any dispute arising out of or relating to it will be governed by the laws of China, without regard to conflict of law principles, and the UN Convention on Contracts for the International Sale of Goods does not apply to this Agreement.\n",
      "    b. The People's Courts in Hangzhou City shall have exclusive jurisdiction over any dispute arising out of this Agreement.\"\"\"\n",
      "\n"
     ]
    }
   ],
   "source": [
    "!ollama show codeqwen --modelfile"
   ]
  },
  {
   "cell_type": "markdown",
   "metadata": {},
   "source": [
    "Lo copiamos, y lo pegamos en un `Modelfile` para el modelo cuantizado.\n",
    "\n",
    "Después vamos a hacer unos cambios:\n",
    " * Cambiamos el `FROM` por el modelo que nos hemos descargado\n",
    " * Cambiamos la `LICENSE` por una referencia a la página del archivo de licencia de HuggingFace\n",
    " * Añadimos un mensaje de sistema"
   ]
  },
  {
   "cell_type": "code",
   "execution_count": 5,
   "metadata": {},
   "outputs": [
    {
     "name": "stdout",
     "output_type": "stream",
     "text": [
      "Writing ollama_modelfile/Modelfile_codeqwen\n"
     ]
    }
   ],
   "source": [
    "%%writefile ollama_modelfile/Modelfile_codeqwen\n",
    "FROM ./codeqwen-1_5-7b-chat-q4_k_m.gguf\n",
    "TEMPLATE \"{{ if .System }}<|im_start|>system\n",
    "{{ .System }}<|im_end|>\n",
    "{{ end }}{{ if .Prompt }}<|im_start|>user\n",
    "{{ .Prompt }}<|im_end|>\n",
    "{{ end }}<|im_start|>assistant\n",
    "{{ .Response }}<|im_end|>\n",
    "\"\n",
    "PARAMETER stop <|im_start|>\n",
    "PARAMETER stop <|im_end|>\n",
    "SYSTEM \"\"\"You are a code wizard. Always answer in the language in which you are asked\"\"\"\n",
    "LICENSE \"\"\"Codeqwen license\n",
    "https://huggingface.co/Qwen/CodeQwen1.5-7B-Chat/blob/main/LICENSE\"\"\""
   ]
  },
  {
   "cell_type": "markdown",
   "metadata": {},
   "source": [
    "Por último creamos el modelo desde el `Modelfile` que hemos creado, con el nombre `CodeQwen1.5-7B-Chat-Q4-KM`"
   ]
  },
  {
   "cell_type": "code",
   "execution_count": 6,
   "metadata": {},
   "outputs": [
    {
     "name": "stdout",
     "output_type": "stream",
     "text": [
      "transferring model data \n",
      "using existing layer sha256:98572d2cbc355c6be6c89b431df5c26c5bc2838dc755b53fe5f81eb9fa19df3c \n",
      "using existing layer sha256:62fbfd9ed093d6e5ac83190c86eec5369317919f4b149598d2dbb38900e9faef \n",
      "creating new layer sha256:f4c662cc04ca185d87fe783239f5ee26f96c0c74bf71cc566cd01ed9c3d14671 \n",
      "creating new layer sha256:573587370b225d7a7b0435d87baeca6a4444ed30025c4dc820564ecb492c535e \n",
      "using existing layer sha256:f02dd72bb2423204352eabc5637b44d79d17f109fdb510a7c51455892aa2d216 \n",
      "creating new layer sha256:f3f2858cf8f52a5c145beb41369866d87ab81115e34d8be578c4bf1c3bf727eb \n",
      "writing manifest \n",
      "success"
     ]
    }
   ],
   "source": [
    "!ollama create CodeQwen1.5-7B-Chat-Q4-KM -f ollama_modelfile/Modelfile_codeqwen"
   ]
  },
  {
   "cell_type": "markdown",
   "metadata": {},
   "source": [
    "Ya tenemos el modelo creado, lo podemos comprobar haciendo `ollama list`"
   ]
  },
  {
   "cell_type": "code",
   "execution_count": 8,
   "metadata": {},
   "outputs": [
    {
     "name": "stdout",
     "output_type": "stream",
     "text": [
      "NAME                            \tID          \tSIZE  \tMODIFIED           \n",
      "CodeQwen1.5-7B-Chat-Q4-KM:latest\t4fe061b1854c\t4.7 GB\tAbout a minute ago\t\n",
      "codeqwen:latest                 \ta6f7662764bd\t4.2 GB\t14 minutes ago    \t\n",
      "assistanmal:latest              \t2be327b28fbf\t4.9 GB\t12 days ago       \t\n",
      "llama3:70b                      \t786f3184aec0\t39 GB \t2 weeks ago       \t\n",
      "llava:latest                    \t8dd30f6b0cb1\t4.7 GB\t2 weeks ago       \t\n",
      "moondream:latest                \t55fc3abd3867\t1.7 GB\t2 weeks ago       \t\n",
      "phi3:latest                     \ta2c89ceaed85\t2.3 GB\t2 weeks ago       \t\n",
      "llama3:latest                   \t365c0bd3c000\t4.7 GB\t2 weeks ago       \t\n"
     ]
    }
   ],
   "source": [
    "!ollama list"
   ]
  },
  {
   "cell_type": "markdown",
   "metadata": {},
   "source": [
    "Si no vamos a usar el modelo `codeqwen:latest` lo podemos eliminar para que no ocupe memoria"
   ]
  },
  {
   "cell_type": "code",
   "execution_count": 9,
   "metadata": {},
   "outputs": [
    {
     "name": "stdout",
     "output_type": "stream",
     "text": [
      "deleted 'codeqwen:latest'\n"
     ]
    }
   ],
   "source": [
    "!ollama rm codeqwen:latest"
   ]
  },
  {
   "cell_type": "markdown",
   "metadata": {},
   "source": [
    "### Modelo `OpenCodeInterpreter-DS-XB`"
   ]
  },
  {
   "cell_type": "markdown",
   "metadata": {},
   "source": [
    "Este modelo es de la comunidad de investigación de código abierto `M-A-P`.\n",
    "\n",
    "Este modelo no está disponible en la [librería de ollama](https://ollama.com/library), por lo que directamente vamos a usar uno cuantizado de [Hugging Face](https://huggingface.co/LoneStriker)"
   ]
  },
  {
   "cell_type": "markdown",
   "metadata": {},
   "source": [
    "Como este modelo no está en la librería de ollama, no podemos copiar su `Modelfile`, pero como es un modelo basado en `Llama3`, vamos a reutilizar el `Modelfile` que hemos usado antes para el modelo codeqwen, que también es un modelo basado en `Llama3`."
   ]
  },
  {
   "cell_type": "markdown",
   "metadata": {},
   "source": [
    "Primero descargamos el modelo cuantizado. Igual que antes, hay varios tamaños, pero aquí vamos a quedarnos con el modelo de 4 bits.\n",
    "\n",
    "Si quieres descargar otro, puedes buscar en la página de [archivos](https://huggingface.co/LoneStriker/OpenCodeInterpreter-DS-6.7B-GGUF/tree/main) del modelo de 6.7B de parámetros, o en la página de [archivos](https://huggingface.co/LoneStriker/OpenCodeInterpreter-DS-33B-GGUF/tree/main) del modelo de 33B de parámetros.\n",
    "\n",
    "Para descargarlo hacemos\n",
    "\n",
    "``` bash\n",
    "wget https://huggingface.co/LoneStriker/OpenCodeInterpreter-DS-XB-GGUF/resolve/main/OpenCodeInterpreter-DS-XB-Q4_K_M.gguf -O ollama_modelfile/OpenCodeInterpreter-DS-XB-Q4_K_M.gguf\n",
    "```\n",
    "\n",
    "Cambia el `XB` por `6.7B`, si quieres descargar el modelo de 6.7B de parámetros, o `33B` si quieres descargar el modelo de 33B de parámetros.\n",
    "\n",
    "Aquí vamos a descargar el modelo de 6.7B de parámetros."
   ]
  },
  {
   "cell_type": "code",
   "execution_count": 11,
   "metadata": {},
   "outputs": [
    {
     "name": "stdout",
     "output_type": "stream",
     "text": [
      "--2024-06-05 19:31:34--  https://huggingface.co/LoneStriker/OpenCodeInterpreter-DS-6.7B-GGUF/resolve/main/OpenCodeInterpreter-DS-6.7B-Q4_K_M.gguf\n",
      "Resolviendo huggingface.co (huggingface.co)... 54.192.95.21, 54.192.95.70, 54.192.95.79, ...\n",
      "Conectando con huggingface.co (huggingface.co)[54.192.95.21]:443... conectado.\n",
      "Petición HTTP enviada, esperando respuesta... 302 Found\n",
      "Ubicación: https://cdn-lfs-us-1.huggingface.co/repos/74/63/7463865bd55e4e51499482f3c076e3ff9f10373e64db8fb998f51ee734f9035b/70c9a18a4b21dcc5c468a0a1bc8386005474793e2ff067b98545740162af4c96?response-content-disposition=attachment%3B+filename*%3DUTF-8%27%27OpenCodeInterpreter-DS-6.7B-Q4_K_M.gguf%3B+filename%3D%22OpenCodeInterpreter-DS-6.7B-Q4_K_M.gguf%22%3B&Expires=1717867894&Policy=eyJTdGF0ZW1lbnQiOlt7IkNvbmRpdGlvbiI6eyJEYXRlTGVzc1RoYW4iOnsiQVdTOkVwb2NoVGltZSI6MTcxNzg2Nzg5NH19LCJSZXNvdXJjZSI6Imh0dHBzOi8vY2RuLWxmcy11cy0xLmh1Z2dpbmdmYWNlLmNvL3JlcG9zLzc0LzYzLzc0NjM4NjViZDU1ZTRlNTE0OTk0ODJmM2MwNzZlM2ZmOWYxMDM3M2U2NGRiOGZiOTk4ZjUxZWU3MzRmOTAzNWIvNzBjOWExOGE0YjIxZGNjNWM0NjhhMGExYmM4Mzg2MDA1NDc0NzkzZTJmZjA2N2I5ODU0NTc0MDE2MmFmNGM5Nj9yZXNwb25zZS1jb250ZW50LWRpc3Bvc2l0aW9uPSoifV19&Signature=XO7TOFiWaIXpcEQlCX3mInnZ0MoFxKi18Ves1vbtIn6OpwcwQDiiwg6dnzSr%7EbN4qBvyzGl-mrZTAR7p1dh5qod5hge9GZL7EAosCYBy8Xt60JFQltE1jc1MOb9GOgy3x4xtxZwWTUspdWqoahY3D33xgs7HvryAoBuBTQQ0Mb-M1%7EKed--ZsNZWseH0ZJ5tiL3BPEYRsMdNKPCz4aLbzzgTr5UB5qCM-Izf6QPS-2--ZdQQMHv2ny%7E9lA3I4PCb1R3BavnPQSQ4g7Lbbw-P9HJ1Wtkb%7EcmEDmSixT1fJysbc5RMh-IK7IvpRTxM9wEZdnpD9ITc94hUQPdV2r0T2A__&Key-Pair-Id=KCD77M1F0VK2B [siguiente]\n",
      "--2024-06-05 19:31:34--  https://cdn-lfs-us-1.huggingface.co/repos/74/63/7463865bd55e4e51499482f3c076e3ff9f10373e64db8fb998f51ee734f9035b/70c9a18a4b21dcc5c468a0a1bc8386005474793e2ff067b98545740162af4c96?response-content-disposition=attachment%3B+filename*%3DUTF-8%27%27OpenCodeInterpreter-DS-6.7B-Q4_K_M.gguf%3B+filename%3D%22OpenCodeInterpreter-DS-6.7B-Q4_K_M.gguf%22%3B&Expires=1717867894&Policy=eyJTdGF0ZW1lbnQiOlt7IkNvbmRpdGlvbiI6eyJEYXRlTGVzc1RoYW4iOnsiQVdTOkVwb2NoVGltZSI6MTcxNzg2Nzg5NH19LCJSZXNvdXJjZSI6Imh0dHBzOi8vY2RuLWxmcy11cy0xLmh1Z2dpbmdmYWNlLmNvL3JlcG9zLzc0LzYzLzc0NjM4NjViZDU1ZTRlNTE0OTk0ODJmM2MwNzZlM2ZmOWYxMDM3M2U2NGRiOGZiOTk4ZjUxZWU3MzRmOTAzNWIvNzBjOWExOGE0YjIxZGNjNWM0NjhhMGExYmM4Mzg2MDA1NDc0NzkzZTJmZjA2N2I5ODU0NTc0MDE2MmFmNGM5Nj9yZXNwb25zZS1jb250ZW50LWRpc3Bvc2l0aW9uPSoifV19&Signature=XO7TOFiWaIXpcEQlCX3mInnZ0MoFxKi18Ves1vbtIn6OpwcwQDiiwg6dnzSr%7EbN4qBvyzGl-mrZTAR7p1dh5qod5hge9GZL7EAosCYBy8Xt60JFQltE1jc1MOb9GOgy3x4xtxZwWTUspdWqoahY3D33xgs7HvryAoBuBTQQ0Mb-M1%7EKed--ZsNZWseH0ZJ5tiL3BPEYRsMdNKPCz4aLbzzgTr5UB5qCM-Izf6QPS-2--ZdQQMHv2ny%7E9lA3I4PCb1R3BavnPQSQ4g7Lbbw-P9HJ1Wtkb%7EcmEDmSixT1fJysbc5RMh-IK7IvpRTxM9wEZdnpD9ITc94hUQPdV2r0T2A__&Key-Pair-Id=KCD77M1F0VK2B\n",
      "Resolviendo cdn-lfs-us-1.huggingface.co (cdn-lfs-us-1.huggingface.co)... 108.157.98.92, 108.157.98.96, 108.157.98.55, ...\n",
      "Conectando con cdn-lfs-us-1.huggingface.co (cdn-lfs-us-1.huggingface.co)[108.157.98.92]:443... conectado.\n",
      "Petición HTTP enviada, esperando respuesta... 200 OK\n",
      "Longitud: 4083016864 (3,8G) [binary/octet-stream]\n",
      "Guardando como: “ollama_modelfile/OpenCodeInterpreter-DS-6.7B-Q4_K_M.gguf”\n",
      "\n",
      "ollama_modelfile/Op 100%[===================>]   3,80G  45,3MB/s    en 87s     \n",
      "\n",
      "2024-06-05 19:33:01 (44,7 MB/s) - “ollama_modelfile/OpenCodeInterpreter-DS-6.7B-Q4_K_M.gguf” guardado [4083016864/4083016864]\n",
      "\n"
     ]
    }
   ],
   "source": [
    "!wget https://huggingface.co/LoneStriker/OpenCodeInterpreter-DS-6.7B-GGUF/resolve/main/OpenCodeInterpreter-DS-6.7B-Q4_K_M.gguf -O ollama_modelfile/OpenCodeInterpreter-DS-6.7B-Q4_K_M.gguf"
   ]
  },
  {
   "cell_type": "markdown",
   "metadata": {},
   "source": [
    "Ahora escribimos el `Modelfile`. Acuérdate de cambiar `33B` por `6.7B` si has descargado el modelo de 33B de parámetros."
   ]
  },
  {
   "cell_type": "code",
   "execution_count": 12,
   "metadata": {},
   "outputs": [
    {
     "name": "stdout",
     "output_type": "stream",
     "text": [
      "Writing ollama_modelfile/Modelfile_open_code_interpreter\n"
     ]
    }
   ],
   "source": [
    "%%writefile ollama_modelfile/Modelfile_open_code_interpreter\n",
    "FROM ./OpenCodeInterpreter-DS-6.7B-Q4_K_M.gguf\n",
    "TEMPLATE \"{{ if .System }}<|im_start|>system\n",
    "{{ .System }}<|im_end|>\n",
    "{{ end }}{{ if .Prompt }}<|im_start|>user\n",
    "{{ .Prompt }}<|im_end|>\n",
    "{{ end }}<|im_start|>assistant\n",
    "{{ .Response }}<|im_end|>\n",
    "\"\n",
    "PARAMETER stop <|im_start|>\n",
    "PARAMETER stop <|im_end|>\n",
    "SYSTEM \"\"\"You are a code wizard. Always answer in the language in which you are asked\"\"\"\n",
    "LICENSE \"\"\"Apache 2.0 License\"\"\""
   ]
  },
  {
   "cell_type": "markdown",
   "metadata": {},
   "source": [
    "Ya podemos crear el modelo. Recuerda cambiar `33B` por `6.7B` si has descargado el modelo de 33B de parámetros."
   ]
  },
  {
   "cell_type": "code",
   "execution_count": 13,
   "metadata": {},
   "outputs": [
    {
     "name": "stdout",
     "output_type": "stream",
     "text": [
      "transferring model data \n",
      "using existing layer sha256:70c9a18a4b21dcc5c468a0a1bc8386005474793e2ff067b98545740162af4c96 \n",
      "using existing layer sha256:62fbfd9ed093d6e5ac83190c86eec5369317919f4b149598d2dbb38900e9faef \n",
      "using existing layer sha256:f4c662cc04ca185d87fe783239f5ee26f96c0c74bf71cc566cd01ed9c3d14671 \n",
      "creating new layer sha256:075e5377ffe49ea3415840cb784d85a27084d48632eff977f849c2892e766840 \n",
      "using existing layer sha256:f02dd72bb2423204352eabc5637b44d79d17f109fdb510a7c51455892aa2d216 \n",
      "creating new layer sha256:9146d807273bfb83eec116e49f130a2774879b5bba57ee1de1465a031f6e5a03 \n",
      "writing manifest \n",
      "success\n"
     ]
    }
   ],
   "source": [
    "!ollama create OpenCodeInterpreter-DS-6.7B-Q4-KM -f ollama_modelfile/Modelfile_open_code_interpreter"
   ]
  },
  {
   "cell_type": "markdown",
   "metadata": {},
   "source": [
    "Comprobamos que hemos creado bien el modelo"
   ]
  },
  {
   "cell_type": "code",
   "execution_count": 14,
   "metadata": {},
   "outputs": [
    {
     "name": "stdout",
     "output_type": "stream",
     "text": [
      "NAME                                    \tID          \tSIZE  \tMODIFIED           \n",
      "OpenCodeInterpreter-DS-6.7B-Q4-KM:latest\t1c5284fcf99b\t4.1 GB\tAbout a minute ago\t\n",
      "CodeQwen1.5-7B-Chat-Q4-KM:latest        \t4fe061b1854c\t4.7 GB\t26 minutes ago    \t\n",
      "assistanmal:latest                      \t2be327b28fbf\t4.9 GB\t12 days ago       \t\n",
      "llama3:70b                              \t786f3184aec0\t39 GB \t2 weeks ago       \t\n",
      "llava:latest                            \t8dd30f6b0cb1\t4.7 GB\t2 weeks ago       \t\n",
      "moondream:latest                        \t55fc3abd3867\t1.7 GB\t2 weeks ago       \t\n",
      "phi3:latest                             \ta2c89ceaed85\t2.3 GB\t2 weeks ago       \t\n",
      "llama3:latest                           \t365c0bd3c000\t4.7 GB\t2 weeks ago       \t\n"
     ]
    }
   ],
   "source": [
    "!ollama list"
   ]
  },
  {
   "cell_type": "markdown",
   "metadata": {},
   "source": [
    "## Plugin "
   ]
  },
  {
   "cell_type": "markdown",
   "metadata": {},
   "source": [
    "Una vez hemos creado los modelos que vamos a usar, podemos instalar el plugin [continue](https://docs.continue.dev/). Como en cada IDE se hará de una manera, lo mejor es visitar su página [quickstar](https://docs.continue.dev/quickstart) y seguir las instrucciones.\n",
    "\n",
    "De hecho, como todo lo que vamos a hacer, va a depender del IDE. Vamos a contarlo de una manera genérica\n",
    "\n",
    " > Nota: A mi, al instalarlo en VScode no me cargaba, así que para solucionarlo, en la página del plugin seleccioné `Switch to Pre-Release Version`"
   ]
  },
  {
   "cell_type": "markdown",
   "metadata": {},
   "source": [
    "### Desactivar la telemetría"
   ]
  },
  {
   "cell_type": "markdown",
   "metadata": {},
   "source": [
    "Lo primero que tenemos que hacer es desactivar la telemetría del plugin. Para ello cambiamos de `false` el parámetro `allowAnonymousTelemetry` del archivo `~/.continue/config.json`"
   ]
  },
  {
   "cell_type": "code",
   "execution_count": 6,
   "metadata": {},
   "outputs": [
    {
     "name": "stdout",
     "output_type": "stream",
     "text": [
      "{\n",
      "  \"models\": [],\n",
      "  \"customCommands\": [\n",
      "    {\n",
      "      \"name\": \"test\",\n",
      "      \"prompt\": \"{{{ input }}}\\n\\nWrite a comprehensive set of unit tests for the selected code. It should setup, run tests that check for correctness including important edge cases, and teardown. Ensure that the tests are complete and sophisticated. Give the tests just as chat output, don't edit any file.\",\n",
      "      \"description\": \"Write unit tests for highlighted code\"\n",
      "    }\n",
      "  ],\n",
      "  \"tabAutocompleteModel\": {\n",
      "    \"title\": \"Starcoder2 3b\",\n",
      "    \"provider\": \"ollama\",\n",
      "    \"model\": \"starcoder2:3b\"\n",
      "  },\n",
      "  \"allowAnonymousTelemetry\": false\n",
      "}\n"
     ]
    }
   ],
   "source": [
    "!cat ~/.continue/config.json"
   ]
  },
  {
   "cell_type": "code",
   "execution_count": 5,
   "metadata": {},
   "outputs": [
    {
     "name": "stdout",
     "output_type": "stream",
     "text": [
      "sed: no se puede abrir el archivo allabot/.continue/config.json: No existe el archivo o el directorio\n"
     ]
    }
   ],
   "source": [
    "!sed -i's/\"allowAnonymousTelemetry\": true/\"allowAnonymousTelemetry\": false/' ~/.continue/config.json"
   ]
  },
  {
   "cell_type": "markdown",
   "metadata": {},
   "source": [
    "## Configuración del plugin"
   ]
  },
  {
   "cell_type": "markdown",
   "metadata": {},
   "source": [
    "Vamos al plugin en el IDE y nos preguntará si queremos usar una API KEY o modelos locales, elegimos modelos locales"
   ]
  },
  {
   "cell_type": "markdown",
   "metadata": {},
   "source": []
  }
 ],
 "metadata": {
  "kernelspec": {
   "display_name": "base",
   "language": "python",
   "name": "python3"
  },
  "language_info": {
   "codemirror_mode": {
    "name": "ipython",
    "version": 3
   },
   "file_extension": ".py",
   "mimetype": "text/x-python",
   "name": "python",
   "nbconvert_exporter": "python",
   "pygments_lexer": "ipython3",
   "version": "3.11.8"
  }
 },
 "nbformat": 4,
 "nbformat_minor": 2
}
