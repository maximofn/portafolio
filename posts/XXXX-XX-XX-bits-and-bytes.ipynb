{
 "cells": [
  {
   "cell_type": "markdown",
   "metadata": {},
   "source": [
    "# Bits and bytes"
   ]
  },
  {
   "cell_type": "markdown",
   "metadata": {},
   "source": [
    "La blioteca `bitsandbytes` es un wrapper de Python para funciones personalizadas de CUDA, en particular optimizadores de 8 bits, multiplicación de matrices (`LLM.int8()`) y funciones de cuantificación de 8+4 bits.\n",
    "\n",
    "La biblioteca incluye funciones de cuantificación para operaciones de 8 y 4 bits, a través de los optimizadores `bitsandbytes.nn.Linear8bitLt`, `bitsandbytes.nn.Linear4bit` y optimizadores de 8 bits a través del módulo `bitsandbytes.optim`.\n",
    "\n",
    "Se está desarrollando para admitir más backends de hardware, es decir, CPU Intel + GPU, GPU AMD y Apple Silicon. El soporte de Windows también está en camino."
   ]
  },
  {
   "cell_type": "markdown",
   "metadata": {},
   "source": [
    "## Instalación"
   ]
  },
  {
   "cell_type": "markdown",
   "metadata": {},
   "source": [
    "Para instalar `bitsandbytes` es necesario tener una versión de cuda de la 11.0 a la 12.3, así que para comprobar la versión de cuda hacemos lo siguiente:"
   ]
  },
  {
   "cell_type": "code",
   "execution_count": 5,
   "metadata": {},
   "outputs": [
    {
     "name": "stdout",
     "output_type": "stream",
     "text": [
      "nvcc: NVIDIA (R) Cuda compiler driver\n",
      "Copyright (c) 2005-2022 NVIDIA Corporation\n",
      "Built on Wed_Jun__8_16:49:14_PDT_2022\n",
      "Cuda compilation tools, release 11.7, V11.7.99\n",
      "Build cuda_11.7.r11.7/compiler.31442593_0\n"
     ]
    }
   ],
   "source": [
    "!~/miniconda3/bin/nvcc --version"
   ]
  },
  {
   "cell_type": "markdown",
   "metadata": {},
   "source": [
    " > He hecho `!~/miniconda3/bin/nvcc --version` y no `nvcc --version` porque en mi caso tengo instalado miniconda, he creado un entorno para instalar este notebook y no tiene acceso al binario de nvcc."
   ]
  },
  {
   "cell_type": "markdown",
   "metadata": {},
   "source": [
    "Además hay que asegurarse que nuestra GPU cumple estos requisitos\n",
    "\n",
    "|Funciones|Requisitos|\n",
    "|---|---|\n",
    "|LLM.int8()|GPU NVIDIA Turing (serie RTX 20, T4) o Ampere (serie RTX 30, A4-A100)|\n",
    "|Optimizadores/cuantización de 8 bits|NVIDIA Kepler (GTX 780 o posterior)|\n",
    "\n",
    "En mi caso cumplo estos requisitos"
   ]
  },
  {
   "cell_type": "markdown",
   "metadata": {},
   "source": [
    "Si se cumplen los requisitos se puede instalar mediante \n",
    "\n",
    "```bash\n",
    "pip install bitsandbytes\n",
    "```"
   ]
  }
 ],
 "metadata": {
  "kernelspec": {
   "display_name": "base",
   "language": "python",
   "name": "python3"
  },
  "language_info": {
   "codemirror_mode": {
    "name": "ipython",
    "version": 3
   },
   "file_extension": ".py",
   "mimetype": "text/x-python",
   "name": "python",
   "nbconvert_exporter": "python",
   "pygments_lexer": "ipython3",
   "version": "3.11.8"
  }
 },
 "nbformat": 4,
 "nbformat_minor": 2
}
