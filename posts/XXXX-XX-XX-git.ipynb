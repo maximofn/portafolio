{
 "cells": [
  {
   "attachments": {},
   "cell_type": "markdown",
   "metadata": {},
   "source": [
    "# Git"
   ]
  },
  {
   "attachments": {},
   "cell_type": "markdown",
   "metadata": {},
   "source": [
    "## Introducción"
   ]
  },
  {
   "attachments": {},
   "cell_type": "markdown",
   "metadata": {},
   "source": [
    "Git es un software de control de versiones creado por Linus Torvalds, quien lo creó para poder tener un buen control de versiones cuando desarrolló el kernel de Linux."
   ]
  },
  {
   "attachments": {},
   "cell_type": "markdown",
   "metadata": {},
   "source": [
    "## Las áreas de git"
   ]
  },
  {
   "attachments": {},
   "cell_type": "markdown",
   "metadata": {},
   "source": [
    "Git tiene tres áreas, aunque también se puede considerar una cuarta.\n",
    "\n",
    "![git states](https://maximofn.com/wp-content/uploads/2023/03/git-states.png)\n",
    "\n",
    " * La primera es nuestro espacio de trabajo, en ella es donde tenemos todo nuestro código. Aquí cuando modificamos o creamos un archivo este pasa a estar como no trackeado, por lo que tenemos que pasarlo al área de `staged`\n",
    " * La segunda área es la de `staged`. Aquí los archivos que habíamos modificado o creado y que estaban no trackeados pasan a estar trackeados, es decir, git les hace un seguimiento. Aquí mandaremos los archivos al siguiente área de `head`\n",
    " * La tercera área es la de `head`. En ella hemos grabado una versión de nuestro código. De esta manera, grabando versiones podemos volver a versiones pasadas si es necesaro. La versión grabada de nuestro código puede ser mandada a un servidor de manera que sea accesible por varias personas\n",
    " * Las tres áreas anteriores corresponden al trabajo en local, pero hay una área más y y es la de `remote server`. Aquí lo que hacemos es mandar la versión grabada de nuestro código a un servidor de manera que tengamos acceso al código desde cualquier lugar, o que tenga acceso más personas\n",
    "\n",
    "Para hacer un simil, es como un escenario en el que vas a hacer una foto. Primero tienes tus archivos modificados, de manera que los que quieres inmortalizar los mandas al área de `staged`, es decir al escenario. En el momento que has mandado todos los archivos que consideras, haces la foto, por lo que mandas todos los archivos al área de `head`. De esta manera, puedes ir haciendo muchas fotos, según va evolucionando el código, de manera que puedes tener en un álbun de fotos la evolución del código. Por último puedes subir esa foto a una servidor para que sea accesible por más gente, es decir, los mandas al área de `remote server`"
   ]
  },
  {
   "attachments": {},
   "cell_type": "markdown",
   "metadata": {},
   "source": [
    "## Instalar git"
   ]
  },
  {
   "attachments": {},
   "cell_type": "markdown",
   "metadata": {},
   "source": [
    "En la mayoría de distribuciones Linux git ya viene instalado, podemos comprobarlo haciendo `git --version`"
   ]
  },
  {
   "cell_type": "code",
   "execution_count": 1,
   "metadata": {},
   "outputs": [
    {
     "name": "stdout",
     "output_type": "stream",
     "text": [
      "git version 2.25.1\n"
     ]
    }
   ],
   "source": [
    "!git --version"
   ]
  },
  {
   "attachments": {},
   "cell_type": "markdown",
   "metadata": {},
   "source": [
    "Si no lo tienes o quieres actualizar la versión de git solo tienes que ejecutar `sudo apt update` y a continuación `sudo apt install git`"
   ]
  },
  {
   "cell_type": "code",
   "execution_count": 3,
   "metadata": {},
   "outputs": [
    {
     "name": "stdout",
     "output_type": "stream",
     "text": [
      "[sudo] password for maximo.fernandez@AEROESPACIAL.SENER: \n"
     ]
    }
   ],
   "source": [
    "!sudo apt update && sudo apt install git"
   ]
  },
  {
   "attachments": {},
   "cell_type": "markdown",
   "metadata": {},
   "source": [
    "Volvemos a comprobar la versión"
   ]
  },
  {
   "cell_type": "code",
   "execution_count": 4,
   "metadata": {},
   "outputs": [
    {
     "name": "stdout",
     "output_type": "stream",
     "text": [
      "git version 2.25.1\n"
     ]
    }
   ],
   "source": [
    "!git --version"
   ]
  },
  {
   "attachments": {},
   "cell_type": "markdown",
   "metadata": {},
   "source": [
    "En mi caso ya tenía la última versión"
   ]
  },
  {
   "attachments": {},
   "cell_type": "markdown",
   "metadata": {},
   "source": [
    "## Configuración inicial"
   ]
  },
  {
   "attachments": {},
   "cell_type": "markdown",
   "metadata": {},
   "source": [
    "### Configuración del nombre y el correo"
   ]
  },
  {
   "attachments": {},
   "cell_type": "markdown",
   "metadata": {},
   "source": [
    "Antes de empezar a usar git es conveniente que hagas unas configuraciones mínimas como el nombre de usuario y el correo, esta información es la que saldrá a la hora de mostrar quien ha hecho cambios en el código. Para hacer esto hay que ejecutar\n",
    "\n",
    "\n",
    "```bash\n",
    "git config --global user.name \"<nombre de usuario>\"\n",
    "git config --global user.email \"<email>\"\n",
    "```\n",
    "\n",
    "En mi caso metería\n",
    "\n",
    "```bash\n",
    "git config --global user.name \"MaximoFN\"\n",
    "git config --global user.email \"maximofn@gmail.com\n",
    "```"
   ]
  },
  {
   "attachments": {},
   "cell_type": "markdown",
   "metadata": {},
   "source": [
    "Como se puede ver el flag `--global` lo que hace es cambiar la configuración global de git, pero si en un repositorio en concreto tienes que poner otros datos, simplemente navegas hasta el repositorio y quita el flag `--global` de los comandos anteriores\n",
    "\n",
    "```bash\n",
    "git config user.name \"<nombre de usuario>\"\n",
    "git config user.email \"<email>\"\n",
    "```"
   ]
  },
  {
   "attachments": {},
   "cell_type": "markdown",
   "metadata": {},
   "source": [
    "### Configurar el editor por defecto"
   ]
  },
  {
   "attachments": {},
   "cell_type": "markdown",
   "metadata": {},
   "source": [
    "Cuando más adelante expliquemos qué son los `commit`s veremos que en una de las opciones se nos puede abrir un navegador. Por defecto git intentará usar `vim`, pero dado que no es un editor muy sencillo de usar podemos modificarlo, a continuación se muestra cómo hacerlo con algunos editores comunes\n",
    "\n",
    "```bash\n",
    "git config --global core.editor \"code\"  # vscode como editor\n",
    "git config --global core.editor \"atom\"  # Atom como editor\n",
    "git config --global core.editor \"subl\"  # Sublime text como editor\n",
    "git config --global core.editor \"nano\"  # Nano como editor\n",
    "```"
   ]
  },
  {
   "attachments": {},
   "cell_type": "markdown",
   "metadata": {},
   "source": [
    "### Comprobar configuración de git"
   ]
  },
  {
   "attachments": {},
   "cell_type": "markdown",
   "metadata": {},
   "source": [
    "Para revisar la configuración de git podemos usar `git config --lits`"
   ]
  },
  {
   "cell_type": "code",
   "execution_count": 6,
   "metadata": {},
   "outputs": [
    {
     "name": "stdout",
     "output_type": "stream",
     "text": [
      "user.name=maximofn\n",
      "user.email=maximofn@gmail.com\n",
      "user.user=maximofn\n",
      "http.sslverify=true\n",
      "core.repositoryformatversion=0\n",
      "core.filemode=true\n",
      "core.bare=false\n",
      "core.logallrefupdates=true\n",
      "remote.origin.url=https://github.com/maximofn/portafolio.git\n",
      "remote.origin.fetch=+refs/heads/*:refs/remotes/origin/*\n",
      "branch.main.remote=origin\n",
      "branch.main.merge=refs/heads/main\n"
     ]
    }
   ],
   "source": [
    "!git config --list"
   ]
  },
  {
   "attachments": {},
   "cell_type": "markdown",
   "metadata": {},
   "source": [
    "Podemos usar los flags `--global`, `--local` y `--system` para ver solo la configuración global, local (si existe) y de sistema (si existe)"
   ]
  },
  {
   "cell_type": "code",
   "execution_count": 8,
   "metadata": {},
   "outputs": [
    {
     "name": "stdout",
     "output_type": "stream",
     "text": [
      "user.name=maximofn\n",
      "user.email=maximofn@gmail.com\n",
      "user.user=maximofn\n",
      "http.sslverify=true\n"
     ]
    }
   ],
   "source": [
    "!git config --global --list"
   ]
  },
  {
   "cell_type": "code",
   "execution_count": 9,
   "metadata": {},
   "outputs": [
    {
     "name": "stdout",
     "output_type": "stream",
     "text": [
      "core.repositoryformatversion=0\n",
      "core.filemode=true\n",
      "core.bare=false\n",
      "core.logallrefupdates=true\n",
      "remote.origin.url=https://github.com/maximofn/portafolio.git\n",
      "remote.origin.fetch=+refs/heads/*:refs/remotes/origin/*\n",
      "branch.main.remote=origin\n",
      "branch.main.merge=refs/heads/main\n"
     ]
    }
   ],
   "source": [
    "!git config --local --list"
   ]
  },
  {
   "cell_type": "code",
   "execution_count": 10,
   "metadata": {},
   "outputs": [
    {
     "name": "stdout",
     "output_type": "stream",
     "text": [
      "fatal: unable to read config file '/etc/gitconfig': No such file or directory\n"
     ]
    }
   ],
   "source": [
    "!git config --system --list"
   ]
  },
  {
   "attachments": {},
   "cell_type": "markdown",
   "metadata": {},
   "source": [
    "En mi caso no existe configuración de sistema"
   ]
  },
  {
   "attachments": {},
   "cell_type": "markdown",
   "metadata": {},
   "source": [
    "Si solo se quiere saber el valor de un parámetro de la configuración valdría con introducir `git config <parameter>`"
   ]
  },
  {
   "cell_type": "code",
   "execution_count": 15,
   "metadata": {},
   "outputs": [
    {
     "name": "stdout",
     "output_type": "stream",
     "text": [
      "maximofn\n"
     ]
    }
   ],
   "source": [
    "!git config user.name"
   ]
  },
  {
   "attachments": {},
   "cell_type": "markdown",
   "metadata": {},
   "source": [
    "## Control de versiones de manera local"
   ]
  },
  {
   "attachments": {},
   "cell_type": "markdown",
   "metadata": {},
   "source": [
    "### Inicializar un nuevo repositorio (`git init`)"
   ]
  },
  {
   "attachments": {},
   "cell_type": "markdown",
   "metadata": {},
   "source": [
    "Hay dos maneras de inicializar un nuevo repositorio haciendo\n",
    " * Una es haciendo `git init <nombre repositorio>`. Esto creará una nueva carpeta con el nombre del repositorio\n",
    " * Otra es navegando a la carpeta donde queramos crear un repositorio y haciendo `git init`\n",
    "\n",
    "Voy a crear un nuevo repositorio"
   ]
  },
  {
   "cell_type": "code",
   "execution_count": 3,
   "metadata": {},
   "outputs": [
    {
     "name": "stdout",
     "output_type": "stream",
     "text": [
      "Inicializado repositorio Git vacío en /home/wallabot/Documentos/web/portafolio/posts/notebook_git/.git/\n"
     ]
    }
   ],
   "source": [
    "!git init notebook_git"
   ]
  },
  {
   "attachments": {},
   "cell_type": "markdown",
   "metadata": {},
   "source": [
    "Si ahora hacemos `ls` veremos que se ha creado una nueva carpeta llamada `notebook_git`"
   ]
  },
  {
   "cell_type": "code",
   "execution_count": 17,
   "metadata": {},
   "outputs": [
    {
     "name": "stdout",
     "output_type": "stream",
     "text": [
      "notebook_git\n"
     ]
    }
   ],
   "source": [
    "!ls | grep notebook_git"
   ]
  },
  {
   "attachments": {},
   "cell_type": "markdown",
   "metadata": {},
   "source": [
    "Nos movemos a ella"
   ]
  },
  {
   "cell_type": "code",
   "execution_count": 18,
   "metadata": {},
   "outputs": [],
   "source": [
    "!cd notebook_git"
   ]
  },
  {
   "attachments": {},
   "cell_type": "markdown",
   "metadata": {},
   "source": [
    "Ahora dentro de la carpeta tenemos dos maneras de saber que se ha creado el repositorio, una haciendo `ls -a` que mostará todos los archivos y veremos que hay una carpeta llamada `.git`. La otra manera es haciendo `git status` que nos dirá el estado del repositorio"
   ]
  },
  {
   "cell_type": "code",
   "execution_count": 20,
   "metadata": {},
   "outputs": [
    {
     "name": "stdout",
     "output_type": "stream",
     "text": [
      ".  ..  .git\n"
     ]
    }
   ],
   "source": [
    "!cd notebook_git && ls -a"
   ]
  },
  {
   "cell_type": "code",
   "execution_count": 21,
   "metadata": {},
   "outputs": [
    {
     "name": "stdout",
     "output_type": "stream",
     "text": [
      "On branch master\n",
      "\n",
      "No commits yet\n",
      "\n",
      "nothing to commit (create/copy files and use \"git add\" to track)\n"
     ]
    }
   ],
   "source": [
    "!cd notebook_git && git status"
   ]
  },
  {
   "attachments": {},
   "cell_type": "markdown",
   "metadata": {},
   "source": [
    "Como estamos en un notebook, cada celda tiene su `path` en el `path` del notebook, por eso las dos veces he tenido que hacer `cd notebook_git &&`, para que cambie a la carpeta con el repositorio que acabamos de crear."
   ]
  },
  {
   "attachments": {},
   "cell_type": "markdown",
   "metadata": {},
   "source": [
    "Si ahora pruebo `git status` en otro `path` donde no se haya inicializado un repositorio nos dará un error"
   ]
  },
  {
   "cell_type": "code",
   "execution_count": 23,
   "metadata": {},
   "outputs": [
    {
     "name": "stdout",
     "output_type": "stream",
     "text": [
      "fatal: not a git repository (or any of the parent directories): .git\n"
     ]
    }
   ],
   "source": [
    "!cd ~/ && git status"
   ]
  },
  {
   "attachments": {},
   "cell_type": "markdown",
   "metadata": {},
   "source": [
    "### Crear nuevos archivos"
   ]
  },
  {
   "attachments": {},
   "cell_type": "markdown",
   "metadata": {},
   "source": [
    "En el momento que hemos inicializado un repositorio podemos empezar a crear nuevos archivos, así que creamos uno y vemos qué ocurre"
   ]
  },
  {
   "cell_type": "code",
   "execution_count": 5,
   "metadata": {},
   "outputs": [],
   "source": [
    "!cd notebook_git && echo \"print('Hello World')\" > hello.py"
   ]
  },
  {
   "attachments": {},
   "cell_type": "markdown",
   "metadata": {},
   "source": [
    "Si ahora volvemos a hacer `git status` vemos qué nos aparece"
   ]
  },
  {
   "cell_type": "code",
   "execution_count": 6,
   "metadata": {},
   "outputs": [
    {
     "name": "stdout",
     "output_type": "stream",
     "text": [
      "En la rama master\n",
      "\n",
      "No hay commits todavía\n",
      "\n",
      "Archivos sin seguimiento:\n",
      "  (usa \"git add <archivo>...\" para incluirlo a lo que se será confirmado)\n",
      "\t\u001b[31mhello.py\u001b[m\n",
      "\n",
      "no hay nada agregado al commit pero hay archivos sin seguimiento presentes (usa \"git add\" para hacerles seguimiento)\n"
     ]
    }
   ],
   "source": [
    "!cd notebook_git && git status"
   ]
  },
  {
   "attachments": {},
   "cell_type": "markdown",
   "metadata": {},
   "source": [
    "Como se puede ver ahora nos está diciendo que el archivo `hello.py` no tiene seguimiento. Es decir tenemos que añadir `hello.py` al área de `staged`, que recordemos era como el escenario donde íbamos a poner todo lo que más tarde le haremos una foto"
   ]
  },
  {
   "attachments": {},
   "cell_type": "markdown",
   "metadata": {},
   "source": [
    "### Deshacer la creación de un archivo nuevo"
   ]
  },
  {
   "attachments": {},
   "cell_type": "markdown",
   "metadata": {},
   "source": [
    "En este caso, como son archivos que git aun no está siguiendo, es decir, que aun no están en el área de `staged` tendríamos tres maneras de hacerlo"
   ]
  },
  {
   "attachments": {},
   "cell_type": "markdown",
   "metadata": {},
   "source": [
    " * Borrándolo simplemente: Como git aun no sigue el archivo podríamos hacer `rm hello.py` y listo\n",
    " * Borrándolo mediante un comando de git: Antes hemos borrado con `rm` pero es posible que estés en un sistema que no tenga el comando `rm` por lo que en ese caso se puede usar el comando de git `git rm hello.py`\n",
    " * Por último podemos usar `git clean`. Este es útil por ejemplo cuando hay muchos archivos nuevos, y así en un solo comando eliminamos todos"
   ]
  },
  {
   "attachments": {},
   "cell_type": "markdown",
   "metadata": {},
   "source": [
    "#### `git clean`"
   ]
  },
  {
   "attachments": {},
   "cell_type": "markdown",
   "metadata": {},
   "source": [
    "Si ejecutamos `git clean` a secas nos dará un error"
   ]
  },
  {
   "cell_type": "code",
   "execution_count": 2,
   "metadata": {},
   "outputs": [
    {
     "name": "stdout",
     "output_type": "stream",
     "text": [
      "fatal: clean.requireForce default en true y ninguno de -i, -n, ni -f entregado; rehusando el clean\n"
     ]
    }
   ],
   "source": [
    "!cd notebook_git && git clean"
   ]
  },
  {
   "attachments": {},
   "cell_type": "markdown",
   "metadata": {},
   "source": [
    "Nos está diciendo que hace falta añadir uno de estos flags `-n`, `-i` y `-f`. Además vamos a ver el flag `-d`\n",
    "\n",
    " * `-n` (dry run): Nos dirá qué archivos se van a borrar, pero no los borrará\n",
    " * `-i`: Nos preguntará por cada archivo que se va a borrar\n",
    " * `-f`: Forzará el borrado de los archivos\n",
    " * `-d`: También borrará carpetas"
   ]
  },
  {
   "attachments": {},
   "cell_type": "markdown",
   "metadata": {},
   "source": [
    "Vamos a probarlo, primero hacemos `git clean -n` para saber qué archivos se borrarían"
   ]
  },
  {
   "cell_type": "code",
   "execution_count": 4,
   "metadata": {},
   "outputs": [
    {
     "name": "stdout",
     "output_type": "stream",
     "text": [
      "Será borrado hello.py\n"
     ]
    }
   ],
   "source": [
    "!cd notebook_git && git clean -n"
   ]
  },
  {
   "attachments": {},
   "cell_type": "markdown",
   "metadata": {},
   "source": [
    "Ahora hacemos `git clean -f` para que lo borre, ya que estamos de acuerdo en que lo borre"
   ]
  },
  {
   "cell_type": "code",
   "execution_count": 5,
   "metadata": {},
   "outputs": [
    {
     "name": "stdout",
     "output_type": "stream",
     "text": [
      "Borrando hello.py\n"
     ]
    }
   ],
   "source": [
    "!cd notebook_git && git clean -f"
   ]
  },
  {
   "attachments": {},
   "cell_type": "markdown",
   "metadata": {},
   "source": [
    "Como vemos ha borrado `hello.py`"
   ]
  },
  {
   "attachments": {},
   "cell_type": "markdown",
   "metadata": {},
   "source": [
    "### Añadir un archivo al área de staged (`git add`)"
   ]
  },
  {
   "attachments": {},
   "cell_type": "markdown",
   "metadata": {},
   "source": [
    "Volvemos a crear un archivo"
   ]
  },
  {
   "cell_type": "code",
   "execution_count": 6,
   "metadata": {},
   "outputs": [],
   "source": [
    "!cd notebook_git && echo \"print('Hola mundo')\" > hola.py"
   ]
  },
  {
   "attachments": {},
   "cell_type": "markdown",
   "metadata": {},
   "source": [
    "Volvemos a hacer un `git status` para comprobar que tenemos el archivo"
   ]
  },
  {
   "cell_type": "code",
   "execution_count": 7,
   "metadata": {},
   "outputs": [
    {
     "name": "stdout",
     "output_type": "stream",
     "text": [
      "En la rama master\n",
      "\n",
      "No hay commits todavía\n",
      "\n",
      "Archivos sin seguimiento:\n",
      "  (usa \"git add <archivo>...\" para incluirlo a lo que se será confirmado)\n",
      "\t\u001b[31mhola.py\u001b[m\n",
      "\n",
      "no hay nada agregado al commit pero hay archivos sin seguimiento presentes (usa \"git add\" para hacerles seguimiento)\n"
     ]
    }
   ],
   "source": [
    "!cd notebook_git && git status"
   ]
  },
  {
   "attachments": {},
   "cell_type": "markdown",
   "metadata": {},
   "source": [
    "Vemos que tenemos el archivo `hola.py` pero que git no le está haciendo un seguimiento. Además vemos que nos ayuda y nos dice `usa \"git add\" para hacerles seguimiento`\n",
    "\n",
    "La sintaxis es la siguiente `git add <archivo>`, pero podemos hacerlo de varias maneras\n",
    "\n",
    " * Si queremos añadir más de un archivo lo podemos hacer poniendo todos los archivos que queremos añadir al área de staged, separados por un espacio: `git add <archivo1> <archivo2> <archivo3>`\n",
    " * Si queremos añadir todos los archivos de un mismo formato, por ejemplo, si queremos añadir todos los archivos de python sería `git add *.py`\n",
    " * Si queremos añadir todos los archivos de una carpeta `git add <folder>/`\n",
    " * Si queremos añadir todos los archivos tenemos tres maneras, `git add --all`, `git add -A` o `git add .`"
   ]
  },
  {
   "attachments": {},
   "cell_type": "markdown",
   "metadata": {},
   "source": [
    "Vamos a añadir el nuevo archivo creado"
   ]
  },
  {
   "cell_type": "code",
   "execution_count": 8,
   "metadata": {},
   "outputs": [],
   "source": [
    "!cd notebook_git && git add hola.py"
   ]
  },
  {
   "attachments": {},
   "cell_type": "markdown",
   "metadata": {},
   "source": [
    "Hacemos un `git status` para ver qué ha pasado"
   ]
  },
  {
   "cell_type": "code",
   "execution_count": 9,
   "metadata": {},
   "outputs": [
    {
     "name": "stdout",
     "output_type": "stream",
     "text": [
      "En la rama master\n",
      "\n",
      "No hay commits todavía\n",
      "\n",
      "Cambios a ser confirmados:\n",
      "  (usa \"git rm --cached <archivo>...\" para sacar del área de stage)\n",
      "\t\u001b[32mnuevos archivos: hola.py\u001b[m\n",
      "\n"
     ]
    }
   ],
   "source": [
    "!cd notebook_git && git status"
   ]
  },
  {
   "attachments": {},
   "cell_type": "markdown",
   "metadata": {},
   "source": [
    "Como vemos nos dice que tenemos un nuevo archivo al que le hace seguimiento y que está pendiente de ser confirmado `hola.py`"
   ]
  },
  {
   "attachments": {},
   "cell_type": "markdown",
   "metadata": {},
   "source": [
    "### Sacar un archivo del área de staged (`git reset`)"
   ]
  },
  {
   "attachments": {},
   "cell_type": "markdown",
   "metadata": {},
   "source": [
    "En caso de que añadamos un archivo al área de staged y lo queramos sacar tenemos que usar `git reset <archivo>`, vamos a verlo"
   ]
  },
  {
   "attachments": {},
   "cell_type": "markdown",
   "metadata": {},
   "source": [
    "Creamos y añadimos al área de staged un nuevo archivo"
   ]
  },
  {
   "cell_type": "code",
   "execution_count": 10,
   "metadata": {},
   "outputs": [],
   "source": [
    "!cd notebook_git && echo \"print('Este no')\" > adios.py && git add adios.py"
   ]
  },
  {
   "attachments": {},
   "cell_type": "markdown",
   "metadata": {},
   "source": [
    "Hacemos `git status` para comprobar que está en el área de staged"
   ]
  },
  {
   "cell_type": "code",
   "execution_count": 11,
   "metadata": {},
   "outputs": [
    {
     "name": "stdout",
     "output_type": "stream",
     "text": [
      "En la rama master\n",
      "\n",
      "No hay commits todavía\n",
      "\n",
      "Cambios a ser confirmados:\n",
      "  (usa \"git rm --cached <archivo>...\" para sacar del área de stage)\n",
      "\t\u001b[32mnuevos archivos: adios.py\u001b[m\n",
      "\t\u001b[32mnuevos archivos: hola.py\u001b[m\n",
      "\n"
     ]
    }
   ],
   "source": [
    "!cd notebook_git && git status"
   ]
  },
  {
   "attachments": {},
   "cell_type": "markdown",
   "metadata": {},
   "source": [
    "Como vemos están `hola.py` y `adios.py`, así que usamos `git reset adios.py` para sacarlo del área de staged"
   ]
  },
  {
   "cell_type": "code",
   "execution_count": 12,
   "metadata": {},
   "outputs": [],
   "source": [
    "!cd notebook_git && git reset adios.py"
   ]
  },
  {
   "attachments": {},
   "cell_type": "markdown",
   "metadata": {},
   "source": [
    "Hacemos un `git status` para comprobar que ha salido"
   ]
  },
  {
   "cell_type": "code",
   "execution_count": 13,
   "metadata": {},
   "outputs": [
    {
     "name": "stdout",
     "output_type": "stream",
     "text": [
      "En la rama master\n",
      "\n",
      "No hay commits todavía\n",
      "\n",
      "Cambios a ser confirmados:\n",
      "  (usa \"git rm --cached <archivo>...\" para sacar del área de stage)\n",
      "\t\u001b[32mnuevos archivos: hola.py\u001b[m\n",
      "\n",
      "Archivos sin seguimiento:\n",
      "  (usa \"git add <archivo>...\" para incluirlo a lo que se será confirmado)\n",
      "\t\u001b[31madios.py\u001b[m\n",
      "\n"
     ]
    }
   ],
   "source": [
    "!cd notebook_git && git status"
   ]
  },
  {
   "attachments": {},
   "cell_type": "markdown",
   "metadata": {},
   "source": [
    "Podemos ver que `adios.py` ya no tiene seguimiento por parte de git, lo ha sacado del área de staged"
   ]
  },
  {
   "attachments": {},
   "cell_type": "markdown",
   "metadata": {},
   "source": [
    "Hacemos `git clean -f` para borrarlo"
   ]
  },
  {
   "cell_type": "code",
   "execution_count": 14,
   "metadata": {},
   "outputs": [
    {
     "name": "stdout",
     "output_type": "stream",
     "text": [
      "Borrando adios.py\n",
      "En la rama master\n",
      "\n",
      "No hay commits todavía\n",
      "\n",
      "Cambios a ser confirmados:\n",
      "  (usa \"git rm --cached <archivo>...\" para sacar del área de stage)\n",
      "\t\u001b[32mnuevos archivos: hola.py\u001b[m\n",
      "\n"
     ]
    }
   ],
   "source": [
    "!cd notebook_git && git clean -f && git status"
   ]
  },
  {
   "attachments": {},
   "cell_type": "markdown",
   "metadata": {},
   "source": [
    "### Commit (`git commit`)"
   ]
  },
  {
   "attachments": {},
   "cell_type": "markdown",
   "metadata": {},
   "source": [
    "Si volvemos al simil en el que digimos que el área de staged era el escenario donde mandábamos los archivos a los que queríamos hacerles la foto, ahora toca hacer la foto para inmortalizar el estado actual. Esto es hacer un `commit`\n",
    "\n",
    "De esta manera se registra el estado actual del código, así con cada commit, se irá teniendo un registro de la evolución del código. Al igual que con un album de fotos, con cada foto vamos teniendo un registro de la evolución de lo que ponemos en el escenario."
   ]
  },
  {
   "attachments": {},
   "cell_type": "markdown",
   "metadata": {},
   "source": [
    "Como a la hora de hacer el commit se está registrando el cambio del código, git no nos deja hacer el commit si no hacemos un mínimo comentario. Por lo que hay dos maneras de hacer commit\n",
    "\n",
    " * `git commit` de esta manera se abrirá el editor que hayamos establecido en la configuración de git. Si no hemos configurado un editor por defecto, se abrirá `vi`. Si queremos cambiar la configuración del editor podemos hacer por ejemplo `git config --global core.editor \"code\"` o `git config core.editor \"code\"` para establecer vscode como el editor por defecto de manera global o local.\n",
    " * `git commit -m \"Mensaje de commit\"`. De esta manera añadimos el mensaje directamente\n",
    "\n",
    "Al hacer el commit de la primera forma podemos tener una primera línea que será el título del commit y varias líneas más donde se explica en más detalle. Si queremos poder hacer esto con el flag `-m` bastará con añadir varios flags `-m` seguidos: `git commit -m \"Titulo del commit\" -m \"Primera linea explicando más\" -m \"Segunda linea explicando más\"`"
   ]
  },
  {
   "attachments": {},
   "cell_type": "markdown",
   "metadata": {},
   "source": [
    "Una vez hemos hecho el commit, esto guardará un registro del cambio de nuestro repositorio de manera local. Aun no hemos conectado con un servidor remoto"
   ]
  },
  {
   "attachments": {},
   "cell_type": "markdown",
   "metadata": {},
   "source": [
    "Vamos a probar a hacer el commit"
   ]
  },
  {
   "cell_type": "code",
   "execution_count": 15,
   "metadata": {},
   "outputs": [
    {
     "name": "stdout",
     "output_type": "stream",
     "text": [
      "[master (commit-raíz) 8e24598] Primer commit, hola.py\n",
      " 1 file changed, 1 insertion(+)\n",
      " create mode 100644 hola.py\n"
     ]
    }
   ],
   "source": [
    "!cd notebook_git && git commit -m \"Primer commit, hola.py\""
   ]
  },
  {
   "attachments": {},
   "cell_type": "markdown",
   "metadata": {},
   "source": [
    "Hacemos un `git status`"
   ]
  },
  {
   "cell_type": "code",
   "execution_count": 16,
   "metadata": {},
   "outputs": [
    {
     "name": "stdout",
     "output_type": "stream",
     "text": [
      "En la rama master\n",
      "nada para hacer commit, el árbol de trabajo está limpio\n"
     ]
    }
   ],
   "source": [
    "!cd notebook_git && git status"
   ]
  },
  {
   "attachments": {},
   "cell_type": "markdown",
   "metadata": {},
   "source": [
    "Vemos que nos dice que no hay nada nuevo, tenemos todo nuestro repositorio totalmente controlado"
   ]
  },
  {
   "attachments": {},
   "cell_type": "markdown",
   "metadata": {},
   "source": [
    "#### Commit saltandonos add (`git commit -a -m` o `git commit -am`)"
   ]
  },
  {
   "attachments": {},
   "cell_type": "markdown",
   "metadata": {},
   "source": [
    "En el caso en el que todos los archivos que hayamos modificados los queramos llevar al área de staged y luego hacerles un commit, podemos hacer todo esto en un solo paso mediante `git commit -a -m \"mensaje\"`, `git commit --all -m \"mensaje\"` o `git commit -am \"mensaje\"`\n",
    "\n",
    " > Nota: Esto solo es válido si se modifica un archivo. Si el archivo es nuevo y git no le hace seguimiento, esto no es válido\n",
    "\n",
    "Veamos un ejemplo, vamos a modificar `hola.py`"
   ]
  },
  {
   "cell_type": "code",
   "execution_count": 1,
   "metadata": {},
   "outputs": [],
   "source": [
    "!cd notebook_git && echo \"print('He añadido una nueva linea')\" >> hola.py"
   ]
  },
  {
   "attachments": {},
   "cell_type": "markdown",
   "metadata": {},
   "source": [
    "Vamos a hacer un `git status` para asegurarnos"
   ]
  },
  {
   "cell_type": "code",
   "execution_count": 2,
   "metadata": {},
   "outputs": [
    {
     "name": "stdout",
     "output_type": "stream",
     "text": [
      "En la rama master\n",
      "Cambios no rastreados para el commit:\n",
      "  (usa \"git add <archivo>...\" para actualizar lo que será confirmado)\n",
      "  (usa \"git restore <archivo>...\" para descartar los cambios en el directorio de trabajo)\n",
      "\t\u001b[31mmodificados:     hola.py\u001b[m\n",
      "\n",
      "sin cambios agregados al commit (usa \"git add\" y/o \"git commit -a\")\n"
     ]
    }
   ],
   "source": [
    "!cd notebook_git && git status"
   ]
  },
  {
   "attachments": {},
   "cell_type": "markdown",
   "metadata": {},
   "source": [
    "Podemos ver que en la propia ayuda de git ya nos sugiere usar `git commit -a`, asçi que vamos a hacerlo"
   ]
  },
  {
   "cell_type": "code",
   "execution_count": 3,
   "metadata": {},
   "outputs": [
    {
     "name": "stdout",
     "output_type": "stream",
     "text": [
      "[master 1d3a290] Segundo commit, hola.py\n",
      " 1 file changed, 1 insertion(+)\n"
     ]
    }
   ],
   "source": [
    "!cd notebook_git && git commit -am \"Segundo commit, hola.py\""
   ]
  },
  {
   "attachments": {},
   "cell_type": "markdown",
   "metadata": {},
   "source": [
    "Volvemos a hacer un `git status`"
   ]
  },
  {
   "cell_type": "code",
   "execution_count": 4,
   "metadata": {},
   "outputs": [
    {
     "name": "stdout",
     "output_type": "stream",
     "text": [
      "En la rama master\n",
      "nada para hacer commit, el árbol de trabajo está limpio\n"
     ]
    }
   ],
   "source": [
    "!cd notebook_git && git status"
   ]
  },
  {
   "attachments": {},
   "cell_type": "markdown",
   "metadata": {},
   "source": [
    "No hay nada para hacer commit, ya se ha hecho el comit del cambio"
   ]
  },
  {
   "attachments": {},
   "cell_type": "markdown",
   "metadata": {},
   "source": [
    "### Histórico de cambios (`git log`)"
   ]
  },
  {
   "attachments": {},
   "cell_type": "markdown",
   "metadata": {},
   "source": [
    "Con git podemos ver el historial de todos los cambios que hemos ido commiteando, para ello usamos `git log`. Es como si nos pusiéramos a revisar nuestro album de fotos"
   ]
  },
  {
   "cell_type": "code",
   "execution_count": 5,
   "metadata": {},
   "outputs": [
    {
     "name": "stdout",
     "output_type": "stream",
     "text": [
      "\u001b[33mcommit 1d3a29075d83ae4c2ed763596b817a91a458535b\u001b[m\u001b[33m (\u001b[m\u001b[1;36mHEAD -> \u001b[m\u001b[1;32mmaster\u001b[m\u001b[33m)\u001b[m\n",
      "Author: maximofn <maximofn@gmail.com>\n",
      "Date:   Thu Mar 30 16:48:15 2023 +0200\n",
      "\n",
      "    Segundo commit, hola.py\n",
      "\n",
      "\u001b[33mcommit 8e24598253005f263ddea3b7261b00ea306d2de8\u001b[m\n",
      "Author: maximofn <maximofn@gmail.com>\n",
      "Date:   Wed Mar 29 15:56:27 2023 +0200\n",
      "\n",
      "    Primer commit, hola.py\n"
     ]
    }
   ],
   "source": [
    "!cd notebook_git && git log"
   ]
  },
  {
   "attachments": {},
   "cell_type": "markdown",
   "metadata": {},
   "source": [
    "Podemos ver el historial de cambios, hay que leerlo de abajo arriba.\n",
    "\n",
    "Primero vemos el commit con mensaje `Primer commit, hola.py`, podemos ver la fecha, el autor y el hash, que es su identificador único\n",
    "\n",
    "A continuación vemos el segundo commit con mensaje `Segundo commit, hola.py`, con su fecha, autor y hash. Además nos muestra dónde está el `HEAD` y en qué rama estamos"
   ]
  },
  {
   "attachments": {},
   "cell_type": "markdown",
   "metadata": {},
   "source": [
    "Más adelante hablaremos sobre las ramas, pero ahora vamos a ver qué es el `HEAD`"
   ]
  },
  {
   "attachments": {},
   "cell_type": "markdown",
   "metadata": {},
   "source": [
    "### HEAD"
   ]
  },
  {
   "attachments": {},
   "cell_type": "markdown",
   "metadata": {},
   "source": [
    "Mientras desarrollábamos hemos podido hacer cambios y commitearlos, es decir, hemos ido rellenando el album de fotos de nuestro código. `HEAD` es la posición en el album en la que estamos.\n",
    "\n",
    "Normalmente es la última posición de todos los commits."
   ]
  },
  {
   "attachments": {},
   "cell_type": "markdown",
   "metadata": {},
   "source": [
    "Si queremos saber en qué punto estamos lo podemos hacer mediante `git rev-parse HEAD`"
   ]
  },
  {
   "cell_type": "code",
   "execution_count": 2,
   "metadata": {},
   "outputs": [
    {
     "name": "stdout",
     "output_type": "stream",
     "text": [
      "1d3a29075d83ae4c2ed763596b817a91a458535b\n"
     ]
    }
   ],
   "source": [
    "!cd notebook_git && git rev-parse HEAD"
   ]
  },
  {
   "attachments": {},
   "cell_type": "markdown",
   "metadata": {},
   "source": [
    "Como se puede ver, el hash obtenido coincide con el último obtenido al hacer `git log`"
   ]
  },
  {
   "cell_type": "code",
   "execution_count": 3,
   "metadata": {},
   "outputs": [
    {
     "name": "stdout",
     "output_type": "stream",
     "text": [
      "\u001b[33mcommit 1d3a29075d83ae4c2ed763596b817a91a458535b\u001b[m\u001b[33m (\u001b[m\u001b[1;36mHEAD -> \u001b[m\u001b[1;32mmaster\u001b[m\u001b[33m)\u001b[m\n",
      "Author: maximofn <maximofn@gmail.com>\n",
      "Date:   Thu Mar 30 16:48:15 2023 +0200\n",
      "\n",
      "    Segundo commit, hola.py\n",
      "\n",
      "\u001b[33mcommit 8e24598253005f263ddea3b7261b00ea306d2de8\u001b[m\n",
      "Author: maximofn <maximofn@gmail.com>\n",
      "Date:   Wed Mar 29 15:56:27 2023 +0200\n",
      "\n",
      "    Primer commit, hola.py\n"
     ]
    }
   ],
   "source": [
    "!cd notebook_git && git log"
   ]
  },
  {
   "attachments": {},
   "cell_type": "markdown",
   "metadata": {},
   "source": [
    "### Modificar un commit (`git commit --amend`)"
   ]
  },
  {
   "attachments": {},
   "cell_type": "markdown",
   "metadata": {},
   "source": [
    "Puede que queramos modificar un commit, porque queramos cambiar el mensaje, o porque queramos añadir más archivos al commit, de modo que veremos los dos casos"
   ]
  },
  {
   "attachments": {},
   "cell_type": "markdown",
   "metadata": {},
   "source": [
    "#### Modificar el mensaje de commit "
   ]
  },
  {
   "attachments": {},
   "cell_type": "markdown",
   "metadata": {},
   "source": [
    "Si solo se quiere modificar el mensaje, lo que tenemos que hacer es `git commit --amend -m \"Nuevo mensaje\"`, veamos un ejemplo vamos a modificar `hola.py`"
   ]
  },
  {
   "cell_type": "code",
   "execution_count": 1,
   "metadata": {},
   "outputs": [],
   "source": [
    "!cd notebook_git && echo \"print('Esta es la tercera linea')\" >> hola.py"
   ]
  },
  {
   "attachments": {},
   "cell_type": "markdown",
   "metadata": {},
   "source": [
    "Hacemos un `git status`"
   ]
  },
  {
   "cell_type": "code",
   "execution_count": 2,
   "metadata": {},
   "outputs": [
    {
     "name": "stdout",
     "output_type": "stream",
     "text": [
      "En la rama master\n",
      "Cambios no rastreados para el commit:\n",
      "  (usa \"git add <archivo>...\" para actualizar lo que será confirmado)\n",
      "  (usa \"git restore <archivo>...\" para descartar los cambios en el directorio de trabajo)\n",
      "\t\u001b[31mmodificados:     hola.py\u001b[m\n",
      "\n",
      "sin cambios agregados al commit (usa \"git add\" y/o \"git commit -a\")\n"
     ]
    }
   ],
   "source": [
    "!cd notebook_git && git status"
   ]
  },
  {
   "attachments": {},
   "cell_type": "markdown",
   "metadata": {},
   "source": [
    "Efectivamente vemos que `hola.py` tiene modificaciones, de modo que hacemos un commit con estas modificaciones"
   ]
  },
  {
   "cell_type": "code",
   "execution_count": 3,
   "metadata": {},
   "outputs": [
    {
     "name": "stdout",
     "output_type": "stream",
     "text": [
      "[master 3866eec] Tercer commot, hola.py\n",
      " 1 file changed, 1 insertion(+)\n"
     ]
    }
   ],
   "source": [
    "!cd notebook_git && git commit -am \"Tercer commot, hola.py\""
   ]
  },
  {
   "attachments": {},
   "cell_type": "markdown",
   "metadata": {},
   "source": [
    "Vamos a ver el historial de commits"
   ]
  },
  {
   "cell_type": "code",
   "execution_count": 4,
   "metadata": {},
   "outputs": [
    {
     "name": "stdout",
     "output_type": "stream",
     "text": [
      "\u001b[33mcommit 3866eecc5521fc81a0994650cfd71b43f3a29cfa\u001b[m\u001b[33m (\u001b[m\u001b[1;36mHEAD -> \u001b[m\u001b[1;32mmaster\u001b[m\u001b[33m)\u001b[m\n",
      "Author: maximofn <maximofn@gmail.com>\n",
      "Date:   Sat Apr 1 02:16:39 2023 +0200\n",
      "\n",
      "    Tercer commot, hola.py\n",
      "\n",
      "\u001b[33mcommit 1d3a29075d83ae4c2ed763596b817a91a458535b\u001b[m\n",
      "Author: maximofn <maximofn@gmail.com>\n",
      "Date:   Thu Mar 30 16:48:15 2023 +0200\n",
      "\n",
      "    Segundo commit, hola.py\n",
      "\n",
      "\u001b[33mcommit 8e24598253005f263ddea3b7261b00ea306d2de8\u001b[m\n",
      "Author: maximofn <maximofn@gmail.com>\n",
      "Date:   Wed Mar 29 15:56:27 2023 +0200\n",
      "\n",
      "    Primer commit, hola.py\n"
     ]
    }
   ],
   "source": [
    "!cd notebook_git && git log"
   ]
  },
  {
   "attachments": {},
   "cell_type": "markdown",
   "metadata": {},
   "source": [
    "**Oh no!** hemos escrito `commot` en vez de `commit`, así que vamos a modificar el mensaje"
   ]
  },
  {
   "cell_type": "code",
   "execution_count": 5,
   "metadata": {},
   "outputs": [
    {
     "name": "stdout",
     "output_type": "stream",
     "text": [
      "[master 851af58] Tercer commit, hola.py\n",
      " Date: Sat Apr 1 02:16:39 2023 +0200\n",
      " 1 file changed, 1 insertion(+)\n"
     ]
    }
   ],
   "source": [
    "!cd notebook_git && git commit --amend -m \"Tercer commit, hola.py\""
   ]
  },
  {
   "attachments": {},
   "cell_type": "markdown",
   "metadata": {},
   "source": [
    "Volvemos a ver el hostorial"
   ]
  },
  {
   "cell_type": "code",
   "execution_count": 6,
   "metadata": {},
   "outputs": [
    {
     "name": "stdout",
     "output_type": "stream",
     "text": [
      "\u001b[33mcommit 851af581ea5246ad480456f82b451d6382074844\u001b[m\u001b[33m (\u001b[m\u001b[1;36mHEAD -> \u001b[m\u001b[1;32mmaster\u001b[m\u001b[33m)\u001b[m\n",
      "Author: maximofn <maximofn@gmail.com>\n",
      "Date:   Sat Apr 1 02:16:39 2023 +0200\n",
      "\n",
      "    Tercer commit, hola.py\n",
      "\n",
      "\u001b[33mcommit 1d3a29075d83ae4c2ed763596b817a91a458535b\u001b[m\n",
      "Author: maximofn <maximofn@gmail.com>\n",
      "Date:   Thu Mar 30 16:48:15 2023 +0200\n",
      "\n",
      "    Segundo commit, hola.py\n",
      "\n",
      "\u001b[33mcommit 8e24598253005f263ddea3b7261b00ea306d2de8\u001b[m\n",
      "Author: maximofn <maximofn@gmail.com>\n",
      "Date:   Wed Mar 29 15:56:27 2023 +0200\n",
      "\n",
      "    Primer commit, hola.py\n"
     ]
    }
   ],
   "source": [
    "!cd notebook_git && git log"
   ]
  },
  {
   "attachments": {},
   "cell_type": "markdown",
   "metadata": {},
   "source": [
    "Vemos que ahora está bien"
   ]
  },
  {
   "attachments": {},
   "cell_type": "markdown",
   "metadata": {},
   "source": [
    "#### Añadir archivos al último commit"
   ]
  },
  {
   "attachments": {},
   "cell_type": "markdown",
   "metadata": {},
   "source": [
    "Supongamos que se nos ha olvidad añadir un archivo al último commit, simplemente hacemos un `git add` con ese archivo y hacemos `git commit --amend -m \"mensaje\"`"
   ]
  },
  {
   "attachments": {},
   "cell_type": "markdown",
   "metadata": {},
   "source": [
    "Vamos a crear dos archivos nuevos"
   ]
  },
  {
   "cell_type": "code",
   "execution_count": 8,
   "metadata": {},
   "outputs": [],
   "source": [
    "!cd notebook_git && echo \"print('Este es el archivo 1')\" > archivo1.py"
   ]
  },
  {
   "cell_type": "code",
   "execution_count": 9,
   "metadata": {},
   "outputs": [],
   "source": [
    "!cd notebook_git && echo \"print('Este es el archivo 2')\" > archivo2.py"
   ]
  },
  {
   "attachments": {},
   "cell_type": "markdown",
   "metadata": {},
   "source": [
    "Ahora hacemos commit solo de uno"
   ]
  },
  {
   "cell_type": "code",
   "execution_count": 12,
   "metadata": {},
   "outputs": [
    {
     "name": "stdout",
     "output_type": "stream",
     "text": [
      "[master b87bd0f] Commit con el archivo 1\n",
      " 1 file changed, 1 insertion(+)\n",
      " create mode 100644 archivo1.py\n"
     ]
    }
   ],
   "source": [
    "!cd notebook_git && git add archivo1.py && git commit -m \"Commit con el archivo 1\""
   ]
  },
  {
   "cell_type": "code",
   "execution_count": 13,
   "metadata": {},
   "outputs": [
    {
     "name": "stdout",
     "output_type": "stream",
     "text": [
      "En la rama master\n",
      "Archivos sin seguimiento:\n",
      "  (usa \"git add <archivo>...\" para incluirlo a lo que se será confirmado)\n",
      "\t\u001b[31marchivo2.py\u001b[m\n",
      "\n",
      "no hay nada agregado al commit pero hay archivos sin seguimiento presentes (usa \"git add\" para hacerles seguimiento)\n"
     ]
    }
   ],
   "source": [
    "!cd notebook_git && git status"
   ]
  },
  {
   "cell_type": "code",
   "execution_count": 14,
   "metadata": {},
   "outputs": [
    {
     "name": "stdout",
     "output_type": "stream",
     "text": [
      "\u001b[33mcommit b87bd0f33f8a4abbd1c4222d83cf00fe6a99c6ea\u001b[m\u001b[33m (\u001b[m\u001b[1;36mHEAD -> \u001b[m\u001b[1;32mmaster\u001b[m\u001b[33m)\u001b[m\n",
      "Author: maximofn <maximofn@gmail.com>\n",
      "Date:   Sat Apr 1 02:24:10 2023 +0200\n",
      "\n",
      "    Commit con el archivo 1\n",
      "\n",
      "\u001b[33mcommit 851af581ea5246ad480456f82b451d6382074844\u001b[m\n",
      "Author: maximofn <maximofn@gmail.com>\n",
      "Date:   Sat Apr 1 02:16:39 2023 +0200\n",
      "\n",
      "    Tercer commit, hola.py\n",
      "\n",
      "\u001b[33mcommit 1d3a29075d83ae4c2ed763596b817a91a458535b\u001b[m\n",
      "Author: maximofn <maximofn@gmail.com>\n",
      "Date:   Thu Mar 30 16:48:15 2023 +0200\n",
      "\n",
      "    Segundo commit, hola.py\n",
      "\n",
      "\u001b[33mcommit 8e24598253005f263ddea3b7261b00ea306d2de8\u001b[m\n",
      "Author: maximofn <maximofn@gmail.com>\n",
      "Date:   Wed Mar 29 15:56:27 2023 +0200\n",
      "\n",
      "    Primer commit, hola.py\n"
     ]
    }
   ],
   "source": [
    "!cd notebook_git && git log"
   ]
  },
  {
   "attachments": {},
   "cell_type": "markdown",
   "metadata": {},
   "source": [
    "Como vemos nos hemos dejado el archivo 2, de modo que modificamos el commit y añadimos el archivo 2"
   ]
  },
  {
   "cell_type": "code",
   "execution_count": 15,
   "metadata": {},
   "outputs": [],
   "source": [
    "!cd notebook_git && git add archivo2.py"
   ]
  },
  {
   "cell_type": "code",
   "execution_count": 16,
   "metadata": {},
   "outputs": [
    {
     "name": "stdout",
     "output_type": "stream",
     "text": [
      "[master f8615d2] Commit con los archivos 1 y 2\n",
      " Date: Sat Apr 1 02:24:10 2023 +0200\n",
      " 2 files changed, 2 insertions(+)\n",
      " create mode 100644 archivo1.py\n",
      " create mode 100644 archivo2.py\n"
     ]
    }
   ],
   "source": [
    "!cd notebook_git && git commit --amend -m \"Commit con los archivos 1 y 2\""
   ]
  },
  {
   "cell_type": "code",
   "execution_count": 17,
   "metadata": {},
   "outputs": [
    {
     "name": "stdout",
     "output_type": "stream",
     "text": [
      "En la rama master\n",
      "nada para hacer commit, el árbol de trabajo está limpio\n"
     ]
    }
   ],
   "source": [
    "!cd notebook_git && git status"
   ]
  },
  {
   "cell_type": "code",
   "execution_count": 18,
   "metadata": {},
   "outputs": [
    {
     "name": "stdout",
     "output_type": "stream",
     "text": [
      "\u001b[33mcommit f8615d223386f95cefb2a8cab2c881e5f72ed087\u001b[m\u001b[33m (\u001b[m\u001b[1;36mHEAD -> \u001b[m\u001b[1;32mmaster\u001b[m\u001b[33m)\u001b[m\n",
      "Author: maximofn <maximofn@gmail.com>\n",
      "Date:   Sat Apr 1 02:24:10 2023 +0200\n",
      "\n",
      "    Commit con los archivos 1 y 2\n",
      "\n",
      "\u001b[33mcommit 851af581ea5246ad480456f82b451d6382074844\u001b[m\n",
      "Author: maximofn <maximofn@gmail.com>\n",
      "Date:   Sat Apr 1 02:16:39 2023 +0200\n",
      "\n",
      "    Tercer commit, hola.py\n",
      "\n",
      "\u001b[33mcommit 1d3a29075d83ae4c2ed763596b817a91a458535b\u001b[m\n",
      "Author: maximofn <maximofn@gmail.com>\n",
      "Date:   Thu Mar 30 16:48:15 2023 +0200\n",
      "\n",
      "    Segundo commit, hola.py\n",
      "\n",
      "\u001b[33mcommit 8e24598253005f263ddea3b7261b00ea306d2de8\u001b[m\n",
      "Author: maximofn <maximofn@gmail.com>\n",
      "Date:   Wed Mar 29 15:56:27 2023 +0200\n",
      "\n",
      "    Primer commit, hola.py\n"
     ]
    }
   ],
   "source": [
    "!cd notebook_git && git log"
   ]
  },
  {
   "attachments": {},
   "cell_type": "markdown",
   "metadata": {},
   "source": [
    "Ahora el último commit tiene los dos nuevos archivos"
   ]
  },
  {
   "attachments": {},
   "cell_type": "markdown",
   "metadata": {},
   "source": [
    "### Deshacer un commit (`git reset HEAD~1`)"
   ]
  },
  {
   "attachments": {},
   "cell_type": "markdown",
   "metadata": {},
   "source": [
    "Con este comando le decimos a git que retroceda una posición en el historial de commits. Hay dos opciones `--soft` que no borrará los cambios que hayamos hecho y `--hard` que sí lo hará"
   ]
  },
  {
   "attachments": {},
   "cell_type": "markdown",
   "metadata": {},
   "source": [
    "#### Deshacer un commit manteniendo los cambios (`git reset --soft HEAD~1`)"
   ]
  },
  {
   "attachments": {},
   "cell_type": "markdown",
   "metadata": {},
   "source": [
    "Vamos a crear un nuevo archivo"
   ]
  },
  {
   "cell_type": "code",
   "execution_count": 19,
   "metadata": {},
   "outputs": [],
   "source": [
    "!cd notebook_git && echo \"print('Este es el archivo 3')\" > archivo3.py"
   ]
  },
  {
   "attachments": {},
   "cell_type": "markdown",
   "metadata": {},
   "source": [
    "Hacemos un `git status`"
   ]
  },
  {
   "cell_type": "code",
   "execution_count": 20,
   "metadata": {},
   "outputs": [
    {
     "name": "stdout",
     "output_type": "stream",
     "text": [
      "En la rama master\n",
      "Archivos sin seguimiento:\n",
      "  (usa \"git add <archivo>...\" para incluirlo a lo que se será confirmado)\n",
      "\t\u001b[31marchivo3.py\u001b[m\n",
      "\n",
      "no hay nada agregado al commit pero hay archivos sin seguimiento presentes (usa \"git add\" para hacerles seguimiento)\n"
     ]
    }
   ],
   "source": [
    "!cd notebook_git && git status"
   ]
  },
  {
   "attachments": {},
   "cell_type": "markdown",
   "metadata": {},
   "source": [
    "Hacemos un commit añadiendo este archivo"
   ]
  },
  {
   "cell_type": "code",
   "execution_count": 22,
   "metadata": {},
   "outputs": [
    {
     "name": "stdout",
     "output_type": "stream",
     "text": [
      "[master 59fb0af] Commit con el archivos 3\n",
      " 1 file changed, 1 insertion(+)\n",
      " create mode 100644 archivo3.py\n"
     ]
    }
   ],
   "source": [
    "!cd notebook_git && git add archivo3.py && git commit -m \"Commit con el archivos 3\""
   ]
  },
  {
   "cell_type": "code",
   "execution_count": 23,
   "metadata": {},
   "outputs": [
    {
     "name": "stdout",
     "output_type": "stream",
     "text": [
      "\u001b[33mcommit 59fb0af5893982bec7051cbfa42fcb4ec93491b9\u001b[m\u001b[33m (\u001b[m\u001b[1;36mHEAD -> \u001b[m\u001b[1;32mmaster\u001b[m\u001b[33m)\u001b[m\n",
      "Author: maximofn <maximofn@gmail.com>\n",
      "Date:   Sat Apr 1 02:39:39 2023 +0200\n",
      "\n",
      "    Commit con el archivos 3\n",
      "\n",
      "\u001b[33mcommit f8615d223386f95cefb2a8cab2c881e5f72ed087\u001b[m\n",
      "Author: maximofn <maximofn@gmail.com>\n",
      "Date:   Sat Apr 1 02:24:10 2023 +0200\n",
      "\n",
      "    Commit con los archivos 1 y 2\n",
      "\n",
      "\u001b[33mcommit 851af581ea5246ad480456f82b451d6382074844\u001b[m\n",
      "Author: maximofn <maximofn@gmail.com>\n",
      "Date:   Sat Apr 1 02:16:39 2023 +0200\n",
      "\n",
      "    Tercer commit, hola.py\n",
      "\n",
      "\u001b[33mcommit 1d3a29075d83ae4c2ed763596b817a91a458535b\u001b[m\n",
      "Author: maximofn <maximofn@gmail.com>\n",
      "Date:   Thu Mar 30 16:48:15 2023 +0200\n",
      "\n",
      "    Segundo commit, hola.py\n",
      "\n",
      "\u001b[33mcommit 8e24598253005f263ddea3b7261b00ea306d2de8\u001b[m\n",
      "Author: maximofn <maximofn@gmail.com>\n",
      "Date:   Wed Mar 29 15:56:27 2023 +0200\n",
      "\n",
      "    Primer commit, hola.py\n"
     ]
    }
   ],
   "source": [
    "!cd notebook_git && git log"
   ]
  },
  {
   "attachments": {},
   "cell_type": "markdown",
   "metadata": {},
   "source": [
    "Vemos que en el último commit se encuentra `archivo3.py`, vamos a eliminar el commit manteniendo `archivo3.py`"
   ]
  },
  {
   "cell_type": "code",
   "execution_count": 24,
   "metadata": {},
   "outputs": [],
   "source": [
    "!cd notebook_git && git reset --soft HEAD~1"
   ]
  },
  {
   "attachments": {},
   "cell_type": "markdown",
   "metadata": {},
   "source": [
    "Hacemos ahora un `git log` para ver si se ha eliminado el último commit"
   ]
  },
  {
   "cell_type": "code",
   "execution_count": 25,
   "metadata": {},
   "outputs": [
    {
     "name": "stdout",
     "output_type": "stream",
     "text": [
      "\u001b[33mcommit f8615d223386f95cefb2a8cab2c881e5f72ed087\u001b[m\u001b[33m (\u001b[m\u001b[1;36mHEAD -> \u001b[m\u001b[1;32mmaster\u001b[m\u001b[33m)\u001b[m\n",
      "Author: maximofn <maximofn@gmail.com>\n",
      "Date:   Sat Apr 1 02:24:10 2023 +0200\n",
      "\n",
      "    Commit con los archivos 1 y 2\n",
      "\n",
      "\u001b[33mcommit 851af581ea5246ad480456f82b451d6382074844\u001b[m\n",
      "Author: maximofn <maximofn@gmail.com>\n",
      "Date:   Sat Apr 1 02:16:39 2023 +0200\n",
      "\n",
      "    Tercer commit, hola.py\n",
      "\n",
      "\u001b[33mcommit 1d3a29075d83ae4c2ed763596b817a91a458535b\u001b[m\n",
      "Author: maximofn <maximofn@gmail.com>\n",
      "Date:   Thu Mar 30 16:48:15 2023 +0200\n",
      "\n",
      "    Segundo commit, hola.py\n",
      "\n",
      "\u001b[33mcommit 8e24598253005f263ddea3b7261b00ea306d2de8\u001b[m\n",
      "Author: maximofn <maximofn@gmail.com>\n",
      "Date:   Wed Mar 29 15:56:27 2023 +0200\n",
      "\n",
      "    Primer commit, hola.py\n"
     ]
    }
   ],
   "source": [
    "!cd notebook_git && git log"
   ]
  },
  {
   "attachments": {},
   "cell_type": "markdown",
   "metadata": {},
   "source": [
    "Efectivamente vemos que se ha eliminado el último commit"
   ]
  },
  {
   "attachments": {},
   "cell_type": "markdown",
   "metadata": {},
   "source": [
    "Hacemos un `git status` para ver si se ha conservado `archivo3.py`"
   ]
  },
  {
   "cell_type": "code",
   "execution_count": 26,
   "metadata": {},
   "outputs": [
    {
     "name": "stdout",
     "output_type": "stream",
     "text": [
      "En la rama master\n",
      "Cambios a ser confirmados:\n",
      "  (usa \"git restore --staged <archivo>...\" para sacar del área de stage)\n",
      "\t\u001b[32mnuevos archivos: archivo3.py\u001b[m\n",
      "\n"
     ]
    }
   ],
   "source": [
    "!cd notebook_git && git status"
   ]
  },
  {
   "attachments": {},
   "cell_type": "markdown",
   "metadata": {},
   "source": [
    "Se ha mantenido"
   ]
  },
  {
   "attachments": {},
   "cell_type": "markdown",
   "metadata": {},
   "source": [
    "#### Deshacer un commit descartando los cambios (`git reset --hard HEAD~1`)"
   ]
  },
  {
   "attachments": {},
   "cell_type": "markdown",
   "metadata": {},
   "source": [
    "Tenemos `archivo3.py` que lo hemos creado y lo tenemos en el área de staged"
   ]
  },
  {
   "cell_type": "code",
   "execution_count": 27,
   "metadata": {},
   "outputs": [
    {
     "name": "stdout",
     "output_type": "stream",
     "text": [
      "En la rama master\n",
      "Cambios a ser confirmados:\n",
      "  (usa \"git restore --staged <archivo>...\" para sacar del área de stage)\n",
      "\t\u001b[32mnuevos archivos: archivo3.py\u001b[m\n",
      "\n"
     ]
    }
   ],
   "source": [
    "!cd notebook_git && git status"
   ]
  },
  {
   "attachments": {},
   "cell_type": "markdown",
   "metadata": {},
   "source": [
    "Por lo que hacemos un commit"
   ]
  },
  {
   "cell_type": "code",
   "execution_count": 28,
   "metadata": {},
   "outputs": [
    {
     "name": "stdout",
     "output_type": "stream",
     "text": [
      "[master f42d74a] Commit con el archivo 3\n",
      " 1 file changed, 1 insertion(+)\n",
      " create mode 100644 archivo3.py\n"
     ]
    }
   ],
   "source": [
    "!cd notebook_git && git commit -m \"Commit con el archivo 3\""
   ]
  },
  {
   "attachments": {},
   "cell_type": "markdown",
   "metadata": {},
   "source": [
    "Hacemos un `git log` para comprobar que hay un commit con este archivo"
   ]
  },
  {
   "cell_type": "code",
   "execution_count": 29,
   "metadata": {},
   "outputs": [
    {
     "name": "stdout",
     "output_type": "stream",
     "text": [
      "\u001b[33mcommit f42d74af538548d8c1010a72538b23d2973c9009\u001b[m\u001b[33m (\u001b[m\u001b[1;36mHEAD -> \u001b[m\u001b[1;32mmaster\u001b[m\u001b[33m)\u001b[m\n",
      "Author: maximofn <maximofn@gmail.com>\n",
      "Date:   Sat Apr 1 02:44:43 2023 +0200\n",
      "\n",
      "    Commit con el archivo 3\n",
      "\n",
      "\u001b[33mcommit f8615d223386f95cefb2a8cab2c881e5f72ed087\u001b[m\n",
      "Author: maximofn <maximofn@gmail.com>\n",
      "Date:   Sat Apr 1 02:24:10 2023 +0200\n",
      "\n",
      "    Commit con los archivos 1 y 2\n",
      "\n",
      "\u001b[33mcommit 851af581ea5246ad480456f82b451d6382074844\u001b[m\n",
      "Author: maximofn <maximofn@gmail.com>\n",
      "Date:   Sat Apr 1 02:16:39 2023 +0200\n",
      "\n",
      "    Tercer commit, hola.py\n",
      "\n",
      "\u001b[33mcommit 1d3a29075d83ae4c2ed763596b817a91a458535b\u001b[m\n",
      "Author: maximofn <maximofn@gmail.com>\n",
      "Date:   Thu Mar 30 16:48:15 2023 +0200\n",
      "\n",
      "    Segundo commit, hola.py\n",
      "\n",
      "\u001b[33mcommit 8e24598253005f263ddea3b7261b00ea306d2de8\u001b[m\n",
      "Author: maximofn <maximofn@gmail.com>\n",
      "Date:   Wed Mar 29 15:56:27 2023 +0200\n",
      "\n",
      "    Primer commit, hola.py\n"
     ]
    }
   ],
   "source": [
    "!cd notebook_git && git log"
   ]
  },
  {
   "attachments": {},
   "cell_type": "markdown",
   "metadata": {},
   "source": [
    "Efectivamente hay un commit añadiendo `archivo3.py`. Ahora eliminamos este commit descartando `archivo3.py`"
   ]
  },
  {
   "cell_type": "code",
   "execution_count": 30,
   "metadata": {},
   "outputs": [
    {
     "name": "stdout",
     "output_type": "stream",
     "text": [
      "HEAD está ahora en f8615d2 Commit con los archivos 1 y 2\n"
     ]
    }
   ],
   "source": [
    "!cd notebook_git && git reset --hard HEAD~1"
   ]
  },
  {
   "attachments": {},
   "cell_type": "markdown",
   "metadata": {},
   "source": [
    "Hacemos un `git log` para comprobar que se ha eliminado el último commit"
   ]
  },
  {
   "cell_type": "code",
   "execution_count": 31,
   "metadata": {},
   "outputs": [
    {
     "name": "stdout",
     "output_type": "stream",
     "text": [
      "\u001b[33mcommit f8615d223386f95cefb2a8cab2c881e5f72ed087\u001b[m\u001b[33m (\u001b[m\u001b[1;36mHEAD -> \u001b[m\u001b[1;32mmaster\u001b[m\u001b[33m)\u001b[m\n",
      "Author: maximofn <maximofn@gmail.com>\n",
      "Date:   Sat Apr 1 02:24:10 2023 +0200\n",
      "\n",
      "    Commit con los archivos 1 y 2\n",
      "\n",
      "\u001b[33mcommit 851af581ea5246ad480456f82b451d6382074844\u001b[m\n",
      "Author: maximofn <maximofn@gmail.com>\n",
      "Date:   Sat Apr 1 02:16:39 2023 +0200\n",
      "\n",
      "    Tercer commit, hola.py\n",
      "\n",
      "\u001b[33mcommit 1d3a29075d83ae4c2ed763596b817a91a458535b\u001b[m\n",
      "Author: maximofn <maximofn@gmail.com>\n",
      "Date:   Thu Mar 30 16:48:15 2023 +0200\n",
      "\n",
      "    Segundo commit, hola.py\n",
      "\n",
      "\u001b[33mcommit 8e24598253005f263ddea3b7261b00ea306d2de8\u001b[m\n",
      "Author: maximofn <maximofn@gmail.com>\n",
      "Date:   Wed Mar 29 15:56:27 2023 +0200\n",
      "\n",
      "    Primer commit, hola.py\n"
     ]
    }
   ],
   "source": [
    "!cd notebook_git && git log"
   ]
  },
  {
   "attachments": {},
   "cell_type": "markdown",
   "metadata": {},
   "source": [
    "Se ha eliminado el commit con `archivo3.py`, ahora hacemos un `git status` para comprobar qué ha pasado con `archivo3.py`"
   ]
  },
  {
   "cell_type": "code",
   "execution_count": 32,
   "metadata": {},
   "outputs": [
    {
     "name": "stdout",
     "output_type": "stream",
     "text": [
      "En la rama master\n",
      "nada para hacer commit, el árbol de trabajo está limpio\n"
     ]
    }
   ],
   "source": [
    "!cd notebook_git && git status"
   ]
  },
  {
   "attachments": {},
   "cell_type": "markdown",
   "metadata": {},
   "source": [
    "No aparece `archivo3.py` como un archivo al que haya que hacer commit, vamos a ver si efectivamente se ha eliminado del todo"
   ]
  },
  {
   "cell_type": "code",
   "execution_count": 33,
   "metadata": {},
   "outputs": [],
   "source": [
    "!cd notebook_git && ls | grep archivo3"
   ]
  },
  {
   "attachments": {},
   "cell_type": "markdown",
   "metadata": {},
   "source": [
    "Efectivamente se ha eliminado `archivo3.py` del sistema de ficheros"
   ]
  },
  {
   "attachments": {},
   "cell_type": "markdown",
   "metadata": {},
   "source": [
    "### Ignorar archivos (`.gitignore`)"
   ]
  },
  {
   "attachments": {},
   "cell_type": "markdown",
   "metadata": {},
   "source": [
    "Supongamos que tenemos un archivo con `API key`s, este archivo en realidad no queremos que se guarde en el repositorio, porque si luego compartimos este repositorio, cualquiera tendría acceso a estas claves, por lo que hay que decirle a git que no haga seguimiento de este archivo\n",
    "\n",
    "Esto se hace con el archivo `.gitignore`, en el se añade la ruta de los archivos o directorios que no queremos que git haga seguimiento\n",
    "\n",
    "Vamos a verlo"
   ]
  },
  {
   "attachments": {},
   "cell_type": "markdown",
   "metadata": {},
   "source": [
    "Creamos el archivo con las claves"
   ]
  },
  {
   "cell_type": "code",
   "execution_count": 34,
   "metadata": {},
   "outputs": [],
   "source": [
    "!cd notebook_git && touch api_keys.py"
   ]
  },
  {
   "attachments": {},
   "cell_type": "markdown",
   "metadata": {},
   "source": [
    "Si hacemos `git status` vemos que git lo contempla"
   ]
  },
  {
   "cell_type": "code",
   "execution_count": 35,
   "metadata": {},
   "outputs": [
    {
     "name": "stdout",
     "output_type": "stream",
     "text": [
      "En la rama master\n",
      "Archivos sin seguimiento:\n",
      "  (usa \"git add <archivo>...\" para incluirlo a lo que se será confirmado)\n",
      "\t\u001b[31mapi_keys.py\u001b[m\n",
      "\n",
      "no hay nada agregado al commit pero hay archivos sin seguimiento presentes (usa \"git add\" para hacerles seguimiento)\n"
     ]
    }
   ],
   "source": [
    "!cd notebook_git && git status"
   ]
  },
  {
   "attachments": {},
   "cell_type": "markdown",
   "metadata": {},
   "source": [
    "Se no hacemos nada puee que un día hagamos un `git add .` y lo metamos en el repositorio, así que por seguridad hay que decirle a git que no siga este archivo, para ello, lo que hacemos es crear el `.gitignore` añadiendo este archivo"
   ]
  },
  {
   "cell_type": "code",
   "execution_count": 36,
   "metadata": {},
   "outputs": [],
   "source": [
    "!cd notebook_git && echo \"api_keys.py\" >> .gitignore"
   ]
  },
  {
   "attachments": {},
   "cell_type": "markdown",
   "metadata": {},
   "source": [
    "Veamos qué pasa si ahora hacemos `git status`"
   ]
  },
  {
   "cell_type": "code",
   "execution_count": 37,
   "metadata": {},
   "outputs": [
    {
     "name": "stdout",
     "output_type": "stream",
     "text": [
      "En la rama master\n",
      "Archivos sin seguimiento:\n",
      "  (usa \"git add <archivo>...\" para incluirlo a lo que se será confirmado)\n",
      "\t\u001b[31m.gitignore\u001b[m\n",
      "\n",
      "no hay nada agregado al commit pero hay archivos sin seguimiento presentes (usa \"git add\" para hacerles seguimiento)\n"
     ]
    }
   ],
   "source": [
    "!cd notebook_git && git status"
   ]
  },
  {
   "attachments": {},
   "cell_type": "markdown",
   "metadata": {},
   "source": [
    "Vemos que git ha dejado de contemplar `api_keys.py`, pero sí que contempla `.gitignore`, por lo que hacemos un commit para añadir `.gitignore`"
   ]
  },
  {
   "cell_type": "code",
   "execution_count": 38,
   "metadata": {},
   "outputs": [
    {
     "name": "stdout",
     "output_type": "stream",
     "text": [
      "[master 88b8231] Añadido .gitignore\n",
      " 1 file changed, 1 insertion(+)\n",
      " create mode 100644 .gitignore\n"
     ]
    }
   ],
   "source": [
    "!cd notebook_git && git add .gitignore && git commit -m \"Añadido .gitignore\""
   ]
  },
  {
   "attachments": {},
   "cell_type": "markdown",
   "metadata": {},
   "source": [
    "#### ¿Qué archivos añadir al `.gitignore`?"
   ]
  },
  {
   "attachments": {},
   "cell_type": "markdown",
   "metadata": {},
   "source": [
    " * Archivos que tengan credenciales o llaves de API (no deberías subirlas al repositorio, simplemente inyectarlas por variable de entorno)\n",
    " * Carpetas de configuración de tu editor (`/.vscode`)\n",
    " * Archivos de registro (log files)\n",
    " * Archivos de sistema como `.DS_Store`\n",
    " * Carpetas generadas con archivos estáticos o compilaciones como `/dist` o `/build`\n",
    " * Dependencias que pueden ser descargadas (`/node_modules`)\n",
    " * Coverage del testing (`/coverage`)"
   ]
  },
  {
   "attachments": {},
   "cell_type": "markdown",
   "metadata": {},
   "source": [
    "#### ¿Cómo ignorar siempre los mismos archivos?"
   ]
  },
  {
   "attachments": {},
   "cell_type": "markdown",
   "metadata": {},
   "source": [
    "Si por ejemplo tu IDE siempre genera los mismos arhivos de configuración, estaría bien poderle decir a git que siempre ignore esos archivos, para ello creamos un `.gitignore` global"
   ]
  },
  {
   "cell_type": "code",
   "execution_count": 42,
   "metadata": {},
   "outputs": [],
   "source": [
    "!touch ~/.gitignore_global"
   ]
  },
  {
   "attachments": {},
   "cell_type": "markdown",
   "metadata": {},
   "source": [
    "En mi caso voy a añadir el directorio `__pycache__/`"
   ]
  },
  {
   "cell_type": "code",
   "execution_count": 50,
   "metadata": {},
   "outputs": [],
   "source": [
    "!echo \"__pycache__/\" >> ~/.gitignore_global"
   ]
  },
  {
   "attachments": {},
   "cell_type": "markdown",
   "metadata": {},
   "source": [
    "Ahora hay que indicarle a git que ese es nuestro `.gitignore` global"
   ]
  },
  {
   "cell_type": "code",
   "execution_count": 54,
   "metadata": {},
   "outputs": [],
   "source": [
    "!git config --global core.excludesfile ~/.gitignore_global"
   ]
  },
  {
   "attachments": {},
   "cell_type": "markdown",
   "metadata": {},
   "source": [
    "Listo, a partir de ahora el directorio `__pycache__/` siempre será ignorado"
   ]
  },
  {
   "attachments": {},
   "cell_type": "markdown",
   "metadata": {},
   "source": [
    "GitHub tiene un [repositorio](https://github.com/github/gitignore) con `.gitignore`s oara muchos lenguajes, yo me he guiado de [este](https://github.com/github/gitignore/blob/main/Python.gitignore) para Python"
   ]
  },
  {
   "attachments": {},
   "cell_type": "markdown",
   "metadata": {},
   "source": [
    "### Eliminar un archivo de un commit"
   ]
  },
  {
   "attachments": {},
   "cell_type": "markdown",
   "metadata": {},
   "source": [
    "Vamos a ver cómo eliminar un archivo de un commit que hemos hecho. Primero creamos dos archivos y les hacemos commir"
   ]
  },
  {
   "cell_type": "code",
   "execution_count": 1,
   "metadata": {},
   "outputs": [],
   "source": [
    "!cd notebook_git && echo \"print('Este es el archivo 4')\" > archivo4.py"
   ]
  },
  {
   "cell_type": "code",
   "execution_count": 2,
   "metadata": {},
   "outputs": [],
   "source": [
    "!cd notebook_git && echo \"print('Este es el archivo 5')\" > archivo5.py"
   ]
  },
  {
   "attachments": {},
   "cell_type": "markdown",
   "metadata": {},
   "source": [
    "Hacemos un commit con los dos archivos"
   ]
  },
  {
   "cell_type": "code",
   "execution_count": 3,
   "metadata": {},
   "outputs": [
    {
     "name": "stdout",
     "output_type": "stream",
     "text": [
      "[master 2e5e11f] Commit con los archivos 4 y 5\n",
      " 2 files changed, 2 insertions(+)\n",
      " create mode 100644 archivo4.py\n",
      " create mode 100644 archivo5.py\n"
     ]
    }
   ],
   "source": [
    "!cd notebook_git && git add archivo4.py archivo5.py && git commit -m \"Commit con los archivos 4 y 5\""
   ]
  },
  {
   "cell_type": "code",
   "execution_count": 4,
   "metadata": {},
   "outputs": [
    {
     "name": "stdout",
     "output_type": "stream",
     "text": [
      "\u001b[33mcommit 2e5e11fc610b0503ce31ef41ae4110df0970ce48\u001b[m\u001b[33m (\u001b[m\u001b[1;36mHEAD -> \u001b[m\u001b[1;32mmaster\u001b[m\u001b[33m)\u001b[m\n",
      "Author: maximofn <maximofn@gmail.com>\n",
      "Date:   Sat Apr 1 23:41:35 2023 +0200\n",
      "\n",
      "    Commit con los archivos 4 y 5\n",
      "\n",
      "\u001b[33mcommit 88b823196919bb12b85d280b58a76f24136c097f\u001b[m\n",
      "Author: maximofn <maximofn@gmail.com>\n",
      "Date:   Sat Apr 1 02:57:10 2023 +0200\n",
      "\n",
      "    Añadido .gitignore\n",
      "\n",
      "\u001b[33mcommit f8615d223386f95cefb2a8cab2c881e5f72ed087\u001b[m\n",
      "Author: maximofn <maximofn@gmail.com>\n",
      "Date:   Sat Apr 1 02:24:10 2023 +0200\n",
      "\n",
      "    Commit con los archivos 1 y 2\n",
      "\n",
      "\u001b[33mcommit 851af581ea5246ad480456f82b451d6382074844\u001b[m\n",
      "Author: maximofn <maximofn@gmail.com>\n",
      "Date:   Sat Apr 1 02:16:39 2023 +0200\n",
      "\n",
      "    Tercer commit, hola.py\n",
      "\n",
      "\u001b[33mcommit 1d3a29075d83ae4c2ed763596b817a91a458535b\u001b[m\n",
      "Author: maximofn <maximofn@gmail.com>\n",
      "Date:   Thu Mar 30 16:48:15 2023 +0200\n",
      "\n",
      "    Segundo commit, hola.py\n",
      "\n",
      "\u001b[33mcommit 8e24598253005f263ddea3b7261b00ea306d2de8\u001b[m\n",
      "Author: maximofn <maximofn@gmail.com>\n",
      "Date:   Wed Mar 29 15:56:27 2023 +0200\n",
      "\n",
      "    Primer commit, hola.py\n"
     ]
    }
   ],
   "source": [
    "!cd notebook_git && git log"
   ]
  },
  {
   "attachments": {},
   "cell_type": "markdown",
   "metadata": {},
   "source": [
    "A partir de aquí hay dos opciones para eliminar un archivo de un commit:\n",
    " * Eliminar el archivo y crear un nuevo commit\n",
    " * Deshacer el commit y crearlo de nuevo sin el archivo"
   ]
  },
  {
   "attachments": {},
   "cell_type": "markdown",
   "metadata": {},
   "source": [
    "#### Eliminar el archivo y crear un nuevo commit"
   ]
  },
  {
   "attachments": {},
   "cell_type": "markdown",
   "metadata": {},
   "source": [
    "Supongamos que queremos eliminar el archivo `archivo5.py`, pues lo eliminamos con `git rm archivo5.py`"
   ]
  },
  {
   "cell_type": "code",
   "execution_count": 5,
   "metadata": {},
   "outputs": [
    {
     "name": "stdout",
     "output_type": "stream",
     "text": [
      "rm 'archivo5.py'\n"
     ]
    }
   ],
   "source": [
    "!cd notebook_git && git rm archivo5.py"
   ]
  },
  {
   "attachments": {},
   "cell_type": "markdown",
   "metadata": {},
   "source": [
    "Hagamos un `git status` a ver qué ocurre"
   ]
  },
  {
   "cell_type": "code",
   "execution_count": 7,
   "metadata": {},
   "outputs": [
    {
     "name": "stdout",
     "output_type": "stream",
     "text": [
      "En la rama master\n",
      "Cambios a ser confirmados:\n",
      "  (usa \"git restore --staged <archivo>...\" para sacar del área de stage)\n",
      "\t\u001b[32mborrados:        archivo5.py\u001b[m\n",
      "\n"
     ]
    }
   ],
   "source": [
    "!cd notebook_git && git status"
   ]
  },
  {
   "attachments": {},
   "cell_type": "markdown",
   "metadata": {},
   "source": [
    "Como vemos se ha borrado `archivo5.py`. Ahora creamos un nuevo commit"
   ]
  },
  {
   "cell_type": "code",
   "execution_count": 8,
   "metadata": {},
   "outputs": [
    {
     "name": "stdout",
     "output_type": "stream",
     "text": [
      "[master c7ffdf2] Eliminado archivo5.py\n",
      " 1 file changed, 1 deletion(-)\n",
      " delete mode 100644 archivo5.py\n"
     ]
    }
   ],
   "source": [
    "!cd notebook_git && git commit -m \"Eliminado archivo5.py\""
   ]
  },
  {
   "cell_type": "code",
   "execution_count": 9,
   "metadata": {},
   "outputs": [
    {
     "name": "stdout",
     "output_type": "stream",
     "text": [
      "\u001b[33mcommit c7ffdf2d0b2218e7e98f3f799e79ba49f6a00505\u001b[m\u001b[33m (\u001b[m\u001b[1;36mHEAD -> \u001b[m\u001b[1;32mmaster\u001b[m\u001b[33m)\u001b[m\n",
      "Author: maximofn <maximofn@gmail.com>\n",
      "Date:   Sat Apr 1 23:47:37 2023 +0200\n",
      "\n",
      "    Eliminado archivo5.py\n",
      "\n",
      "\u001b[33mcommit 2e5e11fc610b0503ce31ef41ae4110df0970ce48\u001b[m\n",
      "Author: maximofn <maximofn@gmail.com>\n",
      "Date:   Sat Apr 1 23:41:35 2023 +0200\n",
      "\n",
      "    Commit con los archivos 4 y 5\n",
      "\n",
      "\u001b[33mcommit 88b823196919bb12b85d280b58a76f24136c097f\u001b[m\n",
      "Author: maximofn <maximofn@gmail.com>\n",
      "Date:   Sat Apr 1 02:57:10 2023 +0200\n",
      "\n",
      "    Añadido .gitignore\n",
      "\n",
      "\u001b[33mcommit f8615d223386f95cefb2a8cab2c881e5f72ed087\u001b[m\n",
      "Author: maximofn <maximofn@gmail.com>\n",
      "Date:   Sat Apr 1 02:24:10 2023 +0200\n",
      "\n",
      "    Commit con los archivos 1 y 2\n",
      "\n",
      "\u001b[33mcommit 851af581ea5246ad480456f82b451d6382074844\u001b[m\n",
      "Author: maximofn <maximofn@gmail.com>\n",
      "Date:   Sat Apr 1 02:16:39 2023 +0200\n",
      "\n",
      "    Tercer commit, hola.py\n",
      "\n",
      "\u001b[33mcommit 1d3a29075d83ae4c2ed763596b817a91a458535b\u001b[m\n",
      "Author: maximofn <maximofn@gmail.com>\n",
      "Date:   Thu Mar 30 16:48:15 2023 +0200\n",
      "\n",
      "    Segundo commit, hola.py\n",
      "\n",
      "\u001b[33mcommit 8e24598253005f263ddea3b7261b00ea306d2de8\u001b[m\n",
      "Author: maximofn <maximofn@gmail.com>\n",
      "Date:   Wed Mar 29 15:56:27 2023 +0200\n",
      "\n",
      "    Primer commit, hola.py\n"
     ]
    }
   ],
   "source": [
    "!cd notebook_git && git log"
   ]
  },
  {
   "attachments": {},
   "cell_type": "markdown",
   "metadata": {},
   "source": [
    "#### Deshacer el commit y crearlo de nuevo sin el archivo"
   ]
  },
  {
   "attachments": {},
   "cell_type": "markdown",
   "metadata": {},
   "source": [
    "Volvemos a crear dos archivos y hacer un commit"
   ]
  },
  {
   "cell_type": "code",
   "execution_count": 10,
   "metadata": {},
   "outputs": [],
   "source": [
    "!cd notebook_git && echo \"print('Este es el archivo 6')\" > archivo6.py && echo \"print('Este es el archivo 7')\" > archivo7.py"
   ]
  },
  {
   "cell_type": "code",
   "execution_count": 11,
   "metadata": {},
   "outputs": [
    {
     "name": "stdout",
     "output_type": "stream",
     "text": [
      "En la rama master\n",
      "Archivos sin seguimiento:\n",
      "  (usa \"git add <archivo>...\" para incluirlo a lo que se será confirmado)\n",
      "\t\u001b[31marchivo6.py\u001b[m\n",
      "\t\u001b[31marchivo7.py\u001b[m\n",
      "\n",
      "no hay nada agregado al commit pero hay archivos sin seguimiento presentes (usa \"git add\" para hacerles seguimiento)\n"
     ]
    }
   ],
   "source": [
    "!cd notebook_git && git status"
   ]
  },
  {
   "cell_type": "code",
   "execution_count": 12,
   "metadata": {},
   "outputs": [
    {
     "name": "stdout",
     "output_type": "stream",
     "text": [
      "[master c207c79] Commit con los archivos 6 y 7\n",
      " 2 files changed, 2 insertions(+)\n",
      " create mode 100644 archivo6.py\n",
      " create mode 100644 archivo7.py\n"
     ]
    }
   ],
   "source": [
    "!cd notebook_git && git add archivo6.py archivo7.py && git commit -m \"Commit con los archivos 6 y 7\""
   ]
  },
  {
   "cell_type": "code",
   "execution_count": 13,
   "metadata": {},
   "outputs": [
    {
     "name": "stdout",
     "output_type": "stream",
     "text": [
      "\u001b[33mcommit c207c799e9d21e5b5155a6992768937ccd173abb\u001b[m\u001b[33m (\u001b[m\u001b[1;36mHEAD -> \u001b[m\u001b[1;32mmaster\u001b[m\u001b[33m)\u001b[m\n",
      "Author: maximofn <maximofn@gmail.com>\n",
      "Date:   Sat Apr 1 23:49:27 2023 +0200\n",
      "\n",
      "    Commit con los archivos 6 y 7\n",
      "\n",
      "\u001b[33mcommit c7ffdf2d0b2218e7e98f3f799e79ba49f6a00505\u001b[m\n",
      "Author: maximofn <maximofn@gmail.com>\n",
      "Date:   Sat Apr 1 23:47:37 2023 +0200\n",
      "\n",
      "    Eliminado archivo5.py\n",
      "\n",
      "\u001b[33mcommit 2e5e11fc610b0503ce31ef41ae4110df0970ce48\u001b[m\n",
      "Author: maximofn <maximofn@gmail.com>\n",
      "Date:   Sat Apr 1 23:41:35 2023 +0200\n",
      "\n",
      "    Commit con los archivos 4 y 5\n",
      "\n",
      "\u001b[33mcommit 88b823196919bb12b85d280b58a76f24136c097f\u001b[m\n",
      "Author: maximofn <maximofn@gmail.com>\n",
      "Date:   Sat Apr 1 02:57:10 2023 +0200\n",
      "\n",
      "    Añadido .gitignore\n",
      "\n",
      "\u001b[33mcommit f8615d223386f95cefb2a8cab2c881e5f72ed087\u001b[m\n",
      "Author: maximofn <maximofn@gmail.com>\n",
      "Date:   Sat Apr 1 02:24:10 2023 +0200\n",
      "\n",
      "    Commit con los archivos 1 y 2\n",
      "\n",
      "\u001b[33mcommit 851af581ea5246ad480456f82b451d6382074844\u001b[m\n",
      "Author: maximofn <maximofn@gmail.com>\n",
      "Date:   Sat Apr 1 02:16:39 2023 +0200\n",
      "\n",
      "    Tercer commit, hola.py\n",
      "\n",
      "\u001b[33mcommit 1d3a29075d83ae4c2ed763596b817a91a458535b\u001b[m\n",
      "Author: maximofn <maximofn@gmail.com>\n",
      "Date:   Thu Mar 30 16:48:15 2023 +0200\n",
      "\n",
      "    Segundo commit, hola.py\n",
      "\n",
      "\u001b[33mcommit 8e24598253005f263ddea3b7261b00ea306d2de8\u001b[m\n",
      "Author: maximofn <maximofn@gmail.com>\n",
      "Date:   Wed Mar 29 15:56:27 2023 +0200\n",
      "\n",
      "    Primer commit, hola.py\n"
     ]
    }
   ],
   "source": [
    "!cd notebook_git && git log"
   ]
  },
  {
   "attachments": {},
   "cell_type": "markdown",
   "metadata": {},
   "source": [
    "Primero deshacemos el último commit con `git reset --soft HEAD~1`"
   ]
  },
  {
   "cell_type": "code",
   "execution_count": 14,
   "metadata": {},
   "outputs": [],
   "source": [
    "!cd notebook_git && git reset --soft HEAD~1"
   ]
  },
  {
   "attachments": {},
   "cell_type": "markdown",
   "metadata": {},
   "source": [
    "Hacemos un `git status` para ver qué ha ocurrido"
   ]
  },
  {
   "cell_type": "code",
   "execution_count": 15,
   "metadata": {},
   "outputs": [
    {
     "name": "stdout",
     "output_type": "stream",
     "text": [
      "En la rama master\n",
      "Cambios a ser confirmados:\n",
      "  (usa \"git restore --staged <archivo>...\" para sacar del área de stage)\n",
      "\t\u001b[32mnuevos archivos: archivo6.py\u001b[m\n",
      "\t\u001b[32mnuevos archivos: archivo7.py\u001b[m\n",
      "\n"
     ]
    }
   ],
   "source": [
    "!cd notebook_git && git status"
   ]
  },
  {
   "attachments": {},
   "cell_type": "markdown",
   "metadata": {},
   "source": [
    "Vemos que he ha deshecho el commit, pero que los dos archivos se encuentran en el área de staged, por lo que para sacar del commir uno de los archivos, primero hay que sacarlo del área de staged, para ello hacemos `git reset archivo6.py`"
   ]
  },
  {
   "cell_type": "code",
   "execution_count": 16,
   "metadata": {},
   "outputs": [],
   "source": [
    "!cd notebook_git && git reset archivo6.py"
   ]
  },
  {
   "attachments": {},
   "cell_type": "markdown",
   "metadata": {},
   "source": [
    "Volvemos ha hacer un `git status`"
   ]
  },
  {
   "cell_type": "code",
   "execution_count": 17,
   "metadata": {},
   "outputs": [
    {
     "name": "stdout",
     "output_type": "stream",
     "text": [
      "En la rama master\n",
      "Cambios a ser confirmados:\n",
      "  (usa \"git restore --staged <archivo>...\" para sacar del área de stage)\n",
      "\t\u001b[32mnuevos archivos: archivo7.py\u001b[m\n",
      "\n",
      "Archivos sin seguimiento:\n",
      "  (usa \"git add <archivo>...\" para incluirlo a lo que se será confirmado)\n",
      "\t\u001b[31marchivo6.py\u001b[m\n",
      "\n"
     ]
    }
   ],
   "source": [
    "!cd notebook_git && git status"
   ]
  },
  {
   "attachments": {},
   "cell_type": "markdown",
   "metadata": {},
   "source": [
    "Vemos que `archivo7.py` está en el área de staged, mientras que `archivo6.py` ya no. Ahora podemos borrar archivo 6, para ello usamos `git clean`"
   ]
  },
  {
   "cell_type": "code",
   "execution_count": 22,
   "metadata": {},
   "outputs": [
    {
     "name": "stdout",
     "output_type": "stream",
     "text": [
      "Será borrado archivo6.py\n"
     ]
    }
   ],
   "source": [
    "!cd notebook_git && git clean -n"
   ]
  },
  {
   "cell_type": "code",
   "execution_count": 23,
   "metadata": {},
   "outputs": [
    {
     "name": "stdout",
     "output_type": "stream",
     "text": [
      "Borrando archivo6.py\n"
     ]
    }
   ],
   "source": [
    "!cd notebook_git && git clean -f"
   ]
  },
  {
   "attachments": {},
   "cell_type": "markdown",
   "metadata": {},
   "source": [
    "Volvemos a hacer un `git status`"
   ]
  },
  {
   "cell_type": "code",
   "execution_count": 24,
   "metadata": {},
   "outputs": [
    {
     "name": "stdout",
     "output_type": "stream",
     "text": [
      "En la rama master\n",
      "Cambios a ser confirmados:\n",
      "  (usa \"git restore --staged <archivo>...\" para sacar del área de stage)\n",
      "\t\u001b[32mnuevos archivos: archivo7.py\u001b[m\n",
      "\n"
     ]
    }
   ],
   "source": [
    "!cd notebook_git && git status"
   ]
  },
  {
   "attachments": {},
   "cell_type": "markdown",
   "metadata": {},
   "source": [
    "Como vemos `archiv6.py` ya no está, por lo que podemos hacer un nuevo commit"
   ]
  },
  {
   "cell_type": "code",
   "execution_count": 25,
   "metadata": {},
   "outputs": [
    {
     "name": "stdout",
     "output_type": "stream",
     "text": [
      "[master a120d43] Commit con el archivo 7\n",
      " 1 file changed, 1 insertion(+)\n",
      " create mode 100644 archivo7.py\n"
     ]
    }
   ],
   "source": [
    "!cd notebook_git && git commit -m \"Commit con el archivo 7\""
   ]
  },
  {
   "cell_type": "code",
   "execution_count": 26,
   "metadata": {},
   "outputs": [
    {
     "name": "stdout",
     "output_type": "stream",
     "text": [
      "\u001b[33mcommit a120d43de59031af2e9841bacec74ecda14a7400\u001b[m\u001b[33m (\u001b[m\u001b[1;36mHEAD -> \u001b[m\u001b[1;32mmaster\u001b[m\u001b[33m)\u001b[m\n",
      "Author: maximofn <maximofn@gmail.com>\n",
      "Date:   Sun Apr 2 00:03:39 2023 +0200\n",
      "\n",
      "    Commit con el archivo 7\n",
      "\n",
      "\u001b[33mcommit c7ffdf2d0b2218e7e98f3f799e79ba49f6a00505\u001b[m\n",
      "Author: maximofn <maximofn@gmail.com>\n",
      "Date:   Sat Apr 1 23:47:37 2023 +0200\n",
      "\n",
      "    Eliminado archivo5.py\n",
      "\n",
      "\u001b[33mcommit 2e5e11fc610b0503ce31ef41ae4110df0970ce48\u001b[m\n",
      "Author: maximofn <maximofn@gmail.com>\n",
      "Date:   Sat Apr 1 23:41:35 2023 +0200\n",
      "\n",
      "    Commit con los archivos 4 y 5\n",
      "\n",
      "\u001b[33mcommit 88b823196919bb12b85d280b58a76f24136c097f\u001b[m\n",
      "Author: maximofn <maximofn@gmail.com>\n",
      "Date:   Sat Apr 1 02:57:10 2023 +0200\n",
      "\n",
      "    Añadido .gitignore\n",
      "\n",
      "\u001b[33mcommit f8615d223386f95cefb2a8cab2c881e5f72ed087\u001b[m\n",
      "Author: maximofn <maximofn@gmail.com>\n",
      "Date:   Sat Apr 1 02:24:10 2023 +0200\n",
      "\n",
      "    Commit con los archivos 1 y 2\n",
      "\n",
      "\u001b[33mcommit 851af581ea5246ad480456f82b451d6382074844\u001b[m\n",
      "Author: maximofn <maximofn@gmail.com>\n",
      "Date:   Sat Apr 1 02:16:39 2023 +0200\n",
      "\n",
      "    Tercer commit, hola.py\n",
      "\n",
      "\u001b[33mcommit 1d3a29075d83ae4c2ed763596b817a91a458535b\u001b[m\n",
      "Author: maximofn <maximofn@gmail.com>\n",
      "Date:   Thu Mar 30 16:48:15 2023 +0200\n",
      "\n",
      "    Segundo commit, hola.py\n",
      "\n",
      "\u001b[33mcommit 8e24598253005f263ddea3b7261b00ea306d2de8\u001b[m\n",
      "Author: maximofn <maximofn@gmail.com>\n",
      "Date:   Wed Mar 29 15:56:27 2023 +0200\n",
      "\n",
      "    Primer commit, hola.py\n"
     ]
    }
   ],
   "source": [
    "!cd notebook_git && git log"
   ]
  },
  {
   "attachments": {},
   "cell_type": "markdown",
   "metadata": {},
   "source": [
    "Hemos eliminado el último commit y lo hemos sobreescrito con uno nuevo, eliminando el archivo que queríamos"
   ]
  },
  {
   "attachments": {},
   "cell_type": "markdown",
   "metadata": {},
   "source": [
    "## Ramas"
   ]
  },
  {
   "attachments": {},
   "cell_type": "markdown",
   "metadata": {},
   "source": [
    "![branches](https://maximofn.com/wp-content/uploads/2023/04/GIT-Branchand-its-Operations.png)\n",
    "\n",
    "El uso de ramas es muy útil, ya que podemos empezar a desarrollar una nueva característica sin tener que modificar el código original"
   ]
  },
  {
   "attachments": {},
   "cell_type": "markdown",
   "metadata": {},
   "source": [
    "### Crear una rama (`git branch <branch name>`)"
   ]
  },
  {
   "attachments": {},
   "cell_type": "markdown",
   "metadata": {},
   "source": [
    " > **Nota**: Antes de nada hay que decir que para crear una rama en un repositorio debe haber al menos un commit, si se intenta crear una rama antes de hacer el primer commit recibiremos un error"
   ]
  },
  {
   "attachments": {},
   "cell_type": "markdown",
   "metadata": {},
   "source": [
    "Para crear una rama utilizamos el comando `git branch <nombre de la rama>`"
   ]
  },
  {
   "cell_type": "code",
   "execution_count": 4,
   "metadata": {},
   "outputs": [],
   "source": [
    "!cd notebook_git && git branch new_branch"
   ]
  },
  {
   "attachments": {},
   "cell_type": "markdown",
   "metadata": {},
   "source": [
    "### Listar ramas (`git branch`)"
   ]
  },
  {
   "attachments": {},
   "cell_type": "markdown",
   "metadata": {},
   "source": [
    "Hemos creado nuestra primera rama, podemos comprobar todas las ramas que tenemos creadas escribiéndo solo `git branch`"
   ]
  },
  {
   "cell_type": "code",
   "execution_count": 5,
   "metadata": {},
   "outputs": [
    {
     "name": "stdout",
     "output_type": "stream",
     "text": [
      "* \u001b[32mmaster\u001b[m\n",
      "  new_branch\u001b[m\n"
     ]
    }
   ],
   "source": [
    "!cd notebook_git && git branch"
   ]
  },
  {
   "attachments": {},
   "cell_type": "markdown",
   "metadata": {},
   "source": [
    "Además de listar nos dice con un asterisco `*` en qué rama estamos, en este caso en la rama `master`"
   ]
  },
  {
   "attachments": {},
   "cell_type": "markdown",
   "metadata": {},
   "source": [
    "### Renombrar ramas, adios a la rama `master` (`git branch -m <old name> <new name>`)"
   ]
  },
  {
   "attachments": {},
   "cell_type": "markdown",
   "metadata": {},
   "source": [
    "Históricamente en git se ha llamado `master` a la rama principal, pero esto tiene unas connotaciones historicas malas por el concepto de `master-slave` (`maestro-esclavo`), debido al sufrimiento que recibieron muchas personas, por lo que ahora se suele catalogar la rama principal como `main`, así que para cambiarle el nombre usamos `git branch -m master main`"
   ]
  },
  {
   "cell_type": "code",
   "execution_count": 6,
   "metadata": {},
   "outputs": [],
   "source": [
    "!cd notebook_git && git branch -m master main"
   ]
  },
  {
   "attachments": {},
   "cell_type": "markdown",
   "metadata": {},
   "source": [
    "Listamos las ramas"
   ]
  },
  {
   "cell_type": "code",
   "execution_count": 7,
   "metadata": {},
   "outputs": [
    {
     "name": "stdout",
     "output_type": "stream",
     "text": [
      "* \u001b[32mmain\u001b[m\n",
      "  new_branch\u001b[m\n"
     ]
    }
   ],
   "source": [
    "!cd notebook_git && git branch"
   ]
  },
  {
   "attachments": {},
   "cell_type": "markdown",
   "metadata": {},
   "source": [
    "Como vemos hemos podido cambiar el nombre de la rama principal de `master` a `main`"
   ]
  },
  {
   "attachments": {},
   "cell_type": "markdown",
   "metadata": {},
   "source": [
    "### Cambiar de rama (`git switch <branch>`)"
   ]
  },
  {
   "attachments": {},
   "cell_type": "markdown",
   "metadata": {},
   "source": [
    "Si queremos cambiar de rama solo hay que escribir `git switch <nombre de la rama>`"
   ]
  },
  {
   "cell_type": "code",
   "execution_count": 8,
   "metadata": {},
   "outputs": [
    {
     "name": "stdout",
     "output_type": "stream",
     "text": [
      "Cambiado a rama 'new_branch'\n"
     ]
    }
   ],
   "source": [
    "!cd notebook_git && git switch new_branch"
   ]
  },
  {
   "attachments": {},
   "cell_type": "markdown",
   "metadata": {},
   "source": [
    "Vamos a ver en qué rama estamos con `git branch`"
   ]
  },
  {
   "cell_type": "code",
   "execution_count": 9,
   "metadata": {},
   "outputs": [
    {
     "name": "stdout",
     "output_type": "stream",
     "text": [
      "  main\u001b[m\n",
      "* \u001b[32mnew_branch\u001b[m\n"
     ]
    }
   ],
   "source": [
    "!cd notebook_git && git branch"
   ]
  },
  {
   "attachments": {},
   "cell_type": "markdown",
   "metadata": {},
   "source": [
    "Como vemos hemos cambiado de rama a new_branch"
   ]
  },
  {
   "attachments": {},
   "cell_type": "markdown",
   "metadata": {},
   "source": [
    "Si queremos crear y cambiar de rama en un solo comando podemos usar `git switch -c <nombre de la rama>`"
   ]
  },
  {
   "cell_type": "code",
   "execution_count": 10,
   "metadata": {},
   "outputs": [
    {
     "name": "stdout",
     "output_type": "stream",
     "text": [
      "Cambiado a nueva rama 'new_branch2'\n"
     ]
    }
   ],
   "source": [
    "!cd notebook_git && git switch -c new_branch2"
   ]
  },
  {
   "attachments": {},
   "cell_type": "markdown",
   "metadata": {},
   "source": [
    "Vamos a ver en qué rama estamos"
   ]
  },
  {
   "cell_type": "code",
   "execution_count": 11,
   "metadata": {},
   "outputs": [
    {
     "name": "stdout",
     "output_type": "stream",
     "text": [
      "  main\u001b[m\n",
      "  new_branch\u001b[m\n",
      "* \u001b[32mnew_branch2\u001b[m\n"
     ]
    }
   ],
   "source": [
    "!cd notebook_git && git branch"
   ]
  },
  {
   "attachments": {},
   "cell_type": "markdown",
   "metadata": {},
   "source": [
    "Hemos creado y cambiado de rama con un solo comando"
   ]
  },
  {
   "attachments": {},
   "cell_type": "markdown",
   "metadata": {},
   "source": [
    "### Obtener la rama en la que estamos (`git branch --show-current`)"
   ]
  },
  {
   "attachments": {},
   "cell_type": "markdown",
   "metadata": {},
   "source": [
    "Como hemos visto hasta ahora con `git branch` podemos obtener una lista de todas las ramas y además ver en la que estamos actualmente, pero en el caso en el que tengamos una gran cantidad de ramas, cosa que se puede dar en un equipo de trabajo con mucha gente, está bien obtener la rama y no obtener una lista de todas, para eso usamos `git branch --show-current`"
   ]
  },
  {
   "cell_type": "code",
   "execution_count": 12,
   "metadata": {},
   "outputs": [
    {
     "name": "stdout",
     "output_type": "stream",
     "text": [
      "new_branch2\n"
     ]
    }
   ],
   "source": [
    "!cd notebook_git && git branch --show-current"
   ]
  },
  {
   "attachments": {},
   "cell_type": "markdown",
   "metadata": {},
   "source": [
    "### Lista de ramas más recientes (`git branch --sort=-committerdate`)"
   ]
  },
  {
   "attachments": {},
   "cell_type": "markdown",
   "metadata": {},
   "source": [
    "En caso de tener muchas ramas a lo mejor nos interesa saber cuales son las más recientes para ver cuales han sido las últimas creadas y donde debería estar lo último en desarrollo, para eso usamos `git branch --sort=-committerdate`"
   ]
  },
  {
   "cell_type": "code",
   "execution_count": 13,
   "metadata": {},
   "outputs": [
    {
     "name": "stdout",
     "output_type": "stream",
     "text": [
      "* \u001b[32mnew_branch2\u001b[m\n",
      "  new_branch\u001b[m\n",
      "  main\u001b[m\n"
     ]
    }
   ],
   "source": [
    "!cd notebook_git && git branch --sort=-committerdate"
   ]
  },
  {
   "attachments": {},
   "cell_type": "markdown",
   "metadata": {},
   "source": [
    "Como vemos las ha ordenado en orden inverso a cuando las hemos creado"
   ]
  },
  {
   "attachments": {},
   "cell_type": "markdown",
   "metadata": {},
   "source": [
    "### El comando deprecado `git checkout`"
   ]
  },
  {
   "attachments": {},
   "cell_type": "markdown",
   "metadata": {},
   "source": [
    "Hasta hace un tiempo el comando para crear ramas y cambiar entre ellas era `git checkout`, pero este comando no solo hace esto, sino que también restaura el directorio de trabajo. Pero esto va en contra de la filosofía de Linux, por lo que se crearon los comando `git branch`, `git swicth` y `git restore` para dividir esta funcionalidad"
   ]
  },
  {
   "attachments": {},
   "cell_type": "markdown",
   "metadata": {},
   "source": [
    "### Fusionando ramas (`git merge`)"
   ]
  },
  {
   "attachments": {},
   "cell_type": "markdown",
   "metadata": {},
   "source": [
    "Como hemos dicho, el crear ramas es muy util para desarrollar nuevas características sin afectar al resto del equipo. Pero cuando estas están terminadas hay que llevarlas a la rama principal, para ello utilizamos el comando `git merge <rama>`\n",
    "\n",
    " > **Importante**: Tenemos que estar en la rama que va a adoptar los cambios, es decir, si queremos fusionar los cambios realizados en la rama `new_branch2` en la rama `main`, primero tenemos que asegurarnos de estar en la rama `main`"
   ]
  },
  {
   "attachments": {},
   "cell_type": "markdown",
   "metadata": {},
   "source": [
    "Primero comprobamos en qué rama estamos"
   ]
  },
  {
   "cell_type": "code",
   "execution_count": 14,
   "metadata": {},
   "outputs": [
    {
     "name": "stdout",
     "output_type": "stream",
     "text": [
      "new_branch2\n"
     ]
    }
   ],
   "source": [
    "!cd notebook_git && git branch --show-current"
   ]
  },
  {
   "attachments": {},
   "cell_type": "markdown",
   "metadata": {},
   "source": [
    "Eliminamos `archivo7.py`"
   ]
  },
  {
   "cell_type": "code",
   "execution_count": 15,
   "metadata": {},
   "outputs": [
    {
     "name": "stdout",
     "output_type": "stream",
     "text": [
      "rm 'archivo7.py'\n"
     ]
    }
   ],
   "source": [
    "!cd notebook_git && git rm archivo7.py"
   ]
  },
  {
   "attachments": {},
   "cell_type": "markdown",
   "metadata": {},
   "source": [
    "Hacemos un commit con los cambios"
   ]
  },
  {
   "cell_type": "code",
   "execution_count": 16,
   "metadata": {},
   "outputs": [
    {
     "name": "stdout",
     "output_type": "stream",
     "text": [
      "[new_branch2 6765492] Eliminado archivo7.py\n",
      " 1 file changed, 1 deletion(-)\n",
      " delete mode 100644 archivo7.py\n"
     ]
    }
   ],
   "source": [
    "!cd notebook_git && git commit -am \"Eliminado archivo7.py\""
   ]
  },
  {
   "attachments": {},
   "cell_type": "markdown",
   "metadata": {},
   "source": [
    "Si hacemos un `ls` vemos que `archivo7.py` ya no está"
   ]
  },
  {
   "cell_type": "code",
   "execution_count": 17,
   "metadata": {},
   "outputs": [
    {
     "name": "stdout",
     "output_type": "stream",
     "text": [
      "api_keys.py  archivo1.py  archivo2.py  archivo4.py  hola.py\n"
     ]
    }
   ],
   "source": [
    "!cd notebook_git && ls"
   ]
  },
  {
   "attachments": {},
   "cell_type": "markdown",
   "metadata": {},
   "source": [
    "Cambiamos a la rama principal"
   ]
  },
  {
   "cell_type": "code",
   "execution_count": 18,
   "metadata": {},
   "outputs": [
    {
     "name": "stdout",
     "output_type": "stream",
     "text": [
      "Cambiado a rama 'main'\n"
     ]
    }
   ],
   "source": [
    "!cd notebook_git && git switch main"
   ]
  },
  {
   "attachments": {},
   "cell_type": "markdown",
   "metadata": {},
   "source": [
    "Si ahora hacemos otra vez `ls` veremos que `archivo7.py` sí está"
   ]
  },
  {
   "cell_type": "code",
   "execution_count": 19,
   "metadata": {},
   "outputs": [
    {
     "name": "stdout",
     "output_type": "stream",
     "text": [
      "api_keys.py  archivo1.py  archivo2.py  archivo4.py  archivo7.py  hola.py\n"
     ]
    }
   ],
   "source": [
    "!cd notebook_git && ls"
   ]
  },
  {
   "attachments": {},
   "cell_type": "markdown",
   "metadata": {},
   "source": [
    "Fusionamos las ramas, traemos los cambios de `new_branch2` a `main`"
   ]
  },
  {
   "cell_type": "code",
   "execution_count": 20,
   "metadata": {},
   "outputs": [
    {
     "name": "stdout",
     "output_type": "stream",
     "text": [
      "Actualizando a120d43..6765492\n",
      "Fast-forward\n",
      " archivo7.py | 1 \u001b[31m-\u001b[m\n",
      " 1 file changed, 1 deletion(-)\n",
      " delete mode 100644 archivo7.py\n"
     ]
    }
   ],
   "source": [
    "!cd notebook_git && git merge new_branch2"
   ]
  },
  {
   "attachments": {},
   "cell_type": "markdown",
   "metadata": {},
   "source": [
    "Hacemos un `git status`"
   ]
  },
  {
   "cell_type": "code",
   "execution_count": 21,
   "metadata": {},
   "outputs": [
    {
     "name": "stdout",
     "output_type": "stream",
     "text": [
      "En la rama main\n",
      "nada para hacer commit, el árbol de trabajo está limpio\n"
     ]
    }
   ],
   "source": [
    "!cd notebook_git && git status"
   ]
  },
  {
   "attachments": {},
   "cell_type": "markdown",
   "metadata": {},
   "source": [
    "Vemos que al hacer el merge no es necesario hacer ningún commit, veamos con un `git log` qué ha pasado"
   ]
  },
  {
   "cell_type": "code",
   "execution_count": 22,
   "metadata": {},
   "outputs": [
    {
     "name": "stdout",
     "output_type": "stream",
     "text": [
      "\u001b[33mcommit 67654925457aea68f184e87f943bea10c1881937\u001b[m\u001b[33m (\u001b[m\u001b[1;36mHEAD -> \u001b[m\u001b[1;32mmain\u001b[m\u001b[33m, \u001b[m\u001b[1;32mnew_branch2\u001b[m\u001b[33m)\u001b[m\n",
      "Author: maximofn <maximofn@gmail.com>\n",
      "Date:   Tue Apr 4 16:52:56 2023 +0200\n",
      "\n",
      "    Eliminado archivo7.py\n",
      "\n",
      "\u001b[33mcommit a120d43de59031af2e9841bacec74ecda14a7400\u001b[m\u001b[33m (\u001b[m\u001b[1;32mnew_branch\u001b[m\u001b[33m)\u001b[m\n",
      "Author: maximofn <maximofn@gmail.com>\n",
      "Date:   Sun Apr 2 00:03:39 2023 +0200\n",
      "\n",
      "    Commit con el archivo 7\n",
      "\n",
      "\u001b[33mcommit c7ffdf2d0b2218e7e98f3f799e79ba49f6a00505\u001b[m\n",
      "Author: maximofn <maximofn@gmail.com>\n",
      "Date:   Sat Apr 1 23:47:37 2023 +0200\n",
      "\n",
      "    Eliminado archivo5.py\n",
      "\n",
      "\u001b[33mcommit 2e5e11fc610b0503ce31ef41ae4110df0970ce48\u001b[m\n",
      "Author: maximofn <maximofn@gmail.com>\n",
      "Date:   Sat Apr 1 23:41:35 2023 +0200\n",
      "\n",
      "    Commit con los archivos 4 y 5\n",
      "\n",
      "\u001b[33mcommit 88b823196919bb12b85d280b58a76f24136c097f\u001b[m\n",
      "Author: maximofn <maximofn@gmail.com>\n",
      "Date:   Sat Apr 1 02:57:10 2023 +0200\n",
      "\n",
      "    Añadido .gitignore\n",
      "\n",
      "\u001b[33mcommit f8615d223386f95cefb2a8cab2c881e5f72ed087\u001b[m\n",
      "Author: maximofn <maximofn@gmail.com>\n",
      "Date:   Sat Apr 1 02:24:10 2023 +0200\n",
      "\n",
      "    Commit con los archivos 1 y 2\n",
      "\n",
      "\u001b[33mcommit 851af581ea5246ad480456f82b451d6382074844\u001b[m\n",
      "Author: maximofn <maximofn@gmail.com>\n",
      "Date:   Sat Apr 1 02:16:39 2023 +0200\n",
      "\n",
      "    Tercer commit, hola.py\n",
      "\n",
      "\u001b[33mcommit 1d3a29075d83ae4c2ed763596b817a91a458535b\u001b[m\n",
      "Author: maximofn <maximofn@gmail.com>\n",
      "Date:   Thu Mar 30 16:48:15 2023 +0200\n",
      "\n",
      "    Segundo commit, hola.py\n",
      "\n",
      "\u001b[33mcommit 8e24598253005f263ddea3b7261b00ea306d2de8\u001b[m\n",
      "Author: maximofn <maximofn@gmail.com>\n",
      "Date:   Wed Mar 29 15:56:27 2023 +0200\n",
      "\n",
      "    Primer commit, hola.py\n"
     ]
    }
   ],
   "source": [
    "!cd notebook_git && git log"
   ]
  },
  {
   "attachments": {},
   "cell_type": "markdown",
   "metadata": {},
   "source": [
    "Vemos que el commit de la rama `new_branch2` se ha incorporado a esta rama"
   ]
  },
  {
   "attachments": {},
   "cell_type": "markdown",
   "metadata": {},
   "source": [
    "#### Fast-forward"
   ]
  },
  {
   "attachments": {},
   "cell_type": "markdown",
   "metadata": {},
   "source": [
    "Este ejemplo es en el que creamos una nueva rama, la principal no la tocamos y solo modificamos la nueva, por lo que al unir la nueva en la principal se verá como un commit con los nuevos cambios"
   ]
  },
  {
   "cell_type": "code",
   "execution_count": 44,
   "metadata": {},
   "outputs": [
    {
     "data": {
      "image/svg+xml": "<?xml version=\"1.0\" encoding=\"UTF-8\" standalone=\"no\"?>\n<!DOCTYPE svg PUBLIC \"-//W3C//DTD SVG 1.1//EN\"\n \"http://www.w3.org/Graphics/SVG/1.1/DTD/svg11.dtd\">\n<!-- Generated by graphviz version 2.43.0 (0)\n -->\n<!-- Title: G Pages: 1 -->\n<svg width=\"404pt\" height=\"98pt\"\n viewBox=\"0.00 0.00 404.40 98.00\" xmlns=\"http://www.w3.org/2000/svg\" xmlns:xlink=\"http://www.w3.org/1999/xlink\">\n<g id=\"graph0\" class=\"graph\" transform=\"scale(1 1) rotate(0) translate(4 94)\">\n<title>G</title>\n<polygon fill=\"white\" stroke=\"transparent\" points=\"-4,4 -4,-94 400.4,-94 400.4,4 -4,4\"/>\n<!-- A -->\n<g id=\"node1\" class=\"node\">\n<title>A</title>\n<ellipse fill=\"none\" stroke=\"blue\" cx=\"18\" cy=\"-45\" rx=\"18\" ry=\"18\"/>\n<text text-anchor=\"middle\" x=\"18\" y=\"-41.3\" font-family=\"Times,serif\" font-size=\"14.00\">A</text>\n</g>\n<!-- B -->\n<g id=\"node2\" class=\"node\">\n<title>B</title>\n<ellipse fill=\"none\" stroke=\"blue\" cx=\"90\" cy=\"-45\" rx=\"18\" ry=\"18\"/>\n<text text-anchor=\"middle\" x=\"90\" y=\"-41.3\" font-family=\"Times,serif\" font-size=\"14.00\">B</text>\n</g>\n<!-- A&#45;&gt;B -->\n<g id=\"edge1\" class=\"edge\">\n<title>A&#45;&gt;B</title>\n<path fill=\"none\" stroke=\"black\" d=\"M36.3,-45C44.02,-45 53.29,-45 61.89,-45\"/>\n<polygon fill=\"black\" stroke=\"black\" points=\"61.9,-48.5 71.9,-45 61.9,-41.5 61.9,-48.5\"/>\n</g>\n<!-- C -->\n<g id=\"node3\" class=\"node\">\n<title>C</title>\n<ellipse fill=\"none\" stroke=\"blue\" cx=\"162\" cy=\"-45\" rx=\"18\" ry=\"18\"/>\n<text text-anchor=\"middle\" x=\"162\" y=\"-41.3\" font-family=\"Times,serif\" font-size=\"14.00\">C</text>\n</g>\n<!-- B&#45;&gt;C -->\n<g id=\"edge2\" class=\"edge\">\n<title>B&#45;&gt;C</title>\n<path fill=\"none\" stroke=\"black\" d=\"M108.3,-45C116.02,-45 125.29,-45 133.89,-45\"/>\n<polygon fill=\"black\" stroke=\"black\" points=\"133.9,-48.5 143.9,-45 133.9,-41.5 133.9,-48.5\"/>\n</g>\n<!-- D -->\n<g id=\"node4\" class=\"node\">\n<title>D</title>\n<ellipse fill=\"none\" stroke=\"blue\" cx=\"234.2\" cy=\"-45\" rx=\"18.4\" ry=\"18.4\"/>\n<text text-anchor=\"middle\" x=\"234.2\" y=\"-41.3\" font-family=\"Times,serif\" font-size=\"14.00\">D</text>\n</g>\n<!-- C&#45;&gt;D -->\n<g id=\"edge3\" class=\"edge\">\n<title>C&#45;&gt;D</title>\n<path fill=\"none\" stroke=\"black\" d=\"M180.35,-45C187.89,-45 196.91,-45 205.34,-45\"/>\n<polygon fill=\"black\" stroke=\"black\" points=\"205.56,-48.5 215.56,-45 205.56,-41.5 205.56,-48.5\"/>\n</g>\n<!-- E -->\n<g id=\"node5\" class=\"node\">\n<title>E</title>\n<ellipse fill=\"none\" stroke=\"transparent\" cx=\"306.4\" cy=\"-72\" rx=\"18\" ry=\"18\"/>\n</g>\n<!-- D&#45;&gt;E -->\n<g id=\"edge4\" class=\"edge\">\n<title>D&#45;&gt;E</title>\n<path fill=\"none\" stroke=\"transparent\" d=\"M251.48,-51.26C259.9,-54.5 270.36,-58.53 279.83,-62.17\"/>\n<polygon fill=\"transparent\" stroke=\"transparent\" points=\"278.61,-65.45 289.2,-65.77 281.13,-58.92 278.61,-65.45\"/>\n</g>\n<!-- X -->\n<g id=\"node6\" class=\"node\">\n<title>X</title>\n<ellipse fill=\"none\" stroke=\"green\" cx=\"306.4\" cy=\"-18\" rx=\"18\" ry=\"18\"/>\n<text text-anchor=\"middle\" x=\"306.4\" y=\"-14.3\" font-family=\"Times,serif\" font-size=\"14.00\">X</text>\n</g>\n<!-- D&#45;&gt;X -->\n<g id=\"edge5\" class=\"edge\">\n<title>D&#45;&gt;X</title>\n<path fill=\"none\" stroke=\"black\" d=\"M251.48,-38.74C259.9,-35.5 270.36,-31.47 279.83,-27.83\"/>\n<polygon fill=\"black\" stroke=\"black\" points=\"281.13,-31.08 289.2,-24.23 278.61,-24.55 281.13,-31.08\"/>\n</g>\n<!-- Y -->\n<g id=\"node7\" class=\"node\">\n<title>Y</title>\n<ellipse fill=\"none\" stroke=\"green\" cx=\"378.4\" cy=\"-18\" rx=\"18\" ry=\"18\"/>\n<text text-anchor=\"middle\" x=\"378.4\" y=\"-14.3\" font-family=\"Times,serif\" font-size=\"14.00\">Y</text>\n</g>\n<!-- X&#45;&gt;Y -->\n<g id=\"edge6\" class=\"edge\">\n<title>X&#45;&gt;Y</title>\n<path fill=\"none\" stroke=\"black\" d=\"M324.7,-18C332.41,-18 341.68,-18 350.28,-18\"/>\n<polygon fill=\"black\" stroke=\"black\" points=\"350.29,-21.5 360.29,-18 350.29,-14.5 350.29,-21.5\"/>\n</g>\n</g>\n</svg>\n",
      "text/plain": [
       "<graphviz.graphs.Digraph at 0x7fb4980b3760>"
      ]
     },
     "metadata": {},
     "output_type": "display_data"
    },
    {
     "data": {
      "image/svg+xml": "<?xml version=\"1.0\" encoding=\"UTF-8\" standalone=\"no\"?>\n<!DOCTYPE svg PUBLIC \"-//W3C//DTD SVG 1.1//EN\"\n \"http://www.w3.org/Graphics/SVG/1.1/DTD/svg11.dtd\">\n<!-- Generated by graphviz version 2.43.0 (0)\n -->\n<!-- Title: G Pages: 1 -->\n<svg width=\"404pt\" height=\"44pt\"\n viewBox=\"0.00 0.00 404.40 44.40\" xmlns=\"http://www.w3.org/2000/svg\" xmlns:xlink=\"http://www.w3.org/1999/xlink\">\n<g id=\"graph0\" class=\"graph\" transform=\"scale(1 1) rotate(0) translate(4 40.4)\">\n<title>G</title>\n<polygon fill=\"white\" stroke=\"transparent\" points=\"-4,4 -4,-40.4 400.4,-40.4 400.4,4 -4,4\"/>\n<!-- A -->\n<g id=\"node1\" class=\"node\">\n<title>A</title>\n<ellipse fill=\"none\" stroke=\"blue\" cx=\"18\" cy=\"-18.2\" rx=\"18\" ry=\"18\"/>\n<text text-anchor=\"middle\" x=\"18\" y=\"-14.5\" font-family=\"Times,serif\" font-size=\"14.00\">A</text>\n</g>\n<!-- B -->\n<g id=\"node2\" class=\"node\">\n<title>B</title>\n<ellipse fill=\"none\" stroke=\"blue\" cx=\"90\" cy=\"-18.2\" rx=\"18\" ry=\"18\"/>\n<text text-anchor=\"middle\" x=\"90\" y=\"-14.5\" font-family=\"Times,serif\" font-size=\"14.00\">B</text>\n</g>\n<!-- A&#45;&gt;B -->\n<g id=\"edge1\" class=\"edge\">\n<title>A&#45;&gt;B</title>\n<path fill=\"none\" stroke=\"black\" d=\"M36.3,-18.2C44.02,-18.2 53.29,-18.2 61.89,-18.2\"/>\n<polygon fill=\"black\" stroke=\"black\" points=\"61.9,-21.7 71.9,-18.2 61.9,-14.7 61.9,-21.7\"/>\n</g>\n<!-- C -->\n<g id=\"node3\" class=\"node\">\n<title>C</title>\n<ellipse fill=\"none\" stroke=\"blue\" cx=\"162\" cy=\"-18.2\" rx=\"18\" ry=\"18\"/>\n<text text-anchor=\"middle\" x=\"162\" y=\"-14.5\" font-family=\"Times,serif\" font-size=\"14.00\">C</text>\n</g>\n<!-- B&#45;&gt;C -->\n<g id=\"edge2\" class=\"edge\">\n<title>B&#45;&gt;C</title>\n<path fill=\"none\" stroke=\"black\" d=\"M108.3,-18.2C116.02,-18.2 125.29,-18.2 133.89,-18.2\"/>\n<polygon fill=\"black\" stroke=\"black\" points=\"133.9,-21.7 143.9,-18.2 133.9,-14.7 133.9,-21.7\"/>\n</g>\n<!-- D -->\n<g id=\"node4\" class=\"node\">\n<title>D</title>\n<ellipse fill=\"none\" stroke=\"blue\" cx=\"234.2\" cy=\"-18.2\" rx=\"18.4\" ry=\"18.4\"/>\n<text text-anchor=\"middle\" x=\"234.2\" y=\"-14.5\" font-family=\"Times,serif\" font-size=\"14.00\">D</text>\n</g>\n<!-- C&#45;&gt;D -->\n<g id=\"edge3\" class=\"edge\">\n<title>C&#45;&gt;D</title>\n<path fill=\"none\" stroke=\"black\" d=\"M180.35,-18.2C187.89,-18.2 196.91,-18.2 205.34,-18.2\"/>\n<polygon fill=\"black\" stroke=\"black\" points=\"205.56,-21.7 215.56,-18.2 205.56,-14.7 205.56,-21.7\"/>\n</g>\n<!-- X -->\n<g id=\"node5\" class=\"node\">\n<title>X</title>\n<ellipse fill=\"none\" stroke=\"magenta\" cx=\"306.4\" cy=\"-18.2\" rx=\"18\" ry=\"18\"/>\n<text text-anchor=\"middle\" x=\"306.4\" y=\"-14.5\" font-family=\"Times,serif\" font-size=\"14.00\">X</text>\n</g>\n<!-- D&#45;&gt;X -->\n<g id=\"edge4\" class=\"edge\">\n<title>D&#45;&gt;X</title>\n<path fill=\"none\" stroke=\"black\" d=\"M252.55,-18.2C260.29,-18.2 269.58,-18.2 278.21,-18.2\"/>\n<polygon fill=\"black\" stroke=\"black\" points=\"278.24,-21.7 288.24,-18.2 278.24,-14.7 278.24,-21.7\"/>\n</g>\n<!-- Y -->\n<g id=\"node6\" class=\"node\">\n<title>Y</title>\n<ellipse fill=\"none\" stroke=\"magenta\" cx=\"378.4\" cy=\"-18.2\" rx=\"18\" ry=\"18\"/>\n<text text-anchor=\"middle\" x=\"378.4\" y=\"-14.5\" font-family=\"Times,serif\" font-size=\"14.00\">Y</text>\n</g>\n<!-- X&#45;&gt;Y -->\n<g id=\"edge5\" class=\"edge\">\n<title>X&#45;&gt;Y</title>\n<path fill=\"none\" stroke=\"black\" d=\"M324.7,-18.2C332.41,-18.2 341.68,-18.2 350.28,-18.2\"/>\n<polygon fill=\"black\" stroke=\"black\" points=\"350.29,-21.7 360.29,-18.2 350.29,-14.7 350.29,-21.7\"/>\n</g>\n</g>\n</svg>\n",
      "text/plain": [
       "<graphviz.graphs.Digraph at 0x7fb4980b3280>"
      ]
     },
     "metadata": {},
     "output_type": "display_data"
    }
   ],
   "source": [
    "import graphviz\n",
    "\n",
    "# Crear el gráfico con la dirección de las flechas de izquierda a derecha\n",
    "orin = graphviz.Digraph('G', graph_attr={'rankdir': 'LR'})\n",
    "fast_foward = graphviz.Digraph('G', graph_attr={'rankdir': 'LR'})\n",
    "\n",
    "# Agregar nodos (pelotas) A, B, C y D en la rama principal\n",
    "orin.node('A', shape='circle', label='A', color='blue')\n",
    "orin.node('B', shape='circle', label='B', color='blue')\n",
    "orin.node('C', shape='circle', label='C', color='blue')\n",
    "orin.node('D', shape='circle', label='D', color='blue')\n",
    "orin.node('E', shape='circle', label='', color='transparent')\n",
    "fast_foward.node('A', shape='circle', label='A', color='blue')\n",
    "fast_foward.node('B', shape='circle', label='B', color='blue')\n",
    "fast_foward.node('C', shape='circle', label='C', color='blue')\n",
    "fast_foward.node('D', shape='circle', label='D', color='blue')\n",
    "\n",
    "# Agregar nodos (pelotas) X e Y en la rama secundaria\n",
    "orin.node('X', shape='circle', label='X', color='green')\n",
    "orin.node('Y', shape='circle', label='Y', color='green')\n",
    "fast_foward.node('X', shape='circle', label='X', color='magenta')\n",
    "fast_foward.node('Y', shape='circle', label='Y', color='magenta')\n",
    "\n",
    "# Agregar flechas entre los nodos en la rama principal\n",
    "orin.edges(['AB', 'BC', 'CD'])\n",
    "orin.edge('D', 'E', color='transparent')  # Hacer la flecha de C a D transparente\n",
    "fast_foward.edges(['AB', 'BC', 'CD', 'DX', 'XY'])\n",
    "\n",
    "# Agregar flechas entre los nodos en la rama secundaria\n",
    "orin.edges(['DX', 'XY'])\n",
    "\n",
    "# Mostrar el diagrama de flujo en la celda de código de Jupyter Notebook\n",
    "display(orin)\n",
    "display(fast_foward)"
   ]
  },
  {
   "cell_type": "code",
   "execution_count": 45,
   "metadata": {},
   "outputs": [
    {
     "data": {
      "image/svg+xml": "<?xml version=\"1.0\" encoding=\"UTF-8\" standalone=\"no\"?>\n<!DOCTYPE svg PUBLIC \"-//W3C//DTD SVG 1.1//EN\"\n \"http://www.w3.org/Graphics/SVG/1.1/DTD/svg11.dtd\">\n<!-- Generated by graphviz version 2.43.0 (0)\n -->\n<!-- Title: G Pages: 1 -->\n<svg width=\"404pt\" height=\"98pt\"\n viewBox=\"0.00 0.00 404.40 98.00\" xmlns=\"http://www.w3.org/2000/svg\" xmlns:xlink=\"http://www.w3.org/1999/xlink\">\n<g id=\"graph0\" class=\"graph\" transform=\"scale(1 1) rotate(0) translate(4 94)\">\n<title>G</title>\n<polygon fill=\"white\" stroke=\"transparent\" points=\"-4,4 -4,-94 400.4,-94 400.4,4 -4,4\"/>\n<!-- A -->\n<g id=\"node1\" class=\"node\">\n<title>A</title>\n<ellipse fill=\"none\" stroke=\"blue\" cx=\"18\" cy=\"-45\" rx=\"18\" ry=\"18\"/>\n<text text-anchor=\"middle\" x=\"18\" y=\"-41.3\" font-family=\"Times,serif\" font-size=\"14.00\">A</text>\n</g>\n<!-- B -->\n<g id=\"node2\" class=\"node\">\n<title>B</title>\n<ellipse fill=\"none\" stroke=\"blue\" cx=\"90\" cy=\"-45\" rx=\"18\" ry=\"18\"/>\n<text text-anchor=\"middle\" x=\"90\" y=\"-41.3\" font-family=\"Times,serif\" font-size=\"14.00\">B</text>\n</g>\n<!-- A&#45;&gt;B -->\n<g id=\"edge1\" class=\"edge\">\n<title>A&#45;&gt;B</title>\n<path fill=\"none\" stroke=\"black\" d=\"M36.3,-45C44.02,-45 53.29,-45 61.89,-45\"/>\n<polygon fill=\"black\" stroke=\"black\" points=\"61.9,-48.5 71.9,-45 61.9,-41.5 61.9,-48.5\"/>\n</g>\n<!-- C -->\n<g id=\"node3\" class=\"node\">\n<title>C</title>\n<ellipse fill=\"none\" stroke=\"blue\" cx=\"162\" cy=\"-45\" rx=\"18\" ry=\"18\"/>\n<text text-anchor=\"middle\" x=\"162\" y=\"-41.3\" font-family=\"Times,serif\" font-size=\"14.00\">C</text>\n</g>\n<!-- B&#45;&gt;C -->\n<g id=\"edge2\" class=\"edge\">\n<title>B&#45;&gt;C</title>\n<path fill=\"none\" stroke=\"black\" d=\"M108.3,-45C116.02,-45 125.29,-45 133.89,-45\"/>\n<polygon fill=\"black\" stroke=\"black\" points=\"133.9,-48.5 143.9,-45 133.9,-41.5 133.9,-48.5\"/>\n</g>\n<!-- D -->\n<g id=\"node4\" class=\"node\">\n<title>D</title>\n<ellipse fill=\"none\" stroke=\"blue\" cx=\"234.2\" cy=\"-45\" rx=\"18.4\" ry=\"18.4\"/>\n<text text-anchor=\"middle\" x=\"234.2\" y=\"-41.3\" font-family=\"Times,serif\" font-size=\"14.00\">D</text>\n</g>\n<!-- C&#45;&gt;D -->\n<g id=\"edge3\" class=\"edge\">\n<title>C&#45;&gt;D</title>\n<path fill=\"none\" stroke=\"black\" d=\"M180.35,-45C187.89,-45 196.91,-45 205.34,-45\"/>\n<polygon fill=\"black\" stroke=\"black\" points=\"205.56,-48.5 215.56,-45 205.56,-41.5 205.56,-48.5\"/>\n</g>\n<!-- E -->\n<g id=\"node5\" class=\"node\">\n<title>E</title>\n<ellipse fill=\"none\" stroke=\"transparent\" cx=\"306.4\" cy=\"-72\" rx=\"18\" ry=\"18\"/>\n</g>\n<!-- D&#45;&gt;E -->\n<g id=\"edge4\" class=\"edge\">\n<title>D&#45;&gt;E</title>\n<path fill=\"none\" stroke=\"transparent\" d=\"M251.48,-51.26C259.9,-54.5 270.36,-58.53 279.83,-62.17\"/>\n<polygon fill=\"transparent\" stroke=\"transparent\" points=\"278.61,-65.45 289.2,-65.77 281.13,-58.92 278.61,-65.45\"/>\n</g>\n<!-- X -->\n<g id=\"node6\" class=\"node\">\n<title>X</title>\n<ellipse fill=\"none\" stroke=\"green\" cx=\"306.4\" cy=\"-18\" rx=\"18\" ry=\"18\"/>\n<text text-anchor=\"middle\" x=\"306.4\" y=\"-14.3\" font-family=\"Times,serif\" font-size=\"14.00\">X</text>\n</g>\n<!-- D&#45;&gt;X -->\n<g id=\"edge5\" class=\"edge\">\n<title>D&#45;&gt;X</title>\n<path fill=\"none\" stroke=\"black\" d=\"M251.48,-38.74C259.9,-35.5 270.36,-31.47 279.83,-27.83\"/>\n<polygon fill=\"black\" stroke=\"black\" points=\"281.13,-31.08 289.2,-24.23 278.61,-24.55 281.13,-31.08\"/>\n</g>\n<!-- Y -->\n<g id=\"node7\" class=\"node\">\n<title>Y</title>\n<ellipse fill=\"none\" stroke=\"green\" cx=\"378.4\" cy=\"-18\" rx=\"18\" ry=\"18\"/>\n<text text-anchor=\"middle\" x=\"378.4\" y=\"-14.3\" font-family=\"Times,serif\" font-size=\"14.00\">Y</text>\n</g>\n<!-- X&#45;&gt;Y -->\n<g id=\"edge6\" class=\"edge\">\n<title>X&#45;&gt;Y</title>\n<path fill=\"none\" stroke=\"black\" d=\"M324.7,-18C332.41,-18 341.68,-18 350.28,-18\"/>\n<polygon fill=\"black\" stroke=\"black\" points=\"350.29,-21.5 360.29,-18 350.29,-14.5 350.29,-21.5\"/>\n</g>\n</g>\n</svg>\n",
      "text/plain": [
       "<graphviz.graphs.Digraph at 0x7fb4980ad030>"
      ]
     },
     "metadata": {},
     "output_type": "display_data"
    },
    {
     "data": {
      "image/svg+xml": "<?xml version=\"1.0\" encoding=\"UTF-8\" standalone=\"no\"?>\n<!DOCTYPE svg PUBLIC \"-//W3C//DTD SVG 1.1//EN\"\n \"http://www.w3.org/Graphics/SVG/1.1/DTD/svg11.dtd\">\n<!-- Generated by graphviz version 2.43.0 (0)\n -->\n<!-- Title: G Pages: 1 -->\n<svg width=\"481pt\" height=\"69pt\"\n viewBox=\"0.00 0.00 480.69 69.15\" xmlns=\"http://www.w3.org/2000/svg\" xmlns:xlink=\"http://www.w3.org/1999/xlink\">\n<g id=\"graph0\" class=\"graph\" transform=\"scale(1 1) rotate(0) translate(4 65.15)\">\n<title>G</title>\n<polygon fill=\"white\" stroke=\"transparent\" points=\"-4,4 -4,-65.15 476.69,-65.15 476.69,4 -4,4\"/>\n<!-- A -->\n<g id=\"node1\" class=\"node\">\n<title>A</title>\n<ellipse fill=\"none\" stroke=\"blue\" cx=\"18\" cy=\"-20.15\" rx=\"18\" ry=\"18\"/>\n<text text-anchor=\"middle\" x=\"18\" y=\"-16.45\" font-family=\"Times,serif\" font-size=\"14.00\">A</text>\n</g>\n<!-- B -->\n<g id=\"node2\" class=\"node\">\n<title>B</title>\n<ellipse fill=\"none\" stroke=\"blue\" cx=\"90\" cy=\"-20.15\" rx=\"18\" ry=\"18\"/>\n<text text-anchor=\"middle\" x=\"90\" y=\"-16.45\" font-family=\"Times,serif\" font-size=\"14.00\">B</text>\n</g>\n<!-- A&#45;&gt;B -->\n<g id=\"edge1\" class=\"edge\">\n<title>A&#45;&gt;B</title>\n<path fill=\"none\" stroke=\"black\" d=\"M36.3,-20.15C44.02,-20.15 53.29,-20.15 61.89,-20.15\"/>\n<polygon fill=\"black\" stroke=\"black\" points=\"61.9,-23.65 71.9,-20.15 61.9,-16.65 61.9,-23.65\"/>\n</g>\n<!-- C -->\n<g id=\"node3\" class=\"node\">\n<title>C</title>\n<ellipse fill=\"none\" stroke=\"blue\" cx=\"162\" cy=\"-20.15\" rx=\"18\" ry=\"18\"/>\n<text text-anchor=\"middle\" x=\"162\" y=\"-16.45\" font-family=\"Times,serif\" font-size=\"14.00\">C</text>\n</g>\n<!-- B&#45;&gt;C -->\n<g id=\"edge2\" class=\"edge\">\n<title>B&#45;&gt;C</title>\n<path fill=\"none\" stroke=\"black\" d=\"M108.3,-20.15C116.02,-20.15 125.29,-20.15 133.89,-20.15\"/>\n<polygon fill=\"black\" stroke=\"black\" points=\"133.9,-23.65 143.9,-20.15 133.9,-16.65 133.9,-23.65\"/>\n</g>\n<!-- D -->\n<g id=\"node4\" class=\"node\">\n<title>D</title>\n<ellipse fill=\"none\" stroke=\"blue\" cx=\"234.2\" cy=\"-20.15\" rx=\"18.4\" ry=\"18.4\"/>\n<text text-anchor=\"middle\" x=\"234.2\" y=\"-16.45\" font-family=\"Times,serif\" font-size=\"14.00\">D</text>\n</g>\n<!-- C&#45;&gt;D -->\n<g id=\"edge3\" class=\"edge\">\n<title>C&#45;&gt;D</title>\n<path fill=\"none\" stroke=\"black\" d=\"M180.35,-20.15C187.89,-20.15 196.91,-20.15 205.34,-20.15\"/>\n<polygon fill=\"black\" stroke=\"black\" points=\"205.56,-23.65 215.56,-20.15 205.56,-16.65 205.56,-23.65\"/>\n</g>\n<!-- X -->\n<g id=\"node5\" class=\"node\">\n<title>X</title>\n<ellipse fill=\"none\" stroke=\"green\" cx=\"306.4\" cy=\"-43.15\" rx=\"18\" ry=\"18\"/>\n<text text-anchor=\"middle\" x=\"306.4\" y=\"-39.45\" font-family=\"Times,serif\" font-size=\"14.00\">X</text>\n</g>\n<!-- D&#45;&gt;X -->\n<g id=\"edge4\" class=\"edge\">\n<title>D&#45;&gt;X</title>\n<path fill=\"none\" stroke=\"black\" d=\"M251.83,-25.6C260.05,-28.29 270.16,-31.6 279.37,-34.62\"/>\n<polygon fill=\"black\" stroke=\"black\" points=\"278.29,-37.95 288.88,-37.74 280.47,-31.3 278.29,-37.95\"/>\n</g>\n<!-- M -->\n<g id=\"node7\" class=\"node\">\n<title>M</title>\n<ellipse fill=\"none\" stroke=\"magenta\" cx=\"452.54\" cy=\"-20.15\" rx=\"20.3\" ry=\"20.3\"/>\n<text text-anchor=\"middle\" x=\"452.54\" y=\"-16.45\" font-family=\"Times,serif\" font-size=\"14.00\">M</text>\n</g>\n<!-- D&#45;&gt;M -->\n<g id=\"edge7\" class=\"edge\">\n<title>D&#45;&gt;M</title>\n<path fill=\"none\" stroke=\"black\" d=\"M252.43,-18.52C262.83,-17.62 276.36,-16.6 288.4,-16.15 336.36,-14.35 348.43,-14.41 396.4,-16.15 404.83,-16.45 413.97,-17.02 422.34,-17.63\"/>\n<polygon fill=\"black\" stroke=\"black\" points=\"422.18,-21.13 432.42,-18.42 422.72,-14.15 422.18,-21.13\"/>\n</g>\n<!-- Y -->\n<g id=\"node6\" class=\"node\">\n<title>Y</title>\n<ellipse fill=\"none\" stroke=\"green\" cx=\"378.4\" cy=\"-43.15\" rx=\"18\" ry=\"18\"/>\n<text text-anchor=\"middle\" x=\"378.4\" y=\"-39.45\" font-family=\"Times,serif\" font-size=\"14.00\">Y</text>\n</g>\n<!-- X&#45;&gt;Y -->\n<g id=\"edge5\" class=\"edge\">\n<title>X&#45;&gt;Y</title>\n<path fill=\"none\" stroke=\"black\" d=\"M324.7,-43.15C332.41,-43.15 341.68,-43.15 350.28,-43.15\"/>\n<polygon fill=\"black\" stroke=\"black\" points=\"350.29,-46.65 360.29,-43.15 350.29,-39.65 350.29,-46.65\"/>\n</g>\n<!-- Y&#45;&gt;M -->\n<g id=\"edge6\" class=\"edge\">\n<title>Y&#45;&gt;M</title>\n<path fill=\"none\" stroke=\"black\" d=\"M395.77,-37.93C403.95,-35.32 414.08,-32.09 423.46,-29.1\"/>\n<polygon fill=\"black\" stroke=\"black\" points=\"424.74,-32.37 433.21,-25.99 422.62,-25.7 424.74,-32.37\"/>\n</g>\n</g>\n</svg>\n",
      "text/plain": [
       "<graphviz.graphs.Digraph at 0x7fb4980ad420>"
      ]
     },
     "metadata": {},
     "output_type": "display_data"
    }
   ],
   "source": [
    "import graphviz\n",
    "\n",
    "# Crear el gráfico con la dirección de las flechas de izquierda a derecha\n",
    "orin = graphviz.Digraph('G', graph_attr={'rankdir': 'LR'})\n",
    "not_fast_forward = graphviz.Digraph('G', graph_attr={'rankdir': 'LR'})\n",
    "\n",
    "# Agregar nodos (pelotas) A, B, C y D en la rama principal\n",
    "orin.node('A', shape='circle', label='A', color='blue')\n",
    "orin.node('B', shape='circle', label='B', color='blue')\n",
    "orin.node('C', shape='circle', label='C', color='blue')\n",
    "orin.node('D', shape='circle', label='D', color='blue')\n",
    "orin.node('E', shape='circle', label='', color='transparent')\n",
    "not_fast_forward.node('A', shape='circle', label='A', color='blue')\n",
    "not_fast_forward.node('B', shape='circle', label='B', color='blue')\n",
    "not_fast_forward.node('C', shape='circle', label='C', color='blue')\n",
    "not_fast_forward.node('D', shape='circle', label='D', color='blue')\n",
    "\n",
    "# Agregar nodos (pelotas) X e Y en la rama secundaria\n",
    "orin.node('X', shape='circle', label='X', color='green')\n",
    "orin.node('Y', shape='circle', label='Y', color='green')\n",
    "not_fast_forward.node('X', shape='circle', label='X', color='green')\n",
    "not_fast_forward.node('Y', shape='circle', label='Y', color='green')\n",
    "\n",
    "# Agregar nodo (pelota) M en la rama principal\n",
    "not_fast_forward.node('M', shape='circle', label='M', color='magenta')\n",
    "\n",
    "# Agregar flechas entre los nodos en la rama principal\n",
    "orin.edges(['AB', 'BC', 'CD'])\n",
    "orin.edge('D', 'E', color='transparent')  # Hacer la flecha de C a D transparente\n",
    "not_fast_forward.edges(['AB', 'BC', 'CD'])\n",
    "\n",
    "# Agregar flechas entre los nodos en la rama secundaria\n",
    "orin.edges(['DX', 'XY'])\n",
    "not_fast_forward.edges(['DX', 'XY', 'YM'])\n",
    "\n",
    "# Agregar flechas de la rama principal al nodo M\n",
    "not_fast_forward.edge('D', 'M')\n",
    "\n",
    "# Mostrar el diagrama de flujo en la celda de código de Jupyter Notebook\n",
    "display(orin)\n",
    "display(not_fast_forward)"
   ]
  },
  {
   "cell_type": "code",
   "execution_count": 46,
   "metadata": {},
   "outputs": [
    {
     "data": {
      "image/svg+xml": "<?xml version=\"1.0\" encoding=\"UTF-8\" standalone=\"no\"?>\n<!DOCTYPE svg PUBLIC \"-//W3C//DTD SVG 1.1//EN\"\n \"http://www.w3.org/Graphics/SVG/1.1/DTD/svg11.dtd\">\n<!-- Generated by graphviz version 2.43.0 (0)\n -->\n<!-- Title: G Pages: 1 -->\n<svg width=\"404pt\" height=\"98pt\"\n viewBox=\"0.00 0.00 404.40 98.00\" xmlns=\"http://www.w3.org/2000/svg\" xmlns:xlink=\"http://www.w3.org/1999/xlink\">\n<g id=\"graph0\" class=\"graph\" transform=\"scale(1 1) rotate(0) translate(4 94)\">\n<title>G</title>\n<polygon fill=\"white\" stroke=\"transparent\" points=\"-4,4 -4,-94 400.4,-94 400.4,4 -4,4\"/>\n<!-- A -->\n<g id=\"node1\" class=\"node\">\n<title>A</title>\n<ellipse fill=\"none\" stroke=\"blue\" cx=\"18\" cy=\"-45\" rx=\"18\" ry=\"18\"/>\n<text text-anchor=\"middle\" x=\"18\" y=\"-41.3\" font-family=\"Times,serif\" font-size=\"14.00\">A</text>\n</g>\n<!-- B -->\n<g id=\"node2\" class=\"node\">\n<title>B</title>\n<ellipse fill=\"none\" stroke=\"blue\" cx=\"90\" cy=\"-45\" rx=\"18\" ry=\"18\"/>\n<text text-anchor=\"middle\" x=\"90\" y=\"-41.3\" font-family=\"Times,serif\" font-size=\"14.00\">B</text>\n</g>\n<!-- A&#45;&gt;B -->\n<g id=\"edge1\" class=\"edge\">\n<title>A&#45;&gt;B</title>\n<path fill=\"none\" stroke=\"black\" d=\"M36.3,-45C44.02,-45 53.29,-45 61.89,-45\"/>\n<polygon fill=\"black\" stroke=\"black\" points=\"61.9,-48.5 71.9,-45 61.9,-41.5 61.9,-48.5\"/>\n</g>\n<!-- C -->\n<g id=\"node3\" class=\"node\">\n<title>C</title>\n<ellipse fill=\"none\" stroke=\"blue\" cx=\"162\" cy=\"-45\" rx=\"18\" ry=\"18\"/>\n<text text-anchor=\"middle\" x=\"162\" y=\"-41.3\" font-family=\"Times,serif\" font-size=\"14.00\">C</text>\n</g>\n<!-- B&#45;&gt;C -->\n<g id=\"edge2\" class=\"edge\">\n<title>B&#45;&gt;C</title>\n<path fill=\"none\" stroke=\"black\" d=\"M108.3,-45C116.02,-45 125.29,-45 133.89,-45\"/>\n<polygon fill=\"black\" stroke=\"black\" points=\"133.9,-48.5 143.9,-45 133.9,-41.5 133.9,-48.5\"/>\n</g>\n<!-- D -->\n<g id=\"node4\" class=\"node\">\n<title>D</title>\n<ellipse fill=\"none\" stroke=\"blue\" cx=\"234.2\" cy=\"-45\" rx=\"18.4\" ry=\"18.4\"/>\n<text text-anchor=\"middle\" x=\"234.2\" y=\"-41.3\" font-family=\"Times,serif\" font-size=\"14.00\">D</text>\n</g>\n<!-- C&#45;&gt;D -->\n<g id=\"edge3\" class=\"edge\">\n<title>C&#45;&gt;D</title>\n<path fill=\"none\" stroke=\"black\" d=\"M180.35,-45C187.89,-45 196.91,-45 205.34,-45\"/>\n<polygon fill=\"black\" stroke=\"black\" points=\"205.56,-48.5 215.56,-45 205.56,-41.5 205.56,-48.5\"/>\n</g>\n<!-- E -->\n<g id=\"node5\" class=\"node\">\n<title>E</title>\n<ellipse fill=\"none\" stroke=\"transparent\" cx=\"306.4\" cy=\"-72\" rx=\"18\" ry=\"18\"/>\n</g>\n<!-- D&#45;&gt;E -->\n<g id=\"edge4\" class=\"edge\">\n<title>D&#45;&gt;E</title>\n<path fill=\"none\" stroke=\"transparent\" d=\"M251.48,-51.26C259.9,-54.5 270.36,-58.53 279.83,-62.17\"/>\n<polygon fill=\"transparent\" stroke=\"transparent\" points=\"278.61,-65.45 289.2,-65.77 281.13,-58.92 278.61,-65.45\"/>\n</g>\n<!-- X -->\n<g id=\"node6\" class=\"node\">\n<title>X</title>\n<ellipse fill=\"none\" stroke=\"green\" cx=\"306.4\" cy=\"-18\" rx=\"18\" ry=\"18\"/>\n<text text-anchor=\"middle\" x=\"306.4\" y=\"-14.3\" font-family=\"Times,serif\" font-size=\"14.00\">X</text>\n</g>\n<!-- D&#45;&gt;X -->\n<g id=\"edge5\" class=\"edge\">\n<title>D&#45;&gt;X</title>\n<path fill=\"none\" stroke=\"black\" d=\"M251.48,-38.74C259.9,-35.5 270.36,-31.47 279.83,-27.83\"/>\n<polygon fill=\"black\" stroke=\"black\" points=\"281.13,-31.08 289.2,-24.23 278.61,-24.55 281.13,-31.08\"/>\n</g>\n<!-- Y -->\n<g id=\"node7\" class=\"node\">\n<title>Y</title>\n<ellipse fill=\"none\" stroke=\"green\" cx=\"378.4\" cy=\"-18\" rx=\"18\" ry=\"18\"/>\n<text text-anchor=\"middle\" x=\"378.4\" y=\"-14.3\" font-family=\"Times,serif\" font-size=\"14.00\">Y</text>\n</g>\n<!-- X&#45;&gt;Y -->\n<g id=\"edge6\" class=\"edge\">\n<title>X&#45;&gt;Y</title>\n<path fill=\"none\" stroke=\"black\" d=\"M324.7,-18C332.41,-18 341.68,-18 350.28,-18\"/>\n<polygon fill=\"black\" stroke=\"black\" points=\"350.29,-21.5 360.29,-18 350.29,-14.5 350.29,-21.5\"/>\n</g>\n</g>\n</svg>\n",
      "text/plain": [
       "<graphviz.graphs.Digraph at 0x7fb4980873a0>"
      ]
     },
     "metadata": {},
     "output_type": "display_data"
    },
    {
     "data": {
      "image/svg+xml": "<?xml version=\"1.0\" encoding=\"UTF-8\" standalone=\"no\"?>\n<!DOCTYPE svg PUBLIC \"-//W3C//DTD SVG 1.1//EN\"\n \"http://www.w3.org/Graphics/SVG/1.1/DTD/svg11.dtd\">\n<!-- Generated by graphviz version 2.43.0 (0)\n -->\n<!-- Title: G Pages: 1 -->\n<svg width=\"337pt\" height=\"48pt\"\n viewBox=\"0.00 0.00 336.69 48.30\" xmlns=\"http://www.w3.org/2000/svg\" xmlns:xlink=\"http://www.w3.org/1999/xlink\">\n<g id=\"graph0\" class=\"graph\" transform=\"scale(1 1) rotate(0) translate(4 44.3)\">\n<title>G</title>\n<polygon fill=\"white\" stroke=\"transparent\" points=\"-4,4 -4,-44.3 332.69,-44.3 332.69,4 -4,4\"/>\n<!-- A -->\n<g id=\"node1\" class=\"node\">\n<title>A</title>\n<ellipse fill=\"none\" stroke=\"blue\" cx=\"18\" cy=\"-20.15\" rx=\"18\" ry=\"18\"/>\n<text text-anchor=\"middle\" x=\"18\" y=\"-16.45\" font-family=\"Times,serif\" font-size=\"14.00\">A</text>\n</g>\n<!-- B -->\n<g id=\"node2\" class=\"node\">\n<title>B</title>\n<ellipse fill=\"none\" stroke=\"blue\" cx=\"90\" cy=\"-20.15\" rx=\"18\" ry=\"18\"/>\n<text text-anchor=\"middle\" x=\"90\" y=\"-16.45\" font-family=\"Times,serif\" font-size=\"14.00\">B</text>\n</g>\n<!-- A&#45;&gt;B -->\n<g id=\"edge1\" class=\"edge\">\n<title>A&#45;&gt;B</title>\n<path fill=\"none\" stroke=\"black\" d=\"M36.3,-20.15C44.02,-20.15 53.29,-20.15 61.89,-20.15\"/>\n<polygon fill=\"black\" stroke=\"black\" points=\"61.9,-23.65 71.9,-20.15 61.9,-16.65 61.9,-23.65\"/>\n</g>\n<!-- C -->\n<g id=\"node3\" class=\"node\">\n<title>C</title>\n<ellipse fill=\"none\" stroke=\"blue\" cx=\"162\" cy=\"-20.15\" rx=\"18\" ry=\"18\"/>\n<text text-anchor=\"middle\" x=\"162\" y=\"-16.45\" font-family=\"Times,serif\" font-size=\"14.00\">C</text>\n</g>\n<!-- B&#45;&gt;C -->\n<g id=\"edge2\" class=\"edge\">\n<title>B&#45;&gt;C</title>\n<path fill=\"none\" stroke=\"black\" d=\"M108.3,-20.15C116.02,-20.15 125.29,-20.15 133.89,-20.15\"/>\n<polygon fill=\"black\" stroke=\"black\" points=\"133.9,-23.65 143.9,-20.15 133.9,-16.65 133.9,-23.65\"/>\n</g>\n<!-- D -->\n<g id=\"node4\" class=\"node\">\n<title>D</title>\n<ellipse fill=\"none\" stroke=\"blue\" cx=\"234.2\" cy=\"-20.15\" rx=\"18.4\" ry=\"18.4\"/>\n<text text-anchor=\"middle\" x=\"234.2\" y=\"-16.45\" font-family=\"Times,serif\" font-size=\"14.00\">D</text>\n</g>\n<!-- C&#45;&gt;D -->\n<g id=\"edge3\" class=\"edge\">\n<title>C&#45;&gt;D</title>\n<path fill=\"none\" stroke=\"black\" d=\"M180.35,-20.15C187.89,-20.15 196.91,-20.15 205.34,-20.15\"/>\n<polygon fill=\"black\" stroke=\"black\" points=\"205.56,-23.65 215.56,-20.15 205.56,-16.65 205.56,-23.65\"/>\n</g>\n<!-- M -->\n<g id=\"node5\" class=\"node\">\n<title>M</title>\n<ellipse fill=\"none\" stroke=\"magenta\" cx=\"308.54\" cy=\"-20.15\" rx=\"20.3\" ry=\"20.3\"/>\n<text text-anchor=\"middle\" x=\"308.54\" y=\"-16.45\" font-family=\"Times,serif\" font-size=\"14.00\">M</text>\n</g>\n<!-- D&#45;&gt;M -->\n<g id=\"edge4\" class=\"edge\">\n<title>D&#45;&gt;M</title>\n<path fill=\"none\" stroke=\"black\" d=\"M252.71,-20.15C260.32,-20.15 269.45,-20.15 278.06,-20.15\"/>\n<polygon fill=\"black\" stroke=\"black\" points=\"278.16,-23.65 288.16,-20.15 278.16,-16.65 278.16,-23.65\"/>\n</g>\n</g>\n</svg>\n",
      "text/plain": [
       "<graphviz.graphs.Digraph at 0x7fb498084e20>"
      ]
     },
     "metadata": {},
     "output_type": "display_data"
    }
   ],
   "source": [
    "import graphviz\n",
    "\n",
    "# Crear el gráfico con la dirección de las flechas de izquierda a derecha\n",
    "orin = graphviz.Digraph('G', graph_attr={'rankdir': 'LR'})\n",
    "squash = graphviz.Digraph('G', graph_attr={'rankdir': 'LR'})\n",
    "\n",
    "# Agregar nodos (pelotas) A, B, C y D en la rama principal\n",
    "orin.node('A', shape='circle', label='A', color='blue')\n",
    "orin.node('B', shape='circle', label='B', color='blue')\n",
    "orin.node('C', shape='circle', label='C', color='blue')\n",
    "orin.node('D', shape='circle', label='D', color='blue')\n",
    "orin.node('E', shape='circle', label='', color='transparent')\n",
    "squash.node('A', shape='circle', label='A', color='blue')\n",
    "squash.node('B', shape='circle', label='B', color='blue')\n",
    "squash.node('C', shape='circle', label='C', color='blue')\n",
    "squash.node('D', shape='circle', label='D', color='blue')\n",
    "\n",
    "# Agregar nodos (pelotas) X e Y en la rama secundaria\n",
    "orin.node('X', shape='circle', label='X', color='green')\n",
    "orin.node('Y', shape='circle', label='Y', color='green')\n",
    "\n",
    "# Agregar nodo (pelota) M en la rama principal\n",
    "squash.node('M', shape='circle', label='M', color='magenta')\n",
    "\n",
    "# Agregar flechas entre los nodos en la rama principal\n",
    "orin.edges(['AB', 'BC', 'CD'])\n",
    "orin.edge('D', 'E', color='transparent')  # Hacer la flecha de C a D transparente\n",
    "squash.edges(['AB', 'BC', 'CD', 'DM'])\n",
    "\n",
    "# Agregar flechas entre los nodos en la rama secundaria\n",
    "orin.edges(['DX', 'XY'])\n",
    "\n",
    "# Mostrar el diagrama de flujo en la celda de código de Jupyter Notebook\n",
    "display(orin)\n",
    "display(squash)"
   ]
  }
 ],
 "metadata": {
  "kernelspec": {
   "display_name": "base",
   "language": "python",
   "name": "python3"
  },
  "language_info": {
   "codemirror_mode": {
    "name": "ipython",
    "version": 3
   },
   "file_extension": ".py",
   "mimetype": "text/x-python",
   "name": "python",
   "nbconvert_exporter": "python",
   "pygments_lexer": "ipython3",
   "version": "3.10.9"
  },
  "orig_nbformat": 4
 },
 "nbformat": 4,
 "nbformat_minor": 2
}
