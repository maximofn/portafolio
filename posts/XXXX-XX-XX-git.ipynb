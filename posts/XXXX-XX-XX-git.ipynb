{
 "cells": [
  {
   "attachments": {},
   "cell_type": "markdown",
   "metadata": {},
   "source": [
    "# Git"
   ]
  },
  {
   "attachments": {},
   "cell_type": "markdown",
   "metadata": {},
   "source": [
    "## Introducción"
   ]
  },
  {
   "attachments": {},
   "cell_type": "markdown",
   "metadata": {},
   "source": [
    "Git es un software de control de versiones creado por Linus Torvalds, quien lo creó para poder tener un buen control de versiones cuando desarrolló el kernel de Linux."
   ]
  },
  {
   "attachments": {},
   "cell_type": "markdown",
   "metadata": {},
   "source": [
    "## Las áreas de git"
   ]
  },
  {
   "attachments": {},
   "cell_type": "markdown",
   "metadata": {},
   "source": [
    "Git tiene tres áreas, aunque también se puede considerar una cuarta.\n",
    "\n",
    "![git states](https://maximofn.com/wp-content/uploads/2023/03/git-states.png)\n",
    "\n",
    " * La primera es nuestro espacio de trabajo, en ella es donde tenemos todo nuestro código. Aquí cuando modificamos o creamos un archivo este pasa a estar como no trackeado, por lo que tenemos que pasarlo al área de `staged`\n",
    " * La segunda área es la de `staged`. Aquí los archivos que habíamos modificado o creado y que estaban no trackeados pasan a estar trackeados, es decir, git les hace un seguimiento. Aquí mandaremos los archivos al siguiente área de `head`\n",
    " * La tercera área es la de `head`. En ella hemos grabado una versión de nuestro código. De esta manera, grabando versiones podemos volver a versiones pasadas si es necesaro. La versión grabada de nuestro código puede ser mandada a un servidor de manera que sea accesible por varias personas\n",
    " * Las tres áreas anteriores corresponden al trabajo en local, pero hay una área más y y es la de `remote server`. Aquí lo que hacemos es mandar la versión grabada de nuestro código a un servidor de manera que tengamos acceso al código desde cualquier lugar, o que tenga acceso más personas\n",
    "\n",
    "Para hacer un simil, es como un escenario en el que vas a hacer una foto. Primero tienes tus archivos modificados, de manera que los que quieres inmortalizar los mandas al área de `staged`, es decir al escenario. En el momento que has mandado todos los archivos que consideras, haces la foto, por lo que mandas todos los archivos al área de `head`. De esta manera, puedes ir haciendo muchas fotos, según va evolucionando el código, de manera que puedes tener en un álbun de fotos la evolución del código. Por último puedes subir esa foto a una servidor para que sea accesible por más gente, es decir, los mandas al área de `remote server`"
   ]
  },
  {
   "attachments": {},
   "cell_type": "markdown",
   "metadata": {},
   "source": [
    "## Instalar git"
   ]
  },
  {
   "attachments": {},
   "cell_type": "markdown",
   "metadata": {},
   "source": [
    "En la mayoría de distribuciones Linux git ya viene instalado, podemos comprobarlo haciendo `git --version`"
   ]
  },
  {
   "cell_type": "code",
   "execution_count": 1,
   "metadata": {},
   "outputs": [
    {
     "name": "stdout",
     "output_type": "stream",
     "text": [
      "git version 2.25.1\n"
     ]
    }
   ],
   "source": [
    "!git --version"
   ]
  },
  {
   "attachments": {},
   "cell_type": "markdown",
   "metadata": {},
   "source": [
    "Si no lo tienes o quieres actualizar la versión de git solo tienes que ejecutar `sudo apt update` y a continuación `sudo apt install git`"
   ]
  },
  {
   "cell_type": "code",
   "execution_count": 3,
   "metadata": {},
   "outputs": [
    {
     "name": "stdout",
     "output_type": "stream",
     "text": [
      "[sudo] password for maximo.fernandez@AEROESPACIAL.SENER: \n"
     ]
    }
   ],
   "source": [
    "!sudo apt update && sudo apt install git"
   ]
  },
  {
   "attachments": {},
   "cell_type": "markdown",
   "metadata": {},
   "source": [
    "Volvemos a comprobar la versión"
   ]
  },
  {
   "cell_type": "code",
   "execution_count": 4,
   "metadata": {},
   "outputs": [
    {
     "name": "stdout",
     "output_type": "stream",
     "text": [
      "git version 2.25.1\n"
     ]
    }
   ],
   "source": [
    "!git --version"
   ]
  },
  {
   "attachments": {},
   "cell_type": "markdown",
   "metadata": {},
   "source": [
    "En mi caso ya tenía la última versión"
   ]
  },
  {
   "attachments": {},
   "cell_type": "markdown",
   "metadata": {},
   "source": [
    "## Configuración inicial"
   ]
  },
  {
   "attachments": {},
   "cell_type": "markdown",
   "metadata": {},
   "source": [
    "### Configuración del nombre y el correo"
   ]
  },
  {
   "attachments": {},
   "cell_type": "markdown",
   "metadata": {},
   "source": [
    "Antes de empezar a usar git es conveniente que hagas unas configuraciones mínimas como el nombre de usuario y el correo, esta información es la que saldrá a la hora de mostrar quien ha hecho cambios en el código. Para hacer esto hay que ejecutar\n",
    "\n",
    "\n",
    "```bash\n",
    "git config --global user.name \"<nombre de usuario>\"\n",
    "git config --global user.email \"<email>\"\n",
    "```\n",
    "\n",
    "En mi caso metería\n",
    "\n",
    "```bash\n",
    "git config --global user.name \"MaximoFN\"\n",
    "git config --global user.email \"maximofn@gmail.com\n",
    "```"
   ]
  },
  {
   "attachments": {},
   "cell_type": "markdown",
   "metadata": {},
   "source": [
    "Como se puede ver el flag `--global` lo que hace es cambiar la configuración global de git, pero si en un repositorio en concreto tienes que poner otros datos, simplemente navegas hasta el repositorio y quita el flag `--global` de los comandos anteriores\n",
    "\n",
    "```bash\n",
    "git config user.name \"<nombre de usuario>\"\n",
    "git config user.email \"<email>\"\n",
    "```"
   ]
  },
  {
   "attachments": {},
   "cell_type": "markdown",
   "metadata": {},
   "source": [
    "### Configurar el editor por defecto"
   ]
  },
  {
   "attachments": {},
   "cell_type": "markdown",
   "metadata": {},
   "source": [
    "Cuando más adelante expliquemos qué son los `commit`s veremos que en una de las opciones se nos puede abrir un navegador. Por defecto git intentará usar `vim`, pero dado que no es un editor muy sencillo de usar podemos modificarlo, a continuación se muestra cómo hacerlo con algunos editores comunes\n",
    "\n",
    "```bash\n",
    "git config --global core.editor \"code\"  # vscode como editor\n",
    "git config --global core.editor \"atom\"  # Atom como editor\n",
    "git config --global core.editor \"subl\"  # Sublime text como editor\n",
    "git config --global core.editor \"nano\"  # Nano como editor\n",
    "```"
   ]
  },
  {
   "attachments": {},
   "cell_type": "markdown",
   "metadata": {},
   "source": [
    "### Comprobar configuración de git"
   ]
  },
  {
   "attachments": {},
   "cell_type": "markdown",
   "metadata": {},
   "source": [
    "Para revisar la configuración de git podemos usar `git config --lits`"
   ]
  },
  {
   "cell_type": "code",
   "execution_count": 6,
   "metadata": {},
   "outputs": [
    {
     "name": "stdout",
     "output_type": "stream",
     "text": [
      "user.name=maximofn\n",
      "user.email=maximofn@gmail.com\n",
      "user.user=maximofn\n",
      "http.sslverify=true\n",
      "core.repositoryformatversion=0\n",
      "core.filemode=true\n",
      "core.bare=false\n",
      "core.logallrefupdates=true\n",
      "remote.origin.url=https://github.com/maximofn/portafolio.git\n",
      "remote.origin.fetch=+refs/heads/*:refs/remotes/origin/*\n",
      "branch.main.remote=origin\n",
      "branch.main.merge=refs/heads/main\n"
     ]
    }
   ],
   "source": [
    "!git config --list"
   ]
  },
  {
   "attachments": {},
   "cell_type": "markdown",
   "metadata": {},
   "source": [
    "Podemos usar los flags `--global`, `--local` y `--system` para ver solo la configuración global, local (si existe) y de sistema (si existe)"
   ]
  },
  {
   "cell_type": "code",
   "execution_count": 8,
   "metadata": {},
   "outputs": [
    {
     "name": "stdout",
     "output_type": "stream",
     "text": [
      "user.name=maximofn\n",
      "user.email=maximofn@gmail.com\n",
      "user.user=maximofn\n",
      "http.sslverify=true\n"
     ]
    }
   ],
   "source": [
    "!git config --global --list"
   ]
  },
  {
   "cell_type": "code",
   "execution_count": 9,
   "metadata": {},
   "outputs": [
    {
     "name": "stdout",
     "output_type": "stream",
     "text": [
      "core.repositoryformatversion=0\n",
      "core.filemode=true\n",
      "core.bare=false\n",
      "core.logallrefupdates=true\n",
      "remote.origin.url=https://github.com/maximofn/portafolio.git\n",
      "remote.origin.fetch=+refs/heads/*:refs/remotes/origin/*\n",
      "branch.main.remote=origin\n",
      "branch.main.merge=refs/heads/main\n"
     ]
    }
   ],
   "source": [
    "!git config --local --list"
   ]
  },
  {
   "cell_type": "code",
   "execution_count": 10,
   "metadata": {},
   "outputs": [
    {
     "name": "stdout",
     "output_type": "stream",
     "text": [
      "fatal: unable to read config file '/etc/gitconfig': No such file or directory\n"
     ]
    }
   ],
   "source": [
    "!git config --system --list"
   ]
  },
  {
   "attachments": {},
   "cell_type": "markdown",
   "metadata": {},
   "source": [
    "En mi caso no existe configuración de sistema"
   ]
  },
  {
   "attachments": {},
   "cell_type": "markdown",
   "metadata": {},
   "source": [
    "Si solo se quiere saber el valor de un parámetro de la configuración valdría con introducir `git config <parameter>`"
   ]
  },
  {
   "cell_type": "code",
   "execution_count": 15,
   "metadata": {},
   "outputs": [
    {
     "name": "stdout",
     "output_type": "stream",
     "text": [
      "maximofn\n"
     ]
    }
   ],
   "source": [
    "!git config user.name"
   ]
  },
  {
   "attachments": {},
   "cell_type": "markdown",
   "metadata": {},
   "source": [
    "## Control de versiones de manera local"
   ]
  },
  {
   "attachments": {},
   "cell_type": "markdown",
   "metadata": {},
   "source": [
    "### Inicializar un nuevo repositorio (`git init`)"
   ]
  },
  {
   "attachments": {},
   "cell_type": "markdown",
   "metadata": {},
   "source": [
    "Hay dos maneras de inicializar un nuevo repositorio haciendo\n",
    " * Una es haciendo `git init <nombre repositorio>`. Esto creará una nueva carpeta con el nombre del repositorio\n",
    " * Otra es navegando a la carpeta donde queramos crear un repositorio y haciendo `git init`\n",
    "\n",
    "Voy a crear un nuevo repositorio"
   ]
  },
  {
   "cell_type": "code",
   "execution_count": 3,
   "metadata": {},
   "outputs": [
    {
     "name": "stdout",
     "output_type": "stream",
     "text": [
      "Inicializado repositorio Git vacío en /home/wallabot/Documentos/web/portafolio/posts/notebook_git/.git/\n"
     ]
    }
   ],
   "source": [
    "!git init notebook_git"
   ]
  },
  {
   "attachments": {},
   "cell_type": "markdown",
   "metadata": {},
   "source": [
    "Si ahora hacemos `ls` veremos que se ha creado una nueva carpeta llamada `notebook_git`"
   ]
  },
  {
   "cell_type": "code",
   "execution_count": 17,
   "metadata": {},
   "outputs": [
    {
     "name": "stdout",
     "output_type": "stream",
     "text": [
      "notebook_git\n"
     ]
    }
   ],
   "source": [
    "!ls | grep notebook_git"
   ]
  },
  {
   "attachments": {},
   "cell_type": "markdown",
   "metadata": {},
   "source": [
    "Nos movemos a ella"
   ]
  },
  {
   "cell_type": "code",
   "execution_count": 18,
   "metadata": {},
   "outputs": [],
   "source": [
    "!cd notebook_git"
   ]
  },
  {
   "attachments": {},
   "cell_type": "markdown",
   "metadata": {},
   "source": [
    "Ahora dentro de la carpeta tenemos dos maneras de saber que se ha creado el repositorio, una haciendo `ls -a` que mostará todos los archivos y veremos que hay una carpeta llamada `.git`. La otra manera es haciendo `git status` que nos dirá el estado del repositorio"
   ]
  },
  {
   "cell_type": "code",
   "execution_count": 20,
   "metadata": {},
   "outputs": [
    {
     "name": "stdout",
     "output_type": "stream",
     "text": [
      ".  ..  .git\n"
     ]
    }
   ],
   "source": [
    "!cd notebook_git && ls -a"
   ]
  },
  {
   "cell_type": "code",
   "execution_count": 21,
   "metadata": {},
   "outputs": [
    {
     "name": "stdout",
     "output_type": "stream",
     "text": [
      "On branch master\n",
      "\n",
      "No commits yet\n",
      "\n",
      "nothing to commit (create/copy files and use \"git add\" to track)\n"
     ]
    }
   ],
   "source": [
    "!cd notebook_git && git status"
   ]
  },
  {
   "attachments": {},
   "cell_type": "markdown",
   "metadata": {},
   "source": [
    "Como estamos en un notebook, cada celda tiene su `path` en el `path` del notebook, por eso las dos veces he tenido que hacer `cd notebook_git &&`, para que cambie a la carpeta con el repositorio que acabamos de crear."
   ]
  },
  {
   "attachments": {},
   "cell_type": "markdown",
   "metadata": {},
   "source": [
    "Si ahora pruebo `git status` en otro `path` donde no se haya inicializado un repositorio nos dará un error"
   ]
  },
  {
   "cell_type": "code",
   "execution_count": 23,
   "metadata": {},
   "outputs": [
    {
     "name": "stdout",
     "output_type": "stream",
     "text": [
      "fatal: not a git repository (or any of the parent directories): .git\n"
     ]
    }
   ],
   "source": [
    "!cd ~/ && git status"
   ]
  },
  {
   "attachments": {},
   "cell_type": "markdown",
   "metadata": {},
   "source": [
    "### Crear nuevos archivos"
   ]
  },
  {
   "attachments": {},
   "cell_type": "markdown",
   "metadata": {},
   "source": [
    "En el momento que hemos inicializado un repositorio podemos empezar a crear nuevos archivos, así que creamos uno y vemos qué ocurre"
   ]
  },
  {
   "cell_type": "code",
   "execution_count": 5,
   "metadata": {},
   "outputs": [],
   "source": [
    "!cd notebook_git && echo \"print('Hello World')\" > hello.py"
   ]
  },
  {
   "attachments": {},
   "cell_type": "markdown",
   "metadata": {},
   "source": [
    "Si ahora volvemos a hacer `git status` vemos qué nos aparece"
   ]
  },
  {
   "cell_type": "code",
   "execution_count": 6,
   "metadata": {},
   "outputs": [
    {
     "name": "stdout",
     "output_type": "stream",
     "text": [
      "En la rama master\n",
      "\n",
      "No hay commits todavía\n",
      "\n",
      "Archivos sin seguimiento:\n",
      "  (usa \"git add <archivo>...\" para incluirlo a lo que se será confirmado)\n",
      "\t\u001b[31mhello.py\u001b[m\n",
      "\n",
      "no hay nada agregado al commit pero hay archivos sin seguimiento presentes (usa \"git add\" para hacerles seguimiento)\n"
     ]
    }
   ],
   "source": [
    "!cd notebook_git && git status"
   ]
  },
  {
   "attachments": {},
   "cell_type": "markdown",
   "metadata": {},
   "source": [
    "Como se puede ver ahora nos está diciendo que el archivo `hello.py` no tiene seguimiento. Es decir tenemos que añadir `hello.py` al área de `staged`, que recordemos era como el escenario donde íbamos a poner todo lo que más tarde le haremos una foto"
   ]
  },
  {
   "attachments": {},
   "cell_type": "markdown",
   "metadata": {},
   "source": [
    "### Deshacer la creación de un archivo nuevo"
   ]
  },
  {
   "attachments": {},
   "cell_type": "markdown",
   "metadata": {},
   "source": [
    "En este caso, como son archivos que git aun no está siguiendo, es decir, que aun no están en el área de `staged` tendríamos tres maneras de hacerlo"
   ]
  },
  {
   "attachments": {},
   "cell_type": "markdown",
   "metadata": {},
   "source": [
    " * Borrándolo simplemente: Como git aun no sigue el archivo podríamos hacer `rm hello.py` y listo\n",
    " * Borrándolo mediante un comando de git: Antes hemos borrado con `rm` pero es posible que estés en un sistema que no tenga el comando `rm` por lo que en ese caso se puede usar el comando de git `git rm hello.py`\n",
    " * Por último podemos usar `git clean`. Este es útil por ejemplo cuando hay muchos archivos nuevos, y así en un solo comando eliminamos todos"
   ]
  },
  {
   "attachments": {},
   "cell_type": "markdown",
   "metadata": {},
   "source": [
    "#### `git clean`"
   ]
  },
  {
   "attachments": {},
   "cell_type": "markdown",
   "metadata": {},
   "source": [
    "Si ejecutamos `git clean` a secas nos dará un error"
   ]
  },
  {
   "cell_type": "code",
   "execution_count": 2,
   "metadata": {},
   "outputs": [
    {
     "name": "stdout",
     "output_type": "stream",
     "text": [
      "fatal: clean.requireForce default en true y ninguno de -i, -n, ni -f entregado; rehusando el clean\n"
     ]
    }
   ],
   "source": [
    "!cd notebook_git && git clean"
   ]
  },
  {
   "attachments": {},
   "cell_type": "markdown",
   "metadata": {},
   "source": [
    "Nos está diciendo que hace falta añadir uno de estos flags `-n`, `-i` y `-f`. Además vamos a ver el flag `-d`\n",
    "\n",
    " * `-n` (dry run): Nos dirá qué archivos se van a borrar, pero no los borrará\n",
    " * `-i`: Nos preguntará por cada archivo que se va a borrar\n",
    " * `-f`: Forzará el borrado de los archivos\n",
    " * `-d`: También borrará carpetas"
   ]
  },
  {
   "attachments": {},
   "cell_type": "markdown",
   "metadata": {},
   "source": [
    "Vamos a probarlo, primero hacemos `git clean -n` para saber qué archivos se borrarían"
   ]
  },
  {
   "cell_type": "code",
   "execution_count": 4,
   "metadata": {},
   "outputs": [
    {
     "name": "stdout",
     "output_type": "stream",
     "text": [
      "Será borrado hello.py\n"
     ]
    }
   ],
   "source": [
    "!cd notebook_git && git clean -n"
   ]
  },
  {
   "attachments": {},
   "cell_type": "markdown",
   "metadata": {},
   "source": [
    "Ahora hacemos `git clean -f` para que lo borre, ya que estamos de acuerdo en que lo borre"
   ]
  },
  {
   "cell_type": "code",
   "execution_count": 5,
   "metadata": {},
   "outputs": [
    {
     "name": "stdout",
     "output_type": "stream",
     "text": [
      "Borrando hello.py\n"
     ]
    }
   ],
   "source": [
    "!cd notebook_git && git clean -f"
   ]
  },
  {
   "attachments": {},
   "cell_type": "markdown",
   "metadata": {},
   "source": [
    "Como vemos ha borrado `hello.py`"
   ]
  },
  {
   "attachments": {},
   "cell_type": "markdown",
   "metadata": {},
   "source": [
    "### Añadir un archivo al área de staged (`git add`)"
   ]
  },
  {
   "attachments": {},
   "cell_type": "markdown",
   "metadata": {},
   "source": [
    "Volvemos a crear un archivo"
   ]
  },
  {
   "cell_type": "code",
   "execution_count": 6,
   "metadata": {},
   "outputs": [],
   "source": [
    "!cd notebook_git && echo \"print('Hola mundo')\" > hola.py"
   ]
  },
  {
   "attachments": {},
   "cell_type": "markdown",
   "metadata": {},
   "source": [
    "Volvemos a hacer un `git status` para comprobar que tenemos el archivo"
   ]
  },
  {
   "cell_type": "code",
   "execution_count": 7,
   "metadata": {},
   "outputs": [
    {
     "name": "stdout",
     "output_type": "stream",
     "text": [
      "En la rama master\n",
      "\n",
      "No hay commits todavía\n",
      "\n",
      "Archivos sin seguimiento:\n",
      "  (usa \"git add <archivo>...\" para incluirlo a lo que se será confirmado)\n",
      "\t\u001b[31mhola.py\u001b[m\n",
      "\n",
      "no hay nada agregado al commit pero hay archivos sin seguimiento presentes (usa \"git add\" para hacerles seguimiento)\n"
     ]
    }
   ],
   "source": [
    "!cd notebook_git && git status"
   ]
  },
  {
   "attachments": {},
   "cell_type": "markdown",
   "metadata": {},
   "source": [
    "Vemos que tenemos el archivo `hola.py` pero que git no le está haciendo un seguimiento. Además vemos que nos ayuda y nos dice `usa \"git add\" para hacerles seguimiento`\n",
    "\n",
    "La sintaxis es la siguiente `git add <archivo>`, pero podemos hacerlo de varias maneras\n",
    "\n",
    " * Si queremos añadir más de un archivo lo podemos hacer poniendo todos los archivos que queremos añadir al área de staged, separados por un espacio: `git add <archivo1> <archivo2> <archivo3>`\n",
    " * Si queremos añadir todos los archivos de un mismo formato, por ejemplo, si queremos añadir todos los archivos de python sería `git add *.py`\n",
    " * Si queremos añadir todos los archivos de una carpeta `git add <folder>/`\n",
    " * Si queremos añadir todos los archivos tenemos tres maneras, `git add --all`, `git add -A` o `git add .`"
   ]
  },
  {
   "attachments": {},
   "cell_type": "markdown",
   "metadata": {},
   "source": [
    "Vamos a añadir el nuevo archivo creado"
   ]
  },
  {
   "cell_type": "code",
   "execution_count": 8,
   "metadata": {},
   "outputs": [],
   "source": [
    "!cd notebook_git && git add hola.py"
   ]
  },
  {
   "attachments": {},
   "cell_type": "markdown",
   "metadata": {},
   "source": [
    "Hacemos un `git status` para ver qué ha pasado"
   ]
  },
  {
   "cell_type": "code",
   "execution_count": 9,
   "metadata": {},
   "outputs": [
    {
     "name": "stdout",
     "output_type": "stream",
     "text": [
      "En la rama master\n",
      "\n",
      "No hay commits todavía\n",
      "\n",
      "Cambios a ser confirmados:\n",
      "  (usa \"git rm --cached <archivo>...\" para sacar del área de stage)\n",
      "\t\u001b[32mnuevos archivos: hola.py\u001b[m\n",
      "\n"
     ]
    }
   ],
   "source": [
    "!cd notebook_git && git status"
   ]
  },
  {
   "attachments": {},
   "cell_type": "markdown",
   "metadata": {},
   "source": [
    "Como vemos nos dice que tenemos un nuevo archivo al que le hace seguimiento y que está pendiente de ser confirmado `hola.py`"
   ]
  },
  {
   "attachments": {},
   "cell_type": "markdown",
   "metadata": {},
   "source": [
    "### Sacar un archivo del área de staged (`git reset`)"
   ]
  },
  {
   "attachments": {},
   "cell_type": "markdown",
   "metadata": {},
   "source": [
    "En caso de que añadamos un archivo al área de staged y lo queramos sacar tenemos que usar `git reset <archivo>`, vamos a verlo"
   ]
  },
  {
   "attachments": {},
   "cell_type": "markdown",
   "metadata": {},
   "source": [
    "Creamos y añadimos al área de staged un nuevo archivo"
   ]
  },
  {
   "cell_type": "code",
   "execution_count": 10,
   "metadata": {},
   "outputs": [],
   "source": [
    "!cd notebook_git && echo \"print('Este no')\" > adios.py && git add adios.py"
   ]
  },
  {
   "attachments": {},
   "cell_type": "markdown",
   "metadata": {},
   "source": [
    "Hacemos `git status` para comprobar que está en el área de staged"
   ]
  },
  {
   "cell_type": "code",
   "execution_count": 11,
   "metadata": {},
   "outputs": [
    {
     "name": "stdout",
     "output_type": "stream",
     "text": [
      "En la rama master\n",
      "\n",
      "No hay commits todavía\n",
      "\n",
      "Cambios a ser confirmados:\n",
      "  (usa \"git rm --cached <archivo>...\" para sacar del área de stage)\n",
      "\t\u001b[32mnuevos archivos: adios.py\u001b[m\n",
      "\t\u001b[32mnuevos archivos: hola.py\u001b[m\n",
      "\n"
     ]
    }
   ],
   "source": [
    "!cd notebook_git && git status"
   ]
  },
  {
   "attachments": {},
   "cell_type": "markdown",
   "metadata": {},
   "source": [
    "Como vemos están `hola.py` y `adios.py`, así que usamos `git reset adios.py` para sacarlo del área de staged"
   ]
  },
  {
   "cell_type": "code",
   "execution_count": 12,
   "metadata": {},
   "outputs": [],
   "source": [
    "!cd notebook_git && git reset adios.py"
   ]
  },
  {
   "attachments": {},
   "cell_type": "markdown",
   "metadata": {},
   "source": [
    "Hacemos un `git status` para comprobar que ha salido"
   ]
  },
  {
   "cell_type": "code",
   "execution_count": 13,
   "metadata": {},
   "outputs": [
    {
     "name": "stdout",
     "output_type": "stream",
     "text": [
      "En la rama master\n",
      "\n",
      "No hay commits todavía\n",
      "\n",
      "Cambios a ser confirmados:\n",
      "  (usa \"git rm --cached <archivo>...\" para sacar del área de stage)\n",
      "\t\u001b[32mnuevos archivos: hola.py\u001b[m\n",
      "\n",
      "Archivos sin seguimiento:\n",
      "  (usa \"git add <archivo>...\" para incluirlo a lo que se será confirmado)\n",
      "\t\u001b[31madios.py\u001b[m\n",
      "\n"
     ]
    }
   ],
   "source": [
    "!cd notebook_git && git status"
   ]
  },
  {
   "attachments": {},
   "cell_type": "markdown",
   "metadata": {},
   "source": [
    "Podemos ver que `adios.py` ya no tiene seguimiento por parte de git, lo ha sacado del área de staged"
   ]
  },
  {
   "attachments": {},
   "cell_type": "markdown",
   "metadata": {},
   "source": [
    "Hacemos `git clean -f` para borrarlo"
   ]
  },
  {
   "cell_type": "code",
   "execution_count": 14,
   "metadata": {},
   "outputs": [
    {
     "name": "stdout",
     "output_type": "stream",
     "text": [
      "Borrando adios.py\n",
      "En la rama master\n",
      "\n",
      "No hay commits todavía\n",
      "\n",
      "Cambios a ser confirmados:\n",
      "  (usa \"git rm --cached <archivo>...\" para sacar del área de stage)\n",
      "\t\u001b[32mnuevos archivos: hola.py\u001b[m\n",
      "\n"
     ]
    }
   ],
   "source": [
    "!cd notebook_git && git clean -f && git status"
   ]
  },
  {
   "attachments": {},
   "cell_type": "markdown",
   "metadata": {},
   "source": [
    "### Commit (`git commit`)"
   ]
  },
  {
   "attachments": {},
   "cell_type": "markdown",
   "metadata": {},
   "source": [
    "Si volvemos al simil en el que digimos que el área de staged era el escenario donde mandábamos los archivos a los que queríamos hacerles la foto, ahora toca hacer la foto para inmortalizar el estado actual. Esto es hacer un `commit`\n",
    "\n",
    "De esta manera se registra el estado actual del código, así con cada commit, se irá teniendo un registro de la evolución del código. Al igual que con un album de fotos, con cada foto vamos teniendo un registro de la evolución de lo que ponemos en el escenario."
   ]
  },
  {
   "attachments": {},
   "cell_type": "markdown",
   "metadata": {},
   "source": [
    "Como a la hora de hacer el commit se está registrando el cambio del código, git no nos deja hacer el commit si no hacemos un mínimo comentario. Por lo que hay dos maneras de hacer commit\n",
    "\n",
    " * `git commit` de esta manera se abrirá el editor que hayamos establecido en la configuración de git. Si no hemos configurado un editor por defecto, se abrirá `vi`. Si queremos cambiar la configuración del editor podemos hacer por ejemplo `git config --global core.editor \"code\"` o `git config core.editor \"code\"` para establecer vscode como el editor por defecto de manera global o local.\n",
    " * `git commit -m \"Mensaje de commit\"`. De esta manera añadimos el mensaje directamente\n",
    "\n",
    "Al hacer el commit de la primera forma podemos tener una primera línea que será el título del commit y varias líneas más donde se explica en más detalle. Si queremos poder hacer esto con el flag `-m` bastará con añadir varios flags `-m` seguidos: `git commit -m \"Titulo del commit\" -m \"Primera linea explicando más\" -m \"Segunda linea explicando más\"`"
   ]
  },
  {
   "attachments": {},
   "cell_type": "markdown",
   "metadata": {},
   "source": [
    "Una vez hemos hecho el commit, esto guardará un registro del cambio de nuestro repositorio de manera local. Aun no hemos conectado con un servidor remoto"
   ]
  },
  {
   "attachments": {},
   "cell_type": "markdown",
   "metadata": {},
   "source": [
    "Vamos a probar a hacer el commit"
   ]
  },
  {
   "cell_type": "code",
   "execution_count": 15,
   "metadata": {},
   "outputs": [
    {
     "name": "stdout",
     "output_type": "stream",
     "text": [
      "[master (commit-raíz) 8e24598] Primer commit, hola.py\n",
      " 1 file changed, 1 insertion(+)\n",
      " create mode 100644 hola.py\n"
     ]
    }
   ],
   "source": [
    "!cd notebook_git && git commit -m \"Primer commit, hola.py\""
   ]
  },
  {
   "attachments": {},
   "cell_type": "markdown",
   "metadata": {},
   "source": [
    "Hacemos un `git status`"
   ]
  },
  {
   "cell_type": "code",
   "execution_count": 16,
   "metadata": {},
   "outputs": [
    {
     "name": "stdout",
     "output_type": "stream",
     "text": [
      "En la rama master\n",
      "nada para hacer commit, el árbol de trabajo está limpio\n"
     ]
    }
   ],
   "source": [
    "!cd notebook_git && git status"
   ]
  },
  {
   "attachments": {},
   "cell_type": "markdown",
   "metadata": {},
   "source": [
    "Vemos que nos dice que no hay nada nuevo, tenemos todo nuestro repositorio totalmente controlado"
   ]
  },
  {
   "attachments": {},
   "cell_type": "markdown",
   "metadata": {},
   "source": [
    "#### Commit saltandonos add (`git commit -a -m` o `git commit -am`)"
   ]
  },
  {
   "attachments": {},
   "cell_type": "markdown",
   "metadata": {},
   "source": [
    "En el caso en el que todos los archivos que hayamos modificados los queramos llevar al área de staged y luego hacerles un commit, podemos hacer todo esto en un solo paso mediante `git commit -a -m \"mensaje\"`, `git commit --all -m \"mensaje\"` o `git commit -am \"mensaje\"`\n",
    "\n",
    "Veamos un ejemplo, vamos a modificar `hola.py`"
   ]
  },
  {
   "cell_type": "code",
   "execution_count": 1,
   "metadata": {},
   "outputs": [],
   "source": [
    "!cd notebook_git && echo \"print('He añadido una nueva linea')\" >> hola.py"
   ]
  },
  {
   "attachments": {},
   "cell_type": "markdown",
   "metadata": {},
   "source": [
    "Vamos a hacer un `git status` para asegurarnos"
   ]
  },
  {
   "cell_type": "code",
   "execution_count": 2,
   "metadata": {},
   "outputs": [
    {
     "name": "stdout",
     "output_type": "stream",
     "text": [
      "En la rama master\n",
      "Cambios no rastreados para el commit:\n",
      "  (usa \"git add <archivo>...\" para actualizar lo que será confirmado)\n",
      "  (usa \"git restore <archivo>...\" para descartar los cambios en el directorio de trabajo)\n",
      "\t\u001b[31mmodificados:     hola.py\u001b[m\n",
      "\n",
      "sin cambios agregados al commit (usa \"git add\" y/o \"git commit -a\")\n"
     ]
    }
   ],
   "source": [
    "!cd notebook_git && git status"
   ]
  },
  {
   "attachments": {},
   "cell_type": "markdown",
   "metadata": {},
   "source": [
    "Podemos ver que en la propia ayuda de git ya nos sugiere usar `git commit -a`, asçi que vamos a hacerlo"
   ]
  },
  {
   "cell_type": "code",
   "execution_count": 3,
   "metadata": {},
   "outputs": [
    {
     "name": "stdout",
     "output_type": "stream",
     "text": [
      "[master 1d3a290] Segundo commit, hola.py\n",
      " 1 file changed, 1 insertion(+)\n"
     ]
    }
   ],
   "source": [
    "!cd notebook_git && git commit -am \"Segundo commit, hola.py\""
   ]
  },
  {
   "attachments": {},
   "cell_type": "markdown",
   "metadata": {},
   "source": [
    "Volvemos a hacer un `git status`"
   ]
  },
  {
   "cell_type": "code",
   "execution_count": 4,
   "metadata": {},
   "outputs": [
    {
     "name": "stdout",
     "output_type": "stream",
     "text": [
      "En la rama master\n",
      "nada para hacer commit, el árbol de trabajo está limpio\n"
     ]
    }
   ],
   "source": [
    "!cd notebook_git && git status"
   ]
  },
  {
   "attachments": {},
   "cell_type": "markdown",
   "metadata": {},
   "source": [
    "No hay nada para hacer commit, ya se ha hecho el comit del cambio"
   ]
  },
  {
   "attachments": {},
   "cell_type": "markdown",
   "metadata": {},
   "source": [
    "### Histórico de cambios (`git log`)"
   ]
  },
  {
   "attachments": {},
   "cell_type": "markdown",
   "metadata": {},
   "source": [
    "Con git podemos ver el historial de todos los cambios que hemos ido commiteando, para ello usamos `git log`. Es como si nos pusiéramos a revisar nuestro album de fotos"
   ]
  },
  {
   "cell_type": "code",
   "execution_count": 5,
   "metadata": {},
   "outputs": [
    {
     "name": "stdout",
     "output_type": "stream",
     "text": [
      "\u001b[33mcommit 1d3a29075d83ae4c2ed763596b817a91a458535b\u001b[m\u001b[33m (\u001b[m\u001b[1;36mHEAD -> \u001b[m\u001b[1;32mmaster\u001b[m\u001b[33m)\u001b[m\n",
      "Author: maximofn <maximofn@gmail.com>\n",
      "Date:   Thu Mar 30 16:48:15 2023 +0200\n",
      "\n",
      "    Segundo commit, hola.py\n",
      "\n",
      "\u001b[33mcommit 8e24598253005f263ddea3b7261b00ea306d2de8\u001b[m\n",
      "Author: maximofn <maximofn@gmail.com>\n",
      "Date:   Wed Mar 29 15:56:27 2023 +0200\n",
      "\n",
      "    Primer commit, hola.py\n"
     ]
    }
   ],
   "source": [
    "!cd notebook_git && git log"
   ]
  },
  {
   "attachments": {},
   "cell_type": "markdown",
   "metadata": {},
   "source": [
    "Podemos ver el historial de cambios, hay que leerlo de abajo arriba.\n",
    "\n",
    "Primero vemos el commit con mensaje `Primer commit, hola.py`, podemos ver la fecha, el autor y el hash, que es su identificador único\n",
    "\n",
    "A continuación vemos el segundo commit con mensaje `Segundo commit, hola.py`, con su fecha, autor y hash. Además nos muestra dónde está el `HEAD` y en qué rama estamos"
   ]
  },
  {
   "attachments": {},
   "cell_type": "markdown",
   "metadata": {},
   "source": [
    "Más adelante hablaremos sobre las ramas, pero ahora vamos a ver qué es el `HEAD`"
   ]
  },
  {
   "cell_type": "markdown",
   "metadata": {},
   "source": []
  }
 ],
 "metadata": {
  "kernelspec": {
   "display_name": "base",
   "language": "python",
   "name": "python3"
  },
  "language_info": {
   "codemirror_mode": {
    "name": "ipython",
    "version": 3
   },
   "file_extension": ".py",
   "mimetype": "text/x-python",
   "name": "python",
   "nbconvert_exporter": "python",
   "pygments_lexer": "ipython3",
   "version": "3.10.9"
  },
  "orig_nbformat": 4
 },
 "nbformat": 4,
 "nbformat_minor": 2
}
