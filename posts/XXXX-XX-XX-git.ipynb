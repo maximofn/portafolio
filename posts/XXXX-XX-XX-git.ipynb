{
 "cells": [
  {
   "attachments": {},
   "cell_type": "markdown",
   "metadata": {},
   "source": [
    "# Git"
   ]
  },
  {
   "attachments": {},
   "cell_type": "markdown",
   "metadata": {},
   "source": [
    "## Introducción"
   ]
  },
  {
   "attachments": {},
   "cell_type": "markdown",
   "metadata": {},
   "source": [
    "Git es un software de control de versiones creado por Linus Torvalds, quien lo creó para poder tener un buen control de versiones cuando desarrolló el kernel de Linux."
   ]
  },
  {
   "attachments": {},
   "cell_type": "markdown",
   "metadata": {},
   "source": [
    "## Las áreas de git"
   ]
  },
  {
   "attachments": {},
   "cell_type": "markdown",
   "metadata": {},
   "source": [
    "Git tiene tres áreas, aunque también se puede considerar una cuarta.\n",
    "\n",
    "![git states](https://maximofn.com/wp-content/uploads/2023/03/git-states.png)\n",
    "\n",
    " * La primera es nuestro espacio de trabajo, en ella es donde tenemos todo nuestro código. Aquí cuando modificamos o creamos un archivo este pasa a estar como no trackeado, por lo que tenemos que pasarlo al área de `staged`\n",
    " * La segunda área es la de `staged`. Aquí los archivos que habíamos modificado o creado y que estaban no trackeados pasan a estar trackeados, es decir, git les hace un seguimiento. Aquí mandaremos los archivos al siguiente área de `head`\n",
    " * La tercera área es la de `head`. En ella hemos grabado una versión de nuestro código. De esta manera, grabando versiones podemos volver a versiones pasadas si es necesaro. La versión grabada de nuestro código puede ser mandada a un servidor de manera que sea accesible por varias personas\n",
    " * Las tres áreas anteriores corresponden al trabajo en local, pero hay una área más y y es la de `remote server`. Aquí lo que hacemos es mandar la versión grabada de nuestro código a un servidor de manera que tengamos acceso al código desde cualquier lugar, o que tenga acceso más personas\n",
    "\n",
    "Para hacer un simil, es como un escenario en el que vas a hacer una foto. Primero tienes tus archivos modificados, de manera que los que quieres inmortalizar los mandas al área de `staged`, es decir al escenario. En el momento que has mandado todos los archivos que consideras, haces la foto, por lo que mandas todos los archivos al área de `head`. De esta manera, puedes ir haciendo muchas fotos, según va evolucionando el código, de manera que puedes tener en un álbun de fotos la evolución del código. Por último puedes subir esa foto a una servidor para que sea accesible por más gente, es decir, los mandas al área de `remote server`"
   ]
  },
  {
   "attachments": {},
   "cell_type": "markdown",
   "metadata": {},
   "source": [
    "## Instalar git"
   ]
  },
  {
   "attachments": {},
   "cell_type": "markdown",
   "metadata": {},
   "source": [
    "En la mayoría de distribuciones Linux git ya viene instalado, podemos comprobarlo haciendo `git --version`"
   ]
  },
  {
   "cell_type": "code",
   "execution_count": 1,
   "metadata": {},
   "outputs": [
    {
     "name": "stdout",
     "output_type": "stream",
     "text": [
      "git version 2.25.1\n"
     ]
    }
   ],
   "source": [
    "!git --version"
   ]
  },
  {
   "attachments": {},
   "cell_type": "markdown",
   "metadata": {},
   "source": [
    "Si no lo tienes o quieres actualizar la versión de git solo tienes que ejecutar `sudo apt update` y a continuación `sudo apt install git`"
   ]
  },
  {
   "cell_type": "code",
   "execution_count": 3,
   "metadata": {},
   "outputs": [
    {
     "name": "stdout",
     "output_type": "stream",
     "text": [
      "[sudo] password for maximo.fernandez@AEROESPACIAL.SENER: \n"
     ]
    }
   ],
   "source": [
    "!sudo apt update && sudo apt install git"
   ]
  },
  {
   "attachments": {},
   "cell_type": "markdown",
   "metadata": {},
   "source": [
    "Volvemos a comprobar la versión"
   ]
  },
  {
   "cell_type": "code",
   "execution_count": 4,
   "metadata": {},
   "outputs": [
    {
     "name": "stdout",
     "output_type": "stream",
     "text": [
      "git version 2.25.1\n"
     ]
    }
   ],
   "source": [
    "!git --version"
   ]
  },
  {
   "attachments": {},
   "cell_type": "markdown",
   "metadata": {},
   "source": [
    "En mi caso ya tenía la última versión"
   ]
  },
  {
   "attachments": {},
   "cell_type": "markdown",
   "metadata": {},
   "source": [
    "## Configuración inicial"
   ]
  },
  {
   "attachments": {},
   "cell_type": "markdown",
   "metadata": {},
   "source": [
    "### Configuración del nombre y el correo"
   ]
  },
  {
   "attachments": {},
   "cell_type": "markdown",
   "metadata": {},
   "source": [
    "Antes de empezar a usar git es conveniente que hagas unas configuraciones mínimas como el nombre de usuario y el correo, esta información es la que saldrá a la hora de mostrar quien ha hecho cambios en el código. Para hacer esto hay que ejecutar\n",
    "\n",
    "\n",
    "```bash\n",
    "git config --global user.name \"<nombre de usuario>\"\n",
    "git config --global user.email \"<email>\"\n",
    "```\n",
    "\n",
    "En mi caso metería\n",
    "\n",
    "```bash\n",
    "git config --global user.name \"MaximoFN\"\n",
    "git config --global user.email \"maximofn@gmail.com\n",
    "```"
   ]
  },
  {
   "attachments": {},
   "cell_type": "markdown",
   "metadata": {},
   "source": [
    "Como se puede ver el flag `--global` lo que hace es cambiar la configuración global de git, pero si en un repositorio en concreto tienes que poner otros datos, simplemente navegas hasta el repositorio y quita el flag `--global` de los comandos anteriores\n",
    "\n",
    "```bash\n",
    "git config user.name \"<nombre de usuario>\"\n",
    "git config user.email \"<email>\"\n",
    "```"
   ]
  },
  {
   "attachments": {},
   "cell_type": "markdown",
   "metadata": {},
   "source": [
    "### Configurar el editor por defecto"
   ]
  },
  {
   "attachments": {},
   "cell_type": "markdown",
   "metadata": {},
   "source": [
    "Cuando más adelante expliquemos qué son los `commit`s veremos que en una de las opciones se nos puede abrir un navegador. Por defecto git intentará usar `vim`, pero dado que no es un editor muy sencillo de usar podemos modificarlo, a continuación se muestra cómo hacerlo con algunos editores comunes\n",
    "\n",
    "```bash\n",
    "git config --global core.editor \"code\"  # vscode como editor\n",
    "git config --global core.editor \"atom\"  # Atom como editor\n",
    "git config --global core.editor \"subl\"  # Sublime text como editor\n",
    "git config --global core.editor \"nano\"  # Nano como editor\n",
    "```"
   ]
  },
  {
   "attachments": {},
   "cell_type": "markdown",
   "metadata": {},
   "source": [
    "### Comprobar configuración de git"
   ]
  },
  {
   "attachments": {},
   "cell_type": "markdown",
   "metadata": {},
   "source": [
    "Para revisar la configuración de git podemos usar `git config --lits`"
   ]
  },
  {
   "cell_type": "code",
   "execution_count": 6,
   "metadata": {},
   "outputs": [
    {
     "name": "stdout",
     "output_type": "stream",
     "text": [
      "user.name=maximofn\n",
      "user.email=maximofn@gmail.com\n",
      "user.user=maximofn\n",
      "http.sslverify=true\n",
      "core.repositoryformatversion=0\n",
      "core.filemode=true\n",
      "core.bare=false\n",
      "core.logallrefupdates=true\n",
      "remote.origin.url=https://github.com/maximofn/portafolio.git\n",
      "remote.origin.fetch=+refs/heads/*:refs/remotes/origin/*\n",
      "branch.main.remote=origin\n",
      "branch.main.merge=refs/heads/main\n"
     ]
    }
   ],
   "source": [
    "!git config --list"
   ]
  },
  {
   "attachments": {},
   "cell_type": "markdown",
   "metadata": {},
   "source": [
    "Podemos usar los flags `--global`, `--local` y `--system` para ver solo la configuración global, local (si existe) y de sistema (si existe)"
   ]
  },
  {
   "cell_type": "code",
   "execution_count": 8,
   "metadata": {},
   "outputs": [
    {
     "name": "stdout",
     "output_type": "stream",
     "text": [
      "user.name=maximofn\n",
      "user.email=maximofn@gmail.com\n",
      "user.user=maximofn\n",
      "http.sslverify=true\n"
     ]
    }
   ],
   "source": [
    "!git config --global --list"
   ]
  },
  {
   "cell_type": "code",
   "execution_count": 9,
   "metadata": {},
   "outputs": [
    {
     "name": "stdout",
     "output_type": "stream",
     "text": [
      "core.repositoryformatversion=0\n",
      "core.filemode=true\n",
      "core.bare=false\n",
      "core.logallrefupdates=true\n",
      "remote.origin.url=https://github.com/maximofn/portafolio.git\n",
      "remote.origin.fetch=+refs/heads/*:refs/remotes/origin/*\n",
      "branch.main.remote=origin\n",
      "branch.main.merge=refs/heads/main\n"
     ]
    }
   ],
   "source": [
    "!git config --local --list"
   ]
  },
  {
   "cell_type": "code",
   "execution_count": 10,
   "metadata": {},
   "outputs": [
    {
     "name": "stdout",
     "output_type": "stream",
     "text": [
      "fatal: unable to read config file '/etc/gitconfig': No such file or directory\n"
     ]
    }
   ],
   "source": [
    "!git config --system --list"
   ]
  },
  {
   "attachments": {},
   "cell_type": "markdown",
   "metadata": {},
   "source": [
    "En mi caso no existe configuración de sistema"
   ]
  },
  {
   "attachments": {},
   "cell_type": "markdown",
   "metadata": {},
   "source": [
    "Si solo se quiere saber el valor de un parámetro de la configuración valdría con introducir `git config <parameter>`"
   ]
  },
  {
   "cell_type": "code",
   "execution_count": 15,
   "metadata": {},
   "outputs": [
    {
     "name": "stdout",
     "output_type": "stream",
     "text": [
      "maximofn\n"
     ]
    }
   ],
   "source": [
    "!git config user.name"
   ]
  },
  {
   "attachments": {},
   "cell_type": "markdown",
   "metadata": {},
   "source": [
    "## Control de versiones de manera local"
   ]
  },
  {
   "attachments": {},
   "cell_type": "markdown",
   "metadata": {},
   "source": [
    "### Inicializar un nuevo repositorio (`git init`)"
   ]
  },
  {
   "attachments": {},
   "cell_type": "markdown",
   "metadata": {},
   "source": [
    "Hay dos maneras de inicializar un nuevo repositorio haciendo\n",
    " * Una es haciendo `git init <nombre repositorio>`. Esto creará una nueva carpeta con el nombre del repositorio\n",
    " * Otra es navegando a la carpeta donde queramos crear un repositorio y haciendo `git init`\n",
    "\n",
    "Voy a crear un nuevo repositorio"
   ]
  },
  {
   "cell_type": "code",
   "execution_count": 1,
   "metadata": {},
   "outputs": [
    {
     "name": "stdout",
     "output_type": "stream",
     "text": [
      "Inicializado repositorio Git vacío en /home/wallabot/Documentos/web/portafolio/posts/notebook_git/.git/\n"
     ]
    }
   ],
   "source": [
    "!git init notebook_git"
   ]
  },
  {
   "attachments": {},
   "cell_type": "markdown",
   "metadata": {},
   "source": [
    "Si ahora hacemos `ls` veremos que se ha creado una nueva carpeta llamada `notebook_git`"
   ]
  },
  {
   "cell_type": "code",
   "execution_count": 3,
   "metadata": {},
   "outputs": [
    {
     "name": "stdout",
     "output_type": "stream",
     "text": [
      "notebook_git\n"
     ]
    }
   ],
   "source": [
    "!ls | grep notebook_git"
   ]
  },
  {
   "attachments": {},
   "cell_type": "markdown",
   "metadata": {},
   "source": [
    "Nos movemos a ella"
   ]
  },
  {
   "cell_type": "code",
   "execution_count": 4,
   "metadata": {},
   "outputs": [],
   "source": [
    "!cd notebook_git"
   ]
  },
  {
   "attachments": {},
   "cell_type": "markdown",
   "metadata": {},
   "source": [
    "Ahora dentro de la carpeta tenemos dos maneras de saber que se ha creado el repositorio, una haciendo `ls -a` que mostará todos los archivos y veremos que hay una carpeta llamada `.git`. La otra manera es haciendo `git status` que nos dirá el estado del repositorio"
   ]
  },
  {
   "cell_type": "code",
   "execution_count": 5,
   "metadata": {},
   "outputs": [
    {
     "name": "stdout",
     "output_type": "stream",
     "text": [
      ".  ..  .git\n"
     ]
    }
   ],
   "source": [
    "!cd notebook_git && ls -a"
   ]
  },
  {
   "cell_type": "code",
   "execution_count": 6,
   "metadata": {},
   "outputs": [
    {
     "name": "stdout",
     "output_type": "stream",
     "text": [
      "En la rama master\n",
      "\n",
      "No hay commits todavía\n",
      "\n",
      "no hay nada para confirmar (crea/copia archivos y usa \"git add\" para hacerles seguimiento)\n"
     ]
    }
   ],
   "source": [
    "!cd notebook_git && git status"
   ]
  },
  {
   "attachments": {},
   "cell_type": "markdown",
   "metadata": {},
   "source": [
    "Como estamos en un notebook, cada celda tiene su `path` en el `path` del notebook, por eso las dos veces he tenido que hacer `cd notebook_git &&`, para que cambie a la carpeta con el repositorio que acabamos de crear."
   ]
  },
  {
   "attachments": {},
   "cell_type": "markdown",
   "metadata": {},
   "source": [
    "Si ahora pruebo `git status` en otro `path` donde no se haya inicializado un repositorio nos dará un error"
   ]
  },
  {
   "cell_type": "code",
   "execution_count": 95,
   "metadata": {},
   "outputs": [
    {
     "name": "stdout",
     "output_type": "stream",
     "text": [
      "fatal: no es un repositorio git (ni ninguno de los directorios superiores): .git\n"
     ]
    }
   ],
   "source": [
    "!cd ~/ && git status"
   ]
  },
  {
   "attachments": {},
   "cell_type": "markdown",
   "metadata": {},
   "source": [
    "### Crear nuevos archivos"
   ]
  },
  {
   "attachments": {},
   "cell_type": "markdown",
   "metadata": {},
   "source": [
    "En el momento que hemos inicializado un repositorio podemos empezar a crear nuevos archivos, así que creamos uno y vemos qué ocurre"
   ]
  },
  {
   "cell_type": "code",
   "execution_count": 7,
   "metadata": {},
   "outputs": [],
   "source": [
    "!cd notebook_git && echo \"print('Hello World')\" > hello.py"
   ]
  },
  {
   "attachments": {},
   "cell_type": "markdown",
   "metadata": {},
   "source": [
    "Si ahora volvemos a hacer `git status` vemos qué nos aparece"
   ]
  },
  {
   "cell_type": "code",
   "execution_count": 8,
   "metadata": {},
   "outputs": [
    {
     "name": "stdout",
     "output_type": "stream",
     "text": [
      "En la rama master\n",
      "\n",
      "No hay commits todavía\n",
      "\n",
      "Archivos sin seguimiento:\n",
      "  (usa \"git add <archivo>...\" para incluirlo a lo que se será confirmado)\n",
      "\t\u001b[31mhello.py\u001b[m\n",
      "\n",
      "no hay nada agregado al commit pero hay archivos sin seguimiento presentes (usa \"git add\" para hacerles seguimiento)\n"
     ]
    }
   ],
   "source": [
    "!cd notebook_git && git status"
   ]
  },
  {
   "attachments": {},
   "cell_type": "markdown",
   "metadata": {},
   "source": [
    "Como se puede ver ahora nos está diciendo que el archivo `hello.py` no tiene seguimiento. Es decir tenemos que añadir `hello.py` al área de `staged`, que recordemos era como el escenario donde íbamos a poner todo lo que más tarde le haremos una foto"
   ]
  },
  {
   "attachments": {},
   "cell_type": "markdown",
   "metadata": {},
   "source": [
    "### Deshacer la creación de un archivo nuevo"
   ]
  },
  {
   "attachments": {},
   "cell_type": "markdown",
   "metadata": {},
   "source": [
    "En este caso, como son archivos que git aun no está siguiendo, es decir, que aun no están en el área de `staged` tendríamos tres maneras de hacerlo"
   ]
  },
  {
   "attachments": {},
   "cell_type": "markdown",
   "metadata": {},
   "source": [
    " * Borrándolo simplemente: Como git aun no sigue el archivo podríamos hacer `rm hello.py` y listo\n",
    " * Borrándolo mediante un comando de git: Antes hemos borrado con `rm` pero es posible que estés en un sistema que no tenga el comando `rm` por lo que en ese caso se puede usar el comando de git `git rm hello.py`\n",
    " * Por último podemos usar `git clean`. Este es útil por ejemplo cuando hay muchos archivos nuevos, y así en un solo comando eliminamos todos"
   ]
  },
  {
   "attachments": {},
   "cell_type": "markdown",
   "metadata": {},
   "source": [
    "#### `git clean`"
   ]
  },
  {
   "attachments": {},
   "cell_type": "markdown",
   "metadata": {},
   "source": [
    "Si ejecutamos `git clean` a secas nos dará un error"
   ]
  },
  {
   "cell_type": "code",
   "execution_count": 9,
   "metadata": {},
   "outputs": [
    {
     "name": "stdout",
     "output_type": "stream",
     "text": [
      "fatal: clean.requireForce default en true y ninguno de -i, -n, ni -f entregado; rehusando el clean\n"
     ]
    }
   ],
   "source": [
    "!cd notebook_git && git clean"
   ]
  },
  {
   "attachments": {},
   "cell_type": "markdown",
   "metadata": {},
   "source": [
    "Nos está diciendo que hace falta añadir uno de estos flags `-n`, `-i` y `-f`. Además vamos a ver el flag `-d`\n",
    "\n",
    " * `-n` (dry run): Nos dirá qué archivos se van a borrar, pero no los borrará\n",
    " * `-i`: Nos preguntará por cada archivo que se va a borrar\n",
    " * `-f`: Forzará el borrado de los archivos\n",
    " * `-d`: También borrará carpetas"
   ]
  },
  {
   "attachments": {},
   "cell_type": "markdown",
   "metadata": {},
   "source": [
    "Vamos a probarlo, primero hacemos `git clean -n` para saber qué archivos se borrarían"
   ]
  },
  {
   "cell_type": "code",
   "execution_count": 10,
   "metadata": {},
   "outputs": [
    {
     "name": "stdout",
     "output_type": "stream",
     "text": [
      "Será borrado hello.py\n"
     ]
    }
   ],
   "source": [
    "!cd notebook_git && git clean -n"
   ]
  },
  {
   "attachments": {},
   "cell_type": "markdown",
   "metadata": {},
   "source": [
    "Ahora hacemos `git clean -f` para que lo borre, ya que estamos de acuerdo en que lo borre"
   ]
  },
  {
   "cell_type": "code",
   "execution_count": 11,
   "metadata": {},
   "outputs": [
    {
     "name": "stdout",
     "output_type": "stream",
     "text": [
      "Borrando hello.py\n"
     ]
    }
   ],
   "source": [
    "!cd notebook_git && git clean -f"
   ]
  },
  {
   "attachments": {},
   "cell_type": "markdown",
   "metadata": {},
   "source": [
    "Como vemos ha borrado `hello.py`"
   ]
  },
  {
   "attachments": {},
   "cell_type": "markdown",
   "metadata": {},
   "source": [
    "### Añadir un archivo al área de staged (`git add`)"
   ]
  },
  {
   "attachments": {},
   "cell_type": "markdown",
   "metadata": {},
   "source": [
    "Volvemos a crear un archivo"
   ]
  },
  {
   "cell_type": "code",
   "execution_count": 12,
   "metadata": {},
   "outputs": [],
   "source": [
    "!cd notebook_git && echo \"print('Hola mundo')\" > hola.py"
   ]
  },
  {
   "attachments": {},
   "cell_type": "markdown",
   "metadata": {},
   "source": [
    "Volvemos a hacer un `git status` para comprobar que tenemos el archivo"
   ]
  },
  {
   "cell_type": "code",
   "execution_count": 13,
   "metadata": {},
   "outputs": [
    {
     "name": "stdout",
     "output_type": "stream",
     "text": [
      "En la rama master\n",
      "\n",
      "No hay commits todavía\n",
      "\n",
      "Archivos sin seguimiento:\n",
      "  (usa \"git add <archivo>...\" para incluirlo a lo que se será confirmado)\n",
      "\t\u001b[31mhola.py\u001b[m\n",
      "\n",
      "no hay nada agregado al commit pero hay archivos sin seguimiento presentes (usa \"git add\" para hacerles seguimiento)\n"
     ]
    }
   ],
   "source": [
    "!cd notebook_git && git status"
   ]
  },
  {
   "attachments": {},
   "cell_type": "markdown",
   "metadata": {},
   "source": [
    "Vemos que tenemos el archivo `hola.py` pero que git no le está haciendo un seguimiento. Además vemos que nos ayuda y nos dice `usa \"git add\" para hacerles seguimiento`\n",
    "\n",
    "La sintaxis es la siguiente `git add <archivo>`, pero podemos hacerlo de varias maneras\n",
    "\n",
    " * Si queremos añadir más de un archivo lo podemos hacer poniendo todos los archivos que queremos añadir al área de staged, separados por un espacio: `git add <archivo1> <archivo2> <archivo3>`\n",
    " * Si queremos añadir todos los archivos de un mismo formato, por ejemplo, si queremos añadir todos los archivos de python sería `git add *.py`\n",
    " * Si queremos añadir todos los archivos de una carpeta `git add <folder>/`\n",
    " * Si queremos añadir todos los archivos tenemos tres maneras, `git add --all`, `git add -A` o `git add .`"
   ]
  },
  {
   "attachments": {},
   "cell_type": "markdown",
   "metadata": {},
   "source": [
    "Vamos a añadir el nuevo archivo creado"
   ]
  },
  {
   "cell_type": "code",
   "execution_count": 14,
   "metadata": {},
   "outputs": [],
   "source": [
    "!cd notebook_git && git add hola.py"
   ]
  },
  {
   "attachments": {},
   "cell_type": "markdown",
   "metadata": {},
   "source": [
    "Hacemos un `git status` para ver qué ha pasado"
   ]
  },
  {
   "cell_type": "code",
   "execution_count": 15,
   "metadata": {},
   "outputs": [
    {
     "name": "stdout",
     "output_type": "stream",
     "text": [
      "En la rama master\n",
      "\n",
      "No hay commits todavía\n",
      "\n",
      "Cambios a ser confirmados:\n",
      "  (usa \"git rm --cached <archivo>...\" para sacar del área de stage)\n",
      "\t\u001b[32mnuevos archivos: hola.py\u001b[m\n",
      "\n"
     ]
    }
   ],
   "source": [
    "!cd notebook_git && git status"
   ]
  },
  {
   "attachments": {},
   "cell_type": "markdown",
   "metadata": {},
   "source": [
    "Como vemos nos dice que tenemos un nuevo archivo al que le hace seguimiento y que está pendiente de ser confirmado `hola.py`"
   ]
  },
  {
   "attachments": {},
   "cell_type": "markdown",
   "metadata": {},
   "source": [
    "### Sacar un archivo del área de staged (`git reset`)"
   ]
  },
  {
   "attachments": {},
   "cell_type": "markdown",
   "metadata": {},
   "source": [
    "En caso de que añadamos un archivo al área de staged y lo queramos sacar tenemos que usar `git reset <archivo>`, vamos a verlo"
   ]
  },
  {
   "attachments": {},
   "cell_type": "markdown",
   "metadata": {},
   "source": [
    "Creamos y añadimos al área de staged un nuevo archivo"
   ]
  },
  {
   "cell_type": "code",
   "execution_count": 16,
   "metadata": {},
   "outputs": [],
   "source": [
    "!cd notebook_git && echo \"print('Este no')\" > adios.py && git add adios.py"
   ]
  },
  {
   "attachments": {},
   "cell_type": "markdown",
   "metadata": {},
   "source": [
    "Hacemos `git status` para comprobar que está en el área de staged"
   ]
  },
  {
   "cell_type": "code",
   "execution_count": 17,
   "metadata": {},
   "outputs": [
    {
     "name": "stdout",
     "output_type": "stream",
     "text": [
      "En la rama master\n",
      "\n",
      "No hay commits todavía\n",
      "\n",
      "Cambios a ser confirmados:\n",
      "  (usa \"git rm --cached <archivo>...\" para sacar del área de stage)\n",
      "\t\u001b[32mnuevos archivos: adios.py\u001b[m\n",
      "\t\u001b[32mnuevos archivos: hola.py\u001b[m\n",
      "\n"
     ]
    }
   ],
   "source": [
    "!cd notebook_git && git status"
   ]
  },
  {
   "attachments": {},
   "cell_type": "markdown",
   "metadata": {},
   "source": [
    "Como vemos están `hola.py` y `adios.py`, así que usamos `git reset adios.py` para sacarlo del área de staged"
   ]
  },
  {
   "cell_type": "code",
   "execution_count": 18,
   "metadata": {},
   "outputs": [],
   "source": [
    "!cd notebook_git && git reset adios.py"
   ]
  },
  {
   "attachments": {},
   "cell_type": "markdown",
   "metadata": {},
   "source": [
    "Hacemos un `git status` para comprobar que ha salido"
   ]
  },
  {
   "cell_type": "code",
   "execution_count": 19,
   "metadata": {},
   "outputs": [
    {
     "name": "stdout",
     "output_type": "stream",
     "text": [
      "En la rama master\n",
      "\n",
      "No hay commits todavía\n",
      "\n",
      "Cambios a ser confirmados:\n",
      "  (usa \"git rm --cached <archivo>...\" para sacar del área de stage)\n",
      "\t\u001b[32mnuevos archivos: hola.py\u001b[m\n",
      "\n",
      "Archivos sin seguimiento:\n",
      "  (usa \"git add <archivo>...\" para incluirlo a lo que se será confirmado)\n",
      "\t\u001b[31madios.py\u001b[m\n",
      "\n"
     ]
    }
   ],
   "source": [
    "!cd notebook_git && git status"
   ]
  },
  {
   "attachments": {},
   "cell_type": "markdown",
   "metadata": {},
   "source": [
    "Podemos ver que `adios.py` ya no tiene seguimiento por parte de git, lo ha sacado del área de staged"
   ]
  },
  {
   "attachments": {},
   "cell_type": "markdown",
   "metadata": {},
   "source": [
    "Hacemos `git clean -f` para borrarlo"
   ]
  },
  {
   "cell_type": "code",
   "execution_count": 20,
   "metadata": {},
   "outputs": [
    {
     "name": "stdout",
     "output_type": "stream",
     "text": [
      "Borrando adios.py\n",
      "En la rama master\n",
      "\n",
      "No hay commits todavía\n",
      "\n",
      "Cambios a ser confirmados:\n",
      "  (usa \"git rm --cached <archivo>...\" para sacar del área de stage)\n",
      "\t\u001b[32mnuevos archivos: hola.py\u001b[m\n",
      "\n"
     ]
    }
   ],
   "source": [
    "!cd notebook_git && git clean -f && git status"
   ]
  },
  {
   "attachments": {},
   "cell_type": "markdown",
   "metadata": {},
   "source": [
    "### Commit (`git commit`)"
   ]
  },
  {
   "attachments": {},
   "cell_type": "markdown",
   "metadata": {},
   "source": [
    "Si volvemos al simil en el que digimos que el área de staged era el escenario donde mandábamos los archivos a los que queríamos hacerles la foto, ahora toca hacer la foto para inmortalizar el estado actual. Esto es hacer un `commit`\n",
    "\n",
    "De esta manera se registra el estado actual del código, así con cada commit, se irá teniendo un registro de la evolución del código. Al igual que con un album de fotos, con cada foto vamos teniendo un registro de la evolución de lo que ponemos en el escenario."
   ]
  },
  {
   "attachments": {},
   "cell_type": "markdown",
   "metadata": {},
   "source": [
    "Como a la hora de hacer el commit se está registrando el cambio del código, git no nos deja hacer el commit si no hacemos un mínimo comentario. Por lo que hay dos maneras de hacer commit\n",
    "\n",
    " * `git commit` de esta manera se abrirá el editor que hayamos establecido en la configuración de git. Si no hemos configurado un editor por defecto, se abrirá `vi`. Si queremos cambiar la configuración del editor podemos hacer por ejemplo `git config --global core.editor \"code\"` o `git config core.editor \"code\"` para establecer vscode como el editor por defecto de manera global o local.\n",
    " * `git commit -m \"Mensaje de commit\"`. De esta manera añadimos el mensaje directamente\n",
    "\n",
    "Al hacer el commit de la primera forma podemos tener una primera línea que será el título del commit y varias líneas más donde se explica en más detalle. Si queremos poder hacer esto con el flag `-m` bastará con añadir varios flags `-m` seguidos: `git commit -m \"Titulo del commit\" -m \"Primera linea explicando más\" -m \"Segunda linea explicando más\"`"
   ]
  },
  {
   "attachments": {},
   "cell_type": "markdown",
   "metadata": {},
   "source": [
    "Una vez hemos hecho el commit, esto guardará un registro del cambio de nuestro repositorio de manera local. Aun no hemos conectado con un servidor remoto"
   ]
  },
  {
   "attachments": {},
   "cell_type": "markdown",
   "metadata": {},
   "source": [
    "Vamos a probar a hacer el commit"
   ]
  },
  {
   "cell_type": "code",
   "execution_count": 21,
   "metadata": {},
   "outputs": [
    {
     "name": "stdout",
     "output_type": "stream",
     "text": [
      "[master (commit-raíz) 1c95e4f] Primer commit, hola.py\n",
      " 1 file changed, 1 insertion(+)\n",
      " create mode 100644 hola.py\n"
     ]
    }
   ],
   "source": [
    "!cd notebook_git && git commit -m \"Primer commit, hola.py\""
   ]
  },
  {
   "attachments": {},
   "cell_type": "markdown",
   "metadata": {},
   "source": [
    "Hacemos un `git status`"
   ]
  },
  {
   "cell_type": "code",
   "execution_count": 22,
   "metadata": {},
   "outputs": [
    {
     "name": "stdout",
     "output_type": "stream",
     "text": [
      "En la rama master\n",
      "nada para hacer commit, el árbol de trabajo está limpio\n"
     ]
    }
   ],
   "source": [
    "!cd notebook_git && git status"
   ]
  },
  {
   "attachments": {},
   "cell_type": "markdown",
   "metadata": {},
   "source": [
    "Vemos que nos dice que no hay nada nuevo, tenemos todo nuestro repositorio totalmente controlado"
   ]
  },
  {
   "attachments": {},
   "cell_type": "markdown",
   "metadata": {},
   "source": [
    "#### Commit saltandonos add (`git commit -a -m` o `git commit -am`)"
   ]
  },
  {
   "attachments": {},
   "cell_type": "markdown",
   "metadata": {},
   "source": [
    "En el caso en el que todos los archivos que hayamos modificados los queramos llevar al área de staged y luego hacerles un commit, podemos hacer todo esto en un solo paso mediante `git commit -a -m \"mensaje\"`, `git commit --all -m \"mensaje\"` o `git commit -am \"mensaje\"`\n",
    "\n",
    " > Nota: Esto solo es válido si se modifica un archivo. Si el archivo es nuevo y git no le hace seguimiento, esto no es válido\n",
    "\n",
    "Veamos un ejemplo, vamos a modificar `hola.py`"
   ]
  },
  {
   "cell_type": "code",
   "execution_count": 23,
   "metadata": {},
   "outputs": [],
   "source": [
    "!cd notebook_git && echo \"print('He añadido una nueva linea')\" >> hola.py"
   ]
  },
  {
   "attachments": {},
   "cell_type": "markdown",
   "metadata": {},
   "source": [
    "Vamos a hacer un `git status` para asegurarnos"
   ]
  },
  {
   "cell_type": "code",
   "execution_count": 24,
   "metadata": {},
   "outputs": [
    {
     "name": "stdout",
     "output_type": "stream",
     "text": [
      "En la rama master\n",
      "Cambios no rastreados para el commit:\n",
      "  (usa \"git add <archivo>...\" para actualizar lo que será confirmado)\n",
      "  (usa \"git restore <archivo>...\" para descartar los cambios en el directorio de trabajo)\n",
      "\t\u001b[31mmodificados:     hola.py\u001b[m\n",
      "\n",
      "sin cambios agregados al commit (usa \"git add\" y/o \"git commit -a\")\n"
     ]
    }
   ],
   "source": [
    "!cd notebook_git && git status"
   ]
  },
  {
   "attachments": {},
   "cell_type": "markdown",
   "metadata": {},
   "source": [
    "Podemos ver que en la propia ayuda de git ya nos sugiere usar `git commit -a`, asçi que vamos a hacerlo"
   ]
  },
  {
   "cell_type": "code",
   "execution_count": 25,
   "metadata": {},
   "outputs": [
    {
     "name": "stdout",
     "output_type": "stream",
     "text": [
      "[master 6e99e73] Segundo commit, hola.py\n",
      " 1 file changed, 1 insertion(+)\n"
     ]
    }
   ],
   "source": [
    "!cd notebook_git && git commit -am \"Segundo commit, hola.py\""
   ]
  },
  {
   "attachments": {},
   "cell_type": "markdown",
   "metadata": {},
   "source": [
    "Volvemos a hacer un `git status`"
   ]
  },
  {
   "cell_type": "code",
   "execution_count": 26,
   "metadata": {},
   "outputs": [
    {
     "name": "stdout",
     "output_type": "stream",
     "text": [
      "En la rama master\n",
      "nada para hacer commit, el árbol de trabajo está limpio\n"
     ]
    }
   ],
   "source": [
    "!cd notebook_git && git status"
   ]
  },
  {
   "attachments": {},
   "cell_type": "markdown",
   "metadata": {},
   "source": [
    "No hay nada para hacer commit, ya se ha hecho el comit del cambio"
   ]
  },
  {
   "attachments": {},
   "cell_type": "markdown",
   "metadata": {},
   "source": [
    "### Modificar un archivo al que se le había hecho commit"
   ]
  },
  {
   "attachments": {},
   "cell_type": "markdown",
   "metadata": {},
   "source": [
    "Como mientras desarrollamos estamos modificando archivos, puede que en algun archivo al que ya le habíamos hecho commit lo modifiquemos. En nuestro caso vamos a añadir una línea a `hola.py`"
   ]
  },
  {
   "cell_type": "code",
   "execution_count": 27,
   "metadata": {},
   "outputs": [],
   "source": [
    "!cd notebook_git && echo \"print('He añadido una tercera linea')\" >> hola.py"
   ]
  },
  {
   "cell_type": "code",
   "execution_count": 28,
   "metadata": {},
   "outputs": [
    {
     "name": "stdout",
     "output_type": "stream",
     "text": [
      "print('Hola mundo')\n",
      "print('He añadido una nueva linea')\n",
      "print('He añadido una tercera linea')\n"
     ]
    }
   ],
   "source": [
    "!cd notebook_git && cat hola.py"
   ]
  },
  {
   "attachments": {},
   "cell_type": "markdown",
   "metadata": {},
   "source": [
    "Si hacemos `git status` veremos que `hola.py` tiene modificaciones"
   ]
  },
  {
   "cell_type": "code",
   "execution_count": 29,
   "metadata": {},
   "outputs": [
    {
     "name": "stdout",
     "output_type": "stream",
     "text": [
      "En la rama master\n",
      "Cambios no rastreados para el commit:\n",
      "  (usa \"git add <archivo>...\" para actualizar lo que será confirmado)\n",
      "  (usa \"git restore <archivo>...\" para descartar los cambios en el directorio de trabajo)\n",
      "\t\u001b[31mmodificados:     hola.py\u001b[m\n",
      "\n",
      "sin cambios agregados al commit (usa \"git add\" y/o \"git commit -a\")\n"
     ]
    }
   ],
   "source": [
    "!cd notebook_git && git status"
   ]
  },
  {
   "attachments": {},
   "cell_type": "markdown",
   "metadata": {},
   "source": [
    "### Ver cambios en un archivo (`git diff <archivo>`)"
   ]
  },
  {
   "attachments": {},
   "cell_type": "markdown",
   "metadata": {},
   "source": [
    "Puede que llevemos un tiempo desarrollando desde el último commit y no sepamos qué modificaciones hemos hecho, para ello usamos `git diff <archivo>` que nos dirá los cambios que hemos hecho"
   ]
  },
  {
   "cell_type": "code",
   "execution_count": 30,
   "metadata": {},
   "outputs": [
    {
     "name": "stdout",
     "output_type": "stream",
     "text": [
      "\u001b[1mdiff --git a/hola.py b/hola.py\u001b[m\n",
      "\u001b[1mindex 91dee80..fba0d22 100644\u001b[m\n",
      "\u001b[1m--- a/hola.py\u001b[m\n",
      "\u001b[1m+++ b/hola.py\u001b[m\n",
      "\u001b[36m@@ -1,2 +1,3 @@\u001b[m\n",
      " print('Hola mundo')\u001b[m\n",
      " print('He añadido una nueva linea')\u001b[m\n",
      "\u001b[32m+\u001b[m\u001b[32mprint('He añadido una tercera linea')\u001b[m\n"
     ]
    }
   ],
   "source": [
    "!cd notebook_git && git diff hola.py"
   ]
  },
  {
   "attachments": {},
   "cell_type": "markdown",
   "metadata": {},
   "source": [
    "Aunque no es muy intuitivo podemos ver que hemos añadido la última línea en `hola.py`"
   ]
  },
  {
   "attachments": {},
   "cell_type": "markdown",
   "metadata": {},
   "source": [
    "### Deshacer modificaciones en un archivo (`git restore <archivo>`)"
   ]
  },
  {
   "attachments": {},
   "cell_type": "markdown",
   "metadata": {},
   "source": [
    "Si los cambios que hemos hecho no nos gustan y los queremos quitar lo que podemos hacer es `git restore <archivo>`"
   ]
  },
  {
   "cell_type": "code",
   "execution_count": 31,
   "metadata": {},
   "outputs": [],
   "source": [
    "!cd notebook_git && git restore hola.py"
   ]
  },
  {
   "attachments": {},
   "cell_type": "markdown",
   "metadata": {},
   "source": [
    "Veamos qué ha pasado con un `git status`"
   ]
  },
  {
   "cell_type": "code",
   "execution_count": 32,
   "metadata": {},
   "outputs": [
    {
     "name": "stdout",
     "output_type": "stream",
     "text": [
      "En la rama master\n",
      "nada para hacer commit, el árbol de trabajo está limpio\n"
     ]
    }
   ],
   "source": [
    "!cd notebook_git && git status"
   ]
  },
  {
   "attachments": {},
   "cell_type": "markdown",
   "metadata": {},
   "source": [
    "Vemos que se han descartado los cambios en `hola.py` desde el último commit"
   ]
  },
  {
   "attachments": {},
   "cell_type": "markdown",
   "metadata": {},
   "source": [
    "### Histórico de cambios (`git log`)"
   ]
  },
  {
   "attachments": {},
   "cell_type": "markdown",
   "metadata": {},
   "source": [
    "Con git podemos ver el historial de todos los cambios que hemos ido commiteando, para ello usamos `git log`. Es como si nos pusiéramos a revisar nuestro album de fotos"
   ]
  },
  {
   "cell_type": "code",
   "execution_count": 33,
   "metadata": {},
   "outputs": [
    {
     "name": "stdout",
     "output_type": "stream",
     "text": [
      "\u001b[33mcommit 6e99e73cf0c5474078cc9f328ee6a54fb9ffb169\u001b[m\u001b[33m (\u001b[m\u001b[1;36mHEAD -> \u001b[m\u001b[1;32mmaster\u001b[m\u001b[33m)\u001b[m\n",
      "Author: maximofn <maximofn@gmail.com>\n",
      "Date:   Sun Apr 16 02:29:04 2023 +0200\n",
      "\n",
      "    Segundo commit, hola.py\n",
      "\n",
      "\u001b[33mcommit 1c95e4fd8388ceedee368e0121c4b0ef4900c2ac\u001b[m\n",
      "Author: maximofn <maximofn@gmail.com>\n",
      "Date:   Sun Apr 16 02:28:44 2023 +0200\n",
      "\n",
      "    Primer commit, hola.py\n"
     ]
    }
   ],
   "source": [
    "!cd notebook_git && git log"
   ]
  },
  {
   "attachments": {},
   "cell_type": "markdown",
   "metadata": {},
   "source": [
    "Podemos ver el historial de cambios, hay que leerlo de abajo arriba.\n",
    "\n",
    "Primero vemos el commit con mensaje `Primer commit, hola.py`, podemos ver la fecha, el autor y el hash, que es su identificador único\n",
    "\n",
    "A continuación vemos el segundo commit con mensaje `Segundo commit, hola.py`, con su fecha, autor y hash. Además nos muestra dónde está el `HEAD` y en qué rama estamos"
   ]
  },
  {
   "attachments": {},
   "cell_type": "markdown",
   "metadata": {},
   "source": [
    "Si usamos flags podemos obtener la información de distintas maneras, pero en función de qué flags usemos puede que nos venga mejor, a continuación se muestran algunos flags útiles:\n",
    "\n",
    " * `git log --oneline`: Muestra los commits en una sola línea, con el hash abreviado y el mensaje del commit.\n",
    " * `git log --graph`: Muestra un gráfico de texto de la historia del repositorio, incluyendo ramas y fusiones.\n",
    " * `git log --decorate`: Muestra las referencias (ramas, etiquetas, HEAD, etc.) en el log junto con el commit al que apuntan.\n",
    " * `git log --author=\"<autor>\"`: Filtra el historial de commits para mostrar solo aquellos realizados por un autor específico.\n",
    " * `git log --since=\"<fecha>\"`: Muestra los commits realizados desde una fecha específica. Puedes usar diferentes formatos de fecha, como \"1 week ago\" o \"2023-01-01\".\n",
    " * `git log --until=\"<fecha>\"`: Muestra los commits realizados hasta una fecha específica.\n",
    " * `git log <rama>`: Muestra los commits de una rama específica.\n",
    " * `git log <commit1>..<commit2>`: Muestra los commits que están en el rango entre dos commits específicos.\n",
    " * `git log --grep=\"<palabra>\"`: Busca en los mensajes de commit por una palabra o frase específica.\n",
    " * `git log -p`: Muestra las diferencias (en forma de parche) introducidas en cada commit.\n",
    " * `git log -n <número>`: Muestra los últimos número de commits. Por ejemplo, git log -n 5 mostrará los últimos 5 commits.\n",
    " * `git log --stat`: Muestra las estadísticas de cambios en archivos para cada commit, como el número de líneas añadidas y eliminadas.\n",
    "\n",
    "Por ejemplo una manera cómoda de vver el histórico es usar `git log --graph --oneline --decorate`"
   ]
  },
  {
   "cell_type": "code",
   "execution_count": 34,
   "metadata": {},
   "outputs": [
    {
     "name": "stdout",
     "output_type": "stream",
     "text": [
      "* \u001b[33m6e99e73\u001b[m\u001b[33m (\u001b[m\u001b[1;36mHEAD -> \u001b[m\u001b[1;32mmaster\u001b[m\u001b[33m)\u001b[m Segundo commit, hola.py\n",
      "* \u001b[33m1c95e4f\u001b[m Primer commit, hola.py\n"
     ]
    }
   ],
   "source": [
    "!cd notebook_git && git log --graph --oneline --decorate"
   ]
  },
  {
   "attachments": {},
   "cell_type": "markdown",
   "metadata": {},
   "source": [
    "Podemos ver que en vez de darnos el hash entero nos da solo unos pocos números, esto es porque de momento el repositorio tiene tan poca historia, que con esos pocos números es suficiente, si quisiésemos volver al punto anterior, en vez de introducir el hash entero (`7c448f69e30ab1b5783f5cf9ee3ae5bc362ecd4d`), con introducir solo `7c448f6` valdría"
   ]
  },
  {
   "attachments": {},
   "cell_type": "markdown",
   "metadata": {},
   "source": [
    "Más adelante hablaremos sobre las ramas, pero ahora vamos a ver qué es el `HEAD`"
   ]
  },
  {
   "attachments": {},
   "cell_type": "markdown",
   "metadata": {},
   "source": [
    "### HEAD"
   ]
  },
  {
   "attachments": {},
   "cell_type": "markdown",
   "metadata": {},
   "source": [
    "Mientras desarrollábamos hemos podido hacer cambios y commitearlos, es decir, hemos ido rellenando el album de fotos de nuestro código. `HEAD` es la posición en el album en la que estamos.\n",
    "\n",
    "Normalmente es la última posición de todos los commits."
   ]
  },
  {
   "attachments": {},
   "cell_type": "markdown",
   "metadata": {},
   "source": [
    "Si queremos saber en qué punto estamos lo podemos hacer mediante `git rev-parse HEAD`"
   ]
  },
  {
   "cell_type": "code",
   "execution_count": 35,
   "metadata": {},
   "outputs": [
    {
     "name": "stdout",
     "output_type": "stream",
     "text": [
      "6e99e73cf0c5474078cc9f328ee6a54fb9ffb169\n"
     ]
    }
   ],
   "source": [
    "!cd notebook_git && git rev-parse HEAD"
   ]
  },
  {
   "attachments": {},
   "cell_type": "markdown",
   "metadata": {},
   "source": [
    "Como se puede ver, el hash obtenido coincide con el último obtenido al hacer `git log`"
   ]
  },
  {
   "cell_type": "code",
   "execution_count": 36,
   "metadata": {},
   "outputs": [
    {
     "name": "stdout",
     "output_type": "stream",
     "text": [
      "\u001b[33mcommit 6e99e73cf0c5474078cc9f328ee6a54fb9ffb169\u001b[m\u001b[33m (\u001b[m\u001b[1;36mHEAD -> \u001b[m\u001b[1;32mmaster\u001b[m\u001b[33m)\u001b[m\n",
      "Author: maximofn <maximofn@gmail.com>\n",
      "Date:   Sun Apr 16 02:29:04 2023 +0200\n",
      "\n",
      "    Segundo commit, hola.py\n",
      "\n",
      "\u001b[33mcommit 1c95e4fd8388ceedee368e0121c4b0ef4900c2ac\u001b[m\n",
      "Author: maximofn <maximofn@gmail.com>\n",
      "Date:   Sun Apr 16 02:28:44 2023 +0200\n",
      "\n",
      "    Primer commit, hola.py\n"
     ]
    }
   ],
   "source": [
    "!cd notebook_git && git log"
   ]
  },
  {
   "attachments": {},
   "cell_type": "markdown",
   "metadata": {},
   "source": [
    "### Modificar un commit (`git commit --amend`)"
   ]
  },
  {
   "attachments": {},
   "cell_type": "markdown",
   "metadata": {},
   "source": [
    "Puede que queramos modificar un commit, porque queramos cambiar el mensaje, o porque queramos añadir más archivos al commit, de modo que veremos los dos casos"
   ]
  },
  {
   "attachments": {},
   "cell_type": "markdown",
   "metadata": {},
   "source": [
    "#### Modificar el mensaje de commit "
   ]
  },
  {
   "attachments": {},
   "cell_type": "markdown",
   "metadata": {},
   "source": [
    "Si solo se quiere modificar el mensaje, lo que tenemos que hacer es `git commit --amend -m \"Nuevo mensaje\"`, veamos un ejemplo vamos a modificar `hola.py`"
   ]
  },
  {
   "cell_type": "code",
   "execution_count": 37,
   "metadata": {},
   "outputs": [],
   "source": [
    "!cd notebook_git && echo \"print('Esta es la tercera linea')\" >> hola.py"
   ]
  },
  {
   "attachments": {},
   "cell_type": "markdown",
   "metadata": {},
   "source": [
    "Hacemos un `git status`"
   ]
  },
  {
   "cell_type": "code",
   "execution_count": 38,
   "metadata": {},
   "outputs": [
    {
     "name": "stdout",
     "output_type": "stream",
     "text": [
      "En la rama master\n",
      "Cambios no rastreados para el commit:\n",
      "  (usa \"git add <archivo>...\" para actualizar lo que será confirmado)\n",
      "  (usa \"git restore <archivo>...\" para descartar los cambios en el directorio de trabajo)\n",
      "\t\u001b[31mmodificados:     hola.py\u001b[m\n",
      "\n",
      "sin cambios agregados al commit (usa \"git add\" y/o \"git commit -a\")\n"
     ]
    }
   ],
   "source": [
    "!cd notebook_git && git status"
   ]
  },
  {
   "attachments": {},
   "cell_type": "markdown",
   "metadata": {},
   "source": [
    "Efectivamente vemos que `hola.py` tiene modificaciones, de modo que hacemos un commit con estas modificaciones"
   ]
  },
  {
   "cell_type": "code",
   "execution_count": 39,
   "metadata": {},
   "outputs": [
    {
     "name": "stdout",
     "output_type": "stream",
     "text": [
      "[master 60e2ffd] Tercer commot, hola.py\n",
      " 1 file changed, 1 insertion(+)\n"
     ]
    }
   ],
   "source": [
    "!cd notebook_git && git commit -am \"Tercer commot, hola.py\""
   ]
  },
  {
   "attachments": {},
   "cell_type": "markdown",
   "metadata": {},
   "source": [
    "Vamos a ver el historial de commits"
   ]
  },
  {
   "cell_type": "code",
   "execution_count": 40,
   "metadata": {},
   "outputs": [
    {
     "name": "stdout",
     "output_type": "stream",
     "text": [
      "* \u001b[33m60e2ffd\u001b[m\u001b[33m (\u001b[m\u001b[1;36mHEAD -> \u001b[m\u001b[1;32mmaster\u001b[m\u001b[33m)\u001b[m Tercer commot, hola.py\n",
      "* \u001b[33m6e99e73\u001b[m Segundo commit, hola.py\n",
      "* \u001b[33m1c95e4f\u001b[m Primer commit, hola.py\n"
     ]
    }
   ],
   "source": [
    "!cd notebook_git && git log --graph --oneline --decorate"
   ]
  },
  {
   "attachments": {},
   "cell_type": "markdown",
   "metadata": {},
   "source": [
    "**Oh no!** hemos escrito `commot` en vez de `commit`, así que vamos a modificar el mensaje"
   ]
  },
  {
   "cell_type": "code",
   "execution_count": 41,
   "metadata": {},
   "outputs": [
    {
     "name": "stdout",
     "output_type": "stream",
     "text": [
      "[master c4930d7] Tercer commit, hola.py\n",
      " Date: Sun Apr 16 02:29:59 2023 +0200\n",
      " 1 file changed, 1 insertion(+)\n"
     ]
    }
   ],
   "source": [
    "!cd notebook_git && git commit --amend -m \"Tercer commit, hola.py\""
   ]
  },
  {
   "attachments": {},
   "cell_type": "markdown",
   "metadata": {},
   "source": [
    "Volvemos a ver el hostorial"
   ]
  },
  {
   "cell_type": "code",
   "execution_count": 42,
   "metadata": {},
   "outputs": [
    {
     "name": "stdout",
     "output_type": "stream",
     "text": [
      "* \u001b[33mc4930d7\u001b[m\u001b[33m (\u001b[m\u001b[1;36mHEAD -> \u001b[m\u001b[1;32mmaster\u001b[m\u001b[33m)\u001b[m Tercer commit, hola.py\n",
      "* \u001b[33m6e99e73\u001b[m Segundo commit, hola.py\n",
      "* \u001b[33m1c95e4f\u001b[m Primer commit, hola.py\n"
     ]
    }
   ],
   "source": [
    "!cd notebook_git && git log --graph --oneline --decorate"
   ]
  },
  {
   "attachments": {},
   "cell_type": "markdown",
   "metadata": {},
   "source": [
    "Vemos que ahora está bien"
   ]
  },
  {
   "attachments": {},
   "cell_type": "markdown",
   "metadata": {},
   "source": [
    "#### Añadir archivos al último commit"
   ]
  },
  {
   "attachments": {},
   "cell_type": "markdown",
   "metadata": {},
   "source": [
    "Supongamos que se nos ha olvidado añadir un archivo al último commit, simplemente hacemos un `git add` con ese archivo y hacemos `git commit --amend -m \"mensaje\"`"
   ]
  },
  {
   "attachments": {},
   "cell_type": "markdown",
   "metadata": {},
   "source": [
    "Vamos a crear dos archivos nuevos"
   ]
  },
  {
   "cell_type": "code",
   "execution_count": 43,
   "metadata": {},
   "outputs": [],
   "source": [
    "!cd notebook_git && echo \"print('Este es el archivo 1')\" > archivo1.py"
   ]
  },
  {
   "cell_type": "code",
   "execution_count": 44,
   "metadata": {},
   "outputs": [],
   "source": [
    "!cd notebook_git && echo \"print('Este es el archivo 2')\" > archivo2.py"
   ]
  },
  {
   "attachments": {},
   "cell_type": "markdown",
   "metadata": {},
   "source": [
    "Ahora hacemos commit solo de uno"
   ]
  },
  {
   "cell_type": "code",
   "execution_count": 45,
   "metadata": {},
   "outputs": [
    {
     "name": "stdout",
     "output_type": "stream",
     "text": [
      "[master 285b243] Commit con el archivo 1\n",
      " 1 file changed, 1 insertion(+)\n",
      " create mode 100644 archivo1.py\n"
     ]
    }
   ],
   "source": [
    "!cd notebook_git && git add archivo1.py && git commit -m \"Commit con el archivo 1\""
   ]
  },
  {
   "cell_type": "code",
   "execution_count": 46,
   "metadata": {},
   "outputs": [
    {
     "name": "stdout",
     "output_type": "stream",
     "text": [
      "En la rama master\n",
      "Archivos sin seguimiento:\n",
      "  (usa \"git add <archivo>...\" para incluirlo a lo que se será confirmado)\n",
      "\t\u001b[31marchivo2.py\u001b[m\n",
      "\n",
      "no hay nada agregado al commit pero hay archivos sin seguimiento presentes (usa \"git add\" para hacerles seguimiento)\n"
     ]
    }
   ],
   "source": [
    "!cd notebook_git && git status"
   ]
  },
  {
   "cell_type": "code",
   "execution_count": 47,
   "metadata": {},
   "outputs": [
    {
     "name": "stdout",
     "output_type": "stream",
     "text": [
      "* \u001b[33m285b243\u001b[m\u001b[33m (\u001b[m\u001b[1;36mHEAD -> \u001b[m\u001b[1;32mmaster\u001b[m\u001b[33m)\u001b[m Commit con el archivo 1\n",
      "* \u001b[33mc4930d7\u001b[m Tercer commit, hola.py\n",
      "* \u001b[33m6e99e73\u001b[m Segundo commit, hola.py\n",
      "* \u001b[33m1c95e4f\u001b[m Primer commit, hola.py\n"
     ]
    }
   ],
   "source": [
    "!cd notebook_git && git log --graph --oneline --decorate"
   ]
  },
  {
   "attachments": {},
   "cell_type": "markdown",
   "metadata": {},
   "source": [
    "Como vemos nos hemos dejado el archivo 2, de modo que modificamos el commit y añadimos el archivo 2"
   ]
  },
  {
   "cell_type": "code",
   "execution_count": 48,
   "metadata": {},
   "outputs": [],
   "source": [
    "!cd notebook_git && git add archivo2.py"
   ]
  },
  {
   "cell_type": "code",
   "execution_count": 49,
   "metadata": {},
   "outputs": [
    {
     "name": "stdout",
     "output_type": "stream",
     "text": [
      "[master 04ebd1f] Commit con los archivos 1 y 2\n",
      " Date: Sun Apr 16 02:30:26 2023 +0200\n",
      " 2 files changed, 2 insertions(+)\n",
      " create mode 100644 archivo1.py\n",
      " create mode 100644 archivo2.py\n"
     ]
    }
   ],
   "source": [
    "!cd notebook_git && git commit --amend -m \"Commit con los archivos 1 y 2\""
   ]
  },
  {
   "cell_type": "code",
   "execution_count": 50,
   "metadata": {},
   "outputs": [
    {
     "name": "stdout",
     "output_type": "stream",
     "text": [
      "En la rama master\n",
      "nada para hacer commit, el árbol de trabajo está limpio\n"
     ]
    }
   ],
   "source": [
    "!cd notebook_git && git status"
   ]
  },
  {
   "cell_type": "code",
   "execution_count": 51,
   "metadata": {},
   "outputs": [
    {
     "name": "stdout",
     "output_type": "stream",
     "text": [
      "* \u001b[33m04ebd1f\u001b[m\u001b[33m (\u001b[m\u001b[1;36mHEAD -> \u001b[m\u001b[1;32mmaster\u001b[m\u001b[33m)\u001b[m Commit con los archivos 1 y 2\n",
      "* \u001b[33mc4930d7\u001b[m Tercer commit, hola.py\n",
      "* \u001b[33m6e99e73\u001b[m Segundo commit, hola.py\n",
      "* \u001b[33m1c95e4f\u001b[m Primer commit, hola.py\n"
     ]
    }
   ],
   "source": [
    "!cd notebook_git && git log --graph --oneline --decorate"
   ]
  },
  {
   "attachments": {},
   "cell_type": "markdown",
   "metadata": {},
   "source": [
    "Ahora el último commit tiene los dos nuevos archivos"
   ]
  },
  {
   "attachments": {},
   "cell_type": "markdown",
   "metadata": {},
   "source": [
    "### Deshacer un commit (`git reset HEAD~1`)"
   ]
  },
  {
   "attachments": {},
   "cell_type": "markdown",
   "metadata": {},
   "source": [
    "Con este comando le decimos a git que retroceda una posición en el historial de commits. Hay dos opciones `--soft` que no borrará los cambios que hayamos hecho y `--hard` que sí lo hará"
   ]
  },
  {
   "attachments": {},
   "cell_type": "markdown",
   "metadata": {},
   "source": [
    "#### Deshacer un commit manteniendo los cambios (`git reset --soft HEAD~1`)"
   ]
  },
  {
   "attachments": {},
   "cell_type": "markdown",
   "metadata": {},
   "source": [
    "Vamos a crear un nuevo archivo"
   ]
  },
  {
   "cell_type": "code",
   "execution_count": 52,
   "metadata": {},
   "outputs": [],
   "source": [
    "!cd notebook_git && echo \"print('Este es el archivo 3')\" > archivo3.py"
   ]
  },
  {
   "attachments": {},
   "cell_type": "markdown",
   "metadata": {},
   "source": [
    "Hacemos un `git status`"
   ]
  },
  {
   "cell_type": "code",
   "execution_count": 53,
   "metadata": {},
   "outputs": [
    {
     "name": "stdout",
     "output_type": "stream",
     "text": [
      "En la rama master\n",
      "Archivos sin seguimiento:\n",
      "  (usa \"git add <archivo>...\" para incluirlo a lo que se será confirmado)\n",
      "\t\u001b[31marchivo3.py\u001b[m\n",
      "\n",
      "no hay nada agregado al commit pero hay archivos sin seguimiento presentes (usa \"git add\" para hacerles seguimiento)\n"
     ]
    }
   ],
   "source": [
    "!cd notebook_git && git status"
   ]
  },
  {
   "attachments": {},
   "cell_type": "markdown",
   "metadata": {},
   "source": [
    "Hacemos un commit añadiendo este archivo"
   ]
  },
  {
   "cell_type": "code",
   "execution_count": 54,
   "metadata": {},
   "outputs": [
    {
     "name": "stdout",
     "output_type": "stream",
     "text": [
      "[master 6dc7be6] Commit con el archivos 3\n",
      " 1 file changed, 1 insertion(+)\n",
      " create mode 100644 archivo3.py\n"
     ]
    }
   ],
   "source": [
    "!cd notebook_git && git add archivo3.py && git commit -m \"Commit con el archivos 3\""
   ]
  },
  {
   "cell_type": "code",
   "execution_count": 55,
   "metadata": {},
   "outputs": [
    {
     "name": "stdout",
     "output_type": "stream",
     "text": [
      "* \u001b[33m6dc7be6\u001b[m\u001b[33m (\u001b[m\u001b[1;36mHEAD -> \u001b[m\u001b[1;32mmaster\u001b[m\u001b[33m)\u001b[m Commit con el archivos 3\n",
      "* \u001b[33m04ebd1f\u001b[m Commit con los archivos 1 y 2\n",
      "* \u001b[33mc4930d7\u001b[m Tercer commit, hola.py\n",
      "* \u001b[33m6e99e73\u001b[m Segundo commit, hola.py\n",
      "* \u001b[33m1c95e4f\u001b[m Primer commit, hola.py\n"
     ]
    }
   ],
   "source": [
    "!cd notebook_git && git log --graph --oneline --decorate"
   ]
  },
  {
   "attachments": {},
   "cell_type": "markdown",
   "metadata": {},
   "source": [
    "Vemos que en el último commit se encuentra `archivo3.py`, vamos a eliminar el commit manteniendo `archivo3.py`"
   ]
  },
  {
   "cell_type": "code",
   "execution_count": 56,
   "metadata": {},
   "outputs": [],
   "source": [
    "!cd notebook_git && git reset --soft HEAD~1"
   ]
  },
  {
   "attachments": {},
   "cell_type": "markdown",
   "metadata": {},
   "source": [
    "Hacemos ahora un `git log` para ver si se ha eliminado el último commit"
   ]
  },
  {
   "cell_type": "code",
   "execution_count": 57,
   "metadata": {},
   "outputs": [
    {
     "name": "stdout",
     "output_type": "stream",
     "text": [
      "* \u001b[33m04ebd1f\u001b[m\u001b[33m (\u001b[m\u001b[1;36mHEAD -> \u001b[m\u001b[1;32mmaster\u001b[m\u001b[33m)\u001b[m Commit con los archivos 1 y 2\n",
      "* \u001b[33mc4930d7\u001b[m Tercer commit, hola.py\n",
      "* \u001b[33m6e99e73\u001b[m Segundo commit, hola.py\n",
      "* \u001b[33m1c95e4f\u001b[m Primer commit, hola.py\n"
     ]
    }
   ],
   "source": [
    "!cd notebook_git && git log --graph --oneline --decorate"
   ]
  },
  {
   "attachments": {},
   "cell_type": "markdown",
   "metadata": {},
   "source": [
    "Efectivamente vemos que se ha eliminado el último commit"
   ]
  },
  {
   "attachments": {},
   "cell_type": "markdown",
   "metadata": {},
   "source": [
    "Hacemos un `git status` para ver si se ha conservado `archivo3.py`"
   ]
  },
  {
   "cell_type": "code",
   "execution_count": 58,
   "metadata": {},
   "outputs": [
    {
     "name": "stdout",
     "output_type": "stream",
     "text": [
      "En la rama master\n",
      "Cambios a ser confirmados:\n",
      "  (usa \"git restore --staged <archivo>...\" para sacar del área de stage)\n",
      "\t\u001b[32mnuevos archivos: archivo3.py\u001b[m\n",
      "\n"
     ]
    }
   ],
   "source": [
    "!cd notebook_git && git status"
   ]
  },
  {
   "attachments": {},
   "cell_type": "markdown",
   "metadata": {},
   "source": [
    "Se ha mantenido"
   ]
  },
  {
   "attachments": {},
   "cell_type": "markdown",
   "metadata": {},
   "source": [
    "#### Deshacer un commit descartando los cambios (`git reset --hard HEAD~1`)"
   ]
  },
  {
   "attachments": {},
   "cell_type": "markdown",
   "metadata": {},
   "source": [
    "Tenemos `archivo3.py` que lo hemos creado y lo tenemos en el área de staged"
   ]
  },
  {
   "cell_type": "code",
   "execution_count": 59,
   "metadata": {},
   "outputs": [
    {
     "name": "stdout",
     "output_type": "stream",
     "text": [
      "En la rama master\n",
      "Cambios a ser confirmados:\n",
      "  (usa \"git restore --staged <archivo>...\" para sacar del área de stage)\n",
      "\t\u001b[32mnuevos archivos: archivo3.py\u001b[m\n",
      "\n"
     ]
    }
   ],
   "source": [
    "!cd notebook_git && git status"
   ]
  },
  {
   "attachments": {},
   "cell_type": "markdown",
   "metadata": {},
   "source": [
    "Por lo que hacemos un commit"
   ]
  },
  {
   "cell_type": "code",
   "execution_count": 60,
   "metadata": {},
   "outputs": [
    {
     "name": "stdout",
     "output_type": "stream",
     "text": [
      "[master 0147d65] Commit con el archivo 3\n",
      " 1 file changed, 1 insertion(+)\n",
      " create mode 100644 archivo3.py\n"
     ]
    }
   ],
   "source": [
    "!cd notebook_git && git commit -m \"Commit con el archivo 3\""
   ]
  },
  {
   "attachments": {},
   "cell_type": "markdown",
   "metadata": {},
   "source": [
    "Hacemos un `git log` para comprobar que hay un commit con este archivo"
   ]
  },
  {
   "cell_type": "code",
   "execution_count": 61,
   "metadata": {},
   "outputs": [
    {
     "name": "stdout",
     "output_type": "stream",
     "text": [
      "* \u001b[33m0147d65\u001b[m\u001b[33m (\u001b[m\u001b[1;36mHEAD -> \u001b[m\u001b[1;32mmaster\u001b[m\u001b[33m)\u001b[m Commit con el archivo 3\n",
      "* \u001b[33m04ebd1f\u001b[m Commit con los archivos 1 y 2\n",
      "* \u001b[33mc4930d7\u001b[m Tercer commit, hola.py\n",
      "* \u001b[33m6e99e73\u001b[m Segundo commit, hola.py\n",
      "* \u001b[33m1c95e4f\u001b[m Primer commit, hola.py\n"
     ]
    }
   ],
   "source": [
    "!cd notebook_git && git log --graph --oneline --decorate"
   ]
  },
  {
   "attachments": {},
   "cell_type": "markdown",
   "metadata": {},
   "source": [
    "Efectivamente hay un commit añadiendo `archivo3.py`. Ahora eliminamos este commit descartando `archivo3.py`"
   ]
  },
  {
   "cell_type": "code",
   "execution_count": 62,
   "metadata": {},
   "outputs": [
    {
     "name": "stdout",
     "output_type": "stream",
     "text": [
      "HEAD está ahora en 04ebd1f Commit con los archivos 1 y 2\n"
     ]
    }
   ],
   "source": [
    "!cd notebook_git && git reset --hard HEAD~1"
   ]
  },
  {
   "attachments": {},
   "cell_type": "markdown",
   "metadata": {},
   "source": [
    "Hacemos un `git log` para comprobar que se ha eliminado el último commit"
   ]
  },
  {
   "cell_type": "code",
   "execution_count": 63,
   "metadata": {},
   "outputs": [
    {
     "name": "stdout",
     "output_type": "stream",
     "text": [
      "* \u001b[33m04ebd1f\u001b[m\u001b[33m (\u001b[m\u001b[1;36mHEAD -> \u001b[m\u001b[1;32mmaster\u001b[m\u001b[33m)\u001b[m Commit con los archivos 1 y 2\n",
      "* \u001b[33mc4930d7\u001b[m Tercer commit, hola.py\n",
      "* \u001b[33m6e99e73\u001b[m Segundo commit, hola.py\n",
      "* \u001b[33m1c95e4f\u001b[m Primer commit, hola.py\n"
     ]
    }
   ],
   "source": [
    "!cd notebook_git && git log --graph --oneline --decorate"
   ]
  },
  {
   "attachments": {},
   "cell_type": "markdown",
   "metadata": {},
   "source": [
    "Se ha eliminado el commit con `archivo3.py`, ahora hacemos un `git status` para comprobar qué ha pasado con `archivo3.py`"
   ]
  },
  {
   "cell_type": "code",
   "execution_count": 64,
   "metadata": {},
   "outputs": [
    {
     "name": "stdout",
     "output_type": "stream",
     "text": [
      "En la rama master\n",
      "nada para hacer commit, el árbol de trabajo está limpio\n"
     ]
    }
   ],
   "source": [
    "!cd notebook_git && git status"
   ]
  },
  {
   "attachments": {},
   "cell_type": "markdown",
   "metadata": {},
   "source": [
    "No aparece `archivo3.py` como un archivo al que haya que hacer commit, vamos a ver si efectivamente se ha eliminado del todo"
   ]
  },
  {
   "cell_type": "code",
   "execution_count": 65,
   "metadata": {},
   "outputs": [],
   "source": [
    "!cd notebook_git && ls | grep archivo3"
   ]
  },
  {
   "attachments": {},
   "cell_type": "markdown",
   "metadata": {},
   "source": [
    "Efectivamente se ha eliminado `archivo3.py` del sistema de ficheros"
   ]
  },
  {
   "attachments": {},
   "cell_type": "markdown",
   "metadata": {},
   "source": [
    "### Ignorar archivos (`.gitignore`)"
   ]
  },
  {
   "attachments": {},
   "cell_type": "markdown",
   "metadata": {},
   "source": [
    "Supongamos que tenemos un archivo con `API key`s, este archivo en realidad no queremos que se guarde en el repositorio, porque si luego compartimos este repositorio, cualquiera tendría acceso a estas claves, por lo que hay que decirle a git que no haga seguimiento de este archivo\n",
    "\n",
    "Esto se hace con el archivo `.gitignore`, en el se añade la ruta de los archivos o directorios que no queremos que git haga seguimiento\n",
    "\n",
    "Vamos a verlo"
   ]
  },
  {
   "attachments": {},
   "cell_type": "markdown",
   "metadata": {},
   "source": [
    "Creamos el archivo con las claves"
   ]
  },
  {
   "cell_type": "code",
   "execution_count": 66,
   "metadata": {},
   "outputs": [],
   "source": [
    "!cd notebook_git && touch api_keys.py"
   ]
  },
  {
   "attachments": {},
   "cell_type": "markdown",
   "metadata": {},
   "source": [
    "Si hacemos `git status` vemos que git lo contempla"
   ]
  },
  {
   "cell_type": "code",
   "execution_count": 67,
   "metadata": {},
   "outputs": [
    {
     "name": "stdout",
     "output_type": "stream",
     "text": [
      "En la rama master\n",
      "Archivos sin seguimiento:\n",
      "  (usa \"git add <archivo>...\" para incluirlo a lo que se será confirmado)\n",
      "\t\u001b[31mapi_keys.py\u001b[m\n",
      "\n",
      "no hay nada agregado al commit pero hay archivos sin seguimiento presentes (usa \"git add\" para hacerles seguimiento)\n"
     ]
    }
   ],
   "source": [
    "!cd notebook_git && git status"
   ]
  },
  {
   "attachments": {},
   "cell_type": "markdown",
   "metadata": {},
   "source": [
    "Se no hacemos nada puee que un día hagamos un `git add .` y lo metamos en el repositorio, así que por seguridad hay que decirle a git que no siga este archivo, para ello, lo que hacemos es crear el `.gitignore` añadiendo este archivo"
   ]
  },
  {
   "cell_type": "code",
   "execution_count": 68,
   "metadata": {},
   "outputs": [],
   "source": [
    "!cd notebook_git && echo \"api_keys.py\" >> .gitignore"
   ]
  },
  {
   "attachments": {},
   "cell_type": "markdown",
   "metadata": {},
   "source": [
    "Veamos qué pasa si ahora hacemos `git status`"
   ]
  },
  {
   "cell_type": "code",
   "execution_count": 69,
   "metadata": {},
   "outputs": [
    {
     "name": "stdout",
     "output_type": "stream",
     "text": [
      "En la rama master\n",
      "Archivos sin seguimiento:\n",
      "  (usa \"git add <archivo>...\" para incluirlo a lo que se será confirmado)\n",
      "\t\u001b[31m.gitignore\u001b[m\n",
      "\n",
      "no hay nada agregado al commit pero hay archivos sin seguimiento presentes (usa \"git add\" para hacerles seguimiento)\n"
     ]
    }
   ],
   "source": [
    "!cd notebook_git && git status"
   ]
  },
  {
   "attachments": {},
   "cell_type": "markdown",
   "metadata": {},
   "source": [
    "Vemos que git ha dejado de contemplar `api_keys.py`, pero sí que contempla `.gitignore`, por lo que hacemos un commit para añadir `.gitignore`"
   ]
  },
  {
   "cell_type": "code",
   "execution_count": 70,
   "metadata": {},
   "outputs": [
    {
     "name": "stdout",
     "output_type": "stream",
     "text": [
      "[master 0b09cfa] Añadido .gitignore\n",
      " 1 file changed, 1 insertion(+)\n",
      " create mode 100644 .gitignore\n"
     ]
    }
   ],
   "source": [
    "!cd notebook_git && git add .gitignore && git commit -m \"Añadido .gitignore\""
   ]
  },
  {
   "attachments": {},
   "cell_type": "markdown",
   "metadata": {},
   "source": [
    "#### ¿Qué archivos añadir al `.gitignore`?"
   ]
  },
  {
   "attachments": {},
   "cell_type": "markdown",
   "metadata": {},
   "source": [
    " * Archivos que tengan credenciales o llaves de API (no deberías subirlas al repositorio, simplemente inyectarlas por variable de entorno)\n",
    " * Carpetas de configuración de tu editor (`/.vscode`)\n",
    " * Archivos de registro (log files)\n",
    " * Archivos de sistema como `.DS_Store`\n",
    " * Carpetas generadas con archivos estáticos o compilaciones como `/dist` o `/build`\n",
    " * Dependencias que pueden ser descargadas (`/node_modules`)\n",
    " * Coverage del testing (`/coverage`)"
   ]
  },
  {
   "attachments": {},
   "cell_type": "markdown",
   "metadata": {},
   "source": [
    "#### ¿Cómo ignorar siempre los mismos archivos?"
   ]
  },
  {
   "attachments": {},
   "cell_type": "markdown",
   "metadata": {},
   "source": [
    "Si por ejemplo tu IDE siempre genera los mismos arhivos de configuración, estaría bien poderle decir a git que siempre ignore esos archivos, para ello creamos un `.gitignore` global"
   ]
  },
  {
   "cell_type": "code",
   "execution_count": 42,
   "metadata": {},
   "outputs": [],
   "source": [
    "!touch ~/.gitignore_global"
   ]
  },
  {
   "attachments": {},
   "cell_type": "markdown",
   "metadata": {},
   "source": [
    "En mi caso voy a añadir el directorio `__pycache__/`"
   ]
  },
  {
   "cell_type": "code",
   "execution_count": 50,
   "metadata": {},
   "outputs": [],
   "source": [
    "!echo \"__pycache__/\" >> ~/.gitignore_global"
   ]
  },
  {
   "attachments": {},
   "cell_type": "markdown",
   "metadata": {},
   "source": [
    "Ahora hay que indicarle a git que ese es nuestro `.gitignore` global"
   ]
  },
  {
   "cell_type": "code",
   "execution_count": 54,
   "metadata": {},
   "outputs": [],
   "source": [
    "!git config --global core.excludesfile ~/.gitignore_global"
   ]
  },
  {
   "attachments": {},
   "cell_type": "markdown",
   "metadata": {},
   "source": [
    "Listo, a partir de ahora el directorio `__pycache__/` siempre será ignorado"
   ]
  },
  {
   "attachments": {},
   "cell_type": "markdown",
   "metadata": {},
   "source": [
    "GitHub tiene un [repositorio](https://github.com/github/gitignore) con `.gitignore`s oara muchos lenguajes, yo me he guiado de [este](https://github.com/github/gitignore/blob/main/Python.gitignore) para Python"
   ]
  },
  {
   "attachments": {},
   "cell_type": "markdown",
   "metadata": {},
   "source": [
    "### Eliminar un archivo de un commit"
   ]
  },
  {
   "attachments": {},
   "cell_type": "markdown",
   "metadata": {},
   "source": [
    "Vamos a ver cómo eliminar un archivo de un commit que hemos hecho. Primero creamos dos archivos y les hacemos commir"
   ]
  },
  {
   "cell_type": "code",
   "execution_count": 71,
   "metadata": {},
   "outputs": [],
   "source": [
    "!cd notebook_git && echo \"print('Este es el archivo 4')\" > archivo4.py"
   ]
  },
  {
   "cell_type": "code",
   "execution_count": 72,
   "metadata": {},
   "outputs": [],
   "source": [
    "!cd notebook_git && echo \"print('Este es el archivo 5')\" > archivo5.py"
   ]
  },
  {
   "attachments": {},
   "cell_type": "markdown",
   "metadata": {},
   "source": [
    "Hacemos un commit con los dos archivos"
   ]
  },
  {
   "cell_type": "code",
   "execution_count": 73,
   "metadata": {},
   "outputs": [
    {
     "name": "stdout",
     "output_type": "stream",
     "text": [
      "[master e3153a5] Commit con los archivos 4 y 5\n",
      " 2 files changed, 2 insertions(+)\n",
      " create mode 100644 archivo4.py\n",
      " create mode 100644 archivo5.py\n"
     ]
    }
   ],
   "source": [
    "!cd notebook_git && git add archivo4.py archivo5.py && git commit -m \"Commit con los archivos 4 y 5\""
   ]
  },
  {
   "cell_type": "code",
   "execution_count": 74,
   "metadata": {},
   "outputs": [
    {
     "name": "stdout",
     "output_type": "stream",
     "text": [
      "* \u001b[33me3153a5\u001b[m\u001b[33m (\u001b[m\u001b[1;36mHEAD -> \u001b[m\u001b[1;32mmaster\u001b[m\u001b[33m)\u001b[m Commit con los archivos 4 y 5\n",
      "* \u001b[33m0b09cfa\u001b[m Añadido .gitignore\n",
      "* \u001b[33m04ebd1f\u001b[m Commit con los archivos 1 y 2\n",
      "* \u001b[33mc4930d7\u001b[m Tercer commit, hola.py\n",
      "* \u001b[33m6e99e73\u001b[m Segundo commit, hola.py\n",
      "* \u001b[33m1c95e4f\u001b[m Primer commit, hola.py\n"
     ]
    }
   ],
   "source": [
    "!cd notebook_git && git log --graph --oneline --decorate"
   ]
  },
  {
   "attachments": {},
   "cell_type": "markdown",
   "metadata": {},
   "source": [
    "A partir de aquí hay dos opciones para eliminar un archivo de un commit:\n",
    " * Eliminar el archivo y crear un nuevo commit\n",
    " * Deshacer el commit y crearlo de nuevo sin el archivo"
   ]
  },
  {
   "attachments": {},
   "cell_type": "markdown",
   "metadata": {},
   "source": [
    "#### Eliminar el archivo y crear un nuevo commit"
   ]
  },
  {
   "attachments": {},
   "cell_type": "markdown",
   "metadata": {},
   "source": [
    "Supongamos que queremos eliminar el archivo `archivo5.py`, pues lo eliminamos con `git rm archivo5.py`"
   ]
  },
  {
   "cell_type": "code",
   "execution_count": 75,
   "metadata": {},
   "outputs": [
    {
     "name": "stdout",
     "output_type": "stream",
     "text": [
      "rm 'archivo5.py'\n"
     ]
    }
   ],
   "source": [
    "!cd notebook_git && git rm archivo5.py"
   ]
  },
  {
   "attachments": {},
   "cell_type": "markdown",
   "metadata": {},
   "source": [
    "Hagamos un `git status` a ver qué ocurre"
   ]
  },
  {
   "cell_type": "code",
   "execution_count": 76,
   "metadata": {},
   "outputs": [
    {
     "name": "stdout",
     "output_type": "stream",
     "text": [
      "En la rama master\n",
      "Cambios a ser confirmados:\n",
      "  (usa \"git restore --staged <archivo>...\" para sacar del área de stage)\n",
      "\t\u001b[32mborrados:        archivo5.py\u001b[m\n",
      "\n"
     ]
    }
   ],
   "source": [
    "!cd notebook_git && git status"
   ]
  },
  {
   "attachments": {},
   "cell_type": "markdown",
   "metadata": {},
   "source": [
    "Como vemos se ha borrado `archivo5.py`. Ahora creamos un nuevo commit"
   ]
  },
  {
   "cell_type": "code",
   "execution_count": 77,
   "metadata": {},
   "outputs": [
    {
     "name": "stdout",
     "output_type": "stream",
     "text": [
      "[master ea615a9] Eliminado archivo5.py\n",
      " 1 file changed, 1 deletion(-)\n",
      " delete mode 100644 archivo5.py\n"
     ]
    }
   ],
   "source": [
    "!cd notebook_git && git commit -m \"Eliminado archivo5.py\""
   ]
  },
  {
   "cell_type": "code",
   "execution_count": 78,
   "metadata": {},
   "outputs": [
    {
     "name": "stdout",
     "output_type": "stream",
     "text": [
      "* \u001b[33mea615a9\u001b[m\u001b[33m (\u001b[m\u001b[1;36mHEAD -> \u001b[m\u001b[1;32mmaster\u001b[m\u001b[33m)\u001b[m Eliminado archivo5.py\n",
      "* \u001b[33me3153a5\u001b[m Commit con los archivos 4 y 5\n",
      "* \u001b[33m0b09cfa\u001b[m Añadido .gitignore\n",
      "* \u001b[33m04ebd1f\u001b[m Commit con los archivos 1 y 2\n",
      "* \u001b[33mc4930d7\u001b[m Tercer commit, hola.py\n",
      "* \u001b[33m6e99e73\u001b[m Segundo commit, hola.py\n",
      "* \u001b[33m1c95e4f\u001b[m Primer commit, hola.py\n"
     ]
    }
   ],
   "source": [
    "!cd notebook_git && git log --graph --oneline --decorate"
   ]
  },
  {
   "attachments": {},
   "cell_type": "markdown",
   "metadata": {},
   "source": [
    "#### Deshacer el commit y crearlo de nuevo sin el archivo"
   ]
  },
  {
   "attachments": {},
   "cell_type": "markdown",
   "metadata": {},
   "source": [
    "Volvemos a crear dos archivos y hacer un commit"
   ]
  },
  {
   "cell_type": "code",
   "execution_count": 79,
   "metadata": {},
   "outputs": [],
   "source": [
    "!cd notebook_git && echo \"print('Este es el archivo 6')\" > archivo6.py && echo \"print('Este es el archivo 7')\" > archivo7.py"
   ]
  },
  {
   "cell_type": "code",
   "execution_count": 80,
   "metadata": {},
   "outputs": [
    {
     "name": "stdout",
     "output_type": "stream",
     "text": [
      "En la rama master\n",
      "Archivos sin seguimiento:\n",
      "  (usa \"git add <archivo>...\" para incluirlo a lo que se será confirmado)\n",
      "\t\u001b[31marchivo6.py\u001b[m\n",
      "\t\u001b[31marchivo7.py\u001b[m\n",
      "\n",
      "no hay nada agregado al commit pero hay archivos sin seguimiento presentes (usa \"git add\" para hacerles seguimiento)\n"
     ]
    }
   ],
   "source": [
    "!cd notebook_git && git status"
   ]
  },
  {
   "cell_type": "code",
   "execution_count": 81,
   "metadata": {},
   "outputs": [
    {
     "name": "stdout",
     "output_type": "stream",
     "text": [
      "[master d6dc485] Commit con los archivos 6 y 7\n",
      " 2 files changed, 2 insertions(+)\n",
      " create mode 100644 archivo6.py\n",
      " create mode 100644 archivo7.py\n"
     ]
    }
   ],
   "source": [
    "!cd notebook_git && git add archivo6.py archivo7.py && git commit -m \"Commit con los archivos 6 y 7\""
   ]
  },
  {
   "cell_type": "code",
   "execution_count": 82,
   "metadata": {},
   "outputs": [
    {
     "name": "stdout",
     "output_type": "stream",
     "text": [
      "* \u001b[33md6dc485\u001b[m\u001b[33m (\u001b[m\u001b[1;36mHEAD -> \u001b[m\u001b[1;32mmaster\u001b[m\u001b[33m)\u001b[m Commit con los archivos 6 y 7\n",
      "* \u001b[33mea615a9\u001b[m Eliminado archivo5.py\n",
      "* \u001b[33me3153a5\u001b[m Commit con los archivos 4 y 5\n",
      "* \u001b[33m0b09cfa\u001b[m Añadido .gitignore\n",
      "* \u001b[33m04ebd1f\u001b[m Commit con los archivos 1 y 2\n",
      "* \u001b[33mc4930d7\u001b[m Tercer commit, hola.py\n",
      "* \u001b[33m6e99e73\u001b[m Segundo commit, hola.py\n",
      "* \u001b[33m1c95e4f\u001b[m Primer commit, hola.py\n"
     ]
    }
   ],
   "source": [
    "!cd notebook_git && git log --graph --oneline --decorate"
   ]
  },
  {
   "attachments": {},
   "cell_type": "markdown",
   "metadata": {},
   "source": [
    "Primero deshacemos el último commit con `git reset --soft HEAD~1`"
   ]
  },
  {
   "cell_type": "code",
   "execution_count": 83,
   "metadata": {},
   "outputs": [],
   "source": [
    "!cd notebook_git && git reset --soft HEAD~1"
   ]
  },
  {
   "attachments": {},
   "cell_type": "markdown",
   "metadata": {},
   "source": [
    "Hacemos un `git status` para ver qué ha ocurrido"
   ]
  },
  {
   "cell_type": "code",
   "execution_count": 84,
   "metadata": {},
   "outputs": [
    {
     "name": "stdout",
     "output_type": "stream",
     "text": [
      "En la rama master\n",
      "Cambios a ser confirmados:\n",
      "  (usa \"git restore --staged <archivo>...\" para sacar del área de stage)\n",
      "\t\u001b[32mnuevos archivos: archivo6.py\u001b[m\n",
      "\t\u001b[32mnuevos archivos: archivo7.py\u001b[m\n",
      "\n"
     ]
    }
   ],
   "source": [
    "!cd notebook_git && git status"
   ]
  },
  {
   "attachments": {},
   "cell_type": "markdown",
   "metadata": {},
   "source": [
    "Vemos que he ha deshecho el commit, pero que los dos archivos se encuentran en el área de staged, por lo que para sacar del commir uno de los archivos, primero hay que sacarlo del área de staged, para ello hacemos `git reset archivo6.py`"
   ]
  },
  {
   "cell_type": "code",
   "execution_count": 85,
   "metadata": {},
   "outputs": [],
   "source": [
    "!cd notebook_git && git reset archivo6.py"
   ]
  },
  {
   "attachments": {},
   "cell_type": "markdown",
   "metadata": {},
   "source": [
    "Volvemos ha hacer un `git status`"
   ]
  },
  {
   "cell_type": "code",
   "execution_count": 86,
   "metadata": {},
   "outputs": [
    {
     "name": "stdout",
     "output_type": "stream",
     "text": [
      "En la rama master\n",
      "Cambios a ser confirmados:\n",
      "  (usa \"git restore --staged <archivo>...\" para sacar del área de stage)\n",
      "\t\u001b[32mnuevos archivos: archivo7.py\u001b[m\n",
      "\n",
      "Archivos sin seguimiento:\n",
      "  (usa \"git add <archivo>...\" para incluirlo a lo que se será confirmado)\n",
      "\t\u001b[31marchivo6.py\u001b[m\n",
      "\n"
     ]
    }
   ],
   "source": [
    "!cd notebook_git && git status"
   ]
  },
  {
   "attachments": {},
   "cell_type": "markdown",
   "metadata": {},
   "source": [
    "Vemos que `archivo7.py` está en el área de staged, mientras que `archivo6.py` ya no. Ahora podemos borrar archivo 6, para ello usamos `git clean`"
   ]
  },
  {
   "cell_type": "code",
   "execution_count": 87,
   "metadata": {},
   "outputs": [
    {
     "name": "stdout",
     "output_type": "stream",
     "text": [
      "Será borrado archivo6.py\n"
     ]
    }
   ],
   "source": [
    "!cd notebook_git && git clean -n"
   ]
  },
  {
   "cell_type": "code",
   "execution_count": 88,
   "metadata": {},
   "outputs": [
    {
     "name": "stdout",
     "output_type": "stream",
     "text": [
      "Borrando archivo6.py\n"
     ]
    }
   ],
   "source": [
    "!cd notebook_git && git clean -f"
   ]
  },
  {
   "attachments": {},
   "cell_type": "markdown",
   "metadata": {},
   "source": [
    "Volvemos a hacer un `git status`"
   ]
  },
  {
   "cell_type": "code",
   "execution_count": 89,
   "metadata": {},
   "outputs": [
    {
     "name": "stdout",
     "output_type": "stream",
     "text": [
      "En la rama master\n",
      "Cambios a ser confirmados:\n",
      "  (usa \"git restore --staged <archivo>...\" para sacar del área de stage)\n",
      "\t\u001b[32mnuevos archivos: archivo7.py\u001b[m\n",
      "\n"
     ]
    }
   ],
   "source": [
    "!cd notebook_git && git status"
   ]
  },
  {
   "attachments": {},
   "cell_type": "markdown",
   "metadata": {},
   "source": [
    "Como vemos `archiv6.py` ya no está, por lo que podemos hacer un nuevo commit"
   ]
  },
  {
   "cell_type": "code",
   "execution_count": 90,
   "metadata": {},
   "outputs": [
    {
     "name": "stdout",
     "output_type": "stream",
     "text": [
      "[master 4bb9d75] Commit con el archivo 7\n",
      " 1 file changed, 1 insertion(+)\n",
      " create mode 100644 archivo7.py\n"
     ]
    }
   ],
   "source": [
    "!cd notebook_git && git commit -m \"Commit con el archivo 7\""
   ]
  },
  {
   "cell_type": "code",
   "execution_count": 91,
   "metadata": {},
   "outputs": [
    {
     "name": "stdout",
     "output_type": "stream",
     "text": [
      "* \u001b[33m4bb9d75\u001b[m\u001b[33m (\u001b[m\u001b[1;36mHEAD -> \u001b[m\u001b[1;32mmaster\u001b[m\u001b[33m)\u001b[m Commit con el archivo 7\n",
      "* \u001b[33mea615a9\u001b[m Eliminado archivo5.py\n",
      "* \u001b[33me3153a5\u001b[m Commit con los archivos 4 y 5\n",
      "* \u001b[33m0b09cfa\u001b[m Añadido .gitignore\n",
      "* \u001b[33m04ebd1f\u001b[m Commit con los archivos 1 y 2\n",
      "* \u001b[33mc4930d7\u001b[m Tercer commit, hola.py\n",
      "* \u001b[33m6e99e73\u001b[m Segundo commit, hola.py\n",
      "* \u001b[33m1c95e4f\u001b[m Primer commit, hola.py\n"
     ]
    }
   ],
   "source": [
    "!cd notebook_git && git log --graph --oneline --decorate"
   ]
  },
  {
   "attachments": {},
   "cell_type": "markdown",
   "metadata": {},
   "source": [
    "Hemos eliminado el último commit y lo hemos sobreescrito con uno nuevo, eliminando el archivo que queríamos"
   ]
  },
  {
   "attachments": {},
   "cell_type": "markdown",
   "metadata": {},
   "source": [
    "### Histórico de cambios de un archivo (`git log <archivo>`)"
   ]
  },
  {
   "attachments": {},
   "cell_type": "markdown",
   "metadata": {},
   "source": [
    "Aunque antes hemos visto cómo podíamos ver el historial del repositorio con `git log` puede que no nos interese el historial de todo el repositorio. Puede que tengamos un bug en un archivo de código que al principio no teníamos, por lo que es posible que queramos ver solo el historial de ese archivo, para eso usamos `git log <archivo>`"
   ]
  },
  {
   "attachments": {},
   "cell_type": "markdown",
   "metadata": {},
   "source": [
    "Primero vemos los archivos que tenemos"
   ]
  },
  {
   "cell_type": "code",
   "execution_count": 92,
   "metadata": {},
   "outputs": [
    {
     "name": "stdout",
     "output_type": "stream",
     "text": [
      "api_keys.py  archivo1.py  archivo2.py  archivo4.py  archivo7.py  hola.py\n"
     ]
    }
   ],
   "source": [
    "!cd notebook_git && ls"
   ]
  },
  {
   "attachments": {},
   "cell_type": "markdown",
   "metadata": {},
   "source": [
    "Supongamos que solo queremos ver los cambios en `hola.py`, por lo que hacemos `git log hola.py`"
   ]
  },
  {
   "cell_type": "code",
   "execution_count": 93,
   "metadata": {},
   "outputs": [
    {
     "name": "stdout",
     "output_type": "stream",
     "text": [
      "* \u001b[33mc4930d7\u001b[m Tercer commit, hola.py\n",
      "* \u001b[33m6e99e73\u001b[m Segundo commit, hola.py\n",
      "* \u001b[33m1c95e4f\u001b[m Primer commit, hola.py\n"
     ]
    }
   ],
   "source": [
    "!cd notebook_git && git log --graph --oneline --decorate hola.py"
   ]
  },
  {
   "attachments": {},
   "cell_type": "markdown",
   "metadata": {},
   "source": [
    "Podemos ver que aparecen muchos menos resultados que si hubiésemos hecho `git log`"
   ]
  },
  {
   "cell_type": "code",
   "execution_count": 94,
   "metadata": {},
   "outputs": [
    {
     "name": "stdout",
     "output_type": "stream",
     "text": [
      "* \u001b[33m4bb9d75\u001b[m\u001b[33m (\u001b[m\u001b[1;36mHEAD -> \u001b[m\u001b[1;32mmaster\u001b[m\u001b[33m)\u001b[m Commit con el archivo 7\n",
      "* \u001b[33mea615a9\u001b[m Eliminado archivo5.py\n",
      "* \u001b[33me3153a5\u001b[m Commit con los archivos 4 y 5\n",
      "* \u001b[33m0b09cfa\u001b[m Añadido .gitignore\n",
      "* \u001b[33m04ebd1f\u001b[m Commit con los archivos 1 y 2\n",
      "* \u001b[33mc4930d7\u001b[m Tercer commit, hola.py\n",
      "* \u001b[33m6e99e73\u001b[m Segundo commit, hola.py\n",
      "* \u001b[33m1c95e4f\u001b[m Primer commit, hola.py\n"
     ]
    }
   ],
   "source": [
    "!cd notebook_git && git log --graph --oneline --decorate"
   ]
  },
  {
   "attachments": {},
   "cell_type": "markdown",
   "metadata": {},
   "source": [
    "### Ver modificaciones de un archivo en un punto concreto del historial (`git show <hash> <archivo>` o `git diff <archivo>`)"
   ]
  },
  {
   "attachments": {},
   "cell_type": "markdown",
   "metadata": {},
   "source": [
    "Supongamos que ya sabemos en qué punto se realizó un cambio en el archivo que contiene un bug, por lo que ahora queremos saber qué cambios se realizaron para saber qué puede estar causando el bug para ello podemos usar `git show <hash> <archivo>`"
   ]
  },
  {
   "attachments": {},
   "cell_type": "markdown",
   "metadata": {},
   "source": [
    "Veamos qué cambios se produjeron en `hola.py` en el hash `c4930d7`, es decir cuando se hizo el tercer commit"
   ]
  },
  {
   "cell_type": "code",
   "execution_count": 98,
   "metadata": {},
   "outputs": [
    {
     "name": "stdout",
     "output_type": "stream",
     "text": [
      "\u001b[33mcommit c4930d7267c3f8df389ab0cb1bda0b5fceabb5c2\u001b[m\n",
      "Author: maximofn <maximofn@gmail.com>\n",
      "Date:   Sun Apr 16 02:29:59 2023 +0200\n",
      "\n",
      "    Tercer commit, hola.py\n",
      "\n",
      "\u001b[1mdiff --git a/hola.py b/hola.py\u001b[m\n",
      "\u001b[1mindex 91dee80..33bdb99 100644\u001b[m\n",
      "\u001b[1m--- a/hola.py\u001b[m\n",
      "\u001b[1m+++ b/hola.py\u001b[m\n",
      "\u001b[36m@@ -1,2 +1,3 @@\u001b[m\n",
      " print('Hola mundo')\u001b[m\n",
      " print('He añadido una nueva linea')\u001b[m\n",
      "\u001b[32m+\u001b[m\u001b[32mprint('Esta es la tercera linea')\u001b[m\n"
     ]
    }
   ],
   "source": [
    "!cd notebook_git && git show c4930d7 hola.py"
   ]
  },
  {
   "attachments": {},
   "cell_type": "markdown",
   "metadata": {},
   "source": [
    "La manera de ver los cambios en git no son muy intuitivas, pero podemos ver que se ha añadido la línea `print('Esta es la tercera linea')`"
   ]
  },
  {
   "attachments": {},
   "cell_type": "markdown",
   "metadata": {},
   "source": [
    "Otra manera de ver cambios es con `git diff`, tenemos dos opciones, podemos ver los cambios del fichero en el momento actual con un punto concreto del historial, para ello hacemos `git diff <hash> <archivo>`.\n",
    "\n",
    "Por ejemplo, si queremos ver los cambios de `hola.py` de cuando se hizo el primer commit (hash `1c95e4f`) con la situación actual hay que introducir (`git diff 1c95e4f hola.py`)"
   ]
  },
  {
   "cell_type": "code",
   "execution_count": 99,
   "metadata": {},
   "outputs": [
    {
     "name": "stdout",
     "output_type": "stream",
     "text": [
      "\u001b[1mdiff --git a/hola.py b/hola.py\u001b[m\n",
      "\u001b[1mindex f140969..33bdb99 100644\u001b[m\n",
      "\u001b[1m--- a/hola.py\u001b[m\n",
      "\u001b[1m+++ b/hola.py\u001b[m\n",
      "\u001b[36m@@ -1 +1,3 @@\u001b[m\n",
      " print('Hola mundo')\u001b[m\n",
      "\u001b[32m+\u001b[m\u001b[32mprint('He añadido una nueva linea')\u001b[m\n",
      "\u001b[32m+\u001b[m\u001b[32mprint('Esta es la tercera linea')\u001b[m\n"
     ]
    }
   ],
   "source": [
    "!cd notebook_git && git diff 1c95e4f hola.py"
   ]
  },
  {
   "attachments": {},
   "cell_type": "markdown",
   "metadata": {},
   "source": [
    "Pero si lo que queremos es ver la diferencia entre un punto concreto del historial y otro punto concreto hay que introducir los hash de los dos momentos, es decir `git diff <hash1> <hash2> <archivo>`\n",
    "\n",
    "Si queremos ver los cambios de `hola.py` entre el segundo commit (hash `6e99e73`) y el primer commit (hash `1c95e4f`) tendríamos que introducir `git diff 1c95e4f 6e99e73 hola.py`"
   ]
  },
  {
   "cell_type": "code",
   "execution_count": 101,
   "metadata": {},
   "outputs": [
    {
     "name": "stdout",
     "output_type": "stream",
     "text": [
      "\u001b[1mdiff --git a/hola.py b/hola.py\u001b[m\n",
      "\u001b[1mindex f140969..91dee80 100644\u001b[m\n",
      "\u001b[1m--- a/hola.py\u001b[m\n",
      "\u001b[1m+++ b/hola.py\u001b[m\n",
      "\u001b[36m@@ -1 +1,2 @@\u001b[m\n",
      " print('Hola mundo')\u001b[m\n",
      "\u001b[32m+\u001b[m\u001b[32mprint('He añadido una nueva linea')\u001b[m\n"
     ]
    }
   ],
   "source": [
    "!cd notebook_git && git diff 1c95e4f 6e99e73 hola.py"
   ]
  },
  {
   "attachments": {},
   "cell_type": "markdown",
   "metadata": {},
   "source": [
    "Lo anterior nos muestra los cambios del segundo commit con respecto el primero, pero si lo que queremos es los cambios del primer commit con respecto el segundo, solo hay que poner los hash al revés de como los hemos puesto, es decir `git diff 6e99e73 1c95e4f hola.py`"
   ]
  },
  {
   "cell_type": "code",
   "execution_count": 102,
   "metadata": {},
   "outputs": [
    {
     "name": "stdout",
     "output_type": "stream",
     "text": [
      "\u001b[1mdiff --git a/hola.py b/hola.py\u001b[m\n",
      "\u001b[1mindex 91dee80..f140969 100644\u001b[m\n",
      "\u001b[1m--- a/hola.py\u001b[m\n",
      "\u001b[1m+++ b/hola.py\u001b[m\n",
      "\u001b[36m@@ -1,2 +1 @@\u001b[m\n",
      " print('Hola mundo')\u001b[m\n",
      "\u001b[31m-print('He añadido una nueva linea')\u001b[m\n"
     ]
    }
   ],
   "source": [
    "!cd notebook_git && git diff 6e99e73 1c95e4f hola.py"
   ]
  },
  {
   "attachments": {},
   "cell_type": "markdown",
   "metadata": {},
   "source": [
    "### Viaje al pasado (`git reset --hard <hash>` o `git reset --soft <hash>`)"
   ]
  },
  {
   "attachments": {},
   "cell_type": "markdown",
   "metadata": {},
   "source": [
    "Imaginemos que hemos encontrado que todo lo que hicimos después de generar el bug no sirve y tenemos que volver a trabajar desde ese punto, podemos volver a una posición del historial mediate `git reset --hard <hash>` (esto no mantendrá los cambios) o `git reset --soft <hash>` (esto sí mantendrá los cambios)"
   ]
  },
  {
   "attachments": {},
   "cell_type": "markdown",
   "metadata": {},
   "source": [
    "Primero veamos el historial"
   ]
  },
  {
   "cell_type": "code",
   "execution_count": 103,
   "metadata": {},
   "outputs": [
    {
     "name": "stdout",
     "output_type": "stream",
     "text": [
      "* \u001b[33m4bb9d75\u001b[m\u001b[33m (\u001b[m\u001b[1;36mHEAD -> \u001b[m\u001b[1;32mmaster\u001b[m\u001b[33m)\u001b[m Commit con el archivo 7\n",
      "* \u001b[33mea615a9\u001b[m Eliminado archivo5.py\n",
      "* \u001b[33me3153a5\u001b[m Commit con los archivos 4 y 5\n",
      "* \u001b[33m0b09cfa\u001b[m Añadido .gitignore\n",
      "* \u001b[33m04ebd1f\u001b[m Commit con los archivos 1 y 2\n",
      "* \u001b[33mc4930d7\u001b[m Tercer commit, hola.py\n",
      "* \u001b[33m6e99e73\u001b[m Segundo commit, hola.py\n",
      "* \u001b[33m1c95e4f\u001b[m Primer commit, hola.py\n"
     ]
    }
   ],
   "source": [
    "!cd notebook_git && git log --graph --oneline --decorate"
   ]
  },
  {
   "attachments": {},
   "cell_type": "markdown",
   "metadata": {},
   "source": [
    "Supongamos que queremos ir al momento en el que hicimos el tercer commit (hash `c4930d7`), además lo hacemos sin mantener los cambios, es decir, todas las modificaciones que hicimos después se borrarán, hacemos `git reset --hard c4930d7`"
   ]
  },
  {
   "attachments": {},
   "cell_type": "markdown",
   "metadata": {},
   "source": [
    "Primero hacemos `ls` para ver los archivos que tenemos ahora"
   ]
  },
  {
   "cell_type": "code",
   "execution_count": 104,
   "metadata": {},
   "outputs": [
    {
     "name": "stdout",
     "output_type": "stream",
     "text": [
      "api_keys.py  archivo1.py  archivo2.py  archivo4.py  archivo7.py  hola.py\n"
     ]
    }
   ],
   "source": [
    "!cd notebook_git && ls"
   ]
  },
  {
   "attachments": {},
   "cell_type": "markdown",
   "metadata": {},
   "source": [
    "Vamos al tercer commit"
   ]
  },
  {
   "cell_type": "code",
   "execution_count": 105,
   "metadata": {},
   "outputs": [
    {
     "name": "stdout",
     "output_type": "stream",
     "text": [
      "HEAD está ahora en c4930d7 Tercer commit, hola.py\n"
     ]
    }
   ],
   "source": [
    "!cd notebook_git && git reset --hard c4930d7"
   ]
  },
  {
   "attachments": {},
   "cell_type": "markdown",
   "metadata": {},
   "source": [
    "Si hacemos `ls` veremos que ya no tnemos ni `archivo1.py`, ni `archivo2.py`, ni `archivo4.py`, ni `archivo7.py`"
   ]
  },
  {
   "cell_type": "code",
   "execution_count": 106,
   "metadata": {},
   "outputs": [
    {
     "name": "stdout",
     "output_type": "stream",
     "text": [
      "api_keys.py  hola.py\n"
     ]
    }
   ],
   "source": [
    "!cd notebook_git && ls"
   ]
  },
  {
   "attachments": {},
   "cell_type": "markdown",
   "metadata": {},
   "source": [
    "### Regreso al futuro (`git reflog`)"
   ]
  },
  {
   "attachments": {},
   "cell_type": "markdown",
   "metadata": {},
   "source": [
    "Supongamos que nos hemos arrepentido y queremos volver a donde estábamos, al último punto en el historial, una manera sería volver a hacer `git reset --hard <hash>`. Pero imaginemos que no sabemos el hash, porque no hicimos `git log` antes y si lo hacemos ahora solo nos da información del historial hasta el tercer commit"
   ]
  },
  {
   "cell_type": "code",
   "execution_count": 107,
   "metadata": {},
   "outputs": [
    {
     "name": "stdout",
     "output_type": "stream",
     "text": [
      "* \u001b[33mc4930d7\u001b[m\u001b[33m (\u001b[m\u001b[1;36mHEAD -> \u001b[m\u001b[1;32mmaster\u001b[m\u001b[33m)\u001b[m Tercer commit, hola.py\n",
      "* \u001b[33m6e99e73\u001b[m Segundo commit, hola.py\n",
      "* \u001b[33m1c95e4f\u001b[m Primer commit, hola.py\n"
     ]
    }
   ],
   "source": [
    "!cd notebook_git && git log --graph --oneline --decorate"
   ]
  },
  {
   "attachments": {},
   "cell_type": "markdown",
   "metadata": {},
   "source": [
    "Aquí lo que podemos hacer es `git reflog`, que nos dará un historial incluyendo los saltos"
   ]
  },
  {
   "cell_type": "code",
   "execution_count": 108,
   "metadata": {},
   "outputs": [
    {
     "name": "stdout",
     "output_type": "stream",
     "text": [
      "\u001b[33mc4930d7\u001b[m\u001b[33m (\u001b[m\u001b[1;36mHEAD -> \u001b[m\u001b[1;32mmaster\u001b[m\u001b[33m)\u001b[m HEAD@{0}: reset: moving to c4930d7\n",
      "\u001b[33m4bb9d75\u001b[m HEAD@{1}: commit: Commit con el archivo 7\n",
      "\u001b[33mea615a9\u001b[m HEAD@{2}: reset: moving to HEAD~1\n",
      "\u001b[33md6dc485\u001b[m HEAD@{3}: commit: Commit con los archivos 6 y 7\n",
      "\u001b[33mea615a9\u001b[m HEAD@{4}: commit: Eliminado archivo5.py\n",
      "\u001b[33me3153a5\u001b[m HEAD@{5}: commit: Commit con los archivos 4 y 5\n",
      "\u001b[33m0b09cfa\u001b[m HEAD@{6}: commit: Añadido .gitignore\n",
      "\u001b[33m04ebd1f\u001b[m HEAD@{7}: reset: moving to HEAD~1\n",
      "\u001b[33m0147d65\u001b[m HEAD@{8}: commit: Commit con el archivo 3\n",
      "\u001b[33m04ebd1f\u001b[m HEAD@{9}: reset: moving to HEAD~1\n",
      "\u001b[33m6dc7be6\u001b[m HEAD@{10}: commit: Commit con el archivos 3\n",
      "\u001b[33m04ebd1f\u001b[m HEAD@{11}: commit (amend): Commit con los archivos 1 y 2\n",
      "\u001b[33m285b243\u001b[m HEAD@{12}: commit: Commit con el archivo 1\n",
      "\u001b[33mc4930d7\u001b[m\u001b[33m (\u001b[m\u001b[1;36mHEAD -> \u001b[m\u001b[1;32mmaster\u001b[m\u001b[33m)\u001b[m HEAD@{13}: commit (amend): Tercer commit, hola.py\n",
      "\u001b[33m60e2ffd\u001b[m HEAD@{14}: commit: Tercer commot, hola.py\n",
      "\u001b[33m6e99e73\u001b[m HEAD@{15}: commit: Segundo commit, hola.py\n",
      "\u001b[33m1c95e4f\u001b[m HEAD@{16}: commit (initial): Primer commit, hola.py\n"
     ]
    }
   ],
   "source": [
    "!cd notebook_git && git reflog"
   ]
  },
  {
   "attachments": {},
   "cell_type": "markdown",
   "metadata": {},
   "source": [
    "Podemos ver que nos dice que estábamos en el commit con hash `4bb9d75`, es decir el último commit que hicimos, y de ahí nos fuimos hasta el commit con hash `c4930d7`, que si te fijas, es el mismo hash que commit con mensaje `Tercer commit, hola.py`. Por lo que ya sabemos el hash del último commit, el `4bb9d75`, así que para volver a la posición del último commit hacemos `git reset --hard 4bb9d75`"
   ]
  },
  {
   "cell_type": "code",
   "execution_count": 109,
   "metadata": {},
   "outputs": [
    {
     "name": "stdout",
     "output_type": "stream",
     "text": [
      "HEAD está ahora en 4bb9d75 Commit con el archivo 7\n"
     ]
    }
   ],
   "source": [
    "!cd notebook_git && git reset --hard 4bb9d75"
   ]
  },
  {
   "attachments": {},
   "cell_type": "markdown",
   "metadata": {},
   "source": [
    "Si ahora volvemos a hacer un log"
   ]
  },
  {
   "cell_type": "code",
   "execution_count": 110,
   "metadata": {},
   "outputs": [
    {
     "name": "stdout",
     "output_type": "stream",
     "text": [
      "* \u001b[33m4bb9d75\u001b[m\u001b[33m (\u001b[m\u001b[1;36mHEAD -> \u001b[m\u001b[1;32mmaster\u001b[m\u001b[33m)\u001b[m Commit con el archivo 7\n",
      "* \u001b[33mea615a9\u001b[m Eliminado archivo5.py\n",
      "* \u001b[33me3153a5\u001b[m Commit con los archivos 4 y 5\n",
      "* \u001b[33m0b09cfa\u001b[m Añadido .gitignore\n",
      "* \u001b[33m04ebd1f\u001b[m Commit con los archivos 1 y 2\n",
      "* \u001b[33mc4930d7\u001b[m Tercer commit, hola.py\n",
      "* \u001b[33m6e99e73\u001b[m Segundo commit, hola.py\n",
      "* \u001b[33m1c95e4f\u001b[m Primer commit, hola.py\n"
     ]
    }
   ],
   "source": [
    "!cd notebook_git && git log --graph --oneline --decorate"
   ]
  },
  {
   "attachments": {},
   "cell_type": "markdown",
   "metadata": {},
   "source": [
    "Vemos que efectivamente estamos en la posición del último commit, *hemos regresado al futuro*"
   ]
  },
  {
   "attachments": {},
   "cell_type": "markdown",
   "metadata": {},
   "source": [
    "## Ramas"
   ]
  },
  {
   "attachments": {},
   "cell_type": "markdown",
   "metadata": {},
   "source": [
    "![branches](https://maximofn.com/wp-content/uploads/2023/04/GIT-Branchand-its-Operations.png)\n",
    "\n",
    "El uso de ramas es muy útil, ya que podemos empezar a desarrollar una nueva característica sin tener que modificar el código original"
   ]
  },
  {
   "attachments": {},
   "cell_type": "markdown",
   "metadata": {},
   "source": [
    "### Crear una rama (`git branch <branch name>`)"
   ]
  },
  {
   "attachments": {},
   "cell_type": "markdown",
   "metadata": {},
   "source": [
    " > **Nota**: Antes de nada hay que decir que para crear una rama en un repositorio debe haber al menos un commit, si se intenta crear una rama antes de hacer el primer commit recibiremos un error"
   ]
  },
  {
   "attachments": {},
   "cell_type": "markdown",
   "metadata": {},
   "source": [
    "Para crear una rama utilizamos el comando `git branch <nombre de la rama>`"
   ]
  },
  {
   "cell_type": "code",
   "execution_count": 111,
   "metadata": {},
   "outputs": [],
   "source": [
    "!cd notebook_git && git branch new_branch"
   ]
  },
  {
   "attachments": {},
   "cell_type": "markdown",
   "metadata": {},
   "source": [
    "### Listar ramas (`git branch`)"
   ]
  },
  {
   "attachments": {},
   "cell_type": "markdown",
   "metadata": {},
   "source": [
    "Hemos creado nuestra primera rama, podemos comprobar todas las ramas que tenemos creadas escribiéndo solo `git branch`"
   ]
  },
  {
   "cell_type": "code",
   "execution_count": 112,
   "metadata": {},
   "outputs": [
    {
     "name": "stdout",
     "output_type": "stream",
     "text": [
      "* \u001b[32mmaster\u001b[m\n",
      "  new_branch\u001b[m\n"
     ]
    }
   ],
   "source": [
    "!cd notebook_git && git branch"
   ]
  },
  {
   "attachments": {},
   "cell_type": "markdown",
   "metadata": {},
   "source": [
    "Además de listar nos dice con un asterisco `*` en qué rama estamos, en este caso en la rama `master`"
   ]
  },
  {
   "attachments": {},
   "cell_type": "markdown",
   "metadata": {},
   "source": [
    "### Renombrar ramas, adios a la rama `master` (`git branch -m <old name> <new name>`)"
   ]
  },
  {
   "attachments": {},
   "cell_type": "markdown",
   "metadata": {},
   "source": [
    "Históricamente en git se ha llamado `master` a la rama principal, pero esto tiene unas connotaciones historicas malas por el concepto de `master-slave` (`maestro-esclavo`), debido al sufrimiento que recibieron muchas personas, por lo que ahora se suele catalogar la rama principal como `main`, así que para cambiarle el nombre usamos `git branch -m master main`"
   ]
  },
  {
   "cell_type": "code",
   "execution_count": 113,
   "metadata": {},
   "outputs": [],
   "source": [
    "!cd notebook_git && git branch -m master main"
   ]
  },
  {
   "attachments": {},
   "cell_type": "markdown",
   "metadata": {},
   "source": [
    "Listamos las ramas"
   ]
  },
  {
   "cell_type": "code",
   "execution_count": 114,
   "metadata": {},
   "outputs": [
    {
     "name": "stdout",
     "output_type": "stream",
     "text": [
      "* \u001b[32mmain\u001b[m\n",
      "  new_branch\u001b[m\n"
     ]
    }
   ],
   "source": [
    "!cd notebook_git && git branch"
   ]
  },
  {
   "attachments": {},
   "cell_type": "markdown",
   "metadata": {},
   "source": [
    "Como vemos hemos podido cambiar el nombre de la rama principal de `master` a `main`"
   ]
  },
  {
   "attachments": {},
   "cell_type": "markdown",
   "metadata": {},
   "source": [
    "### Cambiar de rama (`git switch <branch>`)"
   ]
  },
  {
   "attachments": {},
   "cell_type": "markdown",
   "metadata": {},
   "source": [
    "Si queremos cambiar de rama solo hay que escribir `git switch <nombre de la rama>`"
   ]
  },
  {
   "cell_type": "code",
   "execution_count": 115,
   "metadata": {},
   "outputs": [
    {
     "name": "stdout",
     "output_type": "stream",
     "text": [
      "Cambiado a rama 'new_branch'\n"
     ]
    }
   ],
   "source": [
    "!cd notebook_git && git switch new_branch"
   ]
  },
  {
   "attachments": {},
   "cell_type": "markdown",
   "metadata": {},
   "source": [
    "Vamos a ver en qué rama estamos con `git branch`"
   ]
  },
  {
   "cell_type": "code",
   "execution_count": 116,
   "metadata": {},
   "outputs": [
    {
     "name": "stdout",
     "output_type": "stream",
     "text": [
      "  main\u001b[m\n",
      "* \u001b[32mnew_branch\u001b[m\n"
     ]
    }
   ],
   "source": [
    "!cd notebook_git && git branch"
   ]
  },
  {
   "attachments": {},
   "cell_type": "markdown",
   "metadata": {},
   "source": [
    "Como vemos hemos cambiado de rama a new_branch"
   ]
  },
  {
   "attachments": {},
   "cell_type": "markdown",
   "metadata": {},
   "source": [
    "Si queremos crear y cambiar de rama en un solo comando podemos usar `git switch -c <nombre de la rama>`"
   ]
  },
  {
   "cell_type": "code",
   "execution_count": 117,
   "metadata": {},
   "outputs": [
    {
     "name": "stdout",
     "output_type": "stream",
     "text": [
      "Cambiado a nueva rama 'new_branch2'\n"
     ]
    }
   ],
   "source": [
    "!cd notebook_git && git switch -c new_branch2"
   ]
  },
  {
   "attachments": {},
   "cell_type": "markdown",
   "metadata": {},
   "source": [
    "Vamos a ver en qué rama estamos"
   ]
  },
  {
   "cell_type": "code",
   "execution_count": 118,
   "metadata": {},
   "outputs": [
    {
     "name": "stdout",
     "output_type": "stream",
     "text": [
      "  main\u001b[m\n",
      "  new_branch\u001b[m\n",
      "* \u001b[32mnew_branch2\u001b[m\n"
     ]
    }
   ],
   "source": [
    "!cd notebook_git && git branch"
   ]
  },
  {
   "attachments": {},
   "cell_type": "markdown",
   "metadata": {},
   "source": [
    "Hemos creado y cambiado de rama con un solo comando"
   ]
  },
  {
   "attachments": {},
   "cell_type": "markdown",
   "metadata": {},
   "source": [
    "### Obtener la rama en la que estamos (`git branch --show-current`)"
   ]
  },
  {
   "attachments": {},
   "cell_type": "markdown",
   "metadata": {},
   "source": [
    "Como hemos visto hasta ahora con `git branch` podemos obtener una lista de todas las ramas y además ver en la que estamos actualmente, pero en el caso en el que tengamos una gran cantidad de ramas, cosa que se puede dar en un equipo de trabajo con mucha gente, está bien obtener la rama y no obtener una lista de todas, para eso usamos `git branch --show-current`"
   ]
  },
  {
   "cell_type": "code",
   "execution_count": 119,
   "metadata": {},
   "outputs": [
    {
     "name": "stdout",
     "output_type": "stream",
     "text": [
      "new_branch2\n"
     ]
    }
   ],
   "source": [
    "!cd notebook_git && git branch --show-current"
   ]
  },
  {
   "attachments": {},
   "cell_type": "markdown",
   "metadata": {},
   "source": [
    "### Lista de ramas más recientes (`git branch --sort=-committerdate`)"
   ]
  },
  {
   "attachments": {},
   "cell_type": "markdown",
   "metadata": {},
   "source": [
    "En caso de tener muchas ramas a lo mejor nos interesa saber cuales son las más recientes para ver cuales han sido las últimas creadas y donde debería estar lo último en desarrollo, para eso usamos `git branch --sort=-committerdate`"
   ]
  },
  {
   "cell_type": "code",
   "execution_count": 120,
   "metadata": {},
   "outputs": [
    {
     "name": "stdout",
     "output_type": "stream",
     "text": [
      "* \u001b[32mnew_branch2\u001b[m\n",
      "  new_branch\u001b[m\n",
      "  main\u001b[m\n"
     ]
    }
   ],
   "source": [
    "!cd notebook_git && git branch --sort=-committerdate"
   ]
  },
  {
   "attachments": {},
   "cell_type": "markdown",
   "metadata": {},
   "source": [
    "Como vemos las ha ordenado en orden inverso a cuando las hemos creado"
   ]
  },
  {
   "attachments": {},
   "cell_type": "markdown",
   "metadata": {},
   "source": [
    "### El comando deprecado `git checkout`"
   ]
  },
  {
   "attachments": {},
   "cell_type": "markdown",
   "metadata": {},
   "source": [
    "Hasta hace un tiempo el comando para crear ramas y cambiar entre ellas era `git checkout`, pero este comando no solo hace esto, sino que también restaura el directorio de trabajo. Pero esto va en contra de la filosofía de Linux, por lo que se crearon los comando `git branch`, `git swicth` y `git restore` para dividir esta funcionalidad"
   ]
  },
  {
   "attachments": {},
   "cell_type": "markdown",
   "metadata": {},
   "source": [
    "### Fusionando ramas (`git merge`)"
   ]
  },
  {
   "attachments": {},
   "cell_type": "markdown",
   "metadata": {},
   "source": [
    "Como hemos dicho, el crear ramas es muy util para desarrollar nuevas características sin afectar al resto del equipo. Pero cuando estas están terminadas hay que llevarlas a la rama principal, para ello utilizamos el comando `git merge <rama>`\n",
    "\n",
    " > **Importante**: Tenemos que estar en la rama que va a adoptar los cambios, es decir, si queremos fusionar los cambios realizados en la rama `new_branch2` en la rama `main`, primero tenemos que asegurarnos de estar en la rama `main`"
   ]
  },
  {
   "attachments": {},
   "cell_type": "markdown",
   "metadata": {},
   "source": [
    "Primero comprobamos en qué rama estamos"
   ]
  },
  {
   "cell_type": "code",
   "execution_count": 121,
   "metadata": {},
   "outputs": [
    {
     "name": "stdout",
     "output_type": "stream",
     "text": [
      "new_branch2\n"
     ]
    }
   ],
   "source": [
    "!cd notebook_git && git branch --show-current"
   ]
  },
  {
   "attachments": {},
   "cell_type": "markdown",
   "metadata": {},
   "source": [
    "Eliminamos `archivo7.py`"
   ]
  },
  {
   "cell_type": "code",
   "execution_count": 122,
   "metadata": {},
   "outputs": [
    {
     "name": "stdout",
     "output_type": "stream",
     "text": [
      "rm 'archivo7.py'\n"
     ]
    }
   ],
   "source": [
    "!cd notebook_git && git rm archivo7.py"
   ]
  },
  {
   "attachments": {},
   "cell_type": "markdown",
   "metadata": {},
   "source": [
    "Hacemos un commit con los cambios"
   ]
  },
  {
   "cell_type": "code",
   "execution_count": 123,
   "metadata": {},
   "outputs": [
    {
     "name": "stdout",
     "output_type": "stream",
     "text": [
      "[new_branch2 5168f78] Eliminado archivo7.py\n",
      " 1 file changed, 1 deletion(-)\n",
      " delete mode 100644 archivo7.py\n"
     ]
    }
   ],
   "source": [
    "!cd notebook_git && git commit -am \"Eliminado archivo7.py\""
   ]
  },
  {
   "attachments": {},
   "cell_type": "markdown",
   "metadata": {},
   "source": [
    "Si hacemos un `ls` vemos que `archivo7.py` ya no está"
   ]
  },
  {
   "cell_type": "code",
   "execution_count": 124,
   "metadata": {},
   "outputs": [],
   "source": [
    "!cd notebook_git && ls | grep archivo7"
   ]
  },
  {
   "attachments": {},
   "cell_type": "markdown",
   "metadata": {},
   "source": [
    "Creamos un nuevo archivo y hacemos un commit"
   ]
  },
  {
   "cell_type": "code",
   "execution_count": 125,
   "metadata": {},
   "outputs": [
    {
     "name": "stdout",
     "output_type": "stream",
     "text": [
      "[new_branch2 564ccfb] Commit con el archivo 8\n",
      " 1 file changed, 0 insertions(+), 0 deletions(-)\n",
      " create mode 100644 archivo8.py\n"
     ]
    }
   ],
   "source": [
    "!cd notebook_git && touch archivo8.py && git add archivo8.py && git commit -m \"Commit con el archivo 8\""
   ]
  },
  {
   "attachments": {},
   "cell_type": "markdown",
   "metadata": {},
   "source": [
    "Hemos hecho dos commits nuevos en esta rama, veamoslo con `git log`"
   ]
  },
  {
   "cell_type": "code",
   "execution_count": 126,
   "metadata": {},
   "outputs": [
    {
     "name": "stdout",
     "output_type": "stream",
     "text": [
      "* \u001b[33m564ccfb\u001b[m\u001b[33m (\u001b[m\u001b[1;36mHEAD -> \u001b[m\u001b[1;32mnew_branch2\u001b[m\u001b[33m)\u001b[m Commit con el archivo 8\n",
      "* \u001b[33m5168f78\u001b[m Eliminado archivo7.py\n",
      "* \u001b[33m4bb9d75\u001b[m\u001b[33m (\u001b[m\u001b[1;32mnew_branch\u001b[m\u001b[33m, \u001b[m\u001b[1;32mmain\u001b[m\u001b[33m)\u001b[m Commit con el archivo 7\n",
      "* \u001b[33mea615a9\u001b[m Eliminado archivo5.py\n",
      "* \u001b[33me3153a5\u001b[m Commit con los archivos 4 y 5\n",
      "* \u001b[33m0b09cfa\u001b[m Añadido .gitignore\n",
      "* \u001b[33m04ebd1f\u001b[m Commit con los archivos 1 y 2\n",
      "* \u001b[33mc4930d7\u001b[m Tercer commit, hola.py\n",
      "* \u001b[33m6e99e73\u001b[m Segundo commit, hola.py\n",
      "* \u001b[33m1c95e4f\u001b[m Primer commit, hola.py\n"
     ]
    }
   ],
   "source": [
    "!cd notebook_git && git log --graph --oneline --decorate"
   ]
  },
  {
   "attachments": {},
   "cell_type": "markdown",
   "metadata": {},
   "source": [
    "Cambiamos a la rama principal"
   ]
  },
  {
   "cell_type": "code",
   "execution_count": 127,
   "metadata": {},
   "outputs": [
    {
     "name": "stdout",
     "output_type": "stream",
     "text": [
      "Cambiado a rama 'main'\n"
     ]
    }
   ],
   "source": [
    "!cd notebook_git && git switch main"
   ]
  },
  {
   "attachments": {},
   "cell_type": "markdown",
   "metadata": {},
   "source": [
    "Si ahora hacemos otra vez `ls` veremos que `archivo7.py` sí está"
   ]
  },
  {
   "cell_type": "code",
   "execution_count": 128,
   "metadata": {},
   "outputs": [
    {
     "name": "stdout",
     "output_type": "stream",
     "text": [
      "archivo7.py\n"
     ]
    }
   ],
   "source": [
    "!cd notebook_git && ls | grep archivo7"
   ]
  },
  {
   "attachments": {},
   "cell_type": "markdown",
   "metadata": {},
   "source": [
    "Fusionamos las ramas, traemos los cambios de `new_branch2` a `main`"
   ]
  },
  {
   "cell_type": "code",
   "execution_count": 129,
   "metadata": {},
   "outputs": [
    {
     "name": "stdout",
     "output_type": "stream",
     "text": [
      "Actualizando 4bb9d75..564ccfb\n",
      "Fast-forward\n",
      " archivo7.py | 1 \u001b[31m-\u001b[m\n",
      " archivo8.py | 0\n",
      " 2 files changed, 1 deletion(-)\n",
      " delete mode 100644 archivo7.py\n",
      " create mode 100644 archivo8.py\n"
     ]
    }
   ],
   "source": [
    "!cd notebook_git && git merge new_branch2"
   ]
  },
  {
   "attachments": {},
   "cell_type": "markdown",
   "metadata": {},
   "source": [
    "Hacemos un `git status`"
   ]
  },
  {
   "cell_type": "code",
   "execution_count": 130,
   "metadata": {},
   "outputs": [
    {
     "name": "stdout",
     "output_type": "stream",
     "text": [
      "En la rama main\n",
      "nada para hacer commit, el árbol de trabajo está limpio\n"
     ]
    }
   ],
   "source": [
    "!cd notebook_git && git status"
   ]
  },
  {
   "attachments": {},
   "cell_type": "markdown",
   "metadata": {},
   "source": [
    "Vemos que al hacer el merge no es necesario hacer ningún commit, veamos con un `git log` qué ha pasado"
   ]
  },
  {
   "cell_type": "code",
   "execution_count": 131,
   "metadata": {},
   "outputs": [
    {
     "name": "stdout",
     "output_type": "stream",
     "text": [
      "* \u001b[33m564ccfb\u001b[m\u001b[33m (\u001b[m\u001b[1;36mHEAD -> \u001b[m\u001b[1;32mmain\u001b[m\u001b[33m, \u001b[m\u001b[1;32mnew_branch2\u001b[m\u001b[33m)\u001b[m Commit con el archivo 8\n",
      "* \u001b[33m5168f78\u001b[m Eliminado archivo7.py\n",
      "* \u001b[33m4bb9d75\u001b[m\u001b[33m (\u001b[m\u001b[1;32mnew_branch\u001b[m\u001b[33m)\u001b[m Commit con el archivo 7\n",
      "* \u001b[33mea615a9\u001b[m Eliminado archivo5.py\n",
      "* \u001b[33me3153a5\u001b[m Commit con los archivos 4 y 5\n",
      "* \u001b[33m0b09cfa\u001b[m Añadido .gitignore\n",
      "* \u001b[33m04ebd1f\u001b[m Commit con los archivos 1 y 2\n",
      "* \u001b[33mc4930d7\u001b[m Tercer commit, hola.py\n",
      "* \u001b[33m6e99e73\u001b[m Segundo commit, hola.py\n",
      "* \u001b[33m1c95e4f\u001b[m Primer commit, hola.py\n"
     ]
    }
   ],
   "source": [
    "!cd notebook_git && git log --graph --oneline --decorate"
   ]
  },
  {
   "attachments": {},
   "cell_type": "markdown",
   "metadata": {},
   "source": [
    "Vemos que el commit de la rama `new_branch2` se ha incorporado a esta rama"
   ]
  },
  {
   "attachments": {},
   "cell_type": "markdown",
   "metadata": {},
   "source": [
    "#### Fast-forward"
   ]
  },
  {
   "attachments": {},
   "cell_type": "markdown",
   "metadata": {},
   "source": [
    "Este caso creamos una nueva rama, la principal no la tocamos y solo modificamos la nueva, realizando varios commits. Por lo que al unir la nueva en la principal se verán todos los commits que se habían hecho en la nueva. Para realizar este tipo de merge escribimos `git merge --ff-only <rama>`"
   ]
  },
  {
   "cell_type": "code",
   "execution_count": 132,
   "metadata": {},
   "outputs": [
    {
     "data": {
      "image/svg+xml": [
       "<?xml version=\"1.0\" encoding=\"UTF-8\" standalone=\"no\"?>\n",
       "<!DOCTYPE svg PUBLIC \"-//W3C//DTD SVG 1.1//EN\"\n",
       " \"http://www.w3.org/Graphics/SVG/1.1/DTD/svg11.dtd\">\n",
       "<!-- Generated by graphviz version 2.43.0 (0)\n",
       " -->\n",
       "<!-- Title: G Pages: 1 -->\n",
       "<svg width=\"404pt\" height=\"98pt\"\n",
       " viewBox=\"0.00 0.00 404.40 98.00\" xmlns=\"http://www.w3.org/2000/svg\" xmlns:xlink=\"http://www.w3.org/1999/xlink\">\n",
       "<g id=\"graph0\" class=\"graph\" transform=\"scale(1 1) rotate(0) translate(4 94)\">\n",
       "<title>G</title>\n",
       "<polygon fill=\"white\" stroke=\"transparent\" points=\"-4,4 -4,-94 400.4,-94 400.4,4 -4,4\"/>\n",
       "<!-- A -->\n",
       "<g id=\"node1\" class=\"node\">\n",
       "<title>A</title>\n",
       "<ellipse fill=\"none\" stroke=\"blue\" cx=\"18\" cy=\"-45\" rx=\"18\" ry=\"18\"/>\n",
       "<text text-anchor=\"middle\" x=\"18\" y=\"-41.3\" font-family=\"Times,serif\" font-size=\"14.00\">A</text>\n",
       "</g>\n",
       "<!-- B -->\n",
       "<g id=\"node2\" class=\"node\">\n",
       "<title>B</title>\n",
       "<ellipse fill=\"none\" stroke=\"blue\" cx=\"90\" cy=\"-45\" rx=\"18\" ry=\"18\"/>\n",
       "<text text-anchor=\"middle\" x=\"90\" y=\"-41.3\" font-family=\"Times,serif\" font-size=\"14.00\">B</text>\n",
       "</g>\n",
       "<!-- A&#45;&gt;B -->\n",
       "<g id=\"edge1\" class=\"edge\">\n",
       "<title>A&#45;&gt;B</title>\n",
       "<path fill=\"none\" stroke=\"black\" d=\"M36.3,-45C44.02,-45 53.29,-45 61.89,-45\"/>\n",
       "<polygon fill=\"black\" stroke=\"black\" points=\"61.9,-48.5 71.9,-45 61.9,-41.5 61.9,-48.5\"/>\n",
       "</g>\n",
       "<!-- C -->\n",
       "<g id=\"node3\" class=\"node\">\n",
       "<title>C</title>\n",
       "<ellipse fill=\"none\" stroke=\"blue\" cx=\"162\" cy=\"-45\" rx=\"18\" ry=\"18\"/>\n",
       "<text text-anchor=\"middle\" x=\"162\" y=\"-41.3\" font-family=\"Times,serif\" font-size=\"14.00\">C</text>\n",
       "</g>\n",
       "<!-- B&#45;&gt;C -->\n",
       "<g id=\"edge2\" class=\"edge\">\n",
       "<title>B&#45;&gt;C</title>\n",
       "<path fill=\"none\" stroke=\"black\" d=\"M108.3,-45C116.02,-45 125.29,-45 133.89,-45\"/>\n",
       "<polygon fill=\"black\" stroke=\"black\" points=\"133.9,-48.5 143.9,-45 133.9,-41.5 133.9,-48.5\"/>\n",
       "</g>\n",
       "<!-- D -->\n",
       "<g id=\"node4\" class=\"node\">\n",
       "<title>D</title>\n",
       "<ellipse fill=\"none\" stroke=\"blue\" cx=\"234.2\" cy=\"-45\" rx=\"18.4\" ry=\"18.4\"/>\n",
       "<text text-anchor=\"middle\" x=\"234.2\" y=\"-41.3\" font-family=\"Times,serif\" font-size=\"14.00\">D</text>\n",
       "</g>\n",
       "<!-- C&#45;&gt;D -->\n",
       "<g id=\"edge3\" class=\"edge\">\n",
       "<title>C&#45;&gt;D</title>\n",
       "<path fill=\"none\" stroke=\"black\" d=\"M180.35,-45C187.89,-45 196.91,-45 205.34,-45\"/>\n",
       "<polygon fill=\"black\" stroke=\"black\" points=\"205.56,-48.5 215.56,-45 205.56,-41.5 205.56,-48.5\"/>\n",
       "</g>\n",
       "<!-- E -->\n",
       "<g id=\"node5\" class=\"node\">\n",
       "<title>E</title>\n",
       "<ellipse fill=\"none\" stroke=\"transparent\" cx=\"306.4\" cy=\"-72\" rx=\"18\" ry=\"18\"/>\n",
       "</g>\n",
       "<!-- D&#45;&gt;E -->\n",
       "<g id=\"edge4\" class=\"edge\">\n",
       "<title>D&#45;&gt;E</title>\n",
       "<path fill=\"none\" stroke=\"transparent\" d=\"M251.48,-51.26C259.9,-54.5 270.36,-58.53 279.83,-62.17\"/>\n",
       "<polygon fill=\"transparent\" stroke=\"transparent\" points=\"278.61,-65.45 289.2,-65.77 281.13,-58.92 278.61,-65.45\"/>\n",
       "</g>\n",
       "<!-- X -->\n",
       "<g id=\"node6\" class=\"node\">\n",
       "<title>X</title>\n",
       "<ellipse fill=\"none\" stroke=\"green\" cx=\"306.4\" cy=\"-18\" rx=\"18\" ry=\"18\"/>\n",
       "<text text-anchor=\"middle\" x=\"306.4\" y=\"-14.3\" font-family=\"Times,serif\" font-size=\"14.00\">X</text>\n",
       "</g>\n",
       "<!-- D&#45;&gt;X -->\n",
       "<g id=\"edge5\" class=\"edge\">\n",
       "<title>D&#45;&gt;X</title>\n",
       "<path fill=\"none\" stroke=\"black\" d=\"M251.48,-38.74C259.9,-35.5 270.36,-31.47 279.83,-27.83\"/>\n",
       "<polygon fill=\"black\" stroke=\"black\" points=\"281.13,-31.08 289.2,-24.23 278.61,-24.55 281.13,-31.08\"/>\n",
       "</g>\n",
       "<!-- Y -->\n",
       "<g id=\"node7\" class=\"node\">\n",
       "<title>Y</title>\n",
       "<ellipse fill=\"none\" stroke=\"green\" cx=\"378.4\" cy=\"-18\" rx=\"18\" ry=\"18\"/>\n",
       "<text text-anchor=\"middle\" x=\"378.4\" y=\"-14.3\" font-family=\"Times,serif\" font-size=\"14.00\">Y</text>\n",
       "</g>\n",
       "<!-- X&#45;&gt;Y -->\n",
       "<g id=\"edge6\" class=\"edge\">\n",
       "<title>X&#45;&gt;Y</title>\n",
       "<path fill=\"none\" stroke=\"black\" d=\"M324.7,-18C332.41,-18 341.68,-18 350.28,-18\"/>\n",
       "<polygon fill=\"black\" stroke=\"black\" points=\"350.29,-21.5 360.29,-18 350.29,-14.5 350.29,-21.5\"/>\n",
       "</g>\n",
       "</g>\n",
       "</svg>\n"
      ],
      "text/plain": [
       "<graphviz.graphs.Digraph at 0x7f58f80c09a0>"
      ]
     },
     "metadata": {},
     "output_type": "display_data"
    },
    {
     "data": {
      "image/svg+xml": [
       "<?xml version=\"1.0\" encoding=\"UTF-8\" standalone=\"no\"?>\n",
       "<!DOCTYPE svg PUBLIC \"-//W3C//DTD SVG 1.1//EN\"\n",
       " \"http://www.w3.org/Graphics/SVG/1.1/DTD/svg11.dtd\">\n",
       "<!-- Generated by graphviz version 2.43.0 (0)\n",
       " -->\n",
       "<!-- Title: G Pages: 1 -->\n",
       "<svg width=\"404pt\" height=\"44pt\"\n",
       " viewBox=\"0.00 0.00 404.40 44.40\" xmlns=\"http://www.w3.org/2000/svg\" xmlns:xlink=\"http://www.w3.org/1999/xlink\">\n",
       "<g id=\"graph0\" class=\"graph\" transform=\"scale(1 1) rotate(0) translate(4 40.4)\">\n",
       "<title>G</title>\n",
       "<polygon fill=\"white\" stroke=\"transparent\" points=\"-4,4 -4,-40.4 400.4,-40.4 400.4,4 -4,4\"/>\n",
       "<!-- A -->\n",
       "<g id=\"node1\" class=\"node\">\n",
       "<title>A</title>\n",
       "<ellipse fill=\"none\" stroke=\"blue\" cx=\"18\" cy=\"-18.2\" rx=\"18\" ry=\"18\"/>\n",
       "<text text-anchor=\"middle\" x=\"18\" y=\"-14.5\" font-family=\"Times,serif\" font-size=\"14.00\">A</text>\n",
       "</g>\n",
       "<!-- B -->\n",
       "<g id=\"node2\" class=\"node\">\n",
       "<title>B</title>\n",
       "<ellipse fill=\"none\" stroke=\"blue\" cx=\"90\" cy=\"-18.2\" rx=\"18\" ry=\"18\"/>\n",
       "<text text-anchor=\"middle\" x=\"90\" y=\"-14.5\" font-family=\"Times,serif\" font-size=\"14.00\">B</text>\n",
       "</g>\n",
       "<!-- A&#45;&gt;B -->\n",
       "<g id=\"edge1\" class=\"edge\">\n",
       "<title>A&#45;&gt;B</title>\n",
       "<path fill=\"none\" stroke=\"black\" d=\"M36.3,-18.2C44.02,-18.2 53.29,-18.2 61.89,-18.2\"/>\n",
       "<polygon fill=\"black\" stroke=\"black\" points=\"61.9,-21.7 71.9,-18.2 61.9,-14.7 61.9,-21.7\"/>\n",
       "</g>\n",
       "<!-- C -->\n",
       "<g id=\"node3\" class=\"node\">\n",
       "<title>C</title>\n",
       "<ellipse fill=\"none\" stroke=\"blue\" cx=\"162\" cy=\"-18.2\" rx=\"18\" ry=\"18\"/>\n",
       "<text text-anchor=\"middle\" x=\"162\" y=\"-14.5\" font-family=\"Times,serif\" font-size=\"14.00\">C</text>\n",
       "</g>\n",
       "<!-- B&#45;&gt;C -->\n",
       "<g id=\"edge2\" class=\"edge\">\n",
       "<title>B&#45;&gt;C</title>\n",
       "<path fill=\"none\" stroke=\"black\" d=\"M108.3,-18.2C116.02,-18.2 125.29,-18.2 133.89,-18.2\"/>\n",
       "<polygon fill=\"black\" stroke=\"black\" points=\"133.9,-21.7 143.9,-18.2 133.9,-14.7 133.9,-21.7\"/>\n",
       "</g>\n",
       "<!-- D -->\n",
       "<g id=\"node4\" class=\"node\">\n",
       "<title>D</title>\n",
       "<ellipse fill=\"none\" stroke=\"blue\" cx=\"234.2\" cy=\"-18.2\" rx=\"18.4\" ry=\"18.4\"/>\n",
       "<text text-anchor=\"middle\" x=\"234.2\" y=\"-14.5\" font-family=\"Times,serif\" font-size=\"14.00\">D</text>\n",
       "</g>\n",
       "<!-- C&#45;&gt;D -->\n",
       "<g id=\"edge3\" class=\"edge\">\n",
       "<title>C&#45;&gt;D</title>\n",
       "<path fill=\"none\" stroke=\"black\" d=\"M180.35,-18.2C187.89,-18.2 196.91,-18.2 205.34,-18.2\"/>\n",
       "<polygon fill=\"black\" stroke=\"black\" points=\"205.56,-21.7 215.56,-18.2 205.56,-14.7 205.56,-21.7\"/>\n",
       "</g>\n",
       "<!-- X -->\n",
       "<g id=\"node5\" class=\"node\">\n",
       "<title>X</title>\n",
       "<ellipse fill=\"none\" stroke=\"magenta\" cx=\"306.4\" cy=\"-18.2\" rx=\"18\" ry=\"18\"/>\n",
       "<text text-anchor=\"middle\" x=\"306.4\" y=\"-14.5\" font-family=\"Times,serif\" font-size=\"14.00\">X</text>\n",
       "</g>\n",
       "<!-- D&#45;&gt;X -->\n",
       "<g id=\"edge4\" class=\"edge\">\n",
       "<title>D&#45;&gt;X</title>\n",
       "<path fill=\"none\" stroke=\"black\" d=\"M252.55,-18.2C260.29,-18.2 269.58,-18.2 278.21,-18.2\"/>\n",
       "<polygon fill=\"black\" stroke=\"black\" points=\"278.24,-21.7 288.24,-18.2 278.24,-14.7 278.24,-21.7\"/>\n",
       "</g>\n",
       "<!-- Y -->\n",
       "<g id=\"node6\" class=\"node\">\n",
       "<title>Y</title>\n",
       "<ellipse fill=\"none\" stroke=\"magenta\" cx=\"378.4\" cy=\"-18.2\" rx=\"18\" ry=\"18\"/>\n",
       "<text text-anchor=\"middle\" x=\"378.4\" y=\"-14.5\" font-family=\"Times,serif\" font-size=\"14.00\">Y</text>\n",
       "</g>\n",
       "<!-- X&#45;&gt;Y -->\n",
       "<g id=\"edge5\" class=\"edge\">\n",
       "<title>X&#45;&gt;Y</title>\n",
       "<path fill=\"none\" stroke=\"black\" d=\"M324.7,-18.2C332.41,-18.2 341.68,-18.2 350.28,-18.2\"/>\n",
       "<polygon fill=\"black\" stroke=\"black\" points=\"350.29,-21.7 360.29,-18.2 350.29,-14.7 350.29,-21.7\"/>\n",
       "</g>\n",
       "</g>\n",
       "</svg>\n"
      ],
      "text/plain": [
       "<graphviz.graphs.Digraph at 0x7f58f9203fa0>"
      ]
     },
     "metadata": {},
     "output_type": "display_data"
    }
   ],
   "source": [
    "import graphviz\n",
    "\n",
    "# Crear el gráfico con la dirección de las flechas de izquierda a derecha\n",
    "orin = graphviz.Digraph('G', graph_attr={'rankdir': 'LR'})\n",
    "fast_foward = graphviz.Digraph('G', graph_attr={'rankdir': 'LR'})\n",
    "\n",
    "# Agregar nodos (pelotas) A, B, C y D en la rama principal\n",
    "orin.node('A', shape='circle', label='A', color='blue')\n",
    "orin.node('B', shape='circle', label='B', color='blue')\n",
    "orin.node('C', shape='circle', label='C', color='blue')\n",
    "orin.node('D', shape='circle', label='D', color='blue')\n",
    "orin.node('E', shape='circle', label='', color='transparent')\n",
    "fast_foward.node('A', shape='circle', label='A', color='blue')\n",
    "fast_foward.node('B', shape='circle', label='B', color='blue')\n",
    "fast_foward.node('C', shape='circle', label='C', color='blue')\n",
    "fast_foward.node('D', shape='circle', label='D', color='blue')\n",
    "\n",
    "# Agregar nodos (pelotas) X e Y en la rama secundaria\n",
    "orin.node('X', shape='circle', label='X', color='green')\n",
    "orin.node('Y', shape='circle', label='Y', color='green')\n",
    "fast_foward.node('X', shape='circle', label='X', color='magenta')\n",
    "fast_foward.node('Y', shape='circle', label='Y', color='magenta')\n",
    "\n",
    "# Agregar flechas entre los nodos en la rama principal\n",
    "orin.edges(['AB', 'BC', 'CD'])\n",
    "orin.edge('D', 'E', color='transparent')  # Hacer la flecha de C a D transparente\n",
    "fast_foward.edges(['AB', 'BC', 'CD', 'DX', 'XY'])\n",
    "\n",
    "# Agregar flechas entre los nodos en la rama secundaria\n",
    "orin.edges(['DX', 'XY'])\n",
    "\n",
    "# Mostrar el diagrama de flujo en la celda de código de Jupyter Notebook\n",
    "display(orin)\n",
    "display(fast_foward)"
   ]
  },
  {
   "attachments": {},
   "cell_type": "markdown",
   "metadata": {},
   "source": [
    "Vamos primero a comprobar que estamos en la rama principal"
   ]
  },
  {
   "cell_type": "code",
   "execution_count": 133,
   "metadata": {},
   "outputs": [
    {
     "name": "stdout",
     "output_type": "stream",
     "text": [
      "main\n"
     ]
    }
   ],
   "source": [
    "!cd notebook_git && git branch --show-current"
   ]
  },
  {
   "attachments": {},
   "cell_type": "markdown",
   "metadata": {},
   "source": [
    "Creamos una nueva rama"
   ]
  },
  {
   "cell_type": "code",
   "execution_count": 134,
   "metadata": {},
   "outputs": [],
   "source": [
    "!cd notebook_git && git branch branch_fast_forward"
   ]
  },
  {
   "attachments": {},
   "cell_type": "markdown",
   "metadata": {},
   "source": [
    "Cambiamos a ella"
   ]
  },
  {
   "cell_type": "code",
   "execution_count": 135,
   "metadata": {},
   "outputs": [
    {
     "name": "stdout",
     "output_type": "stream",
     "text": [
      "Cambiado a rama 'branch_fast_forward'\n"
     ]
    }
   ],
   "source": [
    "!cd notebook_git && git switch branch_fast_forward"
   ]
  },
  {
   "cell_type": "code",
   "execution_count": 136,
   "metadata": {},
   "outputs": [
    {
     "name": "stdout",
     "output_type": "stream",
     "text": [
      "branch_fast_forward\n"
     ]
    }
   ],
   "source": [
    "!cd notebook_git && git branch --show-current"
   ]
  },
  {
   "attachments": {},
   "cell_type": "markdown",
   "metadata": {},
   "source": [
    "Vamos a ver el log"
   ]
  },
  {
   "cell_type": "code",
   "execution_count": 137,
   "metadata": {},
   "outputs": [
    {
     "name": "stdout",
     "output_type": "stream",
     "text": [
      "* \u001b[33m564ccfb\u001b[m\u001b[33m (\u001b[m\u001b[1;36mHEAD -> \u001b[m\u001b[1;32mbranch_fast_forward\u001b[m\u001b[33m, \u001b[m\u001b[1;32mnew_branch2\u001b[m\u001b[33m, \u001b[m\u001b[1;32mmain\u001b[m\u001b[33m)\u001b[m Commit con el archivo 8\n",
      "* \u001b[33m5168f78\u001b[m Eliminado archivo7.py\n",
      "* \u001b[33m4bb9d75\u001b[m\u001b[33m (\u001b[m\u001b[1;32mnew_branch\u001b[m\u001b[33m)\u001b[m Commit con el archivo 7\n",
      "* \u001b[33mea615a9\u001b[m Eliminado archivo5.py\n",
      "* \u001b[33me3153a5\u001b[m Commit con los archivos 4 y 5\n",
      "* \u001b[33m0b09cfa\u001b[m Añadido .gitignore\n",
      "* \u001b[33m04ebd1f\u001b[m Commit con los archivos 1 y 2\n",
      "* \u001b[33mc4930d7\u001b[m Tercer commit, hola.py\n",
      "* \u001b[33m6e99e73\u001b[m Segundo commit, hola.py\n",
      "* \u001b[33m1c95e4f\u001b[m Primer commit, hola.py\n"
     ]
    }
   ],
   "source": [
    "!cd notebook_git && git log --graph --oneline --decorate --all"
   ]
  },
  {
   "attachments": {},
   "cell_type": "markdown",
   "metadata": {},
   "source": [
    "Vale, estamos en una rama creada a partir de la principal con todo su historial de logs, hacemos dos nuevos commits"
   ]
  },
  {
   "cell_type": "code",
   "execution_count": 138,
   "metadata": {},
   "outputs": [
    {
     "name": "stdout",
     "output_type": "stream",
     "text": [
      "rm 'archivo4.py'\n",
      "[branch_fast_forward 4484e70] Eliminado archivo4.py\n",
      " 1 file changed, 1 deletion(-)\n",
      " delete mode 100644 archivo4.py\n"
     ]
    }
   ],
   "source": [
    "!cd notebook_git && git rm archivo4.py && git commit -am \"Eliminado archivo4.py\""
   ]
  },
  {
   "cell_type": "code",
   "execution_count": 139,
   "metadata": {},
   "outputs": [
    {
     "name": "stdout",
     "output_type": "stream",
     "text": [
      "rm 'hola.py'\n",
      "[branch_fast_forward 94149fc] Eliminado hola.py\n",
      " 1 file changed, 3 deletions(-)\n",
      " delete mode 100644 hola.py\n"
     ]
    }
   ],
   "source": [
    "!cd notebook_git && git rm hola.py && git commit -am \"Eliminado hola.py\""
   ]
  },
  {
   "attachments": {},
   "cell_type": "markdown",
   "metadata": {},
   "source": [
    "Hacemos un nuevo log para ver que en esta nueva rama se han creado"
   ]
  },
  {
   "cell_type": "code",
   "execution_count": 140,
   "metadata": {},
   "outputs": [
    {
     "name": "stdout",
     "output_type": "stream",
     "text": [
      "* \u001b[33m94149fc\u001b[m\u001b[33m (\u001b[m\u001b[1;36mHEAD -> \u001b[m\u001b[1;32mbranch_fast_forward\u001b[m\u001b[33m)\u001b[m Eliminado hola.py\n",
      "* \u001b[33m4484e70\u001b[m Eliminado archivo4.py\n",
      "* \u001b[33m564ccfb\u001b[m\u001b[33m (\u001b[m\u001b[1;32mnew_branch2\u001b[m\u001b[33m, \u001b[m\u001b[1;32mmain\u001b[m\u001b[33m)\u001b[m Commit con el archivo 8\n",
      "* \u001b[33m5168f78\u001b[m Eliminado archivo7.py\n",
      "* \u001b[33m4bb9d75\u001b[m\u001b[33m (\u001b[m\u001b[1;32mnew_branch\u001b[m\u001b[33m)\u001b[m Commit con el archivo 7\n",
      "* \u001b[33mea615a9\u001b[m Eliminado archivo5.py\n",
      "* \u001b[33me3153a5\u001b[m Commit con los archivos 4 y 5\n",
      "* \u001b[33m0b09cfa\u001b[m Añadido .gitignore\n",
      "* \u001b[33m04ebd1f\u001b[m Commit con los archivos 1 y 2\n",
      "* \u001b[33mc4930d7\u001b[m Tercer commit, hola.py\n",
      "* \u001b[33m6e99e73\u001b[m Segundo commit, hola.py\n",
      "* \u001b[33m1c95e4f\u001b[m Primer commit, hola.py\n"
     ]
    }
   ],
   "source": [
    "!cd notebook_git && git log --graph --oneline --decorate"
   ]
  },
  {
   "attachments": {},
   "cell_type": "markdown",
   "metadata": {},
   "source": [
    "Como vemos los dos últimos commits son los que hemos creado y podemos comprobar que esos commits no están en la rama principal (para eso especifico que lo haga sobre la rama `main`)"
   ]
  },
  {
   "cell_type": "code",
   "execution_count": 141,
   "metadata": {},
   "outputs": [
    {
     "name": "stdout",
     "output_type": "stream",
     "text": [
      "* \u001b[33m564ccfb\u001b[m\u001b[33m (\u001b[m\u001b[1;32mnew_branch2\u001b[m\u001b[33m, \u001b[m\u001b[1;32mmain\u001b[m\u001b[33m)\u001b[m Commit con el archivo 8\n",
      "* \u001b[33m5168f78\u001b[m Eliminado archivo7.py\n",
      "* \u001b[33m4bb9d75\u001b[m\u001b[33m (\u001b[m\u001b[1;32mnew_branch\u001b[m\u001b[33m)\u001b[m Commit con el archivo 7\n",
      "* \u001b[33mea615a9\u001b[m Eliminado archivo5.py\n",
      "* \u001b[33me3153a5\u001b[m Commit con los archivos 4 y 5\n",
      "* \u001b[33m0b09cfa\u001b[m Añadido .gitignore\n",
      "* \u001b[33m04ebd1f\u001b[m Commit con los archivos 1 y 2\n",
      "* \u001b[33mc4930d7\u001b[m Tercer commit, hola.py\n",
      "* \u001b[33m6e99e73\u001b[m Segundo commit, hola.py\n",
      "* \u001b[33m1c95e4f\u001b[m Primer commit, hola.py\n"
     ]
    }
   ],
   "source": [
    "!cd notebook_git && git log main --graph --oneline --decorate"
   ]
  },
  {
   "attachments": {},
   "cell_type": "markdown",
   "metadata": {},
   "source": [
    "Ahora nos vamos a la rama `main` para hacer el merge"
   ]
  },
  {
   "cell_type": "code",
   "execution_count": 142,
   "metadata": {},
   "outputs": [
    {
     "name": "stdout",
     "output_type": "stream",
     "text": [
      "Cambiado a rama 'main'\n"
     ]
    }
   ],
   "source": [
    "!cd notebook_git && git switch main"
   ]
  },
  {
   "attachments": {},
   "cell_type": "markdown",
   "metadata": {},
   "source": [
    "Por último hacemos el merge de tipo fast forward"
   ]
  },
  {
   "cell_type": "code",
   "execution_count": 143,
   "metadata": {},
   "outputs": [
    {
     "name": "stdout",
     "output_type": "stream",
     "text": [
      "Actualizando 564ccfb..94149fc\n",
      "Fast-forward\n",
      " archivo4.py | 1 \u001b[31m-\u001b[m\n",
      " hola.py     | 3 \u001b[31m---\u001b[m\n",
      " 2 files changed, 4 deletions(-)\n",
      " delete mode 100644 archivo4.py\n",
      " delete mode 100644 hola.py\n"
     ]
    }
   ],
   "source": [
    "!cd notebook_git && git merge --ff-only branch_fast_forward"
   ]
  },
  {
   "attachments": {},
   "cell_type": "markdown",
   "metadata": {},
   "source": [
    "Se ha hecho el merge, veamos qué ha pasado con el log en la rama `main`"
   ]
  },
  {
   "cell_type": "code",
   "execution_count": 144,
   "metadata": {},
   "outputs": [
    {
     "name": "stdout",
     "output_type": "stream",
     "text": [
      "* \u001b[33m94149fc\u001b[m\u001b[33m (\u001b[m\u001b[1;36mHEAD -> \u001b[m\u001b[1;32mmain\u001b[m\u001b[33m, \u001b[m\u001b[1;32mbranch_fast_forward\u001b[m\u001b[33m)\u001b[m Eliminado hola.py\n",
      "* \u001b[33m4484e70\u001b[m Eliminado archivo4.py\n",
      "* \u001b[33m564ccfb\u001b[m\u001b[33m (\u001b[m\u001b[1;32mnew_branch2\u001b[m\u001b[33m)\u001b[m Commit con el archivo 8\n",
      "* \u001b[33m5168f78\u001b[m Eliminado archivo7.py\n",
      "* \u001b[33m4bb9d75\u001b[m\u001b[33m (\u001b[m\u001b[1;32mnew_branch\u001b[m\u001b[33m)\u001b[m Commit con el archivo 7\n",
      "* \u001b[33mea615a9\u001b[m Eliminado archivo5.py\n",
      "* \u001b[33me3153a5\u001b[m Commit con los archivos 4 y 5\n",
      "* \u001b[33m0b09cfa\u001b[m Añadido .gitignore\n",
      "* \u001b[33m04ebd1f\u001b[m Commit con los archivos 1 y 2\n",
      "* \u001b[33mc4930d7\u001b[m Tercer commit, hola.py\n",
      "* \u001b[33m6e99e73\u001b[m Segundo commit, hola.py\n",
      "* \u001b[33m1c95e4f\u001b[m Primer commit, hola.py\n"
     ]
    }
   ],
   "source": [
    "!cd notebook_git && git log --graph --oneline --decorate"
   ]
  },
  {
   "attachments": {},
   "cell_type": "markdown",
   "metadata": {},
   "source": [
    "Como se ve, se han mantenido los dos commits hechos en la rana `branch_fast_forward"
   ]
  },
  {
   "attachments": {},
   "cell_type": "markdown",
   "metadata": {},
   "source": [
    "#### No fast-forward o true merge"
   ]
  },
  {
   "attachments": {},
   "cell_type": "markdown",
   "metadata": {},
   "source": [
    "Este caso creamos una nueva rama, la principal no la tocamos y modificamos la nueva, realizando varios commits. A continuación realizamos un commit en la principal. Por lo que al unir la nueva en la principal se verá un único commit en la nueva. Para hacer este tipo de merge escribimos `git merge <rama> --no-ff`"
   ]
  },
  {
   "cell_type": "code",
   "execution_count": 145,
   "metadata": {},
   "outputs": [
    {
     "data": {
      "image/svg+xml": [
       "<?xml version=\"1.0\" encoding=\"UTF-8\" standalone=\"no\"?>\n",
       "<!DOCTYPE svg PUBLIC \"-//W3C//DTD SVG 1.1//EN\"\n",
       " \"http://www.w3.org/Graphics/SVG/1.1/DTD/svg11.dtd\">\n",
       "<!-- Generated by graphviz version 2.43.0 (0)\n",
       " -->\n",
       "<!-- Title: G Pages: 1 -->\n",
       "<svg width=\"404pt\" height=\"98pt\"\n",
       " viewBox=\"0.00 0.00 404.40 98.00\" xmlns=\"http://www.w3.org/2000/svg\" xmlns:xlink=\"http://www.w3.org/1999/xlink\">\n",
       "<g id=\"graph0\" class=\"graph\" transform=\"scale(1 1) rotate(0) translate(4 94)\">\n",
       "<title>G</title>\n",
       "<polygon fill=\"white\" stroke=\"transparent\" points=\"-4,4 -4,-94 400.4,-94 400.4,4 -4,4\"/>\n",
       "<!-- A -->\n",
       "<g id=\"node1\" class=\"node\">\n",
       "<title>A</title>\n",
       "<ellipse fill=\"none\" stroke=\"blue\" cx=\"18\" cy=\"-45\" rx=\"18\" ry=\"18\"/>\n",
       "<text text-anchor=\"middle\" x=\"18\" y=\"-41.3\" font-family=\"Times,serif\" font-size=\"14.00\">A</text>\n",
       "</g>\n",
       "<!-- B -->\n",
       "<g id=\"node2\" class=\"node\">\n",
       "<title>B</title>\n",
       "<ellipse fill=\"none\" stroke=\"blue\" cx=\"90\" cy=\"-45\" rx=\"18\" ry=\"18\"/>\n",
       "<text text-anchor=\"middle\" x=\"90\" y=\"-41.3\" font-family=\"Times,serif\" font-size=\"14.00\">B</text>\n",
       "</g>\n",
       "<!-- A&#45;&gt;B -->\n",
       "<g id=\"edge1\" class=\"edge\">\n",
       "<title>A&#45;&gt;B</title>\n",
       "<path fill=\"none\" stroke=\"black\" d=\"M36.3,-45C44.02,-45 53.29,-45 61.89,-45\"/>\n",
       "<polygon fill=\"black\" stroke=\"black\" points=\"61.9,-48.5 71.9,-45 61.9,-41.5 61.9,-48.5\"/>\n",
       "</g>\n",
       "<!-- C -->\n",
       "<g id=\"node3\" class=\"node\">\n",
       "<title>C</title>\n",
       "<ellipse fill=\"none\" stroke=\"blue\" cx=\"162\" cy=\"-45\" rx=\"18\" ry=\"18\"/>\n",
       "<text text-anchor=\"middle\" x=\"162\" y=\"-41.3\" font-family=\"Times,serif\" font-size=\"14.00\">C</text>\n",
       "</g>\n",
       "<!-- B&#45;&gt;C -->\n",
       "<g id=\"edge2\" class=\"edge\">\n",
       "<title>B&#45;&gt;C</title>\n",
       "<path fill=\"none\" stroke=\"black\" d=\"M108.3,-45C116.02,-45 125.29,-45 133.89,-45\"/>\n",
       "<polygon fill=\"black\" stroke=\"black\" points=\"133.9,-48.5 143.9,-45 133.9,-41.5 133.9,-48.5\"/>\n",
       "</g>\n",
       "<!-- D -->\n",
       "<g id=\"node4\" class=\"node\">\n",
       "<title>D</title>\n",
       "<ellipse fill=\"none\" stroke=\"blue\" cx=\"234.2\" cy=\"-45\" rx=\"18.4\" ry=\"18.4\"/>\n",
       "<text text-anchor=\"middle\" x=\"234.2\" y=\"-41.3\" font-family=\"Times,serif\" font-size=\"14.00\">D</text>\n",
       "</g>\n",
       "<!-- C&#45;&gt;D -->\n",
       "<g id=\"edge3\" class=\"edge\">\n",
       "<title>C&#45;&gt;D</title>\n",
       "<path fill=\"none\" stroke=\"black\" d=\"M180.35,-45C187.89,-45 196.91,-45 205.34,-45\"/>\n",
       "<polygon fill=\"black\" stroke=\"black\" points=\"205.56,-48.5 215.56,-45 205.56,-41.5 205.56,-48.5\"/>\n",
       "</g>\n",
       "<!-- E -->\n",
       "<g id=\"node5\" class=\"node\">\n",
       "<title>E</title>\n",
       "<ellipse fill=\"none\" stroke=\"transparent\" cx=\"306.4\" cy=\"-72\" rx=\"18\" ry=\"18\"/>\n",
       "</g>\n",
       "<!-- D&#45;&gt;E -->\n",
       "<g id=\"edge4\" class=\"edge\">\n",
       "<title>D&#45;&gt;E</title>\n",
       "<path fill=\"none\" stroke=\"transparent\" d=\"M251.48,-51.26C259.9,-54.5 270.36,-58.53 279.83,-62.17\"/>\n",
       "<polygon fill=\"transparent\" stroke=\"transparent\" points=\"278.61,-65.45 289.2,-65.77 281.13,-58.92 278.61,-65.45\"/>\n",
       "</g>\n",
       "<!-- X -->\n",
       "<g id=\"node6\" class=\"node\">\n",
       "<title>X</title>\n",
       "<ellipse fill=\"none\" stroke=\"green\" cx=\"306.4\" cy=\"-18\" rx=\"18\" ry=\"18\"/>\n",
       "<text text-anchor=\"middle\" x=\"306.4\" y=\"-14.3\" font-family=\"Times,serif\" font-size=\"14.00\">X</text>\n",
       "</g>\n",
       "<!-- D&#45;&gt;X -->\n",
       "<g id=\"edge5\" class=\"edge\">\n",
       "<title>D&#45;&gt;X</title>\n",
       "<path fill=\"none\" stroke=\"black\" d=\"M251.48,-38.74C259.9,-35.5 270.36,-31.47 279.83,-27.83\"/>\n",
       "<polygon fill=\"black\" stroke=\"black\" points=\"281.13,-31.08 289.2,-24.23 278.61,-24.55 281.13,-31.08\"/>\n",
       "</g>\n",
       "<!-- Y -->\n",
       "<g id=\"node7\" class=\"node\">\n",
       "<title>Y</title>\n",
       "<ellipse fill=\"none\" stroke=\"green\" cx=\"378.4\" cy=\"-18\" rx=\"18\" ry=\"18\"/>\n",
       "<text text-anchor=\"middle\" x=\"378.4\" y=\"-14.3\" font-family=\"Times,serif\" font-size=\"14.00\">Y</text>\n",
       "</g>\n",
       "<!-- X&#45;&gt;Y -->\n",
       "<g id=\"edge6\" class=\"edge\">\n",
       "<title>X&#45;&gt;Y</title>\n",
       "<path fill=\"none\" stroke=\"black\" d=\"M324.7,-18C332.41,-18 341.68,-18 350.28,-18\"/>\n",
       "<polygon fill=\"black\" stroke=\"black\" points=\"350.29,-21.5 360.29,-18 350.29,-14.5 350.29,-21.5\"/>\n",
       "</g>\n",
       "</g>\n",
       "</svg>\n"
      ],
      "text/plain": [
       "<graphviz.graphs.Digraph at 0x7f58f80c2fb0>"
      ]
     },
     "metadata": {},
     "output_type": "display_data"
    },
    {
     "data": {
      "image/svg+xml": [
       "<?xml version=\"1.0\" encoding=\"UTF-8\" standalone=\"no\"?>\n",
       "<!DOCTYPE svg PUBLIC \"-//W3C//DTD SVG 1.1//EN\"\n",
       " \"http://www.w3.org/Graphics/SVG/1.1/DTD/svg11.dtd\">\n",
       "<!-- Generated by graphviz version 2.43.0 (0)\n",
       " -->\n",
       "<!-- Title: G Pages: 1 -->\n",
       "<svg width=\"481pt\" height=\"98pt\"\n",
       " viewBox=\"0.00 0.00 480.69 98.00\" xmlns=\"http://www.w3.org/2000/svg\" xmlns:xlink=\"http://www.w3.org/1999/xlink\">\n",
       "<g id=\"graph0\" class=\"graph\" transform=\"scale(1 1) rotate(0) translate(4 94)\">\n",
       "<title>G</title>\n",
       "<polygon fill=\"white\" stroke=\"transparent\" points=\"-4,4 -4,-94 476.69,-94 476.69,4 -4,4\"/>\n",
       "<!-- A -->\n",
       "<g id=\"node1\" class=\"node\">\n",
       "<title>A</title>\n",
       "<ellipse fill=\"none\" stroke=\"blue\" cx=\"18\" cy=\"-45\" rx=\"18\" ry=\"18\"/>\n",
       "<text text-anchor=\"middle\" x=\"18\" y=\"-41.3\" font-family=\"Times,serif\" font-size=\"14.00\">A</text>\n",
       "</g>\n",
       "<!-- B -->\n",
       "<g id=\"node2\" class=\"node\">\n",
       "<title>B</title>\n",
       "<ellipse fill=\"none\" stroke=\"blue\" cx=\"90\" cy=\"-45\" rx=\"18\" ry=\"18\"/>\n",
       "<text text-anchor=\"middle\" x=\"90\" y=\"-41.3\" font-family=\"Times,serif\" font-size=\"14.00\">B</text>\n",
       "</g>\n",
       "<!-- A&#45;&gt;B -->\n",
       "<g id=\"edge1\" class=\"edge\">\n",
       "<title>A&#45;&gt;B</title>\n",
       "<path fill=\"none\" stroke=\"black\" d=\"M36.3,-45C44.02,-45 53.29,-45 61.89,-45\"/>\n",
       "<polygon fill=\"black\" stroke=\"black\" points=\"61.9,-48.5 71.9,-45 61.9,-41.5 61.9,-48.5\"/>\n",
       "</g>\n",
       "<!-- C -->\n",
       "<g id=\"node3\" class=\"node\">\n",
       "<title>C</title>\n",
       "<ellipse fill=\"none\" stroke=\"blue\" cx=\"162\" cy=\"-45\" rx=\"18\" ry=\"18\"/>\n",
       "<text text-anchor=\"middle\" x=\"162\" y=\"-41.3\" font-family=\"Times,serif\" font-size=\"14.00\">C</text>\n",
       "</g>\n",
       "<!-- B&#45;&gt;C -->\n",
       "<g id=\"edge2\" class=\"edge\">\n",
       "<title>B&#45;&gt;C</title>\n",
       "<path fill=\"none\" stroke=\"black\" d=\"M108.3,-45C116.02,-45 125.29,-45 133.89,-45\"/>\n",
       "<polygon fill=\"black\" stroke=\"black\" points=\"133.9,-48.5 143.9,-45 133.9,-41.5 133.9,-48.5\"/>\n",
       "</g>\n",
       "<!-- D -->\n",
       "<g id=\"node4\" class=\"node\">\n",
       "<title>D</title>\n",
       "<ellipse fill=\"none\" stroke=\"blue\" cx=\"234.2\" cy=\"-45\" rx=\"18.4\" ry=\"18.4\"/>\n",
       "<text text-anchor=\"middle\" x=\"234.2\" y=\"-41.3\" font-family=\"Times,serif\" font-size=\"14.00\">D</text>\n",
       "</g>\n",
       "<!-- C&#45;&gt;D -->\n",
       "<g id=\"edge3\" class=\"edge\">\n",
       "<title>C&#45;&gt;D</title>\n",
       "<path fill=\"none\" stroke=\"black\" d=\"M180.35,-45C187.89,-45 196.91,-45 205.34,-45\"/>\n",
       "<polygon fill=\"black\" stroke=\"black\" points=\"205.56,-48.5 215.56,-45 205.56,-41.5 205.56,-48.5\"/>\n",
       "</g>\n",
       "<!-- E -->\n",
       "<g id=\"node5\" class=\"node\">\n",
       "<title>E</title>\n",
       "<ellipse fill=\"none\" stroke=\"blue\" cx=\"378.4\" cy=\"-72\" rx=\"18\" ry=\"18\"/>\n",
       "<text text-anchor=\"middle\" x=\"378.4\" y=\"-68.3\" font-family=\"Times,serif\" font-size=\"14.00\">E</text>\n",
       "</g>\n",
       "<!-- D&#45;&gt;E -->\n",
       "<g id=\"edge4\" class=\"edge\">\n",
       "<title>D&#45;&gt;E</title>\n",
       "<path fill=\"none\" stroke=\"black\" d=\"M252.35,-48.26C276.72,-52.88 321.59,-61.4 350.43,-66.88\"/>\n",
       "<polygon fill=\"black\" stroke=\"black\" points=\"350.15,-70.39 360.63,-68.82 351.45,-63.51 350.15,-70.39\"/>\n",
       "</g>\n",
       "<!-- X -->\n",
       "<g id=\"node6\" class=\"node\">\n",
       "<title>X</title>\n",
       "<ellipse fill=\"none\" stroke=\"green\" cx=\"306.4\" cy=\"-22\" rx=\"18\" ry=\"18\"/>\n",
       "<text text-anchor=\"middle\" x=\"306.4\" y=\"-18.3\" font-family=\"Times,serif\" font-size=\"14.00\">X</text>\n",
       "</g>\n",
       "<!-- D&#45;&gt;X -->\n",
       "<g id=\"edge5\" class=\"edge\">\n",
       "<title>D&#45;&gt;X</title>\n",
       "<path fill=\"none\" stroke=\"black\" d=\"M251.83,-39.55C260.05,-36.86 270.16,-33.55 279.37,-30.53\"/>\n",
       "<polygon fill=\"black\" stroke=\"black\" points=\"280.47,-33.85 288.88,-27.41 278.29,-27.2 280.47,-33.85\"/>\n",
       "</g>\n",
       "<!-- M -->\n",
       "<g id=\"node8\" class=\"node\">\n",
       "<title>M</title>\n",
       "<ellipse fill=\"none\" stroke=\"magenta\" cx=\"452.54\" cy=\"-45\" rx=\"20.3\" ry=\"20.3\"/>\n",
       "<text text-anchor=\"middle\" x=\"452.54\" y=\"-41.3\" font-family=\"Times,serif\" font-size=\"14.00\">M</text>\n",
       "</g>\n",
       "<!-- E&#45;&gt;M -->\n",
       "<g id=\"edge8\" class=\"edge\">\n",
       "<title>E&#45;&gt;M</title>\n",
       "<path fill=\"none\" stroke=\"black\" d=\"M395.41,-66.01C403.79,-62.87 414.29,-58.94 423.93,-55.33\"/>\n",
       "<polygon fill=\"black\" stroke=\"black\" points=\"425.41,-58.52 433.55,-51.73 422.96,-51.96 425.41,-58.52\"/>\n",
       "</g>\n",
       "<!-- Y -->\n",
       "<g id=\"node7\" class=\"node\">\n",
       "<title>Y</title>\n",
       "<ellipse fill=\"none\" stroke=\"green\" cx=\"378.4\" cy=\"-18\" rx=\"18\" ry=\"18\"/>\n",
       "<text text-anchor=\"middle\" x=\"378.4\" y=\"-14.3\" font-family=\"Times,serif\" font-size=\"14.00\">Y</text>\n",
       "</g>\n",
       "<!-- X&#45;&gt;Y -->\n",
       "<g id=\"edge6\" class=\"edge\">\n",
       "<title>X&#45;&gt;Y</title>\n",
       "<path fill=\"none\" stroke=\"black\" d=\"M324.7,-21.01C332.41,-20.57 341.68,-20.04 350.28,-19.55\"/>\n",
       "<polygon fill=\"black\" stroke=\"black\" points=\"350.51,-23.04 360.29,-18.98 350.11,-16.05 350.51,-23.04\"/>\n",
       "</g>\n",
       "<!-- Y&#45;&gt;M -->\n",
       "<g id=\"edge7\" class=\"edge\">\n",
       "<title>Y&#45;&gt;M</title>\n",
       "<path fill=\"none\" stroke=\"black\" d=\"M395.41,-23.99C403.79,-27.13 414.29,-31.06 423.93,-34.67\"/>\n",
       "<polygon fill=\"black\" stroke=\"black\" points=\"422.96,-38.04 433.55,-38.27 425.41,-31.48 422.96,-38.04\"/>\n",
       "</g>\n",
       "</g>\n",
       "</svg>\n"
      ],
      "text/plain": [
       "<graphviz.graphs.Digraph at 0x7f58f80c2230>"
      ]
     },
     "metadata": {},
     "output_type": "display_data"
    }
   ],
   "source": [
    "import graphviz\n",
    "\n",
    "# Crear el gráfico con la dirección de las flechas de izquierda a derecha\n",
    "orin = graphviz.Digraph('G', graph_attr={'rankdir': 'LR'})\n",
    "not_fast_forward = graphviz.Digraph('G', graph_attr={'rankdir': 'LR'})\n",
    "\n",
    "# Agregar nodos (pelotas) A, B, C y D en la rama principal\n",
    "orin.node('A', shape='circle', label='A', color='blue')\n",
    "orin.node('B', shape='circle', label='B', color='blue')\n",
    "orin.node('C', shape='circle', label='C', color='blue')\n",
    "orin.node('D', shape='circle', label='D', color='blue')\n",
    "orin.node('E', shape='circle', label='', color='transparent')\n",
    "not_fast_forward.node('A', shape='circle', label='A', color='blue')\n",
    "not_fast_forward.node('B', shape='circle', label='B', color='blue')\n",
    "not_fast_forward.node('C', shape='circle', label='C', color='blue')\n",
    "not_fast_forward.node('D', shape='circle', label='D', color='blue')\n",
    "not_fast_forward.node('E', shape='circle', label='E', color='blue')\n",
    "\n",
    "# Agregar nodos (pelotas) X e Y en la rama secundaria\n",
    "orin.node('X', shape='circle', label='X', color='green')\n",
    "orin.node('Y', shape='circle', label='Y', color='green')\n",
    "not_fast_forward.node('X', shape='circle', label='X', color='green')\n",
    "not_fast_forward.node('Y', shape='circle', label='Y', color='green')\n",
    "\n",
    "# Agregar nodo (pelota) M en la rama principal\n",
    "not_fast_forward.node('M', shape='circle', label='M', color='magenta')\n",
    "\n",
    "# Agregar flechas entre los nodos en la rama principal\n",
    "orin.edges(['AB', 'BC', 'CD'])\n",
    "orin.edge('D', 'E', color='transparent')  # Hacer la flecha de C a D transparente\n",
    "not_fast_forward.edges(['AB', 'BC', 'CD', 'DE'])\n",
    "\n",
    "# Agregar flechas entre los nodos en la rama secundaria\n",
    "orin.edges(['DX', 'XY'])\n",
    "not_fast_forward.edges(['DX', 'XY', 'YM'])\n",
    "\n",
    "# Agregar flechas de la rama principal al nodo M\n",
    "not_fast_forward.edge('E', 'M')\n",
    "\n",
    "# Mostrar el diagrama de flujo en la celda de código de Jupyter Notebook\n",
    "display(orin)\n",
    "display(not_fast_forward)"
   ]
  },
  {
   "cell_type": "markdown",
   "metadata": {},
   "source": [
    "Vamos primero a comprobar que estamos en la rama principal"
   ]
  },
  {
   "cell_type": "code",
   "execution_count": 146,
   "metadata": {},
   "outputs": [
    {
     "name": "stdout",
     "output_type": "stream",
     "text": [
      "main\n"
     ]
    }
   ],
   "source": [
    "!cd notebook_git && git branch --show-current"
   ]
  },
  {
   "cell_type": "markdown",
   "metadata": {},
   "source": [
    "Creamos una nueva rama"
   ]
  },
  {
   "cell_type": "code",
   "execution_count": 147,
   "metadata": {},
   "outputs": [],
   "source": [
    "!cd notebook_git && git branch branch_no_fast_forward"
   ]
  },
  {
   "cell_type": "markdown",
   "metadata": {},
   "source": [
    "Cambiamos a ella"
   ]
  },
  {
   "cell_type": "code",
   "execution_count": 148,
   "metadata": {},
   "outputs": [
    {
     "name": "stdout",
     "output_type": "stream",
     "text": [
      "Cambiado a rama 'branch_no_fast_forward'\n"
     ]
    }
   ],
   "source": [
    "!cd notebook_git && git switch branch_no_fast_forward"
   ]
  },
  {
   "cell_type": "code",
   "execution_count": 149,
   "metadata": {},
   "outputs": [
    {
     "name": "stdout",
     "output_type": "stream",
     "text": [
      "branch_no_fast_forward\n"
     ]
    }
   ],
   "source": [
    "!cd notebook_git && git branch --show-current"
   ]
  },
  {
   "cell_type": "markdown",
   "metadata": {},
   "source": [
    "Vale, estamos en una rama creada a partir de la principal con todo su historial de logs, hacemos dos nuevos commits"
   ]
  },
  {
   "cell_type": "code",
   "execution_count": 150,
   "metadata": {},
   "outputs": [
    {
     "name": "stdout",
     "output_type": "stream",
     "text": [
      "[branch_no_fast_forward e4e23c9] file1\n",
      " 1 file changed, 0 insertions(+), 0 deletions(-)\n",
      " create mode 100644 file1\n"
     ]
    }
   ],
   "source": [
    "!cd notebook_git && touch file1 && git add file1 && git commit -m \"file1\""
   ]
  },
  {
   "cell_type": "code",
   "execution_count": 151,
   "metadata": {},
   "outputs": [
    {
     "name": "stdout",
     "output_type": "stream",
     "text": [
      "[branch_no_fast_forward 8df3429] file2\n",
      " 1 file changed, 0 insertions(+), 0 deletions(-)\n",
      " create mode 100644 file2\n"
     ]
    }
   ],
   "source": [
    "!cd notebook_git && touch file2 && git add file2 && git commit -m \"file2\""
   ]
  },
  {
   "cell_type": "markdown",
   "metadata": {},
   "source": [
    "Hacemos un nuevo log para ver que en esta nueva rama se han creado"
   ]
  },
  {
   "cell_type": "code",
   "execution_count": 152,
   "metadata": {},
   "outputs": [
    {
     "name": "stdout",
     "output_type": "stream",
     "text": [
      "* \u001b[33m8df3429\u001b[m\u001b[33m (\u001b[m\u001b[1;36mHEAD -> \u001b[m\u001b[1;32mbranch_no_fast_forward\u001b[m\u001b[33m)\u001b[m file2\n",
      "* \u001b[33me4e23c9\u001b[m file1\n",
      "* \u001b[33m94149fc\u001b[m\u001b[33m (\u001b[m\u001b[1;32mmain\u001b[m\u001b[33m, \u001b[m\u001b[1;32mbranch_fast_forward\u001b[m\u001b[33m)\u001b[m Eliminado hola.py\n",
      "* \u001b[33m4484e70\u001b[m Eliminado archivo4.py\n",
      "* \u001b[33m564ccfb\u001b[m\u001b[33m (\u001b[m\u001b[1;32mnew_branch2\u001b[m\u001b[33m)\u001b[m Commit con el archivo 8\n",
      "* \u001b[33m5168f78\u001b[m Eliminado archivo7.py\n",
      "* \u001b[33m4bb9d75\u001b[m\u001b[33m (\u001b[m\u001b[1;32mnew_branch\u001b[m\u001b[33m)\u001b[m Commit con el archivo 7\n",
      "* \u001b[33mea615a9\u001b[m Eliminado archivo5.py\n",
      "* \u001b[33me3153a5\u001b[m Commit con los archivos 4 y 5\n",
      "* \u001b[33m0b09cfa\u001b[m Añadido .gitignore\n",
      "* \u001b[33m04ebd1f\u001b[m Commit con los archivos 1 y 2\n",
      "* \u001b[33mc4930d7\u001b[m Tercer commit, hola.py\n",
      "* \u001b[33m6e99e73\u001b[m Segundo commit, hola.py\n",
      "* \u001b[33m1c95e4f\u001b[m Primer commit, hola.py\n"
     ]
    }
   ],
   "source": [
    "!cd notebook_git && git log --graph --oneline --decorate"
   ]
  },
  {
   "cell_type": "markdown",
   "metadata": {},
   "source": [
    "Como vemos los dos últimos commits son los que hemos creado y podemos comprobar que esos commits no están en la rama principal (para eso especifico que lo haga sobre la rama `main`)"
   ]
  },
  {
   "cell_type": "code",
   "execution_count": 153,
   "metadata": {},
   "outputs": [
    {
     "name": "stdout",
     "output_type": "stream",
     "text": [
      "* \u001b[33m94149fc\u001b[m\u001b[33m (\u001b[m\u001b[1;32mmain\u001b[m\u001b[33m, \u001b[m\u001b[1;32mbranch_fast_forward\u001b[m\u001b[33m)\u001b[m Eliminado hola.py\n",
      "* \u001b[33m4484e70\u001b[m Eliminado archivo4.py\n",
      "* \u001b[33m564ccfb\u001b[m\u001b[33m (\u001b[m\u001b[1;32mnew_branch2\u001b[m\u001b[33m)\u001b[m Commit con el archivo 8\n",
      "* \u001b[33m5168f78\u001b[m Eliminado archivo7.py\n",
      "* \u001b[33m4bb9d75\u001b[m\u001b[33m (\u001b[m\u001b[1;32mnew_branch\u001b[m\u001b[33m)\u001b[m Commit con el archivo 7\n",
      "* \u001b[33mea615a9\u001b[m Eliminado archivo5.py\n",
      "* \u001b[33me3153a5\u001b[m Commit con los archivos 4 y 5\n",
      "* \u001b[33m0b09cfa\u001b[m Añadido .gitignore\n",
      "* \u001b[33m04ebd1f\u001b[m Commit con los archivos 1 y 2\n",
      "* \u001b[33mc4930d7\u001b[m Tercer commit, hola.py\n",
      "* \u001b[33m6e99e73\u001b[m Segundo commit, hola.py\n",
      "* \u001b[33m1c95e4f\u001b[m Primer commit, hola.py\n"
     ]
    }
   ],
   "source": [
    "!cd notebook_git && git log main --graph --oneline --decorate"
   ]
  },
  {
   "attachments": {},
   "cell_type": "markdown",
   "metadata": {},
   "source": [
    "Ahora nos vamos a la rama `main`"
   ]
  },
  {
   "cell_type": "code",
   "execution_count": 154,
   "metadata": {},
   "outputs": [
    {
     "name": "stdout",
     "output_type": "stream",
     "text": [
      "Cambiado a rama 'main'\n"
     ]
    }
   ],
   "source": [
    "!cd notebook_git && git switch main"
   ]
  },
  {
   "attachments": {},
   "cell_type": "markdown",
   "metadata": {},
   "source": [
    "Creamos un nuevo commit"
   ]
  },
  {
   "cell_type": "code",
   "execution_count": 155,
   "metadata": {},
   "outputs": [
    {
     "name": "stdout",
     "output_type": "stream",
     "text": [
      "[main 8bdf4d8] file3\n",
      " 1 file changed, 0 insertions(+), 0 deletions(-)\n",
      " create mode 100644 file3\n"
     ]
    }
   ],
   "source": [
    "!cd notebook_git && touch file3 && git add file3 && git commit -m \"file3\""
   ]
  },
  {
   "attachments": {},
   "cell_type": "markdown",
   "metadata": {},
   "source": [
    "Por último hacemos el merge de tipo no fast forward"
   ]
  },
  {
   "cell_type": "code",
   "execution_count": 152,
   "metadata": {},
   "outputs": [
    {
     "name": "stdout",
     "output_type": "stream",
     "text": [
      "\u001b[2B\u001b[m\u001b[mommit. comenzando con '#' serán ignoradas, y un mensaje vacío abortasaria esta\u001b[m\u001b[7m>\u001b[4;1H\u001b[m\u001b[36m# especialmente si esto fusiona un upstream actualizado en una rama de tópico. /home/wallabot/Documentos/web/portafolio/posts/notebook_git/.git/MERGE_MSG   \u001b[1;79H\u001b[m\u001b[22;16H\u001b[7m[ línea 1/7 (14%), col 1/48 (2%), car 0/301 (0%) ]\u001b[m\u001b[22;16H             \u001b[7m[ Párrafo justificado ]\u001b[m\u001b[K\u001b[H\u001b[7m...llabot/Documentos/web/portafolio/posts/notebook_git/.git/MERGE_MSG Modificado\u001b[1;80H\u001b[m"
     ]
    }
   ],
   "source": [
    "!cd notebook_git && git merge branch_no_fast_forward --no-ff"
   ]
  },
  {
   "attachments": {},
   "cell_type": "markdown",
   "metadata": {},
   "source": [
    "Como vemos nos abre el editor para introducir un mensaje de commit y un mensaje por defecto. Aceptamos el mensaje y vemos qué ha pasado"
   ]
  },
  {
   "cell_type": "code",
   "execution_count": 156,
   "metadata": {},
   "outputs": [
    {
     "name": "stdout",
     "output_type": "stream",
     "text": [
      "En la rama main\n",
      "nada para hacer commit, el árbol de trabajo está limpio\n"
     ]
    }
   ],
   "source": [
    "!cd notebook_git && git status"
   ]
  },
  {
   "cell_type": "code",
   "execution_count": 157,
   "metadata": {},
   "outputs": [
    {
     "name": "stdout",
     "output_type": "stream",
     "text": [
      "*   \u001b[33m274529c\u001b[m\u001b[33m (\u001b[m\u001b[1;36mHEAD -> \u001b[m\u001b[1;32mmain\u001b[m\u001b[33m)\u001b[m Merge branch 'branch_no_fast_forward' into main\n",
      "\u001b[31m|\u001b[m\u001b[32m\\\u001b[m  \n",
      "\u001b[31m|\u001b[m * \u001b[33m8df3429\u001b[m\u001b[33m (\u001b[m\u001b[1;32mbranch_no_fast_forward\u001b[m\u001b[33m)\u001b[m file2\n",
      "\u001b[31m|\u001b[m * \u001b[33me4e23c9\u001b[m file1\n",
      "* \u001b[32m|\u001b[m \u001b[33m8bdf4d8\u001b[m file3\n",
      "\u001b[32m|\u001b[m\u001b[32m/\u001b[m  \n",
      "* \u001b[33m94149fc\u001b[m\u001b[33m (\u001b[m\u001b[1;32mbranch_fast_forward\u001b[m\u001b[33m)\u001b[m Eliminado hola.py\n",
      "* \u001b[33m4484e70\u001b[m Eliminado archivo4.py\n",
      "* \u001b[33m564ccfb\u001b[m\u001b[33m (\u001b[m\u001b[1;32mnew_branch2\u001b[m\u001b[33m)\u001b[m Commit con el archivo 8\n",
      "* \u001b[33m5168f78\u001b[m Eliminado archivo7.py\n",
      "* \u001b[33m4bb9d75\u001b[m\u001b[33m (\u001b[m\u001b[1;32mnew_branch\u001b[m\u001b[33m)\u001b[m Commit con el archivo 7\n",
      "* \u001b[33mea615a9\u001b[m Eliminado archivo5.py\n",
      "* \u001b[33me3153a5\u001b[m Commit con los archivos 4 y 5\n",
      "* \u001b[33m0b09cfa\u001b[m Añadido .gitignore\n",
      "* \u001b[33m04ebd1f\u001b[m Commit con los archivos 1 y 2\n",
      "* \u001b[33mc4930d7\u001b[m Tercer commit, hola.py\n",
      "* \u001b[33m6e99e73\u001b[m Segundo commit, hola.py\n",
      "* \u001b[33m1c95e4f\u001b[m Primer commit, hola.py\n"
     ]
    }
   ],
   "source": [
    "!cd notebook_git && git log --graph --oneline --decorate"
   ]
  },
  {
   "cell_type": "code",
   "execution_count": 158,
   "metadata": {},
   "outputs": [
    {
     "name": "stdout",
     "output_type": "stream",
     "text": [
      "api_keys.py  archivo1.py  archivo2.py  archivo8.py  file1  file2  file3\n"
     ]
    }
   ],
   "source": [
    "!cd notebook_git && ls"
   ]
  },
  {
   "attachments": {},
   "cell_type": "markdown",
   "metadata": {},
   "source": [
    "Como vemos se ha creado un nuevo commit con los cambios de la nueva rama en la rama principal"
   ]
  },
  {
   "attachments": {},
   "cell_type": "markdown",
   "metadata": {},
   "source": [
    "#### Squash"
   ]
  },
  {
   "attachments": {},
   "cell_type": "markdown",
   "metadata": {},
   "source": [
    "En este tipo de fusión, todos los commits de una nueva rama se juntan en uno solo en la rama principal, para esto escribimos `git merge <rama> --squash`"
   ]
  },
  {
   "cell_type": "code",
   "execution_count": 159,
   "metadata": {},
   "outputs": [
    {
     "data": {
      "image/svg+xml": [
       "<?xml version=\"1.0\" encoding=\"UTF-8\" standalone=\"no\"?>\n",
       "<!DOCTYPE svg PUBLIC \"-//W3C//DTD SVG 1.1//EN\"\n",
       " \"http://www.w3.org/Graphics/SVG/1.1/DTD/svg11.dtd\">\n",
       "<!-- Generated by graphviz version 2.43.0 (0)\n",
       " -->\n",
       "<!-- Title: G Pages: 1 -->\n",
       "<svg width=\"404pt\" height=\"98pt\"\n",
       " viewBox=\"0.00 0.00 404.40 98.00\" xmlns=\"http://www.w3.org/2000/svg\" xmlns:xlink=\"http://www.w3.org/1999/xlink\">\n",
       "<g id=\"graph0\" class=\"graph\" transform=\"scale(1 1) rotate(0) translate(4 94)\">\n",
       "<title>G</title>\n",
       "<polygon fill=\"white\" stroke=\"transparent\" points=\"-4,4 -4,-94 400.4,-94 400.4,4 -4,4\"/>\n",
       "<!-- A -->\n",
       "<g id=\"node1\" class=\"node\">\n",
       "<title>A</title>\n",
       "<ellipse fill=\"none\" stroke=\"blue\" cx=\"18\" cy=\"-45\" rx=\"18\" ry=\"18\"/>\n",
       "<text text-anchor=\"middle\" x=\"18\" y=\"-41.3\" font-family=\"Times,serif\" font-size=\"14.00\">A</text>\n",
       "</g>\n",
       "<!-- B -->\n",
       "<g id=\"node2\" class=\"node\">\n",
       "<title>B</title>\n",
       "<ellipse fill=\"none\" stroke=\"blue\" cx=\"90\" cy=\"-45\" rx=\"18\" ry=\"18\"/>\n",
       "<text text-anchor=\"middle\" x=\"90\" y=\"-41.3\" font-family=\"Times,serif\" font-size=\"14.00\">B</text>\n",
       "</g>\n",
       "<!-- A&#45;&gt;B -->\n",
       "<g id=\"edge1\" class=\"edge\">\n",
       "<title>A&#45;&gt;B</title>\n",
       "<path fill=\"none\" stroke=\"black\" d=\"M36.3,-45C44.02,-45 53.29,-45 61.89,-45\"/>\n",
       "<polygon fill=\"black\" stroke=\"black\" points=\"61.9,-48.5 71.9,-45 61.9,-41.5 61.9,-48.5\"/>\n",
       "</g>\n",
       "<!-- C -->\n",
       "<g id=\"node3\" class=\"node\">\n",
       "<title>C</title>\n",
       "<ellipse fill=\"none\" stroke=\"blue\" cx=\"162\" cy=\"-45\" rx=\"18\" ry=\"18\"/>\n",
       "<text text-anchor=\"middle\" x=\"162\" y=\"-41.3\" font-family=\"Times,serif\" font-size=\"14.00\">C</text>\n",
       "</g>\n",
       "<!-- B&#45;&gt;C -->\n",
       "<g id=\"edge2\" class=\"edge\">\n",
       "<title>B&#45;&gt;C</title>\n",
       "<path fill=\"none\" stroke=\"black\" d=\"M108.3,-45C116.02,-45 125.29,-45 133.89,-45\"/>\n",
       "<polygon fill=\"black\" stroke=\"black\" points=\"133.9,-48.5 143.9,-45 133.9,-41.5 133.9,-48.5\"/>\n",
       "</g>\n",
       "<!-- D -->\n",
       "<g id=\"node4\" class=\"node\">\n",
       "<title>D</title>\n",
       "<ellipse fill=\"none\" stroke=\"blue\" cx=\"234.2\" cy=\"-45\" rx=\"18.4\" ry=\"18.4\"/>\n",
       "<text text-anchor=\"middle\" x=\"234.2\" y=\"-41.3\" font-family=\"Times,serif\" font-size=\"14.00\">D</text>\n",
       "</g>\n",
       "<!-- C&#45;&gt;D -->\n",
       "<g id=\"edge3\" class=\"edge\">\n",
       "<title>C&#45;&gt;D</title>\n",
       "<path fill=\"none\" stroke=\"black\" d=\"M180.35,-45C187.89,-45 196.91,-45 205.34,-45\"/>\n",
       "<polygon fill=\"black\" stroke=\"black\" points=\"205.56,-48.5 215.56,-45 205.56,-41.5 205.56,-48.5\"/>\n",
       "</g>\n",
       "<!-- E -->\n",
       "<g id=\"node5\" class=\"node\">\n",
       "<title>E</title>\n",
       "<ellipse fill=\"none\" stroke=\"transparent\" cx=\"306.4\" cy=\"-72\" rx=\"18\" ry=\"18\"/>\n",
       "</g>\n",
       "<!-- D&#45;&gt;E -->\n",
       "<g id=\"edge4\" class=\"edge\">\n",
       "<title>D&#45;&gt;E</title>\n",
       "<path fill=\"none\" stroke=\"transparent\" d=\"M251.48,-51.26C259.9,-54.5 270.36,-58.53 279.83,-62.17\"/>\n",
       "<polygon fill=\"transparent\" stroke=\"transparent\" points=\"278.61,-65.45 289.2,-65.77 281.13,-58.92 278.61,-65.45\"/>\n",
       "</g>\n",
       "<!-- X -->\n",
       "<g id=\"node6\" class=\"node\">\n",
       "<title>X</title>\n",
       "<ellipse fill=\"none\" stroke=\"green\" cx=\"306.4\" cy=\"-18\" rx=\"18\" ry=\"18\"/>\n",
       "<text text-anchor=\"middle\" x=\"306.4\" y=\"-14.3\" font-family=\"Times,serif\" font-size=\"14.00\">X</text>\n",
       "</g>\n",
       "<!-- D&#45;&gt;X -->\n",
       "<g id=\"edge5\" class=\"edge\">\n",
       "<title>D&#45;&gt;X</title>\n",
       "<path fill=\"none\" stroke=\"black\" d=\"M251.48,-38.74C259.9,-35.5 270.36,-31.47 279.83,-27.83\"/>\n",
       "<polygon fill=\"black\" stroke=\"black\" points=\"281.13,-31.08 289.2,-24.23 278.61,-24.55 281.13,-31.08\"/>\n",
       "</g>\n",
       "<!-- Y -->\n",
       "<g id=\"node7\" class=\"node\">\n",
       "<title>Y</title>\n",
       "<ellipse fill=\"none\" stroke=\"green\" cx=\"378.4\" cy=\"-18\" rx=\"18\" ry=\"18\"/>\n",
       "<text text-anchor=\"middle\" x=\"378.4\" y=\"-14.3\" font-family=\"Times,serif\" font-size=\"14.00\">Y</text>\n",
       "</g>\n",
       "<!-- X&#45;&gt;Y -->\n",
       "<g id=\"edge6\" class=\"edge\">\n",
       "<title>X&#45;&gt;Y</title>\n",
       "<path fill=\"none\" stroke=\"black\" d=\"M324.7,-18C332.41,-18 341.68,-18 350.28,-18\"/>\n",
       "<polygon fill=\"black\" stroke=\"black\" points=\"350.29,-21.5 360.29,-18 350.29,-14.5 350.29,-21.5\"/>\n",
       "</g>\n",
       "</g>\n",
       "</svg>\n"
      ],
      "text/plain": [
       "<graphviz.graphs.Digraph at 0x7f58f80e6470>"
      ]
     },
     "metadata": {},
     "output_type": "display_data"
    },
    {
     "data": {
      "image/svg+xml": [
       "<?xml version=\"1.0\" encoding=\"UTF-8\" standalone=\"no\"?>\n",
       "<!DOCTYPE svg PUBLIC \"-//W3C//DTD SVG 1.1//EN\"\n",
       " \"http://www.w3.org/Graphics/SVG/1.1/DTD/svg11.dtd\">\n",
       "<!-- Generated by graphviz version 2.43.0 (0)\n",
       " -->\n",
       "<!-- Title: G Pages: 1 -->\n",
       "<svg width=\"337pt\" height=\"48pt\"\n",
       " viewBox=\"0.00 0.00 336.69 48.30\" xmlns=\"http://www.w3.org/2000/svg\" xmlns:xlink=\"http://www.w3.org/1999/xlink\">\n",
       "<g id=\"graph0\" class=\"graph\" transform=\"scale(1 1) rotate(0) translate(4 44.3)\">\n",
       "<title>G</title>\n",
       "<polygon fill=\"white\" stroke=\"transparent\" points=\"-4,4 -4,-44.3 332.69,-44.3 332.69,4 -4,4\"/>\n",
       "<!-- A -->\n",
       "<g id=\"node1\" class=\"node\">\n",
       "<title>A</title>\n",
       "<ellipse fill=\"none\" stroke=\"blue\" cx=\"18\" cy=\"-20.15\" rx=\"18\" ry=\"18\"/>\n",
       "<text text-anchor=\"middle\" x=\"18\" y=\"-16.45\" font-family=\"Times,serif\" font-size=\"14.00\">A</text>\n",
       "</g>\n",
       "<!-- B -->\n",
       "<g id=\"node2\" class=\"node\">\n",
       "<title>B</title>\n",
       "<ellipse fill=\"none\" stroke=\"blue\" cx=\"90\" cy=\"-20.15\" rx=\"18\" ry=\"18\"/>\n",
       "<text text-anchor=\"middle\" x=\"90\" y=\"-16.45\" font-family=\"Times,serif\" font-size=\"14.00\">B</text>\n",
       "</g>\n",
       "<!-- A&#45;&gt;B -->\n",
       "<g id=\"edge1\" class=\"edge\">\n",
       "<title>A&#45;&gt;B</title>\n",
       "<path fill=\"none\" stroke=\"black\" d=\"M36.3,-20.15C44.02,-20.15 53.29,-20.15 61.89,-20.15\"/>\n",
       "<polygon fill=\"black\" stroke=\"black\" points=\"61.9,-23.65 71.9,-20.15 61.9,-16.65 61.9,-23.65\"/>\n",
       "</g>\n",
       "<!-- C -->\n",
       "<g id=\"node3\" class=\"node\">\n",
       "<title>C</title>\n",
       "<ellipse fill=\"none\" stroke=\"blue\" cx=\"162\" cy=\"-20.15\" rx=\"18\" ry=\"18\"/>\n",
       "<text text-anchor=\"middle\" x=\"162\" y=\"-16.45\" font-family=\"Times,serif\" font-size=\"14.00\">C</text>\n",
       "</g>\n",
       "<!-- B&#45;&gt;C -->\n",
       "<g id=\"edge2\" class=\"edge\">\n",
       "<title>B&#45;&gt;C</title>\n",
       "<path fill=\"none\" stroke=\"black\" d=\"M108.3,-20.15C116.02,-20.15 125.29,-20.15 133.89,-20.15\"/>\n",
       "<polygon fill=\"black\" stroke=\"black\" points=\"133.9,-23.65 143.9,-20.15 133.9,-16.65 133.9,-23.65\"/>\n",
       "</g>\n",
       "<!-- D -->\n",
       "<g id=\"node4\" class=\"node\">\n",
       "<title>D</title>\n",
       "<ellipse fill=\"none\" stroke=\"blue\" cx=\"234.2\" cy=\"-20.15\" rx=\"18.4\" ry=\"18.4\"/>\n",
       "<text text-anchor=\"middle\" x=\"234.2\" y=\"-16.45\" font-family=\"Times,serif\" font-size=\"14.00\">D</text>\n",
       "</g>\n",
       "<!-- C&#45;&gt;D -->\n",
       "<g id=\"edge3\" class=\"edge\">\n",
       "<title>C&#45;&gt;D</title>\n",
       "<path fill=\"none\" stroke=\"black\" d=\"M180.35,-20.15C187.89,-20.15 196.91,-20.15 205.34,-20.15\"/>\n",
       "<polygon fill=\"black\" stroke=\"black\" points=\"205.56,-23.65 215.56,-20.15 205.56,-16.65 205.56,-23.65\"/>\n",
       "</g>\n",
       "<!-- M -->\n",
       "<g id=\"node5\" class=\"node\">\n",
       "<title>M</title>\n",
       "<ellipse fill=\"none\" stroke=\"magenta\" cx=\"308.54\" cy=\"-20.15\" rx=\"20.3\" ry=\"20.3\"/>\n",
       "<text text-anchor=\"middle\" x=\"308.54\" y=\"-16.45\" font-family=\"Times,serif\" font-size=\"14.00\">M</text>\n",
       "</g>\n",
       "<!-- D&#45;&gt;M -->\n",
       "<g id=\"edge4\" class=\"edge\">\n",
       "<title>D&#45;&gt;M</title>\n",
       "<path fill=\"none\" stroke=\"black\" d=\"M252.71,-20.15C260.32,-20.15 269.45,-20.15 278.06,-20.15\"/>\n",
       "<polygon fill=\"black\" stroke=\"black\" points=\"278.16,-23.65 288.16,-20.15 278.16,-16.65 278.16,-23.65\"/>\n",
       "</g>\n",
       "</g>\n",
       "</svg>\n"
      ],
      "text/plain": [
       "<graphviz.graphs.Digraph at 0x7f58f80e6f80>"
      ]
     },
     "metadata": {},
     "output_type": "display_data"
    }
   ],
   "source": [
    "import graphviz\n",
    "\n",
    "# Crear el gráfico con la dirección de las flechas de izquierda a derecha\n",
    "orin = graphviz.Digraph('G', graph_attr={'rankdir': 'LR'})\n",
    "squash = graphviz.Digraph('G', graph_attr={'rankdir': 'LR'})\n",
    "\n",
    "# Agregar nodos (pelotas) A, B, C y D en la rama principal\n",
    "orin.node('A', shape='circle', label='A', color='blue')\n",
    "orin.node('B', shape='circle', label='B', color='blue')\n",
    "orin.node('C', shape='circle', label='C', color='blue')\n",
    "orin.node('D', shape='circle', label='D', color='blue')\n",
    "orin.node('E', shape='circle', label='', color='transparent')\n",
    "squash.node('A', shape='circle', label='A', color='blue')\n",
    "squash.node('B', shape='circle', label='B', color='blue')\n",
    "squash.node('C', shape='circle', label='C', color='blue')\n",
    "squash.node('D', shape='circle', label='D', color='blue')\n",
    "\n",
    "# Agregar nodos (pelotas) X e Y en la rama secundaria\n",
    "orin.node('X', shape='circle', label='X', color='green')\n",
    "orin.node('Y', shape='circle', label='Y', color='green')\n",
    "\n",
    "# Agregar nodo (pelota) M en la rama principal\n",
    "squash.node('M', shape='circle', label='M', color='magenta')\n",
    "\n",
    "# Agregar flechas entre los nodos en la rama principal\n",
    "orin.edges(['AB', 'BC', 'CD'])\n",
    "orin.edge('D', 'E', color='transparent')  # Hacer la flecha de C a D transparente\n",
    "squash.edges(['AB', 'BC', 'CD', 'DM'])\n",
    "\n",
    "# Agregar flechas entre los nodos en la rama secundaria\n",
    "orin.edges(['DX', 'XY'])\n",
    "\n",
    "# Mostrar el diagrama de flujo en la celda de código de Jupyter Notebook\n",
    "display(orin)\n",
    "display(squash)"
   ]
  },
  {
   "cell_type": "markdown",
   "metadata": {},
   "source": [
    "Vamos primero a comprobar que estamos en la rama principal"
   ]
  },
  {
   "cell_type": "code",
   "execution_count": 160,
   "metadata": {},
   "outputs": [
    {
     "name": "stdout",
     "output_type": "stream",
     "text": [
      "main\n"
     ]
    }
   ],
   "source": [
    "!cd notebook_git && git branch --show-current"
   ]
  },
  {
   "cell_type": "markdown",
   "metadata": {},
   "source": [
    "Creamos una nueva rama"
   ]
  },
  {
   "cell_type": "code",
   "execution_count": 161,
   "metadata": {},
   "outputs": [],
   "source": [
    "!cd notebook_git && git branch branch_squash"
   ]
  },
  {
   "cell_type": "markdown",
   "metadata": {},
   "source": [
    "Cambiamos a ella"
   ]
  },
  {
   "cell_type": "code",
   "execution_count": 162,
   "metadata": {},
   "outputs": [
    {
     "name": "stdout",
     "output_type": "stream",
     "text": [
      "Cambiado a rama 'branch_squash'\n"
     ]
    }
   ],
   "source": [
    "!cd notebook_git && git switch branch_squash"
   ]
  },
  {
   "cell_type": "code",
   "execution_count": 163,
   "metadata": {},
   "outputs": [
    {
     "name": "stdout",
     "output_type": "stream",
     "text": [
      "branch_squash\n"
     ]
    }
   ],
   "source": [
    "!cd notebook_git && git branch --show-current"
   ]
  },
  {
   "cell_type": "markdown",
   "metadata": {},
   "source": [
    "Vamos a ver el log"
   ]
  },
  {
   "cell_type": "code",
   "execution_count": 164,
   "metadata": {},
   "outputs": [
    {
     "name": "stdout",
     "output_type": "stream",
     "text": [
      "*   \u001b[33m274529c\u001b[m\u001b[33m (\u001b[m\u001b[1;36mHEAD -> \u001b[m\u001b[1;32mbranch_squash\u001b[m\u001b[33m, \u001b[m\u001b[1;32mmain\u001b[m\u001b[33m)\u001b[m Merge branch 'branch_no_fast_forward' into main\n",
      "\u001b[31m|\u001b[m\u001b[32m\\\u001b[m  \n",
      "\u001b[31m|\u001b[m * \u001b[33m8df3429\u001b[m\u001b[33m (\u001b[m\u001b[1;32mbranch_no_fast_forward\u001b[m\u001b[33m)\u001b[m file2\n",
      "\u001b[31m|\u001b[m * \u001b[33me4e23c9\u001b[m file1\n",
      "* \u001b[32m|\u001b[m \u001b[33m8bdf4d8\u001b[m file3\n",
      "\u001b[32m|\u001b[m\u001b[32m/\u001b[m  \n",
      "* \u001b[33m94149fc\u001b[m\u001b[33m (\u001b[m\u001b[1;32mbranch_fast_forward\u001b[m\u001b[33m)\u001b[m Eliminado hola.py\n",
      "* \u001b[33m4484e70\u001b[m Eliminado archivo4.py\n",
      "* \u001b[33m564ccfb\u001b[m\u001b[33m (\u001b[m\u001b[1;32mnew_branch2\u001b[m\u001b[33m)\u001b[m Commit con el archivo 8\n",
      "* \u001b[33m5168f78\u001b[m Eliminado archivo7.py\n",
      "* \u001b[33m4bb9d75\u001b[m\u001b[33m (\u001b[m\u001b[1;32mnew_branch\u001b[m\u001b[33m)\u001b[m Commit con el archivo 7\n",
      "* \u001b[33mea615a9\u001b[m Eliminado archivo5.py\n",
      "* \u001b[33me3153a5\u001b[m Commit con los archivos 4 y 5\n",
      "* \u001b[33m0b09cfa\u001b[m Añadido .gitignore\n",
      "* \u001b[33m04ebd1f\u001b[m Commit con los archivos 1 y 2\n",
      "* \u001b[33mc4930d7\u001b[m Tercer commit, hola.py\n",
      "* \u001b[33m6e99e73\u001b[m Segundo commit, hola.py\n",
      "* \u001b[33m1c95e4f\u001b[m Primer commit, hola.py\n"
     ]
    }
   ],
   "source": [
    "!cd notebook_git && git log --graph --oneline --decorate --all"
   ]
  },
  {
   "attachments": {},
   "cell_type": "markdown",
   "metadata": {},
   "source": [
    "Vale, estamos en una rama creada a partir de la principal con todo su historial de logs, hacemos tres nuevos commits"
   ]
  },
  {
   "cell_type": "code",
   "execution_count": 165,
   "metadata": {},
   "outputs": [
    {
     "name": "stdout",
     "output_type": "stream",
     "text": [
      "rm 'file1'\n",
      "[branch_squash 767b632] Eliminado file1\n",
      " 1 file changed, 0 insertions(+), 0 deletions(-)\n",
      " delete mode 100644 file1\n"
     ]
    }
   ],
   "source": [
    "!cd notebook_git && git rm file1 && git commit -am \"Eliminado file1\""
   ]
  },
  {
   "cell_type": "code",
   "execution_count": 166,
   "metadata": {},
   "outputs": [
    {
     "name": "stdout",
     "output_type": "stream",
     "text": [
      "rm 'file2'\n",
      "[branch_squash a47f771] Eliminado file2\n",
      " 1 file changed, 0 insertions(+), 0 deletions(-)\n",
      " delete mode 100644 file2\n"
     ]
    }
   ],
   "source": [
    "!cd notebook_git && git rm file2 && git commit -am \"Eliminado file2\""
   ]
  },
  {
   "cell_type": "code",
   "execution_count": 167,
   "metadata": {},
   "outputs": [
    {
     "name": "stdout",
     "output_type": "stream",
     "text": [
      "rm 'file3'\n",
      "[branch_squash 85f8c9f] Eliminado file3\n",
      " 1 file changed, 0 insertions(+), 0 deletions(-)\n",
      " delete mode 100644 file3\n"
     ]
    }
   ],
   "source": [
    "!cd notebook_git && git rm file3 && git commit -am \"Eliminado file3\""
   ]
  },
  {
   "cell_type": "markdown",
   "metadata": {},
   "source": [
    "Hacemos un nuevo log para ver que en esta nueva rama se han creado"
   ]
  },
  {
   "cell_type": "code",
   "execution_count": 168,
   "metadata": {},
   "outputs": [
    {
     "name": "stdout",
     "output_type": "stream",
     "text": [
      "* \u001b[33m85f8c9f\u001b[m\u001b[33m (\u001b[m\u001b[1;36mHEAD -> \u001b[m\u001b[1;32mbranch_squash\u001b[m\u001b[33m)\u001b[m Eliminado file3\n",
      "* \u001b[33ma47f771\u001b[m Eliminado file2\n",
      "* \u001b[33m767b632\u001b[m Eliminado file1\n",
      "*   \u001b[33m274529c\u001b[m\u001b[33m (\u001b[m\u001b[1;32mmain\u001b[m\u001b[33m)\u001b[m Merge branch 'branch_no_fast_forward' into main\n",
      "\u001b[32m|\u001b[m\u001b[33m\\\u001b[m  \n",
      "\u001b[32m|\u001b[m * \u001b[33m8df3429\u001b[m\u001b[33m (\u001b[m\u001b[1;32mbranch_no_fast_forward\u001b[m\u001b[33m)\u001b[m file2\n",
      "\u001b[32m|\u001b[m * \u001b[33me4e23c9\u001b[m file1\n",
      "* \u001b[33m|\u001b[m \u001b[33m8bdf4d8\u001b[m file3\n",
      "\u001b[33m|\u001b[m\u001b[33m/\u001b[m  \n",
      "* \u001b[33m94149fc\u001b[m\u001b[33m (\u001b[m\u001b[1;32mbranch_fast_forward\u001b[m\u001b[33m)\u001b[m Eliminado hola.py\n",
      "* \u001b[33m4484e70\u001b[m Eliminado archivo4.py\n",
      "* \u001b[33m564ccfb\u001b[m\u001b[33m (\u001b[m\u001b[1;32mnew_branch2\u001b[m\u001b[33m)\u001b[m Commit con el archivo 8\n",
      "* \u001b[33m5168f78\u001b[m Eliminado archivo7.py\n",
      "* \u001b[33m4bb9d75\u001b[m\u001b[33m (\u001b[m\u001b[1;32mnew_branch\u001b[m\u001b[33m)\u001b[m Commit con el archivo 7\n",
      "* \u001b[33mea615a9\u001b[m Eliminado archivo5.py\n",
      "* \u001b[33me3153a5\u001b[m Commit con los archivos 4 y 5\n",
      "* \u001b[33m0b09cfa\u001b[m Añadido .gitignore\n",
      "* \u001b[33m04ebd1f\u001b[m Commit con los archivos 1 y 2\n",
      "* \u001b[33mc4930d7\u001b[m Tercer commit, hola.py\n",
      "* \u001b[33m6e99e73\u001b[m Segundo commit, hola.py\n",
      "* \u001b[33m1c95e4f\u001b[m Primer commit, hola.py\n"
     ]
    }
   ],
   "source": [
    "!cd notebook_git && git log --graph --oneline --decorate"
   ]
  },
  {
   "attachments": {},
   "cell_type": "markdown",
   "metadata": {},
   "source": [
    "Como vemos los tres últimos commits son los que hemos creado y podemos comprobar que esos commits no están en la rama principal (para eso especifico que lo haga sobre la rama `main`)"
   ]
  },
  {
   "cell_type": "code",
   "execution_count": 169,
   "metadata": {},
   "outputs": [
    {
     "name": "stdout",
     "output_type": "stream",
     "text": [
      "*   \u001b[33m274529c\u001b[m\u001b[33m (\u001b[m\u001b[1;32mmain\u001b[m\u001b[33m)\u001b[m Merge branch 'branch_no_fast_forward' into main\n",
      "\u001b[31m|\u001b[m\u001b[32m\\\u001b[m  \n",
      "\u001b[31m|\u001b[m * \u001b[33m8df3429\u001b[m\u001b[33m (\u001b[m\u001b[1;32mbranch_no_fast_forward\u001b[m\u001b[33m)\u001b[m file2\n",
      "\u001b[31m|\u001b[m * \u001b[33me4e23c9\u001b[m file1\n",
      "* \u001b[32m|\u001b[m \u001b[33m8bdf4d8\u001b[m file3\n",
      "\u001b[32m|\u001b[m\u001b[32m/\u001b[m  \n",
      "* \u001b[33m94149fc\u001b[m\u001b[33m (\u001b[m\u001b[1;32mbranch_fast_forward\u001b[m\u001b[33m)\u001b[m Eliminado hola.py\n",
      "* \u001b[33m4484e70\u001b[m Eliminado archivo4.py\n",
      "* \u001b[33m564ccfb\u001b[m\u001b[33m (\u001b[m\u001b[1;32mnew_branch2\u001b[m\u001b[33m)\u001b[m Commit con el archivo 8\n",
      "* \u001b[33m5168f78\u001b[m Eliminado archivo7.py\n",
      "* \u001b[33m4bb9d75\u001b[m\u001b[33m (\u001b[m\u001b[1;32mnew_branch\u001b[m\u001b[33m)\u001b[m Commit con el archivo 7\n",
      "* \u001b[33mea615a9\u001b[m Eliminado archivo5.py\n",
      "* \u001b[33me3153a5\u001b[m Commit con los archivos 4 y 5\n",
      "* \u001b[33m0b09cfa\u001b[m Añadido .gitignore\n",
      "* \u001b[33m04ebd1f\u001b[m Commit con los archivos 1 y 2\n",
      "* \u001b[33mc4930d7\u001b[m Tercer commit, hola.py\n",
      "* \u001b[33m6e99e73\u001b[m Segundo commit, hola.py\n",
      "* \u001b[33m1c95e4f\u001b[m Primer commit, hola.py\n"
     ]
    }
   ],
   "source": [
    "!cd notebook_git && git log main --graph --oneline --decorate"
   ]
  },
  {
   "cell_type": "markdown",
   "metadata": {},
   "source": [
    "Ahora nos vamos a la rama `main` para hacer el merge"
   ]
  },
  {
   "cell_type": "code",
   "execution_count": 170,
   "metadata": {},
   "outputs": [
    {
     "name": "stdout",
     "output_type": "stream",
     "text": [
      "Cambiado a rama 'main'\n"
     ]
    }
   ],
   "source": [
    "!cd notebook_git && git switch main"
   ]
  },
  {
   "attachments": {},
   "cell_type": "markdown",
   "metadata": {},
   "source": [
    "Hacemos el merge de tipo squash"
   ]
  },
  {
   "cell_type": "code",
   "execution_count": 171,
   "metadata": {},
   "outputs": [
    {
     "name": "stdout",
     "output_type": "stream",
     "text": [
      "Actualizando 274529c..85f8c9f\n",
      "Fast-forward\n",
      "Commit de aplastamiento -- no actualizando HEAD\n",
      " file1 | 0\n",
      " file2 | 0\n",
      " file3 | 0\n",
      " 3 files changed, 0 insertions(+), 0 deletions(-)\n",
      " delete mode 100644 file1\n",
      " delete mode 100644 file2\n",
      " delete mode 100644 file3\n"
     ]
    }
   ],
   "source": [
    "!cd notebook_git && git merge branch_squash --squash"
   ]
  },
  {
   "cell_type": "markdown",
   "metadata": {},
   "source": [
    "Se ha hecho el merge, veamos qué ha pasado con el log en la rama `main`"
   ]
  },
  {
   "cell_type": "code",
   "execution_count": 172,
   "metadata": {},
   "outputs": [
    {
     "name": "stdout",
     "output_type": "stream",
     "text": [
      "*   \u001b[33m274529c\u001b[m\u001b[33m (\u001b[m\u001b[1;36mHEAD -> \u001b[m\u001b[1;32mmain\u001b[m\u001b[33m)\u001b[m Merge branch 'branch_no_fast_forward' into main\n",
      "\u001b[31m|\u001b[m\u001b[32m\\\u001b[m  \n",
      "\u001b[31m|\u001b[m * \u001b[33m8df3429\u001b[m\u001b[33m (\u001b[m\u001b[1;32mbranch_no_fast_forward\u001b[m\u001b[33m)\u001b[m file2\n",
      "\u001b[31m|\u001b[m * \u001b[33me4e23c9\u001b[m file1\n",
      "* \u001b[32m|\u001b[m \u001b[33m8bdf4d8\u001b[m file3\n",
      "\u001b[32m|\u001b[m\u001b[32m/\u001b[m  \n",
      "* \u001b[33m94149fc\u001b[m\u001b[33m (\u001b[m\u001b[1;32mbranch_fast_forward\u001b[m\u001b[33m)\u001b[m Eliminado hola.py\n",
      "* \u001b[33m4484e70\u001b[m Eliminado archivo4.py\n",
      "* \u001b[33m564ccfb\u001b[m\u001b[33m (\u001b[m\u001b[1;32mnew_branch2\u001b[m\u001b[33m)\u001b[m Commit con el archivo 8\n",
      "* \u001b[33m5168f78\u001b[m Eliminado archivo7.py\n",
      "* \u001b[33m4bb9d75\u001b[m\u001b[33m (\u001b[m\u001b[1;32mnew_branch\u001b[m\u001b[33m)\u001b[m Commit con el archivo 7\n",
      "* \u001b[33mea615a9\u001b[m Eliminado archivo5.py\n",
      "* \u001b[33me3153a5\u001b[m Commit con los archivos 4 y 5\n",
      "* \u001b[33m0b09cfa\u001b[m Añadido .gitignore\n",
      "* \u001b[33m04ebd1f\u001b[m Commit con los archivos 1 y 2\n",
      "* \u001b[33mc4930d7\u001b[m Tercer commit, hola.py\n",
      "* \u001b[33m6e99e73\u001b[m Segundo commit, hola.py\n",
      "* \u001b[33m1c95e4f\u001b[m Primer commit, hola.py\n"
     ]
    }
   ],
   "source": [
    "!cd notebook_git && git log --graph --oneline --decorate"
   ]
  },
  {
   "attachments": {},
   "cell_type": "markdown",
   "metadata": {},
   "source": [
    "No aparecen los cambios realizados en la rama, hagamos un `git status`"
   ]
  },
  {
   "cell_type": "code",
   "execution_count": 173,
   "metadata": {},
   "outputs": [
    {
     "name": "stdout",
     "output_type": "stream",
     "text": [
      "En la rama main\n",
      "Cambios a ser confirmados:\n",
      "  (usa \"git restore --staged <archivo>...\" para sacar del área de stage)\n",
      "\t\u001b[32mborrados:        file1\u001b[m\n",
      "\t\u001b[32mborrados:        file2\u001b[m\n",
      "\t\u001b[32mborrados:        file3\u001b[m\n",
      "\n"
     ]
    }
   ],
   "source": [
    "!cd notebook_git && git status"
   ]
  },
  {
   "attachments": {},
   "cell_type": "markdown",
   "metadata": {},
   "source": [
    "Vemos que tenemos que hacer el commit con la fusión. Esto es porque git no sabe qué mensaje ponerle y nos deja a nosotros que lo hagamos, de modo que lo hacemos"
   ]
  },
  {
   "cell_type": "code",
   "execution_count": 174,
   "metadata": {},
   "outputs": [
    {
     "name": "stdout",
     "output_type": "stream",
     "text": [
      "[main 52acb97] Merge squash de los commits de la rama branch_squash\n",
      " 3 files changed, 0 insertions(+), 0 deletions(-)\n",
      " delete mode 100644 file1\n",
      " delete mode 100644 file2\n",
      " delete mode 100644 file3\n"
     ]
    }
   ],
   "source": [
    "!cd notebook_git && git commit -m \"Merge squash de los commits de la rama branch_squash\""
   ]
  },
  {
   "attachments": {},
   "cell_type": "markdown",
   "metadata": {},
   "source": [
    "Volvemos a hacer un `git log`"
   ]
  },
  {
   "cell_type": "code",
   "execution_count": 175,
   "metadata": {},
   "outputs": [
    {
     "name": "stdout",
     "output_type": "stream",
     "text": [
      "* \u001b[33m52acb97\u001b[m\u001b[33m (\u001b[m\u001b[1;36mHEAD -> \u001b[m\u001b[1;32mmain\u001b[m\u001b[33m)\u001b[m Merge squash de los commits de la rama branch_squash\n",
      "*   \u001b[33m274529c\u001b[m Merge branch 'branch_no_fast_forward' into main\n",
      "\u001b[32m|\u001b[m\u001b[33m\\\u001b[m  \n",
      "\u001b[32m|\u001b[m * \u001b[33m8df3429\u001b[m\u001b[33m (\u001b[m\u001b[1;32mbranch_no_fast_forward\u001b[m\u001b[33m)\u001b[m file2\n",
      "\u001b[32m|\u001b[m * \u001b[33me4e23c9\u001b[m file1\n",
      "* \u001b[33m|\u001b[m \u001b[33m8bdf4d8\u001b[m file3\n",
      "\u001b[33m|\u001b[m\u001b[33m/\u001b[m  \n",
      "* \u001b[33m94149fc\u001b[m\u001b[33m (\u001b[m\u001b[1;32mbranch_fast_forward\u001b[m\u001b[33m)\u001b[m Eliminado hola.py\n",
      "* \u001b[33m4484e70\u001b[m Eliminado archivo4.py\n",
      "* \u001b[33m564ccfb\u001b[m\u001b[33m (\u001b[m\u001b[1;32mnew_branch2\u001b[m\u001b[33m)\u001b[m Commit con el archivo 8\n",
      "* \u001b[33m5168f78\u001b[m Eliminado archivo7.py\n",
      "* \u001b[33m4bb9d75\u001b[m\u001b[33m (\u001b[m\u001b[1;32mnew_branch\u001b[m\u001b[33m)\u001b[m Commit con el archivo 7\n",
      "* \u001b[33mea615a9\u001b[m Eliminado archivo5.py\n",
      "* \u001b[33me3153a5\u001b[m Commit con los archivos 4 y 5\n",
      "* \u001b[33m0b09cfa\u001b[m Añadido .gitignore\n",
      "* \u001b[33m04ebd1f\u001b[m Commit con los archivos 1 y 2\n",
      "* \u001b[33mc4930d7\u001b[m Tercer commit, hola.py\n",
      "* \u001b[33m6e99e73\u001b[m Segundo commit, hola.py\n",
      "* \u001b[33m1c95e4f\u001b[m Primer commit, hola.py\n"
     ]
    }
   ],
   "source": [
    "!cd notebook_git && git log --graph --oneline --decorate"
   ]
  },
  {
   "attachments": {},
   "cell_type": "markdown",
   "metadata": {},
   "source": [
    "### Conflictos a la hora de fusionar"
   ]
  },
  {
   "attachments": {},
   "cell_type": "markdown",
   "metadata": {},
   "source": [
    "Cuando se fusionan ramas puede pasar que un mismo archivo haya sido modificado en varias ramas. Esto puede ser normal en proyectos donde varias personas están desarrollando, así que vamos a ver cómo solucionarlo"
   ]
  },
  {
   "attachments": {},
   "cell_type": "markdown",
   "metadata": {},
   "source": [
    "#### Creamos un conflicto"
   ]
  },
  {
   "attachments": {},
   "cell_type": "markdown",
   "metadata": {},
   "source": [
    "Comprobamos que estamos en la rama `main`"
   ]
  },
  {
   "cell_type": "code",
   "execution_count": 176,
   "metadata": {},
   "outputs": [
    {
     "name": "stdout",
     "output_type": "stream",
     "text": [
      "main\n"
     ]
    }
   ],
   "source": [
    "!cd notebook_git && git branch --show-current"
   ]
  },
  {
   "attachments": {},
   "cell_type": "markdown",
   "metadata": {},
   "source": [
    "Creamos una nueva rama a partir de esta"
   ]
  },
  {
   "cell_type": "code",
   "execution_count": 177,
   "metadata": {},
   "outputs": [],
   "source": [
    "!cd notebook_git && git branch rama_con_conflicto"
   ]
  },
  {
   "attachments": {},
   "cell_type": "markdown",
   "metadata": {},
   "source": [
    "Añadimos una línea al archivo `archivo1.py`, recordamos que estamos en la rama `main`"
   ]
  },
  {
   "cell_type": "code",
   "execution_count": 178,
   "metadata": {},
   "outputs": [],
   "source": [
    "!cd notebook_git && echo \"print('rama main')\" >> archivo1.py"
   ]
  },
  {
   "cell_type": "code",
   "execution_count": 179,
   "metadata": {},
   "outputs": [
    {
     "name": "stdout",
     "output_type": "stream",
     "text": [
      "print('Este es el archivo 1')\n",
      "print('rama main')\n"
     ]
    }
   ],
   "source": [
    "!cd notebook_git && cat archivo1.py"
   ]
  },
  {
   "attachments": {},
   "cell_type": "markdown",
   "metadata": {},
   "source": [
    "`archivo1.py` está modificado, hacemos un commit"
   ]
  },
  {
   "cell_type": "code",
   "execution_count": 180,
   "metadata": {},
   "outputs": [
    {
     "name": "stdout",
     "output_type": "stream",
     "text": [
      "[main 53f909b] archivo1.py en rama main\n",
      " 1 file changed, 1 insertion(+)\n"
     ]
    }
   ],
   "source": [
    "!cd notebook_git && git add archivo1.py && git commit -m \"archivo1.py en rama main\""
   ]
  },
  {
   "attachments": {},
   "cell_type": "markdown",
   "metadata": {},
   "source": [
    "Ahora nos vamos a la rama `rama_con_conflicto` y añadimos una nueva linea a `archivo1.py`"
   ]
  },
  {
   "cell_type": "code",
   "execution_count": 181,
   "metadata": {},
   "outputs": [
    {
     "name": "stdout",
     "output_type": "stream",
     "text": [
      "Cambiado a rama 'rama_con_conflicto'\n"
     ]
    }
   ],
   "source": [
    "!cd notebook_git && git switch rama_con_conflicto"
   ]
  },
  {
   "cell_type": "code",
   "execution_count": 182,
   "metadata": {},
   "outputs": [
    {
     "name": "stdout",
     "output_type": "stream",
     "text": [
      "rama_con_conflicto\n"
     ]
    }
   ],
   "source": [
    "!cd notebook_git && git branch --show-current"
   ]
  },
  {
   "cell_type": "code",
   "execution_count": 183,
   "metadata": {},
   "outputs": [],
   "source": [
    "!cd notebook_git && echo \"print('rama rama_con_conflicto')\" >> archivo1.py"
   ]
  },
  {
   "cell_type": "code",
   "execution_count": 184,
   "metadata": {},
   "outputs": [
    {
     "name": "stdout",
     "output_type": "stream",
     "text": [
      "print('Este es el archivo 1')\n",
      "print('rama rama_con_conflicto')\n"
     ]
    }
   ],
   "source": [
    "!cd notebook_git && cat archivo1.py"
   ]
  },
  {
   "attachments": {},
   "cell_type": "markdown",
   "metadata": {},
   "source": [
    "Como vemos `archivo1.py` no es igual en la rama `main` y en la rama `rama_con_conflicto`. Hacemos un commit con la modificación de `archivo1.py` en la rama `rama_con_conflicto`"
   ]
  },
  {
   "cell_type": "code",
   "execution_count": 185,
   "metadata": {},
   "outputs": [
    {
     "name": "stdout",
     "output_type": "stream",
     "text": [
      "[rama_con_conflicto 32851c3] archivo1.py en rama rama_con_conflicto\n",
      " 1 file changed, 1 insertion(+)\n"
     ]
    }
   ],
   "source": [
    "!cd notebook_git && git add archivo1.py && git commit -m \"archivo1.py en rama rama_con_conflicto\""
   ]
  },
  {
   "attachments": {},
   "cell_type": "markdown",
   "metadata": {},
   "source": [
    "Volvemos a la rama `main`"
   ]
  },
  {
   "cell_type": "code",
   "execution_count": 186,
   "metadata": {},
   "outputs": [
    {
     "name": "stdout",
     "output_type": "stream",
     "text": [
      "Cambiado a rama 'main'\n"
     ]
    }
   ],
   "source": [
    "!cd notebook_git && git switch main"
   ]
  },
  {
   "cell_type": "code",
   "execution_count": 187,
   "metadata": {},
   "outputs": [
    {
     "name": "stdout",
     "output_type": "stream",
     "text": [
      "main\n"
     ]
    }
   ],
   "source": [
    "!cd notebook_git && git branch --show-current"
   ]
  },
  {
   "attachments": {},
   "cell_type": "markdown",
   "metadata": {},
   "source": [
    "Hacemos un merge de la rama `rama_con_conflicto`"
   ]
  },
  {
   "cell_type": "code",
   "execution_count": 188,
   "metadata": {},
   "outputs": [
    {
     "name": "stdout",
     "output_type": "stream",
     "text": [
      "Auto-fusionando archivo1.py\n",
      "CONFLICTO (contenido): Conflicto de fusión en archivo1.py\n",
      "Fusión automática falló; arregle los conflictos y luego realice un commit con el resultado.\n"
     ]
    }
   ],
   "source": [
    "!cd notebook_git && git merge rama_con_conflicto"
   ]
  },
  {
   "attachments": {},
   "cell_type": "markdown",
   "metadata": {},
   "source": [
    "Al hacer el merge ya nos avisa que hay un conflicto en `archivo1.py` y que no se ha podido hacer el merge. Hacemos un `git status`"
   ]
  },
  {
   "cell_type": "code",
   "execution_count": 189,
   "metadata": {},
   "outputs": [
    {
     "name": "stdout",
     "output_type": "stream",
     "text": [
      "En la rama main\n",
      "Tienes rutas no fusionadas.\n",
      "  (arregla los conflictos y ejecuta \"git commit\"\n",
      "  (usa \"git merge --abort\" para abortar la fusion)\n",
      "\n",
      "Rutas no fusionadas:\n",
      "  (usa \"git add <archivo>...\" para marcar una resolución)\n",
      "\t\u001b[31mmodificados por ambos:  archivo1.py\u001b[m\n",
      "\n",
      "sin cambios agregados al commit (usa \"git add\" y/o \"git commit -a\")\n"
     ]
    }
   ],
   "source": [
    "!cd notebook_git && git status"
   ]
  },
  {
   "attachments": {},
   "cell_type": "markdown",
   "metadata": {},
   "source": [
    "Nos dice lo mismo, pero nos da más información, nos dice que podemos abortar la fusión con `git merge --abort`. Pero en vez de eso vamos a solucionarlo"
   ]
  },
  {
   "attachments": {},
   "cell_type": "markdown",
   "metadata": {},
   "source": [
    "#### Solucionar un conflicto"
   ]
  },
  {
   "attachments": {},
   "cell_type": "markdown",
   "metadata": {},
   "source": [
    "En nuestro caso sabemos dónde está el problema, pero en caso de no saberlo, mediante `git diff` podemos encontrar el problema"
   ]
  },
  {
   "cell_type": "code",
   "execution_count": 190,
   "metadata": {},
   "outputs": [
    {
     "name": "stdout",
     "output_type": "stream",
     "text": [
      "\u001b[1mdiff --cc archivo1.py\u001b[m\n",
      "\u001b[1mindex 8b4bf58,b5c003c..0000000\u001b[m\n",
      "\u001b[1m--- a/archivo1.py\u001b[m\n",
      "\u001b[1m+++ b/archivo1.py\u001b[m\n",
      "\u001b[36m@@@ -1,2 -1,2 +1,6 @@@\u001b[m\n",
      "  print('Este es el archivo 1')\u001b[m\n",
      "\u001b[32m++<<<<<<< HEAD\u001b[m\n",
      "\u001b[32m +print('rama main')\u001b[m\n",
      "\u001b[32m++=======\u001b[m\n",
      "\u001b[32m+ print('rama rama_con_conflicto')\u001b[m\n",
      "\u001b[32m++>>>>>>> rama_con_conflicto\u001b[m\n"
     ]
    }
   ],
   "source": [
    "!cd notebook_git && git diff archivo1.py"
   ]
  },
  {
   "attachments": {},
   "cell_type": "markdown",
   "metadata": {},
   "source": [
    "`git diff` nos está diciendo que el problema está en la última líea. La versión del archivo de la rama `HEAD` (en la que estamos actualmente `main`) tiene `print('rama main')` en la última línea, mientras que la versión de la rama `rama_con_conflicto` tiene `print('rama rama_con_conflicto')` en la última línea. De modo que hay que abrir el fichero con cualquier editor y solucionar esto."
   ]
  },
  {
   "attachments": {},
   "cell_type": "markdown",
   "metadata": {},
   "source": [
    "Tras editar el fichero con mi editor de código he quitado todas las líneas que sobran y se ha quedado así"
   ]
  },
  {
   "cell_type": "code",
   "execution_count": 192,
   "metadata": {},
   "outputs": [
    {
     "name": "stdout",
     "output_type": "stream",
     "text": [
      "print('Este es el archivo 1')\n",
      "print('rama main')"
     ]
    }
   ],
   "source": [
    "!cd notebook_git && cat archivo1.py"
   ]
  },
  {
   "attachments": {},
   "cell_type": "markdown",
   "metadata": {},
   "source": [
    "Ahora hacemos un `git status` para ver qué tenemos que hacer"
   ]
  },
  {
   "cell_type": "code",
   "execution_count": 193,
   "metadata": {},
   "outputs": [
    {
     "name": "stdout",
     "output_type": "stream",
     "text": [
      "En la rama main\n",
      "Tienes rutas no fusionadas.\n",
      "  (arregla los conflictos y ejecuta \"git commit\"\n",
      "  (usa \"git merge --abort\" para abortar la fusion)\n",
      "\n",
      "Rutas no fusionadas:\n",
      "  (usa \"git add <archivo>...\" para marcar una resolución)\n",
      "\t\u001b[31mmodificados por ambos:  archivo1.py\u001b[m\n",
      "\n",
      "sin cambios agregados al commit (usa \"git add\" y/o \"git commit -a\")\n"
     ]
    }
   ],
   "source": [
    "!cd notebook_git && git status"
   ]
  },
  {
   "attachments": {},
   "cell_type": "markdown",
   "metadata": {},
   "source": [
    "Nos dice que tenemos el archivo `archivo1.py` con modificaciones, por lo que lo añadimos al área de `staged` y luego hacemos un commit"
   ]
  },
  {
   "cell_type": "code",
   "execution_count": 194,
   "metadata": {},
   "outputs": [
    {
     "name": "stdout",
     "output_type": "stream",
     "text": [
      "[main 679bb49] archivo1.py con el merge resuelto\n"
     ]
    }
   ],
   "source": [
    "!cd notebook_git && git add archivo1.py && git commit -m \"archivo1.py con el merge resuelto\""
   ]
  },
  {
   "attachments": {},
   "cell_type": "markdown",
   "metadata": {},
   "source": [
    "Volvemos a hacer un `git status` a ver si se ha resuelto"
   ]
  },
  {
   "cell_type": "code",
   "execution_count": 195,
   "metadata": {},
   "outputs": [
    {
     "name": "stdout",
     "output_type": "stream",
     "text": [
      "En la rama main\n",
      "nada para hacer commit, el árbol de trabajo está limpio\n"
     ]
    }
   ],
   "source": [
    "!cd notebook_git && git status"
   ]
  },
  {
   "attachments": {},
   "cell_type": "markdown",
   "metadata": {},
   "source": [
    "Parece que se ha resuelto, hacemos un `git log` para comprobarlo"
   ]
  },
  {
   "cell_type": "code",
   "execution_count": 196,
   "metadata": {},
   "outputs": [
    {
     "name": "stdout",
     "output_type": "stream",
     "text": [
      "*   \u001b[33m679bb49\u001b[m\u001b[33m (\u001b[m\u001b[1;36mHEAD -> \u001b[m\u001b[1;32mmain\u001b[m\u001b[33m)\u001b[m archivo1.py con el merge resuelto\n",
      "\u001b[31m|\u001b[m\u001b[32m\\\u001b[m  \n",
      "\u001b[31m|\u001b[m * \u001b[33m32851c3\u001b[m\u001b[33m (\u001b[m\u001b[1;32mrama_con_conflicto\u001b[m\u001b[33m)\u001b[m archivo1.py en rama rama_con_conflicto\n",
      "* \u001b[32m|\u001b[m \u001b[33m53f909b\u001b[m archivo1.py en rama main\n",
      "\u001b[32m|\u001b[m\u001b[32m/\u001b[m  \n",
      "* \u001b[33m52acb97\u001b[m Merge squash de los commits de la rama branch_squash\n",
      "*   \u001b[33m274529c\u001b[m Merge branch 'branch_no_fast_forward' into main\n",
      "\u001b[33m|\u001b[m\u001b[34m\\\u001b[m  \n",
      "\u001b[33m|\u001b[m * \u001b[33m8df3429\u001b[m\u001b[33m (\u001b[m\u001b[1;32mbranch_no_fast_forward\u001b[m\u001b[33m)\u001b[m file2\n",
      "\u001b[33m|\u001b[m * \u001b[33me4e23c9\u001b[m file1\n",
      "* \u001b[34m|\u001b[m \u001b[33m8bdf4d8\u001b[m file3\n",
      "\u001b[34m|\u001b[m\u001b[34m/\u001b[m  \n",
      "* \u001b[33m94149fc\u001b[m\u001b[33m (\u001b[m\u001b[1;32mbranch_fast_forward\u001b[m\u001b[33m)\u001b[m Eliminado hola.py\n",
      "* \u001b[33m4484e70\u001b[m Eliminado archivo4.py\n",
      "* \u001b[33m564ccfb\u001b[m\u001b[33m (\u001b[m\u001b[1;32mnew_branch2\u001b[m\u001b[33m)\u001b[m Commit con el archivo 8\n",
      "* \u001b[33m5168f78\u001b[m Eliminado archivo7.py\n",
      "* \u001b[33m4bb9d75\u001b[m\u001b[33m (\u001b[m\u001b[1;32mnew_branch\u001b[m\u001b[33m)\u001b[m Commit con el archivo 7\n",
      "* \u001b[33mea615a9\u001b[m Eliminado archivo5.py\n",
      "* \u001b[33me3153a5\u001b[m Commit con los archivos 4 y 5\n",
      "* \u001b[33m0b09cfa\u001b[m Añadido .gitignore\n",
      "* \u001b[33m04ebd1f\u001b[m Commit con los archivos 1 y 2\n",
      "* \u001b[33mc4930d7\u001b[m Tercer commit, hola.py\n",
      "* \u001b[33m6e99e73\u001b[m Segundo commit, hola.py\n",
      "* \u001b[33m1c95e4f\u001b[m Primer commit, hola.py\n"
     ]
    }
   ],
   "source": [
    "!cd notebook_git && git log --graph --oneline --decorate"
   ]
  },
  {
   "attachments": {},
   "cell_type": "markdown",
   "metadata": {},
   "source": [
    "### Eliminar ramas"
   ]
  },
  {
   "attachments": {},
   "cell_type": "markdown",
   "metadata": {},
   "source": [
    "La idea de una rama es abrirla para desarrollar una nueva funcionalidad o característica de manera que no afecte al resto del equipo de desarrollo. Por lo tanto cuando esto está conseguido se fusiona con la rama principal. Así que después de la fusión ya no tiene sentido mantener la rama por lo que hay que eliminarla, pero se hará de una manera diferente si la rama se ha fusionado o no con la principal"
   ]
  },
  {
   "attachments": {},
   "cell_type": "markdown",
   "metadata": {},
   "source": [
    "#### Eliminar ramas que se han fusionado (`git branch -d <rama>`)"
   ]
  },
  {
   "attachments": {},
   "cell_type": "markdown",
   "metadata": {},
   "source": [
    "Para eliminar una rama sobre la que ya se ha hecho la fusión con la principal solo hay que hacer `git branch -d <rama>` o `git branch --delete <rama>`. Vamos a eliminar la última rama que hemos creado y fusionado"
   ]
  },
  {
   "cell_type": "code",
   "execution_count": 197,
   "metadata": {},
   "outputs": [
    {
     "name": "stdout",
     "output_type": "stream",
     "text": [
      "Eliminada la rama rama_con_conflicto (era 32851c3).\n"
     ]
    }
   ],
   "source": [
    "!cd notebook_git && git branch -d rama_con_conflicto"
   ]
  },
  {
   "attachments": {},
   "cell_type": "markdown",
   "metadata": {},
   "source": [
    "Si ahora listamos todas las ramas podemos ver que ya no tendremos `rama_con_conflicto`"
   ]
  },
  {
   "cell_type": "code",
   "execution_count": 198,
   "metadata": {},
   "outputs": [
    {
     "name": "stdout",
     "output_type": "stream",
     "text": [
      "  branch_fast_forward\u001b[m\n",
      "  branch_no_fast_forward\u001b[m\n",
      "  branch_squash\u001b[m\n",
      "* \u001b[32mmain\u001b[m\n",
      "  new_branch\u001b[m\n",
      "  new_branch2\u001b[m\n"
     ]
    }
   ],
   "source": [
    "!cd notebook_git && git branch"
   ]
  },
  {
   "attachments": {},
   "cell_type": "markdown",
   "metadata": {},
   "source": [
    "#### Eliminar ramas que no se han fusionado con la rama principal (`git brnach -D <rama>`)"
   ]
  },
  {
   "attachments": {},
   "cell_type": "markdown",
   "metadata": {},
   "source": [
    "Si intentamos hacer lo mismo que antes con una rama que nunca se ha fusionado con otra obtendremos un error"
   ]
  },
  {
   "attachments": {},
   "cell_type": "markdown",
   "metadata": {},
   "source": [
    "Vamos a crear una nueva rama, vamos a hacer un commit y no la vamos a fusionar"
   ]
  },
  {
   "cell_type": "code",
   "execution_count": 199,
   "metadata": {},
   "outputs": [],
   "source": [
    "!cd notebook_git && git branch branch_sin_fusion"
   ]
  },
  {
   "cell_type": "code",
   "execution_count": 200,
   "metadata": {},
   "outputs": [
    {
     "name": "stdout",
     "output_type": "stream",
     "text": [
      "Cambiado a rama 'branch_sin_fusion'\n"
     ]
    }
   ],
   "source": [
    "!cd notebook_git && git switch branch_sin_fusion"
   ]
  },
  {
   "cell_type": "code",
   "execution_count": 201,
   "metadata": {},
   "outputs": [
    {
     "name": "stdout",
     "output_type": "stream",
     "text": [
      "[branch_sin_fusion 9506b0a] file4\n",
      " 1 file changed, 0 insertions(+), 0 deletions(-)\n",
      " create mode 100644 file4\n"
     ]
    }
   ],
   "source": [
    "!cd notebook_git && touch file4 && git add file4 && git commit -m \"file4\""
   ]
  },
  {
   "cell_type": "code",
   "execution_count": 202,
   "metadata": {},
   "outputs": [
    {
     "name": "stdout",
     "output_type": "stream",
     "text": [
      "Cambiado a rama 'main'\n"
     ]
    }
   ],
   "source": [
    "!cd notebook_git && git switch main"
   ]
  },
  {
   "attachments": {},
   "cell_type": "markdown",
   "metadata": {},
   "source": [
    "Con todo lo que hemos aprendidod hasta ahora, podemos ver que lo que hemos hecho ha sido crear una nueva rama, cambiar a ella, crear un nuevo archivo, hacer un commit y volver a la rama `main`. Ahora vamos a intentar eliminar esta nueva rama"
   ]
  },
  {
   "cell_type": "code",
   "execution_count": 203,
   "metadata": {},
   "outputs": [
    {
     "name": "stdout",
     "output_type": "stream",
     "text": [
      "error: La rama 'branch_sin_fusion' no ha sido fusionada completamente.\n",
      "Si estás seguro de querer borrarla, ejecuta 'git branch -D branch_sin_fusion'.\n"
     ]
    }
   ],
   "source": [
    "!cd notebook_git && git branch -d branch_sin_fusion"
   ]
  },
  {
   "attachments": {},
   "cell_type": "markdown",
   "metadata": {},
   "source": [
    "Como vemos nos dice que `branch_sin_fusion` no ha sido fusionada por lo que no se ha eliminado y que si estamos seguros de eliminarla tenemos que hacer `git branch -D branch_sin_fusion`, de modo que lo hacemos para eliminarla"
   ]
  },
  {
   "cell_type": "code",
   "execution_count": 204,
   "metadata": {},
   "outputs": [
    {
     "name": "stdout",
     "output_type": "stream",
     "text": [
      "Eliminada la rama branch_sin_fusion (era 9506b0a).\n"
     ]
    }
   ],
   "source": [
    "!cd notebook_git && git branch -D branch_sin_fusion"
   ]
  },
  {
   "attachments": {},
   "cell_type": "markdown",
   "metadata": {},
   "source": [
    "Ahora sí se ha eliminado"
   ]
  },
  {
   "attachments": {},
   "cell_type": "markdown",
   "metadata": {},
   "source": [
    "## Trabajando con repositorios remotos"
   ]
  },
  {
   "attachments": {},
   "cell_type": "markdown",
   "metadata": {},
   "source": [
    "Cuando desarrollamos software no lo solemos hacer solos, solemos trabajar en equipo, por lo que no tiene sentido tener un repositorio local de git, si no tener un repositorio remoto con el que todos trabajemos y compartamos los avances\n",
    "\n",
    " > Nota: El objetivo de este post es explicar git. Para la conexión con repositorios remotos voy a explicarlo con GitHub porque es el servicio de hosting de repositorios git más usado, pero no voy a entrar en profundizar en GitHub"
   ]
  },
  {
   "attachments": {},
   "cell_type": "markdown",
   "metadata": {},
   "source": [
    "### Clonar un repositorio remoto (`git clone <repositorio>`)"
   ]
  },
  {
   "attachments": {},
   "cell_type": "markdown",
   "metadata": {},
   "source": [
    "Si empezamos a trabajar en un repositorio que ya ha sido creado, lo primero que tenemos que hacer es clonarlo, para ello lo que tenemos que hacer es `git clone <repositorio>`, donde `<repositorio>` puede ser una URL o una dirección SSH. Como ahora mismo todo el tema de los grnades modelos de lenguaje y ChatGPT están muy de moda, vamos a clonar un repositorio opensource creada por la comunidad, [Open-Assistant](https://github.com/LAION-AI/Open-Assistant), para ello haremos `git clone https://github.com/LAION-AI/Open-Assistant`"
   ]
  },
  {
   "cell_type": "code",
   "execution_count": 11,
   "metadata": {},
   "outputs": [
    {
     "name": "stdout",
     "output_type": "stream",
     "text": [
      "Clonando en 'Open-Assistant'...\n",
      "remote: Enumerating objects: 29769, done.\u001b[K\n",
      "remote: Counting objects: 100% (673/673), done.\u001b[K\n",
      "remote: Compressing objects: 100% (310/310), done.\u001b[K\n",
      "remote: Total 29769 (delta 398), reused 577 (delta 354), pack-reused 29096\u001b[K\n",
      "Recibiendo objetos: 100% (29769/29769), 33.61 MiB | 29.29 MiB/s, listo.\n",
      "Resolviendo deltas: 100% (19967/19967), listo.\n"
     ]
    }
   ],
   "source": [
    "!git clone https://github.com/LAION-AI/Open-Assistant.git"
   ]
  },
  {
   "attachments": {},
   "cell_type": "markdown",
   "metadata": {},
   "source": [
    "Esto nos crea la carpeta `Open-Assistant` con todo el código del repositorio, podemos entrar dentro y ver todo el código"
   ]
  },
  {
   "cell_type": "code",
   "execution_count": 13,
   "metadata": {},
   "outputs": [
    {
     "name": "stdout",
     "output_type": "stream",
     "text": [
      "ansible\t\t deploy\t\t      model\t      safety\n",
      "assets\t\t discord-bots\t      notebooks       scripts\n",
      "backend\t\t docker\t\t      oasst-data      setup.cfg\n",
      "CODEOWNERS\t docker-compose.yaml  oasst-shared    text-frontend\n",
      "CONTRIBUTING.md  docs\t\t      pyproject.toml  website\n",
      "copilot\t\t inference\t      README.md\n",
      "data\t\t LICENSE\t      redis.conf\n"
     ]
    }
   ],
   "source": [
    "!cd Open-Assistant && ls"
   ]
  },
  {
   "attachments": {},
   "cell_type": "markdown",
   "metadata": {},
   "source": [
    "Elimino la carpeta"
   ]
  },
  {
   "cell_type": "code",
   "execution_count": null,
   "metadata": {},
   "outputs": [],
   "source": [
    "!rm -r Open-Assistant"
   ]
  },
  {
   "attachments": {},
   "cell_type": "markdown",
   "metadata": {},
   "source": [
    "### Enlazar un repositorio local en uno remoto"
   ]
  },
  {
   "attachments": {},
   "cell_type": "markdown",
   "metadata": {},
   "source": [
    "Si ocurre al revés, si primero empezamos a desarrollar en local y luego lo queremos sincronizar con un repositorio remoto tenemos que hacer lo siguiente\n",
    "\n",
    " * Primero crear un repositorio remoto vacío, en mi caso he creado el repositorio `notebook_git` en GitHub que más tarde borraré\n",
    " * Obtener la URL del repositorio, o dirección SSH\n",
    " * Sincronizarlos mediante `git remote add origin <URL>\n",
    "\n",
    "El repositorio vacío que he creado en GitHub se ve así\n",
    "\n",
    "![notebook git repo](https://maximofn.com/wp-content/uploads/2023/04/notebook_git_repo.png)\n",
    "\n",
    "En mi caso voy a usar la dirección SSH que es `git@github.com:maximofn/notebook_git.git`"
   ]
  },
  {
   "cell_type": "code",
   "execution_count": 205,
   "metadata": {},
   "outputs": [],
   "source": [
    "!cd notebook_git && git remote add origin git@github.com:maximofn/notebook_git.git"
   ]
  },
  {
   "attachments": {},
   "cell_type": "markdown",
   "metadata": {},
   "source": [
    "Ya están enlazados, pero para asegurarnos podemos hacer `git remote -v`"
   ]
  },
  {
   "cell_type": "code",
   "execution_count": 206,
   "metadata": {},
   "outputs": [
    {
     "name": "stdout",
     "output_type": "stream",
     "text": [
      "origin\tgit@github.com:maximofn/notebook_git.git (fetch)\n",
      "origin\tgit@github.com:maximofn/notebook_git.git (push)\n"
     ]
    }
   ],
   "source": [
    "!cd notebook_git && git remote -v"
   ]
  },
  {
   "attachments": {},
   "cell_type": "markdown",
   "metadata": {},
   "source": [
    "### Subir los cambios de un repositorio local a un repositorio remoto (`git push`)"
   ]
  },
  {
   "attachments": {},
   "cell_type": "markdown",
   "metadata": {},
   "source": [
    "Como hemos dicho están enlazados, pero si voy a mi repositorio en GitHub se sigue viendo así\n",
    "\n",
    "![notebook git repo](https://maximofn.com/wp-content/uploads/2023/04/notebook_git_repo.png)\n",
    "\n",
    "Están enlazados el repositorio local y el remoto, pero ahora hay que mandar todos los cambios del repositorio local al remoto, para ello habría que usar `git push origin <rama local>:<rama remota>`, es decir, como nuestra rama principal se llama `main` y la rama principal en GitHub se llama `main` habría que hacer `git push origin main:main`.\n",
    "Si te acuerdas git por defecto llamó a la rama principal `master`, pero GitHub llama por defecto a la rama principal `main` por lo que si cada persona llama en su repositorio local a sus ramas de una manera hay que especificar qué rama en local escribe a qué rama en remoto"
   ]
  },
  {
   "attachments": {},
   "cell_type": "markdown",
   "metadata": {},
   "source": [
    "Se puede configurar la conexión por defecto entre ramas en git, para ello hay que hacer `git push --set-upstream origin main`. Esto establece relación entre la rama local `main` y la rama remota `main`. Una vez hecha esta relación ya solo es necesario hacer `git push` para subir los cambios que se hacen en local al servidor remoto.\n",
    "\n",
    "De modo que establecemos la conexión entre ramas"
   ]
  },
  {
   "cell_type": "code",
   "execution_count": 207,
   "metadata": {},
   "outputs": [
    {
     "name": "stdout",
     "output_type": "stream",
     "text": [
      "Enumerando objetos: 51, listo.\n",
      "Contando objetos: 100% (51/51), listo.\n",
      "Compresión delta usando hasta 12 hilos\n",
      "Comprimiendo objetos: 100% (38/38), listo.\n",
      "Escribiendo objetos: 100% (51/51), 4.21 KiB | 2.11 MiB/s, listo.\n",
      "Total 51 (delta 18), reusado 0 (delta 0)\n",
      "remote: Resolving deltas: 100% (18/18), done.\u001b[K\n",
      "To github.com:maximofn/notebook_git.git\n",
      " * [new branch]      main -> main\n",
      "Rama 'main' configurada para hacer seguimiento a la rama remota 'main' de 'origin'.\n"
     ]
    }
   ],
   "source": [
    "!cd notebook_git && git push --set-upstream origin main"
   ]
  },
  {
   "attachments": {},
   "cell_type": "markdown",
   "metadata": {},
   "source": [
    "Ahora ya podemos hace solo `git push` para subir los cambios locales al repositorio remoto"
   ]
  },
  {
   "cell_type": "code",
   "execution_count": 208,
   "metadata": {},
   "outputs": [
    {
     "name": "stdout",
     "output_type": "stream",
     "text": [
      "Everything up-to-date\n"
     ]
    }
   ],
   "source": [
    "!cd notebook_git && git push"
   ]
  },
  {
   "attachments": {},
   "cell_type": "markdown",
   "metadata": {},
   "source": [
    "Si ahora volvemos a nuestro repositorio de GitHub se ve así\n",
    "\n",
    "![notebook git repo push](https://maximofn.com/wp-content/uploads/2023/04/notebook_git_repo_push.png)"
   ]
  },
  {
   "attachments": {},
   "cell_type": "markdown",
   "metadata": {},
   "source": [
    "Si hacemos un `ls` en nuestro repositorio local podremos ver que los archivos que tenemos en el repositorio remoto los tenemos en el repositorio local, es decir, hemos sincornizado el repositorio local y remoto"
   ]
  },
  {
   "cell_type": "code",
   "execution_count": 209,
   "metadata": {},
   "outputs": [
    {
     "name": "stdout",
     "output_type": "stream",
     "text": [
      ".  ..  api_keys.py  archivo1.py  archivo2.py  archivo8.py  .git  .gitignore\n"
     ]
    }
   ],
   "source": [
    "!cd notebook_git && ls -a"
   ]
  },
  {
   "attachments": {},
   "cell_type": "markdown",
   "metadata": {},
   "source": [
    "Los únicos que no está en el repositorio remoto son `api_keys.py`, que es el que añadimos al archivo `.gitignore`, es decir, el que dijimos a git que no siguiera. Y `.git` que es donde está la configuración de nuestro repositorio local y que no se tiene que subir al repositorio remoto, porque cada persona tendrá su propia configuración de git y por tanto no se tiene que sincronizar"
   ]
  },
  {
   "attachments": {},
   "cell_type": "markdown",
   "metadata": {},
   "source": [
    "### Descargar los cambios de un repositorio remoto a un repositorio local (`git pull`)"
   ]
  },
  {
   "attachments": {},
   "cell_type": "markdown",
   "metadata": {},
   "source": [
    "Ahora vamos a hacer al revés, vamos a bajar los nuevos cambios que se hayan hecho en el repositorio remoto. Si nos fijamos en cómo está el repositorio remoto podremos ver que hay un botón que pone `Add a README`, por lo que le damos para añadirlo\n",
    "\n",
    "![notebook git repo push](https://maximofn.com/wp-content/uploads/2023/04/notebook_git_repo_push.png)"
   ]
  },
  {
   "attachments": {},
   "cell_type": "markdown",
   "metadata": {},
   "source": [
    "Al darle se nos abrirá un editor, dejamos lo que ha puesto GitHub y guardamos los cambios dándole al botón de `Commit changes...`\n",
    "\n",
    "![noteboot git repo readme](https://maximofn.com/wp-content/uploads/2023/04/notebook_git_repo_readme.png)\n",
    "\n",
    "Nos saldrá una ventana en la que nos pedirá un mensaje de commit, dejamos el que viene por defecto y le damos a `Comit changes`\n",
    "\n",
    "![notebook git repo commit message](https://maximofn.com/wp-content/uploads/2023/04/notebook_git_repo_commit_message.png)\n",
    "\n",
    "Al hacer eso el repositorio se nos quedará así\n",
    "\n",
    "![notebook git repo pull](https://maximofn.com/wp-content/uploads/2023/04/notebook_git_repo_pull.png)\n",
    "\n",
    "Se ha creado un nuevo archivo llamado `README.MD`, pero si hacemos `ls` en el repositorio local no lo encontraremos"
   ]
  },
  {
   "cell_type": "code",
   "execution_count": 10,
   "metadata": {},
   "outputs": [],
   "source": [
    "!cd notebook_git && ls | grep README"
   ]
  },
  {
   "attachments": {},
   "cell_type": "markdown",
   "metadata": {},
   "source": [
    "Por lo que nos tenemos que traer los cambios del repositorio remoto al local, para ello hay que hacer `git pull origin <rama remota>` para decirle a git sobre qué rama remota vamos a traer los datos, pero al igual que antes podemos establecer una relación entre la rama remota y la rama local de la siguiente manera `git branch --set-upstream-to=origin/<rama local> <rama remota>`, pero como nuestra rama local se llama `main` y la rama remota GitHub la llama `main` habría que cambiar lo anterior por `git branch --set-upstream-to=origin/main main`.\n",
    "\n",
    "Una vez hecho esto para descargar los nuevos cambios del repositorio remoto al local solo habría que hacer `git pull`"
   ]
  },
  {
   "attachments": {},
   "cell_type": "markdown",
   "metadata": {},
   "source": [
    "Vamos a establecer la relación entre ramas con `git branch --set-upstream-to=origin/main main`"
   ]
  },
  {
   "cell_type": "code",
   "execution_count": 210,
   "metadata": {},
   "outputs": [
    {
     "name": "stdout",
     "output_type": "stream",
     "text": [
      "Rama 'main' configurada para hacer seguimiento a la rama remota 'main' de 'origin'.\n"
     ]
    }
   ],
   "source": [
    "!cd notebook_git && git branch --set-upstream-to=origin/main main"
   ]
  },
  {
   "attachments": {},
   "cell_type": "markdown",
   "metadata": {},
   "source": [
    "Ahora podemos traer los cambios del repositorio remoto al repositorio local con `git pull`"
   ]
  },
  {
   "cell_type": "code",
   "execution_count": 211,
   "metadata": {},
   "outputs": [
    {
     "name": "stdout",
     "output_type": "stream",
     "text": [
      "remote: Enumerating objects: 4, done.\u001b[K\n",
      "remote: Counting objects: 100% (4/4), done.\u001b[K\n",
      "remote: Compressing objects: 100% (2/2), done.\u001b[K\n",
      "remote: Total 3 (delta 1), reused 0 (delta 0), pack-reused 0\u001b[K\n",
      "Desempaquetando objetos: 100% (3/3), 646 bytes | 646.00 KiB/s, listo.\n",
      "Desde github.com:maximofn/notebook_git\n",
      "   679bb49..527e07a  main       -> origin/main\n",
      "Actualizando 679bb49..527e07a\n",
      "Fast-forward\n",
      " README.md | 1 \u001b[32m+\u001b[m\n",
      " 1 file changed, 1 insertion(+)\n",
      " create mode 100644 README.md\n"
     ]
    }
   ],
   "source": [
    "!cd notebook_git && git pull"
   ]
  },
  {
   "attachments": {},
   "cell_type": "markdown",
   "metadata": {},
   "source": [
    "Como vemos dice se ha añadido `README.md`, lo comprobamos haciendo `ls`"
   ]
  },
  {
   "cell_type": "code",
   "execution_count": 212,
   "metadata": {},
   "outputs": [
    {
     "name": "stdout",
     "output_type": "stream",
     "text": [
      "README.md\n"
     ]
    }
   ],
   "source": [
    "!cd notebook_git && ls | grep README"
   ]
  },
  {
   "attachments": {},
   "cell_type": "markdown",
   "metadata": {},
   "source": [
    "Tenemos el archivo en local"
   ]
  },
  {
   "attachments": {},
   "cell_type": "markdown",
   "metadata": {},
   "source": [
    "### Sincronizar las ramas remotas y locales"
   ]
  },
  {
   "attachments": {},
   "cell_type": "markdown",
   "metadata": {},
   "source": [
    "Como hemos visto hemos tenido que sincronizar las ramas remotas y locales para poder subir y bajar los datos, sin embargo, si primero creamos el repositorio en GitHub y después lo clonamos ya no es necesario dicha sincronización"
   ]
  },
  {
   "attachments": {},
   "cell_type": "markdown",
   "metadata": {},
   "source": [
    "## Alias"
   ]
  },
  {
   "attachments": {},
   "cell_type": "markdown",
   "metadata": {},
   "source": [
    "Cada vez que hemos querido hacer un log hemos usado este comando `git log --graph --oneline --decorate`, sin embargo acordarse de este comando es bastante complicado, de hecho yo no me acuerdo de el, cada vez que lo he querido usar lo he tenido que buscar porque no lo recordaba, por lo que estaría muy bien tener una manera de abreviarlo."
   ]
  },
  {
   "attachments": {},
   "cell_type": "markdown",
   "metadata": {},
   "source": [
    "Para esto git ofrece los `alias`, de manera que puedes crearte alias de los comandos que tu quieras, para ello tienes que hacer `git config --global alias.<nombre del alias> \"comando\"`"
   ]
  },
  {
   "attachments": {},
   "cell_type": "markdown",
   "metadata": {},
   "source": [
    "Por tanto vamos a llamar `git tree` al comando `git log --graph --oneline --decorate`, ya que nos permite ver el historial, con la bifurcación y fusión de ramas como si fuese el crecimiento de un árbol, por lo que hacemos `git config --global alias.tree \"log --graph --oneline --decorate\"`\n",
    "\n",
    " > **Importante**: No hay que poner la palabra `git` dentro del comando"
   ]
  },
  {
   "cell_type": "code",
   "execution_count": 218,
   "metadata": {},
   "outputs": [],
   "source": [
    "!git config --global alias.tree \"log --graph --oneline --decorate\""
   ]
  },
  {
   "attachments": {},
   "cell_type": "markdown",
   "metadata": {},
   "source": [
    "Si ahora nos vamos a nuestro repositorio y hacemos `git tree` veremos el historial como lo hacíamos antes"
   ]
  },
  {
   "cell_type": "code",
   "execution_count": 217,
   "metadata": {},
   "outputs": [
    {
     "name": "stdout",
     "output_type": "stream",
     "text": [
      "* \u001b[33m527e07a\u001b[m\u001b[33m (\u001b[m\u001b[1;36mHEAD -> \u001b[m\u001b[1;32mmain\u001b[m\u001b[33m, \u001b[m\u001b[1;31morigin/main\u001b[m\u001b[33m)\u001b[m Create README.md\n",
      "*   \u001b[33m679bb49\u001b[m archivo1.py con el merge resuelto\n",
      "\u001b[32m|\u001b[m\u001b[33m\\\u001b[m  \n",
      "\u001b[32m|\u001b[m * \u001b[33m32851c3\u001b[m archivo1.py en rama rama_con_conflicto\n",
      "* \u001b[33m|\u001b[m \u001b[33m53f909b\u001b[m archivo1.py en rama main\n",
      "\u001b[33m|\u001b[m\u001b[33m/\u001b[m  \n",
      "* \u001b[33m52acb97\u001b[m Merge squash de los commits de la rama branch_squash\n",
      "*   \u001b[33m274529c\u001b[m Merge branch 'branch_no_fast_forward' into main\n",
      "\u001b[34m|\u001b[m\u001b[35m\\\u001b[m  \n",
      "\u001b[34m|\u001b[m * \u001b[33m8df3429\u001b[m\u001b[33m (\u001b[m\u001b[1;32mbranch_no_fast_forward\u001b[m\u001b[33m)\u001b[m file2\n",
      "\u001b[34m|\u001b[m * \u001b[33me4e23c9\u001b[m file1\n",
      "* \u001b[35m|\u001b[m \u001b[33m8bdf4d8\u001b[m file3\n",
      "\u001b[35m|\u001b[m\u001b[35m/\u001b[m  \n",
      "* \u001b[33m94149fc\u001b[m\u001b[33m (\u001b[m\u001b[1;32mbranch_fast_forward\u001b[m\u001b[33m)\u001b[m Eliminado hola.py\n",
      "* \u001b[33m4484e70\u001b[m Eliminado archivo4.py\n",
      "* \u001b[33m564ccfb\u001b[m\u001b[33m (\u001b[m\u001b[1;32mnew_branch2\u001b[m\u001b[33m)\u001b[m Commit con el archivo 8\n",
      "* \u001b[33m5168f78\u001b[m Eliminado archivo7.py\n",
      "* \u001b[33m4bb9d75\u001b[m\u001b[33m (\u001b[m\u001b[1;32mnew_branch\u001b[m\u001b[33m)\u001b[m Commit con el archivo 7\n",
      "* \u001b[33mea615a9\u001b[m Eliminado archivo5.py\n",
      "* \u001b[33me3153a5\u001b[m Commit con los archivos 4 y 5\n",
      "* \u001b[33m0b09cfa\u001b[m Añadido .gitignore\n",
      "* \u001b[33m04ebd1f\u001b[m Commit con los archivos 1 y 2\n",
      "* \u001b[33mc4930d7\u001b[m Tercer commit, hola.py\n",
      "* \u001b[33m6e99e73\u001b[m Segundo commit, hola.py\n",
      "* \u001b[33m1c95e4f\u001b[m Primer commit, hola.py\n"
     ]
    }
   ],
   "source": [
    "!cd notebook_git && git tree"
   ]
  },
  {
   "attachments": {},
   "cell_type": "markdown",
   "metadata": {},
   "source": [
    "Como vemos se ha creado nuestro alias"
   ]
  },
  {
   "attachments": {},
   "cell_type": "markdown",
   "metadata": {},
   "source": [
    "### Alias de comandos existentes de git"
   ]
  },
  {
   "attachments": {},
   "cell_type": "markdown",
   "metadata": {},
   "source": [
    "Se pueden crear alias de comandos que ya existen en git, de hecho, es una práctica que usa mucha gente, sobre todo para abreviar, por lo que vamos a hacer uno. Vamos a hacer un alias del comando `git status` y lo vamos a renombrar como `git st` de la siguiente manera `git config --global alias.st \"status\"`"
   ]
  },
  {
   "cell_type": "code",
   "execution_count": 219,
   "metadata": {},
   "outputs": [],
   "source": [
    "!git config --global alias.st \"status\""
   ]
  },
  {
   "attachments": {},
   "cell_type": "markdown",
   "metadata": {},
   "source": [
    "Lo probamos ahora"
   ]
  },
  {
   "cell_type": "code",
   "execution_count": 220,
   "metadata": {},
   "outputs": [
    {
     "name": "stdout",
     "output_type": "stream",
     "text": [
      "En la rama main\n",
      "Tu rama está actualizada con 'origin/main'.\n",
      "\n",
      "nada para hacer commit, el árbol de trabajo está limpio\n"
     ]
    }
   ],
   "source": [
    "!cd notebook_git && git st"
   ]
  },
  {
   "attachments": {},
   "cell_type": "markdown",
   "metadata": {},
   "source": [
    "Ya tenemos el comando `git status` simplificado a `git st`"
   ]
  },
  {
   "attachments": {},
   "cell_type": "markdown",
   "metadata": {},
   "source": [
    "### Alias de comandos que no son de git"
   ]
  },
  {
   "attachments": {},
   "cell_type": "markdown",
   "metadata": {},
   "source": [
    "Podemos crearnos alias de comandos que no sean de git, por ejemplo, porque creamos que git necesita ese nuevo comando, se hace igual con la excepción de que el comando tiene que ir precedido de `!`, es decir, sería `git config --global alias.<nombre del alias> \"!comando\"`"
   ]
  },
  {
   "attachments": {},
   "cell_type": "markdown",
   "metadata": {},
   "source": [
    "Cuando hemos visto los conflictos, hemos visto que git nos decía donde estaban, pero para solucionarlos tenemos que editar el código nosotros mismo, por lo que podemos crear un alias de git de manera que podamos abrir un archivo con el editor de textos que queramos, en mi caso voy a crear un alias que me abrirá los archivos con `vscode` para ello tengo que hacer `git config --global alias.code \"!code\"`"
   ]
  },
  {
   "cell_type": "code",
   "execution_count": 222,
   "metadata": {},
   "outputs": [],
   "source": [
    "!git config --global alias.code \"!code\""
   ]
  },
  {
   "attachments": {},
   "cell_type": "markdown",
   "metadata": {},
   "source": [
    "Lo probamos"
   ]
  },
  {
   "cell_type": "code",
   "execution_count": 223,
   "metadata": {},
   "outputs": [],
   "source": [
    "!cd notebook_git && git code README.md"
   ]
  },
  {
   "attachments": {},
   "cell_type": "markdown",
   "metadata": {},
   "source": [
    "Tras hacer esto, se me ha abierto `README.md` en `vscode`"
   ]
  },
  {
   "attachments": {},
   "cell_type": "markdown",
   "metadata": {},
   "source": [
    "### Lista con todos los alias"
   ]
  },
  {
   "attachments": {},
   "cell_type": "markdown",
   "metadata": {},
   "source": [
    "En caso de no acordarnos de los alias que hemos creado podemos ver la configuración global de git, pero como esto puede ser un poco abrumador porque nos da mucha información, podemo filtrar para que nos muestre solo los alias que hemos creado, para ello usamos `git config --get-regexp ^alias\\.`"
   ]
  },
  {
   "cell_type": "code",
   "execution_count": 224,
   "metadata": {},
   "outputs": [
    {
     "name": "stdout",
     "output_type": "stream",
     "text": [
      "alias.tree log --graph --oneline --decorate\n",
      "alias.st status\n",
      "alias.code !code\n"
     ]
    }
   ],
   "source": [
    "!git config --get-regexp ^alias\\."
   ]
  },
  {
   "attachments": {},
   "cell_type": "markdown",
   "metadata": {},
   "source": [
    "Obtenemos los alais que hemos creado"
   ]
  },
  {
   "attachments": {},
   "cell_type": "markdown",
   "metadata": {},
   "source": [
    "Pero aun mejor, podemos crear un alias para obtener los alias, para ello hacemos `git config --global alias.alias \"config --get-regexp ^alias\\.\"`"
   ]
  },
  {
   "cell_type": "code",
   "execution_count": 225,
   "metadata": {},
   "outputs": [],
   "source": [
    "!git config --global alias.alias \"config --get-regexp ^alias\\.\""
   ]
  },
  {
   "attachments": {},
   "cell_type": "markdown",
   "metadata": {},
   "source": [
    "Si ahora hacemos `git alias`"
   ]
  },
  {
   "cell_type": "code",
   "execution_count": 226,
   "metadata": {},
   "outputs": [
    {
     "name": "stdout",
     "output_type": "stream",
     "text": [
      "alias.tree log --graph --oneline --decorate\n",
      "alias.st status\n",
      "alias.code !code\n",
      "alias.alias config --get-regexp ^alias\\.\n"
     ]
    }
   ],
   "source": [
    "!git alias"
   ]
  },
  {
   "attachments": {},
   "cell_type": "markdown",
   "metadata": {},
   "source": [
    "Obtenemos la lista con todos nuestros alias"
   ]
  },
  {
   "attachments": {},
   "cell_type": "markdown",
   "metadata": {},
   "source": [
    "## Stash"
   ]
  }
 ],
 "metadata": {
  "kernelspec": {
   "display_name": "base",
   "language": "python",
   "name": "python3"
  },
  "language_info": {
   "codemirror_mode": {
    "name": "ipython",
    "version": 3
   },
   "file_extension": ".py",
   "mimetype": "text/x-python",
   "name": "python",
   "nbconvert_exporter": "python",
   "pygments_lexer": "ipython3",
   "version": "3.10.9"
  },
  "orig_nbformat": 4
 },
 "nbformat": 4,
 "nbformat_minor": 2
}
