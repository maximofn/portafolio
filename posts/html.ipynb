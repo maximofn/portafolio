{
 "cells": [
  {
   "cell_type": "markdown",
   "metadata": {},
   "source": [
    "# HTML"
   ]
  },
  {
   "cell_type": "markdown",
   "metadata": {},
   "source": [
    "## Head"
   ]
  },
  {
   "cell_type": "markdown",
   "metadata": {},
   "source": [
    "El `head` tiene que empezar con una etiqueta `!DOCTYPE` que indica al navegador la versión de html, con poner html el navegador entiende que es la 5\n",
    "\n",
    "``` html\n",
    "<!DOCTYPE html>\n",
    "```"
   ]
  },
  {
   "cell_type": "markdown",
   "metadata": {},
   "source": [
    "A continuación se tiene que poner un contenedor con la etiqueta `html` con un atributo llamado `lang` que indica el idioma con el que se ha escrito la página\n",
    "\n",
    "``` html\n",
    "<!DOCTYPE html>\n",
    "<html lang=\"es\">\n",
    "</html>\n",
    "```"
   ]
  },
  {
   "cell_type": "markdown",
   "metadata": {},
   "source": [
    "Dentro se crean dos contenedores más, el de `head` y el de `body`\n",
    "\n",
    "``` html\n",
    "<!DOCTYPE html>\n",
    "<html lang=\"es\">\n",
    "    <head>\n",
    "    </head>\n",
    "    <body>\n",
    "    </body>\n",
    "</html>\n",
    "```\n",
    "\n",
    "En el contenedor `head` va todo lo que el navegador necesita para poder cargar, mientras que en el body va todo lo que se va a ver en la página"
   ]
  },
  {
   "cell_type": "markdown",
   "metadata": {},
   "source": [
    "Una de las etiquetas del `head` es `meta` que lleva un atributo llamado `charset` que indica el tipo de codificación del texto, normalmente es `UTF-8`, `UTF-16`. Otro tipo de `meta` es el `name=\"description\"` que es una descripción para los navegadores. Otro tipo de meta es el `name=\"robots\"` que es para los robots de los buscadores e indica si se puede segui la página o no. Otro atributo del `head` es `title` que indica el título que se ve en la pestaña. Otro meta es `name=\"viewport\"` que es para el responsible design. Hay una etiqueta para el `CSS` que es `link`\n",
    "\n",
    "``` html\n",
    "<!DOCTYPE html>\n",
    "<html lang=\"es\">\n",
    "    <head>\n",
    "        <meta charset=\"UTF-8\"/>\n",
    "        <meta name=\"description\" content=\"Descripción para los buscadores\"/>\n",
    "        <meta name=\"robots\" content=\"index,folow\"/>\n",
    "        <title>Título pestaña</title>\n",
    "        <meta name=\"viewport\" content=\"width=device-eidth, initial-scale=1.0\"/>\n",
    "        <link rel=\"stulesheet\" href=\"path\"/>\n",
    "    </head>\n",
    "    <body>\n",
    "    </body>\n",
    "</html>\n",
    "```"
   ]
  },
  {
   "cell_type": "markdown",
   "metadata": {},
   "source": [
    "## Body"
   ]
  },
  {
   "cell_type": "markdown",
   "metadata": {},
   "source": [
    "Hay etiquetas contenedoras que ayudan a crear una estructuran y llevan más etiquetas dentro. Y hay etiquetas contenedoras que son las que contienen el texto, imágenes, etc."
   ]
  },
  {
   "cell_type": "markdown",
   "metadata": {},
   "source": [
    "### Etiquetas contenedoras"
   ]
  },
  {
   "cell_type": "markdown",
   "metadata": {},
   "source": [
    "#### Header"
   ]
  },
  {
   "cell_type": "markdown",
   "metadata": {},
   "source": [
    "Esta es la etiqueta para describir el `header`\n",
    "\n",
    "``` html\n",
    "<!DOCTYPE html>\n",
    "<html lang=\"es\">\n",
    "    <head>\n",
    "        <meta charset=\"UTF-8\"/>\n",
    "        <meta name=\"description\" content=\"Descripción para los buscadores\"/>\n",
    "        <meta name=\"robots\" content=\"index,folow\"/>\n",
    "        <title>Título pestaña</title>\n",
    "        <meta name=\"viewport\" content=\"width=device-eidth, initial-scale=1.0\"/>\n",
    "        <link rel=\"stylesheet\" href=\"path\"/>\n",
    "    </head>\n",
    "    <body>\n",
    "        <header>\n",
    "        </header>\n",
    "    </body>\n",
    "</html>\n",
    "```"
   ]
  },
  {
   "cell_type": "markdown",
   "metadata": {},
   "source": [
    "#### Main"
   ]
  },
  {
   "cell_type": "markdown",
   "metadata": {},
   "source": [
    "Esta es la etiqueta para describir el `main`\n",
    "\n",
    "``` html\n",
    "<!DOCTYPE html>\n",
    "<html lang=\"es\">\n",
    "    <head>\n",
    "        <meta charset=\"UTF-8\"/>\n",
    "        <meta name=\"description\" content=\"Descripción para los buscadores\"/>\n",
    "        <meta name=\"robots\" content=\"index,folow\"/>\n",
    "        <title>Título pestaña</title>\n",
    "        <meta name=\"viewport\" content=\"width=device-eidth, initial-scale=1.0\"/>\n",
    "        <link rel=\"stylesheet\" href=\"path\"/>\n",
    "    </head>\n",
    "    <body>\n",
    "        <header>\n",
    "        </header>\n",
    "        <main>\n",
    "        </main>\n",
    "    </body>\n",
    "</html>\n",
    "```"
   ]
  },
  {
   "cell_type": "markdown",
   "metadata": {},
   "source": [
    "#### Footer"
   ]
  },
  {
   "cell_type": "markdown",
   "metadata": {},
   "source": [
    "Esta es la etiqueta para describir el `footer`\n",
    "\n",
    "``` html\n",
    "<!DOCTYPE html>\n",
    "<html lang=\"es\">\n",
    "    <head>\n",
    "        <meta charset=\"UTF-8\"/>\n",
    "        <meta name=\"description\" content=\"Descripción para los buscadores\"/>\n",
    "        <meta name=\"robots\" content=\"index,folow\"/>\n",
    "        <title>Título pestaña</title>\n",
    "        <meta name=\"viewport\" content=\"width=device-eidth, initial-scale=1.0\"/>\n",
    "        <link rel=\"stylesheet\" href=\"path\"/>\n",
    "    </head>\n",
    "    <body>\n",
    "        <header>\n",
    "        </header>\n",
    "        <main>\n",
    "        </main>\n",
    "        <footer>\n",
    "        </footer>\n",
    "    </body>\n",
    "</html>\n",
    "```"
   ]
  },
  {
   "cell_type": "markdown",
   "metadata": {},
   "source": [
    "#### Section"
   ]
  },
  {
   "cell_type": "markdown",
   "metadata": {},
   "source": [
    "Dentro de `main` se pueden hacer secciones\n",
    "\n",
    "``` html\n",
    "<!DOCTYPE html>\n",
    "<html lang=\"es\">\n",
    "    <head>\n",
    "        <meta charset=\"UTF-8\"/>\n",
    "        <meta name=\"description\" content=\"Descripción para los buscadores\"/>\n",
    "        <meta name=\"robots\" content=\"index,folow\"/>\n",
    "        <title>Título pestaña</title>\n",
    "        <meta name=\"viewport\" content=\"width=device-eidth, initial-scale=1.0\"/>\n",
    "        <link rel=\"stylesheet\" href=\"path\"/>\n",
    "    </head>\n",
    "    <body>\n",
    "        <header>\n",
    "        </header>\n",
    "        <main>\n",
    "            <section>\n",
    "            </section>\n",
    "        </main>\n",
    "        <footer>\n",
    "        </footer>\n",
    "    </body>\n",
    "</html>\n",
    "```"
   ]
  },
  {
   "cell_type": "markdown",
   "metadata": {},
   "source": [
    "#### Article"
   ]
  },
  {
   "cell_type": "markdown",
   "metadata": {},
   "source": [
    "Dentro de `main` se pueden haber artículos\n",
    "\n",
    "``` html\n",
    "<!DOCTYPE html>\n",
    "<html lang=\"es\">\n",
    "    <head>\n",
    "        <meta charset=\"UTF-8\"/>\n",
    "        <meta name=\"description\" content=\"Descripción para los buscadores\"/>\n",
    "        <meta name=\"robots\" content=\"index,folow\"/>\n",
    "        <title>Título pestaña</title>\n",
    "        <meta name=\"viewport\" content=\"width=device-eidth, initial-scale=1.0\"/>\n",
    "        <link rel=\"stylesheet\" href=\"path\"/>\n",
    "    </head>\n",
    "    <body>\n",
    "        <header>\n",
    "        </header>\n",
    "        <main>\n",
    "            <section>\n",
    "                <article>\n",
    "                </article>\n",
    "            </section>\n",
    "        </main>\n",
    "        <footer>\n",
    "        </footer>\n",
    "    </body>\n",
    "</html>\n",
    "```"
   ]
  },
  {
   "cell_type": "markdown",
   "metadata": {},
   "source": [
    "#### Listas no ordenadas `ul`"
   ]
  },
  {
   "cell_type": "markdown",
   "metadata": {},
   "source": [
    "Dentro de `main` se pueden haber listas no ordenadas, cada item de la lista tiene que tener la etiqueta `li`\n",
    "\n",
    "``` html\n",
    "<!DOCTYPE html>\n",
    "<html lang=\"es\">\n",
    "    <head>\n",
    "        <meta charset=\"UTF-8\"/>\n",
    "        <meta name=\"description\" content=\"Descripción para los buscadores\"/>\n",
    "        <meta name=\"robots\" content=\"index,folow\"/>\n",
    "        <title>Título pestaña</title>\n",
    "        <meta name=\"viewport\" content=\"width=device-eidth, initial-scale=1.0\"/>\n",
    "        <link rel=\"stylesheet\" href=\"path\"/>\n",
    "    </head>\n",
    "    <body>\n",
    "        <header>\n",
    "        </header>\n",
    "        <main>\n",
    "            <section>\n",
    "                <article>\n",
    "                </article>\n",
    "            </section>\n",
    "            <ul>\n",
    "                <li></li>\n",
    "            </ul>\n",
    "        </main>\n",
    "        <footer>\n",
    "        </footer>\n",
    "    </body>\n",
    "</html>\n",
    "```"
   ]
  },
  {
   "cell_type": "markdown",
   "metadata": {},
   "source": [
    "#### Listas ordenadas `ol`"
   ]
  },
  {
   "cell_type": "markdown",
   "metadata": {},
   "source": [
    "Dentro de `main` se pueden haber listas ordenadas, cada item de la lista tiene que tener la etiqueta `li`\n",
    "\n",
    "``` html\n",
    "<!DOCTYPE html>\n",
    "<html lang=\"es\">\n",
    "    <head>\n",
    "        <meta charset=\"UTF-8\"/>\n",
    "        <meta name=\"description\" content=\"Descripción para los buscadores\"/>\n",
    "        <meta name=\"robots\" content=\"index,folow\"/>\n",
    "        <title>Título pestaña</title>\n",
    "        <meta name=\"viewport\" content=\"width=device-eidth, initial-scale=1.0\"/>\n",
    "        <link rel=\"stylesheet\" href=\"path\"/>\n",
    "    </head>\n",
    "    <body>\n",
    "        <header>\n",
    "        </header>\n",
    "        <main>\n",
    "            <section>\n",
    "                <article>\n",
    "                </article>\n",
    "            </section>\n",
    "            <ul>\n",
    "                <li></li>\n",
    "            </ul>\n",
    "            <ol>\n",
    "                <li></li>\n",
    "            </ol>\n",
    "        </main>\n",
    "        <footer>\n",
    "        </footer>\n",
    "    </body>\n",
    "</html>\n",
    "```"
   ]
  },
  {
   "cell_type": "markdown",
   "metadata": {},
   "source": [
    "La última etiqueta contenedora es `div`"
   ]
  },
  {
   "cell_type": "markdown",
   "metadata": {},
   "source": [
    "Con esto hemos terminado la maqutación de la página web"
   ]
  },
  {
   "cell_type": "markdown",
   "metadata": {},
   "source": [
    "### Etiquetas de contenido"
   ]
  },
  {
   "cell_type": "markdown",
   "metadata": {},
   "source": [
    "Para crear un nuevo párrafo utilizamos la etiqueta `p`"
   ]
  },
  {
   "cell_type": "markdown",
   "metadata": {},
   "source": [
    "Para crear un título tenemos las etiquetas `h1`, `h2`, `h3`, `h4`, `h5`, `h6`."
   ]
  },
  {
   "cell_type": "markdown",
   "metadata": {},
   "source": [
    "Para crear hipervínculos se usa la etiqueta `a`, el atributo `href` indica la dirección del hipervínculo. Si se pone una almohadilla `#` no se refresca la página"
   ]
  },
  {
   "cell_type": "markdown",
   "metadata": {},
   "source": [
    "### Etiquetas multimedia"
   ]
  },
  {
   "cell_type": "markdown",
   "metadata": {},
   "source": [
    "Existen dos tipos de imágenes\n",
    " * Lossy (con pérdida): Estas imágenes pierden la calidad, pero son menos pesadas. Jpg, jpeg\n",
    " * Lossless (sin pérdida): Estas imágenes no pierden la calidad, pero son muy pesadas. Gif, png-8, png-24, svg"
   ]
  },
  {
   "cell_type": "markdown",
   "metadata": {},
   "source": [
    "#### Optimización de las imágenes"
   ]
  },
  {
   "cell_type": "markdown",
   "metadata": {},
   "source": [
    "El tamaño promedio debe ser de 70 kB\n",
    "\n",
    "* [Tiny PNG](https://tinypng.com/): mejora el tamaño de la imagen\n",
    "* [Verexif](https://www.verexif.com/): Quita los metadatos de la imagen"
   ]
  },
  {
   "cell_type": "markdown",
   "metadata": {},
   "source": [
    "#### Etiqueta img"
   ]
  },
  {
   "cell_type": "markdown",
   "metadata": {},
   "source": [
    "Página para descargar imágenes gratuitas por internet [pexels](https://www.pexels.com/es-es/)"
   ]
  },
  {
   "cell_type": "markdown",
   "metadata": {},
   "source": [
    "La etiqueta `img` tiene el atributo `src` donde se indica la fuente, y el atributo `alt` donde se indica el texto alternativo"
   ]
  },
  {
   "cell_type": "markdown",
   "metadata": {},
   "source": [
    "#### Etiqueta `figure`"
   ]
  },
  {
   "cell_type": "markdown",
   "metadata": {},
   "source": [
    "Esta etiqueta nos permite crear un contenedor para la imagen, por ejemplo nos permite añadir una descripción, para ello se necesita usar la etiqueta `figcapture`"
   ]
  },
  {
   "cell_type": "markdown",
   "metadata": {},
   "source": [
    "#### Etiqueta `video`"
   ]
  },
  {
   "cell_type": "markdown",
   "metadata": {},
   "source": [
    "Con esta etiqueta se pueden añadir vídeos, para ello se usa el atributo `src`. Para que aparezcan los botones de reproducción hay que poner el atributo `controls`. El último atributo es `preload=\"auto\"`, esto es para que el vídeo se empiece a descargar cuando se empieza a cargar la página, así cuando lo va a reproducir el usuario ya tiene mucho cargado y tardará menos en reproducirse.\n",
    "\n",
    "Si quieres que empiece a reproducirse en un minuto determinado, en `src` justo después de la fuente hay que poner `#t=xx,yy`\n",
    "\n",
    "Si el video está en varios formatos, la fuente hay que ponerla dentro de una etiqueta llamada `source`, ahí se indican las distintas posibles fuentes del video. El navegador decidirá qué fuente usar. Esto es porque hay navegadores que reproducen mejor unos vídeos u otros"
   ]
  },
  {
   "cell_type": "markdown",
   "metadata": {},
   "source": [
    "### Formularios"
   ]
  },
  {
   "cell_type": "markdown",
   "metadata": {},
   "source": [
    "tbf"
   ]
  }
 ],
 "metadata": {
  "kernelspec": {
   "display_name": "Python 3.8.10 64-bit",
   "language": "python",
   "name": "python3"
  },
  "language_info": {
   "name": "python",
   "version": "3.8.10"
  },
  "orig_nbformat": 4,
  "vscode": {
   "interpreter": {
    "hash": "916dbcbb3f70747c44a77c7bcd40155683ae19c65e1c03b4aa3499c5328201f1"
   }
  }
 },
 "nbformat": 4,
 "nbformat_minor": 2
}
