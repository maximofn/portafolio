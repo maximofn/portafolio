{
  "cells": [
    {
      "cell_type": "markdown",
      "metadata": {
        "id": "dsaKCKL0IxZl_discalimer"
      },
      "source": [
        "# Introduction to Python"
      ]
    },
    {
      "cell_type": "markdown",
      "metadata": {
        "id": "dsaKCKL0IxZl_discalimer"
      },
      "source": [
        " > Disclaimer: This post has been translated to English using a machine translation model. Please, let me know if you find any mistakes."
      ]
    },
    {
      "cell_type": "markdown",
      "metadata": {
        "id": "Ho_8zgIiI0We"
      },
      "source": [
        "## 1. Summary"
      ]
    },
    {
      "cell_type": "markdown",
      "metadata": {
        "id": "tT4POPIFNU9M"
      },
      "source": [
        "Let's make a brief introduction to Python, explaining the data types we have, operators, the use of functions and classes. Additionally, we will see how to use iterable objects, how to use modules, etc.",
        "\n",
        "![python](https://pub-fb664c455eca46a2ba762a065ac900f7.r2.dev/icon-python.webp)"
      ]
    },
    {
      "cell_type": "markdown",
      "metadata": {
        "id": "bVHYziwKQRnG"
      },
      "source": [
        "## 2. Data types in Python"
      ]
    },
    {
      "cell_type": "markdown",
      "metadata": {
        "id": "y-u-BTORQUwq"
      },
      "source": [
        "There are 7 data types in Python",
        "\n",
        "\n",
        "\n",
        "1. Text type: `str`",
        "2. Numerical: `int`, `float`, `complex`",
        "3. Sequences: `list`, `tuple`, `range`",
        "4. Mapping: `dict`",
        "5. Sets: `set`, `frozenset`",
        "6. Booleans: `bool`",
        "7. Binaries: `bytes`, `bytearray`, `memoryview`",
        "\n"
      ]
    },
    {
      "cell_type": "markdown",
      "metadata": {
        "id": "f4uMzcu5a5qJ"
      },
      "source": [
        "We can get the data type using the `type()` function."
      ]
    },
    {
      "cell_type": "code",
      "execution_count": 1,
      "metadata": {
        "colab": {
          "base_uri": "https://localhost:8080/"
        },
        "id": "Py_OA6f6a-vg",
        "outputId": "2a29ce18-065d-4620-98d9-a6a3907140e8"
      },
      "outputs": [
        {
          "data": {
            "text/plain": [
              "float"
            ]
          },
          "execution_count": 1,
          "metadata": {},
          "output_type": "execute_result"
        }
      ],
      "source": [
        "type(5.)"
      ]
    },
    {
      "cell_type": "markdown",
      "metadata": {
        "id": "oLmx_2SObIka"
      },
      "source": [
        "Python is a dynamically typed language, which means you can have a variable of one type and then assign it another type."
      ]
    },
    {
      "cell_type": "code",
      "execution_count": 2,
      "metadata": {
        "colab": {
          "base_uri": "https://localhost:8080/"
        },
        "id": "jTV1z1JGbQGA",
        "outputId": "0c883266-0dc4-4951-887a-e4d5ca3f87ac"
      },
      "outputs": [
        {
          "data": {
            "text/plain": [
              "int"
            ]
          },
          "execution_count": 2,
          "metadata": {},
          "output_type": "execute_result"
        }
      ],
      "source": [
        "a = 5\n",
        "type(a)"
      ]
    },
    {
      "cell_type": "code",
      "execution_count": 3,
      "metadata": {
        "colab": {
          "base_uri": "https://localhost:8080/"
        },
        "id": "7S5eSnqBbTEC",
        "outputId": "b0bc7e55-6d8e-4c17-b2f4-de34efc91705"
      },
      "outputs": [
        {
          "data": {
            "text/plain": [
              "str"
            ]
          },
          "execution_count": 3,
          "metadata": {},
          "output_type": "execute_result"
        }
      ],
      "source": [
        "a = 'MaximoFN'\n",
        "type(a)"
      ]
    },
    {
      "cell_type": "markdown",
      "metadata": {
        "id": "TQx6S0jwbYiz"
      },
      "source": [
        "Python types variables for you, but if you want to type them yourself, you can do so."
      ]
    },
    {
      "cell_type": "code",
      "execution_count": 4,
      "metadata": {
        "colab": {
          "base_uri": "https://localhost:8080/"
        },
        "id": "TwGUvyslbdZG",
        "outputId": "4176f5c0-07ed-43b2-e326-26307666794f"
      },
      "outputs": [
        {
          "data": {
            "text/plain": [
              "(int, 5)"
            ]
          },
          "execution_count": 4,
          "metadata": {},
          "output_type": "execute_result"
        }
      ],
      "source": [
        "b = int(5.1)\n",
        "type(b), b"
      ]
    },
    {
      "cell_type": "markdown",
      "metadata": {
        "id": "66LM7aCxbmrv"
      },
      "source": [
        "Although `b` has been initialized as `5.1`, that is, it should be of type `float`, when we type it as `int`, we see that it is of type `int` and its value is `5`"
      ]
    },
    {
      "cell_type": "markdown",
      "metadata": {
        "id": "Hjo7Gcv9ST6X"
      },
      "source": [
        "### 2.1. Strings"
      ]
    },
    {
      "cell_type": "markdown",
      "metadata": {
        "id": "D0u3XwpxS4g4"
      },
      "source": [
        "`strings` are sequences of characters, these can be defined with double quotes `\"` or single quotes `'`"
      ]
    },
    {
      "cell_type": "code",
      "execution_count": 5,
      "metadata": {
        "colab": {
          "base_uri": "https://localhost:8080/",
          "height": 35
        },
        "id": "LxTlUwWdSmQW",
        "outputId": "b6edcdd8-0a12-441b-8d04-628526ab143c"
      },
      "outputs": [
        {
          "data": {
            "text/plain": [
              "'MaximoFN'"
            ]
          },
          "execution_count": 5,
          "metadata": {},
          "output_type": "execute_result"
        }
      ],
      "source": [
        "string = \"MaximoFN\"\n",
        "string"
      ]
    },
    {
      "cell_type": "code",
      "execution_count": 6,
      "metadata": {
        "colab": {
          "base_uri": "https://localhost:8080/",
          "height": 35
        },
        "id": "JUGeuIjLTLTt",
        "outputId": "6b7057f7-cbb0-46e6-dab1-d5ecb0ca717f"
      },
      "outputs": [
        {
          "data": {
            "text/plain": [
              "'MaximoFN'"
            ]
          },
          "execution_count": 6,
          "metadata": {},
          "output_type": "execute_result"
        }
      ],
      "source": [
        "string = 'MaximoFN'\n",
        "string"
      ]
    },
    {
      "cell_type": "markdown",
      "metadata": {
        "id": "Ksz8_W3mThHM"
      },
      "source": [
        "To write a very long `string` and not have a line that takes up too much space, it can be introduced on multiple lines"
      ]
    },
    {
      "cell_type": "code",
      "execution_count": 7,
      "metadata": {
        "colab": {
          "base_uri": "https://localhost:8080/",
          "height": 35
        },
        "id": "AxZS5ie5TOOa",
        "outputId": "c9ad8533-7e65-4295-ac7d-55befb1113d8"
      },
      "outputs": [
        {
          "data": {
            "text/plain": [
              "'Este es un ejemplo de\\ncomo estoy introduciendo un string\\nen varias lineas'"
            ]
          },
          "execution_count": 7,
          "metadata": {},
          "output_type": "execute_result"
        }
      ],
      "source": [
        "string = \"\"\"Este es un ejemplo de\n",
        "como estoy introduciendo un string\n",
        "en varias lineas\"\"\"\n",
        "string"
      ]
    },
    {
      "cell_type": "code",
      "execution_count": 8,
      "metadata": {
        "colab": {
          "base_uri": "https://localhost:8080/",
          "height": 35
        },
        "id": "6gpYdZBxTxuZ",
        "outputId": "594adefc-6256-4a38-b5f0-1813feee93ab"
      },
      "outputs": [
        {
          "data": {
            "text/plain": [
              "'Este es un ejemplo de\\ncomo estoy introduciendo un string\\nen varias lineas'"
            ]
          },
          "execution_count": 8,
          "metadata": {},
          "output_type": "execute_result"
        }
      ],
      "source": [
        "string = '''Este es un ejemplo de\n",
        "como estoy introduciendo un string\n",
        "en varias lineas'''\n",
        "string"
      ]
    },
    {
      "cell_type": "markdown",
      "metadata": {
        "id": "ZKUxEuzeUDeu"
      },
      "source": [
        "However, we see that in the middle it has inserted the character `\n`, this character indicates a line break. If we use the `print()` function, we will see that it no longer appears."
      ]
    },
    {
      "cell_type": "code",
      "execution_count": 9,
      "metadata": {
        "colab": {
          "base_uri": "https://localhost:8080/"
        },
        "id": "pNJmfstQT4sp",
        "outputId": "783ec095-591d-4bba-e5e3-91518b693f86"
      },
      "outputs": [
        {
          "name": "stdout",
          "output_type": "stream",
          "text": [
            "Este es un ejemplo de\n",
            "como estoy introduciendo un string\n",
            "en varias lineas\n"
          ]
        }
      ],
      "source": [
        "print(string)"
      ]
    },
    {
      "cell_type": "markdown",
      "metadata": {
        "id": "IyX_CpSCUZhD"
      },
      "source": [
        "As we have said, strings are sequences of characters, so we can navigate and iterate through them."
      ]
    },
    {
      "cell_type": "code",
      "execution_count": 10,
      "metadata": {
        "colab": {
          "base_uri": "https://localhost:8080/"
        },
        "id": "fePQ_RHVUQVk",
        "outputId": "3634de4f-b0a4-40c1-bb3f-9049f72d91c0"
      },
      "outputs": [
        {
          "name": "stdout",
          "output_type": "stream",
          "text": [
            "Este es un"
          ]
        }
      ],
      "source": [
        "for i in range(10):\n",
        "  # Se indica a la funci\u00f3n print que cuando imprima no termine con un salto de \n",
        "  # linea para escribir todo en la misma linea\n",
        "  print(string[i], end='')"
      ]
    },
    {
      "cell_type": "markdown",
      "metadata": {
        "id": "L2f5ZHA0Vaas"
      },
      "source": [
        "We can get the length of our string using the `len()` function."
      ]
    },
    {
      "cell_type": "code",
      "execution_count": 11,
      "metadata": {
        "colab": {
          "base_uri": "https://localhost:8080/"
        },
        "id": "F4_iYrxNUiQD",
        "outputId": "8c5df607-2b1c-4526-c4fa-2fc7bcab2cad"
      },
      "outputs": [
        {
          "data": {
            "text/plain": [
              "73"
            ]
          },
          "execution_count": 11,
          "metadata": {},
          "output_type": "execute_result"
        }
      ],
      "source": [
        "len(string)"
      ]
    },
    {
      "cell_type": "markdown",
      "metadata": {
        "id": "sTD9lUv0Vm9C"
      },
      "source": [
        "Check if there is a specific string within ours"
      ]
    },
    {
      "cell_type": "code",
      "execution_count": 12,
      "metadata": {
        "colab": {
          "base_uri": "https://localhost:8080/"
        },
        "id": "OTDxGBOQVhU2",
        "outputId": "e5acad16-8037-46f6-f7e7-65a19a78f6f9"
      },
      "outputs": [
        {
          "data": {
            "text/plain": [
              "True"
            ]
          },
          "execution_count": 12,
          "metadata": {},
          "output_type": "execute_result"
        }
      ],
      "source": [
        "'ejemplo' in string"
      ]
    },
    {
      "cell_type": "markdown",
      "metadata": {
        "id": "VTgQl9DVnSxo"
      },
      "source": [
        "Strings have certain useful attributes, such as converting everything to uppercase."
      ]
    },
    {
      "cell_type": "code",
      "execution_count": 13,
      "metadata": {
        "colab": {
          "base_uri": "https://localhost:8080/"
        },
        "id": "FId4-4wIV0xt",
        "outputId": "7f965ebd-c6ed-4daf-ff96-6f0e8743e73a"
      },
      "outputs": [
        {
          "name": "stdout",
          "output_type": "stream",
          "text": [
            "ESTE ES UN EJEMPLO DE\n",
            "COMO ESTOY INTRODUCIENDO UN STRING\n",
            "EN VARIAS LINEAS\n"
          ]
        }
      ],
      "source": [
        "print(string.upper())"
      ]
    },
    {
      "cell_type": "markdown",
      "metadata": {
        "id": "8xx2cw5enese"
      },
      "source": [
        "all in lowercase"
      ]
    },
    {
      "cell_type": "code",
      "execution_count": 14,
      "metadata": {
        "colab": {
          "base_uri": "https://localhost:8080/"
        },
        "id": "w8K3wcOpnbfU",
        "outputId": "dd546a15-a35e-45af-e15d-4f0294356e8e"
      },
      "outputs": [
        {
          "name": "stdout",
          "output_type": "stream",
          "text": [
            "este es un ejemplo de\n",
            "como estoy introduciendo un string\n",
            "en varias lineas\n"
          ]
        }
      ],
      "source": [
        "print(string.lower())"
      ]
    },
    {
      "cell_type": "markdown",
      "metadata": {
        "id": "DLky-hJCnm0c"
      },
      "source": [
        "Replace characters"
      ]
    },
    {
      "cell_type": "code",
      "execution_count": 15,
      "metadata": {
        "colab": {
          "base_uri": "https://localhost:8080/"
        },
        "id": "xqZ0Tyqenpf5",
        "outputId": "21238198-759b-4302-84c5-c30871f270b6"
      },
      "outputs": [
        {
          "name": "stdout",
          "output_type": "stream",
          "text": [
            "Este es un ejempl@ de\n",
            "c@m@ est@y intr@duciend@ un string\n",
            "en varias lineas\n"
          ]
        }
      ],
      "source": [
        "print(string.replace('o', '@'))"
      ]
    },
    {
      "cell_type": "markdown",
      "metadata": {
        "id": "MxsEu_qOoDw0"
      },
      "source": [
        "Get all the words"
      ]
    },
    {
      "cell_type": "code",
      "execution_count": 16,
      "metadata": {
        "colab": {
          "base_uri": "https://localhost:8080/"
        },
        "id": "-Bho5czxniB7",
        "outputId": "5455ca01-01a6-4b95-a362-e86a9d9d3337"
      },
      "outputs": [
        {
          "name": "stdout",
          "output_type": "stream",
          "text": [
            "['Este', 'es', 'un', 'ejemplo', 'de', 'como', 'estoy', 'introduciendo', 'un', 'string', 'en', 'varias', 'lineas']\n"
          ]
        }
      ],
      "source": [
        "print(string.split())"
      ]
    },
    {
      "cell_type": "markdown",
      "metadata": {
        "id": "-c1WeEBnoV44"
      },
      "source": [
        "You can see all the string methods in this [link](https://docs.python.org/3.9/library/stdtypes.html#string-methods)"
      ]
    },
    {
      "cell_type": "markdown",
      "metadata": {
        "id": "1_Ght-7AojrB"
      },
      "source": [
        "Another useful thing that can be done with strings is concatenating them."
      ]
    },
    {
      "cell_type": "code",
      "execution_count": 17,
      "metadata": {
        "colab": {
          "base_uri": "https://localhost:8080/",
          "height": 35
        },
        "id": "g3UsRCQSoHzJ",
        "outputId": "127c3229-48cb-4d0d-d9e7-e90267e0435f"
      },
      "outputs": [
        {
          "data": {
            "text/plain": [
              "'MaximoFN'"
            ]
          },
          "execution_count": 17,
          "metadata": {},
          "output_type": "execute_result"
        }
      ],
      "source": [
        "string1 = 'Maximo'\n",
        "string2 = 'FN'\n",
        "string1 + string2"
      ]
    },
    {
      "cell_type": "markdown",
      "metadata": {
        "id": "TsPQMJTto29V"
      },
      "source": [
        "We previously explained that the character `\\n` corresponds to a line break. This special character is part of a series of special characters called `Escape Characters`. Let's look at some others."
      ]
    },
    {
      "cell_type": "markdown",
      "metadata": {
        "id": "CZivRY1GpNuS"
      },
      "source": [
        "If we declare a string with double quotes and want to add a double quote inside the string, we use the escape character `\\\"`"
      ]
    },
    {
      "cell_type": "code",
      "execution_count": 18,
      "metadata": {
        "colab": {
          "base_uri": "https://localhost:8080/"
        },
        "id": "WZhVLbR9ot5v",
        "outputId": "984d8cb4-1d59-4d58-eb31-1bfa08830358"
      },
      "outputs": [
        {
          "name": "stdout",
          "output_type": "stream",
          "text": [
            "Este es el blog de \"MaximoFN\"\n"
          ]
        }
      ],
      "source": [
        "print(\"Este es el blog de \\\"MaximoFN\\\"\")"
      ]
    },
    {
      "cell_type": "markdown",
      "metadata": {
        "id": "KqyQciE5qAf3"
      },
      "source": [
        "The same with the single quote, we add `\\'`"
      ]
    },
    {
      "cell_type": "code",
      "execution_count": 19,
      "metadata": {
        "colab": {
          "base_uri": "https://localhost:8080/"
        },
        "id": "tlv4MFgCqD8a",
        "outputId": "a571264d-e74b-4528-feda-764ffc551ad1"
      },
      "outputs": [
        {
          "name": "stdout",
          "output_type": "stream",
          "text": [
            "Este es el blog de 'MaximoFN'\n"
          ]
        }
      ],
      "source": [
        "print('Este es el blog de \\'MaximoFN\\'')"
      ]
    },
    {
      "cell_type": "markdown",
      "metadata": {
        "id": "195gTIStpjFn"
      },
      "source": [
        "Now we have the problem of whether we want to add the \\\\ character since, as we have seen, it is an `escape character`, so we solve it by putting a double backslash \\\\."
      ]
    },
    {
      "cell_type": "code",
      "execution_count": 20,
      "metadata": {
        "colab": {
          "base_uri": "https://localhost:8080/"
        },
        "id": "IBSW6Hh8peYu",
        "outputId": "603ad879-e1b7-44f0-b3cb-87f3356446e7"
      },
      "outputs": [
        {
          "name": "stdout",
          "output_type": "stream",
          "text": [
            "Este es el blog de \\MaximoFN\\\n"
          ]
        }
      ],
      "source": [
        "print('Este es el blog de \\\\MaximoFN\\\\')"
      ]
    },
    {
      "cell_type": "markdown",
      "metadata": {
        "id": "rI2qaqCeqTS1"
      },
      "source": [
        "We have already seen the newline escape character `\\n`"
      ]
    },
    {
      "cell_type": "code",
      "execution_count": 21,
      "metadata": {
        "colab": {
          "base_uri": "https://localhost:8080/"
        },
        "id": "5t_0-Jk6qOW1",
        "outputId": "c7545a2c-8a40-4f27-9702-a5f622715b57"
      },
      "outputs": [
        {
          "name": "stdout",
          "output_type": "stream",
          "text": [
            "Este es el blog de \n",
            "MaximoFN\n"
          ]
        }
      ],
      "source": [
        "print('Este es el blog de \\nMaximoFN')"
      ]
    },
    {
      "cell_type": "markdown",
      "metadata": {
        "id": "sIYpuXo9qoFU"
      },
      "source": [
        "If we want to write from the beginning of the line, we add \\r"
      ]
    },
    {
      "cell_type": "code",
      "execution_count": 22,
      "metadata": {
        "colab": {
          "base_uri": "https://localhost:8080/"
        },
        "id": "0Q7uZCrrqbgP",
        "outputId": "7a9fb1b7-5ab9-4966-bceb-977881979880"
      },
      "outputs": [
        {
          "name": "stdout",
          "output_type": "stream",
          "text": [
            "Este es el blog de MaximoFN\n"
          ]
        }
      ],
      "source": [
        "print('Esto no se imprimir\u00e1 \\rEste es el blog de MaximoFN')"
      ]
    },
    {
      "cell_type": "markdown",
      "metadata": {
        "id": "Zqh2fs9RVzTz"
      },
      "source": [
        "If we want to add a large space (indent) we use \\t"
      ]
    },
    {
      "cell_type": "code",
      "execution_count": 23,
      "metadata": {
        "colab": {
          "base_uri": "https://localhost:8080/"
        },
        "id": "7BMPg97vqiCt",
        "outputId": "0d1aff73-4859-4300-fd3b-38bd64356f40"
      },
      "outputs": [
        {
          "name": "stdout",
          "output_type": "stream",
          "text": [
            "Este es el blog de \tMaximoFN\n"
          ]
        }
      ],
      "source": [
        "print('Este es el blog de \\tMaximoFN')"
      ]
    },
    {
      "cell_type": "markdown",
      "metadata": {
        "id": "IbZHgwNwWRt_"
      },
      "source": [
        "We can delete a character with `\\b`"
      ]
    },
    {
      "cell_type": "code",
      "execution_count": 24,
      "metadata": {
        "colab": {
          "base_uri": "https://localhost:8080/"
        },
        "id": "xwUirtNBV_qf",
        "outputId": "7dd0ffa0-eae6-4235-b827-45f99cef6a42"
      },
      "outputs": [
        {
          "name": "stdout",
          "output_type": "stream",
          "text": [
            "Este es el blog deMaximoFN\n"
          ]
        }
      ],
      "source": [
        "print('Este es el blog de \\bMaximoFN')"
      ]
    },
    {
      "cell_type": "markdown",
      "metadata": {
        "id": "U1FILwMxWVWG"
      },
      "source": [
        "We can add the [ASCII](http://www.asciitable.com/) code in octal using `\\ooo`"
      ]
    },
    {
      "cell_type": "code",
      "execution_count": 26,
      "metadata": {
        "colab": {
          "base_uri": "https://localhost:8080/"
        },
        "id": "lUmzlDJRWGhZ",
        "outputId": "a54d4d5d-e4ed-426e-f421-4ea1c094425a"
      },
      "outputs": [
        {
          "name": "stdout",
          "output_type": "stream",
          "text": [
            "MaximoFN\n"
          ]
        }
      ],
      "source": [
        "print('\\115\\141\\170\\151\\155\\157\\106\\116')"
      ]
    },
    {
      "cell_type": "markdown",
      "metadata": {
        "id": "L5wFBHq8YOVx"
      },
      "source": [
        "Or add the [ASCII](http://www.asciitable.com/) code in hexadecimal using `\\xhh`"
      ]
    },
    {
      "cell_type": "code",
      "execution_count": 27,
      "metadata": {
        "colab": {
          "base_uri": "https://localhost:8080/"
        },
        "id": "nrzXdTUNWKiy",
        "outputId": "e7a26066-06aa-44f1-8c60-6ca57d86e3d1"
      },
      "outputs": [
        {
          "name": "stdout",
          "output_type": "stream",
          "text": [
            "MaximoFN\n"
          ]
        }
      ],
      "source": [
        "print('\\x4d\\x61\\x78\\x69\\x6d\\x6f\\x46\\x4e')"
      ]
    },
    {
      "cell_type": "markdown",
      "metadata": {
        "id": "6HoijZk6bRcA"
      },
      "source": [
        "Lastly, we can convert another type of data into a string"
      ]
    },
    {
      "cell_type": "code",
      "execution_count": 28,
      "metadata": {
        "colab": {
          "base_uri": "https://localhost:8080/"
        },
        "id": "5OgnubMJbWKQ",
        "outputId": "df07c139-877c-4d53-b7bd-d73123df1602"
      },
      "outputs": [
        {
          "name": "stdout",
          "output_type": "stream",
          "text": [
            "<class 'int'>\n",
            "<class 'str'>\n"
          ]
        }
      ],
      "source": [
        "n = 5\n",
        "print(type (n))\n",
        "string = str(n)\n",
        "print(type(string))"
      ]
    },
    {
      "cell_type": "markdown",
      "metadata": {
        "id": "yUsVAnQRZFjD"
      },
      "source": [
        "### 2.2. Numbers"
      ]
    },
    {
      "cell_type": "markdown",
      "metadata": {
        "id": "NA3qgNT8Zksc"
      },
      "source": [
        "#### 2.2.1. Integers"
      ]
    },
    {
      "cell_type": "markdown",
      "metadata": {
        "id": "3DXSQIMJahgz"
      },
      "source": [
        "Integer numbers"
      ]
    },
    {
      "cell_type": "code",
      "execution_count": 29,
      "metadata": {
        "colab": {
          "base_uri": "https://localhost:8080/"
        },
        "id": "dURoN6XMajRV",
        "outputId": "e6428e4b-5626-4726-fb49-bf16d3160f0b"
      },
      "outputs": [
        {
          "data": {
            "text/plain": [
              "(5, int)"
            ]
          },
          "execution_count": 29,
          "metadata": {},
          "output_type": "execute_result"
        }
      ],
      "source": [
        "n = 5\n",
        "n, type(n)"
      ]
    },
    {
      "cell_type": "markdown",
      "metadata": {
        "id": "5vzzOtXNZnvN"
      },
      "source": [
        "#### 2.2.2. Float"
      ]
    },
    {
      "cell_type": "markdown",
      "metadata": {
        "id": "0VY-SGkHamcp"
      },
      "source": [
        "Floating-point numbers"
      ]
    },
    {
      "cell_type": "code",
      "execution_count": 30,
      "metadata": {
        "colab": {
          "base_uri": "https://localhost:8080/"
        },
        "id": "dZHJA_WOaotE",
        "outputId": "903be084-d0d0-4cd5-8ca0-c28f3c9790ee"
      },
      "outputs": [
        {
          "data": {
            "text/plain": [
              "(5.1, float)"
            ]
          },
          "execution_count": 30,
          "metadata": {},
          "output_type": "execute_result"
        }
      ],
      "source": [
        "n = 5.1\n",
        "n, type(n)"
      ]
    },
    {
      "cell_type": "markdown",
      "metadata": {
        "id": "iIL3VagZZsEh"
      },
      "source": [
        "#### 2.2.3. Complex"
      ]
    },
    {
      "cell_type": "markdown",
      "metadata": {
        "id": "akJYX0yXbJei"
      },
      "source": [
        "Complex numbers"
      ]
    },
    {
      "cell_type": "code",
      "execution_count": 31,
      "metadata": {
        "colab": {
          "base_uri": "https://localhost:8080/"
        },
        "id": "Fe7bMD2Za6Zv",
        "outputId": "30e7a2cb-f96d-4862-db7c-b16c911cd492"
      },
      "outputs": [
        {
          "data": {
            "text/plain": [
              "((3+5j), complex)"
            ]
          },
          "execution_count": 31,
          "metadata": {},
          "output_type": "execute_result"
        }
      ],
      "source": [
        "n = 3 + 5j\n",
        "n, type(n)"
      ]
    },
    {
      "cell_type": "markdown",
      "metadata": {
        "id": "jQHJ-QCxa1Yn"
      },
      "source": [
        "#### 2.2.4. Conversion"
      ]
    },
    {
      "cell_type": "markdown",
      "metadata": {
        "id": "HQJRJW8ObLNb"
      },
      "source": [
        "Numbers can be converted between types"
      ]
    },
    {
      "cell_type": "code",
      "execution_count": 32,
      "metadata": {
        "colab": {
          "base_uri": "https://localhost:8080/"
        },
        "id": "4JAL2mRea_uz",
        "outputId": "7a53d1e6-4e40-4c24-df01-50cc95700208"
      },
      "outputs": [
        {
          "data": {
            "text/plain": [
              "(5.0, float)"
            ]
          },
          "execution_count": 32,
          "metadata": {},
          "output_type": "execute_result"
        }
      ],
      "source": [
        "n = 5\n",
        "n = float(n)\n",
        "n, type(n)"
      ]
    },
    {
      "cell_type": "code",
      "execution_count": 33,
      "metadata": {
        "colab": {
          "base_uri": "https://localhost:8080/"
        },
        "id": "cIsS0Vzvbf2p",
        "outputId": "81796006-cd68-4bd0-b6bd-ff0cad382232"
      },
      "outputs": [
        {
          "data": {
            "text/plain": [
              "((5.1+0j), complex)"
            ]
          },
          "execution_count": 33,
          "metadata": {},
          "output_type": "execute_result"
        }
      ],
      "source": [
        "n = 5.1\n",
        "n = complex(n)\n",
        "n, type(n)"
      ]
    },
    {
      "cell_type": "code",
      "execution_count": 34,
      "metadata": {
        "colab": {
          "base_uri": "https://localhost:8080/"
        },
        "id": "Z_GwdK1tbk51",
        "outputId": "40304bbe-4a99-411a-f48e-f469aa77c728"
      },
      "outputs": [
        {
          "data": {
            "text/plain": [
              "(5, int)"
            ]
          },
          "execution_count": 34,
          "metadata": {},
          "output_type": "execute_result"
        }
      ],
      "source": [
        "n = 5.1\n",
        "n = int(n)\n",
        "n, type(n)"
      ]
    },
    {
      "cell_type": "markdown",
      "metadata": {
        "id": "NGj028sNb14v"
      },
      "source": [
        "A complex number cannot be converted to type `int` or type `float`"
      ]
    },
    {
      "cell_type": "markdown",
      "metadata": {
        "id": "XhjyhuDcZSj8"
      },
      "source": [
        "### 2.3. Sequences"
      ]
    },
    {
      "cell_type": "markdown",
      "metadata": {
        "id": "xxgnTu3fZxfg"
      },
      "source": [
        "#### 2.3.1. Lists"
      ]
    },
    {
      "cell_type": "markdown",
      "metadata": {
        "id": "m9OHqYWwiAB_"
      },
      "source": [
        "Lists store multiple items in a variable. They are declared using the `[]` symbols, with items separated by commas."
      ]
    },
    {
      "cell_type": "code",
      "execution_count": 35,
      "metadata": {
        "colab": {
          "base_uri": "https://localhost:8080/"
        },
        "id": "xFlxCII7iSSb",
        "outputId": "84e6c37e-b2d5-469f-9ee0-8b4fca34e862"
      },
      "outputs": [
        {
          "data": {
            "text/plain": [
              "['item0', 'item1', 'item2', 'item3', 'item4', 'item5']"
            ]
          },
          "execution_count": 35,
          "metadata": {},
          "output_type": "execute_result"
        }
      ],
      "source": [
        "lista = ['item0', 'item1', 'item2', 'item3', 'item4', 'item5']\n",
        "lista"
      ]
    },
    {
      "cell_type": "markdown",
      "metadata": {
        "id": "7ic_1f7BikbA"
      },
      "source": [
        "We can get the length of a list using the `len()` function."
      ]
    },
    {
      "cell_type": "code",
      "execution_count": 36,
      "metadata": {
        "colab": {
          "base_uri": "https://localhost:8080/"
        },
        "id": "OETGIj7BioMB",
        "outputId": "8f0c2caa-f559-4a66-9e7f-36efcc6e27e2"
      },
      "outputs": [
        {
          "data": {
            "text/plain": [
              "6"
            ]
          },
          "execution_count": 36,
          "metadata": {},
          "output_type": "execute_result"
        }
      ],
      "source": [
        "len(lista)"
      ]
    },
    {
      "cell_type": "markdown",
      "metadata": {
        "id": "qBGLpefJitTl"
      },
      "source": [
        "Lists can have items of different types"
      ]
    },
    {
      "cell_type": "code",
      "execution_count": 37,
      "metadata": {
        "colab": {
          "base_uri": "https://localhost:8080/"
        },
        "id": "trCbSZwBiwM5",
        "outputId": "06d5917b-2666-40fb-8354-9b0bc2fe2468"
      },
      "outputs": [
        {
          "data": {
            "text/plain": [
              "['item0', 1, True, 5.3, 'item4', 5, 6.6]"
            ]
          },
          "execution_count": 37,
          "metadata": {},
          "output_type": "execute_result"
        }
      ],
      "source": [
        "lista = ['item0', 1, True, 5.3, \"item4\", 5, 6.6]\n",
        "lista"
      ]
    },
    {
      "cell_type": "markdown",
      "metadata": {
        "id": "SMsz5DE3l7Lc"
      },
      "source": [
        "In Python, counting starts from position 0, that is, if we want to get the first element of the list"
      ]
    },
    {
      "cell_type": "code",
      "execution_count": 38,
      "metadata": {
        "colab": {
          "base_uri": "https://localhost:8080/",
          "height": 35
        },
        "id": "Vm3dvJlrmEGH",
        "outputId": "fbe81d92-9909-4579-fc53-6519ebcc667c"
      },
      "outputs": [
        {
          "data": {
            "text/plain": [
              "'item0'"
            ]
          },
          "execution_count": 38,
          "metadata": {},
          "output_type": "execute_result"
        }
      ],
      "source": [
        "lista[0]"
      ]
    },
    {
      "cell_type": "markdown",
      "metadata": {
        "id": "IiuN4_GimF8b"
      },
      "source": [
        "But one of the powerful things about Python is that if we want to access the last position we can use negative indices"
      ]
    },
    {
      "cell_type": "code",
      "execution_count": 39,
      "metadata": {
        "colab": {
          "base_uri": "https://localhost:8080/"
        },
        "id": "h2sma2ksmP_8",
        "outputId": "af026fc7-f345-4090-e689-603ffd872958"
      },
      "outputs": [
        {
          "data": {
            "text/plain": [
              "6.6"
            ]
          },
          "execution_count": 39,
          "metadata": {},
          "output_type": "execute_result"
        }
      ],
      "source": [
        "lista[-1]"
      ]
    },
    {
      "cell_type": "markdown",
      "metadata": {
        "id": "kHbbe2iDmR0G"
      },
      "source": [
        "If instead of the last position in the list we want the penultimate one"
      ]
    },
    {
      "cell_type": "code",
      "execution_count": 40,
      "metadata": {
        "colab": {
          "base_uri": "https://localhost:8080/"
        },
        "id": "xDL4tWFMmYuX",
        "outputId": "3110ec62-cc17-4682-e77f-a716147cd87f"
      },
      "outputs": [
        {
          "data": {
            "text/plain": [
              "5"
            ]
          },
          "execution_count": 40,
          "metadata": {},
          "output_type": "execute_result"
        }
      ],
      "source": [
        "lista[-2]"
      ]
    },
    {
      "cell_type": "markdown",
      "metadata": {
        "id": "m24gbVJ2merm"
      },
      "source": [
        "If we only want a range of values, for example, from the second to the fifth item, we access them via `[2:5]`"
      ]
    },
    {
      "cell_type": "code",
      "execution_count": 41,
      "metadata": {
        "colab": {
          "base_uri": "https://localhost:8080/"
        },
        "id": "Je8SbgDunBG4",
        "outputId": "d8537840-e0b0-4516-e528-b04601f1b0d5"
      },
      "outputs": [
        {
          "data": {
            "text/plain": [
              "[True, 5.3, 'item4']"
            ]
          },
          "execution_count": 41,
          "metadata": {},
          "output_type": "execute_result"
        }
      ],
      "source": [
        "lista[2:5]"
      ]
    },
    {
      "cell_type": "markdown",
      "metadata": {
        "id": "FicrnAvtnHho"
      },
      "source": [
        "If the first number in the range is omitted, it means we want from the first item in the list to the indicated item, that is, if we want from the first item to the fifth, we use `[:5]`"
      ]
    },
    {
      "cell_type": "code",
      "execution_count": 42,
      "metadata": {
        "colab": {
          "base_uri": "https://localhost:8080/"
        },
        "id": "2Uv5wEwnnjC9",
        "outputId": "23c45022-78ed-46a3-a000-1008ba05cc1e"
      },
      "outputs": [
        {
          "data": {
            "text/plain": [
              "['item0', 1, True, 5.3, 'item4']"
            ]
          },
          "execution_count": 42,
          "metadata": {},
          "output_type": "execute_result"
        }
      ],
      "source": [
        "lista[:5]"
      ]
    },
    {
      "cell_type": "markdown",
      "metadata": {
        "id": "iJlDqRZ1n11B"
      },
      "source": [
        "If the last number in the range is omitted, it means we want from the indicated item to the last. That is, if we want from the third item to the last, we use `[3:]`."
      ]
    },
    {
      "cell_type": "code",
      "execution_count": 43,
      "metadata": {
        "colab": {
          "base_uri": "https://localhost:8080/"
        },
        "id": "yOpn_BbioCt8",
        "outputId": "f2541f1d-5e1f-4fa0-8fc5-1e016cf18d90"
      },
      "outputs": [
        {
          "data": {
            "text/plain": [
              "[5.3, 'item4', 5, 6.6]"
            ]
          },
          "execution_count": 43,
          "metadata": {},
          "output_type": "execute_result"
        }
      ],
      "source": [
        "lista[3:]"
      ]
    },
    {
      "cell_type": "markdown",
      "metadata": {
        "id": "Qv6L4DZaoJf7"
      },
      "source": [
        "We can also choose the range of items with negative numbers, that is, if we want from the third-to-last to the second-to-last we use `[-3:-1]`. This is useful when you have lists whose length is unknown, but you know you want a range of values from the end, for example, because the list was created with measurements that are being taken and you want to know the last averages."
      ]
    },
    {
      "cell_type": "code",
      "execution_count": 44,
      "metadata": {
        "colab": {
          "base_uri": "https://localhost:8080/"
        },
        "id": "RL8Yzwxaop4F",
        "outputId": "59f7a56d-6774-4617-f3ae-5323538770e9"
      },
      "outputs": [
        {
          "data": {
            "text/plain": [
              "['item4', 5]"
            ]
          },
          "execution_count": 44,
          "metadata": {},
          "output_type": "execute_result"
        }
      ],
      "source": [
        "lista[-3:-1]"
      ]
    },
    {
      "cell_type": "markdown",
      "metadata": {
        "id": "DwqndK6WozL8"
      },
      "source": [
        "It can be checked if an item is in the list"
      ]
    },
    {
      "cell_type": "code",
      "execution_count": 45,
      "metadata": {
        "colab": {
          "base_uri": "https://localhost:8080/"
        },
        "id": "sdxXc4nWo2HC",
        "outputId": "1018d98e-d13a-4784-864b-3b4d32e71171"
      },
      "outputs": [
        {
          "data": {
            "text/plain": [
              "True"
            ]
          },
          "execution_count": 45,
          "metadata": {},
          "output_type": "execute_result"
        }
      ],
      "source": [
        "'item4' in lista"
      ]
    },
    {
      "cell_type": "markdown",
      "metadata": {
        "id": "rmFFi1PmwR_m"
      },
      "source": [
        "##### 2.3.1.1. Editing lists"
      ]
    },
    {
      "cell_type": "markdown",
      "metadata": {
        "id": "A6EwS0BmpLEJ"
      },
      "source": [
        "Lists in Python are dynamic, meaning they can be modified. For example, you can modify the third item."
      ]
    },
    {
      "cell_type": "code",
      "execution_count": 46,
      "metadata": {
        "colab": {
          "base_uri": "https://localhost:8080/"
        },
        "id": "07mZv985pV7a",
        "outputId": "9a0d3758-7e3b-428d-867b-f21a8386397a"
      },
      "outputs": [
        {
          "data": {
            "text/plain": [
              "['item0', 1, False, 5.3, 'item4', 5, 6.6]"
            ]
          },
          "execution_count": 46,
          "metadata": {},
          "output_type": "execute_result"
        }
      ],
      "source": [
        "lista[2] = False\n",
        "lista"
      ]
    },
    {
      "cell_type": "markdown",
      "metadata": {
        "id": "fwWIBT-UpbLF"
      },
      "source": [
        "A range of values can also be modified."
      ]
    },
    {
      "cell_type": "code",
      "execution_count": 47,
      "metadata": {
        "colab": {
          "base_uri": "https://localhost:8080/"
        },
        "id": "ai0JsxYhpdsz",
        "outputId": "9500e5b0-21d1-4da1-ad3c-0bbdff7a4ac0"
      },
      "outputs": [
        {
          "data": {
            "text/plain": [
              "['item0', 1.1, True, 3, 'item4', 5, 6.6]"
            ]
          },
          "execution_count": 47,
          "metadata": {},
          "output_type": "execute_result"
        }
      ],
      "source": [
        "lista[1:4] = [1.1, True, 3]\n",
        "lista"
      ]
    },
    {
      "cell_type": "markdown",
      "metadata": {
        "id": "yqTLPy23qLaC"
      },
      "source": [
        "Values can be added to the end of the list using the `append()` method."
      ]
    },
    {
      "cell_type": "code",
      "execution_count": 48,
      "metadata": {
        "colab": {
          "base_uri": "https://localhost:8080/"
        },
        "id": "6vGtvrCCqQ2N",
        "outputId": "4fecf397-441e-426a-f279-4f829252bb62"
      },
      "outputs": [
        {
          "data": {
            "text/plain": [
              "['item0', 1.1, True, 3, 'item4', 5, 6.6, 'item7']"
            ]
          },
          "execution_count": 48,
          "metadata": {},
          "output_type": "execute_result"
        }
      ],
      "source": [
        "lista.append('item7')\n",
        "lista"
      ]
    },
    {
      "cell_type": "markdown",
      "metadata": {
        "id": "Pu11k_oDqefw"
      },
      "source": [
        "Or we can insert a value at a specific position using the `insert()` method."
      ]
    },
    {
      "cell_type": "code",
      "execution_count": 49,
      "metadata": {
        "colab": {
          "base_uri": "https://localhost:8080/"
        },
        "id": "wUkYjsYVqich",
        "outputId": "2f17a16f-544b-467c-bce9-d6a5bf3a0fd3"
      },
      "outputs": [
        {
          "data": {
            "text/plain": [
              "['item0', 1.1, 'insert', True, 3, 'item4', 5, 6.6, 'item7']"
            ]
          },
          "execution_count": 49,
          "metadata": {},
          "output_type": "execute_result"
        }
      ],
      "source": [
        "lista.insert(2, 'insert')\n",
        "lista"
      ]
    },
    {
      "cell_type": "markdown",
      "metadata": {
        "id": "slAcylfVreP-"
      },
      "source": [
        "Lists can be joined using the `extend()` method."
      ]
    },
    {
      "cell_type": "code",
      "execution_count": 50,
      "metadata": {
        "colab": {
          "base_uri": "https://localhost:8080/"
        },
        "id": "7w1qsnxYrsBG",
        "outputId": "dfaf07f7-0210-4142-e329-05030aaac622"
      },
      "outputs": [
        {
          "data": {
            "text/plain": [
              "['item0', 1.1, 'insert', True, 3, 'item4', 5, 6.6, 'item7', 'item8', 'item9']"
            ]
          },
          "execution_count": 50,
          "metadata": {},
          "output_type": "execute_result"
        }
      ],
      "source": [
        "lista2 = ['item8', 'item9']\n",
        "lista.extend(lista2)\n",
        "lista"
      ]
    },
    {
      "cell_type": "markdown",
      "metadata": {
        "id": "vxIzKaX9r_qB"
      },
      "source": [
        "It is not necessary to extend the list using another list; it can be done using another iterable data type in Python (`tuples`, `sets`, `dictionaries`, etc)."
      ]
    },
    {
      "cell_type": "code",
      "execution_count": 51,
      "metadata": {
        "colab": {
          "base_uri": "https://localhost:8080/"
        },
        "id": "3_11NXf-sR8v",
        "outputId": "1edd3244-55a9-4eb2-a3e9-4b05368160f0"
      },
      "outputs": [
        {
          "data": {
            "text/plain": [
              "['item0',\n",
              " 1.1,\n",
              " 'insert',\n",
              " True,\n",
              " 3,\n",
              " 'item4',\n",
              " 5,\n",
              " 6.6,\n",
              " 'item7',\n",
              " 'item8',\n",
              " 'item9',\n",
              " 'item10',\n",
              " 'item11']"
            ]
          },
          "execution_count": 51,
          "metadata": {},
          "output_type": "execute_result"
        }
      ],
      "source": [
        "tupla = ('item10', 'item11')\n",
        "lista.extend(tupla)\n",
        "lista"
      ]
    },
    {
      "cell_type": "markdown",
      "metadata": {
        "id": "MXnxqtIxq7KO"
      },
      "source": [
        "We can remove a specific position using the `pop()` method."
      ]
    },
    {
      "cell_type": "code",
      "execution_count": 52,
      "metadata": {
        "colab": {
          "base_uri": "https://localhost:8080/"
        },
        "id": "vHt6W_rxqwNv",
        "outputId": "bd5d827e-700e-4add-9437-3ed20fe88b60"
      },
      "outputs": [
        {
          "data": {
            "text/plain": [
              "['item0',\n",
              " 1.1,\n",
              " True,\n",
              " 3,\n",
              " 'item4',\n",
              " 5,\n",
              " 6.6,\n",
              " 'item7',\n",
              " 'item8',\n",
              " 'item9',\n",
              " 'item10',\n",
              " 'item11']"
            ]
          },
          "execution_count": 52,
          "metadata": {},
          "output_type": "execute_result"
        }
      ],
      "source": [
        "lista.pop(2)\n",
        "lista"
      ]
    },
    {
      "cell_type": "markdown",
      "metadata": {
        "id": "hJpZP04rsyQw"
      },
      "source": [
        "If the index is not specified, the last item is removed."
      ]
    },
    {
      "cell_type": "code",
      "execution_count": 53,
      "metadata": {
        "colab": {
          "base_uri": "https://localhost:8080/"
        },
        "id": "LzWcQrgEs1uZ",
        "outputId": "0bf0d59c-6b0f-4320-f9c0-f2e41d34fe96"
      },
      "outputs": [
        {
          "data": {
            "text/plain": [
              "['item0', 1.1, True, 3, 'item4', 5, 6.6, 'item7', 'item8', 'item9', 'item10']"
            ]
          },
          "execution_count": 53,
          "metadata": {},
          "output_type": "execute_result"
        }
      ],
      "source": [
        "lista.pop()\n",
        "lista"
      ]
    },
    {
      "cell_type": "markdown",
      "metadata": {
        "id": "5Gz70ufirLBh"
      },
      "source": [
        "Or an item can be removed knowing its value using the `remove()` method."
      ]
    },
    {
      "cell_type": "code",
      "execution_count": 54,
      "metadata": {
        "colab": {
          "base_uri": "https://localhost:8080/"
        },
        "id": "a46v--OjrRj9",
        "outputId": "711c243e-fa1d-4f03-93df-d1804670adc2"
      },
      "outputs": [
        {
          "data": {
            "text/plain": [
              "['item0', 1.1, True, 3, 'item4', 5, 6.6, 'item8', 'item9', 'item10']"
            ]
          },
          "execution_count": 54,
          "metadata": {},
          "output_type": "execute_result"
        }
      ],
      "source": [
        "lista.remove('item7')\n",
        "lista"
      ]
    },
    {
      "cell_type": "markdown",
      "metadata": {
        "id": "gJfrodFIs-c9"
      },
      "source": [
        "With the `del()` function, you can also delete an item from the specified position."
      ]
    },
    {
      "cell_type": "code",
      "execution_count": 55,
      "metadata": {
        "colab": {
          "base_uri": "https://localhost:8080/"
        },
        "id": "FI4y3zA0tCaQ",
        "outputId": "59ed91d3-e401-4f6b-cff4-f755c2e07488"
      },
      "outputs": [
        {
          "data": {
            "text/plain": [
              "['item0', 1.1, True, 'item4', 5, 6.6, 'item8', 'item9', 'item10']"
            ]
          },
          "execution_count": 55,
          "metadata": {},
          "output_type": "execute_result"
        }
      ],
      "source": [
        "del lista[3]\n",
        "lista"
      ]
    },
    {
      "cell_type": "markdown",
      "metadata": {
        "id": "SYrleQU7teBZ"
      },
      "source": [
        "If the index is not specified, the entire list is deleted."
      ]
    },
    {
      "cell_type": "markdown",
      "metadata": {
        "id": "mKEnHnCutoEl"
      },
      "source": [
        "With the `clear()` method, I empty the list."
      ]
    },
    {
      "cell_type": "code",
      "execution_count": 56,
      "metadata": {
        "colab": {
          "base_uri": "https://localhost:8080/"
        },
        "id": "0nrsy6ottg0k",
        "outputId": "983ac253-38e8-445e-bd35-8263ba6033cd"
      },
      "outputs": [
        {
          "data": {
            "text/plain": [
              "[]"
            ]
          },
          "execution_count": 56,
          "metadata": {},
          "output_type": "execute_result"
        }
      ],
      "source": [
        "lista.clear()\n",
        "lista"
      ]
    },
    {
      "cell_type": "markdown",
      "metadata": {
        "id": "69eaK3fO0XUO"
      },
      "source": [
        "The number of items with a specific value can be obtained using the `count()` method."
      ]
    },
    {
      "cell_type": "code",
      "execution_count": 57,
      "metadata": {
        "colab": {
          "base_uri": "https://localhost:8080/"
        },
        "id": "4dLnvUNv0dDK",
        "outputId": "21413e19-24c1-4cb9-e7c9-96374271e4d2"
      },
      "outputs": [
        {
          "data": {
            "text/plain": [
              "4"
            ]
          },
          "execution_count": 57,
          "metadata": {},
          "output_type": "execute_result"
        }
      ],
      "source": [
        "lista = [5, 4, 6, 5, 7, 8, 5, 3, 1, 5]\n",
        "lista.count(5)"
      ]
    },
    {
      "cell_type": "markdown",
      "metadata": {
        "id": "tvTH6h8o0nTD"
      },
      "source": [
        "You can also get the first index of an item with a specific value using the `index()` method."
      ]
    },
    {
      "cell_type": "code",
      "execution_count": 58,
      "metadata": {
        "colab": {
          "base_uri": "https://localhost:8080/"
        },
        "id": "Tc8fsplo0xTt",
        "outputId": "76ec0af6-e69c-46fb-ecab-ead7780d7d7d"
      },
      "outputs": [
        {
          "data": {
            "text/plain": [
              "0"
            ]
          },
          "execution_count": 58,
          "metadata": {},
          "output_type": "execute_result"
        }
      ],
      "source": [
        "lista = [5, 4, 6, 5, 7, 8, 5, 3, 1, 5]\n",
        "lista.index(5)"
      ]
    },
    {
      "cell_type": "markdown",
      "metadata": {
        "id": "9Y9ww24cvCBf"
      },
      "source": [
        "##### 2.3.1.2. List comprehension"
      ]
    },
    {
      "cell_type": "markdown",
      "metadata": {
        "id": "XYGuxlyauGKn"
      },
      "source": [
        "We can operate through the list"
      ]
    },
    {
      "cell_type": "code",
      "execution_count": 59,
      "metadata": {
        "colab": {
          "base_uri": "https://localhost:8080/"
        },
        "id": "8Vusy8Q8uIu4",
        "outputId": "55c79004-fea5-4a75-fd00-7ab0dec74533"
      },
      "outputs": [
        {
          "data": {
            "text/plain": [
              "['apple', 'banana', 'mango']"
            ]
          },
          "execution_count": 59,
          "metadata": {},
          "output_type": "execute_result"
        }
      ],
      "source": [
        "fruits = [\"apple\", \"banana\", \"cherry\", \"kiwi\", \"mango\"]\n",
        "newlist = []\n",
        "\n",
        "# Iteramos por todos los items de la lista\n",
        "for x in fruits:\n",
        "  # Si el item contiene el caracter \"a\" lo a\u00f1adimos a newlist\n",
        "  if \"a\" in x:\n",
        "    newlist.append(x)\n",
        "\n",
        "newlist"
      ]
    },
    {
      "cell_type": "markdown",
      "metadata": {
        "id": "st7Gf7tcuWuV"
      },
      "source": [
        "Some of the powerful features of Python are `list comprehensions`, which allow you to do everything in one line and make the code more compact."
      ]
    },
    {
      "cell_type": "code",
      "execution_count": 60,
      "metadata": {
        "colab": {
          "base_uri": "https://localhost:8080/"
        },
        "id": "VgVji268unGi",
        "outputId": "b716ba4c-5166-4d34-b438-129a6ddb452d"
      },
      "outputs": [
        {
          "data": {
            "text/plain": [
              "['apple', 'banana', 'mango']"
            ]
          },
          "execution_count": 60,
          "metadata": {},
          "output_type": "execute_result"
        }
      ],
      "source": [
        "fruits = [\"apple\", \"banana\", \"cherry\", \"kiwi\", \"mango\"]\n",
        "\n",
        "newlist = [x for x in fruits if \"a\" in x]\n",
        "\n",
        "newlist"
      ]
    },
    {
      "cell_type": "markdown",
      "metadata": {
        "id": "NfQ7-lUHvHmV"
      },
      "source": [
        "The syntax is as follows:",
        "\n",
        "\n",
        "\n",
        "```\n",
        "newlist = [expression for item in iterable if condition == True]",
        "```"
      ]
    },
    {
      "cell_type": "markdown",
      "metadata": {
        "id": "NwaIhuchvvCQ"
      },
      "source": [
        "It can be used to perform operations on the original list"
      ]
    },
    {
      "cell_type": "code",
      "execution_count": 61,
      "metadata": {
        "colab": {
          "base_uri": "https://localhost:8080/"
        },
        "id": "7_s-N-udvzJE",
        "outputId": "463736cf-1d02-41b3-b1cf-efc5844213d9"
      },
      "outputs": [
        {
          "data": {
            "text/plain": [
              "['APPLE', 'BANANA', 'MANGO']"
            ]
          },
          "execution_count": 61,
          "metadata": {},
          "output_type": "execute_result"
        }
      ],
      "source": [
        "newlist = [x.upper() for x in fruits if \"a\" in x]\n",
        "newlist"
      ]
    },
    {
      "cell_type": "markdown",
      "metadata": {
        "id": "yDwfakdFwdQA"
      },
      "source": [
        "##### 2.3.1.3. Sorting lists"
      ]
    },
    {
      "cell_type": "markdown",
      "metadata": {
        "id": "Yb1QHcWQwlwr"
      },
      "source": [
        "To order lists we use the `sort()` method."
      ]
    },
    {
      "cell_type": "code",
      "execution_count": 62,
      "metadata": {
        "colab": {
          "base_uri": "https://localhost:8080/"
        },
        "id": "u-foDLaEwf7g",
        "outputId": "b3ad8e8d-0095-4bfc-c588-1be6d4bf6221"
      },
      "outputs": [
        {
          "data": {
            "text/plain": [
              "[3, 4, 5, 5, 6, 8, 9]"
            ]
          },
          "execution_count": 62,
          "metadata": {},
          "output_type": "execute_result"
        }
      ],
      "source": [
        "lista = [5, 8, 3, 4, 9, 5, 6]\n",
        "lista.sort()\n",
        "lista"
      ]
    },
    {
      "cell_type": "markdown",
      "metadata": {
        "id": "kJ5tCKMwwzpD"
      },
      "source": [
        "It also sorts them alphabetically"
      ]
    },
    {
      "cell_type": "code",
      "execution_count": 63,
      "metadata": {
        "colab": {
          "base_uri": "https://localhost:8080/"
        },
        "id": "afHkUxZvw2qg",
        "outputId": "a5dd7e78-cfba-4335-9e2a-c7d4a63746f1"
      },
      "outputs": [
        {
          "data": {
            "text/plain": [
              "['banana', 'kiwi', 'mango', 'orange', 'pineapple']"
            ]
          },
          "execution_count": 63,
          "metadata": {},
          "output_type": "execute_result"
        }
      ],
      "source": [
        "lista = [\"orange\", \"mango\", \"kiwi\", \"pineapple\", \"banana\"]\n",
        "lista.sort()\n",
        "lista"
      ]
    },
    {
      "cell_type": "markdown",
      "metadata": {
        "id": "FvO8fyMkxyYU"
      },
      "source": [
        "When sorting alphabetically, distinguish between uppercase and lowercase."
      ]
    },
    {
      "cell_type": "code",
      "execution_count": 64,
      "metadata": {
        "colab": {
          "base_uri": "https://localhost:8080/"
        },
        "id": "Tip-pb1_x7gm",
        "outputId": "6782ff27-3ef9-4338-a796-a84e8291db17"
      },
      "outputs": [
        {
          "data": {
            "text/plain": [
              "['Pineapple', 'banana', 'kiwi', 'mango', 'orange']"
            ]
          },
          "execution_count": 64,
          "metadata": {},
          "output_type": "execute_result"
        }
      ],
      "source": [
        "lista = [\"orange\", \"mango\", \"kiwi\", \"Pineapple\", \"banana\"]\n",
        "lista.sort()\n",
        "lista"
      ]
    },
    {
      "cell_type": "markdown",
      "metadata": {
        "id": "PVZ6G2dkw--J"
      },
      "source": [
        "They can be sorted in descending order using the attribute `reverse = True`"
      ]
    },
    {
      "cell_type": "code",
      "execution_count": 65,
      "metadata": {
        "colab": {
          "base_uri": "https://localhost:8080/"
        },
        "id": "qsIvBTvCxHHJ",
        "outputId": "20feff26-c8f7-4707-a9b8-c78e7625f70b"
      },
      "outputs": [
        {
          "data": {
            "text/plain": [
              "[9, 8, 6, 5, 5, 4, 3]"
            ]
          },
          "execution_count": 65,
          "metadata": {},
          "output_type": "execute_result"
        }
      ],
      "source": [
        "lista = [5, 8, 3, 4, 9, 5, 6]\n",
        "lista.sort(reverse = True)\n",
        "lista"
      ]
    },
    {
      "cell_type": "markdown",
      "metadata": {
        "id": "K4T4Pq8PxYZb"
      },
      "source": [
        "They can be ordered in the way we want using the `key` attribute."
      ]
    },
    {
      "cell_type": "code",
      "execution_count": 66,
      "metadata": {
        "colab": {
          "base_uri": "https://localhost:8080/"
        },
        "id": "sBVgRAJyxdQw",
        "outputId": "ba8e968d-c79c-4515-8dea-f8f62459f49d"
      },
      "outputs": [
        {
          "data": {
            "text/plain": [
              "[50, 65, 23, 82, 100]"
            ]
          },
          "execution_count": 66,
          "metadata": {},
          "output_type": "execute_result"
        }
      ],
      "source": [
        "def myfunc(n):\n",
        "  # devuelve el valor absoluto de n - 50\n",
        "  return abs(n - 50)\n",
        "\n",
        "lista = [100, 50, 65, 82, 23]\n",
        "lista.sort(key = myfunc)\n",
        "lista"
      ]
    },
    {
      "cell_type": "markdown",
      "metadata": {
        "id": "1INxbo9lyTQg"
      },
      "source": [
        "This can be used, for example, so that when sorting, it does not distinguish between uppercase and lowercase."
      ]
    },
    {
      "cell_type": "code",
      "execution_count": 67,
      "metadata": {
        "colab": {
          "base_uri": "https://localhost:8080/"
        },
        "id": "zuT-4vmbyMlz",
        "outputId": "35d5471e-18ed-402f-c6fb-a49f47077558"
      },
      "outputs": [
        {
          "data": {
            "text/plain": [
              "['banana', 'kiwi', 'mango', 'orange', 'Pineapple']"
            ]
          },
          "execution_count": 67,
          "metadata": {},
          "output_type": "execute_result"
        }
      ],
      "source": [
        "lista = [\"orange\", \"mango\", \"kiwi\", \"Pineapple\", \"banana\"]\n",
        "lista.sort(key = str.lower)\n",
        "lista"
      ]
    },
    {
      "cell_type": "markdown",
      "metadata": {
        "id": "TYoVrsAvymLz"
      },
      "source": [
        "The list can be reversed using the `reverse` method."
      ]
    },
    {
      "cell_type": "code",
      "execution_count": 68,
      "metadata": {
        "colab": {
          "base_uri": "https://localhost:8080/"
        },
        "id": "YXvHChW3ypJT",
        "outputId": "50db49be-140f-4ac3-b40c-3ada294b33d8"
      },
      "outputs": [
        {
          "data": {
            "text/plain": [
              "[6, 5, 9, 4, 3, 8, 5]"
            ]
          },
          "execution_count": 68,
          "metadata": {},
          "output_type": "execute_result"
        }
      ],
      "source": [
        "lista = [5, 8, 3, 4, 9, 5, 6]\n",
        "lista.reverse()\n",
        "lista"
      ]
    },
    {
      "cell_type": "markdown",
      "metadata": {
        "id": "xMpopupvyyHz"
      },
      "source": [
        "##### 2.3.1.4. Copying lists"
      ]
    },
    {
      "cell_type": "markdown",
      "metadata": {
        "id": "26XTiSqWy2F-"
      },
      "source": [
        "Lists cannot be copied using `list1 = list2`, because if `list1` is modified, `list2` is also modified."
      ]
    },
    {
      "cell_type": "code",
      "execution_count": 69,
      "metadata": {
        "colab": {
          "base_uri": "https://localhost:8080/"
        },
        "id": "gdx_ODYHy0Xr",
        "outputId": "61b6b8de-36aa-4423-a4bc-782eb2e99d0f"
      },
      "outputs": [
        {
          "data": {
            "text/plain": [
              "[True, 8, 3, 4, 9, 5, 6]"
            ]
          },
          "execution_count": 69,
          "metadata": {},
          "output_type": "execute_result"
        }
      ],
      "source": [
        "lista1 = [5, 8, 3, 4, 9, 5, 6]\n",
        "lista2 = lista1\n",
        "lista1[0] = True\n",
        "lista2"
      ]
    },
    {
      "cell_type": "markdown",
      "metadata": {
        "id": "ulafjLL-zIEn"
      },
      "source": [
        "So, you have to use the `copy()` method."
      ]
    },
    {
      "cell_type": "code",
      "execution_count": 70,
      "metadata": {
        "colab": {
          "base_uri": "https://localhost:8080/"
        },
        "id": "qFq_IpIxzL8M",
        "outputId": "7eae0134-b49a-4df0-ce3b-26d06ec8e832"
      },
      "outputs": [
        {
          "data": {
            "text/plain": [
              "[5, 8, 3, 4, 9, 5, 6]"
            ]
          },
          "execution_count": 70,
          "metadata": {},
          "output_type": "execute_result"
        }
      ],
      "source": [
        "lista1 = [5, 8, 3, 4, 9, 5, 6]\n",
        "lista2 = lista1.copy()\n",
        "lista1[0] = True\n",
        "lista2"
      ]
    },
    {
      "cell_type": "markdown",
      "metadata": {
        "id": "TP9idoR3zVp9"
      },
      "source": [
        "Or you have to use the list constructor `list()`"
      ]
    },
    {
      "cell_type": "code",
      "execution_count": 71,
      "metadata": {
        "colab": {
          "base_uri": "https://localhost:8080/"
        },
        "id": "2v7jo9ZhzboA",
        "outputId": "b11b01ea-f3cb-432b-86cd-9d6403fdfd59"
      },
      "outputs": [
        {
          "data": {
            "text/plain": [
              "[5, 8, 3, 4, 9, 5, 6]"
            ]
          },
          "execution_count": 71,
          "metadata": {},
          "output_type": "execute_result"
        }
      ],
      "source": [
        "lista1 = [5, 8, 3, 4, 9, 5, 6]\n",
        "lista2 = list(lista1)\n",
        "lista1[0] = True\n",
        "lista2"
      ]
    },
    {
      "cell_type": "markdown",
      "metadata": {
        "id": "ErANBt7hzrHW"
      },
      "source": [
        "##### 2.3.1.5. Concatenating lists"
      ]
    },
    {
      "cell_type": "markdown",
      "metadata": {
        "id": "fyggNBi4z2m6"
      },
      "source": [
        "Lists can be concatenated using the `+` operator."
      ]
    },
    {
      "cell_type": "code",
      "execution_count": 72,
      "metadata": {
        "colab": {
          "base_uri": "https://localhost:8080/"
        },
        "id": "HhVssepOz1JE",
        "outputId": "cc5f029b-dca9-439a-d0c2-a26cd8894bde"
      },
      "outputs": [
        {
          "data": {
            "text/plain": [
              "[5, 8, 3, 4, 9, 5, 6, 'a', 'b', 'c']"
            ]
          },
          "execution_count": 72,
          "metadata": {},
          "output_type": "execute_result"
        }
      ],
      "source": [
        "lista1 = [5, 8, 3, 4, 9, 5, 6]\n",
        "lista2 = ['a', 'b', 'c']\n",
        "lista = lista1 + lista2\n",
        "lista"
      ]
    },
    {
      "cell_type": "markdown",
      "metadata": {
        "id": "5FBih5U7z-0S"
      },
      "source": [
        "Or using the `extend` method"
      ]
    },
    {
      "cell_type": "code",
      "execution_count": 73,
      "metadata": {
        "colab": {
          "base_uri": "https://localhost:8080/"
        },
        "id": "cEzt_OWH0C5B",
        "outputId": "46b28907-75da-42e0-eeff-09073c39a31e"
      },
      "outputs": [
        {
          "data": {
            "text/plain": [
              "[5, 8, 3, 4, 9, 5, 6, 'a', 'b', 'c']"
            ]
          },
          "execution_count": 73,
          "metadata": {},
          "output_type": "execute_result"
        }
      ],
      "source": [
        "lista1 = [5, 8, 3, 4, 9, 5, 6]\n",
        "lista2 = ['a', 'b', 'c']\n",
        "lista1.extend(lista2)\n",
        "lista1"
      ]
    },
    {
      "cell_type": "markdown",
      "metadata": {
        "id": "b-7yeNR0pGMY"
      },
      "source": [
        "Another way to concatenate is to repeat the tuple X times using the `*` operator"
      ]
    },
    {
      "cell_type": "code",
      "execution_count": 74,
      "metadata": {
        "colab": {
          "base_uri": "https://localhost:8080/"
        },
        "id": "Bw8mA-tCo_ki",
        "outputId": "9baf71b3-108f-41e8-8432-da4994802570"
      },
      "outputs": [
        {
          "data": {
            "text/plain": [
              "['a', 'b', 'c', 'a', 'b', 'c', 'a', 'b', 'c']"
            ]
          },
          "execution_count": 74,
          "metadata": {},
          "output_type": "execute_result"
        }
      ],
      "source": [
        "lista1 = ['a', 'b', 'c']\n",
        "lista2 = lista1 * 3\n",
        "lista2"
      ]
    },
    {
      "cell_type": "markdown",
      "metadata": {
        "id": "CSfyJTznZ0CH"
      },
      "source": [
        "#### 2.3.2 Tuples"
      ]
    },
    {
      "cell_type": "markdown",
      "metadata": {
        "id": "YR3EWNJWlDb1"
      },
      "source": [
        "Tuples are similar to lists, they store multiple items in a variable, can contain items of different types, but they cannot be modified or reordered. They are defined using `()`, with items separated by commas.",
        "\n",
        "Since they cannot be modified, tuples execute a bit faster than lists, so if you don't need to modify the data, it's better to use tuples instead of lists."
      ]
    },
    {
      "cell_type": "code",
      "execution_count": 75,
      "metadata": {
        "colab": {
          "base_uri": "https://localhost:8080/"
        },
        "id": "P1wqKH70lZsq",
        "outputId": "ec218c94-81e5-43c1-87ec-b8577eb7a4fe"
      },
      "outputs": [
        {
          "data": {
            "text/plain": [
              "('item0', 1, True, 3.3, 'item4', True)"
            ]
          },
          "execution_count": 75,
          "metadata": {},
          "output_type": "execute_result"
        }
      ],
      "source": [
        "tupla = ('item0', 1, True, 3.3, 'item4', True)\n",
        "tupla"
      ]
    },
    {
      "cell_type": "markdown",
      "metadata": {
        "id": "J6tnK2TIllRy"
      },
      "source": [
        "Its length can be obtained using the `len()` function."
      ]
    },
    {
      "cell_type": "code",
      "execution_count": 76,
      "metadata": {
        "colab": {
          "base_uri": "https://localhost:8080/"
        },
        "id": "IUM8fjtRlw3c",
        "outputId": "1ed30214-4a4d-40b3-a4ea-83aee67eaf90"
      },
      "outputs": [
        {
          "data": {
            "text/plain": [
              "6"
            ]
          },
          "execution_count": 76,
          "metadata": {},
          "output_type": "execute_result"
        }
      ],
      "source": [
        "len (tupla)"
      ]
    },
    {
      "cell_type": "markdown",
      "metadata": {
        "id": "ziE-guzJmA5P"
      },
      "source": [
        "To create tuples with a single element, it is necessary to add a comma"
      ]
    },
    {
      "cell_type": "code",
      "execution_count": 77,
      "metadata": {
        "colab": {
          "base_uri": "https://localhost:8080/"
        },
        "id": "P8D2MoXxmEtt",
        "outputId": "fb3c01a8-675f-462f-c7cd-d1810ab75b31"
      },
      "outputs": [
        {
          "data": {
            "text/plain": [
              "(('item0',), tuple)"
            ]
          },
          "execution_count": 77,
          "metadata": {},
          "output_type": "execute_result"
        }
      ],
      "source": [
        "tupla = ('item0',)\n",
        "tupla, type(tupla)"
      ]
    },
    {
      "cell_type": "markdown",
      "metadata": {
        "id": "IVJxppEnmRBp"
      },
      "source": [
        "To access an element of the tuple, proceed in the same way as with lists."
      ]
    },
    {
      "cell_type": "code",
      "execution_count": 78,
      "metadata": {
        "colab": {
          "base_uri": "https://localhost:8080/"
        },
        "id": "-r6XPDDbmV2r",
        "outputId": "d303c9d6-c7ee-4796-9579-9ab645ec62ef"
      },
      "outputs": [
        {
          "name": "stdout",
          "output_type": "stream",
          "text": [
            "item0\n",
            "True\n",
            "(True, 3.3)\n",
            "(True, 3.3)\n"
          ]
        }
      ],
      "source": [
        "tupla = ('item0', 1, True, 3.3, 'item4', True)\n",
        "print(tupla[0])\n",
        "print(tupla[-1])\n",
        "print(tupla[2:4])\n",
        "print(tupla[-4:-2])"
      ]
    },
    {
      "cell_type": "markdown",
      "metadata": {
        "id": "Dx-O1LdtmmVq"
      },
      "source": [
        "We can check if there is an item in the tuple"
      ]
    },
    {
      "cell_type": "code",
      "execution_count": 79,
      "metadata": {
        "colab": {
          "base_uri": "https://localhost:8080/"
        },
        "id": "wjnwZRqgmlc3",
        "outputId": "3354fe50-7290-43f6-9938-33c4b23df782"
      },
      "outputs": [
        {
          "data": {
            "text/plain": [
              "True"
            ]
          },
          "execution_count": 79,
          "metadata": {},
          "output_type": "execute_result"
        }
      ],
      "source": [
        "'item4' in tupla"
      ]
    },
    {
      "cell_type": "markdown",
      "metadata": {
        "id": "DQJ6GbAfmw4T"
      },
      "source": [
        "##### 2.3.2.1. Modifying tuples"
      ]
    },
    {
      "cell_type": "markdown",
      "metadata": {
        "id": "cTaXy4yHm0-z"
      },
      "source": [
        "Although tuples are not mutable, they can be modified by converting them to lists, modifying the list, and then converting it back to a tuple."
      ]
    },
    {
      "cell_type": "code",
      "execution_count": 80,
      "metadata": {
        "colab": {
          "base_uri": "https://localhost:8080/"
        },
        "id": "bia1D3g4m-dg",
        "outputId": "02cc8be0-8e99-4352-ea9e-c68264fcdb8f"
      },
      "outputs": [
        {
          "data": {
            "text/plain": [
              "('item0', 1, True, 3.3, 'ITEM4', True)"
            ]
          },
          "execution_count": 80,
          "metadata": {},
          "output_type": "execute_result"
        }
      ],
      "source": [
        "lista = list(tupla)\n",
        "lista[4] = 'ITEM4'\n",
        "tupla = tuple(lista)\n",
        "tupla"
      ]
    },
    {
      "cell_type": "markdown",
      "metadata": {
        "id": "_RMuRT01nQb8"
      },
      "source": [
        "By converting it to a list, we can make all the modifications seen in lists."
      ]
    },
    {
      "cell_type": "markdown",
      "metadata": {
        "id": "4Nf7YNaCnXJ0"
      },
      "source": [
        "What can be done is to delete the complete tuple"
      ]
    },
    {
      "cell_type": "code",
      "execution_count": 81,
      "metadata": {
        "colab": {
          "base_uri": "https://localhost:8080/"
        },
        "id": "9EWvKYHindM2",
        "outputId": "84db500e-c2db-4c0a-95f1-26e6ca0d9c17"
      },
      "outputs": [
        {
          "name": "stdout",
          "output_type": "stream",
          "text": [
            "tupla eliminada\n"
          ]
        }
      ],
      "source": [
        "del tupla\n",
        "\n",
        "if 'tupla' not in locals():\n",
        "  print(\"tupla eliminada\")"
      ]
    },
    {
      "cell_type": "markdown",
      "metadata": {
        "id": "KX3DK6uBnv9M"
      },
      "source": [
        "##### 2.3.22. Unpack tuples"
      ]
    },
    {
      "cell_type": "markdown",
      "metadata": {
        "id": "-rL8Rq9onzlI"
      },
      "source": [
        "When we create tuples, we are actually packaging data"
      ]
    },
    {
      "cell_type": "code",
      "execution_count": 82,
      "metadata": {
        "colab": {
          "base_uri": "https://localhost:8080/"
        },
        "id": "u2QdA2XWn2vL",
        "outputId": "822d3841-a4de-4df6-98e4-806c2c90e14c"
      },
      "outputs": [
        {
          "data": {
            "text/plain": [
              "('item0', 1, True, 3.3, 'item4', True)"
            ]
          },
          "execution_count": 82,
          "metadata": {},
          "output_type": "execute_result"
        }
      ],
      "source": [
        "tupla = ('item0', 1, True, 3.3, 'item4', True)\n",
        "tupla"
      ]
    },
    {
      "cell_type": "markdown",
      "metadata": {
        "id": "VlZq42F3n4Nj"
      },
      "source": [
        "but we can unpack them"
      ]
    },
    {
      "cell_type": "code",
      "execution_count": 83,
      "metadata": {
        "colab": {
          "base_uri": "https://localhost:8080/"
        },
        "id": "c9L-3UzEn6Lq",
        "outputId": "3dc6ffb9-0fcc-405d-fbae-b8e2ba366456"
      },
      "outputs": [
        {
          "data": {
            "text/plain": [
              "('item0', 1, True, 3.3, 'item4', True)"
            ]
          },
          "execution_count": 83,
          "metadata": {},
          "output_type": "execute_result"
        }
      ],
      "source": [
        "item0, item1, item2, item3, item4, item5 = tupla\n",
        "item0, item1, item2, item3, item4, item5"
      ]
    },
    {
      "cell_type": "markdown",
      "metadata": {
        "id": "TOvxFVCEoH_h"
      },
      "source": [
        "If we want to extract fewer elements than the length of the tuple, we add a `*`"
      ]
    },
    {
      "cell_type": "code",
      "execution_count": 84,
      "metadata": {
        "colab": {
          "base_uri": "https://localhost:8080/"
        },
        "id": "VW-mkzrsoNcM",
        "outputId": "5d3c1fda-900a-41b9-9681-271b68830fce"
      },
      "outputs": [
        {
          "data": {
            "text/plain": [
              "('item0', 1, True, [3.3, 'item4', True])"
            ]
          },
          "execution_count": 84,
          "metadata": {},
          "output_type": "execute_result"
        }
      ],
      "source": [
        "item0, item1, item2, *item3 = tupla\n",
        "item0, item1, item2, item3"
      ]
    },
    {
      "cell_type": "markdown",
      "metadata": {
        "id": "ohn5KT29oTNV"
      },
      "source": [
        "The asterisk `*` can be placed elsewhere if, for example, what we want is the last item."
      ]
    },
    {
      "cell_type": "code",
      "execution_count": 85,
      "metadata": {
        "colab": {
          "base_uri": "https://localhost:8080/"
        },
        "id": "LNMvv0EHoaOL",
        "outputId": "042e6c1a-38e6-4033-cb89-329902480a6c"
      },
      "outputs": [
        {
          "data": {
            "text/plain": [
              "('item0', 1, [True, 3.3, 'item4'], True)"
            ]
          },
          "execution_count": 85,
          "metadata": {},
          "output_type": "execute_result"
        }
      ],
      "source": [
        "item0, item1, *item2, item5 = tupla\n",
        "item0, item1, item2, item5"
      ]
    },
    {
      "cell_type": "markdown",
      "metadata": {
        "id": "7hrifCXuokvu"
      },
      "source": [
        "##### 2.3.23. Concatenating tuples"
      ]
    },
    {
      "cell_type": "markdown",
      "metadata": {
        "id": "rR1hpBPUonNw"
      },
      "source": [
        "Tuples can be concatenated using the `+` operator"
      ]
    },
    {
      "cell_type": "code",
      "execution_count": 86,
      "metadata": {
        "colab": {
          "base_uri": "https://localhost:8080/"
        },
        "id": "M_ANplzIoq55",
        "outputId": "4e8be639-2c90-48c6-a075-87bdcf120e97"
      },
      "outputs": [
        {
          "data": {
            "text/plain": [
              "('a', 'b', 'c', 1, 2, 3)"
            ]
          },
          "execution_count": 86,
          "metadata": {},
          "output_type": "execute_result"
        }
      ],
      "source": [
        "tupla1 = (\"a\", \"b\" , \"c\")\n",
        "tupla2 = (1, 2, 3)\n",
        "\n",
        "tupla3 = tupla1 + tupla2\n",
        "tupla3"
      ]
    },
    {
      "cell_type": "markdown",
      "metadata": {
        "id": "mH6qPpjioy9B"
      },
      "source": [
        "Another way to concatenate is to repeat the tuple X times using the `*` operator"
      ]
    },
    {
      "cell_type": "code",
      "execution_count": 87,
      "metadata": {
        "colab": {
          "base_uri": "https://localhost:8080/"
        },
        "id": "1wwlDtZjo525",
        "outputId": "ab9b6874-0e17-4a9c-f4c9-cf9a0669aec1"
      },
      "outputs": [
        {
          "data": {
            "text/plain": [
              "('a', 'b', 'c', 'a', 'b', 'c', 'a', 'b', 'c')"
            ]
          },
          "execution_count": 87,
          "metadata": {},
          "output_type": "execute_result"
        }
      ],
      "source": [
        "tupla1 = (\"a\", \"b\" , \"c\")\n",
        "\n",
        "tupla2 = tupla1 * 3\n",
        "tupla2"
      ]
    },
    {
      "cell_type": "markdown",
      "metadata": {
        "id": "iQfJ3yyhpSg_"
      },
      "source": [
        "##### 2.3.24. Tuple Methods"
      ]
    },
    {
      "cell_type": "markdown",
      "metadata": {
        "id": "ntsQN8cnpVoU"
      },
      "source": [
        "Tuples have two methods, the first is the `count()` method which returns the number of times an item appears within the tuple."
      ]
    },
    {
      "cell_type": "code",
      "execution_count": 88,
      "metadata": {
        "colab": {
          "base_uri": "https://localhost:8080/"
        },
        "id": "rzuyKRNnpmCz",
        "outputId": "4bcaef64-0e0f-4c8a-f2a0-2290f67780ac"
      },
      "outputs": [
        {
          "data": {
            "text/plain": [
              "4"
            ]
          },
          "execution_count": 88,
          "metadata": {},
          "output_type": "execute_result"
        }
      ],
      "source": [
        "tupla = (5, 4, 6, 5, 7, 8, 5, 3, 1, 5)\n",
        "tupla.count(5)"
      ]
    },
    {
      "cell_type": "markdown",
      "metadata": {
        "id": "oWpMN6KVp48j"
      },
      "source": [
        "Another method is `index()` which returns the first position of an item within the tuple."
      ]
    },
    {
      "cell_type": "code",
      "execution_count": 89,
      "metadata": {
        "colab": {
          "base_uri": "https://localhost:8080/"
        },
        "id": "uaa3sapHqAqk",
        "outputId": "c5e8a849-591b-492a-aa1e-585b3df057ae"
      },
      "outputs": [
        {
          "data": {
            "text/plain": [
              "0"
            ]
          },
          "execution_count": 89,
          "metadata": {},
          "output_type": "execute_result"
        }
      ],
      "source": [
        "tupla = (5, 4, 6, 5, 7, 8, 5, 3, 1, 5)\n",
        "tupla.index(5)"
      ]
    },
    {
      "cell_type": "markdown",
      "metadata": {
        "id": "1XrLXL9pZ3eJ"
      },
      "source": [
        "#### 2.3.3. Range"
      ]
    },
    {
      "cell_type": "markdown",
      "metadata": {
        "id": "Z1JpkK1hTSt0"
      },
      "source": [
        "With `range()` we can create a sequence of numbers, starting from 0 (by default), it increments by 1 (by default) and stops before a specified number.",
        "\n",
        "\n",
        "\n",
        "```\n",
        "range(start, stop, step)",
        "```\n",
        "\n"
      ]
    },
    {
      "cell_type": "markdown",
      "metadata": {
        "id": "G-5_hClmThfT"
      },
      "source": [
        "For example, if we want a sequence from 0 to 5 (not including 5)"
      ]
    },
    {
      "cell_type": "code",
      "execution_count": 90,
      "metadata": {
        "colab": {
          "base_uri": "https://localhost:8080/"
        },
        "id": "kpC_SuE0ToYo",
        "outputId": "83443abc-2777-4718-e53f-91fa469f1aa1"
      },
      "outputs": [
        {
          "name": "stdout",
          "output_type": "stream",
          "text": [
            "0 1 2 3 4 "
          ]
        }
      ],
      "source": [
        "for i in range(5):\n",
        "  print(f'{i} ', end='')"
      ]
    },
    {
      "cell_type": "markdown",
      "metadata": {
        "id": "19tL-BCnT7J2"
      },
      "source": [
        "If for example we don't want it to start at 0"
      ]
    },
    {
      "cell_type": "code",
      "execution_count": 91,
      "metadata": {
        "colab": {
          "base_uri": "https://localhost:8080/"
        },
        "id": "iZ3x9fiuT9xp",
        "outputId": "f26ee64d-ba99-4fe8-cff0-62fe1105dfd8"
      },
      "outputs": [
        {
          "name": "stdout",
          "output_type": "stream",
          "text": [
            "2 3 4 "
          ]
        }
      ],
      "source": [
        "for i in range(2, 5):\n",
        "  print(f'{i} ', end='')"
      ]
    },
    {
      "cell_type": "code",
      "execution_count": 92,
      "metadata": {
        "colab": {
          "base_uri": "https://localhost:8080/"
        },
        "id": "uUhb_Mw6UC0i",
        "outputId": "05d8d1bd-0228-4fda-8a86-19e7ac2c4132"
      },
      "outputs": [
        {
          "name": "stdout",
          "output_type": "stream",
          "text": [
            "-2 -1 0 1 2 3 4 "
          ]
        }
      ],
      "source": [
        "for i in range(-2, 5):\n",
        "  print(f'{i} ', end='')"
      ]
    },
    {
      "cell_type": "markdown",
      "metadata": {
        "id": "xWoENf-zUJsq"
      },
      "source": [
        "Lastly, if we don't want it to increment by 1, for example, if we want a sequence of even numbers."
      ]
    },
    {
      "cell_type": "code",
      "execution_count": 93,
      "metadata": {
        "colab": {
          "base_uri": "https://localhost:8080/"
        },
        "id": "qDBvKlhrUPsI",
        "outputId": "8d82333e-c02e-416d-991c-143d024359c1"
      },
      "outputs": [
        {
          "name": "stdout",
          "output_type": "stream",
          "text": [
            "0 2 4 6 8 "
          ]
        }
      ],
      "source": [
        "for i in range(0, 10, 2):\n",
        "  print(f'{i} ', end='')"
      ]
    },
    {
      "cell_type": "markdown",
      "metadata": {
        "id": "BVUXxxTVZXSg"
      },
      "source": [
        "### 2.4. Dictionaries"
      ]
    },
    {
      "cell_type": "markdown",
      "metadata": {
        "id": "Pt6a13arvIwu"
      },
      "source": [
        "Dictionaries are used to store data in `key:value` pairs. They are mutable, unordered, and do not allow duplicates. They are defined using the `{}` symbols. They support items of different data types."
      ]
    },
    {
      "cell_type": "code",
      "execution_count": 94,
      "metadata": {
        "colab": {
          "base_uri": "https://localhost:8080/"
        },
        "id": "Air0ztJ3vv55",
        "outputId": "0a454d86-b6d0-44cc-9723-be856e6855bd"
      },
      "outputs": [
        {
          "data": {
            "text/plain": [
              "{'brand': 'Ford',\n",
              " 'model': 'Mustang',\n",
              " 'year': 1964,\n",
              " 'colors': ['red', 'white', 'blue']}"
            ]
          },
          "execution_count": 94,
          "metadata": {},
          "output_type": "execute_result"
        }
      ],
      "source": [
        "diccionario = {\n",
        "  \"brand\": \"Ford\",\n",
        "  \"model\": \"Mustang\",\n",
        "  \"year\": 1964,\n",
        "  \"colors\": [\"red\", \"white\", \"blue\"]\n",
        "}\n",
        "diccionario"
      ]
    },
    {
      "cell_type": "markdown",
      "metadata": {
        "id": "ZddJ8V0swOl9"
      },
      "source": [
        "As has been said, duplicates are not allowed."
      ]
    },
    {
      "cell_type": "code",
      "execution_count": 95,
      "metadata": {
        "colab": {
          "base_uri": "https://localhost:8080/"
        },
        "id": "cHnDcOprwVWt",
        "outputId": "daac3805-63be-46d5-c0db-2436e4a57c6a"
      },
      "outputs": [
        {
          "data": {
            "text/plain": [
              "2000"
            ]
          },
          "execution_count": 95,
          "metadata": {},
          "output_type": "execute_result"
        }
      ],
      "source": [
        "diccionario = {\n",
        "  \"brand\": \"Ford\",\n",
        "  \"model\": \"Mustang\",\n",
        "  \"year\": 1964,\n",
        "  \"year\": 2000,\n",
        "  \"colors\": [\"red\", \"white\", \"blue\"]\n",
        "}\n",
        "diccionario[\"year\"]"
      ]
    },
    {
      "cell_type": "markdown",
      "metadata": {
        "id": "xBYA00UIwsML"
      },
      "source": [
        "Its length can be obtained using the `len()` function."
      ]
    },
    {
      "cell_type": "code",
      "execution_count": 96,
      "metadata": {
        "colab": {
          "base_uri": "https://localhost:8080/"
        },
        "id": "EV8veNJuwvq7",
        "outputId": "552ae596-7866-4d97-b989-84d700355c79"
      },
      "outputs": [
        {
          "data": {
            "text/plain": [
              "4"
            ]
          },
          "execution_count": 96,
          "metadata": {},
          "output_type": "execute_result"
        }
      ],
      "source": [
        "len(diccionario)"
      ]
    },
    {
      "cell_type": "markdown",
      "metadata": {
        "id": "uY9_Spvww2iU"
      },
      "source": [
        "As can be seen, the length is 4 and not 5, since `year` is counted only once."
      ]
    },
    {
      "cell_type": "markdown",
      "metadata": {
        "id": "e0tzL15RxDJi"
      },
      "source": [
        "#### 2.4.1. Accessing Items"
      ]
    },
    {
      "cell_type": "markdown",
      "metadata": {
        "id": "6RgdEQpKwGwE"
      },
      "source": [
        "To access an element, we can do so through its `key`"
      ]
    },
    {
      "cell_type": "code",
      "execution_count": 97,
      "metadata": {
        "colab": {
          "base_uri": "https://localhost:8080/",
          "height": 35
        },
        "id": "BCnBxWO1wCly",
        "outputId": "c4b7c0a5-f98a-43d9-d110-0cde9e711691"
      },
      "outputs": [
        {
          "data": {
            "text/plain": [
              "'Mustang'"
            ]
          },
          "execution_count": 97,
          "metadata": {},
          "output_type": "execute_result"
        }
      ],
      "source": [
        "diccionario[\"model\"]"
      ]
    },
    {
      "cell_type": "markdown",
      "metadata": {
        "id": "5A0oP_1mxfz_"
      },
      "source": [
        "It can also be accessed using the `get` method."
      ]
    },
    {
      "cell_type": "code",
      "execution_count": 98,
      "metadata": {
        "colab": {
          "base_uri": "https://localhost:8080/",
          "height": 35
        },
        "id": "PBV2BncDxl_q",
        "outputId": "f8ae0032-5162-4b2b-ad05-10eceb183cb3"
      },
      "outputs": [
        {
          "data": {
            "text/plain": [
              "'Mustang'"
            ]
          },
          "execution_count": 98,
          "metadata": {},
          "output_type": "execute_result"
        }
      ],
      "source": [
        "diccionario.get(\"model\")"
      ]
    },
    {
      "cell_type": "markdown",
      "metadata": {
        "id": "rLSYC2K8xo3D"
      },
      "source": [
        "To know all the `key`s of dictionaries, you can use the `keys()` method."
      ]
    },
    {
      "cell_type": "code",
      "execution_count": 99,
      "metadata": {
        "colab": {
          "base_uri": "https://localhost:8080/"
        },
        "id": "v7HfhUtPxu74",
        "outputId": "e7f74c83-8c6a-4595-c66f-b848d99a8dab"
      },
      "outputs": [
        {
          "data": {
            "text/plain": [
              "dict_keys(['brand', 'model', 'year', 'colors'])"
            ]
          },
          "execution_count": 99,
          "metadata": {},
          "output_type": "execute_result"
        }
      ],
      "source": [
        "diccionario.keys()"
      ]
    },
    {
      "cell_type": "markdown",
      "metadata": {
        "id": "NfrDTrPfyFDh"
      },
      "source": [
        "A variable can be used to point to the `key`s of the dictionary, so that calling it once is necessary"
      ]
    },
    {
      "cell_type": "code",
      "execution_count": 100,
      "metadata": {
        "colab": {
          "base_uri": "https://localhost:8080/"
        },
        "id": "k3X2mDoayN8H",
        "outputId": "3003c8c5-7483-4c83-9b4c-33d9ef8fd648"
      },
      "outputs": [
        {
          "name": "stdout",
          "output_type": "stream",
          "text": [
            "dict_keys(['brand', 'model', 'year'])\n",
            "dict_keys(['brand', 'model', 'year', 'color'])\n"
          ]
        }
      ],
      "source": [
        "diccionario = {\n",
        "\"brand\": \"Ford\",\n",
        "\"model\": \"Mustang\",\n",
        "\"year\": 1964\n",
        "}\n",
        "\n",
        "# Se declara una vez la variable que apunta a las keys\n",
        "x = diccionario.keys()\n",
        "print(x)\n",
        "\n",
        "# Se a\u00f1ade una nueva key\n",
        "diccionario[\"color\"] = \"white\"\n",
        "\n",
        "# Se consulta la variable que apunta a las key\n",
        "print(x)"
      ]
    },
    {
      "cell_type": "markdown",
      "metadata": {
        "id": "e8audHRlx5Lg"
      },
      "source": [
        "To get the values from the dictionary, you can use the `values()` method."
      ]
    },
    {
      "cell_type": "code",
      "execution_count": 101,
      "metadata": {
        "colab": {
          "base_uri": "https://localhost:8080/"
        },
        "id": "yCRGhaCFx9fd",
        "outputId": "3c9e257a-99e8-40ab-8e98-1f27746e41c8"
      },
      "outputs": [
        {
          "data": {
            "text/plain": [
              "dict_values(['Ford', 'Mustang', 1964, 'white'])"
            ]
          },
          "execution_count": 101,
          "metadata": {},
          "output_type": "execute_result"
        }
      ],
      "source": [
        "diccionario.values()"
      ]
    },
    {
      "cell_type": "markdown",
      "metadata": {
        "id": "HifGBtmGylKN"
      },
      "source": [
        "A variable can be used to point to the `values` of the dictionary, so that calling it once is necessary."
      ]
    },
    {
      "cell_type": "code",
      "execution_count": 102,
      "metadata": {
        "colab": {
          "base_uri": "https://localhost:8080/"
        },
        "id": "n9yYxQh1yn2r",
        "outputId": "a3e628d7-c01b-443f-af0e-57a9a8a3ae04"
      },
      "outputs": [
        {
          "name": "stdout",
          "output_type": "stream",
          "text": [
            "dict_values(['Ford', 'Mustang', 1964])\n",
            "dict_values(['Ford', 'Mustang', 2020])\n"
          ]
        }
      ],
      "source": [
        "diccionario = {\n",
        "\"brand\": \"Ford\",\n",
        "\"model\": \"Mustang\",\n",
        "\"year\": 1964\n",
        "}\n",
        "\n",
        "# Se declara una vez la variable que apunta a los values\n",
        "x = diccionario.values()\n",
        "print(x)\n",
        "\n",
        "# Se modifica un value\n",
        "diccionario[\"year\"] = 2020\n",
        "\n",
        "# Se consulta la variable que apunta a los values\n",
        "print(x)"
      ]
    },
    {
      "cell_type": "markdown",
      "metadata": {
        "id": "G0IjoDX6y8bE"
      },
      "source": [
        "If what you want are the entire `item`s, that is, `key`s and `value`s, you should use the `items()` method."
      ]
    },
    {
      "cell_type": "code",
      "execution_count": 103,
      "metadata": {
        "colab": {
          "base_uri": "https://localhost:8080/"
        },
        "id": "v8xVffhQzGCP",
        "outputId": "157ea4e9-b409-457d-a9c3-fccff26b35ac"
      },
      "outputs": [
        {
          "data": {
            "text/plain": [
              "dict_items([('brand', 'Ford'), ('model', 'Mustang'), ('year', 2020)])"
            ]
          },
          "execution_count": 103,
          "metadata": {},
          "output_type": "execute_result"
        }
      ],
      "source": [
        "diccionario.items()"
      ]
    },
    {
      "cell_type": "markdown",
      "metadata": {
        "id": "XYHjxNDYzOcG"
      },
      "source": [
        "A variable can be used to point to the `item`s in the dictionary, so that calling it once is necessary."
      ]
    },
    {
      "cell_type": "code",
      "execution_count": 104,
      "metadata": {
        "colab": {
          "base_uri": "https://localhost:8080/"
        },
        "id": "O05iILJTzTv6",
        "outputId": "1272cbda-71af-4245-9491-42b0c9b4a347"
      },
      "outputs": [
        {
          "name": "stdout",
          "output_type": "stream",
          "text": [
            "dict_items([('brand', 'Ford'), ('model', 'Mustang'), ('year', 1964)])\n",
            "dict_items([('brand', 'Ford'), ('model', 'Mustang'), ('year', 2020)])\n"
          ]
        }
      ],
      "source": [
        "diccionario = {\n",
        "\"brand\": \"Ford\",\n",
        "\"model\": \"Mustang\",\n",
        "\"year\": 1964\n",
        "}\n",
        "\n",
        "# Se declara una vez la variable que apunta a los items\n",
        "x = diccionario.items()\n",
        "print(x)\n",
        "\n",
        "# Se modifica un value\n",
        "diccionario[\"year\"] = 2020\n",
        "\n",
        "# Se consulta la variable que apunta a los items\n",
        "print(x)"
      ]
    },
    {
      "cell_type": "markdown",
      "metadata": {
        "id": "asEdm1LQzbF-"
      },
      "source": [
        "It can be checked if a `key` exists in the dictionary"
      ]
    },
    {
      "cell_type": "code",
      "execution_count": 105,
      "metadata": {
        "colab": {
          "base_uri": "https://localhost:8080/"
        },
        "id": "FrhmNgvYzgKW",
        "outputId": "146140d2-b2b7-4276-8af9-04f7d8cf36c8"
      },
      "outputs": [
        {
          "data": {
            "text/plain": [
              "True"
            ]
          },
          "execution_count": 105,
          "metadata": {},
          "output_type": "execute_result"
        }
      ],
      "source": [
        "\"model\" in diccionario"
      ]
    },
    {
      "cell_type": "markdown",
      "metadata": {
        "id": "2DrbqmhGzzo8"
      },
      "source": [
        "#### 2.4.2. Modify the items"
      ]
    },
    {
      "cell_type": "markdown",
      "metadata": {
        "id": "ZkNqwkihz3NQ"
      },
      "source": [
        "An `item` can be modified by accessing it directly."
      ]
    },
    {
      "cell_type": "code",
      "execution_count": 106,
      "metadata": {
        "colab": {
          "base_uri": "https://localhost:8080/"
        },
        "id": "iavTKPVyz17N",
        "outputId": "9437a915-b4a4-49e5-d6af-cfe5c2cbb05b"
      },
      "outputs": [
        {
          "data": {
            "text/plain": [
              "{'brand': 'Ford', 'model': 'Mustang', 'year': 2020}"
            ]
          },
          "execution_count": 106,
          "metadata": {},
          "output_type": "execute_result"
        }
      ],
      "source": [
        "diccionario = {\n",
        "\"brand\": \"Ford\",\n",
        "\"model\": \"Mustang\",\n",
        "\"year\": 1964\n",
        "}\n",
        "\n",
        "# Se modifica un item\n",
        "diccionario[\"year\"] = 2020\n",
        "\n",
        "diccionario"
      ]
    },
    {
      "cell_type": "markdown",
      "metadata": {
        "id": "pjkheNpb0HRs"
      },
      "source": [
        "Or it can be modified using the `update()` method."
      ]
    },
    {
      "cell_type": "code",
      "execution_count": 107,
      "metadata": {
        "colab": {
          "base_uri": "https://localhost:8080/"
        },
        "id": "Fk5ySfjQ0KZH",
        "outputId": "abfe08d5-f3a5-42bd-df3e-e6bf72b7b19b"
      },
      "outputs": [
        {
          "data": {
            "text/plain": [
              "{'brand': 'Ford', 'model': 'Mustang', 'year': 2020}"
            ]
          },
          "execution_count": 107,
          "metadata": {},
          "output_type": "execute_result"
        }
      ],
      "source": [
        "diccionario = {\n",
        "  \"brand\": \"Ford\",\n",
        "  \"model\": \"Mustang\",\n",
        "  \"year\": 1964\n",
        "}\n",
        "\n",
        "# Se modifica un item\n",
        "diccionario.update({\"year\": 2020})\n",
        "\n",
        "diccionario"
      ]
    },
    {
      "cell_type": "markdown",
      "metadata": {
        "id": "DhQGWfEP0Vy7"
      },
      "source": [
        "#### 2.4.3. Adding Items"
      ]
    },
    {
      "cell_type": "markdown",
      "metadata": {
        "id": "lSLQtc2o0VzL"
      },
      "source": [
        "An `item` can be added in this way:"
      ]
    },
    {
      "cell_type": "code",
      "execution_count": 108,
      "metadata": {
        "colab": {
          "base_uri": "https://localhost:8080/"
        },
        "id": "PnWGZYzG0VzN",
        "outputId": "57f0f2cf-433a-46da-e9b5-c641e553afdf"
      },
      "outputs": [
        {
          "data": {
            "text/plain": [
              "{'brand': 'Ford', 'model': 'Mustang', 'year': 1964, 'colour': 'blue'}"
            ]
          },
          "execution_count": 108,
          "metadata": {},
          "output_type": "execute_result"
        }
      ],
      "source": [
        "diccionario = {\n",
        "\"brand\": \"Ford\",\n",
        "\"model\": \"Mustang\",\n",
        "\"year\": 1964\n",
        "}\n",
        "\n",
        "# Se modifica un item\n",
        "diccionario[\"colour\"] = \"blue\"\n",
        "\n",
        "diccionario"
      ]
    },
    {
      "cell_type": "markdown",
      "metadata": {
        "id": "wBDo65oc0VzQ"
      },
      "source": [
        "Or it can be added using the `update()` method."
      ]
    },
    {
      "cell_type": "code",
      "execution_count": 109,
      "metadata": {
        "colab": {
          "base_uri": "https://localhost:8080/"
        },
        "id": "4M8r8x_M0VzS",
        "outputId": "16b5e8d4-0498-4e0a-8161-10a8a1bc9417"
      },
      "outputs": [
        {
          "data": {
            "text/plain": [
              "{'brand': 'Ford', 'model': 'Mustang', 'year': 1964, 'colour': 'blue'}"
            ]
          },
          "execution_count": 109,
          "metadata": {},
          "output_type": "execute_result"
        }
      ],
      "source": [
        "diccionario = {\n",
        "  \"brand\": \"Ford\",\n",
        "  \"model\": \"Mustang\",\n",
        "  \"year\": 1964\n",
        "}\n",
        "\n",
        "# Se modifica un item\n",
        "diccionario.update({\"colour\": \"blue\"})\n",
        "\n",
        "diccionario"
      ]
    },
    {
      "cell_type": "markdown",
      "metadata": {
        "id": "SKmqirfO0saC"
      },
      "source": [
        "#### 2.4.4. Remove items"
      ]
    },
    {
      "cell_type": "markdown",
      "metadata": {
        "id": "7WOxBep30w0F"
      },
      "source": [
        "An `item` with a specific `key` can be removed using the `pop()` method."
      ]
    },
    {
      "cell_type": "code",
      "execution_count": 110,
      "metadata": {
        "colab": {
          "base_uri": "https://localhost:8080/"
        },
        "id": "HoLQRBsv05Bl",
        "outputId": "77022ab5-d418-412a-816f-b70788a29239"
      },
      "outputs": [
        {
          "data": {
            "text/plain": [
              "{'brand': 'Ford', 'year': 1964}"
            ]
          },
          "execution_count": 110,
          "metadata": {},
          "output_type": "execute_result"
        }
      ],
      "source": [
        "diccionario = {\n",
        "  \"brand\": \"Ford\",\n",
        "  \"model\": \"Mustang\",\n",
        "  \"year\": 1964\n",
        "}\n",
        "\n",
        "# Se elimina un item\n",
        "diccionario.pop(\"model\")\n",
        "\n",
        "diccionario"
      ]
    },
    {
      "cell_type": "markdown",
      "metadata": {
        "id": "uXNmFelm1Vw1"
      },
      "source": [
        "Or you can delete an `item` with a specific `key` using `del` by specifying the `key` name between the `[]` symbols."
      ]
    },
    {
      "cell_type": "code",
      "execution_count": 111,
      "metadata": {
        "colab": {
          "base_uri": "https://localhost:8080/"
        },
        "id": "FirXMc8I1bk1",
        "outputId": "cafbb7dd-e7d7-4883-cf2d-ccf6dfa627d0"
      },
      "outputs": [
        {
          "data": {
            "text/plain": [
              "{'brand': 'Ford', 'year': 1964}"
            ]
          },
          "execution_count": 111,
          "metadata": {},
          "output_type": "execute_result"
        }
      ],
      "source": [
        "diccionario = {\n",
        "  \"brand\": \"Ford\",\n",
        "  \"model\": \"Mustang\",\n",
        "  \"year\": 1964\n",
        "}\n",
        "\n",
        "# Se elimina un item\n",
        "del diccionario[\"model\"]\n",
        "\n",
        "diccionario"
      ]
    },
    {
      "cell_type": "markdown",
      "metadata": {
        "id": "uXpEVpzm1snM"
      },
      "source": [
        "The dictionary will raise an error if `del` is used and the `key` of an `item` is not specified."
      ]
    },
    {
      "cell_type": "code",
      "execution_count": 112,
      "metadata": {
        "colab": {
          "base_uri": "https://localhost:8080/"
        },
        "id": "GrcB2G-r2FcU",
        "outputId": "8837e236-748a-4914-aea7-1bb113bce450"
      },
      "outputs": [
        {
          "name": "stdout",
          "output_type": "stream",
          "text": [
            "diccionario eliminado\n"
          ]
        }
      ],
      "source": [
        "diccionario = {\n",
        "  \"brand\": \"Ford\",\n",
        "  \"model\": \"Mustang\",\n",
        "  \"year\": 1964\n",
        "}\n",
        "\n",
        "# Se elimina un item\n",
        "del diccionario\n",
        "\n",
        "if 'diccionario' not in locals():\n",
        "  print(\"diccionario eliminado\")"
      ]
    },
    {
      "cell_type": "markdown",
      "metadata": {
        "id": "TvG2BpZz1A8L"
      },
      "source": [
        "If what is desired is to remove the last `item` introduced, the `popitem()` method can be used."
      ]
    },
    {
      "cell_type": "code",
      "execution_count": 113,
      "metadata": {
        "colab": {
          "base_uri": "https://localhost:8080/"
        },
        "id": "8diByaKO1M5p",
        "outputId": "14668065-6618-483b-f85e-49d86cc5ca9d"
      },
      "outputs": [
        {
          "data": {
            "text/plain": [
              "{'brand': 'Ford', 'model': 'Mustang'}"
            ]
          },
          "execution_count": 113,
          "metadata": {},
          "output_type": "execute_result"
        }
      ],
      "source": [
        "diccionario = {\n",
        "  \"brand\": \"Ford\",\n",
        "  \"model\": \"Mustang\",\n",
        "  \"year\": 1964\n",
        "}\n",
        "\n",
        "# Se elimina el \u00faltimo item introducido\n",
        "diccionario.popitem()\n",
        "\n",
        "diccionario"
      ]
    },
    {
      "cell_type": "markdown",
      "metadata": {
        "id": "jodtPAgV25wG"
      },
      "source": [
        "If you want to clear the dictionary, you can use the `clear()` method."
      ]
    },
    {
      "cell_type": "code",
      "execution_count": 114,
      "metadata": {
        "colab": {
          "base_uri": "https://localhost:8080/"
        },
        "id": "DkxaRg-h3CZl",
        "outputId": "987ad7c7-3809-49e1-f695-ed37d31b710a"
      },
      "outputs": [
        {
          "data": {
            "text/plain": [
              "{}"
            ]
          },
          "execution_count": 114,
          "metadata": {},
          "output_type": "execute_result"
        }
      ],
      "source": [
        "diccionario = {\n",
        "  \"brand\": \"Ford\",\n",
        "  \"model\": \"Mustang\",\n",
        "  \"year\": 1964\n",
        "}\n",
        "diccionario.clear()\n",
        "diccionario"
      ]
    },
    {
      "cell_type": "markdown",
      "metadata": {
        "id": "99zvxb7z3UXQ"
      },
      "source": [
        "#### 2.4.5. Copying dictionaries"
      ]
    },
    {
      "cell_type": "markdown",
      "metadata": {
        "id": "1TMKYb8F3UXp"
      },
      "source": [
        "Dictionaries cannot be copied using `dictionary1 = dictionary2`, because if you modify `dictionary1`, `dictionary2` will also be modified."
      ]
    },
    {
      "cell_type": "code",
      "execution_count": 115,
      "metadata": {
        "colab": {
          "base_uri": "https://localhost:8080/"
        },
        "id": "qqwVNCyW3UXp",
        "outputId": "59881cd2-ba60-405d-b535-8a6cf761deca"
      },
      "outputs": [
        {
          "data": {
            "text/plain": [
              "2000"
            ]
          },
          "execution_count": 115,
          "metadata": {},
          "output_type": "execute_result"
        }
      ],
      "source": [
        "diccionario1 = {\n",
        "  \"brand\": \"Ford\",\n",
        "  \"model\": \"Mustang\",\n",
        "  \"year\": 1964\n",
        "}\n",
        "diccionario2 = diccionario1\n",
        "diccionario1[\"year\"] = 2000\n",
        "diccionario2[\"year\"]"
      ]
    },
    {
      "cell_type": "markdown",
      "metadata": {
        "id": "-XEDc9-K3UXq"
      },
      "source": [
        "So, you have to use the `copy()` method."
      ]
    },
    {
      "cell_type": "code",
      "execution_count": 116,
      "metadata": {
        "colab": {
          "base_uri": "https://localhost:8080/"
        },
        "id": "hHfu0gRe3UXr",
        "outputId": "fcbbb878-7a3c-4c03-f152-72c111afc234"
      },
      "outputs": [
        {
          "data": {
            "text/plain": [
              "1964"
            ]
          },
          "execution_count": 116,
          "metadata": {},
          "output_type": "execute_result"
        }
      ],
      "source": [
        "diccionario1 = {\n",
        "  \"brand\": \"Ford\",\n",
        "  \"model\": \"Mustang\",\n",
        "  \"year\": 1964\n",
        "}\n",
        "diccionario2 = diccionario1.copy()\n",
        "diccionario1[\"year\"] = 2000\n",
        "diccionario2[\"year\"]"
      ]
    },
    {
      "cell_type": "markdown",
      "metadata": {
        "id": "dATKiqgl3UXr"
      },
      "source": [
        "Or you have to use the dictionary constructor `dict()`"
      ]
    },
    {
      "cell_type": "code",
      "execution_count": 117,
      "metadata": {
        "colab": {
          "base_uri": "https://localhost:8080/"
        },
        "id": "eaRQxN963UXr",
        "outputId": "2f4ed2c9-a3d3-4ede-cfe6-f22eac2c03e3"
      },
      "outputs": [
        {
          "data": {
            "text/plain": [
              "1964"
            ]
          },
          "execution_count": 117,
          "metadata": {},
          "output_type": "execute_result"
        }
      ],
      "source": [
        "diccionario1 = {\n",
        "  \"brand\": \"Ford\",\n",
        "  \"model\": \"Mustang\",\n",
        "  \"year\": 1964\n",
        "}\n",
        "diccionario2 = dict(diccionario1)\n",
        "diccionario1[\"year\"] = 2000\n",
        "diccionario2[\"year\"]"
      ]
    },
    {
      "cell_type": "markdown",
      "metadata": {
        "id": "BKSrSLi84C7h"
      },
      "source": [
        "#### 2.4.6. Anidated Dictionaries"
      ]
    },
    {
      "cell_type": "markdown",
      "metadata": {
        "id": "iCHG6Mr54HUQ"
      },
      "source": [
        "Dictionaries can have `items` of any data type, even other dictionaries. These types of dictionaries are called `nested` dictionaries."
      ]
    },
    {
      "cell_type": "code",
      "execution_count": 118,
      "metadata": {
        "colab": {
          "base_uri": "https://localhost:8080/"
        },
        "id": "FAoyMHE64Ujf",
        "outputId": "4e4818d8-5546-41ca-d481-9abea8968b49"
      },
      "outputs": [
        {
          "data": {
            "text/plain": [
              "{'child1': {'name': 'Emil', 'year': 2004},\n",
              " 'child2': {'name': 'Tobias', 'year': 2007},\n",
              " 'child3': {'name': 'Linus', 'year': 2011}}"
            ]
          },
          "execution_count": 118,
          "metadata": {},
          "output_type": "execute_result"
        }
      ],
      "source": [
        "diccionario_nested = {\n",
        "  \"child1\" : {\n",
        "    \"name\" : \"Emil\",\n",
        "    \"year\" : 2004\n",
        "  },\n",
        "  \"child2\" : {\n",
        "    \"name\" : \"Tobias\",\n",
        "    \"year\" : 2007\n",
        "  },\n",
        "  \"child3\" : {\n",
        "    \"name\" : \"Linus\",\n",
        "    \"year\" : 2011\n",
        "  }\n",
        "}\n",
        "diccionario_nested"
      ]
    },
    {
      "cell_type": "code",
      "execution_count": 119,
      "metadata": {
        "colab": {
          "base_uri": "https://localhost:8080/"
        },
        "id": "o3J9KzwP4e1U",
        "outputId": "813e8fc4-813a-4b4e-afd6-5ea0a3e072f0"
      },
      "outputs": [
        {
          "data": {
            "text/plain": [
              "{'child1': {'name': 'Emil', 'year': 2004},\n",
              " 'child2': {'name': 'Tobias', 'year': 2007},\n",
              " 'child3': {'name': 'Linus', 'year': 2011}}"
            ]
          },
          "execution_count": 119,
          "metadata": {},
          "output_type": "execute_result"
        }
      ],
      "source": [
        "child1 = {\n",
        "  \"name\" : \"Emil\",\n",
        "  \"year\" : 2004\n",
        "}\n",
        "child2 = {\n",
        "  \"name\" : \"Tobias\",\n",
        "  \"year\" : 2007\n",
        "}\n",
        "child3 = {\n",
        "  \"name\" : \"Linus\",\n",
        "  \"year\" : 2011\n",
        "}\n",
        "\n",
        "diccionario_nested = {\n",
        "  \"child1\" : child1,\n",
        "  \"child2\" : child2,\n",
        "  \"child3\" : child3\n",
        "}\n",
        "\n",
        "diccionario_nested"
      ]
    },
    {
      "cell_type": "markdown",
      "metadata": {
        "id": "bqLGlVmm4pDB"
      },
      "source": [
        "#### 2.4.7. Dictionary Methods"
      ]
    },
    {
      "cell_type": "markdown",
      "metadata": {
        "id": "8DWitc0s4sTW"
      },
      "source": [
        "These are the [methods](https://www.w3schools.com/python/python_dictionaries_methods.asp) that can be used on dictionaries."
      ]
    },
    {
      "attachments": {},
      "cell_type": "markdown",
      "metadata": {},
      "source": [
        "#### 2.4.8. Dictionary comprehension"
      ]
    },
    {
      "attachments": {},
      "cell_type": "markdown",
      "metadata": {},
      "source": [
        " igual que podemos hacer `list comprehensions` mediante la sintaxis",
        "\n",
        "```python\n",
        "list comprehension = [expression for item in iterable if condition == True]",
        "```\n",
        "\n",
        "We can create `dictionary comprehensions` using the following syntax",
        "\n",
        "``` python\n",
        "dictionary comprehension = {key_expression: value_expression for item in iterable if condition == True}",
        "```\n",
        "\n",
        "Let's start with an example"
      ]
    },
    {
      "cell_type": "code",
      "execution_count": 2,
      "metadata": {},
      "outputs": [
        {
          "data": {
            "text/plain": [
              "{4: 16, 6: 36}"
            ]
          },
          "execution_count": 2,
          "metadata": {},
          "output_type": "execute_result"
        }
      ],
      "source": [
        "dictionary_comprehension = {x: x**2 for x in (2, 4, 6) if x > 2}\n",
        "dictionary_comprehension"
      ]
    },
    {
      "cell_type": "markdown",
      "metadata": {
        "id": "7oEyr0xWZZ_y"
      },
      "source": [
        "### 2.5. Sets"
      ]
    },
    {
      "cell_type": "markdown",
      "metadata": {
        "id": "Mezqo3a9Z_8A"
      },
      "source": [
        "#### 2.5.1. Set"
      ]
    },
    {
      "cell_type": "markdown",
      "metadata": {
        "id": "T8BePxtefajM"
      },
      "source": [
        "`Sets` are used in Python to store a collection of items in a single variable. They can store items of different types. They are unordered and do not have an index.",
        "\n",
        "They differ from lists in that they have neither order nor index.",
        "\n",
        "They are declared using the symbols `{}`"
      ]
    },
    {
      "cell_type": "markdown",
      "metadata": {
        "id": "Qwkyo_QTgEKg"
      },
      "source": [
        "Since `set` is a reserved word in Python, we create a `set` with the name `set_`"
      ]
    },
    {
      "cell_type": "code",
      "execution_count": 120,
      "metadata": {
        "colab": {
          "base_uri": "https://localhost:8080/"
        },
        "id": "sFqrE6zifzJe",
        "outputId": "07c58143-c208-477c-a9b4-9dd32d10fe7f"
      },
      "outputs": [
        {
          "data": {
            "text/plain": [
              "{1, 5, 5.3, 6.6, 'item0', 'item4'}"
            ]
          },
          "execution_count": 120,
          "metadata": {},
          "output_type": "execute_result"
        }
      ],
      "source": [
        "set_ = {'item0', 1, 5.3, \"item4\", 5, 6.6}\n",
        "set_"
      ]
    },
    {
      "cell_type": "markdown",
      "metadata": {
        "id": "9Co3_4J4gU76"
      },
      "source": [
        "Items cannot be duplicated, if a duplicate item is found, only one is kept."
      ]
    },
    {
      "cell_type": "code",
      "execution_count": 121,
      "metadata": {
        "colab": {
          "base_uri": "https://localhost:8080/"
        },
        "id": "2CkpN99vgctG",
        "outputId": "743cb926-2e0a-4342-9d60-743db5d29fd0"
      },
      "outputs": [
        {
          "data": {
            "text/plain": [
              "{1, 5, 5.3, 6.6, 'item0', 'item4'}"
            ]
          },
          "execution_count": 121,
          "metadata": {},
          "output_type": "execute_result"
        }
      ],
      "source": [
        "set_ = {'item0', 1, 5.3, \"item4\", 5, 6.6, 'item0'}\n",
        "set_"
      ]
    },
    {
      "cell_type": "markdown",
      "metadata": {
        "id": "kuTfGMPOgmEn"
      },
      "source": [
        "The length of the `set` can be obtained using the `len()` function."
      ]
    },
    {
      "cell_type": "code",
      "execution_count": 122,
      "metadata": {
        "colab": {
          "base_uri": "https://localhost:8080/"
        },
        "id": "nqbIWoXPgrF6",
        "outputId": "047f0d8b-ee9d-4cec-f30f-89583a5c0517"
      },
      "outputs": [
        {
          "data": {
            "text/plain": [
              "6"
            ]
          },
          "execution_count": 122,
          "metadata": {},
          "output_type": "execute_result"
        }
      ],
      "source": [
        "len(set_)"
      ]
    },
    {
      "cell_type": "markdown",
      "metadata": {
        "id": "PbEwjHvvg8rx"
      },
      "source": [
        "As can be seen, the length of the set is 6 and not 7, since it remains with only one `'item0'`"
      ]
    },
    {
      "cell_type": "markdown",
      "metadata": {
        "id": "g0QNKz8DhOrd"
      },
      "source": [
        "It can be checked if an item is in the set"
      ]
    },
    {
      "cell_type": "code",
      "execution_count": 123,
      "metadata": {
        "colab": {
          "base_uri": "https://localhost:8080/"
        },
        "id": "SuG6Lo2ZhSkW",
        "outputId": "214b4061-bd07-4247-e272-b7d8f3d18b51"
      },
      "outputs": [
        {
          "data": {
            "text/plain": [
              "True"
            ]
          },
          "execution_count": 123,
          "metadata": {},
          "output_type": "execute_result"
        }
      ],
      "source": [
        "'item4' in set_"
      ]
    },
    {
      "cell_type": "markdown",
      "metadata": {
        "id": "z2E3y-2shi1-"
      },
      "source": [
        "##### 2.5.1.1. Add items"
      ]
    },
    {
      "cell_type": "markdown",
      "metadata": {
        "id": "CuTdmJSahotu"
      },
      "source": [
        "An element can be added to a set using the `add()` method."
      ]
    },
    {
      "cell_type": "code",
      "execution_count": 124,
      "metadata": {
        "colab": {
          "base_uri": "https://localhost:8080/"
        },
        "id": "vTdjU-EAhltR",
        "outputId": "fd558e79-8946-4358-deb5-3604eafb918f"
      },
      "outputs": [
        {
          "data": {
            "text/plain": [
              "{1, 5, 5.3, 6.6, 8.8, 'item0', 'item4'}"
            ]
          },
          "execution_count": 124,
          "metadata": {},
          "output_type": "execute_result"
        }
      ],
      "source": [
        "set_.add(8.8)\n",
        "set_"
      ]
    },
    {
      "cell_type": "markdown",
      "metadata": {
        "id": "k27XyYeRh0Of"
      },
      "source": [
        "Another set can be added using the `update()` method."
      ]
    },
    {
      "cell_type": "code",
      "execution_count": 125,
      "metadata": {
        "colab": {
          "base_uri": "https://localhost:8080/"
        },
        "id": "IKYJLJxYh5op",
        "outputId": "1cdcbaf7-a8b5-43fe-b2f4-ef489bf03631"
      },
      "outputs": [
        {
          "data": {
            "text/plain": [
              "{1, 5, 5.3, 6.6, 7, 8.8, 'item0', 'item4', 'item5', 'item6'}"
            ]
          },
          "execution_count": 125,
          "metadata": {},
          "output_type": "execute_result"
        }
      ],
      "source": [
        "set2 = {\"item5\", \"item6\", 7}\n",
        "set_.update(set2)\n",
        "set_"
      ]
    },
    {
      "cell_type": "markdown",
      "metadata": {
        "id": "hm751MNciHHZ"
      },
      "source": [
        "Items can also be added from iterable data types in Python."
      ]
    },
    {
      "cell_type": "code",
      "execution_count": 126,
      "metadata": {
        "colab": {
          "base_uri": "https://localhost:8080/"
        },
        "id": "_iHUUiPziL75",
        "outputId": "c0494a91-00dc-4c77-cba7-88fb446bef65"
      },
      "outputs": [
        {
          "data": {
            "text/plain": [
              "{1, 10, 11.2, 5, 5.3, 6.6, 7, 8.8, 'item0', 'item4', 'item5', 'item6', 'item9'}"
            ]
          },
          "execution_count": 126,
          "metadata": {},
          "output_type": "execute_result"
        }
      ],
      "source": [
        "lista = [\"item9\", 10, 11.2]\n",
        "set_.update(lista)\n",
        "set_"
      ]
    },
    {
      "cell_type": "markdown",
      "metadata": {
        "id": "1TGlcKL8iZVa"
      },
      "source": [
        "##### 2.5.1.2. Remove items"
      ]
    },
    {
      "cell_type": "markdown",
      "metadata": {
        "id": "uF65tWYDif1v"
      },
      "source": [
        "An item can be removed using the `remove()` method."
      ]
    },
    {
      "cell_type": "code",
      "execution_count": 127,
      "metadata": {
        "colab": {
          "base_uri": "https://localhost:8080/"
        },
        "id": "Kx8DKpXvikMr",
        "outputId": "ae16cdd6-876a-4524-a8ac-19f962245ce8"
      },
      "outputs": [
        {
          "data": {
            "text/plain": [
              "{1, 10, 11.2, 5, 5.3, 6.6, 7, 8.8, 'item0', 'item4', 'item5', 'item6'}"
            ]
          },
          "execution_count": 127,
          "metadata": {},
          "output_type": "execute_result"
        }
      ],
      "source": [
        "set_.remove('item9')\n",
        "set_"
      ]
    },
    {
      "cell_type": "markdown",
      "metadata": {
        "id": "TtCod3sQirg7"
      },
      "source": [
        "Or using the `discard()` method"
      ]
    },
    {
      "cell_type": "code",
      "execution_count": 128,
      "metadata": {
        "colab": {
          "base_uri": "https://localhost:8080/"
        },
        "id": "4UXQN0EpivKn",
        "outputId": "7923d3e3-27c9-43e8-9bc3-660373e68875"
      },
      "outputs": [
        {
          "data": {
            "text/plain": [
              "{1, 10, 11.2, 5, 5.3, 6.6, 7, 8.8, 'item0', 'item4', 'item5'}"
            ]
          },
          "execution_count": 128,
          "metadata": {},
          "output_type": "execute_result"
        }
      ],
      "source": [
        "set_.discard('item6')\n",
        "set_"
      ]
    },
    {
      "cell_type": "markdown",
      "metadata": {
        "id": "UG0QOHrji3qn"
      },
      "source": [
        "The `pop()` method can remove the last item, but since `set`s are unordered, there's no way to know which is the last item. The `pop()` method returns the removed item."
      ]
    },
    {
      "cell_type": "code",
      "execution_count": 129,
      "metadata": {
        "colab": {
          "base_uri": "https://localhost:8080/"
        },
        "id": "X9LmVBZ2i_EC",
        "outputId": "b2960c2b-7e43-4b47-e890-59c27db836dd"
      },
      "outputs": [
        {
          "name": "stdout",
          "output_type": "stream",
          "text": [
            "set antes de pop(): {1, 5, 5.3, 6.6, 8.8, 7, 10, 11.2, 'item5', 'item0', 'item4'}\n",
            "Se ha eliminado 1\n"
          ]
        }
      ],
      "source": [
        "print(f\"set antes de pop(): {set_}\")\n",
        "eliminado = set_.pop()\n",
        "print(f\"Se ha eliminado {eliminado}\")"
      ]
    },
    {
      "cell_type": "markdown",
      "metadata": {
        "id": "HnrDwpZmjxK0"
      },
      "source": [
        "The `clear()` method can be used to empty the set."
      ]
    },
    {
      "cell_type": "code",
      "execution_count": 130,
      "metadata": {
        "colab": {
          "base_uri": "https://localhost:8080/"
        },
        "id": "z0NlBUFdj0sx",
        "outputId": "716cc094-f69e-4b26-f994-bd5640116c4d"
      },
      "outputs": [
        {
          "data": {
            "text/plain": [
              "set()"
            ]
          },
          "execution_count": 130,
          "metadata": {},
          "output_type": "execute_result"
        }
      ],
      "source": [
        "set_.clear()\n",
        "set_"
      ]
    },
    {
      "cell_type": "markdown",
      "metadata": {
        "id": "coI1XsJhj7Hj"
      },
      "source": [
        "Lastly, with `del` you can delete the set"
      ]
    },
    {
      "cell_type": "code",
      "execution_count": 131,
      "metadata": {
        "colab": {
          "base_uri": "https://localhost:8080/"
        },
        "id": "_xB5qAUqkRA8",
        "outputId": "a92f6f58-605a-4071-d20b-0c62de702236"
      },
      "outputs": [
        {
          "name": "stdout",
          "output_type": "stream",
          "text": [
            "set eliminado\n"
          ]
        }
      ],
      "source": [
        "del set_\n",
        "\n",
        "if 'set_' not in locals():\n",
        "  print(\"set eliminado\")"
      ]
    },
    {
      "cell_type": "markdown",
      "metadata": {
        "id": "qvBqEGDzkgGP"
      },
      "source": [
        "##### 2.5.1.3. Unir \u00edtems"
      ]
    },
    {
      "cell_type": "markdown",
      "metadata": {
        "id": "8jgM0iNSkhtS"
      },
      "source": [
        "a way to unite sets is through the `union()` method"
      ]
    },
    {
      "cell_type": "code",
      "execution_count": 132,
      "metadata": {
        "colab": {
          "base_uri": "https://localhost:8080/"
        },
        "id": "AsLR8ixJkpV-",
        "outputId": "8f343074-a669-4b57-f874-6c0478e49f17"
      },
      "outputs": [
        {
          "data": {
            "text/plain": [
              "{1, 2, 3, 'a', 'b', 'c'}"
            ]
          },
          "execution_count": 132,
          "metadata": {},
          "output_type": "execute_result"
        }
      ],
      "source": [
        "set1 = {\"a\", \"b\" , \"c\"}\n",
        "set2 = {1, 2, 3}\n",
        "set3 = set1.union(set2)\n",
        "set3"
      ]
    },
    {
      "cell_type": "markdown",
      "metadata": {
        "id": "XtIU61J7ktFe"
      },
      "source": [
        "Another way is through the `update()` method, but this way adds a set to another, it doesn't create a new one."
      ]
    },
    {
      "cell_type": "code",
      "execution_count": 133,
      "metadata": {
        "colab": {
          "base_uri": "https://localhost:8080/"
        },
        "id": "cckwqzDvk0AE",
        "outputId": "45f9373e-e0a6-48f8-9eb9-8213cc488d06"
      },
      "outputs": [
        {
          "data": {
            "text/plain": [
              "{1, 2, 3, 'a', 'b', 'c'}"
            ]
          },
          "execution_count": 133,
          "metadata": {},
          "output_type": "execute_result"
        }
      ],
      "source": [
        "set1 = {\"a\", \"b\" , \"c\"}\n",
        "set2 = {1, 2, 3}\n",
        "set1.update(set2)\n",
        "set1"
      ]
    },
    {
      "cell_type": "markdown",
      "metadata": {
        "id": "ZlTpvJ8WlTQU"
      },
      "source": [
        "These methods of union remove the duplicates, but if we want to get the duplicated elements in two sets we can use the `intersection()` method."
      ]
    },
    {
      "cell_type": "code",
      "execution_count": 134,
      "metadata": {
        "colab": {
          "base_uri": "https://localhost:8080/"
        },
        "id": "iGu6yzoVlWj3",
        "outputId": "bc78d5a8-13b9-4f1f-e96f-1e0c14eb579a"
      },
      "outputs": [
        {
          "data": {
            "text/plain": [
              "{'apple'}"
            ]
          },
          "execution_count": 134,
          "metadata": {},
          "output_type": "execute_result"
        }
      ],
      "source": [
        "set1 = {\"apple\", \"banana\", \"cherry\"}\n",
        "set2 = {\"google\", \"microsoft\", \"apple\"}\n",
        "\n",
        "set3 = set1.intersection(set2)\n",
        "set3"
      ]
    },
    {
      "cell_type": "markdown",
      "metadata": {
        "id": "odcY0EgUk7wF"
      },
      "source": [
        "If we want to get the duplicate elements in two sets, but without creating a new set, we can use the `intersection_update()` method."
      ]
    },
    {
      "cell_type": "code",
      "execution_count": 135,
      "metadata": {
        "colab": {
          "base_uri": "https://localhost:8080/"
        },
        "id": "gZGuaYoLlFgR",
        "outputId": "0677ebaa-7279-4247-d8f7-2e2857c6f49a"
      },
      "outputs": [
        {
          "data": {
            "text/plain": [
              "{'apple'}"
            ]
          },
          "execution_count": 135,
          "metadata": {},
          "output_type": "execute_result"
        }
      ],
      "source": [
        "set1 = {\"apple\", \"banana\", \"cherry\"}\n",
        "set2 = {\"google\", \"microsoft\", \"apple\"}\n",
        "\n",
        "set1.intersection_update(set2)\n",
        "set1"
      ]
    },
    {
      "cell_type": "markdown",
      "metadata": {
        "id": "fTt6Pe8aluGm"
      },
      "source": [
        "Now, if we want to get rid of the duplicates, we can use the `symmetric_difference()` method.",
        "\n",
        "The difference between this and the union of two sets is that in the union, all items are included, but duplicates are only taken once. Now we keep only those that are not duplicated."
      ]
    },
    {
      "cell_type": "code",
      "execution_count": 136,
      "metadata": {
        "colab": {
          "base_uri": "https://localhost:8080/"
        },
        "id": "GLUjkTVGmGxN",
        "outputId": "aebefa2d-ef05-4628-c8f8-bb43acb72190"
      },
      "outputs": [
        {
          "data": {
            "text/plain": [
              "{'banana', 'cherry', 'google', 'microsoft'}"
            ]
          },
          "execution_count": 136,
          "metadata": {},
          "output_type": "execute_result"
        }
      ],
      "source": [
        "set1 = {\"apple\", \"banana\", \"cherry\"}\n",
        "set2 = {\"google\", \"microsoft\", \"apple\"}\n",
        "\n",
        "set3 = set1.symmetric_difference(set2)\n",
        "set3"
      ]
    },
    {
      "cell_type": "markdown",
      "metadata": {
        "id": "nxaXg1lvmOfX"
      },
      "source": [
        "If we want to remove the duplicates without creating a new set, we use the `symmetric_difference_update()` method."
      ]
    },
    {
      "cell_type": "code",
      "execution_count": 137,
      "metadata": {
        "colab": {
          "base_uri": "https://localhost:8080/"
        },
        "id": "UPbfYh2PmX6O",
        "outputId": "2ace457d-d6e4-4a29-f554-694883ffbee1"
      },
      "outputs": [
        {
          "data": {
            "text/plain": [
              "{'banana', 'cherry', 'google', 'microsoft'}"
            ]
          },
          "execution_count": 137,
          "metadata": {},
          "output_type": "execute_result"
        }
      ],
      "source": [
        "set1 = {\"apple\", \"banana\", \"cherry\"}\n",
        "set2 = {\"google\", \"microsoft\", \"apple\"}\n",
        "\n",
        "set1.symmetric_difference_update(set2)\n",
        "set1"
      ]
    },
    {
      "cell_type": "markdown",
      "metadata": {
        "id": "f-1-LgWpmf-c"
      },
      "source": [
        "##### 2.5.1.4. Methods of sets"
      ]
    },
    {
      "cell_type": "markdown",
      "metadata": {
        "id": "4Rh2tGnkmlbs"
      },
      "source": [
        "These are the [methods](https://www.w3schools.com/python/python_sets_methods.asp) that can be used with sets."
      ]
    },
    {
      "cell_type": "markdown",
      "metadata": {
        "id": "ijxIwaxraDFO"
      },
      "source": [
        "#### 2.5.2. FrozenSet"
      ]
    },
    {
      "cell_type": "markdown",
      "metadata": {
        "id": "lU8UdGoimsox"
      },
      "source": [
        "The `frozenset`s are like `set`s but with the safety that they are immutable, just as `tuple`s are like `list`s but immutable. Therefore, we cannot add or remove items."
      ]
    },
    {
      "cell_type": "markdown",
      "metadata": {
        "id": "hfBghjhuZdYY"
      },
      "source": [
        "### 2.6. Booleans"
      ]
    },
    {
      "cell_type": "markdown",
      "metadata": {
        "id": "gYwAWhEKnH0H"
      },
      "source": [
        "There are only two booleans in Python: `True` and `False`",
        "\n"
      ]
    },
    {
      "cell_type": "markdown",
      "metadata": {
        "id": "EOZvJFErnZmu"
      },
      "source": [
        "The function `bool()` can evaluate if anything is `True` or `False`."
      ]
    },
    {
      "cell_type": "code",
      "execution_count": 138,
      "metadata": {
        "colab": {
          "base_uri": "https://localhost:8080/"
        },
        "id": "1REXUQOxnfZ1",
        "outputId": "d03afe8f-3110-4d66-9c5e-9878d9c5a8f0"
      },
      "outputs": [
        {
          "name": "stdout",
          "output_type": "stream",
          "text": [
            "True\n",
            "True\n",
            "False\n"
          ]
        }
      ],
      "source": [
        "print(bool(\"Hello\"))\n",
        "print(bool(15))\n",
        "print(bool(0))"
      ]
    },
    {
      "cell_type": "markdown",
      "metadata": {
        "id": "of8HDP7jnmrU"
      },
      "source": [
        "#### 2.6.1. Other Data Types True and False"
      ]
    },
    {
      "cell_type": "markdown",
      "metadata": {
        "id": "1iYLFhQEnp4U"
      },
      "source": [
        "The following data are `True`:",
        "*   Any string that is not empty",
        "*   Any number except 0",
        "*   Any list, tuple, dictionary, or set that is not empty",
        "\n"
      ]
    },
    {
      "cell_type": "code",
      "execution_count": 139,
      "metadata": {
        "colab": {
          "base_uri": "https://localhost:8080/"
        },
        "id": "tmd1Ji_RoBuH",
        "outputId": "bc47f37f-bfbe-4dc9-d63e-54eb1f8b670c"
      },
      "outputs": [
        {
          "name": "stdout",
          "output_type": "stream",
          "text": [
            "True\n",
            "False\n"
          ]
        }
      ],
      "source": [
        "print(bool(\"Hola\"))\n",
        "print(bool(\"\"))"
      ]
    },
    {
      "cell_type": "code",
      "execution_count": 140,
      "metadata": {
        "colab": {
          "base_uri": "https://localhost:8080/"
        },
        "id": "HDyk6bOuoJo-",
        "outputId": "27a86d97-00b1-46ce-c62b-eea2802f5936"
      },
      "outputs": [
        {
          "name": "stdout",
          "output_type": "stream",
          "text": [
            "True\n",
            "False\n"
          ]
        }
      ],
      "source": [
        "print(bool(3))\n",
        "print(bool(0))"
      ]
    },
    {
      "cell_type": "code",
      "execution_count": 141,
      "metadata": {
        "colab": {
          "base_uri": "https://localhost:8080/"
        },
        "id": "op-NW-f5oKrU",
        "outputId": "2be281c2-5231-4c6e-b051-b2db2ba838bc"
      },
      "outputs": [
        {
          "name": "stdout",
          "output_type": "stream",
          "text": [
            "True\n",
            "False\n"
          ]
        }
      ],
      "source": [
        "lista = [1, 2, 3]\n",
        "print(bool(lista))\n",
        "\n",
        "lista = []\n",
        "print(bool(lista))"
      ]
    },
    {
      "cell_type": "code",
      "execution_count": 142,
      "metadata": {
        "colab": {
          "base_uri": "https://localhost:8080/"
        },
        "id": "w03mKZc3oR6v",
        "outputId": "50450c4e-49f0-405c-d780-dd52ccc4f987"
      },
      "outputs": [
        {
          "name": "stdout",
          "output_type": "stream",
          "text": [
            "True\n",
            "False\n"
          ]
        }
      ],
      "source": [
        "tupla = (1, 2, 3)\n",
        "print(bool(tupla))\n",
        "\n",
        "tupla = ()\n",
        "print(bool(tupla))"
      ]
    },
    {
      "cell_type": "code",
      "execution_count": 143,
      "metadata": {
        "colab": {
          "base_uri": "https://localhost:8080/"
        },
        "id": "dJfUya7goYJV",
        "outputId": "55082d43-c54f-47f5-e87f-2f85d82c3695"
      },
      "outputs": [
        {
          "name": "stdout",
          "output_type": "stream",
          "text": [
            "True\n",
            "False\n"
          ]
        }
      ],
      "source": [
        "diccionario = {\n",
        "  \"brand\": \"Ford\",\n",
        "  \"model\": \"Mustang\",\n",
        "  \"year\": 1964,\n",
        "  \"colors\": [\"red\", \"white\", \"blue\"]\n",
        "}\n",
        "print(bool(diccionario))\n",
        "\n",
        "diccionario.clear()\n",
        "print(bool(diccionario))"
      ]
    },
    {
      "cell_type": "code",
      "execution_count": 144,
      "metadata": {
        "colab": {
          "base_uri": "https://localhost:8080/"
        },
        "id": "P-b0a-rEoqlc",
        "outputId": "ede8991f-5e35-4b00-f4e8-0d92b2ed5e7c"
      },
      "outputs": [
        {
          "name": "stdout",
          "output_type": "stream",
          "text": [
            "True\n",
            "False\n"
          ]
        }
      ],
      "source": [
        "set_ = {'item0', 1, 5.3, \"item4\", 5, 6.6}\n",
        "print(bool(set_))\n",
        "\n",
        "set_.clear()\n",
        "print(bool(set_))"
      ]
    },
    {
      "cell_type": "markdown",
      "metadata": {
        "id": "BgT3Hnc0ZfjL"
      },
      "source": [
        "### 2.7. Binaries"
      ]
    },
    {
      "cell_type": "markdown",
      "metadata": {
        "id": "MfU4l6OCaMUA"
      },
      "source": [
        "#### 2.7.1. Bytes"
      ]
    },
    {
      "cell_type": "markdown",
      "metadata": {
        "id": "JUqLiO5xqWV3"
      },
      "source": [
        "The `bytes` type is an immutable sequence of bytes. It only accepts ASCII characters. Bytes can also be represented using integers whose values must satisfy `0 <= x < 256`."
      ]
    },
    {
      "cell_type": "markdown",
      "metadata": {
        "id": "I9hYBQzeqpD-"
      },
      "source": [
        "To create a byte type, we must introduce the character `b`"
      ]
    },
    {
      "cell_type": "code",
      "execution_count": 145,
      "metadata": {
        "colab": {
          "base_uri": "https://localhost:8080/"
        },
        "id": "NIuckty4qha0",
        "outputId": "a3850a91-82a0-473e-860e-d25103ce742c"
      },
      "outputs": [
        {
          "data": {
            "text/plain": [
              "b'MaximoFN'"
            ]
          },
          "execution_count": 145,
          "metadata": {},
          "output_type": "execute_result"
        }
      ],
      "source": [
        "byte = b\"MaximoFN\"\n",
        "byte"
      ]
    },
    {
      "cell_type": "markdown",
      "metadata": {
        "id": "FGv6Ac6TrB2Z"
      },
      "source": [
        "It can also be created using its constructor `bytes()`"
      ]
    },
    {
      "cell_type": "code",
      "execution_count": 146,
      "metadata": {
        "colab": {
          "base_uri": "https://localhost:8080/"
        },
        "id": "8iPqaAuHrG5e",
        "outputId": "bab25a8d-8420-4ff5-8493-7e8e59083e72"
      },
      "outputs": [
        {
          "data": {
            "text/plain": [
              "b'\\x00\\x00\\x00\\x00\\x00\\x00\\x00\\x00\\x00\\x00'"
            ]
          },
          "execution_count": 146,
          "metadata": {},
          "output_type": "execute_result"
        }
      ],
      "source": [
        "byte = bytes(10)\n",
        "byte"
      ]
    },
    {
      "cell_type": "code",
      "execution_count": 147,
      "metadata": {
        "colab": {
          "base_uri": "https://localhost:8080/"
        },
        "id": "aKak5c2drKd1",
        "outputId": "4287689e-b8d0-4f98-c66f-ef73d8e00731"
      },
      "outputs": [
        {
          "data": {
            "text/plain": [
              "b'\\x00\\x01\\x02\\x03\\x04\\x05\\x06\\x07\\x08\\t'"
            ]
          },
          "execution_count": 147,
          "metadata": {},
          "output_type": "execute_result"
        }
      ],
      "source": [
        "byte = bytes(range(10))\n",
        "byte"
      ]
    },
    {
      "cell_type": "markdown",
      "metadata": {
        "id": "w4xkSSgyrZ7p"
      },
      "source": [
        "Bytes can be concatenated using the `+` operator."
      ]
    },
    {
      "cell_type": "code",
      "execution_count": 148,
      "metadata": {
        "colab": {
          "base_uri": "https://localhost:8080/"
        },
        "id": "IZUgQAfrrgHn",
        "outputId": "6930039f-9069-4cf5-f26a-9a01a8be7b65"
      },
      "outputs": [
        {
          "data": {
            "text/plain": [
              "b'DeepMaxFN'"
            ]
          },
          "execution_count": 148,
          "metadata": {},
          "output_type": "execute_result"
        }
      ],
      "source": [
        "byte1 = b'DeepMax'\n",
        "byte2 = b'FN'\n",
        "byte3 = byte1 + byte2\n",
        "byte3"
      ]
    },
    {
      "cell_type": "markdown",
      "metadata": {
        "id": "wyYc2mcprqEW"
      },
      "source": [
        "Repetition with the `*` operator"
      ]
    },
    {
      "cell_type": "code",
      "execution_count": 149,
      "metadata": {
        "colab": {
          "base_uri": "https://localhost:8080/"
        },
        "id": "jUCDHJYJruvJ",
        "outputId": "b86a7fab-0800-4293-903e-3dd0207d6a32"
      },
      "outputs": [
        {
          "data": {
            "text/plain": [
              "b'MaximoFN MaximoFN MaximoFN '"
            ]
          },
          "execution_count": 149,
          "metadata": {},
          "output_type": "execute_result"
        }
      ],
      "source": [
        "byte1 = b'MaximoFN '\n",
        "byte2 = byte1 * 3\n",
        "byte2"
      ]
    },
    {
      "cell_type": "markdown",
      "metadata": {
        "id": "vJjLkW3wr26q"
      },
      "source": [
        "We can check if a character is within the string"
      ]
    },
    {
      "cell_type": "code",
      "execution_count": 150,
      "metadata": {
        "colab": {
          "base_uri": "https://localhost:8080/"
        },
        "id": "xR9URN4Wr5-5",
        "outputId": "847fcf75-c67d-40fb-db58-f328e031cf5c"
      },
      "outputs": [
        {
          "data": {
            "text/plain": [
              "False"
            ]
          },
          "execution_count": 150,
          "metadata": {},
          "output_type": "execute_result"
        }
      ],
      "source": [
        "b'D' in byte1"
      ]
    },
    {
      "cell_type": "markdown",
      "metadata": {
        "id": "tuTA8gSqsk-0"
      },
      "source": [
        "These are the [methods](httpsplataforma.josedomingo.org/pledin/cursos/python3/curso/u30/#methods-of-bytes-and-bytearray) that can be used with `bytes`."
      ]
    },
    {
      "cell_type": "markdown",
      "metadata": {
        "id": "4ZoLmGbDaPVF"
      },
      "source": [
        "#### 2.7.2. Bytearray"
      ]
    },
    {
      "cell_type": "markdown",
      "metadata": {
        "id": "GSzWgym0s0RC"
      },
      "source": [
        "The `bytearray`s are the same as `bytes` except that they are mutable."
      ]
    },
    {
      "cell_type": "code",
      "execution_count": 151,
      "metadata": {
        "colab": {
          "base_uri": "https://localhost:8080/"
        },
        "id": "2_edjY5OtCNM",
        "outputId": "dde9f3f9-2f45-4bb4-b86d-dea3d0e9f5be"
      },
      "outputs": [
        {
          "data": {
            "text/plain": [
              "bytearray(b'MaximoFN')"
            ]
          },
          "execution_count": 151,
          "metadata": {},
          "output_type": "execute_result"
        }
      ],
      "source": [
        "byte_array = bytearray(b'MaximoFN')\n",
        "byte_array"
      ]
    },
    {
      "cell_type": "markdown",
      "metadata": {
        "id": "-Ypi8660aST-"
      },
      "source": [
        "#### 2.7.3. MemoryView"
      ]
    },
    {
      "cell_type": "markdown",
      "metadata": {
        "id": "XEjNAeSqv0U2"
      },
      "source": [
        "The `memoryview` objects allow Python code to access the internal data of an object that supports the buffer protocol without making copies.",
        "\n",
        "The `memoryview()` function allows direct read and write access to the byte-oriented data of an object without the need to copy it first. This can result in significant performance gains when working with large objects, as it does not create a copy when slicing.",
        "\n",
        "buffer protocol, it can create another access object to modify large data without copying it. This makes the program use less memory and increase execution speed."
      ]
    },
    {
      "cell_type": "code",
      "execution_count": 152,
      "metadata": {
        "colab": {
          "base_uri": "https://localhost:8080/"
        },
        "id": "yr8pc6-2WNdO",
        "outputId": "4e06c6b6-2f03-4238-911b-8ef4a01a2f3c"
      },
      "outputs": [
        {
          "name": "stdout",
          "output_type": "stream",
          "text": [
            "Antes de acceder a la memoria: bytearray(b'XYZ')\n",
            "Despu\u00e9s de acceder a la memoria: bytearray(b'XYJ')\n"
          ]
        }
      ],
      "source": [
        "byte_array = bytearray('XYZ', 'utf-8')\n",
        "print(f'Antes de acceder a la memoria: {byte_array}')\n",
        "\n",
        "mem_view = memoryview(byte_array)\n",
        "\n",
        "mem_view[2]= 74\n",
        "print(f'Despu\u00e9s de acceder a la memoria: {byte_array}')"
      ]
    },
    {
      "cell_type": "markdown",
      "metadata": {
        "id": "MqIT1jh3rCkh"
      },
      "source": [
        "## 3. Operators"
      ]
    },
    {
      "cell_type": "markdown",
      "metadata": {
        "id": "q_edgveKrRao"
      },
      "source": [
        "### 3.1. Arithmetic Operators"
      ]
    },
    {
      "cell_type": "markdown",
      "metadata": {
        "id": "32jbjk3qsqO4"
      },
      "source": [
        "Operator sum `+`"
      ]
    },
    {
      "cell_type": "code",
      "execution_count": 153,
      "metadata": {
        "colab": {
          "base_uri": "https://localhost:8080/"
        },
        "id": "Lh2wv7aQrAUT",
        "outputId": "708f589e-0bb2-475d-90cd-f3290938995a"
      },
      "outputs": [
        {
          "data": {
            "text/plain": [
              "8"
            ]
          },
          "execution_count": 153,
          "metadata": {},
          "output_type": "execute_result"
        }
      ],
      "source": [
        "3 + 5"
      ]
    },
    {
      "cell_type": "markdown",
      "metadata": {
        "id": "OOk15PWJswRo"
      },
      "source": [
        "Operator minus -"
      ]
    },
    {
      "cell_type": "code",
      "execution_count": 154,
      "metadata": {
        "colab": {
          "base_uri": "https://localhost:8080/"
        },
        "id": "7BEVydS8syKU",
        "outputId": "853b1cc1-765a-44b2-824c-dcd5cf7b1dab"
      },
      "outputs": [
        {
          "data": {
            "text/plain": [
              "-2"
            ]
          },
          "execution_count": 154,
          "metadata": {},
          "output_type": "execute_result"
        }
      ],
      "source": [
        "3 - 5"
      ]
    },
    {
      "cell_type": "markdown",
      "metadata": {
        "id": "8tRCgcJdszz7"
      },
      "source": [
        "Multiplication operator `*`"
      ]
    },
    {
      "cell_type": "code",
      "execution_count": 155,
      "metadata": {
        "colab": {
          "base_uri": "https://localhost:8080/"
        },
        "id": "PH74tGZus4E8",
        "outputId": "39d635f2-06d7-4c91-9847-4e477068248a"
      },
      "outputs": [
        {
          "data": {
            "text/plain": [
              "15"
            ]
          },
          "execution_count": 155,
          "metadata": {},
          "output_type": "execute_result"
        }
      ],
      "source": [
        "3 * 5"
      ]
    },
    {
      "cell_type": "markdown",
      "metadata": {
        "id": "P-MY-k_Gs5XA"
      },
      "source": [
        "Division operator `/`"
      ]
    },
    {
      "cell_type": "code",
      "execution_count": 156,
      "metadata": {
        "colab": {
          "base_uri": "https://localhost:8080/"
        },
        "id": "4azKrfHms7Pi",
        "outputId": "830e29a3-8491-4be8-e37e-ccb5d1ce389a"
      },
      "outputs": [
        {
          "data": {
            "text/plain": [
              "0.6"
            ]
          },
          "execution_count": 156,
          "metadata": {},
          "output_type": "execute_result"
        }
      ],
      "source": [
        "3 / 5"
      ]
    },
    {
      "cell_type": "markdown",
      "metadata": {
        "id": "ZT0UEm55s8XV"
      },
      "source": [
        "Modulo operator `%`. Returns the remainder of a division."
      ]
    },
    {
      "cell_type": "code",
      "execution_count": 157,
      "metadata": {
        "colab": {
          "base_uri": "https://localhost:8080/"
        },
        "id": "PTADqQTytGF2",
        "outputId": "f8ef508f-62d3-4a97-a021-3aa63f6d4af2"
      },
      "outputs": [
        {
          "data": {
            "text/plain": [
              "1"
            ]
          },
          "execution_count": 157,
          "metadata": {},
          "output_type": "execute_result"
        }
      ],
      "source": [
        "25 % 2"
      ]
    },
    {
      "cell_type": "markdown",
      "metadata": {
        "id": "2hJnK9JQtbOL"
      },
      "source": [
        "Exponent operator `**`"
      ]
    },
    {
      "cell_type": "code",
      "execution_count": 158,
      "metadata": {
        "colab": {
          "base_uri": "https://localhost:8080/"
        },
        "id": "_2VCd8IWtVAa",
        "outputId": "1c234914-c581-42e3-d8d1-a00130db4fd1"
      },
      "outputs": [
        {
          "data": {
            "text/plain": [
              "25"
            ]
          },
          "execution_count": 158,
          "metadata": {},
          "output_type": "execute_result"
        }
      ],
      "source": [
        "5 ** 2"
      ]
    },
    {
      "cell_type": "markdown",
      "metadata": {
        "id": "KdfWFSgntgV8"
      },
      "source": [
        "Integer division operator `//`"
      ]
    },
    {
      "cell_type": "code",
      "execution_count": 159,
      "metadata": {
        "colab": {
          "base_uri": "https://localhost:8080/"
        },
        "id": "hfVRm9rAtZX9",
        "outputId": "ec7643d8-b81c-42bc-b581-5a85f78f3d86"
      },
      "outputs": [
        {
          "data": {
            "text/plain": [
              "12"
            ]
          },
          "execution_count": 159,
          "metadata": {},
          "output_type": "execute_result"
        }
      ],
      "source": [
        "25 // 2"
      ]
    },
    {
      "cell_type": "markdown",
      "metadata": {
        "id": "Tr9OttU3t86K"
      },
      "source": [
        "### 3.2. Comparison Operators"
      ]
    },
    {
      "cell_type": "markdown",
      "metadata": {
        "id": "TJseZwsKxV1P"
      },
      "source": [
        "Operator is equal `==`"
      ]
    },
    {
      "cell_type": "code",
      "execution_count": 160,
      "metadata": {
        "colab": {
          "base_uri": "https://localhost:8080/"
        },
        "id": "W3L7NhJwxnFJ",
        "outputId": "b9da42e2-d108-460a-9f22-0075f7faa041"
      },
      "outputs": [
        {
          "data": {
            "text/plain": [
              "True"
            ]
          },
          "execution_count": 160,
          "metadata": {},
          "output_type": "execute_result"
        }
      ],
      "source": [
        "1 == 1"
      ]
    },
    {
      "cell_type": "markdown",
      "metadata": {
        "id": "jsEs0b7xxY9u"
      },
      "source": [
        "Operator is different `!=`"
      ]
    },
    {
      "cell_type": "code",
      "execution_count": 161,
      "metadata": {
        "colab": {
          "base_uri": "https://localhost:8080/"
        },
        "id": "_dDNqXs4xo4e",
        "outputId": "46ae46ac-f7d5-4be6-aba2-c231c65b756c"
      },
      "outputs": [
        {
          "data": {
            "text/plain": [
              "True"
            ]
          },
          "execution_count": 161,
          "metadata": {},
          "output_type": "execute_result"
        }
      ],
      "source": [
        "1 != 2"
      ]
    },
    {
      "cell_type": "markdown",
      "metadata": {
        "id": "BrnU8TRSxbcX"
      },
      "source": [
        "Operator is greater than `>`"
      ]
    },
    {
      "cell_type": "code",
      "execution_count": 162,
      "metadata": {
        "colab": {
          "base_uri": "https://localhost:8080/"
        },
        "id": "8gTAl8pIxqoh",
        "outputId": "0a46204d-8c8c-407c-ba44-a34e22915510"
      },
      "outputs": [
        {
          "data": {
            "text/plain": [
              "True"
            ]
          },
          "execution_count": 162,
          "metadata": {},
          "output_type": "execute_result"
        }
      ],
      "source": [
        "3 > 2"
      ]
    },
    {
      "cell_type": "markdown",
      "metadata": {
        "id": "7ESopsXHxeHC"
      },
      "source": [
        "Operator is less than `<`"
      ]
    },
    {
      "cell_type": "code",
      "execution_count": 163,
      "metadata": {
        "colab": {
          "base_uri": "https://localhost:8080/"
        },
        "id": "5ehDwFuuxsMT",
        "outputId": "3cd11748-e7db-4f17-bda4-12549b7bac9f"
      },
      "outputs": [
        {
          "data": {
            "text/plain": [
              "True"
            ]
          },
          "execution_count": 163,
          "metadata": {},
          "output_type": "execute_result"
        }
      ],
      "source": [
        "2 < 3"
      ]
    },
    {
      "cell_type": "markdown",
      "metadata": {
        "id": "rqVRFgVdxgCQ"
      },
      "source": [
        "Operator is greater than or equal to `>=`"
      ]
    },
    {
      "cell_type": "code",
      "execution_count": 164,
      "metadata": {
        "colab": {
          "base_uri": "https://localhost:8080/"
        },
        "id": "u2ggu-DaxttS",
        "outputId": "bc937d86-84f3-4ab4-d1d0-500930b2b3f4"
      },
      "outputs": [
        {
          "data": {
            "text/plain": [
              "True"
            ]
          },
          "execution_count": 164,
          "metadata": {},
          "output_type": "execute_result"
        }
      ],
      "source": [
        "3 >= 3"
      ]
    },
    {
      "cell_type": "markdown",
      "metadata": {
        "id": "KRzXWVsBxitV"
      },
      "source": [
        "Operator is less than or equal to `<=`"
      ]
    },
    {
      "cell_type": "code",
      "execution_count": 165,
      "metadata": {
        "colab": {
          "base_uri": "https://localhost:8080/"
        },
        "id": "Dm54xKJTxvoX",
        "outputId": "65d96a49-475c-402d-a0d0-6e3ceca99441"
      },
      "outputs": [
        {
          "data": {
            "text/plain": [
              "True"
            ]
          },
          "execution_count": 165,
          "metadata": {},
          "output_type": "execute_result"
        }
      ],
      "source": [
        "3 <= 3"
      ]
    },
    {
      "cell_type": "markdown",
      "metadata": {
        "id": "89HReqhquAWK"
      },
      "source": [
        "### 3.3. Logical Operators"
      ]
    },
    {
      "cell_type": "markdown",
      "metadata": {
        "id": "7TKizwzox18T"
      },
      "source": [
        "Operator `and`"
      ]
    },
    {
      "cell_type": "code",
      "execution_count": 166,
      "metadata": {
        "colab": {
          "base_uri": "https://localhost:8080/"
        },
        "id": "HSpIvV9Mx96Z",
        "outputId": "b981cda0-2dbb-4ea5-95d2-ca48eb094064"
      },
      "outputs": [
        {
          "data": {
            "text/plain": [
              "True"
            ]
          },
          "execution_count": 166,
          "metadata": {},
          "output_type": "execute_result"
        }
      ],
      "source": [
        "True and True"
      ]
    },
    {
      "cell_type": "markdown",
      "metadata": {
        "id": "wSqCNRqIx4Bv"
      },
      "source": [
        "Operator `or`"
      ]
    },
    {
      "cell_type": "code",
      "execution_count": 167,
      "metadata": {
        "colab": {
          "base_uri": "https://localhost:8080/"
        },
        "id": "xupikh-UyD-P",
        "outputId": "b682bb37-a7f0-4d2f-d129-4a2acac51eff"
      },
      "outputs": [
        {
          "data": {
            "text/plain": [
              "True"
            ]
          },
          "execution_count": 167,
          "metadata": {},
          "output_type": "execute_result"
        }
      ],
      "source": [
        "True or False"
      ]
    },
    {
      "cell_type": "markdown",
      "metadata": {
        "id": "QUWQb9tix6Ce"
      },
      "source": [
        "Operator `not`"
      ]
    },
    {
      "cell_type": "code",
      "execution_count": 168,
      "metadata": {
        "colab": {
          "base_uri": "https://localhost:8080/"
        },
        "id": "ODrOHFudxy_d",
        "outputId": "dda5acca-837a-4841-ba9c-613d10671a7b"
      },
      "outputs": [
        {
          "data": {
            "text/plain": [
              "True"
            ]
          },
          "execution_count": 168,
          "metadata": {},
          "output_type": "execute_result"
        }
      ],
      "source": [
        "not False"
      ]
    },
    {
      "cell_type": "markdown",
      "metadata": {
        "id": "ThyfQI50uDnE"
      },
      "source": [
        "### 3.4. Identity Operators"
      ]
    },
    {
      "cell_type": "markdown",
      "metadata": {
        "id": "MU0MwA3AyJY5"
      },
      "source": [
        "Operator `is`"
      ]
    },
    {
      "cell_type": "code",
      "execution_count": 169,
      "metadata": {
        "colab": {
          "base_uri": "https://localhost:8080/"
        },
        "id": "-ka0S7I1yNlh",
        "outputId": "42c74e75-f88f-40a6-bf17-b63ae0db7c96"
      },
      "outputs": [
        {
          "data": {
            "text/plain": [
              "True"
            ]
          },
          "execution_count": 169,
          "metadata": {},
          "output_type": "execute_result"
        }
      ],
      "source": [
        "5.3 is 5.3"
      ]
    },
    {
      "cell_type": "markdown",
      "metadata": {
        "id": "LcCurV5NyK3q"
      },
      "source": [
        "Operator `is not`"
      ]
    },
    {
      "cell_type": "code",
      "execution_count": 170,
      "metadata": {
        "colab": {
          "base_uri": "https://localhost:8080/"
        },
        "id": "0cC6EIiUyd3a",
        "outputId": "6c6e4dda-cc03-4de4-b512-e416aa23c4e9"
      },
      "outputs": [
        {
          "data": {
            "text/plain": [
              "True"
            ]
          },
          "execution_count": 170,
          "metadata": {},
          "output_type": "execute_result"
        }
      ],
      "source": [
        "5.3 is not 5"
      ]
    },
    {
      "cell_type": "markdown",
      "metadata": {
        "id": "oLNcVJqEuHXk"
      },
      "source": [
        "### 3.5. Membership Operators"
      ]
    },
    {
      "cell_type": "markdown",
      "metadata": {
        "id": "fKt0uBgMylP2"
      },
      "source": [
        "Operator `in`"
      ]
    },
    {
      "cell_type": "code",
      "execution_count": 171,
      "metadata": {
        "colab": {
          "base_uri": "https://localhost:8080/"
        },
        "id": "RshpaBvryqqJ",
        "outputId": "6061d943-b814-4be7-9129-a1972e1466cd"
      },
      "outputs": [
        {
          "data": {
            "text/plain": [
              "True"
            ]
          },
          "execution_count": 171,
          "metadata": {},
          "output_type": "execute_result"
        }
      ],
      "source": [
        "x = [\"apple\", \"banana\"]\n",
        "\n",
        "\"banana\" in x"
      ]
    },
    {
      "cell_type": "markdown",
      "metadata": {
        "id": "BULVssyHynUU"
      },
      "source": [
        "Operator `not in`"
      ]
    },
    {
      "cell_type": "code",
      "execution_count": 172,
      "metadata": {
        "colab": {
          "base_uri": "https://localhost:8080/"
        },
        "id": "_VIZymwxywwV",
        "outputId": "556633db-944c-4e25-df53-6b951f3bb797"
      },
      "outputs": [
        {
          "data": {
            "text/plain": [
              "True"
            ]
          },
          "execution_count": 172,
          "metadata": {},
          "output_type": "execute_result"
        }
      ],
      "source": [
        "x = [\"apple\", \"banana\"]\n",
        "\n",
        "\"orange\" not in x"
      ]
    },
    {
      "cell_type": "markdown",
      "metadata": {
        "id": "kRYEIRWquK5d"
      },
      "source": [
        "### 3.6. Bitwise Operators"
      ]
    },
    {
      "cell_type": "markdown",
      "metadata": {
        "id": "EFiz7ZKfy2YT"
      },
      "source": [
        "Operator AND `&`"
      ]
    },
    {
      "cell_type": "code",
      "execution_count": 173,
      "metadata": {
        "colab": {
          "base_uri": "https://localhost:8080/"
        },
        "id": "6bCMRTYBzLcY",
        "outputId": "0cf98b66-f41c-4c48-850c-def8baebbdb5"
      },
      "outputs": [
        {
          "data": {
            "text/plain": [
              "12"
            ]
          },
          "execution_count": 173,
          "metadata": {},
          "output_type": "execute_result"
        }
      ],
      "source": [
        "a = 60            # 60 = 0011 1100 \n",
        "b = 13            # 13 = 0000 1101 \n",
        "\n",
        "c = a & b;        # 12 = 0000 1100\n",
        "c"
      ]
    },
    {
      "cell_type": "markdown",
      "metadata": {
        "id": "kI3vvywOy4kH"
      },
      "source": [
        "Operator OR `|`"
      ]
    },
    {
      "cell_type": "code",
      "execution_count": 174,
      "metadata": {
        "colab": {
          "base_uri": "https://localhost:8080/"
        },
        "id": "qXcqP6mjzsZA",
        "outputId": "ffec3d6d-8a35-46ca-dad7-3e636ece037f"
      },
      "outputs": [
        {
          "data": {
            "text/plain": [
              "61"
            ]
          },
          "execution_count": 174,
          "metadata": {},
          "output_type": "execute_result"
        }
      ],
      "source": [
        "a = 60            # 60 = 0011 1100 \n",
        "b = 13            # 13 = 0000 1101 \n",
        "\n",
        "c = a | b;        # 61 = 0011 1101\n",
        "c"
      ]
    },
    {
      "cell_type": "markdown",
      "metadata": {
        "id": "iZzLkRrky6rI"
      },
      "source": [
        "XOR operator `^`"
      ]
    },
    {
      "cell_type": "code",
      "execution_count": 175,
      "metadata": {
        "colab": {
          "base_uri": "https://localhost:8080/"
        },
        "id": "4szncxddzvUr",
        "outputId": "b987e718-c507-41ee-8df0-57a7b0d68f87"
      },
      "outputs": [
        {
          "data": {
            "text/plain": [
              "49"
            ]
          },
          "execution_count": 175,
          "metadata": {},
          "output_type": "execute_result"
        }
      ],
      "source": [
        "a = 60            # 60 = 0011 1100 \n",
        "b = 13            # 13 = 0000 1101 \n",
        "\n",
        "c = a ^ b;        # 49 = 0011 0001\n",
        "c"
      ]
    },
    {
      "cell_type": "markdown",
      "metadata": {
        "id": "i43n4Rzsy-ft"
      },
      "source": [
        "Operator NOT `~`"
      ]
    },
    {
      "cell_type": "code",
      "execution_count": 176,
      "metadata": {
        "colab": {
          "base_uri": "https://localhost:8080/"
        },
        "id": "zcZYXPagzur4",
        "outputId": "b3e984ca-efd1-4a47-89d9-21a7f69ad8e3"
      },
      "outputs": [
        {
          "data": {
            "text/plain": [
              "-61"
            ]
          },
          "execution_count": 176,
          "metadata": {},
          "output_type": "execute_result"
        }
      ],
      "source": [
        "a = 60            # 60 = 0011 1100 \n",
        "\n",
        "c = ~a;           # -61 = 1100 0011\n",
        "c"
      ]
    },
    {
      "cell_type": "markdown",
      "metadata": {
        "id": "jktO-L9kzA6y"
      },
      "source": [
        "Left shift operator `<<`"
      ]
    },
    {
      "cell_type": "code",
      "execution_count": 177,
      "metadata": {
        "colab": {
          "base_uri": "https://localhost:8080/"
        },
        "id": "DsBR5isfzuDr",
        "outputId": "6df6f5eb-c3bf-4321-c261-8b0ab018d3de"
      },
      "outputs": [
        {
          "data": {
            "text/plain": [
              "240"
            ]
          },
          "execution_count": 177,
          "metadata": {},
          "output_type": "execute_result"
        }
      ],
      "source": [
        "a = 60            # 60 = 0011 1100 \n",
        "\n",
        "c = a << 2;       # 240 = 1111 0000\n",
        "c"
      ]
    },
    {
      "cell_type": "markdown",
      "metadata": {
        "id": "nII23s0bzHsM"
      },
      "source": [
        "Right shift operator `>>`"
      ]
    },
    {
      "cell_type": "code",
      "execution_count": 178,
      "metadata": {
        "colab": {
          "base_uri": "https://localhost:8080/"
        },
        "id": "XuY-4lUWztaU",
        "outputId": "369526d8-50f0-46c9-e670-6add247678c5"
      },
      "outputs": [
        {
          "data": {
            "text/plain": [
              "15"
            ]
          },
          "execution_count": 178,
          "metadata": {},
          "output_type": "execute_result"
        }
      ],
      "source": [
        "a = 60            # 60 = 0011 1100 \n",
        "\n",
        "c = a >> 2;       # 15 = 0000 1111\n",
        "c"
      ]
    },
    {
      "cell_type": "markdown",
      "metadata": {
        "id": "tbchfMJFt3JO"
      },
      "source": [
        "### 3.7. Assignment Operators"
      ]
    },
    {
      "cell_type": "markdown",
      "metadata": {
        "id": "0YBqstYPuZw5"
      },
      "source": [
        "Operator `="
      ]
    },
    {
      "cell_type": "code",
      "execution_count": 179,
      "metadata": {
        "colab": {
          "base_uri": "https://localhost:8080/"
        },
        "id": "zbpGo3A9ue-H",
        "outputId": "d3f435ce-fd1e-420b-f707-5a36069e53e4"
      },
      "outputs": [
        {
          "data": {
            "text/plain": [
              "5"
            ]
          },
          "execution_count": 179,
          "metadata": {},
          "output_type": "execute_result"
        }
      ],
      "source": [
        "a = 5\n",
        "a"
      ]
    },
    {
      "cell_type": "markdown",
      "metadata": {
        "id": "nbAAEkGkugjw"
      },
      "source": [
        "Operator `+=`. `x += y` is equivalent to `x = x + y`"
      ]
    },
    {
      "cell_type": "code",
      "execution_count": 180,
      "metadata": {
        "colab": {
          "base_uri": "https://localhost:8080/"
        },
        "id": "SupBJeJWumGp",
        "outputId": "ccbf94a5-2ae9-44e4-d2de-c7f326ea91bb"
      },
      "outputs": [
        {
          "data": {
            "text/plain": [
              "10"
            ]
          },
          "execution_count": 180,
          "metadata": {},
          "output_type": "execute_result"
        }
      ],
      "source": [
        "a += 5\n",
        "a"
      ]
    },
    {
      "cell_type": "markdown",
      "metadata": {
        "id": "S7HpkWqQuifz"
      },
      "source": [
        "Operator `-=`. `x -= y` is equivalentTo`x = x - y`"
      ]
    },
    {
      "cell_type": "code",
      "execution_count": 181,
      "metadata": {
        "colab": {
          "base_uri": "https://localhost:8080/"
        },
        "id": "GYJvDYvxvef6",
        "outputId": "7b63f274-f353-41ff-aadb-8cb3b77ce941"
      },
      "outputs": [
        {
          "data": {
            "text/plain": [
              "5"
            ]
          },
          "execution_count": 181,
          "metadata": {},
          "output_type": "execute_result"
        }
      ],
      "source": [
        "a -= 5\n",
        "a"
      ]
    },
    {
      "cell_type": "markdown",
      "metadata": {
        "id": "4heIrWGSu6r4"
      },
      "source": [
        "Operator `*=`. `x *= y` is equivalent to `x = x * y`"
      ]
    },
    {
      "cell_type": "code",
      "execution_count": 182,
      "metadata": {
        "colab": {
          "base_uri": "https://localhost:8080/"
        },
        "id": "Y--p1iJavhgt",
        "outputId": "8e71dc7b-1b68-4af1-e17b-e08350a0688b"
      },
      "outputs": [
        {
          "data": {
            "text/plain": [
              "15"
            ]
          },
          "execution_count": 182,
          "metadata": {},
          "output_type": "execute_result"
        }
      ],
      "source": [
        "a *= 3\n",
        "a"
      ]
    },
    {
      "cell_type": "markdown",
      "metadata": {
        "id": "z59mp5bxu-SM"
      },
      "source": [
        "Operator `/=`. `x /= y` is equivalentTo`x = x / y`"
      ]
    },
    {
      "cell_type": "code",
      "execution_count": 183,
      "metadata": {
        "colab": {
          "base_uri": "https://localhost:8080/"
        },
        "id": "J2Qv78XMvlpf",
        "outputId": "24da7d86-be15-4690-cfd7-aeea3de4ea26"
      },
      "outputs": [
        {
          "data": {
            "text/plain": [
              "5.0"
            ]
          },
          "execution_count": 183,
          "metadata": {},
          "output_type": "execute_result"
        }
      ],
      "source": [
        "a /= 3\n",
        "a"
      ]
    },
    {
      "cell_type": "markdown",
      "metadata": {
        "id": "KPfdWix7vB3A"
      },
      "source": [
        "Operator `%=`. `x %= y` is equivalentTo`x = x % y`"
      ]
    },
    {
      "cell_type": "code",
      "execution_count": 184,
      "metadata": {
        "colab": {
          "base_uri": "https://localhost:8080/"
        },
        "id": "JNeUrUpuvngI",
        "outputId": "4aae4955-fbf7-47c0-d774-0cd6e8810dc6"
      },
      "outputs": [
        {
          "data": {
            "text/plain": [
              "1"
            ]
          },
          "execution_count": 184,
          "metadata": {},
          "output_type": "execute_result"
        }
      ],
      "source": [
        "a = 25\n",
        "a %= 2\n",
        "a"
      ]
    },
    {
      "cell_type": "markdown",
      "metadata": {
        "id": "VzPKQ8SyvFJg"
      },
      "source": [
        "Operator `//=`. `x //= y` is equivalent to `x = x // y`"
      ]
    },
    {
      "cell_type": "code",
      "execution_count": 185,
      "metadata": {
        "colab": {
          "base_uri": "https://localhost:8080/"
        },
        "id": "OX92ZSS8wDo2",
        "outputId": "c1d46225-184f-474f-ad8e-d9b4bd1f857a"
      },
      "outputs": [
        {
          "data": {
            "text/plain": [
              "12"
            ]
          },
          "execution_count": 185,
          "metadata": {},
          "output_type": "execute_result"
        }
      ],
      "source": [
        "a = 25\n",
        "a //= 2\n",
        "a"
      ]
    },
    {
      "cell_type": "markdown",
      "metadata": {
        "id": "Pj9RCY-fvIId"
      },
      "source": [
        "Operator `**=`. `x **=y` is equivalent to `x = x ** y`"
      ]
    },
    {
      "cell_type": "code",
      "execution_count": 186,
      "metadata": {
        "colab": {
          "base_uri": "https://localhost:8080/"
        },
        "id": "7Zz5e_fCw1DB",
        "outputId": "d9978386-e87f-4989-c44d-7a508bb083a2"
      },
      "outputs": [
        {
          "data": {
            "text/plain": [
              "25"
            ]
          },
          "execution_count": 186,
          "metadata": {},
          "output_type": "execute_result"
        }
      ],
      "source": [
        "a = 5\n",
        "a **= 2\n",
        "a"
      ]
    },
    {
      "cell_type": "markdown",
      "metadata": {
        "id": "d0GRAhc7vLW_"
      },
      "source": [
        "Operator `&=`. `x &= y` is equivalent to `x = x & y`"
      ]
    },
    {
      "cell_type": "code",
      "execution_count": 187,
      "metadata": {
        "colab": {
          "base_uri": "https://localhost:8080/"
        },
        "id": "q9GQwVsK0RLo",
        "outputId": "fe78c743-04ad-4ef9-aaa8-d530b1c8f0a6"
      },
      "outputs": [
        {
          "data": {
            "text/plain": [
              "12"
            ]
          },
          "execution_count": 187,
          "metadata": {},
          "output_type": "execute_result"
        }
      ],
      "source": [
        "a = 60            # 60 = 0011 1100 \n",
        "b = 13            # 13 = 0000 1101 \n",
        "\n",
        "a &= b;           # 12 = 0000 1100\n",
        "a"
      ]
    },
    {
      "cell_type": "markdown",
      "metadata": {
        "id": "LkNCMsnNvO67"
      },
      "source": [
        "Operator `|=`. `x |= y` is equivalent to `x = x | y`"
      ]
    },
    {
      "cell_type": "code",
      "execution_count": 188,
      "metadata": {
        "colab": {
          "base_uri": "https://localhost:8080/"
        },
        "id": "nK-Xuh0z0QnL",
        "outputId": "ef40d032-7897-4274-a828-a01ce5cf04b2"
      },
      "outputs": [
        {
          "data": {
            "text/plain": [
              "61"
            ]
          },
          "execution_count": 188,
          "metadata": {},
          "output_type": "execute_result"
        }
      ],
      "source": [
        "a = 60            # 60 = 0011 1100 \n",
        "b = 13            # 13 = 0000 1101 \n",
        "\n",
        "a |= b;           # 61 = 0011 1101\n",
        "a"
      ]
    },
    {
      "cell_type": "markdown",
      "metadata": {
        "id": "pTSdD1bzvSwg"
      },
      "source": [
        "Operator `^=`. `x ^= y` is equivalent to `x = x ^ y`."
      ]
    },
    {
      "cell_type": "code",
      "execution_count": 189,
      "metadata": {
        "colab": {
          "base_uri": "https://localhost:8080/"
        },
        "id": "oI_xsjuK0P9m",
        "outputId": "c0be8224-bc0e-49cd-b817-1610a6746df9"
      },
      "outputs": [
        {
          "data": {
            "text/plain": [
              "49"
            ]
          },
          "execution_count": 189,
          "metadata": {},
          "output_type": "execute_result"
        }
      ],
      "source": [
        "a = 60            # 60 = 0011 1100 \n",
        "b = 13            # 13 = 0000 1101 \n",
        "\n",
        "a ^= b;           # 49 = 0011 0001\n",
        "a"
      ]
    },
    {
      "cell_type": "markdown",
      "metadata": {
        "id": "ipj1qJJvvWK8"
      },
      "source": [
        "Operator `>>=`. `x >>= y` is equivalent to `x = x >> y`."
      ]
    },
    {
      "cell_type": "code",
      "execution_count": 190,
      "metadata": {
        "colab": {
          "base_uri": "https://localhost:8080/"
        },
        "id": "53-spEhO0Onq",
        "outputId": "efa64af1-b6c7-49dc-b50a-02e3192dc4c0"
      },
      "outputs": [
        {
          "data": {
            "text/plain": [
              "240"
            ]
          },
          "execution_count": 190,
          "metadata": {},
          "output_type": "execute_result"
        }
      ],
      "source": [
        "a = 60            # 60 = 0011 1100 \n",
        "\n",
        "a <<= 2;          # 240 = 1111 0000\n",
        "a"
      ]
    },
    {
      "cell_type": "markdown",
      "metadata": {
        "id": "wECGrhZGvZ0B"
      },
      "source": [
        "Operator `<<=`. `x <<= y` is equivalent to `x = x << y`"
      ]
    },
    {
      "cell_type": "code",
      "execution_count": 191,
      "metadata": {
        "colab": {
          "base_uri": "https://localhost:8080/"
        },
        "id": "L9S5biOt0OCF",
        "outputId": "dd88839a-b9a8-46ab-a626-99d9a5eafb3f"
      },
      "outputs": [
        {
          "data": {
            "text/plain": [
              "15"
            ]
          },
          "execution_count": 191,
          "metadata": {},
          "output_type": "execute_result"
        }
      ],
      "source": [
        "a = 60            # 60 = 0011 1100 \n",
        "\n",
        "a >>= 2;          # 15 = 0000 1111\n",
        "a"
      ]
    },
    {
      "cell_type": "markdown",
      "metadata": {
        "id": "QOH-RrDjZuEr"
      },
      "source": [
        "## 4. Flow Control"
      ]
    },
    {
      "cell_type": "markdown",
      "metadata": {
        "id": "EDzHsH7-Z90h"
      },
      "source": [
        "To be able to use the flow control tools, it is necessary to add a colon `:` and on a new line write the code with indentation.",
        "\n",
        "Unlike other languages, Python requires indentation (white space at the beginning of a line) to define the code inside a control structure."
      ]
    },
    {
      "cell_type": "markdown",
      "metadata": {
        "id": "QTOb_c5aZwmk"
      },
      "source": [
        "### 4.1. If"
      ]
    },
    {
      "cell_type": "markdown",
      "metadata": {
        "id": "qalWwH9Pa4qk"
      },
      "source": [
        "With `if` we can create conditionals"
      ]
    },
    {
      "cell_type": "code",
      "execution_count": 2,
      "metadata": {
        "colab": {
          "base_uri": "https://localhost:8080/"
        },
        "id": "PqhUf6WnaVmf",
        "outputId": "493e92f1-6862-4014-9568-fb79cfdc6c62"
      },
      "outputs": [
        {
          "name": "stdout",
          "output_type": "stream",
          "text": [
            "MaximoFN tiene 8 caracteres\n"
          ]
        }
      ],
      "source": [
        "if len('MaximoFN') == 8:\n",
        "  print('MaximoFN tiene 8 caracteres')"
      ]
    },
    {
      "cell_type": "markdown",
      "metadata": {
        "id": "vTRpeT4sa_ec"
      },
      "source": [
        "If we want to createMoreThanOneConditionWeCanUse`elif`"
      ]
    },
    {
      "cell_type": "code",
      "execution_count": 3,
      "metadata": {
        "colab": {
          "base_uri": "https://localhost:8080/"
        },
        "id": "ZnfmkpFBbEjx",
        "outputId": "606566c9-7e83-4c03-bdae-a96ba6bd4bed"
      },
      "outputs": [
        {
          "name": "stdout",
          "output_type": "stream",
          "text": [
            "MaximoFN tiene 8 caracteres\n"
          ]
        }
      ],
      "source": [
        "if len('MaximoFN') < 8:\n",
        "  print('MaximoFN tiene menos de 8 caracteres')\n",
        "elif len('MaximoFN') == 8:\n",
        "  print('MaximoFN tiene 8 caracteres')"
      ]
    },
    {
      "cell_type": "markdown",
      "metadata": {
        "id": "veULXu-TbZdv"
      },
      "source": [
        "If what we want is to execute something in case ofNoConditionsMatch, we can use `else`"
      ]
    },
    {
      "cell_type": "code",
      "execution_count": 4,
      "metadata": {
        "colab": {
          "base_uri": "https://localhost:8080/"
        },
        "id": "SKQaoloibiDh",
        "outputId": "72e2103c-d3eb-4920-c7dc-8d6daeaf65a9"
      },
      "outputs": [
        {
          "name": "stdout",
          "output_type": "stream",
          "text": [
            "MaximoFN tiene 8 caracteres\n"
          ]
        }
      ],
      "source": [
        "if len('MaximoFN') < 8:\n",
        "  print('MaximoFN tiene menos de 8 caracteres')\n",
        "elif len('MaximoFN') > 8:\n",
        "  print('MaximoFN tiene m\u00e1s de 8 caracteres')\n",
        "else:\n",
        "  print('MaximoFN tiene 8 caracteres')"
      ]
    },
    {
      "cell_type": "markdown",
      "metadata": {
        "id": "OPjkQIyhbrGt"
      },
      "source": [
        "If we want to write everything in oneLine"
      ]
    },
    {
      "cell_type": "code",
      "execution_count": 5,
      "metadata": {
        "colab": {
          "base_uri": "https://localhost:8080/"
        },
        "id": "3T9-EVDRbtvW",
        "outputId": "8fd6c022-b2b3-4386-c630-68f6d5cd5f53"
      },
      "outputs": [
        {
          "name": "stdout",
          "output_type": "stream",
          "text": [
            "MaximoFN tiene 8 caracteres\n"
          ]
        }
      ],
      "source": [
        "if len('MaximoFN') == 8: print('MaximoFN tiene 8 caracteres')"
      ]
    },
    {
      "cell_type": "markdown",
      "metadata": {
        "id": "vMEhu5-ab4_y"
      },
      "source": [
        "Equal, if we want to write everything in one line, ButWithSeveral conditions"
      ]
    },
    {
      "cell_type": "code",
      "execution_count": 6,
      "metadata": {
        "colab": {
          "base_uri": "https://localhost:8080/"
        },
        "id": "1KMjzKK2b091",
        "outputId": "db4de765-b938-4749-b330-a93eebad870c"
      },
      "outputs": [
        {
          "name": "stdout",
          "output_type": "stream",
          "text": [
            "MaximoFN tiene 8 caracteres\n"
          ]
        }
      ],
      "source": [
        "print('MaximoFN tiene menos de 8 caracteres') if len('MaximoFN') < 8 else print('MaximoFN tiene m\u00e1s de 8 caracteres') if len('MaximoFN') > 8 else print('MaximoFN tiene 8 caracteres')"
      ]
    },
    {
      "cell_type": "markdown",
      "metadata": {
        "id": "l66bX7VrcWc2"
      },
      "source": [
        "If, for example, we want to create the structure of the `if` without specifying the conditions at the moment, we can use `pass`"
      ]
    },
    {
      "cell_type": "code",
      "execution_count": 7,
      "metadata": {
        "colab": {
          "base_uri": "https://localhost:8080/"
        },
        "id": "ZvqLk_k5chCC",
        "outputId": "82ead928-73ff-4c53-e457-e9dad27930d1"
      },
      "outputs": [
        {
          "name": "stdout",
          "output_type": "stream",
          "text": [
            "MaximoFN tiene 8 caracteres\n"
          ]
        }
      ],
      "source": [
        "if len('MaximoFN') < 8:\n",
        "  print('MaximoFN tiene menos de 8 caracteres')\n",
        "elif len('MaximoFN') > 8:\n",
        "  pass\n",
        "else:\n",
        "  print('MaximoFN tiene 8 caracteres')"
      ]
    },
    {
      "cell_type": "markdown",
      "metadata": {
        "id": "LLoPj-f7Z093"
      },
      "source": [
        "### 4.2. While"
      ]
    },
    {
      "cell_type": "markdown",
      "metadata": {
        "id": "JHdX0cK0ctyI"
      },
      "source": [
        "The `while` loop executes as long as the condition is `True`"
      ]
    },
    {
      "cell_type": "code",
      "execution_count": 8,
      "metadata": {
        "colab": {
          "base_uri": "https://localhost:8080/"
        },
        "id": "YWwukpwkcy4Q",
        "outputId": "1f02631f-31c7-4597-d533-694adc07ef86"
      },
      "outputs": [
        {
          "name": "stdout",
          "output_type": "stream",
          "text": [
            "MaximoFN"
          ]
        }
      ],
      "source": [
        "i = 0\n",
        "string = 'MaximoFN'\n",
        "while len(string) > i:\n",
        "  print(string[i], end='')\n",
        "  i += 1"
      ]
    },
    {
      "cell_type": "markdown",
      "metadata": {
        "id": "QbnR8uuDdK7s"
      },
      "source": [
        "If we want the loop to stop under some condition, we use `break`"
      ]
    },
    {
      "cell_type": "code",
      "execution_count": 9,
      "metadata": {
        "colab": {
          "base_uri": "https://localhost:8080/"
        },
        "id": "daXSXQG4dR97",
        "outputId": "c125ab51-a4a8-4428-93f4-b70827a4d84a"
      },
      "outputs": [
        {
          "name": "stdout",
          "output_type": "stream",
          "text": [
            "Maximo"
          ]
        }
      ],
      "source": [
        "i = 0\n",
        "string = 'MaximoFN'\n",
        "while len(string) > i:\n",
        "  if string[i] == 'F':\n",
        "    break\n",
        "  print(string[i], end='')\n",
        "  i += 1"
      ]
    },
    {
      "cell_type": "markdown",
      "metadata": {
        "id": "pb9bZ6umdZlr"
      },
      "source": [
        "If we want one of the iterations not to executeForSomeReason, we use `continue`"
      ]
    },
    {
      "cell_type": "code",
      "execution_count": 10,
      "metadata": {
        "colab": {
          "base_uri": "https://localhost:8080/"
        },
        "id": "KLHCVq1tdgyc",
        "outputId": "e13fc5b0-dbcb-45a8-8337-4d7a1e8fd4cf"
      },
      "outputs": [
        {
          "name": "stdout",
          "output_type": "stream",
          "text": [
            "MaximoFN"
          ]
        }
      ],
      "source": [
        "i = 0\n",
        "string = 'Maximo FN'\n",
        "while len(string) > i:\n",
        "  if string[i] == ' ':\n",
        "    i += 1\n",
        "    continue\n",
        "  print(string[i], end='')\n",
        "  i += 1"
      ]
    },
    {
      "cell_type": "markdown",
      "metadata": {
        "id": "48l85ovid1hp"
      },
      "source": [
        "The `else` block can be executed if the condition of the `while` loop is not `True`"
      ]
    },
    {
      "cell_type": "code",
      "execution_count": 11,
      "metadata": {
        "colab": {
          "base_uri": "https://localhost:8080/"
        },
        "id": "z8qEsPBtd-3l",
        "outputId": "55756351-4506-4764-a9fb-c2c803533d02"
      },
      "outputs": [
        {
          "name": "stdout",
          "output_type": "stream",
          "text": [
            "MaximoFN\n",
            "Se ha terminado el while\n"
          ]
        }
      ],
      "source": [
        "i = 0\n",
        "string = 'MaximoFN'\n",
        "\n",
        "while len(string) > i:\n",
        "  print(string[i], end='')\n",
        "  i += 1\n",
        "else:\n",
        "  print(\"\\nSe ha terminado el while\")"
      ]
    },
    {
      "cell_type": "markdown",
      "metadata": {
        "id": "0MFWhiEHZ223"
      },
      "source": [
        "### 4.3. For"
      ]
    },
    {
      "cell_type": "markdown",
      "metadata": {
        "id": "iAMEsYgZeW6_"
      },
      "source": [
        "The `for` loop is used to execute code while iterating over an iterable. This iterable can be any Python iterable (`string`, `list`, `tuple`, `range`, `dictionary`, `set`)."
      ]
    },
    {
      "cell_type": "code",
      "execution_count": 12,
      "metadata": {
        "colab": {
          "base_uri": "https://localhost:8080/"
        },
        "id": "mCNq1IjwfI0F",
        "outputId": "bab8c066-9051-4c50-cdbd-9934c701698b"
      },
      "outputs": [
        {
          "name": "stdout",
          "output_type": "stream",
          "text": [
            "MaximoFN"
          ]
        }
      ],
      "source": [
        "string = 'MaximoFN'\n",
        "\n",
        "for x in string:\n",
        "  print(x, end='')"
      ]
    },
    {
      "cell_type": "code",
      "execution_count": 13,
      "metadata": {
        "colab": {
          "base_uri": "https://localhost:8080/"
        },
        "id": "wyt2WUU_e4lf",
        "outputId": "de87801b-f8e5-421e-bd7e-0d5f0840b909"
      },
      "outputs": [
        {
          "name": "stdout",
          "output_type": "stream",
          "text": [
            "MaximoFN"
          ]
        }
      ],
      "source": [
        "lista = ['M', 'a', 'x', 'i', 'm', 'o', 'F', 'N']\n",
        "\n",
        "for x in lista:\n",
        "  print(x, end='')"
      ]
    },
    {
      "cell_type": "code",
      "execution_count": 14,
      "metadata": {
        "colab": {
          "base_uri": "https://localhost:8080/"
        },
        "id": "xbCc1sL9fRO0",
        "outputId": "0a468ad5-36eb-4dd3-fb6d-b3ea77504089"
      },
      "outputs": [
        {
          "name": "stdout",
          "output_type": "stream",
          "text": [
            "MaximoFN"
          ]
        }
      ],
      "source": [
        "tupla = ('M', 'a', 'x', 'i', 'm', 'o', 'F', 'N')\n",
        "\n",
        "for x in tupla:\n",
        "  print(x, end='')"
      ]
    },
    {
      "cell_type": "code",
      "execution_count": 15,
      "metadata": {
        "colab": {
          "base_uri": "https://localhost:8080/"
        },
        "id": "vX4CBt2KfYD3",
        "outputId": "6cc80670-5f86-498b-82ed-df4b7ea23be1"
      },
      "outputs": [
        {
          "name": "stdout",
          "output_type": "stream",
          "text": [
            "MaximoFN"
          ]
        }
      ],
      "source": [
        "string = 'MaximoFN'\n",
        "\n",
        "for i in range(len(string)):\n",
        "  print(string[i], end='')"
      ]
    },
    {
      "cell_type": "code",
      "execution_count": 16,
      "metadata": {
        "colab": {
          "base_uri": "https://localhost:8080/"
        },
        "id": "MCFdgRgBfi10",
        "outputId": "cabc25de-45ab-4e5a-de57-37b0d58d79e5"
      },
      "outputs": [
        {
          "name": "stdout",
          "output_type": "stream",
          "text": [
            "MaximoFN"
          ]
        }
      ],
      "source": [
        "diccionario = {\n",
        "  \"letra1\": \"M\",\n",
        "  \"letra2\": \"a\",\n",
        "  \"letra3\": \"x\",\n",
        "  \"letra4\": \"i\",\n",
        "  \"letra5\": \"m\",\n",
        "  \"letra6\": \"o\",\n",
        "  \"letra7\": \"F\",\n",
        "  \"letra8\": \"N\",\n",
        "}\n",
        "\n",
        "for x in diccionario.values():\n",
        "  print(x, end='')"
      ]
    },
    {
      "cell_type": "markdown",
      "metadata": {
        "id": "XAg9KX5vgaVA"
      },
      "source": [
        "Sets can also be iterated, but since they are unordered, there is no control over the order of execution."
      ]
    },
    {
      "cell_type": "code",
      "execution_count": 17,
      "metadata": {
        "colab": {
          "base_uri": "https://localhost:8080/"
        },
        "id": "gYyR7T37gOBv",
        "outputId": "04e726b8-93be-495f-e716-ca7bfa041377"
      },
      "outputs": [
        {
          "name": "stdout",
          "output_type": "stream",
          "text": [
            "NximoaMF"
          ]
        }
      ],
      "source": [
        "set_ = {'M', 'a', 'x', 'i', 'm', 'o', 'F', 'N'}\n",
        "\n",
        "for x in set_:\n",
        "  print(x, end='')"
      ]
    },
    {
      "cell_type": "markdown",
      "metadata": {
        "id": "tkHBu5pxgxRQ"
      },
      "source": [
        "If we want the loop to stop under some condition, we use `break`"
      ]
    },
    {
      "cell_type": "code",
      "execution_count": 18,
      "metadata": {
        "colab": {
          "base_uri": "https://localhost:8080/"
        },
        "id": "ktqx0m-_gxRd",
        "outputId": "c9c990f7-e6a9-4d01-8981-55ff0e372485"
      },
      "outputs": [
        {
          "name": "stdout",
          "output_type": "stream",
          "text": [
            "Maximo"
          ]
        }
      ],
      "source": [
        "string = 'MaximoFN'\n",
        "\n",
        "for x in string:\n",
        "  if x == 'F':\n",
        "    break\n",
        "  print(x, end='') "
      ]
    },
    {
      "cell_type": "markdown",
      "metadata": {
        "id": "FkM94omrgxRe"
      },
      "source": [
        "If we want one of the iterations not to executeForSomeReason, we use `continue`"
      ]
    },
    {
      "cell_type": "code",
      "execution_count": 19,
      "metadata": {
        "colab": {
          "base_uri": "https://localhost:8080/"
        },
        "id": "sdz0CUPygxRe",
        "outputId": "a386c183-b571-4e86-c078-097ef979acb6"
      },
      "outputs": [
        {
          "name": "stdout",
          "output_type": "stream",
          "text": [
            "MaximoFN"
          ]
        }
      ],
      "source": [
        "string = 'Maximo FN'\n",
        "\n",
        "for x in string:\n",
        "  if x == ' ':\n",
        "    continue\n",
        "  print(x, end='') "
      ]
    },
    {
      "cell_type": "markdown",
      "metadata": {
        "id": "oQPpFfcigxRf"
      },
      "source": [
        "The `else` block can be executed if the condition of the `while` loop is not `True`"
      ]
    },
    {
      "cell_type": "code",
      "execution_count": 20,
      "metadata": {
        "colab": {
          "base_uri": "https://localhost:8080/"
        },
        "id": "xPMNbavBgxRf",
        "outputId": "54a091ec-5d89-4e32-8306-a34618067d8c"
      },
      "outputs": [
        {
          "name": "stdout",
          "output_type": "stream",
          "text": [
            "MaximoFN\n",
            "Se ha terminado el for\n"
          ]
        }
      ],
      "source": [
        "string = 'MaximoFN'\n",
        "\n",
        "for x in string:\n",
        "  print(x, end='') \n",
        "else:\n",
        "  print(\"\\nSe ha terminado el for\")"
      ]
    },
    {
      "cell_type": "markdown",
      "metadata": {
        "id": "GOAARgsbhtow"
      },
      "source": [
        "If forExample we want to create the structure of the `for` loop, at this point, to be able to fill it in later, we can use `pass`"
      ]
    },
    {
      "cell_type": "code",
      "execution_count": 21,
      "metadata": {
        "colab": {
          "base_uri": "https://localhost:8080/"
        },
        "id": "V_TbRtiWh46X",
        "outputId": "a7e58e16-443c-4e3d-dee9-74b0675433e9"
      },
      "outputs": [
        {
          "name": "stdout",
          "output_type": "stream",
          "text": [
            "Interior del for no codificado\n"
          ]
        }
      ],
      "source": [
        "string = 'MaximoFN'\n",
        "for x in string:\n",
        "  pass\n",
        "print('Interior del for no codificado')"
      ]
    },
    {
      "cell_type": "markdown",
      "metadata": {
        "id": "pCNPtPT5BOP0"
      },
      "source": [
        "## 5. Functions"
      ]
    },
    {
      "cell_type": "markdown",
      "metadata": {
        "id": "OuJatWa2BQXS"
      },
      "source": [
        "A function is a portion of code that can be executed multiple times as needed. It can take arguments and can return data as a result."
      ]
    },
    {
      "cell_type": "markdown",
      "metadata": {
        "id": "BKlCFeBGB_H1"
      },
      "source": [
        "To define a function, you start with the reserved word `def`, followed by the functionName, parentheses `()`, a colon `:`, and then continue on a new indented line with the function code."
      ]
    },
    {
      "cell_type": "code",
      "execution_count": 22,
      "metadata": {
        "id": "3kfdBDyiCl3y"
      },
      "outputs": [],
      "source": [
        "def funcion():\n",
        "  print('MaximoFN')"
      ]
    },
    {
      "cell_type": "markdown",
      "metadata": {
        "id": "EAD6Iv5yCrmO"
      },
      "source": [
        "To call the function, it is only necessary to write its name."
      ]
    },
    {
      "cell_type": "code",
      "execution_count": 23,
      "metadata": {
        "colab": {
          "base_uri": "https://localhost:8080/"
        },
        "id": "Lt-SVKrrCvMJ",
        "outputId": "8e29623e-329a-4d25-8d65-e0897ed78960"
      },
      "outputs": [
        {
          "name": "stdout",
          "output_type": "stream",
          "text": [
            "MaximoFN\n"
          ]
        }
      ],
      "source": [
        "funcion()"
      ]
    },
    {
      "cell_type": "markdown",
      "metadata": {
        "id": "MTBYpEBtC2T8"
      },
      "source": [
        "Functions canTakeAnyArgumentsPassedAsParametersAndSeparatedByCommas"
      ]
    },
    {
      "cell_type": "code",
      "execution_count": 24,
      "metadata": {
        "colab": {
          "base_uri": "https://localhost:8080/"
        },
        "id": "UqGulwMZC9tR",
        "outputId": "2f7a720d-5b17-4a39-e641-23cf6d0fbd0a"
      },
      "outputs": [
        {
          "name": "stdout",
          "output_type": "stream",
          "text": [
            "Hola MaximoFN\n"
          ]
        }
      ],
      "source": [
        "def funcion(string1, string2):\n",
        "  print(string1 + ' ' + string2)\n",
        "\n",
        "funcion(\"Hola\", \"MaximoFN\")"
      ]
    },
    {
      "cell_type": "markdown",
      "metadata": {
        "id": "Qwam2TmkDfHL"
      },
      "source": [
        "When calling the function, you must pass it the same number of arguments that were declared; otherwise, you would get an error.",
        "\n",
        "If we don't know the arguments that the functionWillReceive `*args`, it means that a `*` is used before the arguments to indicate that the number ofArguments is variable.",
        "\n",
        "When doing this, you passIt a `tuple` (which is immutable)WithTheArguments"
      ]
    },
    {
      "cell_type": "code",
      "execution_count": 25,
      "metadata": {
        "colab": {
          "base_uri": "https://localhost:8080/"
        },
        "id": "JIPtIiuXDv3t",
        "outputId": "244c8c83-6d7d-47b4-d42c-bd5f372357ce"
      },
      "outputs": [
        {
          "name": "stdout",
          "output_type": "stream",
          "text": [
            "funcion con varios argumentos sin especificar cuantos "
          ]
        }
      ],
      "source": [
        "def funcion(*argumentos):\n",
        "  numero_argumentos = len(argumentos)\n",
        "\n",
        "  for i in range(numero_argumentos):\n",
        "    print(argumentos[i], end=' ')\n",
        "\n",
        "funcion(\"funcion\", \"con\", \"varios\", \"argumentos\", \"sin\", \"especificar\", \"cuantos\")"
      ]
    },
    {
      "cell_type": "markdown",
      "metadata": {
        "id": "AiPVp2EgEpIQ"
      },
      "source": [
        "In case you don't know the order of the arguments of a function, you can specify the argument you want to pass by indicating its name."
      ]
    },
    {
      "cell_type": "code",
      "execution_count": 26,
      "metadata": {
        "colab": {
          "base_uri": "https://localhost:8080/"
        },
        "id": "LYp8ThCcEv-Y",
        "outputId": "59c9dc60-0129-455e-b10f-3345d32a44db"
      },
      "outputs": [
        {
          "name": "stdout",
          "output_type": "stream",
          "text": [
            "Blog de MaximoFN\n"
          ]
        }
      ],
      "source": [
        "def funcion(argumento1, argumento2, argumento3):\n",
        "  print(argumento1 + ' '+ argumento2 + ' ' + argumento3)\n",
        "\n",
        "funcion(argumento3 = \"MaximoFN\", argumento1 = \"Blog\", argumento2 = \"de\")"
      ]
    },
    {
      "cell_type": "markdown",
      "metadata": {
        "id": "cK_QT3NUFTTs"
      },
      "source": [
        "In case you want to pass the arguments with their names, butEnCaseOf does notKnow howManyArguments there are to pass, you canUse `**kwargs`. In this case, a dictionary with the arguments will be passed."
      ]
    },
    {
      "cell_type": "code",
      "execution_count": 27,
      "metadata": {
        "colab": {
          "base_uri": "https://localhost:8080/"
        },
        "id": "Pk8Wl3cnFbiL",
        "outputId": "59dd51b1-7366-40e7-e1e9-5c3c8380da70"
      },
      "outputs": [
        {
          "name": "stdout",
          "output_type": "stream",
          "text": [
            "Autor del blog: MaximoFN\n"
          ]
        }
      ],
      "source": [
        "def funcion(**kargumentos):\n",
        "  print(\"Autor del blog: \" + kargumentos[\"autor\"])\n",
        "\n",
        "funcion(blog = \"Blog\", pertenencia = \"de\", autor = \"MaximoFN\")"
      ]
    },
    {
      "cell_type": "markdown",
      "metadata": {
        "id": "w0IKy3ebGYu4"
      },
      "source": [
        "If we want some argument to have a default value between the parameters of the function. This way, if the default value is not passed to the function, the argument in the function will have the default value."
      ]
    },
    {
      "cell_type": "code",
      "execution_count": 28,
      "metadata": {
        "colab": {
          "base_uri": "https://localhost:8080/"
        },
        "id": "q2YlW7hLGsCL",
        "outputId": "79b96307-dbd2-4e2f-b015-7c5a40b8a6ab"
      },
      "outputs": [
        {
          "name": "stdout",
          "output_type": "stream",
          "text": [
            "Blog de MaximoFN\n"
          ]
        }
      ],
      "source": [
        "def funcion(argumento1, argumento2, argumento3 = \"MaximoFN\"):\n",
        "  print(argumento1 + ' '+ argumento2 + ' ' + argumento3)\n",
        "\n",
        "funcion(\"Blog\", \"de\")"
      ]
    },
    {
      "cell_type": "markdown",
      "metadata": {
        "id": "8N6v55GcG5EM"
      },
      "source": [
        "Any type of data can be passed as an argument. For example, if a `list` is passed as an argument, within the function, that argument will be treated as a `list`.\n\n```markdown\nSe puede pasar cualquier tipo de dato como argumento. Por ejemplo, si se pasa una `lista` como argumento, dentro de la funci\u00f3n, dicho argumento ser\u00e1 tratado como una `lista`.\n```\n\nBecomes:\n\n```markdown\nAny type of data can be passed as an argument. For example, if a `list` is passed as an argument, within the function, that argument will be treated as a `list`.\n```"
      ]
    },
    {
      "cell_type": "code",
      "execution_count": 29,
      "metadata": {
        "colab": {
          "base_uri": "https://localhost:8080/"
        },
        "id": "diibPVvAHEve",
        "outputId": "270699c8-16c4-4900-a0a1-9492938f5f4c"
      },
      "outputs": [
        {
          "name": "stdout",
          "output_type": "stream",
          "text": [
            "Blog de MaximoFN "
          ]
        }
      ],
      "source": [
        "def funcion(argumento):\n",
        "  longitud_lista = len(argumento)\n",
        "\n",
        "  for i in range(longitud_lista):\n",
        "    print(argumento[i], end=' ')\n",
        "\n",
        "funcion([\"Blog\", \"de\", \"MaximoFN\"])"
      ]
    },
    {
      "cell_type": "markdown",
      "metadata": {
        "id": "sk_l_UOoHW2I"
      },
      "source": [
        "Functions can return data, this is done using the reserved word `return`.\n\n```markdown\nLas funciones pueden devolver datos, esto se hace mediante la palabra reservada `return`\n```\n\n```markdown\nFunctions can return data, this is done using the reserved word `return`.\n```"
      ]
    },
    {
      "cell_type": "code",
      "execution_count": 30,
      "metadata": {
        "colab": {
          "base_uri": "https://localhost:8080/"
        },
        "id": "7phXlIznHcV3",
        "outputId": "3e8a85b3-aad2-456e-d7ae-d0eee396ecca"
      },
      "outputs": [
        {
          "name": "stdout",
          "output_type": "stream",
          "text": [
            "Blog de MaximoFN \n"
          ]
        }
      ],
      "source": [
        "def funcion(argumento):\n",
        "  longitud_lista = len(argumento)\n",
        "  string = \"\"\n",
        "\n",
        "  for i in range(longitud_lista):\n",
        "    string = string + argumento[i] + ' '\n",
        "\n",
        "  return string\n",
        "\n",
        "print(funcion([\"Blog\", \"de\", \"MaximoFN\"]))"
      ]
    },
    {
      "cell_type": "markdown",
      "metadata": {
        "id": "xHikwJ8-HxGq"
      },
      "source": [
        "Can return more than one data"
      ]
    },
    {
      "cell_type": "code",
      "execution_count": 31,
      "metadata": {
        "colab": {
          "base_uri": "https://localhost:8080/"
        },
        "id": "OAouETiPH1H5",
        "outputId": "4b8cba56-9557-46dd-d679-f5a8832e062a"
      },
      "outputs": [
        {
          "name": "stdout",
          "output_type": "stream",
          "text": [
            "Blog de MaximoFN\n"
          ]
        }
      ],
      "source": [
        "def funcion(argumento):\n",
        "  longitud_lista = len(argumento)\n",
        "  string0 = argumento[0]\n",
        "  string1 = argumento[1]\n",
        "  string2 = argumento[2]\n",
        "\n",
        "  return string0, string1, string2\n",
        "\n",
        "dato0, dato1, dato2 = funcion([\"Blog\", \"de\", \"MaximoFN\"])\n",
        "\n",
        "print(dato0 + ' ' + dato1 + ' ' + dato2)"
      ]
    },
    {
      "cell_type": "markdown",
      "metadata": {
        "id": "ze5_shQBIIGn"
      },
      "source": [
        "If one of the returned data is not of interest, we can skip it using `_`.\n\n```python\na, _, c = some_function()\n```\n\nThis is a common practice in Python to ignore certain values that are returned but not needed.\n\n---\n\nIf one of the returned data is not of interest, we can skip it using `_`.\n\n```python\na, _, c = some_function()\n```"
      ]
    },
    {
      "cell_type": "code",
      "execution_count": 32,
      "metadata": {
        "colab": {
          "base_uri": "https://localhost:8080/"
        },
        "id": "flwkPfpbIPcv",
        "outputId": "fc8cfb44-4c16-477c-b797-868908dac345"
      },
      "outputs": [
        {
          "name": "stdout",
          "output_type": "stream",
          "text": [
            "MaximoFN\n"
          ]
        }
      ],
      "source": [
        "def funcion(argumento):\n",
        "  longitud_lista = len(argumento)\n",
        "  string0 = argumento[0]\n",
        "  string1 = argumento[1]\n",
        "  string2 = argumento[2]\n",
        "\n",
        "  return string0, string1, string2\n",
        "\n",
        "_, _, dato_de_interes = funcion([\"Blog\", \"de\", \"MaximoFN\"])\n",
        "\n",
        "print(dato_de_interes)"
      ]
    },
    {
      "cell_type": "markdown",
      "metadata": {
        "id": "nKIk8SAsIbBc"
      },
      "source": [
        "If, for example, we want to create the structure of the function but do not want to, for the moment, code the interior, we can use `pass`.\n\n```python\ndef my_function():\n    pass\n```\n\n---\n\nSi queremos indicar que la funci\u00f3n a\u00fan no est\u00e1 completa, podemos usar un comentario o `TODO`:\n\n```python\ndef my_function():\n    # TODO: Implementar la l\u00f3gica de la funci\u00f3n\n    pass\n```"
      ]
    },
    {
      "cell_type": "code",
      "execution_count": 33,
      "metadata": {
        "id": "KOKW0lAnIbBm"
      },
      "outputs": [],
      "source": [
        "def funcion():\n",
        "  pass\n",
        "\n",
        "funcion()"
      ]
    },
    {
      "cell_type": "markdown",
      "metadata": {
        "id": "4Pt5sn7_Io0h"
      },
      "source": [
        "A function can call itself, this is called recursion or function recursivity.\n\n```markdown\nA function can call itself, this is called recursion or function recursivity.\n```\n\nEste m\u00e9todo es \u00fatil para resolver problemas que se pueden descomponer en subproblemas m\u00e1s peque\u00f1os y similares al problema original.\n\n```markdown\nThis method is useful for solving problems that can be broken down into smaller, similar subproblems.\n```\n\nSi necesitas m\u00e1s ejemplos o tienes dudas, no dudes en pregar.\n\n```markdown\nIf you need more examples or have doubts, don't hesitate to ask.\n```",
        "\n",
        "For example, we can use this property to calculate the factorial of a number."
      ]
    },
    {
      "cell_type": "code",
      "execution_count": 34,
      "metadata": {
        "colab": {
          "base_uri": "https://localhost:8080/"
        },
        "id": "lCDGjGLVI1Jr",
        "outputId": "f128964a-981e-484e-b575-3b9730b1cf4f"
      },
      "outputs": [
        {
          "data": {
            "text/plain": [
              "120"
            ]
          },
          "execution_count": 34,
          "metadata": {},
          "output_type": "execute_result"
        }
      ],
      "source": [
        "def factorial(n):\n",
        "  if n == 0 or n == 1:\n",
        "    return 1\n",
        "  else:\n",
        "    return n * factorial(n-1)\n",
        "\n",
        "factorial(5)"
      ]
    },
    {
      "cell_type": "markdown",
      "metadata": {
        "id": "-Vm2cGOWsYy9"
      },
      "source": [
        "### 5.1. Built-in functions"
      ]
    },
    {
      "cell_type": "markdown",
      "metadata": {
        "id": "pBTdRHQksb99"
      },
      "source": [
        "There is a series of predefined functions in Python that can be used, such as the `abs()` function, which returns the absolute value.\n\n```markdown\nThere is a series of predefined functions in Python that can be used, such as the `abs()` function, which returns the absolute value.\n```"
      ]
    },
    {
      "cell_type": "code",
      "execution_count": 35,
      "metadata": {
        "colab": {
          "base_uri": "https://localhost:8080/"
        },
        "id": "3yZQyVm6sxuO",
        "outputId": "8dbfb1c9-d84a-476c-c1cd-098a1a139886"
      },
      "outputs": [
        {
          "data": {
            "text/plain": [
              "5"
            ]
          },
          "execution_count": 35,
          "metadata": {},
          "output_type": "execute_result"
        }
      ],
      "source": [
        "abs(-5)"
      ]
    },
    {
      "cell_type": "markdown",
      "metadata": {
        "id": "_J8DUqsDszIh"
      },
      "source": [
        "The following is a list of these functions"
      ]
    },
    {
      "cell_type": "code",
      "execution_count": 36,
      "metadata": {
        "colab": {
          "base_uri": "https://localhost:8080/"
        },
        "id": "TkTqNjH8sVYa",
        "outputId": "35df212f-a0ea-4065-c535-9a0a5f1459b5"
      },
      "outputs": [
        {
          "data": {
            "text/plain": [
              "['ArithmeticError',\n",
              " 'AssertionError',\n",
              " 'AttributeError',\n",
              " 'BaseException',\n",
              " 'BlockingIOError',\n",
              " 'BrokenPipeError',\n",
              " 'BufferError',\n",
              " 'BytesWarning',\n",
              " 'ChildProcessError',\n",
              " 'ConnectionAbortedError',\n",
              " 'ConnectionError',\n",
              " 'ConnectionRefusedError',\n",
              " 'ConnectionResetError',\n",
              " 'DeprecationWarning',\n",
              " 'EOFError',\n",
              " 'Ellipsis',\n",
              " 'EnvironmentError',\n",
              " 'Exception',\n",
              " 'False',\n",
              " 'FileExistsError',\n",
              " 'FileNotFoundError',\n",
              " 'FloatingPointError',\n",
              " 'FutureWarning',\n",
              " 'GeneratorExit',\n",
              " 'IOError',\n",
              " 'ImportError',\n",
              " 'ImportWarning',\n",
              " 'IndentationError',\n",
              " 'IndexError',\n",
              " 'InterruptedError',\n",
              " 'IsADirectoryError',\n",
              " 'KeyError',\n",
              " 'KeyboardInterrupt',\n",
              " 'LookupError',\n",
              " 'MemoryError',\n",
              " 'ModuleNotFoundError',\n",
              " 'NameError',\n",
              " 'None',\n",
              " 'NotADirectoryError',\n",
              " 'NotImplemented',\n",
              " 'NotImplementedError',\n",
              " 'OSError',\n",
              " 'OverflowError',\n",
              " 'PendingDeprecationWarning',\n",
              " 'PermissionError',\n",
              " 'ProcessLookupError',\n",
              " 'RecursionError',\n",
              " 'ReferenceError',\n",
              " 'ResourceWarning',\n",
              " 'RuntimeError',\n",
              " 'RuntimeWarning',\n",
              " 'StopAsyncIteration',\n",
              " 'StopIteration',\n",
              " 'SyntaxError',\n",
              " 'SyntaxWarning',\n",
              " 'SystemError',\n",
              " 'SystemExit',\n",
              " 'TabError',\n",
              " 'TimeoutError',\n",
              " 'True',\n",
              " 'TypeError',\n",
              " 'UnboundLocalError',\n",
              " 'UnicodeDecodeError',\n",
              " 'UnicodeEncodeError',\n",
              " 'UnicodeError',\n",
              " 'UnicodeTranslateError',\n",
              " 'UnicodeWarning',\n",
              " 'UserWarning',\n",
              " 'ValueError',\n",
              " 'Warning',\n",
              " 'ZeroDivisionError',\n",
              " '__IPYTHON__',\n",
              " '__build_class__',\n",
              " '__debug__',\n",
              " '__doc__',\n",
              " '__import__',\n",
              " '__loader__',\n",
              " '__name__',\n",
              " '__package__',\n",
              " '__spec__',\n",
              " 'abs',\n",
              " 'all',\n",
              " 'any',\n",
              " 'ascii',\n",
              " 'bin',\n",
              " 'bool',\n",
              " 'breakpoint',\n",
              " 'bytearray',\n",
              " 'bytes',\n",
              " 'callable',\n",
              " 'chr',\n",
              " 'classmethod',\n",
              " 'compile',\n",
              " 'complex',\n",
              " 'copyright',\n",
              " 'credits',\n",
              " 'delattr',\n",
              " 'dict',\n",
              " 'dir',\n",
              " 'display',\n",
              " 'divmod',\n",
              " 'enumerate',\n",
              " 'eval',\n",
              " 'exec',\n",
              " 'filter',\n",
              " 'float',\n",
              " 'format',\n",
              " 'frozenset',\n",
              " 'get_ipython',\n",
              " 'getattr',\n",
              " 'globals',\n",
              " 'hasattr',\n",
              " 'hash',\n",
              " 'help',\n",
              " 'hex',\n",
              " 'id',\n",
              " 'input',\n",
              " 'int',\n",
              " 'isinstance',\n",
              " 'issubclass',\n",
              " 'iter',\n",
              " 'len',\n",
              " 'license',\n",
              " 'list',\n",
              " 'locals',\n",
              " 'map',\n",
              " 'max',\n",
              " 'memoryview',\n",
              " 'min',\n",
              " 'next',\n",
              " 'object',\n",
              " 'oct',\n",
              " 'open',\n",
              " 'ord',\n",
              " 'pow',\n",
              " 'print',\n",
              " 'property',\n",
              " 'range',\n",
              " 'repr',\n",
              " 'reversed',\n",
              " 'round',\n",
              " 'set',\n",
              " 'setattr',\n",
              " 'slice',\n",
              " 'sorted',\n",
              " 'staticmethod',\n",
              " 'str',\n",
              " 'sum',\n",
              " 'super',\n",
              " 'tuple',\n",
              " 'type',\n",
              " 'vars',\n",
              " 'zip']"
            ]
          },
          "execution_count": 36,
          "metadata": {},
          "output_type": "execute_result"
        }
      ],
      "source": [
        "import builtins\n",
        "\n",
        "dir(builtins)"
      ]
    },
    {
      "cell_type": "markdown",
      "metadata": {
        "id": "LkqAoYW7_hrv"
      },
      "source": [
        "### 5.2. Function Documentation"
      ]
    },
    {
      "cell_type": "markdown",
      "metadata": {
        "id": "7KbzGqSc_rnQ"
      },
      "source": [
        "We can add an explanation of a function we create by including a comment at the beginning of the function, so when we call the `built-in function` `help()`, it will display that explanation."
      ]
    },
    {
      "cell_type": "code",
      "execution_count": 37,
      "metadata": {
        "colab": {
          "base_uri": "https://localhost:8080/"
        },
        "id": "no1eypO4_9UW",
        "outputId": "71a7ccc8-80f0-48f1-804a-cbe48454de2d"
      },
      "outputs": [
        {
          "name": "stdout",
          "output_type": "stream",
          "text": [
            "Help on function funcion in module __main__:\n",
            "\n",
            "funcion()\n",
            "    Esta es la explicaci\u00f3n de la funci\u00f3n\n",
            "\n"
          ]
        }
      ],
      "source": [
        "def funcion():\n",
        "  \"Esta es la explicaci\u00f3n de la funci\u00f3n\"\n",
        "\n",
        "  None\n",
        "\n",
        "help(funcion)"
      ]
    },
    {
      "cell_type": "markdown",
      "metadata": {
        "id": "EcbRNHttBJ4T"
      },
      "source": [
        "Another option to see the function explanation is to use the function's `__doc__`__doc__` is a built-in attribute that contains the docstring of the function. You can access it like this:\n\n```python\nprint(my_function.__doc__)\n```\n\n- Pros:\n  - It's a direct and easy way to access the docstring.\n- Cons:\n  - It is less readable and less commonly used than the `help()` function.\n\n```python\ndef my_function():\n    \"\"\"\n    This is a sample function to demonstrate the use of `__doc__`.\n    \"\"\"\n    pass\n\nprint(my_function.__doc__)\n```\n\nThis will output the docstring of `my_function`.\n\n```python\n\"\"\"\nThis is a sample function to demonstrate the use of `__doc__`.\n\"\"\"\n```"
      ]
    },
    {
      "cell_type": "code",
      "execution_count": 38,
      "metadata": {
        "colab": {
          "base_uri": "https://localhost:8080/",
          "height": 35
        },
        "id": "-aXkZWGDAJ2R",
        "outputId": "7c703e56-d93e-49e6-9a8e-e98bcf888d8d"
      },
      "outputs": [
        {
          "data": {
            "text/plain": [
              "'Esta es la explicaci\u00f3n de la funci\u00f3n'"
            ]
          },
          "execution_count": 38,
          "metadata": {},
          "output_type": "execute_result"
        }
      ],
      "source": [
        "funcion.__doc__"
      ]
    },
    {
      "cell_type": "markdown",
      "metadata": {
        "id": "APm67o4fBcSB"
      },
      "source": [
        "### 5.3. Decorators"
      ]
    },
    {
      "cell_type": "markdown",
      "metadata": {
        "id": "MvYoPky0BekS"
      },
      "source": [
        "Decorators are a Python feature that allows adding new features to a function.\n\n```markdown\n# Example of a decorator\ndef my_decorator(func):\n    def wrapper():\n        print(\"Something is happening before the function is called.\")\n        func()\n        print(\"Something is happening after the function is called.\")\n    return wrapper\n\n@my_decorator\ndef say_hello():\n    print(\"Hello!\")\n\nsay_hello()\n```\n\n---\n\n**Note**: This is a basic example of how decorators work in Python. They can be used to modify or enhance the behavior of functions or methods without permanently modifying the original code.\n\n---\n\nIf you want to learn more about decorators, you can check the official Python documentation or other resources online.",
        "\n",
        "A decorator function is created that takes another function as a parameter. Then the decorator function adds the new feature to the function it receives.\n\n```python\ndef my_decorator(func):\n    def wrapper():\n        print(\"Something is happening before the function is called.\")\n        func()\n        print(\"Something is happening after the function is called.\")\n    return wrapper\n\n@my_decorator\ndef say_hello():\n    print(\"Hello!\")\n\nsay_hello()\n```\n\nEste es un ejemplo de c\u00f3mo se ve un decorador b\u00e1sico en Python. La funci\u00f3n `my_decorator` toma `func` como par\u00e1metro y crea una funci\u00f3n `wrapper` que agrega funcionalidades antes y despu\u00e9s de llamar a `func`.\n\nCuando se llama a `say_hello()`, en realidad se est\u00e1 llamando a `wrapper()`"
      ]
    },
    {
      "cell_type": "code",
      "execution_count": 39,
      "metadata": {
        "colab": {
          "base_uri": "https://localhost:8080/"
        },
        "id": "NDM1S8-DDt3l",
        "outputId": "706f5370-90f2-4d91-e0bf-4b9025b49b23"
      },
      "outputs": [
        {
          "name": "stdout",
          "output_type": "stream",
          "text": [
            "Funci\u00f3n sin decoradores: \n",
            "MaximoFN\n",
            "\n",
            "Funci\u00f3n con decoradores: \n",
            "==================\n",
            "MaximoFN\n",
            "==================\n"
          ]
        }
      ],
      "source": [
        "def decorador(parametro_funcion):\n",
        "  \"\"\"Agrega barritas arriba y abajo de la funcion\"\"\"\n",
        "\n",
        "  def envoltorio():\n",
        "    \"\"\"Aplica las barritas al texto\"\"\"\n",
        "\n",
        "    print(\"==================\")\n",
        "    parametro_funcion()\n",
        "    print(\"==================\")\n",
        "      \n",
        "  return envoltorio\n",
        "\n",
        "def funcion():\n",
        "  print(\"MaximoFN\")\n",
        "\n",
        "funcion_envoltorio = decorador(funcion)\n",
        "\n",
        "print('Funci\u00f3n sin decoradores: ')\n",
        "funcion()\n",
        "\n",
        "print('\\nFunci\u00f3n con decoradores: ')\n",
        "funcion_envoltorio()"
      ]
    },
    {
      "cell_type": "markdown",
      "metadata": {
        "id": "9jcsg8GVFXPA"
      },
      "source": [
        "But another more powerful way to use decorators is by using `@` and the decorator's name before the function.\n\n```python\n@decorator\ndef function():\n    pass\n```\n\nEste es un ejemplo de c\u00f3mo se ve en el c\u00f3digo.\n\n```python\n@decorator\ndef example_function():\n    print(\"Esta funci\u00f3n est\u00e1 decorada.\")\n```\n\nEste m\u00e9todo es m\u00e1s limpio y legible, especialmente cuando se usan m\u00faltiples decoradores.\n\n```python\n@decorator1\n@decorator2\ndef another_example_function():\n    print(\"Esta funci\u00f3n tiene dos decoradores.\")\n```\n\nEsto facilita la lectura y el mantenimiento del c\u00f3digo, ya que los decoradores se aplican de abajo hacia arriba.\n\n```python\n@decorator1\n@decorator2\ndef yet_another_example_function():\n    print(\"Esta funci\u00f3n tiene dos decoradores en orden inverso.\")\n```\n\nEs importante notar que el orden en el que se aplican los decoradores puede afectar el comportamiento de la funci\u00f3n decorada.",
        "\n",
        "That is, first the decorator is defined and then a function is called with the defined decorator.\n```python\ndef my_decorator(func):\n    def wrapper():\n        print(\"Something is happening before the function is called.\")\n        func()\n        print(\"Something is happening after the function is called.\")\n    return wrapper\n\n@my_decorator\ndef say_hello():\n    print(\"Hello!\")\n\nsay_hello()\n```\n\n- This will output:\n```\nSomething is happening before the function is called.\nHello!\nSomething is happening after the function is called.\n```\n\n---\n\nEs decir, primero se define el decorador y a continuaci\u00f3n se llama a una funci\u00f3n con el decorador definido."
      ]
    },
    {
      "cell_type": "code",
      "execution_count": 40,
      "metadata": {
        "colab": {
          "base_uri": "https://localhost:8080/"
        },
        "id": "tAfU4G9OE3ZV",
        "outputId": "da32ee61-579f-45aa-eed1-3625bd84d7ab"
      },
      "outputs": [
        {
          "name": "stdout",
          "output_type": "stream",
          "text": [
            "Funci\u00f3n con decoradores: \n",
            "==================\n",
            "MaximoFN\n",
            "==================\n"
          ]
        }
      ],
      "source": [
        "def decorador2(parametro_funcion2):\n",
        "  \"\"\"Agrega barritas arriba y abajo de la funcion\"\"\"\n",
        "\n",
        "  def envoltorio2():\n",
        "    \"\"\"Aplica las barritas al texto\"\"\"\n",
        "\n",
        "    print(\"==================\")\n",
        "    parametro_funcion2()\n",
        "    print(\"==================\")\n",
        "      \n",
        "  return envoltorio2\n",
        "\n",
        "@decorador2\n",
        "def funcion2():\n",
        "  print(\"MaximoFN\")\n",
        "\n",
        "print('Funci\u00f3n con decoradores: ')\n",
        "funcion2()"
      ]
    },
    {
      "attachments": {},
      "cell_type": "markdown",
      "metadata": {},
      "source": [
        "### 5.4. `*args` and `**kwargs`"
      ]
    },
    {
      "attachments": {},
      "cell_type": "markdown",
      "metadata": {},
      "source": [
        "`*args` and `**kwargs` are optional arguments that can be used when defining a function in Python. The syntax is as follows:",
        "\n",
        "``` Python\n",
        "def my_function(arg1, arg2, *args, **kwargs):",
        "    # function code here",
        "```"
      ]
    },
    {
      "attachments": {},
      "cell_type": "markdown",
      "metadata": {},
      "source": [
        "#### 2.5.1. `*args`"
      ]
    },
    {
      "attachments": {},
      "cell_type": "markdown",
      "metadata": {},
      "source": [
        "`*args` is used to pass a variable number of arguments to a function. By using `*args`, you can pass a variable number of arguments to the function without having to specify the exact number of arguments the function needs. The arguments are received in the function as a tuple."
      ]
    },
    {
      "cell_type": "code",
      "execution_count": 3,
      "metadata": {},
      "outputs": [
        {
          "name": "stdout",
          "output_type": "stream",
          "text": [
            "Hola, Alicia\n",
            "Hola, Roberto\n",
            "Hola, Carlos\n"
          ]
        }
      ],
      "source": [
        "def saludo(saludo, *nombres):\n",
        "    for nombre in nombres:\n",
        "        print(f\"{saludo}, {nombre}\")\n",
        "\n",
        "saludo(\"Hola\", \"Alicia\", \"Roberto\", \"Carlos\")"
      ]
    },
    {
      "attachments": {},
      "cell_type": "markdown",
      "metadata": {},
      "source": [
        "#### 2.5.2. `**kwargs`"
      ]
    },
    {
      "attachments": {},
      "cell_type": "markdown",
      "metadata": {},
      "source": [
        "`**kwargs` is used in the same way, but to send a variable number of keyword arguments to a function. When using `**kwargs`, you can send a variable number of arguments to the function and specify the value of each argument using its name. The arguments are received in the function as a dictionary."
      ]
    },
    {
      "cell_type": "code",
      "execution_count": 9,
      "metadata": {},
      "outputs": [
        {
          "name": "stdout",
          "output_type": "stream",
          "text": [
            "Hola Juan, tu edad es 22 a\u00f1os\n",
            "Hola Maria, tu edad es 32 a\u00f1os\n",
            "Hola Pedro, tu edad es 25 a\u00f1os\n"
          ]
        }
      ],
      "source": [
        "def saludo(saludo, **personas):\n",
        "    for key, value in personas.items():\n",
        "        print(f\"{saludo} {key}, tu edad es {value} a\u00f1os\")\n",
        "\n",
        "saludo(\"Hola\", Juan=22, Maria=32, Pedro=25)"
      ]
    },
    {
      "cell_type": "markdown",
      "metadata": {
        "id": "gEKN43NjLHAW"
      },
      "source": [
        "## 6. Additional Functions"
      ]
    },
    {
      "cell_type": "markdown",
      "metadata": {
        "id": "VnJXtarMKVWG"
      },
      "source": [
        "### 6.1. Lambda functions"
      ]
    },
    {
      "cell_type": "markdown",
      "metadata": {
        "id": "saj3-zTjKav4"
      },
      "source": [
        "A *lambda* function is a small anonymous function.\n\n```markdown\nuna funci\u00f3n *lambda* es una peque\u00f1a funci\u00f3n an\u00f3nima.\n```\n\n```markdown\nA *lambda* function is a small anonymous function.\n```\n\nEste m\u00e9todo es \u00fatil para funciones cortas y simples que no necesitan un nombre propio.",
        "\n",
        "A *lambda* function can take any number of arguments, but can only have one expression.\n\n```markdown\nA *lambda* function can take any number of arguments, but can only have one expression.\n```\n\nThis command is already in English, so no translation is needed. However, if you need the entire text in English, here it is:\n\n```markdown\nA *lambda* function can take any number of arguments, but can only have one expression.\n```",
        "\n",
        "Lambda functions are defined as follows:",
        "```\n",
        "lambda arguments : expression",
        "```\n",
        "\n"
      ]
    },
    {
      "cell_type": "code",
      "execution_count": 41,
      "metadata": {
        "colab": {
          "base_uri": "https://localhost:8080/"
        },
        "id": "tt_Cb5BEK3Qh",
        "outputId": "014cc622-80c8-4b96-f79a-be4355085d06"
      },
      "outputs": [
        {
          "name": "stdout",
          "output_type": "stream",
          "text": [
            "15\n"
          ]
        }
      ],
      "source": [
        "x = lambda a : a + 10\n",
        "print(x(5))"
      ]
    },
    {
      "cell_type": "code",
      "execution_count": 42,
      "metadata": {
        "colab": {
          "base_uri": "https://localhost:8080/"
        },
        "id": "pU9w0mR-K7Op",
        "outputId": "13f23537-35a9-4380-9151-d34d431bcba3"
      },
      "outputs": [
        {
          "name": "stdout",
          "output_type": "stream",
          "text": [
            "13\n"
          ]
        }
      ],
      "source": [
        "x = lambda a, b, c : a + b + c\n",
        "print(x(5, 6, 2))"
      ]
    },
    {
      "cell_type": "markdown",
      "metadata": {
        "id": "HXgSPNkWLP7k"
      },
      "source": [
        "The power of *lambda* is best demonstrated when you use them as an anonymous function inside another function.\n\n```python\ndef my_function(n):\n    return lambda a, b: (a + b) * n\n\ndoubler = my_function(2)\nprint(doubler(1, 2))  # Output: 6\n```\n\nEn este ejemplo, `my_function` devuelve una funci\u00f3n lambda que toma dos argumentos `a` y `b`, y multiplica su suma por `n`.\n\n4. **Uso en funciones de orden superior**:\n   Las funciones lambda son muy \u00fatiles cuando se utilizan con funciones de orden superior como `map()`, `filter()`, y `reduce()`.\n\n```python\n# Uso con map()\nnumbers = [1, 2, 3, 4, 5]\nsquared = list(map(lambda x: x**2, numbers))\nprint(squared)  # Output: [1, 4, 9, 16, 25]\n\n# Uso con filter()\neven_numbers = list(filter(lambda x: x % 2 == 0, numbers))\nprint(even_numbers)  # Output: [2, 4]\n\n# Uso con reduce()\nfrom functools import reduce\nproduct = reduce(lambda x, y: x * y, numbers)\nprint(product)  # Output: 120\n```\n\nEn estos ejemplos, las funciones lambda se utilizan para definir operaciones breves y concisas que se aplican a cada elemento de una lista o para reducir una lista a un solo valor."
      ]
    },
    {
      "cell_type": "code",
      "execution_count": 43,
      "metadata": {
        "colab": {
          "base_uri": "https://localhost:8080/"
        },
        "id": "2P6KmOcSLTLr",
        "outputId": "65cb208b-aba9-4a27-ca59-575eb64c5a7d"
      },
      "outputs": [
        {
          "name": "stdout",
          "output_type": "stream",
          "text": [
            "mydoubler: 22\n",
            "mytripler: 33\n"
          ]
        }
      ],
      "source": [
        "def myfunc(n):\n",
        "  return lambda a : a * n\n",
        "\n",
        "mydoubler = myfunc(2)\n",
        "mytripler = myfunc(3)\n",
        "\n",
        "print(f\"mydoubler: {mydoubler(11)}\")\n",
        "print(f\"mytripler: {mytripler(11)}\")"
      ]
    },
    {
      "cell_type": "markdown",
      "metadata": {
        "id": "wyEFlVh2LPP4"
      },
      "source": [
        "### 6.2. `map` Function"
      ]
    },
    {
      "cell_type": "markdown",
      "metadata": {
        "id": "KHciIh-1LlD5"
      },
      "source": [
        "The `map` function allows applying a function to each element of an iterable structure.\n\n```python\n# Example usage of map\nnumbers = [1, 2, 3, 4]\nsquared = map(lambda x: x**2, numbers)\nprint(list(squared))  # Output: [1, 4, 9, 16]\n```\n\nLa funci\u00f3n `map` toma dos argumentos: la funci\u00f3n que se aplicar\u00e1 y el iterable sobre el cual se aplicar\u00e1 la funci\u00f3n. El resultado es un objeto iterable que puede convertirse en una lista u otra estructura de datos.\n\n```python\n# Another example\nwords = [\"hello\", \"world\", \"python\"]\nuppercased = map(str.upper, words)\nprint(list(uppercased))  # Output: ['HELLO', 'WORLD', 'PYTHON']\n```\n\nEsta funci\u00f3n es muy \u00fatil para transformar datos de manera concisa y eficiente."
      ]
    },
    {
      "cell_type": "code",
      "execution_count": 44,
      "metadata": {
        "colab": {
          "base_uri": "https://localhost:8080/"
        },
        "id": "GzM0f0y-L9kv",
        "outputId": "71db22cf-fff0-458e-f590-9a96d9c0ab86"
      },
      "outputs": [
        {
          "data": {
            "text/plain": [
              "[2, 3, 4]"
            ]
          },
          "execution_count": 44,
          "metadata": {},
          "output_type": "execute_result"
        }
      ],
      "source": [
        "lista = [1, 2, 3]\n",
        "\n",
        "def funcion_mas_1(valor):\n",
        "  return valor + 1\n",
        "\n",
        "lista_modificada = list(map(funcion_mas_1, lista))\n",
        "lista_modificada"
      ]
    },
    {
      "cell_type": "markdown",
      "metadata": {
        "id": "9_QMQcIyMQY8"
      },
      "source": [
        "This is equivalent to using `list comprehension`"
      ]
    },
    {
      "cell_type": "code",
      "execution_count": 45,
      "metadata": {
        "colab": {
          "base_uri": "https://localhost:8080/"
        },
        "id": "KXgwS1NQMYJ2",
        "outputId": "f7acb8d3-5d35-4930-e1e0-a70d0cfe9f58"
      },
      "outputs": [
        {
          "data": {
            "text/plain": [
              "[2, 3, 4]"
            ]
          },
          "execution_count": 45,
          "metadata": {},
          "output_type": "execute_result"
        }
      ],
      "source": [
        "lista_modificada = [funcion_mas_1(x) for x in lista]\n",
        "lista_modificada"
      ]
    },
    {
      "cell_type": "markdown",
      "metadata": {
        "id": "llVV5hwMLUvE"
      },
      "source": [
        "### 6.3. `filter` Function"
      ]
    },
    {
      "cell_type": "markdown",
      "metadata": {
        "id": "_dDM6WUNNnZS"
      },
      "source": [
        "The `filter` function allows selecting the elements from an iterable structure that meet a condition.\n\n```python\n# Example usage of filter\nnumbers = [1, 2, 3, 4, 5]\neven_numbers = filter(lambda x: x % 2 == 0, numbers)\nprint(list(even_numbers))  # Output: [2, 4]\n```\n\n---\n\nLa funci\u00f3n `filter` es \u00fatil para filtrar elementos en una lista o cualquier otra estructura iterable basada en una condici\u00f3nThe `filter` function is useful for filtering elements in a list or any other iterable structure based on a condition."
      ]
    },
    {
      "cell_type": "code",
      "execution_count": 46,
      "metadata": {
        "colab": {
          "base_uri": "https://localhost:8080/"
        },
        "id": "3ejgy3nxNsm1",
        "outputId": "98629ea1-5ec1-4bee-e378-c5a4d43f67c3"
      },
      "outputs": [
        {
          "data": {
            "text/plain": [
              "[2, 4, 6]"
            ]
          },
          "execution_count": 46,
          "metadata": {},
          "output_type": "execute_result"
        }
      ],
      "source": [
        "lista = [1, 2, 3, 4, 5, 6, 7]\n",
        "\n",
        "def esPar(valor):\n",
        "  return valor % 2 == 0\n",
        "\n",
        "lista_filtrada = list(filter(esPar, lista))\n",
        "lista_filtrada"
      ]
    },
    {
      "cell_type": "markdown",
      "metadata": {
        "id": "083gUvqbN66g"
      },
      "source": [
        "This is equivalent to using `list comprehension`"
      ]
    },
    {
      "cell_type": "code",
      "execution_count": 47,
      "metadata": {
        "colab": {
          "base_uri": "https://localhost:8080/"
        },
        "id": "cNTRx4TWN66r",
        "outputId": "0eedbff1-51df-4781-b81a-db2d5f8c5a8f"
      },
      "outputs": [
        {
          "data": {
            "text/plain": [
              "[2, 4, 6]"
            ]
          },
          "execution_count": 47,
          "metadata": {},
          "output_type": "execute_result"
        }
      ],
      "source": [
        "lista_filtrada = [x for x in lista if esPar(x)]\n",
        "lista_filtrada"
      ]
    },
    {
      "cell_type": "markdown",
      "metadata": {
        "id": "6AODprTvLZx3"
      },
      "source": [
        "### 6.4. `reduce` Function"
      ]
    },
    {
      "cell_type": "markdown",
      "metadata": {
        "id": "XL3eoZBIOLJ5"
      },
      "source": [
        "The `reduce` function allows performing accumulative tasks on iterable structures.\n\n```markdown\nLa funci\u00f3n `reduce` permite realizar tareas acumulativas sobre estructuras iterables.\n```\n\nBecomes:\n\n```markdown\nThe `reduce` function allows performing accumulative tasks on iterable structures.\n```"
      ]
    },
    {
      "cell_type": "code",
      "execution_count": 49,
      "metadata": {
        "colab": {
          "base_uri": "https://localhost:8080/"
        },
        "id": "YwJbwkXHOSXa",
        "outputId": "104acf9a-80ca-4981-e26a-7748b547bc59"
      },
      "outputs": [
        {
          "name": "stdout",
          "output_type": "stream",
          "text": [
            "valor = 1, acumulador = 22, acumulacion = 23\n",
            "valor = 23, acumulador = 33, acumulacion = 56\n",
            "\n",
            "acumulacion = 56\n"
          ]
        }
      ],
      "source": [
        "from functools import reduce\n",
        "\n",
        "lista = [1, 22, 33]\n",
        "\n",
        "def acumular(valor, acumulador):\n",
        "  print(f'valor = {valor}, acumulador = {acumulador}, acumulacion = {valor + acumulador}')\n",
        "  return valor + acumulador\n",
        "\n",
        "acumulacion = reduce(acumular, lista)\n",
        "print(f'\\nacumulacion = {acumulacion}')"
      ]
    },
    {
      "cell_type": "markdown",
      "metadata": {
        "id": "cpsx2Zy0LdmQ"
      },
      "source": [
        "### 6.5. `zip` Function"
      ]
    },
    {
      "cell_type": "markdown",
      "metadata": {
        "id": "Iki87gNZPu8z"
      },
      "source": [
        "With the `zip` function, you can combine multiple iterable structures into one, meaning it allows you to group several elements from the structures *A<sub>x</sub>* into a single structure *B*. The structure *B* is composed of tuples of the elements from the structures *A<sub>x</sub>*."
      ]
    },
    {
      "cell_type": "code",
      "execution_count": 51,
      "metadata": {
        "colab": {
          "base_uri": "https://localhost:8080/"
        },
        "id": "g4XUGuspP3oC",
        "outputId": "395e1aec-a4bf-4045-d89d-86bd0e0ebd99"
      },
      "outputs": [
        {
          "data": {
            "text/plain": [
              "[('Manolo', 181), ('Andres', 178), ('Fernando', 180)]"
            ]
          },
          "execution_count": 51,
          "metadata": {},
          "output_type": "execute_result"
        }
      ],
      "source": [
        "nombres = [\"Manolo\", \"Andres\", \"Fernando\"]\n",
        "altura = [181, 178, 180]\n",
        "\n",
        "my_zip = list(zip(nombres, altura))\n",
        "my_zip"
      ]
    },
    {
      "attachments": {},
      "cell_type": "markdown",
      "metadata": {},
      "source": [
        "### 65. Generators"
      ]
    },
    {
      "attachments": {},
      "cell_type": "markdown",
      "metadata": {},
      "source": [
        "Suppose we want to iterate over a sequence of numbers, but in a special way that no loop provides. This can be solved with generators. To do this, the generator function should not return the value with `return`, but with `yield` so that it knows it needs to continue iterating."
      ]
    },
    {
      "cell_type": "code",
      "execution_count": 4,
      "metadata": {},
      "outputs": [
        {
          "name": "stdout",
          "output_type": "stream",
          "text": [
            "0\n",
            "3\n",
            "6\n",
            "9\n",
            "12\n",
            "15\n",
            "18\n"
          ]
        }
      ],
      "source": [
        "def iterador_custom(N):\n",
        "    for i in range (N):\n",
        "        if i % 3 == 0:\n",
        "            yield i\n",
        "\n",
        "generador = iterador_custom(20)\n",
        "for i in generador:\n",
        "    print(i)"
      ]
    },
    {
      "attachments": {},
      "cell_type": "markdown",
      "metadata": {},
      "source": [
        "We just created an iterator for numbers that are multiples of 3"
      ]
    },
    {
      "attachments": {},
      "cell_type": "markdown",
      "metadata": {},
      "source": [
        "### 666. High order functions"
      ]
    },
    {
      "attachments": {},
      "cell_type": "markdown",
      "metadata": {},
      "source": [
        "We can create functions that receive other functions as parameters, so the function that receives another function as a parameter is called a higher-order function (high order function). Let's see an example."
      ]
    },
    {
      "cell_type": "code",
      "execution_count": 4,
      "metadata": {},
      "outputs": [
        {
          "name": "stdout",
          "output_type": "stream",
          "text": [
            "8\n"
          ]
        }
      ],
      "source": [
        "def increment(x):\n",
        "    return x + 1\n",
        "\n",
        "def hof(f, x):\n",
        "    return 2*f(x)\n",
        "\n",
        "print(hof(increment, 3))"
      ]
    },
    {
      "cell_type": "markdown",
      "metadata": {
        "id": "2QtUt7g1iA7-"
      },
      "source": [
        "## 7. Classes and Objects"
      ]
    },
    {
      "cell_type": "markdown",
      "metadata": {
        "id": "5Wp5MErXiFtG"
      },
      "source": [
        "Python is an object-oriented programming language. Almost everything in Python is an object, with its attributes and methods.",
        "\n",
        "A class is like an object constructor or a \"blueprint\" for creating objects.",
        "\n",
        "To create a class, the reserved word `class` is used."
      ]
    },
    {
      "cell_type": "code",
      "execution_count": 52,
      "metadata": {
        "id": "8u7K7TwEs-yM"
      },
      "outputs": [],
      "source": [
        "class Clase:\n",
        "  variable = 'MaximoFN'"
      ]
    },
    {
      "cell_type": "markdown",
      "metadata": {
        "id": "mEVAoSdRtQJd"
      },
      "source": [
        "Once the class has been created, an object of that class can be created."
      ]
    },
    {
      "cell_type": "code",
      "execution_count": 53,
      "metadata": {
        "colab": {
          "base_uri": "https://localhost:8080/",
          "height": 35
        },
        "id": "RMTp1mkJtNew",
        "outputId": "1392a0cf-3a02-4f17-bf69-ada58b962122"
      },
      "outputs": [
        {
          "data": {
            "text/plain": [
              "'MaximoFN'"
            ]
          },
          "execution_count": 53,
          "metadata": {},
          "output_type": "execute_result"
        }
      ],
      "source": [
        "objeto = Clase()\n",
        "Clase.variable"
      ]
    },
    {
      "cell_type": "markdown",
      "metadata": {
        "id": "xjdBKjlutcOY"
      },
      "source": [
        "Normally, classes have an initialization function that runs when an object of the class is created. This function is called *dunder init* and is written as `__init__()`. The *dunder init* function must always be passed the variable `self`, which refers to the class itself, and then any additional variables you want to pass.",
        "\n",
        "This function is usually used to initialize the variables of the classes, or to execute the code that is needed when an object of the class is created."
      ]
    },
    {
      "cell_type": "code",
      "execution_count": 54,
      "metadata": {
        "colab": {
          "base_uri": "https://localhost:8080/"
        },
        "id": "hpnd8T9Lt_4Q",
        "outputId": "b349d501-d1d2-4151-d5d5-4f65e8ed156e"
      },
      "outputs": [
        {
          "name": "stdout",
          "output_type": "stream",
          "text": [
            "Miguel\n",
            "36\n"
          ]
        }
      ],
      "source": [
        "class Persona:\n",
        "  def __init__(self, nombre, edad):\n",
        "    self.nombre = nombre\n",
        "    self.edad = edad\n",
        "\n",
        "objeto_persona = Persona(\"Miguel\", 36)\n",
        "\n",
        "print(objeto_persona.nombre)\n",
        "print(objeto_persona.edad)"
      ]
    },
    {
      "cell_type": "markdown",
      "metadata": {
        "id": "OZ_TMTwhuxP4"
      },
      "source": [
        "In addition to the initial *dunder init* function, more functions can be created. These functions are called *methods* of the class. These *methods* always need to be passed the `self` variable."
      ]
    },
    {
      "cell_type": "code",
      "execution_count": 55,
      "metadata": {
        "colab": {
          "base_uri": "https://localhost:8080/"
        },
        "id": "bP3l3RtAu-iS",
        "outputId": "9da8f032-26e1-4300-f283-9ba4049fd45f"
      },
      "outputs": [
        {
          "name": "stdout",
          "output_type": "stream",
          "text": [
            "Hola mi nombre es Miguel y tengo 36 a\u00f1os\n"
          ]
        }
      ],
      "source": [
        "class Persona:\n",
        "  def __init__(self, nombre, edad):\n",
        "    self.nombre = nombre\n",
        "    self.edad = edad\n",
        "\n",
        "  def saludar(self):\n",
        "    print(f'Hola mi nombre es {self.nombre} y tengo {self.edad} a\u00f1os')\n",
        "\n",
        "objeto_persona = Persona(\"Miguel\", 36)\n",
        "\n",
        "objeto_persona.saludar()"
      ]
    },
    {
      "cell_type": "markdown",
      "metadata": {
        "id": "_1qO0OgXv8HR"
      },
      "source": [
        "The variable `self` does not have to be called `self`, it can have any name, but within each class it must always be the same. But by convention, `self` is usually used."
      ]
    },
    {
      "cell_type": "code",
      "execution_count": 56,
      "metadata": {
        "colab": {
          "base_uri": "https://localhost:8080/"
        },
        "id": "dzw_CBe1wH4Q",
        "outputId": "0d356bea-280b-41cc-bc79-f91d34899097"
      },
      "outputs": [
        {
          "name": "stdout",
          "output_type": "stream",
          "text": [
            "Hola mi nombre es Miguel y tengo 36 a\u00f1os\n"
          ]
        }
      ],
      "source": [
        "class Persona:\n",
        "  def __init__(yo_mismo, nombre, edad):\n",
        "    yo_mismo.nombre = nombre\n",
        "    yo_mismo.edad = edad\n",
        "\n",
        "  def saludar(yo_mismo):\n",
        "    print(f'Hola mi nombre es {yo_mismo.nombre} y tengo {yo_mismo.edad} a\u00f1os')\n",
        "\n",
        "objeto_persona = Persona(\"Miguel\", 36)\n",
        "\n",
        "objeto_persona.saludar()"
      ]
    },
    {
      "cell_type": "markdown",
      "metadata": {
        "id": "sRLdwQKEwVk7"
      },
      "source": [
        "Variables of objects can be modified."
      ]
    },
    {
      "cell_type": "code",
      "execution_count": 57,
      "metadata": {
        "colab": {
          "base_uri": "https://localhost:8080/"
        },
        "id": "lT-_6s4CwPLz",
        "outputId": "73a00297-a7c3-4015-bd29-af62c7754280"
      },
      "outputs": [
        {
          "name": "stdout",
          "output_type": "stream",
          "text": [
            "Hola mi nombre es Marta y tengo 36 a\u00f1os\n"
          ]
        }
      ],
      "source": [
        "objeto_persona.nombre = 'Marta'\n",
        "objeto_persona.saludar()"
      ]
    },
    {
      "cell_type": "markdown",
      "metadata": {
        "id": "SG891_e4wbtV"
      },
      "source": [
        "Even removing them"
      ]
    },
    {
      "cell_type": "code",
      "execution_count": 58,
      "metadata": {
        "id": "0YB_eAOwweDN"
      },
      "outputs": [],
      "source": [
        "del objeto_persona.nombre"
      ]
    },
    {
      "cell_type": "markdown",
      "metadata": {
        "id": "OCx92PMWxYN4"
      },
      "source": [
        "The entire object can also be deleted."
      ]
    },
    {
      "cell_type": "code",
      "execution_count": 59,
      "metadata": {
        "id": "9Qja1pntxa3X"
      },
      "outputs": [],
      "source": [
        "del objeto_persona"
      ]
    },
    {
      "cell_type": "markdown",
      "metadata": {
        "id": "YRbOlYSHxjIM"
      },
      "source": [
        "If, for example, we want to create the structure of the class but do not want to, for now, code the interior, we can use `pass`"
      ]
    },
    {
      "cell_type": "code",
      "execution_count": 60,
      "metadata": {
        "id": "qjRPnZnPxjIM"
      },
      "outputs": [],
      "source": [
        "class Persona:\n",
        "  pass\n",
        "\n",
        "objeto_persona = Persona()"
      ]
    },
    {
      "cell_type": "markdown",
      "metadata": {
        "id": "T1k1wZ7Xx8nm"
      },
      "source": [
        "### 7.1. Inheritance"
      ]
    },
    {
      "cell_type": "markdown",
      "metadata": {
        "id": "5xcwaUTwybE-"
      },
      "source": [
        "Inheritance allows us to define a class that inherits all the methods and properties from another class.",
        "\n",
        "The **parent class** is the class from which inheritance occurs, also called the **base class**.",
        "\n",
        "The **child class** is the class that inherits from another class, also called the **derived class**."
      ]
    },
    {
      "cell_type": "markdown",
      "metadata": {
        "id": "QBUcMYm0yqiF"
      },
      "source": [
        "We create a parent class"
      ]
    },
    {
      "cell_type": "code",
      "execution_count": 61,
      "metadata": {
        "colab": {
          "base_uri": "https://localhost:8080/"
        },
        "id": "pYGRlphtysc-",
        "outputId": "4850058a-bc29-478e-bae1-053fe9398f51"
      },
      "outputs": [
        {
          "name": "stdout",
          "output_type": "stream",
          "text": [
            "Me llamo Laura Perez\n"
          ]
        }
      ],
      "source": [
        "class Persona:\n",
        "  def __init__(self, nombre, apellido):\n",
        "    self.nombre = nombre\n",
        "    self.apellido = apellido\n",
        "\n",
        "  def imprimir_nombre(self):\n",
        "    print(f'Me llamo {self.nombre} {self.apellido}')\n",
        "\n",
        "objeto_padre = Persona(\"Laura\", \"Perez\")\n",
        "objeto_padre.imprimir_nombre()"
      ]
    },
    {
      "cell_type": "markdown",
      "metadata": {
        "id": "F4jVM-vZzMR_"
      },
      "source": [
        "To create the child class, you need to indicate between parentheses, when declaring the class, which class it inherits from."
      ]
    },
    {
      "cell_type": "code",
      "execution_count": 62,
      "metadata": {
        "id": "ok8qkdiHzTef"
      },
      "outputs": [],
      "source": [
        "class Estudiante(Persona):\n",
        "  pass"
      ]
    },
    {
      "cell_type": "markdown",
      "metadata": {
        "id": "FWW_gIkxzak0"
      },
      "source": [
        "And when creating the object of the child class, the parameters that the parent class needs are passed."
      ]
    },
    {
      "cell_type": "code",
      "execution_count": 63,
      "metadata": {
        "colab": {
          "base_uri": "https://localhost:8080/"
        },
        "id": "YqvocMKkzgPe",
        "outputId": "638b085a-adbe-4b05-81f4-a2024d108538"
      },
      "outputs": [
        {
          "name": "stdout",
          "output_type": "stream",
          "text": [
            "Me llamo Mariano Sanz\n"
          ]
        }
      ],
      "source": [
        "objeto_hijo = Estudiante(\"Mariano\", \"Sanz\")\n",
        "objeto_hijo.imprimir_nombre()"
      ]
    },
    {
      "cell_type": "markdown",
      "metadata": {
        "id": "hLhl8XSXz2Bj"
      },
      "source": [
        "So far, the child class has inherited the functions from the parent class, but we can modify them by overriding them. For example, by overriding the *dunder init* function.",
        "\n",
        "If the *dunder init* function is rewritten, if we want to call the *dunder init* function of the parent class, we need to call it.",
        "\n",
        "There are two ways to do this, one is through the name of the parent class. In this case, you have to pass it the `self` variable."
      ]
    },
    {
      "cell_type": "code",
      "execution_count": 64,
      "metadata": {
        "colab": {
          "base_uri": "https://localhost:8080/"
        },
        "id": "MpwOeFlK0VbI",
        "outputId": "75ef5ae0-fda8-4f8a-b8f1-2f11840c79c2"
      },
      "outputs": [
        {
          "name": "stdout",
          "output_type": "stream",
          "text": [
            "Me llamo Mariano Sanz\n"
          ]
        }
      ],
      "source": [
        "class Estudiante(Persona):\n",
        "  def __init__(self, nombre, apellido):\n",
        "    Persona.__init__(self, nombre, apellido)\n",
        "\n",
        "objeto_hijo = Estudiante(\"Mariano\", \"Sanz\")\n",
        "objeto_hijo.imprimir_nombre()"
      ]
    },
    {
      "cell_type": "markdown",
      "metadata": {
        "id": "kqpJggUR0kZu"
      },
      "source": [
        "Another way is through `super()`, in this case you don't need to pass the `self` variable."
      ]
    },
    {
      "cell_type": "code",
      "execution_count": 65,
      "metadata": {
        "colab": {
          "base_uri": "https://localhost:8080/"
        },
        "id": "AF45jz0w0x16",
        "outputId": "bbbd8a1d-00b4-4685-931a-d13d9d801a58"
      },
      "outputs": [
        {
          "name": "stdout",
          "output_type": "stream",
          "text": [
            "Me llamo Mariano Sanz\n"
          ]
        }
      ],
      "source": [
        "class Estudiante(Persona):\n",
        "  def __init__(self, nombre, apellido):\n",
        "    super().__init__(nombre, apellido)\n",
        "\n",
        "objeto_hijo = Estudiante(\"Mariano\", \"Sanz\")\n",
        "objeto_hijo.imprimir_nombre()"
      ]
    },
    {
      "cell_type": "markdown",
      "metadata": {
        "id": "KXvCmbAr0qvh"
      },
      "source": [
        "By modifying the functions, new code can be added."
      ]
    },
    {
      "cell_type": "code",
      "execution_count": 66,
      "metadata": {
        "colab": {
          "base_uri": "https://localhost:8080/"
        },
        "id": "L1KfYuBu1RLH",
        "outputId": "ac96ca98-21db-49e2-b81e-be525e368f26"
      },
      "outputs": [
        {
          "name": "stdout",
          "output_type": "stream",
          "text": [
            "Me llamo Mariano Sanz\n",
            "Estoy en el curso n\u00famero 4\n"
          ]
        }
      ],
      "source": [
        "class Estudiante(Persona):\n",
        "  def __init__(self, nombre, apellido, curso):\n",
        "    Persona.__init__(self, nombre, apellido)\n",
        "    self.curso = curso\n",
        "\n",
        "  def imprimir_nombre(self):\n",
        "    Persona.imprimir_nombre(self)\n",
        "    print(f'Estoy en el curso n\u00famero {self.curso}')\n",
        "\n",
        "objeto_hijo = Estudiante(\"Mariano\", \"Sanz\", 4)\n",
        "objeto_hijo.imprimir_nombre()"
      ]
    },
    {
      "cell_type": "markdown",
      "metadata": {
        "id": "J6PLe2_b2Dl7"
      },
      "source": [
        "Lastly, new methods can be added."
      ]
    },
    {
      "cell_type": "code",
      "execution_count": 68,
      "metadata": {
        "colab": {
          "base_uri": "https://localhost:8080/"
        },
        "id": "AigP3Gip2Hmn",
        "outputId": "6b04fb17-43c0-4fb4-b5a5-348b2a350707"
      },
      "outputs": [
        {
          "name": "stdout",
          "output_type": "stream",
          "text": [
            "Me llamo Mariano Sanz\n",
            "Estoy en el curso n\u00famero 4\n",
            "Soy un estudiante del curso n\u00famero 4\n"
          ]
        }
      ],
      "source": [
        "class Estudiante(Persona):\n",
        "  def __init__(self, nombre, apellido, curso):\n",
        "    Persona.__init__(self, nombre, apellido)\n",
        "    self.curso = curso\n",
        "\n",
        "  def imprimir_nombre(self):\n",
        "    Persona.imprimir_nombre(self)\n",
        "    print(f'Estoy en el curso n\u00famero {self.curso}')\n",
        "\n",
        "  def imprimir_estudiante(self):\n",
        "    print(f\"Soy un estudiante del curso n\u00famero {self.curso}\")\n",
        "\n",
        "objeto_hijo = Estudiante(\"Mariano\", \"Sanz\", 4)\n",
        "objeto_hijo.imprimir_nombre()\n",
        "objeto_hijo.imprimir_estudiante()"
      ]
    },
    {
      "attachments": {},
      "cell_type": "markdown",
      "metadata": {},
      "source": [
        "### 7.2. Operator Overloading"
      ]
    },
    {
      "attachments": {},
      "cell_type": "markdown",
      "metadata": {},
      "source": [
        "We can define basic operations, such as addition, between multiple objects of a class. For example, if we have a class that represents a vector, we can define addition and multiplication between objects of that class."
      ]
    },
    {
      "cell_type": "code",
      "execution_count": 1,
      "metadata": {},
      "outputs": [
        {
          "name": "stdout",
          "output_type": "stream",
          "text": [
            "Vector (4, 6)\n",
            "Vector (3, 8)\n"
          ]
        }
      ],
      "source": [
        "class Vector:\n",
        "    def __init__(self, x, y):\n",
        "        self.x = x\n",
        "        self.y = y\n",
        "    \n",
        "    def __add__(self, other):\n",
        "        return Vector(self.x + other.x, self.y + other.y)\n",
        "    \n",
        "    def __mul__(self, other):\n",
        "        return Vector(self.x * other.x, self.y * other.y)\n",
        "    \n",
        "    def __str__(self):\n",
        "        return f\"Vector ({self.x}, {self.y})\"\n",
        "\n",
        "v1 = Vector(1, 2)\n",
        "v2 = Vector(3, 4)\n",
        "print(v1 + v2)  # Vector (4, 6)\n",
        "print(v1 * v2)  # Vector (3, 8)"
      ]
    },
    {
      "attachments": {},
      "cell_type": "markdown",
      "metadata": {},
      "source": [
        "All possible operator overloads are:",
        "\n",
        " * `__add__(self, other)`: overloads the addition operator (`+`).",
        "* `__sub__(self, other)`: overloads the subtraction operator (`-`).",
        "* `__mul__(self, other)`: overloads the multiplication operator (`*`).",
        "* `__truediv__(self, other)`: overloads the division operator (`/`).",
        "* `__floordiv__(self, other)`: overloads the floor division operator (`//`).",
        " * `__mod__(self, other)`: overloads the modulo operator (`%`).",
        "* `__divmod__(self, other)`: overloads the `divmod()` function.",
        " * `__pow__(self, other)`: overloads the power operator (`**`).",
        " * `__lshift__(self, other)`: overloads the left shift operator (`<<`).",
        "* `__rshift__(self, other)`: overloads the right shift operator (`>>`).",
        "* `__and__(self, other)`: overloads the and operator (`&`).",
        "* `__or__(self, other)`: overloads the or operator (`|`).",
        "* `__xor__(self, other)`: overloads the xor operator (`^`).",
        " * `__lt__(self, other)`: overloads the less than comparison operator (`<`).",
        "* `__le__(self, other)`: overloads the less than or equal to comparison operator (`<=`).",
        "* `__eq__(self, other)`: overloads the equality comparison operator (`==`).",
        "* `__ne__(self, other)`: overloads the not equal to comparison operator (`!=`).",
        "* `__gt__(self, other)`: overloads the greater than comparison operator (`>`).",
        "* `__ge__(self, other)`: overloads the greater than or equal to comparison operator (`>=`).",
        "* `__neg__(self)`: overloads the negation operator (`-`).",
        "* `__pos__(self)`: overloads the unary positive operator (`+`).",
        " * `__abs__(self)`: overloads the `abs()` function.",
        "* `__invert__(self)`: overloads the inversion operator (`~`).",
        "* `__complex__(self)`: overloads the `complex()` function.",
        " * `__int__(self)`: overloads the `int()` function.",
        " * `__float__(self)`: overloads the `float()` function."
      ]
    },
    {
      "attachments": {},
      "cell_type": "markdown",
      "metadata": {},
      "source": [
        "### 7.3. Custom Iterators"
      ]
    },
    {
      "attachments": {},
      "cell_type": "markdown",
      "metadata": {},
      "source": [
        "As we have seen in section [2 (Python Data Types)](https://maximofn.com/introduccion-a-python/#2.-Tipos-de-datos-de-Python), there are some data types that can be iterated over. But we can create our own iterable class, as long as it has the functions `__len__` and `__getitem__`."
      ]
    },
    {
      "cell_type": "code",
      "execution_count": 3,
      "metadata": {},
      "outputs": [
        {
          "name": "stdout",
          "output_type": "stream",
          "text": [
            "10\n",
            "0\n",
            "1\n"
          ]
        }
      ],
      "source": [
        "class custonIterator:\n",
        "    def __init__(self, n):\n",
        "        self.items = [i for i in range(n)]\n",
        "    \n",
        "    def __len__(self):\n",
        "        return len(self.items)\n",
        "    \n",
        "    def __getitem__(self, index):\n",
        "        return self.items[index]\n",
        "\n",
        "iterator = custonIterator(10)\n",
        "print(len(iterator))  # 10\n",
        "print(iterator[0])  # 0\n",
        "print(iterator[1])  # 1"
      ]
    },
    {
      "attachments": {},
      "cell_type": "markdown",
      "metadata": {},
      "source": [
        "Now we can iterate over the object of our class with `for` loops, for example"
      ]
    },
    {
      "cell_type": "code",
      "execution_count": 5,
      "metadata": {},
      "outputs": [
        {
          "name": "stdout",
          "output_type": "stream",
          "text": [
            "0 1 2 3 4 5 6 7 8 9 "
          ]
        }
      ],
      "source": [
        "for i in iterator:\n",
        "    print(i, end=\" \")  # 0 1 2 3 4 5 6 7 8 9"
      ]
    },
    {
      "attachments": {},
      "cell_type": "markdown",
      "metadata": {},
      "source": [
        "### 7.4. Calling Objects as Functions"
      ]
    },
    {
      "attachments": {},
      "cell_type": "markdown",
      "metadata": {},
      "source": [
        "We might want to call an object of a function as if it were a class. This can be achieved by adding the `__call__` function to the class."
      ]
    },
    {
      "cell_type": "code",
      "execution_count": 7,
      "metadata": {},
      "outputs": [
        {
          "name": "stdout",
          "output_type": "stream",
          "text": [
            "8\n"
          ]
        }
      ],
      "source": [
        "class potencia:\n",
        "    def __init__(self, base):\n",
        "        self.base = base\n",
        "    \n",
        "    def __call__(self, potencia):\n",
        "        return self.base ** potencia\n",
        "    \n",
        "potencia_cuadrado = potencia(2)\n",
        "print(potencia_cuadrado(3))  # 8"
      ]
    },
    {
      "attachments": {},
      "cell_type": "markdown",
      "metadata": {},
      "source": [
        "### 7.5. Private Attributes and Functions"
      ]
    },
    {
      "attachments": {},
      "cell_type": "markdown",
      "metadata": {},
      "source": [
        "When we create a class, we can make some attributes or functions private so they cannot be accessed from outside the class. To do this, you need to add `__` before the attribute or method."
      ]
    },
    {
      "cell_type": "code",
      "execution_count": 8,
      "metadata": {},
      "outputs": [
        {
          "name": "stdout",
          "output_type": "stream",
          "text": [
            "Acceso al atributo publico: Soy p\u00fablico\n",
            "Acceso al atributo privado: \tNo se puede acceder al atributo privado\n",
            "Acceso al atributo privado mediante el accesor: Soy privado\n",
            "Llamada a la funci\u00f3n privada: \tNo se puede llamar a la funci\u00f3n privada\n",
            "Llamada a la funci\u00f3n p\u00fablica: Soy una funci\u00f3n privada\n"
          ]
        }
      ],
      "source": [
        "class Privados:\n",
        "    def __init__(self):\n",
        "        self.publico = \"Soy p\u00fablico\"\n",
        "        self.__privado = \"Soy privado\"\n",
        "    \n",
        "    def getPrivado(self):\n",
        "        return self.__privado\n",
        "    \n",
        "    def setPrivado(self, valor):\n",
        "        self.__privado = valor\n",
        "    \n",
        "    def __funcion_privada(self):\n",
        "        return \"Soy una funci\u00f3n privada\"\n",
        "    \n",
        "    def funcion_publica(self):\n",
        "        return self.__funcion_privada()\n",
        "\n",
        "privados = Privados()\n",
        "\n",
        "print(\"Acceso al atributo publico: \", end=\"\")\n",
        "try:\n",
        "    print(f\"{privados.publico}\")\n",
        "except:\n",
        "    print(\"\\tNo se puede acceder al atributo privado\")\n",
        "print(\"Acceso al atributo privado: \", end=\"\")\n",
        "try:\n",
        "    print(f\"{privados.__privado}\")\n",
        "except:\n",
        "    print(\"\\tNo se puede acceder al atributo privado\")\n",
        "print(\"Acceso al atributo privado mediante el accesor: \", end=\"\")\n",
        "try:\n",
        "    print(f\"{privados.getPrivado()}\")\n",
        "except:\n",
        "    print(\"\\tNo se puede acceder al atributo privado mediante el accesor\")\n",
        "print(\"Llamada a la funci\u00f3n privada: \", end=\"\")\n",
        "try:\n",
        "    print(f\"{privados.__funcion_privada()}\")\n",
        "except:\n",
        "    print(\"\\tNo se puede llamar a la funci\u00f3n privada\")\n",
        "print(\"Llamada a la funci\u00f3n p\u00fablica: \", end=\"\")\n",
        "try:\n",
        "    print(f\"{privados.funcion_publica()}\")\n",
        "except:\n",
        "    print(\"\\tNo se puede llamar a la funci\u00f3n p\u00fablica\")"
      ]
    },
    {
      "cell_type": "markdown",
      "metadata": {
        "id": "bM0Kf9Cxo_Qt"
      },
      "source": [
        "## 8. Iterators"
      ]
    },
    {
      "cell_type": "markdown",
      "metadata": {
        "id": "u7Ba3ITcpB97"
      },
      "source": [
        "An iterator is an object that contains a countable number of values.",
        "\n",
        "An iterator is an object over which you can iterate, meaning you can traverse all the elements.",
        "\n",
        "Technically, in Python, an iterator is an object that implements the iterator protocol, which consists of the methods __iter__() and __next__()."
      ]
    },
    {
      "cell_type": "markdown",
      "metadata": {
        "id": "xdLfGIulpW6F"
      },
      "source": [
        "`Lists`, `tuples`, `dictionaries`, and `sets` are all iterable objects. They are iterable containers from which you can get an iterator.",
        "\n",
        "All these objects have an `iter()` method that is used to get an iterator:"
      ]
    },
    {
      "cell_type": "code",
      "execution_count": 69,
      "metadata": {
        "colab": {
          "base_uri": "https://localhost:8080/"
        },
        "id": "2pcsVjVFphjp",
        "outputId": "ed9e5dcd-2777-4fcf-92d8-68deccfcb08c"
      },
      "outputs": [
        {
          "name": "stdout",
          "output_type": "stream",
          "text": [
            "manzana\n",
            "pl\u00e1tano\n",
            "cereza\n"
          ]
        }
      ],
      "source": [
        "tupla = (\"manzana\", \"pl\u00e1tano\", \"cereza\")\n",
        "iterable = iter(tupla)\n",
        "\n",
        "print(next(iterable))\n",
        "print(next(iterable))\n",
        "print(next(iterable))"
      ]
    },
    {
      "cell_type": "code",
      "execution_count": 70,
      "metadata": {
        "colab": {
          "base_uri": "https://localhost:8080/"
        },
        "id": "HJDt-FLYqoDJ",
        "outputId": "7f80ec45-fc3e-43f9-a4e0-f98465cc0394"
      },
      "outputs": [
        {
          "name": "stdout",
          "output_type": "stream",
          "text": [
            "p l \u00e1 t a n o "
          ]
        }
      ],
      "source": [
        "string = \"pl\u00e1tano\"\n",
        "iterable = iter(string)\n",
        "\n",
        "print(next(iterable), end=' ')\n",
        "print(next(iterable), end=' ')\n",
        "print(next(iterable), end=' ')\n",
        "print(next(iterable), end=' ')\n",
        "print(next(iterable), end=' ')\n",
        "print(next(iterable), end=' ')\n",
        "print(next(iterable), end=' ')"
      ]
    },
    {
      "cell_type": "markdown",
      "metadata": {
        "id": "NEogihP2rjqY"
      },
      "source": [
        "The `for` loop actually creates an iterator object and calls the `next()` method on each iteration."
      ]
    },
    {
      "cell_type": "code",
      "execution_count": 71,
      "metadata": {
        "colab": {
          "base_uri": "https://localhost:8080/"
        },
        "id": "2eYV8RZgrp04",
        "outputId": "385b75fb-a950-4600-e3d5-8fd58523cec0"
      },
      "outputs": [
        {
          "name": "stdout",
          "output_type": "stream",
          "text": [
            "manzana\n",
            "pl\u00e1tano\n",
            "cereza\n"
          ]
        }
      ],
      "source": [
        "tupla = (\"manzana\", \"pl\u00e1tano\", \"cereza\")\n",
        "\n",
        "for x in tupla:\n",
        "  print(x)"
      ]
    },
    {
      "cell_type": "code",
      "execution_count": 72,
      "metadata": {
        "colab": {
          "base_uri": "https://localhost:8080/"
        },
        "id": "-Mu2T20Pr3b2",
        "outputId": "1df6b399-31c5-4fc4-f8af-d86c1060933c"
      },
      "outputs": [
        {
          "name": "stdout",
          "output_type": "stream",
          "text": [
            "p l \u00e1 t a n o "
          ]
        }
      ],
      "source": [
        "string = \"pl\u00e1tano\"\n",
        "\n",
        "for x in string:\n",
        "  print(x, end=' ')"
      ]
    },
    {
      "cell_type": "markdown",
      "metadata": {
        "id": "DTyBSxv8sFml"
      },
      "source": [
        "### 8.1. Create an iterator object"
      ]
    },
    {
      "cell_type": "markdown",
      "metadata": {
        "id": "rs4fNjqqsIfg"
      },
      "source": [
        "To create an object/class as an iterator, you need to implement the methods `__iter__()` and `__next__()`."
      ]
    },
    {
      "cell_type": "code",
      "execution_count": 73,
      "metadata": {
        "colab": {
          "base_uri": "https://localhost:8080/"
        },
        "id": "zQf5Gji3seLE",
        "outputId": "3d16c1c9-ee10-49aa-8cf9-d701e6f056ad"
      },
      "outputs": [
        {
          "name": "stdout",
          "output_type": "stream",
          "text": [
            "1 2 3 4 5 "
          ]
        }
      ],
      "source": [
        "class Numeros:\n",
        "  def __iter__(self):\n",
        "    self.a = 1\n",
        "    return self\n",
        "\n",
        "  def __next__(self):\n",
        "    x = self.a\n",
        "    self.a += 1\n",
        "    return x\n",
        "\n",
        "objeto_iterador = Numeros()\n",
        "iterador = iter(objeto_iterador)\n",
        "\n",
        "print(next(iterador), end=' ')\n",
        "print(next(iterador), end=' ')\n",
        "print(next(iterador), end=' ')\n",
        "print(next(iterador), end=' ')\n",
        "print(next(iterador), end=' ')"
      ]
    },
    {
      "cell_type": "markdown",
      "metadata": {
        "id": "Buj1Nqs2s1du"
      },
      "source": [
        "The previous example would continue indefinitely if it had enough calls to `next()`, or if it were used in a `for` loop.",
        "\n",
        "To prevent the iteration from continuing forever, we can use the `StopIteration` statement.",
        "\n",
        "In the `__next__()` method, we can add a termination condition to raise an error if the iteration is performed a specific number of times:"
      ]
    },
    {
      "cell_type": "code",
      "execution_count": 74,
      "metadata": {
        "colab": {
          "base_uri": "https://localhost:8080/"
        },
        "id": "Ob3klF46tHhb",
        "outputId": "1d17b6a0-ea81-46ea-b4d6-5cfe1de8e07d"
      },
      "outputs": [
        {
          "name": "stdout",
          "output_type": "stream",
          "text": [
            "1 2 3 4 5 6 7 8 9 10 11 12 13 14 15 16 17 18 19 20 "
          ]
        }
      ],
      "source": [
        "class Numeros:\n",
        "  def __iter__(self):\n",
        "    self.a = 1\n",
        "    return self\n",
        "\n",
        "  def __next__(self):\n",
        "    if self.a <= 20:\n",
        "      x = self.a\n",
        "      self.a += 1\n",
        "      return x\n",
        "    else:\n",
        "      raise StopIteration\n",
        "\n",
        "objeto_iterador = Numeros()\n",
        "iterador = iter(objeto_iterador)\n",
        "\n",
        "for x in iterador:\n",
        "  print(x, end=' ')"
      ]
    },
    {
      "cell_type": "markdown",
      "metadata": {
        "id": "Q_eK8LCyq_ha"
      },
      "source": [
        "### 8.2. Iterating getting the index and value"
      ]
    },
    {
      "cell_type": "markdown",
      "metadata": {
        "id": "Wt6EJApCrGYv"
      },
      "source": [
        "We can iterate over an iterable object, obtaining its index and value in each iteration using the `enumerate()` method."
      ]
    },
    {
      "cell_type": "code",
      "execution_count": 75,
      "metadata": {
        "colab": {
          "base_uri": "https://localhost:8080/"
        },
        "id": "_ULnFhQ-rVjT",
        "outputId": "fb6ab7d1-119b-4946-fdb1-08c1e9556983"
      },
      "outputs": [
        {
          "name": "stdout",
          "output_type": "stream",
          "text": [
            "En la posici\u00f3n 0, est\u00e1 el caracter M\n",
            "En la posici\u00f3n 1, est\u00e1 el caracter a\n",
            "En la posici\u00f3n 2, est\u00e1 el caracter x\n",
            "En la posici\u00f3n 3, est\u00e1 el caracter i\n",
            "En la posici\u00f3n 4, est\u00e1 el caracter m\n",
            "En la posici\u00f3n 5, est\u00e1 el caracter o\n",
            "En la posici\u00f3n 6, est\u00e1 el caracter F\n",
            "En la posici\u00f3n 7, est\u00e1 el caracter N\n"
          ]
        }
      ],
      "source": [
        "string = \"MaximoFN\"\n",
        "\n",
        "for index, valor in enumerate(string):\n",
        "  print(f\"En la posici\u00f3n {index}, est\u00e1 el caracter {valor}\")"
      ]
    },
    {
      "cell_type": "markdown",
      "metadata": {
        "id": "LuziTDxKrmOE"
      },
      "source": [
        "### 8.3. Iterating simultaneously over two iterable objects"
      ]
    },
    {
      "cell_type": "markdown",
      "metadata": {
        "id": "CrLhCw18rqer"
      },
      "source": [
        "If we have two iterable objects of the same length, we can iterate over both at the same time using the `zip()` method."
      ]
    },
    {
      "cell_type": "code",
      "execution_count": 78,
      "metadata": {
        "colab": {
          "base_uri": "https://localhost:8080/"
        },
        "id": "nwNMZGg2rldH",
        "outputId": "6f6a831b-4fc2-43cb-8d11-78cf1a401666"
      },
      "outputs": [
        {
          "name": "stdout",
          "output_type": "stream",
          "text": [
            "En el primer string hay M, en el segundo string hay P\n",
            "En el primer string hay a, en el segundo string hay y\n",
            "En el primer string hay x, en el segundo string hay t\n",
            "En el primer string hay i, en el segundo string hay h\n",
            "En el primer string hay m, en el segundo string hay o\n",
            "En el primer string hay o, en el segundo string hay n\n",
            "En el primer string hay F, en el segundo string hay P\n",
            "En el primer string hay N, en el segundo string hay o\n",
            "En el primer string hay _, en el segundo string hay s\n",
            "En el primer string hay _, en el segundo string hay t\n"
          ]
        }
      ],
      "source": [
        "string1 = 'MaximoFN__'\n",
        "string2 = 'PythonPost'\n",
        "\n",
        "if len(string1) == len(string2):\n",
        "  for valor1, valor2 in zip(string1, string2):\n",
        "    print(f\"En el primer string hay {valor1}, en el segundo string hay {valor2}\")"
      ]
    },
    {
      "cell_type": "markdown",
      "metadata": {
        "id": "ChItoJ14uJLD"
      },
      "source": [
        "## 9. Variable Scope"
      ]
    },
    {
      "cell_type": "markdown",
      "metadata": {
        "id": "jLQ0CzfMdM8e"
      },
      "source": [
        "A variable is only available within the region where it is created. This is called *scope*."
      ]
    },
    {
      "cell_type": "markdown",
      "metadata": {
        "id": "nD3lvw_KdUto"
      },
      "source": [
        "### 9.1. Local Scope"
      ]
    },
    {
      "cell_type": "markdown",
      "metadata": {
        "id": "jjjoC2BXdXPL"
      },
      "source": [
        "A variable created within a function belongs to the local scope of that function and can only be used within that function."
      ]
    },
    {
      "cell_type": "code",
      "execution_count": 79,
      "metadata": {
        "colab": {
          "base_uri": "https://localhost:8080/"
        },
        "id": "ytvvhxaPdbC_",
        "outputId": "bbd69c45-196c-4fb5-8814-19cd09f30c21"
      },
      "outputs": [
        {
          "name": "stdout",
          "output_type": "stream",
          "text": [
            "300\n"
          ]
        }
      ],
      "source": [
        "def funcion():\n",
        "  x = 300\n",
        "  print(x)\n",
        "\n",
        "funcion()"
      ]
    },
    {
      "cell_type": "markdown",
      "metadata": {
        "id": "QLS1FiPKdkgC"
      },
      "source": [
        "The variable `x` is not available outside the function, but it is available to any function within it."
      ]
    },
    {
      "cell_type": "code",
      "execution_count": 80,
      "metadata": {
        "colab": {
          "base_uri": "https://localhost:8080/"
        },
        "id": "tGTJnLUgdo9L",
        "outputId": "a5526610-b5c2-411d-a898-cecbe9501543"
      },
      "outputs": [
        {
          "name": "stdout",
          "output_type": "stream",
          "text": [
            "300\n"
          ]
        }
      ],
      "source": [
        "def funcion():\n",
        "  x = 300\n",
        "  def funcion_interna():\n",
        "    print(x)\n",
        "  funcion_interna()\n",
        "\n",
        "funcion()"
      ]
    },
    {
      "cell_type": "markdown",
      "metadata": {
        "id": "mZcSveaFdzjE"
      },
      "source": [
        "### 9.2. Global Scope"
      ]
    },
    {
      "cell_type": "markdown",
      "metadata": {
        "id": "B5ncU6had1Va"
      },
      "source": [
        "A variable created in the main body of the Python code is a global variable and belongs to the global scope.",
        "\n",
        "Global variables are available from any scope, global and local."
      ]
    },
    {
      "cell_type": "code",
      "execution_count": 81,
      "metadata": {
        "colab": {
          "base_uri": "https://localhost:8080/"
        },
        "id": "OuQW6Abdd7aw",
        "outputId": "19f49576-68db-4157-b31e-0caf98db5bad"
      },
      "outputs": [
        {
          "name": "stdout",
          "output_type": "stream",
          "text": [
            "\u00c1mbito local: 300\n",
            "\u00c1mbito global: 300\n"
          ]
        }
      ],
      "source": [
        "x = 300\n",
        "\n",
        "def funcion():\n",
        "  print(f'\u00c1mbito local: {x}')\n",
        "\n",
        "funcion()\n",
        "\n",
        "print(f'\u00c1mbito global: {x}')"
      ]
    },
    {
      "cell_type": "markdown",
      "metadata": {
        "id": "xr-cxf0TePEp"
      },
      "source": [
        "If two variables are created, one global and one local, both with the same name, Python will create them as two distinct variables."
      ]
    },
    {
      "cell_type": "code",
      "execution_count": 82,
      "metadata": {
        "colab": {
          "base_uri": "https://localhost:8080/"
        },
        "id": "OoQ5LRdCeWQJ",
        "outputId": "664584c5-6987-4be7-c949-5aec25a2e92f"
      },
      "outputs": [
        {
          "name": "stdout",
          "output_type": "stream",
          "text": [
            "Variable local: 200\n",
            "Variable global: 300\n"
          ]
        }
      ],
      "source": [
        "x = 300\n",
        "\n",
        "def funcion():\n",
        "  x = 200\n",
        "  print(f'Variable local: {x}')\n",
        "\n",
        "funcion()\n",
        "\n",
        "print(f'Variable global: {x}')"
      ]
    },
    {
      "cell_type": "markdown",
      "metadata": {
        "id": "4XW-fKAqekWk"
      },
      "source": [
        "If a global variable needs to be created, but it is declared in the local scope, the `global` keyword can be used.",
        "\n",
        "The keyword `global` makes the variable global."
      ]
    },
    {
      "cell_type": "code",
      "execution_count": 83,
      "metadata": {
        "colab": {
          "base_uri": "https://localhost:8080/"
        },
        "id": "Yz4XH_XCeuvG",
        "outputId": "807c9b51-7be0-468b-c60b-c03ff3cfa635"
      },
      "outputs": [
        {
          "name": "stdout",
          "output_type": "stream",
          "text": [
            "Variable global: 300\n"
          ]
        }
      ],
      "source": [
        "def funcion():\n",
        "  global x\n",
        "  x = 300\n",
        "\n",
        "funcion()\n",
        "\n",
        "print(f'Variable global: {x}')"
      ]
    },
    {
      "cell_type": "markdown",
      "metadata": {
        "id": "MnidVps1e4aW"
      },
      "source": [
        "In addition, the use of the `global` keyword allows making a change to a global variable within a function."
      ]
    },
    {
      "cell_type": "code",
      "execution_count": 84,
      "metadata": {
        "colab": {
          "base_uri": "https://localhost:8080/"
        },
        "id": "aXRWze-8fBGe",
        "outputId": "4bb0acf7-fdc6-49df-8da9-68a11e55344a"
      },
      "outputs": [
        {
          "name": "stdout",
          "output_type": "stream",
          "text": [
            "Variable global: 200\n"
          ]
        }
      ],
      "source": [
        "x = 300\n",
        "\n",
        "def funcion():\n",
        "  global x\n",
        "  x = 200\n",
        "\n",
        "funcion()\n",
        "\n",
        "print(f'Variable global: {x}')"
      ]
    },
    {
      "cell_type": "markdown",
      "metadata": {
        "id": "tJPg51QvuMlU"
      },
      "source": [
        "## 10. Modules"
      ]
    },
    {
      "cell_type": "markdown",
      "metadata": {
        "id": "yf23zam7t-Lg"
      },
      "source": [
        "A module is a file that contains a set of functions that you want to include in your application.",
        "\n",
        "To create a module, simply save the code you want in a file with the file extension `.py`"
      ]
    },
    {
      "cell_type": "markdown",
      "metadata": {
        "id": "bodokLxQum9n"
      },
      "source": [
        "> Tip: In Jupyter notebooks (Colab is an online Jupyter notebook) if we write the character `!` before a command we can execute terminal commands"
      ]
    },
    {
      "cell_type": "markdown",
      "metadata": {
        "id": "f4MUnTfjveqG"
      },
      "source": [
        "First, let's see which directory we are in. For that, we use the `pwd` command (*print working directory*)."
      ]
    },
    {
      "cell_type": "code",
      "execution_count": 85,
      "metadata": {
        "colab": {
          "base_uri": "https://localhost:8080/"
        },
        "id": "XiIYMT1auMZA",
        "outputId": "6b781b64-d980-45b9-a179-aabaebda92e1"
      },
      "outputs": [
        {
          "name": "stdout",
          "output_type": "stream",
          "text": [
            "/home/wallabot/Documentos/web/portafolio/posts\n"
          ]
        }
      ],
      "source": [
        "!pwd"
      ]
    },
    {
      "cell_type": "markdown",
      "metadata": {},
      "source": [
        "Let's create a folder to create our modules with the `mkdir` (make directory) command."
      ]
    },
    {
      "cell_type": "code",
      "execution_count": 87,
      "metadata": {},
      "outputs": [],
      "source": [
        "!mkdir introduccion_python"
      ]
    },
    {
      "cell_type": "markdown",
      "metadata": {
        "id": "I2cPPqW_vjSM"
      },
      "source": [
        "Let's see what files are in our folder. We will do this using the `ls` (*list*) command."
      ]
    },
    {
      "cell_type": "code",
      "execution_count": 88,
      "metadata": {
        "colab": {
          "base_uri": "https://localhost:8080/"
        },
        "id": "QvfMOwOWv9yt",
        "outputId": "bb9da761-9f69-4cf2-b58d-f531c03bf342"
      },
      "outputs": [],
      "source": [
        "!ls introduccion_python"
      ]
    },
    {
      "cell_type": "markdown",
      "metadata": {
        "id": "XM9QMP40wAO7"
      },
      "source": [
        "We see that it is empty, so we create a new `.py` file in which we are going to create our module."
      ]
    },
    {
      "cell_type": "code",
      "execution_count": 2,
      "metadata": {
        "colab": {
          "base_uri": "https://localhost:8080/"
        },
        "id": "lDigUFvzxJ7w",
        "outputId": "08260130-6b75-4926-b57b-b35868e5f3df"
      },
      "outputs": [
        {
          "name": "stdout",
          "output_type": "stream",
          "text": [
            "Writing introduccion_python/modulo1.py\n"
          ]
        }
      ],
      "source": [
        "%%writefile introduccion_python/modulo1.py\n",
        "\n",
        "def funcion_del_modulo(nombre):\n",
        "  print(\"Hola, \" + nombre)"
      ]
    },
    {
      "cell_type": "markdown",
      "metadata": {
        "id": "ycgmlAXYz5kB"
      },
      "source": [
        "We check again what files are in our folder"
      ]
    },
    {
      "cell_type": "code",
      "execution_count": 3,
      "metadata": {
        "colab": {
          "base_uri": "https://localhost:8080/"
        },
        "id": "lqNjN4P2z9xD",
        "outputId": "40c3b84d-a0cf-4db9-b346-8547414fed41"
      },
      "outputs": [
        {
          "name": "stdout",
          "output_type": "stream",
          "text": [
            "modulo1.py  __pycache__\n"
          ]
        }
      ],
      "source": [
        "!ls introduccion_python"
      ]
    },
    {
      "cell_type": "markdown",
      "metadata": {
        "id": "xL72_ziE0BHa"
      },
      "source": [
        "We see that a file `modulo1.py` has been created. We can now use it."
      ]
    },
    {
      "cell_type": "markdown",
      "metadata": {
        "id": "FXXq5RXm0Kim"
      },
      "source": [
        "To use an external module, you have to use the `import` keyword. To use the functions of the module, you have to put first the name of the module, a `.` and then the name of the function you want to use."
      ]
    },
    {
      "cell_type": "code",
      "execution_count": 4,
      "metadata": {
        "colab": {
          "base_uri": "https://localhost:8080/"
        },
        "id": "eCBEx9j-0rgT",
        "outputId": "4d4a3234-f746-4eca-f037-3c62178419d1"
      },
      "outputs": [
        {
          "name": "stdout",
          "output_type": "stream",
          "text": [
            "Hola, MaximoFN\n"
          ]
        }
      ],
      "source": [
        "import introduccion_python.modulo1\n",
        "\n",
        "introduccion_python.modulo1.funcion_del_modulo('MaximoFN')"
      ]
    },
    {
      "cell_type": "markdown",
      "metadata": {
        "id": "pcEpuVJB1H0k"
      },
      "source": [
        "If we want our module to have a specific name within our code, we can use the word `as`"
      ]
    },
    {
      "cell_type": "code",
      "execution_count": 5,
      "metadata": {
        "colab": {
          "base_uri": "https://localhost:8080/"
        },
        "id": "WvYwZXaR1bkE",
        "outputId": "da2386b8-6b7e-4527-8c4d-fa99c01918b7"
      },
      "outputs": [
        {
          "name": "stdout",
          "output_type": "stream",
          "text": [
            "Hola, MaximoFN\n"
          ]
        }
      ],
      "source": [
        "import introduccion_python.modulo1 as mod1\n",
        "\n",
        "mod1.funcion_del_modulo('MaximoFN')"
      ]
    },
    {
      "cell_type": "markdown",
      "metadata": {
        "id": "F8cHWotd4tAb"
      },
      "source": [
        "If the module has several functions, but we only want to import one, we can do this using the `from` and `import` keywords. The form would be",
        "\n",
        "```\n",
        "from <module> import <function>",
        "```\n",
        "\n",
        "In this case, there is no need to specify the module name when calling the function."
      ]
    },
    {
      "cell_type": "code",
      "execution_count": 6,
      "metadata": {
        "colab": {
          "base_uri": "https://localhost:8080/"
        },
        "id": "QG7YdKOL5c_x",
        "outputId": "def97bb2-024b-47f4-f4a8-9e8bd8ca1663"
      },
      "outputs": [
        {
          "name": "stdout",
          "output_type": "stream",
          "text": [
            "Writing introduccion_python/modulo2.py\n"
          ]
        }
      ],
      "source": [
        "%%writefile introduccion_python/modulo2.py\n",
        "\n",
        "def funcion1_del_modulo(nombre):\n",
        "  print(\"Hola, \" + nombre + \", funcion 1\")\n",
        "\n",
        "def funcion2_del_modulo(nombre):\n",
        "  print(\"Hola, \" + nombre + \", funcion 2\")\n",
        "\n",
        "def funcion3_del_modulo(nombre):\n",
        "  print(\"Hola, \" + nombre + \", funcion 3\")"
      ]
    },
    {
      "cell_type": "code",
      "execution_count": 7,
      "metadata": {
        "colab": {
          "base_uri": "https://localhost:8080/"
        },
        "id": "NqDFiqTQ7GH2",
        "outputId": "1f7da96c-f04f-4d5a-86b2-a02c03ba87ca"
      },
      "outputs": [
        {
          "name": "stdout",
          "output_type": "stream",
          "text": [
            "Hola, MaximoFN, funcion 2\n"
          ]
        }
      ],
      "source": [
        "from introduccion_python.modulo2 import funcion2_del_modulo\n",
        "\n",
        "funcion2_del_modulo('MaximoFN')"
      ]
    },
    {
      "cell_type": "markdown",
      "metadata": {
        "id": "oZHJEo131ibE"
      },
      "source": [
        "We can not only use modules created by us, but also installed modules (`built-in modules`).",
        "\n",
        "For example, we can use the `platform` module"
      ]
    },
    {
      "cell_type": "code",
      "execution_count": 8,
      "metadata": {
        "colab": {
          "base_uri": "https://localhost:8080/",
          "height": 35
        },
        "id": "2JsbuJSE1q6y",
        "outputId": "f321713c-cd7b-4685-91af-14b73297089a"
      },
      "outputs": [
        {
          "data": {
            "text/plain": [
              "'Linux'"
            ]
          },
          "execution_count": 8,
          "metadata": {},
          "output_type": "execute_result"
        }
      ],
      "source": [
        "import platform\n",
        "\n",
        "x = platform.system()\n",
        "x"
      ]
    },
    {
      "attachments": {},
      "cell_type": "markdown",
      "metadata": {},
      "source": [
        "### 10.1. Entry points: files as modules and not as scripts"
      ]
    },
    {
      "attachments": {},
      "cell_type": "markdown",
      "metadata": {},
      "source": [
        "Now let's create a file called `modulo3.py`"
      ]
    },
    {
      "cell_type": "code",
      "execution_count": 1,
      "metadata": {},
      "outputs": [
        {
          "name": "stdout",
          "output_type": "stream",
          "text": [
            "Overwriting introduccion_python/modulo3.py\n"
          ]
        }
      ],
      "source": [
        "%%writefile introduccion_python/modulo3.py\n",
        "\n",
        "print(\"Hola desde modulo3\")\n",
        "\n",
        "def funcion_del_modulo():\n",
        "  return \"Hola desde la funci\u00f3n del modulo3\""
      ]
    },
    {
      "attachments": {},
      "cell_type": "markdown",
      "metadata": {},
      "source": [
        "If we now import `modulo3.py` to use the `funcion_del_modulo` function, let's see what happens."
      ]
    },
    {
      "cell_type": "code",
      "execution_count": 2,
      "metadata": {},
      "outputs": [
        {
          "name": "stdout",
          "output_type": "stream",
          "text": [
            "Hola desde modulo3\n",
            "Hola desde la funci\u00f3n del modulo3\n"
          ]
        }
      ],
      "source": [
        "import introduccion_python.modulo3 as mod3\n",
        "\n",
        "print(mod3.funcion_del_modulo())"
      ]
    },
    {
      "attachments": {},
      "cell_type": "markdown",
      "metadata": {},
      "source": [
        "We see that the `print` from `modulo3.py` has been executed, but that's not what we wanted. This is because when the file is named `modulo3.py`, Python runs it as a script."
      ]
    },
    {
      "attachments": {},
      "cell_type": "markdown",
      "metadata": {},
      "source": [
        "But what if we want to run `introduccion_python/main.py` as a script?"
      ]
    },
    {
      "cell_type": "code",
      "execution_count": 4,
      "metadata": {},
      "outputs": [
        {
          "name": "stdout",
          "output_type": "stream",
          "text": [
            "Hola desde modulo3\n"
          ]
        }
      ],
      "source": [
        "!python introduccion_python/modulo3.py"
      ]
    },
    {
      "attachments": {},
      "cell_type": "markdown",
      "metadata": {},
      "source": [
        "We see that only the `print` is executed, but not the function `funcion_del_modulo`. If we want the duality of functionality of the file `modulo3.py`, that is, to be able to import it from another module without it executing as a script and to run it standalone and execute the function we want, we use an `entry point`. That is, using the condition `if __name__ == '__main__':` and then specifying what we want to execute. Let's see this with an example, I will rewrite the `modulo3.py` file."
      ]
    },
    {
      "cell_type": "code",
      "execution_count": 5,
      "metadata": {},
      "outputs": [
        {
          "name": "stdout",
          "output_type": "stream",
          "text": [
            "Overwriting introduccion_python/modulo3.py\n"
          ]
        }
      ],
      "source": [
        "%%writefile introduccion_python/modulo3.py\n",
        "\n",
        "print(\"Hola desde modulo3\")\n",
        "\n",
        "def funcion_del_modulo():\n",
        "  return \"Hola desde la funci\u00f3n del modulo3\"\n",
        "\n",
        "if __name__ == \"__main__\":\n",
        "  funcion_del_modulo()"
      ]
    },
    {
      "attachments": {},
      "cell_type": "markdown",
      "metadata": {},
      "source": [
        "If I now call `main.py` from another module, the `print` will no longer be executed."
      ]
    },
    {
      "cell_type": "code",
      "execution_count": 6,
      "metadata": {},
      "outputs": [
        {
          "name": "stdout",
          "output_type": "stream",
          "text": [
            "Hola desde la funci\u00f3n del modulo3\n"
          ]
        }
      ],
      "source": [
        "import introduccion_python.modulo3 as mod3\n",
        "\n",
        "print(mod3.funcion_del_modulo())"
      ]
    },
    {
      "attachments": {},
      "cell_type": "markdown",
      "metadata": {},
      "source": [
        "And if I run it as a standalone script, the function `funcion_del_modulo` will be executed."
      ]
    },
    {
      "cell_type": "code",
      "execution_count": 8,
      "metadata": {},
      "outputs": [
        {
          "name": "stdout",
          "output_type": "stream",
          "text": [
            "Hola desde modulo3\n"
          ]
        }
      ],
      "source": [
        "!python introduccion_python/modulo3.py"
      ]
    },
    {
      "attachments": {},
      "cell_type": "markdown",
      "metadata": {},
      "source": [
        "## 11. Packages"
      ]
    },
    {
      "attachments": {},
      "cell_type": "markdown",
      "metadata": {},
      "source": [
        "In Python we can create our own packages. To do this, we create a folder with the package name."
      ]
    },
    {
      "cell_type": "code",
      "execution_count": 10,
      "metadata": {},
      "outputs": [],
      "source": [
        "!mkdir mi_paquete_de_python"
      ]
    },
    {
      "attachments": {},
      "cell_type": "markdown",
      "metadata": {},
      "source": [
        "We now create two files inside"
      ]
    },
    {
      "cell_type": "code",
      "execution_count": 11,
      "metadata": {},
      "outputs": [],
      "source": [
        "!touch mi_paquete_de_python/modulo1.py mi_paquete_de_python/modulo2.py"
      ]
    },
    {
      "attachments": {},
      "cell_type": "markdown",
      "metadata": {},
      "source": [
        "And we write in them"
      ]
    },
    {
      "cell_type": "code",
      "execution_count": 12,
      "metadata": {},
      "outputs": [
        {
          "name": "stdout",
          "output_type": "stream",
          "text": [
            "Overwriting mi_paquete_de_python/modulo1.py\n"
          ]
        }
      ],
      "source": [
        "%%writefile mi_paquete_de_python/modulo1.py\n",
        "\n",
        "def funcion1():\n",
        "  print(\"Hola desde la funci\u00f3n 1 del m\u00f3dulo 1\")\n",
        "\n",
        "def funcion2():\n",
        "    print(\"Hola desde la funci\u00f3n 2 del m\u00f3dulo 1\")"
      ]
    },
    {
      "cell_type": "code",
      "execution_count": 13,
      "metadata": {},
      "outputs": [
        {
          "name": "stdout",
          "output_type": "stream",
          "text": [
            "Overwriting mi_paquete_de_python/modulo2.py\n"
          ]
        }
      ],
      "source": [
        "%%writefile mi_paquete_de_python/modulo2.py\n",
        "\n",
        "def funcion1():\n",
        "  print(\"Hola desde la funci\u00f3n 1 del m\u00f3dulo 2\")\n",
        "\n",
        "def funcion2():\n",
        "    print(\"Hola desde la funci\u00f3n 2 del m\u00f3dulo 2\")"
      ]
    },
    {
      "attachments": {},
      "cell_type": "markdown",
      "metadata": {},
      "source": [
        "Now we can call the functions from our package"
      ]
    },
    {
      "cell_type": "code",
      "execution_count": 14,
      "metadata": {},
      "outputs": [
        {
          "name": "stdout",
          "output_type": "stream",
          "text": [
            "Hola desde la funci\u00f3n 1 del m\u00f3dulo 1\n",
            "Hola desde la funci\u00f3n 2 del m\u00f3dulo 1\n",
            "Hola desde la funci\u00f3n 1 del m\u00f3dulo 2\n",
            "Hola desde la funci\u00f3n 2 del m\u00f3dulo 2\n"
          ]
        }
      ],
      "source": [
        "from mi_paquete_de_python import modulo1 as mod1\n",
        "from mi_paquete_de_python import modulo2 as mod2\n",
        "\n",
        "mod1.funcion1()\n",
        "mod1.funcion2()\n",
        "mod2.funcion1()\n",
        "mod2.funcion2()"
      ]
    },
    {
      "attachments": {},
      "cell_type": "markdown",
      "metadata": {},
      "source": [
        "But what if our package has dozens of files with functions that we want to use, would we have to import all the files one by one? To avoid this, we can create an `__init__.py` file within the package where all these file imports can be handled."
      ]
    },
    {
      "cell_type": "code",
      "execution_count": 15,
      "metadata": {},
      "outputs": [],
      "source": [
        "!touch mi_paquete_de_python/__init__.py"
      ]
    },
    {
      "cell_type": "code",
      "execution_count": 16,
      "metadata": {},
      "outputs": [
        {
          "name": "stdout",
          "output_type": "stream",
          "text": [
            "Overwriting mi_paquete_de_python/__init__.py\n"
          ]
        }
      ],
      "source": [
        "%%writefile mi_paquete_de_python/__init__.py\n",
        "\n",
        "import modulo1\n",
        "import modulo2"
      ]
    },
    {
      "attachments": {},
      "cell_type": "markdown",
      "metadata": {},
      "source": [
        "Now we can only import our package, which internally has already imported all the modules"
      ]
    },
    {
      "cell_type": "code",
      "execution_count": 17,
      "metadata": {},
      "outputs": [
        {
          "name": "stdout",
          "output_type": "stream",
          "text": [
            "Hola desde la funci\u00f3n 1 del m\u00f3dulo 1\n",
            "Hola desde la funci\u00f3n 2 del m\u00f3dulo 1\n",
            "Hola desde la funci\u00f3n 1 del m\u00f3dulo 2\n",
            "Hola desde la funci\u00f3n 2 del m\u00f3dulo 2\n"
          ]
        }
      ],
      "source": [
        "import mi_paquete_de_python as mi_paquete\n",
        "\n",
        "mi_paquete.modulo1.funcion1()\n",
        "mi_paquete.modulo1.funcion2()\n",
        "mi_paquete.modulo2.funcion1()\n",
        "mi_paquete.modulo2.funcion2()"
      ]
    },
    {
      "attachments": {},
      "cell_type": "markdown",
      "metadata": {},
      "source": [
        "This way we only have to do an `import`"
      ]
    },
    {
      "attachments": {},
      "cell_type": "markdown",
      "metadata": {
        "id": "fC9B6IWauYAw"
      },
      "source": [
        "## 12. Try... except"
      ]
    },
    {
      "cell_type": "markdown",
      "metadata": {
        "id": "owAlWRD1ZtCO"
      },
      "source": [
        "When an error, or an exception as it is actually called, occurs, Python will normally catch it and generate an error message.",
        "\n",
        "These exceptions can be handled using the `try` and `except` statements."
      ]
    },
    {
      "cell_type": "code",
      "execution_count": 9,
      "metadata": {
        "colab": {
          "base_uri": "https://localhost:8080/"
        },
        "id": "AUI6Qg3aaKYP",
        "outputId": "ef604c6d-9095-48a4-f9ee-db87ac8eac8d"
      },
      "outputs": [
        {
          "name": "stdout",
          "output_type": "stream",
          "text": [
            "Ha ocurrido una excepci\u00f3n\n"
          ]
        }
      ],
      "source": [
        "try:\n",
        "  print(variable_no_declarada)\n",
        "except:\n",
        "  print(\"Ha ocurrido una excepci\u00f3n\")"
      ]
    },
    {
      "cell_type": "markdown",
      "metadata": {
        "id": "KsKuO-jtaU2_"
      },
      "source": [
        "Since the `try` block raises an error, the `except` block will be executed.",
        "\n",
        "Without the `try` block, the program would freeze and generate an error."
      ]
    },
    {
      "cell_type": "markdown",
      "metadata": {
        "id": "BQZ9DUTQamEy"
      },
      "source": [
        "As many exception blocks as desired can be defined, for example, if a special block of code is to be executed for a special type of error."
      ]
    },
    {
      "cell_type": "code",
      "execution_count": 12,
      "metadata": {
        "colab": {
          "base_uri": "https://localhost:8080/"
        },
        "id": "qCKpdIovaRi6",
        "outputId": "7c7cf3ba-4417-4ea4-b051-5bafa6c8fb35"
      },
      "outputs": [
        {
          "name": "stdout",
          "output_type": "stream",
          "text": [
            "La variable 'variable_no_declarada' no est\u00e1 definida\n"
          ]
        }
      ],
      "source": [
        "try:\n",
        "  print(variable_no_declarada)\n",
        "except NameError:\n",
        "  print(\"La variable \\'variable_no_declarada\\' no est\u00e1 definida\")\n",
        "except:\n",
        "  print(\"Algo inesperado ha ocurrido\")"
      ]
    },
    {
      "cell_type": "markdown",
      "metadata": {
        "id": "FsVphNKRCWwR"
      },
      "source": [
        "The word `else` can be used to indicate the case where no error has occurred."
      ]
    },
    {
      "cell_type": "code",
      "execution_count": 13,
      "metadata": {
        "colab": {
          "base_uri": "https://localhost:8080/"
        },
        "id": "6dpskcTUCd_i",
        "outputId": "b63ae903-6d0d-4d2a-d0f2-61fc2b853691"
      },
      "outputs": [
        {
          "name": "stdout",
          "output_type": "stream",
          "text": [
            "MaximoFN\n",
            "Todo OK\n"
          ]
        }
      ],
      "source": [
        "try:\n",
        "  print('MaximoFN')\n",
        "except NameError:\n",
        "  print(\"Ha ocurrido una excepci\u00f3n\")\n",
        "else:\n",
        "  print('Todo OK')"
      ]
    },
    {
      "cell_type": "markdown",
      "metadata": {
        "id": "IkJNvojBCvuP"
      },
      "source": [
        "with the `finally` keyword, the code will be executed at the end whether an exception occurred or not"
      ]
    },
    {
      "cell_type": "code",
      "execution_count": 14,
      "metadata": {
        "colab": {
          "base_uri": "https://localhost:8080/"
        },
        "id": "sLpwfN93DAB4",
        "outputId": "1c8906a6-e333-4dec-931f-442dd7ae0dc0"
      },
      "outputs": [
        {
          "name": "stdout",
          "output_type": "stream",
          "text": [
            "Ha ocurrido una excepci\u00f3n\n",
            "'try except' finallizado\n"
          ]
        }
      ],
      "source": [
        "try:\n",
        "  print(variable_no_declarada)\n",
        "except:\n",
        "  print(\"Ha ocurrido una excepci\u00f3n\")\n",
        "finally:\n",
        "  print(\"'try except' finallizado\")"
      ]
    },
    {
      "cell_type": "markdown",
      "metadata": {
        "id": "FT61HhaVDON9"
      },
      "source": [
        "This can be useful for closing objects and cleaning up resources"
      ]
    },
    {
      "cell_type": "code",
      "execution_count": 15,
      "metadata": {
        "colab": {
          "base_uri": "https://localhost:8080/"
        },
        "id": "stmcP5MrDPIK",
        "outputId": "2a3f3b4a-9757-449b-d200-eddf889f24bb"
      },
      "outputs": [
        {
          "name": "stdout",
          "output_type": "stream",
          "text": [
            "Ha ocurrido una excepci\u00f3n\n"
          ]
        }
      ],
      "source": [
        "class Clase:\n",
        "  variable = 'MaximoFN'\n",
        "\n",
        "objeto = Clase()\n",
        "\n",
        "try:\n",
        "  print(Clase.mi_variable)\n",
        "except:\n",
        "  print(\"Ha ocurrido una excepci\u00f3n\")\n",
        "finally:\n",
        "  del objeto"
      ]
    },
    {
      "attachments": {},
      "cell_type": "markdown",
      "metadata": {
        "id": "iUsJ8hjXD3UF"
      },
      "source": [
        "### 12.1. Create an exception"
      ]
    },
    {
      "cell_type": "markdown",
      "metadata": {
        "id": "X8OBlS5CD-n4"
      },
      "source": [
        "As a Python developer, you can choose to raise an exception if a condition occurs.",
        "\n",
        "To raise (or generate) an exception, you need to use the keyword `raise`"
      ]
    },
    {
      "cell_type": "code",
      "execution_count": 16,
      "metadata": {
        "colab": {
          "base_uri": "https://localhost:8080/",
          "height": 313
        },
        "id": "E-_UwgAyEHga",
        "outputId": "b3e915bf-f32e-4361-bb2b-af7c2679cddc"
      },
      "outputs": [
        {
          "ename": "Exception",
          "evalue": "El denominador no puede ser 0",
          "output_type": "error",
          "traceback": [
            "\u001b[0;31m---------------------------------------------------------------------------\u001b[0m",
            "\u001b[0;31mException\u001b[0m                                 Traceback (most recent call last)",
            "\u001b[0;32m<ipython-input-16-33fb6066fa78>\u001b[0m in \u001b[0;36m<module>\u001b[0;34m\u001b[0m\n\u001b[1;32m      5\u001b[0m   \u001b[0;32mreturn\u001b[0m \u001b[0mnumerador\u001b[0m\u001b[0;34m/\u001b[0m\u001b[0mdenominador\u001b[0m\u001b[0;34m\u001b[0m\u001b[0;34m\u001b[0m\u001b[0m\n\u001b[1;32m      6\u001b[0m \u001b[0;34m\u001b[0m\u001b[0m\n\u001b[0;32m----> 7\u001b[0;31m \u001b[0mprint\u001b[0m\u001b[0;34m(\u001b[0m\u001b[0mdivision\u001b[0m\u001b[0;34m(\u001b[0m\u001b[0;36m10\u001b[0m\u001b[0;34m,\u001b[0m \u001b[0;36m0\u001b[0m\u001b[0;34m)\u001b[0m\u001b[0;34m)\u001b[0m\u001b[0;34m\u001b[0m\u001b[0;34m\u001b[0m\u001b[0m\n\u001b[0m",
            "\u001b[0;32m<ipython-input-16-33fb6066fa78>\u001b[0m in \u001b[0;36mdivision\u001b[0;34m(numerador, denominador)\u001b[0m\n\u001b[1;32m      1\u001b[0m \u001b[0;32mdef\u001b[0m \u001b[0mdivision\u001b[0m\u001b[0;34m(\u001b[0m\u001b[0mnumerador\u001b[0m\u001b[0;34m,\u001b[0m \u001b[0mdenominador\u001b[0m\u001b[0;34m)\u001b[0m\u001b[0;34m:\u001b[0m\u001b[0;34m\u001b[0m\u001b[0;34m\u001b[0m\u001b[0m\n\u001b[1;32m      2\u001b[0m   \u001b[0;32mif\u001b[0m \u001b[0mdenominador\u001b[0m \u001b[0;34m==\u001b[0m \u001b[0;36m0\u001b[0m\u001b[0;34m:\u001b[0m\u001b[0;34m\u001b[0m\u001b[0;34m\u001b[0m\u001b[0m\n\u001b[0;32m----> 3\u001b[0;31m     \u001b[0;32mraise\u001b[0m \u001b[0mException\u001b[0m\u001b[0;34m(\u001b[0m\u001b[0;34m\"El denominador no puede ser 0\"\u001b[0m\u001b[0;34m)\u001b[0m\u001b[0;34m\u001b[0m\u001b[0;34m\u001b[0m\u001b[0m\n\u001b[0m\u001b[1;32m      4\u001b[0m \u001b[0;34m\u001b[0m\u001b[0m\n\u001b[1;32m      5\u001b[0m   \u001b[0;32mreturn\u001b[0m \u001b[0mnumerador\u001b[0m\u001b[0;34m/\u001b[0m\u001b[0mdenominador\u001b[0m\u001b[0;34m\u001b[0m\u001b[0;34m\u001b[0m\u001b[0m\n",
            "\u001b[0;31mException\u001b[0m: El denominador no puede ser 0"
          ]
        }
      ],
      "source": [
        "def division(numerador, denominador):\n",
        "  if denominador == 0:\n",
        "    raise Exception(\"El denominador no puede ser 0\")\n",
        "  \n",
        "  return numerador/denominador\n",
        "\n",
        "print(division(10, 0))"
      ]
    },
    {
      "cell_type": "markdown",
      "metadata": {
        "id": "AQI9R9XHEj8T"
      },
      "source": [
        "You can define what type of error to generate and the text that will be displayed to the user."
      ]
    },
    {
      "cell_type": "code",
      "execution_count": 17,
      "metadata": {
        "colab": {
          "base_uri": "https://localhost:8080/",
          "height": 313
        },
        "id": "uGsrokRdEoiY",
        "outputId": "5b03435f-91d5-4810-a89b-160c1739527a"
      },
      "outputs": [
        {
          "ename": "TypeError",
          "evalue": "El denominador no puede ser 0",
          "output_type": "error",
          "traceback": [
            "\u001b[0;31m---------------------------------------------------------------------------\u001b[0m",
            "\u001b[0;31mTypeError\u001b[0m                                 Traceback (most recent call last)",
            "\u001b[0;32m<ipython-input-17-26bfa63ae44c>\u001b[0m in \u001b[0;36m<module>\u001b[0;34m\u001b[0m\n\u001b[1;32m      5\u001b[0m   \u001b[0;32mreturn\u001b[0m \u001b[0mnumerador\u001b[0m\u001b[0;34m/\u001b[0m\u001b[0mdenominador\u001b[0m\u001b[0;34m\u001b[0m\u001b[0;34m\u001b[0m\u001b[0m\n\u001b[1;32m      6\u001b[0m \u001b[0;34m\u001b[0m\u001b[0m\n\u001b[0;32m----> 7\u001b[0;31m \u001b[0mprint\u001b[0m\u001b[0;34m(\u001b[0m\u001b[0mdivision\u001b[0m\u001b[0;34m(\u001b[0m\u001b[0;36m10\u001b[0m\u001b[0;34m,\u001b[0m \u001b[0;36m0\u001b[0m\u001b[0;34m)\u001b[0m\u001b[0;34m)\u001b[0m\u001b[0;34m\u001b[0m\u001b[0;34m\u001b[0m\u001b[0m\n\u001b[0m",
            "\u001b[0;32m<ipython-input-17-26bfa63ae44c>\u001b[0m in \u001b[0;36mdivision\u001b[0;34m(numerador, denominador)\u001b[0m\n\u001b[1;32m      1\u001b[0m \u001b[0;32mdef\u001b[0m \u001b[0mdivision\u001b[0m\u001b[0;34m(\u001b[0m\u001b[0mnumerador\u001b[0m\u001b[0;34m,\u001b[0m \u001b[0mdenominador\u001b[0m\u001b[0;34m)\u001b[0m\u001b[0;34m:\u001b[0m\u001b[0;34m\u001b[0m\u001b[0;34m\u001b[0m\u001b[0m\n\u001b[1;32m      2\u001b[0m   \u001b[0;32mif\u001b[0m \u001b[0mdenominador\u001b[0m \u001b[0;34m==\u001b[0m \u001b[0;36m0\u001b[0m\u001b[0;34m:\u001b[0m\u001b[0;34m\u001b[0m\u001b[0;34m\u001b[0m\u001b[0m\n\u001b[0;32m----> 3\u001b[0;31m     \u001b[0;32mraise\u001b[0m \u001b[0mTypeError\u001b[0m\u001b[0;34m(\u001b[0m\u001b[0;34m\"El denominador no puede ser 0\"\u001b[0m\u001b[0;34m)\u001b[0m\u001b[0;34m\u001b[0m\u001b[0;34m\u001b[0m\u001b[0m\n\u001b[0m\u001b[1;32m      4\u001b[0m \u001b[0;34m\u001b[0m\u001b[0m\n\u001b[1;32m      5\u001b[0m   \u001b[0;32mreturn\u001b[0m \u001b[0mnumerador\u001b[0m\u001b[0;34m/\u001b[0m\u001b[0mdenominador\u001b[0m\u001b[0;34m\u001b[0m\u001b[0;34m\u001b[0m\u001b[0m\n",
            "\u001b[0;31mTypeError\u001b[0m: El denominador no puede ser 0"
          ]
        }
      ],
      "source": [
        "def division(numerador, denominador):\n",
        "  if denominador == 0:\n",
        "    raise TypeError(\"El denominador no puede ser 0\")\n",
        "  \n",
        "  return numerador/denominador\n",
        "\n",
        "print(division(10, 0))"
      ]
    },
    {
      "attachments": {},
      "cell_type": "markdown",
      "metadata": {
        "id": "fnEyOi1aruhy"
      },
      "source": [
        "## 13. Keywords or reserved words"
      ]
    },
    {
      "cell_type": "markdown",
      "metadata": {
        "id": "0qaztqtCryFr"
      },
      "source": [
        "Throughout this post, several occasions have featured Python reserved words or `keywords`, these are a series of words reserved by Python",
        "\n",
        "Below is a list of the `keywords`"
      ]
    },
    {
      "cell_type": "code",
      "execution_count": 18,
      "metadata": {
        "colab": {
          "base_uri": "https://localhost:8080/"
        },
        "id": "ZkzFDewdsMct",
        "outputId": "27718104-7d17-4cdd-ba02-2b513ae8eb10"
      },
      "outputs": [
        {
          "data": {
            "text/plain": [
              "['False',\n",
              " 'None',\n",
              " 'True',\n",
              " 'and',\n",
              " 'as',\n",
              " 'assert',\n",
              " 'async',\n",
              " 'await',\n",
              " 'break',\n",
              " 'class',\n",
              " 'continue',\n",
              " 'def',\n",
              " 'del',\n",
              " 'elif',\n",
              " 'else',\n",
              " 'except',\n",
              " 'finally',\n",
              " 'for',\n",
              " 'from',\n",
              " 'global',\n",
              " 'if',\n",
              " 'import',\n",
              " 'in',\n",
              " 'is',\n",
              " 'lambda',\n",
              " 'nonlocal',\n",
              " 'not',\n",
              " 'or',\n",
              " 'pass',\n",
              " 'raise',\n",
              " 'return',\n",
              " 'try',\n",
              " 'while',\n",
              " 'with',\n",
              " 'yield']"
            ]
          },
          "execution_count": 18,
          "metadata": {},
          "output_type": "execute_result"
        }
      ],
      "source": [
        "import keyword\n",
        "\n",
        "keyword.kwlist"
      ]
    },
    {
      "attachments": {},
      "cell_type": "markdown",
      "metadata": {},
      "source": [
        "## 14. The ZEN of Python"
      ]
    },
    {
      "attachments": {},
      "cell_type": "markdown",
      "metadata": {},
      "source": [
        "By importing the `this` module we can read the `zen` of Python, that is, its philosophy or principles."
      ]
    },
    {
      "cell_type": "code",
      "execution_count": 1,
      "metadata": {},
      "outputs": [
        {
          "name": "stdout",
          "output_type": "stream",
          "text": [
            "The Zen of Python, by Tim Peters\n",
            "\n",
            "Beautiful is better than ugly.\n",
            "Explicit is better than implicit.\n",
            "Simple is better than complex.\n",
            "Complex is better than complicated.\n",
            "Flat is better than nested.\n",
            "Sparse is better than dense.\n",
            "Readability counts.\n",
            "Special cases aren't special enough to break the rules.\n",
            "Although practicality beats purity.\n",
            "Errors should never pass silently.\n",
            "Unless explicitly silenced.\n",
            "In the face of ambiguity, refuse the temptation to guess.\n",
            "There should be one-- and preferably only one --obvious way to do it.\n",
            "Although that way may not be obvious at first unless you're Dutch.\n",
            "Now is better than never.\n",
            "Although never is often better than *right* now.\n",
            "If the implementation is hard to explain, it's a bad idea.\n",
            "If the implementation is easy to explain, it may be a good idea.\n",
            "Namespaces are one honking great idea -- let's do more of those!\n"
          ]
        }
      ],
      "source": [
        "import this"
      ]
    }
  ],
  "metadata": {
    "colab": {
      "authorship_tag": "ABX9TyMr/9FjTu+h6eLUox77eVLB",
      "collapsed_sections": [],
      "include_colab_link": true,
      "name": "2021-02-11-Introducci\u00f3n-a-Python.ipynb",
      "provenance": [],
      "toc_visible": true
    },
    "kernelspec": {
      "display_name": "Python 3.7.6 ('base')",
      "language": "python",
      "name": "python3"
    },
    "language_info": {
      "codemirror_mode": {
        "name": "ipython",
        "version": 3
      },
      "file_extension": ".py",
      "mimetype": "text/x-python",
      "name": "python",
      "nbconvert_exporter": "python",
      "pygments_lexer": "ipython3",
      "version": "3.10.9"
    },
    "maximofn": {
      "date": "2021-02-11",
      "description_es": "Python \ud83d\udc0d es uno de los lenguajes de programaci\u00f3n \ud83d\udcbb M\u00c1S USADO. Entra y aprende todo lo que necesitas sobre Python \ud83d\udc0d",
      "description_en": "Python \ud83d\udc0d is one of the most used programming languages \ud83d\udcbb. Enter and learn everything you need about Python \ud83d\udc0d",
      "description_pt": "Python \ud83d\udc0d \u00e9 uma das linguagens de programa\u00e7\u00e3o \ud83d\udcbb MAIS USADAS. Entre e aprenda tudo o que precisa sobre Python \ud83d\udc0d",
      "end_url": "python",
      "image": "https://pub-fb664c455eca46a2ba762a065ac900f7.r2.dev/icon-python.webp",
      "image_hover_path": "https://pub-fb664c455eca46a2ba762a065ac900f7.r2.dev/icon-python.webp",
      "keywords_en": "python, introduction, tutorial, basic, beginners",
      "keywords_es": "python, introducci\u00f3n, tutorial, b\u00e1sico, principiantes",
      "keywords_pt": "python, introdu\u00e7\u00e3o, tutorial, b\u00e1sico, iniciantes",
      "title_en": "Introduction to Python",
      "title_es": "Introducci\u00f3n a Python",
      "title_pt": "Introdu\u00e7\u00e3o ao Python"
    },
    "vscode": {
      "interpreter": {
        "hash": "d5745ab6aba164e1152437c779991855725055592b9f2bdb41a4825db7168d26"
      }
    }
  },
  "nbformat": 4,
  "nbformat_minor": 0
}