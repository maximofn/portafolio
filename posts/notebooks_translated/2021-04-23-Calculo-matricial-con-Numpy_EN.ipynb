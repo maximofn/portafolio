{
  "cells": [
  {
      "cell_type": "markdown",
      "metadata": {
        "id": "dsaKCKL0IxZl"
      },
      "source": [
      "# Matrix calculation with Numpy"
      ]
    },
{
      "cell_type": "markdown",
      "metadata": {
        "id": "Ho_8zgIiI0We"
      },
      "source": [
      "## 1. Resumen"
      ]
    },
{
      "cell_type": "markdown",
      "metadata": {
        "id": "tT4POPIFNU9M"
      },
      "source": [
      "This notebook has been automatically translated to make it accessible to more people, please let me know if you see any typos.\n",
"\n",
"We are going to see a small introduction to the matrix calculation library `Numpy`. This library is designed for all types of matrix calculus, so we are going to stay only with the part that will be useful to understand the calculations inside the neural networks, but we will leave out interesting things like the use of the library for linear algebra.\n",
"\n",
"\n",
"<p align=\"center\">\n",
"  <img src=\"https://github.com/DeepMaxFN/DeepMaxFN-blog/blob/master/images/numpy-icon.png?raw=true\">\n",
"</p>"
      ]
    },
{
      "cell_type": "markdown",
      "metadata": {
        "id": "8JYjaT6-B40Q"
      },
      "source": [
      "## What is Numpy?"
      ]
    },
{
      "cell_type": "markdown",
      "metadata": {
        "id": "ZKFFTs-VB-_B"
      },
      "source": [
      "Numpy is a Python library designed to perform matrix computation. Matrix computation is something that is used a lot in science in general and data science in particular, so it is necessary to have a library that does this very well."
      ]
    },
{
      "cell_type": "markdown",
      "metadata": {
        "id": "yVaYBl8is1w7"
      },
      "source": [
      "Its name stands for numerical python"
      ]
    },
{
      "cell_type": "markdown",
      "metadata": {
        "id": "YFi69ESms3LC"
      },
      "source": [
      "Its main object is the `ndarray`, which encapsulates `n` dimension arrays of homogeneous data types, unlike Python lists that can have data of different types."
      ]
    },
{
      "cell_type": "markdown",
      "metadata": {
        "id": "q2Ae3TnpCQfV"
      },
      "source": [
      "Numpy aims to perform matrix computation much faster than with Python lists, but how is this possible?\n",
"\n",
"* Numpy uses compiled code, while Python uses interpreted code. The difference is that Python at runtime has to interpret, compile and execute the code, while in Numpy it is already compiled, so it runs faster.\n",
"* The `ndarray`s have a fixed size, unlike the Python lists that are dynamic. If in Numpy you want to modify the size of an array, a new one will be created and the old one will be deleted.\n",
"* All elements of the `ndarray`s are of the same data type, unlike Python lists that can have elements of different types.\n",
"* Part of the Numpy code is written in C/C++ (much faster than Python).\n",
"* Array data is stored in memory continuously, unlike Python lists, which makes it much faster to manipulate it."
      ]
    },
{
      "cell_type": "markdown",
      "metadata": {
        "id": "apttcS0eussw"
      },
      "source": [
      "Numpy offers the facility of using code that is simple to write and read, but is written and precompiled in C, which makes it much faster.\n",
" \n",
"Suppose we want to multiply two vectors, this would be done in C in the following way\n",
" \n",
"```c\n",
"for (i = 0; i < rows; i++): {\n",
"  for (j = 0; j < columns; j++): {\n",
"    c[i][j] = a[i][j]*b[i][j];\n",
"  }\n",
"}\n",
"```\n",
" \n",
"Numpy offers the possibility of executing this code underneath, but much easier to write and understand by means of\n",
" \n",
"``python\n",
"c = a * b\n",
"```"
      ]
    },
{
      "cell_type": "markdown",
      "metadata": {
        "id": "ObWp9wHpwPr5"
      },
      "source": [
      "Numpy offers vectorized code, which means not having to write loops, but nevertheless if they are being executed underneath in optimized and precompiled C code. This has the following advantages:\n",
"\n",
"* The code is easier to write and read.\n",
"* Fewer lines of code mean fewer errors are likely to be introduced.\n",
"* The code looks more like mathematical notation."
      ]
    },
{
      "cell_type": "markdown",
      "metadata": {
        "id": "s2LkAMGtDGJt"
      },
      "source": [
      "### 2.1. Numpy as `np`."
      ]
    },
{
      "cell_type": "markdown",
      "metadata": {
        "id": "99W8bljpDLo_"
      },
      "source": [
      "Generally when importing Numpy it is usually imported with the alias `np`."
      ]
    },
{
      "cell_type": "code",
      "execution_count": 1,
      "metadata": {
        "colab": {
          "base_uri": "https://localhost:8080/"
        },
        "executionInfo": {
          "elapsed": 644,
          "status": "ok",
          "timestamp": 1619162104377,
          "user": {
            "displayName": "DeepMaxFN FN",
            "photoUrl": "",
            "userId": "18365930870935188133"
          },
          "user_tz": -120
        },
        "id": "NYNGwSloDS1N",
        "outputId": "b0757f6d-cb64-4ce5-c20e-1de5f7f0fb30"
      },
      "outputs": [
      {
          "name": "stdout",
          "output_type": "stream",
          "text": [
          "1.18.1\n"
          ]
        }
      ],
      "source": [
      "import numpy as np\n",
"\n",
"print(np.__version__)"
      ]
    },
{
      "cell_type": "markdown",
      "metadata": {
        "id": "NxTpzwY3e6pd"
      },
      "source": [
      "## 3. Numpy speed"
      ]
    },
{
      "cell_type": "markdown",
      "metadata": {
        "id": "42o8Sq9ve96C"
      },
      "source": [
      "As explained Numpy performs the calculation much faster than Python lists, let's see an example in which the scalar product of two matrices is performed, using Python lists and using `ndarray`s"
      ]
    },
{
      "cell_type": "code",
      "execution_count": 2,
      "metadata": {
        "colab": {
          "base_uri": "https://localhost:8080/"
        },
        "executionInfo": {
          "elapsed": 1402,
          "status": "ok",
          "timestamp": 1619162362470,
          "user": {
            "displayName": "DeepMaxFN FN",
            "photoUrl": "",
            "userId": "18365930870935188133"
          },
          "user_tz": -120
        },
        "id": "gi-muCeUfHlq",
        "outputId": "5b56aeae-bfcb-4ad6-ec66-3e0715d76c63"
      },
      "outputs": [
      {
          "name": "stdout",
          "output_type": "stream",
          "text": [
          "Tiempo para realizar el producto escalar de dos listas de Python de dimensiones 1000x1000: 0.5234 ms\n",
"Tiempo para realizar el producto escalar de dos ndarrays de Numpy de dimensiones 1000x1000: 0.0017 ms\n",
"\n",
"Hacer el cálculo con listas de Python tarda 316.66 veces más rápido que con ndarrays de Numpy\n"
          ]
        }
      ],
      "source": [
      "from time import time\n",
" \n",
"# Dimensión de las matrices\n",
"dim = 1000\n",
"shape = (dim, dim)\n",
" \n",
"# Se crean dos ndarrays de Numpy de dimensión dim x dim\n",
"ndarray_a = np.ones(shape=shape)\n",
"ndarray_b = np.ones(shape=shape)\n",
" \n",
"# Se crean dos listas de Python de dimensión dim x dim a partir de los ndarrays\n",
"list_a = list(ndarray_a)\n",
"list_b = list(ndarray_b)\n",
" \n",
"# Se crean el ndarray y la lista de Python donde se guardarán los resultados\n",
"ndarray_c = np.empty(shape=shape)\n",
"list_c = list(ndarray_c)\n",
" \n",
"# Producto escalar de dos listas de python\n",
"t0 = time()\n",
"for fila in range(dim):\n",
"  for columna in range(dim):\n",
"    list_c[fila][columna] = list_a[fila][columna] * list_b[fila][columna]\n",
"t = time()\n",
"t_listas = t-t0\n",
"print(f\"Tiempo para realizar el producto escalar de dos listas de Python de dimensiones {dim}x{dim}: {t_listas:.4f} ms\")\n",
" \n",
" \n",
"# Producto escalar de dos ndarrays de Numpy\n",
"t0 = time()\n",
"ndarray_c = ndarray_a * ndarray_b\n",
"t = time()\n",
"t_ndarrays = t-t0\n",
"print(f\"Tiempo para realizar el producto escalar de dos ndarrays de Numpy de dimensiones {dim}x{dim}: {t_ndarrays:.4f} ms\")\n",
" \n",
"# Comparación de tiempos\n",
"print(f\"\\nHacer el cálculo con listas de Python tarda {t_listas/t_ndarrays:.2f} veces más rápido que con ndarrays de Numpy\")"
      ]
    },
{
      "cell_type": "markdown",
      "metadata": {
        "id": "MiXbfLfOD4Ux"
      },
      "source": [
      "## 4. Matrices in Numpy"
      ]
    },
{
      "cell_type": "markdown",
      "metadata": {
        "id": "cXFj3YGgD7N_"
      },
      "source": [
      "In Numpy an array is an `ndarray` object."
      ]
    },
{
      "cell_type": "code",
      "execution_count": "None",
      "metadata": {
        "colab": {
          "base_uri": "https://localhost:8080/"
        },
        "executionInfo": {
          "elapsed": 545,
          "status": "ok",
          "timestamp": 1616485870000,
          "user": {
            "displayName": "DeepMaxFN FN",
            "photoUrl": "",
            "userId": "18365930870935188133"
          },
          "user_tz": -60
        },
        "id": "gxQjcw4aEIM7",
        "outputId": "fdffa462-08b1-43e0-d539-266646021762"
      },
      "outputs": [
      {
          "name": "stdout",
          "output_type": "stream",
          "text": [
          "[1 2 3 4 5]\n",
"<class 'numpy.ndarray'>\n"
          ]
        }
      ],
      "source": [
      "arr = np.array([1, 2, 3, 4, 5])\n",
"\n",
"print(arr)\n",
"print(type(arr))"
      ]
    },
{
      "cell_type": "markdown",
      "metadata": {
        "id": "EiZPmhCAxS07"
      },
      "source": [
      "### 4.1. How to create matrices"
      ]
    },
{
      "cell_type": "markdown",
      "metadata": {
        "id": "4UkE1gVcERQZ"
      },
      "source": [
      "With the `array()` method you can create `ndarray`s by entering Python lists (as the example above), or tuples"
      ]
    },
{
      "cell_type": "code",
      "execution_count": "None",
      "metadata": {
        "colab": {
          "base_uri": "https://localhost:8080/"
        },
        "executionInfo": {
          "elapsed": 526,
          "status": "ok",
          "timestamp": 1616485937446,
          "user": {
            "displayName": "DeepMaxFN FN",
            "photoUrl": "",
            "userId": "18365930870935188133"
          },
          "user_tz": -60
        },
        "id": "isSSVGKAEdj_",
        "outputId": "85c40075-7616-47a4-99c1-1e88120300d6"
      },
      "outputs": [
      {
          "name": "stdout",
          "output_type": "stream",
          "text": [
          "[1 2 3 4 5]\n",
"<class 'numpy.ndarray'>\n"
          ]
        }
      ],
      "source": [
      "arr = np.array((1, 2, 3, 4, 5))\n",
"\n",
"print(arr)\n",
"print(type(arr))"
      ]
    },
{
      "cell_type": "markdown",
      "metadata": {
        "id": "reVaFMSExevX"
      },
      "source": [
      "With the `zeros()` method you can create arrays filled with zeros."
      ]
    },
{
      "cell_type": "code",
      "execution_count": 3,
      "metadata": {
        "id": "Kv3jhYEEzXDo"
      },
      "outputs": [
      {
          "name": "stdout",
          "output_type": "stream",
          "text": [
          "[[0. 0. 0. 0.]\n",
" [0. 0. 0. 0.]\n",
" [0. 0. 0. 0.]]\n"
          ]
        }
      ],
      "source": [
      "arr = np.zeros((3, 4))\n",
"\n",
"print(arr)"
      ]
    },
{
      "cell_type": "markdown",
      "metadata": {
        "id": "s_wlHe-_zMrv"
      },
      "source": [
      "The `zeros_like(A)` method returns an array with the same shape as the array A, but filled with zeros."
      ]
    },
{
      "cell_type": "code",
      "execution_count": "None",
      "metadata": {
        "colab": {
          "base_uri": "https://localhost:8080/"
        },
        "executionInfo": {
          "elapsed": 3461,
          "status": "ok",
          "timestamp": 1617605548192,
          "user": {
            "displayName": "DeepMaxFN FN",
            "photoUrl": "",
            "userId": "18365930870935188133"
          },
          "user_tz": -120
        },
        "id": "wDjtkNNmxo52",
        "outputId": "a558e322-1bfb-4da2-be39-b24013bda3ca"
      },
      "outputs": [
      {
          "name": "stdout",
          "output_type": "stream",
          "text": [
          "[0 0 0 0 0]\n"
          ]
        }
      ],
      "source": [
      "A = np.array((1, 2, 3, 4, 5))\n",
"arr = np.zeros_like(A)\n",
"\n",
"print(arr)"
      ]
    },
{
      "cell_type": "markdown",
      "metadata": {
        "id": "o_dO5vYfx2P0"
      },
      "source": [
      "With the `ones()` method it is possible to create arrays filled with ones"
      ]
    },
{
      "cell_type": "code",
      "execution_count": "None",
      "metadata": {
        "colab": {
          "base_uri": "https://localhost:8080/"
        },
        "executionInfo": {
          "elapsed": 871,
          "status": "ok",
          "timestamp": 1617605146390,
          "user": {
            "displayName": "DeepMaxFN FN",
            "photoUrl": "",
            "userId": "18365930870935188133"
          },
          "user_tz": -120
        },
        "id": "u3TbXNMVx5c7",
        "outputId": "4798e96e-1de7-4ec4-9847-bba54b4b84c2"
      },
      "outputs": [
      {
          "name": "stdout",
          "output_type": "stream",
          "text": [
          "[[1. 1. 1.]\n",
" [1. 1. 1.]\n",
" [1. 1. 1.]\n",
" [1. 1. 1.]]\n"
          ]
        }
      ],
      "source": [
      "arr = np.ones((4, 3))\n",
"\n",
"print(arr)"
      ]
    },
{
      "cell_type": "markdown",
      "metadata": {
        "id": "TH_zTrWizkHQ"
      },
      "source": [
      "The `ones_like(A)` method returns an array with the same shape as the array A, but filled with zeros."
      ]
    },
{
      "cell_type": "code",
      "execution_count": "None",
      "metadata": {
        "colab": {
          "base_uri": "https://localhost:8080/"
        },
        "executionInfo": {
          "elapsed": 883,
          "status": "ok",
          "timestamp": 1617605595989,
          "user": {
            "displayName": "DeepMaxFN FN",
            "photoUrl": "",
            "userId": "18365930870935188133"
          },
          "user_tz": -120
        },
        "id": "XBbx25sLzmxg",
        "outputId": "3cb7a559-d20d-4306-ce90-34fa29359c3c"
      },
      "outputs": [
      {
          "name": "stdout",
          "output_type": "stream",
          "text": [
          "[1 1 1 1 1]\n"
          ]
        }
      ],
      "source": [
      "A = np.array((1, 2, 3, 4, 5))\n",
"arr = np.ones_like(A)\n",
"\n",
"print(arr)"
      ]
    },
{
      "cell_type": "markdown",
      "metadata": {
        "id": "9DVKb2uNzu_h"
      },
      "source": [
      "With the `empty()` method you can create arrays with the dimensions you want, but randomly initialized."
      ]
    },
{
      "cell_type": "code",
      "execution_count": "None",
      "metadata": {
        "colab": {
          "base_uri": "https://localhost:8080/"
        },
        "executionInfo": {
          "elapsed": 5703,
          "status": "ok",
          "timestamp": 1617605671464,
          "user": {
            "displayName": "DeepMaxFN FN",
            "photoUrl": "",
            "userId": "18365930870935188133"
          },
          "user_tz": -120
        },
        "id": "dPXil0BSz4iT",
        "outputId": "47428a6e-c365-4622-a85f-47eb08ad1a6a"
      },
      "outputs": [
      {
          "name": "stdout",
          "output_type": "stream",
          "text": [
          "[[4.66169180e-310 2.35541533e-312 2.41907520e-312]\n",
" [2.14321575e-312 2.46151512e-312 2.31297541e-312]\n",
" [2.35541533e-312 2.05833592e-312 2.22809558e-312]\n",
" [2.56761491e-312 2.48273508e-312 2.05833592e-312]\n",
" [2.05833592e-312 2.29175545e-312 2.07955588e-312]\n",
" [2.14321575e-312 0.00000000e+000 0.00000000e+000]]\n"
          ]
        }
      ],
      "source": [
      "arr = np.empty((6, 3))\n",
"\n",
"print(arr)"
      ]
    },
{
      "cell_type": "markdown",
      "metadata": {
        "id": "ywLN4zW7z9tN"
      },
      "source": [
      "The `empty_like(A)` method returns an array with the same shape as the array A, but randomly initialized."
      ]
    },
{
      "cell_type": "code",
      "execution_count": "None",
      "metadata": {
        "colab": {
          "base_uri": "https://localhost:8080/"
        },
        "executionInfo": {
          "elapsed": 4148,
          "status": "ok",
          "timestamp": 1617606151179,
          "user": {
            "displayName": "DeepMaxFN FN",
            "photoUrl": "",
            "userId": "18365930870935188133"
          },
          "user_tz": -120
        },
        "id": "TguMIQGY0CuR",
        "outputId": "948dd35f-7ed8-4a3c-a179-5a2edafc7974"
      },
      "outputs": [
      {
          "name": "stdout",
          "output_type": "stream",
          "text": [
          "[4607182418800017408 4611686018427387904 4613937818241073152\n",
" 4616189618054758400 4617315517961601024]\n"
          ]
        }
      ],
      "source": [
      "A = np.array((1, 2, 3, 4, 5))\n",
"arr = np.empty_like(A)\n",
"\n",
"print(arr)"
      ]
    },
{
      "cell_type": "markdown",
      "metadata": {
        "id": "ZesvbJA1yBYn"
      },
      "source": [
      "With the `arange(start, stop, step)` method you can create arrays in a given range. This method is similar to Python's `range()` method."
      ]
    },
{
      "cell_type": "code",
      "execution_count": "None",
      "metadata": {
        "colab": {
          "base_uri": "https://localhost:8080/"
        },
        "executionInfo": {
          "elapsed": 1112,
          "status": "ok",
          "timestamp": 1617605302236,
          "user": {
            "displayName": "DeepMaxFN FN",
            "photoUrl": "",
            "userId": "18365930870935188133"
          },
          "user_tz": -120
        },
        "id": "k8rBPmYwycJK",
        "outputId": "2d722034-2b10-49ef-9c3f-e2d8343c73dd"
      },
      "outputs": [
      {
          "name": "stdout",
          "output_type": "stream",
          "text": [
          "[10 15 20 25]\n"
          ]
        }
      ],
      "source": [
      "arr = np.arange(10, 30, 5)\n",
"\n",
"print(arr)"
      ]
    },
{
      "cell_type": "markdown",
      "metadata": {
        "id": "oRT8G0AbyqZ1"
      },
      "source": [
      "When `arange` is used with floating point arguments, it is generally not possible to predict the number of elements obtained, because floating point precision is finite.\n",
"\n",
"For this reason, it is usually better to use the `linspace(start, stop, n)` function that receives as argument the number of elements we want, instead of the `linspace(start, stop, n)` step"
      ]
    },
{
      "cell_type": "code",
      "execution_count": "None",
      "metadata": {
        "colab": {
          "base_uri": "https://localhost:8080/"
        },
        "executionInfo": {
          "elapsed": 882,
          "status": "ok",
          "timestamp": 1617605428603,
          "user": {
            "displayName": "DeepMaxFN FN",
            "photoUrl": "",
            "userId": "18365930870935188133"
          },
          "user_tz": -120
        },
        "id": "FHeULaTNy7HB",
        "outputId": "26d88bc2-8efa-42e0-b1bb-19ca2a5e9129"
      },
      "outputs": [
      {
          "name": "stdout",
          "output_type": "stream",
          "text": [
          "[0.   0.25 0.5  0.75 1.   1.25 1.5  1.75 2.  ]\n"
          ]
        }
      ],
      "source": [
      "arr = np.linspace(0, 2, 9)\n",
" \n",
"print(arr)"
      ]
    },
{
      "attachments": {},
      "cell_type": "markdown",
      "metadata": {},
      "source": [
      "Finally, if we want to create arrays with random numbers we can use the `random.rand` function with a tuple with the dimensions as a parameter"
      ]
    },
{
      "cell_type": "code",
      "execution_count": 8,
      "metadata": {},
      "outputs": [
      {
          "name": "stdout",
          "output_type": "stream",
          "text": [
          "[[0.32726085 0.65571767 0.73126697]\n",
" [0.91938206 0.9862451  0.95033649]]\n"
          ]
        }
      ],
      "source": [
      "arr = np.random.rand(2, 3)\n",
"\n",
"print(arr)"
      ]
    },
{
      "cell_type": "markdown",
      "metadata": {
        "id": "0ssLzP1kEnCF"
      },
      "source": [
      "### 4.2. Matrix dimensions"
      ]
    },
{
      "cell_type": "markdown",
      "metadata": {
        "id": "VTw-pQR_Er74"
      },
      "source": [
      "In Numpy we can create arrays of any dimension. To get the dimension of an array we use the `ndim` method"
      ]
    },
{
      "cell_type": "markdown",
      "metadata": {
        "id": "FG5eBy3yExad"
      },
      "source": [
      "Matrix of dimension 0, which would be equivalent to one number"
      ]
    },
{
      "cell_type": "code",
      "execution_count": "None",
      "metadata": {
        "colab": {
          "base_uri": "https://localhost:8080/"
        },
        "executionInfo": {
          "elapsed": 636,
          "status": "ok",
          "timestamp": 1616486122678,
          "user": {
            "displayName": "DeepMaxFN FN",
            "photoUrl": "",
            "userId": "18365930870935188133"
          },
          "user_tz": -60
        },
        "id": "x-IKjbJiFAT0",
        "outputId": "0fa01b34-11b7-42a7-f06b-3e41e8816009"
      },
      "outputs": [
      {
          "name": "stdout",
          "output_type": "stream",
          "text": [
          "42\n",
"0\n"
          ]
        }
      ],
      "source": [
      "arr = np.array(42)\n",
"\n",
"print(arr)\n",
"print(arr.ndim)"
      ]
    },
{
      "cell_type": "markdown",
      "metadata": {
        "id": "b5mTGO1gFQH2"
      },
      "source": [
      "Matrix of dimension 1, which would be equivalent to a vector"
      ]
    },
{
      "cell_type": "code",
      "execution_count": "None",
      "metadata": {
        "colab": {
          "base_uri": "https://localhost:8080/"
        },
        "executionInfo": {
          "elapsed": 508,
          "status": "ok",
          "timestamp": 1616486157272,
          "user": {
            "displayName": "DeepMaxFN FN",
            "photoUrl": "",
            "userId": "18365930870935188133"
          },
          "user_tz": -60
        },
        "id": "GQcWE1qfFQH3",
        "outputId": "a3918029-6703-4f92-ca40-80e2bde4c896"
      },
      "outputs": [
      {
          "name": "stdout",
          "output_type": "stream",
          "text": [
          "[1 2 3 4 5]\n",
"1\n"
          ]
        }
      ],
      "source": [
      "arr = np.array([1, 2, 3, 4, 5])\n",
"\n",
"print(arr)\n",
"print(arr.ndim)"
      ]
    },
{
      "cell_type": "markdown",
      "metadata": {
        "id": "cdAhvRQ3FVu8"
      },
      "source": [
      "Matrix of dimension 2, which is equivalent to a matrix of dimension 2, which is equivalent to a matrix of dimension 2, which is equivalent to a matrix of dimension 3."
      ]
    },
{
      "cell_type": "code",
      "execution_count": "None",
      "metadata": {
        "colab": {
          "base_uri": "https://localhost:8080/"
        },
        "executionInfo": {
          "elapsed": 607,
          "status": "ok",
          "timestamp": 1616486198138,
          "user": {
            "displayName": "DeepMaxFN FN",
            "photoUrl": "",
            "userId": "18365930870935188133"
          },
          "user_tz": -60
        },
        "id": "f8cHNh10FVu9",
        "outputId": "f187e89a-4d13-4139-ab0a-fbfab417b901"
      },
      "outputs": [
      {
          "name": "stdout",
          "output_type": "stream",
          "text": [
          "[[ 1  2  3  4  5]\n",
" [ 6  7  8  9 10]]\n",
"2\n"
          ]
        }
      ],
      "source": [
      "arr = np.array([[1, 2, 3, 4, 5], \n",
"                [6, 7, 8, 9, 10]])\n",
"\n",
"print(arr)\n",
"print(arr.ndim)"
      ]
    },
{
      "cell_type": "markdown",
      "metadata": {
        "id": "sSqtG5uMFuro"
      },
      "source": [
      "Dimension 3 matrix"
      ]
    },
{
      "cell_type": "code",
      "execution_count": "None",
      "metadata": {
        "colab": {
          "base_uri": "https://localhost:8080/"
        },
        "executionInfo": {
          "elapsed": 514,
          "status": "ok",
          "timestamp": 1616486402702,
          "user": {
            "displayName": "DeepMaxFN FN",
            "photoUrl": "",
            "userId": "18365930870935188133"
          },
          "user_tz": -60
        },
        "id": "91ZzzmGvFurp",
        "outputId": "6cd98836-2fa0-469a-c9a9-d8a324dab6e2"
      },
      "outputs": [
      {
          "name": "stdout",
          "output_type": "stream",
          "text": [
          "[[[ 1  2  3  4  5]\n",
"  [ 6  7  8  9 10]]\n",
"\n",
" [[11 12 13 14 15]\n",
"  [16 17 18 19 20]]]\n",
"3\n"
          ]
        }
      ],
      "source": [
      "arr = np.array([\n",
"                [[1, 2, 3, 4, 5], \n",
"                [6, 7, 8, 9, 10]],\n",
"                \n",
"                [[11, 12, 13, 14, 15], \n",
"                [16, 17, 18, 19, 20]]\n",
"                ])\n",
"\n",
"print(arr)\n",
"print(arr.ndim)"
      ]
    },
{
      "cell_type": "markdown",
      "metadata": {
        "id": "XvUK3SjEGY1S"
      },
      "source": [
      "Array of dimension N. When creating `ndarray`s, the number of dimensions can be set by means of the `ndim` parameter"
      ]
    },
{
      "cell_type": "code",
      "execution_count": "None",
      "metadata": {
        "colab": {
          "base_uri": "https://localhost:8080/"
        },
        "executionInfo": {
          "elapsed": 592,
          "status": "ok",
          "timestamp": 1616486566016,
          "user": {
            "displayName": "DeepMaxFN FN",
            "photoUrl": "",
            "userId": "18365930870935188133"
          },
          "user_tz": -60
        },
        "id": "PHFUsROEGY1T",
        "outputId": "4e79c493-6125-44ad-e1c5-cd0b5009d24d"
      },
      "outputs": [
      {
          "name": "stdout",
          "output_type": "stream",
          "text": [
          "[[[[[[1 2 3 4 5]]]]]]\n",
"6\n"
          ]
        }
      ],
      "source": [
      "arr = np.array([1, 2, 3, 4, 5], ndmin=6)\n",
"\n",
"print(arr)\n",
"print(arr.ndim)"
      ]
    },
{
      "attachments": {},
      "cell_type": "markdown",
      "metadata": {},
      "source": [
      "### 4.3. Size of the matrices"
      ]
    },
{
      "attachments": {},
      "cell_type": "markdown",
      "metadata": {},
      "source": [
      "If instead of the dimension of the guideline, we want to see the size of the guideline, we can use the `shape` method"
      ]
    },
{
      "cell_type": "code",
      "execution_count": 2,
      "metadata": {},
      "outputs": [
      {
          "name": "stdout",
          "output_type": "stream",
          "text": [
          "(2, 2, 5)\n"
          ]
        }
      ],
      "source": [
      "arr = np.array([\n",
"                [[1, 2, 3, 4, 5], \n",
"                [6, 7, 8, 9, 10]],\n",
"                \n",
"                [[11, 12, 13, 14, 15], \n",
"                [16, 17, 18, 19, 20]]\n",
"                ])\n",
"\n",
"print(arr.shape)"
      ]
    },
{
      "cell_type": "markdown",
      "metadata": {
        "id": "OhA23hA_ZLwO"
      },
      "source": [
      "## Data type"
      ]
    },
{
      "cell_type": "markdown",
      "metadata": {
        "id": "jI10xOLEZPSd"
      },
      "source": [
      "The data that Numpy arrays can store are as follows:\n",
"\n",
"\n",
"* `i` - Entero\n",
"* 'b' - Booleano\n",
"* `u` - Unsigned integer\n",
"* `f` - Floating\n",
"* `c` - Floating complex\n",
"* `m` - Timedelta\n",
"* `M` - Datetime\n",
"* `O` - Object\n",
"* `S` - String\n",
"* `U` - Unicode string\n",
"* `V` - Fixed memory fragment for another type (void)"
      ]
    },
{
      "cell_type": "markdown",
      "metadata": {
        "id": "C3NmQFKSaWw2"
      },
      "source": [
      "We can check the data type of an array using `dtype`."
      ]
    },
{
      "cell_type": "code",
      "execution_count": "None",
      "metadata": {
        "colab": {
          "base_uri": "https://localhost:8080/"
        },
        "executionInfo": {
          "elapsed": 457,
          "status": "ok",
          "timestamp": 1616743394690,
          "user": {
            "displayName": "DeepMaxFN FN",
            "photoUrl": "",
            "userId": "18365930870935188133"
          },
          "user_tz": -60
        },
        "id": "wYc_QpLwagXO",
        "outputId": "09376a82-01f5-4947-b2ad-b9aa6b7bfa1f"
      },
      "outputs": [
      {
          "name": "stdout",
          "output_type": "stream",
          "text": [
          "int64\n",
"<U6\n"
          ]
        }
      ],
      "source": [
      "arr = np.array([1, 2, 3, 4])\n",
"print(arr.dtype)\n",
"\n",
"arr = np.array(['apple', 'banana', 'cherry'])\n",
"print(arr.dtype)"
      ]
    },
{
      "cell_type": "markdown",
      "metadata": {
        "id": "2I0-eFcIaK45"
      },
      "source": [
      "We can also create arrays by indicating the type of data we want it to have through `dtype`."
      ]
    },
{
      "cell_type": "code",
      "execution_count": "None",
      "metadata": {
        "colab": {
          "base_uri": "https://localhost:8080/"
        },
        "executionInfo": {
          "elapsed": 427,
          "status": "ok",
          "timestamp": 1616743683284,
          "user": {
            "displayName": "DeepMaxFN FN",
            "photoUrl": "",
            "userId": "18365930870935188133"
          },
          "user_tz": -60
        },
        "id": "H9Xw_E6qaQzo",
        "outputId": "436b72b7-be05-4839-b31f-34a433c62fcf"
      },
      "outputs": [
      {
          "name": "stdout",
          "output_type": "stream",
          "text": [
          "Enteros:\n",
"[1 2 3 4]\n",
"int32\n",
"\n",
"Float:\n",
"[1. 2. 3. 4.]\n",
"float32\n",
"\n",
"Complejos:\n",
"[1. 2. 3. 4.]\n",
"float32\n",
"\n",
"String:\n",
"[b'1' b'2' b'3' b'4']\n",
"|S1\n",
"\n",
"Unicode string:\n",
"['1' '2' '3' '4']\n",
"<U1\n",
"\n",
"Objeto:\n",
"[1 2 3 4]\n",
"object\n"
          ]
        }
      ],
      "source": [
      "arr = np.array([1, 2, 3, 4], dtype='i')\n",
"print(\"Enteros:\")\n",
"print(arr)\n",
"print(arr.dtype)\n",
" \n",
"arr = np.array([1, 2, 3, 4], dtype='f')\n",
"print(\"\\nFloat:\")\n",
"print(arr)\n",
"print(arr.dtype)\n",
" \n",
"arr = np.array([1, 2, 3, 4], dtype='f')\n",
"print(\"\\nComplejos:\")\n",
"print(arr)\n",
"print(arr.dtype)\n",
" \n",
"arr = np.array([1, 2, 3, 4], dtype='S')\n",
"print(\"\\nString:\")\n",
"print(arr)\n",
"print(arr.dtype)\n",
" \n",
"arr = np.array([1, 2, 3, 4], dtype='U')\n",
"print(\"\\nUnicode string:\")\n",
"print(arr)\n",
"print(arr.dtype)\n",
" \n",
"arr = np.array([1, 2, 3, 4], dtype='O')\n",
"print(\"\\nObjeto:\")\n",
"print(arr)\n",
"print(arr.dtype)"
      ]
    },
{
      "cell_type": "markdown",
      "metadata": {
        "id": "gSSYVuEvR2o7"
      },
      "source": [
      "## 6. Mathematical operations"
      ]
    },
{
      "cell_type": "markdown",
      "metadata": {
        "id": "tTL0pmnMSvNq"
      },
      "source": [
      "### 6.1. Basic operations"
      ]
    },
{
      "cell_type": "markdown",
      "metadata": {
        "id": "xroDCyi1Szub"
      },
      "source": [
      "Matrix operations are performed by elements, for example, if we add two matrices, the elements of each matrix of the same position will be added, as is done in the mathematical addition of two matrices."
      ]
    },
{
      "cell_type": "code",
      "execution_count": "None",
      "metadata": {
        "colab": {
          "base_uri": "https://localhost:8080/"
        },
        "executionInfo": {
          "elapsed": 447,
          "status": "ok",
          "timestamp": 1617698438360,
          "user": {
            "displayName": "DeepMaxFN FN",
            "photoUrl": "",
            "userId": "18365930870935188133"
          },
          "user_tz": -120
        },
        "id": "kApdyP3iS_-H",
        "outputId": "c184dc00-d2e4-4be5-bb3d-d51b612291a3"
      },
      "outputs": [
      {
          "name": "stdout",
          "output_type": "stream",
          "text": [
          "Matriz A: tamaño (3,)\n",
"[1 2 3]\n",
"\n",
"Matriz B: tamaño (3,)\n",
"[1 2 3]\n",
"\n",
"Matriz C: tamaño (3,)\n",
"[2 4 6]\n",
"\n",
"Matriz D: tamaño (3,)\n",
"[0 0 0]\n"
          ]
        }
      ],
      "source": [
      "A = np.array([1, 2, 3])\n",
"B = np.array([1, 2, 3])\n",
"\n",
"print(f\"Matriz A: tamaño {A.shape}\\n{A}\\n\")\n",
"print(f\"Matriz B: tamaño {B.shape}\\n{B}\\n\")\n",
"\n",
"C = A + B\n",
"print(f\"Matriz C: tamaño {C.shape}\\n{C}\\n\")\n",
"\n",
"D = A - B\n",
"print(f\"Matriz D: tamaño {D.shape}\\n{D}\")"
      ]
    },
{
      "cell_type": "markdown",
      "metadata": {
        "id": "a0XaV7rvTo3U"
      },
      "source": [
      "However, if we multiply two matrices, we also multiply each element of the matrices (scalar product)."
      ]
    },
{
      "cell_type": "code",
      "execution_count": "None",
      "metadata": {
        "colab": {
          "base_uri": "https://localhost:8080/"
        },
        "executionInfo": {
          "elapsed": 553,
          "status": "ok",
          "timestamp": 1617698457233,
          "user": {
            "displayName": "DeepMaxFN FN",
            "photoUrl": "",
            "userId": "18365930870935188133"
          },
          "user_tz": -120
        },
        "id": "2SB-0UXkT1l6",
        "outputId": "345ccaa9-c781-4555-e0aa-ced85d16b0b6"
      },
      "outputs": [
      {
          "name": "stdout",
          "output_type": "stream",
          "text": [
          "Matriz A: tamaño (2, 2)\n",
"[[3 5]\n",
" [4 1]]\n",
"\n",
"Matriz B: tamaño (2, 2)\n",
"[[ 1  2]\n",
" [-3  0]]\n",
"\n",
"Matriz C: tamaño (2, 2)\n",
"[[  3  10]\n",
" [-12   0]]\n",
"\n"
          ]
        }
      ],
      "source": [
      "A = np.array([[3, 5], [4, 1]])\n",
"B = np.array([[1, 2], [-3, 0]])\n",
" \n",
"print(f\"Matriz A: tamaño {A.shape}\\n{A}\\n\")\n",
"print(f\"Matriz B: tamaño {B.shape}\\n{B}\\n\")\n",
" \n",
"C = A * B\n",
"print(f\"Matriz C: tamaño {C.shape}\\n{C}\\n\")"
      ]
    },
{
      "cell_type": "markdown",
      "metadata": {
        "id": "nxkqaxoVT4ZJ"
      },
      "source": [
      "To make the matrix product that has been taught in mathematics all your life you have to use the operator `@` or the `dot` method."
      ]
    },
{
      "cell_type": "code",
      "execution_count": "None",
      "metadata": {
        "colab": {
          "base_uri": "https://localhost:8080/"
        },
        "executionInfo": {
          "elapsed": 508,
          "status": "ok",
          "timestamp": 1617698393392,
          "user": {
            "displayName": "DeepMaxFN FN",
            "photoUrl": "",
            "userId": "18365930870935188133"
          },
          "user_tz": -120
        },
        "id": "ALd3BfblUFtB",
        "outputId": "359002bb-35b4-4add-915d-ce3ea68bd90c"
      },
      "outputs": [
      {
          "name": "stdout",
          "output_type": "stream",
          "text": [
          "Matriz A: tamaño (3, 2)\n",
"[[ 3  5]\n",
" [ 4  1]\n",
" [ 6 -1]]\n",
"\n",
"Matriz B: tamaño (2, 3)\n",
"[[ 1  2  3]\n",
" [-3  0  4]]\n",
"\n",
"Matriz C: tamaño (3, 3)\n",
"[[-12   6  29]\n",
" [  1   8  16]\n",
" [  9  12  14]]\n",
"\n",
"Matriz D: tamaño (3, 3)\n",
"[[-12   6  29]\n",
" [  1   8  16]\n",
" [  9  12  14]]\n"
          ]
        }
      ],
      "source": [
      "A = np.array([[3, 5], [4, 1], [6, -1]])\n",
"B = np.array([[1, 2, 3], [-3, 0, 4]])\n",
"\n",
"print(f\"Matriz A: tamaño {A.shape}\\n{A}\\n\")\n",
"print(f\"Matriz B: tamaño {B.shape}\\n{B}\\n\")\n",
"\n",
"C = A @ B\n",
"print(f\"Matriz C: tamaño {C.shape}\\n{C}\\n\")\n",
"\n",
"D = A.dot(B)\n",
"print(f\"Matriz D: tamaño {D.shape}\\n{D}\")"
      ]
    },
{
      "cell_type": "markdown",
      "metadata": {
        "id": "wXubAlBnWAcG"
      },
      "source": [
      "If instead of creating a new matrix, you want to modify an existing one, you can use the `+=`, `-=` or `*=` switches."
      ]
    },
{
      "cell_type": "code",
      "execution_count": "None",
      "metadata": {
        "colab": {
          "base_uri": "https://localhost:8080/"
        },
        "executionInfo": {
          "elapsed": 3249,
          "status": "ok",
          "timestamp": 1617698620879,
          "user": {
            "displayName": "DeepMaxFN FN",
            "photoUrl": "",
            "userId": "18365930870935188133"
          },
          "user_tz": -120
        },
        "id": "cQWYbT08WMwo",
        "outputId": "42729a3a-2d84-4448-ae8a-e261993150b4"
      },
      "outputs": [
      {
          "name": "stdout",
          "output_type": "stream",
          "text": [
          "Matriz A: tamaño (2, 2)\n",
"[[3 5]\n",
" [4 1]]\n",
"\n",
"Matriz B: tamaño (2, 2)\n",
"[[ 1  2]\n",
" [-3  0]]\n",
"\n",
"Matriz A tras suma: tamaño (2, 2)\n",
"[[4 7]\n",
" [1 1]]\n",
"\n",
"Matriz A tras resta: tamaño (2, 2)\n",
"[[3 5]\n",
" [4 1]]\n",
"\n",
"Matriz A tras multiplicación: tamaño (2, 2)\n",
"[[  3  10]\n",
" [-12   0]]\n",
"\n"
          ]
        }
      ],
      "source": [
      "A = np.array([[3, 5], [4, 1]])\n",
"B = np.array([[1, 2], [-3, 0]])\n",
"\n",
"print(f\"Matriz A: tamaño {A.shape}\\n{A}\\n\")\n",
"print(f\"Matriz B: tamaño {B.shape}\\n{B}\\n\")\n",
"\n",
"A += B\n",
"print(f\"Matriz A tras suma: tamaño {A.shape}\\n{A}\\n\")\n",
"\n",
"A -= B\n",
"print(f\"Matriz A tras resta: tamaño {A.shape}\\n{A}\\n\")\n",
"\n",
"A *= B\n",
"print(f\"Matriz A tras multiplicación: tamaño {A.shape}\\n{A}\\n\")"
      ]
    },
{
      "cell_type": "markdown",
      "metadata": {
        "id": "VPWyiupwWllX"
      },
      "source": [
      "It is possible to perform operations on all the elements of an array, this is thanks to a property called `brodcasting` that we will see later in more depth"
      ]
    },
{
      "cell_type": "code",
      "execution_count": "None",
      "metadata": {
        "colab": {
          "base_uri": "https://localhost:8080/"
        },
        "executionInfo": {
          "elapsed": 585,
          "status": "ok",
          "timestamp": 1617698798325,
          "user": {
            "displayName": "DeepMaxFN FN",
            "photoUrl": "",
            "userId": "18365930870935188133"
          },
          "user_tz": -120
        },
        "id": "l-Ji4nLKWuxy",
        "outputId": "11b2b115-de0a-4205-9075-b907fd0fa864"
      },
      "outputs": [
      {
          "name": "stdout",
          "output_type": "stream",
          "text": [
          "Matriz A: tamaño (2, 2)\n",
"[[3 5]\n",
" [4 1]]\n",
"\n",
"Matriz B: tamaño (2, 2)\n",
"[[ 6 10]\n",
" [ 8  2]]\n",
"\n",
"Matriz C: tamaño (2, 2)\n",
"[[ 9 25]\n",
" [16  1]]\n",
"\n",
"Matriz D: tamaño (2, 2)\n",
"[[ 0.28224002 -1.91784855]\n",
" [-1.51360499  1.68294197]]\n"
          ]
        }
      ],
      "source": [
      "A = np.array([[3, 5], [4, 1]])\n",
" \n",
"print(f\"Matriz A: tamaño {A.shape}\\n{A}\\n\")\n",
" \n",
"B = A * 2\n",
"print(f\"Matriz B: tamaño {B.shape}\\n{B}\\n\")\n",
" \n",
"C = A ** 2\n",
"print(f\"Matriz C: tamaño {C.shape}\\n{C}\\n\")\n",
" \n",
"D = 2*np.sin(A)\n",
"print(f\"Matriz D: tamaño {D.shape}\\n{D}\")"
      ]
    },
{
      "cell_type": "markdown",
      "metadata": {
        "id": "thoWSEmJZR8a"
      },
      "source": [
      "### 6.2. Functions on matrices"
      ]
    },
{
      "cell_type": "markdown",
      "metadata": {
        "id": "yOCZSv-ZXNdy"
      },
      "source": [
      "As you can see in the last calculation, Numpy offers function operators on matrices, there are a lot of [functions](https://numpy.org/doc/stable/reference/routines.html) that can be performed on matrices, mathematical, logical, linear algebra, etc. Here are some of them"
      ]
    },
{
      "cell_type": "code",
      "execution_count": "None",
      "metadata": {
        "colab": {
          "base_uri": "https://localhost:8080/"
        },
        "executionInfo": {
          "elapsed": 500,
          "status": "ok",
          "timestamp": 1617699227388,
          "user": {
            "displayName": "DeepMaxFN FN",
            "photoUrl": "",
            "userId": "18365930870935188133"
          },
          "user_tz": -120
        },
        "id": "LS6zuh__YC_T",
        "outputId": "031973a2-054b-47c5-adf6-e7aa85788743"
      },
      "outputs": [
      {
          "name": "stdout",
          "output_type": "stream",
          "text": [
          "A\n",
"[[3 5]\n",
" [4 1]]\n",
"\n",
"exp(A)\n",
"[[ 20.08553692 148.4131591 ]\n",
" [ 54.59815003   2.71828183]]\n",
"\n",
"sqrt(A)\n",
"[[1.73205081 2.23606798]\n",
" [2.         1.        ]]\n",
"\n",
"cos(A)\n",
"[[-0.9899925   0.28366219]\n",
" [-0.65364362  0.54030231]]\n",
"\n"
          ]
        }
      ],
      "source": [
      "A = np.array([[3, 5], [4, 1]])\n",
"\n",
"print(f\"A\\n{A}\\n\")\n",
"\n",
"print(f\"exp(A)\\n{np.exp(A)}\\n\")\n",
"print(f\"sqrt(A)\\n{np.sqrt(A)}\\n\")\n",
"print(f\"cos(A)\\n{np.cos(A)}\\n\")"
      ]
    },
{
      "cell_type": "markdown",
      "metadata": {
        "id": "aSV5358rZYPC"
      },
      "source": [
      "There are some functions that return information from the matrices, such as the average"
      ]
    },
{
      "cell_type": "code",
      "execution_count": "None",
      "metadata": {
        "colab": {
          "base_uri": "https://localhost:8080/"
        },
        "executionInfo": {
          "elapsed": 546,
          "status": "ok",
          "timestamp": 1617699432121,
          "user": {
            "displayName": "DeepMaxFN FN",
            "photoUrl": "",
            "userId": "18365930870935188133"
          },
          "user_tz": -120
        },
        "id": "Tf-4K4KjZhLC",
        "outputId": "75f8f45b-10cf-4aa0-de18-c947e171952e"
      },
      "outputs": [
      {
          "name": "stdout",
          "output_type": "stream",
          "text": [
          "A\n",
"[[3 5]\n",
" [4 1]]\n",
"\n",
"A.mean()\n",
"3.25\n",
"\n"
          ]
        }
      ],
      "source": [
      "A = np.array([[3, 5], [4, 1]])\n",
"\n",
"print(f\"A\\n{A}\\n\")\n",
"\n",
"print(f\"A.mean()\\n{A.mean()}\\n\")"
      ]
    },
{
      "cell_type": "markdown",
      "metadata": {
        "id": "Tnd9GheBZpAL"
      },
      "source": [
      "However, we can obtain this information for each axis by means of the `axis` attribute, if this is 0 it is done on each column, while if it is 1 it is done on each row."
      ]
    },
{
      "cell_type": "code",
      "execution_count": "None",
      "metadata": {
        "colab": {
          "base_uri": "https://localhost:8080/"
        },
        "executionInfo": {
          "elapsed": 524,
          "status": "ok",
          "timestamp": 1617699525477,
          "user": {
            "displayName": "DeepMaxFN FN",
            "photoUrl": "",
            "userId": "18365930870935188133"
          },
          "user_tz": -120
        },
        "id": "9Kd2YTKAZ2TU",
        "outputId": "fa201b09-7071-420d-cac9-c3278088f667"
      },
      "outputs": [
      {
          "name": "stdout",
          "output_type": "stream",
          "text": [
          "A\n",
"[[3 5]\n",
" [4 1]]\n",
"\n",
"A.mean() columnas\n",
"[3.5 3. ]\n",
"\n",
"A.mean() filas\n",
"[4.  2.5]\n",
"\n"
          ]
        }
      ],
      "source": [
      "A = np.array([[3, 5], [4, 1]])\n",
" \n",
"print(f\"A\\n{A}\\n\")\n",
" \n",
"print(f\"A.mean() columnas\\n{A.mean(axis=0)}\\n\")\n",
"print(f\"A.mean() filas\\n{A.mean(axis=1)}\\n\")"
      ]
    },
{
      "cell_type": "markdown",
      "metadata": {
        "id": "k8OiJ4qvaJ-p"
      },
      "source": [
      "### 6.3. Broadcasting"
      ]
    },
{
      "cell_type": "markdown",
      "metadata": {
        "id": "OcJL8xXpaMfi"
      },
      "source": [
      "Matrix operations can be performed with matrices of different dimensions. In this case Numpy will detect this and make a projection of the smaller matrix until it equals the larger one.\n",
"\n",
"![numpy_broadcasting](https://raw.githubusercontent.com/DeepMaxFN/DeepMaxFN-blog/master/images/numpy_broadcasting.png)\n",
"\n",
"This is a great quality of Numpy, which makes it possible to perform calculations on matrices without having to worry about matching their dimensions."
      ]
    },
{
      "cell_type": "code",
      "execution_count": "None",
      "metadata": {
        "colab": {
          "base_uri": "https://localhost:8080/"
        },
        "executionInfo": {
          "elapsed": 1465,
          "status": "ok",
          "timestamp": 1617700341768,
          "user": {
            "displayName": "DeepMaxFN FN",
            "photoUrl": "",
            "userId": "18365930870935188133"
          },
          "user_tz": -120
        },
        "id": "uETjFo8ccg1M",
        "outputId": "82404205-60a8-4b33-d2ed-f4259df4a9c0"
      },
      "outputs": [
      {
          "name": "stdout",
          "output_type": "stream",
          "text": [
          "A\n",
"[1 2 3]\n",
"\n",
"B\n",
"[6 7 8]\n",
"\n"
          ]
        }
      ],
      "source": [
      "A = np.array([1, 2, 3])\n",
"\n",
"print(f\"A\\n{A}\\n\")\n",
"\n",
"B = A + 5\n",
"\n",
"print(f\"B\\n{B}\\n\")"
      ]
    },
{
      "cell_type": "code",
      "execution_count": "None",
      "metadata": {
        "colab": {
          "base_uri": "https://localhost:8080/"
        },
        "executionInfo": {
          "elapsed": 532,
          "status": "ok",
          "timestamp": 1617700387723,
          "user": {
            "displayName": "DeepMaxFN FN",
            "photoUrl": "",
            "userId": "18365930870935188133"
          },
          "user_tz": -120
        },
        "id": "tH5Ztv0QdGDa",
        "outputId": "ef36b5c6-e4ee-47aa-8f35-2625726dc736"
      },
      "outputs": [
      {
          "name": "stdout",
          "output_type": "stream",
          "text": [
          "A\n",
"[1 2 3]\n",
"\n",
"B\n",
"[[1. 1. 1.]\n",
" [1. 1. 1.]\n",
" [1. 1. 1.]]\n",
"\n",
"C\n",
"[[2. 3. 4.]\n",
" [2. 3. 4.]\n",
" [2. 3. 4.]]\n",
"\n"
          ]
        }
      ],
      "source": [
      "A = np.array([1, 2, 3])\n",
"B = np.ones((3,3))\n",
"\n",
"print(f\"A\\n{A}\\n\")\n",
"print(f\"B\\n{B}\\n\")\n",
"\n",
"C = A + B\n",
"\n",
"print(f\"C\\n{C}\\n\")"
      ]
    },
{
      "cell_type": "code",
      "execution_count": "None",
      "metadata": {
        "colab": {
          "base_uri": "https://localhost:8080/"
        },
        "executionInfo": {
          "elapsed": 592,
          "status": "ok",
          "timestamp": 1617700451147,
          "user": {
            "displayName": "DeepMaxFN FN",
            "photoUrl": "",
            "userId": "18365930870935188133"
          },
          "user_tz": -120
        },
        "id": "gcCpnSHsdYlz",
        "outputId": "21aae391-a2b6-4191-c816-70a29e113db4"
      },
      "outputs": [
      {
          "name": "stdout",
          "output_type": "stream",
          "text": [
          "A\n",
"[1 2 3]\n",
"\n",
"B\n",
"[[1]\n",
" [2]\n",
" [3]]\n",
"\n",
"C\n",
"[[2 3 4]\n",
" [3 4 5]\n",
" [4 5 6]]\n",
"\n"
          ]
        }
      ],
      "source": [
      "A = np.array([1, 2, 3])\n",
"B = np.array([[1], [2], [3]])\n",
" \n",
"print(f\"A\\n{A}\\n\")\n",
"print(f\"B\\n{B}\\n\")\n",
" \n",
"C = A + B\n",
" \n",
"print(f\"C\\n{C}\\n\")"
      ]
    },
{
      "cell_type": "markdown",
      "metadata": {
        "id": "piA5YUlYNCbk"
      },
      "source": [
      "## 7. Matrix indexing"
      ]
    },
{
      "cell_type": "markdown",
      "metadata": {
        "id": "_MWHvQzcNFht"
      },
      "source": [
      "The indexing of arrays is done in the same way as with Python lists."
      ]
    },
{
      "cell_type": "code",
      "execution_count": "None",
      "metadata": {
        "colab": {
          "base_uri": "https://localhost:8080/"
        },
        "executionInfo": {
          "elapsed": 550,
          "status": "ok",
          "timestamp": 1616572184191,
          "user": {
            "displayName": "DeepMaxFN FN",
            "photoUrl": "",
            "userId": "18365930870935188133"
          },
          "user_tz": -60
        },
        "id": "6A7g5T7RNNsu",
        "outputId": "c3f7cb2a-37d8-49a3-8e71-88b27af7f050"
      },
      "outputs": [
      {
          "data": {
            "text/plain": [
            "4"
            ]
          },
          "execution_count": 3,
          "metadata": {
            "tags": []
          },
          "output_type": "execute_result"
        }
      ],
      "source": [
      "arr = np.array([1, 2, 3, 4, 5])\n",
"arr[3]"
      ]
    },
{
      "cell_type": "markdown",
      "metadata": {
        "id": "aUimq1ecNRfn"
      },
      "source": [
      "In the case of having more than one dimension, the index must be indicated in each one of them."
      ]
    },
{
      "cell_type": "code",
      "execution_count": "None",
      "metadata": {
        "colab": {
          "base_uri": "https://localhost:8080/"
        },
        "executionInfo": {
          "elapsed": 546,
          "status": "ok",
          "timestamp": 1616572198171,
          "user": {
            "displayName": "DeepMaxFN FN",
            "photoUrl": "",
            "userId": "18365930870935188133"
          },
          "user_tz": -60
        },
        "id": "uacXTwOaNQx3",
        "outputId": "c248c641-7896-4c47-fa01-e4b94ced7ea4"
      },
      "outputs": [
      {
          "data": {
            "text/plain": [
            "8"
            ]
          },
          "execution_count": 4,
          "metadata": {
            "tags": []
          },
          "output_type": "execute_result"
        }
      ],
      "source": [
      "arr = np.array([[1, 2, 3, 4, 5], \n",
"                [6, 7, 8, 9, 10]])\n",
"arr[1, 2]"
      ]
    },
{
      "cell_type": "markdown",
      "metadata": {
        "id": "sgsysWjBNtCl"
      },
      "source": [
      "Negative indexing can be used"
      ]
    },
{
      "cell_type": "code",
      "execution_count": "None",
      "metadata": {
        "colab": {
          "base_uri": "https://localhost:8080/"
        },
        "executionInfo": {
          "elapsed": 519,
          "status": "ok",
          "timestamp": 1616572261042,
          "user": {
            "displayName": "DeepMaxFN FN",
            "photoUrl": "",
            "userId": "18365930870935188133"
          },
          "user_tz": -60
        },
        "id": "-SY_2d37NwU2",
        "outputId": "031ee2a9-7bd7-46a5-d338-47420c6740ce"
      },
      "outputs": [
      {
          "data": {
            "text/plain": [
            "9"
            ]
          },
          "execution_count": 5,
          "metadata": {
            "tags": []
          },
          "output_type": "execute_result"
        }
      ],
      "source": [
      "arr[-1, -2]"
      ]
    },
{
      "cell_type": "markdown",
      "metadata": {
        "id": "dSQA3t6_-Xl8"
      },
      "source": [
      "If you do not indicate one of the axes, it is considered that you want an integer."
      ]
    },
{
      "cell_type": "code",
      "execution_count": "None",
      "metadata": {
        "colab": {
          "base_uri": "https://localhost:8080/"
        },
        "executionInfo": {
          "elapsed": 1850,
          "status": "ok",
          "timestamp": 1618212421752,
          "user": {
            "displayName": "DeepMaxFN FN",
            "photoUrl": "",
            "userId": "18365930870935188133"
          },
          "user_tz": -120
        },
        "id": "ZduSdbji-btc",
        "outputId": "228e4542-89d3-446f-87b2-30d3bddad222"
      },
      "outputs": [
      {
          "data": {
            "text/plain": [
            "array([ 6,  7,  8,  9, 10])"
            ]
          },
          "execution_count": 3,
          "metadata": {
            "tags": []
          },
          "output_type": "execute_result"
        }
      ],
      "source": [
      "arr = np.array([[1, 2, 3, 4, 5], \n",
"                [6, 7, 8, 9, 10]])\n",
"arr[1]"
      ]
    },
{
      "cell_type": "markdown",
      "metadata": {
        "id": "IEhkNIAbN4Fs"
      },
      "source": [
      "### 7.1. Portions of matrices"
      ]
    },
{
      "cell_type": "markdown",
      "metadata": {
        "id": "Vbg-XwUWOB0X"
      },
      "source": [
      "When indexing we can keep parts of arrays just as we used to do with Python lists.\n",
"\n",
"Remember that it was done as follows:\n",
"\n",
"`start:stop:step`\n",
"\n",
"Where the range goes from `start` (included) to `stop` (not included) with a step of `step`.\n",
"\n",
"If `step` is not specified default is 1"
      ]
    },
{
      "cell_type": "markdown",
      "metadata": {
        "id": "vIwn-DdXPzzm"
      },
      "source": [
      "For example, if we want items from the second row and from the second to the fourth column:\n",
"\n",
"* We select the second row with a 1 (since we start counting from 0).\n",
"* We select from the second to the fourth row using 1:4, the 1 to indicate the second column and the 4 to indicate the fifth (since the second number indicates the column in which it ends without including this column). The two numbers taking into account that we start counting from 0"
      ]
    },
{
      "cell_type": "code",
      "execution_count": "None",
      "metadata": {
        "colab": {
          "base_uri": "https://localhost:8080/"
        },
        "executionInfo": {
          "elapsed": 526,
          "status": "ok",
          "timestamp": 1616573167827,
          "user": {
            "displayName": "DeepMaxFN FN",
            "photoUrl": "",
            "userId": "18365930870935188133"
          },
          "user_tz": -60
        },
        "id": "QCG5rpDkOfGx",
        "outputId": "810807f8-30c8-45d7-da85-8dc624816ab6"
      },
      "outputs": [
      {
          "name": "stdout",
          "output_type": "stream",
          "text": [
          "[[ 1  2  3  4  5]\n",
" [ 6  7  8  9 10]]\n",
"[7 8 9]\n"
          ]
        }
      ],
      "source": [
      "print(arr)\n",
"print(arr[1, 1:4])"
      ]
    },
{
      "cell_type": "markdown",
      "metadata": {
        "id": "ClTjvtw1Rurp"
      },
      "source": [
      "We can take from one position to the end"
      ]
    },
{
      "cell_type": "code",
      "execution_count": "None",
      "metadata": {
        "colab": {
          "base_uri": "https://localhost:8080/"
        },
        "executionInfo": {
          "elapsed": 543,
          "status": "ok",
          "timestamp": 1616573375921,
          "user": {
            "displayName": "DeepMaxFN FN",
            "photoUrl": "",
            "userId": "18365930870935188133"
          },
          "user_tz": -60
        },
        "id": "sAhNey7KR89R",
        "outputId": "af463cba-1064-42de-e46c-e4baa24a51bd"
      },
      "outputs": [
      {
          "data": {
            "text/plain": [
            "array([ 8,  9, 10])"
            ]
          },
          "execution_count": 9,
          "metadata": {
            "tags": []
          },
          "output_type": "execute_result"
        }
      ],
      "source": [
      "arr[1, 2:]"
      ]
    },
{
      "cell_type": "markdown",
      "metadata": {
        "id": "RoDu-r7rSDdu"
      },
      "source": [
      "From the beginning to a position"
      ]
    },
{
      "cell_type": "code",
      "execution_count": "None",
      "metadata": {
        "colab": {
          "base_uri": "https://localhost:8080/"
        },
        "executionInfo": {
          "elapsed": 515,
          "status": "ok",
          "timestamp": 1616573413591,
          "user": {
            "displayName": "DeepMaxFN FN",
            "photoUrl": "",
            "userId": "18365930870935188133"
          },
          "user_tz": -60
        },
        "id": "EHt0peC4SHeo",
        "outputId": "0a41d779-768d-4ba6-926c-0031f0d2ef80"
      },
      "outputs": [
      {
          "data": {
            "text/plain": [
            "array([6, 7, 8])"
            ]
          },
          "execution_count": 11,
          "metadata": {
            "tags": []
          },
          "output_type": "execute_result"
        }
      ],
      "source": [
      "arr[1, :3]"
      ]
    },
{
      "cell_type": "markdown",
      "metadata": {
        "id": "0_1jtIAlSOL2"
      },
      "source": [
      "Set the range with negative numbers"
      ]
    },
{
      "cell_type": "code",
      "execution_count": "None",
      "metadata": {
        "colab": {
          "base_uri": "https://localhost:8080/"
        },
        "executionInfo": {
          "elapsed": 578,
          "status": "ok",
          "timestamp": 1616573450018,
          "user": {
            "displayName": "DeepMaxFN FN",
            "photoUrl": "",
            "userId": "18365930870935188133"
          },
          "user_tz": -60
        },
        "id": "MLDgc6BjSSpv",
        "outputId": "c5e287f6-c4ab-4fd8-cfec-5ee371bbdea8"
      },
      "outputs": [
      {
          "data": {
            "text/plain": [
            "array([8, 9])"
            ]
          },
          "execution_count": 12,
          "metadata": {
            "tags": []
          },
          "output_type": "execute_result"
        }
      ],
      "source": [
      "arr[1, -3:-1]"
      ]
    },
{
      "cell_type": "markdown",
      "metadata": {
        "id": "nyKRBxSrSdPa"
      },
      "source": [
      "Choose the step"
      ]
    },
{
      "cell_type": "code",
      "execution_count": "None",
      "metadata": {
        "colab": {
          "base_uri": "https://localhost:8080/"
        },
        "executionInfo": {
          "elapsed": 526,
          "status": "ok",
          "timestamp": 1616573516267,
          "user": {
            "displayName": "DeepMaxFN FN",
            "photoUrl": "",
            "userId": "18365930870935188133"
          },
          "user_tz": -60
        },
        "id": "DwQ1p4fgSh-v",
        "outputId": "81557e5d-9fba-4cba-8871-693ba2827673"
      },
      "outputs": [
      {
          "data": {
            "text/plain": [
            "array([7, 9])"
            ]
          },
          "execution_count": 13,
          "metadata": {
            "tags": []
          },
          "output_type": "execute_result"
        }
      ],
      "source": [
      "arr[1, 1:4:2]"
      ]
    },
{
      "cell_type": "markdown",
      "metadata": {
        "id": "c5EAClLc-voF"
      },
      "source": [
      "### 7.2. Iteraction on matrices"
      ]
    },
{
      "cell_type": "markdown",
      "metadata": {
        "id": "P0Cqf3nv-zVL"
      },
      "source": [
      "The iteration over multidimensional matrices is performed with respect to the first axis"
      ]
    },
{
      "cell_type": "code",
      "execution_count": "None",
      "metadata": {
        "colab": {
          "base_uri": "https://localhost:8080/"
        },
        "executionInfo": {
          "elapsed": 879,
          "status": "ok",
          "timestamp": 1618212763642,
          "user": {
            "displayName": "DeepMaxFN FN",
            "photoUrl": "",
            "userId": "18365930870935188133"
          },
          "user_tz": -120
        },
        "id": "s_0g_OBg-y44",
        "outputId": "16fc83f6-e0a7-42b6-b3ba-9232fe441d92"
      },
      "outputs": [
      {
          "name": "stdout",
          "output_type": "stream",
          "text": [
          "Matriz de dimensión: (2, 2, 3)\n",
"\n",
"Fila 0: [[ 0  1  2]\n",
" [10 12 13]]\n",
"Fila 1: [[100 101 102]\n",
" [110 112 113]]\n"
          ]
        }
      ],
      "source": [
      "M = np.array( [[[  0,  1,  2],\n",
"                [ 10, 12, 13]],\n",
"               [[100,101,102],\n",
"                [110,112,113]]])\n",
"\n",
"print(f'Matriz de dimensión: {M.shape}\\n')\n",
"\n",
"i = 0\n",
"for fila in M:\n",
"  print(f'Fila {i}: {fila}')\n",
"  i += 1"
      ]
    },
{
      "cell_type": "markdown",
      "metadata": {
        "id": "MrYdpa49_nGc"
      },
      "source": [
      "However, if we want to iterate for each item we can use the 'flat' method"
      ]
    },
{
      "cell_type": "code",
      "execution_count": "None",
      "metadata": {
        "colab": {
          "base_uri": "https://localhost:8080/"
        },
        "executionInfo": {
          "elapsed": 1035,
          "status": "ok",
          "timestamp": 1618212833488,
          "user": {
            "displayName": "DeepMaxFN FN",
            "photoUrl": "",
            "userId": "18365930870935188133"
          },
          "user_tz": -120
        },
        "id": "uYThyzHQAB9s",
        "outputId": "88c782c6-fa03-4836-ba5b-0d02ddf796ea"
      },
      "outputs": [
      {
          "name": "stdout",
          "output_type": "stream",
          "text": [
          "Elemento 0: 0\n",
"Elemento 1: 1\n",
"Elemento 2: 2\n",
"Elemento 3: 10\n",
"Elemento 4: 12\n",
"Elemento 5: 13\n",
"Elemento 6: 100\n",
"Elemento 7: 101\n",
"Elemento 8: 102\n",
"Elemento 9: 110\n",
"Elemento 10: 112\n",
"Elemento 11: 113\n"
          ]
        }
      ],
      "source": [
      "i = 0\n",
"for fila in M.flat:\n",
"  print(f'Elemento {i}: {fila}')\n",
"  i += 1"
      ]
    },
{
      "cell_type": "markdown",
      "metadata": {
        "id": "yM2Xs9yTcVMg"
      },
      "source": [
      "## 8. Matrix copying"
      ]
    },
{
      "cell_type": "markdown",
      "metadata": {
        "id": "RUU0Mw7ucWiM"
      },
      "source": [
      "In Numpy we have two ways to copy arrays, by `copy`, which makes a new copy of the array, and by `view` which makes a view of the original array.\n",
" \n",
"The copy owns the data and any changes made to the copy will not affect the original matrix, and any changes made to the original matrix will not affect the copy.\n",
" \n",
"The view does not own the data and any changes made to the copy will affect the original matrix, and any changes made to the original matrix will affect the copy."
      ]
    },
{
      "cell_type": "markdown",
      "metadata": {
        "id": "RZdoTysEdKYb"
      },
      "source": [
      "### 8.1. Copy"
      ]
    },
{
      "cell_type": "code",
      "execution_count": "None",
      "metadata": {
        "colab": {
          "base_uri": "https://localhost:8080/"
        },
        "executionInfo": {
          "elapsed": 442,
          "status": "ok",
          "timestamp": 1616744165497,
          "user": {
            "displayName": "DeepMaxFN FN",
            "photoUrl": "",
            "userId": "18365930870935188133"
          },
          "user_tz": -60
        },
        "id": "tYy_pEXbdPFA",
        "outputId": "ef4473e2-9e96-47c3-d46c-6956917cd152"
      },
      "outputs": [
      {
          "name": "stdout",
          "output_type": "stream",
          "text": [
          "Original: [42  2  3  4  5]\n",
"Copia:    [ 1 43  3  4  5]\n"
          ]
        }
      ],
      "source": [
      "arr = np.array([1, 2, 3, 4, 5])\n",
"copy_arr = arr.copy()\n",
"arr[0] = 42\n",
"copy_arr[1] = 43\n",
" \n",
"print(f'Original: {arr}')\n",
"print(f'Copia:    {copy_arr}')"
      ]
    },
{
      "cell_type": "markdown",
      "metadata": {
        "id": "UGnubkRodkpv"
      },
      "source": [
      "### 8.2. View"
      ]
    },
{
      "cell_type": "code",
      "execution_count": "None",
      "metadata": {
        "colab": {
          "base_uri": "https://localhost:8080/"
        },
        "executionInfo": {
          "elapsed": 429,
          "status": "ok",
          "timestamp": 1616744202088,
          "user": {
            "displayName": "DeepMaxFN FN",
            "photoUrl": "",
            "userId": "18365930870935188133"
          },
          "user_tz": -60
        },
        "id": "4g1oQ1V2dnTe",
        "outputId": "a78e041f-dcf0-4ebe-ea78-a992e406e552"
      },
      "outputs": [
      {
          "name": "stdout",
          "output_type": "stream",
          "text": [
          "Original: [42 43  3  4  5]\n",
"Vista:    [42 43  3  4  5]\n"
          ]
        }
      ],
      "source": [
      "arr = np.array([1, 2, 3, 4, 5])\n",
"view_arr = arr.view()\n",
"arr[0] = 42\n",
"view_arr[1] = 43\n",
" \n",
"print(f'Original: {arr}')\n",
"print(f'Vista:    {view_arr}')"
      ]
    },
{
      "cell_type": "markdown",
      "metadata": {
        "id": "BJf_34aLe6kU"
      },
      "source": [
      "### 8.3. Data owner"
      ]
    },
{
      "cell_type": "markdown",
      "metadata": {
        "id": "i7z5L05Qe8vA"
      },
      "source": [
      "When in doubt whether we have a copy or a view we can use `base`."
      ]
    },
{
      "cell_type": "code",
      "execution_count": "None",
      "metadata": {
        "colab": {
          "base_uri": "https://localhost:8080/"
        },
        "executionInfo": {
          "elapsed": 441,
          "status": "ok",
          "timestamp": 1616744647153,
          "user": {
            "displayName": "DeepMaxFN FN",
            "photoUrl": "",
            "userId": "18365930870935188133"
          },
          "user_tz": -60
        },
        "id": "Y_n4zal8fTNK",
        "outputId": "86dfaa97-aef7-4165-d36f-0e66a62a6cb3"
      },
      "outputs": [
      {
          "name": "stdout",
          "output_type": "stream",
          "text": [
          "None\n",
"[1 2 3 4 5]\n"
          ]
        }
      ],
      "source": [
      "arr = np.array([1, 2, 3, 4, 5])\n",
" \n",
"copy_arr = arr.copy()\n",
"view_arr = arr.view()\n",
" \n",
"print(copy_arr.base)\n",
"print(view_arr.base)"
      ]
    },
{
      "cell_type": "markdown",
      "metadata": {
        "id": "qXNBEFOhf-XA"
      },
      "source": [
      "## 9. Form of the matrices"
      ]
    },
{
      "cell_type": "markdown",
      "metadata": {
        "id": "5Nq0KtncgBKj"
      },
      "source": [
      "We can know the shape of the array using the `shape` method. This will return a tuple, the size of the tuple represents the dimensions of the array, in each element of the tuple the number of items in each of the dimensions of the array is indicated."
      ]
    },
{
      "cell_type": "code",
      "execution_count": "None",
      "metadata": {
        "colab": {
          "base_uri": "https://localhost:8080/"
        },
        "executionInfo": {
          "elapsed": 1343,
          "status": "ok",
          "timestamp": 1618997134878,
          "user": {
            "displayName": "DeepMaxFN FN",
            "photoUrl": "",
            "userId": "18365930870935188133"
          },
          "user_tz": -120
        },
        "id": "EZ8Jf51LgUGl",
        "outputId": "0edc5b47-32a6-4549-8857-f40748f28462"
      },
      "outputs": [
      {
          "name": "stdout",
          "output_type": "stream",
          "text": [
          "[[[ 1  2  3  4  5]\n",
"  [ 6  7  8  9 10]]\n",
"\n",
" [[11 12 13 14 15]\n",
"  [16 17 18 19 20]]]\n",
"(2, 2, 5)\n"
          ]
        }
      ],
      "source": [
      "arr = np.array([\n",
"                [[1, 2, 3, 4, 5], \n",
"                [6, 7, 8, 9, 10]],\n",
"                \n",
"                [[11, 12, 13, 14, 15], \n",
"                [16, 17, 18, 19, 20]]\n",
"                ])\n",
" \n",
"print(arr)\n",
"print(arr.shape)"
      ]
    },
{
      "cell_type": "markdown",
      "metadata": {
        "id": "ZCt01zruG675"
      },
      "source": [
      "### 9.1. Reshape"
      ]
    },
{
      "cell_type": "markdown",
      "metadata": {
        "id": "dziRtKvqEOol"
      },
      "source": [
      "We can change the shape of the matrices to the one we want using the `reshape` method.\n",
"\n",
"For example, the matrix above, which has a form of `(2, 2, 4)`. We can pass it to `(5, 4)`."
      ]
    },
{
      "cell_type": "code",
      "execution_count": "None",
      "metadata": {
        "colab": {
          "base_uri": "https://localhost:8080/"
        },
        "executionInfo": {
          "elapsed": 1006,
          "status": "ok",
          "timestamp": 1617174208273,
          "user": {
            "displayName": "DeepMaxFN FN",
            "photoUrl": "",
            "userId": "18365930870935188133"
          },
          "user_tz": -120
        },
        "id": "Cx22-ckKE8af",
        "outputId": "4ef017a1-caa2-48c1-a662-bdded3fbd87b"
      },
      "outputs": [
      {
          "name": "stdout",
          "output_type": "stream",
          "text": [
          "[[ 1  2  3  4]\n",
" [ 5  6  7  8]\n",
" [ 9 10 11 12]\n",
" [13 14 15 16]\n",
" [17 18 19 20]]\n",
"(5, 4)\n"
          ]
        }
      ],
      "source": [
      "arr_reshape = arr.reshape(5, 4)\n",
"\n",
"print(arr_reshape)\n",
"print(arr_reshape.shape)"
      ]
    },
{
      "cell_type": "markdown",
      "metadata": {
        "id": "fgYdXlaUGG6h"
      },
      "source": [
      "Note that to resize the matrices, the number of items in the new form must have the same number of items as in the first form.\n",
"\n",
"That is, in the previous example, the first matrix had 20 items (2x2x4), and the new matrix has 20 items (5x4). What we cannot do is to resize it to a matrix of size (3, 4), since there would be a total of 12 items."
      ]
    },
{
      "cell_type": "code",
      "execution_count": "None",
      "metadata": {
        "colab": {
          "base_uri": "https://localhost:8080/",
          "height": 161
        },
        "executionInfo": {
          "elapsed": 555,
          "status": "error",
          "timestamp": 1617174381744,
          "user": {
            "displayName": "DeepMaxFN FN",
            "photoUrl": "",
            "userId": "18365930870935188133"
          },
          "user_tz": -120
        },
        "id": "JWMFS49wFyfs",
        "outputId": "839a180d-6231-4829-89db-4b157ce24cbc"
      },
      "outputs": [
      {
          "ename": "ValueError",
          "evalue": "ignored",
          "output_type": "error",
          "traceback": [
          "\u001b[0;31m---------------------------------------------------------------------------\u001b[0m",
"\u001b[0;31mValueError\u001b[0m                                Traceback (most recent call last)",
"\u001b[0;32m<ipython-input-12-29e85875d1df>\u001b[0m in \u001b[0;36m<module>\u001b[0;34m()\u001b[0m\n\u001b[0;32m----> 1\u001b[0;31m \u001b[0marr_reshape\u001b[0m \u001b[0;34m=\u001b[0m \u001b[0marr\u001b[0m\u001b[0;34m.\u001b[0m\u001b[0mreshape\u001b[0m\u001b[0;34m(\u001b[0m\u001b[0;36m3\u001b[0m\u001b[0;34m,\u001b[0m \u001b[0;36m4\u001b[0m\u001b[0;34m)\u001b[0m\u001b[0;34m\u001b[0m\u001b[0;34m\u001b[0m\u001b[0m\n\u001b[0m",
"\u001b[0;31mValueError\u001b[0m: cannot reshape array of size 20 into shape (3,4)"
          ]
        }
      ],
      "source": [
      "arr_reshape = arr.reshape(3, 4)"
      ]
    },
{
      "cell_type": "markdown",
      "metadata": {
        "id": "3m0jpnHiHB8I"
      },
      "source": [
      "### 9.2. Unknown dimension"
      ]
    },
{
      "cell_type": "markdown",
      "metadata": {
        "id": "RAehcSWZHR1w"
      },
      "source": [
      "In case we want to change the shape of a matrix and one of the dimensions is unknown to us, we can have Numpy calculate it for us by entering a `-1` as a parameter"
      ]
    },
{
      "cell_type": "code",
      "execution_count": "None",
      "metadata": {
        "colab": {
          "base_uri": "https://localhost:8080/"
        },
        "executionInfo": {
          "elapsed": 667,
          "status": "ok",
          "timestamp": 1617174693236,
          "user": {
            "displayName": "DeepMaxFN FN",
            "photoUrl": "",
            "userId": "18365930870935188133"
          },
          "user_tz": -120
        },
        "id": "vNM16L2qGsHs",
        "outputId": "61408a12-e12e-4868-d018-44292d6ed305"
      },
      "outputs": [
      {
          "name": "stdout",
          "output_type": "stream",
          "text": [
          "[[ 1  2  3  4  5  6  7  8  9 10]\n",
" [11 12 13 14 15 16 17 18 19 20]]\n",
"(2, 10)\n"
          ]
        }
      ],
      "source": [
      "arr = np.array([\n",
"                [[1, 2, 3, 4, 5], \n",
"                [6, 7, 8, 9, 10]],\n",
"                \n",
"                [[11, 12, 13, 14, 15], \n",
"                [16, 17, 18, 19, 20]]\n",
"                ])\n",
"\n",
"arr_reshape = arr.reshape(2, -1)\n",
"\n",
"print(arr_reshape)\n",
"print(arr_reshape.shape)"
      ]
    },
{
      "cell_type": "markdown",
      "metadata": {
        "id": "A_QPkOASH6Jm"
      },
      "source": [
      "Note that you cannot put just any number in the known dimensions. The number of items in the original matrix must be a multiple of the known dimensions.\n",
"\n",
"In the above example, the matrix has 20 items, which is a multiple of 2, the known dimension entered. It would not have been possible to put a 3 as the known dimension, since 20 is not a multiple of 3, and there would be no number that could be put in the unknown dimension that would make a total of 20 items."
      ]
    },
{
      "cell_type": "markdown",
      "metadata": {
        "id": "Xc7qLre2JFoJ"
      },
      "source": [
      "### 9.3. Matrix flattening"
      ]
    },
{
      "cell_type": "markdown",
      "metadata": {
        "id": "HtXXk-40JPlY"
      },
      "source": [
      "We can flatten the matrices, that is, pass them to a single dimension by `reshape(-1)`. In this way, whatever the dimensions of the original matrix, the new one will always have only one dimension."
      ]
    },
{
      "cell_type": "code",
      "execution_count": "None",
      "metadata": {
        "colab": {
          "base_uri": "https://localhost:8080/"
        },
        "executionInfo": {
          "elapsed": 1527,
          "status": "ok",
          "timestamp": 1618997213920,
          "user": {
            "displayName": "DeepMaxFN FN",
            "photoUrl": "",
            "userId": "18365930870935188133"
          },
          "user_tz": -120
        },
        "id": "hs-XEDHlHoX9",
        "outputId": "e4cf5908-cfc3-4708-8f5c-146871c23394"
      },
      "outputs": [
      {
          "name": "stdout",
          "output_type": "stream",
          "text": [
          "[ 1  2  3  4  5  6  7  8  9 10 11 12 13 14 15 16 17 18 19 20]\n",
"(20,)\n"
          ]
        }
      ],
      "source": [
      "arr = np.array([\n",
"                [[1, 2, 3, 4, 5], \n",
"                [6, 7, 8, 9, 10]],\n",
"                \n",
"                [[11, 12, 13, 14, 15], \n",
"                [16, 17, 18, 19, 20]]\n",
"                ])\n",
"\n",
"arr_flatten = arr.reshape(-1)\n",
"\n",
"print(arr_flatten)\n",
"print(arr_flatten.shape)"
      ]
    },
{
      "cell_type": "markdown",
      "metadata": {
        "id": "F25g5hTTv_yx"
      },
      "source": [
      "Another way to flatten a matrix is by using the `ravel()` method."
      ]
    },
{
      "cell_type": "code",
      "execution_count": "None",
      "metadata": {
        "colab": {
          "base_uri": "https://localhost:8080/"
        },
        "executionInfo": {
          "elapsed": 886,
          "status": "ok",
          "timestamp": 1618997231149,
          "user": {
            "displayName": "DeepMaxFN FN",
            "photoUrl": "",
            "userId": "18365930870935188133"
          },
          "user_tz": -120
        },
        "id": "mQn_2n3rwEi1",
        "outputId": "4ffacff5-aec9-4368-d5d6-8143a1d61fc5"
      },
      "outputs": [
      {
          "name": "stdout",
          "output_type": "stream",
          "text": [
          "[ 1  2  3  4  5  6  7  8  9 10 11 12 13 14 15 16 17 18 19 20]\n",
"(20,)\n"
          ]
        }
      ],
      "source": [
      "arr = np.array([\n",
"                [[1, 2, 3, 4, 5], \n",
"                [6, 7, 8, 9, 10]],\n",
"                \n",
"                [[11, 12, 13, 14, 15], \n",
"                [16, 17, 18, 19, 20]]\n",
"                ])\n",
"\n",
"arr_flatten = arr.ravel()\n",
"\n",
"print(arr_flatten)\n",
"print(arr_flatten.shape)"
      ]
    },
{
      "cell_type": "markdown",
      "metadata": {
        "id": "WqfZ7IUHwaES"
      },
      "source": [
      "### 9.4. Transposed matrix"
      ]
    },
{
      "cell_type": "markdown",
      "metadata": {
        "id": "260WW1eMwc43"
      },
      "source": [
      "The transpose of a matrix can be obtained using the `T` method. To do the transpose of a matrix is to interchange the rows and columns of the matrix, in the following image you can see an example that clarifies it more clearly\n",
"\n",
"![transpose_matrix](https://github.com/DeepMaxFN/DeepMaxFN-blog/blob/master/images/Transpose_matrix.png?raw=true)"
      ]
    },
{
      "cell_type": "code",
      "execution_count": "None",
      "metadata": {
        "colab": {
          "base_uri": "https://localhost:8080/"
        },
        "executionInfo": {
          "elapsed": 1067,
          "status": "ok",
          "timestamp": 1618997624681,
          "user": {
            "displayName": "DeepMaxFN FN",
            "photoUrl": "",
            "userId": "18365930870935188133"
          },
          "user_tz": -120
        },
        "id": "MGN10Tr3Jh7m",
        "outputId": "04b12e4a-0a38-409c-a96f-55c384a2a5be"
      },
      "outputs": [
      {
          "name": "stdout",
          "output_type": "stream",
          "text": [
          "[[ 1  0  6]\n",
" [ 0  5  0]\n",
" [ 4  0 -9]]\n",
"(3, 3)\n"
          ]
        }
      ],
      "source": [
      "arr = np.array([[1, 0, 4], \n",
"                [0, 5, 0],\n",
"                [6, 0, -9]])\n",
" \n",
"arr_t = arr.T\n",
" \n",
"print(arr_t)\n",
"print(arr_t.shape)"
      ]
    },
{
      "cell_type": "markdown",
      "metadata": {
        "id": "KjrEMLjRyjDF"
      },
      "source": [
      "## 10. Matrix Stacking"
      ]
    },
{
      "cell_type": "markdown",
      "metadata": {
        "id": "oxOCJn7gyltY"
      },
      "source": [
      "### 10.1. Vertical stacking"
      ]
    },
{
      "cell_type": "markdown",
      "metadata": {
        "id": "2bKYjL2HzQ4E"
      },
      "source": [
      "Matricecs can be stacked vertically (joining rows) using the `vstack()` method."
      ]
    },
{
      "cell_type": "code",
      "execution_count": "None",
      "metadata": {
        "colab": {
          "base_uri": "https://localhost:8080/"
        },
        "executionInfo": {
          "elapsed": 717,
          "status": "ok",
          "timestamp": 1618998187177,
          "user": {
            "displayName": "DeepMaxFN FN",
            "photoUrl": "",
            "userId": "18365930870935188133"
          },
          "user_tz": -120
        },
        "id": "7_ltvjRNziGM",
        "outputId": "b4b07966-30d0-4368-d6f4-6963b836d3f8"
      },
      "outputs": [
      {
          "data": {
            "text/plain": [
            "array([[1, 1, 1],\n",
"       [2, 2, 2],\n",
"       [3, 3, 3],\n",
"       [4, 4, 4],\n",
"       [5, 5, 5],\n",
"       [6, 6, 6]])"
            ]
          },
          "execution_count": 7,
          "metadata": {
            "tags": []
          },
          "output_type": "execute_result"
        }
      ],
      "source": [
      "a = np.array([[1, 1, 1], \n",
"              [2, 2, 2],\n",
"              [3, 3, 3]])\n",
"\n",
"b = np.array([[4, 4, 4], \n",
"              [5, 5, 5],\n",
"              [6, 6, 6]])\n",
"\n",
"c = np.vstack((a,b))\n",
"c"
      ]
    },
{
      "cell_type": "markdown",
      "metadata": {
        "id": "-wy4ZIGp0Eof"
      },
      "source": [
      "If you have arrays of more than 2 dimensions `vsatck()` will stack along the first dimension."
      ]
    },
{
      "cell_type": "code",
      "execution_count": "None",
      "metadata": {
        "colab": {
          "base_uri": "https://localhost:8080/"
        },
        "executionInfo": {
          "elapsed": 965,
          "status": "ok",
          "timestamp": 1618998455968,
          "user": {
            "displayName": "DeepMaxFN FN",
            "photoUrl": "",
            "userId": "18365930870935188133"
          },
          "user_tz": -120
        },
        "id": "vG4fiRCx0NCH",
        "outputId": "f060588e-1095-42e3-832c-e93dd5f9f418"
      },
      "outputs": [
      {
          "data": {
            "text/plain": [
            "array([[[1, 1],\n",
"        [2, 2]],\n",
"\n",
"       [[3, 3],\n",
"        [4, 4]],\n",
"\n",
"       [[5, 5],\n",
"        [6, 6]],\n",
"\n",
"       [[7, 7],\n",
"        [8, 8]]])"
            ]
          },
          "execution_count": 16,
          "metadata": {
            "tags": []
          },
          "output_type": "execute_result"
        }
      ],
      "source": [
      "a = np.array([\n",
"                [[1, 1], \n",
"                [2, 2]],\n",
"                \n",
"                [[3, 3], \n",
"                [4, 4]]\n",
"                ])\n",
" \n",
"b = np.array([\n",
"                [[5, 5], \n",
"                [6, 6]],\n",
"                \n",
"                [[7, 7], \n",
"                [8, 8]]\n",
"                ])\n",
" \n",
"c = np.vstack((a,b))\n",
"c"
      ]
    },
{
      "cell_type": "markdown",
      "metadata": {
        "id": "6LR4SP_c1DLs"
      },
      "source": [
      "### 10.2. Horizontal stacking"
      ]
    },
{
      "cell_type": "markdown",
      "metadata": {
        "id": "IT-t-EOH1DMR"
      },
      "source": [
      "You can stack matrices horizontally (joining columns) using the `hstack()` method."
      ]
    },
{
      "cell_type": "code",
      "execution_count": "None",
      "metadata": {
        "colab": {
          "base_uri": "https://localhost:8080/"
        },
        "executionInfo": {
          "elapsed": 852,
          "status": "ok",
          "timestamp": 1618998529827,
          "user": {
            "displayName": "DeepMaxFN FN",
            "photoUrl": "",
            "userId": "18365930870935188133"
          },
          "user_tz": -120
        },
        "id": "XGfxbuZJ1DMS",
        "outputId": "5a8bfb08-6002-4c64-c3d0-781384079af6"
      },
      "outputs": [
      {
          "data": {
            "text/plain": [
            "array([[1, 2, 3, 4, 5, 6],\n",
"       [1, 2, 3, 4, 5, 6],\n",
"       [1, 2, 3, 4, 5, 6]])"
            ]
          },
          "execution_count": 17,
          "metadata": {
            "tags": []
          },
          "output_type": "execute_result"
        }
      ],
      "source": [
      "a = np.array([[1, 2, 3], \n",
"              [1, 2, 3],\n",
"              [1, 2, 3]])\n",
"\n",
"b = np.array([[4, 5, 6], \n",
"              [4, 5, 6],\n",
"              [4, 5, 6]])\n",
"\n",
"c = np.hstack((a,b))\n",
"c"
      ]
    },
{
      "cell_type": "markdown",
      "metadata": {
        "id": "4qPlQV5e1DMT"
      },
      "source": [
      "If you have arrays of more than 2 dimensions `hsatck()` will stack along the second dimension."
      ]
    },
{
      "cell_type": "code",
      "execution_count": "None",
      "metadata": {
        "colab": {
          "base_uri": "https://localhost:8080/"
        },
        "executionInfo": {
          "elapsed": 1481,
          "status": "ok",
          "timestamp": 1618998553162,
          "user": {
            "displayName": "DeepMaxFN FN",
            "photoUrl": "",
            "userId": "18365930870935188133"
          },
          "user_tz": -120
        },
        "id": "3oxxtmqv1DMU",
        "outputId": "e4b4d5ba-ee75-4197-fb7e-136df6997faa"
      },
      "outputs": [
      {
          "data": {
            "text/plain": [
            "array([[[1, 1],\n",
"        [2, 2],\n",
"        [5, 5],\n",
"        [6, 6]],\n",
"\n",
"       [[3, 3],\n",
"        [4, 4],\n",
"        [7, 7],\n",
"        [8, 8]]])"
            ]
          },
          "execution_count": 18,
          "metadata": {
            "tags": []
          },
          "output_type": "execute_result"
        }
      ],
      "source": [
      "a = np.array([\n",
"                [[1, 1], \n",
"                [2, 2]],\n",
"                \n",
"                [[3, 3], \n",
"                [4, 4]]\n",
"                ])\n",
"\n",
"b = np.array([\n",
"                [[5, 5], \n",
"                [6, 6]],\n",
"                \n",
"                [[7, 7], \n",
"                [8, 8]]\n",
"                ])\n",
"\n",
"c = np.hstack((a,b))\n",
"c"
      ]
    },
{
      "cell_type": "markdown",
      "metadata": {
        "id": "qgWQ-MUT1eTE"
      },
      "source": [
      "Another way to add columns to a matrix is by using the `column_stack()` method."
      ]
    },
{
      "cell_type": "code",
      "execution_count": "None",
      "metadata": {
        "colab": {
          "base_uri": "https://localhost:8080/"
        },
        "executionInfo": {
          "elapsed": 982,
          "status": "ok",
          "timestamp": 1618998653240,
          "user": {
            "displayName": "DeepMaxFN FN",
            "photoUrl": "",
            "userId": "18365930870935188133"
          },
          "user_tz": -120
        },
        "id": "-crrDwai1ky_",
        "outputId": "4622506e-5c5f-44f7-e15e-16d32aa42325"
      },
      "outputs": [
      {
          "data": {
            "text/plain": [
            "array([[1, 2, 3, 4],\n",
"       [1, 2, 3, 4],\n",
"       [1, 2, 3, 4]])"
            ]
          },
          "execution_count": 19,
          "metadata": {
            "tags": []
          },
          "output_type": "execute_result"
        }
      ],
      "source": [
      "a = np.array([[1, 2, 3], \n",
"              [1, 2, 3],\n",
"              [1, 2, 3]])\n",
" \n",
"b = np.array([4, 4, 4])\n",
" \n",
"c = np.column_stack((a,b))\n",
"c"
      ]
    },
{
      "cell_type": "markdown",
      "metadata": {
        "id": "cXy3LzdQgJgL"
      },
      "source": [
      "### 10.3. Deep stacking"
      ]
    },
{
      "cell_type": "markdown",
      "metadata": {
        "id": "uiP_9uSUgJgO"
      },
      "source": [
      "Arrays can be stacked in depth (third dimension) using the `dstack()` method."
      ]
    },
{
      "cell_type": "code",
      "execution_count": "None",
      "metadata": {
        "colab": {
          "base_uri": "https://localhost:8080/"
        },
        "executionInfo": {
          "elapsed": 895,
          "status": "ok",
          "timestamp": 1619077258826,
          "user": {
            "displayName": "DeepMaxFN FN",
            "photoUrl": "",
            "userId": "18365930870935188133"
          },
          "user_tz": -120
        },
        "id": "B8PLe52ogJgP",
        "outputId": "ec5632a3-1d59-4581-c279-5e6dee3dfe62"
      },
      "outputs": [
      {
          "name": "stdout",
          "output_type": "stream",
          "text": [
          "c: [[[1 1 1 1]\n",
"  [2 2 2 2]]\n",
"\n",
" [[3 3 3 3]\n",
"  [4 4 4 4]]]\n",
"\n",
"a.shape: (2, 2, 2), b.shape: (2, 2, 2), c.shape: (2, 2, 4)\n"
          ]
        }
      ],
      "source": [
      "a = np.array([\n",
"                [[1, 1], \n",
"                [2, 2]],\n",
"                \n",
"                [[3, 3], \n",
"                [4, 4]]\n",
"                ])\n",
"\n",
"b = np.array([\n",
"                [[1, 1], \n",
"                [2, 2]],\n",
"                \n",
"                [[3, 3], \n",
"                [4, 4]]\n",
"                ])\n",
"\n",
"c = np.dstack((a,b))\n",
"print(f\"c: {c}\\n\")\n",
"print(f\"a.shape: {a.shape}, b.shape: {b.shape}, c.shape: {c.shape}\")"
      ]
    },
{
      "cell_type": "markdown",
      "metadata": {
        "id": "t-HrFr6zgJg9"
      },
      "source": [
      "If you have arrays of more than 4 dimensions `dsatck()` will stack along the third dimension."
      ]
    },
{
      "cell_type": "code",
      "execution_count": "None",
      "metadata": {
        "colab": {
          "base_uri": "https://localhost:8080/"
        },
        "executionInfo": {
          "elapsed": 1049,
          "status": "ok",
          "timestamp": 1619077269780,
          "user": {
            "displayName": "DeepMaxFN FN",
            "photoUrl": "",
            "userId": "18365930870935188133"
          },
          "user_tz": -120
        },
        "id": "S0TlZgF8gJg9",
        "outputId": "0b5c8dff-d349-40b4-8bbc-4119450b44f2"
      },
      "outputs": [
      {
          "name": "stdout",
          "output_type": "stream",
          "text": [
          "a.shape: (1, 1, 1, 5), b.shape: (1, 1, 1, 5), c.shape: (1, 1, 2, 5)\n"
          ]
        }
      ],
      "source": [
      "a = np.array([1, 2, 3, 4, 5], ndmin=4)\n",
"\n",
"b = np.array([1, 2, 3, 4, 5], ndmin=4)\n",
"\n",
"c = np.dstack((a,b))\n",
"print(f\"a.shape: {a.shape}, b.shape: {b.shape}, c.shape: {c.shape}\")"
      ]
    },
{
      "cell_type": "markdown",
      "metadata": {
        "id": "9jyyH2J811u-"
      },
      "source": [
      "### 10.3. Custom stacking"
      ]
    },
{
      "cell_type": "markdown",
      "metadata": {
        "id": "VQoH4wR71-9m"
      },
      "source": [
      "Using the `concatenate()` method you can choose the axis on which you want to stack the arrays"
      ]
    },
{
      "cell_type": "code",
      "execution_count": "None",
      "metadata": {
        "colab": {
          "base_uri": "https://localhost:8080/"
        },
        "executionInfo": {
          "elapsed": 990,
          "status": "ok",
          "timestamp": 1618998894859,
          "user": {
            "displayName": "DeepMaxFN FN",
            "photoUrl": "",
            "userId": "18365930870935188133"
          },
          "user_tz": -120
        },
        "id": "nC2xnSML2OKt",
        "outputId": "b5ba030b-220e-4b6a-ba16-a51bb487744c"
      },
      "outputs": [
      {
          "name": "stdout",
          "output_type": "stream",
          "text": [
          "conc0: [[[1 1]\n",
"  [2 2]]\n",
"\n",
" [[3 3]\n",
"  [4 4]]\n",
"\n",
" [[5 5]\n",
"  [6 6]]\n",
"\n",
" [[7 7]\n",
"  [8 8]]]\n",
"\n",
"conc1: [[[1 1]\n",
"  [2 2]\n",
"  [5 5]\n",
"  [6 6]]\n",
"\n",
" [[3 3]\n",
"  [4 4]\n",
"  [7 7]\n",
"  [8 8]]]\n",
"\n",
"conc2: [[[1 1 5 5]\n",
"  [2 2 6 6]]\n",
"\n",
" [[3 3 7 7]\n",
"  [4 4 8 8]]]\n"
          ]
        }
      ],
      "source": [
      "a = np.array([\n",
"                [[1, 1], \n",
"                [2, 2]],\n",
"                \n",
"                [[3, 3], \n",
"                [4, 4]]\n",
"                ])\n",
"\n",
"b = np.array([\n",
"                [[5, 5], \n",
"                [6, 6]],\n",
"                \n",
"                [[7, 7], \n",
"                [8, 8]]\n",
"                ])\n",
"\n",
"conc0 = np.concatenate((a,b), axis=0) # concatenamiento en el primer eje\n",
"conc1 = np.concatenate((a,b), axis=1) # concatenamiento en el segundo eje\n",
"conc2 = np.concatenate((a,b), axis=2) # concatenamiento en el tercer eje\n",
"print(f\"conc0: {conc0}\\n\")\n",
"print(f\"conc1: {conc1}\\n\")\n",
"print(f\"conc2: {conc2}\")"
      ]
    },
{
      "cell_type": "markdown",
      "metadata": {
        "id": "6zxSA1MF24t5"
      },
      "source": [
      "## 11. Dividing matrices"
      ]
    },
{
      "cell_type": "markdown",
      "metadata": {
        "id": "evF0UiN424uV"
      },
      "source": [
      "### 11.1. Dividing vertically"
      ]
    },
{
      "cell_type": "markdown",
      "metadata": {
        "id": "1t1jKuEr24uV"
      },
      "source": [
      "Matricecs can be split vertically (by separating rows) using the `vsplit()` method."
      ]
    },
{
      "cell_type": "code",
      "execution_count": "None",
      "metadata": {
        "colab": {
          "base_uri": "https://localhost:8080/"
        },
        "executionInfo": {
          "elapsed": 1020,
          "status": "ok",
          "timestamp": 1618999176696,
          "user": {
            "displayName": "DeepMaxFN FN",
            "photoUrl": "",
            "userId": "18365930870935188133"
          },
          "user_tz": -120
        },
        "id": "_8Lv0YAC24uW",
        "outputId": "730611c1-d015-412e-8797-5381cd3d35c4"
      },
      "outputs": [
      {
          "name": "stdout",
          "output_type": "stream",
          "text": [
          "a1: [[1.1 1.2 1.3 1.4]\n",
" [2.1 2.2 2.3 2.4]]\n",
"\n",
"a2: [[3.1 3.2 3.3 3.4]\n",
" [4.1 4.2 4.3 4.4]]\n"
          ]
        }
      ],
      "source": [
      "a = np.array([[1.1, 1.2, 1.3, 1.4], \n",
"              [2.1, 2.2, 2.3, 2.4],\n",
"              [3.1, 3.2, 3.3, 3.4],\n",
"              [4.1, 4.2, 4.3, 4.4]])\n",
"\n",
"[a1, a2] = np.vsplit(a, 2)\n",
"print(f\"a1: {a1}\\n\")\n",
"print(f\"a2: {a2}\")"
      ]
    },
{
      "cell_type": "markdown",
      "metadata": {
        "id": "O9duqFhl24uY"
      },
      "source": [
      "If you have matrices of more than 2 dimensions `vsplit()` will divide along the first dimension."
      ]
    },
{
      "cell_type": "code",
      "execution_count": "None",
      "metadata": {
        "colab": {
          "base_uri": "https://localhost:8080/"
        },
        "executionInfo": {
          "elapsed": 815,
          "status": "ok",
          "timestamp": 1618999232227,
          "user": {
            "displayName": "DeepMaxFN FN",
            "photoUrl": "",
            "userId": "18365930870935188133"
          },
          "user_tz": -120
        },
        "id": "oa8Mq1Md24uY",
        "outputId": "27fd4a86-ddaf-4c58-ffeb-781d34832d45"
      },
      "outputs": [
      {
          "name": "stdout",
          "output_type": "stream",
          "text": [
          "a1: [[[1 1]\n",
"  [2 2]]]\n",
"\n",
"a2: [[[3 3]\n",
"  [4 4]]]\n"
          ]
        }
      ],
      "source": [
      "a = np.array([\n",
"                [[1, 1], \n",
"                [2, 2]],\n",
"                \n",
"                [[3, 3], \n",
"                [4, 4]]\n",
"                ])\n",
"\n",
"[a1, a2] = np.vsplit(a, 2)\n",
"print(f\"a1: {a1}\\n\")\n",
"print(f\"a2: {a2}\")"
      ]
    },
{
      "cell_type": "markdown",
      "metadata": {
        "id": "KlUORvvI24uZ"
      },
      "source": [
      "### 11.2. Divide horizontally"
      ]
    },
{
      "cell_type": "markdown",
      "metadata": {
        "id": "uH_XbRWA24uZ"
      },
      "source": [
      "You can split matrices horizontally (separating columns) using the `hsplit()` method."
      ]
    },
{
      "cell_type": "code",
      "execution_count": "None",
      "metadata": {
        "colab": {
          "base_uri": "https://localhost:8080/"
        },
        "executionInfo": {
          "elapsed": 1083,
          "status": "ok",
          "timestamp": 1618999319572,
          "user": {
            "displayName": "DeepMaxFN FN",
            "photoUrl": "",
            "userId": "18365930870935188133"
          },
          "user_tz": -120
        },
        "id": "ZkGh6y1M24uZ",
        "outputId": "cd0f628e-af21-4bdb-81a0-7d00cd27ad66"
      },
      "outputs": [
      {
          "name": "stdout",
          "output_type": "stream",
          "text": [
          "a1: [[1.1 1.2]\n",
" [2.1 2.2]\n",
" [3.1 3.2]\n",
" [4.1 4.2]]\n",
"\n",
"a2: [[1.3 1.4]\n",
" [2.3 2.4]\n",
" [3.3 3.4]\n",
" [4.3 4.4]]\n"
          ]
        }
      ],
      "source": [
      "a = np.array([[1.1, 1.2, 1.3, 1.4], \n",
"              [2.1, 2.2, 2.3, 2.4],\n",
"              [3.1, 3.2, 3.3, 3.4],\n",
"              [4.1, 4.2, 4.3, 4.4]])\n",
"\n",
"[a1, a2] = np.hsplit(a, 2)\n",
"print(f\"a1: {a1}\\n\")\n",
"print(f\"a2: {a2}\")"
      ]
    },
{
      "cell_type": "markdown",
      "metadata": {
        "id": "uJIOOU9r24ua"
      },
      "source": [
      "If you have matrices of more than 2 dimensions `hsplit()` will divide along the second dimension."
      ]
    },
{
      "cell_type": "code",
      "execution_count": "None",
      "metadata": {
        "colab": {
          "base_uri": "https://localhost:8080/"
        },
        "executionInfo": {
          "elapsed": 1174,
          "status": "ok",
          "timestamp": 1618999362237,
          "user": {
            "displayName": "DeepMaxFN FN",
            "photoUrl": "",
            "userId": "18365930870935188133"
          },
          "user_tz": -120
        },
        "id": "QJVUu05Q24ua",
        "outputId": "a512661c-e89d-43ed-9aad-03805fcd36d1"
      },
      "outputs": [
      {
          "name": "stdout",
          "output_type": "stream",
          "text": [
          "a1: [[[1 1]]\n",
"\n",
" [[3 3]]]\n",
"\n",
"a2: [[[2 2]]\n",
"\n",
" [[4 4]]]\n"
          ]
        }
      ],
      "source": [
      "a = np.array([\n",
"                [[1, 1], \n",
"                [2, 2]],\n",
"                \n",
"                [[3, 3], \n",
"                [4, 4]]\n",
"                ])\n",
"\n",
"[a1, a2] = np.hsplit(a, 2)\n",
"print(f\"a1: {a1}\\n\")\n",
"print(f\"a2: {a2}\")"
      ]
    },
{
      "cell_type": "markdown",
      "metadata": {
        "id": "BD1VEt6Y24uc"
      },
      "source": [
      "### 11.3. Custom splitting"
      ]
    },
{
      "cell_type": "markdown",
      "metadata": {
        "id": "eZv1Dn0C24uc"
      },
      "source": [
      "By means of the `array_split()` method you can choose the axis on which you want to split the arrays"
      ]
    },
{
      "cell_type": "code",
      "execution_count": "None",
      "metadata": {
        "colab": {
          "base_uri": "https://localhost:8080/"
        },
        "executionInfo": {
          "elapsed": 633,
          "status": "ok",
          "timestamp": 1618999696996,
          "user": {
            "displayName": "DeepMaxFN FN",
            "photoUrl": "",
            "userId": "18365930870935188133"
          },
          "user_tz": -120
        },
        "id": "RJvjjiKO24ud",
        "outputId": "03604a72-40cb-4f53-dc3a-359f6c5d6c05"
      },
      "outputs": [
      {
          "name": "stdout",
          "output_type": "stream",
          "text": [
          "a1_eje0: [[[1 1]\n",
"  [2 2]]]\n",
"\n",
"a2_eje0: [[[3 3]\n",
"  [4 4]]]\n",
"\n",
"\n",
"a1_eje1: [[[1 1]]\n",
"\n",
" [[3 3]]]\n",
"\n",
"a2_eje1: [[[2 2]]\n",
"\n",
" [[4 4]]]\n",
"\n",
"\n",
"a1_eje2: [[[1]\n",
"  [2]]\n",
"\n",
" [[3]\n",
"  [4]]]\n",
"\n",
"a2_eje2: [[[1]\n",
"  [2]]\n",
"\n",
" [[3]\n",
"  [4]]]\n"
          ]
        }
      ],
      "source": [
      "a = np.array([\n",
"                [[1, 1], \n",
"                [2, 2]],\n",
"                \n",
"                [[3, 3], \n",
"                [4, 4]]\n",
"                ])\n",
"\n",
"[a1_eje0, a2_eje0] = np.array_split(a, 2, axis=0)\n",
"[a1_eje1, a2_eje1] = np.array_split(a, 2, axis=1)\n",
"[a1_eje2, a2_eje2] = np.array_split(a, 2, axis=2)\n",
"\n",
"print(f\"a1_eje0: {a1_eje0}\\n\")\n",
"print(f\"a2_eje0: {a2_eje0}\\n\\n\")\n",
"\n",
"print(f\"a1_eje1: {a1_eje1}\\n\")\n",
"print(f\"a2_eje1: {a2_eje1}\\n\\n\")\n",
"\n",
"print(f\"a1_eje2: {a1_eje2}\\n\")\n",
"print(f\"a2_eje2: {a2_eje2}\")"
      ]
    },
{
      "cell_type": "markdown",
      "metadata": {
        "id": "bcK_53Y2fTA2"
      },
      "source": [
      "## 12. Search in matrices"
      ]
    },
{
      "cell_type": "markdown",
      "metadata": {
        "id": "6js5LQfQfW7o"
      },
      "source": [
      "If you want to search for a value within an array you can use the `where()` method which returns the positions where the array is worth the value you are looking for."
      ]
    },
{
      "cell_type": "code",
      "execution_count": "None",
      "metadata": {
        "colab": {
          "base_uri": "https://localhost:8080/"
        },
        "executionInfo": {
          "elapsed": 912,
          "status": "ok",
          "timestamp": 1619077428305,
          "user": {
            "displayName": "DeepMaxFN FN",
            "photoUrl": "",
            "userId": "18365930870935188133"
          },
          "user_tz": -120
        },
        "id": "Mv0uUM9qiC-_",
        "outputId": "8b67fb6e-f354-41fc-f360-14946fd79371"
      },
      "outputs": [
      {
          "data": {
            "text/plain": [
            "(array([3, 5, 6]),)"
            ]
          },
          "execution_count": 12,
          "metadata": {
            "tags": []
          },
          "output_type": "execute_result"
        }
      ],
      "source": [
      "arr = np.array([1, 2, 3, 4, 5, 4, 4])\n",
"\n",
"ids = np.where(arr == 4)\n",
"ids"
      ]
    },
{
      "cell_type": "markdown",
      "metadata": {
        "id": "0Q59Jf6JiaBJ"
      },
      "source": [
      "You can use functions to search, for example, if you want to search in which positions the values are pairs"
      ]
    },
{
      "cell_type": "code",
      "execution_count": "None",
      "metadata": {
        "colab": {
          "base_uri": "https://localhost:8080/"
        },
        "executionInfo": {
          "elapsed": 1000,
          "status": "ok",
          "timestamp": 1619077530606,
          "user": {
            "displayName": "DeepMaxFN FN",
            "photoUrl": "",
            "userId": "18365930870935188133"
          },
          "user_tz": -120
        },
        "id": "rB0EQkeQifrg",
        "outputId": "1b27eac9-d072-4f07-cc86-507ba345ef64"
      },
      "outputs": [
      {
          "data": {
            "text/plain": [
            "(array([0, 2, 4, 6]),)"
            ]
          },
          "execution_count": 15,
          "metadata": {
            "tags": []
          },
          "output_type": "execute_result"
        }
      ],
      "source": [
      "arr = np.array([1, 2, 3, 4, 5, 6, 7, 8])\n",
"\n",
"ids = np.where(arr%2)\n",
"ids"
      ]
    },
{
      "cell_type": "markdown",
      "metadata": {
        "id": "sR_AqdYXjUV4"
      },
      "source": [
      "## 13. Order matrices"
      ]
    },
{
      "cell_type": "markdown",
      "metadata": {
        "id": "rlf86hH2jWoK"
      },
      "source": [
      "By means of the `sort()` method we can sort arrays"
      ]
    },
{
      "cell_type": "code",
      "execution_count": "None",
      "metadata": {
        "colab": {
          "base_uri": "https://localhost:8080/"
        },
        "executionInfo": {
          "elapsed": 1045,
          "status": "ok",
          "timestamp": 1619077790215,
          "user": {
            "displayName": "DeepMaxFN FN",
            "photoUrl": "",
            "userId": "18365930870935188133"
          },
          "user_tz": -120
        },
        "id": "iHllKxPRjajj",
        "outputId": "24d85c1c-1f16-4fc7-a468-3b950cef3a3e"
      },
      "outputs": [
      {
          "data": {
            "text/plain": [
            "array([0, 1, 2, 3])"
            ]
          },
          "execution_count": 27,
          "metadata": {
            "tags": []
          },
          "output_type": "execute_result"
        }
      ],
      "source": [
      "arr = np.array([3, 2, 0, 1])\n",
"\n",
"arr_ordenado = np.sort(arr)\n",
"arr_ordenado"
      ]
    },
{
      "cell_type": "markdown",
      "metadata": {
        "id": "p3iBO9o1jpaf"
      },
      "source": [
      "If what we have are strings, it sorts them alphabetically"
      ]
    },
{
      "cell_type": "code",
      "execution_count": "None",
      "metadata": {
        "colab": {
          "base_uri": "https://localhost:8080/"
        },
        "executionInfo": {
          "elapsed": 1367,
          "status": "ok",
          "timestamp": 1619077868029,
          "user": {
            "displayName": "DeepMaxFN FN",
            "photoUrl": "",
            "userId": "18365930870935188133"
          },
          "user_tz": -120
        },
        "id": "ldl7R0Bsj06z",
        "outputId": "e93766fb-7b5d-4076-a352-aa16adba1b6c"
      },
      "outputs": [
      {
          "data": {
            "text/plain": [
            "array(['apple', 'banana', 'cherry'], dtype='<U6')"
            ]
          },
          "execution_count": 29,
          "metadata": {
            "tags": []
          },
          "output_type": "execute_result"
        }
      ],
      "source": [
      "arr = np.array(['banana', 'apple', 'cherry'])\n",
"\n",
"arr_ordenado = np.sort(arr)\n",
"arr_ordenado"
      ]
    },
{
      "cell_type": "markdown",
      "metadata": {
        "id": "OqFGxo9Qj8Va"
      },
      "source": [
      "And the Boolean arrays are also sorted by"
      ]
    },
{
      "cell_type": "code",
      "execution_count": "None",
      "metadata": {
        "colab": {
          "base_uri": "https://localhost:8080/"
        },
        "executionInfo": {
          "elapsed": 1282,
          "status": "ok",
          "timestamp": 1619077900595,
          "user": {
            "displayName": "DeepMaxFN FN",
            "photoUrl": "",
            "userId": "18365930870935188133"
          },
          "user_tz": -120
        },
        "id": "fKgV31tIj-4w",
        "outputId": "42169b71-272b-407f-c48d-afa970c34e51"
      },
      "outputs": [
      {
          "data": {
            "text/plain": [
            "array([False,  True,  True])"
            ]
          },
          "execution_count": 30,
          "metadata": {
            "tags": []
          },
          "output_type": "execute_result"
        }
      ],
      "source": [
      "arr = np.array([True, False, True])\n",
"\n",
"arr_ordenado = np.sort(arr)\n",
"arr_ordenado"
      ]
    },
{
      "cell_type": "markdown",
      "metadata": {
        "id": "9KgNNcFlkGPZ"
      },
      "source": [
      "If you have matrices of more than one dimension, it orders them by dimensions, that is, if you have a 2-dimensional matrix, it orders the numbers of the first row among them and those of the second row among them."
      ]
    },
{
      "cell_type": "code",
      "execution_count": "None",
      "metadata": {
        "colab": {
          "base_uri": "https://localhost:8080/"
        },
        "executionInfo": {
          "elapsed": 889,
          "status": "ok",
          "timestamp": 1619078047450,
          "user": {
            "displayName": "DeepMaxFN FN",
            "photoUrl": "",
            "userId": "18365930870935188133"
          },
          "user_tz": -120
        },
        "id": "aiM26N03kIvz",
        "outputId": "dc13a1dd-09a7-4447-c095-da25b2318f34"
      },
      "outputs": [
      {
          "data": {
            "text/plain": [
            "array([[2, 3, 4],\n",
"       [0, 1, 5]])"
            ]
          },
          "execution_count": 32,
          "metadata": {
            "tags": []
          },
          "output_type": "execute_result"
        }
      ],
      "source": [
      "arr = np.array([[3, 2, 4], [5, 0, 1]])\n",
"\n",
"arr_ordenado = np.sort(arr)\n",
"arr_ordenado"
      ]
    },
{
      "cell_type": "markdown",
      "metadata": {
        "id": "AoOFh8x0kn50"
      },
      "source": [
      "By default it always sorts with respect to rows, but if you want it to sort with respect to another dimension, you have to specify it with the variable `axis`."
      ]
    },
{
      "cell_type": "code",
      "execution_count": "None",
      "metadata": {
        "colab": {
          "base_uri": "https://localhost:8080/"
        },
        "executionInfo": {
          "elapsed": 900,
          "status": "ok",
          "timestamp": 1619078341692,
          "user": {
            "displayName": "DeepMaxFN FN",
            "photoUrl": "",
            "userId": "18365930870935188133"
          },
          "user_tz": -120
        },
        "id": "9n-HgQkmlBJW",
        "outputId": "c5bf28ad-c490-4be2-e467-7bdad02ccf25"
      },
      "outputs": [
      {
          "name": "stdout",
          "output_type": "stream",
          "text": [
          "arr_ordenado0: [[3 0 1]\n",
" [5 2 4]]\n",
"\n",
"arr_ordenado1: [[2 3 4]\n",
" [0 1 5]]\n",
"\n"
          ]
        }
      ],
      "source": [
      "arr = np.array([[3, 2, 4], [5, 0, 1]])\n",
"\n",
"arr_ordenado0 = np.sort(arr, axis=0) # Se ordena con respecto a la primera dimensión\n",
"arr_ordenado1 = np.sort(arr, axis=1) # Se ordena con respecto a la segunda dimensión\n",
"\n",
"print(f\"arr_ordenado0: {arr_ordenado0}\\n\")\n",
"print(f\"arr_ordenado1: {arr_ordenado1}\\n\")"
      ]
    },
{
      "cell_type": "markdown",
      "metadata": {
        "id": "WH7CQyLfasDn"
      },
      "source": [
      "## 14. Filters in matrices"
      ]
    },
{
      "cell_type": "markdown",
      "metadata": {
        "id": "X1md_Y-Nauoq"
      },
      "source": [
      "Numpy offers the ability to search for certain elements of an array and create a new one.\n",
"\n",
"This is done by creating an array of Boolean indexes, i.e., it creates a new array that indicates which positions in the array we keep and which we do not keep.\n",
"\n",
"Let's see an example of a Boolean index array"
      ]
    },
{
      "cell_type": "code",
      "execution_count": "None",
      "metadata": {
        "colab": {
          "base_uri": "https://localhost:8080/"
        },
        "executionInfo": {
          "elapsed": 544,
          "status": "ok",
          "timestamp": 1619159960999,
          "user": {
            "displayName": "DeepMaxFN FN",
            "photoUrl": "",
            "userId": "18365930870935188133"
          },
          "user_tz": -120
        },
        "id": "L4GBA6GjbfuX",
        "outputId": "2e7493b0-db95-4c73-a266-6e38935b21ce"
      },
      "outputs": [
      {
          "name": "stdout",
          "output_type": "stream",
          "text": [
          "Array original: [37 85 12 45 69 22]\n",
"indices booleanos: [False, False, True, False, False, True]\n",
"Array filtrado: [12 22]\n"
          ]
        }
      ],
      "source": [
      "arr = np.array([37, 85, 12, 45, 69, 22])\n",
"\n",
"indices_booleanos = [False, False, True, False, False, True]\n",
"\n",
"arr_filter = arr[indices_booleanos]\n",
"\n",
"print(f\"Array original: {arr}\")\n",
"print(f\"indices booleanos: {indices_booleanos}\")\n",
"print(f\"Array filtrado: {arr_filter}\")"
      ]
    },
{
      "cell_type": "markdown",
      "metadata": {
        "id": "y_SG6QLtb3c6"
      },
      "source": [
      "As you can see, the filtered array (`arr_filetr`), has only been left from the original array (`arr`) with the elements that match those where the array `indices_booleans` is `True`."
      ]
    },
{
      "cell_type": "markdown",
      "metadata": {
        "id": "mrEAqb9dcF9x"
      },
      "source": [
      "Another thing we can see is that it has only kept the even elements, so now we will see how to keep the even elements of an array, without having to do it by hand as we have done in the previous example"
      ]
    },
{
      "cell_type": "code",
      "execution_count": "None",
      "metadata": {
        "colab": {
          "base_uri": "https://localhost:8080/"
        },
        "executionInfo": {
          "elapsed": 616,
          "status": "ok",
          "timestamp": 1619160024912,
          "user": {
            "displayName": "DeepMaxFN FN",
            "photoUrl": "",
            "userId": "18365930870935188133"
          },
          "user_tz": -120
        },
        "id": "ldsnxKsFcjgo",
        "outputId": "040041c4-ac05-4322-d0c5-b58d33dda558"
      },
      "outputs": [
      {
          "name": "stdout",
          "output_type": "stream",
          "text": [
          "Array original: [[ 1  2  3  4  5]\n",
" [ 6  7  8  9 10]]\n",
"\n",
"indices booleanos: [[False  True False  True False]\n",
" [ True False  True False  True]]\n",
"\n",
"Array filtrado: [ 2  4  6  8 10]\n"
          ]
        }
      ],
      "source": [
      "arr = np.array([[1, 2, 3, 4, 5], \n",
"                [6, 7, 8, 9, 10]])\n",
" \n",
"indices_booleanos = arr % 2 == 0\n",
" \n",
"arr_filter = arr[indices_booleanos]\n",
" \n",
"print(f\"Array original: {arr}\\n\")\n",
"print(f\"indices booleanos: {indices_booleanos}\\n\")\n",
"print(f\"Array filtrado: {arr_filter}\")"
      ]
    }
  ],
  "metadata": {
    "colab": {
      "authorship_tag": "ABX9TyNER5/dTrBMaaCvrciKA5ii",
      "collapsed_sections": [],
      "name": "2021-04-23-Calculo-matricial-con-Numpy.ipynb",
      "provenance": []
    },
    "kernelspec": {
      "display_name": "Python 3.7.6 ('base')",
      "language": "python",
      "name": "python3"
    },
    "language_info": {
      "codemirror_mode": {
        "name": "ipython",
        "version": 3
      },
      "file_extension": ".py",
      "mimetype": "text/x-python",
      "name": "python",
      "nbconvert_exporter": "python",
      "pygments_lexer": "ipython3",
      "version": "3.7.6"
    },
    "vscode": {
      "interpreter": {
        "hash": "d5745ab6aba164e1152437c779991855725055592b9f2bdb41a4825db7168d26"
      }
    }
  },
  "nbformat": 4,
  "nbformat_minor": 0
}
