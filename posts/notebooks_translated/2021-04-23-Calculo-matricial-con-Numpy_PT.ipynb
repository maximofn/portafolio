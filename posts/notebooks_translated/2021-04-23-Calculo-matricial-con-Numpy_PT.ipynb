{
  "cells": [
    {
      "cell_type": "markdown",
      "metadata": {
        "id": "dsaKCKL0IxZl_discalimer"
      },
      "source": [
        "# Cálculo matricial com NumPy"
      ]
    },
    {
      "cell_type": "markdown",
      "metadata": {
        "id": "dsaKCKL0IxZl_discalimer"
      },
      "source": [
        " > Aviso: Este post foi traduzido para o português usando um modelo de tradução automática. Por favor, me avise se encontrar algum erro."
      ]
    },
    {
      "cell_type": "markdown",
      "metadata": {
        "id": "Ho_8zgIiI0We"
      },
      "source": [
        "## 1. Resumo"
      ]
    },
    {
      "cell_type": "markdown",
      "metadata": {
        "id": "tT4POPIFNU9M"
      },
      "source": [
        "Vamos ver uma pequena introdução à biblioteca de cálculo matricial `NumPy`. Esta biblioteca está projetada para todo tipo de cálculo matricial, então vamos nos concentrar apenas na parte que será útil para entender os cálculos dentro das redes neurais, deixando de lado coisas interessantes como o uso da biblioteca para a álgebra linear.\n",
        "\n",
        "\n",
        "<p align=\"center\">\n",
        "<img src=\"https://pub-fb664c455eca46a2ba762a065ac900f7.r2.dev/numpy-icon.webp\">\n",
        "</p>"
      ]
    },
    {
      "cell_type": "markdown",
      "metadata": {
        "id": "8JYjaT6-B40Q"
      },
      "source": [
        "## 2. O que é o NumPy?"
      ]
    },
    {
      "cell_type": "markdown",
      "metadata": {
        "id": "ZKFFTs-VB-_B"
      },
      "source": [
        "NumPy é uma biblioteca de Python projetada para realizar cálculos matriciais. O cálculo matricial é algo que se utiliza muito na ciência em geral e na ciência de dados em particular, por isso é necessário ter uma biblioteca que faça isso muito bem."
      ]
    },
    {
      "cell_type": "markdown",
      "metadata": {
        "id": "yVaYBl8is1w7"
      },
      "source": [
        "Seu nome significa Numerical Python"
      ]
    },
    {
      "cell_type": "markdown",
      "metadata": {
        "id": "YFi69ESms3LC"
      },
      "source": [
        "Seu objeto principal é o `ndarray`, que encapsula matrizes de dimensão `n` de tipos de dados homogêneos, ao contrário das listas do Python, que podem ter dados de diferentes tipos."
      ]
    },
    {
      "cell_type": "markdown",
      "metadata": {
        "id": "q2Ae3TnpCQfV"
      },
      "source": [
        "NumPy tem como objetivo realizar o cálculo matricial muito mais rápido do que com as listas do Python, mas como isso é possível?\n",
        "\n",
        "*   NumPy utiliza código compilado, enquanto Python utiliza código interpretado. A diferença é que Python no momento da execução tem que interpretar, compilar e executar o código, enquanto NumPy já está compilado, portanto, executa mais rápido\n",
        "*   Os `ndarray`s têm um tamanho fixo, ao contrário das listas do Python que são dinâmicas. Se no NumPy quiser modificar o tamanho de uma matriz, será criada uma nova e a antiga será eliminada.\n",
        "*   Todos os elementos dos `ndarray`s são do mesmo tipo de dado, ao contrário das listas de Python que podem ter elementos de diferentes tipos\n",
        "*   Parte do código do NumPy está escrita em C/C++ (muito mais rápida que Python)\n",
        "*   Os dados das matrizes são armazenados na memória de maneira contínua, ao contrário das listas do Python, o que faz com que seja muito mais rápido manipulá-los"
      ]
    },
    {
      "cell_type": "markdown",
      "metadata": {
        "id": "apttcS0eussw"
      },
      "source": [
        "NumPy oferece a facilidade de usar código simples de escrever e de ler, mas que está escrito e pré-compilado em C, o que o torna muito mais rápido.\n",
        " \n",
        "Suponhamos que queremos multiplicar dois vetores, isso seria feito em C da seguinte maneira:\n",
        " \n",
        "```c\n",
        "for (i = 0; i < rows; i++): {\n",
        "  for (j = 0; j < columns; j++): {\n",
        "    c[i][j] = a[i][j]*b[i][j];\n",
        "  }\n",
        "}\n",
        "```\n",
        " \n",
        "NumPy oferece a possibilidade de executar este código por baixo, mas de uma maneira muito mais fácil de escrever e de entender através de\n",
        " \n",
        "```python\n",
        "c = a * b\n",
        "```"
      ]
    },
    {
      "cell_type": "markdown",
      "metadata": {
        "id": "ObWp9wHpwPr5"
      },
      "source": [
        "NumPy oferece código vetorizado, o que significa não ter que escrever laços, mas que, no entanto, estão sendo executados em segundo plano em código C otimizado e pré-compilado. Isso tem as seguintes vantagens:\n",
        "\n",
        "*   O código é mais fácil de escrever e ler\n",
        "*   Como são necessárias menos linhas de código, há menor probabilidade de introduzir erros\n",
        "*   O código se assemelha mais à notação matemática"
      ]
    },
    {
      "cell_type": "markdown",
      "metadata": {
        "id": "s2LkAMGtDGJt"
      },
      "source": [
        "### 2.1. NumPy como `np`"
      ]
    },
    {
      "cell_type": "markdown",
      "metadata": {
        "id": "99W8bljpDLo_"
      },
      "source": [
        "Geralmente na hora de importar NumPy costuma-se importá-lo com o alias de `np`"
      ]
    },
    {
      "cell_type": "code",
      "execution_count": 1,
      "metadata": {
        "colab": {
          "base_uri": "https://localhost:8080/"
        },
        "executionInfo": {
          "elapsed": 644,
          "status": "ok",
          "timestamp": 1619162104377,
          "user": {
            "displayName": "DeepMaxFN FN",
            "photoUrl": "",
            "userId": "18365930870935188133"
          },
          "user_tz": -120
        },
        "id": "NYNGwSloDS1N",
        "outputId": "b0757f6d-cb64-4ce5-c20e-1de5f7f0fb30"
      },
      "outputs": [
        {
          "name": "stdout",
          "output_type": "stream",
          "text": [
            "1.18.1\n"
          ]
        }
      ],
      "source": [
        "import numpy as np\n",
        "\n",
        "print(np.__version__)"
      ]
    },
    {
      "cell_type": "markdown",
      "metadata": {
        "id": "NxTpzwY3e6pd"
      },
      "source": [
        "## 3. Velocidade do NumPy"
      ]
    },
    {
      "cell_type": "markdown",
      "metadata": {
        "id": "42o8Sq9ve96C"
      },
      "source": [
        "Como foi explicado, o NumPy realiza o cálculo muito mais rápido do que as listas do Python. Vamos ver um exemplo no qual é realizado o produto escalar de duas matrizes, usando listas do Python e usando `ndarray`s."
      ]
    },
    {
      "cell_type": "code",
      "execution_count": 2,
      "metadata": {
        "colab": {
          "base_uri": "https://localhost:8080/"
        },
        "executionInfo": {
          "elapsed": 1402,
          "status": "ok",
          "timestamp": 1619162362470,
          "user": {
            "displayName": "DeepMaxFN FN",
            "photoUrl": "",
            "userId": "18365930870935188133"
          },
          "user_tz": -120
        },
        "id": "gi-muCeUfHlq",
        "outputId": "5b56aeae-bfcb-4ad6-ec66-3e0715d76c63"
      },
      "outputs": [
        {
          "name": "stdout",
          "output_type": "stream",
          "text": [
            "Tiempo para realizar el producto escalar de dos listas de Python de dimensiones 1000x1000: 0.5234 ms\n",
            "Tiempo para realizar el producto escalar de dos ndarrays de NumPy de dimensiones 1000x1000: 0.0017 ms\n",
            "\n",
            "Hacer el cálculo con listas de Python tarda 316.66 veces más rápido que con ndarrays de NumPy\n"
          ]
        }
      ],
      "source": [
        "from time import time\n",
        " \n",
        "# Dimensión de las matrices\n",
        "dim = 1000\n",
        "shape = (dim, dim)\n",
        " \n",
        "# Se crean dos ndarrays de NumPy de dimensión dim x dim\n",
        "ndarray_a = np.ones(shape=shape)\n",
        "ndarray_b = np.ones(shape=shape)\n",
        " \n",
        "# Se crean dos listas de Python de dimensión dim x dim a partir de los ndarrays\n",
        "list_a = list(ndarray_a)\n",
        "list_b = list(ndarray_b)\n",
        " \n",
        "# Se crean el ndarray y la lista de Python donde se guardarán los resultados\n",
        "ndarray_c = np.empty(shape=shape)\n",
        "list_c = list(ndarray_c)\n",
        " \n",
        "# Producto escalar de dos listas de python\n",
        "t0 = time()\n",
        "for fila in range(dim):\n",
        "  for columna in range(dim):\n",
        "    list_c[fila][columna] = list_a[fila][columna] * list_b[fila][columna]\n",
        "t = time()\n",
        "t_listas = t-t0\n",
        "print(f\"Tiempo para realizar el producto escalar de dos listas de Python de dimensiones {dim}x{dim}: {t_listas:.4f} ms\")\n",
        " \n",
        " \n",
        "# Producto escalar de dos ndarrays de NumPy\n",
        "t0 = time()\n",
        "ndarray_c = ndarray_a * ndarray_b\n",
        "t = time()\n",
        "t_ndarrays = t-t0\n",
        "print(f\"Tiempo para realizar el producto escalar de dos ndarrays de NumPy de dimensiones {dim}x{dim}: {t_ndarrays:.4f} ms\")\n",
        " \n",
        "# Comparación de tiempos\n",
        "print(f\"\\nHacer el cálculo con listas de Python tarda {t_listas/t_ndarrays:.2f} veces más rápido que con ndarrays de NumPy\")"
      ]
    },
    {
      "cell_type": "markdown",
      "metadata": {
        "id": "MiXbfLfOD4Ux"
      },
      "source": [
        "## 4. Matrizes em NumPy"
      ]
    },
    {
      "cell_type": "markdown",
      "metadata": {
        "id": "cXFj3YGgD7N_"
      },
      "source": [
        "Em NumPy, uma matriz é um objeto `ndarray`."
      ]
    },
    {
      "cell_type": "code",
      "execution_count": null,
      "metadata": {
        "colab": {
          "base_uri": "https://localhost:8080/"
        },
        "executionInfo": {
          "elapsed": 545,
          "status": "ok",
          "timestamp": 1616485870000,
          "user": {
            "displayName": "DeepMaxFN FN",
            "photoUrl": "",
            "userId": "18365930870935188133"
          },
          "user_tz": -60
        },
        "id": "gxQjcw4aEIM7",
        "outputId": "fdffa462-08b1-43e0-d539-266646021762"
      },
      "outputs": [
        {
          "name": "stdout",
          "output_type": "stream",
          "text": [
            "[1 2 3 4 5]\n",
            "<class 'numpy.ndarray'>\n"
          ]
        }
      ],
      "source": [
        "arr = np.array([1, 2, 3, 4, 5])\n",
        "\n",
        "print(arr)\n",
        "print(type(arr))"
      ]
    },
    {
      "cell_type": "markdown",
      "metadata": {
        "id": "EiZPmhCAxS07"
      },
      "source": [
        "### 4.1. Como criar matrizes"
      ]
    },
    {
      "cell_type": "markdown",
      "metadata": {
        "id": "4UkE1gVcERQZ"
      },
      "source": [
        "Com o método `array()` é possível criar `ndarray`s inserindo listas do Python (como no exemplo anterior) ou tuplas"
      ]
    },
    {
      "cell_type": "code",
      "execution_count": null,
      "metadata": {
        "colab": {
          "base_uri": "https://localhost:8080/"
        },
        "executionInfo": {
          "elapsed": 526,
          "status": "ok",
          "timestamp": 1616485937446,
          "user": {
            "displayName": "DeepMaxFN FN",
            "photoUrl": "",
            "userId": "18365930870935188133"
          },
          "user_tz": -60
        },
        "id": "isSSVGKAEdj_",
        "outputId": "85c40075-7616-47a4-99c1-1e88120300d6"
      },
      "outputs": [
        {
          "name": "stdout",
          "output_type": "stream",
          "text": [
            "[1 2 3 4 5]\n",
            "<class 'numpy.ndarray'>\n"
          ]
        }
      ],
      "source": [
        "arr = np.array((1, 2, 3, 4, 5))\n",
        "\n",
        "print(arr)\n",
        "print(type(arr))"
      ]
    },
    {
      "cell_type": "markdown",
      "metadata": {
        "id": "reVaFMSExevX"
      },
      "source": [
        "Com o método `zeros()` é possível criar matrizes cheias de zeros"
      ]
    },
    {
      "cell_type": "code",
      "execution_count": 3,
      "metadata": {
        "id": "Kv3jhYEEzXDo"
      },
      "outputs": [
        {
          "name": "stdout",
          "output_type": "stream",
          "text": [
            "[[0. 0. 0. 0.]\n",
            " [0. 0. 0. 0.]\n",
            " [0. 0. 0. 0.]]\n"
          ]
        }
      ],
      "source": [
        "arr = np.zeros((3, 4))\n",
        "\n",
        "print(arr)"
      ]
    },
    {
      "cell_type": "markdown",
      "metadata": {
        "id": "s_wlHe-_zMrv"
      },
      "source": [
        "O método `zeros_like(A)` retorna uma matriz com a mesma forma da matriz A, mas preenchida com zeros."
      ]
    },
    {
      "cell_type": "code",
      "execution_count": null,
      "metadata": {
        "colab": {
          "base_uri": "https://localhost:8080/"
        },
        "executionInfo": {
          "elapsed": 3461,
          "status": "ok",
          "timestamp": 1617605548192,
          "user": {
            "displayName": "DeepMaxFN FN",
            "photoUrl": "",
            "userId": "18365930870935188133"
          },
          "user_tz": -120
        },
        "id": "wDjtkNNmxo52",
        "outputId": "a558e322-1bfb-4da2-be39-b24013bda3ca"
      },
      "outputs": [
        {
          "name": "stdout",
          "output_type": "stream",
          "text": [
            "[0 0 0 0 0]\n"
          ]
        }
      ],
      "source": [
        "A = np.array((1, 2, 3, 4, 5))\n",
        "arr = np.zeros_like(A)\n",
        "\n",
        "print(arr)"
      ]
    },
    {
      "cell_type": "markdown",
      "metadata": {
        "id": "o_dO5vYfx2P0"
      },
      "source": [
        "Com o método `ones()` é possível criar matrizes cheias de uns"
      ]
    },
    {
      "cell_type": "code",
      "execution_count": null,
      "metadata": {
        "colab": {
          "base_uri": "https://localhost:8080/"
        },
        "executionInfo": {
          "elapsed": 871,
          "status": "ok",
          "timestamp": 1617605146390,
          "user": {
            "displayName": "DeepMaxFN FN",
            "photoUrl": "",
            "userId": "18365930870935188133"
          },
          "user_tz": -120
        },
        "id": "u3TbXNMVx5c7",
        "outputId": "4798e96e-1de7-4ec4-9847-bba54b4b84c2"
      },
      "outputs": [
        {
          "name": "stdout",
          "output_type": "stream",
          "text": [
            "[[1. 1. 1.]\n",
            " [1. 1. 1.]\n",
            " [1. 1. 1.]\n",
            " [1. 1. 1.]]\n"
          ]
        }
      ],
      "source": [
        "arr = np.ones((4, 3))\n",
        "\n",
        "print(arr)"
      ]
    },
    {
      "cell_type": "markdown",
      "metadata": {
        "id": "TH_zTrWizkHQ"
      },
      "source": [
        "O método `ones_like(A)` retorna uma matriz com a mesma forma da matriz A, mas preenchida com uns."
      ]
    },
    {
      "cell_type": "code",
      "execution_count": null,
      "metadata": {
        "colab": {
          "base_uri": "https://localhost:8080/"
        },
        "executionInfo": {
          "elapsed": 883,
          "status": "ok",
          "timestamp": 1617605595989,
          "user": {
            "displayName": "DeepMaxFN FN",
            "photoUrl": "",
            "userId": "18365930870935188133"
          },
          "user_tz": -120
        },
        "id": "XBbx25sLzmxg",
        "outputId": "3cb7a559-d20d-4306-ce90-34fa29359c3c"
      },
      "outputs": [
        {
          "name": "stdout",
          "output_type": "stream",
          "text": [
            "[1 1 1 1 1]\n"
          ]
        }
      ],
      "source": [
        "A = np.array((1, 2, 3, 4, 5))\n",
        "arr = np.ones_like(A)\n",
        "\n",
        "print(arr)"
      ]
    },
    {
      "cell_type": "markdown",
      "metadata": {
        "id": "9DVKb2uNzu_h"
      },
      "source": [
        "Com o método `empty()` podemos criar matrizes com as dimensões que desejarmos, mas inicializadas aleatoriamente."
      ]
    },
    {
      "cell_type": "code",
      "execution_count": null,
      "metadata": {
        "colab": {
          "base_uri": "https://localhost:8080/"
        },
        "executionInfo": {
          "elapsed": 5703,
          "status": "ok",
          "timestamp": 1617605671464,
          "user": {
            "displayName": "DeepMaxFN FN",
            "photoUrl": "",
            "userId": "18365930870935188133"
          },
          "user_tz": -120
        },
        "id": "dPXil0BSz4iT",
        "outputId": "47428a6e-c365-4622-a85f-47eb08ad1a6a"
      },
      "outputs": [
        {
          "name": "stdout",
          "output_type": "stream",
          "text": [
            "[[4.66169180e-310 2.35541533e-312 2.41907520e-312]\n",
            " [2.14321575e-312 2.46151512e-312 2.31297541e-312]\n",
            " [2.35541533e-312 2.05833592e-312 2.22809558e-312]\n",
            " [2.56761491e-312 2.48273508e-312 2.05833592e-312]\n",
            " [2.05833592e-312 2.29175545e-312 2.07955588e-312]\n",
            " [2.14321575e-312 0.00000000e+000 0.00000000e+000]]\n"
          ]
        }
      ],
      "source": [
        "arr = np.empty((6, 3))\n",
        "\n",
        "print(arr)"
      ]
    },
    {
      "cell_type": "markdown",
      "metadata": {
        "id": "ywLN4zW7z9tN"
      },
      "source": [
        "O método `empty_like(A)` retorna uma matriz com a mesma forma da matriz A, mas inicializada aleatoriamente."
      ]
    },
    {
      "cell_type": "code",
      "execution_count": null,
      "metadata": {
        "colab": {
          "base_uri": "https://localhost:8080/"
        },
        "executionInfo": {
          "elapsed": 4148,
          "status": "ok",
          "timestamp": 1617606151179,
          "user": {
            "displayName": "DeepMaxFN FN",
            "photoUrl": "",
            "userId": "18365930870935188133"
          },
          "user_tz": -120
        },
        "id": "TguMIQGY0CuR",
        "outputId": "948dd35f-7ed8-4a3c-a179-5a2edafc7974"
      },
      "outputs": [
        {
          "name": "stdout",
          "output_type": "stream",
          "text": [
            "[4607182418800017408 4611686018427387904 4613937818241073152\n",
            " 4616189618054758400 4617315517961601024]\n"
          ]
        }
      ],
      "source": [
        "A = np.array((1, 2, 3, 4, 5))\n",
        "arr = np.empty_like(A)\n",
        "\n",
        "print(arr)"
      ]
    },
    {
      "cell_type": "markdown",
      "metadata": {
        "id": "ZesvbJA1yBYn"
      },
      "source": [
        "Com o método `arange(start, stop, step)` é possível criar matrizes em um intervalo determinado. Este método é semelhante ao método `range()` do Python."
      ]
    },
    {
      "cell_type": "code",
      "execution_count": null,
      "metadata": {
        "colab": {
          "base_uri": "https://localhost:8080/"
        },
        "executionInfo": {
          "elapsed": 1112,
          "status": "ok",
          "timestamp": 1617605302236,
          "user": {
            "displayName": "DeepMaxFN FN",
            "photoUrl": "",
            "userId": "18365930870935188133"
          },
          "user_tz": -120
        },
        "id": "k8rBPmYwycJK",
        "outputId": "2d722034-2b10-49ef-9c3f-e2d8343c73dd"
      },
      "outputs": [
        {
          "name": "stdout",
          "output_type": "stream",
          "text": [
            "[10 15 20 25]\n"
          ]
        }
      ],
      "source": [
        "arr = np.arange(10, 30, 5)\n",
        "\n",
        "print(arr)"
      ]
    },
    {
      "cell_type": "markdown",
      "metadata": {
        "id": "oRT8G0AbyqZ1"
      },
      "source": [
        "Quando `arange` é usado com argumentos de ponto flutuante, geralmente não é possível prever o número de elementos obtidos, devido à precisão de ponto flutuante ser finita.\n",
        "\n",
        "Por esse motivo, é geralmente melhor usar a função `linspace(start, stop, n)` que recebe como argumento a quantidade de elementos que desejamos, em vez do passo."
      ]
    },
    {
      "cell_type": "code",
      "execution_count": null,
      "metadata": {
        "colab": {
          "base_uri": "https://localhost:8080/"
        },
        "executionInfo": {
          "elapsed": 882,
          "status": "ok",
          "timestamp": 1617605428603,
          "user": {
            "displayName": "DeepMaxFN FN",
            "photoUrl": "",
            "userId": "18365930870935188133"
          },
          "user_tz": -120
        },
        "id": "FHeULaTNy7HB",
        "outputId": "26d88bc2-8efa-42e0-b1bb-19ca2a5e9129"
      },
      "outputs": [
        {
          "name": "stdout",
          "output_type": "stream",
          "text": [
            "[0.   0.25 0.5  0.75 1.   1.25 1.5  1.75 2.  ]\n"
          ]
        }
      ],
      "source": [
        "arr = np.linspace(0, 2, 9)\n",
        " \n",
        "print(arr)"
      ]
    },
    {
      "attachments": {},
      "cell_type": "markdown",
      "metadata": {},
      "source": [
        "Por último, se quisermos criar matrizes com números aleatórios, podemos usar a função `random.rand` com uma tupla com as dimensões como parâmetro."
      ]
    },
    {
      "cell_type": "code",
      "execution_count": 8,
      "metadata": {},
      "outputs": [
        {
          "name": "stdout",
          "output_type": "stream",
          "text": [
            "[[0.32726085 0.65571767 0.73126697]\n",
            " [0.91938206 0.9862451  0.95033649]]\n"
          ]
        }
      ],
      "source": [
        "arr = np.random.rand(2, 3)\n",
        "\n",
        "print(arr)"
      ]
    },
    {
      "cell_type": "markdown",
      "metadata": {
        "id": "0ssLzP1kEnCF"
      },
      "source": [
        "### 4.2. Dimensões das matrizes"
      ]
    },
    {
      "cell_type": "markdown",
      "metadata": {
        "id": "VTw-pQR_Er74"
      },
      "source": [
        "Em NumPy podemos criar matrizes de qualquer dimensão. Para obter a dimensão de um array usamos o método `ndim`"
      ]
    },
    {
      "cell_type": "markdown",
      "metadata": {
        "id": "FG5eBy3yExad"
      },
      "source": [
        "Matriz de dimensão 0, o que equivaleria a um número"
      ]
    },
    {
      "cell_type": "code",
      "execution_count": null,
      "metadata": {
        "colab": {
          "base_uri": "https://localhost:8080/"
        },
        "executionInfo": {
          "elapsed": 636,
          "status": "ok",
          "timestamp": 1616486122678,
          "user": {
            "displayName": "DeepMaxFN FN",
            "photoUrl": "",
            "userId": "18365930870935188133"
          },
          "user_tz": -60
        },
        "id": "x-IKjbJiFAT0",
        "outputId": "0fa01b34-11b7-42a7-f06b-3e41e8816009"
      },
      "outputs": [
        {
          "name": "stdout",
          "output_type": "stream",
          "text": [
            "42\n",
            "0\n"
          ]
        }
      ],
      "source": [
        "arr = np.array(42)\n",
        "\n",
        "print(arr)\n",
        "print(arr.ndim)"
      ]
    },
    {
      "cell_type": "markdown",
      "metadata": {
        "id": "b5mTGO1gFQH2"
      },
      "source": [
        "Matriz de dimensão 1, o que equivaleria a um vetor"
      ]
    },
    {
      "cell_type": "code",
      "execution_count": null,
      "metadata": {
        "colab": {
          "base_uri": "https://localhost:8080/"
        },
        "executionInfo": {
          "elapsed": 508,
          "status": "ok",
          "timestamp": 1616486157272,
          "user": {
            "displayName": "DeepMaxFN FN",
            "photoUrl": "",
            "userId": "18365930870935188133"
          },
          "user_tz": -60
        },
        "id": "GQcWE1qfFQH3",
        "outputId": "a3918029-6703-4f92-ca40-80e2bde4c896"
      },
      "outputs": [
        {
          "name": "stdout",
          "output_type": "stream",
          "text": [
            "[1 2 3 4 5]\n",
            "1\n"
          ]
        }
      ],
      "source": [
        "arr = np.array([1, 2, 3, 4, 5])\n",
        "\n",
        "print(arr)\n",
        "print(arr.ndim)"
      ]
    },
    {
      "cell_type": "markdown",
      "metadata": {
        "id": "cdAhvRQ3FVu8"
      },
      "source": [
        "Matriz de dimensão 2, o que equivaleria a uma matriz"
      ]
    },
    {
      "cell_type": "code",
      "execution_count": null,
      "metadata": {
        "colab": {
          "base_uri": "https://localhost:8080/"
        },
        "executionInfo": {
          "elapsed": 607,
          "status": "ok",
          "timestamp": 1616486198138,
          "user": {
            "displayName": "DeepMaxFN FN",
            "photoUrl": "",
            "userId": "18365930870935188133"
          },
          "user_tz": -60
        },
        "id": "f8cHNh10FVu9",
        "outputId": "f187e89a-4d13-4139-ab0a-fbfab417b901"
      },
      "outputs": [
        {
          "name": "stdout",
          "output_type": "stream",
          "text": [
            "[[ 1  2  3  4  5]\n",
            " [ 6  7  8  9 10]]\n",
            "2\n"
          ]
        }
      ],
      "source": [
        "arr = np.array([[1, 2, 3, 4, 5], \n",
        "                [6, 7, 8, 9, 10]])\n",
        "\n",
        "print(arr)\n",
        "print(arr.ndim)"
      ]
    },
    {
      "cell_type": "markdown",
      "metadata": {
        "id": "sSqtG5uMFuro"
      },
      "source": [
        "Matriz de dimensão 3"
      ]
    },
    {
      "cell_type": "code",
      "execution_count": null,
      "metadata": {
        "colab": {
          "base_uri": "https://localhost:8080/"
        },
        "executionInfo": {
          "elapsed": 514,
          "status": "ok",
          "timestamp": 1616486402702,
          "user": {
            "displayName": "DeepMaxFN FN",
            "photoUrl": "",
            "userId": "18365930870935188133"
          },
          "user_tz": -60
        },
        "id": "91ZzzmGvFurp",
        "outputId": "6cd98836-2fa0-469a-c9a9-d8a324dab6e2"
      },
      "outputs": [
        {
          "name": "stdout",
          "output_type": "stream",
          "text": [
            "[[[ 1  2  3  4  5]\n",
            "  [ 6  7  8  9 10]]\n",
            "\n",
            " [[11 12 13 14 15]\n",
            "  [16 17 18 19 20]]]\n",
            "3\n"
          ]
        }
      ],
      "source": [
        "arr = np.array([\n",
        "                [[1, 2, 3, 4, 5], \n",
        "                [6, 7, 8, 9, 10]],\n",
        "                \n",
        "                [[11, 12, 13, 14, 15], \n",
        "                [16, 17, 18, 19, 20]]\n",
        "                ])\n",
        "\n",
        "print(arr)\n",
        "print(arr.ndim)"
      ]
    },
    {
      "cell_type": "markdown",
      "metadata": {
        "id": "XvUK3SjEGY1S"
      },
      "source": [
        "Matriz de dimensão N. Na hora de criar `ndarray`s, pode-se estabelecer o número de dimensões por meio do parâmetro `ndim`."
      ]
    },
    {
      "cell_type": "code",
      "execution_count": null,
      "metadata": {
        "colab": {
          "base_uri": "https://localhost:8080/"
        },
        "executionInfo": {
          "elapsed": 592,
          "status": "ok",
          "timestamp": 1616486566016,
          "user": {
            "displayName": "DeepMaxFN FN",
            "photoUrl": "",
            "userId": "18365930870935188133"
          },
          "user_tz": -60
        },
        "id": "PHFUsROEGY1T",
        "outputId": "4e79c493-6125-44ad-e1c5-cd0b5009d24d"
      },
      "outputs": [
        {
          "name": "stdout",
          "output_type": "stream",
          "text": [
            "[[[[[[1 2 3 4 5]]]]]]\n",
            "6\n"
          ]
        }
      ],
      "source": [
        "arr = np.array([1, 2, 3, 4, 5], ndmin=6)\n",
        "\n",
        "print(arr)\n",
        "print(arr.ndim)"
      ]
    },
    {
      "attachments": {},
      "cell_type": "markdown",
      "metadata": {},
      "source": [
        "### 4.3. Tamanho das matrizes"
      ]
    },
    {
      "attachments": {},
      "cell_type": "markdown",
      "metadata": {},
      "source": [
        "Se quisermos ver o tamanho da matriz em vez de sua dimensão, podemos usar o método `shape`"
      ]
    },
    {
      "cell_type": "code",
      "execution_count": 2,
      "metadata": {},
      "outputs": [
        {
          "name": "stdout",
          "output_type": "stream",
          "text": [
            "(2, 2, 5)\n"
          ]
        }
      ],
      "source": [
        "arr = np.array([\n",
        "                [[1, 2, 3, 4, 5], \n",
        "                [6, 7, 8, 9, 10]],\n",
        "                \n",
        "                [[11, 12, 13, 14, 15], \n",
        "                [16, 17, 18, 19, 20]]\n",
        "                ])\n",
        "\n",
        "print(arr.shape)"
      ]
    },
    {
      "cell_type": "markdown",
      "metadata": {
        "id": "OhA23hA_ZLwO"
      },
      "source": [
        "## 5. Tipo de dados"
      ]
    },
    {
      "cell_type": "markdown",
      "metadata": {
        "id": "jI10xOLEZPSd"
      },
      "source": [
        "Os dados que as matrizes do NumPy podem armazenar são os seguintes:\n",
        "\n",
        "\n",
        "*   `i` - inteiro\n",
        "*   `b` - booleano\n",
        "*   `u` - inteiro sem sinal\n",
        "*   `f` - flutuante\n",
        "*   `c` - Complexo de ponto flutuante\n",
        "*   `m` - Timedelta\n",
        "*   `M` - DataHora\n",
        "*   `O` - Objeto\n",
        "*   `S` - string\n",
        "*   `U` - String de Unicode\n",
        "*   `V` - Fragmento de memória fixo para outro tipo (void)"
      ]
    },
    {
      "cell_type": "markdown",
      "metadata": {
        "id": "C3NmQFKSaWw2"
      },
      "source": [
        "Podemos verificar o tipo de dados de uma matriz usando `dtype`"
      ]
    },
    {
      "cell_type": "code",
      "execution_count": null,
      "metadata": {
        "colab": {
          "base_uri": "https://localhost:8080/"
        },
        "executionInfo": {
          "elapsed": 457,
          "status": "ok",
          "timestamp": 1616743394690,
          "user": {
            "displayName": "DeepMaxFN FN",
            "photoUrl": "",
            "userId": "18365930870935188133"
          },
          "user_tz": -60
        },
        "id": "wYc_QpLwagXO",
        "outputId": "09376a82-01f5-4947-b2ad-b9aa6b7bfa1f"
      },
      "outputs": [
        {
          "name": "stdout",
          "output_type": "stream",
          "text": [
            "int64\n",
            "<U6\n"
          ]
        }
      ],
      "source": [
        "arr = np.array([1, 2, 3, 4])\n",
        "print(arr.dtype)\n",
        "\n",
        "arr = np.array(['apple', 'banana', 'cherry'])\n",
        "print(arr.dtype)"
      ]
    },
    {
      "cell_type": "markdown",
      "metadata": {
        "id": "2I0-eFcIaK45"
      },
      "source": [
        "Também podemos criar matrizes indicando o tipo de dado que queremos que tenha através de `dtype`"
      ]
    },
    {
      "cell_type": "code",
      "execution_count": null,
      "metadata": {
        "colab": {
          "base_uri": "https://localhost:8080/"
        },
        "executionInfo": {
          "elapsed": 427,
          "status": "ok",
          "timestamp": 1616743683284,
          "user": {
            "displayName": "DeepMaxFN FN",
            "photoUrl": "",
            "userId": "18365930870935188133"
          },
          "user_tz": -60
        },
        "id": "H9Xw_E6qaQzo",
        "outputId": "436b72b7-be05-4839-b31f-34a433c62fcf"
      },
      "outputs": [
        {
          "name": "stdout",
          "output_type": "stream",
          "text": [
            "Enteros:\n",
            "[1 2 3 4]\n",
            "int32\n",
            "\n",
            "Float:\n",
            "[1. 2. 3. 4.]\n",
            "float32\n",
            "\n",
            "Complejos:\n",
            "[1. 2. 3. 4.]\n",
            "float32\n",
            "\n",
            "String:\n",
            "[b'1' b'2' b'3' b'4']\n",
            "|S1\n",
            "\n",
            "Unicode string:\n",
            "['1' '2' '3' '4']\n",
            "<U1\n",
            "\n",
            "Objeto:\n",
            "[1 2 3 4]\n",
            "object\n"
          ]
        }
      ],
      "source": [
        "arr = np.array([1, 2, 3, 4], dtype='i')\n",
        "print(\"Enteros:\")\n",
        "print(arr)\n",
        "print(arr.dtype)\n",
        " \n",
        "arr = np.array([1, 2, 3, 4], dtype='f')\n",
        "print(\"\\nFloat:\")\n",
        "print(arr)\n",
        "print(arr.dtype)\n",
        " \n",
        "arr = np.array([1, 2, 3, 4], dtype='f')\n",
        "print(\"\\nComplejos:\")\n",
        "print(arr)\n",
        "print(arr.dtype)\n",
        " \n",
        "arr = np.array([1, 2, 3, 4], dtype='S')\n",
        "print(\"\\nString:\")\n",
        "print(arr)\n",
        "print(arr.dtype)\n",
        " \n",
        "arr = np.array([1, 2, 3, 4], dtype='U')\n",
        "print(\"\\nUnicode string:\")\n",
        "print(arr)\n",
        "print(arr.dtype)\n",
        " \n",
        "arr = np.array([1, 2, 3, 4], dtype='O')\n",
        "print(\"\\nObjeto:\")\n",
        "print(arr)\n",
        "print(arr.dtype)"
      ]
    },
    {
      "cell_type": "markdown",
      "metadata": {
        "id": "gSSYVuEvR2o7"
      },
      "source": [
        "## 6. Operações matemáticas"
      ]
    },
    {
      "cell_type": "markdown",
      "metadata": {
        "id": "tTL0pmnMSvNq"
      },
      "source": [
        "### 6.1. Operações básicas"
      ]
    },
    {
      "cell_type": "markdown",
      "metadata": {
        "id": "xroDCyi1Szub"
      },
      "source": [
        "As operações matriciais são realizadas elemento a elemento, por exemplo, se somarmos duas matrizes, serão somados os elementos de cada matriz na mesma posição, assim como é feito na soma matemática de duas matrizes."
      ]
    },
    {
      "cell_type": "code",
      "execution_count": null,
      "metadata": {
        "colab": {
          "base_uri": "https://localhost:8080/"
        },
        "executionInfo": {
          "elapsed": 447,
          "status": "ok",
          "timestamp": 1617698438360,
          "user": {
            "displayName": "DeepMaxFN FN",
            "photoUrl": "",
            "userId": "18365930870935188133"
          },
          "user_tz": -120
        },
        "id": "kApdyP3iS_-H",
        "outputId": "c184dc00-d2e4-4be5-bb3d-d51b612291a3"
      },
      "outputs": [
        {
          "name": "stdout",
          "output_type": "stream",
          "text": [
            "Matriz A: tamaño (3,)\n",
            "[1 2 3]\n",
            "\n",
            "Matriz B: tamaño (3,)\n",
            "[1 2 3]\n",
            "\n",
            "Matriz C: tamaño (3,)\n",
            "[2 4 6]\n",
            "\n",
            "Matriz D: tamaño (3,)\n",
            "[0 0 0]\n"
          ]
        }
      ],
      "source": [
        "A = np.array([1, 2, 3])\n",
        "B = np.array([1, 2, 3])\n",
        "\n",
        "print(f\"Matriz A: tamaño {A.shape}\\n{A}\\n\")\n",
        "print(f\"Matriz B: tamaño {B.shape}\\n{B}\\n\")\n",
        "\n",
        "C = A + B\n",
        "print(f\"Matriz C: tamaño {C.shape}\\n{C}\\n\")\n",
        "\n",
        "D = A - B\n",
        "print(f\"Matriz D: tamaño {D.shape}\\n{D}\")"
      ]
    },
    {
      "cell_type": "markdown",
      "metadata": {
        "id": "a0XaV7rvTo3U"
      },
      "source": [
        "No entanto, se fizermos a multiplicação de duas matrizes, também é feita a multiplicação de cada elemento das matrizes (produto escalar)."
      ]
    },
    {
      "cell_type": "code",
      "execution_count": null,
      "metadata": {
        "colab": {
          "base_uri": "https://localhost:8080/"
        },
        "executionInfo": {
          "elapsed": 553,
          "status": "ok",
          "timestamp": 1617698457233,
          "user": {
            "displayName": "DeepMaxFN FN",
            "photoUrl": "",
            "userId": "18365930870935188133"
          },
          "user_tz": -120
        },
        "id": "2SB-0UXkT1l6",
        "outputId": "345ccaa9-c781-4555-e0aa-ced85d16b0b6"
      },
      "outputs": [
        {
          "name": "stdout",
          "output_type": "stream",
          "text": [
            "Matriz A: tamaño (2, 2)\n",
            "[[3 5]\n",
            " [4 1]]\n",
            "\n",
            "Matriz B: tamaño (2, 2)\n",
            "[[ 1  2]\n",
            " [-3  0]]\n",
            "\n",
            "Matriz C: tamaño (2, 2)\n",
            "[[  3  10]\n",
            " [-12   0]]\n",
            "\n"
          ]
        }
      ],
      "source": [
        "A = np.array([[3, 5], [4, 1]])\n",
        "B = np.array([[1, 2], [-3, 0]])\n",
        " \n",
        "print(f\"Matriz A: tamaño {A.shape}\\n{A}\\n\")\n",
        "print(f\"Matriz B: tamaño {B.shape}\\n{B}\\n\")\n",
        " \n",
        "C = A * B\n",
        "print(f\"Matriz C: tamaño {C.shape}\\n{C}\\n\")"
      ]
    },
    {
      "cell_type": "markdown",
      "metadata": {
        "id": "nxkqaxoVT4ZJ"
      },
      "source": [
        "Para fazer o produto matricial que tem sido ensinado em matemática há toda a vida, é necessário usar o operador `@` ou o método `dot`."
      ]
    },
    {
      "cell_type": "code",
      "execution_count": null,
      "metadata": {
        "colab": {
          "base_uri": "https://localhost:8080/"
        },
        "executionInfo": {
          "elapsed": 508,
          "status": "ok",
          "timestamp": 1617698393392,
          "user": {
            "displayName": "DeepMaxFN FN",
            "photoUrl": "",
            "userId": "18365930870935188133"
          },
          "user_tz": -120
        },
        "id": "ALd3BfblUFtB",
        "outputId": "359002bb-35b4-4add-915d-ce3ea68bd90c"
      },
      "outputs": [
        {
          "name": "stdout",
          "output_type": "stream",
          "text": [
            "Matriz A: tamaño (3, 2)\n",
            "[[ 3  5]\n",
            " [ 4  1]\n",
            " [ 6 -1]]\n",
            "\n",
            "Matriz B: tamaño (2, 3)\n",
            "[[ 1  2  3]\n",
            " [-3  0  4]]\n",
            "\n",
            "Matriz C: tamaño (3, 3)\n",
            "[[-12   6  29]\n",
            " [  1   8  16]\n",
            " [  9  12  14]]\n",
            "\n",
            "Matriz D: tamaño (3, 3)\n",
            "[[-12   6  29]\n",
            " [  1   8  16]\n",
            " [  9  12  14]]\n"
          ]
        }
      ],
      "source": [
        "A = np.array([[3, 5], [4, 1], [6, -1]])\n",
        "B = np.array([[1, 2, 3], [-3, 0, 4]])\n",
        "\n",
        "print(f\"Matriz A: tamaño {A.shape}\\n{A}\\n\")\n",
        "print(f\"Matriz B: tamaño {B.shape}\\n{B}\\n\")\n",
        "\n",
        "C = A @ B\n",
        "print(f\"Matriz C: tamaño {C.shape}\\n{C}\\n\")\n",
        "\n",
        "D = A.dot(B)\n",
        "print(f\"Matriz D: tamaño {D.shape}\\n{D}\")"
      ]
    },
    {
      "cell_type": "markdown",
      "metadata": {
        "id": "wXubAlBnWAcG"
      },
      "source": [
        "Se quisermos modificar uma matriz existente em vez de criar uma nova, podemos usar os operadores `+=`, `-=` ou `*=`."
      ]
    },
    {
      "cell_type": "code",
      "execution_count": null,
      "metadata": {
        "colab": {
          "base_uri": "https://localhost:8080/"
        },
        "executionInfo": {
          "elapsed": 3249,
          "status": "ok",
          "timestamp": 1617698620879,
          "user": {
            "displayName": "DeepMaxFN FN",
            "photoUrl": "",
            "userId": "18365930870935188133"
          },
          "user_tz": -120
        },
        "id": "cQWYbT08WMwo",
        "outputId": "42729a3a-2d84-4448-ae8a-e261993150b4"
      },
      "outputs": [
        {
          "name": "stdout",
          "output_type": "stream",
          "text": [
            "Matriz A: tamaño (2, 2)\n",
            "[[3 5]\n",
            " [4 1]]\n",
            "\n",
            "Matriz B: tamaño (2, 2)\n",
            "[[ 1  2]\n",
            " [-3  0]]\n",
            "\n",
            "Matriz A tras suma: tamaño (2, 2)\n",
            "[[4 7]\n",
            " [1 1]]\n",
            "\n",
            "Matriz A tras resta: tamaño (2, 2)\n",
            "[[3 5]\n",
            " [4 1]]\n",
            "\n",
            "Matriz A tras multiplicación: tamaño (2, 2)\n",
            "[[  3  10]\n",
            " [-12   0]]\n",
            "\n"
          ]
        }
      ],
      "source": [
        "A = np.array([[3, 5], [4, 1]])\n",
        "B = np.array([[1, 2], [-3, 0]])\n",
        "\n",
        "print(f\"Matriz A: tamaño {A.shape}\\n{A}\\n\")\n",
        "print(f\"Matriz B: tamaño {B.shape}\\n{B}\\n\")\n",
        "\n",
        "A += B\n",
        "print(f\"Matriz A tras suma: tamaño {A.shape}\\n{A}\\n\")\n",
        "\n",
        "A -= B\n",
        "print(f\"Matriz A tras resta: tamaño {A.shape}\\n{A}\\n\")\n",
        "\n",
        "A *= B\n",
        "print(f\"Matriz A tras multiplicación: tamaño {A.shape}\\n{A}\\n\")"
      ]
    },
    {
      "cell_type": "markdown",
      "metadata": {
        "id": "VPWyiupwWllX"
      },
      "source": [
        "Operações podem ser realizadas em todos os elementos de uma matriz, isso é possível graças a uma propriedade chamada `broadcasting` que veremos com mais detalhes posteriormente."
      ]
    },
    {
      "cell_type": "code",
      "execution_count": null,
      "metadata": {
        "colab": {
          "base_uri": "https://localhost:8080/"
        },
        "executionInfo": {
          "elapsed": 585,
          "status": "ok",
          "timestamp": 1617698798325,
          "user": {
            "displayName": "DeepMaxFN FN",
            "photoUrl": "",
            "userId": "18365930870935188133"
          },
          "user_tz": -120
        },
        "id": "l-Ji4nLKWuxy",
        "outputId": "11b2b115-de0a-4205-9075-b907fd0fa864"
      },
      "outputs": [
        {
          "name": "stdout",
          "output_type": "stream",
          "text": [
            "Matriz A: tamaño (2, 2)\n",
            "[[3 5]\n",
            " [4 1]]\n",
            "\n",
            "Matriz B: tamaño (2, 2)\n",
            "[[ 6 10]\n",
            " [ 8  2]]\n",
            "\n",
            "Matriz C: tamaño (2, 2)\n",
            "[[ 9 25]\n",
            " [16  1]]\n",
            "\n",
            "Matriz D: tamaño (2, 2)\n",
            "[[ 0.28224002 -1.91784855]\n",
            " [-1.51360499  1.68294197]]\n"
          ]
        }
      ],
      "source": [
        "A = np.array([[3, 5], [4, 1]])\n",
        " \n",
        "print(f\"Matriz A: tamaño {A.shape}\\n{A}\\n\")\n",
        " \n",
        "B = A * 2\n",
        "print(f\"Matriz B: tamaño {B.shape}\\n{B}\\n\")\n",
        " \n",
        "C = A ** 2\n",
        "print(f\"Matriz C: tamaño {C.shape}\\n{C}\\n\")\n",
        " \n",
        "D = 2*np.sin(A)\n",
        "print(f\"Matriz D: tamaño {D.shape}\\n{D}\")"
      ]
    },
    {
      "cell_type": "markdown",
      "metadata": {
        "id": "thoWSEmJZR8a"
      },
      "source": [
        "### 6.2. Funções sobre matrizes"
      ]
    },
    {
      "cell_type": "markdown",
      "metadata": {
        "id": "yOCZSv-ZXNdy"
      },
      "source": [
        "Como pode ser visto no último cálculo, NumPy oferece operadores de funções sobre matrizes, há uma infinidade de [funções](https://numpy.org/doc/stable/reference/routines.html) que podem ser realizadas sobre matrizes, matemáticas, lógicas, de álgebra linear, etc. A seguir mostramos algumas"
      ]
    },
    {
      "cell_type": "code",
      "execution_count": null,
      "metadata": {
        "colab": {
          "base_uri": "https://localhost:8080/"
        },
        "executionInfo": {
          "elapsed": 500,
          "status": "ok",
          "timestamp": 1617699227388,
          "user": {
            "displayName": "DeepMaxFN FN",
            "photoUrl": "",
            "userId": "18365930870935188133"
          },
          "user_tz": -120
        },
        "id": "LS6zuh__YC_T",
        "outputId": "031973a2-054b-47c5-adf6-e7aa85788743"
      },
      "outputs": [
        {
          "name": "stdout",
          "output_type": "stream",
          "text": [
            "A\n",
            "[[3 5]\n",
            " [4 1]]\n",
            "\n",
            "exp(A)\n",
            "[[ 20.08553692 148.4131591 ]\n",
            " [ 54.59815003   2.71828183]]\n",
            "\n",
            "sqrt(A)\n",
            "[[1.73205081 2.23606798]\n",
            " [2.         1.        ]]\n",
            "\n",
            "cos(A)\n",
            "[[-0.9899925   0.28366219]\n",
            " [-0.65364362  0.54030231]]\n",
            "\n"
          ]
        }
      ],
      "source": [
        "A = np.array([[3, 5], [4, 1]])\n",
        "\n",
        "print(f\"A\\n{A}\\n\")\n",
        "\n",
        "print(f\"exp(A)\\n{np.exp(A)}\\n\")\n",
        "print(f\"sqrt(A)\\n{np.sqrt(A)}\\n\")\n",
        "print(f\"cos(A)\\n{np.cos(A)}\\n\")"
      ]
    },
    {
      "cell_type": "markdown",
      "metadata": {
        "id": "aSV5358rZYPC"
      },
      "source": [
        "Há algumas funções que retornam informações das matrizes, como a média"
      ]
    },
    {
      "cell_type": "code",
      "execution_count": null,
      "metadata": {
        "colab": {
          "base_uri": "https://localhost:8080/"
        },
        "executionInfo": {
          "elapsed": 546,
          "status": "ok",
          "timestamp": 1617699432121,
          "user": {
            "displayName": "DeepMaxFN FN",
            "photoUrl": "",
            "userId": "18365930870935188133"
          },
          "user_tz": -120
        },
        "id": "Tf-4K4KjZhLC",
        "outputId": "75f8f45b-10cf-4aa0-de18-c947e171952e"
      },
      "outputs": [
        {
          "name": "stdout",
          "output_type": "stream",
          "text": [
            "A\n",
            "[[3 5]\n",
            " [4 1]]\n",
            "\n",
            "A.mean()\n",
            "3.25\n",
            "\n"
          ]
        }
      ],
      "source": [
        "A = np.array([[3, 5], [4, 1]])\n",
        "\n",
        "print(f\"A\\n{A}\\n\")\n",
        "\n",
        "print(f\"A.mean()\\n{A.mean()}\\n\")"
      ]
    },
    {
      "cell_type": "markdown",
      "metadata": {
        "id": "Tnd9GheBZpAL"
      },
      "source": [
        "No entanto, podemos obter tais informações de cada eixo por meio do atributo `axis`. Se for 0, é feito em cada coluna; enquanto se for 1, é feito em cada linha."
      ]
    },
    {
      "cell_type": "code",
      "execution_count": null,
      "metadata": {
        "colab": {
          "base_uri": "https://localhost:8080/"
        },
        "executionInfo": {
          "elapsed": 524,
          "status": "ok",
          "timestamp": 1617699525477,
          "user": {
            "displayName": "DeepMaxFN FN",
            "photoUrl": "",
            "userId": "18365930870935188133"
          },
          "user_tz": -120
        },
        "id": "9Kd2YTKAZ2TU",
        "outputId": "fa201b09-7071-420d-cac9-c3278088f667"
      },
      "outputs": [
        {
          "name": "stdout",
          "output_type": "stream",
          "text": [
            "A\n",
            "[[3 5]\n",
            " [4 1]]\n",
            "\n",
            "A.mean() columnas\n",
            "[3.5 3. ]\n",
            "\n",
            "A.mean() filas\n",
            "[4.  2.5]\n",
            "\n"
          ]
        }
      ],
      "source": [
        "A = np.array([[3, 5], [4, 1]])\n",
        " \n",
        "print(f\"A\\n{A}\\n\")\n",
        " \n",
        "print(f\"A.mean() columnas\\n{A.mean(axis=0)}\\n\")\n",
        "print(f\"A.mean() filas\\n{A.mean(axis=1)}\\n\")"
      ]
    },
    {
      "cell_type": "markdown",
      "metadata": {
        "id": "k8OiJ4qvaJ-p"
      },
      "source": [
        "### 6.3. Transmissão"
      ]
    },
    {
      "cell_type": "markdown",
      "metadata": {
        "id": "OcJL8xXpaMfi"
      },
      "source": [
        "Operações matriciais podem ser realizadas com matrizes de diferentes dimensões. Neste caso, o NumPy detectará isso e fará uma projeção da menor matriz até igualá-la à maior.\n",
        "\n",
        "![numpy_broadcasting](https://pub-fb664c455eca46a2ba762a065ac900f7.r2.dev/numpy_broadcasting.webp)\n",
        "\n",
        "Esta é uma grande qualidade do NumPy, que permite realizar cálculos em matrizes sem ter que se preocupar com a correspondência das dimensões dessas matrizes."
      ]
    },
    {
      "cell_type": "code",
      "execution_count": null,
      "metadata": {
        "colab": {
          "base_uri": "https://localhost:8080/"
        },
        "executionInfo": {
          "elapsed": 1465,
          "status": "ok",
          "timestamp": 1617700341768,
          "user": {
            "displayName": "DeepMaxFN FN",
            "photoUrl": "",
            "userId": "18365930870935188133"
          },
          "user_tz": -120
        },
        "id": "uETjFo8ccg1M",
        "outputId": "82404205-60a8-4b33-d2ed-f4259df4a9c0"
      },
      "outputs": [
        {
          "name": "stdout",
          "output_type": "stream",
          "text": [
            "A\n",
            "[1 2 3]\n",
            "\n",
            "B\n",
            "[6 7 8]\n",
            "\n"
          ]
        }
      ],
      "source": [
        "A = np.array([1, 2, 3])\n",
        "\n",
        "print(f\"A\\n{A}\\n\")\n",
        "\n",
        "B = A + 5\n",
        "\n",
        "print(f\"B\\n{B}\\n\")"
      ]
    },
    {
      "cell_type": "code",
      "execution_count": null,
      "metadata": {
        "colab": {
          "base_uri": "https://localhost:8080/"
        },
        "executionInfo": {
          "elapsed": 532,
          "status": "ok",
          "timestamp": 1617700387723,
          "user": {
            "displayName": "DeepMaxFN FN",
            "photoUrl": "",
            "userId": "18365930870935188133"
          },
          "user_tz": -120
        },
        "id": "tH5Ztv0QdGDa",
        "outputId": "ef36b5c6-e4ee-47aa-8f35-2625726dc736"
      },
      "outputs": [
        {
          "name": "stdout",
          "output_type": "stream",
          "text": [
            "A\n",
            "[1 2 3]\n",
            "\n",
            "B\n",
            "[[1. 1. 1.]\n",
            " [1. 1. 1.]\n",
            " [1. 1. 1.]]\n",
            "\n",
            "C\n",
            "[[2. 3. 4.]\n",
            " [2. 3. 4.]\n",
            " [2. 3. 4.]]\n",
            "\n"
          ]
        }
      ],
      "source": [
        "A = np.array([1, 2, 3])\n",
        "B = np.ones((3,3))\n",
        "\n",
        "print(f\"A\\n{A}\\n\")\n",
        "print(f\"B\\n{B}\\n\")\n",
        "\n",
        "C = A + B\n",
        "\n",
        "print(f\"C\\n{C}\\n\")"
      ]
    },
    {
      "cell_type": "code",
      "execution_count": null,
      "metadata": {
        "colab": {
          "base_uri": "https://localhost:8080/"
        },
        "executionInfo": {
          "elapsed": 592,
          "status": "ok",
          "timestamp": 1617700451147,
          "user": {
            "displayName": "DeepMaxFN FN",
            "photoUrl": "",
            "userId": "18365930870935188133"
          },
          "user_tz": -120
        },
        "id": "gcCpnSHsdYlz",
        "outputId": "21aae391-a2b6-4191-c816-70a29e113db4"
      },
      "outputs": [
        {
          "name": "stdout",
          "output_type": "stream",
          "text": [
            "A\n",
            "[1 2 3]\n",
            "\n",
            "B\n",
            "[[1]\n",
            " [2]\n",
            " [3]]\n",
            "\n",
            "C\n",
            "[[2 3 4]\n",
            " [3 4 5]\n",
            " [4 5 6]]\n",
            "\n"
          ]
        }
      ],
      "source": [
        "A = np.array([1, 2, 3])\n",
        "B = np.array([[1], [2], [3]])\n",
        " \n",
        "print(f\"A\\n{A}\\n\")\n",
        "print(f\"B\\n{B}\\n\")\n",
        " \n",
        "C = A + B\n",
        " \n",
        "print(f\"C\\n{C}\\n\")"
      ]
    },
    {
      "cell_type": "markdown",
      "metadata": {
        "id": "piA5YUlYNCbk"
      },
      "source": [
        "## 7. Indexação de matrizes"
      ]
    },
    {
      "cell_type": "markdown",
      "metadata": {
        "id": "_MWHvQzcNFht"
      },
      "source": [
        "O indexação de matrizes é feita da mesma forma que com as listas do Python"
      ]
    },
    {
      "cell_type": "code",
      "execution_count": null,
      "metadata": {
        "colab": {
          "base_uri": "https://localhost:8080/"
        },
        "executionInfo": {
          "elapsed": 550,
          "status": "ok",
          "timestamp": 1616572184191,
          "user": {
            "displayName": "DeepMaxFN FN",
            "photoUrl": "",
            "userId": "18365930870935188133"
          },
          "user_tz": -60
        },
        "id": "6A7g5T7RNNsu",
        "outputId": "c3f7cb2a-37d8-49a3-8e71-88b27af7f050"
      },
      "outputs": [
        {
          "data": {
            "text/plain": [
              "4"
            ]
          },
          "execution_count": 3,
          "metadata": {
            "tags": []
          },
          "output_type": "execute_result"
        }
      ],
      "source": [
        "arr = np.array([1, 2, 3, 4, 5])\n",
        "arr[3]"
      ]
    },
    {
      "cell_type": "markdown",
      "metadata": {
        "id": "aUimq1ecNRfn"
      },
      "source": [
        "No caso de ter mais de uma dimensão, deve-se indicar o índice em cada uma delas"
      ]
    },
    {
      "cell_type": "code",
      "execution_count": null,
      "metadata": {
        "colab": {
          "base_uri": "https://localhost:8080/"
        },
        "executionInfo": {
          "elapsed": 546,
          "status": "ok",
          "timestamp": 1616572198171,
          "user": {
            "displayName": "DeepMaxFN FN",
            "photoUrl": "",
            "userId": "18365930870935188133"
          },
          "user_tz": -60
        },
        "id": "uacXTwOaNQx3",
        "outputId": "c248c641-7896-4c47-fa01-e4b94ced7ea4"
      },
      "outputs": [
        {
          "data": {
            "text/plain": [
              "8"
            ]
          },
          "execution_count": 4,
          "metadata": {
            "tags": []
          },
          "output_type": "execute_result"
        }
      ],
      "source": [
        "arr = np.array([[1, 2, 3, 4, 5], \n",
        "                [6, 7, 8, 9, 10]])\n",
        "arr[1, 2]"
      ]
    },
    {
      "cell_type": "markdown",
      "metadata": {
        "id": "sgsysWjBNtCl"
      },
      "source": [
        "Pode-se usar a indexação negativa"
      ]
    },
    {
      "cell_type": "code",
      "execution_count": null,
      "metadata": {
        "colab": {
          "base_uri": "https://localhost:8080/"
        },
        "executionInfo": {
          "elapsed": 519,
          "status": "ok",
          "timestamp": 1616572261042,
          "user": {
            "displayName": "DeepMaxFN FN",
            "photoUrl": "",
            "userId": "18365930870935188133"
          },
          "user_tz": -60
        },
        "id": "-SY_2d37NwU2",
        "outputId": "031ee2a9-7bd7-46a5-d338-47420c6740ce"
      },
      "outputs": [
        {
          "data": {
            "text/plain": [
              "9"
            ]
          },
          "execution_count": 5,
          "metadata": {
            "tags": []
          },
          "output_type": "execute_result"
        }
      ],
      "source": [
        "arr[-1, -2]"
      ]
    },
    {
      "cell_type": "markdown",
      "metadata": {
        "id": "dSQA3t6_-Xl8"
      },
      "source": [
        "Em caso de não indicar um dos eixos, considera-se que se quer o completo"
      ]
    },
    {
      "cell_type": "code",
      "execution_count": null,
      "metadata": {
        "colab": {
          "base_uri": "https://localhost:8080/"
        },
        "executionInfo": {
          "elapsed": 1850,
          "status": "ok",
          "timestamp": 1618212421752,
          "user": {
            "displayName": "DeepMaxFN FN",
            "photoUrl": "",
            "userId": "18365930870935188133"
          },
          "user_tz": -120
        },
        "id": "ZduSdbji-btc",
        "outputId": "228e4542-89d3-446f-87b2-30d3bddad222"
      },
      "outputs": [
        {
          "data": {
            "text/plain": [
              "array([ 6,  7,  8,  9, 10])"
            ]
          },
          "execution_count": 3,
          "metadata": {
            "tags": []
          },
          "output_type": "execute_result"
        }
      ],
      "source": [
        "arr = np.array([[1, 2, 3, 4, 5], \n",
        "                [6, 7, 8, 9, 10]])\n",
        "arr[1]"
      ]
    },
    {
      "cell_type": "markdown",
      "metadata": {
        "id": "IEhkNIAbN4Fs"
      },
      "source": [
        "### 7.1. Fatias de matrizes"
      ]
    },
    {
      "cell_type": "markdown",
      "metadata": {
        "id": "Vbg-XwUWOB0X"
      },
      "source": [
        "Na hora de indexar, podemos ficar com partes de matrizes da mesma forma que era feito com as listas do Python.\n",
        "\n",
        "Lembre-se de que era feito da seguinte maneira:\n",
        "\n",
        "`início:fim:passo`\n",
        "\n",
        "Onde o intervalo vai do `start` (inclusivo) até o `stop` (exclusivo) com um passo de `step`\n",
        "\n",
        "Se `step` não for indicado, por padrão é 1"
      ]
    },
    {
      "cell_type": "markdown",
      "metadata": {
        "id": "vIwn-DdXPzzm"
      },
      "source": [
        "Por exemplo, se quisermos itens da segunda linha e da segunda à quarta coluna:\n",
        "\n",
        "*   Selecionamos a segunda linha com um 1 (já que se começa a contar do 0)\n",
        "*   Selecionamos da segunda à quarta linha usando 1:4, onde o 1 indica a segunda coluna e o 4 indica a quinta (já que o segundo número indica a coluna em que se termina sem incluir essa coluna). Os dois números levando em conta que a contagem começa a partir de 0"
      ]
    },
    {
      "cell_type": "code",
      "execution_count": null,
      "metadata": {
        "colab": {
          "base_uri": "https://localhost:8080/"
        },
        "executionInfo": {
          "elapsed": 526,
          "status": "ok",
          "timestamp": 1616573167827,
          "user": {
            "displayName": "DeepMaxFN FN",
            "photoUrl": "",
            "userId": "18365930870935188133"
          },
          "user_tz": -60
        },
        "id": "QCG5rpDkOfGx",
        "outputId": "810807f8-30c8-45d7-da85-8dc624816ab6"
      },
      "outputs": [
        {
          "name": "stdout",
          "output_type": "stream",
          "text": [
            "[[ 1  2  3  4  5]\n",
            " [ 6  7  8  9 10]]\n",
            "[7 8 9]\n"
          ]
        }
      ],
      "source": [
        "print(arr)\n",
        "print(arr[1, 1:4])"
      ]
    },
    {
      "cell_type": "markdown",
      "metadata": {
        "id": "ClTjvtw1Rurp"
      },
      "source": [
        "Podemos pegar desde uma posição até o final"
      ]
    },
    {
      "cell_type": "code",
      "execution_count": null,
      "metadata": {
        "colab": {
          "base_uri": "https://localhost:8080/"
        },
        "executionInfo": {
          "elapsed": 543,
          "status": "ok",
          "timestamp": 1616573375921,
          "user": {
            "displayName": "DeepMaxFN FN",
            "photoUrl": "",
            "userId": "18365930870935188133"
          },
          "user_tz": -60
        },
        "id": "sAhNey7KR89R",
        "outputId": "af463cba-1064-42de-e46c-e4baa24a51bd"
      },
      "outputs": [
        {
          "data": {
            "text/plain": [
              "array([ 8,  9, 10])"
            ]
          },
          "execution_count": 9,
          "metadata": {
            "tags": []
          },
          "output_type": "execute_result"
        }
      ],
      "source": [
        "arr[1, 2:]"
      ]
    },
    {
      "cell_type": "markdown",
      "metadata": {
        "id": "RoDu-r7rSDdu"
      },
      "source": [
        "Desde o início até uma posição"
      ]
    },
    {
      "cell_type": "code",
      "execution_count": null,
      "metadata": {
        "colab": {
          "base_uri": "https://localhost:8080/"
        },
        "executionInfo": {
          "elapsed": 515,
          "status": "ok",
          "timestamp": 1616573413591,
          "user": {
            "displayName": "DeepMaxFN FN",
            "photoUrl": "",
            "userId": "18365930870935188133"
          },
          "user_tz": -60
        },
        "id": "EHt0peC4SHeo",
        "outputId": "0a41d779-768d-4ba6-926c-0031f0d2ef80"
      },
      "outputs": [
        {
          "data": {
            "text/plain": [
              "array([6, 7, 8])"
            ]
          },
          "execution_count": 11,
          "metadata": {
            "tags": []
          },
          "output_type": "execute_result"
        }
      ],
      "source": [
        "arr[1, :3]"
      ]
    },
    {
      "cell_type": "markdown",
      "metadata": {
        "id": "0_1jtIAlSOL2"
      },
      "source": [
        "Definir o intervalo com números negativos"
      ]
    },
    {
      "cell_type": "code",
      "execution_count": null,
      "metadata": {
        "colab": {
          "base_uri": "https://localhost:8080/"
        },
        "executionInfo": {
          "elapsed": 578,
          "status": "ok",
          "timestamp": 1616573450018,
          "user": {
            "displayName": "DeepMaxFN FN",
            "photoUrl": "",
            "userId": "18365930870935188133"
          },
          "user_tz": -60
        },
        "id": "MLDgc6BjSSpv",
        "outputId": "c5e287f6-c4ab-4fd8-cfec-5ee371bbdea8"
      },
      "outputs": [
        {
          "data": {
            "text/plain": [
              "array([8, 9])"
            ]
          },
          "execution_count": 12,
          "metadata": {
            "tags": []
          },
          "output_type": "execute_result"
        }
      ],
      "source": [
        "arr[1, -3:-1]"
      ]
    },
    {
      "cell_type": "markdown",
      "metadata": {
        "id": "nyKRBxSrSdPa"
      },
      "source": [
        "Escolher o passo"
      ]
    },
    {
      "cell_type": "code",
      "execution_count": null,
      "metadata": {
        "colab": {
          "base_uri": "https://localhost:8080/"
        },
        "executionInfo": {
          "elapsed": 526,
          "status": "ok",
          "timestamp": 1616573516267,
          "user": {
            "displayName": "DeepMaxFN FN",
            "photoUrl": "",
            "userId": "18365930870935188133"
          },
          "user_tz": -60
        },
        "id": "DwQ1p4fgSh-v",
        "outputId": "81557e5d-9fba-4cba-8871-693ba2827673"
      },
      "outputs": [
        {
          "data": {
            "text/plain": [
              "array([7, 9])"
            ]
          },
          "execution_count": 13,
          "metadata": {
            "tags": []
          },
          "output_type": "execute_result"
        }
      ],
      "source": [
        "arr[1, 1:4:2]"
      ]
    },
    {
      "cell_type": "markdown",
      "metadata": {
        "id": "c5EAClLc-voF"
      },
      "source": [
        "### 7.2. Iteração sobre matrizes"
      ]
    },
    {
      "cell_type": "markdown",
      "metadata": {
        "id": "P0Cqf3nv-zVL"
      },
      "source": [
        "A iteração sobre matrizes multidimensionais é realizada em relação ao primeiro eixo"
      ]
    },
    {
      "cell_type": "code",
      "execution_count": null,
      "metadata": {
        "colab": {
          "base_uri": "https://localhost:8080/"
        },
        "executionInfo": {
          "elapsed": 879,
          "status": "ok",
          "timestamp": 1618212763642,
          "user": {
            "displayName": "DeepMaxFN FN",
            "photoUrl": "",
            "userId": "18365930870935188133"
          },
          "user_tz": -120
        },
        "id": "s_0g_OBg-y44",
        "outputId": "16fc83f6-e0a7-42b6-b3ba-9232fe441d92"
      },
      "outputs": [
        {
          "name": "stdout",
          "output_type": "stream",
          "text": [
            "Matriz de dimensión: (2, 2, 3)\n",
            "\n",
            "Fila 0: [[ 0  1  2]\n",
            " [10 12 13]]\n",
            "Fila 1: [[100 101 102]\n",
            " [110 112 113]]\n"
          ]
        }
      ],
      "source": [
        "M = np.array( [[[  0,  1,  2],\n",
        "                [ 10, 12, 13]],\n",
        "               [[100,101,102],\n",
        "                [110,112,113]]])\n",
        "\n",
        "print(f'Matriz de dimensión: {M.shape}\\n')\n",
        "\n",
        "i = 0\n",
        "for fila in M:\n",
        "  print(f'Fila {i}: {fila}')\n",
        "  i += 1"
      ]
    },
    {
      "cell_type": "markdown",
      "metadata": {
        "id": "MrYdpa49_nGc"
      },
      "source": [
        "No entanto, se o que queremos é iterar por cada item, podemos usar o método 'flat'"
      ]
    },
    {
      "cell_type": "code",
      "execution_count": null,
      "metadata": {
        "colab": {
          "base_uri": "https://localhost:8080/"
        },
        "executionInfo": {
          "elapsed": 1035,
          "status": "ok",
          "timestamp": 1618212833488,
          "user": {
            "displayName": "DeepMaxFN FN",
            "photoUrl": "",
            "userId": "18365930870935188133"
          },
          "user_tz": -120
        },
        "id": "uYThyzHQAB9s",
        "outputId": "88c782c6-fa03-4836-ba5b-0d02ddf796ea"
      },
      "outputs": [
        {
          "name": "stdout",
          "output_type": "stream",
          "text": [
            "Elemento 0: 0\n",
            "Elemento 1: 1\n",
            "Elemento 2: 2\n",
            "Elemento 3: 10\n",
            "Elemento 4: 12\n",
            "Elemento 5: 13\n",
            "Elemento 6: 100\n",
            "Elemento 7: 101\n",
            "Elemento 8: 102\n",
            "Elemento 9: 110\n",
            "Elemento 10: 112\n",
            "Elemento 11: 113\n"
          ]
        }
      ],
      "source": [
        "i = 0\n",
        "for fila in M.flat:\n",
        "  print(f'Elemento {i}: {fila}')\n",
        "  i += 1"
      ]
    },
    {
      "cell_type": "markdown",
      "metadata": {
        "id": "yM2Xs9yTcVMg"
      },
      "source": [
        "## 8. Cópia de matrizes"
      ]
    },
    {
      "cell_type": "markdown",
      "metadata": {
        "id": "RUU0Mw7ucWiM"
      },
      "source": [
        "Em NumPy temos duas maneiras de copiar arrays: através de `copy`, que realiza uma cópia nova do array, e através de `view`, que realiza uma visualização do array original.\n",
        " \n",
        "A cópia é proprietária dos dados e qualquer alteração realizada na cópia não afetará a matriz original, e qualquer alteração realizada na matriz original não afetará a cópia.\n",
        " \n",
        "A visualização não é proprietária dos dados e qualquer alteração realizada na cópia afetará a matriz original, e qualquer alteração realizada na matriz original afetará a cópia."
      ]
    },
    {
      "cell_type": "markdown",
      "metadata": {
        "id": "RZdoTysEdKYb"
      },
      "source": [
        "### 8.1. Cópia"
      ]
    },
    {
      "cell_type": "code",
      "execution_count": null,
      "metadata": {
        "colab": {
          "base_uri": "https://localhost:8080/"
        },
        "executionInfo": {
          "elapsed": 442,
          "status": "ok",
          "timestamp": 1616744165497,
          "user": {
            "displayName": "DeepMaxFN FN",
            "photoUrl": "",
            "userId": "18365930870935188133"
          },
          "user_tz": -60
        },
        "id": "tYy_pEXbdPFA",
        "outputId": "ef4473e2-9e96-47c3-d46c-6956917cd152"
      },
      "outputs": [
        {
          "name": "stdout",
          "output_type": "stream",
          "text": [
            "Original: [42  2  3  4  5]\n",
            "Copia:    [ 1 43  3  4  5]\n"
          ]
        }
      ],
      "source": [
        "arr = np.array([1, 2, 3, 4, 5])\n",
        "copy_arr = arr.copy()\n",
        "arr[0] = 42\n",
        "copy_arr[1] = 43\n",
        " \n",
        "print(f'Original: {arr}')\n",
        "print(f'Copia:    {copy_arr}')"
      ]
    },
    {
      "cell_type": "markdown",
      "metadata": {
        "id": "UGnubkRodkpv"
      },
      "source": [
        "### 8.2. Visão"
      ]
    },
    {
      "cell_type": "code",
      "execution_count": null,
      "metadata": {
        "colab": {
          "base_uri": "https://localhost:8080/"
        },
        "executionInfo": {
          "elapsed": 429,
          "status": "ok",
          "timestamp": 1616744202088,
          "user": {
            "displayName": "DeepMaxFN FN",
            "photoUrl": "",
            "userId": "18365930870935188133"
          },
          "user_tz": -60
        },
        "id": "4g1oQ1V2dnTe",
        "outputId": "a78e041f-dcf0-4ebe-ea78-a992e406e552"
      },
      "outputs": [
        {
          "name": "stdout",
          "output_type": "stream",
          "text": [
            "Original: [42 43  3  4  5]\n",
            "Vista:    [42 43  3  4  5]\n"
          ]
        }
      ],
      "source": [
        "arr = np.array([1, 2, 3, 4, 5])\n",
        "view_arr = arr.view()\n",
        "arr[0] = 42\n",
        "view_arr[1] = 43\n",
        " \n",
        "print(f'Original: {arr}')\n",
        "print(f'Vista:    {view_arr}')"
      ]
    },
    {
      "cell_type": "markdown",
      "metadata": {
        "id": "BJf_34aLe6kU"
      },
      "source": [
        "### 8.3. Proprietário dos dados"
      ]
    },
    {
      "cell_type": "markdown",
      "metadata": {
        "id": "i7z5L05Qe8vA"
      },
      "source": [
        "Diante da dúvida se temos uma cópia ou uma visão, podemos usar `base`"
      ]
    },
    {
      "cell_type": "code",
      "execution_count": null,
      "metadata": {
        "colab": {
          "base_uri": "https://localhost:8080/"
        },
        "executionInfo": {
          "elapsed": 441,
          "status": "ok",
          "timestamp": 1616744647153,
          "user": {
            "displayName": "DeepMaxFN FN",
            "photoUrl": "",
            "userId": "18365930870935188133"
          },
          "user_tz": -60
        },
        "id": "Y_n4zal8fTNK",
        "outputId": "86dfaa97-aef7-4165-d36f-0e66a62a6cb3"
      },
      "outputs": [
        {
          "name": "stdout",
          "output_type": "stream",
          "text": [
            "None\n",
            "[1 2 3 4 5]\n"
          ]
        }
      ],
      "source": [
        "arr = np.array([1, 2, 3, 4, 5])\n",
        " \n",
        "copy_arr = arr.copy()\n",
        "view_arr = arr.view()\n",
        " \n",
        "print(copy_arr.base)\n",
        "print(view_arr.base)"
      ]
    },
    {
      "cell_type": "markdown",
      "metadata": {
        "id": "qXNBEFOhf-XA"
      },
      "source": [
        "## 9. Forma das matrizes"
      ]
    },
    {
      "cell_type": "markdown",
      "metadata": {
        "id": "5Nq0KtncgBKj"
      },
      "source": [
        "Podemos saber a forma que tem a matriz através do método `shape`. Este nos retornará uma tupla, o tamanho da tupla representa as dimensões da matriz, em cada elemento da tupla é indicado o número de itens em cada uma das dimensões da matriz."
      ]
    },
    {
      "cell_type": "code",
      "execution_count": null,
      "metadata": {
        "colab": {
          "base_uri": "https://localhost:8080/"
        },
        "executionInfo": {
          "elapsed": 1343,
          "status": "ok",
          "timestamp": 1618997134878,
          "user": {
            "displayName": "DeepMaxFN FN",
            "photoUrl": "",
            "userId": "18365930870935188133"
          },
          "user_tz": -120
        },
        "id": "EZ8Jf51LgUGl",
        "outputId": "0edc5b47-32a6-4549-8857-f40748f28462"
      },
      "outputs": [
        {
          "name": "stdout",
          "output_type": "stream",
          "text": [
            "[[[ 1  2  3  4  5]\n",
            "  [ 6  7  8  9 10]]\n",
            "\n",
            " [[11 12 13 14 15]\n",
            "  [16 17 18 19 20]]]\n",
            "(2, 2, 5)\n"
          ]
        }
      ],
      "source": [
        "arr = np.array([\n",
        "                [[1, 2, 3, 4, 5], \n",
        "                [6, 7, 8, 9, 10]],\n",
        "                \n",
        "                [[11, 12, 13, 14, 15], \n",
        "                [16, 17, 18, 19, 20]]\n",
        "                ])\n",
        " \n",
        "print(arr)\n",
        "print(arr.shape)"
      ]
    },
    {
      "cell_type": "markdown",
      "metadata": {
        "id": "ZCt01zruG675"
      },
      "source": [
        "### 9.1. Reshape"
      ]
    },
    {
      "cell_type": "markdown",
      "metadata": {
        "id": "dziRtKvqEOol"
      },
      "source": [
        "Podemos mudar a forma das matrizes para aquela que desejarmos através do método `reshape`.\n",
        "\n",
        "Por exemplo, a matriz anterior, que tem uma forma de `(2, 2, 4)`. Podemos passá-la para `(5, 4)`."
      ]
    },
    {
      "cell_type": "code",
      "execution_count": null,
      "metadata": {
        "colab": {
          "base_uri": "https://localhost:8080/"
        },
        "executionInfo": {
          "elapsed": 1006,
          "status": "ok",
          "timestamp": 1617174208273,
          "user": {
            "displayName": "DeepMaxFN FN",
            "photoUrl": "",
            "userId": "18365930870935188133"
          },
          "user_tz": -120
        },
        "id": "Cx22-ckKE8af",
        "outputId": "4ef017a1-caa2-48c1-a662-bdded3fbd87b"
      },
      "outputs": [
        {
          "name": "stdout",
          "output_type": "stream",
          "text": [
            "[[ 1  2  3  4]\n",
            " [ 5  6  7  8]\n",
            " [ 9 10 11 12]\n",
            " [13 14 15 16]\n",
            " [17 18 19 20]]\n",
            "(5, 4)\n"
          ]
        }
      ],
      "source": [
        "arr_reshape = arr.reshape(5, 4)\n",
        "\n",
        "print(arr_reshape)\n",
        "print(arr_reshape.shape)"
      ]
    },
    {
      "cell_type": "markdown",
      "metadata": {
        "id": "fgYdXlaUGG6h"
      },
      "source": [
        "Deve-se ter em conta que para redimensionar as matrizes, o número de itens da nova forma deve ser igual ao número de itens da primeira forma.\n",
        "\n",
        "Isto é, no exemplo anterior, a primeira matriz tinha 20 itens (2x2x4), e a nova matriz tem 20 itens (5x4). O que não podemos fazer é redimensioná-la para uma matriz de tamanho (3, 4), pois no total haveria 12 itens."
      ]
    },
    {
      "cell_type": "code",
      "execution_count": null,
      "metadata": {
        "colab": {
          "base_uri": "https://localhost:8080/",
          "height": 161
        },
        "executionInfo": {
          "elapsed": 555,
          "status": "error",
          "timestamp": 1617174381744,
          "user": {
            "displayName": "DeepMaxFN FN",
            "photoUrl": "",
            "userId": "18365930870935188133"
          },
          "user_tz": -120
        },
        "id": "JWMFS49wFyfs",
        "outputId": "839a180d-6231-4829-89db-4b157ce24cbc"
      },
      "outputs": [
        {
          "ename": "ValueError",
          "evalue": "ignored",
          "output_type": "error",
          "traceback": [
            "\u001b[0;31m---------------------------------------------------------------------------\u001b[0m",
            "\u001b[0;31mValueError\u001b[0m                                Traceback (most recent call last)",
            "\u001b[0;32m<ipython-input-12-29e85875d1df>\u001b[0m in \u001b[0;36m<module>\u001b[0;34m()\u001b[0m\n\u001b[0;32m----> 1\u001b[0;31m \u001b[0marr_reshape\u001b[0m \u001b[0;34m=\u001b[0m \u001b[0marr\u001b[0m\u001b[0;34m.\u001b[0m\u001b[0mreshape\u001b[0m\u001b[0;34m(\u001b[0m\u001b[0;36m3\u001b[0m\u001b[0;34m,\u001b[0m \u001b[0;36m4\u001b[0m\u001b[0;34m)\u001b[0m\u001b[0;34m\u001b[0m\u001b[0;34m\u001b[0m\u001b[0m\n\u001b[0m",
            "\u001b[0;31mValueError\u001b[0m: cannot reshape array of size 20 into shape (3,4)"
          ]
        }
      ],
      "source": [
        "arr_reshape = arr.reshape(3, 4)"
      ]
    },
    {
      "cell_type": "markdown",
      "metadata": {
        "id": "3m0jpnHiHB8I"
      },
      "source": [
        "### 9.2. Dimensão desconhecida"
      ]
    },
    {
      "cell_type": "markdown",
      "metadata": {
        "id": "RAehcSWZHR1w"
      },
      "source": [
        "No caso de quisermos mudar a forma de uma matriz e uma das dimensões não importar ou desconhecermos, podemos fazer com que o NumPy a calcule para nós inserindo um `-1` como parâmetro."
      ]
    },
    {
      "cell_type": "code",
      "execution_count": null,
      "metadata": {
        "colab": {
          "base_uri": "https://localhost:8080/"
        },
        "executionInfo": {
          "elapsed": 667,
          "status": "ok",
          "timestamp": 1617174693236,
          "user": {
            "displayName": "DeepMaxFN FN",
            "photoUrl": "",
            "userId": "18365930870935188133"
          },
          "user_tz": -120
        },
        "id": "vNM16L2qGsHs",
        "outputId": "61408a12-e12e-4868-d018-44292d6ed305"
      },
      "outputs": [
        {
          "name": "stdout",
          "output_type": "stream",
          "text": [
            "[[ 1  2  3  4  5  6  7  8  9 10]\n",
            " [11 12 13 14 15 16 17 18 19 20]]\n",
            "(2, 10)\n"
          ]
        }
      ],
      "source": [
        "arr = np.array([\n",
        "                [[1, 2, 3, 4, 5], \n",
        "                [6, 7, 8, 9, 10]],\n",
        "                \n",
        "                [[11, 12, 13, 14, 15], \n",
        "                [16, 17, 18, 19, 20]]\n",
        "                ])\n",
        "\n",
        "arr_reshape = arr.reshape(2, -1)\n",
        "\n",
        "print(arr_reshape)\n",
        "print(arr_reshape.shape)"
      ]
    },
    {
      "cell_type": "markdown",
      "metadata": {
        "id": "A_QPkOASH6Jm"
      },
      "source": [
        "Deve-se ter em conta que não se pode colocar qualquer número nas dimensões conhecidas. O número de itens da matriz original deve ser um múltiplo das dimensões conhecidas.\n",
        "\n",
        "No exemplo anterior, a matriz tem 20 itens, que é múltiplo de 2, dimensão conhecida introduzida. Não seria possível colocar um 3 como dimensão conhecida, já que 20 não é múltiplo de 3, e não haveria nenhum número que pudesse ser colocado na dimensão desconhecida que fizesse com que, no total, houvesse 20 itens."
      ]
    },
    {
      "cell_type": "markdown",
      "metadata": {
        "id": "Xc7qLre2JFoJ"
      },
      "source": [
        "### 9.3. Achatamento de matrizes"
      ]
    },
    {
      "cell_type": "markdown",
      "metadata": {
        "id": "HtXXk-40JPlY"
      },
      "source": [
        "Podemos aplanar as matrizes, ou seja, passá-las para uma única dimensão usando `reshape(-1)`. Desta forma, independentemente das dimensões da matriz original, a nova sempre terá uma única dimensão."
      ]
    },
    {
      "cell_type": "code",
      "execution_count": null,
      "metadata": {
        "colab": {
          "base_uri": "https://localhost:8080/"
        },
        "executionInfo": {
          "elapsed": 1527,
          "status": "ok",
          "timestamp": 1618997213920,
          "user": {
            "displayName": "DeepMaxFN FN",
            "photoUrl": "",
            "userId": "18365930870935188133"
          },
          "user_tz": -120
        },
        "id": "hs-XEDHlHoX9",
        "outputId": "e4cf5908-cfc3-4708-8f5c-146871c23394"
      },
      "outputs": [
        {
          "name": "stdout",
          "output_type": "stream",
          "text": [
            "[ 1  2  3  4  5  6  7  8  9 10 11 12 13 14 15 16 17 18 19 20]\n",
            "(20,)\n"
          ]
        }
      ],
      "source": [
        "arr = np.array([\n",
        "                [[1, 2, 3, 4, 5], \n",
        "                [6, 7, 8, 9, 10]],\n",
        "                \n",
        "                [[11, 12, 13, 14, 15], \n",
        "                [16, 17, 18, 19, 20]]\n",
        "                ])\n",
        "\n",
        "arr_flatten = arr.reshape(-1)\n",
        "\n",
        "print(arr_flatten)\n",
        "print(arr_flatten.shape)"
      ]
    },
    {
      "cell_type": "markdown",
      "metadata": {
        "id": "F25g5hTTv_yx"
      },
      "source": [
        "Outra forma de aplanar uma matriz é através do método `ravel()`"
      ]
    },
    {
      "cell_type": "code",
      "execution_count": null,
      "metadata": {
        "colab": {
          "base_uri": "https://localhost:8080/"
        },
        "executionInfo": {
          "elapsed": 886,
          "status": "ok",
          "timestamp": 1618997231149,
          "user": {
            "displayName": "DeepMaxFN FN",
            "photoUrl": "",
            "userId": "18365930870935188133"
          },
          "user_tz": -120
        },
        "id": "mQn_2n3rwEi1",
        "outputId": "4ffacff5-aec9-4368-d5d6-8143a1d61fc5"
      },
      "outputs": [
        {
          "name": "stdout",
          "output_type": "stream",
          "text": [
            "[ 1  2  3  4  5  6  7  8  9 10 11 12 13 14 15 16 17 18 19 20]\n",
            "(20,)\n"
          ]
        }
      ],
      "source": [
        "arr = np.array([\n",
        "                [[1, 2, 3, 4, 5], \n",
        "                [6, 7, 8, 9, 10]],\n",
        "                \n",
        "                [[11, 12, 13, 14, 15], \n",
        "                [16, 17, 18, 19, 20]]\n",
        "                ])\n",
        "\n",
        "arr_flatten = arr.ravel()\n",
        "\n",
        "print(arr_flatten)\n",
        "print(arr_flatten.shape)"
      ]
    },
    {
      "cell_type": "markdown",
      "metadata": {
        "id": "WqfZ7IUHwaES"
      },
      "source": [
        "### 9.4. Matriz transposta"
      ]
    },
    {
      "cell_type": "markdown",
      "metadata": {
        "id": "260WW1eMwc43"
      },
      "source": [
        "Pode-se obter a transposta de uma matriz através do método `T`. Fazer a transposta de uma matriz é trocar as linhas pelas colunas da matriz, na imagem seguinte vemos um exemplo que esclarece melhor.\n",
        "\n",
        "![transpose_matrix](https://pub-fb664c455eca46a2ba762a065ac900f7.r2.dev/Transpose_matrix.webp)"
      ]
    },
    {
      "cell_type": "code",
      "execution_count": null,
      "metadata": {
        "colab": {
          "base_uri": "https://localhost:8080/"
        },
        "executionInfo": {
          "elapsed": 1067,
          "status": "ok",
          "timestamp": 1618997624681,
          "user": {
            "displayName": "DeepMaxFN FN",
            "photoUrl": "",
            "userId": "18365930870935188133"
          },
          "user_tz": -120
        },
        "id": "MGN10Tr3Jh7m",
        "outputId": "04b12e4a-0a38-409c-a96f-55c384a2a5be"
      },
      "outputs": [
        {
          "name": "stdout",
          "output_type": "stream",
          "text": [
            "[[ 1  0  6]\n",
            " [ 0  5  0]\n",
            " [ 4  0 -9]]\n",
            "(3, 3)\n"
          ]
        }
      ],
      "source": [
        "arr = np.array([[1, 0, 4], \n",
        "                [0, 5, 0],\n",
        "                [6, 0, -9]])\n",
        " \n",
        "arr_t = arr.T\n",
        " \n",
        "print(arr_t)\n",
        "print(arr_t.shape)"
      ]
    },
    {
      "cell_type": "markdown",
      "metadata": {
        "id": "KjrEMLjRyjDF"
      },
      "source": [
        "## 10. Empilhamento de matrizes"
      ]
    },
    {
      "cell_type": "markdown",
      "metadata": {
        "id": "oxOCJn7gyltY"
      },
      "source": [
        "### 10.1. Empilhamento vertical"
      ]
    },
    {
      "cell_type": "markdown",
      "metadata": {
        "id": "2bKYjL2HzQ4E"
      },
      "source": [
        "Matrizes podem ser empilhadas verticalmente (juntando linhas) usando o método `vstack()`."
      ]
    },
    {
      "cell_type": "code",
      "execution_count": null,
      "metadata": {
        "colab": {
          "base_uri": "https://localhost:8080/"
        },
        "executionInfo": {
          "elapsed": 717,
          "status": "ok",
          "timestamp": 1618998187177,
          "user": {
            "displayName": "DeepMaxFN FN",
            "photoUrl": "",
            "userId": "18365930870935188133"
          },
          "user_tz": -120
        },
        "id": "7_ltvjRNziGM",
        "outputId": "b4b07966-30d0-4368-d6f4-6963b836d3f8"
      },
      "outputs": [
        {
          "data": {
            "text/plain": [
              "array([[1, 1, 1],\n",
              "       [2, 2, 2],\n",
              "       [3, 3, 3],\n",
              "       [4, 4, 4],\n",
              "       [5, 5, 5],\n",
              "       [6, 6, 6]])"
            ]
          },
          "execution_count": 7,
          "metadata": {
            "tags": []
          },
          "output_type": "execute_result"
        }
      ],
      "source": [
        "a = np.array([[1, 1, 1], \n",
        "              [2, 2, 2],\n",
        "              [3, 3, 3]])\n",
        "\n",
        "b = np.array([[4, 4, 4], \n",
        "              [5, 5, 5],\n",
        "              [6, 6, 6]])\n",
        "\n",
        "c = np.vstack((a,b))\n",
        "c"
      ]
    },
    {
      "cell_type": "markdown",
      "metadata": {
        "id": "-wy4ZIGp0Eof"
      },
      "source": [
        "Se tiver matrizes com mais de 2 dimensões, `vstack()` empilhará ao longo da primeira dimensão."
      ]
    },
    {
      "cell_type": "code",
      "execution_count": null,
      "metadata": {
        "colab": {
          "base_uri": "https://localhost:8080/"
        },
        "executionInfo": {
          "elapsed": 965,
          "status": "ok",
          "timestamp": 1618998455968,
          "user": {
            "displayName": "DeepMaxFN FN",
            "photoUrl": "",
            "userId": "18365930870935188133"
          },
          "user_tz": -120
        },
        "id": "vG4fiRCx0NCH",
        "outputId": "f060588e-1095-42e3-832c-e93dd5f9f418"
      },
      "outputs": [
        {
          "data": {
            "text/plain": [
              "array([[[1, 1],\n",
              "        [2, 2]],\n",
              "\n",
              "       [[3, 3],\n",
              "        [4, 4]],\n",
              "\n",
              "       [[5, 5],\n",
              "        [6, 6]],\n",
              "\n",
              "       [[7, 7],\n",
              "        [8, 8]]])"
            ]
          },
          "execution_count": 16,
          "metadata": {
            "tags": []
          },
          "output_type": "execute_result"
        }
      ],
      "source": [
        "a = np.array([\n",
        "                [[1, 1], \n",
        "                [2, 2]],\n",
        "                \n",
        "                [[3, 3], \n",
        "                [4, 4]]\n",
        "                ])\n",
        " \n",
        "b = np.array([\n",
        "                [[5, 5], \n",
        "                [6, 6]],\n",
        "                \n",
        "                [[7, 7], \n",
        "                [8, 8]]\n",
        "                ])\n",
        " \n",
        "c = np.vstack((a,b))\n",
        "c"
      ]
    },
    {
      "cell_type": "markdown",
      "metadata": {
        "id": "6LR4SP_c1DLs"
      },
      "source": [
        "### 10.2. Empilhamento horizontal"
      ]
    },
    {
      "cell_type": "markdown",
      "metadata": {
        "id": "IT-t-EOH1DMR"
      },
      "source": [
        "Matrizes podem ser empilhadas horizontalmente (juntando colunas) através do método `hstack()`"
      ]
    },
    {
      "cell_type": "code",
      "execution_count": null,
      "metadata": {
        "colab": {
          "base_uri": "https://localhost:8080/"
        },
        "executionInfo": {
          "elapsed": 852,
          "status": "ok",
          "timestamp": 1618998529827,
          "user": {
            "displayName": "DeepMaxFN FN",
            "photoUrl": "",
            "userId": "18365930870935188133"
          },
          "user_tz": -120
        },
        "id": "XGfxbuZJ1DMS",
        "outputId": "5a8bfb08-6002-4c64-c3d0-781384079af6"
      },
      "outputs": [
        {
          "data": {
            "text/plain": [
              "array([[1, 2, 3, 4, 5, 6],\n",
              "       [1, 2, 3, 4, 5, 6],\n",
              "       [1, 2, 3, 4, 5, 6]])"
            ]
          },
          "execution_count": 17,
          "metadata": {
            "tags": []
          },
          "output_type": "execute_result"
        }
      ],
      "source": [
        "a = np.array([[1, 2, 3], \n",
        "              [1, 2, 3],\n",
        "              [1, 2, 3]])\n",
        "\n",
        "b = np.array([[4, 5, 6], \n",
        "              [4, 5, 6],\n",
        "              [4, 5, 6]])\n",
        "\n",
        "c = np.hstack((a,b))\n",
        "c"
      ]
    },
    {
      "cell_type": "markdown",
      "metadata": {
        "id": "4qPlQV5e1DMT"
      },
      "source": [
        "Se tiver matrizes com mais de 2 dimensões, `hstack()` empilhará ao longo da segunda dimensão."
      ]
    },
    {
      "cell_type": "code",
      "execution_count": null,
      "metadata": {
        "colab": {
          "base_uri": "https://localhost:8080/"
        },
        "executionInfo": {
          "elapsed": 1481,
          "status": "ok",
          "timestamp": 1618998553162,
          "user": {
            "displayName": "DeepMaxFN FN",
            "photoUrl": "",
            "userId": "18365930870935188133"
          },
          "user_tz": -120
        },
        "id": "3oxxtmqv1DMU",
        "outputId": "e4b4d5ba-ee75-4197-fb7e-136df6997faa"
      },
      "outputs": [
        {
          "data": {
            "text/plain": [
              "array([[[1, 1],\n",
              "        [2, 2],\n",
              "        [5, 5],\n",
              "        [6, 6]],\n",
              "\n",
              "       [[3, 3],\n",
              "        [4, 4],\n",
              "        [7, 7],\n",
              "        [8, 8]]])"
            ]
          },
          "execution_count": 18,
          "metadata": {
            "tags": []
          },
          "output_type": "execute_result"
        }
      ],
      "source": [
        "a = np.array([\n",
        "                [[1, 1], \n",
        "                [2, 2]],\n",
        "                \n",
        "                [[3, 3], \n",
        "                [4, 4]]\n",
        "                ])\n",
        "\n",
        "b = np.array([\n",
        "                [[5, 5], \n",
        "                [6, 6]],\n",
        "                \n",
        "                [[7, 7], \n",
        "                [8, 8]]\n",
        "                ])\n",
        "\n",
        "c = np.hstack((a,b))\n",
        "c"
      ]
    },
    {
      "cell_type": "markdown",
      "metadata": {
        "id": "qgWQ-MUT1eTE"
      },
      "source": [
        "Outra maneira de adicionar colunas a uma matriz é através do método `column_stack()`"
      ]
    },
    {
      "cell_type": "code",
      "execution_count": null,
      "metadata": {
        "colab": {
          "base_uri": "https://localhost:8080/"
        },
        "executionInfo": {
          "elapsed": 982,
          "status": "ok",
          "timestamp": 1618998653240,
          "user": {
            "displayName": "DeepMaxFN FN",
            "photoUrl": "",
            "userId": "18365930870935188133"
          },
          "user_tz": -120
        },
        "id": "-crrDwai1ky_",
        "outputId": "4622506e-5c5f-44f7-e15e-16d32aa42325"
      },
      "outputs": [
        {
          "data": {
            "text/plain": [
              "array([[1, 2, 3, 4],\n",
              "       [1, 2, 3, 4],\n",
              "       [1, 2, 3, 4]])"
            ]
          },
          "execution_count": 19,
          "metadata": {
            "tags": []
          },
          "output_type": "execute_result"
        }
      ],
      "source": [
        "a = np.array([[1, 2, 3], \n",
        "              [1, 2, 3],\n",
        "              [1, 2, 3]])\n",
        " \n",
        "b = np.array([4, 4, 4])\n",
        " \n",
        "c = np.column_stack((a,b))\n",
        "c"
      ]
    },
    {
      "cell_type": "markdown",
      "metadata": {
        "id": "cXy3LzdQgJgL"
      },
      "source": [
        "### 10.3. Empilhamento em profundidade"
      ]
    },
    {
      "cell_type": "markdown",
      "metadata": {
        "id": "uiP_9uSUgJgO"
      },
      "source": [
        "Matrizes podem ser empilhadas em profundidade (terceira dimensão) usando o método `dstack()`"
      ]
    },
    {
      "cell_type": "code",
      "execution_count": null,
      "metadata": {
        "colab": {
          "base_uri": "https://localhost:8080/"
        },
        "executionInfo": {
          "elapsed": 895,
          "status": "ok",
          "timestamp": 1619077258826,
          "user": {
            "displayName": "DeepMaxFN FN",
            "photoUrl": "",
            "userId": "18365930870935188133"
          },
          "user_tz": -120
        },
        "id": "B8PLe52ogJgP",
        "outputId": "ec5632a3-1d59-4581-c279-5e6dee3dfe62"
      },
      "outputs": [
        {
          "name": "stdout",
          "output_type": "stream",
          "text": [
            "c: [[[1 1 1 1]\n",
            "  [2 2 2 2]]\n",
            "\n",
            " [[3 3 3 3]\n",
            "  [4 4 4 4]]]\n",
            "\n",
            "a.shape: (2, 2, 2), b.shape: (2, 2, 2), c.shape: (2, 2, 4)\n"
          ]
        }
      ],
      "source": [
        "a = np.array([\n",
        "                [[1, 1], \n",
        "                [2, 2]],\n",
        "                \n",
        "                [[3, 3], \n",
        "                [4, 4]]\n",
        "                ])\n",
        "\n",
        "b = np.array([\n",
        "                [[1, 1], \n",
        "                [2, 2]],\n",
        "                \n",
        "                [[3, 3], \n",
        "                [4, 4]]\n",
        "                ])\n",
        "\n",
        "c = np.dstack((a,b))\n",
        "print(f\"c: {c}\\n\")\n",
        "print(f\"a.shape: {a.shape}, b.shape: {b.shape}, c.shape: {c.shape}\")"
      ]
    },
    {
      "cell_type": "markdown",
      "metadata": {
        "id": "t-HrFr6zgJg9"
      },
      "source": [
        "Se tiver matrizes com mais de 4 dimensões, `dstack()` empilhará ao longo da terceira dimensão."
      ]
    },
    {
      "cell_type": "code",
      "execution_count": null,
      "metadata": {
        "colab": {
          "base_uri": "https://localhost:8080/"
        },
        "executionInfo": {
          "elapsed": 1049,
          "status": "ok",
          "timestamp": 1619077269780,
          "user": {
            "displayName": "DeepMaxFN FN",
            "photoUrl": "",
            "userId": "18365930870935188133"
          },
          "user_tz": -120
        },
        "id": "S0TlZgF8gJg9",
        "outputId": "0b5c8dff-d349-40b4-8bbc-4119450b44f2"
      },
      "outputs": [
        {
          "name": "stdout",
          "output_type": "stream",
          "text": [
            "a.shape: (1, 1, 1, 5), b.shape: (1, 1, 1, 5), c.shape: (1, 1, 2, 5)\n"
          ]
        }
      ],
      "source": [
        "a = np.array([1, 2, 3, 4, 5], ndmin=4)\n",
        "\n",
        "b = np.array([1, 2, 3, 4, 5], ndmin=4)\n",
        "\n",
        "c = np.dstack((a,b))\n",
        "print(f\"a.shape: {a.shape}, b.shape: {b.shape}, c.shape: {c.shape}\")"
      ]
    },
    {
      "cell_type": "markdown",
      "metadata": {
        "id": "9jyyH2J811u-"
      },
      "source": [
        "### 10.3. Empilhamento personalizado"
      ]
    },
    {
      "cell_type": "markdown",
      "metadata": {
        "id": "VQoH4wR71-9m"
      },
      "source": [
        "Por meio do método `concatenate()`, é possível escolher o eixo ao longo do qual as matrizes serão empilhadas."
      ]
    },
    {
      "cell_type": "code",
      "execution_count": null,
      "metadata": {
        "colab": {
          "base_uri": "https://localhost:8080/"
        },
        "executionInfo": {
          "elapsed": 990,
          "status": "ok",
          "timestamp": 1618998894859,
          "user": {
            "displayName": "DeepMaxFN FN",
            "photoUrl": "",
            "userId": "18365930870935188133"
          },
          "user_tz": -120
        },
        "id": "nC2xnSML2OKt",
        "outputId": "b5ba030b-220e-4b6a-ba16-a51bb487744c"
      },
      "outputs": [
        {
          "name": "stdout",
          "output_type": "stream",
          "text": [
            "conc0: [[[1 1]\n",
            "  [2 2]]\n",
            "\n",
            " [[3 3]\n",
            "  [4 4]]\n",
            "\n",
            " [[5 5]\n",
            "  [6 6]]\n",
            "\n",
            " [[7 7]\n",
            "  [8 8]]]\n",
            "\n",
            "conc1: [[[1 1]\n",
            "  [2 2]\n",
            "  [5 5]\n",
            "  [6 6]]\n",
            "\n",
            " [[3 3]\n",
            "  [4 4]\n",
            "  [7 7]\n",
            "  [8 8]]]\n",
            "\n",
            "conc2: [[[1 1 5 5]\n",
            "  [2 2 6 6]]\n",
            "\n",
            " [[3 3 7 7]\n",
            "  [4 4 8 8]]]\n"
          ]
        }
      ],
      "source": [
        "a = np.array([\n",
        "                [[1, 1], \n",
        "                [2, 2]],\n",
        "                \n",
        "                [[3, 3], \n",
        "                [4, 4]]\n",
        "                ])\n",
        "\n",
        "b = np.array([\n",
        "                [[5, 5], \n",
        "                [6, 6]],\n",
        "                \n",
        "                [[7, 7], \n",
        "                [8, 8]]\n",
        "                ])\n",
        "\n",
        "conc0 = np.concatenate((a,b), axis=0) # concatenamiento en el primer eje\n",
        "conc1 = np.concatenate((a,b), axis=1) # concatenamiento en el segundo eje\n",
        "conc2 = np.concatenate((a,b), axis=2) # concatenamiento en el tercer eje\n",
        "print(f\"conc0: {conc0}\\n\")\n",
        "print(f\"conc1: {conc1}\\n\")\n",
        "print(f\"conc2: {conc2}\")"
      ]
    },
    {
      "cell_type": "markdown",
      "metadata": {
        "id": "6zxSA1MF24t5"
      },
      "source": [
        "## 11. Dividir matrizes"
      ]
    },
    {
      "cell_type": "markdown",
      "metadata": {
        "id": "evF0UiN424uV"
      },
      "source": [
        "### 11.1. Dividir verticalmente"
      ]
    },
    {
      "cell_type": "markdown",
      "metadata": {
        "id": "1t1jKuEr24uV"
      },
      "source": [
        "Matrizes podem ser divididas verticalmente (separando linhas) através do método `vsplit()`"
      ]
    },
    {
      "cell_type": "code",
      "execution_count": null,
      "metadata": {
        "colab": {
          "base_uri": "https://localhost:8080/"
        },
        "executionInfo": {
          "elapsed": 1020,
          "status": "ok",
          "timestamp": 1618999176696,
          "user": {
            "displayName": "DeepMaxFN FN",
            "photoUrl": "",
            "userId": "18365930870935188133"
          },
          "user_tz": -120
        },
        "id": "_8Lv0YAC24uW",
        "outputId": "730611c1-d015-412e-8797-5381cd3d35c4"
      },
      "outputs": [
        {
          "name": "stdout",
          "output_type": "stream",
          "text": [
            "a1: [[1.1 1.2 1.3 1.4]\n",
            " [2.1 2.2 2.3 2.4]]\n",
            "\n",
            "a2: [[3.1 3.2 3.3 3.4]\n",
            " [4.1 4.2 4.3 4.4]]\n"
          ]
        }
      ],
      "source": [
        "a = np.array([[1.1, 1.2, 1.3, 1.4], \n",
        "              [2.1, 2.2, 2.3, 2.4],\n",
        "              [3.1, 3.2, 3.3, 3.4],\n",
        "              [4.1, 4.2, 4.3, 4.4]])\n",
        "\n",
        "[a1, a2] = np.vsplit(a, 2)\n",
        "print(f\"a1: {a1}\\n\")\n",
        "print(f\"a2: {a2}\")"
      ]
    },
    {
      "cell_type": "markdown",
      "metadata": {
        "id": "O9duqFhl24uY"
      },
      "source": [
        "Se tiver matrizes com mais de 2 dimensões, `vsplit()` dividirá ao longo da primeira dimensão."
      ]
    },
    {
      "cell_type": "code",
      "execution_count": null,
      "metadata": {
        "colab": {
          "base_uri": "https://localhost:8080/"
        },
        "executionInfo": {
          "elapsed": 815,
          "status": "ok",
          "timestamp": 1618999232227,
          "user": {
            "displayName": "DeepMaxFN FN",
            "photoUrl": "",
            "userId": "18365930870935188133"
          },
          "user_tz": -120
        },
        "id": "oa8Mq1Md24uY",
        "outputId": "27fd4a86-ddaf-4c58-ffeb-781d34832d45"
      },
      "outputs": [
        {
          "name": "stdout",
          "output_type": "stream",
          "text": [
            "a1: [[[1 1]\n",
            "  [2 2]]]\n",
            "\n",
            "a2: [[[3 3]\n",
            "  [4 4]]]\n"
          ]
        }
      ],
      "source": [
        "a = np.array([\n",
        "                [[1, 1], \n",
        "                [2, 2]],\n",
        "                \n",
        "                [[3, 3], \n",
        "                [4, 4]]\n",
        "                ])\n",
        "\n",
        "[a1, a2] = np.vsplit(a, 2)\n",
        "print(f\"a1: {a1}\\n\")\n",
        "print(f\"a2: {a2}\")"
      ]
    },
    {
      "cell_type": "markdown",
      "metadata": {
        "id": "KlUORvvI24uZ"
      },
      "source": [
        "### 11.2. Dividir horizontalmente"
      ]
    },
    {
      "cell_type": "markdown",
      "metadata": {
        "id": "uH_XbRWA24uZ"
      },
      "source": [
        "Matrizes podem ser divididas horizontalmente (separando colunas) através do método `hsplit()`"
      ]
    },
    {
      "cell_type": "code",
      "execution_count": null,
      "metadata": {
        "colab": {
          "base_uri": "https://localhost:8080/"
        },
        "executionInfo": {
          "elapsed": 1083,
          "status": "ok",
          "timestamp": 1618999319572,
          "user": {
            "displayName": "DeepMaxFN FN",
            "photoUrl": "",
            "userId": "18365930870935188133"
          },
          "user_tz": -120
        },
        "id": "ZkGh6y1M24uZ",
        "outputId": "cd0f628e-af21-4bdb-81a0-7d00cd27ad66"
      },
      "outputs": [
        {
          "name": "stdout",
          "output_type": "stream",
          "text": [
            "a1: [[1.1 1.2]\n",
            " [2.1 2.2]\n",
            " [3.1 3.2]\n",
            " [4.1 4.2]]\n",
            "\n",
            "a2: [[1.3 1.4]\n",
            " [2.3 2.4]\n",
            " [3.3 3.4]\n",
            " [4.3 4.4]]\n"
          ]
        }
      ],
      "source": [
        "a = np.array([[1.1, 1.2, 1.3, 1.4], \n",
        "              [2.1, 2.2, 2.3, 2.4],\n",
        "              [3.1, 3.2, 3.3, 3.4],\n",
        "              [4.1, 4.2, 4.3, 4.4]])\n",
        "\n",
        "[a1, a2] = np.hsplit(a, 2)\n",
        "print(f\"a1: {a1}\\n\")\n",
        "print(f\"a2: {a2}\")"
      ]
    },
    {
      "cell_type": "markdown",
      "metadata": {
        "id": "uJIOOU9r24ua"
      },
      "source": [
        "Se tiver matrizes com mais de 2 dimensões, `hsplit()` dividirá ao longo da segunda dimensão."
      ]
    },
    {
      "cell_type": "code",
      "execution_count": null,
      "metadata": {
        "colab": {
          "base_uri": "https://localhost:8080/"
        },
        "executionInfo": {
          "elapsed": 1174,
          "status": "ok",
          "timestamp": 1618999362237,
          "user": {
            "displayName": "DeepMaxFN FN",
            "photoUrl": "",
            "userId": "18365930870935188133"
          },
          "user_tz": -120
        },
        "id": "QJVUu05Q24ua",
        "outputId": "a512661c-e89d-43ed-9aad-03805fcd36d1"
      },
      "outputs": [
        {
          "name": "stdout",
          "output_type": "stream",
          "text": [
            "a1: [[[1 1]]\n",
            "\n",
            " [[3 3]]]\n",
            "\n",
            "a2: [[[2 2]]\n",
            "\n",
            " [[4 4]]]\n"
          ]
        }
      ],
      "source": [
        "a = np.array([\n",
        "                [[1, 1], \n",
        "                [2, 2]],\n",
        "                \n",
        "                [[3, 3], \n",
        "                [4, 4]]\n",
        "                ])\n",
        "\n",
        "[a1, a2] = np.hsplit(a, 2)\n",
        "print(f\"a1: {a1}\\n\")\n",
        "print(f\"a2: {a2}\")"
      ]
    },
    {
      "cell_type": "markdown",
      "metadata": {
        "id": "BD1VEt6Y24uc"
      },
      "source": [
        "### 11.3. Dividir de maneira personalizada"
      ]
    },
    {
      "cell_type": "markdown",
      "metadata": {
        "id": "eZv1Dn0C24uc"
      },
      "source": [
        "Com o método `array_split()`, é possível escolher o eixo em que se deseja dividir as matrizes."
      ]
    },
    {
      "cell_type": "code",
      "execution_count": null,
      "metadata": {
        "colab": {
          "base_uri": "https://localhost:8080/"
        },
        "executionInfo": {
          "elapsed": 633,
          "status": "ok",
          "timestamp": 1618999696996,
          "user": {
            "displayName": "DeepMaxFN FN",
            "photoUrl": "",
            "userId": "18365930870935188133"
          },
          "user_tz": -120
        },
        "id": "RJvjjiKO24ud",
        "outputId": "03604a72-40cb-4f53-dc3a-359f6c5d6c05"
      },
      "outputs": [
        {
          "name": "stdout",
          "output_type": "stream",
          "text": [
            "a1_eje0: [[[1 1]\n",
            "  [2 2]]]\n",
            "\n",
            "a2_eje0: [[[3 3]\n",
            "  [4 4]]]\n",
            "\n",
            "\n",
            "a1_eje1: [[[1 1]]\n",
            "\n",
            " [[3 3]]]\n",
            "\n",
            "a2_eje1: [[[2 2]]\n",
            "\n",
            " [[4 4]]]\n",
            "\n",
            "\n",
            "a1_eje2: [[[1]\n",
            "  [2]]\n",
            "\n",
            " [[3]\n",
            "  [4]]]\n",
            "\n",
            "a2_eje2: [[[1]\n",
            "  [2]]\n",
            "\n",
            " [[3]\n",
            "  [4]]]\n"
          ]
        }
      ],
      "source": [
        "a = np.array([\n",
        "                [[1, 1], \n",
        "                [2, 2]],\n",
        "                \n",
        "                [[3, 3], \n",
        "                [4, 4]]\n",
        "                ])\n",
        "\n",
        "[a1_eje0, a2_eje0] = np.array_split(a, 2, axis=0)\n",
        "[a1_eje1, a2_eje1] = np.array_split(a, 2, axis=1)\n",
        "[a1_eje2, a2_eje2] = np.array_split(a, 2, axis=2)\n",
        "\n",
        "print(f\"a1_eje0: {a1_eje0}\\n\")\n",
        "print(f\"a2_eje0: {a2_eje0}\\n\\n\")\n",
        "\n",
        "print(f\"a1_eje1: {a1_eje1}\\n\")\n",
        "print(f\"a2_eje1: {a2_eje1}\\n\\n\")\n",
        "\n",
        "print(f\"a1_eje2: {a1_eje2}\\n\")\n",
        "print(f\"a2_eje2: {a2_eje2}\")"
      ]
    },
    {
      "cell_type": "markdown",
      "metadata": {
        "id": "bcK_53Y2fTA2"
      },
      "source": [
        "## 12. Busca em matrizes"
      ]
    },
    {
      "cell_type": "markdown",
      "metadata": {
        "id": "6js5LQfQfW7o"
      },
      "source": [
        "Se quiser buscar um valor dentro de uma matriz, pode-se usar o método `where()` que retorna as posições onde a matriz possui o valor que estamos procurando."
      ]
    },
    {
      "cell_type": "code",
      "execution_count": null,
      "metadata": {
        "colab": {
          "base_uri": "https://localhost:8080/"
        },
        "executionInfo": {
          "elapsed": 912,
          "status": "ok",
          "timestamp": 1619077428305,
          "user": {
            "displayName": "DeepMaxFN FN",
            "photoUrl": "",
            "userId": "18365930870935188133"
          },
          "user_tz": -120
        },
        "id": "Mv0uUM9qiC-_",
        "outputId": "8b67fb6e-f354-41fc-f360-14946fd79371"
      },
      "outputs": [
        {
          "data": {
            "text/plain": [
              "(array([3, 5, 6]),)"
            ]
          },
          "execution_count": 12,
          "metadata": {
            "tags": []
          },
          "output_type": "execute_result"
        }
      ],
      "source": [
        "arr = np.array([1, 2, 3, 4, 5, 4, 4])\n",
        "\n",
        "ids = np.where(arr == 4)\n",
        "ids"
      ]
    },
    {
      "cell_type": "markdown",
      "metadata": {
        "id": "0Q59Jf6JiaBJ"
      },
      "source": [
        "Funções podem ser usadas para buscar, por exemplo, se quisermos encontrar em quais posições os valores são pares"
      ]
    },
    {
      "cell_type": "code",
      "execution_count": null,
      "metadata": {
        "colab": {
          "base_uri": "https://localhost:8080/"
        },
        "executionInfo": {
          "elapsed": 1000,
          "status": "ok",
          "timestamp": 1619077530606,
          "user": {
            "displayName": "DeepMaxFN FN",
            "photoUrl": "",
            "userId": "18365930870935188133"
          },
          "user_tz": -120
        },
        "id": "rB0EQkeQifrg",
        "outputId": "1b27eac9-d072-4f07-cc86-507ba345ef64"
      },
      "outputs": [
        {
          "data": {
            "text/plain": [
              "(array([0, 2, 4, 6]),)"
            ]
          },
          "execution_count": 15,
          "metadata": {
            "tags": []
          },
          "output_type": "execute_result"
        }
      ],
      "source": [
        "arr = np.array([1, 2, 3, 4, 5, 6, 7, 8])\n",
        "\n",
        "ids = np.where(arr%2)\n",
        "ids"
      ]
    },
    {
      "cell_type": "markdown",
      "metadata": {
        "id": "sR_AqdYXjUV4"
      },
      "source": [
        "## 13. Ordenar matrizes"
      ]
    },
    {
      "cell_type": "markdown",
      "metadata": {
        "id": "rlf86hH2jWoK"
      },
      "source": [
        "Com o método `sort()` podemos ordenar arrays"
      ]
    },
    {
      "cell_type": "code",
      "execution_count": null,
      "metadata": {
        "colab": {
          "base_uri": "https://localhost:8080/"
        },
        "executionInfo": {
          "elapsed": 1045,
          "status": "ok",
          "timestamp": 1619077790215,
          "user": {
            "displayName": "DeepMaxFN FN",
            "photoUrl": "",
            "userId": "18365930870935188133"
          },
          "user_tz": -120
        },
        "id": "iHllKxPRjajj",
        "outputId": "24d85c1c-1f16-4fc7-a468-3b950cef3a3e"
      },
      "outputs": [
        {
          "data": {
            "text/plain": [
              "array([0, 1, 2, 3])"
            ]
          },
          "execution_count": 27,
          "metadata": {
            "tags": []
          },
          "output_type": "execute_result"
        }
      ],
      "source": [
        "arr = np.array([3, 2, 0, 1])\n",
        "\n",
        "arr_ordenado = np.sort(arr)\n",
        "arr_ordenado"
      ]
    },
    {
      "cell_type": "markdown",
      "metadata": {
        "id": "p3iBO9o1jpaf"
      },
      "source": [
        "Se temos strings, eles são ordenados alfabeticamente"
      ]
    },
    {
      "cell_type": "code",
      "execution_count": null,
      "metadata": {
        "colab": {
          "base_uri": "https://localhost:8080/"
        },
        "executionInfo": {
          "elapsed": 1367,
          "status": "ok",
          "timestamp": 1619077868029,
          "user": {
            "displayName": "DeepMaxFN FN",
            "photoUrl": "",
            "userId": "18365930870935188133"
          },
          "user_tz": -120
        },
        "id": "ldl7R0Bsj06z",
        "outputId": "e93766fb-7b5d-4076-a352-aa16adba1b6c"
      },
      "outputs": [
        {
          "data": {
            "text/plain": [
              "array(['apple', 'banana', 'cherry'], dtype='<U6')"
            ]
          },
          "execution_count": 29,
          "metadata": {
            "tags": []
          },
          "output_type": "execute_result"
        }
      ],
      "source": [
        "arr = np.array(['banana', 'apple', 'cherry'])\n",
        "\n",
        "arr_ordenado = np.sort(arr)\n",
        "arr_ordenado"
      ]
    },
    {
      "cell_type": "markdown",
      "metadata": {
        "id": "OqFGxo9Qj8Va"
      },
      "source": [
        "E as matrizes de booleanos também são ordenadas"
      ]
    },
    {
      "cell_type": "code",
      "execution_count": null,
      "metadata": {
        "colab": {
          "base_uri": "https://localhost:8080/"
        },
        "executionInfo": {
          "elapsed": 1282,
          "status": "ok",
          "timestamp": 1619077900595,
          "user": {
            "displayName": "DeepMaxFN FN",
            "photoUrl": "",
            "userId": "18365930870935188133"
          },
          "user_tz": -120
        },
        "id": "fKgV31tIj-4w",
        "outputId": "42169b71-272b-407f-c48d-afa970c34e51"
      },
      "outputs": [
        {
          "data": {
            "text/plain": [
              "array([False,  True,  True])"
            ]
          },
          "execution_count": 30,
          "metadata": {
            "tags": []
          },
          "output_type": "execute_result"
        }
      ],
      "source": [
        "arr = np.array([True, False, True])\n",
        "\n",
        "arr_ordenado = np.sort(arr)\n",
        "arr_ordenado"
      ]
    },
    {
      "cell_type": "markdown",
      "metadata": {
        "id": "9KgNNcFlkGPZ"
      },
      "source": [
        "Se tiver matrizes de mais de uma dimensão, as ordena por dimensões, ou seja, se tiver uma matriz de 2 dimensões, ordena os números da primeira linha entre si e os da segunda linha entre si."
      ]
    },
    {
      "cell_type": "code",
      "execution_count": null,
      "metadata": {
        "colab": {
          "base_uri": "https://localhost:8080/"
        },
        "executionInfo": {
          "elapsed": 889,
          "status": "ok",
          "timestamp": 1619078047450,
          "user": {
            "displayName": "DeepMaxFN FN",
            "photoUrl": "",
            "userId": "18365930870935188133"
          },
          "user_tz": -120
        },
        "id": "aiM26N03kIvz",
        "outputId": "dc13a1dd-09a7-4447-c095-da25b2318f34"
      },
      "outputs": [
        {
          "data": {
            "text/plain": [
              "array([[2, 3, 4],\n",
              "       [0, 1, 5]])"
            ]
          },
          "execution_count": 32,
          "metadata": {
            "tags": []
          },
          "output_type": "execute_result"
        }
      ],
      "source": [
        "arr = np.array([[3, 2, 4], [5, 0, 1]])\n",
        "\n",
        "arr_ordenado = np.sort(arr)\n",
        "arr_ordenado"
      ]
    },
    {
      "cell_type": "markdown",
      "metadata": {
        "id": "AoOFh8x0kn50"
      },
      "source": [
        "Por padrão, ordena sempre com relação às linhas, mas se quiser que ordene com relação a outra dimensão, deve ser especificado através da variável `axis`."
      ]
    },
    {
      "cell_type": "code",
      "execution_count": null,
      "metadata": {
        "colab": {
          "base_uri": "https://localhost:8080/"
        },
        "executionInfo": {
          "elapsed": 900,
          "status": "ok",
          "timestamp": 1619078341692,
          "user": {
            "displayName": "DeepMaxFN FN",
            "photoUrl": "",
            "userId": "18365930870935188133"
          },
          "user_tz": -120
        },
        "id": "9n-HgQkmlBJW",
        "outputId": "c5bf28ad-c490-4be2-e467-7bdad02ccf25"
      },
      "outputs": [
        {
          "name": "stdout",
          "output_type": "stream",
          "text": [
            "arr_ordenado0: [[3 0 1]\n",
            " [5 2 4]]\n",
            "\n",
            "arr_ordenado1: [[2 3 4]\n",
            " [0 1 5]]\n",
            "\n"
          ]
        }
      ],
      "source": [
        "arr = np.array([[3, 2, 4], [5, 0, 1]])\n",
        "\n",
        "arr_ordenado0 = np.sort(arr, axis=0) # Se ordena con respecto a la primera dimensión\n",
        "arr_ordenado1 = np.sort(arr, axis=1) # Se ordena con respecto a la segunda dimensión\n",
        "\n",
        "print(f\"arr_ordenado0: {arr_ordenado0}\\n\")\n",
        "print(f\"arr_ordenado1: {arr_ordenado1}\\n\")"
      ]
    },
    {
      "cell_type": "markdown",
      "metadata": {
        "id": "WH7CQyLfasDn"
      },
      "source": [
        "## 14. Filtros em matrizes"
      ]
    },
    {
      "cell_type": "markdown",
      "metadata": {
        "id": "X1md_Y-Nauoq"
      },
      "source": [
        "NumPy oferece a possibilidade de buscar certos elementos de uma matriz e criar uma nova\n",
        "\n",
        "Isso é feito criando uma matriz de índices booleanos, ou seja, cria uma nova matriz que indica quais posições mantemos da matriz e quais não.\n",
        "\n",
        "Vamos ver um exemplo de uma matriz de índices booleanos"
      ]
    },
    {
      "cell_type": "code",
      "execution_count": null,
      "metadata": {
        "colab": {
          "base_uri": "https://localhost:8080/"
        },
        "executionInfo": {
          "elapsed": 544,
          "status": "ok",
          "timestamp": 1619159960999,
          "user": {
            "displayName": "DeepMaxFN FN",
            "photoUrl": "",
            "userId": "18365930870935188133"
          },
          "user_tz": -120
        },
        "id": "L4GBA6GjbfuX",
        "outputId": "2e7493b0-db95-4c73-a266-6e38935b21ce"
      },
      "outputs": [
        {
          "name": "stdout",
          "output_type": "stream",
          "text": [
            "Array original: [37 85 12 45 69 22]\n",
            "indices booleanos: [False, False, True, False, False, True]\n",
            "Array filtrado: [12 22]\n"
          ]
        }
      ],
      "source": [
        "arr = np.array([37, 85, 12, 45, 69, 22])\n",
        "\n",
        "indices_booleanos = [False, False, True, False, False, True]\n",
        "\n",
        "arr_filter = arr[indices_booleanos]\n",
        "\n",
        "print(f\"Array original: {arr}\")\n",
        "print(f\"indices booleanos: {indices_booleanos}\")\n",
        "print(f\"Array filtrado: {arr_filter}\")"
      ]
    },
    {
      "cell_type": "markdown",
      "metadata": {
        "id": "y_SG6QLtb3c6"
      },
      "source": [
        "Como se pode ver, o array filtrado (`arr_filtr`), só ficou com os elementos do array original (`arr`) que correspondem aos elementos em que o array `indices_booleanos` é `True`"
      ]
    },
    {
      "cell_type": "markdown",
      "metadata": {
        "id": "mrEAqb9dcF9x"
      },
      "source": [
        "Outra coisa que podemos observar é que apenas os elementos pares foram mantidos, então agora vamos ver como fazer para manter apenas os elementos pares de uma matriz, sem ter que fazê-lo manualmente como fizemos no exemplo anterior."
      ]
    },
    {
      "cell_type": "code",
      "execution_count": null,
      "metadata": {
        "colab": {
          "base_uri": "https://localhost:8080/"
        },
        "executionInfo": {
          "elapsed": 616,
          "status": "ok",
          "timestamp": 1619160024912,
          "user": {
            "displayName": "DeepMaxFN FN",
            "photoUrl": "",
            "userId": "18365930870935188133"
          },
          "user_tz": -120
        },
        "id": "ldsnxKsFcjgo",
        "outputId": "040041c4-ac05-4322-d0c5-b58d33dda558"
      },
      "outputs": [
        {
          "name": "stdout",
          "output_type": "stream",
          "text": [
            "Array original: [[ 1  2  3  4  5]\n",
            " [ 6  7  8  9 10]]\n",
            "\n",
            "indices booleanos: [[False  True False  True False]\n",
            " [ True False  True False  True]]\n",
            "\n",
            "Array filtrado: [ 2  4  6  8 10]\n"
          ]
        }
      ],
      "source": [
        "arr = np.array([[1, 2, 3, 4, 5], \n",
        "                [6, 7, 8, 9, 10]])\n",
        " \n",
        "indices_booleanos = arr % 2 == 0\n",
        " \n",
        "arr_filter = arr[indices_booleanos]\n",
        " \n",
        "print(f\"Array original: {arr}\\n\")\n",
        "print(f\"indices booleanos: {indices_booleanos}\\n\")\n",
        "print(f\"Array filtrado: {arr_filter}\")"
      ]
    }
  ],
  "metadata": {
    "colab": {
      "authorship_tag": "ABX9TyNER5/dTrBMaaCvrciKA5ii",
      "collapsed_sections": [],
      "name": "2021-04-23-Calculo-matricial-con-NumPy.ipynb",
      "provenance": []
    },
    "kernelspec": {
      "display_name": "Python 3.7.6 ('base')",
      "language": "python",
      "name": "python3"
    },
    "language_info": {
      "codemirror_mode": {
        "name": "ipython",
        "version": 3
      },
      "file_extension": ".py",
      "mimetype": "text/x-python",
      "name": "python",
      "nbconvert_exporter": "python",
      "pygments_lexer": "ipython3",
      "version": "3.7.6"
    },
    "maximofn": {
      "date": "2021-04-23",
      "description_en": "🟢 Learn to do all the matrix calculation you want in an agile way with NumPy",
      "description_es": "🟢 Aprende a hacer todo el cálculo matricial que quieras de una manera ágil con NumPy",
      "description_pt": "🟢 Aprenda a fazer todos os cálculos matriciais que desejar de forma ágil com NumPy",
      "end_url": "numpy",
      "image": "https://pub-fb664c455eca46a2ba762a065ac900f7.r2.dev/numpy-icon.webp",
      "image_hover_path": "https://pub-fb664c455eca46a2ba762a065ac900f7.r2.dev/numpy-icon.webp",
      "keywords_en": "NumPy, matrix calculation, Python, tutorial, beginners",
      "keywords_es": "NumPy, cálculo matricial, Python, tutorial, principiantes",
      "keywords_pt": "NumPy, cálculo de matriz, Python, tutorial, iniciantes",
      "title_en": "Matrix calculation with NumPy",
      "title_es": "Calculo matricial con NumPy",
      "title_pt": "Cálculo de matriz com NumPy"
    },
    "vscode": {
      "interpreter": {
        "hash": "d5745ab6aba164e1152437c779991855725055592b9f2bdb41a4825db7168d26"
      }
    }
  },
  "nbformat": 4,
  "nbformat_minor": 0
}
