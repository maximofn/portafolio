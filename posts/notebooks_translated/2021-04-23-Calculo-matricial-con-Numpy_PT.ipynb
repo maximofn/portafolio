{
  "cells": [
    {
      "cell_type": "markdown",
      "metadata": {
        "id": "dsaKCKL0IxZl_discalimer"
      },
      "source": [
        "# C\u00e1lculo matricial com NumPy"
      ]
    },
    {
      "cell_type": "markdown",
      "metadata": {
        "id": "dsaKCKL0IxZl_discalimer"
      },
      "source": [
        " > Aviso: Este post foi traduzido para o portugu\u00eas usando um modelo de tradu\u00e7\u00e3o autom\u00e1tica. Por favor, me avise se encontrar algum erro."
      ]
    },
    {
      "cell_type": "markdown",
      "metadata": {
        "id": "Ho_8zgIiI0We"
      },
      "source": [
        "## 1. Resumo"
      ]
    },
    {
      "cell_type": "markdown",
      "metadata": {
        "id": "tT4POPIFNU9M"
      },
      "source": [
        "Vamos ver uma pequena introdu\u00e7\u00e3o \u00e0 biblioteca de c\u00e1lculo matricial `NumPy`. Esta biblioteca est\u00e1 desenhada para todo tipo de c\u00e1lculo matricial, por isso vamos nos concentrar apenas na parte que ser\u00e1 \u00fatil para entender os c\u00e1lculos dentro das redes neurais, mas deixaremos de fora coisas interessantes como o uso da biblioteca para a \u00e1lgebra linear.",
        "\n",
        "\n",
        "<p align=\"center\">",
        "  <img src=\"https://pub-fb664c455eca46a2ba762a065ac900f7.r2.dev/numpy-icon.webp\">",
        "</p>"
      ]
    },
    {
      "cell_type": "markdown",
      "metadata": {
        "id": "8JYjaT6-B40Q"
      },
      "source": [
        "## 2. O que \u00e9 NumPy?"
      ]
    },
    {
      "cell_type": "markdown",
      "metadata": {
        "id": "ZKFFTs-VB-_B"
      },
      "source": [
        "NumPy \u00e9 uma biblioteca de Python projetada para realizar c\u00e1lculo matricial. O c\u00e1lculo matricial \u00e9 algo que se utiliza muito em ci\u00eancia em geral e em data science em particular, por isso \u00e9 necess\u00e1rio ter uma biblioteca que fa\u00e7a isso muito bem."
      ]
    },
    {
      "cell_type": "markdown",
      "metadata": {
        "id": "yVaYBl8is1w7"
      },
      "source": [
        "Seu nome significa Numerical Python"
      ]
    },
    {
      "cell_type": "markdown",
      "metadata": {
        "id": "YFi69ESms3LC"
      },
      "source": [
        "Seu objeto principal \u00e9 o `ndarray`, que encapsula matrizes de dimens\u00e3o `n` de tipos de dados homog\u00eaneos, ao contr\u00e1rio das listas de Python, que podem conter dados de diferentes tipos."
      ]
    },
    {
      "cell_type": "markdown",
      "metadata": {
        "id": "q2Ae3TnpCQfV"
      },
      "source": [
        "NumPy tem o objetivo de realizar o c\u00e1lculo matricial muito mais r\u00e1pido do que com as listas de Python, mas como isso \u00e9 poss\u00edvel?",
        "\n",
        "*   NumPy utiliza c\u00f3digo compilado, enquanto Python utiliza c\u00f3digo interpretado. A diferen\u00e7a \u00e9 que Python no momento da execu\u00e7\u00e3o tem que interpretar, compilar e executar o c\u00f3digo, enquanto o NumPy j\u00e1 est\u00e1 compilado, por isso \u00e9 executado mais r\u00e1pido",
        "*   Os `ndarray`s t\u00eam um tamanho fixo, ao contr\u00e1rio das listas de Python que s\u00e3o din\u00e2micas. Se no NumPy quiser modificar o tamanho de uma matriz, ser\u00e1 criada uma nova e a antiga ser\u00e1 eliminada",
        "*   Todos os elementos dos `ndarray`s s\u00e3o do mesmo tipo de dado, ao contr\u00e1rio das listas do Python que podem ter elementos de diferentes tipos",
        "*   Parte do c\u00f3digo do NumPy est\u00e1 escrito em C/C++ (muito mais r\u00e1pido que Python)",
        "*   Os dados das matrizes s\u00e3o armazenados em mem\u00f3ria de maneira cont\u00ednua, ao contr\u00e1rio das listas de Python, o que faz com que seja muito mais r\u00e1pido manipul\u00e1-los"
      ]
    },
    {
      "cell_type": "markdown",
      "metadata": {
        "id": "apttcS0eussw"
      },
      "source": [
        "NumPy oferece a facilidade de usar c\u00f3digo simples de escrever e de ler, mas que est\u00e1 escrito e pr\u00e9-compilado em C, o que o torna muito mais r\u00e1pido.",
        " \n",
        "Suponhamos que queremos multiplicar dois vetores, isso seria feito em C da seguinte maneira:",
        " \n",
        "```portugu\u00eas",
        "```markdown\nfor (i = 0; i < rows; i++): {\n```",
        "```markdown\n  for (j = 0; j < columns; j++): {\n```",
        "```markdown\nc[i][j] = a[i][j]*b[i][j];\n```",
        "```markdown\n}\n```",
        "}",
        "",
        " \n",
        "NumPy oferece a possibilidade de executar este c\u00f3digo por baixo, mas muito mais f\u00e1cil de escrever e entender atrav\u00e9s",
        " \n",
        "```python\n```",
        "```python\nc = a * b\n```",
        "```"
      ]
    },
    {
      "cell_type": "markdown",
      "metadata": {
        "id": "ObWp9wHpwPr5"
      },
      "source": [
        "NumPy oferece c\u00f3digo vetorizado, que significa n\u00e3o ter que escrever loops, mas que no entanto est\u00e3o sendo executados por baixo em c\u00f3digo C otimizado e pr\u00e9-compilado. Isso tem as seguintes vantagens:",
        "\n",
        "*   O c\u00f3digo \u00e9 mais f\u00e1cil de escrever e ler",
        "*   Ao necessitar de menos linhas de c\u00f3digo, h\u00e1 menor probabilidade de introduzir erros",
        "*   O c\u00f3digo se parece mais com a nota\u00e7\u00e3o matem\u00e1tica"
      ]
    },
    {
      "cell_type": "markdown",
      "metadata": {
        "id": "s2LkAMGtDGJt"
      },
      "source": [
        "### 2.1. NumPy como `np`"
      ]
    },
    {
      "cell_type": "markdown",
      "metadata": {
        "id": "99W8bljpDLo_"
      },
      "source": [
        "Geralmente, ao importar o NumPy, costuma-se importar com o alias de `np`"
      ]
    },
    {
      "cell_type": "code",
      "execution_count": 1,
      "metadata": {
        "colab": {
          "base_uri": "https://localhost:8080/"
        },
        "executionInfo": {
          "elapsed": 644,
          "status": "ok",
          "timestamp": 1619162104377,
          "user": {
            "displayName": "DeepMaxFN FN",
            "photoUrl": "",
            "userId": "18365930870935188133"
          },
          "user_tz": -120
        },
        "id": "NYNGwSloDS1N",
        "outputId": "b0757f6d-cb64-4ce5-c20e-1de5f7f0fb30"
      },
      "outputs": [
        {
          "name": "stdout",
          "output_type": "stream",
          "text": [
            "1.18.1\n"
          ]
        }
      ],
      "source": [
        "import numpy as np\n",
        "\n",
        "print(np.__version__)"
      ]
    },
    {
      "cell_type": "markdown",
      "metadata": {
        "id": "NxTpzwY3e6pd"
      },
      "source": [
        "## 3. Velocidade do NumPy"
      ]
    },
    {
      "cell_type": "markdown",
      "metadata": {
        "id": "42o8Sq9ve96C"
      },
      "source": [
        "Como foi explicado, o NumPy realiza o c\u00e1lculo muito mais r\u00e1pido do que as listas de Python, vejamos um exemplo em que \u00e9 realizado o produto escalar de duas matrizes, atrav\u00e9s de listas de Python e atrav\u00e9s de `ndarray`s"
      ]
    },
    {
      "cell_type": "code",
      "execution_count": 2,
      "metadata": {
        "colab": {
          "base_uri": "https://localhost:8080/"
        },
        "executionInfo": {
          "elapsed": 1402,
          "status": "ok",
          "timestamp": 1619162362470,
          "user": {
            "displayName": "DeepMaxFN FN",
            "photoUrl": "",
            "userId": "18365930870935188133"
          },
          "user_tz": -120
        },
        "id": "gi-muCeUfHlq",
        "outputId": "5b56aeae-bfcb-4ad6-ec66-3e0715d76c63"
      },
      "outputs": [
        {
          "name": "stdout",
          "output_type": "stream",
          "text": [
            "Tiempo para realizar el producto escalar de dos listas de Python de dimensiones 1000x1000: 0.5234 ms\n",
            "Tiempo para realizar el producto escalar de dos ndarrays de NumPy de dimensiones 1000x1000: 0.0017 ms\n",
            "\n",
            "Hacer el c\u00e1lculo con listas de Python tarda 316.66 veces m\u00e1s r\u00e1pido que con ndarrays de NumPy\n"
          ]
        }
      ],
      "source": [
        "from time import time\n",
        " \n",
        "# Dimensi\u00f3n de las matrices\n",
        "dim = 1000\n",
        "shape = (dim, dim)\n",
        " \n",
        "# Se crean dos ndarrays de NumPy de dimensi\u00f3n dim x dim\n",
        "ndarray_a = np.ones(shape=shape)\n",
        "ndarray_b = np.ones(shape=shape)\n",
        " \n",
        "# Se crean dos listas de Python de dimensi\u00f3n dim x dim a partir de los ndarrays\n",
        "list_a = list(ndarray_a)\n",
        "list_b = list(ndarray_b)\n",
        " \n",
        "# Se crean el ndarray y la lista de Python donde se guardar\u00e1n los resultados\n",
        "ndarray_c = np.empty(shape=shape)\n",
        "list_c = list(ndarray_c)\n",
        " \n",
        "# Producto escalar de dos listas de python\n",
        "t0 = time()\n",
        "for fila in range(dim):\n",
        "  for columna in range(dim):\n",
        "    list_c[fila][columna] = list_a[fila][columna] * list_b[fila][columna]\n",
        "t = time()\n",
        "t_listas = t-t0\n",
        "print(f\"Tiempo para realizar el producto escalar de dos listas de Python de dimensiones {dim}x{dim}: {t_listas:.4f} ms\")\n",
        " \n",
        " \n",
        "# Producto escalar de dos ndarrays de NumPy\n",
        "t0 = time()\n",
        "ndarray_c = ndarray_a * ndarray_b\n",
        "t = time()\n",
        "t_ndarrays = t-t0\n",
        "print(f\"Tiempo para realizar el producto escalar de dos ndarrays de NumPy de dimensiones {dim}x{dim}: {t_ndarrays:.4f} ms\")\n",
        " \n",
        "# Comparaci\u00f3n de tiempos\n",
        "print(f\"\\nHacer el c\u00e1lculo con listas de Python tarda {t_listas/t_ndarrays:.2f} veces m\u00e1s r\u00e1pido que con ndarrays de NumPy\")"
      ]
    },
    {
      "cell_type": "markdown",
      "metadata": {
        "id": "MiXbfLfOD4Ux"
      },
      "source": [
        "## 4. Matrizes no NumPy"
      ]
    },
    {
      "cell_type": "markdown",
      "metadata": {
        "id": "cXFj3YGgD7N_"
      },
      "source": [
        "Em NumPy uma matriz \u00e9 um objeto `ndarray`"
      ]
    },
    {
      "cell_type": "code",
      "execution_count": null,
      "metadata": {
        "colab": {
          "base_uri": "https://localhost:8080/"
        },
        "executionInfo": {
          "elapsed": 545,
          "status": "ok",
          "timestamp": 1616485870000,
          "user": {
            "displayName": "DeepMaxFN FN",
            "photoUrl": "",
            "userId": "18365930870935188133"
          },
          "user_tz": -60
        },
        "id": "gxQjcw4aEIM7",
        "outputId": "fdffa462-08b1-43e0-d539-266646021762"
      },
      "outputs": [
        {
          "name": "stdout",
          "output_type": "stream",
          "text": [
            "[1 2 3 4 5]\n",
            "<class 'numpy.ndarray'>\n"
          ]
        }
      ],
      "source": [
        "arr = np.array([1, 2, 3, 4, 5])\n",
        "\n",
        "print(arr)\n",
        "print(type(arr))"
      ]
    },
    {
      "cell_type": "markdown",
      "metadata": {
        "id": "EiZPmhCAxS07"
      },
      "source": [
        "### 4.1. Como criar matrizes"
      ]
    },
    {
      "cell_type": "markdown",
      "metadata": {
        "id": "4UkE1gVcERQZ"
      },
      "source": [
        "Com o m\u00e9todo `array()` \u00e9 poss\u00edvel criar `ndarray`s introduzindo listas de Python (como o exemplo anterior) ou tuplas"
      ]
    },
    {
      "cell_type": "code",
      "execution_count": null,
      "metadata": {
        "colab": {
          "base_uri": "https://localhost:8080/"
        },
        "executionInfo": {
          "elapsed": 526,
          "status": "ok",
          "timestamp": 1616485937446,
          "user": {
            "displayName": "DeepMaxFN FN",
            "photoUrl": "",
            "userId": "18365930870935188133"
          },
          "user_tz": -60
        },
        "id": "isSSVGKAEdj_",
        "outputId": "85c40075-7616-47a4-99c1-1e88120300d6"
      },
      "outputs": [
        {
          "name": "stdout",
          "output_type": "stream",
          "text": [
            "[1 2 3 4 5]\n",
            "<class 'numpy.ndarray'>\n"
          ]
        }
      ],
      "source": [
        "arr = np.array((1, 2, 3, 4, 5))\n",
        "\n",
        "print(arr)\n",
        "print(type(arr))"
      ]
    },
    {
      "cell_type": "markdown",
      "metadata": {
        "id": "reVaFMSExevX"
      },
      "source": [
        "Com o m\u00e9todo `zeros()` \u00e9 poss\u00edvel criar matrizes cheias de zeros"
      ]
    },
    {
      "cell_type": "code",
      "execution_count": 3,
      "metadata": {
        "id": "Kv3jhYEEzXDo"
      },
      "outputs": [
        {
          "name": "stdout",
          "output_type": "stream",
          "text": [
            "[[0. 0. 0. 0.]\n",
            " [0. 0. 0. 0.]\n",
            " [0. 0. 0. 0.]]\n"
          ]
        }
      ],
      "source": [
        "arr = np.zeros((3, 4))\n",
        "\n",
        "print(arr)"
      ]
    },
    {
      "cell_type": "markdown",
      "metadata": {
        "id": "s_wlHe-_zMrv"
      },
      "source": [
        "O m\u00e9todo `zeros_like(A)` retorna uma matriz com a mesma forma que a matriz A, por\u00e9m preenchida com zeros"
      ]
    },
    {
      "cell_type": "code",
      "execution_count": null,
      "metadata": {
        "colab": {
          "base_uri": "https://localhost:8080/"
        },
        "executionInfo": {
          "elapsed": 3461,
          "status": "ok",
          "timestamp": 1617605548192,
          "user": {
            "displayName": "DeepMaxFN FN",
            "photoUrl": "",
            "userId": "18365930870935188133"
          },
          "user_tz": -120
        },
        "id": "wDjtkNNmxo52",
        "outputId": "a558e322-1bfb-4da2-be39-b24013bda3ca"
      },
      "outputs": [
        {
          "name": "stdout",
          "output_type": "stream",
          "text": [
            "[0 0 0 0 0]\n"
          ]
        }
      ],
      "source": [
        "A = np.array((1, 2, 3, 4, 5))\n",
        "arr = np.zeros_like(A)\n",
        "\n",
        "print(arr)"
      ]
    },
    {
      "cell_type": "markdown",
      "metadata": {
        "id": "o_dO5vYfx2P0"
      },
      "source": [
        "Com o m\u00e9todo `ones()` podem-se criar matrizes cheias de uns"
      ]
    },
    {
      "cell_type": "code",
      "execution_count": null,
      "metadata": {
        "colab": {
          "base_uri": "https://localhost:8080/"
        },
        "executionInfo": {
          "elapsed": 871,
          "status": "ok",
          "timestamp": 1617605146390,
          "user": {
            "displayName": "DeepMaxFN FN",
            "photoUrl": "",
            "userId": "18365930870935188133"
          },
          "user_tz": -120
        },
        "id": "u3TbXNMVx5c7",
        "outputId": "4798e96e-1de7-4ec4-9847-bba54b4b84c2"
      },
      "outputs": [
        {
          "name": "stdout",
          "output_type": "stream",
          "text": [
            "[[1. 1. 1.]\n",
            " [1. 1. 1.]\n",
            " [1. 1. 1.]\n",
            " [1. 1. 1.]]\n"
          ]
        }
      ],
      "source": [
        "arr = np.ones((4, 3))\n",
        "\n",
        "print(arr)"
      ]
    },
    {
      "cell_type": "markdown",
      "metadata": {
        "id": "TH_zTrWizkHQ"
      },
      "source": [
        "O m\u00e9todo `ones_like(A)` retorna uma matriz com a mesma forma que a matriz A, mas preenchida com uns"
      ]
    },
    {
      "cell_type": "code",
      "execution_count": null,
      "metadata": {
        "colab": {
          "base_uri": "https://localhost:8080/"
        },
        "executionInfo": {
          "elapsed": 883,
          "status": "ok",
          "timestamp": 1617605595989,
          "user": {
            "displayName": "DeepMaxFN FN",
            "photoUrl": "",
            "userId": "18365930870935188133"
          },
          "user_tz": -120
        },
        "id": "XBbx25sLzmxg",
        "outputId": "3cb7a559-d20d-4306-ce90-34fa29359c3c"
      },
      "outputs": [
        {
          "name": "stdout",
          "output_type": "stream",
          "text": [
            "[1 1 1 1 1]\n"
          ]
        }
      ],
      "source": [
        "A = np.array((1, 2, 3, 4, 5))\n",
        "arr = np.ones_like(A)\n",
        "\n",
        "print(arr)"
      ]
    },
    {
      "cell_type": "markdown",
      "metadata": {
        "id": "9DVKb2uNzu_h"
      },
      "source": [
        "Com o m\u00e9todo `empty()` \u00e9 poss\u00edvel criar matrizes com as dimens\u00f5es que desejamos, mas inicializadas aleatoriamente"
      ]
    },
    {
      "cell_type": "code",
      "execution_count": null,
      "metadata": {
        "colab": {
          "base_uri": "https://localhost:8080/"
        },
        "executionInfo": {
          "elapsed": 5703,
          "status": "ok",
          "timestamp": 1617605671464,
          "user": {
            "displayName": "DeepMaxFN FN",
            "photoUrl": "",
            "userId": "18365930870935188133"
          },
          "user_tz": -120
        },
        "id": "dPXil0BSz4iT",
        "outputId": "47428a6e-c365-4622-a85f-47eb08ad1a6a"
      },
      "outputs": [
        {
          "name": "stdout",
          "output_type": "stream",
          "text": [
            "[[4.66169180e-310 2.35541533e-312 2.41907520e-312]\n",
            " [2.14321575e-312 2.46151512e-312 2.31297541e-312]\n",
            " [2.35541533e-312 2.05833592e-312 2.22809558e-312]\n",
            " [2.56761491e-312 2.48273508e-312 2.05833592e-312]\n",
            " [2.05833592e-312 2.29175545e-312 2.07955588e-312]\n",
            " [2.14321575e-312 0.00000000e+000 0.00000000e+000]]\n"
          ]
        }
      ],
      "source": [
        "arr = np.empty((6, 3))\n",
        "\n",
        "print(arr)"
      ]
    },
    {
      "cell_type": "markdown",
      "metadata": {
        "id": "ywLN4zW7z9tN"
      },
      "source": [
        "O m\u00e9todo `empty_like(A)` retorna uma matriz com o mesmo formato da matriz A, mas inicializada de forma aleat\u00f3ria."
      ]
    },
    {
      "cell_type": "code",
      "execution_count": null,
      "metadata": {
        "colab": {
          "base_uri": "https://localhost:8080/"
        },
        "executionInfo": {
          "elapsed": 4148,
          "status": "ok",
          "timestamp": 1617606151179,
          "user": {
            "displayName": "DeepMaxFN FN",
            "photoUrl": "",
            "userId": "18365930870935188133"
          },
          "user_tz": -120
        },
        "id": "TguMIQGY0CuR",
        "outputId": "948dd35f-7ed8-4a3c-a179-5a2edafc7974"
      },
      "outputs": [
        {
          "name": "stdout",
          "output_type": "stream",
          "text": [
            "[4607182418800017408 4611686018427387904 4613937818241073152\n",
            " 4616189618054758400 4617315517961601024]\n"
          ]
        }
      ],
      "source": [
        "A = np.array((1, 2, 3, 4, 5))\n",
        "arr = np.empty_like(A)\n",
        "\n",
        "print(arr)"
      ]
    },
    {
      "cell_type": "markdown",
      "metadata": {
        "id": "ZesvbJA1yBYn"
      },
      "source": [
        "Com o m\u00e9todo `arange(start, stop, step)` \u00e9 poss\u00edvel criar matrizes em um intervalo determinado. Este m\u00e9todo \u00e9 semelhante ao m\u00e9todo `range()` do Python."
      ]
    },
    {
      "cell_type": "code",
      "execution_count": null,
      "metadata": {
        "colab": {
          "base_uri": "https://localhost:8080/"
        },
        "executionInfo": {
          "elapsed": 1112,
          "status": "ok",
          "timestamp": 1617605302236,
          "user": {
            "displayName": "DeepMaxFN FN",
            "photoUrl": "",
            "userId": "18365930870935188133"
          },
          "user_tz": -120
        },
        "id": "k8rBPmYwycJK",
        "outputId": "2d722034-2b10-49ef-9c3f-e2d8343c73dd"
      },
      "outputs": [
        {
          "name": "stdout",
          "output_type": "stream",
          "text": [
            "[10 15 20 25]\n"
          ]
        }
      ],
      "source": [
        "arr = np.arange(10, 30, 5)\n",
        "\n",
        "print(arr)"
      ]
    },
    {
      "cell_type": "markdown",
      "metadata": {
        "id": "oRT8G0AbyqZ1"
      },
      "source": [
        "Quando `arange` \u00e9 usado com argumentos de ponto flutuante, geralmente n\u00e3o \u00e9 poss\u00edvel prever o n\u00famero de elementos obtidos, devido \u00e0 precis\u00e3o finita do ponto flutuante.",
        "\n",
        "Por este motivo, geralmente \u00e9 melhor usar a fun\u00e7\u00e3o `linspace(start, stop, n)` que recebe como argumento a quantidade de elementos que queremos, em vez do passo."
      ]
    },
    {
      "cell_type": "code",
      "execution_count": null,
      "metadata": {
        "colab": {
          "base_uri": "https://localhost:8080/"
        },
        "executionInfo": {
          "elapsed": 882,
          "status": "ok",
          "timestamp": 1617605428603,
          "user": {
            "displayName": "DeepMaxFN FN",
            "photoUrl": "",
            "userId": "18365930870935188133"
          },
          "user_tz": -120
        },
        "id": "FHeULaTNy7HB",
        "outputId": "26d88bc2-8efa-42e0-b1bb-19ca2a5e9129"
      },
      "outputs": [
        {
          "name": "stdout",
          "output_type": "stream",
          "text": [
            "[0.   0.25 0.5  0.75 1.   1.25 1.5  1.75 2.  ]\n"
          ]
        }
      ],
      "source": [
        "arr = np.linspace(0, 2, 9)\n",
        " \n",
        "print(arr)"
      ]
    },
    {
      "attachments": {},
      "cell_type": "markdown",
      "metadata": {},
      "source": [
        "Por \u00faltimo, se queremos criar matrizes com n\u00fameros aleat\u00f3rios podemos usar a fun\u00e7\u00e3o `random.rand` com uma tupla com as dimens\u00f5es como par\u00e2metro"
      ]
    },
    {
      "cell_type": "code",
      "execution_count": 8,
      "metadata": {},
      "outputs": [
        {
          "name": "stdout",
          "output_type": "stream",
          "text": [
            "[[0.32726085 0.65571767 0.73126697]\n",
            " [0.91938206 0.9862451  0.95033649]]\n"
          ]
        }
      ],
      "source": [
        "arr = np.random.rand(2, 3)\n",
        "\n",
        "print(arr)"
      ]
    },
    {
      "cell_type": "markdown",
      "metadata": {
        "id": "0ssLzP1kEnCF"
      },
      "source": [
        "### 4.2. Dimens\u00f5es das matrizes"
      ]
    },
    {
      "cell_type": "markdown",
      "metadata": {
        "id": "VTw-pQR_Er74"
      },
      "source": [
        "Em NumPy podemos criar matrizes de qualquer dimens\u00e3o. Para obter a dimens\u00e3o de um array utilizamos o m\u00e9todo `ndim`"
      ]
    },
    {
      "cell_type": "markdown",
      "metadata": {
        "id": "FG5eBy3yExad"
      },
      "source": [
        "Matriz de dimens\u00e3o 0, o que equivaleria a um n\u00famero"
      ]
    },
    {
      "cell_type": "code",
      "execution_count": null,
      "metadata": {
        "colab": {
          "base_uri": "https://localhost:8080/"
        },
        "executionInfo": {
          "elapsed": 636,
          "status": "ok",
          "timestamp": 1616486122678,
          "user": {
            "displayName": "DeepMaxFN FN",
            "photoUrl": "",
            "userId": "18365930870935188133"
          },
          "user_tz": -60
        },
        "id": "x-IKjbJiFAT0",
        "outputId": "0fa01b34-11b7-42a7-f06b-3e41e8816009"
      },
      "outputs": [
        {
          "name": "stdout",
          "output_type": "stream",
          "text": [
            "42\n",
            "0\n"
          ]
        }
      ],
      "source": [
        "arr = np.array(42)\n",
        "\n",
        "print(arr)\n",
        "print(arr.ndim)"
      ]
    },
    {
      "cell_type": "markdown",
      "metadata": {
        "id": "b5mTGO1gFQH2"
      },
      "source": [
        "Matriz de dimens\u00e3o 1, o que equivaleria a um vetor"
      ]
    },
    {
      "cell_type": "code",
      "execution_count": null,
      "metadata": {
        "colab": {
          "base_uri": "https://localhost:8080/"
        },
        "executionInfo": {
          "elapsed": 508,
          "status": "ok",
          "timestamp": 1616486157272,
          "user": {
            "displayName": "DeepMaxFN FN",
            "photoUrl": "",
            "userId": "18365930870935188133"
          },
          "user_tz": -60
        },
        "id": "GQcWE1qfFQH3",
        "outputId": "a3918029-6703-4f92-ca40-80e2bde4c896"
      },
      "outputs": [
        {
          "name": "stdout",
          "output_type": "stream",
          "text": [
            "[1 2 3 4 5]\n",
            "1\n"
          ]
        }
      ],
      "source": [
        "arr = np.array([1, 2, 3, 4, 5])\n",
        "\n",
        "print(arr)\n",
        "print(arr.ndim)"
      ]
    },
    {
      "cell_type": "markdown",
      "metadata": {
        "id": "cdAhvRQ3FVu8"
      },
      "source": [
        "Matriz de dimens\u00e3o 2, o que equivaleria a uma matriz"
      ]
    },
    {
      "cell_type": "code",
      "execution_count": null,
      "metadata": {
        "colab": {
          "base_uri": "https://localhost:8080/"
        },
        "executionInfo": {
          "elapsed": 607,
          "status": "ok",
          "timestamp": 1616486198138,
          "user": {
            "displayName": "DeepMaxFN FN",
            "photoUrl": "",
            "userId": "18365930870935188133"
          },
          "user_tz": -60
        },
        "id": "f8cHNh10FVu9",
        "outputId": "f187e89a-4d13-4139-ab0a-fbfab417b901"
      },
      "outputs": [
        {
          "name": "stdout",
          "output_type": "stream",
          "text": [
            "[[ 1  2  3  4  5]\n",
            " [ 6  7  8  9 10]]\n",
            "2\n"
          ]
        }
      ],
      "source": [
        "arr = np.array([[1, 2, 3, 4, 5], \n",
        "                [6, 7, 8, 9, 10]])\n",
        "\n",
        "print(arr)\n",
        "print(arr.ndim)"
      ]
    },
    {
      "cell_type": "markdown",
      "metadata": {
        "id": "sSqtG5uMFuro"
      },
      "source": [
        "Matriz de dimens\u00e3o 3"
      ]
    },
    {
      "cell_type": "code",
      "execution_count": null,
      "metadata": {
        "colab": {
          "base_uri": "https://localhost:8080/"
        },
        "executionInfo": {
          "elapsed": 514,
          "status": "ok",
          "timestamp": 1616486402702,
          "user": {
            "displayName": "DeepMaxFN FN",
            "photoUrl": "",
            "userId": "18365930870935188133"
          },
          "user_tz": -60
        },
        "id": "91ZzzmGvFurp",
        "outputId": "6cd98836-2fa0-469a-c9a9-d8a324dab6e2"
      },
      "outputs": [
        {
          "name": "stdout",
          "output_type": "stream",
          "text": [
            "[[[ 1  2  3  4  5]\n",
            "  [ 6  7  8  9 10]]\n",
            "\n",
            " [[11 12 13 14 15]\n",
            "  [16 17 18 19 20]]]\n",
            "3\n"
          ]
        }
      ],
      "source": [
        "arr = np.array([\n",
        "                [[1, 2, 3, 4, 5], \n",
        "                [6, 7, 8, 9, 10]],\n",
        "                \n",
        "                [[11, 12, 13, 14, 15], \n",
        "                [16, 17, 18, 19, 20]]\n",
        "                ])\n",
        "\n",
        "print(arr)\n",
        "print(arr.ndim)"
      ]
    },
    {
      "cell_type": "markdown",
      "metadata": {
        "id": "XvUK3SjEGY1S"
      },
      "source": [
        "Matriz de dimens\u00e3o N. Na hora de criar `ndarray`s, \u00e9 poss\u00edvel estabelecer o n\u00famero de dimens\u00f5es atrav\u00e9s do par\u00e2metro `ndim`"
      ]
    },
    {
      "cell_type": "code",
      "execution_count": null,
      "metadata": {
        "colab": {
          "base_uri": "https://localhost:8080/"
        },
        "executionInfo": {
          "elapsed": 592,
          "status": "ok",
          "timestamp": 1616486566016,
          "user": {
            "displayName": "DeepMaxFN FN",
            "photoUrl": "",
            "userId": "18365930870935188133"
          },
          "user_tz": -60
        },
        "id": "PHFUsROEGY1T",
        "outputId": "4e79c493-6125-44ad-e1c5-cd0b5009d24d"
      },
      "outputs": [
        {
          "name": "stdout",
          "output_type": "stream",
          "text": [
            "[[[[[[1 2 3 4 5]]]]]]\n",
            "6\n"
          ]
        }
      ],
      "source": [
        "arr = np.array([1, 2, 3, 4, 5], ndmin=6)\n",
        "\n",
        "print(arr)\n",
        "print(arr.ndim)"
      ]
    },
    {
      "attachments": {},
      "cell_type": "markdown",
      "metadata": {},
      "source": [
        "### 4.3. Tamanho das matrizes"
      ]
    },
    {
      "attachments": {},
      "cell_type": "markdown",
      "metadata": {},
      "source": [
        "Se, em vez da dimens\u00e3o da matriz, quisermos ver seu tamanho, podemos usar o m\u00e9todo `shape`"
      ]
    },
    {
      "cell_type": "code",
      "execution_count": 2,
      "metadata": {},
      "outputs": [
        {
          "name": "stdout",
          "output_type": "stream",
          "text": [
            "(2, 2, 5)\n"
          ]
        }
      ],
      "source": [
        "arr = np.array([\n",
        "                [[1, 2, 3, 4, 5], \n",
        "                [6, 7, 8, 9, 10]],\n",
        "                \n",
        "                [[11, 12, 13, 14, 15], \n",
        "                [16, 17, 18, 19, 20]]\n",
        "                ])\n",
        "\n",
        "print(arr.shape)"
      ]
    },
    {
      "cell_type": "markdown",
      "metadata": {
        "id": "OhA23hA_ZLwO"
      },
      "source": [
        "## 5. Tipo de dados"
      ]
    },
    {
      "cell_type": "markdown",
      "metadata": {
        "id": "jI10xOLEZPSd"
      },
      "source": [
        "Os dados que podem armazenar os arrays do NumPy s\u00e3o os seguintes:",
        "\n",
        "\n",
        "*   `i` - Inteiro",
        "*   `b` - Booleano",
        "*   `u` - Inteiro sem sinal",
        "*   `f` - Flutuante",
        "*   `c` - Flutuante complexo",
        "*   `m` - Timedelta",
        "*   `M` - DateTime",
        "*   `O` - Objeto",
        "*   `S` - String",
        "*   `U` - String Unicode",
        "*   `V` - Fragmento de mem\u00f3ria fixo para outro tipo (void)"
      ]
    },
    {
      "cell_type": "markdown",
      "metadata": {
        "id": "C3NmQFKSaWw2"
      },
      "source": [
        "Podemos verificar o tipo de dados que uma matriz possui atrav\u00e9s de `dtype`"
      ]
    },
    {
      "cell_type": "code",
      "execution_count": null,
      "metadata": {
        "colab": {
          "base_uri": "https://localhost:8080/"
        },
        "executionInfo": {
          "elapsed": 457,
          "status": "ok",
          "timestamp": 1616743394690,
          "user": {
            "displayName": "DeepMaxFN FN",
            "photoUrl": "",
            "userId": "18365930870935188133"
          },
          "user_tz": -60
        },
        "id": "wYc_QpLwagXO",
        "outputId": "09376a82-01f5-4947-b2ad-b9aa6b7bfa1f"
      },
      "outputs": [
        {
          "name": "stdout",
          "output_type": "stream",
          "text": [
            "int64\n",
            "<U6\n"
          ]
        }
      ],
      "source": [
        "arr = np.array([1, 2, 3, 4])\n",
        "print(arr.dtype)\n",
        "\n",
        "arr = np.array(['apple', 'banana', 'cherry'])\n",
        "print(arr.dtype)"
      ]
    },
    {
      "cell_type": "markdown",
      "metadata": {
        "id": "2I0-eFcIaK45"
      },
      "source": [
        "Tamb\u00e9m podemos criar matrizes indicando o tipo de dado que queremos que tenha mediante `dtype`"
      ]
    },
    {
      "cell_type": "code",
      "execution_count": null,
      "metadata": {
        "colab": {
          "base_uri": "https://localhost:8080/"
        },
        "executionInfo": {
          "elapsed": 427,
          "status": "ok",
          "timestamp": 1616743683284,
          "user": {
            "displayName": "DeepMaxFN FN",
            "photoUrl": "",
            "userId": "18365930870935188133"
          },
          "user_tz": -60
        },
        "id": "H9Xw_E6qaQzo",
        "outputId": "436b72b7-be05-4839-b31f-34a433c62fcf"
      },
      "outputs": [
        {
          "name": "stdout",
          "output_type": "stream",
          "text": [
            "Enteros:\n",
            "[1 2 3 4]\n",
            "int32\n",
            "\n",
            "Float:\n",
            "[1. 2. 3. 4.]\n",
            "float32\n",
            "\n",
            "Complejos:\n",
            "[1. 2. 3. 4.]\n",
            "float32\n",
            "\n",
            "String:\n",
            "[b'1' b'2' b'3' b'4']\n",
            "|S1\n",
            "\n",
            "Unicode string:\n",
            "['1' '2' '3' '4']\n",
            "<U1\n",
            "\n",
            "Objeto:\n",
            "[1 2 3 4]\n",
            "object\n"
          ]
        }
      ],
      "source": [
        "arr = np.array([1, 2, 3, 4], dtype='i')\n",
        "print(\"Enteros:\")\n",
        "print(arr)\n",
        "print(arr.dtype)\n",
        " \n",
        "arr = np.array([1, 2, 3, 4], dtype='f')\n",
        "print(\"\\nFloat:\")\n",
        "print(arr)\n",
        "print(arr.dtype)\n",
        " \n",
        "arr = np.array([1, 2, 3, 4], dtype='f')\n",
        "print(\"\\nComplejos:\")\n",
        "print(arr)\n",
        "print(arr.dtype)\n",
        " \n",
        "arr = np.array([1, 2, 3, 4], dtype='S')\n",
        "print(\"\\nString:\")\n",
        "print(arr)\n",
        "print(arr.dtype)\n",
        " \n",
        "arr = np.array([1, 2, 3, 4], dtype='U')\n",
        "print(\"\\nUnicode string:\")\n",
        "print(arr)\n",
        "print(arr.dtype)\n",
        " \n",
        "arr = np.array([1, 2, 3, 4], dtype='O')\n",
        "print(\"\\nObjeto:\")\n",
        "print(arr)\n",
        "print(arr.dtype)"
      ]
    },
    {
      "cell_type": "markdown",
      "metadata": {
        "id": "gSSYVuEvR2o7"
      },
      "source": [
        "## 6. Opera\u00e7\u00f5es matem\u00e1ticas"
      ]
    },
    {
      "cell_type": "markdown",
      "metadata": {
        "id": "tTL0pmnMSvNq"
      },
      "source": [
        "### 6.1. Opera\u00e7\u00f5es b\u00e1sicas"
      ]
    },
    {
      "cell_type": "markdown",
      "metadata": {
        "id": "xroDCyi1Szub"
      },
      "source": [
        "As opera\u00e7\u00f5es matriciais s\u00e3o realizadas por elementos, por exemplo, se somarmos duas matrizes, ser\u00e3o somados os elementos de cada matriz na mesma posi\u00e7\u00e3o, assim como na soma matem\u00e1tica de duas matrizes."
      ]
    },
    {
      "cell_type": "code",
      "execution_count": null,
      "metadata": {
        "colab": {
          "base_uri": "https://localhost:8080/"
        },
        "executionInfo": {
          "elapsed": 447,
          "status": "ok",
          "timestamp": 1617698438360,
          "user": {
            "displayName": "DeepMaxFN FN",
            "photoUrl": "",
            "userId": "18365930870935188133"
          },
          "user_tz": -120
        },
        "id": "kApdyP3iS_-H",
        "outputId": "c184dc00-d2e4-4be5-bb3d-d51b612291a3"
      },
      "outputs": [
        {
          "name": "stdout",
          "output_type": "stream",
          "text": [
            "Matriz A: tama\u00f1o (3,)\n",
            "[1 2 3]\n",
            "\n",
            "Matriz B: tama\u00f1o (3,)\n",
            "[1 2 3]\n",
            "\n",
            "Matriz C: tama\u00f1o (3,)\n",
            "[2 4 6]\n",
            "\n",
            "Matriz D: tama\u00f1o (3,)\n",
            "[0 0 0]\n"
          ]
        }
      ],
      "source": [
        "A = np.array([1, 2, 3])\n",
        "B = np.array([1, 2, 3])\n",
        "\n",
        "print(f\"Matriz A: tama\u00f1o {A.shape}\\n{A}\\n\")\n",
        "print(f\"Matriz B: tama\u00f1o {B.shape}\\n{B}\\n\")\n",
        "\n",
        "C = A + B\n",
        "print(f\"Matriz C: tama\u00f1o {C.shape}\\n{C}\\n\")\n",
        "\n",
        "D = A - B\n",
        "print(f\"Matriz D: tama\u00f1o {D.shape}\\n{D}\")"
      ]
    },
    {
      "cell_type": "markdown",
      "metadata": {
        "id": "a0XaV7rvTo3U"
      },
      "source": [
        "No entanto, se fazemos a multiplica\u00e7\u00e3o de duas matrizes, tamb\u00e9m \u00e9 feita a multiplica\u00e7\u00e3o de cada elemento das matrizes (produto escalar)"
      ]
    },
    {
      "cell_type": "code",
      "execution_count": null,
      "metadata": {
        "colab": {
          "base_uri": "https://localhost:8080/"
        },
        "executionInfo": {
          "elapsed": 553,
          "status": "ok",
          "timestamp": 1617698457233,
          "user": {
            "displayName": "DeepMaxFN FN",
            "photoUrl": "",
            "userId": "18365930870935188133"
          },
          "user_tz": -120
        },
        "id": "2SB-0UXkT1l6",
        "outputId": "345ccaa9-c781-4555-e0aa-ced85d16b0b6"
      },
      "outputs": [
        {
          "name": "stdout",
          "output_type": "stream",
          "text": [
            "Matriz A: tama\u00f1o (2, 2)\n",
            "[[3 5]\n",
            " [4 1]]\n",
            "\n",
            "Matriz B: tama\u00f1o (2, 2)\n",
            "[[ 1  2]\n",
            " [-3  0]]\n",
            "\n",
            "Matriz C: tama\u00f1o (2, 2)\n",
            "[[  3  10]\n",
            " [-12   0]]\n",
            "\n"
          ]
        }
      ],
      "source": [
        "A = np.array([[3, 5], [4, 1]])\n",
        "B = np.array([[1, 2], [-3, 0]])\n",
        " \n",
        "print(f\"Matriz A: tama\u00f1o {A.shape}\\n{A}\\n\")\n",
        "print(f\"Matriz B: tama\u00f1o {B.shape}\\n{B}\\n\")\n",
        " \n",
        "C = A * B\n",
        "print(f\"Matriz C: tama\u00f1o {C.shape}\\n{C}\\n\")"
      ]
    },
    {
      "cell_type": "markdown",
      "metadata": {
        "id": "nxkqaxoVT4ZJ"
      },
      "source": [
        "Para fazer o produto matricial que foi ensinado em matem\u00e1tica toda a vida, \u00e9 necess\u00e1rio usar o operador `@` ou o m\u00e9todo `dot`"
      ]
    },
    {
      "cell_type": "code",
      "execution_count": null,
      "metadata": {
        "colab": {
          "base_uri": "https://localhost:8080/"
        },
        "executionInfo": {
          "elapsed": 508,
          "status": "ok",
          "timestamp": 1617698393392,
          "user": {
            "displayName": "DeepMaxFN FN",
            "photoUrl": "",
            "userId": "18365930870935188133"
          },
          "user_tz": -120
        },
        "id": "ALd3BfblUFtB",
        "outputId": "359002bb-35b4-4add-915d-ce3ea68bd90c"
      },
      "outputs": [
        {
          "name": "stdout",
          "output_type": "stream",
          "text": [
            "Matriz A: tama\u00f1o (3, 2)\n",
            "[[ 3  5]\n",
            " [ 4  1]\n",
            " [ 6 -1]]\n",
            "\n",
            "Matriz B: tama\u00f1o (2, 3)\n",
            "[[ 1  2  3]\n",
            " [-3  0  4]]\n",
            "\n",
            "Matriz C: tama\u00f1o (3, 3)\n",
            "[[-12   6  29]\n",
            " [  1   8  16]\n",
            " [  9  12  14]]\n",
            "\n",
            "Matriz D: tama\u00f1o (3, 3)\n",
            "[[-12   6  29]\n",
            " [  1   8  16]\n",
            " [  9  12  14]]\n"
          ]
        }
      ],
      "source": [
        "A = np.array([[3, 5], [4, 1], [6, -1]])\n",
        "B = np.array([[1, 2, 3], [-3, 0, 4]])\n",
        "\n",
        "print(f\"Matriz A: tama\u00f1o {A.shape}\\n{A}\\n\")\n",
        "print(f\"Matriz B: tama\u00f1o {B.shape}\\n{B}\\n\")\n",
        "\n",
        "C = A @ B\n",
        "print(f\"Matriz C: tama\u00f1o {C.shape}\\n{C}\\n\")\n",
        "\n",
        "D = A.dot(B)\n",
        "print(f\"Matriz D: tama\u00f1o {D.shape}\\n{D}\")"
      ]
    },
    {
      "cell_type": "markdown",
      "metadata": {
        "id": "wXubAlBnWAcG"
      },
      "source": [
        "Se em vez de criar uma matriz nova, se quiser modificar alguma existente, pode-se usar os operadores `+=`, `-=` ou `*=`."
      ]
    },
    {
      "cell_type": "code",
      "execution_count": null,
      "metadata": {
        "colab": {
          "base_uri": "https://localhost:8080/"
        },
        "executionInfo": {
          "elapsed": 3249,
          "status": "ok",
          "timestamp": 1617698620879,
          "user": {
            "displayName": "DeepMaxFN FN",
            "photoUrl": "",
            "userId": "18365930870935188133"
          },
          "user_tz": -120
        },
        "id": "cQWYbT08WMwo",
        "outputId": "42729a3a-2d84-4448-ae8a-e261993150b4"
      },
      "outputs": [
        {
          "name": "stdout",
          "output_type": "stream",
          "text": [
            "Matriz A: tama\u00f1o (2, 2)\n",
            "[[3 5]\n",
            " [4 1]]\n",
            "\n",
            "Matriz B: tama\u00f1o (2, 2)\n",
            "[[ 1  2]\n",
            " [-3  0]]\n",
            "\n",
            "Matriz A tras suma: tama\u00f1o (2, 2)\n",
            "[[4 7]\n",
            " [1 1]]\n",
            "\n",
            "Matriz A tras resta: tama\u00f1o (2, 2)\n",
            "[[3 5]\n",
            " [4 1]]\n",
            "\n",
            "Matriz A tras multiplicaci\u00f3n: tama\u00f1o (2, 2)\n",
            "[[  3  10]\n",
            " [-12   0]]\n",
            "\n"
          ]
        }
      ],
      "source": [
        "A = np.array([[3, 5], [4, 1]])\n",
        "B = np.array([[1, 2], [-3, 0]])\n",
        "\n",
        "print(f\"Matriz A: tama\u00f1o {A.shape}\\n{A}\\n\")\n",
        "print(f\"Matriz B: tama\u00f1o {B.shape}\\n{B}\\n\")\n",
        "\n",
        "A += B\n",
        "print(f\"Matriz A tras suma: tama\u00f1o {A.shape}\\n{A}\\n\")\n",
        "\n",
        "A -= B\n",
        "print(f\"Matriz A tras resta: tama\u00f1o {A.shape}\\n{A}\\n\")\n",
        "\n",
        "A *= B\n",
        "print(f\"Matriz A tras multiplicaci\u00f3n: tama\u00f1o {A.shape}\\n{A}\\n\")"
      ]
    },
    {
      "cell_type": "markdown",
      "metadata": {
        "id": "VPWyiupwWllX"
      },
      "source": [
        "Podem ser realizadas opera\u00e7\u00f5es sobre todos os elementos de uma matriz, isto \u00e9 gra\u00e7as a uma propriedade chamada `broadcasting` que veremos depois mais a fundo"
      ]
    },
    {
      "cell_type": "code",
      "execution_count": null,
      "metadata": {
        "colab": {
          "base_uri": "https://localhost:8080/"
        },
        "executionInfo": {
          "elapsed": 585,
          "status": "ok",
          "timestamp": 1617698798325,
          "user": {
            "displayName": "DeepMaxFN FN",
            "photoUrl": "",
            "userId": "18365930870935188133"
          },
          "user_tz": -120
        },
        "id": "l-Ji4nLKWuxy",
        "outputId": "11b2b115-de0a-4205-9075-b907fd0fa864"
      },
      "outputs": [
        {
          "name": "stdout",
          "output_type": "stream",
          "text": [
            "Matriz A: tama\u00f1o (2, 2)\n",
            "[[3 5]\n",
            " [4 1]]\n",
            "\n",
            "Matriz B: tama\u00f1o (2, 2)\n",
            "[[ 6 10]\n",
            " [ 8  2]]\n",
            "\n",
            "Matriz C: tama\u00f1o (2, 2)\n",
            "[[ 9 25]\n",
            " [16  1]]\n",
            "\n",
            "Matriz D: tama\u00f1o (2, 2)\n",
            "[[ 0.28224002 -1.91784855]\n",
            " [-1.51360499  1.68294197]]\n"
          ]
        }
      ],
      "source": [
        "A = np.array([[3, 5], [4, 1]])\n",
        " \n",
        "print(f\"Matriz A: tama\u00f1o {A.shape}\\n{A}\\n\")\n",
        " \n",
        "B = A * 2\n",
        "print(f\"Matriz B: tama\u00f1o {B.shape}\\n{B}\\n\")\n",
        " \n",
        "C = A ** 2\n",
        "print(f\"Matriz C: tama\u00f1o {C.shape}\\n{C}\\n\")\n",
        " \n",
        "D = 2*np.sin(A)\n",
        "print(f\"Matriz D: tama\u00f1o {D.shape}\\n{D}\")"
      ]
    },
    {
      "cell_type": "markdown",
      "metadata": {
        "id": "thoWSEmJZR8a"
      },
      "source": [
        "### 6.2. Fun\u00e7\u00f5es sobre matrizes"
      ]
    },
    {
      "cell_type": "markdown",
      "metadata": {
        "id": "yOCZSv-ZXNdy"
      },
      "source": [
        "Como se pode ver no \u00faltimo c\u00e1lculo, o NumPy oferece operadores de fun\u00e7\u00f5es sobre matrizes, h\u00e1 um monte de [fun\u00e7\u00f5es](https://numpy.org/doc/stable/reference/routines.html) que se podem realizar sobre matrizes, matem\u00e1ticas, l\u00f3gicas, de \u00e1lgebra linear, etc. A seguir mostramos algumas."
      ]
    },
    {
      "cell_type": "code",
      "execution_count": null,
      "metadata": {
        "colab": {
          "base_uri": "https://localhost:8080/"
        },
        "executionInfo": {
          "elapsed": 500,
          "status": "ok",
          "timestamp": 1617699227388,
          "user": {
            "displayName": "DeepMaxFN FN",
            "photoUrl": "",
            "userId": "18365930870935188133"
          },
          "user_tz": -120
        },
        "id": "LS6zuh__YC_T",
        "outputId": "031973a2-054b-47c5-adf6-e7aa85788743"
      },
      "outputs": [
        {
          "name": "stdout",
          "output_type": "stream",
          "text": [
            "A\n",
            "[[3 5]\n",
            " [4 1]]\n",
            "\n",
            "exp(A)\n",
            "[[ 20.08553692 148.4131591 ]\n",
            " [ 54.59815003   2.71828183]]\n",
            "\n",
            "sqrt(A)\n",
            "[[1.73205081 2.23606798]\n",
            " [2.         1.        ]]\n",
            "\n",
            "cos(A)\n",
            "[[-0.9899925   0.28366219]\n",
            " [-0.65364362  0.54030231]]\n",
            "\n"
          ]
        }
      ],
      "source": [
        "A = np.array([[3, 5], [4, 1]])\n",
        "\n",
        "print(f\"A\\n{A}\\n\")\n",
        "\n",
        "print(f\"exp(A)\\n{np.exp(A)}\\n\")\n",
        "print(f\"sqrt(A)\\n{np.sqrt(A)}\\n\")\n",
        "print(f\"cos(A)\\n{np.cos(A)}\\n\")"
      ]
    },
    {
      "cell_type": "markdown",
      "metadata": {
        "id": "aSV5358rZYPC"
      },
      "source": [
        "H\u00e1 algumas fun\u00e7\u00f5es que retornam informa\u00e7\u00f5es das matrizes, como a m\u00e9dia"
      ]
    },
    {
      "cell_type": "code",
      "execution_count": null,
      "metadata": {
        "colab": {
          "base_uri": "https://localhost:8080/"
        },
        "executionInfo": {
          "elapsed": 546,
          "status": "ok",
          "timestamp": 1617699432121,
          "user": {
            "displayName": "DeepMaxFN FN",
            "photoUrl": "",
            "userId": "18365930870935188133"
          },
          "user_tz": -120
        },
        "id": "Tf-4K4KjZhLC",
        "outputId": "75f8f45b-10cf-4aa0-de18-c947e171952e"
      },
      "outputs": [
        {
          "name": "stdout",
          "output_type": "stream",
          "text": [
            "A\n",
            "[[3 5]\n",
            " [4 1]]\n",
            "\n",
            "A.mean()\n",
            "3.25\n",
            "\n"
          ]
        }
      ],
      "source": [
        "A = np.array([[3, 5], [4, 1]])\n",
        "\n",
        "print(f\"A\\n{A}\\n\")\n",
        "\n",
        "print(f\"A.mean()\\n{A.mean()}\\n\")"
      ]
    },
    {
      "cell_type": "markdown",
      "metadata": {
        "id": "Tnd9GheBZpAL"
      },
      "source": [
        "No entanto, podemos obter essa informa\u00e7\u00e3o de cada eixo atrav\u00e9s do atributo `axis`; se este for 0, \u00e9 feito sobre cada coluna, enquanto que se for 1, \u00e9 feito sobre cada linha"
      ]
    },
    {
      "cell_type": "code",
      "execution_count": null,
      "metadata": {
        "colab": {
          "base_uri": "https://localhost:8080/"
        },
        "executionInfo": {
          "elapsed": 524,
          "status": "ok",
          "timestamp": 1617699525477,
          "user": {
            "displayName": "DeepMaxFN FN",
            "photoUrl": "",
            "userId": "18365930870935188133"
          },
          "user_tz": -120
        },
        "id": "9Kd2YTKAZ2TU",
        "outputId": "fa201b09-7071-420d-cac9-c3278088f667"
      },
      "outputs": [
        {
          "name": "stdout",
          "output_type": "stream",
          "text": [
            "A\n",
            "[[3 5]\n",
            " [4 1]]\n",
            "\n",
            "A.mean() columnas\n",
            "[3.5 3. ]\n",
            "\n",
            "A.mean() filas\n",
            "[4.  2.5]\n",
            "\n"
          ]
        }
      ],
      "source": [
        "A = np.array([[3, 5], [4, 1]])\n",
        " \n",
        "print(f\"A\\n{A}\\n\")\n",
        " \n",
        "print(f\"A.mean() columnas\\n{A.mean(axis=0)}\\n\")\n",
        "print(f\"A.mean() filas\\n{A.mean(axis=1)}\\n\")"
      ]
    },
    {
      "cell_type": "markdown",
      "metadata": {
        "id": "k8OiJ4qvaJ-p"
      },
      "source": [
        "### 6.3. Broadcasting"
      ]
    },
    {
      "cell_type": "markdown",
      "metadata": {
        "id": "OcJL8xXpaMfi"
      },
      "source": [
        "Podem ser realizadas opera\u00e7\u00f5es matriciais com matrizes de diferentes dimens\u00f5es. Neste caso, o NumPy detectar\u00e1 isso e far\u00e1 uma proje\u00e7\u00e3o da menor matriz at\u00e9 igual\u00e1-la \u00e0 maior.",
        "\n",
        "![numpy_broadcasting](https://pub-fb664c455eca46a2ba762a065ac900f7.r2.dev/numpy_broadcasting.webp)",
        "\n",
        "Esta \u00e9 uma grande qualidade do NumPy, que faz com que se possam realizar c\u00e1lculos sobre matrizes sem ter que se preocupar em igualar as dimens\u00f5es destas."
      ]
    },
    {
      "cell_type": "code",
      "execution_count": null,
      "metadata": {
        "colab": {
          "base_uri": "https://localhost:8080/"
        },
        "executionInfo": {
          "elapsed": 1465,
          "status": "ok",
          "timestamp": 1617700341768,
          "user": {
            "displayName": "DeepMaxFN FN",
            "photoUrl": "",
            "userId": "18365930870935188133"
          },
          "user_tz": -120
        },
        "id": "uETjFo8ccg1M",
        "outputId": "82404205-60a8-4b33-d2ed-f4259df4a9c0"
      },
      "outputs": [
        {
          "name": "stdout",
          "output_type": "stream",
          "text": [
            "A\n",
            "[1 2 3]\n",
            "\n",
            "B\n",
            "[6 7 8]\n",
            "\n"
          ]
        }
      ],
      "source": [
        "A = np.array([1, 2, 3])\n",
        "\n",
        "print(f\"A\\n{A}\\n\")\n",
        "\n",
        "B = A + 5\n",
        "\n",
        "print(f\"B\\n{B}\\n\")"
      ]
    },
    {
      "cell_type": "code",
      "execution_count": null,
      "metadata": {
        "colab": {
          "base_uri": "https://localhost:8080/"
        },
        "executionInfo": {
          "elapsed": 532,
          "status": "ok",
          "timestamp": 1617700387723,
          "user": {
            "displayName": "DeepMaxFN FN",
            "photoUrl": "",
            "userId": "18365930870935188133"
          },
          "user_tz": -120
        },
        "id": "tH5Ztv0QdGDa",
        "outputId": "ef36b5c6-e4ee-47aa-8f35-2625726dc736"
      },
      "outputs": [
        {
          "name": "stdout",
          "output_type": "stream",
          "text": [
            "A\n",
            "[1 2 3]\n",
            "\n",
            "B\n",
            "[[1. 1. 1.]\n",
            " [1. 1. 1.]\n",
            " [1. 1. 1.]]\n",
            "\n",
            "C\n",
            "[[2. 3. 4.]\n",
            " [2. 3. 4.]\n",
            " [2. 3. 4.]]\n",
            "\n"
          ]
        }
      ],
      "source": [
        "A = np.array([1, 2, 3])\n",
        "B = np.ones((3,3))\n",
        "\n",
        "print(f\"A\\n{A}\\n\")\n",
        "print(f\"B\\n{B}\\n\")\n",
        "\n",
        "C = A + B\n",
        "\n",
        "print(f\"C\\n{C}\\n\")"
      ]
    },
    {
      "cell_type": "code",
      "execution_count": null,
      "metadata": {
        "colab": {
          "base_uri": "https://localhost:8080/"
        },
        "executionInfo": {
          "elapsed": 592,
          "status": "ok",
          "timestamp": 1617700451147,
          "user": {
            "displayName": "DeepMaxFN FN",
            "photoUrl": "",
            "userId": "18365930870935188133"
          },
          "user_tz": -120
        },
        "id": "gcCpnSHsdYlz",
        "outputId": "21aae391-a2b6-4191-c816-70a29e113db4"
      },
      "outputs": [
        {
          "name": "stdout",
          "output_type": "stream",
          "text": [
            "A\n",
            "[1 2 3]\n",
            "\n",
            "B\n",
            "[[1]\n",
            " [2]\n",
            " [3]]\n",
            "\n",
            "C\n",
            "[[2 3 4]\n",
            " [3 4 5]\n",
            " [4 5 6]]\n",
            "\n"
          ]
        }
      ],
      "source": [
        "A = np.array([1, 2, 3])\n",
        "B = np.array([[1], [2], [3]])\n",
        " \n",
        "print(f\"A\\n{A}\\n\")\n",
        "print(f\"B\\n{B}\\n\")\n",
        " \n",
        "C = A + B\n",
        " \n",
        "print(f\"C\\n{C}\\n\")"
      ]
    },
    {
      "cell_type": "markdown",
      "metadata": {
        "id": "piA5YUlYNCbk"
      },
      "source": [
        "## 7. Indexa\u00e7\u00e3o de matrizes"
      ]
    },
    {
      "cell_type": "markdown",
      "metadata": {
        "id": "_MWHvQzcNFht"
      },
      "source": [
        "O indexamento de matrizes \u00e9 feito da mesma forma que com as listas de Python"
      ]
    },
    {
      "cell_type": "code",
      "execution_count": null,
      "metadata": {
        "colab": {
          "base_uri": "https://localhost:8080/"
        },
        "executionInfo": {
          "elapsed": 550,
          "status": "ok",
          "timestamp": 1616572184191,
          "user": {
            "displayName": "DeepMaxFN FN",
            "photoUrl": "",
            "userId": "18365930870935188133"
          },
          "user_tz": -60
        },
        "id": "6A7g5T7RNNsu",
        "outputId": "c3f7cb2a-37d8-49a3-8e71-88b27af7f050"
      },
      "outputs": [
        {
          "data": {
            "text/plain": [
              "4"
            ]
          },
          "execution_count": 3,
          "metadata": {
            "tags": []
          },
          "output_type": "execute_result"
        }
      ],
      "source": [
        "arr = np.array([1, 2, 3, 4, 5])\n",
        "arr[3]"
      ]
    },
    {
      "cell_type": "markdown",
      "metadata": {
        "id": "aUimq1ecNRfn"
      },
      "source": [
        "No caso de ter mais de uma dimens\u00e3o, \u00e9 preciso indicar o \u00edndice em cada uma delas"
      ]
    },
    {
      "cell_type": "code",
      "execution_count": null,
      "metadata": {
        "colab": {
          "base_uri": "https://localhost:8080/"
        },
        "executionInfo": {
          "elapsed": 546,
          "status": "ok",
          "timestamp": 1616572198171,
          "user": {
            "displayName": "DeepMaxFN FN",
            "photoUrl": "",
            "userId": "18365930870935188133"
          },
          "user_tz": -60
        },
        "id": "uacXTwOaNQx3",
        "outputId": "c248c641-7896-4c47-fa01-e4b94ced7ea4"
      },
      "outputs": [
        {
          "data": {
            "text/plain": [
              "8"
            ]
          },
          "execution_count": 4,
          "metadata": {
            "tags": []
          },
          "output_type": "execute_result"
        }
      ],
      "source": [
        "arr = np.array([[1, 2, 3, 4, 5], \n",
        "                [6, 7, 8, 9, 10]])\n",
        "arr[1, 2]"
      ]
    },
    {
      "cell_type": "markdown",
      "metadata": {
        "id": "sgsysWjBNtCl"
      },
      "source": [
        "Pode-se usar a indexa\u00e7\u00e3o negativa"
      ]
    },
    {
      "cell_type": "code",
      "execution_count": null,
      "metadata": {
        "colab": {
          "base_uri": "https://localhost:8080/"
        },
        "executionInfo": {
          "elapsed": 519,
          "status": "ok",
          "timestamp": 1616572261042,
          "user": {
            "displayName": "DeepMaxFN FN",
            "photoUrl": "",
            "userId": "18365930870935188133"
          },
          "user_tz": -60
        },
        "id": "-SY_2d37NwU2",
        "outputId": "031ee2a9-7bd7-46a5-d338-47420c6740ce"
      },
      "outputs": [
        {
          "data": {
            "text/plain": [
              "9"
            ]
          },
          "execution_count": 5,
          "metadata": {
            "tags": []
          },
          "output_type": "execute_result"
        }
      ],
      "source": [
        "arr[-1, -2]"
      ]
    },
    {
      "cell_type": "markdown",
      "metadata": {
        "id": "dSQA3t6_-Xl8"
      },
      "source": [
        "Em caso de n\u00e3o indicar um dos eixos, considera-se que se quer inteiro"
      ]
    },
    {
      "cell_type": "code",
      "execution_count": null,
      "metadata": {
        "colab": {
          "base_uri": "https://localhost:8080/"
        },
        "executionInfo": {
          "elapsed": 1850,
          "status": "ok",
          "timestamp": 1618212421752,
          "user": {
            "displayName": "DeepMaxFN FN",
            "photoUrl": "",
            "userId": "18365930870935188133"
          },
          "user_tz": -120
        },
        "id": "ZduSdbji-btc",
        "outputId": "228e4542-89d3-446f-87b2-30d3bddad222"
      },
      "outputs": [
        {
          "data": {
            "text/plain": [
              "array([ 6,  7,  8,  9, 10])"
            ]
          },
          "execution_count": 3,
          "metadata": {
            "tags": []
          },
          "output_type": "execute_result"
        }
      ],
      "source": [
        "arr = np.array([[1, 2, 3, 4, 5], \n",
        "                [6, 7, 8, 9, 10]])\n",
        "arr[1]"
      ]
    },
    {
      "cell_type": "markdown",
      "metadata": {
        "id": "IEhkNIAbN4Fs"
      },
      "source": [
        "### 7.1. Peda\u00e7os de matrizes"
      ]
    },
    {
      "cell_type": "markdown",
      "metadata": {
        "id": "Vbg-XwUWOB0X"
      },
      "source": [
        "Na hora de indexar, podemos ficar com partes de matrizes da mesma forma que se fazia com as listas de Python.",
        "\n",
        "Lembrar que se fazia da seguinte maneira:",
        "\n",
        "`in\u00edcio:parada:passo`",
        "\n",
        "Onde o intervalo vai desde o `start` (inclu\u00eddo) at\u00e9 o `stop` (sem incluir) com um passo de `step`",
        "\n",
        "Se `step` n\u00e3o for indicado, o padr\u00e3o \u00e9 1"
      ]
    },
    {
      "cell_type": "markdown",
      "metadata": {
        "id": "vIwn-DdXPzzm"
      },
      "source": [
        "Por exemplo, se quisermos itens da segunda linha e da segunda \u00e0 quarta coluna:",
        "\n",
        "*   Selecionamos a segunda linha com um 1 (j\u00e1 que come\u00e7amos a contar a partir de 0)",
        "*   Selecionamos da segunda \u00e0 quarta linha atrav\u00e9s de 1:4, o 1 para indicar a segunda coluna e o 4 para indicar a quinta (j\u00e1 que o segundo n\u00famero indica a coluna em que se termina sem incluir essa coluna). Os dois n\u00fameros tendo em conta que se come\u00e7a a contar do 0"
      ]
    },
    {
      "cell_type": "code",
      "execution_count": null,
      "metadata": {
        "colab": {
          "base_uri": "https://localhost:8080/"
        },
        "executionInfo": {
          "elapsed": 526,
          "status": "ok",
          "timestamp": 1616573167827,
          "user": {
            "displayName": "DeepMaxFN FN",
            "photoUrl": "",
            "userId": "18365930870935188133"
          },
          "user_tz": -60
        },
        "id": "QCG5rpDkOfGx",
        "outputId": "810807f8-30c8-45d7-da85-8dc624816ab6"
      },
      "outputs": [
        {
          "name": "stdout",
          "output_type": "stream",
          "text": [
            "[[ 1  2  3  4  5]\n",
            " [ 6  7  8  9 10]]\n",
            "[7 8 9]\n"
          ]
        }
      ],
      "source": [
        "print(arr)\n",
        "print(arr[1, 1:4])"
      ]
    },
    {
      "cell_type": "markdown",
      "metadata": {
        "id": "ClTjvtw1Rurp"
      },
      "source": [
        "Podemos levá-lo de uma posição até o final"
      ]
    },
    {
      "cell_type": "code",
      "execution_count": null,
      "metadata": {
        "colab": {
          "base_uri": "https://localhost:8080/"
        },
        "executionInfo": {
          "elapsed": 543,
          "status": "ok",
          "timestamp": 1616573375921,
          "user": {
            "displayName": "DeepMaxFN FN",
            "photoUrl": "",
            "userId": "18365930870935188133"
          },
          "user_tz": -60
        },
        "id": "sAhNey7KR89R",
        "outputId": "af463cba-1064-42de-e46c-e4baa24a51bd"
      },
      "outputs": [
        {
          "data": {
            "text/plain": [
              "array([ 8,  9, 10])"
            ]
          },
          "execution_count": 9,
          "metadata": {
            "tags": []
          },
          "output_type": "execute_result"
        }
      ],
      "source": [
        "arr[1, 2:]"
      ]
    },
    {
      "cell_type": "markdown",
      "metadata": {
        "id": "RoDu-r7rSDdu"
      },
      "source": [
        "Desde o in\u00edcio at\u00e9 uma posi\u00e7\u00e3o"
      ]
    },
    {
      "cell_type": "code",
      "execution_count": null,
      "metadata": {
        "colab": {
          "base_uri": "https://localhost:8080/"
        },
        "executionInfo": {
          "elapsed": 515,
          "status": "ok",
          "timestamp": 1616573413591,
          "user": {
            "displayName": "DeepMaxFN FN",
            "photoUrl": "",
            "userId": "18365930870935188133"
          },
          "user_tz": -60
        },
        "id": "EHt0peC4SHeo",
        "outputId": "0a41d779-768d-4ba6-926c-0031f0d2ef80"
      },
      "outputs": [
        {
          "data": {
            "text/plain": [
              "array([6, 7, 8])"
            ]
          },
          "execution_count": 11,
          "metadata": {
            "tags": []
          },
          "output_type": "execute_result"
        }
      ],
      "source": [
        "arr[1, :3]"
      ]
    },
    {
      "cell_type": "markdown",
      "metadata": {
        "id": "0_1jtIAlSOL2"
      },
      "source": [
        "# Estabelecer o intervalo com n\u00fameros negativos\n\n```python\n# Definir o intervalo usando n\u00fameros negativos\nrange_negativo = range(-10, 0)\n\n# Imprimir os valores dentro do intervalo\nfor num in range_negativo:\n    print(num)\n```\n\nNeste exemplo, o intervalo `range_negativo` come\u00e7a em -10 e vai at\u00e9 -1 (n\u00e3o inclui 0), em incrementos de 1. O loop `for` ent\u00e3o imprime cada um desses valores."
      ]
    },
    {
      "cell_type": "code",
      "execution_count": null,
      "metadata": {
        "colab": {
          "base_uri": "https://localhost:8080/"
        },
        "executionInfo": {
          "elapsed": 578,
          "status": "ok",
          "timestamp": 1616573450018,
          "user": {
            "displayName": "DeepMaxFN FN",
            "photoUrl": "",
            "userId": "18365930870935188133"
          },
          "user_tz": -60
        },
        "id": "MLDgc6BjSSpv",
        "outputId": "c5e287f6-c4ab-4fd8-cfec-5ee371bbdea8"
      },
      "outputs": [
        {
          "data": {
            "text/plain": [
              "array([8, 9])"
            ]
          },
          "execution_count": 12,
          "metadata": {
            "tags": []
          },
          "output_type": "execute_result"
        }
      ],
      "source": [
        "arr[1, -3:-1]"
      ]
    },
    {
      "cell_type": "markdown",
      "metadata": {
        "id": "nyKRBxSrSdPa"
      },
      "source": [
        "Escolher o passo"
      ]
    },
    {
      "cell_type": "code",
      "execution_count": null,
      "metadata": {
        "colab": {
          "base_uri": "https://localhost:8080/"
        },
        "executionInfo": {
          "elapsed": 526,
          "status": "ok",
          "timestamp": 1616573516267,
          "user": {
            "displayName": "DeepMaxFN FN",
            "photoUrl": "",
            "userId": "18365930870935188133"
          },
          "user_tz": -60
        },
        "id": "DwQ1p4fgSh-v",
        "outputId": "81557e5d-9fba-4cba-8871-693ba2827673"
      },
      "outputs": [
        {
          "data": {
            "text/plain": [
              "array([7, 9])"
            ]
          },
          "execution_count": 13,
          "metadata": {
            "tags": []
          },
          "output_type": "execute_result"
        }
      ],
      "source": [
        "arr[1, 1:4:2]"
      ]
    },
    {
      "cell_type": "markdown",
      "metadata": {
        "id": "c5EAClLc-voF"
      },
      "source": [
        "### 7.2. Itera\u00e7\u00e3o sobre matrizes"
      ]
    },
    {
      "cell_type": "markdown",
      "metadata": {
        "id": "P0Cqf3nv-zVL"
      },
      "source": [
        "A itera\u00e7\u00e3o sobre matrizes multidimensionais \u00e9 realizada em rela\u00e7\u00e3o ao primeiro eixo"
      ]
    },
    {
      "cell_type": "code",
      "execution_count": null,
      "metadata": {
        "colab": {
          "base_uri": "https://localhost:8080/"
        },
        "executionInfo": {
          "elapsed": 879,
          "status": "ok",
          "timestamp": 1618212763642,
          "user": {
            "displayName": "DeepMaxFN FN",
            "photoUrl": "",
            "userId": "18365930870935188133"
          },
          "user_tz": -120
        },
        "id": "s_0g_OBg-y44",
        "outputId": "16fc83f6-e0a7-42b6-b3ba-9232fe441d92"
      },
      "outputs": [
        {
          "name": "stdout",
          "output_type": "stream",
          "text": [
            "Matriz de dimensi\u00f3n: (2, 2, 3)\n",
            "\n",
            "Fila 0: [[ 0  1  2]\n",
            " [10 12 13]]\n",
            "Fila 1: [[100 101 102]\n",
            " [110 112 113]]\n"
          ]
        }
      ],
      "source": [
        "M = np.array( [[[  0,  1,  2],\n",
        "                [ 10, 12, 13]],\n",
        "               [[100,101,102],\n",
        "                [110,112,113]]])\n",
        "\n",
        "print(f'Matriz de dimensi\u00f3n: {M.shape}\\n')\n",
        "\n",
        "i = 0\n",
        "for fila in M:\n",
        "  print(f'Fila {i}: {fila}')\n",
        "  i += 1"
      ]
    },
    {
      "cell_type": "markdown",
      "metadata": {
        "id": "MrYdpa49_nGc"
      },
      "source": [
        "No entanto, se o que queremos \u00e9 iterar por cada item, podemos usar o m\u00e9todo 'flat'"
      ]
    },
    {
      "cell_type": "code",
      "execution_count": null,
      "metadata": {
        "colab": {
          "base_uri": "https://localhost:8080/"
        },
        "executionInfo": {
          "elapsed": 1035,
          "status": "ok",
          "timestamp": 1618212833488,
          "user": {
            "displayName": "DeepMaxFN FN",
            "photoUrl": "",
            "userId": "18365930870935188133"
          },
          "user_tz": -120
        },
        "id": "uYThyzHQAB9s",
        "outputId": "88c782c6-fa03-4836-ba5b-0d02ddf796ea"
      },
      "outputs": [
        {
          "name": "stdout",
          "output_type": "stream",
          "text": [
            "Elemento 0: 0\n",
            "Elemento 1: 1\n",
            "Elemento 2: 2\n",
            "Elemento 3: 10\n",
            "Elemento 4: 12\n",
            "Elemento 5: 13\n",
            "Elemento 6: 100\n",
            "Elemento 7: 101\n",
            "Elemento 8: 102\n",
            "Elemento 9: 110\n",
            "Elemento 10: 112\n",
            "Elemento 11: 113\n"
          ]
        }
      ],
      "source": [
        "i = 0\n",
        "for fila in M.flat:\n",
        "  print(f'Elemento {i}: {fila}')\n",
        "  i += 1"
      ]
    },
    {
      "cell_type": "markdown",
      "metadata": {
        "id": "yM2Xs9yTcVMg"
      },
      "source": [
        "## 8. C\u00f3pia de matrizes"
      ]
    },
    {
      "cell_type": "markdown",
      "metadata": {
        "id": "RUU0Mw7ucWiM"
      },
      "source": [
        "Em NumPy temos duas maneiras de copiar matrizes, atrav\u00e9s de `copy`, que realiza uma c\u00f3pia nova da matriz, e atrav\u00e9s de `view` que realiza uma visualiza\u00e7\u00e3o da matriz original",
        " \n",
        "A c\u00f3pia \u00e9 propriet\u00e1ria dos dados e qualquer mudan\u00e7a feita na c\u00f3pia n\u00e3o afetar\u00e1 a matriz original, e qualquer mudan\u00e7a feita na matriz original n\u00e3o afetar\u00e1 a c\u00f3pia.",
        " \n",
        "A visualiza\u00e7\u00e3o n\u00e3o \u00e9 propriet\u00e1ria dos dados, e qualquer altera\u00e7\u00e3o feita na c\u00f3pia afetar\u00e1 a matriz original, e qualquer altera\u00e7\u00e3o feita na matriz original afetar\u00e1 a c\u00f3pia."
      ]
    },
    {
      "cell_type": "markdown",
      "metadata": {
        "id": "RZdoTysEdKYb"
      },
      "source": [
        "### 8.1. Copy"
      ]
    },
    {
      "cell_type": "code",
      "execution_count": null,
      "metadata": {
        "colab": {
          "base_uri": "https://localhost:8080/"
        },
        "executionInfo": {
          "elapsed": 442,
          "status": "ok",
          "timestamp": 1616744165497,
          "user": {
            "displayName": "DeepMaxFN FN",
            "photoUrl": "",
            "userId": "18365930870935188133"
          },
          "user_tz": -60
        },
        "id": "tYy_pEXbdPFA",
        "outputId": "ef4473e2-9e96-47c3-d46c-6956917cd152"
      },
      "outputs": [
        {
          "name": "stdout",
          "output_type": "stream",
          "text": [
            "Original: [42  2  3  4  5]\n",
            "Copia:    [ 1 43  3  4  5]\n"
          ]
        }
      ],
      "source": [
        "arr = np.array([1, 2, 3, 4, 5])\n",
        "copy_arr = arr.copy()\n",
        "arr[0] = 42\n",
        "copy_arr[1] = 43\n",
        " \n",
        "print(f'Original: {arr}')\n",
        "print(f'Copia:    {copy_arr}')"
      ]
    },
    {
      "cell_type": "markdown",
      "metadata": {
        "id": "UGnubkRodkpv"
      },
      "source": [
        "### 8.2. Visualizar"
      ]
    },
    {
      "cell_type": "code",
      "execution_count": null,
      "metadata": {
        "colab": {
          "base_uri": "https://localhost:8080/"
        },
        "executionInfo": {
          "elapsed": 429,
          "status": "ok",
          "timestamp": 1616744202088,
          "user": {
            "displayName": "DeepMaxFN FN",
            "photoUrl": "",
            "userId": "18365930870935188133"
          },
          "user_tz": -60
        },
        "id": "4g1oQ1V2dnTe",
        "outputId": "a78e041f-dcf0-4ebe-ea78-a992e406e552"
      },
      "outputs": [
        {
          "name": "stdout",
          "output_type": "stream",
          "text": [
            "Original: [42 43  3  4  5]\n",
            "Vista:    [42 43  3  4  5]\n"
          ]
        }
      ],
      "source": [
        "arr = np.array([1, 2, 3, 4, 5])\n",
        "view_arr = arr.view()\n",
        "arr[0] = 42\n",
        "view_arr[1] = 43\n",
        " \n",
        "print(f'Original: {arr}')\n",
        "print(f'Vista:    {view_arr}')"
      ]
    },
    {
      "cell_type": "markdown",
      "metadata": {
        "id": "BJf_34aLe6kU"
      },
      "source": [
        "### 8.3. Propriet\u00e1rio dos dados"
      ]
    },
    {
      "cell_type": "markdown",
      "metadata": {
        "id": "i7z5L05Qe8vA"
      },
      "source": [
        "```markdown\nAnte a d\u00favida de se temos uma c\u00f3pia ou uma visualiza\u00e7\u00e3o, podemos usar `base`\n```"
      ]
    },
    {
      "cell_type": "code",
      "execution_count": null,
      "metadata": {
        "colab": {
          "base_uri": "https://localhost:8080/"
        },
        "executionInfo": {
          "elapsed": 441,
          "status": "ok",
          "timestamp": 1616744647153,
          "user": {
            "displayName": "DeepMaxFN FN",
            "photoUrl": "",
            "userId": "18365930870935188133"
          },
          "user_tz": -60
        },
        "id": "Y_n4zal8fTNK",
        "outputId": "86dfaa97-aef7-4165-d36f-0e66a62a6cb3"
      },
      "outputs": [
        {
          "name": "stdout",
          "output_type": "stream",
          "text": [
            "None\n",
            "[1 2 3 4 5]\n"
          ]
        }
      ],
      "source": [
        "arr = np.array([1, 2, 3, 4, 5])\n",
        " \n",
        "copy_arr = arr.copy()\n",
        "view_arr = arr.view()\n",
        " \n",
        "print(copy_arr.base)\n",
        "print(view_arr.base)"
      ]
    },
    {
      "cell_type": "markdown",
      "metadata": {
        "id": "qXNBEFOhf-XA"
      },
      "source": [
        "## 9. Forma das matrizes"
      ]
    },
    {
      "cell_type": "markdown",
      "metadata": {
        "id": "5Nq0KtncgBKj"
      },
      "source": [
        "Podemos saber a forma que tem a matriz atrav\u00e9s do m\u00e9todo `shape`. Este nos devolver\u00e1 uma tupla, o tamanho da tupla representa as dimens\u00f5es da matriz, em cada elemento da tupla se indica o n\u00famero de itens em cada uma das dimens\u00f5es da matriz"
      ]
    },
    {
      "cell_type": "code",
      "execution_count": null,
      "metadata": {
        "colab": {
          "base_uri": "https://localhost:8080/"
        },
        "executionInfo": {
          "elapsed": 1343,
          "status": "ok",
          "timestamp": 1618997134878,
          "user": {
            "displayName": "DeepMaxFN FN",
            "photoUrl": "",
            "userId": "18365930870935188133"
          },
          "user_tz": -120
        },
        "id": "EZ8Jf51LgUGl",
        "outputId": "0edc5b47-32a6-4549-8857-f40748f28462"
      },
      "outputs": [
        {
          "name": "stdout",
          "output_type": "stream",
          "text": [
            "[[[ 1  2  3  4  5]\n",
            "  [ 6  7  8  9 10]]\n",
            "\n",
            " [[11 12 13 14 15]\n",
            "  [16 17 18 19 20]]]\n",
            "(2, 2, 5)\n"
          ]
        }
      ],
      "source": [
        "arr = np.array([\n",
        "                [[1, 2, 3, 4, 5], \n",
        "                [6, 7, 8, 9, 10]],\n",
        "                \n",
        "                [[11, 12, 13, 14, 15], \n",
        "                [16, 17, 18, 19, 20]]\n",
        "                ])\n",
        " \n",
        "print(arr)\n",
        "print(arr.shape)"
      ]
    },
    {
      "cell_type": "markdown",
      "metadata": {
        "id": "ZCt01zruG675"
      },
      "source": [
        "### 9.1. Redefinir Forma"
      ]
    },
    {
      "cell_type": "markdown",
      "metadata": {
        "id": "dziRtKvqEOol"
      },
      "source": [
        "Podemos mudar a forma das matrizes para a que quisermos atrav\u00e9s do m\u00e9todo `reshape`.",
        "\n",
        "Por exemplo, a matriz anterior, que tem uma forma de `(2, 2, 4)`. Podemos pass\u00e1-la para `(5, 4)`"
      ]
    },
    {
      "cell_type": "code",
      "execution_count": null,
      "metadata": {
        "colab": {
          "base_uri": "https://localhost:8080/"
        },
        "executionInfo": {
          "elapsed": 1006,
          "status": "ok",
          "timestamp": 1617174208273,
          "user": {
            "displayName": "DeepMaxFN FN",
            "photoUrl": "",
            "userId": "18365930870935188133"
          },
          "user_tz": -120
        },
        "id": "Cx22-ckKE8af",
        "outputId": "4ef017a1-caa2-48c1-a662-bdded3fbd87b"
      },
      "outputs": [
        {
          "name": "stdout",
          "output_type": "stream",
          "text": [
            "[[ 1  2  3  4]\n",
            " [ 5  6  7  8]\n",
            " [ 9 10 11 12]\n",
            " [13 14 15 16]\n",
            " [17 18 19 20]]\n",
            "(5, 4)\n"
          ]
        }
      ],
      "source": [
        "arr_reshape = arr.reshape(5, 4)\n",
        "\n",
        "print(arr_reshape)\n",
        "print(arr_reshape.shape)"
      ]
    },
    {
      "cell_type": "markdown",
      "metadata": {
        "id": "fgYdXlaUGG6h"
      },
      "source": [
        "\u00c9 preciso ter em mente que, para redimensionar as matrizes, o n\u00famero de itens da nova forma deve ter o mesmo n\u00famero de itens da primeira forma",
        "\n",
        "Ou seja, no exemplo anterior, a primeira matriz tinha 20 itens (2x2x4), e a nova matriz tem 20 itens (5x4). O que n\u00e3o podemos \u00e9 redimensionar para uma matriz de tamanho (3, 4), pois no total haveria 12 itens."
      ]
    },
    {
      "cell_type": "code",
      "execution_count": null,
      "metadata": {
        "colab": {
          "base_uri": "https://localhost:8080/",
          "height": 161
        },
        "executionInfo": {
          "elapsed": 555,
          "status": "error",
          "timestamp": 1617174381744,
          "user": {
            "displayName": "DeepMaxFN FN",
            "photoUrl": "",
            "userId": "18365930870935188133"
          },
          "user_tz": -120
        },
        "id": "JWMFS49wFyfs",
        "outputId": "839a180d-6231-4829-89db-4b157ce24cbc"
      },
      "outputs": [
        {
          "ename": "ValueError",
          "evalue": "ignored",
          "output_type": "error",
          "traceback": [
            "\u001b[0;31m---------------------------------------------------------------------------\u001b[0m",
            "\u001b[0;31mValueError\u001b[0m                                Traceback (most recent call last)",
            "\u001b[0;32m<ipython-input-12-29e85875d1df>\u001b[0m in \u001b[0;36m<module>\u001b[0;34m()\u001b[0m\n\u001b[0;32m----> 1\u001b[0;31m \u001b[0marr_reshape\u001b[0m \u001b[0;34m=\u001b[0m \u001b[0marr\u001b[0m\u001b[0;34m.\u001b[0m\u001b[0mreshape\u001b[0m\u001b[0;34m(\u001b[0m\u001b[0;36m3\u001b[0m\u001b[0;34m,\u001b[0m \u001b[0;36m4\u001b[0m\u001b[0;34m)\u001b[0m\u001b[0;34m\u001b[0m\u001b[0;34m\u001b[0m\u001b[0m\n\u001b[0m",
            "\u001b[0;31mValueError\u001b[0m: cannot reshape array of size 20 into shape (3,4)"
          ]
        }
      ],
      "source": [
        "arr_reshape = arr.reshape(3, 4)"
      ]
    },
    {
      "cell_type": "markdown",
      "metadata": {
        "id": "3m0jpnHiHB8I"
      },
      "source": [
        "### 9.2. Dimens\u00e3o desconhecida"
      ]
    },
    {
      "cell_type": "markdown",
      "metadata": {
        "id": "RAehcSWZHR1w"
      },
      "source": [
        "No caso de querermos mudar a forma de uma matriz e uma das dimens\u00f5es n\u00e3o nos importar, ou n\u00e3o a conhecermos, podemos fazer com que o NumPy a calcule por n\u00f3s introduzindo um `-1` como par\u00e2metro."
      ]
    },
    {
      "cell_type": "code",
      "execution_count": null,
      "metadata": {
        "colab": {
          "base_uri": "https://localhost:8080/"
        },
        "executionInfo": {
          "elapsed": 667,
          "status": "ok",
          "timestamp": 1617174693236,
          "user": {
            "displayName": "DeepMaxFN FN",
            "photoUrl": "",
            "userId": "18365930870935188133"
          },
          "user_tz": -120
        },
        "id": "vNM16L2qGsHs",
        "outputId": "61408a12-e12e-4868-d018-44292d6ed305"
      },
      "outputs": [
        {
          "name": "stdout",
          "output_type": "stream",
          "text": [
            "[[ 1  2  3  4  5  6  7  8  9 10]\n",
            " [11 12 13 14 15 16 17 18 19 20]]\n",
            "(2, 10)\n"
          ]
        }
      ],
      "source": [
        "arr = np.array([\n",
        "                [[1, 2, 3, 4, 5], \n",
        "                [6, 7, 8, 9, 10]],\n",
        "                \n",
        "                [[11, 12, 13, 14, 15], \n",
        "                [16, 17, 18, 19, 20]]\n",
        "                ])\n",
        "\n",
        "arr_reshape = arr.reshape(2, -1)\n",
        "\n",
        "print(arr_reshape)\n",
        "print(arr_reshape.shape)"
      ]
    },
    {
      "cell_type": "markdown",
      "metadata": {
        "id": "A_QPkOASH6Jm"
      },
      "source": [
        "\u00c9 preciso ter em mente que n\u00e3o se pode colocar qualquer n\u00famero nas dimens\u00f5es conhecidas. O n\u00famero de itens da matriz original tem que ser um m\u00faltiplo das dimens\u00f5es conhecidas.",
        "\n",
        "No exemplo anterior, a matriz tem 20 itens, que \u00e9 m\u00faltiplo de 2, dimens\u00e3o conhecida introduzida. N\u00e3o seria poss\u00edvel colocar 3 como dimens\u00e3o conhecida, uma vez que 20 n\u00e3o \u00e9 m\u00faltiplo de 3, e n\u00e3o haveria nenhum n\u00famero que pudesse ser colocado na dimens\u00e3o desconhecida que fizesse com que no total houvesse 20 itens."
      ]
    },
    {
      "cell_type": "markdown",
      "metadata": {
        "id": "Xc7qLre2JFoJ"
      },
      "source": [
        "### 9.3. Aplainamento de matrizes"
      ]
    },
    {
      "cell_type": "markdown",
      "metadata": {
        "id": "HtXXk-40JPlY"
      },
      "source": [
        "Podemos achatar as matrizes, ou seja, transform\u00e1-las em uma \u00fanica dimens\u00e3o usando `reshape(-1)`. Desta forma, independentemente das dimens\u00f5es da matriz original, a nova sempre ter\u00e1 uma \u00fanica dimens\u00e3o."
      ]
    },
    {
      "cell_type": "code",
      "execution_count": null,
      "metadata": {
        "colab": {
          "base_uri": "https://localhost:8080/"
        },
        "executionInfo": {
          "elapsed": 1527,
          "status": "ok",
          "timestamp": 1618997213920,
          "user": {
            "displayName": "DeepMaxFN FN",
            "photoUrl": "",
            "userId": "18365930870935188133"
          },
          "user_tz": -120
        },
        "id": "hs-XEDHlHoX9",
        "outputId": "e4cf5908-cfc3-4708-8f5c-146871c23394"
      },
      "outputs": [
        {
          "name": "stdout",
          "output_type": "stream",
          "text": [
            "[ 1  2  3  4  5  6  7  8  9 10 11 12 13 14 15 16 17 18 19 20]\n",
            "(20,)\n"
          ]
        }
      ],
      "source": [
        "arr = np.array([\n",
        "                [[1, 2, 3, 4, 5], \n",
        "                [6, 7, 8, 9, 10]],\n",
        "                \n",
        "                [[11, 12, 13, 14, 15], \n",
        "                [16, 17, 18, 19, 20]]\n",
        "                ])\n",
        "\n",
        "arr_flatten = arr.reshape(-1)\n",
        "\n",
        "print(arr_flatten)\n",
        "print(arr_flatten.shape)"
      ]
    },
    {
      "cell_type": "markdown",
      "metadata": {
        "id": "F25g5hTTv_yx"
      },
      "source": [
        "Outra forma de aplanar uma matriz \u00e9 atrav\u00e9s do m\u00e9todo `ravel()`"
      ]
    },
    {
      "cell_type": "code",
      "execution_count": null,
      "metadata": {
        "colab": {
          "base_uri": "https://localhost:8080/"
        },
        "executionInfo": {
          "elapsed": 886,
          "status": "ok",
          "timestamp": 1618997231149,
          "user": {
            "displayName": "DeepMaxFN FN",
            "photoUrl": "",
            "userId": "18365930870935188133"
          },
          "user_tz": -120
        },
        "id": "mQn_2n3rwEi1",
        "outputId": "4ffacff5-aec9-4368-d5d6-8143a1d61fc5"
      },
      "outputs": [
        {
          "name": "stdout",
          "output_type": "stream",
          "text": [
            "[ 1  2  3  4  5  6  7  8  9 10 11 12 13 14 15 16 17 18 19 20]\n",
            "(20,)\n"
          ]
        }
      ],
      "source": [
        "arr = np.array([\n",
        "                [[1, 2, 3, 4, 5], \n",
        "                [6, 7, 8, 9, 10]],\n",
        "                \n",
        "                [[11, 12, 13, 14, 15], \n",
        "                [16, 17, 18, 19, 20]]\n",
        "                ])\n",
        "\n",
        "arr_flatten = arr.ravel()\n",
        "\n",
        "print(arr_flatten)\n",
        "print(arr_flatten.shape)"
      ]
    },
    {
      "cell_type": "markdown",
      "metadata": {
        "id": "WqfZ7IUHwaES"
      },
      "source": [
        "### 9.4. Matriz transposta"
      ]
    },
    {
      "cell_type": "markdown",
      "metadata": {
        "id": "260WW1eMwc43"
      },
      "source": [
        "Pode-se obter a transposta de uma matriz atrav\u00e9s do m\u00e9todo `T`. Fazer a transposta de uma matriz \u00e9 trocar as linhas e as colunas da matriz, na imagem abaixo v\u00ea-se um exemplo que esclarece melhor.",
        "\n",
        "![transpose_matrix](https://pub-fb664c455eca46a2ba762a065ac900f7.r2.dev/Transpose_matrix.webp)"
      ]
    },
    {
      "cell_type": "code",
      "execution_count": null,
      "metadata": {
        "colab": {
          "base_uri": "https://localhost:8080/"
        },
        "executionInfo": {
          "elapsed": 1067,
          "status": "ok",
          "timestamp": 1618997624681,
          "user": {
            "displayName": "DeepMaxFN FN",
            "photoUrl": "",
            "userId": "18365930870935188133"
          },
          "user_tz": -120
        },
        "id": "MGN10Tr3Jh7m",
        "outputId": "04b12e4a-0a38-409c-a96f-55c384a2a5be"
      },
      "outputs": [
        {
          "name": "stdout",
          "output_type": "stream",
          "text": [
            "[[ 1  0  6]\n",
            " [ 0  5  0]\n",
            " [ 4  0 -9]]\n",
            "(3, 3)\n"
          ]
        }
      ],
      "source": [
        "arr = np.array([[1, 0, 4], \n",
        "                [0, 5, 0],\n",
        "                [6, 0, -9]])\n",
        " \n",
        "arr_t = arr.T\n",
        " \n",
        "print(arr_t)\n",
        "print(arr_t.shape)"
      ]
    },
    {
      "cell_type": "markdown",
      "metadata": {
        "id": "KjrEMLjRyjDF"
      },
      "source": [
        "## 10. Empilhamento de matrizes"
      ]
    },
    {
      "cell_type": "markdown",
      "metadata": {
        "id": "oxOCJn7gyltY"
      },
      "source": [
        "### 10.1. Empilhamento vertical"
      ]
    },
    {
      "cell_type": "markdown",
      "metadata": {
        "id": "2bKYjL2HzQ4E"
      },
      "source": [
        "Podem-se empilhar matrizes verticalmente (unindo linhas) atrav\u00e9s do m\u00e9todo `vstack()`"
      ]
    },
    {
      "cell_type": "code",
      "execution_count": null,
      "metadata": {
        "colab": {
          "base_uri": "https://localhost:8080/"
        },
        "executionInfo": {
          "elapsed": 717,
          "status": "ok",
          "timestamp": 1618998187177,
          "user": {
            "displayName": "DeepMaxFN FN",
            "photoUrl": "",
            "userId": "18365930870935188133"
          },
          "user_tz": -120
        },
        "id": "7_ltvjRNziGM",
        "outputId": "b4b07966-30d0-4368-d6f4-6963b836d3f8"
      },
      "outputs": [
        {
          "data": {
            "text/plain": [
              "array([[1, 1, 1],\n",
              "       [2, 2, 2],\n",
              "       [3, 3, 3],\n",
              "       [4, 4, 4],\n",
              "       [5, 5, 5],\n",
              "       [6, 6, 6]])"
            ]
          },
          "execution_count": 7,
          "metadata": {
            "tags": []
          },
          "output_type": "execute_result"
        }
      ],
      "source": [
        "a = np.array([[1, 1, 1], \n",
        "              [2, 2, 2],\n",
        "              [3, 3, 3]])\n",
        "\n",
        "b = np.array([[4, 4, 4], \n",
        "              [5, 5, 5],\n",
        "              [6, 6, 6]])\n",
        "\n",
        "c = np.vstack((a,b))\n",
        "c"
      ]
    },
    {
      "cell_type": "markdown",
      "metadata": {
        "id": "-wy4ZIGp0Eof"
      },
      "source": [
        "Se voc\u00ea tiver matrizes de mais de 2 dimens\u00f5es, `vstack()` empilhar\u00e1 ao longo da primeira dimens\u00e3o"
      ]
    },
    {
      "cell_type": "code",
      "execution_count": null,
      "metadata": {
        "colab": {
          "base_uri": "https://localhost:8080/"
        },
        "executionInfo": {
          "elapsed": 965,
          "status": "ok",
          "timestamp": 1618998455968,
          "user": {
            "displayName": "DeepMaxFN FN",
            "photoUrl": "",
            "userId": "18365930870935188133"
          },
          "user_tz": -120
        },
        "id": "vG4fiRCx0NCH",
        "outputId": "f060588e-1095-42e3-832c-e93dd5f9f418"
      },
      "outputs": [
        {
          "data": {
            "text/plain": [
              "array([[[1, 1],\n",
              "        [2, 2]],\n",
              "\n",
              "       [[3, 3],\n",
              "        [4, 4]],\n",
              "\n",
              "       [[5, 5],\n",
              "        [6, 6]],\n",
              "\n",
              "       [[7, 7],\n",
              "        [8, 8]]])"
            ]
          },
          "execution_count": 16,
          "metadata": {
            "tags": []
          },
          "output_type": "execute_result"
        }
      ],
      "source": [
        "a = np.array([\n",
        "                [[1, 1], \n",
        "                [2, 2]],\n",
        "                \n",
        "                [[3, 3], \n",
        "                [4, 4]]\n",
        "                ])\n",
        " \n",
        "b = np.array([\n",
        "                [[5, 5], \n",
        "                [6, 6]],\n",
        "                \n",
        "                [[7, 7], \n",
        "                [8, 8]]\n",
        "                ])\n",
        " \n",
        "c = np.vstack((a,b))\n",
        "c"
      ]
    },
    {
      "cell_type": "markdown",
      "metadata": {
        "id": "6LR4SP_c1DLs"
      },
      "source": [
        "### 10.2. Empilhamento horizontal"
      ]
    },
    {
      "cell_type": "markdown",
      "metadata": {
        "id": "IT-t-EOH1DMR"
      },
      "source": [
        "Podem-se empilhar matrizes horizontalmente (unindo colunas) atrav\u00e9s do m\u00e9todo `hstack()`"
      ]
    },
    {
      "cell_type": "code",
      "execution_count": null,
      "metadata": {
        "colab": {
          "base_uri": "https://localhost:8080/"
        },
        "executionInfo": {
          "elapsed": 852,
          "status": "ok",
          "timestamp": 1618998529827,
          "user": {
            "displayName": "DeepMaxFN FN",
            "photoUrl": "",
            "userId": "18365930870935188133"
          },
          "user_tz": -120
        },
        "id": "XGfxbuZJ1DMS",
        "outputId": "5a8bfb08-6002-4c64-c3d0-781384079af6"
      },
      "outputs": [
        {
          "data": {
            "text/plain": [
              "array([[1, 2, 3, 4, 5, 6],\n",
              "       [1, 2, 3, 4, 5, 6],\n",
              "       [1, 2, 3, 4, 5, 6]])"
            ]
          },
          "execution_count": 17,
          "metadata": {
            "tags": []
          },
          "output_type": "execute_result"
        }
      ],
      "source": [
        "a = np.array([[1, 2, 3], \n",
        "              [1, 2, 3],\n",
        "              [1, 2, 3]])\n",
        "\n",
        "b = np.array([[4, 5, 6], \n",
        "              [4, 5, 6],\n",
        "              [4, 5, 6]])\n",
        "\n",
        "c = np.hstack((a,b))\n",
        "c"
      ]
    },
    {
      "cell_type": "markdown",
      "metadata": {
        "id": "4qPlQV5e1DMT"
      },
      "source": [
        "Se voc\u00ea tem matrizes de mais de 2 dimens\u00f5es, `hstack()` empilhar\u00e1 ao longo da segunda dimens\u00e3o"
      ]
    },
    {
      "cell_type": "code",
      "execution_count": null,
      "metadata": {
        "colab": {
          "base_uri": "https://localhost:8080/"
        },
        "executionInfo": {
          "elapsed": 1481,
          "status": "ok",
          "timestamp": 1618998553162,
          "user": {
            "displayName": "DeepMaxFN FN",
            "photoUrl": "",
            "userId": "18365930870935188133"
          },
          "user_tz": -120
        },
        "id": "3oxxtmqv1DMU",
        "outputId": "e4b4d5ba-ee75-4197-fb7e-136df6997faa"
      },
      "outputs": [
        {
          "data": {
            "text/plain": [
              "array([[[1, 1],\n",
              "        [2, 2],\n",
              "        [5, 5],\n",
              "        [6, 6]],\n",
              "\n",
              "       [[3, 3],\n",
              "        [4, 4],\n",
              "        [7, 7],\n",
              "        [8, 8]]])"
            ]
          },
          "execution_count": 18,
          "metadata": {
            "tags": []
          },
          "output_type": "execute_result"
        }
      ],
      "source": [
        "a = np.array([\n",
        "                [[1, 1], \n",
        "                [2, 2]],\n",
        "                \n",
        "                [[3, 3], \n",
        "                [4, 4]]\n",
        "                ])\n",
        "\n",
        "b = np.array([\n",
        "                [[5, 5], \n",
        "                [6, 6]],\n",
        "                \n",
        "                [[7, 7], \n",
        "                [8, 8]]\n",
        "                ])\n",
        "\n",
        "c = np.hstack((a,b))\n",
        "c"
      ]
    },
    {
      "cell_type": "markdown",
      "metadata": {
        "id": "qgWQ-MUT1eTE"
      },
      "source": [
        "Outra maneira de adicionar colunas a uma matriz \u00e9 atrav\u00e9s do m\u00e9todo `column_stack()`"
      ]
    },
    {
      "cell_type": "code",
      "execution_count": null,
      "metadata": {
        "colab": {
          "base_uri": "https://localhost:8080/"
        },
        "executionInfo": {
          "elapsed": 982,
          "status": "ok",
          "timestamp": 1618998653240,
          "user": {
            "displayName": "DeepMaxFN FN",
            "photoUrl": "",
            "userId": "18365930870935188133"
          },
          "user_tz": -120
        },
        "id": "-crrDwai1ky_",
        "outputId": "4622506e-5c5f-44f7-e15e-16d32aa42325"
      },
      "outputs": [
        {
          "data": {
            "text/plain": [
              "array([[1, 2, 3, 4],\n",
              "       [1, 2, 3, 4],\n",
              "       [1, 2, 3, 4]])"
            ]
          },
          "execution_count": 19,
          "metadata": {
            "tags": []
          },
          "output_type": "execute_result"
        }
      ],
      "source": [
        "a = np.array([[1, 2, 3], \n",
        "              [1, 2, 3],\n",
        "              [1, 2, 3]])\n",
        " \n",
        "b = np.array([4, 4, 4])\n",
        " \n",
        "c = np.column_stack((a,b))\n",
        "c"
      ]
    },
    {
      "cell_type": "markdown",
      "metadata": {
        "id": "cXy3LzdQgJgL"
      },
      "source": [
        "### 10.3. Empilhamento em profundidade"
      ]
    },
    {
      "cell_type": "markdown",
      "metadata": {
        "id": "uiP_9uSUgJgO"
      },
      "source": [
        "Podem ser empilhadas matrizes em profundidade (terceira dimens\u00e3o) atrav\u00e9s do m\u00e9todo `dstack()`"
      ]
    },
    {
      "cell_type": "code",
      "execution_count": null,
      "metadata": {
        "colab": {
          "base_uri": "https://localhost:8080/"
        },
        "executionInfo": {
          "elapsed": 895,
          "status": "ok",
          "timestamp": 1619077258826,
          "user": {
            "displayName": "DeepMaxFN FN",
            "photoUrl": "",
            "userId": "18365930870935188133"
          },
          "user_tz": -120
        },
        "id": "B8PLe52ogJgP",
        "outputId": "ec5632a3-1d59-4581-c279-5e6dee3dfe62"
      },
      "outputs": [
        {
          "name": "stdout",
          "output_type": "stream",
          "text": [
            "c: [[[1 1 1 1]\n",
            "  [2 2 2 2]]\n",
            "\n",
            " [[3 3 3 3]\n",
            "  [4 4 4 4]]]\n",
            "\n",
            "a.shape: (2, 2, 2), b.shape: (2, 2, 2), c.shape: (2, 2, 4)\n"
          ]
        }
      ],
      "source": [
        "a = np.array([\n",
        "                [[1, 1], \n",
        "                [2, 2]],\n",
        "                \n",
        "                [[3, 3], \n",
        "                [4, 4]]\n",
        "                ])\n",
        "\n",
        "b = np.array([\n",
        "                [[1, 1], \n",
        "                [2, 2]],\n",
        "                \n",
        "                [[3, 3], \n",
        "                [4, 4]]\n",
        "                ])\n",
        "\n",
        "c = np.dstack((a,b))\n",
        "print(f\"c: {c}\\n\")\n",
        "print(f\"a.shape: {a.shape}, b.shape: {b.shape}, c.shape: {c.shape}\")"
      ]
    },
    {
      "cell_type": "markdown",
      "metadata": {
        "id": "t-HrFr6zgJg9"
      },
      "source": [
        "Se se possuem matrizes de mais de 4 dimens\u00f5es, `dstack()` as empilhar\u00e1 ao longo da terceira dimens\u00e3o"
      ]
    },
    {
      "cell_type": "code",
      "execution_count": null,
      "metadata": {
        "colab": {
          "base_uri": "https://localhost:8080/"
        },
        "executionInfo": {
          "elapsed": 1049,
          "status": "ok",
          "timestamp": 1619077269780,
          "user": {
            "displayName": "DeepMaxFN FN",
            "photoUrl": "",
            "userId": "18365930870935188133"
          },
          "user_tz": -120
        },
        "id": "S0TlZgF8gJg9",
        "outputId": "0b5c8dff-d349-40b4-8bbc-4119450b44f2"
      },
      "outputs": [
        {
          "name": "stdout",
          "output_type": "stream",
          "text": [
            "a.shape: (1, 1, 1, 5), b.shape: (1, 1, 1, 5), c.shape: (1, 1, 2, 5)\n"
          ]
        }
      ],
      "source": [
        "a = np.array([1, 2, 3, 4, 5], ndmin=4)\n",
        "\n",
        "b = np.array([1, 2, 3, 4, 5], ndmin=4)\n",
        "\n",
        "c = np.dstack((a,b))\n",
        "print(f\"a.shape: {a.shape}, b.shape: {b.shape}, c.shape: {c.shape}\")"
      ]
    },
    {
      "cell_type": "markdown",
      "metadata": {
        "id": "9jyyH2J811u-"
      },
      "source": [
        "### 10.3. Empilhamento personalizado"
      ]
    },
    {
      "cell_type": "markdown",
      "metadata": {
        "id": "VQoH4wR71-9m"
      },
      "source": [
        "Mediante o m\u00e9todo `concatenate()` \u00e9 poss\u00edvel escolher o eixo no qual se deseja empilhar as matrizes"
      ]
    },
    {
      "cell_type": "code",
      "execution_count": null,
      "metadata": {
        "colab": {
          "base_uri": "https://localhost:8080/"
        },
        "executionInfo": {
          "elapsed": 990,
          "status": "ok",
          "timestamp": 1618998894859,
          "user": {
            "displayName": "DeepMaxFN FN",
            "photoUrl": "",
            "userId": "18365930870935188133"
          },
          "user_tz": -120
        },
        "id": "nC2xnSML2OKt",
        "outputId": "b5ba030b-220e-4b6a-ba16-a51bb487744c"
      },
      "outputs": [
        {
          "name": "stdout",
          "output_type": "stream",
          "text": [
            "conc0: [[[1 1]\n",
            "  [2 2]]\n",
            "\n",
            " [[3 3]\n",
            "  [4 4]]\n",
            "\n",
            " [[5 5]\n",
            "  [6 6]]\n",
            "\n",
            " [[7 7]\n",
            "  [8 8]]]\n",
            "\n",
            "conc1: [[[1 1]\n",
            "  [2 2]\n",
            "  [5 5]\n",
            "  [6 6]]\n",
            "\n",
            " [[3 3]\n",
            "  [4 4]\n",
            "  [7 7]\n",
            "  [8 8]]]\n",
            "\n",
            "conc2: [[[1 1 5 5]\n",
            "  [2 2 6 6]]\n",
            "\n",
            " [[3 3 7 7]\n",
            "  [4 4 8 8]]]\n"
          ]
        }
      ],
      "source": [
        "a = np.array([\n",
        "                [[1, 1], \n",
        "                [2, 2]],\n",
        "                \n",
        "                [[3, 3], \n",
        "                [4, 4]]\n",
        "                ])\n",
        "\n",
        "b = np.array([\n",
        "                [[5, 5], \n",
        "                [6, 6]],\n",
        "                \n",
        "                [[7, 7], \n",
        "                [8, 8]]\n",
        "                ])\n",
        "\n",
        "conc0 = np.concatenate((a,b), axis=0) # concatenamiento en el primer eje\n",
        "conc1 = np.concatenate((a,b), axis=1) # concatenamiento en el segundo eje\n",
        "conc2 = np.concatenate((a,b), axis=2) # concatenamiento en el tercer eje\n",
        "print(f\"conc0: {conc0}\\n\")\n",
        "print(f\"conc1: {conc1}\\n\")\n",
        "print(f\"conc2: {conc2}\")"
      ]
    },
    {
      "cell_type": "markdown",
      "metadata": {
        "id": "6zxSA1MF24t5"
      },
      "source": [
        "## 11. Dividir matrizes"
      ]
    },
    {
      "cell_type": "markdown",
      "metadata": {
        "id": "evF0UiN424uV"
      },
      "source": [
        "### 11.1. Dividir verticalmente"
      ]
    },
    {
      "cell_type": "markdown",
      "metadata": {
        "id": "1t1jKuEr24uV"
      },
      "source": [
        "Podem-se dividir matrizes verticalmente (separando linhas) atrav\u00e9s do m\u00e9todo `vsplit()`"
      ]
    },
    {
      "cell_type": "code",
      "execution_count": null,
      "metadata": {
        "colab": {
          "base_uri": "https://localhost:8080/"
        },
        "executionInfo": {
          "elapsed": 1020,
          "status": "ok",
          "timestamp": 1618999176696,
          "user": {
            "displayName": "DeepMaxFN FN",
            "photoUrl": "",
            "userId": "18365930870935188133"
          },
          "user_tz": -120
        },
        "id": "_8Lv0YAC24uW",
        "outputId": "730611c1-d015-412e-8797-5381cd3d35c4"
      },
      "outputs": [
        {
          "name": "stdout",
          "output_type": "stream",
          "text": [
            "a1: [[1.1 1.2 1.3 1.4]\n",
            " [2.1 2.2 2.3 2.4]]\n",
            "\n",
            "a2: [[3.1 3.2 3.3 3.4]\n",
            " [4.1 4.2 4.3 4.4]]\n"
          ]
        }
      ],
      "source": [
        "a = np.array([[1.1, 1.2, 1.3, 1.4], \n",
        "              [2.1, 2.2, 2.3, 2.4],\n",
        "              [3.1, 3.2, 3.3, 3.4],\n",
        "              [4.1, 4.2, 4.3, 4.4]])\n",
        "\n",
        "[a1, a2] = np.vsplit(a, 2)\n",
        "print(f\"a1: {a1}\\n\")\n",
        "print(f\"a2: {a2}\")"
      ]
    },
    {
      "cell_type": "markdown",
      "metadata": {
        "id": "O9duqFhl24uY"
      },
      "source": [
        "Se houver matrizes com mais de 2 dimens\u00f5es, `vsplit()` dividir\u00e1 ao longo da primeira dimens\u00e3o"
      ]
    },
    {
      "cell_type": "code",
      "execution_count": null,
      "metadata": {
        "colab": {
          "base_uri": "https://localhost:8080/"
        },
        "executionInfo": {
          "elapsed": 815,
          "status": "ok",
          "timestamp": 1618999232227,
          "user": {
            "displayName": "DeepMaxFN FN",
            "photoUrl": "",
            "userId": "18365930870935188133"
          },
          "user_tz": -120
        },
        "id": "oa8Mq1Md24uY",
        "outputId": "27fd4a86-ddaf-4c58-ffeb-781d34832d45"
      },
      "outputs": [
        {
          "name": "stdout",
          "output_type": "stream",
          "text": [
            "a1: [[[1 1]\n",
            "  [2 2]]]\n",
            "\n",
            "a2: [[[3 3]\n",
            "  [4 4]]]\n"
          ]
        }
      ],
      "source": [
        "a = np.array([\n",
        "                [[1, 1], \n",
        "                [2, 2]],\n",
        "                \n",
        "                [[3, 3], \n",
        "                [4, 4]]\n",
        "                ])\n",
        "\n",
        "[a1, a2] = np.vsplit(a, 2)\n",
        "print(f\"a1: {a1}\\n\")\n",
        "print(f\"a2: {a2}\")"
      ]
    },
    {
      "cell_type": "markdown",
      "metadata": {
        "id": "KlUORvvI24uZ"
      },
      "source": [
        "### 11.2. Dividir horizontalmente"
      ]
    },
    {
      "cell_type": "markdown",
      "metadata": {
        "id": "uH_XbRWA24uZ"
      },
      "source": [
        "Podem-se dividir matrizes horizontalmente (separando colunas) por meio do m\u00e9todo `hsplit()`"
      ]
    },
    {
      "cell_type": "code",
      "execution_count": null,
      "metadata": {
        "colab": {
          "base_uri": "https://localhost:8080/"
        },
        "executionInfo": {
          "elapsed": 1083,
          "status": "ok",
          "timestamp": 1618999319572,
          "user": {
            "displayName": "DeepMaxFN FN",
            "photoUrl": "",
            "userId": "18365930870935188133"
          },
          "user_tz": -120
        },
        "id": "ZkGh6y1M24uZ",
        "outputId": "cd0f628e-af21-4bdb-81a0-7d00cd27ad66"
      },
      "outputs": [
        {
          "name": "stdout",
          "output_type": "stream",
          "text": [
            "a1: [[1.1 1.2]\n",
            " [2.1 2.2]\n",
            " [3.1 3.2]\n",
            " [4.1 4.2]]\n",
            "\n",
            "a2: [[1.3 1.4]\n",
            " [2.3 2.4]\n",
            " [3.3 3.4]\n",
            " [4.3 4.4]]\n"
          ]
        }
      ],
      "source": [
        "a = np.array([[1.1, 1.2, 1.3, 1.4], \n",
        "              [2.1, 2.2, 2.3, 2.4],\n",
        "              [3.1, 3.2, 3.3, 3.4],\n",
        "              [4.1, 4.2, 4.3, 4.4]])\n",
        "\n",
        "[a1, a2] = np.hsplit(a, 2)\n",
        "print(f\"a1: {a1}\\n\")\n",
        "print(f\"a2: {a2}\")"
      ]
    },
    {
      "cell_type": "markdown",
      "metadata": {
        "id": "uJIOOU9r24ua"
      },
      "source": [
        "Se voc\u00ea tiver matrizes de mais de 2 dimens\u00f5es, `hsplit()` dividir\u00e1 ao longo da segunda dimens\u00e3o"
      ]
    },
    {
      "cell_type": "code",
      "execution_count": null,
      "metadata": {
        "colab": {
          "base_uri": "https://localhost:8080/"
        },
        "executionInfo": {
          "elapsed": 1174,
          "status": "ok",
          "timestamp": 1618999362237,
          "user": {
            "displayName": "DeepMaxFN FN",
            "photoUrl": "",
            "userId": "18365930870935188133"
          },
          "user_tz": -120
        },
        "id": "QJVUu05Q24ua",
        "outputId": "a512661c-e89d-43ed-9aad-03805fcd36d1"
      },
      "outputs": [
        {
          "name": "stdout",
          "output_type": "stream",
          "text": [
            "a1: [[[1 1]]\n",
            "\n",
            " [[3 3]]]\n",
            "\n",
            "a2: [[[2 2]]\n",
            "\n",
            " [[4 4]]]\n"
          ]
        }
      ],
      "source": [
        "a = np.array([\n",
        "                [[1, 1], \n",
        "                [2, 2]],\n",
        "                \n",
        "                [[3, 3], \n",
        "                [4, 4]]\n",
        "                ])\n",
        "\n",
        "[a1, a2] = np.hsplit(a, 2)\n",
        "print(f\"a1: {a1}\\n\")\n",
        "print(f\"a2: {a2}\")"
      ]
    },
    {
      "cell_type": "markdown",
      "metadata": {
        "id": "BD1VEt6Y24uc"
      },
      "source": [
        "### 11.3 Divisão personalizada"
      ]
    },
    {
      "cell_type": "markdown",
      "metadata": {
        "id": "eZv1Dn0C24uc"
      },
      "source": [
        "Mediante o m\u00e9todo `array_split()` pode-se escolher o eixo no qual se desejam dividir as matrizes"
      ]
    },
    {
      "cell_type": "code",
      "execution_count": null,
      "metadata": {
        "colab": {
          "base_uri": "https://localhost:8080/"
        },
        "executionInfo": {
          "elapsed": 633,
          "status": "ok",
          "timestamp": 1618999696996,
          "user": {
            "displayName": "DeepMaxFN FN",
            "photoUrl": "",
            "userId": "18365930870935188133"
          },
          "user_tz": -120
        },
        "id": "RJvjjiKO24ud",
        "outputId": "03604a72-40cb-4f53-dc3a-359f6c5d6c05"
      },
      "outputs": [
        {
          "name": "stdout",
          "output_type": "stream",
          "text": [
            "a1_eje0: [[[1 1]\n",
            "  [2 2]]]\n",
            "\n",
            "a2_eje0: [[[3 3]\n",
            "  [4 4]]]\n",
            "\n",
            "\n",
            "a1_eje1: [[[1 1]]\n",
            "\n",
            " [[3 3]]]\n",
            "\n",
            "a2_eje1: [[[2 2]]\n",
            "\n",
            " [[4 4]]]\n",
            "\n",
            "\n",
            "a1_eje2: [[[1]\n",
            "  [2]]\n",
            "\n",
            " [[3]\n",
            "  [4]]]\n",
            "\n",
            "a2_eje2: [[[1]\n",
            "  [2]]\n",
            "\n",
            " [[3]\n",
            "  [4]]]\n"
          ]
        }
      ],
      "source": [
        "a = np.array([\n",
        "                [[1, 1], \n",
        "                [2, 2]],\n",
        "                \n",
        "                [[3, 3], \n",
        "                [4, 4]]\n",
        "                ])\n",
        "\n",
        "[a1_eje0, a2_eje0] = np.array_split(a, 2, axis=0)\n",
        "[a1_eje1, a2_eje1] = np.array_split(a, 2, axis=1)\n",
        "[a1_eje2, a2_eje2] = np.array_split(a, 2, axis=2)\n",
        "\n",
        "print(f\"a1_eje0: {a1_eje0}\\n\")\n",
        "print(f\"a2_eje0: {a2_eje0}\\n\\n\")\n",
        "\n",
        "print(f\"a1_eje1: {a1_eje1}\\n\")\n",
        "print(f\"a2_eje1: {a2_eje1}\\n\\n\")\n",
        "\n",
        "print(f\"a1_eje2: {a1_eje2}\\n\")\n",
        "print(f\"a2_eje2: {a2_eje2}\")"
      ]
    },
    {
      "cell_type": "markdown",
      "metadata": {
        "id": "bcK_53Y2fTA2"
      },
      "source": [
        "## 12. Busca em matrizes"
      ]
    },
    {
      "cell_type": "markdown",
      "metadata": {
        "id": "6js5LQfQfW7o"
      },
      "source": [
        "Se se quer buscar um valor dentro de uma matriz, pode-se usar o m\u00e9todo `where()` que devolve as posi\u00e7\u00f5es onde a matriz tem o valor que estamos procurando"
      ]
    },
    {
      "cell_type": "code",
      "execution_count": null,
      "metadata": {
        "colab": {
          "base_uri": "https://localhost:8080/"
        },
        "executionInfo": {
          "elapsed": 912,
          "status": "ok",
          "timestamp": 1619077428305,
          "user": {
            "displayName": "DeepMaxFN FN",
            "photoUrl": "",
            "userId": "18365930870935188133"
          },
          "user_tz": -120
        },
        "id": "Mv0uUM9qiC-_",
        "outputId": "8b67fb6e-f354-41fc-f360-14946fd79371"
      },
      "outputs": [
        {
          "data": {
            "text/plain": [
              "(array([3, 5, 6]),)"
            ]
          },
          "execution_count": 12,
          "metadata": {
            "tags": []
          },
          "output_type": "execute_result"
        }
      ],
      "source": [
        "arr = np.array([1, 2, 3, 4, 5, 4, 4])\n",
        "\n",
        "ids = np.where(arr == 4)\n",
        "ids"
      ]
    },
    {
      "cell_type": "markdown",
      "metadata": {
        "id": "0Q59Jf6JiaBJ"
      },
      "source": [
        "Podem-se usar fun\u00e7\u00f5es para procurar, por exemplo, se quisermos procurar em quais posi\u00e7\u00f5es os valores s\u00e3o pares"
      ]
    },
    {
      "cell_type": "code",
      "execution_count": null,
      "metadata": {
        "colab": {
          "base_uri": "https://localhost:8080/"
        },
        "executionInfo": {
          "elapsed": 1000,
          "status": "ok",
          "timestamp": 1619077530606,
          "user": {
            "displayName": "DeepMaxFN FN",
            "photoUrl": "",
            "userId": "18365930870935188133"
          },
          "user_tz": -120
        },
        "id": "rB0EQkeQifrg",
        "outputId": "1b27eac9-d072-4f07-cc86-507ba345ef64"
      },
      "outputs": [
        {
          "data": {
            "text/plain": [
              "(array([0, 2, 4, 6]),)"
            ]
          },
          "execution_count": 15,
          "metadata": {
            "tags": []
          },
          "output_type": "execute_result"
        }
      ],
      "source": [
        "arr = np.array([1, 2, 3, 4, 5, 6, 7, 8])\n",
        "\n",
        "ids = np.where(arr%2)\n",
        "ids"
      ]
    },
    {
      "cell_type": "markdown",
      "metadata": {
        "id": "sR_AqdYXjUV4"
      },
      "source": [
        "## 13. Ordenar matrizes"
      ]
    },
    {
      "cell_type": "markdown",
      "metadata": {
        "id": "rlf86hH2jWoK"
      },
      "source": [
        "Mediante o m\u00e9todo `sort()` podemos ordenar matrizes"
      ]
    },
    {
      "cell_type": "code",
      "execution_count": null,
      "metadata": {
        "colab": {
          "base_uri": "https://localhost:8080/"
        },
        "executionInfo": {
          "elapsed": 1045,
          "status": "ok",
          "timestamp": 1619077790215,
          "user": {
            "displayName": "DeepMaxFN FN",
            "photoUrl": "",
            "userId": "18365930870935188133"
          },
          "user_tz": -120
        },
        "id": "iHllKxPRjajj",
        "outputId": "24d85c1c-1f16-4fc7-a468-3b950cef3a3e"
      },
      "outputs": [
        {
          "data": {
            "text/plain": [
              "array([0, 1, 2, 3])"
            ]
          },
          "execution_count": 27,
          "metadata": {
            "tags": []
          },
          "output_type": "execute_result"
        }
      ],
      "source": [
        "arr = np.array([3, 2, 0, 1])\n",
        "\n",
        "arr_ordenado = np.sort(arr)\n",
        "arr_ordenado"
      ]
    },
    {
      "cell_type": "markdown",
      "metadata": {
        "id": "p3iBO9o1jpaf"
      },
      "source": [
        "Se o que temos s\u00e3o strings, ele as ordena em ordem alfab\u00e9tica"
      ]
    },
    {
      "cell_type": "code",
      "execution_count": null,
      "metadata": {
        "colab": {
          "base_uri": "https://localhost:8080/"
        },
        "executionInfo": {
          "elapsed": 1367,
          "status": "ok",
          "timestamp": 1619077868029,
          "user": {
            "displayName": "DeepMaxFN FN",
            "photoUrl": "",
            "userId": "18365930870935188133"
          },
          "user_tz": -120
        },
        "id": "ldl7R0Bsj06z",
        "outputId": "e93766fb-7b5d-4076-a352-aa16adba1b6c"
      },
      "outputs": [
        {
          "data": {
            "text/plain": [
              "array(['apple', 'banana', 'cherry'], dtype='<U6')"
            ]
          },
          "execution_count": 29,
          "metadata": {
            "tags": []
          },
          "output_type": "execute_result"
        }
      ],
      "source": [
        "arr = np.array(['banana', 'apple', 'cherry'])\n",
        "\n",
        "arr_ordenado = np.sort(arr)\n",
        "arr_ordenado"
      ]
    },
    {
      "cell_type": "markdown",
      "metadata": {
        "id": "OqFGxo9Qj8Va"
      },
      "source": [
        "E as matrizes de booleanos tamb\u00e9m as ordena"
      ]
    },
    {
      "cell_type": "code",
      "execution_count": null,
      "metadata": {
        "colab": {
          "base_uri": "https://localhost:8080/"
        },
        "executionInfo": {
          "elapsed": 1282,
          "status": "ok",
          "timestamp": 1619077900595,
          "user": {
            "displayName": "DeepMaxFN FN",
            "photoUrl": "",
            "userId": "18365930870935188133"
          },
          "user_tz": -120
        },
        "id": "fKgV31tIj-4w",
        "outputId": "42169b71-272b-407f-c48d-afa970c34e51"
      },
      "outputs": [
        {
          "data": {
            "text/plain": [
              "array([False,  True,  True])"
            ]
          },
          "execution_count": 30,
          "metadata": {
            "tags": []
          },
          "output_type": "execute_result"
        }
      ],
      "source": [
        "arr = np.array([True, False, True])\n",
        "\n",
        "arr_ordenado = np.sort(arr)\n",
        "arr_ordenado"
      ]
    },
    {
      "cell_type": "markdown",
      "metadata": {
        "id": "9KgNNcFlkGPZ"
      },
      "source": [
        "Se se tiver matrizes de mais de uma dimens\u00e3o, ordena-as por dimens\u00f5es, ou seja, se se tiver uma matriz de 2 dimens\u00f5es, ordena os n\u00fameros da primeira fila entre eles e os da segunda fila entre eles"
      ]
    },
    {
      "cell_type": "code",
      "execution_count": null,
      "metadata": {
        "colab": {
          "base_uri": "https://localhost:8080/"
        },
        "executionInfo": {
          "elapsed": 889,
          "status": "ok",
          "timestamp": 1619078047450,
          "user": {
            "displayName": "DeepMaxFN FN",
            "photoUrl": "",
            "userId": "18365930870935188133"
          },
          "user_tz": -120
        },
        "id": "aiM26N03kIvz",
        "outputId": "dc13a1dd-09a7-4447-c095-da25b2318f34"
      },
      "outputs": [
        {
          "data": {
            "text/plain": [
              "array([[2, 3, 4],\n",
              "       [0, 1, 5]])"
            ]
          },
          "execution_count": 32,
          "metadata": {
            "tags": []
          },
          "output_type": "execute_result"
        }
      ],
      "source": [
        "arr = np.array([[3, 2, 4], [5, 0, 1]])\n",
        "\n",
        "arr_ordenado = np.sort(arr)\n",
        "arr_ordenado"
      ]
    },
    {
      "cell_type": "markdown",
      "metadata": {
        "id": "AoOFh8x0kn50"
      },
      "source": [
        "Por padr\u00e3o, ordena sempre em rela\u00e7\u00e3o \u00e0s linhas, mas se voc\u00ea quiser que ordene em rela\u00e7\u00e3o a outra dimens\u00e3o, deve especificar atrav\u00e9s da vari\u00e1vel `axis`"
      ]
    },
    {
      "cell_type": "code",
      "execution_count": null,
      "metadata": {
        "colab": {
          "base_uri": "https://localhost:8080/"
        },
        "executionInfo": {
          "elapsed": 900,
          "status": "ok",
          "timestamp": 1619078341692,
          "user": {
            "displayName": "DeepMaxFN FN",
            "photoUrl": "",
            "userId": "18365930870935188133"
          },
          "user_tz": -120
        },
        "id": "9n-HgQkmlBJW",
        "outputId": "c5bf28ad-c490-4be2-e467-7bdad02ccf25"
      },
      "outputs": [
        {
          "name": "stdout",
          "output_type": "stream",
          "text": [
            "arr_ordenado0: [[3 0 1]\n",
            " [5 2 4]]\n",
            "\n",
            "arr_ordenado1: [[2 3 4]\n",
            " [0 1 5]]\n",
            "\n"
          ]
        }
      ],
      "source": [
        "arr = np.array([[3, 2, 4], [5, 0, 1]])\n",
        "\n",
        "arr_ordenado0 = np.sort(arr, axis=0) # Se ordena con respecto a la primera dimensi\u00f3n\n",
        "arr_ordenado1 = np.sort(arr, axis=1) # Se ordena con respecto a la segunda dimensi\u00f3n\n",
        "\n",
        "print(f\"arr_ordenado0: {arr_ordenado0}\\n\")\n",
        "print(f\"arr_ordenado1: {arr_ordenado1}\\n\")"
      ]
    },
    {
      "cell_type": "markdown",
      "metadata": {
        "id": "WH7CQyLfasDn"
      },
      "source": [
        "## 14. Filtros em matrizes"
      ]
    },
    {
      "cell_type": "markdown",
      "metadata": {
        "id": "X1md_Y-Nauoq"
      },
      "source": [
        "NumPy oferece a possibilidade de buscar certos elementos de uma matriz e criar uma nova",
        "\n",
        "Isso \u00e9 feito criando uma matriz de \u00edndices booleanos, ou seja, cria uma nova matriz que indica com quais posi\u00e7\u00f5es ficamos da matriz e com quais n\u00e3o.",
        "\n",
        "Vamos dar uma olhada em um exemplo de uma matriz de \u00edndices booleanos"
      ]
    },
    {
      "cell_type": "code",
      "execution_count": null,
      "metadata": {
        "colab": {
          "base_uri": "https://localhost:8080/"
        },
        "executionInfo": {
          "elapsed": 544,
          "status": "ok",
          "timestamp": 1619159960999,
          "user": {
            "displayName": "DeepMaxFN FN",
            "photoUrl": "",
            "userId": "18365930870935188133"
          },
          "user_tz": -120
        },
        "id": "L4GBA6GjbfuX",
        "outputId": "2e7493b0-db95-4c73-a266-6e38935b21ce"
      },
      "outputs": [
        {
          "name": "stdout",
          "output_type": "stream",
          "text": [
            "Array original: [37 85 12 45 69 22]\n",
            "indices booleanos: [False, False, True, False, False, True]\n",
            "Array filtrado: [12 22]\n"
          ]
        }
      ],
      "source": [
        "arr = np.array([37, 85, 12, 45, 69, 22])\n",
        "\n",
        "indices_booleanos = [False, False, True, False, False, True]\n",
        "\n",
        "arr_filter = arr[indices_booleanos]\n",
        "\n",
        "print(f\"Array original: {arr}\")\n",
        "print(f\"indices booleanos: {indices_booleanos}\")\n",
        "print(f\"Array filtrado: {arr_filter}\")"
      ]
    },
    {
      "cell_type": "markdown",
      "metadata": {
        "id": "y_SG6QLtb3c6"
      },
      "source": [
        "Como se pode ver, o array filtrado (`arr_filtr`), apenas ficou do array original (`arr`) com os elementos que coincidem com aqueles em que o array `indices_booleanos` vale `True`."
      ]
    },
    {
      "cell_type": "markdown",
      "metadata": {
        "id": "mrEAqb9dcF9x"
      },
      "source": [
        "Outra coisa que podemos ver \u00e9 que ele ficou apenas com os elementos pares, ent\u00e3o agora vamos ver como fazer para ficar com os elementos pares de uma matriz, sem ter que fazer manualmente como fizemos no exemplo anterior."
      ]
    },
    {
      "cell_type": "code",
      "execution_count": null,
      "metadata": {
        "colab": {
          "base_uri": "https://localhost:8080/"
        },
        "executionInfo": {
          "elapsed": 616,
          "status": "ok",
          "timestamp": 1619160024912,
          "user": {
            "displayName": "DeepMaxFN FN",
            "photoUrl": "",
            "userId": "18365930870935188133"
          },
          "user_tz": -120
        },
        "id": "ldsnxKsFcjgo",
        "outputId": "040041c4-ac05-4322-d0c5-b58d33dda558"
      },
      "outputs": [
        {
          "name": "stdout",
          "output_type": "stream",
          "text": [
            "Array original: [[ 1  2  3  4  5]\n",
            " [ 6  7  8  9 10]]\n",
            "\n",
            "indices booleanos: [[False  True False  True False]\n",
            " [ True False  True False  True]]\n",
            "\n",
            "Array filtrado: [ 2  4  6  8 10]\n"
          ]
        }
      ],
      "source": [
        "arr = np.array([[1, 2, 3, 4, 5], \n",
        "                [6, 7, 8, 9, 10]])\n",
        " \n",
        "indices_booleanos = arr % 2 == 0\n",
        " \n",
        "arr_filter = arr[indices_booleanos]\n",
        " \n",
        "print(f\"Array original: {arr}\\n\")\n",
        "print(f\"indices booleanos: {indices_booleanos}\\n\")\n",
        "print(f\"Array filtrado: {arr_filter}\")"
      ]
    }
  ],
  "metadata": {
    "colab": {
      "authorship_tag": "ABX9TyNER5/dTrBMaaCvrciKA5ii",
      "collapsed_sections": [],
      "name": "2021-04-23-Calculo-matricial-con-NumPy.ipynb",
      "provenance": []
    },
    "kernelspec": {
      "display_name": "Python 3.7.6 ('base')",
      "language": "python",
      "name": "python3"
    },
    "language_info": {
      "codemirror_mode": {
        "name": "ipython",
        "version": 3
      },
      "file_extension": ".py",
      "mimetype": "text/x-python",
      "name": "python",
      "nbconvert_exporter": "python",
      "pygments_lexer": "ipython3",
      "version": "3.7.6"
    },
    "maximofn": {
      "date": "2021-04-23",
      "description_en": "\ud83d\udfe2 Learn to do all the matrix calculation you want in an agile way with NumPy",
      "description_es": "\ud83d\udfe2 Aprende a hacer todo el c\u00e1lculo matricial que quieras de una manera \u00e1gil con NumPy",
      "description_pt": "\ud83d\udfe2 Aprenda a fazer todos os c\u00e1lculos matriciais que desejar de forma \u00e1gil com NumPy",
      "end_url": "numpy",
      "image": "https://pub-fb664c455eca46a2ba762a065ac900f7.r2.dev/numpy-icon.webp",
      "keywords_en": "NumPy, matrix calculation, Python, tutorial, beginners",
      "keywords_es": "NumPy, c\u00e1lculo matricial, Python, tutorial, principiantes",
      "keywords_pt": "NumPy, c\u00e1lculo de matriz, Python, tutorial, iniciantes",
      "title_en": "Matrix calculation with NumPy",
      "title_es": "Calculo matricial con NumPy",
      "title_pt": "C\u00e1lculo de matriz com NumPy"
    },
    "vscode": {
      "interpreter": {
        "hash": "d5745ab6aba164e1152437c779991855725055592b9f2bdb41a4825db7168d26"
      }
    }
  },
  "nbformat": 4,
  "nbformat_minor": 0
}