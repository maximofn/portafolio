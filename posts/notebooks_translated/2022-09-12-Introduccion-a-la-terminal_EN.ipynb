{
  "cells": [
    {
      "cell_type": "markdown",
      "metadata": {},
      "source": [
        "# Introduction to the Terminal"
      ]
    },
    {
      "cell_type": "markdown",
      "metadata": {},
      "source": [
        " > Disclaimer: This post has been translated to English using a machine translation model. Please, let me know if you find any mistakes."
      ]
    },
    {
      "cell_type": "markdown",
      "metadata": {},
      "source": [
        "## Post format"
      ]
    },
    {
      "cell_type": "markdown",
      "metadata": {},
      "source": [
        "To avoid having to insert console images for each action I perform, I have created the following function that takes the terminal command we want to execute and returns the output that the terminal would give us.",
        "\n",
        "Sometimes I will use this function, and other times I will use `!` before each command, which in notebooks means you are going to run a terminal command."
      ]
    },
    {
      "cell_type": "code",
      "execution_count": 1,
      "metadata": {},
      "outputs": [],
      "source": [
        "import subprocess\n",
        "import os\n",
        "\n",
        "last_directory = ''\n",
        "\n",
        "def terminal(command, max_lines_output=None):\n",
        "    global last_directory\n",
        "    debug = False\n",
        "    str = command.split()\n",
        "\n",
        "    # Check if there are \" or ' characters\n",
        "    for i in range(len(str)):\n",
        "        if debug:   print(f\"i = {i}, str[i] = {str[i]}\")\n",
        "        if len(str[i]) > 0:\n",
        "            if str[i][0] == '\"' or str[i][0] == \"'\":\n",
        "                for j in range(i+1,len(str)):\n",
        "                    if debug:   print(f\"\\t j = {j}, str[j] = {str[j]}\")\n",
        "                    if str[j][-1] == '\"' or str[j][-1] == \"'\":\n",
        "                        for k in range(i+1,j+1):\n",
        "                            if debug:   print(f\"\\t\\t k = {k}, str[i] = {str[i]}, str[k] = {str[k]}\")\n",
        "                            str[i] = str[i] + \" \" + str[k]\n",
        "                            if debug:   print(f\"\\t\\t k = {k}, str[i] = {str[i]}, str[k] = {str[k]}\")\n",
        "                        str[j:] = [\"\"]\n",
        "                        str[i] = str[i].replace('\"','')\n",
        "    \n",
        "    # Remove empty strings\n",
        "    str = [x for x in str if x != \"\"]\n",
        "    if debug:\n",
        "        print(str)\n",
        "        return\n",
        "    if str[0] == \"cd\":\n",
        "        last_dir = os.getcwd()\n",
        "        if len(str) == 1:\n",
        "            os.chdir('/home/wallabot')\n",
        "        else:\n",
        "            if str[1] == \"-\":\n",
        "                os.chdir(last_directory)\n",
        "            else:\n",
        "                os.chdir(str[1])\n",
        "        last_directory = last_dir\n",
        "    else:\n",
        "        result = subprocess.run(str, stdout=subprocess.PIPE).stdout.decode('utf-8')\n",
        "        if max_lines_output is not None:\n",
        "            result_split = result.split('\\n')\n",
        "            print('\\n'.join(result_split[:max_lines_output]))\n",
        "            print(\"\\t ...\")\n",
        "            print('\\n'.join(result_split[-5:]))\n",
        "        else:\n",
        "            print(result)"
      ]
    },
    {
      "cell_type": "markdown",
      "metadata": {},
      "source": [
        "## First commands for navigating the terminal"
      ]
    },
    {
      "cell_type": "markdown",
      "metadata": {},
      "source": [
        "### `ls` (list directory)"
      ]
    },
    {
      "cell_type": "markdown",
      "metadata": {},
      "source": [
        "The first command we are going to look at is `ls` (list directory), which is used to list all the files in the folder we are in."
      ]
    },
    {
      "cell_type": "code",
      "execution_count": 2,
      "metadata": {},
      "outputs": [
        {
          "name": "stdout",
          "output_type": "stream",
          "text": [
            "2021-02-11-Introduccion-a-Python.ipynb\n",
            "2021-04-23-Calculo-matricial-con-Numpy.ipynb\n",
            "2021-06-15-Manejo-de-datos-con-Pandas.ipynb\n",
            "2022-09-12 Introduccion a la terminal.ipynb\n",
            "2022-09-12 Introduccion a la terminal.txt\n",
            "command-line-cheat-sheet.pdf\n",
            "CSS.ipynb\n",
            "Docker.html\n",
            "Docker.ipynb\n",
            "Expresiones regulares.html\n",
            "Expresiones regulares.ipynb\n",
            "html_files\n",
            "html.ipynb\n",
            "introduccion_python\n",
            "movies.csv\n",
            "movies.dat\n",
            "notebooks_translated\n",
            "__pycache__\n",
            "ssh.ipynb\n",
            "test.html\n",
            "test.ipynb\n",
            "\n"
          ]
        }
      ],
      "source": [
        "terminal(\"ls\")"
      ]
    },
    {
      "cell_type": "markdown",
      "metadata": {},
      "source": [
        "Commands usually can receive options (`flags`), which are introduced with the character `-`, for example let's look at `ls -l` which returns the list of files in the directory we are in, but with more information."
      ]
    },
    {
      "cell_type": "code",
      "execution_count": 3,
      "metadata": {},
      "outputs": [
        {
          "name": "stdout",
          "output_type": "stream",
          "text": [
            "total 4512\n",
            "-rw-rw-r-- 1 wallabot wallabot 285898 nov 12 02:07 2021-02-11-Introduccion-a-Python.ipynb\n",
            "-rw-rw-r-- 1 wallabot wallabot  78450 nov 13 00:10 2021-04-23-Calculo-matricial-con-Numpy.ipynb\n",
            "-rw-rw-r-- 1 wallabot wallabot 484213 nov 13 00:44 2021-06-15-Manejo-de-datos-con-Pandas.ipynb\n",
            "-rw-rw-r-- 1 wallabot wallabot 320810 dic  6 00:11 2022-09-12 Introduccion a la terminal.ipynb\n",
            "-rw-rw-r-- 1 wallabot wallabot 320594 dic  6 00:04 2022-09-12 Introduccion a la terminal.txt\n",
            "-rw-rw-r-- 1 wallabot wallabot 119471 oct  3 16:13 command-line-cheat-sheet.pdf\n",
            "-rw-rw-r-- 1 wallabot wallabot   2660 sep 18 03:32 CSS.ipynb\n",
            "-rw-rw-r-- 1 wallabot wallabot 699225 nov 27 04:16 Docker.html\n",
            "-rw-rw-r-- 1 wallabot wallabot 509125 sep 22 16:48 Docker.ipynb\n",
            "-rw-rw-r-- 1 wallabot wallabot 156193 nov 27 04:21 Expresiones regulares.html\n",
            "-rw-rw-r-- 1 wallabot wallabot  53094 oct  2 04:57 Expresiones regulares.ipynb\n",
            "drwxrwxr-x 2 wallabot wallabot   4096 nov 28 14:39 html_files\n",
            "-rw-rw-r-- 1 wallabot wallabot  14775 sep 18 03:29 html.ipynb\n",
            "drwxrwxr-x 3 wallabot wallabot   4096 nov 12 01:51 introduccion_python\n",
            "-rw-rw-r-- 1 wallabot wallabot 446172 oct  2 04:39 movies.csv\n",
            "-rw-rw-r-- 1 wallabot wallabot 522197 oct  2 04:33 movies.dat\n",
            "drwxrwxr-x 2 wallabot wallabot   4096 nov 28 14:39 notebooks_translated\n",
            "drwxrwxr-x 2 wallabot wallabot   4096 ago 27 03:25 __pycache__\n",
            "-rw-rw-r-- 1 wallabot wallabot    586 dic  4 02:31 ssh.ipynb\n",
            "-rw-rw-r-- 1 wallabot wallabot 292936 nov  9 01:46 test.html\n",
            "-rw-rw-r-- 1 wallabot wallabot 260227 nov  9 01:13 test.ipynb\n",
            "\n"
          ]
        }
      ],
      "source": [
        "terminal('ls -l')"
      ]
    },
    {
      "cell_type": "markdown",
      "metadata": {},
      "source": [
        "As we can see, we have how many bytes each file occupies, but when we have files that take up a lot of space, this is not very easy to read, so we can add the `h` (`human`) option which gives us more readable information."
      ]
    },
    {
      "cell_type": "code",
      "execution_count": 4,
      "metadata": {},
      "outputs": [
        {
          "name": "stdout",
          "output_type": "stream",
          "text": [
            "total 4,5M\n",
            "-rw-rw-r-- 1 wallabot wallabot 280K nov 12 02:07 2021-02-11-Introduccion-a-Python.ipynb\n",
            "-rw-rw-r-- 1 wallabot wallabot  77K nov 13 00:10 2021-04-23-Calculo-matricial-con-Numpy.ipynb\n",
            "-rw-rw-r-- 1 wallabot wallabot 473K nov 13 00:44 2021-06-15-Manejo-de-datos-con-Pandas.ipynb\n",
            "-rw-rw-r-- 1 wallabot wallabot 314K dic  6 00:11 2022-09-12 Introduccion a la terminal.ipynb\n",
            "-rw-rw-r-- 1 wallabot wallabot 314K dic  6 00:04 2022-09-12 Introduccion a la terminal.txt\n",
            "-rw-rw-r-- 1 wallabot wallabot 117K oct  3 16:13 command-line-cheat-sheet.pdf\n",
            "-rw-rw-r-- 1 wallabot wallabot 2,6K sep 18 03:32 CSS.ipynb\n",
            "-rw-rw-r-- 1 wallabot wallabot 683K nov 27 04:16 Docker.html\n",
            "-rw-rw-r-- 1 wallabot wallabot 498K sep 22 16:48 Docker.ipynb\n",
            "-rw-rw-r-- 1 wallabot wallabot 153K nov 27 04:21 Expresiones regulares.html\n",
            "-rw-rw-r-- 1 wallabot wallabot  52K oct  2 04:57 Expresiones regulares.ipynb\n",
            "drwxrwxr-x 2 wallabot wallabot 4,0K nov 28 14:39 html_files\n",
            "-rw-rw-r-- 1 wallabot wallabot  15K sep 18 03:29 html.ipynb\n",
            "drwxrwxr-x 3 wallabot wallabot 4,0K nov 12 01:51 introduccion_python\n",
            "-rw-rw-r-- 1 wallabot wallabot 436K oct  2 04:39 movies.csv\n",
            "-rw-rw-r-- 1 wallabot wallabot 510K oct  2 04:33 movies.dat\n",
            "drwxrwxr-x 2 wallabot wallabot 4,0K nov 28 14:39 notebooks_translated\n",
            "drwxrwxr-x 2 wallabot wallabot 4,0K ago 27 03:25 __pycache__\n",
            "-rw-rw-r-- 1 wallabot wallabot  586 dic  4 02:31 ssh.ipynb\n",
            "-rw-rw-r-- 1 wallabot wallabot 287K nov  9 01:46 test.html\n",
            "-rw-rw-r-- 1 wallabot wallabot 255K nov  9 01:13 test.ipynb\n",
            "\n"
          ]
        }
      ],
      "source": [
        "terminal('ls -lh')"
      ]
    },
    {
      "cell_type": "markdown",
      "metadata": {},
      "source": [
        "If we want to see hidden files, we can use the `a` option, which will show us all the files in a directory."
      ]
    },
    {
      "cell_type": "code",
      "execution_count": 5,
      "metadata": {},
      "outputs": [
        {
          "name": "stdout",
          "output_type": "stream",
          "text": [
            "total 4,5M\n",
            "drwxrwxr-x 6 wallabot wallabot 4,0K dic  6 00:04 .\n",
            "drwxrwxr-x 5 wallabot wallabot 4,0K oct  2 03:10 ..\n",
            "-rw-rw-r-- 1 wallabot wallabot 280K nov 12 02:07 2021-02-11-Introduccion-a-Python.ipynb\n",
            "-rw-rw-r-- 1 wallabot wallabot  77K nov 13 00:10 2021-04-23-Calculo-matricial-con-Numpy.ipynb\n",
            "-rw-rw-r-- 1 wallabot wallabot 473K nov 13 00:44 2021-06-15-Manejo-de-datos-con-Pandas.ipynb\n",
            "-rw-rw-r-- 1 wallabot wallabot 314K dic  6 00:11 2022-09-12 Introduccion a la terminal.ipynb\n",
            "-rw-rw-r-- 1 wallabot wallabot 314K dic  6 00:04 2022-09-12 Introduccion a la terminal.txt\n",
            "-rw-rw-r-- 1 wallabot wallabot 117K oct  3 16:13 command-line-cheat-sheet.pdf\n",
            "-rw-rw-r-- 1 wallabot wallabot 2,6K sep 18 03:32 CSS.ipynb\n",
            "-rw-rw-r-- 1 wallabot wallabot 683K nov 27 04:16 Docker.html\n",
            "-rw-rw-r-- 1 wallabot wallabot 498K sep 22 16:48 Docker.ipynb\n",
            "-rw-rw-r-- 1 wallabot wallabot 153K nov 27 04:21 Expresiones regulares.html\n",
            "-rw-rw-r-- 1 wallabot wallabot  52K oct  2 04:57 Expresiones regulares.ipynb\n",
            "drwxrwxr-x 2 wallabot wallabot 4,0K nov 28 14:39 html_files\n",
            "-rw-rw-r-- 1 wallabot wallabot  15K sep 18 03:29 html.ipynb\n",
            "drwxrwxr-x 3 wallabot wallabot 4,0K nov 12 01:51 introduccion_python\n",
            "-rw-rw-r-- 1 wallabot wallabot 436K oct  2 04:39 movies.csv\n",
            "-rw-rw-r-- 1 wallabot wallabot 510K oct  2 04:33 movies.dat\n",
            "drwxrwxr-x 2 wallabot wallabot 4,0K nov 28 14:39 notebooks_translated\n",
            "drwxrwxr-x 2 wallabot wallabot 4,0K ago 27 03:25 __pycache__\n",
            "-rw-rw-r-- 1 wallabot wallabot  586 dic  4 02:31 ssh.ipynb\n",
            "-rw-rw-r-- 1 wallabot wallabot 287K nov  9 01:46 test.html\n",
            "-rw-rw-r-- 1 wallabot wallabot 255K nov  9 01:13 test.ipynb\n",
            "\n"
          ]
        }
      ],
      "source": [
        "terminal('ls -lha')"
      ]
    },
    {
      "cell_type": "markdown",
      "metadata": {},
      "source": [
        "If what we want is for it to sort by size, we can use the `S` option."
      ]
    },
    {
      "cell_type": "code",
      "execution_count": 6,
      "metadata": {},
      "outputs": [
        {
          "name": "stdout",
          "output_type": "stream",
          "text": [
            "total 4,5M\n",
            "-rw-rw-r-- 1 wallabot wallabot 683K nov 27 04:16 Docker.html\n",
            "-rw-rw-r-- 1 wallabot wallabot 510K oct  2 04:33 movies.dat\n",
            "-rw-rw-r-- 1 wallabot wallabot 498K sep 22 16:48 Docker.ipynb\n",
            "-rw-rw-r-- 1 wallabot wallabot 473K nov 13 00:44 2021-06-15-Manejo-de-datos-con-Pandas.ipynb\n",
            "-rw-rw-r-- 1 wallabot wallabot 436K oct  2 04:39 movies.csv\n",
            "-rw-rw-r-- 1 wallabot wallabot 314K dic  6 00:11 2022-09-12 Introduccion a la terminal.ipynb\n",
            "-rw-rw-r-- 1 wallabot wallabot 314K dic  6 00:04 2022-09-12 Introduccion a la terminal.txt\n",
            "-rw-rw-r-- 1 wallabot wallabot 287K nov  9 01:46 test.html\n",
            "-rw-rw-r-- 1 wallabot wallabot 280K nov 12 02:07 2021-02-11-Introduccion-a-Python.ipynb\n",
            "-rw-rw-r-- 1 wallabot wallabot 255K nov  9 01:13 test.ipynb\n",
            "-rw-rw-r-- 1 wallabot wallabot 153K nov 27 04:21 Expresiones regulares.html\n",
            "-rw-rw-r-- 1 wallabot wallabot 117K oct  3 16:13 command-line-cheat-sheet.pdf\n",
            "-rw-rw-r-- 1 wallabot wallabot  77K nov 13 00:10 2021-04-23-Calculo-matricial-con-Numpy.ipynb\n",
            "-rw-rw-r-- 1 wallabot wallabot  52K oct  2 04:57 Expresiones regulares.ipynb\n",
            "-rw-rw-r-- 1 wallabot wallabot  15K sep 18 03:29 html.ipynb\n",
            "drwxrwxr-x 2 wallabot wallabot 4,0K nov 28 14:39 html_files\n",
            "drwxrwxr-x 3 wallabot wallabot 4,0K nov 12 01:51 introduccion_python\n",
            "drwxrwxr-x 2 wallabot wallabot 4,0K nov 28 14:39 notebooks_translated\n",
            "drwxrwxr-x 2 wallabot wallabot 4,0K ago 27 03:25 __pycache__\n",
            "-rw-rw-r-- 1 wallabot wallabot 2,6K sep 18 03:32 CSS.ipynb\n",
            "-rw-rw-r-- 1 wallabot wallabot  586 dic  4 02:31 ssh.ipynb\n",
            "\n"
          ]
        }
      ],
      "source": [
        "terminal('ls -lhS')"
      ]
    },
    {
      "cell_type": "markdown",
      "metadata": {},
      "source": [
        "If we want the files to be displayed in reverse alphabetical order, we must use the `-r` option."
      ]
    },
    {
      "cell_type": "code",
      "execution_count": 7,
      "metadata": {},
      "outputs": [
        {
          "name": "stdout",
          "output_type": "stream",
          "text": [
            "total 4,5M\n",
            "-rw-rw-r-- 1 wallabot wallabot 255K nov  9 01:13 test.ipynb\n",
            "-rw-rw-r-- 1 wallabot wallabot 287K nov  9 01:46 test.html\n",
            "-rw-rw-r-- 1 wallabot wallabot  586 dic  4 02:31 ssh.ipynb\n",
            "drwxrwxr-x 2 wallabot wallabot 4,0K ago 27 03:25 __pycache__\n",
            "drwxrwxr-x 2 wallabot wallabot 4,0K nov 28 14:39 notebooks_translated\n",
            "-rw-rw-r-- 1 wallabot wallabot 510K oct  2 04:33 movies.dat\n",
            "-rw-rw-r-- 1 wallabot wallabot 436K oct  2 04:39 movies.csv\n",
            "drwxrwxr-x 3 wallabot wallabot 4,0K nov 12 01:51 introduccion_python\n",
            "-rw-rw-r-- 1 wallabot wallabot  15K sep 18 03:29 html.ipynb\n",
            "drwxrwxr-x 2 wallabot wallabot 4,0K nov 28 14:39 html_files\n",
            "-rw-rw-r-- 1 wallabot wallabot  52K oct  2 04:57 Expresiones regulares.ipynb\n",
            "-rw-rw-r-- 1 wallabot wallabot 153K nov 27 04:21 Expresiones regulares.html\n",
            "-rw-rw-r-- 1 wallabot wallabot 498K sep 22 16:48 Docker.ipynb\n",
            "-rw-rw-r-- 1 wallabot wallabot 683K nov 27 04:16 Docker.html\n",
            "-rw-rw-r-- 1 wallabot wallabot 2,6K sep 18 03:32 CSS.ipynb\n",
            "-rw-rw-r-- 1 wallabot wallabot 117K oct  3 16:13 command-line-cheat-sheet.pdf\n",
            "-rw-rw-r-- 1 wallabot wallabot 314K dic  6 00:04 2022-09-12 Introduccion a la terminal.txt\n",
            "-rw-rw-r-- 1 wallabot wallabot 314K dic  6 00:11 2022-09-12 Introduccion a la terminal.ipynb\n",
            "-rw-rw-r-- 1 wallabot wallabot 473K nov 13 00:44 2021-06-15-Manejo-de-datos-con-Pandas.ipynb\n",
            "-rw-rw-r-- 1 wallabot wallabot  77K nov 13 00:10 2021-04-23-Calculo-matricial-con-Numpy.ipynb\n",
            "-rw-rw-r-- 1 wallabot wallabot 280K nov 12 02:07 2021-02-11-Introduccion-a-Python.ipynb\n",
            "\n"
          ]
        }
      ],
      "source": [
        "terminal('ls -lhr')"
      ]
    },
    {
      "cell_type": "markdown",
      "metadata": {},
      "source": [
        "### `cd` (change directory)"
      ]
    },
    {
      "cell_type": "markdown",
      "metadata": {},
      "source": [
        "The second command will be `cd` (change directory) which allows us to change directories."
      ]
    },
    {
      "cell_type": "code",
      "execution_count": 8,
      "metadata": {},
      "outputs": [],
      "source": [
        "terminal('cd /home/wallabot/Documentos/')"
      ]
    },
    {
      "cell_type": "markdown",
      "metadata": {},
      "source": [
        "If we now use `ls` again to see the files we have, we notice that they change."
      ]
    },
    {
      "cell_type": "code",
      "execution_count": 9,
      "metadata": {},
      "outputs": [
        {
          "name": "stdout",
          "output_type": "stream",
          "text": [
            "aprendiendo-git.pdf\n",
            "balena-etcher-electron-1.7.9-linux-x64\n",
            "camerasIP\n",
            "Documentacion\n",
            "gstreamer\n",
            "gstreamer_old\n",
            "jetsonNano\n",
            "kaggle\n",
            "Libros\n",
            "nerf\n",
            "prueba.txt\n",
            "pytorch\n",
            "wallabot\n",
            "web\n",
            "\n"
          ]
        }
      ],
      "source": [
        "terminal('ls')"
      ]
    },
    {
      "cell_type": "markdown",
      "metadata": {},
      "source": [
        "If you give `cd` the character `-` instead of the directory you want to move to, it will return to the previous directory where you were."
      ]
    },
    {
      "cell_type": "code",
      "execution_count": 10,
      "metadata": {},
      "outputs": [],
      "source": [
        "terminal('cd -')"
      ]
    },
    {
      "cell_type": "code",
      "execution_count": 11,
      "metadata": {},
      "outputs": [
        {
          "name": "stdout",
          "output_type": "stream",
          "text": [
            "2021-02-11-Introduccion-a-Python.ipynb\n",
            "2021-04-23-Calculo-matricial-con-Numpy.ipynb\n",
            "2021-06-15-Manejo-de-datos-con-Pandas.ipynb\n",
            "2022-09-12 Introduccion a la terminal.ipynb\n",
            "2022-09-12 Introduccion a la terminal.txt\n",
            "command-line-cheat-sheet.pdf\n",
            "CSS.ipynb\n",
            "Docker.html\n",
            "Docker.ipynb\n",
            "Expresiones regulares.html\n",
            "Expresiones regulares.ipynb\n",
            "html_files\n",
            "html.ipynb\n",
            "introduccion_python\n",
            "movies.csv\n",
            "movies.dat\n",
            "notebooks_translated\n",
            "__pycache__\n",
            "ssh.ipynb\n",
            "test.html\n",
            "test.ipynb\n",
            "\n"
          ]
        }
      ],
      "source": [
        "terminal('ls')"
      ]
    },
    {
      "cell_type": "markdown",
      "metadata": {},
      "source": [
        "If we wanted to move to the `home` directory by only typing `cd` in the terminal, it will take us there."
      ]
    },
    {
      "cell_type": "code",
      "execution_count": 12,
      "metadata": {},
      "outputs": [],
      "source": [
        "terminal('cd')"
      ]
    },
    {
      "cell_type": "markdown",
      "metadata": {},
      "source": [
        "### `pwd` (print working directory)"
      ]
    },
    {
      "cell_type": "markdown",
      "metadata": {},
      "source": [
        "To get the directory we are in, we can use `pwd` (print working directory)"
      ]
    },
    {
      "cell_type": "code",
      "execution_count": 15,
      "metadata": {},
      "outputs": [
        {
          "name": "stdout",
          "output_type": "stream",
          "text": [
            "/home/wallabot\n",
            "\n"
          ]
        }
      ],
      "source": [
        "terminal('pwd')"
      ]
    },
    {
      "cell_type": "markdown",
      "metadata": {},
      "source": [
        "We can move using the `cd` command through relative paths and absolute paths. For example, let's move to a directory using an absolute path."
      ]
    },
    {
      "cell_type": "code",
      "execution_count": 16,
      "metadata": {},
      "outputs": [],
      "source": [
        "terminal('cd /home/wallabot/Documentos/')"
      ]
    },
    {
      "cell_type": "code",
      "execution_count": 17,
      "metadata": {},
      "outputs": [
        {
          "name": "stdout",
          "output_type": "stream",
          "text": [
            "/home/wallabot/Documentos\n",
            "\n"
          ]
        }
      ],
      "source": [
        "terminal('pwd')"
      ]
    },
    {
      "cell_type": "code",
      "execution_count": 18,
      "metadata": {},
      "outputs": [
        {
          "name": "stdout",
          "output_type": "stream",
          "text": [
            "aprendiendo-git.pdf\n",
            "balena-etcher-electron-1.7.9-linux-x64\n",
            "camerasIP\n",
            "Documentacion\n",
            "gstreamer\n",
            "gstreamer_old\n",
            "jetsonNano\n",
            "kaggle\n",
            "Libros\n",
            "nerf\n",
            "prueba.txt\n",
            "pytorch\n",
            "wallabot\n",
            "web\n",
            "\n"
          ]
        }
      ],
      "source": [
        "terminal('ls')"
      ]
    },
    {
      "cell_type": "markdown",
      "metadata": {},
      "source": [
        "We can move using relative paths if we only put the address starting from the point where we are."
      ]
    },
    {
      "cell_type": "code",
      "execution_count": 19,
      "metadata": {},
      "outputs": [],
      "source": [
        "terminal('cd web')"
      ]
    },
    {
      "cell_type": "code",
      "execution_count": 20,
      "metadata": {},
      "outputs": [
        {
          "name": "stdout",
          "output_type": "stream",
          "text": [
            "/home/wallabot/Documentos/web\n",
            "\n"
          ]
        }
      ],
      "source": [
        "terminal('pwd')"
      ]
    },
    {
      "cell_type": "markdown",
      "metadata": {},
      "source": [
        "We can also go up one directory using relative paths with `..`"
      ]
    },
    {
      "cell_type": "code",
      "execution_count": 21,
      "metadata": {},
      "outputs": [],
      "source": [
        "terminal('cd ..')"
      ]
    },
    {
      "cell_type": "code",
      "execution_count": 22,
      "metadata": {},
      "outputs": [
        {
          "name": "stdout",
          "output_type": "stream",
          "text": [
            "/home/wallabot/Documentos\n",
            "\n"
          ]
        }
      ],
      "source": [
        "terminal('pwd')"
      ]
    },
    {
      "cell_type": "markdown",
      "metadata": {},
      "source": [
        "If we use `.` instead of `..`, we are referring to the directory we are currently in, that is, if we type `cd .`, we won't move, as we are telling the terminal to go to the directory we are in."
      ]
    },
    {
      "cell_type": "code",
      "execution_count": 23,
      "metadata": {},
      "outputs": [],
      "source": [
        "terminal('cd .')"
      ]
    },
    {
      "cell_type": "code",
      "execution_count": 24,
      "metadata": {},
      "outputs": [
        {
          "name": "stdout",
          "output_type": "stream",
          "text": [
            "/home/wallabot/Documentos\n",
            "\n"
          ]
        }
      ],
      "source": [
        "terminal('pwd')"
      ]
    },
    {
      "cell_type": "markdown",
      "metadata": {},
      "source": [
        "Let's move to a path where we have files to demonstrate the following command"
      ]
    },
    {
      "cell_type": "code",
      "execution_count": 25,
      "metadata": {},
      "outputs": [],
      "source": [
        "terminal('cd web/portafolio/posts/')"
      ]
    },
    {
      "cell_type": "code",
      "execution_count": 26,
      "metadata": {},
      "outputs": [
        {
          "name": "stdout",
          "output_type": "stream",
          "text": [
            "2021-02-11-Introduccion-a-Python.ipynb\n",
            "2021-04-23-Calculo-matricial-con-Numpy.ipynb\n",
            "2021-06-15-Manejo-de-datos-con-Pandas.ipynb\n",
            "2022-09-12 Introduccion a la terminal.ipynb\n",
            "2022-09-12 Introduccion a la terminal.txt\n",
            "command-line-cheat-sheet.pdf\n",
            "CSS.ipynb\n",
            "Docker.html\n",
            "Docker.ipynb\n",
            "Expresiones regulares.html\n",
            "Expresiones regulares.ipynb\n",
            "html_files\n",
            "html.ipynb\n",
            "introduccion_python\n",
            "movies.csv\n",
            "movies.dat\n",
            "notebooks_translated\n",
            "__pycache__\n",
            "ssh.ipynb\n",
            "test.html\n",
            "test.ipynb\n",
            "\n"
          ]
        }
      ],
      "source": [
        "terminal('ls')"
      ]
    },
    {
      "cell_type": "markdown",
      "metadata": {},
      "source": [
        "### File information with `file`"
      ]
    },
    {
      "cell_type": "markdown",
      "metadata": {},
      "source": [
        "If I don't know what type of file a particular one is, by using the `file` command I can get a description."
      ]
    },
    {
      "cell_type": "code",
      "execution_count": 27,
      "metadata": {},
      "outputs": [
        {
          "name": "stdout",
          "output_type": "stream",
          "text": [
            "2021-02-11-Introduccion-a-Python.ipynb: UTF-8 Unicode text, with very long lines\n",
            "\n"
          ]
        }
      ],
      "source": [
        "terminal('file 2021-02-11-Introduccion-a-Python.ipynb')"
      ]
    },
    {
      "cell_type": "markdown",
      "metadata": {},
      "source": [
        "## Manipulating files and directories"
      ]
    },
    {
      "cell_type": "markdown",
      "metadata": {},
      "source": [
        "Let's move to the home first."
      ]
    },
    {
      "cell_type": "code",
      "execution_count": 28,
      "metadata": {},
      "outputs": [],
      "source": [
        "terminal('cd /home/wallabot/Documentos/')"
      ]
    },
    {
      "cell_type": "markdown",
      "metadata": {},
      "source": [
        "### Directory tree with `tree`"
      ]
    },
    {
      "cell_type": "markdown",
      "metadata": {},
      "source": [
        "We can see the entire structure of the folder we are in using the `tree` command."
      ]
    },
    {
      "cell_type": "code",
      "execution_count": 29,
      "metadata": {},
      "outputs": [
        {
          "name": "stdout",
          "output_type": "stream",
          "text": [
            ".\n",
            "\u251c\u2500\u2500 aprendiendo-git.pdf\n",
            "\u251c\u2500\u2500 balena-etcher-electron-1.7.9-linux-x64\n",
            "\u2502\u00a0\u00a0 \u2514\u2500\u2500 balenaEtcher-1.7.9-x64.AppImage\n",
            "\u251c\u2500\u2500 camerasIP\n",
            "\u2502\u00a0\u00a0 \u251c\u2500\u2500 camerasIP.py\n",
            "\u2502\u00a0\u00a0 \u251c\u2500\u2500 camerasIP.sh\n",
            "\u2502\u00a0\u00a0 \u251c\u2500\u2500 config.py\n",
            "\u2502\u00a0\u00a0 \u251c\u2500\u2500 __pycache__\n",
            "\u2502\u00a0\u00a0 \u2502\u00a0\u00a0 \u251c\u2500\u2500 config.cpython-38.pyc\n",
            "\u2502\u00a0\u00a0 \u2502\u00a0\u00a0 \u2514\u2500\u2500 config.cpython-39.pyc\n",
            "\u2502\u00a0\u00a0 \u2514\u2500\u2500 README.md\n",
            "\u251c\u2500\u2500 Documentacion\n",
            "\u2502\u00a0\u00a0 \u251c\u2500\u2500 Curriculum Vitae (5).pdf\n",
            "\u2502\u00a0\u00a0 \u251c\u2500\u2500 Firma Pris.PNG\n",
            "\u2502\u00a0\u00a0 \u2514\u2500\u2500 Firma.png\n",
            "\u251c\u2500\u2500 gstreamer\n",
            "\u2502\u00a0\u00a0 \u251c\u2500\u2500 basic_tutorial_c\n",
            "\u2502\u00a0\u00a0 \u2502\u00a0\u00a0 \u251c\u2500\u2500 basic_tutorial_1_hello_world\n",
            "\u2502\u00a0\u00a0 \u2502\u00a0\u00a0 \u2502\u00a0\u00a0 \u251c\u2500\u2500 basic-tutorial-1\n",
            "\t ...\n",
            "        \u251c\u2500\u2500 upload_page.py\n",
            "        \u2514\u2500\u2500 utils.py\n",
            "\n",
            "873 directories, 119679 files\n",
            "\n"
          ]
        }
      ],
      "source": [
        "terminal('tree', max_lines_output=20)"
      ]
    },
    {
      "cell_type": "markdown",
      "metadata": {},
      "source": [
        "But at the output we have too many lines, and this is because `tree` is a command that shows all files from the path we are in, so it's a bit difficult to read. However, with the `L` option we can tell it how many levels deep we want it to go."
      ]
    },
    {
      "cell_type": "code",
      "execution_count": 30,
      "metadata": {},
      "outputs": [
        {
          "name": "stdout",
          "output_type": "stream",
          "text": [
            ".\n",
            "\u251c\u2500\u2500 aprendiendo-git.pdf\n",
            "\u251c\u2500\u2500 balena-etcher-electron-1.7.9-linux-x64\n",
            "\u2502\u00a0\u00a0 \u2514\u2500\u2500 balenaEtcher-1.7.9-x64.AppImage\n",
            "\u251c\u2500\u2500 camerasIP\n",
            "\u2502\u00a0\u00a0 \u251c\u2500\u2500 camerasIP.py\n",
            "\u2502\u00a0\u00a0 \u251c\u2500\u2500 camerasIP.sh\n",
            "\u2502\u00a0\u00a0 \u251c\u2500\u2500 config.py\n",
            "\u2502\u00a0\u00a0 \u251c\u2500\u2500 __pycache__\n",
            "\u2502\u00a0\u00a0 \u2514\u2500\u2500 README.md\n",
            "\u251c\u2500\u2500 Documentacion\n",
            "\u2502\u00a0\u00a0 \u251c\u2500\u2500 Curriculum Vitae (5).pdf\n",
            "\u2502\u00a0\u00a0 \u251c\u2500\u2500 Firma Pris.PNG\n",
            "\u2502\u00a0\u00a0 \u2514\u2500\u2500 Firma.png\n",
            "\u251c\u2500\u2500 gstreamer\n",
            "\u2502\u00a0\u00a0 \u251c\u2500\u2500 basic_tutorial_c\n",
            "\u2502\u00a0\u00a0 \u2514\u2500\u2500 README.md\n",
            "\u251c\u2500\u2500 gstreamer_old\n",
            "\u2502\u00a0\u00a0 \u251c\u2500\u2500 basic_tutorial_c\n",
            "\u2502\u00a0\u00a0 \u2514\u2500\u2500 basic_tutorial_python\n",
            "\u251c\u2500\u2500 jetsonNano\n",
            "\u2502\u00a0\u00a0 \u251c\u2500\u2500 apuntes-Jetson-Nano\n",
            "\u2502\u00a0\u00a0 \u251c\u2500\u2500 deepstream_apps\n",
            "\u2502\u00a0\u00a0 \u251c\u2500\u2500 deepstream_nano\n",
            "\u2502\u00a0\u00a0 \u2514\u2500\u2500 Digital zoom\n",
            "\u251c\u2500\u2500 kaggle\n",
            "\u2502\u00a0\u00a0 \u2514\u2500\u2500 hubmap\n",
            "\u251c\u2500\u2500 Libros\n",
            "\u2502\u00a0\u00a0 \u2514\u2500\u2500 aprendiendo-git.pdf\n",
            "\u251c\u2500\u2500 nerf\n",
            "\u2502\u00a0\u00a0 \u2514\u2500\u2500 instant-ngp\n",
            "\u251c\u2500\u2500 prueba.txt\n",
            "\u251c\u2500\u2500 pytorch\n",
            "\u2502\u00a0\u00a0 \u2514\u2500\u2500 Curso_Pytorch\n",
            "\u251c\u2500\u2500 wallabot\n",
            "\u2502\u00a0\u00a0 \u251c\u2500\u2500 Microfono - Blue Yeti X\n",
            "\u2502\u00a0\u00a0 \u251c\u2500\u2500 placa base - Asus prime x570-p\n",
            "\u2502\u00a0\u00a0 \u2514\u2500\u2500 Silla - Corsair T3 Rush\n",
            "\u2514\u2500\u2500 web\n",
            "    \u251c\u2500\u2500 jupyter-to-html\n",
            "    \u251c\u2500\u2500 jupyter-translator\n",
            "    \u251c\u2500\u2500 portafolio\n",
            "    \u2514\u2500\u2500 wordpress_api_rest\n",
            "\n",
            "30 directories, 12 files\n",
            "\n"
          ]
        }
      ],
      "source": [
        "terminal('tree -L 2')"
      ]
    },
    {
      "cell_type": "markdown",
      "metadata": {},
      "source": [
        "We can see that it shows there are 30 directories and 12 files, while before it indicated 873 directories and 119679 files."
      ]
    },
    {
      "cell_type": "markdown",
      "metadata": {},
      "source": [
        "### Creating Folders with `mkdir` (make directory)"
      ]
    },
    {
      "cell_type": "markdown",
      "metadata": {},
      "source": [
        "If we want to create a new directory, we can use the `mkdir` (make directory) command and a name."
      ]
    },
    {
      "cell_type": "code",
      "execution_count": 31,
      "metadata": {},
      "outputs": [],
      "source": [
        "terminal(\"cd /home/wallabot/Documentos/web/portafolio/posts/\")"
      ]
    },
    {
      "cell_type": "code",
      "execution_count": 32,
      "metadata": {},
      "outputs": [
        {
          "name": "stdout",
          "output_type": "stream",
          "text": [
            "\n"
          ]
        }
      ],
      "source": [
        "terminal('mkdir prueba')"
      ]
    },
    {
      "cell_type": "code",
      "execution_count": 33,
      "metadata": {},
      "outputs": [
        {
          "name": "stdout",
          "output_type": "stream",
          "text": [
            "2021-02-11-Introduccion-a-Python.ipynb\n",
            "2021-04-23-Calculo-matricial-con-Numpy.ipynb\n",
            "2021-06-15-Manejo-de-datos-con-Pandas.ipynb\n",
            "2022-09-12 Introduccion a la terminal.ipynb\n",
            "2022-09-12 Introduccion a la terminal.txt\n",
            "command-line-cheat-sheet.pdf\n",
            "CSS.ipynb\n",
            "Docker.html\n",
            "Docker.ipynb\n",
            "Expresiones regulares.html\n",
            "Expresiones regulares.ipynb\n",
            "html_files\n",
            "html.ipynb\n",
            "introduccion_python\n",
            "movies.csv\n",
            "movies.dat\n",
            "notebooks_translated\n",
            "prueba\n",
            "__pycache__\n",
            "ssh.ipynb\n",
            "test.html\n",
            "test.ipynb\n",
            "\n"
          ]
        }
      ],
      "source": [
        "terminal('ls')"
      ]
    },
    {
      "cell_type": "markdown",
      "metadata": {},
      "source": [
        "If what we want is to create a directory with spaces in the name, we have to put the name between quotes."
      ]
    },
    {
      "cell_type": "code",
      "execution_count": 34,
      "metadata": {},
      "outputs": [
        {
          "name": "stdout",
          "output_type": "stream",
          "text": [
            "\n"
          ]
        }
      ],
      "source": [
        "terminal('mkdir \"directorio prueba\"')"
      ]
    },
    {
      "cell_type": "code",
      "execution_count": 35,
      "metadata": {},
      "outputs": [
        {
          "name": "stdout",
          "output_type": "stream",
          "text": [
            "2021-02-11-Introduccion-a-Python.ipynb\n",
            "2021-04-23-Calculo-matricial-con-Numpy.ipynb\n",
            "2021-06-15-Manejo-de-datos-con-Pandas.ipynb\n",
            "2022-09-12 Introduccion a la terminal.ipynb\n",
            "2022-09-12 Introduccion a la terminal.txt\n",
            "command-line-cheat-sheet.pdf\n",
            "CSS.ipynb\n",
            "directorio prueba\n",
            "Docker.html\n",
            "Docker.ipynb\n",
            "Expresiones regulares.html\n",
            "Expresiones regulares.ipynb\n",
            "html_files\n",
            "html.ipynb\n",
            "introduccion_python\n",
            "movies.csv\n",
            "movies.dat\n",
            "notebooks_translated\n",
            "prueba\n",
            "__pycache__\n",
            "ssh.ipynb\n",
            "test.html\n",
            "test.ipynb\n",
            "\n"
          ]
        }
      ],
      "source": [
        "terminal('ls')"
      ]
    },
    {
      "cell_type": "markdown",
      "metadata": {},
      "source": [
        "Let's go into the `prueba` folder we've created to continue working there with the terminal."
      ]
    },
    {
      "cell_type": "code",
      "execution_count": 36,
      "metadata": {},
      "outputs": [],
      "source": [
        "terminal(\"cd prueba\")"
      ]
    },
    {
      "cell_type": "markdown",
      "metadata": {},
      "source": [
        "### Creating files with `touch`"
      ]
    },
    {
      "cell_type": "markdown",
      "metadata": {},
      "source": [
        "If we want to create a file, the command we need to use is `touch`"
      ]
    },
    {
      "cell_type": "code",
      "execution_count": 37,
      "metadata": {},
      "outputs": [
        {
          "name": "stdout",
          "output_type": "stream",
          "text": [
            "\n"
          ]
        }
      ],
      "source": [
        "terminal(\"touch prueba.txt\")"
      ]
    },
    {
      "cell_type": "code",
      "execution_count": 38,
      "metadata": {},
      "outputs": [
        {
          "name": "stdout",
          "output_type": "stream",
          "text": [
            "prueba.txt\n",
            "\n"
          ]
        }
      ],
      "source": [
        "terminal(\"ls\")"
      ]
    },
    {
      "cell_type": "markdown",
      "metadata": {},
      "source": [
        "### Copy files with `cp` (copy)"
      ]
    },
    {
      "cell_type": "markdown",
      "metadata": {},
      "source": [
        "If we want to copy a file, we do it using the `cp` (copy) command."
      ]
    },
    {
      "cell_type": "code",
      "execution_count": 39,
      "metadata": {},
      "outputs": [
        {
          "name": "stdout",
          "output_type": "stream",
          "text": [
            "\n"
          ]
        }
      ],
      "source": [
        "terminal(\"cp prueba.txt prueba_copy.txt\")"
      ]
    },
    {
      "cell_type": "code",
      "execution_count": 40,
      "metadata": {},
      "outputs": [
        {
          "name": "stdout",
          "output_type": "stream",
          "text": [
            "prueba_copy.txt\n",
            "prueba.txt\n",
            "\n"
          ]
        }
      ],
      "source": [
        "terminal(\"ls\")"
      ]
    },
    {
      "cell_type": "markdown",
      "metadata": {},
      "source": [
        "### Moving files with `mv` (move)"
      ]
    },
    {
      "cell_type": "markdown",
      "metadata": {},
      "source": [
        "If what we want is to move it, what we use is the `mv` (move) command."
      ]
    },
    {
      "cell_type": "code",
      "execution_count": 41,
      "metadata": {},
      "outputs": [
        {
          "name": "stdout",
          "output_type": "stream",
          "text": [
            "\n"
          ]
        }
      ],
      "source": [
        "terminal(\"mv prueba.txt ../prueba.txt\")"
      ]
    },
    {
      "cell_type": "code",
      "execution_count": 42,
      "metadata": {},
      "outputs": [
        {
          "name": "stdout",
          "output_type": "stream",
          "text": [
            "prueba_copy.txt\n",
            "\n"
          ]
        }
      ],
      "source": [
        "terminal(\"ls\")"
      ]
    },
    {
      "cell_type": "code",
      "execution_count": 43,
      "metadata": {},
      "outputs": [
        {
          "name": "stdout",
          "output_type": "stream",
          "text": [
            "2021-02-11-Introduccion-a-Python.ipynb\n",
            "2021-04-23-Calculo-matricial-con-Numpy.ipynb\n",
            "2021-06-15-Manejo-de-datos-con-Pandas.ipynb\n",
            "2022-09-12 Introduccion a la terminal.ipynb\n",
            "2022-09-12 Introduccion a la terminal.txt\n",
            "command-line-cheat-sheet.pdf\n",
            "CSS.ipynb\n",
            "directorio prueba\n",
            "Docker.html\n",
            "Docker.ipynb\n",
            "Expresiones regulares.html\n",
            "Expresiones regulares.ipynb\n",
            "html_files\n",
            "html.ipynb\n",
            "introduccion_python\n",
            "movies.csv\n",
            "movies.dat\n",
            "notebooks_translated\n",
            "prueba\n",
            "prueba.txt\n",
            "__pycache__\n",
            "ssh.ipynb\n",
            "test.html\n",
            "test.ipynb\n",
            "\n"
          ]
        }
      ],
      "source": [
        "terminal(\"ls ../\")"
      ]
    },
    {
      "cell_type": "markdown",
      "metadata": {},
      "source": [
        "### Rename files with `mv` (move)"
      ]
    },
    {
      "cell_type": "markdown",
      "metadata": {},
      "source": [
        "The `mv` command is also useful for renaming files, since if what we do is move it within the same directory but give it a different name, in the end that is renaming the file."
      ]
    },
    {
      "cell_type": "code",
      "execution_count": 44,
      "metadata": {},
      "outputs": [
        {
          "name": "stdout",
          "output_type": "stream",
          "text": [
            "\n"
          ]
        }
      ],
      "source": [
        "terminal(\"mv prueba_copy.txt prueba_move.txt\")"
      ]
    },
    {
      "cell_type": "code",
      "execution_count": 45,
      "metadata": {},
      "outputs": [
        {
          "name": "stdout",
          "output_type": "stream",
          "text": [
            "prueba_move.txt\n",
            "\n"
          ]
        }
      ],
      "source": [
        "terminal(\"ls\")"
      ]
    },
    {
      "cell_type": "markdown",
      "metadata": {},
      "source": [
        "### Deleting files with `rm` (remove)"
      ]
    },
    {
      "cell_type": "markdown",
      "metadata": {},
      "source": [
        "To delete files or directories we use the `rm` (remove) command"
      ]
    },
    {
      "cell_type": "code",
      "execution_count": 46,
      "metadata": {},
      "outputs": [
        {
          "name": "stdout",
          "output_type": "stream",
          "text": [
            "\n"
          ]
        }
      ],
      "source": [
        "terminal(\"rm prueba_move.txt\")"
      ]
    },
    {
      "cell_type": "code",
      "execution_count": 47,
      "metadata": {},
      "outputs": [
        {
          "name": "stdout",
          "output_type": "stream",
          "text": [
            "\n"
          ]
        }
      ],
      "source": [
        "terminal(\"ls\")"
      ]
    },
    {
      "cell_type": "markdown",
      "metadata": {},
      "source": [
        "### Remove directories with `rm -r` (remove recursive)"
      ]
    },
    {
      "cell_type": "markdown",
      "metadata": {},
      "source": [
        "If we want to remove a directory with files inside, we must use the `-r` flag."
      ]
    },
    {
      "cell_type": "code",
      "execution_count": 48,
      "metadata": {},
      "outputs": [],
      "source": [
        "terminal(\"cd ..\")"
      ]
    },
    {
      "cell_type": "code",
      "execution_count": 49,
      "metadata": {},
      "outputs": [
        {
          "name": "stdout",
          "output_type": "stream",
          "text": [
            "\n"
          ]
        }
      ],
      "source": [
        "terminal('rm -r \"directorio prueba\"')"
      ]
    },
    {
      "cell_type": "code",
      "execution_count": 50,
      "metadata": {},
      "outputs": [
        {
          "name": "stdout",
          "output_type": "stream",
          "text": [
            "2021-02-11-Introduccion-a-Python.ipynb\n",
            "2021-04-23-Calculo-matricial-con-Numpy.ipynb\n",
            "2021-06-15-Manejo-de-datos-con-Pandas.ipynb\n",
            "2022-09-12 Introduccion a la terminal.ipynb\n",
            "2022-09-12 Introduccion a la terminal.txt\n",
            "command-line-cheat-sheet.pdf\n",
            "CSS.ipynb\n",
            "Docker.html\n",
            "Docker.ipynb\n",
            "Expresiones regulares.html\n",
            "Expresiones regulares.ipynb\n",
            "html_files\n",
            "html.ipynb\n",
            "introduccion_python\n",
            "movies.csv\n",
            "movies.dat\n",
            "notebooks_translated\n",
            "prueba\n",
            "prueba.txt\n",
            "__pycache__\n",
            "ssh.ipynb\n",
            "test.html\n",
            "test.ipynb\n",
            "\n"
          ]
        }
      ],
      "source": [
        "terminal(\"ls\")"
      ]
    },
    {
      "cell_type": "markdown",
      "metadata": {},
      "source": [
        "As you can see, it never asks if we are sure. To make it ask, you need to add the `-i` (`interactive`) flag."
      ]
    },
    {
      "cell_type": "code",
      "execution_count": 66,
      "metadata": {},
      "outputs": [
        {
          "name": "stdout",
          "output_type": "stream",
          "text": [
            "rm: \u00bfborrar el fichero regular vac\u00edo 'prueba.txt'? (s/n) s\n",
            "\n"
          ]
        }
      ],
      "source": [
        "terminal(\"rm -i prueba.txt\")"
      ]
    },
    {
      "attachments": {},
      "cell_type": "markdown",
      "metadata": {},
      "source": [
        "### Synchronizing files using `rsync`"
      ]
    },
    {
      "attachments": {},
      "cell_type": "markdown",
      "metadata": {},
      "source": [
        "So far we have seen how to copy, move, and delete files, but let's say we have a folder and we copy those files to another one. Now suppose we modify a file in the first folder and we want the second folder to have the changes. We have two options: either copy all the files again, or synchronize using `rsync`"
      ]
    },
    {
      "attachments": {},
      "cell_type": "markdown",
      "metadata": {},
      "source": [
        "First, let's create a new folder in which we will create several files"
      ]
    },
    {
      "cell_type": "code",
      "execution_count": 1,
      "metadata": {},
      "outputs": [],
      "source": [
        "!mkdir sourcefolder\n",
        "!touch sourcefolder/file1 sourcefolder/file2 sourcefolder/file3"
      ]
    },
    {
      "attachments": {},
      "cell_type": "markdown",
      "metadata": {},
      "source": [
        "Now we create a second folder that is the one we are going to synchronize with the first one."
      ]
    },
    {
      "cell_type": "code",
      "execution_count": 2,
      "metadata": {},
      "outputs": [],
      "source": [
        "!mkdir syncfolder"
      ]
    },
    {
      "cell_type": "code",
      "execution_count": 10,
      "metadata": {},
      "outputs": [
        {
          "name": "stdout",
          "output_type": "stream",
          "text": [
            "ls sourcefolder:\n",
            "file1  file2  file3\n",
            "ls syncfolder:\n"
          ]
        }
      ],
      "source": [
        "!echo \"ls sourcefolder:\" && ls sourcefolder && echo \"ls syncfolder:\" && ls syncfolder"
      ]
    },
    {
      "attachments": {},
      "cell_type": "markdown",
      "metadata": {},
      "source": [
        "We synchronize the two folders with `rsync`, the first time it will only copy the files from the first folder to the second. To do this, we also need to add the `-r` (recursive) flag."
      ]
    },
    {
      "cell_type": "code",
      "execution_count": 11,
      "metadata": {},
      "outputs": [],
      "source": [
        "!rsync -r sourcefolder/ syncfolder/"
      ]
    },
    {
      "cell_type": "code",
      "execution_count": 12,
      "metadata": {},
      "outputs": [
        {
          "name": "stdout",
          "output_type": "stream",
          "text": [
            "ls sourcefolder:\n",
            "file1  file2  file3\n",
            "ls syncfolder:\n",
            "file1  file2  file3\n"
          ]
        }
      ],
      "source": [
        "!echo \"ls sourcefolder:\" && ls sourcefolder && echo \"ls syncfolder:\" && ls syncfolder"
      ]
    },
    {
      "attachments": {},
      "cell_type": "markdown",
      "metadata": {},
      "source": [
        "If I now create a new file in `sourcefolder` and sync again, only that file will be copied to `syncfolder`. To see that only one file is copied, we can use the `-v` (verbose) flag."
      ]
    },
    {
      "cell_type": "code",
      "execution_count": 14,
      "metadata": {},
      "outputs": [],
      "source": [
        "!touch sourcefolder/file4"
      ]
    },
    {
      "cell_type": "code",
      "execution_count": 15,
      "metadata": {},
      "outputs": [
        {
          "name": "stdout",
          "output_type": "stream",
          "text": [
            "sending incremental file list\n",
            "file1\n",
            "file2\n",
            "file3\n",
            "file4\n",
            "\n",
            "sent 269 bytes  received 92 bytes  722.00 bytes/sec\n",
            "total size is 0  speedup is 0.00\n"
          ]
        }
      ],
      "source": [
        "!rsync -r -v sourcefolder/ syncfolder/"
      ]
    },
    {
      "attachments": {},
      "cell_type": "markdown",
      "metadata": {},
      "source": [
        "But it seems that it has copied all the files, so to prevent this and copy only the ones that have been modified, you need to use the `-u` flag."
      ]
    },
    {
      "cell_type": "code",
      "execution_count": 16,
      "metadata": {},
      "outputs": [],
      "source": [
        "!touch sourcefolder/file5"
      ]
    },
    {
      "cell_type": "code",
      "execution_count": 17,
      "metadata": {},
      "outputs": [
        {
          "name": "stdout",
          "output_type": "stream",
          "text": [
            "sending incremental file list\n",
            "file5\n",
            "\n",
            "sent 165 bytes  received 35 bytes  400.00 bytes/sec\n",
            "total size is 0  speedup is 0.00\n"
          ]
        }
      ],
      "source": [
        "!rsync -r -v -u sourcefolder/ syncfolder/"
      ]
    },
    {
      "cell_type": "code",
      "execution_count": 18,
      "metadata": {},
      "outputs": [
        {
          "name": "stdout",
          "output_type": "stream",
          "text": [
            "ls sourcefolder:\n",
            "file1  file2  file3  file4  file5\n",
            "ls syncfolder:\n",
            "file1  file2  file3  file4  file5\n"
          ]
        }
      ],
      "source": [
        "!echo \"ls sourcefolder:\" && ls sourcefolder && echo \"ls syncfolder:\" && ls syncfolder"
      ]
    },
    {
      "attachments": {},
      "cell_type": "markdown",
      "metadata": {},
      "source": [
        "And what happens if I create a new file in `syncfolder`?"
      ]
    },
    {
      "cell_type": "code",
      "execution_count": 19,
      "metadata": {},
      "outputs": [],
      "source": [
        "!touch syncfolder/file6"
      ]
    },
    {
      "cell_type": "code",
      "execution_count": 20,
      "metadata": {},
      "outputs": [
        {
          "name": "stdout",
          "output_type": "stream",
          "text": [
            "sending incremental file list\n",
            "\n",
            "sent 122 bytes  received 12 bytes  268.00 bytes/sec\n",
            "total size is 0  speedup is 0.00\n"
          ]
        }
      ],
      "source": [
        "!rsync -r -v -u sourcefolder/ syncfolder/"
      ]
    },
    {
      "cell_type": "code",
      "execution_count": 21,
      "metadata": {},
      "outputs": [
        {
          "name": "stdout",
          "output_type": "stream",
          "text": [
            "ls sourcefolder:\n",
            "file1  file2  file3  file4  file5\n",
            "ls syncfolder:\n",
            "file1  file2  file3  file4  file5  file6\n"
          ]
        }
      ],
      "source": [
        "!echo \"ls sourcefolder:\" && ls sourcefolder && echo \"ls syncfolder:\" && ls syncfolder"
      ]
    },
    {
      "attachments": {},
      "cell_type": "markdown",
      "metadata": {},
      "source": [
        "It doesn't synchronize, so it's important to keep this in mind."
      ]
    },
    {
      "attachments": {},
      "cell_type": "markdown",
      "metadata": {},
      "source": [
        "Some important flags to keep in mind are:",
        "\n",
        "* `-a`: This flag is a shortcut for several options, including `-r` (recursive), `-l` (copy symbolic links), `-p` (preserve permissions), `-t` (preserve modification time) and `-g` (preserve group). This option is useful for making an exact copy of a directory, including all its subfolders and files.",
        "* `-v`: This flag enables verbose output, which shows the files being copied and the progress of the operation.",
        "* `-r`: This flag is used for recursive copying, which means it copies all subfolders and files within a directory.",
        "* `-u`: This flag is used to copy only new or modified files. If a file already exists in the destination and is more recent than the source file, it will not be copied.",
        "* `-n`: This flag is used to perform a copy test, meaning that no changes are made to the destination.",
        "* `--exclude`: This flag is used to exclude specific files or folders from the copy operation. You can specify multiple files or folders to exclude by using this option multiple times.",
        "* `-z`: This flag is used to compress the data during transfer, which reduces the bandwidth used and speeds up the transfer rate.",
        "* `-h`: this flag is used to display the information in a more readable format, especially when working with large amounts of data or large file sizes."
      ]
    },
    {
      "attachments": {},
      "cell_type": "markdown",
      "metadata": {},
      "source": [
        "We delete the two created folders"
      ]
    },
    {
      "cell_type": "code",
      "execution_count": 22,
      "metadata": {},
      "outputs": [],
      "source": [
        "!rm -r sourcefolder syncfolder"
      ]
    },
    {
      "cell_type": "markdown",
      "metadata": {},
      "source": [
        "\n",
        "## Exploring the contents of files"
      ]
    },
    {
      "cell_type": "markdown",
      "metadata": {},
      "source": [
        "To avoid having to open a file from a graphical interface, we have several options. First, I will copy a text file into this folder."
      ]
    },
    {
      "cell_type": "code",
      "execution_count": 51,
      "metadata": {},
      "outputs": [],
      "source": [
        "terminal(\"cd prueba\")"
      ]
    },
    {
      "cell_type": "code",
      "execution_count": 52,
      "metadata": {},
      "outputs": [
        {
          "name": "stdout",
          "output_type": "stream",
          "text": [
            "\n"
          ]
        }
      ],
      "source": [
        "terminal(\"cp ../2021-02-11-Introduccion-a-Python.ipynb .\")"
      ]
    },
    {
      "cell_type": "code",
      "execution_count": 53,
      "metadata": {},
      "outputs": [
        {
          "name": "stdout",
          "output_type": "stream",
          "text": [
            "2021-02-11-Introduccion-a-Python.ipynb\n",
            "\n"
          ]
        }
      ],
      "source": [
        "terminal(\"ls\")"
      ]
    },
    {
      "cell_type": "markdown",
      "metadata": {},
      "source": [
        "### File headers with `head`"
      ]
    },
    {
      "cell_type": "markdown",
      "metadata": {},
      "source": [
        "The first command to be able to view inside a text file is `head`, which allows you to see the first 10 lines of a file, but if you add the `-n` flag, you can specify the number of lines."
      ]
    },
    {
      "cell_type": "code",
      "execution_count": 54,
      "metadata": {},
      "outputs": [
        {
          "name": "stdout",
          "output_type": "stream",
          "text": [
            "{\n",
            "  \"cells\": [\n",
            "    {\n",
            "      \"cell_type\": \"markdown\",\n",
            "      \"metadata\": {\n",
            "        \"id\": \"dsaKCKL0IxZl\"\n",
            "      },\n",
            "      \"source\": [\n",
            "        \"# Introducci\u00f3n a Python\"\n",
            "      ]\n",
            "\n"
          ]
        }
      ],
      "source": [
        "terminal(\"head 2021-02-11-Introduccion-a-Python.ipynb\")"
      ]
    },
    {
      "cell_type": "code",
      "execution_count": 55,
      "metadata": {},
      "outputs": [
        {
          "name": "stdout",
          "output_type": "stream",
          "text": [
            "{\n",
            "  \"cells\": [\n",
            "    {\n",
            "      \"cell_type\": \"markdown\",\n",
            "      \"metadata\": {\n",
            "\n"
          ]
        }
      ],
      "source": [
        "terminal(\"head -n 5 2021-02-11-Introduccion-a-Python.ipynb\")"
      ]
    },
    {
      "cell_type": "markdown",
      "metadata": {},
      "source": [
        "### Tail of a File with `tail`"
      ]
    },
    {
      "cell_type": "markdown",
      "metadata": {},
      "source": [
        "To view the last lines, we use `tail`"
      ]
    },
    {
      "cell_type": "code",
      "execution_count": 56,
      "metadata": {},
      "outputs": [
        {
          "name": "stdout",
          "output_type": "stream",
          "text": [
            "    },\n",
            "    \"vscode\": {\n",
            "      \"interpreter\": {\n",
            "        \"hash\": \"d5745ab6aba164e1152437c779991855725055592b9f2bdb41a4825db7168d26\"\n",
            "      }\n",
            "    }\n",
            "  },\n",
            "  \"nbformat\": 4,\n",
            "  \"nbformat_minor\": 0\n",
            "}\n",
            "\n"
          ]
        }
      ],
      "source": [
        "terminal(\"tail 2021-02-11-Introduccion-a-Python.ipynb\")"
      ]
    },
    {
      "cell_type": "code",
      "execution_count": 57,
      "metadata": {},
      "outputs": [
        {
          "name": "stdout",
          "output_type": "stream",
          "text": [
            "    }\n",
            "  },\n",
            "  \"nbformat\": 4,\n",
            "  \"nbformat_minor\": 0\n",
            "}\n",
            "\n"
          ]
        }
      ],
      "source": [
        "terminal(\"tail -n 5 2021-02-11-Introduccion-a-Python.ipynb\")"
      ]
    },
    {
      "cell_type": "markdown",
      "metadata": {},
      "source": [
        "If we want to continuously view the latest lines of a file, for example, if we want to constantly monitor a LOG file to see events, we add the `-f` flag. This will make the terminal continuously check the file, and every time a new line appears in it, it will display it."
      ]
    },
    {
      "cell_type": "markdown",
      "metadata": {},
      "source": [
        "For example, if I monitor the login log on my machine"
      ]
    },
    {
      "cell_type": "code",
      "execution_count": 57,
      "metadata": {},
      "outputs": [
        {
          "name": "stdout",
          "output_type": "stream",
          "text": [
            "Dec  1 16:27:22 wallabot gcr-prompter[1457]: Gcr: calling the PromptDone method on /org/gnome/keyring/Prompt/p2@:1.26, and ignoring reply\n",
            "Dec  1 16:27:22 wallabot gnome-keyring-daemon[1178]: asked to register item /org/freedesktop/secrets/collection/login/10, but it's already registered\n",
            "Dec  1 16:27:26 wallabot systemd-logind[835]: Watching system buttons on /dev/input/event28 (Logitech Wireless Mouse MX Master 3)\n",
            "Dec  1 16:27:33 wallabot gcr-prompter[1457]: Gcr: 10 second inactivity timeout, quitting\n",
            "Dec  1 16:27:33 wallabot gcr-prompter[1457]: Gcr: unregistering prompter\n",
            "Dec  1 16:27:33 wallabot gcr-prompter[1457]: Gcr: disposing prompter\n",
            "Dec  1 16:27:33 wallabot gcr-prompter[1457]: Gcr: finalizing prompter\n",
            "Dec  1 16:27:34 wallabot polkitd(authority=local): Operator of unix-session:1 successfully authenticated as unix-user:wallabot to gain TEMPORARY authorization for action org.debian.apt.install-or-remove-packages for system-bus-name::1.96 [/usr/bin/python3 /usr/bin/update-manager --no-update --no-focus-on-map] (owned by unix-user:wallabot)\n",
            "Dec  1 16:27:42 wallabot systemd-logind[835]: Watching system buttons on /dev/input/event30 (T9-R (AVRCP))\n",
            "Dec  1 16:27:49 wallabot gnome-keyring-daemon[1178]: asked to register item /org/freedesktop/secrets/collection/login/2, but it's already registered\n"
          ]
        }
      ],
      "source": [
        "!tail -f /var/log/auth.log"
      ]
    },
    {
      "cell_type": "markdown",
      "metadata": {},
      "source": [
        "We see in the last two lines my login when I turned on my computer today."
      ]
    },
    {
      "cell_type": "markdown",
      "metadata": {},
      "source": [
        "Now I connect to my own machine via SSH"
      ]
    },
    {
      "cell_type": "code",
      "execution_count": 57,
      "metadata": {},
      "outputs": [
        {
          "name": "stdout",
          "output_type": "stream",
          "text": [
            "wallabot@localhost's password: \n",
            "Welcome to Ubuntu 20.04.5 LTS (GNU/Linux 5.15.0-53-generic x86_64)\n",
            "\n",
            " * Documentation:  https://help.ubuntu.com\n",
            " * Management:     https://landscape.canonical.com\n",
            " * Support:        https://ubuntu.com/advantage\n",
            "\n",
            "1 device has a firmware upgrade available.\n",
            "Run `fwupdmgr get-upgrades` for more information.\n",
            "\n",
            "\n",
            "Se pueden aplicar 0 actualizaciones de forma inmediata.\n",
            "\n",
            "Your Hardware Enablement Stack (HWE) is supported until April 2025.\n",
            "*** System restart required ***\n",
            "Last login: Sun May  8 02:18:09 2022 from 192.168.1.147\n"
          ]
        }
      ],
      "source": [
        "!ssh localhost"
      ]
    },
    {
      "cell_type": "markdown",
      "metadata": {},
      "source": [
        "In the console where I was monitoring the login, two new lines have appeared."
      ]
    },
    {
      "cell_type": "code",
      "execution_count": 57,
      "metadata": {},
      "outputs": [
        {
          "name": "stdout",
          "output_type": "stream",
          "text": [
            "Dec  1 16:32:23 wallabot sshd[25647]: Accepted password for wallabot from 127.0.0.1 port 54668 ssh2\n",
            "Dec  1 16:32:23 wallabot sshd[25647]: pam_unix(sshd:session): session opened for user wallabot by (uid=0)\n",
            "Dec  1 16:32:23 wallabot systemd-logind[835]: New session 4 of user wallabot.\n"
          ]
        }
      ],
      "source": []
    },
    {
      "cell_type": "markdown",
      "metadata": {},
      "source": [
        "And when I close the SSH session, two new lines appear."
      ]
    },
    {
      "cell_type": "code",
      "execution_count": 57,
      "metadata": {},
      "outputs": [
        {
          "name": "stdout",
          "output_type": "stream",
          "text": [
            "Dec  1 16:33:52 wallabot sshd[25647]: pam_unix(sshd:session): session closed for user wallabot\n",
            "Dec  1 16:33:52 wallabot systemd-logind[835]: Session 4 logged out. Waiting for processes to exit.\n",
            "Dec  1 16:33:52 wallabot systemd-logind[835]: Removed session 4.\n"
          ]
        }
      ],
      "source": []
    },
    {
      "cell_type": "markdown",
      "metadata": {},
      "source": [
        "### The most powerful file viewer: `less`"
      ]
    },
    {
      "cell_type": "markdown",
      "metadata": {},
      "source": [
        "One of the most powerful commands for viewing inside files is `less`"
      ]
    },
    {
      "cell_type": "code",
      "execution_count": 58,
      "metadata": {},
      "outputs": [
        {
          "name": "stdout",
          "output_type": "stream",
          "text": [
            "{\n",
            "  \"cells\": [\n",
            "    {\n",
            "      \"cell_type\": \"markdown\",\n",
            "      \"metadata\": {\n",
            "        \"id\": \"dsaKCKL0IxZl\"\n",
            "      },\n",
            "      \"source\": [\n",
            "        \"# Introducci\u00f3n a Python\"\n",
            "      ]\n",
            "    },\n",
            "    {\n",
            "      \"cell_type\": \"markdown\",\n",
            "      \"metadata\": {\n",
            "        \"id\": \"Ho_8zgIiI0We\"\n",
            "      },\n",
            "      \"source\": [\n",
            "        \"## 1. Resumen\"\n",
            "      ]\n",
            "    },\n",
            "\t ...\n",
            "  },\n",
            "  \"nbformat\": 4,\n",
            "  \"nbformat_minor\": 0\n",
            "}\n",
            "\n"
          ]
        }
      ],
      "source": [
        "terminal(\"less 2021-02-11-Introduccion-a-Python.ipynb\", max_lines_output=20)"
      ]
    },
    {
      "cell_type": "markdown",
      "metadata": {},
      "source": [
        "When inside a notebook, you can't really see what happens when using `less`, but when we use it, we enter the document and can navigate through it using the keyboard or the mouse.",
        "\n",
        "If we want to search for something within the document, we type the character `/` followed by what we want to search for. To navigate between the different instances found, press the key `n`, and if you want to go back in the searches, press `shift+n`.",
        "\n",
        "To exit, just press `q`"
      ]
    },
    {
      "cell_type": "markdown",
      "metadata": {},
      "source": [
        "### The `cat` viewer"
      ]
    },
    {
      "cell_type": "markdown",
      "metadata": {},
      "source": [
        "It does not allow you to navigate through the file or perform searches."
      ]
    },
    {
      "cell_type": "code",
      "execution_count": 64,
      "metadata": {},
      "outputs": [
        {
          "name": "stdout",
          "output_type": "stream",
          "text": [
            "{\n",
            "  \"cells\": [\n",
            "    {\n",
            "      \"cell_type\": \"markdown\",\n",
            "      \"metadata\": {\n",
            "        \"id\": \"dsaKCKL0IxZl\"\n",
            "      },\n",
            "      \"source\": [\n",
            "        \"# Introducci\u00f3n a Python\"\n",
            "      ]\n",
            "    },\n",
            "    {\n",
            "      \"cell_type\": \"markdown\",\n",
            "      \"metadata\": {\n",
            "        \"id\": \"Ho_8zgIiI0We\"\n",
            "      },\n",
            "      \"source\": [\n",
            "        \"## 1. Resumen\"\n",
            "      ]\n",
            "    },\n",
            "\t ...\n",
            "  },\n",
            "  \"nbformat\": 4,\n",
            "  \"nbformat_minor\": 0\n",
            "}\n",
            "\n"
          ]
        }
      ],
      "source": [
        "terminal(\"cat 2021-02-11-Introduccion-a-Python.ipynb\", max_lines_output=20)"
      ]
    },
    {
      "cell_type": "markdown",
      "metadata": {},
      "source": [
        "### Default system editor `xdg-open`"
      ]
    },
    {
      "cell_type": "markdown",
      "metadata": {},
      "source": [
        "If we want to open it with the default file editor, we have to use `xdg-open`"
      ]
    },
    {
      "cell_type": "code",
      "execution_count": 59,
      "metadata": {},
      "outputs": [
        {
          "name": "stdout",
          "output_type": "stream",
          "text": [
            "\n"
          ]
        }
      ],
      "source": [
        "terminal(\"xdg-open 2021-02-11-Introducci\u00f3n-a-Python.ipynb\")"
      ]
    },
    {
      "cell_type": "markdown",
      "metadata": {},
      "source": [
        "### File browser `nautilus`"
      ]
    },
    {
      "cell_type": "markdown",
      "metadata": {},
      "source": [
        "If what we want is to open the folder we are in, we use `nautilus`"
      ]
    },
    {
      "cell_type": "code",
      "execution_count": 60,
      "metadata": {},
      "outputs": [
        {
          "name": "stdout",
          "output_type": "stream",
          "text": [
            "\n"
          ]
        }
      ],
      "source": [
        "terminal(\"nautilus\")"
      ]
    },
    {
      "cell_type": "markdown",
      "metadata": {},
      "source": [
        "And if we want it to open at a specific path, the path is included."
      ]
    },
    {
      "cell_type": "code",
      "execution_count": 62,
      "metadata": {},
      "outputs": [
        {
          "name": "stdout",
          "output_type": "stream",
          "text": [
            "\n"
          ]
        }
      ],
      "source": [
        "terminal(\"nautilus ~/\")"
      ]
    },
    {
      "cell_type": "markdown",
      "metadata": {},
      "source": [
        "### Word count of a file with `wc` (word count)"
      ]
    },
    {
      "cell_type": "markdown",
      "metadata": {},
      "source": [
        "Lastly, a very useful command is `wc` (word count), which shows you how many lines, words, and bytes a file contains."
      ]
    },
    {
      "cell_type": "code",
      "execution_count": 63,
      "metadata": {},
      "outputs": [
        {
          "name": "stdout",
          "output_type": "stream",
          "text": [
            " 11678  25703 285898 2021-02-11-Introduccion-a-Python.ipynb\n",
            "\n"
          ]
        }
      ],
      "source": [
        "terminal(\"wc 2021-02-11-Introduccion-a-Python.ipynb\")"
      ]
    },
    {
      "cell_type": "markdown",
      "metadata": {},
      "source": [
        "As we can see, the file has 11678 lines, 25703 words, and occupies 285898 bytes."
      ]
    },
    {
      "cell_type": "markdown",
      "metadata": {},
      "source": [
        "## What is a command?"
      ]
    },
    {
      "cell_type": "markdown",
      "metadata": {},
      "source": [
        "A command can be four things",
        "* An executable program, these are usually saved in the path `/usr/bin`",
        "* A shell command",
        "* A shell function",
        "* An alias"
      ]
    },
    {
      "cell_type": "markdown",
      "metadata": {},
      "source": [
        "To see which class a command belongs to, we use `type`"
      ]
    },
    {
      "cell_type": "code",
      "execution_count": 65,
      "metadata": {},
      "outputs": [
        {
          "name": "stdout",
          "output_type": "stream",
          "text": [
            "cd is a shell builtin\n"
          ]
        }
      ],
      "source": [
        "!type cd"
      ]
    },
    {
      "cell_type": "code",
      "execution_count": 66,
      "metadata": {},
      "outputs": [
        {
          "name": "stdout",
          "output_type": "stream",
          "text": [
            "mkdir is /usr/bin/mkdir\n"
          ]
        }
      ],
      "source": [
        "!type mkdir"
      ]
    },
    {
      "cell_type": "code",
      "execution_count": 67,
      "metadata": {},
      "outputs": [
        {
          "name": "stdout",
          "output_type": "stream",
          "text": [
            "ls is /usr/bin/ls\n"
          ]
        }
      ],
      "source": [
        "!type ls"
      ]
    },
    {
      "cell_type": "markdown",
      "metadata": {},
      "source": [
        "## What is an alias?"
      ]
    },
    {
      "cell_type": "markdown",
      "metadata": {},
      "source": [
        "An alias is a command that we define, it is defined using the `alias` command. For example, let's create the alias `l` which will run `ls -h`."
      ]
    },
    {
      "cell_type": "code",
      "execution_count": 68,
      "metadata": {},
      "outputs": [],
      "source": [
        "!alias l='ls -l'"
      ]
    },
    {
      "cell_type": "markdown",
      "metadata": {},
      "source": [
        "When we run `l` it shows the result of `ls -h`"
      ]
    },
    {
      "cell_type": "code",
      "execution_count": 67,
      "metadata": {},
      "outputs": [
        {
          "name": "stdout",
          "output_type": "stream",
          "text": [
            "2021-02-11-Introducci\u00f3n-a-Python.ipynb\n"
          ]
        }
      ],
      "source": [
        "!l"
      ]
    },
    {
      "cell_type": "markdown",
      "metadata": {},
      "source": [
        "But this has the problem that when we close the terminal, the `alias` disappears. Later on, we will learn how to create permanent `alias`."
      ]
    },
    {
      "cell_type": "markdown",
      "metadata": {},
      "source": [
        "## Command Help"
      ]
    },
    {
      "cell_type": "markdown",
      "metadata": {},
      "source": [
        "### Help with `help`"
      ]
    },
    {
      "cell_type": "markdown",
      "metadata": {},
      "source": [
        "With many shell commands, we can get their help using the `help` command."
      ]
    },
    {
      "cell_type": "code",
      "execution_count": 67,
      "metadata": {},
      "outputs": [
        {
          "name": "stdout",
          "output_type": "stream",
          "text": [
            "cd: cd [-L|[-P [-e]]] [dir]\n",
            "    Modifica el directorio de trabajo del shell.\n",
            "    \n",
            "    Modifica el directorio actual a DIR.  DIR por defecto es el valor de la\n",
            "    variable de shell HOME.\n",
            "    \n",
            "    La variable CDPATH define la ruta de b\u00fasqueda para el directorio que\n",
            "    contiene DIR.  Los nombres alternativos de directorio en CDPATH se\n",
            "    separan con dos puntos (:).  Un nombre de directorio nulo es igual que\n",
            "    el directorio actual.  Si DIR comienza con una barra inclinada (/),\n",
            "    entonces no se usa CDPATH.\n",
            "    \n",
            "    Si no se encuentra el directorio, y la opci\u00f3n del shell \"cdable_vars\"\n",
            "    est\u00e1 activa, entonces se trata la palabra como un nombre de variable.\n",
            "    Si esa variable tiene un valor, se utiliza su valor para DIR.\n",
            "    \n",
            "    Opciones:\n",
            "      -L\tfuerza a seguir los enlaces simb\u00f3licos: resuelve los enlaces\n",
            "    \t\tsimb\u00f3licos en DIR despu\u00e9s de procesar las instancias de \"..\"\n",
            "      -P\tusa la estructura f\u00edsica de directorios sin seguir los enlaces\n",
            "    \t\tsimb\u00f3licos: resuelve los enlaces simb\u00f3licos en DIR antes de procesar\n",
            "    \t\tlas instancias de \"..\"\n",
            "      -e\tsi se da la opci\u00f3n -P y el directorio actual de trabajo no se\n",
            "    \t\tpuede determinar con \u00e9xito, termina con un estado diferente de cero.\n",
            "    \n",
            "    La acci\u00f3n por defecto es seguir los enlaces simb\u00f3licos, como si se\n",
            "    especificara \"-L\".\n",
            "    \"..\" se procesa quitando la componente del nombre de la ruta inmediatamente\n",
            "    anterior hasta una barra inclinada o el comienzo de DIR.\n",
            "    \n",
            "    Estado de Salida:\n",
            "    Devuelve 0 si se cambia el directorio, y si $PWD est\u00e1 definido como\n",
            "    correcto cuando se emplee -P; de otra forma es diferente a cero.\n"
          ]
        }
      ],
      "source": [
        "!help cd"
      ]
    },
    {
      "cell_type": "markdown",
      "metadata": {},
      "source": [
        "### Manual with `man`"
      ]
    },
    {
      "cell_type": "markdown",
      "metadata": {},
      "source": [
        "Another command is `man`, which refers to the user manual."
      ]
    },
    {
      "cell_type": "code",
      "execution_count": 70,
      "metadata": {},
      "outputs": [
        {
          "name": "stdout",
          "output_type": "stream",
          "text": [
            "LS(1)                            User Commands                           LS(1)\n",
            "\n",
            "NAME\n",
            "       ls - list directory contents\n",
            "\n",
            "SYNOPSIS\n",
            "       ls [OPTION]... [FILE]...\n",
            "\n",
            "DESCRIPTION\n",
            "       List  information  about  the FILEs (the current directory by default).\n",
            "       Sort entries alphabetically if none of -cftuvSUX nor --sort  is  speci\u2010\n",
            "       fied.\n",
            "\n",
            "       Mandatory  arguments  to  long  options are mandatory for short options\n",
            "       too.\n",
            "\n",
            "       -a, --all\n",
            "              do not ignore entries starting with .\n",
            "\n",
            "       -A, --almost-all\n",
            "\t ...\n",
            "       Full documentation at: <https://www.gnu.org/software/coreutils/ls>\n",
            "       or available locally via: info '(coreutils) ls invocation'\n",
            "\n",
            "GNU coreutils 8.30              September 2019                           LS(1)\n",
            "\n"
          ]
        }
      ],
      "source": [
        "terminal(\"man ls\", max_lines_output=20)"
      ]
    },
    {
      "cell_type": "markdown",
      "metadata": {},
      "source": [
        "To exit, press `q`, since `man` uses `less` as the manual viewer"
      ]
    },
    {
      "cell_type": "markdown",
      "metadata": {},
      "source": [
        "### Information with `info`"
      ]
    },
    {
      "cell_type": "markdown",
      "metadata": {},
      "source": [
        "Another command is `info`"
      ]
    },
    {
      "cell_type": "code",
      "execution_count": 71,
      "metadata": {},
      "outputs": [
        {
          "name": "stdout",
          "output_type": "stream",
          "text": [
            "File: coreutils.info,  Node: ls invocation,  Next: dir invocation,  Up: Directory listing\n",
            "\n",
            "10.1 \u2018ls\u2019: List directory contents\n",
            "==================================\n",
            "\n",
            "The \u2018ls\u2019 program lists information about files (of any type, including\n",
            "directories).  Options and file arguments can be intermixed arbitrarily,\n",
            "as usual.\n",
            "\n",
            "   For non-option command-line arguments that are directories, by\n",
            "default \u2018ls\u2019 lists the contents of directories, not recursively, and\n",
            "omitting files with names beginning with \u2018.\u2019.  For other non-option\n",
            "arguments, by default \u2018ls\u2019 lists just the file name.  If no non-option\n",
            "argument is specified, \u2018ls\u2019 operates on the current directory, acting as\n",
            "if it had been invoked with a single argument of \u2018.\u2019.\n",
            "\n",
            "   By default, the output is sorted alphabetically, according to the\n",
            "locale settings in effect.(1)  If standard output is a terminal, the\n",
            "output is in columns (sorted vertically) and control characters are\n",
            "output as question marks; otherwise, the output is listed one per line\n",
            "\t ...\n",
            "\u2018--show-control-chars\u2019\n",
            "     Print nongraphic characters as-is in file names.  This is the\n",
            "     default unless the output is a terminal and the program is \u2018ls\u2019.\n",
            "\n",
            "\n"
          ]
        }
      ],
      "source": [
        "terminal(\"info ls\", max_lines_output=20)"
      ]
    },
    {
      "cell_type": "markdown",
      "metadata": {},
      "source": [
        "To exit, press `q`, since `info` uses `less` as the information viewer"
      ]
    },
    {
      "cell_type": "markdown",
      "metadata": {},
      "source": [
        "### Information of a command with `whatis`"
      ]
    },
    {
      "cell_type": "markdown",
      "metadata": {},
      "source": [
        "Another command is `whatis`"
      ]
    },
    {
      "cell_type": "code",
      "execution_count": 72,
      "metadata": {},
      "outputs": [
        {
          "name": "stdout",
          "output_type": "stream",
          "text": [
            "ls (1)               - list directory contents\n",
            "\n"
          ]
        }
      ],
      "source": [
        "terminal(\"whatis ls\")"
      ]
    },
    {
      "cell_type": "markdown",
      "metadata": {},
      "source": [
        "## Wildcards"
      ]
    },
    {
      "cell_type": "markdown",
      "metadata": {},
      "source": [
        "Wildcards are special characters that we can use to perform special searches. For example, if I want to search for all files that end in `.txt`. Let's create a few files to see them."
      ]
    },
    {
      "cell_type": "code",
      "execution_count": 73,
      "metadata": {},
      "outputs": [
        {
          "name": "stdout",
          "output_type": "stream",
          "text": [
            "\n"
          ]
        }
      ],
      "source": [
        "terminal(\"touch file.txt dot.txt dot2.txt index.html datos1 datos123 Abc\")"
      ]
    },
    {
      "cell_type": "code",
      "execution_count": 74,
      "metadata": {},
      "outputs": [
        {
          "name": "stdout",
          "output_type": "stream",
          "text": [
            "2021-02-11-Introduccion-a-Python.ipynb\n",
            "Abc\n",
            "datos1\n",
            "datos123\n",
            "dot2.txt\n",
            "dot.txt\n",
            "file.txt\n",
            "index.html\n",
            "\n"
          ]
        }
      ],
      "source": [
        "terminal(\"ls\")"
      ]
    },
    {
      "cell_type": "markdown",
      "metadata": {},
      "source": [
        "### All the characters `*`"
      ]
    },
    {
      "cell_type": "markdown",
      "metadata": {},
      "source": [
        "Let's now look for all the `.txt` files"
      ]
    },
    {
      "cell_type": "code",
      "execution_count": 75,
      "metadata": {},
      "outputs": [
        {
          "name": "stdout",
          "output_type": "stream",
          "text": [
            "dot2.txt  dot.txt  file.txt\n"
          ]
        }
      ],
      "source": [
        "!ls *.txt"
      ]
    },
    {
      "cell_type": "markdown",
      "metadata": {},
      "source": [
        "Let's now look for all those that start with the word `data`"
      ]
    },
    {
      "cell_type": "code",
      "execution_count": 76,
      "metadata": {},
      "outputs": [
        {
          "name": "stdout",
          "output_type": "stream",
          "text": [
            "datos1\tdatos123\n"
          ]
        }
      ],
      "source": [
        "!ls datos*"
      ]
    },
    {
      "cell_type": "markdown",
      "metadata": {},
      "source": [
        "### Numbers `?`"
      ]
    },
    {
      "cell_type": "markdown",
      "metadata": {},
      "source": [
        "But what if what we actually want is to show all files that start with the word `datos` followed only by a number, we have to put a question mark `?`"
      ]
    },
    {
      "cell_type": "code",
      "execution_count": 76,
      "metadata": {},
      "outputs": [
        {
          "name": "stdout",
          "output_type": "stream",
          "text": [
            "datos1\n"
          ]
        }
      ],
      "source": [
        "!ls datos?"
      ]
    },
    {
      "cell_type": "markdown",
      "metadata": {},
      "source": [
        "If we want it to have three numbers, then we need to put three question marks `???`"
      ]
    },
    {
      "cell_type": "code",
      "execution_count": 76,
      "metadata": {},
      "outputs": [
        {
          "name": "stdout",
          "output_type": "stream",
          "text": [
            "datos123\n"
          ]
        }
      ],
      "source": [
        "!ls datos???"
      ]
    },
    {
      "cell_type": "markdown",
      "metadata": {},
      "source": [
        "### Uppercase `[[:upper:]]`"
      ]
    },
    {
      "cell_type": "markdown",
      "metadata": {},
      "source": [
        "If we want it to search for files that start with uppercase letters"
      ]
    },
    {
      "cell_type": "code",
      "execution_count": 76,
      "metadata": {},
      "outputs": [
        {
          "name": "stdout",
          "output_type": "stream",
          "text": [
            "Abc\n"
          ]
        }
      ],
      "source": [
        "!ls [[:upper:]]*"
      ]
    },
    {
      "cell_type": "markdown",
      "metadata": {},
      "source": [
        "### Lowercase `[[:lower:]]`"
      ]
    },
    {
      "cell_type": "markdown",
      "metadata": {},
      "source": [
        "For files that start with lowercase letters."
      ]
    },
    {
      "cell_type": "code",
      "execution_count": 76,
      "metadata": {},
      "outputs": [
        {
          "name": "stdout",
          "output_type": "stream",
          "text": [
            "datos1  datos123  dot2.txt  dot.txt  file.txt  index.html\n"
          ]
        }
      ],
      "source": [
        "!ls [[:lower:]]*"
      ]
    },
    {
      "cell_type": "markdown",
      "metadata": {},
      "source": [
        "### Classes"
      ]
    },
    {
      "cell_type": "markdown",
      "metadata": {},
      "source": [
        "By using brackets we can create classes, so if we want to search for files that start with the letters `d` or `f` followed by any character"
      ]
    },
    {
      "cell_type": "code",
      "execution_count": 76,
      "metadata": {},
      "outputs": [
        {
          "name": "stdout",
          "output_type": "stream",
          "text": [
            "datos1  datos123  dot2.txt  dot.txt  file.txt\n"
          ]
        }
      ],
      "source": [
        "!ls [df]*"
      ]
    },
    {
      "cell_type": "markdown",
      "metadata": {},
      "source": [
        "## Redirects: How the Shell Works"
      ]
    },
    {
      "cell_type": "markdown",
      "metadata": {},
      "source": [
        "A command works as follows",
        "\n",
        "![pipeline command](https://ptgmedia.pearsoncmg.com/images/chap5_9780133927313/elementLinks/05fig02_alt.jpg)",
        "\n",
        "It has a `standard input`, which by default is the text we enter via the keyboard, a `standard output`, which by default is the text that appears on the console, and a `standard error` which is also, by default, text that appears on the console but with a different format."
      ]
    },
    {
      "cell_type": "markdown",
      "metadata": {},
      "source": [
        "### Redirecting `standard output`"
      ]
    },
    {
      "cell_type": "markdown",
      "metadata": {},
      "source": [
        "But with the character `>`, we can modify the `standard output` of a command. For example, if we want to list the files in the folder we are in using `ls`, but we don't want the result to be printed on the screen, instead we want it to be saved in a file, we would do the following: `ls > lista.txt`. This writes the list to `lista.txt`. Additionally, if `lista.txt` does not exist, it creates it."
      ]
    },
    {
      "cell_type": "code",
      "execution_count": 77,
      "metadata": {},
      "outputs": [],
      "source": [
        "!ls > lista.txt"
      ]
    },
    {
      "cell_type": "markdown",
      "metadata": {},
      "source": [
        "We see that you have created the file and we check what is inside"
      ]
    },
    {
      "cell_type": "code",
      "execution_count": 78,
      "metadata": {},
      "outputs": [
        {
          "name": "stdout",
          "output_type": "stream",
          "text": [
            "2021-02-11-Introduccion-a-Python.ipynb\n",
            "Abc\n",
            "datos1\n",
            "datos123\n",
            "dot2.txt\n",
            "dot.txt\n",
            "file.txt\n",
            "index.html\n",
            "lista.txt\n",
            "\n"
          ]
        }
      ],
      "source": [
        "terminal(\"ls\")"
      ]
    },
    {
      "cell_type": "code",
      "execution_count": 79,
      "metadata": {},
      "outputs": [
        {
          "name": "stdout",
          "output_type": "stream",
          "text": [
            "2021-02-11-Introduccion-a-Python.ipynb\n",
            "Abc\n",
            "datos1\n",
            "datos123\n",
            "dot2.txt\n",
            "dot.txt\n",
            "file.txt\n",
            "index.html\n",
            "lista.txt\n",
            "\n"
          ]
        }
      ],
      "source": [
        "terminal(\"cat lista.txt\")"
      ]
    },
    {
      "cell_type": "markdown",
      "metadata": {},
      "source": [
        "We see that within `lista.txt` appears `lista.txt`, this is because it first creates the file and then executes the command"
      ]
    },
    {
      "cell_type": "markdown",
      "metadata": {},
      "source": [
        "We do the same, but with the parent folder"
      ]
    },
    {
      "cell_type": "code",
      "execution_count": 80,
      "metadata": {},
      "outputs": [],
      "source": [
        "!ls ../ > lista.txt"
      ]
    },
    {
      "cell_type": "markdown",
      "metadata": {},
      "source": [
        "If we look inside `lista.txt` again"
      ]
    },
    {
      "cell_type": "code",
      "execution_count": 81,
      "metadata": {},
      "outputs": [
        {
          "name": "stdout",
          "output_type": "stream",
          "text": [
            "2021-02-11-Introduccion-a-Python.ipynb\n",
            "2021-04-23-Calculo-matricial-con-Numpy.ipynb\n",
            "2021-06-15-Manejo-de-datos-con-Pandas.ipynb\n",
            "2022-09-12 Introduccion a la terminal.ipynb\n",
            "2022-09-12 Introduccion a la terminal.txt\n",
            "command-line-cheat-sheet.pdf\n",
            "CSS.ipynb\n",
            "Docker.html\n",
            "Docker.ipynb\n",
            "Expresiones regulares.html\n",
            "Expresiones regulares.ipynb\n",
            "html_files\n",
            "html.ipynb\n",
            "introduccion_python\n",
            "movies.csv\n",
            "movies.dat\n",
            "notebooks_translated\n",
            "prueba\n",
            "__pycache__\n",
            "ssh.ipynb\n",
            "test.html\n",
            "test.ipynb\n",
            "\n"
          ]
        }
      ],
      "source": [
        "terminal(\"cat lista.txt\")"
      ]
    },
    {
      "cell_type": "markdown",
      "metadata": {},
      "source": [
        "We see that the content is being overwritten"
      ]
    },
    {
      "cell_type": "markdown",
      "metadata": {},
      "source": [
        "If what we want is for the content to be concatenated, we should use `>>`"
      ]
    },
    {
      "cell_type": "code",
      "execution_count": 82,
      "metadata": {},
      "outputs": [],
      "source": [
        "!ls > lista.txt"
      ]
    },
    {
      "cell_type": "code",
      "execution_count": 83,
      "metadata": {},
      "outputs": [],
      "source": [
        "!ls ../ >> lista.txt"
      ]
    },
    {
      "cell_type": "code",
      "execution_count": 84,
      "metadata": {},
      "outputs": [
        {
          "name": "stdout",
          "output_type": "stream",
          "text": [
            "2021-02-11-Introduccion-a-Python.ipynb\n",
            "Abc\n",
            "datos1\n",
            "datos123\n",
            "dot2.txt\n",
            "dot.txt\n",
            "file.txt\n",
            "index.html\n",
            "lista.txt\n",
            "2021-02-11-Introduccion-a-Python.ipynb\n",
            "2021-04-23-Calculo-matricial-con-Numpy.ipynb\n",
            "2021-06-15-Manejo-de-datos-con-Pandas.ipynb\n",
            "2022-09-12 Introduccion a la terminal.ipynb\n",
            "2022-09-12 Introduccion a la terminal.txt\n",
            "command-line-cheat-sheet.pdf\n",
            "CSS.ipynb\n",
            "Docker.html\n",
            "Docker.ipynb\n",
            "Expresiones regulares.html\n",
            "Expresiones regulares.ipynb\n",
            "html_files\n",
            "html.ipynb\n",
            "introduccion_python\n",
            "movies.csv\n",
            "movies.dat\n",
            "notebooks_translated\n",
            "prueba\n",
            "__pycache__\n",
            "ssh.ipynb\n",
            "test.html\n",
            "test.ipynb\n",
            "\n"
          ]
        }
      ],
      "source": [
        "terminal(\"cat lista.txt\")"
      ]
    },
    {
      "cell_type": "markdown",
      "metadata": {},
      "source": [
        "Now the information has been concatenated."
      ]
    },
    {
      "cell_type": "markdown",
      "metadata": {},
      "source": [
        "This is very useful for creating log files"
      ]
    },
    {
      "cell_type": "markdown",
      "metadata": {},
      "source": [
        "### Redirecting `standard error`"
      ]
    },
    {
      "cell_type": "markdown",
      "metadata": {},
      "source": [
        "If we perform an incorrect operation, we get an error. Let's see what happens when redirecting a command that produces an error."
      ]
    },
    {
      "cell_type": "code",
      "execution_count": 85,
      "metadata": {},
      "outputs": [
        {
          "name": "stdout",
          "output_type": "stream",
          "text": [
            "ls: no se puede acceder a 'fjhdsalkfs': No existe el archivo o el directorio\n"
          ]
        }
      ],
      "source": [
        "!ls fjhdsalkfs > lista.txt"
      ]
    },
    {
      "cell_type": "markdown",
      "metadata": {},
      "source": [
        "As we can see, it has given an error, but if we now look inside `lista.txt`"
      ]
    },
    {
      "cell_type": "code",
      "execution_count": 86,
      "metadata": {},
      "outputs": [
        {
          "name": "stdout",
          "output_type": "stream",
          "text": [
            "\n"
          ]
        }
      ],
      "source": [
        "terminal(\"cat lista.txt\")"
      ]
    },
    {
      "cell_type": "markdown",
      "metadata": {},
      "source": [
        "We see that the file is empty, this is because we have not redirected the `standard error` to `lista.txt`, but rather the `standard output`. As shown in the image, there are two standards of output in a command: the first is the `standard output` and the second is the `standard error`, so to redirect the standard error, it must be specified using `2>`. Let's do it this way now."
      ]
    },
    {
      "cell_type": "code",
      "execution_count": 87,
      "metadata": {},
      "outputs": [],
      "source": [
        "!ls kjhsfskjd 2> lista.txt"
      ]
    },
    {
      "cell_type": "code",
      "execution_count": 88,
      "metadata": {},
      "outputs": [
        {
          "name": "stdout",
          "output_type": "stream",
          "text": [
            "ls: no se puede acceder a 'kjhsfskjd': No existe el archivo o el directorio\n",
            "\n"
          ]
        }
      ],
      "source": [
        "terminal(\"cat lista.txt\")"
      ]
    },
    {
      "cell_type": "markdown",
      "metadata": {},
      "source": [
        "As we can see, the redirection has now been successful."
      ]
    },
    {
      "cell_type": "markdown",
      "metadata": {},
      "source": [
        "### Redirection of `standard output` and `standard error`"
      ]
    },
    {
      "cell_type": "markdown",
      "metadata": {},
      "source": [
        "If we want to redirect both, we use the following"
      ]
    },
    {
      "cell_type": "code",
      "execution_count": 89,
      "metadata": {},
      "outputs": [],
      "source": [
        "!ls kjhsfskjd > lista.txt 2>&1"
      ]
    },
    {
      "cell_type": "markdown",
      "metadata": {},
      "source": [
        "Let's take a look inside `lista.txt`"
      ]
    },
    {
      "cell_type": "code",
      "execution_count": 90,
      "metadata": {},
      "outputs": [
        {
          "name": "stdout",
          "output_type": "stream",
          "text": [
            "ls: no se puede acceder a 'kjhsfskjd': No existe el archivo o el directorio\n",
            "\n"
          ]
        }
      ],
      "source": [
        "terminal(\"cat lista.txt\")"
      ]
    },
    {
      "cell_type": "markdown",
      "metadata": {},
      "source": [
        "If we now run a command without errors"
      ]
    },
    {
      "cell_type": "code",
      "execution_count": 91,
      "metadata": {},
      "outputs": [],
      "source": [
        "!ls . >> lista.txt 2>&1"
      ]
    },
    {
      "cell_type": "markdown",
      "metadata": {},
      "source": [
        "Let's check inside `lista.txt` (**note**, now we have concatenated)"
      ]
    },
    {
      "cell_type": "code",
      "execution_count": 92,
      "metadata": {},
      "outputs": [
        {
          "name": "stdout",
          "output_type": "stream",
          "text": [
            "ls: no se puede acceder a 'kjhsfskjd': No existe el archivo o el directorio\n",
            "2021-02-11-Introduccion-a-Python.ipynb\n",
            "Abc\n",
            "datos1\n",
            "datos123\n",
            "dot2.txt\n",
            "dot.txt\n",
            "file.txt\n",
            "index.html\n",
            "lista.txt\n",
            "\n"
          ]
        }
      ],
      "source": [
        "terminal(\"cat lista.txt\")"
      ]
    },
    {
      "cell_type": "markdown",
      "metadata": {},
      "source": [
        "As can be seen, both the `standard error` and the `standard output` have been redirected to the same file."
      ]
    },
    {
      "cell_type": "markdown",
      "metadata": {},
      "source": [
        "## Pipelines"
      ]
    },
    {
      "cell_type": "markdown",
      "metadata": {},
      "source": [
        "We can create pipelines by making the `standard output` of one command become the `standard input` of another. For example, let's make the output of `ls -lha` be the input of `grep`, which we will see later, but it is a command for searching."
      ]
    },
    {
      "cell_type": "code",
      "execution_count": 93,
      "metadata": {},
      "outputs": [
        {
          "name": "stdout",
          "output_type": "stream",
          "text": [
            "-rw-rw-r-- 1 wallabot wallabot    0 dic  6 00:56 dot2.txt\n",
            "-rw-rw-r-- 1 wallabot wallabot    0 dic  6 00:56 dot.txt\n",
            "-rw-rw-r-- 1 wallabot wallabot    0 dic  6 00:56 file.txt\n",
            "-rw-rw-r-- 1 wallabot wallabot  182 dic  6 01:06 lista.txt\n"
          ]
        }
      ],
      "source": [
        "!ls -lha |  grep -i \"txt\""
      ]
    },
    {
      "cell_type": "markdown",
      "metadata": {},
      "source": [
        "As we can see, what we have done is to pipe the output of `ls` to `grep`, with which we have searched for any file with `txt` in the name."
      ]
    },
    {
      "cell_type": "markdown",
      "metadata": {},
      "source": [
        "## Control operators - chaining commands"
      ]
    },
    {
      "cell_type": "markdown",
      "metadata": {},
      "source": [
        "### Commands in sequence"
      ]
    },
    {
      "cell_type": "markdown",
      "metadata": {},
      "source": [
        "One way to chain commands sequentially is to separate them using `;`. This creates different threads for each task"
      ]
    },
    {
      "cell_type": "code",
      "execution_count": 94,
      "metadata": {},
      "outputs": [
        {
          "name": "stdout",
          "output_type": "stream",
          "text": [
            "2021-02-11-Introduccion-a-Python.ipynb\tdatos123  file.txt\n",
            "Abc\t\t\t\t\tdot2.txt  index.html\n",
            "datos1\t\t\t\t\tdot.txt   lista.txt\n",
            "Hola\n",
            "   Diciembre 2022     \n",
            "do lu ma mi ju vi s\u00e1  \n",
            "             1  2  3  \n",
            " 4  5 \u001b[7m 6\u001b[m  7  8  9 10  \n",
            "11 12 13 14 15 16 17  \n",
            "18 19 20 21 22 23 24  \n",
            "25 26 27 28 29 30 31  \n",
            "                      \n"
          ]
        }
      ],
      "source": [
        "!ls; echo 'Hola'; cal"
      ]
    },
    {
      "cell_type": "markdown",
      "metadata": {},
      "source": [
        "As we can see, first the command `ls` was executed, then Hello was printed thanks to the command `echo \"Hola\"`, and finally a calendar was printed thanks to the command `cal`."
      ]
    },
    {
      "cell_type": "markdown",
      "metadata": {},
      "source": [
        "Let's now do another example to see that they execute in a sequential manner."
      ]
    },
    {
      "cell_type": "code",
      "execution_count": 95,
      "metadata": {},
      "outputs": [
        {
          "name": "stdout",
          "output_type": "stream",
          "text": [
            "Before touch;\n",
            "total 292K\n",
            "drwxrwxr-x 2 wallabot wallabot 4,0K dic  6 01:04 .\n",
            "drwxrwxr-x 7 wallabot wallabot 4,0K dic  6 00:24 ..\n",
            "-rw-rw-r-- 1 wallabot wallabot 280K dic  6 00:28 2021-02-11-Introduccion-a-Python.ipynb\n",
            "-rw-rw-r-- 1 wallabot wallabot    0 dic  6 00:56 Abc\n",
            "-rw-rw-r-- 1 wallabot wallabot    0 dic  6 00:56 datos1\n",
            "-rw-rw-r-- 1 wallabot wallabot    0 dic  6 00:56 datos123\n",
            "-rw-rw-r-- 1 wallabot wallabot    0 dic  6 00:56 dot2.txt\n",
            "-rw-rw-r-- 1 wallabot wallabot    0 dic  6 00:56 dot.txt\n",
            "-rw-rw-r-- 1 wallabot wallabot    0 dic  6 00:56 file.txt\n",
            "-rw-rw-r-- 1 wallabot wallabot    0 dic  6 00:56 index.html\n",
            "-rw-rw-r-- 1 wallabot wallabot  182 dic  6 01:06 lista.txt\n",
            "After touch:\n",
            "total 292K\n",
            "drwxrwxr-x 2 wallabot wallabot 4,0K dic  6 01:07 .\n",
            "drwxrwxr-x 7 wallabot wallabot 4,0K dic  6 00:24 ..\n",
            "-rw-rw-r-- 1 wallabot wallabot 280K dic  6 00:28 2021-02-11-Introduccion-a-Python.ipynb\n",
            "-rw-rw-r-- 1 wallabot wallabot    0 dic  6 00:56 Abc\n",
            "-rw-rw-r-- 1 wallabot wallabot    0 dic  6 00:56 datos1\n",
            "-rw-rw-r-- 1 wallabot wallabot    0 dic  6 00:56 datos123\n",
            "-rw-rw-r-- 1 wallabot wallabot    0 dic  6 00:56 dot2.txt\n",
            "-rw-rw-r-- 1 wallabot wallabot    0 dic  6 00:56 dot.txt\n",
            "-rw-rw-r-- 1 wallabot wallabot    0 dic  6 00:56 file.txt\n",
            "-rw-rw-r-- 1 wallabot wallabot    0 dic  6 00:56 index.html\n",
            "-rw-rw-r-- 1 wallabot wallabot  182 dic  6 01:06 lista.txt\n",
            "-rw-rw-r-- 1 wallabot wallabot    0 dic  6 01:07 secuential.txt\n"
          ]
        }
      ],
      "source": [
        "!echo \"Before touch;\"; ls -lha; touch secuential.txt; echo \"After touch:\"; ls -lha"
      ]
    },
    {
      "cell_type": "markdown",
      "metadata": {},
      "source": [
        "As can be seen, in the first `ls` `sequential.txt` does not appear, while in the second it does. This means that the commands were executed in order, one after the other."
      ]
    },
    {
      "cell_type": "markdown",
      "metadata": {},
      "source": [
        "### Commands in parallel"
      ]
    },
    {
      "cell_type": "markdown",
      "metadata": {},
      "source": [
        "If we want the commands to run in parallel, we need to use the `&` operator. This will create a new process for each command."
      ]
    },
    {
      "cell_type": "markdown",
      "metadata": {},
      "source": [
        "Let's look at the previous example"
      ]
    },
    {
      "cell_type": "code",
      "execution_count": 96,
      "metadata": {},
      "outputs": [],
      "source": [
        "!rm secuential.txt"
      ]
    },
    {
      "cell_type": "code",
      "execution_count": 97,
      "metadata": {},
      "outputs": [
        {
          "name": "stdout",
          "output_type": "stream",
          "text": [
            "Before touch;\n",
            "After touch:\n",
            "total 292K\n",
            "drwxrwxr-x 2 wallabot wallabot 4,0K dic  6 01:08 .\n",
            "drwxrwxr-x 7 wallabot wallabot 4,0K dic  6 00:24 ..\n",
            "-rw-rw-r-- 1 wallabot wallabot 280K dic  6 00:28 2021-02-11-Introduccion-a-Python.ipynb\n",
            "-rw-rw-r-- 1 wallabot wallabot    0 dic  6 00:56 Abc\n",
            "-rw-rw-r-- 1 wallabot wallabot    0 dic  6 00:56 datos1\n",
            "-rw-rw-r-- 1 wallabot wallabot    0 dic  6 00:56 datos123\n",
            "-rw-rw-r-- 1 wallabot wallabot    0 dic  6 00:56 dot2.txt\n",
            "-rw-rw-r-- 1 wallabot wallabot    0 dic  6 00:56 dot.txt\n",
            "-rw-rw-r-- 1 wallabot wallabot    0 dic  6 00:56 file.txt\n",
            "-rw-rw-r-- 1 wallabot wallabot    0 dic  6 00:56 index.html\n",
            "-rw-rw-r-- 1 wallabot wallabot  182 dic  6 01:06 lista.txt\n",
            "-rw-rw-r-- 1 wallabot wallabot    0 dic  6 01:08 secuential.txt\n"
          ]
        }
      ],
      "source": [
        "!echo \"Before touch;\" & ls -lha & touch secuential.txt & echo \"After touch:\" & ls -lha"
      ]
    },
    {
      "cell_type": "markdown",
      "metadata": {},
      "source": [
        "Now it can be seen that they were not executed sequentially, as the `echo`s were executed first, which will be the ones that take the least time, and then the rest."
      ]
    },
    {
      "cell_type": "markdown",
      "metadata": {},
      "source": [
        "### Conditional Commands"
      ]
    },
    {
      "cell_type": "markdown",
      "metadata": {},
      "source": [
        "#### And"
      ]
    },
    {
      "cell_type": "markdown",
      "metadata": {},
      "source": [
        "Using the `&&` operator, a command will run only if the previous one has been executed successfully."
      ]
    },
    {
      "cell_type": "code",
      "execution_count": 98,
      "metadata": {},
      "outputs": [],
      "source": [
        "!rm secuential.txt"
      ]
    },
    {
      "cell_type": "code",
      "execution_count": 99,
      "metadata": {},
      "outputs": [
        {
          "name": "stdout",
          "output_type": "stream",
          "text": [
            "Before touch;\n",
            "total 292K\n",
            "drwxrwxr-x 2 wallabot wallabot 4,0K dic  6 01:08 .\n",
            "drwxrwxr-x 7 wallabot wallabot 4,0K dic  6 00:24 ..\n",
            "-rw-rw-r-- 1 wallabot wallabot 280K dic  6 00:28 2021-02-11-Introduccion-a-Python.ipynb\n",
            "-rw-rw-r-- 1 wallabot wallabot    0 dic  6 00:56 Abc\n",
            "-rw-rw-r-- 1 wallabot wallabot    0 dic  6 00:56 datos1\n",
            "-rw-rw-r-- 1 wallabot wallabot    0 dic  6 00:56 datos123\n",
            "-rw-rw-r-- 1 wallabot wallabot    0 dic  6 00:56 dot2.txt\n",
            "-rw-rw-r-- 1 wallabot wallabot    0 dic  6 00:56 dot.txt\n",
            "-rw-rw-r-- 1 wallabot wallabot    0 dic  6 00:56 file.txt\n",
            "-rw-rw-r-- 1 wallabot wallabot    0 dic  6 00:56 index.html\n",
            "-rw-rw-r-- 1 wallabot wallabot  182 dic  6 01:06 lista.txt\n",
            "After touch:\n",
            "total 292K\n",
            "drwxrwxr-x 2 wallabot wallabot 4,0K dic  6 01:08 .\n",
            "drwxrwxr-x 7 wallabot wallabot 4,0K dic  6 00:24 ..\n",
            "-rw-rw-r-- 1 wallabot wallabot 280K dic  6 00:28 2021-02-11-Introduccion-a-Python.ipynb\n",
            "-rw-rw-r-- 1 wallabot wallabot    0 dic  6 00:56 Abc\n",
            "-rw-rw-r-- 1 wallabot wallabot    0 dic  6 00:56 datos1\n",
            "-rw-rw-r-- 1 wallabot wallabot    0 dic  6 00:56 datos123\n",
            "-rw-rw-r-- 1 wallabot wallabot    0 dic  6 00:56 dot2.txt\n",
            "-rw-rw-r-- 1 wallabot wallabot    0 dic  6 00:56 dot.txt\n",
            "-rw-rw-r-- 1 wallabot wallabot    0 dic  6 00:56 file.txt\n",
            "-rw-rw-r-- 1 wallabot wallabot    0 dic  6 00:56 index.html\n",
            "-rw-rw-r-- 1 wallabot wallabot  182 dic  6 01:06 lista.txt\n",
            "-rw-rw-r-- 1 wallabot wallabot    0 dic  6 01:08 secuential.txt\n"
          ]
        }
      ],
      "source": [
        "!echo \"Before touch;\" && ls -lha && touch secuential.txt && echo \"After touch:\" && ls -lha"
      ]
    },
    {
      "cell_type": "markdown",
      "metadata": {},
      "source": [
        "Here we can see how they have been executed one after the other, that is, a command does not start until the previous one finishes."
      ]
    },
    {
      "cell_type": "markdown",
      "metadata": {},
      "source": [
        "But then, what is the difference between `;` and `&&`?"
      ]
    },
    {
      "cell_type": "markdown",
      "metadata": {},
      "source": [
        "In the first one, the sequential `;`, the first command is executed and then the second one, but for the second command to execute it doesn't matter whether the previous one was successful."
      ]
    },
    {
      "cell_type": "code",
      "execution_count": 100,
      "metadata": {},
      "outputs": [
        {
          "name": "stdout",
          "output_type": "stream",
          "text": [
            "rm: no se puede borrar 'prueba': No existe el archivo o el directorio\n",
            "total 292K\n",
            "drwxrwxr-x 2 wallabot wallabot 4,0K dic  6 01:08 .\n",
            "drwxrwxr-x 7 wallabot wallabot 4,0K dic  6 00:24 ..\n",
            "-rw-rw-r-- 1 wallabot wallabot 280K dic  6 00:28 2021-02-11-Introduccion-a-Python.ipynb\n",
            "-rw-rw-r-- 1 wallabot wallabot    0 dic  6 00:56 Abc\n",
            "-rw-rw-r-- 1 wallabot wallabot    0 dic  6 00:56 datos1\n",
            "-rw-rw-r-- 1 wallabot wallabot    0 dic  6 00:56 datos123\n",
            "-rw-rw-r-- 1 wallabot wallabot    0 dic  6 00:56 dot2.txt\n",
            "-rw-rw-r-- 1 wallabot wallabot    0 dic  6 00:56 dot.txt\n",
            "-rw-rw-r-- 1 wallabot wallabot    0 dic  6 00:56 file.txt\n",
            "-rw-rw-r-- 1 wallabot wallabot    0 dic  6 00:56 index.html\n",
            "-rw-rw-r-- 1 wallabot wallabot  182 dic  6 01:06 lista.txt\n",
            "-rw-rw-r-- 1 wallabot wallabot    0 dic  6 01:08 secuential.txt\n"
          ]
        }
      ],
      "source": [
        "!rm prueba ; ls -lha"
      ]
    },
    {
      "cell_type": "markdown",
      "metadata": {},
      "source": [
        "As can be seen, first `rm prueba` is executed, it gives an error, and yet `ls -lha prueba` is still executed."
      ]
    },
    {
      "cell_type": "markdown",
      "metadata": {},
      "source": [
        "In the conditional form `&&`, if a command does not execute successfully, the following one is not executed."
      ]
    },
    {
      "cell_type": "code",
      "execution_count": 101,
      "metadata": {},
      "outputs": [
        {
          "name": "stdout",
          "output_type": "stream",
          "text": [
            "rm: no se puede borrar 'prueba': No existe el archivo o el directorio\n"
          ]
        }
      ],
      "source": [
        "!rm prueba && ls -lha"
      ]
    },
    {
      "cell_type": "markdown",
      "metadata": {},
      "source": [
        "As can be seen, `ls -lha prueba` is not executed because `rm prueba` has given an error."
      ]
    },
    {
      "cell_type": "markdown",
      "metadata": {},
      "source": [
        "#### Or"
      ]
    },
    {
      "cell_type": "markdown",
      "metadata": {},
      "source": [
        "Unlike `&&`, the 'or' will execute all processes regardless of their outcome. The `||` operator should be used."
      ]
    },
    {
      "cell_type": "code",
      "execution_count": 102,
      "metadata": {},
      "outputs": [
        {
          "name": "stdout",
          "output_type": "stream",
          "text": [
            "rm: no se puede borrar 'prueba': No existe el archivo o el directorio\n",
            "total 292K\n",
            "drwxrwxr-x 2 wallabot wallabot 4,0K dic  6 01:08 .\n",
            "drwxrwxr-x 7 wallabot wallabot 4,0K dic  6 00:24 ..\n",
            "-rw-rw-r-- 1 wallabot wallabot 280K dic  6 00:28 2021-02-11-Introduccion-a-Python.ipynb\n",
            "-rw-rw-r-- 1 wallabot wallabot    0 dic  6 00:56 Abc\n",
            "-rw-rw-r-- 1 wallabot wallabot    0 dic  6 00:56 datos1\n",
            "-rw-rw-r-- 1 wallabot wallabot    0 dic  6 00:56 datos123\n",
            "-rw-rw-r-- 1 wallabot wallabot    0 dic  6 00:56 dot2.txt\n",
            "-rw-rw-r-- 1 wallabot wallabot    0 dic  6 00:56 dot.txt\n",
            "-rw-rw-r-- 1 wallabot wallabot    0 dic  6 00:56 file.txt\n",
            "-rw-rw-r-- 1 wallabot wallabot    0 dic  6 00:56 index.html\n",
            "-rw-rw-r-- 1 wallabot wallabot  182 dic  6 01:06 lista.txt\n",
            "-rw-rw-r-- 1 wallabot wallabot    0 dic  6 01:08 secuential.txt\n"
          ]
        }
      ],
      "source": [
        "!rm prueba || ls -lha"
      ]
    },
    {
      "cell_type": "markdown",
      "metadata": {},
      "source": [
        "The difference between this and `;` is that `||` (or) does not create a new thread for each command"
      ]
    },
    {
      "cell_type": "markdown",
      "metadata": {},
      "source": [
        "## How permissions are handled"
      ]
    },
    {
      "cell_type": "markdown",
      "metadata": {},
      "source": [
        "When listing the files in a directory with the `-l` (long) flag, some symbols appear next to each file."
      ]
    },
    {
      "cell_type": "code",
      "execution_count": 103,
      "metadata": {},
      "outputs": [],
      "source": [
        "!mkdir subdirectorio"
      ]
    },
    {
      "cell_type": "code",
      "execution_count": 104,
      "metadata": {},
      "outputs": [
        {
          "name": "stdout",
          "output_type": "stream",
          "text": [
            "total 288\n",
            "-rw-rw-r-- 1 wallabot wallabot 285898 dic  6 00:28 2021-02-11-Introduccion-a-Python.ipynb\n",
            "-rw-rw-r-- 1 wallabot wallabot      0 dic  6 00:56 Abc\n",
            "-rw-rw-r-- 1 wallabot wallabot      0 dic  6 00:56 datos1\n",
            "-rw-rw-r-- 1 wallabot wallabot      0 dic  6 00:56 datos123\n",
            "-rw-rw-r-- 1 wallabot wallabot      0 dic  6 00:56 dot2.txt\n",
            "-rw-rw-r-- 1 wallabot wallabot      0 dic  6 00:56 dot.txt\n",
            "-rw-rw-r-- 1 wallabot wallabot      0 dic  6 00:56 file.txt\n",
            "-rw-rw-r-- 1 wallabot wallabot      0 dic  6 00:56 index.html\n",
            "-rw-rw-r-- 1 wallabot wallabot    182 dic  6 01:06 lista.txt\n",
            "-rw-rw-r-- 1 wallabot wallabot      0 dic  6 01:08 secuential.txt\n",
            "drwxrwxr-x 2 wallabot wallabot   4096 dic  6 01:10 subdirectorio\n"
          ]
        }
      ],
      "source": [
        "!ls -l"
      ]
    },
    {
      "cell_type": "markdown",
      "metadata": {},
      "source": [
        "This gives us information about each file"
      ]
    },
    {
      "cell_type": "markdown",
      "metadata": {},
      "source": [
        "Let's first see what types of files there are",
        "* -: Normal file",
        "* d: Directory",
        "* l: Symbolic link",
        "* b: Special block file. These are files that handle data block information, such as a USB."
      ]
    },
    {
      "cell_type": "markdown",
      "metadata": {},
      "source": [
        "We will then look at the types of modes:",
        "\n",
        "<table border=\"1\">",
        "<header>",
        "<tr>",
        "<th scope=\"col\" colspan=\"3\">Owner</th>",
        "<th scope=\"col\" colspan=\"3\">Group</th>",
        "<th scope=\"col\" colspan=\"3\">World</th>",
        "</tr>",
        "</header>",
        "<body>",
        "<tr>",
        "<th scope=\"row\" colspan=\"3\">rwx</th>",
        "<th scope=\"row\" colspan=\"3\">r-x</th>",
        "<th scope=\"row\" colspan=\"3\">r-x</th>",
        "</tr>",
        "<tr>",
        "<th scope=\"row\">1</th>",
        "<th scope=\"row\">1</th>",
        "<th scope=\"row\">1</th>",
        "<th scope=\"row\">1</th>",
        "<th scope=\"row\">0</th>",
        "<th scope=\"row\">1</th>",
        "<th scope=\"row\">1</th>",
        "<th scope=\"row\">0</th>",
        "<th scope=\"row\">1</th>",
        "</tr>",
        "<tr>",
        "<th scope=\"row\" colspan=\"3\">7</th>",
        "<th scope=\"row\" colspan=\"3\">5</th>",
        "<th scope=\"row\" colspan=\"3\">5</th>",
        "</tr>",
        "<body>",
        "</table>",
        "\n",
        "* r: read",
        "* w: write",
        "* x: execute"
      ]
    },
    {
      "cell_type": "markdown",
      "metadata": {},
      "source": [
        "Symbolic mode:",
        "* u: For the user only",
        "* g: Only for the group",
        "* o: Only for others (world)",
        "* a: For everyone"
      ]
    },
    {
      "cell_type": "markdown",
      "metadata": {},
      "source": [
        "## Modifying permissions in the terminal"
      ]
    },
    {
      "cell_type": "markdown",
      "metadata": {},
      "source": [
        "We create a new file"
      ]
    },
    {
      "cell_type": "code",
      "execution_count": 105,
      "metadata": {},
      "outputs": [],
      "source": [
        "terminal(\"cd subdirectorio\")"
      ]
    },
    {
      "cell_type": "code",
      "execution_count": 106,
      "metadata": {},
      "outputs": [],
      "source": [
        "!echo \"hola mundo\" > mitexto.txt"
      ]
    },
    {
      "cell_type": "code",
      "execution_count": 107,
      "metadata": {},
      "outputs": [
        {
          "name": "stdout",
          "output_type": "stream",
          "text": [
            "hola mundo\n"
          ]
        }
      ],
      "source": [
        "!cat mitexto.txt"
      ]
    },
    {
      "cell_type": "markdown",
      "metadata": {},
      "source": [
        "Let's check the permissions it has."
      ]
    },
    {
      "cell_type": "code",
      "execution_count": 108,
      "metadata": {},
      "outputs": [
        {
          "name": "stdout",
          "output_type": "stream",
          "text": [
            "total 4\n",
            "-rw-rw-r-- 1 wallabot wallabot 11 dic  6 01:10 mitexto.txt\n"
          ]
        }
      ],
      "source": [
        "!ls -l"
      ]
    },
    {
      "cell_type": "markdown",
      "metadata": {},
      "source": [
        "As we can see, it has read and write permissions for my user and the group, and only read permissions for others (world)."
      ]
    },
    {
      "cell_type": "markdown",
      "metadata": {},
      "source": [
        "### Changing permissions with `chmod` (change mode)"
      ]
    },
    {
      "cell_type": "markdown",
      "metadata": {},
      "source": [
        "To change the permissions of a file we use the `chmod` (change mode) command, where we have to put the user permissions in octal, then the group's, and finally those of others."
      ]
    },
    {
      "cell_type": "code",
      "execution_count": 109,
      "metadata": {},
      "outputs": [],
      "source": [
        "!chmod 755 mitexto.txt"
      ]
    },
    {
      "cell_type": "code",
      "execution_count": 110,
      "metadata": {},
      "outputs": [
        {
          "name": "stdout",
          "output_type": "stream",
          "text": [
            "total 4\n",
            "-rwxr-xr-x 1 wallabot wallabot 11 dic  6 01:10 mitexto.txt\n"
          ]
        }
      ],
      "source": [
        "!ls -l"
      ]
    },
    {
      "cell_type": "markdown",
      "metadata": {},
      "source": [
        "We see that now my user has read, write, and execute permissions, while the group and the rest of the world have read and execute permissions."
      ]
    },
    {
      "cell_type": "markdown",
      "metadata": {},
      "source": [
        "We are going to remove the read permissions for only my user. To change only the permissions of a user, we use the symbolic identifier, a `+` if we want to add permissions or a `-` if we want to remove them, or an `=` if we want to reset them, followed by the type of permission."
      ]
    },
    {
      "cell_type": "code",
      "execution_count": 111,
      "metadata": {},
      "outputs": [],
      "source": [
        "!chmod u-r mitexto.txt"
      ]
    },
    {
      "cell_type": "code",
      "execution_count": 112,
      "metadata": {},
      "outputs": [
        {
          "name": "stdout",
          "output_type": "stream",
          "text": [
            "total 4\n",
            "--wxr-xr-x 1 wallabot wallabot 11 dic  6 01:10 mitexto.txt\n"
          ]
        }
      ],
      "source": [
        "!ls -l"
      ]
    },
    {
      "cell_type": "code",
      "execution_count": 113,
      "metadata": {},
      "outputs": [
        {
          "name": "stdout",
          "output_type": "stream",
          "text": [
            "cat: mitexto.txt: Permiso denegado\n"
          ]
        }
      ],
      "source": [
        "!cat mitexto.txt"
      ]
    },
    {
      "cell_type": "markdown",
      "metadata": {},
      "source": [
        "As we can see, by removing read permissions for my user, we cannot read the file."
      ]
    },
    {
      "cell_type": "markdown",
      "metadata": {},
      "source": [
        "We give it the read permission again"
      ]
    },
    {
      "cell_type": "code",
      "execution_count": 114,
      "metadata": {},
      "outputs": [],
      "source": [
        "!chmod u+r mitexto.txt"
      ]
    },
    {
      "cell_type": "code",
      "execution_count": 115,
      "metadata": {},
      "outputs": [
        {
          "name": "stdout",
          "output_type": "stream",
          "text": [
            "total 4\n",
            "-rwxr-xr-x 1 wallabot wallabot 11 dic  6 01:10 mitexto.txt\n"
          ]
        }
      ],
      "source": [
        "!ls -l"
      ]
    },
    {
      "cell_type": "code",
      "execution_count": 116,
      "metadata": {},
      "outputs": [
        {
          "name": "stdout",
          "output_type": "stream",
          "text": [
            "hola mundo\n"
          ]
        }
      ],
      "source": [
        "!cat mitexto.txt"
      ]
    },
    {
      "cell_type": "markdown",
      "metadata": {},
      "source": [
        "If we want to add or remove permissions for more than one user, we do this by separating each permission with a `,`"
      ]
    },
    {
      "cell_type": "code",
      "execution_count": 117,
      "metadata": {},
      "outputs": [],
      "source": [
        "!chmod u-x,go=w mitexto.txt"
      ]
    },
    {
      "cell_type": "code",
      "execution_count": 118,
      "metadata": {},
      "outputs": [
        {
          "name": "stdout",
          "output_type": "stream",
          "text": [
            "total 4\n",
            "-rw--w--w- 1 wallabot wallabot 11 dic  6 01:10 mitexto.txt\n"
          ]
        }
      ],
      "source": [
        "!ls -l"
      ]
    },
    {
      "cell_type": "markdown",
      "metadata": {},
      "source": [
        "As can be seen, the execution permission has been removed from the user and write-only permission has been set for the group and the rest of the world."
      ]
    },
    {
      "cell_type": "markdown",
      "metadata": {},
      "source": [
        "### User Identification with `whoami`"
      ]
    },
    {
      "cell_type": "markdown",
      "metadata": {},
      "source": [
        "To know who we are, we can use the command `whoami` (who am I)"
      ]
    },
    {
      "cell_type": "code",
      "execution_count": 119,
      "metadata": {},
      "outputs": [
        {
          "name": "stdout",
          "output_type": "stream",
          "text": [
            "wallabot\n"
          ]
        }
      ],
      "source": [
        "!whoami"
      ]
    },
    {
      "cell_type": "markdown",
      "metadata": {},
      "source": [
        "### User information with `id`"
      ]
    },
    {
      "cell_type": "markdown",
      "metadata": {},
      "source": [
        "Another way, which also provides more information, is the `id` command"
      ]
    },
    {
      "cell_type": "code",
      "execution_count": 120,
      "metadata": {},
      "outputs": [
        {
          "name": "stdout",
          "output_type": "stream",
          "text": [
            "uid=1000(wallabot) gid=1000(wallabot) grupos=1000(wallabot),4(adm),24(cdrom),27(sudo),30(dip),46(plugdev),120(lpadmin),131(lxd),132(sambashare),998(docker)\n"
          ]
        }
      ],
      "source": [
        "!id"
      ]
    },
    {
      "cell_type": "markdown",
      "metadata": {},
      "source": [
        "This command tells us that our user ID is 1000, the group ID is 1000, and that we belong to the groups wallabot, adm, cdrom, sudo, dip, plugdev, lpadmin, lxd, sambashare, and docker."
      ]
    },
    {
      "cell_type": "markdown",
      "metadata": {},
      "source": [
        "### User Switching with the `su` Command (switch user)"
      ]
    },
    {
      "cell_type": "markdown",
      "metadata": {},
      "source": [
        "If we want to switch users, we use the `su` (switch user) command. For certain users, we need to use `sudo` (superuser do)."
      ]
    },
    {
      "cell_type": "code",
      "execution_count": 120,
      "metadata": {},
      "outputs": [
        {
          "name": "stdout",
          "output_type": "stream",
          "text": [
            "root@wallabot:/home/wallabot/Documentos/web/portafolio/posts/prueba/subdirectorio#\n"
          ]
        }
      ],
      "source": [
        "!sudo su root"
      ]
    },
    {
      "cell_type": "markdown",
      "metadata": {},
      "source": [
        "As we can see, the `prompt` has changed and now indicates that we are the `root` user."
      ]
    },
    {
      "cell_type": "markdown",
      "metadata": {},
      "source": [
        "Let's go to the home folder"
      ]
    },
    {
      "cell_type": "code",
      "execution_count": 120,
      "metadata": {},
      "outputs": [
        {
          "name": "stdout",
          "output_type": "stream",
          "text": [
            "root@wallabot:~#\n"
          ]
        }
      ],
      "source": [
        "!cd"
      ]
    },
    {
      "cell_type": "markdown",
      "metadata": {},
      "source": [
        "But in Linux there is a home folder for each user, we can see this if we run the command `pwd`"
      ]
    },
    {
      "cell_type": "code",
      "execution_count": 120,
      "metadata": {},
      "outputs": [
        {
          "name": "stdout",
          "output_type": "stream",
          "text": [
            "/root\n"
          ]
        }
      ],
      "source": [
        "!pwd"
      ]
    },
    {
      "cell_type": "markdown",
      "metadata": {},
      "source": [
        "I will create a file in the folder where I previously created the file *mitexto.txt*"
      ]
    },
    {
      "cell_type": "code",
      "execution_count": 120,
      "metadata": {},
      "outputs": [
        {
          "name": "stdout",
          "output_type": "stream",
          "text": [
            "\n"
          ]
        }
      ],
      "source": [
        "!touch /home/wallabot/Documentos/web/portafolio/posts/prueba/subdirectorio/rootfile.txt"
      ]
    },
    {
      "cell_type": "markdown",
      "metadata": {},
      "source": [
        "I switch back to my user"
      ]
    },
    {
      "cell_type": "code",
      "execution_count": 120,
      "metadata": {},
      "outputs": [
        {
          "name": "stdout",
          "output_type": "stream",
          "text": [
            "wallabot@wallabot:\n"
          ]
        }
      ],
      "source": [
        "!su wallabot"
      ]
    },
    {
      "cell_type": "markdown",
      "metadata": {},
      "source": [
        "And I go to the directory where the files I have created are located."
      ]
    },
    {
      "cell_type": "code",
      "execution_count": 121,
      "metadata": {},
      "outputs": [],
      "source": [
        "!cd /home/wallabot/Documentos/web/portafolio/posts/prueba/subdirectorio"
      ]
    },
    {
      "cell_type": "markdown",
      "metadata": {},
      "source": [
        "We see the files that are there and their permissions"
      ]
    },
    {
      "cell_type": "code",
      "execution_count": 123,
      "metadata": {},
      "outputs": [
        {
          "name": "stdout",
          "output_type": "stream",
          "text": [
            "total 4\n",
            "-rw--w--w- 1 wallabot wallabot 11 dic  6 01:10 mitexto.txt\n",
            "-rw-r--r-- 1 root     root      0 dic  6 01:22 rootfile.txt\n"
          ]
        }
      ],
      "source": [
        "!ls -l"
      ]
    },
    {
      "cell_type": "markdown",
      "metadata": {},
      "source": [
        "As we can see, the user and group of the file *rootfile.txt* is the user `root`"
      ]
    },
    {
      "cell_type": "markdown",
      "metadata": {},
      "source": [
        "Yes, now that I am the user *wallabot*, I try to delete the file `rootfile.txt`"
      ]
    },
    {
      "cell_type": "code",
      "execution_count": 124,
      "metadata": {},
      "outputs": [
        {
          "name": "stdout",
          "output_type": "stream",
          "text": [
            "rm: \u00bfborrar el fichero regular vac\u00edo 'rootfile.txt'  protegido contra escritura? (s/n)\n"
          ]
        }
      ],
      "source": [
        "!rm rootfile.txt"
      ]
    },
    {
      "cell_type": "markdown",
      "metadata": {},
      "source": [
        "As we can see, it asks us if we want to delete it, since it belongs to another user."
      ]
    },
    {
      "cell_type": "markdown",
      "metadata": {},
      "source": [
        "## Change a user's password"
      ]
    },
    {
      "cell_type": "markdown",
      "metadata": {},
      "source": [
        "If I want to change the password of the user that is currently active, I use the command `passwd` (password)"
      ]
    },
    {
      "cell_type": "markdown",
      "metadata": {},
      "source": [
        "First I check which user I am"
      ]
    },
    {
      "cell_type": "code",
      "execution_count": 125,
      "metadata": {},
      "outputs": [
        {
          "name": "stdout",
          "output_type": "stream",
          "text": [
            "wallabot\n"
          ]
        }
      ],
      "source": [
        "!whoami"
      ]
    },
    {
      "cell_type": "markdown",
      "metadata": {},
      "source": [
        "And now let's try to change the password"
      ]
    },
    {
      "cell_type": "code",
      "execution_count": 125,
      "metadata": {},
      "outputs": [
        {
          "name": "stdout",
          "output_type": "stream",
          "text": [
            "$ passwd\n",
            "Cambiando la contrase\u00f1a de wallabot.\n",
            "Contrase\u00f1a actual de : \n",
            "Nueva contrase\u00f1a: \n",
            "Vuelva a escribir la nueva contrase\u00f1a\n"
          ]
        }
      ],
      "source": [
        "!passwd"
      ]
    },
    {
      "cell_type": "markdown",
      "metadata": {},
      "source": [
        "As we can see, it asks for the current password in order to change it."
      ]
    },
    {
      "cell_type": "markdown",
      "metadata": {},
      "source": [
        "## Symbolic links"
      ]
    },
    {
      "cell_type": "markdown",
      "metadata": {},
      "source": [
        "We can create symbolic links to a specific path using the `ln` (link) command followed by the `-s` (symbolic) flag, the directory, and the name of the link."
      ]
    },
    {
      "cell_type": "code",
      "execution_count": 126,
      "metadata": {},
      "outputs": [],
      "source": [
        "!ln -s /home/wallabot/Documentos/web web"
      ]
    },
    {
      "cell_type": "markdown",
      "metadata": {},
      "source": [
        "If we now list the files"
      ]
    },
    {
      "cell_type": "code",
      "execution_count": 127,
      "metadata": {},
      "outputs": [
        {
          "name": "stdout",
          "output_type": "stream",
          "text": [
            "total 4\n",
            "-rw--w--w- 1 wallabot wallabot 11 dic  6 01:10 mitexto.txt\n",
            "-rw-r--r-- 1 root     root      0 dic  6 01:22 rootfile.txt\n",
            "lrwxrwxrwx 1 wallabot wallabot 29 dic  6 01:28 web -> /home/wallabot/Documentos/web\n"
          ]
        }
      ],
      "source": [
        "!ls -l"
      ]
    },
    {
      "cell_type": "markdown",
      "metadata": {},
      "source": [
        "We see the symbolic link `web` that points to `/home/wallabot/Documents/web:`"
      ]
    },
    {
      "cell_type": "markdown",
      "metadata": {},
      "source": [
        "I can now go to `web`"
      ]
    },
    {
      "cell_type": "code",
      "execution_count": 128,
      "metadata": {},
      "outputs": [],
      "source": [
        "terminal(\"cd web\")"
      ]
    },
    {
      "cell_type": "code",
      "execution_count": 129,
      "metadata": {},
      "outputs": [
        {
          "name": "stdout",
          "output_type": "stream",
          "text": [
            "/home/wallabot/Documentos/web\n"
          ]
        }
      ],
      "source": [
        "!pwd"
      ]
    },
    {
      "cell_type": "markdown",
      "metadata": {},
      "source": [
        "## Setting up the environment variables"
      ]
    },
    {
      "cell_type": "markdown",
      "metadata": {},
      "source": [
        "### View environment variables with `printenv`"
      ]
    },
    {
      "cell_type": "markdown",
      "metadata": {},
      "source": [
        "With the `printenv` command we can see all the environment variables"
      ]
    },
    {
      "cell_type": "code",
      "execution_count": 130,
      "metadata": {},
      "outputs": [
        {
          "name": "stdout",
          "output_type": "stream",
          "text": [
            "GJS_DEBUG_TOPICS=JS ERROR;JS LOG\n",
            "VSCODE_CWD=/home/wallabot\n",
            "LESSOPEN=| /usr/bin/lesspipe %s\n",
            "CONDA_PROMPT_MODIFIER=(base) \n",
            "PYTHONIOENCODING=utf-8\n",
            "USER=wallabot\n",
            "VSCODE_NLS_CONFIG={\"locale\":\"es\",\"availableLanguages\":{\"*\":\"es\"},\"_languagePackId\":\"b07c40c9acb9e1d7b3ca14b06f814803.es\",\"_translationsConfigFile\":\"/home/wallabot/.config/Code/clp/b07c40c9acb9e1d7b3ca14b06f814803.es/tcf.json\",\"_cacheRoot\":\"/home/wallabot/.config/Code/clp/b07c40c9acb9e1d7b3ca14b06f814803.es\",\"_resolvedLanguagePackCoreLocation\":\"/home/wallabot/.config/Code/clp/b07c40c9acb9e1d7b3ca14b06f814803.es/6261075646f055b99068d3688932416f2346dd3b\",\"_corruptedFile\":\"/home/wallabot/.config/Code/clp/b07c40c9acb9e1d7b3ca14b06f814803.es/corrupted.info\",\"_languagePackSupport\":true}\n",
            "VSCODE_HANDLES_UNCAUGHT_ERRORS=true\n",
            "MPLBACKEND=module://ipykernel.pylab.backend_inline\n",
            "SSH_AGENT_PID=1373\n",
            "XDG_SESSION_TYPE=x11\n",
            "SHLVL=0\n",
            "HOME=/home/wallabot\n",
            "CHROME_DESKTOP=code-url-handler.desktop\n",
            "CONDA_SHLVL=1\n",
            "DESKTOP_SESSION=ubuntu\n",
            "GIO_LAUNCHED_DESKTOP_FILE=/usr/share/applications/code.desktop\n",
            "VSCODE_IPC_HOOK=/run/user/1000/vscode-26527400-1.73.1-main.sock\n",
            "PYTHONUNBUFFERED=1\n",
            "GTK_MODULES=gail:atk-bridge\n",
            "GNOME_SHELL_SESSION_MODE=ubuntu\n",
            "APPLICATION_INSIGHTS_NO_DIAGNOSTIC_CHANNEL=true\n",
            "PAGER=cat\n",
            "MANAGERPID=1153\n",
            "DBUS_SESSION_BUS_ADDRESS=unix:path=/run/user/1000/bus\n",
            "GIO_LAUNCHED_DESKTOP_FILE_PID=3897\n",
            "_CE_M=\n",
            "IM_CONFIG_PHASE=1\n",
            "LOGNAME=wallabot\n",
            "_=/home/wallabot/anaconda3/bin/python\n",
            "JOURNAL_STREAM=8:52662\n",
            "XDG_SESSION_CLASS=user\n",
            "USERNAME=wallabot\n",
            "TERM=xterm-color\n",
            "GNOME_DESKTOP_SESSION_ID=this-is-deprecated\n",
            "_CE_CONDA=\n",
            "WINDOWPATH=2\n",
            "PATH=/home/wallabot/anaconda3/bin:/home/wallabot/anaconda3/condabin:/usr/local/sbin:/usr/local/bin:/usr/sbin:/usr/bin:/sbin:/bin:/usr/games:/usr/local/games:/snap/bin\n",
            "SESSION_MANAGER=local/wallabot:@/tmp/.ICE-unix/1410,unix/wallabot:/tmp/.ICE-unix/1410\n",
            "INVOCATION_ID=73bba2d15f2e492fa6c16538996a2556\n",
            "VSCODE_AMD_ENTRYPOINT=vs/workbench/api/node/extensionHostProcess\n",
            "XDG_RUNTIME_DIR=/run/user/1000\n",
            "XDG_MENU_PREFIX=gnome-\n",
            "GDK_BACKEND=x11\n",
            "DISPLAY=:0\n",
            "LANG=es_ES.UTF-8\n",
            "XDG_CURRENT_DESKTOP=Unity\n",
            "XAUTHORITY=/run/user/1000/gdm/Xauthority\n",
            "XDG_SESSION_DESKTOP=ubuntu\n",
            "XMODIFIERS=@im=ibus\n",
            "LS_COLORS=\n",
            "SSH_AUTH_SOCK=/run/user/1000/keyring/ssh\n",
            "ORIGINAL_XDG_CURRENT_DESKTOP=ubuntu:GNOME\n",
            "CONDA_PYTHON_EXE=/home/wallabot/anaconda3/bin/python\n",
            "SHELL=/bin/bash\n",
            "ELECTRON_RUN_AS_NODE=1\n",
            "QT_ACCESSIBILITY=1\n",
            "GDMSESSION=ubuntu\n",
            "LESSCLOSE=/usr/bin/lesspipe %s %s\n",
            "CONDA_DEFAULT_ENV=base\n",
            "PYDEVD_IPYTHON_COMPATIBLE_DEBUGGING=1\n",
            "GPG_AGENT_INFO=/run/user/1000/gnupg/S.gpg-agent:0:1\n",
            "GJS_DEBUG_OUTPUT=stderr\n",
            "QT_IM_MODULE=ibus\n",
            "GIT_PAGER=cat\n",
            "PWD=/home/wallabot/Documentos/web\n",
            "CLICOLOR=1\n",
            "XDG_DATA_DIRS=/usr/share/ubuntu:/usr/local/share/:/usr/share/:/var/lib/snapd/desktop\n",
            "XDG_CONFIG_DIRS=/etc/xdg/xdg-ubuntu:/etc/xdg\n",
            "VSCODE_CODE_CACHE_PATH=/home/wallabot/.config/Code/CachedData/6261075646f055b99068d3688932416f2346dd3b\n",
            "CONDA_EXE=/home/wallabot/anaconda3/bin/conda\n",
            "CONDA_PREFIX=/home/wallabot/anaconda3\n",
            "VSCODE_PID=3897\n"
          ]
        }
      ],
      "source": [
        "!printenv"
      ]
    },
    {
      "cell_type": "markdown",
      "metadata": {},
      "source": [
        "### View an environment variable with the `echo` command"
      ]
    },
    {
      "cell_type": "markdown",
      "metadata": {},
      "source": [
        "To view a specific environment variable, we can do so by using the `echo` command followed by the `$` symbol and the name of the variable."
      ]
    },
    {
      "cell_type": "code",
      "execution_count": 131,
      "metadata": {},
      "outputs": [
        {
          "name": "stdout",
          "output_type": "stream",
          "text": [
            "/home/wallabot\n"
          ]
        }
      ],
      "source": [
        "!echo $HOME"
      ]
    },
    {
      "cell_type": "markdown",
      "metadata": {},
      "source": [
        "### Modify an environment variable for a terminal session"
      ]
    },
    {
      "cell_type": "markdown",
      "metadata": {},
      "source": [
        "We can modify an environment variable for the active terminal session, for example, let's add a new path to the `PATH` variable. First, let's see what is in it."
      ]
    },
    {
      "cell_type": "code",
      "execution_count": 131,
      "metadata": {},
      "outputs": [
        {
          "name": "stdout",
          "output_type": "stream",
          "text": [
            "/home/wallabot/anaconda3/bin:/home/wallabot/anaconda3/condabin:/usr/local/sbin:/usr/local/bin:/usr/sbin:/usr/bin:/sbin:/bin:/usr/games:/usr/local/games:/snap/bin\n"
          ]
        }
      ],
      "source": [
        "!echo $PATH"
      ]
    },
    {
      "cell_type": "markdown",
      "metadata": {},
      "source": [
        "Now we add a new directory"
      ]
    },
    {
      "cell_type": "code",
      "execution_count": 131,
      "metadata": {},
      "outputs": [
        {
          "name": "stdout",
          "output_type": "stream",
          "text": [
            "\n"
          ]
        }
      ],
      "source": [
        "!PATH=$PATH:\"subdirectorio"
      ]
    },
    {
      "cell_type": "markdown",
      "metadata": {},
      "source": [
        "Let's check what's inside `PATH` again"
      ]
    },
    {
      "cell_type": "code",
      "execution_count": 131,
      "metadata": {},
      "outputs": [
        {
          "name": "stdout",
          "output_type": "stream",
          "text": [
            "/home/wallabot/anaconda3/bin:/home/wallabot/anaconda3/condabin:/usr/local/sbin:/usr/local/bin:/usr/sbin:/usr/bin:/sbin:/bin:/usr/games:/usr/local/games:/snap/bin:subdirectorio\n"
          ]
        }
      ],
      "source": [
        "!echo $PATH"
      ]
    },
    {
      "cell_type": "markdown",
      "metadata": {},
      "source": [
        "We see that the directory `subdirectory` has been added.",
        "\n",
        "The problem with this method is that when we open a new terminal, this change in `PATH` will not be maintained."
      ]
    },
    {
      "cell_type": "markdown",
      "metadata": {},
      "source": [
        "### Modify an environment variable for all terminal sessions"
      ]
    },
    {
      "cell_type": "markdown",
      "metadata": {},
      "source": [
        "We are going to the home folder"
      ]
    },
    {
      "cell_type": "code",
      "execution_count": 132,
      "metadata": {},
      "outputs": [],
      "source": [
        "terminal(\"cd /home/wallabot\")"
      ]
    },
    {
      "cell_type": "markdown",
      "metadata": {},
      "source": [
        "Here, in the home, we list all files with the `-a` (all) flag."
      ]
    },
    {
      "cell_type": "code",
      "execution_count": 133,
      "metadata": {},
      "outputs": [
        {
          "name": "stdout",
          "output_type": "stream",
          "text": [
            ".\t\t.eclipse\t\t       .pki\n",
            "..\t\tEscritorio\t\t       Plantillas\n",
            ".afirma\t\t.gitconfig\t\t       .platformio\n",
            "anaconda3\t.gnupg\t\t\t       .profile\n",
            ".audacity-data\tIm\u00e1genes\t\t       .psensor\n",
            ".bash_history\t.ipython\t\t       P\u00fablico\n",
            ".bash_logout\t.java\t\t\t       .python_history\n",
            ".bashrc\t\t.jupyter\t\t       snap\n",
            ".cache\t\t.lesshst\t\t       .ssh\n",
            ".conda\t\tLightworks\t\t       .sudo_as_admin_successful\n",
            ".config\t\t.Lightworks.thereCanBeOnlyOne  .thunderbird\n",
            ".cortex-debug\t.local\t\t\t       V\u00eddeos\n",
            ".cyberghost\tlogiops\t\t\t       .vnc\n",
            ".dbus\t\t.MCTranscodingSDK\t       .vscode\n",
            "Descargas\t.mozilla\t\t       .wget-hsts\n",
            ".docker\t\tM\u00fasica\n",
            "Documentos\t.nv\n"
          ]
        }
      ],
      "source": [
        "!ls -a"
      ]
    },
    {
      "cell_type": "markdown",
      "metadata": {},
      "source": [
        "We see that there is a file called `.bashrc`, this file is the one that has the configuration of our bash"
      ]
    },
    {
      "cell_type": "code",
      "execution_count": 134,
      "metadata": {},
      "outputs": [
        {
          "name": "stdout",
          "output_type": "stream",
          "text": [
            "# ~/.bashrc: executed by bash(1) for non-login shells.\n",
            "# see /usr/share/doc/bash/examples/startup-files (in the package bash-doc)\n",
            "# for examples\n",
            "\t ...\n",
            "fi\n",
            "unset __conda_setup\n",
            "# <<< conda initialize <<<\n",
            "\n",
            "\n"
          ]
        }
      ],
      "source": [
        "terminal(\"cat .bashrc\", max_lines_output=3)"
      ]
    },
    {
      "cell_type": "markdown",
      "metadata": {},
      "source": [
        "This file configures the terminal every time a new one is opened, so if we edit the `PATH` variable in it, this change will persist for all new terminal windows that we open."
      ]
    },
    {
      "cell_type": "markdown",
      "metadata": {},
      "source": [
        "To modify the `PATH` variable within the configuration file, we need to add the following line to the file"
      ]
    },
    {
      "cell_type": "markdown",
      "metadata": {},
      "source": [
        "```\n",
        "PATH=$PATH:\"subdirectory\"",
        "```"
      ]
    },
    {
      "cell_type": "markdown",
      "metadata": {},
      "source": [
        "### Create aliases for all sessions"
      ]
    },
    {
      "cell_type": "markdown",
      "metadata": {},
      "source": [
        "We already saw how to create command aliases, but they also got lost every time we closed a terminal session. To prevent this, we add them to the configuration file `.bashrc` as well. For example, in my case, I have added the following lines",
        "\n",
        "```\n",
        "alias ll='ls -l'",
        "alias la='ls -a'",
        "alias lh='ls -h'",
        "alias lha='ls -lha'",
        "```"
      ]
    },
    {
      "cell_type": "markdown",
      "metadata": {},
      "source": [
        "## Search commands"
      ]
    },
    {
      "cell_type": "markdown",
      "metadata": {},
      "source": [
        "### Searching for binaries with `which`"
      ]
    },
    {
      "cell_type": "markdown",
      "metadata": {},
      "source": [
        "The first search command we are going to look at is `which`, which allows us to find the path of binaries."
      ]
    },
    {
      "cell_type": "code",
      "execution_count": 135,
      "metadata": {},
      "outputs": [
        {
          "name": "stdout",
          "output_type": "stream",
          "text": [
            "/home/wallabot/anaconda3/bin/python\n"
          ]
        }
      ],
      "source": [
        "!which python"
      ]
    },
    {
      "cell_type": "markdown",
      "metadata": {},
      "source": [
        "However, if we look for something that is not in any of the PATH routes, `which` will not be able to tell us the path."
      ]
    },
    {
      "cell_type": "code",
      "execution_count": 136,
      "metadata": {},
      "outputs": [],
      "source": [
        "!which cd"
      ]
    },
    {
      "cell_type": "markdown",
      "metadata": {},
      "source": [
        "### File Search with `find`"
      ]
    },
    {
      "cell_type": "markdown",
      "metadata": {},
      "source": [
        "To search for a file with `find`, we need to specify the path from which we want to start the search, followed by the `-name` flag and the name of the file we want to find."
      ]
    },
    {
      "cell_type": "code",
      "execution_count": 137,
      "metadata": {},
      "outputs": [
        {
          "name": "stdout",
          "output_type": "stream",
          "text": [
            "/home/wallabot/Documentos/web/portafolio/posts/prueba/2021-02-11-Introduccion-a-Python.ipynb\n",
            "/home/wallabot/Documentos/web/portafolio/posts/2021-02-11-Introduccion-a-Python.ipynb\n"
          ]
        }
      ],
      "source": [
        "!find ~ -name \"2021-02-11-Introduccion-a-Python.ipynb\""
      ]
    },
    {
      "cell_type": "markdown",
      "metadata": {},
      "source": [
        "As we can see, it is in its directory, along with the copy I created in this notebook and saved in the folder `prueba`"
      ]
    },
    {
      "cell_type": "markdown",
      "metadata": {},
      "source": [
        "One powerful thing about `find` is that we can use `wildcards`, for example, if I want to search for all text files in my `web` folder."
      ]
    },
    {
      "cell_type": "code",
      "execution_count": 139,
      "metadata": {},
      "outputs": [
        {
          "name": "stdout",
          "output_type": "stream",
          "text": [
            "/home/wallabot/Documentos/web/portafolio/posts/2022-09-12 Introduccion a la terminal.txt\n",
            "/home/wallabot/Documentos/web/portafolio/posts/prueba/lista.txt\n",
            "/home/wallabot/Documentos/web/portafolio/posts/prueba/dot.txt\n",
            "/home/wallabot/Documentos/web/portafolio/posts/prueba/dot2.txt\n",
            "/home/wallabot/Documentos/web/portafolio/posts/prueba/secuential.txt\n",
            "/home/wallabot/Documentos/web/portafolio/posts/prueba/subdirectorio/rootfile.txt\n",
            "/home/wallabot/Documentos/web/portafolio/posts/prueba/subdirectorio/mitexto.txt\n",
            "/home/wallabot/Documentos/web/portafolio/posts/prueba/file.txt\n",
            "/home/wallabot/Documentos/web/wordpress_api_rest/page.txt\n"
          ]
        }
      ],
      "source": [
        "!find ~/Documentos/web/ -name *.txt"
      ]
    },
    {
      "cell_type": "markdown",
      "metadata": {},
      "source": [
        "If we don't want to distinguish between uppercase and lowercase, we should use the `-iname` flag. For example, if we are looking for all files that contain the text `FILE`, but using the `-iname` flag."
      ]
    },
    {
      "cell_type": "code",
      "execution_count": 140,
      "metadata": {},
      "outputs": [
        {
          "name": "stdout",
          "output_type": "stream",
          "text": [
            "/home/wallabot/Documentos/web/portafolio/posts/html_files\n",
            "/home/wallabot/Documentos/web/portafolio/posts/prueba/subdirectorio/rootfile.txt\n",
            "/home/wallabot/Documentos/web/portafolio/posts/prueba/file.txt\n"
          ]
        }
      ],
      "source": [
        "!find ~/Documentos/web/ -iname *FILE*"
      ]
    },
    {
      "cell_type": "markdown",
      "metadata": {},
      "source": [
        "We see that all the results contain `file` and not `FILE`, that is, it has not made a distinction between uppercase and lowercase."
      ]
    },
    {
      "cell_type": "markdown",
      "metadata": {},
      "source": [
        "We can specify the file type with the `-type` flag. It only accepts two types: `f` for files and `d` for directories."
      ]
    },
    {
      "cell_type": "code",
      "execution_count": 141,
      "metadata": {},
      "outputs": [
        {
          "name": "stdout",
          "output_type": "stream",
          "text": [
            "/home/wallabot/Documentos/nerf/instant-ngp/configs/image\n",
            "/home/wallabot/Documentos/nerf/instant-ngp/dependencies/tiny-cuda-nn/benchmarks/image\n",
            "/home/wallabot/Documentos/nerf/instant-ngp/dependencies/tiny-cuda-nn/dependencies/cutlass/media/images\n",
            "/home/wallabot/Documentos/nerf/instant-ngp/dependencies/tiny-cuda-nn/dependencies/fmt/doc/bootstrap/mixins/image.less\n",
            "/home/wallabot/Documentos/nerf/instant-ngp/dependencies/tiny-cuda-nn/data/images\n",
            "/home/wallabot/Documentos/nerf/instant-ngp/dependencies/dlss/NVIDIAImageScaling/samples/media/images\n",
            "/home/wallabot/Documentos/nerf/instant-ngp/data/nerf/fox/images\n",
            "/home/wallabot/Documentos/nerf/instant-ngp/data/image\n"
          ]
        }
      ],
      "source": [
        "!find ~/Documentos/nerf -name image*"
      ]
    },
    {
      "cell_type": "code",
      "execution_count": 142,
      "metadata": {},
      "outputs": [
        {
          "name": "stdout",
          "output_type": "stream",
          "text": [
            "/home/wallabot/Documentos/nerf/instant-ngp/configs/image\n",
            "/home/wallabot/Documentos/nerf/instant-ngp/dependencies/tiny-cuda-nn/benchmarks/image\n",
            "/home/wallabot/Documentos/nerf/instant-ngp/dependencies/tiny-cuda-nn/dependencies/cutlass/media/images\n",
            "/home/wallabot/Documentos/nerf/instant-ngp/dependencies/tiny-cuda-nn/data/images\n",
            "/home/wallabot/Documentos/nerf/instant-ngp/dependencies/dlss/NVIDIAImageScaling/samples/media/images\n",
            "/home/wallabot/Documentos/nerf/instant-ngp/data/nerf/fox/images\n",
            "/home/wallabot/Documentos/nerf/instant-ngp/data/image\n"
          ]
        }
      ],
      "source": [
        "!find ~/Documentos/nerf -name image* -type d"
      ]
    },
    {
      "cell_type": "code",
      "execution_count": 143,
      "metadata": {},
      "outputs": [
        {
          "name": "stdout",
          "output_type": "stream",
          "text": [
            "/home/wallabot/Documentos/nerf/instant-ngp/dependencies/tiny-cuda-nn/dependencies/fmt/doc/bootstrap/mixins/image.less\n"
          ]
        }
      ],
      "source": [
        "!find ~/Documentos/nerf -name image* -type f"
      ]
    },
    {
      "cell_type": "markdown",
      "metadata": {},
      "source": [
        "If we want to filter by file size, we can use the `-size` flag, for example, if we want to find all files larger than 200 MB"
      ]
    },
    {
      "cell_type": "code",
      "execution_count": 144,
      "metadata": {},
      "outputs": [
        {
          "name": "stdout",
          "output_type": "stream",
          "text": [
            "/home/wallabot/Documentos/kaggle/hubmap/models/13_efficientnet-b7_final_model.pth\n",
            "/home/wallabot/Documentos/kaggle/hubmap/models/12_efficientnet-b7_final_model.pth\n",
            "/home/wallabot/Documentos/kaggle/hubmap/models/14_resnet152_final_model.pth\n",
            "/home/wallabot/Documentos/kaggle/hubmap/models/14_resnet152_best_model.pth\n",
            "/home/wallabot/Documentos/kaggle/hubmap/models/12_efficientnet-b7_early_stopping.pth\n",
            "/home/wallabot/Documentos/kaggle/hubmap/models/efficientnet-b7-dcc49843.pth\n",
            "/home/wallabot/Documentos/kaggle/hubmap/models/13_efficientnet-b7_early_stopping.pth\n",
            "/home/wallabot/Documentos/kaggle/hubmap/models/14_resnet152_early_stopping.pth\n",
            "/home/wallabot/Documentos/kaggle/hubmap/models/12_efficientnet-b7_best_model.pth\n",
            "/home/wallabot/Documentos/kaggle/hubmap/models/13_efficientnet-b7_best_model.pth\n"
          ]
        }
      ],
      "source": [
        "!find ~/Documentos/ -type f -size +200M"
      ]
    },
    {
      "cell_type": "markdown",
      "metadata": {},
      "source": [
        "If we want to perform operations after the search, we use the `-exec` flag"
      ]
    },
    {
      "cell_type": "markdown",
      "metadata": {},
      "source": [
        "For example, I will look for all folders with the name `subdirectory`"
      ]
    },
    {
      "cell_type": "code",
      "execution_count": 145,
      "metadata": {},
      "outputs": [
        {
          "name": "stdout",
          "output_type": "stream",
          "text": [
            "/home/wallabot/Documentos/web/portafolio/posts/prueba/subdirectorio\n"
          ]
        }
      ],
      "source": [
        "!find ~/ -name subdirectorio -type d"
      ]
    },
    {
      "cell_type": "markdown",
      "metadata": {},
      "source": [
        "I can make them delete with the `-exec` flag"
      ]
    },
    {
      "cell_type": "code",
      "execution_count": 164,
      "metadata": {},
      "outputs": [
        {
          "name": "stdout",
          "output_type": "stream",
          "text": [
            "rm: \u00bfborrar el fichero regular vac\u00edo '/home/wallabot/Documentos/web/portafolio/posts/prueba/subdirectorio/rootfile.txt'  protegido contra escritura? (s/n) s\n",
            "find: \u2018/home/wallabot/Documentos/web/portafolio/posts/prueba/subdirectorio\u2019: No existe el archivo o el directorio\n"
          ]
        }
      ],
      "source": [
        "!find ~/ -name subdirectorio -type d -exec rm -r {} \\;"
      ]
    },
    {
      "cell_type": "code",
      "execution_count": 146,
      "metadata": {},
      "outputs": [],
      "source": [
        "!find ~/ -name subdirectorio -type d"
      ]
    },
    {
      "cell_type": "markdown",
      "metadata": {},
      "source": [
        "Lastly, if we use the character `!` we will be indicating that it should find everything that does not match what we have specified."
      ]
    },
    {
      "cell_type": "code",
      "execution_count": 147,
      "metadata": {},
      "outputs": [
        {
          "name": "stdout",
          "output_type": "stream",
          "text": [
            "/home/wallabot/Documentos/web/portafolio/posts/prueba\n",
            "/home/wallabot/Documentos/web/portafolio/posts/prueba/index.html\n",
            "/home/wallabot/Documentos/web/portafolio/posts/prueba/Abc\n",
            "/home/wallabot/Documentos/web/portafolio/posts/prueba/datos1\n",
            "/home/wallabot/Documentos/web/portafolio/posts/prueba/2021-02-11-Introduccion-a-Python.ipynb\n",
            "/home/wallabot/Documentos/web/portafolio/posts/prueba/datos123\n"
          ]
        }
      ],
      "source": [
        "!find ~/Documentos/web/portafolio/posts/prueba ! -name *.txt"
      ]
    },
    {
      "cell_type": "markdown",
      "metadata": {},
      "source": [
        "As we can see, it has found everything that is not a `.txt`"
      ]
    },
    {
      "cell_type": "markdown",
      "metadata": {},
      "source": [
        "## Search command `grep`"
      ]
    },
    {
      "cell_type": "markdown",
      "metadata": {},
      "source": [
        "`grep` is a very powerful search command, which is why we dedicate a section to it alone. The `grep` command uses regular expressions, so if you want to learn about them, I leave you a link to a [post](https://maximofn.com/regular-expressions) where I explain them."
      ]
    },
    {
      "cell_type": "markdown",
      "metadata": {},
      "source": [
        "Let's start to see the power of this command, we are going to search for all occurrences of the text `MaximoFN` within the file `2021-02-11-Introduccion-a-Python.ipynb`"
      ]
    },
    {
      "cell_type": "code",
      "execution_count": 148,
      "metadata": {},
      "outputs": [],
      "source": [
        "terminal(\"cd /home/wallabot/Documentos/web/portafolio/posts/prueba\")"
      ]
    },
    {
      "cell_type": "code",
      "execution_count": 150,
      "metadata": {},
      "outputs": [
        {
          "name": "stdout",
          "output_type": "stream",
          "text": [
            "        \"a = 'MaximoFN'\\n\",\n",
            "              \"'MaximoFN'\"\n",
            "        \"string = \\\"MaximoFN\\\"\\n\",\n",
            "              \"'MaximoFN'\"\n",
            "        \"string = 'MaximoFN'\\n\",\n",
            "              \"'MaximoFN'\"\n",
            "            \"Este es el blog de \\\"MaximoFN\\\"\\n\"\n",
            "        \"print(\\\"Este es el blog de \\\\\\\"MaximoFN\\\\\\\"\\\")\"\n",
            "            \"Este es el blog de 'MaximoFN'\\n\"\n",
            "        \"print('Este es el blog de \\\\'MaximoFN\\\\'')\"\n",
            "            \"Este es el blog de \\\\MaximoFN\\\\\\n\"\n",
            "        \"print('Este es el blog de \\\\\\\\MaximoFN\\\\\\\\')\"\n",
            "            \"MaximoFN\\n\"\n",
            "        \"print('Este es el blog de \\\\nMaximoFN')\"\n",
            "            \"Este es el blog de MaximoFN\\n\"\n",
            "        \"print('Esto no se imprimir\u00e1 \\\\rEste es el blog de MaximoFN')\"\n",
            "            \"Este es el blog de \\tMaximoFN\\n\"\n",
            "        \"print('Este es el blog de \\\\tMaximoFN')\"\n",
            "            \"Este es el blog deMaximoFN\\n\"\n",
            "        \"print('Este es el blog de \\\\bMaximoFN')\"\n",
            "\t ...\n",
            "        \"funcion2_del_modulo('MaximoFN')\"\n",
            "            \"MaximoFN\\n\",\n",
            "        \"  print('MaximoFN')\\n\",\n",
            "        \"  variable = 'MaximoFN'\\n\",\n",
            "\n"
          ]
        }
      ],
      "source": [
        "terminal(\"grep MaximoFN 2021-02-11-Introduccion-a-Python.ipynb\", max_lines_output=20)"
      ]
    },
    {
      "cell_type": "markdown",
      "metadata": {},
      "source": [
        "However, if we perform the same search for the text `maximofn`"
      ]
    },
    {
      "cell_type": "code",
      "execution_count": 151,
      "metadata": {},
      "outputs": [],
      "source": [
        "!grep maximofn 2021-02-11-Introduccion-a-Python.ipynb"
      ]
    },
    {
      "cell_type": "markdown",
      "metadata": {},
      "source": [
        "No results appear, this is because `grep` is `case sensitive`, meaning it searches for the text exactly as you have entered it, distinguishing between uppercase and lowercase letters. If we don't want this, we need to add the `-i` flag."
      ]
    },
    {
      "cell_type": "code",
      "execution_count": 152,
      "metadata": {},
      "outputs": [
        {
          "name": "stdout",
          "output_type": "stream",
          "text": [
            "        \"a = 'MaximoFN'\\n\",\n",
            "              \"'MaximoFN'\"\n",
            "        \"string = \\\"MaximoFN\\\"\\n\",\n",
            "              \"'MaximoFN'\"\n",
            "        \"string = 'MaximoFN'\\n\",\n",
            "              \"'MaximoFN'\"\n",
            "            \"Este es el blog de \\\"MaximoFN\\\"\\n\"\n",
            "        \"print(\\\"Este es el blog de \\\\\\\"MaximoFN\\\\\\\"\\\")\"\n",
            "            \"Este es el blog de 'MaximoFN'\\n\"\n",
            "        \"print('Este es el blog de \\\\'MaximoFN\\\\'')\"\n",
            "            \"Este es el blog de \\\\MaximoFN\\\\\\n\"\n",
            "        \"print('Este es el blog de \\\\\\\\MaximoFN\\\\\\\\')\"\n",
            "            \"MaximoFN\\n\"\n",
            "        \"print('Este es el blog de \\\\nMaximoFN')\"\n",
            "            \"Este es el blog de MaximoFN\\n\"\n",
            "        \"print('Esto no se imprimir\u00e1 \\\\rEste es el blog de MaximoFN')\"\n",
            "            \"Este es el blog de \\tMaximoFN\\n\"\n",
            "        \"print('Este es el blog de \\\\tMaximoFN')\"\n",
            "            \"Este es el blog deMaximoFN\\n\"\n",
            "        \"print('Este es el blog de \\\\bMaximoFN')\"\n",
            "\t ...\n",
            "        \"funcion2_del_modulo('MaximoFN')\"\n",
            "            \"MaximoFN\\n\",\n",
            "        \"  print('MaximoFN')\\n\",\n",
            "        \"  variable = 'MaximoFN'\\n\",\n",
            "\n"
          ]
        }
      ],
      "source": [
        "terminal(\"grep -i MaximoFN 2021-02-11-Introduccion-a-Python.ipynb\", max_lines_output=20)"
      ]
    },
    {
      "cell_type": "markdown",
      "metadata": {},
      "source": [
        "If what we want is for it to return the number of times it appears, we introduce the flag `-c`"
      ]
    },
    {
      "cell_type": "code",
      "execution_count": 153,
      "metadata": {},
      "outputs": [
        {
          "name": "stdout",
          "output_type": "stream",
          "text": [
            "105\n"
          ]
        }
      ],
      "source": [
        "!grep -c MaximoFN 2021-02-11-Introduccion-a-Python.ipynb"
      ]
    },
    {
      "cell_type": "markdown",
      "metadata": {},
      "source": [
        "If we don't care whether it appears in uppercase or lowercase, we can add the `-i` flag again, but there's no need to separate it from the `-c` flag; they can be introduced together."
      ]
    },
    {
      "cell_type": "code",
      "execution_count": 154,
      "metadata": {},
      "outputs": [
        {
          "name": "stdout",
          "output_type": "stream",
          "text": [
            "105\n"
          ]
        }
      ],
      "source": [
        "!grep -ci MaximoFN 2021-02-11-Introduccion-a-Python.ipynb"
      ]
    },
    {
      "cell_type": "markdown",
      "metadata": {},
      "source": [
        "If we now want all the times when the word `M\u00e1ximoFN` does **not** appear, we introduce the `-v` flag."
      ]
    },
    {
      "cell_type": "code",
      "execution_count": 155,
      "metadata": {},
      "outputs": [
        {
          "name": "stdout",
          "output_type": "stream",
          "text": [
            "11573\n"
          ]
        }
      ],
      "source": [
        "!grep -cv MaximoFN 2021-02-11-Introduccion-a-Python.ipynb"
      ]
    },
    {
      "cell_type": "markdown",
      "metadata": {},
      "source": [
        "## Network Utilities"
      ]
    },
    {
      "cell_type": "markdown",
      "metadata": {},
      "source": [
        "### Network Interface Information with `ifconfig`"
      ]
    },
    {
      "cell_type": "markdown",
      "metadata": {},
      "source": [
        "The first command will be `ifconfig`, which shows us information about our network interfaces."
      ]
    },
    {
      "cell_type": "code",
      "execution_count": 156,
      "metadata": {},
      "outputs": [
        {
          "name": "stdout",
          "output_type": "stream",
          "text": [
            "br-470e52ae2708: flags=4099<UP,BROADCAST,MULTICAST>  mtu 1500\n",
            "        inet 172.18.0.1  netmask 255.255.0.0  broadcast 172.18.255.255\n",
            "        ether 02:42:ac:d0:b9:eb  txqueuelen 0  (Ethernet)\n",
            "        RX packets 0  bytes 0 (0.0 B)\n",
            "        RX errors 0  dropped 0  overruns 0  frame 0\n",
            "        TX packets 0  bytes 0 (0.0 B)\n",
            "        TX errors 0  dropped 0 overruns 0  carrier 0  collisions 0\n",
            "\n",
            "docker0: flags=4099<UP,BROADCAST,MULTICAST>  mtu 1500\n",
            "        inet 172.17.0.1  netmask 255.255.0.0  broadcast 172.17.255.255\n",
            "        ether 02:42:5d:15:1c:e9  txqueuelen 0  (Ethernet)\n",
            "        RX packets 0  bytes 0 (0.0 B)\n",
            "        RX errors 0  dropped 0  overruns 0  frame 0\n",
            "        TX packets 0  bytes 0 (0.0 B)\n",
            "        TX errors 0  dropped 0 overruns 0  carrier 0  collisions 0\n",
            "\n",
            "enp6s0: flags=4163<UP,BROADCAST,RUNNING,MULTICAST>  mtu 1500\n",
            "        inet 192.168.1.144  netmask 255.255.255.0  broadcast 192.168.1.255\n",
            "        inet6 fe80::7dc2:6944:3fbe:c18e  prefixlen 64  scopeid 0x20<link>\n",
            "        ether 24:4b:fe:5c:f6:59  txqueuelen 1000  (Ethernet)\n",
            "        RX packets 144369  bytes 123807349 (123.8 MB)\n",
            "        RX errors 0  dropped 2056  overruns 0  frame 0\n",
            "        TX packets 100672  bytes 55678042 (55.6 MB)\n",
            "        TX errors 0  dropped 0 overruns 0  carrier 0  collisions 0\n",
            "\n",
            "lo: flags=73<UP,LOOPBACK,RUNNING>  mtu 65536\n",
            "        inet 127.0.0.1  netmask 255.0.0.0\n",
            "        inet6 ::1  prefixlen 128  scopeid 0x10<host>\n",
            "        loop  txqueuelen 1000  (Bucle local)\n",
            "        RX packets 10748  bytes 1832545 (1.8 MB)\n",
            "        RX errors 0  dropped 0  overruns 0  frame 0\n",
            "        TX packets 10748  bytes 1832545 (1.8 MB)\n",
            "        TX errors 0  dropped 0 overruns 0  carrier 0  collisions 0\n",
            "\n",
            "wlp5s0: flags=4099<UP,BROADCAST,MULTICAST>  mtu 1500\n",
            "        ether 4c:77:cb:1d:66:cc  txqueuelen 1000  (Ethernet)\n",
            "        RX packets 0  bytes 0 (0.0 B)\n",
            "        RX errors 0  dropped 0  overruns 0  frame 0\n",
            "        TX packets 0  bytes 0 (0.0 B)\n",
            "        TX errors 0  dropped 0 overruns 0  carrier 0  collisions 0\n",
            "\n"
          ]
        }
      ],
      "source": [
        "!ifconfig"
      ]
    },
    {
      "cell_type": "markdown",
      "metadata": {},
      "source": [
        "As we can see, we have the information of all network interfaces on my computer, but if I want to know only one, it is specified by adding its name."
      ]
    },
    {
      "cell_type": "code",
      "execution_count": 157,
      "metadata": {},
      "outputs": [
        {
          "name": "stdout",
          "output_type": "stream",
          "text": [
            "enp6s0: flags=4163<UP,BROADCAST,RUNNING,MULTICAST>  mtu 1500\n",
            "        inet 192.168.1.144  netmask 255.255.255.0  broadcast 192.168.1.255\n",
            "        inet6 fe80::7dc2:6944:3fbe:c18e  prefixlen 64  scopeid 0x20<link>\n",
            "        ether 24:4b:fe:5c:f6:59  txqueuelen 1000  (Ethernet)\n",
            "        RX packets 144467  bytes 123842258 (123.8 MB)\n",
            "        RX errors 0  dropped 2060  overruns 0  frame 0\n",
            "        TX packets 100786  bytes 55749109 (55.7 MB)\n",
            "        TX errors 0  dropped 0 overruns 0  carrier 0  collisions 0\n",
            "\n"
          ]
        }
      ],
      "source": [
        "!ifconfig enp6s0"
      ]
    },
    {
      "cell_type": "markdown",
      "metadata": {},
      "source": [
        "### Network interface information with `ip`"
      ]
    },
    {
      "cell_type": "markdown",
      "metadata": {},
      "source": [
        "Another way to get information about our network interfaces is through the `ip` command, adding `a` gives us information about all interfaces."
      ]
    },
    {
      "cell_type": "code",
      "execution_count": 158,
      "metadata": {},
      "outputs": [
        {
          "name": "stdout",
          "output_type": "stream",
          "text": [
            "1: lo: <LOOPBACK,UP,LOWER_UP> mtu 65536 qdisc noqueue state UNKNOWN group default qlen 1000\n",
            "    link/loopback 00:00:00:00:00:00 brd 00:00:00:00:00:00\n",
            "    inet 127.0.0.1/8 scope host lo\n",
            "       valid_lft forever preferred_lft forever\n",
            "    inet6 ::1/128 scope host \n",
            "       valid_lft forever preferred_lft forever\n",
            "2: enp6s0: <BROADCAST,MULTICAST,UP,LOWER_UP> mtu 1500 qdisc fq_codel state UP group default qlen 1000\n",
            "    link/ether 24:4b:fe:5c:f6:59 brd ff:ff:ff:ff:ff:ff\n",
            "    inet 192.168.1.144/24 brd 192.168.1.255 scope global dynamic noprefixroute enp6s0\n",
            "       valid_lft 80218sec preferred_lft 80218sec\n",
            "    inet6 fe80::7dc2:6944:3fbe:c18e/64 scope link noprefixroute \n",
            "       valid_lft forever preferred_lft forever\n",
            "3: wlp5s0: <NO-CARRIER,BROADCAST,MULTICAST,UP> mtu 1500 qdisc noqueue state DOWN group default qlen 1000\n",
            "    link/ether 4c:77:cb:1d:66:cc brd ff:ff:ff:ff:ff:ff\n",
            "4: br-470e52ae2708: <NO-CARRIER,BROADCAST,MULTICAST,UP> mtu 1500 qdisc noqueue state DOWN group default \n",
            "    link/ether 02:42:ac:d0:b9:eb brd ff:ff:ff:ff:ff:ff\n",
            "    inet 172.18.0.1/16 brd 172.18.255.255 scope global br-470e52ae2708\n",
            "       valid_lft forever preferred_lft forever\n",
            "5: docker0: <NO-CARRIER,BROADCAST,MULTICAST,UP> mtu 1500 qdisc noqueue state DOWN group default \n",
            "    link/ether 02:42:5d:15:1c:e9 brd ff:ff:ff:ff:ff:ff\n",
            "    inet 172.17.0.1/16 brd 172.17.255.255 scope global docker0\n",
            "       valid_lft forever preferred_lft forever\n"
          ]
        }
      ],
      "source": [
        "!ip a"
      ]
    },
    {
      "cell_type": "markdown",
      "metadata": {},
      "source": [
        "### Communication test with `ping`"
      ]
    },
    {
      "cell_type": "markdown",
      "metadata": {},
      "source": [
        "Another useful command is `ping`, which can be used to check if we have a connection with a specific `IP`. For example, the `IP` of Google is `142.250.200.78`, so we can send a `ping` to see if it responds. The `ping` command in Linux sends continuous `ping`s, so it never stops until you stop it. To prevent this, we add the `-c` flag and the number of attempts."
      ]
    },
    {
      "cell_type": "code",
      "execution_count": 161,
      "metadata": {},
      "outputs": [
        {
          "name": "stdout",
          "output_type": "stream",
          "text": [
            "PING 142.250.200.132 (142.250.200.132) 56(84) bytes of data.\n",
            "64 bytes from 142.250.200.132: icmp_seq=1 ttl=117 time=3.46 ms\n",
            "64 bytes from 142.250.200.132: icmp_seq=2 ttl=117 time=3.77 ms\n",
            "64 bytes from 142.250.200.132: icmp_seq=3 ttl=117 time=2.81 ms\n",
            "64 bytes from 142.250.200.132: icmp_seq=4 ttl=117 time=2.86 ms\n",
            "\n",
            "--- 142.250.200.132 ping statistics ---\n",
            "4 packets transmitted, 4 received, 0% packet loss, time 3004ms\n",
            "rtt min/avg/max/mdev = 2.812/3.227/3.773/0.405 ms\n"
          ]
        }
      ],
      "source": [
        "!ping 142.250.200.132 -c 4"
      ]
    },
    {
      "cell_type": "markdown",
      "metadata": {},
      "source": [
        "The same would have happened if we had done it directly on `google.com`"
      ]
    },
    {
      "cell_type": "code",
      "execution_count": 160,
      "metadata": {},
      "outputs": [
        {
          "name": "stdout",
          "output_type": "stream",
          "text": [
            "PING www.google.com (142.250.200.132) 56(84) bytes of data.\n",
            "64 bytes from mad41s14-in-f4.1e100.net (142.250.200.132): icmp_seq=1 ttl=117 time=2.74 ms\n",
            "64 bytes from mad41s14-in-f4.1e100.net (142.250.200.132): icmp_seq=2 ttl=117 time=3.96 ms\n",
            "64 bytes from mad41s14-in-f4.1e100.net (142.250.200.132): icmp_seq=3 ttl=117 time=3.56 ms\n",
            "64 bytes from mad41s14-in-f4.1e100.net (142.250.200.132): icmp_seq=4 ttl=117 time=2.87 ms\n",
            "\n",
            "--- www.google.com ping statistics ---\n",
            "4 packets transmitted, 4 received, 0% packet loss, time 3003ms\n",
            "rtt min/avg/max/mdev = 2.741/3.283/3.962/0.499 ms\n"
          ]
        }
      ],
      "source": [
        "!ping www.google.com -c 4"
      ]
    },
    {
      "cell_type": "markdown",
      "metadata": {},
      "source": [
        "### Download source files with `curl`"
      ]
    },
    {
      "cell_type": "markdown",
      "metadata": {},
      "source": [
        "We can obtain a text file from a given address using the `curl` command, for example, we can download the HTML of Google"
      ]
    },
    {
      "cell_type": "code",
      "execution_count": 162,
      "metadata": {},
      "outputs": [
        {
          "name": "stdout",
          "output_type": "stream",
          "text": [
            "<!doctype html><html itemscope=\"\" itemtype=\"http://schema.org/WebPage\" lang=\"es\"><head><meta content=\"Google.es permite acceder a la informaci\ufffdn mundial en castellano, catal\ufffdn, gallego, euskara e ingl\ufffds.\" name=\"description\"><meta content=\"noodp\" name=\"robots\"><meta content=\"text/html; charset=UTF-8\" http-equiv=\"Content-Type\"><meta content=\"/images/branding/googleg/1x/googleg_standard_color_128dp.png\" itemprop=\"image\"><title>Google</title><script nonce=\"zXcc4tMJWBRoE7q_o_Z2fQ\">(function(){window.google={kEI:'M5GOY6PeLr-jkdUP1pir0AE',kEXPI:'0,1359409,6059,206,4804,2316,383,246,5,5367,1123753,1197713,688,380089,16115,28684,22430,1362,12312,17587,4998,13228,3847,10622,22741,5081,1593,1279,2742,149,1103,840,1983,214,4100,3514,606,2023,2297,14670,3227,2845,7,4773,28997,1850,15757,3,346,230,6459,149,13975,4,1528,2304,7039,27731,7357,13658,4437,16786,5815,2542,4094,4052,3,3541,1,14262,27892,2,14022,6248,19490,5680,1021,2380,28741,4569,6255,23421,1252,5835,14967,4333,7484,11406,15676,8155,7381,15970,873,14804,1,4828,7,1922,5784,12208,10330,587,12192,4832,26504,5796,3,14433,3890,751,13384,1499,3,679,1622,1779,1886,338,1627,1119,6,8909,80,243,458,3438,1763,722,1020,813,91,1133,10,280,2306,44,77,1420,3,562,402,314,275,2095,440,399,138,384,1033,334,2667,2,723,444,79,403,501,929,3,785,2,240,78,2022,284,196,732,175,342,244,617,335,1,841,1275,14,979,57,857,446,2,1900,838,251,227,50,21,8,3,442,57,40,936,697,773,95,121,643,1502,163,355,702,195,1,452,50,334,687,109,1,19,109,134,546,80,5,36,124,68,135,131,415,47,27,266,563,48,231,742,15,527,2,6,495,1,495,5,62,1627,441,262,5,3,648,3,6,4,13,39,538,792,337,9,115,98,180,148,308,401,1240,2,726,243,2044,5286450,84,19,32,115,11,70,5995534,2803414,3311,141,795,19735,1,1,346,1755,1004,41,342,1,189,14,1,10,8,1,5,4,2,1,3,2,2,1,3,1,3,1,4,3,1,3,2,2,23947076,511,21,11,4041599,1964,1007,2087,13579,3102,303,5595,11,3835,3637,2623,9,136,1524825',kBL:'p9Xv'};google.sn='webhp';google.kHL='es';})();(function(){\n",
            "var f=this||self;var h,k=[];function l(a){for(var b;a&&(!a.getAttribute||!(b=a.getAttribute(\"eid\")));)a=a.parentNode;return b||h}function m(a){for(var b=null;a&&(!a.getAttribute||!(b=a.getAttribute(\"leid\")));)a=a.parentNode;return b}\n",
            "function n(a,b,c,d,g){var e=\"\";c||-1!==b.search(\"&ei=\")||(e=\"&ei=\"+l(d),-1===b.search(\"&lei=\")&&(d=m(d))&&(e+=\"&lei=\"+d));d=\"\";!c&&f._cshid&&-1===b.search(\"&cshid=\")&&\"slh\"!==a&&(d=\"&cshid=\"+f._cshid);c=c||\"/\"+(g||\"gen_204\")+\"?atyp=i&ct=\"+a+\"&cad=\"+b+e+\"&zx=\"+Date.now()+d;/^http:/i.test(c)&&\"https:\"===window.location.protocol&&(google.ml&&google.ml(Error(\"a\"),!1,{src:c,glmm:1}),c=\"\");return c};h=google.kEI;google.getEI=l;google.getLEI=m;google.ml=function(){return null};google.log=function(a,b,c,d,g){if(c=n(a,b,c,d,g)){a=new Image;var e=k.length;k[e]=a;a.onerror=a.onload=a.onabort=function(){delete k[e]};a.src=c}};google.logUrl=n;}).call(this);(function(){google.y={};google.sy=[];google.x=function(a,b){if(a)var c=a.id;else{do c=Math.random();while(google.y[c])}google.y[c]=[a,b];return!1};google.sx=function(a){google.sy.push(a)};google.lm=[];google.plm=function(a){google.lm.push.apply(google.lm,a)};google.lq=[];google.load=function(a,b,c){google.lq.push([[a],b,c])};google.loadAll=function(a,b){google.lq.push([a,b])};google.bx=!1;google.lx=function(){};}).call(this);google.f={};(function(){\n",
            "document.documentElement.addEventListener(\"submit\",function(b){var a;if(a=b.target){var c=a.getAttribute(\"data-submitfalse\");a=\"1\"===c||\"q\"===c&&!a.elements.q.value?!0:!1}else a=!1;a&&(b.preventDefault(),b.stopPropagation())},!0);document.documentElement.addEventListener(\"click\",function(b){var a;a:{for(a=b.target;a&&a!==document.documentElement;a=a.parentElement)if(\"A\"===a.tagName){a=\"1\"===a.getAttribute(\"data-nohref\");break a}a=!1}a&&b.preventDefault()},!0);}).call(this);</script><style>#gbar,#guser{font-size:13px;padding-top:1px !important;}#gbar{height:22px}#guser{padding-bottom:7px !important;text-align:right}.gbh,.gbd{border-top:1px solid #c9d7f1;font-size:1px}.gbh{height:0;position:absolute;top:24px;width:100%}@media all{.gb1{height:22px;margin-right:.5em;vertical-align:top}#gbar{float:left}}a.gb1,a.gb4{text-decoration:underline !important}a.gb1,a.gb4{color:#00c !important}.gbi .gb4{color:#dd8e27 !important}.gbf .gb4{color:#900 !important}\n",
            "</style><style>body,td,a,p,.h{font-family:arial,sans-serif}body{margin:0;overflow-y:scroll}#gog{padding:3px 8px 0}td{line-height:.8em}.gac_m td{line-height:17px}form{margin-bottom:20px}.h{color:#1558d6}em{font-weight:bold;font-style:normal}.lst{height:25px;width:496px}.gsfi,.lst{font:18px arial,sans-serif}.gsfs{font:17px arial,sans-serif}.ds{display:inline-box;display:inline-block;margin:3px 0 4px;margin-left:4px}input{font-family:inherit}body{background:#fff;color:#000}a{color:#4b11a8;text-decoration:none}a:hover,a:active{text-decoration:underline}.fl a{color:#1558d6}a:visited{color:#4b11a8}.sblc{padding-top:5px}.sblc a{display:block;margin:2px 0;margin-left:13px;font-size:11px}.lsbb{background:#f8f9fa;border:solid 1px;border-color:#dadce0 #70757a #70757a #dadce0;height:30px}.lsbb{display:block}#WqQANb a{display:inline-block;margin:0 12px}.lsb{background:url(/images/nav_logo229.png) 0 -261px repeat-x;border:none;color:#000;cursor:pointer;height:30px;margin:0;outline:0;font:15px arial,sans-serif;vertical-align:top}.lsb:active{background:#dadce0}.lst:focus{outline:none}</style><script nonce=\"zXcc4tMJWBRoE7q_o_Z2fQ\">(function(){window.google.erd={jsr:1,bv:1698,de:true};\n",
            "var h=this||self;var k,l=null!=(k=h.mei)?k:1,n,p=null!=(n=h.sdo)?n:!0,q=0,r,t=google.erd,v=t.jsr;google.ml=function(a,b,d,m,e){e=void 0===e?2:e;b&&(r=a&&a.message);if(google.dl)return google.dl(a,e,d),null;if(0>v){window.console&&console.error(a,d);if(-2===v)throw a;b=!1}else b=!a||!a.message||\"Error loading script\"===a.message||q>=l&&!m?!1:!0;if(!b)return null;q++;d=d||{};b=encodeURIComponent;var c=\"/gen_204?atyp=i&ei=\"+b(google.kEI);google.kEXPI&&(c+=\"&jexpid=\"+b(google.kEXPI));c+=\"&srcpg=\"+b(google.sn)+\"&jsr=\"+b(t.jsr)+\"&bver=\"+b(t.bv);var f=a.lineNumber;void 0!==f&&(c+=\"&line=\"+f);var g=\n",
            "a.fileName;g&&(0<g.indexOf(\"-extension:/\")&&(e=3),c+=\"&script=\"+b(g),f&&g===window.location.href&&(f=document.documentElement.outerHTML.split(\"\\n\")[f],c+=\"&cad=\"+b(f?f.substring(0,300):\"No script found.\")));c+=\"&jsel=\"+e;for(var u in d)c+=\"&\",c+=b(u),c+=\"=\",c+=b(d[u]);c=c+\"&emsg=\"+b(a.name+\": \"+a.message);c=c+\"&jsst=\"+b(a.stack||\"N/A\");12288<=c.length&&(c=c.substr(0,12288));a=c;m||google.log(0,\"\",a);return a};window.onerror=function(a,b,d,m,e){r!==a&&(a=e instanceof Error?e:Error(a),void 0===d||\"lineNumber\"in a||(a.lineNumber=d),void 0===b||\"fileName\"in a||(a.fileName=b),google.ml(a,!1,void 0,!1,\"SyntaxError\"===a.name||\"SyntaxError\"===a.message.substring(0,11)||-1!==a.message.indexOf(\"Script error\")?3:0));r=null;p&&q>=l&&(window.onerror=null)};})();</script></head><body bgcolor=\"#fff\"><script nonce=\"zXcc4tMJWBRoE7q_o_Z2fQ\">(function(){var src='/images/nav_logo229.png';var iesg=false;document.body.onload = function(){window.n && window.n();if (document.images){new Image().src=src;}\n",
            "if (!iesg){document.f&&document.f.q.focus();document.gbqf&&document.gbqf.q.focus();}\n",
            "}\n",
            "})();</script><div id=\"mngb\"><div id=gbar><nobr><b class=gb1>B\ufffdsqueda</b> <a class=gb1 href=\"https://www.google.es/imghp?hl=es&tab=wi\">Im\ufffdgenes</a> <a class=gb1 href=\"https://maps.google.es/maps?hl=es&tab=wl\">Maps</a> <a class=gb1 href=\"https://play.google.com/?hl=es&tab=w8\">Play</a> <a class=gb1 href=\"https://www.youtube.com/?tab=w1\">YouTube</a> <a class=gb1 href=\"https://news.google.com/?tab=wn\">Noticias</a> <a class=gb1 href=\"https://mail.google.com/mail/?tab=wm\">Gmail</a> <a class=gb1 href=\"https://drive.google.com/?tab=wo\">Drive</a> <a class=gb1 style=\"text-decoration:none\" href=\"https://www.google.es/intl/es/about/products?tab=wh\"><u>M\ufffds</u> &raquo;</a></nobr></div><div id=guser width=100%><nobr><span id=gbn class=gbi></span><span id=gbf class=gbf></span><span id=gbe></span><a href=\"http://www.google.es/history/optout?hl=es\" class=gb4>Historial web</a> | <a  href=\"/preferences?hl=es\" class=gb4>Ajustes</a> | <a target=_top id=gb_70 href=\"https://accounts.google.com/ServiceLogin?hl=es&passive=true&continue=https://www.google.com/&ec=GAZAAQ\" class=gb4>Iniciar sesi\ufffdn</a></nobr></div><div class=gbh style=left:0></div><div class=gbh style=right:0></div></div><center><br clear=\"all\" id=\"lgpd\"><div id=\"lga\"><img alt=\"Google\" height=\"92\" src=\"/images/branding/googlelogo/1x/googlelogo_white_background_color_272x92dp.png\" style=\"padding:28px 0 14px\" width=\"272\" id=\"hplogo\"><br><br></div><form action=\"/search\" name=\"f\"><table cellpadding=\"0\" cellspacing=\"0\"><tr valign=\"top\"><td width=\"25%\">&nbsp;</td><td align=\"center\" nowrap=\"\"><input name=\"ie\" value=\"ISO-8859-1\" type=\"hidden\"><input value=\"es\" name=\"hl\" type=\"hidden\"><input name=\"source\" type=\"hidden\" value=\"hp\"><input name=\"biw\" type=\"hidden\"><input name=\"bih\" type=\"hidden\"><div class=\"ds\" style=\"height:32px;margin:4px 0\"><input class=\"lst\" style=\"margin:0;padding:5px 8px 0 6px;vertical-align:top;color:#000\" autocomplete=\"off\" value=\"\" title=\"Buscar con Google\" maxlength=\"2048\" name=\"q\" size=\"57\"></div><br style=\"line-height:0\"><span class=\"ds\"><span class=\"lsbb\"><input class=\"lsb\" value=\"Buscar con Google\" name=\"btnG\" type=\"submit\"></span></span><span class=\"ds\"><span class=\"lsbb\"><input class=\"lsb\" id=\"tsuid_1\" value=\"Voy a tener suerte\" name=\"btnI\" type=\"submit\"><script nonce=\"zXcc4tMJWBRoE7q_o_Z2fQ\">(function(){var id='tsuid_1';document.getElementById(id).onclick = function(){if (this.form.q.value){this.checked = 1;if (this.form.iflsig)this.form.iflsig.disabled = false;}\n",
            "else top.location='/doodles/';};})();</script><input value=\"AJiK0e8AAAAAY46fQwdyVrbrgW6gkEtVkGfp2nyO0ZXL\" name=\"iflsig\" type=\"hidden\"></span></span></td><td class=\"fl sblc\" align=\"left\" nowrap=\"\" width=\"25%\"><a href=\"/advanced_search?hl=es&amp;authuser=0\">B\ufffdsqueda avanzada</a></td></tr></table><input id=\"gbv\" name=\"gbv\" type=\"hidden\" value=\"1\"><script nonce=\"zXcc4tMJWBRoE7q_o_Z2fQ\">(function(){var a,b=\"1\";if(document&&document.getElementById)if(\"undefined\"!=typeof XMLHttpRequest)b=\"2\";else if(\"undefined\"!=typeof ActiveXObject){var c,d,e=[\"MSXML2.XMLHTTP.6.0\",\"MSXML2.XMLHTTP.3.0\",\"MSXML2.XMLHTTP\",\"Microsoft.XMLHTTP\"];for(c=0;d=e[c++];)try{new ActiveXObject(d),b=\"2\"}catch(h){}}a=b;if(\"2\"==a&&-1==location.search.indexOf(\"&gbv=2\")){var f=google.gbvu,g=document.getElementById(\"gbv\");g&&(g.value=a);f&&window.setTimeout(function(){location.href=f},0)};}).call(this);</script></form><div id=\"gac_scont\"></div><div style=\"font-size:83%;min-height:3.5em\"><br><div id=\"gws-output-pages-elements-homepage_additional_languages__als\"><style>#gws-output-pages-elements-homepage_additional_languages__als{font-size:small;margin-bottom:24px}#SIvCob{color:#3c4043;display:inline-block;line-height:28px;}#SIvCob a{padding:0 3px;}.H6sW5{display:inline-block;margin:0 2px;white-space:nowrap}.z4hgWe{display:inline-block;margin:0 2px}</style><div id=\"SIvCob\">Ofrecido por Google en:  <a href=\"https://www.google.com/setprefs?sig=0_vwUKUD2Xhro4NnrueK1hCfItt30%3D&amp;hl=ca&amp;source=homepage&amp;sa=X&amp;ved=0ahUKEwjjw_C44uP7AhW_UaQEHVbMChoQ2ZgBCAU\">catal\ufffd</a>    <a href=\"https://www.google.com/setprefs?sig=0_vwUKUD2Xhro4NnrueK1hCfItt30%3D&amp;hl=gl&amp;source=homepage&amp;sa=X&amp;ved=0ahUKEwjjw_C44uP7AhW_UaQEHVbMChoQ2ZgBCAY\">galego</a>    <a href=\"https://www.google.com/setprefs?sig=0_vwUKUD2Xhro4NnrueK1hCfItt30%3D&amp;hl=eu&amp;source=homepage&amp;sa=X&amp;ved=0ahUKEwjjw_C44uP7AhW_UaQEHVbMChoQ2ZgBCAc\">euskara</a>  </div></div></div><span id=\"footer\"><div style=\"font-size:10pt\"><div style=\"margin:19px auto;text-align:center\" id=\"WqQANb\"><a href=\"http://www.google.es/intl/es/services/\">Soluciones Empresariales</a><a href=\"/intl/es/about.html\">Todo acerca de Google</a><a href=\"https://www.google.com/setprefdomain?prefdom=ES&amp;prev=https://www.google.es/&amp;sig=K_a2UXepORMQOw5-SHU8h4noB_VWk%3D\">Google.es</a></div></div><p style=\"font-size:8pt;color:#70757a\">&copy; 2022 - <a href=\"/intl/es/policies/privacy/\">Privacidad</a> - <a href=\"/intl/es/policies/terms/\">T\ufffdrminos</a></p></span></center><script nonce=\"zXcc4tMJWBRoE7q_o_Z2fQ\">(function(){window.google.cdo={height:757,width:1440};(function(){var a=window.innerWidth,b=window.innerHeight;if(!a||!b){var c=window.document,d=\"CSS1Compat\"==c.compatMode?c.documentElement:c.body;a=d.clientWidth;b=d.clientHeight}a&&b&&(a!=google.cdo.width||b!=google.cdo.height)&&google.log(\"\",\"\",\"/client_204?&atyp=i&biw=\"+a+\"&bih=\"+b+\"&ei=\"+google.kEI);}).call(this);})();</script> <script nonce=\"zXcc4tMJWBRoE7q_o_Z2fQ\">(function(){google.xjs={ck:'xjs.hp.oxai9SxkIQY.L.X.O',cs:'ACT90oEGh-_ImDfBjn6aD_ABGaOlD2MqVw',excm:[]};})();</script>  <script nonce=\"zXcc4tMJWBRoE7q_o_Z2fQ\">(function(){var u='/xjs/_/js/k\\x3dxjs.hp.en.9b-uVUIpJU8.O/am\\x3dAADoBABQAGAB/d\\x3d1/ed\\x3d1/rs\\x3dACT90oG-6KYVksw4jxVvNcwan406xE6qVw/m\\x3dsb_he,d';var amd=0;\n",
            "var d=this||self,e=function(a){return a};var g;var l=function(a,b){this.g=b===h?a:\"\"};l.prototype.toString=function(){return this.g+\"\"};var h={};\n",
            "function m(){var a=u;google.lx=function(){p(a);google.lx=function(){}};google.bx||google.lx()}\n",
            "function p(a){google.timers&&google.timers.load&&google.tick&&google.tick(\"load\",\"xjsls\");var b=document;var c=\"SCRIPT\";\"application/xhtml+xml\"===b.contentType&&(c=c.toLowerCase());c=b.createElement(c);if(void 0===g){b=null;var k=d.trustedTypes;if(k&&k.createPolicy){try{b=k.createPolicy(\"goog#html\",{createHTML:e,createScript:e,createScriptURL:e})}catch(q){d.console&&d.console.error(q.message)}g=b}else g=b}a=(b=g)?b.createScriptURL(a):a;a=new l(a,h);c.src=a instanceof l&&a.constructor===l?a.g:\"type_error:TrustedResourceUrl\";var f,n;(f=(a=null==(n=(f=(c.ownerDocument&&c.ownerDocument.defaultView||window).document).querySelector)?void 0:n.call(f,\"script[nonce]\"))?a.nonce||a.getAttribute(\"nonce\")||\"\":\"\")&&c.setAttribute(\"nonce\",f);document.body.appendChild(c);google.psa=!0};google.xjsu=u;setTimeout(function(){0<amd?google.caft(function(){return m()},amd):m()},0);})();function _DumpException(e){throw e;}\n",
            "function _F_installCss(c){}\n",
            "(function(){google.jl={blt:'none',chnk:0,dw:false,dwu:true,emtn:0,end:0,ico:false,ikb:0,ine:false,injs:'none',injt:0,injth:0,injv2:false,lls:'default',pdt:0,rep:0,snet:true,strt:0,ubm:false,uwp:true};})();(function(){var pmc='{\\x22d\\x22:{},\\x22sb_he\\x22:{\\x22agen\\x22:true,\\x22cgen\\x22:true,\\x22client\\x22:\\x22heirloom-hp\\x22,\\x22dh\\x22:true,\\x22ds\\x22:\\x22\\x22,\\x22fl\\x22:true,\\x22host\\x22:\\x22google.com\\x22,\\x22jsonp\\x22:true,\\x22lm\\x22:true,\\x22msgs\\x22:{\\x22cibl\\x22:\\x22Borrar b\ufffdsqueda\\x22,\\x22dym\\x22:\\x22Quiz\ufffds quisiste decir:\\x22,\\x22lcky\\x22:\\x22Voy a tener suerte\\x22,\\x22lml\\x22:\\x22M\ufffds informaci\ufffdn\\x22,\\x22psrc\\x22:\\x22Esta b\ufffdsqueda se ha eliminado de tu \\\\u003Ca href\\x3d\\\\\\x22/history\\\\\\x22\\\\u003Ehistorial web\\\\u003C/a\\\\u003E.\\x22,\\x22psrl\\x22:\\x22Eliminar\\x22,\\x22sbit\\x22:\\x22Buscar por imagen\\x22,\\x22srch\\x22:\\x22Buscar con Google\\x22},\\x22ovr\\x22:{},\\x22pq\\x22:\\x22\\x22,\\x22rfs\\x22:[],\\x22sbas\\x22:\\x220 3px 8px 0 rgba(0,0,0,0.2),0 0 0 1px rgba(0,0,0,0.08)\\x22,\\x22stok\\x22:\\x22gh8wSanWNWQy8f-PH0wGTjDkvYQ\\x22}}';google.pmc=JSON.parse(pmc);})();</script>        </body></html>"
          ]
        }
      ],
      "source": [
        "!curl https://www.google.com"
      ]
    },
    {
      "cell_type": "markdown",
      "metadata": {},
      "source": [
        "We can also create a pipeline to save it to a file"
      ]
    },
    {
      "cell_type": "code",
      "execution_count": 163,
      "metadata": {},
      "outputs": [
        {
          "name": "stdout",
          "output_type": "stream",
          "text": [
            "  % Total    % Received % Xferd  Average Speed   Time    Time     Time  Current\n",
            "                                 Dload  Upload   Total   Spent    Left  Speed\n",
            "100 15168    0 15168    0     0   135k      0 --:--:-- --:--:-- --:--:--  137k\n"
          ]
        }
      ],
      "source": [
        "!curl https://www.google.com > google.html"
      ]
    },
    {
      "cell_type": "markdown",
      "metadata": {},
      "source": [
        "Now we can check if it has been saved correctly"
      ]
    },
    {
      "cell_type": "code",
      "execution_count": 165,
      "metadata": {},
      "outputs": [
        {
          "name": "stdout",
          "output_type": "stream",
          "text": [
            "<!doctype html><html itemscope=\"\" itemtype=\"http://schema.org/WebPage\" lang=\"es\"><head><meta content=\"Google.es permite acceder a la informaci\ufffdn mundial en castellano, catal\ufffdn, gallego, euskara e ingl\ufffds.\" name=\"description\"><meta content=\"noodp\" name=\"robots\"><meta content=\"text/html; charset=UTF-8\" http-equiv=\"Content-Type\"><meta content=\"/images/branding/googleg/1x/googleg_standard_color_128dp.png\" itemprop=\"image\"><title>Google</title><script nonce=\"Jo7WFU6XWWwu6NrdwaRyIw\">(function(){window.google={kEI:'R5GOY-LZHLegkdUP_IqzoAE',kEXPI:'0,1359409,6059,206,4804,2316,383,246,5,5367,1123753,1197777,380713,16115,28684,22430,1362,283,12036,17580,4998,13228,516,3331,10622,22741,5081,1593,1279,2742,149,1103,840,1983,4,210,4100,3514,606,2023,2299,14668,3229,2843,7,4773,826,23475,4696,1851,15756,3,346,230,6459,149,13975,4,1528,2304,7039,20309,7422,7357,13658,4437,16786,5812,2545,4094,4052,3,3541,1,11943,30211,2,8984,1,5037,6249,19490,5679,1020,2378,28745,4568,6258,23418,1252,5835,14967,4333,4239,3245,27082,239,7916,7381,15969,874,19633,6,1923,5784,3995,21779,1120,8423,4832,26080,423,107,5690,3,14433,3890,751,14879,3,683,217,1405,1779,1854,31,1966,1119,6,8909,323,5659,1741,814,1224,10,280,2346,82,1419,3,565,401,519,68,970,1125,440,398,156,367,1034,333,3392,526,396,3,1431,3,785,2,312,2312,196,907,342,244,618,314,1,293,568,171,1104,14,89,891,56,857,306,14,509,154,246,1110,219,628,249,229,49,8,8,3,55,4,399,55,39,1072,49,43,2,468,782,83,123,641,1502,166,350,707,195,5,140,358,329,692,109,1,20,108,134,547,67,5,49,93,31,77,124,79,355,160,27,829,236,764,12,35,118,98,803,1,65,436,5,5,54,2065,262,5,3,647,3,8,2,14,39,65,380,80,14,790,346,115,99,1323,4,711,242,2,723,2286,5280608,12,5934,147,81,8798948,3311,141,795,19735,1,1,346,1755,1004,41,342,1,189,14,9,4,6,3,3,4,1,2,2,3,2,2,2,1,2,5,2,2,1,2,2,2,23947077,512,18,13,2737921,1303678,1964,3094,13579,3405,5595,11,3835,1923,3208,1069,1480676,40778',kBL:'p9Xv'};google.sn='webhp';google.kHL='es';})();(function(){\n",
            "var f=this||self;var h,k=[];function l(a){for(var b;a&&(!a.getAttribute||!(b=a.getAttribute(\"eid\")));)a=a.parentNode;return b||h}function m(a){for(var b=null;a&&(!a.getAttribute||!(b=a.getAttribute(\"leid\")));)a=a.parentNode;return b}\n",
            "function n(a,b,c,d,g){var e=\"\";c||-1!==b.search(\"&ei=\")||(e=\"&ei=\"+l(d),-1===b.search(\"&lei=\")&&(d=m(d))&&(e+=\"&lei=\"+d));d=\"\";!c&&f._cshid&&-1===b.search(\"&cshid=\")&&\"slh\"!==a&&(d=\"&cshid=\"+f._cshid);c=c||\"/\"+(g||\"gen_204\")+\"?atyp=i&ct=\"+a+\"&cad=\"+b+e+\"&zx=\"+Date.now()+d;/^http:/i.test(c)&&\"https:\"===window.location.protocol&&(google.ml&&google.ml(Error(\"a\"),!1,{src:c,glmm:1}),c=\"\");return c};h=google.kEI;google.getEI=l;google.getLEI=m;google.ml=function(){return null};google.log=function(a,b,c,d,g){if(c=n(a,b,c,d,g)){a=new Image;var e=k.length;k[e]=a;a.onerror=a.onload=a.onabort=function(){delete k[e]};a.src=c}};google.logUrl=n;}).call(this);(function(){google.y={};google.sy=[];google.x=function(a,b){if(a)var c=a.id;else{do c=Math.random();while(google.y[c])}google.y[c]=[a,b];return!1};google.sx=function(a){google.sy.push(a)};google.lm=[];google.plm=function(a){google.lm.push.apply(google.lm,a)};google.lq=[];google.load=function(a,b,c){google.lq.push([[a],b,c])};google.loadAll=function(a,b){google.lq.push([a,b])};google.bx=!1;google.lx=function(){};}).call(this);google.f={};(function(){\n",
            "document.documentElement.addEventListener(\"submit\",function(b){var a;if(a=b.target){var c=a.getAttribute(\"data-submitfalse\");a=\"1\"===c||\"q\"===c&&!a.elements.q.value?!0:!1}else a=!1;a&&(b.preventDefault(),b.stopPropagation())},!0);document.documentElement.addEventListener(\"click\",function(b){var a;a:{for(a=b.target;a&&a!==document.documentElement;a=a.parentElement)if(\"A\"===a.tagName){a=\"1\"===a.getAttribute(\"data-nohref\");break a}a=!1}a&&b.preventDefault()},!0);}).call(this);</script><style>#gbar,#guser{font-size:13px;padding-top:1px !important;}#gbar{height:22px}#guser{padding-bottom:7px !important;text-align:right}.gbh,.gbd{border-top:1px solid #c9d7f1;font-size:1px}.gbh{height:0;position:absolute;top:24px;width:100%}@media all{.gb1{height:22px;margin-right:.5em;vertical-align:top}#gbar{float:left}}a.gb1,a.gb4{text-decoration:underline !important}a.gb1,a.gb4{color:#00c !important}.gbi .gb4{color:#dd8e27 !important}.gbf .gb4{color:#900 !important}\n",
            "</style><style>body,td,a,p,.h{font-family:arial,sans-serif}body{margin:0;overflow-y:scroll}#gog{padding:3px 8px 0}td{line-height:.8em}.gac_m td{line-height:17px}form{margin-bottom:20px}.h{color:#1558d6}em{font-weight:bold;font-style:normal}.lst{height:25px;width:496px}.gsfi,.lst{font:18px arial,sans-serif}.gsfs{font:17px arial,sans-serif}.ds{display:inline-box;display:inline-block;margin:3px 0 4px;margin-left:4px}input{font-family:inherit}body{background:#fff;color:#000}a{color:#4b11a8;text-decoration:none}a:hover,a:active{text-decoration:underline}.fl a{color:#1558d6}a:visited{color:#4b11a8}.sblc{padding-top:5px}.sblc a{display:block;margin:2px 0;margin-left:13px;font-size:11px}.lsbb{background:#f8f9fa;border:solid 1px;border-color:#dadce0 #70757a #70757a #dadce0;height:30px}.lsbb{display:block}#WqQANb a{display:inline-block;margin:0 12px}.lsb{background:url(/images/nav_logo229.png) 0 -261px repeat-x;border:none;color:#000;cursor:pointer;height:30px;margin:0;outline:0;font:15px arial,sans-serif;vertical-align:top}.lsb:active{background:#dadce0}.lst:focus{outline:none}</style><script nonce=\"Jo7WFU6XWWwu6NrdwaRyIw\">(function(){window.google.erd={jsr:1,bv:1698,de:true};\n",
            "var h=this||self;var k,l=null!=(k=h.mei)?k:1,n,p=null!=(n=h.sdo)?n:!0,q=0,r,t=google.erd,v=t.jsr;google.ml=function(a,b,d,m,e){e=void 0===e?2:e;b&&(r=a&&a.message);if(google.dl)return google.dl(a,e,d),null;if(0>v){window.console&&console.error(a,d);if(-2===v)throw a;b=!1}else b=!a||!a.message||\"Error loading script\"===a.message||q>=l&&!m?!1:!0;if(!b)return null;q++;d=d||{};b=encodeURIComponent;var c=\"/gen_204?atyp=i&ei=\"+b(google.kEI);google.kEXPI&&(c+=\"&jexpid=\"+b(google.kEXPI));c+=\"&srcpg=\"+b(google.sn)+\"&jsr=\"+b(t.jsr)+\"&bver=\"+b(t.bv);var f=a.lineNumber;void 0!==f&&(c+=\"&line=\"+f);var g=\n",
            "a.fileName;g&&(0<g.indexOf(\"-extension:/\")&&(e=3),c+=\"&script=\"+b(g),f&&g===window.location.href&&(f=document.documentElement.outerHTML.split(\"\\n\")[f],c+=\"&cad=\"+b(f?f.substring(0,300):\"No script found.\")));c+=\"&jsel=\"+e;for(var u in d)c+=\"&\",c+=b(u),c+=\"=\",c+=b(d[u]);c=c+\"&emsg=\"+b(a.name+\": \"+a.message);c=c+\"&jsst=\"+b(a.stack||\"N/A\");12288<=c.length&&(c=c.substr(0,12288));a=c;m||google.log(0,\"\",a);return a};window.onerror=function(a,b,d,m,e){r!==a&&(a=e instanceof Error?e:Error(a),void 0===d||\"lineNumber\"in a||(a.lineNumber=d),void 0===b||\"fileName\"in a||(a.fileName=b),google.ml(a,!1,void 0,!1,\"SyntaxError\"===a.name||\"SyntaxError\"===a.message.substring(0,11)||-1!==a.message.indexOf(\"Script error\")?3:0));r=null;p&&q>=l&&(window.onerror=null)};})();</script></head><body bgcolor=\"#fff\"><script nonce=\"Jo7WFU6XWWwu6NrdwaRyIw\">(function(){var src='/images/nav_logo229.png';var iesg=false;document.body.onload = function(){window.n && window.n();if (document.images){new Image().src=src;}\n",
            "if (!iesg){document.f&&document.f.q.focus();document.gbqf&&document.gbqf.q.focus();}\n",
            "}\n",
            "})();</script><div id=\"mngb\"><div id=gbar><nobr><b class=gb1>B\ufffdsqueda</b> <a class=gb1 href=\"https://www.google.es/imghp?hl=es&tab=wi\">Im\ufffdgenes</a> <a class=gb1 href=\"https://maps.google.es/maps?hl=es&tab=wl\">Maps</a> <a class=gb1 href=\"https://play.google.com/?hl=es&tab=w8\">Play</a> <a class=gb1 href=\"https://www.youtube.com/?tab=w1\">YouTube</a> <a class=gb1 href=\"https://news.google.com/?tab=wn\">Noticias</a> <a class=gb1 href=\"https://mail.google.com/mail/?tab=wm\">Gmail</a> <a class=gb1 href=\"https://drive.google.com/?tab=wo\">Drive</a> <a class=gb1 style=\"text-decoration:none\" href=\"https://www.google.es/intl/es/about/products?tab=wh\"><u>M\ufffds</u> &raquo;</a></nobr></div><div id=guser width=100%><nobr><span id=gbn class=gbi></span><span id=gbf class=gbf></span><span id=gbe></span><a href=\"http://www.google.es/history/optout?hl=es\" class=gb4>Historial web</a> | <a  href=\"/preferences?hl=es\" class=gb4>Ajustes</a> | <a target=_top id=gb_70 href=\"https://accounts.google.com/ServiceLogin?hl=es&passive=true&continue=https://www.google.com/&ec=GAZAAQ\" class=gb4>Iniciar sesi\ufffdn</a></nobr></div><div class=gbh style=left:0></div><div class=gbh style=right:0></div></div><center><br clear=\"all\" id=\"lgpd\"><div id=\"lga\"><img alt=\"Google\" height=\"92\" src=\"/images/branding/googlelogo/1x/googlelogo_white_background_color_272x92dp.png\" style=\"padding:28px 0 14px\" width=\"272\" id=\"hplogo\"><br><br></div><form action=\"/search\" name=\"f\"><table cellpadding=\"0\" cellspacing=\"0\"><tr valign=\"top\"><td width=\"25%\">&nbsp;</td><td align=\"center\" nowrap=\"\"><input name=\"ie\" value=\"ISO-8859-1\" type=\"hidden\"><input value=\"es\" name=\"hl\" type=\"hidden\"><input name=\"source\" type=\"hidden\" value=\"hp\"><input name=\"biw\" type=\"hidden\"><input name=\"bih\" type=\"hidden\"><div class=\"ds\" style=\"height:32px;margin:4px 0\"><input class=\"lst\" style=\"margin:0;padding:5px 8px 0 6px;vertical-align:top;color:#000\" autocomplete=\"off\" value=\"\" title=\"Buscar con Google\" maxlength=\"2048\" name=\"q\" size=\"57\"></div><br style=\"line-height:0\"><span class=\"ds\"><span class=\"lsbb\"><input class=\"lsb\" value=\"Buscar con Google\" name=\"btnG\" type=\"submit\"></span></span><span class=\"ds\"><span class=\"lsbb\"><input class=\"lsb\" id=\"tsuid_1\" value=\"Voy a tener suerte\" name=\"btnI\" type=\"submit\"><script nonce=\"Jo7WFU6XWWwu6NrdwaRyIw\">(function(){var id='tsuid_1';document.getElementById(id).onclick = function(){if (this.form.q.value){this.checked = 1;if (this.form.iflsig)this.form.iflsig.disabled = false;}\n",
            "else top.location='/doodles/';};})();</script><input value=\"AJiK0e8AAAAAY46fV7gpXBHCT6KAebFZAqGv1l-4BtIR\" name=\"iflsig\" type=\"hidden\"></span></span></td><td class=\"fl sblc\" align=\"left\" nowrap=\"\" width=\"25%\"><a href=\"/advanced_search?hl=es&amp;authuser=0\">B\ufffdsqueda avanzada</a></td></tr></table><input id=\"gbv\" name=\"gbv\" type=\"hidden\" value=\"1\"><script nonce=\"Jo7WFU6XWWwu6NrdwaRyIw\">(function(){var a,b=\"1\";if(document&&document.getElementById)if(\"undefined\"!=typeof XMLHttpRequest)b=\"2\";else if(\"undefined\"!=typeof ActiveXObject){var c,d,e=[\"MSXML2.XMLHTTP.6.0\",\"MSXML2.XMLHTTP.3.0\",\"MSXML2.XMLHTTP\",\"Microsoft.XMLHTTP\"];for(c=0;d=e[c++];)try{new ActiveXObject(d),b=\"2\"}catch(h){}}a=b;if(\"2\"==a&&-1==location.search.indexOf(\"&gbv=2\")){var f=google.gbvu,g=document.getElementById(\"gbv\");g&&(g.value=a);f&&window.setTimeout(function(){location.href=f},0)};}).call(this);</script></form><div id=\"gac_scont\"></div><div style=\"font-size:83%;min-height:3.5em\"><br><div id=\"gws-output-pages-elements-homepage_additional_languages__als\"><style>#gws-output-pages-elements-homepage_additional_languages__als{font-size:small;margin-bottom:24px}#SIvCob{color:#3c4043;display:inline-block;line-height:28px;}#SIvCob a{padding:0 3px;}.H6sW5{display:inline-block;margin:0 2px;white-space:nowrap}.z4hgWe{display:inline-block;margin:0 2px}</style><div id=\"SIvCob\">Ofrecido por Google en:  <a href=\"https://www.google.com/setprefs?sig=0_HljXEzVisqsnlJP1S5dx0Fao0Lw%3D&amp;hl=ca&amp;source=homepage&amp;sa=X&amp;ved=0ahUKEwiimaPC4uP7AhU3UKQEHXzFDBQQ2ZgBCAU\">catal\ufffd</a>    <a href=\"https://www.google.com/setprefs?sig=0_HljXEzVisqsnlJP1S5dx0Fao0Lw%3D&amp;hl=gl&amp;source=homepage&amp;sa=X&amp;ved=0ahUKEwiimaPC4uP7AhU3UKQEHXzFDBQQ2ZgBCAY\">galego</a>    <a href=\"https://www.google.com/setprefs?sig=0_HljXEzVisqsnlJP1S5dx0Fao0Lw%3D&amp;hl=eu&amp;source=homepage&amp;sa=X&amp;ved=0ahUKEwiimaPC4uP7AhU3UKQEHXzFDBQQ2ZgBCAc\">euskara</a>  </div></div></div><span id=\"footer\"><div style=\"font-size:10pt\"><div style=\"margin:19px auto;text-align:center\" id=\"WqQANb\"><a href=\"http://www.google.es/intl/es/services/\">Soluciones Empresariales</a><a href=\"/intl/es/about.html\">Todo acerca de Google</a><a href=\"https://www.google.com/setprefdomain?prefdom=ES&amp;prev=https://www.google.es/&amp;sig=K_8O8QHBmoai9DOT5YZxMWevJK8VI%3D\">Google.es</a></div></div><p style=\"font-size:8pt;color:#70757a\">&copy; 2022 - <a href=\"/intl/es/policies/privacy/\">Privacidad</a> - <a href=\"/intl/es/policies/terms/\">T\ufffdrminos</a></p></span></center><script nonce=\"Jo7WFU6XWWwu6NrdwaRyIw\">(function(){window.google.cdo={height:757,width:1440};(function(){var a=window.innerWidth,b=window.innerHeight;if(!a||!b){var c=window.document,d=\"CSS1Compat\"==c.compatMode?c.documentElement:c.body;a=d.clientWidth;b=d.clientHeight}a&&b&&(a!=google.cdo.width||b!=google.cdo.height)&&google.log(\"\",\"\",\"/client_204?&atyp=i&biw=\"+a+\"&bih=\"+b+\"&ei=\"+google.kEI);}).call(this);})();</script> <script nonce=\"Jo7WFU6XWWwu6NrdwaRyIw\">(function(){google.xjs={ck:'xjs.hp.oxai9SxkIQY.L.X.O',cs:'ACT90oEGh-_ImDfBjn6aD_ABGaOlD2MqVw',excm:[]};})();</script>  <script nonce=\"Jo7WFU6XWWwu6NrdwaRyIw\">(function(){var u='/xjs/_/js/k\\x3dxjs.hp.en.9b-uVUIpJU8.O/am\\x3dAADoBABQAGAB/d\\x3d1/ed\\x3d1/rs\\x3dACT90oG-6KYVksw4jxVvNcwan406xE6qVw/m\\x3dsb_he,d';var amd=0;\n",
            "var d=this||self,e=function(a){return a};var g;var l=function(a,b){this.g=b===h?a:\"\"};l.prototype.toString=function(){return this.g+\"\"};var h={};\n",
            "function m(){var a=u;google.lx=function(){p(a);google.lx=function(){}};google.bx||google.lx()}\n",
            "function p(a){google.timers&&google.timers.load&&google.tick&&google.tick(\"load\",\"xjsls\");var b=document;var c=\"SCRIPT\";\"application/xhtml+xml\"===b.contentType&&(c=c.toLowerCase());c=b.createElement(c);if(void 0===g){b=null;var k=d.trustedTypes;if(k&&k.createPolicy){try{b=k.createPolicy(\"goog#html\",{createHTML:e,createScript:e,createScriptURL:e})}catch(q){d.console&&d.console.error(q.message)}g=b}else g=b}a=(b=g)?b.createScriptURL(a):a;a=new l(a,h);c.src=a instanceof l&&a.constructor===l?a.g:\"type_error:TrustedResourceUrl\";var f,n;(f=(a=null==(n=(f=(c.ownerDocument&&c.ownerDocument.defaultView||window).document).querySelector)?void 0:n.call(f,\"script[nonce]\"))?a.nonce||a.getAttribute(\"nonce\")||\"\":\"\")&&c.setAttribute(\"nonce\",f);document.body.appendChild(c);google.psa=!0};google.xjsu=u;setTimeout(function(){0<amd?google.caft(function(){return m()},amd):m()},0);})();function _DumpException(e){throw e;}\n",
            "function _F_installCss(c){}\n",
            "(function(){google.jl={blt:'none',chnk:0,dw:false,dwu:true,emtn:0,end:0,ico:false,ikb:0,ine:false,injs:'none',injt:0,injth:0,injv2:false,lls:'default',pdt:0,rep:0,snet:true,strt:0,ubm:false,uwp:true};})();(function(){var pmc='{\\x22d\\x22:{},\\x22sb_he\\x22:{\\x22agen\\x22:true,\\x22cgen\\x22:true,\\x22client\\x22:\\x22heirloom-hp\\x22,\\x22dh\\x22:true,\\x22ds\\x22:\\x22\\x22,\\x22fl\\x22:true,\\x22host\\x22:\\x22google.com\\x22,\\x22jsonp\\x22:true,\\x22lm\\x22:true,\\x22msgs\\x22:{\\x22cibl\\x22:\\x22Borrar b\ufffdsqueda\\x22,\\x22dym\\x22:\\x22Quiz\ufffds quisiste decir:\\x22,\\x22lcky\\x22:\\x22Voy a tener suerte\\x22,\\x22lml\\x22:\\x22M\ufffds informaci\ufffdn\\x22,\\x22psrc\\x22:\\x22Esta b\ufffdsqueda se ha eliminado de tu \\\\u003Ca href\\x3d\\\\\\x22/history\\\\\\x22\\\\u003Ehistorial web\\\\u003C/a\\\\u003E.\\x22,\\x22psrl\\x22:\\x22Eliminar\\x22,\\x22sbit\\x22:\\x22Buscar por imagen\\x22,\\x22srch\\x22:\\x22Buscar con Google\\x22},\\x22ovr\\x22:{},\\x22pq\\x22:\\x22\\x22,\\x22rfs\\x22:[],\\x22sbas\\x22:\\x220 3px 8px 0 rgba(0,0,0,0.2),0 0 0 1px rgba(0,0,0,0.08)\\x22,\\x22stok\\x22:\\x22GYSMF2y7hymT0L3W0W4RPVIsSrU\\x22}}';google.pmc=JSON.parse(pmc);})();</script>        </body></html>"
          ]
        }
      ],
      "source": [
        "!cat google.html"
      ]
    },
    {
      "cell_type": "markdown",
      "metadata": {},
      "source": [
        "### Downloading files with `wget`"
      ]
    },
    {
      "cell_type": "markdown",
      "metadata": {},
      "source": [
        "Another similar command is `wget`, however, unlike `curl`, `wget` downloads the file directly."
      ]
    },
    {
      "cell_type": "code",
      "execution_count": 166,
      "metadata": {},
      "outputs": [
        {
          "name": "stdout",
          "output_type": "stream",
          "text": [
            "--2022-12-06 01:49:19--  https://www.google.com/\n",
            "Resolviendo www.google.com (www.google.com)... 142.250.200.68, 2a00:1450:4003:80c::2004\n",
            "Conectando con www.google.com (www.google.com)[142.250.200.68]:443... conectado.\n",
            "Petici\u00f3n HTTP enviada, esperando respuesta... 200 OK\n",
            "Longitud: no especificado [text/html]\n",
            "Guardando como: \u201cindex.html.1\u201d\n",
            "\n",
            "index.html.1            [ <=>                ]  14,76K  --.-KB/s    en 0,002s  \n",
            "\n",
            "2022-12-06 01:49:19 (7,17 MB/s) - \u201cindex.html.1\u201d guardado [15117]\n",
            "\n"
          ]
        }
      ],
      "source": [
        "!wget https://www.google.com"
      ]
    },
    {
      "cell_type": "code",
      "execution_count": 167,
      "metadata": {},
      "outputs": [
        {
          "name": "stdout",
          "output_type": "stream",
          "text": [
            "total 316\n",
            "-rw-rw-r-- 1 wallabot wallabot 285898 dic  6 00:28 2021-02-11-Introduccion-a-Python.ipynb\n",
            "-rw-rw-r-- 1 wallabot wallabot      0 dic  6 00:56 Abc\n",
            "-rw-rw-r-- 1 wallabot wallabot      0 dic  6 00:56 datos1\n",
            "-rw-rw-r-- 1 wallabot wallabot      0 dic  6 00:56 datos123\n",
            "-rw-rw-r-- 1 wallabot wallabot      0 dic  6 00:56 dot2.txt\n",
            "-rw-rw-r-- 1 wallabot wallabot      0 dic  6 00:56 dot.txt\n",
            "-rw-rw-r-- 1 wallabot wallabot      0 dic  6 00:56 file.txt\n",
            "-rw-rw-r-- 1 wallabot wallabot  15168 dic  6 01:48 google.html\n",
            "-rw-rw-r-- 1 wallabot wallabot      0 dic  6 00:56 index.html\n",
            "-rw-rw-r-- 1 wallabot wallabot  15117 dic  6 01:49 index.html.1\n",
            "-rw-rw-r-- 1 wallabot wallabot    182 dic  6 01:06 lista.txt\n",
            "-rw-rw-r-- 1 wallabot wallabot      0 dic  6 01:08 secuential.txt\n"
          ]
        }
      ],
      "source": [
        "!ls -l"
      ]
    },
    {
      "cell_type": "markdown",
      "metadata": {},
      "source": [
        "We see that it has been saved as `index.html`, which is how Google names it"
      ]
    },
    {
      "cell_type": "markdown",
      "metadata": {},
      "source": [
        "If we want to save it with a specific name, we can use the `-O` flag"
      ]
    },
    {
      "cell_type": "code",
      "execution_count": 168,
      "metadata": {},
      "outputs": [
        {
          "name": "stdout",
          "output_type": "stream",
          "text": [
            "--2022-12-06 01:49:37--  https://www.google.com/\n",
            "Resolviendo www.google.com (www.google.com)... 142.250.200.68, 2a00:1450:4003:80c::2004\n",
            "Conectando con www.google.com (www.google.com)[142.250.200.68]:443... conectado.\n",
            "Petici\u00f3n HTTP enviada, esperando respuesta... 200 OK\n",
            "Longitud: no especificado [text/html]\n",
            "Guardando como: \u201cgoogle2.html\u201d\n",
            "\n",
            "google2.html            [ <=>                ]  14,78K  --.-KB/s    en 0,003s  \n",
            "\n",
            "2022-12-06 01:49:37 (5,27 MB/s) - \u201cgoogle2.html\u201d guardado [15131]\n",
            "\n"
          ]
        }
      ],
      "source": [
        "!wget https://www.google.com -O google2.html"
      ]
    },
    {
      "cell_type": "code",
      "execution_count": 169,
      "metadata": {},
      "outputs": [
        {
          "name": "stdout",
          "output_type": "stream",
          "text": [
            "total 332\n",
            "-rw-rw-r-- 1 wallabot wallabot 285898 dic  6 00:28 2021-02-11-Introduccion-a-Python.ipynb\n",
            "-rw-rw-r-- 1 wallabot wallabot      0 dic  6 00:56 Abc\n",
            "-rw-rw-r-- 1 wallabot wallabot      0 dic  6 00:56 datos1\n",
            "-rw-rw-r-- 1 wallabot wallabot      0 dic  6 00:56 datos123\n",
            "-rw-rw-r-- 1 wallabot wallabot      0 dic  6 00:56 dot2.txt\n",
            "-rw-rw-r-- 1 wallabot wallabot      0 dic  6 00:56 dot.txt\n",
            "-rw-rw-r-- 1 wallabot wallabot      0 dic  6 00:56 file.txt\n",
            "-rw-rw-r-- 1 wallabot wallabot  15131 dic  6 01:49 google2.html\n",
            "-rw-rw-r-- 1 wallabot wallabot  15168 dic  6 01:48 google.html\n",
            "-rw-rw-r-- 1 wallabot wallabot      0 dic  6 00:56 index.html\n",
            "-rw-rw-r-- 1 wallabot wallabot  15117 dic  6 01:49 index.html.1\n",
            "-rw-rw-r-- 1 wallabot wallabot    182 dic  6 01:06 lista.txt\n",
            "-rw-rw-r-- 1 wallabot wallabot      0 dic  6 01:08 secuential.txt\n"
          ]
        }
      ],
      "source": [
        "!ls -l"
      ]
    },
    {
      "cell_type": "markdown",
      "metadata": {},
      "source": [
        "### Tracing the Route with `traceroute`"
      ]
    },
    {
      "cell_type": "markdown",
      "metadata": {},
      "source": [
        "A very useful command is to see the path to a destination, for this we use `traceroute`, for example, let's see all the sites I have to go through to connect to Google"
      ]
    },
    {
      "cell_type": "code",
      "execution_count": 170,
      "metadata": {},
      "outputs": [
        {
          "name": "stdout",
          "output_type": "stream",
          "text": [
            "traceroute to www.google.com (142.250.200.68), 64 hops max\n",
            "  1   192.168.1.1  0,435ms  0,154ms  0,133ms \n",
            "  2   188.127.176.1  3,979ms  2,914ms  3,397ms \n",
            "  3   10.15.0.77  3,600ms  3,914ms  2,669ms \n",
            "  4   10.15.246.6  3,567ms  3,713ms  2,926ms \n",
            "  5   *  *  * \n",
            "  6   72.14.209.84  3,981ms  2,914ms  2,993ms \n",
            "  7   *  *  * \n",
            "  8   142.251.54.148  3,856ms  2,916ms  2,905ms \n",
            "  9   142.250.200.68  2,908ms  2,949ms  3,037ms \n"
          ]
        }
      ],
      "source": [
        "!traceroute www.google.com"
      ]
    },
    {
      "cell_type": "markdown",
      "metadata": {},
      "source": [
        "### Tracing the Route with `mtr`"
      ]
    },
    {
      "cell_type": "markdown",
      "metadata": {},
      "source": [
        "Another debugging tool is `mtr`, which is an enhanced version of `traceroute`. It provides information for each hop, such as response time, percentage of lost packets, etc."
      ]
    },
    {
      "cell_type": "code",
      "execution_count": 9,
      "metadata": {},
      "outputs": [
        {
          "name": "stdout",
          "output_type": "stream",
          "text": [
            "wallabot (192.168.178.144)\n",
            "Keys:  Help   Display mode   Restart statistics   Order of fields   quit\n",
            "                                                                              Packets               Pings\n",
            " Host                                                                       Loss%   Snt   Last   Avg  Best  Wrst StDev\n",
            " 1. 192.168.178.1                                                            0.0%   345    0.3   0.3   0.3   0.3   0.0\n",
            " 2. 192.168.0.1                                                              0.0%   344    0.8   1.1   1.1   1.1   0.0\n",
            " 3. (waiting for reply)\n",
            " 4. 10.183.52.41                                                             0.0%   344    2.8   2.5   2.5   2.5   0.0\n",
            " 5. 172.29.0.161                                                            47.7%   344    2.3   3.1   3.1  23.1   0.0\n",
            " 6. (waiting for reply)\n",
            " 7. 193.149.1.97                                                             0.0%   344    3.6   3.6   3.6  38.6   0.0\n",
            " 8. (waiting for reply)\n",
            " 9. 185.125.78.197                                                           2.9%   344    6.9   6.9   6.9   6.9   0.0\n"
          ]
        }
      ],
      "source": [
        "!mtr -n maximofn.com"
      ]
    },
    {
      "cell_type": "markdown",
      "metadata": {},
      "source": [
        "As can be seen in hop 5, almost 50% of the packets are lost, so it would serve to call my phone company and tell them to try routing me through another path."
      ]
    },
    {
      "cell_type": "markdown",
      "metadata": {},
      "source": [
        "### Name of our machine with `hostname`"
      ]
    },
    {
      "cell_type": "markdown",
      "metadata": {},
      "source": [
        "If we want to know the name of our machine, we can use `hostname`, which is useful if we want to connect to our machine from another one."
      ]
    },
    {
      "cell_type": "code",
      "execution_count": 171,
      "metadata": {},
      "outputs": [
        {
          "name": "stdout",
          "output_type": "stream",
          "text": [
            "wallabot\n"
          ]
        }
      ],
      "source": [
        "!hostname"
      ]
    },
    {
      "cell_type": "markdown",
      "metadata": {},
      "source": [
        "### Default Gateway Link Information with `route -n`"
      ]
    },
    {
      "cell_type": "markdown",
      "metadata": {},
      "source": [
        "If we want to know our default gateway, we use the command `route -n`"
      ]
    },
    {
      "cell_type": "code",
      "execution_count": 172,
      "metadata": {},
      "outputs": [
        {
          "name": "stdout",
          "output_type": "stream",
          "text": [
            "Tabla de rutas IP del n\u00facleo\n",
            "Destino         Pasarela        Genmask         Indic M\u00e9tric Ref    Uso Interfaz\n",
            "0.0.0.0         192.168.1.1     0.0.0.0         UG    100    0        0 enp6s0\n",
            "169.254.0.0     0.0.0.0         255.255.0.0     U     1000   0        0 enp6s0\n",
            "172.17.0.0      0.0.0.0         255.255.0.0     U     0      0        0 docker0\n",
            "172.18.0.0      0.0.0.0         255.255.0.0     U     0      0        0 br-470e52ae2708\n",
            "192.168.1.0     0.0.0.0         255.255.255.0   U     100    0        0 enp6s0\n"
          ]
        }
      ],
      "source": [
        "!route -n"
      ]
    },
    {
      "cell_type": "markdown",
      "metadata": {},
      "source": [
        "### IP Information for a Domain with `nslookup`"
      ]
    },
    {
      "cell_type": "markdown",
      "metadata": {},
      "source": [
        "If we want to know the IP of a domain, we can find it out using the `nslookup` command."
      ]
    },
    {
      "cell_type": "code",
      "execution_count": 173,
      "metadata": {},
      "outputs": [
        {
          "name": "stdout",
          "output_type": "stream",
          "text": [
            "Server:\t\t127.0.0.53\n",
            "Address:\t127.0.0.53#53\n",
            "\n",
            "Non-authoritative answer:\n",
            "Name:\tgoogle.com\n",
            "Address: 142.250.185.14\n",
            "Name:\tgoogle.com\n",
            "Address: 2a00:1450:4003:808::200e\n",
            "\n"
          ]
        }
      ],
      "source": [
        "!nslookup google.com"
      ]
    },
    {
      "cell_type": "markdown",
      "metadata": {},
      "source": [
        "This tells us that Google's IPv4 is 172.217.168.174 and its IPv6 is 2a00:1450:4003:803::200e"
      ]
    },
    {
      "cell_type": "markdown",
      "metadata": {},
      "source": [
        "### Network Information with `netstats`"
      ]
    },
    {
      "cell_type": "markdown",
      "metadata": {},
      "source": [
        "The last utility command is `netstats`, this command gives us the status of our network, additionally, with the flag `-i` it returns our network interfaces."
      ]
    },
    {
      "cell_type": "code",
      "execution_count": 174,
      "metadata": {},
      "outputs": [
        {
          "name": "stdout",
          "output_type": "stream",
          "text": [
            "Tabla de la interfaz del n\u00facleo\n",
            "Iface      MTU    RX-OK RX-ERR RX-DRP RX-OVR    TX-OK TX-ERR TX-DRP TX-OVR Flg\n",
            "br-470e5  1500        0      0      0 0             0      0      0      0 BMU\n",
            "docker0   1500        0      0      0 0             0      0      0      0 BMU\n",
            "enp6s0    1500   148385      0   2182 0        106135      0      0      0 BMRU\n",
            "lo       65536    11674      0      0 0         11674      0      0      0 LRU\n",
            "wlp5s0    1500        0      0      0 0             0      0      0      0 BMU\n"
          ]
        }
      ],
      "source": [
        "!netstat -i"
      ]
    },
    {
      "cell_type": "markdown",
      "metadata": {},
      "source": [
        "### DNS Queries with `dig`"
      ]
    },
    {
      "cell_type": "markdown",
      "metadata": {},
      "source": [
        "With the command `dig <domain>` we can make DNS queries, for example, let's make a query to Google"
      ]
    },
    {
      "cell_type": "code",
      "execution_count": 3,
      "metadata": {},
      "outputs": [
        {
          "name": "stdout",
          "output_type": "stream",
          "text": [
            "\n",
            "; <<>> DiG 9.16.1-Ubuntu <<>> google.com\n",
            ";; global options: +cmd\n",
            ";; Got answer:\n",
            ";; ->>HEADER<<- opcode: QUERY, status: NOERROR, id: 20527\n",
            ";; flags: qr rd ra; QUERY: 1, ANSWER: 1, AUTHORITY: 0, ADDITIONAL: 1\n",
            "\n",
            ";; OPT PSEUDOSECTION:\n",
            "; EDNS: version: 0, flags:; udp: 65494\n",
            ";; QUESTION SECTION:\n",
            ";google.com.\t\t\tIN\tA\n",
            "\n",
            ";; ANSWER SECTION:\n",
            "google.com.\t\t283\tIN\tA\t142.250.184.14\n",
            "\n",
            ";; Query time: 8 msec\n",
            ";; SERVER: 127.0.0.53#53(127.0.0.53)\n",
            ";; WHEN: dom sep 24 01:32:07 CEST 2023\n",
            ";; MSG SIZE  rcvd: 55\n",
            "\n"
          ]
        }
      ],
      "source": [
        "!dig google.com"
      ]
    },
    {
      "cell_type": "markdown",
      "metadata": {},
      "source": [
        "It can be seen",
        "\n",
        "``` bash\n",
        "```markdown\n;; ANSWER SECTION:\n```",
        "google.com.\t\t283\tIN\tA\t142.250.184.14",
        "```\n",
        "\n",
        "Therefore, the query has given us Google's IP."
      ]
    },
    {
      "cell_type": "markdown",
      "metadata": {},
      "source": [
        "We can query a specific DNS server with `dig @<DNS server> <domain>`"
      ]
    },
    {
      "cell_type": "code",
      "execution_count": 4,
      "metadata": {},
      "outputs": [
        {
          "name": "stdout",
          "output_type": "stream",
          "text": [
            "\n",
            "; <<>> DiG 9.16.1-Ubuntu <<>> @1.1.1.1 google.com\n",
            "; (1 server found)\n",
            ";; global options: +cmd\n",
            ";; Got answer:\n",
            ";; ->>HEADER<<- opcode: QUERY, status: NOERROR, id: 15633\n",
            ";; flags: qr rd ra; QUERY: 1, ANSWER: 1, AUTHORITY: 0, ADDITIONAL: 0\n",
            "\n",
            ";; QUESTION SECTION:\n",
            ";google.com.\t\t\tIN\tA\n",
            "\n",
            ";; ANSWER SECTION:\n",
            "google.com.\t\t190\tIN\tA\t142.250.184.14\n",
            "\n",
            ";; Query time: 8 msec\n",
            ";; SERVER: 1.1.1.1#53(1.1.1.1)\n",
            ";; WHEN: dom sep 24 01:33:40 CEST 2023\n",
            ";; MSG SIZE  rcvd: 44\n",
            "\n"
          ]
        }
      ],
      "source": [
        "!dig @1.1.1.1 google.com"
      ]
    },
    {
      "cell_type": "markdown",
      "metadata": {},
      "source": [
        "We have made the same query, but we have made it to the Cloudflare DNS."
      ]
    },
    {
      "cell_type": "markdown",
      "metadata": {},
      "source": [
        "## Compressing files"
      ]
    },
    {
      "cell_type": "markdown",
      "metadata": {},
      "source": [
        "Before compressing and decompressing, let's see what we are going to compress. First, we print our path and list the files."
      ]
    },
    {
      "cell_type": "code",
      "execution_count": 175,
      "metadata": {},
      "outputs": [
        {
          "name": "stdout",
          "output_type": "stream",
          "text": [
            "/home/wallabot/Documentos/web/portafolio/posts/prueba\n",
            "total 332\n",
            "-rw-rw-r-- 1 wallabot wallabot 285898 dic  6 00:28 2021-02-11-Introduccion-a-Python.ipynb\n",
            "-rw-rw-r-- 1 wallabot wallabot      0 dic  6 00:56 Abc\n",
            "-rw-rw-r-- 1 wallabot wallabot      0 dic  6 00:56 datos1\n",
            "-rw-rw-r-- 1 wallabot wallabot      0 dic  6 00:56 datos123\n",
            "-rw-rw-r-- 1 wallabot wallabot      0 dic  6 00:56 dot2.txt\n",
            "-rw-rw-r-- 1 wallabot wallabot      0 dic  6 00:56 dot.txt\n",
            "-rw-rw-r-- 1 wallabot wallabot      0 dic  6 00:56 file.txt\n",
            "-rw-rw-r-- 1 wallabot wallabot  15131 dic  6 01:49 google2.html\n",
            "-rw-rw-r-- 1 wallabot wallabot  15168 dic  6 01:48 google.html\n",
            "-rw-rw-r-- 1 wallabot wallabot      0 dic  6 00:56 index.html\n",
            "-rw-rw-r-- 1 wallabot wallabot  15117 dic  6 01:49 index.html.1\n",
            "-rw-rw-r-- 1 wallabot wallabot    182 dic  6 01:06 lista.txt\n",
            "-rw-rw-r-- 1 wallabot wallabot      0 dic  6 01:08 secuential.txt\n"
          ]
        }
      ],
      "source": [
        "!pwd; ls -l"
      ]
    },
    {
      "cell_type": "markdown",
      "metadata": {},
      "source": [
        "Let's create a new folder and copy everything that is inside the current folder into it."
      ]
    },
    {
      "cell_type": "code",
      "execution_count": 176,
      "metadata": {},
      "outputs": [
        {
          "name": "stdout",
          "output_type": "stream",
          "text": [
            "cp: -r not specified; omitting directory 'tocompress'\n",
            "total 336\n",
            "-rw-rw-r-- 1 wallabot wallabot 285898 dic  6 00:28 2021-02-11-Introduccion-a-Python.ipynb\n",
            "-rw-rw-r-- 1 wallabot wallabot      0 dic  6 00:56 Abc\n",
            "-rw-rw-r-- 1 wallabot wallabot      0 dic  6 00:56 datos1\n",
            "-rw-rw-r-- 1 wallabot wallabot      0 dic  6 00:56 datos123\n",
            "-rw-rw-r-- 1 wallabot wallabot      0 dic  6 00:56 dot2.txt\n",
            "-rw-rw-r-- 1 wallabot wallabot      0 dic  6 00:56 dot.txt\n",
            "-rw-rw-r-- 1 wallabot wallabot      0 dic  6 00:56 file.txt\n",
            "-rw-rw-r-- 1 wallabot wallabot  15131 dic  6 01:49 google2.html\n",
            "-rw-rw-r-- 1 wallabot wallabot  15168 dic  6 01:48 google.html\n",
            "-rw-rw-r-- 1 wallabot wallabot      0 dic  6 00:56 index.html\n",
            "-rw-rw-r-- 1 wallabot wallabot  15117 dic  6 01:49 index.html.1\n",
            "-rw-rw-r-- 1 wallabot wallabot    182 dic  6 01:06 lista.txt\n",
            "-rw-rw-r-- 1 wallabot wallabot      0 dic  6 01:08 secuential.txt\n",
            "drwxrwxr-x 2 wallabot wallabot   4096 dic  6 01:52 tocompress\n"
          ]
        }
      ],
      "source": [
        "!mkdir tocompress; cp * tocompress; ls -l"
      ]
    },
    {
      "cell_type": "markdown",
      "metadata": {},
      "source": [
        "As we can see, everything has been copied except the `tocompress` folder itself, since we didn't use the `-r` flag in the `cp` command. But what happened is exactly what we wanted."
      ]
    },
    {
      "cell_type": "markdown",
      "metadata": {},
      "source": [
        "### Compress with `tar`"
      ]
    },
    {
      "cell_type": "markdown",
      "metadata": {},
      "source": [
        "The first command we are going to use for compressing is `tar`, to which we will add the `-c` flag for compress, `-v` for verbose, so it will show us what it's doing, and the `-f` flag for file, followed by the name we want the compressed file to have and the name of the file we want to compress."
      ]
    },
    {
      "cell_type": "code",
      "execution_count": 177,
      "metadata": {},
      "outputs": [
        {
          "name": "stdout",
          "output_type": "stream",
          "text": [
            "tocompress/\n",
            "tocompress/lista.txt\n",
            "tocompress/dot.txt\n",
            "tocompress/google.html\n",
            "tocompress/index.html\n",
            "tocompress/Abc\n",
            "tocompress/google2.html\n",
            "tocompress/dot2.txt\n",
            "tocompress/secuential.txt\n",
            "tocompress/index.html.1\n",
            "tocompress/file.txt\n",
            "tocompress/datos1\n",
            "tocompress/2021-02-11-Introduccion-a-Python.ipynb\n",
            "tocompress/datos123\n"
          ]
        }
      ],
      "source": [
        "!tar -cvf tocompress.tar tocompress"
      ]
    },
    {
      "cell_type": "code",
      "execution_count": 178,
      "metadata": {},
      "outputs": [
        {
          "name": "stdout",
          "output_type": "stream",
          "text": [
            "total 676\n",
            "-rw-rw-r-- 1 wallabot wallabot 285898 dic  6 00:28 2021-02-11-Introduccion-a-Python.ipynb\n",
            "-rw-rw-r-- 1 wallabot wallabot      0 dic  6 00:56 Abc\n",
            "-rw-rw-r-- 1 wallabot wallabot      0 dic  6 00:56 datos1\n",
            "-rw-rw-r-- 1 wallabot wallabot      0 dic  6 00:56 datos123\n",
            "-rw-rw-r-- 1 wallabot wallabot      0 dic  6 00:56 dot2.txt\n",
            "-rw-rw-r-- 1 wallabot wallabot      0 dic  6 00:56 dot.txt\n",
            "-rw-rw-r-- 1 wallabot wallabot      0 dic  6 00:56 file.txt\n",
            "-rw-rw-r-- 1 wallabot wallabot  15131 dic  6 01:49 google2.html\n",
            "-rw-rw-r-- 1 wallabot wallabot  15168 dic  6 01:48 google.html\n",
            "-rw-rw-r-- 1 wallabot wallabot      0 dic  6 00:56 index.html\n",
            "-rw-rw-r-- 1 wallabot wallabot  15117 dic  6 01:49 index.html.1\n",
            "-rw-rw-r-- 1 wallabot wallabot    182 dic  6 01:06 lista.txt\n",
            "-rw-rw-r-- 1 wallabot wallabot      0 dic  6 01:08 secuential.txt\n",
            "drwxrwxr-x 2 wallabot wallabot   4096 dic  6 01:52 tocompress\n",
            "-rw-rw-r-- 1 wallabot wallabot 348160 dic  6 01:53 tocompress.tar\n"
          ]
        }
      ],
      "source": [
        "!ls -l"
      ]
    },
    {
      "cell_type": "markdown",
      "metadata": {},
      "source": [
        "We see that you have created the file `tocompress.tar`"
      ]
    },
    {
      "cell_type": "markdown",
      "metadata": {},
      "source": [
        "Now we are going to repeat the process, but adding the flag `-z`. This compresses in the `gzip` format, which is a more efficient compression algorithm."
      ]
    },
    {
      "cell_type": "code",
      "execution_count": 179,
      "metadata": {},
      "outputs": [
        {
          "name": "stdout",
          "output_type": "stream",
          "text": [
            "tocompress/\n",
            "tocompress/lista.txt\n",
            "tocompress/dot.txt\n",
            "tocompress/google.html\n",
            "tocompress/index.html\n",
            "tocompress/Abc\n",
            "tocompress/google2.html\n",
            "tocompress/dot2.txt\n",
            "tocompress/secuential.txt\n",
            "tocompress/index.html.1\n",
            "tocompress/file.txt\n",
            "tocompress/datos1\n",
            "tocompress/2021-02-11-Introduccion-a-Python.ipynb\n",
            "tocompress/datos123\n"
          ]
        }
      ],
      "source": [
        "!tar -cvzf tocompress.tar.gz tocompress"
      ]
    },
    {
      "cell_type": "code",
      "execution_count": 180,
      "metadata": {},
      "outputs": [
        {
          "name": "stdout",
          "output_type": "stream",
          "text": [
            "total 728K\n",
            "-rw-rw-r-- 1 wallabot wallabot 280K dic  6 00:28 2021-02-11-Introduccion-a-Python.ipynb\n",
            "-rw-rw-r-- 1 wallabot wallabot    0 dic  6 00:56 Abc\n",
            "-rw-rw-r-- 1 wallabot wallabot    0 dic  6 00:56 datos1\n",
            "-rw-rw-r-- 1 wallabot wallabot    0 dic  6 00:56 datos123\n",
            "-rw-rw-r-- 1 wallabot wallabot    0 dic  6 00:56 dot2.txt\n",
            "-rw-rw-r-- 1 wallabot wallabot    0 dic  6 00:56 dot.txt\n",
            "-rw-rw-r-- 1 wallabot wallabot    0 dic  6 00:56 file.txt\n",
            "-rw-rw-r-- 1 wallabot wallabot  15K dic  6 01:49 google2.html\n",
            "-rw-rw-r-- 1 wallabot wallabot  15K dic  6 01:48 google.html\n",
            "-rw-rw-r-- 1 wallabot wallabot    0 dic  6 00:56 index.html\n",
            "-rw-rw-r-- 1 wallabot wallabot  15K dic  6 01:49 index.html.1\n",
            "-rw-rw-r-- 1 wallabot wallabot  182 dic  6 01:06 lista.txt\n",
            "-rw-rw-r-- 1 wallabot wallabot    0 dic  6 01:08 secuential.txt\n",
            "drwxrwxr-x 2 wallabot wallabot 4,0K dic  6 01:52 tocompress\n",
            "-rw-rw-r-- 1 wallabot wallabot 340K dic  6 01:53 tocompress.tar\n",
            "-rw-rw-r-- 1 wallabot wallabot  52K dic  6 01:53 tocompress.tar.gz\n"
          ]
        }
      ],
      "source": [
        "!ls -lh"
      ]
    },
    {
      "cell_type": "markdown",
      "metadata": {},
      "source": [
        "As can be seen, the file `tocompress.tar` takes up `340 kB`, while the file `tocompress.tar.gz` takes up only `52 kB`."
      ]
    },
    {
      "cell_type": "markdown",
      "metadata": {},
      "source": [
        "Now we are going to decompress the files. To decompress, the same command is used, only changing the flag `-c` to the flag `-x`"
      ]
    },
    {
      "cell_type": "markdown",
      "metadata": {},
      "source": [
        "First we delete the original folder"
      ]
    },
    {
      "cell_type": "code",
      "execution_count": 181,
      "metadata": {},
      "outputs": [],
      "source": [
        "!rm -r tocompress"
      ]
    },
    {
      "cell_type": "markdown",
      "metadata": {},
      "source": [
        "We decompress"
      ]
    },
    {
      "cell_type": "code",
      "execution_count": 182,
      "metadata": {},
      "outputs": [
        {
          "name": "stdout",
          "output_type": "stream",
          "text": [
            "tocompress/\n",
            "tocompress/lista.txt\n",
            "tocompress/dot.txt\n",
            "tocompress/google.html\n",
            "tocompress/index.html\n",
            "tocompress/Abc\n",
            "tocompress/google2.html\n",
            "tocompress/dot2.txt\n",
            "tocompress/secuential.txt\n",
            "tocompress/index.html.1\n",
            "tocompress/file.txt\n",
            "tocompress/datos1\n",
            "tocompress/2021-02-11-Introduccion-a-Python.ipynb\n",
            "tocompress/datos123\n"
          ]
        }
      ],
      "source": [
        "!tar -xvf tocompress.tar"
      ]
    },
    {
      "cell_type": "code",
      "execution_count": 183,
      "metadata": {},
      "outputs": [
        {
          "name": "stdout",
          "output_type": "stream",
          "text": [
            "total 728K\n",
            "-rw-rw-r-- 1 wallabot wallabot 280K dic  6 00:28 2021-02-11-Introduccion-a-Python.ipynb\n",
            "-rw-rw-r-- 1 wallabot wallabot    0 dic  6 00:56 Abc\n",
            "-rw-rw-r-- 1 wallabot wallabot    0 dic  6 00:56 datos1\n",
            "-rw-rw-r-- 1 wallabot wallabot    0 dic  6 00:56 datos123\n",
            "-rw-rw-r-- 1 wallabot wallabot    0 dic  6 00:56 dot2.txt\n",
            "-rw-rw-r-- 1 wallabot wallabot    0 dic  6 00:56 dot.txt\n",
            "-rw-rw-r-- 1 wallabot wallabot    0 dic  6 00:56 file.txt\n",
            "-rw-rw-r-- 1 wallabot wallabot  15K dic  6 01:49 google2.html\n",
            "-rw-rw-r-- 1 wallabot wallabot  15K dic  6 01:48 google.html\n",
            "-rw-rw-r-- 1 wallabot wallabot    0 dic  6 00:56 index.html\n",
            "-rw-rw-r-- 1 wallabot wallabot  15K dic  6 01:49 index.html.1\n",
            "-rw-rw-r-- 1 wallabot wallabot  182 dic  6 01:06 lista.txt\n",
            "-rw-rw-r-- 1 wallabot wallabot    0 dic  6 01:08 secuential.txt\n",
            "drwxrwxr-x 2 wallabot wallabot 4,0K dic  6 01:52 tocompress\n",
            "-rw-rw-r-- 1 wallabot wallabot 340K dic  6 01:53 tocompress.tar\n",
            "-rw-rw-r-- 1 wallabot wallabot  52K dic  6 01:53 tocompress.tar.gz\n"
          ]
        }
      ],
      "source": [
        "!ls -lh"
      ]
    },
    {
      "cell_type": "markdown",
      "metadata": {},
      "source": [
        "We do the same with the `gzip`"
      ]
    },
    {
      "cell_type": "code",
      "execution_count": 184,
      "metadata": {},
      "outputs": [],
      "source": [
        "!rm -r tocompress"
      ]
    },
    {
      "cell_type": "code",
      "execution_count": 185,
      "metadata": {},
      "outputs": [
        {
          "name": "stdout",
          "output_type": "stream",
          "text": [
            "tocompress/\n",
            "tocompress/lista.txt\n",
            "tocompress/dot.txt\n",
            "tocompress/google.html\n",
            "tocompress/index.html\n",
            "tocompress/Abc\n",
            "tocompress/google2.html\n",
            "tocompress/dot2.txt\n",
            "tocompress/secuential.txt\n",
            "tocompress/index.html.1\n",
            "tocompress/file.txt\n",
            "tocompress/datos1\n",
            "tocompress/2021-02-11-Introduccion-a-Python.ipynb\n",
            "tocompress/datos123\n"
          ]
        }
      ],
      "source": [
        "!tar -xvzf tocompress.tar.gz"
      ]
    },
    {
      "cell_type": "code",
      "execution_count": 186,
      "metadata": {},
      "outputs": [
        {
          "name": "stdout",
          "output_type": "stream",
          "text": [
            "total 728K\n",
            "-rw-rw-r-- 1 wallabot wallabot 280K dic  6 00:28 2021-02-11-Introduccion-a-Python.ipynb\n",
            "-rw-rw-r-- 1 wallabot wallabot    0 dic  6 00:56 Abc\n",
            "-rw-rw-r-- 1 wallabot wallabot    0 dic  6 00:56 datos1\n",
            "-rw-rw-r-- 1 wallabot wallabot    0 dic  6 00:56 datos123\n",
            "-rw-rw-r-- 1 wallabot wallabot    0 dic  6 00:56 dot2.txt\n",
            "-rw-rw-r-- 1 wallabot wallabot    0 dic  6 00:56 dot.txt\n",
            "-rw-rw-r-- 1 wallabot wallabot    0 dic  6 00:56 file.txt\n",
            "-rw-rw-r-- 1 wallabot wallabot  15K dic  6 01:49 google2.html\n",
            "-rw-rw-r-- 1 wallabot wallabot  15K dic  6 01:48 google.html\n",
            "-rw-rw-r-- 1 wallabot wallabot    0 dic  6 00:56 index.html\n",
            "-rw-rw-r-- 1 wallabot wallabot  15K dic  6 01:49 index.html.1\n",
            "-rw-rw-r-- 1 wallabot wallabot  182 dic  6 01:06 lista.txt\n",
            "-rw-rw-r-- 1 wallabot wallabot    0 dic  6 01:08 secuential.txt\n",
            "drwxrwxr-x 2 wallabot wallabot 4,0K dic  6 01:52 tocompress\n",
            "-rw-rw-r-- 1 wallabot wallabot 340K dic  6 01:53 tocompress.tar\n",
            "-rw-rw-r-- 1 wallabot wallabot  52K dic  6 01:53 tocompress.tar.gz\n"
          ]
        }
      ],
      "source": [
        "!ls -lh"
      ]
    },
    {
      "cell_type": "markdown",
      "metadata": {},
      "source": [
        "### Compress with `zip`"
      ]
    },
    {
      "cell_type": "markdown",
      "metadata": {},
      "source": [
        "Another command to compress with `zip`, to compress you just need to add the `-r` (recursive) flag, the name you want the compressed file to have, and the file you want to compress."
      ]
    },
    {
      "cell_type": "code",
      "execution_count": 187,
      "metadata": {},
      "outputs": [
        {
          "name": "stdout",
          "output_type": "stream",
          "text": [
            "  adding: tocompress/ (stored 0%)\n",
            "  adding: tocompress/lista.txt (deflated 23%)\n",
            "  adding: tocompress/dot.txt (stored 0%)\n",
            "  adding: tocompress/google.html (deflated 56%)\n",
            "  adding: tocompress/index.html (stored 0%)\n",
            "  adding: tocompress/Abc (stored 0%)\n",
            "  adding: tocompress/google2.html (deflated 56%)\n",
            "  adding: tocompress/dot2.txt (stored 0%)\n",
            "  adding: tocompress/secuential.txt (stored 0%)\n",
            "  adding: tocompress/index.html.1 (deflated 56%)\n",
            "  adding: tocompress/file.txt (stored 0%)\n",
            "  adding: tocompress/datos1 (stored 0%)\n",
            "  adding: tocompress/2021-02-11-Introduccion-a-Python.ipynb (deflated 85%)\n",
            "  adding: tocompress/datos123 (stored 0%)\n"
          ]
        }
      ],
      "source": [
        "!zip -r tocompress.zip tocompress"
      ]
    },
    {
      "cell_type": "code",
      "execution_count": 188,
      "metadata": {},
      "outputs": [
        {
          "name": "stdout",
          "output_type": "stream",
          "text": [
            "total 792K\n",
            "-rw-rw-r-- 1 wallabot wallabot 280K dic  6 00:28 2021-02-11-Introduccion-a-Python.ipynb\n",
            "-rw-rw-r-- 1 wallabot wallabot    0 dic  6 00:56 Abc\n",
            "-rw-rw-r-- 1 wallabot wallabot    0 dic  6 00:56 datos1\n",
            "-rw-rw-r-- 1 wallabot wallabot    0 dic  6 00:56 datos123\n",
            "-rw-rw-r-- 1 wallabot wallabot    0 dic  6 00:56 dot2.txt\n",
            "-rw-rw-r-- 1 wallabot wallabot    0 dic  6 00:56 dot.txt\n",
            "-rw-rw-r-- 1 wallabot wallabot    0 dic  6 00:56 file.txt\n",
            "-rw-rw-r-- 1 wallabot wallabot  15K dic  6 01:49 google2.html\n",
            "-rw-rw-r-- 1 wallabot wallabot  15K dic  6 01:48 google.html\n",
            "-rw-rw-r-- 1 wallabot wallabot    0 dic  6 00:56 index.html\n",
            "-rw-rw-r-- 1 wallabot wallabot  15K dic  6 01:49 index.html.1\n",
            "-rw-rw-r-- 1 wallabot wallabot  182 dic  6 01:06 lista.txt\n",
            "-rw-rw-r-- 1 wallabot wallabot    0 dic  6 01:08 secuential.txt\n",
            "drwxrwxr-x 2 wallabot wallabot 4,0K dic  6 01:52 tocompress\n",
            "-rw-rw-r-- 1 wallabot wallabot 340K dic  6 01:53 tocompress.tar\n",
            "-rw-rw-r-- 1 wallabot wallabot  52K dic  6 01:53 tocompress.tar.gz\n",
            "-rw-rw-r-- 1 wallabot wallabot  64K dic  6 01:53 tocompress.zip\n"
          ]
        }
      ],
      "source": [
        "!ls -lh"
      ]
    },
    {
      "cell_type": "markdown",
      "metadata": {},
      "source": [
        "To decompress, use the `unzip` command followed by the name of the file you want to decompress. First, delete the folder `tocompress`."
      ]
    },
    {
      "cell_type": "code",
      "execution_count": 189,
      "metadata": {},
      "outputs": [],
      "source": [
        "!rm -r tocompress"
      ]
    },
    {
      "cell_type": "code",
      "execution_count": 190,
      "metadata": {},
      "outputs": [
        {
          "name": "stdout",
          "output_type": "stream",
          "text": [
            "Archive:  tocompress.zip\n",
            "   creating: tocompress/\n",
            "  inflating: tocompress/lista.txt    \n",
            " extracting: tocompress/dot.txt      \n",
            "  inflating: tocompress/google.html  \n",
            " extracting: tocompress/index.html   \n",
            " extracting: tocompress/Abc          \n",
            "  inflating: tocompress/google2.html  \n",
            " extracting: tocompress/dot2.txt     \n",
            " extracting: tocompress/secuential.txt  \n",
            "  inflating: tocompress/index.html.1  \n",
            " extracting: tocompress/file.txt     \n",
            " extracting: tocompress/datos1       \n",
            "  inflating: tocompress/2021-02-11-Introduccion-a-Python.ipynb  \n",
            " extracting: tocompress/datos123     \n"
          ]
        }
      ],
      "source": [
        "!unzip tocompress.zip"
      ]
    },
    {
      "cell_type": "code",
      "execution_count": 191,
      "metadata": {},
      "outputs": [
        {
          "name": "stdout",
          "output_type": "stream",
          "text": [
            "total 792K\n",
            "-rw-rw-r-- 1 wallabot wallabot 280K dic  6 00:28 2021-02-11-Introduccion-a-Python.ipynb\n",
            "-rw-rw-r-- 1 wallabot wallabot    0 dic  6 00:56 Abc\n",
            "-rw-rw-r-- 1 wallabot wallabot    0 dic  6 00:56 datos1\n",
            "-rw-rw-r-- 1 wallabot wallabot    0 dic  6 00:56 datos123\n",
            "-rw-rw-r-- 1 wallabot wallabot    0 dic  6 00:56 dot2.txt\n",
            "-rw-rw-r-- 1 wallabot wallabot    0 dic  6 00:56 dot.txt\n",
            "-rw-rw-r-- 1 wallabot wallabot    0 dic  6 00:56 file.txt\n",
            "-rw-rw-r-- 1 wallabot wallabot  15K dic  6 01:49 google2.html\n",
            "-rw-rw-r-- 1 wallabot wallabot  15K dic  6 01:48 google.html\n",
            "-rw-rw-r-- 1 wallabot wallabot    0 dic  6 00:56 index.html\n",
            "-rw-rw-r-- 1 wallabot wallabot  15K dic  6 01:49 index.html.1\n",
            "-rw-rw-r-- 1 wallabot wallabot  182 dic  6 01:06 lista.txt\n",
            "-rw-rw-r-- 1 wallabot wallabot    0 dic  6 01:08 secuential.txt\n",
            "drwxrwxr-x 2 wallabot wallabot 4,0K dic  6 01:52 tocompress\n",
            "-rw-rw-r-- 1 wallabot wallabot 340K dic  6 01:53 tocompress.tar\n",
            "-rw-rw-r-- 1 wallabot wallabot  52K dic  6 01:53 tocompress.tar.gz\n",
            "-rw-rw-r-- 1 wallabot wallabot  64K dic  6 01:53 tocompress.zip\n"
          ]
        }
      ],
      "source": [
        "!ls -lh"
      ]
    },
    {
      "cell_type": "markdown",
      "metadata": {},
      "source": [
        "## Background and foreground processes"
      ]
    },
    {
      "cell_type": "markdown",
      "metadata": {},
      "source": [
        "### Pausing a process and moving it to the background with `CTRL+Z`"
      ]
    },
    {
      "cell_type": "markdown",
      "metadata": {},
      "source": [
        "When we run a process in the terminal, it might not stop executing and we may want to continue using the terminal. To solve this, we can move the process to the background by pressing `CTRL+Z`"
      ]
    },
    {
      "cell_type": "markdown",
      "metadata": {},
      "source": [
        "For example, I can ping myself without specifying the number of attempts, so this will keep running until I stop the process by pressing `CTRL+C`"
      ]
    },
    {
      "cell_type": "code",
      "execution_count": 191,
      "metadata": {},
      "outputs": [
        {
          "name": "stdout",
          "output_type": "stream",
          "text": [
            "PING localhost (127.0.0.1) 56(84) bytes of data.\n",
            "64 bytes from localhost (127.0.0.1): icmp_seq=1 ttl=64 time=0.025 ms\n",
            "64 bytes from localhost (127.0.0.1): icmp_seq=2 ttl=64 time=0.027 ms\n",
            "64 bytes from localhost (127.0.0.1): icmp_seq=3 ttl=64 time=0.024 ms\n",
            "64 bytes from localhost (127.0.0.1): icmp_seq=4 ttl=64 time=0.024 ms\n",
            "64 bytes from localhost (127.0.0.1): icmp_seq=5 ttl=64 time=0.027 ms\n",
            "64 bytes from localhost (127.0.0.1): icmp_seq=6 ttl=64 time=0.036 ms\n",
            "^C\n",
            "--- localhost ping statistics ---\n",
            "6 packets transmitted, 6 received, 0% packet loss, time 5127ms\n",
            "rtt min/avg/max/mdev = 0.024/0.027/0.036/0.004 ms\n"
          ]
        }
      ],
      "source": [
        "!ping localhost"
      ]
    },
    {
      "cell_type": "markdown",
      "metadata": {},
      "source": [
        "However, if what we want is to pause the process for a moment to be able to continue using the terminal, we need to enter `Ctrl+Z`"
      ]
    },
    {
      "cell_type": "code",
      "execution_count": 191,
      "metadata": {},
      "outputs": [
        {
          "name": "stdout",
          "output_type": "stream",
          "text": [
            "PING localhost (127.0.0.1) 56(84) bytes of data.\n",
            "64 bytes from localhost (127.0.0.1): icmp_seq=1 ttl=64 time=0.028 ms\n",
            "64 bytes from localhost (127.0.0.1): icmp_seq=2 ttl=64 time=0.020 ms\n",
            "64 bytes from localhost (127.0.0.1): icmp_seq=3 ttl=64 time=0.017 ms\n",
            "64 bytes from localhost (127.0.0.1): icmp_seq=4 ttl=64 time=0.025 ms\n",
            "64 bytes from localhost (127.0.0.1): icmp_seq=5 ttl=64 time=0.021 ms\n",
            "64 bytes from localhost (127.0.0.1): icmp_seq=6 ttl=64 time=0.055 ms\n",
            "^Z\n",
            "[1]+  Detenido                ping localhost\n"
          ]
        }
      ],
      "source": [
        "!ping localhost"
      ]
    },
    {
      "cell_type": "markdown",
      "metadata": {},
      "source": [
        "As indicated, the process has been stopped, it is not running while I move it to the background"
      ]
    },
    {
      "cell_type": "markdown",
      "metadata": {},
      "source": [
        "### View background processes with `jobs`"
      ]
    },
    {
      "cell_type": "markdown",
      "metadata": {},
      "source": [
        "To see what processes are in the background, we have two commands; on one hand, we can use `jobs`"
      ]
    },
    {
      "cell_type": "code",
      "execution_count": 191,
      "metadata": {},
      "outputs": [
        {
          "name": "stdout",
          "output_type": "stream",
          "text": [
            "jobs\n",
            "[1]+  Detenido                ping localhost\n"
          ]
        }
      ],
      "source": [
        "!jobs"
      ]
    },
    {
      "cell_type": "markdown",
      "metadata": {},
      "source": [
        "This command gives us the process and the job number. This number will be the one we need to use to bring the process to the foreground."
      ]
    },
    {
      "cell_type": "markdown",
      "metadata": {},
      "source": [
        "### View background processes with `ps`"
      ]
    },
    {
      "cell_type": "markdown",
      "metadata": {},
      "source": [
        "Another command we can use is `ps` (processes)"
      ]
    },
    {
      "cell_type": "code",
      "execution_count": 191,
      "metadata": {},
      "outputs": [
        {
          "name": "stdout",
          "output_type": "stream",
          "text": [
            "    PID TTY          TIME CMD\n",
            "  16232 pts/3    00:00:00 bash\n",
            "  17070 pts/3    00:00:00 ping\n",
            "  18376 pts/3    00:00:00 ps\n"
          ]
        }
      ],
      "source": [
        "!ps"
      ]
    },
    {
      "cell_type": "markdown",
      "metadata": {},
      "source": [
        "This command not only gives us information about the processes running in the background, but also about all the processes running in the terminal."
      ]
    },
    {
      "cell_type": "markdown",
      "metadata": {},
      "source": [
        "It is important to emphasize that if we open a new terminal and use any of these commands, we will not get the ping information, as we executed it in another terminal."
      ]
    },
    {
      "cell_type": "code",
      "execution_count": 191,
      "metadata": {},
      "outputs": [
        {
          "name": "stdout",
          "output_type": "stream",
          "text": [
            "    PID TTY          TIME CMD\n",
            "  18993 pts/2    00:00:00 bash\n",
            "  19290 pts/2    00:00:00 ps\n"
          ]
        }
      ],
      "source": [
        "!ps"
      ]
    },
    {
      "cell_type": "markdown",
      "metadata": {},
      "source": [
        "As we can see, `jobs` does not return anything because there are no background processes in this terminal, and `ps` only returns the information about bash (the terminal itself) and the `ps` command that was run."
      ]
    },
    {
      "cell_type": "markdown",
      "metadata": {},
      "source": [
        "### Bringing a Background Process to the Foreground"
      ]
    },
    {
      "cell_type": "markdown",
      "metadata": {},
      "source": [
        "To bring a process to the foreground, you need to use the `fg` command. If you want to bring the last process that was sent to the background, just typing `fg` is enough. Otherwise, you need to specify the job number."
      ]
    },
    {
      "cell_type": "markdown",
      "metadata": {},
      "source": [
        "Let's go back to the processes we had in the background"
      ]
    },
    {
      "cell_type": "code",
      "execution_count": 191,
      "metadata": {},
      "outputs": [
        {
          "name": "stdout",
          "output_type": "stream",
          "text": [
            "[1]+  Detenido                ping localhost\n"
          ]
        }
      ],
      "source": [
        "!jobs"
      ]
    },
    {
      "cell_type": "markdown",
      "metadata": {},
      "source": [
        "We can bring this process to the foreground by simply writing `fg` or specifying the job number with `fg %1`"
      ]
    },
    {
      "cell_type": "code",
      "execution_count": 191,
      "metadata": {},
      "outputs": [
        {
          "name": "stdout",
          "output_type": "stream",
          "text": [
            "ping localhost\n",
            "64 bytes from localhost (127.0.0.1): icmp_seq=7 ttl=64 time=0.032 ms\n",
            "64 bytes from localhost (127.0.0.1): icmp_seq=8 ttl=64 time=0.036 ms\n",
            "64 bytes from localhost (127.0.0.1): icmp_seq=9 ttl=64 time=0.045 ms\n",
            "64 bytes from localhost (127.0.0.1): icmp_seq=10 ttl=64 time=0.035 ms\n",
            "64 bytes from localhost (127.0.0.1): icmp_seq=11 ttl=64 time=0.031 ms\n"
          ]
        }
      ],
      "source": [
        "!fg %1"
      ]
    },
    {
      "cell_type": "markdown",
      "metadata": {},
      "source": [
        "### Running a process directly in the background"
      ]
    },
    {
      "cell_type": "markdown",
      "metadata": {},
      "source": [
        "Let's relaunch the Firefox browser now by typing `firefox` in the terminal and pressing `CTRL+Z` to send it to the background."
      ]
    },
    {
      "cell_type": "code",
      "execution_count": 191,
      "metadata": {},
      "outputs": [
        {
          "name": "stdout",
          "output_type": "stream",
          "text": [
            "[GFX1-]: glxtest: VA-API test failed: failed to initialise VAAPI connection.\n",
            "[2022-11-29T06:16:17Z ERROR glean_core::metrics::ping] Invalid reason code startup for ping background-update\n",
            "^Z\n",
            "[1]+  Detenido                firefox\n"
          ]
        }
      ],
      "source": [
        "!firefox"
      ]
    },
    {
      "cell_type": "markdown",
      "metadata": {},
      "source": [
        "As we can see, it states that the process has been stopped, so if we now want to browse with Firefox, we can't, since it is stopped."
      ]
    },
    {
      "cell_type": "markdown",
      "metadata": {},
      "source": [
        "To launch Firefox and have it run in the background so it doesn't block the terminal, you need to add a `&` at the end of the command."
      ]
    },
    {
      "cell_type": "code",
      "execution_count": 191,
      "metadata": {},
      "outputs": [
        {
          "name": "stdout",
          "output_type": "stream",
          "text": [
            "[1] 23663\n",
            "$ [GFX1-]: glxtest: VA-API test failed: failed to initialise VAAPI connection.\n",
            "[2022-11-29T06:19:40Z ERROR glean_core::metrics::ping] Invalid reason code startup for ping background-update\n",
            "\n",
            "$\n"
          ]
        }
      ],
      "source": [
        "!firefox &"
      ]
    },
    {
      "cell_type": "markdown",
      "metadata": {},
      "source": [
        "Now we launch Firefox, it tells us its job number and runs in the background."
      ]
    },
    {
      "cell_type": "markdown",
      "metadata": {},
      "source": [
        "In fact, if we now look at the processes, we can see that the state of Firefox is *Running*"
      ]
    },
    {
      "cell_type": "code",
      "execution_count": 191,
      "metadata": {},
      "outputs": [
        {
          "name": "stdout",
          "output_type": "stream",
          "text": [
            "[1]+  Ejecutando              firefox &\n"
          ]
        }
      ],
      "source": [
        "!jobs"
      ]
    },
    {
      "cell_type": "markdown",
      "metadata": {},
      "source": [
        "### Killing a Background Process"
      ]
    },
    {
      "cell_type": "markdown",
      "metadata": {},
      "source": [
        "Since we have Firefox running in the background, if we want to terminate it, we need to use `kill` and the job number of the process. Let's use `jobs` to see the job number of Firefox."
      ]
    },
    {
      "cell_type": "code",
      "execution_count": 191,
      "metadata": {},
      "outputs": [
        {
          "name": "stdout",
          "output_type": "stream",
          "text": [
            "[1]+  Ejecutando              firefox &\n"
          ]
        }
      ],
      "source": [
        "!jobs"
      ]
    },
    {
      "cell_type": "markdown",
      "metadata": {},
      "source": [
        "Your job number is 1, so we use that number to finish the process."
      ]
    },
    {
      "cell_type": "code",
      "execution_count": 191,
      "metadata": {},
      "outputs": [
        {
          "name": "stdout",
          "output_type": "stream",
          "text": [
            "\n"
          ]
        }
      ],
      "source": [
        "!kill %1"
      ]
    },
    {
      "cell_type": "markdown",
      "metadata": {},
      "source": [
        "It doesn't respond with anything, but if we use `jobs` again to see the processes in the background"
      ]
    },
    {
      "cell_type": "code",
      "execution_count": 191,
      "metadata": {},
      "outputs": [
        {
          "name": "stdout",
          "output_type": "stream",
          "text": [
            "[1]+  Terminado               firefox\n"
          ]
        }
      ],
      "source": [
        "!jobs"
      ]
    },
    {
      "cell_type": "markdown",
      "metadata": {},
      "source": [
        "We see that it tells us Firefox has finished; if we run `jobs` again, nothing will appear."
      ]
    },
    {
      "cell_type": "code",
      "execution_count": 191,
      "metadata": {},
      "outputs": [
        {
          "name": "stdout",
          "output_type": "stream",
          "text": [
            "\n"
          ]
        }
      ],
      "source": [
        "!jobs"
      ]
    },
    {
      "cell_type": "markdown",
      "metadata": {},
      "source": [
        "## Background processes independent of the terminal"
      ]
    },
    {
      "cell_type": "markdown",
      "metadata": {},
      "source": [
        "So far we have seen how to run background processes dependent on the terminal, which means that if we send a process to the background and close the terminal, it will send an end message to all processes in its background and they will terminate."
      ]
    },
    {
      "cell_type": "markdown",
      "metadata": {},
      "source": [
        "But there are times when we want the process to stay in the background, be able to close the terminal, open another one, and recover that process. For this, we will use `tmux`, which is a terminal multiplexer.",
        "\n",
        "It may already be installed, so to install it you need to enter the following",
        "\n",
        "``` bash\n",
        "sudo apt install tmux",
        "```"
      ]
    },
    {
      "cell_type": "markdown",
      "metadata": {},
      "source": [
        "Once installed, we can create a new `tmux` session using `tmux new -s <name>`",
        "\n",
        "``` bash\n",
        "tmux new -s session1",
        "```\n",
        "\n",
        "This will open a new terminal, which is actually a `tmux` session."
      ]
    },
    {
      "cell_type": "markdown",
      "metadata": {},
      "source": [
        "Inside it we can launch a process, for example a `ping` to ourselves"
      ]
    },
    {
      "cell_type": "code",
      "execution_count": 191,
      "metadata": {},
      "outputs": [
        {
          "name": "stdout",
          "output_type": "stream",
          "text": [
            "PING localhost (127.0.0.1) 56(84) bytes of data.\n",
            "64 bytes from localhost (127.0.0.1): icmp_seq=1 ttl=64 time=0.036 ms\n",
            "64 bytes from localhost (127.0.0.1): icmp_seq=2 ttl=64 time=0.019 ms\n",
            "64 bytes from localhost (127.0.0.1): icmp_seq=3 ttl=64 time=0.031 ms\n"
          ]
        }
      ],
      "source": [
        "!ping localhost"
      ]
    },
    {
      "cell_type": "markdown",
      "metadata": {},
      "source": [
        "We can close that terminal"
      ]
    },
    {
      "cell_type": "markdown",
      "metadata": {},
      "source": [
        "If we open a new one, we can see all the open `tmux` sessions with the command `tmux ls`"
      ]
    },
    {
      "cell_type": "code",
      "execution_count": 6,
      "metadata": {},
      "outputs": [
        {
          "name": "stdout",
          "output_type": "stream",
          "text": [
            "session1: 1 windows (created Tue Nov 29 08:15:22 2022)\n"
          ]
        }
      ],
      "source": [
        "!tmux ls"
      ]
    },
    {
      "cell_type": "markdown",
      "metadata": {},
      "source": [
        "And we can enter a session using the command `tmux`, followed by `a` (attach), `-t` (tag) and the name of the session"
      ]
    },
    {
      "cell_type": "code",
      "execution_count": 191,
      "metadata": {},
      "outputs": [
        {
          "name": "stdout",
          "output_type": "stream",
          "text": [
            "64 bytes from localhost (127.0.0.1): icmp_seq=146 ttl=64 time=0.025 ms\n",
            "64 bytes from localhost (127.0.0.1): icmp_seq=147 ttl=64 time=0.022 ms\n",
            "64 bytes from localhost (127.0.0.1): icmp_seq=148 ttl=64 time=0.026 ms\n",
            "64 bytes from localhost (127.0.0.1): icmp_seq=149 ttl=64 time=0.013 ms\n",
            "64 bytes from localhost (127.0.0.1): icmp_seq=150 ttl=64 time=0.027 ms\n",
            "64 bytes from localhost (127.0.0.1): icmp_seq=151 ttl=64 time=0.019 ms\n"
          ]
        }
      ],
      "source": [
        "!tmux a -t session1"
      ]
    },
    {
      "cell_type": "markdown",
      "metadata": {},
      "source": [
        "As we can see, we have recovered the `ping` from before"
      ]
    },
    {
      "cell_type": "markdown",
      "metadata": {},
      "source": [
        "When we are inside a session, we can exit it (killing it) by typing `CTRL+D` or writing `exit`"
      ]
    },
    {
      "cell_type": "markdown",
      "metadata": {},
      "source": [
        "## Process Management"
      ]
    },
    {
      "cell_type": "markdown",
      "metadata": {},
      "source": [
        "To handle the processes of our system we have several options"
      ]
    },
    {
      "cell_type": "markdown",
      "metadata": {},
      "source": [
        "### Process handler `ps`"
      ]
    },
    {
      "cell_type": "markdown",
      "metadata": {},
      "source": [
        "As we have seen before, `ps` gives us the processes that are running in our terminal. For example, we run a process in the background and see the processes with `ps`."
      ]
    },
    {
      "cell_type": "code",
      "execution_count": 191,
      "metadata": {},
      "outputs": [
        {
          "name": "stdout",
          "output_type": "stream",
          "text": [
            "[1] 50555\n"
          ]
        }
      ],
      "source": [
        "!firefox &"
      ]
    },
    {
      "cell_type": "markdown",
      "metadata": {},
      "source": [
        "We now see the processes"
      ]
    },
    {
      "cell_type": "code",
      "execution_count": 191,
      "metadata": {},
      "outputs": [
        {
          "name": "stdout",
          "output_type": "stream",
          "text": [
            "    PID TTY          TIME CMD\n",
            "  36660 pts/3    00:00:00 bash\n",
            "  50555 pts/3    00:00:02 firefox\n",
            "  50613 pts/3    00:00:00 Socket Process\n",
            "  50635 pts/3    00:00:00 Privileged Cont\n",
            "  50683 pts/3    00:00:00 WebExtensions\n",
            "  50741 pts/3    00:00:00 Web Content\n",
            "  50743 pts/3    00:00:00 Web Content\n",
            "  50748 pts/3    00:00:00 Web Content\n",
            "  50840 pts/3    00:00:00 ps\n"
          ]
        }
      ],
      "source": [
        "!ps"
      ]
    },
    {
      "cell_type": "markdown",
      "metadata": {},
      "source": [
        "Once we know its PID, we can kill the process"
      ]
    },
    {
      "cell_type": "code",
      "execution_count": 191,
      "metadata": {},
      "outputs": [
        {
          "name": "stdout",
          "output_type": "stream",
          "text": [
            "\n"
          ]
        }
      ],
      "source": [
        "!kill 50555"
      ]
    },
    {
      "cell_type": "markdown",
      "metadata": {},
      "source": [
        "We now see the processes"
      ]
    },
    {
      "cell_type": "code",
      "execution_count": 191,
      "metadata": {},
      "outputs": [
        {
          "name": "stdout",
          "output_type": "stream",
          "text": [
            "    PID TTY          TIME CMD\n",
            "  36660 pts/3    00:00:00 bash\n",
            "  51132 pts/3    00:00:00 ps\n"
          ]
        }
      ],
      "source": [
        "!ps"
      ]
    },
    {
      "cell_type": "markdown",
      "metadata": {},
      "source": [
        "But as we have said, the downside of `ps` is that it only shows the processes of its terminal"
      ]
    },
    {
      "cell_type": "markdown",
      "metadata": {},
      "source": [
        "To display all system processes, we need to add `aux`"
      ]
    },
    {
      "cell_type": "code",
      "execution_count": 3,
      "metadata": {},
      "outputs": [
        {
          "name": "stdout",
          "output_type": "stream",
          "text": [
            "USER         PID %CPU %MEM    VSZ   RSS TTY      STAT START   TIME COMMAND\n",
            "root           1  0.2  0.0 169936 13172 ?        Ss   23:06   0:01 /sbin/init splash\n",
            "root           2  0.0  0.0      0     0 ?        S    23:06   0:00 [kthreadd]\n",
            "root           3  0.0  0.0      0     0 ?        I<   23:06   0:00 [rcu_gp]\n",
            "root           4  0.0  0.0      0     0 ?        I<   23:06   0:00 [rcu_par_gp]\n",
            "root           5  0.0  0.0      0     0 ?        I<   23:06   0:00 [netns]\n",
            "root           7  0.0  0.0      0     0 ?        I<   23:06   0:00 [kworker/0:0H-events_highpri]\n",
            "root           9  0.0  0.0      0     0 ?        I<   23:06   0:00 [kworker/0:1H-events_highpri]\n",
            "root          10  0.0  0.0      0     0 ?        I<   23:06   0:00 [mm_percpu_wq]\n",
            "root          11  0.0  0.0      0     0 ?        S    23:06   0:00 [rcu_tasks_rude_]\n",
            "\t ...\n",
            "wallabot   11094  0.0  0.2 1184730916 65900 ?    Sl   23:19   0:00 /opt/google/chrome/chrome --type=renderer --crashpad-handler-pid=5080 --enable-crash-reporter=, --change-stack-guard-on-fork=enable --lang=es --num-raster-threads=4 --enable-main-frame-before-activation --renderer-client-id=76 --time-ticks-at-unix-epoch=-1670018798736448 --launch-time-ticks=781545948 --shared-files=v8_context_snapshot_data:100 --field-trial-handle=0,i,18391862866948577032,30807856093711604,131072\n",
            "wallabot   11428  0.3  0.2 38136100 75812 ?      Sl   23:21   0:00 /usr/share/code/code --ms-enable-electron-run-as-node /usr/share/code/resources/app/extensions/markdown-language-features/server/dist/node/main --node-ipc --clientProcessId=8508\n",
            "root       11508  0.0  0.0      0     0 ?        I    23:21   0:00 [kworker/4:1-events]\n",
            "wallabot   11683  0.0  0.0  14192  3380 ?        R    23:22   0:00 ps aux\n",
            "\n"
          ]
        }
      ],
      "source": [
        "terminal(\"ps aux\", max_lines_output=10)"
      ]
    },
    {
      "cell_type": "markdown",
      "metadata": {},
      "source": [
        "Now, if what I want is to search only for the processes running under my user, I can do this by creating a `pipe` and searching with `grep`"
      ]
    },
    {
      "cell_type": "code",
      "execution_count": 7,
      "metadata": {},
      "outputs": [
        {
          "name": "stdout",
          "output_type": "stream",
          "text": [
            "avahi        802  0.0  0.0   8536  3912 ?        Ss   23:06   0:00 avahi-daemon: running [wallabot.local]\n",
            "wallabot    1153  0.0  0.0  19856 10624 ?        Ss   23:06   0:00 /lib/systemd/systemd --user\n",
            "wallabot    1154  0.0  0.0 170004  3680 ?        S    23:06   0:00 (sd-pam)\n",
            "wallabot    1159  0.1  0.0 2569384 22808 ?       S<sl 23:06   0:01 /usr/bin/pulseaudio --daemonize=no --log-target=journal\n",
            "wallabot    1161  0.1  0.1 591424 37248 ?        SNsl 23:06   0:02 /usr/libexec/tracker-miner-fs\n",
            "wallabot    1164  0.0  0.0 390744  8664 ?        SLl  23:06   0:00 /usr/bin/gnome-keyring-daemon --daemonize --login\n",
            "wallabot    1168  0.0  0.0 166804  6616 tty2     Ssl+ 23:06   0:00 /usr/lib/gdm3/gdm-x-session --run-script env GNOME_SHELL_SESSION_MODE=ubuntu /usr/bin/gnome-session --systemd --session=ubuntu\n",
            "wallabot    1173  0.0  0.0   8904  6012 ?        Ss   23:06   0:00 /usr/bin/dbus-daemon --session --address=systemd: --nofork --nopidfile --systemd-activation --syslog-only\n",
            "wallabot    1181  0.0  0.0 242628  7884 ?        Ssl  23:06   0:00 /usr/libexec/gvfsd\n",
            "wallabot    1196  0.0  0.0 378348  5544 ?        Sl   23:06   0:00 /usr/libexec/gvfsd-fuse /run/user/1000/gvfs -f -o big_writes\n",
            "wallabot    1203  0.0  0.0 316896  9540 ?        Ssl  23:06   0:00 /usr/libexec/gvfs-udisks2-volume-monitor\n",
            "wallabot    1209  0.0  0.0 319540  8920 ?        Ssl  23:06   0:00 /usr/libexec/gvfs-afc-volume-monitor\n",
            "wallabot    1215  0.0  0.0 238612  5476 ?        Ssl  23:06   0:00 /usr/libexec/gvfs-mtp-volume-monitor\n",
            "wallabot    1220  0.0  0.0 239456  6988 ?        Ssl  23:06   0:00 /usr/libexec/gvfs-goa-volume-monitor\n",
            "wallabot    1224  0.0  0.2 707176 69244 ?        SLl  23:06   0:00 /usr/libexec/goa-daemon\n",
            "wallabot    1231  0.0  0.0 317692  9068 ?        Sl   23:06   0:00 /usr/libexec/goa-identity-service\n",
            "wallabot    1237  0.0  0.0 240888  6244 ?        Ssl  23:06   0:00 /usr/libexec/gvfs-gphoto2-volume-monitor\n",
            "wallabot    1308  0.0  0.0 190872 13688 tty2     Sl+  23:06   0:00 /usr/libexec/gnome-session-binary --systemd --systemd --session=ubuntu\n",
            "wallabot    1375  0.0  0.0   6040   452 ?        Ss   23:06   0:00 /usr/bin/ssh-agent /usr/bin/im-launch env GNOME_SHELL_SESSION_MODE=ubuntu /usr/bin/gnome-session --systemd --session=ubuntu\n",
            "wallabot    1394  0.0  0.0 305428  6572 ?        Ssl  23:06   0:00 /usr/libexec/at-spi-bus-launcher\n",
            "wallabot    1399  0.0  0.0   7380  4240 ?        S    23:06   0:00 /usr/bin/dbus-daemon --config-file=/usr/share/defaults/at-spi2/accessibility.conf --nofork --print-address 3\n",
            "wallabot    1405  0.0  0.0  92852  4228 ?        Ssl  23:06   0:00 /usr/libexec/gnome-session-ctl --monitor\n",
            "wallabot    1412  0.0  0.0 414004 16532 ?        Ssl  23:06   0:00 /usr/libexec/gnome-session-binary --systemd-service --session=ubuntu\n",
            "wallabot    1426  3.7  1.2 5576364 425284 ?      Rsl  23:06   0:41 /usr/bin/gnome-shell\n",
            "wallabot    1476  0.0  0.0 387612  8436 ?        Sl   23:06   0:00 ibus-daemon --panel disable --xim\n",
            "wallabot    1480  0.0  0.0 165628  7060 ?        Sl   23:06   0:00 /usr/libexec/ibus-memconf\n",
            "wallabot    1481  0.0  0.0 276012 29224 ?        Sl   23:06   0:00 /usr/libexec/ibus-extension-gtk3\n",
            "wallabot    1483  0.0  0.0 196832 24676 ?        Sl   23:06   0:00 /usr/libexec/ibus-x11 --kill-daemon\n",
            "wallabot    1486  0.0  0.0 239400  7244 ?        Sl   23:06   0:00 /usr/libexec/ibus-portal\n",
            "wallabot    1498  0.0  0.0 162916  6508 ?        Sl   23:06   0:00 /usr/libexec/at-spi2-registryd --use-gnome-session\n",
            "wallabot    1502  0.0  0.0 238512  5936 ?        Ssl  23:06   0:00 /usr/libexec/xdg-permission-store\n",
            "wallabot    1504  0.0  0.0 862476 24084 ?        Sl   23:06   0:00 /usr/libexec/gnome-shell-calendar-server\n",
            "wallabot    1513  0.0  0.0 618416 32636 ?        Ssl  23:06   0:00 /usr/libexec/evolution-source-registry\n",
            "wallabot    1521  0.0  0.0 156476  5716 ?        Sl   23:06   0:00 /usr/libexec/dconf-service\n",
            "wallabot    1524  0.0  0.0 165712  7076 ?        Ssl  23:06   0:00 /usr/libexec/gvfsd-metadata\n",
            "wallabot    1535  0.0  0.1 1680828 49932 ?       Ssl  23:06   0:00 /usr/libexec/evolution-calendar-factory\n",
            "wallabot    1551  0.0  0.0 676260 30636 ?        Ssl  23:06   0:00 /usr/libexec/evolution-addressbook-factory\n",
            "wallabot    1585  0.0  0.0 2933212 27180 ?       Sl   23:06   0:00 /usr/bin/gjs /usr/share/gnome-shell/org.gnome.Shell.Notifications\n",
            "wallabot    1597  0.0  0.0 316920  7980 ?        Sl   23:06   0:00 /usr/libexec/gvfsd-trash --spawner :1.4 /org/gtk/gvfs/exec_spaw/0\n",
            "wallabot    1612  0.0  0.0 312652  6796 ?        Ssl  23:06   0:00 /usr/libexec/gsd-a11y-settings\n",
            "wallabot    1613  0.0  0.0 587548 27164 ?        Ssl  23:06   0:00 /usr/libexec/gsd-color\n",
            "wallabot    1614  0.0  0.0 376604 16508 ?        Ssl  23:06   0:00 /usr/libexec/gsd-datetime\n",
            "wallabot    1616  0.0  0.0 314840  7876 ?        Ssl  23:06   0:00 /usr/libexec/gsd-housekeeping\n",
            "wallabot    1619  0.0  0.0 344796 25276 ?        Ssl  23:06   0:00 /usr/libexec/gsd-keyboard\n",
            "wallabot    1623  0.0  0.0 900140 28012 ?        Ssl  23:06   0:00 /usr/libexec/gsd-media-keys\n",
            "wallabot    1627  0.0  0.0 418936 25736 ?        Ssl  23:06   0:00 /usr/libexec/gsd-power\n",
            "wallabot    1629  0.0  0.0 251196 11384 ?        Ssl  23:06   0:00 /usr/libexec/gsd-print-notifications\n",
            "wallabot    1630  0.0  0.0 459940  6088 ?        Ssl  23:06   0:00 /usr/libexec/gsd-rfkill\n",
            "wallabot    1632  0.0  0.0 238348  6344 ?        Ssl  23:06   0:00 /usr/libexec/gsd-screensaver-proxy\n",
            "wallabot    1633  0.0  0.0 467776 11088 ?        Ssl  23:06   0:00 /usr/libexec/gsd-sharing\n",
            "wallabot    1634  0.0  0.0 318156 10452 ?        Ssl  23:06   0:00 /usr/libexec/gsd-smartcard\n",
            "wallabot    1636  0.0  0.0 322344  9400 ?        Ssl  23:06   0:00 /usr/libexec/gsd-sound\n",
            "wallabot    1637  0.0  0.0 461692  7252 ?        Ssl  23:06   0:00 /usr/libexec/gsd-usb-protection\n",
            "wallabot    1640  0.0  0.0 344332 24372 ?        Ssl  23:06   0:00 /usr/libexec/gsd-wacom\n",
            "wallabot    1643  0.0  0.0 390820  8260 ?        Ssl  23:06   0:00 /usr/libexec/gsd-wwan\n",
            "wallabot    1644  0.0  0.0 345572 25980 ?        Ssl  23:06   0:00 /usr/libexec/gsd-xsettings\n",
            "wallabot    1649  0.0  0.2 1227284 75100 ?       Sl   23:06   0:00 /usr/libexec/evolution-data-server/evolution-alarm-notify\n",
            "wallabot    1673  0.0  0.1 413288 60304 ?        Sl   23:06   0:00 /usr/bin/python3 /usr/bin/solaar\n",
            "wallabot    1692  0.0  0.0 231804  5972 ?        Sl   23:06   0:00 /usr/libexec/gsd-disk-utility-notify\n",
            "wallabot    1730  0.0  0.0 165620  7028 ?        Sl   23:06   0:00 /usr/libexec/ibus-engine-simple\n",
            "wallabot    1739  0.0  0.0 438456 19104 ?        Sl   23:06   0:00 /usr/libexec/gvfsd-http --spawner :1.4 /org/gtk/gvfs/exec_spaw/1\n",
            "wallabot    1748  0.4  0.6 1242548 217144 ?      Sl   23:06   0:04 /snap/snap-store/599/usr/bin/snap-store --gapplication-service\n",
            "wallabot    1760  0.0  0.0 345020 15016 ?        Sl   23:06   0:00 /usr/libexec/gsd-printer\n",
            "wallabot    1797  0.0  0.0 608052  6664 ?        Ssl  23:06   0:00 /usr/libexec/xdg-document-portal\n",
            "wallabot    2170  0.0  0.0 612960 11060 ?        Ssl  23:06   0:00 /usr/libexec/xdg-desktop-portal\n",
            "wallabot    2174  0.0  0.0 493648 26488 ?        Ssl  23:06   0:00 /usr/libexec/xdg-desktop-portal-gtk\n",
            "wallabot    4839  0.0  0.0 420020 28340 ?        Sl   23:07   0:00 update-notifier\n",
            "wallabot    5019  0.0  0.0 436628 21644 ?        Sl   23:08   0:00 /usr/libexec/gvfsd-google --spawner :1.4 /org/gtk/gvfs/exec_spaw/2\n",
            "wallabot    5072  3.2  1.1 34219664 391492 ?     SLl  23:08   0:32 /opt/google/chrome/chrome\n",
            "wallabot    5077  0.0  0.0  10844   580 ?        S    23:08   0:00 cat\n",
            "wallabot    5078  0.0  0.0  10844   516 ?        S    23:08   0:00 cat\n",
            "wallabot    5080  0.0  0.0 33576132 3140 ?       Sl   23:08   0:00 /opt/google/chrome/chrome_crashpad_handler --monitor-self --monitor-self-annotation=ptype=crashpad-handler --database=/home/wallabot/.config/google-chrome/Crash Reports --url=https://clients2.google.com/cr/report --annotation=channel= --annotation=lsb-release=Ubuntu 20.04.5 LTS --annotation=plat=Linux --annotation=prod=Chrome_Linux --annotation=ver=108.0.5359.71 --initial-client-fd=5 --shared-client-connection\n",
            "wallabot    5082  0.0  0.0 33567920 2952 ?       Sl   23:08   0:00 /opt/google/chrome/chrome_crashpad_handler --no-periodic-tasks --monitor-self-annotation=ptype=crashpad-handler --database=/home/wallabot/.config/google-chrome/Crash Reports --url=https://clients2.google.com/cr/report --annotation=channel= --annotation=lsb-release=Ubuntu 20.04.5 LTS --annotation=plat=Linux --annotation=prod=Chrome_Linux --annotation=ver=108.0.5359.71 --initial-client-fd=4 --shared-client-connection\n",
            "wallabot    5088  0.0  0.1 33854440 59168 ?      S    23:08   0:00 /opt/google/chrome/chrome --type=zygote --no-zygote-sandbox --crashpad-handler-pid=5080 --enable-crash-reporter=, --change-stack-guard-on-fork=enable\n",
            "wallabot    5089  0.0  0.1 33854436 59068 ?      S    23:08   0:00 /opt/google/chrome/chrome --type=zygote --crashpad-handler-pid=5080 --enable-crash-reporter=, --change-stack-guard-on-fork=enable\n",
            "wallabot    5090  0.0  0.0 33568428 5024 ?       S    23:08   0:00 /opt/google/chrome/nacl_helper\n",
            "wallabot    5093  0.0  0.0 33854460 16384 ?      S    23:08   0:00 /opt/google/chrome/chrome --type=zygote --crashpad-handler-pid=5080 --enable-crash-reporter=, --change-stack-guard-on-fork=enable\n",
            "wallabot    5123  6.0  0.8 34211392 285560 ?     Sl   23:08   1:00 /opt/google/chrome/chrome --type=gpu-process --crashpad-handler-pid=5080 --enable-crash-reporter=, --change-stack-guard-on-fork=enable --gpu-preferences=WAAAAAAAAAAgAAAIAAAAAAAAAAAAAAAAAABgAAAAAAA4AAAAAAAAAAAAAAAAAAAAAAAAAAAAAAAAAAAAAAAAACAAAAAAAAAAIAAAAAAAAAABAAAAAAAAAAgAAAAAAAAACAAAAAAAAAAIAAAAAAAAAA== --shared-files --field-trial-handle=0,i,18391862866948577032,30807856093711604,131072\n",
            "wallabot    5124  0.6  0.3 33918264 119584 ?     Sl   23:08   0:06 /opt/google/chrome/chrome --type=utility --utility-sub-type=network.mojom.NetworkService --lang=es --service-sandbox-type=none --crashpad-handler-pid=5080 --enable-crash-reporter=, --change-stack-guard-on-fork=enable --shared-files=v8_context_snapshot_data:100 --field-trial-handle=0,i,18391862866948577032,30807856093711604,131072\n",
            "wallabot    5136  0.0  0.1 33895840 52500 ?      Sl   23:08   0:00 /opt/google/chrome/chrome --type=utility --utility-sub-type=storage.mojom.StorageService --lang=es --service-sandbox-type=utility --crashpad-handler-pid=5080 --enable-crash-reporter=, --change-stack-guard-on-fork=enable --shared-files=v8_context_snapshot_data:100 --field-trial-handle=0,i,18391862866948577032,30807856093711604,131072\n",
            "wallabot    5155  0.1  0.4 1184797648 132208 ?   Sl   23:08   0:01 /opt/google/chrome/chrome --type=renderer --crashpad-handler-pid=5080 --enable-crash-reporter=, --extension-process --change-stack-guard-on-fork=enable --lang=es --num-raster-threads=4 --enable-main-frame-before-activation --renderer-client-id=5 --time-ticks-at-unix-epoch=-1670018798736448 --launch-time-ticks=121160165 --shared-files=v8_context_snapshot_data:100 --field-trial-handle=0,i,18391862866948577032,30807856093711604,131072\n",
            "wallabot    5171  4.5  0.6 1188020280 229028 ?   Sl   23:08   0:44 /opt/google/chrome/chrome --type=renderer --crashpad-handler-pid=5080 --enable-crash-reporter=, --change-stack-guard-on-fork=enable --lang=es --num-raster-threads=4 --enable-main-frame-before-activation --renderer-client-id=27 --time-ticks-at-unix-epoch=-1670018798736448 --launch-time-ticks=121254783 --shared-files=v8_context_snapshot_data:100 --field-trial-handle=0,i,18391862866948577032,30807856093711604,131072\n",
            "wallabot    5228  0.0  0.2 1184772236 89352 ?    Sl   23:08   0:00 /opt/google/chrome/chrome --type=renderer --crashpad-handler-pid=5080 --enable-crash-reporter=, --extension-process --change-stack-guard-on-fork=enable --lang=es --num-raster-threads=4 --enable-main-frame-before-activation --renderer-client-id=6 --time-ticks-at-unix-epoch=-1670018798736448 --launch-time-ticks=121309474 --shared-files=v8_context_snapshot_data:100 --field-trial-handle=0,i,18391862866948577032,30807856093711604,131072\n",
            "wallabot    5247  0.0  0.2 1184788292 86368 ?    Sl   23:08   0:00 /opt/google/chrome/chrome --type=renderer --crashpad-handler-pid=5080 --enable-crash-reporter=, --extension-process --change-stack-guard-on-fork=enable --lang=es --num-raster-threads=4 --enable-main-frame-before-activation --renderer-client-id=7 --time-ticks-at-unix-epoch=-1670018798736448 --launch-time-ticks=121342017 --shared-files=v8_context_snapshot_data:100 --field-trial-handle=0,i,18391862866948577032,30807856093711604,131072\n",
            "wallabot    5274  0.3  0.4 1184796488 155056 ?   Sl   23:08   0:03 /opt/google/chrome/chrome --type=renderer --crashpad-handler-pid=5080 --enable-crash-reporter=, --extension-process --change-stack-guard-on-fork=enable --lang=es --num-raster-threads=4 --enable-main-frame-before-activation --renderer-client-id=8 --time-ticks-at-unix-epoch=-1670018798736448 --launch-time-ticks=121354013 --shared-files=v8_context_snapshot_data:100 --field-trial-handle=0,i,18391862866948577032,30807856093711604,131072\n",
            "wallabot    5294  0.1  0.3 1184797648 123536 ?   Sl   23:08   0:01 /opt/google/chrome/chrome --type=renderer --crashpad-handler-pid=5080 --enable-crash-reporter=, --extension-process --change-stack-guard-on-fork=enable --lang=es --num-raster-threads=4 --enable-main-frame-before-activation --renderer-client-id=9 --time-ticks-at-unix-epoch=-1670018798736448 --launch-time-ticks=121366454 --shared-files=v8_context_snapshot_data:100 --field-trial-handle=0,i,18391862866948577032,30807856093711604,131072\n",
            "wallabot    5300  0.0  0.2 1184771900 88048 ?    Sl   23:08   0:00 /opt/google/chrome/chrome --type=renderer --crashpad-handler-pid=5080 --enable-crash-reporter=, --extension-process --change-stack-guard-on-fork=enable --lang=es --num-raster-threads=4 --enable-main-frame-before-activation --renderer-client-id=10 --time-ticks-at-unix-epoch=-1670018798736448 --launch-time-ticks=121370528 --shared-files=v8_context_snapshot_data:100 --field-trial-handle=0,i,18391862866948577032,30807856093711604,131072\n",
            "wallabot    5325  0.0  0.1 34023608 34500 ?      S    23:08   0:00 /opt/google/chrome/chrome --type=broker\n",
            "wallabot    5343  0.0  0.3 1184780096 98820 ?    Sl   23:08   0:00 /opt/google/chrome/chrome --type=renderer --crashpad-handler-pid=5080 --enable-crash-reporter=, --extension-process --change-stack-guard-on-fork=enable --lang=es --num-raster-threads=4 --enable-main-frame-before-activation --renderer-client-id=45 --time-ticks-at-unix-epoch=-1670018798736448 --launch-time-ticks=121454617 --shared-files=v8_context_snapshot_data:100 --field-trial-handle=0,i,18391862866948577032,30807856093711604,131072\n",
            "wallabot    5381  0.0  0.0 197896 29728 ?        Sl   23:08   0:00 /usr/bin/python3 /usr/bin/chrome-gnome-shell chrome-extension://gphhapmejobijbbhgpjhcjognlahblep/\n",
            "wallabot    5467  0.8  0.5 1185857508 194536 ?   Sl   23:08   0:08 /opt/google/chrome/chrome --type=renderer --crashpad-handler-pid=5080 --enable-crash-reporter=, --change-stack-guard-on-fork=enable --lang=es --num-raster-threads=4 --enable-main-frame-before-activation --renderer-client-id=48 --time-ticks-at-unix-epoch=-1670018798736448 --launch-time-ticks=122388284 --shared-files=v8_context_snapshot_data:100 --field-trial-handle=0,i,18391862866948577032,30807856093711604,131072\n",
            "wallabot    5547  0.0  0.2 34155852 77000 ?      Sl   23:08   0:00 /opt/google/chrome/chrome --type=utility --utility-sub-type=audio.mojom.AudioService --lang=es --service-sandbox-type=none --crashpad-handler-pid=5080 --enable-crash-reporter=, --change-stack-guard-on-fork=enable --shared-files=v8_context_snapshot_data:100 --field-trial-handle=0,i,18391862866948577032,30807856093711604,131072\n",
            "wallabot    5584  0.0  0.3 1184798704 126008 ?   Sl   23:08   0:00 /opt/google/chrome/chrome --type=renderer --crashpad-handler-pid=5080 --enable-crash-reporter=, --change-stack-guard-on-fork=enable --lang=es --num-raster-threads=4 --enable-main-frame-before-activation --renderer-client-id=40 --time-ticks-at-unix-epoch=-1670018798736448 --launch-time-ticks=127275168 --shared-files=v8_context_snapshot_data:100 --field-trial-handle=0,i,18391862866948577032,30807856093711604,131072\n",
            "wallabot    5590  0.1  0.4 1184799064 148824 ?   Sl   23:08   0:01 /opt/google/chrome/chrome --type=renderer --crashpad-handler-pid=5080 --enable-crash-reporter=, --change-stack-guard-on-fork=enable --lang=es --num-raster-threads=4 --enable-main-frame-before-activation --renderer-client-id=28 --time-ticks-at-unix-epoch=-1670018798736448 --launch-time-ticks=127276723 --shared-files=v8_context_snapshot_data:100 --field-trial-handle=0,i,18391862866948577032,30807856093711604,131072\n",
            "wallabot    5592  8.3  0.8 1187976688 283688 ?   Sl   23:08   1:22 /opt/google/chrome/chrome --type=renderer --crashpad-handler-pid=5080 --enable-crash-reporter=, --change-stack-guard-on-fork=enable --lang=es --num-raster-threads=4 --enable-main-frame-before-activation --renderer-client-id=30 --time-ticks-at-unix-epoch=-1670018798736448 --launch-time-ticks=127278497 --shared-files=v8_context_snapshot_data:100 --field-trial-handle=0,i,18391862866948577032,30807856093711604,131072\n",
            "wallabot    5636  0.0  0.3 1184805876 122780 ?   Sl   23:08   0:00 /opt/google/chrome/chrome --type=renderer --crashpad-handler-pid=5080 --enable-crash-reporter=, --change-stack-guard-on-fork=enable --lang=es --num-raster-threads=4 --enable-main-frame-before-activation --renderer-client-id=51 --time-ticks-at-unix-epoch=-1670018798736448 --launch-time-ticks=127293028 --shared-files=v8_context_snapshot_data:100 --field-trial-handle=0,i,18391862866948577032,30807856093711604,131072\n",
            "wallabot    5753  0.0  0.3 1184796632 104664 ?   Sl   23:08   0:00 /opt/google/chrome/chrome --type=renderer --crashpad-handler-pid=5080 --enable-crash-reporter=, --change-stack-guard-on-fork=enable --lang=es --num-raster-threads=4 --enable-main-frame-before-activation --renderer-client-id=52 --time-ticks-at-unix-epoch=-1670018798736448 --launch-time-ticks=129692647 --shared-files=v8_context_snapshot_data:100 --field-trial-handle=0,i,18391862866948577032,30807856093711604,131072\n",
            "wallabot    5788  3.0  0.8 1185884504 276332 ?   Sl   23:08   0:29 /opt/google/chrome/chrome --type=renderer --crashpad-handler-pid=5080 --enable-crash-reporter=, --change-stack-guard-on-fork=enable --lang=es --num-raster-threads=4 --enable-main-frame-before-activation --renderer-client-id=19 --time-ticks-at-unix-epoch=-1670018798736448 --launch-time-ticks=130329055 --shared-files=v8_context_snapshot_data:100 --field-trial-handle=0,i,18391862866948577032,30807856093711604,131072\n",
            "wallabot    5828  1.9  0.9 1184827212 309156 ?   Sl   23:08   0:19 /opt/google/chrome/chrome --type=renderer --crashpad-handler-pid=5080 --enable-crash-reporter=, --change-stack-guard-on-fork=enable --lang=es --num-raster-threads=4 --enable-main-frame-before-activation --renderer-client-id=22 --time-ticks-at-unix-epoch=-1670018798736448 --launch-time-ticks=131345480 --shared-files=v8_context_snapshot_data:100 --field-trial-handle=0,i,18391862866948577032,30807856093711604,131072\n",
            "wallabot    5846  0.6  0.6 1184844960 207484 ?   Sl   23:08   0:06 /opt/google/chrome/chrome --type=renderer --crashpad-handler-pid=5080 --enable-crash-reporter=, --change-stack-guard-on-fork=enable --lang=es --num-raster-threads=4 --enable-main-frame-before-activation --renderer-client-id=36 --time-ticks-at-unix-epoch=-1670018798736448 --launch-time-ticks=131537892 --shared-files=v8_context_snapshot_data:100 --field-trial-handle=0,i,18391862866948577032,30807856093711604,131072\n",
            "wallabot    6066  0.5  0.6 1184828968 220584 ?   Sl   23:08   0:05 /opt/google/chrome/chrome --type=renderer --crashpad-handler-pid=5080 --enable-crash-reporter=, --change-stack-guard-on-fork=enable --lang=es --num-raster-threads=4 --enable-main-frame-before-activation --renderer-client-id=35 --time-ticks-at-unix-epoch=-1670018798736448 --launch-time-ticks=135569943 --shared-files=v8_context_snapshot_data:100 --field-trial-handle=0,i,18391862866948577032,30807856093711604,131072\n",
            "wallabot    6120  0.0  0.0  43992  6552 ?        Ss   23:08   0:00 /usr/lib/bluetooth/obexd\n",
            "wallabot    6134  0.4  0.7 1184856952 230428 ?   Sl   23:08   0:04 /opt/google/chrome/chrome --type=renderer --crashpad-handler-pid=5080 --enable-crash-reporter=, --change-stack-guard-on-fork=enable --lang=es --num-raster-threads=4 --enable-main-frame-before-activation --renderer-client-id=34 --time-ticks-at-unix-epoch=-1670018798736448 --launch-time-ticks=136358048 --shared-files=v8_context_snapshot_data:100 --field-trial-handle=0,i,18391862866948577032,30807856093711604,131072\n",
            "wallabot    6524  0.4  0.6 1184857312 226988 ?   Sl   23:08   0:04 /opt/google/chrome/chrome --type=renderer --crashpad-handler-pid=5080 --enable-crash-reporter=, --change-stack-guard-on-fork=enable --lang=es --num-raster-threads=4 --enable-main-frame-before-activation --renderer-client-id=33 --time-ticks-at-unix-epoch=-1670018798736448 --launch-time-ticks=139865567 --shared-files=v8_context_snapshot_data:100 --field-trial-handle=0,i,18391862866948577032,30807856093711604,131072\n",
            "wallabot    8034  0.0  0.1 1064452 54580 ?       Sl   23:10   0:00 /usr/bin/gnome-calendar --gapplication-service\n",
            "wallabot    8158  0.7  0.7 3981248 239132 ?      Sl   23:10   0:07 /snap/spotify/60/usr/share/spotify/spotify\n",
            "wallabot    8242  0.0  0.2 647244 77376 ?        S    23:10   0:00 /snap/spotify/60/usr/share/spotify/spotify --type=zygote --no-zygote-sandbox --no-sandbox --log-severity=disable --user-agent-product=Chrome/99.0.4844.84 Spotify/1.1.84.716 --lang=en --user-data-dir=/home/wallabot/snap/spotify/60/.config/spotify/User Data --log-file=/snap/spotify/60/usr/share/spotify/debug.log\n",
            "wallabot    8243  0.0  0.2 647244 77100 ?        S    23:10   0:00 /snap/spotify/60/usr/share/spotify/spotify --type=zygote --no-sandbox --log-severity=disable --user-agent-product=Chrome/99.0.4844.84 Spotify/1.1.84.716 --lang=en --user-data-dir=/home/wallabot/snap/spotify/60/.config/spotify/User Data --log-file=/snap/spotify/60/usr/share/spotify/debug.log\n",
            "wallabot    8259  0.1  0.3 2041284 114252 ?      Sl   23:10   0:01 /snap/spotify/60/usr/share/spotify/spotify --type=gpu-process --no-sandbox --log-severity=disable --user-agent-product=Chrome/99.0.4844.84 Spotify/1.1.84.716 --lang=en --user-data-dir=/home/wallabot/snap/spotify/60/.config/spotify/User Data --gpu-preferences=UAAAAAAAAAAgAAAIAAAAAAAAAAAAAAAAAABgAAAAAAAwAAAAAAAAAAAAAAAAAAAAAAAAAAAAAAAAAAAAAQAAABgAAAAAAAAAGAAAAAAAAAAIAAAAAAAAAAgAAAAAAAAACAAAAAAAAAA= --log-file=/snap/spotify/60/usr/share/spotify/debug.log --shared-files --field-trial-handle=0,i,8625640855432007833,7773453088797360000,131072\n",
            "wallabot    8274  0.0  0.1 868700 34104 ?        Sl   23:10   0:00 /snap/spotify/60/usr/share/spotify/spotify --type=utility --utility-sub-type=storage.mojom.StorageService --lang=en-US --service-sandbox-type=utility --no-sandbox --log-severity=disable --user-agent-product=Chrome/99.0.4844.84 Spotify/1.1.84.716 --lang=en --user-data-dir=/home/wallabot/snap/spotify/60/.config/spotify/User Data --log-file=/snap/spotify/60/usr/share/spotify/debug.log --shared-files=v8_context_snapshot_data:100 --field-trial-handle=0,i,8625640855432007833,7773453088797360000,131072\n",
            "wallabot    8279  0.0  0.3 1148480 99680 ?       Sl   23:10   0:00 /snap/spotify/60/usr/share/spotify/spotify --type=utility --utility-sub-type=network.mojom.NetworkService --lang=en-US --service-sandbox-type=none --no-sandbox --log-severity=disable --user-agent-product=Chrome/99.0.4844.84 Spotify/1.1.84.716 --lang=en --user-data-dir=/home/wallabot/snap/spotify/60/.config/spotify/User Data --log-file=/snap/spotify/60/usr/share/spotify/debug.log --shared-files=v8_context_snapshot_data:100 --field-trial-handle=0,i,8625640855432007833,7773453088797360000,131072\n",
            "wallabot    8319  0.5  0.5 31646352 187140 ?     Sl   23:10   0:05 /snap/spotify/60/usr/share/spotify/spotify --type=renderer --log-severity=disable --user-agent-product=Chrome/99.0.4844.84 Spotify/1.1.84.716 --disable-spell-checking --user-data-dir=/home/wallabot/snap/spotify/60/.config/spotify/User Data --no-sandbox --log-file=/snap/spotify/60/usr/share/spotify/debug.log --lang=en-US --num-raster-threads=4 --enable-main-frame-before-activation --renderer-client-id=5 --launch-time-ticks=210215195 --shared-files=v8_context_snapshot_data:100 --field-trial-handle=0,i,8625640855432007833,7773453088797360000,131072\n",
            "wallabot    8377  0.5  0.4 38371288 161752 ?     SLl  23:10   0:05 /usr/share/code/code --unity-launch --enable-crashpad\n",
            "wallabot    8391  0.0  0.1 33775112 48516 ?      S    23:10   0:00 /usr/share/code/code --type=zygote --no-zygote-sandbox --enable-crashpad --enable-crashpad\n",
            "wallabot    8392  0.0  0.1 33775096 48304 ?      S    23:10   0:00 /usr/share/code/code --type=zygote --enable-crashpad --enable-crashpad\n",
            "wallabot    8394  0.0  0.0 33775124 12448 ?      S    23:10   0:00 /usr/share/code/code --type=zygote --enable-crashpad --enable-crashpad\n",
            "wallabot    8407  0.0  0.0 33575984 3384 ?       Sl   23:10   0:00 /usr/share/code/chrome_crashpad_handler --monitor-self-annotation=ptype=crashpad-handler --no-rate-limit --database=/home/wallabot/.config/Code/Crashpad --url=appcenter://code?aid=fba07a4d-84bd-4fc8-a125-9640fc8ce171&uid=e1be826f-73fb-46c2-a439-9bb52643ccc1&iid=e1be826f-73fb-46c2-a439-9bb52643ccc1&sid=e1be826f-73fb-46c2-a439-9bb52643ccc1 --annotation=_companyName=Microsoft --annotation=_productName=VSCode --annotation=_version=1.73.1 --annotation=lsb-release=Ubuntu 20.04.5 LTS --annotation=plat=Linux --annotation=prod=Electron --annotation=ver=19.0.17 --initial-client-fd=43 --shared-client-connection\n",
            "wallabot    8425  1.5  0.5 33985512 195464 ?     Sl   23:10   0:14 /usr/share/code/code --type=gpu-process --enable-crashpad --crashpad-handler-pid=8407 --enable-crash-reporter=7a83c65f-14e6-4aa2-9df9-71fc458479f5,no_channel --user-data-dir=/home/wallabot/.config/Code --gpu-preferences=WAAAAAAAAAAgAAAIAAAAAAAAAAAAAAAAAABgAAAAAAA4AAAAAAAAAAAAAAAAAAAAAAAAAAAAAAAAAAAAAAAAACAAAAAAAAAAIAAAAAAAAAABAAAAAAAAAAgAAAAAAAAACAAAAAAAAAAIAAAAAAAAAA== --shared-files --field-trial-handle=0,i,8890103601020485358,15523745040863579529,131072 --disable-features=CalculateNativeWinOcclusion,SpareRendererForSitePerProcess\n",
            "wallabot    8429  0.0  0.2 33840968 66520 ?      Sl   23:10   0:00 /usr/share/code/code --type=utility --utility-sub-type=network.mojom.NetworkService --lang=es --service-sandbox-type=none --enable-crashpad --crashpad-handler-pid=8407 --enable-crash-reporter=7a83c65f-14e6-4aa2-9df9-71fc458479f5,no_channel --user-data-dir=/home/wallabot/.config/Code --standard-schemes=vscode-webview,vscode-file --secure-schemes=vscode-webview,vscode-file --bypasscsp-schemes --cors-schemes=vscode-webview,vscode-file --fetch-schemes=vscode-webview,vscode-file --service-worker-schemes=vscode-webview --streaming-schemes --shared-files=v8_context_snapshot_data:100 --field-trial-handle=0,i,8890103601020485358,15523745040863579529,131072 --disable-features=CalculateNativeWinOcclusion,SpareRendererForSitePerProcess --enable-crashpad\n",
            "wallabot    8439  0.0  0.0 33851528 23624 ?      S    23:10   0:00 /usr/share/code/code --type=broker\n",
            "wallabot    8449  8.5  1.1 61424852 390980 ?     Sl   23:10   1:16 /usr/share/code/code --type=renderer --enable-crashpad --crashpad-handler-pid=8407 --enable-crash-reporter=7a83c65f-14e6-4aa2-9df9-71fc458479f5,no_channel --user-data-dir=/home/wallabot/.config/Code --standard-schemes=vscode-webview,vscode-file --secure-schemes=vscode-webview,vscode-file --bypasscsp-schemes --cors-schemes=vscode-webview,vscode-file --fetch-schemes=vscode-webview,vscode-file --service-worker-schemes=vscode-webview --streaming-schemes --app-path=/usr/share/code/resources/app --no-sandbox --no-zygote --enable-blink-features=HighlightAPI --lang=es --num-raster-threads=4 --enable-main-frame-before-activation --renderer-client-id=4 --launch-time-ticks=217445761 --shared-files=v8_context_snapshot_data:100 --field-trial-handle=0,i,8890103601020485358,15523745040863579529,131072 --disable-features=CalculateNativeWinOcclusion,SpareRendererForSitePerProcess --vscode-window-config=vscode:13905479-a7dd-4e24-9b88-cf580c42a25d --enable-crashpad\n",
            "wallabot    8508  1.4  0.8 59175788 268364 ?     Sl   23:10   0:12 /usr/share/code/code --ms-enable-electron-run-as-node --inspect-port=0 /usr/share/code/resources/app/out/bootstrap-fork --type=extensionHost --skipWorkspaceStorageLock\n",
            "wallabot    8566  0.1  0.2 38136100 81468 ?      Sl   23:10   0:01 /usr/share/code/code --ms-enable-electron-run-as-node /home/wallabot/.vscode/extensions/kisstkondoros.vscode-gutter-preview-0.30.0/dist/server.js --node-ipc --clientProcessId=8508\n",
            "wallabot    8575  0.6  0.4 46670736 139408 ?     Sl   23:10   0:05 /usr/share/code/code --type=renderer --enable-crashpad --crashpad-handler-pid=8407 --enable-crash-reporter=7a83c65f-14e6-4aa2-9df9-71fc458479f5,no_channel --user-data-dir=/home/wallabot/.config/Code --standard-schemes=vscode-webview,vscode-file --secure-schemes=vscode-webview,vscode-file --bypasscsp-schemes --cors-schemes=vscode-webview,vscode-file --fetch-schemes=vscode-webview,vscode-file --service-worker-schemes=vscode-webview --streaming-schemes --app-path=/usr/share/code/resources/app --no-sandbox --no-zygote --node-integration-in-worker --lang=es --num-raster-threads=4 --enable-main-frame-before-activation --renderer-client-id=5 --launch-time-ticks=219833707 --shared-files=v8_context_snapshot_data:100 --field-trial-handle=0,i,8890103601020485358,15523745040863579529,131072 --disable-features=CalculateNativeWinOcclusion,SpareRendererForSitePerProcess --vscode-window-config=vscode:be96c98d-9154-449a-b127-c0211495f4ef --vscode-window-kind=shared-process --enable-crashpad\n",
            "wallabot    8593  0.0  0.2 38177772 78236 ?      Sl   23:10   0:00 /usr/share/code/code --ms-enable-electron-run-as-node /usr/share/code/resources/app/out/bootstrap-fork --type=ptyHost --logsPath /home/wallabot/.config/Code/logs/20221202T231016\n",
            "wallabot    8632  0.0  0.2 38185752 94568 ?      Sl   23:10   0:00 /usr/share/code/code --ms-enable-electron-run-as-node /usr/share/code/resources/app/out/bootstrap-fork --type=fileWatcher\n",
            "wallabot    8656  0.6  0.5 42430176 182480 ?     Sl   23:10   0:05 /usr/share/code/code --type=renderer --enable-crashpad --crashpad-handler-pid=8407 --enable-crash-reporter=7a83c65f-14e6-4aa2-9df9-71fc458479f5,no_channel --user-data-dir=/home/wallabot/.config/Code --standard-schemes=vscode-webview,vscode-file --secure-schemes=vscode-webview,vscode-file --bypasscsp-schemes --cors-schemes=vscode-webview,vscode-file --fetch-schemes=vscode-webview,vscode-file --service-worker-schemes=vscode-webview --streaming-schemes --app-path=/usr/share/code/resources/app --enable-sandbox --enable-blink-features=HighlightAPI --lang=es --num-raster-threads=4 --enable-main-frame-before-activation --renderer-client-id=6 --launch-time-ticks=220495638 --shared-files=v8_context_snapshot_data:100 --field-trial-handle=0,i,8890103601020485358,15523745040863579529,131072 --disable-features=CalculateNativeWinOcclusion,SpareRendererForSitePerProcess --vscode-window-config=vscode:13905479-a7dd-4e24-9b88-cf580c42a25d\n",
            "wallabot    8716  1.4  0.5 38140204 169984 ?     Sl   23:10   0:12 /usr/share/code/code --ms-enable-electron-run-as-node /home/wallabot/.vscode/extensions/ms-python.vscode-pylance-2022.11.40/dist/server.bundle.js --cancellationReceive=file:3646d9eb9edaa1bd82425403564df0006a57a0df01 --node-ipc --clientProcessId=8508\n",
            "wallabot    8744  0.1  0.3 38140204 104772 ?     Sl   23:10   0:01 /usr/share/code/code --ms-enable-electron-run-as-node /home/wallabot/.vscode/extensions/ms-python.vscode-pylance-2022.11.40/dist/server.bundle.js --cancellationReceive=file:f832ffa59d80abd5b35e8851e94332c285b2c3f9bb --node-ipc --clientProcessId=8508\n",
            "wallabot    8781  0.1  0.2 480956 77852 ?        Sl   23:10   0:01 /home/wallabot/anaconda3/bin/python -m ipykernel_launcher --ip=127.0.0.1 --stdin=9003 --control=9001 --hb=9000 --Session.signature_scheme=\"hmac-sha256\" --Session.key=b\"c6d890f5-5fb6-41d8-9a66-32d953505406\" --shell=9002 --transport=\"tcp\" --iopub=9004 --f=/home/wallabot/.local/share/jupyter/runtime/kernel-v2-8508kHWtNFMgKsBL.json\n",
            "wallabot    8788  0.0  0.0 116624 29744 ?        Sl   23:10   0:00 /bin/python3 /home/wallabot/.vscode/extensions/ms-python.isort-2022.8.0/bundled/tool/server.py\n",
            "wallabot    8898  0.6  0.4 38144304 146508 ?     Sl   23:10   0:05 /usr/share/code/code --ms-enable-electron-run-as-node /home/wallabot/.vscode/extensions/ms-python.vscode-pylance-2022.11.40/dist/server.bundle.js --cancellationReceive=file:f57d6ea9bb6b4fa6ae2a6938661d2443c126a7b3df --node-ipc --clientProcessId=8508\n",
            "wallabot    8911  0.0  0.2 38136100 70604 ?      Sl   23:10   0:00 /usr/share/code/code --ms-enable-electron-run-as-node /usr/share/code/resources/app/extensions/json-language-features/server/dist/node/jsonServerMain --node-ipc --clientProcessId=8508\n",
            "wallabot    8932  0.0  0.0  13648  5412 pts/0    Ss+  23:10   0:00 /usr/bin/bash --init-file /usr/share/code/resources/app/out/vs/workbench/contrib/terminal/browser/media/shellIntegration-bash.sh\n",
            "wallabot    9112  0.0  0.1 816596 50392 ?        Ssl  23:10   0:00 /usr/libexec/gnome-terminal-server\n",
            "wallabot    9120  0.0  0.0  13628  5212 pts/1    Ss+  23:10   0:00 bash\n",
            "wallabot   10927  0.0  0.3 1184807108 117996 ?   Sl   23:19   0:00 /opt/google/chrome/chrome --type=renderer --crashpad-handler-pid=5080 --enable-crash-reporter=, --change-stack-guard-on-fork=enable --lang=es --num-raster-threads=4 --enable-main-frame-before-activation --renderer-client-id=72 --time-ticks-at-unix-epoch=-1670018798736448 --launch-time-ticks=743183717 --shared-files=v8_context_snapshot_data:100 --field-trial-handle=0,i,18391862866948577032,30807856093711604,131072\n",
            "wallabot   11428  0.1  0.2 38136100 74884 ?      Sl   23:21   0:00 /usr/share/code/code --ms-enable-electron-run-as-node /usr/share/code/resources/app/extensions/markdown-language-features/server/dist/node/main --node-ipc --clientProcessId=8508\n",
            "wallabot   12009  0.0  0.2 1184730916 65832 ?    Sl   23:24   0:00 /opt/google/chrome/chrome --type=renderer --crashpad-handler-pid=5080 --enable-crash-reporter=, --change-stack-guard-on-fork=enable --lang=es --num-raster-threads=4 --enable-main-frame-before-activation --renderer-client-id=80 --time-ticks-at-unix-epoch=-1670018798736448 --launch-time-ticks=1081580044 --shared-files=v8_context_snapshot_data:100 --field-trial-handle=0,i,18391862866948577032,30807856093711604,131072\n",
            "wallabot   12109  0.0  0.0   2616   596 pts/2    Ss+  23:25   0:00 /usr/bin/sh -c ps aux | grep wallabot\n",
            "wallabot   12110  0.0  0.0  14192  3560 pts/2    R+   23:25   0:00 ps aux\n",
            "wallabot   12111  0.0  0.0  11668   660 pts/2    S+   23:25   0:00 grep wallabot\n"
          ]
        }
      ],
      "source": [
        "!ps aux | grep wallabot"
      ]
    },
    {
      "cell_type": "markdown",
      "metadata": {},
      "source": [
        "### Process handler `top`"
      ]
    },
    {
      "cell_type": "markdown",
      "metadata": {},
      "source": [
        "With `top` we can see all the processes of the operating system. It will display the information with `less`, so, just like explained before, when you want to stop `top`, pressing `q` will stop it."
      ]
    },
    {
      "cell_type": "code",
      "execution_count": 191,
      "metadata": {},
      "outputs": [
        {
          "name": "stdout",
          "output_type": "stream",
          "text": [
            "top - 09:31:32 up  3:21,  1 user,  load average: 2,42, 2,79, 2,48\n",
            "Tareas: 382 total,   1 ejecutar,  381 hibernar,    0 detener,    0 zombie\n",
            "%Cpu(s): 14,2 usuario,  1,5 sist,  0,0 adecuado, 84,3 inact,  0,0 en espera,  0,\n",
            "MiB Mem :  32006,4 total,  20281,8 libre,   6229,0 usado,   5495,6 b\u00fafer/cach\u00e9\n",
            "MiB Intercambio:   2048,0 total,   2048,0 libre,      0,0 usado.  24979,1 dispon\n",
            "\n",
            "    PID USUARIO   PR  NI    VIRT    RES    SHR S  %CPU  %MEM     HORA+ ORDEN    \n",
            "  10192 wallabot  20   0 3347636 388848  84140 S 137,5   1,2 282:24.59 python   \n",
            "  44161 wallabot  20   0   30,2g 217208 100148 S  12,5   0,7   0:40.92 spotify  \n",
            "     76 root      20   0       0      0      0 S   6,2   0,0   0:00.12 ksoftir+ \n",
            "   1105 root     -51   0       0      0      0 S   6,2   0,0   2:54.29 irq/125+ \n",
            "  43990 wallabot  20   0 3998836 246260 145800 S   6,2   0,8   0:53.69 spotify  \n",
            "  44101 wallabot  20   0 1995108 130316  89848 S   6,2   0,4   0:08.34 spotify  \n",
            "  51510 wallabot  20   0   14876   4088   3288 R   6,2   0,0   0:00.01 top      \n",
            "      1 root      20   0  169736  13188   8380 S   0,0   0,0   0:01.51 systemd  \n",
            "      2 root      20   0       0      0      0 S   0,0   0,0   0:00.00 kthreadd \n",
            "      3 root       0 -20       0      0      0 I   0,0   0,0   0:00.00 rcu_gp   \n",
            "      4 root       0 -20       0      0      0 I   0,0   0,0   0:00.00 rcu_par+ \n",
            "      5 root       0 -20       0      0      0 I   0,0   0,0   0:00.00 netns    \n",
            "      7 root       0 -20       0      0      0 I   0,0   0,0   0:00.00 kworker+ \n",
            "      9 root       0 -20       0      0      0 I   0,0   0,0   0:00.03 kworker+ \n",
            "     10 root       0 -20       0      0      0 I   0,0   0,0   0:00.00 mm_perc+ \n",
            "     11 root      20   0       0      0      0 S   0,0   0,0   0:00.00 rcu_tas+ \n",
            "     12 root      20   0       0      0      0 S   0,0   0,0   0:00.00 rcu_tas+\n"
          ]
        }
      ],
      "source": [
        "!top"
      ]
    },
    {
      "cell_type": "markdown",
      "metadata": {},
      "source": [
        "As can be seen, the `PID` 44161 is Spotify, which I am currently using to play music, but we didn't see it with `ps`."
      ]
    },
    {
      "cell_type": "markdown",
      "metadata": {},
      "source": [
        "Just like before, if we want to kill a process, we must enter `kill` and its `PID`"
      ]
    },
    {
      "cell_type": "markdown",
      "metadata": {},
      "source": [
        "The good thing about top is that it provides many more utilities; if we press `h` it will show the help"
      ]
    },
    {
      "cell_type": "code",
      "execution_count": 191,
      "metadata": {},
      "outputs": [
        {
          "name": "stdout",
          "output_type": "stream",
          "text": [
            "Help for Interactive Commands - procps-ng 3.3.16\n",
            "Window 1:Def: Cumulative mode Apagado.  System: Delay 3,0 secs; Secure mode Apag\n",
            "\n",
            "  Z,B,E,e   Global: 'Z' colors; 'B' bold; 'E'/'e' summary/task memory scale\n",
            "  l,t,m     Toggle Summary: 'l' load avg; 't' task/cpu stats; 'm' memory info\n",
            "  0,1,2,3,I Toggle: '0' zeros; '1/2/3' cpus or numa node views; 'I' Irix mode\n",
            "  f,F,X     Fields: 'f'/'F' add/remove/order/sort; 'X' increase fixed-width\n",
            "\n",
            "  L,&,<,> . Locate: 'L'/'&' find/again; Move sort column: '<'/'>' left/right\n",
            "  R,H,J,C . Toggle: 'R' Sort; 'H' Threads; 'J' Num justify; 'C' Coordinates\n",
            "  c,i,S,j . Toggle: 'c' Cmd name/line; 'i' Idle; 'S' Time; 'j' Str justify\n",
            "  x,y     . Toggle highlights: 'x' sort field; 'y' running tasks\n",
            "  z,b     . Toggle: 'z' color/mono; 'b' bold/reverse (only if 'x' or 'y')\n",
            "  u,U,o,O . Filter by: 'u'/'U' effective/any user; 'o'/'O' other criteria\n",
            "  n,#,^O  . Set: 'n'/'#' max tasks displayed; Show: Ctrl+'O' other filter(s)\n",
            "  V,v     . Toggle: 'V' forest view; 'v' hide/show forest view children\n",
            "\n",
            "  k,r Gestiona tareas: \u00abk\u00bb detener; \u00abr\u00bb reiniciar\n",
            "  d o s Establece intervalo de actualizaci\u00f3n\n",
            "  W,Y       Write configuration file 'W'; Inspect other output 'Y'\n",
            "  q         Quit\n",
            "          ( commands shown with '.' require a visible task display window ) \n",
            "Press 'h' or '?' for help with Windows,\n",
            "Type 'q' or <Esc> to continue\n"
          ]
        }
      ],
      "source": [
        "!h"
      ]
    },
    {
      "cell_type": "markdown",
      "metadata": {},
      "source": [
        "To exit, press `ESC` or `q`"
      ]
    },
    {
      "cell_type": "markdown",
      "metadata": {},
      "source": [
        "As shown in the help, if we enter `u` we can filter by user, we enter my username (wallabot) and I can see only my processes."
      ]
    },
    {
      "cell_type": "code",
      "execution_count": 191,
      "metadata": {},
      "outputs": [
        {
          "name": "stdout",
          "output_type": "stream",
          "text": [
            "top - 09:35:57 up  3:25,  1 user,  load average: 1,02, 2,27, 2,39\n",
            "Tareas: 378 total,   1 ejecutar,  377 hibernar,    0 detener,    0 zombie\n",
            "%Cpu(s): 13,4 usuario,  0,4 sist,  0,0 adecuado, 86,1 inact,  0,1 en espera,  0,\n",
            "MiB Mem :  32006,4 total,  20288,0 libre,   6212,0 usado,   5506,4 b\u00fafer/cach\u00e9\n",
            "MiB Intercambio:   2048,0 total,   2048,0 libre,      0,0 usado.  24989,1 dispon\n",
            "\n",
            "    PID USUARIO   PR  NI    VIRT    RES    SHR S  %CPU  %MEM     HORA+ ORDEN    \n",
            "  10192 wallabot  20   0 3347636 388848  84140 S 148,2   1,2 288:46.50 python   \n",
            "  43990 wallabot  20   0 3998836 246552 146092 S   2,7   0,8   0:59.55 spotify  \n",
            "   1384 wallabot  20   0 4909848 453700 133164 S   1,7   1,4  11:14.02 gnome-s+ \n",
            "   1119 wallabot   9 -11 3093876  24504  17836 S   1,3   0,1   0:48.99 pulseau+ \n",
            "  32462 wallabot  20   0 1134,0g 643412 128632 S   1,3   2,0   7:39.91 chrome   \n",
            "  44161 wallabot  20   0   30,2g 217112 100488 S   1,3   0,7   0:44.87 spotify  \n",
            "  10135 wallabot  20   0  826220  58164  41648 S   1,0   0,2   0:14.56 gnome-t+ \n",
            "   6635 wallabot  20   0   33,0g 647936 436252 S   0,3   2,0   4:01.80 chrome   \n",
            "   6679 wallabot  20   0   32,4g 125564  94016 S   0,3   0,4   0:52.19 chrome   \n",
            "   8010 wallabot  20   0 1130,9g 232800 116092 S   0,3   0,7   0:13.70 chrome   \n",
            "  44101 wallabot  20   0 1995108 130444  89916 S   0,3   0,4   0:09.19 spotify  \n",
            "   1113 wallabot  20   0   19880  10528   8096 S   0,0   0,0   0:00.38 systemd  \n",
            "   1114 wallabot  20   0  169792   3636     12 S   0,0   0,0   0:00.00 (sd-pam) \n",
            "   1121 wallabot  39  19  591436  37256  16676 S   0,0   0,1   0:03.19 tracker+ \n",
            "   1124 wallabot  20   0  390740   8688   7416 S   0,0   0,0   0:00.45 gnome-k+ \n",
            "   1128 wallabot  20   0  166804   6596   5956 S   0,0   0,0   0:00.00 gdm-x-s+ \n",
            "   1134 wallabot  20   0    9152   6144   3796 S   0,0   0,0   0:01.81 dbus-da+\n"
          ]
        }
      ],
      "source": [
        "!u"
      ]
    },
    {
      "cell_type": "markdown",
      "metadata": {},
      "source": [
        "Another way to look at this to be able to filter by user would be to create a pipeline and use `grep`"
      ]
    },
    {
      "cell_type": "code",
      "execution_count": 191,
      "metadata": {},
      "outputs": [
        {
          "name": "stdout",
          "output_type": "stream",
          "text": [
            "   1440 wallabot  20   0 4684708 505432 118024 S   6,7   1,5   2:05.92 gnome-s+ \n",
            "  25326 wallabot  20   0 1133,0g 527912 123732 S   1,7   1,6   1:31.73 chrome   \n",
            "   1440 wallabot  20   0 4684708 505476 118024 S   1,3   1,5   2:05.96 gnome-s+ \n",
            "   6199 wallabot  20   0 1131,0g 266068 116164 S   0,3   0,8   0:15.23 chrome   \n",
            "  17606 wallabot  20   0  818228  52096  39488 S   0,3   0,2   0:02.59 gnome-t+ \n",
            "  34284 wallabot  20   0   14876   4376   3308 R   0,3   0,0   0:00.02 top\n"
          ]
        }
      ],
      "source": [
        "!top | grep wallabot"
      ]
    },
    {
      "cell_type": "markdown",
      "metadata": {},
      "source": [
        "### Process handler `htop`"
      ]
    },
    {
      "cell_type": "markdown",
      "metadata": {},
      "source": [
        "It's similar to `top` but more powerful",
        "\n",
        "You probably don't have it installed, so to install it, enter the command",
        "\n",
        "``` bash\n",
        "sudo apt install htop",
        "```\n",
        "\n",
        "o",
        "\n",
        "``` bash\n",
        "sudo snap install htop",
        "```"
      ]
    },
    {
      "cell_type": "markdown",
      "metadata": {},
      "source": [
        "### Process handler `glances`"
      ]
    },
    {
      "cell_type": "markdown",
      "metadata": {},
      "source": [
        "It's similar to `top` but more powerful",
        "\n",
        "You probably don't have it installed, so to install it, enter the command",
        "\n",
        "``` bash\n",
        "sudo apt install glances",
        "```"
      ]
    },
    {
      "cell_type": "markdown",
      "metadata": {},
      "source": [
        "## Memory Management RAM"
      ]
    },
    {
      "cell_type": "markdown",
      "metadata": {},
      "source": [
        "If we only want to get information about the memory, we can use the `free` command."
      ]
    },
    {
      "cell_type": "code",
      "execution_count": 8,
      "metadata": {},
      "outputs": [
        {
          "name": "stdout",
          "output_type": "stream",
          "text": [
            "              total       usado       libre  compartido b\u00fafer/cach\u00e9  disponible\n",
            "Memoria:    32774516     6563544    20091804      276296     6119168    25479600\n",
            "Swap:       2097148           0     2097148\n"
          ]
        }
      ],
      "source": [
        "!free"
      ]
    },
    {
      "cell_type": "markdown",
      "metadata": {},
      "source": [
        "But since this information is not very easy to digest, we add the `-h` (human) flag to make it more readable."
      ]
    },
    {
      "cell_type": "code",
      "execution_count": 9,
      "metadata": {},
      "outputs": [
        {
          "name": "stdout",
          "output_type": "stream",
          "text": [
            "              total       usado       libre  compartido b\u00fafer/cach\u00e9  disponible\n",
            "Memoria:        31Gi       6,3Gi        19Gi       270Mi       5,8Gi        24Gi\n",
            "Swap:         2,0Gi          0B       2,0Gi\n"
          ]
        }
      ],
      "source": [
        "!free -h"
      ]
    },
    {
      "cell_type": "markdown",
      "metadata": {},
      "source": [
        "## Hard drive management"
      ]
    },
    {
      "cell_type": "markdown",
      "metadata": {},
      "source": [
        "To get information about the hard drive, we use the `du` command. If we only enter this command in the terminal, it will provide information about all the folders on our machine. Therefore, to avoid getting too much information, it is necessary to specify a path that we want to scan."
      ]
    },
    {
      "cell_type": "code",
      "execution_count": 10,
      "metadata": {},
      "outputs": [
        {
          "name": "stdout",
          "output_type": "stream",
          "text": [
            "8\t/home/wallabot/Documentos/web/portafolio/posts/__pycache__\n",
            "1648\t/home/wallabot/Documentos/web/portafolio/posts/notebooks_translated\n",
            "4288\t/home/wallabot/Documentos/web/portafolio/posts/html_files\n",
            "336\t/home/wallabot/Documentos/web/portafolio/posts/prueba/tocompress\n",
            "1132\t/home/wallabot/Documentos/web/portafolio/posts/prueba\n",
            "16\t/home/wallabot/Documentos/web/portafolio/posts/introduccion_python/__pycache__\n",
            "28\t/home/wallabot/Documentos/web/portafolio/posts/introduccion_python\n",
            "11232\t/home/wallabot/Documentos/web/portafolio/posts/\n"
          ]
        }
      ],
      "source": [
        "!du ~/Documentos/web/portafolio/posts/"
      ]
    },
    {
      "cell_type": "markdown",
      "metadata": {},
      "source": [
        "Just like before, we add the flag `-h` (human) to make it easier to read"
      ]
    },
    {
      "cell_type": "code",
      "execution_count": 11,
      "metadata": {},
      "outputs": [
        {
          "name": "stdout",
          "output_type": "stream",
          "text": [
            "8,0K\t/home/wallabot/Documentos/web/portafolio/posts/__pycache__\n",
            "1,7M\t/home/wallabot/Documentos/web/portafolio/posts/notebooks_translated\n",
            "4,2M\t/home/wallabot/Documentos/web/portafolio/posts/html_files\n",
            "336K\t/home/wallabot/Documentos/web/portafolio/posts/prueba/tocompress\n",
            "1,2M\t/home/wallabot/Documentos/web/portafolio/posts/prueba\n",
            "16K\t/home/wallabot/Documentos/web/portafolio/posts/introduccion_python/__pycache__\n",
            "28K\t/home/wallabot/Documentos/web/portafolio/posts/introduccion_python\n",
            "11M\t/home/wallabot/Documentos/web/portafolio/posts/\n"
          ]
        }
      ],
      "source": [
        "!du ~/Documentos/web/portafolio/posts/ -h"
      ]
    },
    {
      "cell_type": "markdown",
      "metadata": {},
      "source": [
        "## Interface Management"
      ]
    },
    {
      "cell_type": "markdown",
      "metadata": {},
      "source": [
        "In Ubuntu, by default we boot into a graphical interface, but we can open other interfaces, which will not be graphical, by entering `CTRL`+`ALT`+`F<num>` where the number can range from 1 to 6. Only 2 will have the graphical interface and 1 will be the login screen."
      ]
    },
    {
      "cell_type": "markdown",
      "metadata": {},
      "source": [
        "When handling multiple interfaces, we might not know which one we are on, so by entering the command `tty` it will tell us which one we are on."
      ]
    },
    {
      "cell_type": "code",
      "execution_count": 1,
      "metadata": {},
      "outputs": [
        {
          "name": "stdout",
          "output_type": "stream",
          "text": [
            "/dev/pts/0\n"
          ]
        }
      ],
      "source": [
        "!tty"
      ]
    },
    {
      "cell_type": "markdown",
      "metadata": {},
      "source": [
        "## Package Management"
      ]
    },
    {
      "cell_type": "markdown",
      "metadata": {},
      "source": [
        "### PPA (Personal Package Archives) Repositories"
      ]
    },
    {
      "cell_type": "markdown",
      "metadata": {},
      "source": [
        "In Linux, package management is done through repositories. This is a list of addresses where the binaries of our programs are located. So, when we want to update or install our programs (we will explain how later), what the operating system will do is check the list of these repositories and go to the indicated addresses to look for the binaries."
      ]
    },
    {
      "cell_type": "markdown",
      "metadata": {},
      "source": [
        "This list of repositories is located in `/etc/apt/sources.list` and within the folder `/etc/apt/sources.list.d`. Let's take a look at this list."
      ]
    },
    {
      "cell_type": "code",
      "execution_count": 19,
      "metadata": {},
      "outputs": [
        {
          "name": "stdout",
          "output_type": "stream",
          "text": [
            "# deb cdrom:[Ubuntu 20.04.2.0 LTS _Focal Fossa_ - Release amd64 (20210209.1)]/ focal main restricted\n",
            "\n",
            "# See http://help.ubuntu.com/community/UpgradeNotes for how to upgrade to\n",
            "# newer versions of the distribution.\n",
            "deb http://es.archive.ubuntu.com/ubuntu/ focal main restricted\n",
            "# deb-src http://es.archive.ubuntu.com/ubuntu/ focal main restricted\n",
            "\n",
            "## Major bug fix updates produced after the final release of the\n",
            "## distribution.\n",
            "deb http://es.archive.ubuntu.com/ubuntu/ focal-updates main restricted\n",
            "\t ...\n",
            "deb https://developer.download.nvidia.com/compute/cuda/repos/ubuntu2004/x86_64/ /\n",
            "# deb-src https://developer.download.nvidia.com/compute/cuda/repos/ubuntu2004/x86_64/ /\n",
            "deb https://apt.kitware.com/ubuntu/ focal main\n",
            "# deb-src https://apt.kitware.com/ubuntu/ focal main\n",
            "\n"
          ]
        }
      ],
      "source": [
        "terminal(\"cat /etc/apt/sources.list\", max_lines_output=10)"
      ]
    },
    {
      "cell_type": "markdown",
      "metadata": {},
      "source": [
        "The first lines that include the word `cd-rom` are references to the installation CD, they always come with the words `deb cdrom:` even if it was installed via the network or from a USB.",
        "\n",
        "From here on, various lines starting with `deb` or `deb-src` begin to appear. In `deb`, binaries are found, and in `deb-src`, the source code is found.",
        "\n",
        "Every valid repository address has one of these formats:",
        "\n",
        "* deb http://server_address/folder_name version_name (main or universe or multiverse or main restricted, etc)",
        "* deb-src http://server_address/folder_name version_name (main or universe or multiverse or main restricted, etc)"
      ]
    },
    {
      "cell_type": "markdown",
      "metadata": {},
      "source": [
        "The six types of Ubuntu repositories are:",
        "1. Main",
        "\n",
        "The `Main` repository is enabled by default and contains only free and open-source software or `FOSS` for short (Free and Open-Source Software).",
        "\n",
        "2. Universe",
        "\n",
        "Like `Main`, `Universe` also offers `FOSS`. The difference is that in this repository it is not Ubuntu who guarantees regular security updates, but rather the community is responsible for its support. It comes enabled by default, but not always. Some operating systems have it disabled by default and we might need to enable it if we are running a Live Session. If we don't have it added, we can do so with this command:",
        "    \n",
        "``` bash\n",
        "sudo add-apt-repository universe",
        "```\n",
        "\n",
        "What do we find in \u00abUniverse\u00bb? I would say most of the worthwhile software, between what we have like VLC and OpenShot.",
        "\n",
        "3. Multiverse",
        "\n",
        "From here on out, the Ubuntu repositories have less freedom. `Multiverse` contains software that is no longer `FOSS`, and Ubuntu cannot enable this repository by default due to legal and licensing issues. Additionally, it cannot provide patches and updates. With this in mind, we need to evaluate whether to add it or not, something we can do with this command:",
        "\n",
        "``` bash\n",
        "sudo add-apt-repository multiverse",
        "```\n",
        "\n",
        "4. Restricted",
        "\n",
        "In the Ubuntu repositories, we can find free and open-source software, but this is not possible when it comes to anything related to hardware. In the `Restricted` repositories, we will find drivers, such as those for graphics cards, touchpads, or network cards.",
        "\n",
        "``` bash\n",
        "sudo add-apt-repository restricted",
        "```\n",
        "\n",
        "5. Partner",
        "\n",
        "This repository contains proprietary software compiled by Ubuntu from its partners.",
        "\n",
        "6. Third-party Ubuntu repositories",
        "\n",
        "Finally, we have third-party repositories. Ubuntu aims to always offer the best user experience, and this is one of the reasons why it rejects certain software. There are also developers who prefer to have full control over what they offer, and for this reason, they create their own repositories."
      ]
    },
    {
      "cell_type": "markdown",
      "metadata": {},
      "source": [
        "### Add repositories"
      ]
    },
    {
      "cell_type": "markdown",
      "metadata": {},
      "source": [
        "If we are on Ubuntu, we can add a repository using the command `add-apt-repository <repository>`. However, in other distributions that are not Ubuntu, this command is not available."
      ]
    },
    {
      "cell_type": "markdown",
      "metadata": {},
      "source": [
        "### Update the repositories"
      ]
    },
    {
      "cell_type": "markdown",
      "metadata": {},
      "source": [
        "With the command `apt update` we can update to the latest versions of the packages in our repository."
      ]
    },
    {
      "cell_type": "markdown",
      "metadata": {},
      "source": [
        "### Update the packages"
      ]
    },
    {
      "cell_type": "markdown",
      "metadata": {},
      "source": [
        "By using the command `apt upgrade` we can update the programs that we have installed and for which we have previously updated their repository."
      ]
    },
    {
      "cell_type": "markdown",
      "metadata": {},
      "source": [
        "### Update the kernel"
      ]
    },
    {
      "cell_type": "markdown",
      "metadata": {},
      "source": [
        "If we use the command `apt dist-upgrade`, it will also upgrade kernel packages.",
        "\n",
        "> Beware!: Updating kernel packages can lead to some packages breaking",
        "\n",
        "> Reminder: When updating kernel packages, a restart of the computer is necessary for the changes to take effect."
      ]
    },
    {
      "cell_type": "markdown",
      "metadata": {},
      "source": [
        "### Package Search"
      ]
    },
    {
      "cell_type": "markdown",
      "metadata": {},
      "source": [
        "With the command `apt search <package>` we can find packages"
      ]
    },
    {
      "cell_type": "code",
      "execution_count": 5,
      "metadata": {},
      "outputs": [
        {
          "name": "stdout",
          "output_type": "stream",
          "text": [
            "Ordenando...\n",
            "Buscar en todo el texto...\n",
            "anacrolix-dms/focal 1.1.0-1 amd64\n",
            "  Go UPnP DLNA Digital Media Server with basic video transcoding\n",
            "\n",
            "cubemap/focal 1.4.3-1build1 amd64\n",
            "  scalable video reflector, designed to be used with VLC\n",
            "\n",
            "dvblast/focal 3.4-1 amd64\n",
            "  Simple and powerful dvb-streaming application\n",
            "\t ...\n",
            "\n",
            "x264/focal 2:0.155.2917+git0a84d98-2 amd64\n",
            "  video encoder for the H.264/MPEG-4 AVC standard\n",
            "\n",
            "\n"
          ]
        }
      ],
      "source": [
        "terminal(\"apt search vlc\", max_lines_output=10)"
      ]
    },
    {
      "cell_type": "markdown",
      "metadata": {},
      "source": [
        "### List of installed packages"
      ]
    },
    {
      "cell_type": "markdown",
      "metadata": {},
      "source": [
        "To see what packages we have installed, we can use `dpkg -l`, this will give us a list of all the packages installed on our computer."
      ]
    },
    {
      "cell_type": "code",
      "execution_count": 6,
      "metadata": {},
      "outputs": [
        {
          "name": "stdout",
          "output_type": "stream",
          "text": [
            "Deseado=desconocido(U)/Instalar/eliminaR/Purgar/retener(H)\n",
            "| Estado=No/Inst/ficheros-Conf/desempaqUetado/medio-conF/medio-inst(H)/espera-disparo(W)/pendienTe-disparo\n",
            "|/ Err?=(ninguno)/requiere-Reinst (Estado,Err: may\u00fasc.=malo)\n",
            "||/ Nombre                                     Versi\u00f3n                               Arquitectura Descripci\u00f3n\n",
            "+++-==========================================-=====================================-============-===========================================================================================================================================================================================================================================================================================================================================================================================================================================\n",
            "ii  accountsservice                            0.6.55-0ubuntu12~20.04.5              amd64        query and manipulate user account information\n",
            "ii  acl                                        2.2.53-6                              amd64        access control list - utilities\n",
            "ii  acpi-support                               0.143                                 amd64        scripts for handling many ACPI events\n",
            "ii  acpid                                      1:2.0.32-1ubuntu1                     amd64        Advanced Configuration and Power Interface event daemon\n",
            "ii  adduser                                    3.118ubuntu2                          all          add and remove users and groups\n",
            "\t ...\n",
            "ii  zip                                        3.0-11build1                          amd64        Archiver for .zip files\n",
            "ii  zlib1g:amd64                               1:1.2.11.dfsg-2ubuntu1.5              amd64        compression library - runtime\n",
            "ii  zlib1g:i386                                1:1.2.11.dfsg-2ubuntu1.5              i386         compression library - runtime\n",
            "ii  zlib1g-dev:amd64                           1:1.2.11.dfsg-2ubuntu1.5              amd64        compression library - development\n",
            "\n"
          ]
        }
      ],
      "source": [
        "terminal(\"dpkg -l\", max_lines_output=10)"
      ]
    },
    {
      "cell_type": "markdown",
      "metadata": {},
      "source": [
        "If we want to check if a package is installed, we can use the previous command and create a `pipe` to search for the package name with `grep`"
      ]
    },
    {
      "cell_type": "code",
      "execution_count": 7,
      "metadata": {},
      "outputs": [
        {
          "name": "stdout",
          "output_type": "stream",
          "text": [
            "Deseado=desconocido(U)/Instalar/eliminaR/Purgar/retener(H)\n",
            "| Estado=No/Inst/ficheros-Conf/desempaqUetado/medio-conF/medio-inst(H)/espera-disparo(W)/pendienTe-disparo\n",
            "|/ Err?=(ninguno)/requiere-Reinst (Estado,Err: may\u00fasc.=malo)\n",
            "||/ Nombre         Versi\u00f3n      Arquitectura Descripci\u00f3n\n",
            "+++-==============-============-============-=================================\n",
            "ii  grep           3.4-1        amd64        GNU grep, egrep and fgrep\n",
            "ii  vlc            3.0.9.2-1    amd64        multimedia player and streamer\n",
            "\n"
          ]
        }
      ],
      "source": [
        "terminal(\"dpkg -l | grep vlc\")"
      ]
    },
    {
      "cell_type": "markdown",
      "metadata": {},
      "source": [
        "### Install downloaded packages and not from repositories"
      ]
    },
    {
      "cell_type": "markdown",
      "metadata": {},
      "source": [
        "Sometimes, when you want to install a program, they give you a `.deb` file, so to install it, we use the command `dpkg -i <file.deb>`"
      ]
    },
    {
      "cell_type": "markdown",
      "metadata": {},
      "source": [
        "## User Manager"
      ]
    },
    {
      "cell_type": "markdown",
      "metadata": {},
      "source": [
        "### Information of the active user with `id`"
      ]
    },
    {
      "cell_type": "markdown",
      "metadata": {},
      "source": [
        "By using the `id` command, I can see which user I am"
      ]
    },
    {
      "cell_type": "code",
      "execution_count": 8,
      "metadata": {},
      "outputs": [
        {
          "name": "stdout",
          "output_type": "stream",
          "text": [
            "uid=1000(wallabot) gid=1000(wallabot) grupos=1000(wallabot),4(adm),24(cdrom),27(sudo),30(dip),46(plugdev),120(lpadmin),131(lxd),132(sambashare),998(docker)\n"
          ]
        }
      ],
      "source": [
        "!id"
      ]
    },
    {
      "cell_type": "markdown",
      "metadata": {},
      "source": [
        "With this command I can see my `id`, the group ID `gid` and the groups I belong to. In Debian-based distributions, users are given an ID starting from 1000, while the root user is assigned the `ID` 0."
      ]
    },
    {
      "cell_type": "markdown",
      "metadata": {},
      "source": [
        "### Information of the active user with `whoami`"
      ]
    },
    {
      "cell_type": "markdown",
      "metadata": {},
      "source": [
        "Another command to know which user I am is `whoami`"
      ]
    },
    {
      "cell_type": "code",
      "execution_count": 9,
      "metadata": {},
      "outputs": [
        {
          "name": "stdout",
          "output_type": "stream",
          "text": [
            "wallabot\n"
          ]
        }
      ],
      "source": [
        "!whoami"
      ]
    },
    {
      "cell_type": "markdown",
      "metadata": {},
      "source": [
        "### File with information of all users"
      ]
    },
    {
      "cell_type": "markdown",
      "metadata": {},
      "source": [
        "The user information is in the file `/etc/passwd`"
      ]
    },
    {
      "cell_type": "code",
      "execution_count": 11,
      "metadata": {},
      "outputs": [
        {
          "name": "stdout",
          "output_type": "stream",
          "text": [
            "root:x:0:0:root:/root:/bin/bash\n",
            "daemon:x:1:1:daemon:/usr/sbin:/usr/sbin/nologin\n",
            "bin:x:2:2:bin:/bin:/usr/sbin/nologin\n",
            "sys:x:3:3:sys:/dev:/usr/sbin/nologin\n",
            "sync:x:4:65534:sync:/bin:/bin/sync\n",
            "games:x:5:60:games:/usr/games:/usr/sbin/nologin\n",
            "man:x:6:12:man:/var/cache/man:/usr/sbin/nologin\n",
            "lp:x:7:7:lp:/var/spool/lpd:/usr/sbin/nologin\n",
            "mail:x:8:8:mail:/var/mail:/usr/sbin/nologin\n",
            "news:x:9:9:news:/var/spool/news:/usr/sbin/nologin\n",
            "\t ...\n",
            "sshd:x:126:65534::/run/sshd:/usr/sbin/nologin\n",
            "nvidia-persistenced:x:127:135:NVIDIA Persistence Daemon,,,:/nonexistent:/usr/sbin/nologin\n",
            "fwupd-refresh:x:128:136:fwupd-refresh user,,,:/run/systemd:/usr/sbin/nologin\n",
            "glances:x:129:137::/var/lib/glances:/usr/sbin/nologin\n",
            "\n"
          ]
        }
      ],
      "source": [
        "terminal(\"cat /etc/passwd\", max_lines_output=10)"
      ]
    },
    {
      "cell_type": "markdown",
      "metadata": {},
      "source": [
        "### Change a user's password"
      ]
    },
    {
      "cell_type": "markdown",
      "metadata": {},
      "source": [
        "If you want to change a user's password, you should use the command `passwd <user> <password>`. If the user is not specified, it will take what the `whoami` command returns."
      ]
    },
    {
      "cell_type": "markdown",
      "metadata": {},
      "source": [
        "### Creating users with `useradd`"
      ]
    },
    {
      "cell_type": "markdown",
      "metadata": {},
      "source": [
        "To create a new user, the command `useradd <user name>` is used. Let's create a new user."
      ]
    },
    {
      "cell_type": "code",
      "execution_count": 11,
      "metadata": {},
      "outputs": [
        {
          "name": "stdout",
          "output_type": "stream",
          "text": [
            "\n"
          ]
        }
      ],
      "source": [
        "!sudo useradd usertest1"
      ]
    },
    {
      "cell_type": "markdown",
      "metadata": {},
      "source": [
        "Let's check if it's in the file with all the users"
      ]
    },
    {
      "cell_type": "code",
      "execution_count": 1,
      "metadata": {},
      "outputs": [
        {
          "name": "stdout",
          "output_type": "stream",
          "text": [
            "usertest1:x:1001:1001::/home/usertest1:/bin/sh\n"
          ]
        }
      ],
      "source": [
        "!cat /etc/passwd | grep usertest"
      ]
    },
    {
      "cell_type": "markdown",
      "metadata": {},
      "source": [
        "As we can see, the user has been created with the `id` 1001, the next one after my user wallabot, which was the last."
      ]
    },
    {
      "cell_type": "markdown",
      "metadata": {},
      "source": [
        "However, when creating this user, it did not ask us to assign a password. Additionally, if we look inside `home`"
      ]
    },
    {
      "cell_type": "code",
      "execution_count": 2,
      "metadata": {},
      "outputs": [
        {
          "name": "stdout",
          "output_type": "stream",
          "text": [
            "wallabot\n"
          ]
        }
      ],
      "source": [
        "!ls /home"
      ]
    },
    {
      "cell_type": "markdown",
      "metadata": {},
      "source": [
        "Only the `wallabot` user folder is present, but not the `test1` user folder."
      ]
    },
    {
      "cell_type": "markdown",
      "metadata": {},
      "source": [
        "### Creating users with `adduser`"
      ]
    },
    {
      "cell_type": "markdown",
      "metadata": {},
      "source": [
        "Therefore, we are going to look at another command for creating users that does ask for a password and does create a folder in `home`. This command is `adduser`"
      ]
    },
    {
      "cell_type": "code",
      "execution_count": 11,
      "metadata": {},
      "outputs": [
        {
          "name": "stdout",
          "output_type": "stream",
          "text": [
            "[sudo] contrase\u00f1a para wallabot: \n",
            "A\u00f1adiendo el usuario `usertest2' ...\n",
            "A\u00f1adiendo el nuevo grupo `usertest2' (1002) ...\n",
            "A\u00f1adiendo el nuevo usuario `usertest2' (1002) con grupo `usertest2' ...\n",
            "Creando el directorio personal `/home/usertest2' ...\n",
            "Copiando los ficheros desde `/etc/skel' ...\n",
            "Nueva contrase\u00f1a: \n",
            "Vuelva a escribir la nueva contrase\u00f1a: \n",
            "passwd: contrase\u00f1a actualizada correctamente\n",
            "Cambiando la informaci\u00f3n de usuario para usertest2\n",
            "Introduzca el nuevo valor, o presione INTRO para el predeterminado\n",
            "\tNombre completo []: \n",
            "\tN\u00famero de habitaci\u00f3n []: \n",
            "\tTel\u00e9fono del trabajo []: \n",
            "\tTel\u00e9fono de casa []: \n",
            "\tOtro []: \n",
            "\u00bfEs correcta la informaci\u00f3n? [S/n] s\n"
          ]
        }
      ],
      "source": [
        "!sudo adduser usertest2"
      ]
    },
    {
      "cell_type": "markdown",
      "metadata": {},
      "source": [
        "If we look at the file with all the users"
      ]
    },
    {
      "cell_type": "code",
      "execution_count": 3,
      "metadata": {},
      "outputs": [
        {
          "name": "stdout",
          "output_type": "stream",
          "text": [
            "usertest1:x:1001:1001::/home/usertest1:/bin/sh\n",
            "usertest2:x:1002:1002:,,,:/home/usertest2:/bin/bash\n"
          ]
        }
      ],
      "source": [
        "!cat /etc/passwd | grep usertest"
      ]
    },
    {
      "cell_type": "markdown",
      "metadata": {},
      "source": [
        "We see that the user `usertest2` has been created."
      ]
    },
    {
      "cell_type": "code",
      "execution_count": 4,
      "metadata": {},
      "outputs": [
        {
          "name": "stdout",
          "output_type": "stream",
          "text": [
            "usertest2  wallabot\n"
          ]
        }
      ],
      "source": [
        "!ls /home"
      ]
    },
    {
      "cell_type": "markdown",
      "metadata": {},
      "source": [
        "And we see that a folder has been created for him in `home`"
      ]
    },
    {
      "cell_type": "markdown",
      "metadata": {},
      "source": [
        "To delete a user, you must use the command `userdel <username>`"
      ]
    },
    {
      "cell_type": "code",
      "execution_count": 11,
      "metadata": {},
      "outputs": [
        {
          "name": "stdout",
          "output_type": "stream",
          "text": [
            "\n"
          ]
        }
      ],
      "source": [
        "!sudo userdel usertest1"
      ]
    },
    {
      "cell_type": "code",
      "execution_count": 11,
      "metadata": {},
      "outputs": [
        {
          "name": "stdout",
          "output_type": "stream",
          "text": [
            "\n"
          ]
        }
      ],
      "source": [
        "!sudo userdel usertest2"
      ]
    },
    {
      "cell_type": "markdown",
      "metadata": {},
      "source": [
        "Let's check if they are in the file with all the users."
      ]
    },
    {
      "cell_type": "code",
      "execution_count": 5,
      "metadata": {},
      "outputs": [],
      "source": [
        "!cat /etc/passwd | grep usertest"
      ]
    },
    {
      "cell_type": "markdown",
      "metadata": {},
      "source": [
        "We see that nothing appears anymore, in fact we see the end of that file."
      ]
    },
    {
      "cell_type": "code",
      "execution_count": 17,
      "metadata": {},
      "outputs": [
        {
          "name": "stdout",
          "output_type": "stream",
          "text": [
            "geoclue:x:122:127::/var/lib/geoclue:/usr/sbin/nologin\n",
            "pulse:x:123:128:PulseAudio daemon,,,:/var/run/pulse:/usr/sbin/nologin\n",
            "gnome-initial-setup:x:124:65534::/run/gnome-initial-setup/:/bin/false\n",
            "gdm:x:125:130:Gnome Display Manager:/var/lib/gdm3:/bin/false\n",
            "wallabot:x:1000:1000:wallabot,,,:/home/wallabot:/bin/bash\n",
            "systemd-coredump:x:999:999:systemd Core Dumper:/:/usr/sbin/nologin\n",
            "sshd:x:126:65534::/run/sshd:/usr/sbin/nologin\n",
            "nvidia-persistenced:x:127:135:NVIDIA Persistence Daemon,,,:/nonexistent:/usr/sbin/nologin\n",
            "fwupd-refresh:x:128:136:fwupd-refresh user,,,:/run/systemd:/usr/sbin/nologin\n",
            "glances:x:129:137::/var/lib/glances:/usr/sbin/nologin\n"
          ]
        }
      ],
      "source": [
        "!tail /etc/passwd"
      ]
    },
    {
      "cell_type": "markdown",
      "metadata": {},
      "source": [
        "## Making an Administrator User"
      ]
    },
    {
      "cell_type": "markdown",
      "metadata": {},
      "source": [
        "First, we are going to create a new user, who will not be an administrator at the beginning."
      ]
    },
    {
      "cell_type": "code",
      "execution_count": 11,
      "metadata": {},
      "outputs": [
        {
          "name": "stdout",
          "output_type": "stream",
          "text": [
            "A\u00f1adiendo el usuario `noadmin' ...\n",
            "A\u00f1adiendo el nuevo grupo `noadmin' (1001) ...\n",
            "A\u00f1adiendo el nuevo usuario `noadmin' (1001) con grupo `noadmin' ...\n",
            "Creando el directorio personal `/home/noadmin' ...\n",
            "Copiando los ficheros desde `/etc/skel' ...\n",
            "Nueva contrase\u00f1a: \n",
            "Vuelva a escribir la nueva contrase\u00f1a: \n",
            "passwd: contrase\u00f1a actualizada correctamente\n",
            "Cambiando la informaci\u00f3n de usuario para noadmin\n",
            "Introduzca el nuevo valor, o presione INTRO para el predeterminado\n",
            "\tNombre completo []: \n",
            "\tN\u00famero de habitaci\u00f3n []: \n",
            "\tTel\u00e9fono del trabajo []: \n",
            "\tTel\u00e9fono de casa []: \n",
            "\tOtro []: \n",
            "\u00bfEs correcta la informaci\u00f3n? [S/n] s\n"
          ]
        }
      ],
      "source": [
        "!sudo adduser noadmin"
      ]
    },
    {
      "cell_type": "markdown",
      "metadata": {},
      "source": [
        "Let's check which groups the user we just created belongs to, for this we use the command `groups <user>`"
      ]
    },
    {
      "cell_type": "code",
      "execution_count": 6,
      "metadata": {},
      "outputs": [
        {
          "name": "stdout",
          "output_type": "stream",
          "text": [
            "noadmin : noadmin\n"
          ]
        }
      ],
      "source": [
        "!groups noadmin"
      ]
    },
    {
      "cell_type": "markdown",
      "metadata": {},
      "source": [
        "As we can see, it is only in the group `noadmin`, which is a group that was created when the user was created."
      ]
    },
    {
      "cell_type": "markdown",
      "metadata": {},
      "source": [
        "Let's see which groups my user belongs to"
      ]
    },
    {
      "cell_type": "code",
      "execution_count": 7,
      "metadata": {},
      "outputs": [
        {
          "name": "stdout",
          "output_type": "stream",
          "text": [
            "wallabot : wallabot adm cdrom sudo dip plugdev lpadmin lxd sambashare docker\n"
          ]
        }
      ],
      "source": [
        "!groups wallabot"
      ]
    },
    {
      "cell_type": "markdown",
      "metadata": {},
      "source": [
        "As we can see, my user belongs to several additional groups, including one called `sudo`. Users who have access to this group have administrative powers, so for the new user we created to have these powers, we need to add them to the `sudo` group."
      ]
    },
    {
      "cell_type": "markdown",
      "metadata": {},
      "source": [
        "To add a user to a group there are two ways: one is with the command `gpasswd -a <user> <group>`"
      ]
    },
    {
      "cell_type": "code",
      "execution_count": 11,
      "metadata": {},
      "outputs": [
        {
          "name": "stdout",
          "output_type": "stream",
          "text": [
            "A\u00f1adiendo al usuario noadmin al grupo sudo\n"
          ]
        }
      ],
      "source": [
        "!sudo gpasswd -a noadmin sudo"
      ]
    },
    {
      "cell_type": "markdown",
      "metadata": {},
      "source": [
        "We now see which groups the user `noadmin` belongs to."
      ]
    },
    {
      "cell_type": "code",
      "execution_count": 8,
      "metadata": {},
      "outputs": [
        {
          "name": "stdout",
          "output_type": "stream",
          "text": [
            "noadmin : noadmin sudo\n"
          ]
        }
      ],
      "source": [
        "!groups noadmin"
      ]
    },
    {
      "cell_type": "markdown",
      "metadata": {},
      "source": [
        "As we can see, it already belongs to the sudo group, so it would already have administrative powers."
      ]
    },
    {
      "cell_type": "markdown",
      "metadata": {},
      "source": [
        "We remove the user `noadmin` from the group `sudo` with the command `gpasswd -d <user> <group>`"
      ]
    },
    {
      "cell_type": "code",
      "execution_count": 7,
      "metadata": {},
      "outputs": [
        {
          "name": "stdout",
          "output_type": "stream",
          "text": [
            "Eliminando al usuario noadmin del grupo sudo\n"
          ]
        }
      ],
      "source": [
        "!sudo gpasswd -d noadmin sudo"
      ]
    },
    {
      "cell_type": "markdown",
      "metadata": {},
      "source": [
        "We see that `noadmin` is no longer part of the `sudo` group"
      ]
    },
    {
      "cell_type": "code",
      "execution_count": 10,
      "metadata": {},
      "outputs": [
        {
          "name": "stdout",
          "output_type": "stream",
          "text": [
            "noadmin : noadmin\n"
          ]
        }
      ],
      "source": [
        "!groups noadmin"
      ]
    },
    {
      "cell_type": "markdown",
      "metadata": {},
      "source": [
        "The second command to add a user to a group is `usermod -aG <group> <user>`"
      ]
    },
    {
      "cell_type": "code",
      "execution_count": 7,
      "metadata": {},
      "outputs": [
        {
          "name": "stdout",
          "output_type": "stream",
          "text": [
            "\n"
          ]
        }
      ],
      "source": [
        "!sudo usermod -aG sudo noadmin"
      ]
    },
    {
      "cell_type": "markdown",
      "metadata": {},
      "source": [
        "We check again which groups the user `noadmin` belongs to."
      ]
    },
    {
      "cell_type": "code",
      "execution_count": 11,
      "metadata": {},
      "outputs": [
        {
          "name": "stdout",
          "output_type": "stream",
          "text": [
            "noadmin : noadmin sudo\n"
          ]
        }
      ],
      "source": [
        "!groups noadmin"
      ]
    },
    {
      "cell_type": "markdown",
      "metadata": {},
      "source": [
        "We remove the user `noadmin` from the `sudo` group and delete it."
      ]
    },
    {
      "cell_type": "code",
      "execution_count": 7,
      "metadata": {},
      "outputs": [
        {
          "name": "stdout",
          "output_type": "stream",
          "text": [
            "Eliminando al usuario noadmin del grupo sudo\n"
          ]
        }
      ],
      "source": [
        "!sudo gpasswd -d noadmin sudo"
      ]
    },
    {
      "cell_type": "code",
      "execution_count": 7,
      "metadata": {},
      "outputs": [
        {
          "name": "stdout",
          "output_type": "stream",
          "text": [
            "\n"
          ]
        }
      ],
      "source": [
        "!sudo userdel noadmin"
      ]
    },
    {
      "cell_type": "markdown",
      "metadata": {},
      "source": [
        "## Command History"
      ]
    },
    {
      "cell_type": "markdown",
      "metadata": {},
      "source": [
        "### `history`"
      ]
    },
    {
      "cell_type": "markdown",
      "metadata": {},
      "source": [
        "If we enter the command `history` in the terminal, we see a history of the commands used."
      ]
    },
    {
      "cell_type": "code",
      "execution_count": 7,
      "metadata": {},
      "outputs": [
        {
          "name": "stdout",
          "output_type": "stream",
          "text": [
            " 1009  docker build . nvidia/cuda\n",
            " 1010  docker build --help\n",
            " 1011  docker build --build-arg nvidia/cuda\n",
            " 1012  docker build --build-arg [nvidia/cuda]\n",
            " 1013  cd ../docker/\n",
            " 1014  docker ps -a\n",
            " 1015  docker rm boring_wescoff \n",
            " 1016  docker compose up -d\n",
            " 1017  docker compose exec deepstream61 bash\n",
            " 1018  cd ..\n",
            "    ....\n",
            " 1996  ps\n",
            " 1997  ps aux\n",
            " 1998  camerasIP.sh \n",
            " 1999  sudo su\n",
            " 2000  sudo useradd usertest\n",
            " 2001  sudo userdel usertest\n",
            " 2002  sudo useradd usertest\n",
            " 2003  sudo userdel usertest\n",
            " 2004  sudo su\n",
            " 2005  sudo apt install history\n",
            " 2006  history\n",
            " 2007  clear\n",
            " 2008  history\n"
          ]
        }
      ],
      "source": [
        "!history"
      ]
    },
    {
      "cell_type": "markdown",
      "metadata": {},
      "source": [
        "If we want to run one of the commands from the history, we do it using `!<num command>`, for example, if I want to run the command 1996 again."
      ]
    },
    {
      "cell_type": "code",
      "execution_count": 7,
      "metadata": {},
      "outputs": [
        {
          "name": "stdout",
          "output_type": "stream",
          "text": [
            "    PID TTY          TIME CMD\n",
            "   6610 pts/0    00:00:00 bash\n",
            "  20826 pts/0    00:00:00 ps\n"
          ]
        }
      ],
      "source": [
        "! !1996"
      ]
    },
    {
      "cell_type": "markdown",
      "metadata": {},
      "source": [
        "### `reverse-i-search`"
      ]
    },
    {
      "cell_type": "markdown",
      "metadata": {},
      "source": [
        "A more refined way to search through the history is to press `CTRL`+`r`. When you do this, the following message will appear in the console"
      ]
    },
    {
      "cell_type": "code",
      "execution_count": 7,
      "metadata": {},
      "outputs": [
        {
          "name": "stdout",
          "output_type": "stream",
          "text": [
            "\n"
          ]
        }
      ],
      "source": [
        "!reverse-i-search)`':"
      ]
    },
    {
      "cell_type": "markdown",
      "metadata": {},
      "source": [
        "So as you type, commands that match what you have entered will appear. For example, if I enter `if`, the last time I used `ifconfig` will appear.",
        "\n",
        "If we press `CTRL`+`r` again, older matches will start appearing."
      ]
    },
    {
      "cell_type": "markdown",
      "metadata": {},
      "source": [
        "### Remove commands from history"
      ]
    },
    {
      "cell_type": "markdown",
      "metadata": {},
      "source": [
        "There are commands like `ls`, `cd`, `pwd` that don't add much value to being in the history, so we can configure them not to be saved in the history. To do this, we modify the `~/.bashrc` file and add the line `HISTIGNORE=\"pwd:ls:cd\"`"
      ]
    },
    {
      "cell_type": "markdown",
      "metadata": {},
      "source": [
        "## Security"
      ]
    },
    {
      "cell_type": "markdown",
      "metadata": {},
      "source": [
        "### Firewall `ufw`"
      ]
    },
    {
      "cell_type": "markdown",
      "metadata": {},
      "source": [
        "Ubuntu comes with the firewall `ufw` installed, but to check it we use the following command"
      ]
    },
    {
      "cell_type": "code",
      "execution_count": 7,
      "metadata": {},
      "outputs": [
        {
          "name": "stdout",
          "output_type": "stream",
          "text": [
            "Estado: inactivo\n"
          ]
        }
      ],
      "source": [
        "!sudo ufw status"
      ]
    },
    {
      "cell_type": "markdown",
      "metadata": {},
      "source": [
        "As we can see, it is inactive by default, so we are going to create a set of rules. For example, let's start by opening port 22 (SSH). To do this, we use the command `sudo allow <port> comment \"<comment>\"`, with which we open a port and add a comment."
      ]
    },
    {
      "cell_type": "code",
      "execution_count": 7,
      "metadata": {},
      "outputs": [
        {
          "name": "stdout",
          "output_type": "stream",
          "text": [
            "Regla a\u00f1adida\n",
            "Regla a\u00f1adida (v6)\n"
          ]
        }
      ],
      "source": [
        "!sudo ufw allow 22 comment 'ssh'"
      ]
    },
    {
      "cell_type": "markdown",
      "metadata": {},
      "source": [
        "As we can see, it has opened port 22 for IPv4 and IPv6. Let's now activate `ufw` with the command `ufw enable`"
      ]
    },
    {
      "cell_type": "code",
      "execution_count": 7,
      "metadata": {},
      "outputs": [
        {
          "name": "stdout",
          "output_type": "stream",
          "text": [
            "El cortafuegos est\u00e1 activo y habilitado en el arranque del sistema\n"
          ]
        }
      ],
      "source": [
        "!sudo ufw enable"
      ]
    },
    {
      "cell_type": "markdown",
      "metadata": {},
      "source": [
        "If we want to see the rules we have in the firewall, we use the command `ufw status`"
      ]
    },
    {
      "cell_type": "code",
      "execution_count": 7,
      "metadata": {},
      "outputs": [
        {
          "name": "stdout",
          "output_type": "stream",
          "text": [
            "Hasta                      Acci\u00f3n      Desde\n",
            "-----                      ------      -----\n",
            "22                         ALLOW       Anywhere                   # ssh\n",
            "22 (v6)                    ALLOW       Anywhere (v6)              # ssh\n"
          ]
        }
      ],
      "source": [
        "!sudo ufw enable"
      ]
    },
    {
      "cell_type": "markdown",
      "metadata": {},
      "source": [
        "We can also ask it to show the rules numbered with the command `ufw status numbered`"
      ]
    },
    {
      "cell_type": "code",
      "execution_count": 7,
      "metadata": {},
      "outputs": [
        {
          "name": "stdout",
          "output_type": "stream",
          "text": [
            "Estado: activo\n",
            "\n",
            "     Hasta                      Acci\u00f3n      Desde\n",
            "     -----                      ------      -----\n",
            "[ 1] 22                         ALLOW IN    Anywhere                   # ssh\n",
            "[ 2] 22 (v6)                    ALLOW IN    Anywhere (v6)              # ssh\n"
          ]
        }
      ],
      "source": [
        "!sudo ufw status numbered"
      ]
    },
    {
      "cell_type": "markdown",
      "metadata": {},
      "source": [
        "Since they are numbered, we can delete one using the command `ufw delete <rule number>`, so to delete the rule for IPv6 we do"
      ]
    },
    {
      "cell_type": "code",
      "execution_count": 7,
      "metadata": {},
      "outputs": [
        {
          "name": "stdout",
          "output_type": "stream",
          "text": [
            "Estado: activo\n",
            "\n",
            "Borrando:\n",
            " allow 22 comment 'ssh'\n",
            "\u00bfContinuar con la operaci\u00f3n (s|n)? s\n",
            "Regla eliminada (v6)\n"
          ]
        }
      ],
      "source": [
        "!sudo ufw delete 2"
      ]
    },
    {
      "cell_type": "markdown",
      "metadata": {},
      "source": [
        "We check the status again"
      ]
    },
    {
      "cell_type": "code",
      "execution_count": 7,
      "metadata": {},
      "outputs": [
        {
          "name": "stdout",
          "output_type": "stream",
          "text": [
            "Estado: activo\n",
            "\n",
            "     Hasta                      Acci\u00f3n      Desde\n",
            "     -----                      ------      -----\n",
            "[ 1] 22                         ALLOW IN    Anywhere                   # ssh\n"
          ]
        }
      ],
      "source": [
        "!sudo ufw status numbered"
      ]
    },
    {
      "cell_type": "markdown",
      "metadata": {},
      "source": [
        "We see that rule number 2 has indeed been removed."
      ]
    },
    {
      "cell_type": "markdown",
      "metadata": {},
      "source": [
        "If we want to enable the SSH connection from a single IP, we use the flag `from <IP>`"
      ]
    },
    {
      "cell_type": "code",
      "execution_count": 7,
      "metadata": {},
      "outputs": [
        {
          "name": "stdout",
          "output_type": "stream",
          "text": [
            "Regla a\u00f1adida\n"
          ]
        }
      ],
      "source": [
        "!sudo ufw  allow from 192.168.1.103 proto tcp to any port 22 comment 'ssh ip'"
      ]
    },
    {
      "cell_type": "markdown",
      "metadata": {},
      "source": [
        "We check the rules again"
      ]
    },
    {
      "cell_type": "code",
      "execution_count": 7,
      "metadata": {},
      "outputs": [
        {
          "name": "stdout",
          "output_type": "stream",
          "text": [
            "Estado: activo\n",
            "\n",
            "     Hasta                      Acci\u00f3n      Desde\n",
            "     -----                      ------      -----\n",
            "[ 1] 22                         ALLOW IN    Anywhere                   # ssh\n",
            "[ 2] 22/tcp                     ALLOW IN    192.168.1.103              # ssh ip\n"
          ]
        }
      ],
      "source": [
        "!sudo ufw status numbered"
      ]
    },
    {
      "cell_type": "markdown",
      "metadata": {},
      "source": [
        "If we want to delete all rules, we use the `reset` command"
      ]
    },
    {
      "cell_type": "code",
      "execution_count": 7,
      "metadata": {},
      "outputs": [
        {
          "name": "stdout",
          "output_type": "stream",
          "text": [
            "Estado: activo\n",
            "\n",
            "Reiniciando todas las reglas a sus valores predeterminados instalados.\n",
            "\u00bfContinuar con la operaci\u00f3n (s|n)? s\n",
            "Respaldando \u00abuser.rules\u00bb en \u00ab/etc/ufw/user.rules.20221205_171730\u00bb\n",
            "Respaldando \u00abbefore.rules\u00bb en \u00ab/etc/ufw/before.rules.20221205_171730\u00bb\n",
            "Respaldando \u00abafter.rules\u00bb en \u00ab/etc/ufw/after.rules.20221205_171730\u00bb\n",
            "Respaldando \u00abuser6.rules\u00bb en \u00ab/etc/ufw/user6.rules.20221205_171730\u00bb\n",
            "Respaldando \u00abbefore6.rules\u00bb en \u00ab/etc/ufw/before6.rules.20221205_171730\u00bb\n",
            "Respaldando \u00abafter6.rules\u00bb en \u00ab/etc/ufw/after6.rules.20221205_171730\u00bb\n"
          ]
        }
      ],
      "source": [
        "!sudo ufw reset"
      ]
    },
    {
      "cell_type": "markdown",
      "metadata": {},
      "source": [
        "We check the status again"
      ]
    },
    {
      "cell_type": "code",
      "execution_count": 7,
      "metadata": {},
      "outputs": [
        {
          "name": "stdout",
          "output_type": "stream",
          "text": [
            "Estado: inactivo\n"
          ]
        }
      ],
      "source": [
        "!sudo ufw status numbered"
      ]
    },
    {
      "cell_type": "markdown",
      "metadata": {},
      "source": [
        "We see that there are no rules left."
      ]
    },
    {
      "cell_type": "markdown",
      "metadata": {},
      "source": [
        "To disable the firewall we use the command `ufw disable`"
      ]
    },
    {
      "cell_type": "code",
      "execution_count": 7,
      "metadata": {},
      "outputs": [
        {
          "name": "stdout",
          "output_type": "stream",
          "text": [
            "El cortafuegos est\u00e1 detenido y deshabilitado en el arranque del sistema\n"
          ]
        }
      ],
      "source": [
        "!sudo ufw disable"
      ]
    },
    {
      "cell_type": "markdown",
      "metadata": {},
      "source": [
        "We check the status again"
      ]
    },
    {
      "cell_type": "code",
      "execution_count": 7,
      "metadata": {},
      "outputs": [
        {
          "name": "stdout",
          "output_type": "stream",
          "text": [
            "Estado: inactivo\n"
          ]
        }
      ],
      "source": [
        "!sudo ufw status"
      ]
    },
    {
      "cell_type": "markdown",
      "metadata": {},
      "source": [
        "### Security Audit with `Lynis`"
      ]
    },
    {
      "cell_type": "markdown",
      "metadata": {},
      "source": [
        "To install Lynis you have to use the command `sudo apt install lynis`"
      ]
    },
    {
      "cell_type": "markdown",
      "metadata": {},
      "source": [
        "To perform an audit of your system, you need to use the command `lynis audit system`. This starts scanning the entire system and reports it to you.",
        "\n",
        "> I will not show the result of my system scan to avoid exposing my vulnerabilities on the internet."
      ]
    },
    {
      "cell_type": "markdown",
      "metadata": {},
      "source": [
        "## Command Programming"
      ]
    },
    {
      "cell_type": "markdown",
      "metadata": {},
      "source": [
        "### Programming periodic commands with `cron`"
      ]
    },
    {
      "cell_type": "markdown",
      "metadata": {},
      "source": [
        "With the `cron` command, we can schedule commands to run periodically. To do this, we need to edit the `/etc/crontab` file."
      ]
    },
    {
      "cell_type": "code",
      "execution_count": 22,
      "metadata": {},
      "outputs": [
        {
          "name": "stdout",
          "output_type": "stream",
          "text": [
            "# /etc/crontab: system-wide crontab\n",
            "# Unlike any other crontab you don't have to run the `crontab'\n",
            "# command to install the new version when you edit this file\n",
            "# and files in /etc/cron.d. These files also have username fields,\n",
            "# that none of the other crontabs do.\n",
            "\n",
            "SHELL=/bin/sh\n",
            "PATH=/usr/local/sbin:/usr/local/bin:/sbin:/bin:/usr/sbin:/usr/bin\n",
            "\n",
            "# Example of job definition:\n",
            "# .---------------- minute (0 - 59)\n",
            "# |  .------------- hour (0 - 23)\n",
            "# |  |  .---------- day of month (1 - 31)\n",
            "# |  |  |  .------- month (1 - 12) OR jan,feb,mar,apr ...\n",
            "# |  |  |  |  .---- day of week (0 - 6) (Sunday=0 or 7) OR sun,mon,tue,wed,thu,fri,sat\n",
            "# |  |  |  |  |\n",
            "# *  *  *  *  * user-name command to be executed\n",
            "17 *\t* * *\troot    cd / && run-parts --report /etc/cron.hourly\n",
            "25 6\t* * *\troot\ttest -x /usr/sbin/anacron || ( cd / && run-parts --report /etc/cron.daily )\n",
            "47 6\t* * 7\troot\ttest -x /usr/sbin/anacron || ( cd / && run-parts --report /etc/cron.weekly )\n",
            "52 6\t1 * *\troot\ttest -x /usr/sbin/anacron || ( cd / && run-parts --report /etc/cron.monthly )\n",
            "#\n"
          ]
        }
      ],
      "source": [
        "!cat /etc/crontab"
      ]
    },
    {
      "cell_type": "markdown",
      "metadata": {},
      "source": [
        "As can be seen, in this file there is a series of commands that are executed periodically. The format of these commands is as follows",
        "\n",
        "```\n",
        "<minute> <hour> <day of month> <month> <day of week> <user> <command>",
        "```\n",
        "\n"
      ]
    },
    {
      "cell_type": "markdown",
      "metadata": {},
      "source": [
        "To create the date when you want the command to be executed, there are many online pages that help you write it correctly, such as [crontab guru](https://crontab.guru/)"
      ]
    },
    {
      "cell_type": "markdown",
      "metadata": {},
      "source": [
        "### Scheduling One-Time Commands with `at`"
      ]
    },
    {
      "cell_type": "markdown",
      "metadata": {},
      "source": [
        "When we want a command to be executed in the future, but not periodically, and only once, we can use the `at` command. For example, if you turn on an Azure or Amazon machine for which you are charged, and you want to make sure it will shut down so you don't get a surprise on your bill, you can schedule it to shut down at night. This way, even if you forget to turn it off, it will shut itself down."
      ]
    },
    {
      "cell_type": "markdown",
      "metadata": {},
      "source": [
        "We do a `ls` to the `/tmp` folder"
      ]
    },
    {
      "cell_type": "code",
      "execution_count": 15,
      "metadata": {},
      "outputs": [
        {
          "name": "stdout",
          "output_type": "stream",
          "text": [
            "total 60\n",
            "-rw------- 1 wallabot wallabot    0 sep 24 08:51 config-err-QM3AAe\n",
            "-rw-r--r-- 1 root     root     2049 sep 24 08:51 glances-root.log\n",
            "drwx------ 2 wallabot wallabot 4096 sep 24 09:06 pyright-9853-BG3nXEXw0Tao\n",
            "drwxrwxr-x 3 wallabot wallabot 4096 sep 24 09:06 python-languageserver-cancellation\n",
            "drwx------ 3 root     root     4096 sep 24 08:51 snap-private-tmp\n",
            "drwx------ 2 wallabot wallabot 4096 sep 24 08:51 ssh-mHjlSPPoqCp7\n",
            "drwx------ 3 root     root     4096 sep 24 08:51 systemd-private-371a1d9479324db8bd79b6844b8b589b-colord.service-rpjPri\n",
            "drwx------ 3 root     root     4096 sep 24 08:51 systemd-private-371a1d9479324db8bd79b6844b8b589b-fwupd.service-FzPoQf\n",
            "drwx------ 3 root     root     4096 sep 24 08:51 systemd-private-371a1d9479324db8bd79b6844b8b589b-geoclue.service-F6pMWi\n",
            "drwx------ 3 root     root     4096 sep 24 08:51 systemd-private-371a1d9479324db8bd79b6844b8b589b-ModemManager.service-Orf6Bi\n",
            "drwx------ 3 root     root     4096 sep 24 08:51 systemd-private-371a1d9479324db8bd79b6844b8b589b-switcheroo-control.service-1QXRqj\n",
            "drwx------ 3 root     root     4096 sep 24 08:51 systemd-private-371a1d9479324db8bd79b6844b8b589b-systemd-logind.service-lL35tg\n",
            "drwx------ 3 root     root     4096 sep 24 08:51 systemd-private-371a1d9479324db8bd79b6844b8b589b-systemd-resolved.service-iaswSi\n",
            "drwx------ 3 root     root     4096 sep 24 08:51 systemd-private-371a1d9479324db8bd79b6844b8b589b-systemd-timesyncd.service-Yet8lj\n",
            "drwx------ 3 root     root     4096 sep 24 08:51 systemd-private-371a1d9479324db8bd79b6844b8b589b-upower.service-oTL7Gg\n",
            "drwx------ 2 wallabot wallabot 4096 sep 24 09:31 tracker-extract-files.1000\n"
          ]
        }
      ],
      "source": [
        "!ls -l /tmp"
      ]
    },
    {
      "cell_type": "markdown",
      "metadata": {},
      "source": [
        "Now we are going to program that a new file is created in `/tmp` within 5 minutes"
      ]
    },
    {
      "cell_type": "code",
      "execution_count": 19,
      "metadata": {},
      "outputs": [
        {
          "name": "stdout",
          "output_type": "stream",
          "text": [
            "warning: commands will be executed using /bin/sh\n",
            "at> touch /tmp/at.txt\n",
            "at> <EOT>\n",
            "job 1 at Sun Sep 24 09:55:00 2023\n"
          ]
        }
      ],
      "source": [
        "!at 09:55 touch /tmp/at.txt"
      ]
    },
    {
      "cell_type": "markdown",
      "metadata": {},
      "source": [
        "As we can see, we need to write `at <time>` and on the next line the command we want to execute."
      ]
    },
    {
      "cell_type": "markdown",
      "metadata": {},
      "source": [
        "We now see the files that are in `/tmp`"
      ]
    },
    {
      "cell_type": "code",
      "execution_count": 20,
      "metadata": {},
      "outputs": [
        {
          "name": "stdout",
          "output_type": "stream",
          "text": [
            "total 60\n",
            "-rw-rw-r-- 1 wallabot wallabot    0 sep 24 09:55 at.txt\n",
            "-rw------- 1 wallabot wallabot    0 sep 24 08:51 config-err-QM3AAe\n",
            "-rw-r--r-- 1 root     root     2049 sep 24 08:51 glances-root.log\n",
            "drwx------ 2 wallabot wallabot 4096 sep 24 09:06 pyright-9853-BG3nXEXw0Tao\n",
            "drwxrwxr-x 3 wallabot wallabot 4096 sep 24 09:06 python-languageserver-cancellation\n",
            "drwx------ 3 root     root     4096 sep 24 08:51 snap-private-tmp\n",
            "drwx------ 2 wallabot wallabot 4096 sep 24 08:51 ssh-mHjlSPPoqCp7\n",
            "drwx------ 3 root     root     4096 sep 24 08:51 systemd-private-371a1d9479324db8bd79b6844b8b589b-colord.service-rpjPri\n",
            "drwx------ 3 root     root     4096 sep 24 08:51 systemd-private-371a1d9479324db8bd79b6844b8b589b-fwupd.service-FzPoQf\n",
            "drwx------ 3 root     root     4096 sep 24 08:51 systemd-private-371a1d9479324db8bd79b6844b8b589b-geoclue.service-F6pMWi\n",
            "drwx------ 3 root     root     4096 sep 24 08:51 systemd-private-371a1d9479324db8bd79b6844b8b589b-ModemManager.service-Orf6Bi\n",
            "drwx------ 3 root     root     4096 sep 24 08:51 systemd-private-371a1d9479324db8bd79b6844b8b589b-switcheroo-control.service-1QXRqj\n",
            "drwx------ 3 root     root     4096 sep 24 08:51 systemd-private-371a1d9479324db8bd79b6844b8b589b-systemd-logind.service-lL35tg\n",
            "drwx------ 3 root     root     4096 sep 24 08:51 systemd-private-371a1d9479324db8bd79b6844b8b589b-systemd-resolved.service-iaswSi\n",
            "drwx------ 3 root     root     4096 sep 24 08:51 systemd-private-371a1d9479324db8bd79b6844b8b589b-systemd-timesyncd.service-Yet8lj\n",
            "drwx------ 3 root     root     4096 sep 24 08:51 systemd-private-371a1d9479324db8bd79b6844b8b589b-upower.service-oTL7Gg\n",
            "drwx------ 2 wallabot wallabot 4096 sep 24 09:31 tracker-extract-files.1000\n"
          ]
        }
      ],
      "source": [
        "!ls -l /tmp"
      ]
    },
    {
      "cell_type": "markdown",
      "metadata": {},
      "source": [
        "As we can see, there is an `at.txt` that was created at 09:55"
      ]
    },
    {
      "cell_type": "markdown",
      "metadata": {},
      "source": [
        "## Keyboard Shortcuts"
      ]
    },
    {
      "cell_type": "markdown",
      "metadata": {},
      "source": [
        "The following are some useful keyboard shortcuts when using the terminal",
        "* Ctrl+a: moves the cursor to the beginning of the command line.",
        "* Ctrl+e: moves the cursor to the end of the command line.",
        "* Ctrl+l: clears the terminal, similar to what the `clear` command does.",
        "* Ctrl+u: clears from the cursor position to the beginning of the line. If at the end, it clears the entire line.",
        "* Ctrl+k: clears from the cursor position to the end of the line. If at the beginning, it clears the entire line.",
        "* Ctrl+h: does the same as the backspace key, it deletes the character immediately before the cursor position.",
        "* Ctrl+w: deletes the word immediately before the cursor.",
        "* Alt+d or Esc+d: deletes the word following the cursor.",
        "* Ctrl+p: sets the command line with the last command entered.",
        "* Ctrl+r: initiates the search for previously used commands by typing part of a command we have executed before, including options and parameters. By pressing the key combination again, we can cycle through previous matches.",
        "* Ctrl+c: terminates the process that is running, useful for regaining control of the system.",
        "* Ctrl+d: exits the terminal, similar to the exit command.",
        "* Ctrl+z: suspends the execution of the running process and puts it in the background; with the fg command, we can resume its execution.",
        "* Ctrl+t: swaps the position of the two characters before the cursor, useful for correcting typos.",
        "* Esc+t: swaps the position of the two words before the cursor, useful for correcting typos.",
        "* Alt+f: moves the cursor to the beginning of the next word on the line, similar to Ctrl+right in the GNOME terminal.",
        "* Alt+b: moves the cursor to the beginning of the previous word on the line, similar to Ctrl+left in the GNOME terminal.",
        "* Tab: autocompletes commands or directory or file paths.",
        "* Ctrl+Shift+f: opens a dialog to perform a text search in the terminal output.",
        "* Ctrl+Shift+g: find the next occurrence of the previous search in the terminal.",
        "* Ctrl+Shift+h: find the previous occurrence of the previous search in the terminal.",
        "* Ctrl+Shift+c: copy the selected text from the terminal to the clipboard.",
        "* Ctrl+Shift+v: paste the text from the clipboard into the command line.",
        "* Up: sets the previous command from history on the command line, just like Ctrl+p.",
        "* Down: sets on the command line the next command from the history.",
        "* Left Mouse: select lines of text from the terminal.",
        "* Ctrl+Left Mouse: select blocks of text from the terminal."
      ]
    },
    {
      "cell_type": "markdown",
      "metadata": {},
      "source": [
        "## Folder system in Linux"
      ]
    },
    {
      "cell_type": "markdown",
      "metadata": {},
      "source": [
        "In the following image we can see how the folder system looks in Linux",
        "\n",
        "![carpetas_linux](https://images.maximofn.com/carpetas_linux.webp)",
        "\n",
        "This image has been taken from the [post](https://www.linkedin.com/posts/robercmorais_tienes-dudas-sobre-para-que-se-usa-cada-activity-7153521372156116992-jzOK/) on LinkedIn by [Roberto Morais](https://www.linkedin.com/in/robercmorais/)"
      ]
    },
    {
      "cell_type": "markdown",
      "metadata": {},
      "source": [
        "## Fricadels"
      ]
    },
    {
      "cell_type": "markdown",
      "metadata": {},
      "source": [
        "### You forgot to use sudo"
      ]
    },
    {
      "cell_type": "markdown",
      "metadata": {},
      "source": [
        "Have you ever been in a situation where you needed to run a command with `sudo`, but forgot to type `sudo`? Well, after receiving the corresponding error, if you do `sudo !!`, it will execute the previous command with `sudo`."
      ]
    },
    {
      "cell_type": "code",
      "execution_count": 1,
      "metadata": {},
      "outputs": [
        {
          "name": "stdout",
          "output_type": "stream",
          "text": [
            "Leyendo lista de paquetes... Hecho\n",
            "\u001b[1;31mE: \u001b[0mNo se pudo abrir el fichero de bloqueo \u00ab/var/lib/apt/lists/lock\u00bb - open (13: Permiso denegado)\u001b[0m\n",
            "\u001b[1;31mE: \u001b[0mNo se pudo bloquear el directorio /var/lib/apt/lists/\u001b[0m\n",
            "\u001b[1;33mW: \u001b[0mSe produjo un problema al desligar el fichero /var/cache/apt/pkgcache.bin - RemoveCaches (13: Permiso denegado)\u001b[0m\n",
            "\u001b[1;33mW: \u001b[0mSe produjo un problema al desligar el fichero /var/cache/apt/srcpkgcache.bin - RemoveCaches (13: Permiso denegado)\u001b[0m\n"
          ]
        }
      ],
      "source": [
        "!apt update"
      ]
    },
    {
      "cell_type": "markdown",
      "metadata": {},
      "source": [
        "As can be seen, when we run `sudo update` we get an error, but if we now run `sudo !!` it will execute `sudo apt update`"
      ]
    },
    {
      "cell_type": "code",
      "execution_count": 2,
      "metadata": {},
      "outputs": [
        {
          "name": "stdout",
          "output_type": "stream",
          "text": [
            "[sudo] contrase\u00f1a para wallabot: \n"
          ]
        }
      ],
      "source": [
        "!sudo !!"
      ]
    },
    {
      "cell_type": "markdown",
      "metadata": {},
      "source": [
        "### Kernel Messages"
      ]
    },
    {
      "cell_type": "markdown",
      "metadata": {},
      "source": [
        "With the `dmesg` command (display kernel ring buffer messages), we can view kernel messages. For example, this is very useful for checking if a USB device has been connected, or for debugging hardware errors on our computer."
      ]
    },
    {
      "cell_type": "code",
      "execution_count": 5,
      "metadata": {},
      "outputs": [
        {
          "name": "stdout",
          "output_type": "stream",
          "text": [
            "[   35.812312] input: LogiOps Virtual Input as /devices/virtual/input/input33\n",
            "[   35.916406] input: LogiOps Virtual Input as /devices/virtual/input/input34\n",
            "[   36.002064] input: LogiOps Virtual Input as /devices/virtual/input/input35\n",
            "[   63.879806] input: MX Master 3 as /devices/virtual/misc/uhid/0005:046D:B023.0006/input/input36\n",
            "[   63.879931] logitech-hidpp-device 0005:046D:B023.0006: input,hidraw3: BLUETOOTH HID v0.15 Keyboard [MX Master 3] on 4c:77:cb:1d:66:d0\n",
            "[   63.902120] logitech-hidpp-device 0005:046D:B023.0006: HID++ 4.5 device connected.\n",
            "[   69.604899] input: MX Keys Keyboard as /devices/virtual/misc/uhid/0005:046D:B35B.0007/input/input37\n",
            "[   69.605221] input: MX Keys Mouse as /devices/virtual/misc/uhid/0005:046D:B35B.0007/input/input38\n",
            "[   69.606204] hid-generic 0005:046D:B35B.0007: input,hidraw4: BLUETOOTH HID v0.13 Keyboard [MX Keys] on 4c:77:cb:1d:66:d0\n",
            "[  188.285030] input: T9 (AVRCP) as /devices/virtual/input/input40\n"
          ]
        }
      ],
      "source": [
        "!dmesg | tail"
      ]
    },
    {
      "cell_type": "markdown",
      "metadata": {},
      "source": [
        "With the `--follow` flag, we can see new messages in real time as they are generated."
      ]
    },
    {
      "cell_type": "code",
      "execution_count": 7,
      "metadata": {},
      "outputs": [
        {
          "name": "stdout",
          "output_type": "stream",
          "text": [
            "\u001b[32m[    0.000000] \u001b[0mLinux version 5.15.0-84-generic (buildd@lcy02-amd64-005) (gcc (Ubuntu 9.4.0-1ubuntu1~20.04.2) 9.4.0, GNU ld (GNU Binutils for Ubuntu) 2.34) #93~20.04.1-Ubuntu SMP Wed Sep 6 16:15:40 UTC 2023 (Ubuntu 5.15.0-84.93~20.04.1-generic 5.15.116)\n",
            "\u001b[32m[    0.000000] \u001b[0m\u001b[33mCommand line\u001b[0m: BOOT_IMAGE=/boot/vmlinuz-5.15.0-84-generic root=UUID=59002381-d88d-44a6-b83d-8c5a226ce058 ro quiet splash vt.handoff=7\n",
            "\u001b[32m[    0.000000] \u001b[0mKERNEL supported cpus:\n",
            "\u001b[32m[    0.000000] \u001b[0m  Intel GenuineIntel\n",
            "\u001b[32m[    0.000000] \u001b[0m  AMD AuthenticAMD\n",
            "\u001b[32m[    0.000000] \u001b[0m  Hygon HygonGenuine\n",
            "\u001b[32m[    0.000000] \u001b[0m  Centaur CentaurHauls\n",
            "\u001b[32m[    0.000000] \u001b[0m  zhaoxin   Shanghai  \n",
            "\u001b[32m[    0.000000] \u001b[0mBIOS-provided physical RAM map:\n",
            "\u001b[32m[    0.000000] \u001b[0m\u001b[33mBIOS-e820\u001b[0m: [mem 0x0000000000000000-0x000000000009ffff] usable\n",
            "\u001b[32m[    0.000000] \u001b[0m\u001b[33mBIOS-e820\u001b[0m: [mem 0x00000000000a0000-0x00000000000fffff] reserved\n",
            "\u001b[32m[    0.000000] \u001b[0m\u001b[33mBIOS-e820\u001b[0m: [mem 0x0000000000100000-0x0000000009d01fff] usable\n",
            "\u001b[32m[    0.000000] \u001b[0m\u001b[33mBIOS-e820\u001b[0m: [mem 0x0000000009d02000-0x0000000009ffffff] reserved\n",
            "\u001b[32m[    0.000000] \u001b[0m\u001b[33mBIOS-e820\u001b[0m: [mem 0x000000000a000000-0x000000000a1fffff] usable\n",
            "\u001b[32m[    0.000000] \u001b[0m\u001b[33mBIOS-e820\u001b[0m: [mem 0x000000000a200000-0x000000000a20bfff] ACPI NVS\n",
            "\u001b[32m[    0.000000] \u001b[0m\u001b[33mBIOS-e820\u001b[0m: [mem 0x000000000a20c000-0x00000000b8983fff] usable\n",
            "\u001b[32m[    0.000000] \u001b[0m\u001b[33mBIOS-e820\u001b[0m: [mem 0x00000000b8984000-0x00000000b8acdfff] reserved\n",
            "\u001b[32m[    0.000000] \u001b[0m\u001b[33mBIOS-e820\u001b[0m: [mem 0x00000000b8ace000-0x00000000b8c56fff] ACPI data\n",
            "\u001b[32m[    0.000000] \u001b[0m\u001b[33mBIOS-e820\u001b[0m: [mem 0x00000000b8c57000-0x00000000b9107fff] ACPI NVS\n",
            "\u001b[32m[    0.000000] \u001b[0m\u001b[33mBIOS-e820\u001b[0m: [mem 0x00000000b9108000-0x00000000ba55cfff] reserved\n",
            "\u001b[32m[    0.000000] \u001b[0m\u001b[33mBIOS-e820\u001b[0m: [mem 0x00000000ba55d000-0x00000000bcffffff] usable\n",
            "\u001b[32m[    0.000000] \u001b[0m\u001b[33mBIOS-e820\u001b[0m: [mem 0x00000000bd000000-0x00000000bfffffff] reserved\n",
            "\u001b[32m[    0.000000] \u001b[0m\u001b[33mBIOS-e820\u001b[0m: [mem 0x00000000f8000000-0x00000000fbffffff] reserved\n",
            "...\n",
            "\u001b[32m[   35.916406] \u001b[0m\u001b[33minput\u001b[0m: LogiOps Virtual Input as /devices/virtual/input/input34\n",
            "\u001b[32m[   36.002064] \u001b[0m\u001b[33minput\u001b[0m: LogiOps Virtual Input as /devices/virtual/input/input35\n",
            "\u001b[32m[   63.879806] \u001b[0m\u001b[33minput\u001b[0m: MX Master 3 as /devices/virtual/misc/uhid/0005:046D:B023.0006/input/input36\n",
            "\u001b[32m[   63.879931] \u001b[0m\u001b[33mlogitech-hidpp-device 0005:046D:B023.0006\u001b[0m: input,hidraw3: BLUETOOTH HID v0.15 Keyboard [MX Master 3] on 4c:77:cb:1d:66:d0\n",
            "\u001b[32m[   63.902120] \u001b[0m\u001b[33mlogitech-hidpp-device 0005:046D:B023.0006\u001b[0m: HID++ 4.5 device connected.\n",
            "\u001b[32m[   69.604899] \u001b[0m\u001b[33minput\u001b[0m: MX Keys Keyboard as /devices/virtual/misc/uhid/0005:046D:B35B.0007/input/input37\n",
            "\u001b[32m[   69.605221] \u001b[0m\u001b[33minput\u001b[0m: MX Keys Mouse as /devices/virtual/misc/uhid/0005:046D:B35B.0007/input/input38\n",
            "\u001b[32m[   69.606204] \u001b[0m\u001b[33mhid-generic 0005:046D:B35B.0007\u001b[0m: input,hidraw4: BLUETOOTH HID v0.13 Keyboard [MX Keys] on 4c:77:cb:1d:66:d0\n",
            "\u001b[32m[  188.285030] \u001b[0m\u001b[33minput\u001b[0m: T9 (AVRCP) as /devices/virtual/input/input40\n"
          ]
        },
        {
          "name": "stdout",
          "output_type": "stream",
          "text": [
            "^C\n"
          ]
        }
      ],
      "source": [
        "!dmesg --follow"
      ]
    },
    {
      "cell_type": "markdown",
      "metadata": {},
      "source": [
        "### Hardware Information"
      ]
    },
    {
      "cell_type": "markdown",
      "metadata": {},
      "source": [
        "With `lshw` we can view information about the hardware of our computer"
      ]
    },
    {
      "cell_type": "code",
      "execution_count": 10,
      "metadata": {},
      "outputs": [
        {
          "name": "stdout",
          "output_type": "stream",
          "text": [
            "AVISO: deber\u00eda ejecutar este programa como superusuario.\n",
            "wallabot                    \n",
            "    descripci\u00f3n: Computer\n",
            "    anchura: 64 bits\n",
            "    capacidades: smp vsyscall32\n",
            "  *-core\n",
            "       descripci\u00f3n: Motherboard\n",
            "       id f\u00edsico: 0\n",
            "     *-memory\n",
            "          descripci\u00f3n: Memoria de sistema\n",
            "          id f\u00edsico: 0\n",
            "          tama\u00f1o: 32GiB\n",
            "...\n",
            "          producto: PnP device PNP0501\n",
            "          id f\u00edsico: 6\n",
            "          capacidades: pnp\n",
            "          configuraci\u00f3n: driver=serial\n",
            "     *-pnp00:05\n",
            "          producto: PnP device PNP0c02\n",
            "          id f\u00edsico: 7\n",
            "          capacidades: pnp\n",
            "          configuraci\u00f3n: driver=system\n",
            "AVISO: la salida puede ser incompleta o imprecisa, deber\u00eda ejecutar este programa como superusuario.\n"
          ]
        }
      ],
      "source": [
        "!lshw"
      ]
    },
    {
      "cell_type": "markdown",
      "metadata": {},
      "source": [
        "### Cowsay"
      ]
    },
    {
      "cell_type": "markdown",
      "metadata": {},
      "source": [
        "There is a command called `cowsay` to which you pass a text as a parameter and it draws a cow saying that text.",
        "\n",
        "It may not be installed, so to install it, you have to enter the command",
        "\n",
        "``` bash\n",
        "sudo apt install cowsay",
        "```"
      ]
    },
    {
      "cell_type": "code",
      "execution_count": 12,
      "metadata": {},
      "outputs": [
        {
          "name": "stdout",
          "output_type": "stream",
          "text": [
            " __________\n",
            "< MaximoFN >\n",
            " ----------\n",
            "        \\   ^__^\n",
            "         \\  (oo)\\_______\n",
            "            (__)\\       )\\/\\\n",
            "                ||----w |\n",
            "                ||     ||\n",
            "\n"
          ]
        }
      ],
      "source": [
        "terminal(\"cowsay MaximoFN\")"
      ]
    },
    {
      "cell_type": "markdown",
      "metadata": {},
      "source": [
        "If you add the flag `-f dragon` the one who says it is a dragon."
      ]
    },
    {
      "cell_type": "code",
      "execution_count": 15,
      "metadata": {},
      "outputs": [
        {
          "name": "stdout",
          "output_type": "stream",
          "text": [
            " __________\n",
            "< MaximoFN >\n",
            " ----------\n",
            "      \\                    / \\  //\\\n",
            "       \\    |\\___/|      /   \\//  \\\\\n",
            "            /0  0  \\__  /    //  | \\ \\    \n",
            "           /     /  \\/_/    //   |  \\  \\  \n",
            "           @_^_@'/   \\/_   //    |   \\   \\ \n",
            "           //_^_/     \\/_ //     |    \\    \\\n",
            "        ( //) |        \\///      |     \\     \\\n",
            "      ( / /) _|_ /   )  //       |      \\     _\\\n",
            "    ( // /) '/,_ _ _/  ( ; -.    |    _ _\\.-~        .-~~~^-.\n",
            "  (( / / )) ,-{        _      `-.|.-~-.           .~         `.\n",
            " (( // / ))  '/\\      /                 ~-. _ .-~      .-~^-.  \\\n",
            " (( /// ))      `.   {            }                   /      \\  \\\n",
            "  (( / ))     .----~-.\\        \\-'                 .~         \\  `. \\^-.\n",
            "             ///.----..>        \\             _ -~             `.  ^-`  ^-_\n",
            "               ///-._ _ _ _ _ _ _}^ - - - - ~                     ~-- ,.-~\n",
            "                                                                  /.-~\n",
            "\n"
          ]
        }
      ],
      "source": [
        "terminal(\"cowsay -f dragon MaximoFN\")"
      ]
    },
    {
      "cell_type": "code",
      "execution_count": 14,
      "metadata": {},
      "outputs": [
        {
          "name": "stdout",
          "output_type": "stream",
          "text": [
            " __________\n",
            "< MaximoFN >\n",
            " ----------\n",
            "                       \\                    ^    /^\n",
            "                        \\                  / \\  // \\\n",
            "                         \\   |\\___/|      /   \\//  .\\\n",
            "                          \\  /O  O  \\__  /    //  | \\ \\           *----*\n",
            "                            /     /  \\/_/    //   |  \\  \\          \\   |\n",
            "                            @___@`    \\/_   //    |   \\   \\         \\/\\ \\\n",
            "                           0/0/|       \\/_ //     |    \\    \\         \\  \\\n",
            "                       0/0/0/0/|        \\///      |     \\     \\       |  |\n",
            "                    0/0/0/0/0/_|_ /   (  //       |      \\     _\\     |  /\n",
            "                 0/0/0/0/0/0/`/,_ _ _/  ) ; -.    |    _ _\\.-~       /   /\n",
            "                             ,-}        _      *-.|.-~-.           .~    ~\n",
            "            \\     \\__/        `/\\      /                 ~-. _ .-~      /\n",
            "             \\____(oo)           *.   }            {                   /\n",
            "             (    (--)          .----~-.\\        \\-`                 .~\n",
            "             //__\\\\  \\__ Ack!   ///.----..<        \\             _ -~\n",
            "            //    \\\\               ///-._ _ _ _ _ _ _{^ - - - - ~\n",
            "\n"
          ]
        }
      ],
      "source": [
        "terminal(\"cowsay -f dragon-and-cow MaximoFN\")"
      ]
    },
    {
      "cell_type": "markdown",
      "metadata": {},
      "source": [
        "## Cleaning"
      ]
    },
    {
      "cell_type": "markdown",
      "metadata": {},
      "source": [
        "Since the folder `prueba` has been created, we delete it to leave everything as we found it."
      ]
    },
    {
      "cell_type": "code",
      "execution_count": 1,
      "metadata": {},
      "outputs": [],
      "source": [
        "!rm -r prueba"
      ]
    }
  ],
  "metadata": {
    "kernelspec": {
      "display_name": "base",
      "language": "python",
      "name": "python3"
    },
    "language_info": {
      "codemirror_mode": {
        "name": "ipython",
        "version": 3
      },
      "file_extension": ".py",
      "mimetype": "text/x-python",
      "name": "python",
      "nbconvert_exporter": "python",
      "pygments_lexer": "ipython3",
      "version": "3.10.9"
    },
    "maximofn": {
      "date": "2021-09-12",
      "description_en": "\ud83d\udfe2 Feel like a real hacker \ud83d\udda5 knowing everything about the terminal \ud83d\udcbb. Get inside and start handling \u2328 the terminal like a pro.",
      "description_es": "\ud83d\udfe2 Si\u00e9ntete como un verdadero hacker \ud83d\udda5 sabi\u00e9ndolo todo sobre la terminal \ud83d\udcbb. Entra y comienza a manejar \u2328 la terminal como un profesional",
      "description_pt": "\ud83d\udfe2 Sinta-se como um verdadeiro hacker \ud83d\udda5 sabendo tudo sobre o terminal \ud83d\udcbb. Entre e comece a operar \u2328 o terminal como um profissional.",
      "end_url": "terminal",
      "image": "https://images.maximofn.com/terminal.webp",
      "image_hover_path": "https://images.maximofn.com/terminal.webp",
      "keywords_en": "terminal, linux, commands, bash, shell, console",
      "keywords_es": "terminal, linux, comandos, bash, shell, consola",
      "keywords_pt": "terminal, linux, comandos, bash, shell, console",
      "title_en": "Terminal",
      "title_es": "Terminal",
      "title_pt": "Terminal"
    },
    "orig_nbformat": 4,
    "vscode": {
      "interpreter": {
        "hash": "b2af3135499c4cc4659220baa8d57d20fd35a58497fd7648737e38d0561042d8"
      }
    }
  },
  "nbformat": 4,
  "nbformat_minor": 2
}