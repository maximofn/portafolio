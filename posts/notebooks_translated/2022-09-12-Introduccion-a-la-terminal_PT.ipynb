{
  "cells": [
    {
      "cell_type": "markdown",
      "metadata": {},
      "source": [
        "# Introdu\u00e7\u00e3o ao terminal"
      ]
    },
    {
      "cell_type": "markdown",
      "metadata": {},
      "source": [
        " > Aviso: Este post foi traduzido para o portugu\u00eas usando um modelo de tradu\u00e7\u00e3o autom\u00e1tica. Por favor, me avise se encontrar algum erro."
      ]
    },
    {
      "cell_type": "markdown",
      "metadata": {},
      "source": [
        "## Formato do post"
      ]
    },
    {
      "cell_type": "markdown",
      "metadata": {},
      "source": [
        "Para n\u00e3o ter que ficar colocando imagens do console em cada a\u00e7\u00e3o que fa\u00e7o, criei a seguinte fun\u00e7\u00e3o que recebe o comando do terminal que queremos executar e devolve a sa\u00edda que o terminal nos daria.",
        "\n",
        "\u00c0s vezes usarei esta fun\u00e7\u00e3o, e outras usarei `!` antes de cada comando, que em notebooks quer dizer que voc\u00ea vai executar um comando do terminal."
      ]
    },
    {
      "cell_type": "code",
      "execution_count": 1,
      "metadata": {},
      "outputs": [],
      "source": [
        "import subprocess\n",
        "import os\n",
        "\n",
        "last_directory = ''\n",
        "\n",
        "def terminal(command, max_lines_output=None):\n",
        "    global last_directory\n",
        "    debug = False\n",
        "    str = command.split()\n",
        "\n",
        "    # Check if there are \" or ' characters\n",
        "    for i in range(len(str)):\n",
        "        if debug:   print(f\"i = {i}, str[i] = {str[i]}\")\n",
        "        if len(str[i]) > 0:\n",
        "            if str[i][0] == '\"' or str[i][0] == \"'\":\n",
        "                for j in range(i+1,len(str)):\n",
        "                    if debug:   print(f\"\\t j = {j}, str[j] = {str[j]}\")\n",
        "                    if str[j][-1] == '\"' or str[j][-1] == \"'\":\n",
        "                        for k in range(i+1,j+1):\n",
        "                            if debug:   print(f\"\\t\\t k = {k}, str[i] = {str[i]}, str[k] = {str[k]}\")\n",
        "                            str[i] = str[i] + \" \" + str[k]\n",
        "                            if debug:   print(f\"\\t\\t k = {k}, str[i] = {str[i]}, str[k] = {str[k]}\")\n",
        "                        str[j:] = [\"\"]\n",
        "                        str[i] = str[i].replace('\"','')\n",
        "    \n",
        "    # Remove empty strings\n",
        "    str = [x for x in str if x != \"\"]\n",
        "    if debug:\n",
        "        print(str)\n",
        "        return\n",
        "    if str[0] == \"cd\":\n",
        "        last_dir = os.getcwd()\n",
        "        if len(str) == 1:\n",
        "            os.chdir('/home/wallabot')\n",
        "        else:\n",
        "            if str[1] == \"-\":\n",
        "                os.chdir(last_directory)\n",
        "            else:\n",
        "                os.chdir(str[1])\n",
        "        last_directory = last_dir\n",
        "    else:\n",
        "        result = subprocess.run(str, stdout=subprocess.PIPE).stdout.decode('utf-8')\n",
        "        if max_lines_output is not None:\n",
        "            result_split = result.split('\\n')\n",
        "            print('\\n'.join(result_split[:max_lines_output]))\n",
        "            print(\"\\t ...\")\n",
        "            print('\\n'.join(result_split[-5:]))\n",
        "        else:\n",
        "            print(result)"
      ]
    },
    {
      "cell_type": "markdown",
      "metadata": {},
      "source": [
        "## Primeiros comandos para se movimentar pelo terminal"
      ]
    },
    {
      "cell_type": "markdown",
      "metadata": {},
      "source": [
        "### `ls` (listar diret\u00f3rio)"
      ]
    },
    {
      "cell_type": "markdown",
      "metadata": {},
      "source": [
        "O primeiro comando que vamos ver \u00e9 `ls` (list directory) que serve para listar todos os arquivos da pasta em que estamos."
      ]
    },
    {
      "cell_type": "code",
      "execution_count": 2,
      "metadata": {},
      "outputs": [
        {
          "name": "stdout",
          "output_type": "stream",
          "text": [
            "2021-02-11-Introduccion-a-Python.ipynb\n",
            "2021-04-23-Calculo-matricial-con-Numpy.ipynb\n",
            "2021-06-15-Manejo-de-datos-con-Pandas.ipynb\n",
            "2022-09-12 Introduccion a la terminal.ipynb\n",
            "2022-09-12 Introduccion a la terminal.txt\n",
            "command-line-cheat-sheet.pdf\n",
            "CSS.ipynb\n",
            "Docker.html\n",
            "Docker.ipynb\n",
            "Expresiones regulares.html\n",
            "Expresiones regulares.ipynb\n",
            "html_files\n",
            "html.ipynb\n",
            "introduccion_python\n",
            "movies.csv\n",
            "movies.dat\n",
            "notebooks_translated\n",
            "__pycache__\n",
            "ssh.ipynb\n",
            "test.html\n",
            "test.ipynb\n",
            "\n"
          ]
        }
      ],
      "source": [
        "terminal(\"ls\")"
      ]
    },
    {
      "cell_type": "markdown",
      "metadata": {},
      "source": [
        "Os comandos normalmente podem receber op\u00e7\u00f5es (`flags`), que s\u00e3o introduzidas com o caractere `-`, por exemplo vejamos `ls -l` que nos retorna a lista de arquivos do diret\u00f3rio em que estamos, mas com mais informa\u00e7\u00f5es."
      ]
    },
    {
      "cell_type": "code",
      "execution_count": 3,
      "metadata": {},
      "outputs": [
        {
          "name": "stdout",
          "output_type": "stream",
          "text": [
            "total 4512\n",
            "-rw-rw-r-- 1 wallabot wallabot 285898 nov 12 02:07 2021-02-11-Introduccion-a-Python.ipynb\n",
            "-rw-rw-r-- 1 wallabot wallabot  78450 nov 13 00:10 2021-04-23-Calculo-matricial-con-Numpy.ipynb\n",
            "-rw-rw-r-- 1 wallabot wallabot 484213 nov 13 00:44 2021-06-15-Manejo-de-datos-con-Pandas.ipynb\n",
            "-rw-rw-r-- 1 wallabot wallabot 320810 dic  6 00:11 2022-09-12 Introduccion a la terminal.ipynb\n",
            "-rw-rw-r-- 1 wallabot wallabot 320594 dic  6 00:04 2022-09-12 Introduccion a la terminal.txt\n",
            "-rw-rw-r-- 1 wallabot wallabot 119471 oct  3 16:13 command-line-cheat-sheet.pdf\n",
            "-rw-rw-r-- 1 wallabot wallabot   2660 sep 18 03:32 CSS.ipynb\n",
            "-rw-rw-r-- 1 wallabot wallabot 699225 nov 27 04:16 Docker.html\n",
            "-rw-rw-r-- 1 wallabot wallabot 509125 sep 22 16:48 Docker.ipynb\n",
            "-rw-rw-r-- 1 wallabot wallabot 156193 nov 27 04:21 Expresiones regulares.html\n",
            "-rw-rw-r-- 1 wallabot wallabot  53094 oct  2 04:57 Expresiones regulares.ipynb\n",
            "drwxrwxr-x 2 wallabot wallabot   4096 nov 28 14:39 html_files\n",
            "-rw-rw-r-- 1 wallabot wallabot  14775 sep 18 03:29 html.ipynb\n",
            "drwxrwxr-x 3 wallabot wallabot   4096 nov 12 01:51 introduccion_python\n",
            "-rw-rw-r-- 1 wallabot wallabot 446172 oct  2 04:39 movies.csv\n",
            "-rw-rw-r-- 1 wallabot wallabot 522197 oct  2 04:33 movies.dat\n",
            "drwxrwxr-x 2 wallabot wallabot   4096 nov 28 14:39 notebooks_translated\n",
            "drwxrwxr-x 2 wallabot wallabot   4096 ago 27 03:25 __pycache__\n",
            "-rw-rw-r-- 1 wallabot wallabot    586 dic  4 02:31 ssh.ipynb\n",
            "-rw-rw-r-- 1 wallabot wallabot 292936 nov  9 01:46 test.html\n",
            "-rw-rw-r-- 1 wallabot wallabot 260227 nov  9 01:13 test.ipynb\n",
            "\n"
          ]
        }
      ],
      "source": [
        "terminal('ls -l')"
      ]
    },
    {
      "cell_type": "markdown",
      "metadata": {},
      "source": [
        "Como vemos, temos quantos bytes ocupa cada arquivo, mas quando temos arquivos que ocupam muito isto n\u00e3o \u00e9 muito f\u00e1cil de ler, ent\u00e3o podemos adicionar a op\u00e7\u00e3o `h` (`human`) que nos d\u00e1 informa\u00e7\u00f5es mais f\u00e1ceis de ler"
      ]
    },
    {
      "cell_type": "code",
      "execution_count": 4,
      "metadata": {},
      "outputs": [
        {
          "name": "stdout",
          "output_type": "stream",
          "text": [
            "total 4,5M\n",
            "-rw-rw-r-- 1 wallabot wallabot 280K nov 12 02:07 2021-02-11-Introduccion-a-Python.ipynb\n",
            "-rw-rw-r-- 1 wallabot wallabot  77K nov 13 00:10 2021-04-23-Calculo-matricial-con-Numpy.ipynb\n",
            "-rw-rw-r-- 1 wallabot wallabot 473K nov 13 00:44 2021-06-15-Manejo-de-datos-con-Pandas.ipynb\n",
            "-rw-rw-r-- 1 wallabot wallabot 314K dic  6 00:11 2022-09-12 Introduccion a la terminal.ipynb\n",
            "-rw-rw-r-- 1 wallabot wallabot 314K dic  6 00:04 2022-09-12 Introduccion a la terminal.txt\n",
            "-rw-rw-r-- 1 wallabot wallabot 117K oct  3 16:13 command-line-cheat-sheet.pdf\n",
            "-rw-rw-r-- 1 wallabot wallabot 2,6K sep 18 03:32 CSS.ipynb\n",
            "-rw-rw-r-- 1 wallabot wallabot 683K nov 27 04:16 Docker.html\n",
            "-rw-rw-r-- 1 wallabot wallabot 498K sep 22 16:48 Docker.ipynb\n",
            "-rw-rw-r-- 1 wallabot wallabot 153K nov 27 04:21 Expresiones regulares.html\n",
            "-rw-rw-r-- 1 wallabot wallabot  52K oct  2 04:57 Expresiones regulares.ipynb\n",
            "drwxrwxr-x 2 wallabot wallabot 4,0K nov 28 14:39 html_files\n",
            "-rw-rw-r-- 1 wallabot wallabot  15K sep 18 03:29 html.ipynb\n",
            "drwxrwxr-x 3 wallabot wallabot 4,0K nov 12 01:51 introduccion_python\n",
            "-rw-rw-r-- 1 wallabot wallabot 436K oct  2 04:39 movies.csv\n",
            "-rw-rw-r-- 1 wallabot wallabot 510K oct  2 04:33 movies.dat\n",
            "drwxrwxr-x 2 wallabot wallabot 4,0K nov 28 14:39 notebooks_translated\n",
            "drwxrwxr-x 2 wallabot wallabot 4,0K ago 27 03:25 __pycache__\n",
            "-rw-rw-r-- 1 wallabot wallabot  586 dic  4 02:31 ssh.ipynb\n",
            "-rw-rw-r-- 1 wallabot wallabot 287K nov  9 01:46 test.html\n",
            "-rw-rw-r-- 1 wallabot wallabot 255K nov  9 01:13 test.ipynb\n",
            "\n"
          ]
        }
      ],
      "source": [
        "terminal('ls -lh')"
      ]
    },
    {
      "cell_type": "markdown",
      "metadata": {},
      "source": [
        "Se quisermos ver os arquivos ocultos, podemos usar a op\u00e7\u00e3o `a`, que nos mostrar\u00e1 todos os arquivos de um diret\u00f3rio"
      ]
    },
    {
      "cell_type": "code",
      "execution_count": 5,
      "metadata": {},
      "outputs": [
        {
          "name": "stdout",
          "output_type": "stream",
          "text": [
            "total 4,5M\n",
            "drwxrwxr-x 6 wallabot wallabot 4,0K dic  6 00:04 .\n",
            "drwxrwxr-x 5 wallabot wallabot 4,0K oct  2 03:10 ..\n",
            "-rw-rw-r-- 1 wallabot wallabot 280K nov 12 02:07 2021-02-11-Introduccion-a-Python.ipynb\n",
            "-rw-rw-r-- 1 wallabot wallabot  77K nov 13 00:10 2021-04-23-Calculo-matricial-con-Numpy.ipynb\n",
            "-rw-rw-r-- 1 wallabot wallabot 473K nov 13 00:44 2021-06-15-Manejo-de-datos-con-Pandas.ipynb\n",
            "-rw-rw-r-- 1 wallabot wallabot 314K dic  6 00:11 2022-09-12 Introduccion a la terminal.ipynb\n",
            "-rw-rw-r-- 1 wallabot wallabot 314K dic  6 00:04 2022-09-12 Introduccion a la terminal.txt\n",
            "-rw-rw-r-- 1 wallabot wallabot 117K oct  3 16:13 command-line-cheat-sheet.pdf\n",
            "-rw-rw-r-- 1 wallabot wallabot 2,6K sep 18 03:32 CSS.ipynb\n",
            "-rw-rw-r-- 1 wallabot wallabot 683K nov 27 04:16 Docker.html\n",
            "-rw-rw-r-- 1 wallabot wallabot 498K sep 22 16:48 Docker.ipynb\n",
            "-rw-rw-r-- 1 wallabot wallabot 153K nov 27 04:21 Expresiones regulares.html\n",
            "-rw-rw-r-- 1 wallabot wallabot  52K oct  2 04:57 Expresiones regulares.ipynb\n",
            "drwxrwxr-x 2 wallabot wallabot 4,0K nov 28 14:39 html_files\n",
            "-rw-rw-r-- 1 wallabot wallabot  15K sep 18 03:29 html.ipynb\n",
            "drwxrwxr-x 3 wallabot wallabot 4,0K nov 12 01:51 introduccion_python\n",
            "-rw-rw-r-- 1 wallabot wallabot 436K oct  2 04:39 movies.csv\n",
            "-rw-rw-r-- 1 wallabot wallabot 510K oct  2 04:33 movies.dat\n",
            "drwxrwxr-x 2 wallabot wallabot 4,0K nov 28 14:39 notebooks_translated\n",
            "drwxrwxr-x 2 wallabot wallabot 4,0K ago 27 03:25 __pycache__\n",
            "-rw-rw-r-- 1 wallabot wallabot  586 dic  4 02:31 ssh.ipynb\n",
            "-rw-rw-r-- 1 wallabot wallabot 287K nov  9 01:46 test.html\n",
            "-rw-rw-r-- 1 wallabot wallabot 255K nov  9 01:13 test.ipynb\n",
            "\n"
          ]
        }
      ],
      "source": [
        "terminal('ls -lha')"
      ]
    },
    {
      "cell_type": "markdown",
      "metadata": {},
      "source": [
        "Se o que queremos \u00e9 que ele ordene por tamanho, podemos usar a op\u00e7\u00e3o `S`"
      ]
    },
    {
      "cell_type": "code",
      "execution_count": 6,
      "metadata": {},
      "outputs": [
        {
          "name": "stdout",
          "output_type": "stream",
          "text": [
            "total 4,5M\n",
            "-rw-rw-r-- 1 wallabot wallabot 683K nov 27 04:16 Docker.html\n",
            "-rw-rw-r-- 1 wallabot wallabot 510K oct  2 04:33 movies.dat\n",
            "-rw-rw-r-- 1 wallabot wallabot 498K sep 22 16:48 Docker.ipynb\n",
            "-rw-rw-r-- 1 wallabot wallabot 473K nov 13 00:44 2021-06-15-Manejo-de-datos-con-Pandas.ipynb\n",
            "-rw-rw-r-- 1 wallabot wallabot 436K oct  2 04:39 movies.csv\n",
            "-rw-rw-r-- 1 wallabot wallabot 314K dic  6 00:11 2022-09-12 Introduccion a la terminal.ipynb\n",
            "-rw-rw-r-- 1 wallabot wallabot 314K dic  6 00:04 2022-09-12 Introduccion a la terminal.txt\n",
            "-rw-rw-r-- 1 wallabot wallabot 287K nov  9 01:46 test.html\n",
            "-rw-rw-r-- 1 wallabot wallabot 280K nov 12 02:07 2021-02-11-Introduccion-a-Python.ipynb\n",
            "-rw-rw-r-- 1 wallabot wallabot 255K nov  9 01:13 test.ipynb\n",
            "-rw-rw-r-- 1 wallabot wallabot 153K nov 27 04:21 Expresiones regulares.html\n",
            "-rw-rw-r-- 1 wallabot wallabot 117K oct  3 16:13 command-line-cheat-sheet.pdf\n",
            "-rw-rw-r-- 1 wallabot wallabot  77K nov 13 00:10 2021-04-23-Calculo-matricial-con-Numpy.ipynb\n",
            "-rw-rw-r-- 1 wallabot wallabot  52K oct  2 04:57 Expresiones regulares.ipynb\n",
            "-rw-rw-r-- 1 wallabot wallabot  15K sep 18 03:29 html.ipynb\n",
            "drwxrwxr-x 2 wallabot wallabot 4,0K nov 28 14:39 html_files\n",
            "drwxrwxr-x 3 wallabot wallabot 4,0K nov 12 01:51 introduccion_python\n",
            "drwxrwxr-x 2 wallabot wallabot 4,0K nov 28 14:39 notebooks_translated\n",
            "drwxrwxr-x 2 wallabot wallabot 4,0K ago 27 03:25 __pycache__\n",
            "-rw-rw-r-- 1 wallabot wallabot 2,6K sep 18 03:32 CSS.ipynb\n",
            "-rw-rw-r-- 1 wallabot wallabot  586 dic  4 02:31 ssh.ipynb\n",
            "\n"
          ]
        }
      ],
      "source": [
        "terminal('ls -lhS')"
      ]
    },
    {
      "cell_type": "markdown",
      "metadata": {},
      "source": [
        "Se quisermos que nos mostre os arquivos ordenados alfabeticamente, mas ao contr\u00e1rio, devemos usar a op\u00e7\u00e3o `-r`"
      ]
    },
    {
      "cell_type": "code",
      "execution_count": 7,
      "metadata": {},
      "outputs": [
        {
          "name": "stdout",
          "output_type": "stream",
          "text": [
            "total 4,5M\n",
            "-rw-rw-r-- 1 wallabot wallabot 255K nov  9 01:13 test.ipynb\n",
            "-rw-rw-r-- 1 wallabot wallabot 287K nov  9 01:46 test.html\n",
            "-rw-rw-r-- 1 wallabot wallabot  586 dic  4 02:31 ssh.ipynb\n",
            "drwxrwxr-x 2 wallabot wallabot 4,0K ago 27 03:25 __pycache__\n",
            "drwxrwxr-x 2 wallabot wallabot 4,0K nov 28 14:39 notebooks_translated\n",
            "-rw-rw-r-- 1 wallabot wallabot 510K oct  2 04:33 movies.dat\n",
            "-rw-rw-r-- 1 wallabot wallabot 436K oct  2 04:39 movies.csv\n",
            "drwxrwxr-x 3 wallabot wallabot 4,0K nov 12 01:51 introduccion_python\n",
            "-rw-rw-r-- 1 wallabot wallabot  15K sep 18 03:29 html.ipynb\n",
            "drwxrwxr-x 2 wallabot wallabot 4,0K nov 28 14:39 html_files\n",
            "-rw-rw-r-- 1 wallabot wallabot  52K oct  2 04:57 Expresiones regulares.ipynb\n",
            "-rw-rw-r-- 1 wallabot wallabot 153K nov 27 04:21 Expresiones regulares.html\n",
            "-rw-rw-r-- 1 wallabot wallabot 498K sep 22 16:48 Docker.ipynb\n",
            "-rw-rw-r-- 1 wallabot wallabot 683K nov 27 04:16 Docker.html\n",
            "-rw-rw-r-- 1 wallabot wallabot 2,6K sep 18 03:32 CSS.ipynb\n",
            "-rw-rw-r-- 1 wallabot wallabot 117K oct  3 16:13 command-line-cheat-sheet.pdf\n",
            "-rw-rw-r-- 1 wallabot wallabot 314K dic  6 00:04 2022-09-12 Introduccion a la terminal.txt\n",
            "-rw-rw-r-- 1 wallabot wallabot 314K dic  6 00:11 2022-09-12 Introduccion a la terminal.ipynb\n",
            "-rw-rw-r-- 1 wallabot wallabot 473K nov 13 00:44 2021-06-15-Manejo-de-datos-con-Pandas.ipynb\n",
            "-rw-rw-r-- 1 wallabot wallabot  77K nov 13 00:10 2021-04-23-Calculo-matricial-con-Numpy.ipynb\n",
            "-rw-rw-r-- 1 wallabot wallabot 280K nov 12 02:07 2021-02-11-Introduccion-a-Python.ipynb\n",
            "\n"
          ]
        }
      ],
      "source": [
        "terminal('ls -lhr')"
      ]
    },
    {
      "cell_type": "markdown",
      "metadata": {},
      "source": [
        "### `cd` (change directory)"
      ]
    },
    {
      "cell_type": "markdown",
      "metadata": {},
      "source": [
        "O segundo comando ser\u00e1 `cd` (change directory) que nos permite mudar de diret\u00f3rio"
      ]
    },
    {
      "cell_type": "code",
      "execution_count": 8,
      "metadata": {},
      "outputs": [],
      "source": [
        "terminal('cd /home/wallabot/Documentos/')"
      ]
    },
    {
      "cell_type": "markdown",
      "metadata": {},
      "source": [
        "Se agora usarmos `ls` para ver os arquivos que temos, vemos que mudam"
      ]
    },
    {
      "cell_type": "code",
      "execution_count": 9,
      "metadata": {},
      "outputs": [
        {
          "name": "stdout",
          "output_type": "stream",
          "text": [
            "aprendiendo-git.pdf\n",
            "balena-etcher-electron-1.7.9-linux-x64\n",
            "camerasIP\n",
            "Documentacion\n",
            "gstreamer\n",
            "gstreamer_old\n",
            "jetsonNano\n",
            "kaggle\n",
            "Libros\n",
            "nerf\n",
            "prueba.txt\n",
            "pytorch\n",
            "wallabot\n",
            "web\n",
            "\n"
          ]
        }
      ],
      "source": [
        "terminal('ls')"
      ]
    },
    {
      "cell_type": "markdown",
      "metadata": {},
      "source": [
        "Se ao `cd`, em vez de lhe dar o diret\u00f3rio para o qual queremos mover, dermos o caractere `-`, ele voltar\u00e1 ao diret\u00f3rio anterior onde est\u00e1vamos."
      ]
    },
    {
      "cell_type": "code",
      "execution_count": 10,
      "metadata": {},
      "outputs": [],
      "source": [
        "terminal('cd -')"
      ]
    },
    {
      "cell_type": "code",
      "execution_count": 11,
      "metadata": {},
      "outputs": [
        {
          "name": "stdout",
          "output_type": "stream",
          "text": [
            "2021-02-11-Introduccion-a-Python.ipynb\n",
            "2021-04-23-Calculo-matricial-con-Numpy.ipynb\n",
            "2021-06-15-Manejo-de-datos-con-Pandas.ipynb\n",
            "2022-09-12 Introduccion a la terminal.ipynb\n",
            "2022-09-12 Introduccion a la terminal.txt\n",
            "command-line-cheat-sheet.pdf\n",
            "CSS.ipynb\n",
            "Docker.html\n",
            "Docker.ipynb\n",
            "Expresiones regulares.html\n",
            "Expresiones regulares.ipynb\n",
            "html_files\n",
            "html.ipynb\n",
            "introduccion_python\n",
            "movies.csv\n",
            "movies.dat\n",
            "notebooks_translated\n",
            "__pycache__\n",
            "ssh.ipynb\n",
            "test.html\n",
            "test.ipynb\n",
            "\n"
          ]
        }
      ],
      "source": [
        "terminal('ls')"
      ]
    },
    {
      "cell_type": "markdown",
      "metadata": {},
      "source": [
        "Se quisermos ir para o `home`, basta introduzir `cd` no terminal e ele nos levar\u00e1."
      ]
    },
    {
      "cell_type": "code",
      "execution_count": 12,
      "metadata": {},
      "outputs": [],
      "source": [
        "terminal('cd')"
      ]
    },
    {
      "cell_type": "markdown",
      "metadata": {},
      "source": [
        "### `pwd` (imprimir diret\u00f3rio de trabalho)"
      ]
    },
    {
      "cell_type": "markdown",
      "metadata": {},
      "source": [
        "Para obter o diret\u00f3rio em que estamos, podemos usar `pwd` (print working directory)"
      ]
    },
    {
      "cell_type": "code",
      "execution_count": 15,
      "metadata": {},
      "outputs": [
        {
          "name": "stdout",
          "output_type": "stream",
          "text": [
            "/home/wallabot\n",
            "\n"
          ]
        }
      ],
      "source": [
        "terminal('pwd')"
      ]
    },
    {
      "cell_type": "markdown",
      "metadata": {},
      "source": [
        "Podemos movernos mediante o comando `cd` mediante rotas relativas e mediante rotas absolutas. Por exemplo, vamos mover-nos a um diret\u00f3rio mediante uma rota absoluta."
      ]
    },
    {
      "cell_type": "code",
      "execution_count": 16,
      "metadata": {},
      "outputs": [],
      "source": [
        "terminal('cd /home/wallabot/Documentos/')"
      ]
    },
    {
      "cell_type": "code",
      "execution_count": 17,
      "metadata": {},
      "outputs": [
        {
          "name": "stdout",
          "output_type": "stream",
          "text": [
            "/home/wallabot/Documentos\n",
            "\n"
          ]
        }
      ],
      "source": [
        "terminal('pwd')"
      ]
    },
    {
      "cell_type": "code",
      "execution_count": 18,
      "metadata": {},
      "outputs": [
        {
          "name": "stdout",
          "output_type": "stream",
          "text": [
            "aprendiendo-git.pdf\n",
            "balena-etcher-electron-1.7.9-linux-x64\n",
            "camerasIP\n",
            "Documentacion\n",
            "gstreamer\n",
            "gstreamer_old\n",
            "jetsonNano\n",
            "kaggle\n",
            "Libros\n",
            "nerf\n",
            "prueba.txt\n",
            "pytorch\n",
            "wallabot\n",
            "web\n",
            "\n"
          ]
        }
      ],
      "source": [
        "terminal('ls')"
      ]
    },
    {
      "cell_type": "markdown",
      "metadata": {},
      "source": [
        "Podemos mover-nos por rotas relativas se apenas colocarmos o endere\u00e7o a partir do ponto em que nos encontramos"
      ]
    },
    {
      "cell_type": "code",
      "execution_count": 19,
      "metadata": {},
      "outputs": [],
      "source": [
        "terminal('cd web')"
      ]
    },
    {
      "cell_type": "code",
      "execution_count": 20,
      "metadata": {},
      "outputs": [
        {
          "name": "stdout",
          "output_type": "stream",
          "text": [
            "/home/wallabot/Documentos/web\n",
            "\n"
          ]
        }
      ],
      "source": [
        "terminal('pwd')"
      ]
    },
    {
      "cell_type": "markdown",
      "metadata": {},
      "source": [
        "Tamb\u00e9m podemos subir um diret\u00f3rio usando `..` atrav\u00e9s de rotas relativas."
      ]
    },
    {
      "cell_type": "code",
      "execution_count": 21,
      "metadata": {},
      "outputs": [],
      "source": [
        "terminal('cd ..')"
      ]
    },
    {
      "cell_type": "code",
      "execution_count": 22,
      "metadata": {},
      "outputs": [
        {
          "name": "stdout",
          "output_type": "stream",
          "text": [
            "/home/wallabot/Documentos\n",
            "\n"
          ]
        }
      ],
      "source": [
        "terminal('pwd')"
      ]
    },
    {
      "cell_type": "markdown",
      "metadata": {},
      "source": [
        "Se em vez de `..` colocarmos `.` estamos nos referindo ao diret\u00f3rio em que nos encontramos agora mesmo, ou seja, se colocarmos `cd .` n\u00e3o nos moveremos, pois estamos dizendo ao terminal para ir ao diret\u00f3rio em que estamos."
      ]
    },
    {
      "cell_type": "code",
      "execution_count": 23,
      "metadata": {},
      "outputs": [],
      "source": [
        "terminal('cd .')"
      ]
    },
    {
      "cell_type": "code",
      "execution_count": 24,
      "metadata": {},
      "outputs": [
        {
          "name": "stdout",
          "output_type": "stream",
          "text": [
            "/home/wallabot/Documentos\n",
            "\n"
          ]
        }
      ],
      "source": [
        "terminal('pwd')"
      ]
    },
    {
      "cell_type": "markdown",
      "metadata": {},
      "source": [
        "Vamos nos mover para um caminho onde tenhamos arquivos para mostrar o seguinte comando"
      ]
    },
    {
      "cell_type": "code",
      "execution_count": 25,
      "metadata": {},
      "outputs": [],
      "source": [
        "terminal('cd web/portafolio/posts/')"
      ]
    },
    {
      "cell_type": "code",
      "execution_count": 26,
      "metadata": {},
      "outputs": [
        {
          "name": "stdout",
          "output_type": "stream",
          "text": [
            "2021-02-11-Introduccion-a-Python.ipynb\n",
            "2021-04-23-Calculo-matricial-con-Numpy.ipynb\n",
            "2021-06-15-Manejo-de-datos-con-Pandas.ipynb\n",
            "2022-09-12 Introduccion a la terminal.ipynb\n",
            "2022-09-12 Introduccion a la terminal.txt\n",
            "command-line-cheat-sheet.pdf\n",
            "CSS.ipynb\n",
            "Docker.html\n",
            "Docker.ipynb\n",
            "Expresiones regulares.html\n",
            "Expresiones regulares.ipynb\n",
            "html_files\n",
            "html.ipynb\n",
            "introduccion_python\n",
            "movies.csv\n",
            "movies.dat\n",
            "notebooks_translated\n",
            "__pycache__\n",
            "ssh.ipynb\n",
            "test.html\n",
            "test.ipynb\n",
            "\n"
          ]
        }
      ],
      "source": [
        "terminal('ls')"
      ]
    },
    {
      "cell_type": "markdown",
      "metadata": {},
      "source": [
        "### Informa\u00e7\u00f5es dos arquivos com `file`"
      ]
    },
    {
      "cell_type": "markdown",
      "metadata": {},
      "source": [
        "Se eu n\u00e3o souber que tipo de arquivo \u00e9 algum em particular, atrav\u00e9s do comando `file` posso obter uma descri\u00e7\u00e3o"
      ]
    },
    {
      "cell_type": "code",
      "execution_count": 27,
      "metadata": {},
      "outputs": [
        {
          "name": "stdout",
          "output_type": "stream",
          "text": [
            "2021-02-11-Introduccion-a-Python.ipynb: UTF-8 Unicode text, with very long lines\n",
            "\n"
          ]
        }
      ],
      "source": [
        "terminal('file 2021-02-11-Introduccion-a-Python.ipynb')"
      ]
    },
    {
      "cell_type": "markdown",
      "metadata": {},
      "source": [
        "## Manipulando arquivos e diret\u00f3rios"
      ]
    },
    {
      "cell_type": "markdown",
      "metadata": {},
      "source": [
        "Vamos primeiro para a home."
      ]
    },
    {
      "cell_type": "code",
      "execution_count": 28,
      "metadata": {},
      "outputs": [],
      "source": [
        "terminal('cd /home/wallabot/Documentos/')"
      ]
    },
    {
      "cell_type": "markdown",
      "metadata": {},
      "source": [
        "### \u00c1rvore de diret\u00f3rios com `tree`"
      ]
    },
    {
      "cell_type": "markdown",
      "metadata": {},
      "source": [
        "Podemos ver toda a estrutura da pasta em que estamos atrav\u00e9s do comando `tree`"
      ]
    },
    {
      "cell_type": "code",
      "execution_count": 29,
      "metadata": {},
      "outputs": [
        {
          "name": "stdout",
          "output_type": "stream",
          "text": [
            ".\n",
            "\u251c\u2500\u2500 aprendiendo-git.pdf\n",
            "\u251c\u2500\u2500 balena-etcher-electron-1.7.9-linux-x64\n",
            "\u2502\u00a0\u00a0 \u2514\u2500\u2500 balenaEtcher-1.7.9-x64.AppImage\n",
            "\u251c\u2500\u2500 camerasIP\n",
            "\u2502\u00a0\u00a0 \u251c\u2500\u2500 camerasIP.py\n",
            "\u2502\u00a0\u00a0 \u251c\u2500\u2500 camerasIP.sh\n",
            "\u2502\u00a0\u00a0 \u251c\u2500\u2500 config.py\n",
            "\u2502\u00a0\u00a0 \u251c\u2500\u2500 __pycache__\n",
            "\u2502\u00a0\u00a0 \u2502\u00a0\u00a0 \u251c\u2500\u2500 config.cpython-38.pyc\n",
            "\u2502\u00a0\u00a0 \u2502\u00a0\u00a0 \u2514\u2500\u2500 config.cpython-39.pyc\n",
            "\u2502\u00a0\u00a0 \u2514\u2500\u2500 README.md\n",
            "\u251c\u2500\u2500 Documentacion\n",
            "\u2502\u00a0\u00a0 \u251c\u2500\u2500 Curriculum Vitae (5).pdf\n",
            "\u2502\u00a0\u00a0 \u251c\u2500\u2500 Firma Pris.PNG\n",
            "\u2502\u00a0\u00a0 \u2514\u2500\u2500 Firma.png\n",
            "\u251c\u2500\u2500 gstreamer\n",
            "\u2502\u00a0\u00a0 \u251c\u2500\u2500 basic_tutorial_c\n",
            "\u2502\u00a0\u00a0 \u2502\u00a0\u00a0 \u251c\u2500\u2500 basic_tutorial_1_hello_world\n",
            "\u2502\u00a0\u00a0 \u2502\u00a0\u00a0 \u2502\u00a0\u00a0 \u251c\u2500\u2500 basic-tutorial-1\n",
            "\t ...\n",
            "        \u251c\u2500\u2500 upload_page.py\n",
            "        \u2514\u2500\u2500 utils.py\n",
            "\n",
            "873 directories, 119679 files\n",
            "\n"
          ]
        }
      ],
      "source": [
        "terminal('tree', max_lines_output=20)"
      ]
    },
    {
      "cell_type": "markdown",
      "metadata": {},
      "source": [
        "Mas na sa\u00edda temos muitas linhas, e isso \u00e9 porque `tree` \u00e9 um comando que mostra todos os arquivos desde o caminho em que estamos, portanto \u00e9 um pouco dif\u00edcil de ler. No entanto, com a op\u00e7\u00e3o `L` podemos indicar o n\u00famero de n\u00edveis que queremos que aprofunde"
      ]
    },
    {
      "cell_type": "code",
      "execution_count": 30,
      "metadata": {},
      "outputs": [
        {
          "name": "stdout",
          "output_type": "stream",
          "text": [
            ".\n",
            "\u251c\u2500\u2500 aprendiendo-git.pdf\n",
            "\u251c\u2500\u2500 balena-etcher-electron-1.7.9-linux-x64\n",
            "\u2502\u00a0\u00a0 \u2514\u2500\u2500 balenaEtcher-1.7.9-x64.AppImage\n",
            "\u251c\u2500\u2500 camerasIP\n",
            "\u2502\u00a0\u00a0 \u251c\u2500\u2500 camerasIP.py\n",
            "\u2502\u00a0\u00a0 \u251c\u2500\u2500 camerasIP.sh\n",
            "\u2502\u00a0\u00a0 \u251c\u2500\u2500 config.py\n",
            "\u2502\u00a0\u00a0 \u251c\u2500\u2500 __pycache__\n",
            "\u2502\u00a0\u00a0 \u2514\u2500\u2500 README.md\n",
            "\u251c\u2500\u2500 Documentacion\n",
            "\u2502\u00a0\u00a0 \u251c\u2500\u2500 Curriculum Vitae (5).pdf\n",
            "\u2502\u00a0\u00a0 \u251c\u2500\u2500 Firma Pris.PNG\n",
            "\u2502\u00a0\u00a0 \u2514\u2500\u2500 Firma.png\n",
            "\u251c\u2500\u2500 gstreamer\n",
            "\u2502\u00a0\u00a0 \u251c\u2500\u2500 basic_tutorial_c\n",
            "\u2502\u00a0\u00a0 \u2514\u2500\u2500 README.md\n",
            "\u251c\u2500\u2500 gstreamer_old\n",
            "\u2502\u00a0\u00a0 \u251c\u2500\u2500 basic_tutorial_c\n",
            "\u2502\u00a0\u00a0 \u2514\u2500\u2500 basic_tutorial_python\n",
            "\u251c\u2500\u2500 jetsonNano\n",
            "\u2502\u00a0\u00a0 \u251c\u2500\u2500 apuntes-Jetson-Nano\n",
            "\u2502\u00a0\u00a0 \u251c\u2500\u2500 deepstream_apps\n",
            "\u2502\u00a0\u00a0 \u251c\u2500\u2500 deepstream_nano\n",
            "\u2502\u00a0\u00a0 \u2514\u2500\u2500 Digital zoom\n",
            "\u251c\u2500\u2500 kaggle\n",
            "\u2502\u00a0\u00a0 \u2514\u2500\u2500 hubmap\n",
            "\u251c\u2500\u2500 Libros\n",
            "\u2502\u00a0\u00a0 \u2514\u2500\u2500 aprendiendo-git.pdf\n",
            "\u251c\u2500\u2500 nerf\n",
            "\u2502\u00a0\u00a0 \u2514\u2500\u2500 instant-ngp\n",
            "\u251c\u2500\u2500 prueba.txt\n",
            "\u251c\u2500\u2500 pytorch\n",
            "\u2502\u00a0\u00a0 \u2514\u2500\u2500 Curso_Pytorch\n",
            "\u251c\u2500\u2500 wallabot\n",
            "\u2502\u00a0\u00a0 \u251c\u2500\u2500 Microfono - Blue Yeti X\n",
            "\u2502\u00a0\u00a0 \u251c\u2500\u2500 placa base - Asus prime x570-p\n",
            "\u2502\u00a0\u00a0 \u2514\u2500\u2500 Silla - Corsair T3 Rush\n",
            "\u2514\u2500\u2500 web\n",
            "    \u251c\u2500\u2500 jupyter-to-html\n",
            "    \u251c\u2500\u2500 jupyter-translator\n",
            "    \u251c\u2500\u2500 portafolio\n",
            "    \u2514\u2500\u2500 wordpress_api_rest\n",
            "\n",
            "30 directories, 12 files\n",
            "\n"
          ]
        }
      ],
      "source": [
        "terminal('tree -L 2')"
      ]
    },
    {
      "cell_type": "markdown",
      "metadata": {},
      "source": [
        "Podemos ver que mostra que h\u00e1 30 diret\u00f3rios e 12 arquivos, enquanto antes indicava 873 diret\u00f3rios, 119679 arquivos"
      ]
    },
    {
      "cell_type": "markdown",
      "metadata": {},
      "source": [
        "### Criar pastas com `mkdir` (make directory)"
      ]
    },
    {
      "cell_type": "markdown",
      "metadata": {},
      "source": [
        "Se queremos criar um novo diret\u00f3rio, podemos usar o comando `mkdir` (make directory) e um nome"
      ]
    },
    {
      "cell_type": "code",
      "execution_count": 31,
      "metadata": {},
      "outputs": [],
      "source": [
        "terminal(\"cd /home/wallabot/Documentos/web/portafolio/posts/\")"
      ]
    },
    {
      "cell_type": "code",
      "execution_count": 32,
      "metadata": {},
      "outputs": [
        {
          "name": "stdout",
          "output_type": "stream",
          "text": [
            "\n"
          ]
        }
      ],
      "source": [
        "terminal('mkdir prueba')"
      ]
    },
    {
      "cell_type": "code",
      "execution_count": 33,
      "metadata": {},
      "outputs": [
        {
          "name": "stdout",
          "output_type": "stream",
          "text": [
            "2021-02-11-Introduccion-a-Python.ipynb\n",
            "2021-04-23-Calculo-matricial-con-Numpy.ipynb\n",
            "2021-06-15-Manejo-de-datos-con-Pandas.ipynb\n",
            "2022-09-12 Introduccion a la terminal.ipynb\n",
            "2022-09-12 Introduccion a la terminal.txt\n",
            "command-line-cheat-sheet.pdf\n",
            "CSS.ipynb\n",
            "Docker.html\n",
            "Docker.ipynb\n",
            "Expresiones regulares.html\n",
            "Expresiones regulares.ipynb\n",
            "html_files\n",
            "html.ipynb\n",
            "introduccion_python\n",
            "movies.csv\n",
            "movies.dat\n",
            "notebooks_translated\n",
            "prueba\n",
            "__pycache__\n",
            "ssh.ipynb\n",
            "test.html\n",
            "test.ipynb\n",
            "\n"
          ]
        }
      ],
      "source": [
        "terminal('ls')"
      ]
    },
    {
      "cell_type": "markdown",
      "metadata": {},
      "source": [
        "Se queremos criar um diret\u00f3rio com espa\u00e7os no nome, temos que colocar o nome entre aspas."
      ]
    },
    {
      "cell_type": "code",
      "execution_count": 34,
      "metadata": {},
      "outputs": [
        {
          "name": "stdout",
          "output_type": "stream",
          "text": [
            "\n"
          ]
        }
      ],
      "source": [
        "terminal('mkdir \"directorio prueba\"')"
      ]
    },
    {
      "cell_type": "code",
      "execution_count": 35,
      "metadata": {},
      "outputs": [
        {
          "name": "stdout",
          "output_type": "stream",
          "text": [
            "2021-02-11-Introduccion-a-Python.ipynb\n",
            "2021-04-23-Calculo-matricial-con-Numpy.ipynb\n",
            "2021-06-15-Manejo-de-datos-con-Pandas.ipynb\n",
            "2022-09-12 Introduccion a la terminal.ipynb\n",
            "2022-09-12 Introduccion a la terminal.txt\n",
            "command-line-cheat-sheet.pdf\n",
            "CSS.ipynb\n",
            "directorio prueba\n",
            "Docker.html\n",
            "Docker.ipynb\n",
            "Expresiones regulares.html\n",
            "Expresiones regulares.ipynb\n",
            "html_files\n",
            "html.ipynb\n",
            "introduccion_python\n",
            "movies.csv\n",
            "movies.dat\n",
            "notebooks_translated\n",
            "prueba\n",
            "__pycache__\n",
            "ssh.ipynb\n",
            "test.html\n",
            "test.ipynb\n",
            "\n"
          ]
        }
      ],
      "source": [
        "terminal('ls')"
      ]
    },
    {
      "cell_type": "markdown",
      "metadata": {},
      "source": [
        "Vamos entrar na pasta `prueba` que criamos, para continuar vendo o terminal l\u00e1"
      ]
    },
    {
      "cell_type": "code",
      "execution_count": 36,
      "metadata": {},
      "outputs": [],
      "source": [
        "terminal(\"cd prueba\")"
      ]
    },
    {
      "cell_type": "markdown",
      "metadata": {},
      "source": [
        "### Criar arquivos com `touch`"
      ]
    },
    {
      "cell_type": "markdown",
      "metadata": {},
      "source": [
        "Caso que queiramos criar um arquivo, o comando que temos que usar \u00e9 `touch`"
      ]
    },
    {
      "cell_type": "code",
      "execution_count": 37,
      "metadata": {},
      "outputs": [
        {
          "name": "stdout",
          "output_type": "stream",
          "text": [
            "\n"
          ]
        }
      ],
      "source": [
        "terminal(\"touch prueba.txt\")"
      ]
    },
    {
      "cell_type": "code",
      "execution_count": 38,
      "metadata": {},
      "outputs": [
        {
          "name": "stdout",
          "output_type": "stream",
          "text": [
            "prueba.txt\n",
            "\n"
          ]
        }
      ],
      "source": [
        "terminal(\"ls\")"
      ]
    },
    {
      "cell_type": "markdown",
      "metadata": {},
      "source": [
        "### Copiar arquivos com `cp` (copy)"
      ]
    },
    {
      "cell_type": "markdown",
      "metadata": {},
      "source": [
        "Se queremos copiar um arquivo, fazemos isso atrav\u00e9s do comando `cp` (copy)"
      ]
    },
    {
      "cell_type": "code",
      "execution_count": 39,
      "metadata": {},
      "outputs": [
        {
          "name": "stdout",
          "output_type": "stream",
          "text": [
            "\n"
          ]
        }
      ],
      "source": [
        "terminal(\"cp prueba.txt prueba_copy.txt\")"
      ]
    },
    {
      "cell_type": "code",
      "execution_count": 40,
      "metadata": {},
      "outputs": [
        {
          "name": "stdout",
          "output_type": "stream",
          "text": [
            "prueba_copy.txt\n",
            "prueba.txt\n",
            "\n"
          ]
        }
      ],
      "source": [
        "terminal(\"ls\")"
      ]
    },
    {
      "cell_type": "markdown",
      "metadata": {},
      "source": [
        "### Mover arquivos com `mv` (move)"
      ]
    },
    {
      "cell_type": "markdown",
      "metadata": {},
      "source": [
        "Se o que queremos \u00e9 mov\u00ea-lo, o que usamos \u00e9 o comando `mv` (move)"
      ]
    },
    {
      "cell_type": "code",
      "execution_count": 41,
      "metadata": {},
      "outputs": [
        {
          "name": "stdout",
          "output_type": "stream",
          "text": [
            "\n"
          ]
        }
      ],
      "source": [
        "terminal(\"mv prueba.txt ../prueba.txt\")"
      ]
    },
    {
      "cell_type": "code",
      "execution_count": 42,
      "metadata": {},
      "outputs": [
        {
          "name": "stdout",
          "output_type": "stream",
          "text": [
            "prueba_copy.txt\n",
            "\n"
          ]
        }
      ],
      "source": [
        "terminal(\"ls\")"
      ]
    },
    {
      "cell_type": "code",
      "execution_count": 43,
      "metadata": {},
      "outputs": [
        {
          "name": "stdout",
          "output_type": "stream",
          "text": [
            "2021-02-11-Introduccion-a-Python.ipynb\n",
            "2021-04-23-Calculo-matricial-con-Numpy.ipynb\n",
            "2021-06-15-Manejo-de-datos-con-Pandas.ipynb\n",
            "2022-09-12 Introduccion a la terminal.ipynb\n",
            "2022-09-12 Introduccion a la terminal.txt\n",
            "command-line-cheat-sheet.pdf\n",
            "CSS.ipynb\n",
            "directorio prueba\n",
            "Docker.html\n",
            "Docker.ipynb\n",
            "Expresiones regulares.html\n",
            "Expresiones regulares.ipynb\n",
            "html_files\n",
            "html.ipynb\n",
            "introduccion_python\n",
            "movies.csv\n",
            "movies.dat\n",
            "notebooks_translated\n",
            "prueba\n",
            "prueba.txt\n",
            "__pycache__\n",
            "ssh.ipynb\n",
            "test.html\n",
            "test.ipynb\n",
            "\n"
          ]
        }
      ],
      "source": [
        "terminal(\"ls ../\")"
      ]
    },
    {
      "cell_type": "markdown",
      "metadata": {},
      "source": [
        "### Renomear arquivos com `mv` (move)"
      ]
    },
    {
      "cell_type": "markdown",
      "metadata": {},
      "source": [
        "O comando `mv` tamb\u00e9m serve para renomear arquivos, j\u00e1 que se o que fazemos \u00e9 mov\u00ea-lo no mesmo diret\u00f3rio, mas dando outro nome, no final isso \u00e9 renomear o arquivo."
      ]
    },
    {
      "cell_type": "code",
      "execution_count": 44,
      "metadata": {},
      "outputs": [
        {
          "name": "stdout",
          "output_type": "stream",
          "text": [
            "\n"
          ]
        }
      ],
      "source": [
        "terminal(\"mv prueba_copy.txt prueba_move.txt\")"
      ]
    },
    {
      "cell_type": "code",
      "execution_count": 45,
      "metadata": {},
      "outputs": [
        {
          "name": "stdout",
          "output_type": "stream",
          "text": [
            "prueba_move.txt\n",
            "\n"
          ]
        }
      ],
      "source": [
        "terminal(\"ls\")"
      ]
    },
    {
      "cell_type": "markdown",
      "metadata": {},
      "source": [
        "### Excluir arquivos com `rm` (remove)"
      ]
    },
    {
      "cell_type": "markdown",
      "metadata": {},
      "source": [
        "Para excluir arquivos ou diret\u00f3rios usamos o comando `rm` (remove)"
      ]
    },
    {
      "cell_type": "code",
      "execution_count": 46,
      "metadata": {},
      "outputs": [
        {
          "name": "stdout",
          "output_type": "stream",
          "text": [
            "\n"
          ]
        }
      ],
      "source": [
        "terminal(\"rm prueba_move.txt\")"
      ]
    },
    {
      "cell_type": "code",
      "execution_count": 47,
      "metadata": {},
      "outputs": [
        {
          "name": "stdout",
          "output_type": "stream",
          "text": [
            "\n"
          ]
        }
      ],
      "source": [
        "terminal(\"ls\")"
      ]
    },
    {
      "cell_type": "markdown",
      "metadata": {},
      "source": [
        "### Remover diret\u00f3rios com `rm -r` (remove recursive)"
      ]
    },
    {
      "cell_type": "markdown",
      "metadata": {},
      "source": [
        "Se o que queremos \u00e9 eliminar um diret\u00f3rio com arquivos dentro, devemos usar a flag `-r`."
      ]
    },
    {
      "cell_type": "code",
      "execution_count": 48,
      "metadata": {},
      "outputs": [],
      "source": [
        "terminal(\"cd ..\")"
      ]
    },
    {
      "cell_type": "code",
      "execution_count": 49,
      "metadata": {},
      "outputs": [
        {
          "name": "stdout",
          "output_type": "stream",
          "text": [
            "\n"
          ]
        }
      ],
      "source": [
        "terminal('rm -r \"directorio prueba\"')"
      ]
    },
    {
      "cell_type": "code",
      "execution_count": 50,
      "metadata": {},
      "outputs": [
        {
          "name": "stdout",
          "output_type": "stream",
          "text": [
            "2021-02-11-Introduccion-a-Python.ipynb\n",
            "2021-04-23-Calculo-matricial-con-Numpy.ipynb\n",
            "2021-06-15-Manejo-de-datos-con-Pandas.ipynb\n",
            "2022-09-12 Introduccion a la terminal.ipynb\n",
            "2022-09-12 Introduccion a la terminal.txt\n",
            "command-line-cheat-sheet.pdf\n",
            "CSS.ipynb\n",
            "Docker.html\n",
            "Docker.ipynb\n",
            "Expresiones regulares.html\n",
            "Expresiones regulares.ipynb\n",
            "html_files\n",
            "html.ipynb\n",
            "introduccion_python\n",
            "movies.csv\n",
            "movies.dat\n",
            "notebooks_translated\n",
            "prueba\n",
            "prueba.txt\n",
            "__pycache__\n",
            "ssh.ipynb\n",
            "test.html\n",
            "test.ipynb\n",
            "\n"
          ]
        }
      ],
      "source": [
        "terminal(\"ls\")"
      ]
    },
    {
      "cell_type": "markdown",
      "metadata": {},
      "source": [
        "Como podes ver nunca pergunta se estamos seguros, para que pergunte h\u00e1 que adicionar a flag `-i` (`iteractive`)"
      ]
    },
    {
      "cell_type": "code",
      "execution_count": 66,
      "metadata": {},
      "outputs": [
        {
          "name": "stdout",
          "output_type": "stream",
          "text": [
            "rm: \u00bfborrar el fichero regular vac\u00edo 'prueba.txt'? (s/n) s\n",
            "\n"
          ]
        }
      ],
      "source": [
        "terminal(\"rm -i prueba.txt\")"
      ]
    },
    {
      "attachments": {},
      "cell_type": "markdown",
      "metadata": {},
      "source": [
        "### Sincronizar arquivos mediante `rsync`"
      ]
    },
    {
      "attachments": {},
      "cell_type": "markdown",
      "metadata": {},
      "source": [
        "At\u00e9 agora vimos como copiar, mover e excluir arquivos, mas suponhamos que temos uma pasta e copiamos esses arquivos para outra. Agora suponhamos que modificamos um arquivo da primeira pasta e queremos que a segunda tenha as mudan\u00e7as. Temos duas op\u00e7\u00f5es, voltar a copiar todos os arquivos, ou fazer uma sincroniza\u00e7\u00e3o usando `rsync`"
      ]
    },
    {
      "attachments": {},
      "cell_type": "markdown",
      "metadata": {},
      "source": [
        "Primeiro vamos criar uma nova pasta na qual criaremos v\u00e1rios arquivos"
      ]
    },
    {
      "cell_type": "code",
      "execution_count": 1,
      "metadata": {},
      "outputs": [],
      "source": [
        "!mkdir sourcefolder\n",
        "!touch sourcefolder/file1 sourcefolder/file2 sourcefolder/file3"
      ]
    },
    {
      "attachments": {},
      "cell_type": "markdown",
      "metadata": {},
      "source": [
        "Agora criamos uma segunda pasta que \u00e9 a que vamos sincronizar com a primeira"
      ]
    },
    {
      "cell_type": "code",
      "execution_count": 2,
      "metadata": {},
      "outputs": [],
      "source": [
        "!mkdir syncfolder"
      ]
    },
    {
      "cell_type": "code",
      "execution_count": 10,
      "metadata": {},
      "outputs": [
        {
          "name": "stdout",
          "output_type": "stream",
          "text": [
            "ls sourcefolder:\n",
            "file1  file2  file3\n",
            "ls syncfolder:\n"
          ]
        }
      ],
      "source": [
        "!echo \"ls sourcefolder:\" && ls sourcefolder && echo \"ls syncfolder:\" && ls syncfolder"
      ]
    },
    {
      "attachments": {},
      "cell_type": "markdown",
      "metadata": {},
      "source": [
        "Sincronizamos as duas pastas com `rsync`, a primeira vez apenas copiar\u00e1 os arquivos da primeira pasta para a segunda. Para fazer isso, al\u00e9m disso, devemos adicionar a flag `-r` (recursive)"
      ]
    },
    {
      "cell_type": "code",
      "execution_count": 11,
      "metadata": {},
      "outputs": [],
      "source": [
        "!rsync -r sourcefolder/ syncfolder/"
      ]
    },
    {
      "cell_type": "code",
      "execution_count": 12,
      "metadata": {},
      "outputs": [
        {
          "name": "stdout",
          "output_type": "stream",
          "text": [
            "ls sourcefolder:\n",
            "file1  file2  file3\n",
            "ls syncfolder:\n",
            "file1  file2  file3\n"
          ]
        }
      ],
      "source": [
        "!echo \"ls sourcefolder:\" && ls sourcefolder && echo \"ls syncfolder:\" && ls syncfolder"
      ]
    },
    {
      "attachments": {},
      "cell_type": "markdown",
      "metadata": {},
      "source": [
        "Se agora eu criar um novo arquivo em `sourcefolder` e sincronizar novamente, apenas esse arquivo ser\u00e1 copiado para o `syncfolder`. Para ver que apenas um arquivo ser\u00e1 copiado, podemos usar o flag `-v` (verbose)"
      ]
    },
    {
      "cell_type": "code",
      "execution_count": 14,
      "metadata": {},
      "outputs": [],
      "source": [
        "!touch sourcefolder/file4"
      ]
    },
    {
      "cell_type": "code",
      "execution_count": 15,
      "metadata": {},
      "outputs": [
        {
          "name": "stdout",
          "output_type": "stream",
          "text": [
            "sending incremental file list\n",
            "file1\n",
            "file2\n",
            "file3\n",
            "file4\n",
            "\n",
            "sent 269 bytes  received 92 bytes  722.00 bytes/sec\n",
            "total size is 0  speedup is 0.00\n"
          ]
        }
      ],
      "source": [
        "!rsync -r -v sourcefolder/ syncfolder/"
      ]
    },
    {
      "attachments": {},
      "cell_type": "markdown",
      "metadata": {},
      "source": [
        "Mas parece que copiou todos os arquivos, ent\u00e3o para que isso n\u00e3o aconte\u00e7a e copie apenas os que foram modificados, \u00e9 preciso usar a flag `-u`"
      ]
    },
    {
      "cell_type": "code",
      "execution_count": 16,
      "metadata": {},
      "outputs": [],
      "source": [
        "!touch sourcefolder/file5"
      ]
    },
    {
      "cell_type": "code",
      "execution_count": 17,
      "metadata": {},
      "outputs": [
        {
          "name": "stdout",
          "output_type": "stream",
          "text": [
            "sending incremental file list\n",
            "file5\n",
            "\n",
            "sent 165 bytes  received 35 bytes  400.00 bytes/sec\n",
            "total size is 0  speedup is 0.00\n"
          ]
        }
      ],
      "source": [
        "!rsync -r -v -u sourcefolder/ syncfolder/"
      ]
    },
    {
      "cell_type": "code",
      "execution_count": 18,
      "metadata": {},
      "outputs": [
        {
          "name": "stdout",
          "output_type": "stream",
          "text": [
            "ls sourcefolder:\n",
            "file1  file2  file3  file4  file5\n",
            "ls syncfolder:\n",
            "file1  file2  file3  file4  file5\n"
          ]
        }
      ],
      "source": [
        "!echo \"ls sourcefolder:\" && ls sourcefolder && echo \"ls syncfolder:\" && ls syncfolder"
      ]
    },
    {
      "attachments": {},
      "cell_type": "markdown",
      "metadata": {},
      "source": [
        "E o que acontece se eu criar um novo arquivo em `syncfolder`?"
      ]
    },
    {
      "cell_type": "code",
      "execution_count": 19,
      "metadata": {},
      "outputs": [],
      "source": [
        "!touch syncfolder/file6"
      ]
    },
    {
      "cell_type": "code",
      "execution_count": 20,
      "metadata": {},
      "outputs": [
        {
          "name": "stdout",
          "output_type": "stream",
          "text": [
            "sending incremental file list\n",
            "\n",
            "sent 122 bytes  received 12 bytes  268.00 bytes/sec\n",
            "total size is 0  speedup is 0.00\n"
          ]
        }
      ],
      "source": [
        "!rsync -r -v -u sourcefolder/ syncfolder/"
      ]
    },
    {
      "cell_type": "code",
      "execution_count": 21,
      "metadata": {},
      "outputs": [
        {
          "name": "stdout",
          "output_type": "stream",
          "text": [
            "ls sourcefolder:\n",
            "file1  file2  file3  file4  file5\n",
            "ls syncfolder:\n",
            "file1  file2  file3  file4  file5  file6\n"
          ]
        }
      ],
      "source": [
        "!echo \"ls sourcefolder:\" && ls sourcefolder && echo \"ls syncfolder:\" && ls syncfolder"
      ]
    },
    {
      "attachments": {},
      "cell_type": "markdown",
      "metadata": {},
      "source": [
        "N\u00e3o o sincroniza, ent\u00e3o \u00e9 importante ter isso em mente"
      ]
    },
    {
      "attachments": {},
      "cell_type": "markdown",
      "metadata": {},
      "source": [
        "Algumas flags importantes a serem levadas em considera\u00e7\u00e3o s\u00e3o:",
        "\n",
        " * `-a`: Este flag \u00e9 um atalho para v\u00e1rias op\u00e7\u00f5es, incluindo `-r` (recursivo), `-l` (copiar links simb\u00f3licos), `-p` (manter permiss\u00f5es), `-t` (manter o hor\u00e1rio de modifica\u00e7\u00e3o) e `-g` (manter grupo). Esta op\u00e7\u00e3o \u00e9 \u00fatil para fazer uma c\u00f3pia exata de um diret\u00f3rio, incluindo todas as suas subpastas e arquivos.",
        " * `-v`: Este flag ativa a sa\u00edda detalhada, que mostra os arquivos que est\u00e3o sendo copiados e o progresso da opera\u00e7\u00e3o.",
        " * `-r`: Esta flag \u00e9 utilizada para copiar de forma recursiva, o que significa que copia todas as subpastas e arquivos dentro de um diret\u00f3rio.",
        " * `-u`: Esta flag \u00e9 utilizada para copiar apenas os arquivos novos ou modificados. Se um arquivo j\u00e1 existe no destino e \u00e9 mais recente que o arquivo de origem, n\u00e3o \u00e9 copiado.",
        " * `-n`: Esta flag \u00e9 usada para fazer um teste de c\u00f3pia, o que significa que n\u00e3o s\u00e3o efetuadas altera\u00e7\u00f5es no destino.",
        "* `--exclude`: Esta op\u00e7\u00e3o \u00e9 usada para excluir arquivos ou pastas espec\u00edficos da opera\u00e7\u00e3o de c\u00f3pia. Voc\u00ea pode especificar v\u00e1rios arquivos ou pastas para excluir utilizando esta op\u00e7\u00e3o v\u00e1rias vezes.",
        " * `-z`: Este flag \u00e9 utilizado para comprimir os dados durante a transfer\u00eancia, o que reduz a largura de banda utilizada e acelera a velocidade de transfer\u00eancia.",
        "* `-h`: esta flag \u00e9 usada para mostrar a informa\u00e7\u00e3o em um formato mais leg\u00edvel, especialmente quando se trabalha com grandes quantidades de dados ou tamanhos de arquivos grandes."
      ]
    },
    {
      "attachments": {},
      "cell_type": "markdown",
      "metadata": {},
      "source": [
        "Deletamos as duas pastas criadas"
      ]
    },
    {
      "cell_type": "code",
      "execution_count": 22,
      "metadata": {},
      "outputs": [],
      "source": [
        "!rm -r sourcefolder syncfolder"
      ]
    },
    {
      "cell_type": "markdown",
      "metadata": {},
      "source": [
        "\n",
        "## Explorando o conte\u00fado dos arquivos"
      ]
    },
    {
      "cell_type": "markdown",
      "metadata": {},
      "source": [
        "Para n\u00e3o ter que abrir um arquivo a partir de uma interface gr\u00e1fica, temos v\u00e1rias maneiras. Vou copiar um arquivo de texto nesta pasta primeiro."
      ]
    },
    {
      "cell_type": "code",
      "execution_count": 51,
      "metadata": {},
      "outputs": [],
      "source": [
        "terminal(\"cd prueba\")"
      ]
    },
    {
      "cell_type": "code",
      "execution_count": 52,
      "metadata": {},
      "outputs": [
        {
          "name": "stdout",
          "output_type": "stream",
          "text": [
            "\n"
          ]
        }
      ],
      "source": [
        "terminal(\"cp ../2021-02-11-Introduccion-a-Python.ipynb .\")"
      ]
    },
    {
      "cell_type": "code",
      "execution_count": 53,
      "metadata": {},
      "outputs": [
        {
          "name": "stdout",
          "output_type": "stream",
          "text": [
            "2021-02-11-Introduccion-a-Python.ipynb\n",
            "\n"
          ]
        }
      ],
      "source": [
        "terminal(\"ls\")"
      ]
    },
    {
      "cell_type": "markdown",
      "metadata": {},
      "source": [
        "### Cabe\u00e7alho de arquivos com `head`"
      ]
    },
    {
      "cell_type": "markdown",
      "metadata": {},
      "source": [
        "O primeiro comando para poder ver dentro de um arquivo de texto \u00e9 `head`, que nos permite ver as primeiras 10 linhas de um arquivo, mas se voc\u00ea adicionar a flag `-n` pode indicar o n\u00famero de linhas."
      ]
    },
    {
      "cell_type": "code",
      "execution_count": 54,
      "metadata": {},
      "outputs": [
        {
          "name": "stdout",
          "output_type": "stream",
          "text": [
            "{\n",
            "  \"cells\": [\n",
            "    {\n",
            "      \"cell_type\": \"markdown\",\n",
            "      \"metadata\": {\n",
            "        \"id\": \"dsaKCKL0IxZl\"\n",
            "      },\n",
            "      \"source\": [\n",
            "        \"# Introducci\u00f3n a Python\"\n",
            "      ]\n",
            "\n"
          ]
        }
      ],
      "source": [
        "terminal(\"head 2021-02-11-Introduccion-a-Python.ipynb\")"
      ]
    },
    {
      "cell_type": "code",
      "execution_count": 55,
      "metadata": {},
      "outputs": [
        {
          "name": "stdout",
          "output_type": "stream",
          "text": [
            "{\n",
            "  \"cells\": [\n",
            "    {\n",
            "      \"cell_type\": \"markdown\",\n",
            "      \"metadata\": {\n",
            "\n"
          ]
        }
      ],
      "source": [
        "terminal(\"head -n 5 2021-02-11-Introduccion-a-Python.ipynb\")"
      ]
    },
    {
      "cell_type": "markdown",
      "metadata": {},
      "source": [
        "### Cauda de um arquivo com `tail`"
      ]
    },
    {
      "cell_type": "markdown",
      "metadata": {},
      "source": [
        "Em caso de querer ver as \u00faltimas linhas usamos `tail`"
      ]
    },
    {
      "cell_type": "code",
      "execution_count": 56,
      "metadata": {},
      "outputs": [
        {
          "name": "stdout",
          "output_type": "stream",
          "text": [
            "    },\n",
            "    \"vscode\": {\n",
            "      \"interpreter\": {\n",
            "        \"hash\": \"d5745ab6aba164e1152437c779991855725055592b9f2bdb41a4825db7168d26\"\n",
            "      }\n",
            "    }\n",
            "  },\n",
            "  \"nbformat\": 4,\n",
            "  \"nbformat_minor\": 0\n",
            "}\n",
            "\n"
          ]
        }
      ],
      "source": [
        "terminal(\"tail 2021-02-11-Introduccion-a-Python.ipynb\")"
      ]
    },
    {
      "cell_type": "code",
      "execution_count": 57,
      "metadata": {},
      "outputs": [
        {
          "name": "stdout",
          "output_type": "stream",
          "text": [
            "    }\n",
            "  },\n",
            "  \"nbformat\": 4,\n",
            "  \"nbformat_minor\": 0\n",
            "}\n",
            "\n"
          ]
        }
      ],
      "source": [
        "terminal(\"tail -n 5 2021-02-11-Introduccion-a-Python.ipynb\")"
      ]
    },
    {
      "cell_type": "markdown",
      "metadata": {},
      "source": [
        "Se quisermos ver continuamente as \u00faltimas linhas de um arquivo, por exemplo, queremos estar monitorando continuamente um arquivo de LOG para ver eventos, adicionamos o flag `-f`, isso far\u00e1 com que o terminal fique continuamente verificando o arquivo, e cada vez que aparecer uma nova linha nele, ela ser\u00e1 mostrada."
      ]
    },
    {
      "cell_type": "markdown",
      "metadata": {},
      "source": [
        "Por exemplo, se eu monitoro o log de in\u00edcio de sess\u00e3o na minha m\u00e1quina"
      ]
    },
    {
      "cell_type": "code",
      "execution_count": 57,
      "metadata": {},
      "outputs": [
        {
          "name": "stdout",
          "output_type": "stream",
          "text": [
            "Dec  1 16:27:22 wallabot gcr-prompter[1457]: Gcr: calling the PromptDone method on /org/gnome/keyring/Prompt/p2@:1.26, and ignoring reply\n",
            "Dec  1 16:27:22 wallabot gnome-keyring-daemon[1178]: asked to register item /org/freedesktop/secrets/collection/login/10, but it's already registered\n",
            "Dec  1 16:27:26 wallabot systemd-logind[835]: Watching system buttons on /dev/input/event28 (Logitech Wireless Mouse MX Master 3)\n",
            "Dec  1 16:27:33 wallabot gcr-prompter[1457]: Gcr: 10 second inactivity timeout, quitting\n",
            "Dec  1 16:27:33 wallabot gcr-prompter[1457]: Gcr: unregistering prompter\n",
            "Dec  1 16:27:33 wallabot gcr-prompter[1457]: Gcr: disposing prompter\n",
            "Dec  1 16:27:33 wallabot gcr-prompter[1457]: Gcr: finalizing prompter\n",
            "Dec  1 16:27:34 wallabot polkitd(authority=local): Operator of unix-session:1 successfully authenticated as unix-user:wallabot to gain TEMPORARY authorization for action org.debian.apt.install-or-remove-packages for system-bus-name::1.96 [/usr/bin/python3 /usr/bin/update-manager --no-update --no-focus-on-map] (owned by unix-user:wallabot)\n",
            "Dec  1 16:27:42 wallabot systemd-logind[835]: Watching system buttons on /dev/input/event30 (T9-R (AVRCP))\n",
            "Dec  1 16:27:49 wallabot gnome-keyring-daemon[1178]: asked to register item /org/freedesktop/secrets/collection/login/2, but it's already registered\n"
          ]
        }
      ],
      "source": [
        "!tail -f /var/log/auth.log"
      ]
    },
    {
      "cell_type": "markdown",
      "metadata": {},
      "source": [
        "Vemos nas duas \u00faltimas linhas meu in\u00edcio de sess\u00e3o quando liguei hoje meu computador."
      ]
    },
    {
      "cell_type": "markdown",
      "metadata": {},
      "source": [
        "Agora conecto-me por SSH \u00e0 minha pr\u00f3pria m\u00e1quina"
      ]
    },
    {
      "cell_type": "code",
      "execution_count": 57,
      "metadata": {},
      "outputs": [
        {
          "name": "stdout",
          "output_type": "stream",
          "text": [
            "wallabot@localhost's password: \n",
            "Welcome to Ubuntu 20.04.5 LTS (GNU/Linux 5.15.0-53-generic x86_64)\n",
            "\n",
            " * Documentation:  https://help.ubuntu.com\n",
            " * Management:     https://landscape.canonical.com\n",
            " * Support:        https://ubuntu.com/advantage\n",
            "\n",
            "1 device has a firmware upgrade available.\n",
            "Run `fwupdmgr get-upgrades` for more information.\n",
            "\n",
            "\n",
            "Se pueden aplicar 0 actualizaciones de forma inmediata.\n",
            "\n",
            "Your Hardware Enablement Stack (HWE) is supported until April 2025.\n",
            "*** System restart required ***\n",
            "Last login: Sun May  8 02:18:09 2022 from 192.168.1.147\n"
          ]
        }
      ],
      "source": [
        "!ssh localhost"
      ]
    },
    {
      "cell_type": "markdown",
      "metadata": {},
      "source": [
        "Na console onde estava monitorando o in\u00edcio de sess\u00e3o apareceram duas novas linhas"
      ]
    },
    {
      "cell_type": "code",
      "execution_count": 57,
      "metadata": {},
      "outputs": [
        {
          "name": "stdout",
          "output_type": "stream",
          "text": [
            "Dec  1 16:32:23 wallabot sshd[25647]: Accepted password for wallabot from 127.0.0.1 port 54668 ssh2\n",
            "Dec  1 16:32:23 wallabot sshd[25647]: pam_unix(sshd:session): session opened for user wallabot by (uid=0)\n",
            "Dec  1 16:32:23 wallabot systemd-logind[835]: New session 4 of user wallabot.\n"
          ]
        }
      ],
      "source": []
    },
    {
      "cell_type": "markdown",
      "metadata": {},
      "source": [
        "E quando fecho a sess\u00e3o SSH, aparecem mais duas novas linhas"
      ]
    },
    {
      "cell_type": "code",
      "execution_count": 57,
      "metadata": {},
      "outputs": [
        {
          "name": "stdout",
          "output_type": "stream",
          "text": [
            "Dec  1 16:33:52 wallabot sshd[25647]: pam_unix(sshd:session): session closed for user wallabot\n",
            "Dec  1 16:33:52 wallabot systemd-logind[835]: Session 4 logged out. Waiting for processes to exit.\n",
            "Dec  1 16:33:52 wallabot systemd-logind[835]: Removed session 4.\n"
          ]
        }
      ],
      "source": []
    },
    {
      "cell_type": "markdown",
      "metadata": {},
      "source": [
        "### O visualizador de arquivos mais poderoso: `less`"
      ]
    },
    {
      "cell_type": "markdown",
      "metadata": {},
      "source": [
        "Um dos comandos mais poderosos para visualizar arquivos \u00e9 `less`"
      ]
    },
    {
      "cell_type": "code",
      "execution_count": 58,
      "metadata": {},
      "outputs": [
        {
          "name": "stdout",
          "output_type": "stream",
          "text": [
            "{\n",
            "  \"cells\": [\n",
            "    {\n",
            "      \"cell_type\": \"markdown\",\n",
            "      \"metadata\": {\n",
            "        \"id\": \"dsaKCKL0IxZl\"\n",
            "      },\n",
            "      \"source\": [\n",
            "        \"# Introducci\u00f3n a Python\"\n",
            "      ]\n",
            "    },\n",
            "    {\n",
            "      \"cell_type\": \"markdown\",\n",
            "      \"metadata\": {\n",
            "        \"id\": \"Ho_8zgIiI0We\"\n",
            "      },\n",
            "      \"source\": [\n",
            "        \"## 1. Resumen\"\n",
            "      ]\n",
            "    },\n",
            "\t ...\n",
            "  },\n",
            "  \"nbformat\": 4,\n",
            "  \"nbformat_minor\": 0\n",
            "}\n",
            "\n"
          ]
        }
      ],
      "source": [
        "terminal(\"less 2021-02-11-Introduccion-a-Python.ipynb\", max_lines_output=20)"
      ]
    },
    {
      "cell_type": "markdown",
      "metadata": {},
      "source": [
        "Ao estar dentro de um caderno n\u00e3o \u00e9 poss\u00edvel ver o que realmente acontece ao usar `less`, mas quando o usamos, entramos no documento, podemos nos mover atrav\u00e9s dele usando as teclas ou o mouse.",
        "\n",
        "Se queremos buscar algo dentro do documento, escrevemos o caractere `/` e o que quisermos buscar. Para alternar entre as diferentes inst\u00e2ncias encontradas pressionamos a tecla `n`, e se quisermos voltar para tr\u00e1s nas buscas pressionamos `shift+n`",
        "\n",
        "Para sair basta pressionar `q`"
      ]
    },
    {
      "cell_type": "markdown",
      "metadata": {},
      "source": [
        "### O visualizador `cat`"
      ]
    },
    {
      "cell_type": "markdown",
      "metadata": {},
      "source": [
        "N\u00e3o permite navegar pelo arquivo nem fazer buscas."
      ]
    },
    {
      "cell_type": "code",
      "execution_count": 64,
      "metadata": {},
      "outputs": [
        {
          "name": "stdout",
          "output_type": "stream",
          "text": [
            "{\n",
            "  \"cells\": [\n",
            "    {\n",
            "      \"cell_type\": \"markdown\",\n",
            "      \"metadata\": {\n",
            "        \"id\": \"dsaKCKL0IxZl\"\n",
            "      },\n",
            "      \"source\": [\n",
            "        \"# Introducci\u00f3n a Python\"\n",
            "      ]\n",
            "    },\n",
            "    {\n",
            "      \"cell_type\": \"markdown\",\n",
            "      \"metadata\": {\n",
            "        \"id\": \"Ho_8zgIiI0We\"\n",
            "      },\n",
            "      \"source\": [\n",
            "        \"## 1. Resumen\"\n",
            "      ]\n",
            "    },\n",
            "\t ...\n",
            "  },\n",
            "  \"nbformat\": 4,\n",
            "  \"nbformat_minor\": 0\n",
            "}\n",
            "\n"
          ]
        }
      ],
      "source": [
        "terminal(\"cat 2021-02-11-Introduccion-a-Python.ipynb\", max_lines_output=20)"
      ]
    },
    {
      "cell_type": "markdown",
      "metadata": {},
      "source": [
        "### Editor padr\u00e3o do sistema `xdg-open`"
      ]
    },
    {
      "cell_type": "markdown",
      "metadata": {},
      "source": [
        "Se quisermos abrir com o editor padr\u00e3o do arquivo, temos que usar `xdg-open`"
      ]
    },
    {
      "cell_type": "code",
      "execution_count": 59,
      "metadata": {},
      "outputs": [
        {
          "name": "stdout",
          "output_type": "stream",
          "text": [
            "\n"
          ]
        }
      ],
      "source": [
        "terminal(\"xdg-open 2021-02-11-Introducci\u00f3n-a-Python.ipynb\")"
      ]
    },
    {
      "cell_type": "markdown",
      "metadata": {},
      "source": [
        "### Navegador de arquivos `nautilus`"
      ]
    },
    {
      "cell_type": "markdown",
      "metadata": {},
      "source": [
        "Se o que queremos \u00e9 abrir a pasta na qual estamos, usamos `nautilus`"
      ]
    },
    {
      "cell_type": "code",
      "execution_count": 60,
      "metadata": {},
      "outputs": [
        {
          "name": "stdout",
          "output_type": "stream",
          "text": [
            "\n"
          ]
        }
      ],
      "source": [
        "terminal(\"nautilus\")"
      ]
    },
    {
      "cell_type": "markdown",
      "metadata": {},
      "source": [
        "E se o que queremos \u00e9 que ele seja aberto em uma rota determinada, inclu\u00edmos a rota"
      ]
    },
    {
      "cell_type": "code",
      "execution_count": 62,
      "metadata": {},
      "outputs": [
        {
          "name": "stdout",
          "output_type": "stream",
          "text": [
            "\n"
          ]
        }
      ],
      "source": [
        "terminal(\"nautilus ~/\")"
      ]
    },
    {
      "cell_type": "markdown",
      "metadata": {},
      "source": [
        "### Contador de palavras de um arquivo com `wc` (word count)"
      ]
    },
    {
      "cell_type": "markdown",
      "metadata": {},
      "source": [
        "Por \u00faltimo, um comando muito \u00fatil \u00e9 `wc` (word count), que te mostra quantas linhas, palavras e bytes tem um arquivo"
      ]
    },
    {
      "cell_type": "code",
      "execution_count": 63,
      "metadata": {},
      "outputs": [
        {
          "name": "stdout",
          "output_type": "stream",
          "text": [
            " 11678  25703 285898 2021-02-11-Introduccion-a-Python.ipynb\n",
            "\n"
          ]
        }
      ],
      "source": [
        "terminal(\"wc 2021-02-11-Introduccion-a-Python.ipynb\")"
      ]
    },
    {
      "cell_type": "markdown",
      "metadata": {},
      "source": [
        "Como vemos, o arquivo tem 11678 linhas, 25703 palavras e ocupa 285898 bytes"
      ]
    },
    {
      "cell_type": "markdown",
      "metadata": {},
      "source": [
        "## O que \u00e9 um comando"
      ]
    },
    {
      "cell_type": "markdown",
      "metadata": {},
      "source": [
        "Um comando pode ser quatro coisas",
        "* Um programa execut\u00e1vel, estes normalmente s\u00e3o guardados no caminho `/usr/bin`",
        " * Um comando de shell",
        " * Uma fun\u00e7\u00e3o de shell",
        " * Um apelido"
      ]
    },
    {
      "cell_type": "markdown",
      "metadata": {},
      "source": [
        "Para ver a que classe pertence um comando usamos `type`"
      ]
    },
    {
      "cell_type": "code",
      "execution_count": 65,
      "metadata": {},
      "outputs": [
        {
          "name": "stdout",
          "output_type": "stream",
          "text": [
            "cd is a shell builtin\n"
          ]
        }
      ],
      "source": [
        "!type cd"
      ]
    },
    {
      "cell_type": "code",
      "execution_count": 66,
      "metadata": {},
      "outputs": [
        {
          "name": "stdout",
          "output_type": "stream",
          "text": [
            "mkdir is /usr/bin/mkdir\n"
          ]
        }
      ],
      "source": [
        "!type mkdir"
      ]
    },
    {
      "cell_type": "code",
      "execution_count": 67,
      "metadata": {},
      "outputs": [
        {
          "name": "stdout",
          "output_type": "stream",
          "text": [
            "ls is /usr/bin/ls\n"
          ]
        }
      ],
      "source": [
        "!type ls"
      ]
    },
    {
      "cell_type": "markdown",
      "metadata": {},
      "source": [
        "## O que \u00e9 um alias?"
      ]
    },
    {
      "cell_type": "markdown",
      "metadata": {},
      "source": [
        "Um alias \u00e9 um comando que definimos n\u00f3s mesmos, este se define mediante o comando `alias`. Por exemplo, vamos criar o alias `l` que fa\u00e7a `ls -h`"
      ]
    },
    {
      "cell_type": "code",
      "execution_count": 68,
      "metadata": {},
      "outputs": [],
      "source": [
        "!alias l='ls -l'"
      ]
    },
    {
      "cell_type": "markdown",
      "metadata": {},
      "source": [
        "Quando executamos `l` nos mostra o resultado de `ls -h`"
      ]
    },
    {
      "cell_type": "code",
      "execution_count": 67,
      "metadata": {},
      "outputs": [
        {
          "name": "stdout",
          "output_type": "stream",
          "text": [
            "2021-02-11-Introducci\u00f3n-a-Python.ipynb\n"
          ]
        }
      ],
      "source": [
        "!l"
      ]
    },
    {
      "cell_type": "markdown",
      "metadata": {},
      "source": [
        "Mas isso tem o problema de que, quando fechamos o terminal, o `alias` desaparece. Mais adiante, aprenderemos a criar `alias` permanentes."
      ]
    },
    {
      "cell_type": "markdown",
      "metadata": {},
      "source": [
        "## Ajuda dos comandos"
      ]
    },
    {
      "cell_type": "markdown",
      "metadata": {},
      "source": [
        "### Ajuda com `help`"
      ]
    },
    {
      "cell_type": "markdown",
      "metadata": {},
      "source": [
        "Com muitos comandos do shell, podemos obter sua ajuda atrav\u00e9s do comando `help`"
      ]
    },
    {
      "cell_type": "code",
      "execution_count": 67,
      "metadata": {},
      "outputs": [
        {
          "name": "stdout",
          "output_type": "stream",
          "text": [
            "cd: cd [-L|[-P [-e]]] [dir]\n",
            "    Modifica el directorio de trabajo del shell.\n",
            "    \n",
            "    Modifica el directorio actual a DIR.  DIR por defecto es el valor de la\n",
            "    variable de shell HOME.\n",
            "    \n",
            "    La variable CDPATH define la ruta de b\u00fasqueda para el directorio que\n",
            "    contiene DIR.  Los nombres alternativos de directorio en CDPATH se\n",
            "    separan con dos puntos (:).  Un nombre de directorio nulo es igual que\n",
            "    el directorio actual.  Si DIR comienza con una barra inclinada (/),\n",
            "    entonces no se usa CDPATH.\n",
            "    \n",
            "    Si no se encuentra el directorio, y la opci\u00f3n del shell \"cdable_vars\"\n",
            "    est\u00e1 activa, entonces se trata la palabra como un nombre de variable.\n",
            "    Si esa variable tiene un valor, se utiliza su valor para DIR.\n",
            "    \n",
            "    Opciones:\n",
            "      -L\tfuerza a seguir los enlaces simb\u00f3licos: resuelve los enlaces\n",
            "    \t\tsimb\u00f3licos en DIR despu\u00e9s de procesar las instancias de \"..\"\n",
            "      -P\tusa la estructura f\u00edsica de directorios sin seguir los enlaces\n",
            "    \t\tsimb\u00f3licos: resuelve los enlaces simb\u00f3licos en DIR antes de procesar\n",
            "    \t\tlas instancias de \"..\"\n",
            "      -e\tsi se da la opci\u00f3n -P y el directorio actual de trabajo no se\n",
            "    \t\tpuede determinar con \u00e9xito, termina con un estado diferente de cero.\n",
            "    \n",
            "    La acci\u00f3n por defecto es seguir los enlaces simb\u00f3licos, como si se\n",
            "    especificara \"-L\".\n",
            "    \"..\" se procesa quitando la componente del nombre de la ruta inmediatamente\n",
            "    anterior hasta una barra inclinada o el comienzo de DIR.\n",
            "    \n",
            "    Estado de Salida:\n",
            "    Devuelve 0 si se cambia el directorio, y si $PWD est\u00e1 definido como\n",
            "    correcto cuando se emplee -P; de otra forma es diferente a cero.\n"
          ]
        }
      ],
      "source": [
        "!help cd"
      ]
    },
    {
      "cell_type": "markdown",
      "metadata": {},
      "source": [
        "### Manual com `man`"
      ]
    },
    {
      "cell_type": "markdown",
      "metadata": {},
      "source": [
        "Outro comando \u00e9 `man`, que faz refer\u00eancia ao manual do usu\u00e1rio."
      ]
    },
    {
      "cell_type": "code",
      "execution_count": 70,
      "metadata": {},
      "outputs": [
        {
          "name": "stdout",
          "output_type": "stream",
          "text": [
            "LS(1)                            User Commands                           LS(1)\n",
            "\n",
            "NAME\n",
            "       ls - list directory contents\n",
            "\n",
            "SYNOPSIS\n",
            "       ls [OPTION]... [FILE]...\n",
            "\n",
            "DESCRIPTION\n",
            "       List  information  about  the FILEs (the current directory by default).\n",
            "       Sort entries alphabetically if none of -cftuvSUX nor --sort  is  speci\u2010\n",
            "       fied.\n",
            "\n",
            "       Mandatory  arguments  to  long  options are mandatory for short options\n",
            "       too.\n",
            "\n",
            "       -a, --all\n",
            "              do not ignore entries starting with .\n",
            "\n",
            "       -A, --almost-all\n",
            "\t ...\n",
            "       Full documentation at: <https://www.gnu.org/software/coreutils/ls>\n",
            "       or available locally via: info '(coreutils) ls invocation'\n",
            "\n",
            "GNU coreutils 8.30              September 2019                           LS(1)\n",
            "\n"
          ]
        }
      ],
      "source": [
        "terminal(\"man ls\", max_lines_output=20)"
      ]
    },
    {
      "cell_type": "markdown",
      "metadata": {},
      "source": [
        "Para sair, pressione `q`, j\u00e1 que `man` utiliza o `less` como visualizador do manual"
      ]
    },
    {
      "cell_type": "markdown",
      "metadata": {},
      "source": [
        "### Informa\u00e7\u00e3o com `info`"
      ]
    },
    {
      "cell_type": "markdown",
      "metadata": {},
      "source": [
        "Outro comando \u00e9 `info`"
      ]
    },
    {
      "cell_type": "code",
      "execution_count": 71,
      "metadata": {},
      "outputs": [
        {
          "name": "stdout",
          "output_type": "stream",
          "text": [
            "File: coreutils.info,  Node: ls invocation,  Next: dir invocation,  Up: Directory listing\n",
            "\n",
            "10.1 \u2018ls\u2019: List directory contents\n",
            "==================================\n",
            "\n",
            "The \u2018ls\u2019 program lists information about files (of any type, including\n",
            "directories).  Options and file arguments can be intermixed arbitrarily,\n",
            "as usual.\n",
            "\n",
            "   For non-option command-line arguments that are directories, by\n",
            "default \u2018ls\u2019 lists the contents of directories, not recursively, and\n",
            "omitting files with names beginning with \u2018.\u2019.  For other non-option\n",
            "arguments, by default \u2018ls\u2019 lists just the file name.  If no non-option\n",
            "argument is specified, \u2018ls\u2019 operates on the current directory, acting as\n",
            "if it had been invoked with a single argument of \u2018.\u2019.\n",
            "\n",
            "   By default, the output is sorted alphabetically, according to the\n",
            "locale settings in effect.(1)  If standard output is a terminal, the\n",
            "output is in columns (sorted vertically) and control characters are\n",
            "output as question marks; otherwise, the output is listed one per line\n",
            "\t ...\n",
            "\u2018--show-control-chars\u2019\n",
            "     Print nongraphic characters as-is in file names.  This is the\n",
            "     default unless the output is a terminal and the program is \u2018ls\u2019.\n",
            "\n",
            "\n"
          ]
        }
      ],
      "source": [
        "terminal(\"info ls\", max_lines_output=20)"
      ]
    },
    {
      "cell_type": "markdown",
      "metadata": {},
      "source": [
        "Para sair, pressione `q`, j\u00e1 que `info` usa `less` como visualizador de informa\u00e7\u00f5es"
      ]
    },
    {
      "cell_type": "markdown",
      "metadata": {},
      "source": [
        "### Informa\u00e7\u00f5es de um comando com `whatis`"
      ]
    },
    {
      "cell_type": "markdown",
      "metadata": {},
      "source": [
        "Outro comando \u00e9 `whatis`"
      ]
    },
    {
      "cell_type": "code",
      "execution_count": 72,
      "metadata": {},
      "outputs": [
        {
          "name": "stdout",
          "output_type": "stream",
          "text": [
            "ls (1)               - list directory contents\n",
            "\n"
          ]
        }
      ],
      "source": [
        "terminal(\"whatis ls\")"
      ]
    },
    {
      "cell_type": "markdown",
      "metadata": {},
      "source": [
        "## Wildcards"
      ]
    },
    {
      "cell_type": "markdown",
      "metadata": {},
      "source": [
        "As wildcards s\u00e3o caracteres especiais que nos servem para realizar buscas especiais. Por exemplo, se quero buscar todos os arquivos que terminem em `.txt`. Vamos criar alguns arquivos para v\u00ea-las."
      ]
    },
    {
      "cell_type": "code",
      "execution_count": 73,
      "metadata": {},
      "outputs": [
        {
          "name": "stdout",
          "output_type": "stream",
          "text": [
            "\n"
          ]
        }
      ],
      "source": [
        "terminal(\"touch file.txt dot.txt dot2.txt index.html datos1 datos123 Abc\")"
      ]
    },
    {
      "cell_type": "code",
      "execution_count": 74,
      "metadata": {},
      "outputs": [
        {
          "name": "stdout",
          "output_type": "stream",
          "text": [
            "2021-02-11-Introduccion-a-Python.ipynb\n",
            "Abc\n",
            "datos1\n",
            "datos123\n",
            "dot2.txt\n",
            "dot.txt\n",
            "file.txt\n",
            "index.html\n",
            "\n"
          ]
        }
      ],
      "source": [
        "terminal(\"ls\")"
      ]
    },
    {
      "cell_type": "markdown",
      "metadata": {},
      "source": [
        "### Todos os caracteres `*`"
      ]
    },
    {
      "cell_type": "markdown",
      "metadata": {},
      "source": [
        "Vamos buscar agora todos os arquivos `.txt`"
      ]
    },
    {
      "cell_type": "code",
      "execution_count": 75,
      "metadata": {},
      "outputs": [
        {
          "name": "stdout",
          "output_type": "stream",
          "text": [
            "dot2.txt  dot.txt  file.txt\n"
          ]
        }
      ],
      "source": [
        "!ls *.txt"
      ]
    },
    {
      "cell_type": "markdown",
      "metadata": {},
      "source": [
        "Vamos agora procurar todos que comecem com a palavra `dados`"
      ]
    },
    {
      "cell_type": "code",
      "execution_count": 76,
      "metadata": {},
      "outputs": [
        {
          "name": "stdout",
          "output_type": "stream",
          "text": [
            "datos1\tdatos123\n"
          ]
        }
      ],
      "source": [
        "!ls datos*"
      ]
    },
    {
      "cell_type": "markdown",
      "metadata": {},
      "source": [
        "### N\u00fameros `?`"
      ]
    },
    {
      "cell_type": "markdown",
      "metadata": {},
      "source": [
        "Mas o que acontece se na realidade o que queremos \u00e9 que nos mostre todos os arquivos que comecem pela palavra `dados` mas seguido apenas de um n\u00famero, temos que colocar um ponto de interroga\u00e7\u00e3o `?`"
      ]
    },
    {
      "cell_type": "code",
      "execution_count": 76,
      "metadata": {},
      "outputs": [
        {
          "name": "stdout",
          "output_type": "stream",
          "text": [
            "datos1\n"
          ]
        }
      ],
      "source": [
        "!ls datos?"
      ]
    },
    {
      "cell_type": "markdown",
      "metadata": {},
      "source": [
        "Se o que queremos \u00e9 que tenha tr\u00eas n\u00fameros, ent\u00e3o temos que colocar tr\u00eas pontos de interroga\u00e7\u00e3o `???`"
      ]
    },
    {
      "cell_type": "code",
      "execution_count": 76,
      "metadata": {},
      "outputs": [
        {
          "name": "stdout",
          "output_type": "stream",
          "text": [
            "datos123\n"
          ]
        }
      ],
      "source": [
        "!ls datos???"
      ]
    },
    {
      "cell_type": "markdown",
      "metadata": {},
      "source": [
        "### Mai\u00fasculas `[[:upper:]]`"
      ]
    },
    {
      "cell_type": "markdown",
      "metadata": {},
      "source": [
        "Se queremos que procure os arquivos que comecem por mai\u00fasculas"
      ]
    },
    {
      "cell_type": "code",
      "execution_count": 76,
      "metadata": {},
      "outputs": [
        {
          "name": "stdout",
          "output_type": "stream",
          "text": [
            "Abc\n"
          ]
        }
      ],
      "source": [
        "!ls [[:upper:]]*"
      ]
    },
    {
      "cell_type": "markdown",
      "metadata": {},
      "source": [
        "### Min\u00fasculas `[[:lower:]]`"
      ]
    },
    {
      "cell_type": "markdown",
      "metadata": {},
      "source": [
        "Para os arquivos que comecem com min\u00fasculas."
      ]
    },
    {
      "cell_type": "code",
      "execution_count": 76,
      "metadata": {},
      "outputs": [
        {
          "name": "stdout",
          "output_type": "stream",
          "text": [
            "datos1  datos123  dot2.txt  dot.txt  file.txt  index.html\n"
          ]
        }
      ],
      "source": [
        "!ls [[:lower:]]*"
      ]
    },
    {
      "cell_type": "markdown",
      "metadata": {},
      "source": [
        "### Aulas"
      ]
    },
    {
      "cell_type": "markdown",
      "metadata": {},
      "source": [
        "Mediante o uso de colchetes podemos criar classes, assim se quisermos buscar os arquivos que comecem com as letras `d` ou `f` seguido de qualquer caractere"
      ]
    },
    {
      "cell_type": "code",
      "execution_count": 76,
      "metadata": {},
      "outputs": [
        {
          "name": "stdout",
          "output_type": "stream",
          "text": [
            "datos1  datos123  dot2.txt  dot.txt  file.txt\n"
          ]
        }
      ],
      "source": [
        "!ls [df]*"
      ]
    },
    {
      "cell_type": "markdown",
      "metadata": {},
      "source": [
        "## Redirecionamentos: como funciona o shell"
      ]
    },
    {
      "cell_type": "markdown",
      "metadata": {},
      "source": [
        "Um comando funciona da seguinte maneira",
        "\n",
        "![pipeline comando](https://ptgmedia.pearsoncmg.com/images/chap5_9780133927313/elementLinks/05fig02_alt.jpg)",
        "\n",
        "Tem um `standard input`, que por padr\u00e3o \u00e9 o texto que introduzimos pelo teclado, um `standard output`, que por padr\u00e3o \u00e9 o texto que sai pelo console e um `standard error` que tamb\u00e9m \u00e9 por padr\u00e3o um texto que sai pelo console, mas que tem outro formato"
      ]
    },
    {
      "cell_type": "markdown",
      "metadata": {},
      "source": [
        "### Redirecionando a `standard output`"
      ]
    },
    {
      "cell_type": "markdown",
      "metadata": {},
      "source": [
        "Mas com o caractere `>` podemos modificar o `standard output` de um comando. Por exemplo, se queremos listar com `ls` os arquivos da pasta em que estamos, mas n\u00e3o queremos que o resultado seja impresso na tela, e sim que seja salvo em um arquivo, far\u00edamos o seguinte `ls > lista.txt`, isso escreve a lista em `lista.txt`, al\u00e9m disso, se `lista.txt` n\u00e3o existir, ele o cria."
      ]
    },
    {
      "cell_type": "code",
      "execution_count": 77,
      "metadata": {},
      "outputs": [],
      "source": [
        "!ls > lista.txt"
      ]
    },
    {
      "cell_type": "markdown",
      "metadata": {},
      "source": [
        "Vemos que criou o arquivo e vemos o que h\u00e1 dentro"
      ]
    },
    {
      "cell_type": "code",
      "execution_count": 78,
      "metadata": {},
      "outputs": [
        {
          "name": "stdout",
          "output_type": "stream",
          "text": [
            "2021-02-11-Introduccion-a-Python.ipynb\n",
            "Abc\n",
            "datos1\n",
            "datos123\n",
            "dot2.txt\n",
            "dot.txt\n",
            "file.txt\n",
            "index.html\n",
            "lista.txt\n",
            "\n"
          ]
        }
      ],
      "source": [
        "terminal(\"ls\")"
      ]
    },
    {
      "cell_type": "code",
      "execution_count": 79,
      "metadata": {},
      "outputs": [
        {
          "name": "stdout",
          "output_type": "stream",
          "text": [
            "2021-02-11-Introduccion-a-Python.ipynb\n",
            "Abc\n",
            "datos1\n",
            "datos123\n",
            "dot2.txt\n",
            "dot.txt\n",
            "file.txt\n",
            "index.html\n",
            "lista.txt\n",
            "\n"
          ]
        }
      ],
      "source": [
        "terminal(\"cat lista.txt\")"
      ]
    },
    {
      "cell_type": "markdown",
      "metadata": {},
      "source": [
        "Vemos que dentro de `lista.txt` aparece `lista.txt`, isso \u00e9 porque primeiro cria o arquivo e depois executa o comando"
      ]
    },
    {
      "cell_type": "markdown",
      "metadata": {},
      "source": [
        "    Fazemos o mesmo, mas com a pasta pai"
      ]
    },
    {
      "cell_type": "code",
      "execution_count": 80,
      "metadata": {},
      "outputs": [],
      "source": [
        "!ls ../ > lista.txt"
      ]
    },
    {
      "cell_type": "markdown",
      "metadata": {},
      "source": [
        "Se voltarmos a ver dentro de `lista.txt`"
      ]
    },
    {
      "cell_type": "code",
      "execution_count": 81,
      "metadata": {},
      "outputs": [
        {
          "name": "stdout",
          "output_type": "stream",
          "text": [
            "2021-02-11-Introduccion-a-Python.ipynb\n",
            "2021-04-23-Calculo-matricial-con-Numpy.ipynb\n",
            "2021-06-15-Manejo-de-datos-con-Pandas.ipynb\n",
            "2022-09-12 Introduccion a la terminal.ipynb\n",
            "2022-09-12 Introduccion a la terminal.txt\n",
            "command-line-cheat-sheet.pdf\n",
            "CSS.ipynb\n",
            "Docker.html\n",
            "Docker.ipynb\n",
            "Expresiones regulares.html\n",
            "Expresiones regulares.ipynb\n",
            "html_files\n",
            "html.ipynb\n",
            "introduccion_python\n",
            "movies.csv\n",
            "movies.dat\n",
            "notebooks_translated\n",
            "prueba\n",
            "__pycache__\n",
            "ssh.ipynb\n",
            "test.html\n",
            "test.ipynb\n",
            "\n"
          ]
        }
      ],
      "source": [
        "terminal(\"cat lista.txt\")"
      ]
    },
    {
      "cell_type": "markdown",
      "metadata": {},
      "source": [
        "Vemos que o conte\u00fado \u00e9 sobrescrito"
      ]
    },
    {
      "cell_type": "markdown",
      "metadata": {},
      "source": [
        "Se o que queremos \u00e9 que o conte\u00fado seja concatenado, devemos usar `>>`"
      ]
    },
    {
      "cell_type": "code",
      "execution_count": 82,
      "metadata": {},
      "outputs": [],
      "source": [
        "!ls > lista.txt"
      ]
    },
    {
      "cell_type": "code",
      "execution_count": 83,
      "metadata": {},
      "outputs": [],
      "source": [
        "!ls ../ >> lista.txt"
      ]
    },
    {
      "cell_type": "code",
      "execution_count": 84,
      "metadata": {},
      "outputs": [
        {
          "name": "stdout",
          "output_type": "stream",
          "text": [
            "2021-02-11-Introduccion-a-Python.ipynb\n",
            "Abc\n",
            "datos1\n",
            "datos123\n",
            "dot2.txt\n",
            "dot.txt\n",
            "file.txt\n",
            "index.html\n",
            "lista.txt\n",
            "2021-02-11-Introduccion-a-Python.ipynb\n",
            "2021-04-23-Calculo-matricial-con-Numpy.ipynb\n",
            "2021-06-15-Manejo-de-datos-con-Pandas.ipynb\n",
            "2022-09-12 Introduccion a la terminal.ipynb\n",
            "2022-09-12 Introduccion a la terminal.txt\n",
            "command-line-cheat-sheet.pdf\n",
            "CSS.ipynb\n",
            "Docker.html\n",
            "Docker.ipynb\n",
            "Expresiones regulares.html\n",
            "Expresiones regulares.ipynb\n",
            "html_files\n",
            "html.ipynb\n",
            "introduccion_python\n",
            "movies.csv\n",
            "movies.dat\n",
            "notebooks_translated\n",
            "prueba\n",
            "__pycache__\n",
            "ssh.ipynb\n",
            "test.html\n",
            "test.ipynb\n",
            "\n"
          ]
        }
      ],
      "source": [
        "terminal(\"cat lista.txt\")"
      ]
    },
    {
      "cell_type": "markdown",
      "metadata": {},
      "source": [
        "Agora sim a informa\u00e7\u00e3o foi concatenada"
      ]
    },
    {
      "cell_type": "markdown",
      "metadata": {},
      "source": [
        "Isso \u00e9 muito \u00fatil para criar arquivos de log"
      ]
    },
    {
      "cell_type": "markdown",
      "metadata": {},
      "source": [
        "### Redirecionamento do `standard error`"
      ]
    },
    {
      "cell_type": "markdown",
      "metadata": {},
      "source": [
        "Se realizarmos uma opera\u00e7\u00e3o incorreta obtemos um erro, vejamos o que acontece ao redirecionar um comando que d\u00e1 um erro"
      ]
    },
    {
      "cell_type": "code",
      "execution_count": 85,
      "metadata": {},
      "outputs": [
        {
          "name": "stdout",
          "output_type": "stream",
          "text": [
            "ls: no se puede acceder a 'fjhdsalkfs': No existe el archivo o el directorio\n"
          ]
        }
      ],
      "source": [
        "!ls fjhdsalkfs > lista.txt"
      ]
    },
    {
      "cell_type": "markdown",
      "metadata": {},
      "source": [
        "Como vemos, ocorreu um erro, mas se agora verificarmos dentro de `lista.txt`"
      ]
    },
    {
      "cell_type": "code",
      "execution_count": 86,
      "metadata": {},
      "outputs": [
        {
          "name": "stdout",
          "output_type": "stream",
          "text": [
            "\n"
          ]
        }
      ],
      "source": [
        "terminal(\"cat lista.txt\")"
      ]
    },
    {
      "cell_type": "markdown",
      "metadata": {},
      "source": [
        "Vemos que o arquivo est\u00e1 vazio, isso \u00e9 porque n\u00e3o redirecionamos o `standard error` para `lista.txt`, mas sim o `standard output`. Como vimos na imagem, h\u00e1 dois standards de sa\u00edda em um comando, o primeiro \u00e9 o `standard output` e o segundo \u00e9 o `standard error`, portanto, para redirecionar o standard error, precisamos indic\u00e1-lo atrav\u00e9s de `2>`. Vamos agora assim"
      ]
    },
    {
      "cell_type": "code",
      "execution_count": 87,
      "metadata": {},
      "outputs": [],
      "source": [
        "!ls kjhsfskjd 2> lista.txt"
      ]
    },
    {
      "cell_type": "code",
      "execution_count": 88,
      "metadata": {},
      "outputs": [
        {
          "name": "stdout",
          "output_type": "stream",
          "text": [
            "ls: no se puede acceder a 'kjhsfskjd': No existe el archivo o el directorio\n",
            "\n"
          ]
        }
      ],
      "source": [
        "terminal(\"cat lista.txt\")"
      ]
    },
    {
      "cell_type": "markdown",
      "metadata": {},
      "source": [
        "Como vemos agora sim foi redirecionado"
      ]
    },
    {
      "cell_type": "markdown",
      "metadata": {},
      "source": [
        "### Redirecionamento do `standard output` e do `standard error`"
      ]
    },
    {
      "cell_type": "markdown",
      "metadata": {},
      "source": [
        "Se quisermos redirecionar ambos usamos o seguinte"
      ]
    },
    {
      "cell_type": "code",
      "execution_count": 89,
      "metadata": {},
      "outputs": [],
      "source": [
        "!ls kjhsfskjd > lista.txt 2>&1"
      ]
    },
    {
      "cell_type": "markdown",
      "metadata": {},
      "source": [
        "Vamos ver dentro de `lista.txt`"
      ]
    },
    {
      "cell_type": "code",
      "execution_count": 90,
      "metadata": {},
      "outputs": [
        {
          "name": "stdout",
          "output_type": "stream",
          "text": [
            "ls: no se puede acceder a 'kjhsfskjd': No existe el archivo o el directorio\n",
            "\n"
          ]
        }
      ],
      "source": [
        "terminal(\"cat lista.txt\")"
      ]
    },
    {
      "cell_type": "markdown",
      "metadata": {},
      "source": [
        "Se agora executarmos um comando sem erros"
      ]
    },
    {
      "cell_type": "code",
      "execution_count": 91,
      "metadata": {},
      "outputs": [],
      "source": [
        "!ls . >> lista.txt 2>&1"
      ]
    },
    {
      "cell_type": "markdown",
      "metadata": {},
      "source": [
        "Vejamos dentro de `lista.txt` (**aten\u00e7\u00e3o**, agora concatenamos)"
      ]
    },
    {
      "cell_type": "code",
      "execution_count": 92,
      "metadata": {},
      "outputs": [
        {
          "name": "stdout",
          "output_type": "stream",
          "text": [
            "ls: no se puede acceder a 'kjhsfskjd': No existe el archivo o el directorio\n",
            "2021-02-11-Introduccion-a-Python.ipynb\n",
            "Abc\n",
            "datos1\n",
            "datos123\n",
            "dot2.txt\n",
            "dot.txt\n",
            "file.txt\n",
            "index.html\n",
            "lista.txt\n",
            "\n"
          ]
        }
      ],
      "source": [
        "terminal(\"cat lista.txt\")"
      ]
    },
    {
      "cell_type": "markdown",
      "metadata": {},
      "source": [
        "Como se pode ver, foram redirecionados, tanto o `standard error`, quanto o `standard output` para o mesmo arquivo."
      ]
    },
    {
      "cell_type": "markdown",
      "metadata": {},
      "source": [
        "## Pipelines"
      ]
    },
    {
      "cell_type": "markdown",
      "metadata": {},
      "source": [
        "Podemos criar pipelines fazendo com que a `standard output` de um comando se torne a `standard input` de outro. Por exemplo, vamos fazer com que a sa\u00edda de `ls -lha` seja a entrada de `grep`, que veremos mais adiante, mas \u00e9 um comando para buscar."
      ]
    },
    {
      "cell_type": "code",
      "execution_count": 93,
      "metadata": {},
      "outputs": [
        {
          "name": "stdout",
          "output_type": "stream",
          "text": [
            "-rw-rw-r-- 1 wallabot wallabot    0 dic  6 00:56 dot2.txt\n",
            "-rw-rw-r-- 1 wallabot wallabot    0 dic  6 00:56 dot.txt\n",
            "-rw-rw-r-- 1 wallabot wallabot    0 dic  6 00:56 file.txt\n",
            "-rw-rw-r-- 1 wallabot wallabot  182 dic  6 01:06 lista.txt\n"
          ]
        }
      ],
      "source": [
        "!ls -lha |  grep -i \"txt\""
      ]
    },
    {
      "cell_type": "markdown",
      "metadata": {},
      "source": [
        "Como podemos ver, o que fizemos foi direcionar a sa\u00edda de `ls` para `grep` com o qual procuramos por algum arquivo com `txt` no nome."
      ]
    },
    {
      "cell_type": "markdown",
      "metadata": {},
      "source": [
        "## Operadores de controle - encadear comandos"
      ]
    },
    {
      "cell_type": "markdown",
      "metadata": {},
      "source": [
        "### Comandos de maneira sequencial"
      ]
    },
    {
      "cell_type": "markdown",
      "metadata": {},
      "source": [
        "Uma forma de encadear comandos de forma sequencial \u00e9 separ\u00e1-los atrav\u00e9s de `;`. Isso cria diferentes threads para cada tarefa"
      ]
    },
    {
      "cell_type": "code",
      "execution_count": 94,
      "metadata": {},
      "outputs": [
        {
          "name": "stdout",
          "output_type": "stream",
          "text": [
            "2021-02-11-Introduccion-a-Python.ipynb\tdatos123  file.txt\n",
            "Abc\t\t\t\t\tdot2.txt  index.html\n",
            "datos1\t\t\t\t\tdot.txt   lista.txt\n",
            "Hola\n",
            "   Diciembre 2022     \n",
            "do lu ma mi ju vi s\u00e1  \n",
            "             1  2  3  \n",
            " 4  5 \u001b[7m 6\u001b[m  7  8  9 10  \n",
            "11 12 13 14 15 16 17  \n",
            "18 19 20 21 22 23 24  \n",
            "25 26 27 28 29 30 31  \n",
            "                      \n"
          ]
        }
      ],
      "source": [
        "!ls; echo 'Hola'; cal"
      ]
    },
    {
      "cell_type": "markdown",
      "metadata": {},
      "source": [
        "Como podemos ver, primeiro foi executado o comando `ls`, depois foi impresso \"Ol\u00e1\" gra\u00e7as ao comando `echo \"Ol\u00e1\"` e por \u00faltimo foi impresso um calend\u00e1rio gra\u00e7as ao comando `cal`"
      ]
    },
    {
      "cell_type": "markdown",
      "metadata": {},
      "source": [
        "content_filter_results: {'hate': {'filtered': False, 'severity': 'safe'}, 'self_harm': {'filtered': False, 'severity': 'safe'}, 'sexual': {'filtered': False, 'severity': 'safe'}, 'violence': {'filtered': True, 'severity': 'medium'}}\nmessage_content: None"
      ]
    },
    {
      "cell_type": "code",
      "execution_count": 95,
      "metadata": {},
      "outputs": [
        {
          "name": "stdout",
          "output_type": "stream",
          "text": [
            "Before touch;\n",
            "total 292K\n",
            "drwxrwxr-x 2 wallabot wallabot 4,0K dic  6 01:04 .\n",
            "drwxrwxr-x 7 wallabot wallabot 4,0K dic  6 00:24 ..\n",
            "-rw-rw-r-- 1 wallabot wallabot 280K dic  6 00:28 2021-02-11-Introduccion-a-Python.ipynb\n",
            "-rw-rw-r-- 1 wallabot wallabot    0 dic  6 00:56 Abc\n",
            "-rw-rw-r-- 1 wallabot wallabot    0 dic  6 00:56 datos1\n",
            "-rw-rw-r-- 1 wallabot wallabot    0 dic  6 00:56 datos123\n",
            "-rw-rw-r-- 1 wallabot wallabot    0 dic  6 00:56 dot2.txt\n",
            "-rw-rw-r-- 1 wallabot wallabot    0 dic  6 00:56 dot.txt\n",
            "-rw-rw-r-- 1 wallabot wallabot    0 dic  6 00:56 file.txt\n",
            "-rw-rw-r-- 1 wallabot wallabot    0 dic  6 00:56 index.html\n",
            "-rw-rw-r-- 1 wallabot wallabot  182 dic  6 01:06 lista.txt\n",
            "After touch:\n",
            "total 292K\n",
            "drwxrwxr-x 2 wallabot wallabot 4,0K dic  6 01:07 .\n",
            "drwxrwxr-x 7 wallabot wallabot 4,0K dic  6 00:24 ..\n",
            "-rw-rw-r-- 1 wallabot wallabot 280K dic  6 00:28 2021-02-11-Introduccion-a-Python.ipynb\n",
            "-rw-rw-r-- 1 wallabot wallabot    0 dic  6 00:56 Abc\n",
            "-rw-rw-r-- 1 wallabot wallabot    0 dic  6 00:56 datos1\n",
            "-rw-rw-r-- 1 wallabot wallabot    0 dic  6 00:56 datos123\n",
            "-rw-rw-r-- 1 wallabot wallabot    0 dic  6 00:56 dot2.txt\n",
            "-rw-rw-r-- 1 wallabot wallabot    0 dic  6 00:56 dot.txt\n",
            "-rw-rw-r-- 1 wallabot wallabot    0 dic  6 00:56 file.txt\n",
            "-rw-rw-r-- 1 wallabot wallabot    0 dic  6 00:56 index.html\n",
            "-rw-rw-r-- 1 wallabot wallabot  182 dic  6 01:06 lista.txt\n",
            "-rw-rw-r-- 1 wallabot wallabot    0 dic  6 01:07 secuential.txt\n"
          ]
        }
      ],
      "source": [
        "!echo \"Before touch;\"; ls -lha; touch secuential.txt; echo \"After touch:\"; ls -lha"
      ]
    },
    {
      "cell_type": "markdown",
      "metadata": {},
      "source": [
        "Como voc\u00ea pode ver, no primeiro `ls` n\u00e3o aparece `secuential.txt`, enquanto que no segundo sim. Isso quer dizer que os comandos foram executados em ordem, um atr\u00e1s do outro."
      ]
    },
    {
      "cell_type": "markdown",
      "metadata": {},
      "source": [
        "### Comandos em paralelo"
      ]
    },
    {
      "cell_type": "markdown",
      "metadata": {},
      "source": [
        "Se o que queremos \u00e9 que os comandos sejam executados de maneira paralela, \u00e9 preciso usar o operador `&`, isso far\u00e1 com que seja criado um novo processo para cada comando"
      ]
    },
    {
      "cell_type": "markdown",
      "metadata": {},
      "source": [
        "Vamos ver o exemplo de antes"
      ]
    },
    {
      "cell_type": "code",
      "execution_count": 96,
      "metadata": {},
      "outputs": [],
      "source": [
        "!rm secuential.txt"
      ]
    },
    {
      "cell_type": "code",
      "execution_count": 97,
      "metadata": {},
      "outputs": [
        {
          "name": "stdout",
          "output_type": "stream",
          "text": [
            "Before touch;\n",
            "After touch:\n",
            "total 292K\n",
            "drwxrwxr-x 2 wallabot wallabot 4,0K dic  6 01:08 .\n",
            "drwxrwxr-x 7 wallabot wallabot 4,0K dic  6 00:24 ..\n",
            "-rw-rw-r-- 1 wallabot wallabot 280K dic  6 00:28 2021-02-11-Introduccion-a-Python.ipynb\n",
            "-rw-rw-r-- 1 wallabot wallabot    0 dic  6 00:56 Abc\n",
            "-rw-rw-r-- 1 wallabot wallabot    0 dic  6 00:56 datos1\n",
            "-rw-rw-r-- 1 wallabot wallabot    0 dic  6 00:56 datos123\n",
            "-rw-rw-r-- 1 wallabot wallabot    0 dic  6 00:56 dot2.txt\n",
            "-rw-rw-r-- 1 wallabot wallabot    0 dic  6 00:56 dot.txt\n",
            "-rw-rw-r-- 1 wallabot wallabot    0 dic  6 00:56 file.txt\n",
            "-rw-rw-r-- 1 wallabot wallabot    0 dic  6 00:56 index.html\n",
            "-rw-rw-r-- 1 wallabot wallabot  182 dic  6 01:06 lista.txt\n",
            "-rw-rw-r-- 1 wallabot wallabot    0 dic  6 01:08 secuential.txt\n"
          ]
        }
      ],
      "source": [
        "!echo \"Before touch;\" & ls -lha & touch secuential.txt & echo \"After touch:\" & ls -lha"
      ]
    },
    {
      "cell_type": "markdown",
      "metadata": {},
      "source": [
        502
      ]
    },
    {
      "cell_type": "markdown",
      "metadata": {},
      "source": [
        "### Comandos de maneira condicional"
      ]
    },
    {
      "cell_type": "markdown",
      "metadata": {},
      "source": [
        "#### E"
      ]
    },
    {
      "cell_type": "markdown",
      "metadata": {},
      "source": [
        "Utilizando o operador `&&`, um comando ser\u00e1 executado quando o anterior tiver sido executado com sucesso."
      ]
    },
    {
      "cell_type": "code",
      "execution_count": 98,
      "metadata": {},
      "outputs": [],
      "source": [
        "!rm secuential.txt"
      ]
    },
    {
      "cell_type": "code",
      "execution_count": 99,
      "metadata": {},
      "outputs": [
        {
          "name": "stdout",
          "output_type": "stream",
          "text": [
            "Before touch;\n",
            "total 292K\n",
            "drwxrwxr-x 2 wallabot wallabot 4,0K dic  6 01:08 .\n",
            "drwxrwxr-x 7 wallabot wallabot 4,0K dic  6 00:24 ..\n",
            "-rw-rw-r-- 1 wallabot wallabot 280K dic  6 00:28 2021-02-11-Introduccion-a-Python.ipynb\n",
            "-rw-rw-r-- 1 wallabot wallabot    0 dic  6 00:56 Abc\n",
            "-rw-rw-r-- 1 wallabot wallabot    0 dic  6 00:56 datos1\n",
            "-rw-rw-r-- 1 wallabot wallabot    0 dic  6 00:56 datos123\n",
            "-rw-rw-r-- 1 wallabot wallabot    0 dic  6 00:56 dot2.txt\n",
            "-rw-rw-r-- 1 wallabot wallabot    0 dic  6 00:56 dot.txt\n",
            "-rw-rw-r-- 1 wallabot wallabot    0 dic  6 00:56 file.txt\n",
            "-rw-rw-r-- 1 wallabot wallabot    0 dic  6 00:56 index.html\n",
            "-rw-rw-r-- 1 wallabot wallabot  182 dic  6 01:06 lista.txt\n",
            "After touch:\n",
            "total 292K\n",
            "drwxrwxr-x 2 wallabot wallabot 4,0K dic  6 01:08 .\n",
            "drwxrwxr-x 7 wallabot wallabot 4,0K dic  6 00:24 ..\n",
            "-rw-rw-r-- 1 wallabot wallabot 280K dic  6 00:28 2021-02-11-Introduccion-a-Python.ipynb\n",
            "-rw-rw-r-- 1 wallabot wallabot    0 dic  6 00:56 Abc\n",
            "-rw-rw-r-- 1 wallabot wallabot    0 dic  6 00:56 datos1\n",
            "-rw-rw-r-- 1 wallabot wallabot    0 dic  6 00:56 datos123\n",
            "-rw-rw-r-- 1 wallabot wallabot    0 dic  6 00:56 dot2.txt\n",
            "-rw-rw-r-- 1 wallabot wallabot    0 dic  6 00:56 dot.txt\n",
            "-rw-rw-r-- 1 wallabot wallabot    0 dic  6 00:56 file.txt\n",
            "-rw-rw-r-- 1 wallabot wallabot    0 dic  6 00:56 index.html\n",
            "-rw-rw-r-- 1 wallabot wallabot  182 dic  6 01:06 lista.txt\n",
            "-rw-rw-r-- 1 wallabot wallabot    0 dic  6 01:08 secuential.txt\n"
          ]
        }
      ],
      "source": [
        "!echo \"Before touch;\" && ls -lha && touch secuential.txt && echo \"After touch:\" && ls -lha"
      ]
    },
    {
      "cell_type": "markdown",
      "metadata": {},
      "source": [
        "Aqui podemos ver como foi executado um atr\u00e1s do outro, ou seja, um comando n\u00e3o come\u00e7a at\u00e9 que o anterior termine."
      ]
    },
    {
      "cell_type": "markdown",
      "metadata": {},
      "source": [
        "Mas ent\u00e3o, qual \u00e9 a diferen\u00e7a entre `;` e `&&`?"
      ]
    },
    {
      "cell_type": "markdown",
      "metadata": {},
      "source": [
        "No primeiro, o sequencial `;`, primeiro \u00e9 executado um comando e depois outro, mas para que seja executado um comando n\u00e3o importa que o anterior tenha sido executado satisfatoriamente"
      ]
    },
    {
      "cell_type": "code",
      "execution_count": 100,
      "metadata": {},
      "outputs": [
        {
          "name": "stdout",
          "output_type": "stream",
          "text": [
            "rm: no se puede borrar 'prueba': No existe el archivo o el directorio\n",
            "total 292K\n",
            "drwxrwxr-x 2 wallabot wallabot 4,0K dic  6 01:08 .\n",
            "drwxrwxr-x 7 wallabot wallabot 4,0K dic  6 00:24 ..\n",
            "-rw-rw-r-- 1 wallabot wallabot 280K dic  6 00:28 2021-02-11-Introduccion-a-Python.ipynb\n",
            "-rw-rw-r-- 1 wallabot wallabot    0 dic  6 00:56 Abc\n",
            "-rw-rw-r-- 1 wallabot wallabot    0 dic  6 00:56 datos1\n",
            "-rw-rw-r-- 1 wallabot wallabot    0 dic  6 00:56 datos123\n",
            "-rw-rw-r-- 1 wallabot wallabot    0 dic  6 00:56 dot2.txt\n",
            "-rw-rw-r-- 1 wallabot wallabot    0 dic  6 00:56 dot.txt\n",
            "-rw-rw-r-- 1 wallabot wallabot    0 dic  6 00:56 file.txt\n",
            "-rw-rw-r-- 1 wallabot wallabot    0 dic  6 00:56 index.html\n",
            "-rw-rw-r-- 1 wallabot wallabot  182 dic  6 01:06 lista.txt\n",
            "-rw-rw-r-- 1 wallabot wallabot    0 dic  6 01:08 secuential.txt\n"
          ]
        }
      ],
      "source": [
        "!rm prueba ; ls -lha"
      ]
    },
    {
      "cell_type": "markdown",
      "metadata": {},
      "source": [
        "Como se pode ver, primeiro se executa `rm teste`, d\u00e1 um erro e ainda assim se executa `ls -lha teste`"
      ]
    },
    {
      "cell_type": "markdown",
      "metadata": {},
      "source": [
        "Na maneira condicional `&&`, se um comando n\u00e3o for executado satisfatoriamente, o pr\u00f3ximo n\u00e3o ser\u00e1 executado."
      ]
    },
    {
      "cell_type": "code",
      "execution_count": 101,
      "metadata": {},
      "outputs": [
        {
          "name": "stdout",
          "output_type": "stream",
          "text": [
            "rm: no se puede borrar 'prueba': No existe el archivo o el directorio\n"
          ]
        }
      ],
      "source": [
        "!rm prueba && ls -lha"
      ]
    },
    {
      "cell_type": "markdown",
      "metadata": {},
      "source": [
        "Como se pode ver `ls -lha prova` n\u00e3o \u00e9 executado pois `rm prova` deu um erro"
      ]
    },
    {
      "cell_type": "markdown",
      "metadata": {},
      "source": [
        "#### Ou"
      ]
    },
    {
      "cell_type": "markdown",
      "metadata": {},
      "source": [
        "Ao contr\u00e1rio do `&&`, o 'or' executar\u00e1 todos os processos independentemente do seu resultado. Deve-se utilizar o operador `||`"
      ]
    },
    {
      "cell_type": "code",
      "execution_count": 102,
      "metadata": {},
      "outputs": [
        {
          "name": "stdout",
          "output_type": "stream",
          "text": [
            "rm: no se puede borrar 'prueba': No existe el archivo o el directorio\n",
            "total 292K\n",
            "drwxrwxr-x 2 wallabot wallabot 4,0K dic  6 01:08 .\n",
            "drwxrwxr-x 7 wallabot wallabot 4,0K dic  6 00:24 ..\n",
            "-rw-rw-r-- 1 wallabot wallabot 280K dic  6 00:28 2021-02-11-Introduccion-a-Python.ipynb\n",
            "-rw-rw-r-- 1 wallabot wallabot    0 dic  6 00:56 Abc\n",
            "-rw-rw-r-- 1 wallabot wallabot    0 dic  6 00:56 datos1\n",
            "-rw-rw-r-- 1 wallabot wallabot    0 dic  6 00:56 datos123\n",
            "-rw-rw-r-- 1 wallabot wallabot    0 dic  6 00:56 dot2.txt\n",
            "-rw-rw-r-- 1 wallabot wallabot    0 dic  6 00:56 dot.txt\n",
            "-rw-rw-r-- 1 wallabot wallabot    0 dic  6 00:56 file.txt\n",
            "-rw-rw-r-- 1 wallabot wallabot    0 dic  6 00:56 index.html\n",
            "-rw-rw-r-- 1 wallabot wallabot  182 dic  6 01:06 lista.txt\n",
            "-rw-rw-r-- 1 wallabot wallabot    0 dic  6 01:08 secuential.txt\n"
          ]
        }
      ],
      "source": [
        "!rm prueba || ls -lha"
      ]
    },
    {
      "cell_type": "markdown",
      "metadata": {},
      "source": [
        "A diferen\u00e7a entre este e `;` \u00e9 que o `||` (or) n\u00e3o cria um novo thread para cada comando"
      ]
    },
    {
      "cell_type": "markdown",
      "metadata": {},
      "source": [
        "## Como lidar com as permiss\u00f5es"
      ]
    },
    {
      "cell_type": "markdown",
      "metadata": {},
      "source": [
        "Quando se listam os arquivos de um diret\u00f3rio com a flag `-l` (long) aparecem alguns s\u00edmbolos ao lado de cada arquivo."
      ]
    },
    {
      "cell_type": "code",
      "execution_count": 103,
      "metadata": {},
      "outputs": [],
      "source": [
        "!mkdir subdirectorio"
      ]
    },
    {
      "cell_type": "code",
      "execution_count": 104,
      "metadata": {},
      "outputs": [
        {
          "name": "stdout",
          "output_type": "stream",
          "text": [
            "total 288\n",
            "-rw-rw-r-- 1 wallabot wallabot 285898 dic  6 00:28 2021-02-11-Introduccion-a-Python.ipynb\n",
            "-rw-rw-r-- 1 wallabot wallabot      0 dic  6 00:56 Abc\n",
            "-rw-rw-r-- 1 wallabot wallabot      0 dic  6 00:56 datos1\n",
            "-rw-rw-r-- 1 wallabot wallabot      0 dic  6 00:56 datos123\n",
            "-rw-rw-r-- 1 wallabot wallabot      0 dic  6 00:56 dot2.txt\n",
            "-rw-rw-r-- 1 wallabot wallabot      0 dic  6 00:56 dot.txt\n",
            "-rw-rw-r-- 1 wallabot wallabot      0 dic  6 00:56 file.txt\n",
            "-rw-rw-r-- 1 wallabot wallabot      0 dic  6 00:56 index.html\n",
            "-rw-rw-r-- 1 wallabot wallabot    182 dic  6 01:06 lista.txt\n",
            "-rw-rw-r-- 1 wallabot wallabot      0 dic  6 01:08 secuential.txt\n",
            "drwxrwxr-x 2 wallabot wallabot   4096 dic  6 01:10 subdirectorio\n"
          ]
        }
      ],
      "source": [
        "!ls -l"
      ]
    },
    {
      "cell_type": "markdown",
      "metadata": {},
      "source": [
        "Isso nos d\u00e1 informa\u00e7\u00f5es de cada arquivo"
      ]
    },
    {
      "cell_type": "markdown",
      "metadata": {},
      "source": [
        "Primeiro vejamos quais tipos de arquivos existem",
        " * -: Arquivo normal",
        " * d: Diret\u00f3rio",
        "* l: Link simb\u00f3lico",
        "* b: Arquivo de bloco especial. S\u00e3o arquivos que manipulam as informa\u00e7\u00f5es dos blocos de dados como, por exemplo, um USB"
      ]
    },
    {
      "cell_type": "markdown",
      "metadata": {},
      "source": [
        "Depois veremos os tipos de modo:",
        "\n",
        "<table border=\"1\">",
        "```markdown\n<header>\n```",
        "\t<tr>",
        "<th scope=\"col\" colspan=\"3\">Propriet\u00e1rio</th>",
        "<th scope=\"col\" colspan=\"3\">Grupo</th>",
        "<th scope=\"col\" colspan=\"3\">Mundo</th>",
        "\t\t</tr>",
        "</header>",
        "```markdown\n<body>\n```",
        "```markdown\n<tr>\n```",
        "<th scope=\"row\" colspan=\"3\">rwx</th>",
        "\t\t\t<th scope=\"row\" colspan=\"3\">r-x</th>",
        "\t\t\t<th scope=\"row\" colspan=\"3\">r-x</th>",
        "\t\t</tr>",
        "```markdown\n<tr>\n```",
        "\t\t\t<th scope=\"row\">1</th>",
        "\t\t\t<th scope=\"row\">1</th>",
        "\t\t\t<th scope=\"row\">1</th>",
        "\t\t\t<th scope=\"row\">1</th>",
        "\t\t\t<th scope=\"row\">0</th>",
        "\t\t\t<th scope=\"row\">1</th>",
        "\t\t\t<th scope=\"row\">1</th>",
        "```\n<th scope=\"row\">0</th>\n```",
        "<th scope=\"row\">1</th>",
        "</tr>",
        "\t\t<tr>\n",
        "\t\t\t<th scope=\"row\" colspan=\"3\">7</th>",
        "<th scope=\"row\" colspan=\"3\">5</th>",
        "<th scope=\"row\" colspan=\"3\">5</th>",
        "\t\t</tr>",
        "```markdown\n<body>\n```",
        "</table>",
        "\n",
        "* r: ler",
        "* w: escrever",
        502
      ]
    },
    {
      "cell_type": "markdown",
      "metadata": {},
      "source": [
        "Modo simb\u00f3lico:",
        " * u: Apenas para o usu\u00e1rio",
        "* g: Apenas para o grupo",
        "* o: Apenas para outros (world)",
        "* a: Para todos"
      ]
    },
    {
      "cell_type": "markdown",
      "metadata": {},
      "source": [
        "## Modificando as permiss\u00f5es no terminal"
      ]
    },
    {
      "cell_type": "markdown",
      "metadata": {},
      "source": [
        "Criamos um novo arquivo"
      ]
    },
    {
      "cell_type": "code",
      "execution_count": 105,
      "metadata": {},
      "outputs": [],
      "source": [
        "terminal(\"cd subdirectorio\")"
      ]
    },
    {
      "cell_type": "code",
      "execution_count": 106,
      "metadata": {},
      "outputs": [],
      "source": [
        "!echo \"hola mundo\" > mitexto.txt"
      ]
    },
    {
      "cell_type": "code",
      "execution_count": 107,
      "metadata": {},
      "outputs": [
        {
          "name": "stdout",
          "output_type": "stream",
          "text": [
            "hola mundo\n"
          ]
        }
      ],
      "source": [
        "!cat mitexto.txt"
      ]
    },
    {
      "cell_type": "markdown",
      "metadata": {},
      "source": [
        "Vamos ver as permiss\u00f5es que ele tem."
      ]
    },
    {
      "cell_type": "code",
      "execution_count": 108,
      "metadata": {},
      "outputs": [
        {
          "name": "stdout",
          "output_type": "stream",
          "text": [
            "total 4\n",
            "-rw-rw-r-- 1 wallabot wallabot 11 dic  6 01:10 mitexto.txt\n"
          ]
        }
      ],
      "source": [
        "!ls -l"
      ]
    },
    {
      "cell_type": "markdown",
      "metadata": {},
      "source": [
        "Como vemos, tem permiss\u00f5es de leitura e escrita para o meu usu\u00e1rio e o grupo, e apenas permiss\u00f5es de leitura para o restante (world)"
      ]
    },
    {
      "cell_type": "markdown",
      "metadata": {},
      "source": [
        "### Mudan\u00e7a de permiss\u00f5es com `chmod` (change mode)"
      ]
    },
    {
      "cell_type": "markdown",
      "metadata": {},
      "source": [
        "Para alterar as permiss\u00f5es de um arquivo, usamos o comando `chmod` (change mode), onde temos que colocar em octal as permiss\u00f5es do usu\u00e1rio, em seguida as do grupo e por \u00faltimo as dos outros."
      ]
    },
    {
      "cell_type": "code",
      "execution_count": 109,
      "metadata": {},
      "outputs": [],
      "source": [
        "!chmod 755 mitexto.txt"
      ]
    },
    {
      "cell_type": "code",
      "execution_count": 110,
      "metadata": {},
      "outputs": [
        {
          "name": "stdout",
          "output_type": "stream",
          "text": [
            "total 4\n",
            "-rwxr-xr-x 1 wallabot wallabot 11 dic  6 01:10 mitexto.txt\n"
          ]
        }
      ],
      "source": [
        "!ls -l"
      ]
    },
    {
      "cell_type": "markdown",
      "metadata": {},
      "source": [
        "Vemos que agora meu usu\u00e1rio tem permiss\u00f5es de leitura, escrita e execu\u00e7\u00e3o, enquanto que o grupo e o restante do mundo t\u00eam permiss\u00f5es de leitura e execu\u00e7\u00e3o"
      ]
    },
    {
      "cell_type": "markdown",
      "metadata": {},
      "source": [
        "Vamos remover as permiss\u00f5es de leitura apenas do meu usu\u00e1rio. Para alterar apenas as permiss\u00f5es de um usu\u00e1rio usamos o identificador simb\u00f3lico, um `+` se quisermos adicionar permiss\u00f5es ou um `-` se quisermos remov\u00ea-las ou um `=` se quisermos restaur\u00e1-las e seguido do tipo de permiss\u00e3o"
      ]
    },
    {
      "cell_type": "code",
      "execution_count": 111,
      "metadata": {},
      "outputs": [],
      "source": [
        "!chmod u-r mitexto.txt"
      ]
    },
    {
      "cell_type": "code",
      "execution_count": 112,
      "metadata": {},
      "outputs": [
        {
          "name": "stdout",
          "output_type": "stream",
          "text": [
            "total 4\n",
            "--wxr-xr-x 1 wallabot wallabot 11 dic  6 01:10 mitexto.txt\n"
          ]
        }
      ],
      "source": [
        "!ls -l"
      ]
    },
    {
      "cell_type": "code",
      "execution_count": 113,
      "metadata": {},
      "outputs": [
        {
          "name": "stdout",
          "output_type": "stream",
          "text": [
            "cat: mitexto.txt: Permiso denegado\n"
          ]
        }
      ],
      "source": [
        "!cat mitexto.txt"
      ]
    },
    {
      "cell_type": "markdown",
      "metadata": {},
      "source": [
        "Como vemos, ao retirar permiss\u00f5es de leitura para o meu usu\u00e1rio, n\u00e3o podemos ler o arquivo."
      ]
    },
    {
      "cell_type": "markdown",
      "metadata": {},
      "source": [
        "Vamos conceder novamente a permiss\u00e3o de leitura"
      ]
    },
    {
      "cell_type": "code",
      "execution_count": 114,
      "metadata": {},
      "outputs": [],
      "source": [
        "!chmod u+r mitexto.txt"
      ]
    },
    {
      "cell_type": "code",
      "execution_count": 115,
      "metadata": {},
      "outputs": [
        {
          "name": "stdout",
          "output_type": "stream",
          "text": [
            "total 4\n",
            "-rwxr-xr-x 1 wallabot wallabot 11 dic  6 01:10 mitexto.txt\n"
          ]
        }
      ],
      "source": [
        "!ls -l"
      ]
    },
    {
      "cell_type": "code",
      "execution_count": 116,
      "metadata": {},
      "outputs": [
        {
          "name": "stdout",
          "output_type": "stream",
          "text": [
            "hola mundo\n"
          ]
        }
      ],
      "source": [
        "!cat mitexto.txt"
      ]
    },
    {
      "cell_type": "markdown",
      "metadata": {},
      "source": [
        "Se quisermos adicionar ou remover permiss\u00f5es para mais de um usu\u00e1rio, fazemos isso separando cada permiss\u00e3o por uma `,`"
      ]
    },
    {
      "cell_type": "code",
      "execution_count": 117,
      "metadata": {},
      "outputs": [],
      "source": [
        "!chmod u-x,go=w mitexto.txt"
      ]
    },
    {
      "cell_type": "code",
      "execution_count": 118,
      "metadata": {},
      "outputs": [
        {
          "name": "stdout",
          "output_type": "stream",
          "text": [
            "total 4\n",
            "-rw--w--w- 1 wallabot wallabot 11 dic  6 01:10 mitexto.txt\n"
          ]
        }
      ],
      "source": [
        "!ls -l"
      ]
    },
    {
      "cell_type": "markdown",
      "metadata": {},
      "source": [
        "Como se pode ver, foi removida a permiss\u00e3o de execu\u00e7\u00e3o do usu\u00e1rio e foi estabelecida a permiss\u00e3o de escrita apenas para o grupo e o resto do mundo."
      ]
    },
    {
      "cell_type": "markdown",
      "metadata": {},
      "source": [
        "### Identifica\u00e7\u00e3o do usu\u00e1rio com `whoami`"
      ]
    },
    {
      "cell_type": "markdown",
      "metadata": {},
      "source": [
        "Para saber quem somos podemos usar o comando `whoami` (who am I)"
      ]
    },
    {
      "cell_type": "code",
      "execution_count": 119,
      "metadata": {},
      "outputs": [
        {
          "name": "stdout",
          "output_type": "stream",
          "text": [
            "wallabot\n"
          ]
        }
      ],
      "source": [
        "!whoami"
      ]
    },
    {
      "cell_type": "markdown",
      "metadata": {},
      "source": [
        "### Informa\u00e7\u00f5es do usu\u00e1rio com `id`"
      ]
    },
    {
      "cell_type": "markdown",
      "metadata": {},
      "source": [
        "Outra maneira, que al\u00e9m disso fornece mais informa\u00e7\u00f5es, \u00e9 o comando `id`"
      ]
    },
    {
      "cell_type": "code",
      "execution_count": 120,
      "metadata": {},
      "outputs": [
        {
          "name": "stdout",
          "output_type": "stream",
          "text": [
            "uid=1000(wallabot) gid=1000(wallabot) grupos=1000(wallabot),4(adm),24(cdrom),27(sudo),30(dip),46(plugdev),120(lpadmin),131(lxd),132(sambashare),998(docker)\n"
          ]
        }
      ],
      "source": [
        "!id"
      ]
    },
    {
      "cell_type": "markdown",
      "metadata": {},
      "source": [
        "Este comando nos diz que nosso ID de usu\u00e1rio \u00e9 1000, o ID de grupo \u00e9 1000 e que pertencemos aos grupos wallabot, adm, cdrom, sudo, dip, plugdev, lpadmin, lxd, sambashare e docker"
      ]
    },
    {
      "cell_type": "markdown",
      "metadata": {},
      "source": [
        "### Mudan\u00e7a de usu\u00e1rio com o comando `su` (switch user)"
      ]
    },
    {
      "cell_type": "markdown",
      "metadata": {},
      "source": [
        "Se queremos mudar de usu\u00e1rio, usamos o comando `su` (switch user). Para certos usu\u00e1rios, \u00e9 necess\u00e1rio usar `sudo` (superuser do)."
      ]
    },
    {
      "cell_type": "code",
      "execution_count": 120,
      "metadata": {},
      "outputs": [
        {
          "name": "stdout",
          "output_type": "stream",
          "text": [
            "root@wallabot:/home/wallabot/Documentos/web/portafolio/posts/prueba/subdirectorio#\n"
          ]
        }
      ],
      "source": [
        "!sudo su root"
      ]
    },
    {
      "cell_type": "markdown",
      "metadata": {},
      "source": [
        "Como vemos muda o `prompt` e agora indica que somos o usu\u00e1rio `root`."
      ]
    },
    {
      "cell_type": "markdown",
      "metadata": {},
      "source": [
        "Vamos para a pasta home"
      ]
    },
    {
      "cell_type": "code",
      "execution_count": 120,
      "metadata": {},
      "outputs": [
        {
          "name": "stdout",
          "output_type": "stream",
          "text": [
            "root@wallabot:~#\n"
          ]
        }
      ],
      "source": [
        "!cd"
      ]
    },
    {
      "cell_type": "markdown",
      "metadata": {},
      "source": [
        "Mas no Linux h\u00e1 uma pasta home para cada usu\u00e1rio, isso podemos ver se executarmos o comando `pwd`"
      ]
    },
    {
      "cell_type": "code",
      "execution_count": 120,
      "metadata": {},
      "outputs": [
        {
          "name": "stdout",
          "output_type": "stream",
          "text": [
            "/root\n"
          ]
        }
      ],
      "source": [
        "!pwd"
      ]
    },
    {
      "cell_type": "markdown",
      "metadata": {},
      "source": [
        "Vou criar um arquivo na pasta onde antes criei o arquivo *mitexto.txt*"
      ]
    },
    {
      "cell_type": "code",
      "execution_count": 120,
      "metadata": {},
      "outputs": [
        {
          "name": "stdout",
          "output_type": "stream",
          "text": [
            "\n"
          ]
        }
      ],
      "source": [
        "!touch /home/wallabot/Documentos/web/portafolio/posts/prueba/subdirectorio/rootfile.txt"
      ]
    },
    {
      "cell_type": "markdown",
      "metadata": {},
      "source": [
        "Vuelvo a mudar para o meu usu\u00e1rio"
      ]
    },
    {
      "cell_type": "code",
      "execution_count": 120,
      "metadata": {},
      "outputs": [
        {
          "name": "stdout",
          "output_type": "stream",
          "text": [
            "wallabot@wallabot:\n"
          ]
        }
      ],
      "source": [
        "!su wallabot"
      ]
    },
    {
      "cell_type": "markdown",
      "metadata": {},
      "source": [
        "E vou para o diret\u00f3rio onde est\u00e3o os arquivos que criei."
      ]
    },
    {
      "cell_type": "code",
      "execution_count": 121,
      "metadata": {},
      "outputs": [],
      "source": [
        "!cd /home/wallabot/Documentos/web/portafolio/posts/prueba/subdirectorio"
      ]
    },
    {
      "cell_type": "markdown",
      "metadata": {},
      "source": [
        "Vemos os arquivos que existem e suas permiss\u00f5es"
      ]
    },
    {
      "cell_type": "code",
      "execution_count": 123,
      "metadata": {},
      "outputs": [
        {
          "name": "stdout",
          "output_type": "stream",
          "text": [
            "total 4\n",
            "-rw--w--w- 1 wallabot wallabot 11 dic  6 01:10 mitexto.txt\n",
            "-rw-r--r-- 1 root     root      0 dic  6 01:22 rootfile.txt\n"
          ]
        }
      ],
      "source": [
        "!ls -l"
      ]
    },
    {
      "cell_type": "markdown",
      "metadata": {},
      "source": [
        "Como vemos, o usu\u00e1rio e o grupo do arquivo *rootfile.txt* \u00e9 o usu\u00e1rio `root`"
      ]
    },
    {
      "cell_type": "markdown",
      "metadata": {},
      "source": [
        "Se eu, agora que sou o usu\u00e1rio *wallabot*, tentar apagar o arquivo `rootfile.txt`"
      ]
    },
    {
      "cell_type": "code",
      "execution_count": 124,
      "metadata": {},
      "outputs": [
        {
          "name": "stdout",
          "output_type": "stream",
          "text": [
            "rm: \u00bfborrar el fichero regular vac\u00edo 'rootfile.txt'  protegido contra escritura? (s/n)\n"
          ]
        }
      ],
      "source": [
        "!rm rootfile.txt"
      ]
    },
    {
      "cell_type": "markdown",
      "metadata": {},
      "source": [
        "Como vemos, ele nos pergunta se queremos exclu\u00ed-lo, j\u00e1 que pertence a outro usu\u00e1rio."
      ]
    },
    {
      "cell_type": "markdown",
      "metadata": {},
      "source": [
        "## Modificar a senha de um usu\u00e1rio"
      ]
    },
    {
      "cell_type": "markdown",
      "metadata": {},
      "source": [
        "Se quiser modificar a senha do usu\u00e1rio que est\u00e1 atualmente ativo, use o comando `passwd` (password)"
      ]
    },
    {
      "cell_type": "markdown",
      "metadata": {},
      "source": [
        "```markdown\nPrimeiro verifico que usu\u00e1rio sou\n```"
      ]
    },
    {
      "cell_type": "code",
      "execution_count": 125,
      "metadata": {},
      "outputs": [
        {
          "name": "stdout",
          "output_type": "stream",
          "text": [
            "wallabot\n"
          ]
        }
      ],
      "source": [
        "!whoami"
      ]
    },
    {
      "cell_type": "markdown",
      "metadata": {},
      "source": [
        "E agora tentamos mudar a senha"
      ]
    },
    {
      "cell_type": "code",
      "execution_count": 125,
      "metadata": {},
      "outputs": [
        {
          "name": "stdout",
          "output_type": "stream",
          "text": [
            "$ passwd\n",
            "Cambiando la contrase\u00f1a de wallabot.\n",
            "Contrase\u00f1a actual de : \n",
            "Nueva contrase\u00f1a: \n",
            "Vuelva a escribir la nueva contrase\u00f1a\n"
          ]
        }
      ],
      "source": [
        "!passwd"
      ]
    },
    {
      "cell_type": "markdown",
      "metadata": {},
      "source": [
        "Como vemos, pede a senha atual para poder alter\u00e1-la."
      ]
    },
    {
      "cell_type": "markdown",
      "metadata": {},
      "source": [
        "## Links simb\u00f3licos"
      ]
    },
    {
      "cell_type": "markdown",
      "metadata": {},
      "source": [
        "Podemos criar links simb\u00f3licos para um caminho determinado usando o comando `ln` (link) seguido da flag `-s` (simb\u00f3lico), o diret\u00f3rio e o nome do link"
      ]
    },
    {
      "cell_type": "code",
      "execution_count": 126,
      "metadata": {},
      "outputs": [],
      "source": [
        "!ln -s /home/wallabot/Documentos/web web"
      ]
    },
    {
      "cell_type": "markdown",
      "metadata": {},
      "source": [
        "Se agora listarmos os arquivos"
      ]
    },
    {
      "cell_type": "code",
      "execution_count": 127,
      "metadata": {},
      "outputs": [
        {
          "name": "stdout",
          "output_type": "stream",
          "text": [
            "total 4\n",
            "-rw--w--w- 1 wallabot wallabot 11 dic  6 01:10 mitexto.txt\n",
            "-rw-r--r-- 1 root     root      0 dic  6 01:22 rootfile.txt\n",
            "lrwxrwxrwx 1 wallabot wallabot 29 dic  6 01:28 web -> /home/wallabot/Documentos/web\n"
          ]
        }
      ],
      "source": [
        "!ls -l"
      ]
    },
    {
      "cell_type": "markdown",
      "metadata": {},
      "source": [
        "Vemos o link simb\u00f3lico `web` que aponta para `/home/wallabot/Documentos/web:`"
      ]
    },
    {
      "cell_type": "markdown",
      "metadata": {},
      "source": [
        "Eu agora posso ir para `web`"
      ]
    },
    {
      "cell_type": "code",
      "execution_count": 128,
      "metadata": {},
      "outputs": [],
      "source": [
        "terminal(\"cd web\")"
      ]
    },
    {
      "cell_type": "code",
      "execution_count": 129,
      "metadata": {},
      "outputs": [
        {
          "name": "stdout",
          "output_type": "stream",
          "text": [
            "/home/wallabot/Documentos/web\n"
          ]
        }
      ],
      "source": [
        "!pwd"
      ]
    },
    {
      "cell_type": "markdown",
      "metadata": {},
      "source": [
        "## Configurar as vari\u00e1veis de ambiente"
      ]
    },
    {
      "cell_type": "markdown",
      "metadata": {},
      "source": [
        "### Ver as vari\u00e1veis de ambiente com `printenv`"
      ]
    },
    {
      "cell_type": "markdown",
      "metadata": {},
      "source": [
        "Com o comando `printenv` podemos ver todas as vari\u00e1veis de ambiente"
      ]
    },
    {
      "cell_type": "code",
      "execution_count": 130,
      "metadata": {},
      "outputs": [
        {
          "name": "stdout",
          "output_type": "stream",
          "text": [
            "GJS_DEBUG_TOPICS=JS ERROR;JS LOG\n",
            "VSCODE_CWD=/home/wallabot\n",
            "LESSOPEN=| /usr/bin/lesspipe %s\n",
            "CONDA_PROMPT_MODIFIER=(base) \n",
            "PYTHONIOENCODING=utf-8\n",
            "USER=wallabot\n",
            "VSCODE_NLS_CONFIG={\"locale\":\"es\",\"availableLanguages\":{\"*\":\"es\"},\"_languagePackId\":\"b07c40c9acb9e1d7b3ca14b06f814803.es\",\"_translationsConfigFile\":\"/home/wallabot/.config/Code/clp/b07c40c9acb9e1d7b3ca14b06f814803.es/tcf.json\",\"_cacheRoot\":\"/home/wallabot/.config/Code/clp/b07c40c9acb9e1d7b3ca14b06f814803.es\",\"_resolvedLanguagePackCoreLocation\":\"/home/wallabot/.config/Code/clp/b07c40c9acb9e1d7b3ca14b06f814803.es/6261075646f055b99068d3688932416f2346dd3b\",\"_corruptedFile\":\"/home/wallabot/.config/Code/clp/b07c40c9acb9e1d7b3ca14b06f814803.es/corrupted.info\",\"_languagePackSupport\":true}\n",
            "VSCODE_HANDLES_UNCAUGHT_ERRORS=true\n",
            "MPLBACKEND=module://ipykernel.pylab.backend_inline\n",
            "SSH_AGENT_PID=1373\n",
            "XDG_SESSION_TYPE=x11\n",
            "SHLVL=0\n",
            "HOME=/home/wallabot\n",
            "CHROME_DESKTOP=code-url-handler.desktop\n",
            "CONDA_SHLVL=1\n",
            "DESKTOP_SESSION=ubuntu\n",
            "GIO_LAUNCHED_DESKTOP_FILE=/usr/share/applications/code.desktop\n",
            "VSCODE_IPC_HOOK=/run/user/1000/vscode-26527400-1.73.1-main.sock\n",
            "PYTHONUNBUFFERED=1\n",
            "GTK_MODULES=gail:atk-bridge\n",
            "GNOME_SHELL_SESSION_MODE=ubuntu\n",
            "APPLICATION_INSIGHTS_NO_DIAGNOSTIC_CHANNEL=true\n",
            "PAGER=cat\n",
            "MANAGERPID=1153\n",
            "DBUS_SESSION_BUS_ADDRESS=unix:path=/run/user/1000/bus\n",
            "GIO_LAUNCHED_DESKTOP_FILE_PID=3897\n",
            "_CE_M=\n",
            "IM_CONFIG_PHASE=1\n",
            "LOGNAME=wallabot\n",
            "_=/home/wallabot/anaconda3/bin/python\n",
            "JOURNAL_STREAM=8:52662\n",
            "XDG_SESSION_CLASS=user\n",
            "USERNAME=wallabot\n",
            "TERM=xterm-color\n",
            "GNOME_DESKTOP_SESSION_ID=this-is-deprecated\n",
            "_CE_CONDA=\n",
            "WINDOWPATH=2\n",
            "PATH=/home/wallabot/anaconda3/bin:/home/wallabot/anaconda3/condabin:/usr/local/sbin:/usr/local/bin:/usr/sbin:/usr/bin:/sbin:/bin:/usr/games:/usr/local/games:/snap/bin\n",
            "SESSION_MANAGER=local/wallabot:@/tmp/.ICE-unix/1410,unix/wallabot:/tmp/.ICE-unix/1410\n",
            "INVOCATION_ID=73bba2d15f2e492fa6c16538996a2556\n",
            "VSCODE_AMD_ENTRYPOINT=vs/workbench/api/node/extensionHostProcess\n",
            "XDG_RUNTIME_DIR=/run/user/1000\n",
            "XDG_MENU_PREFIX=gnome-\n",
            "GDK_BACKEND=x11\n",
            "DISPLAY=:0\n",
            "LANG=es_ES.UTF-8\n",
            "XDG_CURRENT_DESKTOP=Unity\n",
            "XAUTHORITY=/run/user/1000/gdm/Xauthority\n",
            "XDG_SESSION_DESKTOP=ubuntu\n",
            "XMODIFIERS=@im=ibus\n",
            "LS_COLORS=\n",
            "SSH_AUTH_SOCK=/run/user/1000/keyring/ssh\n",
            "ORIGINAL_XDG_CURRENT_DESKTOP=ubuntu:GNOME\n",
            "CONDA_PYTHON_EXE=/home/wallabot/anaconda3/bin/python\n",
            "SHELL=/bin/bash\n",
            "ELECTRON_RUN_AS_NODE=1\n",
            "QT_ACCESSIBILITY=1\n",
            "GDMSESSION=ubuntu\n",
            "LESSCLOSE=/usr/bin/lesspipe %s %s\n",
            "CONDA_DEFAULT_ENV=base\n",
            "PYDEVD_IPYTHON_COMPATIBLE_DEBUGGING=1\n",
            "GPG_AGENT_INFO=/run/user/1000/gnupg/S.gpg-agent:0:1\n",
            "GJS_DEBUG_OUTPUT=stderr\n",
            "QT_IM_MODULE=ibus\n",
            "GIT_PAGER=cat\n",
            "PWD=/home/wallabot/Documentos/web\n",
            "CLICOLOR=1\n",
            "XDG_DATA_DIRS=/usr/share/ubuntu:/usr/local/share/:/usr/share/:/var/lib/snapd/desktop\n",
            "XDG_CONFIG_DIRS=/etc/xdg/xdg-ubuntu:/etc/xdg\n",
            "VSCODE_CODE_CACHE_PATH=/home/wallabot/.config/Code/CachedData/6261075646f055b99068d3688932416f2346dd3b\n",
            "CONDA_EXE=/home/wallabot/anaconda3/bin/conda\n",
            "CONDA_PREFIX=/home/wallabot/anaconda3\n",
            "VSCODE_PID=3897\n"
          ]
        }
      ],
      "source": [
        "!printenv"
      ]
    },
    {
      "cell_type": "markdown",
      "metadata": {},
      "source": [
        "### Visualizar uma vari\u00e1vel de ambiente com o comando `echo`"
      ]
    },
    {
      "cell_type": "markdown",
      "metadata": {},
      "source": [
        "Para ver uma vari\u00e1vel de ambiente em concreto podemos faz\u00ea-lo atrav\u00e9s do comando `echo` seguido do s\u00edmbolo `$` e o nome da vari\u00e1vel"
      ]
    },
    {
      "cell_type": "code",
      "execution_count": 131,
      "metadata": {},
      "outputs": [
        {
          "name": "stdout",
          "output_type": "stream",
          "text": [
            "/home/wallabot\n"
          ]
        }
      ],
      "source": [
        "!echo $HOME"
      ]
    },
    {
      "cell_type": "markdown",
      "metadata": {},
      "source": [
        "### Modificar uma vari\u00e1vel de ambiente para uma sess\u00e3o de terminal"
      ]
    },
    {
      "cell_type": "markdown",
      "metadata": {},
      "source": [
        "Podemos modificar uma vari\u00e1vel de ambiente para a sess\u00e3o ativa do terminal, por exemplo, vamos adicionar um novo caminho \u00e0 vari\u00e1vel `PATH`. Primeiro, vamos ver o que h\u00e1 nela"
      ]
    },
    {
      "cell_type": "code",
      "execution_count": 131,
      "metadata": {},
      "outputs": [
        {
          "name": "stdout",
          "output_type": "stream",
          "text": [
            "/home/wallabot/anaconda3/bin:/home/wallabot/anaconda3/condabin:/usr/local/sbin:/usr/local/bin:/usr/sbin:/usr/bin:/sbin:/bin:/usr/games:/usr/local/games:/snap/bin\n"
          ]
        }
      ],
      "source": [
        "!echo $PATH"
      ]
    },
    {
      "cell_type": "markdown",
      "metadata": {},
      "source": [
        "Agora adicionamos um novo diret\u00f3rio"
      ]
    },
    {
      "cell_type": "code",
      "execution_count": 131,
      "metadata": {},
      "outputs": [
        {
          "name": "stdout",
          "output_type": "stream",
          "text": [
            "\n"
          ]
        }
      ],
      "source": [
        "!PATH=$PATH:\"subdirectorio"
      ]
    },
    {
      "cell_type": "markdown",
      "metadata": {},
      "source": [
        "Voltamos a ver o que h\u00e1 dentro de `PATH`"
      ]
    },
    {
      "cell_type": "code",
      "execution_count": 131,
      "metadata": {},
      "outputs": [
        {
          "name": "stdout",
          "output_type": "stream",
          "text": [
            "/home/wallabot/anaconda3/bin:/home/wallabot/anaconda3/condabin:/usr/local/sbin:/usr/local/bin:/usr/sbin:/usr/bin:/sbin:/bin:/usr/games:/usr/local/games:/snap/bin:subdirectorio\n"
          ]
        }
      ],
      "source": [
        "!echo $PATH"
      ]
    },
    {
      "cell_type": "markdown",
      "metadata": {},
      "source": [
        "Vemos que o diret\u00f3rio `subdiret\u00f3rio` foi adicionado.",
        "\n",
        "O problema deste m\u00e9todo \u00e9 que quando abrirmos um novo terminal esse ajuste no `PATH` n\u00e3o ser\u00e1 mantido."
      ]
    },
    {
      "cell_type": "markdown",
      "metadata": {},
      "source": [
        "### Modificar uma vari\u00e1vel de ambiente para todas as sess\u00f5es de terminal"
      ]
    },
    {
      "cell_type": "markdown",
      "metadata": {},
      "source": [
        "Vamos para a pasta home"
      ]
    },
    {
      "cell_type": "code",
      "execution_count": 132,
      "metadata": {},
      "outputs": [],
      "source": [
        "terminal(\"cd /home/wallabot\")"
      ]
    },
    {
      "cell_type": "markdown",
      "metadata": {},
      "source": [
        "Aqui no home listamos todos os arquivos com o flag `-a` (all)"
      ]
    },
    {
      "cell_type": "code",
      "execution_count": 133,
      "metadata": {},
      "outputs": [
        {
          "name": "stdout",
          "output_type": "stream",
          "text": [
            ".\t\t.eclipse\t\t       .pki\n",
            "..\t\tEscritorio\t\t       Plantillas\n",
            ".afirma\t\t.gitconfig\t\t       .platformio\n",
            "anaconda3\t.gnupg\t\t\t       .profile\n",
            ".audacity-data\tIm\u00e1genes\t\t       .psensor\n",
            ".bash_history\t.ipython\t\t       P\u00fablico\n",
            ".bash_logout\t.java\t\t\t       .python_history\n",
            ".bashrc\t\t.jupyter\t\t       snap\n",
            ".cache\t\t.lesshst\t\t       .ssh\n",
            ".conda\t\tLightworks\t\t       .sudo_as_admin_successful\n",
            ".config\t\t.Lightworks.thereCanBeOnlyOne  .thunderbird\n",
            ".cortex-debug\t.local\t\t\t       V\u00eddeos\n",
            ".cyberghost\tlogiops\t\t\t       .vnc\n",
            ".dbus\t\t.MCTranscodingSDK\t       .vscode\n",
            "Descargas\t.mozilla\t\t       .wget-hsts\n",
            ".docker\t\tM\u00fasica\n",
            "Documentos\t.nv\n"
          ]
        }
      ],
      "source": [
        "!ls -a"
      ]
    },
    {
      "cell_type": "markdown",
      "metadata": {},
      "source": [
        "Vemos que h\u00e1 um arquivo que se chama `.bashrc`, este arquivo \u00e9 o arquivo que tem a configura\u00e7\u00e3o do nosso bash"
      ]
    },
    {
      "cell_type": "code",
      "execution_count": 134,
      "metadata": {},
      "outputs": [
        {
          "name": "stdout",
          "output_type": "stream",
          "text": [
            "# ~/.bashrc: executed by bash(1) for non-login shells.\n",
            "# see /usr/share/doc/bash/examples/startup-files (in the package bash-doc)\n",
            "# for examples\n",
            "\t ...\n",
            "fi\n",
            "unset __conda_setup\n",
            "# <<< conda initialize <<<\n",
            "\n",
            "\n"
          ]
        }
      ],
      "source": [
        "terminal(\"cat .bashrc\", max_lines_output=3)"
      ]
    },
    {
      "cell_type": "markdown",
      "metadata": {},
      "source": [
        "Este arquivo \u00e9 o que configura o terminal cada vez que uma nova \u00e9 aberta, portanto, se editarmos a vari\u00e1vel `PATH` nele, essa altera\u00e7\u00e3o ser\u00e1 mantida para todas as novas janelas de terminal que abrirmos."
      ]
    },
    {
      "cell_type": "markdown",
      "metadata": {},
      "source": [
        "Para modificar a vari\u00e1vel `PATH` dentro do arquivo de configura\u00e7\u00e3o, precisamos adicionar a seguinte linha ao arquivo"
      ]
    },
    {
      "cell_type": "markdown",
      "metadata": {},
      "source": [
        "```\n```",
        "PATH=$PATH:\"subdiret\u00f3rio\"",
        "```"
      ]
    },
    {
      "cell_type": "markdown",
      "metadata": {},
      "source": [
        "### Criar alias para todas as sess\u00f5es"
      ]
    },
    {
      "cell_type": "markdown",
      "metadata": {},
      "source": [
        "J\u00e1 vimos como criar alias de comandos, mas tamb\u00e9m acontecia que eles se perdiam sempre que fech\u00e1vamos uma sess\u00e3o do terminal. Para que isso n\u00e3o aconte\u00e7a, n\u00f3s os adicionamos tamb\u00e9m ao arquivo de configura\u00e7\u00e3o `.bashrc`. Por exemplo, no meu caso, adicionei as seguintes linhas",
        "\n",
        "```",
        "alias ll='ls -l'",
        "alias la='ls -a'",
        "alias lh='ls -h'",
        "alias lha='ls -lha'",
        "```"
      ]
    },
    {
      "cell_type": "markdown",
      "metadata": {},
      "source": [
        "## Comandos de busca"
      ]
    },
    {
      "cell_type": "markdown",
      "metadata": {},
      "source": [
        "### Busca de bin\u00e1rios com `which`"
      ]
    },
    {
      "cell_type": "markdown",
      "metadata": {},
      "source": [
        "O primeiro comando de busca que vamos ver \u00e9 `which` que nos permite encontrar o caminho dos bin\u00e1rios"
      ]
    },
    {
      "cell_type": "code",
      "execution_count": 135,
      "metadata": {},
      "outputs": [
        {
          "name": "stdout",
          "output_type": "stream",
          "text": [
            "/home/wallabot/anaconda3/bin/python\n"
          ]
        }
      ],
      "source": [
        "!which python"
      ]
    },
    {
      "cell_type": "markdown",
      "metadata": {},
      "source": [
        "No entanto, se procurarmos algo que n\u00e3o esteja em alguma das rotas do PATH, `which` n\u00e3o ser\u00e1 capaz de nos dizer a rota"
      ]
    },
    {
      "cell_type": "code",
      "execution_count": 136,
      "metadata": {},
      "outputs": [],
      "source": [
        "!which cd"
      ]
    },
    {
      "cell_type": "markdown",
      "metadata": {},
      "source": [
        "### Busca de arquivos com `find`"
      ]
    },
    {
      "cell_type": "markdown",
      "metadata": {},
      "source": [
        "Para buscar um arquivo com find, temos que indicar a partir de qual caminho queremos buscar o arquivo, seguido da flag `-name` e o nome do arquivo que queremos buscar."
      ]
    },
    {
      "cell_type": "code",
      "execution_count": 137,
      "metadata": {},
      "outputs": [
        {
          "name": "stdout",
          "output_type": "stream",
          "text": [
            "/home/wallabot/Documentos/web/portafolio/posts/prueba/2021-02-11-Introduccion-a-Python.ipynb\n",
            "/home/wallabot/Documentos/web/portafolio/posts/2021-02-11-Introduccion-a-Python.ipynb\n"
          ]
        }
      ],
      "source": [
        "!find ~ -name \"2021-02-11-Introduccion-a-Python.ipynb\""
      ]
    },
    {
      "cell_type": "markdown",
      "metadata": {},
      "source": [
        "Como vemos, est\u00e1 no seu diret\u00f3rio mais a c\u00f3pia que eu criei neste notebook e a guardei na pasta `prueba`"
      ]
    },
    {
      "cell_type": "markdown",
      "metadata": {},
      "source": [
        "Uma coisa muito poderosa do `find` \u00e9 que podemos usar `wildcards`, por exemplo, se eu quiser buscar todos os arquivos de texto da minha pasta `web`."
      ]
    },
    {
      "cell_type": "code",
      "execution_count": 139,
      "metadata": {},
      "outputs": [
        {
          "name": "stdout",
          "output_type": "stream",
          "text": [
            "/home/wallabot/Documentos/web/portafolio/posts/2022-09-12 Introduccion a la terminal.txt\n",
            "/home/wallabot/Documentos/web/portafolio/posts/prueba/lista.txt\n",
            "/home/wallabot/Documentos/web/portafolio/posts/prueba/dot.txt\n",
            "/home/wallabot/Documentos/web/portafolio/posts/prueba/dot2.txt\n",
            "/home/wallabot/Documentos/web/portafolio/posts/prueba/secuential.txt\n",
            "/home/wallabot/Documentos/web/portafolio/posts/prueba/subdirectorio/rootfile.txt\n",
            "/home/wallabot/Documentos/web/portafolio/posts/prueba/subdirectorio/mitexto.txt\n",
            "/home/wallabot/Documentos/web/portafolio/posts/prueba/file.txt\n",
            "/home/wallabot/Documentos/web/wordpress_api_rest/page.txt\n"
          ]
        }
      ],
      "source": [
        "!find ~/Documentos/web/ -name *.txt"
      ]
    },
    {
      "cell_type": "markdown",
      "metadata": {},
      "source": [
        "Se n\u00e3o quisermos que distingua entre mai\u00fasculas e min\u00fasculas, devemos usar a flag `-iname`, por exemplo, se procurarmos todos os arquivos que contenham o texto `FILE`, mas usando a flag `-iname`"
      ]
    },
    {
      "cell_type": "code",
      "execution_count": 140,
      "metadata": {},
      "outputs": [
        {
          "name": "stdout",
          "output_type": "stream",
          "text": [
            "/home/wallabot/Documentos/web/portafolio/posts/html_files\n",
            "/home/wallabot/Documentos/web/portafolio/posts/prueba/subdirectorio/rootfile.txt\n",
            "/home/wallabot/Documentos/web/portafolio/posts/prueba/file.txt\n"
          ]
        }
      ],
      "source": [
        "!find ~/Documentos/web/ -iname *FILE*"
      ]
    },
    {
      "cell_type": "markdown",
      "metadata": {},
      "source": [
        "Vemos que todos os resultados cont\u00eam `file` e n\u00e3o `FILE`, ou seja, n\u00e3o fez distin\u00e7\u00e3o entre mai\u00fasculas e min\u00fasculas."
      ]
    },
    {
      "cell_type": "markdown",
      "metadata": {},
      "source": [
        "Podemos especificar o tipo de arquivo com o flag `-type`. Apenas aceita dois tipos `f` para arquivos e `d` para diret\u00f3rios"
      ]
    },
    {
      "cell_type": "code",
      "execution_count": 141,
      "metadata": {},
      "outputs": [
        {
          "name": "stdout",
          "output_type": "stream",
          "text": [
            "/home/wallabot/Documentos/nerf/instant-ngp/configs/image\n",
            "/home/wallabot/Documentos/nerf/instant-ngp/dependencies/tiny-cuda-nn/benchmarks/image\n",
            "/home/wallabot/Documentos/nerf/instant-ngp/dependencies/tiny-cuda-nn/dependencies/cutlass/media/images\n",
            "/home/wallabot/Documentos/nerf/instant-ngp/dependencies/tiny-cuda-nn/dependencies/fmt/doc/bootstrap/mixins/image.less\n",
            "/home/wallabot/Documentos/nerf/instant-ngp/dependencies/tiny-cuda-nn/data/images\n",
            "/home/wallabot/Documentos/nerf/instant-ngp/dependencies/dlss/NVIDIAImageScaling/samples/media/images\n",
            "/home/wallabot/Documentos/nerf/instant-ngp/data/nerf/fox/images\n",
            "/home/wallabot/Documentos/nerf/instant-ngp/data/image\n"
          ]
        }
      ],
      "source": [
        "!find ~/Documentos/nerf -name image*"
      ]
    },
    {
      "cell_type": "code",
      "execution_count": 142,
      "metadata": {},
      "outputs": [
        {
          "name": "stdout",
          "output_type": "stream",
          "text": [
            "/home/wallabot/Documentos/nerf/instant-ngp/configs/image\n",
            "/home/wallabot/Documentos/nerf/instant-ngp/dependencies/tiny-cuda-nn/benchmarks/image\n",
            "/home/wallabot/Documentos/nerf/instant-ngp/dependencies/tiny-cuda-nn/dependencies/cutlass/media/images\n",
            "/home/wallabot/Documentos/nerf/instant-ngp/dependencies/tiny-cuda-nn/data/images\n",
            "/home/wallabot/Documentos/nerf/instant-ngp/dependencies/dlss/NVIDIAImageScaling/samples/media/images\n",
            "/home/wallabot/Documentos/nerf/instant-ngp/data/nerf/fox/images\n",
            "/home/wallabot/Documentos/nerf/instant-ngp/data/image\n"
          ]
        }
      ],
      "source": [
        "!find ~/Documentos/nerf -name image* -type d"
      ]
    },
    {
      "cell_type": "code",
      "execution_count": 143,
      "metadata": {},
      "outputs": [
        {
          "name": "stdout",
          "output_type": "stream",
          "text": [
            "/home/wallabot/Documentos/nerf/instant-ngp/dependencies/tiny-cuda-nn/dependencies/fmt/doc/bootstrap/mixins/image.less\n"
          ]
        }
      ],
      "source": [
        "!find ~/Documentos/nerf -name image* -type f"
      ]
    },
    {
      "cell_type": "markdown",
      "metadata": {},
      "source": [
        "Se queremos filtrar pelo tamanho do arquivo podemos usar a flag `-size`, por exemplo, se queremos procurar todos os arquivos de mais de 200 MB"
      ]
    },
    {
      "cell_type": "code",
      "execution_count": 144,
      "metadata": {},
      "outputs": [
        {
          "name": "stdout",
          "output_type": "stream",
          "text": [
            "/home/wallabot/Documentos/kaggle/hubmap/models/13_efficientnet-b7_final_model.pth\n",
            "/home/wallabot/Documentos/kaggle/hubmap/models/12_efficientnet-b7_final_model.pth\n",
            "/home/wallabot/Documentos/kaggle/hubmap/models/14_resnet152_final_model.pth\n",
            "/home/wallabot/Documentos/kaggle/hubmap/models/14_resnet152_best_model.pth\n",
            "/home/wallabot/Documentos/kaggle/hubmap/models/12_efficientnet-b7_early_stopping.pth\n",
            "/home/wallabot/Documentos/kaggle/hubmap/models/efficientnet-b7-dcc49843.pth\n",
            "/home/wallabot/Documentos/kaggle/hubmap/models/13_efficientnet-b7_early_stopping.pth\n",
            "/home/wallabot/Documentos/kaggle/hubmap/models/14_resnet152_early_stopping.pth\n",
            "/home/wallabot/Documentos/kaggle/hubmap/models/12_efficientnet-b7_best_model.pth\n",
            "/home/wallabot/Documentos/kaggle/hubmap/models/13_efficientnet-b7_best_model.pth\n"
          ]
        }
      ],
      "source": [
        "!find ~/Documentos/ -type f -size +200M"
      ]
    },
    {
      "cell_type": "markdown",
      "metadata": {},
      "source": [
        "Se queremos realizar opera\u00e7\u00f5es ap\u00f3s a busca, usamos a flag `-exec`"
      ]
    },
    {
      "cell_type": "markdown",
      "metadata": {},
      "source": [
        "Por exemplo, vou buscar todas as pastas com o nome `subdirectorio`"
      ]
    },
    {
      "cell_type": "code",
      "execution_count": 145,
      "metadata": {},
      "outputs": [
        {
          "name": "stdout",
          "output_type": "stream",
          "text": [
            "/home/wallabot/Documentos/web/portafolio/posts/prueba/subdirectorio\n"
          ]
        }
      ],
      "source": [
        "!find ~/ -name subdirectorio -type d"
      ]
    },
    {
      "cell_type": "markdown",
      "metadata": {},
      "source": [
        "Posso fazer com que sejam apagados com o flag `-exec`"
      ]
    },
    {
      "cell_type": "code",
      "execution_count": 164,
      "metadata": {},
      "outputs": [
        {
          "name": "stdout",
          "output_type": "stream",
          "text": [
            "rm: \u00bfborrar el fichero regular vac\u00edo '/home/wallabot/Documentos/web/portafolio/posts/prueba/subdirectorio/rootfile.txt'  protegido contra escritura? (s/n) s\n",
            "find: \u2018/home/wallabot/Documentos/web/portafolio/posts/prueba/subdirectorio\u2019: No existe el archivo o el directorio\n"
          ]
        }
      ],
      "source": [
        "!find ~/ -name subdirectorio -type d -exec rm -r {} \\;"
      ]
    },
    {
      "cell_type": "code",
      "execution_count": 146,
      "metadata": {},
      "outputs": [],
      "source": [
        "!find ~/ -name subdirectorio -type d"
      ]
    },
    {
      "cell_type": "markdown",
      "metadata": {},
      "source": [
        "Por \u00faltimo, se usarmos o caractere `!` estaremos indicando que encontre tudo o que n\u00e3o coincide com o que especificamos"
      ]
    },
    {
      "cell_type": "code",
      "execution_count": 147,
      "metadata": {},
      "outputs": [
        {
          "name": "stdout",
          "output_type": "stream",
          "text": [
            "/home/wallabot/Documentos/web/portafolio/posts/prueba\n",
            "/home/wallabot/Documentos/web/portafolio/posts/prueba/index.html\n",
            "/home/wallabot/Documentos/web/portafolio/posts/prueba/Abc\n",
            "/home/wallabot/Documentos/web/portafolio/posts/prueba/datos1\n",
            "/home/wallabot/Documentos/web/portafolio/posts/prueba/2021-02-11-Introduccion-a-Python.ipynb\n",
            "/home/wallabot/Documentos/web/portafolio/posts/prueba/datos123\n"
          ]
        }
      ],
      "source": [
        "!find ~/Documentos/web/portafolio/posts/prueba ! -name *.txt"
      ]
    },
    {
      "cell_type": "markdown",
      "metadata": {},
      "source": [
        "Como vemos, ele encontrou tudo o que n\u00e3o \u00e9 um `.txt`"
      ]
    },
    {
      "cell_type": "markdown",
      "metadata": {},
      "source": [
        "## Comando de busca `grep`"
      ]
    },
    {
      "cell_type": "markdown",
      "metadata": {},
      "source": [
        "`grep` \u00e9 um comando de busca muito poderoso, por isso dedicamos uma se\u00e7\u00e3o apenas para ele. O comando `grep` utiliza express\u00f5es regulares, ent\u00e3o se voc\u00ea quiser aprender sobre elas, deixo um link para um [post](https://maximofn.com/expresiones-regulares) onde as explico."
      ]
    },
    {
      "cell_type": "markdown",
      "metadata": {},
      "source": [
        "Vamos come\u00e7ar a ver a pot\u00eancia deste comando, vamos procurar todas as vezes que aparece o texto `MaximoFN` dentro do arquivo `2021-02-11-Introduccion-a-Python.ipynb`"
      ]
    },
    {
      "cell_type": "code",
      "execution_count": 148,
      "metadata": {},
      "outputs": [],
      "source": [
        "terminal(\"cd /home/wallabot/Documentos/web/portafolio/posts/prueba\")"
      ]
    },
    {
      "cell_type": "code",
      "execution_count": 150,
      "metadata": {},
      "outputs": [
        {
          "name": "stdout",
          "output_type": "stream",
          "text": [
            "        \"a = 'MaximoFN'\\n\",\n",
            "              \"'MaximoFN'\"\n",
            "        \"string = \\\"MaximoFN\\\"\\n\",\n",
            "              \"'MaximoFN'\"\n",
            "        \"string = 'MaximoFN'\\n\",\n",
            "              \"'MaximoFN'\"\n",
            "            \"Este es el blog de \\\"MaximoFN\\\"\\n\"\n",
            "        \"print(\\\"Este es el blog de \\\\\\\"MaximoFN\\\\\\\"\\\")\"\n",
            "            \"Este es el blog de 'MaximoFN'\\n\"\n",
            "        \"print('Este es el blog de \\\\'MaximoFN\\\\'')\"\n",
            "            \"Este es el blog de \\\\MaximoFN\\\\\\n\"\n",
            "        \"print('Este es el blog de \\\\\\\\MaximoFN\\\\\\\\')\"\n",
            "            \"MaximoFN\\n\"\n",
            "        \"print('Este es el blog de \\\\nMaximoFN')\"\n",
            "            \"Este es el blog de MaximoFN\\n\"\n",
            "        \"print('Esto no se imprimir\u00e1 \\\\rEste es el blog de MaximoFN')\"\n",
            "            \"Este es el blog de \\tMaximoFN\\n\"\n",
            "        \"print('Este es el blog de \\\\tMaximoFN')\"\n",
            "            \"Este es el blog deMaximoFN\\n\"\n",
            "        \"print('Este es el blog de \\\\bMaximoFN')\"\n",
            "\t ...\n",
            "        \"funcion2_del_modulo('MaximoFN')\"\n",
            "            \"MaximoFN\\n\",\n",
            "        \"  print('MaximoFN')\\n\",\n",
            "        \"  variable = 'MaximoFN'\\n\",\n",
            "\n"
          ]
        }
      ],
      "source": [
        "terminal(\"grep MaximoFN 2021-02-11-Introduccion-a-Python.ipynb\", max_lines_output=20)"
      ]
    },
    {
      "cell_type": "markdown",
      "metadata": {},
      "source": [
        "No entanto, se fizermos a mesma pesquisa para o texto `maximofn`"
      ]
    },
    {
      "cell_type": "code",
      "execution_count": 151,
      "metadata": {},
      "outputs": [],
      "source": [
        "!grep maximofn 2021-02-11-Introduccion-a-Python.ipynb"
      ]
    },
    {
      "cell_type": "markdown",
      "metadata": {},
      "source": [
        "N\u00e3o aparece nenhum resultado, isto \u00e9 porque `grep` \u00e9 `case sensitive`, ou seja, busca o texto tal qual foi introduzido, diferenciando mai\u00fasculas e min\u00fasculas. Se n\u00e3o queremos isso, temos que introduzir o flag `-i`."
      ]
    },
    {
      "cell_type": "code",
      "execution_count": 152,
      "metadata": {},
      "outputs": [
        {
          "name": "stdout",
          "output_type": "stream",
          "text": [
            "        \"a = 'MaximoFN'\\n\",\n",
            "              \"'MaximoFN'\"\n",
            "        \"string = \\\"MaximoFN\\\"\\n\",\n",
            "              \"'MaximoFN'\"\n",
            "        \"string = 'MaximoFN'\\n\",\n",
            "              \"'MaximoFN'\"\n",
            "            \"Este es el blog de \\\"MaximoFN\\\"\\n\"\n",
            "        \"print(\\\"Este es el blog de \\\\\\\"MaximoFN\\\\\\\"\\\")\"\n",
            "            \"Este es el blog de 'MaximoFN'\\n\"\n",
            "        \"print('Este es el blog de \\\\'MaximoFN\\\\'')\"\n",
            "            \"Este es el blog de \\\\MaximoFN\\\\\\n\"\n",
            "        \"print('Este es el blog de \\\\\\\\MaximoFN\\\\\\\\')\"\n",
            "            \"MaximoFN\\n\"\n",
            "        \"print('Este es el blog de \\\\nMaximoFN')\"\n",
            "            \"Este es el blog de MaximoFN\\n\"\n",
            "        \"print('Esto no se imprimir\u00e1 \\\\rEste es el blog de MaximoFN')\"\n",
            "            \"Este es el blog de \\tMaximoFN\\n\"\n",
            "        \"print('Este es el blog de \\\\tMaximoFN')\"\n",
            "            \"Este es el blog deMaximoFN\\n\"\n",
            "        \"print('Este es el blog de \\\\bMaximoFN')\"\n",
            "\t ...\n",
            "        \"funcion2_del_modulo('MaximoFN')\"\n",
            "            \"MaximoFN\\n\",\n",
            "        \"  print('MaximoFN')\\n\",\n",
            "        \"  variable = 'MaximoFN'\\n\",\n",
            "\n"
          ]
        }
      ],
      "source": [
        "terminal(\"grep -i MaximoFN 2021-02-11-Introduccion-a-Python.ipynb\", max_lines_output=20)"
      ]
    },
    {
      "cell_type": "markdown",
      "metadata": {},
      "source": [
        "Se o que queremos \u00e9 que ele nos devolva o n\u00famero de vezes que aparece, introduzimos a flag `-c`"
      ]
    },
    {
      "cell_type": "code",
      "execution_count": 153,
      "metadata": {},
      "outputs": [
        {
          "name": "stdout",
          "output_type": "stream",
          "text": [
            "105\n"
          ]
        }
      ],
      "source": [
        "!grep -c MaximoFN 2021-02-11-Introduccion-a-Python.ipynb"
      ]
    },
    {
      "cell_type": "markdown",
      "metadata": {},
      "source": [
        "Se n\u00e3o nos importarmos se aparecer em mai\u00fasculas ou min\u00fasculas, podemos adicionar novamente a flag `-i`, mas n\u00e3o \u00e9 necess\u00e1rio coloc\u00e1-la separadamente da flag `-c`, elas podem ser inseridas juntas."
      ]
    },
    {
      "cell_type": "code",
      "execution_count": 154,
      "metadata": {},
      "outputs": [
        {
          "name": "stdout",
          "output_type": "stream",
          "text": [
            "105\n"
          ]
        }
      ],
      "source": [
        "!grep -ci MaximoFN 2021-02-11-Introduccion-a-Python.ipynb"
      ]
    },
    {
      "cell_type": "markdown",
      "metadata": {},
      "source": [
        "Se agora queremos todas as vezes em que **n\u00e3o** aparece a palavra `M\u00e1ximoFN`, introduzimos a flag `-v`"
      ]
    },
    {
      "cell_type": "code",
      "execution_count": 155,
      "metadata": {},
      "outputs": [
        {
          "name": "stdout",
          "output_type": "stream",
          "text": [
            "11573\n"
          ]
        }
      ],
      "source": [
        "!grep -cv MaximoFN 2021-02-11-Introduccion-a-Python.ipynb"
      ]
    },
    {
      "cell_type": "markdown",
      "metadata": {},
      "source": [
        "## Utilidades de rede"
      ]
    },
    {
      "cell_type": "markdown",
      "metadata": {},
      "source": [
        "### Informa\u00e7\u00f5es das interfaces de rede com `ifconfig`"
      ]
    },
    {
      "cell_type": "markdown",
      "metadata": {},
      "source": [
        "O primeiro comando ser\u00e1 `ifconfig` que nos mostra informa\u00e7\u00f5es das nossas interfaces de rede."
      ]
    },
    {
      "cell_type": "code",
      "execution_count": 156,
      "metadata": {},
      "outputs": [
        {
          "name": "stdout",
          "output_type": "stream",
          "text": [
            "br-470e52ae2708: flags=4099<UP,BROADCAST,MULTICAST>  mtu 1500\n",
            "        inet 172.18.0.1  netmask 255.255.0.0  broadcast 172.18.255.255\n",
            "        ether 02:42:ac:d0:b9:eb  txqueuelen 0  (Ethernet)\n",
            "        RX packets 0  bytes 0 (0.0 B)\n",
            "        RX errors 0  dropped 0  overruns 0  frame 0\n",
            "        TX packets 0  bytes 0 (0.0 B)\n",
            "        TX errors 0  dropped 0 overruns 0  carrier 0  collisions 0\n",
            "\n",
            "docker0: flags=4099<UP,BROADCAST,MULTICAST>  mtu 1500\n",
            "        inet 172.17.0.1  netmask 255.255.0.0  broadcast 172.17.255.255\n",
            "        ether 02:42:5d:15:1c:e9  txqueuelen 0  (Ethernet)\n",
            "        RX packets 0  bytes 0 (0.0 B)\n",
            "        RX errors 0  dropped 0  overruns 0  frame 0\n",
            "        TX packets 0  bytes 0 (0.0 B)\n",
            "        TX errors 0  dropped 0 overruns 0  carrier 0  collisions 0\n",
            "\n",
            "enp6s0: flags=4163<UP,BROADCAST,RUNNING,MULTICAST>  mtu 1500\n",
            "        inet 192.168.1.144  netmask 255.255.255.0  broadcast 192.168.1.255\n",
            "        inet6 fe80::7dc2:6944:3fbe:c18e  prefixlen 64  scopeid 0x20<link>\n",
            "        ether 24:4b:fe:5c:f6:59  txqueuelen 1000  (Ethernet)\n",
            "        RX packets 144369  bytes 123807349 (123.8 MB)\n",
            "        RX errors 0  dropped 2056  overruns 0  frame 0\n",
            "        TX packets 100672  bytes 55678042 (55.6 MB)\n",
            "        TX errors 0  dropped 0 overruns 0  carrier 0  collisions 0\n",
            "\n",
            "lo: flags=73<UP,LOOPBACK,RUNNING>  mtu 65536\n",
            "        inet 127.0.0.1  netmask 255.0.0.0\n",
            "        inet6 ::1  prefixlen 128  scopeid 0x10<host>\n",
            "        loop  txqueuelen 1000  (Bucle local)\n",
            "        RX packets 10748  bytes 1832545 (1.8 MB)\n",
            "        RX errors 0  dropped 0  overruns 0  frame 0\n",
            "        TX packets 10748  bytes 1832545 (1.8 MB)\n",
            "        TX errors 0  dropped 0 overruns 0  carrier 0  collisions 0\n",
            "\n",
            "wlp5s0: flags=4099<UP,BROADCAST,MULTICAST>  mtu 1500\n",
            "        ether 4c:77:cb:1d:66:cc  txqueuelen 1000  (Ethernet)\n",
            "        RX packets 0  bytes 0 (0.0 B)\n",
            "        RX errors 0  dropped 0  overruns 0  frame 0\n",
            "        TX packets 0  bytes 0 (0.0 B)\n",
            "        TX errors 0  dropped 0 overruns 0  carrier 0  collisions 0\n",
            "\n"
          ]
        }
      ],
      "source": [
        "!ifconfig"
      ]
    },
    {
      "cell_type": "markdown",
      "metadata": {},
      "source": [
        "Como vemos, temos a informa\u00e7\u00e3o de todas as interfaces de rede do meu computador, mas se eu quiser saber apenas a de uma, especifico adicionando seu nome."
      ]
    },
    {
      "cell_type": "code",
      "execution_count": 157,
      "metadata": {},
      "outputs": [
        {
          "name": "stdout",
          "output_type": "stream",
          "text": [
            "enp6s0: flags=4163<UP,BROADCAST,RUNNING,MULTICAST>  mtu 1500\n",
            "        inet 192.168.1.144  netmask 255.255.255.0  broadcast 192.168.1.255\n",
            "        inet6 fe80::7dc2:6944:3fbe:c18e  prefixlen 64  scopeid 0x20<link>\n",
            "        ether 24:4b:fe:5c:f6:59  txqueuelen 1000  (Ethernet)\n",
            "        RX packets 144467  bytes 123842258 (123.8 MB)\n",
            "        RX errors 0  dropped 2060  overruns 0  frame 0\n",
            "        TX packets 100786  bytes 55749109 (55.7 MB)\n",
            "        TX errors 0  dropped 0 overruns 0  carrier 0  collisions 0\n",
            "\n"
          ]
        }
      ],
      "source": [
        "!ifconfig enp6s0"
      ]
    },
    {
      "cell_type": "markdown",
      "metadata": {},
      "source": [
        "### Informa\u00e7\u00e3o das interfaces de rede com `ip`"
      ]
    },
    {
      "cell_type": "markdown",
      "metadata": {},
      "source": [
        "Outra maneira de obter as informa\u00e7\u00f5es de nossas interfaces de rede \u00e9 atrav\u00e9s do comando `ip`, adicionando `a` nos d\u00e1 informa\u00e7\u00f5es de todas as interfaces"
      ]
    },
    {
      "cell_type": "code",
      "execution_count": 158,
      "metadata": {},
      "outputs": [
        {
          "name": "stdout",
          "output_type": "stream",
          "text": [
            "1: lo: <LOOPBACK,UP,LOWER_UP> mtu 65536 qdisc noqueue state UNKNOWN group default qlen 1000\n",
            "    link/loopback 00:00:00:00:00:00 brd 00:00:00:00:00:00\n",
            "    inet 127.0.0.1/8 scope host lo\n",
            "       valid_lft forever preferred_lft forever\n",
            "    inet6 ::1/128 scope host \n",
            "       valid_lft forever preferred_lft forever\n",
            "2: enp6s0: <BROADCAST,MULTICAST,UP,LOWER_UP> mtu 1500 qdisc fq_codel state UP group default qlen 1000\n",
            "    link/ether 24:4b:fe:5c:f6:59 brd ff:ff:ff:ff:ff:ff\n",
            "    inet 192.168.1.144/24 brd 192.168.1.255 scope global dynamic noprefixroute enp6s0\n",
            "       valid_lft 80218sec preferred_lft 80218sec\n",
            "    inet6 fe80::7dc2:6944:3fbe:c18e/64 scope link noprefixroute \n",
            "       valid_lft forever preferred_lft forever\n",
            "3: wlp5s0: <NO-CARRIER,BROADCAST,MULTICAST,UP> mtu 1500 qdisc noqueue state DOWN group default qlen 1000\n",
            "    link/ether 4c:77:cb:1d:66:cc brd ff:ff:ff:ff:ff:ff\n",
            "4: br-470e52ae2708: <NO-CARRIER,BROADCAST,MULTICAST,UP> mtu 1500 qdisc noqueue state DOWN group default \n",
            "    link/ether 02:42:ac:d0:b9:eb brd ff:ff:ff:ff:ff:ff\n",
            "    inet 172.18.0.1/16 brd 172.18.255.255 scope global br-470e52ae2708\n",
            "       valid_lft forever preferred_lft forever\n",
            "5: docker0: <NO-CARRIER,BROADCAST,MULTICAST,UP> mtu 1500 qdisc noqueue state DOWN group default \n",
            "    link/ether 02:42:5d:15:1c:e9 brd ff:ff:ff:ff:ff:ff\n",
            "    inet 172.17.0.1/16 brd 172.17.255.255 scope global docker0\n",
            "       valid_lft forever preferred_lft forever\n"
          ]
        }
      ],
      "source": [
        "!ip a"
      ]
    },
    {
      "cell_type": "markdown",
      "metadata": {},
      "source": [
        "### Teste de comunica\u00e7\u00f5es com `ping`"
      ]
    },
    {
      "cell_type": "markdown",
      "metadata": {},
      "source": [
        "Outro comando \u00fatil \u00e9 `ping`, que pode nos servir para ver se temos conex\u00e3o com um determinado `IP`. Por exemplo, o `IP` do Google \u00e9 `142.250.200.78`, ent\u00e3o fazemos `ping` para ver se ele nos responde. O comando `ping` no Linux faz `ping`s sem parar, portanto, nunca termina at\u00e9 que o paremos; para isso n\u00e3o acontecer, adicionamos o flag `-c` e o n\u00famero de tentativas."
      ]
    },
    {
      "cell_type": "code",
      "execution_count": 161,
      "metadata": {},
      "outputs": [
        {
          "name": "stdout",
          "output_type": "stream",
          "text": [
            "PING 142.250.200.132 (142.250.200.132) 56(84) bytes of data.\n",
            "64 bytes from 142.250.200.132: icmp_seq=1 ttl=117 time=3.46 ms\n",
            "64 bytes from 142.250.200.132: icmp_seq=2 ttl=117 time=3.77 ms\n",
            "64 bytes from 142.250.200.132: icmp_seq=3 ttl=117 time=2.81 ms\n",
            "64 bytes from 142.250.200.132: icmp_seq=4 ttl=117 time=2.86 ms\n",
            "\n",
            "--- 142.250.200.132 ping statistics ---\n",
            "4 packets transmitted, 4 received, 0% packet loss, time 3004ms\n",
            "rtt min/avg/max/mdev = 2.812/3.227/3.773/0.405 ms\n"
          ]
        }
      ],
      "source": [
        "!ping 142.250.200.132 -c 4"
      ]
    },
    {
      "cell_type": "markdown",
      "metadata": {},
      "source": [
        "O mesmo teria acontecido se tiv\u00e9ssemos feito diretamente sobre `google.com`"
      ]
    },
    {
      "cell_type": "code",
      "execution_count": 160,
      "metadata": {},
      "outputs": [
        {
          "name": "stdout",
          "output_type": "stream",
          "text": [
            "PING www.google.com (142.250.200.132) 56(84) bytes of data.\n",
            "64 bytes from mad41s14-in-f4.1e100.net (142.250.200.132): icmp_seq=1 ttl=117 time=2.74 ms\n",
            "64 bytes from mad41s14-in-f4.1e100.net (142.250.200.132): icmp_seq=2 ttl=117 time=3.96 ms\n",
            "64 bytes from mad41s14-in-f4.1e100.net (142.250.200.132): icmp_seq=3 ttl=117 time=3.56 ms\n",
            "64 bytes from mad41s14-in-f4.1e100.net (142.250.200.132): icmp_seq=4 ttl=117 time=2.87 ms\n",
            "\n",
            "--- www.google.com ping statistics ---\n",
            "4 packets transmitted, 4 received, 0% packet loss, time 3003ms\n",
            "rtt min/avg/max/mdev = 2.741/3.283/3.962/0.499 ms\n"
          ]
        }
      ],
      "source": [
        "!ping www.google.com -c 4"
      ]
    },
    {
      "cell_type": "markdown",
      "metadata": {},
      "source": [
        "### Baixar arquivos fonte com `curl`"
      ]
    },
    {
      "cell_type": "markdown",
      "metadata": {},
      "source": [
        "Podemos obter um arquivo de texto de um endere\u00e7o dado atrav\u00e9s do comando `curl`, por exemplo, podemos baixar o html do Google"
      ]
    },
    {
      "cell_type": "code",
      "execution_count": 162,
      "metadata": {},
      "outputs": [
        {
          "name": "stdout",
          "output_type": "stream",
          "text": [
            "<!doctype html><html itemscope=\"\" itemtype=\"http://schema.org/WebPage\" lang=\"es\"><head><meta content=\"Google.es permite acceder a la informaci\ufffdn mundial en castellano, catal\ufffdn, gallego, euskara e ingl\ufffds.\" name=\"description\"><meta content=\"noodp\" name=\"robots\"><meta content=\"text/html; charset=UTF-8\" http-equiv=\"Content-Type\"><meta content=\"/images/branding/googleg/1x/googleg_standard_color_128dp.png\" itemprop=\"image\"><title>Google</title><script nonce=\"zXcc4tMJWBRoE7q_o_Z2fQ\">(function(){window.google={kEI:'M5GOY6PeLr-jkdUP1pir0AE',kEXPI:'0,1359409,6059,206,4804,2316,383,246,5,5367,1123753,1197713,688,380089,16115,28684,22430,1362,12312,17587,4998,13228,3847,10622,22741,5081,1593,1279,2742,149,1103,840,1983,214,4100,3514,606,2023,2297,14670,3227,2845,7,4773,28997,1850,15757,3,346,230,6459,149,13975,4,1528,2304,7039,27731,7357,13658,4437,16786,5815,2542,4094,4052,3,3541,1,14262,27892,2,14022,6248,19490,5680,1021,2380,28741,4569,6255,23421,1252,5835,14967,4333,7484,11406,15676,8155,7381,15970,873,14804,1,4828,7,1922,5784,12208,10330,587,12192,4832,26504,5796,3,14433,3890,751,13384,1499,3,679,1622,1779,1886,338,1627,1119,6,8909,80,243,458,3438,1763,722,1020,813,91,1133,10,280,2306,44,77,1420,3,562,402,314,275,2095,440,399,138,384,1033,334,2667,2,723,444,79,403,501,929,3,785,2,240,78,2022,284,196,732,175,342,244,617,335,1,841,1275,14,979,57,857,446,2,1900,838,251,227,50,21,8,3,442,57,40,936,697,773,95,121,643,1502,163,355,702,195,1,452,50,334,687,109,1,19,109,134,546,80,5,36,124,68,135,131,415,47,27,266,563,48,231,742,15,527,2,6,495,1,495,5,62,1627,441,262,5,3,648,3,6,4,13,39,538,792,337,9,115,98,180,148,308,401,1240,2,726,243,2044,5286450,84,19,32,115,11,70,5995534,2803414,3311,141,795,19735,1,1,346,1755,1004,41,342,1,189,14,1,10,8,1,5,4,2,1,3,2,2,1,3,1,3,1,4,3,1,3,2,2,23947076,511,21,11,4041599,1964,1007,2087,13579,3102,303,5595,11,3835,3637,2623,9,136,1524825',kBL:'p9Xv'};google.sn='webhp';google.kHL='es';})();(function(){\n",
            "var f=this||self;var h,k=[];function l(a){for(var b;a&&(!a.getAttribute||!(b=a.getAttribute(\"eid\")));)a=a.parentNode;return b||h}function m(a){for(var b=null;a&&(!a.getAttribute||!(b=a.getAttribute(\"leid\")));)a=a.parentNode;return b}\n",
            "function n(a,b,c,d,g){var e=\"\";c||-1!==b.search(\"&ei=\")||(e=\"&ei=\"+l(d),-1===b.search(\"&lei=\")&&(d=m(d))&&(e+=\"&lei=\"+d));d=\"\";!c&&f._cshid&&-1===b.search(\"&cshid=\")&&\"slh\"!==a&&(d=\"&cshid=\"+f._cshid);c=c||\"/\"+(g||\"gen_204\")+\"?atyp=i&ct=\"+a+\"&cad=\"+b+e+\"&zx=\"+Date.now()+d;/^http:/i.test(c)&&\"https:\"===window.location.protocol&&(google.ml&&google.ml(Error(\"a\"),!1,{src:c,glmm:1}),c=\"\");return c};h=google.kEI;google.getEI=l;google.getLEI=m;google.ml=function(){return null};google.log=function(a,b,c,d,g){if(c=n(a,b,c,d,g)){a=new Image;var e=k.length;k[e]=a;a.onerror=a.onload=a.onabort=function(){delete k[e]};a.src=c}};google.logUrl=n;}).call(this);(function(){google.y={};google.sy=[];google.x=function(a,b){if(a)var c=a.id;else{do c=Math.random();while(google.y[c])}google.y[c]=[a,b];return!1};google.sx=function(a){google.sy.push(a)};google.lm=[];google.plm=function(a){google.lm.push.apply(google.lm,a)};google.lq=[];google.load=function(a,b,c){google.lq.push([[a],b,c])};google.loadAll=function(a,b){google.lq.push([a,b])};google.bx=!1;google.lx=function(){};}).call(this);google.f={};(function(){\n",
            "document.documentElement.addEventListener(\"submit\",function(b){var a;if(a=b.target){var c=a.getAttribute(\"data-submitfalse\");a=\"1\"===c||\"q\"===c&&!a.elements.q.value?!0:!1}else a=!1;a&&(b.preventDefault(),b.stopPropagation())},!0);document.documentElement.addEventListener(\"click\",function(b){var a;a:{for(a=b.target;a&&a!==document.documentElement;a=a.parentElement)if(\"A\"===a.tagName){a=\"1\"===a.getAttribute(\"data-nohref\");break a}a=!1}a&&b.preventDefault()},!0);}).call(this);</script><style>#gbar,#guser{font-size:13px;padding-top:1px !important;}#gbar{height:22px}#guser{padding-bottom:7px !important;text-align:right}.gbh,.gbd{border-top:1px solid #c9d7f1;font-size:1px}.gbh{height:0;position:absolute;top:24px;width:100%}@media all{.gb1{height:22px;margin-right:.5em;vertical-align:top}#gbar{float:left}}a.gb1,a.gb4{text-decoration:underline !important}a.gb1,a.gb4{color:#00c !important}.gbi .gb4{color:#dd8e27 !important}.gbf .gb4{color:#900 !important}\n",
            "</style><style>body,td,a,p,.h{font-family:arial,sans-serif}body{margin:0;overflow-y:scroll}#gog{padding:3px 8px 0}td{line-height:.8em}.gac_m td{line-height:17px}form{margin-bottom:20px}.h{color:#1558d6}em{font-weight:bold;font-style:normal}.lst{height:25px;width:496px}.gsfi,.lst{font:18px arial,sans-serif}.gsfs{font:17px arial,sans-serif}.ds{display:inline-box;display:inline-block;margin:3px 0 4px;margin-left:4px}input{font-family:inherit}body{background:#fff;color:#000}a{color:#4b11a8;text-decoration:none}a:hover,a:active{text-decoration:underline}.fl a{color:#1558d6}a:visited{color:#4b11a8}.sblc{padding-top:5px}.sblc a{display:block;margin:2px 0;margin-left:13px;font-size:11px}.lsbb{background:#f8f9fa;border:solid 1px;border-color:#dadce0 #70757a #70757a #dadce0;height:30px}.lsbb{display:block}#WqQANb a{display:inline-block;margin:0 12px}.lsb{background:url(/images/nav_logo229.png) 0 -261px repeat-x;border:none;color:#000;cursor:pointer;height:30px;margin:0;outline:0;font:15px arial,sans-serif;vertical-align:top}.lsb:active{background:#dadce0}.lst:focus{outline:none}</style><script nonce=\"zXcc4tMJWBRoE7q_o_Z2fQ\">(function(){window.google.erd={jsr:1,bv:1698,de:true};\n",
            "var h=this||self;var k,l=null!=(k=h.mei)?k:1,n,p=null!=(n=h.sdo)?n:!0,q=0,r,t=google.erd,v=t.jsr;google.ml=function(a,b,d,m,e){e=void 0===e?2:e;b&&(r=a&&a.message);if(google.dl)return google.dl(a,e,d),null;if(0>v){window.console&&console.error(a,d);if(-2===v)throw a;b=!1}else b=!a||!a.message||\"Error loading script\"===a.message||q>=l&&!m?!1:!0;if(!b)return null;q++;d=d||{};b=encodeURIComponent;var c=\"/gen_204?atyp=i&ei=\"+b(google.kEI);google.kEXPI&&(c+=\"&jexpid=\"+b(google.kEXPI));c+=\"&srcpg=\"+b(google.sn)+\"&jsr=\"+b(t.jsr)+\"&bver=\"+b(t.bv);var f=a.lineNumber;void 0!==f&&(c+=\"&line=\"+f);var g=\n",
            "a.fileName;g&&(0<g.indexOf(\"-extension:/\")&&(e=3),c+=\"&script=\"+b(g),f&&g===window.location.href&&(f=document.documentElement.outerHTML.split(\"\\n\")[f],c+=\"&cad=\"+b(f?f.substring(0,300):\"No script found.\")));c+=\"&jsel=\"+e;for(var u in d)c+=\"&\",c+=b(u),c+=\"=\",c+=b(d[u]);c=c+\"&emsg=\"+b(a.name+\": \"+a.message);c=c+\"&jsst=\"+b(a.stack||\"N/A\");12288<=c.length&&(c=c.substr(0,12288));a=c;m||google.log(0,\"\",a);return a};window.onerror=function(a,b,d,m,e){r!==a&&(a=e instanceof Error?e:Error(a),void 0===d||\"lineNumber\"in a||(a.lineNumber=d),void 0===b||\"fileName\"in a||(a.fileName=b),google.ml(a,!1,void 0,!1,\"SyntaxError\"===a.name||\"SyntaxError\"===a.message.substring(0,11)||-1!==a.message.indexOf(\"Script error\")?3:0));r=null;p&&q>=l&&(window.onerror=null)};})();</script></head><body bgcolor=\"#fff\"><script nonce=\"zXcc4tMJWBRoE7q_o_Z2fQ\">(function(){var src='/images/nav_logo229.png';var iesg=false;document.body.onload = function(){window.n && window.n();if (document.images){new Image().src=src;}\n",
            "if (!iesg){document.f&&document.f.q.focus();document.gbqf&&document.gbqf.q.focus();}\n",
            "}\n",
            "})();</script><div id=\"mngb\"><div id=gbar><nobr><b class=gb1>B\ufffdsqueda</b> <a class=gb1 href=\"https://www.google.es/imghp?hl=es&tab=wi\">Im\ufffdgenes</a> <a class=gb1 href=\"https://maps.google.es/maps?hl=es&tab=wl\">Maps</a> <a class=gb1 href=\"https://play.google.com/?hl=es&tab=w8\">Play</a> <a class=gb1 href=\"https://www.youtube.com/?tab=w1\">YouTube</a> <a class=gb1 href=\"https://news.google.com/?tab=wn\">Noticias</a> <a class=gb1 href=\"https://mail.google.com/mail/?tab=wm\">Gmail</a> <a class=gb1 href=\"https://drive.google.com/?tab=wo\">Drive</a> <a class=gb1 style=\"text-decoration:none\" href=\"https://www.google.es/intl/es/about/products?tab=wh\"><u>M\ufffds</u> &raquo;</a></nobr></div><div id=guser width=100%><nobr><span id=gbn class=gbi></span><span id=gbf class=gbf></span><span id=gbe></span><a href=\"http://www.google.es/history/optout?hl=es\" class=gb4>Historial web</a> | <a  href=\"/preferences?hl=es\" class=gb4>Ajustes</a> | <a target=_top id=gb_70 href=\"https://accounts.google.com/ServiceLogin?hl=es&passive=true&continue=https://www.google.com/&ec=GAZAAQ\" class=gb4>Iniciar sesi\ufffdn</a></nobr></div><div class=gbh style=left:0></div><div class=gbh style=right:0></div></div><center><br clear=\"all\" id=\"lgpd\"><div id=\"lga\"><img alt=\"Google\" height=\"92\" src=\"/images/branding/googlelogo/1x/googlelogo_white_background_color_272x92dp.png\" style=\"padding:28px 0 14px\" width=\"272\" id=\"hplogo\"><br><br></div><form action=\"/search\" name=\"f\"><table cellpadding=\"0\" cellspacing=\"0\"><tr valign=\"top\"><td width=\"25%\">&nbsp;</td><td align=\"center\" nowrap=\"\"><input name=\"ie\" value=\"ISO-8859-1\" type=\"hidden\"><input value=\"es\" name=\"hl\" type=\"hidden\"><input name=\"source\" type=\"hidden\" value=\"hp\"><input name=\"biw\" type=\"hidden\"><input name=\"bih\" type=\"hidden\"><div class=\"ds\" style=\"height:32px;margin:4px 0\"><input class=\"lst\" style=\"margin:0;padding:5px 8px 0 6px;vertical-align:top;color:#000\" autocomplete=\"off\" value=\"\" title=\"Buscar con Google\" maxlength=\"2048\" name=\"q\" size=\"57\"></div><br style=\"line-height:0\"><span class=\"ds\"><span class=\"lsbb\"><input class=\"lsb\" value=\"Buscar con Google\" name=\"btnG\" type=\"submit\"></span></span><span class=\"ds\"><span class=\"lsbb\"><input class=\"lsb\" id=\"tsuid_1\" value=\"Voy a tener suerte\" name=\"btnI\" type=\"submit\"><script nonce=\"zXcc4tMJWBRoE7q_o_Z2fQ\">(function(){var id='tsuid_1';document.getElementById(id).onclick = function(){if (this.form.q.value){this.checked = 1;if (this.form.iflsig)this.form.iflsig.disabled = false;}\n",
            "else top.location='/doodles/';};})();</script><input value=\"AJiK0e8AAAAAY46fQwdyVrbrgW6gkEtVkGfp2nyO0ZXL\" name=\"iflsig\" type=\"hidden\"></span></span></td><td class=\"fl sblc\" align=\"left\" nowrap=\"\" width=\"25%\"><a href=\"/advanced_search?hl=es&amp;authuser=0\">B\ufffdsqueda avanzada</a></td></tr></table><input id=\"gbv\" name=\"gbv\" type=\"hidden\" value=\"1\"><script nonce=\"zXcc4tMJWBRoE7q_o_Z2fQ\">(function(){var a,b=\"1\";if(document&&document.getElementById)if(\"undefined\"!=typeof XMLHttpRequest)b=\"2\";else if(\"undefined\"!=typeof ActiveXObject){var c,d,e=[\"MSXML2.XMLHTTP.6.0\",\"MSXML2.XMLHTTP.3.0\",\"MSXML2.XMLHTTP\",\"Microsoft.XMLHTTP\"];for(c=0;d=e[c++];)try{new ActiveXObject(d),b=\"2\"}catch(h){}}a=b;if(\"2\"==a&&-1==location.search.indexOf(\"&gbv=2\")){var f=google.gbvu,g=document.getElementById(\"gbv\");g&&(g.value=a);f&&window.setTimeout(function(){location.href=f},0)};}).call(this);</script></form><div id=\"gac_scont\"></div><div style=\"font-size:83%;min-height:3.5em\"><br><div id=\"gws-output-pages-elements-homepage_additional_languages__als\"><style>#gws-output-pages-elements-homepage_additional_languages__als{font-size:small;margin-bottom:24px}#SIvCob{color:#3c4043;display:inline-block;line-height:28px;}#SIvCob a{padding:0 3px;}.H6sW5{display:inline-block;margin:0 2px;white-space:nowrap}.z4hgWe{display:inline-block;margin:0 2px}</style><div id=\"SIvCob\">Ofrecido por Google en:  <a href=\"https://www.google.com/setprefs?sig=0_vwUKUD2Xhro4NnrueK1hCfItt30%3D&amp;hl=ca&amp;source=homepage&amp;sa=X&amp;ved=0ahUKEwjjw_C44uP7AhW_UaQEHVbMChoQ2ZgBCAU\">catal\ufffd</a>    <a href=\"https://www.google.com/setprefs?sig=0_vwUKUD2Xhro4NnrueK1hCfItt30%3D&amp;hl=gl&amp;source=homepage&amp;sa=X&amp;ved=0ahUKEwjjw_C44uP7AhW_UaQEHVbMChoQ2ZgBCAY\">galego</a>    <a href=\"https://www.google.com/setprefs?sig=0_vwUKUD2Xhro4NnrueK1hCfItt30%3D&amp;hl=eu&amp;source=homepage&amp;sa=X&amp;ved=0ahUKEwjjw_C44uP7AhW_UaQEHVbMChoQ2ZgBCAc\">euskara</a>  </div></div></div><span id=\"footer\"><div style=\"font-size:10pt\"><div style=\"margin:19px auto;text-align:center\" id=\"WqQANb\"><a href=\"http://www.google.es/intl/es/services/\">Soluciones Empresariales</a><a href=\"/intl/es/about.html\">Todo acerca de Google</a><a href=\"https://www.google.com/setprefdomain?prefdom=ES&amp;prev=https://www.google.es/&amp;sig=K_a2UXepORMQOw5-SHU8h4noB_VWk%3D\">Google.es</a></div></div><p style=\"font-size:8pt;color:#70757a\">&copy; 2022 - <a href=\"/intl/es/policies/privacy/\">Privacidad</a> - <a href=\"/intl/es/policies/terms/\">T\ufffdrminos</a></p></span></center><script nonce=\"zXcc4tMJWBRoE7q_o_Z2fQ\">(function(){window.google.cdo={height:757,width:1440};(function(){var a=window.innerWidth,b=window.innerHeight;if(!a||!b){var c=window.document,d=\"CSS1Compat\"==c.compatMode?c.documentElement:c.body;a=d.clientWidth;b=d.clientHeight}a&&b&&(a!=google.cdo.width||b!=google.cdo.height)&&google.log(\"\",\"\",\"/client_204?&atyp=i&biw=\"+a+\"&bih=\"+b+\"&ei=\"+google.kEI);}).call(this);})();</script> <script nonce=\"zXcc4tMJWBRoE7q_o_Z2fQ\">(function(){google.xjs={ck:'xjs.hp.oxai9SxkIQY.L.X.O',cs:'ACT90oEGh-_ImDfBjn6aD_ABGaOlD2MqVw',excm:[]};})();</script>  <script nonce=\"zXcc4tMJWBRoE7q_o_Z2fQ\">(function(){var u='/xjs/_/js/k\\x3dxjs.hp.en.9b-uVUIpJU8.O/am\\x3dAADoBABQAGAB/d\\x3d1/ed\\x3d1/rs\\x3dACT90oG-6KYVksw4jxVvNcwan406xE6qVw/m\\x3dsb_he,d';var amd=0;\n",
            "var d=this||self,e=function(a){return a};var g;var l=function(a,b){this.g=b===h?a:\"\"};l.prototype.toString=function(){return this.g+\"\"};var h={};\n",
            "function m(){var a=u;google.lx=function(){p(a);google.lx=function(){}};google.bx||google.lx()}\n",
            "function p(a){google.timers&&google.timers.load&&google.tick&&google.tick(\"load\",\"xjsls\");var b=document;var c=\"SCRIPT\";\"application/xhtml+xml\"===b.contentType&&(c=c.toLowerCase());c=b.createElement(c);if(void 0===g){b=null;var k=d.trustedTypes;if(k&&k.createPolicy){try{b=k.createPolicy(\"goog#html\",{createHTML:e,createScript:e,createScriptURL:e})}catch(q){d.console&&d.console.error(q.message)}g=b}else g=b}a=(b=g)?b.createScriptURL(a):a;a=new l(a,h);c.src=a instanceof l&&a.constructor===l?a.g:\"type_error:TrustedResourceUrl\";var f,n;(f=(a=null==(n=(f=(c.ownerDocument&&c.ownerDocument.defaultView||window).document).querySelector)?void 0:n.call(f,\"script[nonce]\"))?a.nonce||a.getAttribute(\"nonce\")||\"\":\"\")&&c.setAttribute(\"nonce\",f);document.body.appendChild(c);google.psa=!0};google.xjsu=u;setTimeout(function(){0<amd?google.caft(function(){return m()},amd):m()},0);})();function _DumpException(e){throw e;}\n",
            "function _F_installCss(c){}\n",
            "(function(){google.jl={blt:'none',chnk:0,dw:false,dwu:true,emtn:0,end:0,ico:false,ikb:0,ine:false,injs:'none',injt:0,injth:0,injv2:false,lls:'default',pdt:0,rep:0,snet:true,strt:0,ubm:false,uwp:true};})();(function(){var pmc='{\\x22d\\x22:{},\\x22sb_he\\x22:{\\x22agen\\x22:true,\\x22cgen\\x22:true,\\x22client\\x22:\\x22heirloom-hp\\x22,\\x22dh\\x22:true,\\x22ds\\x22:\\x22\\x22,\\x22fl\\x22:true,\\x22host\\x22:\\x22google.com\\x22,\\x22jsonp\\x22:true,\\x22lm\\x22:true,\\x22msgs\\x22:{\\x22cibl\\x22:\\x22Borrar b\ufffdsqueda\\x22,\\x22dym\\x22:\\x22Quiz\ufffds quisiste decir:\\x22,\\x22lcky\\x22:\\x22Voy a tener suerte\\x22,\\x22lml\\x22:\\x22M\ufffds informaci\ufffdn\\x22,\\x22psrc\\x22:\\x22Esta b\ufffdsqueda se ha eliminado de tu \\\\u003Ca href\\x3d\\\\\\x22/history\\\\\\x22\\\\u003Ehistorial web\\\\u003C/a\\\\u003E.\\x22,\\x22psrl\\x22:\\x22Eliminar\\x22,\\x22sbit\\x22:\\x22Buscar por imagen\\x22,\\x22srch\\x22:\\x22Buscar con Google\\x22},\\x22ovr\\x22:{},\\x22pq\\x22:\\x22\\x22,\\x22rfs\\x22:[],\\x22sbas\\x22:\\x220 3px 8px 0 rgba(0,0,0,0.2),0 0 0 1px rgba(0,0,0,0.08)\\x22,\\x22stok\\x22:\\x22gh8wSanWNWQy8f-PH0wGTjDkvYQ\\x22}}';google.pmc=JSON.parse(pmc);})();</script>        </body></html>"
          ]
        }
      ],
      "source": [
        "!curl https://www.google.com"
      ]
    },
    {
      "cell_type": "markdown",
      "metadata": {},
      "source": [
        "Tamb\u00e9m podemos fazer um pipeline para salv\u00e1-lo em um arquivo"
      ]
    },
    {
      "cell_type": "code",
      "execution_count": 163,
      "metadata": {},
      "outputs": [
        {
          "name": "stdout",
          "output_type": "stream",
          "text": [
            "  % Total    % Received % Xferd  Average Speed   Time    Time     Time  Current\n",
            "                                 Dload  Upload   Total   Spent    Left  Speed\n",
            "100 15168    0 15168    0     0   135k      0 --:--:-- --:--:-- --:--:--  137k\n"
          ]
        }
      ],
      "source": [
        "!curl https://www.google.com > google.html"
      ]
    },
    {
      "cell_type": "markdown",
      "metadata": {},
      "source": [
        "Agora podemos ver se foi salvo corretamente"
      ]
    },
    {
      "cell_type": "code",
      "execution_count": 165,
      "metadata": {},
      "outputs": [
        {
          "name": "stdout",
          "output_type": "stream",
          "text": [
            "<!doctype html><html itemscope=\"\" itemtype=\"http://schema.org/WebPage\" lang=\"es\"><head><meta content=\"Google.es permite acceder a la informaci\ufffdn mundial en castellano, catal\ufffdn, gallego, euskara e ingl\ufffds.\" name=\"description\"><meta content=\"noodp\" name=\"robots\"><meta content=\"text/html; charset=UTF-8\" http-equiv=\"Content-Type\"><meta content=\"/images/branding/googleg/1x/googleg_standard_color_128dp.png\" itemprop=\"image\"><title>Google</title><script nonce=\"Jo7WFU6XWWwu6NrdwaRyIw\">(function(){window.google={kEI:'R5GOY-LZHLegkdUP_IqzoAE',kEXPI:'0,1359409,6059,206,4804,2316,383,246,5,5367,1123753,1197777,380713,16115,28684,22430,1362,283,12036,17580,4998,13228,516,3331,10622,22741,5081,1593,1279,2742,149,1103,840,1983,4,210,4100,3514,606,2023,2299,14668,3229,2843,7,4773,826,23475,4696,1851,15756,3,346,230,6459,149,13975,4,1528,2304,7039,20309,7422,7357,13658,4437,16786,5812,2545,4094,4052,3,3541,1,11943,30211,2,8984,1,5037,6249,19490,5679,1020,2378,28745,4568,6258,23418,1252,5835,14967,4333,4239,3245,27082,239,7916,7381,15969,874,19633,6,1923,5784,3995,21779,1120,8423,4832,26080,423,107,5690,3,14433,3890,751,14879,3,683,217,1405,1779,1854,31,1966,1119,6,8909,323,5659,1741,814,1224,10,280,2346,82,1419,3,565,401,519,68,970,1125,440,398,156,367,1034,333,3392,526,396,3,1431,3,785,2,312,2312,196,907,342,244,618,314,1,293,568,171,1104,14,89,891,56,857,306,14,509,154,246,1110,219,628,249,229,49,8,8,3,55,4,399,55,39,1072,49,43,2,468,782,83,123,641,1502,166,350,707,195,5,140,358,329,692,109,1,20,108,134,547,67,5,49,93,31,77,124,79,355,160,27,829,236,764,12,35,118,98,803,1,65,436,5,5,54,2065,262,5,3,647,3,8,2,14,39,65,380,80,14,790,346,115,99,1323,4,711,242,2,723,2286,5280608,12,5934,147,81,8798948,3311,141,795,19735,1,1,346,1755,1004,41,342,1,189,14,9,4,6,3,3,4,1,2,2,3,2,2,2,1,2,5,2,2,1,2,2,2,23947077,512,18,13,2737921,1303678,1964,3094,13579,3405,5595,11,3835,1923,3208,1069,1480676,40778',kBL:'p9Xv'};google.sn='webhp';google.kHL='es';})();(function(){\n",
            "var f=this||self;var h,k=[];function l(a){for(var b;a&&(!a.getAttribute||!(b=a.getAttribute(\"eid\")));)a=a.parentNode;return b||h}function m(a){for(var b=null;a&&(!a.getAttribute||!(b=a.getAttribute(\"leid\")));)a=a.parentNode;return b}\n",
            "function n(a,b,c,d,g){var e=\"\";c||-1!==b.search(\"&ei=\")||(e=\"&ei=\"+l(d),-1===b.search(\"&lei=\")&&(d=m(d))&&(e+=\"&lei=\"+d));d=\"\";!c&&f._cshid&&-1===b.search(\"&cshid=\")&&\"slh\"!==a&&(d=\"&cshid=\"+f._cshid);c=c||\"/\"+(g||\"gen_204\")+\"?atyp=i&ct=\"+a+\"&cad=\"+b+e+\"&zx=\"+Date.now()+d;/^http:/i.test(c)&&\"https:\"===window.location.protocol&&(google.ml&&google.ml(Error(\"a\"),!1,{src:c,glmm:1}),c=\"\");return c};h=google.kEI;google.getEI=l;google.getLEI=m;google.ml=function(){return null};google.log=function(a,b,c,d,g){if(c=n(a,b,c,d,g)){a=new Image;var e=k.length;k[e]=a;a.onerror=a.onload=a.onabort=function(){delete k[e]};a.src=c}};google.logUrl=n;}).call(this);(function(){google.y={};google.sy=[];google.x=function(a,b){if(a)var c=a.id;else{do c=Math.random();while(google.y[c])}google.y[c]=[a,b];return!1};google.sx=function(a){google.sy.push(a)};google.lm=[];google.plm=function(a){google.lm.push.apply(google.lm,a)};google.lq=[];google.load=function(a,b,c){google.lq.push([[a],b,c])};google.loadAll=function(a,b){google.lq.push([a,b])};google.bx=!1;google.lx=function(){};}).call(this);google.f={};(function(){\n",
            "document.documentElement.addEventListener(\"submit\",function(b){var a;if(a=b.target){var c=a.getAttribute(\"data-submitfalse\");a=\"1\"===c||\"q\"===c&&!a.elements.q.value?!0:!1}else a=!1;a&&(b.preventDefault(),b.stopPropagation())},!0);document.documentElement.addEventListener(\"click\",function(b){var a;a:{for(a=b.target;a&&a!==document.documentElement;a=a.parentElement)if(\"A\"===a.tagName){a=\"1\"===a.getAttribute(\"data-nohref\");break a}a=!1}a&&b.preventDefault()},!0);}).call(this);</script><style>#gbar,#guser{font-size:13px;padding-top:1px !important;}#gbar{height:22px}#guser{padding-bottom:7px !important;text-align:right}.gbh,.gbd{border-top:1px solid #c9d7f1;font-size:1px}.gbh{height:0;position:absolute;top:24px;width:100%}@media all{.gb1{height:22px;margin-right:.5em;vertical-align:top}#gbar{float:left}}a.gb1,a.gb4{text-decoration:underline !important}a.gb1,a.gb4{color:#00c !important}.gbi .gb4{color:#dd8e27 !important}.gbf .gb4{color:#900 !important}\n",
            "</style><style>body,td,a,p,.h{font-family:arial,sans-serif}body{margin:0;overflow-y:scroll}#gog{padding:3px 8px 0}td{line-height:.8em}.gac_m td{line-height:17px}form{margin-bottom:20px}.h{color:#1558d6}em{font-weight:bold;font-style:normal}.lst{height:25px;width:496px}.gsfi,.lst{font:18px arial,sans-serif}.gsfs{font:17px arial,sans-serif}.ds{display:inline-box;display:inline-block;margin:3px 0 4px;margin-left:4px}input{font-family:inherit}body{background:#fff;color:#000}a{color:#4b11a8;text-decoration:none}a:hover,a:active{text-decoration:underline}.fl a{color:#1558d6}a:visited{color:#4b11a8}.sblc{padding-top:5px}.sblc a{display:block;margin:2px 0;margin-left:13px;font-size:11px}.lsbb{background:#f8f9fa;border:solid 1px;border-color:#dadce0 #70757a #70757a #dadce0;height:30px}.lsbb{display:block}#WqQANb a{display:inline-block;margin:0 12px}.lsb{background:url(/images/nav_logo229.png) 0 -261px repeat-x;border:none;color:#000;cursor:pointer;height:30px;margin:0;outline:0;font:15px arial,sans-serif;vertical-align:top}.lsb:active{background:#dadce0}.lst:focus{outline:none}</style><script nonce=\"Jo7WFU6XWWwu6NrdwaRyIw\">(function(){window.google.erd={jsr:1,bv:1698,de:true};\n",
            "var h=this||self;var k,l=null!=(k=h.mei)?k:1,n,p=null!=(n=h.sdo)?n:!0,q=0,r,t=google.erd,v=t.jsr;google.ml=function(a,b,d,m,e){e=void 0===e?2:e;b&&(r=a&&a.message);if(google.dl)return google.dl(a,e,d),null;if(0>v){window.console&&console.error(a,d);if(-2===v)throw a;b=!1}else b=!a||!a.message||\"Error loading script\"===a.message||q>=l&&!m?!1:!0;if(!b)return null;q++;d=d||{};b=encodeURIComponent;var c=\"/gen_204?atyp=i&ei=\"+b(google.kEI);google.kEXPI&&(c+=\"&jexpid=\"+b(google.kEXPI));c+=\"&srcpg=\"+b(google.sn)+\"&jsr=\"+b(t.jsr)+\"&bver=\"+b(t.bv);var f=a.lineNumber;void 0!==f&&(c+=\"&line=\"+f);var g=\n",
            "a.fileName;g&&(0<g.indexOf(\"-extension:/\")&&(e=3),c+=\"&script=\"+b(g),f&&g===window.location.href&&(f=document.documentElement.outerHTML.split(\"\\n\")[f],c+=\"&cad=\"+b(f?f.substring(0,300):\"No script found.\")));c+=\"&jsel=\"+e;for(var u in d)c+=\"&\",c+=b(u),c+=\"=\",c+=b(d[u]);c=c+\"&emsg=\"+b(a.name+\": \"+a.message);c=c+\"&jsst=\"+b(a.stack||\"N/A\");12288<=c.length&&(c=c.substr(0,12288));a=c;m||google.log(0,\"\",a);return a};window.onerror=function(a,b,d,m,e){r!==a&&(a=e instanceof Error?e:Error(a),void 0===d||\"lineNumber\"in a||(a.lineNumber=d),void 0===b||\"fileName\"in a||(a.fileName=b),google.ml(a,!1,void 0,!1,\"SyntaxError\"===a.name||\"SyntaxError\"===a.message.substring(0,11)||-1!==a.message.indexOf(\"Script error\")?3:0));r=null;p&&q>=l&&(window.onerror=null)};})();</script></head><body bgcolor=\"#fff\"><script nonce=\"Jo7WFU6XWWwu6NrdwaRyIw\">(function(){var src='/images/nav_logo229.png';var iesg=false;document.body.onload = function(){window.n && window.n();if (document.images){new Image().src=src;}\n",
            "if (!iesg){document.f&&document.f.q.focus();document.gbqf&&document.gbqf.q.focus();}\n",
            "}\n",
            "})();</script><div id=\"mngb\"><div id=gbar><nobr><b class=gb1>B\ufffdsqueda</b> <a class=gb1 href=\"https://www.google.es/imghp?hl=es&tab=wi\">Im\ufffdgenes</a> <a class=gb1 href=\"https://maps.google.es/maps?hl=es&tab=wl\">Maps</a> <a class=gb1 href=\"https://play.google.com/?hl=es&tab=w8\">Play</a> <a class=gb1 href=\"https://www.youtube.com/?tab=w1\">YouTube</a> <a class=gb1 href=\"https://news.google.com/?tab=wn\">Noticias</a> <a class=gb1 href=\"https://mail.google.com/mail/?tab=wm\">Gmail</a> <a class=gb1 href=\"https://drive.google.com/?tab=wo\">Drive</a> <a class=gb1 style=\"text-decoration:none\" href=\"https://www.google.es/intl/es/about/products?tab=wh\"><u>M\ufffds</u> &raquo;</a></nobr></div><div id=guser width=100%><nobr><span id=gbn class=gbi></span><span id=gbf class=gbf></span><span id=gbe></span><a href=\"http://www.google.es/history/optout?hl=es\" class=gb4>Historial web</a> | <a  href=\"/preferences?hl=es\" class=gb4>Ajustes</a> | <a target=_top id=gb_70 href=\"https://accounts.google.com/ServiceLogin?hl=es&passive=true&continue=https://www.google.com/&ec=GAZAAQ\" class=gb4>Iniciar sesi\ufffdn</a></nobr></div><div class=gbh style=left:0></div><div class=gbh style=right:0></div></div><center><br clear=\"all\" id=\"lgpd\"><div id=\"lga\"><img alt=\"Google\" height=\"92\" src=\"/images/branding/googlelogo/1x/googlelogo_white_background_color_272x92dp.png\" style=\"padding:28px 0 14px\" width=\"272\" id=\"hplogo\"><br><br></div><form action=\"/search\" name=\"f\"><table cellpadding=\"0\" cellspacing=\"0\"><tr valign=\"top\"><td width=\"25%\">&nbsp;</td><td align=\"center\" nowrap=\"\"><input name=\"ie\" value=\"ISO-8859-1\" type=\"hidden\"><input value=\"es\" name=\"hl\" type=\"hidden\"><input name=\"source\" type=\"hidden\" value=\"hp\"><input name=\"biw\" type=\"hidden\"><input name=\"bih\" type=\"hidden\"><div class=\"ds\" style=\"height:32px;margin:4px 0\"><input class=\"lst\" style=\"margin:0;padding:5px 8px 0 6px;vertical-align:top;color:#000\" autocomplete=\"off\" value=\"\" title=\"Buscar con Google\" maxlength=\"2048\" name=\"q\" size=\"57\"></div><br style=\"line-height:0\"><span class=\"ds\"><span class=\"lsbb\"><input class=\"lsb\" value=\"Buscar con Google\" name=\"btnG\" type=\"submit\"></span></span><span class=\"ds\"><span class=\"lsbb\"><input class=\"lsb\" id=\"tsuid_1\" value=\"Voy a tener suerte\" name=\"btnI\" type=\"submit\"><script nonce=\"Jo7WFU6XWWwu6NrdwaRyIw\">(function(){var id='tsuid_1';document.getElementById(id).onclick = function(){if (this.form.q.value){this.checked = 1;if (this.form.iflsig)this.form.iflsig.disabled = false;}\n",
            "else top.location='/doodles/';};})();</script><input value=\"AJiK0e8AAAAAY46fV7gpXBHCT6KAebFZAqGv1l-4BtIR\" name=\"iflsig\" type=\"hidden\"></span></span></td><td class=\"fl sblc\" align=\"left\" nowrap=\"\" width=\"25%\"><a href=\"/advanced_search?hl=es&amp;authuser=0\">B\ufffdsqueda avanzada</a></td></tr></table><input id=\"gbv\" name=\"gbv\" type=\"hidden\" value=\"1\"><script nonce=\"Jo7WFU6XWWwu6NrdwaRyIw\">(function(){var a,b=\"1\";if(document&&document.getElementById)if(\"undefined\"!=typeof XMLHttpRequest)b=\"2\";else if(\"undefined\"!=typeof ActiveXObject){var c,d,e=[\"MSXML2.XMLHTTP.6.0\",\"MSXML2.XMLHTTP.3.0\",\"MSXML2.XMLHTTP\",\"Microsoft.XMLHTTP\"];for(c=0;d=e[c++];)try{new ActiveXObject(d),b=\"2\"}catch(h){}}a=b;if(\"2\"==a&&-1==location.search.indexOf(\"&gbv=2\")){var f=google.gbvu,g=document.getElementById(\"gbv\");g&&(g.value=a);f&&window.setTimeout(function(){location.href=f},0)};}).call(this);</script></form><div id=\"gac_scont\"></div><div style=\"font-size:83%;min-height:3.5em\"><br><div id=\"gws-output-pages-elements-homepage_additional_languages__als\"><style>#gws-output-pages-elements-homepage_additional_languages__als{font-size:small;margin-bottom:24px}#SIvCob{color:#3c4043;display:inline-block;line-height:28px;}#SIvCob a{padding:0 3px;}.H6sW5{display:inline-block;margin:0 2px;white-space:nowrap}.z4hgWe{display:inline-block;margin:0 2px}</style><div id=\"SIvCob\">Ofrecido por Google en:  <a href=\"https://www.google.com/setprefs?sig=0_HljXEzVisqsnlJP1S5dx0Fao0Lw%3D&amp;hl=ca&amp;source=homepage&amp;sa=X&amp;ved=0ahUKEwiimaPC4uP7AhU3UKQEHXzFDBQQ2ZgBCAU\">catal\ufffd</a>    <a href=\"https://www.google.com/setprefs?sig=0_HljXEzVisqsnlJP1S5dx0Fao0Lw%3D&amp;hl=gl&amp;source=homepage&amp;sa=X&amp;ved=0ahUKEwiimaPC4uP7AhU3UKQEHXzFDBQQ2ZgBCAY\">galego</a>    <a href=\"https://www.google.com/setprefs?sig=0_HljXEzVisqsnlJP1S5dx0Fao0Lw%3D&amp;hl=eu&amp;source=homepage&amp;sa=X&amp;ved=0ahUKEwiimaPC4uP7AhU3UKQEHXzFDBQQ2ZgBCAc\">euskara</a>  </div></div></div><span id=\"footer\"><div style=\"font-size:10pt\"><div style=\"margin:19px auto;text-align:center\" id=\"WqQANb\"><a href=\"http://www.google.es/intl/es/services/\">Soluciones Empresariales</a><a href=\"/intl/es/about.html\">Todo acerca de Google</a><a href=\"https://www.google.com/setprefdomain?prefdom=ES&amp;prev=https://www.google.es/&amp;sig=K_8O8QHBmoai9DOT5YZxMWevJK8VI%3D\">Google.es</a></div></div><p style=\"font-size:8pt;color:#70757a\">&copy; 2022 - <a href=\"/intl/es/policies/privacy/\">Privacidad</a> - <a href=\"/intl/es/policies/terms/\">T\ufffdrminos</a></p></span></center><script nonce=\"Jo7WFU6XWWwu6NrdwaRyIw\">(function(){window.google.cdo={height:757,width:1440};(function(){var a=window.innerWidth,b=window.innerHeight;if(!a||!b){var c=window.document,d=\"CSS1Compat\"==c.compatMode?c.documentElement:c.body;a=d.clientWidth;b=d.clientHeight}a&&b&&(a!=google.cdo.width||b!=google.cdo.height)&&google.log(\"\",\"\",\"/client_204?&atyp=i&biw=\"+a+\"&bih=\"+b+\"&ei=\"+google.kEI);}).call(this);})();</script> <script nonce=\"Jo7WFU6XWWwu6NrdwaRyIw\">(function(){google.xjs={ck:'xjs.hp.oxai9SxkIQY.L.X.O',cs:'ACT90oEGh-_ImDfBjn6aD_ABGaOlD2MqVw',excm:[]};})();</script>  <script nonce=\"Jo7WFU6XWWwu6NrdwaRyIw\">(function(){var u='/xjs/_/js/k\\x3dxjs.hp.en.9b-uVUIpJU8.O/am\\x3dAADoBABQAGAB/d\\x3d1/ed\\x3d1/rs\\x3dACT90oG-6KYVksw4jxVvNcwan406xE6qVw/m\\x3dsb_he,d';var amd=0;\n",
            "var d=this||self,e=function(a){return a};var g;var l=function(a,b){this.g=b===h?a:\"\"};l.prototype.toString=function(){return this.g+\"\"};var h={};\n",
            "function m(){var a=u;google.lx=function(){p(a);google.lx=function(){}};google.bx||google.lx()}\n",
            "function p(a){google.timers&&google.timers.load&&google.tick&&google.tick(\"load\",\"xjsls\");var b=document;var c=\"SCRIPT\";\"application/xhtml+xml\"===b.contentType&&(c=c.toLowerCase());c=b.createElement(c);if(void 0===g){b=null;var k=d.trustedTypes;if(k&&k.createPolicy){try{b=k.createPolicy(\"goog#html\",{createHTML:e,createScript:e,createScriptURL:e})}catch(q){d.console&&d.console.error(q.message)}g=b}else g=b}a=(b=g)?b.createScriptURL(a):a;a=new l(a,h);c.src=a instanceof l&&a.constructor===l?a.g:\"type_error:TrustedResourceUrl\";var f,n;(f=(a=null==(n=(f=(c.ownerDocument&&c.ownerDocument.defaultView||window).document).querySelector)?void 0:n.call(f,\"script[nonce]\"))?a.nonce||a.getAttribute(\"nonce\")||\"\":\"\")&&c.setAttribute(\"nonce\",f);document.body.appendChild(c);google.psa=!0};google.xjsu=u;setTimeout(function(){0<amd?google.caft(function(){return m()},amd):m()},0);})();function _DumpException(e){throw e;}\n",
            "function _F_installCss(c){}\n",
            "(function(){google.jl={blt:'none',chnk:0,dw:false,dwu:true,emtn:0,end:0,ico:false,ikb:0,ine:false,injs:'none',injt:0,injth:0,injv2:false,lls:'default',pdt:0,rep:0,snet:true,strt:0,ubm:false,uwp:true};})();(function(){var pmc='{\\x22d\\x22:{},\\x22sb_he\\x22:{\\x22agen\\x22:true,\\x22cgen\\x22:true,\\x22client\\x22:\\x22heirloom-hp\\x22,\\x22dh\\x22:true,\\x22ds\\x22:\\x22\\x22,\\x22fl\\x22:true,\\x22host\\x22:\\x22google.com\\x22,\\x22jsonp\\x22:true,\\x22lm\\x22:true,\\x22msgs\\x22:{\\x22cibl\\x22:\\x22Borrar b\ufffdsqueda\\x22,\\x22dym\\x22:\\x22Quiz\ufffds quisiste decir:\\x22,\\x22lcky\\x22:\\x22Voy a tener suerte\\x22,\\x22lml\\x22:\\x22M\ufffds informaci\ufffdn\\x22,\\x22psrc\\x22:\\x22Esta b\ufffdsqueda se ha eliminado de tu \\\\u003Ca href\\x3d\\\\\\x22/history\\\\\\x22\\\\u003Ehistorial web\\\\u003C/a\\\\u003E.\\x22,\\x22psrl\\x22:\\x22Eliminar\\x22,\\x22sbit\\x22:\\x22Buscar por imagen\\x22,\\x22srch\\x22:\\x22Buscar con Google\\x22},\\x22ovr\\x22:{},\\x22pq\\x22:\\x22\\x22,\\x22rfs\\x22:[],\\x22sbas\\x22:\\x220 3px 8px 0 rgba(0,0,0,0.2),0 0 0 1px rgba(0,0,0,0.08)\\x22,\\x22stok\\x22:\\x22GYSMF2y7hymT0L3W0W4RPVIsSrU\\x22}}';google.pmc=JSON.parse(pmc);})();</script>        </body></html>"
          ]
        }
      ],
      "source": [
        "!cat google.html"
      ]
    },
    {
      "cell_type": "markdown",
      "metadata": {},
      "source": [
        "### Baixar arquivos com `wget`"
      ]
    },
    {
      "cell_type": "markdown",
      "metadata": {},
      "source": [
        "Outro comando parecido \u00e9 `wget`, no entanto, ao contr\u00e1rio de `curl`, `wget` baixa o arquivo diretamente"
      ]
    },
    {
      "cell_type": "code",
      "execution_count": 166,
      "metadata": {},
      "outputs": [
        {
          "name": "stdout",
          "output_type": "stream",
          "text": [
            "--2022-12-06 01:49:19--  https://www.google.com/\n",
            "Resolviendo www.google.com (www.google.com)... 142.250.200.68, 2a00:1450:4003:80c::2004\n",
            "Conectando con www.google.com (www.google.com)[142.250.200.68]:443... conectado.\n",
            "Petici\u00f3n HTTP enviada, esperando respuesta... 200 OK\n",
            "Longitud: no especificado [text/html]\n",
            "Guardando como: \u201cindex.html.1\u201d\n",
            "\n",
            "index.html.1            [ <=>                ]  14,76K  --.-KB/s    en 0,002s  \n",
            "\n",
            "2022-12-06 01:49:19 (7,17 MB/s) - \u201cindex.html.1\u201d guardado [15117]\n",
            "\n"
          ]
        }
      ],
      "source": [
        "!wget https://www.google.com"
      ]
    },
    {
      "cell_type": "code",
      "execution_count": 167,
      "metadata": {},
      "outputs": [
        {
          "name": "stdout",
          "output_type": "stream",
          "text": [
            "total 316\n",
            "-rw-rw-r-- 1 wallabot wallabot 285898 dic  6 00:28 2021-02-11-Introduccion-a-Python.ipynb\n",
            "-rw-rw-r-- 1 wallabot wallabot      0 dic  6 00:56 Abc\n",
            "-rw-rw-r-- 1 wallabot wallabot      0 dic  6 00:56 datos1\n",
            "-rw-rw-r-- 1 wallabot wallabot      0 dic  6 00:56 datos123\n",
            "-rw-rw-r-- 1 wallabot wallabot      0 dic  6 00:56 dot2.txt\n",
            "-rw-rw-r-- 1 wallabot wallabot      0 dic  6 00:56 dot.txt\n",
            "-rw-rw-r-- 1 wallabot wallabot      0 dic  6 00:56 file.txt\n",
            "-rw-rw-r-- 1 wallabot wallabot  15168 dic  6 01:48 google.html\n",
            "-rw-rw-r-- 1 wallabot wallabot      0 dic  6 00:56 index.html\n",
            "-rw-rw-r-- 1 wallabot wallabot  15117 dic  6 01:49 index.html.1\n",
            "-rw-rw-r-- 1 wallabot wallabot    182 dic  6 01:06 lista.txt\n",
            "-rw-rw-r-- 1 wallabot wallabot      0 dic  6 01:08 secuential.txt\n"
          ]
        }
      ],
      "source": [
        "!ls -l"
      ]
    },
    {
      "cell_type": "markdown",
      "metadata": {},
      "source": [
        "Vemos que o guardou como `index.html`, que \u00e9 como o Google o nomeou."
      ]
    },
    {
      "cell_type": "markdown",
      "metadata": {},
      "source": [
        "Se queremos que seja salvo com um nome espec\u00edfico, podemos usar a flag `-O`."
      ]
    },
    {
      "cell_type": "code",
      "execution_count": 168,
      "metadata": {},
      "outputs": [
        {
          "name": "stdout",
          "output_type": "stream",
          "text": [
            "--2022-12-06 01:49:37--  https://www.google.com/\n",
            "Resolviendo www.google.com (www.google.com)... 142.250.200.68, 2a00:1450:4003:80c::2004\n",
            "Conectando con www.google.com (www.google.com)[142.250.200.68]:443... conectado.\n",
            "Petici\u00f3n HTTP enviada, esperando respuesta... 200 OK\n",
            "Longitud: no especificado [text/html]\n",
            "Guardando como: \u201cgoogle2.html\u201d\n",
            "\n",
            "google2.html            [ <=>                ]  14,78K  --.-KB/s    en 0,003s  \n",
            "\n",
            "2022-12-06 01:49:37 (5,27 MB/s) - \u201cgoogle2.html\u201d guardado [15131]\n",
            "\n"
          ]
        }
      ],
      "source": [
        "!wget https://www.google.com -O google2.html"
      ]
    },
    {
      "cell_type": "code",
      "execution_count": 169,
      "metadata": {},
      "outputs": [
        {
          "name": "stdout",
          "output_type": "stream",
          "text": [
            "total 332\n",
            "-rw-rw-r-- 1 wallabot wallabot 285898 dic  6 00:28 2021-02-11-Introduccion-a-Python.ipynb\n",
            "-rw-rw-r-- 1 wallabot wallabot      0 dic  6 00:56 Abc\n",
            "-rw-rw-r-- 1 wallabot wallabot      0 dic  6 00:56 datos1\n",
            "-rw-rw-r-- 1 wallabot wallabot      0 dic  6 00:56 datos123\n",
            "-rw-rw-r-- 1 wallabot wallabot      0 dic  6 00:56 dot2.txt\n",
            "-rw-rw-r-- 1 wallabot wallabot      0 dic  6 00:56 dot.txt\n",
            "-rw-rw-r-- 1 wallabot wallabot      0 dic  6 00:56 file.txt\n",
            "-rw-rw-r-- 1 wallabot wallabot  15131 dic  6 01:49 google2.html\n",
            "-rw-rw-r-- 1 wallabot wallabot  15168 dic  6 01:48 google.html\n",
            "-rw-rw-r-- 1 wallabot wallabot      0 dic  6 00:56 index.html\n",
            "-rw-rw-r-- 1 wallabot wallabot  15117 dic  6 01:49 index.html.1\n",
            "-rw-rw-r-- 1 wallabot wallabot    182 dic  6 01:06 lista.txt\n",
            "-rw-rw-r-- 1 wallabot wallabot      0 dic  6 01:08 secuential.txt\n"
          ]
        }
      ],
      "source": [
        "!ls -l"
      ]
    },
    {
      "cell_type": "markdown",
      "metadata": {},
      "source": [
        "### Depura\u00e7\u00e3o da rota com `traceroute`"
      ]
    },
    {
      "cell_type": "markdown",
      "metadata": {},
      "source": [
        "Um comando muito \u00fatil \u00e9 ver a rota at\u00e9 um destino, para isso usamos `traceroute`, por exemplo, vamos ver todos os sites pelos quais tenho que passar para me conectar ao Google"
      ]
    },
    {
      "cell_type": "code",
      "execution_count": 170,
      "metadata": {},
      "outputs": [
        {
          "name": "stdout",
          "output_type": "stream",
          "text": [
            "traceroute to www.google.com (142.250.200.68), 64 hops max\n",
            "  1   192.168.1.1  0,435ms  0,154ms  0,133ms \n",
            "  2   188.127.176.1  3,979ms  2,914ms  3,397ms \n",
            "  3   10.15.0.77  3,600ms  3,914ms  2,669ms \n",
            "  4   10.15.246.6  3,567ms  3,713ms  2,926ms \n",
            "  5   *  *  * \n",
            "  6   72.14.209.84  3,981ms  2,914ms  2,993ms \n",
            "  7   *  *  * \n",
            "  8   142.251.54.148  3,856ms  2,916ms  2,905ms \n",
            "  9   142.250.200.68  2,908ms  2,949ms  3,037ms \n"
          ]
        }
      ],
      "source": [
        "!traceroute www.google.com"
      ]
    },
    {
      "cell_type": "markdown",
      "metadata": {},
      "source": [
        "### Depura\u00e7\u00e3o da rota com `mtr`"
      ]
    },
    {
      "cell_type": "markdown",
      "metadata": {},
      "source": [
        "Outra ferramenta de depura\u00e7\u00e3o \u00e9 o `mtr`, que \u00e9 uma vers\u00e3o aprimorada do `traceroute`. Oferece informa\u00e7\u00f5es de cada salto, como o tempo de resposta, a porcentagem de pacotes perdidos, etc."
      ]
    },
    {
      "cell_type": "code",
      "execution_count": 9,
      "metadata": {},
      "outputs": [
        {
          "name": "stdout",
          "output_type": "stream",
          "text": [
            "wallabot (192.168.178.144)\n",
            "Keys:  Help   Display mode   Restart statistics   Order of fields   quit\n",
            "                                                                              Packets               Pings\n",
            " Host                                                                       Loss%   Snt   Last   Avg  Best  Wrst StDev\n",
            " 1. 192.168.178.1                                                            0.0%   345    0.3   0.3   0.3   0.3   0.0\n",
            " 2. 192.168.0.1                                                              0.0%   344    0.8   1.1   1.1   1.1   0.0\n",
            " 3. (waiting for reply)\n",
            " 4. 10.183.52.41                                                             0.0%   344    2.8   2.5   2.5   2.5   0.0\n",
            " 5. 172.29.0.161                                                            47.7%   344    2.3   3.1   3.1  23.1   0.0\n",
            " 6. (waiting for reply)\n",
            " 7. 193.149.1.97                                                             0.0%   344    3.6   3.6   3.6  38.6   0.0\n",
            " 8. (waiting for reply)\n",
            " 9. 185.125.78.197                                                           2.9%   344    6.9   6.9   6.9   6.9   0.0\n"
          ]
        }
      ],
      "source": [
        "!mtr -n maximofn.com"
      ]
    },
    {
      "cell_type": "markdown",
      "metadata": {},
      "source": [
        "Como pode ver no salto 5, perde-se quase 50% dos pacotes, por isso serviria para eu ligar para a minha companhia de telefone e pedir que tentem me encaminhar por outro lado."
      ]
    },
    {
      "cell_type": "markdown",
      "metadata": {},
      "source": [
        "### Nome da nossa m\u00e1quina com `hostname`"
      ]
    },
    {
      "cell_type": "markdown",
      "metadata": {},
      "source": [
        "Se quisermos saber o nome do nosso computador podemos usar `hostname`, o que \u00e9 \u00fatil se quisermos nos conectar \u00e0 nossa m\u00e1quina a partir de outra."
      ]
    },
    {
      "cell_type": "code",
      "execution_count": 171,
      "metadata": {},
      "outputs": [
        {
          "name": "stdout",
          "output_type": "stream",
          "text": [
            "wallabot\n"
          ]
        }
      ],
      "source": [
        "!hostname"
      ]
    },
    {
      "cell_type": "markdown",
      "metadata": {},
      "source": [
        "### Informa\u00e7\u00f5es de link de gateway padr\u00e3o com `route -n`"
      ]
    },
    {
      "cell_type": "markdown",
      "metadata": {},
      "source": [
        "Se queremos conhecer nosso gateway padr\u00e3o, usamos o comando `route -n`"
      ]
    },
    {
      "cell_type": "code",
      "execution_count": 172,
      "metadata": {},
      "outputs": [
        {
          "name": "stdout",
          "output_type": "stream",
          "text": [
            "Tabla de rutas IP del n\u00facleo\n",
            "Destino         Pasarela        Genmask         Indic M\u00e9tric Ref    Uso Interfaz\n",
            "0.0.0.0         192.168.1.1     0.0.0.0         UG    100    0        0 enp6s0\n",
            "169.254.0.0     0.0.0.0         255.255.0.0     U     1000   0        0 enp6s0\n",
            "172.17.0.0      0.0.0.0         255.255.0.0     U     0      0        0 docker0\n",
            "172.18.0.0      0.0.0.0         255.255.0.0     U     0      0        0 br-470e52ae2708\n",
            "192.168.1.0     0.0.0.0         255.255.255.0   U     100    0        0 enp6s0\n"
          ]
        }
      ],
      "source": [
        "!route -n"
      ]
    },
    {
      "cell_type": "markdown",
      "metadata": {},
      "source": [
        "### Informa\u00e7\u00f5es de IP de um dom\u00ednio com `nslookup`"
      ]
    },
    {
      "cell_type": "markdown",
      "metadata": {},
      "source": [
        "Se queremos saber o IP de algum dom\u00ednio, podemos saber mediante o comando `nslookup`"
      ]
    },
    {
      "cell_type": "code",
      "execution_count": 173,
      "metadata": {},
      "outputs": [
        {
          "name": "stdout",
          "output_type": "stream",
          "text": [
            "Server:\t\t127.0.0.53\n",
            "Address:\t127.0.0.53#53\n",
            "\n",
            "Non-authoritative answer:\n",
            "Name:\tgoogle.com\n",
            "Address: 142.250.185.14\n",
            "Name:\tgoogle.com\n",
            "Address: 2a00:1450:4003:808::200e\n",
            "\n"
          ]
        }
      ],
      "source": [
        "!nslookup google.com"
      ]
    },
    {
      "cell_type": "markdown",
      "metadata": {},
      "source": [
        "Isso nos diz que o IPv4 do Google \u00e9 172.217.168.174 e o seu IPv6 \u00e9 2a00:1450:4003:803::200e"
      ]
    },
    {
      "cell_type": "markdown",
      "metadata": {},
      "source": [
        "### Informa\u00e7\u00f5es da nossa rede com `netstats`"
      ]
    },
    {
      "cell_type": "markdown",
      "metadata": {},
      "source": [
        "O \u00faltimo comando de utilidade \u00e9 `netstats`, este comando nos d\u00e1 o estado da nossa rede, al\u00e9m disso, com a flag `-i`, nos retorna nossas interfaces de rede."
      ]
    },
    {
      "cell_type": "code",
      "execution_count": 174,
      "metadata": {},
      "outputs": [
        {
          "name": "stdout",
          "output_type": "stream",
          "text": [
            "Tabla de la interfaz del n\u00facleo\n",
            "Iface      MTU    RX-OK RX-ERR RX-DRP RX-OVR    TX-OK TX-ERR TX-DRP TX-OVR Flg\n",
            "br-470e5  1500        0      0      0 0             0      0      0      0 BMU\n",
            "docker0   1500        0      0      0 0             0      0      0      0 BMU\n",
            "enp6s0    1500   148385      0   2182 0        106135      0      0      0 BMRU\n",
            "lo       65536    11674      0      0 0         11674      0      0      0 LRU\n",
            "wlp5s0    1500        0      0      0 0             0      0      0      0 BMU\n"
          ]
        }
      ],
      "source": [
        "!netstat -i"
      ]
    },
    {
      "cell_type": "markdown",
      "metadata": {},
      "source": [
        "### Consultas DNS com `dig`"
      ]
    },
    {
      "cell_type": "markdown",
      "metadata": {},
      "source": [
        "Com o comando `dig <dom\u00ednio>` podemos fazer consultas DNS, por exemplo, vamos fazer uma consulta ao Google"
      ]
    },
    {
      "cell_type": "code",
      "execution_count": 3,
      "metadata": {},
      "outputs": [
        {
          "name": "stdout",
          "output_type": "stream",
          "text": [
            "\n",
            "; <<>> DiG 9.16.1-Ubuntu <<>> google.com\n",
            ";; global options: +cmd\n",
            ";; Got answer:\n",
            ";; ->>HEADER<<- opcode: QUERY, status: NOERROR, id: 20527\n",
            ";; flags: qr rd ra; QUERY: 1, ANSWER: 1, AUTHORITY: 0, ADDITIONAL: 1\n",
            "\n",
            ";; OPT PSEUDOSECTION:\n",
            "; EDNS: version: 0, flags:; udp: 65494\n",
            ";; QUESTION SECTION:\n",
            ";google.com.\t\t\tIN\tA\n",
            "\n",
            ";; ANSWER SECTION:\n",
            "google.com.\t\t283\tIN\tA\t142.250.184.14\n",
            "\n",
            ";; Query time: 8 msec\n",
            ";; SERVER: 127.0.0.53#53(127.0.0.53)\n",
            ";; WHEN: dom sep 24 01:32:07 CEST 2023\n",
            ";; MSG SIZE  rcvd: 55\n",
            "\n"
          ]
        }
      ],
      "source": [
        "!dig google.com"
      ]
    },
    {
      "cell_type": "markdown",
      "metadata": {},
      "source": [
        "Pode-se ver",
        "\n",
        "``` bash\n```",
        ";; SE\u00c7\u00c3O DE RESPOSTA:",
        "google.com.\t\t283\tIN\tA\t142.250.184.14",
        "",
        "\n",
        "Portanto, a consulta nos forneceu o IP do Google."
      ]
    },
    {
      "cell_type": "markdown",
      "metadata": {},
      "source": [
        "Podemos fazer a consulta a um servidor DNS em particular com `dig @<servidor DNS> <dom\u00ednio>`"
      ]
    },
    {
      "cell_type": "code",
      "execution_count": 4,
      "metadata": {},
      "outputs": [
        {
          "name": "stdout",
          "output_type": "stream",
          "text": [
            "\n",
            "; <<>> DiG 9.16.1-Ubuntu <<>> @1.1.1.1 google.com\n",
            "; (1 server found)\n",
            ";; global options: +cmd\n",
            ";; Got answer:\n",
            ";; ->>HEADER<<- opcode: QUERY, status: NOERROR, id: 15633\n",
            ";; flags: qr rd ra; QUERY: 1, ANSWER: 1, AUTHORITY: 0, ADDITIONAL: 0\n",
            "\n",
            ";; QUESTION SECTION:\n",
            ";google.com.\t\t\tIN\tA\n",
            "\n",
            ";; ANSWER SECTION:\n",
            "google.com.\t\t190\tIN\tA\t142.250.184.14\n",
            "\n",
            ";; Query time: 8 msec\n",
            ";; SERVER: 1.1.1.1#53(1.1.1.1)\n",
            ";; WHEN: dom sep 24 01:33:40 CEST 2023\n",
            ";; MSG SIZE  rcvd: 44\n",
            "\n"
          ]
        }
      ],
      "source": [
        "!dig @1.1.1.1 google.com"
      ]
    },
    {
      "cell_type": "markdown",
      "metadata": {},
      "source": [
        "Fizemos a mesma consulta, mas a fizemos ao DNS da Cloudflare"
      ]
    },
    {
      "cell_type": "markdown",
      "metadata": {},
      "source": [
        "## Compactando arquivos"
      ]
    },
    {
      "cell_type": "markdown",
      "metadata": {},
      "source": [
        "Antes de comprimir e descomprimir vamos ver o que vamos comprimir, primeiro imprimimos nosso caminho e listamos os arquivos."
      ]
    },
    {
      "cell_type": "code",
      "execution_count": 175,
      "metadata": {},
      "outputs": [
        {
          "name": "stdout",
          "output_type": "stream",
          "text": [
            "/home/wallabot/Documentos/web/portafolio/posts/prueba\n",
            "total 332\n",
            "-rw-rw-r-- 1 wallabot wallabot 285898 dic  6 00:28 2021-02-11-Introduccion-a-Python.ipynb\n",
            "-rw-rw-r-- 1 wallabot wallabot      0 dic  6 00:56 Abc\n",
            "-rw-rw-r-- 1 wallabot wallabot      0 dic  6 00:56 datos1\n",
            "-rw-rw-r-- 1 wallabot wallabot      0 dic  6 00:56 datos123\n",
            "-rw-rw-r-- 1 wallabot wallabot      0 dic  6 00:56 dot2.txt\n",
            "-rw-rw-r-- 1 wallabot wallabot      0 dic  6 00:56 dot.txt\n",
            "-rw-rw-r-- 1 wallabot wallabot      0 dic  6 00:56 file.txt\n",
            "-rw-rw-r-- 1 wallabot wallabot  15131 dic  6 01:49 google2.html\n",
            "-rw-rw-r-- 1 wallabot wallabot  15168 dic  6 01:48 google.html\n",
            "-rw-rw-r-- 1 wallabot wallabot      0 dic  6 00:56 index.html\n",
            "-rw-rw-r-- 1 wallabot wallabot  15117 dic  6 01:49 index.html.1\n",
            "-rw-rw-r-- 1 wallabot wallabot    182 dic  6 01:06 lista.txt\n",
            "-rw-rw-r-- 1 wallabot wallabot      0 dic  6 01:08 secuential.txt\n"
          ]
        }
      ],
      "source": [
        "!pwd; ls -l"
      ]
    },
    {
      "cell_type": "markdown",
      "metadata": {},
      "source": [
        "Vamos criar uma nova pasta e copiar tudo o que est\u00e1 dentro da pasta atual para ela"
      ]
    },
    {
      "cell_type": "code",
      "execution_count": 176,
      "metadata": {},
      "outputs": [
        {
          "name": "stdout",
          "output_type": "stream",
          "text": [
            "cp: -r not specified; omitting directory 'tocompress'\n",
            "total 336\n",
            "-rw-rw-r-- 1 wallabot wallabot 285898 dic  6 00:28 2021-02-11-Introduccion-a-Python.ipynb\n",
            "-rw-rw-r-- 1 wallabot wallabot      0 dic  6 00:56 Abc\n",
            "-rw-rw-r-- 1 wallabot wallabot      0 dic  6 00:56 datos1\n",
            "-rw-rw-r-- 1 wallabot wallabot      0 dic  6 00:56 datos123\n",
            "-rw-rw-r-- 1 wallabot wallabot      0 dic  6 00:56 dot2.txt\n",
            "-rw-rw-r-- 1 wallabot wallabot      0 dic  6 00:56 dot.txt\n",
            "-rw-rw-r-- 1 wallabot wallabot      0 dic  6 00:56 file.txt\n",
            "-rw-rw-r-- 1 wallabot wallabot  15131 dic  6 01:49 google2.html\n",
            "-rw-rw-r-- 1 wallabot wallabot  15168 dic  6 01:48 google.html\n",
            "-rw-rw-r-- 1 wallabot wallabot      0 dic  6 00:56 index.html\n",
            "-rw-rw-r-- 1 wallabot wallabot  15117 dic  6 01:49 index.html.1\n",
            "-rw-rw-r-- 1 wallabot wallabot    182 dic  6 01:06 lista.txt\n",
            "-rw-rw-r-- 1 wallabot wallabot      0 dic  6 01:08 secuential.txt\n",
            "drwxrwxr-x 2 wallabot wallabot   4096 dic  6 01:52 tocompress\n"
          ]
        }
      ],
      "source": [
        "!mkdir tocompress; cp * tocompress; ls -l"
      ]
    },
    {
      "cell_type": "markdown",
      "metadata": {},
      "source": [
        "Como vemos, foi copiado tudo, exceto a pr\u00f3pria pasta `tocompress`, j\u00e1 que n\u00e3o colocamos o flag `-r` no comando `cp`. Mas o que aconteceu \u00e9 o que quer\u00edamos."
      ]
    },
    {
      "cell_type": "markdown",
      "metadata": {},
      "source": [
        "### Compactar com `tar`"
      ]
    },
    {
      "cell_type": "markdown",
      "metadata": {},
      "source": [
        "O primeiro comando que vamos usar para comprimir \u00e9 `tar` ao qual vamos adicionar o flag `-c` de compress, `-v` de verbose, para que nos mostre o que est\u00e1 fazendo, e o flag `-f` de file, seguido pelo nome que queremos que o arquivo comprimido tenha e o nome do arquivo que queremos comprimir."
      ]
    },
    {
      "cell_type": "code",
      "execution_count": 177,
      "metadata": {},
      "outputs": [
        {
          "name": "stdout",
          "output_type": "stream",
          "text": [
            "tocompress/\n",
            "tocompress/lista.txt\n",
            "tocompress/dot.txt\n",
            "tocompress/google.html\n",
            "tocompress/index.html\n",
            "tocompress/Abc\n",
            "tocompress/google2.html\n",
            "tocompress/dot2.txt\n",
            "tocompress/secuential.txt\n",
            "tocompress/index.html.1\n",
            "tocompress/file.txt\n",
            "tocompress/datos1\n",
            "tocompress/2021-02-11-Introduccion-a-Python.ipynb\n",
            "tocompress/datos123\n"
          ]
        }
      ],
      "source": [
        "!tar -cvf tocompress.tar tocompress"
      ]
    },
    {
      "cell_type": "code",
      "execution_count": 178,
      "metadata": {},
      "outputs": [
        {
          "name": "stdout",
          "output_type": "stream",
          "text": [
            "total 676\n",
            "-rw-rw-r-- 1 wallabot wallabot 285898 dic  6 00:28 2021-02-11-Introduccion-a-Python.ipynb\n",
            "-rw-rw-r-- 1 wallabot wallabot      0 dic  6 00:56 Abc\n",
            "-rw-rw-r-- 1 wallabot wallabot      0 dic  6 00:56 datos1\n",
            "-rw-rw-r-- 1 wallabot wallabot      0 dic  6 00:56 datos123\n",
            "-rw-rw-r-- 1 wallabot wallabot      0 dic  6 00:56 dot2.txt\n",
            "-rw-rw-r-- 1 wallabot wallabot      0 dic  6 00:56 dot.txt\n",
            "-rw-rw-r-- 1 wallabot wallabot      0 dic  6 00:56 file.txt\n",
            "-rw-rw-r-- 1 wallabot wallabot  15131 dic  6 01:49 google2.html\n",
            "-rw-rw-r-- 1 wallabot wallabot  15168 dic  6 01:48 google.html\n",
            "-rw-rw-r-- 1 wallabot wallabot      0 dic  6 00:56 index.html\n",
            "-rw-rw-r-- 1 wallabot wallabot  15117 dic  6 01:49 index.html.1\n",
            "-rw-rw-r-- 1 wallabot wallabot    182 dic  6 01:06 lista.txt\n",
            "-rw-rw-r-- 1 wallabot wallabot      0 dic  6 01:08 secuential.txt\n",
            "drwxrwxr-x 2 wallabot wallabot   4096 dic  6 01:52 tocompress\n",
            "-rw-rw-r-- 1 wallabot wallabot 348160 dic  6 01:53 tocompress.tar\n"
          ]
        }
      ],
      "source": [
        "!ls -l"
      ]
    },
    {
      "cell_type": "markdown",
      "metadata": {},
      "source": [
        "Vemos que criou o arquivo `tocompress.tar`"
      ]
    },
    {
      "cell_type": "markdown",
      "metadata": {},
      "source": [
        "Agora vamos repetir o processo, mas adicionando o flag `-z`, isto o que faz \u00e9 comprimir no formato `gzip`, que \u00e9 um algoritmo de compress\u00e3o mais eficiente"
      ]
    },
    {
      "cell_type": "code",
      "execution_count": 179,
      "metadata": {},
      "outputs": [
        {
          "name": "stdout",
          "output_type": "stream",
          "text": [
            "tocompress/\n",
            "tocompress/lista.txt\n",
            "tocompress/dot.txt\n",
            "tocompress/google.html\n",
            "tocompress/index.html\n",
            "tocompress/Abc\n",
            "tocompress/google2.html\n",
            "tocompress/dot2.txt\n",
            "tocompress/secuential.txt\n",
            "tocompress/index.html.1\n",
            "tocompress/file.txt\n",
            "tocompress/datos1\n",
            "tocompress/2021-02-11-Introduccion-a-Python.ipynb\n",
            "tocompress/datos123\n"
          ]
        }
      ],
      "source": [
        "!tar -cvzf tocompress.tar.gz tocompress"
      ]
    },
    {
      "cell_type": "code",
      "execution_count": 180,
      "metadata": {},
      "outputs": [
        {
          "name": "stdout",
          "output_type": "stream",
          "text": [
            "total 728K\n",
            "-rw-rw-r-- 1 wallabot wallabot 280K dic  6 00:28 2021-02-11-Introduccion-a-Python.ipynb\n",
            "-rw-rw-r-- 1 wallabot wallabot    0 dic  6 00:56 Abc\n",
            "-rw-rw-r-- 1 wallabot wallabot    0 dic  6 00:56 datos1\n",
            "-rw-rw-r-- 1 wallabot wallabot    0 dic  6 00:56 datos123\n",
            "-rw-rw-r-- 1 wallabot wallabot    0 dic  6 00:56 dot2.txt\n",
            "-rw-rw-r-- 1 wallabot wallabot    0 dic  6 00:56 dot.txt\n",
            "-rw-rw-r-- 1 wallabot wallabot    0 dic  6 00:56 file.txt\n",
            "-rw-rw-r-- 1 wallabot wallabot  15K dic  6 01:49 google2.html\n",
            "-rw-rw-r-- 1 wallabot wallabot  15K dic  6 01:48 google.html\n",
            "-rw-rw-r-- 1 wallabot wallabot    0 dic  6 00:56 index.html\n",
            "-rw-rw-r-- 1 wallabot wallabot  15K dic  6 01:49 index.html.1\n",
            "-rw-rw-r-- 1 wallabot wallabot  182 dic  6 01:06 lista.txt\n",
            "-rw-rw-r-- 1 wallabot wallabot    0 dic  6 01:08 secuential.txt\n",
            "drwxrwxr-x 2 wallabot wallabot 4,0K dic  6 01:52 tocompress\n",
            "-rw-rw-r-- 1 wallabot wallabot 340K dic  6 01:53 tocompress.tar\n",
            "-rw-rw-r-- 1 wallabot wallabot  52K dic  6 01:53 tocompress.tar.gz\n"
          ]
        }
      ],
      "source": [
        "!ls -lh"
      ]
    },
    {
      "cell_type": "markdown",
      "metadata": {},
      "source": [
        "Como se pode ver, o arquivo `tocompress.tar` ocupa `340 kB`, enquanto o arquivo `tocompress.tar.gz` ocupa apenas `52 kB`"
      ]
    },
    {
      "cell_type": "markdown",
      "metadata": {},
      "source": [
        "Agora vamos descomprimir os arquivos, para descomprimir, usa-se o mesmo comando, s\u00f3 que trocando a flag `-c` pela flag `-x`"
      ]
    },
    {
      "cell_type": "markdown",
      "metadata": {},
      "source": [
        "Primeiro, deletamos a pasta original"
      ]
    },
    {
      "cell_type": "code",
      "execution_count": 181,
      "metadata": {},
      "outputs": [],
      "source": [
        "!rm -r tocompress"
      ]
    },
    {
      "cell_type": "markdown",
      "metadata": {},
      "source": [
        "Descompactamos"
      ]
    },
    {
      "cell_type": "code",
      "execution_count": 182,
      "metadata": {},
      "outputs": [
        {
          "name": "stdout",
          "output_type": "stream",
          "text": [
            "tocompress/\n",
            "tocompress/lista.txt\n",
            "tocompress/dot.txt\n",
            "tocompress/google.html\n",
            "tocompress/index.html\n",
            "tocompress/Abc\n",
            "tocompress/google2.html\n",
            "tocompress/dot2.txt\n",
            "tocompress/secuential.txt\n",
            "tocompress/index.html.1\n",
            "tocompress/file.txt\n",
            "tocompress/datos1\n",
            "tocompress/2021-02-11-Introduccion-a-Python.ipynb\n",
            "tocompress/datos123\n"
          ]
        }
      ],
      "source": [
        "!tar -xvf tocompress.tar"
      ]
    },
    {
      "cell_type": "code",
      "execution_count": 183,
      "metadata": {},
      "outputs": [
        {
          "name": "stdout",
          "output_type": "stream",
          "text": [
            "total 728K\n",
            "-rw-rw-r-- 1 wallabot wallabot 280K dic  6 00:28 2021-02-11-Introduccion-a-Python.ipynb\n",
            "-rw-rw-r-- 1 wallabot wallabot    0 dic  6 00:56 Abc\n",
            "-rw-rw-r-- 1 wallabot wallabot    0 dic  6 00:56 datos1\n",
            "-rw-rw-r-- 1 wallabot wallabot    0 dic  6 00:56 datos123\n",
            "-rw-rw-r-- 1 wallabot wallabot    0 dic  6 00:56 dot2.txt\n",
            "-rw-rw-r-- 1 wallabot wallabot    0 dic  6 00:56 dot.txt\n",
            "-rw-rw-r-- 1 wallabot wallabot    0 dic  6 00:56 file.txt\n",
            "-rw-rw-r-- 1 wallabot wallabot  15K dic  6 01:49 google2.html\n",
            "-rw-rw-r-- 1 wallabot wallabot  15K dic  6 01:48 google.html\n",
            "-rw-rw-r-- 1 wallabot wallabot    0 dic  6 00:56 index.html\n",
            "-rw-rw-r-- 1 wallabot wallabot  15K dic  6 01:49 index.html.1\n",
            "-rw-rw-r-- 1 wallabot wallabot  182 dic  6 01:06 lista.txt\n",
            "-rw-rw-r-- 1 wallabot wallabot    0 dic  6 01:08 secuential.txt\n",
            "drwxrwxr-x 2 wallabot wallabot 4,0K dic  6 01:52 tocompress\n",
            "-rw-rw-r-- 1 wallabot wallabot 340K dic  6 01:53 tocompress.tar\n",
            "-rw-rw-r-- 1 wallabot wallabot  52K dic  6 01:53 tocompress.tar.gz\n"
          ]
        }
      ],
      "source": [
        "!ls -lh"
      ]
    },
    {
      "cell_type": "markdown",
      "metadata": {},
      "source": [
        "Fazemos o mesmo com o `gzip`"
      ]
    },
    {
      "cell_type": "code",
      "execution_count": 184,
      "metadata": {},
      "outputs": [],
      "source": [
        "!rm -r tocompress"
      ]
    },
    {
      "cell_type": "code",
      "execution_count": 185,
      "metadata": {},
      "outputs": [
        {
          "name": "stdout",
          "output_type": "stream",
          "text": [
            "tocompress/\n",
            "tocompress/lista.txt\n",
            "tocompress/dot.txt\n",
            "tocompress/google.html\n",
            "tocompress/index.html\n",
            "tocompress/Abc\n",
            "tocompress/google2.html\n",
            "tocompress/dot2.txt\n",
            "tocompress/secuential.txt\n",
            "tocompress/index.html.1\n",
            "tocompress/file.txt\n",
            "tocompress/datos1\n",
            "tocompress/2021-02-11-Introduccion-a-Python.ipynb\n",
            "tocompress/datos123\n"
          ]
        }
      ],
      "source": [
        "!tar -xvzf tocompress.tar.gz"
      ]
    },
    {
      "cell_type": "code",
      "execution_count": 186,
      "metadata": {},
      "outputs": [
        {
          "name": "stdout",
          "output_type": "stream",
          "text": [
            "total 728K\n",
            "-rw-rw-r-- 1 wallabot wallabot 280K dic  6 00:28 2021-02-11-Introduccion-a-Python.ipynb\n",
            "-rw-rw-r-- 1 wallabot wallabot    0 dic  6 00:56 Abc\n",
            "-rw-rw-r-- 1 wallabot wallabot    0 dic  6 00:56 datos1\n",
            "-rw-rw-r-- 1 wallabot wallabot    0 dic  6 00:56 datos123\n",
            "-rw-rw-r-- 1 wallabot wallabot    0 dic  6 00:56 dot2.txt\n",
            "-rw-rw-r-- 1 wallabot wallabot    0 dic  6 00:56 dot.txt\n",
            "-rw-rw-r-- 1 wallabot wallabot    0 dic  6 00:56 file.txt\n",
            "-rw-rw-r-- 1 wallabot wallabot  15K dic  6 01:49 google2.html\n",
            "-rw-rw-r-- 1 wallabot wallabot  15K dic  6 01:48 google.html\n",
            "-rw-rw-r-- 1 wallabot wallabot    0 dic  6 00:56 index.html\n",
            "-rw-rw-r-- 1 wallabot wallabot  15K dic  6 01:49 index.html.1\n",
            "-rw-rw-r-- 1 wallabot wallabot  182 dic  6 01:06 lista.txt\n",
            "-rw-rw-r-- 1 wallabot wallabot    0 dic  6 01:08 secuential.txt\n",
            "drwxrwxr-x 2 wallabot wallabot 4,0K dic  6 01:52 tocompress\n",
            "-rw-rw-r-- 1 wallabot wallabot 340K dic  6 01:53 tocompress.tar\n",
            "-rw-rw-r-- 1 wallabot wallabot  52K dic  6 01:53 tocompress.tar.gz\n"
          ]
        }
      ],
      "source": [
        "!ls -lh"
      ]
    },
    {
      "cell_type": "markdown",
      "metadata": {},
      "source": [
        "### Compactar com `zip`"
      ]
    },
    {
      "cell_type": "markdown",
      "metadata": {},
      "source": [
        "Outro comando para comprimir \u00e9 o `zip`, para comprimir basta adicionar a flag `-r` (recursivo), o nome que queremos dar ao arquivo comprimido e o arquivo que queremos comprimir"
      ]
    },
    {
      "cell_type": "code",
      "execution_count": 187,
      "metadata": {},
      "outputs": [
        {
          "name": "stdout",
          "output_type": "stream",
          "text": [
            "  adding: tocompress/ (stored 0%)\n",
            "  adding: tocompress/lista.txt (deflated 23%)\n",
            "  adding: tocompress/dot.txt (stored 0%)\n",
            "  adding: tocompress/google.html (deflated 56%)\n",
            "  adding: tocompress/index.html (stored 0%)\n",
            "  adding: tocompress/Abc (stored 0%)\n",
            "  adding: tocompress/google2.html (deflated 56%)\n",
            "  adding: tocompress/dot2.txt (stored 0%)\n",
            "  adding: tocompress/secuential.txt (stored 0%)\n",
            "  adding: tocompress/index.html.1 (deflated 56%)\n",
            "  adding: tocompress/file.txt (stored 0%)\n",
            "  adding: tocompress/datos1 (stored 0%)\n",
            "  adding: tocompress/2021-02-11-Introduccion-a-Python.ipynb (deflated 85%)\n",
            "  adding: tocompress/datos123 (stored 0%)\n"
          ]
        }
      ],
      "source": [
        "!zip -r tocompress.zip tocompress"
      ]
    },
    {
      "cell_type": "code",
      "execution_count": 188,
      "metadata": {},
      "outputs": [
        {
          "name": "stdout",
          "output_type": "stream",
          "text": [
            "total 792K\n",
            "-rw-rw-r-- 1 wallabot wallabot 280K dic  6 00:28 2021-02-11-Introduccion-a-Python.ipynb\n",
            "-rw-rw-r-- 1 wallabot wallabot    0 dic  6 00:56 Abc\n",
            "-rw-rw-r-- 1 wallabot wallabot    0 dic  6 00:56 datos1\n",
            "-rw-rw-r-- 1 wallabot wallabot    0 dic  6 00:56 datos123\n",
            "-rw-rw-r-- 1 wallabot wallabot    0 dic  6 00:56 dot2.txt\n",
            "-rw-rw-r-- 1 wallabot wallabot    0 dic  6 00:56 dot.txt\n",
            "-rw-rw-r-- 1 wallabot wallabot    0 dic  6 00:56 file.txt\n",
            "-rw-rw-r-- 1 wallabot wallabot  15K dic  6 01:49 google2.html\n",
            "-rw-rw-r-- 1 wallabot wallabot  15K dic  6 01:48 google.html\n",
            "-rw-rw-r-- 1 wallabot wallabot    0 dic  6 00:56 index.html\n",
            "-rw-rw-r-- 1 wallabot wallabot  15K dic  6 01:49 index.html.1\n",
            "-rw-rw-r-- 1 wallabot wallabot  182 dic  6 01:06 lista.txt\n",
            "-rw-rw-r-- 1 wallabot wallabot    0 dic  6 01:08 secuential.txt\n",
            "drwxrwxr-x 2 wallabot wallabot 4,0K dic  6 01:52 tocompress\n",
            "-rw-rw-r-- 1 wallabot wallabot 340K dic  6 01:53 tocompress.tar\n",
            "-rw-rw-r-- 1 wallabot wallabot  52K dic  6 01:53 tocompress.tar.gz\n",
            "-rw-rw-r-- 1 wallabot wallabot  64K dic  6 01:53 tocompress.zip\n"
          ]
        }
      ],
      "source": [
        "!ls -lh"
      ]
    },
    {
      "cell_type": "markdown",
      "metadata": {},
      "source": [
        "Para descomprimir usa-se o comando `unzip` seguido do nome do arquivo que deseja descomprimir. Primeiro, apagamos a pasta `tocompress`"
      ]
    },
    {
      "cell_type": "code",
      "execution_count": 189,
      "metadata": {},
      "outputs": [],
      "source": [
        "!rm -r tocompress"
      ]
    },
    {
      "cell_type": "code",
      "execution_count": 190,
      "metadata": {},
      "outputs": [
        {
          "name": "stdout",
          "output_type": "stream",
          "text": [
            "Archive:  tocompress.zip\n",
            "   creating: tocompress/\n",
            "  inflating: tocompress/lista.txt    \n",
            " extracting: tocompress/dot.txt      \n",
            "  inflating: tocompress/google.html  \n",
            " extracting: tocompress/index.html   \n",
            " extracting: tocompress/Abc          \n",
            "  inflating: tocompress/google2.html  \n",
            " extracting: tocompress/dot2.txt     \n",
            " extracting: tocompress/secuential.txt  \n",
            "  inflating: tocompress/index.html.1  \n",
            " extracting: tocompress/file.txt     \n",
            " extracting: tocompress/datos1       \n",
            "  inflating: tocompress/2021-02-11-Introduccion-a-Python.ipynb  \n",
            " extracting: tocompress/datos123     \n"
          ]
        }
      ],
      "source": [
        "!unzip tocompress.zip"
      ]
    },
    {
      "cell_type": "code",
      "execution_count": 191,
      "metadata": {},
      "outputs": [
        {
          "name": "stdout",
          "output_type": "stream",
          "text": [
            "total 792K\n",
            "-rw-rw-r-- 1 wallabot wallabot 280K dic  6 00:28 2021-02-11-Introduccion-a-Python.ipynb\n",
            "-rw-rw-r-- 1 wallabot wallabot    0 dic  6 00:56 Abc\n",
            "-rw-rw-r-- 1 wallabot wallabot    0 dic  6 00:56 datos1\n",
            "-rw-rw-r-- 1 wallabot wallabot    0 dic  6 00:56 datos123\n",
            "-rw-rw-r-- 1 wallabot wallabot    0 dic  6 00:56 dot2.txt\n",
            "-rw-rw-r-- 1 wallabot wallabot    0 dic  6 00:56 dot.txt\n",
            "-rw-rw-r-- 1 wallabot wallabot    0 dic  6 00:56 file.txt\n",
            "-rw-rw-r-- 1 wallabot wallabot  15K dic  6 01:49 google2.html\n",
            "-rw-rw-r-- 1 wallabot wallabot  15K dic  6 01:48 google.html\n",
            "-rw-rw-r-- 1 wallabot wallabot    0 dic  6 00:56 index.html\n",
            "-rw-rw-r-- 1 wallabot wallabot  15K dic  6 01:49 index.html.1\n",
            "-rw-rw-r-- 1 wallabot wallabot  182 dic  6 01:06 lista.txt\n",
            "-rw-rw-r-- 1 wallabot wallabot    0 dic  6 01:08 secuential.txt\n",
            "drwxrwxr-x 2 wallabot wallabot 4,0K dic  6 01:52 tocompress\n",
            "-rw-rw-r-- 1 wallabot wallabot 340K dic  6 01:53 tocompress.tar\n",
            "-rw-rw-r-- 1 wallabot wallabot  52K dic  6 01:53 tocompress.tar.gz\n",
            "-rw-rw-r-- 1 wallabot wallabot  64K dic  6 01:53 tocompress.zip\n"
          ]
        }
      ],
      "source": [
        "!ls -lh"
      ]
    },
    {
      "cell_type": "markdown",
      "metadata": {},
      "source": [
        "## Processos em background e foreground"
      ]
    },
    {
      "cell_type": "markdown",
      "metadata": {},
      "source": [
        "### Pausar um processo e lev\u00e1-lo ao fundo com `CTRL+Z`"
      ]
    },
    {
      "cell_type": "markdown",
      "metadata": {},
      "source": [
        "Quando executamos um processo no terminal, ele pode n\u00e3o parar de ser executado e queremos continuar usando o terminal. Para resolver isso, podemos enviar o processo para o background pressionando `CTRL+z`."
      ]
    },
    {
      "cell_type": "markdown",
      "metadata": {},
      "source": [
        "Por exemplo, posso fazer um ping em mim mesmo, sem especificar o n\u00famero de tentativas; isso estar\u00e1 sendo executado at\u00e9 que eu pare o processo pressionando `CTRL+C`."
      ]
    },
    {
      "cell_type": "code",
      "execution_count": 191,
      "metadata": {},
      "outputs": [
        {
          "name": "stdout",
          "output_type": "stream",
          "text": [
            "PING localhost (127.0.0.1) 56(84) bytes of data.\n",
            "64 bytes from localhost (127.0.0.1): icmp_seq=1 ttl=64 time=0.025 ms\n",
            "64 bytes from localhost (127.0.0.1): icmp_seq=2 ttl=64 time=0.027 ms\n",
            "64 bytes from localhost (127.0.0.1): icmp_seq=3 ttl=64 time=0.024 ms\n",
            "64 bytes from localhost (127.0.0.1): icmp_seq=4 ttl=64 time=0.024 ms\n",
            "64 bytes from localhost (127.0.0.1): icmp_seq=5 ttl=64 time=0.027 ms\n",
            "64 bytes from localhost (127.0.0.1): icmp_seq=6 ttl=64 time=0.036 ms\n",
            "^C\n",
            "--- localhost ping statistics ---\n",
            "6 packets transmitted, 6 received, 0% packet loss, time 5127ms\n",
            "rtt min/avg/max/mdev = 0.024/0.027/0.036/0.004 ms\n"
          ]
        }
      ],
      "source": [
        "!ping localhost"
      ]
    },
    {
      "cell_type": "markdown",
      "metadata": {},
      "source": [
        "No entanto, se o que queremos \u00e9 parar um momento o processo para poder continuar usando o terminal, \u00e9 necess\u00e1rio introduzir `Ctrl+Z`"
      ]
    },
    {
      "cell_type": "code",
      "execution_count": 191,
      "metadata": {},
      "outputs": [
        {
          "name": "stdout",
          "output_type": "stream",
          "text": [
            "PING localhost (127.0.0.1) 56(84) bytes of data.\n",
            "64 bytes from localhost (127.0.0.1): icmp_seq=1 ttl=64 time=0.028 ms\n",
            "64 bytes from localhost (127.0.0.1): icmp_seq=2 ttl=64 time=0.020 ms\n",
            "64 bytes from localhost (127.0.0.1): icmp_seq=3 ttl=64 time=0.017 ms\n",
            "64 bytes from localhost (127.0.0.1): icmp_seq=4 ttl=64 time=0.025 ms\n",
            "64 bytes from localhost (127.0.0.1): icmp_seq=5 ttl=64 time=0.021 ms\n",
            "64 bytes from localhost (127.0.0.1): icmp_seq=6 ttl=64 time=0.055 ms\n",
            "^Z\n",
            "[1]+  Detenido                ping localhost\n"
          ]
        }
      ],
      "source": [
        "!ping localhost"
      ]
    },
    {
      "cell_type": "markdown",
      "metadata": {},
      "source": [
        "Como indicado, o processo foi interrompido, n\u00e3o est\u00e1 sendo executado enquanto eu o levei para o background."
      ]
    },
    {
      "cell_type": "markdown",
      "metadata": {},
      "source": [
        "### Ver os processos em background com `jobs`"
      ]
    },
    {
      "cell_type": "markdown",
      "metadata": {},
      "source": [
        "Para ver quais processos est\u00e3o em background, temos dois comandos, por um lado podemos usar `jobs`"
      ]
    },
    {
      "cell_type": "code",
      "execution_count": 191,
      "metadata": {},
      "outputs": [
        {
          "name": "stdout",
          "output_type": "stream",
          "text": [
            "jobs\n",
            "[1]+  Detenido                ping localhost\n"
          ]
        }
      ],
      "source": [
        "!jobs"
      ]
    },
    {
      "cell_type": "markdown",
      "metadata": {},
      "source": [
        "Este comando nos d\u00e1 o processo e o n\u00famero do job, este n\u00famero ser\u00e1 o que deveremos usar para levar o processo para o foreground"
      ]
    },
    {
      "cell_type": "markdown",
      "metadata": {},
      "source": [
        "### Ver os processos em background com `ps`"
      ]
    },
    {
      "cell_type": "markdown",
      "metadata": {},
      "source": [
        "Outro comando que podemos usar \u00e9 `ps` (processos)"
      ]
    },
    {
      "cell_type": "code",
      "execution_count": 191,
      "metadata": {},
      "outputs": [
        {
          "name": "stdout",
          "output_type": "stream",
          "text": [
            "    PID TTY          TIME CMD\n",
            "  16232 pts/3    00:00:00 bash\n",
            "  17070 pts/3    00:00:00 ping\n",
            "  18376 pts/3    00:00:00 ps\n"
          ]
        }
      ],
      "source": [
        "!ps"
      ]
    },
    {
      "cell_type": "markdown",
      "metadata": {},
      "source": [
        "Este comando n\u00e3o s\u00f3 nos d\u00e1 informa\u00e7\u00f5es sobre os processos que est\u00e3o em background, mas sobre todos os processos que est\u00e3o executando no terminal."
      ]
    },
    {
      "cell_type": "markdown",
      "metadata": {},
      "source": [
        "\u00c9 importante destacar que se abrirmos um novo terminal e usarmos qualquer um desses comandos, ele n\u00e3o nos fornecer\u00e1 as informa\u00e7\u00f5es do ping, pois o executamos em outro terminal"
      ]
    },
    {
      "cell_type": "code",
      "execution_count": 191,
      "metadata": {},
      "outputs": [
        {
          "name": "stdout",
          "output_type": "stream",
          "text": [
            "    PID TTY          TIME CMD\n",
            "  18993 pts/2    00:00:00 bash\n",
            "  19290 pts/2    00:00:00 ps\n"
          ]
        }
      ],
      "source": [
        "!ps"
      ]
    },
    {
      "cell_type": "markdown",
      "metadata": {},
      "source": [
        "Como vemos `jobs` n\u00e3o devolve nada porque neste terminal n\u00e3o h\u00e1 nenhum processo em background e `ps` apenas nos devolve a informa\u00e7\u00e3o de bash (o pr\u00f3prio terminal) e o comando ps lan\u00e7ado"
      ]
    },
    {
      "cell_type": "markdown",
      "metadata": {},
      "source": [
        "### Trazer um processo de background para o foreground"
      ]
    },
    {
      "cell_type": "markdown",
      "metadata": {},
      "source": [
        "Para levar um processo ao foreground \u00e9 necess\u00e1rio usar o comando `fg`. Se quiser trazer o \u00faltimo que foi levado ao background, basta apenas digitar `fg`, caso contr\u00e1rio, \u00e9 preciso indicar o n\u00famero do job."
      ]
    },
    {
      "cell_type": "markdown",
      "metadata": {},
      "source": [
        "Vamos revisar os processos que t\u00ednhamos em background"
      ]
    },
    {
      "cell_type": "code",
      "execution_count": 191,
      "metadata": {},
      "outputs": [
        {
          "name": "stdout",
          "output_type": "stream",
          "text": [
            "[1]+  Detenido                ping localhost\n"
          ]
        }
      ],
      "source": [
        "!jobs"
      ]
    },
    {
      "cell_type": "markdown",
      "metadata": {},
      "source": [
        "Podemos levar este processo para o foreground apenas digitando `fg` ou indicando o n\u00famero do job atrav\u00e9s de `fg %1`"
      ]
    },
    {
      "cell_type": "code",
      "execution_count": 191,
      "metadata": {},
      "outputs": [
        {
          "name": "stdout",
          "output_type": "stream",
          "text": [
            "ping localhost\n",
            "64 bytes from localhost (127.0.0.1): icmp_seq=7 ttl=64 time=0.032 ms\n",
            "64 bytes from localhost (127.0.0.1): icmp_seq=8 ttl=64 time=0.036 ms\n",
            "64 bytes from localhost (127.0.0.1): icmp_seq=9 ttl=64 time=0.045 ms\n",
            "64 bytes from localhost (127.0.0.1): icmp_seq=10 ttl=64 time=0.035 ms\n",
            "64 bytes from localhost (127.0.0.1): icmp_seq=11 ttl=64 time=0.031 ms\n"
          ]
        }
      ],
      "source": [
        "!fg %1"
      ]
    },
    {
      "cell_type": "markdown",
      "metadata": {},
      "source": [
        "### Executar um processo diretamente em segundo plano"
      ]
    },
    {
      "cell_type": "markdown",
      "metadata": {},
      "source": [
        "Vamos lan\u00e7ar novamente o navegador Firefox escrevendo `firefox` no terminal e pressionando `CTRL+Z` para envi\u00e1-lo para o background"
      ]
    },
    {
      "cell_type": "code",
      "execution_count": 191,
      "metadata": {},
      "outputs": [
        {
          "name": "stdout",
          "output_type": "stream",
          "text": [
            "[GFX1-]: glxtest: VA-API test failed: failed to initialise VAAPI connection.\n",
            "[2022-11-29T06:16:17Z ERROR glean_core::metrics::ping] Invalid reason code startup for ping background-update\n",
            "^Z\n",
            "[1]+  Detenido                firefox\n"
          ]
        }
      ],
      "source": [
        "!firefox"
      ]
    },
    {
      "cell_type": "markdown",
      "metadata": {},
      "source": [
        "Como vemos, diz que o processo foi interrompido, portanto, se agora quisermos navegar no Firefox, n\u00e3o podemos, pois est\u00e1 interrompido."
      ]
    },
    {
      "cell_type": "markdown",
      "metadata": {},
      "source": [
        "Para poder lan\u00e7ar o Firefox e deix\u00e1-lo em background para que n\u00e3o bloqueie o terminal, \u00e9 necess\u00e1rio escrever um `&` no final do comando"
      ]
    },
    {
      "cell_type": "code",
      "execution_count": 191,
      "metadata": {},
      "outputs": [
        {
          "name": "stdout",
          "output_type": "stream",
          "text": [
            "[1] 23663\n",
            "$ [GFX1-]: glxtest: VA-API test failed: failed to initialise VAAPI connection.\n",
            "[2022-11-29T06:19:40Z ERROR glean_core::metrics::ping] Invalid reason code startup for ping background-update\n",
            "\n",
            "$\n"
          ]
        }
      ],
      "source": [
        "!firefox &"
      ]
    },
    {
      "cell_type": "markdown",
      "metadata": {},
      "source": [
        "Agora lan\u00e7amos o Firefox, ele nos informa seu n\u00famero de job e fica executando em segundo plano"
      ]
    },
    {
      "cell_type": "markdown",
      "metadata": {},
      "source": [
        "De facto, se agora olharmos os processos, podemos ver que o estado do Firefox \u00e9 *Executando*"
      ]
    },
    {
      "cell_type": "code",
      "execution_count": 191,
      "metadata": {},
      "outputs": [
        {
          "name": "stdout",
          "output_type": "stream",
          "text": [
            "[1]+  Ejecutando              firefox &\n"
          ]
        }
      ],
      "source": [
        "!jobs"
      ]
    },
    {
      "cell_type": "markdown",
      "metadata": {},
      "source": [
        "### Terminar um processo que est\u00e1 em background"
      ]
    },
    {
      "cell_type": "markdown",
      "metadata": {},
      "source": [
        "Como temos o Firefox rodando em background, se quisermos que termine, temos que usar `kill` e o n\u00famero do job do processo. Vamos usar `jobs` para ver o n\u00famero do job do Firefox."
      ]
    },
    {
      "cell_type": "code",
      "execution_count": 191,
      "metadata": {},
      "outputs": [
        {
          "name": "stdout",
          "output_type": "stream",
          "text": [
            "[1]+  Ejecutando              firefox &\n"
          ]
        }
      ],
      "source": [
        "!jobs"
      ]
    },
    {
      "cell_type": "markdown",
      "metadata": {},
      "source": [
        "Seu n\u00famero de trabalho \u00e9 o 1, por isso colocamos esse n\u00famero para finalizar o processo."
      ]
    },
    {
      "cell_type": "code",
      "execution_count": 191,
      "metadata": {},
      "outputs": [
        {
          "name": "stdout",
          "output_type": "stream",
          "text": [
            "\n"
          ]
        }
      ],
      "source": [
        "!kill %1"
      ]
    },
    {
      "cell_type": "markdown",
      "metadata": {},
      "source": [
        "N\u00e3o nos responde nada, mas se voltarmos a usar `jobs` para ver os processos em background"
      ]
    },
    {
      "cell_type": "code",
      "execution_count": 191,
      "metadata": {},
      "outputs": [
        {
          "name": "stdout",
          "output_type": "stream",
          "text": [
            "[1]+  Terminado               firefox\n"
          ]
        }
      ],
      "source": [
        "!jobs"
      ]
    },
    {
      "cell_type": "markdown",
      "metadata": {},
      "source": [
        "Vemos que nos diz que o Firefox terminou, se voltarmos a executar `jobs` n\u00e3o aparecer\u00e1 nada."
      ]
    },
    {
      "cell_type": "code",
      "execution_count": 191,
      "metadata": {},
      "outputs": [
        {
          "name": "stdout",
          "output_type": "stream",
          "text": [
            "\n"
          ]
        }
      ],
      "source": [
        "!jobs"
      ]
    },
    {
      "cell_type": "markdown",
      "metadata": {},
      "source": [
        "## Processos em segundo plano independentes do terminal"
      ]
    },
    {
      "cell_type": "markdown",
      "metadata": {},
      "source": [
        "At\u00e9 agora, vimos como executar processos em segundo plano dependentes do terminal, isso quer dizer que se enviarmos um processo para o segundo plano e fecharmos o terminal, ele enviar\u00e1 uma mensagem de fim para todos os processos que est\u00e3o no seu segundo plano e eles terminar\u00e3o."
      ]
    },
    {
      "cell_type": "markdown",
      "metadata": {},
      "source": [
        "Mas h\u00e1 momentos em que nos interessa que o processo continue em segundo plano, poder fechar o terminal, abrir outro e recuperar esse processo, para isso usaremos `tmux`, que \u00e9 um multiplexador de terminais.",
        "\n",
        "\u00c9 poss\u00edvel que venha instalada, ent\u00e3o para instal\u00e1-la voc\u00ea deve inserir o seguinte",
        "\n",
        "``` bash\n",
        "sudo apt install tmux",
        ""
      ]
    },
    {
      "cell_type": "markdown",
      "metadata": {},
      "source": [
        "Uma vez instalada, podemos criar uma nova sess\u00e3o de `tmux` mediante o `tmux new -s <name>`",
        "\n",
        "``` bash\n",
        "tmux new -s sess\u00e3o1",
        "```",
        "\n",
        "Isso nos abrir\u00e1 um novo terminal, que na verdade \u00e9 uma sess\u00e3o de `tmux`"
      ]
    },
    {
      "cell_type": "markdown",
      "metadata": {},
      "source": [
        "Dentro dela podemos lan\u00e7ar um processo, por exemplo um `ping` a n\u00f3s mesmos"
      ]
    },
    {
      "cell_type": "code",
      "execution_count": 191,
      "metadata": {},
      "outputs": [
        {
          "name": "stdout",
          "output_type": "stream",
          "text": [
            "PING localhost (127.0.0.1) 56(84) bytes of data.\n",
            "64 bytes from localhost (127.0.0.1): icmp_seq=1 ttl=64 time=0.036 ms\n",
            "64 bytes from localhost (127.0.0.1): icmp_seq=2 ttl=64 time=0.019 ms\n",
            "64 bytes from localhost (127.0.0.1): icmp_seq=3 ttl=64 time=0.031 ms\n"
          ]
        }
      ],
      "source": [
        "!ping localhost"
      ]
    },
    {
      "cell_type": "markdown",
      "metadata": {},
      "source": [
        "Podemos fechar esse terminal"
      ]
    },
    {
      "cell_type": "markdown",
      "metadata": {},
      "source": [
        "Se abrirmos uma nova, podemos ver todas as sess\u00f5es do `tmux` abertas com o comando `tmux ls`"
      ]
    },
    {
      "cell_type": "code",
      "execution_count": 6,
      "metadata": {},
      "outputs": [
        {
          "name": "stdout",
          "output_type": "stream",
          "text": [
            "session1: 1 windows (created Tue Nov 29 08:15:22 2022)\n"
          ]
        }
      ],
      "source": [
        "!tmux ls"
      ]
    },
    {
      "cell_type": "markdown",
      "metadata": {},
      "source": [
        "E podemos entrar em uma sess\u00e3o atrav\u00e9s do comando `tmux`, seguido de `a` (attach), `-t` (tag) e o nome da sess\u00e3o"
      ]
    },
    {
      "cell_type": "code",
      "execution_count": 191,
      "metadata": {},
      "outputs": [
        {
          "name": "stdout",
          "output_type": "stream",
          "text": [
            "64 bytes from localhost (127.0.0.1): icmp_seq=146 ttl=64 time=0.025 ms\n",
            "64 bytes from localhost (127.0.0.1): icmp_seq=147 ttl=64 time=0.022 ms\n",
            "64 bytes from localhost (127.0.0.1): icmp_seq=148 ttl=64 time=0.026 ms\n",
            "64 bytes from localhost (127.0.0.1): icmp_seq=149 ttl=64 time=0.013 ms\n",
            "64 bytes from localhost (127.0.0.1): icmp_seq=150 ttl=64 time=0.027 ms\n",
            "64 bytes from localhost (127.0.0.1): icmp_seq=151 ttl=64 time=0.019 ms\n"
          ]
        }
      ],
      "source": [
        "!tmux a -t session1"
      ]
    },
    {
      "cell_type": "markdown",
      "metadata": {},
      "source": [
        "Como vemos, recuperamos o `ping` de antes"
      ]
    },
    {
      "cell_type": "markdown",
      "metadata": {},
      "source": [
        "Quando estamos dentro de uma sess\u00e3o, podemos sair dela (matando-a) escrevendo `CTRL+D` ou escrevendo `exit`"
      ]
    },
    {
      "cell_type": "markdown",
      "metadata": {},
      "source": [
        "## Gerenciamento de processos"
      ]
    },
    {
      "cell_type": "markdown",
      "metadata": {},
      "source": [
        "Para gerenciar os processos do nosso sistema, temos v\u00e1rias op\u00e7\u00f5es"
      ]
    },
    {
      "cell_type": "markdown",
      "metadata": {},
      "source": [
        "### Manipulador de processos `ps`"
      ]
    },
    {
      "cell_type": "markdown",
      "metadata": {},
      "source": [
        "Como vimos antes, `ps` nos d\u00e1 os processos que est\u00e3o rodando no nosso terminal. Por exemplo, executamos um processo em background e vemos os processos com `ps`"
      ]
    },
    {
      "cell_type": "code",
      "execution_count": 191,
      "metadata": {},
      "outputs": [
        {
          "name": "stdout",
          "output_type": "stream",
          "text": [
            "[1] 50555\n"
          ]
        }
      ],
      "source": [
        "!firefox &"
      ]
    },
    {
      "cell_type": "markdown",
      "metadata": {},
      "source": [
        "Vemos agora os processos"
      ]
    },
    {
      "cell_type": "code",
      "execution_count": 191,
      "metadata": {},
      "outputs": [
        {
          "name": "stdout",
          "output_type": "stream",
          "text": [
            "    PID TTY          TIME CMD\n",
            "  36660 pts/3    00:00:00 bash\n",
            "  50555 pts/3    00:00:02 firefox\n",
            "  50613 pts/3    00:00:00 Socket Process\n",
            "  50635 pts/3    00:00:00 Privileged Cont\n",
            "  50683 pts/3    00:00:00 WebExtensions\n",
            "  50741 pts/3    00:00:00 Web Content\n",
            "  50743 pts/3    00:00:00 Web Content\n",
            "  50748 pts/3    00:00:00 Web Content\n",
            "  50840 pts/3    00:00:00 ps\n"
          ]
        }
      ],
      "source": [
        "!ps"
      ]
    },
    {
      "cell_type": "markdown",
      "metadata": {},
      "source": [
        "Uma vez que soubermos o seu PID, podemos matar o processo"
      ]
    },
    {
      "cell_type": "code",
      "execution_count": 191,
      "metadata": {},
      "outputs": [
        {
          "name": "stdout",
          "output_type": "stream",
          "text": [
            "\n"
          ]
        }
      ],
      "source": [
        "!kill 50555"
      ]
    },
    {
      "cell_type": "markdown",
      "metadata": {},
      "source": [
        "Vemos agora os processos"
      ]
    },
    {
      "cell_type": "code",
      "execution_count": 191,
      "metadata": {},
      "outputs": [
        {
          "name": "stdout",
          "output_type": "stream",
          "text": [
            "    PID TTY          TIME CMD\n",
            "  36660 pts/3    00:00:00 bash\n",
            "  51132 pts/3    00:00:00 ps\n"
          ]
        }
      ],
      "source": [
        "!ps"
      ]
    },
    {
      "cell_type": "markdown",
      "metadata": {},
      "source": [
        "Mas como dissemos, o ruim do `ps` \u00e9 que ele mostra apenas os processos do seu terminal"
      ]
    },
    {
      "cell_type": "markdown",
      "metadata": {},
      "source": [
        "Para que nos mostre todos os processos do sistema temos que adicionar `aux`"
      ]
    },
    {
      "cell_type": "code",
      "execution_count": 3,
      "metadata": {},
      "outputs": [
        {
          "name": "stdout",
          "output_type": "stream",
          "text": [
            "USER         PID %CPU %MEM    VSZ   RSS TTY      STAT START   TIME COMMAND\n",
            "root           1  0.2  0.0 169936 13172 ?        Ss   23:06   0:01 /sbin/init splash\n",
            "root           2  0.0  0.0      0     0 ?        S    23:06   0:00 [kthreadd]\n",
            "root           3  0.0  0.0      0     0 ?        I<   23:06   0:00 [rcu_gp]\n",
            "root           4  0.0  0.0      0     0 ?        I<   23:06   0:00 [rcu_par_gp]\n",
            "root           5  0.0  0.0      0     0 ?        I<   23:06   0:00 [netns]\n",
            "root           7  0.0  0.0      0     0 ?        I<   23:06   0:00 [kworker/0:0H-events_highpri]\n",
            "root           9  0.0  0.0      0     0 ?        I<   23:06   0:00 [kworker/0:1H-events_highpri]\n",
            "root          10  0.0  0.0      0     0 ?        I<   23:06   0:00 [mm_percpu_wq]\n",
            "root          11  0.0  0.0      0     0 ?        S    23:06   0:00 [rcu_tasks_rude_]\n",
            "\t ...\n",
            "wallabot   11094  0.0  0.2 1184730916 65900 ?    Sl   23:19   0:00 /opt/google/chrome/chrome --type=renderer --crashpad-handler-pid=5080 --enable-crash-reporter=, --change-stack-guard-on-fork=enable --lang=es --num-raster-threads=4 --enable-main-frame-before-activation --renderer-client-id=76 --time-ticks-at-unix-epoch=-1670018798736448 --launch-time-ticks=781545948 --shared-files=v8_context_snapshot_data:100 --field-trial-handle=0,i,18391862866948577032,30807856093711604,131072\n",
            "wallabot   11428  0.3  0.2 38136100 75812 ?      Sl   23:21   0:00 /usr/share/code/code --ms-enable-electron-run-as-node /usr/share/code/resources/app/extensions/markdown-language-features/server/dist/node/main --node-ipc --clientProcessId=8508\n",
            "root       11508  0.0  0.0      0     0 ?        I    23:21   0:00 [kworker/4:1-events]\n",
            "wallabot   11683  0.0  0.0  14192  3380 ?        R    23:22   0:00 ps aux\n",
            "\n"
          ]
        }
      ],
      "source": [
        "terminal(\"ps aux\", max_lines_output=10)"
      ]
    },
    {
      "cell_type": "markdown",
      "metadata": {},
      "source": [
        "Agora, se o que eu quero \u00e9 buscar apenas os processos que est\u00e3o sendo executados pelo meu usu\u00e1rio, eu posso faz\u00ea-lo criando um `pipe` e buscando com `grep`."
      ]
    },
    {
      "cell_type": "code",
      "execution_count": 7,
      "metadata": {},
      "outputs": [
        {
          "name": "stdout",
          "output_type": "stream",
          "text": [
            "avahi        802  0.0  0.0   8536  3912 ?        Ss   23:06   0:00 avahi-daemon: running [wallabot.local]\n",
            "wallabot    1153  0.0  0.0  19856 10624 ?        Ss   23:06   0:00 /lib/systemd/systemd --user\n",
            "wallabot    1154  0.0  0.0 170004  3680 ?        S    23:06   0:00 (sd-pam)\n",
            "wallabot    1159  0.1  0.0 2569384 22808 ?       S<sl 23:06   0:01 /usr/bin/pulseaudio --daemonize=no --log-target=journal\n",
            "wallabot    1161  0.1  0.1 591424 37248 ?        SNsl 23:06   0:02 /usr/libexec/tracker-miner-fs\n",
            "wallabot    1164  0.0  0.0 390744  8664 ?        SLl  23:06   0:00 /usr/bin/gnome-keyring-daemon --daemonize --login\n",
            "wallabot    1168  0.0  0.0 166804  6616 tty2     Ssl+ 23:06   0:00 /usr/lib/gdm3/gdm-x-session --run-script env GNOME_SHELL_SESSION_MODE=ubuntu /usr/bin/gnome-session --systemd --session=ubuntu\n",
            "wallabot    1173  0.0  0.0   8904  6012 ?        Ss   23:06   0:00 /usr/bin/dbus-daemon --session --address=systemd: --nofork --nopidfile --systemd-activation --syslog-only\n",
            "wallabot    1181  0.0  0.0 242628  7884 ?        Ssl  23:06   0:00 /usr/libexec/gvfsd\n",
            "wallabot    1196  0.0  0.0 378348  5544 ?        Sl   23:06   0:00 /usr/libexec/gvfsd-fuse /run/user/1000/gvfs -f -o big_writes\n",
            "wallabot    1203  0.0  0.0 316896  9540 ?        Ssl  23:06   0:00 /usr/libexec/gvfs-udisks2-volume-monitor\n",
            "wallabot    1209  0.0  0.0 319540  8920 ?        Ssl  23:06   0:00 /usr/libexec/gvfs-afc-volume-monitor\n",
            "wallabot    1215  0.0  0.0 238612  5476 ?        Ssl  23:06   0:00 /usr/libexec/gvfs-mtp-volume-monitor\n",
            "wallabot    1220  0.0  0.0 239456  6988 ?        Ssl  23:06   0:00 /usr/libexec/gvfs-goa-volume-monitor\n",
            "wallabot    1224  0.0  0.2 707176 69244 ?        SLl  23:06   0:00 /usr/libexec/goa-daemon\n",
            "wallabot    1231  0.0  0.0 317692  9068 ?        Sl   23:06   0:00 /usr/libexec/goa-identity-service\n",
            "wallabot    1237  0.0  0.0 240888  6244 ?        Ssl  23:06   0:00 /usr/libexec/gvfs-gphoto2-volume-monitor\n",
            "wallabot    1308  0.0  0.0 190872 13688 tty2     Sl+  23:06   0:00 /usr/libexec/gnome-session-binary --systemd --systemd --session=ubuntu\n",
            "wallabot    1375  0.0  0.0   6040   452 ?        Ss   23:06   0:00 /usr/bin/ssh-agent /usr/bin/im-launch env GNOME_SHELL_SESSION_MODE=ubuntu /usr/bin/gnome-session --systemd --session=ubuntu\n",
            "wallabot    1394  0.0  0.0 305428  6572 ?        Ssl  23:06   0:00 /usr/libexec/at-spi-bus-launcher\n",
            "wallabot    1399  0.0  0.0   7380  4240 ?        S    23:06   0:00 /usr/bin/dbus-daemon --config-file=/usr/share/defaults/at-spi2/accessibility.conf --nofork --print-address 3\n",
            "wallabot    1405  0.0  0.0  92852  4228 ?        Ssl  23:06   0:00 /usr/libexec/gnome-session-ctl --monitor\n",
            "wallabot    1412  0.0  0.0 414004 16532 ?        Ssl  23:06   0:00 /usr/libexec/gnome-session-binary --systemd-service --session=ubuntu\n",
            "wallabot    1426  3.7  1.2 5576364 425284 ?      Rsl  23:06   0:41 /usr/bin/gnome-shell\n",
            "wallabot    1476  0.0  0.0 387612  8436 ?        Sl   23:06   0:00 ibus-daemon --panel disable --xim\n",
            "wallabot    1480  0.0  0.0 165628  7060 ?        Sl   23:06   0:00 /usr/libexec/ibus-memconf\n",
            "wallabot    1481  0.0  0.0 276012 29224 ?        Sl   23:06   0:00 /usr/libexec/ibus-extension-gtk3\n",
            "wallabot    1483  0.0  0.0 196832 24676 ?        Sl   23:06   0:00 /usr/libexec/ibus-x11 --kill-daemon\n",
            "wallabot    1486  0.0  0.0 239400  7244 ?        Sl   23:06   0:00 /usr/libexec/ibus-portal\n",
            "wallabot    1498  0.0  0.0 162916  6508 ?        Sl   23:06   0:00 /usr/libexec/at-spi2-registryd --use-gnome-session\n",
            "wallabot    1502  0.0  0.0 238512  5936 ?        Ssl  23:06   0:00 /usr/libexec/xdg-permission-store\n",
            "wallabot    1504  0.0  0.0 862476 24084 ?        Sl   23:06   0:00 /usr/libexec/gnome-shell-calendar-server\n",
            "wallabot    1513  0.0  0.0 618416 32636 ?        Ssl  23:06   0:00 /usr/libexec/evolution-source-registry\n",
            "wallabot    1521  0.0  0.0 156476  5716 ?        Sl   23:06   0:00 /usr/libexec/dconf-service\n",
            "wallabot    1524  0.0  0.0 165712  7076 ?        Ssl  23:06   0:00 /usr/libexec/gvfsd-metadata\n",
            "wallabot    1535  0.0  0.1 1680828 49932 ?       Ssl  23:06   0:00 /usr/libexec/evolution-calendar-factory\n",
            "wallabot    1551  0.0  0.0 676260 30636 ?        Ssl  23:06   0:00 /usr/libexec/evolution-addressbook-factory\n",
            "wallabot    1585  0.0  0.0 2933212 27180 ?       Sl   23:06   0:00 /usr/bin/gjs /usr/share/gnome-shell/org.gnome.Shell.Notifications\n",
            "wallabot    1597  0.0  0.0 316920  7980 ?        Sl   23:06   0:00 /usr/libexec/gvfsd-trash --spawner :1.4 /org/gtk/gvfs/exec_spaw/0\n",
            "wallabot    1612  0.0  0.0 312652  6796 ?        Ssl  23:06   0:00 /usr/libexec/gsd-a11y-settings\n",
            "wallabot    1613  0.0  0.0 587548 27164 ?        Ssl  23:06   0:00 /usr/libexec/gsd-color\n",
            "wallabot    1614  0.0  0.0 376604 16508 ?        Ssl  23:06   0:00 /usr/libexec/gsd-datetime\n",
            "wallabot    1616  0.0  0.0 314840  7876 ?        Ssl  23:06   0:00 /usr/libexec/gsd-housekeeping\n",
            "wallabot    1619  0.0  0.0 344796 25276 ?        Ssl  23:06   0:00 /usr/libexec/gsd-keyboard\n",
            "wallabot    1623  0.0  0.0 900140 28012 ?        Ssl  23:06   0:00 /usr/libexec/gsd-media-keys\n",
            "wallabot    1627  0.0  0.0 418936 25736 ?        Ssl  23:06   0:00 /usr/libexec/gsd-power\n",
            "wallabot    1629  0.0  0.0 251196 11384 ?        Ssl  23:06   0:00 /usr/libexec/gsd-print-notifications\n",
            "wallabot    1630  0.0  0.0 459940  6088 ?        Ssl  23:06   0:00 /usr/libexec/gsd-rfkill\n",
            "wallabot    1632  0.0  0.0 238348  6344 ?        Ssl  23:06   0:00 /usr/libexec/gsd-screensaver-proxy\n",
            "wallabot    1633  0.0  0.0 467776 11088 ?        Ssl  23:06   0:00 /usr/libexec/gsd-sharing\n",
            "wallabot    1634  0.0  0.0 318156 10452 ?        Ssl  23:06   0:00 /usr/libexec/gsd-smartcard\n",
            "wallabot    1636  0.0  0.0 322344  9400 ?        Ssl  23:06   0:00 /usr/libexec/gsd-sound\n",
            "wallabot    1637  0.0  0.0 461692  7252 ?        Ssl  23:06   0:00 /usr/libexec/gsd-usb-protection\n",
            "wallabot    1640  0.0  0.0 344332 24372 ?        Ssl  23:06   0:00 /usr/libexec/gsd-wacom\n",
            "wallabot    1643  0.0  0.0 390820  8260 ?        Ssl  23:06   0:00 /usr/libexec/gsd-wwan\n",
            "wallabot    1644  0.0  0.0 345572 25980 ?        Ssl  23:06   0:00 /usr/libexec/gsd-xsettings\n",
            "wallabot    1649  0.0  0.2 1227284 75100 ?       Sl   23:06   0:00 /usr/libexec/evolution-data-server/evolution-alarm-notify\n",
            "wallabot    1673  0.0  0.1 413288 60304 ?        Sl   23:06   0:00 /usr/bin/python3 /usr/bin/solaar\n",
            "wallabot    1692  0.0  0.0 231804  5972 ?        Sl   23:06   0:00 /usr/libexec/gsd-disk-utility-notify\n",
            "wallabot    1730  0.0  0.0 165620  7028 ?        Sl   23:06   0:00 /usr/libexec/ibus-engine-simple\n",
            "wallabot    1739  0.0  0.0 438456 19104 ?        Sl   23:06   0:00 /usr/libexec/gvfsd-http --spawner :1.4 /org/gtk/gvfs/exec_spaw/1\n",
            "wallabot    1748  0.4  0.6 1242548 217144 ?      Sl   23:06   0:04 /snap/snap-store/599/usr/bin/snap-store --gapplication-service\n",
            "wallabot    1760  0.0  0.0 345020 15016 ?        Sl   23:06   0:00 /usr/libexec/gsd-printer\n",
            "wallabot    1797  0.0  0.0 608052  6664 ?        Ssl  23:06   0:00 /usr/libexec/xdg-document-portal\n",
            "wallabot    2170  0.0  0.0 612960 11060 ?        Ssl  23:06   0:00 /usr/libexec/xdg-desktop-portal\n",
            "wallabot    2174  0.0  0.0 493648 26488 ?        Ssl  23:06   0:00 /usr/libexec/xdg-desktop-portal-gtk\n",
            "wallabot    4839  0.0  0.0 420020 28340 ?        Sl   23:07   0:00 update-notifier\n",
            "wallabot    5019  0.0  0.0 436628 21644 ?        Sl   23:08   0:00 /usr/libexec/gvfsd-google --spawner :1.4 /org/gtk/gvfs/exec_spaw/2\n",
            "wallabot    5072  3.2  1.1 34219664 391492 ?     SLl  23:08   0:32 /opt/google/chrome/chrome\n",
            "wallabot    5077  0.0  0.0  10844   580 ?        S    23:08   0:00 cat\n",
            "wallabot    5078  0.0  0.0  10844   516 ?        S    23:08   0:00 cat\n",
            "wallabot    5080  0.0  0.0 33576132 3140 ?       Sl   23:08   0:00 /opt/google/chrome/chrome_crashpad_handler --monitor-self --monitor-self-annotation=ptype=crashpad-handler --database=/home/wallabot/.config/google-chrome/Crash Reports --url=https://clients2.google.com/cr/report --annotation=channel= --annotation=lsb-release=Ubuntu 20.04.5 LTS --annotation=plat=Linux --annotation=prod=Chrome_Linux --annotation=ver=108.0.5359.71 --initial-client-fd=5 --shared-client-connection\n",
            "wallabot    5082  0.0  0.0 33567920 2952 ?       Sl   23:08   0:00 /opt/google/chrome/chrome_crashpad_handler --no-periodic-tasks --monitor-self-annotation=ptype=crashpad-handler --database=/home/wallabot/.config/google-chrome/Crash Reports --url=https://clients2.google.com/cr/report --annotation=channel= --annotation=lsb-release=Ubuntu 20.04.5 LTS --annotation=plat=Linux --annotation=prod=Chrome_Linux --annotation=ver=108.0.5359.71 --initial-client-fd=4 --shared-client-connection\n",
            "wallabot    5088  0.0  0.1 33854440 59168 ?      S    23:08   0:00 /opt/google/chrome/chrome --type=zygote --no-zygote-sandbox --crashpad-handler-pid=5080 --enable-crash-reporter=, --change-stack-guard-on-fork=enable\n",
            "wallabot    5089  0.0  0.1 33854436 59068 ?      S    23:08   0:00 /opt/google/chrome/chrome --type=zygote --crashpad-handler-pid=5080 --enable-crash-reporter=, --change-stack-guard-on-fork=enable\n",
            "wallabot    5090  0.0  0.0 33568428 5024 ?       S    23:08   0:00 /opt/google/chrome/nacl_helper\n",
            "wallabot    5093  0.0  0.0 33854460 16384 ?      S    23:08   0:00 /opt/google/chrome/chrome --type=zygote --crashpad-handler-pid=5080 --enable-crash-reporter=, --change-stack-guard-on-fork=enable\n",
            "wallabot    5123  6.0  0.8 34211392 285560 ?     Sl   23:08   1:00 /opt/google/chrome/chrome --type=gpu-process --crashpad-handler-pid=5080 --enable-crash-reporter=, --change-stack-guard-on-fork=enable --gpu-preferences=WAAAAAAAAAAgAAAIAAAAAAAAAAAAAAAAAABgAAAAAAA4AAAAAAAAAAAAAAAAAAAAAAAAAAAAAAAAAAAAAAAAACAAAAAAAAAAIAAAAAAAAAABAAAAAAAAAAgAAAAAAAAACAAAAAAAAAAIAAAAAAAAAA== --shared-files --field-trial-handle=0,i,18391862866948577032,30807856093711604,131072\n",
            "wallabot    5124  0.6  0.3 33918264 119584 ?     Sl   23:08   0:06 /opt/google/chrome/chrome --type=utility --utility-sub-type=network.mojom.NetworkService --lang=es --service-sandbox-type=none --crashpad-handler-pid=5080 --enable-crash-reporter=, --change-stack-guard-on-fork=enable --shared-files=v8_context_snapshot_data:100 --field-trial-handle=0,i,18391862866948577032,30807856093711604,131072\n",
            "wallabot    5136  0.0  0.1 33895840 52500 ?      Sl   23:08   0:00 /opt/google/chrome/chrome --type=utility --utility-sub-type=storage.mojom.StorageService --lang=es --service-sandbox-type=utility --crashpad-handler-pid=5080 --enable-crash-reporter=, --change-stack-guard-on-fork=enable --shared-files=v8_context_snapshot_data:100 --field-trial-handle=0,i,18391862866948577032,30807856093711604,131072\n",
            "wallabot    5155  0.1  0.4 1184797648 132208 ?   Sl   23:08   0:01 /opt/google/chrome/chrome --type=renderer --crashpad-handler-pid=5080 --enable-crash-reporter=, --extension-process --change-stack-guard-on-fork=enable --lang=es --num-raster-threads=4 --enable-main-frame-before-activation --renderer-client-id=5 --time-ticks-at-unix-epoch=-1670018798736448 --launch-time-ticks=121160165 --shared-files=v8_context_snapshot_data:100 --field-trial-handle=0,i,18391862866948577032,30807856093711604,131072\n",
            "wallabot    5171  4.5  0.6 1188020280 229028 ?   Sl   23:08   0:44 /opt/google/chrome/chrome --type=renderer --crashpad-handler-pid=5080 --enable-crash-reporter=, --change-stack-guard-on-fork=enable --lang=es --num-raster-threads=4 --enable-main-frame-before-activation --renderer-client-id=27 --time-ticks-at-unix-epoch=-1670018798736448 --launch-time-ticks=121254783 --shared-files=v8_context_snapshot_data:100 --field-trial-handle=0,i,18391862866948577032,30807856093711604,131072\n",
            "wallabot    5228  0.0  0.2 1184772236 89352 ?    Sl   23:08   0:00 /opt/google/chrome/chrome --type=renderer --crashpad-handler-pid=5080 --enable-crash-reporter=, --extension-process --change-stack-guard-on-fork=enable --lang=es --num-raster-threads=4 --enable-main-frame-before-activation --renderer-client-id=6 --time-ticks-at-unix-epoch=-1670018798736448 --launch-time-ticks=121309474 --shared-files=v8_context_snapshot_data:100 --field-trial-handle=0,i,18391862866948577032,30807856093711604,131072\n",
            "wallabot    5247  0.0  0.2 1184788292 86368 ?    Sl   23:08   0:00 /opt/google/chrome/chrome --type=renderer --crashpad-handler-pid=5080 --enable-crash-reporter=, --extension-process --change-stack-guard-on-fork=enable --lang=es --num-raster-threads=4 --enable-main-frame-before-activation --renderer-client-id=7 --time-ticks-at-unix-epoch=-1670018798736448 --launch-time-ticks=121342017 --shared-files=v8_context_snapshot_data:100 --field-trial-handle=0,i,18391862866948577032,30807856093711604,131072\n",
            "wallabot    5274  0.3  0.4 1184796488 155056 ?   Sl   23:08   0:03 /opt/google/chrome/chrome --type=renderer --crashpad-handler-pid=5080 --enable-crash-reporter=, --extension-process --change-stack-guard-on-fork=enable --lang=es --num-raster-threads=4 --enable-main-frame-before-activation --renderer-client-id=8 --time-ticks-at-unix-epoch=-1670018798736448 --launch-time-ticks=121354013 --shared-files=v8_context_snapshot_data:100 --field-trial-handle=0,i,18391862866948577032,30807856093711604,131072\n",
            "wallabot    5294  0.1  0.3 1184797648 123536 ?   Sl   23:08   0:01 /opt/google/chrome/chrome --type=renderer --crashpad-handler-pid=5080 --enable-crash-reporter=, --extension-process --change-stack-guard-on-fork=enable --lang=es --num-raster-threads=4 --enable-main-frame-before-activation --renderer-client-id=9 --time-ticks-at-unix-epoch=-1670018798736448 --launch-time-ticks=121366454 --shared-files=v8_context_snapshot_data:100 --field-trial-handle=0,i,18391862866948577032,30807856093711604,131072\n",
            "wallabot    5300  0.0  0.2 1184771900 88048 ?    Sl   23:08   0:00 /opt/google/chrome/chrome --type=renderer --crashpad-handler-pid=5080 --enable-crash-reporter=, --extension-process --change-stack-guard-on-fork=enable --lang=es --num-raster-threads=4 --enable-main-frame-before-activation --renderer-client-id=10 --time-ticks-at-unix-epoch=-1670018798736448 --launch-time-ticks=121370528 --shared-files=v8_context_snapshot_data:100 --field-trial-handle=0,i,18391862866948577032,30807856093711604,131072\n",
            "wallabot    5325  0.0  0.1 34023608 34500 ?      S    23:08   0:00 /opt/google/chrome/chrome --type=broker\n",
            "wallabot    5343  0.0  0.3 1184780096 98820 ?    Sl   23:08   0:00 /opt/google/chrome/chrome --type=renderer --crashpad-handler-pid=5080 --enable-crash-reporter=, --extension-process --change-stack-guard-on-fork=enable --lang=es --num-raster-threads=4 --enable-main-frame-before-activation --renderer-client-id=45 --time-ticks-at-unix-epoch=-1670018798736448 --launch-time-ticks=121454617 --shared-files=v8_context_snapshot_data:100 --field-trial-handle=0,i,18391862866948577032,30807856093711604,131072\n",
            "wallabot    5381  0.0  0.0 197896 29728 ?        Sl   23:08   0:00 /usr/bin/python3 /usr/bin/chrome-gnome-shell chrome-extension://gphhapmejobijbbhgpjhcjognlahblep/\n",
            "wallabot    5467  0.8  0.5 1185857508 194536 ?   Sl   23:08   0:08 /opt/google/chrome/chrome --type=renderer --crashpad-handler-pid=5080 --enable-crash-reporter=, --change-stack-guard-on-fork=enable --lang=es --num-raster-threads=4 --enable-main-frame-before-activation --renderer-client-id=48 --time-ticks-at-unix-epoch=-1670018798736448 --launch-time-ticks=122388284 --shared-files=v8_context_snapshot_data:100 --field-trial-handle=0,i,18391862866948577032,30807856093711604,131072\n",
            "wallabot    5547  0.0  0.2 34155852 77000 ?      Sl   23:08   0:00 /opt/google/chrome/chrome --type=utility --utility-sub-type=audio.mojom.AudioService --lang=es --service-sandbox-type=none --crashpad-handler-pid=5080 --enable-crash-reporter=, --change-stack-guard-on-fork=enable --shared-files=v8_context_snapshot_data:100 --field-trial-handle=0,i,18391862866948577032,30807856093711604,131072\n",
            "wallabot    5584  0.0  0.3 1184798704 126008 ?   Sl   23:08   0:00 /opt/google/chrome/chrome --type=renderer --crashpad-handler-pid=5080 --enable-crash-reporter=, --change-stack-guard-on-fork=enable --lang=es --num-raster-threads=4 --enable-main-frame-before-activation --renderer-client-id=40 --time-ticks-at-unix-epoch=-1670018798736448 --launch-time-ticks=127275168 --shared-files=v8_context_snapshot_data:100 --field-trial-handle=0,i,18391862866948577032,30807856093711604,131072\n",
            "wallabot    5590  0.1  0.4 1184799064 148824 ?   Sl   23:08   0:01 /opt/google/chrome/chrome --type=renderer --crashpad-handler-pid=5080 --enable-crash-reporter=, --change-stack-guard-on-fork=enable --lang=es --num-raster-threads=4 --enable-main-frame-before-activation --renderer-client-id=28 --time-ticks-at-unix-epoch=-1670018798736448 --launch-time-ticks=127276723 --shared-files=v8_context_snapshot_data:100 --field-trial-handle=0,i,18391862866948577032,30807856093711604,131072\n",
            "wallabot    5592  8.3  0.8 1187976688 283688 ?   Sl   23:08   1:22 /opt/google/chrome/chrome --type=renderer --crashpad-handler-pid=5080 --enable-crash-reporter=, --change-stack-guard-on-fork=enable --lang=es --num-raster-threads=4 --enable-main-frame-before-activation --renderer-client-id=30 --time-ticks-at-unix-epoch=-1670018798736448 --launch-time-ticks=127278497 --shared-files=v8_context_snapshot_data:100 --field-trial-handle=0,i,18391862866948577032,30807856093711604,131072\n",
            "wallabot    5636  0.0  0.3 1184805876 122780 ?   Sl   23:08   0:00 /opt/google/chrome/chrome --type=renderer --crashpad-handler-pid=5080 --enable-crash-reporter=, --change-stack-guard-on-fork=enable --lang=es --num-raster-threads=4 --enable-main-frame-before-activation --renderer-client-id=51 --time-ticks-at-unix-epoch=-1670018798736448 --launch-time-ticks=127293028 --shared-files=v8_context_snapshot_data:100 --field-trial-handle=0,i,18391862866948577032,30807856093711604,131072\n",
            "wallabot    5753  0.0  0.3 1184796632 104664 ?   Sl   23:08   0:00 /opt/google/chrome/chrome --type=renderer --crashpad-handler-pid=5080 --enable-crash-reporter=, --change-stack-guard-on-fork=enable --lang=es --num-raster-threads=4 --enable-main-frame-before-activation --renderer-client-id=52 --time-ticks-at-unix-epoch=-1670018798736448 --launch-time-ticks=129692647 --shared-files=v8_context_snapshot_data:100 --field-trial-handle=0,i,18391862866948577032,30807856093711604,131072\n",
            "wallabot    5788  3.0  0.8 1185884504 276332 ?   Sl   23:08   0:29 /opt/google/chrome/chrome --type=renderer --crashpad-handler-pid=5080 --enable-crash-reporter=, --change-stack-guard-on-fork=enable --lang=es --num-raster-threads=4 --enable-main-frame-before-activation --renderer-client-id=19 --time-ticks-at-unix-epoch=-1670018798736448 --launch-time-ticks=130329055 --shared-files=v8_context_snapshot_data:100 --field-trial-handle=0,i,18391862866948577032,30807856093711604,131072\n",
            "wallabot    5828  1.9  0.9 1184827212 309156 ?   Sl   23:08   0:19 /opt/google/chrome/chrome --type=renderer --crashpad-handler-pid=5080 --enable-crash-reporter=, --change-stack-guard-on-fork=enable --lang=es --num-raster-threads=4 --enable-main-frame-before-activation --renderer-client-id=22 --time-ticks-at-unix-epoch=-1670018798736448 --launch-time-ticks=131345480 --shared-files=v8_context_snapshot_data:100 --field-trial-handle=0,i,18391862866948577032,30807856093711604,131072\n",
            "wallabot    5846  0.6  0.6 1184844960 207484 ?   Sl   23:08   0:06 /opt/google/chrome/chrome --type=renderer --crashpad-handler-pid=5080 --enable-crash-reporter=, --change-stack-guard-on-fork=enable --lang=es --num-raster-threads=4 --enable-main-frame-before-activation --renderer-client-id=36 --time-ticks-at-unix-epoch=-1670018798736448 --launch-time-ticks=131537892 --shared-files=v8_context_snapshot_data:100 --field-trial-handle=0,i,18391862866948577032,30807856093711604,131072\n",
            "wallabot    6066  0.5  0.6 1184828968 220584 ?   Sl   23:08   0:05 /opt/google/chrome/chrome --type=renderer --crashpad-handler-pid=5080 --enable-crash-reporter=, --change-stack-guard-on-fork=enable --lang=es --num-raster-threads=4 --enable-main-frame-before-activation --renderer-client-id=35 --time-ticks-at-unix-epoch=-1670018798736448 --launch-time-ticks=135569943 --shared-files=v8_context_snapshot_data:100 --field-trial-handle=0,i,18391862866948577032,30807856093711604,131072\n",
            "wallabot    6120  0.0  0.0  43992  6552 ?        Ss   23:08   0:00 /usr/lib/bluetooth/obexd\n",
            "wallabot    6134  0.4  0.7 1184856952 230428 ?   Sl   23:08   0:04 /opt/google/chrome/chrome --type=renderer --crashpad-handler-pid=5080 --enable-crash-reporter=, --change-stack-guard-on-fork=enable --lang=es --num-raster-threads=4 --enable-main-frame-before-activation --renderer-client-id=34 --time-ticks-at-unix-epoch=-1670018798736448 --launch-time-ticks=136358048 --shared-files=v8_context_snapshot_data:100 --field-trial-handle=0,i,18391862866948577032,30807856093711604,131072\n",
            "wallabot    6524  0.4  0.6 1184857312 226988 ?   Sl   23:08   0:04 /opt/google/chrome/chrome --type=renderer --crashpad-handler-pid=5080 --enable-crash-reporter=, --change-stack-guard-on-fork=enable --lang=es --num-raster-threads=4 --enable-main-frame-before-activation --renderer-client-id=33 --time-ticks-at-unix-epoch=-1670018798736448 --launch-time-ticks=139865567 --shared-files=v8_context_snapshot_data:100 --field-trial-handle=0,i,18391862866948577032,30807856093711604,131072\n",
            "wallabot    8034  0.0  0.1 1064452 54580 ?       Sl   23:10   0:00 /usr/bin/gnome-calendar --gapplication-service\n",
            "wallabot    8158  0.7  0.7 3981248 239132 ?      Sl   23:10   0:07 /snap/spotify/60/usr/share/spotify/spotify\n",
            "wallabot    8242  0.0  0.2 647244 77376 ?        S    23:10   0:00 /snap/spotify/60/usr/share/spotify/spotify --type=zygote --no-zygote-sandbox --no-sandbox --log-severity=disable --user-agent-product=Chrome/99.0.4844.84 Spotify/1.1.84.716 --lang=en --user-data-dir=/home/wallabot/snap/spotify/60/.config/spotify/User Data --log-file=/snap/spotify/60/usr/share/spotify/debug.log\n",
            "wallabot    8243  0.0  0.2 647244 77100 ?        S    23:10   0:00 /snap/spotify/60/usr/share/spotify/spotify --type=zygote --no-sandbox --log-severity=disable --user-agent-product=Chrome/99.0.4844.84 Spotify/1.1.84.716 --lang=en --user-data-dir=/home/wallabot/snap/spotify/60/.config/spotify/User Data --log-file=/snap/spotify/60/usr/share/spotify/debug.log\n",
            "wallabot    8259  0.1  0.3 2041284 114252 ?      Sl   23:10   0:01 /snap/spotify/60/usr/share/spotify/spotify --type=gpu-process --no-sandbox --log-severity=disable --user-agent-product=Chrome/99.0.4844.84 Spotify/1.1.84.716 --lang=en --user-data-dir=/home/wallabot/snap/spotify/60/.config/spotify/User Data --gpu-preferences=UAAAAAAAAAAgAAAIAAAAAAAAAAAAAAAAAABgAAAAAAAwAAAAAAAAAAAAAAAAAAAAAAAAAAAAAAAAAAAAAQAAABgAAAAAAAAAGAAAAAAAAAAIAAAAAAAAAAgAAAAAAAAACAAAAAAAAAA= --log-file=/snap/spotify/60/usr/share/spotify/debug.log --shared-files --field-trial-handle=0,i,8625640855432007833,7773453088797360000,131072\n",
            "wallabot    8274  0.0  0.1 868700 34104 ?        Sl   23:10   0:00 /snap/spotify/60/usr/share/spotify/spotify --type=utility --utility-sub-type=storage.mojom.StorageService --lang=en-US --service-sandbox-type=utility --no-sandbox --log-severity=disable --user-agent-product=Chrome/99.0.4844.84 Spotify/1.1.84.716 --lang=en --user-data-dir=/home/wallabot/snap/spotify/60/.config/spotify/User Data --log-file=/snap/spotify/60/usr/share/spotify/debug.log --shared-files=v8_context_snapshot_data:100 --field-trial-handle=0,i,8625640855432007833,7773453088797360000,131072\n",
            "wallabot    8279  0.0  0.3 1148480 99680 ?       Sl   23:10   0:00 /snap/spotify/60/usr/share/spotify/spotify --type=utility --utility-sub-type=network.mojom.NetworkService --lang=en-US --service-sandbox-type=none --no-sandbox --log-severity=disable --user-agent-product=Chrome/99.0.4844.84 Spotify/1.1.84.716 --lang=en --user-data-dir=/home/wallabot/snap/spotify/60/.config/spotify/User Data --log-file=/snap/spotify/60/usr/share/spotify/debug.log --shared-files=v8_context_snapshot_data:100 --field-trial-handle=0,i,8625640855432007833,7773453088797360000,131072\n",
            "wallabot    8319  0.5  0.5 31646352 187140 ?     Sl   23:10   0:05 /snap/spotify/60/usr/share/spotify/spotify --type=renderer --log-severity=disable --user-agent-product=Chrome/99.0.4844.84 Spotify/1.1.84.716 --disable-spell-checking --user-data-dir=/home/wallabot/snap/spotify/60/.config/spotify/User Data --no-sandbox --log-file=/snap/spotify/60/usr/share/spotify/debug.log --lang=en-US --num-raster-threads=4 --enable-main-frame-before-activation --renderer-client-id=5 --launch-time-ticks=210215195 --shared-files=v8_context_snapshot_data:100 --field-trial-handle=0,i,8625640855432007833,7773453088797360000,131072\n",
            "wallabot    8377  0.5  0.4 38371288 161752 ?     SLl  23:10   0:05 /usr/share/code/code --unity-launch --enable-crashpad\n",
            "wallabot    8391  0.0  0.1 33775112 48516 ?      S    23:10   0:00 /usr/share/code/code --type=zygote --no-zygote-sandbox --enable-crashpad --enable-crashpad\n",
            "wallabot    8392  0.0  0.1 33775096 48304 ?      S    23:10   0:00 /usr/share/code/code --type=zygote --enable-crashpad --enable-crashpad\n",
            "wallabot    8394  0.0  0.0 33775124 12448 ?      S    23:10   0:00 /usr/share/code/code --type=zygote --enable-crashpad --enable-crashpad\n",
            "wallabot    8407  0.0  0.0 33575984 3384 ?       Sl   23:10   0:00 /usr/share/code/chrome_crashpad_handler --monitor-self-annotation=ptype=crashpad-handler --no-rate-limit --database=/home/wallabot/.config/Code/Crashpad --url=appcenter://code?aid=fba07a4d-84bd-4fc8-a125-9640fc8ce171&uid=e1be826f-73fb-46c2-a439-9bb52643ccc1&iid=e1be826f-73fb-46c2-a439-9bb52643ccc1&sid=e1be826f-73fb-46c2-a439-9bb52643ccc1 --annotation=_companyName=Microsoft --annotation=_productName=VSCode --annotation=_version=1.73.1 --annotation=lsb-release=Ubuntu 20.04.5 LTS --annotation=plat=Linux --annotation=prod=Electron --annotation=ver=19.0.17 --initial-client-fd=43 --shared-client-connection\n",
            "wallabot    8425  1.5  0.5 33985512 195464 ?     Sl   23:10   0:14 /usr/share/code/code --type=gpu-process --enable-crashpad --crashpad-handler-pid=8407 --enable-crash-reporter=7a83c65f-14e6-4aa2-9df9-71fc458479f5,no_channel --user-data-dir=/home/wallabot/.config/Code --gpu-preferences=WAAAAAAAAAAgAAAIAAAAAAAAAAAAAAAAAABgAAAAAAA4AAAAAAAAAAAAAAAAAAAAAAAAAAAAAAAAAAAAAAAAACAAAAAAAAAAIAAAAAAAAAABAAAAAAAAAAgAAAAAAAAACAAAAAAAAAAIAAAAAAAAAA== --shared-files --field-trial-handle=0,i,8890103601020485358,15523745040863579529,131072 --disable-features=CalculateNativeWinOcclusion,SpareRendererForSitePerProcess\n",
            "wallabot    8429  0.0  0.2 33840968 66520 ?      Sl   23:10   0:00 /usr/share/code/code --type=utility --utility-sub-type=network.mojom.NetworkService --lang=es --service-sandbox-type=none --enable-crashpad --crashpad-handler-pid=8407 --enable-crash-reporter=7a83c65f-14e6-4aa2-9df9-71fc458479f5,no_channel --user-data-dir=/home/wallabot/.config/Code --standard-schemes=vscode-webview,vscode-file --secure-schemes=vscode-webview,vscode-file --bypasscsp-schemes --cors-schemes=vscode-webview,vscode-file --fetch-schemes=vscode-webview,vscode-file --service-worker-schemes=vscode-webview --streaming-schemes --shared-files=v8_context_snapshot_data:100 --field-trial-handle=0,i,8890103601020485358,15523745040863579529,131072 --disable-features=CalculateNativeWinOcclusion,SpareRendererForSitePerProcess --enable-crashpad\n",
            "wallabot    8439  0.0  0.0 33851528 23624 ?      S    23:10   0:00 /usr/share/code/code --type=broker\n",
            "wallabot    8449  8.5  1.1 61424852 390980 ?     Sl   23:10   1:16 /usr/share/code/code --type=renderer --enable-crashpad --crashpad-handler-pid=8407 --enable-crash-reporter=7a83c65f-14e6-4aa2-9df9-71fc458479f5,no_channel --user-data-dir=/home/wallabot/.config/Code --standard-schemes=vscode-webview,vscode-file --secure-schemes=vscode-webview,vscode-file --bypasscsp-schemes --cors-schemes=vscode-webview,vscode-file --fetch-schemes=vscode-webview,vscode-file --service-worker-schemes=vscode-webview --streaming-schemes --app-path=/usr/share/code/resources/app --no-sandbox --no-zygote --enable-blink-features=HighlightAPI --lang=es --num-raster-threads=4 --enable-main-frame-before-activation --renderer-client-id=4 --launch-time-ticks=217445761 --shared-files=v8_context_snapshot_data:100 --field-trial-handle=0,i,8890103601020485358,15523745040863579529,131072 --disable-features=CalculateNativeWinOcclusion,SpareRendererForSitePerProcess --vscode-window-config=vscode:13905479-a7dd-4e24-9b88-cf580c42a25d --enable-crashpad\n",
            "wallabot    8508  1.4  0.8 59175788 268364 ?     Sl   23:10   0:12 /usr/share/code/code --ms-enable-electron-run-as-node --inspect-port=0 /usr/share/code/resources/app/out/bootstrap-fork --type=extensionHost --skipWorkspaceStorageLock\n",
            "wallabot    8566  0.1  0.2 38136100 81468 ?      Sl   23:10   0:01 /usr/share/code/code --ms-enable-electron-run-as-node /home/wallabot/.vscode/extensions/kisstkondoros.vscode-gutter-preview-0.30.0/dist/server.js --node-ipc --clientProcessId=8508\n",
            "wallabot    8575  0.6  0.4 46670736 139408 ?     Sl   23:10   0:05 /usr/share/code/code --type=renderer --enable-crashpad --crashpad-handler-pid=8407 --enable-crash-reporter=7a83c65f-14e6-4aa2-9df9-71fc458479f5,no_channel --user-data-dir=/home/wallabot/.config/Code --standard-schemes=vscode-webview,vscode-file --secure-schemes=vscode-webview,vscode-file --bypasscsp-schemes --cors-schemes=vscode-webview,vscode-file --fetch-schemes=vscode-webview,vscode-file --service-worker-schemes=vscode-webview --streaming-schemes --app-path=/usr/share/code/resources/app --no-sandbox --no-zygote --node-integration-in-worker --lang=es --num-raster-threads=4 --enable-main-frame-before-activation --renderer-client-id=5 --launch-time-ticks=219833707 --shared-files=v8_context_snapshot_data:100 --field-trial-handle=0,i,8890103601020485358,15523745040863579529,131072 --disable-features=CalculateNativeWinOcclusion,SpareRendererForSitePerProcess --vscode-window-config=vscode:be96c98d-9154-449a-b127-c0211495f4ef --vscode-window-kind=shared-process --enable-crashpad\n",
            "wallabot    8593  0.0  0.2 38177772 78236 ?      Sl   23:10   0:00 /usr/share/code/code --ms-enable-electron-run-as-node /usr/share/code/resources/app/out/bootstrap-fork --type=ptyHost --logsPath /home/wallabot/.config/Code/logs/20221202T231016\n",
            "wallabot    8632  0.0  0.2 38185752 94568 ?      Sl   23:10   0:00 /usr/share/code/code --ms-enable-electron-run-as-node /usr/share/code/resources/app/out/bootstrap-fork --type=fileWatcher\n",
            "wallabot    8656  0.6  0.5 42430176 182480 ?     Sl   23:10   0:05 /usr/share/code/code --type=renderer --enable-crashpad --crashpad-handler-pid=8407 --enable-crash-reporter=7a83c65f-14e6-4aa2-9df9-71fc458479f5,no_channel --user-data-dir=/home/wallabot/.config/Code --standard-schemes=vscode-webview,vscode-file --secure-schemes=vscode-webview,vscode-file --bypasscsp-schemes --cors-schemes=vscode-webview,vscode-file --fetch-schemes=vscode-webview,vscode-file --service-worker-schemes=vscode-webview --streaming-schemes --app-path=/usr/share/code/resources/app --enable-sandbox --enable-blink-features=HighlightAPI --lang=es --num-raster-threads=4 --enable-main-frame-before-activation --renderer-client-id=6 --launch-time-ticks=220495638 --shared-files=v8_context_snapshot_data:100 --field-trial-handle=0,i,8890103601020485358,15523745040863579529,131072 --disable-features=CalculateNativeWinOcclusion,SpareRendererForSitePerProcess --vscode-window-config=vscode:13905479-a7dd-4e24-9b88-cf580c42a25d\n",
            "wallabot    8716  1.4  0.5 38140204 169984 ?     Sl   23:10   0:12 /usr/share/code/code --ms-enable-electron-run-as-node /home/wallabot/.vscode/extensions/ms-python.vscode-pylance-2022.11.40/dist/server.bundle.js --cancellationReceive=file:3646d9eb9edaa1bd82425403564df0006a57a0df01 --node-ipc --clientProcessId=8508\n",
            "wallabot    8744  0.1  0.3 38140204 104772 ?     Sl   23:10   0:01 /usr/share/code/code --ms-enable-electron-run-as-node /home/wallabot/.vscode/extensions/ms-python.vscode-pylance-2022.11.40/dist/server.bundle.js --cancellationReceive=file:f832ffa59d80abd5b35e8851e94332c285b2c3f9bb --node-ipc --clientProcessId=8508\n",
            "wallabot    8781  0.1  0.2 480956 77852 ?        Sl   23:10   0:01 /home/wallabot/anaconda3/bin/python -m ipykernel_launcher --ip=127.0.0.1 --stdin=9003 --control=9001 --hb=9000 --Session.signature_scheme=\"hmac-sha256\" --Session.key=b\"c6d890f5-5fb6-41d8-9a66-32d953505406\" --shell=9002 --transport=\"tcp\" --iopub=9004 --f=/home/wallabot/.local/share/jupyter/runtime/kernel-v2-8508kHWtNFMgKsBL.json\n",
            "wallabot    8788  0.0  0.0 116624 29744 ?        Sl   23:10   0:00 /bin/python3 /home/wallabot/.vscode/extensions/ms-python.isort-2022.8.0/bundled/tool/server.py\n",
            "wallabot    8898  0.6  0.4 38144304 146508 ?     Sl   23:10   0:05 /usr/share/code/code --ms-enable-electron-run-as-node /home/wallabot/.vscode/extensions/ms-python.vscode-pylance-2022.11.40/dist/server.bundle.js --cancellationReceive=file:f57d6ea9bb6b4fa6ae2a6938661d2443c126a7b3df --node-ipc --clientProcessId=8508\n",
            "wallabot    8911  0.0  0.2 38136100 70604 ?      Sl   23:10   0:00 /usr/share/code/code --ms-enable-electron-run-as-node /usr/share/code/resources/app/extensions/json-language-features/server/dist/node/jsonServerMain --node-ipc --clientProcessId=8508\n",
            "wallabot    8932  0.0  0.0  13648  5412 pts/0    Ss+  23:10   0:00 /usr/bin/bash --init-file /usr/share/code/resources/app/out/vs/workbench/contrib/terminal/browser/media/shellIntegration-bash.sh\n",
            "wallabot    9112  0.0  0.1 816596 50392 ?        Ssl  23:10   0:00 /usr/libexec/gnome-terminal-server\n",
            "wallabot    9120  0.0  0.0  13628  5212 pts/1    Ss+  23:10   0:00 bash\n",
            "wallabot   10927  0.0  0.3 1184807108 117996 ?   Sl   23:19   0:00 /opt/google/chrome/chrome --type=renderer --crashpad-handler-pid=5080 --enable-crash-reporter=, --change-stack-guard-on-fork=enable --lang=es --num-raster-threads=4 --enable-main-frame-before-activation --renderer-client-id=72 --time-ticks-at-unix-epoch=-1670018798736448 --launch-time-ticks=743183717 --shared-files=v8_context_snapshot_data:100 --field-trial-handle=0,i,18391862866948577032,30807856093711604,131072\n",
            "wallabot   11428  0.1  0.2 38136100 74884 ?      Sl   23:21   0:00 /usr/share/code/code --ms-enable-electron-run-as-node /usr/share/code/resources/app/extensions/markdown-language-features/server/dist/node/main --node-ipc --clientProcessId=8508\n",
            "wallabot   12009  0.0  0.2 1184730916 65832 ?    Sl   23:24   0:00 /opt/google/chrome/chrome --type=renderer --crashpad-handler-pid=5080 --enable-crash-reporter=, --change-stack-guard-on-fork=enable --lang=es --num-raster-threads=4 --enable-main-frame-before-activation --renderer-client-id=80 --time-ticks-at-unix-epoch=-1670018798736448 --launch-time-ticks=1081580044 --shared-files=v8_context_snapshot_data:100 --field-trial-handle=0,i,18391862866948577032,30807856093711604,131072\n",
            "wallabot   12109  0.0  0.0   2616   596 pts/2    Ss+  23:25   0:00 /usr/bin/sh -c ps aux | grep wallabot\n",
            "wallabot   12110  0.0  0.0  14192  3560 pts/2    R+   23:25   0:00 ps aux\n",
            "wallabot   12111  0.0  0.0  11668   660 pts/2    S+   23:25   0:00 grep wallabot\n"
          ]
        }
      ],
      "source": [
        "!ps aux | grep wallabot"
      ]
    },
    {
      "cell_type": "markdown",
      "metadata": {},
      "source": [
        "### Gerenciador de processos `top`"
      ]
    },
    {
      "cell_type": "markdown",
      "metadata": {},
      "source": [
        "Com `top` podemos ver todos os processos do sistema operativo. Ele nos mostrar\u00e1 a informa\u00e7\u00e3o com `less`, ent\u00e3o, assim como foi explicado antes, quando quiser parar o `top`, introduzindo `q` ele parar\u00e1."
      ]
    },
    {
      "cell_type": "code",
      "execution_count": 191,
      "metadata": {},
      "outputs": [
        {
          "name": "stdout",
          "output_type": "stream",
          "text": [
            "top - 09:31:32 up  3:21,  1 user,  load average: 2,42, 2,79, 2,48\n",
            "Tareas: 382 total,   1 ejecutar,  381 hibernar,    0 detener,    0 zombie\n",
            "%Cpu(s): 14,2 usuario,  1,5 sist,  0,0 adecuado, 84,3 inact,  0,0 en espera,  0,\n",
            "MiB Mem :  32006,4 total,  20281,8 libre,   6229,0 usado,   5495,6 b\u00fafer/cach\u00e9\n",
            "MiB Intercambio:   2048,0 total,   2048,0 libre,      0,0 usado.  24979,1 dispon\n",
            "\n",
            "    PID USUARIO   PR  NI    VIRT    RES    SHR S  %CPU  %MEM     HORA+ ORDEN    \n",
            "  10192 wallabot  20   0 3347636 388848  84140 S 137,5   1,2 282:24.59 python   \n",
            "  44161 wallabot  20   0   30,2g 217208 100148 S  12,5   0,7   0:40.92 spotify  \n",
            "     76 root      20   0       0      0      0 S   6,2   0,0   0:00.12 ksoftir+ \n",
            "   1105 root     -51   0       0      0      0 S   6,2   0,0   2:54.29 irq/125+ \n",
            "  43990 wallabot  20   0 3998836 246260 145800 S   6,2   0,8   0:53.69 spotify  \n",
            "  44101 wallabot  20   0 1995108 130316  89848 S   6,2   0,4   0:08.34 spotify  \n",
            "  51510 wallabot  20   0   14876   4088   3288 R   6,2   0,0   0:00.01 top      \n",
            "      1 root      20   0  169736  13188   8380 S   0,0   0,0   0:01.51 systemd  \n",
            "      2 root      20   0       0      0      0 S   0,0   0,0   0:00.00 kthreadd \n",
            "      3 root       0 -20       0      0      0 I   0,0   0,0   0:00.00 rcu_gp   \n",
            "      4 root       0 -20       0      0      0 I   0,0   0,0   0:00.00 rcu_par+ \n",
            "      5 root       0 -20       0      0      0 I   0,0   0,0   0:00.00 netns    \n",
            "      7 root       0 -20       0      0      0 I   0,0   0,0   0:00.00 kworker+ \n",
            "      9 root       0 -20       0      0      0 I   0,0   0,0   0:00.03 kworker+ \n",
            "     10 root       0 -20       0      0      0 I   0,0   0,0   0:00.00 mm_perc+ \n",
            "     11 root      20   0       0      0      0 S   0,0   0,0   0:00.00 rcu_tas+ \n",
            "     12 root      20   0       0      0      0 S   0,0   0,0   0:00.00 rcu_tas+\n"
          ]
        }
      ],
      "source": [
        "!top"
      ]
    },
    {
      "cell_type": "markdown",
      "metadata": {},
      "source": [
        "Como se pode ver, o `PID` 44161 \u00e9 o Spotify que estou usando agora para reproduzir m\u00fasica, mas com `ps` n\u00e3o o t\u00ednhamos visto"
      ]
    },
    {
      "cell_type": "markdown",
      "metadata": {},
      "source": [
        "Assim como antes, se quisermos matar um processo devemos introduzir `kill` e seu `PID`"
      ]
    },
    {
      "cell_type": "markdown",
      "metadata": {},
      "source": [
        "O bom do top \u00e9 que nos d\u00e1 muitas mais utilidades, se pressionarmos `h` nos mostrar\u00e1 ajuda"
      ]
    },
    {
      "cell_type": "code",
      "execution_count": 191,
      "metadata": {},
      "outputs": [
        {
          "name": "stdout",
          "output_type": "stream",
          "text": [
            "Help for Interactive Commands - procps-ng 3.3.16\n",
            "Window 1:Def: Cumulative mode Apagado.  System: Delay 3,0 secs; Secure mode Apag\n",
            "\n",
            "  Z,B,E,e   Global: 'Z' colors; 'B' bold; 'E'/'e' summary/task memory scale\n",
            "  l,t,m     Toggle Summary: 'l' load avg; 't' task/cpu stats; 'm' memory info\n",
            "  0,1,2,3,I Toggle: '0' zeros; '1/2/3' cpus or numa node views; 'I' Irix mode\n",
            "  f,F,X     Fields: 'f'/'F' add/remove/order/sort; 'X' increase fixed-width\n",
            "\n",
            "  L,&,<,> . Locate: 'L'/'&' find/again; Move sort column: '<'/'>' left/right\n",
            "  R,H,J,C . Toggle: 'R' Sort; 'H' Threads; 'J' Num justify; 'C' Coordinates\n",
            "  c,i,S,j . Toggle: 'c' Cmd name/line; 'i' Idle; 'S' Time; 'j' Str justify\n",
            "  x,y     . Toggle highlights: 'x' sort field; 'y' running tasks\n",
            "  z,b     . Toggle: 'z' color/mono; 'b' bold/reverse (only if 'x' or 'y')\n",
            "  u,U,o,O . Filter by: 'u'/'U' effective/any user; 'o'/'O' other criteria\n",
            "  n,#,^O  . Set: 'n'/'#' max tasks displayed; Show: Ctrl+'O' other filter(s)\n",
            "  V,v     . Toggle: 'V' forest view; 'v' hide/show forest view children\n",
            "\n",
            "  k,r Gestiona tareas: \u00abk\u00bb detener; \u00abr\u00bb reiniciar\n",
            "  d o s Establece intervalo de actualizaci\u00f3n\n",
            "  W,Y       Write configuration file 'W'; Inspect other output 'Y'\n",
            "  q         Quit\n",
            "          ( commands shown with '.' require a visible task display window ) \n",
            "Press 'h' or '?' for help with Windows,\n",
            "Type 'q' or <Esc> to continue\n"
          ]
        }
      ],
      "source": [
        "!h"
      ]
    },
    {
      "cell_type": "markdown",
      "metadata": {},
      "source": [
        "Para sair, pressione `ESC` ou `q`"
      ]
    },
    {
      "cell_type": "markdown",
      "metadata": {},
      "source": [
        "Como mostrado na ajuda, se introduzirmos `u` podemos filtrar por usu\u00e1rio. Introduzimos meu usu\u00e1rio (wallabot) e posso ver apenas meus processos."
      ]
    },
    {
      "cell_type": "code",
      "execution_count": 191,
      "metadata": {},
      "outputs": [
        {
          "name": "stdout",
          "output_type": "stream",
          "text": [
            "top - 09:35:57 up  3:25,  1 user,  load average: 1,02, 2,27, 2,39\n",
            "Tareas: 378 total,   1 ejecutar,  377 hibernar,    0 detener,    0 zombie\n",
            "%Cpu(s): 13,4 usuario,  0,4 sist,  0,0 adecuado, 86,1 inact,  0,1 en espera,  0,\n",
            "MiB Mem :  32006,4 total,  20288,0 libre,   6212,0 usado,   5506,4 b\u00fafer/cach\u00e9\n",
            "MiB Intercambio:   2048,0 total,   2048,0 libre,      0,0 usado.  24989,1 dispon\n",
            "\n",
            "    PID USUARIO   PR  NI    VIRT    RES    SHR S  %CPU  %MEM     HORA+ ORDEN    \n",
            "  10192 wallabot  20   0 3347636 388848  84140 S 148,2   1,2 288:46.50 python   \n",
            "  43990 wallabot  20   0 3998836 246552 146092 S   2,7   0,8   0:59.55 spotify  \n",
            "   1384 wallabot  20   0 4909848 453700 133164 S   1,7   1,4  11:14.02 gnome-s+ \n",
            "   1119 wallabot   9 -11 3093876  24504  17836 S   1,3   0,1   0:48.99 pulseau+ \n",
            "  32462 wallabot  20   0 1134,0g 643412 128632 S   1,3   2,0   7:39.91 chrome   \n",
            "  44161 wallabot  20   0   30,2g 217112 100488 S   1,3   0,7   0:44.87 spotify  \n",
            "  10135 wallabot  20   0  826220  58164  41648 S   1,0   0,2   0:14.56 gnome-t+ \n",
            "   6635 wallabot  20   0   33,0g 647936 436252 S   0,3   2,0   4:01.80 chrome   \n",
            "   6679 wallabot  20   0   32,4g 125564  94016 S   0,3   0,4   0:52.19 chrome   \n",
            "   8010 wallabot  20   0 1130,9g 232800 116092 S   0,3   0,7   0:13.70 chrome   \n",
            "  44101 wallabot  20   0 1995108 130444  89916 S   0,3   0,4   0:09.19 spotify  \n",
            "   1113 wallabot  20   0   19880  10528   8096 S   0,0   0,0   0:00.38 systemd  \n",
            "   1114 wallabot  20   0  169792   3636     12 S   0,0   0,0   0:00.00 (sd-pam) \n",
            "   1121 wallabot  39  19  591436  37256  16676 S   0,0   0,1   0:03.19 tracker+ \n",
            "   1124 wallabot  20   0  390740   8688   7416 S   0,0   0,0   0:00.45 gnome-k+ \n",
            "   1128 wallabot  20   0  166804   6596   5956 S   0,0   0,0   0:00.00 gdm-x-s+ \n",
            "   1134 wallabot  20   0    9152   6144   3796 S   0,0   0,0   0:01.81 dbus-da+\n"
          ]
        }
      ],
      "source": [
        "!u"
      ]
    },
    {
      "cell_type": "markdown",
      "metadata": {},
      "source": [
        "Outra forma de ver isso para poder filtrar por usu\u00e1rio seria fazer um pipeline e usar `grep`"
      ]
    },
    {
      "cell_type": "code",
      "execution_count": 191,
      "metadata": {},
      "outputs": [
        {
          "name": "stdout",
          "output_type": "stream",
          "text": [
            "   1440 wallabot  20   0 4684708 505432 118024 S   6,7   1,5   2:05.92 gnome-s+ \n",
            "  25326 wallabot  20   0 1133,0g 527912 123732 S   1,7   1,6   1:31.73 chrome   \n",
            "   1440 wallabot  20   0 4684708 505476 118024 S   1,3   1,5   2:05.96 gnome-s+ \n",
            "   6199 wallabot  20   0 1131,0g 266068 116164 S   0,3   0,8   0:15.23 chrome   \n",
            "  17606 wallabot  20   0  818228  52096  39488 S   0,3   0,2   0:02.59 gnome-t+ \n",
            "  34284 wallabot  20   0   14876   4376   3308 R   0,3   0,0   0:00.02 top\n"
          ]
        }
      ],
      "source": [
        "!top | grep wallabot"
      ]
    },
    {
      "cell_type": "markdown",
      "metadata": {},
      "source": [
        "### Gerenciador de processos `htop`"
      ]
    },
    {
      "cell_type": "markdown",
      "metadata": {},
      "source": [
        "\u00c9 parecido com `top`, mas mais potente",
        "\n",
        "Provavelmente voc\u00ea n\u00e3o o tenha instalado, ent\u00e3o para instal\u00e1-lo introduza o comando",
        "\n",
        "``` bash\n",
        "sudo apt install htop",
        "```",
        "\n",
        "S\u00f3 para confirmar, \u00bfquieres que traduzca \"o\" a \"o\" en portugu\u00e9s?",
        "\n",
        "``` bash\n```",
        "sudo snap install htop",
        "```"
      ]
    },
    {
      "cell_type": "markdown",
      "metadata": {},
      "source": [
        "content_filter_results: {'hate': {'filtered': False, 'severity': 'safe'}, 'self_harm': {'filtered': False, 'severity': 'safe'}, 'sexual': {'filtered': True, 'severity': 'medium'}, 'violence': {'filtered': False, 'severity': 'safe'}}\nmessage_content: None"
      ]
    },
    {
      "cell_type": "markdown",
      "metadata": {},
      "source": [
        "\u00c9 parecido com `top` mas mais potente",
        "\n",
        "Provavelmente voc\u00ea n\u00e3o o tenha instalado, ent\u00e3o para instal\u00e1-lo, insira o comando",
        "\n",
        "``` bash\n```",
        "sudo apt install glances",
        "```"
      ]
    },
    {
      "cell_type": "markdown",
      "metadata": {},
      "source": [
        "## Gerenciamento de mem\u00f3ria RAM"
      ]
    },
    {
      "cell_type": "markdown",
      "metadata": {},
      "source": [
        "Se s\u00f3 quisermos obter informa\u00e7\u00f5es da mem\u00f3ria, podemos usar o comando `free`"
      ]
    },
    {
      "cell_type": "code",
      "execution_count": 8,
      "metadata": {},
      "outputs": [
        {
          "name": "stdout",
          "output_type": "stream",
          "text": [
            "              total       usado       libre  compartido b\u00fafer/cach\u00e9  disponible\n",
            "Memoria:    32774516     6563544    20091804      276296     6119168    25479600\n",
            "Swap:       2097148           0     2097148\n"
          ]
        }
      ],
      "source": [
        "!free"
      ]
    },
    {
      "cell_type": "markdown",
      "metadata": {},
      "source": [
        "Mas como esta informa\u00e7\u00e3o n\u00e3o \u00e9 muito f\u00e1cil de digerir, adicionamos a flag `-h` (human), para que seja mais f\u00e1cil de ler"
      ]
    },
    {
      "cell_type": "code",
      "execution_count": 9,
      "metadata": {},
      "outputs": [
        {
          "name": "stdout",
          "output_type": "stream",
          "text": [
            "              total       usado       libre  compartido b\u00fafer/cach\u00e9  disponible\n",
            "Memoria:        31Gi       6,3Gi        19Gi       270Mi       5,8Gi        24Gi\n",
            "Swap:         2,0Gi          0B       2,0Gi\n"
          ]
        }
      ],
      "source": [
        "!free -h"
      ]
    },
    {
      "cell_type": "markdown",
      "metadata": {},
      "source": [
        "## Gerenciamento do disco r\u00edgido"
      ]
    },
    {
      "cell_type": "markdown",
      "metadata": {},
      "source": [
        "Para obter informa\u00e7\u00f5es do disco r\u00edgido fazemos uso do comando `du`, se apenas introduzirmos este comando no terminal ele nos dar\u00e1 a informa\u00e7\u00e3o de todas as pastas da nossa m\u00e1quina, por isso, para n\u00e3o obter muita informa\u00e7\u00e3o, \u00e9 necess\u00e1rio introduzir um caminho que queremos escanear."
      ]
    },
    {
      "cell_type": "code",
      "execution_count": 10,
      "metadata": {},
      "outputs": [
        {
          "name": "stdout",
          "output_type": "stream",
          "text": [
            "8\t/home/wallabot/Documentos/web/portafolio/posts/__pycache__\n",
            "1648\t/home/wallabot/Documentos/web/portafolio/posts/notebooks_translated\n",
            "4288\t/home/wallabot/Documentos/web/portafolio/posts/html_files\n",
            "336\t/home/wallabot/Documentos/web/portafolio/posts/prueba/tocompress\n",
            "1132\t/home/wallabot/Documentos/web/portafolio/posts/prueba\n",
            "16\t/home/wallabot/Documentos/web/portafolio/posts/introduccion_python/__pycache__\n",
            "28\t/home/wallabot/Documentos/web/portafolio/posts/introduccion_python\n",
            "11232\t/home/wallabot/Documentos/web/portafolio/posts/\n"
          ]
        }
      ],
      "source": [
        "!du ~/Documentos/web/portafolio/posts/"
      ]
    },
    {
      "cell_type": "markdown",
      "metadata": {},
      "source": [
        "Assim como antes, adicionamos a flag `-h` (human) para que seja mais f\u00e1cil de ler"
      ]
    },
    {
      "cell_type": "code",
      "execution_count": 11,
      "metadata": {},
      "outputs": [
        {
          "name": "stdout",
          "output_type": "stream",
          "text": [
            "8,0K\t/home/wallabot/Documentos/web/portafolio/posts/__pycache__\n",
            "1,7M\t/home/wallabot/Documentos/web/portafolio/posts/notebooks_translated\n",
            "4,2M\t/home/wallabot/Documentos/web/portafolio/posts/html_files\n",
            "336K\t/home/wallabot/Documentos/web/portafolio/posts/prueba/tocompress\n",
            "1,2M\t/home/wallabot/Documentos/web/portafolio/posts/prueba\n",
            "16K\t/home/wallabot/Documentos/web/portafolio/posts/introduccion_python/__pycache__\n",
            "28K\t/home/wallabot/Documentos/web/portafolio/posts/introduccion_python\n",
            "11M\t/home/wallabot/Documentos/web/portafolio/posts/\n"
          ]
        }
      ],
      "source": [
        "!du ~/Documentos/web/portafolio/posts/ -h"
      ]
    },
    {
      "cell_type": "markdown",
      "metadata": {},
      "source": [
        "## Gest\u00e3o de interfaces"
      ]
    },
    {
      "cell_type": "markdown",
      "metadata": {},
      "source": [
        "Em Ubuntu, por padr\u00e3o, iniciamos em uma interface gr\u00e1fica, mas podemos abrir outras interfaces, que n\u00e3o ser\u00e3o gr\u00e1ficas, introduzindo `CTRL`+`ALT`+`F<num>` onde o n\u00famero pode ir desde 1 at\u00e9 6. Somente a 2 ter\u00e1 a interface gr\u00e1fica e a 1 ser\u00e1 a tela de login"
      ]
    },
    {
      "cell_type": "markdown",
      "metadata": {},
      "source": [
        "Ao lidar com v\u00e1rias interfaces, podemos n\u00e3o saber em qual nos encontramos, ent\u00e3o, ao introduzir o comando `tty`, ele nos dir\u00e1 em qual estamos."
      ]
    },
    {
      "cell_type": "code",
      "execution_count": 1,
      "metadata": {},
      "outputs": [
        {
          "name": "stdout",
          "output_type": "stream",
          "text": [
            "/dev/pts/0\n"
          ]
        }
      ],
      "source": [
        "!tty"
      ]
    },
    {
      "cell_type": "markdown",
      "metadata": {},
      "source": [
        "## Gerenciamento de pacotes"
      ]
    },
    {
      "cell_type": "markdown",
      "metadata": {},
      "source": [
        "### Reposit\u00f3rios PPA (Personal Package Archives)"
      ]
    },
    {
      "cell_type": "markdown",
      "metadata": {},
      "source": [
        "Em Linux, a gest\u00e3o de pacotes \u00e9 feita atrav\u00e9s de reposit\u00f3rios. Isso \u00e9 uma lista de endere\u00e7os onde se encontram os bin\u00e1rios dos nossos programas. Assim, quando queremos atualizar ou instalar nossos programas (logo explicaremos como), o que o sistema operacional far\u00e1 \u00e9 ver a lista desses reposit\u00f3rios e ir aos endere\u00e7os indicados para buscar os bin\u00e1rios."
      ]
    },
    {
      "cell_type": "markdown",
      "metadata": {},
      "source": [
        "Esta lista de reposit\u00f3rios encontra-se em `/etc/apt/sources.list` e dentro da pasta `/etc/apt/sources.list.d`. Vamos ver essa lista."
      ]
    },
    {
      "cell_type": "code",
      "execution_count": 19,
      "metadata": {},
      "outputs": [
        {
          "name": "stdout",
          "output_type": "stream",
          "text": [
            "# deb cdrom:[Ubuntu 20.04.2.0 LTS _Focal Fossa_ - Release amd64 (20210209.1)]/ focal main restricted\n",
            "\n",
            "# See http://help.ubuntu.com/community/UpgradeNotes for how to upgrade to\n",
            "# newer versions of the distribution.\n",
            "deb http://es.archive.ubuntu.com/ubuntu/ focal main restricted\n",
            "# deb-src http://es.archive.ubuntu.com/ubuntu/ focal main restricted\n",
            "\n",
            "## Major bug fix updates produced after the final release of the\n",
            "## distribution.\n",
            "deb http://es.archive.ubuntu.com/ubuntu/ focal-updates main restricted\n",
            "\t ...\n",
            "deb https://developer.download.nvidia.com/compute/cuda/repos/ubuntu2004/x86_64/ /\n",
            "# deb-src https://developer.download.nvidia.com/compute/cuda/repos/ubuntu2004/x86_64/ /\n",
            "deb https://apt.kitware.com/ubuntu/ focal main\n",
            "# deb-src https://apt.kitware.com/ubuntu/ focal main\n",
            "\n"
          ]
        }
      ],
      "source": [
        "terminal(\"cat /etc/apt/sources.list\", max_lines_output=10)"
      ]
    },
    {
      "cell_type": "markdown",
      "metadata": {},
      "source": [
        "As primeiras linhas que incluem a palavra `cd-rom` s\u00e3o refer\u00eancias ao CD de instala\u00e7\u00e3o, sempre v\u00eam com as palavras `deb cdrom:` embora tenha sido instalado atrav\u00e9s da rede ou de um USB.",
        "\n",
        "A partir daqui come\u00e7am a aparecer diversas linhas que come\u00e7am com `deb` ou `deb-src`. Em `deb` est\u00e3o os bin\u00e1rios e em `deb-src` est\u00e1 o c\u00f3digo fonte.",
        "\n",
        "Toda dire\u00e7\u00e3o v\u00e1lida de reposit\u00f3rio tem um dos seguintes formatos:",
        "\n",
        "* deb http://endere\u00e7o_do_servidor/nome_pasta nome_da_vers\u00e3o (main ou universe ou multiverse ou main restricted, etc)",
        "* deb-src http://direccion_do_servidor/nome_pasta nome_da_vers\u00e3o (main ou universe ou multiverse ou main restricted, etc)"
      ]
    },
    {
      "cell_type": "markdown",
      "metadata": {},
      "source": [
        "Os seis tipos de reposit\u00f3rios do Ubuntu s\u00e3o:",
        " 1. Principal",
        "\n",
        "O reposit\u00f3rio `Main` est\u00e1 ativado por padr\u00e3o e cont\u00e9m apenas software livre e de c\u00f3digo aberto ou `FOSS` pela sua sigla em ingl\u00eas (Free and Open-Source Software).",
        "\n",
        " 2. Universo",
        "\n",
        "Como `Main`, `Universe` tamb\u00e9m oferece `FOSS`. A diferen\u00e7a \u00e9 que neste reposit\u00f3rio n\u00e3o \u00e9 o Ubuntu quem garante atualiza\u00e7\u00f5es de seguran\u00e7a regulares, mas sim a comunidade que se encarrega de seu suporte. Vem ativado por padr\u00e3o, mas nem sempre. Alguns sistemas operacionais o t\u00eam desativado por padr\u00e3o e podemos ter que ativ\u00e1-lo se estivermos executando uma Live Session. Se n\u00e3o o tivermos adicionado, podemos faz\u00ea-lo com este comando:",
        "    \n",
        "``` bash\n```",
        "sudo add-apt-repository universe",
        "```",
        "\n",
        "## O que encontramos no \u00abUniverse\u00bb? Eu diria que a maioria do software que vale a pena, entre os quais temos o VLC ou o OpenShot.",
        "\n",
        "3. Multiverso",
        "\n",
        "A partir daqui v\u00eam os reposit\u00f3rios do Ubuntu com menos liberdade. `Multiverse` cont\u00e9m software que j\u00e1 n\u00e3o \u00e9 `FOSS` e o Ubuntu n\u00e3o pode ativar este reposit\u00f3rio por padr\u00e3o devido a problemas legais e de licen\u00e7as. Por outro lado, tamb\u00e9m n\u00e3o pode fornecer patches e atualiza\u00e7\u00f5es. Com isso em mente, temos que considerar se o adicionamos ou n\u00e3o, algo que podemos fazer com este comando:",
        "\n",
        "``` bash\n```",
        "sudo add-apt-repository multiverse",
        "",
        "\n",
        "4. Restrito",
        "\n",
        "Nos reposit\u00f3rios do Ubuntu, podemos encontrar software livre e de c\u00f3digo aberto, mas isso n\u00e3o \u00e9 poss\u00edvel quando se trata de algo relacionado com o hardware. Nos reposit\u00f3rios `Restricted`, encontraremos drivers, como os de placas gr\u00e1ficas, pain\u00e9is t\u00e1cteis ou placas de rede.",
        "\n",
        "``` bash\n```\n",
        "sudo add-apt-repository restricted",
        "",
        "\n",
        "5. Parceiro",
        "\n",
        "Este reposit\u00f3rio cont\u00e9m software propriet\u00e1rio compilado pelo Ubuntu de seus parceiros.",
        "\n",
        "6. Reposit\u00f3rios de terceiros do Ubuntu",
        "\n",
        "Por fim, temos os reposit\u00f3rios de terceiros. O Ubuntu tenta oferecer sempre a melhor experi\u00eancia do usu\u00e1rio e esse \u00e9 um dos motivos pelo qual rejeita certo software. Tamb\u00e9m h\u00e1 desenvolvedores que preferem ter um controle total sobre o que oferecem e por esse motivo criam seus pr\u00f3prios reposit\u00f3rios."
      ]
    },
    {
      "cell_type": "markdown",
      "metadata": {},
      "source": [
        "### Adicionar reposit\u00f3rios"
      ]
    },
    {
      "cell_type": "markdown",
      "metadata": {},
      "source": [
        "Se estamos no Ubuntu, podemos adicionar um reposit\u00f3rio atrav\u00e9s do comando `add-apt-repository <repository>`. Mas em outras distribui\u00e7\u00f5es que n\u00e3o sejam o Ubuntu, n\u00e3o temos este comando"
      ]
    },
    {
      "cell_type": "markdown",
      "metadata": {},
      "source": [
        "### Atualizar os reposit\u00f3rios"
      ]
    },
    {
      "cell_type": "markdown",
      "metadata": {},
      "source": [
        "Mediante o comando `apt update` poderemos atualizar as \u00faltimas vers\u00f5es dos pacotes que temos em nosso reposit\u00f3rio."
      ]
    },
    {
      "cell_type": "markdown",
      "metadata": {},
      "source": [
        "### Atualizar os pacotes"
      ]
    },
    {
      "cell_type": "markdown",
      "metadata": {},
      "source": [
        "Mediante o comando `apt upgrade` poderemos atualizar os programas que temos instalados e dos quais antes tenhamos atualizado seu reposit\u00f3rio"
      ]
    },
    {
      "cell_type": "markdown",
      "metadata": {},
      "source": [
        "### Atualizar o kernel"
      ]
    },
    {
      "cell_type": "markdown",
      "metadata": {},
      "source": [
        "Se usarmos o comando `apt dist-upgrade` os pacotes do kernel tamb\u00e9m ser\u00e3o atualizados",
        "\n",
        "> Cuidado!: Atualizar pacotes do kernel pode levar a que alguns pacotes se quebrem",
        "\n",
        "> Lembrete: Ao atualizar pacotes do kernel, para que fa\u00e7am efeito \u00e9 necess\u00e1rio reiniciar o computador"
      ]
    },
    {
      "cell_type": "markdown",
      "metadata": {},
      "source": [
        "### Busca de pacotes"
      ]
    },
    {
      "cell_type": "markdown",
      "metadata": {},
      "source": [
        "Com o comando `apt search <paquete>` podemos encontrar pacotes"
      ]
    },
    {
      "cell_type": "code",
      "execution_count": 5,
      "metadata": {},
      "outputs": [
        {
          "name": "stdout",
          "output_type": "stream",
          "text": [
            "Ordenando...\n",
            "Buscar en todo el texto...\n",
            "anacrolix-dms/focal 1.1.0-1 amd64\n",
            "  Go UPnP DLNA Digital Media Server with basic video transcoding\n",
            "\n",
            "cubemap/focal 1.4.3-1build1 amd64\n",
            "  scalable video reflector, designed to be used with VLC\n",
            "\n",
            "dvblast/focal 3.4-1 amd64\n",
            "  Simple and powerful dvb-streaming application\n",
            "\t ...\n",
            "\n",
            "x264/focal 2:0.155.2917+git0a84d98-2 amd64\n",
            "  video encoder for the H.264/MPEG-4 AVC standard\n",
            "\n",
            "\n"
          ]
        }
      ],
      "source": [
        "terminal(\"apt search vlc\", max_lines_output=10)"
      ]
    },
    {
      "cell_type": "markdown",
      "metadata": {},
      "source": [
        "### Listagem de pacotes instalados"
      ]
    },
    {
      "cell_type": "markdown",
      "metadata": {},
      "source": [
        "Para ver quais pacotes temos instalados podemos usar `dpkg -l`, isso nos dar\u00e1 uma lista de todos os pacotes que temos instalados em nosso computador"
      ]
    },
    {
      "cell_type": "code",
      "execution_count": 6,
      "metadata": {},
      "outputs": [
        {
          "name": "stdout",
          "output_type": "stream",
          "text": [
            "Deseado=desconocido(U)/Instalar/eliminaR/Purgar/retener(H)\n",
            "| Estado=No/Inst/ficheros-Conf/desempaqUetado/medio-conF/medio-inst(H)/espera-disparo(W)/pendienTe-disparo\n",
            "|/ Err?=(ninguno)/requiere-Reinst (Estado,Err: may\u00fasc.=malo)\n",
            "||/ Nombre                                     Versi\u00f3n                               Arquitectura Descripci\u00f3n\n",
            "+++-==========================================-=====================================-============-===========================================================================================================================================================================================================================================================================================================================================================================================================================================\n",
            "ii  accountsservice                            0.6.55-0ubuntu12~20.04.5              amd64        query and manipulate user account information\n",
            "ii  acl                                        2.2.53-6                              amd64        access control list - utilities\n",
            "ii  acpi-support                               0.143                                 amd64        scripts for handling many ACPI events\n",
            "ii  acpid                                      1:2.0.32-1ubuntu1                     amd64        Advanced Configuration and Power Interface event daemon\n",
            "ii  adduser                                    3.118ubuntu2                          all          add and remove users and groups\n",
            "\t ...\n",
            "ii  zip                                        3.0-11build1                          amd64        Archiver for .zip files\n",
            "ii  zlib1g:amd64                               1:1.2.11.dfsg-2ubuntu1.5              amd64        compression library - runtime\n",
            "ii  zlib1g:i386                                1:1.2.11.dfsg-2ubuntu1.5              i386         compression library - runtime\n",
            "ii  zlib1g-dev:amd64                           1:1.2.11.dfsg-2ubuntu1.5              amd64        compression library - development\n",
            "\n"
          ]
        }
      ],
      "source": [
        "terminal(\"dpkg -l\", max_lines_output=10)"
      ]
    },
    {
      "cell_type": "markdown",
      "metadata": {},
      "source": [
        "Se quisermos verificar se temos um pacote instalado, podemos usar o comando anterior e criar um `pipe` e buscar o nome do pacote com `grep`"
      ]
    },
    {
      "cell_type": "code",
      "execution_count": 7,
      "metadata": {},
      "outputs": [
        {
          "name": "stdout",
          "output_type": "stream",
          "text": [
            "Deseado=desconocido(U)/Instalar/eliminaR/Purgar/retener(H)\n",
            "| Estado=No/Inst/ficheros-Conf/desempaqUetado/medio-conF/medio-inst(H)/espera-disparo(W)/pendienTe-disparo\n",
            "|/ Err?=(ninguno)/requiere-Reinst (Estado,Err: may\u00fasc.=malo)\n",
            "||/ Nombre         Versi\u00f3n      Arquitectura Descripci\u00f3n\n",
            "+++-==============-============-============-=================================\n",
            "ii  grep           3.4-1        amd64        GNU grep, egrep and fgrep\n",
            "ii  vlc            3.0.9.2-1    amd64        multimedia player and streamer\n",
            "\n"
          ]
        }
      ],
      "source": [
        "terminal(\"dpkg -l | grep vlc\")"
      ]
    },
    {
      "cell_type": "markdown",
      "metadata": {},
      "source": [
        "### Instalar pacotes baixados e n\u00e3o de reposit\u00f3rios"
      ]
    },
    {
      "cell_type": "markdown",
      "metadata": {},
      "source": [
        "Em algumas ocasi\u00f5es, quando voc\u00ea quer instalar um programa, o que fazem \u00e9 dar-lhe um arquivo `.deb`, ent\u00e3o, para instal\u00e1-lo, usamos o comando `dpkg -i <file.deb>`"
      ]
    },
    {
      "cell_type": "markdown",
      "metadata": {},
      "source": [
        "## Administrador de Usu\u00e1rios"
      ]
    },
    {
      "cell_type": "markdown",
      "metadata": {},
      "source": [
        "### Informa\u00e7\u00e3o do usu\u00e1rio ativo com `id`"
      ]
    },
    {
      "cell_type": "markdown",
      "metadata": {},
      "source": [
        "Mediante o comando `id` posso ver que usu\u00e1rio sou"
      ]
    },
    {
      "cell_type": "code",
      "execution_count": 8,
      "metadata": {},
      "outputs": [
        {
          "name": "stdout",
          "output_type": "stream",
          "text": [
            "uid=1000(wallabot) gid=1000(wallabot) grupos=1000(wallabot),4(adm),24(cdrom),27(sudo),30(dip),46(plugdev),120(lpadmin),131(lxd),132(sambashare),998(docker)\n"
          ]
        }
      ],
      "source": [
        "!id"
      ]
    },
    {
      "cell_type": "markdown",
      "metadata": {},
      "source": [
        "Com este comando posso ver meu `id`, a id do grupo `gid` e os grupos aos quais perten\u00e7o. Nas distribui\u00e7\u00f5es baseadas em Debian, os usu\u00e1rios recebem um id a partir de 1000, enquanto ao usu\u00e1rio root \u00e9 atribu\u00eddo o `id` 0"
      ]
    },
    {
      "cell_type": "markdown",
      "metadata": {},
      "source": [
        "### Informa\u00e7\u00e3o do usu\u00e1rio ativo com `whoami`"
      ]
    },
    {
      "cell_type": "markdown",
      "metadata": {},
      "source": [
        "Outro comando para saber qual usu\u00e1rio eu sou \u00e9 `whoami`"
      ]
    },
    {
      "cell_type": "code",
      "execution_count": 9,
      "metadata": {},
      "outputs": [
        {
          "name": "stdout",
          "output_type": "stream",
          "text": [
            "wallabot\n"
          ]
        }
      ],
      "source": [
        "!whoami"
      ]
    },
    {
      "cell_type": "markdown",
      "metadata": {},
      "source": [
        "### Arquivo com a informa\u00e7\u00e3o de todos os usu\u00e1rios"
      ]
    },
    {
      "cell_type": "markdown",
      "metadata": {},
      "source": [
        "A informa\u00e7\u00e3o dos usu\u00e1rios est\u00e1 no arquivo `/etc/passwd`"
      ]
    },
    {
      "cell_type": "code",
      "execution_count": 11,
      "metadata": {},
      "outputs": [
        {
          "name": "stdout",
          "output_type": "stream",
          "text": [
            "root:x:0:0:root:/root:/bin/bash\n",
            "daemon:x:1:1:daemon:/usr/sbin:/usr/sbin/nologin\n",
            "bin:x:2:2:bin:/bin:/usr/sbin/nologin\n",
            "sys:x:3:3:sys:/dev:/usr/sbin/nologin\n",
            "sync:x:4:65534:sync:/bin:/bin/sync\n",
            "games:x:5:60:games:/usr/games:/usr/sbin/nologin\n",
            "man:x:6:12:man:/var/cache/man:/usr/sbin/nologin\n",
            "lp:x:7:7:lp:/var/spool/lpd:/usr/sbin/nologin\n",
            "mail:x:8:8:mail:/var/mail:/usr/sbin/nologin\n",
            "news:x:9:9:news:/var/spool/news:/usr/sbin/nologin\n",
            "\t ...\n",
            "sshd:x:126:65534::/run/sshd:/usr/sbin/nologin\n",
            "nvidia-persistenced:x:127:135:NVIDIA Persistence Daemon,,,:/nonexistent:/usr/sbin/nologin\n",
            "fwupd-refresh:x:128:136:fwupd-refresh user,,,:/run/systemd:/usr/sbin/nologin\n",
            "glances:x:129:137::/var/lib/glances:/usr/sbin/nologin\n",
            "\n"
          ]
        }
      ],
      "source": [
        "terminal(\"cat /etc/passwd\", max_lines_output=10)"
      ]
    },
    {
      "cell_type": "markdown",
      "metadata": {},
      "source": [
        "### Alterar a senha de um usu\u00e1rio"
      ]
    },
    {
      "cell_type": "markdown",
      "metadata": {},
      "source": [
        "Se quiser mudar a senha de um usu\u00e1rio, deve-se usar o comando `passwd <user> <password>`. Se o usu\u00e1rio n\u00e3o for especificado, ser\u00e1 usado o valor retornado pelo comando `whoami`."
      ]
    },
    {
      "cell_type": "markdown",
      "metadata": {},
      "source": [
        "### Criar usu\u00e1rios com `useradd`"
      ]
    },
    {
      "cell_type": "markdown",
      "metadata": {},
      "source": [
        "Para criar um novo usu\u00e1rio, use o comando `useradd <nome do usu\u00e1rio>`, vamos criar um novo usu\u00e1rio."
      ]
    },
    {
      "cell_type": "code",
      "execution_count": 11,
      "metadata": {},
      "outputs": [
        {
          "name": "stdout",
          "output_type": "stream",
          "text": [
            "\n"
          ]
        }
      ],
      "source": [
        "!sudo useradd usertest1"
      ]
    },
    {
      "cell_type": "markdown",
      "metadata": {},
      "source": [
        "Vamos ver se est\u00e1 no arquivo com todos os usu\u00e1rios"
      ]
    },
    {
      "cell_type": "code",
      "execution_count": 1,
      "metadata": {},
      "outputs": [
        {
          "name": "stdout",
          "output_type": "stream",
          "text": [
            "usertest1:x:1001:1001::/home/usertest1:/bin/sh\n"
          ]
        }
      ],
      "source": [
        "!cat /etc/passwd | grep usertest"
      ]
    },
    {
      "cell_type": "markdown",
      "metadata": {},
      "source": [
        "Como vemos, foi criado o usu\u00e1rio com a `id` 1001, a pr\u00f3xima \u00e0 que tinha meu usu\u00e1rio wallabot, que era o \u00faltimo"
      ]
    },
    {
      "cell_type": "markdown",
      "metadata": {},
      "source": [
        "No entanto, ao criar este usu\u00e1rio n\u00e3o nos foi pedido que atribu\u00edmos uma senha. Al\u00e9m disso, se olharmos o que h\u00e1 dentro de `home`"
      ]
    },
    {
      "cell_type": "code",
      "execution_count": 2,
      "metadata": {},
      "outputs": [
        {
          "name": "stdout",
          "output_type": "stream",
          "text": [
            "wallabot\n"
          ]
        }
      ],
      "source": [
        "!ls /home"
      ]
    },
    {
      "cell_type": "markdown",
      "metadata": {},
      "source": [
        "S\u00f3 est\u00e1 a pasta do usu\u00e1rio `wallabot`, mas n\u00e3o a do usu\u00e1rio `test1`"
      ]
    },
    {
      "cell_type": "markdown",
      "metadata": {},
      "source": [
        "### Criar usu\u00e1rios com `adduser`"
      ]
    },
    {
      "cell_type": "markdown",
      "metadata": {},
      "source": [
        "Por isso vamos ver outro comando para criar usu\u00e1rios que sim pede uma senha e sim cria uma pasta em `home`. Este comando \u00e9 `adduser`"
      ]
    },
    {
      "cell_type": "code",
      "execution_count": 11,
      "metadata": {},
      "outputs": [
        {
          "name": "stdout",
          "output_type": "stream",
          "text": [
            "[sudo] contrase\u00f1a para wallabot: \n",
            "A\u00f1adiendo el usuario `usertest2' ...\n",
            "A\u00f1adiendo el nuevo grupo `usertest2' (1002) ...\n",
            "A\u00f1adiendo el nuevo usuario `usertest2' (1002) con grupo `usertest2' ...\n",
            "Creando el directorio personal `/home/usertest2' ...\n",
            "Copiando los ficheros desde `/etc/skel' ...\n",
            "Nueva contrase\u00f1a: \n",
            "Vuelva a escribir la nueva contrase\u00f1a: \n",
            "passwd: contrase\u00f1a actualizada correctamente\n",
            "Cambiando la informaci\u00f3n de usuario para usertest2\n",
            "Introduzca el nuevo valor, o presione INTRO para el predeterminado\n",
            "\tNombre completo []: \n",
            "\tN\u00famero de habitaci\u00f3n []: \n",
            "\tTel\u00e9fono del trabajo []: \n",
            "\tTel\u00e9fono de casa []: \n",
            "\tOtro []: \n",
            "\u00bfEs correcta la informaci\u00f3n? [S/n] s\n"
          ]
        }
      ],
      "source": [
        "!sudo adduser usertest2"
      ]
    },
    {
      "cell_type": "markdown",
      "metadata": {},
      "source": [
        "Se olharmos o arquivo com todos os usu\u00e1rios"
      ]
    },
    {
      "cell_type": "code",
      "execution_count": 3,
      "metadata": {},
      "outputs": [
        {
          "name": "stdout",
          "output_type": "stream",
          "text": [
            "usertest1:x:1001:1001::/home/usertest1:/bin/sh\n",
            "usertest2:x:1002:1002:,,,:/home/usertest2:/bin/bash\n"
          ]
        }
      ],
      "source": [
        "!cat /etc/passwd | grep usertest"
      ]
    },
    {
      "cell_type": "markdown",
      "metadata": {},
      "source": [
        "Vemos que foi criado o usu\u00e1rio `usertest2`"
      ]
    },
    {
      "cell_type": "code",
      "execution_count": 4,
      "metadata": {},
      "outputs": [
        {
          "name": "stdout",
          "output_type": "stream",
          "text": [
            "usertest2  wallabot\n"
          ]
        }
      ],
      "source": [
        "!ls /home"
      ]
    },
    {
      "cell_type": "markdown",
      "metadata": {},
      "source": [
        "E vemos que uma pasta foi criada para ele em `home`"
      ]
    },
    {
      "cell_type": "markdown",
      "metadata": {},
      "source": [
        "Para deletar um usu\u00e1rio, use o comando `userdel <username>`"
      ]
    },
    {
      "cell_type": "code",
      "execution_count": 11,
      "metadata": {},
      "outputs": [
        {
          "name": "stdout",
          "output_type": "stream",
          "text": [
            "\n"
          ]
        }
      ],
      "source": [
        "!sudo userdel usertest1"
      ]
    },
    {
      "cell_type": "code",
      "execution_count": 11,
      "metadata": {},
      "outputs": [
        {
          "name": "stdout",
          "output_type": "stream",
          "text": [
            "\n"
          ]
        }
      ],
      "source": [
        "!sudo userdel usertest2"
      ]
    },
    {
      "cell_type": "markdown",
      "metadata": {},
      "source": [
        "Vamos ver se est\u00e3o no arquivo com todos os usu\u00e1rios."
      ]
    },
    {
      "cell_type": "code",
      "execution_count": 5,
      "metadata": {},
      "outputs": [],
      "source": [
        "!cat /etc/passwd | grep usertest"
      ]
    },
    {
      "cell_type": "markdown",
      "metadata": {},
      "source": [
        "Vemos que j\u00e1 n\u00e3o aparece nada, de fato vemos o final desse arquivo."
      ]
    },
    {
      "cell_type": "code",
      "execution_count": 17,
      "metadata": {},
      "outputs": [
        {
          "name": "stdout",
          "output_type": "stream",
          "text": [
            "geoclue:x:122:127::/var/lib/geoclue:/usr/sbin/nologin\n",
            "pulse:x:123:128:PulseAudio daemon,,,:/var/run/pulse:/usr/sbin/nologin\n",
            "gnome-initial-setup:x:124:65534::/run/gnome-initial-setup/:/bin/false\n",
            "gdm:x:125:130:Gnome Display Manager:/var/lib/gdm3:/bin/false\n",
            "wallabot:x:1000:1000:wallabot,,,:/home/wallabot:/bin/bash\n",
            "systemd-coredump:x:999:999:systemd Core Dumper:/:/usr/sbin/nologin\n",
            "sshd:x:126:65534::/run/sshd:/usr/sbin/nologin\n",
            "nvidia-persistenced:x:127:135:NVIDIA Persistence Daemon,,,:/nonexistent:/usr/sbin/nologin\n",
            "fwupd-refresh:x:128:136:fwupd-refresh user,,,:/run/systemd:/usr/sbin/nologin\n",
            "glances:x:129:137::/var/lib/glances:/usr/sbin/nologin\n"
          ]
        }
      ],
      "source": [
        "!tail /etc/passwd"
      ]
    },
    {
      "cell_type": "markdown",
      "metadata": {},
      "source": [
        "## Fazer um usu\u00e1rio administrador"
      ]
    },
    {
      "cell_type": "markdown",
      "metadata": {},
      "source": [
        "Primeiro vamos criar um novo usu\u00e1rio, que no in\u00edcio n\u00e3o ser\u00e1 administrador"
      ]
    },
    {
      "cell_type": "code",
      "execution_count": 11,
      "metadata": {},
      "outputs": [
        {
          "name": "stdout",
          "output_type": "stream",
          "text": [
            "A\u00f1adiendo el usuario `noadmin' ...\n",
            "A\u00f1adiendo el nuevo grupo `noadmin' (1001) ...\n",
            "A\u00f1adiendo el nuevo usuario `noadmin' (1001) con grupo `noadmin' ...\n",
            "Creando el directorio personal `/home/noadmin' ...\n",
            "Copiando los ficheros desde `/etc/skel' ...\n",
            "Nueva contrase\u00f1a: \n",
            "Vuelva a escribir la nueva contrase\u00f1a: \n",
            "passwd: contrase\u00f1a actualizada correctamente\n",
            "Cambiando la informaci\u00f3n de usuario para noadmin\n",
            "Introduzca el nuevo valor, o presione INTRO para el predeterminado\n",
            "\tNombre completo []: \n",
            "\tN\u00famero de habitaci\u00f3n []: \n",
            "\tTel\u00e9fono del trabajo []: \n",
            "\tTel\u00e9fono de casa []: \n",
            "\tOtro []: \n",
            "\u00bfEs correcta la informaci\u00f3n? [S/n] s\n"
          ]
        }
      ],
      "source": [
        "!sudo adduser noadmin"
      ]
    },
    {
      "cell_type": "markdown",
      "metadata": {},
      "source": [
        "Vamos ver a quais grupos o usu\u00e1rio que acabamos de criar pertence, para isso usamos o comando `groups <user>`"
      ]
    },
    {
      "cell_type": "code",
      "execution_count": 6,
      "metadata": {},
      "outputs": [
        {
          "name": "stdout",
          "output_type": "stream",
          "text": [
            "noadmin : noadmin\n"
          ]
        }
      ],
      "source": [
        "!groups noadmin"
      ]
    },
    {
      "cell_type": "markdown",
      "metadata": {},
      "source": [
        "Como vemos, est\u00e1 apenas no grupo `noadmin`, que \u00e9 um grupo que foi criado ao criar o usu\u00e1rio"
      ]
    },
    {
      "cell_type": "markdown",
      "metadata": {},
      "source": [
        "Vamos ver a quais grupos meu usu\u00e1rio pertence"
      ]
    },
    {
      "cell_type": "code",
      "execution_count": 7,
      "metadata": {},
      "outputs": [
        {
          "name": "stdout",
          "output_type": "stream",
          "text": [
            "wallabot : wallabot adm cdrom sudo dip plugdev lpadmin lxd sambashare docker\n"
          ]
        }
      ],
      "source": [
        "!groups wallabot"
      ]
    },
    {
      "cell_type": "markdown",
      "metadata": {},
      "source": [
        "Como vemos, meu usu\u00e1rio pertence a v\u00e1rios grupos mais, entre eles a um chamado `sudo`. Os usu\u00e1rios que t\u00eam acesso a esse grupo t\u00eam poderes de administrador, por isso para que o novo usu\u00e1rio que criamos tenha esses poderes, \u00e9 necess\u00e1rio adicion\u00e1-lo ao grupo `sudo`."
      ]
    },
    {
      "cell_type": "markdown",
      "metadata": {},
      "source": [
        "Para adicionar um usu\u00e1rio a um grupo h\u00e1 duas maneiras: uma \u00e9 com o comando `gpasswd -a <user> <group>`"
      ]
    },
    {
      "cell_type": "code",
      "execution_count": 11,
      "metadata": {},
      "outputs": [
        {
          "name": "stdout",
          "output_type": "stream",
          "text": [
            "A\u00f1adiendo al usuario noadmin al grupo sudo\n"
          ]
        }
      ],
      "source": [
        "!sudo gpasswd -a noadmin sudo"
      ]
    },
    {
      "cell_type": "markdown",
      "metadata": {},
      "source": [
        "Vemos agora a quais grupos pertence o usu\u00e1rio `noadmin`"
      ]
    },
    {
      "cell_type": "code",
      "execution_count": 8,
      "metadata": {},
      "outputs": [
        {
          "name": "stdout",
          "output_type": "stream",
          "text": [
            "noadmin : noadmin sudo\n"
          ]
        }
      ],
      "source": [
        "!groups noadmin"
      ]
    },
    {
      "cell_type": "markdown",
      "metadata": {},
      "source": [
        "Como vemos, j\u00e1 pertence ao grupo sudo, por isso j\u00e1 teria poderes de administrador."
      ]
    },
    {
      "cell_type": "markdown",
      "metadata": {},
      "source": [
        "Removemos o usu\u00e1rio `noadmin` do grupo `sudo` com o comando `gpasswd -d <user> <group>`"
      ]
    },
    {
      "cell_type": "code",
      "execution_count": 7,
      "metadata": {},
      "outputs": [
        {
          "name": "stdout",
          "output_type": "stream",
          "text": [
            "Eliminando al usuario noadmin del grupo sudo\n"
          ]
        }
      ],
      "source": [
        "!sudo gpasswd -d noadmin sudo"
      ]
    },
    {
      "cell_type": "markdown",
      "metadata": {},
      "source": [
        "Vemos que `noadmin` j\u00e1 n\u00e3o pertence ao grupo `sudo`"
      ]
    },
    {
      "cell_type": "code",
      "execution_count": 10,
      "metadata": {},
      "outputs": [
        {
          "name": "stdout",
          "output_type": "stream",
          "text": [
            "noadmin : noadmin\n"
          ]
        }
      ],
      "source": [
        "!groups noadmin"
      ]
    },
    {
      "cell_type": "markdown",
      "metadata": {},
      "source": [
        "O segundo comando para adicionar um usu\u00e1rio a um grupo \u00e9 `usermod -aG <group> <user>`"
      ]
    },
    {
      "cell_type": "code",
      "execution_count": 7,
      "metadata": {},
      "outputs": [
        {
          "name": "stdout",
          "output_type": "stream",
          "text": [
            "\n"
          ]
        }
      ],
      "source": [
        "!sudo usermod -aG sudo noadmin"
      ]
    },
    {
      "cell_type": "markdown",
      "metadata": {},
      "source": [
        "Voltamos a ver a quais grupos pertence o usu\u00e1rio `noadmin`"
      ]
    },
    {
      "cell_type": "code",
      "execution_count": 11,
      "metadata": {},
      "outputs": [
        {
          "name": "stdout",
          "output_type": "stream",
          "text": [
            "noadmin : noadmin sudo\n"
          ]
        }
      ],
      "source": [
        "!groups noadmin"
      ]
    },
    {
      "cell_type": "markdown",
      "metadata": {},
      "source": [
        "Removemos o usu\u00e1rio `noadmin` do grupo `sudo` e o deletamos"
      ]
    },
    {
      "cell_type": "code",
      "execution_count": 7,
      "metadata": {},
      "outputs": [
        {
          "name": "stdout",
          "output_type": "stream",
          "text": [
            "Eliminando al usuario noadmin del grupo sudo\n"
          ]
        }
      ],
      "source": [
        "!sudo gpasswd -d noadmin sudo"
      ]
    },
    {
      "cell_type": "code",
      "execution_count": 7,
      "metadata": {},
      "outputs": [
        {
          "name": "stdout",
          "output_type": "stream",
          "text": [
            "\n"
          ]
        }
      ],
      "source": [
        "!sudo userdel noadmin"
      ]
    },
    {
      "cell_type": "markdown",
      "metadata": {},
      "source": [
        "## Hist\u00f3rico de Comandos"
      ]
    },
    {
      "cell_type": "markdown",
      "metadata": {},
      "source": [
        "### `history`"
      ]
    },
    {
      "cell_type": "markdown",
      "metadata": {},
      "source": [
        "Se no terminal introduzimos o comando `history`, vemos um hist\u00f3rico dos comandos utilizados"
      ]
    },
    {
      "cell_type": "code",
      "execution_count": 7,
      "metadata": {},
      "outputs": [
        {
          "name": "stdout",
          "output_type": "stream",
          "text": [
            " 1009  docker build . nvidia/cuda\n",
            " 1010  docker build --help\n",
            " 1011  docker build --build-arg nvidia/cuda\n",
            " 1012  docker build --build-arg [nvidia/cuda]\n",
            " 1013  cd ../docker/\n",
            " 1014  docker ps -a\n",
            " 1015  docker rm boring_wescoff \n",
            " 1016  docker compose up -d\n",
            " 1017  docker compose exec deepstream61 bash\n",
            " 1018  cd ..\n",
            "    ....\n",
            " 1996  ps\n",
            " 1997  ps aux\n",
            " 1998  camerasIP.sh \n",
            " 1999  sudo su\n",
            " 2000  sudo useradd usertest\n",
            " 2001  sudo userdel usertest\n",
            " 2002  sudo useradd usertest\n",
            " 2003  sudo userdel usertest\n",
            " 2004  sudo su\n",
            " 2005  sudo apt install history\n",
            " 2006  history\n",
            " 2007  clear\n",
            " 2008  history\n"
          ]
        }
      ],
      "source": [
        "!history"
      ]
    },
    {
      "cell_type": "markdown",
      "metadata": {},
      "source": [
        "Se quisermos executar um dos comandos do hist\u00f3rico, fazemos isso atrav\u00e9s de `!<num command>`, por exemplo, se eu quiser executar novamente o comando 1996"
      ]
    },
    {
      "cell_type": "code",
      "execution_count": 7,
      "metadata": {},
      "outputs": [
        {
          "name": "stdout",
          "output_type": "stream",
          "text": [
            "    PID TTY          TIME CMD\n",
            "   6610 pts/0    00:00:00 bash\n",
            "  20826 pts/0    00:00:00 ps\n"
          ]
        }
      ],
      "source": [
        "! !1996"
      ]
    },
    {
      "cell_type": "markdown",
      "metadata": {},
      "source": [
        "### `reverse-i-search`"
      ]
    },
    {
      "cell_type": "markdown",
      "metadata": {},
      "source": [
        "Uma maneira mais refinada de buscar no hist\u00f3rico \u00e9 introduzir `CTRL`+`r`. Ao fazer isso, aparecer\u00e1 a seguinte mensagem no console"
      ]
    },
    {
      "cell_type": "code",
      "execution_count": 7,
      "metadata": {},
      "outputs": [
        {
          "name": "stdout",
          "output_type": "stream",
          "text": [
            "\n"
          ]
        }
      ],
      "source": [
        "!reverse-i-search)`':"
      ]
    },
    {
      "cell_type": "markdown",
      "metadata": {},
      "source": [
        "De modo que \u00e0 medida que voc\u00ea for escrevendo, ir\u00e3o aparecendo comandos que coincidam com o que voc\u00ea digitou. Por exemplo, se eu digitar `if`, aparece a \u00faltima vez que utilizei `ifconfig`.",
        "\n",
        "Se voltarmos a introduzir `CTRL`+`r` ir\u00e3o aparecendo coincid\u00eancias mais antigas"
      ]
    },
    {
      "cell_type": "markdown",
      "metadata": {},
      "source": [
        "### Remover comandos do hist\u00f3rico"
      ]
    },
    {
      "cell_type": "markdown",
      "metadata": {},
      "source": [
        "H\u00e1 comandos como `ls`, `cd`, `pwd` que n\u00e3o trazem muito benef\u00edcio estarem no hist\u00f3rico, por isso pode-se configurar para que n\u00e3o sejam salvos no hist\u00f3rico. Para fazer isso, modificamos o arquivo `~/.bashrc` e adicionamos a linha `HISTIGNORE=\"pwd:ls:cd\"`"
      ]
    },
    {
      "cell_type": "markdown",
      "metadata": {},
      "source": [
        "## Seguran\u00e7a"
      ]
    },
    {
      "cell_type": "markdown",
      "metadata": {},
      "source": [
        "### Firewall `ufw`"
      ]
    },
    {
      "cell_type": "markdown",
      "metadata": {},
      "source": [
        "Ubuntu vem com o firewall `ufw` instalado, mas para verific\u00e1-lo usamos o seguinte comando"
      ]
    },
    {
      "cell_type": "code",
      "execution_count": 7,
      "metadata": {},
      "outputs": [
        {
          "name": "stdout",
          "output_type": "stream",
          "text": [
            "Estado: inactivo\n"
          ]
        }
      ],
      "source": [
        "!sudo ufw status"
      ]
    },
    {
      "cell_type": "markdown",
      "metadata": {},
      "source": [
        "Como vemos, por padr\u00e3o est\u00e1 inativo, portanto, vamos criar um conjunto de regras. Por exemplo, vamos come\u00e7ar abrindo a porta 22 (SSH), para isso usamos o comando `sudo allow <port> comment \"<coment>\"`, com o qual abrimos uma porta e adicionamos um coment\u00e1rio."
      ]
    },
    {
      "cell_type": "code",
      "execution_count": 7,
      "metadata": {},
      "outputs": [
        {
          "name": "stdout",
          "output_type": "stream",
          "text": [
            "Regla a\u00f1adida\n",
            "Regla a\u00f1adida (v6)\n"
          ]
        }
      ],
      "source": [
        "!sudo ufw allow 22 comment 'ssh'"
      ]
    },
    {
      "cell_type": "markdown",
      "metadata": {},
      "source": [
        "Como vemos, abriu a porta 22 para IPv4 e IPv6. Vamos agora ativar o `ufw` com o comando `ufw enable`"
      ]
    },
    {
      "cell_type": "code",
      "execution_count": 7,
      "metadata": {},
      "outputs": [
        {
          "name": "stdout",
          "output_type": "stream",
          "text": [
            "El cortafuegos est\u00e1 activo y habilitado en el arranque del sistema\n"
          ]
        }
      ],
      "source": [
        "!sudo ufw enable"
      ]
    },
    {
      "cell_type": "markdown",
      "metadata": {},
      "source": [
        "Se quisermos ver as regras que temos no firewall, usamos o comando `ufw status`"
      ]
    },
    {
      "cell_type": "code",
      "execution_count": 7,
      "metadata": {},
      "outputs": [
        {
          "name": "stdout",
          "output_type": "stream",
          "text": [
            "Hasta                      Acci\u00f3n      Desde\n",
            "-----                      ------      -----\n",
            "22                         ALLOW       Anywhere                   # ssh\n",
            "22 (v6)                    ALLOW       Anywhere (v6)              # ssh\n"
          ]
        }
      ],
      "source": [
        "!sudo ufw enable"
      ]
    },
    {
      "cell_type": "markdown",
      "metadata": {},
      "source": [
        "Tamb\u00e9m podemos dizer-lhe que nos mostre as regras numeradas com o comando `ufw status numbered`"
      ]
    },
    {
      "cell_type": "code",
      "execution_count": 7,
      "metadata": {},
      "outputs": [
        {
          "name": "stdout",
          "output_type": "stream",
          "text": [
            "Estado: activo\n",
            "\n",
            "     Hasta                      Acci\u00f3n      Desde\n",
            "     -----                      ------      -----\n",
            "[ 1] 22                         ALLOW IN    Anywhere                   # ssh\n",
            "[ 2] 22 (v6)                    ALLOW IN    Anywhere (v6)              # ssh\n"
          ]
        }
      ],
      "source": [
        "!sudo ufw status numbered"
      ]
    },
    {
      "cell_type": "markdown",
      "metadata": {},
      "source": [
        "Como as temos numeradas podemos eliminar uma mediante o comando `ufw delete <rule number>`, portanto para apagar a regra para IPv6 fazemos"
      ]
    },
    {
      "cell_type": "code",
      "execution_count": 7,
      "metadata": {},
      "outputs": [
        {
          "name": "stdout",
          "output_type": "stream",
          "text": [
            "Estado: activo\n",
            "\n",
            "Borrando:\n",
            " allow 22 comment 'ssh'\n",
            "\u00bfContinuar con la operaci\u00f3n (s|n)? s\n",
            "Regla eliminada (v6)\n"
          ]
        }
      ],
      "source": [
        "!sudo ufw delete 2"
      ]
    },
    {
      "cell_type": "markdown",
      "metadata": {},
      "source": [
        "Voltamos a ver o estado"
      ]
    },
    {
      "cell_type": "code",
      "execution_count": 7,
      "metadata": {},
      "outputs": [
        {
          "name": "stdout",
          "output_type": "stream",
          "text": [
            "Estado: activo\n",
            "\n",
            "     Hasta                      Acci\u00f3n      Desde\n",
            "     -----                      ------      -----\n",
            "[ 1] 22                         ALLOW IN    Anywhere                   # ssh\n"
          ]
        }
      ],
      "source": [
        "!sudo ufw status numbered"
      ]
    },
    {
      "cell_type": "markdown",
      "metadata": {},
      "source": [
        "Vemos que efetivamente foi eliminada a regra n\u00famero 2."
      ]
    },
    {
      "cell_type": "markdown",
      "metadata": {},
      "source": [
        "Se queremos habilitar a conex\u00e3o SSH a partir de um \u00fanico IP, usamos a flag `from <IP>`"
      ]
    },
    {
      "cell_type": "code",
      "execution_count": 7,
      "metadata": {},
      "outputs": [
        {
          "name": "stdout",
          "output_type": "stream",
          "text": [
            "Regla a\u00f1adida\n"
          ]
        }
      ],
      "source": [
        "!sudo ufw  allow from 192.168.1.103 proto tcp to any port 22 comment 'ssh ip'"
      ]
    },
    {
      "cell_type": "markdown",
      "metadata": {},
      "source": [
        "Certo. Vamos rever as regras."
      ]
    },
    {
      "cell_type": "code",
      "execution_count": 7,
      "metadata": {},
      "outputs": [
        {
          "name": "stdout",
          "output_type": "stream",
          "text": [
            "Estado: activo\n",
            "\n",
            "     Hasta                      Acci\u00f3n      Desde\n",
            "     -----                      ------      -----\n",
            "[ 1] 22                         ALLOW IN    Anywhere                   # ssh\n",
            "[ 2] 22/tcp                     ALLOW IN    192.168.1.103              # ssh ip\n"
          ]
        }
      ],
      "source": [
        "!sudo ufw status numbered"
      ]
    },
    {
      "cell_type": "markdown",
      "metadata": {},
      "source": [
        "Se quisermos apagar todas as regras usamos o comando `reset`"
      ]
    },
    {
      "cell_type": "code",
      "execution_count": 7,
      "metadata": {},
      "outputs": [
        {
          "name": "stdout",
          "output_type": "stream",
          "text": [
            "Estado: activo\n",
            "\n",
            "Reiniciando todas las reglas a sus valores predeterminados instalados.\n",
            "\u00bfContinuar con la operaci\u00f3n (s|n)? s\n",
            "Respaldando \u00abuser.rules\u00bb en \u00ab/etc/ufw/user.rules.20221205_171730\u00bb\n",
            "Respaldando \u00abbefore.rules\u00bb en \u00ab/etc/ufw/before.rules.20221205_171730\u00bb\n",
            "Respaldando \u00abafter.rules\u00bb en \u00ab/etc/ufw/after.rules.20221205_171730\u00bb\n",
            "Respaldando \u00abuser6.rules\u00bb en \u00ab/etc/ufw/user6.rules.20221205_171730\u00bb\n",
            "Respaldando \u00abbefore6.rules\u00bb en \u00ab/etc/ufw/before6.rules.20221205_171730\u00bb\n",
            "Respaldando \u00abafter6.rules\u00bb en \u00ab/etc/ufw/after6.rules.20221205_171730\u00bb\n"
          ]
        }
      ],
      "source": [
        "!sudo ufw reset"
      ]
    },
    {
      "cell_type": "markdown",
      "metadata": {},
      "source": [
        "Voltamos a verificar o estado"
      ]
    },
    {
      "cell_type": "code",
      "execution_count": 7,
      "metadata": {},
      "outputs": [
        {
          "name": "stdout",
          "output_type": "stream",
          "text": [
            "Estado: inactivo\n"
          ]
        }
      ],
      "source": [
        "!sudo ufw status numbered"
      ]
    },
    {
      "cell_type": "markdown",
      "metadata": {},
      "source": [
        "Vemos que j\u00e1 n\u00e3o h\u00e1 nenhuma regra"
      ]
    },
    {
      "cell_type": "markdown",
      "metadata": {},
      "source": [
        "Para desativar o firewall usamos o comando `ufw disable`"
      ]
    },
    {
      "cell_type": "code",
      "execution_count": 7,
      "metadata": {},
      "outputs": [
        {
          "name": "stdout",
          "output_type": "stream",
          "text": [
            "El cortafuegos est\u00e1 detenido y deshabilitado en el arranque del sistema\n"
          ]
        }
      ],
      "source": [
        "!sudo ufw disable"
      ]
    },
    {
      "cell_type": "markdown",
      "metadata": {},
      "source": [
        "Voltamos a verificar o estado"
      ]
    },
    {
      "cell_type": "code",
      "execution_count": 7,
      "metadata": {},
      "outputs": [
        {
          "name": "stdout",
          "output_type": "stream",
          "text": [
            "Estado: inactivo\n"
          ]
        }
      ],
      "source": [
        "!sudo ufw status"
      ]
    },
    {
      "cell_type": "markdown",
      "metadata": {},
      "source": [
        "### Auditoria de seguran\u00e7a com `Lynis`"
      ]
    },
    {
      "cell_type": "markdown",
      "metadata": {},
      "source": [
        "Para instalar o Lynis voc\u00ea deve usar o comando `sudo apt install lynis`"
      ]
    },
    {
      "cell_type": "markdown",
      "metadata": {},
      "source": [
        "Para fazer uma auditoria do seu sistema \u00e9 preciso usar o comando `lynis audit system`. Isso come\u00e7a a fazer uma varredura de todo o sistema e te reporta.",
        "\n",
        "> N\u00e3o vou mostrar o resultado da varredura do meu sistema para n\u00e3o expor minhas vulnerabilidades na internet"
      ]
    },
    {
      "cell_type": "markdown",
      "metadata": {},
      "source": [
        "## Programa\u00e7\u00e3o de comandos"
      ]
    },
    {
      "cell_type": "markdown",
      "metadata": {},
      "source": [
        "### Programa\u00e7\u00e3o de comandos peri\u00f3dicos com `cron`"
      ]
    },
    {
      "cell_type": "markdown",
      "metadata": {},
      "source": [
        "Com o comando `cron` podemos programar comandos para que sejam executados periodicamente. Para isso, temos que editar o arquivo `/etc/crontab`"
      ]
    },
    {
      "cell_type": "code",
      "execution_count": 22,
      "metadata": {},
      "outputs": [
        {
          "name": "stdout",
          "output_type": "stream",
          "text": [
            "# /etc/crontab: system-wide crontab\n",
            "# Unlike any other crontab you don't have to run the `crontab'\n",
            "# command to install the new version when you edit this file\n",
            "# and files in /etc/cron.d. These files also have username fields,\n",
            "# that none of the other crontabs do.\n",
            "\n",
            "SHELL=/bin/sh\n",
            "PATH=/usr/local/sbin:/usr/local/bin:/sbin:/bin:/usr/sbin:/usr/bin\n",
            "\n",
            "# Example of job definition:\n",
            "# .---------------- minute (0 - 59)\n",
            "# |  .------------- hour (0 - 23)\n",
            "# |  |  .---------- day of month (1 - 31)\n",
            "# |  |  |  .------- month (1 - 12) OR jan,feb,mar,apr ...\n",
            "# |  |  |  |  .---- day of week (0 - 6) (Sunday=0 or 7) OR sun,mon,tue,wed,thu,fri,sat\n",
            "# |  |  |  |  |\n",
            "# *  *  *  *  * user-name command to be executed\n",
            "17 *\t* * *\troot    cd / && run-parts --report /etc/cron.hourly\n",
            "25 6\t* * *\troot\ttest -x /usr/sbin/anacron || ( cd / && run-parts --report /etc/cron.daily )\n",
            "47 6\t* * 7\troot\ttest -x /usr/sbin/anacron || ( cd / && run-parts --report /etc/cron.weekly )\n",
            "52 6\t1 * *\troot\ttest -x /usr/sbin/anacron || ( cd / && run-parts --report /etc/cron.monthly )\n",
            "#\n"
          ]
        }
      ],
      "source": [
        "!cat /etc/crontab"
      ]
    },
    {
      "cell_type": "markdown",
      "metadata": {},
      "source": [
        "Como pode ser visto, neste arquivo h\u00e1 uma s\u00e9rie de comandos que s\u00e3o executados periodicamente. O formato desses comandos \u00e9 o seguinte",
        "\n",
        "",
        "<minuto> <hora> <dia do m\u00eas> <m\u00eas> <dia da semana> <usu\u00e1rio> <comando>",
        "```",
        "\n"
      ]
    },
    {
      "cell_type": "markdown",
      "metadata": {},
      "source": [
        "Para criar bem a data em que voc\u00ea deseja que o comando seja executado, h\u00e1 um monte de p\u00e1ginas online que te ajudam a escrev\u00ea-lo corretamente, como por exemplo [crontab guru](https://crontab.guru/)"
      ]
    },
    {
      "cell_type": "markdown",
      "metadata": {},
      "source": [
        "### Programa\u00e7\u00e3o de comandos de execu\u00e7\u00e3o \u00fanica com `at`"
      ]
    },
    {
      "cell_type": "markdown",
      "metadata": {},
      "source": [
        "Quando queremos que no futuro se execute um comando, mas n\u00e3o queremos que isso ocorra periodicamente, e sim apenas uma vez, podemos usar o comando `at`. Por exemplo, voc\u00ea liga uma m\u00e1quina da Azure, ou Amazon, pela qual \u00e9 cobrado, e quer ter certeza de que ela ser\u00e1 desligada para evitar surpresas na fatura. Pode-se programar para que \u00e0 noite a m\u00e1quina se desligue. Assim, mesmo que voc\u00ea esque\u00e7a de deslig\u00e1-la, ela se desligar\u00e1 sozinha."
      ]
    },
    {
      "cell_type": "markdown",
      "metadata": {},
      "source": [
        "Fazemos um `ls` na pasta `/tmp`"
      ]
    },
    {
      "cell_type": "code",
      "execution_count": 15,
      "metadata": {},
      "outputs": [
        {
          "name": "stdout",
          "output_type": "stream",
          "text": [
            "total 60\n",
            "-rw------- 1 wallabot wallabot    0 sep 24 08:51 config-err-QM3AAe\n",
            "-rw-r--r-- 1 root     root     2049 sep 24 08:51 glances-root.log\n",
            "drwx------ 2 wallabot wallabot 4096 sep 24 09:06 pyright-9853-BG3nXEXw0Tao\n",
            "drwxrwxr-x 3 wallabot wallabot 4096 sep 24 09:06 python-languageserver-cancellation\n",
            "drwx------ 3 root     root     4096 sep 24 08:51 snap-private-tmp\n",
            "drwx------ 2 wallabot wallabot 4096 sep 24 08:51 ssh-mHjlSPPoqCp7\n",
            "drwx------ 3 root     root     4096 sep 24 08:51 systemd-private-371a1d9479324db8bd79b6844b8b589b-colord.service-rpjPri\n",
            "drwx------ 3 root     root     4096 sep 24 08:51 systemd-private-371a1d9479324db8bd79b6844b8b589b-fwupd.service-FzPoQf\n",
            "drwx------ 3 root     root     4096 sep 24 08:51 systemd-private-371a1d9479324db8bd79b6844b8b589b-geoclue.service-F6pMWi\n",
            "drwx------ 3 root     root     4096 sep 24 08:51 systemd-private-371a1d9479324db8bd79b6844b8b589b-ModemManager.service-Orf6Bi\n",
            "drwx------ 3 root     root     4096 sep 24 08:51 systemd-private-371a1d9479324db8bd79b6844b8b589b-switcheroo-control.service-1QXRqj\n",
            "drwx------ 3 root     root     4096 sep 24 08:51 systemd-private-371a1d9479324db8bd79b6844b8b589b-systemd-logind.service-lL35tg\n",
            "drwx------ 3 root     root     4096 sep 24 08:51 systemd-private-371a1d9479324db8bd79b6844b8b589b-systemd-resolved.service-iaswSi\n",
            "drwx------ 3 root     root     4096 sep 24 08:51 systemd-private-371a1d9479324db8bd79b6844b8b589b-systemd-timesyncd.service-Yet8lj\n",
            "drwx------ 3 root     root     4096 sep 24 08:51 systemd-private-371a1d9479324db8bd79b6844b8b589b-upower.service-oTL7Gg\n",
            "drwx------ 2 wallabot wallabot 4096 sep 24 09:31 tracker-extract-files.1000\n"
          ]
        }
      ],
      "source": [
        "!ls -l /tmp"
      ]
    },
    {
      "cell_type": "markdown",
      "metadata": {},
      "source": [
        "Agora vamos programar a cria\u00e7\u00e3o de um novo arquivo em `/tmp` dentro de 5 minutos"
      ]
    },
    {
      "cell_type": "code",
      "execution_count": 19,
      "metadata": {},
      "outputs": [
        {
          "name": "stdout",
          "output_type": "stream",
          "text": [
            "warning: commands will be executed using /bin/sh\n",
            "at> touch /tmp/at.txt\n",
            "at> <EOT>\n",
            "job 1 at Sun Sep 24 09:55:00 2023\n"
          ]
        }
      ],
      "source": [
        "!at 09:55 touch /tmp/at.txt"
      ]
    },
    {
      "cell_type": "markdown",
      "metadata": {},
      "source": [
        "Como vemos, \u00e9 preciso escrever `at <time>` e, na linha seguinte, o comando que queremos que seja executado"
      ]
    },
    {
      "cell_type": "markdown",
      "metadata": {},
      "source": [
        "Vemos agora os arquivos que est\u00e3o em `/tmp`"
      ]
    },
    {
      "cell_type": "code",
      "execution_count": 20,
      "metadata": {},
      "outputs": [
        {
          "name": "stdout",
          "output_type": "stream",
          "text": [
            "total 60\n",
            "-rw-rw-r-- 1 wallabot wallabot    0 sep 24 09:55 at.txt\n",
            "-rw------- 1 wallabot wallabot    0 sep 24 08:51 config-err-QM3AAe\n",
            "-rw-r--r-- 1 root     root     2049 sep 24 08:51 glances-root.log\n",
            "drwx------ 2 wallabot wallabot 4096 sep 24 09:06 pyright-9853-BG3nXEXw0Tao\n",
            "drwxrwxr-x 3 wallabot wallabot 4096 sep 24 09:06 python-languageserver-cancellation\n",
            "drwx------ 3 root     root     4096 sep 24 08:51 snap-private-tmp\n",
            "drwx------ 2 wallabot wallabot 4096 sep 24 08:51 ssh-mHjlSPPoqCp7\n",
            "drwx------ 3 root     root     4096 sep 24 08:51 systemd-private-371a1d9479324db8bd79b6844b8b589b-colord.service-rpjPri\n",
            "drwx------ 3 root     root     4096 sep 24 08:51 systemd-private-371a1d9479324db8bd79b6844b8b589b-fwupd.service-FzPoQf\n",
            "drwx------ 3 root     root     4096 sep 24 08:51 systemd-private-371a1d9479324db8bd79b6844b8b589b-geoclue.service-F6pMWi\n",
            "drwx------ 3 root     root     4096 sep 24 08:51 systemd-private-371a1d9479324db8bd79b6844b8b589b-ModemManager.service-Orf6Bi\n",
            "drwx------ 3 root     root     4096 sep 24 08:51 systemd-private-371a1d9479324db8bd79b6844b8b589b-switcheroo-control.service-1QXRqj\n",
            "drwx------ 3 root     root     4096 sep 24 08:51 systemd-private-371a1d9479324db8bd79b6844b8b589b-systemd-logind.service-lL35tg\n",
            "drwx------ 3 root     root     4096 sep 24 08:51 systemd-private-371a1d9479324db8bd79b6844b8b589b-systemd-resolved.service-iaswSi\n",
            "drwx------ 3 root     root     4096 sep 24 08:51 systemd-private-371a1d9479324db8bd79b6844b8b589b-systemd-timesyncd.service-Yet8lj\n",
            "drwx------ 3 root     root     4096 sep 24 08:51 systemd-private-371a1d9479324db8bd79b6844b8b589b-upower.service-oTL7Gg\n",
            "drwx------ 2 wallabot wallabot 4096 sep 24 09:31 tracker-extract-files.1000\n"
          ]
        }
      ],
      "source": [
        "!ls -l /tmp"
      ]
    },
    {
      "cell_type": "markdown",
      "metadata": {},
      "source": [
        "Como vemos, h\u00e1 um `at.txt` que foi criado \u00e0s 09:55"
      ]
    },
    {
      "cell_type": "markdown",
      "metadata": {},
      "source": [
        "## Atalhos de teclado"
      ]
    },
    {
      "cell_type": "markdown",
      "metadata": {},
      "source": [
        "A seguir s\u00e3o mostrados alguns atalhos de teclado \u00fateis no uso do terminal",
        " * Ctrl+a: leva o cursor ao in\u00edcio da linha de comandos.",
        " * Ctrl+e: leva o cursor para o final da linha de comando.",
        " * Ctrl+l: limpa o terminal, similar ao que faz o comando `clear`.",
        "* Ctrl+u: limpa desde a posi\u00e7\u00e3o do cursor at\u00e9 o in\u00edcio da linha. Se estiver no final, limpa a linha inteira.",
        "* Ctrl+k: limpa desde a posi\u00e7\u00e3o do cursor at\u00e9 o final da linha. Se estiver no in\u00edcio, limpa a linha inteira.",
        " * Ctrl+h: faz o mesmo que a tecla backspace, apaga o caractere imediatamente anterior \u00e0 posi\u00e7\u00e3o do cursor.",
        " * Ctrl+w: apaga a palavra imediatamente anterior ao cursor.",
        " * Alt+d ou Esc+d: apaga a pr\u00f3xima palavra ap\u00f3s o cursor.",
        "* Ctrl+p: define a linha de comando com o \u00faltimo comando inserido.",
        "* Ctrl+r: inicia a busca de comandos usados anteriormente, digitando parte de um comando usados anteriores que tenhamos realizado incluindo as op\u00e7\u00f5es e par\u00e2metros. Feita uma busca pressionando novamente a combina\u00e7\u00e3o de teclas encontraremos coincid\u00eancias anteriores.",
        "* Ctrl+c: termina o processo que est\u00e1 sendo executado, \u00fatil para recuperar o controle do sistema.",
        "* Ctrl+d: sai do terminal, similar ao comando exit.",
        "* Ctrl+z: suspende a execu\u00e7\u00e3o do processo que est\u00e1 sendo executado e o coloca em segundo plano; com o comando fg, podemos voltar a continuar sua execu\u00e7\u00e3o.",
        " * Ctrl+t: troca a posi\u00e7\u00e3o dos dois caracteres antes do cursor, \u00fatil para corrigir digita\u00e7\u00e3o incorreta.",
        " * Esc+t: troca a posi\u00e7\u00e3o das duas palavras antes do cursor, \u00fatil para corrigir erros de digita\u00e7\u00e3o.",
        " * Alt+f: move o cursor para o in\u00edcio da pr\u00f3xima palavra da linha, o mesmo que Ctrl+right no terminal do GNOME.",
        " * Alt+b: move o cursor para o in\u00edcio da palavra anterior da linha, o mesmo que Ctrl+left no terminal do GNOME.\n",
        " * Tab: completa automaticamente comandos ou caminhos de diret\u00f3rios ou arquivos.",
        " * Ctrl+Shift+f: abre um di\u00e1logo para fazer uma busca de texto na sa\u00edda do terminal.",
        "* Ctrl+Shift+g: busca a pr\u00f3xima ocorr\u00eancia da pesquisa anterior no terminal.",
        " * Ctrl+Shift+h: busca a ocorr\u00eancia anterior da busca anterior no terminal.",
        "* Ctrl+Shift+c: copia o texto selecionado do terminal para a \u00e1rea de transfer\u00eancia.",
        "* Ctrl+Shift+v: cola o texto da \u00e1rea de transfer\u00eancia na linha de comando.",
        "* Up: define no prompt de comando o comando anterior do hist\u00f3rico, igual ao Ctrl+p.",
        "* Down: define na linha de comando o pr\u00f3ximo comando do hist\u00f3rico.",
        "* Bot\u00e3o Esquerdo do Mouse: seleciona linhas de texto do terminal.",
        "* Ctrl+Bot\u00e3o Esquerdo do Mouse: seleciona blocos de texto do terminal."
      ]
    },
    {
      "cell_type": "markdown",
      "metadata": {},
      "source": [
        "## Sistema de pastas no Linux"
      ]
    },
    {
      "cell_type": "markdown",
      "metadata": {},
      "source": [
        "Na imagem a seguir, podemos ver como \u00e9 o sistema de pastas no Linux",
        "\n",
        "![carpetas_linux](http://maximofn.com/wp-content/uploads/2024/03/carpetas_linux-scaled.webp)",
        "\n",
        "Esta imagem foi retirada do [post](https://www.linkedin.com/posts/robercmorais_tienes-dudas-sobre-para-que-se-usa-cada-activity-7153521372156116992-jzOK/) do LinkedIn de [Roberto Morais](https://www.linkedin.com/in/robercmorais/)"
      ]
    },
    {
      "cell_type": "markdown",
      "metadata": {},
      "source": [
        "## Coisas de Nerd"
      ]
    },
    {
      "cell_type": "markdown",
      "metadata": {},
      "source": [
        "### Voc\u00ea esqueceu de usar sudo"
      ]
    },
    {
      "cell_type": "markdown",
      "metadata": {},
      "source": [
        "\u00bfNunca te ha pasado que voc\u00ea foi usar um comando que tinha que execut\u00e1-lo com `sudo`, mas se esqueceu de escrever `sudo`? Pois, depois de receber o correspondente erro, se voc\u00ea fizer `sudo !!` ser\u00e1 executado o comando anterior com `sudo`"
      ]
    },
    {
      "cell_type": "code",
      "execution_count": 1,
      "metadata": {},
      "outputs": [
        {
          "name": "stdout",
          "output_type": "stream",
          "text": [
            "Leyendo lista de paquetes... Hecho\n",
            "\u001b[1;31mE: \u001b[0mNo se pudo abrir el fichero de bloqueo \u00ab/var/lib/apt/lists/lock\u00bb - open (13: Permiso denegado)\u001b[0m\n",
            "\u001b[1;31mE: \u001b[0mNo se pudo bloquear el directorio /var/lib/apt/lists/\u001b[0m\n",
            "\u001b[1;33mW: \u001b[0mSe produjo un problema al desligar el fichero /var/cache/apt/pkgcache.bin - RemoveCaches (13: Permiso denegado)\u001b[0m\n",
            "\u001b[1;33mW: \u001b[0mSe produjo un problema al desligar el fichero /var/cache/apt/srcpkgcache.bin - RemoveCaches (13: Permiso denegado)\u001b[0m\n"
          ]
        }
      ],
      "source": [
        "!apt update"
      ]
    },
    {
      "cell_type": "markdown",
      "metadata": {},
      "source": [
        "Como se pode ver, ao fazer `sudo update` nos d\u00e1 um erro, mas se agora executarmos `sudo !!` ser\u00e1 executado `sudo apt update`"
      ]
    },
    {
      "cell_type": "code",
      "execution_count": 2,
      "metadata": {},
      "outputs": [
        {
          "name": "stdout",
          "output_type": "stream",
          "text": [
            "[sudo] contrase\u00f1a para wallabot: \n"
          ]
        }
      ],
      "source": [
        "!sudo !!"
      ]
    },
    {
      "cell_type": "markdown",
      "metadata": {},
      "source": [
        "### Mensagens do kernel"
      ]
    },
    {
      "cell_type": "markdown",
      "metadata": {},
      "source": [
        "Com o comando `dmesg` (display kernel ring buffer messages) podemos ver as mensagens do kernel. Por exemplo, isso \u00e9 muito \u00fatil para ver se um dispositivo USB foi conectado, ou para depurar erros de hardware do nosso computador."
      ]
    },
    {
      "cell_type": "code",
      "execution_count": 5,
      "metadata": {},
      "outputs": [
        {
          "name": "stdout",
          "output_type": "stream",
          "text": [
            "[   35.812312] input: LogiOps Virtual Input as /devices/virtual/input/input33\n",
            "[   35.916406] input: LogiOps Virtual Input as /devices/virtual/input/input34\n",
            "[   36.002064] input: LogiOps Virtual Input as /devices/virtual/input/input35\n",
            "[   63.879806] input: MX Master 3 as /devices/virtual/misc/uhid/0005:046D:B023.0006/input/input36\n",
            "[   63.879931] logitech-hidpp-device 0005:046D:B023.0006: input,hidraw3: BLUETOOTH HID v0.15 Keyboard [MX Master 3] on 4c:77:cb:1d:66:d0\n",
            "[   63.902120] logitech-hidpp-device 0005:046D:B023.0006: HID++ 4.5 device connected.\n",
            "[   69.604899] input: MX Keys Keyboard as /devices/virtual/misc/uhid/0005:046D:B35B.0007/input/input37\n",
            "[   69.605221] input: MX Keys Mouse as /devices/virtual/misc/uhid/0005:046D:B35B.0007/input/input38\n",
            "[   69.606204] hid-generic 0005:046D:B35B.0007: input,hidraw4: BLUETOOTH HID v0.13 Keyboard [MX Keys] on 4c:77:cb:1d:66:d0\n",
            "[  188.285030] input: T9 (AVRCP) as /devices/virtual/input/input40\n"
          ]
        }
      ],
      "source": [
        "!dmesg | tail"
      ]
    },
    {
      "cell_type": "markdown",
      "metadata": {},
      "source": [
        "Com a flag `--follow` podemos ver em tempo real as novas mensagens que v\u00e3o sendo geradas"
      ]
    },
    {
      "cell_type": "code",
      "execution_count": 7,
      "metadata": {},
      "outputs": [
        {
          "name": "stdout",
          "output_type": "stream",
          "text": [
            "\u001b[32m[    0.000000] \u001b[0mLinux version 5.15.0-84-generic (buildd@lcy02-amd64-005) (gcc (Ubuntu 9.4.0-1ubuntu1~20.04.2) 9.4.0, GNU ld (GNU Binutils for Ubuntu) 2.34) #93~20.04.1-Ubuntu SMP Wed Sep 6 16:15:40 UTC 2023 (Ubuntu 5.15.0-84.93~20.04.1-generic 5.15.116)\n",
            "\u001b[32m[    0.000000] \u001b[0m\u001b[33mCommand line\u001b[0m: BOOT_IMAGE=/boot/vmlinuz-5.15.0-84-generic root=UUID=59002381-d88d-44a6-b83d-8c5a226ce058 ro quiet splash vt.handoff=7\n",
            "\u001b[32m[    0.000000] \u001b[0mKERNEL supported cpus:\n",
            "\u001b[32m[    0.000000] \u001b[0m  Intel GenuineIntel\n",
            "\u001b[32m[    0.000000] \u001b[0m  AMD AuthenticAMD\n",
            "\u001b[32m[    0.000000] \u001b[0m  Hygon HygonGenuine\n",
            "\u001b[32m[    0.000000] \u001b[0m  Centaur CentaurHauls\n",
            "\u001b[32m[    0.000000] \u001b[0m  zhaoxin   Shanghai  \n",
            "\u001b[32m[    0.000000] \u001b[0mBIOS-provided physical RAM map:\n",
            "\u001b[32m[    0.000000] \u001b[0m\u001b[33mBIOS-e820\u001b[0m: [mem 0x0000000000000000-0x000000000009ffff] usable\n",
            "\u001b[32m[    0.000000] \u001b[0m\u001b[33mBIOS-e820\u001b[0m: [mem 0x00000000000a0000-0x00000000000fffff] reserved\n",
            "\u001b[32m[    0.000000] \u001b[0m\u001b[33mBIOS-e820\u001b[0m: [mem 0x0000000000100000-0x0000000009d01fff] usable\n",
            "\u001b[32m[    0.000000] \u001b[0m\u001b[33mBIOS-e820\u001b[0m: [mem 0x0000000009d02000-0x0000000009ffffff] reserved\n",
            "\u001b[32m[    0.000000] \u001b[0m\u001b[33mBIOS-e820\u001b[0m: [mem 0x000000000a000000-0x000000000a1fffff] usable\n",
            "\u001b[32m[    0.000000] \u001b[0m\u001b[33mBIOS-e820\u001b[0m: [mem 0x000000000a200000-0x000000000a20bfff] ACPI NVS\n",
            "\u001b[32m[    0.000000] \u001b[0m\u001b[33mBIOS-e820\u001b[0m: [mem 0x000000000a20c000-0x00000000b8983fff] usable\n",
            "\u001b[32m[    0.000000] \u001b[0m\u001b[33mBIOS-e820\u001b[0m: [mem 0x00000000b8984000-0x00000000b8acdfff] reserved\n",
            "\u001b[32m[    0.000000] \u001b[0m\u001b[33mBIOS-e820\u001b[0m: [mem 0x00000000b8ace000-0x00000000b8c56fff] ACPI data\n",
            "\u001b[32m[    0.000000] \u001b[0m\u001b[33mBIOS-e820\u001b[0m: [mem 0x00000000b8c57000-0x00000000b9107fff] ACPI NVS\n",
            "\u001b[32m[    0.000000] \u001b[0m\u001b[33mBIOS-e820\u001b[0m: [mem 0x00000000b9108000-0x00000000ba55cfff] reserved\n",
            "\u001b[32m[    0.000000] \u001b[0m\u001b[33mBIOS-e820\u001b[0m: [mem 0x00000000ba55d000-0x00000000bcffffff] usable\n",
            "\u001b[32m[    0.000000] \u001b[0m\u001b[33mBIOS-e820\u001b[0m: [mem 0x00000000bd000000-0x00000000bfffffff] reserved\n",
            "\u001b[32m[    0.000000] \u001b[0m\u001b[33mBIOS-e820\u001b[0m: [mem 0x00000000f8000000-0x00000000fbffffff] reserved\n",
            "...\n",
            "\u001b[32m[   35.916406] \u001b[0m\u001b[33minput\u001b[0m: LogiOps Virtual Input as /devices/virtual/input/input34\n",
            "\u001b[32m[   36.002064] \u001b[0m\u001b[33minput\u001b[0m: LogiOps Virtual Input as /devices/virtual/input/input35\n",
            "\u001b[32m[   63.879806] \u001b[0m\u001b[33minput\u001b[0m: MX Master 3 as /devices/virtual/misc/uhid/0005:046D:B023.0006/input/input36\n",
            "\u001b[32m[   63.879931] \u001b[0m\u001b[33mlogitech-hidpp-device 0005:046D:B023.0006\u001b[0m: input,hidraw3: BLUETOOTH HID v0.15 Keyboard [MX Master 3] on 4c:77:cb:1d:66:d0\n",
            "\u001b[32m[   63.902120] \u001b[0m\u001b[33mlogitech-hidpp-device 0005:046D:B023.0006\u001b[0m: HID++ 4.5 device connected.\n",
            "\u001b[32m[   69.604899] \u001b[0m\u001b[33minput\u001b[0m: MX Keys Keyboard as /devices/virtual/misc/uhid/0005:046D:B35B.0007/input/input37\n",
            "\u001b[32m[   69.605221] \u001b[0m\u001b[33minput\u001b[0m: MX Keys Mouse as /devices/virtual/misc/uhid/0005:046D:B35B.0007/input/input38\n",
            "\u001b[32m[   69.606204] \u001b[0m\u001b[33mhid-generic 0005:046D:B35B.0007\u001b[0m: input,hidraw4: BLUETOOTH HID v0.13 Keyboard [MX Keys] on 4c:77:cb:1d:66:d0\n",
            "\u001b[32m[  188.285030] \u001b[0m\u001b[33minput\u001b[0m: T9 (AVRCP) as /devices/virtual/input/input40\n"
          ]
        },
        {
          "name": "stdout",
          "output_type": "stream",
          "text": [
            "^C\n"
          ]
        }
      ],
      "source": [
        "!dmesg --follow"
      ]
    },
    {
      "cell_type": "markdown",
      "metadata": {},
      "source": [
        "### Informa\u00e7\u00f5es do hardware"
      ]
    },
    {
      "cell_type": "markdown",
      "metadata": {},
      "source": [
        "Com `lshw` podemos ver informa\u00e7\u00f5es do hardware do nosso computador"
      ]
    },
    {
      "cell_type": "code",
      "execution_count": 10,
      "metadata": {},
      "outputs": [
        {
          "name": "stdout",
          "output_type": "stream",
          "text": [
            "AVISO: deber\u00eda ejecutar este programa como superusuario.\n",
            "wallabot                    \n",
            "    descripci\u00f3n: Computer\n",
            "    anchura: 64 bits\n",
            "    capacidades: smp vsyscall32\n",
            "  *-core\n",
            "       descripci\u00f3n: Motherboard\n",
            "       id f\u00edsico: 0\n",
            "     *-memory\n",
            "          descripci\u00f3n: Memoria de sistema\n",
            "          id f\u00edsico: 0\n",
            "          tama\u00f1o: 32GiB\n",
            "...\n",
            "          producto: PnP device PNP0501\n",
            "          id f\u00edsico: 6\n",
            "          capacidades: pnp\n",
            "          configuraci\u00f3n: driver=serial\n",
            "     *-pnp00:05\n",
            "          producto: PnP device PNP0c02\n",
            "          id f\u00edsico: 7\n",
            "          capacidades: pnp\n",
            "          configuraci\u00f3n: driver=system\n",
            "AVISO: la salida puede ser incompleta o imprecisa, deber\u00eda ejecutar este programa como superusuario.\n"
          ]
        }
      ],
      "source": [
        "!lshw"
      ]
    },
    {
      "cell_type": "markdown",
      "metadata": {},
      "source": [
        "### Cowsay"
      ]
    },
    {
      "cell_type": "markdown",
      "metadata": {},
      "source": [
        "H\u00e1 um comando chamado `cowsay` ao qual voc\u00ea passa um texto como par\u00e2metro e ele desenha uma vaca dizendo esse texto.",
        "\n",
        "\u00c9 poss\u00edvel que voc\u00ea n\u00e3o o tenha instalado, por isso, para instal\u00e1-lo, voc\u00ea precisa inserir o comando",
        "\n",
        "```bash\n```",
        "```markdown\nsudo apt install cowsay\n```",
        ""
      ]
    },
    {
      "cell_type": "code",
      "execution_count": 12,
      "metadata": {},
      "outputs": [
        {
          "name": "stdout",
          "output_type": "stream",
          "text": [
            " __________\n",
            "< MaximoFN >\n",
            " ----------\n",
            "        \\   ^__^\n",
            "         \\  (oo)\\_______\n",
            "            (__)\\       )\\/\\\n",
            "                ||----w |\n",
            "                ||     ||\n",
            "\n"
          ]
        }
      ],
      "source": [
        "terminal(\"cowsay MaximoFN\")"
      ]
    },
    {
      "cell_type": "markdown",
      "metadata": {},
      "source": [
        "Se voc\u00ea adicionar a flag `-f dragon` quem fala \u00e9 um drag\u00e3o."
      ]
    },
    {
      "cell_type": "code",
      "execution_count": 15,
      "metadata": {},
      "outputs": [
        {
          "name": "stdout",
          "output_type": "stream",
          "text": [
            " __________\n",
            "< MaximoFN >\n",
            " ----------\n",
            "      \\                    / \\  //\\\n",
            "       \\    |\\___/|      /   \\//  \\\\\n",
            "            /0  0  \\__  /    //  | \\ \\    \n",
            "           /     /  \\/_/    //   |  \\  \\  \n",
            "           @_^_@'/   \\/_   //    |   \\   \\ \n",
            "           //_^_/     \\/_ //     |    \\    \\\n",
            "        ( //) |        \\///      |     \\     \\\n",
            "      ( / /) _|_ /   )  //       |      \\     _\\\n",
            "    ( // /) '/,_ _ _/  ( ; -.    |    _ _\\.-~        .-~~~^-.\n",
            "  (( / / )) ,-{        _      `-.|.-~-.           .~         `.\n",
            " (( // / ))  '/\\      /                 ~-. _ .-~      .-~^-.  \\\n",
            " (( /// ))      `.   {            }                   /      \\  \\\n",
            "  (( / ))     .----~-.\\        \\-'                 .~         \\  `. \\^-.\n",
            "             ///.----..>        \\             _ -~             `.  ^-`  ^-_\n",
            "               ///-._ _ _ _ _ _ _}^ - - - - ~                     ~-- ,.-~\n",
            "                                                                  /.-~\n",
            "\n"
          ]
        }
      ],
      "source": [
        "terminal(\"cowsay -f dragon MaximoFN\")"
      ]
    },
    {
      "cell_type": "code",
      "execution_count": 14,
      "metadata": {},
      "outputs": [
        {
          "name": "stdout",
          "output_type": "stream",
          "text": [
            " __________\n",
            "< MaximoFN >\n",
            " ----------\n",
            "                       \\                    ^    /^\n",
            "                        \\                  / \\  // \\\n",
            "                         \\   |\\___/|      /   \\//  .\\\n",
            "                          \\  /O  O  \\__  /    //  | \\ \\           *----*\n",
            "                            /     /  \\/_/    //   |  \\  \\          \\   |\n",
            "                            @___@`    \\/_   //    |   \\   \\         \\/\\ \\\n",
            "                           0/0/|       \\/_ //     |    \\    \\         \\  \\\n",
            "                       0/0/0/0/|        \\///      |     \\     \\       |  |\n",
            "                    0/0/0/0/0/_|_ /   (  //       |      \\     _\\     |  /\n",
            "                 0/0/0/0/0/0/`/,_ _ _/  ) ; -.    |    _ _\\.-~       /   /\n",
            "                             ,-}        _      *-.|.-~-.           .~    ~\n",
            "            \\     \\__/        `/\\      /                 ~-. _ .-~      /\n",
            "             \\____(oo)           *.   }            {                   /\n",
            "             (    (--)          .----~-.\\        \\-`                 .~\n",
            "             //__\\\\  \\__ Ack!   ///.----..<        \\             _ -~\n",
            "            //    \\\\               ///-._ _ _ _ _ _ _{^ - - - - ~\n",
            "\n"
          ]
        }
      ],
      "source": [
        "terminal(\"cowsay -f dragon-and-cow MaximoFN\")"
      ]
    },
    {
      "cell_type": "markdown",
      "metadata": {},
      "source": [
        "## Limpeza"
      ]
    },
    {
      "cell_type": "markdown",
      "metadata": {},
      "source": [
        "Como a pasta `prueba` foi criada, a exclu\u00edmos para deixar tudo como encontramos."
      ]
    },
    {
      "cell_type": "code",
      "execution_count": 1,
      "metadata": {},
      "outputs": [],
      "source": [
        "!rm -r prueba"
      ]
    }
  ],
  "metadata": {
    "kernelspec": {
      "display_name": "base",
      "language": "python",
      "name": "python3"
    },
    "language_info": {
      "codemirror_mode": {
        "name": "ipython",
        "version": 3
      },
      "file_extension": ".py",
      "mimetype": "text/x-python",
      "name": "python",
      "nbconvert_exporter": "python",
      "pygments_lexer": "ipython3",
      "version": "3.10.9"
    },
    "maximofn": {
      "date": "2021-09-12",
      "description_en": "\ud83d\udfe2 Si\u00e9ntete como un verdadero hacker \ud83d\udda5 sabi\u00e9ndolo todo sobre la terminal \ud83d\udcbb. Entra y comienza a manejar \u2328 la terminal como un profesional",
      "description_es": "\ud83d\udfe2 Feel like a real hacker \ud83d\udda5 knowing everything about the terminal \ud83d\udcbb. Get inside and start handling \u2328 the terminal like a pro.",
      "description_pt": "\ud83d\udfe2 Sinta-se como um verdadeiro hacker \ud83d\udda5 sabendo tudo sobre o terminal \ud83d\udcbb. Entre e comece a operar \u2328 o terminal como um profissional.",
      "end_url": "terminal",
      "image": "https://pub-fb664c455eca46a2ba762a065ac900f7.r2.dev/terminal.webp",
      "keywords_es": "terminal, linux, commands, bash, shell, console",
      "keywords_en": "terminal, linux, comandos, bash, shell, consola",
      "keywords_pt": "terminal, linux, comandos, bash, shell, console",
      "title_en": "Terminal",
      "title_es": "Terminal",
      "title_pt": "Terminal"
    },
    "orig_nbformat": 4,
    "vscode": {
      "interpreter": {
        "hash": "b2af3135499c4cc4659220baa8d57d20fd35a58497fd7648737e38d0561042d8"
      }
    }
  },
  "nbformat": 4,
  "nbformat_minor": 2
}