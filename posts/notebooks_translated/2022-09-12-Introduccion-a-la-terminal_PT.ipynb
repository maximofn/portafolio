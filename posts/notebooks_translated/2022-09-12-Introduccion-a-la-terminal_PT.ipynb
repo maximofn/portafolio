{
  "cells": [
  {
      "cell_type": "markdown",
      "metadata": {},
      "source": [
      "# Introdução ao terminal"
      ]
    },
{
      "cell_type": "markdown",
      "metadata": {},
      "source": [
      "## Formato de postagem"
      ]
    },
{
      "cell_type": "markdown",
      "metadata": {},
      "source": [
      "Este caderno foi traduzido automaticamente para torná-lo acessível a mais pessoas, por favor me avise se você vir algum erro de digitação..\n",
"\n",
"Para não ter que colocar imagens do console em cada ação que faço, criei a seguinte função que recebe o comando do terminal que queremos executar e retorna a saída que o terminal nos daria.\n",
"\n",
"Às vezes, usarei essa função e, às vezes, usarei `!` antes de cada comando, o que, nos notebooks, significa que você executará um comando de terminal."
      ]
    },
{
      "cell_type": "code",
      "execution_count": 1,
      "metadata": {},
      "outputs": [],
      "source": [
      "import subprocess\n",
"import os\n",
"\n",
"last_directory = ''\n",
"\n",
"def terminal(command, max_lines_output=None):\n",
"    global last_directory\n",
"    debug = False\n",
"    str = command.split()\n",
"\n",
"    # Check if there are \" or ' characters\n",
"    for i in range(len(str)):\n",
"        if debug:   print(f\"i = {i}, str[i] = {str[i]}\")\n",
"        if len(str[i]) > 0:\n",
"            if str[i][0] == '\"' or str[i][0] == \"'\":\n",
"                for j in range(i+1,len(str)):\n",
"                    if debug:   print(f\"\\t j = {j}, str[j] = {str[j]}\")\n",
"                    if str[j][-1] == '\"' or str[j][-1] == \"'\":\n",
"                        for k in range(i+1,j+1):\n",
"                            if debug:   print(f\"\\t\\t k = {k}, str[i] = {str[i]}, str[k] = {str[k]}\")\n",
"                            str[i] = str[i] + \" \" + str[k]\n",
"                            if debug:   print(f\"\\t\\t k = {k}, str[i] = {str[i]}, str[k] = {str[k]}\")\n",
"                        str[j:] = [\"\"]\n",
"                        str[i] = str[i].replace('\"','')\n",
"    \n",
"    # Remove empty strings\n",
"    str = [x for x in str if x != \"\"]\n",
"    if debug:\n",
"        print(str)\n",
"        return\n",
"    if str[0] == \"cd\":\n",
"        last_dir = os.getcwd()\n",
"        if len(str) == 1:\n",
"            os.chdir('/home/wallabot')\n",
"        else:\n",
"            if str[1] == \"-\":\n",
"                os.chdir(last_directory)\n",
"            else:\n",
"                os.chdir(str[1])\n",
"        last_directory = last_dir\n",
"    else:\n",
"        result = subprocess.run(str, stdout=subprocess.PIPE).stdout.decode('utf-8')\n",
"        if max_lines_output is not None:\n",
"            result_split = result.split('\\n')\n",
"            print('\\n'.join(result_split[:max_lines_output]))\n",
"            print(\"\\t ...\")\n",
"            print('\\n'.join(result_split[-5:]))\n",
"        else:\n",
"            print(result)"
      ]
    },
{
      "cell_type": "markdown",
      "metadata": {},
      "source": [
      "## Primeiros comandos para navegar no terminal"
      ]
    },
{
      "cell_type": "markdown",
      "metadata": {},
      "source": [
      "### `ls` (listar diretório)"
      ]
    },
{
      "cell_type": "markdown",
      "metadata": {},
      "source": [
      "O primeiro comando que vamos examinar é o `ls` (list directory), que é usado para listar todos os arquivos da pasta em que estamos."
      ]
    },
{
      "cell_type": "code",
      "execution_count": 2,
      "metadata": {},
      "outputs": [
      {
          "name": "stdout",
          "output_type": "stream",
          "text": [
          "2021-02-11-Introduccion-a-Python.ipynb\n",
"2021-04-23-Calculo-matricial-con-Numpy.ipynb\n",
"2021-06-15-Manejo-de-datos-con-Pandas.ipynb\n",
"2022-09-12 Introduccion a la terminal.ipynb\n",
"2022-09-12 Introduccion a la terminal.txt\n",
"command-line-cheat-sheet.pdf\n",
"CSS.ipynb\n",
"Docker.html\n",
"Docker.ipynb\n",
"Expresiones regulares.html\n",
"Expresiones regulares.ipynb\n",
"html_files\n",
"html.ipynb\n",
"introduccion_python\n",
"movies.csv\n",
"movies.dat\n",
"notebooks_translated\n",
"__pycache__\n",
"ssh.ipynb\n",
"test.html\n",
"test.ipynb\n",
"\n"
          ]
        }
      ],
      "source": [
      "terminal(\"ls\")"
      ]
    },
{
      "cell_type": "markdown",
      "metadata": {},
      "source": [
      "Normalmente, os comandos podem receber opções (`flags`), que são introduzidas com o caractere `-`, por exemplo, `ls -l` que retorna a lista de arquivos no diretório em que você está, mas com mais informações."
      ]
    },
{
      "cell_type": "code",
      "execution_count": 3,
      "metadata": {},
      "outputs": [
      {
          "name": "stdout",
          "output_type": "stream",
          "text": [
          "total 4512\n",
"-rw-rw-r-- 1 wallabot wallabot 285898 nov 12 02:07 2021-02-11-Introduccion-a-Python.ipynb\n",
"-rw-rw-r-- 1 wallabot wallabot  78450 nov 13 00:10 2021-04-23-Calculo-matricial-con-Numpy.ipynb\n",
"-rw-rw-r-- 1 wallabot wallabot 484213 nov 13 00:44 2021-06-15-Manejo-de-datos-con-Pandas.ipynb\n",
"-rw-rw-r-- 1 wallabot wallabot 320810 dic  6 00:11 2022-09-12 Introduccion a la terminal.ipynb\n",
"-rw-rw-r-- 1 wallabot wallabot 320594 dic  6 00:04 2022-09-12 Introduccion a la terminal.txt\n",
"-rw-rw-r-- 1 wallabot wallabot 119471 oct  3 16:13 command-line-cheat-sheet.pdf\n",
"-rw-rw-r-- 1 wallabot wallabot   2660 sep 18 03:32 CSS.ipynb\n",
"-rw-rw-r-- 1 wallabot wallabot 699225 nov 27 04:16 Docker.html\n",
"-rw-rw-r-- 1 wallabot wallabot 509125 sep 22 16:48 Docker.ipynb\n",
"-rw-rw-r-- 1 wallabot wallabot 156193 nov 27 04:21 Expresiones regulares.html\n",
"-rw-rw-r-- 1 wallabot wallabot  53094 oct  2 04:57 Expresiones regulares.ipynb\n",
"drwxrwxr-x 2 wallabot wallabot   4096 nov 28 14:39 html_files\n",
"-rw-rw-r-- 1 wallabot wallabot  14775 sep 18 03:29 html.ipynb\n",
"drwxrwxr-x 3 wallabot wallabot   4096 nov 12 01:51 introduccion_python\n",
"-rw-rw-r-- 1 wallabot wallabot 446172 oct  2 04:39 movies.csv\n",
"-rw-rw-r-- 1 wallabot wallabot 522197 oct  2 04:33 movies.dat\n",
"drwxrwxr-x 2 wallabot wallabot   4096 nov 28 14:39 notebooks_translated\n",
"drwxrwxr-x 2 wallabot wallabot   4096 ago 27 03:25 __pycache__\n",
"-rw-rw-r-- 1 wallabot wallabot    586 dic  4 02:31 ssh.ipynb\n",
"-rw-rw-r-- 1 wallabot wallabot 292936 nov  9 01:46 test.html\n",
"-rw-rw-r-- 1 wallabot wallabot 260227 nov  9 01:13 test.ipynb\n",
"\n"
          ]
        }
      ],
      "source": [
      "terminal('ls -l')"
      ]
    },
{
      "cell_type": "markdown",
      "metadata": {},
      "source": [
      "Como podemos ver, temos a quantidade de bytes que cada arquivo ocupa, mas quando temos arquivos que ocupam muito espaço, isso não é muito fácil de ler, então podemos adicionar a opção `h` (`human`) que nos dá informações mais fáceis de ler."
      ]
    },
{
      "cell_type": "code",
      "execution_count": 4,
      "metadata": {},
      "outputs": [
      {
          "name": "stdout",
          "output_type": "stream",
          "text": [
          "total 4,5M\n",
"-rw-rw-r-- 1 wallabot wallabot 280K nov 12 02:07 2021-02-11-Introduccion-a-Python.ipynb\n",
"-rw-rw-r-- 1 wallabot wallabot  77K nov 13 00:10 2021-04-23-Calculo-matricial-con-Numpy.ipynb\n",
"-rw-rw-r-- 1 wallabot wallabot 473K nov 13 00:44 2021-06-15-Manejo-de-datos-con-Pandas.ipynb\n",
"-rw-rw-r-- 1 wallabot wallabot 314K dic  6 00:11 2022-09-12 Introduccion a la terminal.ipynb\n",
"-rw-rw-r-- 1 wallabot wallabot 314K dic  6 00:04 2022-09-12 Introduccion a la terminal.txt\n",
"-rw-rw-r-- 1 wallabot wallabot 117K oct  3 16:13 command-line-cheat-sheet.pdf\n",
"-rw-rw-r-- 1 wallabot wallabot 2,6K sep 18 03:32 CSS.ipynb\n",
"-rw-rw-r-- 1 wallabot wallabot 683K nov 27 04:16 Docker.html\n",
"-rw-rw-r-- 1 wallabot wallabot 498K sep 22 16:48 Docker.ipynb\n",
"-rw-rw-r-- 1 wallabot wallabot 153K nov 27 04:21 Expresiones regulares.html\n",
"-rw-rw-r-- 1 wallabot wallabot  52K oct  2 04:57 Expresiones regulares.ipynb\n",
"drwxrwxr-x 2 wallabot wallabot 4,0K nov 28 14:39 html_files\n",
"-rw-rw-r-- 1 wallabot wallabot  15K sep 18 03:29 html.ipynb\n",
"drwxrwxr-x 3 wallabot wallabot 4,0K nov 12 01:51 introduccion_python\n",
"-rw-rw-r-- 1 wallabot wallabot 436K oct  2 04:39 movies.csv\n",
"-rw-rw-r-- 1 wallabot wallabot 510K oct  2 04:33 movies.dat\n",
"drwxrwxr-x 2 wallabot wallabot 4,0K nov 28 14:39 notebooks_translated\n",
"drwxrwxr-x 2 wallabot wallabot 4,0K ago 27 03:25 __pycache__\n",
"-rw-rw-r-- 1 wallabot wallabot  586 dic  4 02:31 ssh.ipynb\n",
"-rw-rw-r-- 1 wallabot wallabot 287K nov  9 01:46 test.html\n",
"-rw-rw-r-- 1 wallabot wallabot 255K nov  9 01:13 test.ipynb\n",
"\n"
          ]
        }
      ],
      "source": [
      "terminal('ls -lh')"
      ]
    },
{
      "cell_type": "markdown",
      "metadata": {},
      "source": [
      "Se quisermos ver os arquivos ocultos, podemos usar a opção `a`, que nos mostrará todos os arquivos em um diretório."
      ]
    },
{
      "cell_type": "code",
      "execution_count": 5,
      "metadata": {},
      "outputs": [
      {
          "name": "stdout",
          "output_type": "stream",
          "text": [
          "total 4,5M\n",
"drwxrwxr-x 6 wallabot wallabot 4,0K dic  6 00:04 .\n",
"drwxrwxr-x 5 wallabot wallabot 4,0K oct  2 03:10 ..\n",
"-rw-rw-r-- 1 wallabot wallabot 280K nov 12 02:07 2021-02-11-Introduccion-a-Python.ipynb\n",
"-rw-rw-r-- 1 wallabot wallabot  77K nov 13 00:10 2021-04-23-Calculo-matricial-con-Numpy.ipynb\n",
"-rw-rw-r-- 1 wallabot wallabot 473K nov 13 00:44 2021-06-15-Manejo-de-datos-con-Pandas.ipynb\n",
"-rw-rw-r-- 1 wallabot wallabot 314K dic  6 00:11 2022-09-12 Introduccion a la terminal.ipynb\n",
"-rw-rw-r-- 1 wallabot wallabot 314K dic  6 00:04 2022-09-12 Introduccion a la terminal.txt\n",
"-rw-rw-r-- 1 wallabot wallabot 117K oct  3 16:13 command-line-cheat-sheet.pdf\n",
"-rw-rw-r-- 1 wallabot wallabot 2,6K sep 18 03:32 CSS.ipynb\n",
"-rw-rw-r-- 1 wallabot wallabot 683K nov 27 04:16 Docker.html\n",
"-rw-rw-r-- 1 wallabot wallabot 498K sep 22 16:48 Docker.ipynb\n",
"-rw-rw-r-- 1 wallabot wallabot 153K nov 27 04:21 Expresiones regulares.html\n",
"-rw-rw-r-- 1 wallabot wallabot  52K oct  2 04:57 Expresiones regulares.ipynb\n",
"drwxrwxr-x 2 wallabot wallabot 4,0K nov 28 14:39 html_files\n",
"-rw-rw-r-- 1 wallabot wallabot  15K sep 18 03:29 html.ipynb\n",
"drwxrwxr-x 3 wallabot wallabot 4,0K nov 12 01:51 introduccion_python\n",
"-rw-rw-r-- 1 wallabot wallabot 436K oct  2 04:39 movies.csv\n",
"-rw-rw-r-- 1 wallabot wallabot 510K oct  2 04:33 movies.dat\n",
"drwxrwxr-x 2 wallabot wallabot 4,0K nov 28 14:39 notebooks_translated\n",
"drwxrwxr-x 2 wallabot wallabot 4,0K ago 27 03:25 __pycache__\n",
"-rw-rw-r-- 1 wallabot wallabot  586 dic  4 02:31 ssh.ipynb\n",
"-rw-rw-r-- 1 wallabot wallabot 287K nov  9 01:46 test.html\n",
"-rw-rw-r-- 1 wallabot wallabot 255K nov  9 01:13 test.ipynb\n",
"\n"
          ]
        }
      ],
      "source": [
      "terminal('ls -lha')"
      ]
    },
{
      "cell_type": "markdown",
      "metadata": {},
      "source": [
      "Se quisermos classificá-los por tamanho, podemos usar a opção `S`."
      ]
    },
{
      "cell_type": "code",
      "execution_count": 6,
      "metadata": {},
      "outputs": [
      {
          "name": "stdout",
          "output_type": "stream",
          "text": [
          "total 4,5M\n",
"-rw-rw-r-- 1 wallabot wallabot 683K nov 27 04:16 Docker.html\n",
"-rw-rw-r-- 1 wallabot wallabot 510K oct  2 04:33 movies.dat\n",
"-rw-rw-r-- 1 wallabot wallabot 498K sep 22 16:48 Docker.ipynb\n",
"-rw-rw-r-- 1 wallabot wallabot 473K nov 13 00:44 2021-06-15-Manejo-de-datos-con-Pandas.ipynb\n",
"-rw-rw-r-- 1 wallabot wallabot 436K oct  2 04:39 movies.csv\n",
"-rw-rw-r-- 1 wallabot wallabot 314K dic  6 00:11 2022-09-12 Introduccion a la terminal.ipynb\n",
"-rw-rw-r-- 1 wallabot wallabot 314K dic  6 00:04 2022-09-12 Introduccion a la terminal.txt\n",
"-rw-rw-r-- 1 wallabot wallabot 287K nov  9 01:46 test.html\n",
"-rw-rw-r-- 1 wallabot wallabot 280K nov 12 02:07 2021-02-11-Introduccion-a-Python.ipynb\n",
"-rw-rw-r-- 1 wallabot wallabot 255K nov  9 01:13 test.ipynb\n",
"-rw-rw-r-- 1 wallabot wallabot 153K nov 27 04:21 Expresiones regulares.html\n",
"-rw-rw-r-- 1 wallabot wallabot 117K oct  3 16:13 command-line-cheat-sheet.pdf\n",
"-rw-rw-r-- 1 wallabot wallabot  77K nov 13 00:10 2021-04-23-Calculo-matricial-con-Numpy.ipynb\n",
"-rw-rw-r-- 1 wallabot wallabot  52K oct  2 04:57 Expresiones regulares.ipynb\n",
"-rw-rw-r-- 1 wallabot wallabot  15K sep 18 03:29 html.ipynb\n",
"drwxrwxr-x 2 wallabot wallabot 4,0K nov 28 14:39 html_files\n",
"drwxrwxr-x 3 wallabot wallabot 4,0K nov 12 01:51 introduccion_python\n",
"drwxrwxr-x 2 wallabot wallabot 4,0K nov 28 14:39 notebooks_translated\n",
"drwxrwxr-x 2 wallabot wallabot 4,0K ago 27 03:25 __pycache__\n",
"-rw-rw-r-- 1 wallabot wallabot 2,6K sep 18 03:32 CSS.ipynb\n",
"-rw-rw-r-- 1 wallabot wallabot  586 dic  4 02:31 ssh.ipynb\n",
"\n"
          ]
        }
      ],
      "source": [
      "terminal('ls -lhS')"
      ]
    },
{
      "cell_type": "markdown",
      "metadata": {},
      "source": [
      "Se quisermos exibir os arquivos em ordem alfabética, mas em ordem inversa, devemos usar a opção `r`."
      ]
    },
{
      "cell_type": "code",
      "execution_count": 7,
      "metadata": {},
      "outputs": [
      {
          "name": "stdout",
          "output_type": "stream",
          "text": [
          "total 4,5M\n",
"-rw-rw-r-- 1 wallabot wallabot 255K nov  9 01:13 test.ipynb\n",
"-rw-rw-r-- 1 wallabot wallabot 287K nov  9 01:46 test.html\n",
"-rw-rw-r-- 1 wallabot wallabot  586 dic  4 02:31 ssh.ipynb\n",
"drwxrwxr-x 2 wallabot wallabot 4,0K ago 27 03:25 __pycache__\n",
"drwxrwxr-x 2 wallabot wallabot 4,0K nov 28 14:39 notebooks_translated\n",
"-rw-rw-r-- 1 wallabot wallabot 510K oct  2 04:33 movies.dat\n",
"-rw-rw-r-- 1 wallabot wallabot 436K oct  2 04:39 movies.csv\n",
"drwxrwxr-x 3 wallabot wallabot 4,0K nov 12 01:51 introduccion_python\n",
"-rw-rw-r-- 1 wallabot wallabot  15K sep 18 03:29 html.ipynb\n",
"drwxrwxr-x 2 wallabot wallabot 4,0K nov 28 14:39 html_files\n",
"-rw-rw-r-- 1 wallabot wallabot  52K oct  2 04:57 Expresiones regulares.ipynb\n",
"-rw-rw-r-- 1 wallabot wallabot 153K nov 27 04:21 Expresiones regulares.html\n",
"-rw-rw-r-- 1 wallabot wallabot 498K sep 22 16:48 Docker.ipynb\n",
"-rw-rw-r-- 1 wallabot wallabot 683K nov 27 04:16 Docker.html\n",
"-rw-rw-r-- 1 wallabot wallabot 2,6K sep 18 03:32 CSS.ipynb\n",
"-rw-rw-r-- 1 wallabot wallabot 117K oct  3 16:13 command-line-cheat-sheet.pdf\n",
"-rw-rw-r-- 1 wallabot wallabot 314K dic  6 00:04 2022-09-12 Introduccion a la terminal.txt\n",
"-rw-rw-r-- 1 wallabot wallabot 314K dic  6 00:11 2022-09-12 Introduccion a la terminal.ipynb\n",
"-rw-rw-r-- 1 wallabot wallabot 473K nov 13 00:44 2021-06-15-Manejo-de-datos-con-Pandas.ipynb\n",
"-rw-rw-r-- 1 wallabot wallabot  77K nov 13 00:10 2021-04-23-Calculo-matricial-con-Numpy.ipynb\n",
"-rw-rw-r-- 1 wallabot wallabot 280K nov 12 02:07 2021-02-11-Introduccion-a-Python.ipynb\n",
"\n"
          ]
        }
      ],
      "source": [
      "terminal('ls -lhr')"
      ]
    },
{
      "cell_type": "markdown",
      "metadata": {},
      "source": [
      "### `cd` (mudar de diretório)"
      ]
    },
{
      "cell_type": "markdown",
      "metadata": {},
      "source": [
      "O segundo comando será `cd` (change directory), que nos permite alterar o diretório"
      ]
    },
{
      "cell_type": "code",
      "execution_count": 8,
      "metadata": {},
      "outputs": [],
      "source": [
      "terminal('cd /home/wallabot/Documentos/')"
      ]
    },
{
      "cell_type": "markdown",
      "metadata": {},
      "source": [
      "Se agora voltarmos a usar o `ls` para ver os arquivos que temos, veremos as seguintes alterações"
      ]
    },
{
      "cell_type": "code",
      "execution_count": 9,
      "metadata": {},
      "outputs": [
      {
          "name": "stdout",
          "output_type": "stream",
          "text": [
          "aprendiendo-git.pdf\n",
"balena-etcher-electron-1.7.9-linux-x64\n",
"camerasIP\n",
"Documentacion\n",
"gstreamer\n",
"gstreamer_old\n",
"jetsonNano\n",
"kaggle\n",
"Libros\n",
"nerf\n",
"prueba.txt\n",
"pytorch\n",
"wallabot\n",
"web\n",
"\n"
          ]
        }
      ],
      "source": [
      "terminal('ls')"
      ]
    },
{
      "cell_type": "markdown",
      "metadata": {},
      "source": [
      "Se dermos o caractere `-` a `cd` em vez do diretório para o qual queremos nos mover, ele retornará ao diretório anterior em que estava."
      ]
    },
{
      "cell_type": "code",
      "execution_count": 10,
      "metadata": {},
      "outputs": [],
      "source": [
      "terminal('cd -')"
      ]
    },
{
      "cell_type": "code",
      "execution_count": 11,
      "metadata": {},
      "outputs": [
      {
          "name": "stdout",
          "output_type": "stream",
          "text": [
          "2021-02-11-Introduccion-a-Python.ipynb\n",
"2021-04-23-Calculo-matricial-con-Numpy.ipynb\n",
"2021-06-15-Manejo-de-datos-con-Pandas.ipynb\n",
"2022-09-12 Introduccion a la terminal.ipynb\n",
"2022-09-12 Introduccion a la terminal.txt\n",
"command-line-cheat-sheet.pdf\n",
"CSS.ipynb\n",
"Docker.html\n",
"Docker.ipynb\n",
"Expresiones regulares.html\n",
"Expresiones regulares.ipynb\n",
"html_files\n",
"html.ipynb\n",
"introduccion_python\n",
"movies.csv\n",
"movies.dat\n",
"notebooks_translated\n",
"__pycache__\n",
"ssh.ipynb\n",
"test.html\n",
"test.ipynb\n",
"\n"
          ]
        }
      ],
      "source": [
      "terminal('ls')"
      ]
    },
{
      "cell_type": "markdown",
      "metadata": {},
      "source": [
      "Se quisermos ir para o `home`, basta digitar `cd` no terminal para irmos para o `home`."
      ]
    },
{
      "cell_type": "code",
      "execution_count": 12,
      "metadata": {},
      "outputs": [],
      "source": [
      "terminal('cd')"
      ]
    },
{
      "cell_type": "markdown",
      "metadata": {},
      "source": [
      "### `pwd` (imprimir diretório de trabalho)"
      ]
    },
{
      "cell_type": "markdown",
      "metadata": {},
      "source": [
      "Para obter o diretório em que você está, podemos usar `pwd` (imprimir diretório de trabalho)"
      ]
    },
{
      "cell_type": "code",
      "execution_count": 15,
      "metadata": {},
      "outputs": [
      {
          "name": "stdout",
          "output_type": "stream",
          "text": [
          "/home/wallabot\n",
"\n"
          ]
        }
      ],
      "source": [
      "terminal('pwd')"
      ]
    },
{
      "cell_type": "markdown",
      "metadata": {},
      "source": [
      "Podemos nos mover usando o comando `cd` por caminhos relativos e por caminhos absolutos. Por exemplo, vamos nos mover para um diretório usando um caminho absoluto"
      ]
    },
{
      "cell_type": "code",
      "execution_count": 16,
      "metadata": {},
      "outputs": [],
      "source": [
      "terminal('cd /home/wallabot/Documentos/')"
      ]
    },
{
      "cell_type": "code",
      "execution_count": 17,
      "metadata": {},
      "outputs": [
      {
          "name": "stdout",
          "output_type": "stream",
          "text": [
          "/home/wallabot/Documentos\n",
"\n"
          ]
        }
      ],
      "source": [
      "terminal('pwd')"
      ]
    },
{
      "cell_type": "code",
      "execution_count": 18,
      "metadata": {},
      "outputs": [
      {
          "name": "stdout",
          "output_type": "stream",
          "text": [
          "aprendiendo-git.pdf\n",
"balena-etcher-electron-1.7.9-linux-x64\n",
"camerasIP\n",
"Documentacion\n",
"gstreamer\n",
"gstreamer_old\n",
"jetsonNano\n",
"kaggle\n",
"Libros\n",
"nerf\n",
"prueba.txt\n",
"pytorch\n",
"wallabot\n",
"web\n",
"\n"
          ]
        }
      ],
      "source": [
      "terminal('ls')"
      ]
    },
{
      "cell_type": "markdown",
      "metadata": {},
      "source": [
      "Podemos nos mover por rotas relativas se colocarmos apenas o endereço do ponto em que estamos."
      ]
    },
{
      "cell_type": "code",
      "execution_count": 19,
      "metadata": {},
      "outputs": [],
      "source": [
      "terminal('cd web')"
      ]
    },
{
      "cell_type": "code",
      "execution_count": 20,
      "metadata": {},
      "outputs": [
      {
          "name": "stdout",
          "output_type": "stream",
          "text": [
          "/home/wallabot/Documentos/web\n",
"\n"
          ]
        }
      ],
      "source": [
      "terminal('pwd')"
      ]
    },
{
      "cell_type": "markdown",
      "metadata": {},
      "source": [
      "Também podemos usar caminhos relativos para subir um diretório usando `...`."
      ]
    },
{
      "cell_type": "code",
      "execution_count": 21,
      "metadata": {},
      "outputs": [],
      "source": [
      "terminal('cd ..')"
      ]
    },
{
      "cell_type": "code",
      "execution_count": 22,
      "metadata": {},
      "outputs": [
      {
          "name": "stdout",
          "output_type": "stream",
          "text": [
          "/home/wallabot/Documentos\n",
"\n"
          ]
        }
      ],
      "source": [
      "terminal('pwd')"
      ]
    },
{
      "cell_type": "markdown",
      "metadata": {},
      "source": [
      "Se, em vez de `..`, colocarmos `.`, estaremos nos referindo ao diretório em que estamos no momento, ou seja, se colocarmos `cd .`, não nos moveremos, pois estaremos dizendo ao terminal para ir ao diretório em que estamos."
      ]
    },
{
      "cell_type": "code",
      "execution_count": 23,
      "metadata": {},
      "outputs": [],
      "source": [
      "terminal('cd .')"
      ]
    },
{
      "cell_type": "code",
      "execution_count": 24,
      "metadata": {},
      "outputs": [
      {
          "name": "stdout",
          "output_type": "stream",
          "text": [
          "/home/wallabot/Documentos\n",
"\n"
          ]
        }
      ],
      "source": [
      "terminal('pwd')"
      ]
    },
{
      "cell_type": "markdown",
      "metadata": {},
      "source": [
      "Vamos para um caminho onde você tem arquivos para mostrar o seguinte comando"
      ]
    },
{
      "cell_type": "code",
      "execution_count": 25,
      "metadata": {},
      "outputs": [],
      "source": [
      "terminal('cd web/portafolio/posts/')"
      ]
    },
{
      "cell_type": "code",
      "execution_count": 26,
      "metadata": {},
      "outputs": [
      {
          "name": "stdout",
          "output_type": "stream",
          "text": [
          "2021-02-11-Introduccion-a-Python.ipynb\n",
"2021-04-23-Calculo-matricial-con-Numpy.ipynb\n",
"2021-06-15-Manejo-de-datos-con-Pandas.ipynb\n",
"2022-09-12 Introduccion a la terminal.ipynb\n",
"2022-09-12 Introduccion a la terminal.txt\n",
"command-line-cheat-sheet.pdf\n",
"CSS.ipynb\n",
"Docker.html\n",
"Docker.ipynb\n",
"Expresiones regulares.html\n",
"Expresiones regulares.ipynb\n",
"html_files\n",
"html.ipynb\n",
"introduccion_python\n",
"movies.csv\n",
"movies.dat\n",
"notebooks_translated\n",
"__pycache__\n",
"ssh.ipynb\n",
"test.html\n",
"test.ipynb\n",
"\n"
          ]
        }
      ],
      "source": [
      "terminal('ls')"
      ]
    },
{
      "cell_type": "markdown",
      "metadata": {},
      "source": [
      "### Informações do arquivo com `file`"
      ]
    },
{
      "cell_type": "markdown",
      "metadata": {},
      "source": [
      "Se eu não souber que tipo de arquivo é um determinado, usando o comando `file`, posso obter uma descrição dele"
      ]
    },
{
      "cell_type": "code",
      "execution_count": 27,
      "metadata": {},
      "outputs": [
      {
          "name": "stdout",
          "output_type": "stream",
          "text": [
          "2021-02-11-Introduccion-a-Python.ipynb: UTF-8 Unicode text, with very long lines\n",
"\n"
          ]
        }
      ],
      "source": [
      "terminal('file 2021-02-11-Introduccion-a-Python.ipynb')"
      ]
    },
{
      "cell_type": "markdown",
      "metadata": {},
      "source": [
      "## Manipulação de arquivos e diretórios"
      ]
    },
{
      "cell_type": "markdown",
      "metadata": {},
      "source": [
      "Vamos primeiro para a página inicial"
      ]
    },
{
      "cell_type": "code",
      "execution_count": 28,
      "metadata": {},
      "outputs": [],
      "source": [
      "terminal('cd /home/wallabot/Documentos/')"
      ]
    },
{
      "cell_type": "markdown",
      "metadata": {},
      "source": [
      "### Endereçar a árvore com 'tree"
      ]
    },
{
      "cell_type": "markdown",
      "metadata": {},
      "source": [
      "Podemos ver toda a estrutura da pasta em que estamos usando o comando `tree`."
      ]
    },
{
      "cell_type": "code",
      "execution_count": 29,
      "metadata": {},
      "outputs": [
      {
          "name": "stdout",
          "output_type": "stream",
          "text": [
          ".\n",
"├── aprendiendo-git.pdf\n",
"├── balena-etcher-electron-1.7.9-linux-x64\n",
"│   └── balenaEtcher-1.7.9-x64.AppImage\n",
"├── camerasIP\n",
"│   ├── camerasIP.py\n",
"│   ├── camerasIP.sh\n",
"│   ├── config.py\n",
"│   ├── __pycache__\n",
"│   │   ├── config.cpython-38.pyc\n",
"│   │   └── config.cpython-39.pyc\n",
"│   └── README.md\n",
"├── Documentacion\n",
"│   ├── Curriculum Vitae (5).pdf\n",
"│   ├── Firma Pris.PNG\n",
"│   └── Firma.png\n",
"├── gstreamer\n",
"│   ├── basic_tutorial_c\n",
"│   │   ├── basic_tutorial_1_hello_world\n",
"│   │   │   ├── basic-tutorial-1\n",
"\t ...\n",
"        ├── upload_page.py\n",
"        └── utils.py\n",
"\n",
"873 directories, 119679 files\n",
"\n"
          ]
        }
      ],
      "source": [
      "terminal('tree', max_lines_output=20)"
      ]
    },
{
      "cell_type": "markdown",
      "metadata": {},
      "source": [
      "Mas, na saída, temos muitas linhas, e isso ocorre porque o `tree` é um comando que mostra todos os arquivos do caminho em que estamos, portanto, é um pouco difícil de ler. No entanto, com a opção `L`, podemos dizer a ele quantos níveis queremos que sejam detalhados."
      ]
    },
{
      "cell_type": "code",
      "execution_count": 30,
      "metadata": {},
      "outputs": [
      {
          "name": "stdout",
          "output_type": "stream",
          "text": [
          ".\n",
"├── aprendiendo-git.pdf\n",
"├── balena-etcher-electron-1.7.9-linux-x64\n",
"│   └── balenaEtcher-1.7.9-x64.AppImage\n",
"├── camerasIP\n",
"│   ├── camerasIP.py\n",
"│   ├── camerasIP.sh\n",
"│   ├── config.py\n",
"│   ├── __pycache__\n",
"│   └── README.md\n",
"├── Documentacion\n",
"│   ├── Curriculum Vitae (5).pdf\n",
"│   ├── Firma Pris.PNG\n",
"│   └── Firma.png\n",
"├── gstreamer\n",
"│   ├── basic_tutorial_c\n",
"│   └── README.md\n",
"├── gstreamer_old\n",
"│   ├── basic_tutorial_c\n",
"│   └── basic_tutorial_python\n",
"├── jetsonNano\n",
"│   ├── apuntes-Jetson-Nano\n",
"│   ├── deepstream_apps\n",
"│   ├── deepstream_nano\n",
"│   └── Digital zoom\n",
"├── kaggle\n",
"│   └── hubmap\n",
"├── Libros\n",
"│   └── aprendiendo-git.pdf\n",
"├── nerf\n",
"│   └── instant-ngp\n",
"├── prueba.txt\n",
"├── pytorch\n",
"│   └── Curso_Pytorch\n",
"├── wallabot\n",
"│   ├── Microfono - Blue Yeti X\n",
"│   ├── placa base - Asus prime x570-p\n",
"│   └── Silla - Corsair T3 Rush\n",
"└── web\n",
"    ├── jupyter-to-html\n",
"    ├── jupyter-translator\n",
"    ├── portafolio\n",
"    └── wordpress_api_rest\n",
"\n",
"30 directories, 12 files\n",
"\n"
          ]
        }
      ],
      "source": [
      "terminal('tree -L 2')"
      ]
    },
{
      "cell_type": "markdown",
      "metadata": {},
      "source": [
      "Podemos ver que ele mostra que há 30 diretórios e 12 arquivos, enquanto antes indicava 873 diretórios, 119679 arquivos e 119679 arquivos."
      ]
    },
{
      "cell_type": "markdown",
      "metadata": {},
      "source": [
      "### Criar pastas com `mkdir` (criar diretório)"
      ]
    },
{
      "cell_type": "markdown",
      "metadata": {},
      "source": [
      "Se quisermos criar um novo diretório, podemos usar o comando `mkdir` (criar diretório) e um nome"
      ]
    },
{
      "cell_type": "code",
      "execution_count": 31,
      "metadata": {},
      "outputs": [],
      "source": [
      "terminal(\"cd /home/wallabot/Documentos/web/portafolio/posts/\")"
      ]
    },
{
      "cell_type": "code",
      "execution_count": 32,
      "metadata": {},
      "outputs": [
      {
          "name": "stdout",
          "output_type": "stream",
          "text": [
          "\n"
          ]
        }
      ],
      "source": [
      "terminal('mkdir prueba')"
      ]
    },
{
      "cell_type": "code",
      "execution_count": 33,
      "metadata": {},
      "outputs": [
      {
          "name": "stdout",
          "output_type": "stream",
          "text": [
          "2021-02-11-Introduccion-a-Python.ipynb\n",
"2021-04-23-Calculo-matricial-con-Numpy.ipynb\n",
"2021-06-15-Manejo-de-datos-con-Pandas.ipynb\n",
"2022-09-12 Introduccion a la terminal.ipynb\n",
"2022-09-12 Introduccion a la terminal.txt\n",
"command-line-cheat-sheet.pdf\n",
"CSS.ipynb\n",
"Docker.html\n",
"Docker.ipynb\n",
"Expresiones regulares.html\n",
"Expresiones regulares.ipynb\n",
"html_files\n",
"html.ipynb\n",
"introduccion_python\n",
"movies.csv\n",
"movies.dat\n",
"notebooks_translated\n",
"prueba\n",
"__pycache__\n",
"ssh.ipynb\n",
"test.html\n",
"test.ipynb\n",
"\n"
          ]
        }
      ],
      "source": [
      "terminal('ls')"
      ]
    },
{
      "cell_type": "markdown",
      "metadata": {},
      "source": [
      "Se quisermos criar um diretório com espaços no nome, teremos que colocar o nome entre aspas"
      ]
    },
{
      "cell_type": "code",
      "execution_count": 34,
      "metadata": {},
      "outputs": [
      {
          "name": "stdout",
          "output_type": "stream",
          "text": [
          "\n"
          ]
        }
      ],
      "source": [
      "terminal('mkdir \"directorio prueba\"')"
      ]
    },
{
      "cell_type": "code",
      "execution_count": 35,
      "metadata": {},
      "outputs": [
      {
          "name": "stdout",
          "output_type": "stream",
          "text": [
          "2021-02-11-Introduccion-a-Python.ipynb\n",
"2021-04-23-Calculo-matricial-con-Numpy.ipynb\n",
"2021-06-15-Manejo-de-datos-con-Pandas.ipynb\n",
"2022-09-12 Introduccion a la terminal.ipynb\n",
"2022-09-12 Introduccion a la terminal.txt\n",
"command-line-cheat-sheet.pdf\n",
"CSS.ipynb\n",
"directorio prueba\n",
"Docker.html\n",
"Docker.ipynb\n",
"Expresiones regulares.html\n",
"Expresiones regulares.ipynb\n",
"html_files\n",
"html.ipynb\n",
"introduccion_python\n",
"movies.csv\n",
"movies.dat\n",
"notebooks_translated\n",
"prueba\n",
"__pycache__\n",
"ssh.ipynb\n",
"test.html\n",
"test.ipynb\n",
"\n"
          ]
        }
      ],
      "source": [
      "terminal('ls')"
      ]
    },
{
      "cell_type": "markdown",
      "metadata": {},
      "source": [
      "Vamos entrar na pasta `test` que criamos para continuar visualizando o terminal lá."
      ]
    },
{
      "cell_type": "code",
      "execution_count": 36,
      "metadata": {},
      "outputs": [],
      "source": [
      "terminal(\"cd prueba\")"
      ]
    },
{
      "cell_type": "markdown",
      "metadata": {},
      "source": [
      "### Criar arquivos com `touch`."
      ]
    },
{
      "cell_type": "markdown",
      "metadata": {},
      "source": [
      "Se quisermos criar um arquivo, o comando a ser usado é `touch`."
      ]
    },
{
      "cell_type": "code",
      "execution_count": 37,
      "metadata": {},
      "outputs": [
      {
          "name": "stdout",
          "output_type": "stream",
          "text": [
          "\n"
          ]
        }
      ],
      "source": [
      "terminal(\"touch prueba.txt\")"
      ]
    },
{
      "cell_type": "code",
      "execution_count": 38,
      "metadata": {},
      "outputs": [
      {
          "name": "stdout",
          "output_type": "stream",
          "text": [
          "prueba.txt\n",
"\n"
          ]
        }
      ],
      "source": [
      "terminal(\"ls\")"
      ]
    },
{
      "cell_type": "markdown",
      "metadata": {},
      "source": [
      "### Copiar arquivos com `cp` (copiar)"
      ]
    },
{
      "cell_type": "markdown",
      "metadata": {},
      "source": [
      "Se quisermos copiar um arquivo, faremos isso com o comando `cp` (copy)."
      ]
    },
{
      "cell_type": "code",
      "execution_count": 39,
      "metadata": {},
      "outputs": [
      {
          "name": "stdout",
          "output_type": "stream",
          "text": [
          "\n"
          ]
        }
      ],
      "source": [
      "terminal(\"cp prueba.txt prueba_copy.txt\")"
      ]
    },
{
      "cell_type": "code",
      "execution_count": 40,
      "metadata": {},
      "outputs": [
      {
          "name": "stdout",
          "output_type": "stream",
          "text": [
          "prueba_copy.txt\n",
"prueba.txt\n",
"\n"
          ]
        }
      ],
      "source": [
      "terminal(\"ls\")"
      ]
    },
{
      "cell_type": "markdown",
      "metadata": {},
      "source": [
      "### Mover arquivos com `mv` (mover)"
      ]
    },
{
      "cell_type": "markdown",
      "metadata": {},
      "source": [
      "Se quisermos movê-lo, usaremos o comando `mv` (mover)."
      ]
    },
{
      "cell_type": "code",
      "execution_count": 41,
      "metadata": {},
      "outputs": [
      {
          "name": "stdout",
          "output_type": "stream",
          "text": [
          "\n"
          ]
        }
      ],
      "source": [
      "terminal(\"mv prueba.txt ../prueba.txt\")"
      ]
    },
{
      "cell_type": "code",
      "execution_count": 42,
      "metadata": {},
      "outputs": [
      {
          "name": "stdout",
          "output_type": "stream",
          "text": [
          "prueba_copy.txt\n",
"\n"
          ]
        }
      ],
      "source": [
      "terminal(\"ls\")"
      ]
    },
{
      "cell_type": "code",
      "execution_count": 43,
      "metadata": {},
      "outputs": [
      {
          "name": "stdout",
          "output_type": "stream",
          "text": [
          "2021-02-11-Introduccion-a-Python.ipynb\n",
"2021-04-23-Calculo-matricial-con-Numpy.ipynb\n",
"2021-06-15-Manejo-de-datos-con-Pandas.ipynb\n",
"2022-09-12 Introduccion a la terminal.ipynb\n",
"2022-09-12 Introduccion a la terminal.txt\n",
"command-line-cheat-sheet.pdf\n",
"CSS.ipynb\n",
"directorio prueba\n",
"Docker.html\n",
"Docker.ipynb\n",
"Expresiones regulares.html\n",
"Expresiones regulares.ipynb\n",
"html_files\n",
"html.ipynb\n",
"introduccion_python\n",
"movies.csv\n",
"movies.dat\n",
"notebooks_translated\n",
"prueba\n",
"prueba.txt\n",
"__pycache__\n",
"ssh.ipynb\n",
"test.html\n",
"test.ipynb\n",
"\n"
          ]
        }
      ],
      "source": [
      "terminal(\"ls ../\")"
      ]
    },
{
      "cell_type": "markdown",
      "metadata": {},
      "source": [
      "### Renomear arquivos com `mv` (mover)"
      ]
    },
{
      "cell_type": "markdown",
      "metadata": {},
      "source": [
      "O comando `mv` também é útil para renomear arquivos, pois se movermos o arquivo para o mesmo diretório, mas dermos a ele um nome diferente, estaremos renomeando o arquivo."
      ]
    },
{
      "cell_type": "code",
      "execution_count": 44,
      "metadata": {},
      "outputs": [
      {
          "name": "stdout",
          "output_type": "stream",
          "text": [
          "\n"
          ]
        }
      ],
      "source": [
      "terminal(\"mv prueba_copy.txt prueba_move.txt\")"
      ]
    },
{
      "cell_type": "code",
      "execution_count": 45,
      "metadata": {},
      "outputs": [
      {
          "name": "stdout",
          "output_type": "stream",
          "text": [
          "prueba_move.txt\n",
"\n"
          ]
        }
      ],
      "source": [
      "terminal(\"ls\")"
      ]
    },
{
      "cell_type": "markdown",
      "metadata": {},
      "source": [
      "### Excluir arquivos com `rm` (remover)"
      ]
    },
{
      "cell_type": "markdown",
      "metadata": {},
      "source": [
      "Para excluir arquivos ou diretórios, usamos o comando `rm` (remover)."
      ]
    },
{
      "cell_type": "code",
      "execution_count": 46,
      "metadata": {},
      "outputs": [
      {
          "name": "stdout",
          "output_type": "stream",
          "text": [
          "\n"
          ]
        }
      ],
      "source": [
      "terminal(\"rm prueba_move.txt\")"
      ]
    },
{
      "cell_type": "code",
      "execution_count": 47,
      "metadata": {},
      "outputs": [
      {
          "name": "stdout",
          "output_type": "stream",
          "text": [
          "\n"
          ]
        }
      ],
      "source": [
      "terminal(\"ls\")"
      ]
    },
{
      "cell_type": "markdown",
      "metadata": {},
      "source": [
      "### Remover diretórios com `rm -r` (remover recursivo)"
      ]
    },
{
      "cell_type": "markdown",
      "metadata": {},
      "source": [
      "Se quiser excluir um diretório com arquivos, você deverá usar o sinalizador `-r`."
      ]
    },
{
      "cell_type": "code",
      "execution_count": 48,
      "metadata": {},
      "outputs": [],
      "source": [
      "terminal(\"cd ..\")"
      ]
    },
{
      "cell_type": "code",
      "execution_count": 49,
      "metadata": {},
      "outputs": [
      {
          "name": "stdout",
          "output_type": "stream",
          "text": [
          "\n"
          ]
        }
      ],
      "source": [
      "terminal('rm -r \"directorio prueba\"')"
      ]
    },
{
      "cell_type": "code",
      "execution_count": 50,
      "metadata": {},
      "outputs": [
      {
          "name": "stdout",
          "output_type": "stream",
          "text": [
          "2021-02-11-Introduccion-a-Python.ipynb\n",
"2021-04-23-Calculo-matricial-con-Numpy.ipynb\n",
"2021-06-15-Manejo-de-datos-con-Pandas.ipynb\n",
"2022-09-12 Introduccion a la terminal.ipynb\n",
"2022-09-12 Introduccion a la terminal.txt\n",
"command-line-cheat-sheet.pdf\n",
"CSS.ipynb\n",
"Docker.html\n",
"Docker.ipynb\n",
"Expresiones regulares.html\n",
"Expresiones regulares.ipynb\n",
"html_files\n",
"html.ipynb\n",
"introduccion_python\n",
"movies.csv\n",
"movies.dat\n",
"notebooks_translated\n",
"prueba\n",
"prueba.txt\n",
"__pycache__\n",
"ssh.ipynb\n",
"test.html\n",
"test.ipynb\n",
"\n"
          ]
        }
      ],
      "source": [
      "terminal(\"ls\")"
      ]
    },
{
      "cell_type": "markdown",
      "metadata": {},
      "source": [
      "Como você pode ver, ele nunca pergunta se temos certeza; para que ele pergunte, é necessário adicionar o sinalizador `-i` (`iteractive`)."
      ]
    },
{
      "cell_type": "code",
      "execution_count": 66,
      "metadata": {},
      "outputs": [
      {
          "name": "stdout",
          "output_type": "stream",
          "text": [
          "rm: ¿borrar el fichero regular vacío 'prueba.txt'? (s/n) s\n",
"\n"
          ]
        }
      ],
      "source": [
      "terminal(\"rm -i prueba.txt\")"
      ]
    },
{
      "attachments": {},
      "cell_type": "markdown",
      "metadata": {},
      "source": [
      "### Sincronize arquivos usando o `rsync`."
      ]
    },
{
      "attachments": {},
      "cell_type": "markdown",
      "metadata": {},
      "source": [
      "Até agora, vimos como copiar, mover e excluir arquivos, mas suponhamos que tenhamos uma pasta e copiemos esses arquivos para outra pasta. Agora, suponha que modificamos um arquivo na primeira pasta e queremos que a segunda pasta tenha as alterações. Temos duas opções: copiar todos os arquivos novamente ou fazer uma sincronização usando o `rsync`."
      ]
    },
{
      "attachments": {},
      "cell_type": "markdown",
      "metadata": {},
      "source": [
      "Primeiro, vamos criar uma nova pasta na qual criaremos vários arquivos"
      ]
    },
{
      "cell_type": "code",
      "execution_count": 1,
      "metadata": {},
      "outputs": [],
      "source": [
      "!mkdir sourcefolder\n",
"!touch sourcefolder/file1 sourcefolder/file2 sourcefolder/file3"
      ]
    },
{
      "attachments": {},
      "cell_type": "markdown",
      "metadata": {},
      "source": [
      "Agora, criamos uma segunda pasta que será sincronizada com a primeira."
      ]
    },
{
      "cell_type": "code",
      "execution_count": 2,
      "metadata": {},
      "outputs": [],
      "source": [
      "!mkdir syncfolder"
      ]
    },
{
      "cell_type": "code",
      "execution_count": 10,
      "metadata": {},
      "outputs": [
      {
          "name": "stdout",
          "output_type": "stream",
          "text": [
          "ls sourcefolder:\n",
"file1  file2  file3\n",
"ls syncfolder:\n"
          ]
        }
      ],
      "source": [
      "!echo \"ls sourcefolder:\" && ls sourcefolder && echo \"ls syncfolder:\" && ls syncfolder"
      ]
    },
{
      "attachments": {},
      "cell_type": "markdown",
      "metadata": {},
      "source": [
      "Sincronizamos as duas pastas com o `rsync`; na primeira vez, ele copiará apenas os arquivos da primeira pasta para a segunda. Para fazer isso, também devemos adicionar o sinalizador `-r` (recursivo)."
      ]
    },
{
      "cell_type": "code",
      "execution_count": 11,
      "metadata": {},
      "outputs": [],
      "source": [
      "!rsync -r sourcefolder/ syncfolder/"
      ]
    },
{
      "cell_type": "code",
      "execution_count": 12,
      "metadata": {},
      "outputs": [
      {
          "name": "stdout",
          "output_type": "stream",
          "text": [
          "ls sourcefolder:\n",
"file1  file2  file3\n",
"ls syncfolder:\n",
"file1  file2  file3\n"
          ]
        }
      ],
      "source": [
      "!echo \"ls sourcefolder:\" && ls sourcefolder && echo \"ls syncfolder:\" && ls syncfolder"
      ]
    },
{
      "attachments": {},
      "cell_type": "markdown",
      "metadata": {},
      "source": [
      "Se eu agora criar um novo arquivo em `sourcefolder` e sincronizar novamente, somente esse arquivo será copiado para `syncfolder`. Para ver que apenas um arquivo é copiado, podemos usar o sinalizador `-v` (verbose)."
      ]
    },
{
      "cell_type": "code",
      "execution_count": 14,
      "metadata": {},
      "outputs": [],
      "source": [
      "!touch sourcefolder/file4"
      ]
    },
{
      "cell_type": "code",
      "execution_count": 15,
      "metadata": {},
      "outputs": [
      {
          "name": "stdout",
          "output_type": "stream",
          "text": [
          "sending incremental file list\n",
"file1\n",
"file2\n",
"file3\n",
"file4\n",
"\n",
"sent 269 bytes  received 92 bytes  722.00 bytes/sec\n",
"total size is 0  speedup is 0.00\n"
          ]
        }
      ],
      "source": [
      "!rsync -r -v sourcefolder/ syncfolder/"
      ]
    },
{
      "attachments": {},
      "cell_type": "markdown",
      "metadata": {},
      "source": [
      "Mas parece que ele copiou todos os arquivos, portanto, para impedir que isso aconteça e copiar apenas os que foram modificados, use o sinalizador `-u`."
      ]
    },
{
      "cell_type": "code",
      "execution_count": 16,
      "metadata": {},
      "outputs": [],
      "source": [
      "!touch sourcefolder/file5"
      ]
    },
{
      "cell_type": "code",
      "execution_count": 17,
      "metadata": {},
      "outputs": [
      {
          "name": "stdout",
          "output_type": "stream",
          "text": [
          "sending incremental file list\n",
"file5\n",
"\n",
"sent 165 bytes  received 35 bytes  400.00 bytes/sec\n",
"total size is 0  speedup is 0.00\n"
          ]
        }
      ],
      "source": [
      "!rsync -r -v -u sourcefolder/ syncfolder/"
      ]
    },
{
      "cell_type": "code",
      "execution_count": 18,
      "metadata": {},
      "outputs": [
      {
          "name": "stdout",
          "output_type": "stream",
          "text": [
          "ls sourcefolder:\n",
"file1  file2  file3  file4  file5\n",
"ls syncfolder:\n",
"file1  file2  file3  file4  file5\n"
          ]
        }
      ],
      "source": [
      "!echo \"ls sourcefolder:\" && ls sourcefolder && echo \"ls syncfolder:\" && ls syncfolder"
      ]
    },
{
      "attachments": {},
      "cell_type": "markdown",
      "metadata": {},
      "source": [
      "E se eu criar um novo arquivo em `syncfolder`?"
      ]
    },
{
      "cell_type": "code",
      "execution_count": 19,
      "metadata": {},
      "outputs": [],
      "source": [
      "!touch syncfolder/file6"
      ]
    },
{
      "cell_type": "code",
      "execution_count": 20,
      "metadata": {},
      "outputs": [
      {
          "name": "stdout",
          "output_type": "stream",
          "text": [
          "sending incremental file list\n",
"\n",
"sent 122 bytes  received 12 bytes  268.00 bytes/sec\n",
"total size is 0  speedup is 0.00\n"
          ]
        }
      ],
      "source": [
      "!rsync -r -v -u sourcefolder/ syncfolder/"
      ]
    },
{
      "cell_type": "code",
      "execution_count": 21,
      "metadata": {},
      "outputs": [
      {
          "name": "stdout",
          "output_type": "stream",
          "text": [
          "ls sourcefolder:\n",
"file1  file2  file3  file4  file5\n",
"ls syncfolder:\n",
"file1  file2  file3  file4  file5  file6\n"
          ]
        }
      ],
      "source": [
      "!echo \"ls sourcefolder:\" && ls sourcefolder && echo \"ls syncfolder:\" && ls syncfolder"
      ]
    },
{
      "attachments": {},
      "cell_type": "markdown",
      "metadata": {},
      "source": [
      "Ele não o sincroniza, portanto, é importante ter isso em mente."
      ]
    },
{
      "attachments": {},
      "cell_type": "markdown",
      "metadata": {},
      "source": [
      "Alguns sinalizadores importantes que você deve ter em mente são:\n",
"\n",
" * `-a`: esse sinalizador é um atalho para várias opções, incluindo `-r` (recursivo), `-l` (copiar links simbólicos), `-p` (manter permissões), `-t` (manter tempo de modificação) e `-g` (manter grupo). Essa opção é útil para fazer uma cópia exata de um diretório, incluindo todas as suas subpastas e arquivos.\n",
" * `-v`: esse sinalizador ativa a saída detalhada, que mostra os arquivos que estão sendo copiados e o progresso da operação.\n",
" * `-r`: esse sinalizador é usado para cópia recursiva, o que significa que ele copia todas as subpastas e arquivos em um diretório.\n",
" * `-u`: esse sinalizador é usado para copiar somente arquivos novos ou alterados. Se um arquivo já existir no destino e for mais recente que o arquivo de origem, ele não será copiado.\n",
" * `-n`: esse sinalizador é usado para fazer um teste de cópia, o que significa que nenhuma alteração é feita no destino.\n",
" * `--exclude`: esse sinalizador é usado para excluir arquivos ou pastas específicos da operação de cópia. Você pode especificar vários arquivos ou pastas a serem excluídos usando essa opção várias vezes.\n",
" * `-z`: esse sinalizador é usado para compactar os dados durante a transferência, o que reduz a largura de banda usada e acelera a taxa de transferência.\n",
" * `-h`: esse sinalizador é usado para exibir informações em um formato mais legível, especialmente ao trabalhar com grandes quantidades de dados ou arquivos grandes."
      ]
    },
{
      "attachments": {},
      "cell_type": "markdown",
      "metadata": {},
      "source": [
      "Exclua as duas pastas criadas"
      ]
    },
{
      "cell_type": "code",
      "execution_count": 22,
      "metadata": {},
      "outputs": [],
      "source": [
      "!rm -r sourcefolder syncfolder"
      ]
    },
{
      "cell_type": "markdown",
      "metadata": {},
      "source": [
      "\n",
"## Explorando o conteúdo dos arquivos"
      ]
    },
{
      "cell_type": "markdown",
      "metadata": {},
      "source": [
      "Para evitar a necessidade de abrir um arquivo em uma interface gráfica, temos várias maneiras. Primeiro, vou copiar um arquivo de texto para essa pasta"
      ]
    },
{
      "cell_type": "code",
      "execution_count": 51,
      "metadata": {},
      "outputs": [],
      "source": [
      "terminal(\"cd prueba\")"
      ]
    },
{
      "cell_type": "code",
      "execution_count": 52,
      "metadata": {},
      "outputs": [
      {
          "name": "stdout",
          "output_type": "stream",
          "text": [
          "\n"
          ]
        }
      ],
      "source": [
      "terminal(\"cp ../2021-02-11-Introduccion-a-Python.ipynb .\")"
      ]
    },
{
      "cell_type": "code",
      "execution_count": 53,
      "metadata": {},
      "outputs": [
      {
          "name": "stdout",
          "output_type": "stream",
          "text": [
          "2021-02-11-Introduccion-a-Python.ipynb\n",
"\n"
          ]
        }
      ],
      "source": [
      "terminal(\"ls\")"
      ]
    },
{
      "cell_type": "markdown",
      "metadata": {},
      "source": [
      "### Cabeçalhos de arquivo com `head`."
      ]
    },
{
      "cell_type": "markdown",
      "metadata": {},
      "source": [
      "O primeiro comando para ver dentro de um arquivo de texto é `head`, que permite ver as primeiras 10 linhas de um arquivo, mas com o sinalizador `-n` você pode especificar o número de linhas."
      ]
    },
{
      "cell_type": "code",
      "execution_count": 54,
      "metadata": {},
      "outputs": [
      {
          "name": "stdout",
          "output_type": "stream",
          "text": [
          "{\n",
"  \"cells\": [\n",
"    {\n",
"      \"cell_type\": \"markdown\",\n",
"      \"metadata\": {\n",
"        \"id\": \"dsaKCKL0IxZl\"\n",
"      },\n",
"      \"source\": [\n",
"        \"# Introducción a Python\"\n",
"      ]\n",
"\n"
          ]
        }
      ],
      "source": [
      "terminal(\"head 2021-02-11-Introduccion-a-Python.ipynb\")"
      ]
    },
{
      "cell_type": "code",
      "execution_count": 55,
      "metadata": {},
      "outputs": [
      {
          "name": "stdout",
          "output_type": "stream",
          "text": [
          "{\n",
"  \"cells\": [\n",
"    {\n",
"      \"cell_type\": \"markdown\",\n",
"      \"metadata\": {\n",
"\n"
          ]
        }
      ],
      "source": [
      "terminal(\"head -n 5 2021-02-11-Introduccion-a-Python.ipynb\")"
      ]
    },
{
      "cell_type": "markdown",
      "metadata": {},
      "source": [
      "### Fila de um arquivo com `tail`."
      ]
    },
{
      "cell_type": "markdown",
      "metadata": {},
      "source": [
      "Se quisermos ver as últimas linhas, usaremos `tail`."
      ]
    },
{
      "cell_type": "code",
      "execution_count": 56,
      "metadata": {},
      "outputs": [
      {
          "name": "stdout",
          "output_type": "stream",
          "text": [
          "    },\n",
"    \"vscode\": {\n",
"      \"interpreter\": {\n",
"        \"hash\": \"d5745ab6aba164e1152437c779991855725055592b9f2bdb41a4825db7168d26\"\n",
"      }\n",
"    }\n",
"  },\n",
"  \"nbformat\": 4,\n",
"  \"nbformat_minor\": 0\n",
"}\n",
"\n"
          ]
        }
      ],
      "source": [
      "terminal(\"tail 2021-02-11-Introduccion-a-Python.ipynb\")"
      ]
    },
{
      "cell_type": "code",
      "execution_count": 57,
      "metadata": {},
      "outputs": [
      {
          "name": "stdout",
          "output_type": "stream",
          "text": [
          "    }\n",
"  },\n",
"  \"nbformat\": 4,\n",
"  \"nbformat_minor\": 0\n",
"}\n",
"\n"
          ]
        }
      ],
      "source": [
      "terminal(\"tail -n 5 2021-02-11-Introduccion-a-Python.ipynb\")"
      ]
    },
{
      "cell_type": "markdown",
      "metadata": {},
      "source": [
      "Se quisermos ver continuamente as últimas linhas de um arquivo, por exemplo, se quisermos monitorar continuamente um arquivo LOG para ver eventos, adicionaremos o sinalizador `-f`, o que fará com que o terminal verifique continuamente o arquivo e, sempre que uma nova linha aparecer no arquivo, ele a mostrará."
      ]
    },
{
      "cell_type": "markdown",
      "metadata": {},
      "source": [
      "Por exemplo, se eu monitorar o registro de login em minha máquina"
      ]
    },
{
      "cell_type": "code",
      "execution_count": 57,
      "metadata": {},
      "outputs": [
      {
          "name": "stdout",
          "output_type": "stream",
          "text": [
          "Dec  1 16:27:22 wallabot gcr-prompter[1457]: Gcr: calling the PromptDone method on /org/gnome/keyring/Prompt/p2@:1.26, and ignoring reply\n",
"Dec  1 16:27:22 wallabot gnome-keyring-daemon[1178]: asked to register item /org/freedesktop/secrets/collection/login/10, but it's already registered\n",
"Dec  1 16:27:26 wallabot systemd-logind[835]: Watching system buttons on /dev/input/event28 (Logitech Wireless Mouse MX Master 3)\n",
"Dec  1 16:27:33 wallabot gcr-prompter[1457]: Gcr: 10 second inactivity timeout, quitting\n",
"Dec  1 16:27:33 wallabot gcr-prompter[1457]: Gcr: unregistering prompter\n",
"Dec  1 16:27:33 wallabot gcr-prompter[1457]: Gcr: disposing prompter\n",
"Dec  1 16:27:33 wallabot gcr-prompter[1457]: Gcr: finalizing prompter\n",
"Dec  1 16:27:34 wallabot polkitd(authority=local): Operator of unix-session:1 successfully authenticated as unix-user:wallabot to gain TEMPORARY authorization for action org.debian.apt.install-or-remove-packages for system-bus-name::1.96 [/usr/bin/python3 /usr/bin/update-manager --no-update --no-focus-on-map] (owned by unix-user:wallabot)\n",
"Dec  1 16:27:42 wallabot systemd-logind[835]: Watching system buttons on /dev/input/event30 (T9-R (AVRCP))\n",
"Dec  1 16:27:49 wallabot gnome-keyring-daemon[1178]: asked to register item /org/freedesktop/secrets/collection/login/2, but it's already registered\n"
          ]
        }
      ],
      "source": [
      "!tail -f /var/log/auth.log"
      ]
    },
{
      "cell_type": "markdown",
      "metadata": {},
      "source": [
      "As duas últimas linhas mostram meu login quando liguei o computador hoje."
      ]
    },
{
      "cell_type": "markdown",
      "metadata": {},
      "source": [
      "Agora me conecto via ssh à minha própria máquina"
      ]
    },
{
      "cell_type": "code",
      "execution_count": 57,
      "metadata": {},
      "outputs": [
      {
          "name": "stdout",
          "output_type": "stream",
          "text": [
          "wallabot@localhost's password: \n",
"Welcome to Ubuntu 20.04.5 LTS (GNU/Linux 5.15.0-53-generic x86_64)\n",
"\n",
" * Documentation:  https://help.ubuntu.com\n",
" * Management:     https://landscape.canonical.com\n",
" * Support:        https://ubuntu.com/advantage\n",
"\n",
"1 device has a firmware upgrade available.\n",
"Run `fwupdmgr get-upgrades` for more information.\n",
"\n",
"\n",
"Se pueden aplicar 0 actualizaciones de forma inmediata.\n",
"\n",
"Your Hardware Enablement Stack (HWE) is supported until April 2025.\n",
"*** System restart required ***\n",
"Last login: Sun May  8 02:18:09 2022 from 192.168.1.147\n"
          ]
        }
      ],
      "source": [
      "!ssh localhost"
      ]
    },
{
      "cell_type": "markdown",
      "metadata": {},
      "source": [
      "No console em que eu estava monitorando o login, apareceram duas novas linhas"
      ]
    },
{
      "cell_type": "code",
      "execution_count": 57,
      "metadata": {},
      "outputs": [
      {
          "name": "stdout",
          "output_type": "stream",
          "text": [
          "Dec  1 16:32:23 wallabot sshd[25647]: Accepted password for wallabot from 127.0.0.1 port 54668 ssh2\n",
"Dec  1 16:32:23 wallabot sshd[25647]: pam_unix(sshd:session): session opened for user wallabot by (uid=0)\n",
"Dec  1 16:32:23 wallabot systemd-logind[835]: New session 4 of user wallabot.\n"
          ]
        }
      ],
      "source": []
    },
{
      "cell_type": "markdown",
      "metadata": {},
      "source": [
      "E quando fecho a sessão ssh, aparecem mais duas novas linhas"
      ]
    },
{
      "cell_type": "code",
      "execution_count": 57,
      "metadata": {},
      "outputs": [
      {
          "name": "stdout",
          "output_type": "stream",
          "text": [
          "Dec  1 16:33:52 wallabot sshd[25647]: pam_unix(sshd:session): session closed for user wallabot\n",
"Dec  1 16:33:52 wallabot systemd-logind[835]: Session 4 logged out. Waiting for processes to exit.\n",
"Dec  1 16:33:52 wallabot systemd-logind[835]: Removed session 4.\n"
          ]
        }
      ],
      "source": []
    },
{
      "cell_type": "markdown",
      "metadata": {},
      "source": [
      "### O visualizador de arquivos mais avançado: `less`."
      ]
    },
{
      "cell_type": "markdown",
      "metadata": {},
      "source": [
      "Um dos comandos mais poderosos para examinar arquivos internos é o `less`."
      ]
    },
{
      "cell_type": "code",
      "execution_count": 58,
      "metadata": {},
      "outputs": [
      {
          "name": "stdout",
          "output_type": "stream",
          "text": [
          "{\n",
"  \"cells\": [\n",
"    {\n",
"      \"cell_type\": \"markdown\",\n",
"      \"metadata\": {\n",
"        \"id\": \"dsaKCKL0IxZl\"\n",
"      },\n",
"      \"source\": [\n",
"        \"# Introducción a Python\"\n",
"      ]\n",
"    },\n",
"    {\n",
"      \"cell_type\": \"markdown\",\n",
"      \"metadata\": {\n",
"        \"id\": \"Ho_8zgIiI0We\"\n",
"      },\n",
"      \"source\": [\n",
"        \"## 1. Resumen\"\n",
"      ]\n",
"    },\n",
"\t ...\n",
"  },\n",
"  \"nbformat\": 4,\n",
"  \"nbformat_minor\": 0\n",
"}\n",
"\n"
          ]
        }
      ],
      "source": [
      "terminal(\"less 2021-02-11-Introduccion-a-Python.ipynb\", max_lines_output=20)"
      ]
    },
{
      "cell_type": "markdown",
      "metadata": {},
      "source": [
      "Como estamos dentro de um bloco de notas, não podemos ver o que realmente está acontecendo quando usamos o `less`, mas quando o usamos, entramos no documento e podemos nos mover por ele usando as teclas ou o mouse.\n",
"\n",
"Se quisermos pesquisar algo dentro do documento, digitamos o caractere `/` e o que quisermos pesquisar. Para alternar entre as diferentes instâncias encontradas, pressionamos a tecla `n` e, se quisermos retroceder nas pesquisas, pressionamos `shift+n`.\n",
"\n",
"Para sair, basta pressionar `q`."
      ]
    },
{
      "cell_type": "markdown",
      "metadata": {},
      "source": [
      "### O visualizador `cat"
      ]
    },
{
      "cell_type": "markdown",
      "metadata": {},
      "source": [
      "O cat` não é um visualizador tão poderoso quanto o `less`, mas é útil para visualizar arquivos. Ele não permite que você navegue ou pesquise o arquivo. Exibe todo o conteúdo do arquivo"
      ]
    },
{
      "cell_type": "code",
      "execution_count": 64,
      "metadata": {},
      "outputs": [
      {
          "name": "stdout",
          "output_type": "stream",
          "text": [
          "{\n",
"  \"cells\": [\n",
"    {\n",
"      \"cell_type\": \"markdown\",\n",
"      \"metadata\": {\n",
"        \"id\": \"dsaKCKL0IxZl\"\n",
"      },\n",
"      \"source\": [\n",
"        \"# Introducción a Python\"\n",
"      ]\n",
"    },\n",
"    {\n",
"      \"cell_type\": \"markdown\",\n",
"      \"metadata\": {\n",
"        \"id\": \"Ho_8zgIiI0We\"\n",
"      },\n",
"      \"source\": [\n",
"        \"## 1. Resumen\"\n",
"      ]\n",
"    },\n",
"\t ...\n",
"  },\n",
"  \"nbformat\": 4,\n",
"  \"nbformat_minor\": 0\n",
"}\n",
"\n"
          ]
        }
      ],
      "source": [
      "terminal(\"cat 2021-02-11-Introduccion-a-Python.ipynb\", max_lines_output=20)"
      ]
    },
{
      "cell_type": "markdown",
      "metadata": {},
      "source": [
      "### Editor padrão do sistema `xdg-open`."
      ]
    },
{
      "cell_type": "markdown",
      "metadata": {},
      "source": [
      "Se quisermos abri-lo com o editor padrão do arquivo, teremos que usar o `xdg-open`."
      ]
    },
{
      "cell_type": "code",
      "execution_count": 59,
      "metadata": {},
      "outputs": [
      {
          "name": "stdout",
          "output_type": "stream",
          "text": [
          "\n"
          ]
        }
      ],
      "source": [
      "terminal(\"xdg-open 2021-02-11-Introducción-a-Python.ipynb\")"
      ]
    },
{
      "cell_type": "markdown",
      "metadata": {},
      "source": [
      "### Navegador de arquivos `nautilus`"
      ]
    },
{
      "cell_type": "markdown",
      "metadata": {},
      "source": [
      "Se quisermos abrir a pasta em que estamos, usaremos o `nautilus`."
      ]
    },
{
      "cell_type": "code",
      "execution_count": 60,
      "metadata": {},
      "outputs": [
      {
          "name": "stdout",
          "output_type": "stream",
          "text": [
          "\n"
          ]
        }
      ],
      "source": [
      "terminal(\"nautilus\")"
      ]
    },
{
      "cell_type": "markdown",
      "metadata": {},
      "source": [
      "E se quisermos que ele seja aberto em uma rota específica, incluiremos a rota"
      ]
    },
{
      "cell_type": "code",
      "execution_count": 62,
      "metadata": {},
      "outputs": [
      {
          "name": "stdout",
          "output_type": "stream",
          "text": [
          "\n"
          ]
        }
      ],
      "source": [
      "terminal(\"nautilus ~/\")"
      ]
    },
{
      "cell_type": "markdown",
      "metadata": {},
      "source": [
      "### Contagem de palavras de um arquivo com `wc` (contagem de palavras)"
      ]
    },
{
      "cell_type": "markdown",
      "metadata": {},
      "source": [
      "Por fim, um comando muito útil é o `wc` (contagem de palavras), que mostra quantas linhas, palavras e bits um arquivo tem."
      ]
    },
{
      "cell_type": "code",
      "execution_count": 63,
      "metadata": {},
      "outputs": [
      {
          "name": "stdout",
          "output_type": "stream",
          "text": [
          " 11678  25703 285898 2021-02-11-Introduccion-a-Python.ipynb\n",
"\n"
          ]
        }
      ],
      "source": [
      "terminal(\"wc 2021-02-11-Introduccion-a-Python.ipynb\")"
      ]
    },
{
      "cell_type": "markdown",
      "metadata": {},
      "source": [
      "Como podemos ver, o arquivo tem 11678 linhas, 25703 palavras e ocupa 285898 bytes."
      ]
    },
{
      "cell_type": "markdown",
      "metadata": {},
      "source": [
      "## O que é um comando"
      ]
    },
{
      "cell_type": "markdown",
      "metadata": {},
      "source": [
      "Um comando pode ser 4 coisas\n",
" * Um programa executável, que normalmente é armazenado no caminho `/usr/bin`.\n",
" * Um comando do shell\n",
" * Uma função do shell\n",
" * Um alias"
      ]
    },
{
      "cell_type": "markdown",
      "metadata": {},
      "source": [
      "Para ver a que classe um comando pertence, usamos `type`."
      ]
    },
{
      "cell_type": "code",
      "execution_count": 65,
      "metadata": {},
      "outputs": [
      {
          "name": "stdout",
          "output_type": "stream",
          "text": [
          "cd is a shell builtin\n"
          ]
        }
      ],
      "source": [
      "!type cd"
      ]
    },
{
      "cell_type": "code",
      "execution_count": 66,
      "metadata": {},
      "outputs": [
      {
          "name": "stdout",
          "output_type": "stream",
          "text": [
          "mkdir is /usr/bin/mkdir\n"
          ]
        }
      ],
      "source": [
      "!type mkdir"
      ]
    },
{
      "cell_type": "code",
      "execution_count": 67,
      "metadata": {},
      "outputs": [
      {
          "name": "stdout",
          "output_type": "stream",
          "text": [
          "ls is /usr/bin/ls\n"
          ]
        }
      ],
      "source": [
      "!type ls"
      ]
    },
{
      "cell_type": "markdown",
      "metadata": {},
      "source": [
      "## O que é um alias?"
      ]
    },
{
      "cell_type": "markdown",
      "metadata": {},
      "source": [
      "Um alias é um comando que nós mesmos definimos, definido pelo comando `alias`. Por exemplo, vamos criar o alias `l` que executa `ls -h`."
      ]
    },
{
      "cell_type": "code",
      "execution_count": 68,
      "metadata": {},
      "outputs": [],
      "source": [
      "!alias l='ls -l'"
      ]
    },
{
      "cell_type": "markdown",
      "metadata": {},
      "source": [
      "Quando executamos `l`, ele nos mostra o resultado de `ls -h`."
      ]
    },
{
      "cell_type": "code",
      "execution_count": 67,
      "metadata": {},
      "outputs": [
      {
          "name": "stdout",
          "output_type": "stream",
          "text": [
          "2021-02-11-Introducción-a-Python.ipynb\n"
          ]
        }
      ],
      "source": [
      "!l"
      ]
    },
{
      "cell_type": "markdown",
      "metadata": {},
      "source": [
      "Mas isso tem o problema de que, quando fechamos o terminal, o `alias` desaparece. Mais tarde, aprenderemos a criar `aliases` permanentes."
      ]
    },
{
      "cell_type": "markdown",
      "metadata": {},
      "source": [
      "## Ajuda do comando"
      ]
    },
{
      "cell_type": "markdown",
      "metadata": {},
      "source": [
      "### Ajuda com `help`."
      ]
    },
{
      "cell_type": "markdown",
      "metadata": {},
      "source": [
      "Com muitos comandos do shell, podemos obter ajuda com o comando `help`."
      ]
    },
{
      "cell_type": "code",
      "execution_count": 67,
      "metadata": {},
      "outputs": [
      {
          "name": "stdout",
          "output_type": "stream",
          "text": [
          "cd: cd [-L|[-P [-e]]] [dir]\n",
"    Modifica el directorio de trabajo del shell.\n",
"    \n",
"    Modifica el directorio actual a DIR.  DIR por defecto es el valor de la\n",
"    variable de shell HOME.\n",
"    \n",
"    La variable CDPATH define la ruta de búsqueda para el directorio que\n",
"    contiene DIR.  Los nombres alternativos de directorio en CDPATH se\n",
"    separan con dos puntos (:).  Un nombre de directorio nulo es igual que\n",
"    el directorio actual.  Si DIR comienza con una barra inclinada (/),\n",
"    entonces no se usa CDPATH.\n",
"    \n",
"    Si no se encuentra el directorio, y la opción del shell \"cdable_vars\"\n",
"    está activa, entonces se trata la palabra como un nombre de variable.\n",
"    Si esa variable tiene un valor, se utiliza su valor para DIR.\n",
"    \n",
"    Opciones:\n",
"      -L\tfuerza a seguir los enlaces simbólicos: resuelve los enlaces\n",
"    \t\tsimbólicos en DIR después de procesar las instancias de \"..\"\n",
"      -P\tusa la estructura física de directorios sin seguir los enlaces\n",
"    \t\tsimbólicos: resuelve los enlaces simbólicos en DIR antes de procesar\n",
"    \t\tlas instancias de \"..\"\n",
"      -e\tsi se da la opción -P y el directorio actual de trabajo no se\n",
"    \t\tpuede determinar con éxito, termina con un estado diferente de cero.\n",
"    \n",
"    La acción por defecto es seguir los enlaces simbólicos, como si se\n",
"    especificara \"-L\".\n",
"    \"..\" se procesa quitando la componente del nombre de la ruta inmediatamente\n",
"    anterior hasta una barra inclinada o el comienzo de DIR.\n",
"    \n",
"    Estado de Salida:\n",
"    Devuelve 0 si se cambia el directorio, y si $PWD está definido como\n",
"    correcto cuando se emplee -P; de otra forma es diferente a cero.\n"
          ]
        }
      ],
      "source": [
      "!help cd"
      ]
    },
{
      "cell_type": "markdown",
      "metadata": {},
      "source": [
      "### Manual com `man`"
      ]
    },
{
      "cell_type": "markdown",
      "metadata": {},
      "source": [
      "Outro comando é `man`, que se refere ao manual do usuário."
      ]
    },
{
      "cell_type": "code",
      "execution_count": 70,
      "metadata": {},
      "outputs": [
      {
          "name": "stdout",
          "output_type": "stream",
          "text": [
          "LS(1)                            User Commands                           LS(1)\n",
"\n",
"NAME\n",
"       ls - list directory contents\n",
"\n",
"SYNOPSIS\n",
"       ls [OPTION]... [FILE]...\n",
"\n",
"DESCRIPTION\n",
"       List  information  about  the FILEs (the current directory by default).\n",
"       Sort entries alphabetically if none of -cftuvSUX nor --sort  is  speci‐\n",
"       fied.\n",
"\n",
"       Mandatory  arguments  to  long  options are mandatory for short options\n",
"       too.\n",
"\n",
"       -a, --all\n",
"              do not ignore entries starting with .\n",
"\n",
"       -A, --almost-all\n",
"\t ...\n",
"       Full documentation at: <https://www.gnu.org/software/coreutils/ls>\n",
"       or available locally via: info '(coreutils) ls invocation'\n",
"\n",
"GNU coreutils 8.30              September 2019                           LS(1)\n",
"\n"
          ]
        }
      ],
      "source": [
      "terminal(\"man ls\", max_lines_output=20)"
      ]
    },
{
      "cell_type": "markdown",
      "metadata": {},
      "source": [
      "Para sair, pressione `q`, pois o `man` usa o `less` como visualizador manual."
      ]
    },
{
      "cell_type": "markdown",
      "metadata": {},
      "source": [
      "### Informações com `info`"
      ]
    },
{
      "cell_type": "markdown",
      "metadata": {},
      "source": [
      "Outro comando é o `info`."
      ]
    },
{
      "cell_type": "code",
      "execution_count": 71,
      "metadata": {},
      "outputs": [
      {
          "name": "stdout",
          "output_type": "stream",
          "text": [
          "File: coreutils.info,  Node: ls invocation,  Next: dir invocation,  Up: Directory listing\n",
"\n",
"10.1 ‘ls’: List directory contents\n",
"==================================\n",
"\n",
"The ‘ls’ program lists information about files (of any type, including\n",
"directories).  Options and file arguments can be intermixed arbitrarily,\n",
"as usual.\n",
"\n",
"   For non-option command-line arguments that are directories, by\n",
"default ‘ls’ lists the contents of directories, not recursively, and\n",
"omitting files with names beginning with ‘.’.  For other non-option\n",
"arguments, by default ‘ls’ lists just the file name.  If no non-option\n",
"argument is specified, ‘ls’ operates on the current directory, acting as\n",
"if it had been invoked with a single argument of ‘.’.\n",
"\n",
"   By default, the output is sorted alphabetically, according to the\n",
"locale settings in effect.(1)  If standard output is a terminal, the\n",
"output is in columns (sorted vertically) and control characters are\n",
"output as question marks; otherwise, the output is listed one per line\n",
"\t ...\n",
"‘--show-control-chars’\n",
"     Print nongraphic characters as-is in file names.  This is the\n",
"     default unless the output is a terminal and the program is ‘ls’.\n",
"\n",
"\n"
          ]
        }
      ],
      "source": [
      "terminal(\"info ls\", max_lines_output=20)"
      ]
    },
{
      "cell_type": "markdown",
      "metadata": {},
      "source": [
      "Para sair, pressione `q`, pois o `info` usa o `less` como exibição de informações"
      ]
    },
{
      "cell_type": "markdown",
      "metadata": {},
      "source": [
      "### Informações de um comando com `whatis`."
      ]
    },
{
      "cell_type": "markdown",
      "metadata": {},
      "source": [
      "Outro comando é o `whatis`."
      ]
    },
{
      "cell_type": "code",
      "execution_count": 72,
      "metadata": {},
      "outputs": [
      {
          "name": "stdout",
          "output_type": "stream",
          "text": [
          "ls (1)               - list directory contents\n",
"\n"
          ]
        }
      ],
      "source": [
      "terminal(\"whatis ls\")"
      ]
    },
{
      "cell_type": "markdown",
      "metadata": {},
      "source": [
      "## Curingas"
      ]
    },
{
      "cell_type": "markdown",
      "metadata": {},
      "source": [
      "Os curingas são caracteres especiais usados para realizar pesquisas especiais. Por exemplo, se eu quiser pesquisar todos os arquivos que terminam em `.txt`. Vamos criar alguns arquivos para procurá-los"
      ]
    },
{
      "cell_type": "code",
      "execution_count": 73,
      "metadata": {},
      "outputs": [
      {
          "name": "stdout",
          "output_type": "stream",
          "text": [
          "\n"
          ]
        }
      ],
      "source": [
      "terminal(\"touch file.txt dot.txt dot2.txt index.html datos1 datos123 Abc\")"
      ]
    },
{
      "cell_type": "code",
      "execution_count": 74,
      "metadata": {},
      "outputs": [
      {
          "name": "stdout",
          "output_type": "stream",
          "text": [
          "2021-02-11-Introduccion-a-Python.ipynb\n",
"Abc\n",
"datos1\n",
"datos123\n",
"dot2.txt\n",
"dot.txt\n",
"file.txt\n",
"index.html\n",
"\n"
          ]
        }
      ],
      "source": [
      "terminal(\"ls\")"
      ]
    },
{
      "cell_type": "markdown",
      "metadata": {},
      "source": [
      "### Todos os caracteres `*`"
      ]
    },
{
      "cell_type": "markdown",
      "metadata": {},
      "source": [
      "Agora, procuraremos todos os arquivos `.txt`."
      ]
    },
{
      "cell_type": "code",
      "execution_count": 75,
      "metadata": {},
      "outputs": [
      {
          "name": "stdout",
          "output_type": "stream",
          "text": [
          "dot2.txt  dot.txt  file.txt\n"
          ]
        }
      ],
      "source": [
      "!ls *.txt"
      ]
    },
{
      "cell_type": "markdown",
      "metadata": {},
      "source": [
      "Agora, procuraremos por todos aqueles que começam com a palavra `data`."
      ]
    },
{
      "cell_type": "code",
      "execution_count": 76,
      "metadata": {},
      "outputs": [
      {
          "name": "stdout",
          "output_type": "stream",
          "text": [
          "datos1\tdatos123\n"
          ]
        }
      ],
      "source": [
      "!ls datos*"
      ]
    },
{
      "cell_type": "markdown",
      "metadata": {},
      "source": [
      "### Números `?`"
      ]
    },
{
      "cell_type": "markdown",
      "metadata": {},
      "source": [
      "Mas e se realmente quisermos que ele nos mostre todos os arquivos que começam com a palavra `data`, mas seguidos apenas por um número, teremos que colocar um ponto de interrogação `?`?"
      ]
    },
{
      "cell_type": "code",
      "execution_count": 76,
      "metadata": {},
      "outputs": [
      {
          "name": "stdout",
          "output_type": "stream",
          "text": [
          "datos1\n"
          ]
        }
      ],
      "source": [
      "!ls datos?"
      ]
    },
{
      "cell_type": "markdown",
      "metadata": {},
      "source": [
      "Se quisermos que ele tenha três números, precisaremos colocar três pontos de interrogação `?????`."
      ]
    },
{
      "cell_type": "code",
      "execution_count": 76,
      "metadata": {},
      "outputs": [
      {
          "name": "stdout",
          "output_type": "stream",
          "text": [
          "datos123\n"
          ]
        }
      ],
      "source": [
      "!ls datos???"
      ]
    },
{
      "cell_type": "markdown",
      "metadata": {},
      "source": [
      "### Letras maiúsculas `[[[:upper:]]`."
      ]
    },
{
      "cell_type": "markdown",
      "metadata": {},
      "source": [
      "Se quisermos que ele pesquise arquivos que comecem com letras maiúsculas"
      ]
    },
{
      "cell_type": "code",
      "execution_count": 76,
      "metadata": {},
      "outputs": [
      {
          "name": "stdout",
          "output_type": "stream",
          "text": [
          "Abc\n"
          ]
        }
      ],
      "source": [
      "!ls [[:upper:]]*"
      ]
    },
{
      "cell_type": "markdown",
      "metadata": {},
      "source": [
      "### Letras minúsculas `[[[:lower:]]`."
      ]
    },
{
      "cell_type": "markdown",
      "metadata": {},
      "source": [
      "Para arquivos que começam com letras minúsculas"
      ]
    },
{
      "cell_type": "code",
      "execution_count": 76,
      "metadata": {},
      "outputs": [
      {
          "name": "stdout",
          "output_type": "stream",
          "text": [
          "datos1  datos123  dot2.txt  dot.txt  file.txt  index.html\n"
          ]
        }
      ],
      "source": [
      "!ls [[:lower:]]*"
      ]
    },
{
      "cell_type": "markdown",
      "metadata": {},
      "source": [
      "### Classes"
      ]
    },
{
      "cell_type": "markdown",
      "metadata": {},
      "source": [
      "Usando colchetes, podemos criar classes, portanto, se quisermos pesquisar arquivos que comecem com as letras `d` ou `f` seguidas de qualquer caractere"
      ]
    },
{
      "cell_type": "code",
      "execution_count": 76,
      "metadata": {},
      "outputs": [
      {
          "name": "stdout",
          "output_type": "stream",
          "text": [
          "datos1  datos123  dot2.txt  dot.txt  file.txt\n"
          ]
        }
      ],
      "source": [
      "!ls [df]*"
      ]
    },
{
      "cell_type": "markdown",
      "metadata": {},
      "source": [
      "## Redirecionamentos: como o shell funciona"
      ]
    },
{
      "cell_type": "markdown",
      "metadata": {},
      "source": [
      "Um comando funciona da seguinte forma\n",
"\n",
"![comando do pipeline](https://ptgmedia.pearsoncmg.com/images/chap5_9780133927313/elementLinks/05fig02_alt.jpg)\n",
"\n",
"Ele tem uma `entrada padrão`, que, por padrão, é o texto que inserimos pelo teclado, uma `saída padrão`, que, por padrão, é a saída de texto pelo console e um `erro padrão`, que, por padrão, também é uma saída de texto pelo console, mas tem outro formato"
      ]
    },
{
      "cell_type": "markdown",
      "metadata": {},
      "source": [
      "### Redirecionamento de \"saída padrão"
      ]
    },
{
      "cell_type": "markdown",
      "metadata": {},
      "source": [
      "Mas, com o caractere `>`, podemos modificar a `saída padrão` de um comando. Por exemplo, se quisermos listar com o `ls` os arquivos na pasta em que estamos, mas não quisermos que o resultado seja impresso na tela, faríamos o seguinte `ls > list.txt`, isso escreve a lista em `list.txt` e, se `list.txt` não existir, ele a cria"
      ]
    },
{
      "cell_type": "code",
      "execution_count": 77,
      "metadata": {},
      "outputs": [],
      "source": [
      "!ls > lista.txt"
      ]
    },
{
      "cell_type": "markdown",
      "metadata": {},
      "source": [
      "Vemos que ele criou o arquivo e vemos o que está dentro dele."
      ]
    },
{
      "cell_type": "code",
      "execution_count": 78,
      "metadata": {},
      "outputs": [
      {
          "name": "stdout",
          "output_type": "stream",
          "text": [
          "2021-02-11-Introduccion-a-Python.ipynb\n",
"Abc\n",
"datos1\n",
"datos123\n",
"dot2.txt\n",
"dot.txt\n",
"file.txt\n",
"index.html\n",
"lista.txt\n",
"\n"
          ]
        }
      ],
      "source": [
      "terminal(\"ls\")"
      ]
    },
{
      "cell_type": "code",
      "execution_count": 79,
      "metadata": {},
      "outputs": [
      {
          "name": "stdout",
          "output_type": "stream",
          "text": [
          "2021-02-11-Introduccion-a-Python.ipynb\n",
"Abc\n",
"datos1\n",
"datos123\n",
"dot2.txt\n",
"dot.txt\n",
"file.txt\n",
"index.html\n",
"lista.txt\n",
"\n"
          ]
        }
      ],
      "source": [
      "terminal(\"cat lista.txt\")"
      ]
    },
{
      "cell_type": "markdown",
      "metadata": {},
      "source": [
      "Vemos que dentro de `list.txt` aparece `list.txt`, isso porque ele primeiro cria o arquivo e, em seguida, executa o comando"
      ]
    },
{
      "cell_type": "markdown",
      "metadata": {},
      "source": [
      "Fazemos o mesmo, mas com a pasta dos pais"
      ]
    },
{
      "cell_type": "code",
      "execution_count": 80,
      "metadata": {},
      "outputs": [],
      "source": [
      "!ls ../ > lista.txt"
      ]
    },
{
      "cell_type": "markdown",
      "metadata": {},
      "source": [
      "Se olharmos novamente para `list.txt`"
      ]
    },
{
      "cell_type": "code",
      "execution_count": 81,
      "metadata": {},
      "outputs": [
      {
          "name": "stdout",
          "output_type": "stream",
          "text": [
          "2021-02-11-Introduccion-a-Python.ipynb\n",
"2021-04-23-Calculo-matricial-con-Numpy.ipynb\n",
"2021-06-15-Manejo-de-datos-con-Pandas.ipynb\n",
"2022-09-12 Introduccion a la terminal.ipynb\n",
"2022-09-12 Introduccion a la terminal.txt\n",
"command-line-cheat-sheet.pdf\n",
"CSS.ipynb\n",
"Docker.html\n",
"Docker.ipynb\n",
"Expresiones regulares.html\n",
"Expresiones regulares.ipynb\n",
"html_files\n",
"html.ipynb\n",
"introduccion_python\n",
"movies.csv\n",
"movies.dat\n",
"notebooks_translated\n",
"prueba\n",
"__pycache__\n",
"ssh.ipynb\n",
"test.html\n",
"test.ipynb\n",
"\n"
          ]
        }
      ],
      "source": [
      "terminal(\"cat lista.txt\")"
      ]
    },
{
      "cell_type": "markdown",
      "metadata": {},
      "source": [
      "Vemos que o conteúdo foi sobrescrito"
      ]
    },
{
      "cell_type": "markdown",
      "metadata": {},
      "source": [
      "Se quisermos que o conteúdo seja concatenado, devemos usar `>>`."
      ]
    },
{
      "cell_type": "code",
      "execution_count": 82,
      "metadata": {},
      "outputs": [],
      "source": [
      "!ls > lista.txt"
      ]
    },
{
      "cell_type": "code",
      "execution_count": 83,
      "metadata": {},
      "outputs": [],
      "source": [
      "!ls ../ >> lista.txt"
      ]
    },
{
      "cell_type": "code",
      "execution_count": 84,
      "metadata": {},
      "outputs": [
      {
          "name": "stdout",
          "output_type": "stream",
          "text": [
          "2021-02-11-Introduccion-a-Python.ipynb\n",
"Abc\n",
"datos1\n",
"datos123\n",
"dot2.txt\n",
"dot.txt\n",
"file.txt\n",
"index.html\n",
"lista.txt\n",
"2021-02-11-Introduccion-a-Python.ipynb\n",
"2021-04-23-Calculo-matricial-con-Numpy.ipynb\n",
"2021-06-15-Manejo-de-datos-con-Pandas.ipynb\n",
"2022-09-12 Introduccion a la terminal.ipynb\n",
"2022-09-12 Introduccion a la terminal.txt\n",
"command-line-cheat-sheet.pdf\n",
"CSS.ipynb\n",
"Docker.html\n",
"Docker.ipynb\n",
"Expresiones regulares.html\n",
"Expresiones regulares.ipynb\n",
"html_files\n",
"html.ipynb\n",
"introduccion_python\n",
"movies.csv\n",
"movies.dat\n",
"notebooks_translated\n",
"prueba\n",
"__pycache__\n",
"ssh.ipynb\n",
"test.html\n",
"test.ipynb\n",
"\n"
          ]
        }
      ],
      "source": [
      "terminal(\"cat lista.txt\")"
      ]
    },
{
      "cell_type": "markdown",
      "metadata": {},
      "source": [
      "Agora, se as informações tiverem sido concatenadas"
      ]
    },
{
      "cell_type": "markdown",
      "metadata": {},
      "source": [
      "Isso é muito útil para criar arquivos de registro."
      ]
    },
{
      "cell_type": "markdown",
      "metadata": {},
      "source": [
      "### Redirecionamento de erro padrão"
      ]
    },
{
      "cell_type": "markdown",
      "metadata": {},
      "source": [
      "Se executarmos uma operação incorreta, receberemos um erro. Vamos ver o que acontece ao redirecionar um comando que dá erro."
      ]
    },
{
      "cell_type": "code",
      "execution_count": 85,
      "metadata": {},
      "outputs": [
      {
          "name": "stdout",
          "output_type": "stream",
          "text": [
          "ls: no se puede acceder a 'fjhdsalkfs': No existe el archivo o el directorio\n"
          ]
        }
      ],
      "source": [
      "!ls fjhdsalkfs > lista.txt"
      ]
    },
{
      "cell_type": "markdown",
      "metadata": {},
      "source": [
      "Como podemos ver, ele deu um erro, mas se agora virmos dentro de `list.txt`"
      ]
    },
{
      "cell_type": "code",
      "execution_count": 86,
      "metadata": {},
      "outputs": [
      {
          "name": "stdout",
          "output_type": "stream",
          "text": [
          "\n"
          ]
        }
      ],
      "source": [
      "terminal(\"cat lista.txt\")"
      ]
    },
{
      "cell_type": "markdown",
      "metadata": {},
      "source": [
      "Vemos que o arquivo está vazio, isso porque não redirecionamos o `erro padrão` para `list.txt`, mas para a `saída padrão`. Como vimos na imagem, há dois padrões de saída em um comando, o primeiro é a `saída padrão` e o segundo é o `erro padrão`, portanto, para redirecionar o erro padrão, devemos indicá-lo com `2>`. Vamos fazer assim"
      ]
    },
{
      "cell_type": "code",
      "execution_count": 87,
      "metadata": {},
      "outputs": [],
      "source": [
      "!ls kjhsfskjd 2> lista.txt"
      ]
    },
{
      "cell_type": "code",
      "execution_count": 88,
      "metadata": {},
      "outputs": [
      {
          "name": "stdout",
          "output_type": "stream",
          "text": [
          "ls: no se puede acceder a 'kjhsfskjd': No existe el archivo o el directorio\n",
"\n"
          ]
        }
      ],
      "source": [
      "terminal(\"cat lista.txt\")"
      ]
    },
{
      "cell_type": "markdown",
      "metadata": {},
      "source": [
      "Como podemos ver, agora ele foi redirecionado."
      ]
    },
{
      "cell_type": "markdown",
      "metadata": {},
      "source": [
      "### Saída padrão e redirecionamento de erro padrão"
      ]
    },
{
      "cell_type": "markdown",
      "metadata": {},
      "source": [
      "Se quisermos redirecionar os dois, usaremos o seguinte"
      ]
    },
{
      "cell_type": "code",
      "execution_count": 89,
      "metadata": {},
      "outputs": [],
      "source": [
      "!ls kjhsfskjd > lista.txt 2>&1"
      ]
    },
{
      "cell_type": "markdown",
      "metadata": {},
      "source": [
      "Vamos dar uma olhada em `list.txt`."
      ]
    },
{
      "cell_type": "code",
      "execution_count": 90,
      "metadata": {},
      "outputs": [
      {
          "name": "stdout",
          "output_type": "stream",
          "text": [
          "ls: no se puede acceder a 'kjhsfskjd': No existe el archivo o el directorio\n",
"\n"
          ]
        }
      ],
      "source": [
      "terminal(\"cat lista.txt\")"
      ]
    },
{
      "cell_type": "markdown",
      "metadata": {},
      "source": [
      "Se agora executarmos um comando sem erros"
      ]
    },
{
      "cell_type": "code",
      "execution_count": 91,
      "metadata": {},
      "outputs": [],
      "source": [
      "!ls . >> lista.txt 2>&1"
      ]
    },
{
      "cell_type": "markdown",
      "metadata": {},
      "source": [
      "Vamos dar uma olhada em `list.txt` (**olho**, agora concatenamos)"
      ]
    },
{
      "cell_type": "code",
      "execution_count": 92,
      "metadata": {},
      "outputs": [
      {
          "name": "stdout",
          "output_type": "stream",
          "text": [
          "ls: no se puede acceder a 'kjhsfskjd': No existe el archivo o el directorio\n",
"2021-02-11-Introduccion-a-Python.ipynb\n",
"Abc\n",
"datos1\n",
"datos123\n",
"dot2.txt\n",
"dot.txt\n",
"file.txt\n",
"index.html\n",
"lista.txt\n",
"\n"
          ]
        }
      ],
      "source": [
      "terminal(\"cat lista.txt\")"
      ]
    },
{
      "cell_type": "markdown",
      "metadata": {},
      "source": [
      "Como você pode ver, tanto o \"erro padrão\" quanto a \"saída padrão\" foram redirecionados para o mesmo arquivo."
      ]
    },
{
      "cell_type": "markdown",
      "metadata": {},
      "source": [
      "## Pipelines"
      ]
    },
{
      "cell_type": "markdown",
      "metadata": {},
      "source": [
      "Podemos criar pipelines fazendo com que a `saída padrão` de um comando se torne a `entrada padrão` de outro. Por exemplo, vamos fazer com que a saída do `ls -lha` seja a entrada do `grep`, que veremos mais tarde, mas é um comando a ser pesquisado."
      ]
    },
{
      "cell_type": "code",
      "execution_count": 93,
      "metadata": {},
      "outputs": [
      {
          "name": "stdout",
          "output_type": "stream",
          "text": [
          "-rw-rw-r-- 1 wallabot wallabot    0 dic  6 00:56 dot2.txt\n",
"-rw-rw-r-- 1 wallabot wallabot    0 dic  6 00:56 dot.txt\n",
"-rw-rw-r-- 1 wallabot wallabot    0 dic  6 00:56 file.txt\n",
"-rw-rw-r-- 1 wallabot wallabot  182 dic  6 01:06 lista.txt\n"
          ]
        }
      ],
      "source": [
      "!ls -lha |  grep -i \"txt\""
      ]
    },
{
      "cell_type": "markdown",
      "metadata": {},
      "source": [
      "Como podemos ver, o que fizemos foi levar a saída do `ls` para o `grep`, com o qual procuramos um arquivo com `txt` em seu nome."
      ]
    },
{
      "cell_type": "markdown",
      "metadata": {},
      "source": [
      "## Operadores de controle - encadeamento de comandos"
      ]
    },
{
      "cell_type": "markdown",
      "metadata": {},
      "source": [
      "### Comandos em sequência"
      ]
    },
{
      "cell_type": "markdown",
      "metadata": {},
      "source": [
      "Uma maneira de encadear comandos sequencialmente é separá-los usando `;`. Isso cria threads separados para cada tarefa"
      ]
    },
{
      "cell_type": "code",
      "execution_count": 94,
      "metadata": {},
      "outputs": [
      {
          "name": "stdout",
          "output_type": "stream",
          "text": [
          "2021-02-11-Introduccion-a-Python.ipynb\tdatos123  file.txt\n",
"Abc\t\t\t\t\tdot2.txt  index.html\n",
"datos1\t\t\t\t\tdot.txt   lista.txt\n",
"Hola\n",
"   Diciembre 2022     \n",
"do lu ma mi ju vi sá  \n",
"             1  2  3  \n",
" 4  5 \u001b[7m 6\u001b[m  7  8  9 10  \n",
"11 12 13 14 15 16 17  \n",
"18 19 20 21 22 23 24  \n",
"25 26 27 28 29 30 31  \n",
"                      \n"
          ]
        }
      ],
      "source": [
      "!ls; echo 'Hola'; cal"
      ]
    },
{
      "cell_type": "markdown",
      "metadata": {},
      "source": [
      "Como podemos ver, primeiro o comando `ls` foi executado, em seguida, o comando `echo \"Hello\"` imprimiu o Hello e, finalmente, o calendário foi impresso graças ao comando `cal`."
      ]
    },
{
      "cell_type": "markdown",
      "metadata": {},
      "source": [
      "Vamos agora fazer outro exemplo para ver que eles são executados sequencialmente."
      ]
    },
{
      "cell_type": "code",
      "execution_count": 95,
      "metadata": {},
      "outputs": [
      {
          "name": "stdout",
          "output_type": "stream",
          "text": [
          "Before touch;\n",
"total 292K\n",
"drwxrwxr-x 2 wallabot wallabot 4,0K dic  6 01:04 .\n",
"drwxrwxr-x 7 wallabot wallabot 4,0K dic  6 00:24 ..\n",
"-rw-rw-r-- 1 wallabot wallabot 280K dic  6 00:28 2021-02-11-Introduccion-a-Python.ipynb\n",
"-rw-rw-r-- 1 wallabot wallabot    0 dic  6 00:56 Abc\n",
"-rw-rw-r-- 1 wallabot wallabot    0 dic  6 00:56 datos1\n",
"-rw-rw-r-- 1 wallabot wallabot    0 dic  6 00:56 datos123\n",
"-rw-rw-r-- 1 wallabot wallabot    0 dic  6 00:56 dot2.txt\n",
"-rw-rw-r-- 1 wallabot wallabot    0 dic  6 00:56 dot.txt\n",
"-rw-rw-r-- 1 wallabot wallabot    0 dic  6 00:56 file.txt\n",
"-rw-rw-r-- 1 wallabot wallabot    0 dic  6 00:56 index.html\n",
"-rw-rw-r-- 1 wallabot wallabot  182 dic  6 01:06 lista.txt\n",
"After touch:\n",
"total 292K\n",
"drwxrwxr-x 2 wallabot wallabot 4,0K dic  6 01:07 .\n",
"drwxrwxr-x 7 wallabot wallabot 4,0K dic  6 00:24 ..\n",
"-rw-rw-r-- 1 wallabot wallabot 280K dic  6 00:28 2021-02-11-Introduccion-a-Python.ipynb\n",
"-rw-rw-r-- 1 wallabot wallabot    0 dic  6 00:56 Abc\n",
"-rw-rw-r-- 1 wallabot wallabot    0 dic  6 00:56 datos1\n",
"-rw-rw-r-- 1 wallabot wallabot    0 dic  6 00:56 datos123\n",
"-rw-rw-r-- 1 wallabot wallabot    0 dic  6 00:56 dot2.txt\n",
"-rw-rw-r-- 1 wallabot wallabot    0 dic  6 00:56 dot.txt\n",
"-rw-rw-r-- 1 wallabot wallabot    0 dic  6 00:56 file.txt\n",
"-rw-rw-r-- 1 wallabot wallabot    0 dic  6 00:56 index.html\n",
"-rw-rw-r-- 1 wallabot wallabot  182 dic  6 01:06 lista.txt\n",
"-rw-rw-r-- 1 wallabot wallabot    0 dic  6 01:07 secuential.txt\n"
          ]
        }
      ],
      "source": [
      "!echo \"Before touch;\"; ls -lha; touch secuential.txt; echo \"After touch:\"; ls -lha"
      ]
    },
{
      "cell_type": "markdown",
      "metadata": {},
      "source": [
      "Como você pode ver, no primeiro `ls` não há `secuential.txt`, enquanto no segundo há. Isso significa que os comandos foram executados em ordem, um após o outro."
      ]
    },
{
      "cell_type": "markdown",
      "metadata": {},
      "source": [
      "### Comandos paralelos"
      ]
    },
{
      "cell_type": "markdown",
      "metadata": {},
      "source": [
      "Se você quiser que os comandos sejam executados em paralelo, use o operador `&`, que criará um novo processo para cada comando."
      ]
    },
{
      "cell_type": "markdown",
      "metadata": {},
      "source": [
      "Vamos dar uma olhada no exemplo anterior"
      ]
    },
{
      "cell_type": "code",
      "execution_count": 96,
      "metadata": {},
      "outputs": [],
      "source": [
      "!rm secuential.txt"
      ]
    },
{
      "cell_type": "code",
      "execution_count": 97,
      "metadata": {},
      "outputs": [
      {
          "name": "stdout",
          "output_type": "stream",
          "text": [
          "Before touch;\n",
"After touch:\n",
"total 292K\n",
"drwxrwxr-x 2 wallabot wallabot 4,0K dic  6 01:08 .\n",
"drwxrwxr-x 7 wallabot wallabot 4,0K dic  6 00:24 ..\n",
"-rw-rw-r-- 1 wallabot wallabot 280K dic  6 00:28 2021-02-11-Introduccion-a-Python.ipynb\n",
"-rw-rw-r-- 1 wallabot wallabot    0 dic  6 00:56 Abc\n",
"-rw-rw-r-- 1 wallabot wallabot    0 dic  6 00:56 datos1\n",
"-rw-rw-r-- 1 wallabot wallabot    0 dic  6 00:56 datos123\n",
"-rw-rw-r-- 1 wallabot wallabot    0 dic  6 00:56 dot2.txt\n",
"-rw-rw-r-- 1 wallabot wallabot    0 dic  6 00:56 dot.txt\n",
"-rw-rw-r-- 1 wallabot wallabot    0 dic  6 00:56 file.txt\n",
"-rw-rw-r-- 1 wallabot wallabot    0 dic  6 00:56 index.html\n",
"-rw-rw-r-- 1 wallabot wallabot  182 dic  6 01:06 lista.txt\n",
"-rw-rw-r-- 1 wallabot wallabot    0 dic  6 01:08 secuential.txt\n"
          ]
        }
      ],
      "source": [
      "!echo \"Before touch;\" & ls -lha & touch secuential.txt & echo \"After touch:\" & ls -lha"
      ]
    },
{
      "cell_type": "markdown",
      "metadata": {},
      "source": [
      "Agora você pode ver que eles não foram executados sequencialmente, pois os `echo`s foram executados primeiro, o que levará menos tempo, e depois o restante."
      ]
    },
{
      "cell_type": "markdown",
      "metadata": {},
      "source": [
      "### Comandos de maneira condicional"
      ]
    },
{
      "cell_type": "markdown",
      "metadata": {},
      "source": [
      "#### e"
      ]
    },
{
      "cell_type": "markdown",
      "metadata": {},
      "source": [
      "Usando o operador `&&`, um comando será executado quando o comando anterior tiver sido executado com êxito."
      ]
    },
{
      "cell_type": "code",
      "execution_count": 98,
      "metadata": {},
      "outputs": [],
      "source": [
      "!rm secuential.txt"
      ]
    },
{
      "cell_type": "code",
      "execution_count": 99,
      "metadata": {},
      "outputs": [
      {
          "name": "stdout",
          "output_type": "stream",
          "text": [
          "Before touch;\n",
"total 292K\n",
"drwxrwxr-x 2 wallabot wallabot 4,0K dic  6 01:08 .\n",
"drwxrwxr-x 7 wallabot wallabot 4,0K dic  6 00:24 ..\n",
"-rw-rw-r-- 1 wallabot wallabot 280K dic  6 00:28 2021-02-11-Introduccion-a-Python.ipynb\n",
"-rw-rw-r-- 1 wallabot wallabot    0 dic  6 00:56 Abc\n",
"-rw-rw-r-- 1 wallabot wallabot    0 dic  6 00:56 datos1\n",
"-rw-rw-r-- 1 wallabot wallabot    0 dic  6 00:56 datos123\n",
"-rw-rw-r-- 1 wallabot wallabot    0 dic  6 00:56 dot2.txt\n",
"-rw-rw-r-- 1 wallabot wallabot    0 dic  6 00:56 dot.txt\n",
"-rw-rw-r-- 1 wallabot wallabot    0 dic  6 00:56 file.txt\n",
"-rw-rw-r-- 1 wallabot wallabot    0 dic  6 00:56 index.html\n",
"-rw-rw-r-- 1 wallabot wallabot  182 dic  6 01:06 lista.txt\n",
"After touch:\n",
"total 292K\n",
"drwxrwxr-x 2 wallabot wallabot 4,0K dic  6 01:08 .\n",
"drwxrwxr-x 7 wallabot wallabot 4,0K dic  6 00:24 ..\n",
"-rw-rw-r-- 1 wallabot wallabot 280K dic  6 00:28 2021-02-11-Introduccion-a-Python.ipynb\n",
"-rw-rw-r-- 1 wallabot wallabot    0 dic  6 00:56 Abc\n",
"-rw-rw-r-- 1 wallabot wallabot    0 dic  6 00:56 datos1\n",
"-rw-rw-r-- 1 wallabot wallabot    0 dic  6 00:56 datos123\n",
"-rw-rw-r-- 1 wallabot wallabot    0 dic  6 00:56 dot2.txt\n",
"-rw-rw-r-- 1 wallabot wallabot    0 dic  6 00:56 dot.txt\n",
"-rw-rw-r-- 1 wallabot wallabot    0 dic  6 00:56 file.txt\n",
"-rw-rw-r-- 1 wallabot wallabot    0 dic  6 00:56 index.html\n",
"-rw-rw-r-- 1 wallabot wallabot  182 dic  6 01:06 lista.txt\n",
"-rw-rw-r-- 1 wallabot wallabot    0 dic  6 01:08 secuential.txt\n"
          ]
        }
      ],
      "source": [
      "!echo \"Before touch;\" && ls -lha && touch secuential.txt && echo \"After touch:\" && ls -lha"
      ]
    },
{
      "cell_type": "markdown",
      "metadata": {},
      "source": [
      "Aqui podemos ver como eles foram executados um após o outro, ou seja, um comando não começa até que o anterior termine."
      ]
    },
{
      "cell_type": "markdown",
      "metadata": {},
      "source": [
      "Mas então, qual é a diferença entre `;` e `&&`?"
      ]
    },
{
      "cell_type": "markdown",
      "metadata": {},
      "source": [
      "No primeiro deles, o sequencial `;`, primeiro um comando é executado e depois outro, mas para que um comando seja executado, não importa se o anterior foi executado com êxito."
      ]
    },
{
      "cell_type": "code",
      "execution_count": 100,
      "metadata": {},
      "outputs": [
      {
          "name": "stdout",
          "output_type": "stream",
          "text": [
          "rm: no se puede borrar 'prueba': No existe el archivo o el directorio\n",
"total 292K\n",
"drwxrwxr-x 2 wallabot wallabot 4,0K dic  6 01:08 .\n",
"drwxrwxr-x 7 wallabot wallabot 4,0K dic  6 00:24 ..\n",
"-rw-rw-r-- 1 wallabot wallabot 280K dic  6 00:28 2021-02-11-Introduccion-a-Python.ipynb\n",
"-rw-rw-r-- 1 wallabot wallabot    0 dic  6 00:56 Abc\n",
"-rw-rw-r-- 1 wallabot wallabot    0 dic  6 00:56 datos1\n",
"-rw-rw-r-- 1 wallabot wallabot    0 dic  6 00:56 datos123\n",
"-rw-rw-r-- 1 wallabot wallabot    0 dic  6 00:56 dot2.txt\n",
"-rw-rw-r-- 1 wallabot wallabot    0 dic  6 00:56 dot.txt\n",
"-rw-rw-r-- 1 wallabot wallabot    0 dic  6 00:56 file.txt\n",
"-rw-rw-r-- 1 wallabot wallabot    0 dic  6 00:56 index.html\n",
"-rw-rw-r-- 1 wallabot wallabot  182 dic  6 01:06 lista.txt\n",
"-rw-rw-r-- 1 wallabot wallabot    0 dic  6 01:08 secuential.txt\n"
          ]
        }
      ],
      "source": [
      "!rm prueba ; ls -lha"
      ]
    },
{
      "cell_type": "markdown",
      "metadata": {},
      "source": [
      "Como você pode ver, primeiro você executa `rm test`, obtém um erro e ainda executa `ls -lha test`."
      ]
    },
{
      "cell_type": "markdown",
      "metadata": {},
      "source": [
      "Na forma condicional `&&`, se um comando não for executado com êxito, o próximo comando não será executado."
      ]
    },
{
      "cell_type": "code",
      "execution_count": 101,
      "metadata": {},
      "outputs": [
      {
          "name": "stdout",
          "output_type": "stream",
          "text": [
          "rm: no se puede borrar 'prueba': No existe el archivo o el directorio\n"
          ]
        }
      ],
      "source": [
      "!rm prueba && ls -lha"
      ]
    },
{
      "cell_type": "markdown",
      "metadata": {},
      "source": [
      "Como você pode ver, o `ls -lha test` não é executado porque o `rm test` apresentou um erro."
      ]
    },
{
      "cell_type": "markdown",
      "metadata": {},
      "source": [
      "#### Ou"
      ]
    },
{
      "cell_type": "markdown",
      "metadata": {},
      "source": [
      "Ao contrário do `&&`, o or executará todos os processos, independentemente do resultado. O operador `||` deve ser usado."
      ]
    },
{
      "cell_type": "code",
      "execution_count": 102,
      "metadata": {},
      "outputs": [
      {
          "name": "stdout",
          "output_type": "stream",
          "text": [
          "rm: no se puede borrar 'prueba': No existe el archivo o el directorio\n",
"total 292K\n",
"drwxrwxr-x 2 wallabot wallabot 4,0K dic  6 01:08 .\n",
"drwxrwxr-x 7 wallabot wallabot 4,0K dic  6 00:24 ..\n",
"-rw-rw-r-- 1 wallabot wallabot 280K dic  6 00:28 2021-02-11-Introduccion-a-Python.ipynb\n",
"-rw-rw-r-- 1 wallabot wallabot    0 dic  6 00:56 Abc\n",
"-rw-rw-r-- 1 wallabot wallabot    0 dic  6 00:56 datos1\n",
"-rw-rw-r-- 1 wallabot wallabot    0 dic  6 00:56 datos123\n",
"-rw-rw-r-- 1 wallabot wallabot    0 dic  6 00:56 dot2.txt\n",
"-rw-rw-r-- 1 wallabot wallabot    0 dic  6 00:56 dot.txt\n",
"-rw-rw-r-- 1 wallabot wallabot    0 dic  6 00:56 file.txt\n",
"-rw-rw-r-- 1 wallabot wallabot    0 dic  6 00:56 index.html\n",
"-rw-rw-r-- 1 wallabot wallabot  182 dic  6 01:06 lista.txt\n",
"-rw-rw-r-- 1 wallabot wallabot    0 dic  6 01:08 secuential.txt\n"
          ]
        }
      ],
      "source": [
      "!rm prueba || ls -lha"
      ]
    },
{
      "cell_type": "markdown",
      "metadata": {},
      "source": [
      "A diferença entre isso e `;` é que o `||` (ou) não cria um novo thread para cada comando."
      ]
    },
{
      "cell_type": "markdown",
      "metadata": {},
      "source": [
      "## Como as permissões são tratadas"
      ]
    },
{
      "cell_type": "markdown",
      "metadata": {},
      "source": [
      "Ao listar arquivos em um diretório com o sinalizador `-l` (longo), os símbolos aparecem ao lado de cada arquivo."
      ]
    },
{
      "cell_type": "code",
      "execution_count": 103,
      "metadata": {},
      "outputs": [],
      "source": [
      "!mkdir subdirectorio"
      ]
    },
{
      "cell_type": "code",
      "execution_count": 104,
      "metadata": {},
      "outputs": [
      {
          "name": "stdout",
          "output_type": "stream",
          "text": [
          "total 288\n",
"-rw-rw-r-- 1 wallabot wallabot 285898 dic  6 00:28 2021-02-11-Introduccion-a-Python.ipynb\n",
"-rw-rw-r-- 1 wallabot wallabot      0 dic  6 00:56 Abc\n",
"-rw-rw-r-- 1 wallabot wallabot      0 dic  6 00:56 datos1\n",
"-rw-rw-r-- 1 wallabot wallabot      0 dic  6 00:56 datos123\n",
"-rw-rw-r-- 1 wallabot wallabot      0 dic  6 00:56 dot2.txt\n",
"-rw-rw-r-- 1 wallabot wallabot      0 dic  6 00:56 dot.txt\n",
"-rw-rw-r-- 1 wallabot wallabot      0 dic  6 00:56 file.txt\n",
"-rw-rw-r-- 1 wallabot wallabot      0 dic  6 00:56 index.html\n",
"-rw-rw-r-- 1 wallabot wallabot    182 dic  6 01:06 lista.txt\n",
"-rw-rw-r-- 1 wallabot wallabot      0 dic  6 01:08 secuential.txt\n",
"drwxrwxr-x 2 wallabot wallabot   4096 dic  6 01:10 subdirectorio\n"
          ]
        }
      ],
      "source": [
      "!ls -l"
      ]
    },
{
      "cell_type": "markdown",
      "metadata": {},
      "source": [
      "Isso nos fornece informações sobre cada arquivo"
      ]
    },
{
      "cell_type": "markdown",
      "metadata": {},
      "source": [
      "Primeiro, vamos dar uma olhada nos tipos de arquivos que existem\n",
" * -: Arquivo normal\n",
" * d: Diretório\n",
" * l: Link simbólico\n",
" * b: arquivo de bloco especial. São arquivos que lidam com informações de blocos de dados, como, por exemplo, um USB"
      ]
    },
{
      "cell_type": "markdown",
      "metadata": {},
      "source": [
      "Em seguida, examinaremos os tipos de modo:\n",
"\n",
"<table border=\"1\">\n",
"\t<cabeçalho>\n",
"\t\t<tr>\n",
"\t\t\t<th scope=\"col\" colspan=\"3\">Proprietário</th>\n",
"\t\t\t<th scope=\"col\" colspan=\"3\">Grupo</th>\n",
"\t\t\t<th scope=\"col\" colspan=\"3\">Mundo</th>\n",
"\t\t</tr>\n",
"\t</header>\n",
"\t<body>\n",
"\t\t<tr>\n",
"\t\t\t<th scope=\"row\" colspan=\"3\">rwx</th>\n",
"\t\t\t<th scope=\"row\" colspan=\"3\">r-x</th>\n",
"\t\t\t<th scope=\"row\" colspan=\"3\">r-x</th>\n",
"\t\t</tr>\n",
"\t\t<tr>\n",
"\t\t\t<th scope=\"row\">1</th>\n",
"\t\t\t<th scope=\"row\">1</th>\n",
"\t\t\t<th scope=\"row\">1</th>\n",
"\t\t\t<th scope=\"row\">1</th>\n",
"\t\t\t<th scope=\"row\">0</th>\n",
"\t\t\t<th scope=\"row\">1</th>\n",
"\t\t\t<th scope=\"row\">1</th>\n",
"\t\t\t<th scope=\"row\">0</th>\n",
"\t\t\t<th scope=\"row\">1</th>\n",
"\t\t</tr>\n",
"\t\t<tr>\n",
"\t\t\t<th scope=\"row\" colspan=\"3\">7</th>\n",
"\t\t\t<th scope=\"row\" colspan=\"3\">5</th>\n",
"\t\t\t<th scope=\"row\" colspan=\"3\">5</th>\n",
"\t\t</tr>\n",
"\t<body>\n",
"</table>\n",
"\n",
" * r: ler\n",
" * w: escrever\n",
" * x: executar"
      ]
    },
{
      "cell_type": "markdown",
      "metadata": {},
      "source": [
      "Modo simbólico:\n",
" * u: Somente usuário\n",
" * g: Somente para o grupo\n",
" * ou: Somente para outros (mundo)\n",
" * a: Para todos os"
      ]
    },
{
      "cell_type": "markdown",
      "metadata": {},
      "source": [
      "## Modificação das permissões no terminal"
      ]
    },
{
      "cell_type": "markdown",
      "metadata": {},
      "source": [
      "Criamos um novo arquivo"
      ]
    },
{
      "cell_type": "code",
      "execution_count": 105,
      "metadata": {},
      "outputs": [],
      "source": [
      "terminal(\"cd subdirectorio\")"
      ]
    },
{
      "cell_type": "code",
      "execution_count": 106,
      "metadata": {},
      "outputs": [],
      "source": [
      "!echo \"hola mundo\" > mitexto.txt"
      ]
    },
{
      "cell_type": "code",
      "execution_count": 107,
      "metadata": {},
      "outputs": [
      {
          "name": "stdout",
          "output_type": "stream",
          "text": [
          "hola mundo\n"
          ]
        }
      ],
      "source": [
      "!cat mitexto.txt"
      ]
    },
{
      "cell_type": "markdown",
      "metadata": {},
      "source": [
      "Vamos dar uma olhada nas permissões que você tem"
      ]
    },
{
      "cell_type": "code",
      "execution_count": 108,
      "metadata": {},
      "outputs": [
      {
          "name": "stdout",
          "output_type": "stream",
          "text": [
          "total 4\n",
"-rw-rw-r-- 1 wallabot wallabot 11 dic  6 01:10 mitexto.txt\n"
          ]
        }
      ],
      "source": [
      "!ls -l"
      ]
    },
{
      "cell_type": "markdown",
      "metadata": {},
      "source": [
      "Como podemos ver, ele tem permissões de leitura e gravação para o meu usuário e o grupo, e apenas permissões de leitura para o resto (mundo)."
      ]
    },
{
      "cell_type": "markdown",
      "metadata": {},
      "source": [
      "### Altere as permissões com `chmod` (modo de alteração)"
      ]
    },
{
      "cell_type": "markdown",
      "metadata": {},
      "source": [
      "Para alterar as permissões de um arquivo, usamos o comando `chmod` (change mode), no qual temos que colocar em octal as permissões de usuário, depois as permissões de grupo e, por fim, as demais."
      ]
    },
{
      "cell_type": "code",
      "execution_count": 109,
      "metadata": {},
      "outputs": [],
      "source": [
      "!chmod 755 mitexto.txt"
      ]
    },
{
      "cell_type": "code",
      "execution_count": 110,
      "metadata": {},
      "outputs": [
      {
          "name": "stdout",
          "output_type": "stream",
          "text": [
          "total 4\n",
"-rwxr-xr-x 1 wallabot wallabot 11 dic  6 01:10 mitexto.txt\n"
          ]
        }
      ],
      "source": [
      "!ls -l"
      ]
    },
{
      "cell_type": "markdown",
      "metadata": {},
      "source": [
      "Vemos que agora meu usuário tem permissões de leitura, gravação e execução, enquanto o grupo e o resto do mundo têm permissões de leitura e execução."
      ]
    },
{
      "cell_type": "markdown",
      "metadata": {},
      "source": [
      "Vamos remover as permissões de leitura somente para o meu usuário. Para alterar apenas as permissões de um usuário, usamos o identificador simbólico, um `+` se quisermos adicionar permissões ou um `-` se quisermos removê-las ou um `=` se quisermos redefini-las e seguido pelo tipo de permissão"
      ]
    },
{
      "cell_type": "code",
      "execution_count": 111,
      "metadata": {},
      "outputs": [],
      "source": [
      "!chmod u-r mitexto.txt"
      ]
    },
{
      "cell_type": "code",
      "execution_count": 112,
      "metadata": {},
      "outputs": [
      {
          "name": "stdout",
          "output_type": "stream",
          "text": [
          "total 4\n",
"--wxr-xr-x 1 wallabot wallabot 11 dic  6 01:10 mitexto.txt\n"
          ]
        }
      ],
      "source": [
      "!ls -l"
      ]
    },
{
      "cell_type": "code",
      "execution_count": 113,
      "metadata": {},
      "outputs": [
      {
          "name": "stdout",
          "output_type": "stream",
          "text": [
          "cat: mitexto.txt: Permiso denegado\n"
          ]
        }
      ],
      "source": [
      "!cat mitexto.txt"
      ]
    },
{
      "cell_type": "markdown",
      "metadata": {},
      "source": [
      "Como podemos ver, ao remover as permissões de leitura do meu usuário, não podemos ler o arquivo."
      ]
    },
{
      "cell_type": "markdown",
      "metadata": {},
      "source": [
      "Restabelecemos a permissão de leitura"
      ]
    },
{
      "cell_type": "code",
      "execution_count": 114,
      "metadata": {},
      "outputs": [],
      "source": [
      "!chmod u+r mitexto.txt"
      ]
    },
{
      "cell_type": "code",
      "execution_count": 115,
      "metadata": {},
      "outputs": [
      {
          "name": "stdout",
          "output_type": "stream",
          "text": [
          "total 4\n",
"-rwxr-xr-x 1 wallabot wallabot 11 dic  6 01:10 mitexto.txt\n"
          ]
        }
      ],
      "source": [
      "!ls -l"
      ]
    },
{
      "cell_type": "code",
      "execution_count": 116,
      "metadata": {},
      "outputs": [
      {
          "name": "stdout",
          "output_type": "stream",
          "text": [
          "hola mundo\n"
          ]
        }
      ],
      "source": [
      "!cat mitexto.txt"
      ]
    },
{
      "cell_type": "markdown",
      "metadata": {},
      "source": [
      "Se quisermos adicionar ou remover permissões para mais de um usuário, faremos isso separando cada permissão por um `,`."
      ]
    },
{
      "cell_type": "code",
      "execution_count": 117,
      "metadata": {},
      "outputs": [],
      "source": [
      "!chmod u-x,go=w mitexto.txt"
      ]
    },
{
      "cell_type": "code",
      "execution_count": 118,
      "metadata": {},
      "outputs": [
      {
          "name": "stdout",
          "output_type": "stream",
          "text": [
          "total 4\n",
"-rw--w--w- 1 wallabot wallabot 11 dic  6 01:10 mitexto.txt\n"
          ]
        }
      ],
      "source": [
      "!ls -l"
      ]
    },
{
      "cell_type": "markdown",
      "metadata": {},
      "source": [
      "Como você pode ver, a permissão de execução do usuário foi removida e a permissão somente de gravação foi definida para o grupo e o resto do mundo."
      ]
    },
{
      "cell_type": "markdown",
      "metadata": {},
      "source": [
      "### Identificação do usuário com `whoami`."
      ]
    },
{
      "cell_type": "markdown",
      "metadata": {},
      "source": [
      "Para descobrir quem somos, podemos usar o comando `whoami` (quem sou eu)."
      ]
    },
{
      "cell_type": "code",
      "execution_count": 119,
      "metadata": {},
      "outputs": [
      {
          "name": "stdout",
          "output_type": "stream",
          "text": [
          "wallabot\n"
          ]
        }
      ],
      "source": [
      "!whoami"
      ]
    },
{
      "cell_type": "markdown",
      "metadata": {},
      "source": [
      "### Informações do usuário com `id`"
      ]
    },
{
      "cell_type": "markdown",
      "metadata": {},
      "source": [
      "Outra maneira, que também fornece mais informações, é o comando `id`."
      ]
    },
{
      "cell_type": "code",
      "execution_count": 120,
      "metadata": {},
      "outputs": [
      {
          "name": "stdout",
          "output_type": "stream",
          "text": [
          "uid=1000(wallabot) gid=1000(wallabot) grupos=1000(wallabot),4(adm),24(cdrom),27(sudo),30(dip),46(plugdev),120(lpadmin),131(lxd),132(sambashare),998(docker)\n"
          ]
        }
      ],
      "source": [
      "!id"
      ]
    },
{
      "cell_type": "markdown",
      "metadata": {},
      "source": [
      "Esse comando nos informa que nosso ID de usuário é 1000, nosso ID de grupo é 1000 e que pertencemos aos grupos wallabot, adm, cdrom, sudo, dip, plugdev, lpadmin, lxd, sambashare e docker."
      ]
    },
{
      "cell_type": "markdown",
      "metadata": {},
      "source": [
      "### Trocar de usuário com o comando `su` (switch user)"
      ]
    },
{
      "cell_type": "markdown",
      "metadata": {},
      "source": [
      "Se quisermos trocar de usuário, usamos o comando `su` (switch user). Dependendo do usuário, use `sudo` (superusuário do)."
      ]
    },
{
      "cell_type": "code",
      "execution_count": 120,
      "metadata": {},
      "outputs": [
      {
          "name": "stdout",
          "output_type": "stream",
          "text": [
          "root@wallabot:/home/wallabot/Documentos/web/portafolio/posts/prueba/subdirectorio#\n"
          ]
        }
      ],
      "source": [
      "!sudo su root"
      ]
    },
{
      "cell_type": "markdown",
      "metadata": {},
      "source": [
      "Como podemos ver, o `propt` muda e agora indica que somos o usuário `root`."
      ]
    },
{
      "cell_type": "markdown",
      "metadata": {},
      "source": [
      "Vamos para a pasta inicial"
      ]
    },
{
      "cell_type": "code",
      "execution_count": 120,
      "metadata": {},
      "outputs": [
      {
          "name": "stdout",
          "output_type": "stream",
          "text": [
          "root@wallabot:~#\n"
          ]
        }
      ],
      "source": [
      "!cd"
      ]
    },
{
      "cell_type": "markdown",
      "metadata": {},
      "source": [
      "Mas no Linux há uma pasta pessoal para cada usuário, que pode ser vista executando o comando `pwd`."
      ]
    },
{
      "cell_type": "code",
      "execution_count": 120,
      "metadata": {},
      "outputs": [
      {
          "name": "stdout",
          "output_type": "stream",
          "text": [
          "/root\n"
          ]
        }
      ],
      "source": [
      "!pwd"
      ]
    },
{
      "cell_type": "markdown",
      "metadata": {},
      "source": [
      "Criarei um arquivo na pasta em que criei o arquivo *text.txt* anteriormente."
      ]
    },
{
      "cell_type": "code",
      "execution_count": 120,
      "metadata": {},
      "outputs": [
      {
          "name": "stdout",
          "output_type": "stream",
          "text": [
          "\n"
          ]
        }
      ],
      "source": [
      "!touch /home/wallabot/Documentos/web/portafolio/posts/prueba/subdirectorio/rootfile.txt"
      ]
    },
{
      "cell_type": "markdown",
      "metadata": {},
      "source": [
      "Volto para o meu usuário"
      ]
    },
{
      "cell_type": "code",
      "execution_count": 120,
      "metadata": {},
      "outputs": [
      {
          "name": "stdout",
          "output_type": "stream",
          "text": [
          "wallabot@wallabot:\n"
          ]
        }
      ],
      "source": [
      "!su wallabot"
      ]
    },
{
      "cell_type": "markdown",
      "metadata": {},
      "source": [
      "E vou para o diretório onde estão localizados os arquivos que criei."
      ]
    },
{
      "cell_type": "code",
      "execution_count": 121,
      "metadata": {},
      "outputs": [],
      "source": [
      "!cd /home/wallabot/Documentos/web/portafolio/posts/prueba/subdirectorio"
      ]
    },
{
      "cell_type": "markdown",
      "metadata": {},
      "source": [
      "Vemos os arquivos que estão lá e suas permissões"
      ]
    },
{
      "cell_type": "code",
      "execution_count": 123,
      "metadata": {},
      "outputs": [
      {
          "name": "stdout",
          "output_type": "stream",
          "text": [
          "total 4\n",
"-rw--w--w- 1 wallabot wallabot 11 dic  6 01:10 mitexto.txt\n",
"-rw-r--r-- 1 root     root      0 dic  6 01:22 rootfile.txt\n"
          ]
        }
      ],
      "source": [
      "!ls -l"
      ]
    },
{
      "cell_type": "markdown",
      "metadata": {},
      "source": [
      "Como podemos ver, o usuário e o grupo do arquivo *rootfile.txt* é o usuário `root`."
      ]
    },
{
      "cell_type": "markdown",
      "metadata": {},
      "source": [
      "Se eu for agora o usuário *wallabot* e tentar excluir o arquivo `rootfile.txt`, poderei excluir o arquivo `rootfile.txt`."
      ]
    },
{
      "cell_type": "code",
      "execution_count": 124,
      "metadata": {},
      "outputs": [
      {
          "name": "stdout",
          "output_type": "stream",
          "text": [
          "rm: ¿borrar el fichero regular vacío 'rootfile.txt'  protegido contra escritura? (s/n)\n"
          ]
        }
      ],
      "source": [
      "!rm rootfile.txt"
      ]
    },
{
      "cell_type": "markdown",
      "metadata": {},
      "source": [
      "Como podemos ver, ele nos pergunta se queremos excluí-lo, pois ele pertence a outro usuário."
      ]
    },
{
      "cell_type": "markdown",
      "metadata": {},
      "source": [
      "## Alterar a senha de um usuário"
      ]
    },
{
      "cell_type": "markdown",
      "metadata": {},
      "source": [
      "Se eu quiser alterar a senha do usuário ativo no momento, usarei o comando `passwd` (senha)."
      ]
    },
{
      "cell_type": "markdown",
      "metadata": {},
      "source": [
      "Primeiro, verifico qual é o meu usuário"
      ]
    },
{
      "cell_type": "code",
      "execution_count": 125,
      "metadata": {},
      "outputs": [
      {
          "name": "stdout",
          "output_type": "stream",
          "text": [
          "wallabot\n"
          ]
        }
      ],
      "source": [
      "!whoami"
      ]
    },
{
      "cell_type": "markdown",
      "metadata": {},
      "source": [
      "E agora tentamos alterar a senha"
      ]
    },
{
      "cell_type": "code",
      "execution_count": 125,
      "metadata": {},
      "outputs": [
      {
          "name": "stdout",
          "output_type": "stream",
          "text": [
          "$ passwd\n",
"Cambiando la contraseña de wallabot.\n",
"Contraseña actual de : \n",
"Nueva contraseña: \n",
"Vuelva a escribir la nueva contraseña\n"
          ]
        }
      ],
      "source": [
      "!passwd"
      ]
    },
{
      "cell_type": "markdown",
      "metadata": {},
      "source": [
      "Como podemos ver, ele solicita a senha atual para alterá-la."
      ]
    },
{
      "cell_type": "markdown",
      "metadata": {},
      "source": [
      "## Links simbólicos"
      ]
    },
{
      "cell_type": "markdown",
      "metadata": {},
      "source": [
      "Podemos criar links simbólicos para um determinado caminho usando o comando `ln` (link) seguido pelo sinalizador `-s` (simbólico), o diretório e o nome do link."
      ]
    },
{
      "cell_type": "code",
      "execution_count": 126,
      "metadata": {},
      "outputs": [],
      "source": [
      "!ln -s /home/wallabot/Documentos/web web"
      ]
    },
{
      "cell_type": "markdown",
      "metadata": {},
      "source": [
      "Se agora listarmos os arquivos"
      ]
    },
{
      "cell_type": "code",
      "execution_count": 127,
      "metadata": {},
      "outputs": [
      {
          "name": "stdout",
          "output_type": "stream",
          "text": [
          "total 4\n",
"-rw--w--w- 1 wallabot wallabot 11 dic  6 01:10 mitexto.txt\n",
"-rw-r--r-- 1 root     root      0 dic  6 01:22 rootfile.txt\n",
"lrwxrwxrwx 1 wallabot wallabot 29 dic  6 01:28 web -> /home/wallabot/Documentos/web\n"
          ]
        }
      ],
      "source": [
      "!ls -l"
      ]
    },
{
      "cell_type": "markdown",
      "metadata": {},
      "source": [
      "Vemos o link simbólico `web` apontando para `/home/wallabot/Documents/web:`."
      ]
    },
{
      "cell_type": "markdown",
      "metadata": {},
      "source": [
      "Agora posso acessar a `web`."
      ]
    },
{
      "cell_type": "code",
      "execution_count": 128,
      "metadata": {},
      "outputs": [],
      "source": [
      "terminal(\"cd web\")"
      ]
    },
{
      "cell_type": "code",
      "execution_count": 129,
      "metadata": {},
      "outputs": [
      {
          "name": "stdout",
          "output_type": "stream",
          "text": [
          "/home/wallabot/Documentos/web\n"
          ]
        }
      ],
      "source": [
      "!pwd"
      ]
    },
{
      "cell_type": "markdown",
      "metadata": {},
      "source": [
      "## Definir variáveis de ambiente"
      ]
    },
{
      "cell_type": "markdown",
      "metadata": {},
      "source": [
      "### Exibir variáveis de ambiente com `printenv`."
      ]
    },
{
      "cell_type": "markdown",
      "metadata": {},
      "source": [
      "Com o comando `printenv`, podemos ver todas as variáveis de ambiente"
      ]
    },
{
      "cell_type": "code",
      "execution_count": 130,
      "metadata": {},
      "outputs": [
      {
          "name": "stdout",
          "output_type": "stream",
          "text": [
          "GJS_DEBUG_TOPICS=JS ERROR;JS LOG\n",
"VSCODE_CWD=/home/wallabot\n",
"LESSOPEN=| /usr/bin/lesspipe %s\n",
"CONDA_PROMPT_MODIFIER=(base) \n",
"PYTHONIOENCODING=utf-8\n",
"USER=wallabot\n",
"VSCODE_NLS_CONFIG={\"locale\":\"es\",\"availableLanguages\":{\"*\":\"es\"},\"_languagePackId\":\"b07c40c9acb9e1d7b3ca14b06f814803.es\",\"_translationsConfigFile\":\"/home/wallabot/.config/Code/clp/b07c40c9acb9e1d7b3ca14b06f814803.es/tcf.json\",\"_cacheRoot\":\"/home/wallabot/.config/Code/clp/b07c40c9acb9e1d7b3ca14b06f814803.es\",\"_resolvedLanguagePackCoreLocation\":\"/home/wallabot/.config/Code/clp/b07c40c9acb9e1d7b3ca14b06f814803.es/6261075646f055b99068d3688932416f2346dd3b\",\"_corruptedFile\":\"/home/wallabot/.config/Code/clp/b07c40c9acb9e1d7b3ca14b06f814803.es/corrupted.info\",\"_languagePackSupport\":true}\n",
"VSCODE_HANDLES_UNCAUGHT_ERRORS=true\n",
"MPLBACKEND=module://ipykernel.pylab.backend_inline\n",
"SSH_AGENT_PID=1373\n",
"XDG_SESSION_TYPE=x11\n",
"SHLVL=0\n",
"HOME=/home/wallabot\n",
"CHROME_DESKTOP=code-url-handler.desktop\n",
"CONDA_SHLVL=1\n",
"DESKTOP_SESSION=ubuntu\n",
"GIO_LAUNCHED_DESKTOP_FILE=/usr/share/applications/code.desktop\n",
"VSCODE_IPC_HOOK=/run/user/1000/vscode-26527400-1.73.1-main.sock\n",
"PYTHONUNBUFFERED=1\n",
"GTK_MODULES=gail:atk-bridge\n",
"GNOME_SHELL_SESSION_MODE=ubuntu\n",
"APPLICATION_INSIGHTS_NO_DIAGNOSTIC_CHANNEL=true\n",
"PAGER=cat\n",
"MANAGERPID=1153\n",
"DBUS_SESSION_BUS_ADDRESS=unix:path=/run/user/1000/bus\n",
"GIO_LAUNCHED_DESKTOP_FILE_PID=3897\n",
"_CE_M=\n",
"IM_CONFIG_PHASE=1\n",
"LOGNAME=wallabot\n",
"_=/home/wallabot/anaconda3/bin/python\n",
"JOURNAL_STREAM=8:52662\n",
"XDG_SESSION_CLASS=user\n",
"USERNAME=wallabot\n",
"TERM=xterm-color\n",
"GNOME_DESKTOP_SESSION_ID=this-is-deprecated\n",
"_CE_CONDA=\n",
"WINDOWPATH=2\n",
"PATH=/home/wallabot/anaconda3/bin:/home/wallabot/anaconda3/condabin:/usr/local/sbin:/usr/local/bin:/usr/sbin:/usr/bin:/sbin:/bin:/usr/games:/usr/local/games:/snap/bin\n",
"SESSION_MANAGER=local/wallabot:@/tmp/.ICE-unix/1410,unix/wallabot:/tmp/.ICE-unix/1410\n",
"INVOCATION_ID=73bba2d15f2e492fa6c16538996a2556\n",
"VSCODE_AMD_ENTRYPOINT=vs/workbench/api/node/extensionHostProcess\n",
"XDG_RUNTIME_DIR=/run/user/1000\n",
"XDG_MENU_PREFIX=gnome-\n",
"GDK_BACKEND=x11\n",
"DISPLAY=:0\n",
"LANG=es_ES.UTF-8\n",
"XDG_CURRENT_DESKTOP=Unity\n",
"XAUTHORITY=/run/user/1000/gdm/Xauthority\n",
"XDG_SESSION_DESKTOP=ubuntu\n",
"XMODIFIERS=@im=ibus\n",
"LS_COLORS=\n",
"SSH_AUTH_SOCK=/run/user/1000/keyring/ssh\n",
"ORIGINAL_XDG_CURRENT_DESKTOP=ubuntu:GNOME\n",
"CONDA_PYTHON_EXE=/home/wallabot/anaconda3/bin/python\n",
"SHELL=/bin/bash\n",
"ELECTRON_RUN_AS_NODE=1\n",
"QT_ACCESSIBILITY=1\n",
"GDMSESSION=ubuntu\n",
"LESSCLOSE=/usr/bin/lesspipe %s %s\n",
"CONDA_DEFAULT_ENV=base\n",
"PYDEVD_IPYTHON_COMPATIBLE_DEBUGGING=1\n",
"GPG_AGENT_INFO=/run/user/1000/gnupg/S.gpg-agent:0:1\n",
"GJS_DEBUG_OUTPUT=stderr\n",
"QT_IM_MODULE=ibus\n",
"GIT_PAGER=cat\n",
"PWD=/home/wallabot/Documentos/web\n",
"CLICOLOR=1\n",
"XDG_DATA_DIRS=/usr/share/ubuntu:/usr/local/share/:/usr/share/:/var/lib/snapd/desktop\n",
"XDG_CONFIG_DIRS=/etc/xdg/xdg-ubuntu:/etc/xdg\n",
"VSCODE_CODE_CACHE_PATH=/home/wallabot/.config/Code/CachedData/6261075646f055b99068d3688932416f2346dd3b\n",
"CONDA_EXE=/home/wallabot/anaconda3/bin/conda\n",
"CONDA_PREFIX=/home/wallabot/anaconda3\n",
"VSCODE_PID=3897\n"
          ]
        }
      ],
      "source": [
      "!printenv"
      ]
    },
{
      "cell_type": "markdown",
      "metadata": {},
      "source": [
      "### Exibir uma variável de ambiente com o comando `echo"
      ]
    },
{
      "cell_type": "markdown",
      "metadata": {},
      "source": [
      "Para visualizar uma determinada variável de ambiente, podemos fazer isso usando o comando `echo` seguido do símbolo `$` e do nome da variável."
      ]
    },
{
      "cell_type": "code",
      "execution_count": 131,
      "metadata": {},
      "outputs": [
      {
          "name": "stdout",
          "output_type": "stream",
          "text": [
          "/home/wallabot\n"
          ]
        }
      ],
      "source": [
      "!echo $HOME"
      ]
    },
{
      "cell_type": "markdown",
      "metadata": {},
      "source": [
      "### Modificando uma variável de ambiente para uma sessão de terminal"
      ]
    },
{
      "cell_type": "markdown",
      "metadata": {},
      "source": [
      "Podemos modificar uma variável de ambiente para a sessão ativa do terminal, por exemplo, vamos adicionar um novo caminho à variável `PATH`. Primeiro, veremos o que há nela"
      ]
    },
{
      "cell_type": "code",
      "execution_count": 131,
      "metadata": {},
      "outputs": [
      {
          "name": "stdout",
          "output_type": "stream",
          "text": [
          "/home/wallabot/anaconda3/bin:/home/wallabot/anaconda3/condabin:/usr/local/sbin:/usr/local/bin:/usr/sbin:/usr/bin:/sbin:/bin:/usr/games:/usr/local/games:/snap/bin\n"
          ]
        }
      ],
      "source": [
      "!echo $PATH"
      ]
    },
{
      "cell_type": "markdown",
      "metadata": {},
      "source": [
      "Agora vamos adicionar um novo endereço"
      ]
    },
{
      "cell_type": "code",
      "execution_count": 131,
      "metadata": {},
      "outputs": [
      {
          "name": "stdout",
          "output_type": "stream",
          "text": [
          "\n"
          ]
        }
      ],
      "source": [
      "!PATH=$PATH:\"subdirectorio"
      ]
    },
{
      "cell_type": "markdown",
      "metadata": {},
      "source": [
      "Vamos dar uma olhada novamente no que está dentro do `PATH`."
      ]
    },
{
      "cell_type": "code",
      "execution_count": 131,
      "metadata": {},
      "outputs": [
      {
          "name": "stdout",
          "output_type": "stream",
          "text": [
          "/home/wallabot/anaconda3/bin:/home/wallabot/anaconda3/condabin:/usr/local/sbin:/usr/local/bin:/usr/sbin:/usr/bin:/sbin:/bin:/usr/games:/usr/local/games:/snap/bin:subdirectorio\n"
          ]
        }
      ],
      "source": [
      "!echo $PATH"
      ]
    },
{
      "cell_type": "markdown",
      "metadata": {},
      "source": [
      "Vemos que o diretório `subdirectory` foi adicionado.\n",
"\n",
"O problema com esse método é que, quando abrirmos um novo terminal, ele não manterá essa alteração no `PATH`."
      ]
    },
{
      "cell_type": "markdown",
      "metadata": {},
      "source": [
      "### Modificando uma variável de ambiente para todas as sessões de terminal"
      ]
    },
{
      "cell_type": "markdown",
      "metadata": {},
      "source": [
      "Vamos para a pasta inicial"
      ]
    },
{
      "cell_type": "code",
      "execution_count": 132,
      "metadata": {},
      "outputs": [],
      "source": [
      "terminal(\"cd /home/wallabot\")"
      ]
    },
{
      "cell_type": "markdown",
      "metadata": {},
      "source": [
      "Aqui na página inicial, listamos todos os arquivos com o sinalizador `-a` (all)"
      ]
    },
{
      "cell_type": "code",
      "execution_count": 133,
      "metadata": {},
      "outputs": [
      {
          "name": "stdout",
          "output_type": "stream",
          "text": [
          ".\t\t.eclipse\t\t       .pki\n",
"..\t\tEscritorio\t\t       Plantillas\n",
".afirma\t\t.gitconfig\t\t       .platformio\n",
"anaconda3\t.gnupg\t\t\t       .profile\n",
".audacity-data\tImágenes\t\t       .psensor\n",
".bash_history\t.ipython\t\t       Público\n",
".bash_logout\t.java\t\t\t       .python_history\n",
".bashrc\t\t.jupyter\t\t       snap\n",
".cache\t\t.lesshst\t\t       .ssh\n",
".conda\t\tLightworks\t\t       .sudo_as_admin_successful\n",
".config\t\t.Lightworks.thereCanBeOnlyOne  .thunderbird\n",
".cortex-debug\t.local\t\t\t       Vídeos\n",
".cyberghost\tlogiops\t\t\t       .vnc\n",
".dbus\t\t.MCTranscodingSDK\t       .vscode\n",
"Descargas\t.mozilla\t\t       .wget-hsts\n",
".docker\t\tMúsica\n",
"Documentos\t.nv\n"
          ]
        }
      ],
      "source": [
      "!ls -a"
      ]
    },
{
      "cell_type": "markdown",
      "metadata": {},
      "source": [
      "Vemos que há um arquivo chamado `.bashrc`, que é o arquivo que contém nossa configuração do bash."
      ]
    },
{
      "cell_type": "code",
      "execution_count": 134,
      "metadata": {},
      "outputs": [
      {
          "name": "stdout",
          "output_type": "stream",
          "text": [
          "# ~/.bashrc: executed by bash(1) for non-login shells.\n",
"# see /usr/share/doc/bash/examples/startup-files (in the package bash-doc)\n",
"# for examples\n",
"\t ...\n",
"fi\n",
"unset __conda_setup\n",
"# <<< conda initialize <<<\n",
"\n",
"\n"
          ]
        }
      ],
      "source": [
      "terminal(\"cat .bashrc\", max_lines_output=3)"
      ]
    },
{
      "cell_type": "markdown",
      "metadata": {},
      "source": [
      "Esse arquivo é o que configura o terminal toda vez que um novo terminal é aberto, portanto, se editarmos a variável `PATH` nele, essa alteração será mantida em todas as novas janelas de terminal que abrirmos."
      ]
    },
{
      "cell_type": "markdown",
      "metadata": {},
      "source": [
      "Para modificar a variável `PATH` no arquivo de configuração, é necessário adicionar a seguinte linha ao arquivo"
      ]
    },
{
      "cell_type": "markdown",
      "metadata": {},
      "source": [
      "```\n",
"PATH=$PATH: \"subdiretório\".\n",
"```"
      ]
    },
{
      "cell_type": "markdown",
      "metadata": {},
      "source": [
      "### Criar aliases para todas as sessões"
      ]
    },
{
      "cell_type": "markdown",
      "metadata": {},
      "source": [
      "Já vimos como criar aliases de comando, mas também aconteceu de eles serem perdidos sempre que fechávamos uma sessão de terminal, então os adicionamos ao arquivo de configuração `.bashrc`. Por exemplo, no meu caso, adicionei as seguintes linhas\n",
"\n",
"```\n",
"alias ll='ls -l'\n",
"alias la='ls -a'\n",
"alias lh='ls -h' alias lh='ls -h' alias lh='ls -h' alias ls -h\n",
"alias lha='ls -lha'\n",
"```"
      ]
    },
{
      "cell_type": "markdown",
      "metadata": {},
      "source": [
      "## Comandos de pesquisa"
      ]
    },
{
      "cell_type": "markdown",
      "metadata": {},
      "source": [
      "### Pesquisa binária com `which`."
      ]
    },
{
      "cell_type": "markdown",
      "metadata": {},
      "source": [
      "O primeiro comando de pesquisa que vamos examinar é o `which`, que nos permite encontrar o caminho para os binários."
      ]
    },
{
      "cell_type": "code",
      "execution_count": 135,
      "metadata": {},
      "outputs": [
      {
          "name": "stdout",
          "output_type": "stream",
          "text": [
          "/home/wallabot/anaconda3/bin/python\n"
          ]
        }
      ],
      "source": [
      "!which python"
      ]
    },
{
      "cell_type": "markdown",
      "metadata": {},
      "source": [
      "No entanto, se procurarmos por algo que não esteja em um dos caminhos PATH, o `which` não poderá nos informar o caminho."
      ]
    },
{
      "cell_type": "code",
      "execution_count": 136,
      "metadata": {},
      "outputs": [],
      "source": [
      "!which cd"
      ]
    },
{
      "cell_type": "markdown",
      "metadata": {},
      "source": [
      "### Procure arquivos com `find`."
      ]
    },
{
      "cell_type": "markdown",
      "metadata": {},
      "source": [
      "Para localizar um arquivo com o find, precisamos informar o caminho a partir do qual queremos localizar o arquivo, seguido do sinalizador `-name` e do nome do arquivo que queremos localizar."
      ]
    },
{
      "cell_type": "code",
      "execution_count": 137,
      "metadata": {},
      "outputs": [
      {
          "name": "stdout",
          "output_type": "stream",
          "text": [
          "/home/wallabot/Documentos/web/portafolio/posts/prueba/2021-02-11-Introduccion-a-Python.ipynb\n",
"/home/wallabot/Documentos/web/portafolio/posts/2021-02-11-Introduccion-a-Python.ipynb\n"
          ]
        }
      ],
      "source": [
      "!find ~ -name \"2021-02-11-Introduccion-a-Python.ipynb\""
      ]
    },
{
      "cell_type": "markdown",
      "metadata": {},
      "source": [
      "Como podemos ver, ele está em seu diretório, além da cópia que criei neste notebook e salvei na pasta `test`."
      ]
    },
{
      "cell_type": "markdown",
      "metadata": {},
      "source": [
      "Um recurso muito poderoso do `find` é o fato de podermos usar `wildcards`, por exemplo, se eu quiser encontrar todos os arquivos de texto na minha pasta `web`."
      ]
    },
{
      "cell_type": "code",
      "execution_count": 139,
      "metadata": {},
      "outputs": [
      {
          "name": "stdout",
          "output_type": "stream",
          "text": [
          "/home/wallabot/Documentos/web/portafolio/posts/2022-09-12 Introduccion a la terminal.txt\n",
"/home/wallabot/Documentos/web/portafolio/posts/prueba/lista.txt\n",
"/home/wallabot/Documentos/web/portafolio/posts/prueba/dot.txt\n",
"/home/wallabot/Documentos/web/portafolio/posts/prueba/dot2.txt\n",
"/home/wallabot/Documentos/web/portafolio/posts/prueba/secuential.txt\n",
"/home/wallabot/Documentos/web/portafolio/posts/prueba/subdirectorio/rootfile.txt\n",
"/home/wallabot/Documentos/web/portafolio/posts/prueba/subdirectorio/mitexto.txt\n",
"/home/wallabot/Documentos/web/portafolio/posts/prueba/file.txt\n",
"/home/wallabot/Documentos/web/wordpress_api_rest/page.txt\n"
          ]
        }
      ],
      "source": [
      "!find ~/Documentos/web/ -name *.txt"
      ]
    },
{
      "cell_type": "markdown",
      "metadata": {},
      "source": [
      "Se não quisermos que ele diferencie maiúsculas de minúsculas, devemos usar o sinalizador `-iname`. Por exemplo, se pesquisarmos todos os arquivos que contenham a tag `FILE`, mas usando o sinalizador `-iname`"
      ]
    },
{
      "cell_type": "code",
      "execution_count": 140,
      "metadata": {},
      "outputs": [
      {
          "name": "stdout",
          "output_type": "stream",
          "text": [
          "/home/wallabot/Documentos/web/portafolio/posts/html_files\n",
"/home/wallabot/Documentos/web/portafolio/posts/prueba/subdirectorio/rootfile.txt\n",
"/home/wallabot/Documentos/web/portafolio/posts/prueba/file.txt\n"
          ]
        }
      ],
      "source": [
      "!find ~/Documentos/web/ -iname *FILE*"
      ]
    },
{
      "cell_type": "markdown",
      "metadata": {},
      "source": [
      "Vemos que todos os resultados contêm `file` e não `FILE`, ou seja, não há distinção entre maiúsculas e minúsculas."
      ]
    },
{
      "cell_type": "markdown",
      "metadata": {},
      "source": [
      "Podemos especificar o tipo de arquivo com o sinalizador `-type`. Ele suporta apenas dois tipos: `f` para arquivos e `d` para diretórios."
      ]
    },
{
      "cell_type": "code",
      "execution_count": 141,
      "metadata": {},
      "outputs": [
      {
          "name": "stdout",
          "output_type": "stream",
          "text": [
          "/home/wallabot/Documentos/nerf/instant-ngp/configs/image\n",
"/home/wallabot/Documentos/nerf/instant-ngp/dependencies/tiny-cuda-nn/benchmarks/image\n",
"/home/wallabot/Documentos/nerf/instant-ngp/dependencies/tiny-cuda-nn/dependencies/cutlass/media/images\n",
"/home/wallabot/Documentos/nerf/instant-ngp/dependencies/tiny-cuda-nn/dependencies/fmt/doc/bootstrap/mixins/image.less\n",
"/home/wallabot/Documentos/nerf/instant-ngp/dependencies/tiny-cuda-nn/data/images\n",
"/home/wallabot/Documentos/nerf/instant-ngp/dependencies/dlss/NVIDIAImageScaling/samples/media/images\n",
"/home/wallabot/Documentos/nerf/instant-ngp/data/nerf/fox/images\n",
"/home/wallabot/Documentos/nerf/instant-ngp/data/image\n"
          ]
        }
      ],
      "source": [
      "!find ~/Documentos/nerf -name image*"
      ]
    },
{
      "cell_type": "code",
      "execution_count": 142,
      "metadata": {},
      "outputs": [
      {
          "name": "stdout",
          "output_type": "stream",
          "text": [
          "/home/wallabot/Documentos/nerf/instant-ngp/configs/image\n",
"/home/wallabot/Documentos/nerf/instant-ngp/dependencies/tiny-cuda-nn/benchmarks/image\n",
"/home/wallabot/Documentos/nerf/instant-ngp/dependencies/tiny-cuda-nn/dependencies/cutlass/media/images\n",
"/home/wallabot/Documentos/nerf/instant-ngp/dependencies/tiny-cuda-nn/data/images\n",
"/home/wallabot/Documentos/nerf/instant-ngp/dependencies/dlss/NVIDIAImageScaling/samples/media/images\n",
"/home/wallabot/Documentos/nerf/instant-ngp/data/nerf/fox/images\n",
"/home/wallabot/Documentos/nerf/instant-ngp/data/image\n"
          ]
        }
      ],
      "source": [
      "!find ~/Documentos/nerf -name image* -type d"
      ]
    },
{
      "cell_type": "code",
      "execution_count": 143,
      "metadata": {},
      "outputs": [
      {
          "name": "stdout",
          "output_type": "stream",
          "text": [
          "/home/wallabot/Documentos/nerf/instant-ngp/dependencies/tiny-cuda-nn/dependencies/fmt/doc/bootstrap/mixins/image.less\n"
          ]
        }
      ],
      "source": [
      "!find ~/Documentos/nerf -name image* -type f"
      ]
    },
{
      "cell_type": "markdown",
      "metadata": {},
      "source": [
      "Se quisermos filtrar por tamanho de arquivo, podemos usar o sinalizador `-size`, por exemplo, se quisermos pesquisar todos os arquivos com mais de 200 MB"
      ]
    },
{
      "cell_type": "code",
      "execution_count": 144,
      "metadata": {},
      "outputs": [
      {
          "name": "stdout",
          "output_type": "stream",
          "text": [
          "/home/wallabot/Documentos/kaggle/hubmap/models/13_efficientnet-b7_final_model.pth\n",
"/home/wallabot/Documentos/kaggle/hubmap/models/12_efficientnet-b7_final_model.pth\n",
"/home/wallabot/Documentos/kaggle/hubmap/models/14_resnet152_final_model.pth\n",
"/home/wallabot/Documentos/kaggle/hubmap/models/14_resnet152_best_model.pth\n",
"/home/wallabot/Documentos/kaggle/hubmap/models/12_efficientnet-b7_early_stopping.pth\n",
"/home/wallabot/Documentos/kaggle/hubmap/models/efficientnet-b7-dcc49843.pth\n",
"/home/wallabot/Documentos/kaggle/hubmap/models/13_efficientnet-b7_early_stopping.pth\n",
"/home/wallabot/Documentos/kaggle/hubmap/models/14_resnet152_early_stopping.pth\n",
"/home/wallabot/Documentos/kaggle/hubmap/models/12_efficientnet-b7_best_model.pth\n",
"/home/wallabot/Documentos/kaggle/hubmap/models/13_efficientnet-b7_best_model.pth\n"
          ]
        }
      ],
      "source": [
      "!find ~/Documentos/ -type f -size +200M"
      ]
    },
{
      "cell_type": "markdown",
      "metadata": {},
      "source": [
      "Se quisermos executar operações após a pesquisa, usaremos o sinalizador `-exec`."
      ]
    },
{
      "cell_type": "markdown",
      "metadata": {},
      "source": [
      "Por exemplo, procurarei todas as pastas com o nome `subdiretório`."
      ]
    },
{
      "cell_type": "code",
      "execution_count": 145,
      "metadata": {},
      "outputs": [
      {
          "name": "stdout",
          "output_type": "stream",
          "text": [
          "/home/wallabot/Documentos/web/portafolio/posts/prueba/subdirectorio\n"
          ]
        }
      ],
      "source": [
      "!find ~/ -name subdirectorio -type d"
      ]
    },
{
      "cell_type": "markdown",
      "metadata": {},
      "source": [
      "Posso excluí-los com o sinalizador `-exec`."
      ]
    },
{
      "cell_type": "code",
      "execution_count": 164,
      "metadata": {},
      "outputs": [
      {
          "name": "stdout",
          "output_type": "stream",
          "text": [
          "rm: ¿borrar el fichero regular vacío '/home/wallabot/Documentos/web/portafolio/posts/prueba/subdirectorio/rootfile.txt'  protegido contra escritura? (s/n) s\n",
"find: ‘/home/wallabot/Documentos/web/portafolio/posts/prueba/subdirectorio’: No existe el archivo o el directorio\n"
          ]
        }
      ],
      "source": [
      "!find ~/ -name subdirectorio -type d -exec rm -r {} \\;"
      ]
    },
{
      "cell_type": "code",
      "execution_count": 146,
      "metadata": {},
      "outputs": [],
      "source": [
      "!find ~/ -name subdirectorio -type d"
      ]
    },
{
      "cell_type": "markdown",
      "metadata": {},
      "source": [
      "Por fim, se usarmos o caractere `!`, estaremos dizendo a ele para encontrar tudo que não corresponda ao que especificamos."
      ]
    },
{
      "cell_type": "code",
      "execution_count": 147,
      "metadata": {},
      "outputs": [
      {
          "name": "stdout",
          "output_type": "stream",
          "text": [
          "/home/wallabot/Documentos/web/portafolio/posts/prueba\n",
"/home/wallabot/Documentos/web/portafolio/posts/prueba/index.html\n",
"/home/wallabot/Documentos/web/portafolio/posts/prueba/Abc\n",
"/home/wallabot/Documentos/web/portafolio/posts/prueba/datos1\n",
"/home/wallabot/Documentos/web/portafolio/posts/prueba/2021-02-11-Introduccion-a-Python.ipynb\n",
"/home/wallabot/Documentos/web/portafolio/posts/prueba/datos123\n"
          ]
        }
      ],
      "source": [
      "!find ~/Documentos/web/portafolio/posts/prueba ! -name *.txt"
      ]
    },
{
      "cell_type": "markdown",
      "metadata": {},
      "source": [
      "Como podemos ver, ele encontrou tudo o que não é um `.txt`."
      ]
    },
{
      "cell_type": "markdown",
      "metadata": {},
      "source": [
      "## comando de pesquisa `grep"
      ]
    },
{
      "cell_type": "markdown",
      "metadata": {},
      "source": [
      "grep` é um comando de pesquisa muito poderoso, por isso dedicamos uma seção somente a ele. O comando `grep` usa expressões regulares, portanto, se você quiser aprender sobre elas, deixo um link para uma [postagem] (https://maximofn.com/expresiones-regulares) em que eu as explico."
      ]
    },
{
      "cell_type": "markdown",
      "metadata": {},
      "source": [
      "Vamos começar a ver o poder desse comando, vamos procurar todas as vezes que o texto `MaximoFN` aparece dentro do arquivo `2021-02-11-Introduction-to-Python.ipynb`."
      ]
    },
{
      "cell_type": "code",
      "execution_count": 148,
      "metadata": {},
      "outputs": [],
      "source": [
      "terminal(\"cd /home/wallabot/Documentos/web/portafolio/posts/prueba\")"
      ]
    },
{
      "cell_type": "code",
      "execution_count": 150,
      "metadata": {},
      "outputs": [
      {
          "name": "stdout",
          "output_type": "stream",
          "text": [
          "        \"a = 'MaximoFN'\\n\",\n",
"              \"'MaximoFN'\"\n",
"        \"string = \\\"MaximoFN\\\"\\n\",\n",
"              \"'MaximoFN'\"\n",
"        \"string = 'MaximoFN'\\n\",\n",
"              \"'MaximoFN'\"\n",
"            \"Este es el blog de \\\"MaximoFN\\\"\\n\"\n",
"        \"print(\\\"Este es el blog de \\\\\\\"MaximoFN\\\\\\\"\\\")\"\n",
"            \"Este es el blog de 'MaximoFN'\\n\"\n",
"        \"print('Este es el blog de \\\\'MaximoFN\\\\'')\"\n",
"            \"Este es el blog de \\\\MaximoFN\\\\\\n\"\n",
"        \"print('Este es el blog de \\\\\\\\MaximoFN\\\\\\\\')\"\n",
"            \"MaximoFN\\n\"\n",
"        \"print('Este es el blog de \\\\nMaximoFN')\"\n",
"            \"Este es el blog de MaximoFN\\n\"\n",
"        \"print('Esto no se imprimirá \\\\rEste es el blog de MaximoFN')\"\n",
"            \"Este es el blog de \\tMaximoFN\\n\"\n",
"        \"print('Este es el blog de \\\\tMaximoFN')\"\n",
"            \"Este es el blog deMaximoFN\\n\"\n",
"        \"print('Este es el blog de \\\\bMaximoFN')\"\n",
"\t ...\n",
"        \"funcion2_del_modulo('MaximoFN')\"\n",
"            \"MaximoFN\\n\",\n",
"        \"  print('MaximoFN')\\n\",\n",
"        \"  variable = 'MaximoFN'\\n\",\n",
"\n"
          ]
        }
      ],
      "source": [
      "terminal(\"grep MaximoFN 2021-02-11-Introduccion-a-Python.ipynb\", max_lines_output=20)"
      ]
    },
{
      "cell_type": "markdown",
      "metadata": {},
      "source": [
      "No entanto, se fizermos a mesma pesquisa para o texto `maximofn`, encontraremos o texto `maximofn`."
      ]
    },
{
      "cell_type": "code",
      "execution_count": 151,
      "metadata": {},
      "outputs": [],
      "source": [
      "!grep maximofn 2021-02-11-Introduccion-a-Python.ipynb"
      ]
    },
{
      "cell_type": "markdown",
      "metadata": {},
      "source": [
      "Nenhum resultado é exibido, pois o `grep` é \"sensível a maiúsculas e minúsculas\", ou seja, ele procura o texto como você o digitou, sensível a maiúsculas e minúsculas. Se não quisermos que isso ocorra, devemos inserir o sinalizador `-i`."
      ]
    },
{
      "cell_type": "code",
      "execution_count": 152,
      "metadata": {},
      "outputs": [
      {
          "name": "stdout",
          "output_type": "stream",
          "text": [
          "        \"a = 'MaximoFN'\\n\",\n",
"              \"'MaximoFN'\"\n",
"        \"string = \\\"MaximoFN\\\"\\n\",\n",
"              \"'MaximoFN'\"\n",
"        \"string = 'MaximoFN'\\n\",\n",
"              \"'MaximoFN'\"\n",
"            \"Este es el blog de \\\"MaximoFN\\\"\\n\"\n",
"        \"print(\\\"Este es el blog de \\\\\\\"MaximoFN\\\\\\\"\\\")\"\n",
"            \"Este es el blog de 'MaximoFN'\\n\"\n",
"        \"print('Este es el blog de \\\\'MaximoFN\\\\'')\"\n",
"            \"Este es el blog de \\\\MaximoFN\\\\\\n\"\n",
"        \"print('Este es el blog de \\\\\\\\MaximoFN\\\\\\\\')\"\n",
"            \"MaximoFN\\n\"\n",
"        \"print('Este es el blog de \\\\nMaximoFN')\"\n",
"            \"Este es el blog de MaximoFN\\n\"\n",
"        \"print('Esto no se imprimirá \\\\rEste es el blog de MaximoFN')\"\n",
"            \"Este es el blog de \\tMaximoFN\\n\"\n",
"        \"print('Este es el blog de \\\\tMaximoFN')\"\n",
"            \"Este es el blog deMaximoFN\\n\"\n",
"        \"print('Este es el blog de \\\\bMaximoFN')\"\n",
"\t ...\n",
"        \"funcion2_del_modulo('MaximoFN')\"\n",
"            \"MaximoFN\\n\",\n",
"        \"  print('MaximoFN')\\n\",\n",
"        \"  variable = 'MaximoFN'\\n\",\n",
"\n"
          ]
        }
      ],
      "source": [
      "terminal(\"grep -i MaximoFN 2021-02-11-Introduccion-a-Python.ipynb\", max_lines_output=20)"
      ]
    },
{
      "cell_type": "markdown",
      "metadata": {},
      "source": [
      "Se quisermos retornar o número de vezes que ela aparece, introduzimos o sinalizador `-c`."
      ]
    },
{
      "cell_type": "code",
      "execution_count": 153,
      "metadata": {},
      "outputs": [
      {
          "name": "stdout",
          "output_type": "stream",
          "text": [
          "105\n"
          ]
        }
      ],
      "source": [
      "!grep -c MaximoFN 2021-02-11-Introduccion-a-Python.ipynb"
      ]
    },
{
      "cell_type": "markdown",
      "metadata": {},
      "source": [
      "Se não nos importarmos se ele aparece com letras maiúsculas ou minúsculas, podemos adicionar o sinalizador `-i` novamente, mas não é necessário colocá-lo separadamente do sinalizador `-c`, eles podem ser introduzidos juntos."
      ]
    },
{
      "cell_type": "code",
      "execution_count": 154,
      "metadata": {},
      "outputs": [
      {
          "name": "stdout",
          "output_type": "stream",
          "text": [
          "105\n"
          ]
        }
      ],
      "source": [
      "!grep -ci MaximoFN 2021-02-11-Introduccion-a-Python.ipynb"
      ]
    },
{
      "cell_type": "markdown",
      "metadata": {},
      "source": [
      "Se quisermos agora todas as vezes em que **não** aparece a palavra `MaximumFN`, introduziremos o sinalizador `-v`."
      ]
    },
{
      "cell_type": "code",
      "execution_count": 155,
      "metadata": {},
      "outputs": [
      {
          "name": "stdout",
          "output_type": "stream",
          "text": [
          "11573\n"
          ]
        }
      ],
      "source": [
      "!grep -cv MaximoFN 2021-02-11-Introduccion-a-Python.ipynb"
      ]
    },
{
      "cell_type": "markdown",
      "metadata": {},
      "source": [
      "## Utilitários de rede"
      ]
    },
{
      "cell_type": "markdown",
      "metadata": {},
      "source": [
      "### Informações sobre interfaces de rede com o `ifconfig`."
      ]
    },
{
      "cell_type": "markdown",
      "metadata": {},
      "source": [
      "O primeiro comando será o `ifconfig`, que exibe informações sobre nossas interfaces de rede."
      ]
    },
{
      "cell_type": "code",
      "execution_count": 156,
      "metadata": {},
      "outputs": [
      {
          "name": "stdout",
          "output_type": "stream",
          "text": [
          "br-470e52ae2708: flags=4099<UP,BROADCAST,MULTICAST>  mtu 1500\n",
"        inet 172.18.0.1  netmask 255.255.0.0  broadcast 172.18.255.255\n",
"        ether 02:42:ac:d0:b9:eb  txqueuelen 0  (Ethernet)\n",
"        RX packets 0  bytes 0 (0.0 B)\n",
"        RX errors 0  dropped 0  overruns 0  frame 0\n",
"        TX packets 0  bytes 0 (0.0 B)\n",
"        TX errors 0  dropped 0 overruns 0  carrier 0  collisions 0\n",
"\n",
"docker0: flags=4099<UP,BROADCAST,MULTICAST>  mtu 1500\n",
"        inet 172.17.0.1  netmask 255.255.0.0  broadcast 172.17.255.255\n",
"        ether 02:42:5d:15:1c:e9  txqueuelen 0  (Ethernet)\n",
"        RX packets 0  bytes 0 (0.0 B)\n",
"        RX errors 0  dropped 0  overruns 0  frame 0\n",
"        TX packets 0  bytes 0 (0.0 B)\n",
"        TX errors 0  dropped 0 overruns 0  carrier 0  collisions 0\n",
"\n",
"enp6s0: flags=4163<UP,BROADCAST,RUNNING,MULTICAST>  mtu 1500\n",
"        inet 192.168.1.144  netmask 255.255.255.0  broadcast 192.168.1.255\n",
"        inet6 fe80::7dc2:6944:3fbe:c18e  prefixlen 64  scopeid 0x20<link>\n",
"        ether 24:4b:fe:5c:f6:59  txqueuelen 1000  (Ethernet)\n",
"        RX packets 144369  bytes 123807349 (123.8 MB)\n",
"        RX errors 0  dropped 2056  overruns 0  frame 0\n",
"        TX packets 100672  bytes 55678042 (55.6 MB)\n",
"        TX errors 0  dropped 0 overruns 0  carrier 0  collisions 0\n",
"\n",
"lo: flags=73<UP,LOOPBACK,RUNNING>  mtu 65536\n",
"        inet 127.0.0.1  netmask 255.0.0.0\n",
"        inet6 ::1  prefixlen 128  scopeid 0x10<host>\n",
"        loop  txqueuelen 1000  (Bucle local)\n",
"        RX packets 10748  bytes 1832545 (1.8 MB)\n",
"        RX errors 0  dropped 0  overruns 0  frame 0\n",
"        TX packets 10748  bytes 1832545 (1.8 MB)\n",
"        TX errors 0  dropped 0 overruns 0  carrier 0  collisions 0\n",
"\n",
"wlp5s0: flags=4099<UP,BROADCAST,MULTICAST>  mtu 1500\n",
"        ether 4c:77:cb:1d:66:cc  txqueuelen 1000  (Ethernet)\n",
"        RX packets 0  bytes 0 (0.0 B)\n",
"        RX errors 0  dropped 0  overruns 0  frame 0\n",
"        TX packets 0  bytes 0 (0.0 B)\n",
"        TX errors 0  dropped 0 overruns 0  carrier 0  collisions 0\n",
"\n"
          ]
        }
      ],
      "source": [
      "!ifconfig"
      ]
    },
{
      "cell_type": "markdown",
      "metadata": {},
      "source": [
      "Como podemos ver, temos as informações de todas as interfaces de rede do meu computador, mas se eu quiser saber as informações de apenas uma delas, eu a especifico adicionando seu número."
      ]
    },
{
      "cell_type": "code",
      "execution_count": 157,
      "metadata": {},
      "outputs": [
      {
          "name": "stdout",
          "output_type": "stream",
          "text": [
          "enp6s0: flags=4163<UP,BROADCAST,RUNNING,MULTICAST>  mtu 1500\n",
"        inet 192.168.1.144  netmask 255.255.255.0  broadcast 192.168.1.255\n",
"        inet6 fe80::7dc2:6944:3fbe:c18e  prefixlen 64  scopeid 0x20<link>\n",
"        ether 24:4b:fe:5c:f6:59  txqueuelen 1000  (Ethernet)\n",
"        RX packets 144467  bytes 123842258 (123.8 MB)\n",
"        RX errors 0  dropped 2060  overruns 0  frame 0\n",
"        TX packets 100786  bytes 55749109 (55.7 MB)\n",
"        TX errors 0  dropped 0 overruns 0  carrier 0  collisions 0\n",
"\n"
          ]
        }
      ],
      "source": [
      "!ifconfig enp6s0"
      ]
    },
{
      "cell_type": "markdown",
      "metadata": {},
      "source": [
      "### Informações sobre interfaces de rede com `ip`."
      ]
    },
{
      "cell_type": "markdown",
      "metadata": {},
      "source": [
      "Outra maneira de obter as informações de nossas interfaces de rede é usar o comando `ip`, acrescentando `a` para obter as informações de todas as interfaces."
      ]
    },
{
      "cell_type": "code",
      "execution_count": 158,
      "metadata": {},
      "outputs": [
      {
          "name": "stdout",
          "output_type": "stream",
          "text": [
          "1: lo: <LOOPBACK,UP,LOWER_UP> mtu 65536 qdisc noqueue state UNKNOWN group default qlen 1000\n",
"    link/loopback 00:00:00:00:00:00 brd 00:00:00:00:00:00\n",
"    inet 127.0.0.1/8 scope host lo\n",
"       valid_lft forever preferred_lft forever\n",
"    inet6 ::1/128 scope host \n",
"       valid_lft forever preferred_lft forever\n",
"2: enp6s0: <BROADCAST,MULTICAST,UP,LOWER_UP> mtu 1500 qdisc fq_codel state UP group default qlen 1000\n",
"    link/ether 24:4b:fe:5c:f6:59 brd ff:ff:ff:ff:ff:ff\n",
"    inet 192.168.1.144/24 brd 192.168.1.255 scope global dynamic noprefixroute enp6s0\n",
"       valid_lft 80218sec preferred_lft 80218sec\n",
"    inet6 fe80::7dc2:6944:3fbe:c18e/64 scope link noprefixroute \n",
"       valid_lft forever preferred_lft forever\n",
"3: wlp5s0: <NO-CARRIER,BROADCAST,MULTICAST,UP> mtu 1500 qdisc noqueue state DOWN group default qlen 1000\n",
"    link/ether 4c:77:cb:1d:66:cc brd ff:ff:ff:ff:ff:ff\n",
"4: br-470e52ae2708: <NO-CARRIER,BROADCAST,MULTICAST,UP> mtu 1500 qdisc noqueue state DOWN group default \n",
"    link/ether 02:42:ac:d0:b9:eb brd ff:ff:ff:ff:ff:ff\n",
"    inet 172.18.0.1/16 brd 172.18.255.255 scope global br-470e52ae2708\n",
"       valid_lft forever preferred_lft forever\n",
"5: docker0: <NO-CARRIER,BROADCAST,MULTICAST,UP> mtu 1500 qdisc noqueue state DOWN group default \n",
"    link/ether 02:42:5d:15:1c:e9 brd ff:ff:ff:ff:ff:ff\n",
"    inet 172.17.0.1/16 brd 172.17.255.255 scope global docker0\n",
"       valid_lft forever preferred_lft forever\n"
          ]
        }
      ],
      "source": [
      "!ip a"
      ]
    },
{
      "cell_type": "markdown",
      "metadata": {},
      "source": [
      "### Teste as comunicações com `ping`."
      ]
    },
{
      "cell_type": "markdown",
      "metadata": {},
      "source": [
      "Outro comando útil é o `ping`, que pode ser usado para verificar se temos uma conexão com um determinado `IP`. Por exemplo, o `IP` do Google é `142.250.200.78`, portanto, fazemos `ping` para ver se ele responde. O comando `ping` no Linux faz `ping`s sem parar, de modo que nunca termina até que o interrompamos. Para evitar isso, adicionamos o sinalizador `-c` e o número de tentativas."
      ]
    },
{
      "cell_type": "code",
      "execution_count": 161,
      "metadata": {},
      "outputs": [
      {
          "name": "stdout",
          "output_type": "stream",
          "text": [
          "PING 142.250.200.132 (142.250.200.132) 56(84) bytes of data.\n",
"64 bytes from 142.250.200.132: icmp_seq=1 ttl=117 time=3.46 ms\n",
"64 bytes from 142.250.200.132: icmp_seq=2 ttl=117 time=3.77 ms\n",
"64 bytes from 142.250.200.132: icmp_seq=3 ttl=117 time=2.81 ms\n",
"64 bytes from 142.250.200.132: icmp_seq=4 ttl=117 time=2.86 ms\n",
"\n",
"--- 142.250.200.132 ping statistics ---\n",
"4 packets transmitted, 4 received, 0% packet loss, time 3004ms\n",
"rtt min/avg/max/mdev = 2.812/3.227/3.773/0.405 ms\n"
          ]
        }
      ],
      "source": [
      "!ping 142.250.200.132 -c 4"
      ]
    },
{
      "cell_type": "markdown",
      "metadata": {},
      "source": [
      "O mesmo teria acontecido se tivéssemos feito isso diretamente no `google.com`."
      ]
    },
{
      "cell_type": "code",
      "execution_count": 160,
      "metadata": {},
      "outputs": [
      {
          "name": "stdout",
          "output_type": "stream",
          "text": [
          "PING www.google.com (142.250.200.132) 56(84) bytes of data.\n",
"64 bytes from mad41s14-in-f4.1e100.net (142.250.200.132): icmp_seq=1 ttl=117 time=2.74 ms\n",
"64 bytes from mad41s14-in-f4.1e100.net (142.250.200.132): icmp_seq=2 ttl=117 time=3.96 ms\n",
"64 bytes from mad41s14-in-f4.1e100.net (142.250.200.132): icmp_seq=3 ttl=117 time=3.56 ms\n",
"64 bytes from mad41s14-in-f4.1e100.net (142.250.200.132): icmp_seq=4 ttl=117 time=2.87 ms\n",
"\n",
"--- www.google.com ping statistics ---\n",
"4 packets transmitted, 4 received, 0% packet loss, time 3003ms\n",
"rtt min/avg/max/mdev = 2.741/3.283/3.962/0.499 ms\n"
          ]
        }
      ],
      "source": [
      "!ping www.google.com -c 4"
      ]
    },
{
      "cell_type": "markdown",
      "metadata": {},
      "source": [
      "### Faça o download dos arquivos de origem com `curl`."
      ]
    },
{
      "cell_type": "markdown",
      "metadata": {},
      "source": [
      "Podemos obter um arquivo de texto de um determinado endereço usando o comando `curl`, por exemplo, podemos fazer o download do html do Google"
      ]
    },
{
      "cell_type": "code",
      "execution_count": 162,
      "metadata": {},
      "outputs": [
      {
          "name": "stdout",
          "output_type": "stream",
          "text": [
          "<!doctype html><html itemscope=\"\" itemtype=\"http://schema.org/WebPage\" lang=\"es\"><head><meta content=\"Google.es permite acceder a la informaci�n mundial en castellano, catal�n, gallego, euskara e ingl�s.\" name=\"description\"><meta content=\"noodp\" name=\"robots\"><meta content=\"text/html; charset=UTF-8\" http-equiv=\"Content-Type\"><meta content=\"/images/branding/googleg/1x/googleg_standard_color_128dp.png\" itemprop=\"image\"><title>Google</title><script nonce=\"zXcc4tMJWBRoE7q_o_Z2fQ\">(function(){window.google={kEI:'M5GOY6PeLr-jkdUP1pir0AE',kEXPI:'0,1359409,6059,206,4804,2316,383,246,5,5367,1123753,1197713,688,380089,16115,28684,22430,1362,12312,17587,4998,13228,3847,10622,22741,5081,1593,1279,2742,149,1103,840,1983,214,4100,3514,606,2023,2297,14670,3227,2845,7,4773,28997,1850,15757,3,346,230,6459,149,13975,4,1528,2304,7039,27731,7357,13658,4437,16786,5815,2542,4094,4052,3,3541,1,14262,27892,2,14022,6248,19490,5680,1021,2380,28741,4569,6255,23421,1252,5835,14967,4333,7484,11406,15676,8155,7381,15970,873,14804,1,4828,7,1922,5784,12208,10330,587,12192,4832,26504,5796,3,14433,3890,751,13384,1499,3,679,1622,1779,1886,338,1627,1119,6,8909,80,243,458,3438,1763,722,1020,813,91,1133,10,280,2306,44,77,1420,3,562,402,314,275,2095,440,399,138,384,1033,334,2667,2,723,444,79,403,501,929,3,785,2,240,78,2022,284,196,732,175,342,244,617,335,1,841,1275,14,979,57,857,446,2,1900,838,251,227,50,21,8,3,442,57,40,936,697,773,95,121,643,1502,163,355,702,195,1,452,50,334,687,109,1,19,109,134,546,80,5,36,124,68,135,131,415,47,27,266,563,48,231,742,15,527,2,6,495,1,495,5,62,1627,441,262,5,3,648,3,6,4,13,39,538,792,337,9,115,98,180,148,308,401,1240,2,726,243,2044,5286450,84,19,32,115,11,70,5995534,2803414,3311,141,795,19735,1,1,346,1755,1004,41,342,1,189,14,1,10,8,1,5,4,2,1,3,2,2,1,3,1,3,1,4,3,1,3,2,2,23947076,511,21,11,4041599,1964,1007,2087,13579,3102,303,5595,11,3835,3637,2623,9,136,1524825',kBL:'p9Xv'};google.sn='webhp';google.kHL='es';})();(function(){\n",
"var f=this||self;var h,k=[];function l(a){for(var b;a&&(!a.getAttribute||!(b=a.getAttribute(\"eid\")));)a=a.parentNode;return b||h}function m(a){for(var b=null;a&&(!a.getAttribute||!(b=a.getAttribute(\"leid\")));)a=a.parentNode;return b}\n",
"function n(a,b,c,d,g){var e=\"\";c||-1!==b.search(\"&ei=\")||(e=\"&ei=\"+l(d),-1===b.search(\"&lei=\")&&(d=m(d))&&(e+=\"&lei=\"+d));d=\"\";!c&&f._cshid&&-1===b.search(\"&cshid=\")&&\"slh\"!==a&&(d=\"&cshid=\"+f._cshid);c=c||\"/\"+(g||\"gen_204\")+\"?atyp=i&ct=\"+a+\"&cad=\"+b+e+\"&zx=\"+Date.now()+d;/^http:/i.test(c)&&\"https:\"===window.location.protocol&&(google.ml&&google.ml(Error(\"a\"),!1,{src:c,glmm:1}),c=\"\");return c};h=google.kEI;google.getEI=l;google.getLEI=m;google.ml=function(){return null};google.log=function(a,b,c,d,g){if(c=n(a,b,c,d,g)){a=new Image;var e=k.length;k[e]=a;a.onerror=a.onload=a.onabort=function(){delete k[e]};a.src=c}};google.logUrl=n;}).call(this);(function(){google.y={};google.sy=[];google.x=function(a,b){if(a)var c=a.id;else{do c=Math.random();while(google.y[c])}google.y[c]=[a,b];return!1};google.sx=function(a){google.sy.push(a)};google.lm=[];google.plm=function(a){google.lm.push.apply(google.lm,a)};google.lq=[];google.load=function(a,b,c){google.lq.push([[a],b,c])};google.loadAll=function(a,b){google.lq.push([a,b])};google.bx=!1;google.lx=function(){};}).call(this);google.f={};(function(){\n",
"document.documentElement.addEventListener(\"submit\",function(b){var a;if(a=b.target){var c=a.getAttribute(\"data-submitfalse\");a=\"1\"===c||\"q\"===c&&!a.elements.q.value?!0:!1}else a=!1;a&&(b.preventDefault(),b.stopPropagation())},!0);document.documentElement.addEventListener(\"click\",function(b){var a;a:{for(a=b.target;a&&a!==document.documentElement;a=a.parentElement)if(\"A\"===a.tagName){a=\"1\"===a.getAttribute(\"data-nohref\");break a}a=!1}a&&b.preventDefault()},!0);}).call(this);</script><style>#gbar,#guser{font-size:13px;padding-top:1px !important;}#gbar{height:22px}#guser{padding-bottom:7px !important;text-align:right}.gbh,.gbd{border-top:1px solid #c9d7f1;font-size:1px}.gbh{height:0;position:absolute;top:24px;width:100%}@media all{.gb1{height:22px;margin-right:.5em;vertical-align:top}#gbar{float:left}}a.gb1,a.gb4{text-decoration:underline !important}a.gb1,a.gb4{color:#00c !important}.gbi .gb4{color:#dd8e27 !important}.gbf .gb4{color:#900 !important}\n",
"</style><style>body,td,a,p,.h{font-family:arial,sans-serif}body{margin:0;overflow-y:scroll}#gog{padding:3px 8px 0}td{line-height:.8em}.gac_m td{line-height:17px}form{margin-bottom:20px}.h{color:#1558d6}em{font-weight:bold;font-style:normal}.lst{height:25px;width:496px}.gsfi,.lst{font:18px arial,sans-serif}.gsfs{font:17px arial,sans-serif}.ds{display:inline-box;display:inline-block;margin:3px 0 4px;margin-left:4px}input{font-family:inherit}body{background:#fff;color:#000}a{color:#4b11a8;text-decoration:none}a:hover,a:active{text-decoration:underline}.fl a{color:#1558d6}a:visited{color:#4b11a8}.sblc{padding-top:5px}.sblc a{display:block;margin:2px 0;margin-left:13px;font-size:11px}.lsbb{background:#f8f9fa;border:solid 1px;border-color:#dadce0 #70757a #70757a #dadce0;height:30px}.lsbb{display:block}#WqQANb a{display:inline-block;margin:0 12px}.lsb{background:url(/images/nav_logo229.png) 0 -261px repeat-x;border:none;color:#000;cursor:pointer;height:30px;margin:0;outline:0;font:15px arial,sans-serif;vertical-align:top}.lsb:active{background:#dadce0}.lst:focus{outline:none}</style><script nonce=\"zXcc4tMJWBRoE7q_o_Z2fQ\">(function(){window.google.erd={jsr:1,bv:1698,de:true};\n",
"var h=this||self;var k,l=null!=(k=h.mei)?k:1,n,p=null!=(n=h.sdo)?n:!0,q=0,r,t=google.erd,v=t.jsr;google.ml=function(a,b,d,m,e){e=void 0===e?2:e;b&&(r=a&&a.message);if(google.dl)return google.dl(a,e,d),null;if(0>v){window.console&&console.error(a,d);if(-2===v)throw a;b=!1}else b=!a||!a.message||\"Error loading script\"===a.message||q>=l&&!m?!1:!0;if(!b)return null;q++;d=d||{};b=encodeURIComponent;var c=\"/gen_204?atyp=i&ei=\"+b(google.kEI);google.kEXPI&&(c+=\"&jexpid=\"+b(google.kEXPI));c+=\"&srcpg=\"+b(google.sn)+\"&jsr=\"+b(t.jsr)+\"&bver=\"+b(t.bv);var f=a.lineNumber;void 0!==f&&(c+=\"&line=\"+f);var g=\n",
"a.fileName;g&&(0<g.indexOf(\"-extension:/\")&&(e=3),c+=\"&script=\"+b(g),f&&g===window.location.href&&(f=document.documentElement.outerHTML.split(\"\\n\")[f],c+=\"&cad=\"+b(f?f.substring(0,300):\"No script found.\")));c+=\"&jsel=\"+e;for(var u in d)c+=\"&\",c+=b(u),c+=\"=\",c+=b(d[u]);c=c+\"&emsg=\"+b(a.name+\": \"+a.message);c=c+\"&jsst=\"+b(a.stack||\"N/A\");12288<=c.length&&(c=c.substr(0,12288));a=c;m||google.log(0,\"\",a);return a};window.onerror=function(a,b,d,m,e){r!==a&&(a=e instanceof Error?e:Error(a),void 0===d||\"lineNumber\"in a||(a.lineNumber=d),void 0===b||\"fileName\"in a||(a.fileName=b),google.ml(a,!1,void 0,!1,\"SyntaxError\"===a.name||\"SyntaxError\"===a.message.substring(0,11)||-1!==a.message.indexOf(\"Script error\")?3:0));r=null;p&&q>=l&&(window.onerror=null)};})();</script></head><body bgcolor=\"#fff\"><script nonce=\"zXcc4tMJWBRoE7q_o_Z2fQ\">(function(){var src='/images/nav_logo229.png';var iesg=false;document.body.onload = function(){window.n && window.n();if (document.images){new Image().src=src;}\n",
"if (!iesg){document.f&&document.f.q.focus();document.gbqf&&document.gbqf.q.focus();}\n",
"}\n",
"})();</script><div id=\"mngb\"><div id=gbar><nobr><b class=gb1>B�squeda</b> <a class=gb1 href=\"https://www.google.es/imghp?hl=es&tab=wi\">Im�genes</a> <a class=gb1 href=\"https://maps.google.es/maps?hl=es&tab=wl\">Maps</a> <a class=gb1 href=\"https://play.google.com/?hl=es&tab=w8\">Play</a> <a class=gb1 href=\"https://www.youtube.com/?tab=w1\">YouTube</a> <a class=gb1 href=\"https://news.google.com/?tab=wn\">Noticias</a> <a class=gb1 href=\"https://mail.google.com/mail/?tab=wm\">Gmail</a> <a class=gb1 href=\"https://drive.google.com/?tab=wo\">Drive</a> <a class=gb1 style=\"text-decoration:none\" href=\"https://www.google.es/intl/es/about/products?tab=wh\"><u>M�s</u> &raquo;</a></nobr></div><div id=guser width=100%><nobr><span id=gbn class=gbi></span><span id=gbf class=gbf></span><span id=gbe></span><a href=\"http://www.google.es/history/optout?hl=es\" class=gb4>Historial web</a> | <a  href=\"/preferences?hl=es\" class=gb4>Ajustes</a> | <a target=_top id=gb_70 href=\"https://accounts.google.com/ServiceLogin?hl=es&passive=true&continue=https://www.google.com/&ec=GAZAAQ\" class=gb4>Iniciar sesi�n</a></nobr></div><div class=gbh style=left:0></div><div class=gbh style=right:0></div></div><center><br clear=\"all\" id=\"lgpd\"><div id=\"lga\"><img alt=\"Google\" height=\"92\" src=\"/images/branding/googlelogo/1x/googlelogo_white_background_color_272x92dp.png\" style=\"padding:28px 0 14px\" width=\"272\" id=\"hplogo\"><br><br></div><form action=\"/search\" name=\"f\"><table cellpadding=\"0\" cellspacing=\"0\"><tr valign=\"top\"><td width=\"25%\">&nbsp;</td><td align=\"center\" nowrap=\"\"><input name=\"ie\" value=\"ISO-8859-1\" type=\"hidden\"><input value=\"es\" name=\"hl\" type=\"hidden\"><input name=\"source\" type=\"hidden\" value=\"hp\"><input name=\"biw\" type=\"hidden\"><input name=\"bih\" type=\"hidden\"><div class=\"ds\" style=\"height:32px;margin:4px 0\"><input class=\"lst\" style=\"margin:0;padding:5px 8px 0 6px;vertical-align:top;color:#000\" autocomplete=\"off\" value=\"\" title=\"Buscar con Google\" maxlength=\"2048\" name=\"q\" size=\"57\"></div><br style=\"line-height:0\"><span class=\"ds\"><span class=\"lsbb\"><input class=\"lsb\" value=\"Buscar con Google\" name=\"btnG\" type=\"submit\"></span></span><span class=\"ds\"><span class=\"lsbb\"><input class=\"lsb\" id=\"tsuid_1\" value=\"Voy a tener suerte\" name=\"btnI\" type=\"submit\"><script nonce=\"zXcc4tMJWBRoE7q_o_Z2fQ\">(function(){var id='tsuid_1';document.getElementById(id).onclick = function(){if (this.form.q.value){this.checked = 1;if (this.form.iflsig)this.form.iflsig.disabled = false;}\n",
"else top.location='/doodles/';};})();</script><input value=\"AJiK0e8AAAAAY46fQwdyVrbrgW6gkEtVkGfp2nyO0ZXL\" name=\"iflsig\" type=\"hidden\"></span></span></td><td class=\"fl sblc\" align=\"left\" nowrap=\"\" width=\"25%\"><a href=\"/advanced_search?hl=es&amp;authuser=0\">B�squeda avanzada</a></td></tr></table><input id=\"gbv\" name=\"gbv\" type=\"hidden\" value=\"1\"><script nonce=\"zXcc4tMJWBRoE7q_o_Z2fQ\">(function(){var a,b=\"1\";if(document&&document.getElementById)if(\"undefined\"!=typeof XMLHttpRequest)b=\"2\";else if(\"undefined\"!=typeof ActiveXObject){var c,d,e=[\"MSXML2.XMLHTTP.6.0\",\"MSXML2.XMLHTTP.3.0\",\"MSXML2.XMLHTTP\",\"Microsoft.XMLHTTP\"];for(c=0;d=e[c++];)try{new ActiveXObject(d),b=\"2\"}catch(h){}}a=b;if(\"2\"==a&&-1==location.search.indexOf(\"&gbv=2\")){var f=google.gbvu,g=document.getElementById(\"gbv\");g&&(g.value=a);f&&window.setTimeout(function(){location.href=f},0)};}).call(this);</script></form><div id=\"gac_scont\"></div><div style=\"font-size:83%;min-height:3.5em\"><br><div id=\"gws-output-pages-elements-homepage_additional_languages__als\"><style>#gws-output-pages-elements-homepage_additional_languages__als{font-size:small;margin-bottom:24px}#SIvCob{color:#3c4043;display:inline-block;line-height:28px;}#SIvCob a{padding:0 3px;}.H6sW5{display:inline-block;margin:0 2px;white-space:nowrap}.z4hgWe{display:inline-block;margin:0 2px}</style><div id=\"SIvCob\">Ofrecido por Google en:  <a href=\"https://www.google.com/setprefs?sig=0_vwUKUD2Xhro4NnrueK1hCfItt30%3D&amp;hl=ca&amp;source=homepage&amp;sa=X&amp;ved=0ahUKEwjjw_C44uP7AhW_UaQEHVbMChoQ2ZgBCAU\">catal�</a>    <a href=\"https://www.google.com/setprefs?sig=0_vwUKUD2Xhro4NnrueK1hCfItt30%3D&amp;hl=gl&amp;source=homepage&amp;sa=X&amp;ved=0ahUKEwjjw_C44uP7AhW_UaQEHVbMChoQ2ZgBCAY\">galego</a>    <a href=\"https://www.google.com/setprefs?sig=0_vwUKUD2Xhro4NnrueK1hCfItt30%3D&amp;hl=eu&amp;source=homepage&amp;sa=X&amp;ved=0ahUKEwjjw_C44uP7AhW_UaQEHVbMChoQ2ZgBCAc\">euskara</a>  </div></div></div><span id=\"footer\"><div style=\"font-size:10pt\"><div style=\"margin:19px auto;text-align:center\" id=\"WqQANb\"><a href=\"http://www.google.es/intl/es/services/\">Soluciones Empresariales</a><a href=\"/intl/es/about.html\">Todo acerca de Google</a><a href=\"https://www.google.com/setprefdomain?prefdom=ES&amp;prev=https://www.google.es/&amp;sig=K_a2UXepORMQOw5-SHU8h4noB_VWk%3D\">Google.es</a></div></div><p style=\"font-size:8pt;color:#70757a\">&copy; 2022 - <a href=\"/intl/es/policies/privacy/\">Privacidad</a> - <a href=\"/intl/es/policies/terms/\">T�rminos</a></p></span></center><script nonce=\"zXcc4tMJWBRoE7q_o_Z2fQ\">(function(){window.google.cdo={height:757,width:1440};(function(){var a=window.innerWidth,b=window.innerHeight;if(!a||!b){var c=window.document,d=\"CSS1Compat\"==c.compatMode?c.documentElement:c.body;a=d.clientWidth;b=d.clientHeight}a&&b&&(a!=google.cdo.width||b!=google.cdo.height)&&google.log(\"\",\"\",\"/client_204?&atyp=i&biw=\"+a+\"&bih=\"+b+\"&ei=\"+google.kEI);}).call(this);})();</script> <script nonce=\"zXcc4tMJWBRoE7q_o_Z2fQ\">(function(){google.xjs={ck:'xjs.hp.oxai9SxkIQY.L.X.O',cs:'ACT90oEGh-_ImDfBjn6aD_ABGaOlD2MqVw',excm:[]};})();</script>  <script nonce=\"zXcc4tMJWBRoE7q_o_Z2fQ\">(function(){var u='/xjs/_/js/k\\x3dxjs.hp.en.9b-uVUIpJU8.O/am\\x3dAADoBABQAGAB/d\\x3d1/ed\\x3d1/rs\\x3dACT90oG-6KYVksw4jxVvNcwan406xE6qVw/m\\x3dsb_he,d';var amd=0;\n",
"var d=this||self,e=function(a){return a};var g;var l=function(a,b){this.g=b===h?a:\"\"};l.prototype.toString=function(){return this.g+\"\"};var h={};\n",
"function m(){var a=u;google.lx=function(){p(a);google.lx=function(){}};google.bx||google.lx()}\n",
"function p(a){google.timers&&google.timers.load&&google.tick&&google.tick(\"load\",\"xjsls\");var b=document;var c=\"SCRIPT\";\"application/xhtml+xml\"===b.contentType&&(c=c.toLowerCase());c=b.createElement(c);if(void 0===g){b=null;var k=d.trustedTypes;if(k&&k.createPolicy){try{b=k.createPolicy(\"goog#html\",{createHTML:e,createScript:e,createScriptURL:e})}catch(q){d.console&&d.console.error(q.message)}g=b}else g=b}a=(b=g)?b.createScriptURL(a):a;a=new l(a,h);c.src=a instanceof l&&a.constructor===l?a.g:\"type_error:TrustedResourceUrl\";var f,n;(f=(a=null==(n=(f=(c.ownerDocument&&c.ownerDocument.defaultView||window).document).querySelector)?void 0:n.call(f,\"script[nonce]\"))?a.nonce||a.getAttribute(\"nonce\")||\"\":\"\")&&c.setAttribute(\"nonce\",f);document.body.appendChild(c);google.psa=!0};google.xjsu=u;setTimeout(function(){0<amd?google.caft(function(){return m()},amd):m()},0);})();function _DumpException(e){throw e;}\n",
"function _F_installCss(c){}\n",
"(function(){google.jl={blt:'none',chnk:0,dw:false,dwu:true,emtn:0,end:0,ico:false,ikb:0,ine:false,injs:'none',injt:0,injth:0,injv2:false,lls:'default',pdt:0,rep:0,snet:true,strt:0,ubm:false,uwp:true};})();(function(){var pmc='{\\x22d\\x22:{},\\x22sb_he\\x22:{\\x22agen\\x22:true,\\x22cgen\\x22:true,\\x22client\\x22:\\x22heirloom-hp\\x22,\\x22dh\\x22:true,\\x22ds\\x22:\\x22\\x22,\\x22fl\\x22:true,\\x22host\\x22:\\x22google.com\\x22,\\x22jsonp\\x22:true,\\x22lm\\x22:true,\\x22msgs\\x22:{\\x22cibl\\x22:\\x22Borrar b�squeda\\x22,\\x22dym\\x22:\\x22Quiz�s quisiste decir:\\x22,\\x22lcky\\x22:\\x22Voy a tener suerte\\x22,\\x22lml\\x22:\\x22M�s informaci�n\\x22,\\x22psrc\\x22:\\x22Esta b�squeda se ha eliminado de tu \\\\u003Ca href\\x3d\\\\\\x22/history\\\\\\x22\\\\u003Ehistorial web\\\\u003C/a\\\\u003E.\\x22,\\x22psrl\\x22:\\x22Eliminar\\x22,\\x22sbit\\x22:\\x22Buscar por imagen\\x22,\\x22srch\\x22:\\x22Buscar con Google\\x22},\\x22ovr\\x22:{},\\x22pq\\x22:\\x22\\x22,\\x22rfs\\x22:[],\\x22sbas\\x22:\\x220 3px 8px 0 rgba(0,0,0,0.2),0 0 0 1px rgba(0,0,0,0.08)\\x22,\\x22stok\\x22:\\x22gh8wSanWNWQy8f-PH0wGTjDkvYQ\\x22}}';google.pmc=JSON.parse(pmc);})();</script>        </body></html>"
          ]
        }
      ],
      "source": [
      "!curl https://www.google.com"
      ]
    },
{
      "cell_type": "markdown",
      "metadata": {},
      "source": [
      "Também podemos criar um pipeline para salvá-lo em um arquivo."
      ]
    },
{
      "cell_type": "code",
      "execution_count": 163,
      "metadata": {},
      "outputs": [
      {
          "name": "stdout",
          "output_type": "stream",
          "text": [
          "  % Total    % Received % Xferd  Average Speed   Time    Time     Time  Current\n",
"                                 Dload  Upload   Total   Spent    Left  Speed\n",
"100 15168    0 15168    0     0   135k      0 --:--:-- --:--:-- --:--:--  137k\n"
          ]
        }
      ],
      "source": [
      "!curl https://www.google.com > google.html"
      ]
    },
{
      "cell_type": "markdown",
      "metadata": {},
      "source": [
      "Agora podemos ver se ele foi salvo corretamente"
      ]
    },
{
      "cell_type": "code",
      "execution_count": 165,
      "metadata": {},
      "outputs": [
      {
          "name": "stdout",
          "output_type": "stream",
          "text": [
          "<!doctype html><html itemscope=\"\" itemtype=\"http://schema.org/WebPage\" lang=\"es\"><head><meta content=\"Google.es permite acceder a la informaci�n mundial en castellano, catal�n, gallego, euskara e ingl�s.\" name=\"description\"><meta content=\"noodp\" name=\"robots\"><meta content=\"text/html; charset=UTF-8\" http-equiv=\"Content-Type\"><meta content=\"/images/branding/googleg/1x/googleg_standard_color_128dp.png\" itemprop=\"image\"><title>Google</title><script nonce=\"Jo7WFU6XWWwu6NrdwaRyIw\">(function(){window.google={kEI:'R5GOY-LZHLegkdUP_IqzoAE',kEXPI:'0,1359409,6059,206,4804,2316,383,246,5,5367,1123753,1197777,380713,16115,28684,22430,1362,283,12036,17580,4998,13228,516,3331,10622,22741,5081,1593,1279,2742,149,1103,840,1983,4,210,4100,3514,606,2023,2299,14668,3229,2843,7,4773,826,23475,4696,1851,15756,3,346,230,6459,149,13975,4,1528,2304,7039,20309,7422,7357,13658,4437,16786,5812,2545,4094,4052,3,3541,1,11943,30211,2,8984,1,5037,6249,19490,5679,1020,2378,28745,4568,6258,23418,1252,5835,14967,4333,4239,3245,27082,239,7916,7381,15969,874,19633,6,1923,5784,3995,21779,1120,8423,4832,26080,423,107,5690,3,14433,3890,751,14879,3,683,217,1405,1779,1854,31,1966,1119,6,8909,323,5659,1741,814,1224,10,280,2346,82,1419,3,565,401,519,68,970,1125,440,398,156,367,1034,333,3392,526,396,3,1431,3,785,2,312,2312,196,907,342,244,618,314,1,293,568,171,1104,14,89,891,56,857,306,14,509,154,246,1110,219,628,249,229,49,8,8,3,55,4,399,55,39,1072,49,43,2,468,782,83,123,641,1502,166,350,707,195,5,140,358,329,692,109,1,20,108,134,547,67,5,49,93,31,77,124,79,355,160,27,829,236,764,12,35,118,98,803,1,65,436,5,5,54,2065,262,5,3,647,3,8,2,14,39,65,380,80,14,790,346,115,99,1323,4,711,242,2,723,2286,5280608,12,5934,147,81,8798948,3311,141,795,19735,1,1,346,1755,1004,41,342,1,189,14,9,4,6,3,3,4,1,2,2,3,2,2,2,1,2,5,2,2,1,2,2,2,23947077,512,18,13,2737921,1303678,1964,3094,13579,3405,5595,11,3835,1923,3208,1069,1480676,40778',kBL:'p9Xv'};google.sn='webhp';google.kHL='es';})();(function(){\n",
"var f=this||self;var h,k=[];function l(a){for(var b;a&&(!a.getAttribute||!(b=a.getAttribute(\"eid\")));)a=a.parentNode;return b||h}function m(a){for(var b=null;a&&(!a.getAttribute||!(b=a.getAttribute(\"leid\")));)a=a.parentNode;return b}\n",
"function n(a,b,c,d,g){var e=\"\";c||-1!==b.search(\"&ei=\")||(e=\"&ei=\"+l(d),-1===b.search(\"&lei=\")&&(d=m(d))&&(e+=\"&lei=\"+d));d=\"\";!c&&f._cshid&&-1===b.search(\"&cshid=\")&&\"slh\"!==a&&(d=\"&cshid=\"+f._cshid);c=c||\"/\"+(g||\"gen_204\")+\"?atyp=i&ct=\"+a+\"&cad=\"+b+e+\"&zx=\"+Date.now()+d;/^http:/i.test(c)&&\"https:\"===window.location.protocol&&(google.ml&&google.ml(Error(\"a\"),!1,{src:c,glmm:1}),c=\"\");return c};h=google.kEI;google.getEI=l;google.getLEI=m;google.ml=function(){return null};google.log=function(a,b,c,d,g){if(c=n(a,b,c,d,g)){a=new Image;var e=k.length;k[e]=a;a.onerror=a.onload=a.onabort=function(){delete k[e]};a.src=c}};google.logUrl=n;}).call(this);(function(){google.y={};google.sy=[];google.x=function(a,b){if(a)var c=a.id;else{do c=Math.random();while(google.y[c])}google.y[c]=[a,b];return!1};google.sx=function(a){google.sy.push(a)};google.lm=[];google.plm=function(a){google.lm.push.apply(google.lm,a)};google.lq=[];google.load=function(a,b,c){google.lq.push([[a],b,c])};google.loadAll=function(a,b){google.lq.push([a,b])};google.bx=!1;google.lx=function(){};}).call(this);google.f={};(function(){\n",
"document.documentElement.addEventListener(\"submit\",function(b){var a;if(a=b.target){var c=a.getAttribute(\"data-submitfalse\");a=\"1\"===c||\"q\"===c&&!a.elements.q.value?!0:!1}else a=!1;a&&(b.preventDefault(),b.stopPropagation())},!0);document.documentElement.addEventListener(\"click\",function(b){var a;a:{for(a=b.target;a&&a!==document.documentElement;a=a.parentElement)if(\"A\"===a.tagName){a=\"1\"===a.getAttribute(\"data-nohref\");break a}a=!1}a&&b.preventDefault()},!0);}).call(this);</script><style>#gbar,#guser{font-size:13px;padding-top:1px !important;}#gbar{height:22px}#guser{padding-bottom:7px !important;text-align:right}.gbh,.gbd{border-top:1px solid #c9d7f1;font-size:1px}.gbh{height:0;position:absolute;top:24px;width:100%}@media all{.gb1{height:22px;margin-right:.5em;vertical-align:top}#gbar{float:left}}a.gb1,a.gb4{text-decoration:underline !important}a.gb1,a.gb4{color:#00c !important}.gbi .gb4{color:#dd8e27 !important}.gbf .gb4{color:#900 !important}\n",
"</style><style>body,td,a,p,.h{font-family:arial,sans-serif}body{margin:0;overflow-y:scroll}#gog{padding:3px 8px 0}td{line-height:.8em}.gac_m td{line-height:17px}form{margin-bottom:20px}.h{color:#1558d6}em{font-weight:bold;font-style:normal}.lst{height:25px;width:496px}.gsfi,.lst{font:18px arial,sans-serif}.gsfs{font:17px arial,sans-serif}.ds{display:inline-box;display:inline-block;margin:3px 0 4px;margin-left:4px}input{font-family:inherit}body{background:#fff;color:#000}a{color:#4b11a8;text-decoration:none}a:hover,a:active{text-decoration:underline}.fl a{color:#1558d6}a:visited{color:#4b11a8}.sblc{padding-top:5px}.sblc a{display:block;margin:2px 0;margin-left:13px;font-size:11px}.lsbb{background:#f8f9fa;border:solid 1px;border-color:#dadce0 #70757a #70757a #dadce0;height:30px}.lsbb{display:block}#WqQANb a{display:inline-block;margin:0 12px}.lsb{background:url(/images/nav_logo229.png) 0 -261px repeat-x;border:none;color:#000;cursor:pointer;height:30px;margin:0;outline:0;font:15px arial,sans-serif;vertical-align:top}.lsb:active{background:#dadce0}.lst:focus{outline:none}</style><script nonce=\"Jo7WFU6XWWwu6NrdwaRyIw\">(function(){window.google.erd={jsr:1,bv:1698,de:true};\n",
"var h=this||self;var k,l=null!=(k=h.mei)?k:1,n,p=null!=(n=h.sdo)?n:!0,q=0,r,t=google.erd,v=t.jsr;google.ml=function(a,b,d,m,e){e=void 0===e?2:e;b&&(r=a&&a.message);if(google.dl)return google.dl(a,e,d),null;if(0>v){window.console&&console.error(a,d);if(-2===v)throw a;b=!1}else b=!a||!a.message||\"Error loading script\"===a.message||q>=l&&!m?!1:!0;if(!b)return null;q++;d=d||{};b=encodeURIComponent;var c=\"/gen_204?atyp=i&ei=\"+b(google.kEI);google.kEXPI&&(c+=\"&jexpid=\"+b(google.kEXPI));c+=\"&srcpg=\"+b(google.sn)+\"&jsr=\"+b(t.jsr)+\"&bver=\"+b(t.bv);var f=a.lineNumber;void 0!==f&&(c+=\"&line=\"+f);var g=\n",
"a.fileName;g&&(0<g.indexOf(\"-extension:/\")&&(e=3),c+=\"&script=\"+b(g),f&&g===window.location.href&&(f=document.documentElement.outerHTML.split(\"\\n\")[f],c+=\"&cad=\"+b(f?f.substring(0,300):\"No script found.\")));c+=\"&jsel=\"+e;for(var u in d)c+=\"&\",c+=b(u),c+=\"=\",c+=b(d[u]);c=c+\"&emsg=\"+b(a.name+\": \"+a.message);c=c+\"&jsst=\"+b(a.stack||\"N/A\");12288<=c.length&&(c=c.substr(0,12288));a=c;m||google.log(0,\"\",a);return a};window.onerror=function(a,b,d,m,e){r!==a&&(a=e instanceof Error?e:Error(a),void 0===d||\"lineNumber\"in a||(a.lineNumber=d),void 0===b||\"fileName\"in a||(a.fileName=b),google.ml(a,!1,void 0,!1,\"SyntaxError\"===a.name||\"SyntaxError\"===a.message.substring(0,11)||-1!==a.message.indexOf(\"Script error\")?3:0));r=null;p&&q>=l&&(window.onerror=null)};})();</script></head><body bgcolor=\"#fff\"><script nonce=\"Jo7WFU6XWWwu6NrdwaRyIw\">(function(){var src='/images/nav_logo229.png';var iesg=false;document.body.onload = function(){window.n && window.n();if (document.images){new Image().src=src;}\n",
"if (!iesg){document.f&&document.f.q.focus();document.gbqf&&document.gbqf.q.focus();}\n",
"}\n",
"})();</script><div id=\"mngb\"><div id=gbar><nobr><b class=gb1>B�squeda</b> <a class=gb1 href=\"https://www.google.es/imghp?hl=es&tab=wi\">Im�genes</a> <a class=gb1 href=\"https://maps.google.es/maps?hl=es&tab=wl\">Maps</a> <a class=gb1 href=\"https://play.google.com/?hl=es&tab=w8\">Play</a> <a class=gb1 href=\"https://www.youtube.com/?tab=w1\">YouTube</a> <a class=gb1 href=\"https://news.google.com/?tab=wn\">Noticias</a> <a class=gb1 href=\"https://mail.google.com/mail/?tab=wm\">Gmail</a> <a class=gb1 href=\"https://drive.google.com/?tab=wo\">Drive</a> <a class=gb1 style=\"text-decoration:none\" href=\"https://www.google.es/intl/es/about/products?tab=wh\"><u>M�s</u> &raquo;</a></nobr></div><div id=guser width=100%><nobr><span id=gbn class=gbi></span><span id=gbf class=gbf></span><span id=gbe></span><a href=\"http://www.google.es/history/optout?hl=es\" class=gb4>Historial web</a> | <a  href=\"/preferences?hl=es\" class=gb4>Ajustes</a> | <a target=_top id=gb_70 href=\"https://accounts.google.com/ServiceLogin?hl=es&passive=true&continue=https://www.google.com/&ec=GAZAAQ\" class=gb4>Iniciar sesi�n</a></nobr></div><div class=gbh style=left:0></div><div class=gbh style=right:0></div></div><center><br clear=\"all\" id=\"lgpd\"><div id=\"lga\"><img alt=\"Google\" height=\"92\" src=\"/images/branding/googlelogo/1x/googlelogo_white_background_color_272x92dp.png\" style=\"padding:28px 0 14px\" width=\"272\" id=\"hplogo\"><br><br></div><form action=\"/search\" name=\"f\"><table cellpadding=\"0\" cellspacing=\"0\"><tr valign=\"top\"><td width=\"25%\">&nbsp;</td><td align=\"center\" nowrap=\"\"><input name=\"ie\" value=\"ISO-8859-1\" type=\"hidden\"><input value=\"es\" name=\"hl\" type=\"hidden\"><input name=\"source\" type=\"hidden\" value=\"hp\"><input name=\"biw\" type=\"hidden\"><input name=\"bih\" type=\"hidden\"><div class=\"ds\" style=\"height:32px;margin:4px 0\"><input class=\"lst\" style=\"margin:0;padding:5px 8px 0 6px;vertical-align:top;color:#000\" autocomplete=\"off\" value=\"\" title=\"Buscar con Google\" maxlength=\"2048\" name=\"q\" size=\"57\"></div><br style=\"line-height:0\"><span class=\"ds\"><span class=\"lsbb\"><input class=\"lsb\" value=\"Buscar con Google\" name=\"btnG\" type=\"submit\"></span></span><span class=\"ds\"><span class=\"lsbb\"><input class=\"lsb\" id=\"tsuid_1\" value=\"Voy a tener suerte\" name=\"btnI\" type=\"submit\"><script nonce=\"Jo7WFU6XWWwu6NrdwaRyIw\">(function(){var id='tsuid_1';document.getElementById(id).onclick = function(){if (this.form.q.value){this.checked = 1;if (this.form.iflsig)this.form.iflsig.disabled = false;}\n",
"else top.location='/doodles/';};})();</script><input value=\"AJiK0e8AAAAAY46fV7gpXBHCT6KAebFZAqGv1l-4BtIR\" name=\"iflsig\" type=\"hidden\"></span></span></td><td class=\"fl sblc\" align=\"left\" nowrap=\"\" width=\"25%\"><a href=\"/advanced_search?hl=es&amp;authuser=0\">B�squeda avanzada</a></td></tr></table><input id=\"gbv\" name=\"gbv\" type=\"hidden\" value=\"1\"><script nonce=\"Jo7WFU6XWWwu6NrdwaRyIw\">(function(){var a,b=\"1\";if(document&&document.getElementById)if(\"undefined\"!=typeof XMLHttpRequest)b=\"2\";else if(\"undefined\"!=typeof ActiveXObject){var c,d,e=[\"MSXML2.XMLHTTP.6.0\",\"MSXML2.XMLHTTP.3.0\",\"MSXML2.XMLHTTP\",\"Microsoft.XMLHTTP\"];for(c=0;d=e[c++];)try{new ActiveXObject(d),b=\"2\"}catch(h){}}a=b;if(\"2\"==a&&-1==location.search.indexOf(\"&gbv=2\")){var f=google.gbvu,g=document.getElementById(\"gbv\");g&&(g.value=a);f&&window.setTimeout(function(){location.href=f},0)};}).call(this);</script></form><div id=\"gac_scont\"></div><div style=\"font-size:83%;min-height:3.5em\"><br><div id=\"gws-output-pages-elements-homepage_additional_languages__als\"><style>#gws-output-pages-elements-homepage_additional_languages__als{font-size:small;margin-bottom:24px}#SIvCob{color:#3c4043;display:inline-block;line-height:28px;}#SIvCob a{padding:0 3px;}.H6sW5{display:inline-block;margin:0 2px;white-space:nowrap}.z4hgWe{display:inline-block;margin:0 2px}</style><div id=\"SIvCob\">Ofrecido por Google en:  <a href=\"https://www.google.com/setprefs?sig=0_HljXEzVisqsnlJP1S5dx0Fao0Lw%3D&amp;hl=ca&amp;source=homepage&amp;sa=X&amp;ved=0ahUKEwiimaPC4uP7AhU3UKQEHXzFDBQQ2ZgBCAU\">catal�</a>    <a href=\"https://www.google.com/setprefs?sig=0_HljXEzVisqsnlJP1S5dx0Fao0Lw%3D&amp;hl=gl&amp;source=homepage&amp;sa=X&amp;ved=0ahUKEwiimaPC4uP7AhU3UKQEHXzFDBQQ2ZgBCAY\">galego</a>    <a href=\"https://www.google.com/setprefs?sig=0_HljXEzVisqsnlJP1S5dx0Fao0Lw%3D&amp;hl=eu&amp;source=homepage&amp;sa=X&amp;ved=0ahUKEwiimaPC4uP7AhU3UKQEHXzFDBQQ2ZgBCAc\">euskara</a>  </div></div></div><span id=\"footer\"><div style=\"font-size:10pt\"><div style=\"margin:19px auto;text-align:center\" id=\"WqQANb\"><a href=\"http://www.google.es/intl/es/services/\">Soluciones Empresariales</a><a href=\"/intl/es/about.html\">Todo acerca de Google</a><a href=\"https://www.google.com/setprefdomain?prefdom=ES&amp;prev=https://www.google.es/&amp;sig=K_8O8QHBmoai9DOT5YZxMWevJK8VI%3D\">Google.es</a></div></div><p style=\"font-size:8pt;color:#70757a\">&copy; 2022 - <a href=\"/intl/es/policies/privacy/\">Privacidad</a> - <a href=\"/intl/es/policies/terms/\">T�rminos</a></p></span></center><script nonce=\"Jo7WFU6XWWwu6NrdwaRyIw\">(function(){window.google.cdo={height:757,width:1440};(function(){var a=window.innerWidth,b=window.innerHeight;if(!a||!b){var c=window.document,d=\"CSS1Compat\"==c.compatMode?c.documentElement:c.body;a=d.clientWidth;b=d.clientHeight}a&&b&&(a!=google.cdo.width||b!=google.cdo.height)&&google.log(\"\",\"\",\"/client_204?&atyp=i&biw=\"+a+\"&bih=\"+b+\"&ei=\"+google.kEI);}).call(this);})();</script> <script nonce=\"Jo7WFU6XWWwu6NrdwaRyIw\">(function(){google.xjs={ck:'xjs.hp.oxai9SxkIQY.L.X.O',cs:'ACT90oEGh-_ImDfBjn6aD_ABGaOlD2MqVw',excm:[]};})();</script>  <script nonce=\"Jo7WFU6XWWwu6NrdwaRyIw\">(function(){var u='/xjs/_/js/k\\x3dxjs.hp.en.9b-uVUIpJU8.O/am\\x3dAADoBABQAGAB/d\\x3d1/ed\\x3d1/rs\\x3dACT90oG-6KYVksw4jxVvNcwan406xE6qVw/m\\x3dsb_he,d';var amd=0;\n",
"var d=this||self,e=function(a){return a};var g;var l=function(a,b){this.g=b===h?a:\"\"};l.prototype.toString=function(){return this.g+\"\"};var h={};\n",
"function m(){var a=u;google.lx=function(){p(a);google.lx=function(){}};google.bx||google.lx()}\n",
"function p(a){google.timers&&google.timers.load&&google.tick&&google.tick(\"load\",\"xjsls\");var b=document;var c=\"SCRIPT\";\"application/xhtml+xml\"===b.contentType&&(c=c.toLowerCase());c=b.createElement(c);if(void 0===g){b=null;var k=d.trustedTypes;if(k&&k.createPolicy){try{b=k.createPolicy(\"goog#html\",{createHTML:e,createScript:e,createScriptURL:e})}catch(q){d.console&&d.console.error(q.message)}g=b}else g=b}a=(b=g)?b.createScriptURL(a):a;a=new l(a,h);c.src=a instanceof l&&a.constructor===l?a.g:\"type_error:TrustedResourceUrl\";var f,n;(f=(a=null==(n=(f=(c.ownerDocument&&c.ownerDocument.defaultView||window).document).querySelector)?void 0:n.call(f,\"script[nonce]\"))?a.nonce||a.getAttribute(\"nonce\")||\"\":\"\")&&c.setAttribute(\"nonce\",f);document.body.appendChild(c);google.psa=!0};google.xjsu=u;setTimeout(function(){0<amd?google.caft(function(){return m()},amd):m()},0);})();function _DumpException(e){throw e;}\n",
"function _F_installCss(c){}\n",
"(function(){google.jl={blt:'none',chnk:0,dw:false,dwu:true,emtn:0,end:0,ico:false,ikb:0,ine:false,injs:'none',injt:0,injth:0,injv2:false,lls:'default',pdt:0,rep:0,snet:true,strt:0,ubm:false,uwp:true};})();(function(){var pmc='{\\x22d\\x22:{},\\x22sb_he\\x22:{\\x22agen\\x22:true,\\x22cgen\\x22:true,\\x22client\\x22:\\x22heirloom-hp\\x22,\\x22dh\\x22:true,\\x22ds\\x22:\\x22\\x22,\\x22fl\\x22:true,\\x22host\\x22:\\x22google.com\\x22,\\x22jsonp\\x22:true,\\x22lm\\x22:true,\\x22msgs\\x22:{\\x22cibl\\x22:\\x22Borrar b�squeda\\x22,\\x22dym\\x22:\\x22Quiz�s quisiste decir:\\x22,\\x22lcky\\x22:\\x22Voy a tener suerte\\x22,\\x22lml\\x22:\\x22M�s informaci�n\\x22,\\x22psrc\\x22:\\x22Esta b�squeda se ha eliminado de tu \\\\u003Ca href\\x3d\\\\\\x22/history\\\\\\x22\\\\u003Ehistorial web\\\\u003C/a\\\\u003E.\\x22,\\x22psrl\\x22:\\x22Eliminar\\x22,\\x22sbit\\x22:\\x22Buscar por imagen\\x22,\\x22srch\\x22:\\x22Buscar con Google\\x22},\\x22ovr\\x22:{},\\x22pq\\x22:\\x22\\x22,\\x22rfs\\x22:[],\\x22sbas\\x22:\\x220 3px 8px 0 rgba(0,0,0,0.2),0 0 0 1px rgba(0,0,0,0.08)\\x22,\\x22stok\\x22:\\x22GYSMF2y7hymT0L3W0W4RPVIsSrU\\x22}}';google.pmc=JSON.parse(pmc);})();</script>        </body></html>"
          ]
        }
      ],
      "source": [
      "!cat google.html"
      ]
    },
{
      "cell_type": "markdown",
      "metadata": {},
      "source": [
      "### Faça o download de arquivos com o `wget`"
      ]
    },
{
      "cell_type": "markdown",
      "metadata": {},
      "source": [
      "Outro comando semelhante é o `wget`, porém, ao contrário do `curl`, o wget baixa o arquivo diretamente."
      ]
    },
{
      "cell_type": "code",
      "execution_count": 166,
      "metadata": {},
      "outputs": [
      {
          "name": "stdout",
          "output_type": "stream",
          "text": [
          "--2022-12-06 01:49:19--  https://www.google.com/\n",
"Resolviendo www.google.com (www.google.com)... 142.250.200.68, 2a00:1450:4003:80c::2004\n",
"Conectando con www.google.com (www.google.com)[142.250.200.68]:443... conectado.\n",
"Petición HTTP enviada, esperando respuesta... 200 OK\n",
"Longitud: no especificado [text/html]\n",
"Guardando como: “index.html.1”\n",
"\n",
"index.html.1            [ <=>                ]  14,76K  --.-KB/s    en 0,002s  \n",
"\n",
"2022-12-06 01:49:19 (7,17 MB/s) - “index.html.1” guardado [15117]\n",
"\n"
          ]
        }
      ],
      "source": [
      "!wget https://www.google.com"
      ]
    },
{
      "cell_type": "code",
      "execution_count": 167,
      "metadata": {},
      "outputs": [
      {
          "name": "stdout",
          "output_type": "stream",
          "text": [
          "total 316\n",
"-rw-rw-r-- 1 wallabot wallabot 285898 dic  6 00:28 2021-02-11-Introduccion-a-Python.ipynb\n",
"-rw-rw-r-- 1 wallabot wallabot      0 dic  6 00:56 Abc\n",
"-rw-rw-r-- 1 wallabot wallabot      0 dic  6 00:56 datos1\n",
"-rw-rw-r-- 1 wallabot wallabot      0 dic  6 00:56 datos123\n",
"-rw-rw-r-- 1 wallabot wallabot      0 dic  6 00:56 dot2.txt\n",
"-rw-rw-r-- 1 wallabot wallabot      0 dic  6 00:56 dot.txt\n",
"-rw-rw-r-- 1 wallabot wallabot      0 dic  6 00:56 file.txt\n",
"-rw-rw-r-- 1 wallabot wallabot  15168 dic  6 01:48 google.html\n",
"-rw-rw-r-- 1 wallabot wallabot      0 dic  6 00:56 index.html\n",
"-rw-rw-r-- 1 wallabot wallabot  15117 dic  6 01:49 index.html.1\n",
"-rw-rw-r-- 1 wallabot wallabot    182 dic  6 01:06 lista.txt\n",
"-rw-rw-r-- 1 wallabot wallabot      0 dic  6 01:08 secuential.txt\n"
          ]
        }
      ],
      "source": [
      "!ls -l"
      ]
    },
{
      "cell_type": "markdown",
      "metadata": {},
      "source": [
      "Vemos que ele o salvou como `index.html`, que é como o Google o nomeou."
      ]
    },
{
      "cell_type": "markdown",
      "metadata": {},
      "source": [
      "Se quisermos que ele seja salvo com um nome específico, podemos usar o sinalizador `-O`."
      ]
    },
{
      "cell_type": "code",
      "execution_count": 168,
      "metadata": {},
      "outputs": [
      {
          "name": "stdout",
          "output_type": "stream",
          "text": [
          "--2022-12-06 01:49:37--  https://www.google.com/\n",
"Resolviendo www.google.com (www.google.com)... 142.250.200.68, 2a00:1450:4003:80c::2004\n",
"Conectando con www.google.com (www.google.com)[142.250.200.68]:443... conectado.\n",
"Petición HTTP enviada, esperando respuesta... 200 OK\n",
"Longitud: no especificado [text/html]\n",
"Guardando como: “google2.html”\n",
"\n",
"google2.html            [ <=>                ]  14,78K  --.-KB/s    en 0,003s  \n",
"\n",
"2022-12-06 01:49:37 (5,27 MB/s) - “google2.html” guardado [15131]\n",
"\n"
          ]
        }
      ],
      "source": [
      "!wget https://www.google.com -O google2.html"
      ]
    },
{
      "cell_type": "code",
      "execution_count": 169,
      "metadata": {},
      "outputs": [
      {
          "name": "stdout",
          "output_type": "stream",
          "text": [
          "total 332\n",
"-rw-rw-r-- 1 wallabot wallabot 285898 dic  6 00:28 2021-02-11-Introduccion-a-Python.ipynb\n",
"-rw-rw-r-- 1 wallabot wallabot      0 dic  6 00:56 Abc\n",
"-rw-rw-r-- 1 wallabot wallabot      0 dic  6 00:56 datos1\n",
"-rw-rw-r-- 1 wallabot wallabot      0 dic  6 00:56 datos123\n",
"-rw-rw-r-- 1 wallabot wallabot      0 dic  6 00:56 dot2.txt\n",
"-rw-rw-r-- 1 wallabot wallabot      0 dic  6 00:56 dot.txt\n",
"-rw-rw-r-- 1 wallabot wallabot      0 dic  6 00:56 file.txt\n",
"-rw-rw-r-- 1 wallabot wallabot  15131 dic  6 01:49 google2.html\n",
"-rw-rw-r-- 1 wallabot wallabot  15168 dic  6 01:48 google.html\n",
"-rw-rw-r-- 1 wallabot wallabot      0 dic  6 00:56 index.html\n",
"-rw-rw-r-- 1 wallabot wallabot  15117 dic  6 01:49 index.html.1\n",
"-rw-rw-r-- 1 wallabot wallabot    182 dic  6 01:06 lista.txt\n",
"-rw-rw-r-- 1 wallabot wallabot      0 dic  6 01:08 secuential.txt\n"
          ]
        }
      ],
      "source": [
      "!ls -l"
      ]
    },
{
      "cell_type": "markdown",
      "metadata": {},
      "source": [
      "### Depuração da rota com o `traceroute`."
      ]
    },
{
      "cell_type": "markdown",
      "metadata": {},
      "source": [
      "Um comando muito útil é ver a rota para um destino, para isso usamos o `traceroute`, por exemplo, vamos ver todos os lugares pelos quais tenho que passar para me conectar ao Google."
      ]
    },
{
      "cell_type": "code",
      "execution_count": 170,
      "metadata": {},
      "outputs": [
      {
          "name": "stdout",
          "output_type": "stream",
          "text": [
          "traceroute to www.google.com (142.250.200.68), 64 hops max\n",
"  1   192.168.1.1  0,435ms  0,154ms  0,133ms \n",
"  2   188.127.176.1  3,979ms  2,914ms  3,397ms \n",
"  3   10.15.0.77  3,600ms  3,914ms  2,669ms \n",
"  4   10.15.246.6  3,567ms  3,713ms  2,926ms \n",
"  5   *  *  * \n",
"  6   72.14.209.84  3,981ms  2,914ms  2,993ms \n",
"  7   *  *  * \n",
"  8   142.251.54.148  3,856ms  2,916ms  2,905ms \n",
"  9   142.250.200.68  2,908ms  2,949ms  3,037ms \n"
          ]
        }
      ],
      "source": [
      "!traceroute www.google.com"
      ]
    },
{
      "cell_type": "markdown",
      "metadata": {},
      "source": [
      "### Depuração de rota com `mtr`"
      ]
    },
{
      "cell_type": "markdown",
      "metadata": {},
      "source": [
      "Outra ferramenta de depuração é o `mtr`, que é uma versão aprimorada do `traceroute`. Ele fornece informações sobre cada salto, como tempo de resposta, porcentagem de pacotes descartados etc."
      ]
    },
{
      "cell_type": "code",
      "execution_count": 9,
      "metadata": {},
      "outputs": [
      {
          "name": "stdout",
          "output_type": "stream",
          "text": [
          "wallabot (192.168.178.144)\n",
"Keys:  Help   Display mode   Restart statistics   Order of fields   quit\n",
"                                                                              Packets               Pings\n",
" Host                                                                       Loss%   Snt   Last   Avg  Best  Wrst StDev\n",
" 1. 192.168.178.1                                                            0.0%   345    0.3   0.3   0.3   0.3   0.0\n",
" 2. 192.168.0.1                                                              0.0%   344    0.8   1.1   1.1   1.1   0.0\n",
" 3. (waiting for reply)\n",
" 4. 10.183.52.41                                                             0.0%   344    2.8   2.5   2.5   2.5   0.0\n",
" 5. 172.29.0.161                                                            47.7%   344    2.3   3.1   3.1  23.1   0.0\n",
" 6. (waiting for reply)\n",
" 7. 193.149.1.97                                                             0.0%   344    3.6   3.6   3.6  38.6   0.0\n",
" 8. (waiting for reply)\n",
" 9. 185.125.78.197                                                           2.9%   344    6.9   6.9   6.9   6.9   0.0\n"
          ]
        }
      ],
      "source": [
      "!mtr -n maximofn.com"
      ]
    },
{
      "cell_type": "markdown",
      "metadata": {},
      "source": [
      "Como você pode ver no salto 5, quase 50% dos pacotes são perdidos, então eu poderia ligar para a minha companhia telefônica e pedir que tentassem me encaminhar para outro lugar."
      ]
    },
{
      "cell_type": "markdown",
      "metadata": {},
      "source": [
      "### Nome da nossa máquina com `hostname`."
      ]
    },
{
      "cell_type": "markdown",
      "metadata": {},
      "source": [
      "Se quisermos saber o nome da nossa máquina, podemos usar `hostname`, que é útil se quisermos nos conectar à nossa máquina a partir de outra máquina."
      ]
    },
{
      "cell_type": "code",
      "execution_count": 171,
      "metadata": {},
      "outputs": [
      {
          "name": "stdout",
          "output_type": "stream",
          "text": [
          "wallabot\n"
          ]
        }
      ],
      "source": [
      "!hostname"
      ]
    },
{
      "cell_type": "markdown",
      "metadata": {},
      "source": [
      "### Informações sobre o gateway padrão com `route -n`."
      ]
    },
{
      "cell_type": "markdown",
      "metadata": {},
      "source": [
      "Se quisermos saber qual é o nosso gateway padrão, usamos o comando `route -n`."
      ]
    },
{
      "cell_type": "code",
      "execution_count": 172,
      "metadata": {},
      "outputs": [
      {
          "name": "stdout",
          "output_type": "stream",
          "text": [
          "Tabla de rutas IP del núcleo\n",
"Destino         Pasarela        Genmask         Indic Métric Ref    Uso Interfaz\n",
"0.0.0.0         192.168.1.1     0.0.0.0         UG    100    0        0 enp6s0\n",
"169.254.0.0     0.0.0.0         255.255.0.0     U     1000   0        0 enp6s0\n",
"172.17.0.0      0.0.0.0         255.255.0.0     U     0      0        0 docker0\n",
"172.18.0.0      0.0.0.0         255.255.0.0     U     0      0        0 br-470e52ae2708\n",
"192.168.1.0     0.0.0.0         255.255.255.0   U     100    0        0 enp6s0\n"
          ]
        }
      ],
      "source": [
      "!route -n"
      ]
    },
{
      "cell_type": "markdown",
      "metadata": {},
      "source": [
      "### Informações de IP de um domínio com `nslookup`."
      ]
    },
{
      "cell_type": "markdown",
      "metadata": {},
      "source": [
      "Se quisermos saber o IP de um domínio, podemos descobri-lo usando o comando `nslookup`."
      ]
    },
{
      "cell_type": "code",
      "execution_count": 173,
      "metadata": {},
      "outputs": [
      {
          "name": "stdout",
          "output_type": "stream",
          "text": [
          "Server:\t\t127.0.0.53\n",
"Address:\t127.0.0.53#53\n",
"\n",
"Non-authoritative answer:\n",
"Name:\tgoogle.com\n",
"Address: 142.250.185.14\n",
"Name:\tgoogle.com\n",
"Address: 2a00:1450:4003:808::200e\n",
"\n"
          ]
        }
      ],
      "source": [
      "!nslookup google.com"
      ]
    },
{
      "cell_type": "markdown",
      "metadata": {},
      "source": [
      "Isso nos diz que o IP v4 do Google é 172.217.168.174 e seu IP v6 é 2a00:1450:4003:803::200e."
      ]
    },
{
      "cell_type": "markdown",
      "metadata": {},
      "source": [
      "### Informações da nossa rede com o `netstats`."
      ]
    },
{
      "cell_type": "markdown",
      "metadata": {},
      "source": [
      "O último comando utilitário é o `netstats`, que nos fornece o status da nossa rede e, com o sinalizador `-i`, retorna nossas interfaces de rede."
      ]
    },
{
      "cell_type": "code",
      "execution_count": 174,
      "metadata": {},
      "outputs": [
      {
          "name": "stdout",
          "output_type": "stream",
          "text": [
          "Tabla de la interfaz del núcleo\n",
"Iface      MTU    RX-OK RX-ERR RX-DRP RX-OVR    TX-OK TX-ERR TX-DRP TX-OVR Flg\n",
"br-470e5  1500        0      0      0 0             0      0      0      0 BMU\n",
"docker0   1500        0      0      0 0             0      0      0      0 BMU\n",
"enp6s0    1500   148385      0   2182 0        106135      0      0      0 BMRU\n",
"lo       65536    11674      0      0 0         11674      0      0      0 LRU\n",
"wlp5s0    1500        0      0      0 0             0      0      0      0 BMU\n"
          ]
        }
      ],
      "source": [
      "!netstat -i"
      ]
    },
{
      "cell_type": "markdown",
      "metadata": {},
      "source": [
      "### Consultas de DNS com `dig`"
      ]
    },
{
      "cell_type": "markdown",
      "metadata": {},
      "source": [
      "Com o comando `dig <domain>`, podemos fazer consultas ao DNS, por exemplo, vamos fazer uma consulta ao Google"
      ]
    },
{
      "cell_type": "code",
      "execution_count": 3,
      "metadata": {},
      "outputs": [
      {
          "name": "stdout",
          "output_type": "stream",
          "text": [
          "\n",
"; <<>> DiG 9.16.1-Ubuntu <<>> google.com\n",
";; global options: +cmd\n",
";; Got answer:\n",
";; ->>HEADER<<- opcode: QUERY, status: NOERROR, id: 20527\n",
";; flags: qr rd ra; QUERY: 1, ANSWER: 1, AUTHORITY: 0, ADDITIONAL: 1\n",
"\n",
";; OPT PSEUDOSECTION:\n",
"; EDNS: version: 0, flags:; udp: 65494\n",
";; QUESTION SECTION:\n",
";google.com.\t\t\tIN\tA\n",
"\n",
";; ANSWER SECTION:\n",
"google.com.\t\t283\tIN\tA\t142.250.184.14\n",
"\n",
";; Query time: 8 msec\n",
";; SERVER: 127.0.0.53#53(127.0.0.53)\n",
";; WHEN: dom sep 24 01:32:07 CEST 2023\n",
";; MSG SIZE  rcvd: 55\n",
"\n"
          ]
        }
      ],
      "source": [
      "!dig google.com"
      ]
    },
{
      "cell_type": "markdown",
      "metadata": {},
      "source": [
      "Você pode ver\n",
"\n",
"``` bash\n",
";; SEÇÃO DE RESPOSTAS:\n",
"google.com. 283 IN A 142.250.184.14\n",
"```\n",
"\n",
"Portanto, a consulta nos forneceu o IP do Google"
      ]
    },
{
      "cell_type": "markdown",
      "metadata": {},
      "source": [
      "Podemos consultar um servidor DNS específico com `dig @<Servidor DNS> <domínio>`."
      ]
    },
{
      "cell_type": "code",
      "execution_count": 4,
      "metadata": {},
      "outputs": [
      {
          "name": "stdout",
          "output_type": "stream",
          "text": [
          "\n",
"; <<>> DiG 9.16.1-Ubuntu <<>> @1.1.1.1 google.com\n",
"; (1 server found)\n",
";; global options: +cmd\n",
";; Got answer:\n",
";; ->>HEADER<<- opcode: QUERY, status: NOERROR, id: 15633\n",
";; flags: qr rd ra; QUERY: 1, ANSWER: 1, AUTHORITY: 0, ADDITIONAL: 0\n",
"\n",
";; QUESTION SECTION:\n",
";google.com.\t\t\tIN\tA\n",
"\n",
";; ANSWER SECTION:\n",
"google.com.\t\t190\tIN\tA\t142.250.184.14\n",
"\n",
";; Query time: 8 msec\n",
";; SERVER: 1.1.1.1#53(1.1.1.1)\n",
";; WHEN: dom sep 24 01:33:40 CEST 2023\n",
";; MSG SIZE  rcvd: 44\n",
"\n"
          ]
        }
      ],
      "source": [
      "!dig @1.1.1.1 google.com"
      ]
    },
{
      "cell_type": "markdown",
      "metadata": {},
      "source": [
      "Fizemos a mesma consulta, mas chegamos ao DNS da Cloudflare."
      ]
    },
{
      "cell_type": "markdown",
      "metadata": {},
      "source": [
      "## Compactação de arquivos"
      ]
    },
{
      "cell_type": "markdown",
      "metadata": {},
      "source": [
      "Antes de compactar e descompactar, vamos ver o que vamos compactar. Primeiro, imprimimos nosso caminho e listamos os arquivos"
      ]
    },
{
      "cell_type": "code",
      "execution_count": 175,
      "metadata": {},
      "outputs": [
      {
          "name": "stdout",
          "output_type": "stream",
          "text": [
          "/home/wallabot/Documentos/web/portafolio/posts/prueba\n",
"total 332\n",
"-rw-rw-r-- 1 wallabot wallabot 285898 dic  6 00:28 2021-02-11-Introduccion-a-Python.ipynb\n",
"-rw-rw-r-- 1 wallabot wallabot      0 dic  6 00:56 Abc\n",
"-rw-rw-r-- 1 wallabot wallabot      0 dic  6 00:56 datos1\n",
"-rw-rw-r-- 1 wallabot wallabot      0 dic  6 00:56 datos123\n",
"-rw-rw-r-- 1 wallabot wallabot      0 dic  6 00:56 dot2.txt\n",
"-rw-rw-r-- 1 wallabot wallabot      0 dic  6 00:56 dot.txt\n",
"-rw-rw-r-- 1 wallabot wallabot      0 dic  6 00:56 file.txt\n",
"-rw-rw-r-- 1 wallabot wallabot  15131 dic  6 01:49 google2.html\n",
"-rw-rw-r-- 1 wallabot wallabot  15168 dic  6 01:48 google.html\n",
"-rw-rw-r-- 1 wallabot wallabot      0 dic  6 00:56 index.html\n",
"-rw-rw-r-- 1 wallabot wallabot  15117 dic  6 01:49 index.html.1\n",
"-rw-rw-r-- 1 wallabot wallabot    182 dic  6 01:06 lista.txt\n",
"-rw-rw-r-- 1 wallabot wallabot      0 dic  6 01:08 secuential.txt\n"
          ]
        }
      ],
      "source": [
      "!pwd; ls -l"
      ]
    },
{
      "cell_type": "markdown",
      "metadata": {},
      "source": [
      "Vamos criar uma nova pasta e copiar tudo o que está dentro da pasta atual para ela."
      ]
    },
{
      "cell_type": "code",
      "execution_count": 176,
      "metadata": {},
      "outputs": [
      {
          "name": "stdout",
          "output_type": "stream",
          "text": [
          "cp: -r not specified; omitting directory 'tocompress'\n",
"total 336\n",
"-rw-rw-r-- 1 wallabot wallabot 285898 dic  6 00:28 2021-02-11-Introduccion-a-Python.ipynb\n",
"-rw-rw-r-- 1 wallabot wallabot      0 dic  6 00:56 Abc\n",
"-rw-rw-r-- 1 wallabot wallabot      0 dic  6 00:56 datos1\n",
"-rw-rw-r-- 1 wallabot wallabot      0 dic  6 00:56 datos123\n",
"-rw-rw-r-- 1 wallabot wallabot      0 dic  6 00:56 dot2.txt\n",
"-rw-rw-r-- 1 wallabot wallabot      0 dic  6 00:56 dot.txt\n",
"-rw-rw-r-- 1 wallabot wallabot      0 dic  6 00:56 file.txt\n",
"-rw-rw-r-- 1 wallabot wallabot  15131 dic  6 01:49 google2.html\n",
"-rw-rw-r-- 1 wallabot wallabot  15168 dic  6 01:48 google.html\n",
"-rw-rw-r-- 1 wallabot wallabot      0 dic  6 00:56 index.html\n",
"-rw-rw-r-- 1 wallabot wallabot  15117 dic  6 01:49 index.html.1\n",
"-rw-rw-r-- 1 wallabot wallabot    182 dic  6 01:06 lista.txt\n",
"-rw-rw-r-- 1 wallabot wallabot      0 dic  6 01:08 secuential.txt\n",
"drwxrwxr-x 2 wallabot wallabot   4096 dic  6 01:52 tocompress\n"
          ]
        }
      ],
      "source": [
      "!mkdir tocompress; cp * tocompress; ls -l"
      ]
    },
{
      "cell_type": "markdown",
      "metadata": {},
      "source": [
      "Como podemos ver, tudo foi compactado, exceto a própria pasta `tocompress` porque não definimos o sinalizador `-r` no comando `cp`. Mas o que aconteceu é o que queríamos que acontecesse"
      ]
    },
{
      "cell_type": "markdown",
      "metadata": {},
      "source": [
      "### Comrpimir com `tar`."
      ]
    },
{
      "cell_type": "markdown",
      "metadata": {},
      "source": [
      "O primeiro comando que usaremos para compactar é o `tar`, ao qual adicionaremos o sinalizador `-c` para compress, `-v` para verbose, para que ele nos informe o que está fazendo, e o sinalizador `-f` para file e, em seguida, o nome que queremos que o arquivo compactado tenha e o nome do arquivo que queremos compactar."
      ]
    },
{
      "cell_type": "code",
      "execution_count": 177,
      "metadata": {},
      "outputs": [
      {
          "name": "stdout",
          "output_type": "stream",
          "text": [
          "tocompress/\n",
"tocompress/lista.txt\n",
"tocompress/dot.txt\n",
"tocompress/google.html\n",
"tocompress/index.html\n",
"tocompress/Abc\n",
"tocompress/google2.html\n",
"tocompress/dot2.txt\n",
"tocompress/secuential.txt\n",
"tocompress/index.html.1\n",
"tocompress/file.txt\n",
"tocompress/datos1\n",
"tocompress/2021-02-11-Introduccion-a-Python.ipynb\n",
"tocompress/datos123\n"
          ]
        }
      ],
      "source": [
      "!tar -cvf tocompress.tar tocompress"
      ]
    },
{
      "cell_type": "code",
      "execution_count": 178,
      "metadata": {},
      "outputs": [
      {
          "name": "stdout",
          "output_type": "stream",
          "text": [
          "total 676\n",
"-rw-rw-r-- 1 wallabot wallabot 285898 dic  6 00:28 2021-02-11-Introduccion-a-Python.ipynb\n",
"-rw-rw-r-- 1 wallabot wallabot      0 dic  6 00:56 Abc\n",
"-rw-rw-r-- 1 wallabot wallabot      0 dic  6 00:56 datos1\n",
"-rw-rw-r-- 1 wallabot wallabot      0 dic  6 00:56 datos123\n",
"-rw-rw-r-- 1 wallabot wallabot      0 dic  6 00:56 dot2.txt\n",
"-rw-rw-r-- 1 wallabot wallabot      0 dic  6 00:56 dot.txt\n",
"-rw-rw-r-- 1 wallabot wallabot      0 dic  6 00:56 file.txt\n",
"-rw-rw-r-- 1 wallabot wallabot  15131 dic  6 01:49 google2.html\n",
"-rw-rw-r-- 1 wallabot wallabot  15168 dic  6 01:48 google.html\n",
"-rw-rw-r-- 1 wallabot wallabot      0 dic  6 00:56 index.html\n",
"-rw-rw-r-- 1 wallabot wallabot  15117 dic  6 01:49 index.html.1\n",
"-rw-rw-r-- 1 wallabot wallabot    182 dic  6 01:06 lista.txt\n",
"-rw-rw-r-- 1 wallabot wallabot      0 dic  6 01:08 secuential.txt\n",
"drwxrwxr-x 2 wallabot wallabot   4096 dic  6 01:52 tocompress\n",
"-rw-rw-r-- 1 wallabot wallabot 348160 dic  6 01:53 tocompress.tar\n"
          ]
        }
      ],
      "source": [
      "!ls -l"
      ]
    },
{
      "cell_type": "markdown",
      "metadata": {},
      "source": [
      "Vemos que você criou o arquivo `tocompress.tar`."
      ]
    },
{
      "cell_type": "markdown",
      "metadata": {},
      "source": [
      "Agora vamos repetir o processo, mas adicionando o sinalizador `-z`, isso comprime no formato `gzip`, que é um algoritmo de compactação mais eficiente."
      ]
    },
{
      "cell_type": "code",
      "execution_count": 179,
      "metadata": {},
      "outputs": [
      {
          "name": "stdout",
          "output_type": "stream",
          "text": [
          "tocompress/\n",
"tocompress/lista.txt\n",
"tocompress/dot.txt\n",
"tocompress/google.html\n",
"tocompress/index.html\n",
"tocompress/Abc\n",
"tocompress/google2.html\n",
"tocompress/dot2.txt\n",
"tocompress/secuential.txt\n",
"tocompress/index.html.1\n",
"tocompress/file.txt\n",
"tocompress/datos1\n",
"tocompress/2021-02-11-Introduccion-a-Python.ipynb\n",
"tocompress/datos123\n"
          ]
        }
      ],
      "source": [
      "!tar -cvzf tocompress.tar.gz tocompress"
      ]
    },
{
      "cell_type": "code",
      "execution_count": 180,
      "metadata": {},
      "outputs": [
      {
          "name": "stdout",
          "output_type": "stream",
          "text": [
          "total 728K\n",
"-rw-rw-r-- 1 wallabot wallabot 280K dic  6 00:28 2021-02-11-Introduccion-a-Python.ipynb\n",
"-rw-rw-r-- 1 wallabot wallabot    0 dic  6 00:56 Abc\n",
"-rw-rw-r-- 1 wallabot wallabot    0 dic  6 00:56 datos1\n",
"-rw-rw-r-- 1 wallabot wallabot    0 dic  6 00:56 datos123\n",
"-rw-rw-r-- 1 wallabot wallabot    0 dic  6 00:56 dot2.txt\n",
"-rw-rw-r-- 1 wallabot wallabot    0 dic  6 00:56 dot.txt\n",
"-rw-rw-r-- 1 wallabot wallabot    0 dic  6 00:56 file.txt\n",
"-rw-rw-r-- 1 wallabot wallabot  15K dic  6 01:49 google2.html\n",
"-rw-rw-r-- 1 wallabot wallabot  15K dic  6 01:48 google.html\n",
"-rw-rw-r-- 1 wallabot wallabot    0 dic  6 00:56 index.html\n",
"-rw-rw-r-- 1 wallabot wallabot  15K dic  6 01:49 index.html.1\n",
"-rw-rw-r-- 1 wallabot wallabot  182 dic  6 01:06 lista.txt\n",
"-rw-rw-r-- 1 wallabot wallabot    0 dic  6 01:08 secuential.txt\n",
"drwxrwxr-x 2 wallabot wallabot 4,0K dic  6 01:52 tocompress\n",
"-rw-rw-r-- 1 wallabot wallabot 340K dic  6 01:53 tocompress.tar\n",
"-rw-rw-r-- 1 wallabot wallabot  52K dic  6 01:53 tocompress.tar.gz\n"
          ]
        }
      ],
      "source": [
      "!ls -lh"
      ]
    },
{
      "cell_type": "markdown",
      "metadata": {},
      "source": [
      "Como você pode ver, o arquivo `tocompress.tar` ocupa `340 kB`, enquanto o arquivo `tocompress.tar.gz` ocupa apenas `52 kB`."
      ]
    },
{
      "cell_type": "markdown",
      "metadata": {},
      "source": [
      "Agora, vamos descompactar os arquivos. Para descompactar, usamos o mesmo comando, apenas trocando o sinalizador `-c` pelo sinalizador `-x`."
      ]
    },
{
      "cell_type": "markdown",
      "metadata": {},
      "source": [
      "Primeiro, excluímos a pasta original"
      ]
    },
{
      "cell_type": "code",
      "execution_count": 181,
      "metadata": {},
      "outputs": [],
      "source": [
      "!rm -r tocompress"
      ]
    },
{
      "cell_type": "markdown",
      "metadata": {},
      "source": [
      "Descompactar"
      ]
    },
{
      "cell_type": "code",
      "execution_count": 182,
      "metadata": {},
      "outputs": [
      {
          "name": "stdout",
          "output_type": "stream",
          "text": [
          "tocompress/\n",
"tocompress/lista.txt\n",
"tocompress/dot.txt\n",
"tocompress/google.html\n",
"tocompress/index.html\n",
"tocompress/Abc\n",
"tocompress/google2.html\n",
"tocompress/dot2.txt\n",
"tocompress/secuential.txt\n",
"tocompress/index.html.1\n",
"tocompress/file.txt\n",
"tocompress/datos1\n",
"tocompress/2021-02-11-Introduccion-a-Python.ipynb\n",
"tocompress/datos123\n"
          ]
        }
      ],
      "source": [
      "!tar -xvf tocompress.tar"
      ]
    },
{
      "cell_type": "code",
      "execution_count": 183,
      "metadata": {},
      "outputs": [
      {
          "name": "stdout",
          "output_type": "stream",
          "text": [
          "total 728K\n",
"-rw-rw-r-- 1 wallabot wallabot 280K dic  6 00:28 2021-02-11-Introduccion-a-Python.ipynb\n",
"-rw-rw-r-- 1 wallabot wallabot    0 dic  6 00:56 Abc\n",
"-rw-rw-r-- 1 wallabot wallabot    0 dic  6 00:56 datos1\n",
"-rw-rw-r-- 1 wallabot wallabot    0 dic  6 00:56 datos123\n",
"-rw-rw-r-- 1 wallabot wallabot    0 dic  6 00:56 dot2.txt\n",
"-rw-rw-r-- 1 wallabot wallabot    0 dic  6 00:56 dot.txt\n",
"-rw-rw-r-- 1 wallabot wallabot    0 dic  6 00:56 file.txt\n",
"-rw-rw-r-- 1 wallabot wallabot  15K dic  6 01:49 google2.html\n",
"-rw-rw-r-- 1 wallabot wallabot  15K dic  6 01:48 google.html\n",
"-rw-rw-r-- 1 wallabot wallabot    0 dic  6 00:56 index.html\n",
"-rw-rw-r-- 1 wallabot wallabot  15K dic  6 01:49 index.html.1\n",
"-rw-rw-r-- 1 wallabot wallabot  182 dic  6 01:06 lista.txt\n",
"-rw-rw-r-- 1 wallabot wallabot    0 dic  6 01:08 secuential.txt\n",
"drwxrwxr-x 2 wallabot wallabot 4,0K dic  6 01:52 tocompress\n",
"-rw-rw-r-- 1 wallabot wallabot 340K dic  6 01:53 tocompress.tar\n",
"-rw-rw-r-- 1 wallabot wallabot  52K dic  6 01:53 tocompress.tar.gz\n"
          ]
        }
      ],
      "source": [
      "!ls -lh"
      ]
    },
{
      "cell_type": "markdown",
      "metadata": {},
      "source": [
      "Fazemos o mesmo com o `gzip`."
      ]
    },
{
      "cell_type": "code",
      "execution_count": 184,
      "metadata": {},
      "outputs": [],
      "source": [
      "!rm -r tocompress"
      ]
    },
{
      "cell_type": "code",
      "execution_count": 185,
      "metadata": {},
      "outputs": [
      {
          "name": "stdout",
          "output_type": "stream",
          "text": [
          "tocompress/\n",
"tocompress/lista.txt\n",
"tocompress/dot.txt\n",
"tocompress/google.html\n",
"tocompress/index.html\n",
"tocompress/Abc\n",
"tocompress/google2.html\n",
"tocompress/dot2.txt\n",
"tocompress/secuential.txt\n",
"tocompress/index.html.1\n",
"tocompress/file.txt\n",
"tocompress/datos1\n",
"tocompress/2021-02-11-Introduccion-a-Python.ipynb\n",
"tocompress/datos123\n"
          ]
        }
      ],
      "source": [
      "!tar -xvzf tocompress.tar.gz"
      ]
    },
{
      "cell_type": "code",
      "execution_count": 186,
      "metadata": {},
      "outputs": [
      {
          "name": "stdout",
          "output_type": "stream",
          "text": [
          "total 728K\n",
"-rw-rw-r-- 1 wallabot wallabot 280K dic  6 00:28 2021-02-11-Introduccion-a-Python.ipynb\n",
"-rw-rw-r-- 1 wallabot wallabot    0 dic  6 00:56 Abc\n",
"-rw-rw-r-- 1 wallabot wallabot    0 dic  6 00:56 datos1\n",
"-rw-rw-r-- 1 wallabot wallabot    0 dic  6 00:56 datos123\n",
"-rw-rw-r-- 1 wallabot wallabot    0 dic  6 00:56 dot2.txt\n",
"-rw-rw-r-- 1 wallabot wallabot    0 dic  6 00:56 dot.txt\n",
"-rw-rw-r-- 1 wallabot wallabot    0 dic  6 00:56 file.txt\n",
"-rw-rw-r-- 1 wallabot wallabot  15K dic  6 01:49 google2.html\n",
"-rw-rw-r-- 1 wallabot wallabot  15K dic  6 01:48 google.html\n",
"-rw-rw-r-- 1 wallabot wallabot    0 dic  6 00:56 index.html\n",
"-rw-rw-r-- 1 wallabot wallabot  15K dic  6 01:49 index.html.1\n",
"-rw-rw-r-- 1 wallabot wallabot  182 dic  6 01:06 lista.txt\n",
"-rw-rw-r-- 1 wallabot wallabot    0 dic  6 01:08 secuential.txt\n",
"drwxrwxr-x 2 wallabot wallabot 4,0K dic  6 01:52 tocompress\n",
"-rw-rw-r-- 1 wallabot wallabot 340K dic  6 01:53 tocompress.tar\n",
"-rw-rw-r-- 1 wallabot wallabot  52K dic  6 01:53 tocompress.tar.gz\n"
          ]
        }
      ],
      "source": [
      "!ls -lh"
      ]
    },
{
      "cell_type": "markdown",
      "metadata": {},
      "source": [
      "### Comprimir com `zip`."
      ]
    },
{
      "cell_type": "markdown",
      "metadata": {},
      "source": [
      "Outro comando para compactar é o `zip`, para compactar basta adicionar o sinalizador `-r` (recursivo), o nome que queremos que o arquivo compactado tenha e o arquivo que queremos compactar."
      ]
    },
{
      "cell_type": "code",
      "execution_count": 187,
      "metadata": {},
      "outputs": [
      {
          "name": "stdout",
          "output_type": "stream",
          "text": [
          "  adding: tocompress/ (stored 0%)\n",
"  adding: tocompress/lista.txt (deflated 23%)\n",
"  adding: tocompress/dot.txt (stored 0%)\n",
"  adding: tocompress/google.html (deflated 56%)\n",
"  adding: tocompress/index.html (stored 0%)\n",
"  adding: tocompress/Abc (stored 0%)\n",
"  adding: tocompress/google2.html (deflated 56%)\n",
"  adding: tocompress/dot2.txt (stored 0%)\n",
"  adding: tocompress/secuential.txt (stored 0%)\n",
"  adding: tocompress/index.html.1 (deflated 56%)\n",
"  adding: tocompress/file.txt (stored 0%)\n",
"  adding: tocompress/datos1 (stored 0%)\n",
"  adding: tocompress/2021-02-11-Introduccion-a-Python.ipynb (deflated 85%)\n",
"  adding: tocompress/datos123 (stored 0%)\n"
          ]
        }
      ],
      "source": [
      "!zip -r tocompress.zip tocompress"
      ]
    },
{
      "cell_type": "code",
      "execution_count": 188,
      "metadata": {},
      "outputs": [
      {
          "name": "stdout",
          "output_type": "stream",
          "text": [
          "total 792K\n",
"-rw-rw-r-- 1 wallabot wallabot 280K dic  6 00:28 2021-02-11-Introduccion-a-Python.ipynb\n",
"-rw-rw-r-- 1 wallabot wallabot    0 dic  6 00:56 Abc\n",
"-rw-rw-r-- 1 wallabot wallabot    0 dic  6 00:56 datos1\n",
"-rw-rw-r-- 1 wallabot wallabot    0 dic  6 00:56 datos123\n",
"-rw-rw-r-- 1 wallabot wallabot    0 dic  6 00:56 dot2.txt\n",
"-rw-rw-r-- 1 wallabot wallabot    0 dic  6 00:56 dot.txt\n",
"-rw-rw-r-- 1 wallabot wallabot    0 dic  6 00:56 file.txt\n",
"-rw-rw-r-- 1 wallabot wallabot  15K dic  6 01:49 google2.html\n",
"-rw-rw-r-- 1 wallabot wallabot  15K dic  6 01:48 google.html\n",
"-rw-rw-r-- 1 wallabot wallabot    0 dic  6 00:56 index.html\n",
"-rw-rw-r-- 1 wallabot wallabot  15K dic  6 01:49 index.html.1\n",
"-rw-rw-r-- 1 wallabot wallabot  182 dic  6 01:06 lista.txt\n",
"-rw-rw-r-- 1 wallabot wallabot    0 dic  6 01:08 secuential.txt\n",
"drwxrwxr-x 2 wallabot wallabot 4,0K dic  6 01:52 tocompress\n",
"-rw-rw-r-- 1 wallabot wallabot 340K dic  6 01:53 tocompress.tar\n",
"-rw-rw-r-- 1 wallabot wallabot  52K dic  6 01:53 tocompress.tar.gz\n",
"-rw-rw-r-- 1 wallabot wallabot  64K dic  6 01:53 tocompress.zip\n"
          ]
        }
      ],
      "source": [
      "!ls -lh"
      ]
    },
{
      "cell_type": "markdown",
      "metadata": {},
      "source": [
      "Para descompactar, usamos o comando `unzip` seguido do nome do arquivo que queremos descompactar. Primeiro, excluímos a pasta `tocompress`."
      ]
    },
{
      "cell_type": "code",
      "execution_count": 189,
      "metadata": {},
      "outputs": [],
      "source": [
      "!rm -r tocompress"
      ]
    },
{
      "cell_type": "code",
      "execution_count": 190,
      "metadata": {},
      "outputs": [
      {
          "name": "stdout",
          "output_type": "stream",
          "text": [
          "Archive:  tocompress.zip\n",
"   creating: tocompress/\n",
"  inflating: tocompress/lista.txt    \n",
" extracting: tocompress/dot.txt      \n",
"  inflating: tocompress/google.html  \n",
" extracting: tocompress/index.html   \n",
" extracting: tocompress/Abc          \n",
"  inflating: tocompress/google2.html  \n",
" extracting: tocompress/dot2.txt     \n",
" extracting: tocompress/secuential.txt  \n",
"  inflating: tocompress/index.html.1  \n",
" extracting: tocompress/file.txt     \n",
" extracting: tocompress/datos1       \n",
"  inflating: tocompress/2021-02-11-Introduccion-a-Python.ipynb  \n",
" extracting: tocompress/datos123     \n"
          ]
        }
      ],
      "source": [
      "!unzip tocompress.zip"
      ]
    },
{
      "cell_type": "code",
      "execution_count": 191,
      "metadata": {},
      "outputs": [
      {
          "name": "stdout",
          "output_type": "stream",
          "text": [
          "total 792K\n",
"-rw-rw-r-- 1 wallabot wallabot 280K dic  6 00:28 2021-02-11-Introduccion-a-Python.ipynb\n",
"-rw-rw-r-- 1 wallabot wallabot    0 dic  6 00:56 Abc\n",
"-rw-rw-r-- 1 wallabot wallabot    0 dic  6 00:56 datos1\n",
"-rw-rw-r-- 1 wallabot wallabot    0 dic  6 00:56 datos123\n",
"-rw-rw-r-- 1 wallabot wallabot    0 dic  6 00:56 dot2.txt\n",
"-rw-rw-r-- 1 wallabot wallabot    0 dic  6 00:56 dot.txt\n",
"-rw-rw-r-- 1 wallabot wallabot    0 dic  6 00:56 file.txt\n",
"-rw-rw-r-- 1 wallabot wallabot  15K dic  6 01:49 google2.html\n",
"-rw-rw-r-- 1 wallabot wallabot  15K dic  6 01:48 google.html\n",
"-rw-rw-r-- 1 wallabot wallabot    0 dic  6 00:56 index.html\n",
"-rw-rw-r-- 1 wallabot wallabot  15K dic  6 01:49 index.html.1\n",
"-rw-rw-r-- 1 wallabot wallabot  182 dic  6 01:06 lista.txt\n",
"-rw-rw-r-- 1 wallabot wallabot    0 dic  6 01:08 secuential.txt\n",
"drwxrwxr-x 2 wallabot wallabot 4,0K dic  6 01:52 tocompress\n",
"-rw-rw-r-- 1 wallabot wallabot 340K dic  6 01:53 tocompress.tar\n",
"-rw-rw-r-- 1 wallabot wallabot  52K dic  6 01:53 tocompress.tar.gz\n",
"-rw-rw-r-- 1 wallabot wallabot  64K dic  6 01:53 tocompress.zip\n"
          ]
        }
      ],
      "source": [
      "!ls -lh"
      ]
    },
{
      "cell_type": "markdown",
      "metadata": {},
      "source": [
      "## Processos em segundo plano e em primeiro plano"
      ]
    },
{
      "cell_type": "markdown",
      "metadata": {},
      "source": [
      "### Pause um processo e coloque-o em segundo plano com `CTRL+z`."
      ]
    },
{
      "cell_type": "markdown",
      "metadata": {},
      "source": [
      "Quando executamos um processo no terminal, ele pode não parar de ser executado e queremos continuar usando o terminal. Para resolver isso, podemos mover o processo para segundo plano pressionando `CTRL+z`."
      ]
    },
{
      "cell_type": "markdown",
      "metadata": {},
      "source": [
      "Por exemplo, posso fazer um ping em mim mesmo, sem especificar o número de tentativas, de modo que isso será executado até que eu interrompa o processo pressionando `CTRL+C`."
      ]
    },
{
      "cell_type": "code",
      "execution_count": 191,
      "metadata": {},
      "outputs": [
      {
          "name": "stdout",
          "output_type": "stream",
          "text": [
          "PING localhost (127.0.0.1) 56(84) bytes of data.\n",
"64 bytes from localhost (127.0.0.1): icmp_seq=1 ttl=64 time=0.025 ms\n",
"64 bytes from localhost (127.0.0.1): icmp_seq=2 ttl=64 time=0.027 ms\n",
"64 bytes from localhost (127.0.0.1): icmp_seq=3 ttl=64 time=0.024 ms\n",
"64 bytes from localhost (127.0.0.1): icmp_seq=4 ttl=64 time=0.024 ms\n",
"64 bytes from localhost (127.0.0.1): icmp_seq=5 ttl=64 time=0.027 ms\n",
"64 bytes from localhost (127.0.0.1): icmp_seq=6 ttl=64 time=0.036 ms\n",
"^C\n",
"--- localhost ping statistics ---\n",
"6 packets transmitted, 6 received, 0% packet loss, time 5127ms\n",
"rtt min/avg/max/mdev = 0.024/0.027/0.036/0.004 ms\n"
          ]
        }
      ],
      "source": [
      "!ping localhost"
      ]
    },
{
      "cell_type": "markdown",
      "metadata": {},
      "source": [
      "No entanto, se você quiser interromper o processo por um momento para continuar usando o terminal, digite `CTRL+Z`."
      ]
    },
{
      "cell_type": "code",
      "execution_count": 191,
      "metadata": {},
      "outputs": [
      {
          "name": "stdout",
          "output_type": "stream",
          "text": [
          "PING localhost (127.0.0.1) 56(84) bytes of data.\n",
"64 bytes from localhost (127.0.0.1): icmp_seq=1 ttl=64 time=0.028 ms\n",
"64 bytes from localhost (127.0.0.1): icmp_seq=2 ttl=64 time=0.020 ms\n",
"64 bytes from localhost (127.0.0.1): icmp_seq=3 ttl=64 time=0.017 ms\n",
"64 bytes from localhost (127.0.0.1): icmp_seq=4 ttl=64 time=0.025 ms\n",
"64 bytes from localhost (127.0.0.1): icmp_seq=5 ttl=64 time=0.021 ms\n",
"64 bytes from localhost (127.0.0.1): icmp_seq=6 ttl=64 time=0.055 ms\n",
"^Z\n",
"[1]+  Detenido                ping localhost\n"
          ]
        }
      ],
      "source": [
      "!ping localhost"
      ]
    },
{
      "cell_type": "markdown",
      "metadata": {},
      "source": [
      "Conforme indicado, o processo foi interrompido, não está em execução enquanto eu o coloco em segundo plano."
      ]
    },
{
      "cell_type": "markdown",
      "metadata": {},
      "source": [
      "### Veja os processos em segundo plano com `jobs`."
      ]
    },
{
      "cell_type": "markdown",
      "metadata": {},
      "source": [
      "Para ver quais processos estão em segundo plano, temos dois comandos: por um lado, podemos usar `jobs`."
      ]
    },
{
      "cell_type": "code",
      "execution_count": 191,
      "metadata": {},
      "outputs": [
      {
          "name": "stdout",
          "output_type": "stream",
          "text": [
          "jobs\n",
"[1]+  Detenido                ping localhost\n"
          ]
        }
      ],
      "source": [
      "!jobs"
      ]
    },
{
      "cell_type": "markdown",
      "metadata": {},
      "source": [
      "Esse comando nos fornece o número do processo e do trabalho; esse número será o que usaremos para colocar o processo em primeiro plano."
      ]
    },
{
      "cell_type": "markdown",
      "metadata": {},
      "source": [
      "### Visualizar processos em segundo plano com `ps`."
      ]
    },
{
      "cell_type": "markdown",
      "metadata": {},
      "source": [
      "Outro comando que podemos usar é o `ps` (processes)."
      ]
    },
{
      "cell_type": "code",
      "execution_count": 191,
      "metadata": {},
      "outputs": [
      {
          "name": "stdout",
          "output_type": "stream",
          "text": [
          "    PID TTY          TIME CMD\n",
"  16232 pts/3    00:00:00 bash\n",
"  17070 pts/3    00:00:00 ping\n",
"  18376 pts/3    00:00:00 ps\n"
          ]
        }
      ],
      "source": [
      "!ps"
      ]
    },
{
      "cell_type": "markdown",
      "metadata": {},
      "source": [
      "Esse comando não apenas fornece informações sobre os processos em execução em segundo plano, mas também sobre todos os processos em execução no terminal."
      ]
    },
{
      "cell_type": "markdown",
      "metadata": {},
      "source": [
      "É importante observar que, se abrirmos um novo terminal e usarmos qualquer um desses comandos, ele não nos fornecerá as informações de ping, pois as executamos em outro terminal."
      ]
    },
{
      "cell_type": "code",
      "execution_count": 191,
      "metadata": {},
      "outputs": [
      {
          "name": "stdout",
          "output_type": "stream",
          "text": [
          "    PID TTY          TIME CMD\n",
"  18993 pts/2    00:00:00 bash\n",
"  19290 pts/2    00:00:00 ps\n"
          ]
        }
      ],
      "source": [
      "!ps"
      ]
    },
{
      "cell_type": "markdown",
      "metadata": {},
      "source": [
      "Como podemos ver, `jobs` não retorna nada porque nesse terminal não há nenhum processo em segundo plano e `ps` retorna apenas as informações do bash (o próprio terminal) e o comando ps iniciado."
      ]
    },
{
      "cell_type": "markdown",
      "metadata": {},
      "source": [
      "### Levar um processo do plano de fundo para o primeiro plano"
      ]
    },
{
      "cell_type": "markdown",
      "metadata": {},
      "source": [
      "Para trazer um processo para o primeiro plano, você deve usar o comando `fg`; se quiser trazer o último processo que foi trazido para o segundo plano, basta colocar `fg`; caso contrário, você deve indicar o número do trabalho."
      ]
    },
{
      "cell_type": "markdown",
      "metadata": {},
      "source": [
      "Vamos dar outra olhada nos processos que tínhamos em segundo plano."
      ]
    },
{
      "cell_type": "code",
      "execution_count": 191,
      "metadata": {},
      "outputs": [
      {
          "name": "stdout",
          "output_type": "stream",
          "text": [
          "[1]+  Detenido                ping localhost\n"
          ]
        }
      ],
      "source": [
      "!jobs"
      ]
    },
{
      "cell_type": "markdown",
      "metadata": {},
      "source": [
      "Podemos colocar esse processo em primeiro plano apenas digitando `fg` ou especificando o número do trabalho com `fg %1`."
      ]
    },
{
      "cell_type": "code",
      "execution_count": 191,
      "metadata": {},
      "outputs": [
      {
          "name": "stdout",
          "output_type": "stream",
          "text": [
          "ping localhost\n",
"64 bytes from localhost (127.0.0.1): icmp_seq=7 ttl=64 time=0.032 ms\n",
"64 bytes from localhost (127.0.0.1): icmp_seq=8 ttl=64 time=0.036 ms\n",
"64 bytes from localhost (127.0.0.1): icmp_seq=9 ttl=64 time=0.045 ms\n",
"64 bytes from localhost (127.0.0.1): icmp_seq=10 ttl=64 time=0.035 ms\n",
"64 bytes from localhost (127.0.0.1): icmp_seq=11 ttl=64 time=0.031 ms\n"
          ]
        }
      ],
      "source": [
      "!fg %1"
      ]
    },
{
      "cell_type": "markdown",
      "metadata": {},
      "source": [
      "### Executando um processo diretamente em segundo plano"
      ]
    },
{
      "cell_type": "markdown",
      "metadata": {},
      "source": [
      "Agora, reiniciaremos o navegador firefox digitando `firefox` no terminal e pressionando `CTRL+Z` para colocá-lo em segundo plano."
      ]
    },
{
      "cell_type": "code",
      "execution_count": 191,
      "metadata": {},
      "outputs": [
      {
          "name": "stdout",
          "output_type": "stream",
          "text": [
          "[GFX1-]: glxtest: VA-API test failed: failed to initialise VAAPI connection.\n",
"[2022-11-29T06:16:17Z ERROR glean_core::metrics::ping] Invalid reason code startup for ping background-update\n",
"^Z\n",
"[1]+  Detenido                firefox\n"
          ]
        }
      ],
      "source": [
      "!firefox"
      ]
    },
{
      "cell_type": "markdown",
      "metadata": {},
      "source": [
      "Como podemos ver, ele diz que o processo foi interrompido, portanto, se quisermos navegar no Firefox, não poderemos, pois ele foi interrompido."
      ]
    },
{
      "cell_type": "markdown",
      "metadata": {},
      "source": [
      "Para poder iniciar o Firefox e colocá-lo em segundo plano, de modo que ele não bloqueie o terminal, é necessário escrever um `&` no final do comando"
      ]
    },
{
      "cell_type": "code",
      "execution_count": 191,
      "metadata": {},
      "outputs": [
      {
          "name": "stdout",
          "output_type": "stream",
          "text": [
          "[1] 23663\n",
"$ [GFX1-]: glxtest: VA-API test failed: failed to initialise VAAPI connection.\n",
"[2022-11-29T06:19:40Z ERROR glean_core::metrics::ping] Invalid reason code startup for ping background-update\n",
"\n",
"$\n"
          ]
        }
      ],
      "source": [
      "!firefox &"
      ]
    },
{
      "cell_type": "markdown",
      "metadata": {},
      "source": [
      "Agora iniciamos o Firefox, ele nos informa o número do trabalho e permanece em execução em segundo plano."
      ]
    },
{
      "cell_type": "markdown",
      "metadata": {},
      "source": [
      "De fato, se olharmos agora para os processos, veremos que o status do firefox é *Executando*."
      ]
    },
{
      "cell_type": "code",
      "execution_count": 191,
      "metadata": {},
      "outputs": [
      {
          "name": "stdout",
          "output_type": "stream",
          "text": [
          "[1]+  Ejecutando              firefox &\n"
          ]
        }
      ],
      "source": [
      "!jobs"
      ]
    },
{
      "cell_type": "markdown",
      "metadata": {},
      "source": [
      "### Encerrar um processo que está em segundo plano"
      ]
    },
{
      "cell_type": "markdown",
      "metadata": {},
      "source": [
      "Como o firefox está sendo executado em segundo plano, se quisermos que ele seja encerrado, devemos usar `kill` e o número do trabalho do processo. Vamos usar `jobs` para ver o número do trabalho do firefox."
      ]
    },
{
      "cell_type": "code",
      "execution_count": 191,
      "metadata": {},
      "outputs": [
      {
          "name": "stdout",
          "output_type": "stream",
          "text": [
          "[1]+  Ejecutando              firefox &\n"
          ]
        }
      ],
      "source": [
      "!jobs"
      ]
    },
{
      "cell_type": "markdown",
      "metadata": {},
      "source": [
      "Seu número de trabalho é 1, portanto, definimos esse número para encerrar o processo."
      ]
    },
{
      "cell_type": "code",
      "execution_count": 191,
      "metadata": {},
      "outputs": [
      {
          "name": "stdout",
          "output_type": "stream",
          "text": [
          "\n"
          ]
        }
      ],
      "source": [
      "!kill %1"
      ]
    },
{
      "cell_type": "markdown",
      "metadata": {},
      "source": [
      "Isso não responde a nada, mas se voltarmos a usar `jobs` para ver os processos em segundo plano"
      ]
    },
{
      "cell_type": "code",
      "execution_count": 191,
      "metadata": {},
      "outputs": [
      {
          "name": "stdout",
          "output_type": "stream",
          "text": [
          "[1]+  Terminado               firefox\n"
          ]
        }
      ],
      "source": [
      "!jobs"
      ]
    },
{
      "cell_type": "markdown",
      "metadata": {},
      "source": [
      "Vemos que ele nos diz que o firefox terminou, mas se executarmos `jobs` novamente, nada aparecerá."
      ]
    },
{
      "cell_type": "code",
      "execution_count": 191,
      "metadata": {},
      "outputs": [
      {
          "name": "stdout",
          "output_type": "stream",
          "text": [
          "\n"
          ]
        }
      ],
      "source": [
      "!jobs"
      ]
    },
{
      "cell_type": "markdown",
      "metadata": {},
      "source": [
      "## Processamento em segundo plano independente do terminal"
      ]
    },
{
      "cell_type": "markdown",
      "metadata": {},
      "source": [
      "Até agora, vimos como executar processos em segundo plano dependentes do terminal, ou seja, se enviarmos um processo para o segundo plano e fecharmos o terminal, ele enviará uma mensagem de fim para todos os processos em seu segundo plano e eles serão encerrados."
      ]
    },
{
      "cell_type": "markdown",
      "metadata": {},
      "source": [
      "Mas há ocasiões em que queremos que o processo permaneça em segundo plano, para podermos fechar o terminal, abrir outro e recuperar o processo, e para isso usaremos o `tmux`, que é um multiplexador de terminal.\n",
"\n",
"É possível que você já o tenha instalado, portanto, para instalá-lo, é necessário inserir o seguinte\n",
"\n",
"``` bash\n",
"sudo apt install tmux\n",
"```"
      ]
    },
{
      "cell_type": "markdown",
      "metadata": {},
      "source": [
      "Depois de instalado, podemos criar uma nova sessão do `tmux` usando `tmux new -s <nome>`.\n",
"\n",
"``` bash\n",
"tmux new -s session1\n",
"```\n",
"\n",
"Isso abrirá um novo terminal, que na verdade é uma sessão do `tmux`."
      ]
    },
{
      "cell_type": "markdown",
      "metadata": {},
      "source": [
      "Dentro dele, podemos iniciar um processo, por exemplo, um `ping` em nós mesmos."
      ]
    },
{
      "cell_type": "code",
      "execution_count": 191,
      "metadata": {},
      "outputs": [
      {
          "name": "stdout",
          "output_type": "stream",
          "text": [
          "PING localhost (127.0.0.1) 56(84) bytes of data.\n",
"64 bytes from localhost (127.0.0.1): icmp_seq=1 ttl=64 time=0.036 ms\n",
"64 bytes from localhost (127.0.0.1): icmp_seq=2 ttl=64 time=0.019 ms\n",
"64 bytes from localhost (127.0.0.1): icmp_seq=3 ttl=64 time=0.031 ms\n"
          ]
        }
      ],
      "source": [
      "!ping localhost"
      ]
    },
{
      "cell_type": "markdown",
      "metadata": {},
      "source": [
      "Podemos fechar esse terminal"
      ]
    },
{
      "cell_type": "markdown",
      "metadata": {},
      "source": [
      "Se abrirmos um novo, poderemos ver todas as sessões `tmux` abertas com o comando `tmux ls`."
      ]
    },
{
      "cell_type": "code",
      "execution_count": 6,
      "metadata": {},
      "outputs": [
      {
          "name": "stdout",
          "output_type": "stream",
          "text": [
          "session1: 1 windows (created Tue Nov 29 08:15:22 2022)\n"
          ]
        }
      ],
      "source": [
      "!tmux ls"
      ]
    },
{
      "cell_type": "markdown",
      "metadata": {},
      "source": [
      "E podemos entrar em uma sessão usando o comando `tmux`, seguido de `a` (attach), `-t` (tag) e o nome da sessão"
      ]
    },
{
      "cell_type": "code",
      "execution_count": 191,
      "metadata": {},
      "outputs": [
      {
          "name": "stdout",
          "output_type": "stream",
          "text": [
          "64 bytes from localhost (127.0.0.1): icmp_seq=146 ttl=64 time=0.025 ms\n",
"64 bytes from localhost (127.0.0.1): icmp_seq=147 ttl=64 time=0.022 ms\n",
"64 bytes from localhost (127.0.0.1): icmp_seq=148 ttl=64 time=0.026 ms\n",
"64 bytes from localhost (127.0.0.1): icmp_seq=149 ttl=64 time=0.013 ms\n",
"64 bytes from localhost (127.0.0.1): icmp_seq=150 ttl=64 time=0.027 ms\n",
"64 bytes from localhost (127.0.0.1): icmp_seq=151 ttl=64 time=0.019 ms\n"
          ]
        }
      ],
      "source": [
      "!tmux a -t session1"
      ]
    },
{
      "cell_type": "markdown",
      "metadata": {},
      "source": [
      "Como podemos ver, recuperamos o `ping` de antigamente."
      ]
    },
{
      "cell_type": "markdown",
      "metadata": {},
      "source": [
      "Quando estamos em uma sessão, podemos sair (matar) a sessão digitando `CTRL+D` ou digitando `exit`."
      ]
    },
{
      "cell_type": "markdown",
      "metadata": {},
      "source": [
      "## Gerenciamento de processos"
      ]
    },
{
      "cell_type": "markdown",
      "metadata": {},
      "source": [
      "Para gerenciar os processos em nosso sistema, temos várias opções"
      ]
    },
{
      "cell_type": "markdown",
      "metadata": {},
      "source": [
      "### `ps` manipulador de processos"
      ]
    },
{
      "cell_type": "markdown",
      "metadata": {},
      "source": [
      "Como vimos anteriormente, o `ps` nos fornece os processos que estão sendo executados em nosso terminal. Por exemplo, executamos um processo em segundo plano e vemos os processos com `ps`."
      ]
    },
{
      "cell_type": "code",
      "execution_count": 191,
      "metadata": {},
      "outputs": [
      {
          "name": "stdout",
          "output_type": "stream",
          "text": [
          "[1] 50555\n"
          ]
        }
      ],
      "source": [
      "!firefox &"
      ]
    },
{
      "cell_type": "markdown",
      "metadata": {},
      "source": [
      "Agora vamos examinar os processos"
      ]
    },
{
      "cell_type": "code",
      "execution_count": 191,
      "metadata": {},
      "outputs": [
      {
          "name": "stdout",
          "output_type": "stream",
          "text": [
          "    PID TTY          TIME CMD\n",
"  36660 pts/3    00:00:00 bash\n",
"  50555 pts/3    00:00:02 firefox\n",
"  50613 pts/3    00:00:00 Socket Process\n",
"  50635 pts/3    00:00:00 Privileged Cont\n",
"  50683 pts/3    00:00:00 WebExtensions\n",
"  50741 pts/3    00:00:00 Web Content\n",
"  50743 pts/3    00:00:00 Web Content\n",
"  50748 pts/3    00:00:00 Web Content\n",
"  50840 pts/3    00:00:00 ps\n"
          ]
        }
      ],
      "source": [
      "!ps"
      ]
    },
{
      "cell_type": "markdown",
      "metadata": {},
      "source": [
      "Quando soubermos seu PID, poderemos encerrar o processo."
      ]
    },
{
      "cell_type": "code",
      "execution_count": 191,
      "metadata": {},
      "outputs": [
      {
          "name": "stdout",
          "output_type": "stream",
          "text": [
          "\n"
          ]
        }
      ],
      "source": [
      "!kill 50555"
      ]
    },
{
      "cell_type": "markdown",
      "metadata": {},
      "source": [
      "Agora vamos examinar os processos"
      ]
    },
{
      "cell_type": "code",
      "execution_count": 191,
      "metadata": {},
      "outputs": [
      {
          "name": "stdout",
          "output_type": "stream",
          "text": [
          "    PID TTY          TIME CMD\n",
"  36660 pts/3    00:00:00 bash\n",
"  51132 pts/3    00:00:00 ps\n"
          ]
        }
      ],
      "source": [
      "!ps"
      ]
    },
{
      "cell_type": "markdown",
      "metadata": {},
      "source": [
      "Mas, como já dissemos, o lado ruim do ps é que ele mostra apenas os processos do seu terminal."
      ]
    },
{
      "cell_type": "markdown",
      "metadata": {},
      "source": [
      "Para mostrar todos os processos do sistema, é necessário adicionar `aux`."
      ]
    },
{
      "cell_type": "code",
      "execution_count": 3,
      "metadata": {},
      "outputs": [
      {
          "name": "stdout",
          "output_type": "stream",
          "text": [
          "USER         PID %CPU %MEM    VSZ   RSS TTY      STAT START   TIME COMMAND\n",
"root           1  0.2  0.0 169936 13172 ?        Ss   23:06   0:01 /sbin/init splash\n",
"root           2  0.0  0.0      0     0 ?        S    23:06   0:00 [kthreadd]\n",
"root           3  0.0  0.0      0     0 ?        I<   23:06   0:00 [rcu_gp]\n",
"root           4  0.0  0.0      0     0 ?        I<   23:06   0:00 [rcu_par_gp]\n",
"root           5  0.0  0.0      0     0 ?        I<   23:06   0:00 [netns]\n",
"root           7  0.0  0.0      0     0 ?        I<   23:06   0:00 [kworker/0:0H-events_highpri]\n",
"root           9  0.0  0.0      0     0 ?        I<   23:06   0:00 [kworker/0:1H-events_highpri]\n",
"root          10  0.0  0.0      0     0 ?        I<   23:06   0:00 [mm_percpu_wq]\n",
"root          11  0.0  0.0      0     0 ?        S    23:06   0:00 [rcu_tasks_rude_]\n",
"\t ...\n",
"wallabot   11094  0.0  0.2 1184730916 65900 ?    Sl   23:19   0:00 /opt/google/chrome/chrome --type=renderer --crashpad-handler-pid=5080 --enable-crash-reporter=, --change-stack-guard-on-fork=enable --lang=es --num-raster-threads=4 --enable-main-frame-before-activation --renderer-client-id=76 --time-ticks-at-unix-epoch=-1670018798736448 --launch-time-ticks=781545948 --shared-files=v8_context_snapshot_data:100 --field-trial-handle=0,i,18391862866948577032,30807856093711604,131072\n",
"wallabot   11428  0.3  0.2 38136100 75812 ?      Sl   23:21   0:00 /usr/share/code/code --ms-enable-electron-run-as-node /usr/share/code/resources/app/extensions/markdown-language-features/server/dist/node/main --node-ipc --clientProcessId=8508\n",
"root       11508  0.0  0.0      0     0 ?        I    23:21   0:00 [kworker/4:1-events]\n",
"wallabot   11683  0.0  0.0  14192  3380 ?        R    23:22   0:00 ps aux\n",
"\n"
          ]
        }
      ],
      "source": [
      "terminal(\"ps aux\", max_lines_output=10)"
      ]
    },
{
      "cell_type": "markdown",
      "metadata": {},
      "source": [
      "Agora, se eu quiser pesquisar apenas os processos que meu usuário está executando, posso fazer isso criando um `pipe` e pesquisando com o `grep`."
      ]
    },
{
      "cell_type": "code",
      "execution_count": 7,
      "metadata": {},
      "outputs": [
      {
          "name": "stdout",
          "output_type": "stream",
          "text": [
          "avahi        802  0.0  0.0   8536  3912 ?        Ss   23:06   0:00 avahi-daemon: running [wallabot.local]\n",
"wallabot    1153  0.0  0.0  19856 10624 ?        Ss   23:06   0:00 /lib/systemd/systemd --user\n",
"wallabot    1154  0.0  0.0 170004  3680 ?        S    23:06   0:00 (sd-pam)\n",
"wallabot    1159  0.1  0.0 2569384 22808 ?       S<sl 23:06   0:01 /usr/bin/pulseaudio --daemonize=no --log-target=journal\n",
"wallabot    1161  0.1  0.1 591424 37248 ?        SNsl 23:06   0:02 /usr/libexec/tracker-miner-fs\n",
"wallabot    1164  0.0  0.0 390744  8664 ?        SLl  23:06   0:00 /usr/bin/gnome-keyring-daemon --daemonize --login\n",
"wallabot    1168  0.0  0.0 166804  6616 tty2     Ssl+ 23:06   0:00 /usr/lib/gdm3/gdm-x-session --run-script env GNOME_SHELL_SESSION_MODE=ubuntu /usr/bin/gnome-session --systemd --session=ubuntu\n",
"wallabot    1173  0.0  0.0   8904  6012 ?        Ss   23:06   0:00 /usr/bin/dbus-daemon --session --address=systemd: --nofork --nopidfile --systemd-activation --syslog-only\n",
"wallabot    1181  0.0  0.0 242628  7884 ?        Ssl  23:06   0:00 /usr/libexec/gvfsd\n",
"wallabot    1196  0.0  0.0 378348  5544 ?        Sl   23:06   0:00 /usr/libexec/gvfsd-fuse /run/user/1000/gvfs -f -o big_writes\n",
"wallabot    1203  0.0  0.0 316896  9540 ?        Ssl  23:06   0:00 /usr/libexec/gvfs-udisks2-volume-monitor\n",
"wallabot    1209  0.0  0.0 319540  8920 ?        Ssl  23:06   0:00 /usr/libexec/gvfs-afc-volume-monitor\n",
"wallabot    1215  0.0  0.0 238612  5476 ?        Ssl  23:06   0:00 /usr/libexec/gvfs-mtp-volume-monitor\n",
"wallabot    1220  0.0  0.0 239456  6988 ?        Ssl  23:06   0:00 /usr/libexec/gvfs-goa-volume-monitor\n",
"wallabot    1224  0.0  0.2 707176 69244 ?        SLl  23:06   0:00 /usr/libexec/goa-daemon\n",
"wallabot    1231  0.0  0.0 317692  9068 ?        Sl   23:06   0:00 /usr/libexec/goa-identity-service\n",
"wallabot    1237  0.0  0.0 240888  6244 ?        Ssl  23:06   0:00 /usr/libexec/gvfs-gphoto2-volume-monitor\n",
"wallabot    1308  0.0  0.0 190872 13688 tty2     Sl+  23:06   0:00 /usr/libexec/gnome-session-binary --systemd --systemd --session=ubuntu\n",
"wallabot    1375  0.0  0.0   6040   452 ?        Ss   23:06   0:00 /usr/bin/ssh-agent /usr/bin/im-launch env GNOME_SHELL_SESSION_MODE=ubuntu /usr/bin/gnome-session --systemd --session=ubuntu\n",
"wallabot    1394  0.0  0.0 305428  6572 ?        Ssl  23:06   0:00 /usr/libexec/at-spi-bus-launcher\n",
"wallabot    1399  0.0  0.0   7380  4240 ?        S    23:06   0:00 /usr/bin/dbus-daemon --config-file=/usr/share/defaults/at-spi2/accessibility.conf --nofork --print-address 3\n",
"wallabot    1405  0.0  0.0  92852  4228 ?        Ssl  23:06   0:00 /usr/libexec/gnome-session-ctl --monitor\n",
"wallabot    1412  0.0  0.0 414004 16532 ?        Ssl  23:06   0:00 /usr/libexec/gnome-session-binary --systemd-service --session=ubuntu\n",
"wallabot    1426  3.7  1.2 5576364 425284 ?      Rsl  23:06   0:41 /usr/bin/gnome-shell\n",
"wallabot    1476  0.0  0.0 387612  8436 ?        Sl   23:06   0:00 ibus-daemon --panel disable --xim\n",
"wallabot    1480  0.0  0.0 165628  7060 ?        Sl   23:06   0:00 /usr/libexec/ibus-memconf\n",
"wallabot    1481  0.0  0.0 276012 29224 ?        Sl   23:06   0:00 /usr/libexec/ibus-extension-gtk3\n",
"wallabot    1483  0.0  0.0 196832 24676 ?        Sl   23:06   0:00 /usr/libexec/ibus-x11 --kill-daemon\n",
"wallabot    1486  0.0  0.0 239400  7244 ?        Sl   23:06   0:00 /usr/libexec/ibus-portal\n",
"wallabot    1498  0.0  0.0 162916  6508 ?        Sl   23:06   0:00 /usr/libexec/at-spi2-registryd --use-gnome-session\n",
"wallabot    1502  0.0  0.0 238512  5936 ?        Ssl  23:06   0:00 /usr/libexec/xdg-permission-store\n",
"wallabot    1504  0.0  0.0 862476 24084 ?        Sl   23:06   0:00 /usr/libexec/gnome-shell-calendar-server\n",
"wallabot    1513  0.0  0.0 618416 32636 ?        Ssl  23:06   0:00 /usr/libexec/evolution-source-registry\n",
"wallabot    1521  0.0  0.0 156476  5716 ?        Sl   23:06   0:00 /usr/libexec/dconf-service\n",
"wallabot    1524  0.0  0.0 165712  7076 ?        Ssl  23:06   0:00 /usr/libexec/gvfsd-metadata\n",
"wallabot    1535  0.0  0.1 1680828 49932 ?       Ssl  23:06   0:00 /usr/libexec/evolution-calendar-factory\n",
"wallabot    1551  0.0  0.0 676260 30636 ?        Ssl  23:06   0:00 /usr/libexec/evolution-addressbook-factory\n",
"wallabot    1585  0.0  0.0 2933212 27180 ?       Sl   23:06   0:00 /usr/bin/gjs /usr/share/gnome-shell/org.gnome.Shell.Notifications\n",
"wallabot    1597  0.0  0.0 316920  7980 ?        Sl   23:06   0:00 /usr/libexec/gvfsd-trash --spawner :1.4 /org/gtk/gvfs/exec_spaw/0\n",
"wallabot    1612  0.0  0.0 312652  6796 ?        Ssl  23:06   0:00 /usr/libexec/gsd-a11y-settings\n",
"wallabot    1613  0.0  0.0 587548 27164 ?        Ssl  23:06   0:00 /usr/libexec/gsd-color\n",
"wallabot    1614  0.0  0.0 376604 16508 ?        Ssl  23:06   0:00 /usr/libexec/gsd-datetime\n",
"wallabot    1616  0.0  0.0 314840  7876 ?        Ssl  23:06   0:00 /usr/libexec/gsd-housekeeping\n",
"wallabot    1619  0.0  0.0 344796 25276 ?        Ssl  23:06   0:00 /usr/libexec/gsd-keyboard\n",
"wallabot    1623  0.0  0.0 900140 28012 ?        Ssl  23:06   0:00 /usr/libexec/gsd-media-keys\n",
"wallabot    1627  0.0  0.0 418936 25736 ?        Ssl  23:06   0:00 /usr/libexec/gsd-power\n",
"wallabot    1629  0.0  0.0 251196 11384 ?        Ssl  23:06   0:00 /usr/libexec/gsd-print-notifications\n",
"wallabot    1630  0.0  0.0 459940  6088 ?        Ssl  23:06   0:00 /usr/libexec/gsd-rfkill\n",
"wallabot    1632  0.0  0.0 238348  6344 ?        Ssl  23:06   0:00 /usr/libexec/gsd-screensaver-proxy\n",
"wallabot    1633  0.0  0.0 467776 11088 ?        Ssl  23:06   0:00 /usr/libexec/gsd-sharing\n",
"wallabot    1634  0.0  0.0 318156 10452 ?        Ssl  23:06   0:00 /usr/libexec/gsd-smartcard\n",
"wallabot    1636  0.0  0.0 322344  9400 ?        Ssl  23:06   0:00 /usr/libexec/gsd-sound\n",
"wallabot    1637  0.0  0.0 461692  7252 ?        Ssl  23:06   0:00 /usr/libexec/gsd-usb-protection\n",
"wallabot    1640  0.0  0.0 344332 24372 ?        Ssl  23:06   0:00 /usr/libexec/gsd-wacom\n",
"wallabot    1643  0.0  0.0 390820  8260 ?        Ssl  23:06   0:00 /usr/libexec/gsd-wwan\n",
"wallabot    1644  0.0  0.0 345572 25980 ?        Ssl  23:06   0:00 /usr/libexec/gsd-xsettings\n",
"wallabot    1649  0.0  0.2 1227284 75100 ?       Sl   23:06   0:00 /usr/libexec/evolution-data-server/evolution-alarm-notify\n",
"wallabot    1673  0.0  0.1 413288 60304 ?        Sl   23:06   0:00 /usr/bin/python3 /usr/bin/solaar\n",
"wallabot    1692  0.0  0.0 231804  5972 ?        Sl   23:06   0:00 /usr/libexec/gsd-disk-utility-notify\n",
"wallabot    1730  0.0  0.0 165620  7028 ?        Sl   23:06   0:00 /usr/libexec/ibus-engine-simple\n",
"wallabot    1739  0.0  0.0 438456 19104 ?        Sl   23:06   0:00 /usr/libexec/gvfsd-http --spawner :1.4 /org/gtk/gvfs/exec_spaw/1\n",
"wallabot    1748  0.4  0.6 1242548 217144 ?      Sl   23:06   0:04 /snap/snap-store/599/usr/bin/snap-store --gapplication-service\n",
"wallabot    1760  0.0  0.0 345020 15016 ?        Sl   23:06   0:00 /usr/libexec/gsd-printer\n",
"wallabot    1797  0.0  0.0 608052  6664 ?        Ssl  23:06   0:00 /usr/libexec/xdg-document-portal\n",
"wallabot    2170  0.0  0.0 612960 11060 ?        Ssl  23:06   0:00 /usr/libexec/xdg-desktop-portal\n",
"wallabot    2174  0.0  0.0 493648 26488 ?        Ssl  23:06   0:00 /usr/libexec/xdg-desktop-portal-gtk\n",
"wallabot    4839  0.0  0.0 420020 28340 ?        Sl   23:07   0:00 update-notifier\n",
"wallabot    5019  0.0  0.0 436628 21644 ?        Sl   23:08   0:00 /usr/libexec/gvfsd-google --spawner :1.4 /org/gtk/gvfs/exec_spaw/2\n",
"wallabot    5072  3.2  1.1 34219664 391492 ?     SLl  23:08   0:32 /opt/google/chrome/chrome\n",
"wallabot    5077  0.0  0.0  10844   580 ?        S    23:08   0:00 cat\n",
"wallabot    5078  0.0  0.0  10844   516 ?        S    23:08   0:00 cat\n",
"wallabot    5080  0.0  0.0 33576132 3140 ?       Sl   23:08   0:00 /opt/google/chrome/chrome_crashpad_handler --monitor-self --monitor-self-annotation=ptype=crashpad-handler --database=/home/wallabot/.config/google-chrome/Crash Reports --url=https://clients2.google.com/cr/report --annotation=channel= --annotation=lsb-release=Ubuntu 20.04.5 LTS --annotation=plat=Linux --annotation=prod=Chrome_Linux --annotation=ver=108.0.5359.71 --initial-client-fd=5 --shared-client-connection\n",
"wallabot    5082  0.0  0.0 33567920 2952 ?       Sl   23:08   0:00 /opt/google/chrome/chrome_crashpad_handler --no-periodic-tasks --monitor-self-annotation=ptype=crashpad-handler --database=/home/wallabot/.config/google-chrome/Crash Reports --url=https://clients2.google.com/cr/report --annotation=channel= --annotation=lsb-release=Ubuntu 20.04.5 LTS --annotation=plat=Linux --annotation=prod=Chrome_Linux --annotation=ver=108.0.5359.71 --initial-client-fd=4 --shared-client-connection\n",
"wallabot    5088  0.0  0.1 33854440 59168 ?      S    23:08   0:00 /opt/google/chrome/chrome --type=zygote --no-zygote-sandbox --crashpad-handler-pid=5080 --enable-crash-reporter=, --change-stack-guard-on-fork=enable\n",
"wallabot    5089  0.0  0.1 33854436 59068 ?      S    23:08   0:00 /opt/google/chrome/chrome --type=zygote --crashpad-handler-pid=5080 --enable-crash-reporter=, --change-stack-guard-on-fork=enable\n",
"wallabot    5090  0.0  0.0 33568428 5024 ?       S    23:08   0:00 /opt/google/chrome/nacl_helper\n",
"wallabot    5093  0.0  0.0 33854460 16384 ?      S    23:08   0:00 /opt/google/chrome/chrome --type=zygote --crashpad-handler-pid=5080 --enable-crash-reporter=, --change-stack-guard-on-fork=enable\n",
"wallabot    5123  6.0  0.8 34211392 285560 ?     Sl   23:08   1:00 /opt/google/chrome/chrome --type=gpu-process --crashpad-handler-pid=5080 --enable-crash-reporter=, --change-stack-guard-on-fork=enable --gpu-preferences=WAAAAAAAAAAgAAAIAAAAAAAAAAAAAAAAAABgAAAAAAA4AAAAAAAAAAAAAAAAAAAAAAAAAAAAAAAAAAAAAAAAACAAAAAAAAAAIAAAAAAAAAABAAAAAAAAAAgAAAAAAAAACAAAAAAAAAAIAAAAAAAAAA== --shared-files --field-trial-handle=0,i,18391862866948577032,30807856093711604,131072\n",
"wallabot    5124  0.6  0.3 33918264 119584 ?     Sl   23:08   0:06 /opt/google/chrome/chrome --type=utility --utility-sub-type=network.mojom.NetworkService --lang=es --service-sandbox-type=none --crashpad-handler-pid=5080 --enable-crash-reporter=, --change-stack-guard-on-fork=enable --shared-files=v8_context_snapshot_data:100 --field-trial-handle=0,i,18391862866948577032,30807856093711604,131072\n",
"wallabot    5136  0.0  0.1 33895840 52500 ?      Sl   23:08   0:00 /opt/google/chrome/chrome --type=utility --utility-sub-type=storage.mojom.StorageService --lang=es --service-sandbox-type=utility --crashpad-handler-pid=5080 --enable-crash-reporter=, --change-stack-guard-on-fork=enable --shared-files=v8_context_snapshot_data:100 --field-trial-handle=0,i,18391862866948577032,30807856093711604,131072\n",
"wallabot    5155  0.1  0.4 1184797648 132208 ?   Sl   23:08   0:01 /opt/google/chrome/chrome --type=renderer --crashpad-handler-pid=5080 --enable-crash-reporter=, --extension-process --change-stack-guard-on-fork=enable --lang=es --num-raster-threads=4 --enable-main-frame-before-activation --renderer-client-id=5 --time-ticks-at-unix-epoch=-1670018798736448 --launch-time-ticks=121160165 --shared-files=v8_context_snapshot_data:100 --field-trial-handle=0,i,18391862866948577032,30807856093711604,131072\n",
"wallabot    5171  4.5  0.6 1188020280 229028 ?   Sl   23:08   0:44 /opt/google/chrome/chrome --type=renderer --crashpad-handler-pid=5080 --enable-crash-reporter=, --change-stack-guard-on-fork=enable --lang=es --num-raster-threads=4 --enable-main-frame-before-activation --renderer-client-id=27 --time-ticks-at-unix-epoch=-1670018798736448 --launch-time-ticks=121254783 --shared-files=v8_context_snapshot_data:100 --field-trial-handle=0,i,18391862866948577032,30807856093711604,131072\n",
"wallabot    5228  0.0  0.2 1184772236 89352 ?    Sl   23:08   0:00 /opt/google/chrome/chrome --type=renderer --crashpad-handler-pid=5080 --enable-crash-reporter=, --extension-process --change-stack-guard-on-fork=enable --lang=es --num-raster-threads=4 --enable-main-frame-before-activation --renderer-client-id=6 --time-ticks-at-unix-epoch=-1670018798736448 --launch-time-ticks=121309474 --shared-files=v8_context_snapshot_data:100 --field-trial-handle=0,i,18391862866948577032,30807856093711604,131072\n",
"wallabot    5247  0.0  0.2 1184788292 86368 ?    Sl   23:08   0:00 /opt/google/chrome/chrome --type=renderer --crashpad-handler-pid=5080 --enable-crash-reporter=, --extension-process --change-stack-guard-on-fork=enable --lang=es --num-raster-threads=4 --enable-main-frame-before-activation --renderer-client-id=7 --time-ticks-at-unix-epoch=-1670018798736448 --launch-time-ticks=121342017 --shared-files=v8_context_snapshot_data:100 --field-trial-handle=0,i,18391862866948577032,30807856093711604,131072\n",
"wallabot    5274  0.3  0.4 1184796488 155056 ?   Sl   23:08   0:03 /opt/google/chrome/chrome --type=renderer --crashpad-handler-pid=5080 --enable-crash-reporter=, --extension-process --change-stack-guard-on-fork=enable --lang=es --num-raster-threads=4 --enable-main-frame-before-activation --renderer-client-id=8 --time-ticks-at-unix-epoch=-1670018798736448 --launch-time-ticks=121354013 --shared-files=v8_context_snapshot_data:100 --field-trial-handle=0,i,18391862866948577032,30807856093711604,131072\n",
"wallabot    5294  0.1  0.3 1184797648 123536 ?   Sl   23:08   0:01 /opt/google/chrome/chrome --type=renderer --crashpad-handler-pid=5080 --enable-crash-reporter=, --extension-process --change-stack-guard-on-fork=enable --lang=es --num-raster-threads=4 --enable-main-frame-before-activation --renderer-client-id=9 --time-ticks-at-unix-epoch=-1670018798736448 --launch-time-ticks=121366454 --shared-files=v8_context_snapshot_data:100 --field-trial-handle=0,i,18391862866948577032,30807856093711604,131072\n",
"wallabot    5300  0.0  0.2 1184771900 88048 ?    Sl   23:08   0:00 /opt/google/chrome/chrome --type=renderer --crashpad-handler-pid=5080 --enable-crash-reporter=, --extension-process --change-stack-guard-on-fork=enable --lang=es --num-raster-threads=4 --enable-main-frame-before-activation --renderer-client-id=10 --time-ticks-at-unix-epoch=-1670018798736448 --launch-time-ticks=121370528 --shared-files=v8_context_snapshot_data:100 --field-trial-handle=0,i,18391862866948577032,30807856093711604,131072\n",
"wallabot    5325  0.0  0.1 34023608 34500 ?      S    23:08   0:00 /opt/google/chrome/chrome --type=broker\n",
"wallabot    5343  0.0  0.3 1184780096 98820 ?    Sl   23:08   0:00 /opt/google/chrome/chrome --type=renderer --crashpad-handler-pid=5080 --enable-crash-reporter=, --extension-process --change-stack-guard-on-fork=enable --lang=es --num-raster-threads=4 --enable-main-frame-before-activation --renderer-client-id=45 --time-ticks-at-unix-epoch=-1670018798736448 --launch-time-ticks=121454617 --shared-files=v8_context_snapshot_data:100 --field-trial-handle=0,i,18391862866948577032,30807856093711604,131072\n",
"wallabot    5381  0.0  0.0 197896 29728 ?        Sl   23:08   0:00 /usr/bin/python3 /usr/bin/chrome-gnome-shell chrome-extension://gphhapmejobijbbhgpjhcjognlahblep/\n",
"wallabot    5467  0.8  0.5 1185857508 194536 ?   Sl   23:08   0:08 /opt/google/chrome/chrome --type=renderer --crashpad-handler-pid=5080 --enable-crash-reporter=, --change-stack-guard-on-fork=enable --lang=es --num-raster-threads=4 --enable-main-frame-before-activation --renderer-client-id=48 --time-ticks-at-unix-epoch=-1670018798736448 --launch-time-ticks=122388284 --shared-files=v8_context_snapshot_data:100 --field-trial-handle=0,i,18391862866948577032,30807856093711604,131072\n",
"wallabot    5547  0.0  0.2 34155852 77000 ?      Sl   23:08   0:00 /opt/google/chrome/chrome --type=utility --utility-sub-type=audio.mojom.AudioService --lang=es --service-sandbox-type=none --crashpad-handler-pid=5080 --enable-crash-reporter=, --change-stack-guard-on-fork=enable --shared-files=v8_context_snapshot_data:100 --field-trial-handle=0,i,18391862866948577032,30807856093711604,131072\n",
"wallabot    5584  0.0  0.3 1184798704 126008 ?   Sl   23:08   0:00 /opt/google/chrome/chrome --type=renderer --crashpad-handler-pid=5080 --enable-crash-reporter=, --change-stack-guard-on-fork=enable --lang=es --num-raster-threads=4 --enable-main-frame-before-activation --renderer-client-id=40 --time-ticks-at-unix-epoch=-1670018798736448 --launch-time-ticks=127275168 --shared-files=v8_context_snapshot_data:100 --field-trial-handle=0,i,18391862866948577032,30807856093711604,131072\n",
"wallabot    5590  0.1  0.4 1184799064 148824 ?   Sl   23:08   0:01 /opt/google/chrome/chrome --type=renderer --crashpad-handler-pid=5080 --enable-crash-reporter=, --change-stack-guard-on-fork=enable --lang=es --num-raster-threads=4 --enable-main-frame-before-activation --renderer-client-id=28 --time-ticks-at-unix-epoch=-1670018798736448 --launch-time-ticks=127276723 --shared-files=v8_context_snapshot_data:100 --field-trial-handle=0,i,18391862866948577032,30807856093711604,131072\n",
"wallabot    5592  8.3  0.8 1187976688 283688 ?   Sl   23:08   1:22 /opt/google/chrome/chrome --type=renderer --crashpad-handler-pid=5080 --enable-crash-reporter=, --change-stack-guard-on-fork=enable --lang=es --num-raster-threads=4 --enable-main-frame-before-activation --renderer-client-id=30 --time-ticks-at-unix-epoch=-1670018798736448 --launch-time-ticks=127278497 --shared-files=v8_context_snapshot_data:100 --field-trial-handle=0,i,18391862866948577032,30807856093711604,131072\n",
"wallabot    5636  0.0  0.3 1184805876 122780 ?   Sl   23:08   0:00 /opt/google/chrome/chrome --type=renderer --crashpad-handler-pid=5080 --enable-crash-reporter=, --change-stack-guard-on-fork=enable --lang=es --num-raster-threads=4 --enable-main-frame-before-activation --renderer-client-id=51 --time-ticks-at-unix-epoch=-1670018798736448 --launch-time-ticks=127293028 --shared-files=v8_context_snapshot_data:100 --field-trial-handle=0,i,18391862866948577032,30807856093711604,131072\n",
"wallabot    5753  0.0  0.3 1184796632 104664 ?   Sl   23:08   0:00 /opt/google/chrome/chrome --type=renderer --crashpad-handler-pid=5080 --enable-crash-reporter=, --change-stack-guard-on-fork=enable --lang=es --num-raster-threads=4 --enable-main-frame-before-activation --renderer-client-id=52 --time-ticks-at-unix-epoch=-1670018798736448 --launch-time-ticks=129692647 --shared-files=v8_context_snapshot_data:100 --field-trial-handle=0,i,18391862866948577032,30807856093711604,131072\n",
"wallabot    5788  3.0  0.8 1185884504 276332 ?   Sl   23:08   0:29 /opt/google/chrome/chrome --type=renderer --crashpad-handler-pid=5080 --enable-crash-reporter=, --change-stack-guard-on-fork=enable --lang=es --num-raster-threads=4 --enable-main-frame-before-activation --renderer-client-id=19 --time-ticks-at-unix-epoch=-1670018798736448 --launch-time-ticks=130329055 --shared-files=v8_context_snapshot_data:100 --field-trial-handle=0,i,18391862866948577032,30807856093711604,131072\n",
"wallabot    5828  1.9  0.9 1184827212 309156 ?   Sl   23:08   0:19 /opt/google/chrome/chrome --type=renderer --crashpad-handler-pid=5080 --enable-crash-reporter=, --change-stack-guard-on-fork=enable --lang=es --num-raster-threads=4 --enable-main-frame-before-activation --renderer-client-id=22 --time-ticks-at-unix-epoch=-1670018798736448 --launch-time-ticks=131345480 --shared-files=v8_context_snapshot_data:100 --field-trial-handle=0,i,18391862866948577032,30807856093711604,131072\n",
"wallabot    5846  0.6  0.6 1184844960 207484 ?   Sl   23:08   0:06 /opt/google/chrome/chrome --type=renderer --crashpad-handler-pid=5080 --enable-crash-reporter=, --change-stack-guard-on-fork=enable --lang=es --num-raster-threads=4 --enable-main-frame-before-activation --renderer-client-id=36 --time-ticks-at-unix-epoch=-1670018798736448 --launch-time-ticks=131537892 --shared-files=v8_context_snapshot_data:100 --field-trial-handle=0,i,18391862866948577032,30807856093711604,131072\n",
"wallabot    6066  0.5  0.6 1184828968 220584 ?   Sl   23:08   0:05 /opt/google/chrome/chrome --type=renderer --crashpad-handler-pid=5080 --enable-crash-reporter=, --change-stack-guard-on-fork=enable --lang=es --num-raster-threads=4 --enable-main-frame-before-activation --renderer-client-id=35 --time-ticks-at-unix-epoch=-1670018798736448 --launch-time-ticks=135569943 --shared-files=v8_context_snapshot_data:100 --field-trial-handle=0,i,18391862866948577032,30807856093711604,131072\n",
"wallabot    6120  0.0  0.0  43992  6552 ?        Ss   23:08   0:00 /usr/lib/bluetooth/obexd\n",
"wallabot    6134  0.4  0.7 1184856952 230428 ?   Sl   23:08   0:04 /opt/google/chrome/chrome --type=renderer --crashpad-handler-pid=5080 --enable-crash-reporter=, --change-stack-guard-on-fork=enable --lang=es --num-raster-threads=4 --enable-main-frame-before-activation --renderer-client-id=34 --time-ticks-at-unix-epoch=-1670018798736448 --launch-time-ticks=136358048 --shared-files=v8_context_snapshot_data:100 --field-trial-handle=0,i,18391862866948577032,30807856093711604,131072\n",
"wallabot    6524  0.4  0.6 1184857312 226988 ?   Sl   23:08   0:04 /opt/google/chrome/chrome --type=renderer --crashpad-handler-pid=5080 --enable-crash-reporter=, --change-stack-guard-on-fork=enable --lang=es --num-raster-threads=4 --enable-main-frame-before-activation --renderer-client-id=33 --time-ticks-at-unix-epoch=-1670018798736448 --launch-time-ticks=139865567 --shared-files=v8_context_snapshot_data:100 --field-trial-handle=0,i,18391862866948577032,30807856093711604,131072\n",
"wallabot    8034  0.0  0.1 1064452 54580 ?       Sl   23:10   0:00 /usr/bin/gnome-calendar --gapplication-service\n",
"wallabot    8158  0.7  0.7 3981248 239132 ?      Sl   23:10   0:07 /snap/spotify/60/usr/share/spotify/spotify\n",
"wallabot    8242  0.0  0.2 647244 77376 ?        S    23:10   0:00 /snap/spotify/60/usr/share/spotify/spotify --type=zygote --no-zygote-sandbox --no-sandbox --log-severity=disable --user-agent-product=Chrome/99.0.4844.84 Spotify/1.1.84.716 --lang=en --user-data-dir=/home/wallabot/snap/spotify/60/.config/spotify/User Data --log-file=/snap/spotify/60/usr/share/spotify/debug.log\n",
"wallabot    8243  0.0  0.2 647244 77100 ?        S    23:10   0:00 /snap/spotify/60/usr/share/spotify/spotify --type=zygote --no-sandbox --log-severity=disable --user-agent-product=Chrome/99.0.4844.84 Spotify/1.1.84.716 --lang=en --user-data-dir=/home/wallabot/snap/spotify/60/.config/spotify/User Data --log-file=/snap/spotify/60/usr/share/spotify/debug.log\n",
"wallabot    8259  0.1  0.3 2041284 114252 ?      Sl   23:10   0:01 /snap/spotify/60/usr/share/spotify/spotify --type=gpu-process --no-sandbox --log-severity=disable --user-agent-product=Chrome/99.0.4844.84 Spotify/1.1.84.716 --lang=en --user-data-dir=/home/wallabot/snap/spotify/60/.config/spotify/User Data --gpu-preferences=UAAAAAAAAAAgAAAIAAAAAAAAAAAAAAAAAABgAAAAAAAwAAAAAAAAAAAAAAAAAAAAAAAAAAAAAAAAAAAAAQAAABgAAAAAAAAAGAAAAAAAAAAIAAAAAAAAAAgAAAAAAAAACAAAAAAAAAA= --log-file=/snap/spotify/60/usr/share/spotify/debug.log --shared-files --field-trial-handle=0,i,8625640855432007833,7773453088797360000,131072\n",
"wallabot    8274  0.0  0.1 868700 34104 ?        Sl   23:10   0:00 /snap/spotify/60/usr/share/spotify/spotify --type=utility --utility-sub-type=storage.mojom.StorageService --lang=en-US --service-sandbox-type=utility --no-sandbox --log-severity=disable --user-agent-product=Chrome/99.0.4844.84 Spotify/1.1.84.716 --lang=en --user-data-dir=/home/wallabot/snap/spotify/60/.config/spotify/User Data --log-file=/snap/spotify/60/usr/share/spotify/debug.log --shared-files=v8_context_snapshot_data:100 --field-trial-handle=0,i,8625640855432007833,7773453088797360000,131072\n",
"wallabot    8279  0.0  0.3 1148480 99680 ?       Sl   23:10   0:00 /snap/spotify/60/usr/share/spotify/spotify --type=utility --utility-sub-type=network.mojom.NetworkService --lang=en-US --service-sandbox-type=none --no-sandbox --log-severity=disable --user-agent-product=Chrome/99.0.4844.84 Spotify/1.1.84.716 --lang=en --user-data-dir=/home/wallabot/snap/spotify/60/.config/spotify/User Data --log-file=/snap/spotify/60/usr/share/spotify/debug.log --shared-files=v8_context_snapshot_data:100 --field-trial-handle=0,i,8625640855432007833,7773453088797360000,131072\n",
"wallabot    8319  0.5  0.5 31646352 187140 ?     Sl   23:10   0:05 /snap/spotify/60/usr/share/spotify/spotify --type=renderer --log-severity=disable --user-agent-product=Chrome/99.0.4844.84 Spotify/1.1.84.716 --disable-spell-checking --user-data-dir=/home/wallabot/snap/spotify/60/.config/spotify/User Data --no-sandbox --log-file=/snap/spotify/60/usr/share/spotify/debug.log --lang=en-US --num-raster-threads=4 --enable-main-frame-before-activation --renderer-client-id=5 --launch-time-ticks=210215195 --shared-files=v8_context_snapshot_data:100 --field-trial-handle=0,i,8625640855432007833,7773453088797360000,131072\n",
"wallabot    8377  0.5  0.4 38371288 161752 ?     SLl  23:10   0:05 /usr/share/code/code --unity-launch --enable-crashpad\n",
"wallabot    8391  0.0  0.1 33775112 48516 ?      S    23:10   0:00 /usr/share/code/code --type=zygote --no-zygote-sandbox --enable-crashpad --enable-crashpad\n",
"wallabot    8392  0.0  0.1 33775096 48304 ?      S    23:10   0:00 /usr/share/code/code --type=zygote --enable-crashpad --enable-crashpad\n",
"wallabot    8394  0.0  0.0 33775124 12448 ?      S    23:10   0:00 /usr/share/code/code --type=zygote --enable-crashpad --enable-crashpad\n",
"wallabot    8407  0.0  0.0 33575984 3384 ?       Sl   23:10   0:00 /usr/share/code/chrome_crashpad_handler --monitor-self-annotation=ptype=crashpad-handler --no-rate-limit --database=/home/wallabot/.config/Code/Crashpad --url=appcenter://code?aid=fba07a4d-84bd-4fc8-a125-9640fc8ce171&uid=e1be826f-73fb-46c2-a439-9bb52643ccc1&iid=e1be826f-73fb-46c2-a439-9bb52643ccc1&sid=e1be826f-73fb-46c2-a439-9bb52643ccc1 --annotation=_companyName=Microsoft --annotation=_productName=VSCode --annotation=_version=1.73.1 --annotation=lsb-release=Ubuntu 20.04.5 LTS --annotation=plat=Linux --annotation=prod=Electron --annotation=ver=19.0.17 --initial-client-fd=43 --shared-client-connection\n",
"wallabot    8425  1.5  0.5 33985512 195464 ?     Sl   23:10   0:14 /usr/share/code/code --type=gpu-process --enable-crashpad --crashpad-handler-pid=8407 --enable-crash-reporter=7a83c65f-14e6-4aa2-9df9-71fc458479f5,no_channel --user-data-dir=/home/wallabot/.config/Code --gpu-preferences=WAAAAAAAAAAgAAAIAAAAAAAAAAAAAAAAAABgAAAAAAA4AAAAAAAAAAAAAAAAAAAAAAAAAAAAAAAAAAAAAAAAACAAAAAAAAAAIAAAAAAAAAABAAAAAAAAAAgAAAAAAAAACAAAAAAAAAAIAAAAAAAAAA== --shared-files --field-trial-handle=0,i,8890103601020485358,15523745040863579529,131072 --disable-features=CalculateNativeWinOcclusion,SpareRendererForSitePerProcess\n",
"wallabot    8429  0.0  0.2 33840968 66520 ?      Sl   23:10   0:00 /usr/share/code/code --type=utility --utility-sub-type=network.mojom.NetworkService --lang=es --service-sandbox-type=none --enable-crashpad --crashpad-handler-pid=8407 --enable-crash-reporter=7a83c65f-14e6-4aa2-9df9-71fc458479f5,no_channel --user-data-dir=/home/wallabot/.config/Code --standard-schemes=vscode-webview,vscode-file --secure-schemes=vscode-webview,vscode-file --bypasscsp-schemes --cors-schemes=vscode-webview,vscode-file --fetch-schemes=vscode-webview,vscode-file --service-worker-schemes=vscode-webview --streaming-schemes --shared-files=v8_context_snapshot_data:100 --field-trial-handle=0,i,8890103601020485358,15523745040863579529,131072 --disable-features=CalculateNativeWinOcclusion,SpareRendererForSitePerProcess --enable-crashpad\n",
"wallabot    8439  0.0  0.0 33851528 23624 ?      S    23:10   0:00 /usr/share/code/code --type=broker\n",
"wallabot    8449  8.5  1.1 61424852 390980 ?     Sl   23:10   1:16 /usr/share/code/code --type=renderer --enable-crashpad --crashpad-handler-pid=8407 --enable-crash-reporter=7a83c65f-14e6-4aa2-9df9-71fc458479f5,no_channel --user-data-dir=/home/wallabot/.config/Code --standard-schemes=vscode-webview,vscode-file --secure-schemes=vscode-webview,vscode-file --bypasscsp-schemes --cors-schemes=vscode-webview,vscode-file --fetch-schemes=vscode-webview,vscode-file --service-worker-schemes=vscode-webview --streaming-schemes --app-path=/usr/share/code/resources/app --no-sandbox --no-zygote --enable-blink-features=HighlightAPI --lang=es --num-raster-threads=4 --enable-main-frame-before-activation --renderer-client-id=4 --launch-time-ticks=217445761 --shared-files=v8_context_snapshot_data:100 --field-trial-handle=0,i,8890103601020485358,15523745040863579529,131072 --disable-features=CalculateNativeWinOcclusion,SpareRendererForSitePerProcess --vscode-window-config=vscode:13905479-a7dd-4e24-9b88-cf580c42a25d --enable-crashpad\n",
"wallabot    8508  1.4  0.8 59175788 268364 ?     Sl   23:10   0:12 /usr/share/code/code --ms-enable-electron-run-as-node --inspect-port=0 /usr/share/code/resources/app/out/bootstrap-fork --type=extensionHost --skipWorkspaceStorageLock\n",
"wallabot    8566  0.1  0.2 38136100 81468 ?      Sl   23:10   0:01 /usr/share/code/code --ms-enable-electron-run-as-node /home/wallabot/.vscode/extensions/kisstkondoros.vscode-gutter-preview-0.30.0/dist/server.js --node-ipc --clientProcessId=8508\n",
"wallabot    8575  0.6  0.4 46670736 139408 ?     Sl   23:10   0:05 /usr/share/code/code --type=renderer --enable-crashpad --crashpad-handler-pid=8407 --enable-crash-reporter=7a83c65f-14e6-4aa2-9df9-71fc458479f5,no_channel --user-data-dir=/home/wallabot/.config/Code --standard-schemes=vscode-webview,vscode-file --secure-schemes=vscode-webview,vscode-file --bypasscsp-schemes --cors-schemes=vscode-webview,vscode-file --fetch-schemes=vscode-webview,vscode-file --service-worker-schemes=vscode-webview --streaming-schemes --app-path=/usr/share/code/resources/app --no-sandbox --no-zygote --node-integration-in-worker --lang=es --num-raster-threads=4 --enable-main-frame-before-activation --renderer-client-id=5 --launch-time-ticks=219833707 --shared-files=v8_context_snapshot_data:100 --field-trial-handle=0,i,8890103601020485358,15523745040863579529,131072 --disable-features=CalculateNativeWinOcclusion,SpareRendererForSitePerProcess --vscode-window-config=vscode:be96c98d-9154-449a-b127-c0211495f4ef --vscode-window-kind=shared-process --enable-crashpad\n",
"wallabot    8593  0.0  0.2 38177772 78236 ?      Sl   23:10   0:00 /usr/share/code/code --ms-enable-electron-run-as-node /usr/share/code/resources/app/out/bootstrap-fork --type=ptyHost --logsPath /home/wallabot/.config/Code/logs/20221202T231016\n",
"wallabot    8632  0.0  0.2 38185752 94568 ?      Sl   23:10   0:00 /usr/share/code/code --ms-enable-electron-run-as-node /usr/share/code/resources/app/out/bootstrap-fork --type=fileWatcher\n",
"wallabot    8656  0.6  0.5 42430176 182480 ?     Sl   23:10   0:05 /usr/share/code/code --type=renderer --enable-crashpad --crashpad-handler-pid=8407 --enable-crash-reporter=7a83c65f-14e6-4aa2-9df9-71fc458479f5,no_channel --user-data-dir=/home/wallabot/.config/Code --standard-schemes=vscode-webview,vscode-file --secure-schemes=vscode-webview,vscode-file --bypasscsp-schemes --cors-schemes=vscode-webview,vscode-file --fetch-schemes=vscode-webview,vscode-file --service-worker-schemes=vscode-webview --streaming-schemes --app-path=/usr/share/code/resources/app --enable-sandbox --enable-blink-features=HighlightAPI --lang=es --num-raster-threads=4 --enable-main-frame-before-activation --renderer-client-id=6 --launch-time-ticks=220495638 --shared-files=v8_context_snapshot_data:100 --field-trial-handle=0,i,8890103601020485358,15523745040863579529,131072 --disable-features=CalculateNativeWinOcclusion,SpareRendererForSitePerProcess --vscode-window-config=vscode:13905479-a7dd-4e24-9b88-cf580c42a25d\n",
"wallabot    8716  1.4  0.5 38140204 169984 ?     Sl   23:10   0:12 /usr/share/code/code --ms-enable-electron-run-as-node /home/wallabot/.vscode/extensions/ms-python.vscode-pylance-2022.11.40/dist/server.bundle.js --cancellationReceive=file:3646d9eb9edaa1bd82425403564df0006a57a0df01 --node-ipc --clientProcessId=8508\n",
"wallabot    8744  0.1  0.3 38140204 104772 ?     Sl   23:10   0:01 /usr/share/code/code --ms-enable-electron-run-as-node /home/wallabot/.vscode/extensions/ms-python.vscode-pylance-2022.11.40/dist/server.bundle.js --cancellationReceive=file:f832ffa59d80abd5b35e8851e94332c285b2c3f9bb --node-ipc --clientProcessId=8508\n",
"wallabot    8781  0.1  0.2 480956 77852 ?        Sl   23:10   0:01 /home/wallabot/anaconda3/bin/python -m ipykernel_launcher --ip=127.0.0.1 --stdin=9003 --control=9001 --hb=9000 --Session.signature_scheme=\"hmac-sha256\" --Session.key=b\"c6d890f5-5fb6-41d8-9a66-32d953505406\" --shell=9002 --transport=\"tcp\" --iopub=9004 --f=/home/wallabot/.local/share/jupyter/runtime/kernel-v2-8508kHWtNFMgKsBL.json\n",
"wallabot    8788  0.0  0.0 116624 29744 ?        Sl   23:10   0:00 /bin/python3 /home/wallabot/.vscode/extensions/ms-python.isort-2022.8.0/bundled/tool/server.py\n",
"wallabot    8898  0.6  0.4 38144304 146508 ?     Sl   23:10   0:05 /usr/share/code/code --ms-enable-electron-run-as-node /home/wallabot/.vscode/extensions/ms-python.vscode-pylance-2022.11.40/dist/server.bundle.js --cancellationReceive=file:f57d6ea9bb6b4fa6ae2a6938661d2443c126a7b3df --node-ipc --clientProcessId=8508\n",
"wallabot    8911  0.0  0.2 38136100 70604 ?      Sl   23:10   0:00 /usr/share/code/code --ms-enable-electron-run-as-node /usr/share/code/resources/app/extensions/json-language-features/server/dist/node/jsonServerMain --node-ipc --clientProcessId=8508\n",
"wallabot    8932  0.0  0.0  13648  5412 pts/0    Ss+  23:10   0:00 /usr/bin/bash --init-file /usr/share/code/resources/app/out/vs/workbench/contrib/terminal/browser/media/shellIntegration-bash.sh\n",
"wallabot    9112  0.0  0.1 816596 50392 ?        Ssl  23:10   0:00 /usr/libexec/gnome-terminal-server\n",
"wallabot    9120  0.0  0.0  13628  5212 pts/1    Ss+  23:10   0:00 bash\n",
"wallabot   10927  0.0  0.3 1184807108 117996 ?   Sl   23:19   0:00 /opt/google/chrome/chrome --type=renderer --crashpad-handler-pid=5080 --enable-crash-reporter=, --change-stack-guard-on-fork=enable --lang=es --num-raster-threads=4 --enable-main-frame-before-activation --renderer-client-id=72 --time-ticks-at-unix-epoch=-1670018798736448 --launch-time-ticks=743183717 --shared-files=v8_context_snapshot_data:100 --field-trial-handle=0,i,18391862866948577032,30807856093711604,131072\n",
"wallabot   11428  0.1  0.2 38136100 74884 ?      Sl   23:21   0:00 /usr/share/code/code --ms-enable-electron-run-as-node /usr/share/code/resources/app/extensions/markdown-language-features/server/dist/node/main --node-ipc --clientProcessId=8508\n",
"wallabot   12009  0.0  0.2 1184730916 65832 ?    Sl   23:24   0:00 /opt/google/chrome/chrome --type=renderer --crashpad-handler-pid=5080 --enable-crash-reporter=, --change-stack-guard-on-fork=enable --lang=es --num-raster-threads=4 --enable-main-frame-before-activation --renderer-client-id=80 --time-ticks-at-unix-epoch=-1670018798736448 --launch-time-ticks=1081580044 --shared-files=v8_context_snapshot_data:100 --field-trial-handle=0,i,18391862866948577032,30807856093711604,131072\n",
"wallabot   12109  0.0  0.0   2616   596 pts/2    Ss+  23:25   0:00 /usr/bin/sh -c ps aux | grep wallabot\n",
"wallabot   12110  0.0  0.0  14192  3560 pts/2    R+   23:25   0:00 ps aux\n",
"wallabot   12111  0.0  0.0  11668   660 pts/2    S+   23:25   0:00 grep wallabot\n"
          ]
        }
      ],
      "source": [
      "!ps aux | grep wallabot"
      ]
    },
{
      "cell_type": "markdown",
      "metadata": {},
      "source": [
      "### Manipulador de processos principais"
      ]
    },
{
      "cell_type": "markdown",
      "metadata": {},
      "source": [
      "Com o `top`, podemos ver todos os processos do sistema operacional. Ele nos mostrará as informações com `less`, portanto, conforme explicado anteriormente, quando você quiser interromper o `top`, digite `q` para interrompê-lo."
      ]
    },
{
      "cell_type": "code",
      "execution_count": 191,
      "metadata": {},
      "outputs": [
      {
          "name": "stdout",
          "output_type": "stream",
          "text": [
          "top - 09:31:32 up  3:21,  1 user,  load average: 2,42, 2,79, 2,48\n",
"Tareas: 382 total,   1 ejecutar,  381 hibernar,    0 detener,    0 zombie\n",
"%Cpu(s): 14,2 usuario,  1,5 sist,  0,0 adecuado, 84,3 inact,  0,0 en espera,  0,\n",
"MiB Mem :  32006,4 total,  20281,8 libre,   6229,0 usado,   5495,6 búfer/caché\n",
"MiB Intercambio:   2048,0 total,   2048,0 libre,      0,0 usado.  24979,1 dispon\n",
"\n",
"    PID USUARIO   PR  NI    VIRT    RES    SHR S  %CPU  %MEM     HORA+ ORDEN    \n",
"  10192 wallabot  20   0 3347636 388848  84140 S 137,5   1,2 282:24.59 python   \n",
"  44161 wallabot  20   0   30,2g 217208 100148 S  12,5   0,7   0:40.92 spotify  \n",
"     76 root      20   0       0      0      0 S   6,2   0,0   0:00.12 ksoftir+ \n",
"   1105 root     -51   0       0      0      0 S   6,2   0,0   2:54.29 irq/125+ \n",
"  43990 wallabot  20   0 3998836 246260 145800 S   6,2   0,8   0:53.69 spotify  \n",
"  44101 wallabot  20   0 1995108 130316  89848 S   6,2   0,4   0:08.34 spotify  \n",
"  51510 wallabot  20   0   14876   4088   3288 R   6,2   0,0   0:00.01 top      \n",
"      1 root      20   0  169736  13188   8380 S   0,0   0,0   0:01.51 systemd  \n",
"      2 root      20   0       0      0      0 S   0,0   0,0   0:00.00 kthreadd \n",
"      3 root       0 -20       0      0      0 I   0,0   0,0   0:00.00 rcu_gp   \n",
"      4 root       0 -20       0      0      0 I   0,0   0,0   0:00.00 rcu_par+ \n",
"      5 root       0 -20       0      0      0 I   0,0   0,0   0:00.00 netns    \n",
"      7 root       0 -20       0      0      0 I   0,0   0,0   0:00.00 kworker+ \n",
"      9 root       0 -20       0      0      0 I   0,0   0,0   0:00.03 kworker+ \n",
"     10 root       0 -20       0      0      0 I   0,0   0,0   0:00.00 mm_perc+ \n",
"     11 root      20   0       0      0      0 S   0,0   0,0   0:00.00 rcu_tas+ \n",
"     12 root      20   0       0      0      0 S   0,0   0,0   0:00.00 rcu_tas+\n"
          ]
        }
      ],
      "source": [
      "!top"
      ]
    },
{
      "cell_type": "markdown",
      "metadata": {},
      "source": [
      "Como você pode ver, o `PID` 44161 é o Spotify, que estou usando agora para reproduzir música, mas com o `ps` não o tínhamos visto."
      ]
    },
{
      "cell_type": "markdown",
      "metadata": {},
      "source": [
      "Como antes, se quisermos eliminar um processo, devemos digitar `kill` e seu `PID`."
      ]
    },
{
      "cell_type": "markdown",
      "metadata": {},
      "source": [
      "O bom do top é que ele nos oferece muito mais utilitários; se pressionarmos `h`, ele nos mostrará a ajuda"
      ]
    },
{
      "cell_type": "code",
      "execution_count": 191,
      "metadata": {},
      "outputs": [
      {
          "name": "stdout",
          "output_type": "stream",
          "text": [
          "Help for Interactive Commands - procps-ng 3.3.16\n",
"Window 1:Def: Cumulative mode Apagado.  System: Delay 3,0 secs; Secure mode Apag\n",
"\n",
"  Z,B,E,e   Global: 'Z' colors; 'B' bold; 'E'/'e' summary/task memory scale\n",
"  l,t,m     Toggle Summary: 'l' load avg; 't' task/cpu stats; 'm' memory info\n",
"  0,1,2,3,I Toggle: '0' zeros; '1/2/3' cpus or numa node views; 'I' Irix mode\n",
"  f,F,X     Fields: 'f'/'F' add/remove/order/sort; 'X' increase fixed-width\n",
"\n",
"  L,&,<,> . Locate: 'L'/'&' find/again; Move sort column: '<'/'>' left/right\n",
"  R,H,J,C . Toggle: 'R' Sort; 'H' Threads; 'J' Num justify; 'C' Coordinates\n",
"  c,i,S,j . Toggle: 'c' Cmd name/line; 'i' Idle; 'S' Time; 'j' Str justify\n",
"  x,y     . Toggle highlights: 'x' sort field; 'y' running tasks\n",
"  z,b     . Toggle: 'z' color/mono; 'b' bold/reverse (only if 'x' or 'y')\n",
"  u,U,o,O . Filter by: 'u'/'U' effective/any user; 'o'/'O' other criteria\n",
"  n,#,^O  . Set: 'n'/'#' max tasks displayed; Show: Ctrl+'O' other filter(s)\n",
"  V,v     . Toggle: 'V' forest view; 'v' hide/show forest view children\n",
"\n",
"  k,r Gestiona tareas: «k» detener; «r» reiniciar\n",
"  d o s Establece intervalo de actualización\n",
"  W,Y       Write configuration file 'W'; Inspect other output 'Y'\n",
"  q         Quit\n",
"          ( commands shown with '.' require a visible task display window ) \n",
"Press 'h' or '?' for help with Windows,\n",
"Type 'q' or <Esc> to continue\n"
          ]
        }
      ],
      "source": [
      "!h"
      ]
    },
{
      "cell_type": "markdown",
      "metadata": {},
      "source": [
      "Para sair, pressione `ESC` ou `q`."
      ]
    },
{
      "cell_type": "markdown",
      "metadata": {},
      "source": [
      "Conforme mostrado na ajuda, se digitarmos `u`, poderemos filtrar por usuário; digitamos meu usuário (wallabot) e posso ver apenas meus processos."
      ]
    },
{
      "cell_type": "code",
      "execution_count": 191,
      "metadata": {},
      "outputs": [
      {
          "name": "stdout",
          "output_type": "stream",
          "text": [
          "top - 09:35:57 up  3:25,  1 user,  load average: 1,02, 2,27, 2,39\n",
"Tareas: 378 total,   1 ejecutar,  377 hibernar,    0 detener,    0 zombie\n",
"%Cpu(s): 13,4 usuario,  0,4 sist,  0,0 adecuado, 86,1 inact,  0,1 en espera,  0,\n",
"MiB Mem :  32006,4 total,  20288,0 libre,   6212,0 usado,   5506,4 búfer/caché\n",
"MiB Intercambio:   2048,0 total,   2048,0 libre,      0,0 usado.  24989,1 dispon\n",
"\n",
"    PID USUARIO   PR  NI    VIRT    RES    SHR S  %CPU  %MEM     HORA+ ORDEN    \n",
"  10192 wallabot  20   0 3347636 388848  84140 S 148,2   1,2 288:46.50 python   \n",
"  43990 wallabot  20   0 3998836 246552 146092 S   2,7   0,8   0:59.55 spotify  \n",
"   1384 wallabot  20   0 4909848 453700 133164 S   1,7   1,4  11:14.02 gnome-s+ \n",
"   1119 wallabot   9 -11 3093876  24504  17836 S   1,3   0,1   0:48.99 pulseau+ \n",
"  32462 wallabot  20   0 1134,0g 643412 128632 S   1,3   2,0   7:39.91 chrome   \n",
"  44161 wallabot  20   0   30,2g 217112 100488 S   1,3   0,7   0:44.87 spotify  \n",
"  10135 wallabot  20   0  826220  58164  41648 S   1,0   0,2   0:14.56 gnome-t+ \n",
"   6635 wallabot  20   0   33,0g 647936 436252 S   0,3   2,0   4:01.80 chrome   \n",
"   6679 wallabot  20   0   32,4g 125564  94016 S   0,3   0,4   0:52.19 chrome   \n",
"   8010 wallabot  20   0 1130,9g 232800 116092 S   0,3   0,7   0:13.70 chrome   \n",
"  44101 wallabot  20   0 1995108 130444  89916 S   0,3   0,4   0:09.19 spotify  \n",
"   1113 wallabot  20   0   19880  10528   8096 S   0,0   0,0   0:00.38 systemd  \n",
"   1114 wallabot  20   0  169792   3636     12 S   0,0   0,0   0:00.00 (sd-pam) \n",
"   1121 wallabot  39  19  591436  37256  16676 S   0,0   0,1   0:03.19 tracker+ \n",
"   1124 wallabot  20   0  390740   8688   7416 S   0,0   0,0   0:00.45 gnome-k+ \n",
"   1128 wallabot  20   0  166804   6596   5956 S   0,0   0,0   0:00.00 gdm-x-s+ \n",
"   1134 wallabot  20   0    9152   6144   3796 S   0,0   0,0   0:01.81 dbus-da+\n"
          ]
        }
      ],
      "source": [
      "!u"
      ]
    },
{
      "cell_type": "markdown",
      "metadata": {},
      "source": [
      "Outra maneira de ver isso seria poder filtrar por usuário, ou seja, criar um pipeline e usar o `grep`."
      ]
    },
{
      "cell_type": "code",
      "execution_count": 191,
      "metadata": {},
      "outputs": [
      {
          "name": "stdout",
          "output_type": "stream",
          "text": [
          "   1440 wallabot  20   0 4684708 505432 118024 S   6,7   1,5   2:05.92 gnome-s+ \n",
"  25326 wallabot  20   0 1133,0g 527912 123732 S   1,7   1,6   1:31.73 chrome   \n",
"   1440 wallabot  20   0 4684708 505476 118024 S   1,3   1,5   2:05.96 gnome-s+ \n",
"   6199 wallabot  20   0 1131,0g 266068 116164 S   0,3   0,8   0:15.23 chrome   \n",
"  17606 wallabot  20   0  818228  52096  39488 S   0,3   0,2   0:02.59 gnome-t+ \n",
"  34284 wallabot  20   0   14876   4376   3308 R   0,3   0,0   0:00.02 top\n"
          ]
        }
      ],
      "source": [
      "!top | grep wallabot"
      ]
    },
{
      "cell_type": "markdown",
      "metadata": {},
      "source": [
      "### Manipulador de processo `htop"
      ]
    },
{
      "cell_type": "markdown",
      "metadata": {},
      "source": [
      "É semelhante ao `top`, mas mais avançado\n",
"\n",
"Você provavelmente não o tem instalado, portanto, para instalá-lo, digite o comando\n",
"\n",
"``` bash\n",
"sudo apt install htop\n",
"```\n",
"\n",
"o\n",
"\n",
"``` bash\n",
"sudo snap install htop\n",
"```"
      ]
    },
{
      "cell_type": "markdown",
      "metadata": {},
      "source": [
      "### Manipulador de processos `glances`"
      ]
    },
{
      "cell_type": "markdown",
      "metadata": {},
      "source": [
      "É semelhante ao `top`, mas mais avançado\n",
"\n",
"Você provavelmente não o tem instalado, portanto, para instalá-lo, digite o comando\n",
"\n",
"``` bash\n",
"sudo apt install glances\n",
"```"
      ]
    },
{
      "cell_type": "markdown",
      "metadata": {},
      "source": [
      "## Gerenciamento de RAM"
      ]
    },
{
      "cell_type": "markdown",
      "metadata": {},
      "source": [
      "Se quisermos obter apenas informações sobre a memória, podemos usar o comando `free`."
      ]
    },
{
      "cell_type": "code",
      "execution_count": 8,
      "metadata": {},
      "outputs": [
      {
          "name": "stdout",
          "output_type": "stream",
          "text": [
          "              total       usado       libre  compartido búfer/caché  disponible\n",
"Memoria:    32774516     6563544    20091804      276296     6119168    25479600\n",
"Swap:       2097148           0     2097148\n"
          ]
        }
      ],
      "source": [
      "!free"
      ]
    },
{
      "cell_type": "markdown",
      "metadata": {},
      "source": [
      "Mas como essas informações não são muito fáceis de digerir, adicionamos o sinalizador `-h` (humano) para facilitar a leitura."
      ]
    },
{
      "cell_type": "code",
      "execution_count": 9,
      "metadata": {},
      "outputs": [
      {
          "name": "stdout",
          "output_type": "stream",
          "text": [
          "              total       usado       libre  compartido búfer/caché  disponible\n",
"Memoria:        31Gi       6,3Gi        19Gi       270Mi       5,8Gi        24Gi\n",
"Swap:         2,0Gi          0B       2,0Gi\n"
          ]
        }
      ],
      "source": [
      "!free -h"
      ]
    },
{
      "cell_type": "markdown",
      "metadata": {},
      "source": [
      "## Gerenciamento do disco rígido"
      ]
    },
{
      "cell_type": "markdown",
      "metadata": {},
      "source": [
      "Para obter informações do disco rígido, usamos o comando `du`. Se digitarmos esse comando apenas pelo terminal, ele nos fornecerá as informações de todas as pastas de nossa máquina, portanto, para não obtermos muitas informações, é necessário digitar um caminho que desejamos verificar."
      ]
    },
{
      "cell_type": "code",
      "execution_count": 10,
      "metadata": {},
      "outputs": [
      {
          "name": "stdout",
          "output_type": "stream",
          "text": [
          "8\t/home/wallabot/Documentos/web/portafolio/posts/__pycache__\n",
"1648\t/home/wallabot/Documentos/web/portafolio/posts/notebooks_translated\n",
"4288\t/home/wallabot/Documentos/web/portafolio/posts/html_files\n",
"336\t/home/wallabot/Documentos/web/portafolio/posts/prueba/tocompress\n",
"1132\t/home/wallabot/Documentos/web/portafolio/posts/prueba\n",
"16\t/home/wallabot/Documentos/web/portafolio/posts/introduccion_python/__pycache__\n",
"28\t/home/wallabot/Documentos/web/portafolio/posts/introduccion_python\n",
"11232\t/home/wallabot/Documentos/web/portafolio/posts/\n"
          ]
        }
      ],
      "source": [
      "!du ~/Documentos/web/portafolio/posts/"
      ]
    },
{
      "cell_type": "markdown",
      "metadata": {},
      "source": [
      "Como antes, adicionamos o sinalizador `-h` (humano) para facilitar a leitura."
      ]
    },
{
      "cell_type": "code",
      "execution_count": 11,
      "metadata": {},
      "outputs": [
      {
          "name": "stdout",
          "output_type": "stream",
          "text": [
          "8,0K\t/home/wallabot/Documentos/web/portafolio/posts/__pycache__\n",
"1,7M\t/home/wallabot/Documentos/web/portafolio/posts/notebooks_translated\n",
"4,2M\t/home/wallabot/Documentos/web/portafolio/posts/html_files\n",
"336K\t/home/wallabot/Documentos/web/portafolio/posts/prueba/tocompress\n",
"1,2M\t/home/wallabot/Documentos/web/portafolio/posts/prueba\n",
"16K\t/home/wallabot/Documentos/web/portafolio/posts/introduccion_python/__pycache__\n",
"28K\t/home/wallabot/Documentos/web/portafolio/posts/introduccion_python\n",
"11M\t/home/wallabot/Documentos/web/portafolio/posts/\n"
          ]
        }
      ],
      "source": [
      "!du ~/Documentos/web/portafolio/posts/ -h"
      ]
    },
{
      "cell_type": "markdown",
      "metadata": {},
      "source": [
      "## Gerenciamento de interface"
      ]
    },
{
      "cell_type": "markdown",
      "metadata": {},
      "source": [
      "No Ubuntu, por padrão, inicializamos em uma interface gráfica, mas podemos abrir outras interfaces, que não serão gráficas, digitando `CTRL`+`ALT`+`F<num>`, em que o número pode variar de 1 a 6. Apenas 2 terão a interface gráfica e 1 será o login."
      ]
    },
{
      "cell_type": "markdown",
      "metadata": {},
      "source": [
      "Ao lidar com várias interfaces, talvez não saibamos em qual delas estamos, portanto, digitar o comando `tty` nos informará em qual delas estamos."
      ]
    },
{
      "cell_type": "code",
      "execution_count": 1,
      "metadata": {},
      "outputs": [
      {
          "name": "stdout",
          "output_type": "stream",
          "text": [
          "/dev/pts/0\n"
          ]
        }
      ],
      "source": [
      "!tty"
      ]
    },
{
      "cell_type": "markdown",
      "metadata": {},
      "source": [
      "## Manuseio de pacotes"
      ]
    },
{
      "cell_type": "markdown",
      "metadata": {},
      "source": [
      "### Repositórios PPA (Personal Package Archives)"
      ]
    },
{
      "cell_type": "markdown",
      "metadata": {},
      "source": [
      "No Linux, o gerenciamento de pacotes é feito por meio de repositórios. Essa é uma lista de endereços onde estão localizados os binários de nossos programas. Assim, quando quisermos atualizar ou instalar nossos programas (explicaremos como mais tarde), o que o sistema operacional fará é ver a lista desses repositórios e ir até os endereços indicados para procurar os binários."
      ]
    },
{
      "cell_type": "markdown",
      "metadata": {},
      "source": [
      "Essa lista de repositórios está localizada em `/etc/apt/sources.list` e dentro da pasta `/etc/apt/sources.list.d`. Vamos dar uma olhada nessa lista"
      ]
    },
{
      "cell_type": "code",
      "execution_count": 19,
      "metadata": {},
      "outputs": [
      {
          "name": "stdout",
          "output_type": "stream",
          "text": [
          "# deb cdrom:[Ubuntu 20.04.2.0 LTS _Focal Fossa_ - Release amd64 (20210209.1)]/ focal main restricted\n",
"\n",
"# See http://help.ubuntu.com/community/UpgradeNotes for how to upgrade to\n",
"# newer versions of the distribution.\n",
"deb http://es.archive.ubuntu.com/ubuntu/ focal main restricted\n",
"# deb-src http://es.archive.ubuntu.com/ubuntu/ focal main restricted\n",
"\n",
"## Major bug fix updates produced after the final release of the\n",
"## distribution.\n",
"deb http://es.archive.ubuntu.com/ubuntu/ focal-updates main restricted\n",
"\t ...\n",
"deb https://developer.download.nvidia.com/compute/cuda/repos/ubuntu2004/x86_64/ /\n",
"# deb-src https://developer.download.nvidia.com/compute/cuda/repos/ubuntu2004/x86_64/ /\n",
"deb https://apt.kitware.com/ubuntu/ focal main\n",
"# deb-src https://apt.kitware.com/ubuntu/ focal main\n",
"\n"
          ]
        }
      ],
      "source": [
      "terminal(\"cat /etc/apt/sources.list\", max_lines_output=10)"
      ]
    },
{
      "cell_type": "markdown",
      "metadata": {},
      "source": [
      "As primeiras linhas que incluem a palavra `cd-rom` são referências ao cd de instalação, elas sempre vêm com as palavras `deb cdrom:`, mesmo que tenha sido instalado via rede ou usb.\n",
"\n",
"A partir desse ponto, você começa a ver várias linhas que começam com `deb` ou `deb-src`. O `deb` contém os binários e o `deb-src` contém o código-fonte.\n",
"\n",
"Todo endereço de repositório válido tem um desses formatos:\n",
"\n",
" * deb http://direccion_del_servidor/nombre_carpeta version_name (main ou universe ou multiverse ou main restricted, etc.)\n",
" * deb-src http://direccion_del_servidor/nombre_carpeta nome_da_versão (principal ou universo ou multiverso ou principal restrito, etc.)"
      ]
    },
{
      "cell_type": "markdown",
      "metadata": {},
      "source": [
      "Os seis tipos de repositórios do Ubuntu são :\n",
" 1. principal\n",
"\n",
"Main é o repositório principal do Ubuntu. O repositório `Main` é ativado por padrão e contém apenas software livre e de código aberto ou `FOSS` (Free and Open Source Software). Todos os softwares fornecidos pelo `Main` podem ser distribuídos livremente e sem restrições.\n",
"\n",
" 2. universo\n",
"\n",
"Assim como o `Main`, o `Universe` também oferece o `FOSS`. A diferença é que, nesse repositório, não é o Ubuntu que garante atualizações de segurança regulares, mas a comunidade que o suporta. Ele é ativado por padrão, mas nem sempre. Alguns sistemas operacionais o têm desativado por padrão e talvez seja necessário ativá-lo se estivermos executando uma Live Session. Se não o tivermos adicionado, podemos fazê-lo com este comando:\n",
"    \n",
"``` bash\n",
"sudo add-apt-repository universe\n",
"```\n",
"\n",
"O que encontramos no Universe? Eu diria que a maioria dos softwares que valem a pena, incluindo o VLC ou o OpenShot.\n",
"\n",
" 3. multiverso\n",
"\n",
"Daí vêm os repositórios do Ubuntu com menos liberdade: o `Multiverse` contém software que não é mais `FOSS` e o Ubuntu não pode ativar esse repositório por padrão devido a questões legais e de licenciamento. Por outro lado, ele também não pode fornecer patches e atualizações. Com isso em mente, temos que considerar se devemos adicioná-lo ou não, o que podemos fazer com este comando:\n",
"\n",
"``` bash\n",
"sudo add-apt-repository multiverse\n",
"```\n",
"\n",
" 4. restrito\n",
"\n",
"Nos repositórios do Ubuntu, podemos encontrar software gratuito e de código aberto, mas isso não é possível quando se trata de hardware. Nos repositórios `Restricted` você encontrará drivers, como os de placas de vídeo, painéis de toque ou placas de rede.\n",
"\n",
"``` bash\n",
"sudo add-apt-repository restricted\n",
"```\n",
"\n",
" 5. parceiro\n",
"\n",
"Este repositório contém software proprietário compilado pelo Ubuntu a partir de seus parceiros.\n",
"\n",
" 6. repositórios de terceiros do Ubuntu\n",
"\n",
"Por fim, há os repositórios de terceiros. O Ubuntu sempre tenta oferecer a melhor experiência ao usuário e essa é uma das razões pelas quais ele rejeita determinados softwares. Há também desenvolvedores que preferem ter controle total sobre o que oferecem e, portanto, criam seus próprios repositórios."
      ]
    },
{
      "cell_type": "markdown",
      "metadata": {},
      "source": [
      "### Adicionar repositórios"
      ]
    },
{
      "cell_type": "markdown",
      "metadata": {},
      "source": [
      "Se estivermos no Ubuntu, poderemos adicionar um repositório usando o comando `add-apt-repository <repositório>`. Mas como em outras distribuições que não o Ubuntu não temos esse comando"
      ]
    },
{
      "cell_type": "markdown",
      "metadata": {},
      "source": [
      "### Atualizar repositórios"
      ]
    },
{
      "cell_type": "markdown",
      "metadata": {},
      "source": [
      "Usando o comando `apt update`, podemos atualizar as versões mais recentes dos pacotes em nosso repositório."
      ]
    },
{
      "cell_type": "markdown",
      "metadata": {},
      "source": [
      "### Atualizar pacotes"
      ]
    },
{
      "cell_type": "markdown",
      "metadata": {},
      "source": [
      "Por meio do comando `apt upgrade`, podemos atualizar os programas que instalamos e cujo repositório foi atualizado anteriormente."
      ]
    },
{
      "cell_type": "markdown",
      "metadata": {},
      "source": [
      "### Atualizar o kernel"
      ]
    },
{
      "cell_type": "markdown",
      "metadata": {},
      "source": [
      "O uso do comando `apt dist-upgrade` também atualizará os pacotes do kernel.\n",
"\n",
" > Cuidado: a atualização dos pacotes do kernel pode resultar em pacotes quebrados\n",
"\n",
" > Lembrete: ao atualizar os pacotes do kernel, é necessário reiniciar o computador para que a atualização tenha efeito."
      ]
    },
{
      "cell_type": "markdown",
      "metadata": {},
      "source": [
      "### Procurar por pacotes"
      ]
    },
{
      "cell_type": "markdown",
      "metadata": {},
      "source": [
      "Com o comando `apt search <package>`, podemos encontrar pacotes"
      ]
    },
{
      "cell_type": "code",
      "execution_count": 5,
      "metadata": {},
      "outputs": [
      {
          "name": "stdout",
          "output_type": "stream",
          "text": [
          "Ordenando...\n",
"Buscar en todo el texto...\n",
"anacrolix-dms/focal 1.1.0-1 amd64\n",
"  Go UPnP DLNA Digital Media Server with basic video transcoding\n",
"\n",
"cubemap/focal 1.4.3-1build1 amd64\n",
"  scalable video reflector, designed to be used with VLC\n",
"\n",
"dvblast/focal 3.4-1 amd64\n",
"  Simple and powerful dvb-streaming application\n",
"\t ...\n",
"\n",
"x264/focal 2:0.155.2917+git0a84d98-2 amd64\n",
"  video encoder for the H.264/MPEG-4 AVC standard\n",
"\n",
"\n"
          ]
        }
      ],
      "source": [
      "terminal(\"apt search vlc\", max_lines_output=10)"
      ]
    },
{
      "cell_type": "markdown",
      "metadata": {},
      "source": [
      "### Lista de pacotes instalados"
      ]
    },
{
      "cell_type": "markdown",
      "metadata": {},
      "source": [
      "Para ver quais pacotes foram instalados, podemos usar o `dpkg -l`, que nos fornecerá uma lista de todos os pacotes instalados em nosso computador."
      ]
    },
{
      "cell_type": "code",
      "execution_count": 6,
      "metadata": {},
      "outputs": [
      {
          "name": "stdout",
          "output_type": "stream",
          "text": [
          "Deseado=desconocido(U)/Instalar/eliminaR/Purgar/retener(H)\n",
"| Estado=No/Inst/ficheros-Conf/desempaqUetado/medio-conF/medio-inst(H)/espera-disparo(W)/pendienTe-disparo\n",
"|/ Err?=(ninguno)/requiere-Reinst (Estado,Err: mayúsc.=malo)\n",
"||/ Nombre                                     Versión                               Arquitectura Descripción\n",
"+++-==========================================-=====================================-============-===========================================================================================================================================================================================================================================================================================================================================================================================================================================\n",
"ii  accountsservice                            0.6.55-0ubuntu12~20.04.5              amd64        query and manipulate user account information\n",
"ii  acl                                        2.2.53-6                              amd64        access control list - utilities\n",
"ii  acpi-support                               0.143                                 amd64        scripts for handling many ACPI events\n",
"ii  acpid                                      1:2.0.32-1ubuntu1                     amd64        Advanced Configuration and Power Interface event daemon\n",
"ii  adduser                                    3.118ubuntu2                          all          add and remove users and groups\n",
"\t ...\n",
"ii  zip                                        3.0-11build1                          amd64        Archiver for .zip files\n",
"ii  zlib1g:amd64                               1:1.2.11.dfsg-2ubuntu1.5              amd64        compression library - runtime\n",
"ii  zlib1g:i386                                1:1.2.11.dfsg-2ubuntu1.5              i386         compression library - runtime\n",
"ii  zlib1g-dev:amd64                           1:1.2.11.dfsg-2ubuntu1.5              amd64        compression library - development\n",
"\n"
          ]
        }
      ],
      "source": [
      "terminal(\"dpkg -l\", max_lines_output=10)"
      ]
    },
{
      "cell_type": "markdown",
      "metadata": {},
      "source": [
      "Se quisermos descobrir se temos um pacote instalado, podemos usar o comando acima, criar um `pipe` e procurar o nome do pacote com o `grep`."
      ]
    },
{
      "cell_type": "code",
      "execution_count": 7,
      "metadata": {},
      "outputs": [
      {
          "name": "stdout",
          "output_type": "stream",
          "text": [
          "Deseado=desconocido(U)/Instalar/eliminaR/Purgar/retener(H)\n",
"| Estado=No/Inst/ficheros-Conf/desempaqUetado/medio-conF/medio-inst(H)/espera-disparo(W)/pendienTe-disparo\n",
"|/ Err?=(ninguno)/requiere-Reinst (Estado,Err: mayúsc.=malo)\n",
"||/ Nombre         Versión      Arquitectura Descripción\n",
"+++-==============-============-============-=================================\n",
"ii  grep           3.4-1        amd64        GNU grep, egrep and fgrep\n",
"ii  vlc            3.0.9.2-1    amd64        multimedia player and streamer\n",
"\n"
          ]
        }
      ],
      "source": [
      "terminal(\"dpkg -l | grep vlc\")"
      ]
    },
{
      "cell_type": "markdown",
      "metadata": {},
      "source": [
      "### Instalar pacotes baixados e não de repositórios"
      ]
    },
{
      "cell_type": "markdown",
      "metadata": {},
      "source": [
      "Às vezes, quando você deseja instalar um programa, o que eles fazem é fornecer um arquivo `.deb` e, para instalá-lo, usamos o comando `dpkg -i <arquivo.deb>`."
      ]
    },
{
      "cell_type": "markdown",
      "metadata": {},
      "source": [
      "## Administrador do usuário"
      ]
    },
{
      "cell_type": "markdown",
      "metadata": {},
      "source": [
      "### Informações do usuário ativo com `id`."
      ]
    },
{
      "cell_type": "markdown",
      "metadata": {},
      "source": [
      "Ao usar o comando `id`, posso ver qual é o meu usuário"
      ]
    },
{
      "cell_type": "code",
      "execution_count": 8,
      "metadata": {},
      "outputs": [
      {
          "name": "stdout",
          "output_type": "stream",
          "text": [
          "uid=1000(wallabot) gid=1000(wallabot) grupos=1000(wallabot),4(adm),24(cdrom),27(sudo),30(dip),46(plugdev),120(lpadmin),131(lxd),132(sambashare),998(docker)\n"
          ]
        }
      ],
      "source": [
      "!id"
      ]
    },
{
      "cell_type": "markdown",
      "metadata": {},
      "source": [
      "Com esse comando, posso ver meu `id`, o `gid` do grupo e os grupos aos quais pertenço. Nas distribuições baseadas no debian, os usuários recebem um id a partir de 1000, enquanto o usuário root recebe o `id` 0."
      ]
    },
{
      "cell_type": "markdown",
      "metadata": {},
      "source": [
      "### Informações do usuário ativo com `whoami`."
      ]
    },
{
      "cell_type": "markdown",
      "metadata": {},
      "source": [
      "Outro comando para descobrir qual é o meu usuário é o `whoami`."
      ]
    },
{
      "cell_type": "code",
      "execution_count": 9,
      "metadata": {},
      "outputs": [
      {
          "name": "stdout",
          "output_type": "stream",
          "text": [
          "wallabot\n"
          ]
        }
      ],
      "source": [
      "!whoami"
      ]
    },
{
      "cell_type": "markdown",
      "metadata": {},
      "source": [
      "### Arquivo com as informações de todos os usuários"
      ]
    },
{
      "cell_type": "markdown",
      "metadata": {},
      "source": [
      "As informações do usuário estão no arquivo `/etc/passwd`."
      ]
    },
{
      "cell_type": "code",
      "execution_count": 11,
      "metadata": {},
      "outputs": [
      {
          "name": "stdout",
          "output_type": "stream",
          "text": [
          "root:x:0:0:root:/root:/bin/bash\n",
"daemon:x:1:1:daemon:/usr/sbin:/usr/sbin/nologin\n",
"bin:x:2:2:bin:/bin:/usr/sbin/nologin\n",
"sys:x:3:3:sys:/dev:/usr/sbin/nologin\n",
"sync:x:4:65534:sync:/bin:/bin/sync\n",
"games:x:5:60:games:/usr/games:/usr/sbin/nologin\n",
"man:x:6:12:man:/var/cache/man:/usr/sbin/nologin\n",
"lp:x:7:7:lp:/var/spool/lpd:/usr/sbin/nologin\n",
"mail:x:8:8:mail:/var/mail:/usr/sbin/nologin\n",
"news:x:9:9:news:/var/spool/news:/usr/sbin/nologin\n",
"\t ...\n",
"sshd:x:126:65534::/run/sshd:/usr/sbin/nologin\n",
"nvidia-persistenced:x:127:135:NVIDIA Persistence Daemon,,,:/nonexistent:/usr/sbin/nologin\n",
"fwupd-refresh:x:128:136:fwupd-refresh user,,,:/run/systemd:/usr/sbin/nologin\n",
"glances:x:129:137::/var/lib/glances:/usr/sbin/nologin\n",
"\n"
          ]
        }
      ],
      "source": [
      "terminal(\"cat /etc/passwd\", max_lines_output=10)"
      ]
    },
{
      "cell_type": "markdown",
      "metadata": {},
      "source": [
      "### Alterar a senha de um usuário"
      ]
    },
{
      "cell_type": "markdown",
      "metadata": {},
      "source": [
      "Se eu quiser alterar a senha de um usuário, preciso usar o comando `passwd <user> <password`; se o usuário não for especificado, ele usará o que o comando `whoami` retornar."
      ]
    },
{
      "cell_type": "markdown",
      "metadata": {},
      "source": [
      "### Criar usuários com `useradd`."
      ]
    },
{
      "cell_type": "markdown",
      "metadata": {},
      "source": [
      "Para criar um novo usuário, use o comando `useradd <nome do usuário>`, vamos criar um novo usuário."
      ]
    },
{
      "cell_type": "code",
      "execution_count": 11,
      "metadata": {},
      "outputs": [
      {
          "name": "stdout",
          "output_type": "stream",
          "text": [
          "\n"
          ]
        }
      ],
      "source": [
      "!sudo useradd usertest1"
      ]
    },
{
      "cell_type": "markdown",
      "metadata": {},
      "source": [
      "Vamos ver se ele está no arquivo com todos os usuários."
      ]
    },
{
      "cell_type": "code",
      "execution_count": 1,
      "metadata": {},
      "outputs": [
      {
          "name": "stdout",
          "output_type": "stream",
          "text": [
          "usertest1:x:1001:1001::/home/usertest1:/bin/sh\n"
          ]
        }
      ],
      "source": [
      "!cat /etc/passwd | grep usertest"
      ]
    },
{
      "cell_type": "markdown",
      "metadata": {},
      "source": [
      "Como podemos ver, o usuário foi criado com o `id` 1001, o próximo ao que meu usuário wallabot tinha, que era o último."
      ]
    },
{
      "cell_type": "markdown",
      "metadata": {},
      "source": [
      "No entanto, ao criar esse usuário, ele não nos pediu para atribuir uma senha. Além disso, se observarmos o que está dentro de `home`"
      ]
    },
{
      "cell_type": "code",
      "execution_count": 2,
      "metadata": {},
      "outputs": [
      {
          "name": "stdout",
          "output_type": "stream",
          "text": [
          "wallabot\n"
          ]
        }
      ],
      "source": [
      "!ls /home"
      ]
    },
{
      "cell_type": "markdown",
      "metadata": {},
      "source": [
      "Somente a pasta de usuário `wallabot` está lá, mas não a pasta de usuário `test1`."
      ]
    },
{
      "cell_type": "markdown",
      "metadata": {},
      "source": [
      "### Criar usuários com `adduser`."
      ]
    },
{
      "cell_type": "markdown",
      "metadata": {},
      "source": [
      "Portanto, vamos examinar outro comando para criar usuários que solicita uma senha e cria uma pasta em `home`. Esse comando é o `adduser`."
      ]
    },
{
      "cell_type": "code",
      "execution_count": 11,
      "metadata": {},
      "outputs": [
      {
          "name": "stdout",
          "output_type": "stream",
          "text": [
          "[sudo] contraseña para wallabot: \n",
"Añadiendo el usuario `usertest2' ...\n",
"Añadiendo el nuevo grupo `usertest2' (1002) ...\n",
"Añadiendo el nuevo usuario `usertest2' (1002) con grupo `usertest2' ...\n",
"Creando el directorio personal `/home/usertest2' ...\n",
"Copiando los ficheros desde `/etc/skel' ...\n",
"Nueva contraseña: \n",
"Vuelva a escribir la nueva contraseña: \n",
"passwd: contraseña actualizada correctamente\n",
"Cambiando la información de usuario para usertest2\n",
"Introduzca el nuevo valor, o presione INTRO para el predeterminado\n",
"\tNombre completo []: \n",
"\tNúmero de habitación []: \n",
"\tTeléfono del trabajo []: \n",
"\tTeléfono de casa []: \n",
"\tOtro []: \n",
"¿Es correcta la información? [S/n] s\n"
          ]
        }
      ],
      "source": [
      "!sudo adduser usertest2"
      ]
    },
{
      "cell_type": "markdown",
      "metadata": {},
      "source": [
      "Se olharmos o arquivo com todos os usuários"
      ]
    },
{
      "cell_type": "code",
      "execution_count": 3,
      "metadata": {},
      "outputs": [
      {
          "name": "stdout",
          "output_type": "stream",
          "text": [
          "usertest1:x:1001:1001::/home/usertest1:/bin/sh\n",
"usertest2:x:1002:1002:,,,:/home/usertest2:/bin/bash\n"
          ]
        }
      ],
      "source": [
      "!cat /etc/passwd | grep usertest"
      ]
    },
{
      "cell_type": "markdown",
      "metadata": {},
      "source": [
      "Vemos que o usuário `usertest2` foi criado."
      ]
    },
{
      "cell_type": "code",
      "execution_count": 4,
      "metadata": {},
      "outputs": [
      {
          "name": "stdout",
          "output_type": "stream",
          "text": [
          "usertest2  wallabot\n"
          ]
        }
      ],
      "source": [
      "!ls /home"
      ]
    },
{
      "cell_type": "markdown",
      "metadata": {},
      "source": [
      "E vemos que foi criada uma pasta para ele em `home`."
      ]
    },
{
      "cell_type": "markdown",
      "metadata": {},
      "source": [
      "Para excluir um usuário, use o comando `userdel <nome do usuário>`."
      ]
    },
{
      "cell_type": "code",
      "execution_count": 11,
      "metadata": {},
      "outputs": [
      {
          "name": "stdout",
          "output_type": "stream",
          "text": [
          "\n"
          ]
        }
      ],
      "source": [
      "!sudo userdel usertest1"
      ]
    },
{
      "cell_type": "code",
      "execution_count": 11,
      "metadata": {},
      "outputs": [
      {
          "name": "stdout",
          "output_type": "stream",
          "text": [
          "\n"
          ]
        }
      ],
      "source": [
      "!sudo userdel usertest2"
      ]
    },
{
      "cell_type": "markdown",
      "metadata": {},
      "source": [
      "Vamos ver se eles estão no arquivo com todos os usuários."
      ]
    },
{
      "cell_type": "code",
      "execution_count": 5,
      "metadata": {},
      "outputs": [],
      "source": [
      "!cat /etc/passwd | grep usertest"
      ]
    },
{
      "cell_type": "markdown",
      "metadata": {},
      "source": [
      "Vemos que nada mais aparece, na verdade, vemos o fim desse arquivo."
      ]
    },
{
      "cell_type": "code",
      "execution_count": 17,
      "metadata": {},
      "outputs": [
      {
          "name": "stdout",
          "output_type": "stream",
          "text": [
          "geoclue:x:122:127::/var/lib/geoclue:/usr/sbin/nologin\n",
"pulse:x:123:128:PulseAudio daemon,,,:/var/run/pulse:/usr/sbin/nologin\n",
"gnome-initial-setup:x:124:65534::/run/gnome-initial-setup/:/bin/false\n",
"gdm:x:125:130:Gnome Display Manager:/var/lib/gdm3:/bin/false\n",
"wallabot:x:1000:1000:wallabot,,,:/home/wallabot:/bin/bash\n",
"systemd-coredump:x:999:999:systemd Core Dumper:/:/usr/sbin/nologin\n",
"sshd:x:126:65534::/run/sshd:/usr/sbin/nologin\n",
"nvidia-persistenced:x:127:135:NVIDIA Persistence Daemon,,,:/nonexistent:/usr/sbin/nologin\n",
"fwupd-refresh:x:128:136:fwupd-refresh user,,,:/run/systemd:/usr/sbin/nologin\n",
"glances:x:129:137::/var/lib/glances:/usr/sbin/nologin\n"
          ]
        }
      ],
      "source": [
      "!tail /etc/passwd"
      ]
    },
{
      "cell_type": "markdown",
      "metadata": {},
      "source": [
      "## Crie um usuário administrador"
      ]
    },
{
      "cell_type": "markdown",
      "metadata": {},
      "source": [
      "Primeiro, vamos criar um novo usuário, que não será um administrador no início."
      ]
    },
{
      "cell_type": "code",
      "execution_count": 11,
      "metadata": {},
      "outputs": [
      {
          "name": "stdout",
          "output_type": "stream",
          "text": [
          "Añadiendo el usuario `noadmin' ...\n",
"Añadiendo el nuevo grupo `noadmin' (1001) ...\n",
"Añadiendo el nuevo usuario `noadmin' (1001) con grupo `noadmin' ...\n",
"Creando el directorio personal `/home/noadmin' ...\n",
"Copiando los ficheros desde `/etc/skel' ...\n",
"Nueva contraseña: \n",
"Vuelva a escribir la nueva contraseña: \n",
"passwd: contraseña actualizada correctamente\n",
"Cambiando la información de usuario para noadmin\n",
"Introduzca el nuevo valor, o presione INTRO para el predeterminado\n",
"\tNombre completo []: \n",
"\tNúmero de habitación []: \n",
"\tTeléfono del trabajo []: \n",
"\tTeléfono de casa []: \n",
"\tOtro []: \n",
"¿Es correcta la información? [S/n] s\n"
          ]
        }
      ],
      "source": [
      "!sudo adduser noadmin"
      ]
    },
{
      "cell_type": "markdown",
      "metadata": {},
      "source": [
      "Vamos ver em quais grupos o usuário que acabamos de criar está, usando o comando `groups <user>`."
      ]
    },
{
      "cell_type": "code",
      "execution_count": 6,
      "metadata": {},
      "outputs": [
      {
          "name": "stdout",
          "output_type": "stream",
          "text": [
          "noadmin : noadmin\n"
          ]
        }
      ],
      "source": [
      "!groups noadmin"
      ]
    },
{
      "cell_type": "markdown",
      "metadata": {},
      "source": [
      "Como podemos ver, ele está apenas no grupo `noadmin`, que é um grupo que foi criado quando o usuário foi criado."
      ]
    },
{
      "cell_type": "markdown",
      "metadata": {},
      "source": [
      "Vamos ver a quais grupos meu usuário pertence"
      ]
    },
{
      "cell_type": "code",
      "execution_count": 7,
      "metadata": {},
      "outputs": [
      {
          "name": "stdout",
          "output_type": "stream",
          "text": [
          "wallabot : wallabot adm cdrom sudo dip plugdev lpadmin lxd sambashare docker\n"
          ]
        }
      ],
      "source": [
      "!groups wallabot"
      ]
    },
{
      "cell_type": "markdown",
      "metadata": {},
      "source": [
      "Como podemos ver, meu usuário pertence a vários outros grupos, incluindo um chamado `sudo`. Os usuários que têm acesso a esse grupo têm poderes de administrador, portanto, para que o novo usuário que criamos tenha esses poderes, devemos adicioná-lo ao grupo `sudo`."
      ]
    },
{
      "cell_type": "markdown",
      "metadata": {},
      "source": [
      "Para adicionar um usuário a um grupo, há duas maneiras: uma delas é com o comando `gpasswd -a <user> <group>`."
      ]
    },
{
      "cell_type": "code",
      "execution_count": 11,
      "metadata": {},
      "outputs": [
      {
          "name": "stdout",
          "output_type": "stream",
          "text": [
          "Añadiendo al usuario noadmin al grupo sudo\n"
          ]
        }
      ],
      "source": [
      "!sudo gpasswd -a noadmin sudo"
      ]
    },
{
      "cell_type": "markdown",
      "metadata": {},
      "source": [
      "Agora vemos a quais grupos o usuário `noadmin` pertence."
      ]
    },
{
      "cell_type": "code",
      "execution_count": 8,
      "metadata": {},
      "outputs": [
      {
          "name": "stdout",
          "output_type": "stream",
          "text": [
          "noadmin : noadmin sudo\n"
          ]
        }
      ],
      "source": [
      "!groups noadmin"
      ]
    },
{
      "cell_type": "markdown",
      "metadata": {},
      "source": [
      "Como podemos ver, ele já pertence ao grupo sudo, portanto, já tem poderes de administrador."
      ]
    },
{
      "cell_type": "markdown",
      "metadata": {},
      "source": [
      "Remova o usuário `noadmin` do grupo `sudo` com o comando `gpasswd -d <user> <group>`."
      ]
    },
{
      "cell_type": "code",
      "execution_count": 7,
      "metadata": {},
      "outputs": [
      {
          "name": "stdout",
          "output_type": "stream",
          "text": [
          "Eliminando al usuario noadmin del grupo sudo\n"
          ]
        }
      ],
      "source": [
      "!sudo gpasswd -d noadmin sudo"
      ]
    },
{
      "cell_type": "markdown",
      "metadata": {},
      "source": [
      "Vemos que o `noadmin` não pertence mais ao grupo `sudo`."
      ]
    },
{
      "cell_type": "code",
      "execution_count": 10,
      "metadata": {},
      "outputs": [
      {
          "name": "stdout",
          "output_type": "stream",
          "text": [
          "noadmin : noadmin\n"
          ]
        }
      ],
      "source": [
      "!groups noadmin"
      ]
    },
{
      "cell_type": "markdown",
      "metadata": {},
      "source": [
      "O segundo comando para adicionar um usuário a um grupo é `usermod -aG <group> <user>`."
      ]
    },
{
      "cell_type": "code",
      "execution_count": 7,
      "metadata": {},
      "outputs": [
      {
          "name": "stdout",
          "output_type": "stream",
          "text": [
          "\n"
          ]
        }
      ],
      "source": [
      "!sudo usermod -aG sudo noadmin"
      ]
    },
{
      "cell_type": "markdown",
      "metadata": {},
      "source": [
      "Vamos examinar novamente a quais grupos o usuário `noadmin` pertence."
      ]
    },
{
      "cell_type": "code",
      "execution_count": 11,
      "metadata": {},
      "outputs": [
      {
          "name": "stdout",
          "output_type": "stream",
          "text": [
          "noadmin : noadmin sudo\n"
          ]
        }
      ],
      "source": [
      "!groups noadmin"
      ]
    },
{
      "cell_type": "markdown",
      "metadata": {},
      "source": [
      "Remova o usuário `noadmin` do grupo `sudo` e exclua-o."
      ]
    },
{
      "cell_type": "code",
      "execution_count": 7,
      "metadata": {},
      "outputs": [
      {
          "name": "stdout",
          "output_type": "stream",
          "text": [
          "Eliminando al usuario noadmin del grupo sudo\n"
          ]
        }
      ],
      "source": [
      "!sudo gpasswd -d noadmin sudo"
      ]
    },
{
      "cell_type": "code",
      "execution_count": 7,
      "metadata": {},
      "outputs": [
      {
          "name": "stdout",
          "output_type": "stream",
          "text": [
          "\n"
          ]
        }
      ],
      "source": [
      "!sudo userdel noadmin"
      ]
    },
{
      "cell_type": "markdown",
      "metadata": {},
      "source": [
      "## Histórico de comandos"
      ]
    },
{
      "cell_type": "markdown",
      "metadata": {},
      "source": [
      "### `histórico`"
      ]
    },
{
      "cell_type": "markdown",
      "metadata": {},
      "source": [
      "Se digitarmos o comando `history` no terminal, veremos um histórico dos comandos usados."
      ]
    },
{
      "cell_type": "code",
      "execution_count": 7,
      "metadata": {},
      "outputs": [
      {
          "name": "stdout",
          "output_type": "stream",
          "text": [
          " 1009  docker build . nvidia/cuda\n",
" 1010  docker build --help\n",
" 1011  docker build --build-arg nvidia/cuda\n",
" 1012  docker build --build-arg [nvidia/cuda]\n",
" 1013  cd ../docker/\n",
" 1014  docker ps -a\n",
" 1015  docker rm boring_wescoff \n",
" 1016  docker compose up -d\n",
" 1017  docker compose exec deepstream61 bash\n",
" 1018  cd ..\n",
"    ....\n",
" 1996  ps\n",
" 1997  ps aux\n",
" 1998  camerasIP.sh \n",
" 1999  sudo su\n",
" 2000  sudo useradd usertest\n",
" 2001  sudo userdel usertest\n",
" 2002  sudo useradd usertest\n",
" 2003  sudo userdel usertest\n",
" 2004  sudo su\n",
" 2005  sudo apt install history\n",
" 2006  history\n",
" 2007  clear\n",
" 2008  history\n"
          ]
        }
      ],
      "source": [
      "!history"
      ]
    },
{
      "cell_type": "markdown",
      "metadata": {},
      "source": [
      "Se quisermos executar um dos comandos no histórico, faremos isso por meio de `!<num comando>`, por exemplo, se eu quiser reexecutar o comando 1996"
      ]
    },
{
      "cell_type": "code",
      "execution_count": 7,
      "metadata": {},
      "outputs": [
      {
          "name": "stdout",
          "output_type": "stream",
          "text": [
          "    PID TTY          TIME CMD\n",
"   6610 pts/0    00:00:00 bash\n",
"  20826 pts/0    00:00:00 ps\n"
          ]
        }
      ],
      "source": [
      "! !1996"
      ]
    },
{
      "cell_type": "markdown",
      "metadata": {},
      "source": [
      "### `reverse-i-search`."
      ]
    },
{
      "cell_type": "markdown",
      "metadata": {},
      "source": [
      "Uma maneira mais refinada de pesquisar o histórico é digitar `CTRL`+`r`; ao fazer isso, a seguinte mensagem será exibida no console"
      ]
    },
{
      "cell_type": "code",
      "execution_count": 7,
      "metadata": {},
      "outputs": [
      {
          "name": "stdout",
          "output_type": "stream",
          "text": [
          "\n"
          ]
        }
      ],
      "source": [
      "!reverse-i-search)`':"
      ]
    },
{
      "cell_type": "markdown",
      "metadata": {},
      "source": [
      "Assim, à medida que você digitar, verá comandos que correspondem ao que você digitou; por exemplo, se eu digitar `if`, verei a última vez que usei `ifconfig`.\n",
"\n",
"Ao digitar novamente `CTRL`+`r`, as ocorrências mais antigas serão exibidas."
      ]
    },
{
      "cell_type": "markdown",
      "metadata": {},
      "source": [
      "### Excluir comandos do histórico"
      ]
    },
{
      "cell_type": "markdown",
      "metadata": {},
      "source": [
      "Há comandos como `ls`, `cd`, `pwd` que não são muito úteis para constar no histórico, portanto, você pode configurá-los para não serem salvos no histórico. Para fazer isso, modificamos o arquivo `~/.bashrc` e adicionamos a linha `HISTIGNORE=\"pwd:ls:cd\"`."
      ]
    },
{
      "cell_type": "markdown",
      "metadata": {},
      "source": [
      "## Segurança"
      ]
    },
{
      "cell_type": "markdown",
      "metadata": {},
      "source": [
      "### Fireward `ufw`"
      ]
    },
{
      "cell_type": "markdown",
      "metadata": {},
      "source": [
      "O Ubunut vem com o fireward `ufw` instalado, mas, para verificá-lo, usamos o seguinte comando"
      ]
    },
{
      "cell_type": "code",
      "execution_count": 7,
      "metadata": {},
      "outputs": [
      {
          "name": "stdout",
          "output_type": "stream",
          "text": [
          "Estado: inactivo\n"
          ]
        }
      ],
      "source": [
      "!sudo ufw status"
      ]
    },
{
      "cell_type": "markdown",
      "metadata": {},
      "source": [
      "Como podemos ver, por padrão ele está inativo, portanto, vamos criar um conjunto de regras. Por exemplo, vamos começar abrindo a porta 22 (SSH), para isso usamos o comando `sudo allow <port> comment \"<coment>\"`, com o qual abrimos uma porta e adicionamos um comentário"
      ]
    },
{
      "cell_type": "code",
      "execution_count": 7,
      "metadata": {},
      "outputs": [
      {
          "name": "stdout",
          "output_type": "stream",
          "text": [
          "Regla añadida\n",
"Regla añadida (v6)\n"
          ]
        }
      ],
      "source": [
      "!sudo ufw allow 22 comment 'ssh'"
      ]
    },
{
      "cell_type": "markdown",
      "metadata": {},
      "source": [
      "Como podemos ver, você abriu a porta 22 para IPv4 e IPv6. Agora vamos ativar o `ufW` com o comando `ufw enable`."
      ]
    },
{
      "cell_type": "code",
      "execution_count": 7,
      "metadata": {},
      "outputs": [
      {
          "name": "stdout",
          "output_type": "stream",
          "text": [
          "El cortafuegos está activo y habilitado en el arranque del sistema\n"
          ]
        }
      ],
      "source": [
      "!sudo ufw enable"
      ]
    },
{
      "cell_type": "markdown",
      "metadata": {},
      "source": [
      "Se quisermos ver as regras que temos no fireward, usaremos o comando `ufw status`."
      ]
    },
{
      "cell_type": "code",
      "execution_count": 7,
      "metadata": {},
      "outputs": [
      {
          "name": "stdout",
          "output_type": "stream",
          "text": [
          "Hasta                      Acción      Desde\n",
"-----                      ------      -----\n",
"22                         ALLOW       Anywhere                   # ssh\n",
"22 (v6)                    ALLOW       Anywhere (v6)              # ssh\n"
          ]
        }
      ],
      "source": [
      "!sudo ufw enable"
      ]
    },
{
      "cell_type": "markdown",
      "metadata": {},
      "source": [
      "Também podemos instruí-lo a exibir as regras numeradas com o comando `ufw status numbered`."
      ]
    },
{
      "cell_type": "code",
      "execution_count": 7,
      "metadata": {},
      "outputs": [
      {
          "name": "stdout",
          "output_type": "stream",
          "text": [
          "Estado: activo\n",
"\n",
"     Hasta                      Acción      Desde\n",
"     -----                      ------      -----\n",
"[ 1] 22                         ALLOW IN    Anywhere                   # ssh\n",
"[ 2] 22 (v6)                    ALLOW IN    Anywhere (v6)              # ssh\n"
          ]
        }
      ],
      "source": [
      "!sudo ufw status numbered"
      ]
    },
{
      "cell_type": "markdown",
      "metadata": {},
      "source": [
      "Como as regras estão numeradas, podemos excluir uma delas usando o comando `ufw delete <número da regra>`; portanto, para excluir a regra para IPv6, fazemos o seguinte"
      ]
    },
{
      "cell_type": "code",
      "execution_count": 7,
      "metadata": {},
      "outputs": [
      {
          "name": "stdout",
          "output_type": "stream",
          "text": [
          "Estado: activo\n",
"\n",
"Borrando:\n",
" allow 22 comment 'ssh'\n",
"¿Continuar con la operación (s|n)? s\n",
"Regla eliminada (v6)\n"
          ]
        }
      ],
      "source": [
      "!sudo ufw delete 2"
      ]
    },
{
      "cell_type": "markdown",
      "metadata": {},
      "source": [
      "Analisamos novamente o estado"
      ]
    },
{
      "cell_type": "code",
      "execution_count": 7,
      "metadata": {},
      "outputs": [
      {
          "name": "stdout",
          "output_type": "stream",
          "text": [
          "Estado: activo\n",
"\n",
"     Hasta                      Acción      Desde\n",
"     -----                      ------      -----\n",
"[ 1] 22                         ALLOW IN    Anywhere                   # ssh\n"
          ]
        }
      ],
      "source": [
      "!sudo ufw status numbered"
      ]
    },
{
      "cell_type": "markdown",
      "metadata": {},
      "source": [
      "Vemos que a regra número 2 foi de fato removida."
      ]
    },
{
      "cell_type": "markdown",
      "metadata": {},
      "source": [
      "Se quisermos ativar a conexão ssh de um único IP, usaremos o sinalizador `from <IP>`."
      ]
    },
{
      "cell_type": "code",
      "execution_count": 7,
      "metadata": {},
      "outputs": [
      {
          "name": "stdout",
          "output_type": "stream",
          "text": [
          "Regla añadida\n"
          ]
        }
      ],
      "source": [
      "!sudo ufw  allow from 192.168.1.103 proto tcp to any port 22 comment 'ssh ip'"
      ]
    },
{
      "cell_type": "markdown",
      "metadata": {},
      "source": [
      "Verificamos novamente as regras"
      ]
    },
{
      "cell_type": "code",
      "execution_count": 7,
      "metadata": {},
      "outputs": [
      {
          "name": "stdout",
          "output_type": "stream",
          "text": [
          "Estado: activo\n",
"\n",
"     Hasta                      Acción      Desde\n",
"     -----                      ------      -----\n",
"[ 1] 22                         ALLOW IN    Anywhere                   # ssh\n",
"[ 2] 22/tcp                     ALLOW IN    192.168.1.103              # ssh ip\n"
          ]
        }
      ],
      "source": [
      "!sudo ufw status numbered"
      ]
    },
{
      "cell_type": "markdown",
      "metadata": {},
      "source": [
      "Se quisermos excluir todas as regras, usaremos o comando `reset`."
      ]
    },
{
      "cell_type": "code",
      "execution_count": 7,
      "metadata": {},
      "outputs": [
      {
          "name": "stdout",
          "output_type": "stream",
          "text": [
          "Estado: activo\n",
"\n",
"Reiniciando todas las reglas a sus valores predeterminados instalados.\n",
"¿Continuar con la operación (s|n)? s\n",
"Respaldando «user.rules» en «/etc/ufw/user.rules.20221205_171730»\n",
"Respaldando «before.rules» en «/etc/ufw/before.rules.20221205_171730»\n",
"Respaldando «after.rules» en «/etc/ufw/after.rules.20221205_171730»\n",
"Respaldando «user6.rules» en «/etc/ufw/user6.rules.20221205_171730»\n",
"Respaldando «before6.rules» en «/etc/ufw/before6.rules.20221205_171730»\n",
"Respaldando «after6.rules» en «/etc/ufw/after6.rules.20221205_171730»\n"
          ]
        }
      ],
      "source": [
      "!sudo ufw reset"
      ]
    },
{
      "cell_type": "markdown",
      "metadata": {},
      "source": [
      "Verificamos novamente o status"
      ]
    },
{
      "cell_type": "code",
      "execution_count": 7,
      "metadata": {},
      "outputs": [
      {
          "name": "stdout",
          "output_type": "stream",
          "text": [
          "Estado: inactivo\n"
          ]
        }
      ],
      "source": [
      "!sudo ufw status numbered"
      ]
    },
{
      "cell_type": "markdown",
      "metadata": {},
      "source": [
      "Vemos que não há mais regras"
      ]
    },
{
      "cell_type": "markdown",
      "metadata": {},
      "source": [
      "Para desativar o fireward, usamos o comando `ufw disable`."
      ]
    },
{
      "cell_type": "code",
      "execution_count": 7,
      "metadata": {},
      "outputs": [
      {
          "name": "stdout",
          "output_type": "stream",
          "text": [
          "El cortafuegos está detenido y deshabilitado en el arranque del sistema\n"
          ]
        }
      ],
      "source": [
      "!sudo ufw disable"
      ]
    },
{
      "cell_type": "markdown",
      "metadata": {},
      "source": [
      "Verificamos novamente o status"
      ]
    },
{
      "cell_type": "code",
      "execution_count": 7,
      "metadata": {},
      "outputs": [
      {
          "name": "stdout",
          "output_type": "stream",
          "text": [
          "Estado: inactivo\n"
          ]
        }
      ],
      "source": [
      "!sudo ufw status"
      ]
    },
{
      "cell_type": "markdown",
      "metadata": {},
      "source": [
      "### Auditoria de segurança com o `Lynis`."
      ]
    },
{
      "cell_type": "markdown",
      "metadata": {},
      "source": [
      "Para instalar o Lynis, é necessário usar o comando `sudo apt install lynis`."
      ]
    },
{
      "cell_type": "markdown",
      "metadata": {},
      "source": [
      "Para auditar seu sistema, use o comando `lynis audit system`. Esse comando inicia uma varredura de todo o sistema e envia um relatório para você.\n",
"\n",
" > Não vou mostrar o resultado da verificação do meu sistema para não mostrar minhas vulnerabilidades na Internet."
      ]
    },
{
      "cell_type": "markdown",
      "metadata": {},
      "source": [
      "## Programação de comandos"
      ]
    },
{
      "cell_type": "markdown",
      "metadata": {},
      "source": [
      "### Programação de comandos periódicos com o `cron`."
      ]
    },
{
      "cell_type": "markdown",
      "metadata": {},
      "source": [
      "Com o comando `cron`, podemos agendar comandos para serem executados periodicamente. Para fazer isso, precisamos editar o arquivo `/etc/crontab`."
      ]
    },
{
      "cell_type": "code",
      "execution_count": 22,
      "metadata": {},
      "outputs": [
      {
          "name": "stdout",
          "output_type": "stream",
          "text": [
          "# /etc/crontab: system-wide crontab\n",
"# Unlike any other crontab you don't have to run the `crontab'\n",
"# command to install the new version when you edit this file\n",
"# and files in /etc/cron.d. These files also have username fields,\n",
"# that none of the other crontabs do.\n",
"\n",
"SHELL=/bin/sh\n",
"PATH=/usr/local/sbin:/usr/local/bin:/sbin:/bin:/usr/sbin:/usr/bin\n",
"\n",
"# Example of job definition:\n",
"# .---------------- minute (0 - 59)\n",
"# |  .------------- hour (0 - 23)\n",
"# |  |  .---------- day of month (1 - 31)\n",
"# |  |  |  .------- month (1 - 12) OR jan,feb,mar,apr ...\n",
"# |  |  |  |  .---- day of week (0 - 6) (Sunday=0 or 7) OR sun,mon,tue,wed,thu,fri,sat\n",
"# |  |  |  |  |\n",
"# *  *  *  *  * user-name command to be executed\n",
"17 *\t* * *\troot    cd / && run-parts --report /etc/cron.hourly\n",
"25 6\t* * *\troot\ttest -x /usr/sbin/anacron || ( cd / && run-parts --report /etc/cron.daily )\n",
"47 6\t* * 7\troot\ttest -x /usr/sbin/anacron || ( cd / && run-parts --report /etc/cron.weekly )\n",
"52 6\t1 * *\troot\ttest -x /usr/sbin/anacron || ( cd / && run-parts --report /etc/cron.monthly )\n",
"#\n"
          ]
        }
      ],
      "source": [
      "!cat /etc/crontab"
      ]
    },
{
      "cell_type": "markdown",
      "metadata": {},
      "source": [
      "Como você pode ver, nesse arquivo há uma série de comandos que são executados periodicamente. O formato desses comandos é o seguinte\n",
"\n",
"```\n",
"<minuto> <hora> <dia do mês> <mês> <dia da semana> <usuário> <comando>.\n",
"```\n",
"\n"
      ]
    },
{
      "cell_type": "markdown",
      "metadata": {},
      "source": [
      "Para acertar a data em que você deseja que o comando seja executado, há muitas páginas on-line que o ajudam a escrevê-lo bem, como [crontab guru](https://crontab.guru/)."
      ]
    },
{
      "cell_type": "markdown",
      "metadata": {},
      "source": [
      "### Agendamento de comando de execução única com `at`"
      ]
    },
{
      "cell_type": "markdown",
      "metadata": {},
      "source": [
      "Quando quisermos que um comando seja executado no futuro, mas não quisermos que ele seja feito periodicamente, mas apenas uma vez, podemos usar o comando `at`. Por exemplo, se você ligar uma máquina do Azure ou da Amazon pela qual está sendo cobrado e quiser ter certeza de que ela será desligada e que você não terá uma surpresa na conta, poderá programá-la para ser desligada à noite. Dessa forma, mesmo que você se esqueça de desligá-la, ela se desligará sozinha."
      ]
    },
{
      "cell_type": "markdown",
      "metadata": {},
      "source": [
      "Fazemos um `ls` na pasta `/tmp`."
      ]
    },
{
      "cell_type": "code",
      "execution_count": 15,
      "metadata": {},
      "outputs": [
      {
          "name": "stdout",
          "output_type": "stream",
          "text": [
          "total 60\n",
"-rw------- 1 wallabot wallabot    0 sep 24 08:51 config-err-QM3AAe\n",
"-rw-r--r-- 1 root     root     2049 sep 24 08:51 glances-root.log\n",
"drwx------ 2 wallabot wallabot 4096 sep 24 09:06 pyright-9853-BG3nXEXw0Tao\n",
"drwxrwxr-x 3 wallabot wallabot 4096 sep 24 09:06 python-languageserver-cancellation\n",
"drwx------ 3 root     root     4096 sep 24 08:51 snap-private-tmp\n",
"drwx------ 2 wallabot wallabot 4096 sep 24 08:51 ssh-mHjlSPPoqCp7\n",
"drwx------ 3 root     root     4096 sep 24 08:51 systemd-private-371a1d9479324db8bd79b6844b8b589b-colord.service-rpjPri\n",
"drwx------ 3 root     root     4096 sep 24 08:51 systemd-private-371a1d9479324db8bd79b6844b8b589b-fwupd.service-FzPoQf\n",
"drwx------ 3 root     root     4096 sep 24 08:51 systemd-private-371a1d9479324db8bd79b6844b8b589b-geoclue.service-F6pMWi\n",
"drwx------ 3 root     root     4096 sep 24 08:51 systemd-private-371a1d9479324db8bd79b6844b8b589b-ModemManager.service-Orf6Bi\n",
"drwx------ 3 root     root     4096 sep 24 08:51 systemd-private-371a1d9479324db8bd79b6844b8b589b-switcheroo-control.service-1QXRqj\n",
"drwx------ 3 root     root     4096 sep 24 08:51 systemd-private-371a1d9479324db8bd79b6844b8b589b-systemd-logind.service-lL35tg\n",
"drwx------ 3 root     root     4096 sep 24 08:51 systemd-private-371a1d9479324db8bd79b6844b8b589b-systemd-resolved.service-iaswSi\n",
"drwx------ 3 root     root     4096 sep 24 08:51 systemd-private-371a1d9479324db8bd79b6844b8b589b-systemd-timesyncd.service-Yet8lj\n",
"drwx------ 3 root     root     4096 sep 24 08:51 systemd-private-371a1d9479324db8bd79b6844b8b589b-upower.service-oTL7Gg\n",
"drwx------ 2 wallabot wallabot 4096 sep 24 09:31 tracker-extract-files.1000\n"
          ]
        }
      ],
      "source": [
      "!ls -l /tmp"
      ]
    },
{
      "cell_type": "markdown",
      "metadata": {},
      "source": [
      "Agora vamos programar a criação de um novo arquivo em `/tmp` em 5 minutos."
      ]
    },
{
      "cell_type": "code",
      "execution_count": 19,
      "metadata": {},
      "outputs": [
      {
          "name": "stdout",
          "output_type": "stream",
          "text": [
          "warning: commands will be executed using /bin/sh\n",
"at> touch /tmp/at.txt\n",
"at> <EOT>\n",
"job 1 at Sun Sep 24 09:55:00 2023\n"
          ]
        }
      ],
      "source": [
      "!at 09:55 touch /tmp/at.txt"
      ]
    },
{
      "cell_type": "markdown",
      "metadata": {},
      "source": [
      "Como podemos ver, temos que escrever `at <time>` e, na linha seguinte, o comando que queremos que seja executado"
      ]
    },
{
      "cell_type": "markdown",
      "metadata": {},
      "source": [
      "Agora vamos examinar os arquivos em `/tmp`."
      ]
    },
{
      "cell_type": "code",
      "execution_count": 20,
      "metadata": {},
      "outputs": [
      {
          "name": "stdout",
          "output_type": "stream",
          "text": [
          "total 60\n",
"-rw-rw-r-- 1 wallabot wallabot    0 sep 24 09:55 at.txt\n",
"-rw------- 1 wallabot wallabot    0 sep 24 08:51 config-err-QM3AAe\n",
"-rw-r--r-- 1 root     root     2049 sep 24 08:51 glances-root.log\n",
"drwx------ 2 wallabot wallabot 4096 sep 24 09:06 pyright-9853-BG3nXEXw0Tao\n",
"drwxrwxr-x 3 wallabot wallabot 4096 sep 24 09:06 python-languageserver-cancellation\n",
"drwx------ 3 root     root     4096 sep 24 08:51 snap-private-tmp\n",
"drwx------ 2 wallabot wallabot 4096 sep 24 08:51 ssh-mHjlSPPoqCp7\n",
"drwx------ 3 root     root     4096 sep 24 08:51 systemd-private-371a1d9479324db8bd79b6844b8b589b-colord.service-rpjPri\n",
"drwx------ 3 root     root     4096 sep 24 08:51 systemd-private-371a1d9479324db8bd79b6844b8b589b-fwupd.service-FzPoQf\n",
"drwx------ 3 root     root     4096 sep 24 08:51 systemd-private-371a1d9479324db8bd79b6844b8b589b-geoclue.service-F6pMWi\n",
"drwx------ 3 root     root     4096 sep 24 08:51 systemd-private-371a1d9479324db8bd79b6844b8b589b-ModemManager.service-Orf6Bi\n",
"drwx------ 3 root     root     4096 sep 24 08:51 systemd-private-371a1d9479324db8bd79b6844b8b589b-switcheroo-control.service-1QXRqj\n",
"drwx------ 3 root     root     4096 sep 24 08:51 systemd-private-371a1d9479324db8bd79b6844b8b589b-systemd-logind.service-lL35tg\n",
"drwx------ 3 root     root     4096 sep 24 08:51 systemd-private-371a1d9479324db8bd79b6844b8b589b-systemd-resolved.service-iaswSi\n",
"drwx------ 3 root     root     4096 sep 24 08:51 systemd-private-371a1d9479324db8bd79b6844b8b589b-systemd-timesyncd.service-Yet8lj\n",
"drwx------ 3 root     root     4096 sep 24 08:51 systemd-private-371a1d9479324db8bd79b6844b8b589b-upower.service-oTL7Gg\n",
"drwx------ 2 wallabot wallabot 4096 sep 24 09:31 tracker-extract-files.1000\n"
          ]
        }
      ],
      "source": [
      "!ls -l /tmp"
      ]
    },
{
      "cell_type": "markdown",
      "metadata": {},
      "source": [
      "Como podemos ver, há um `at.txt` que foi criado às 09:55"
      ]
    },
{
      "cell_type": "markdown",
      "metadata": {},
      "source": [
      "## Atalhos de teclado"
      ]
    },
{
      "cell_type": "markdown",
      "metadata": {},
      "source": [
      "Aqui estão alguns atalhos úteis para usar o terminal\n",
" * Ctrl+a: leva o cursor para o início da linha de comando.\n",
" * Ctrl+e: move o cursor para o final da linha de comando.\n",
" * Ctrl+l: limpa o terminal, semelhante ao que o comando `clear` faz.\n",
" * Ctrl+u: limpa da posição do cursor até o início da linha. Se você estiver no final da linha, ele limpará a linha inteira.\n",
" * Ctrl+k: limpa da posição do cursor até o final da linha. Se você estiver no início, ele limpa a linha inteira.\n",
" * Ctrl+h: faz o mesmo que a tecla backspace, exclui o caractere imediatamente anterior à posição do cursor.\n",
" * Ctrl+w: exclui a palavra imediatamente antes do cursor.\n",
" * Alt+d ou Esc+d: exclui a próxima palavra após o cursor.\n",
" * Ctrl+p: define a linha de comando para o último comando inserido.\n",
" * Ctrl+r: inicia a busca por comandos usados anteriormente, digitando parte de um comando que já foi usado, incluindo opções e parâmetros. Uma pesquisa pressionando a combinação de teclas novamente encontrará correspondências anteriores.\n",
" * Ctrl+c: encerra o processo em execução, útil para recuperar o controle do sistema.\n",
" * Ctrl+d: sai do terminal, semelhante ao comando exit.\n",
" * Ctrl+z: suspende a execução do processo que está em andamento e o coloca em segundo plano; com o comando fg, podemos retomar sua execução.\n",
" * Ctrl+t: troca a posição dos dois caracteres antes do cursor, o que é útil para corrigir erros de digitação.\n",
" * Esc+t: troca a posição das duas palavras antes do cursor, o que é útil para corrigir erros de digitação.\n",
" * Alt+f: move o cursor para o início da próxima palavra na linha, o mesmo que Ctrl+direita no terminal do GNOME.\n",
" * Alt+b: move o cursor para o início da palavra anterior na linha, o mesmo que Ctrl+esquerda no terminal do GNOME.\n",
" * Tabulação: autocompleta comandos ou caminhos para diretórios ou arquivos.\n",
" * Ctrl+Shift+f: abre uma caixa de diálogo para fazer uma pesquisa de texto na saída do terminal.\n",
" * Ctrl+Shift+g: pesquisa a próxima ocorrência da pesquisa anterior no terminal.\n",
" * Ctrl+Shift+h: procura a ocorrência anterior da pesquisa anterior no terminal.\n",
" * Ctrl+Shift+c: copia o texto selecionado do terminal para a área de transferência.\n",
" * Ctrl+Shift+v: cola o texto da área de transferência na linha de comando.\n",
" * Up: define o comando anterior no histórico na linha de comando, assim como Ctrl+p.\n",
" * Down: define a linha de comando para o próximo comando no histórico.\n",
" * Mouse esquerdo: seleciona linhas de texto no terminal.\n",
" * Ctrl+Mouse esquerdo: seleciona blocos de texto do terminal."
      ]
    },
{
      "cell_type": "markdown",
      "metadata": {},
      "source": [
      "## Fricadas"
      ]
    },
{
      "cell_type": "markdown",
      "metadata": {},
      "source": [
      "### Você esqueceu de usar o sudo"
      ]
    },
{
      "cell_type": "markdown",
      "metadata": {},
      "source": [
      "Já aconteceu com você de usar um comando que deveria ser executado com `sudo`, mas esqueceu de digitar `sudo`? Bem, depois de receber o erro correspondente, se você digitar `sudo !!`, o comando anterior será executado com `sudo`."
      ]
    },
{
      "cell_type": "code",
      "execution_count": 1,
      "metadata": {},
      "outputs": [
      {
          "name": "stdout",
          "output_type": "stream",
          "text": [
          "Leyendo lista de paquetes... Hecho\n",
"\u001b[1;31mE: \u001b[0mNo se pudo abrir el fichero de bloqueo «/var/lib/apt/lists/lock» - open (13: Permiso denegado)\u001b[0m\n",
"\u001b[1;31mE: \u001b[0mNo se pudo bloquear el directorio /var/lib/apt/lists/\u001b[0m\n",
"\u001b[1;33mW: \u001b[0mSe produjo un problema al desligar el fichero /var/cache/apt/pkgcache.bin - RemoveCaches (13: Permiso denegado)\u001b[0m\n",
"\u001b[1;33mW: \u001b[0mSe produjo un problema al desligar el fichero /var/cache/apt/srcpkgcache.bin - RemoveCaches (13: Permiso denegado)\u001b[0m\n"
          ]
        }
      ],
      "source": [
      "!apt update"
      ]
    },
{
      "cell_type": "markdown",
      "metadata": {},
      "source": [
      "Como você pode ver, a execução do `sudo update` gera um erro, mas se agora executarmos o `sudo !!`, ele executará o `sudo apt update`."
      ]
    },
{
      "cell_type": "code",
      "execution_count": 2,
      "metadata": {},
      "outputs": [
      {
          "name": "stdout",
          "output_type": "stream",
          "text": [
          "[sudo] contraseña para wallabot: \n"
          ]
        }
      ],
      "source": [
      "!sudo !!"
      ]
    },
{
      "cell_type": "markdown",
      "metadata": {},
      "source": [
      "### Mensagens de Kernell"
      ]
    },
{
      "cell_type": "markdown",
      "metadata": {},
      "source": [
      "Com o comando `dmesg` (display kernell ring buffer messages), podemos ver as mensagens do kernel. Por exemplo, isso é muito útil para ver se um dispositivo USB está conectado ou para depurar erros de HW em seu computador."
      ]
    },
{
      "cell_type": "code",
      "execution_count": 5,
      "metadata": {},
      "outputs": [
      {
          "name": "stdout",
          "output_type": "stream",
          "text": [
          "[   35.812312] input: LogiOps Virtual Input as /devices/virtual/input/input33\n",
"[   35.916406] input: LogiOps Virtual Input as /devices/virtual/input/input34\n",
"[   36.002064] input: LogiOps Virtual Input as /devices/virtual/input/input35\n",
"[   63.879806] input: MX Master 3 as /devices/virtual/misc/uhid/0005:046D:B023.0006/input/input36\n",
"[   63.879931] logitech-hidpp-device 0005:046D:B023.0006: input,hidraw3: BLUETOOTH HID v0.15 Keyboard [MX Master 3] on 4c:77:cb:1d:66:d0\n",
"[   63.902120] logitech-hidpp-device 0005:046D:B023.0006: HID++ 4.5 device connected.\n",
"[   69.604899] input: MX Keys Keyboard as /devices/virtual/misc/uhid/0005:046D:B35B.0007/input/input37\n",
"[   69.605221] input: MX Keys Mouse as /devices/virtual/misc/uhid/0005:046D:B35B.0007/input/input38\n",
"[   69.606204] hid-generic 0005:046D:B35B.0007: input,hidraw4: BLUETOOTH HID v0.13 Keyboard [MX Keys] on 4c:77:cb:1d:66:d0\n",
"[  188.285030] input: T9 (AVRCP) as /devices/virtual/input/input40\n"
          ]
        }
      ],
      "source": [
      "!dmesg | tail"
      ]
    },
{
      "cell_type": "markdown",
      "metadata": {},
      "source": [
      "Com o sinalizador `--follow`, podemos ver em tempo real as novas mensagens que são geradas."
      ]
    },
{
      "cell_type": "code",
      "execution_count": 7,
      "metadata": {},
      "outputs": [
      {
          "name": "stdout",
          "output_type": "stream",
          "text": [
          "\u001b[32m[    0.000000] \u001b[0mLinux version 5.15.0-84-generic (buildd@lcy02-amd64-005) (gcc (Ubuntu 9.4.0-1ubuntu1~20.04.2) 9.4.0, GNU ld (GNU Binutils for Ubuntu) 2.34) #93~20.04.1-Ubuntu SMP Wed Sep 6 16:15:40 UTC 2023 (Ubuntu 5.15.0-84.93~20.04.1-generic 5.15.116)\n",
"\u001b[32m[    0.000000] \u001b[0m\u001b[33mCommand line\u001b[0m: BOOT_IMAGE=/boot/vmlinuz-5.15.0-84-generic root=UUID=59002381-d88d-44a6-b83d-8c5a226ce058 ro quiet splash vt.handoff=7\n",
"\u001b[32m[    0.000000] \u001b[0mKERNEL supported cpus:\n",
"\u001b[32m[    0.000000] \u001b[0m  Intel GenuineIntel\n",
"\u001b[32m[    0.000000] \u001b[0m  AMD AuthenticAMD\n",
"\u001b[32m[    0.000000] \u001b[0m  Hygon HygonGenuine\n",
"\u001b[32m[    0.000000] \u001b[0m  Centaur CentaurHauls\n",
"\u001b[32m[    0.000000] \u001b[0m  zhaoxin   Shanghai  \n",
"\u001b[32m[    0.000000] \u001b[0mBIOS-provided physical RAM map:\n",
"\u001b[32m[    0.000000] \u001b[0m\u001b[33mBIOS-e820\u001b[0m: [mem 0x0000000000000000-0x000000000009ffff] usable\n",
"\u001b[32m[    0.000000] \u001b[0m\u001b[33mBIOS-e820\u001b[0m: [mem 0x00000000000a0000-0x00000000000fffff] reserved\n",
"\u001b[32m[    0.000000] \u001b[0m\u001b[33mBIOS-e820\u001b[0m: [mem 0x0000000000100000-0x0000000009d01fff] usable\n",
"\u001b[32m[    0.000000] \u001b[0m\u001b[33mBIOS-e820\u001b[0m: [mem 0x0000000009d02000-0x0000000009ffffff] reserved\n",
"\u001b[32m[    0.000000] \u001b[0m\u001b[33mBIOS-e820\u001b[0m: [mem 0x000000000a000000-0x000000000a1fffff] usable\n",
"\u001b[32m[    0.000000] \u001b[0m\u001b[33mBIOS-e820\u001b[0m: [mem 0x000000000a200000-0x000000000a20bfff] ACPI NVS\n",
"\u001b[32m[    0.000000] \u001b[0m\u001b[33mBIOS-e820\u001b[0m: [mem 0x000000000a20c000-0x00000000b8983fff] usable\n",
"\u001b[32m[    0.000000] \u001b[0m\u001b[33mBIOS-e820\u001b[0m: [mem 0x00000000b8984000-0x00000000b8acdfff] reserved\n",
"\u001b[32m[    0.000000] \u001b[0m\u001b[33mBIOS-e820\u001b[0m: [mem 0x00000000b8ace000-0x00000000b8c56fff] ACPI data\n",
"\u001b[32m[    0.000000] \u001b[0m\u001b[33mBIOS-e820\u001b[0m: [mem 0x00000000b8c57000-0x00000000b9107fff] ACPI NVS\n",
"\u001b[32m[    0.000000] \u001b[0m\u001b[33mBIOS-e820\u001b[0m: [mem 0x00000000b9108000-0x00000000ba55cfff] reserved\n",
"\u001b[32m[    0.000000] \u001b[0m\u001b[33mBIOS-e820\u001b[0m: [mem 0x00000000ba55d000-0x00000000bcffffff] usable\n",
"\u001b[32m[    0.000000] \u001b[0m\u001b[33mBIOS-e820\u001b[0m: [mem 0x00000000bd000000-0x00000000bfffffff] reserved\n",
"\u001b[32m[    0.000000] \u001b[0m\u001b[33mBIOS-e820\u001b[0m: [mem 0x00000000f8000000-0x00000000fbffffff] reserved\n",
"...\n",
"\u001b[32m[   35.916406] \u001b[0m\u001b[33minput\u001b[0m: LogiOps Virtual Input as /devices/virtual/input/input34\n",
"\u001b[32m[   36.002064] \u001b[0m\u001b[33minput\u001b[0m: LogiOps Virtual Input as /devices/virtual/input/input35\n",
"\u001b[32m[   63.879806] \u001b[0m\u001b[33minput\u001b[0m: MX Master 3 as /devices/virtual/misc/uhid/0005:046D:B023.0006/input/input36\n",
"\u001b[32m[   63.879931] \u001b[0m\u001b[33mlogitech-hidpp-device 0005:046D:B023.0006\u001b[0m: input,hidraw3: BLUETOOTH HID v0.15 Keyboard [MX Master 3] on 4c:77:cb:1d:66:d0\n",
"\u001b[32m[   63.902120] \u001b[0m\u001b[33mlogitech-hidpp-device 0005:046D:B023.0006\u001b[0m: HID++ 4.5 device connected.\n",
"\u001b[32m[   69.604899] \u001b[0m\u001b[33minput\u001b[0m: MX Keys Keyboard as /devices/virtual/misc/uhid/0005:046D:B35B.0007/input/input37\n",
"\u001b[32m[   69.605221] \u001b[0m\u001b[33minput\u001b[0m: MX Keys Mouse as /devices/virtual/misc/uhid/0005:046D:B35B.0007/input/input38\n",
"\u001b[32m[   69.606204] \u001b[0m\u001b[33mhid-generic 0005:046D:B35B.0007\u001b[0m: input,hidraw4: BLUETOOTH HID v0.13 Keyboard [MX Keys] on 4c:77:cb:1d:66:d0\n",
"\u001b[32m[  188.285030] \u001b[0m\u001b[33minput\u001b[0m: T9 (AVRCP) as /devices/virtual/input/input40\n"
          ]
        },
{
          "name": "stdout",
          "output_type": "stream",
          "text": [
          "^C\n"
          ]
        }
      ],
      "source": [
      "!dmesg --follow"
      ]
    },
{
      "cell_type": "markdown",
      "metadata": {},
      "source": [
      "### Informações de hardware"
      ]
    },
{
      "cell_type": "markdown",
      "metadata": {},
      "source": [
      "Com o `lshw`, podemos visualizar informações sobre o hardware do nosso computador."
      ]
    },
{
      "cell_type": "code",
      "execution_count": 10,
      "metadata": {},
      "outputs": [
      {
          "name": "stdout",
          "output_type": "stream",
          "text": [
          "AVISO: debería ejecutar este programa como superusuario.\n",
"wallabot                    \n",
"    descripción: Computer\n",
"    anchura: 64 bits\n",
"    capacidades: smp vsyscall32\n",
"  *-core\n",
"       descripción: Motherboard\n",
"       id físico: 0\n",
"     *-memory\n",
"          descripción: Memoria de sistema\n",
"          id físico: 0\n",
"          tamaño: 32GiB\n",
"...\n",
"          producto: PnP device PNP0501\n",
"          id físico: 6\n",
"          capacidades: pnp\n",
"          configuración: driver=serial\n",
"     *-pnp00:05\n",
"          producto: PnP device PNP0c02\n",
"          id físico: 7\n",
"          capacidades: pnp\n",
"          configuración: driver=system\n",
"AVISO: la salida puede ser incompleta o imprecisa, debería ejecutar este programa como superusuario.\n"
          ]
        }
      ],
      "source": [
      "!lshw"
      ]
    },
{
      "cell_type": "markdown",
      "metadata": {},
      "source": [
      "### Cowsay"
      ]
    },
{
      "cell_type": "markdown",
      "metadata": {},
      "source": [
      "Há um comando chamado `cowsay` para o qual você passa como parâmetro um texto e ele desenha uma vaca dizendo esse texto.\n",
"\n",
"É possível que você não o tenha instalado, portanto, para instalá-lo, é necessário digitar o comando\n",
"\n",
"``` bash\n",
"sudo apt install cowsay\n",
"```"
      ]
    },
{
      "cell_type": "code",
      "execution_count": 12,
      "metadata": {},
      "outputs": [
      {
          "name": "stdout",
          "output_type": "stream",
          "text": [
          " __________\n",
"< MaximoFN >\n",
" ----------\n",
"        \\   ^__^\n",
"         \\  (oo)\\_______\n",
"            (__)\\       )\\/\\\n",
"                ||----w |\n",
"                ||     ||\n",
"\n"
          ]
        }
      ],
      "source": [
      "terminal(\"cowsay MaximoFN\")"
      ]
    },
{
      "cell_type": "markdown",
      "metadata": {},
      "source": [
      "Se você adicionar o sinalizador `-f dragon`, quem quer que diga que é um dragão."
      ]
    },
{
      "cell_type": "code",
      "execution_count": 15,
      "metadata": {},
      "outputs": [
      {
          "name": "stdout",
          "output_type": "stream",
          "text": [
          " __________\n",
"< MaximoFN >\n",
" ----------\n",
"      \\                    / \\  //\\\n",
"       \\    |\\___/|      /   \\//  \\\\\n",
"            /0  0  \\__  /    //  | \\ \\    \n",
"           /     /  \\/_/    //   |  \\  \\  \n",
"           @_^_@'/   \\/_   //    |   \\   \\ \n",
"           //_^_/     \\/_ //     |    \\    \\\n",
"        ( //) |        \\///      |     \\     \\\n",
"      ( / /) _|_ /   )  //       |      \\     _\\\n",
"    ( // /) '/,_ _ _/  ( ; -.    |    _ _\\.-~        .-~~~^-.\n",
"  (( / / )) ,-{        _      `-.|.-~-.           .~         `.\n",
" (( // / ))  '/\\      /                 ~-. _ .-~      .-~^-.  \\\n",
" (( /// ))      `.   {            }                   /      \\  \\\n",
"  (( / ))     .----~-.\\        \\-'                 .~         \\  `. \\^-.\n",
"             ///.----..>        \\             _ -~             `.  ^-`  ^-_\n",
"               ///-._ _ _ _ _ _ _}^ - - - - ~                     ~-- ,.-~\n",
"                                                                  /.-~\n",
"\n"
          ]
        }
      ],
      "source": [
      "terminal(\"cowsay -f dragon MaximoFN\")"
      ]
    },
{
      "cell_type": "code",
      "execution_count": 14,
      "metadata": {},
      "outputs": [
      {
          "name": "stdout",
          "output_type": "stream",
          "text": [
          " __________\n",
"< MaximoFN >\n",
" ----------\n",
"                       \\                    ^    /^\n",
"                        \\                  / \\  // \\\n",
"                         \\   |\\___/|      /   \\//  .\\\n",
"                          \\  /O  O  \\__  /    //  | \\ \\           *----*\n",
"                            /     /  \\/_/    //   |  \\  \\          \\   |\n",
"                            @___@`    \\/_   //    |   \\   \\         \\/\\ \\\n",
"                           0/0/|       \\/_ //     |    \\    \\         \\  \\\n",
"                       0/0/0/0/|        \\///      |     \\     \\       |  |\n",
"                    0/0/0/0/0/_|_ /   (  //       |      \\     _\\     |  /\n",
"                 0/0/0/0/0/0/`/,_ _ _/  ) ; -.    |    _ _\\.-~       /   /\n",
"                             ,-}        _      *-.|.-~-.           .~    ~\n",
"            \\     \\__/        `/\\      /                 ~-. _ .-~      /\n",
"             \\____(oo)           *.   }            {                   /\n",
"             (    (--)          .----~-.\\        \\-`                 .~\n",
"             //__\\\\  \\__ Ack!   ///.----..<        \\             _ -~\n",
"            //    \\\\               ///-._ _ _ _ _ _ _{^ - - - - ~\n",
"\n"
          ]
        }
      ],
      "source": [
      "terminal(\"cowsay -f dragon-and-cow MaximoFN\")"
      ]
    },
{
      "cell_type": "markdown",
      "metadata": {},
      "source": [
      "## Limpeza"
      ]
    },
{
      "cell_type": "markdown",
      "metadata": {},
      "source": [
      "Como a pasta `test` foi criada, nós a excluímos para deixar tudo como encontramos."
      ]
    },
{
      "cell_type": "code",
      "execution_count": 1,
      "metadata": {},
      "outputs": [],
      "source": [
      "!rm -r prueba"
      ]
    }
  ],
  "metadata": {
    "kernelspec": {
      "display_name": "base",
      "language": "python",
      "name": "python3"
    },
    "language_info": {
      "codemirror_mode": {
        "name": "ipython",
        "version": 3
      },
      "file_extension": ".py",
      "mimetype": "text/x-python",
      "name": "python",
      "nbconvert_exporter": "python",
      "pygments_lexer": "ipython3",
      "version": "3.10.9"
    },
    "orig_nbformat": 4,
    "vscode": {
      "interpreter": {
        "hash": "b2af3135499c4cc4659220baa8d57d20fd35a58497fd7648737e38d0561042d8"
      }
    }
  },
  "nbformat": 4,
  "nbformat_minor": 2
}
