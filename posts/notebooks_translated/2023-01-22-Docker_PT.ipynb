{
  "cells": [
    {
      "cell_type": "markdown",
      "metadata": {},
      "source": [
        "# Docker"
      ]
    },
    {
      "cell_type": "markdown",
      "metadata": {},
      "source": [
        " > Aviso: Este post foi traduzido para o português usando um modelo de tradução automática. Por favor, me avise se encontrar algum erro."
      ]
    },
    {
      "cell_type": "markdown",
      "metadata": {},
      "source": [
        "## Contentores"
      ]
    },
    {
      "cell_type": "markdown",
      "metadata": {},
      "source": [
        "### Olá mundo"
      ]
    },
    {
      "cell_type": "markdown",
      "metadata": {},
      "source": [
        "Executar o primeiro contêiner do tipo Hello World com o comando `docker run hello-world`"
      ]
    },
    {
      "cell_type": "code",
      "execution_count": 1,
      "metadata": {},
      "outputs": [
        {
          "name": "stdout",
          "output_type": "stream",
          "text": [
            "Unable to find image 'hello-world:latest' locally\n"
          ]
        },
        {
          "name": "stdout",
          "output_type": "stream",
          "text": [
            "latest: Pulling from library/hello-world\n",
            "\n",
            "\u001b[1B85e32844: Pull complete 457kB/2.457kBB\u001b[1A\u001b[2KDigest: sha256:dcba6daec718f547568c562956fa47e1b03673dd010fe6ee58ca806767031d1c\n",
            "Status: Downloaded newer image for hello-world:latest\n",
            "\n",
            "Hello from Docker!\n",
            "This message shows that your installation appears to be working correctly.\n",
            "\n",
            "To generate this message, Docker took the following steps:\n",
            " 1. The Docker client contacted the Docker daemon.\n",
            " 2. The Docker daemon pulled the \"hello-world\" image from the Docker Hub.\n",
            "    (amd64)\n",
            " 3. The Docker daemon created a new container from that image which runs the\n",
            "    executable that produces the output you are currently reading.\n",
            " 4. The Docker daemon streamed that output to the Docker client, which sent it\n",
            "    to your terminal.\n",
            "\n",
            "To try something more ambitious, you can run an Ubuntu container with:\n",
            " $ docker run -it ubuntu bash\n",
            "\n",
            "Share images, automate workflows, and more with a free Docker ID:\n",
            " https://hub.docker.com/\n",
            "\n",
            "For more examples and ideas, visit:\n",
            " https://docs.docker.com/get-started/\n",
            "\n"
          ]
        }
      ],
      "source": [
        "!docker run hello-world"
      ]
    },
    {
      "cell_type": "markdown",
      "metadata": {},
      "source": [
        "Como não temos o contêiner salvo localmente, o Docker o baixa do Docker Hub. Se agora voltarmos a executar o contêiner, já não aparecerá a primeira mensagem, na qual indica que está sendo baixado."
      ]
    },
    {
      "cell_type": "code",
      "execution_count": 2,
      "metadata": {},
      "outputs": [
        {
          "name": "stdout",
          "output_type": "stream",
          "text": [
            "\n",
            "Hello from Docker!\n",
            "This message shows that your installation appears to be working correctly.\n",
            "\n",
            "To generate this message, Docker took the following steps:\n",
            " 1. The Docker client contacted the Docker daemon.\n",
            " 2. The Docker daemon pulled the \"hello-world\" image from the Docker Hub.\n",
            "    (amd64)\n",
            " 3. The Docker daemon created a new container from that image which runs the\n",
            "    executable that produces the output you are currently reading.\n",
            " 4. The Docker daemon streamed that output to the Docker client, which sent it\n",
            "    to your terminal.\n",
            "\n",
            "To try something more ambitious, you can run an Ubuntu container with:\n",
            " $ docker run -it ubuntu bash\n",
            "\n",
            "Share images, automate workflows, and more with a free Docker ID:\n",
            " https://hub.docker.com/\n",
            "\n",
            "For more examples and ideas, visit:\n",
            " https://docs.docker.com/get-started/\n",
            "\n"
          ]
        }
      ],
      "source": [
        "!docker run hello-world"
      ]
    },
    {
      "cell_type": "markdown",
      "metadata": {},
      "source": [
        "Para ver os contêineres que estão em execução, execute `docker ps`"
      ]
    },
    {
      "cell_type": "code",
      "execution_count": 3,
      "metadata": {},
      "outputs": [
        {
          "name": "stdout",
          "output_type": "stream",
          "text": [
            "CONTAINER ID   IMAGE     COMMAND   CREATED   STATUS    PORTS     NAMES\n"
          ]
        }
      ],
      "source": [
        "!docker ps"
      ]
    },
    {
      "cell_type": "markdown",
      "metadata": {},
      "source": [
        "Como vemos não há nenhum contêiner aberto. Mas, se executarmos `docker ps -a` (`all`), veremos que sim aparecem."
      ]
    },
    {
      "cell_type": "code",
      "execution_count": 6,
      "metadata": {},
      "outputs": [
        {
          "name": "stdout",
          "output_type": "stream",
          "text": [
            "CONTAINER ID   IMAGE         COMMAND    CREATED          STATUS                      PORTS     NAMES\n",
            "1efb51bbbf38   hello-world   \"/hello\"   10 seconds ago   Exited (0) 9 seconds ago              strange_thompson\n",
            "5f5705e7603e   hello-world   \"/hello\"   15 seconds ago   Exited (0) 14 seconds ago             laughing_jang\n"
          ]
        }
      ],
      "source": [
        "!docker ps -a"
      ]
    },
    {
      "cell_type": "markdown",
      "metadata": {},
      "source": [
        "Vemos que aparecem dois contentores chamados `hello-world` que são os dois que executamos anteriormente. Portanto, cada vez que executamos o comando `run`, o Docker cria um novo contentor, não executa um que já exista."
      ]
    },
    {
      "cell_type": "markdown",
      "metadata": {},
      "source": [
        "Se quisermos ter mais informações sobre um dos dois contêineres, podemos executar `docker inspect <id>`, onde `<id>` corresponde à ID do contêiner que foi exibida na lista anterior."
      ]
    },
    {
      "cell_type": "code",
      "execution_count": 7,
      "metadata": {},
      "outputs": [
        {
          "name": "stdout",
          "output_type": "stream",
          "text": [
            "[\n",
            "    {\n",
            "        \"Id\": \"1efb51bbbf38917affd1b5871db8e658ebfe0b2efa5ead17545680b7866f682e\",\n",
            "        \"Created\": \"2023-09-04T03:59:17.795499354Z\",\n",
            "        \"Path\": \"/hello\",\n",
            "        \"Args\": [],\n",
            "        \"State\": {\n",
            "            \"Status\": \"exited\",\n",
            "            \"Running\": false,\n",
            "            \"Paused\": false,\n",
            "            \"Restarting\": false,\n",
            "            \"OOMKilled\": false,\n",
            "            \"Dead\": false,\n",
            "            \"Pid\": 0,\n",
            "            \"ExitCode\": 0,\n",
            "            \"Error\": \"\",\n",
            "            \"StartedAt\": \"2023-09-04T03:59:18.406663026Z\",\n",
            "            \"FinishedAt\": \"2023-09-04T03:59:18.406181184Z\"\n",
            "        },\n",
            "        \"Image\": \"sha256:9c7a54a9a43cca047013b82af109fe963fde787f63f9e016fdc3384500c2823d\",\n",
            "        \"ResolvConfPath\": \"/var/lib/docker/containers/1efb51bbbf38917affd1b5871db8e658ebfe0b2efa5ead17545680b7866f682e/resolv.conf\",\n",
            "        \"HostnamePath\": \"/var/lib/docker/containers/1efb51bbbf38917affd1b5871db8e658ebfe0b2efa5ead17545680b7866f682e/hostname\",\n",
            "        \"HostsPath\": \"/var/lib/docker/containers/1efb51bbbf38917affd1b5871db8e658ebfe0b2efa5ead17545680b7866f682e/hosts\",\n",
            "        \"LogPath\": \"/var/lib/docker/containers/1efb51bbbf38917affd1b5871db8e658ebfe0b2efa5ead17545680b7866f682e/1efb51bbbf38917affd1b5871db8e658ebfe0b2efa5ead17545680b7866f682e-json.log\",\n",
            "        \"Name\": \"/strange_thompson\",\n",
            "        ...\n",
            "            }\n",
            "        }\n",
            "    }\n",
            "]\n"
          ]
        }
      ],
      "source": [
        "!docker inspect 1efb51bbbf38"
      ]
    },
    {
      "cell_type": "markdown",
      "metadata": {},
      "source": [
        "Como lembrar IDs é complicado para nós, o Docker atribui nomes aos contêineres para facilitar nossa vida. Assim, na lista anterior, a última coluna corresponde ao nome que o Docker atribuiu a cada contêiner, de modo que se agora executarmos `docker inspect <name>` obteremos as mesmas informações que com a ID."
      ]
    },
    {
      "cell_type": "markdown",
      "metadata": {},
      "source": [
        "Volto a executar `docker ps -a` para voltar a ver a lista"
      ]
    },
    {
      "cell_type": "code",
      "execution_count": 8,
      "metadata": {},
      "outputs": [
        {
          "name": "stdout",
          "output_type": "stream",
          "text": [
            "CONTAINER ID   IMAGE         COMMAND    CREATED         STATUS                     PORTS     NAMES\n",
            "1efb51bbbf38   hello-world   \"/hello\"   2 minutes ago   Exited (0) 2 minutes ago             strange_thompson\n",
            "5f5705e7603e   hello-world   \"/hello\"   2 minutes ago   Exited (0) 2 minutes ago             laughing_jang\n"
          ]
        }
      ],
      "source": [
        "!docker ps -a"
      ]
    },
    {
      "cell_type": "markdown",
      "metadata": {},
      "source": [
        "E agora eu executo `docker inspect <name>` para ver a informação do contêiner."
      ]
    },
    {
      "cell_type": "code",
      "execution_count": 9,
      "metadata": {},
      "outputs": [
        {
          "name": "stdout",
          "output_type": "stream",
          "text": [
            "[\n",
            "    {\n",
            "        \"Id\": \"1efb51bbbf38917affd1b5871db8e658ebfe0b2efa5ead17545680b7866f682e\",\n",
            "        \"Created\": \"2023-09-04T03:59:17.795499354Z\",\n",
            "        \"Path\": \"/hello\",\n",
            "        \"Args\": [],\n",
            "        \"State\": {\n",
            "            \"Status\": \"exited\",\n",
            "            \"Running\": false,\n",
            "            \"Paused\": false,\n",
            "            \"Restarting\": false,\n",
            "            \"OOMKilled\": false,\n",
            "            \"Dead\": false,\n",
            "            \"Pid\": 0,\n",
            "            \"ExitCode\": 0,\n",
            "            \"Error\": \"\",\n",
            "            \"StartedAt\": \"2023-09-04T03:59:18.406663026Z\",\n",
            "            \"FinishedAt\": \"2023-09-04T03:59:18.406181184Z\"\n",
            "        },\n",
            "        \"Image\": \"sha256:9c7a54a9a43cca047013b82af109fe963fde787f63f9e016fdc3384500c2823d\",\n",
            "        \"ResolvConfPath\": \"/var/lib/docker/containers/1efb51bbbf38917affd1b5871db8e658ebfe0b2efa5ead17545680b7866f682e/resolv.conf\",\n",
            "        \"HostnamePath\": \"/var/lib/docker/containers/1efb51bbbf38917affd1b5871db8e658ebfe0b2efa5ead17545680b7866f682e/hostname\",\n",
            "        \"HostsPath\": \"/var/lib/docker/containers/1efb51bbbf38917affd1b5871db8e658ebfe0b2efa5ead17545680b7866f682e/hosts\",\n",
            "        \"LogPath\": \"/var/lib/docker/containers/1efb51bbbf38917affd1b5871db8e658ebfe0b2efa5ead17545680b7866f682e/1efb51bbbf38917affd1b5871db8e658ebfe0b2efa5ead17545680b7866f682e-json.log\",\n",
            "        \"Name\": \"/strange_thompson\",\n",
            "        ...\n",
            "            }\n",
            "        }\n",
            "    }\n",
            "]\n"
          ]
        }
      ],
      "source": [
        "!docker inspect strange_thompson"
      ]
    },
    {
      "cell_type": "markdown",
      "metadata": {},
      "source": [
        "Mas por que com `docker ps` não vemos nenhum contêiner e com `docker ps -a` sim. Isso acontece porque `docker ps` só mostra os contêineres que estão em execução, enquanto `docker ps -a` mostra todos os contêineres, tanto os que estão em execução quanto os que estão desligados."
      ]
    },
    {
      "cell_type": "markdown",
      "metadata": {},
      "source": [
        "Podemos criar um contêiner atribuindo a ele um nome através do comando `docker run --name <name> hello-world`"
      ]
    },
    {
      "cell_type": "code",
      "execution_count": 10,
      "metadata": {},
      "outputs": [
        {
          "name": "stdout",
          "output_type": "stream",
          "text": [
            "\n",
            "Hello from Docker!\n",
            "This message shows that your installation appears to be working correctly.\n",
            "\n",
            "To generate this message, Docker took the following steps:\n",
            " 1. The Docker client contacted the Docker daemon.\n",
            " 2. The Docker daemon pulled the \"hello-world\" image from the Docker Hub.\n",
            "    (amd64)\n",
            " 3. The Docker daemon created a new container from that image which runs the\n",
            "    executable that produces the output you are currently reading.\n",
            " 4. The Docker daemon streamed that output to the Docker client, which sent it\n",
            "    to your terminal.\n",
            "\n",
            "To try something more ambitious, you can run an Ubuntu container with:\n",
            " $ docker run -it ubuntu bash\n",
            "\n",
            "Share images, automate workflows, and more with a free Docker ID:\n",
            " https://hub.docker.com/\n",
            "\n",
            "For more examples and ideas, visit:\n",
            " https://docs.docker.com/get-started/\n",
            "\n"
          ]
        }
      ],
      "source": [
        "!docker run --name hello_world hello-world"
      ]
    },
    {
      "cell_type": "markdown",
      "metadata": {},
      "source": [
        "Isso será mais confortável para nós, pois poderemos controlar nós mesmos os nomes dos contêineres."
      ]
    },
    {
      "cell_type": "markdown",
      "metadata": {},
      "source": [
        "Se agora quisermos criar outro contêiner com o mesmo nome, não poderemos, porque o Docker não permite que se dupliquem os nomes dos contêineres. Desse modo, se quisermos renomear o contêiner, podemos usar o comando `docker rename <old name> <new name>`"
      ]
    },
    {
      "cell_type": "code",
      "execution_count": 11,
      "metadata": {},
      "outputs": [],
      "source": [
        "!docker rename hello_world hello_world2"
      ]
    },
    {
      "cell_type": "markdown",
      "metadata": {},
      "source": [
        "Agora temos um monte de contêineres idênticos. Então, se quisermos remover algum, temos que usar o comando `docker rm <id>` ou `docker rm <name>`"
      ]
    },
    {
      "cell_type": "code",
      "execution_count": 12,
      "metadata": {},
      "outputs": [
        {
          "name": "stdout",
          "output_type": "stream",
          "text": [
            "CONTAINER ID   IMAGE         COMMAND    CREATED         STATUS                     PORTS     NAMES\n",
            "f432c9c2ca21   hello-world   \"/hello\"   9 seconds ago   Exited (0) 8 seconds ago             hello_world2\n",
            "1efb51bbbf38   hello-world   \"/hello\"   4 minutes ago   Exited (0) 4 minutes ago             strange_thompson\n",
            "5f5705e7603e   hello-world   \"/hello\"   4 minutes ago   Exited (0) 4 minutes ago             laughing_jang\n"
          ]
        }
      ],
      "source": [
        "!docker ps -a"
      ]
    },
    {
      "cell_type": "code",
      "execution_count": 13,
      "metadata": {},
      "outputs": [
        {
          "name": "stdout",
          "output_type": "stream",
          "text": [
            "hello_world2\n"
          ]
        }
      ],
      "source": [
        "!docker rm hello_world2"
      ]
    },
    {
      "cell_type": "markdown",
      "metadata": {},
      "source": [
        "Se voltarmos a ver a lista de contêineres, o contêiner `hello_world2` já não estará mais lá."
      ]
    },
    {
      "cell_type": "code",
      "execution_count": 14,
      "metadata": {},
      "outputs": [
        {
          "name": "stdout",
          "output_type": "stream",
          "text": [
            "CONTAINER ID   IMAGE         COMMAND    CREATED         STATUS                     PORTS     NAMES\n",
            "1efb51bbbf38   hello-world   \"/hello\"   5 minutes ago   Exited (0) 5 minutes ago             strange_thompson\n",
            "5f5705e7603e   hello-world   \"/hello\"   5 minutes ago   Exited (0) 5 minutes ago             laughing_jang\n"
          ]
        }
      ],
      "source": [
        "!docker ps -a"
      ]
    },
    {
      "cell_type": "markdown",
      "metadata": {},
      "source": [
        "Se quisermos apagar todos os contêineres, podemos fazer isso um a um, mas como é muito trabalhoso, podemos apagar todos usando o comando `docker container prune`. Este comando remove apenas os contêineres que estejam parados."
      ]
    },
    {
      "cell_type": "code",
      "execution_count": 17,
      "metadata": {},
      "outputs": [
        {
          "name": "stdout",
          "output_type": "stream",
          "text": [
            "WARNING! This will remove all stopped containers.\n",
            "Are you sure you want to continue? [y/N] y"
          ]
        }
      ],
      "source": [
        "!docker container prune"
      ]
    },
    {
      "cell_type": "markdown",
      "metadata": {},
      "source": [
        "Docker pergunta se você tem certeza, e se você disser que sim, ele apaga todos. Se agora listar todos os contêineres, nenhum aparecerá."
      ]
    },
    {
      "cell_type": "code",
      "execution_count": 19,
      "metadata": {},
      "outputs": [
        {
          "name": "stdout",
          "output_type": "stream",
          "text": [
            "CONTAINER ID   IMAGE     COMMAND   CREATED   STATUS    PORTS     NAMES\n"
          ]
        }
      ],
      "source": [
        "!docker ps -a"
      ]
    },
    {
      "cell_type": "markdown",
      "metadata": {},
      "source": [
        "### O modo interativo"
      ]
    },
    {
      "cell_type": "markdown",
      "metadata": {},
      "source": [
        "Vamos a executar um Ubuntu por meio do comando `docker run ubuntu`"
      ]
    },
    {
      "cell_type": "code",
      "execution_count": 29,
      "metadata": {},
      "outputs": [
        {
          "name": "stdout",
          "output_type": "stream",
          "text": [
            "Unable to find image 'ubuntu:latest' locally\n",
            "latest: Pulling from library/ubuntu\n",
            "\n",
            "\u001b[1BDigest: sha256:20fa2d7bb4de7723f542be5923b06c4d704370f0390e4ae9e1c833c8785644c1[1A\u001b[2K\u001b[1A\u001b[2K\u001b[1A\u001b[2K\u001b[1A\u001b[2K\u001b[1A\u001b[2K\u001b[1A\u001b[2K\u001b[1A\u001b[2K\u001b[1A\u001b[2K\n",
            "Status: Downloaded newer image for ubuntu:latest\n"
          ]
        }
      ],
      "source": [
        "!docker run ubuntu"
      ]
    },
    {
      "cell_type": "markdown",
      "metadata": {},
      "source": [
        "Como vemos, agora demorou mais para baixar. Se listarmos os contêineres através do comando `docker ps`, veremos que não aparece o contêiner que acabamos de criar, ou seja, ele não está em execução."
      ]
    },
    {
      "cell_type": "code",
      "execution_count": 30,
      "metadata": {},
      "outputs": [
        {
          "name": "stdout",
          "output_type": "stream",
          "text": [
            "CONTAINER ID   IMAGE     COMMAND   CREATED   STATUS    PORTS     NAMES\n"
          ]
        }
      ],
      "source": [
        "!docker ps"
      ]
    },
    {
      "cell_type": "markdown",
      "metadata": {},
      "source": [
        "Listamos agora todos os contêineres"
      ]
    },
    {
      "cell_type": "code",
      "execution_count": 31,
      "metadata": {},
      "outputs": [
        {
          "name": "stdout",
          "output_type": "stream",
          "text": [
            "CONTAINER ID   IMAGE     COMMAND   CREATED         STATUS                     PORTS     NAMES\n",
            "da16b3a85178   ubuntu    \"bash\"    4 seconds ago   Exited (0) 3 seconds ago             hardcore_kare\n"
          ]
        }
      ],
      "source": [
        "!docker ps -a"
      ]
    },
    {
      "cell_type": "markdown",
      "metadata": {},
      "source": [
        "Vemos que o estado do contêiner é `Exited (0)`"
      ]
    },
    {
      "cell_type": "markdown",
      "metadata": {},
      "source": [
        "Se observa que o comando do contêiner é `bash` e junto ao estado `Exited (0)` indica que foi iniciado o Ubuntu, executou seu *bash*, terminou a execução e retornou 0. Isso acontece porque não foi especificada nenhuma tarefa para o bash do Ubuntu. Para resolver isso, agora vamos executar o contêiner com o comando `docker run -it ubuntu`, onde `it` indica que queremos executá-lo em modo interativo."
      ]
    },
    {
      "cell_type": "code",
      "execution_count": 31,
      "metadata": {},
      "outputs": [
        {
          "name": "stdout",
          "output_type": "stream",
          "text": [
            "root@5b633e9d838f:/#"
          ]
        }
      ],
      "source": [
        "!docker run -it ubuntu"
      ]
    },
    {
      "cell_type": "markdown",
      "metadata": {},
      "source": [
        "Agora vemos que estamos dentro do bash do Ubuntu. Se executarmos o comando `cat /etc/lsb-release` podemos ver a distribuição do Ubuntu."
      ]
    },
    {
      "cell_type": "code",
      "execution_count": 31,
      "metadata": {},
      "outputs": [
        {
          "name": "stdout",
          "output_type": "stream",
          "text": [
            "DISTRIB_ID=Ubuntu\n",
            "DISTRIB_RELEASE=22.04\n",
            "DISTRIB_CODENAME=jammy\n",
            "DISTRIB_DESCRIPTION=\"Ubuntu 22.04.1 LTS\""
          ]
        }
      ],
      "source": [
        "!root@5b633e9d838f:/# cat /etc/lsb-release"
      ]
    },
    {
      "cell_type": "markdown",
      "metadata": {},
      "source": [
        "Se abrirmos outra terminal e vermos a lista de contêineres, agora sim aparecerá o contêiner rodando Ubuntu"
      ]
    },
    {
      "cell_type": "code",
      "execution_count": 35,
      "metadata": {},
      "outputs": [
        {
          "name": "stdout",
          "output_type": "stream",
          "text": [
            "CONTAINER ID   IMAGE     COMMAND   CREATED         STATUS         PORTS     NAMES\n",
            "5b633e9d838f   ubuntu    \"bash\"    3 minutes ago   Up 3 minutes             funny_mirzakhani\n"
          ]
        }
      ],
      "source": [
        "!docker ps"
      ]
    },
    {
      "cell_type": "markdown",
      "metadata": {},
      "source": [
        "Vemos o contêiner com Ubuntu e em seu estado podemos ver `UP`"
      ]
    },
    {
      "cell_type": "markdown",
      "metadata": {},
      "source": [
        "Se vemos agora a lista de todos os contentores, veremos que aparecem os dois contentores com Ubuntu, o primeiro desligado e o segundo que está em execução."
      ]
    },
    {
      "cell_type": "code",
      "execution_count": 36,
      "metadata": {},
      "outputs": [
        {
          "name": "stdout",
          "output_type": "stream",
          "text": [
            "CONTAINER ID   IMAGE     COMMAND   CREATED         STATUS                     PORTS     NAMES\n",
            "5b633e9d838f   ubuntu    \"bash\"    3 minutes ago   Up 3 minutes                         funny_mirzakhani\n",
            "da16b3a85178   ubuntu    \"bash\"    3 minutes ago   Exited (0) 3 minutes ago             hardcore_kare\n"
          ]
        }
      ],
      "source": [
        "!docker ps -a"
      ]
    },
    {
      "cell_type": "markdown",
      "metadata": {},
      "source": [
        "Se voltarmos à terminal onde tínhamos o Ubuntu rodando dentro de um docker, se escrevermos ``exit`` sairemos do Ubuntu."
      ]
    },
    {
      "cell_type": "code",
      "execution_count": 36,
      "metadata": {},
      "outputs": [
        {
          "name": "stdout",
          "output_type": "stream",
          "text": [
            "exit"
          ]
        }
      ],
      "source": [
        "!root@5b633e9d838f:/# exit"
      ]
    },
    {
      "cell_type": "markdown",
      "metadata": {},
      "source": [
        "Se executarmos `docker ps` o contêiner já não aparece"
      ]
    },
    {
      "cell_type": "code",
      "execution_count": 37,
      "metadata": {},
      "outputs": [
        {
          "name": "stdout",
          "output_type": "stream",
          "text": [
            "CONTAINER ID   IMAGE     COMMAND   CREATED   STATUS    PORTS     NAMES\n"
          ]
        }
      ],
      "source": [
        "!docker ps"
      ]
    },
    {
      "cell_type": "markdown",
      "metadata": {},
      "source": [
        "Mas se eu executar ``docker ps -a`` ele aparece. Isso significa que o contêiner foi desligado."
      ]
    },
    {
      "cell_type": "code",
      "execution_count": 38,
      "metadata": {},
      "outputs": [
        {
          "name": "stdout",
          "output_type": "stream",
          "text": [
            "CONTAINER ID   IMAGE     COMMAND   CREATED         STATUS                      PORTS     NAMES\n",
            "5b633e9d838f   ubuntu    \"bash\"    4 minutes ago   Exited (0) 27 seconds ago             funny_mirzakhani\n",
            "da16b3a85178   ubuntu    \"bash\"    4 minutes ago   Exited (0) 4 minutes ago              hardcore_kare\n"
          ]
        }
      ],
      "source": [
        "!docker ps -a"
      ]
    },
    {
      "cell_type": "markdown",
      "metadata": {},
      "source": [
        "Isso ocorre porque ao escrever ``exit``, na verdade estamos escrevendo no console do bash do Ubuntu, o que significa que estamos encerrando o processo bash do Ubuntu."
      ]
    },
    {
      "cell_type": "markdown",
      "metadata": {},
      "source": [
        "### Ciclo de vida de um contêiner"
      ]
    },
    {
      "cell_type": "markdown",
      "metadata": {},
      "source": [
        "Em Docker, quando o processo principal de um contêiner termina, o contêiner é desligado. Dentro de um contêiner podem ser executados vários processos, mas apenas quando o processo principal termina, o contêiner é desligado.\n",
        "\n",
        "Portanto, se quisermos executar um contêiner que não pare quando um processo terminar, devemos fazer com que seu processo principal não termine. Neste caso, que o bash não termine.\n",
        "\n",
        "Se quisermos executar um contêiner com Ubuntu, mas que não finalize quando o processo do Bash terminar, podemos fazer da seguinte maneira"
      ]
    },
    {
      "cell_type": "code",
      "execution_count": 39,
      "metadata": {},
      "outputs": [
        {
          "name": "stdout",
          "output_type": "stream",
          "text": [
            "ce4d60427dcd4b326d15aa832b816c209761d6b4e067a016bb75bf9366c37054\n"
          ]
        }
      ],
      "source": [
        "!docker run --name alwaysup -d ubuntu tail -f /dev/null"
      ]
    },
    {
      "cell_type": "markdown",
      "metadata": {},
      "source": [
        "O que fazemos é primeiro dar o nome ``alwaysup``, em segundo lugar passar a opção ``-d`` (``detach``) para que o contêiner seja executado em segundo plano e por fim dizer o processo principal que queremos que seja executado no contêiner, que neste caso é ``tail -f /dev/null`` que equivale a um comando ``nop``\n",
        "\n",
        "Isso nos retornará o ID do contêiner, mas não estaremos dentro do Ubuntu como acontecia antes."
      ]
    },
    {
      "cell_type": "markdown",
      "metadata": {},
      "source": [
        "Se agora vermos a lista de contêineres que estão em execução, aparecerá o contêiner que acabamos de criar."
      ]
    },
    {
      "cell_type": "code",
      "execution_count": 40,
      "metadata": {},
      "outputs": [
        {
          "name": "stdout",
          "output_type": "stream",
          "text": [
            "CONTAINER ID   IMAGE     COMMAND               CREATED          STATUS          PORTS     NAMES\n",
            "ce4d60427dcd   ubuntu    \"tail -f /dev/null\"   18 seconds ago   Up 17 seconds             alwaysup\n"
          ]
        }
      ],
      "source": [
        "!docker ps"
      ]
    },
    {
      "cell_type": "markdown",
      "metadata": {},
      "source": [
        "Como já temos um contêiner rodando sempre, podemos nos conectar a ele através do comando ``exec``. Dizemos o nome ou a ID do contêiner e passamos o processo que queremos que seja executado. Além disso, passamos a opção ``-it`` para dizer que deve ser interativo."
      ]
    },
    {
      "cell_type": "code",
      "execution_count": 40,
      "metadata": {},
      "outputs": [
        {
          "name": "stdout",
          "output_type": "stream",
          "text": [
            "root@ce4d60427dcd:/#"
          ]
        }
      ],
      "source": [
        "!docker exec -it alwaysup bash"
      ]
    },
    {
      "attachments": {},
      "cell_type": "markdown",
      "metadata": {},
      "source": [
        "Agora estamos de volta no Ubuntu. Se executarmos o comando ``ps -aux``, podemos ver uma lista dos processos que estão sendo executados dentro do Ubuntu."
      ]
    },
    {
      "cell_type": "code",
      "execution_count": 40,
      "metadata": {},
      "outputs": [
        {
          "name": "stdout",
          "output_type": "stream",
          "text": [
            "USER         PID %CPU %MEM    VSZ   RSS TTY      STAT START   TIME COMMAND\n",
            "root           1  0.0  0.0   2820  1048 ?        Ss   13:04   0:00 tail -f /dev/null\n",
            "root           7  0.0  0.0   4628  3796 pts/0    Ss   13:04   0:00 bash\n",
            "root          15  0.0  0.0   7060  1556 pts/0    R+   13:05   0:00 ps -aux"
          ]
        }
      ],
      "source": [
        "!ps -aux"
      ]
    },
    {
      "attachments": {},
      "cell_type": "markdown",
      "metadata": {},
      "source": [
        "Vemos apenas três processos, o ``ps -aux``, o ``bash`` e o ``tail -f /dev/null``\n",
        "\n",
        "Este contêiner vai ficar sempre ligado enquanto o processo ``tail -f /dev/null`` estiver em execução."
      ]
    },
    {
      "cell_type": "markdown",
      "metadata": {},
      "source": [
        "Se sairmos do contêiner com o comando ``exit`` e executarmos o comando ``docker ps`` veremos que o contêiner continua ligado."
      ]
    },
    {
      "cell_type": "code",
      "execution_count": 40,
      "metadata": {},
      "outputs": [
        {
          "name": "stdout",
          "output_type": "stream",
          "text": [
            "exit"
          ]
        }
      ],
      "source": [
        "!exit"
      ]
    },
    {
      "cell_type": "code",
      "execution_count": 41,
      "metadata": {},
      "outputs": [
        {
          "name": "stdout",
          "output_type": "stream",
          "text": [
            "CONTAINER ID   IMAGE     COMMAND               CREATED         STATUS         PORTS     NAMES\n",
            "ce4d60427dcd   ubuntu    \"tail -f /dev/null\"   2 minutes ago   Up 2 minutes             alwaysup\n"
          ]
        }
      ],
      "source": [
        "!docker ps"
      ]
    },
    {
      "cell_type": "markdown",
      "metadata": {},
      "source": [
        "Para poder finalizar o processo e poder desligar o contêiner, devemos usar o comando ``docker stop <name>``"
      ]
    },
    {
      "cell_type": "code",
      "execution_count": 53,
      "metadata": {},
      "outputs": [
        {
          "name": "stdout",
          "output_type": "stream",
          "text": [
            "alwaysup\n"
          ]
        }
      ],
      "source": [
        "!docker stop alwaysup"
      ]
    },
    {
      "cell_type": "markdown",
      "metadata": {},
      "source": [
        "Se agora listarmos os contêineres em execução, o contêiner com Ubuntu já não aparecerá."
      ]
    },
    {
      "cell_type": "code",
      "execution_count": 54,
      "metadata": {},
      "outputs": [
        {
          "name": "stdout",
          "output_type": "stream",
          "text": [
            "CONTAINER ID   IMAGE     COMMAND   CREATED   STATUS    PORTS     NAMES\n"
          ]
        }
      ],
      "source": [
        "!docker ps"
      ]
    },
    {
      "cell_type": "markdown",
      "metadata": {},
      "source": [
        "E se listarmos todos os contêineres, aparece o contêiner com Ubuntu, e seu estado ``Exited``"
      ]
    },
    {
      "cell_type": "code",
      "execution_count": 55,
      "metadata": {},
      "outputs": [
        {
          "name": "stdout",
          "output_type": "stream",
          "text": [
            "CONTAINER ID   IMAGE     COMMAND               CREATED          STATUS                            PORTS     NAMES\n",
            "ce4d60427dcd   ubuntu    \"tail -f /dev/null\"   14 minutes ago   Exited (137) About a minute ago             alwaysup\n",
            "5b633e9d838f   ubuntu    \"bash\"                19 minutes ago   Exited (0) 15 minutes ago                   funny_mirzakhani\n",
            "da16b3a85178   ubuntu    \"bash\"                20 minutes ago   Exited (0) 20 minutes ago                   hardcore_kare\n"
          ]
        }
      ],
      "source": [
        "!docker ps -a"
      ]
    },
    {
      "cell_type": "markdown",
      "metadata": {},
      "source": [
        "Também podemos pausar um contêiner por meio do comando `docker pause <name>`"
      ]
    },
    {
      "cell_type": "code",
      "execution_count": 5,
      "metadata": {},
      "outputs": [
        {
          "name": "stdout",
          "output_type": "stream",
          "text": [
            "8282eaf9dc3604fa94df206b2062287409cc92cbcd203f1a018742b5c171c9e4\n"
          ]
        }
      ],
      "source": [
        "!docker run --name alwaysup -d ubuntu tail -f /dev/null"
      ]
    },
    {
      "cell_type": "markdown",
      "metadata": {},
      "source": [
        "Agora nós pausamos"
      ]
    },
    {
      "cell_type": "code",
      "execution_count": 6,
      "metadata": {},
      "outputs": [
        {
          "name": "stdout",
          "output_type": "stream",
          "text": [
            "alwaysup\n"
          ]
        }
      ],
      "source": [
        "!docker pause alwaysup"
      ]
    },
    {
      "cell_type": "markdown",
      "metadata": {},
      "source": [
        "Se voltarmos a ver todos os contêineres, vemos que o contêiner com Ubuntu está pausado."
      ]
    },
    {
      "cell_type": "code",
      "execution_count": 7,
      "metadata": {},
      "outputs": [
        {
          "name": "stdout",
          "output_type": "stream",
          "text": [
            "CONTAINER ID   IMAGE     COMMAND               CREATED          STATUS                       PORTS     NAMES\n",
            "8282eaf9dc36   ubuntu    \"tail -f /dev/null\"   41 seconds ago   Up 41 seconds (Paused)                 alwaysup\n",
            "5b633e9d838f   ubuntu    \"bash\"                19 minutes ago   Exited (0) 15 minutes ago              funny_mirzakhani\n",
            "da16b3a85178   ubuntu    \"bash\"                20 minutes ago   Exited (0) 20 minutes ago              hardcore_kare\n"
          ]
        }
      ],
      "source": [
        "!docker ps -a"
      ]
    },
    {
      "cell_type": "markdown",
      "metadata": {},
      "source": [
        "### Contentores de uso único"
      ]
    },
    {
      "cell_type": "markdown",
      "metadata": {},
      "source": [
        "Se a hora de executar um contêiner, colocarmos a opção `--rm`, esse contêiner vai ser apagado quando terminar de ser executado."
      ]
    },
    {
      "cell_type": "code",
      "execution_count": 77,
      "metadata": {},
      "outputs": [],
      "source": [
        "!docker run --rm --name autoremove ubuntu:latest"
      ]
    },
    {
      "cell_type": "markdown",
      "metadata": {},
      "source": [
        "Se agora vemos quais contêineres temos"
      ]
    },
    {
      "cell_type": "code",
      "execution_count": 79,
      "metadata": {},
      "outputs": [
        {
          "name": "stdout",
          "output_type": "stream",
          "text": [
            "CONTAINER ID   IMAGE     COMMAND   CREATED   STATUS    PORTS     NAMES\n"
          ]
        }
      ],
      "source": [
        "!docker ps -a"
      ]
    },
    {
      "cell_type": "markdown",
      "metadata": {},
      "source": [
        "Vemos que não está o contêiner que acabamos de criar"
      ]
    },
    {
      "cell_type": "markdown",
      "metadata": {},
      "source": [
        "### Expor containers ao mundo externo"
      ]
    },
    {
      "cell_type": "markdown",
      "metadata": {},
      "source": [
        "Vamos a criar um novo contêiner com um servidor"
      ]
    },
    {
      "cell_type": "code",
      "execution_count": 56,
      "metadata": {},
      "outputs": [
        {
          "name": "stdout",
          "output_type": "stream",
          "text": [
            "Unable to find image 'nginx:latest' locally\n",
            "latest: Pulling from library/nginx\n",
            "\n",
            "\u001b[1Bf1ad4ce1: Pulling fs layer \n",
            "\u001b[1Bb079d0f8: Pulling fs layer \n",
            "\u001b[1B5fbbebc6: Pulling fs layer \n",
            "\u001b[1Bffdd25f4: Pulling fs layer \n",
            "\u001b[1B32c8fba2: Pulling fs layer \n",
            "\u001b[1B24b8ba39: Pull complete 393kB/1.393kBB[5A\u001b[2K\u001b[6A\u001b[2K\u001b[5A\u001b[2K\u001b[6A\u001b[2K\u001b[5A\u001b[2K\u001b[6A\u001b[2K\u001b[5A\u001b[2K\u001b[6A\u001b[2K\u001b[5A\u001b[2K\u001b[3A\u001b[2K\u001b[5A\u001b[2K\u001b[5A\u001b[2K\u001b[6A\u001b[2K\u001b[6A\u001b[2K\u001b[6A\u001b[2K\u001b[2A\u001b[2K\u001b[6A\u001b[2K\u001b[6A\u001b[2K\u001b[6A\u001b[2K\u001b[6A\u001b[2K\u001b[6A\u001b[2K\u001b[6A\u001b[2K\u001b[5A\u001b[2K\u001b[5A\u001b[2K\u001b[5A\u001b[2K\u001b[5A\u001b[2K\u001b[5A\u001b[2K\u001b[4A\u001b[2K\u001b[3A\u001b[2K\u001b[2A\u001b[2K\u001b[1A\u001b[2K\u001b[1A\u001b[2KDigest: sha256:2888a97f7c7d498bbcc47ede1ad0f6ced07d72dfd181071dde051863f1f79d7b\n",
            "Status: Downloaded newer image for nginx:latest\n",
            "1a530e04f14be082811b72ea8b6ea5a95dad3037301ee8a1351a0108ff8d3b30\n"
          ]
        }
      ],
      "source": [
        "!docker run -d --name proxy nginx"
      ]
    },
    {
      "cell_type": "markdown",
      "metadata": {},
      "source": [
        "Isso cria um servidor, vamos listar novamente os contêineres que estão em execução."
      ]
    },
    {
      "cell_type": "code",
      "execution_count": 57,
      "metadata": {},
      "outputs": [
        {
          "name": "stdout",
          "output_type": "stream",
          "text": [
            "CONTAINER ID   IMAGE     COMMAND                  CREATED        STATUS                  PORTS     NAMES\n",
            "1a530e04f14b   nginx     \"/docker-entrypoint.…\"   1 second ago   Up Less than a second   80/tcp    proxy\n"
          ]
        }
      ],
      "source": [
        "!docker ps"
      ]
    },
    {
      "cell_type": "markdown",
      "metadata": {},
      "source": [
        "Agora aparece uma nova coluna com a porta, e nos diz que o servidor que acabamos de criar está na porta `80` sob o protocolo `tcp`.\n",
        "\n",
        "Se abrirmos um navegador e tentarmos nos conectar ao servidor através de ``http://localhost:80``, não conseguiremos conectar. Isso acontece porque cada contêiner tem sua própria interface de rede. Ou seja, o servidor está ouvindo na porta ``80`` do contêiner, mas nós estamos tentando conectar à porta ``80`` do host."
      ]
    },
    {
      "cell_type": "markdown",
      "metadata": {},
      "source": [
        "Paramos o contêiner para relançá-lo de outra forma"
      ]
    },
    {
      "cell_type": "code",
      "execution_count": 58,
      "metadata": {},
      "outputs": [
        {
          "name": "stdout",
          "output_type": "stream",
          "text": [
            "proxy\n"
          ]
        }
      ],
      "source": [
        "!docker stop proxy"
      ]
    },
    {
      "cell_type": "markdown",
      "metadata": {},
      "source": [
        "Se listarmos os contêineres, não aparece em execução"
      ]
    },
    {
      "cell_type": "code",
      "execution_count": 59,
      "metadata": {},
      "outputs": [
        {
          "name": "stdout",
          "output_type": "stream",
          "text": [
            "CONTAINER ID   IMAGE     COMMAND   CREATED   STATUS    PORTS     NAMES\n"
          ]
        }
      ],
      "source": [
        "!docker ps"
      ]
    },
    {
      "cell_type": "markdown",
      "metadata": {},
      "source": [
        "O apagamos para recriá-lo"
      ]
    },
    {
      "cell_type": "code",
      "execution_count": 60,
      "metadata": {},
      "outputs": [
        {
          "name": "stdout",
          "output_type": "stream",
          "text": [
            "proxy\n"
          ]
        }
      ],
      "source": [
        "!docker rm proxy"
      ]
    },
    {
      "cell_type": "markdown",
      "metadata": {},
      "source": [
        "Se listarmos todos os contêineres, já não está"
      ]
    },
    {
      "cell_type": "code",
      "execution_count": 61,
      "metadata": {},
      "outputs": [
        {
          "name": "stdout",
          "output_type": "stream",
          "text": [
            "CONTAINER ID   IMAGE     COMMAND               CREATED          STATUS                       PORTS     NAMES\n",
            "ce4d60427dcd   ubuntu    \"tail -f /dev/null\"   19 minutes ago   Exited (137) 5 minutes ago             alwaysup\n",
            "5b633e9d838f   ubuntu    \"bash\"                24 minutes ago   Exited (0) 20 minutes ago              funny_mirzakhani\n",
            "da16b3a85178   ubuntu    \"bash\"                24 minutes ago   Exited (0) 24 minutes ago              hardcore_kare\n"
          ]
        }
      ],
      "source": [
        "!docker ps -a"
      ]
    },
    {
      "cell_type": "markdown",
      "metadata": {},
      "source": [
        "Para recriar o contêiner com o servidor e poder vê-lo do host, temos que usar a opção ``-p`` (``publish``), indicando em primeiro lugar a porta na qual queremos vê-la no host e em seguida a porta do contêiner, ou seja, ``-p <ip host>:<ip contêiner>``"
      ]
    },
    {
      "cell_type": "code",
      "execution_count": 62,
      "metadata": {},
      "outputs": [
        {
          "name": "stdout",
          "output_type": "stream",
          "text": [
            "c199235e42f76a30266f6e1af972e0a59811806eb3d3a9afdd873f6fa1785eae\n"
          ]
        }
      ],
      "source": [
        "!docker run -d --name proxy -p 8080:80 nginx"
      ]
    },
    {
      "cell_type": "markdown",
      "metadata": {},
      "source": [
        "Listamos os contêineres"
      ]
    },
    {
      "cell_type": "code",
      "execution_count": 63,
      "metadata": {},
      "outputs": [
        {
          "name": "stdout",
          "output_type": "stream",
          "text": [
            "CONTAINER ID   IMAGE     COMMAND                  CREATED          STATUS          PORTS                                   NAMES\n",
            "c199235e42f7   nginx     \"/docker-entrypoint.…\"   22 seconds ago   Up 21 seconds   0.0.0.0:8080->80/tcp, :::8080->80/tcp   proxy\n"
          ]
        }
      ],
      "source": [
        "!docker ps"
      ]
    },
    {
      "cell_type": "markdown",
      "metadata": {},
      "source": [
        "Vemos que o porto do contentor é `0.0.0.0:8080->80/tcp`. Se agora formos a um navegador e introduzirmos `0.0.0.0:8080` poderemos aceder ao servidor do contentor"
      ]
    },
    {
      "cell_type": "markdown",
      "metadata": {},
      "source": [
        "Ao listar os contêineres, na coluna ``PORTS`` indica ``0.0.0.0:8080->80/tcp``, o que nos ajuda a ver a relação de portas"
      ]
    },
    {
      "cell_type": "markdown",
      "metadata": {},
      "source": [
        "Para ver os logs do contêiner, através do comando ``docker logs <name>`` posso ver os registros do contêiner"
      ]
    },
    {
      "cell_type": "code",
      "execution_count": 64,
      "metadata": {},
      "outputs": [
        {
          "name": "stdout",
          "output_type": "stream",
          "text": [
            "/docker-entrypoint.sh: /docker-entrypoint.d/ is not empty, will attempt to perform configuration\n",
            "/docker-entrypoint.sh: Looking for shell scripts in /docker-entrypoint.d/\n",
            "/docker-entrypoint.sh: Launching /docker-entrypoint.d/10-listen-on-ipv6-by-default.sh\n",
            "10-listen-on-ipv6-by-default.sh: info: Getting the checksum of /etc/nginx/conf.d/default.conf\n",
            "10-listen-on-ipv6-by-default.sh: info: Enabled listen on IPv6 in /etc/nginx/conf.d/default.conf\n",
            "/docker-entrypoint.sh: Launching /docker-entrypoint.d/20-envsubst-on-templates.sh\n",
            "/docker-entrypoint.sh: Launching /docker-entrypoint.d/30-tune-worker-processes.sh\n",
            "/docker-entrypoint.sh: Configuration complete; ready for start up\n",
            "2022/09/13 13:24:06 [notice] 1#1: using the \"epoll\" event method\n",
            "2022/09/13 13:24:06 [notice] 1#1: nginx/1.23.1\n",
            "2022/09/13 13:24:06 [notice] 1#1: built by gcc 10.2.1 20210110 (Debian 10.2.1-6) \n",
            "2022/09/13 13:24:06 [notice] 1#1: OS: Linux 5.15.0-46-generic\n",
            "2022/09/13 13:24:06 [notice] 1#1: getrlimit(RLIMIT_NOFILE): 1048576:1048576\n",
            "2022/09/13 13:24:06 [notice] 1#1: start worker processes\n",
            "2022/09/13 13:24:06 [notice] 1#1: start worker process 31\n",
            "2022/09/13 13:24:06 [notice] 1#1: start worker process 32\n",
            "2022/09/13 13:24:06 [notice] 1#1: start worker process 33\n",
            "2022/09/13 13:24:06 [notice] 1#1: start worker process 34\n",
            "2022/09/13 13:24:06 [notice] 1#1: start worker process 35\n",
            "2022/09/13 13:24:06 [notice] 1#1: start worker process 36\n",
            "2022/09/13 13:24:06 [notice] 1#1: start worker process 37\n",
            "2022/09/13 13:24:06 [notice] 1#1: start worker process 38\n",
            "2022/09/13 13:24:06 [notice] 1#1: start worker process 39\n",
            "2022/09/13 13:24:06 [notice] 1#1: start worker process 40\n",
            "2022/09/13 13:24:06 [notice] 1#1: start worker process 41\n",
            "...\n",
            "172.17.0.1 - - [13/Sep/2022:13:24:40 +0000] \"GET /favicon.ico HTTP/1.1\" 404 555 \"http://0.0.0.0:8080/\" \"Mozilla/5.0 (X11; Linux x86_64) AppleWebKit/537.36 (KHTML, like Gecko) Chrome/105.0.0.0 Safari/537.36\" \"-\"\n",
            "172.17.0.1 - - [13/Sep/2022:13:25:00 +0000] \"\\x16\\x03\\x01\\x02\\x00\\x01\\x00\\x01\\xFC\\x03\\x03\\xE2\\x19V$Zqi'\\xD7\\xFC[\\x80\\xEF\\xBA\\xE5\\xC7\\xE8\\xF7&3nS\\xEB\\xC9\\xEC\\x91\\xC2\\xD8\\xD1\\x89\\x9E\\xBE \\xC7?\\xE1\\xFA\\x04a\\x1C\\xCE\\x90\\x0F\\x8F\\x98u\\xE3/\\xD8RfOH\\xEC\\x92+\\x93\\x5C\\xBB\\xB1\\xBF\\xD2m\\xB09\\x00 \\xFA\\xFA\\x13\\x01\\x13\\x02\\x13\\x03\\xC0+\\xC0/\\xC0,\\xC00\\xCC\\xA9\\xCC\\xA8\\xC0\\x13\\xC0\\x14\\x00\\x9C\\x00\\x9D\\x00/\\x005\\x01\\x00\\x01\\x93\\x9A\\x9A\\x00\\x00\\x00\\x00\\x00\\x0E\\x00\\x0C\\x00\\x00\\x09localhost\\x00\\x17\\x00\\x00\\xFF\\x01\\x00\\x01\\x00\\x00\" 400 157 \"-\" \"-\" \"-\"\n",
            "172.17.0.1 - - [13/Sep/2022:13:25:00 +0000] \"\\x16\\x03\\x01\\x02\\x00\\x01\\x00\\x01\\xFC\\x03\\x03)\\x9A\\x8FbC\\xD9m\\xF1\\x86\\xEBd\\x22\\xCF\\xC4E\\x87#~L\\xC1\\x84\\x7F\\xB5\\x91k\\x98\\xABl\\xEE\\x1E[0 \\xD0\\xD2`\\x85\\xC6\\x8B\\x85R\\x8B\\x87\\xEAq{P\\xF2\\xFB\\xE2\\xA8\\x9DI\\xF4tH\\x99\\x13\\x10~\\xCA1-|\\x8E\\x00 \\xEA\\xEA\\x13\\x01\\x13\\x02\\x13\\x03\\xC0+\\xC0/\\xC0,\\xC00\\xCC\\xA9\\xCC\\xA8\\xC0\\x13\\xC0\\x14\\x00\\x9C\\x00\\x9D\\x00/\\x005\\x01\\x00\\x01\\x93\" 400 157 \"-\" \"-\" \"-\"\n",
            "172.17.0.1 - - [13/Sep/2022:13:26:28 +0000] \"GET / HTTP/1.1\" 304 0 \"-\" \"Mozilla/5.0 (X11; Linux x86_64) AppleWebKit/537.36 (KHTML, like Gecko) Chrome/105.0.0.0 Safari/537.36\" \"-\"\n"
          ]
        }
      ],
      "source": [
        "!docker logs proxy"
      ]
    },
    {
      "attachments": {},
      "cell_type": "markdown",
      "metadata": {},
      "source": [
        "Agora posso ver todas as solicitações que foram feitas ao servidor. Mas se eu quiser ver os logs em tempo real, usando ``docker logs -f <name>`` posso fazer isso."
      ]
    },
    {
      "cell_type": "code",
      "execution_count": 64,
      "metadata": {},
      "outputs": [
        {
          "name": "stdout",
          "output_type": "stream",
          "text": []
        }
      ],
      "source": [
        "!docker logs -f proxy"
      ]
    },
    {
      "attachments": {},
      "cell_type": "markdown",
      "metadata": {},
      "source": [
        "Agora posso ver os logs em tempo real. Para sair, pressione ``CTRL+C``"
      ]
    },
    {
      "cell_type": "markdown",
      "metadata": {},
      "source": [
        "Como pode chegar um momento em que haja muitos logs, se você quiser apenas os últimos logs, através da opção ``--tail <num>`` você pode ver os últimos ``<num>`` logs. Se adicionar a opção ``-f`` estaremos vendo sempre os últimos ``<num>`` logs."
      ]
    },
    {
      "cell_type": "code",
      "execution_count": 65,
      "metadata": {},
      "outputs": [
        {
          "name": "stdout",
          "output_type": "stream",
          "text": [
            "2022/09/13 13:24:06 [notice] 1#1: start worker process 41\n",
            "2022/09/13 13:24:06 [notice] 1#1: start worker process 42\n",
            "172.17.0.1 - - [13/Sep/2022:13:24:16 +0000] \"\\x16\\x03\\x01\\x02\\x00\\x01\\x00\\x01\\xFC\\x03\\x03\\x01E\\x14\\x8E\\xB6\\x0BEg\\xF3\\xC9\\x9A\\x19\\x9C\\xCA\\xEC\\xA7y#3\\x92\\x05\\x95\\xDCQ\\x07\\x19\\x1D\\xEF\\xEA$\\xBF# \\x0B\\x83\\xF7-,s\\x1B!r\\xEA|\\xAE\\xDF\\xA1\\x9DLZ\\xAA4y\\xB3t\\xAB\\xC0\\xCE_\\xB8\\xE7\\xFF'\\xCF\\x86\\x00 \\xEA\\xEA\\x13\\x01\\x13\\x02\\x13\\x03\\xC0+\\xC0/\\xC0,\\xC00\\xCC\\xA9\\xCC\\xA8\\xC0\\x13\\xC0\\x14\\x00\\x9C\\x00\\x9D\\x00/\\x005\\x01\\x00\\x01\\x93\\x8A\\x8A\\x00\\x00\\x00\\x00\\x00\\x0E\\x00\\x0C\\x00\\x00\\x09localhost\\x00\\x17\\x00\\x00\\xFF\\x01\\x00\\x01\\x00\\x00\" 400 157 \"-\" \"-\" \"-\"\n",
            "172.17.0.1 - - [13/Sep/2022:13:24:16 +0000] \"\\x16\\x03\\x01\\x02\\x00\\x01\\x00\\x01\\xFC\\x03\\x03}\\xA9Dr{\\x8C;\\x90z\\x82\\xAD\\xBC\\x8Az\\xC2x\\xDF\\x1E\\x9A\\xE6l?\\xA7\\xE0DoK\\x91'g\\xBB\\xB5 %\\xBB\\xFD\\xD9\\x82?\\xDB\\x80\\xB3T\\xF6cJ\\xF7\\xE5\\xC2\\xD2\\x11\\xBC\\xA2\\x1F\\x90\\x14\\xA3\\xEB\\xBD=R\\xBC\\x83\\x89\\x85\\x00 \\xCA\\xCA\\x13\\x01\\x13\\x02\\x13\\x03\\xC0+\\xC0/\\xC0,\\xC00\\xCC\\xA9\\xCC\\xA8\\xC0\\x13\\xC0\\x14\\x00\\x9C\\x00\\x9D\\x00/\\x005\\x01\\x00\\x01\\x93\\x9A\\x9A\\x00\\x00\\x00\\x00\\x00\\x0E\\x00\\x0C\\x00\\x00\\x09localhost\\x00\\x17\\x00\\x00\\xFF\\x01\\x00\\x01\\x00\\x00\" 400 157 \"-\" \"-\" \"-\"\n",
            "172.17.0.1 - - [13/Sep/2022:13:24:39 +0000] \"GET / HTTP/1.1\" 200 615 \"-\" \"Mozilla/5.0 (X11; Linux x86_64) AppleWebKit/537.36 (KHTML, like Gecko) Chrome/105.0.0.0 Safari/537.36\" \"-\"\n",
            "2022/09/13 13:24:40 [error] 34#34: *3 open() \"/usr/share/nginx/html/favicon.ico\" failed (2: No such file or directory), client: 172.17.0.1, server: localhost, request: \"GET /favicon.ico HTTP/1.1\", host: \"0.0.0.0:8080\", referrer: \"http://0.0.0.0:8080/\"\n",
            "172.17.0.1 - - [13/Sep/2022:13:24:40 +0000] \"GET /favicon.ico HTTP/1.1\" 404 555 \"http://0.0.0.0:8080/\" \"Mozilla/5.0 (X11; Linux x86_64) AppleWebKit/537.36 (KHTML, like Gecko) Chrome/105.0.0.0 Safari/537.36\" \"-\"\n",
            "172.17.0.1 - - [13/Sep/2022:13:25:00 +0000] \"\\x16\\x03\\x01\\x02\\x00\\x01\\x00\\x01\\xFC\\x03\\x03\\xE2\\x19V$Zqi'\\xD7\\xFC[\\x80\\xEF\\xBA\\xE5\\xC7\\xE8\\xF7&3nS\\xEB\\xC9\\xEC\\x91\\xC2\\xD8\\xD1\\x89\\x9E\\xBE \\xC7?\\xE1\\xFA\\x04a\\x1C\\xCE\\x90\\x0F\\x8F\\x98u\\xE3/\\xD8RfOH\\xEC\\x92+\\x93\\x5C\\xBB\\xB1\\xBF\\xD2m\\xB09\\x00 \\xFA\\xFA\\x13\\x01\\x13\\x02\\x13\\x03\\xC0+\\xC0/\\xC0,\\xC00\\xCC\\xA9\\xCC\\xA8\\xC0\\x13\\xC0\\x14\\x00\\x9C\\x00\\x9D\\x00/\\x005\\x01\\x00\\x01\\x93\\x9A\\x9A\\x00\\x00\\x00\\x00\\x00\\x0E\\x00\\x0C\\x00\\x00\\x09localhost\\x00\\x17\\x00\\x00\\xFF\\x01\\x00\\x01\\x00\\x00\" 400 157 \"-\" \"-\" \"-\"\n",
            "172.17.0.1 - - [13/Sep/2022:13:25:00 +0000] \"\\x16\\x03\\x01\\x02\\x00\\x01\\x00\\x01\\xFC\\x03\\x03)\\x9A\\x8FbC\\xD9m\\xF1\\x86\\xEBd\\x22\\xCF\\xC4E\\x87#~L\\xC1\\x84\\x7F\\xB5\\x91k\\x98\\xABl\\xEE\\x1E[0 \\xD0\\xD2`\\x85\\xC6\\x8B\\x85R\\x8B\\x87\\xEAq{P\\xF2\\xFB\\xE2\\xA8\\x9DI\\xF4tH\\x99\\x13\\x10~\\xCA1-|\\x8E\\x00 \\xEA\\xEA\\x13\\x01\\x13\\x02\\x13\\x03\\xC0+\\xC0/\\xC0,\\xC00\\xCC\\xA9\\xCC\\xA8\\xC0\\x13\\xC0\\x14\\x00\\x9C\\x00\\x9D\\x00/\\x005\\x01\\x00\\x01\\x93\" 400 157 \"-\" \"-\" \"-\"\n",
            "172.17.0.1 - - [13/Sep/2022:13:26:28 +0000] \"GET / HTTP/1.1\" 304 0 \"-\" \"Mozilla/5.0 (X11; Linux x86_64) AppleWebKit/537.36 (KHTML, like Gecko) Chrome/105.0.0.0 Safari/537.36\" \"-\"\n"
          ]
        }
      ],
      "source": [
        "!docker logs --tail 10 proxy"
      ]
    },
    {
      "cell_type": "markdown",
      "metadata": {},
      "source": [
        "Se adicionarmos a opção `-t`, podemos ver a data e hora de cada log. Dessa forma, se tivermos um problema, podemos saber em que momento ele ocorreu."
      ]
    },
    {
      "cell_type": "code",
      "execution_count": 100,
      "metadata": {},
      "outputs": [
        {
          "name": "stdout",
          "output_type": "stream",
          "text": [
            "2022-09-13T13:24:06.573362728Z 2022/09/13 13:24:06 [notice] 1#1: start worker process 41\n",
            "2022-09-13T13:24:06.651127107Z 2022/09/13 13:24:06 [notice] 1#1: start worker process 42\n",
            "2022-09-13T13:24:16.651160189Z 172.17.0.1 - - [13/Sep/2022:13:24:16 +0000] \"\\x16\\x03\\x01\\x02\\x00\\x01\\x00\\x01\\xFC\\x03\\x03\\x01E\\x14\\x8E\\xB6\\x0BEg\\xF3\\xC9\\x9A\\x19\\x9C\\xCA\\xEC\\xA7y#3\\x92\\x05\\x95\\xDCQ\\x07\\x19\\x1D\\xEF\\xEA$\\xBF# \\x0B\\x83\\xF7-,s\\x1B!r\\xEA|\\xAE\\xDF\\xA1\\x9DLZ\\xAA4y\\xB3t\\xAB\\xC0\\xCE_\\xB8\\xE7\\xFF'\\xCF\\x86\\x00 \\xEA\\xEA\\x13\\x01\\x13\\x02\\x13\\x03\\xC0+\\xC0/\\xC0,\\xC00\\xCC\\xA9\\xCC\\xA8\\xC0\\x13\\xC0\\x14\\x00\\x9C\\x00\\x9D\\x00/\\x005\\x01\\x00\\x01\\x93\\x8A\\x8A\\x00\\x00\\x00\\x00\\x00\\x0E\\x00\\x0C\\x00\\x00\\x09localhost\\x00\\x17\\x00\\x00\\xFF\\x01\\x00\\x01\\x00\\x00\" 400 157 \"-\" \"-\" \"-\"\n",
            "2022-09-13T13:24:16.116817914Z 172.17.0.1 - - [13/Sep/2022:13:24:16 +0000] \"\\x16\\x03\\x01\\x02\\x00\\x01\\x00\\x01\\xFC\\x03\\x03}\\xA9Dr{\\x8C;\\x90z\\x82\\xAD\\xBC\\x8Az\\xC2x\\xDF\\x1E\\x9A\\xE6l?\\xA7\\xE0DoK\\x91'g\\xBB\\xB5 %\\xBB\\xFD\\xD9\\x82?\\xDB\\x80\\xB3T\\xF6cJ\\xF7\\xE5\\xC2\\xD2\\x11\\xBC\\xA2\\x1F\\x90\\x14\\xA3\\xEB\\xBD=R\\xBC\\x83\\x89\\x85\\x00 \\xCA\\xCA\\x13\\x01\\x13\\x02\\x13\\x03\\xC0+\\xC0/\\xC0,\\xC00\\xCC\\xA9\\xCC\\xA8\\xC0\\x13\\xC0\\x14\\x00\\x9C\\x00\\x9D\\x00/\\x005\\x01\\x00\\x01\\x93\\x9A\\x9A\\x00\\x00\\x00\\x00\\x00\\x0E\\x00\\x0C\\x00\\x00\\x09localhost\\x00\\x17\\x00\\x00\\xFF\\x01\\x00\\x01\\x00\\x00\" 400 157 \"-\" \"-\" \"-\"\n",
            "2022-09-13T13:24:39.117398081Z 172.17.0.1 - - [13/Sep/2022:13:24:39 +0000] \"GET / HTTP/1.1\" 200 615 \"-\" \"Mozilla/5.0 (X11; Linux x86_64) AppleWebKit/537.36 (KHTML, like Gecko) Chrome/105.0.0.0 Safari/537.36\" \"-\"\n",
            "2022-09-13T13:24:39.117412408Z 2022/09/13 13:24:40 [error] 34#34: *3 open() \"/usr/share/nginx/html/favicon.ico\" failed (2: No such file or directory), client: 172.17.0.1, server: localhost, request: \"GET /favicon.ico HTTP/1.1\", host: \"0.0.0.0:8080\", referrer: \"http://0.0.0.0:8080/\"\n",
            "2022-09-13T13:24:40.117419389Z 172.17.0.1 - - [13/Sep/2022:13:24:40 +0000] \"GET /favicon.ico HTTP/1.1\" 404 555 \"http://0.0.0.0:8080/\" \"Mozilla/5.0 (X11; Linux x86_64) AppleWebKit/537.36 (KHTML, like Gecko) Chrome/105.0.0.0 Safari/537.36\" \"-\"\n",
            "2022-09-13T13:25:00.117434249Z 172.17.0.1 - - [13/Sep/2022:13:25:00 +0000] \"\\x16\\x03\\x01\\x02\\x00\\x01\\x00\\x01\\xFC\\x03\\x03\\xE2\\x19V$Zqi'\\xD7\\xFC[\\x80\\xEF\\xBA\\xE5\\xC7\\xE8\\xF7&3nS\\xEB\\xC9\\xEC\\x91\\xC2\\xD8\\xD1\\x89\\x9E\\xBE \\xC7?\\xE1\\xFA\\x04a\\x1C\\xCE\\x90\\x0F\\x8F\\x98u\\xE3/\\xD8RfOH\\xEC\\x92+\\x93\\x5C\\xBB\\xB1\\xBF\\xD2m\\xB09\\x00 \\xFA\\xFA\\x13\\x01\\x13\\x02\\x13\\x03\\xC0+\\xC0/\\xC0,\\xC00\\xCC\\xA9\\xCC\\xA8\\xC0\\x13\\xC0\\x14\\x00\\x9C\\x00\\x9D\\x00/\\x005\\x01\\x00\\x01\\x93\\x9A\\x9A\\x00\\x00\\x00\\x00\\x00\\x0E\\x00\\x0C\\x00\\x00\\x09localhost\\x00\\x17\\x00\\x00\\xFF\\x01\\x00\\x01\\x00\\x00\" 400 157 \"-\" \"-\" \"-\"\n",
            "2022-09-13T13:25:00.223560881Z 172.17.0.1 - - [13/Sep/2022:13:25:00 +0000] \"\\x16\\x03\\x01\\x02\\x00\\x01\\x00\\x01\\xFC\\x03\\x03)\\x9A\\x8FbC\\xD9m\\xF1\\x86\\xEBd\\x22\\xCF\\xC4E\\x87#~L\\xC1\\x84\\x7F\\xB5\\x91k\\x98\\xABl\\xEE\\x1E[0 \\xD0\\xD2`\\x85\\xC6\\x8B\\x85R\\x8B\\x87\\xEAq{P\\xF2\\xFB\\xE2\\xA8\\x9DI\\xF4tH\\x99\\x13\\x10~\\xCA1-|\\x8E\\x00 \\xEA\\xEA\\x13\\x01\\x13\\x02\\x13\\x03\\xC0+\\xC0/\\xC0,\\xC00\\xCC\\xA9\\xCC\\xA8\\xC0\\x13\\xC0\\x14\\x00\\x9C\\x00\\x9D\\x00/\\x005\\x01\\x00\\x01\\x93\" 400 157 \"-\" \"-\" \"-\"\n",
            "2022-09-13T13:26:25.223596738Z 172.17.0.1 - - [13/Sep/2022:13:26:28 +0000] \"GET / HTTP/1.1\" 304 0 \"-\" \"Mozilla/5.0 (X11; Linux x86_64) AppleWebKit/537.36 (KHTML, like Gecko) Chrome/105.0.0.0 Safari/537.36\" \"-\"\n"
          ]
        }
      ],
      "source": [
        "!docker logs --tail -t 10 proxy"
      ]
    },
    {
      "cell_type": "markdown",
      "metadata": {},
      "source": [
        "Paramos e apagamos o contêiner"
      ]
    },
    {
      "cell_type": "code",
      "execution_count": 71,
      "metadata": {},
      "outputs": [
        {
          "name": "stdout",
          "output_type": "stream",
          "text": [
            "proxy\n"
          ]
        }
      ],
      "source": [
        "!docker rm -f proxy"
      ]
    },
    {
      "cell_type": "code",
      "execution_count": 72,
      "metadata": {},
      "outputs": [
        {
          "name": "stdout",
          "output_type": "stream",
          "text": [
            "CONTAINER ID   IMAGE     COMMAND               CREATED          STATUS                        PORTS     NAMES\n",
            "ce4d60427dcd   ubuntu    \"tail -f /dev/null\"   26 minutes ago   Exited (137) 13 minutes ago             alwaysup\n",
            "5b633e9d838f   ubuntu    \"bash\"                31 minutes ago   Exited (0) 27 minutes ago               funny_mirzakhani\n",
            "da16b3a85178   ubuntu    \"bash\"                32 minutes ago   Exited (0) 32 minutes ago               hardcore_kare\n"
          ]
        }
      ],
      "source": [
        "!docker ps -a"
      ]
    },
    {
      "cell_type": "markdown",
      "metadata": {},
      "source": [
        "## Dados no Docker"
      ]
    },
    {
      "cell_type": "markdown",
      "metadata": {},
      "source": [
        "### Montagens bind"
      ]
    },
    {
      "cell_type": "markdown",
      "metadata": {},
      "source": [
        "Vamos ver os contêineres que temos parados"
      ]
    },
    {
      "cell_type": "code",
      "execution_count": 73,
      "metadata": {},
      "outputs": [
        {
          "name": "stdout",
          "output_type": "stream",
          "text": [
            "CONTAINER ID   IMAGE     COMMAND               CREATED          STATUS                        PORTS     NAMES\n",
            "ce4d60427dcd   ubuntu    \"tail -f /dev/null\"   26 minutes ago   Exited (137) 13 minutes ago             alwaysup\n",
            "5b633e9d838f   ubuntu    \"bash\"                31 minutes ago   Exited (0) 28 minutes ago               funny_mirzakhani\n",
            "da16b3a85178   ubuntu    \"bash\"                32 minutes ago   Exited (0) 32 minutes ago               hardcore_kare\n"
          ]
        }
      ],
      "source": [
        "!docker ps -a"
      ]
    },
    {
      "cell_type": "markdown",
      "metadata": {},
      "source": [
        "Vamos a apagar os dois do Ubuntu nos quais seu comando principal é o Bash e vamos deixar o que ficou como não operação."
      ]
    },
    {
      "cell_type": "code",
      "execution_count": 75,
      "metadata": {},
      "outputs": [
        {
          "name": "stdout",
          "output_type": "stream",
          "text": [
            "funny_mirzakhani\n"
          ]
        }
      ],
      "source": [
        "!docker rm funny_mirzakhani"
      ]
    },
    {
      "cell_type": "code",
      "execution_count": 76,
      "metadata": {},
      "outputs": [
        {
          "name": "stdout",
          "output_type": "stream",
          "text": [
            "hardcore_kare\n"
          ]
        }
      ],
      "source": [
        "!docker rm hardcore_kare"
      ]
    },
    {
      "cell_type": "code",
      "execution_count": 77,
      "metadata": {},
      "outputs": [
        {
          "name": "stdout",
          "output_type": "stream",
          "text": [
            "CONTAINER ID   IMAGE     COMMAND               CREATED          STATUS                        PORTS     NAMES\n",
            "ce4d60427dcd   ubuntu    \"tail -f /dev/null\"   27 minutes ago   Exited (137) 14 minutes ago             alwaysup\n"
          ]
        }
      ],
      "source": [
        "!docker ps -a"
      ]
    },
    {
      "cell_type": "markdown",
      "metadata": {},
      "source": [
        "Vamos a voltar a executar o contêiner do Ubuntu que deixamos, isso é feito através do comando `start`"
      ]
    },
    {
      "cell_type": "code",
      "execution_count": 78,
      "metadata": {},
      "outputs": [
        {
          "name": "stdout",
          "output_type": "stream",
          "text": [
            "alwaysup\n"
          ]
        }
      ],
      "source": [
        "!docker start alwaysup"
      ]
    },
    {
      "attachments": {},
      "cell_type": "markdown",
      "metadata": {},
      "source": [
        "Nós entramos novamente dentro de el"
      ]
    },
    {
      "cell_type": "code",
      "execution_count": 78,
      "metadata": {},
      "outputs": [
        {
          "name": "stdout",
          "output_type": "stream",
          "text": [
            "root@ce4d60427dcd:/#\n"
          ]
        }
      ],
      "source": [
        "!docker exec -it alwaysup bash"
      ]
    },
    {
      "attachments": {},
      "cell_type": "markdown",
      "metadata": {},
      "source": [
        "No contêiner, posso criar uma nova pasta chamada `dockerfolder`"
      ]
    },
    {
      "cell_type": "code",
      "execution_count": 78,
      "metadata": {},
      "outputs": [
        {
          "name": "stdout",
          "output_type": "stream",
          "text": []
        }
      ],
      "source": [
        "!mkdir dockerfolder"
      ]
    },
    {
      "attachments": {},
      "cell_type": "markdown",
      "metadata": {},
      "source": [
        "Se listarmos os arquivos, aparecerá a nova pasta"
      ]
    },
    {
      "cell_type": "code",
      "execution_count": 78,
      "metadata": {},
      "outputs": [
        {
          "name": "stdout",
          "output_type": "stream",
          "text": [
            "bin  boot  dev  dockerfolder  etc  home  lib  lib32  lib64  libx32  media  mnt  opt  proc  root  run  sbin  srv  sys  tmp  usr  var"
          ]
        }
      ],
      "source": [
        "!ls"
      ]
    },
    {
      "attachments": {},
      "cell_type": "markdown",
      "metadata": {},
      "source": [
        "Se sairmos do contêiner"
      ]
    },
    {
      "cell_type": "code",
      "execution_count": 78,
      "metadata": {},
      "outputs": [
        {
          "name": "stdout",
          "output_type": "stream",
          "text": [
            "exit"
          ]
        }
      ],
      "source": [
        "!exit"
      ]
    },
    {
      "attachments": {},
      "cell_type": "markdown",
      "metadata": {},
      "source": [
        "E o apagamos"
      ]
    },
    {
      "cell_type": "code",
      "execution_count": 79,
      "metadata": {},
      "outputs": [
        {
          "name": "stdout",
          "output_type": "stream",
          "text": [
            "alwaysup\n"
          ]
        }
      ],
      "source": [
        "!docker rm -f alwaysup"
      ]
    },
    {
      "cell_type": "markdown",
      "metadata": {},
      "source": [
        "Se listarmos todos os contêineres, o último que criamos já não aparece."
      ]
    },
    {
      "cell_type": "code",
      "execution_count": 81,
      "metadata": {},
      "outputs": [
        {
          "name": "stdout",
          "output_type": "stream",
          "text": [
            "CONTAINER ID   IMAGE     COMMAND   CREATED   STATUS    PORTS     NAMES\n"
          ]
        }
      ],
      "source": [
        "!docker ps -a"
      ]
    },
    {
      "cell_type": "markdown",
      "metadata": {},
      "source": [
        "Vamos a fazer tudo de novo, mas primeiro vamos criar uma pasta no host na qual compartilharemos os dados com o contêiner"
      ]
    },
    {
      "cell_type": "code",
      "execution_count": 82,
      "metadata": {},
      "outputs": [],
      "source": [
        "!mkdir dockerHostFolder"
      ]
    },
    {
      "cell_type": "markdown",
      "metadata": {},
      "source": [
        "Vemos que dentro da pasta não há nada"
      ]
    },
    {
      "cell_type": "code",
      "execution_count": 83,
      "metadata": {},
      "outputs": [],
      "source": [
        "!ls dockerHostFolder"
      ]
    },
    {
      "cell_type": "markdown",
      "metadata": {},
      "source": [
        "Agora obtemos nosso caminho absoluto"
      ]
    },
    {
      "cell_type": "code",
      "execution_count": 84,
      "metadata": {},
      "outputs": [
        {
          "name": "stdout",
          "output_type": "stream",
          "text": [
            "/home/wallabot/Documentos/web/portafolio/posts\n"
          ]
        }
      ],
      "source": [
        "!pwd"
      ]
    },
    {
      "cell_type": "markdown",
      "metadata": {},
      "source": [
        "Recriamos o contêiner, mas adicionando a opção ``-v`` (``bind mount``). Em seguida, adiciona-se o caminho absoluto da pasta do host e o caminho absoluto da pasta no contêiner, ``-v <host path>:<container path>``."
      ]
    },
    {
      "cell_type": "code",
      "execution_count": 87,
      "metadata": {},
      "outputs": [
        {
          "name": "stdout",
          "output_type": "stream",
          "text": [
            "4ede4512c293bdcc155e9c8e874dfb4a28e5163f4d5c7ddda24ad2863f28921b\n"
          ]
        }
      ],
      "source": [
        "!docker run -d --name alwaysup -v ~/Documentos/web/portafolio/posts/dockerHostFolder:/dockerContainerFolder ubuntu tail -f /dev/null"
      ]
    },
    {
      "attachments": {},
      "cell_type": "markdown",
      "metadata": {},
      "source": [
        "Entreamos no contentor, listamos os arquivos e já aparece a pasta que havíamos criado"
      ]
    },
    {
      "cell_type": "code",
      "execution_count": 87,
      "metadata": {},
      "outputs": [
        {
          "name": "stdout",
          "output_type": "stream",
          "text": [
            "root@4ede4512c293:/#"
          ]
        }
      ],
      "source": [
        "!docker exec -it alwaysup bash"
      ]
    },
    {
      "cell_type": "code",
      "execution_count": 87,
      "metadata": {},
      "outputs": [
        {
          "name": "stdout",
          "output_type": "stream",
          "text": [
            "bin   dev                    etc   lib    lib64   media  opt   root  sbin  sys  usr\n",
            "boot  dockerContainerFolder  home  lib32  libx32  mnt    proc  run   srv   tmp  var\n"
          ]
        }
      ],
      "source": [
        "root@4ede4512c293:/# ls"
      ]
    },
    {
      "attachments": {},
      "cell_type": "markdown",
      "metadata": {},
      "source": [
        "Vamos ao diretório do contêiner que compartilhamos, criamos um arquivo e saímos do contêiner"
      ]
    },
    {
      "cell_type": "code",
      "execution_count": 87,
      "metadata": {},
      "outputs": [
        {
          "name": "stdout",
          "output_type": "stream",
          "text": []
        }
      ],
      "source": [
        "root@4ede4512c293:/# cd dockerContainerFolder"
      ]
    },
    {
      "cell_type": "code",
      "execution_count": 87,
      "metadata": {},
      "outputs": [
        {
          "name": "stdout",
          "output_type": "stream",
          "text": []
        }
      ],
      "source": [
        "root@4ede4512c293:/dockerContainerFolder# touch bindFile.txt"
      ]
    },
    {
      "cell_type": "code",
      "execution_count": 87,
      "metadata": {},
      "outputs": [
        {
          "name": "stdout",
          "output_type": "stream",
          "text": [
            "exit"
          ]
        }
      ],
      "source": [
        "root@4ede4512c293:/dockerContainerFolder# exit"
      ]
    },
    {
      "cell_type": "markdown",
      "metadata": {},
      "source": [
        "Vamos ver o que tem dentro da pasta compartida"
      ]
    },
    {
      "cell_type": "code",
      "execution_count": 88,
      "metadata": {},
      "outputs": [
        {
          "name": "stdout",
          "output_type": "stream",
          "text": [
            "bindFile.txt\n"
          ]
        }
      ],
      "source": [
        "!ls dockerHostFolder"
      ]
    },
    {
      "cell_type": "markdown",
      "metadata": {},
      "source": [
        "Mas ainda, se apagarmos o contêiner, o arquivo continua lá."
      ]
    },
    {
      "cell_type": "code",
      "execution_count": 89,
      "metadata": {},
      "outputs": [
        {
          "name": "stdout",
          "output_type": "stream",
          "text": [
            "alwaysup\n"
          ]
        }
      ],
      "source": [
        "!docker rm -f alwaysup"
      ]
    },
    {
      "cell_type": "code",
      "execution_count": 90,
      "metadata": {},
      "outputs": [
        {
          "name": "stdout",
          "output_type": "stream",
          "text": [
            "bindFile.txt\n"
          ]
        }
      ],
      "source": [
        "!ls dockerHostFolder"
      ]
    },
    {
      "cell_type": "markdown",
      "metadata": {},
      "source": [
        "Se eu criar novamente um contêiner compartilhando as pastas, todos os arquivos estarão no contêiner."
      ]
    },
    {
      "cell_type": "code",
      "execution_count": 91,
      "metadata": {},
      "outputs": [
        {
          "name": "stdout",
          "output_type": "stream",
          "text": [
            "6c021d37ea29d8b23fe5cd4968baa446085ae1756682f65340288b4c851c362d\n"
          ]
        }
      ],
      "source": [
        "!docker run -d --name alwaysup -v ~/Documentos/web/portafolio/posts/dockerHostFolder:/dockerContainerFolder ubuntu tail -f /dev/null"
      ]
    },
    {
      "cell_type": "code",
      "execution_count": 91,
      "metadata": {},
      "outputs": [
        {
          "name": "stdout",
          "output_type": "stream",
          "text": [
            "root@6c021d37ea29:/#"
          ]
        }
      ],
      "source": [
        "!docker exec -it alwaysup bash"
      ]
    },
    {
      "cell_type": "code",
      "execution_count": 91,
      "metadata": {},
      "outputs": [
        {
          "name": "stdout",
          "output_type": "stream",
          "text": [
            "bindFile.txt:/#"
          ]
        }
      ],
      "source": [
        "!root@6c021d37ea29:/# ls dockerContainerFolder/"
      ]
    },
    {
      "cell_type": "markdown",
      "metadata": {},
      "source": [
        "Eliminamos o contêiner"
      ]
    },
    {
      "cell_type": "code",
      "execution_count": 92,
      "metadata": {},
      "outputs": [
        {
          "name": "stdout",
          "output_type": "stream",
          "text": [
            "alwaysup\n"
          ]
        }
      ],
      "source": [
        "!docker rm -f alwaysup"
      ]
    },
    {
      "cell_type": "code",
      "execution_count": 93,
      "metadata": {},
      "outputs": [
        {
          "name": "stdout",
          "output_type": "stream",
          "text": [
            "CONTAINER ID   IMAGE     COMMAND   CREATED   STATUS    PORTS     NAMES\n"
          ]
        }
      ],
      "source": [
        "!docker ps -a"
      ]
    },
    {
      "cell_type": "markdown",
      "metadata": {},
      "source": [
        "### Volumes"
      ]
    },
    {
      "cell_type": "markdown",
      "metadata": {},
      "source": [
        "Os volumes foram criados como uma evolução dos ``bind mounts`` para fornecer mais segurança. Podemos listar todos os volumes do Docker usando ``docker volume ls``."
      ]
    },
    {
      "cell_type": "code",
      "execution_count": 1,
      "metadata": {},
      "outputs": [
        {
          "name": "stdout",
          "output_type": "stream",
          "text": [
            "DRIVER    VOLUME NAME\n"
          ]
        }
      ],
      "source": [
        "!docker volume ls"
      ]
    },
    {
      "cell_type": "markdown",
      "metadata": {},
      "source": [
        "Vamos a criar um novo volume para o contêiner do Ubuntu, para isso usamos o comando ``docker volume create <nome_do_volume>``"
      ]
    },
    {
      "cell_type": "code",
      "execution_count": 2,
      "metadata": {},
      "outputs": [
        {
          "name": "stdout",
          "output_type": "stream",
          "text": [
            "ubuntuVolume\n"
          ]
        }
      ],
      "source": [
        "!docker volume create ubuntuVolume"
      ]
    },
    {
      "cell_type": "markdown",
      "metadata": {},
      "source": [
        "Se listarmos os volumes novamente, aparecerá o que acabamos de criar."
      ]
    },
    {
      "cell_type": "code",
      "execution_count": 3,
      "metadata": {},
      "outputs": [
        {
          "name": "stdout",
          "output_type": "stream",
          "text": [
            "DRIVER    VOLUME NAME\n",
            "local     ubuntuVolume\n"
          ]
        }
      ],
      "source": [
        "!docker volume ls"
      ]
    },
    {
      "cell_type": "markdown",
      "metadata": {},
      "source": [
        "No entanto, não aparece como uma pasta no sistema de arquivos do host. Com `ls -d */` listamos todas as pastas"
      ]
    },
    {
      "cell_type": "code",
      "execution_count": 7,
      "metadata": {},
      "outputs": [
        {
          "name": "stdout",
          "output_type": "stream",
          "text": [
            "dockerHostFolder/  __pycache__/\n"
          ]
        }
      ],
      "source": [
        "!ls -d */"
      ]
    },
    {
      "cell_type": "markdown",
      "metadata": {},
      "source": [
        "Vamos a voltar a criar um contêiner, mas agora o criamos com o volume que acabamos de criar com a opção ``--mount``, indicando o volume fonte mediante ``src=<nome do volume>`` (se o volume não existisse, docker o criaria), a seguir o destino separado por uma ``,``, ``dst=<caminho do contêiner>``, ou seja ``--mount src=<nome do volume>,dst=<caminho do contêiner>``"
      ]
    },
    {
      "cell_type": "code",
      "execution_count": 8,
      "metadata": {},
      "outputs": [
        {
          "name": "stdout",
          "output_type": "stream",
          "text": [
            "42cdcddf4e46dc298a87b0570115e0b2fc900cb4c6db5eea22a61409b8cb271d\n"
          ]
        }
      ],
      "source": [
        "!docker run -d --name alwaysup --mount src=ubuntuVolume,dst=/dockerVolumeFolder ubuntu tail -f /dev/null"
      ]
    },
    {
      "cell_type": "markdown",
      "metadata": {},
      "source": [
        "Uma vez criado, podemos ver os volumes do contêiner usando o comando ``inspect`` e filtrando por `'{{.Mounts}}'`\n",
        "\n",
        "```bash\n",
        "$ docker inspect --format '{{.Mountns}}' alwaysup\n",
        "[\n",
        "    {\n",
        "        volume ubuntuVolume /var/lib/docker/volumes/ubuntuVolume/_data /dockerVolumeFolder local z true\n",
        "    }\n",
        "]\n",
        "```"
      ]
    },
    {
      "cell_type": "markdown",
      "metadata": {},
      "source": [
        "Vemos que o volume se chama `ubuntuVolume` e além disso podemos ver o caminho onde está armazenado, neste caso em `/var/lib/docker/volumes/ubuntuVolume/_data`. Fazemos o mesmo que antes, entramos no contêiner, criamos um arquivo no caminho do volume, saímos e vemos no host se foi criado.\n",
        "\n",
        "```bash\n",
        "$ docker exec -it alwaysup bash\n",
        "root@42cdcddf4e46:/# touch dockerVolumeFolder/volumeFile.txt\n",
        "root@42cdcddf4e46:/# exit\n",
        "```\n",
        "\n",
        "\n",
        "```bash\n",
        "$ sudo ls /var/lib/docker/volumes/ubuntuVolume/_data\n",
        "volumeFile.txt\n",
        "```"
      ]
    },
    {
      "cell_type": "markdown",
      "metadata": {},
      "source": [
        "O arquivo está criado."
      ]
    },
    {
      "cell_type": "markdown",
      "metadata": {},
      "source": [
        "### Inserir e extrair arquivos de um contêiner"
      ]
    },
    {
      "cell_type": "markdown",
      "metadata": {},
      "source": [
        "Primeiro vamos criar um arquivo que queremos copiar dentro de um contêiner"
      ]
    },
    {
      "cell_type": "code",
      "execution_count": 14,
      "metadata": {},
      "outputs": [],
      "source": [
        "!touch dockerHostFolder/text.txt"
      ]
    },
    {
      "cell_type": "markdown",
      "metadata": {},
      "source": [
        "Entramos no contêiner\n",
        "\n",
        "```bash\n",
        "$ docker exec -it alwaysup bash\n",
        "root@42cdcddf4e46:/#\n",
        "```"
      ]
    },
    {
      "cell_type": "markdown",
      "metadata": {},
      "source": [
        "Criamos uma nova pasta onde vamos copiar o arquivo e sair.\n",
        "\n",
        "```bash\n",
        "root@42cdcddf4e46:/# mkdir folderToCopy\n",
        "root@42cdcddf4e46:/# ls\n",
        "bin  boot  dev  dockerVolumeFolder  etc  folderToCopy  home  lib  lib32  lib64  libx32  media  mnt  opt  proc  root  run  sbin  srv  sys  tmp  usr  var\n",
        "root@42cdcddf4e46:/# exit\n",
        "sair\n",
        "```"
      ]
    },
    {
      "cell_type": "markdown",
      "metadata": {},
      "source": [
        "Copiamos dentro do contêiner o arquivo por meio do comando ``cp``, indicando o arquivo que **quero** copiar, o contêiner onde queremos copiá-lo e o caminho dentro do contêiner, ``docker cp <file> <container>:<container path>``"
      ]
    },
    {
      "cell_type": "code",
      "execution_count": 15,
      "metadata": {},
      "outputs": [],
      "source": [
        "!docker cp dockerHostFolder/text.txt alwaysup:/folderToCopy"
      ]
    },
    {
      "cell_type": "markdown",
      "metadata": {},
      "source": [
        "Voltamos a entrar no contêiner e verificamos se o arquivo está lá.\n",
        "\n",
        "```bash\n",
        "$ docker exec -it alwaysup bash\n",
        "root@42cdcddf4e46:/# ls folderToCopy/\n",
        "Parece que hay un malentendido. No has proporcionado el contenido de `text.txt` para que pueda traducirlo. Por favor, comparte el texto markdown que deseas traducir al portugués.\n",
        "```"
      ]
    },
    {
      "cell_type": "markdown",
      "metadata": {},
      "source": [
        "Sair do contêiner\n",
        "\n",
        "```bash\n",
        "/# sair\n",
        "saída\n",
        "```"
      ]
    },
    {
      "cell_type": "markdown",
      "metadata": {},
      "source": [
        "Agora vamos extrair o arquivo do contêiner e salvá-lo no host com outro nome. Para isso, usamos novamente o comando ``cp``, mas indicando agora o contêiner, o caminho do arquivo no contêiner e o caminho e nome que queremos que o arquivo tenha no host, ``docker cp <container>:<caminho_do_arquivo_no_docker> <caminho_do_arquivo_no_host>``"
      ]
    },
    {
      "cell_type": "code",
      "execution_count": 16,
      "metadata": {},
      "outputs": [],
      "source": [
        "!docker cp alwaysup:/folderToCopy/text.txt dockerHostFolder/fileExtract.txt"
      ]
    },
    {
      "cell_type": "markdown",
      "metadata": {},
      "source": [
        "Vemos que está no host"
      ]
    },
    {
      "cell_type": "code",
      "execution_count": 17,
      "metadata": {},
      "outputs": [
        {
          "name": "stdout",
          "output_type": "stream",
          "text": [
            "bindFile.txt  fileExtract.txt  text.txt\n"
          ]
        }
      ],
      "source": [
        "!ls dockerHostFolder"
      ]
    },
    {
      "cell_type": "markdown",
      "metadata": {},
      "source": [
        "Embora o contêiner esteja parado, também é possível copiar arquivos."
      ]
    },
    {
      "cell_type": "markdown",
      "metadata": {},
      "source": [
        "Por último, apagamos o contêiner"
      ]
    },
    {
      "cell_type": "code",
      "execution_count": 8,
      "metadata": {},
      "outputs": [
        {
          "name": "stdout",
          "output_type": "stream",
          "text": [
            "alwaysup\n"
          ]
        }
      ],
      "source": [
        "!docker rm -f alwaysup"
      ]
    },
    {
      "cell_type": "markdown",
      "metadata": {},
      "source": [
        "## Imagens"
      ]
    },
    {
      "cell_type": "markdown",
      "metadata": {},
      "source": [
        "### Conceitos fundamentais"
      ]
    },
    {
      "cell_type": "markdown",
      "metadata": {},
      "source": [
        "As imagens são os arquivos (\"modelos\") com toda a configuração para criar um contêiner. Cada vez que criamos um contêiner, ele é criado a partir de uma imagem. Quando criávamos contêineres novos, a primeira vez aparecia uma mensagem dizendo que não tínhamos a imagem e que iria baixá-la. No Docker Hub existem muitas imagens com todo tipo de máquinas, mas para um ambiente de desenvolvimento muito específico podemos criar nosso próprio modelo para passá-lo a alguém e trabalhar em um contêiner com a mesma configuração que o nosso."
      ]
    },
    {
      "cell_type": "markdown",
      "metadata": {},
      "source": [
        "Podemos ver todas as imagens que temos salvas no nosso computador através do comando ``docker image ls``"
      ]
    },
    {
      "cell_type": "code",
      "execution_count": 1,
      "metadata": {},
      "outputs": [
        {
          "name": "stdout",
          "output_type": "stream",
          "text": [
            "REPOSITORY    TAG       IMAGE ID       CREATED         SIZE\n",
            "nginx         latest    2d389e545974   8 hours ago     142MB\n",
            "ubuntu        latest    2dc39ba059dc   11 days ago     77.8MB\n",
            "hello-world   latest    feb5d9fea6a5   11 months ago   13.3kB\n"
          ]
        }
      ],
      "source": [
        "!docker image ls"
      ]
    },
    {
      "cell_type": "markdown",
      "metadata": {},
      "source": [
        "Podemos ver os tamanhos, e podemos ver como a de `nginx` ocupa muito e por isso demorou mais para baixar do que as outras."
      ]
    },
    {
      "cell_type": "markdown",
      "metadata": {},
      "source": [
        "Outra coluna que podemos ver é a de ``TAG``, isso indica a versão da imagem. Em todas está escrito ``latest``, o que significa que é a mais recente. Isso significa que, no momento do download, baixamos a última versão disponível no Docker Hub. Isso não é ideal em um ambiente de desenvolvimento, pois podemos baixar uma imagem do Ubuntu sem especificar a versão, por exemplo, a 20.04. Mas depois de algum tempo, alguém pode querer desenvolver com você e baixar essa imagem, mas como a versão não foi especificada, será baixada novamente a mais recente, que no caso pode ser a 22.04. Isso pode levar a problemas e fazer com que algo funcione para uma pessoa e não para a outra."
      ]
    },
    {
      "cell_type": "markdown",
      "metadata": {},
      "source": [
        "Podemos ver todas as imagens que há no Docker Hub indo a `https://hub.docker.com/`. Lá você poderá buscar a imagem que melhor se adapte ao projeto que quiser fazer. Se navegarmos até a imagem do Ubuntu, por exemplo, podemos ver as versões (`tags`) das imagens."
      ]
    },
    {
      "cell_type": "markdown",
      "metadata": {},
      "source": [
        "Vamos a baixar, **mas não executar** uma imagem. Para isso usamos o comando ``docker pull <hub> <image name>:<tag>``. Se não indicarmos o hub, ele será baixado do docker hub por padrão, mas podemos indicar outro, por exemplo um privado da nossa organização. Também, se não indicarmos o tag, por padrão baixará a última versão."
      ]
    },
    {
      "cell_type": "code",
      "execution_count": 2,
      "metadata": {},
      "outputs": [
        {
          "name": "stdout",
          "output_type": "stream",
          "text": [
            "20.04: Pulling from library/ubuntu\n",
            "\n",
            "\u001b[1BDigest: sha256:35ab2bf57814e9ff49e365efd5a5935b6915eede5c7f8581e9e1b85e0eecbe16[1A\u001b[2K\u001b[1A\u001b[2K\u001b[1A\u001b[2K\u001b[1A\u001b[2K\u001b[1A\u001b[2K\u001b[1A\u001b[2K\u001b[1A\u001b[2K\u001b[1A\u001b[2K\u001b[1A\u001b[2K\n",
            "Status: Downloaded newer image for ubuntu:20.04\n",
            "docker.io/library/ubuntu:20.04\n"
          ]
        }
      ],
      "source": [
        "!docker pull ubuntu:20.04"
      ]
    },
    {
      "cell_type": "markdown",
      "metadata": {},
      "source": [
        "Se voltarmos a listar as imagens, veremos que agora temos duas imagens do Ubuntu, uma com o tag `20.04` e outra com o tag `latest`"
      ]
    },
    {
      "cell_type": "code",
      "execution_count": 3,
      "metadata": {},
      "outputs": [
        {
          "name": "stdout",
          "output_type": "stream",
          "text": [
            "REPOSITORY    TAG       IMAGE ID       CREATED         SIZE\n",
            "nginx         latest    2d389e545974   8 hours ago     142MB\n",
            "ubuntu        latest    2dc39ba059dc   11 days ago     77.8MB\n",
            "ubuntu        20.04     a0ce5a295b63   11 days ago     72.8MB\n",
            "hello-world   latest    feb5d9fea6a5   11 months ago   13.3kB\n"
          ]
        }
      ],
      "source": [
        "!docker image ls"
      ]
    },
    {
      "attachments": {},
      "cell_type": "markdown",
      "metadata": {},
      "source": [
        "### Criar imagens através de `Dockerfile`"
      ]
    },
    {
      "cell_type": "markdown",
      "metadata": {},
      "source": [
        "Criamos um diretório no host chamado `dockerImages` para trabalhar nele."
      ]
    },
    {
      "cell_type": "code",
      "execution_count": 15,
      "metadata": {},
      "outputs": [],
      "source": [
        "!mkdir dockerImages"
      ]
    },
    {
      "cell_type": "markdown",
      "metadata": {},
      "source": [
        "Criamos um arquivo `Dockerfile` com o qual criaremos uma imagem"
      ]
    },
    {
      "cell_type": "code",
      "execution_count": 16,
      "metadata": {},
      "outputs": [],
      "source": [
        "!touch dockerImages/Dockerfile"
      ]
    },
    {
      "cell_type": "markdown",
      "metadata": {},
      "source": [
        "Abrimos o arquivo criado com nosso editor preferido e escrevemos o seguinte:\n",
        "\n",
        "```Dockerfile\n",
        "FROM ubuntu:latest\n",
        "```\n",
        "\n",
        "Isso diz ao Docker para criar a imagem a partir da imagem `latest` do Ubuntu."
      ]
    },
    {
      "cell_type": "markdown",
      "metadata": {},
      "source": [
        "A seguir, escrevemos um comando que será executado em tempo de compilação\n",
        "\n",
        "```Dockerfile\n",
        "RUN touch /test.txt\n",
        "```\n",
        "\n",
        "Isso significa que quando o `Dockerfile` for compilado, esse comando será executado, mas não quando o contêiner da imagem for executado."
      ]
    },
    {
      "cell_type": "markdown",
      "metadata": {},
      "source": [
        "No final o `Dockerfile` fica assim:\n",
        "```dockerfile\n",
        "FROM ubuntu:latest\n",
        "RUN touch /test.txt\n",
        "```"
      ]
    },
    {
      "cell_type": "markdown",
      "metadata": {},
      "source": [
        "Compilamos o `Dockerfile` através do comando `build`, com a opção `-t` podemos dar-lhe um `tag`. Por último, é necessário indicar a rota do contexto de `build`, mais tarde explicaremos isso."
      ]
    },
    {
      "cell_type": "code",
      "execution_count": 21,
      "metadata": {},
      "outputs": [
        {
          "name": "stdout",
          "output_type": "stream",
          "text": [
            "Sending build context to Docker daemon  2.048kB\n",
            "Step 1/2 : FROM ubuntu:latest\n",
            " ---> 2dc39ba059dc\n",
            "Step 2/2 : RUN touch /test.txt\n",
            " ---> Using cache\n",
            " ---> a78cf3ea16d8\n",
            "Successfully built a78cf3ea16d8\n",
            "Successfully tagged ubuntu:test\n",
            "\n",
            "Use 'docker scan' to run Snyk tests against images to find vulnerabilities and learn how to fix them\n"
          ]
        }
      ],
      "source": [
        "!docker build -t ubuntu:test ./dockerImages"
      ]
    },
    {
      "cell_type": "markdown",
      "metadata": {},
      "source": [
        "Como podemos ver, a compilação ocorre em 2 etapas, cada uma possui uma `id`, cada uma dessas `id`s são camadas da imagem, isso também será abordado posteriormente.\n",
        "\n",
        "Voltamos a ver as imagens que temos salvias no nosso computador e aparece a que acabamos de criar"
      ]
    },
    {
      "cell_type": "code",
      "execution_count": 10,
      "metadata": {},
      "outputs": [
        {
          "name": "stdout",
          "output_type": "stream",
          "text": [
            "REPOSITORY    TAG       IMAGE ID       CREATED         SIZE\n",
            "ubuntu        test      a78cf3ea16d8   8 minutes ago   77.8MB\n",
            "nginx         latest    2d389e545974   8 hours ago     142MB\n",
            "ubuntu        latest    2dc39ba059dc   11 days ago     77.8MB\n",
            "ubuntu        20.04     a0ce5a295b63   11 days ago     72.8MB\n",
            "hello-world   latest    feb5d9fea6a5   11 months ago   13.3kB\n"
          ]
        }
      ],
      "source": [
        "!docker image ls"
      ]
    },
    {
      "cell_type": "markdown",
      "metadata": {},
      "source": [
        "Executamos o contêiner a partir da imagem que acabamos de criar\n",
        "\n",
        "```bash\n",
        "$ docker run -it ubuntu:test\n",
        "root@b57b9d4eedeb:/#\n",
        "```\n",
        "\n",
        "Entramos no bash do contêiner. Como dissemos, o comando RUN é executado durante a compilação da imagem, portanto, o arquivo que pedimos para ser criado deve estar em nosso contêiner.\n",
        "\n",
        "```bash\n",
        "root@b57b9d4eedeb:/# ls\n",
        "bin  boot  dev  etc  home  lib  lib32  lib64  libx32  media  mnt  opt  proc  root  run  sbin  srv  sys  test.txt  tmp  usr  var\n",
        "```\n",
        "\n",
        "É importante entender que esse arquivo foi criado quando a imagem foi construída, ou seja, a imagem do contêiner já possui esse arquivo. Ele não é criado quando o contêiner é iniciado.\n",
        "\n",
        "Saimos do contêiner\n",
        "\n",
        "```bash\n",
        "root@b57b9d4eedeb:/# exit\n",
        "saída\n",
        "```"
      ]
    },
    {
      "cell_type": "markdown",
      "metadata": {},
      "source": [
        "Já que já temos uma imagem, poderíamos enviá-la para o hub do Docker, mas vamos listar as imagens novamente antes disso."
      ]
    },
    {
      "cell_type": "code",
      "execution_count": 12,
      "metadata": {},
      "outputs": [
        {
          "name": "stdout",
          "output_type": "stream",
          "text": [
            "REPOSITORY    TAG       IMAGE ID       CREATED          SIZE\n",
            "ubuntu        test      a78cf3ea16d8   20 minutes ago   77.8MB\n",
            "nginx         latest    2d389e545974   8 hours ago      142MB\n",
            "ubuntu        latest    2dc39ba059dc   11 days ago      77.8MB\n",
            "ubuntu        20.04     a0ce5a295b63   11 days ago      72.8MB\n",
            "hello-world   latest    feb5d9fea6a5   11 months ago    13.3kB\n"
          ]
        }
      ],
      "source": [
        "!docker image ls"
      ]
    },
    {
      "cell_type": "markdown",
      "metadata": {},
      "source": [
        "Se vê, está nos dizendo que a imagem que acabamos de criar pertence ao repositório do Ubuntu, mas nós não temos acesso ao repositório do Ubuntu, então no Docker Hub precisamos criar uma conta para poder enviar a imagem ao nosso repositório. No meu caso, meu repositório se chama `maximofn`, então altero o repositório da imagem usando o comando `tag`, indicando a imagem que queremos mudar de repositório e o novo repositório. No novo repositório, geralmente indica-se o nome do repositório seguido do tipo de imagem e o tag, no meu caso `maximofn/ubuntu:test`"
      ]
    },
    {
      "cell_type": "code",
      "execution_count": 22,
      "metadata": {},
      "outputs": [],
      "source": [
        "!docker tag ubuntu:test maximofn/ubuntu:test"
      ]
    },
    {
      "cell_type": "markdown",
      "metadata": {},
      "source": [
        "Se agora listarmos as imagens novamente"
      ]
    },
    {
      "cell_type": "code",
      "execution_count": 14,
      "metadata": {},
      "outputs": [
        {
          "name": "stdout",
          "output_type": "stream",
          "text": [
            "REPOSITORY        TAG       IMAGE ID       CREATED          SIZE\n",
            "ubuntu            test      a78cf3ea16d8   24 minutes ago   77.8MB\n",
            "maximofn/ubuntu   test      a78cf3ea16d8   24 minutes ago   77.8MB\n",
            "nginx             latest    2d389e545974   8 hours ago      142MB\n",
            "ubuntu            latest    2dc39ba059dc   11 days ago      77.8MB\n",
            "ubuntu            20.04     a0ce5a295b63   11 days ago      72.8MB\n",
            "hello-world       latest    feb5d9fea6a5   11 months ago    13.3kB\n"
          ]
        }
      ],
      "source": [
        "!docker image ls"
      ]
    },
    {
      "cell_type": "markdown",
      "metadata": {},
      "source": [
        "Agora devemos fazer login no Docker Hub para poder enviar a imagem, para isso usamos o comando `login`\n",
        "\n",
        "```bash\n",
        "$ docker login\n",
        "Faça login com seu Docker ID para enviar e receber imagens do Docker Hub. Se você não tiver um Docker ID, vá até https://hub.docker.com para criar um.\n",
        "Nome de usuário: maximofn\n",
        "Senha:\n",
        "\n",
        "Login bem-sucedido\n",
        "```"
      ]
    },
    {
      "cell_type": "markdown",
      "metadata": {},
      "source": [
        "Agora podemos fazer o upload da imagem através do comando `push`"
      ]
    },
    {
      "cell_type": "code",
      "execution_count": 25,
      "metadata": {},
      "outputs": [
        {
          "name": "stdout",
          "output_type": "stream",
          "text": [
            "The push refers to repository [docker.io/maximofn/ubuntu]\n",
            "\n",
            "\u001b[1B06994357: Preparing \n",
            "\u001b[2B06994357: Pushed  from library/ubuntu \u001b[2A\u001b[2Ktest: digest: sha256:318d83fc3c35ff930d695b0dc1c5ad1b0ea54e1ec6e3478b8ca85c05fd793c4e size: 735\n"
          ]
        }
      ],
      "source": [
        "!docker push maximofn/ubuntu:test"
      ]
    },
    {
      "cell_type": "markdown",
      "metadata": {},
      "source": [
        "Ele apenas carregou a primeira camada, a segunda, como usei a partir da imagem do Ubuntu, o que faz é colocar um ponteiro para essa imagem para não ter camadas carregadas mais de uma vez."
      ]
    },
    {
      "cell_type": "markdown",
      "metadata": {},
      "source": [
        "Deve-se ter em conta que este repositório é público, portanto não deve enviar imagens com dados sensíveis. Além disso, se uma imagem não tiver uso em 6 meses, ela será excluída."
      ]
    },
    {
      "cell_type": "markdown",
      "metadata": {},
      "source": [
        "### O sistema de camadas"
      ]
    },
    {
      "cell_type": "markdown",
      "metadata": {},
      "source": [
        "Com o comando `history` podemos ver as camadas de uma imagem. Se formos ver as camadas da imagem que acabamos de criar, usamos `docker history ubuntu:test`"
      ]
    },
    {
      "cell_type": "code",
      "execution_count": 1,
      "metadata": {},
      "outputs": [
        {
          "name": "stdout",
          "output_type": "stream",
          "text": [
            "IMAGE          CREATED        CREATED BY                                      SIZE      COMMENT\n",
            "a78cf3ea16d8   3 minutes ago  /bin/sh -c touch /test.txt                      0B        \n",
            "2dc39ba059dc   12 days ago    /bin/sh -c #(nop)  CMD [\"bash\"]                 0B        \n",
            "<missing>      12 days ago    /bin/sh -c #(nop) ADD file:a7268f82a86219801…   77.8MB    \n"
          ]
        }
      ],
      "source": [
        "!docker history ubuntu:test"
      ]
    },
    {
      "cell_type": "markdown",
      "metadata": {},
      "source": [
        "Vemos que a primeira camada tem o comando que introduzimos no `Dockerfile`, além de dizer que foi criada há 3 minutos. No entanto, o resto das camadas foram criadas há 12 dias, e são as camadas da imagem do Ubuntu na qual nos baseamos."
      ]
    },
    {
      "cell_type": "markdown",
      "metadata": {},
      "source": [
        "Ao `Dockerfile` que criamos anteriormente adicionamos a linha\n",
        "\n",
        "```docker\n",
        "RUN rm /test.txt\n",
        "```"
      ]
    },
    {
      "cell_type": "markdown",
      "metadata": {},
      "source": [
        "No final o `Dockerfile` fica assim:\n",
        "```dockerfile\n",
        "FROM ubuntu:latest\n",
        "RUN touch /test.txt\n",
        "RUN rm /test.txt\n",
        "```"
      ]
    },
    {
      "cell_type": "markdown",
      "metadata": {},
      "source": [
        "Se recompilarmos, veremos o que acontece"
      ]
    },
    {
      "cell_type": "code",
      "execution_count": 2,
      "metadata": {},
      "outputs": [
        {
          "name": "stdout",
          "output_type": "stream",
          "text": [
            "Sending build context to Docker daemon  2.048kB\n",
            "Step 1/3 : FROM ubuntu:latest\n",
            " ---> 2dc39ba059dc\n",
            "Step 2/3 : RUN touch /test.txt\n",
            " ---> Using cache\n",
            " ---> a78cf3ea16d8\n",
            "Step 3/3 : RUN rm /test.txt\n",
            " ---> Running in c2e6887f2025\n",
            "Removing intermediate container c2e6887f2025\n",
            " ---> 313243a9b573\n",
            "Successfully built 313243a9b573\n",
            "Successfully tagged ubuntu:test\n",
            "\n",
            "Use 'docker scan' to run Snyk tests against images to find vulnerabilities and learn how to fix them\n"
          ]
        }
      ],
      "source": [
        "!docker build -t ubuntu:test ./dockerImages"
      ]
    },
    {
      "cell_type": "markdown",
      "metadata": {},
      "source": [
        "Como podemos ver, há uma camada adicional com a nova linha que adicionamos. Se voltarmos a ver as camadas da imagem com `history`"
      ]
    },
    {
      "cell_type": "code",
      "execution_count": 3,
      "metadata": {},
      "outputs": [
        {
          "name": "stdout",
          "output_type": "stream",
          "text": [
            "IMAGE          CREATED              CREATED BY                                      SIZE      COMMENT\n",
            "313243a9b573   About a minute ago   /bin/sh -c rm /test.txt                         0B        \n",
            "a78cf3ea16d8   3 minutes ago        /bin/sh -c touch /test.txt                      0B        \n",
            "2dc39ba059dc   12 days ago          /bin/sh -c #(nop)  CMD [\"bash\"]                 0B        \n",
            "<missing>      12 days ago          /bin/sh -c #(nop) ADD file:a7268f82a86219801…   77.8MB    \n"
          ]
        }
      ],
      "source": [
        "!docker history ubuntu:test"
      ]
    },
    {
      "cell_type": "markdown",
      "metadata": {},
      "source": [
        "Vemos que as primeiras camadas são iguais às de antes e adicionou uma nova camada com o novo comando"
      ]
    },
    {
      "cell_type": "markdown",
      "metadata": {},
      "source": [
        "### Pesquisa no Docker Hub"
      ]
    },
    {
      "cell_type": "markdown",
      "metadata": {},
      "source": [
        "Não é necessário entrar na página do Docker Hub para procurar imagens, isso pode ser feito diretamente da terminal. Para isso, usamos o comando `docker search <nome da imagem>`"
      ]
    },
    {
      "cell_type": "code",
      "execution_count": 8,
      "metadata": {},
      "outputs": [
        {
          "name": "stdout",
          "output_type": "stream",
          "text": [
            "NAME                             DESCRIPTION                                     STARS     OFFICIAL   AUTOMATED\n",
            "ubuntu                           Ubuntu is a Debian-based Linux operating sys…   16425     [OK]       \n",
            "websphere-liberty                WebSphere Liberty multi-architecture images …   297       [OK]       \n",
            "open-liberty                     Open Liberty multi-architecture images based…   62        [OK]       \n",
            "neurodebian                      NeuroDebian provides neuroscience research s…   104       [OK]       \n",
            "ubuntu-debootstrap               DEPRECATED; use \"ubuntu\" instead                52        [OK]       \n",
            "ubuntu-upstart                   DEPRECATED, as is Upstart (find other proces…   115       [OK]       \n",
            "ubuntu/nginx                     Nginx, a high-performance reverse proxy & we…   98                   \n",
            "ubuntu/squid                     Squid is a caching proxy for the Web. Long-t…   66                   \n",
            "ubuntu/cortex                    Cortex provides storage for Prometheus. Long…   4                    \n",
            "ubuntu/apache2                   Apache, a secure & extensible open-source HT…   60                   \n",
            "ubuntu/kafka                     Apache Kafka, a distributed event streaming …   35                   \n",
            "ubuntu/mysql                     MySQL open source fast, stable, multi-thread…   53                   \n",
            "ubuntu/bind9                     BIND 9 is a very flexible, full-featured DNS…   62                   \n",
            "ubuntu/prometheus                Prometheus is a systems and service monitori…   51                   \n",
            "ubuntu/zookeeper                 ZooKeeper maintains configuration informatio…   12                   \n",
            "ubuntu/postgres                  PostgreSQL is an open source object-relation…   31                   \n",
            "ubuntu/redis                     Redis, an open source key-value store. Long-…   19                   \n",
            "ubuntu/grafana                   Grafana, a feature rich metrics dashboard & …   9                    \n",
            "ubuntu/memcached                 Memcached, in-memory keyvalue store for smal…   5                    \n",
            "ubuntu/dotnet-aspnet             Chiselled Ubuntu runtime image for ASP.NET a…   11                   \n",
            "ubuntu/dotnet-deps               Chiselled Ubuntu for self-contained .NET & A…   11                   \n",
            "ubuntu/prometheus-alertmanager   Alertmanager handles client alerts from Prom…   9                    \n",
            "ubuntu/dotnet-runtime            Chiselled Ubuntu runtime image for .NET apps…   10                   \n",
            "ubuntu/cassandra                 Cassandra, an open source NoSQL distributed …   2                    \n",
            "ubuntu/telegraf                  Telegraf collects, processes, aggregates & w…   4                    \n"
          ]
        }
      ],
      "source": [
        "!docker search ubuntu"
      ]
    },
    {
      "cell_type": "markdown",
      "metadata": {},
      "source": [
        "## Uso do Docker para criar aplicações"
      ]
    },
    {
      "cell_type": "markdown",
      "metadata": {},
      "source": [
        "### Exposição de portas"
      ]
    },
    {
      "cell_type": "markdown",
      "metadata": {},
      "source": [
        "Antes vimos como podíamos vincular um porta de um contêiner a uma porta do computador (`-p 8080:80`). Mas para que isso seja possível, na hora de criar a imagem é preciso expor a porta, isso se faz adicionando ao Dockerfile a linha `EXPOSE <port>`, no caso anterior\n",
        "\n",
        "```docker\n",
        "EXPOSE 80\n",
        "```\n",
        "\n",
        "Ou usar imagens como base que já tenham portas expostas"
      ]
    },
    {
      "cell_type": "markdown",
      "metadata": {},
      "source": [
        "### Reutilização do cache de camadas ao compilar"
      ]
    },
    {
      "cell_type": "markdown",
      "metadata": {},
      "source": [
        "Quando compilamos uma imagem, se alguma das camadas que definimos já foram compiladas antes, o Docker detecta e as usa, não as recompila. Se recompilarmos a imagem que definimos no `Dockerfile`, agora levará muito pouco tempo, pois todas as camadas já estão compiladas e o Docker não as recompila."
      ]
    },
    {
      "cell_type": "code",
      "execution_count": 4,
      "metadata": {},
      "outputs": [
        {
          "name": "stdout",
          "output_type": "stream",
          "text": [
            "Sending build context to Docker daemon  2.048kB\n",
            "Step 1/3 : FROM ubuntu:latest\n",
            " ---> 2dc39ba059dc\n",
            "Step 2/3 : RUN touch /test.txt\n",
            " ---> Using cache\n",
            " ---> a78cf3ea16d8\n",
            "Step 3/3 : RUN rm /test.txt\n",
            " ---> Using cache\n",
            " ---> 313243a9b573\n",
            "Successfully built 313243a9b573\n",
            "Successfully tagged ubuntu:test\n",
            "\n",
            "Use 'docker scan' to run Snyk tests against images to find vulnerabilities and learn how to fix them\n"
          ]
        }
      ],
      "source": [
        "!docker build -t ubuntu:test ./dockerImages"
      ]
    },
    {
      "cell_type": "markdown",
      "metadata": {},
      "source": [
        "Na segunda e terceira camada aparece o texto `Using cache`\n",
        "\n",
        "Como isso é um caderno Jupyter, ao executar as células ele fornece a informação do tempo que elas levam para serem executadas. Da última vez que compilei a imagem, demorou 1,4 segundos, enquanto agora levou 0,5 segundos."
      ]
    },
    {
      "cell_type": "markdown",
      "metadata": {},
      "source": [
        "Mas se agora eu mudar o Dockerfile, e na primeira linha, onde dizia que estávamos baseados na versão mais recente do Ubuntu, mudamos para a versão 20.04\n",
        "\n",
        "```docker\n",
        "FROM ubuntu:20.04\n",
        "```"
      ]
    },
    {
      "cell_type": "markdown",
      "metadata": {},
      "source": [
        "No final o `Dockerfile` fica assim:\n",
        "```dockerfile\n",
        "FROM ubuntu:20.04\n",
        "RUN touch /test.txt\n",
        "RUN rm /test.txt\n",
        "```"
      ]
    },
    {
      "cell_type": "markdown",
      "metadata": {},
      "source": [
        "Se recompilarmos, levará muito mais tempo."
      ]
    },
    {
      "cell_type": "code",
      "execution_count": 5,
      "metadata": {},
      "outputs": [
        {
          "name": "stdout",
          "output_type": "stream",
          "text": [
            "Sending build context to Docker daemon  2.048kB\n",
            "Step 1/3 : FROM ubuntu:20.04\n",
            " ---> a0ce5a295b63\n",
            "Step 2/3 : RUN touch /test.txt\n",
            " ---> Running in a40fe8df2c0d\n",
            "Removing intermediate container a40fe8df2c0d\n",
            " ---> 0bb9b452c11f\n",
            "Step 3/3 : RUN rm /test.txt\n",
            " ---> Running in 2e14919f3685\n",
            "Removing intermediate container 2e14919f3685\n",
            " ---> fdc248fa833b\n",
            "Successfully built fdc248fa833b\n",
            "Successfully tagged ubuntu:test\n",
            "\n",
            "Use 'docker scan' to run Snyk tests against images to find vulnerabilities and learn how to fix them\n"
          ]
        }
      ],
      "source": [
        "!docker build -t ubuntu:test ./dockerImages"
      ]
    },
    {
      "cell_type": "markdown",
      "metadata": {},
      "source": [
        "Demorou 1,9 segundos e o texto `Using cache` não aparece mais."
      ]
    },
    {
      "cell_type": "markdown",
      "metadata": {},
      "source": [
        "Ao alterar a primeira camada, o Docker recompila todas as camadas. Isso pode ser um problema porque, durante o desenvolvimento de código, pode ocorrer o seguinte caso\n",
        "* Desenvolvemos o código em nosso computador\n",
        "* Ao construir a imagem, copiamos todo o código do nosso computador para o contêiner\n",
        "* Em seguida, pedimos à imagem para instalar as bibliotecas necessárias\n",
        "\n",
        "Isso pode fazer com que ao alterar qualquer parte do código, ao ter que recompilar a imagem, a camada na qual as bibliotecas são instaladas precise ser recompilada novamente, pois uma camada anterior foi alterada."
      ]
    },
    {
      "cell_type": "markdown",
      "metadata": {},
      "source": [
        "Para resolver isso, a ideia seria que na hora de criar a imagem, primeiro peçamos que se instalem as bibliotecas e depois que se copie o código do nosso computador para o contêiner. Assim, cada vez que alterarmos o código e recompilarmos a imagem, apenas será recompilada a camada em que se copia o código, portanto, a compilação será mais rápida"
      ]
    },
    {
      "cell_type": "markdown",
      "metadata": {},
      "source": [
        "Você pode pensar que é melhor compartilhar uma pasta entre o host e o contêiner (`bind mount`) onde teremos o código e assim não será necessário recompilar a imagem toda vez que alterarmos o código. E a resposta é que é verdade, coloquei apenas este exemplo porque é muito fácil de entender, mas é para ilustrar que na hora de criar imagens é preciso pensar bem de forma que, se for necessário recompilá-la, recompile o menor número possível de camadas."
      ]
    },
    {
      "cell_type": "markdown",
      "metadata": {},
      "source": [
        "### Escrever corretamente um Dockerfile"
      ]
    },
    {
      "cell_type": "markdown",
      "metadata": {},
      "source": [
        "Como vimos, o Docker não recompila as camadas de um Dockerfile se já as tiver compilado anteriormente, portanto, as carrega do cache. Vamos ver como deve ser a forma correta de escrever um Dockerfile para aproveitar isso."
      ]
    },
    {
      "cell_type": "markdown",
      "metadata": {},
      "source": [
        "Vamos a partir deste Dockerfile para ir comentando possíveis correções\n",
        "\n",
        "``` Dockerfile\n",
        "DE ubuntu\n",
        "COPY ./sourceCode /sourceCode\n",
        "RUN apt-get update\n",
        "RUN apt-get install -y python3 ssh\n",
        "CMD [\"python3\", \"/sourceCode/sourceApp/app.py\"]\n",
        "```\n",
        "\n",
        "Como pode ser visto, parte-se de uma imagem do Ubuntu, copia-se a pasta com o código, atualizam-se os repositórios, instala-se o Python, instala-se também o SSH e executa-se a aplicação."
      ]
    },
    {
      "cell_type": "markdown",
      "metadata": {},
      "source": [
        "#### Copiar o código antes da execução"
      ]
    },
    {
      "cell_type": "markdown",
      "metadata": {},
      "source": [
        "Como dissem antes, se primeiro copiarmos o código e depois instalarmos o Python, cada vez que fizermos uma mudança no código e compilarmos a imagem, ela será compilada inteira, mas se copiarmos o código após instalar o Python, cada vez que alterarmos o código e compilarmos a imagem, apenas compilará a partir da cópia do código e não reinstalará o Python, por isso o Dockerfile deveria ficar assim\n",
        "\n",
        "``` Dockerfile\n",
        "DE ubuntu\n",
        "RUN apt-get update\n",
        "RUN apt-get install -y python3 ssh\n",
        "COPY ./sourceCode /sourceCode\n",
        "CMD [\"python3\", \"/sourceCode/sourceApp/app.py\"]\n",
        "```"
      ]
    },
    {
      "cell_type": "markdown",
      "metadata": {},
      "source": [
        "#### Copiar apenas o código necessário"
      ]
    },
    {
      "cell_type": "markdown",
      "metadata": {},
      "source": [
        "Estamos copiando a pasta com todo o código, mas talvez dentro temos código que não precisamos, por isso é necessário copiar apenas o código que realmente precisamos para a aplicação, desta forma a imagem ocupará menos memória. De modo que o Dockerfile ficaria assim\n",
        "\n",
        "``` Dockerfile\n",
        "DE ubuntu\n",
        "RUN apt-get update\n",
        "RUN apt-get install -y python3 ssh\n",
        "COPY ./sourceCode/sourceApp /sourceCode/sourceApp\n",
        "CMD [\"python3\", \"/sourceCode/sourceApp/app.py\"]\n",
        "```"
      ]
    },
    {
      "cell_type": "markdown",
      "metadata": {},
      "source": [
        "#### Atualizar repositórios e instalar python na mesma linha"
      ]
    },
    {
      "cell_type": "markdown",
      "metadata": {},
      "source": [
        "Estamos atualizando os repositórios em uma linha e em outra instalando python3.\n",
        "\n",
        "``` Dockerfile\n",
        "DE ubuntu\n",
        "RUN apt-get update && apt-get install -y python3 ssh\n",
        "COPY ./sourceCode/sourceApp /sourceCode/sourceApp\n",
        "CMD [\"python3\", \"/sourceCode/sourceApp/app.py\"]\n",
        "```"
      ]
    },
    {
      "cell_type": "markdown",
      "metadata": {},
      "source": [
        "#### Não instalar ssh"
      ]
    },
    {
      "cell_type": "markdown",
      "metadata": {},
      "source": [
        "Havíamos instalado ssh na imagem para poder depurar em caso de precisar, mas isso faz com que a imagem ocupe mais memória. Em caso de precisarmos depurar, deveríamos entrar no contêiner, instalar ssh e, em seguida, depurar. Por isso, removemos a instalação do ssh.\n",
        "\n",
        "``` Dockerfile\n",
        "DE ubuntu\n",
        "RUN apt-get update && apt-get install -y python3\n",
        "COPY ./sourceCode/sourceApp /sourceCode/sourceApp\n",
        "CMD [\"python3\", \"/sourceCode/sourceApp/app.py\"]\n",
        "```"
      ]
    },
    {
      "cell_type": "markdown",
      "metadata": {},
      "source": [
        "#### Usar `--no-install-recommends`"
      ]
    },
    {
      "cell_type": "markdown",
      "metadata": {},
      "source": [
        "Quando instalamos algo no Ubuntu, ele instala pacotes recomendados, mas que não precisamos, por isso a imagem ocupa mais espaço. Então, para evitá-lo, adicionamos à instalação `--no-install-recommends`\n",
        "\n",
        "``` Dockerfile\n",
        "DE ubuntu\n",
        "RUN apt-get update && apt-get install -y python3 --no-install-recommends\n",
        "COPY ./sourceCode/sourceApp /sourceCode/sourceApp\n",
        "CMD [\"python3\", \"/sourceCode/sourceApp/app.py\"]\n",
        "```"
      ]
    },
    {
      "cell_type": "markdown",
      "metadata": {},
      "source": [
        "#### Apagar lista de repositórios atualizados"
      ]
    },
    {
      "cell_type": "markdown",
      "metadata": {},
      "source": [
        "Nós atualizamos a lista de repositórios e instalamos o python, mas uma vez feito, já não precisamos da lista de repositórios atualizados, pois tudo o que farão é aumentar o tamanho da imagem, então os removemos após instalar o python e na mesma linha.\n",
        "\n",
        "``` Dockerfile\n",
        "DE ubuntu\n",
        "RUN apt-get update && apt-get install -y python3 --no-install-recommends && rm -rf /var/lib/apt/lists/*\n",
        "COPY ./sourceCode/sourceApp /sourceCode/sourceApp\n",
        "CMD [\"python3\", \"/sourceCode/sourceApp/app.py\"]\n",
        "```"
      ]
    },
    {
      "cell_type": "markdown",
      "metadata": {},
      "source": [
        "#### Usar uma imagem de Python"
      ]
    },
    {
      "cell_type": "markdown",
      "metadata": {},
      "source": [
        "Tudo o que fizemos para atualizar a lista de pacotes e instalar o Python não é necessário, já que existem imagens do Python baseadas no Ubuntu, que com certeza seguiram boas práticas e podem até ter feito melhor do que nós, além de ter sido escaneada em busca de vulnerabilidades pelo Docker Hub. Portanto, removemos tudo isso e partimos de uma imagem do Python.\n",
        "\n",
        "``` Dockerfile\n",
        "DE python\n",
        "COPY ./sourceCode/sourceApp /sourceCode/sourceApp\n",
        "CMD [\"python3\", \"/sourceCode/sourceApp/app.py\"]\n",
        "```"
      ]
    },
    {
      "cell_type": "markdown",
      "metadata": {},
      "source": [
        "#### Especificar a imagem do Python"
      ]
    },
    {
      "cell_type": "markdown",
      "metadata": {},
      "source": [
        "Ao não especificar a imagem do Python, está sendo baixada a última, mas dependendo de quando você construir o contêiner, pode ser baixada uma ou outra, por isso é necessário adicionar a tag com a versão do Python desejada.\n",
        "\n",
        "``` Dockerfile\n",
        "FROM python:3.9.18\n",
        "COPY ./sourceCode/sourceApp /sourceCode/sourceApp\n",
        "CMD [\"python3\", \"/sourceCode/sourceApp/app.py\"]\n",
        "```"
      ]
    },
    {
      "cell_type": "markdown",
      "metadata": {},
      "source": [
        "#### Escolher uma tag pequena"
      ]
    },
    {
      "cell_type": "markdown",
      "metadata": {},
      "source": [
        "Escolhemos a tag `3.9.18`, mas essa versão do Python tem um monte de bibliotecas que provavelmente não precisamos, então podemos usar as versões `3.9.18-slim` que têm muitas menos bibliotecas instaladas, ou a versão `3.9.18-alpine` que é uma versão do Python baseada no Alpine e não no Ubuntu. O Alpine é uma distribuição Linux muito leve que tem muito poucos pacotes instalados e que costuma ser usada bastante em contêineres Docker para ocupar muito pouco espaço.\n",
        "\n",
        "A imagem de python `3.9.18` ocupa 997 MB, a `3.9.18-slim` ocupa 126 MB e a `3.9.18-alpine` ocupa 47,8 MB\n",
        "\n",
        "``` Dockerfile\n",
        "FROM python:3.9.18-alpine\n",
        "COPY ./sourceCode/sourceApp /sourceCode/sourceApp\n",
        "CMD [\"python3\", \"/sourceCode/sourceApp/app.py\"]\n",
        "```"
      ]
    },
    {
      "cell_type": "markdown",
      "metadata": {},
      "source": [
        "#### Indique o workspace"
      ]
    },
    {
      "cell_type": "markdown",
      "metadata": {},
      "source": [
        "Em vez de indicar o caminho da imagem `/sourceCode/sourceApp`, estabelecemos que esse caminho seja o workspace da imagem. Assim, quando copiarmos o código ou executarmos a aplicação, não é necessário indicar o caminho.\n",
        "\n",
        "``` Dockerfile\n",
        "FROM python:3.9.18-alpine\n",
        "WORKDIR /sourceCode/sourceApp\n",
        "COPY ./sourceCode/sourceApp .\n",
        "CMD [\"python3\", \"app.py\"]\n",
        "```"
      ]
    },
    {
      "cell_type": "markdown",
      "metadata": {},
      "source": [
        "#### Indique o workspace"
      ]
    },
    {
      "cell_type": "markdown",
      "metadata": {},
      "source": [
        "Em vez de indicar o caminho da imagem `/sourceCode/sourceApp`, estabelecemos que esse caminho seja o workspace da imagem. Assim, quando copiarmos o código ou executarmos a aplicação, não é necessário indicar o caminho.\n",
        "\n",
        "``` Dockerfile\n",
        "FROM python:3.9.18-alpine\n",
        "WORKDIR /sourceCode/sourceApp\n",
        "COPY ./sourceCode/sourceApp .\n",
        "CMD [\"python3\", \"app.py\"]\n",
        "```"
      ]
    },
    {
      "cell_type": "markdown",
      "metadata": {},
      "source": [
        "### Código compartilhado em uma pasta `bind mount`"
      ]
    },
    {
      "cell_type": "markdown",
      "metadata": {},
      "source": [
        "Havíamos criado uma pasta chamada `dockerHostFolder` na qual havíamos compartilhado arquivos entre o host e um contêiner. Dentro, além disso, deveriam haver três arquivos."
      ]
    },
    {
      "cell_type": "code",
      "execution_count": 1,
      "metadata": {},
      "outputs": [
        {
          "name": "stdout",
          "output_type": "stream",
          "text": [
            "bindFile.txt  fileExtract.txt  text.txt\n"
          ]
        }
      ],
      "source": [
        "!ls dockerHostFolder"
      ]
    },
    {
      "cell_type": "markdown",
      "metadata": {},
      "source": [
        "Vamos aproveitar o arquivo `text.txt` para ver isso. Vamos ver o que há dentro de `text.txt`"
      ]
    },
    {
      "cell_type": "code",
      "execution_count": 3,
      "metadata": {},
      "outputs": [],
      "source": [
        "!cat dockerHostFolder/text.txt"
      ]
    },
    {
      "cell_type": "markdown",
      "metadata": {},
      "source": [
        "Não há saída, o arquivo está vazio. Vamos criar novamente um contêiner do Ubuntu compartilhando a pasta `dockerHostFolder`."
      ]
    },
    {
      "cell_type": "code",
      "execution_count": 4,
      "metadata": {},
      "outputs": [
        {
          "name": "stdout",
          "output_type": "stream",
          "text": [
            "24adbded61f507cdf7f192eb5e246e43ee3ffafc9944b7c57918eb2d547dff19\n"
          ]
        }
      ],
      "source": [
        "!docker run --name alwaysup -d -v ~/Documentos/web/portafolio/posts/dockerHostFolder:/dockerContainerFolder ubuntu tail -f /dev/null"
      ]
    },
    {
      "cell_type": "markdown",
      "metadata": {},
      "source": [
        "Vemos que o contêiner está rodando"
      ]
    },
    {
      "cell_type": "code",
      "execution_count": 5,
      "metadata": {},
      "outputs": [
        {
          "name": "stdout",
          "output_type": "stream",
          "text": [
            "CONTAINER ID   IMAGE     COMMAND               CREATED          STATUS          PORTS     NAMES\n",
            "24adbded61f5   ubuntu    \"tail -f /dev/null\"   16 seconds ago   Up 15 seconds             alwaysup\n"
          ]
        }
      ],
      "source": [
        "!docker ps"
      ]
    },
    {
      "cell_type": "markdown",
      "metadata": {},
      "source": [
        "Entramos no contêiner, vemos que está `text.txt` e que está vazio\n",
        "\n",
        "```bash\n",
        "$ docker exec -it alwaysup bash\n",
        "root@24adbded61f5:/# ls dockerContainerFolder/\n",
        "bindFile.txt  fileExtract.txt  text.txt\n",
        "root@24adbded61f5:/# cat dockerContainerFolder/text.txt\n",
        "root@24adbded61f5:/#\n",
        "```\n",
        "\n",
        "Agora abrimos no host o arquivo `text.txt` com o editor de textos que quisermos, escrevemos `Hola mundo` e salvamos. Se agora vemos o que há dentro do arquivo no contêiner, veremos o mesmo texto.\n",
        "\n",
        "```bash\n",
        "root@24adbded61f5:/# cat dockerContainerFolder/text.txt\n",
        "Olá mundo\n",
        "```\n",
        "\n",
        "Agora editamos o arquivo no contêiner e saímos do contêiner\n",
        "\n",
        "```bash\n",
        "root@24adbded61f5:/# echo olá contêiner > dockerContainerFolder/text.txt\n",
        "root@24adbded61f5:/# cat dockerContainerFolder/text.txt\n",
        "olá contêiner\n",
        "root@24adbded61f5:/# exit\n",
        "saída\n",
        "```\n",
        "\n",
        "Se olharmos para o arquivo no host, veremos o texto que escrevemos no contêiner"
      ]
    },
    {
      "cell_type": "code",
      "execution_count": 6,
      "metadata": {},
      "outputs": [
        {
          "name": "stdout",
          "output_type": "stream",
          "text": [
            "hola contenedor\n"
          ]
        }
      ],
      "source": [
        "!cat dockerHostFolder/text.txt"
      ]
    },
    {
      "cell_type": "markdown",
      "metadata": {},
      "source": [
        "Apagamos o contêiner"
      ]
    },
    {
      "cell_type": "code",
      "execution_count": 7,
      "metadata": {},
      "outputs": [
        {
          "name": "stdout",
          "output_type": "stream",
          "text": [
            "alwaysup\n"
          ]
        }
      ],
      "source": [
        "!docker rm -f alwaysup"
      ]
    },
    {
      "cell_type": "markdown",
      "metadata": {},
      "source": [
        "### Conectar contentores por rede"
      ]
    },
    {
      "cell_type": "markdown",
      "metadata": {},
      "source": [
        "Em caso de quisermos ter vários contêineres rodando e querermos que eles se comuniquem, podemos fazer com que se comuniquem por rede. O Docker nos dá a possibilidade de fazer isso através de suas redes virtuais."
      ]
    },
    {
      "cell_type": "markdown",
      "metadata": {},
      "source": [
        "Vamos ver quais redes o Docker tem através do comando `docker network ls`"
      ]
    },
    {
      "cell_type": "code",
      "execution_count": 8,
      "metadata": {},
      "outputs": [
        {
          "name": "stdout",
          "output_type": "stream",
          "text": [
            "NETWORK ID     NAME      DRIVER    SCOPE\n",
            "de6e8b7b737e   bridge    bridge    local\n",
            "da1f5f6fccc0   host      host      local\n",
            "d3b0d93993c0   none      null      local\n"
          ]
        }
      ],
      "source": [
        "!docker network ls"
      ]
    },
    {
      "cell_type": "markdown",
      "metadata": {},
      "source": [
        "Vemos que por padrão o Docker tem três redes\n",
        "* bridge: Está por retrocompatibilidade com versões anteriores, mas não deveríamos usá-la mais\n",
        "* host: É a rede do host\n",
        "* none: Esta é a opção que devemos usar se quisermos que um contêiner não tenha acesso à internet"
      ]
    },
    {
      "cell_type": "markdown",
      "metadata": {},
      "source": [
        "Podemos criar novas redes às quais outros contêineres possam se conectar, para isso usamos o comando `docker network create <name>`, para que outros contêineres possam se conectar também devemos adicionar a opção `--attachable`"
      ]
    },
    {
      "cell_type": "code",
      "execution_count": 11,
      "metadata": {},
      "outputs": [
        {
          "name": "stdout",
          "output_type": "stream",
          "text": [
            "2f6f3ddbfa8642e9f6819aa0965c16339e9e910be7bcf56ebb718fcac324cc27\n"
          ]
        }
      ],
      "source": [
        "!docker network create --attachable myNetwork"
      ]
    },
    {
      "cell_type": "markdown",
      "metadata": {},
      "source": [
        "Podemos inspecioná-la através do comando `docker network inspect <name>`"
      ]
    },
    {
      "cell_type": "code",
      "execution_count": 12,
      "metadata": {},
      "outputs": [
        {
          "name": "stdout",
          "output_type": "stream",
          "text": [
            "[\n",
            "    {\n",
            "        \"Name\": \"myNetwork\",\n",
            "        \"Id\": \"2f6f3ddbfa8642e9f6819aa0965c16339e9e910be7bcf56ebb718fcac324cc27\",\n",
            "        \"Created\": \"2022-09-14T15:20:08.539830161+02:00\",\n",
            "        \"Scope\": \"local\",\n",
            "        \"Driver\": \"bridge\",\n",
            "        \"EnableIPv6\": false,\n",
            "        \"IPAM\": {\n",
            "            \"Driver\": \"default\",\n",
            "            \"Options\": {},\n",
            "            \"Config\": [\n",
            "                {\n",
            "                    \"Subnet\": \"172.18.0.0/16\",\n",
            "                    \"Gateway\": \"172.18.0.1\"\n",
            "                }\n",
            "            ]\n",
            "        },\n",
            "        \"Internal\": false,\n",
            "        \"Attachable\": true,\n",
            "        \"Ingress\": false,\n",
            "        \"ConfigFrom\": {\n",
            "            \"Network\": \"\"\n",
            "        },\n",
            "        \"ConfigOnly\": false,\n",
            "        \"Containers\": {},\n",
            "        \"Options\": {},\n",
            "        \"Labels\": {}\n",
            "    }\n",
            "]\n"
          ]
        }
      ],
      "source": [
        "!docker network inspect myNetwork"
      ]
    },
    {
      "cell_type": "markdown",
      "metadata": {},
      "source": [
        "Agora temos que criar dois contêineres para que eles possam se comunicar."
      ]
    },
    {
      "cell_type": "markdown",
      "metadata": {},
      "source": [
        "Vamos a criar um novo contêiner, que chamaremos de `container1`, com uma pasta compartilhada e que dentro dele se chamará `folder1`"
      ]
    },
    {
      "cell_type": "code",
      "execution_count": 17,
      "metadata": {},
      "outputs": [
        {
          "name": "stdout",
          "output_type": "stream",
          "text": [
            "a5fca8ba1e4ff0a67002f8f1b8cc3cd43185373c2a7e295546f774059ad8dd1a\n"
          ]
        }
      ],
      "source": [
        "!docker run --name container1 -d -v ~/Documentos/web/portafolio/posts/dockerHostFolder:/folder1 ubuntu tail -f /dev/null"
      ]
    },
    {
      "cell_type": "markdown",
      "metadata": {},
      "source": [
        "Agora criamos outro contêiner, chamado `container2`, com outra pasta compartilhada, mas que se chame `folder2`"
      ]
    },
    {
      "cell_type": "code",
      "execution_count": 18,
      "metadata": {},
      "outputs": [
        {
          "name": "stdout",
          "output_type": "stream",
          "text": [
            "6c8dc18315488ef686f7548516c19b3d716728dd8a173cdb889ec0dd082232f9\n"
          ]
        }
      ],
      "source": [
        "!docker run --name container2 -d -v ~/Documentos/web/portafolio/posts/dockerHostFolder:/folder2 ubuntu tail -f /dev/null"
      ]
    },
    {
      "cell_type": "markdown",
      "metadata": {},
      "source": [
        "Vemos os contêineres rodando e vemos que estão os dois"
      ]
    },
    {
      "cell_type": "code",
      "execution_count": 19,
      "metadata": {},
      "outputs": [
        {
          "name": "stdout",
          "output_type": "stream",
          "text": [
            "CONTAINER ID   IMAGE     COMMAND               CREATED         STATUS         PORTS     NAMES\n",
            "6c8dc1831548   ubuntu    \"tail -f /dev/null\"   3 seconds ago   Up 2 seconds             container2\n",
            "a5fca8ba1e4f   ubuntu    \"tail -f /dev/null\"   4 seconds ago   Up 3 seconds             container1\n"
          ]
        }
      ],
      "source": [
        "!docker ps"
      ]
    },
    {
      "cell_type": "markdown",
      "metadata": {},
      "source": [
        "Agora temos que conectar os contêineres à rede, para isso usamos o comando `docker network connect <network name> <container name>`"
      ]
    },
    {
      "cell_type": "code",
      "execution_count": 20,
      "metadata": {},
      "outputs": [],
      "source": [
        "!docker network connect myNetwork container1"
      ]
    },
    {
      "cell_type": "code",
      "execution_count": 21,
      "metadata": {},
      "outputs": [],
      "source": [
        "!docker network connect myNetwork container2"
      ]
    },
    {
      "cell_type": "markdown",
      "metadata": {},
      "source": [
        "Para verificar que foram conectados corretamente, podemos inspecionar a rede, mas filtrando pelos contêineres conectados.\n",
        "\n",
        "```bash\n",
        "$ docker network inspect --format '{{.Containers}}' myNetwork\n",
        " mapa\n",
        "[\n",
        "6c8dc18315488ef686f7548516c19b3d716728dd8a173cdb889ec0dd082232f9:\n",
        "{\n",
        "container2\n",
        "f828d211e894f7a5a992ce41a2a0def8e2424e9737fb4e1485fc09cc2d607b69\n",
        "02:42:ac:12:00:03\n",
        "172.18.0.3/16\n",
        "}\n",
        "a5fca8ba1e4ff0a67002f8f1b8cc3cd43185373c2a7e295546f774059ad8dd1a:\n",
        "{\n",
        "container1\n",
        "cff762e6286ebc169804b2a675bbff904102de796751d367c18d4b490c994c45\n",
        "02:42:ac:12:00:02\n",
        "172.18.0.2/16\n",
        "}\n",
        "]\n",
        "```\n",
        "\n",
        "Como podemos ver o contentor `container1` tem o IP `172.18.0.2` e o contentor `container2` tem o IP `172.18.0.3`"
      ]
    },
    {
      "cell_type": "markdown",
      "metadata": {},
      "source": [
        "Entramos no contêiner `container1` e instalamos `ping`\n",
        "\n",
        "``` bash\n",
        "$ docker exec -it container1 bash\n",
        "root@a5fca8ba1e4f:/# apt update\n",
        "...\n",
        "root@a5fca8ba1e4f:/# apt install iputils-ping\n",
        "Claro, por favor proporciona el texto markdown que deseas que traduzca al portugés.\n",
        "root@a5fca8ba1e4f:/#\n",
        "```"
      ]
    },
    {
      "cell_type": "markdown",
      "metadata": {},
      "source": [
        "Entramos no contêiner `container2` e instalamos `ping`\n",
        "\n",
        "```bash\n",
        "$ docker exec -it container2 bash\n",
        "root@a5fca8ba1e4f:/# apt update\n",
        "...\n",
        "root@a5fca8ba1e4f:/# apt install iputils-ping\n",
        "...\n",
        "root@a5fca8ba1e4f:/#\n",
        "```"
      ]
    },
    {
      "cell_type": "markdown",
      "metadata": {},
      "source": [
        "Agora do contêiner `container1` fazemos um ping ao IP `172.18.0.3`, que pertence ao contêiner `container2`\n",
        "\n",
        "```bash\n",
        "root@a5fca8ba1e4f:/# ping 172.18.0.3\n",
        "PING 172.18.0.3 (172.18.0.3) 56(84) bytes de dados.\n",
        "64 bytes de 172.18.0.3: icmp_seq=1 ttl=64 tempo=0.115 ms\n",
        "64 bytes de 172.18.0.3: icmp_seq=2 ttl=64 time=0.049 ms\n",
        "64 bytes de 172.18.0.3: icmp_seq=3 ttl=64 tempo=0.056 ms\n",
        "64 bytes de 172.18.0.3: icmp_seq=4 ttl=64 tempo=0,060 ms\n",
        "^C\n",
        "--- estatísticas do ping para 172.18.0.3 ---\n",
        "4 pacotes transmitidos, 4 recebidos, 0% de perda de pacotes, tempo 3068ms\n",
        "rtt min/avg/max/mdev = 0,049/0,070/0,115/0,026 ms\n",
        "```"
      ]
    },
    {
      "cell_type": "markdown",
      "metadata": {},
      "source": [
        "E do contêiner `container2` fazemos um ping ao IP `172.18.0.2`, que pertence ao contêiner `container1`\n",
        "\n",
        "```bash\n",
        "root@6c8dc1831548:/# ping 172.18.0.2\n",
        "PING 172.18.0.2 (172.18.0.2) 56(84) bytes de dados.\n",
        "64 bytes de 172.18.0.2: icmp_seq=1 ttl=64 time=0.076 ms\n",
        "64 bytes de 172.18.0.2: icmp_seq=2 ttl=64 time=0.045 ms\n",
        "64 bytes de 172.18.0.2: icmp_seq=3 ttl=64 time=0.049 ms\n",
        "64 bytes de 172.18.0.2: icmp_seq=4 ttl=64 time=0.051 ms\n",
        "^C\n",
        "--- estatísticas de ping para 172.18.0.2 ---\n",
        "4 pacotes transmitidos, 4 recebidos, 0% de perda de pacotes, tempo 3074ms\n",
        "rtt min/avg/max/mdev = 0,045/0,055/0,076/0,012 ms\n",
        "```"
      ]
    },
    {
      "cell_type": "markdown",
      "metadata": {},
      "source": [
        "Mas há uma coisa melhor que nos permite fazer com o Docker: se eu não souber o IP do contêiner ao qual quero me conectar, em vez de escrever seu IP, posso escrever seu nome."
      ]
    },
    {
      "cell_type": "markdown",
      "metadata": {},
      "source": [
        "Agora, do contêiner `container1`, fazemos um ping ao IP de `container2`.\n",
        "\n",
        "```bash\n",
        "root@a5fca8ba1e4f:/# ping container2\n",
        "PING container2 (172.18.0.3) 56(84) bytes de dados.\n",
        "64 bytes de container2.myNetwork (172.18.0.3): icmp_seq=1 ttl=64 time=0.048 ms\n",
        "64 bytes de container2.myNetwork (172.18.0.3): icmp_seq=2 ttl=64 time=0.050 ms\n",
        "64 bytes de container2.myNetwork (172.18.0.3): icmp_seq=3 ttl=64 time=0,052 ms\n",
        "64 bytes de container2.myNetwork (172.18.0.3): icmp_seq=4 ttl=64 tempo=0,053 ms\n",
        "^C\n",
        "--- estatísticas do ping do container2 ---\n",
        "4 pacotes transmitidos, 4 recebidos, 0% de perda de pacotes, tempo 3071ms\n",
        "rtt min/avg/max/mdev = 0,048/0,050/0,053/0,002 ms\n",
        "```\n",
        "\n",
        "Como vemos, o Docker sabe que o IP do contêiner `container2` é a `172.18.0.3`"
      ]
    },
    {
      "cell_type": "markdown",
      "metadata": {},
      "source": [
        "E do contêiner `container2` fazemos um ping ao IP de `container1`\n",
        "\n",
        "```bash\n",
        "root@6c8dc1831548:/# ping container1\n",
        "PING container1 (172.18.0.2) 56(84) bytes de dados.\n",
        "64 bytes de container1.myNetwork (172.18.0.2): icmp_seq=1 ttl=64 tempo=0.051 ms\n",
        "64 bytes de container1.myNetwork (172.18.0.2): icmp_seq=2 ttl=64 time=0.058 ms\n",
        "64 bytes de container1.myNetwork (172.18.0.2): icmp_seq=3 ttl=64 time=0,052 ms\n",
        "64 bytes de container1.myNetwork (172.18.0.2): icmp_seq=4 ttl=64 time=0,056 ms\n",
        "^C\n",
        "--- estatísticas do container1 ping ---\n",
        "4 pacotes transmitidos, 4 recebidos, 0% de perda de pacotes, tempo 3057ms\n",
        "rtt min/avg/max/mdev = 0,051/0,054/0,058/0,003 ms\n",
        "```\n",
        "\n",
        "Como vemos, o Docker sabe que o IP do contêiner `container1` é a `172.18.0.2`"
      ]
    },
    {
      "cell_type": "markdown",
      "metadata": {},
      "source": [
        "Saimos dos contêineres e os apagamos"
      ]
    },
    {
      "cell_type": "code",
      "execution_count": 23,
      "metadata": {},
      "outputs": [
        {
          "name": "stdout",
          "output_type": "stream",
          "text": [
            "container1\n",
            "container2\n"
          ]
        }
      ],
      "source": [
        "!docker rm -f container1 container2"
      ]
    },
    {
      "cell_type": "markdown",
      "metadata": {},
      "source": [
        "Apagamos também a rede que criamos"
      ]
    },
    {
      "cell_type": "code",
      "execution_count": 25,
      "metadata": {},
      "outputs": [
        {
          "name": "stdout",
          "output_type": "stream",
          "text": [
            "myNetwork\n"
          ]
        }
      ],
      "source": [
        "!docker network rm myNetwork"
      ]
    },
    {
      "cell_type": "markdown",
      "metadata": {},
      "source": [
        "## Uso de GPUs"
      ]
    },
    {
      "cell_type": "markdown",
      "metadata": {},
      "source": [
        "Para poder usar as GPUs do host dentro dos contêineres Docker, é necessário seguir os passos descritos na página de instalação do [Nvidia container toolkit](https://docs.nvidia.com/datacenter/cloud-native/container-toolkit/install-guide.html)."
      ]
    },
    {
      "cell_type": "markdown",
      "metadata": {},
      "source": [
        "### Configurar o repositório e a chave GPG"
      ]
    },
    {
      "cell_type": "markdown",
      "metadata": {},
      "source": [
        "Temos que configurar o repositório do `nvidia container toolkit` e a chave GPG. Para isso, execute o seguinte comando no terminal:\n",
        "\n",
        "``` bash\n",
        "distribuição=$(. /etc/os-release;echo $ID$VERSION_ID) \\\n",
        "&& curl -fsSL https://nvidia.github.io/libnvidia-container/gpgkey | sudo gpg --dearmor -o /usr/share/keyrings/nvidia-container-toolkit-keyring.gpg \\\n",
        "&& curl -s -L https://nvidia.github.io/libnvidia-container/$distribution/libnvidia-container.list | \\\n",
        "sed 's#deb https://#deb [signed-by=/usr/share/keyrings/nvidia-container-toolkit-keyring.gpg] https://#g' | \\\n",
        "sudo tee /etc/apt/sources.list.d/nvidia-container-toolkit.list\n",
        "```"
      ]
    },
    {
      "cell_type": "markdown",
      "metadata": {},
      "source": [
        "### Instalação do `nvidia container toolkit`"
      ]
    },
    {
      "cell_type": "markdown",
      "metadata": {},
      "source": [
        "Uma vez atualizamos o repositório e a chave, atualizamos os repositórios por meio do comando\n",
        "``` bash\n",
        "sudo apt update\n",
        "```\n",
        "\n",
        "E instalamos `nvidia container toolkit`\n",
        "``` bash\n",
        "sudo apt install -y nvidia-docker2\n",
        "```"
      ]
    },
    {
      "cell_type": "markdown",
      "metadata": {},
      "source": [
        "### Reinício do Docker"
      ]
    },
    {
      "cell_type": "markdown",
      "metadata": {},
      "source": [
        "Uma vez que tenhamos terminado, temos que reiniciar o demônio do Docker através de\n",
        "``` bash\n",
        "sudo systemctl restart docker\n",
        "```"
      ]
    },
    {
      "cell_type": "markdown",
      "metadata": {},
      "source": [
        "### Uso de GPUs"
      ]
    },
    {
      "cell_type": "markdown",
      "metadata": {},
      "source": [
        "Agora que configuramos o Docker para poder usar as GPUs do host dentro dos contêineres, podemos testá-lo através da opção `--gpus all`. Se houver mais de uma GPU e quiser usar apenas 1, seria necessário especificá-la, mas por enquanto aqui explicamos apenas como usar todas."
      ]
    },
    {
      "cell_type": "markdown",
      "metadata": {},
      "source": [
        "Criamos um contêiner que não será executado em segundo plano, mas sim irá executar o comando `nvidia-smi` para que possamos verificar se ele tem acesso às GPUs."
      ]
    },
    {
      "cell_type": "code",
      "execution_count": 32,
      "metadata": {},
      "outputs": [
        {
          "name": "stdout",
          "output_type": "stream",
          "text": [
            "Unable to find image 'ubuntu:latest' locally\n",
            "latest: Pulling from library/ubuntu\n",
            "\n",
            "\u001b[1B6a12be2b: Pull complete .54MB/29.54MBB\u001b[1A\u001b[2K\u001b[1A\u001b[2K\u001b[1A\u001b[2K\u001b[1A\u001b[2K\u001b[1A\u001b[2K\u001b[1A\u001b[2K\u001b[1A\u001b[2K\u001b[1A\u001b[2K\u001b[1A\u001b[2K\u001b[1A\u001b[2K\u001b[1A\u001b[2K\u001b[1A\u001b[2K\u001b[1A\u001b[2K\u001b[1A\u001b[2K\u001b[1A\u001b[2K\u001b[1A\u001b[2K\u001b[1A\u001b[2K\u001b[1A\u001b[2K\u001b[1A\u001b[2K\u001b[1A\u001b[2K\u001b[1A\u001b[2KDigest: sha256:aabed3296a3d45cede1dc866a24476c4d7e093aa806263c27ddaadbdce3c1054\n",
            "Status: Downloaded newer image for ubuntu:latest\n",
            "Mon Sep  4 07:10:36 2023       \n",
            "+-----------------------------------------------------------------------------+\n",
            "| NVIDIA-SMI 510.39.01    Driver Version: 510.39.01    CUDA Version: 11.6     |\n",
            "|-------------------------------+----------------------+----------------------+\n",
            "| GPU  Name        Persistence-M| Bus-Id        Disp.A | Volatile Uncorr. ECC |\n",
            "| Fan  Temp  Perf  Pwr:Usage/Cap|         Memory-Usage | GPU-Util  Compute M. |\n",
            "|                               |                      |               MIG M. |\n",
            "|===============================+======================+======================|\n",
            "|   0  Quadro T1000        On   | 00000000:01:00.0 Off |                  N/A |\n",
            "| N/A   44C    P0    15W /  N/A |      9MiB /  4096MiB |      0%      Default |\n",
            "|                               |                      |                  N/A |\n",
            "+-------------------------------+----------------------+----------------------+\n",
            "                                                                               \n",
            "+-----------------------------------------------------------------------------+\n",
            "| Processes:                                                                  |\n",
            "|  GPU   GI   CI        PID   Type   Process name                  GPU Memory |\n",
            "|        ID   ID                                                   Usage      |\n",
            "|=============================================================================|\n",
            "|    0   N/A  N/A      2545      G                                       4MiB |\n",
            "|    0   N/A  N/A      3421      G                                       4MiB |\n",
            "+-----------------------------------------------------------------------------+\n"
          ]
        }
      ],
      "source": [
        "!docker run --name container_gpus --gpus all ubuntu nvidia-smi"
      ]
    },
    {
      "cell_type": "markdown",
      "metadata": {},
      "source": [
        "Apagamos o contêiner"
      ]
    },
    {
      "cell_type": "code",
      "execution_count": 1,
      "metadata": {},
      "outputs": [],
      "source": [
        "!doker rm container_gpus"
      ]
    },
    {
      "cell_type": "markdown",
      "metadata": {},
      "source": [
        "## Docker compose"
      ]
    },
    {
      "cell_type": "markdown",
      "metadata": {},
      "source": [
        "### Docker compose vs docker-compose"
      ]
    },
    {
      "cell_type": "markdown",
      "metadata": {},
      "source": [
        "`docker-compose` foi uma ferramenta criada para ajudar no mantenimiento de imagens e contêineres, e era necessário instalá-la separadamente do Docker. No entanto, o Docker incorporou essa funcionalidade em suas últimas versões, e agora não é mais necessário instalá-la separadamente. Para usá-la, em vez de usar o comando `docker-compose`, você deve usar o comando `docker compose`. Em muitos lugares, você encontrará informações usando `docker-compose`, mas ao instalar o Docker, o `docker compose` já virá instalado, portanto tudo que podia ser feito com `docker-compose` é compatível com `docker compose`."
      ]
    },
    {
      "cell_type": "markdown",
      "metadata": {},
      "source": [
        "### Docker compose"
      ]
    },
    {
      "cell_type": "markdown",
      "metadata": {},
      "source": [
        "Docker Compose é uma ferramenta do Docker que faz tudo o que vimos até agora, mas nos economizando tempo e esforço. Editando um arquivo `.yml`, podemos dizer ao Docker Compose para criar todos os contêineres que quisermos.\n",
        "\n",
        "Para usar uma vez não haverá muita diferença entre escrever todos os comandos que vimos antes ou escrever o arquivo `.yml`, mas quando quiser ter a mesma configuração de contêineres funcionando novamente, basta chamar o arquivo `.yml` e ele recriará toda a configuração."
      ]
    },
    {
      "cell_type": "markdown",
      "metadata": {},
      "source": [
        "Vamos a criar uma pasta onde armazenaremos os arquivos do Docker Compose"
      ]
    },
    {
      "cell_type": "code",
      "execution_count": 26,
      "metadata": {},
      "outputs": [],
      "source": [
        "!mkdir dockerComposeFiles"
      ]
    },
    {
      "cell_type": "markdown",
      "metadata": {},
      "source": [
        "Criamos o arquivo .yml dentro"
      ]
    },
    {
      "cell_type": "code",
      "execution_count": 27,
      "metadata": {},
      "outputs": [],
      "source": [
        "!touch dockerComposeFiles/docker-compose.yml"
      ]
    },
    {
      "cell_type": "markdown",
      "metadata": {},
      "source": [
        "Um arquivo Docker Compose deve começar com a versão\n",
        "\n",
        "```json\n",
        "versão: \"<v.v>\"\n",
        "```\n",
        "\n",
        "No momento de escrever isso, a última versão é a `3.8` então escrevemos essa"
      ]
    },
    {
      "cell_type": "markdown",
      "metadata": {},
      "source": [
        "*docker-compose.yml*:\n",
        "\n",
        "```json\n",
        "versão: \"3.8\"\n",
        "```"
      ]
    },
    {
      "cell_type": "markdown",
      "metadata": {},
      "source": [
        "A seguir estão indicados os serviços, que são os contentores. Em cada serviço tem de especificar a imagem e, além disso, podem ser adicionados outros parâmetros como portas, variáveis de ambiente, etc.\n",
        "\n",
        "```json\n",
        "serviços:\n",
        "container1:\n",
        "image: ubuntu\n",
        "    \n",
        "container2:\n",
        "image: ubuntu\n",
        "```"
      ]
    },
    {
      "cell_type": "markdown",
      "metadata": {},
      "source": [
        "O `docker-compose.yml` ficaria assim:\n",
        "\n",
        "```json\n",
        "versão: \"3.8\"\n",
        "\n",
        "serviços:\n",
        "container1:\n",
        "imagem: ubuntu\n",
        "    \n",
        "container2:\n",
        "image: ubuntu\n",
        "```"
      ]
    },
    {
      "cell_type": "markdown",
      "metadata": {},
      "source": [
        "Uma vez que temos criado o arquivo, em seu caminho, podemos executar tudo através do comando `docker compose up`, mas adicionando a opção `-d` faremos com que ele rode em segundo plano."
      ]
    },
    {
      "cell_type": "code",
      "execution_count": 30,
      "metadata": {},
      "outputs": [
        {
          "name": "stdout",
          "output_type": "stream",
          "text": [
            "\u001b[1A\u001b[1B\u001b[0G\u001b[?25l[+] Running 1/0\n",
            "\u001b[34m ⠿ Network dockercomposefiles_default         Created                      0.1s\n",
            "\u001b[0m\u001b[37m ⠋ Container dockercomposefiles-container2-1  Creating                     0.0s\n",
            "\u001b[0m\u001b[37m ⠋ Container dockercomposefiles-container1-1  Creating                     0.0s\n",
            "\u001b[0m\u001b[?25h\u001b[1A\u001b[1A\u001b[1A\u001b[1A\u001b[0G\u001b[?25l[+] Running 1/3\n",
            "\u001b[34m ⠿ Network dockercomposefiles_default         Created                      0.1s\n",
            "\u001b[0m\u001b[37m ⠙ Container dockercomposefiles-container2-1  Creating                     0.1s\n",
            "\u001b[0m\u001b[37m ⠙ Container dockercomposefiles-container1-1  Creating                     0.1s\n",
            "\u001b[0m\u001b[?25h\u001b[1A\u001b[1A\u001b[1A\u001b[1A\u001b[0G\u001b[?25l[+] Running 1/3\n",
            "\u001b[34m ⠿ Network dockercomposefiles_default         Created                      0.1s\n",
            "\u001b[0m\u001b[37m ⠿ Container dockercomposefiles-container2-1  Starting                     0.2s\n",
            "\u001b[0m\u001b[37m ⠿ Container dockercomposefiles-container1-1  Starting                     0.2s\n",
            "\u001b[0m\u001b[?25h\u001b[1A\u001b[1A\u001b[1A\u001b[1A\u001b[0G\u001b[?25l[+] Running 1/3\n",
            "\u001b[34m ⠿ Network dockercomposefiles_default         Created                      0.1s\n",
            "\u001b[0m\u001b[37m ⠿ Container dockercomposefiles-container2-1  Starting                     0.3s\n",
            "\u001b[0m\u001b[37m ⠿ Container dockercomposefiles-container1-1  Starting                     0.3s\n",
            "\u001b[0m\u001b[?25h\u001b[1A\u001b[1A\u001b[1A\u001b[1A\u001b[0G\u001b[?25l[+] Running 1/3\n",
            "\u001b[34m ⠿ Network dockercomposefiles_default         Created                      0.1s\n",
            "\u001b[0m\u001b[37m ⠿ Container dockercomposefiles-container2-1  Starting                     0.4s\n",
            "\u001b[0m\u001b[37m ⠿ Container dockercomposefiles-container1-1  Starting                     0.4s\n",
            "\u001b[0m\u001b[?25h\u001b[1A\u001b[1A\u001b[1A\u001b[1A\u001b[0G\u001b[?25l[+] Running 1/3\n",
            "\u001b[34m ⠿ Network dockercomposefiles_default         Created                      0.1s\n",
            "\u001b[0m\u001b[37m ⠿ Container dockercomposefiles-container2-1  Starting                     0.5s\n",
            "\u001b[0m\u001b[37m ⠿ Container dockercomposefiles-container1-1  Starting                     0.5s\n",
            "\u001b[0m\u001b[?25h\u001b[1A\u001b[1A\u001b[1A\u001b[1A\u001b[0G\u001b[?25l[+] Running 2/3\n",
            "\u001b[34m ⠿ Network dockercomposefiles_default         Created                      0.1s\n",
            "\u001b[0m\u001b[34m ⠿ Container dockercomposefiles-container2-1  Started                      0.5s\n",
            "\u001b[0m\u001b[37m ⠿ Container dockercomposefiles-container1-1  Starting                     0.6s\n",
            "\u001b[0m\u001b[?25h\u001b[1A\u001b[1A\u001b[1A\u001b[1A\u001b[0G\u001b[?25l\u001b[34m[+] Running 3/3\u001b[0m\n",
            "\u001b[34m ⠿ Network dockercomposefiles_default         Created                      0.1s\n",
            "\u001b[0m\u001b[34m ⠿ Container dockercomposefiles-container2-1  Started                      0.5s\n",
            "\u001b[0m\u001b[34m ⠿ Container dockercomposefiles-container1-1  Started                      0.7s\n",
            "\u001b[0m\u001b[?25h"
          ]
        }
      ],
      "source": [
        "!cd dockerComposeFiles && docker compose up -d"
      ]
    },
    {
      "cell_type": "markdown",
      "metadata": {},
      "source": [
        "Se podemos observar, ele criou dois contentores `dockercomposefiles-container1-1` e `dockercomposefiles-container2-1` e a rede que os conecta `dockercomposefiles_default`"
      ]
    },
    {
      "cell_type": "markdown",
      "metadata": {},
      "source": [
        "Vamos a apagar os dois contêineres"
      ]
    },
    {
      "cell_type": "code",
      "execution_count": 34,
      "metadata": {},
      "outputs": [
        {
          "name": "stdout",
          "output_type": "stream",
          "text": [
            "dockercomposefiles-container1-1\n",
            "dockercomposefiles-container2-1\n"
          ]
        }
      ],
      "source": [
        "!docker rm -f dockercomposefiles-container1-1 dockercomposefiles-container2-1"
      ]
    },
    {
      "cell_type": "markdown",
      "metadata": {},
      "source": [
        "E apagamos a rede que foi criada"
      ]
    },
    {
      "cell_type": "code",
      "execution_count": 35,
      "metadata": {},
      "outputs": [
        {
          "name": "stdout",
          "output_type": "stream",
          "text": [
            "dockercomposefiles_default\n"
          ]
        }
      ],
      "source": [
        "!docker network rm dockercomposefiles_default"
      ]
    },
    {
      "cell_type": "markdown",
      "metadata": {},
      "source": [
        "Vamos tentar fazer o que fizemos anteriormente com o que sabemos até agora. Vamos criar uma nova imagem que venha com `ping` instalado.\n",
        "\n",
        "*Arquivo Dockerfile*:\n",
        "```docker\n",
        "FROM ubuntu:20.04\n",
        "RUN apt update\n",
        "RUN apt install iputils-ping -y\n",
        "```\n",
        "\n",
        "E a compilamos"
      ]
    },
    {
      "cell_type": "code",
      "execution_count": 2,
      "metadata": {},
      "outputs": [
        {
          "name": "stdout",
          "output_type": "stream",
          "text": [
            "Sending build context to Docker daemon  2.048kB\n",
            "Step 1/3 : FROM ubuntu:20.04\n",
            " ---> a0ce5a295b63\n",
            "Step 2/3 : RUN apt update\n",
            " ---> Running in 3bd5278d39b4\n",
            "\u001b[91m\n",
            "WARNING: apt does not have a stable CLI interface. Use with caution in scripts.\n",
            "\n",
            "\u001b[0mGet:1 http://security.ubuntu.com/ubuntu focal-security InRelease [114 kB]\n",
            "Get:2 http://archive.ubuntu.com/ubuntu focal InRelease [265 kB]\n",
            "Get:3 http://security.ubuntu.com/ubuntu focal-security/universe amd64 Packages [898 kB]\n",
            "Get:4 http://archive.ubuntu.com/ubuntu focal-updates InRelease [114 kB]\n",
            "Get:5 http://archive.ubuntu.com/ubuntu focal-backports InRelease [108 kB]\n",
            "Get:6 http://archive.ubuntu.com/ubuntu focal/universe amd64 Packages [11.3 MB]\n",
            "Get:7 http://security.ubuntu.com/ubuntu focal-security/main amd64 Packages [2133 kB]\n",
            "Get:8 http://security.ubuntu.com/ubuntu focal-security/multiverse amd64 Packages [27.5 kB]\n",
            "Get:9 http://security.ubuntu.com/ubuntu focal-security/restricted amd64 Packages [1501 kB]\n",
            "Get:10 http://archive.ubuntu.com/ubuntu focal/main amd64 Packages [1275 kB]\n",
            "Get:11 http://archive.ubuntu.com/ubuntu focal/restricted amd64 Packages [33.4 kB]\n",
            "Get:12 http://archive.ubuntu.com/ubuntu focal/multiverse amd64 Packages [177 kB]\n",
            "Get:13 http://archive.ubuntu.com/ubuntu focal-updates/main amd64 Packages [2594 kB]\n",
            "Get:14 http://archive.ubuntu.com/ubuntu focal-updates/restricted amd64 Packages [1613 kB]\n",
            "Get:15 http://archive.ubuntu.com/ubuntu focal-updates/multiverse amd64 Packages [30.2 kB]\n",
            "Get:16 http://archive.ubuntu.com/ubuntu focal-updates/universe amd64 Packages [1200 kB]\n",
            "Get:17 http://archive.ubuntu.com/ubuntu focal-backports/universe amd64 Packages [27.4 kB]\n",
            "...\n",
            "Successfully built c3d32aa9de02\n",
            "Successfully tagged ubuntu:ping\n",
            "\n",
            "Use 'docker scan' to run Snyk tests against images to find vulnerabilities and learn how to fix them\n"
          ]
        }
      ],
      "source": [
        "!docker build -t ubuntu:ping ./dockerImages"
      ]
    },
    {
      "cell_type": "markdown",
      "metadata": {},
      "source": [
        "Verificamos que foi criado"
      ]
    },
    {
      "cell_type": "code",
      "execution_count": 3,
      "metadata": {},
      "outputs": [
        {
          "name": "stdout",
          "output_type": "stream",
          "text": [
            "REPOSITORY        TAG       IMAGE ID       CREATED              SIZE\n",
            "ubuntu            ping      c3d32aa9de02   About a minute ago   112MB\n",
            "maximofn/ubuntu   test      a78cf3ea16d8   25 hours ago         77.8MB\n",
            "nginx             latest    2d389e545974   33 hours ago         142MB\n",
            "ubuntu            latest    2dc39ba059dc   12 days ago          77.8MB\n",
            "ubuntu            20.04     a0ce5a295b63   12 days ago          72.8MB\n",
            "hello-world       latest    feb5d9fea6a5   11 months ago        13.3kB\n"
          ]
        }
      ],
      "source": [
        "!docker image ls"
      ]
    },
    {
      "cell_type": "markdown",
      "metadata": {},
      "source": [
        "Mudamos o tag"
      ]
    },
    {
      "cell_type": "code",
      "execution_count": 6,
      "metadata": {},
      "outputs": [],
      "source": [
        "!docker tag ubuntu:ping maximofn/ubuntu:ping"
      ]
    },
    {
      "cell_type": "code",
      "execution_count": 8,
      "metadata": {},
      "outputs": [
        {
          "name": "stdout",
          "output_type": "stream",
          "text": [
            "REPOSITORY        TAG       IMAGE ID       CREATED              SIZE\n",
            "ubuntu            ping      c3d32aa9de02   About a minute ago   112MB\n",
            "maximofn/ubuntu   ping      c3d32aa9de02   About a minute ago   112MB\n",
            "maximofn/ubuntu   test      c3d32aa9de02   About a minute ago   112MB\n",
            "nginx             latest    2d389e545974   33 hours ago         142MB\n",
            "ubuntu            latest    2dc39ba059dc   12 days ago          77.8MB\n",
            "ubuntu            20.04     a0ce5a295b63   12 days ago          72.8MB\n",
            "hello-world       latest    feb5d9fea6a5   11 months ago        13.3kB\n"
          ]
        }
      ],
      "source": [
        "!docker image ls"
      ]
    },
    {
      "cell_type": "markdown",
      "metadata": {},
      "source": [
        "Editamos o arquivo Docker Compose para que utilize as imagens que acabamos de criar\n",
        "\n",
        "*docker-compose.yml*:\n",
        "```json\n",
        "versão: \"3.8\"\n",
        "\n",
        "serviços:\n",
        "container1:\n",
        "image: maximofn/ubuntu:ping\n",
        "\n",
        "container2:\n",
        "image: maximofn/ubuntu:ping\n",
        "```\n",
        "\n",
        "E além disso, dizemos para executar uma não operação\n",
        "\n",
        "O `docker-compose.yml` ficaria assim:\n",
        "```json\n",
        "versão: \"3.8\"\n",
        "\n",
        "serviços:\n",
        "container1:\n",
        "imagem: ubuntu\n",
        "command: tail -f /dev/null\n",
        "\n",
        "container2:\n",
        "imagem: ubuntu\n",
        "command: tail -f /dev/null\n",
        "```\n",
        "\n",
        "O levantamos"
      ]
    },
    {
      "cell_type": "code",
      "execution_count": 9,
      "metadata": {},
      "outputs": [
        {
          "name": "stdout",
          "output_type": "stream",
          "text": [
            "\u001b[1A\u001b[1B\u001b[0G\u001b[?25l[+] Running 0/0\n",
            "\u001b[37m ⠋ Container dockercomposefiles-container1-1  Recreate                     0.1s\n",
            "\u001b[0m\u001b[37m ⠋ Container dockercomposefiles-container2-1  Recreate                     0.1s\n",
            "\u001b[0m\u001b[?25h\u001b[1A\u001b[1A\u001b[1A\u001b[0G\u001b[?25l[+] Running 1/2\n",
            "\u001b[34m ⠿ Container dockercomposefiles-container1-1  Recreated                    0.1s\n",
            "\u001b[0m\u001b[37m ⠙ Container dockercomposefiles-container2-1  Recreate                     0.2s\n",
            "\u001b[0m\u001b[?25h\u001b[1A\u001b[1A\u001b[1A\u001b[0G\u001b[?25l[+] Running 1/2\n",
            "\u001b[34m ⠿ Container dockercomposefiles-container1-1  Recreated                    0.1s\n",
            "\u001b[0m\u001b[37m ⠹ Container dockercomposefiles-container2-1  Recreate                     0.3s\n",
            "\u001b[0m\u001b[?25h\u001b[1A\u001b[1A\u001b[1A\u001b[0G\u001b[?25l[+] Running 1/2\n",
            "\u001b[34m ⠿ Container dockercomposefiles-container1-1  Recreated                    0.1s\n",
            "\u001b[0m\u001b[37m ⠸ Container dockercomposefiles-container2-1  Recreate                     0.4s\n",
            "\u001b[0m\u001b[?25h\u001b[1A\u001b[1A\u001b[1A\u001b[0G\u001b[?25l[+] Running 1/2\n",
            "\u001b[34m ⠿ Container dockercomposefiles-container1-1  Recreated                    0.1s\n",
            "\u001b[0m\u001b[37m ⠼ Container dockercomposefiles-container2-1  Recreate                     0.5s\n",
            "\u001b[0m\u001b[?25h\u001b[1A\u001b[1A\u001b[1A\u001b[0G\u001b[?25l[+] Running 1/2\n",
            "\u001b[34m ⠿ Container dockercomposefiles-container1-1  Recreated                    0.1s\n",
            "\u001b[0m\u001b[37m ⠴ Container dockercomposefiles-container2-1  Recreate                     0.6s\n",
            "\u001b[0m\u001b[?25h\u001b[1A\u001b[1A\u001b[1A\u001b[0G\u001b[?25l[+] Running 1/2\n",
            "\u001b[34m ⠿ Container dockercomposefiles-container1-1  Recreated                    0.1s\n",
            "\u001b[0m\u001b[37m ⠦ Container dockercomposefiles-container2-1  Recreate                     0.7s\n",
            "\u001b[0m\u001b[?25h\u001b[1A\u001b[1A\u001b[1A\u001b[0G\u001b[?25l[+] Running 1/2\n",
            "\u001b[34m ⠿ Container dockercomposefiles-container1-1  Recreated                    0.1s\n",
            "\u001b[0m\u001b[37m ⠧ Container dockercomposefiles-container2-1  Recreate                     0.8s\n",
            "\u001b[0m\u001b[?25h\u001b[1A\u001b[1A\u001b[1A\u001b[0G\u001b[?25l[+] Running 1/2\n",
            "\u001b[34m ⠿ Container dockercomposefiles-container1-1  Recreated                    0.1s\n",
            "\u001b[0m\u001b[37m ⠇ Container dockercomposefiles-container2-1  Recreate                     0.9s\n",
            "\u001b[0m\u001b[?25h\u001b[1A\u001b[1A\u001b[1A\u001b[0G\u001b[?25l[+] Running 1/2\n",
            "\u001b[34m ⠿ Container dockercomposefiles-container1-1  Recreated                    0.1s\n",
            "\u001b[0m\u001b[37m ⠏ Container dockercomposefiles-container2-1  Recreate                     1.0s\n",
            "\u001b[0m\u001b[?25h\u001b[1A\u001b[1A\u001b[1A\u001b[0G\u001b[?25l[+] Running 1/2\n",
            "\u001b[34m ⠿ Container dockercomposefiles-container1-1  Recreated                    0.1s\n",
            "\u001b[0m\u001b[37m ⠋ Container dockercomposefiles-container2-1  Recreate                     1.1s\n",
            "\u001b[0m\u001b[?25h\u001b[1A\u001b[1A\u001b[1A\u001b[0G\u001b[?25l[+] Running 1/2\n",
            "\u001b[34m ⠿ Container dockercomposefiles-container1-1  Recreated                    0.1s\n",
            "\u001b[0m\u001b[37m ⠙ Container dockercomposefiles-container2-1  Recreate                     1.2s\n",
            "\u001b[0m\u001b[?25h\u001b[1A\u001b[1A\u001b[1A\u001b[0G\u001b[?25l[+] Running 1/2\n",
            "\u001b[34m ⠿ Container dockercomposefiles-container1-1  Recreated                    0.1s\n",
            "\u001b[0m\u001b[37m ⠹ Container dockercomposefiles-container2-1  Recreate                     1.3s\n",
            "\u001b[0m\u001b[?25h\u001b[1A\u001b[1A\u001b[1A\u001b[0G\u001b[?25l[+] Running 1/2\n",
            "\u001b[34m ⠿ Container dockercomposefiles-container1-1  Recreated                    0.1s\n",
            "\u001b[0m\u001b[37m ⠸ Container dockercomposefiles-container2-1  Recreate                     1.4s\n",
            "\u001b[0m\u001b[?25h\u001b[1A\u001b[1A\u001b[1A\u001b[0G\u001b[?25l[+] Running 1/2\n",
            "\u001b[34m ⠿ Container dockercomposefiles-container1-1  Recreated                    0.1s\n",
            "...\n",
            "\u001b[0m\u001b[?25h\u001b[1A\u001b[1A\u001b[1A\u001b[0G\u001b[?25l\u001b[34m[+] Running 2/2\u001b[0m\n",
            "\u001b[34m ⠿ Container dockercomposefiles-container1-1  Started                     10.8s\n",
            "\u001b[0m\u001b[34m ⠿ Container dockercomposefiles-container2-1  Started                     10.9s\n",
            "\u001b[0m\u001b[?25h\u001b[1A\u001b[1A\u001b[1A\u001b[0G\u001b[?25l\u001b[34m[+] Running 2/2\u001b[0m\n",
            "\u001b[34m ⠿ Container dockercomposefiles-container1-1  Started                     10.8s\n",
            "\u001b[0m\u001b[34m ⠿ Container dockercomposefiles-container2-1  Started                     10.9s\n",
            "\u001b[0m\u001b[?25h"
          ]
        }
      ],
      "source": [
        "!cd dockerComposeFiles && docker compose up -d"
      ]
    },
    {
      "cell_type": "markdown",
      "metadata": {},
      "source": [
        "Vemos os contêineres que estão rodando"
      ]
    },
    {
      "cell_type": "code",
      "execution_count": 10,
      "metadata": {},
      "outputs": [
        {
          "name": "stdout",
          "output_type": "stream",
          "text": [
            "CONTAINER ID   IMAGE                  COMMAND               CREATED          STATUS          PORTS     NAMES\n",
            "935939e5a75d   maximofn/ubuntu:ping   \"tail -f /dev/null\"   15 seconds ago   Up 13 seconds             dockercomposefiles-container2-1\n",
            "f9138d7064dd   maximofn/ubuntu:ping   \"tail -f /dev/null\"   25 seconds ago   Up 13 seconds             dockercomposefiles-container1-1\n"
          ]
        }
      ],
      "source": [
        "!docker ps"
      ]
    },
    {
      "cell_type": "markdown",
      "metadata": {},
      "source": [
        "Os dois contêineres estão em execução, agora vamos entrar em um deles e tentar fazer `ping` no outro.\n",
        "\n",
        "```bash\n",
        "$ docker exec -it dockercomposefiles-container1-1 bash\n",
        "root@f9138d7064dd:/# ping dockercomposefiles-container2-1\n",
        "PING dockercomposefiles-container2-1 (172.21.0.3) 56(84) bytes de dados.\n",
        "64 bytes de dockercomposefiles-container2-1.dockercomposefiles_default (172.21.0.3): icmp_seq=1 ttl=64 tempo=0,110 ms\n",
        "64 bytes de dockercomposefiles-container2-1.dockercomposefiles_default (172.21.0.3): icmp_seq=2 ttl=64 time=0.049 ms\n",
        "64 bytes de dockercomposefiles-container2-1.dockercomposefiles_default (172.21.0.3): icmp_seq=3 ttl=64 time=0.049 ms\n",
        "64 bytes de dockercomposefiles-container2-1.dockercomposefiles_default (172.21.0.3): icmp_seq=4 ttl=64 tempo=0,075 ms\n",
        "^C\n",
        "--- estatísticas do ping do container2-1 do dockercomposefiles ---\n",
        "4 pacotes transmitidos, 4 recebidos, 0% de perda de pacotes, tempo 3068ms\n",
        "rtt min/avg/max/mdev = 0,049/0,070/0,110/0,025 ms\n",
        "```\n",
        "\n",
        "Como vemos, podemos fazer `ping`, criamos a imagem com `ping` instalado. Além disso, no docker-compose fizemos com que seja executada uma operação nula para que os contêineres continuem em execução."
      ]
    },
    {
      "cell_type": "markdown",
      "metadata": {},
      "source": [
        "Apagamos os dois contêineres e a rede que criamos"
      ]
    },
    {
      "cell_type": "code",
      "execution_count": 11,
      "metadata": {},
      "outputs": [
        {
          "name": "stdout",
          "output_type": "stream",
          "text": [
            "dockercomposefiles-container1-1\n",
            "dockercomposefiles-container2-1\n"
          ]
        }
      ],
      "source": [
        "!docker rm -f dockercomposefiles-container1-1 dockercomposefiles-container2-1"
      ]
    },
    {
      "cell_type": "code",
      "execution_count": 12,
      "metadata": {},
      "outputs": [
        {
          "name": "stdout",
          "output_type": "stream",
          "text": [
            "dockercomposefiles_default\n"
          ]
        }
      ],
      "source": [
        "!docker network rm dockercomposefiles_default"
      ]
    },
    {
      "cell_type": "markdown",
      "metadata": {},
      "source": [
        "### Como o Docker Compose nomeia os contêineres"
      ]
    },
    {
      "cell_type": "markdown",
      "metadata": {},
      "source": [
        "Se nós observarmos, os contêineres criados pelo Docker se chamam `dockercomposefiles-container1-1` e `dockercomposefiles-container2-1`. Isso ocorre porque a pasta em que está o arquivo do Docker Compose está dentro de uma pasta chamada `dockerComposeFiles`, por isso a primeira parte do nome dos contêineres é `dockercomposefiles`, seguida pelo nome do serviço que demos no arquivo do Docker Compose (`container1` e `container2`) e, por fim, um número para poder criar mais se necessário.\n",
        "\n",
        "O mesmo ocorre com o nome da rede que foi criada `dockercomposefiles_default`"
      ]
    },
    {
      "cell_type": "markdown",
      "metadata": {},
      "source": [
        "### Logs no docker compose"
      ]
    },
    {
      "cell_type": "markdown",
      "metadata": {},
      "source": [
        "Vamos agora a mudar o arquivo Docker Compose, nas linhas em que tínhamos `command: tail -f /dev/null`, vamos colocar `command: ping 0.0.0.0`\n",
        "\n",
        "E além disso, dizemos para ele executar uma não operação.\n",
        "\n",
        "O `docker-compose.yml` ficaria assim:\n",
        "```json\n",
        "versão: \"3.8\"\n",
        "\n",
        "serviços:\n",
        "container1:\n",
        "imagem: ubuntu\n",
        "comando: ping 0.0.0.0\n",
        "\n",
        "container2:\n",
        "imagem: ubuntu\n",
        "comando: ping 0.0.0.0\n",
        "```\n",
        "\n",
        "Isso fazemos para que cada contêiner esteja enviando o ping constantemente, assim simulamos alguns logs\n",
        "\n",
        "Se executarmos novamente o docker compose"
      ]
    },
    {
      "cell_type": "code",
      "execution_count": 1,
      "metadata": {},
      "outputs": [
        {
          "name": "stdout",
          "output_type": "stream",
          "text": [
            "\u001b[1A\u001b[1B\u001b[0G\u001b[?25l[+] Running 0/0\n",
            "\u001b[37m ⠋ Container dockercomposefiles-container1-1  Recreate                     0.1s\n",
            "\u001b[0m\u001b[37m ⠋ Container dockercomposefiles-container2-1  Recreate                     0.1s\n",
            "\u001b[0m\u001b[?25h\u001b[1A\u001b[1A\u001b[1A\u001b[0G\u001b[?25l[+] Running 0/2\n",
            "\u001b[37m ⠙ Container dockercomposefiles-container1-1  Recreate                     0.2s\n",
            "\u001b[0m\u001b[37m ⠙ Container dockercomposefiles-container2-1  Recreate                     0.2s\n",
            "\u001b[0m\u001b[?25h\u001b[1A\u001b[1A\u001b[1A\u001b[0G\u001b[?25l[+] Running 0/2\n",
            "\u001b[37m ⠹ Container dockercomposefiles-container1-1  Recreate                     0.3s\n",
            "\u001b[0m\u001b[37m ⠹ Container dockercomposefiles-container2-1  Recreate                     0.3s\n",
            "\u001b[0m\u001b[?25h\u001b[1A\u001b[1A\u001b[1A\u001b[0G\u001b[?25l[+] Running 0/2\n",
            "\u001b[37m ⠸ Container dockercomposefiles-container1-1  Recreate                     0.4s\n",
            "\u001b[0m\u001b[37m ⠸ Container dockercomposefiles-container2-1  Recreate                     0.4s\n",
            "\u001b[0m\u001b[?25h\u001b[1A\u001b[1A\u001b[1A\u001b[0G\u001b[?25l[+] Running 0/2\n",
            "\u001b[37m ⠼ Container dockercomposefiles-container1-1  Recreate                     0.5s\n",
            "\u001b[0m\u001b[37m ⠼ Container dockercomposefiles-container2-1  Recreate                     0.5s\n",
            "\u001b[0m\u001b[?25h\u001b[1A\u001b[1A\u001b[1A\u001b[0G\u001b[?25l[+] Running 0/2\n",
            "\u001b[37m ⠴ Container dockercomposefiles-container1-1  Recreate                     0.6s\n",
            "\u001b[0m\u001b[37m ⠴ Container dockercomposefiles-container2-1  Recreate                     0.6s\n",
            "\u001b[0m\u001b[?25h\u001b[1A\u001b[1A\u001b[1A\u001b[0G\u001b[?25l[+] Running 0/2\n",
            "\u001b[37m ⠦ Container dockercomposefiles-container1-1  Recreate                     0.7s\n",
            "\u001b[0m\u001b[37m ⠦ Container dockercomposefiles-container2-1  Recreate                     0.7s\n",
            "\u001b[0m\u001b[?25h\u001b[1A\u001b[1A\u001b[1A\u001b[0G\u001b[?25l[+] Running 0/2\n",
            "\u001b[37m ⠧ Container dockercomposefiles-container1-1  Recreate                     0.8s\n",
            "\u001b[0m\u001b[37m ⠧ Container dockercomposefiles-container2-1  Recreate                     0.8s\n",
            "\u001b[0m\u001b[?25h\u001b[1A\u001b[1A\u001b[1A\u001b[0G\u001b[?25l[+] Running 0/2\n",
            "...\n",
            "\u001b[37m ⠿ Container dockercomposefiles-container1-1  Starting                    11.0s\n",
            "\u001b[0m\u001b[34m ⠿ Container dockercomposefiles-container2-1  Started                     11.0s\n",
            "\u001b[0m\u001b[?25h\u001b[1A\u001b[1A\u001b[1A\u001b[0G\u001b[?25l\u001b[34m[+] Running 2/2\u001b[0m\n",
            "\u001b[34m ⠿ Container dockercomposefiles-container1-1  Started                     11.1s\n",
            "\u001b[0m\u001b[34m ⠿ Container dockercomposefiles-container2-1  Started                     11.0s\n",
            "\u001b[0m\u001b[?25h"
          ]
        }
      ],
      "source": [
        "!cd dockerComposeFiles && docker compose up -d"
      ]
    },
    {
      "cell_type": "markdown",
      "metadata": {},
      "source": [
        "Agora podemos ver os logs dos dois contêineres através do comando `docker compose logs`"
      ]
    },
    {
      "cell_type": "code",
      "execution_count": 3,
      "metadata": {},
      "outputs": [
        {
          "name": "stdout",
          "output_type": "stream",
          "text": [
            "\u001b[36mdockercomposefiles-container2-1  | \u001b[0mPING 0.0.0.0 (127.0.0.1) 56(84) bytes of data.\n",
            "\u001b[36mdockercomposefiles-container2-1  | \u001b[0m64 bytes from 127.0.0.1: icmp_seq=1 ttl=64 time=0.042 ms\n",
            "\u001b[36mdockercomposefiles-container2-1  | \u001b[0m64 bytes from 127.0.0.1: icmp_seq=2 ttl=64 time=0.025 ms\n",
            "\u001b[36mdockercomposefiles-container2-1  | \u001b[0m64 bytes from 127.0.0.1: icmp_seq=3 ttl=64 time=0.022 ms\n",
            "\u001b[36mdockercomposefiles-container2-1  | \u001b[0m64 bytes from 127.0.0.1: icmp_seq=4 ttl=64 time=0.030 ms\n",
            "\u001b[36mdockercomposefiles-container2-1  | \u001b[0m64 bytes from 127.0.0.1: icmp_seq=5 ttl=64 time=0.021 ms\n",
            "\u001b[36mdockercomposefiles-container2-1  | \u001b[0m64 bytes from 127.0.0.1: icmp_seq=6 ttl=64 time=0.021 ms\n",
            "\u001b[36mdockercomposefiles-container2-1  | \u001b[0m64 bytes from 127.0.0.1: icmp_seq=7 ttl=64 time=0.030 ms\n",
            "\u001b[36mdockercomposefiles-container2-1  | \u001b[0m64 bytes from 127.0.0.1: icmp_seq=8 ttl=64 time=0.028 ms\n",
            "\u001b[36mdockercomposefiles-container2-1  | \u001b[0m64 bytes from 127.0.0.1: icmp_seq=9 ttl=64 time=0.028 ms\n",
            "\u001b[36mdockercomposefiles-container2-1  | \u001b[0m64 bytes from 127.0.0.1: icmp_seq=10 ttl=64 time=0.026 ms\n",
            "\u001b[36mdockercomposefiles-container2-1  | \u001b[0m64 bytes from 127.0.0.1: icmp_seq=11 ttl=64 time=0.028 ms\n",
            "\u001b[33mdockercomposefiles-container1-1  | \u001b[0mPING 0.0.0.0 (127.0.0.1) 56(84) bytes of data.\n",
            "\u001b[36mdockercomposefiles-container2-1  | \u001b[0m64 bytes from 127.0.0.1: icmp_seq=12 ttl=64 time=0.027 ms\n",
            "\u001b[36mdockercomposefiles-container2-1  | \u001b[0m64 bytes from 127.0.0.1: icmp_seq=13 ttl=64 time=0.039 ms\n",
            "\u001b[36mdockercomposefiles-container2-1  | \u001b[0m64 bytes from 127.0.0.1: icmp_seq=14 ttl=64 time=0.035 ms\n",
            "\u001b[36mdockercomposefiles-container2-1  | \u001b[0m64 bytes from 127.0.0.1: icmp_seq=15 ttl=64 time=0.034 ms\n",
            "\u001b[36mdockercomposefiles-container2-1  | \u001b[0m64 bytes from 127.0.0.1: icmp_seq=16 ttl=64 time=0.036 ms\n",
            "\u001b[36mdockercomposefiles-container2-1  | \u001b[0m64 bytes from 127.0.0.1: icmp_seq=17 ttl=64 time=0.034 ms\n",
            "\u001b[36mdockercomposefiles-container2-1  | \u001b[0m64 bytes from 127.0.0.1: icmp_seq=18 ttl=64 time=0.036 ms\n",
            "\u001b[36mdockercomposefiles-container2-1  | \u001b[0m64 bytes from 127.0.0.1: icmp_seq=19 ttl=64 time=0.032 ms\n",
            "\u001b[36mdockercomposefiles-container2-1  | \u001b[0m64 bytes from 127.0.0.1: icmp_seq=20 ttl=64 time=0.032 ms\n",
            "\u001b[36mdockercomposefiles-container2-1  | \u001b[0m64 bytes from 127.0.0.1: icmp_seq=21 ttl=64 time=0.033 ms\n",
            "\u001b[36mdockercomposefiles-container2-1  | \u001b[0m64 bytes from 127.0.0.1: icmp_seq=22 ttl=64 time=0.034 ms\n",
            "\u001b[33mdockercomposefiles-container1-1  | \u001b[0m64 bytes from 127.0.0.1: icmp_seq=1 ttl=64 time=0.037 ms\n",
            "...\n",
            "\u001b[33mdockercomposefiles-container1-1  | \u001b[0m64 bytes from 127.0.0.1: icmp_seq=214 ttl=64 time=0.015 ms\n",
            "\u001b[33mdockercomposefiles-container1-1  | \u001b[0m64 bytes from 127.0.0.1: icmp_seq=215 ttl=64 time=0.021 ms\n",
            "\u001b[33mdockercomposefiles-container1-1  | \u001b[0m64 bytes from 127.0.0.1: icmp_seq=216 ttl=64 time=0.020 ms\n",
            "\u001b[33mdockercomposefiles-container1-1  | \u001b[0m64 bytes from 127.0.0.1: icmp_seq=217 ttl=64 time=0.049 ms\n"
          ]
        }
      ],
      "source": [
        "!cd dockerComposeFiles && docker compose logs"
      ]
    },
    {
      "cell_type": "markdown",
      "metadata": {},
      "source": [
        "Como vemos, podemos ver os logs dos dois contêineres, mas no caso de querer ver apenas os de um, podemos especificar o **nome do serviço**"
      ]
    },
    {
      "cell_type": "code",
      "execution_count": 5,
      "metadata": {},
      "outputs": [
        {
          "name": "stdout",
          "output_type": "stream",
          "text": [
            "\u001b[36mdockercomposefiles-container1-1  | \u001b[0mPING 0.0.0.0 (127.0.0.1) 56(84) bytes of data.\n",
            "\u001b[36mdockercomposefiles-container1-1  | \u001b[0m64 bytes from 127.0.0.1: icmp_seq=1 ttl=64 time=0.037 ms\n",
            "\u001b[36mdockercomposefiles-container1-1  | \u001b[0m64 bytes from 127.0.0.1: icmp_seq=2 ttl=64 time=0.025 ms\n",
            "\u001b[36mdockercomposefiles-container1-1  | \u001b[0m64 bytes from 127.0.0.1: icmp_seq=3 ttl=64 time=0.023 ms\n",
            "\u001b[36mdockercomposefiles-container1-1  | \u001b[0m64 bytes from 127.0.0.1: icmp_seq=4 ttl=64 time=0.031 ms\n",
            "\u001b[36mdockercomposefiles-container1-1  | \u001b[0m64 bytes from 127.0.0.1: icmp_seq=5 ttl=64 time=0.034 ms\n",
            "\u001b[36mdockercomposefiles-container1-1  | \u001b[0m64 bytes from 127.0.0.1: icmp_seq=6 ttl=64 time=0.033 ms\n",
            "\u001b[36mdockercomposefiles-container1-1  | \u001b[0m64 bytes from 127.0.0.1: icmp_seq=7 ttl=64 time=0.034 ms\n",
            "\u001b[36mdockercomposefiles-container1-1  | \u001b[0m64 bytes from 127.0.0.1: icmp_seq=8 ttl=64 time=0.022 ms\n",
            "\u001b[36mdockercomposefiles-container1-1  | \u001b[0m64 bytes from 127.0.0.1: icmp_seq=9 ttl=64 time=0.032 ms\n",
            "\u001b[36mdockercomposefiles-container1-1  | \u001b[0m64 bytes from 127.0.0.1: icmp_seq=10 ttl=64 time=0.029 ms\n",
            "\u001b[36mdockercomposefiles-container1-1  | \u001b[0m64 bytes from 127.0.0.1: icmp_seq=11 ttl=64 time=0.031 ms\n",
            "\u001b[36mdockercomposefiles-container1-1  | \u001b[0m64 bytes from 127.0.0.1: icmp_seq=12 ttl=64 time=0.024 ms\n",
            "\u001b[36mdockercomposefiles-container1-1  | \u001b[0m64 bytes from 127.0.0.1: icmp_seq=13 ttl=64 time=0.029 ms\n",
            "\u001b[36mdockercomposefiles-container1-1  | \u001b[0m64 bytes from 127.0.0.1: icmp_seq=14 ttl=64 time=0.032 ms\n",
            "\u001b[36mdockercomposefiles-container1-1  | \u001b[0m64 bytes from 127.0.0.1: icmp_seq=15 ttl=64 time=0.033 ms\n",
            "\u001b[36mdockercomposefiles-container1-1  | \u001b[0m64 bytes from 127.0.0.1: icmp_seq=16 ttl=64 time=0.034 ms\n",
            "\u001b[36mdockercomposefiles-container1-1  | \u001b[0m64 bytes from 127.0.0.1: icmp_seq=17 ttl=64 time=0.028 ms\n",
            "\u001b[36mdockercomposefiles-container1-1  | \u001b[0m64 bytes from 127.0.0.1: icmp_seq=18 ttl=64 time=0.034 ms\n",
            "...\n",
            "\u001b[36mdockercomposefiles-container1-1  | \u001b[0m64 bytes from 127.0.0.1: icmp_seq=332 ttl=64 time=0.027 ms\n",
            "\u001b[36mdockercomposefiles-container1-1  | \u001b[0m64 bytes from 127.0.0.1: icmp_seq=333 ttl=64 time=0.030 ms\n",
            "\u001b[36mdockercomposefiles-container1-1  | \u001b[0m64 bytes from 127.0.0.1: icmp_seq=334 ttl=64 time=0.033 ms\n",
            "\u001b[36mdockercomposefiles-container1-1  | \u001b[0m64 bytes from 127.0.0.1: icmp_seq=335 ttl=64 time=0.036 ms\n"
          ]
        }
      ],
      "source": [
        "!cd dockerComposeFiles && docker compose logs container1"
      ]
    },
    {
      "cell_type": "code",
      "execution_count": 6,
      "metadata": {},
      "outputs": [
        {
          "name": "stdout",
          "output_type": "stream",
          "text": [
            "\u001b[36mdockercomposefiles-container2-1  | \u001b[0mPING 0.0.0.0 (127.0.0.1) 56(84) bytes of data.\n",
            "\u001b[36mdockercomposefiles-container2-1  | \u001b[0m64 bytes from 127.0.0.1: icmp_seq=1 ttl=64 time=0.042 ms\n",
            "\u001b[36mdockercomposefiles-container2-1  | \u001b[0m64 bytes from 127.0.0.1: icmp_seq=2 ttl=64 time=0.025 ms\n",
            "\u001b[36mdockercomposefiles-container2-1  | \u001b[0m64 bytes from 127.0.0.1: icmp_seq=3 ttl=64 time=0.022 ms\n",
            "\u001b[36mdockercomposefiles-container2-1  | \u001b[0m64 bytes from 127.0.0.1: icmp_seq=4 ttl=64 time=0.030 ms\n",
            "\u001b[36mdockercomposefiles-container2-1  | \u001b[0m64 bytes from 127.0.0.1: icmp_seq=5 ttl=64 time=0.021 ms\n",
            "\u001b[36mdockercomposefiles-container2-1  | \u001b[0m64 bytes from 127.0.0.1: icmp_seq=6 ttl=64 time=0.021 ms\n",
            "\u001b[36mdockercomposefiles-container2-1  | \u001b[0m64 bytes from 127.0.0.1: icmp_seq=7 ttl=64 time=0.030 ms\n",
            "\u001b[36mdockercomposefiles-container2-1  | \u001b[0m64 bytes from 127.0.0.1: icmp_seq=8 ttl=64 time=0.028 ms\n",
            "\u001b[36mdockercomposefiles-container2-1  | \u001b[0m64 bytes from 127.0.0.1: icmp_seq=9 ttl=64 time=0.028 ms\n",
            "\u001b[36mdockercomposefiles-container2-1  | \u001b[0m64 bytes from 127.0.0.1: icmp_seq=10 ttl=64 time=0.026 ms\n",
            "\u001b[36mdockercomposefiles-container2-1  | \u001b[0m64 bytes from 127.0.0.1: icmp_seq=11 ttl=64 time=0.028 ms\n",
            "\u001b[36mdockercomposefiles-container2-1  | \u001b[0m64 bytes from 127.0.0.1: icmp_seq=12 ttl=64 time=0.027 ms\n",
            "\u001b[36mdockercomposefiles-container2-1  | \u001b[0m64 bytes from 127.0.0.1: icmp_seq=13 ttl=64 time=0.039 ms\n",
            "\u001b[36mdockercomposefiles-container2-1  | \u001b[0m64 bytes from 127.0.0.1: icmp_seq=14 ttl=64 time=0.035 ms\n",
            "\u001b[36mdockercomposefiles-container2-1  | \u001b[0m64 bytes from 127.0.0.1: icmp_seq=15 ttl=64 time=0.034 ms\n",
            "\u001b[36mdockercomposefiles-container2-1  | \u001b[0m64 bytes from 127.0.0.1: icmp_seq=16 ttl=64 time=0.036 ms\n",
            "\u001b[36mdockercomposefiles-container2-1  | \u001b[0m64 bytes from 127.0.0.1: icmp_seq=17 ttl=64 time=0.034 ms\n",
            "\u001b[36mdockercomposefiles-container2-1  | \u001b[0m64 bytes from 127.0.0.1: icmp_seq=18 ttl=64 time=0.036 ms\n",
            "\u001b[36mdockercomposefiles-container2-1  | \u001b[0m64 bytes from 127.0.0.1: icmp_seq=19 ttl=64 time=0.032 ms\n",
            "\u001b[36mdockercomposefiles-container2-1  | \u001b[0m64 bytes from 127.0.0.1: icmp_seq=20 ttl=64 time=0.032 ms\n",
            "\u001b[36mdockercomposefiles-container2-1  | \u001b[0m64 bytes from 127.0.0.1: icmp_seq=21 ttl=64 time=0.033 ms\n",
            "\u001b[36mdockercomposefiles-container2-1  | \u001b[0m64 bytes from 127.0.0.1: icmp_seq=22 ttl=64 time=0.034 ms\n",
            "\u001b[36mdockercomposefiles-container2-1  | \u001b[0m64 bytes from 127.0.0.1: icmp_seq=23 ttl=64 time=0.035 ms\n",
            "\u001b[36mdockercomposefiles-container2-1  | \u001b[0m64 bytes from 127.0.0.1: icmp_seq=24 ttl=64 time=0.037 ms\n",
            "...\n",
            "\u001b[36mdockercomposefiles-container2-1  | \u001b[0m64 bytes from 127.0.0.1: icmp_seq=340 ttl=64 time=0.034 ms\n",
            "\u001b[36mdockercomposefiles-container2-1  | \u001b[0m64 bytes from 127.0.0.1: icmp_seq=341 ttl=64 time=0.033 ms\n",
            "\u001b[36mdockercomposefiles-container2-1  | \u001b[0m64 bytes from 127.0.0.1: icmp_seq=342 ttl=64 time=0.034 ms\n",
            "\u001b[36mdockercomposefiles-container2-1  | \u001b[0m64 bytes from 127.0.0.1: icmp_seq=343 ttl=64 time=0.036 ms\n"
          ]
        }
      ],
      "source": [
        "!cd dockerComposeFiles && docker compose logs container2"
      ]
    },
    {
      "cell_type": "markdown",
      "metadata": {},
      "source": [
        "Se quisermos ver os logs continuamente, podemos adicionar a opção `-f`: `docker compose logs -f <service name>`"
      ]
    },
    {
      "cell_type": "markdown",
      "metadata": {},
      "source": [
        "Se eu criei um docker compose com mais de dois serviços, quando se quiser ver os logs de vários serviços basta adicionar mais nomes ao comando, `docker compose logs <nome serviço 1> <nome serviço 2> ...`"
      ]
    },
    {
      "cell_type": "markdown",
      "metadata": {},
      "source": [
        "### Exec serviços"
      ]
    },
    {
      "cell_type": "markdown",
      "metadata": {},
      "source": [
        "Como vimos, através do comando `exec` podemos entrar em um contêiner indicando o nome do contêiner, o comando que se deseja executar e a opção `-it`. Com Docker Compose isso é mais simples, pois apenas é necessário o nome do serviço e o comando, mas não é necessária a opção `-it`, já que o Docker Compose assume essa opção por padrão.\n",
        "\n",
        "```bash\n",
        "$ docker compose exec container1 bash\n",
        "root@a7cf282fe66c:/#\n",
        "```"
      ]
    },
    {
      "cell_type": "markdown",
      "metadata": {},
      "source": [
        "### Parando docker compose"
      ]
    },
    {
      "cell_type": "markdown",
      "metadata": {},
      "source": [
        "Quando terminamos de trabalhar, com um único comando (`stop`), o Docker Compose para tudo, não é necessário parar um a um cada contêiner."
      ]
    },
    {
      "cell_type": "code",
      "execution_count": 7,
      "metadata": {},
      "outputs": [
        {
          "name": "stdout",
          "output_type": "stream",
          "text": [
            "\u001b[1A\u001b[1B\u001b[0G\u001b[?25l[+] Running 0/0\n",
            "\u001b[37m ⠋ Container dockercomposefiles-container2-1  Stopping                     0.1s\n",
            "\u001b[0m\u001b[37m ⠋ Container dockercomposefiles-container1-1  Stopping                     0.1s\n",
            "\u001b[0m\u001b[?25h\u001b[1A\u001b[1A\u001b[1A\u001b[0G\u001b[?25l[+] Running 0/2\n",
            "\u001b[37m ⠙ Container dockercomposefiles-container2-1  Stopping                     0.2s\n",
            "\u001b[0m\u001b[37m ⠙ Container dockercomposefiles-container1-1  Stopping                     0.2s\n",
            "\u001b[0m\u001b[?25h\u001b[1A\u001b[1A\u001b[1A\u001b[0G\u001b[?25l[+] Running 0/2\n",
            "\u001b[37m ⠹ Container dockercomposefiles-container2-1  Stopping                     0.3s\n",
            "\u001b[0m\u001b[37m ⠹ Container dockercomposefiles-container1-1  Stopping                     0.3s\n",
            "\u001b[0m\u001b[?25h\u001b[1A\u001b[1A\u001b[1A\u001b[0G\u001b[?25l[+] Running 0/2\n",
            "\u001b[37m ⠸ Container dockercomposefiles-container2-1  Stopping                     0.4s\n",
            "\u001b[0m\u001b[37m ⠸ Container dockercomposefiles-container1-1  Stopping                     0.4s\n",
            "\u001b[0m\u001b[?25h\u001b[1A\u001b[1A\u001b[1A\u001b[0G\u001b[?25l[+] Running 0/2\n",
            "\u001b[37m ⠼ Container dockercomposefiles-container2-1  Stopping                     0.5s\n",
            "\u001b[0m\u001b[37m ⠼ Container dockercomposefiles-container1-1  Stopping                     0.5s\n",
            "\u001b[0m\u001b[?25h\u001b[1A\u001b[1A\u001b[1A\u001b[0G\u001b[?25l[+] Running 0/2\n",
            "\u001b[37m ⠴ Container dockercomposefiles-container2-1  Stopping                     0.6s\n",
            "\u001b[0m\u001b[37m ⠴ Container dockercomposefiles-container1-1  Stopping                     0.6s\n",
            "\u001b[0m\u001b[?25h\u001b[1A\u001b[1A\u001b[1A\u001b[0G\u001b[?25l[+] Running 0/2\n",
            "\u001b[37m ⠦ Container dockercomposefiles-container2-1  Stopping                     0.7s\n",
            "\u001b[0m\u001b[37m ⠦ Container dockercomposefiles-container1-1  Stopping                     0.7s\n",
            "\u001b[0m\u001b[?25h\u001b[1A\u001b[1A\u001b[1A\u001b[0G\u001b[?25l[+] Running 0/2\n",
            "\u001b[37m ⠧ Container dockercomposefiles-container2-1  Stopping                     0.8s\n",
            "\u001b[0m\u001b[37m ⠧ Container dockercomposefiles-container1-1  Stopping                     0.8s\n",
            "...\n",
            "\u001b[0m\u001b[?25h\u001b[1A\u001b[1A\u001b[1A\u001b[0G\u001b[?25l[+] Running 1/2\n",
            "\u001b[34m ⠿ Container dockercomposefiles-container2-1  Stopped                     10.4s\n",
            "\u001b[0m\u001b[37m ⠸ Container dockercomposefiles-container1-1  Stopping                    10.4s\n",
            "\u001b[0m\u001b[?25h\u001b[1A\u001b[1A\u001b[1A\u001b[0G\u001b[?25l\u001b[34m[+] Running 2/2\u001b[0m\n",
            "\u001b[34m ⠿ Container dockercomposefiles-container2-1  Stopped                     10.4s\n",
            "\u001b[0m\u001b[34m ⠿ Container dockercomposefiles-container1-1  Stopped                     10.4s\n",
            "\u001b[0m\u001b[?25h"
          ]
        }
      ],
      "source": [
        "!cd dockerComposeFiles && docker compose stop"
      ]
    },
    {
      "cell_type": "markdown",
      "metadata": {},
      "source": [
        "Como se pode ver, o Docker Compose parou os dois contêineres, mas não os excluiu, nem excluiu a rede."
      ]
    },
    {
      "cell_type": "code",
      "execution_count": 8,
      "metadata": {},
      "outputs": [
        {
          "name": "stdout",
          "output_type": "stream",
          "text": [
            "CONTAINER ID   IMAGE     COMMAND   CREATED   STATUS    PORTS     NAMES\n"
          ]
        }
      ],
      "source": [
        "!docker ps"
      ]
    },
    {
      "cell_type": "code",
      "execution_count": 9,
      "metadata": {},
      "outputs": [
        {
          "name": "stdout",
          "output_type": "stream",
          "text": [
            "CONTAINER ID   IMAGE                  COMMAND          CREATED          STATUS                        PORTS     NAMES\n",
            "1e6c1dd9adb2   maximofn/ubuntu:ping   \"ping 0.0.0.0\"   16 minutes ago   Exited (137) 25 seconds ago             dockercomposefiles-container2-1\n",
            "a7cf282fe66c   maximofn/ubuntu:ping   \"ping 0.0.0.0\"   16 minutes ago   Exited (137) 25 seconds ago             dockercomposefiles-container1-1\n"
          ]
        }
      ],
      "source": [
        "!docker ps -a"
      ]
    },
    {
      "cell_type": "code",
      "execution_count": 10,
      "metadata": {},
      "outputs": [
        {
          "name": "stdout",
          "output_type": "stream",
          "text": [
            "NETWORK ID     NAME                         DRIVER    SCOPE\n",
            "13cc632147f3   bridge                       bridge    local\n",
            "d4a2f718cd83   dockercomposefiles_default   bridge    local\n",
            "da1f5f6fccc0   host                         host      local\n",
            "d3b0d93993c0   none                         null      local\n"
          ]
        }
      ],
      "source": [
        "!docker network ls"
      ]
    },
    {
      "cell_type": "markdown",
      "metadata": {},
      "source": [
        "### Docker compose como ferramenta de desenvolvimento"
      ]
    },
    {
      "cell_type": "markdown",
      "metadata": {},
      "source": [
        "Assim como vimos antes, para poder desenvolver, o ideal seria compartilhar a pasta que tem o código com o serviço. Isso com docker compose se faz adicionando a etiqueta `volumes` ao arquivo docker compose. Primeiro temos que adicionar a rota da pasta onde está o código no host e depois a rota no contêiner.\n",
        "\n",
        "*docker-compose.yml*:\n",
        "```json\n",
        "versão: \"3.8\"\n",
        "\n",
        "serviços:\n",
        "container1:\n",
        "image: ubuntu\n",
        "comando: ping 0.0.0.0\n",
        "volumes:\n",
        "- ../dockerHostFolder/:/dockerContainerFolder\n",
        "\n",
        "container2:\n",
        "image: ubuntu\n",
        "comando: ping 0.0.0.0\n",
        "```\n",
        "\n",
        "Como se pode ver, o caminho da pasta do host coloquei relativo\n",
        "\n",
        "Se subirmos o Docker Compose"
      ]
    },
    {
      "cell_type": "code",
      "execution_count": 11,
      "metadata": {},
      "outputs": [
        {
          "name": "stdout",
          "output_type": "stream",
          "text": [
            "\u001b[1A\u001b[1B\u001b[0G\u001b[?25l[+] Running 1/0\n",
            "\u001b[37m ⠋ Container dockercomposefiles-container1-1  Recreate                     0.1s\n",
            "\u001b[0m\u001b[34m ⠿ Container dockercomposefiles-container2-1  Created                      0.0s\n",
            "\u001b[0m\u001b[?25h\u001b[1A\u001b[1A\u001b[1A\u001b[0G\u001b[?25l[+] Running 0/2\n",
            "\u001b[37m ⠿ Container dockercomposefiles-container1-1  Starting                     0.2s\n",
            "\u001b[0m\u001b[37m ⠿ Container dockercomposefiles-container2-1  Starting                     0.2s\n",
            "\u001b[0m\u001b[?25h\u001b[1A\u001b[1A\u001b[1A\u001b[0G\u001b[?25l[+] Running 0/2\n",
            "\u001b[37m ⠿ Container dockercomposefiles-container1-1  Starting                     0.3s\n",
            "\u001b[0m\u001b[37m ⠿ Container dockercomposefiles-container2-1  Starting                     0.3s\n",
            "\u001b[0m\u001b[?25h\u001b[1A\u001b[1A\u001b[1A\u001b[0G\u001b[?25l[+] Running 0/2\n",
            "\u001b[37m ⠿ Container dockercomposefiles-container1-1  Starting                     0.4s\n",
            "\u001b[0m\u001b[37m ⠿ Container dockercomposefiles-container2-1  Starting                     0.4s\n",
            "\u001b[0m\u001b[?25h\u001b[1A\u001b[1A\u001b[1A\u001b[0G\u001b[?25l[+] Running 1/2\n",
            "\u001b[34m ⠿ Container dockercomposefiles-container1-1  Started                      0.5s\n",
            "\u001b[0m\u001b[37m ⠿ Container dockercomposefiles-container2-1  Starting                     0.5s\n",
            "\u001b[0m\u001b[?25h\u001b[1A\u001b[1A\u001b[1A\u001b[0G\u001b[?25l\u001b[34m[+] Running 2/2\u001b[0m\n",
            "\u001b[34m ⠿ Container dockercomposefiles-container1-1  Started                      0.5s\n",
            "\u001b[0m\u001b[34m ⠿ Container dockercomposefiles-container2-1  Started                      0.6s\n",
            "\u001b[0m\u001b[?25h"
          ]
        }
      ],
      "source": [
        "!cd dockerComposeFiles && docker compose up -d"
      ]
    },
    {
      "cell_type": "markdown",
      "metadata": {},
      "source": [
        "Se entrarmos no contêiner, podemos ver o que há dentro do arquivo text.txt\n",
        "\n",
        "```bash\n",
        "$ docker compose exec container1 bash\n",
        "root@c8aae9d619d3:/# ls dockerContainerFolder/\n",
        "bindFile.txt  fileExtract.txt  text.txt\n",
        "root@c8aae9d619d3:/# cat dockerContainerFolder/text.txt\n",
        "olá contêiner\n",
        "```\n",
        "\n",
        "Se agora o abrirmos no host, escrevemos `hola host` e voltamos a ver no contêiner\n",
        "\n",
        "```bash\n",
        "root@c8aae9d619d3:/# cat dockerContainerFolder/text.txt\n",
        "olá host\n",
        "```\n",
        "\n",
        "E agora ao contrário, se o modificarmos no contêiner\n",
        "\n",
        "```bash\n",
        "root@c8aae9d619d3:/# echo olá compose > dockerContainerFolder/text.txt\n",
        "root@c8aae9d619d3:/# exit\n",
        "sair\n",
        "```\n",
        "\n",
        "Se o vemos do host, devemos obter `hola compose`"
      ]
    },
    {
      "cell_type": "code",
      "execution_count": 12,
      "metadata": {},
      "outputs": [
        {
          "name": "stdout",
          "output_type": "stream",
          "text": [
            "hola compose\n"
          ]
        }
      ],
      "source": [
        "!cat dockerHostFolder/text.txt"
      ]
    },
    {
      "cell_type": "markdown",
      "metadata": {},
      "source": [
        "### Exposição de portas no docker compose"
      ]
    },
    {
      "cell_type": "markdown",
      "metadata": {},
      "source": [
        "Também podemos configurar as portas no arquivo do Docker Compose, através da etiqueta `ports`, indicando a porta do host e em seguida o IP do serviço\n",
        "\n",
        "```json\n",
        "portos:\n",
        "- <porta do host>:<porta do serviço>\n",
        "```"
      ]
    },
    {
      "cell_type": "markdown",
      "metadata": {},
      "source": [
        "### Docker compose em equipe - docker override"
      ]
    },
    {
      "cell_type": "markdown",
      "metadata": {},
      "source": [
        "Se formos um grupo de pessoas desenvolvendo com Docker e Docker Compose, é provável que muitas pessoas estejam alterando o arquivo Docker Compose, o que pode fazer com que não se sincronizem bem e haja conflitos.\n",
        "\n",
        "Para resolver isso, o Docker oferece uma ferramenta chamada Docker Override. Dessa forma, pode haver um arquivo Docker Compose base e cada um pode modificá-lo por meio do Docker Override.\n",
        "\n",
        "Para fazer isso, agora temos que criar um arquivo chamado `docker-compose.override.yml` que será o que poderemos editar"
      ]
    },
    {
      "cell_type": "code",
      "execution_count": 13,
      "metadata": {},
      "outputs": [],
      "source": [
        "!touch dockerComposeFiles/docker-compose.override.yml"
      ]
    },
    {
      "cell_type": "markdown",
      "metadata": {},
      "source": [
        "Se agora tentarmos subir o Docker Compose, vamos receber um erro."
      ]
    },
    {
      "cell_type": "code",
      "execution_count": 14,
      "metadata": {},
      "outputs": [
        {
          "name": "stdout",
          "output_type": "stream",
          "text": [
            "Top-level object must be a mapping\n"
          ]
        }
      ],
      "source": [
        "!cd dockerComposeFiles && docker compose up -d"
      ]
    },
    {
      "cell_type": "markdown",
      "metadata": {},
      "source": [
        "E isso porque o Docker Compose detectou que há um arquivo chamado `docker-compose.override.yml` e que está vazio, então vamos editá-lo. O arquivo `docker-compose.override.yml` serve para editar o arquivo `docker-compose.yml`, então, se quisermos fazer uma alteração no serviço `container2` para adicionar um volume, escreveríamos assim o arquivo `docker-compose.override.yml`\n",
        "\n",
        "*docker-compose.override.yml*:\n",
        "```json\n",
        "versão: \"3.8\"\n",
        "\n",
        "serviços:\n",
        "container2:\n",
        "volumes:\n",
        "- ../dockerHostFolder/:/dockerOverrideFolder\n",
        "```\n",
        "\n",
        "Note que a pasta compartida no serviço foi chamada de `dockerOverrideFolder`, então vamos iniciar o docker compose e verificar se vemos essa pasta no contêiner `container2`."
      ]
    },
    {
      "cell_type": "code",
      "execution_count": 15,
      "metadata": {},
      "outputs": [
        {
          "name": "stdout",
          "output_type": "stream",
          "text": [
            "\u001b[1A\u001b[1B\u001b[0G\u001b[?25l[+] Running 1/0\n",
            "\u001b[37m ⠋ Container dockercomposefiles-container2-1  Recreate                     0.1s\n",
            "\u001b[0m\u001b[34m ⠿ Container dockercomposefiles-container1-1  Running                      0.0s\n",
            "\u001b[0m\u001b[?25h\u001b[1A\u001b[1A\u001b[1A\u001b[0G\u001b[?25l[+] Running 1/2\n",
            "\u001b[37m ⠙ Container dockercomposefiles-container2-1  Recreate                     0.2s\n",
            "\u001b[0m\u001b[34m ⠿ Container dockercomposefiles-container1-1  Running                      0.0s\n",
            "\u001b[0m\u001b[?25h\u001b[1A\u001b[1A\u001b[1A\u001b[0G\u001b[?25l[+] Running 1/2\n",
            "\u001b[37m ⠹ Container dockercomposefiles-container2-1  Recreate                     0.3s\n",
            "\u001b[0m\u001b[34m ⠿ Container dockercomposefiles-container1-1  Running                      0.0s\n",
            "\u001b[0m\u001b[?25h\u001b[1A\u001b[1A\u001b[1A\u001b[0G\u001b[?25l[+] Running 1/2\n",
            "\u001b[37m ⠸ Container dockercomposefiles-container2-1  Recreate                     0.4s\n",
            "\u001b[0m\u001b[34m ⠿ Container dockercomposefiles-container1-1  Running                      0.0s\n",
            "\u001b[0m\u001b[?25h\u001b[1A\u001b[1A\u001b[1A\u001b[0G\u001b[?25l[+] Running 1/2\n",
            "\u001b[37m ⠼ Container dockercomposefiles-container2-1  Recreate                     0.5s\n",
            "\u001b[0m\u001b[34m ⠿ Container dockercomposefiles-container1-1  Running                      0.0s\n",
            "\u001b[0m\u001b[?25h\u001b[1A\u001b[1A\u001b[1A\u001b[0G\u001b[?25l[+] Running 1/2\n",
            "\u001b[37m ⠴ Container dockercomposefiles-container2-1  Recreate                     0.6s\n",
            "\u001b[0m\u001b[34m ⠿ Container dockercomposefiles-container1-1  Running                      0.0s\n",
            "\u001b[0m\u001b[?25h\u001b[1A\u001b[1A\u001b[1A\u001b[0G\u001b[?25l[+] Running 1/2\n",
            "\u001b[37m ⠦ Container dockercomposefiles-container2-1  Recreate                     0.7s\n",
            "\u001b[0m\u001b[34m ⠿ Container dockercomposefiles-container1-1  Running                      0.0s\n",
            "\u001b[0m\u001b[?25h\u001b[1A\u001b[1A\u001b[1A\u001b[0G\u001b[?25l[+] Running 1/2\n",
            "\u001b[37m ⠧ Container dockercomposefiles-container2-1  Recreate                     0.8s\n",
            "\u001b[0m\u001b[34m ⠿ Container dockercomposefiles-container1-1  Running                      0.0s\n",
            "...\n",
            "\u001b[0m\u001b[?25h\u001b[1A\u001b[1A\u001b[1A\u001b[0G\u001b[?25l[+] Running 1/2\n",
            "\u001b[37m ⠿ Container dockercomposefiles-container2-1  Starting                    10.8s\n",
            "\u001b[0m\u001b[34m ⠿ Container dockercomposefiles-container1-1  Running                      0.0s\n",
            "\u001b[0m\u001b[?25h\u001b[1A\u001b[1A\u001b[1A\u001b[0G\u001b[?25l\u001b[34m[+] Running 2/2\u001b[0m\n",
            "\u001b[34m ⠿ Container dockercomposefiles-container2-1  Started                     10.8s\n",
            "\u001b[0m\u001b[34m ⠿ Container dockercomposefiles-container1-1  Running                      0.0s\n",
            "\u001b[0m\u001b[?25h"
          ]
        }
      ],
      "source": [
        "!cd dockerComposeFiles && docker compose up -d"
      ]
    },
    {
      "cell_type": "markdown",
      "metadata": {},
      "source": [
        "Vemos que levou 10 segundos para iniciar o serviço `container2`, isso se deve ao fato de estar aplicando as alterações.\n",
        "\n",
        "```bash\n",
        "$ docker compose exec container2 bash\n",
        "root@d8777a4e611a:/# ls dockerOverrideFolder/\n",
        "bindFile.txt  fileExtract.txt  text.txt\n",
        "root@d8777a4e611a:/# cat dockerOverrideFolder/text.txt\n",
        "olá compose\n",
        "root@d8777a4e611a:/# exit\n",
        "saída\n",
        "```"
      ]
    },
    {
      "cell_type": "markdown",
      "metadata": {},
      "source": [
        "Descemos o Compose e apagamos os contêineres e a rede criada"
      ]
    },
    {
      "cell_type": "code",
      "execution_count": 16,
      "metadata": {},
      "outputs": [
        {
          "name": "stdout",
          "output_type": "stream",
          "text": [
            "\u001b[1A\u001b[1B\u001b[0G\u001b[?25l[+] Running 0/0\n",
            "\u001b[37m ⠋ Container dockercomposefiles-container2-1  Stopping                     0.1s\n",
            "\u001b[0m\u001b[37m ⠋ Container dockercomposefiles-container1-1  Stopping                     0.1s\n",
            "\u001b[0m\u001b[?25h\u001b[1A\u001b[1A\u001b[1A\u001b[0G\u001b[?25l[+] Running 0/2\n",
            "\u001b[37m ⠙ Container dockercomposefiles-container2-1  Stopping                     0.2s\n",
            "\u001b[0m\u001b[37m ⠙ Container dockercomposefiles-container1-1  Stopping                     0.2s\n",
            "\u001b[0m\u001b[?25h\u001b[1A\u001b[1A\u001b[1A\u001b[0G\u001b[?25l[+] Running 0/2\n",
            "\u001b[37m ⠹ Container dockercomposefiles-container2-1  Stopping                     0.3s\n",
            "\u001b[0m\u001b[37m ⠹ Container dockercomposefiles-container1-1  Stopping                     0.3s\n",
            "\u001b[0m\u001b[?25h\u001b[1A\u001b[1A\u001b[1A\u001b[0G\u001b[?25l[+] Running 0/2\n",
            "\u001b[37m ⠸ Container dockercomposefiles-container2-1  Stopping                     0.4s\n",
            "\u001b[0m\u001b[37m ⠸ Container dockercomposefiles-container1-1  Stopping                     0.4s\n",
            "\u001b[0m\u001b[?25h\u001b[1A\u001b[1A\u001b[1A\u001b[0G\u001b[?25l[+] Running 0/2\n",
            "\u001b[37m ⠼ Container dockercomposefiles-container2-1  Stopping                     0.5s\n",
            "\u001b[0m\u001b[37m ⠼ Container dockercomposefiles-container1-1  Stopping                     0.5s\n",
            "\u001b[0m\u001b[?25h\u001b[1A\u001b[1A\u001b[1A\u001b[0G\u001b[?25l[+] Running 0/2\n",
            "\u001b[37m ⠴ Container dockercomposefiles-container2-1  Stopping                     0.6s\n",
            "\u001b[0m\u001b[37m ⠴ Container dockercomposefiles-container1-1  Stopping                     0.6s\n",
            "\u001b[0m\u001b[?25h\u001b[1A\u001b[1A\u001b[1A\u001b[0G\u001b[?25l[+] Running 0/2\n",
            "\u001b[37m ⠦ Container dockercomposefiles-container2-1  Stopping                     0.7s\n",
            "\u001b[0m\u001b[37m ⠦ Container dockercomposefiles-container1-1  Stopping                     0.7s\n",
            "\u001b[0m\u001b[?25h\u001b[1A\u001b[1A\u001b[1A\u001b[0G\u001b[?25l[+] Running 0/2\n",
            "\u001b[37m ⠧ Container dockercomposefiles-container2-1  Stopping                     0.8s\n",
            "\u001b[0m\u001b[37m ⠧ Container dockercomposefiles-container1-1  Stopping                     0.8s\n",
            "...\n",
            "\u001b[37m ⠸ Container dockercomposefiles-container2-1  Stopping                    10.4s\n",
            "\u001b[0m\u001b[37m ⠸ Container dockercomposefiles-container1-1  Stopping                    10.4s\n",
            "\u001b[0m\u001b[?25h\u001b[1A\u001b[1A\u001b[1A\u001b[0G\u001b[?25l[+] Running 1/2\n",
            "\u001b[34m ⠿ Container dockercomposefiles-container2-1  Removed                     10.4s\n",
            "\u001b[0m\u001b[37m ⠿ Container dockercomposefiles-container1-1  Removing                    10.5s\n",
            "\u001b[0m\u001b[?25h\u001b[1A\u001b[1A\u001b[1A\u001b[0G\u001b[?25l\u001b[34m[+] Running 2/2\u001b[0m\n",
            "\u001b[34m ⠿ Container dockercomposefiles-container2-1  Removed                     10.4s\n",
            "\u001b[0m\u001b[34m ⠿ Container dockercomposefiles-container1-1  Removed                     10.5s\n",
            "\u001b[0m\u001b[37m ⠋ Network dockercomposefiles_default         Removing                     0.1s\n",
            "\u001b[0m\u001b[?25h\u001b[1A\u001b[1A\u001b[1A\u001b[1A\u001b[0G\u001b[?25l\u001b[34m[+] Running 3/3\u001b[0m\n",
            "\u001b[34m ⠿ Container dockercomposefiles-container2-1  Removed                     10.4s\n",
            "\u001b[0m\u001b[34m ⠿ Container dockercomposefiles-container1-1  Removed                     10.5s\n",
            "\u001b[0m\u001b[34m ⠿ Network dockercomposefiles_default         Removed                      0.2s\n",
            "\u001b[0m\u001b[?25h"
          ]
        }
      ],
      "source": [
        "!cd dockerComposeFiles && docker compose down"
      ]
    },
    {
      "cell_type": "markdown",
      "metadata": {},
      "source": [
        "Neste caso, apenas com `down` o Docker Compose parou e removeu tudo, pois, como podemos ver nos contêineres e na rede, está escrito `Removed`"
      ]
    },
    {
      "cell_type": "markdown",
      "metadata": {},
      "source": [
        "### Docker compose reiniciar"
      ]
    },
    {
      "cell_type": "markdown",
      "metadata": {},
      "source": [
        "Ao escrever um docker compose, podemos adicionar a tag `restart` para que, se o contêiner cair, ele seja reiniciado automaticamente.\n",
        "\n",
        "```json\n",
        "restart: sempre\n",
        "```\n",
        "\n",
        "Desta forma, se o contêiner cair, ele será reiniciado automaticamente. Se quisermos que ele seja reiniciado apenas um número de vezes, podemos adicionar a opção `on-failure`.\n",
        "\n",
        "```json\n",
        "restart: on-failure:<número>\n",
        "```\n",
        "\n",
        "Agora o contêiner será reiniciado um número de vezes, mas se cair mais vezes, não será reiniciado. Se quisermos que seja reiniciado sempre, podemos adicionar a opção `unless-stopped`.\n",
        "\n",
        "```json\n",
        "restart: unless-stopped\n",
        "```\n",
        "\n",
        "Agora o contêiner será reiniciado sempre, a menos que seja parado manualmente."
      ]
    },
    {
      "cell_type": "markdown",
      "metadata": {},
      "source": [
        "## Docker avançado"
      ]
    },
    {
      "cell_type": "markdown",
      "metadata": {},
      "source": [
        "### Gerenciar ambiente de trabalho"
      ]
    },
    {
      "cell_type": "markdown",
      "metadata": {},
      "source": [
        "#### Remoção de contêineres desligados"
      ]
    },
    {
      "cell_type": "markdown",
      "metadata": {},
      "source": [
        "Depois de um tempo desenvolvendo, podemos ter vários contêineres desligados, mas armazenados no computador. Isso acaba ocupando memória, então com `docker container prune` podemos eliminar todos os que estão parados."
      ]
    },
    {
      "cell_type": "code",
      "execution_count": 19,
      "metadata": {},
      "outputs": [],
      "source": [
        "!docker run ubuntu"
      ]
    },
    {
      "cell_type": "code",
      "execution_count": 20,
      "metadata": {},
      "outputs": [
        {
          "name": "stdout",
          "output_type": "stream",
          "text": [
            "CONTAINER ID   IMAGE     COMMAND   CREATED   STATUS    PORTS     NAMES\n"
          ]
        }
      ],
      "source": [
        "!docker ps"
      ]
    },
    {
      "cell_type": "code",
      "execution_count": 23,
      "metadata": {},
      "outputs": [
        {
          "name": "stdout",
          "output_type": "stream",
          "text": [
            "CONTAINER ID   IMAGE     COMMAND   CREATED          STATUS                      PORTS     NAMES\n",
            "effcee24f54a   ubuntu    \"bash\"    37 seconds ago   Exited (0) 36 seconds ago             musing_rosalind\n"
          ]
        }
      ],
      "source": [
        "!docker ps -a"
      ]
    },
    {
      "cell_type": "markdown",
      "metadata": {},
      "source": [
        "``` bash\n",
        "$ docker container prune\n",
        "AVISO! Isso removerá todos os contêineres parados.\n",
        "Tem certeza de que deseja continuar? [s/N] s\n",
        "Contêineres Excluídos:\n",
        "effcee24f54aab22e34fdea2465b3b7af132d8c627e5432ba3e915a370876977\n",
        "\n",
        "Espaço total recuperado: 0B\n",
        "```\n",
        "\n",
        "Neste caso, economizamos 0 bytes, mas no deixar contêineres desligados após muito desenvolvimento com certeza resultará em maior economia de memória."
      ]
    },
    {
      "cell_type": "markdown",
      "metadata": {},
      "source": [
        "#### Exclusão de todos os contêineres"
      ]
    },
    {
      "cell_type": "markdown",
      "metadata": {},
      "source": [
        "Em caso de ter contêineres em execução, podemos eliminar todos os contêineres por meio de outro comando\n",
        "\n",
        "O comando `docker ps -q` nos retorna o ID de todos os contêineres, portanto, com o comando `docker rm -f $(docker ps -aq)` pararemos e apagaremos todos."
      ]
    },
    {
      "cell_type": "code",
      "execution_count": 27,
      "metadata": {},
      "outputs": [
        {
          "name": "stdout",
          "output_type": "stream",
          "text": [
            "c22516186ef7e3561fb1ad0d508a914857dbc61274a218f297c4d80b1fc33863\n"
          ]
        }
      ],
      "source": [
        "!docker run -d ubuntu tail -f /dev/null"
      ]
    },
    {
      "cell_type": "code",
      "execution_count": 32,
      "metadata": {},
      "outputs": [
        {
          "name": "stdout",
          "output_type": "stream",
          "text": [
            "CONTAINER ID   IMAGE     COMMAND               CREATED              STATUS              PORTS     NAMES\n",
            "c22516186ef7   ubuntu    \"tail -f /dev/null\"   About a minute ago   Up About a minute             agitated_knuth\n"
          ]
        }
      ],
      "source": [
        "!docker ps"
      ]
    },
    {
      "cell_type": "code",
      "execution_count": 33,
      "metadata": {},
      "outputs": [
        {
          "name": "stdout",
          "output_type": "stream",
          "text": [
            "c22516186ef7\n"
          ]
        }
      ],
      "source": [
        "!docker rm -f $(docker ps -aq)"
      ]
    },
    {
      "cell_type": "code",
      "execution_count": 34,
      "metadata": {},
      "outputs": [
        {
          "name": "stdout",
          "output_type": "stream",
          "text": [
            "CONTAINER ID   IMAGE     COMMAND   CREATED   STATUS    PORTS     NAMES\n"
          ]
        }
      ],
      "source": [
        "!docker ps -a"
      ]
    },
    {
      "cell_type": "markdown",
      "metadata": {},
      "source": [
        "#### Exclusão de tudo"
      ]
    },
    {
      "cell_type": "markdown",
      "metadata": {},
      "source": [
        "Como vimos, o Docker também cria redes, imagens, volumes, etc, então com o comando `docker system prune` podemos apagar todos os contêineres parados, todas as redes que não estejam sendo usadas por pelo menos um contêiner, as imagens duplicadas, e o que estiver duplicado no cache de compilação.\n",
        "\n",
        "``` bash\n",
        "$ docker system prune\n",
        "AVISO! Isso removerá:\n",
        "- todos os contêineres parados\n",
        "- todas as redes não utilizadas por pelo menos um contêiner\n",
        "- todas as imagens pendentes\n",
        "- todos os caches de construção pendentes\n",
        "\n",
        "Tem certeza de que deseja continuar? [s/N] s\n",
        "Espaço total recuperado: 0B\n",
        "```\n",
        "\n",
        "Assim como antes, não se economizou muito espaço, mas após muito tempo desenvolvendo, a economia será considerável."
      ]
    },
    {
      "cell_type": "markdown",
      "metadata": {},
      "source": [
        "### Uso de recursos do host por parte dos contêineres"
      ]
    },
    {
      "cell_type": "markdown",
      "metadata": {},
      "source": [
        "Por exemplo, ao criar um contêiner, podemos limitar a RAM que o host pode usar através da opção `--memory`"
      ]
    },
    {
      "cell_type": "code",
      "execution_count": 35,
      "metadata": {},
      "outputs": [
        {
          "name": "stdout",
          "output_type": "stream",
          "text": [
            "d84888eafe531831ef8915d2270422365adec02678122bf59580e2da782e6972\n"
          ]
        }
      ],
      "source": [
        "!docker run -d --memory 1g ubuntu tail -f /dev/null"
      ]
    },
    {
      "cell_type": "markdown",
      "metadata": {},
      "source": [
        "Mas com `docker ps` não temos acesso aos recursos que o contêiner está consumindo."
      ]
    },
    {
      "cell_type": "code",
      "execution_count": 36,
      "metadata": {},
      "outputs": [
        {
          "name": "stdout",
          "output_type": "stream",
          "text": [
            "CONTAINER ID   IMAGE     COMMAND               CREATED          STATUS          PORTS     NAMES\n",
            "d84888eafe53   ubuntu    \"tail -f /dev/null\"   35 seconds ago   Up 34 seconds             musing_ritchie\n"
          ]
        }
      ],
      "source": [
        "!docker ps"
      ]
    },
    {
      "cell_type": "markdown",
      "metadata": {},
      "source": [
        "Para isso temos o comando `docker stats`\n",
        "\n",
        "```bash\n",
        "$ docker stats\n",
        "ID DO CONTAINER   NOME             CPU %     USO DE MEMÓRIA / LIMITE   MEM %     REDE I/O       BLOCO I/O   PIDS\n",
        "d84888eafe53   musing_ritchie   0,00%     540KiB / 1GiB       0,05%     5,62kB / 0B   0B / 0B     1\n",
        "```\n",
        "\n",
        "Isso é muito útil se quisermos simular um ambiente com um limite de RAM"
      ]
    },
    {
      "cell_type": "markdown",
      "metadata": {},
      "source": [
        "### Parando contêineres corretamente: SHELL vs EXEC"
      ]
    },
    {
      "cell_type": "markdown",
      "metadata": {},
      "source": [
        "Como explicamos, quando atribuímos um processo a um contêiner, quando esse processo termina, o contêiner para, mas às vezes podemos nos deparar com problemas com isso. Vamos criar uma nova pasta chamada Dockerfile_loop"
      ]
    },
    {
      "cell_type": "code",
      "execution_count": 1,
      "metadata": {},
      "outputs": [],
      "source": [
        "!mkdir Dockerfile_loop"
      ]
    },
    {
      "cell_type": "markdown",
      "metadata": {},
      "source": [
        "Agora vamos a criar um arquivo chamado `loop.sh` dentro de `Dockerfile_loop`"
      ]
    },
    {
      "cell_type": "code",
      "execution_count": 2,
      "metadata": {},
      "outputs": [],
      "source": [
        "!touch Dockerfile_loop/loop.sh"
      ]
    },
    {
      "cell_type": "markdown",
      "metadata": {},
      "source": [
        "E vamos a escrever o seguinte dentro de `loop.sh`\n",
        "\n",
        "``` shell\n",
        "#!/usr/bin/env bash\n",
        "trap \"exit 0\" SIGTERM\n",
        "while true; do :; done\n",
        "```\n",
        "\n",
        "Se eu executar este script no host, ele será executado até que eu insira `CTRL+C`\n",
        "\n",
        "\n",
        "``` bash\n",
        "./loop\n",
        "^C\n",
        "```\n",
        "Por favor, forneça o texto em markdown que você gostaria que eu traduzisse para o português."
      ]
    },
    {
      "cell_type": "markdown",
      "metadata": {},
      "source": [
        "Agora vamos a criar um arquivo `Dockerfile` dentro de `Dockerfile_loop`"
      ]
    },
    {
      "cell_type": "code",
      "execution_count": 3,
      "metadata": {},
      "outputs": [],
      "source": [
        "!touch Dockerfile_loop/Dockerfile"
      ]
    },
    {
      "cell_type": "markdown",
      "metadata": {},
      "source": [
        "*Arquivo Dockerfile*:\n",
        "``` docker\n",
        "DE ubuntu:trusty\n",
        "COPY [\"loop.sh\", \"/\"]\n",
        "CMD /loop.sh\n",
        "```"
      ]
    },
    {
      "cell_type": "markdown",
      "metadata": {},
      "source": [
        "Vamos a criar uma imagem baseada no Ubuntu que copia o script para dentro e o executa, e o script é executado até receber o sinal `SIGTERM` do sistema operacional. Compilamos a imagem"
      ]
    },
    {
      "cell_type": "code",
      "execution_count": 10,
      "metadata": {},
      "outputs": [
        {
          "name": "stdout",
          "output_type": "stream",
          "text": [
            "Sending build context to Docker daemon  3.072kB\n",
            "Step 1/3 : FROM ubuntu:trusty\n",
            " ---> 13b66b487594\n",
            "Step 2/3 : COPY [\"loop.sh\", \"/\"]\n",
            " ---> 89f2bbd25a88\n",
            "Step 3/3 : CMD /loop.sh\n",
            " ---> Running in ff52569c35fd\n",
            "Removing intermediate container ff52569c35fd\n",
            " ---> feb091e4efa3\n",
            "Successfully built feb091e4efa3\n",
            "Successfully tagged ubuntu:loop\n",
            "\n",
            "Use 'docker scan' to run Snyk tests against images to find vulnerabilities and learn how to fix them\n"
          ]
        }
      ],
      "source": [
        "!docker build -t ubuntu:loop ./Dockerfile_loop"
      ]
    },
    {
      "cell_type": "markdown",
      "metadata": {},
      "source": [
        "Executamos o contêiner\n",
        "\n",
        "``` bash\n",
        "docker run -d --name looper ubuntu:loop bash\n",
        "```"
      ]
    },
    {
      "cell_type": "code",
      "execution_count": 24,
      "metadata": {},
      "outputs": [
        {
          "name": "stdout",
          "output_type": "stream",
          "text": [
            "8a28f8cc9892213c4e0603dfdde320edf52c091b82c60510083549a391cd6645\n"
          ]
        }
      ],
      "source": [
        "!docker run -d --name looper ubuntu:loop"
      ]
    },
    {
      "cell_type": "markdown",
      "metadata": {},
      "source": [
        "Verificamos e vemos que o contêiner está rodando"
      ]
    },
    {
      "cell_type": "code",
      "execution_count": 25,
      "metadata": {},
      "outputs": [
        {
          "name": "stdout",
          "output_type": "stream",
          "text": [
            "CONTAINER ID   IMAGE         COMMAND                 CREATED         STATUS         PORTS     NAMES\n",
            "8a28f8cc9892   ubuntu:loop   \"/bin/sh -c /loop.sh\"   4 seconds ago   Up 3 seconds             looper\n"
          ]
        }
      ],
      "source": [
        "!docker ps"
      ]
    },
    {
      "cell_type": "markdown",
      "metadata": {},
      "source": [
        "Tentamos parar o contêiner com `docker stop looper`. O Docker stop tenta parar o contêiner enviando-lhe o sinal `SIGTERM`."
      ]
    },
    {
      "cell_type": "code",
      "execution_count": 26,
      "metadata": {},
      "outputs": [
        {
          "name": "stdout",
          "output_type": "stream",
          "text": [
            "looper\n",
            "CPU times: user 89.2 ms, sys: 21.7 ms, total: 111 ms\n",
            "Wall time: 10.6 s\n"
          ]
        }
      ],
      "source": [
        "%%time\n",
        "!docker stop looper"
      ]
    },
    {
      "cell_type": "markdown",
      "metadata": {},
      "source": [
        "Isso levou cerca de 10 segundos para parar, quando deveria ser imediato. Isso aconteceu porque `stop` enviou o sinal `SIGTERM` para parar o contêiner, mas como ele não parava, depois de um tempo enviou um `SIGKILL` para forçar a parada. Vamos ver o que acontece se listarmos os contêineres."
      ]
    },
    {
      "cell_type": "code",
      "execution_count": 27,
      "metadata": {},
      "outputs": [
        {
          "name": "stdout",
          "output_type": "stream",
          "text": [
            "CONTAINER ID   IMAGE         COMMAND                 CREATED          STATUS                       PORTS     NAMES\n",
            "8a28f8cc9892   ubuntu:loop   \"/bin/sh -c /loop.sh\"   23 seconds ago   Exited (137) 2 seconds ago             looper\n"
          ]
        }
      ],
      "source": [
        "!docker ps -a"
      ]
    },
    {
      "cell_type": "markdown",
      "metadata": {},
      "source": [
        "Podemos ver que o sinal de `Exited` é `137`, isso equivale a SIGKILL, ou seja, o Docker teve que forçar o desligamento."
      ]
    },
    {
      "cell_type": "markdown",
      "metadata": {},
      "source": [
        "Vamos a apagar o contêiner e a executá-lo novamente"
      ]
    },
    {
      "cell_type": "code",
      "execution_count": 28,
      "metadata": {},
      "outputs": [
        {
          "name": "stdout",
          "output_type": "stream",
          "text": [
            "looper\n"
          ]
        }
      ],
      "source": [
        "!docker rm looper"
      ]
    },
    {
      "cell_type": "code",
      "execution_count": 29,
      "metadata": {},
      "outputs": [
        {
          "name": "stdout",
          "output_type": "stream",
          "text": [
            "84bc37f944d270be5f84a952968db2b8cf5372c61146d29383468198ceed18fd\n"
          ]
        }
      ],
      "source": [
        "!docker run -d --name looper ubuntu:loop"
      ]
    },
    {
      "cell_type": "markdown",
      "metadata": {},
      "source": [
        "Se agora tentarmos parar o contêiner com `docker kill looper`"
      ]
    },
    {
      "cell_type": "code",
      "execution_count": 30,
      "metadata": {},
      "outputs": [
        {
          "name": "stdout",
          "output_type": "stream",
          "text": [
            "looper\n",
            "CPU times: user 9.1 ms, sys: 857 µs, total: 9.96 ms\n",
            "Wall time: 545 ms\n"
          ]
        }
      ],
      "source": [
        "%%time\n",
        "!docker kill looper"
      ]
    },
    {
      "cell_type": "markdown",
      "metadata": {},
      "source": [
        "Vemos que o tempo são cerca de 500 ms, ou seja, o Docker o parou em um momento enviando a ordem `SIGKILL`. Porque `kill` não envia `SIGTERM` e se em um tempo não foi parado o contêiner, ele envia `SIGKILL`, o que faz é enviar `SIGKILL` desde o início.\n",
        "\n",
        "Se vemos os contêineres, vemos que o sinal de saída é o mesmo, `137`"
      ]
    },
    {
      "cell_type": "code",
      "execution_count": 31,
      "metadata": {},
      "outputs": [
        {
          "name": "stdout",
          "output_type": "stream",
          "text": [
            "CONTAINER ID   IMAGE         COMMAND                 CREATED         STATUS                       PORTS     NAMES\n",
            "84bc37f944d2   ubuntu:loop   \"/bin/sh -c /loop.sh\"   6 seconds ago   Exited (137) 2 seconds ago             looper\n"
          ]
        }
      ],
      "source": [
        "!docker ps -a"
      ]
    },
    {
      "cell_type": "markdown",
      "metadata": {},
      "source": [
        "Esta não é a maneira correta de desligar um contêiner, pois quando quisermos desligá-lo, deveríamos fazer isso através do sinal `SIGTERM`, para que ele possa terminar de processar o que estivesse fazendo e então se desligue."
      ]
    },
    {
      "cell_type": "markdown",
      "metadata": {},
      "source": [
        "Se apagarmos o contêiner e o reexecutarmos"
      ]
    },
    {
      "cell_type": "code",
      "execution_count": 32,
      "metadata": {},
      "outputs": [
        {
          "name": "stdout",
          "output_type": "stream",
          "text": [
            "looper\n"
          ]
        }
      ],
      "source": [
        "!docker rm looper"
      ]
    },
    {
      "cell_type": "code",
      "execution_count": 33,
      "metadata": {},
      "outputs": [
        {
          "name": "stdout",
          "output_type": "stream",
          "text": [
            "b9d9f370cc0de7569eb09d0a85cd67e8ea6babc0754a517ccba5c5057f5cc50e\n"
          ]
        }
      ],
      "source": [
        "!docker run -d --name looper ubuntu:loop"
      ]
    },
    {
      "cell_type": "markdown",
      "metadata": {},
      "source": [
        "Se agora olharmos para os processos que estão sendo executados dentro do contêiner"
      ]
    },
    {
      "cell_type": "code",
      "execution_count": 34,
      "metadata": {},
      "outputs": [
        {
          "name": "stdout",
          "output_type": "stream",
          "text": [
            "UID          PID    PPID  C STIME TTY          TIME CMD\n",
            "root           1       0  0 14:05 ?        00:00:00 /bin/sh -c /loop.sh\n",
            "root           7       1 93 14:05 ?        00:00:02 bash /loop.sh\n",
            "root           8       0  0 14:05 ?        00:00:00 ps -ef\n"
          ]
        }
      ],
      "source": [
        "!docker exec looper ps -ef"
      ]
    },
    {
      "cell_type": "markdown",
      "metadata": {},
      "source": [
        "Na verdade o processo principal, o 1, não é `/loop.sh` mas sim `/bin/sh -c /loop.sh`, ou seja, é um processo filho do `shell`. Portanto, quando a sinal `SIGTERM` chegava ao `shell`, este não a encaminhava para seus processos filhos, por isso ela não chegava a `loop.sh`"
      ]
    },
    {
      "cell_type": "markdown",
      "metadata": {},
      "source": [
        "Para que isso não aconteça, é necessário alterar o `Dockerfile` para o seguinte:\n",
        "\n",
        "*Arquivo Dockerfile*:\n",
        "``` docker\n",
        "FROM ubuntu:trusty\n",
        "COPY [\"loop.sh\", \"/\"]\n",
        "CMD [\"/loop.sh\"]    # antes era CMD /loop.sh\n",
        "```\n",
        "\n",
        "Esta forma se chama `exec form`, enquanto a anterior se chama `shell form`. Na forma anterior, o processo é executado como um filho do `shell`, enquanto na forma `exec form` executa diretamente o processo que indicarmos. Então, apagamos o contêiner, recompilamos e reiniciamos o contêiner com a imagem."
      ]
    },
    {
      "cell_type": "code",
      "execution_count": 41,
      "metadata": {},
      "outputs": [
        {
          "name": "stdout",
          "output_type": "stream",
          "text": [
            "looper\n"
          ]
        }
      ],
      "source": [
        "!docker rm -f looper"
      ]
    },
    {
      "cell_type": "code",
      "execution_count": 45,
      "metadata": {},
      "outputs": [
        {
          "name": "stdout",
          "output_type": "stream",
          "text": [
            "Sending build context to Docker daemon  3.072kB\n",
            "Step 1/3 : FROM ubuntu:trusty\n",
            " ---> 13b66b487594\n",
            "Step 2/3 : COPY [\"loop.sh\", \"/\"]\n",
            " ---> Using cache\n",
            " ---> 89f2bbd25a88\n",
            "Step 3/3 : CMD [\"/loop.sh\"]\n",
            " ---> Running in 6b8d92fcd57c\n",
            "Removing intermediate container 6b8d92fcd57c\n",
            " ---> 35a7bb2b1892\n",
            "Successfully built 35a7bb2b1892\n",
            "Successfully tagged ubuntu:loop\n",
            "\n",
            "Use 'docker scan' to run Snyk tests against images to find vulnerabilities and learn how to fix them\n"
          ]
        }
      ],
      "source": [
        "!docker build -t ubuntu:loop ./Dockerfile_loop"
      ]
    },
    {
      "cell_type": "code",
      "execution_count": 46,
      "metadata": {},
      "outputs": [
        {
          "name": "stdout",
          "output_type": "stream",
          "text": [
            "850ae70c071426850b28428ac60dcbf875c6d35d9b7cc66c17cf391a23392965\n"
          ]
        }
      ],
      "source": [
        "!docker run -d --name looper ubuntu:loop"
      ]
    },
    {
      "cell_type": "markdown",
      "metadata": {},
      "source": [
        "Agora vejo os processos dentro do contêiner."
      ]
    },
    {
      "cell_type": "code",
      "execution_count": 47,
      "metadata": {},
      "outputs": [
        {
          "name": "stdout",
          "output_type": "stream",
          "text": [
            "UID          PID    PPID  C STIME TTY          TIME CMD\n",
            "root           1       0 88 14:14 ?        00:00:02 bash /loop.sh\n",
            "root           7       0  0 14:14 ?        00:00:00 ps -ef\n"
          ]
        }
      ],
      "source": [
        "!docker exec looper ps -ef"
      ]
    },
    {
      "cell_type": "markdown",
      "metadata": {},
      "source": [
        "Agora vejo que o processo principal, o 1, é `/loop.sh`\n",
        "\n",
        "Se agora eu tentar parar o contêiner"
      ]
    },
    {
      "cell_type": "code",
      "execution_count": 48,
      "metadata": {},
      "outputs": [
        {
          "name": "stdout",
          "output_type": "stream",
          "text": [
            "looper\n",
            "CPU times: user 989 µs, sys: 7.55 ms, total: 8.54 ms\n",
            "Wall time: 529 ms\n"
          ]
        }
      ],
      "source": [
        "%%time\n",
        "!docker stop looper"
      ]
    },
    {
      "cell_type": "markdown",
      "metadata": {},
      "source": [
        "Vemos que demora mais. Vejamos o código com o qual parou."
      ]
    },
    {
      "cell_type": "code",
      "execution_count": 49,
      "metadata": {},
      "outputs": [
        {
          "name": "stdout",
          "output_type": "stream",
          "text": [
            "CONTAINER ID   IMAGE         COMMAND      CREATED              STATUS                      PORTS     NAMES\n",
            "850ae70c0714   ubuntu:loop   \"/loop.sh\"   About a minute ago   Exited (0) 33 seconds ago             looper\n"
          ]
        }
      ],
      "source": [
        "!docker ps -a"
      ]
    },
    {
      "cell_type": "markdown",
      "metadata": {},
      "source": [
        "### Contentores executáveis"
      ]
    },
    {
      "cell_type": "markdown",
      "metadata": {},
      "source": [
        "Se quisermos um binário que rode como um executável, no `dockerfile` é preciso especificar o comando em `ENTRYPOINT` e os parâmetros do comando em `CMD`, vamos ver isso."
      ]
    },
    {
      "cell_type": "markdown",
      "metadata": {},
      "source": [
        "Vamos a criar uma nova pasta onde guardaremos o `Dockerfile`"
      ]
    },
    {
      "cell_type": "code",
      "execution_count": 4,
      "metadata": {},
      "outputs": [],
      "source": [
        "!mkdir dockerfile_ping"
      ]
    },
    {
      "cell_type": "markdown",
      "metadata": {},
      "source": [
        "Agora criamos um Dockerfile dentro"
      ]
    },
    {
      "cell_type": "code",
      "execution_count": 5,
      "metadata": {},
      "outputs": [],
      "source": [
        "!touch dockerfile_ping/Dockerfile"
      ]
    },
    {
      "cell_type": "markdown",
      "metadata": {},
      "source": [
        "Escrevemos dentro do Dockerfile o seguinte\n",
        "\n",
        "``` docker\n",
        "FROM ubuntu:trusty\n",
        "ENTRYPOINT [ \"/bin/ping\", \"-c\", \"3\" ]\n",
        "CMD [ \"localhost\" ]\n",
        "```\n",
        "\n",
        "Compilamos a imagem"
      ]
    },
    {
      "cell_type": "code",
      "execution_count": 8,
      "metadata": {},
      "outputs": [
        {
          "name": "stdout",
          "output_type": "stream",
          "text": [
            "Sending build context to Docker daemon  3.072kB\n",
            "Step 1/3 : FROM ubuntu:trusty\n",
            " ---> 13b66b487594\n",
            "Step 2/3 : ENTRYPOINT [ \"/bin/ping\", \"-c\", \"3\" ]\n",
            " ---> Using cache\n",
            " ---> 1cebcfb542b1\n",
            "Step 3/3 : CMD [ \"localhost\" ]\n",
            " ---> Using cache\n",
            " ---> 04ddc3de52a2\n",
            "Successfully built 04ddc3de52a2\n",
            "Successfully tagged ubuntu:ping\n",
            "\n",
            "Use 'docker scan' to run Snyk tests against images to find vulnerabilities and learn how to fix them\n"
          ]
        }
      ],
      "source": [
        "!docker build -t ubuntu:ping ./dockerfile_ping"
      ]
    },
    {
      "cell_type": "markdown",
      "metadata": {},
      "source": [
        "Se agora executarmos a imagem sem passar um parâmetro, o contêiner fará um ping a si mesmo"
      ]
    },
    {
      "cell_type": "code",
      "execution_count": 10,
      "metadata": {},
      "outputs": [
        {
          "name": "stdout",
          "output_type": "stream",
          "text": [
            "PING localhost (127.0.0.1) 56(84) bytes of data.\n",
            "64 bytes from localhost (127.0.0.1): icmp_seq=1 ttl=64 time=0.041 ms\n",
            "64 bytes from localhost (127.0.0.1): icmp_seq=2 ttl=64 time=0.058 ms\n",
            "64 bytes from localhost (127.0.0.1): icmp_seq=3 ttl=64 time=0.054 ms\n",
            "\n",
            "--- localhost ping statistics ---\n",
            "3 packets transmitted, 3 received, 0% packet loss, time 2027ms\n",
            "rtt min/avg/max/mdev = 0.041/0.051/0.058/0.007 ms\n"
          ]
        }
      ],
      "source": [
        "!docker run --name ping_localhost ubuntu:ping"
      ]
    },
    {
      "cell_type": "markdown",
      "metadata": {},
      "source": [
        "Mas se passarmos um parâmetro agora, ele fará ping no endereço que dissermos"
      ]
    },
    {
      "cell_type": "code",
      "execution_count": 11,
      "metadata": {},
      "outputs": [
        {
          "name": "stdout",
          "output_type": "stream",
          "text": [
            "PING google.com (216.58.209.78) 56(84) bytes of data.\n",
            "64 bytes from waw02s06-in-f14.1e100.net (216.58.209.78): icmp_seq=1 ttl=111 time=3.93 ms\n",
            "64 bytes from waw02s06-in-f14.1e100.net (216.58.209.78): icmp_seq=2 ttl=111 time=6.80 ms\n",
            "64 bytes from waw02s06-in-f14.1e100.net (216.58.209.78): icmp_seq=3 ttl=111 time=6.92 ms\n",
            "\n",
            "--- google.com ping statistics ---\n",
            "3 packets transmitted, 3 received, 0% packet loss, time 2002ms\n",
            "rtt min/avg/max/mdev = 3.930/5.886/6.920/1.383 ms\n"
          ]
        }
      ],
      "source": [
        "!docker run --name ping_google ubuntu:ping google.com"
      ]
    },
    {
      "cell_type": "markdown",
      "metadata": {},
      "source": [
        "Apagamos os contêineres"
      ]
    },
    {
      "cell_type": "code",
      "execution_count": 12,
      "metadata": {},
      "outputs": [
        {
          "name": "stdout",
          "output_type": "stream",
          "text": [
            "ping_localhost\n",
            "ping_google\n"
          ]
        }
      ],
      "source": [
        "!docker rm ping_localhost ping_google"
      ]
    },
    {
      "cell_type": "markdown",
      "metadata": {},
      "source": [
        "### O contexto de `build`"
      ]
    },
    {
      "cell_type": "markdown",
      "metadata": {},
      "source": [
        "Vamos a criar uma pasta chamada `dockerfile_contexto`"
      ]
    },
    {
      "cell_type": "code",
      "execution_count": 58,
      "metadata": {},
      "outputs": [],
      "source": [
        "!mkdir dokerfile_contexto"
      ]
    },
    {
      "cell_type": "markdown",
      "metadata": {},
      "source": [
        "Agora criamos nela dois arquivos: um `test.txt` e o `Dockerfile`"
      ]
    },
    {
      "cell_type": "code",
      "execution_count": 59,
      "metadata": {},
      "outputs": [],
      "source": [
        "!touch dokerfile_contexto/Dockerfile dokerfile_contexto/text.txt"
      ]
    },
    {
      "cell_type": "markdown",
      "metadata": {},
      "source": [
        "Modificamos o Dockerfile e colocamos o seguinte\n",
        "\n",
        "``` docker\n",
        "FROM ubuntu:trusty\n",
        "COPY [\".\", \"/\"]\n",
        "```\n",
        "\n",
        "Isso vai fazer com que tudo o que está na pasta onde se encontra o `Dockerfile` seja copiado para dentro da imagem. Compilamos a imagem."
      ]
    },
    {
      "cell_type": "code",
      "execution_count": 60,
      "metadata": {},
      "outputs": [
        {
          "name": "stdout",
          "output_type": "stream",
          "text": [
            "Sending build context to Docker daemon   2.56kB\n",
            "Step 1/2 : FROM ubuntu:trusty\n",
            " ---> 13b66b487594\n",
            "Step 2/2 : COPY [\".\", \"/\"]\n",
            " ---> 3ab79fdce389\n",
            "Successfully built 3ab79fdce389\n",
            "Successfully tagged ubuntu:contexto\n",
            "\n",
            "Use 'docker scan' to run Snyk tests against images to find vulnerabilities and learn how to fix them\n"
          ]
        }
      ],
      "source": [
        "!docker build -t ubuntu:contexto ./dokerfile_contexto"
      ]
    },
    {
      "cell_type": "markdown",
      "metadata": {},
      "source": [
        "Vamos ver o que tem dentro do contêiner"
      ]
    },
    {
      "cell_type": "code",
      "execution_count": 63,
      "metadata": {},
      "outputs": [
        {
          "name": "stdout",
          "output_type": "stream",
          "text": [
            "Dockerfile\n",
            "bin\n",
            "boot\n",
            "dev\n",
            "etc\n",
            "home\n",
            "lib\n",
            "lib64\n",
            "media\n",
            "mnt\n",
            "opt\n",
            "proc\n",
            "root\n",
            "run\n",
            "sbin\n",
            "srv\n",
            "sys\n",
            "text.txt\n",
            "tmp\n",
            "usr\n",
            "var\n"
          ]
        }
      ],
      "source": [
        "!docker run --name ls ubuntu:contexto ls"
      ]
    },
    {
      "cell_type": "markdown",
      "metadata": {},
      "source": [
        "Como vemos está o arquivo `text.txt`. Mas é possível que dentro da pasta que está no mesmo diretório que o `Dockerfile` haja arquivos ou pastas que não queremos que sejam copiados para a imagem, por qualquer razão, então assim como no git temos o `.gitignore`, no docker temos o `.dockerignore`, onde colocamos os arquivos ou pastas que não queremos que sejam levados em conta na hora de compilar.\n",
        "\n",
        "Então criamos um arquivo `.dockerignore`"
      ]
    },
    {
      "cell_type": "code",
      "execution_count": 62,
      "metadata": {},
      "outputs": [],
      "source": [
        "!touch dokerfile_contexto/.dockerignore"
      ]
    },
    {
      "cell_type": "markdown",
      "metadata": {},
      "source": [
        "E dentro adicionamos o `text.txt`, e de passo o `Dockerfile` que não precisamos dentro da imagem\n",
        "\n",
        "*.dockerignore*:\n",
        "```\n",
        "Dockerfile\n",
        "Parece que hay un malentendido. El archivo `text.txt` no foi fornecido. Por favor, forneça o conteúdo do arquivo em formato markdown para que eu possa traduzi-lo.\n",
        "```"
      ]
    },
    {
      "cell_type": "markdown",
      "metadata": {},
      "source": [
        "Apagamos o contêiner que tínhamos criado, recompilamos e vemos o que há dentro do contêiner"
      ]
    },
    {
      "cell_type": "code",
      "execution_count": 67,
      "metadata": {},
      "outputs": [
        {
          "name": "stdout",
          "output_type": "stream",
          "text": [
            "ls\n"
          ]
        }
      ],
      "source": [
        "!docker rm ls"
      ]
    },
    {
      "cell_type": "code",
      "execution_count": 71,
      "metadata": {},
      "outputs": [
        {
          "name": "stdout",
          "output_type": "stream",
          "text": [
            "Sending build context to Docker daemon  3.072kB\n",
            "Step 1/2 : FROM ubuntu:trusty\n",
            " ---> 13b66b487594\n",
            "Step 2/2 : COPY [\".\", \"/\"]\n",
            " ---> 7a6689546da4\n",
            "Successfully built 7a6689546da4\n",
            "Successfully tagged ubuntu:contexto\n",
            "\n",
            "Use 'docker scan' to run Snyk tests against images to find vulnerabilities and learn how to fix them\n"
          ]
        }
      ],
      "source": [
        "!docker build -t ubuntu:contexto ./dokerfile_contexto"
      ]
    },
    {
      "cell_type": "code",
      "execution_count": 72,
      "metadata": {},
      "outputs": [
        {
          "name": "stdout",
          "output_type": "stream",
          "text": [
            "bin\n",
            "boot\n",
            "dev\n",
            "etc\n",
            "home\n",
            "lib\n",
            "lib64\n",
            "media\n",
            "mnt\n",
            "opt\n",
            "proc\n",
            "root\n",
            "run\n",
            "sbin\n",
            "srv\n",
            "sys\n",
            "tmp\n",
            "usr\n",
            "var\n"
          ]
        }
      ],
      "source": [
        "!docker run --name ls ubuntu:contexto ls"
      ]
    },
    {
      "cell_type": "markdown",
      "metadata": {},
      "source": [
        "Vemos que agora não estão nem `Dockerfile` nem `text.txt`. Apagamos o contentor."
      ]
    },
    {
      "cell_type": "code",
      "execution_count": 73,
      "metadata": {},
      "outputs": [
        {
          "name": "stdout",
          "output_type": "stream",
          "text": [
            "ls\n"
          ]
        }
      ],
      "source": [
        "!docker rm ls"
      ]
    },
    {
      "cell_type": "markdown",
      "metadata": {},
      "source": [
        "### Construção em múltiplas etapas"
      ]
    },
    {
      "cell_type": "markdown",
      "metadata": {},
      "source": [
        "No final de um desenvolvimento, não queremos que todo o código esteja na imagem que vai ser enviada para produção.\n",
        "\n",
        "Podemos dividir o `dockerfile` em dois, por exemplo, o `developer.Dockerfile` e o `production.Dockerfile`, onde no desenvolvimento haverá mais coisas do que na produção. Na hora de compilá-los, através da opção `-f` escolhemos o `dockerfile` que queremos usar\n",
        "\n",
        "``` bash\n",
        "docker build -t <tag> -f developer.Dockerfile\n",
        "docker build -t <tag> -f production.Dockerfile\n",
        "```"
      ]
    },
    {
      "cell_type": "markdown",
      "metadata": {},
      "source": [
        "Mas para não ter que criar dois arquivos `Dockerfile`, o Docker criou os `multi stage builds`. Com um único `Dockerfile` vamos resolver o problema."
      ]
    },
    {
      "cell_type": "markdown",
      "metadata": {},
      "source": [
        "Criamos a pasta onde vamos salvar o `Dockerfile`"
      ]
    },
    {
      "cell_type": "code",
      "execution_count": 2,
      "metadata": {},
      "outputs": [],
      "source": [
        "!mkdir docker_multi_stage"
      ]
    },
    {
      "cell_type": "markdown",
      "metadata": {},
      "source": [
        "E dentro criamos o arquivo `Dockerfile`"
      ]
    },
    {
      "cell_type": "code",
      "execution_count": 3,
      "metadata": {},
      "outputs": [],
      "source": [
        "!cd docker_multi_stage && touch Dockerfile"
      ]
    },
    {
      "cell_type": "markdown",
      "metadata": {},
      "source": [
        "Editamos o arquivo, inserindo o seguinte\n",
        "\n",
        "``` dockerfile\n",
        "# Etapa 1: Gerar o executável com Python baseado em Alpine\n",
        "FROM python:3.9-alpine como build-stage\n",
        "WORKDIR /app\n",
        "# Instalar dependências para PyInstaller\n",
        "RUN apk add --no-cache gcc musl-dev libc-dev\n",
        "# Gerar hello.py\n",
        "RUN echo 'print(\"Olá do Alpine!\")' > hello.py\n",
        "# Instalar PyInstaller\n",
        "RUN pip install pyinstaller\n",
        "# Usar PyInstaller para criar um executável independente\n",
        "RUN pyinstaller --onefile hello.py\n",
        "\n",
        "# Etapa 2: Executar o executável em uma imagem do Alpine\n",
        "FROM alpine:latest\n",
        "WORKDIR /app\n",
        "# Copiar o executável da etapa de build\n",
        "COPY --from=build-stage /app/dist/hello .\n",
        "# Comando padrão para executar o executável\n",
        "CMD [\"./hello\"]\n",
        "```\n",
        "\n",
        "Como se pode ver, o `Dockerfile` está dividido em duas partes. De um lado, trabalhamos sobre a imagem `python:3.9-alpine`, que é chamada de `build-stage`. Do outro lado, trabalhamos sobre a imagem `alpine:latest`, que é uma imagem de Linux muito leve e é utilizada muito em produção.\n",
        "\n",
        "O compilamos"
      ]
    },
    {
      "cell_type": "code",
      "execution_count": 10,
      "metadata": {},
      "outputs": [
        {
          "name": "stdout",
          "output_type": "stream",
          "text": [
            "\u001b[1A\u001b[1B\u001b[0G\u001b[?25l[+] Building 0.0s (0/2)                                          docker:default\n",
            "\u001b[?25h"
          ]
        },
        {
          "name": "stdout",
          "output_type": "stream",
          "text": [
            "\u001b[1A\u001b[0G\u001b[?25l[+] Building 0.2s (4/6)                                          docker:default\n",
            "\u001b[34m => [internal] load build definition from Dockerfile                       0.0s\n",
            "\u001b[0m\u001b[34m => => transferring dockerfile: 722B                                       0.0s\n",
            "\u001b[0m\u001b[34m => [internal] load .dockerignore                                          0.0s\n",
            "\u001b[0m\u001b[34m => => transferring context: 2B                                            0.0s\n",
            "\u001b[0m => [internal] load metadata for docker.io/library/alpine:latest           0.1s\n",
            " => [internal] load metadata for docker.io/library/python:3.9-alpine       0.1s\n",
            "...\n",
            "\u001b[0m\u001b[34m => CACHED [stage-1 3/3] COPY --from=build-stage /app/dist/hello .         0.0s\n",
            "\u001b[0m\u001b[34m => exporting to image                                                     0.0s\n",
            "\u001b[0m\u001b[34m => => exporting layers                                                    0.0s\n",
            "\u001b[0m\u001b[34m => => writing image sha256:7fb090d1495d00e892118b6bc3c03400b63a435fd4703  0.0s\n",
            "\u001b[0m\u001b[34m => => naming to docker.io/maximofn/multistagebuild:latest                 0.0s\n",
            "\u001b[0m\u001b[?25h"
          ]
        }
      ],
      "source": [
        "!docker build -t maximofn/multistagebuild:latest ./docker_multi_stage"
      ]
    },
    {
      "cell_type": "markdown",
      "metadata": {},
      "source": [
        "Se agora olharmos para as imagens que temos"
      ]
    },
    {
      "cell_type": "code",
      "execution_count": 11,
      "metadata": {},
      "outputs": [
        {
          "name": "stdout",
          "output_type": "stream",
          "text": [
            "REPOSITORY                 TAG       IMAGE ID       CREATED         SIZE\n",
            "maximofn/multistagebuild   latest    7fb090d1495d   8 minutes ago   13.6MB\n"
          ]
        }
      ],
      "source": [
        "!docker image ls"
      ]
    },
    {
      "cell_type": "markdown",
      "metadata": {},
      "source": [
        "Vamos baixar a imagem do Python para ver quanto ela pesa"
      ]
    },
    {
      "cell_type": "code",
      "execution_count": 12,
      "metadata": {},
      "outputs": [
        {
          "name": "stdout",
          "output_type": "stream",
          "text": [
            "3.9-alpine: Pulling from library/python\n",
            "\n",
            "\u001b[1Ba8db6415: Already exists \n",
            "\u001b[1Bd5e70e42: Already exists \n",
            "\u001b[1B3fe96417: Already exists \n",
            "\u001b[1Baa4dddbb: Already exists \n",
            "\u001b[1B518be9f7: Already exists Digest: sha256:6e508b43604ff9a81907ec17405c9ad5c13664e45a5affa2206af128818c7486\n",
            "Status: Downloaded newer image for python:3.9-alpine\n",
            "docker.io/library/python:3.9-alpine\n"
          ]
        }
      ],
      "source": [
        "!docker pull python:3.9-alpine"
      ]
    },
    {
      "cell_type": "code",
      "execution_count": 13,
      "metadata": {},
      "outputs": [
        {
          "name": "stdout",
          "output_type": "stream",
          "text": [
            "REPOSITORY                 TAG          IMAGE ID       CREATED         SIZE\n",
            "maximofn/multistagebuild   latest       7fb090d1495d   9 minutes ago   13.6MB\n",
            "python                     3.9-alpine   6946662f018b   9 days ago      47.8MB\n"
          ]
        }
      ],
      "source": [
        "!docker image ls"
      ]
    },
    {
      "cell_type": "markdown",
      "metadata": {},
      "source": [
        "Podemos ver que enquanto nossa imagem pesa apenas 13,6 MB, a de Python com a qual foi construído o aplicativo pesa 47,8 MB. Portanto, podemos tirar duas conclusões: com a primeira imagem, a de Python, foi construído o aplicativo, gerou-se o executável e esse executável é o que usamos na segunda imagem, a de Alpine. Além disso, podemos ver que, embora a primeira imagem usada seja a de Python, ela não é baixada no nosso sistema, já que tivemos que baixá-la nós mesmos."
      ]
    },
    {
      "cell_type": "markdown",
      "metadata": {},
      "source": [
        "Então só resta testá-lo."
      ]
    },
    {
      "cell_type": "code",
      "execution_count": 14,
      "metadata": {},
      "outputs": [
        {
          "name": "stdout",
          "output_type": "stream",
          "text": [
            "Hello from Alpine!\n"
          ]
        }
      ],
      "source": [
        "!docker run --rm --name multi_stage_build maximofn/multistagebuild"
      ]
    },
    {
      "cell_type": "markdown",
      "metadata": {},
      "source": [
        "Funciona!"
      ]
    },
    {
      "cell_type": "markdown",
      "metadata": {},
      "source": [
        "### Builds multi arquitetura"
      ]
    },
    {
      "cell_type": "markdown",
      "metadata": {},
      "source": [
        "Suponhamos que queremos fazer uma imagem que possa ser executada em um computador e em uma Raspberry. O computador provavelmente terá um micro com arquitetura AMD64, enquanto a Raspberry tem um micro com arquitetura ARM. Portanto, não podemos criar a mesma imagem para os dois. Ou seja, quando criamos uma imagem, a criamos com um `Dockerfile` que geralmente começa assim\n",
        "\n",
        "``` Dockerfile\n",
        "DE ...\n",
        "```\n",
        "\n",
        "Portanto, o `Dockerfile` da imagem do computador poderia começar assim\n",
        "\n",
        "``` Dockerfile\n",
        "FROM ubuntu:latest\n",
        "```\n",
        "\n",
        "Enquanto o da Raspberry poderia começar assim\n",
        "\n",
        "``` Dockerfile\n",
        "FROM arm64v8/ubuntu:latest\n",
        "```"
      ]
    },
    {
      "cell_type": "markdown",
      "metadata": {},
      "source": [
        "Teríamos que criar dois arquivos `Dockerfile`, compilá-los e no computador usar uma imagem e na raspberry usar outra."
      ]
    },
    {
      "cell_type": "markdown",
      "metadata": {},
      "source": [
        "Para evitar ter que ver a arquitetura do computador e ver qual imagem temos que usar, o Docker cria os `manifest`, que como seu nome indica é um manifesto que indica, com base na arquitetura de micro que tenhamos, usa uma imagem ou outra."
      ]
    },
    {
      "cell_type": "markdown",
      "metadata": {},
      "source": [
        "Então vamos ver como fazer isso"
      ]
    },
    {
      "cell_type": "markdown",
      "metadata": {},
      "source": [
        "Em primeiro lugar, criamos uma pasta onde vamos criar nossos arquivos `Dockerfile`"
      ]
    },
    {
      "cell_type": "code",
      "execution_count": 1,
      "metadata": {},
      "outputs": [],
      "source": [
        "!mkdir docker_multi_arch"
      ]
    },
    {
      "cell_type": "markdown",
      "metadata": {},
      "source": [
        "Agora criamos os dois Dockerfiles"
      ]
    },
    {
      "cell_type": "code",
      "execution_count": 2,
      "metadata": {},
      "outputs": [],
      "source": [
        "!cd docker_multi_arch && touch Dockerfile_arm64 Dockerfile_amd64"
      ]
    },
    {
      "cell_type": "markdown",
      "metadata": {},
      "source": [
        "Escrevemos o `Dockerfile` para AMD64"
      ]
    },
    {
      "cell_type": "code",
      "execution_count": 4,
      "metadata": {},
      "outputs": [],
      "source": [
        "!cd docker_multi_arch && echo \"FROM ubuntu:20.04\" >> Dockerfile_amd64 && echo \"CMD echo 'Hello from amd64'\" >> Dockerfile_amd64"
      ]
    },
    {
      "cell_type": "code",
      "execution_count": 30,
      "metadata": {},
      "outputs": [],
      "source": [
        "!cd docker_multi_arch && echo \"FROM arm64v8/ubuntu:latest\" >> Dockerfile_arm && echo \"CMD echo 'Hello from ARM'\" >> Dockerfile_arm"
      ]
    },
    {
      "cell_type": "markdown",
      "metadata": {},
      "source": [
        "Agora combinamos as duas imagens"
      ]
    },
    {
      "cell_type": "code",
      "execution_count": 6,
      "metadata": {},
      "outputs": [
        {
          "name": "stdout",
          "output_type": "stream",
          "text": [
            "\u001b[1A\u001b[1B\u001b[0G\u001b[?25l[+] Building 0.0s (0/1)                                          docker:default\n",
            "\u001b[?25h\u001b[1A\u001b[0G\u001b[?25l[+] Building 0.2s (2/3)                                          docker:default\n",
            "\u001b[34m => [internal] load build definition from Dockerfile_amd64                 0.1s\n",
            "\u001b[0m\u001b[34m => => transferring dockerfile: 89B                                        0.0s\n",
            "\u001b[0m\u001b[34m => [internal] load .dockerignore                                          0.1s\n",
            "\u001b[0m\u001b[34m => => transferring context: 2B                                            0.0s\n",
            "\u001b[0m => [internal] load metadata for docker.io/library/ubuntu:20.04            0.1s\n",
            "\u001b[?25h\u001b[1A\u001b[1A\u001b[1A\u001b[1A\u001b[1A\u001b[1A\u001b[0G\u001b[?25l[+] Building 0.3s (2/3)                                          docker:default\n",
            "\u001b[34m => [internal] load build definition from Dockerfile_amd64                 0.1s\n",
            "\u001b[0m\u001b[34m => => transferring dockerfile: 89B                                        0.0s\n",
            "\u001b[0m\u001b[34m => [internal] load .dockerignore                                          0.1s\n",
            "\u001b[0m\u001b[34m => => transferring context: 2B                                            0.0s\n",
            "\u001b[0m => [internal] load metadata for docker.io/library/ubuntu:20.04            0.2s\n",
            "\u001b[?25h\u001b[1A\u001b[1A\u001b[1A\u001b[1A\u001b[1A\u001b[1A\u001b[0G\u001b[?25l[+] Building 0.5s (2/3)                                          docker:default\n",
            "\u001b[34m => [internal] load build definition from Dockerfile_amd64                 0.1s\n",
            "\u001b[0m\u001b[34m => => transferring dockerfile: 89B                                        0.0s\n",
            "\u001b[0m\u001b[34m => [internal] load .dockerignore                                          0.1s\n",
            "\u001b[0m\u001b[34m => => transferring context: 2B                                            0.0s\n",
            "\u001b[0m => [internal] load metadata for docker.io/library/ubuntu:20.04            0.4s\n",
            "\u001b[?25h\u001b[1A\u001b[1A\u001b[1A\u001b[1A\u001b[1A\u001b[1A\u001b[0G\u001b[?25l[+] Building 0.6s (2/3)                                          docker:default\n",
            "\u001b[34m => [internal] load build definition from Dockerfile_amd64                 0.1s\n",
            "\u001b[0m\u001b[34m => => transferring dockerfile: 89B                                        0.0s\n",
            "\u001b[0m\u001b[34m => [internal] load .dockerignore                                          0.1s\n",
            "\u001b[0m\u001b[34m => => transferring context: 2B                                            0.0s\n",
            "\u001b[0m => [internal] load metadata for docker.io/library/ubuntu:20.04            0.5s\n",
            "...\n",
            "\u001b[0m\u001b[34m => => transferring context: 2B                                            0.0s\n",
            "\u001b[0m\u001b[34m => [internal] load build definition from Dockerfile_arm                   0.0s\n",
            "\u001b[0m\u001b[34m => => transferring dockerfile: 94B                                        0.0s\n",
            "\u001b[0m\u001b[34m => [internal] load metadata for docker.io/arm64v8/ubuntu:latest           1.8s\n",
            "\u001b[0m\u001b[34m => [auth] arm64v8/ubuntu:pull token for registry-1.docker.io              0.0s\n",
            "\u001b[0m\u001b[34m => CACHED [1/1] FROM docker.io/arm64v8/ubuntu:latest@sha256:94d12db896d0  0.0s\n",
            "\u001b[0m\u001b[34m => exporting to image                                                     0.0s\n",
            "\u001b[0m\u001b[34m => => exporting layers                                                    0.0s\n",
            "\u001b[0m\u001b[34m => => writing image sha256:a9732c1988756dc8e836fd96e5c9512e349c97ea5af46  0.0s\n",
            "\u001b[0m\u001b[34m => => naming to docker.io/maximofn/multiarch:arm                          0.0s\n",
            "\u001b[0m\u001b[?25h"
          ]
        }
      ],
      "source": [
        "!cd docker_multi_arch && docker build -t maximofn/multiarch:arm -f Dockerfile_arm ."
      ]
    },
    {
      "cell_type": "markdown",
      "metadata": {},
      "source": [
        "Vamos ver se temos as duas imagens compiladas"
      ]
    },
    {
      "cell_type": "code",
      "execution_count": 32,
      "metadata": {},
      "outputs": [
        {
          "name": "stdout",
          "output_type": "stream",
          "text": [
            "REPOSITORY           TAG       IMAGE ID       CREATED       SIZE\n",
            "maximofn/multiarch   arm       a9732c198875   4 weeks ago   69.2MB\n",
            "maximofn/multiarch   amd64     5b612c83025f   6 weeks ago   72.8MB\n"
          ]
        }
      ],
      "source": [
        "!docker image ls"
      ]
    },
    {
      "cell_type": "markdown",
      "metadata": {},
      "source": [
        "Vemos que compilamos as duas imagens. Para poder criar um manifesto, primeiro temos que enviar as imagens para o Docker Hub, então as enviamos."
      ]
    },
    {
      "cell_type": "code",
      "execution_count": 10,
      "metadata": {},
      "outputs": [
        {
          "name": "stdout",
          "output_type": "stream",
          "text": [
            "The push refers to repository [docker.io/maximofn/multiarch]\n",
            "\n",
            "\u001b[1B82bdeb5f: Mounted from library/ubuntu amd64: digest: sha256:30e820f2a11a24ad4d8fb624ae485f7c1bcc299e8cfc72c88adce1acd0447e1d size: 529\n"
          ]
        }
      ],
      "source": [
        "!docker push maximofn/multiarch:amd64"
      ]
    },
    {
      "cell_type": "code",
      "execution_count": 34,
      "metadata": {},
      "outputs": [
        {
          "name": "stdout",
          "output_type": "stream",
          "text": [
            "The push refers to repository [docker.io/maximofn/multiarch]\n"
          ]
        },
        {
          "name": "stdout",
          "output_type": "stream",
          "text": [
            "\n",
            "\u001b[1Beda53374: Layer already exists arm: digest: sha256:6ec5a0752d49d3805061314147761bf25b5ff7430ce143adf34b70d4eda15fb8 size: 529\n"
          ]
        }
      ],
      "source": [
        "!docker push maximofn/multiarch:arm"
      ]
    },
    {
      "cell_type": "markdown",
      "metadata": {},
      "source": [
        "Se eu for ao meu Docker Hub posso ver que minha imagem `maximofn/multiarch` tem os tags `amd64` e `arm`\n",
        "\n",
        "![docker_multi_arch_tags](https://pub-fb664c455eca46a2ba762a065ac900f7.r2.dev/docker_multi_arch_tags.webp)"
      ]
    },
    {
      "cell_type": "markdown",
      "metadata": {},
      "source": [
        "Agora vamos a criar o `manifest` baseado nestas duas imagens"
      ]
    },
    {
      "cell_type": "code",
      "execution_count": 36,
      "metadata": {},
      "outputs": [
        {
          "name": "stdout",
          "output_type": "stream",
          "text": [
            "Created manifest list docker.io/maximofn/multiarch:latest\n"
          ]
        }
      ],
      "source": [
        "!docker manifest create maximofn/multiarch:latest maximofn/multiarch:amd64 maximofn/multiarch:arm"
      ]
    },
    {
      "cell_type": "markdown",
      "metadata": {},
      "source": [
        "Uma vez criado, temos que indicar as arquiteturas das CPUs a que corresponde cada uma."
      ]
    },
    {
      "cell_type": "code",
      "execution_count": 37,
      "metadata": {},
      "outputs": [],
      "source": [
        "!docker manifest annotate maximofn/multiarch:latest maximofn/multiarch:amd64 --os linux --arch amd64"
      ]
    },
    {
      "cell_type": "code",
      "execution_count": 38,
      "metadata": {},
      "outputs": [
        {
          "name": "stdout",
          "output_type": "stream",
          "text": [
            "manifest for image maximofn/multiarch:arm64 does not exist in maximofn/multiarch:latest\n"
          ]
        }
      ],
      "source": [
        "!docker manifest annotate maximofn/multiarch:latest maximofn/multiarch:arm64 --os linux --arch arm64"
      ]
    },
    {
      "cell_type": "markdown",
      "metadata": {},
      "source": [
        "Uma vez criado e anotado, podemos enviar o `manifest` para o Docker Hub"
      ]
    },
    {
      "cell_type": "code",
      "execution_count": 39,
      "metadata": {},
      "outputs": [
        {
          "name": "stdout",
          "output_type": "stream",
          "text": [
            "sha256:1ea28e9a04867fe0e0d8b0efa455ce8e4e29e7d9fd4531412b75dbd0325e9304\n"
          ]
        }
      ],
      "source": [
        "!docker manifest push maximofn/multiarch:latest"
      ]
    },
    {
      "cell_type": "markdown",
      "metadata": {},
      "source": [
        "Se eu olhar novamente os tags da minha imagem `maximofn/multiarch`, também vejo o de `latest`\n",
        "\n",
        "![docker_multi_arch_tags_manifest](https://pub-fb664c455eca46a2ba762a065ac900f7.r2.dev/docker_multi_arch_tags_manifest.webp)"
      ]
    },
    {
      "cell_type": "markdown",
      "metadata": {},
      "source": [
        "Agora, tanto se eu quiser usar minha imagem de uma máquina com CPU AMD64 ou CPU ARM ao fazer `FROM maximofn/multiarch:latest`, o Docker verificará a arquitetura da CPU e baixará o tag `amd64` ou o tag `arm`. Vamos ver isso, se do meu computador eu executar a imagem obtenho"
      ]
    },
    {
      "cell_type": "code",
      "execution_count": 29,
      "metadata": {},
      "outputs": [
        {
          "name": "stdout",
          "output_type": "stream",
          "text": [
            "Unable to find image 'maximofn/multiarch:latest' locally\n"
          ]
        },
        {
          "name": "stdout",
          "output_type": "stream",
          "text": [
            "latest: Pulling from maximofn/multiarch\n",
            "Digest: sha256:7cef0de10f7fa2b3b0dca0fbf398d1f48af17a0bbc5b9beca701d7c427c9fd84\n",
            "Status: Downloaded newer image for maximofn/multiarch:latest\n",
            "Hello from amd64\n"
          ]
        }
      ],
      "source": [
        "!docker run maximofn/multiarch:latest"
      ]
    },
    {
      "cell_type": "markdown",
      "metadata": {},
      "source": [
        "Como não a tem, baixa-a"
      ]
    },
    {
      "cell_type": "markdown",
      "metadata": {},
      "source": [
        "Se eu me conectar agora via ssh a uma Raspberry Pi e tentar o mesmo, obtenho\n",
        "\n",
        "```bash\n",
        "raspberrry@raspberrypi:~ $ docker run maximofn/multiarch:latest\n",
        "Impossível encontrar a imagem 'maximofn/multiarch:latest' localmente\n",
        "latest: Pulling from maximofn/multiarch\n",
        "Digesto: sha256:1ea28e9a04867fe0e0d8b0efa455ce8e4e29e7d9fd4531412b75dbd0325e9304\n",
        "Status: Baixada a imagem mais recente para maximofn/multiarch:latest\n",
        "Olá do ARM\n",
        "```\n",
        "\n",
        "Aparece `Hello from ARM` pois o Raspberry Pi possui um microprocessador com arquitetura ARM"
      ]
    },
    {
      "cell_type": "markdown",
      "metadata": {},
      "source": [
        "Como pode ser visto, cada máquina baixou a imagem de que precisava."
      ]
    },
    {
      "cell_type": "markdown",
      "metadata": {},
      "source": [
        "### Escrita correta de Dockerfiles avançados"
      ]
    },
    {
      "cell_type": "markdown",
      "metadata": {},
      "source": [
        "Já vimos a maneira de escrever Dockerfiles corretamente, mas há uma coisa a mais que podemos fazer agora que conhecemos o multi-stage build e é criar um contêiner para criar o executável e outro menor para executá-lo.\n",
        "\n",
        "Chegamos à conclusão de que um bom Dockerfile poderia ser este\n",
        "\n",
        "``` Dockerfile\n",
        "FROM python:3.9.18-alpine\n",
        "WORKDIR /sourceCode/sourceApp\n",
        "COPY ./sourceCode/sourceApp .\n",
        "CMD [\"python3\", \"app.py\"]\n",
        "```\n",
        "\n",
        "Vamos a criar agora um executável em um contêiner builder e em outro menor o executamos\n",
        "\n",
        "``` dockerfile\n",
        "FROM python:3.9.18-alpine como builder\n",
        "WORKDIR /sourceCode/sourceApp\n",
        "RUN apk add --no-cache gcc musl-dev libc-dev && pip install pyinstaller\n",
        "COPY ./sourceCode/sourceApp .\n",
        "RUN pyinstaller --onefile app.py\n",
        "\n",
        "DE alpine:3.18.3\n",
        "WORKDIR /sourceCode/sourceApp\n",
        "COPY --from=builder /sourceCode/sourceApp/dist/app .\n",
        "CMD [\"./app\"]\n",
        "```"
      ]
    },
    {
      "cell_type": "markdown",
      "metadata": {},
      "source": [
        "Criamos o código Python no caminho necessário"
      ]
    },
    {
      "cell_type": "code",
      "execution_count": 29,
      "metadata": {},
      "outputs": [],
      "source": [
        "!mkdir multistagebuild/sourceCode\n",
        "!mkdir multistagebuild/sourceCode/sourceApp\n",
        "!touch multistagebuild/sourceCode/sourceApp/app.py\n",
        "!echo 'print(\"Hello from Alpine!\")' > multistagebuild/sourceCode/sourceApp/app.py"
      ]
    },
    {
      "cell_type": "markdown",
      "metadata": {},
      "source": [
        "Agora compilando a imagem"
      ]
    },
    {
      "cell_type": "code",
      "execution_count": 30,
      "metadata": {},
      "outputs": [
        {
          "name": "stdout",
          "output_type": "stream",
          "text": [
            "\u001b[1A\u001b[1B\u001b[0G\u001b[?25l[+] Building 0.0s (0/0)                                          docker:default\n",
            "\u001b[?25h\u001b[1A\u001b[0G\u001b[?25l[+] Building 0.0s (0/1)                                          docker:default\n",
            "\u001b[?25h\u001b[1A\u001b[0G\u001b[?25l[+] Building 0.2s (3/5)                                          docker:default\n",
            "\u001b[34m => [internal] load build definition from Dockerfile                       0.1s\n",
            "\u001b[0m\u001b[34m => => transferring dockerfile: 357B                                       0.0s\n",
            "\u001b[0m\u001b[34m => [internal] load .dockerignore                                          0.1s\n",
            "\u001b[0m\u001b[34m => => transferring context: 2B                                            0.0s\n",
            "\u001b[0m => [internal] load metadata for docker.io/library/alpine:3.18.3           0.1s\n",
            " => [internal] load metadata for docker.io/library/python:3.9.18-alpine    0.1s\n",
            "\u001b[34m => [auth] library/alpine:pull token for registry-1.docker.io              0.0s\n",
            "\u001b[0m\u001b[?25h\u001b[1A\u001b[1A\u001b[1A\u001b[1A\u001b[1A\u001b[1A\u001b[1A\u001b[1A\u001b[0G\u001b[?25l[+] Building 0.3s (3/5)                                          docker:default\n",
            "\u001b[34m => [internal] load build definition from Dockerfile                       0.1s\n",
            "\u001b[0m\u001b[34m => => transferring dockerfile: 357B                                       0.0s\n",
            "\u001b[0m\u001b[34m => [internal] load .dockerignore                                          0.1s\n",
            "\u001b[0m\u001b[34m => => transferring context: 2B                                            0.0s\n",
            "\u001b[0m => [internal] load metadata for docker.io/library/alpine:3.18.3           0.2s\n",
            " => [internal] load metadata for docker.io/library/python:3.9.18-alpine    0.2s\n",
            "\u001b[34m => [auth] library/alpine:pull token for registry-1.docker.io              0.0s\n",
            "\u001b[0m\u001b[?25h\u001b[1A\u001b[1A\u001b[1A\u001b[1A\u001b[1A\u001b[1A\u001b[1A\u001b[1A\u001b[0G\u001b[?25l[+] Building 0.5s (4/6)                                          docker:default\n",
            "\u001b[34m => [internal] load build definition from Dockerfile                       0.1s\n",
            "\u001b[0m\u001b[34m => => transferring dockerfile: 357B                                       0.0s\n",
            "\u001b[0m\u001b[34m => [internal] load .dockerignore                                          0.1s\n",
            "\u001b[0m\u001b[34m => => transferring context: 2B                                            0.0s\n",
            "\u001b[0m => [internal] load metadata for docker.io/library/alpine:3.18.3           0.4s\n",
            "...\n",
            "\u001b[0m\u001b[34m => exporting to image                                                     0.1s\n",
            "\u001b[0m\u001b[34m => => exporting layers                                                    0.1s\n",
            "\u001b[0m\u001b[34m => => writing image sha256:8a22819145c6fee17e138e818610ccf46d7e13c786825  0.0s\n",
            "\u001b[0m\u001b[34m => => naming to docker.io/maximofn/multistagebuild:alpine-3.18.3          0.0s\n",
            "\u001b[0m\u001b[?25h"
          ]
        }
      ],
      "source": [
        "!docker build -t maximofn/multistagebuild:alpine-3.18.3 ./multistagebuild"
      ]
    },
    {
      "cell_type": "markdown",
      "metadata": {},
      "source": [
        "A executamos"
      ]
    },
    {
      "cell_type": "code",
      "execution_count": 31,
      "metadata": {},
      "outputs": [
        {
          "name": "stdout",
          "output_type": "stream",
          "text": [
            "Hello from Alpine!\n"
          ]
        }
      ],
      "source": [
        "!docker run --rm --name multi_stage_build maximofn/multistagebuild:alpine-3.18.3"
      ]
    },
    {
      "cell_type": "markdown",
      "metadata": {},
      "source": [
        "A imagem `maximofn/multistagebuild:alpine-3.18.3` só pesa 13,6 MB"
      ]
    },
    {
      "cell_type": "markdown",
      "metadata": {},
      "source": [
        "### Diferença entre RUN, CMD e ENTRYPOINT"
      ]
    },
    {
      "cell_type": "markdown",
      "metadata": {},
      "source": [
        "#### EXECUTAR"
      ]
    },
    {
      "cell_type": "markdown",
      "metadata": {},
      "source": [
        "O comando `RUN` é o mais simples, ele apenas executa um comando no momento da compilação da imagem. Por exemplo, se quisermos instalar um pacote na imagem, fazemos isso através do `RUN`.\n",
        "\n",
        "Portanto, é importante, `RUN` é executado no momento da compilação da imagem, não quando o contêiner é executado."
      ]
    },
    {
      "cell_type": "markdown",
      "metadata": {},
      "source": [
        "#### CMD"
      ]
    },
    {
      "cell_type": "markdown",
      "metadata": {},
      "source": [
        "O comando `CMD` é o comando que é executado quando o contêiner é iniciado. Por exemplo, se quisermos que o contêiner execute um comando ao ser iniciado, fazemos isso através do `CMD`. Por exemplo, se tivermos uma aplicação Python em um contêiner, com `CMD` podemos indicar que, quando o contêiner for iniciado, ele execute a aplicação Python.\n",
        "\n",
        "Desta forma, quando o contêiner for iniciado, a aplicação Python será executada. Isso significa que, se fizermos `docker run <image>`, a aplicação Python será executada. No entanto, `CMD` nos permite sobrescrever o comando que é executado ao iniciar o contêiner, por exemplo, se fizermos `docker run <image> bash`, o `bash` será executado em vez da aplicação Python."
      ]
    },
    {
      "cell_type": "markdown",
      "metadata": {},
      "source": [
        "#### ENTRYPOINT"
      ]
    },
    {
      "cell_type": "markdown",
      "metadata": {},
      "source": [
        "O comando `ENTRYPOINT` é similar ao comando `CMD`, mas com uma diferença: o `ENTRYPOINT` não está destinado a ser sobrescrito. Isso significa que, se tivermos uma aplicação Python em um contêiner, podemos usar `ENTRYPOINT` para indicar que, quando o contêiner for executado, ele execute a aplicação Python. No entanto, se fizermos `docker run <image> bash`, será executada a aplicação Python, não o `bash`.\n",
        "\n",
        "Um uso muito comum de `ENTRYPOINT` é quando queremos que o contêiner seja um executável, por exemplo, se quisermos que o contêiner seja um executável de uma versão do Python que não temos em nosso host, porque, por exemplo, queremos testar a nova versão do Python que foi lançada podemos fazer\n",
        "\n",
        "``` Dockerfile\n",
        "FROM python:3.9.18-alpine\n",
        "ENTRYPOINT [\"python3\"]\n",
        "```\n",
        "\n",
        "Desta forma, quando o contêiner for iniciado, o Python será executado. Isso significa que, se fizermos `docker run <image>`, o Python será executado. Mas `ENTRYPOINT` nos permite sobrescrever o comando que é executado ao iniciar o contêiner, por exemplo, se fizermos `docker run <image> myapp.py`, será executado `python3 myapp.py` dentro do contêiner. Assim podemos testar nossa aplicação Python na nova versão do Python."
      ]
    },
    {
      "cell_type": "markdown",
      "metadata": {},
      "source": [
        "### Mudanças em um contêiner"
      ]
    },
    {
      "cell_type": "markdown",
      "metadata": {},
      "source": [
        "Com `docker diff` podemos ver as diferenças entre o contêiner e a imagem, o que é o mesmo que a diferença no contêiner desde sua criação até agora.\n",
        "\n",
        "Vamos a executar um contêiner e dentro criamos um arquivo"
      ]
    },
    {
      "cell_type": "code",
      "execution_count": 1,
      "metadata": {},
      "outputs": [
        {
          "name": "stdout",
          "output_type": "stream",
          "text": [
            "root@895a19aef124:/# touch file.txt\n"
          ]
        }
      ],
      "source": [
        "!docker run --rm -it --name ubuntu-20.04 ubuntu:20.04 bash"
      ]
    },
    {
      "cell_type": "markdown",
      "metadata": {},
      "source": [
        "Agora podemos ver a diferença"
      ]
    },
    {
      "cell_type": "code",
      "execution_count": 2,
      "metadata": {},
      "outputs": [
        {
          "name": "stdout",
          "output_type": "stream",
          "text": [
            "C /root\n",
            "A /root/.bash_history\n",
            "A /file.txt\n"
          ]
        }
      ],
      "source": [
        "!docker diff ubuntu-20.04"
      ]
    },
    {
      "cell_type": "markdown",
      "metadata": {},
      "source": [
        "`A` significa que foi adicionado, `C` significa que foi alterado e `D` significa que foi excluído."
      ]
    },
    {
      "cell_type": "markdown",
      "metadata": {},
      "source": [
        "### Docker no Docker"
      ]
    },
    {
      "cell_type": "markdown",
      "metadata": {},
      "source": [
        "Suponhamos que temos contêineres que precisam iniciar ou desligar outros contêineres. Isso é feito da seguinte maneira\n",
        "\n",
        "Dado que no Linux tudo é um arquivo e o host se comunica com o Docker por meio de um socket. Portanto, para o Linux, esse socket é um arquivo. Então, se montarmos esse socket como um arquivo no contêiner, ele poderá se comunicar com o Docker."
      ]
    },
    {
      "cell_type": "markdown",
      "metadata": {},
      "source": [
        "Primeiro vamos a montar um contêiner com Ubuntu"
      ]
    },
    {
      "cell_type": "code",
      "execution_count": 1,
      "metadata": {},
      "outputs": [
        {
          "name": "stdout",
          "output_type": "stream",
          "text": [
            "144091e4a3325c9068064ff438f8865b40f944af5ce649c7156ca55a3453e423\n"
          ]
        }
      ],
      "source": [
        "!docker run -d --name ubuntu ubuntu:latest tail -f /dev/null"
      ]
    },
    {
      "cell_type": "markdown",
      "metadata": {},
      "source": [
        "Vamos a montar o contêiner que vai poder se comunicar com o Docker montando a pasta `/var/run/docker.sock`\n",
        "\n",
        "``` bash\n",
        "$ docker run -it --rm --name main -v /var/run/docker.sock:/var/run/docker.sock docker:19.03.12\n",
        "/ #\n",
        "```\n",
        "\n",
        "Entramos em um contêiner, e se executarmos `docker ps` dentro dele\n",
        "\n",
        "``` bash\n",
        "# docker ps\n",
        "ID DO CONTÊINER     IMAGEM              COMANDO                  CRIADO              STATUS              PORTAS              NOMES\n",
        "9afb778d6c20        docker:19.03.12     \"docker-entrypoint.s…\"   3 segundos atrás    Up 2 segundos                            main\n",
        "144091e4a332        ubuntu:latest       \"tail -f /dev/null\"      19 segundos atrás   Up 18 segundos                          ubuntu\n",
        "```\n",
        "\n",
        "Como podemos ver, dentro do Docker podemos ver os contêineres do host"
      ]
    },
    {
      "cell_type": "markdown",
      "metadata": {},
      "source": [
        "Podemos executar um novo contêiner\n",
        "\n",
        "``` bash\n",
        "# docker run -d --name ubuntu_from_main ubuntu:latest tail -f /dev/null\n",
        "362654a72bb0fb047c13968707a6f16b87fed7ce051eb5c1a146b15828589a1a\n",
        "/ #\n",
        "```\n",
        "\n",
        "E se voltarmos a ver os contêineres\n",
        "\n",
        "``` bash\n",
        "# docker ps\n",
        "ID DO CONTAINER     IMAGEM              COMANDO                  CRIADO               STATUS              PORTAS              NOMES\n",
        "362654a72bb0        ubuntu:latest       \"tail -f /dev/null\"      3 segundos atrás     Up 3 segundos                            ubuntu_from_main\n",
        "9afb778d6c20        docker:19.03.12     \"docker-entrypoint.s…\"   Há um minuto         Up Há um minuto                           main\n",
        "144091e4a332        ubuntu:latest       \"tail -f /dev/null\"      2 minutos atrás      Up Há cerca de um minuto                       ubuntu\n",
        "```\n",
        "\n",
        "Mas se agora executarmos uma nova terminal do host, veremos o contêiner criado a partir de dentro do contêiner"
      ]
    },
    {
      "cell_type": "code",
      "execution_count": 4,
      "metadata": {},
      "outputs": [
        {
          "name": "stdout",
          "output_type": "stream",
          "text": [
            "CONTAINER ID   IMAGE             COMMAND                  CREATED              STATUS              PORTS     NAMES\n",
            "362654a72bb0   ubuntu:latest     \"tail -f /dev/null\"      About a minute ago   Up About a minute             ubuntu_from_main\n",
            "9afb778d6c20   docker:19.03.12   \"docker-entrypoint.s…\"   3 minutes ago        Up 3 minutes                  main\n",
            "144091e4a332   ubuntu:latest     \"tail -f /dev/null\"      3 minutes ago        Up 3 minutes                  ubuntu\n"
          ]
        }
      ],
      "source": [
        "!docker ps"
      ]
    },
    {
      "cell_type": "markdown",
      "metadata": {},
      "source": [
        "Tudo o que fizermos a partir do contêiner `main` será refletido no host"
      ]
    },
    {
      "cell_type": "markdown",
      "metadata": {},
      "source": [
        "Isso tem a vantagem de podermos instalar programas em um contêiner que tem acesso ao host para não ter que instalá-los no host. Por exemplo, [dive](https://github.com/wagoodman/dive) é uma ferramenta para explorar contêineres, mas se você não quiser instalá-la no host, pode instalá-la em um contêiner com acesso ao host, assim, a partir desse contêiner `main`, você pode explorar o resto dos contêineres sem ter que instalá-la no host."
      ]
    }
  ],
  "metadata": {
    "kernelspec": {
      "display_name": "Python 3.7.6 ('base')",
      "language": "python",
      "name": "python3"
    },
    "language_info": {
      "codemirror_mode": {
        "name": "ipython",
        "version": 3
      },
      "file_extension": ".py",
      "mimetype": "text/x-python",
      "name": "python",
      "nbconvert_exporter": "python",
      "pygments_lexer": "ipython3",
      "version": "3.10.9"
    },
    "maximofn": {
      "date": "2023-01-22",
      "description_en": "🐳 Create as many development environments as you want with Docker. No more On my machine it works",
      "description_es": "🐳 Crea todos los entornos de desarrollo que quieras con Docker. Ya no más En mi máquina funciona",
      "description_pt": "🐳 Crie quantos ambientes de desenvolvimento você quiser com o Docker. Chega de Funciona na minha máquina",
      "end_url": "docker",
      "image": "https://pub-fb664c455eca46a2ba762a065ac900f7.r2.dev/docker.webp",
      "image_hover_path": "https://pub-fb664c455eca46a2ba762a065ac900f7.r2.dev/docker.webp",
      "keywords_en": "docker, tutorial, development, environments",
      "keywords_es": "docker, tutorial, desarrollo, entornos",
      "keywords_pt": "docker, tutorial, desenvolvimento, ambientes",
      "title_en": "Docker",
      "title_es": "Docker",
      "title_pt": "Docker"
    },
    "orig_nbformat": 4,
    "vscode": {
      "interpreter": {
        "hash": "d5745ab6aba164e1152437c779991855725055592b9f2bdb41a4825db7168d26"
      }
    }
  },
  "nbformat": 4,
  "nbformat_minor": 2
}
