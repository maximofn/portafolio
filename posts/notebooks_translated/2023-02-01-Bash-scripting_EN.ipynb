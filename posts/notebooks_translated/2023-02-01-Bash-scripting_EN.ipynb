{
  "cells": [
    {
      "attachments": {},
      "cell_type": "markdown",
      "metadata": {},
      "source": [
        "# Bash scripting"
      ]
    },
    {
      "attachments": {},
      "cell_type": "markdown",
      "metadata": {},
      "source": [
        " > Disclaimer: This post has been translated to English using a machine translation model. Please, let me know if you find any mistakes."
      ]
    },
    {
      "attachments": {},
      "cell_type": "markdown",
      "metadata": {},
      "source": [
        "## Folder with scripts"
      ]
    },
    {
      "attachments": {},
      "cell_type": "markdown",
      "metadata": {},
      "source": [
        "To create this post, we are going to create a folder where we will save all the scripts"
      ]
    },
    {
      "cell_type": "code",
      "execution_count": 2,
      "metadata": {},
      "outputs": [],
      "source": [
        "!mkdir scripts_bash"
      ]
    },
    {
      "attachments": {},
      "cell_type": "markdown",
      "metadata": {},
      "source": [
        "## First script"
      ]
    },
    {
      "attachments": {},
      "cell_type": "markdown",
      "metadata": {},
      "source": [
        "### Execution binary specification"
      ]
    },
    {
      "attachments": {},
      "cell_type": "markdown",
      "metadata": {},
      "source": [
        "In Linux, you can specify which program to use to execute a file by putting `#!<binary path>` on the first line, for example, if we create a `.py` file, we can indicate that it should be executed with Python by putting `#!/usr/bin/python3` on the first line. In our case, since we are creating a terminal script, we put `#!/bin/bash` on the first line.",
        "\n",
        "If execution permissions are given to the file, it can be executed directly without specifying the program with which it should be run. That is, the `.py` no longer needs to be executed via `python script.py`, but can be executed via `./script.py`. In our case, instead of running the file using `bash script.sh`, we can run it using `./script.sh`."
      ]
    },
    {
      "attachments": {},
      "cell_type": "markdown",
      "metadata": {},
      "source": [
        "### Comments in bash scripts"
      ]
    },
    {
      "attachments": {},
      "cell_type": "markdown",
      "metadata": {},
      "source": [
        "If we want to introduce a comment, it would be enough to start the line with `#`.",
        "\n",
        "``` bash\n",
        "# This is a single-line comment",
        "```\n",
        "\n",
        "If we want to introduce several lines of comments, we have to start with `:#` and end with `#`",
        "\n",
        "``` bash\n",
        ": '",
        "This is a multi-line comment",
        "that extends across multiple lines.",
        "''",
        "```"
      ]
    },
    {
      "attachments": {},
      "cell_type": "markdown",
      "metadata": {},
      "source": [
        "### Printing to the screen with the `echo` command"
      ]
    },
    {
      "attachments": {},
      "cell_type": "markdown",
      "metadata": {},
      "source": [
        "If we want to print to the screen, we use the `echo` command followed by what we want to print."
      ]
    },
    {
      "cell_type": "code",
      "execution_count": 2,
      "metadata": {},
      "outputs": [
        {
          "name": "stdout",
          "output_type": "stream",
          "text": [
            "Writing scripts_bash/01_primerScript.sh\n"
          ]
        }
      ],
      "source": [
        "%%writefile scripts_bash/01_primerScript.sh\n",
        "#!/bin/bash\n",
        "# Comentario de una sola linea\n",
        ": '\n",
        "Comentario de varias\n",
        "lineas\n",
        "'\n",
        "echo \"Hola mundo\""
      ]
    },
    {
      "attachments": {},
      "cell_type": "markdown",
      "metadata": {},
      "source": [
        "We give execution permissions and run the script"
      ]
    },
    {
      "cell_type": "code",
      "execution_count": 3,
      "metadata": {},
      "outputs": [
        {
          "name": "stdout",
          "output_type": "stream",
          "text": [
            "Hola mundo\n"
          ]
        }
      ],
      "source": [
        "!chmod +x scripts_bash/01_primerScript.sh && ./scripts_bash/01_primerScript.sh"
      ]
    },
    {
      "attachments": {},
      "cell_type": "markdown",
      "metadata": {},
      "source": [
        "## Variable declaration"
      ]
    },
    {
      "attachments": {},
      "cell_type": "markdown",
      "metadata": {},
      "source": [
        "There are two types of variables: `user variables` and `environment variables`"
      ]
    },
    {
      "attachments": {},
      "cell_type": "markdown",
      "metadata": {},
      "source": [
        "To create a variable, it is enough to declare it by entering the name we want, followed by `=` and the value.",
        "\n",
        "To print the value of a variable with `echo`, you have to reference it using `$<variable name>`",
        "\n",
        "``` bash\n",
        "echo \"Variable = $<variable name>\"",
        "```"
      ]
    },
    {
      "cell_type": "code",
      "execution_count": 6,
      "metadata": {},
      "outputs": [
        {
          "name": "stdout",
          "output_type": "stream",
          "text": [
            "Writing scripts_bash/02_variables.sh\n"
          ]
        }
      ],
      "source": [
        "%%writefile scripts_bash/02_variables.sh\n",
        "#!/bin/bash\n",
        "opcion=1\n",
        "nombre=\"Juan\"\n",
        "\n",
        "echo \"Opcion: $opcion\"\n",
        "echo \"Nombre: $nombre\""
      ]
    },
    {
      "cell_type": "code",
      "execution_count": 7,
      "metadata": {},
      "outputs": [
        {
          "name": "stdout",
          "output_type": "stream",
          "text": [
            "Opcion: 1\n",
            "Nombre: Juan\n"
          ]
        }
      ],
      "source": [
        "!chmod +x scripts_bash/02_variables.sh && ./scripts_bash/02_variables.sh"
      ]
    },
    {
      "attachments": {},
      "cell_type": "markdown",
      "metadata": {},
      "source": [
        "Scope of variables"
      ]
    },
    {
      "attachments": {},
      "cell_type": "markdown",
      "metadata": {},
      "source": [
        "Variables created are only accessible from the script, that is, their scope is within the script."
      ]
    },
    {
      "attachments": {},
      "cell_type": "markdown",
      "metadata": {},
      "source": [
        "#### Exporting Variables"
      ]
    },
    {
      "attachments": {},
      "cell_type": "markdown",
      "metadata": {},
      "source": [
        "We can export variables so that they are accessible by other scripts. To do this, we first export the variable using the `export` command and then run, within the script, the second script to which we want to pass the variable."
      ]
    },
    {
      "cell_type": "code",
      "execution_count": 29,
      "metadata": {},
      "outputs": [
        {
          "name": "stdout",
          "output_type": "stream",
          "text": [
            "Overwriting scripts_bash/02_variables.sh\n"
          ]
        }
      ],
      "source": [
        "%%writefile scripts_bash/02_variables.sh\n",
        "#!/bin/bash\n",
        "opcion=1\n",
        "nombre=\"Juan\"\n",
        "\n",
        "echo \"Opcion: $opcion\"\n",
        "echo \"Nombre: $nombre\"\n",
        "\n",
        "# Exportar variable nombre\n",
        "echo \"export nombre=$nombre\"\n",
        "export nombre\n",
        "\n",
        "# Ejecutar script de importacion\n",
        "echo \"\"\n",
        "echo \"Ejecutando script de importacion\"\n",
        "./scripts_bash/02_variables_importacion.sh"
      ]
    },
    {
      "cell_type": "code",
      "execution_count": 30,
      "metadata": {},
      "outputs": [
        {
          "name": "stdout",
          "output_type": "stream",
          "text": [
            "Writing scripts_bash/02_variables_importacion.sh\n"
          ]
        }
      ],
      "source": [
        "%%writefile scripts_bash/02_variables_importacion.sh\n",
        "#!/bin/bash\n",
        "echo \"Nombre importado: $nombre\""
      ]
    },
    {
      "cell_type": "code",
      "execution_count": 32,
      "metadata": {},
      "outputs": [
        {
          "name": "stdout",
          "output_type": "stream",
          "text": [
            "Opcion: 1\n",
            "Nombre: Juan\n",
            "export nombre=Juan\n",
            "\n",
            "Ejecutando script de importacion\n",
            "Nombre importado: Juan\n"
          ]
        }
      ],
      "source": [
        "!chmod +x scripts_bash/02_variables.sh && chmod +x scripts_bash/02_variables_importacion.sh && ./scripts_bash/02_variables.sh"
      ]
    },
    {
      "attachments": {},
      "cell_type": "markdown",
      "metadata": {},
      "source": [
        "The second script has to be executed within the first script. If we now run the second script, we don't have the variable"
      ]
    },
    {
      "cell_type": "code",
      "execution_count": 33,
      "metadata": {},
      "outputs": [
        {
          "name": "stdout",
          "output_type": "stream",
          "text": [
            "Nombre importado: \n"
          ]
        }
      ],
      "source": [
        "!chmod +x scripts_bash/02_variables_importacion.sh && ./scripts_bash/02_variables_importacion.sh"
      ]
    },
    {
      "attachments": {},
      "cell_type": "markdown",
      "metadata": {},
      "source": [
        "If we want it to be accessible from any second script, without having to run it inside the first script, we need to export the variable to an environment variable."
      ]
    },
    {
      "attachments": {},
      "cell_type": "markdown",
      "metadata": {},
      "source": [
        "## Types of operators"
      ]
    },
    {
      "attachments": {},
      "cell_type": "markdown",
      "metadata": {},
      "source": [
        "Below, we show all possible operators"
      ]
    },
    {
      "cell_type": "code",
      "execution_count": 38,
      "metadata": {},
      "outputs": [
        {
          "name": "stdout",
          "output_type": "stream",
          "text": [
            "Overwriting scripts_bash/03_operadores.sh\n"
          ]
        }
      ],
      "source": [
        "%%writefile scripts_bash/03_operadores.sh\n",
        "#!/bin/bash\n",
        "\n",
        "# Asignaci\u00f3n de variables\n",
        "x=10\n",
        "y=20\n",
        "echo \"x = $x\"\n",
        "echo \"y = $y\"\n",
        "\n",
        "# Operadores aritm\u00e9ticos\n",
        "echo \"\"\n",
        "echo \"Operadores aritm\u00e9ticos\"\n",
        "echo \"x + y = $((x + y))\"\n",
        "echo \"x - y = $((x - y))\"\n",
        "echo \"x * y = $((x * y))\"\n",
        "echo \"x / y = $((x / y))\"\n",
        "echo \"x % y = $((x % y))\"\n",
        "\n",
        "# Operadores de comparaci\u00f3n\n",
        "echo \"\"\n",
        "echo \"Operadores de comparaci\u00f3n\"\n",
        "if [ \"$x\" -eq \"$y\" ]; then\n",
        "  echo \"x es igual a y\"\n",
        "else\n",
        "  echo \"x no es igual a y\"\n",
        "fi\n",
        "\n",
        "if [ \"$x\" -ne \"$y\" ]; then\n",
        "  echo \"x no es igual a y\"\n",
        "else\n",
        "  echo \"x es igual a y\"\n",
        "fi\n",
        "\n",
        "if [ \"$x\" -lt \"$y\" ]; then\n",
        "  echo \"x es menor que y\"\n",
        "else\n",
        "  echo \"x no es menor que y\"\n",
        "fi\n",
        "\n",
        "if [ \"$x\" -gt \"$y\" ]; then\n",
        "  echo \"x es mayor que y\"\n",
        "else\n",
        "  echo \"x no es mayor que y\"\n",
        "fi\n",
        "\n",
        "# Operadores de cadena\n",
        "echo \"\"\n",
        "echo \"Operadores de cadena\"\n",
        "if [ \"$a\" = \"$b\" ]; then\n",
        "  echo \"a es igual a b\"\n",
        "else\n",
        "  echo \"a no es igual a b\"\n",
        "fi\n",
        "\n",
        "if [ \"$a\" != \"$b\" ]; then\n",
        "  echo \"a no es igual a b\"\n",
        "else\n",
        "  echo \"a es igual a b\"\n",
        "fi\n",
        "\n",
        "if [ -z \"$a\" ]; then\n",
        "  echo \"a es una cadena vac\u00eda\"\n",
        "else\n",
        "  echo \"a no es una cadena vac\u00eda\"\n",
        "fi\n",
        "\n",
        "if [ -n \"$a\" ]; then\n",
        "  echo \"a no es una cadena vac\u00eda\"\n",
        "else\n",
        "  echo \"a es una cadena vac\u00eda\"\n",
        "fi\n",
        "\n",
        "# Operadores de archivo\n",
        "echo \"\"\n",
        "echo \"Operadores de archivo\"\n",
        "if [ -e \"/path/to/file\" ]; then\n",
        "  echo \"El archivo existe\"\n",
        "else\n",
        "  echo \"El archivo no existe\"\n",
        "fi\n",
        "\n",
        "if [ -f \"/path/to/file\" ]; then\n",
        "  echo \"Es un archivo regular\"\n",
        "else\n",
        "  echo \"No es un archivo regular\"\n",
        "fi\n",
        "\n",
        "if [ -d \"/path/to/dir\" ]; then\n",
        "  echo \"Es un directorio\"\n",
        "else\n",
        "  echo \"No es un directorio\"\n",
        "fi\n"
      ]
    },
    {
      "cell_type": "code",
      "execution_count": 39,
      "metadata": {},
      "outputs": [
        {
          "name": "stdout",
          "output_type": "stream",
          "text": [
            "x = 10\n",
            "y = 20\n",
            "\n",
            "Operadores aritm\u00e9ticos\n",
            "x + y = 30\n",
            "x - y = -10\n",
            "x * y = 200\n",
            "x / y = 0\n",
            "x % y = 10\n",
            "\n",
            "Operadores de comparaci\u00f3n\n",
            "x no es igual a y\n",
            "x no es igual a y\n",
            "x es menor que y\n",
            "x no es mayor que y\n",
            "\n",
            "Operadores de cadena\n",
            "a es igual a b\n",
            "a es igual a b\n",
            "a es una cadena vac\u00eda\n",
            "a es una cadena vac\u00eda\n",
            "\n",
            "Operadores de archivo\n",
            "El archivo no existe\n",
            "No es un archivo regular\n",
            "No es un directorio\n"
          ]
        }
      ],
      "source": [
        "!chmod +x scripts_bash/03_operadores.sh && ./scripts_bash/03_operadores.sh"
      ]
    },
    {
      "attachments": {},
      "cell_type": "markdown",
      "metadata": {},
      "source": [
        "## Passing Arguments"
      ]
    },
    {
      "attachments": {},
      "cell_type": "markdown",
      "metadata": {},
      "source": [
        "Arguments can be passed to scripts, once inside the script we can use them in the following way",
        "\n",
        "* By argument number: in this case they will be named as `$1`, `$2`, etc. But if the number of arguments is greater than 9, that is, more than 2 digits are needed to name it, in that case the number will be identified within braces, `${1}`, `${2}`, ..., ${10}, ${11}, etc",
        "* If we refer to the argument `$0` we are getting the name of the file",
        "* If we want all the arguments, we do it through `$*`",
        "* If what we want is the number of arguments we have, we get it through `$#`",
        "* If we want to know the exit status of the last command, we can do so using `$?`",
        "* If we want to know the `PID` of the script, we can find it using `$$`",
        "* We can replace the value of a string in an argument using `${<argument index>/string to be replaced/new string}`, meaning that if we have `${1/hola/hello}` it will replace the word `hola` with the word `hello` in argument 1",
        "* However, if we use `${<argument index>/#string to be replaced/new string}`, it will only replace the string in the argument if the argument starts with that string."
      ]
    },
    {
      "cell_type": "code",
      "execution_count": 8,
      "metadata": {},
      "outputs": [
        {
          "name": "stdout",
          "output_type": "stream",
          "text": [
            "Overwriting scripts_bash/04_argumentos.sh\n"
          ]
        }
      ],
      "source": [
        "%%writefile scripts_bash/04_argumentos.sh\n",
        "#!/bin/bash\n",
        "\n",
        "# Pasos de argumentos simples\n",
        "echo \"Primer argumento: $1\"\n",
        "echo \"Segundo argumento: $2\"\n",
        "echo \"Tercer argumento: $3\"\n",
        "\n",
        "# Accediendo a todos los argumentos\n",
        "echo \"Todos los argumentos: $*\"\n",
        "\n",
        "# Accediendo al n\u00famero de argumentos\n",
        "echo \"N\u00famero de argumentos: $#\"\n",
        "\n",
        "# Accediendo al nombre del script\n",
        "echo \"Nombre del script: $0\"\n",
        "\n",
        "# Accediendo al c\u00f3digo de salida del \u00faltimo comando ejecutado\n",
        "echo \"C\u00f3digo de salida del \u00faltimo comando: $?\"\n",
        "\n",
        "# Accediendo al PID del script\n",
        "echo \"PID del script: $$\"\n",
        "\n",
        "# Accediendo a los argumentos con \u00edndices\n",
        "echo \"Argumento 3: ${3}\"\n",
        "echo \"Argumento 2: ${2}\"\n",
        "\n",
        "# Accediendo a los argumentos con \u00edndices y longitud m\u00e1xima\n",
        "echo \"Argumento 3 con longitud m\u00e1xima de 2 caracteres: ${3:0:2}\"\n",
        "echo \"Argumento 2 con longitud m\u00e1xima de 3 caracteres: ${2:0:3}\"\n",
        "\n",
        "# Reemplazando argumentos con \u00edndices y longitud m\u00e1xima\n",
        "echo \"Reemplazando argumento 3: ${3/arg/ARG}\"\n",
        "echo \"Reemplazando argumento 2: $                                                                                                                                                                                                                                                                                                                                                                                                                                                                                                                                                                                                                                                                                                                                                                                                                                                                                                                                                                                                                                                                                                                                                                                                                                                                                                                                                                                                                                                                                                                                                                                                                                                                                                                                                                                                                                                                                                                                                                                                                                                                                                                                                                                                                                                                                                                                                                                                                                                                                                                                                                                                                                                                                                                                                                                                                                                                                                                                                                                                                                                                                                                                                                                                                                                                                                                                                                                                                                                                                                                                                                                                                                                                                                                                                                                                                                                                                                                                                                                                                                                                                                                                                                                                                   {2/arg/ARG}\"\n",
        "\n",
        "# Accediendo a los argumentos con \u00edndices y patrones de reemplazo\n",
        "echo \"Reemplazando patr\u00f3n en argumento 3: ${3/#tercer/TERCER}\"\n",
        "echo \"Reemplazando patr\u00f3n en argumento 2: ${2/#arg/ARG}\""
      ]
    },
    {
      "cell_type": "code",
      "execution_count": 6,
      "metadata": {},
      "outputs": [
        {
          "name": "stdout",
          "output_type": "stream",
          "text": [
            "Primer argumento: primer argumento\n",
            "Segundo argumento: segundo argumento\n",
            "Tercer argumento: tercer argumento\n",
            "Todos los argumentos: primer argumento segundo argumento tercer argumento\n",
            "N\u00famero de argumentos: 3\n",
            "Nombre del script: ./scripts_bash/04_argumentos.sh\n",
            "C\u00f3digo de salida del \u00faltimo comando: 0\n",
            "PID del script: 11644\n",
            "Argumento 3: tercer argumento\n",
            "Argumento 2: segundo argumento\n",
            "Argumento 3 con longitud m\u00e1xima de 2 caracteres: te\n",
            "Argumento 2 con longitud m\u00e1xima de 3 caracteres: seg\n",
            "Reemplazando argumento 3: tercer ARGumento\n",
            "Reemplazando argumento 2: segundo ARGumento\n",
            "Reemplazando patr\u00f3n en argumento 3: tercer argumento\n",
            "Reemplazando patr\u00f3n en argumento 2: segundo argumento\n"
          ]
        }
      ],
      "source": [
        "!arg1=\"primer argumento\" && arg2=\"segundo argumento\" && arg3=\"tercer argumento\" && chmod +x scripts_bash/04_argumentos.sh && ./scripts_bash/04_argumentos.sh \"$arg1\" \"$arg2\" \"$arg3\""
      ]
    },
    {
      "attachments": {},
      "cell_type": "markdown",
      "metadata": {},
      "source": [
        "## Running commands and saving them to a variable"
      ]
    },
    {
      "attachments": {},
      "cell_type": "markdown",
      "metadata": {},
      "source": [
        "We have two ways to run a command and save its output to a variable",
        "* By using `variable=command`",
        "* By using `variable=$(command)`"
      ]
    },
    {
      "cell_type": "code",
      "execution_count": 23,
      "metadata": {},
      "outputs": [
        {
          "name": "stdout",
          "output_type": "stream",
          "text": [
            "Overwriting scripts_bash/05_variables_comandos.sh\n"
          ]
        }
      ],
      "source": [
        "%%writefile scripts_bash/05_variables_comandos.sh\n",
        "#!/bin/bash\n",
        "\n",
        "path=$(pwd)\n",
        "infokernel=`uname -a`\n",
        "\n",
        "echo \"El directorio actual es: $path\"\n",
        "echo \"La informaci\u00f3n del kernel es: $infokernel\""
      ]
    },
    {
      "cell_type": "code",
      "execution_count": 24,
      "metadata": {},
      "outputs": [
        {
          "name": "stdout",
          "output_type": "stream",
          "text": [
            "El directorio actual es: /home/wallabot/Documentos/web/portafolio/posts\n",
            "La informaci\u00f3n del kernel es: Linux wallabot 5.15.0-57-generic #63~20.04.1-Ubuntu SMP Wed Nov 30 13:40:16 UTC 2022 x86_64 x86_64 x86_64 GNU/Linux\n"
          ]
        }
      ],
      "source": [
        "!chmod +x scripts_bash/05_variables_comandos.sh && ./scripts_bash/05_variables_comandos.sh"
      ]
    },
    {
      "attachments": {},
      "cell_type": "markdown",
      "metadata": {},
      "source": [
        "## Debugging"
      ]
    },
    {
      "attachments": {},
      "cell_type": "markdown",
      "metadata": {},
      "source": [
        "There are two ways to debug in bash scripting",
        "* Using `-v`: Detailed execution of a script line by line",
        "* Using `-x`: Script information display"
      ]
    },
    {
      "cell_type": "code",
      "execution_count": 25,
      "metadata": {},
      "outputs": [
        {
          "name": "stdout",
          "output_type": "stream",
          "text": [
            "#!/bin/bash\n",
            "\n",
            "path=$(pwd)\n",
            "infokernel=`uname -a`\n",
            "\n",
            "echo \"El directorio actual es: $path\"\n",
            "El directorio actual es: /home/wallabot/Documentos/web/portafolio/posts\n",
            "echo \"La informaci\u00f3n del kernel es: $infokernel\"\n",
            "La informaci\u00f3n del kernel es: Linux wallabot 5.15.0-57-generic #63~20.04.1-Ubuntu SMP Wed Nov 30 13:40:16 UTC 2022 x86_64 x86_64 x86_64 GNU/Linux\n"
          ]
        }
      ],
      "source": [
        "!bash -v scripts_bash/05_variables_comandos.sh"
      ]
    },
    {
      "cell_type": "code",
      "execution_count": 26,
      "metadata": {},
      "outputs": [
        {
          "name": "stdout",
          "output_type": "stream",
          "text": [
            "++ pwd\n",
            "+ path=/home/wallabot/Documentos/web/portafolio/posts\n",
            "++ uname -a\n",
            "+ infokernel='Linux wallabot 5.15.0-57-generic #63~20.04.1-Ubuntu SMP Wed Nov 30 13:40:16 UTC 2022 x86_64 x86_64 x86_64 GNU/Linux'\n",
            "+ echo 'El directorio actual es: /home/wallabot/Documentos/web/portafolio/posts'\n",
            "El directorio actual es: /home/wallabot/Documentos/web/portafolio/posts\n",
            "+ echo 'La informaci\u00f3n del kernel es: Linux wallabot 5.15.0-57-generic #63~20.04.1-Ubuntu SMP Wed Nov 30 13:40:16 UTC 2022 x86_64 x86_64 x86_64 GNU/Linux'\n",
            "La informaci\u00f3n del kernel es: Linux wallabot 5.15.0-57-generic #63~20.04.1-Ubuntu SMP Wed Nov 30 13:40:16 UTC 2022 x86_64 x86_64 x86_64 GNU/Linux\n"
          ]
        }
      ],
      "source": [
        "!bash -x scripts_bash/05_variables_comandos.sh"
      ]
    },
    {
      "attachments": {},
      "cell_type": "markdown",
      "metadata": {},
      "source": [
        "## Get user information"
      ]
    },
    {
      "attachments": {},
      "cell_type": "markdown",
      "metadata": {},
      "source": [
        "### Getting Information Using the `echo` and `read` Commands"
      ]
    },
    {
      "attachments": {},
      "cell_type": "markdown",
      "metadata": {},
      "source": [
        "We have three ways to get user information",
        "* Using the command `echo -n`. With the `-n` flag we indicate that we do not want a newline to be printed at the end of the `echo`. For example, `echo -n \"Enter data: \"`, with this command we ask for input and the cursor will remain on the same line, there will be no newline.",
        "* Using the `read` command. With this command, the program will wait for the user to enter data, ending with a newline. What the user enters will be stored in the variable `REPLY`. If you want the variable where the user's input is stored to have a different name, you should use `read [variable]`, for example, the command `read myVariable` will store the user's input in the variable `myVariable`.",
        "* By using the command `$REPLY` or `$(variable)` we access the data entered by the user."
      ]
    },
    {
      "cell_type": "code",
      "execution_count": 51,
      "metadata": {},
      "outputs": [
        {
          "name": "stdout",
          "output_type": "stream",
          "text": [
            "Overwriting scripts_bash/06_leer_informacion.sh\n"
          ]
        }
      ],
      "source": [
        "%%writefile scripts_bash/06_leer_informacion.sh\n",
        "#!/bin/bash\n",
        "\n",
        "option=0\n",
        "backupName=\"\"\n",
        "\n",
        "echo \"Programa de utilidades\"\n",
        "echo -n \"Ingresar una opci\u00f3n: \"\n",
        "read\n",
        "option=$REPLY\n",
        "echo \"\"\n",
        "echo -n \"Ingresar un nombre: \"\n",
        "read backupName\n",
        "echo \"\"\n",
        "echo \"Opci\u00f3n: $option, backupName: $backupName\"\n"
      ]
    },
    {
      "attachments": {},
      "cell_type": "markdown",
      "metadata": {},
      "source": [
        "As in a Jupyter notebook I can't feed the data as it asks for it, I feed it beforehand in a pipe `|`"
      ]
    },
    {
      "cell_type": "code",
      "execution_count": 52,
      "metadata": {},
      "outputs": [
        {
          "name": "stdout",
          "output_type": "stream",
          "text": [
            "Programa de utilidades\n",
            "Ingresar una opci\u00f3n: \n",
            "Ingresar un nombre: \n",
            "Opci\u00f3n: 1, backupName: nombreprueba\n"
          ]
        }
      ],
      "source": [
        "!chmod +x scripts_bash/06_leer_informacion.sh && echo \"1\\nnombreprueba\" | ./scripts_bash/06_leer_informacion.sh"
      ]
    },
    {
      "attachments": {},
      "cell_type": "markdown",
      "metadata": {},
      "source": [
        "### Get information only using the `read` command"
      ]
    },
    {
      "attachments": {},
      "cell_type": "markdown",
      "metadata": {},
      "source": [
        "Another way to get information is to use only the `read` command, the syntax would be",
        "\n",
        "``` bash\n",
        "read -p \"Prompt message:\" [variable]",
        "```\n",
        "\n",
        "The flag `-p` indicates that the message `Prompt message:` will be displayed before waiting for the user to enter the data. If no variable name is specified, the data will be stored in the variable `REPLY`."
      ]
    },
    {
      "cell_type": "code",
      "execution_count": 55,
      "metadata": {},
      "outputs": [
        {
          "name": "stdout",
          "output_type": "stream",
          "text": [
            "Overwriting scripts_bash/06_leer_informacion.sh\n"
          ]
        }
      ],
      "source": [
        "%%writefile scripts_bash/06_leer_informacion.sh\n",
        "#!/bin/bash\n",
        "\n",
        "option=0\n",
        "backupName=\"\"\n",
        "\n",
        "echo \"Programa de utilidades\"\n",
        "echo -n \"Ingresar una opci\u00f3n: \"\n",
        "read\n",
        "option1=$REPLY\n",
        "echo \"\"\n",
        "echo -n \"Ingresar un nombre: \"\n",
        "read backupName\n",
        "echo \"\"\n",
        "read -p \"Ingresar otra opci\u00f3n: \" option2\n",
        "echo \"\"\n",
        "echo \"Opci\u00f3n: $option1-$option2, backupName: $backupName\""
      ]
    },
    {
      "cell_type": "code",
      "execution_count": 56,
      "metadata": {},
      "outputs": [
        {
          "name": "stdout",
          "output_type": "stream",
          "text": [
            "Programa de utilidades\n",
            "Ingresar una opci\u00f3n: \n",
            "Ingresar un nombre: \n",
            "\n",
            "Opci\u00f3n: 1-2, backupName: nombreprueba\n"
          ]
        }
      ],
      "source": [
        "!chmod +x scripts_bash/06_leer_informacion.sh && echo \"1\\nnombreprueba\\n2\" | ./scripts_bash/06_leer_informacion.sh"
      ]
    },
    {
      "attachments": {},
      "cell_type": "markdown",
      "metadata": {},
      "source": [
        "## Validate the user information"
      ]
    },
    {
      "attachments": {},
      "cell_type": "markdown",
      "metadata": {},
      "source": [
        "To validate user information, the best approach would be to use regular expressions. Here is a [post](https://www.maximofn.com/en/regular-expressions//) where I explain them."
      ]
    },
    {
      "attachments": {},
      "cell_type": "markdown",
      "metadata": {},
      "source": [
        "Additionally, we can specify the number of characters we want the user to input when using `read`. For this, we use the `-n` flag, which, if not followed by a number, will wait until the user enters a newline. If it is followed by a number, it will wait until the user inputs that number of characters."
      ]
    },
    {
      "cell_type": "code",
      "execution_count": 1,
      "metadata": {},
      "outputs": [
        {
          "name": "stdout",
          "output_type": "stream",
          "text": [
            "Writing scripts_bash/07_validar_informacion.sh\n"
          ]
        }
      ],
      "source": [
        "%%writefile scripts_bash/07_validar_informacion.sh\n",
        "#!/bin/bash\n",
        "\n",
        "option=0\n",
        "backupName=\"\"\n",
        "\n",
        "echo \"Programa de utilidades\"\n",
        "echo -n \"Ingresar una opci\u00f3n: \"\n",
        "read -n1\n",
        "option1=$REPLY\n",
        "echo \"\"\n",
        "echo -n \"Ingresar un nombre: \"\n",
        "read -n4 backupName\n",
        "echo \"\"\n",
        "read -p \"Ingresar otra opci\u00f3n: \" option2\n",
        "echo \"\"\n",
        "echo \"Opci\u00f3n: $option1-$option2, backupName: $backupName\""
      ]
    },
    {
      "cell_type": "code",
      "execution_count": 3,
      "metadata": {},
      "outputs": [
        {
          "name": "stdout",
          "output_type": "stream",
          "text": [
            "Programa de utilidades\n",
            "Ingresar una opci\u00f3n: \n",
            "Ingresar un nombre: \n",
            "\n",
            "Opci\u00f3n: 1-2, backupName: back\n"
          ]
        }
      ],
      "source": [
        "!chmod +x scripts_bash/07_validar_informacion.sh && echo \"1back2\" | ./scripts_bash/07_validar_informacion.sh"
      ]
    },
    {
      "attachments": {},
      "cell_type": "markdown",
      "metadata": {},
      "source": [
        "If we want to input a confidential value, such as a key, we use the `-s` (security) flag. This way, when the user enters the data, it will not be printed on the console."
      ]
    },
    {
      "cell_type": "code",
      "execution_count": 4,
      "metadata": {},
      "outputs": [
        {
          "name": "stdout",
          "output_type": "stream",
          "text": [
            "Overwriting scripts_bash/07_validar_informacion.sh\n"
          ]
        }
      ],
      "source": [
        "%%writefile scripts_bash/07_validar_informacion.sh\n",
        "#!/bin/bash\n",
        "\n",
        "option=0\n",
        "backupName=\"\"\n",
        "\n",
        "echo \"Programa de utilidades\"\n",
        "echo -n \"Ingresar una opci\u00f3n: \"\n",
        "read -n1\n",
        "option1=$REPLY\n",
        "echo \"\"\n",
        "echo -n \"Ingresar un nombre: \"\n",
        "read -n4 backupName\n",
        "echo \"\"\n",
        "read -p \"Ingresar otra opci\u00f3n: \" option2\n",
        "echo \"\"\n",
        "read -s -p \"Password: \" password\n",
        "echo \"\"\n",
        "echo \"Opci\u00f3n: $option1-$option2, backupName: $backupName, password: $password\""
      ]
    },
    {
      "cell_type": "code",
      "execution_count": 5,
      "metadata": {},
      "outputs": [
        {
          "name": "stdout",
          "output_type": "stream",
          "text": [
            "Programa de utilidades\n",
            "Ingresar una opci\u00f3n: \n",
            "Ingresar un nombre: \n",
            "\n",
            "\n",
            "Opci\u00f3n: 1-2, backupName: back, password: 1234\n"
          ]
        }
      ],
      "source": [
        "!chmod +x scripts_bash/07_validar_informacion.sh && echo \"1back2\\n1234\" | ./scripts_bash/07_validar_informacion.sh"
      ]
    },
    {
      "attachments": {},
      "cell_type": "markdown",
      "metadata": {},
      "source": [
        "## If else"
      ]
    },
    {
      "attachments": {},
      "cell_type": "markdown",
      "metadata": {},
      "source": [
        "The way to write `if`-`else` conditionals is:",
        "\n",
        "``` bash\n",
        "if [[condition]]; then",
        "statement",
        "elif [[condition]]; then",
        "statement",
        "else",
        "statement",
        "fi",
        "```\n",
        "\n",
        "It is important to emphasize that the conditions must be between two brackets `[[]]`"
      ]
    },
    {
      "cell_type": "code",
      "execution_count": 5,
      "metadata": {},
      "outputs": [
        {
          "name": "stdout",
          "output_type": "stream",
          "text": [
            "Overwriting scripts_bash/08_if_else.sh\n"
          ]
        }
      ],
      "source": [
        "%%writefile scripts_bash/08_if_else.sh\n",
        "#!/bin/bash\n",
        "\n",
        "if [[ 1 > 2 ]]; then\n",
        "    echo \"Verdadero\"\n",
        "elif [[ 1 > 3 ]]; then\n",
        "    echo \"Verdadero\"\n",
        "else\n",
        "    echo \"Falso\"\n",
        "fi"
      ]
    },
    {
      "cell_type": "code",
      "execution_count": 6,
      "metadata": {},
      "outputs": [
        {
          "name": "stdout",
          "output_type": "stream",
          "text": [
            "Falso\n"
          ]
        }
      ],
      "source": [
        "!chmod +x scripts_bash/08_if_else.sh && ./scripts_bash/08_if_else.sh"
      ]
    },
    {
      "attachments": {},
      "cell_type": "markdown",
      "metadata": {},
      "source": [
        "Let's see how nested `if`s are created"
      ]
    },
    {
      "cell_type": "code",
      "execution_count": 7,
      "metadata": {},
      "outputs": [
        {
          "name": "stdout",
          "output_type": "stream",
          "text": [
            "Overwriting scripts_bash/08_if_else.sh\n"
          ]
        }
      ],
      "source": [
        "%%writefile scripts_bash/08_if_else.sh\n",
        "#!/bin/bash\n",
        "\n",
        "if [[ 1 > 2 ]]; then\n",
        "    echo \"Verdadero\"\n",
        "elif [[ 1 > 3 ]]; then\n",
        "    echo \"Verdadero\"\n",
        "else\n",
        "    if [[ 1 > 4 ]]; then\n",
        "        echo \"Verdadero pero falso\"\n",
        "    else\n",
        "        echo \"Totalmente falso\"\n",
        "    fi\n",
        "fi"
      ]
    },
    {
      "cell_type": "code",
      "execution_count": 8,
      "metadata": {},
      "outputs": [
        {
          "name": "stdout",
          "output_type": "stream",
          "text": [
            "Totalmente falso\n"
          ]
        }
      ],
      "source": [
        "!chmod +x scripts_bash/08_if_else.sh && ./scripts_bash/08_if_else.sh"
      ]
    },
    {
      "attachments": {},
      "cell_type": "markdown",
      "metadata": {},
      "source": [
        "## Conditional expressions"
      ]
    },
    {
      "attachments": {},
      "cell_type": "markdown",
      "metadata": {},
      "source": [
        "We have already seen how to create `if`s, but it is necessary to explain how to create conditional expressions",
        "\n",
        "If we are going to perform comparisons between strings",
        "\n",
        "|operation|command|example|",
        "|---------|-------|-------|",
        "|greater than|`>`|`[[ string1 > string2 ]]`|",
        "|less than|`<`|`[[ string1 < string2 ]]`|",
        "|equal to|`==`|`[[ string1 == string2 ]]`|",
        "|equal to|`=`|`[[ string1 = string2 ]]`|",
        "|empty string|`-z`|`[[ -z string ]]`|",
        "|non-empty string|`-n`|`[[ -n string ]]`|",
        "|non-empty string||`[[ string ]]`|",
        "    \n",
        "If what we are going to do is make comparisons between numbers",
        "\n",
        "|operation|command|example|",
        "|---------|-------|-------|",
        "|greater than|`-gt`|`[[ number1 -gt number2 ]]`|",
        "|greater than or equal to|`-ge`|`[[ number1 -ge number2 ]]`|",
        "|less than|`-lt`|`[[ number1 -lt number2 ]]`|",
        "|less than or equal to|`-le`|`[[ number1 -le number2 ]]`|",
        "|equal to|`-eq`|`[[ number1 -eq number2 ]]`|",
        "|not equal to|`-ne`|`[[ number1 -ne number2 ]]`|",
        "\n",
        "If we want to check files or directories",
        "\n",
        "|operation|command|example|",
        "|---------|-------|-------|",
        "|is a directory?|`-d`|`[[ -d <dir> ]]`|",
        "|is it a file?|`-f`|`[[ -f <file> ]]`|",
        "|exists?|`-e`|`[[ -e <file> ]]` or `[[ -e <dir> ]]`|",
        "|is it readable?|`-r`|`[[ -r <file> ]]`|",
        "|is writable?|`-w`|`[[ -w <file> ]]`|",
        "|is executable?|`-x`|`[[ -x <file> ]]`|",
        "|is it a link?|`-L`|`[[ -L <file> ]]`|",
        "|is it empty?|`-s`|`[[ -s <file> ]]`|",
        "|is owned by the user?|`-O`|`[[ -O <file> ]]`|",
        "|is it owned by the group?|`-G`|`[[ -G <file> ]]`|",
        "|was it modified?|`-N`|`[[ -N <file> ]]`|",
        "|Is file1 newer than file2?|`-nt`|`[[ <file1> -nt <file2> ]]`|",
        "|Is file1 older than file2?|`-ot`|`[[ <file1> -ot <file2> ]]`|",
        "|Is file1 the same as file2?|`-ef`|`[[ <file1> -ef <file2> ]]`|",
        "|Is file1 the same as file2?|`-ef`|`[[ <file1> -ef <file2> ]]`|",
        "\n",
        "If we want to compare combined conditions with `and`, `or` and `not`",
        "\n",
        "|operation|command|example|",
        "|---------|-------|-------|",
        "|and|`&&`|`[[ <condition1> && <condition2> ]]`|",
        "|or|`||`|`[[ <condition1> || <condition2> ]]`|",
        "\n",
        "If we want to negate the conditions",
        "\n",
        "|operation|command|example|",
        "|---------|-------|-------|",
        "|not|`!`|`[[ ! <condition> ]]`|"
      ]
    },
    {
      "cell_type": "code",
      "execution_count": 51,
      "metadata": {},
      "outputs": [
        {
          "name": "stdout",
          "output_type": "stream",
          "text": [
            "Overwriting scripts_bash/09_condicionales.sh\n"
          ]
        }
      ],
      "source": [
        "%%writefile scripts_bash/09_condicionales.sh\n",
        "#!/bin/bash\n",
        "\n",
        "echo \"Comparando strings\"\n",
        "string1=\"hola\"\n",
        "string2=\"hola\"\n",
        "string3=\"chao\"\n",
        "string4=\"\"\n",
        "if [[ $string1 > $string3 ]]; then\n",
        "    echo \"$string1 es mayor que $string3\"\n",
        "fi\n",
        "if [[ $string3 < $string1 ]]; then\n",
        "    echo \"$string3 es menor que $string1\"\n",
        "fi\n",
        "if [[ $string1 == $string2 ]]; then\n",
        "    echo \"$string1 es igual que $string2\"\n",
        "fi\n",
        "if [[ $string1 != $string3 ]]; then\n",
        "    echo \"$string1 es diferente que $string3\"\n",
        "fi\n",
        "if [[ -z $string4 ]]; then\n",
        "    echo \"$string4 es una cadena vac\u00eda\"\n",
        "fi\n",
        "if [[ -n $string3 ]]; then\n",
        "    echo \"$string3 es una cadena no vac\u00eda\"\n",
        "fi\n",
        "if [[ $string3 ]]; then\n",
        "    echo \"$string3 es una cadena no vac\u00eda\"\n",
        "fi\n",
        "\n",
        "echo -e \"\\nComparando n\u00fameros\"\n",
        "number1=10\n",
        "number2=10\n",
        "number3=20\n",
        "if [[ $number3 -gt $number1 ]]; then\n",
        "    echo \"$number3 es mayor que $number1\"\n",
        "fi\n",
        "if [[ $number3 -ge $number2 ]]; then\n",
        "    echo \"$number3 es mayor o igual que $number2\"\n",
        "fi\n",
        "if [[ $number1 -lt $number3 ]]; then\n",
        "    echo \"$number1 es menor que $number3\"\n",
        "fi\n",
        "if [[ $number1 -le $number2 ]]; then\n",
        "    echo \"$number1 es menor o igual que $number2\"\n",
        "fi\n",
        "if [[ $number1 -eq $number2 ]]; then\n",
        "    echo \"$number1 es igual que $number2\"\n",
        "fi\n",
        "if [[ $number1 -ne $number3 ]]; then\n",
        "    echo \"$number1 es diferente que $number3\"\n",
        "fi\n",
        "\n",
        "echo -e \"\\nComparando archivos\"\n",
        "file1=\"$PWD/2021-02-11-Introduccion-a-Python.ipynb\"\n",
        "file2=\"$PWD/scripts_bash\"\n",
        "file3=\"$PWD/mi_paquete_de_python\"\n",
        "if [[ -d $file2 ]]; then\n",
        "    echo \"$file2 es un directorio\"\n",
        "fi\n",
        "if [[ -f $file1 ]]; then\n",
        "    echo \"$file1 es un archivo\"\n",
        "fi\n",
        "if [[ -e $file1 ]]; then\n",
        "    echo \"$file1 existe\"\n",
        "fi\n",
        "if [[ -r $file1 ]]; then\n",
        "    echo \"$file1 es legible\"\n",
        "fi\n",
        "if [[ -w $file1 ]]; then\n",
        "    echo \"$file1 es escribible\"\n",
        "fi\n",
        "if [[ -x $file1 ]]; then\n",
        "    echo \"$file1 es ejecutable\"\n",
        "fi\n",
        "if [[ -L $file1 ]]; then\n",
        "    echo \"$file1 es un link\"\n",
        "fi\n",
        "if [[ -s $file1 ]]; then\n",
        "    echo \"$file1 tiene contenido\"\n",
        "fi\n",
        "if [[ -O $file1 ]]; then\n",
        "    echo \"$file1 es propiedad del usuario\"\n",
        "fi\n",
        "if [[ -G $file1 ]]; then\n",
        "    echo \"$file1 es propiedad del grupo\"\n",
        "fi\n",
        "if [[ -N $file1 ]]; then\n",
        "    echo \"$file1 fue modificado\"\n",
        "fi\n",
        "if [[ $file1 -nt $file2 ]]; then\n",
        "    echo \"$file1 es m\u00e1s nuevo que $file2\"\n",
        "fi\n",
        "if [[ $file1 -ot $file2 ]]; then\n",
        "    echo \"$file1 es m\u00e1s viejo que $file2\"\n",
        "fi\n",
        "if [[ $file1 -ef $file1 ]]; then\n",
        "    echo \"$file1 es el mismo archivo que $file2\"\n",
        "fi\n",
        "\n",
        "echo -e \"\\nComparando expresiones con AND\"\n",
        "if [[ 2 > 1 && 3 > 1 ]]; then\n",
        "    echo \"2 > 1 y 3 > 1\"\n",
        "fi\n",
        "\n",
        "echo -e \"\\nComparando expresiones con OR\"\n",
        "if [[ 2 > 1 || 1 > 2 ]]; then\n",
        "    echo \"2 > 1 o 1 > 2\"\n",
        "fi\n",
        "\n",
        "echo -e \"\\nComparando expresiones con NOT\"\n",
        "if [[ ! 1 > 2 ]]; then\n",
        "    echo \"1 > 2 no es cierto\"\n",
        "fi\n"
      ]
    },
    {
      "cell_type": "code",
      "execution_count": 52,
      "metadata": {},
      "outputs": [
        {
          "name": "stdout",
          "output_type": "stream",
          "text": [
            "Comparando strings\n",
            "hola es mayor que chao\n",
            "chao es menor que hola\n",
            "hola es igual que hola\n",
            "hola es diferente que chao\n",
            " es una cadena vac\u00eda\n",
            "chao es una cadena no vac\u00eda\n",
            "chao es una cadena no vac\u00eda\n",
            "\n",
            "Comparando n\u00fameros\n",
            "20 es mayor que 10\n",
            "20 es mayor o igual que 10\n",
            "10 es menor que 20\n",
            "10 es menor o igual que 10\n",
            "10 es igual que 10\n",
            "10 es diferente que 20\n",
            "\n",
            "Comparando archivos\n",
            "/home/wallabot/Documentos/web/portafolio/posts/scripts_bash es un directorio\n",
            "/home/wallabot/Documentos/web/portafolio/posts/2021-02-11-Introduccion-a-Python.ipynb es un archivo\n",
            "/home/wallabot/Documentos/web/portafolio/posts/2021-02-11-Introduccion-a-Python.ipynb existe\n",
            "/home/wallabot/Documentos/web/portafolio/posts/2021-02-11-Introduccion-a-Python.ipynb es legible\n",
            "/home/wallabot/Documentos/web/portafolio/posts/2021-02-11-Introduccion-a-Python.ipynb es escribible\n",
            "/home/wallabot/Documentos/web/portafolio/posts/2021-02-11-Introduccion-a-Python.ipynb tiene contenido\n",
            "/home/wallabot/Documentos/web/portafolio/posts/2021-02-11-Introduccion-a-Python.ipynb es propiedad del usuario\n",
            "/home/wallabot/Documentos/web/portafolio/posts/2021-02-11-Introduccion-a-Python.ipynb es propiedad del grupo\n",
            "/home/wallabot/Documentos/web/portafolio/posts/2021-02-11-Introduccion-a-Python.ipynb es m\u00e1s viejo que /home/wallabot/Documentos/web/portafolio/posts/scripts_bash\n",
            "/home/wallabot/Documentos/web/portafolio/posts/2021-02-11-Introduccion-a-Python.ipynb es el mismo archivo que /home/wallabot/Documentos/web/portafolio/posts/scripts_bash\n",
            "\n",
            "Comparando expresiones con AND\n",
            "2 > 1 y 3 > 1\n",
            "\n",
            "Comparando expresiones con OR\n",
            "2 > 1 o 1 > 2\n",
            "\n",
            "Comparando expresiones con NOT\n",
            "1 > 2 no es cierto\n"
          ]
        }
      ],
      "source": [
        "!chmod +x scripts_bash/09_condicionales.sh && ./scripts_bash/09_condicionales.sh"
      ]
    },
    {
      "attachments": {},
      "cell_type": "markdown",
      "metadata": {},
      "source": [
        "## `case` statement"
      ]
    },
    {
      "attachments": {},
      "cell_type": "markdown",
      "metadata": {},
      "source": [
        "Let's see how the typical `switch-case` is written, but in this case only `case` is used.",
        "\n",
        "``` bash\n",
        "case $variable in",
        "<valor1>) <sentencia1>;;",
        "<value2>) <statement2>;;",
        "<value3>) <statement3>;;",
        "...",
        "*) <statement that does not meet any of the above>",
        "esac",
        "```"
      ]
    },
    {
      "cell_type": "code",
      "execution_count": 53,
      "metadata": {},
      "outputs": [
        {
          "name": "stdout",
          "output_type": "stream",
          "text": [
            "Writing scripts_bash/10_case.sh\n"
          ]
        }
      ],
      "source": [
        "%%writefile scripts_bash/10_case.sh\n",
        "#!/bin/bash\n",
        "\n",
        "variable=\"amarillo\"\n",
        "\n",
        "case $variable in\n",
        "    \"rojo\") echo \"Color rojo\";;\n",
        "    \"verde\") echo \"Color verde\";;\n",
        "    \"azul\") echo \"Color azul\";;\n",
        "    *) echo \"Color desconocido\";;\n",
        "esac"
      ]
    },
    {
      "cell_type": "code",
      "execution_count": 54,
      "metadata": {},
      "outputs": [
        {
          "name": "stdout",
          "output_type": "stream",
          "text": [
            "Color desconocido\n"
          ]
        }
      ],
      "source": [
        "!chmod +x scripts_bash/10_case.sh && ./scripts_bash/10_case.sh"
      ]
    },
    {
      "attachments": {},
      "cell_type": "markdown",
      "metadata": {},
      "source": [
        "## Arrays"
      ]
    },
    {
      "attachments": {},
      "cell_type": "markdown",
      "metadata": {},
      "source": [
        "Let's see how arrays behave in bash scripting"
      ]
    },
    {
      "cell_type": "code",
      "execution_count": 5,
      "metadata": {},
      "outputs": [
        {
          "name": "stdout",
          "output_type": "stream",
          "text": [
            "Overwriting scripts_bash/11_arrays.sh\n"
          ]
        }
      ],
      "source": [
        "%%writefile scripts_bash/11_arrays.sh\n",
        "#!/bin/bash\n",
        "\n",
        "arrayNumeros=(1 2 3 4 5)\n",
        "arrayStrings=(\"hola\" \"chao\" \"adios\")\n",
        "arrayMixto=(1 \"hola\" 2 \"chao\" 3 \"adios\")\n",
        "arrayVacio=()\n",
        "arrayRango=({A..Z})\n",
        "\n",
        "echo \"Arrays\"\n",
        "echo \"Array de n\u00fameros: ${arrayNumeros[*]}\"\n",
        "echo \"Array de strings: ${arrayStrings[*]}\"\n",
        "echo \"Array mixto: ${arrayMixto[*]}\"\n",
        "echo \"Array vac\u00edo: ${arrayVacio[*]}\"\n",
        "echo \"Array de rango: ${arrayRango[*]}\"\n",
        "\n",
        "echo -e \"\\nAccediendo a elementos\"\n",
        "echo \"Primer elemento del array de n\u00fameros: ${arrayNumeros[0]}\"\n",
        "echo \"Segundo elemento del array de strings: ${arrayStrings[1]}\"\n",
        "echo \"\u00daltimo elemento del array de n\u00fameros: ${arrayNumeros[-1]}\"\n",
        "echo \"Pen\u00faltimo elemento del array de strings: ${arrayStrings[-2]}\"\n",
        "\n",
        "echo -e \"\\nLongitud de arrays\"\n",
        "echo \"Longitud del array de n\u00fameros: ${#arrayNumeros[*]}\"\n",
        "echo \"Longitud del array de strings: ${#arrayStrings[*]}\"\n",
        "echo \"Longitud del array mixto: ${#arrayMixto[*]}\"\n",
        "echo \"Longitud del array vac\u00edo: ${#arrayVacio[*]}\"\n",
        "echo \"Longitud del array de rango: ${#arrayRango[*]}\"\n",
        "\n",
        "echo -e \"\\nA\u00f1adiendo y eliminando elementos\"\n",
        "arrayNumeros[5]=6\n",
        "echo \"A\u00f1adiendo elemento al array de n\u00fameros: ${arrayNumeros[*]}\"\n",
        "unset arrayStrings[1]\n",
        "echo \"Eliminando elemento del array de strings: ${arrayStrings[*]}\""
      ]
    },
    {
      "cell_type": "code",
      "execution_count": 6,
      "metadata": {},
      "outputs": [
        {
          "name": "stdout",
          "output_type": "stream",
          "text": [
            "Arrays\n",
            "Array de n\u00fameros: 1 2 3 4 5\n",
            "Array de strings: hola chao adios\n",
            "Array mixto: 1 hola 2 chao 3 adios\n",
            "Array vac\u00edo: \n",
            "Array de rango: A B C D E F G H I J K L M N O P Q R S T U V W X Y Z\n",
            "\n",
            "Accediendo a elementos\n",
            "Primer elemento del array de n\u00fameros: 1\n",
            "Segundo elemento del array de strings: chao\n",
            "\u00daltimo elemento del array de n\u00fameros: 5\n",
            "Pen\u00faltimo elemento del array de strings: chao\n",
            "\n",
            "Longitud de arrays\n",
            "Longitud del array de n\u00fameros: 5\n",
            "Longitud del array de strings: 3\n",
            "Longitud del array mixto: 6\n",
            "Longitud del array vac\u00edo: 0\n",
            "Longitud del array de rango: 26\n",
            "\n",
            "A\u00f1adiendo y eliminando elementos\n",
            "A\u00f1adiendo elemento al array de n\u00fameros: 1 2 3 4 5 6\n",
            "Eliminando elemento del array de strings: hola adios\n"
          ]
        }
      ],
      "source": [
        "!chmod +x scripts_bash/11_arrays.sh && ./scripts_bash/11_arrays.sh"
      ]
    },
    {
      "attachments": {},
      "cell_type": "markdown",
      "metadata": {},
      "source": [
        "## `for` loop"
      ]
    },
    {
      "attachments": {},
      "cell_type": "markdown",
      "metadata": {},
      "source": [
        "To use the `for` loop, you must use the following syntax",
        "\n",
        "``` bash\n",
        "for `<variable>` in `<array>`",
        "Sure, please provide the Markdown text you would like translated to English.",
        "statement",
        "Done",
        "```\n",
        "\n",
        "Let's see an example"
      ]
    },
    {
      "cell_type": "code",
      "execution_count": 5,
      "metadata": {},
      "outputs": [
        {
          "name": "stdout",
          "output_type": "stream",
          "text": [
            "Overwriting scripts_bash/12_for.sh\n"
          ]
        }
      ],
      "source": [
        "%%writefile scripts_bash/12_for.sh\n",
        "#!/bin/bash\n",
        "\n",
        "arrayNumeros=(1 2 3 4 5)\n",
        "arrayStrings=(\"hola\" \"chao\" \"adios\")\n",
        "\n",
        "echo \"Iterar a trav\u00e9s de un array de numeros\"\n",
        "for numero in ${arrayNumeros[*]}\n",
        "do\n",
        "    echo \"N\u00famero: $numero\"\n",
        "done\n",
        "\n",
        "echo -e \"\\nIterar a trav\u00e9s de un array de strings\"\n",
        "for string in ${arrayStrings[*]}\n",
        "do\n",
        "    echo \"String: $string\"\n",
        "done\n",
        "\n",
        "echo -e \"\\nIterar a trav\u00e9s de un array no declarado\"\n",
        "for string in \"Manolo\" \"Juan\" \"Pedro\"\n",
        "do\n",
        "    echo \"String: $string\"\n",
        "done\n",
        "\n",
        "echo -e \"\\nIterar a trav\u00e9s de un rango\"\n",
        "for i in {1..10}\n",
        "do\n",
        "    echo \"N\u00famero: $i\"\n",
        "done\n",
        "\n",
        "echo -e \"\\nIterar a trav\u00e9s de un rango de manera cl\u00e1sica\"\n",
        "for (( i=1; i<=10; i++ ))\n",
        "do\n",
        "    echo \"N\u00famero: $i\"\n",
        "done\n",
        "\n",
        "echo -e \"\\nIterar a trav\u00e9s de un comando\"\n",
        "for file in $(ls)\n",
        "do\n",
        "    echo \"Archivo: $file\"\n",
        "done\n",
        "\n",
        "echo -e \"\\nIterar a trav\u00e9s de un directorio\"\n",
        "for file in *\n",
        "do\n",
        "    echo \"Archivo: $file\"\n",
        "done"
      ]
    },
    {
      "cell_type": "code",
      "execution_count": 4,
      "metadata": {},
      "outputs": [
        {
          "name": "stdout",
          "output_type": "stream",
          "text": [
            "Iterar a trav\u00e9s de un array de numeros\n",
            "N\u00famero: 1\n",
            "N\u00famero: 2\n",
            "N\u00famero: 3\n",
            "N\u00famero: 4\n",
            "N\u00famero: 5\n",
            "\n",
            "Iterar a trav\u00e9s de un array de strings\n",
            "String: hola\n",
            "String: chao\n",
            "String: adios\n",
            "\n",
            "Iterar a trav\u00e9s de un array no declarado\n",
            "String: Manolo\n",
            "String: Juan\n",
            "String: Pedro\n",
            "\n",
            "Iterar a trav\u00e9s de un rango\n",
            "N\u00famero: 1\n",
            "N\u00famero: 2\n",
            "N\u00famero: 3\n",
            "N\u00famero: 4\n",
            "N\u00famero: 5\n",
            "N\u00famero: 6\n",
            "N\u00famero: 7\n",
            "N\u00famero: 8\n",
            "N\u00famero: 9\n",
            "N\u00famero: 10\n",
            "\n",
            "Iterar a trav\u00e9s de un rango de manera cl\u00e1sica\n",
            "N\u00famero: 1\n",
            "N\u00famero: 2\n",
            "N\u00famero: 3\n",
            "N\u00famero: 4\n",
            "N\u00famero: 5\n",
            "N\u00famero: 6\n",
            "N\u00famero: 7\n",
            "N\u00famero: 8\n",
            "N\u00famero: 9\n",
            "N\u00famero: 10\n",
            "\n",
            "Iterar a trav\u00e9s de un comando\n",
            "Archivo: 2021-02-11-Introduccion-a-Python.ipynb\n",
            "Archivo: 2021-04-23-Calculo-matricial-con-Numpy.ipynb\n",
            "Archivo: 2021-06-15-Manejo-de-datos-con-Pandas.ipynb\n",
            "Archivo: 2022-09-12-Introduccion-a-la-terminal.ipynb\n",
            "Archivo: 2023-01-22-Docker.ipynb\n",
            "Archivo: 2023-XX-XX-Bash-scripting.ipynb\n",
            "Archivo: california_housing_train.csv\n",
            "Archivo: command-line-cheat-sheet.pdf\n",
            "Archivo: CSS.ipynb\n",
            "Archivo: Expresiones\n",
            "Archivo: regulares.ipynb\n",
            "Archivo: html_files\n",
            "Archivo: html.ipynb\n",
            "Archivo: introduccion_python\n",
            "Archivo: mi_paquete_de_python\n",
            "Archivo: movies.csv\n",
            "Archivo: movies.dat\n",
            "Archivo: notebooks_translated\n",
            "Archivo: __pycache__\n",
            "Archivo: scripts_bash\n",
            "Archivo: ssh.ipynb\n",
            "Archivo: test.ipynb\n",
            "\n",
            "Iterar a trav\u00e9s de un directorio\n",
            "Archivo: 2021-02-11-Introduccion-a-Python.ipynb\n",
            "Archivo: 2021-04-23-Calculo-matricial-con-Numpy.ipynb\n",
            "Archivo: 2021-06-15-Manejo-de-datos-con-Pandas.ipynb\n",
            "Archivo: 2022-09-12-Introduccion-a-la-terminal.ipynb\n",
            "Archivo: 2023-01-22-Docker.ipynb\n",
            "Archivo: 2023-XX-XX-Bash-scripting.ipynb\n",
            "Archivo: california_housing_train.csv\n",
            "Archivo: command-line-cheat-sheet.pdf\n",
            "Archivo: CSS.ipynb\n",
            "Archivo: Expresiones regulares.ipynb\n",
            "Archivo: html_files\n",
            "Archivo: html.ipynb\n",
            "Archivo: introduccion_python\n",
            "Archivo: mi_paquete_de_python\n",
            "Archivo: movies.csv\n",
            "Archivo: movies.dat\n",
            "Archivo: notebooks_translated\n",
            "Archivo: __pycache__\n",
            "Archivo: scripts_bash\n",
            "Archivo: ssh.ipynb\n",
            "Archivo: test.ipynb\n"
          ]
        }
      ],
      "source": [
        "!chmod +x scripts_bash/12_for.sh && ./scripts_bash/12_for.sh"
      ]
    },
    {
      "attachments": {},
      "cell_type": "markdown",
      "metadata": {},
      "source": [
        "## `while` Loop"
      ]
    },
    {
      "attachments": {},
      "cell_type": "markdown",
      "metadata": {},
      "source": [
        "To use the `while` loop, you must use the following syntax",
        "\n",
        "``` bash\n",
        "while <condition>",
        "Sure, please provide the Markdown text you would like translated to English.",
        "statement",
        "Understood. Please provide the Markdown text you would like translated to English.",
        "```\n",
        "\n",
        "Let's see an example"
      ]
    },
    {
      "cell_type": "code",
      "execution_count": 14,
      "metadata": {},
      "outputs": [
        {
          "name": "stdout",
          "output_type": "stream",
          "text": [
            "Overwriting scripts_bash/13_while.sh\n"
          ]
        }
      ],
      "source": [
        "%%writefile scripts_bash/13_while.sh\n",
        "#!/bin/bash\n",
        "\n",
        "numero=1\n",
        "while [ $numero -ne 5 ]\n",
        "do\n",
        "    echo \"N\u00famero: $numero\"\n",
        "    numero=$(( numero + 1 ))\n",
        "done"
      ]
    },
    {
      "cell_type": "code",
      "execution_count": 15,
      "metadata": {},
      "outputs": [
        {
          "name": "stdout",
          "output_type": "stream",
          "text": [
            "N\u00famero: 1\n",
            "N\u00famero: 2\n",
            "N\u00famero: 3\n",
            "N\u00famero: 4\n"
          ]
        }
      ],
      "source": [
        "!chmod +x scripts_bash/13_while.sh && ./scripts_bash/13_while.sh"
      ]
    },
    {
      "attachments": {},
      "cell_type": "markdown",
      "metadata": {},
      "source": [
        "## Flow control with `break` and `continue`"
      ]
    },
    {
      "attachments": {},
      "cell_type": "markdown",
      "metadata": {},
      "source": [
        "We can control the flow of a loop using the words `break` and `continue`, let's see an example"
      ]
    },
    {
      "cell_type": "code",
      "execution_count": 18,
      "metadata": {},
      "outputs": [
        {
          "name": "stdout",
          "output_type": "stream",
          "text": [
            "Overwriting scripts_bash/14_control_de_flujo.sh\n"
          ]
        }
      ],
      "source": [
        "%%writefile scripts_bash/14_control_de_flujo.sh\n",
        "#!/bin/bash\n",
        "\n",
        "numero=1\n",
        "while [ $numero -ne 10 ]\n",
        "do\n",
        "    if [ $numero -eq 5 ]; then\n",
        "        numero=$(( numero + 1 ))\n",
        "        echo \"Saltando el n\u00famero 5\"\n",
        "        continue\n",
        "    elif\n",
        "        [ $numero -eq 8 ]; then\n",
        "        echo \"Terminando el bucle\"\n",
        "        break\n",
        "    fi \n",
        "    echo \"N\u00famero: $numero\"\n",
        "    numero=$(( numero + 1 ))\n",
        "done"
      ]
    },
    {
      "cell_type": "code",
      "execution_count": 19,
      "metadata": {},
      "outputs": [
        {
          "name": "stdout",
          "output_type": "stream",
          "text": [
            "N\u00famero: 1\n",
            "N\u00famero: 2\n",
            "N\u00famero: 3\n",
            "N\u00famero: 4\n",
            "Saltando el n\u00famero 5\n",
            "N\u00famero: 6\n",
            "N\u00famero: 7\n",
            "Terminando el bucle\n"
          ]
        }
      ],
      "source": [
        "!chmod +x scripts_bash/14_control_de_flujo.sh && ./scripts_bash/14_control_de_flujo.sh"
      ]
    },
    {
      "attachments": {},
      "cell_type": "markdown",
      "metadata": {},
      "source": [
        "## Functions"
      ]
    },
    {
      "attachments": {},
      "cell_type": "markdown",
      "metadata": {},
      "source": [
        "The syntax for writing functions is",
        "\n",
        "``` bash\n",
        "<function name> (){",
        "statements",
        "}",
        "```\n",
        "\n",
        "Let's see an example"
      ]
    },
    {
      "cell_type": "code",
      "execution_count": 20,
      "metadata": {},
      "outputs": [
        {
          "name": "stdout",
          "output_type": "stream",
          "text": [
            "Writing scripts_bash/15_funciones.sh\n"
          ]
        }
      ],
      "source": [
        "%%writefile scripts_bash/15_funciones.sh\n",
        "#!/bin/bash\n",
        "\n",
        "funcion () {\n",
        "    echo \"Soy una funci\u00f3n\"\n",
        "}\n",
        "\n",
        "funcoionConParametros () {\n",
        "    echo \"Soy una funci\u00f3n con par\u00e1metros\"\n",
        "    echo \"Par\u00e1metro 1: $1\"\n",
        "    echo \"Par\u00e1metro 2: $2\"\n",
        "}\n",
        "\n",
        "funcion\n",
        "funcoionConParametros \"Hola\" \"Adi\u00f3s\""
      ]
    },
    {
      "cell_type": "code",
      "execution_count": 21,
      "metadata": {},
      "outputs": [
        {
          "name": "stdout",
          "output_type": "stream",
          "text": [
            "Soy una funci\u00f3n\n",
            "Soy una funci\u00f3n con par\u00e1metros\n",
            "Par\u00e1metro 1: Hola\n",
            "Par\u00e1metro 2: Adi\u00f3s\n"
          ]
        }
      ],
      "source": [
        "!chmod +x scripts_bash/15_funciones.sh && ./scripts_bash/15_funciones.sh"
      ]
    }
  ],
  "metadata": {
    "kernelspec": {
      "display_name": "base",
      "language": "python",
      "name": "python3"
    },
    "language_info": {
      "codemirror_mode": {
        "name": "ipython",
        "version": 3
      },
      "file_extension": ".py",
      "mimetype": "text/x-python",
      "name": "python",
      "nbconvert_exporter": "python",
      "pygments_lexer": "ipython3",
      "version": "3.7.6"
    },
    "maximofn": {
      "date": "2023-02-01",
      "description_en": "Feel like an old school programmer \ud83d\udc27 with this post about bash scripting.",
      "description_es": "Si\u00e9ntete un programador de la old school \ud83d\udc27 con este post sobre bash scripting",
      "description_pt": "PSinta-se como um programador da velha guarda \ud83d\udc27 com esta postagem sobre scripts bash",
      "end_url": "bash-scripting",
      "image": "https://images.maximofn.com/bash-scripting.webp",
      "image_hover_path": "https://images.maximofn.com/bash-scripting.webp",
      "keywords_en": "bash, scripting, linux, old school, terminal",
      "keywords_es": "bash, scripting, linux, old school, terminal",
      "keywords_pt": "bash, scripting, linux, old school, terminal",
      "title_en": "Bash scripting",
      "title_es": "Bash scripting",
      "title_pt": "Bash scripting"
    },
    "orig_nbformat": 4,
    "vscode": {
      "interpreter": {
        "hash": "d5745ab6aba164e1152437c779991855725055592b9f2bdb41a4825db7168d26"
      }
    }
  },
  "nbformat": 4,
  "nbformat_minor": 2
}