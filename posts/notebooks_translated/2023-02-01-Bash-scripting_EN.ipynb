{
  "cells": [
  {
      "attachments": {},
      "cell_type": "markdown",
      "metadata": {},
      "source": [
      "# Bash scripting"
      ]
    },
{
      "attachments": {},
      "cell_type": "markdown",
      "metadata": {},
      "source": [
      "## Folder with scripts"
      ]
    },
{
      "attachments": {},
      "cell_type": "markdown",
      "metadata": {},
      "source": [
      "This notebook has been automatically translated to make it accessible to more people, please let me know if you see any typos.\n",
"\n",
"To make this post we are going to create a folder where we are going to save all the scripts"
      ]
    },
{
      "cell_type": "code",
      "execution_count": 2,
      "metadata": {},
      "outputs": [],
      "source": [
      "!mkdir scripts_bash"
      ]
    },
{
      "attachments": {},
      "cell_type": "markdown",
      "metadata": {},
      "source": [
      "## First script"
      ]
    },
{
      "attachments": {},
      "cell_type": "markdown",
      "metadata": {},
      "source": [
      "### Specification of the execution binary"
      ]
    },
{
      "attachments": {},
      "cell_type": "markdown",
      "metadata": {},
      "source": [
      "In linux you can indicate with which program to execute a file by putting in the first line `#!<binary path>`, for example, if we create a `.py` we can indicate that it has to be executed with python by putting in the first line `#!/usr/bin/python3`. In our case, as we are making a terminal script we put in the first line `#!/bin/bash`.\n",
"\n",
"Now if the file is given execute permissions, it can be executed directly without specifying the program with which it has to be executed. That is, the `.py` no longer needs to be executed via `python script.py`, but can be executed via `.script.py`. In our case, instead of running the file via `bash script.sh` we can run it via `./script.sh`."
      ]
    },
{
      "attachments": {},
      "cell_type": "markdown",
      "metadata": {},
      "source": [
      "### Comments in bash scripts"
      ]
    },
{
      "attachments": {},
      "cell_type": "markdown",
      "metadata": {},
      "source": [
      "If we want to enter a comment it would be enough to start the line with `#`.\n",
"\n",
"``` bash\n",
"# This is a one-line comment\n",
"```\n",
"\n",
"If we want to enter several lines of comments we have to start with `: '` and end with `'`.\n",
"\n",
"``` bash\n",
": '\n",
"This is a multi-line commentary\n",
"which extends across several lines.\n",
"\n",
"```"
      ]
    },
{
      "attachments": {},
      "cell_type": "markdown",
      "metadata": {},
      "source": [
      "### Print on the screen with the command `echo`."
      ]
    },
{
      "attachments": {},
      "cell_type": "markdown",
      "metadata": {},
      "source": [
      "If we want to print on the screen we use the command `echo` followed by what we want to print."
      ]
    },
{
      "cell_type": "code",
      "execution_count": 2,
      "metadata": {},
      "outputs": [
      {
          "name": "stdout",
          "output_type": "stream",
          "text": [
          "Writing scripts_bash/01_primerScript.sh\n"
          ]
        }
      ],
      "source": [
      "%%writefile scripts_bash/01_primerScript.sh\n",
"#!/bin/bash\n",
"# Comentario de una sola linea\n",
": '\n",
"Comentario de varias\n",
"lineas\n",
"'\n",
"echo \"Hola mundo\""
      ]
    },
{
      "attachments": {},
      "cell_type": "markdown",
      "metadata": {},
      "source": [
      "We give execution permissions and run the script"
      ]
    },
{
      "cell_type": "code",
      "execution_count": 3,
      "metadata": {},
      "outputs": [
      {
          "name": "stdout",
          "output_type": "stream",
          "text": [
          "Hola mundo\n"
          ]
        }
      ],
      "source": [
      "!chmod +x scripts_bash/01_primerScript.sh && ./scripts_bash/01_primerScript.sh"
      ]
    },
{
      "attachments": {},
      "cell_type": "markdown",
      "metadata": {},
      "source": [
      "## Variable declaration"
      ]
    },
{
      "attachments": {},
      "cell_type": "markdown",
      "metadata": {},
      "source": [
      "There are two types of variables, `user variables` and `environment variables`."
      ]
    },
{
      "attachments": {},
      "cell_type": "markdown",
      "metadata": {},
      "source": [
      "To create a variable just declare it by entering the name you want, followed by `=` and the value\n",
"\n",
"To print the value of a variable with `echo`, you have to reference it by `$<variable name>.\n",
"\n",
"``` bash\n",
"echo \"Variable = $<variable name>\" echo \"Variable = $<variable name>\n",
"```"
      ]
    },
{
      "cell_type": "code",
      "execution_count": 6,
      "metadata": {},
      "outputs": [
      {
          "name": "stdout",
          "output_type": "stream",
          "text": [
          "Writing scripts_bash/02_variables.sh\n"
          ]
        }
      ],
      "source": [
      "%%writefile scripts_bash/02_variables.sh\n",
"#!/bin/bash\n",
"opcion=1\n",
"nombre=\"Juan\"\n",
"\n",
"echo \"Opcion: $opcion\"\n",
"echo \"Nombre: $nombre\""
      ]
    },
{
      "cell_type": "code",
      "execution_count": 7,
      "metadata": {},
      "outputs": [
      {
          "name": "stdout",
          "output_type": "stream",
          "text": [
          "Opcion: 1\n",
"Nombre: Juan\n"
          ]
        }
      ],
      "source": [
      "!chmod +x scripts_bash/02_variables.sh && ./scripts_bash/02_variables.sh"
      ]
    },
{
      "attachments": {},
      "cell_type": "markdown",
      "metadata": {},
      "source": [
      "### Scope of variables"
      ]
    },
{
      "attachments": {},
      "cell_type": "markdown",
      "metadata": {},
      "source": [
      "The variables created are only accessible from within the script, i.e., their scope is within the script."
      ]
    },
{
      "attachments": {},
      "cell_type": "markdown",
      "metadata": {},
      "source": [
      "#### Export of variables"
      ]
    },
{
      "attachments": {},
      "cell_type": "markdown",
      "metadata": {},
      "source": [
      "We can export variables so that they can be accessed by other scripts, to do this we first export the variable using the `export` command and execute call, inside the script, the second script to which we want to pass the variable to"
      ]
    },
{
      "cell_type": "code",
      "execution_count": 29,
      "metadata": {},
      "outputs": [
      {
          "name": "stdout",
          "output_type": "stream",
          "text": [
          "Overwriting scripts_bash/02_variables.sh\n"
          ]
        }
      ],
      "source": [
      "%%writefile scripts_bash/02_variables.sh\n",
"#!/bin/bash\n",
"opcion=1\n",
"nombre=\"Juan\"\n",
"\n",
"echo \"Opcion: $opcion\"\n",
"echo \"Nombre: $nombre\"\n",
"\n",
"# Exportar variable nombre\n",
"echo \"export nombre=$nombre\"\n",
"export nombre\n",
"\n",
"# Ejecutar script de importacion\n",
"echo \"\"\n",
"echo \"Ejecutando script de importacion\"\n",
"./scripts_bash/02_variables_importacion.sh"
      ]
    },
{
      "cell_type": "code",
      "execution_count": 30,
      "metadata": {},
      "outputs": [
      {
          "name": "stdout",
          "output_type": "stream",
          "text": [
          "Writing scripts_bash/02_variables_importacion.sh\n"
          ]
        }
      ],
      "source": [
      "%%writefile scripts_bash/02_variables_importacion.sh\n",
"#!/bin/bash\n",
"echo \"Nombre importado: $nombre\""
      ]
    },
{
      "cell_type": "code",
      "execution_count": 32,
      "metadata": {},
      "outputs": [
      {
          "name": "stdout",
          "output_type": "stream",
          "text": [
          "Opcion: 1\n",
"Nombre: Juan\n",
"export nombre=Juan\n",
"\n",
"Ejecutando script de importacion\n",
"Nombre importado: Juan\n"
          ]
        }
      ],
      "source": [
      "!chmod +x scripts_bash/02_variables.sh && chmod +x scripts_bash/02_variables_importacion.sh && ./scripts_bash/02_variables.sh"
      ]
    },
{
      "attachments": {},
      "cell_type": "markdown",
      "metadata": {},
      "source": [
      "The second script has to be executed inside the first script. If we now execute the second script we do not have the variable"
      ]
    },
{
      "cell_type": "code",
      "execution_count": 33,
      "metadata": {},
      "outputs": [
      {
          "name": "stdout",
          "output_type": "stream",
          "text": [
          "Nombre importado: \n"
          ]
        }
      ],
      "source": [
      "!chmod +x scripts_bash/02_variables_importacion.sh && ./scripts_bash/02_variables_importacion.sh"
      ]
    },
{
      "attachments": {},
      "cell_type": "markdown",
      "metadata": {},
      "source": [
      "If we want it to be accessible from any second script, without having to run it inside the first scritp, we have to export the variable to an environment variable"
      ]
    },
{
      "attachments": {},
      "cell_type": "markdown",
      "metadata": {},
      "source": [
      "## Types of operators"
      ]
    },
{
      "attachments": {},
      "cell_type": "markdown",
      "metadata": {},
      "source": [
      "All possible operators are shown below"
      ]
    },
{
      "cell_type": "code",
      "execution_count": 38,
      "metadata": {},
      "outputs": [
      {
          "name": "stdout",
          "output_type": "stream",
          "text": [
          "Overwriting scripts_bash/03_operadores.sh\n"
          ]
        }
      ],
      "source": [
      "%%writefile scripts_bash/03_operadores.sh\n",
"#!/bin/bash\n",
"\n",
"# Asignación de variables\n",
"x=10\n",
"y=20\n",
"echo \"x = $x\"\n",
"echo \"y = $y\"\n",
"\n",
"# Operadores aritméticos\n",
"echo \"\"\n",
"echo \"Operadores aritméticos\"\n",
"echo \"x + y = $((x + y))\"\n",
"echo \"x - y = $((x - y))\"\n",
"echo \"x * y = $((x * y))\"\n",
"echo \"x / y = $((x / y))\"\n",
"echo \"x % y = $((x % y))\"\n",
"\n",
"# Operadores de comparación\n",
"echo \"\"\n",
"echo \"Operadores de comparación\"\n",
"if [ \"$x\" -eq \"$y\" ]; then\n",
"  echo \"x es igual a y\"\n",
"else\n",
"  echo \"x no es igual a y\"\n",
"fi\n",
"\n",
"if [ \"$x\" -ne \"$y\" ]; then\n",
"  echo \"x no es igual a y\"\n",
"else\n",
"  echo \"x es igual a y\"\n",
"fi\n",
"\n",
"if [ \"$x\" -lt \"$y\" ]; then\n",
"  echo \"x es menor que y\"\n",
"else\n",
"  echo \"x no es menor que y\"\n",
"fi\n",
"\n",
"if [ \"$x\" -gt \"$y\" ]; then\n",
"  echo \"x es mayor que y\"\n",
"else\n",
"  echo \"x no es mayor que y\"\n",
"fi\n",
"\n",
"# Operadores de cadena\n",
"echo \"\"\n",
"echo \"Operadores de cadena\"\n",
"if [ \"$a\" = \"$b\" ]; then\n",
"  echo \"a es igual a b\"\n",
"else\n",
"  echo \"a no es igual a b\"\n",
"fi\n",
"\n",
"if [ \"$a\" != \"$b\" ]; then\n",
"  echo \"a no es igual a b\"\n",
"else\n",
"  echo \"a es igual a b\"\n",
"fi\n",
"\n",
"if [ -z \"$a\" ]; then\n",
"  echo \"a es una cadena vacía\"\n",
"else\n",
"  echo \"a no es una cadena vacía\"\n",
"fi\n",
"\n",
"if [ -n \"$a\" ]; then\n",
"  echo \"a no es una cadena vacía\"\n",
"else\n",
"  echo \"a es una cadena vacía\"\n",
"fi\n",
"\n",
"# Operadores de archivo\n",
"echo \"\"\n",
"echo \"Operadores de archivo\"\n",
"if [ -e \"/path/to/file\" ]; then\n",
"  echo \"El archivo existe\"\n",
"else\n",
"  echo \"El archivo no existe\"\n",
"fi\n",
"\n",
"if [ -f \"/path/to/file\" ]; then\n",
"  echo \"Es un archivo regular\"\n",
"else\n",
"  echo \"No es un archivo regular\"\n",
"fi\n",
"\n",
"if [ -d \"/path/to/dir\" ]; then\n",
"  echo \"Es un directorio\"\n",
"else\n",
"  echo \"No es un directorio\"\n",
"fi\n"
      ]
    },
{
      "cell_type": "code",
      "execution_count": 39,
      "metadata": {},
      "outputs": [
      {
          "name": "stdout",
          "output_type": "stream",
          "text": [
          "x = 10\n",
"y = 20\n",
"\n",
"Operadores aritméticos\n",
"x + y = 30\n",
"x - y = -10\n",
"x * y = 200\n",
"x / y = 0\n",
"x % y = 10\n",
"\n",
"Operadores de comparación\n",
"x no es igual a y\n",
"x no es igual a y\n",
"x es menor que y\n",
"x no es mayor que y\n",
"\n",
"Operadores de cadena\n",
"a es igual a b\n",
"a es igual a b\n",
"a es una cadena vacía\n",
"a es una cadena vacía\n",
"\n",
"Operadores de archivo\n",
"El archivo no existe\n",
"No es un archivo regular\n",
"No es un directorio\n"
          ]
        }
      ],
      "source": [
      "!chmod +x scripts_bash/03_operadores.sh && ./scripts_bash/03_operadores.sh"
      ]
    },
{
      "attachments": {},
      "cell_type": "markdown",
      "metadata": {},
      "source": [
      "## Arguments step"
      ]
    },
{
      "attachments": {},
      "cell_type": "markdown",
      "metadata": {},
      "source": [
      "Arguments can be passed to the scripts, once inside the script we can make use of them as follows\n",
"\n",
" * By argument number: in this case they will be named as `$1`, `$2`, etc. But in case the number of arguments is greater than 9, that is to say that more than 2 digits are needed to name it, in this case the number will be identified between braces, `${1}`, `${2}`, ..., ${10}, ${11}, etc.\n",
" * If the $0 argument is called, we are getting the file name.\n",
" * If we want all the arguments we do it with `$*`.\n",
" * If what we want is the number of arguments we have, we obtain it by means of `$#`.\n",
" * If we want to saner the output of the last command, we can know it by `$?`.\n",
" * If we want to know the `PID` of the script, we can know it through `$$`.\n",
" * We can replace the value of a string in an argument by `${{<argument index>/string to be replaced/new string}`, i.e. if we have `${1/hello/hello}` it will replace the word `hello` with the word `hello` in argument 1.\n",
" * However, if we use `${<argument index>/#string to be replaced/new string}`, it will only replace the string in the argument if this argument starts with that string."
      ]
    },
{
      "cell_type": "code",
      "execution_count": 8,
      "metadata": {},
      "outputs": [
      {
          "name": "stdout",
          "output_type": "stream",
          "text": [
          "Overwriting scripts_bash/04_argumentos.sh\n"
          ]
        }
      ],
      "source": [
      "%%writefile scripts_bash/04_argumentos.sh\n",
"#!/bin/bash\n",
"\n",
"# Pasos de argumentos simples\n",
"echo \"Primer argumento: $1\"\n",
"echo \"Segundo argumento: $2\"\n",
"echo \"Tercer argumento: $3\"\n",
"\n",
"# Accediendo a todos los argumentos\n",
"echo \"Todos los argumentos: $*\"\n",
"\n",
"# Accediendo al número de argumentos\n",
"echo \"Número de argumentos: $#\"\n",
"\n",
"# Accediendo al nombre del script\n",
"echo \"Nombre del script: $0\"\n",
"\n",
"# Accediendo al código de salida del último comando ejecutado\n",
"echo \"Código de salida del último comando: $?\"\n",
"\n",
"# Accediendo al PID del script\n",
"echo \"PID del script: $$\"\n",
"\n",
"# Accediendo a los argumentos con índices\n",
"echo \"Argumento 3: ${3}\"\n",
"echo \"Argumento 2: ${2}\"\n",
"\n",
"# Accediendo a los argumentos con índices y longitud máxima\n",
"echo \"Argumento 3 con longitud máxima de 2 caracteres: ${3:0:2}\"\n",
"echo \"Argumento 2 con longitud máxima de 3 caracteres: ${2:0:3}\"\n",
"\n",
"# Reemplazando argumentos con índices y longitud máxima\n",
"echo \"Reemplazando argumento 3: ${3/arg/ARG}\"\n",
"echo \"Reemplazando argumento 2: $                                                                                                                                                                                                                                                                                                                                                                                                                                                                                                                                                                                                                                                                                                                                                                                                                                                                                                                                                                                                                                                                                                                                                                                                                                                                                                                                                                                                                                                                                                                                                                                                                                                                                                                                                                                                                                                                                                                                                                                                                                                                                                                                                                                                                                                                                                                                                                                                                                                                                                                                                                                                                                                                                                                                                                                                                                                                                                                                                                                                                                                                                                                                                                                                                                                                                                                                                                                                                                                                                                                                                                                                                                                                                                                                                                                                                                                                                                                                                                                                                                                                                                                                                                                                                   {2/arg/ARG}\"\n",
"\n",
"# Accediendo a los argumentos con índices y patrones de reemplazo\n",
"echo \"Reemplazando patrón en argumento 3: ${3/#tercer/TERCER}\"\n",
"echo \"Reemplazando patrón en argumento 2: ${2/#arg/ARG}\""
      ]
    },
{
      "cell_type": "code",
      "execution_count": 6,
      "metadata": {},
      "outputs": [
      {
          "name": "stdout",
          "output_type": "stream",
          "text": [
          "Primer argumento: primer argumento\n",
"Segundo argumento: segundo argumento\n",
"Tercer argumento: tercer argumento\n",
"Todos los argumentos: primer argumento segundo argumento tercer argumento\n",
"Número de argumentos: 3\n",
"Nombre del script: ./scripts_bash/04_argumentos.sh\n",
"Código de salida del último comando: 0\n",
"PID del script: 11644\n",
"Argumento 3: tercer argumento\n",
"Argumento 2: segundo argumento\n",
"Argumento 3 con longitud máxima de 2 caracteres: te\n",
"Argumento 2 con longitud máxima de 3 caracteres: seg\n",
"Reemplazando argumento 3: tercer ARGumento\n",
"Reemplazando argumento 2: segundo ARGumento\n",
"Reemplazando patrón en argumento 3: tercer argumento\n",
"Reemplazando patrón en argumento 2: segundo argumento\n"
          ]
        }
      ],
      "source": [
      "!arg1=\"primer argumento\" && arg2=\"segundo argumento\" && arg3=\"tercer argumento\" && chmod +x scripts_bash/04_argumentos.sh && ./scripts_bash/04_argumentos.sh \"$arg1\" \"$arg2\" \"$arg3\""
      ]
    },
{
      "attachments": {},
      "cell_type": "markdown",
      "metadata": {},
      "source": [
      "## Execute commands and save them in a variable"
      ]
    },
{
      "attachments": {},
      "cell_type": "markdown",
      "metadata": {},
      "source": [
      "We have two ways of executing a command and saving its output in a variable\n",
" * Through variable=`command`\n",
" * Through `variable=$$(command)`."
      ]
    },
{
      "cell_type": "code",
      "execution_count": 23,
      "metadata": {},
      "outputs": [
      {
          "name": "stdout",
          "output_type": "stream",
          "text": [
          "Overwriting scripts_bash/05_variables_comandos.sh\n"
          ]
        }
      ],
      "source": [
      "%%writefile scripts_bash/05_variables_comandos.sh\n",
"#!/bin/bash\n",
"\n",
"path=$(pwd)\n",
"infokernel=`uname -a`\n",
"\n",
"echo \"El directorio actual es: $path\"\n",
"echo \"La información del kernel es: $infokernel\""
      ]
    },
{
      "cell_type": "code",
      "execution_count": 24,
      "metadata": {},
      "outputs": [
      {
          "name": "stdout",
          "output_type": "stream",
          "text": [
          "El directorio actual es: /home/wallabot/Documentos/web/portafolio/posts\n",
"La información del kernel es: Linux wallabot 5.15.0-57-generic #63~20.04.1-Ubuntu SMP Wed Nov 30 13:40:16 UTC 2022 x86_64 x86_64 x86_64 GNU/Linux\n"
          ]
        }
      ],
      "source": [
      "!chmod +x scripts_bash/05_variables_comandos.sh && ./scripts_bash/05_variables_comandos.sh"
      ]
    },
{
      "attachments": {},
      "cell_type": "markdown",
      "metadata": {},
      "source": [
      "## Debugging"
      ]
    },
{
      "attachments": {},
      "cell_type": "markdown",
      "metadata": {},
      "source": [
      "There are two ways to be able to debug in bash scripting\n",
" * Using `-v`: Detailed line-by-line script execution\n",
" * Using `-x`: Display of script information"
      ]
    },
{
      "cell_type": "code",
      "execution_count": 25,
      "metadata": {},
      "outputs": [
      {
          "name": "stdout",
          "output_type": "stream",
          "text": [
          "#!/bin/bash\n",
"\n",
"path=$(pwd)\n",
"infokernel=`uname -a`\n",
"\n",
"echo \"El directorio actual es: $path\"\n",
"El directorio actual es: /home/wallabot/Documentos/web/portafolio/posts\n",
"echo \"La información del kernel es: $infokernel\"\n",
"La información del kernel es: Linux wallabot 5.15.0-57-generic #63~20.04.1-Ubuntu SMP Wed Nov 30 13:40:16 UTC 2022 x86_64 x86_64 x86_64 GNU/Linux\n"
          ]
        }
      ],
      "source": [
      "!bash -v scripts_bash/05_variables_comandos.sh"
      ]
    },
{
      "cell_type": "code",
      "execution_count": 26,
      "metadata": {},
      "outputs": [
      {
          "name": "stdout",
          "output_type": "stream",
          "text": [
          "++ pwd\n",
"+ path=/home/wallabot/Documentos/web/portafolio/posts\n",
"++ uname -a\n",
"+ infokernel='Linux wallabot 5.15.0-57-generic #63~20.04.1-Ubuntu SMP Wed Nov 30 13:40:16 UTC 2022 x86_64 x86_64 x86_64 GNU/Linux'\n",
"+ echo 'El directorio actual es: /home/wallabot/Documentos/web/portafolio/posts'\n",
"El directorio actual es: /home/wallabot/Documentos/web/portafolio/posts\n",
"+ echo 'La información del kernel es: Linux wallabot 5.15.0-57-generic #63~20.04.1-Ubuntu SMP Wed Nov 30 13:40:16 UTC 2022 x86_64 x86_64 x86_64 GNU/Linux'\n",
"La información del kernel es: Linux wallabot 5.15.0-57-generic #63~20.04.1-Ubuntu SMP Wed Nov 30 13:40:16 UTC 2022 x86_64 x86_64 x86_64 GNU/Linux\n"
          ]
        }
      ],
      "source": [
      "!bash -x scripts_bash/05_variables_comandos.sh"
      ]
    },
{
      "attachments": {},
      "cell_type": "markdown",
      "metadata": {},
      "source": [
      "## Obtain user information"
      ]
    },
{
      "attachments": {},
      "cell_type": "markdown",
      "metadata": {},
      "source": [
      "### Get information using the `echo` and `read` commands"
      ]
    },
{
      "attachments": {},
      "cell_type": "markdown",
      "metadata": {},
      "source": [
      "We have two ways to obtain user information\n",
" 1. With the command `echo -n`. With the flag `-n` we indicate that we do not want a line break to be printed at the end of the `echo`. For example, `echo -n \"Enter data:\"`, with this command we ask for a data and the cursor will stay on the same line, there will be no line break.\n",
" Using the `read` command. With this command the program will wait for the user to enter data ending with a line break. What has been entered will be stored in the variable `REPLY`. If you want the variable where the data entered by the user is saved to have another name, you must enter `read [variable]`, for example the command `read myVariable`, will save the user's data in the variable `myVariable`.\n",
" Using the command `$REPLY` or `$[variable]` we access the data entered by the user."
      ]
    },
{
      "cell_type": "code",
      "execution_count": 51,
      "metadata": {},
      "outputs": [
      {
          "name": "stdout",
          "output_type": "stream",
          "text": [
          "Overwriting scripts_bash/06_leer_informacion.sh\n"
          ]
        }
      ],
      "source": [
      "%%writefile scripts_bash/06_leer_informacion.sh\n",
"#!/bin/bash\n",
"\n",
"option=0\n",
"backupName=\"\"\n",
"\n",
"echo \"Programa de utilidades\"\n",
"echo -n \"Ingresar una opción: \"\n",
"read\n",
"option=$REPLY\n",
"echo \"\"\n",
"echo -n \"Ingresar un nombre: \"\n",
"read backupName\n",
"echo \"\"\n",
"echo \"Opción: $option, backupName: $backupName\"\n"
      ]
    },
{
      "attachments": {},
      "cell_type": "markdown",
      "metadata": {},
      "source": [
      "As in a jupyter notebook I can't enter the data as it is requested, I enter it first in a `|` pipe."
      ]
    },
{
      "cell_type": "code",
      "execution_count": 52,
      "metadata": {},
      "outputs": [
      {
          "name": "stdout",
          "output_type": "stream",
          "text": [
          "Programa de utilidades\n",
"Ingresar una opción: \n",
"Ingresar un nombre: \n",
"Opción: 1, backupName: nombreprueba\n"
          ]
        }
      ],
      "source": [
      "!chmod +x scripts_bash/06_leer_informacion.sh && echo \"1\\nnombreprueba\" | ./scripts_bash/06_leer_informacion.sh"
      ]
    },
{
      "attachments": {},
      "cell_type": "markdown",
      "metadata": {},
      "source": [
      "### Get information only by `read` command"
      ]
    },
{
      "attachments": {},
      "cell_type": "markdown",
      "metadata": {},
      "source": [
      "Another way to obtain information is to use only the `read` command, the syntax would be\n",
"\n",
"``` bash\n",
"read -p \"Prompt message:\" [variable].\n",
"```\n",
"\n",
"The `-p` flag indicates that the `Hint prompt:` message will be displayed before waiting for the user to enter the data. If no variable name is specified, the data will be stored in the `REPLY` variable."
      ]
    },
{
      "cell_type": "code",
      "execution_count": 55,
      "metadata": {},
      "outputs": [
      {
          "name": "stdout",
          "output_type": "stream",
          "text": [
          "Overwriting scripts_bash/06_leer_informacion.sh\n"
          ]
        }
      ],
      "source": [
      "%%writefile scripts_bash/06_leer_informacion.sh\n",
"#!/bin/bash\n",
"\n",
"option=0\n",
"backupName=\"\"\n",
"\n",
"echo \"Programa de utilidades\"\n",
"echo -n \"Ingresar una opción: \"\n",
"read\n",
"option1=$REPLY\n",
"echo \"\"\n",
"echo -n \"Ingresar un nombre: \"\n",
"read backupName\n",
"echo \"\"\n",
"read -p \"Ingresar otra opción: \" option2\n",
"echo \"\"\n",
"echo \"Opción: $option1-$option2, backupName: $backupName\""
      ]
    },
{
      "cell_type": "code",
      "execution_count": 56,
      "metadata": {},
      "outputs": [
      {
          "name": "stdout",
          "output_type": "stream",
          "text": [
          "Programa de utilidades\n",
"Ingresar una opción: \n",
"Ingresar un nombre: \n",
"\n",
"Opción: 1-2, backupName: nombreprueba\n"
          ]
        }
      ],
      "source": [
      "!chmod +x scripts_bash/06_leer_informacion.sh && echo \"1\\nnombreprueba\\n2\" | ./scripts_bash/06_leer_informacion.sh"
      ]
    },
{
      "attachments": {},
      "cell_type": "markdown",
      "metadata": {},
      "source": [
      "## Validate user information"
      ]
    },
{
      "attachments": {},
      "cell_type": "markdown",
      "metadata": {},
      "source": [
      "To validate the user's information it would be best to use regular expressions, here is a [post](https://maximofn.com/expresiones-regulares/) where I explain them"
      ]
    },
{
      "attachments": {},
      "cell_type": "markdown",
      "metadata": {},
      "source": [
      "We can also specify the number of characters we want the user to enter when using `read`, for this we use the `-n` flag, which, if not followed by a number, will wait until the user enters a line break, and if followed by a number, will wait until the user enters that number of characters."
      ]
    },
{
      "cell_type": "code",
      "execution_count": 1,
      "metadata": {},
      "outputs": [
      {
          "name": "stdout",
          "output_type": "stream",
          "text": [
          "Writing scripts_bash/07_validar_informacion.sh\n"
          ]
        }
      ],
      "source": [
      "%%writefile scripts_bash/07_validar_informacion.sh\n",
"#!/bin/bash\n",
"\n",
"option=0\n",
"backupName=\"\"\n",
"\n",
"echo \"Programa de utilidades\"\n",
"echo -n \"Ingresar una opción: \"\n",
"read -n1\n",
"option1=$REPLY\n",
"echo \"\"\n",
"echo -n \"Ingresar un nombre: \"\n",
"read -n4 backupName\n",
"echo \"\"\n",
"read -p \"Ingresar otra opción: \" option2\n",
"echo \"\"\n",
"echo \"Opción: $option1-$option2, backupName: $backupName\""
      ]
    },
{
      "cell_type": "code",
      "execution_count": 3,
      "metadata": {},
      "outputs": [
      {
          "name": "stdout",
          "output_type": "stream",
          "text": [
          "Programa de utilidades\n",
"Ingresar una opción: \n",
"Ingresar un nombre: \n",
"\n",
"Opción: 1-2, backupName: back\n"
          ]
        }
      ],
      "source": [
      "!chmod +x scripts_bash/07_validar_informacion.sh && echo \"1back2\" | ./scripts_bash/07_validar_informacion.sh"
      ]
    },
{
      "attachments": {},
      "cell_type": "markdown",
      "metadata": {},
      "source": [
      "If we want to enter a confidential value, such as a key, we set the `-s` (security) flag. This way, when the user enters the data, it will not be printed in the console."
      ]
    },
{
      "cell_type": "code",
      "execution_count": 4,
      "metadata": {},
      "outputs": [
      {
          "name": "stdout",
          "output_type": "stream",
          "text": [
          "Overwriting scripts_bash/07_validar_informacion.sh\n"
          ]
        }
      ],
      "source": [
      "%%writefile scripts_bash/07_validar_informacion.sh\n",
"#!/bin/bash\n",
"\n",
"option=0\n",
"backupName=\"\"\n",
"\n",
"echo \"Programa de utilidades\"\n",
"echo -n \"Ingresar una opción: \"\n",
"read -n1\n",
"option1=$REPLY\n",
"echo \"\"\n",
"echo -n \"Ingresar un nombre: \"\n",
"read -n4 backupName\n",
"echo \"\"\n",
"read -p \"Ingresar otra opción: \" option2\n",
"echo \"\"\n",
"read -s -p \"Password: \" password\n",
"echo \"\"\n",
"echo \"Opción: $option1-$option2, backupName: $backupName, password: $password\""
      ]
    },
{
      "cell_type": "code",
      "execution_count": 5,
      "metadata": {},
      "outputs": [
      {
          "name": "stdout",
          "output_type": "stream",
          "text": [
          "Programa de utilidades\n",
"Ingresar una opción: \n",
"Ingresar un nombre: \n",
"\n",
"\n",
"Opción: 1-2, backupName: back, password: 1234\n"
          ]
        }
      ],
      "source": [
      "!chmod +x scripts_bash/07_validar_informacion.sh && echo \"1back2\\n1234\" | ./scripts_bash/07_validar_informacion.sh"
      ]
    },
{
      "attachments": {},
      "cell_type": "markdown",
      "metadata": {},
      "source": [
      "## If else"
      ]
    },
{
      "attachments": {},
      "cell_type": "markdown",
      "metadata": {},
      "source": [
      "The way to write `if`-`else` conditionals is:\n",
"\n",
"``` bash\n",
"if [[condition]]; then\n",
"    statement\n",
"elif [[condition]]; then\n",
"    statement\n",
"else\n",
"    statement\n",
"fi\n",
"```\n",
"\n",
"It is important to emphasize that the conditions must be enclosed in two square brackets `[[]]`."
      ]
    },
{
      "cell_type": "code",
      "execution_count": 5,
      "metadata": {},
      "outputs": [
      {
          "name": "stdout",
          "output_type": "stream",
          "text": [
          "Overwriting scripts_bash/08_if_else.sh\n"
          ]
        }
      ],
      "source": [
      "%%writefile scripts_bash/08_if_else.sh\n",
"#!/bin/bash\n",
"\n",
"if [[ 1 > 2 ]]; then\n",
"    echo \"Verdadero\"\n",
"elif [[ 1 > 3 ]]; then\n",
"    echo \"Verdadero\"\n",
"else\n",
"    echo \"Falso\"\n",
"fi"
      ]
    },
{
      "cell_type": "code",
      "execution_count": 6,
      "metadata": {},
      "outputs": [
      {
          "name": "stdout",
          "output_type": "stream",
          "text": [
          "Falso\n"
          ]
        }
      ],
      "source": [
      "!chmod +x scripts_bash/08_if_else.sh && ./scripts_bash/08_if_else.sh"
      ]
    },
{
      "attachments": {},
      "cell_type": "markdown",
      "metadata": {},
      "source": [
      "Let's see how to create nested `if`s"
      ]
    },
{
      "cell_type": "code",
      "execution_count": 7,
      "metadata": {},
      "outputs": [
      {
          "name": "stdout",
          "output_type": "stream",
          "text": [
          "Overwriting scripts_bash/08_if_else.sh\n"
          ]
        }
      ],
      "source": [
      "%%writefile scripts_bash/08_if_else.sh\n",
"#!/bin/bash\n",
"\n",
"if [[ 1 > 2 ]]; then\n",
"    echo \"Verdadero\"\n",
"elif [[ 1 > 3 ]]; then\n",
"    echo \"Verdadero\"\n",
"else\n",
"    if [[ 1 > 4 ]]; then\n",
"        echo \"Verdadero pero falso\"\n",
"    else\n",
"        echo \"Totalmente falso\"\n",
"    fi\n",
"fi"
      ]
    },
{
      "cell_type": "code",
      "execution_count": 8,
      "metadata": {},
      "outputs": [
      {
          "name": "stdout",
          "output_type": "stream",
          "text": [
          "Totalmente falso\n"
          ]
        }
      ],
      "source": [
      "!chmod +x scripts_bash/08_if_else.sh && ./scripts_bash/08_if_else.sh"
      ]
    },
{
      "attachments": {},
      "cell_type": "markdown",
      "metadata": {},
      "source": [
      "## Conditional expressions"
      ]
    },
{
      "attachments": {},
      "cell_type": "markdown",
      "metadata": {},
      "source": [
      "We have already seen how to create `if`s, but it is necessary to explain how to create conditional expressions.\n",
"\n",
"If we are going to make comparisons between strings or strings\n",
"\n",
"   |operation|command|example|\n",
"   |---------|-------|-------|\n",
"   |greater than|`>>``||`[[[ string1 > string2 ]]`||\n",
"   |less than|`<`||||[[[ string1 < string2 ]]`||\n",
"   |same as|`==`|||[[[ string1 == string2 ]]`||\n",
"   |same as|`=``|`[[[[ string1 = string2 ]]`||\n",
"   empty string|`-z`||`[[ -z string ]]`|\n",
"   |non-empty string|`-n`|`[[ -n string ]]`||\n",
"   |||`[[[ string ]]`||||\n",
"    \n",
"If what we are going to do is to make comparisons between numbers\n",
"\n",
"   |operation|command|example|\n",
"   |---------|-------|-------|\n",
"   |greater than|`-gt`||`[[[ number1 -gt number2 ]]`||\n",
"   greater than or equal to|`-ge`||`[[[ numero1 -ge numero2 ]]`||\n",
"   |less than|`-lt`||`[[[ number1 -lt number2 ]]`||\n",
"   |less than or equal to|`-le`||`[[[ number1 -le number2 ]]`||\n",
"   |equal to|`-eq`|`[[[ number1 -eq number2 ]]`||\n",
"   |different than|``-ne`|`[[[ number1 -ne number2 ]]`||\n",
"\n",
"If we want to check files or directories\n",
"\n",
"   |operation|command|example|\n",
"   |---------|-------|-------|\n",
"   |is a directory?|`-d`||`[[ -d <dir> ]]`||\n",
"   |is a file?|`-f`||`[[[ -f <file> ]]`|\n",
"   |exists?|`-e`||`[[ -e <file> ]]` or `[[ -e <dir> ]]`||\n",
"   |is it readable?|`-r`|`[[ -r <file> ]]`||\n",
"   |is it writable?|`-w`||`[[[ -w <file> ]]`|\n",
"   |||||||||||| is executable?|`-x`|||[[[ -x <file> ]]`|\n",
"   |is a link?|`-L`||`[[[ -L <file> ]]`|\n",
"   |es has content?|`-s`||`[[ -s <file> ]]`|\n",
"   ||||||[[[ -O <file> ]]`||\n",
"   |||||| is owned by the group?|`-G`||`[[[ -G <file> ]]`|\n",
"   |was modified?|`-N`||`[[[ -N <file> ]]`|\n",
"   |file1 is newer than file2?|``-nt`||`[[[ <file1> -nt <file2> ]]`||\n",
"   |file1 is older than file2?|``-ot`||`[[[ <file1> -ot <file2> ]]`||\n",
"   |file1 is the same file as file2?|`-ef`||`[[[ <file1> -ef <file2> ]]`||\n",
"   |file1 is the same file as file2?|`-ef`||`[[[ <file1> -ef <file2> ]]`||\n",
"\n",
"If we want to compare joint conditions with `and`, `or` and `not`, we need to use `and`, `or` and `not`.\n",
"\n",
"   |operation|command|example|\n",
"   |---------|-------|-------|\n",
"   |and|`&&&``|``[[[ <condition1> && <condition2> ]]`||\n",
"   |or||`|||`||``[[[ <condition1> || <condition2> ]]`||\n",
"\n",
"If we want to deny conditions\n",
"\n",
"   |operation|command|example|\n",
"   |---------|-------|-------|\n",
"   |not|`!`||`[[ ! <condition> ]]`||"
      ]
    },
{
      "cell_type": "code",
      "execution_count": 51,
      "metadata": {},
      "outputs": [
      {
          "name": "stdout",
          "output_type": "stream",
          "text": [
          "Overwriting scripts_bash/09_condicionales.sh\n"
          ]
        }
      ],
      "source": [
      "%%writefile scripts_bash/09_condicionales.sh\n",
"#!/bin/bash\n",
"\n",
"echo \"Comparando strings\"\n",
"string1=\"hola\"\n",
"string2=\"hola\"\n",
"string3=\"chao\"\n",
"string4=\"\"\n",
"if [[ $string1 > $string3 ]]; then\n",
"    echo \"$string1 es mayor que $string3\"\n",
"fi\n",
"if [[ $string3 < $string1 ]]; then\n",
"    echo \"$string3 es menor que $string1\"\n",
"fi\n",
"if [[ $string1 == $string2 ]]; then\n",
"    echo \"$string1 es igual que $string2\"\n",
"fi\n",
"if [[ $string1 != $string3 ]]; then\n",
"    echo \"$string1 es diferente que $string3\"\n",
"fi\n",
"if [[ -z $string4 ]]; then\n",
"    echo \"$string4 es una cadena vacía\"\n",
"fi\n",
"if [[ -n $string3 ]]; then\n",
"    echo \"$string3 es una cadena no vacía\"\n",
"fi\n",
"if [[ $string3 ]]; then\n",
"    echo \"$string3 es una cadena no vacía\"\n",
"fi\n",
"\n",
"echo -e \"\\nComparando números\"\n",
"number1=10\n",
"number2=10\n",
"number3=20\n",
"if [[ $number3 -gt $number1 ]]; then\n",
"    echo \"$number3 es mayor que $number1\"\n",
"fi\n",
"if [[ $number3 -ge $number2 ]]; then\n",
"    echo \"$number3 es mayor o igual que $number2\"\n",
"fi\n",
"if [[ $number1 -lt $number3 ]]; then\n",
"    echo \"$number1 es menor que $number3\"\n",
"fi\n",
"if [[ $number1 -le $number2 ]]; then\n",
"    echo \"$number1 es menor o igual que $number2\"\n",
"fi\n",
"if [[ $number1 -eq $number2 ]]; then\n",
"    echo \"$number1 es igual que $number2\"\n",
"fi\n",
"if [[ $number1 -ne $number3 ]]; then\n",
"    echo \"$number1 es diferente que $number3\"\n",
"fi\n",
"\n",
"echo -e \"\\nComparando archivos\"\n",
"file1=\"$PWD/2021-02-11-Introduccion-a-Python.ipynb\"\n",
"file2=\"$PWD/scripts_bash\"\n",
"file3=\"$PWD/mi_paquete_de_python\"\n",
"if [[ -d $file2 ]]; then\n",
"    echo \"$file2 es un directorio\"\n",
"fi\n",
"if [[ -f $file1 ]]; then\n",
"    echo \"$file1 es un archivo\"\n",
"fi\n",
"if [[ -e $file1 ]]; then\n",
"    echo \"$file1 existe\"\n",
"fi\n",
"if [[ -r $file1 ]]; then\n",
"    echo \"$file1 es legible\"\n",
"fi\n",
"if [[ -w $file1 ]]; then\n",
"    echo \"$file1 es escribible\"\n",
"fi\n",
"if [[ -x $file1 ]]; then\n",
"    echo \"$file1 es ejecutable\"\n",
"fi\n",
"if [[ -L $file1 ]]; then\n",
"    echo \"$file1 es un link\"\n",
"fi\n",
"if [[ -s $file1 ]]; then\n",
"    echo \"$file1 tiene contenido\"\n",
"fi\n",
"if [[ -O $file1 ]]; then\n",
"    echo \"$file1 es propiedad del usuario\"\n",
"fi\n",
"if [[ -G $file1 ]]; then\n",
"    echo \"$file1 es propiedad del grupo\"\n",
"fi\n",
"if [[ -N $file1 ]]; then\n",
"    echo \"$file1 fue modificado\"\n",
"fi\n",
"if [[ $file1 -nt $file2 ]]; then\n",
"    echo \"$file1 es más nuevo que $file2\"\n",
"fi\n",
"if [[ $file1 -ot $file2 ]]; then\n",
"    echo \"$file1 es más viejo que $file2\"\n",
"fi\n",
"if [[ $file1 -ef $file1 ]]; then\n",
"    echo \"$file1 es el mismo archivo que $file2\"\n",
"fi\n",
"\n",
"echo -e \"\\nComparando expresiones con AND\"\n",
"if [[ 2 > 1 && 3 > 1 ]]; then\n",
"    echo \"2 > 1 y 3 > 1\"\n",
"fi\n",
"\n",
"echo -e \"\\nComparando expresiones con OR\"\n",
"if [[ 2 > 1 || 1 > 2 ]]; then\n",
"    echo \"2 > 1 o 1 > 2\"\n",
"fi\n",
"\n",
"echo -e \"\\nComparando expresiones con NOT\"\n",
"if [[ ! 1 > 2 ]]; then\n",
"    echo \"1 > 2 no es cierto\"\n",
"fi\n"
      ]
    },
{
      "cell_type": "code",
      "execution_count": 52,
      "metadata": {},
      "outputs": [
      {
          "name": "stdout",
          "output_type": "stream",
          "text": [
          "Comparando strings\n",
"hola es mayor que chao\n",
"chao es menor que hola\n",
"hola es igual que hola\n",
"hola es diferente que chao\n",
" es una cadena vacía\n",
"chao es una cadena no vacía\n",
"chao es una cadena no vacía\n",
"\n",
"Comparando números\n",
"20 es mayor que 10\n",
"20 es mayor o igual que 10\n",
"10 es menor que 20\n",
"10 es menor o igual que 10\n",
"10 es igual que 10\n",
"10 es diferente que 20\n",
"\n",
"Comparando archivos\n",
"/home/wallabot/Documentos/web/portafolio/posts/scripts_bash es un directorio\n",
"/home/wallabot/Documentos/web/portafolio/posts/2021-02-11-Introduccion-a-Python.ipynb es un archivo\n",
"/home/wallabot/Documentos/web/portafolio/posts/2021-02-11-Introduccion-a-Python.ipynb existe\n",
"/home/wallabot/Documentos/web/portafolio/posts/2021-02-11-Introduccion-a-Python.ipynb es legible\n",
"/home/wallabot/Documentos/web/portafolio/posts/2021-02-11-Introduccion-a-Python.ipynb es escribible\n",
"/home/wallabot/Documentos/web/portafolio/posts/2021-02-11-Introduccion-a-Python.ipynb tiene contenido\n",
"/home/wallabot/Documentos/web/portafolio/posts/2021-02-11-Introduccion-a-Python.ipynb es propiedad del usuario\n",
"/home/wallabot/Documentos/web/portafolio/posts/2021-02-11-Introduccion-a-Python.ipynb es propiedad del grupo\n",
"/home/wallabot/Documentos/web/portafolio/posts/2021-02-11-Introduccion-a-Python.ipynb es más viejo que /home/wallabot/Documentos/web/portafolio/posts/scripts_bash\n",
"/home/wallabot/Documentos/web/portafolio/posts/2021-02-11-Introduccion-a-Python.ipynb es el mismo archivo que /home/wallabot/Documentos/web/portafolio/posts/scripts_bash\n",
"\n",
"Comparando expresiones con AND\n",
"2 > 1 y 3 > 1\n",
"\n",
"Comparando expresiones con OR\n",
"2 > 1 o 1 > 2\n",
"\n",
"Comparando expresiones con NOT\n",
"1 > 2 no es cierto\n"
          ]
        }
      ],
      "source": [
      "!chmod +x scripts_bash/09_condicionales.sh && ./scripts_bash/09_condicionales.sh"
      ]
    },
{
      "attachments": {},
      "cell_type": "markdown",
      "metadata": {},
      "source": [
      "## `case` statement"
      ]
    },
{
      "attachments": {},
      "cell_type": "markdown",
      "metadata": {},
      "source": [
      "Next we are going to see how to write the typical `switch-case`, but in this case we only use `case`.\n",
"\n",
"``` bash\n",
"case $variable in\n",
"    <value1>) <sentence1>;;\n",
"    <value2>) <sentence2>;;\n",
"    <value3>) <sentence3>;;\n",
"    ...\n",
"    *) <sentence that does not meet any of the above>.\n",
"esac\n",
"```"
      ]
    },
{
      "cell_type": "code",
      "execution_count": 53,
      "metadata": {},
      "outputs": [
      {
          "name": "stdout",
          "output_type": "stream",
          "text": [
          "Writing scripts_bash/10_case.sh\n"
          ]
        }
      ],
      "source": [
      "%%writefile scripts_bash/10_case.sh\n",
"#!/bin/bash\n",
"\n",
"variable=\"amarillo\"\n",
"\n",
"case $variable in\n",
"    \"rojo\") echo \"Color rojo\";;\n",
"    \"verde\") echo \"Color verde\";;\n",
"    \"azul\") echo \"Color azul\";;\n",
"    *) echo \"Color desconocido\";;\n",
"esac"
      ]
    },
{
      "cell_type": "code",
      "execution_count": 54,
      "metadata": {},
      "outputs": [
      {
          "name": "stdout",
          "output_type": "stream",
          "text": [
          "Color desconocido\n"
          ]
        }
      ],
      "source": [
      "!chmod +x scripts_bash/10_case.sh && ./scripts_bash/10_case.sh"
      ]
    },
{
      "attachments": {},
      "cell_type": "markdown",
      "metadata": {},
      "source": [
      "## Arrays"
      ]
    },
{
      "attachments": {},
      "cell_type": "markdown",
      "metadata": {},
      "source": [
      "Let's see how arrays behave in bash scripting"
      ]
    },
{
      "cell_type": "code",
      "execution_count": 5,
      "metadata": {},
      "outputs": [
      {
          "name": "stdout",
          "output_type": "stream",
          "text": [
          "Overwriting scripts_bash/11_arrays.sh\n"
          ]
        }
      ],
      "source": [
      "%%writefile scripts_bash/11_arrays.sh\n",
"#!/bin/bash\n",
"\n",
"arrayNumeros=(1 2 3 4 5)\n",
"arrayStrings=(\"hola\" \"chao\" \"adios\")\n",
"arrayMixto=(1 \"hola\" 2 \"chao\" 3 \"adios\")\n",
"arrayVacio=()\n",
"arrayRango=({A..Z})\n",
"\n",
"echo \"Arrays\"\n",
"echo \"Array de números: ${arrayNumeros[*]}\"\n",
"echo \"Array de strings: ${arrayStrings[*]}\"\n",
"echo \"Array mixto: ${arrayMixto[*]}\"\n",
"echo \"Array vacío: ${arrayVacio[*]}\"\n",
"echo \"Array de rango: ${arrayRango[*]}\"\n",
"\n",
"echo -e \"\\nAccediendo a elementos\"\n",
"echo \"Primer elemento del array de números: ${arrayNumeros[0]}\"\n",
"echo \"Segundo elemento del array de strings: ${arrayStrings[1]}\"\n",
"echo \"Último elemento del array de números: ${arrayNumeros[-1]}\"\n",
"echo \"Penúltimo elemento del array de strings: ${arrayStrings[-2]}\"\n",
"\n",
"echo -e \"\\nLongitud de arrays\"\n",
"echo \"Longitud del array de números: ${#arrayNumeros[*]}\"\n",
"echo \"Longitud del array de strings: ${#arrayStrings[*]}\"\n",
"echo \"Longitud del array mixto: ${#arrayMixto[*]}\"\n",
"echo \"Longitud del array vacío: ${#arrayVacio[*]}\"\n",
"echo \"Longitud del array de rango: ${#arrayRango[*]}\"\n",
"\n",
"echo -e \"\\nAñadiendo y eliminando elementos\"\n",
"arrayNumeros[5]=6\n",
"echo \"Añadiendo elemento al array de números: ${arrayNumeros[*]}\"\n",
"unset arrayStrings[1]\n",
"echo \"Eliminando elemento del array de strings: ${arrayStrings[*]}\""
      ]
    },
{
      "cell_type": "code",
      "execution_count": 6,
      "metadata": {},
      "outputs": [
      {
          "name": "stdout",
          "output_type": "stream",
          "text": [
          "Arrays\n",
"Array de números: 1 2 3 4 5\n",
"Array de strings: hola chao adios\n",
"Array mixto: 1 hola 2 chao 3 adios\n",
"Array vacío: \n",
"Array de rango: A B C D E F G H I J K L M N O P Q R S T U V W X Y Z\n",
"\n",
"Accediendo a elementos\n",
"Primer elemento del array de números: 1\n",
"Segundo elemento del array de strings: chao\n",
"Último elemento del array de números: 5\n",
"Penúltimo elemento del array de strings: chao\n",
"\n",
"Longitud de arrays\n",
"Longitud del array de números: 5\n",
"Longitud del array de strings: 3\n",
"Longitud del array mixto: 6\n",
"Longitud del array vacío: 0\n",
"Longitud del array de rango: 26\n",
"\n",
"Añadiendo y eliminando elementos\n",
"Añadiendo elemento al array de números: 1 2 3 4 5 6\n",
"Eliminando elemento del array de strings: hola adios\n"
          ]
        }
      ],
      "source": [
      "!chmod +x scripts_bash/11_arrays.sh && ./scripts_bash/11_arrays.sh"
      ]
    },
{
      "attachments": {},
      "cell_type": "markdown",
      "metadata": {},
      "source": [
      "## Loop `for`"
      ]
    },
{
      "attachments": {},
      "cell_type": "markdown",
      "metadata": {},
      "source": [
      "To use the `for` loop use the following syntax\n",
"\n",
"``` bash\n",
"for <variable> in <array>\n",
"do\n",
"    sentence\n",
"done\n",
"```\n",
"\n",
"Let's see an example"
      ]
    },
{
      "cell_type": "code",
      "execution_count": 5,
      "metadata": {},
      "outputs": [
      {
          "name": "stdout",
          "output_type": "stream",
          "text": [
          "Overwriting scripts_bash/12_for.sh\n"
          ]
        }
      ],
      "source": [
      "%%writefile scripts_bash/12_for.sh\n",
"#!/bin/bash\n",
"\n",
"arrayNumeros=(1 2 3 4 5)\n",
"arrayStrings=(\"hola\" \"chao\" \"adios\")\n",
"\n",
"echo \"Iterar a través de un array de numeros\"\n",
"for numero in ${arrayNumeros[*]}\n",
"do\n",
"    echo \"Número: $numero\"\n",
"done\n",
"\n",
"echo -e \"\\nIterar a través de un array de strings\"\n",
"for string in ${arrayStrings[*]}\n",
"do\n",
"    echo \"String: $string\"\n",
"done\n",
"\n",
"echo -e \"\\nIterar a través de un array no declarado\"\n",
"for string in \"Manolo\" \"Juan\" \"Pedro\"\n",
"do\n",
"    echo \"String: $string\"\n",
"done\n",
"\n",
"echo -e \"\\nIterar a través de un rango\"\n",
"for i in {1..10}\n",
"do\n",
"    echo \"Número: $i\"\n",
"done\n",
"\n",
"echo -e \"\\nIterar a través de un rango de manera clásica\"\n",
"for (( i=1; i<=10; i++ ))\n",
"do\n",
"    echo \"Número: $i\"\n",
"done\n",
"\n",
"echo -e \"\\nIterar a través de un comando\"\n",
"for file in $(ls)\n",
"do\n",
"    echo \"Archivo: $file\"\n",
"done\n",
"\n",
"echo -e \"\\nIterar a través de un directorio\"\n",
"for file in *\n",
"do\n",
"    echo \"Archivo: $file\"\n",
"done"
      ]
    },
{
      "cell_type": "code",
      "execution_count": 4,
      "metadata": {},
      "outputs": [
      {
          "name": "stdout",
          "output_type": "stream",
          "text": [
          "Iterar a través de un array de numeros\n",
"Número: 1\n",
"Número: 2\n",
"Número: 3\n",
"Número: 4\n",
"Número: 5\n",
"\n",
"Iterar a través de un array de strings\n",
"String: hola\n",
"String: chao\n",
"String: adios\n",
"\n",
"Iterar a través de un array no declarado\n",
"String: Manolo\n",
"String: Juan\n",
"String: Pedro\n",
"\n",
"Iterar a través de un rango\n",
"Número: 1\n",
"Número: 2\n",
"Número: 3\n",
"Número: 4\n",
"Número: 5\n",
"Número: 6\n",
"Número: 7\n",
"Número: 8\n",
"Número: 9\n",
"Número: 10\n",
"\n",
"Iterar a través de un rango de manera clásica\n",
"Número: 1\n",
"Número: 2\n",
"Número: 3\n",
"Número: 4\n",
"Número: 5\n",
"Número: 6\n",
"Número: 7\n",
"Número: 8\n",
"Número: 9\n",
"Número: 10\n",
"\n",
"Iterar a través de un comando\n",
"Archivo: 2021-02-11-Introduccion-a-Python.ipynb\n",
"Archivo: 2021-04-23-Calculo-matricial-con-Numpy.ipynb\n",
"Archivo: 2021-06-15-Manejo-de-datos-con-Pandas.ipynb\n",
"Archivo: 2022-09-12-Introduccion-a-la-terminal.ipynb\n",
"Archivo: 2023-01-22-Docker.ipynb\n",
"Archivo: 2023-XX-XX-Bash-scripting.ipynb\n",
"Archivo: california_housing_train.csv\n",
"Archivo: command-line-cheat-sheet.pdf\n",
"Archivo: CSS.ipynb\n",
"Archivo: Expresiones\n",
"Archivo: regulares.ipynb\n",
"Archivo: html_files\n",
"Archivo: html.ipynb\n",
"Archivo: introduccion_python\n",
"Archivo: mi_paquete_de_python\n",
"Archivo: movies.csv\n",
"Archivo: movies.dat\n",
"Archivo: notebooks_translated\n",
"Archivo: __pycache__\n",
"Archivo: scripts_bash\n",
"Archivo: ssh.ipynb\n",
"Archivo: test.ipynb\n",
"\n",
"Iterar a través de un directorio\n",
"Archivo: 2021-02-11-Introduccion-a-Python.ipynb\n",
"Archivo: 2021-04-23-Calculo-matricial-con-Numpy.ipynb\n",
"Archivo: 2021-06-15-Manejo-de-datos-con-Pandas.ipynb\n",
"Archivo: 2022-09-12-Introduccion-a-la-terminal.ipynb\n",
"Archivo: 2023-01-22-Docker.ipynb\n",
"Archivo: 2023-XX-XX-Bash-scripting.ipynb\n",
"Archivo: california_housing_train.csv\n",
"Archivo: command-line-cheat-sheet.pdf\n",
"Archivo: CSS.ipynb\n",
"Archivo: Expresiones regulares.ipynb\n",
"Archivo: html_files\n",
"Archivo: html.ipynb\n",
"Archivo: introduccion_python\n",
"Archivo: mi_paquete_de_python\n",
"Archivo: movies.csv\n",
"Archivo: movies.dat\n",
"Archivo: notebooks_translated\n",
"Archivo: __pycache__\n",
"Archivo: scripts_bash\n",
"Archivo: ssh.ipynb\n",
"Archivo: test.ipynb\n"
          ]
        }
      ],
      "source": [
      "!chmod +x scripts_bash/12_for.sh && ./scripts_bash/12_for.sh"
      ]
    },
{
      "attachments": {},
      "cell_type": "markdown",
      "metadata": {},
      "source": [
      "## `while` loop"
      ]
    },
{
      "attachments": {},
      "cell_type": "markdown",
      "metadata": {},
      "source": [
      "To use the `while` loop use the following syntax\n",
"\n",
"``` bash\n",
"while <condition>\n",
"do\n",
"    sentence\n",
"done\n",
"```\n",
"\n",
"Let's see an example"
      ]
    },
{
      "cell_type": "code",
      "execution_count": 14,
      "metadata": {},
      "outputs": [
      {
          "name": "stdout",
          "output_type": "stream",
          "text": [
          "Overwriting scripts_bash/13_while.sh\n"
          ]
        }
      ],
      "source": [
      "%%writefile scripts_bash/13_while.sh\n",
"#!/bin/bash\n",
"\n",
"numero=1\n",
"while [ $numero -ne 5 ]\n",
"do\n",
"    echo \"Número: $numero\"\n",
"    numero=$(( numero + 1 ))\n",
"done"
      ]
    },
{
      "cell_type": "code",
      "execution_count": 15,
      "metadata": {},
      "outputs": [
      {
          "name": "stdout",
          "output_type": "stream",
          "text": [
          "Número: 1\n",
"Número: 2\n",
"Número: 3\n",
"Número: 4\n"
          ]
        }
      ],
      "source": [
      "!chmod +x scripts_bash/13_while.sh && ./scripts_bash/13_while.sh"
      ]
    },
{
      "attachments": {},
      "cell_type": "markdown",
      "metadata": {},
      "source": [
      "## Flow control with `break` and `continue"
      ]
    },
{
      "attachments": {},
      "cell_type": "markdown",
      "metadata": {},
      "source": [
      "We can control the flow of a loop by using the words `break` and `continue`, let's see an example"
      ]
    },
{
      "cell_type": "code",
      "execution_count": 18,
      "metadata": {},
      "outputs": [
      {
          "name": "stdout",
          "output_type": "stream",
          "text": [
          "Overwriting scripts_bash/14_control_de_flujo.sh\n"
          ]
        }
      ],
      "source": [
      "%%writefile scripts_bash/14_control_de_flujo.sh\n",
"#!/bin/bash\n",
"\n",
"numero=1\n",
"while [ $numero -ne 10 ]\n",
"do\n",
"    if [ $numero -eq 5 ]; then\n",
"        numero=$(( numero + 1 ))\n",
"        echo \"Saltando el número 5\"\n",
"        continue\n",
"    elif\n",
"        [ $numero -eq 8 ]; then\n",
"        echo \"Terminando el bucle\"\n",
"        break\n",
"    fi \n",
"    echo \"Número: $numero\"\n",
"    numero=$(( numero + 1 ))\n",
"done"
      ]
    },
{
      "cell_type": "code",
      "execution_count": 19,
      "metadata": {},
      "outputs": [
      {
          "name": "stdout",
          "output_type": "stream",
          "text": [
          "Número: 1\n",
"Número: 2\n",
"Número: 3\n",
"Número: 4\n",
"Saltando el número 5\n",
"Número: 6\n",
"Número: 7\n",
"Terminando el bucle\n"
          ]
        }
      ],
      "source": [
      "!chmod +x scripts_bash/14_control_de_flujo.sh && ./scripts_bash/14_control_de_flujo.sh"
      ]
    },
{
      "attachments": {},
      "cell_type": "markdown",
      "metadata": {},
      "source": [
      "## Functions"
      ]
    },
{
      "attachments": {},
      "cell_type": "markdown",
      "metadata": {},
      "source": [
      "The syntax for writing functions is\n",
"\n",
"``` bash\n",
"<function name> (){\n",
"    sentences\n",
"}\n",
"```\n",
"\n",
"Here is an example"
      ]
    },
{
      "cell_type": "code",
      "execution_count": 20,
      "metadata": {},
      "outputs": [
      {
          "name": "stdout",
          "output_type": "stream",
          "text": [
          "Writing scripts_bash/15_funciones.sh\n"
          ]
        }
      ],
      "source": [
      "%%writefile scripts_bash/15_funciones.sh\n",
"#!/bin/bash\n",
"\n",
"funcion () {\n",
"    echo \"Soy una función\"\n",
"}\n",
"\n",
"funcoionConParametros () {\n",
"    echo \"Soy una función con parámetros\"\n",
"    echo \"Parámetro 1: $1\"\n",
"    echo \"Parámetro 2: $2\"\n",
"}\n",
"\n",
"funcion\n",
"funcoionConParametros \"Hola\" \"Adiós\""
      ]
    },
{
      "cell_type": "code",
      "execution_count": 21,
      "metadata": {},
      "outputs": [
      {
          "name": "stdout",
          "output_type": "stream",
          "text": [
          "Soy una función\n",
"Soy una función con parámetros\n",
"Parámetro 1: Hola\n",
"Parámetro 2: Adiós\n"
          ]
        }
      ],
      "source": [
      "!chmod +x scripts_bash/15_funciones.sh && ./scripts_bash/15_funciones.sh"
      ]
    }
  ],
  "metadata": {
    "kernelspec": {
      "display_name": "base",
      "language": "python",
      "name": "python3"
    },
    "language_info": {
      "codemirror_mode": {
        "name": "ipython",
        "version": 3
      },
      "file_extension": ".py",
      "mimetype": "text/x-python",
      "name": "python",
      "nbconvert_exporter": "python",
      "pygments_lexer": "ipython3",
      "version": "3.7.6"
    },
    "orig_nbformat": 4,
    "vscode": {
      "interpreter": {
        "hash": "d5745ab6aba164e1152437c779991855725055592b9f2bdb41a4825db7168d26"
      }
    }
  },
  "nbformat": 4,
  "nbformat_minor": 2
}
