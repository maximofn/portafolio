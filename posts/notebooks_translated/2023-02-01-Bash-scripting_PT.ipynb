{
  "cells": [
    {
      "attachments": {},
      "cell_type": "markdown",
      "metadata": {},
      "source": [
        "# Scripting em Bash"
      ]
    },
    {
      "attachments": {},
      "cell_type": "markdown",
      "metadata": {},
      "source": [
        " > Aviso: Este post foi traduzido para o portugu\u00eas usando um modelo de tradu\u00e7\u00e3o autom\u00e1tica. Por favor, me avise se encontrar algum erro."
      ]
    },
    {
      "attachments": {},
      "cell_type": "markdown",
      "metadata": {},
      "source": [
        "## Pasta com scripts"
      ]
    },
    {
      "attachments": {},
      "cell_type": "markdown",
      "metadata": {},
      "source": [
        "Para realizar este post, vamos a criar uma pasta onde vamos guardar todos os scripts"
      ]
    },
    {
      "cell_type": "code",
      "execution_count": 2,
      "metadata": {},
      "outputs": [],
      "source": [
        "!mkdir scripts_bash"
      ]
    },
    {
      "attachments": {},
      "cell_type": "markdown",
      "metadata": {},
      "source": [
        "## Primeiro script"
      ]
    },
    {
      "attachments": {},
      "cell_type": "markdown",
      "metadata": {},
      "source": [
        "### Especifica\u00e7\u00e3o do bin\u00e1rio de execu\u00e7\u00e3o"
      ]
    },
    {
      "attachments": {},
      "cell_type": "markdown",
      "metadata": {},
      "source": [
        "Em Linux, pode-se indicar com qual programa executar um arquivo colocando na primeira linha `#!<caminho do bin\u00e1rio>`, por exemplo, se criarmos um `.py` podemos indicar que deve ser executado com Python colocando na primeira linha `#!/usr/bin/python3`. No nosso caso, como estamos fazendo um script da terminal, colocamos na primeira linha `#!/bin/bash`.",
        "\n",
        "Agora, se forem concedidas permiss\u00f5es de execu\u00e7\u00e3o ao arquivo, ele pode ser executado diretamente sem indicar o programa com o qual deve ser executado. Isso significa que o `.py` n\u00e3o precisa mais ser executado por meio de `python script.py`, mas pode ser executado por meio de `./script.py`. No nosso caso, em vez de executar o arquivo por meio de `bash script.sh`, podemos execut\u00e1-lo por meio de `./script.sh`."
      ]
    },
    {
      "attachments": {},
      "cell_type": "markdown",
      "metadata": {},
      "source": [
        "### Coment\u00e1rios em scripts de bash"
      ]
    },
    {
      "attachments": {},
      "cell_type": "markdown",
      "metadata": {},
      "source": [
        "Se quisermos introduzir um coment\u00e1rio bastaria come\u00e7ar a linha com `#`.",
        "\n",
        "``` bash\n",
        "# Isto \u00e9 um coment\u00e1rio de uma \u00fanica linha",
        "```\n",
        "\n",
        "Se quisermos introduzir v\u00e1rias linhas de coment\u00e1rios temos que come\u00e7ar com `:#` e terminar com `#`",
        "\n",
        "``` bash\n",
        "': '",
        "Este \u00e9 um coment\u00e1rio de v\u00e1rias linhas",
        "que se estende atrav\u00e9s de v\u00e1rias linhas.",
        "''",
        "```"
      ]
    },
    {
      "attachments": {},
      "cell_type": "markdown",
      "metadata": {},
      "source": [
        "### Imprimir na tela com o comando `echo`"
      ]
    },
    {
      "attachments": {},
      "cell_type": "markdown",
      "metadata": {},
      "source": [
        "Se quisermos imprimir na tela, usamos o comando `echo` seguido do que queremos imprimir."
      ]
    },
    {
      "cell_type": "code",
      "execution_count": 2,
      "metadata": {},
      "outputs": [
        {
          "name": "stdout",
          "output_type": "stream",
          "text": [
            "Writing scripts_bash/01_primerScript.sh\n"
          ]
        }
      ],
      "source": [
        "%%writefile scripts_bash/01_primerScript.sh\n",
        "#!/bin/bash\n",
        "# Comentario de una sola linea\n",
        ": '\n",
        "Comentario de varias\n",
        "lineas\n",
        "'\n",
        "echo \"Hola mundo\""
      ]
    },
    {
      "attachments": {},
      "cell_type": "markdown",
      "metadata": {},
      "source": [
        "Damos permiss\u00f5es de execu\u00e7\u00e3o e executamos o script"
      ]
    },
    {
      "cell_type": "code",
      "execution_count": 3,
      "metadata": {},
      "outputs": [
        {
          "name": "stdout",
          "output_type": "stream",
          "text": [
            "Hola mundo\n"
          ]
        }
      ],
      "source": [
        "!chmod +x scripts_bash/01_primerScript.sh && ./scripts_bash/01_primerScript.sh"
      ]
    },
    {
      "attachments": {},
      "cell_type": "markdown",
      "metadata": {},
      "source": [
        "## Declara\u00e7\u00e3o de vari\u00e1veis"
      ]
    },
    {
      "attachments": {},
      "cell_type": "markdown",
      "metadata": {},
      "source": [
        "H\u00e1 dois tipos de vari\u00e1veis: as `vari\u00e1veis de usu\u00e1rio` e as `vari\u00e1veis de ambiente`"
      ]
    },
    {
      "attachments": {},
      "cell_type": "markdown",
      "metadata": {},
      "source": [
        "Para criar uma vari\u00e1vel basta declar\u00e1-la inserindo o nome que quisermos, seguido de `=` e o valor",
        "\n",
        "Para imprimir o valor de uma vari\u00e1vel com `echo`, \u00e9 necess\u00e1rio referenciar-se a ela atrav\u00e9s de `$<nome da vari\u00e1vel>`",
        "\n",
        "``` bash\n",
        "echo \"Vari\u00e1vel = $<nome da vari\u00e1vel>\"",
        "```"
      ]
    },
    {
      "cell_type": "code",
      "execution_count": 6,
      "metadata": {},
      "outputs": [
        {
          "name": "stdout",
          "output_type": "stream",
          "text": [
            "Writing scripts_bash/02_variables.sh\n"
          ]
        }
      ],
      "source": [
        "%%writefile scripts_bash/02_variables.sh\n",
        "#!/bin/bash\n",
        "opcion=1\n",
        "nombre=\"Juan\"\n",
        "\n",
        "echo \"Opcion: $opcion\"\n",
        "echo \"Nombre: $nombre\""
      ]
    },
    {
      "cell_type": "code",
      "execution_count": 7,
      "metadata": {},
      "outputs": [
        {
          "name": "stdout",
          "output_type": "stream",
          "text": [
            "Opcion: 1\n",
            "Nombre: Juan\n"
          ]
        }
      ],
      "source": [
        "!chmod +x scripts_bash/02_variables.sh && ./scripts_bash/02_variables.sh"
      ]
    },
    {
      "attachments": {},
      "cell_type": "markdown",
      "metadata": {},
      "source": [
        "\u00c2mbito das vari\u00e1veis"
      ]
    },
    {
      "attachments": {},
      "cell_type": "markdown",
      "metadata": {},
      "source": [
        "As vari\u00e1veis criadas s\u00f3 s\u00e3o acess\u00edveis a partir do script, ou seja, seu escopo \u00e9 dentro do script."
      ]
    },
    {
      "attachments": {},
      "cell_type": "markdown",
      "metadata": {},
      "source": [
        "#### Exporta\u00e7\u00e3o de vari\u00e1veis"
      ]
    },
    {
      "attachments": {},
      "cell_type": "markdown",
      "metadata": {},
      "source": [
        "Podemos exportar vari\u00e1veis para que estejam acess\u00edveis por outros scripts. Para isso, primeiro exportamos a vari\u00e1vel usando o comando `export` e, dentro do script, executamos o segundo script ao qual queremos passar a vari\u00e1vel."
      ]
    },
    {
      "cell_type": "code",
      "execution_count": 29,
      "metadata": {},
      "outputs": [
        {
          "name": "stdout",
          "output_type": "stream",
          "text": [
            "Overwriting scripts_bash/02_variables.sh\n"
          ]
        }
      ],
      "source": [
        "%%writefile scripts_bash/02_variables.sh\n",
        "#!/bin/bash\n",
        "opcion=1\n",
        "nombre=\"Juan\"\n",
        "\n",
        "echo \"Opcion: $opcion\"\n",
        "echo \"Nombre: $nombre\"\n",
        "\n",
        "# Exportar variable nombre\n",
        "echo \"export nombre=$nombre\"\n",
        "export nombre\n",
        "\n",
        "# Ejecutar script de importacion\n",
        "echo \"\"\n",
        "echo \"Ejecutando script de importacion\"\n",
        "./scripts_bash/02_variables_importacion.sh"
      ]
    },
    {
      "cell_type": "code",
      "execution_count": 30,
      "metadata": {},
      "outputs": [
        {
          "name": "stdout",
          "output_type": "stream",
          "text": [
            "Writing scripts_bash/02_variables_importacion.sh\n"
          ]
        }
      ],
      "source": [
        "%%writefile scripts_bash/02_variables_importacion.sh\n",
        "#!/bin/bash\n",
        "echo \"Nombre importado: $nombre\""
      ]
    },
    {
      "cell_type": "code",
      "execution_count": 32,
      "metadata": {},
      "outputs": [
        {
          "name": "stdout",
          "output_type": "stream",
          "text": [
            "Opcion: 1\n",
            "Nombre: Juan\n",
            "export nombre=Juan\n",
            "\n",
            "Ejecutando script de importacion\n",
            "Nombre importado: Juan\n"
          ]
        }
      ],
      "source": [
        "!chmod +x scripts_bash/02_variables.sh && chmod +x scripts_bash/02_variables_importacion.sh && ./scripts_bash/02_variables.sh"
      ]
    },
    {
      "attachments": {},
      "cell_type": "markdown",
      "metadata": {},
      "source": [
        "O segundo script deve ser executado dentro do primeiro script. Se agora executarmos o segundo script, n\u00e3o teremos a vari\u00e1vel"
      ]
    },
    {
      "cell_type": "code",
      "execution_count": 33,
      "metadata": {},
      "outputs": [
        {
          "name": "stdout",
          "output_type": "stream",
          "text": [
            "Nombre importado: \n"
          ]
        }
      ],
      "source": [
        "!chmod +x scripts_bash/02_variables_importacion.sh && ./scripts_bash/02_variables_importacion.sh"
      ]
    },
    {
      "attachments": {},
      "cell_type": "markdown",
      "metadata": {},
      "source": [
        "Se quisermos que seja acess\u00edvel de qualquer segundo script, sem ter que execut\u00e1-lo dentro do primeiro script, temos que exportar a vari\u00e1vel para uma vari\u00e1vel de ambiente."
      ]
    },
    {
      "attachments": {},
      "cell_type": "markdown",
      "metadata": {},
      "source": [
        "## Tipos de operadores"
      ]
    },
    {
      "attachments": {},
      "cell_type": "markdown",
      "metadata": {},
      "source": [
        "A seguir, mostramos todos os poss\u00edveis operadores"
      ]
    },
    {
      "cell_type": "code",
      "execution_count": 38,
      "metadata": {},
      "outputs": [
        {
          "name": "stdout",
          "output_type": "stream",
          "text": [
            "Overwriting scripts_bash/03_operadores.sh\n"
          ]
        }
      ],
      "source": [
        "%%writefile scripts_bash/03_operadores.sh\n",
        "#!/bin/bash\n",
        "\n",
        "# Asignaci\u00f3n de variables\n",
        "x=10\n",
        "y=20\n",
        "echo \"x = $x\"\n",
        "echo \"y = $y\"\n",
        "\n",
        "# Operadores aritm\u00e9ticos\n",
        "echo \"\"\n",
        "echo \"Operadores aritm\u00e9ticos\"\n",
        "echo \"x + y = $((x + y))\"\n",
        "echo \"x - y = $((x - y))\"\n",
        "echo \"x * y = $((x * y))\"\n",
        "echo \"x / y = $((x / y))\"\n",
        "echo \"x % y = $((x % y))\"\n",
        "\n",
        "# Operadores de comparaci\u00f3n\n",
        "echo \"\"\n",
        "echo \"Operadores de comparaci\u00f3n\"\n",
        "if [ \"$x\" -eq \"$y\" ]; then\n",
        "  echo \"x es igual a y\"\n",
        "else\n",
        "  echo \"x no es igual a y\"\n",
        "fi\n",
        "\n",
        "if [ \"$x\" -ne \"$y\" ]; then\n",
        "  echo \"x no es igual a y\"\n",
        "else\n",
        "  echo \"x es igual a y\"\n",
        "fi\n",
        "\n",
        "if [ \"$x\" -lt \"$y\" ]; then\n",
        "  echo \"x es menor que y\"\n",
        "else\n",
        "  echo \"x no es menor que y\"\n",
        "fi\n",
        "\n",
        "if [ \"$x\" -gt \"$y\" ]; then\n",
        "  echo \"x es mayor que y\"\n",
        "else\n",
        "  echo \"x no es mayor que y\"\n",
        "fi\n",
        "\n",
        "# Operadores de cadena\n",
        "echo \"\"\n",
        "echo \"Operadores de cadena\"\n",
        "if [ \"$a\" = \"$b\" ]; then\n",
        "  echo \"a es igual a b\"\n",
        "else\n",
        "  echo \"a no es igual a b\"\n",
        "fi\n",
        "\n",
        "if [ \"$a\" != \"$b\" ]; then\n",
        "  echo \"a no es igual a b\"\n",
        "else\n",
        "  echo \"a es igual a b\"\n",
        "fi\n",
        "\n",
        "if [ -z \"$a\" ]; then\n",
        "  echo \"a es una cadena vac\u00eda\"\n",
        "else\n",
        "  echo \"a no es una cadena vac\u00eda\"\n",
        "fi\n",
        "\n",
        "if [ -n \"$a\" ]; then\n",
        "  echo \"a no es una cadena vac\u00eda\"\n",
        "else\n",
        "  echo \"a es una cadena vac\u00eda\"\n",
        "fi\n",
        "\n",
        "# Operadores de archivo\n",
        "echo \"\"\n",
        "echo \"Operadores de archivo\"\n",
        "if [ -e \"/path/to/file\" ]; then\n",
        "  echo \"El archivo existe\"\n",
        "else\n",
        "  echo \"El archivo no existe\"\n",
        "fi\n",
        "\n",
        "if [ -f \"/path/to/file\" ]; then\n",
        "  echo \"Es un archivo regular\"\n",
        "else\n",
        "  echo \"No es un archivo regular\"\n",
        "fi\n",
        "\n",
        "if [ -d \"/path/to/dir\" ]; then\n",
        "  echo \"Es un directorio\"\n",
        "else\n",
        "  echo \"No es un directorio\"\n",
        "fi\n"
      ]
    },
    {
      "cell_type": "code",
      "execution_count": 39,
      "metadata": {},
      "outputs": [
        {
          "name": "stdout",
          "output_type": "stream",
          "text": [
            "x = 10\n",
            "y = 20\n",
            "\n",
            "Operadores aritm\u00e9ticos\n",
            "x + y = 30\n",
            "x - y = -10\n",
            "x * y = 200\n",
            "x / y = 0\n",
            "x % y = 10\n",
            "\n",
            "Operadores de comparaci\u00f3n\n",
            "x no es igual a y\n",
            "x no es igual a y\n",
            "x es menor que y\n",
            "x no es mayor que y\n",
            "\n",
            "Operadores de cadena\n",
            "a es igual a b\n",
            "a es igual a b\n",
            "a es una cadena vac\u00eda\n",
            "a es una cadena vac\u00eda\n",
            "\n",
            "Operadores de archivo\n",
            "El archivo no existe\n",
            "No es un archivo regular\n",
            "No es un directorio\n"
          ]
        }
      ],
      "source": [
        "!chmod +x scripts_bash/03_operadores.sh && ./scripts_bash/03_operadores.sh"
      ]
    },
    {
      "attachments": {},
      "cell_type": "markdown",
      "metadata": {},
      "source": [
        "## Passagem de argumentos"
      ]
    },
    {
      "attachments": {},
      "cell_type": "markdown",
      "metadata": {},
      "source": [
        "\u00c9 poss\u00edvel passar argumentos para os scripts, uma vez dentro do script podemos utiliz\u00e1-los da seguinte maneira",
        "\n",
        "* Por n\u00famero de argumento: neste caso ser\u00e3o nomeados como `$1`, `$2`, etc. Mas no caso de o n\u00famero de argumentos ser maior que 9, ou seja, quando forem necess\u00e1rios mais de 2 d\u00edgitos para nome\u00e1-los, nesse caso o n\u00famero ser\u00e1 identificado entre chaves, `${1}`, `${2}`, ..., ${10}, ${11}, etc",
        "* Se o argumento for chamado `$0`, estamos obtendo o nome do arquivo",
        "* Se quisermos todos os argumentos, fazemo-lo atrav\u00e9s de `$*`",
        "* Se quisermos o n\u00famero de argumentos que temos, obtemos atrav\u00e9s de `$#`",
        "* Se quisermos saber a sa\u00edda do \u00faltimo comando, podemos faz\u00ea-lo atrav\u00e9s de `$?`",
        "* Se quisermos saber o `PID` do script, podemos saber atrav\u00e9s de `$$`",
        "* Podemos substituir o valor de uma string de um argumento mediante `${<\u00edndice do argumento>/string que se quer substituir/nova string}`, ou seja, se tivermos `${1/ol\u00e1/hello}` substituir\u00e1 a palavra `ol\u00e1` pela palavra `hello` no argumento 1",
        "* No entanto, se usarmos `${<\u00edndice do argumento>/#cadeia a ser substitu\u00edda/nova cadeia}`, apenas substituir\u00e1 a cadeia no argumento se este come\u00e7ar com essa cadeia."
      ]
    },
    {
      "cell_type": "code",
      "execution_count": 8,
      "metadata": {},
      "outputs": [
        {
          "name": "stdout",
          "output_type": "stream",
          "text": [
            "Overwriting scripts_bash/04_argumentos.sh\n"
          ]
        }
      ],
      "source": [
        "%%writefile scripts_bash/04_argumentos.sh\n",
        "#!/bin/bash\n",
        "\n",
        "# Pasos de argumentos simples\n",
        "echo \"Primer argumento: $1\"\n",
        "echo \"Segundo argumento: $2\"\n",
        "echo \"Tercer argumento: $3\"\n",
        "\n",
        "# Accediendo a todos los argumentos\n",
        "echo \"Todos los argumentos: $*\"\n",
        "\n",
        "# Accediendo al n\u00famero de argumentos\n",
        "echo \"N\u00famero de argumentos: $#\"\n",
        "\n",
        "# Accediendo al nombre del script\n",
        "echo \"Nombre del script: $0\"\n",
        "\n",
        "# Accediendo al c\u00f3digo de salida del \u00faltimo comando ejecutado\n",
        "echo \"C\u00f3digo de salida del \u00faltimo comando: $?\"\n",
        "\n",
        "# Accediendo al PID del script\n",
        "echo \"PID del script: $$\"\n",
        "\n",
        "# Accediendo a los argumentos con \u00edndices\n",
        "echo \"Argumento 3: ${3}\"\n",
        "echo \"Argumento 2: ${2}\"\n",
        "\n",
        "# Accediendo a los argumentos con \u00edndices y longitud m\u00e1xima\n",
        "echo \"Argumento 3 con longitud m\u00e1xima de 2 caracteres: ${3:0:2}\"\n",
        "echo \"Argumento 2 con longitud m\u00e1xima de 3 caracteres: ${2:0:3}\"\n",
        "\n",
        "# Reemplazando argumentos con \u00edndices y longitud m\u00e1xima\n",
        "echo \"Reemplazando argumento 3: ${3/arg/ARG}\"\n",
        "echo \"Reemplazando argumento 2: $                                                                                                                                                                                                                                                                                                                                                                                                                                                                                                                                                                                                                                                                                                                                                                                                                                                                                                                                                                                                                                                                                                                                                                                                                                                                                                                                                                                                                                                                                                                                                                                                                                                                                                                                                                                                                                                                                                                                                                                                                                                                                                                                                                                                                                                                                                                                                                                                                                                                                                                                                                                                                                                                                                                                                                                                                                                                                                                                                                                                                                                                                                                                                                                                                                                                                                                                                                                                                                                                                                                                                                                                                                                                                                                                                                                                                                                                                                                                                                                                                                                                                                                                                                                                                   {2/arg/ARG}\"\n",
        "\n",
        "# Accediendo a los argumentos con \u00edndices y patrones de reemplazo\n",
        "echo \"Reemplazando patr\u00f3n en argumento 3: ${3/#tercer/TERCER}\"\n",
        "echo \"Reemplazando patr\u00f3n en argumento 2: ${2/#arg/ARG}\""
      ]
    },
    {
      "cell_type": "code",
      "execution_count": 6,
      "metadata": {},
      "outputs": [
        {
          "name": "stdout",
          "output_type": "stream",
          "text": [
            "Primer argumento: primer argumento\n",
            "Segundo argumento: segundo argumento\n",
            "Tercer argumento: tercer argumento\n",
            "Todos los argumentos: primer argumento segundo argumento tercer argumento\n",
            "N\u00famero de argumentos: 3\n",
            "Nombre del script: ./scripts_bash/04_argumentos.sh\n",
            "C\u00f3digo de salida del \u00faltimo comando: 0\n",
            "PID del script: 11644\n",
            "Argumento 3: tercer argumento\n",
            "Argumento 2: segundo argumento\n",
            "Argumento 3 con longitud m\u00e1xima de 2 caracteres: te\n",
            "Argumento 2 con longitud m\u00e1xima de 3 caracteres: seg\n",
            "Reemplazando argumento 3: tercer ARGumento\n",
            "Reemplazando argumento 2: segundo ARGumento\n",
            "Reemplazando patr\u00f3n en argumento 3: tercer argumento\n",
            "Reemplazando patr\u00f3n en argumento 2: segundo argumento\n"
          ]
        }
      ],
      "source": [
        "!arg1=\"primer argumento\" && arg2=\"segundo argumento\" && arg3=\"tercer argumento\" && chmod +x scripts_bash/04_argumentos.sh && ./scripts_bash/04_argumentos.sh \"$arg1\" \"$arg2\" \"$arg3\""
      ]
    },
    {
      "attachments": {},
      "cell_type": "markdown",
      "metadata": {},
      "source": [
        "## Executar comandos e salv\u00e1-los em uma vari\u00e1vel"
      ]
    },
    {
      "attachments": {},
      "cell_type": "markdown",
      "metadata": {},
      "source": [
        "Temos duas maneiras de executar um comando e salvar sua sa\u00edda em uma vari\u00e1vel",
        "* Atrav\u00e9s de `variable=command`",
        "* Atrav\u00e9s de `variable=$(command)`"
      ]
    },
    {
      "cell_type": "code",
      "execution_count": 23,
      "metadata": {},
      "outputs": [
        {
          "name": "stdout",
          "output_type": "stream",
          "text": [
            "Overwriting scripts_bash/05_variables_comandos.sh\n"
          ]
        }
      ],
      "source": [
        "%%writefile scripts_bash/05_variables_comandos.sh\n",
        "#!/bin/bash\n",
        "\n",
        "path=$(pwd)\n",
        "infokernel=`uname -a`\n",
        "\n",
        "echo \"El directorio actual es: $path\"\n",
        "echo \"La informaci\u00f3n del kernel es: $infokernel\""
      ]
    },
    {
      "cell_type": "code",
      "execution_count": 24,
      "metadata": {},
      "outputs": [
        {
          "name": "stdout",
          "output_type": "stream",
          "text": [
            "El directorio actual es: /home/wallabot/Documentos/web/portafolio/posts\n",
            "La informaci\u00f3n del kernel es: Linux wallabot 5.15.0-57-generic #63~20.04.1-Ubuntu SMP Wed Nov 30 13:40:16 UTC 2022 x86_64 x86_64 x86_64 GNU/Linux\n"
          ]
        }
      ],
      "source": [
        "!chmod +x scripts_bash/05_variables_comandos.sh && ./scripts_bash/05_variables_comandos.sh"
      ]
    },
    {
      "attachments": {},
      "cell_type": "markdown",
      "metadata": {},
      "source": [
        "## Depura\u00e7\u00e3o"
      ]
    },
    {
      "attachments": {},
      "cell_type": "markdown",
      "metadata": {},
      "source": [
        "H\u00e1 duas maneiras de depurar em bash scripting",
        "* Usando `-v`: Execu\u00e7\u00e3o detalhada de um script linha por linha",
        "* Usando `-x`: Exibi\u00e7\u00e3o de informa\u00e7\u00f5es do script"
      ]
    },
    {
      "cell_type": "code",
      "execution_count": 25,
      "metadata": {},
      "outputs": [
        {
          "name": "stdout",
          "output_type": "stream",
          "text": [
            "#!/bin/bash\n",
            "\n",
            "path=$(pwd)\n",
            "infokernel=`uname -a`\n",
            "\n",
            "echo \"El directorio actual es: $path\"\n",
            "El directorio actual es: /home/wallabot/Documentos/web/portafolio/posts\n",
            "echo \"La informaci\u00f3n del kernel es: $infokernel\"\n",
            "La informaci\u00f3n del kernel es: Linux wallabot 5.15.0-57-generic #63~20.04.1-Ubuntu SMP Wed Nov 30 13:40:16 UTC 2022 x86_64 x86_64 x86_64 GNU/Linux\n"
          ]
        }
      ],
      "source": [
        "!bash -v scripts_bash/05_variables_comandos.sh"
      ]
    },
    {
      "cell_type": "code",
      "execution_count": 26,
      "metadata": {},
      "outputs": [
        {
          "name": "stdout",
          "output_type": "stream",
          "text": [
            "++ pwd\n",
            "+ path=/home/wallabot/Documentos/web/portafolio/posts\n",
            "++ uname -a\n",
            "+ infokernel='Linux wallabot 5.15.0-57-generic #63~20.04.1-Ubuntu SMP Wed Nov 30 13:40:16 UTC 2022 x86_64 x86_64 x86_64 GNU/Linux'\n",
            "+ echo 'El directorio actual es: /home/wallabot/Documentos/web/portafolio/posts'\n",
            "El directorio actual es: /home/wallabot/Documentos/web/portafolio/posts\n",
            "+ echo 'La informaci\u00f3n del kernel es: Linux wallabot 5.15.0-57-generic #63~20.04.1-Ubuntu SMP Wed Nov 30 13:40:16 UTC 2022 x86_64 x86_64 x86_64 GNU/Linux'\n",
            "La informaci\u00f3n del kernel es: Linux wallabot 5.15.0-57-generic #63~20.04.1-Ubuntu SMP Wed Nov 30 13:40:16 UTC 2022 x86_64 x86_64 x86_64 GNU/Linux\n"
          ]
        }
      ],
      "source": [
        "!bash -x scripts_bash/05_variables_comandos.sh"
      ]
    },
    {
      "attachments": {},
      "cell_type": "markdown",
      "metadata": {},
      "source": [
        "## Obter informa\u00e7\u00f5es do usu\u00e1rio"
      ]
    },
    {
      "attachments": {},
      "cell_type": "markdown",
      "metadata": {},
      "source": [
        "### Obter informa\u00e7\u00f5es usando os comandos `echo` e `read`"
      ]
    },
    {
      "attachments": {},
      "cell_type": "markdown",
      "metadata": {},
      "source": [
        "Temos tr\u00eas maneiras de obter informa\u00e7\u00f5es do usu\u00e1rio",
        "* Com o comando `echo -n`. Com a flag `-n` indicamos que n\u00e3o queremos que seja impressa uma quebra de linha no final do `echo`. Por exemplo, `echo -n \"Introduza dado: \"`, com este comando solicitamos um dado e o cursor permanecer\u00e1 na mesma linha, sem uma quebra.",
        "* Atrav\u00e9s do comando `read`. Com este comando, o programa ficar\u00e1 esperando que o usu\u00e1rio insira dados terminando com uma quebra de linha. O que foi inserido ser\u00e1 armazenado na vari\u00e1vel `REPLY`. Se voc\u00ea quiser que a vari\u00e1vel onde os dados inseridos pelo usu\u00e1rio sejam armazenados tenha outro nome, deve-se inserir `read [vari\u00e1vel]`, por exemplo o comando `read minhaVariavel`, armazenar\u00e1 o dado do usu\u00e1rio na vari\u00e1vel `minhaVariavel`",
        "* Atrav\u00e9s do comando `$REPLY` ou `$(vari\u00e1vel)` acessamos os dados inseridos pelo usu\u00e1rio."
      ]
    },
    {
      "cell_type": "code",
      "execution_count": 51,
      "metadata": {},
      "outputs": [
        {
          "name": "stdout",
          "output_type": "stream",
          "text": [
            "Overwriting scripts_bash/06_leer_informacion.sh\n"
          ]
        }
      ],
      "source": [
        "%%writefile scripts_bash/06_leer_informacion.sh\n",
        "#!/bin/bash\n",
        "\n",
        "option=0\n",
        "backupName=\"\"\n",
        "\n",
        "echo \"Programa de utilidades\"\n",
        "echo -n \"Ingresar una opci\u00f3n: \"\n",
        "read\n",
        "option=$REPLY\n",
        "echo \"\"\n",
        "echo -n \"Ingresar un nombre: \"\n",
        "read backupName\n",
        "echo \"\"\n",
        "echo \"Opci\u00f3n: $option, backupName: $backupName\"\n"
      ]
    },
    {
      "attachments": {},
      "cell_type": "markdown",
      "metadata": {},
      "source": [
        "Como em um jupyter notebook n\u00e3o posso inserir os dados conforme me s\u00e3o solicitados, eu os insiro antes em um pipe `|`"
      ]
    },
    {
      "cell_type": "code",
      "execution_count": 52,
      "metadata": {},
      "outputs": [
        {
          "name": "stdout",
          "output_type": "stream",
          "text": [
            "Programa de utilidades\n",
            "Ingresar una opci\u00f3n: \n",
            "Ingresar un nombre: \n",
            "Opci\u00f3n: 1, backupName: nombreprueba\n"
          ]
        }
      ],
      "source": [
        "!chmod +x scripts_bash/06_leer_informacion.sh && echo \"1\\nnombreprueba\" | ./scripts_bash/06_leer_informacion.sh"
      ]
    },
    {
      "attachments": {},
      "cell_type": "markdown",
      "metadata": {},
      "source": [
        "### Obter informa\u00e7\u00f5es apenas com o comando `read`"
      ]
    },
    {
      "attachments": {},
      "cell_type": "markdown",
      "metadata": {},
      "source": [
        "Outra forma de obter informa\u00e7\u00f5es \u00e9 usar apenas o comando `read`, a sintaxe seria",
        "\n",
        "``` bash\n",
        "`read -p \"Mensagem de prompt:\" [vari\u00e1vel]`",
        "```\n",
        "\n",
        "A bandeira `-p` indica que a mensagem `Prompt message:` ser\u00e1 exibida antes de aguardar a entrada do usu\u00e1rio. Se n\u00e3o for especificado um nome de vari\u00e1vel, o dado ser\u00e1 armazenado na vari\u00e1vel `REPLY`."
      ]
    },
    {
      "cell_type": "code",
      "execution_count": 55,
      "metadata": {},
      "outputs": [
        {
          "name": "stdout",
          "output_type": "stream",
          "text": [
            "Overwriting scripts_bash/06_leer_informacion.sh\n"
          ]
        }
      ],
      "source": [
        "%%writefile scripts_bash/06_leer_informacion.sh\n",
        "#!/bin/bash\n",
        "\n",
        "option=0\n",
        "backupName=\"\"\n",
        "\n",
        "echo \"Programa de utilidades\"\n",
        "echo -n \"Ingresar una opci\u00f3n: \"\n",
        "read\n",
        "option1=$REPLY\n",
        "echo \"\"\n",
        "echo -n \"Ingresar un nombre: \"\n",
        "read backupName\n",
        "echo \"\"\n",
        "read -p \"Ingresar otra opci\u00f3n: \" option2\n",
        "echo \"\"\n",
        "echo \"Opci\u00f3n: $option1-$option2, backupName: $backupName\""
      ]
    },
    {
      "cell_type": "code",
      "execution_count": 56,
      "metadata": {},
      "outputs": [
        {
          "name": "stdout",
          "output_type": "stream",
          "text": [
            "Programa de utilidades\n",
            "Ingresar una opci\u00f3n: \n",
            "Ingresar un nombre: \n",
            "\n",
            "Opci\u00f3n: 1-2, backupName: nombreprueba\n"
          ]
        }
      ],
      "source": [
        "!chmod +x scripts_bash/06_leer_informacion.sh && echo \"1\\nnombreprueba\\n2\" | ./scripts_bash/06_leer_informacion.sh"
      ]
    },
    {
      "attachments": {},
      "cell_type": "markdown",
      "metadata": {},
      "source": [
        "## Validar a informa\u00e7\u00e3o do usu\u00e1rio"
      ]
    },
    {
      "attachments": {},
      "cell_type": "markdown",
      "metadata": {},
      "source": [
        "Para validar a informa\u00e7\u00e3o do usu\u00e1rio, o melhor seria usar express\u00f5es regulares. Aqui deixo um [post](https://maximofn.com/regular-expressions/) onde as explico."
      ]
    },
    {
      "attachments": {},
      "cell_type": "markdown",
      "metadata": {},
      "source": [
        "Al\u00e9m disso, podemos especificar o n\u00famero de caracteres que queremos que o usu\u00e1rio insira quando usamos `read`. Para isso, usamos a flag `-n`, que, se n\u00e3o for seguida por nenhum n\u00famero, aguardar\u00e1 at\u00e9 que o usu\u00e1rio insira uma quebra de linha. Se for seguida por um n\u00famero, aguardar\u00e1 at\u00e9 que o usu\u00e1rio insira esse n\u00famero de caracteres."
      ]
    },
    {
      "cell_type": "code",
      "execution_count": 1,
      "metadata": {},
      "outputs": [
        {
          "name": "stdout",
          "output_type": "stream",
          "text": [
            "Writing scripts_bash/07_validar_informacion.sh\n"
          ]
        }
      ],
      "source": [
        "%%writefile scripts_bash/07_validar_informacion.sh\n",
        "#!/bin/bash\n",
        "\n",
        "option=0\n",
        "backupName=\"\"\n",
        "\n",
        "echo \"Programa de utilidades\"\n",
        "echo -n \"Ingresar una opci\u00f3n: \"\n",
        "read -n1\n",
        "option1=$REPLY\n",
        "echo \"\"\n",
        "echo -n \"Ingresar un nombre: \"\n",
        "read -n4 backupName\n",
        "echo \"\"\n",
        "read -p \"Ingresar otra opci\u00f3n: \" option2\n",
        "echo \"\"\n",
        "echo \"Opci\u00f3n: $option1-$option2, backupName: $backupName\""
      ]
    },
    {
      "cell_type": "code",
      "execution_count": 3,
      "metadata": {},
      "outputs": [
        {
          "name": "stdout",
          "output_type": "stream",
          "text": [
            "Programa de utilidades\n",
            "Ingresar una opci\u00f3n: \n",
            "Ingresar un nombre: \n",
            "\n",
            "Opci\u00f3n: 1-2, backupName: back\n"
          ]
        }
      ],
      "source": [
        "!chmod +x scripts_bash/07_validar_informacion.sh && echo \"1back2\" | ./scripts_bash/07_validar_informacion.sh"
      ]
    },
    {
      "attachments": {},
      "cell_type": "markdown",
      "metadata": {},
      "source": [
        "Se quisermos que o usu\u00e1rio insira um valor confidencial, como uma chave, usamos a flag `-s` (seguran\u00e7a). Dessa forma, quando o usu\u00e1rio digitar o dado, ele n\u00e3o ser\u00e1 exibido na console."
      ]
    },
    {
      "cell_type": "code",
      "execution_count": 4,
      "metadata": {},
      "outputs": [
        {
          "name": "stdout",
          "output_type": "stream",
          "text": [
            "Overwriting scripts_bash/07_validar_informacion.sh\n"
          ]
        }
      ],
      "source": [
        "%%writefile scripts_bash/07_validar_informacion.sh\n",
        "#!/bin/bash\n",
        "\n",
        "option=0\n",
        "backupName=\"\"\n",
        "\n",
        "echo \"Programa de utilidades\"\n",
        "echo -n \"Ingresar una opci\u00f3n: \"\n",
        "read -n1\n",
        "option1=$REPLY\n",
        "echo \"\"\n",
        "echo -n \"Ingresar un nombre: \"\n",
        "read -n4 backupName\n",
        "echo \"\"\n",
        "read -p \"Ingresar otra opci\u00f3n: \" option2\n",
        "echo \"\"\n",
        "read -s -p \"Password: \" password\n",
        "echo \"\"\n",
        "echo \"Opci\u00f3n: $option1-$option2, backupName: $backupName, password: $password\""
      ]
    },
    {
      "cell_type": "code",
      "execution_count": 5,
      "metadata": {},
      "outputs": [
        {
          "name": "stdout",
          "output_type": "stream",
          "text": [
            "Programa de utilidades\n",
            "Ingresar una opci\u00f3n: \n",
            "Ingresar un nombre: \n",
            "\n",
            "\n",
            "Opci\u00f3n: 1-2, backupName: back, password: 1234\n"
          ]
        }
      ],
      "source": [
        "!chmod +x scripts_bash/07_validar_informacion.sh && echo \"1back2\\n1234\" | ./scripts_bash/07_validar_informacion.sh"
      ]
    },
    {
      "attachments": {},
      "cell_type": "markdown",
      "metadata": {},
      "source": [
        "## Se n\u00e3o"
      ]
    },
    {
      "attachments": {},
      "cell_type": "markdown",
      "metadata": {},
      "source": [
        "A maneira de escrever condicionais `if`-`else` \u00e9:",
        "\n",
        "``` bash\n",
        "if [[condi\u00e7\u00e3o]]; then",
        "afirma\u00e7\u00e3o",
        "elif [[condi\u00e7\u00e3o]]; then",
        "declara\u00e7\u00e3o",
        "else",
        "declara\u00e7\u00e3o",
        "fi",
        "```\n",
        "\n",
        "\u00c9 importante ressaltar que as condi\u00e7\u00f5es devem estar entre dois colchetes `[[]]`"
      ]
    },
    {
      "cell_type": "code",
      "execution_count": 5,
      "metadata": {},
      "outputs": [
        {
          "name": "stdout",
          "output_type": "stream",
          "text": [
            "Overwriting scripts_bash/08_if_else.sh\n"
          ]
        }
      ],
      "source": [
        "%%writefile scripts_bash/08_if_else.sh\n",
        "#!/bin/bash\n",
        "\n",
        "if [[ 1 > 2 ]]; then\n",
        "    echo \"Verdadero\"\n",
        "elif [[ 1 > 3 ]]; then\n",
        "    echo \"Verdadero\"\n",
        "else\n",
        "    echo \"Falso\"\n",
        "fi"
      ]
    },
    {
      "cell_type": "code",
      "execution_count": 6,
      "metadata": {},
      "outputs": [
        {
          "name": "stdout",
          "output_type": "stream",
          "text": [
            "Falso\n"
          ]
        }
      ],
      "source": [
        "!chmod +x scripts_bash/08_if_else.sh && ./scripts_bash/08_if_else.sh"
      ]
    },
    {
      "attachments": {},
      "cell_type": "markdown",
      "metadata": {},
      "source": [
        "Vamos ver como s\u00e3o criados `if`s aninhados"
      ]
    },
    {
      "cell_type": "code",
      "execution_count": 7,
      "metadata": {},
      "outputs": [
        {
          "name": "stdout",
          "output_type": "stream",
          "text": [
            "Overwriting scripts_bash/08_if_else.sh\n"
          ]
        }
      ],
      "source": [
        "%%writefile scripts_bash/08_if_else.sh\n",
        "#!/bin/bash\n",
        "\n",
        "if [[ 1 > 2 ]]; then\n",
        "    echo \"Verdadero\"\n",
        "elif [[ 1 > 3 ]]; then\n",
        "    echo \"Verdadero\"\n",
        "else\n",
        "    if [[ 1 > 4 ]]; then\n",
        "        echo \"Verdadero pero falso\"\n",
        "    else\n",
        "        echo \"Totalmente falso\"\n",
        "    fi\n",
        "fi"
      ]
    },
    {
      "cell_type": "code",
      "execution_count": 8,
      "metadata": {},
      "outputs": [
        {
          "name": "stdout",
          "output_type": "stream",
          "text": [
            "Totalmente falso\n"
          ]
        }
      ],
      "source": [
        "!chmod +x scripts_bash/08_if_else.sh && ./scripts_bash/08_if_else.sh"
      ]
    },
    {
      "attachments": {},
      "cell_type": "markdown",
      "metadata": {},
      "source": [
        "## Express\u00f5es condicionais"
      ]
    },
    {
      "attachments": {},
      "cell_type": "markdown",
      "metadata": {},
      "source": [
        "J\u00e1 vimos como criar `if`s, mas \u00e9 necess\u00e1rio explicar como criar as express\u00f5es condicionais",
        "\n",
        "Se vamos a realizar compara\u00e7\u00f5es entre cadeias ou strings",
        "\n",
        "|opera\u00e7\u00e3o|comando|exemplo|",
        "|---------|-------|-------|",
        "|maior que|`>`|`[[ cadeia1 > cadeia2 ]]`|",
        "|menor que|`<`|`[[ cadeia1 < cadeia2 ]]`|",
        "|igual que|`==`|`[[ cadeia1 == cadeia2 ]]`|",
        "|igual que|`=`|`[[ cadeia1 = cadeia2 ]]`|",
        "|cadeia vazia|`-z`|`[[ -z cadeia ]]`|",
        "|cadeia n\u00e3o vazia|`-n`|`[[ -n cadeia ]]`|",
        "|cadeia n\u00e3o vazia||`[[ cadeia ]]`|",
        "    \n",
        "Se o que vamos a fazer \u00e9 realizar compara\u00e7\u00f5es entre n\u00fameros",
        "\n",
        "|opera\u00e7\u00e3o|comando|exemplo|",
        "|---------|-------|-------|",
        "|maior que|`-gt`|`[[ numero1 -gt numero2 ]]`|",
        "|maior ou igual a|`-ge`|`[[ numero1 -ge numero2 ]]`|",
        "|menor que|`-lt`|`[[ n\u00famero1 -lt n\u00famero2 ]]`|",
        "|menor ou igual a|`-le`|`[[ n\u00famero1 -le n\u00famero2 ]]`|",
        "|igual que|`-eq`|`[[ n\u00famero1 -eq n\u00famero2 ]]`|",
        "|diferente de|`-ne`|`[[ n\u00famero1 -ne n\u00famero2 ]]`|",
        "\n",
        "Se quisermos verificar arquivos ou diret\u00f3rios",
        "\n",
        "|opera\u00e7\u00e3o|comando|exemplo|",
        "|---------|-------|-------|",
        "|\u00e9 um diret\u00f3rio?|`-d`|`[[ -d <dir> ]]`|",
        "|\u00e9 um arquivo?|`-f`|`[[ -f <arquivo> ]]`|",
        "|existe?|`-e`|`[[ -e <arquivo> ]]` ou `[[ -e <diret\u00f3rio> ]]`|",
        "|\u00e9 leg\u00edvel?|`-r`|`[[ -r <file> ]]`|",
        "|\u00e9 escrev\u00edvel?|`-w`|`[[ -w <file> ]]`|",
        "|\u00e9 execut\u00e1vel?|`-x`|`[[ -x <file> ]]`|",
        "|\u00e9 um link?|`-L`|`[[ -L <file> ]]`|",
        "|tem conte\u00fado?|`-s`|`[[ -s <arquivo> ]]`|",
        "|\u00e9 propriedade do usu\u00e1rio?|`-O`|`[[ -O <file> ]]`|",
        "|\u00e9 propriedade do grupo?|`-G`|`[[ -G <arquivo> ]]`|",
        "|foi modificado?|`-N`|`[[ -N <file> ]]`|",
        "|file1 \u00e9 mais recente que file2?|`-nt`|`[[ <file1> -nt <file2> ]]`|",
        "|file1 \u00e9 mais antigo que file2?|`-ot`|`[[ <file1> -ot <file2> ]]`|",
        "|file1 \u00e9 o mesmo arquivo que file2?|`-ef`|`[[ <file1> -ef <file2> ]]`|",
        "|file1 \u00e9 o mesmo arquivo que file2?|`-ef`|`[[ <file1> -ef <file2> ]]`|",
        "\n",
        "Se quisermos comparar condi\u00e7\u00f5es conjuntas com `and`, `or` e `not`",
        "\n",
        "|opera\u00e7\u00e3o|comando|exemplo|",
        "|---------|-------|-------|",
        "|e|`&&`|`[[ <condicao1> && <condicao2> ]]`|",
        "|ou|`||`|`[[ <condicao1> || <condicao2> ]]`|",
        "\n",
        "Se quisermos negar as condi\u00e7\u00f5es",
        "\n",
        "|opera\u00e7\u00e3o|comando|exemplo|",
        "|---------|-------|-------|",
        "|n\u00e3o|`!`|`[[ ! <condi\u00e7\u00e3o> ]]`|"
      ]
    },
    {
      "cell_type": "code",
      "execution_count": 51,
      "metadata": {},
      "outputs": [
        {
          "name": "stdout",
          "output_type": "stream",
          "text": [
            "Overwriting scripts_bash/09_condicionales.sh\n"
          ]
        }
      ],
      "source": [
        "%%writefile scripts_bash/09_condicionales.sh\n",
        "#!/bin/bash\n",
        "\n",
        "echo \"Comparando strings\"\n",
        "string1=\"hola\"\n",
        "string2=\"hola\"\n",
        "string3=\"chao\"\n",
        "string4=\"\"\n",
        "if [[ $string1 > $string3 ]]; then\n",
        "    echo \"$string1 es mayor que $string3\"\n",
        "fi\n",
        "if [[ $string3 < $string1 ]]; then\n",
        "    echo \"$string3 es menor que $string1\"\n",
        "fi\n",
        "if [[ $string1 == $string2 ]]; then\n",
        "    echo \"$string1 es igual que $string2\"\n",
        "fi\n",
        "if [[ $string1 != $string3 ]]; then\n",
        "    echo \"$string1 es diferente que $string3\"\n",
        "fi\n",
        "if [[ -z $string4 ]]; then\n",
        "    echo \"$string4 es una cadena vac\u00eda\"\n",
        "fi\n",
        "if [[ -n $string3 ]]; then\n",
        "    echo \"$string3 es una cadena no vac\u00eda\"\n",
        "fi\n",
        "if [[ $string3 ]]; then\n",
        "    echo \"$string3 es una cadena no vac\u00eda\"\n",
        "fi\n",
        "\n",
        "echo -e \"\\nComparando n\u00fameros\"\n",
        "number1=10\n",
        "number2=10\n",
        "number3=20\n",
        "if [[ $number3 -gt $number1 ]]; then\n",
        "    echo \"$number3 es mayor que $number1\"\n",
        "fi\n",
        "if [[ $number3 -ge $number2 ]]; then\n",
        "    echo \"$number3 es mayor o igual que $number2\"\n",
        "fi\n",
        "if [[ $number1 -lt $number3 ]]; then\n",
        "    echo \"$number1 es menor que $number3\"\n",
        "fi\n",
        "if [[ $number1 -le $number2 ]]; then\n",
        "    echo \"$number1 es menor o igual que $number2\"\n",
        "fi\n",
        "if [[ $number1 -eq $number2 ]]; then\n",
        "    echo \"$number1 es igual que $number2\"\n",
        "fi\n",
        "if [[ $number1 -ne $number3 ]]; then\n",
        "    echo \"$number1 es diferente que $number3\"\n",
        "fi\n",
        "\n",
        "echo -e \"\\nComparando archivos\"\n",
        "file1=\"$PWD/2021-02-11-Introduccion-a-Python.ipynb\"\n",
        "file2=\"$PWD/scripts_bash\"\n",
        "file3=\"$PWD/mi_paquete_de_python\"\n",
        "if [[ -d $file2 ]]; then\n",
        "    echo \"$file2 es un directorio\"\n",
        "fi\n",
        "if [[ -f $file1 ]]; then\n",
        "    echo \"$file1 es un archivo\"\n",
        "fi\n",
        "if [[ -e $file1 ]]; then\n",
        "    echo \"$file1 existe\"\n",
        "fi\n",
        "if [[ -r $file1 ]]; then\n",
        "    echo \"$file1 es legible\"\n",
        "fi\n",
        "if [[ -w $file1 ]]; then\n",
        "    echo \"$file1 es escribible\"\n",
        "fi\n",
        "if [[ -x $file1 ]]; then\n",
        "    echo \"$file1 es ejecutable\"\n",
        "fi\n",
        "if [[ -L $file1 ]]; then\n",
        "    echo \"$file1 es un link\"\n",
        "fi\n",
        "if [[ -s $file1 ]]; then\n",
        "    echo \"$file1 tiene contenido\"\n",
        "fi\n",
        "if [[ -O $file1 ]]; then\n",
        "    echo \"$file1 es propiedad del usuario\"\n",
        "fi\n",
        "if [[ -G $file1 ]]; then\n",
        "    echo \"$file1 es propiedad del grupo\"\n",
        "fi\n",
        "if [[ -N $file1 ]]; then\n",
        "    echo \"$file1 fue modificado\"\n",
        "fi\n",
        "if [[ $file1 -nt $file2 ]]; then\n",
        "    echo \"$file1 es m\u00e1s nuevo que $file2\"\n",
        "fi\n",
        "if [[ $file1 -ot $file2 ]]; then\n",
        "    echo \"$file1 es m\u00e1s viejo que $file2\"\n",
        "fi\n",
        "if [[ $file1 -ef $file1 ]]; then\n",
        "    echo \"$file1 es el mismo archivo que $file2\"\n",
        "fi\n",
        "\n",
        "echo -e \"\\nComparando expresiones con AND\"\n",
        "if [[ 2 > 1 && 3 > 1 ]]; then\n",
        "    echo \"2 > 1 y 3 > 1\"\n",
        "fi\n",
        "\n",
        "echo -e \"\\nComparando expresiones con OR\"\n",
        "if [[ 2 > 1 || 1 > 2 ]]; then\n",
        "    echo \"2 > 1 o 1 > 2\"\n",
        "fi\n",
        "\n",
        "echo -e \"\\nComparando expresiones con NOT\"\n",
        "if [[ ! 1 > 2 ]]; then\n",
        "    echo \"1 > 2 no es cierto\"\n",
        "fi\n"
      ]
    },
    {
      "cell_type": "code",
      "execution_count": 52,
      "metadata": {},
      "outputs": [
        {
          "name": "stdout",
          "output_type": "stream",
          "text": [
            "Comparando strings\n",
            "hola es mayor que chao\n",
            "chao es menor que hola\n",
            "hola es igual que hola\n",
            "hola es diferente que chao\n",
            " es una cadena vac\u00eda\n",
            "chao es una cadena no vac\u00eda\n",
            "chao es una cadena no vac\u00eda\n",
            "\n",
            "Comparando n\u00fameros\n",
            "20 es mayor que 10\n",
            "20 es mayor o igual que 10\n",
            "10 es menor que 20\n",
            "10 es menor o igual que 10\n",
            "10 es igual que 10\n",
            "10 es diferente que 20\n",
            "\n",
            "Comparando archivos\n",
            "/home/wallabot/Documentos/web/portafolio/posts/scripts_bash es un directorio\n",
            "/home/wallabot/Documentos/web/portafolio/posts/2021-02-11-Introduccion-a-Python.ipynb es un archivo\n",
            "/home/wallabot/Documentos/web/portafolio/posts/2021-02-11-Introduccion-a-Python.ipynb existe\n",
            "/home/wallabot/Documentos/web/portafolio/posts/2021-02-11-Introduccion-a-Python.ipynb es legible\n",
            "/home/wallabot/Documentos/web/portafolio/posts/2021-02-11-Introduccion-a-Python.ipynb es escribible\n",
            "/home/wallabot/Documentos/web/portafolio/posts/2021-02-11-Introduccion-a-Python.ipynb tiene contenido\n",
            "/home/wallabot/Documentos/web/portafolio/posts/2021-02-11-Introduccion-a-Python.ipynb es propiedad del usuario\n",
            "/home/wallabot/Documentos/web/portafolio/posts/2021-02-11-Introduccion-a-Python.ipynb es propiedad del grupo\n",
            "/home/wallabot/Documentos/web/portafolio/posts/2021-02-11-Introduccion-a-Python.ipynb es m\u00e1s viejo que /home/wallabot/Documentos/web/portafolio/posts/scripts_bash\n",
            "/home/wallabot/Documentos/web/portafolio/posts/2021-02-11-Introduccion-a-Python.ipynb es el mismo archivo que /home/wallabot/Documentos/web/portafolio/posts/scripts_bash\n",
            "\n",
            "Comparando expresiones con AND\n",
            "2 > 1 y 3 > 1\n",
            "\n",
            "Comparando expresiones con OR\n",
            "2 > 1 o 1 > 2\n",
            "\n",
            "Comparando expresiones con NOT\n",
            "1 > 2 no es cierto\n"
          ]
        }
      ],
      "source": [
        "!chmod +x scripts_bash/09_condicionales.sh && ./scripts_bash/09_condicionales.sh"
      ]
    },
    {
      "attachments": {},
      "cell_type": "markdown",
      "metadata": {},
      "source": [
        "## Senten\u00e7a `case`"
      ]
    },
    {
      "attachments": {},
      "cell_type": "markdown",
      "metadata": {},
      "source": [
        "A seguir, veremos como escrever o t\u00edpico `switch-case`, mas neste caso s\u00f3 \u00e9 usado `case`.",
        "\n",
        "``` bash\n",
        "case $vari\u00e1vel in",
        "<valor1>) <sentencia1>;;",
        "<valor2>) <sentencia2>;;",
        "<valor3>) <sentencia3>;;",
        "...",
        "*) <declara\u00e7\u00e3o que n\u00e3o atende a nenhuma das anteriores>",
        "esac",
        "```"
      ]
    },
    {
      "cell_type": "code",
      "execution_count": 53,
      "metadata": {},
      "outputs": [
        {
          "name": "stdout",
          "output_type": "stream",
          "text": [
            "Writing scripts_bash/10_case.sh\n"
          ]
        }
      ],
      "source": [
        "%%writefile scripts_bash/10_case.sh\n",
        "#!/bin/bash\n",
        "\n",
        "variable=\"amarillo\"\n",
        "\n",
        "case $variable in\n",
        "    \"rojo\") echo \"Color rojo\";;\n",
        "    \"verde\") echo \"Color verde\";;\n",
        "    \"azul\") echo \"Color azul\";;\n",
        "    *) echo \"Color desconocido\";;\n",
        "esac"
      ]
    },
    {
      "cell_type": "code",
      "execution_count": 54,
      "metadata": {},
      "outputs": [
        {
          "name": "stdout",
          "output_type": "stream",
          "text": [
            "Color desconocido\n"
          ]
        }
      ],
      "source": [
        "!chmod +x scripts_bash/10_case.sh && ./scripts_bash/10_case.sh"
      ]
    },
    {
      "attachments": {},
      "cell_type": "markdown",
      "metadata": {},
      "source": [
        "## Arrays"
      ]
    },
    {
      "attachments": {},
      "cell_type": "markdown",
      "metadata": {},
      "source": [
        "Vamos a ver como se comportam os arrays em bash scripting"
      ]
    },
    {
      "cell_type": "code",
      "execution_count": 5,
      "metadata": {},
      "outputs": [
        {
          "name": "stdout",
          "output_type": "stream",
          "text": [
            "Overwriting scripts_bash/11_arrays.sh\n"
          ]
        }
      ],
      "source": [
        "%%writefile scripts_bash/11_arrays.sh\n",
        "#!/bin/bash\n",
        "\n",
        "arrayNumeros=(1 2 3 4 5)\n",
        "arrayStrings=(\"hola\" \"chao\" \"adios\")\n",
        "arrayMixto=(1 \"hola\" 2 \"chao\" 3 \"adios\")\n",
        "arrayVacio=()\n",
        "arrayRango=({A..Z})\n",
        "\n",
        "echo \"Arrays\"\n",
        "echo \"Array de n\u00fameros: ${arrayNumeros[*]}\"\n",
        "echo \"Array de strings: ${arrayStrings[*]}\"\n",
        "echo \"Array mixto: ${arrayMixto[*]}\"\n",
        "echo \"Array vac\u00edo: ${arrayVacio[*]}\"\n",
        "echo \"Array de rango: ${arrayRango[*]}\"\n",
        "\n",
        "echo -e \"\\nAccediendo a elementos\"\n",
        "echo \"Primer elemento del array de n\u00fameros: ${arrayNumeros[0]}\"\n",
        "echo \"Segundo elemento del array de strings: ${arrayStrings[1]}\"\n",
        "echo \"\u00daltimo elemento del array de n\u00fameros: ${arrayNumeros[-1]}\"\n",
        "echo \"Pen\u00faltimo elemento del array de strings: ${arrayStrings[-2]}\"\n",
        "\n",
        "echo -e \"\\nLongitud de arrays\"\n",
        "echo \"Longitud del array de n\u00fameros: ${#arrayNumeros[*]}\"\n",
        "echo \"Longitud del array de strings: ${#arrayStrings[*]}\"\n",
        "echo \"Longitud del array mixto: ${#arrayMixto[*]}\"\n",
        "echo \"Longitud del array vac\u00edo: ${#arrayVacio[*]}\"\n",
        "echo \"Longitud del array de rango: ${#arrayRango[*]}\"\n",
        "\n",
        "echo -e \"\\nA\u00f1adiendo y eliminando elementos\"\n",
        "arrayNumeros[5]=6\n",
        "echo \"A\u00f1adiendo elemento al array de n\u00fameros: ${arrayNumeros[*]}\"\n",
        "unset arrayStrings[1]\n",
        "echo \"Eliminando elemento del array de strings: ${arrayStrings[*]}\""
      ]
    },
    {
      "cell_type": "code",
      "execution_count": 6,
      "metadata": {},
      "outputs": [
        {
          "name": "stdout",
          "output_type": "stream",
          "text": [
            "Arrays\n",
            "Array de n\u00fameros: 1 2 3 4 5\n",
            "Array de strings: hola chao adios\n",
            "Array mixto: 1 hola 2 chao 3 adios\n",
            "Array vac\u00edo: \n",
            "Array de rango: A B C D E F G H I J K L M N O P Q R S T U V W X Y Z\n",
            "\n",
            "Accediendo a elementos\n",
            "Primer elemento del array de n\u00fameros: 1\n",
            "Segundo elemento del array de strings: chao\n",
            "\u00daltimo elemento del array de n\u00fameros: 5\n",
            "Pen\u00faltimo elemento del array de strings: chao\n",
            "\n",
            "Longitud de arrays\n",
            "Longitud del array de n\u00fameros: 5\n",
            "Longitud del array de strings: 3\n",
            "Longitud del array mixto: 6\n",
            "Longitud del array vac\u00edo: 0\n",
            "Longitud del array de rango: 26\n",
            "\n",
            "A\u00f1adiendo y eliminando elementos\n",
            "A\u00f1adiendo elemento al array de n\u00fameros: 1 2 3 4 5 6\n",
            "Eliminando elemento del array de strings: hola adios\n"
          ]
        }
      ],
      "source": [
        "!chmod +x scripts_bash/11_arrays.sh && ./scripts_bash/11_arrays.sh"
      ]
    },
    {
      "attachments": {},
      "cell_type": "markdown",
      "metadata": {},
      "source": [
        "## La\u00e7o `for`"
      ]
    },
    {
      "attachments": {},
      "cell_type": "markdown",
      "metadata": {},
      "source": [
        "Para utilizar o loop `for` \u00e9 necess\u00e1rio usar a seguinte sintaxe",
        "\n",
        "``` bash\n",
        "para <vari\u00e1vel> em <array>",
        "fa\u00e7a",
        "frase",
        "Entendido. Por favor, proporciona el texto markdown que deseas que traduzca al portugu\u00e9s.",
        "```\n",
        "\n",
        "Vamos a ver um exemplo"
      ]
    },
    {
      "cell_type": "code",
      "execution_count": 5,
      "metadata": {},
      "outputs": [
        {
          "name": "stdout",
          "output_type": "stream",
          "text": [
            "Overwriting scripts_bash/12_for.sh\n"
          ]
        }
      ],
      "source": [
        "%%writefile scripts_bash/12_for.sh\n",
        "#!/bin/bash\n",
        "\n",
        "arrayNumeros=(1 2 3 4 5)\n",
        "arrayStrings=(\"hola\" \"chao\" \"adios\")\n",
        "\n",
        "echo \"Iterar a trav\u00e9s de un array de numeros\"\n",
        "for numero in ${arrayNumeros[*]}\n",
        "do\n",
        "    echo \"N\u00famero: $numero\"\n",
        "done\n",
        "\n",
        "echo -e \"\\nIterar a trav\u00e9s de un array de strings\"\n",
        "for string in ${arrayStrings[*]}\n",
        "do\n",
        "    echo \"String: $string\"\n",
        "done\n",
        "\n",
        "echo -e \"\\nIterar a trav\u00e9s de un array no declarado\"\n",
        "for string in \"Manolo\" \"Juan\" \"Pedro\"\n",
        "do\n",
        "    echo \"String: $string\"\n",
        "done\n",
        "\n",
        "echo -e \"\\nIterar a trav\u00e9s de un rango\"\n",
        "for i in {1..10}\n",
        "do\n",
        "    echo \"N\u00famero: $i\"\n",
        "done\n",
        "\n",
        "echo -e \"\\nIterar a trav\u00e9s de un rango de manera cl\u00e1sica\"\n",
        "for (( i=1; i<=10; i++ ))\n",
        "do\n",
        "    echo \"N\u00famero: $i\"\n",
        "done\n",
        "\n",
        "echo -e \"\\nIterar a trav\u00e9s de un comando\"\n",
        "for file in $(ls)\n",
        "do\n",
        "    echo \"Archivo: $file\"\n",
        "done\n",
        "\n",
        "echo -e \"\\nIterar a trav\u00e9s de un directorio\"\n",
        "for file in *\n",
        "do\n",
        "    echo \"Archivo: $file\"\n",
        "done"
      ]
    },
    {
      "cell_type": "code",
      "execution_count": 4,
      "metadata": {},
      "outputs": [
        {
          "name": "stdout",
          "output_type": "stream",
          "text": [
            "Iterar a trav\u00e9s de un array de numeros\n",
            "N\u00famero: 1\n",
            "N\u00famero: 2\n",
            "N\u00famero: 3\n",
            "N\u00famero: 4\n",
            "N\u00famero: 5\n",
            "\n",
            "Iterar a trav\u00e9s de un array de strings\n",
            "String: hola\n",
            "String: chao\n",
            "String: adios\n",
            "\n",
            "Iterar a trav\u00e9s de un array no declarado\n",
            "String: Manolo\n",
            "String: Juan\n",
            "String: Pedro\n",
            "\n",
            "Iterar a trav\u00e9s de un rango\n",
            "N\u00famero: 1\n",
            "N\u00famero: 2\n",
            "N\u00famero: 3\n",
            "N\u00famero: 4\n",
            "N\u00famero: 5\n",
            "N\u00famero: 6\n",
            "N\u00famero: 7\n",
            "N\u00famero: 8\n",
            "N\u00famero: 9\n",
            "N\u00famero: 10\n",
            "\n",
            "Iterar a trav\u00e9s de un rango de manera cl\u00e1sica\n",
            "N\u00famero: 1\n",
            "N\u00famero: 2\n",
            "N\u00famero: 3\n",
            "N\u00famero: 4\n",
            "N\u00famero: 5\n",
            "N\u00famero: 6\n",
            "N\u00famero: 7\n",
            "N\u00famero: 8\n",
            "N\u00famero: 9\n",
            "N\u00famero: 10\n",
            "\n",
            "Iterar a trav\u00e9s de un comando\n",
            "Archivo: 2021-02-11-Introduccion-a-Python.ipynb\n",
            "Archivo: 2021-04-23-Calculo-matricial-con-Numpy.ipynb\n",
            "Archivo: 2021-06-15-Manejo-de-datos-con-Pandas.ipynb\n",
            "Archivo: 2022-09-12-Introduccion-a-la-terminal.ipynb\n",
            "Archivo: 2023-01-22-Docker.ipynb\n",
            "Archivo: 2023-XX-XX-Bash-scripting.ipynb\n",
            "Archivo: california_housing_train.csv\n",
            "Archivo: command-line-cheat-sheet.pdf\n",
            "Archivo: CSS.ipynb\n",
            "Archivo: Expresiones\n",
            "Archivo: regulares.ipynb\n",
            "Archivo: html_files\n",
            "Archivo: html.ipynb\n",
            "Archivo: introduccion_python\n",
            "Archivo: mi_paquete_de_python\n",
            "Archivo: movies.csv\n",
            "Archivo: movies.dat\n",
            "Archivo: notebooks_translated\n",
            "Archivo: __pycache__\n",
            "Archivo: scripts_bash\n",
            "Archivo: ssh.ipynb\n",
            "Archivo: test.ipynb\n",
            "\n",
            "Iterar a trav\u00e9s de un directorio\n",
            "Archivo: 2021-02-11-Introduccion-a-Python.ipynb\n",
            "Archivo: 2021-04-23-Calculo-matricial-con-Numpy.ipynb\n",
            "Archivo: 2021-06-15-Manejo-de-datos-con-Pandas.ipynb\n",
            "Archivo: 2022-09-12-Introduccion-a-la-terminal.ipynb\n",
            "Archivo: 2023-01-22-Docker.ipynb\n",
            "Archivo: 2023-XX-XX-Bash-scripting.ipynb\n",
            "Archivo: california_housing_train.csv\n",
            "Archivo: command-line-cheat-sheet.pdf\n",
            "Archivo: CSS.ipynb\n",
            "Archivo: Expresiones regulares.ipynb\n",
            "Archivo: html_files\n",
            "Archivo: html.ipynb\n",
            "Archivo: introduccion_python\n",
            "Archivo: mi_paquete_de_python\n",
            "Archivo: movies.csv\n",
            "Archivo: movies.dat\n",
            "Archivo: notebooks_translated\n",
            "Archivo: __pycache__\n",
            "Archivo: scripts_bash\n",
            "Archivo: ssh.ipynb\n",
            "Archivo: test.ipynb\n"
          ]
        }
      ],
      "source": [
        "!chmod +x scripts_bash/12_for.sh && ./scripts_bash/12_for.sh"
      ]
    },
    {
      "attachments": {},
      "cell_type": "markdown",
      "metadata": {},
      "source": [
        "## La\u00e7o `while`"
      ]
    },
    {
      "attachments": {},
      "cell_type": "markdown",
      "metadata": {},
      "source": [
        "Para utilizar o loop `while` \u00e9 necess\u00e1rio usar a seguinte sintaxe",
        "\n",
        "``` bash\n",
        "while <condicion>",
        "fa\u00e7a",
        "frase",
        "feito",
        "```\n",
        "\n",
        "Vamos a ver um exemplo"
      ]
    },
    {
      "cell_type": "code",
      "execution_count": 14,
      "metadata": {},
      "outputs": [
        {
          "name": "stdout",
          "output_type": "stream",
          "text": [
            "Overwriting scripts_bash/13_while.sh\n"
          ]
        }
      ],
      "source": [
        "%%writefile scripts_bash/13_while.sh\n",
        "#!/bin/bash\n",
        "\n",
        "numero=1\n",
        "while [ $numero -ne 5 ]\n",
        "do\n",
        "    echo \"N\u00famero: $numero\"\n",
        "    numero=$(( numero + 1 ))\n",
        "done"
      ]
    },
    {
      "cell_type": "code",
      "execution_count": 15,
      "metadata": {},
      "outputs": [
        {
          "name": "stdout",
          "output_type": "stream",
          "text": [
            "N\u00famero: 1\n",
            "N\u00famero: 2\n",
            "N\u00famero: 3\n",
            "N\u00famero: 4\n"
          ]
        }
      ],
      "source": [
        "!chmod +x scripts_bash/13_while.sh && ./scripts_bash/13_while.sh"
      ]
    },
    {
      "attachments": {},
      "cell_type": "markdown",
      "metadata": {},
      "source": [
        "## Controle de fluxo com `break` e `continue`"
      ]
    },
    {
      "attachments": {},
      "cell_type": "markdown",
      "metadata": {},
      "source": [
        "Podemos controlar o fluxo de um loop usando as palavras-chave `break` e `continue`. Vamos ver um exemplo:"
      ]
    },
    {
      "cell_type": "code",
      "execution_count": 18,
      "metadata": {},
      "outputs": [
        {
          "name": "stdout",
          "output_type": "stream",
          "text": [
            "Overwriting scripts_bash/14_control_de_flujo.sh\n"
          ]
        }
      ],
      "source": [
        "%%writefile scripts_bash/14_control_de_flujo.sh\n",
        "#!/bin/bash\n",
        "\n",
        "numero=1\n",
        "while [ $numero -ne 10 ]\n",
        "do\n",
        "    if [ $numero -eq 5 ]; then\n",
        "        numero=$(( numero + 1 ))\n",
        "        echo \"Saltando el n\u00famero 5\"\n",
        "        continue\n",
        "    elif\n",
        "        [ $numero -eq 8 ]; then\n",
        "        echo \"Terminando el bucle\"\n",
        "        break\n",
        "    fi \n",
        "    echo \"N\u00famero: $numero\"\n",
        "    numero=$(( numero + 1 ))\n",
        "done"
      ]
    },
    {
      "cell_type": "code",
      "execution_count": 19,
      "metadata": {},
      "outputs": [
        {
          "name": "stdout",
          "output_type": "stream",
          "text": [
            "N\u00famero: 1\n",
            "N\u00famero: 2\n",
            "N\u00famero: 3\n",
            "N\u00famero: 4\n",
            "Saltando el n\u00famero 5\n",
            "N\u00famero: 6\n",
            "N\u00famero: 7\n",
            "Terminando el bucle\n"
          ]
        }
      ],
      "source": [
        "!chmod +x scripts_bash/14_control_de_flujo.sh && ./scripts_bash/14_control_de_flujo.sh"
      ]
    },
    {
      "attachments": {},
      "cell_type": "markdown",
      "metadata": {},
      "source": [
        "## Fun\u00e7\u00f5es"
      ]
    },
    {
      "attachments": {},
      "cell_type": "markdown",
      "metadata": {},
      "source": [
        "A sintaxe para escrever fun\u00e7\u00f5es \u00e9",
        "\n",
        "``` bash\n",
        "<nome da fun\u00e7\u00e3o> (){",
        "instru\u00e7\u00f5es",
        "}",
        "```\n",
        "\n",
        "Vamos ver um exemplo"
      ]
    },
    {
      "cell_type": "code",
      "execution_count": 20,
      "metadata": {},
      "outputs": [
        {
          "name": "stdout",
          "output_type": "stream",
          "text": [
            "Writing scripts_bash/15_funciones.sh\n"
          ]
        }
      ],
      "source": [
        "%%writefile scripts_bash/15_funciones.sh\n",
        "#!/bin/bash\n",
        "\n",
        "funcion () {\n",
        "    echo \"Soy una funci\u00f3n\"\n",
        "}\n",
        "\n",
        "funcoionConParametros () {\n",
        "    echo \"Soy una funci\u00f3n con par\u00e1metros\"\n",
        "    echo \"Par\u00e1metro 1: $1\"\n",
        "    echo \"Par\u00e1metro 2: $2\"\n",
        "}\n",
        "\n",
        "funcion\n",
        "funcoionConParametros \"Hola\" \"Adi\u00f3s\""
      ]
    },
    {
      "cell_type": "code",
      "execution_count": 21,
      "metadata": {},
      "outputs": [
        {
          "name": "stdout",
          "output_type": "stream",
          "text": [
            "Soy una funci\u00f3n\n",
            "Soy una funci\u00f3n con par\u00e1metros\n",
            "Par\u00e1metro 1: Hola\n",
            "Par\u00e1metro 2: Adi\u00f3s\n"
          ]
        }
      ],
      "source": [
        "!chmod +x scripts_bash/15_funciones.sh && ./scripts_bash/15_funciones.sh"
      ]
    }
  ],
  "metadata": {
    "kernelspec": {
      "display_name": "base",
      "language": "python",
      "name": "python3"
    },
    "language_info": {
      "codemirror_mode": {
        "name": "ipython",
        "version": 3
      },
      "file_extension": ".py",
      "mimetype": "text/x-python",
      "name": "python",
      "nbconvert_exporter": "python",
      "pygments_lexer": "ipython3",
      "version": "3.7.6"
    },
    "maximofn": {
      "date": "2023-02-01",
      "description_en": "Feel like an old school programmer \ud83d\udc27 with this post about bash scripting.",
      "description_es": "Si\u00e9ntete un programador de la old school \ud83d\udc27 con este post sobre bash scripting",
      "description_pt": "PSinta-se como um programador da velha guarda \ud83d\udc27 com esta postagem sobre scripts bash",
      "end_url": "bash-scripting",
      "image": "https://pub-fb664c455eca46a2ba762a065ac900f7.r2.dev/bash-scripting.webp",
      "image_hover_path": "https://pub-fb664c455eca46a2ba762a065ac900f7.r2.dev/bash-scripting.webp",
      "keywords_en": "bash, scripting, linux, old school, terminal",
      "keywords_es": "bash, scripting, linux, old school, terminal",
      "keywords_pt": "bash, scripting, linux, old school, terminal",
      "title_en": "Bash scripting",
      "title_es": "Bash scripting",
      "title_pt": "Bash scripting"
    },
    "orig_nbformat": 4,
    "vscode": {
      "interpreter": {
        "hash": "d5745ab6aba164e1152437c779991855725055592b9f2bdb41a4825db7168d26"
      }
    }
  },
  "nbformat": 4,
  "nbformat_minor": 2
}