{
  "cells": [
  {
      "attachments": {},
      "cell_type": "markdown",
      "metadata": {},
      "source": [
      "# SSH"
      ]
    },
{
      "attachments": {},
      "cell_type": "markdown",
      "metadata": {},
      "source": [
      "## Historical introduction"
      ]
    },
{
      "attachments": {},
      "cell_type": "markdown",
      "metadata": {},
      "source": [
      "This notebook has been automatically translated to make it accessible to more people, please let me know if you see any typos.\n",
"\n",
"In the early days of the Internet, the `telnet` protocol was created to communicate with several computers, but it had the problem that it was not encrypted, so anyone who got in the way could read the communication without any problem, that is why `SSH` (Secure Shell) was created."
      ]
    },
{
      "attachments": {},
      "cell_type": "markdown",
      "metadata": {},
      "source": [
      "## `SSH` encryption"
      ]
    },
{
      "attachments": {},
      "cell_type": "markdown",
      "metadata": {},
      "source": [
      "The `SSH` encryption system works by means of the public key and private key system, so that if the communication is encrypted with one of the two keys, it can only be decrypted by the other key.\n",
"\n",
"And why is there a public key and a private key? The public key is the one you give to everyone and the private key is the one that only you have to possess.\n",
"\n",
"So if you want to communicate with another computer by `SSH`, first you give them your public key, then you encrypt the message with your private key and they can only decrypt the message with the public key you have given to the other computer.\n",
"\n",
"The same happens the other way around, if the other computer wants to send you a message, it encrypts it with your public key and can only be decrypted with the private key that only you have."
      ]
    },
{
      "attachments": {},
      "cell_type": "markdown",
      "metadata": {},
      "source": [
      "## `SSH` requirements"
      ]
    },
{
      "attachments": {},
      "cell_type": "markdown",
      "metadata": {},
      "source": [
      "### Service `SSH`"
      ]
    },
{
      "attachments": {},
      "cell_type": "markdown",
      "metadata": {},
      "source": [
      "In order to use `SSH` you need to have a `SSH` service. On `Linux` it is usually already installed, but if it is not you can install it using"
      ]
    },
{
      "cell_type": "code",
      "execution_count": 8,
      "metadata": {},
      "outputs": [],
      "source": [
      "!apt install openssh-server"
      ]
    },
{
      "attachments": {},
      "cell_type": "markdown",
      "metadata": {},
      "source": [
      "During the installation process you will be prompted for your location to set the time zone."
      ]
    },
{
      "attachments": {},
      "cell_type": "markdown",
      "metadata": {},
      "source": [
      "We then lift the service"
      ]
    },
{
      "cell_type": "code",
      "execution_count": 8,
      "metadata": {},
      "outputs": [],
      "source": [
      "!systemctl enable ssh"
      ]
    },
{
      "attachments": {},
      "cell_type": "markdown",
      "metadata": {},
      "source": [
      "### `SSH` Client"
      ]
    },
{
      "attachments": {},
      "cell_type": "markdown",
      "metadata": {},
      "source": [
      "Once you have the service you need a client, although in `Linux` it usually comes installed, but if it doesn`t you can install it via"
      ]
    },
{
      "cell_type": "code",
      "execution_count": 8,
      "metadata": {},
      "outputs": [],
      "source": [
      "!apt install openssh-client"
      ]
    },
{
      "attachments": {},
      "cell_type": "markdown",
      "metadata": {},
      "source": [
      "## `SSH` connection"
      ]
    },
{
      "attachments": {},
      "cell_type": "markdown",
      "metadata": {},
      "source": [
      "To connect via `SSH` you need to enter the command `ssh <user>@<ip>`."
      ]
    },
{
      "cell_type": "code",
      "execution_count": 8,
      "metadata": {},
      "outputs": [
      {
          "name": "stdout",
          "output_type": "stream",
          "text": [
          "The authenticity of host '172.17.0.1 (172.17.0.1)' can't be established.\n",
"ECDSA key fingerprint is SHA256:M+qsqSC4HiYztm1ij8iDkh9KHJz+pxrTm9GTZIf2N9k.\n",
"Are you sure you want to continue connecting (yes/no/[fingerprint])?\n"
          ]
        }
      ],
      "source": [
      "!ssh root@172.17.0.1"
      ]
    },
{
      "attachments": {},
      "cell_type": "markdown",
      "metadata": {},
      "source": [
      "As you can see, the first time it asks you if you want to save the `fingerprint`, this is so that if the next time you connect to the same machine (to the same public key) if the `fingerprint` has changed you must be careful because there can be something dangerous, like that they make to go through that machine.\n",
"\n",
"If we rely on it, we enter `yes`."
      ]
    },
{
      "cell_type": "code",
      "execution_count": 8,
      "metadata": {},
      "outputs": [
      {
          "name": "stdout",
          "output_type": "stream",
          "text": [
          "The authenticity of host '172.17.0.1 (172.17.0.1)' can't be established.\n",
"ECDSA key fingerprint is SHA256:M+qsqSC4HiYztm1ij8iDkh9KHJz+pxrTm9GTZIf2N9k.\n",
"Are you sure you want to continue connecting (yes/no/[fingerprint])? yes\n",
"Warning: Permanently added '172.17.0.1' (ECDSA) to the list of known hosts.\n",
"root@172.17.0.1's password:\n"
          ]
        }
      ],
      "source": [
      "!ssh root@172.17.0.1"
      ]
    },
{
      "attachments": {},
      "cell_type": "markdown",
      "metadata": {},
      "source": [
      "Next, the machine to which we connect asks us for the password, we enter it and we will be inside the machine."
      ]
    },
{
      "cell_type": "code",
      "execution_count": 8,
      "metadata": {},
      "outputs": [
      {
          "name": "stdout",
          "output_type": "stream",
          "text": [
          "The authenticity of host '172.17.0.1 (172.17.0.1)' can't be established.\n",
"ECDSA key fingerprint is SHA256:M+qsqSC4HiYztm1ij8iDkh9KHJz+pxrTm9GTZIf2N9k.\n",
"Are you sure you want to continue connecting (yes/no/[fingerprint])? yes\n",
"Warning: Permanently added '172.17.0.1' (ECDSA) to the list of known hosts.\n",
"root@172.17.0.1's password: \n",
"Welcome to Ubuntu 20.04.5 LTS (GNU/Linux 5.15.0-58-generic x86_64)\n",
"\n",
" * Documentation:  https://help.ubuntu.com\n",
" * Management:     https://landscape.canonical.com\n",
" * Support:        https://ubuntu.com/advantage\n",
"\n",
"1 device has a firmware upgrade available.\n",
"Run `fwupdmgr get-upgrades` for more information.\n",
"\n",
"\n",
" * Introducing Expanded Security Maintenance for Applications.\n",
"   Receive updates to over 25,000 software packages with your\n",
"   Ubuntu Pro subscription. Free for personal use.\n",
"\n",
"     https://ubuntu.com/pro\n",
"\n",
"Se pueden aplicar 0 actualizaciones de forma inmediata.\n",
"\n",
"Your Hardware Enablement Stack (HWE) is supported until April 2025.\n",
"Last login: Thu Dec  1 16:32:23 2022 from 127.0.0.1\n",
"root@172.17.0.1:~$\n"
          ]
        }
      ],
      "source": [
      "!ssh root@172.17.0.1"
      ]
    },
{
      "attachments": {},
      "cell_type": "markdown",
      "metadata": {},
      "source": [
      "## Connection without password"
      ]
    },
{
      "attachments": {},
      "cell_type": "markdown",
      "metadata": {},
      "source": [
      "As we have seen when we connect we are asked for the password of the destination machine, but if it is a machine to which we are going to connect a lot we can do that it does not ask us for the password every time we want to connect."
      ]
    },
{
      "attachments": {},
      "cell_type": "markdown",
      "metadata": {},
      "source": [
      "For them, we first generate a `ssh` key using `ssh-keygen`."
      ]
    },
{
      "cell_type": "code",
      "execution_count": 8,
      "metadata": {},
      "outputs": [
      {
          "name": "stdout",
          "output_type": "stream",
          "text": [
          "Generating public/private rsa key pair.\n",
"Enter file in which to save the key (/root/.ssh/id_rsa): \n",
"Enter passphrase (empty for no passphrase): \n",
"Enter same passphrase again: \n",
"Your identification has been saved in /root/.ssh/id_rsa\n",
"Your public key has been saved in /root/.ssh/id_rsa.pub\n",
"The key fingerprint is:\n",
"SHA256:4HxRXkVkcK5kNXNyzakfQ6t8a24wRGCUYz4s5KL5ZEc root@e108f6f395b3\n",
"The key's randomart image is:\n",
"+---[RSA 3072]----+\n",
"|          o+==@.=|\n",
"|         +.= * Oo|\n",
"|      . + = = + .|\n",
"|     o o E * + + |\n",
"|      = S . = o o|\n",
"|     o + .   = o |\n",
"|      + .     + .|\n",
"|       .       + |\n",
"|              +. |\n",
"+----[SHA256]-----+\n"
          ]
        }
      ],
      "source": [
      "!ssh-keygen"
      ]
    },
{
      "attachments": {},
      "cell_type": "markdown",
      "metadata": {},
      "source": [
      "As we can see, first it asks us where we want to save the key, if we do not enter anything it saves it in the default path. And then a phrase to generate the key, **if you write a phrase you must always remember it**. Also if you write a phrase, it will ask for it every time you try to access the key, so every time we want to access the machine through `SSH`, it will not ask for the password of the machine, but it will ask for this phrase. So you choose if you do not enter a phrase so that it never asks for it, or if you do enter it and you will always enter it."
      ]
    },
{
      "attachments": {},
      "cell_type": "markdown",
      "metadata": {},
      "source": [
      "We then ask the remote machine to save our key using `ssh-copy-id <user>@<id>:`."
      ]
    },
{
      "cell_type": "code",
      "execution_count": 8,
      "metadata": {},
      "outputs": [
      {
          "name": "stdout",
          "output_type": "stream",
          "text": [
          "/usr/bin/ssh-copy-id: INFO: Source of key(s) to be installed: \"/root/.ssh/id_rsa.pub\"\n",
"/usr/bin/ssh-copy-id: INFO: attempting to log in with the new key(s), to filter out any that are already installed\n",
"/usr/bin/ssh-copy-id: INFO: 1 key(s) remain to be installed -- if you are prompted now it is to install the new keys\n",
"root@172.17.0.1's password: \n",
"\n",
"Number of key(s) added: 1\n",
"\n",
"Now try logging into the machine, with:   \"ssh 'root@172.17.0.1'\"\n",
"and check to make sure that only the key(s) you wanted were added.\n",
"\n",
"root@103b6040196a:/# ssh root@172.17.0.1\n",
"Welcome to Ubuntu 20.04.5 LTS (GNU/Linux 5.15.0-58-generic x86_64)\n",
"\n",
" * Documentation:  https://help.ubuntu.com\n",
" * Management:     https://landscape.canonical.com\n",
" * Support:        https://ubuntu.com/advantage\n",
"\n",
"4 devices have a firmware upgrade available.\n",
"Run `fwupdmgr get-upgrades` for more information.\n",
"\n",
"\n",
"58 updates can be applied immediately.\n",
"41 of these updates are standard security updates.\n",
"To see these additional updates run: apt list --upgradable\n",
"\n",
"New release '22.04.1 LTS' available.\n",
"Run 'do-release-upgrade' to upgrade to it.\n",
"\n",
"Your Hardware Enablement Stack (HWE) is supported until April 2025.\n",
"Last login: Thu Feb  2 08:05:48 2023 from 172.17.0.2\n",
"(base) root@172.17.0.1:~$\n"
          ]
        }
      ],
      "source": [
      "!ssh-copy-id root@172.17.0.1:"
      ]
    },
{
      "attachments": {},
      "cell_type": "markdown",
      "metadata": {},
      "source": [
      "## Using the remote terminal via `SSH"
      ]
    },
{
      "attachments": {},
      "cell_type": "markdown",
      "metadata": {},
      "source": [
      "Maybe we don't need to get into the remote machine because we only need to execute a single command, so we can remotely use its terminal by adding the `-t` flag to the `SSH` command, i.e. by `ssh -t <user>@<id> <command>`."
      ]
    },
{
      "cell_type": "code",
      "execution_count": 8,
      "metadata": {},
      "outputs": [
      {
          "name": "stdout",
          "output_type": "stream",
          "text": [
          "PING google.com (172.217.168.174) 56(84) bytes of data.\n",
"64 bytes from mad07s10-in-f14.1e100.net (172.217.168.174): icmp_seq=1 ttl=111 time=2.94 ms\n",
"64 bytes from mad07s10-in-f14.1e100.net (172.217.168.174): icmp_seq=2 ttl=111 time=2.55 ms\n",
"64 bytes from mad07s10-in-f14.1e100.net (172.217.168.174): icmp_seq=3 ttl=111 time=2.78 ms\n",
"64 bytes from mad07s10-in-f14.1e100.net (172.217.168.174): icmp_seq=4 ttl=111 time=2.69 ms\n",
"\n",
"--- google.com ping statistics ---\n",
"4 packets transmitted, 4 received, 0% packet loss, time 3005ms\n",
"rtt min/avg/max/mdev = 2.550/2.739/2.940/0.142 ms\n",
"Connection to 172.17.0.1 closed.\n"
          ]
        }
      ],
      "source": [
      "!ssh -t root@172.17.0.1 ping -c 4 google.com"
      ]
    },
{
      "attachments": {},
      "cell_type": "markdown",
      "metadata": {},
      "source": [
      "As you can see the command is performed on the remote machine and when it finishes, the last line tells us that the connection is closed."
      ]
    },
{
      "attachments": {},
      "cell_type": "markdown",
      "metadata": {},
      "source": [
      "## Proxy `SSH`"
      ]
    },
{
      "attachments": {},
      "cell_type": "markdown",
      "metadata": {},
      "source": [
      "If you are browsing in a not very secure place, or in a place that has a proxy that does not let you access some ports, you can browse through the proxy of another machine using `SSH`, this can be done by adding the `-D` flag and the port you want to connect to the remote proxy, as the port for the `tcp/ip` is `9999` the command could look like `ssh -D 9999 <user>@<id>`."
      ]
    },
{
      "attachments": {},
      "cell_type": "markdown",
      "metadata": {},
      "source": [
      "To make this look better, before running it I get my rogue IP"
      ]
    },
{
      "cell_type": "code",
      "execution_count": 2,
      "metadata": {},
      "outputs": [
      {
          "name": "stdout",
          "output_type": "stream",
          "text": [
          "188.127.184.59"
          ]
        }
      ],
      "source": [
      "!curl ifconfig.me"
      ]
    },
{
      "attachments": {},
      "cell_type": "markdown",
      "metadata": {},
      "source": [
      "I now use the proxy of a web server that I have set up"
      ]
    },
{
      "cell_type": "code",
      "execution_count": 8,
      "metadata": {},
      "outputs": [
      {
          "name": "stdout",
          "output_type": "stream",
          "text": [
          "Welcome to Ubuntu 22.04.1 LTS (GNU/Linux 5.15.0-53-generic x86_64)\n",
"\n",
" * Documentation:  https://help.ubuntu.com\n",
" * Management:     https://landscape.canonical.com\n",
" * Support:        https://ubuntu.com/advantage\n",
"\n",
"  System information as of Wed Feb 22 06:08:51 AM UTC 2023\n",
"\n",
"  System load:           0.02978515625\n",
"  Usage of /:            11.7% of 24.53GB\n",
"  Memory usage:          33%\n",
"  Swap usage:            0%\n",
"  Processes:             89\n",
"  Users logged in:       0\n",
"  IPv4 address for eth0: 194.62.99.222\n",
"  IPv4 address for eth1: 10.7.0.168\n",
"  IPv6 address for eth2: 2a04:3542:8000:1000:d48a:cbff:fefb:5b1\n",
"\n",
"\n",
"0 updates can be applied immediately.\n",
"\n",
"\n",
"The list of available updates is more than a week old.\n",
"To check for new updates run: sudo apt update\n",
"\n",
"Last login: Wed Feb 22 06:02:35 2023 from 188.127.184.59\n",
"root@server1:~#\n"
          ]
        }
      ],
      "source": [
      "!ssh -D 9999 root@194.62.99.222"
      ]
    },
{
      "attachments": {},
      "cell_type": "markdown",
      "metadata": {},
      "source": [
      "Change my computer's proxy settings\n",
"\n",
"![proxy ssh](https://pub-fb664c455eca46a2ba762a065ac900f7.r2.dev/proxy_ssh.webp)"
      ]
    },
{
      "attachments": {},
      "cell_type": "markdown",
      "metadata": {},
      "source": [
      "Now I look at my public IP again, but taking the newly configured proxy"
      ]
    },
{
      "cell_type": "code",
      "execution_count": 8,
      "metadata": {},
      "outputs": [
      {
          "name": "stdout",
          "output_type": "stream",
          "text": [
          "194.62.99.222"
          ]
        }
      ],
      "source": [
      "!curl -x socks5h://localhost:9999 ifconfig.me"
      ]
    },
{
      "attachments": {},
      "cell_type": "markdown",
      "metadata": {},
      "source": [
      "We see that we get the public IP of the server"
      ]
    },
{
      "attachments": {},
      "cell_type": "markdown",
      "metadata": {},
      "source": [
      "## Remote graphical interface via `SSH"
      ]
    },
{
      "attachments": {},
      "cell_type": "markdown",
      "metadata": {},
      "source": [
      "In linux the gŕafica interface is a server, so we can take advantage of it and we can run programs with graphical interfaces that are on a remote machine by `SSH`, for this we must use the `-X` flag. The command would be `ssh -X <user>@<id>`."
      ]
    },
{
      "attachments": {},
      "cell_type": "markdown",
      "metadata": {},
      "source": [
      "First I login to my server and install `xeyes` using `sudo apt install x11-apps` and then run it remotely from my computer."
      ]
    },
{
      "cell_type": "code",
      "execution_count": 8,
      "metadata": {},
      "outputs": [
      {
          "name": "stdout",
          "output_type": "stream",
          "text": [
          "Welcome to Ubuntu 22.04.1 LTS (GNU/Linux 5.15.0-53-generic x86_64)\n",
"\n",
"Last login: Wed Feb 22 06:39:52 2023 from 188.127.184.59\n",
"/usr/bin/xauth:  file /root/.Xauthority does not exist\n",
"root@server1:~sudo apt install x11-apps\n",
"root@server1:~#xeyes\n"
          ]
        }
      ],
      "source": [
      "!ssh -X root@194.62.99.222"
      ]
    },
{
      "attachments": {},
      "cell_type": "markdown",
      "metadata": {},
      "source": [
      "Now on my computer the `xeyes` window opens but it is not running on my computer.\n",
"\n",
"![xeyes](https://pub-fb664c455eca46a2ba762a065ac900f7.r2.dev/xeyes.webp)"
      ]
    },
{
      "attachments": {},
      "cell_type": "markdown",
      "metadata": {},
      "source": [
      "## Tunnel `SSH`"
      ]
    },
{
      "attachments": {},
      "cell_type": "markdown",
      "metadata": {},
      "source": [
      "As I said, I have set up a server to which I have ssh access."
      ]
    },
{
      "cell_type": "code",
      "execution_count": 8,
      "metadata": {},
      "outputs": [
      {
          "name": "stdout",
          "output_type": "stream",
          "text": [
          "Welcome to Ubuntu 22.04.1 LTS (GNU/Linux 5.15.0-53-generic x86_64)\n",
"\n",
"Last login: Wed Feb 22 06:40:58 2023 from 188.127.184.59\n",
"root@server1:~#\n"
          ]
        }
      ],
      "source": [
      "!ssh root@194.62.99.222"
      ]
    },
{
      "attachments": {},
      "cell_type": "markdown",
      "metadata": {},
      "source": [
      "And I also set up a second server from which I have access from `server1`, but I have no access from my computer."
      ]
    },
{
      "attachments": {},
      "cell_type": "markdown",
      "metadata": {},
      "source": [
      "Next, I try to access `server2` from my computer and I can't access it"
      ]
    },
{
      "cell_type": "code",
      "execution_count": 8,
      "metadata": {},
      "outputs": [
      {
          "name": "stdout",
          "output_type": "stream",
          "text": [
          "ssh: connect to host 194.62.99.235 port 22: Connection timed out\n"
          ]
        }
      ],
      "source": [
      "!ssh root@194.62.99.235"
      ]
    },
{
      "attachments": {},
      "cell_type": "markdown",
      "metadata": {},
      "source": [
      "And then I try to access `server2` from `server1` and I can see that I can"
      ]
    },
{
      "cell_type": "code",
      "execution_count": 8,
      "metadata": {},
      "outputs": [
      {
          "name": "stdout",
          "output_type": "stream",
          "text": [
          "Welcome to Ubuntu 22.04.1 LTS (GNU/Linux 5.15.0-53-generic x86_64)\n",
"\n",
"Last login: Wed Feb 22 06:59:01 2023 from 10.7.0.168\n",
"root@server2:~#\n"
          ]
        }
      ],
      "source": [
      "!root@server1:~# ssh root@10.7.2.228"
      ]
    },
{
      "attachments": {},
      "cell_type": "markdown",
      "metadata": {},
      "source": [
      "So what we create is a tunnel from my computer to `server2` through `server1`, for this we use the `-L` flag. To create the tunnel you have to indicate the port of your computer where you are going to create the tunnel, then the `IP` of destination of the tunnel, the port through which the tunnel will go and finally the device that will create the tunnel. It would look like this\n",
"\n",
"``` bash\n",
"ssh -L &ltHOST PORT&gt:&ltDEST IP&gt:&ltTUNNEL PORT&gt &ltTUNNEL CREATOR USER&gt@&ltTUNNEL CREATOR IP&gt\n",
"```\n",
"\n",
"Let's see it with my example, I have `server1` with a public `IP` that we can call `ip_pub1` and to which I have access by `SSH` and a private `IP` that we can call `ip_priv1` that is inside the same network as `server2`. And I have `server2` with a public `IP` that we can call `ip_pub2` that I don't have access to via `SSH` and a private `IP` that we can call `ip_priv2` that is inside the same network as `server1`.\n",
"\n",
"First I create the tunnel\n",
"\n",
"``` bash\n",
"ssh -L host_port:ip_priv2:22 root@ip_pub1\n",
"```\n",
"\n",
"I have created a tunnel to the private `IP` of `server2` through the public `IP` of `server1`.\n",
"\n",
"Finally, to connect to `server2` I do it through the `localhost` and the host port that I have declared in the tunnel\n",
"\n",
"``` bash\n",
"ssh -p 2020 root@localhost\n",
"```"
      ]
    },
{
      "attachments": {},
      "cell_type": "markdown",
      "metadata": {},
      "source": [
      "Let`s see it in reality, the `IP`s of my servers are\n",
"\n",
" * `server1`:\n",
"   * public `IP`: `194.62.99.222`.\n",
"   * private `IP`: `10.7.0.168`.\n",
" * `server2`:\n",
"   * public `IP`: `194.62.99.235`.\n",
"   * Private `IP`: `10.7.2.228`.\n",
"\n",
"First I create the tunnel"
      ]
    },
{
      "cell_type": "code",
      "execution_count": 11,
      "metadata": {},
      "outputs": [
      {
          "name": "stdout",
          "output_type": "stream",
          "text": [
          "Welcome to Ubuntu 22.04.1 LTS (GNU/Linux 5.15.0-53-generic x86_64)\n",
"\n",
" * Documentation:  https://help.ubuntu.com\n",
" * Management:     https://landscape.canonical.com\n",
" * Support:        https://ubuntu.com/advantage\n",
"\n",
"  System information as of Wed Feb 22 11:13:39 AM UTC 2023\n",
"\n",
"  System load:           0.0\n",
"  Usage of /:            13.3% of 24.53GB\n",
"  Memory usage:          36%\n",
"  Swap usage:            0%\n",
"  Processes:             91\n",
"  Users logged in:       1\n",
"  IPv4 address for eth0: 194.62.99.222\n",
"  IPv4 address for eth1: 10.7.0.168\n",
"  IPv6 address for eth2: 2a04:3542:8000:1000:d48a:cbff:fefb:5b1\n",
"\n",
"\n",
"101 updates can be applied immediately.\n",
"60 of these updates are standard security updates.\n",
"To see these additional updates run: apt list --upgradable\n",
"\n",
"\n",
"Last login: Wed Feb 22 09:29:52 2023 from 188.127.184.59\n",
"\u001b[?2004h\u001b]0;root@server1: ~\u001b[01;32mroot@server1\u001b[00m:\u001b[01;34m~\u001b[00m# ^C\u001b[?2004l\n",
"\u001b[?2004l\n",
"\u001b[?2004h\u001b]0;root@server1: ~\u001b[01;32mroot@server1\u001b[00m:\u001b[01;34m~\u001b[00m# "
          ]
        }
      ],
      "source": [
      "!ssh -L 2020:10.7.2.228:22 root@194.62.99.222"
      ]
    },
{
      "attachments": {},
      "cell_type": "markdown",
      "metadata": {},
      "source": [
      "With the tunnel created I can now connect to `server2` from my computer."
      ]
    },
{
      "cell_type": "code",
      "execution_count": 12,
      "metadata": {},
      "outputs": [
      {
          "name": "stdout",
          "output_type": "stream",
          "text": [
          "Welcome to Ubuntu 22.04.1 LTS (GNU/Linux 5.15.0-53-generic x86_64)\n",
"\n",
" * Documentation:  https://help.ubuntu.com\n",
" * Management:     https://landscape.canonical.com\n",
" * Support:        https://ubuntu.com/advantage\n",
"\n",
"  System information as of Wed Feb 22 11:14:15 AM UTC 2023\n",
"\n",
"  System load:           0.0\n",
"  Usage of /:            13.3% of 24.53GB\n",
"  Memory usage:          33%\n",
"  Swap usage:            0%\n",
"  Processes:             90\n",
"  Users logged in:       0\n",
"  IPv4 address for eth0: 194.62.99.235\n",
"  IPv4 address for eth1: 10.7.2.228\n",
"  IPv6 address for eth2: 2a04:3542:8000:1000:d48a:cbff:fefb:7f47\n",
"\n",
" * Strictly confined Kubernetes makes edge and IoT secure. Learn how MicroK8s\n",
"   just raised the bar for easy, resilient and secure K8s cluster deployment.\n",
"\n",
"   https://ubuntu.com/engage/secure-kubernetes-at-the-edge\n",
"\n",
"101 updates can be applied immediately.\n",
"60 of these updates are standard security updates.\n",
"To see these additional updates run: apt list --upgradable\n",
"\n",
"\n",
"Last login: Wed Feb 22 11:14:16 2023 from 10.7.0.168\n",
"\u001b[?2004h\u001b]0;root@server2: ~\u001b[01;32mroot@server2\u001b[00m:\u001b[01;34m~\u001b[00m# ^C\u001b[?2004l\n",
"\u001b[?2004l\n",
"\u001b[?2004h\u001b]0;root@server2: ~\u001b[01;32mroot@server2\u001b[00m:\u001b[01;34m~\u001b[00m# "
          ]
        }
      ],
      "source": [
      "!ssh -p 2020 root@localhost"
      ]
    },
{
      "attachments": {},
      "cell_type": "markdown",
      "metadata": {},
      "source": [
      "## Reverse connection"
      ]
    },
{
      "attachments": {},
      "cell_type": "markdown",
      "metadata": {},
      "source": [
      "Let's suppose again that I want to connect to `server2`, but now I cannot, for whatever reason, tunnel from `server1`. What we can do is to create a reverse connection from another server.\n",
"\n",
"Suppose I have a third server, called `server3`, which can be accessed by `SSH` from either side, i.e. both me from my computer and `server2` have access. So if we can physically access to `server2` we can make a reverse connection from `server2` to `server3`.\n",
"\n",
"```\n",
"ssh -R &ltserver3port&gt:localhost:22 root@&ltIPserver3&gt\n",
"```\n",
"\n",
"With this, what I have done is to enable a connection from `server3` to `server2` (which was not possible before), through `localhost` and port `server3port` of `server3`.\n",
"\n",
"Now from my computer I can connect to `server3` and from `server3` we can connect to `server2` via\n",
"\n",
"``` bash\n",
"ssh -p &ltserver3port&gt root@localhost\n",
"```"
      ]
    },
{
      "attachments": {},
      "cell_type": "markdown",
      "metadata": {},
      "source": [
      "Let's see it with the data from my servers\n",
"\n",
"* `server2`:\n",
"   * public `IP`: `194.62.99.235`.\n",
" * `server3`:\n",
"   * public `IP`: `194.62.96.236`."
      ]
    },
{
      "attachments": {},
      "cell_type": "markdown",
      "metadata": {},
      "source": [
      "First I make the reverse connection from `server2` to `server3`."
      ]
    },
{
      "cell_type": "code",
      "execution_count": 8,
      "metadata": {},
      "outputs": [
      {
          "name": "stdout",
          "output_type": "stream",
          "text": [
          "Welcome to Ubuntu 22.04.1 LTS (GNU/Linux 5.15.0-53-generic x86_64)\n",
"\n",
"Last login: Wed Feb 22 15:25:58 2023 from 188.127.184.59\n",
"root@server3:~#\n"
          ]
        }
      ],
      "source": [
      "!root@server2:~# ssh -R 2020:localhost:22 root@194.62.96.236"
      ]
    },
{
      "attachments": {},
      "cell_type": "markdown",
      "metadata": {},
      "source": [
      "Now I connect to `server3`."
      ]
    },
{
      "cell_type": "code",
      "execution_count": 8,
      "metadata": {},
      "outputs": [
      {
          "name": "stdout",
          "output_type": "stream",
          "text": [
          "Welcome to Ubuntu 22.04.1 LTS (GNU/Linux 5.15.0-53-generic x86_64)\n",
"\n",
"Last login: Wed Feb 22 15:12:19 2023 from 188.127.184.59\n",
"root@server3:~#\n"
          ]
        }
      ],
      "source": [
      "!ssh root@194.62.96.236"
      ]
    },
{
      "attachments": {},
      "cell_type": "markdown",
      "metadata": {},
      "source": [
      "And now that I am on `server3` I connect to `server2`."
      ]
    },
{
      "cell_type": "code",
      "execution_count": 8,
      "metadata": {},
      "outputs": [
      {
          "name": "stdout",
          "output_type": "stream",
          "text": [
          "Welcome to Ubuntu 22.04.1 LTS (GNU/Linux 5.15.0-53-generic x86_64)\n",
"\n",
"Last login: Wed Feb 22 15:12:07 2023 from 188.127.184.59\n",
"root@server2:~#\n"
          ]
        }
      ],
      "source": [
      "!root@server3:~# ssh -p 2020 root@localhost"
      ]
    },
{
      "attachments": {},
      "cell_type": "markdown",
      "metadata": {},
      "source": [
      "Success! Through my computer I cannot connect directly to `server2`, but when connecting to `server3` I have been able to access `server2` thanks to the reverse connection I had made from `server2` to `server3`."
      ]
    },
{
      "attachments": {},
      "cell_type": "markdown",
      "metadata": {},
      "source": [
      "## Jump"
      ]
    },
{
      "attachments": {},
      "cell_type": "markdown",
      "metadata": {},
      "source": [
      "Finally, another way to enter `server2` is to enter `server1` and then from `server1` enter `server2`. But this is a bit cumbersome, because first you have to make a `SSH` connection to `server1` and then another to `server2`, so to do it all in one go you can use the `-J` (`jump`) flag, i.e. `ssh -J server1 server2`."
      ]
    },
{
      "attachments": {},
      "cell_type": "markdown",
      "metadata": {},
      "source": [
      "Resumem, first we would do `ssh root@194.62.99.222` and then `ssh root@10.7.2.228` (since inside `server1` we connect to `server2` through the private `IP`).\n",
"\n",
"So we could do everything in one go by doing `ssh -J root@194.62.99.222 root@10.7.2.228`\n",
"\n",
"Let's try"
      ]
    },
{
      "cell_type": "code",
      "execution_count": 8,
      "metadata": {},
      "outputs": [
      {
          "name": "stdout",
          "output_type": "stream",
          "text": [
          "Welcome to Ubuntu 22.04.1 LTS (GNU/Linux 5.15.0-60-generic x86_64)\n",
"\n",
"Last login: Fri Feb 24 06:46:11 2023 from 10.7.0.168\n",
"root@server2:~#\n"
          ]
        }
      ],
      "source": [
      "!ssh -J root@194.62.99.222 root@10.7.2.228"
      ]
    },
{
      "attachments": {},
      "cell_type": "markdown",
      "metadata": {},
      "source": [
      "We were able to make the jumps!"
      ]
    },
{
      "attachments": {},
      "cell_type": "markdown",
      "metadata": {},
      "source": [
      "## User `SSH` configuration file"
      ]
    },
{
      "attachments": {},
      "cell_type": "markdown",
      "metadata": {},
      "source": [
      "### Devices with Aliases"
      ]
    },
{
      "attachments": {},
      "cell_type": "markdown",
      "metadata": {},
      "source": [
      "On every computer there is a configuration file for the `SSH` which is usually located in the user's folder."
      ]
    },
{
      "cell_type": "code",
      "execution_count": 2,
      "metadata": {},
      "outputs": [
      {
          "name": "stdout",
          "output_type": "stream",
          "text": [
          "# Read more about SSH config files: https://linux.die.net/man/5/ssh_config\n",
"Host 192.168.1.138\n",
"    HostName 192.168.1.138\n",
"    User maximo.fernandez\n"
          ]
        }
      ],
      "source": [
      "!cat ~/.ssh/config"
      ]
    },
{
      "attachments": {},
      "cell_type": "markdown",
      "metadata": {},
      "source": [
      "In this file I have saved the user and ip of some devices that I usually connect to so I don't have to fill in everything myself. Let's see it with the servers I have\n",
"\n",
"My server `server1` has the user `root` and the IP `194.62.99.222`, so I add it to the list"
      ]
    },
{
      "cell_type": "code",
      "execution_count": 8,
      "metadata": {},
      "outputs": [],
      "source": [
      "!echo \"Host server1\\n    HostName 194.62.99.222\\n    User root\" >> ~/.ssh/config"
      ]
    },
{
      "attachments": {},
      "cell_type": "markdown",
      "metadata": {},
      "source": [
      "Let's see how the configuration file looks like again"
      ]
    },
{
      "cell_type": "code",
      "execution_count": 9,
      "metadata": {},
      "outputs": [
      {
          "name": "stdout",
          "output_type": "stream",
          "text": [
          "# Read more about SSH config files: https://linux.die.net/man/5/ssh_config\n",
"Host 192.168.1.138\n",
"    HostName 192.168.1.138\n",
"    User maximo.fernandez\n",
"\n",
"Host server1\n",
"    HostName 194.62.99.222\n",
"    User root\n"
          ]
        }
      ],
      "source": [
      "!cat ~/.ssh/config"
      ]
    },
{
      "attachments": {},
      "cell_type": "markdown",
      "metadata": {},
      "source": [
      "Now that we have added it to connect to `server1` we only need to do `ssh server1`."
      ]
    },
{
      "cell_type": "code",
      "execution_count": 8,
      "metadata": {},
      "outputs": [
      {
          "name": "stdout",
          "output_type": "stream",
          "text": [
          "Welcome to Ubuntu 22.04.1 LTS (GNU/Linux 5.15.0-60-generic x86_64)\n",
"\n",
"Last login: Fri Feb 24 05:18:59 2023 from 188.127.184.59\n",
"root@server1:~# \n"
          ]
        }
      ],
      "source": [
      "!ssh server1 "
      ]
    },
{
      "attachments": {},
      "cell_type": "markdown",
      "metadata": {},
      "source": [
      "### Proxy"
      ]
    },
{
      "attachments": {},
      "cell_type": "markdown",
      "metadata": {},
      "source": [
      "As we already saw, adding the flag `-D &ltport&gt` we could change the proxy. To leave this saved in the configuration file we only have to add the line `DynamicForward &ltport&gt` to the host that we are saving"
      ]
    },
{
      "attachments": {},
      "cell_type": "markdown",
      "metadata": {},
      "source": [
      "Repeating the previous example in which we use `server1` as a proxy for port `tcp/ip` (`9999`), the configuration file would look like this\n",
"\n",
"```\n",
"Host proxyServer1\n",
"    HostName 194.62.99.222\n",
"    User root\n",
"    DynamicForward 9999\n",
"```\n",
"\n",
"We add"
      ]
    },
{
      "cell_type": "code",
      "execution_count": 10,
      "metadata": {},
      "outputs": [],
      "source": [
      "!echo \"Host proxyServer1\\n    HostName 194.62.99.222\\n    User root\\n    DynamicForward 9999\" >> ~/.ssh/config"
      ]
    },
{
      "attachments": {},
      "cell_type": "markdown",
      "metadata": {},
      "source": [
      "Let's see how the configuration file looks like"
      ]
    },
{
      "cell_type": "code",
      "execution_count": 11,
      "metadata": {},
      "outputs": [
      {
          "name": "stdout",
          "output_type": "stream",
          "text": [
          "# Read more about SSH config files: https://linux.die.net/man/5/ssh_config\n",
"Host 192.168.1.138\n",
"    HostName 192.168.1.138\n",
"    User maximo.fernandez\n",
"\n",
"Host server1\n",
"    HostName 194.62.99.222\n",
"    User root\n",
"Host proxyServer1\n",
"    HostName 194.62.99.222\n",
"    User root\n",
"    DynamicForward 9999\n"
          ]
        }
      ],
      "source": [
      "!cat ~/.ssh/config"
      ]
    },
{
      "attachments": {},
      "cell_type": "markdown",
      "metadata": {},
      "source": [
      "I get my public `IP`."
      ]
    },
{
      "cell_type": "code",
      "execution_count": 12,
      "metadata": {},
      "outputs": [
      {
          "name": "stdout",
          "output_type": "stream",
          "text": [
          "188.127.184.59"
          ]
        }
      ],
      "source": [
      "!curl ifconfig.me"
      ]
    },
{
      "attachments": {},
      "cell_type": "markdown",
      "metadata": {},
      "source": [
      "I connect to the proxy server"
      ]
    },
{
      "cell_type": "code",
      "execution_count": 8,
      "metadata": {},
      "outputs": [
      {
          "name": "stdout",
          "output_type": "stream",
          "text": [
          "Welcome to Ubuntu 22.04.1 LTS (GNU/Linux 5.15.0-60-generic x86_64)\n",
"\n",
"Last login: Fri Feb 24 05:42:32 2023 from 188.127.184.59\n",
"root@server1:~#\n"
          ]
        }
      ],
      "source": [
      "!ssh proxyServer1 "
      ]
    },
{
      "attachments": {},
      "cell_type": "markdown",
      "metadata": {},
      "source": [
      "Change my computer's proxy settings\n",
"\n",
"![proxy ssh](https://pub-fb664c455eca46a2ba762a065ac900f7.r2.dev/proxy_ssh.webp)"
      ]
    },
{
      "attachments": {},
      "cell_type": "markdown",
      "metadata": {},
      "source": [
      "I see my public `IP` again, but taking the newly configured proxy"
      ]
    },
{
      "cell_type": "code",
      "execution_count": 13,
      "metadata": {},
      "outputs": [
      {
          "name": "stdout",
          "output_type": "stream",
          "text": [
          "194.62.99.222"
          ]
        }
      ],
      "source": [
      "!curl -x socks5h://localhost:9999 ifconfig.me"
      ]
    },
{
      "attachments": {},
      "cell_type": "markdown",
      "metadata": {},
      "source": [
      "We see that we get the public IP of the server"
      ]
    },
{
      "attachments": {},
      "cell_type": "markdown",
      "metadata": {},
      "source": [
      "### SSH Tunnel"
      ]
    },
{
      "attachments": {},
      "cell_type": "markdown",
      "metadata": {},
      "source": [
      "If as before I want to create a tunnel to `server2` through `server1`, before we had to do `ssh &ltHOST PORT&gt:&ltDEST IP&gt:&ltTUNNEL PORT&gt &ltTUNNEL CREATOR USER&gt@&ltTUNNEL CREATOR IP&gt`, now we have to add the line\n",
"\n",
"``` bash\n",
"LocalForward &ltlocalhost&gt:&ltHOST PORT&gt &ltDEST IP&gt:&ltTUNNEL PORT&gt\n",
"```"
      ]
    },
{
      "attachments": {},
      "cell_type": "markdown",
      "metadata": {},
      "source": [
      "That is, the configuration file would look like this\n",
"\n",
"```\n",
"Host tunelToServer2\n",
"    HostName 194.62.99.222\n",
"    User root\n",
"    LocalForward 127.0.0.1.1:2020 10.7.2.228:22\n",
"```"
      ]
    },
{
      "attachments": {},
      "cell_type": "markdown",
      "metadata": {},
      "source": [
      "But as it is not very well understood, let's see it with something concrete.\n",
"\n",
" * `server1`:\n",
"   * public `IP`: `194.62.99.222`.\n",
"   * Private `IP`: `10.7.0.168`.\n",
" * `server2`:\n",
"   * public `IP`: `194.62.99.235`.\n",
"   * Private `IP`: `10.7.2.228`.\n",
"\n",
"Previously the command was\n",
"\n",
"``` bash\n",
"ssh -L 2020:10.7.2.228:22 root@194.62.99.222\n",
"```\n",
"\n",
"So the configuration file has to look like this\n",
"\n",
"```\n",
"Host tunelToServer2\n",
"    HostName 194.62.99.222\n",
"    User root\n",
"    LocalForward 127.0.0.1.1:2020 10.7.2.228:22\n",
"```\n",
"\n",
"Let's see if it works"
      ]
    },
{
      "attachments": {},
      "cell_type": "markdown",
      "metadata": {},
      "source": [
      "Add the new configuration"
      ]
    },
{
      "cell_type": "code",
      "execution_count": 14,
      "metadata": {},
      "outputs": [],
      "source": [
      "!echo \"Host tunelToServer2\\n    HostName 194.62.99.222\\n    User root\\n    LocalForward 127.0.0.1:2020 10.7.2.228:22\" >> ~/.ssh/config"
      ]
    },
{
      "attachments": {},
      "cell_type": "markdown",
      "metadata": {},
      "source": [
      "Let's see what the configuration file looks like"
      ]
    },
{
      "cell_type": "code",
      "execution_count": 15,
      "metadata": {},
      "outputs": [
      {
          "name": "stdout",
          "output_type": "stream",
          "text": [
          "# Read more about SSH config files: https://linux.die.net/man/5/ssh_config\n",
"Host 192.168.1.138\n",
"    HostName 192.168.1.138\n",
"    User maximo.fernandez\n",
"\n",
"Host server1\n",
"    HostName 194.62.99.222\n",
"    User root\n",
"Host proxyServer1\n",
"    HostName 194.62.99.222\n",
"    User root\n",
"    DynamicForward 9999\n",
"Host tunelToServer2\n",
"    HostName 194.62.99.222\n",
"    User root\n",
"    LocalForward 127.0.0.1:2020 10.7.2.228:22\n"
          ]
        }
      ],
      "source": [
      "!cat ~/.ssh/config"
      ]
    },
{
      "attachments": {},
      "cell_type": "markdown",
      "metadata": {},
      "source": [
      "We create the tunnel"
      ]
    },
{
      "cell_type": "code",
      "execution_count": 8,
      "metadata": {},
      "outputs": [
      {
          "name": "stdout",
          "output_type": "stream",
          "text": [
          "Welcome to Ubuntu 22.04.1 LTS (GNU/Linux 5.15.0-60-generic x86_64)\n",
"\n",
"Last login: Fri Feb 24 06:02:20 2023 from 188.127.184.59\n",
"root@server1:~#\n"
          ]
        }
      ],
      "source": [
      "!ssh tunelToServer2 "
      ]
    },
{
      "attachments": {},
      "cell_type": "markdown",
      "metadata": {},
      "source": [
      "Now we try to connect to `server2` from my computer"
      ]
    },
{
      "cell_type": "code",
      "execution_count": 8,
      "metadata": {},
      "outputs": [
      {
          "name": "stdout",
          "output_type": "stream",
          "text": [
          "Welcome to Ubuntu 22.04.1 LTS (GNU/Linux 5.15.0-60-generic x86_64)\n",
"\n",
"Last login: Fri Feb 24 06:02:36 2023 from 10.7.0.168\n",
"root@server2:~# \n"
          ]
        }
      ],
      "source": [
      "!ssh -p 2020 root@localhost"
      ]
    },
{
      "attachments": {},
      "cell_type": "markdown",
      "metadata": {},
      "source": [
      "Successful! But we can make everything a bit cleaner, we can add this last connection to the configuration file"
      ]
    },
{
      "cell_type": "code",
      "execution_count": 16,
      "metadata": {},
      "outputs": [],
      "source": [
      "!echo \"Host server2ByTunel\\n    HostName localhost\\n    User root\\n    Port 2020\" >> ~/.ssh/config"
      ]
    },
{
      "attachments": {},
      "cell_type": "markdown",
      "metadata": {},
      "source": [
      "Let's see how the configuration file looks like"
      ]
    },
{
      "cell_type": "code",
      "execution_count": 17,
      "metadata": {},
      "outputs": [
      {
          "name": "stdout",
          "output_type": "stream",
          "text": [
          "# Read more about SSH config files: https://linux.die.net/man/5/ssh_config\n",
"Host 192.168.1.138\n",
"    HostName 192.168.1.138\n",
"    User maximo.fernandez\n",
"\n",
"Host server1\n",
"    HostName 194.62.99.222\n",
"    User root\n",
"Host proxyServer1\n",
"    HostName 194.62.99.222\n",
"    User root\n",
"    DynamicForward 9999\n",
"Host tunelToServer2\n",
"    HostName 194.62.99.222\n",
"    User root\n",
"    LocalForward 127.0.0.1:2020 10.7.2.228:22\n",
"Host server2ByTunel\n",
"    HostName localhost\n",
"    User root\n",
"    Port 2020\n"
          ]
        }
      ],
      "source": [
      "!cat ~/.ssh/config"
      ]
    },
{
      "attachments": {},
      "cell_type": "markdown",
      "metadata": {},
      "source": [
      "Now we connect again to `server2` from my computer, through the tunnel, but with the last configuration we just saved."
      ]
    },
{
      "cell_type": "code",
      "execution_count": 8,
      "metadata": {},
      "outputs": [
      {
          "name": "stdout",
          "output_type": "stream",
          "text": [
          "Welcome to Ubuntu 22.04.1 LTS (GNU/Linux 5.15.0-60-generic x86_64)\n",
"\n",
"Last login: Fri Feb 24 06:13:33 2023 from 10.7.0.168\n",
"root@server2:~# \n"
          ]
        }
      ],
      "source": [
      "!ssh server2ByTunel "
      ]
    },
{
      "attachments": {},
      "cell_type": "markdown",
      "metadata": {},
      "source": [
      "In summary, with all that we have done, we can create the tunnel to `server2` with the command `ssh tunnelToServer2` and then connect to `server2` with the command `ssh server2ByTunel`.\n",
"\n",
"Impressive!"
      ]
    },
{
      "attachments": {},
      "cell_type": "markdown",
      "metadata": {},
      "source": [
      "### Reverse connection"
      ]
    },
{
      "attachments": {},
      "cell_type": "markdown",
      "metadata": {},
      "source": [
      "We remember that now our problem was that we could not connect to `server2` through the `server1` tunnel. So by creating a reverse connection from `server2` (we have someone on `server2` who can make that reverse connection, or we left it done ourselves before we left) to a `server3`, from my computer I can connect to `server3` and then connect to `server2`."
      ]
    },
{
      "attachments": {},
      "cell_type": "markdown",
      "metadata": {},
      "source": [
      "First we have to make the reverse connection from `server2` to `server3`. This could be done by using a command\n",
"\n",
"``` bash\n",
"ssh -R &ltserver3port&gt:localhost:22 root@&ltIPserver3&gt\n",
"```\n",
"\n",
"Or save the connection in the configuration file by adding\n",
"\n",
"```\n",
"Host reverseToServer3\n",
"    HostName &ltIPserver3&gt\n",
"    User root\n",
"    RemoteForward &ltserver3port&gt localhost:22\n",
"```\n",
"\n",
"And make the reverse connection by\n",
"\n",
"``` bash\n",
"ssh reverseToServer3\n",
"```"
      ]
    },
{
      "attachments": {},
      "cell_type": "markdown",
      "metadata": {},
      "source": [
      "As it is not well understood, let's look at it with concrete data\n",
"\n",
" * `server2`:\n",
"   * public `IP`: `194.62.99.235`.\n",
" * `server3`:\n",
"   * public `IP`: `194.62.96.236`.\n",
"\n",
"To make the reverse connection you would have to use the command\n",
"\n",
"``` bash\n",
"ssh -R 2020:localhost:22 root@194.62.96.236\n",
"```\n",
"\n",
"Or save the following configuration\n",
"\n",
"``` bash\n",
"Host reverseToServer3\n",
"    HostName 194.62.96.236\n",
"    User root\n",
"    RemoteForward 2020 localhost:22\n",
"```\n",
"\n",
"And connect via\n",
"\n",
"``` bash\n",
"ssh reverseToServer3\n",
"```"
      ]
    },
{
      "attachments": {},
      "cell_type": "markdown",
      "metadata": {},
      "source": [
      "So I save the configuration on server 2 and make the connection"
      ]
    },
{
      "cell_type": "code",
      "execution_count": 8,
      "metadata": {},
      "outputs": [],
      "source": [
      "!root@server2:~# echo \"Host reverseToServer3\\n    HostName 194.62.96.236\\n    User root\\n    RemoteForward 2020 localhost:22\" >> ~/.ssh/config"
      ]
    },
{
      "attachments": {},
      "cell_type": "markdown",
      "metadata": {},
      "source": [
      "Let's see how well it has been stored"
      ]
    },
{
      "cell_type": "code",
      "execution_count": 8,
      "metadata": {},
      "outputs": [
      {
          "name": "stdout",
          "output_type": "stream",
          "text": [
          "\n",
"Host reverseToServer3\n",
"    HostName 194.62.96.236\n",
"    User root\n",
"    RemoteForward 2020 localhost:22\n"
          ]
        }
      ],
      "source": [
      "!root@server2:~# cat .ssh/config"
      ]
    },
{
      "attachments": {},
      "cell_type": "markdown",
      "metadata": {},
      "source": [
      "I make the reverse connection"
      ]
    },
{
      "cell_type": "code",
      "execution_count": 8,
      "metadata": {},
      "outputs": [
      {
          "name": "stdout",
          "output_type": "stream",
          "text": [
          "Welcome to Ubuntu 22.04.1 LTS (GNU/Linux 5.15.0-53-generic x86_64)\n",
"\n",
"Last login: Wed Feb 22 15:26:18 2023 from 194.62.99.235\n",
"root@server3:~# \n"
          ]
        }
      ],
      "source": [
      "!root@server2:~# ssh reverseToServer3 "
      ]
    },
{
      "attachments": {},
      "cell_type": "markdown",
      "metadata": {},
      "source": [
      "### Jump"
      ]
    },
{
      "attachments": {},
      "cell_type": "markdown",
      "metadata": {},
      "source": [
      "As we have said we made jumps through the `-J` flag, so that with the command `ssh -J root@194.62.99.222 root@10.7.2.228` we could connect to `server2`."
      ]
    },
{
      "attachments": {},
      "cell_type": "markdown",
      "metadata": {},
      "source": [
      "There are two options for configuring the configuration file"
      ]
    },
{
      "attachments": {},
      "cell_type": "markdown",
      "metadata": {},
      "source": [
      "The first is that since we already have the `server1` saved in the configuration file, we only add `server2` to the configuration file.\n",
"\n",
"``` bash\n",
"Host server2\n",
"    HostName 10.7.2.228\n",
"    User root\n",
"```\n",
"\n",
"And then we could connect via\n",
"\n",
"``` bash\n",
"ssh -J server1 server2\n",
"```\n",
"\n",
"Let's try it"
      ]
    },
{
      "cell_type": "code",
      "execution_count": 19,
      "metadata": {},
      "outputs": [],
      "source": [
      "!echo \"Host server2\\n    HostName 10.7.2.228\\n    User root\\n\" >> ~/.ssh/config"
      ]
    },
{
      "attachments": {},
      "cell_type": "markdown",
      "metadata": {},
      "source": [
      "We see the configuration file"
      ]
    },
{
      "cell_type": "code",
      "execution_count": 21,
      "metadata": {},
      "outputs": [
      {
          "name": "stdout",
          "output_type": "stream",
          "text": [
          "# Read more about SSH config files: https://linux.die.net/man/5/ssh_config\n",
"Host 192.168.1.138\n",
"    HostName 192.168.1.138\n",
"    User maximo.fernandez\n",
"\n",
"Host server1\n",
"    HostName 194.62.99.222\n",
"    User root\n",
"Host proxyServer1\n",
"    HostName 194.62.99.222\n",
"    User root\n",
"    DynamicForward 9999\n",
"Host tunelToServer2\n",
"    HostName 194.62.99.222\n",
"    User root\n",
"    LocalForward 127.0.0.1:2020 10.7.2.228:22\n",
"Host server2ByTunel\n",
"    HostName localhost\n",
"    User root\n",
"    Port 2020\n",
"Host server2\n",
"    HostName 10.7.2.228\n",
"    User root\n",
"\n"
          ]
        }
      ],
      "source": [
      "!cat ~/.ssh/config"
      ]
    },
{
      "attachments": {},
      "cell_type": "markdown",
      "metadata": {},
      "source": [
      "Now we connect using the jumps"
      ]
    },
{
      "cell_type": "code",
      "execution_count": 8,
      "metadata": {},
      "outputs": [
      {
          "name": "stdout",
          "output_type": "stream",
          "text": [
          "Welcome to Ubuntu 22.04.1 LTS (GNU/Linux 5.15.0-60-generic x86_64)\n",
"\n",
"Last login: Fri Feb 24 12:05:16 2023 from 10.7.0.168\n",
"root@server2:~#\n"
          ]
        }
      ],
      "source": [
      "!ssh -J server1 server2"
      ]
    },
{
      "attachments": {},
      "cell_type": "markdown",
      "metadata": {},
      "source": [
      "This has been the first option, save each server and set the hops, but a second option is to save all the hops in a single configuration, which would look like this\n",
"\n",
"``` bash\n",
"Host server2jumping\n",
"    HostName 10.7.2.228\n",
"    User root\n",
"    ProxyJump root@194.62.99.222\n",
"```\n",
"\n",
"And all that would be needed is to connect via\n",
"\n",
"```\n",
"ssh server2jumping\n",
"```\n",
"\n",
"Let's try"
      ]
    },
{
      "cell_type": "code",
      "execution_count": 22,
      "metadata": {},
      "outputs": [],
      "source": [
      "!echo \"Host server2jumping\\n    HostName 10.7.2.228\\n    User root\\n    ProxyJump root@194.62.99.222\" >> ~/.ssh/config"
      ]
    },
{
      "attachments": {},
      "cell_type": "markdown",
      "metadata": {},
      "source": [
      "Let's look at the configuration file"
      ]
    },
{
      "cell_type": "code",
      "execution_count": 24,
      "metadata": {},
      "outputs": [
      {
          "name": "stdout",
          "output_type": "stream",
          "text": [
          "# Read more about SSH config files: https://linux.die.net/man/5/ssh_config\n",
"Host 192.168.1.138\n",
"    HostName 192.168.1.138\n",
"    User maximo.fernandez\n",
"\n",
"Host server1\n",
"    HostName 194.62.99.222\n",
"    User root\n",
"Host proxyServer1\n",
"    HostName 194.62.99.222\n",
"    User root\n",
"    DynamicForward 9999\n",
"Host tunelToServer2\n",
"    HostName 194.62.99.222\n",
"    User root\n",
"    LocalForward 127.0.0.1:2020 10.7.2.228:22\n",
"Host server2ByTunel\n",
"    HostName localhost\n",
"    User root\n",
"    Port 2020\n",
"Host server2\n",
"    HostName 10.7.2.228\n",
"    User root\n",
"Host server2jumping\n",
"    HostName 10.7.2.228\n",
"    User root\n",
"    ProxyJump root@194.62.99.222\n"
          ]
        }
      ],
      "source": [
      "!cat ~/.ssh/config"
      ]
    },
{
      "attachments": {},
      "cell_type": "markdown",
      "metadata": {},
      "source": [
      "Now we try to connect"
      ]
    },
{
      "cell_type": "code",
      "execution_count": 8,
      "metadata": {},
      "outputs": [
      {
          "name": "stdout",
          "output_type": "stream",
          "text": [
          "Welcome to Ubuntu 22.04.1 LTS (GNU/Linux 5.15.0-60-generic x86_64)\n",
"\n",
"Last login: Fri Feb 24 12:06:22 2023 from 10.7.0.168\n",
"root@server2:~# \n"
          ]
        }
      ],
      "source": [
      "!ssh server2jumping"
      ]
    },
{
      "attachments": {},
      "cell_type": "markdown",
      "metadata": {},
      "source": [
      "## System `SSH` configuration file"
      ]
    },
{
      "attachments": {},
      "cell_type": "markdown",
      "metadata": {},
      "source": [
      "Earlier we saw the `SSH` configuration file of the user, where we saved configurations of machines where we wanted to connect via `SSH`, but there is another `SSH` configuration file but in this case of the system, which is located in `/etc/ssh/ssh_config`, let's see it"
      ]
    },
{
      "cell_type": "code",
      "execution_count": 25,
      "metadata": {},
      "outputs": [
      {
          "name": "stdout",
          "output_type": "stream",
          "text": [
          "#\t$OpenBSD: sshd_config,v 1.103 2018/04/09 20:41:22 tj Exp $\n",
"\n",
"# This is the sshd server system-wide configuration file.  See\n",
"# sshd_config(5) for more information.\n",
"\n",
"# This sshd was compiled with PATH=/usr/bin:/bin:/usr/sbin:/sbin\n",
"\n",
"# The strategy used for options in the default sshd_config shipped with\n",
"# OpenSSH is to specify options with their default value where\n",
"# possible, but leave them commented.  Uncommented options override the\n",
"# default value.\n",
"\n",
"Include /etc/ssh/sshd_config.d/*.conf\n",
"\n",
"#Port 22\n",
"#AddressFamily any\n",
"#ListenAddress 0.0.0.0\n",
"#ListenAddress ::\n",
"\n",
"#HostKey /etc/ssh/ssh_host_rsa_key\n",
"#HostKey /etc/ssh/ssh_host_ecdsa_key\n",
"#HostKey /etc/ssh/ssh_host_ed25519_key\n",
"\n",
"# Ciphers and keying\n",
"#RekeyLimit default none\n",
"\n",
"# Logging\n",
"#SyslogFacility AUTH\n",
"#LogLevel INFO\n",
"\n",
"# Authentication:\n",
"\n",
"#LoginGraceTime 2m\n",
"#PermitRootLogin prohibit-password\n",
"#StrictModes yes\n",
"#MaxAuthTries 6\n",
"#MaxSessions 10\n",
"\n",
"#PubkeyAuthentication yes\n",
"\n",
"# Expect .ssh/authorized_keys2 to be disregarded by default in future.\n",
"#AuthorizedKeysFile\t.ssh/authorized_keys .ssh/authorized_keys2\n",
"\n",
"#AuthorizedPrincipalsFile none\n",
"\n",
"#AuthorizedKeysCommand none\n",
"#AuthorizedKeysCommandUser nobody\n",
"\n",
"# For this to work you will also need host keys in /etc/ssh/ssh_known_hosts\n",
"#HostbasedAuthentication no\n",
"# Change to yes if you don't trust ~/.ssh/known_hosts for\n",
"# HostbasedAuthentication\n",
"#IgnoreUserKnownHosts no\n",
"# Don't read the user's ~/.rhosts and ~/.shosts files\n",
"#IgnoreRhosts yes\n",
"\n",
"# To disable tunneled clear text passwords, change to no here!\n",
"#PasswordAuthentication yes\n",
"#PermitEmptyPasswords no\n",
"\n",
"# Change to yes to enable challenge-response passwords (beware issues with\n",
"# some PAM modules and threads)\n",
"ChallengeResponseAuthentication no\n",
"\n",
"# Kerberos options\n",
"#KerberosAuthentication no\n",
"#KerberosOrLocalPasswd yes\n",
"#KerberosTicketCleanup yes\n",
"#KerberosGetAFSToken no\n",
"\n",
"# GSSAPI options\n",
"#GSSAPIAuthentication no\n",
"#GSSAPICleanupCredentials yes\n",
"#GSSAPIStrictAcceptorCheck yes\n",
"#GSSAPIKeyExchange no\n",
"\n",
"# Set this to 'yes' to enable PAM authentication, account processing,\n",
"# and session processing. If this is enabled, PAM authentication will\n",
"# be allowed through the ChallengeResponseAuthentication and\n",
"# PasswordAuthentication.  Depending on your PAM configuration,\n",
"# PAM authentication via ChallengeResponseAuthentication may bypass\n",
"# the setting of \"PermitRootLogin without-password\".\n",
"# If you just want the PAM account and session checks to run without\n",
"# PAM authentication, then enable this but set PasswordAuthentication\n",
"# and ChallengeResponseAuthentication to 'no'.\n",
"UsePAM yes\n",
"\n",
"#AllowAgentForwarding yes\n",
"#AllowTcpForwarding yes\n",
"#GatewayPorts no\n",
"X11Forwarding yes\n",
"#X11DisplayOffset 10\n",
"#X11UseLocalhost yes\n",
"#PermitTTY yes\n",
"PrintMotd no\n",
"#PrintLastLog yes\n",
"#TCPKeepAlive yes\n",
"#PermitUserEnvironment no\n",
"#Compression delayed\n",
"#ClientAliveInterval 0\n",
"#ClientAliveCountMax 3\n",
"#UseDNS no\n",
"#PidFile /var/run/sshd.pid\n",
"#MaxStartups 10:30:100\n",
"#PermitTunnel no\n",
"#ChrootDirectory none\n",
"#VersionAddendum none\n",
"\n",
"# no default banner path\n",
"#Banner none\n",
"\n",
"# Allow client to pass locale environment variables\n",
"AcceptEnv LANG LC_*\n",
"\n",
"# override default of no subsystems\n",
"Subsystem\tsftp\t/usr/lib/openssh/sftp-server\n",
"\n",
"# Example of overriding settings on a per-user basis\n",
"#Match User anoncvs\n",
"#\tX11Forwarding no\n",
"#\tAllowTcpForwarding no\n",
"#\tPermitTTY no\n",
"#\tForceCommand cvs server\n"
          ]
        }
      ],
      "source": [
      "!cat /etc/ssh/sshd_config"
      ]
    },
{
      "attachments": {},
      "cell_type": "markdown",
      "metadata": {},
      "source": [
      "With this file we can change the configuration of how `SSH` works on our computer. For example we can see a commented line that says\n",
"\n",
"``` bash\n",
"#Port 22\n",
"```\n",
"\n",
"If we uncomment it and change the `SSH` number, it will no longer go to port 22, which is its default port, and will go to the port number specified there."
      ]
    },
{
      "attachments": {},
      "cell_type": "markdown",
      "metadata": {},
      "source": [
      "## File copying by `SSH`"
      ]
    },
{
      "attachments": {},
      "cell_type": "markdown",
      "metadata": {},
      "source": [
      "We can copy files by `SSH` using the `scp` (secure copy) command, the syntax is as follows\n",
"\n",
"``` bash\n",
"scp &ltpath local file&gt &ltuser&gt@&ltIP&gt:&ltpath to save&gt\n",
"```\n",
"\n",
"o\n",
"\n",
"``` bash\n",
"scp &ltuser&gt@&&ltip&gt:&ltpath to remote file&gt &ltpath to save&gt\n",
"```\n",
"\n",
"The first way is to copy a file from our computer to another computer and the second way from another computer to ours."
      ]
    },
{
      "attachments": {},
      "cell_type": "markdown",
      "metadata": {},
      "source": [
      "For example let's do an `ls` of `server1`."
      ]
    },
{
      "cell_type": "code",
      "execution_count": 35,
      "metadata": {},
      "outputs": [
      {
          "name": "stdout",
          "output_type": "stream",
          "text": [
          "snap\n",
"Connection to 194.62.99.222 closed.\n"
          ]
        }
      ],
      "source": [
      "!ssh -t server1 \"ls\""
      ]
    },
{
      "attachments": {},
      "cell_type": "markdown",
      "metadata": {},
      "source": [
      "Now let's see what we have in stock that we can pass on to you."
      ]
    },
{
      "cell_type": "code",
      "execution_count": 33,
      "metadata": {},
      "outputs": [
      {
          "name": "stdout",
          "output_type": "stream",
          "text": [
          " 2021-02-11-Introduccion-a-Python.ipynb         html_files\n",
" 2021-04-23-Calculo-matricial-con-Numpy.ipynb   html.ipynb\n",
" 2021-06-15-Manejo-de-datos-con-Pandas.ipynb    introduccion_python\n",
" 2022-09-12-Introduccion-a-la-terminal.ipynb    mi_paquete_de_python\n",
" 2023-01-22-Docker.ipynb\t\t        movies.csv\n",
" 2023-02-01-Bash-scripting.ipynb\t        movies.dat\n",
" 2023-02-04-Blip-2.ipynb\t\t        notebooks_translated\n",
" 2023-XX-XX-SSH.ipynb\t\t\t        __pycache__\n",
" california_housing_train.csv\t\t        scripts_bash\n",
" command-line-cheat-sheet.pdf\t\t        ssh.ipynb\n",
" CSS.ipynb\t\t\t\t        test.ipynb\n",
"'Expresiones regulares.ipynb'\n"
          ]
        }
      ],
      "source": [
      "!ls"
      ]
    },
{
      "attachments": {},
      "cell_type": "markdown",
      "metadata": {},
      "source": [
      "We are going to send the `html.ipynb` file to the server since it occupies little space."
      ]
    },
{
      "cell_type": "code",
      "execution_count": 36,
      "metadata": {},
      "outputs": [
      {
          "name": "stdout",
          "output_type": "stream",
          "text": [
          "html.ipynb                                    100%   14KB 229.0KB/s   00:00    \n"
          ]
        }
      ],
      "source": [
      "!scp html.ipynb server1:/root/"
      ]
    },
{
      "attachments": {},
      "cell_type": "markdown",
      "metadata": {},
      "source": [
      "Let's go back to see what is inside `server1`."
      ]
    },
{
      "cell_type": "code",
      "execution_count": 38,
      "metadata": {},
      "outputs": [
      {
          "name": "stdout",
          "output_type": "stream",
          "text": [
          "html.ipynb  snap\n",
"Connection to 194.62.99.222 closed.\n"
          ]
        }
      ],
      "source": [
      "!ssh -t server1 \"ls\""
      ]
    },
{
      "attachments": {},
      "cell_type": "markdown",
      "metadata": {},
      "source": [
      "Copied"
      ]
    },
{
      "attachments": {},
      "cell_type": "markdown",
      "metadata": {},
      "source": [
      "## Synchronization of files by `SSH`."
      ]
    },
{
      "attachments": {},
      "cell_type": "markdown",
      "metadata": {},
      "source": [
      "The bad thing about the `scp` command is that if something happens in the middle of the copy and the file is not copied, when you try again you have to start from scratch, this is especially a problem with very large files."
      ]
    },
{
      "attachments": {},
      "cell_type": "markdown",
      "metadata": {},
      "source": [
      "To solve this problem you can use `rsync`, the syntax is\n",
"\n",
"``` bash\n",
"rsync --partial --progress --rsh=ssh <path local file> <user>@<IP>:<path to save>\n",
"```\n",
"\n",
"o\n",
"\n",
"``` bash\n",
"rsync --partial --progress --rsh=ssh <user>@<ip>:<path to remote file> <path to save>\n",
"```\n",
"\n",
"As before, in the first way a file is copied from our computer to another one and in the second way from another one to ours. The `--partial` flag is to indicate that partially copied files are saved, that is to say, if the copy is stopped before it finishes, that what has been copied is kept. The `--progress` flag is to indicate to show the progress of the copy. The `--rsh=ssh` flag is to indicate that the file transfer is done over `SSH`."
      ]
    },
{
      "attachments": {},
      "cell_type": "markdown",
      "metadata": {},
      "source": [
      "We pass a file"
      ]
    },
{
      "cell_type": "code",
      "execution_count": 39,
      "metadata": {},
      "outputs": [
      {
          "name": "stdout",
          "output_type": "stream",
          "text": [
          "sending incremental file list\n",
"2021-06-15-Manejo-de-datos-con-Pandas.ipynb\n",
"        608.34K 100%  197.78MB/s    0:00:00 (xfr#1, to-chk=0/1)\n"
          ]
        }
      ],
      "source": [
      "!rsync --partial --progress -rsh=ssh 2021-06-15-Manejo-de-datos-con-Pandas.ipynb  server1:/root/"
      ]
    },
{
      "attachments": {},
      "cell_type": "markdown",
      "metadata": {},
      "source": [
      "And we see if it has been copied"
      ]
    },
{
      "cell_type": "code",
      "execution_count": 40,
      "metadata": {},
      "outputs": [
      {
          "name": "stdout",
          "output_type": "stream",
          "text": [
          "2021-06-15-Manejo-de-datos-con-Pandas.ipynb  html.ipynb  snap\n",
"Connection to 194.62.99.222 closed.\n"
          ]
        }
      ],
      "source": [
      "!ssh -t server1 \"ls\""
      ]
    },
{
      "attachments": {},
      "cell_type": "markdown",
      "metadata": {},
      "source": [
      "## Mount remote folders on local"
      ]
    },
{
      "attachments": {},
      "cell_type": "markdown",
      "metadata": {},
      "source": [
      "In case we want to have a folder from another machine as if it were on our computer we have to uasr `sshfs`.\n",
"\n",
"First it is necessary to install it by means of\n",
"\n",
"``` bash\n",
"sudo apt install sshfs\n",
"```\n",
"\n",
"And once it is installed, it is used with the syntax\n",
"\n",
"``` bash\n",
"sshfs &ltuser&&gt@&&ltip&gt:&ltremote path&gt &ltlocal path to mount&gt\n",
"```"
      ]
    },
{
      "attachments": {},
      "cell_type": "markdown",
      "metadata": {},
      "source": [
      "We are going to mount the `/root` folder of `server1`, but for this we will first create a folder in which we are going to mount it"
      ]
    },
{
      "cell_type": "code",
      "execution_count": 41,
      "metadata": {},
      "outputs": [],
      "source": [
      "!mkdir server1folder"
      ]
    },
{
      "attachments": {},
      "cell_type": "markdown",
      "metadata": {},
      "source": [
      "We can see that there is nothing inside the folder we have created"
      ]
    },
{
      "cell_type": "code",
      "execution_count": 42,
      "metadata": {},
      "outputs": [],
      "source": [
      "!ls server1folder"
      ]
    },
{
      "attachments": {},
      "cell_type": "markdown",
      "metadata": {},
      "source": [
      "Now we mount the server folder"
      ]
    },
{
      "cell_type": "code",
      "execution_count": 8,
      "metadata": {},
      "outputs": [],
      "source": [
      "!!sshfs server1:/root/ server1folder"
      ]
    },
{
      "attachments": {},
      "cell_type": "markdown",
      "metadata": {},
      "source": [
      "Back to see what's inside"
      ]
    },
{
      "cell_type": "code",
      "execution_count": 47,
      "metadata": {},
      "outputs": [
      {
          "name": "stdout",
          "output_type": "stream",
          "text": [
          "2021-06-15-Manejo-de-datos-con-Pandas.ipynb  html.ipynb  snap\n"
          ]
        }
      ],
      "source": [
      "!ls server1folder"
      ]
    },
{
      "attachments": {},
      "cell_type": "markdown",
      "metadata": {},
      "source": [
      "When we no longer want to have the folder mounted we can unmount it by `fusermount -u server1folder`."
      ]
    },
{
      "cell_type": "code",
      "execution_count": 8,
      "metadata": {},
      "outputs": [],
      "source": [
      "!!fusermount -u server1folder"
      ]
    },
{
      "attachments": {},
      "cell_type": "markdown",
      "metadata": {},
      "source": [
      "We look again at what is inside to see that there is nothing."
      ]
    },
{
      "cell_type": "code",
      "execution_count": 48,
      "metadata": {},
      "outputs": [],
      "source": [
      "!ls server1folder"
      ]
    },
{
      "attachments": {},
      "cell_type": "markdown",
      "metadata": {},
      "source": [
      "## Debugging `SSH` connection"
      ]
    },
{
      "attachments": {},
      "cell_type": "markdown",
      "metadata": {},
      "source": [
      "We can debug the `SSH` connection by adding from `-v`, up to `-vvvv` to the connection, the more `v`s we add the higher level of information."
      ]
    },
{
      "cell_type": "code",
      "execution_count": 49,
      "metadata": {},
      "outputs": [
      {
          "name": "stdout",
          "output_type": "stream",
          "text": [
          "OpenSSH_8.2p1 Ubuntu-4ubuntu0.5, OpenSSL 1.1.1f  31 Mar 2020\n",
"debug1: Reading configuration data /home/wallabot/.ssh/config\n",
"debug1: /home/wallabot/.ssh/config line 6: Applying options for server1\n",
"debug1: Reading configuration data /etc/ssh/ssh_config\n",
"debug1: /etc/ssh/ssh_config line 19: include /etc/ssh/ssh_config.d/*.conf matched no files\n",
"debug1: /etc/ssh/ssh_config line 21: Applying options for *\n",
"debug1: Connecting to 194.62.99.222 [194.62.99.222] port 22.\n",
"debug1: Connection established.\n",
"debug1: identity file /home/wallabot/.ssh/id_rsa type 0\n",
"debug1: identity file /home/wallabot/.ssh/id_rsa-cert type -1\n",
"debug1: identity file /home/wallabot/.ssh/id_dsa type -1\n",
"debug1: identity file /home/wallabot/.ssh/id_dsa-cert type -1\n",
"debug1: identity file /home/wallabot/.ssh/id_ecdsa type -1\n",
"debug1: identity file /home/wallabot/.ssh/id_ecdsa-cert type -1\n",
"debug1: identity file /home/wallabot/.ssh/id_ecdsa_sk type -1\n",
"debug1: identity file /home/wallabot/.ssh/id_ecdsa_sk-cert type -1\n",
"debug1: identity file /home/wallabot/.ssh/id_ed25519 type -1\n",
"debug1: identity file /home/wallabot/.ssh/id_ed25519-cert type -1\n",
"debug1: identity file /home/wallabot/.ssh/id_ed25519_sk type -1\n",
"debug1: identity file /home/wallabot/.ssh/id_ed25519_sk-cert type -1\n",
"debug1: identity file /home/wallabot/.ssh/id_xmss type -1\n",
"debug1: identity file /home/wallabot/.ssh/id_xmss-cert type -1\n",
"debug1: Local version string SSH-2.0-OpenSSH_8.2p1 Ubuntu-4ubuntu0.5\n",
"debug1: Remote protocol version 2.0, remote software version OpenSSH_8.9p1 Ubuntu-3\n",
"debug1: match: OpenSSH_8.9p1 Ubuntu-3 pat OpenSSH* compat 0x04000000\n",
"debug1: Authenticating to 194.62.99.222:22 as 'root'\n",
"debug1: SSH2_MSG_KEXINIT sent\n",
"debug1: SSH2_MSG_KEXINIT received\n",
"debug1: kex: algorithm: curve25519-sha256\n",
"debug1: kex: host key algorithm: ecdsa-sha2-nistp256\n",
"debug1: kex: server->client cipher: chacha20-poly1305@openssh.com MAC: <implicit> compression: none\n",
"debug1: kex: client->server cipher: chacha20-poly1305@openssh.com MAC: <implicit> compression: none\n",
"debug1: expecting SSH2_MSG_KEX_ECDH_REPLY\n",
"debug1: Server host key: ecdsa-sha2-nistp256 SHA256:jwpQt2a69LQcuvvYPPKL32bBwTi1Je/ZmUdr4zEiD1Y\n",
"debug1: Host '194.62.99.222' is known and matches the ECDSA host key.\n",
"debug1: Found key in /home/wallabot/.ssh/known_hosts:14\n",
"debug1: rekey out after 134217728 blocks\n",
"debug1: SSH2_MSG_NEWKEYS sent\n",
"debug1: expecting SSH2_MSG_NEWKEYS\n",
"debug1: SSH2_MSG_NEWKEYS received\n",
"debug1: rekey in after 134217728 blocks\n",
"debug1: Will attempt key: /home/wallabot/.ssh/id_rsa RSA SHA256:ID3HcrbyPBGjFx/qeiJK50eqihLGrpDVu02oRSyKGh4 agent\n",
"debug1: Will attempt key: wallabot@wallabot RSA SHA256:Qlq6hXbToInW+efEK666BFT26EeUSpBhzcqxTLrDBpQ agent\n",
"debug1: Will attempt key: /home/wallabot/.ssh/id_dsa \n",
"debug1: Will attempt key: /home/wallabot/.ssh/id_ecdsa \n",
"debug1: Will attempt key: /home/wallabot/.ssh/id_ecdsa_sk \n",
"debug1: Will attempt key: /home/wallabot/.ssh/id_ed25519 \n",
"debug1: Will attempt key: /home/wallabot/.ssh/id_ed25519_sk \n",
"debug1: Will attempt key: /home/wallabot/.ssh/id_xmss \n",
"debug1: SSH2_MSG_EXT_INFO received\n",
"debug1: kex_input_ext_info: server-sig-algs=<ssh-ed25519,sk-ssh-ed25519@openssh.com,ssh-rsa,rsa-sha2-256,rsa-sha2-512,ssh-dss,ecdsa-sha2-nistp256,ecdsa-sha2-nistp384,ecdsa-sha2-nistp521,sk-ecdsa-sha2-nistp256@openssh.com,webauthn-sk-ecdsa-sha2-nistp256@openssh.com>\n",
"debug1: kex_input_ext_info: publickey-hostbound@openssh.com (unrecognised)\n",
"debug1: SSH2_MSG_SERVICE_ACCEPT received\n",
"debug1: Authentications that can continue: publickey\n",
"debug1: Next authentication method: publickey\n",
"debug1: Offering public key: /home/wallabot/.ssh/id_rsa RSA SHA256:ID3HcrbyPBGjFx/qeiJK50eqihLGrpDVu02oRSyKGh4 agent\n",
"debug1: Authentications that can continue: publickey\n",
"debug1: Offering public key: wallabot@wallabot RSA SHA256:Qlq6hXbToInW+efEK666BFT26EeUSpBhzcqxTLrDBpQ agent\n",
"debug1: Server accepts key: wallabot@wallabot RSA SHA256:Qlq6hXbToInW+efEK666BFT26EeUSpBhzcqxTLrDBpQ agent\n",
"debug1: Authentication succeeded (publickey).\n",
"Authenticated to 194.62.99.222 ([194.62.99.222]:22).\n",
"debug1: channel 0: new [client-session]\n",
"debug1: Requesting no-more-sessions@openssh.com\n",
"debug1: Entering interactive session.\n",
"debug1: pledge: network\n",
"debug1: client_input_global_request: rtype hostkeys-00@openssh.com want_reply 0\n",
"debug1: Remote: /root/.ssh/authorized_keys:1: key options: agent-forwarding port-forwarding pty user-rc x11-forwarding\n",
"debug1: Remote: /root/.ssh/authorized_keys:1: key options: agent-forwarding port-forwarding pty user-rc x11-forwarding\n",
"debug1: Sending environment.\n",
"debug1: Sending env LANG = es_ES.UTF-8\n",
"Welcome to Ubuntu 22.04.1 LTS (GNU/Linux 5.15.0-60-generic x86_64)\n",
"\n",
" * Documentation:  https://help.ubuntu.com\n",
" * Management:     https://landscape.canonical.com\n",
" * Support:        https://ubuntu.com/advantage\n",
"\n",
"  System information as of Fri Feb 24 01:25:10 PM UTC 2023\n",
"\n",
"  System load:           0.0\n",
"  Usage of /:            15.2% of 24.53GB\n",
"  Memory usage:          34%\n",
"  Swap usage:            0%\n",
"  Processes:             89\n",
"  Users logged in:       0\n",
"  IPv4 address for eth0: 194.62.99.222\n",
"  IPv4 address for eth1: 10.7.0.168\n",
"  IPv6 address for eth2: 2a04:3542:8000:1000:d48a:cbff:fefb:5b1\n",
"\n",
" * Strictly confined Kubernetes makes edge and IoT secure. Learn how MicroK8s\n",
"   just raised the bar for easy, resilient and secure K8s cluster deployment.\n",
"\n",
"   https://ubuntu.com/engage/secure-kubernetes-at-the-edge\n",
"\n",
"43 updates can be applied immediately.\n",
"To see these additional updates run: apt list --upgradable\n",
"\n",
"\n",
"Last login: Fri Feb 24 13:10:05 2023 from 188.127.184.59\n",
"\u001b[?2004h\u001b]0;root@server1: ~\u001b[01;32mroot@server1\u001b[00m:\u001b[01;34m~\u001b[00m# ^C\u001b[?2004l\n",
"\u001b[?2004l\n",
"\u001b[?2004h\u001b]0;root@server1: ~\u001b[01;32mroot@server1\u001b[00m:\u001b[01;34m~\u001b[00m# "
          ]
        }
      ],
      "source": [
      "!ssh -v server1"
      ]
    }
  ],
  "metadata": {
    "kernelspec": {
      "display_name": "base",
      "language": "python",
      "name": "python3"
    },
    "language_info": {
      "codemirror_mode": {
        "name": "ipython",
        "version": 3
      },
      "file_extension": ".py",
      "mimetype": "text/x-python",
      "name": "python",
      "nbconvert_exporter": "python",
      "pygments_lexer": "ipython3",
      "version": "3.7.6"
    },
    "orig_nbformat": 4,
    "vscode": {
      "interpreter": {
        "hash": "d5745ab6aba164e1152437c779991855725055592b9f2bdb41a4825db7168d26"
      }
    }
  },
  "nbformat": 4,
  "nbformat_minor": 2
}
