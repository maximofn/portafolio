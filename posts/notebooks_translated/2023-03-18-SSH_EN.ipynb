{
  "cells": [
    {
      "attachments": {},
      "cell_type": "markdown",
      "metadata": {},
      "source": [
        "# SSH"
      ]
    },
    {
      "attachments": {},
      "cell_type": "markdown",
      "metadata": {},
      "source": [
        " > Disclaimer: This post has been translated to English using a machine translation model. Please, let me know if you find any mistakes."
      ]
    },
    {
      "attachments": {},
      "cell_type": "markdown",
      "metadata": {},
      "source": [
        "## Historical Introduction"
      ]
    },
    {
      "attachments": {},
      "cell_type": "markdown",
      "metadata": {},
      "source": [
        "In the early days of the internet, the `telnet` protocol was created to enable communication between multiple computers, but it had the problem of not being encrypted, which meant that anyone who intercepted the communication could read it without any issues. That's why `SSH` (Secure Shell) was created."
      ]
    },
    {
      "attachments": {},
      "cell_type": "markdown",
      "metadata": {},
      "source": [
        "## SSH Encryption"
      ]
    },
    {
      "attachments": {},
      "cell_type": "markdown",
      "metadata": {},
      "source": [
        "The `SSH` encryption system works through the public key and private key system, so that if communication is encrypted with one of the keys, it can only be decrypted by the other key.",
        "\n",
        "Why is there a public key and a private key? The public key is the one you give to everyone, and the private key is the one that only you should possess.",
        "\n",
        "So, if you want to communicate with another team via `SSH`, you first give them your public key, then you encrypt the message with your private key, and the message can only be decrypted with the public key that you have given to the other team.",
        "\n",
        "The same happens in reverse, if the other team wants to send you a message, they encrypt it with your public key and it can only be decrypted with the private key that only you possess."
      ]
    },
    {
      "attachments": {},
      "cell_type": "markdown",
      "metadata": {},
      "source": [
        "## Requirements `SSH`"
      ]
    },
    {
      "attachments": {},
      "cell_type": "markdown",
      "metadata": {},
      "source": [
        "### Service `SSH`"
      ]
    },
    {
      "attachments": {},
      "cell_type": "markdown",
      "metadata": {},
      "source": [
        "To be able to use `SSH` you need to have an `SSH` service. In `Linux` it usually comes pre-installed, but if it's not the case, you can install it via"
      ]
    },
    {
      "cell_type": "code",
      "execution_count": 8,
      "metadata": {},
      "outputs": [],
      "source": [
        "!apt install openssh-server"
      ]
    },
    {
      "attachments": {},
      "cell_type": "markdown",
      "metadata": {},
      "source": [
        "During the installation process, it will ask for your location to adjust the time zone."
      ]
    },
    {
      "attachments": {},
      "cell_type": "markdown",
      "metadata": {},
      "source": [
        "We then start the service"
      ]
    },
    {
      "cell_type": "code",
      "execution_count": 8,
      "metadata": {},
      "outputs": [],
      "source": [
        "!systemctl enable ssh"
      ]
    },
    {
      "attachments": {},
      "cell_type": "markdown",
      "metadata": {},
      "source": [
        "### SSH Client"
      ]
    },
    {
      "attachments": {},
      "cell_type": "markdown",
      "metadata": {},
      "source": [
        "Once you have the service, you need a client. Although in `Linux` it usually comes installed, if not, you can install it using"
      ]
    },
    {
      "cell_type": "code",
      "execution_count": 8,
      "metadata": {},
      "outputs": [],
      "source": [
        "!apt install openssh-client"
      ]
    },
    {
      "attachments": {},
      "cell_type": "markdown",
      "metadata": {},
      "source": [
        "## Connection via `SSH`"
      ]
    },
    {
      "attachments": {},
      "cell_type": "markdown",
      "metadata": {},
      "source": [
        "To connect via `SSH` you need to enter the command `ssh <user>@<ip>`"
      ]
    },
    {
      "cell_type": "code",
      "execution_count": 8,
      "metadata": {},
      "outputs": [
        {
          "name": "stdout",
          "output_type": "stream",
          "text": [
            "The authenticity of host '172.17.0.1 (172.17.0.1)' can't be established.\n",
            "ECDSA key fingerprint is SHA256:M+qsqSC4HiYztm1ij8iDkh9KHJz+pxrTm9GTZIf2N9k.\n",
            "Are you sure you want to continue connecting (yes/no/[fingerprint])?\n"
          ]
        }
      ],
      "source": [
        "!ssh root@172.17.0.1"
      ]
    },
    {
      "attachments": {},
      "cell_type": "markdown",
      "metadata": {},
      "source": [
        "As you can see, the first time it asks you if you want to save the `fingerprint`, this is so that if the next time you connect to the same machine (the same public key) the `fingerprint` has changed, you should be careful because there might be something dangerous, like someone impersonating that machine.",
        "\n",
        "If we trust, we enter `yes`"
      ]
    },
    {
      "cell_type": "code",
      "execution_count": 8,
      "metadata": {},
      "outputs": [
        {
          "name": "stdout",
          "output_type": "stream",
          "text": [
            "The authenticity of host '172.17.0.1 (172.17.0.1)' can't be established.\n",
            "ECDSA key fingerprint is SHA256:M+qsqSC4HiYztm1ij8iDkh9KHJz+pxrTm9GTZIf2N9k.\n",
            "Are you sure you want to continue connecting (yes/no/[fingerprint])? yes\n",
            "Warning: Permanently added '172.17.0.1' (ECDSA) to the list of known hosts.\n",
            "root@172.17.0.1's password:\n"
          ]
        }
      ],
      "source": [
        "!ssh root@172.17.0.1"
      ]
    },
    {
      "attachments": {},
      "cell_type": "markdown",
      "metadata": {},
      "source": [
        "Next, the machine we are connecting to asks for the password. We enter it, and we will be inside the machine."
      ]
    },
    {
      "cell_type": "code",
      "execution_count": 8,
      "metadata": {},
      "outputs": [
        {
          "name": "stdout",
          "output_type": "stream",
          "text": [
            "The authenticity of host '172.17.0.1 (172.17.0.1)' can't be established.\n",
            "ECDSA key fingerprint is SHA256:M+qsqSC4HiYztm1ij8iDkh9KHJz+pxrTm9GTZIf2N9k.\n",
            "Are you sure you want to continue connecting (yes/no/[fingerprint])? yes\n",
            "Warning: Permanently added '172.17.0.1' (ECDSA) to the list of known hosts.\n",
            "root@172.17.0.1's password: \n",
            "Welcome to Ubuntu 20.04.5 LTS (GNU/Linux 5.15.0-58-generic x86_64)\n",
            "\n",
            " * Documentation:  https://help.ubuntu.com\n",
            " * Management:     https://landscape.canonical.com\n",
            " * Support:        https://ubuntu.com/advantage\n",
            "\n",
            "1 device has a firmware upgrade available.\n",
            "Run `fwupdmgr get-upgrades` for more information.\n",
            "\n",
            "\n",
            " * Introducing Expanded Security Maintenance for Applications.\n",
            "   Receive updates to over 25,000 software packages with your\n",
            "   Ubuntu Pro subscription. Free for personal use.\n",
            "\n",
            "     https://ubuntu.com/pro\n",
            "\n",
            "Se pueden aplicar 0 actualizaciones de forma inmediata.\n",
            "\n",
            "Your Hardware Enablement Stack (HWE) is supported until April 2025.\n",
            "Last login: Thu Dec  1 16:32:23 2022 from 127.0.0.1\n",
            "root@172.17.0.1:~$\n"
          ]
        }
      ],
      "source": [
        "!ssh root@172.17.0.1"
      ]
    },
    {
      "attachments": {},
      "cell_type": "markdown",
      "metadata": {},
      "source": [
        "## Connection without password requirement"
      ]
    },
    {
      "attachments": {},
      "cell_type": "markdown",
      "metadata": {},
      "source": [
        "As we have seen, when we connect, it asks for the password of the target machine, but if it is a machine that we are going to connect to frequently, we can set it up so that it does not ask for the password every time we want to connect."
      ]
    },
    {
      "attachments": {},
      "cell_type": "markdown",
      "metadata": {},
      "source": [
        "To do this, first we generate an `ssh` key using `ssh-keygen`"
      ]
    },
    {
      "cell_type": "code",
      "execution_count": 8,
      "metadata": {},
      "outputs": [
        {
          "name": "stdout",
          "output_type": "stream",
          "text": [
            "Generating public/private rsa key pair.\n",
            "Enter file in which to save the key (/root/.ssh/id_rsa): \n",
            "Enter passphrase (empty for no passphrase): \n",
            "Enter same passphrase again: \n",
            "Your identification has been saved in /root/.ssh/id_rsa\n",
            "Your public key has been saved in /root/.ssh/id_rsa.pub\n",
            "The key fingerprint is:\n",
            "SHA256:4HxRXkVkcK5kNXNyzakfQ6t8a24wRGCUYz4s5KL5ZEc root@e108f6f395b3\n",
            "The key's randomart image is:\n",
            "+---[RSA 3072]----+\n",
            "|          o+==@.=|\n",
            "|         +.= * Oo|\n",
            "|      . + = = + .|\n",
            "|     o o E * + + |\n",
            "|      = S . = o o|\n",
            "|     o + .   = o |\n",
            "|      + .     + .|\n",
            "|       .       + |\n",
            "|              +. |\n",
            "+----[SHA256]-----+\n"
          ]
        }
      ],
      "source": [
        "!ssh-keygen"
      ]
    },
    {
      "attachments": {},
      "cell_type": "markdown",
      "metadata": {},
      "source": [
        "As we can see, it first asks us where we want to save the key; if we don't enter anything, it saves it in the default path. And then it prompts for a phrase to generate the key, **if you write a phrase, you must always remember it**. Additionally, if you write a phrase, it will ask you for it every time you try to access the key, so each time we want to access the machine via `SSH`, it won't ask for the machine's password, but it will ask for this phrase. Therefore, you choose whether to not enter a phrase so that it never asks you, or to enter one and always input it."
      ]
    },
    {
      "attachments": {},
      "cell_type": "markdown",
      "metadata": {},
      "source": [
        "Next, we ask the remote machine to save our key using `ssh-copy-id <user>@<id>:`"
      ]
    },
    {
      "cell_type": "code",
      "execution_count": 8,
      "metadata": {},
      "outputs": [
        {
          "name": "stdout",
          "output_type": "stream",
          "text": [
            "/usr/bin/ssh-copy-id: INFO: Source of key(s) to be installed: \"/root/.ssh/id_rsa.pub\"\n",
            "/usr/bin/ssh-copy-id: INFO: attempting to log in with the new key(s), to filter out any that are already installed\n",
            "/usr/bin/ssh-copy-id: INFO: 1 key(s) remain to be installed -- if you are prompted now it is to install the new keys\n",
            "root@172.17.0.1's password: \n",
            "\n",
            "Number of key(s) added: 1\n",
            "\n",
            "Now try logging into the machine, with:   \"ssh 'root@172.17.0.1'\"\n",
            "and check to make sure that only the key(s) you wanted were added.\n",
            "\n",
            "root@103b6040196a:/# ssh root@172.17.0.1\n",
            "Welcome to Ubuntu 20.04.5 LTS (GNU/Linux 5.15.0-58-generic x86_64)\n",
            "\n",
            " * Documentation:  https://help.ubuntu.com\n",
            " * Management:     https://landscape.canonical.com\n",
            " * Support:        https://ubuntu.com/advantage\n",
            "\n",
            "4 devices have a firmware upgrade available.\n",
            "Run `fwupdmgr get-upgrades` for more information.\n",
            "\n",
            "\n",
            "58 updates can be applied immediately.\n",
            "41 of these updates are standard security updates.\n",
            "To see these additional updates run: apt list --upgradable\n",
            "\n",
            "New release '22.04.1 LTS' available.\n",
            "Run 'do-release-upgrade' to upgrade to it.\n",
            "\n",
            "Your Hardware Enablement Stack (HWE) is supported until April 2025.\n",
            "Last login: Thu Feb  2 08:05:48 2023 from 172.17.0.2\n",
            "(base) root@172.17.0.1:~$\n"
          ]
        }
      ],
      "source": [
        "!ssh-copy-id root@172.17.0.1:"
      ]
    },
    {
      "attachments": {},
      "cell_type": "markdown",
      "metadata": {},
      "source": [
        "## Using the remote terminal via `SSH`"
      ]
    },
    {
      "attachments": {},
      "cell_type": "markdown",
      "metadata": {},
      "source": [
        "Maybe we don't need to log into the remote machine because we only need to run a single command, so we can use its terminal remotely by adding the `-t` flag to the `SSH` command, that is, through `ssh -t <user>@<id> <command>`"
      ]
    },
    {
      "cell_type": "code",
      "execution_count": 8,
      "metadata": {},
      "outputs": [
        {
          "name": "stdout",
          "output_type": "stream",
          "text": [
            "PING google.com (172.217.168.174) 56(84) bytes of data.\n",
            "64 bytes from mad07s10-in-f14.1e100.net (172.217.168.174): icmp_seq=1 ttl=111 time=2.94 ms\n",
            "64 bytes from mad07s10-in-f14.1e100.net (172.217.168.174): icmp_seq=2 ttl=111 time=2.55 ms\n",
            "64 bytes from mad07s10-in-f14.1e100.net (172.217.168.174): icmp_seq=3 ttl=111 time=2.78 ms\n",
            "64 bytes from mad07s10-in-f14.1e100.net (172.217.168.174): icmp_seq=4 ttl=111 time=2.69 ms\n",
            "\n",
            "--- google.com ping statistics ---\n",
            "4 packets transmitted, 4 received, 0% packet loss, time 3005ms\n",
            "rtt min/avg/max/mdev = 2.550/2.739/2.940/0.142 ms\n",
            "Connection to 172.17.0.1 closed.\n"
          ]
        }
      ],
      "source": [
        "!ssh -t root@172.17.0.1 ping -c 4 google.com"
      ]
    },
    {
      "attachments": {},
      "cell_type": "markdown",
      "metadata": {},
      "source": [
        "As can be seen, the command is executed on the remote machine and when it finishes, the last line tells us that the connection is closed."
      ]
    },
    {
      "attachments": {},
      "cell_type": "markdown",
      "metadata": {},
      "source": [
        "## Proxy `SSH`"
      ]
    },
    {
      "attachments": {},
      "cell_type": "markdown",
      "metadata": {},
      "source": [
        "If you are browsing from an insecure location, or a place that has a proxy that doesn't allow access to certain ports, you can browse through the proxy of another machine using `SSH`. This can be done by adding the `-D` flag and the port through which you want to make the connection to the remote proxy. Since the port for `tcp/ip` is `9999`, the command could look like `ssh -D 9999 <user>@<id>`"
      ]
    },
    {
      "attachments": {},
      "cell_type": "markdown",
      "metadata": {},
      "source": [
        "To make this look better, before running it I get my public IP"
      ]
    },
    {
      "cell_type": "code",
      "execution_count": 2,
      "metadata": {},
      "outputs": [
        {
          "name": "stdout",
          "output_type": "stream",
          "text": [
            "188.127.184.59"
          ]
        }
      ],
      "source": [
        "!curl ifconfig.me"
      ]
    },
    {
      "attachments": {},
      "cell_type": "markdown",
      "metadata": {},
      "source": [
        "Now I'm using the proxy of a web server that I have set up"
      ]
    },
    {
      "cell_type": "code",
      "execution_count": 8,
      "metadata": {},
      "outputs": [
        {
          "name": "stdout",
          "output_type": "stream",
          "text": [
            "Welcome to Ubuntu 22.04.1 LTS (GNU/Linux 5.15.0-53-generic x86_64)\n",
            "\n",
            " * Documentation:  https://help.ubuntu.com\n",
            " * Management:     https://landscape.canonical.com\n",
            " * Support:        https://ubuntu.com/advantage\n",
            "\n",
            "  System information as of Wed Feb 22 06:08:51 AM UTC 2023\n",
            "\n",
            "  System load:           0.02978515625\n",
            "  Usage of /:            11.7% of 24.53GB\n",
            "  Memory usage:          33%\n",
            "  Swap usage:            0%\n",
            "  Processes:             89\n",
            "  Users logged in:       0\n",
            "  IPv4 address for eth0: 194.62.99.222\n",
            "  IPv4 address for eth1: 10.7.0.168\n",
            "  IPv6 address for eth2: 2a04:3542:8000:1000:d48a:cbff:fefb:5b1\n",
            "\n",
            "\n",
            "0 updates can be applied immediately.\n",
            "\n",
            "\n",
            "The list of available updates is more than a week old.\n",
            "To check for new updates run: sudo apt update\n",
            "\n",
            "Last login: Wed Feb 22 06:02:35 2023 from 188.127.184.59\n",
            "root@server1:~#\n"
          ]
        }
      ],
      "source": [
        "!ssh -D 9999 root@194.62.99.222"
      ]
    },
    {
      "attachments": {},
      "cell_type": "markdown",
      "metadata": {},
      "source": [
        "Change the proxy configuration of my computer",
        "\n",
        "![proxy ssh](https://pub-fb664c455eca46a2ba762a065ac900f7.r2.dev/proxy_ssh.webp)"
      ]
    },
    {
      "attachments": {},
      "cell_type": "markdown",
      "metadata": {},
      "source": [
        "Now I'm going to check my public IP again, but using the recently configured proxy"
      ]
    },
    {
      "cell_type": "code",
      "execution_count": 8,
      "metadata": {},
      "outputs": [
        {
          "name": "stdout",
          "output_type": "stream",
          "text": [
            "194.62.99.222"
          ]
        }
      ],
      "source": [
        "!curl -x socks5h://localhost:9999 ifconfig.me"
      ]
    },
    {
      "attachments": {},
      "cell_type": "markdown",
      "metadata": {},
      "source": [
        "We see that we obtain the public IP of the server"
      ]
    },
    {
      "attachments": {},
      "cell_type": "markdown",
      "metadata": {},
      "source": [
        "## Remote graphical interface via `SSH`"
      ]
    },
    {
      "attachments": {},
      "cell_type": "markdown",
      "metadata": {},
      "source": [
        "In Linux, the graphical interface is a server, so we can take advantage of this and run programs with graphical interfaces that are on a remote machine via `SSH`. To do this, you need to use the `-X` flag. The command would be `ssh -X <user>@<id>`"
      ]
    },
    {
      "attachments": {},
      "cell_type": "markdown",
      "metadata": {},
      "source": [
        "First I log into my server and install `xeyes` using `sudo apt install x11-apps` and then I run it remotely from my computer."
      ]
    },
    {
      "cell_type": "code",
      "execution_count": 8,
      "metadata": {},
      "outputs": [
        {
          "name": "stdout",
          "output_type": "stream",
          "text": [
            "Welcome to Ubuntu 22.04.1 LTS (GNU/Linux 5.15.0-53-generic x86_64)\n",
            "\n",
            "Last login: Wed Feb 22 06:39:52 2023 from 188.127.184.59\n",
            "/usr/bin/xauth:  file /root/.Xauthority does not exist\n",
            "root@server1:~sudo apt install x11-apps\n",
            "root@server1:~#xeyes\n"
          ]
        }
      ],
      "source": [
        "!ssh -X root@194.62.99.222"
      ]
    },
    {
      "attachments": {},
      "cell_type": "markdown",
      "metadata": {},
      "source": [
        "Now on my computer the `xeyes` window is opening but it's not running on my computer.",
        "\n",
        "![xeyes](https://pub-fb664c455eca46a2ba762a065ac900f7.r2.dev/xeyes.webp)"
      ]
    },
    {
      "attachments": {},
      "cell_type": "markdown",
      "metadata": {},
      "source": [
        "## SSH Tunnel"
      ]
    },
    {
      "attachments": {},
      "cell_type": "markdown",
      "metadata": {},
      "source": [
        "As I mentioned, I have set up a server to which I have SSH access."
      ]
    },
    {
      "cell_type": "code",
      "execution_count": 8,
      "metadata": {},
      "outputs": [
        {
          "name": "stdout",
          "output_type": "stream",
          "text": [
            "Welcome to Ubuntu 22.04.1 LTS (GNU/Linux 5.15.0-53-generic x86_64)\n",
            "\n",
            "Last login: Wed Feb 22 06:40:58 2023 from 188.127.184.59\n",
            "root@server1:~#\n"
          ]
        }
      ],
      "source": [
        "!ssh root@194.62.99.222"
      ]
    },
    {
      "attachments": {},
      "cell_type": "markdown",
      "metadata": {},
      "source": [
        "And I also set up a second server from which I have access from `server1`, but I don't have access from my computer."
      ]
    },
    {
      "attachments": {},
      "cell_type": "markdown",
      "metadata": {},
      "source": [
        "Next, I try to access the `server2` from my computer and we see that I cannot."
      ]
    },
    {
      "cell_type": "code",
      "execution_count": 8,
      "metadata": {},
      "outputs": [
        {
          "name": "stdout",
          "output_type": "stream",
          "text": [
            "ssh: connect to host 194.62.99.235 port 22: Connection timed out\n"
          ]
        }
      ],
      "source": [
        "!ssh root@194.62.99.235"
      ]
    },
    {
      "attachments": {},
      "cell_type": "markdown",
      "metadata": {},
      "source": [
        "And then I try to access `server2` from `server1` and we see that I can."
      ]
    },
    {
      "cell_type": "code",
      "execution_count": 8,
      "metadata": {},
      "outputs": [
        {
          "name": "stdout",
          "output_type": "stream",
          "text": [
            "Welcome to Ubuntu 22.04.1 LTS (GNU/Linux 5.15.0-53-generic x86_64)\n",
            "\n",
            "Last login: Wed Feb 22 06:59:01 2023 from 10.7.0.168\n",
            "root@server2:~#\n"
          ]
        }
      ],
      "source": [
        "!root@server1:~# ssh root@10.7.2.228"
      ]
    },
    {
      "attachments": {},
      "cell_type": "markdown",
      "metadata": {},
      "source": [
        "So what we create is a tunnel from my computer to the `server2` through the `server1`, for this we use the `-L` flag. To create the tunnel, you need to specify the port on your computer where you will create the tunnel, followed by the destination `IP` of the tunnel, the port through which the tunnel will go, and finally the device that will create the tunnel. It would look like this",
        "\n",
        "``` bash\n",
        "ssh -L &ltHOST PORT&gt:&ltDEST IP&gt:&ltTUNNEL PORT&gt &ltTUNNEL CREATOR USER&gt@&ltTUNNEL CREATOR IP&gt",
        "```\n",
        "\n",
        "Let's look at my example, I have `server1` with a public `IP` that we can call `ip_pub1` and to which I have access via `SSH` and a private `IP` that we can call `ip_priv1` which is within the same network as `server2`. And I have `server2` with a public `IP` that we can call `ip_pub2` to which I do not have `SSH` access and a private `IP` that we can call `ip_priv2` within the same network as `server1`.",
        "\n",
        "First I create the tunnel",
        "\n",
        "``` bash\n",
        "ssh -L host_port:ip_priv2:22 root@ip_pub1",
        "```\n",
        "\n",
        "I have created a tunnel to the private `IP` of `server2` through the public `IP` of `server1`",
        "\n",
        "Lastly, to connect to `server2`, I do it through the `localhost` and the host port that I have declared in the tunnel.",
        "\n",
        "``` bash\n",
        "ssh -p 2020 root@localhost",
        "```"
      ]
    },
    {
      "attachments": {},
      "cell_type": "markdown",
      "metadata": {},
      "source": [
        "Let's see it in reality, the `IP`s of my servers are",
        "\n",
        "* `server1`:",
        "* `Public IP`: `194.62.99.222`",
        "* `IP` private: `10.7.0.168`",
        "* `server2`:",
        "* `Public IP`: `194.62.99.235`",
        "* `Private IP`: `10.7.2.228`",
        "\n",
        "First I create the tunnel"
      ]
    },
    {
      "cell_type": "code",
      "execution_count": 11,
      "metadata": {},
      "outputs": [
        {
          "name": "stdout",
          "output_type": "stream",
          "text": [
            "Welcome to Ubuntu 22.04.1 LTS (GNU/Linux 5.15.0-53-generic x86_64)\n",
            "\n",
            " * Documentation:  https://help.ubuntu.com\n",
            " * Management:     https://landscape.canonical.com\n",
            " * Support:        https://ubuntu.com/advantage\n",
            "\n",
            "  System information as of Wed Feb 22 11:13:39 AM UTC 2023\n",
            "\n",
            "  System load:           0.0\n",
            "  Usage of /:            13.3% of 24.53GB\n",
            "  Memory usage:          36%\n",
            "  Swap usage:            0%\n",
            "  Processes:             91\n",
            "  Users logged in:       1\n",
            "  IPv4 address for eth0: 194.62.99.222\n",
            "  IPv4 address for eth1: 10.7.0.168\n",
            "  IPv6 address for eth2: 2a04:3542:8000:1000:d48a:cbff:fefb:5b1\n",
            "\n",
            "\n",
            "101 updates can be applied immediately.\n",
            "60 of these updates are standard security updates.\n",
            "To see these additional updates run: apt list --upgradable\n",
            "\n",
            "\n",
            "Last login: Wed Feb 22 09:29:52 2023 from 188.127.184.59\n",
            "\u001b[?2004h\u001b]0;root@server1: ~\u001b[01;32mroot@server1\u001b[00m:\u001b[01;34m~\u001b[00m# ^C\u001b[?2004l\n",
            "\u001b[?2004l\n",
            "\u001b[?2004h\u001b]0;root@server1: ~\u001b[01;32mroot@server1\u001b[00m:\u001b[01;34m~\u001b[00m# "
          ]
        }
      ],
      "source": [
        "!ssh -L 2020:10.7.2.228:22 root@194.62.99.222"
      ]
    },
    {
      "attachments": {},
      "cell_type": "markdown",
      "metadata": {},
      "source": [
        "With the tunnel created, I can now connect to `server2` from my computer."
      ]
    },
    {
      "cell_type": "code",
      "execution_count": 12,
      "metadata": {},
      "outputs": [
        {
          "name": "stdout",
          "output_type": "stream",
          "text": [
            "Welcome to Ubuntu 22.04.1 LTS (GNU/Linux 5.15.0-53-generic x86_64)\n",
            "\n",
            " * Documentation:  https://help.ubuntu.com\n",
            " * Management:     https://landscape.canonical.com\n",
            " * Support:        https://ubuntu.com/advantage\n",
            "\n",
            "  System information as of Wed Feb 22 11:14:15 AM UTC 2023\n",
            "\n",
            "  System load:           0.0\n",
            "  Usage of /:            13.3% of 24.53GB\n",
            "  Memory usage:          33%\n",
            "  Swap usage:            0%\n",
            "  Processes:             90\n",
            "  Users logged in:       0\n",
            "  IPv4 address for eth0: 194.62.99.235\n",
            "  IPv4 address for eth1: 10.7.2.228\n",
            "  IPv6 address for eth2: 2a04:3542:8000:1000:d48a:cbff:fefb:7f47\n",
            "\n",
            " * Strictly confined Kubernetes makes edge and IoT secure. Learn how MicroK8s\n",
            "   just raised the bar for easy, resilient and secure K8s cluster deployment.\n",
            "\n",
            "   https://ubuntu.com/engage/secure-kubernetes-at-the-edge\n",
            "\n",
            "101 updates can be applied immediately.\n",
            "60 of these updates are standard security updates.\n",
            "To see these additional updates run: apt list --upgradable\n",
            "\n",
            "\n",
            "Last login: Wed Feb 22 11:14:16 2023 from 10.7.0.168\n",
            "\u001b[?2004h\u001b]0;root@server2: ~\u001b[01;32mroot@server2\u001b[00m:\u001b[01;34m~\u001b[00m# ^C\u001b[?2004l\n",
            "\u001b[?2004l\n",
            "\u001b[?2004h\u001b]0;root@server2: ~\u001b[01;32mroot@server2\u001b[00m:\u001b[01;34m~\u001b[00m# "
          ]
        }
      ],
      "source": [
        "!ssh -p 2020 root@localhost"
      ]
    },
    {
      "attachments": {},
      "cell_type": "markdown",
      "metadata": {},
      "source": [
        "## Reverse connection"
      ]
    },
    {
      "attachments": {},
      "cell_type": "markdown",
      "metadata": {},
      "source": [
        "Let's assume I want to connect to `server2`, but now I can't establish a tunnel from `server1` for whatever reason. What we can do is create a reverse connection from another server.",
        "\n",
        "Suppose I have a third server, called `server3`, which can be accessed via `SSH` from anywhere, meaning both I from my computer and the `server2` have access. Therefore, if we can physically access the `server2`, we can establish a reverse connection from the `server2` to the `server3`.",
        "\n",
        "```\n",
        "ssh -R &ltserver3port&gt:localhost:22 root@&ltIPserver3&gt",
        "```\n",
        "\n",
        "With this, what I have done is enable a connection from `server3` to `server2` (which was not possible before), through the `localhost` and port `server3port` of `server3`",
        "\n",
        "Now from my computer I can connect to the `server3` and from the `server3` I can connect to the `server2` through",
        "\n",
        "``` bash\n",
        "ssh -p &ltserver3port&gt root@localhost",
        "```"
      ]
    },
    {
      "attachments": {},
      "cell_type": "markdown",
      "metadata": {},
      "source": [
        "Let's see it with the data from my servers",
        "\n",
        "* `server2`:",
        "* `Public IP`: `194.62.99.235`",
        "* `server3`:",
        "* `Public IP`: `194.62.96.236`"
      ]
    },
    {
      "attachments": {},
      "cell_type": "markdown",
      "metadata": {},
      "source": [
        "First I make the reverse connection from `server2` to `server3`"
      ]
    },
    {
      "cell_type": "code",
      "execution_count": 8,
      "metadata": {},
      "outputs": [
        {
          "name": "stdout",
          "output_type": "stream",
          "text": [
            "Welcome to Ubuntu 22.04.1 LTS (GNU/Linux 5.15.0-53-generic x86_64)\n",
            "\n",
            "Last login: Wed Feb 22 15:25:58 2023 from 188.127.184.59\n",
            "root@server3:~#\n"
          ]
        }
      ],
      "source": [
        "!root@server2:~# ssh -R 2020:localhost:22 root@194.62.96.236"
      ]
    },
    {
      "attachments": {},
      "cell_type": "markdown",
      "metadata": {},
      "source": [
        "Now I connect to the `server3`"
      ]
    },
    {
      "cell_type": "code",
      "execution_count": 8,
      "metadata": {},
      "outputs": [
        {
          "name": "stdout",
          "output_type": "stream",
          "text": [
            "Welcome to Ubuntu 22.04.1 LTS (GNU/Linux 5.15.0-53-generic x86_64)\n",
            "\n",
            "Last login: Wed Feb 22 15:12:19 2023 from 188.127.184.59\n",
            "root@server3:~#\n"
          ]
        }
      ],
      "source": [
        "!ssh root@194.62.96.236"
      ]
    },
    {
      "attachments": {},
      "cell_type": "markdown",
      "metadata": {},
      "source": [
        "And now that I'm on the `server3`, I connect to the `server2`."
      ]
    },
    {
      "cell_type": "code",
      "execution_count": 8,
      "metadata": {},
      "outputs": [
        {
          "name": "stdout",
          "output_type": "stream",
          "text": [
            "Welcome to Ubuntu 22.04.1 LTS (GNU/Linux 5.15.0-53-generic x86_64)\n",
            "\n",
            "Last login: Wed Feb 22 15:12:07 2023 from 188.127.184.59\n",
            "root@server2:~#\n"
          ]
        }
      ],
      "source": [
        "!root@server3:~# ssh -p 2020 root@localhost"
      ]
    },
    {
      "attachments": {},
      "cell_type": "markdown",
      "metadata": {},
      "source": [
        "Achieved! Through my computer I cannot connect directly to the `server2`, but by connecting to the `server3` I was able to access the `server2` thanks to the reverse connection I had made from the `server2` to the `server3`."
      ]
    },
    {
      "attachments": {},
      "cell_type": "markdown",
      "metadata": {},
      "source": [
        "## Jump"
      ]
    },
    {
      "attachments": {},
      "cell_type": "markdown",
      "metadata": {},
      "source": [
        "Finally, another way to access `server2` is by first entering `server1` and then, from `server1`, accessing `server2`. However, this can be a bit cumbersome because you first need to make an `SSH` connection to `server1` and then another one to `server2`. So, to do it all in one step, we can use the `-J` (`jump`) flag, which would look like `ssh -J server1 server2`."
      ]
    },
    {
      "attachments": {},
      "cell_type": "markdown",
      "metadata": {},
      "source": [
        "Summary, first we would do `ssh root@194.62.99.222` and then `ssh root@10.7.2.228` (since inside `server1` we connect to `server2` via the private `IP`).",
        "\n",
        "So we could do it all in one go with `ssh -J root@194.62.99.222 root@10.7.2.228`",
        "\n",
        "Let's give it a try"
      ]
    },
    {
      "cell_type": "code",
      "execution_count": 8,
      "metadata": {},
      "outputs": [
        {
          "name": "stdout",
          "output_type": "stream",
          "text": [
            "Welcome to Ubuntu 22.04.1 LTS (GNU/Linux 5.15.0-60-generic x86_64)\n",
            "\n",
            "Last login: Fri Feb 24 06:46:11 2023 from 10.7.0.168\n",
            "root@server2:~#\n"
          ]
        }
      ],
      "source": [
        "!ssh -J root@194.62.99.222 root@10.7.2.228"
      ]
    },
    {
      "attachments": {},
      "cell_type": "markdown",
      "metadata": {},
      "source": [
        "We have been able to make the jumps!"
      ]
    },
    {
      "attachments": {},
      "cell_type": "markdown",
      "metadata": {},
      "source": [
        "## User's `SSH` configuration file"
      ]
    },
    {
      "attachments": {},
      "cell_type": "markdown",
      "metadata": {},
      "source": [
        "### Devices with Aliases"
      ]
    },
    {
      "attachments": {},
      "cell_type": "markdown",
      "metadata": {},
      "source": [
        "In every computer there is a configuration file for `SSH` which usually resides in the user's folder."
      ]
    },
    {
      "cell_type": "code",
      "execution_count": 2,
      "metadata": {},
      "outputs": [
        {
          "name": "stdout",
          "output_type": "stream",
          "text": [
            "# Read more about SSH config files: https://linux.die.net/man/5/ssh_config\n",
            "Host 192.168.1.138\n",
            "    HostName 192.168.1.138\n",
            "    User maximo.fernandez\n"
          ]
        }
      ],
      "source": [
        "!cat ~/.ssh/config"
      ]
    },
    {
      "attachments": {},
      "cell_type": "markdown",
      "metadata": {},
      "source": [
        "In this file, I have stored the user credentials and IP of some devices that I usually connect to so I don\u2019t have to fill everything out myself. Let\u2019s take a look at it with the servers I have.",
        "\n",
        "My server `server1` has the user `root` and the IP `194.62.99.222`, so I add it to the list."
      ]
    },
    {
      "cell_type": "code",
      "execution_count": 8,
      "metadata": {},
      "outputs": [],
      "source": [
        "!echo \"Host server1\\n    HostName 194.62.99.222\\n    User root\" >> ~/.ssh/config"
      ]
    },
    {
      "attachments": {},
      "cell_type": "markdown",
      "metadata": {},
      "source": [
        "Let's take another look at the configuration file."
      ]
    },
    {
      "cell_type": "code",
      "execution_count": 9,
      "metadata": {},
      "outputs": [
        {
          "name": "stdout",
          "output_type": "stream",
          "text": [
            "# Read more about SSH config files: https://linux.die.net/man/5/ssh_config\n",
            "Host 192.168.1.138\n",
            "    HostName 192.168.1.138\n",
            "    User maximo.fernandez\n",
            "\n",
            "Host server1\n",
            "    HostName 194.62.99.222\n",
            "    User root\n"
          ]
        }
      ],
      "source": [
        "!cat ~/.ssh/config"
      ]
    },
    {
      "attachments": {},
      "cell_type": "markdown",
      "metadata": {},
      "source": [
        "Now that we have added it to connect to `server1`, we only need to do `ssh server1`"
      ]
    },
    {
      "cell_type": "code",
      "execution_count": 8,
      "metadata": {},
      "outputs": [
        {
          "name": "stdout",
          "output_type": "stream",
          "text": [
            "Welcome to Ubuntu 22.04.1 LTS (GNU/Linux 5.15.0-60-generic x86_64)\n",
            "\n",
            "Last login: Fri Feb 24 05:18:59 2023 from 188.127.184.59\n",
            "root@server1:~# \n"
          ]
        }
      ],
      "source": [
        "!ssh server1 "
      ]
    },
    {
      "attachments": {},
      "cell_type": "markdown",
      "metadata": {},
      "source": [
        "### Proxy"
      ]
    },
    {
      "attachments": {},
      "cell_type": "markdown",
      "metadata": {},
      "source": [
        "As we have seen, by adding the flag `-D <port>` we could change the proxy. To save this in the configuration file, we just need to add the line `DynamicForward <port>` to the host we are saving."
      ]
    },
    {
      "attachments": {},
      "cell_type": "markdown",
      "metadata": {},
      "source": [
        "Repeating the previous example where we used `server1` as a `TCP/IP` port (`9999`) proxy, the configuration file would look like this",
        "\n",
        "```\n",
        "Host proxyServer1",
        "HostName 194.62.99.222",
        "User root",
        "DynamicForward 9999",
        "```\n",
        "\n",
        "We add it"
      ]
    },
    {
      "cell_type": "code",
      "execution_count": 10,
      "metadata": {},
      "outputs": [],
      "source": [
        "!echo \"Host proxyServer1\\n    HostName 194.62.99.222\\n    User root\\n    DynamicForward 9999\" >> ~/.ssh/config"
      ]
    },
    {
      "attachments": {},
      "cell_type": "markdown",
      "metadata": {},
      "source": [
        "Let's see how the configuration file looks like"
      ]
    },
    {
      "cell_type": "code",
      "execution_count": 11,
      "metadata": {},
      "outputs": [
        {
          "name": "stdout",
          "output_type": "stream",
          "text": [
            "# Read more about SSH config files: https://linux.die.net/man/5/ssh_config\n",
            "Host 192.168.1.138\n",
            "    HostName 192.168.1.138\n",
            "    User maximo.fernandez\n",
            "\n",
            "Host server1\n",
            "    HostName 194.62.99.222\n",
            "    User root\n",
            "Host proxyServer1\n",
            "    HostName 194.62.99.222\n",
            "    User root\n",
            "    DynamicForward 9999\n"
          ]
        }
      ],
      "source": [
        "!cat ~/.ssh/config"
      ]
    },
    {
      "attachments": {},
      "cell_type": "markdown",
      "metadata": {},
      "source": [
        "I get my `IP` address"
      ]
    },
    {
      "cell_type": "code",
      "execution_count": 12,
      "metadata": {},
      "outputs": [
        {
          "name": "stdout",
          "output_type": "stream",
          "text": [
            "188.127.184.59"
          ]
        }
      ],
      "source": [
        "!curl ifconfig.me"
      ]
    },
    {
      "attachments": {},
      "cell_type": "markdown",
      "metadata": {},
      "source": [
        "I connect to the proxy server"
      ]
    },
    {
      "cell_type": "code",
      "execution_count": 8,
      "metadata": {},
      "outputs": [
        {
          "name": "stdout",
          "output_type": "stream",
          "text": [
            "Welcome to Ubuntu 22.04.1 LTS (GNU/Linux 5.15.0-60-generic x86_64)\n",
            "\n",
            "Last login: Fri Feb 24 05:42:32 2023 from 188.127.184.59\n",
            "root@server1:~#\n"
          ]
        }
      ],
      "source": [
        "!ssh proxyServer1 "
      ]
    },
    {
      "attachments": {},
      "cell_type": "markdown",
      "metadata": {},
      "source": [
        "Change the proxy configuration of my computer",
        "\n",
        "![proxy ssh](https://pub-fb664c455eca46a2ba762a065ac900f7.r2.dev/proxy_ssh.webp)"
      ]
    },
    {
      "attachments": {},
      "cell_type": "markdown",
      "metadata": {},
      "source": [
        "I check my public `IP` again, but using the recently configured proxy"
      ]
    },
    {
      "cell_type": "code",
      "execution_count": 13,
      "metadata": {},
      "outputs": [
        {
          "name": "stdout",
          "output_type": "stream",
          "text": [
            "194.62.99.222"
          ]
        }
      ],
      "source": [
        "!curl -x socks5h://localhost:9999 ifconfig.me"
      ]
    },
    {
      "attachments": {},
      "cell_type": "markdown",
      "metadata": {},
      "source": [
        "We see that we obtain the public IP of the server"
      ]
    },
    {
      "attachments": {},
      "cell_type": "markdown",
      "metadata": {},
      "source": [
        "### SSH Tunnel"
      ]
    },
    {
      "attachments": {},
      "cell_type": "markdown",
      "metadata": {},
      "source": [
        "If I want to create a tunnel to `server2` through `server1` as before, we used to do `ssh <HOST PORT>:<DEST IP>:<TUNNEL PORT> <TUNNEL CREATOR USER>@<TUNNEL CREATOR IP>`, now we have to add the line",
        "\n",
        "``` bash\n",
        "LocalForward &ltlocalhost&gt:&ltHOST PORT&gt &ltDEST IP&gt:&ltTUNNEL PORT&gt",
        "```"
      ]
    },
    {
      "attachments": {},
      "cell_type": "markdown",
      "metadata": {},
      "source": [
        "That is, the configuration file would be",
        "\n",
        "```\n",
        "Host tunnelToServer2",
        "HostName 194.62.99.222",
        "User root",
        "LocalForward 127.0.0.1:2020 10.7.2.228:22",
        "```"
      ]
    },
    {
      "attachments": {},
      "cell_type": "markdown",
      "metadata": {},
      "source": [
        "But that doesn't quite make sense, let's look at it with something concrete.",
        "\n",
        "* `server1`:",
        "* `Public IP`: `194.62.99.222`",
        "* `IP` private: `10.7.0.168`",
        "* `server2`:",
        "* `Public IP`: `194.62.99.235`",
        "* `IP` private: `10.7.2.228`",
        "\n",
        "Before, the command was",
        "\n",
        "``` bash\n",
        "ssh -L 2020:10.7.2.228:22 root@194.62.99.222",
        "```\n",
        "\n",
        "So the configuration file should look like this:",
        "\n",
        "```\n",
        "Host tunnelToServer2",
        "HostName 194.62.99.222",
        "User root",
        "LocalForward 127.0.0.1:2020 10.7.2.228:22",
        "```\n",
        "\n",
        "Let's see if it works"
      ]
    },
    {
      "attachments": {},
      "cell_type": "markdown",
      "metadata": {},
      "source": [
        "We add the new configuration"
      ]
    },
    {
      "cell_type": "code",
      "execution_count": 14,
      "metadata": {},
      "outputs": [],
      "source": [
        "!echo \"Host tunelToServer2\\n    HostName 194.62.99.222\\n    User root\\n    LocalForward 127.0.0.1:2020 10.7.2.228:22\" >> ~/.ssh/config"
      ]
    },
    {
      "attachments": {},
      "cell_type": "markdown",
      "metadata": {},
      "source": [
        "Let's see how the configuration file looks like"
      ]
    },
    {
      "cell_type": "code",
      "execution_count": 15,
      "metadata": {},
      "outputs": [
        {
          "name": "stdout",
          "output_type": "stream",
          "text": [
            "# Read more about SSH config files: https://linux.die.net/man/5/ssh_config\n",
            "Host 192.168.1.138\n",
            "    HostName 192.168.1.138\n",
            "    User maximo.fernandez\n",
            "\n",
            "Host server1\n",
            "    HostName 194.62.99.222\n",
            "    User root\n",
            "Host proxyServer1\n",
            "    HostName 194.62.99.222\n",
            "    User root\n",
            "    DynamicForward 9999\n",
            "Host tunelToServer2\n",
            "    HostName 194.62.99.222\n",
            "    User root\n",
            "    LocalForward 127.0.0.1:2020 10.7.2.228:22\n"
          ]
        }
      ],
      "source": [
        "!cat ~/.ssh/config"
      ]
    },
    {
      "attachments": {},
      "cell_type": "markdown",
      "metadata": {},
      "source": [
        "We create the tunnel"
      ]
    },
    {
      "cell_type": "code",
      "execution_count": 8,
      "metadata": {},
      "outputs": [
        {
          "name": "stdout",
          "output_type": "stream",
          "text": [
            "Welcome to Ubuntu 22.04.1 LTS (GNU/Linux 5.15.0-60-generic x86_64)\n",
            "\n",
            "Last login: Fri Feb 24 06:02:20 2023 from 188.127.184.59\n",
            "root@server1:~#\n"
          ]
        }
      ],
      "source": [
        "!ssh tunelToServer2 "
      ]
    },
    {
      "attachments": {},
      "cell_type": "markdown",
      "metadata": {},
      "source": [
        "Now we try to connect to the `server2` from my computer."
      ]
    },
    {
      "cell_type": "code",
      "execution_count": 8,
      "metadata": {},
      "outputs": [
        {
          "name": "stdout",
          "output_type": "stream",
          "text": [
            "Welcome to Ubuntu 22.04.1 LTS (GNU/Linux 5.15.0-60-generic x86_64)\n",
            "\n",
            "Last login: Fri Feb 24 06:02:36 2023 from 10.7.0.168\n",
            "root@server2:~# \n"
          ]
        }
      ],
      "source": [
        "!ssh -p 2020 root@localhost"
      ]
    },
    {
      "attachments": {},
      "cell_type": "markdown",
      "metadata": {},
      "source": [
        "Got it! But we can make everything a bit cleaner, we can add this last connection to the configuration file."
      ]
    },
    {
      "cell_type": "code",
      "execution_count": 16,
      "metadata": {},
      "outputs": [],
      "source": [
        "!echo \"Host server2ByTunel\\n    HostName localhost\\n    User root\\n    Port 2020\" >> ~/.ssh/config"
      ]
    },
    {
      "attachments": {},
      "cell_type": "markdown",
      "metadata": {},
      "source": [
        "Let's see how the configuration file looks like"
      ]
    },
    {
      "cell_type": "code",
      "execution_count": 17,
      "metadata": {},
      "outputs": [
        {
          "name": "stdout",
          "output_type": "stream",
          "text": [
            "# Read more about SSH config files: https://linux.die.net/man/5/ssh_config\n",
            "Host 192.168.1.138\n",
            "    HostName 192.168.1.138\n",
            "    User maximo.fernandez\n",
            "\n",
            "Host server1\n",
            "    HostName 194.62.99.222\n",
            "    User root\n",
            "Host proxyServer1\n",
            "    HostName 194.62.99.222\n",
            "    User root\n",
            "    DynamicForward 9999\n",
            "Host tunelToServer2\n",
            "    HostName 194.62.99.222\n",
            "    User root\n",
            "    LocalForward 127.0.0.1:2020 10.7.2.228:22\n",
            "Host server2ByTunel\n",
            "    HostName localhost\n",
            "    User root\n",
            "    Port 2020\n"
          ]
        }
      ],
      "source": [
        "!cat ~/.ssh/config"
      ]
    },
    {
      "attachments": {},
      "cell_type": "markdown",
      "metadata": {},
      "source": [
        "Now we connect back to `server2` from my computer, through the tunnel, but with the last configuration we just saved."
      ]
    },
    {
      "cell_type": "code",
      "execution_count": 8,
      "metadata": {},
      "outputs": [
        {
          "name": "stdout",
          "output_type": "stream",
          "text": [
            "Welcome to Ubuntu 22.04.1 LTS (GNU/Linux 5.15.0-60-generic x86_64)\n",
            "\n",
            "Last login: Fri Feb 24 06:13:33 2023 from 10.7.0.168\n",
            "root@server2:~# \n"
          ]
        }
      ],
      "source": [
        "!ssh server2ByTunel "
      ]
    },
    {
      "attachments": {},
      "cell_type": "markdown",
      "metadata": {},
      "source": [
        "In summary, with everything we have done, we can create the tunnel to `server2` with the command `ssh tunelToServer2` and then connect to `server2` with the command `ssh server2ByTunel`",
        "\n",
        "Amazing!"
      ]
    },
    {
      "attachments": {},
      "cell_type": "markdown",
      "metadata": {},
      "source": [
        "### Reverse Connection"
      ]
    },
    {
      "attachments": {},
      "cell_type": "markdown",
      "metadata": {},
      "source": [
        "We remember that our problem now was that we couldn't connect to `server2` through the tunnel of `server1`. So, by creating a reverse connection from `server2` (we have someone on `server2` who can make that reverse connection, or we set it up ourselves before leaving) to a `server3`, I can connect from my computer to `server3` and then connect to `server2`."
      ]
    },
    {
      "attachments": {},
      "cell_type": "markdown",
      "metadata": {},
      "source": [
        "First, we need to make the reverse connection from `server2` to `server3`. We could do this with a command.",
        "\n",
        "``` bash\n",
        "ssh -R &ltserver3port&gt:localhost:22 root@&ltIPserver3&gt",
        "```\n",
        "\n",
        "Or save the connection in the configuration file by adding",
        "\n",
        "```\n",
        "Host reverseToServer3",
        "HostName &ltIPserver3&gt",
        "User root",
        "RemoteForward &ltserver3port&gt localhost:22",
        "```\n",
        "\n",
        "And make the inverse connection through",
        "\n",
        "``` bash\n",
        "ssh reverseToServer3",
        "```"
      ]
    },
    {
      "attachments": {},
      "cell_type": "markdown",
      "metadata": {},
      "source": [
        "Let's look at it with concrete data.",
        "\n",
        "* `server2`:",
        "* `Public IP`: `194.62.99.235`",
        "* `server3`:",
        "* `Public IP`: `194.62.96.236`",
        "\n",
        "To make the reverse connection, you would have to use the command",
        "\n",
        "``` bash\n",
        "ssh -R 2020:localhost:22 root@194.62.96.236",
        "```\n",
        "\n",
        "or save the following configuration",
        "\n",
        "``` bash\n",
        "Host reverseToServer3",
        "HostName 194.62.96.236",
        "User root",
        "RemoteForward 2020 localhost:22",
        "```\n",
        "\n",
        "And connect through",
        "\n",
        "``` bash\n",
        "ssh reverseToServer3",
        "```"
      ]
    },
    {
      "attachments": {},
      "cell_type": "markdown",
      "metadata": {},
      "source": [
        "So I save the configuration on server 2 and make the connection"
      ]
    },
    {
      "cell_type": "code",
      "execution_count": 8,
      "metadata": {},
      "outputs": [],
      "source": [
        "!root@server2:~# echo \"Host reverseToServer3\\n    HostName 194.62.96.236\\n    User root\\n    RemoteForward 2020 localhost:22\" >> ~/.ssh/config"
      ]
    },
    {
      "attachments": {},
      "cell_type": "markdown",
      "metadata": {},
      "source": [
        "Let's check if it has been saved properly"
      ]
    },
    {
      "cell_type": "code",
      "execution_count": 8,
      "metadata": {},
      "outputs": [
        {
          "name": "stdout",
          "output_type": "stream",
          "text": [
            "\n",
            "Host reverseToServer3\n",
            "    HostName 194.62.96.236\n",
            "    User root\n",
            "    RemoteForward 2020 localhost:22\n"
          ]
        }
      ],
      "source": [
        "!root@server2:~# cat .ssh/config"
      ]
    },
    {
      "attachments": {},
      "cell_type": "markdown",
      "metadata": {},
      "source": [
        "I make the reverse connection"
      ]
    },
    {
      "cell_type": "code",
      "execution_count": 8,
      "metadata": {},
      "outputs": [
        {
          "name": "stdout",
          "output_type": "stream",
          "text": [
            "Welcome to Ubuntu 22.04.1 LTS (GNU/Linux 5.15.0-53-generic x86_64)\n",
            "\n",
            "Last login: Wed Feb 22 15:26:18 2023 from 194.62.99.235\n",
            "root@server3:~# \n"
          ]
        }
      ],
      "source": [
        "!root@server2:~# ssh reverseToServer3 "
      ]
    },
    {
      "attachments": {},
      "cell_type": "markdown",
      "metadata": {},
      "source": [
        "### Jump"
      ]
    },
    {
      "attachments": {},
      "cell_type": "markdown",
      "metadata": {},
      "source": [
        "As we said, we made jumps using the `-J` flag, so with the command `ssh -J root@194.62.99.222 root@10.7.2.228` we could connect to `server2`."
      ]
    },
    {
      "attachments": {},
      "cell_type": "markdown",
      "metadata": {},
      "source": [
        "To configure the configuration file, there are two options"
      ]
    },
    {
      "attachments": {},
      "cell_type": "markdown",
      "metadata": {},
      "source": [
        "The first is that since we already have `server1` saved in the configuration file, we only need to add `server2`.",
        "\n",
        "``` bash\n",
        "Host server2",
        "HostName 10.7.2.228",
        "User root",
        "```\n",
        "\n",
        "And then we could connect via",
        "\n",
        "``` bash\n",
        "ssh -J server1 server2",
        "```\n",
        "\n",
        "Let's test it out"
      ]
    },
    {
      "cell_type": "code",
      "execution_count": 19,
      "metadata": {},
      "outputs": [],
      "source": [
        "!echo \"Host server2\\n    HostName 10.7.2.228\\n    User root\\n\" >> ~/.ssh/config"
      ]
    },
    {
      "attachments": {},
      "cell_type": "markdown",
      "metadata": {},
      "source": [
        "We see the configuration file"
      ]
    },
    {
      "cell_type": "code",
      "execution_count": 21,
      "metadata": {},
      "outputs": [
        {
          "name": "stdout",
          "output_type": "stream",
          "text": [
            "# Read more about SSH config files: https://linux.die.net/man/5/ssh_config\n",
            "Host 192.168.1.138\n",
            "    HostName 192.168.1.138\n",
            "    User maximo.fernandez\n",
            "\n",
            "Host server1\n",
            "    HostName 194.62.99.222\n",
            "    User root\n",
            "Host proxyServer1\n",
            "    HostName 194.62.99.222\n",
            "    User root\n",
            "    DynamicForward 9999\n",
            "Host tunelToServer2\n",
            "    HostName 194.62.99.222\n",
            "    User root\n",
            "    LocalForward 127.0.0.1:2020 10.7.2.228:22\n",
            "Host server2ByTunel\n",
            "    HostName localhost\n",
            "    User root\n",
            "    Port 2020\n",
            "Host server2\n",
            "    HostName 10.7.2.228\n",
            "    User root\n",
            "\n"
          ]
        }
      ],
      "source": [
        "!cat ~/.ssh/config"
      ]
    },
    {
      "attachments": {},
      "cell_type": "markdown",
      "metadata": {},
      "source": [
        "Now we connect through the jumps"
      ]
    },
    {
      "cell_type": "code",
      "execution_count": 8,
      "metadata": {},
      "outputs": [
        {
          "name": "stdout",
          "output_type": "stream",
          "text": [
            "Welcome to Ubuntu 22.04.1 LTS (GNU/Linux 5.15.0-60-generic x86_64)\n",
            "\n",
            "Last login: Fri Feb 24 12:05:16 2023 from 10.7.0.168\n",
            "root@server2:~#\n"
          ]
        }
      ],
      "source": [
        "!ssh -J server1 server2"
      ]
    },
    {
      "attachments": {},
      "cell_type": "markdown",
      "metadata": {},
      "source": [
        "This has been the first option: to save each server and set the jumps; but a second option is to save all the jumps in a single configuration, which would look like this",
        "\n",
        "``` bash\n",
        "Host server2jumping",
        "HostName 10.7.2.228",
        "User root",
        "ProxyJump root@194.62.99.222",
        "```\n",
        "\n",
        "And it would only be left to connect via",
        "\n",
        "```\n",
        "ssh server2jumping",
        "```\n",
        "\n",
        "Let's give it a try"
      ]
    },
    {
      "cell_type": "code",
      "execution_count": 22,
      "metadata": {},
      "outputs": [],
      "source": [
        "!echo \"Host server2jumping\\n    HostName 10.7.2.228\\n    User root\\n    ProxyJump root@194.62.99.222\" >> ~/.ssh/config"
      ]
    },
    {
      "attachments": {},
      "cell_type": "markdown",
      "metadata": {},
      "source": [
        "Let's take a look at the configuration file"
      ]
    },
    {
      "cell_type": "code",
      "execution_count": 24,
      "metadata": {},
      "outputs": [
        {
          "name": "stdout",
          "output_type": "stream",
          "text": [
            "# Read more about SSH config files: https://linux.die.net/man/5/ssh_config\n",
            "Host 192.168.1.138\n",
            "    HostName 192.168.1.138\n",
            "    User maximo.fernandez\n",
            "\n",
            "Host server1\n",
            "    HostName 194.62.99.222\n",
            "    User root\n",
            "Host proxyServer1\n",
            "    HostName 194.62.99.222\n",
            "    User root\n",
            "    DynamicForward 9999\n",
            "Host tunelToServer2\n",
            "    HostName 194.62.99.222\n",
            "    User root\n",
            "    LocalForward 127.0.0.1:2020 10.7.2.228:22\n",
            "Host server2ByTunel\n",
            "    HostName localhost\n",
            "    User root\n",
            "    Port 2020\n",
            "Host server2\n",
            "    HostName 10.7.2.228\n",
            "    User root\n",
            "Host server2jumping\n",
            "    HostName 10.7.2.228\n",
            "    User root\n",
            "    ProxyJump root@194.62.99.222\n"
          ]
        }
      ],
      "source": [
        "!cat ~/.ssh/config"
      ]
    },
    {
      "attachments": {},
      "cell_type": "markdown",
      "metadata": {},
      "source": [
        "Now we try to connect"
      ]
    },
    {
      "cell_type": "code",
      "execution_count": 8,
      "metadata": {},
      "outputs": [
        {
          "name": "stdout",
          "output_type": "stream",
          "text": [
            "Welcome to Ubuntu 22.04.1 LTS (GNU/Linux 5.15.0-60-generic x86_64)\n",
            "\n",
            "Last login: Fri Feb 24 12:06:22 2023 from 10.7.0.168\n",
            "root@server2:~# \n"
          ]
        }
      ],
      "source": [
        "!ssh server2jumping"
      ]
    },
    {
      "attachments": {},
      "cell_type": "markdown",
      "metadata": {},
      "source": [
        "## System `SSH` configuration file"
      ]
    },
    {
      "attachments": {},
      "cell_type": "markdown",
      "metadata": {},
      "source": [
        "We previously looked at the user's `SSH` configuration file, where we store settings for machines we want to connect to via `SSH`. However, there is another `SSH` configuration file, but in this case it is for the system, located at `/etc/ssh/ssh_config`. Let's take a look at it."
      ]
    },
    {
      "cell_type": "code",
      "execution_count": 25,
      "metadata": {},
      "outputs": [
        {
          "name": "stdout",
          "output_type": "stream",
          "text": [
            "#\t$OpenBSD: sshd_config,v 1.103 2018/04/09 20:41:22 tj Exp $\n",
            "\n",
            "# This is the sshd server system-wide configuration file.  See\n",
            "# sshd_config(5) for more information.\n",
            "\n",
            "# This sshd was compiled with PATH=/usr/bin:/bin:/usr/sbin:/sbin\n",
            "\n",
            "# The strategy used for options in the default sshd_config shipped with\n",
            "# OpenSSH is to specify options with their default value where\n",
            "# possible, but leave them commented.  Uncommented options override the\n",
            "# default value.\n",
            "\n",
            "Include /etc/ssh/sshd_config.d/*.conf\n",
            "\n",
            "#Port 22\n",
            "#AddressFamily any\n",
            "#ListenAddress 0.0.0.0\n",
            "#ListenAddress ::\n",
            "\n",
            "#HostKey /etc/ssh/ssh_host_rsa_key\n",
            "#HostKey /etc/ssh/ssh_host_ecdsa_key\n",
            "#HostKey /etc/ssh/ssh_host_ed25519_key\n",
            "\n",
            "# Ciphers and keying\n",
            "#RekeyLimit default none\n",
            "\n",
            "# Logging\n",
            "#SyslogFacility AUTH\n",
            "#LogLevel INFO\n",
            "\n",
            "# Authentication:\n",
            "\n",
            "#LoginGraceTime 2m\n",
            "#PermitRootLogin prohibit-password\n",
            "#StrictModes yes\n",
            "#MaxAuthTries 6\n",
            "#MaxSessions 10\n",
            "\n",
            "#PubkeyAuthentication yes\n",
            "\n",
            "# Expect .ssh/authorized_keys2 to be disregarded by default in future.\n",
            "#AuthorizedKeysFile\t.ssh/authorized_keys .ssh/authorized_keys2\n",
            "\n",
            "#AuthorizedPrincipalsFile none\n",
            "\n",
            "#AuthorizedKeysCommand none\n",
            "#AuthorizedKeysCommandUser nobody\n",
            "\n",
            "# For this to work you will also need host keys in /etc/ssh/ssh_known_hosts\n",
            "#HostbasedAuthentication no\n",
            "# Change to yes if you don't trust ~/.ssh/known_hosts for\n",
            "# HostbasedAuthentication\n",
            "#IgnoreUserKnownHosts no\n",
            "# Don't read the user's ~/.rhosts and ~/.shosts files\n",
            "#IgnoreRhosts yes\n",
            "\n",
            "# To disable tunneled clear text passwords, change to no here!\n",
            "#PasswordAuthentication yes\n",
            "#PermitEmptyPasswords no\n",
            "\n",
            "# Change to yes to enable challenge-response passwords (beware issues with\n",
            "# some PAM modules and threads)\n",
            "ChallengeResponseAuthentication no\n",
            "\n",
            "# Kerberos options\n",
            "#KerberosAuthentication no\n",
            "#KerberosOrLocalPasswd yes\n",
            "#KerberosTicketCleanup yes\n",
            "#KerberosGetAFSToken no\n",
            "\n",
            "# GSSAPI options\n",
            "#GSSAPIAuthentication no\n",
            "#GSSAPICleanupCredentials yes\n",
            "#GSSAPIStrictAcceptorCheck yes\n",
            "#GSSAPIKeyExchange no\n",
            "\n",
            "# Set this to 'yes' to enable PAM authentication, account processing,\n",
            "# and session processing. If this is enabled, PAM authentication will\n",
            "# be allowed through the ChallengeResponseAuthentication and\n",
            "# PasswordAuthentication.  Depending on your PAM configuration,\n",
            "# PAM authentication via ChallengeResponseAuthentication may bypass\n",
            "# the setting of \"PermitRootLogin without-password\".\n",
            "# If you just want the PAM account and session checks to run without\n",
            "# PAM authentication, then enable this but set PasswordAuthentication\n",
            "# and ChallengeResponseAuthentication to 'no'.\n",
            "UsePAM yes\n",
            "\n",
            "#AllowAgentForwarding yes\n",
            "#AllowTcpForwarding yes\n",
            "#GatewayPorts no\n",
            "X11Forwarding yes\n",
            "#X11DisplayOffset 10\n",
            "#X11UseLocalhost yes\n",
            "#PermitTTY yes\n",
            "PrintMotd no\n",
            "#PrintLastLog yes\n",
            "#TCPKeepAlive yes\n",
            "#PermitUserEnvironment no\n",
            "#Compression delayed\n",
            "#ClientAliveInterval 0\n",
            "#ClientAliveCountMax 3\n",
            "#UseDNS no\n",
            "#PidFile /var/run/sshd.pid\n",
            "#MaxStartups 10:30:100\n",
            "#PermitTunnel no\n",
            "#ChrootDirectory none\n",
            "#VersionAddendum none\n",
            "\n",
            "# no default banner path\n",
            "#Banner none\n",
            "\n",
            "# Allow client to pass locale environment variables\n",
            "AcceptEnv LANG LC_*\n",
            "\n",
            "# override default of no subsystems\n",
            "Subsystem\tsftp\t/usr/lib/openssh/sftp-server\n",
            "\n",
            "# Example of overriding settings on a per-user basis\n",
            "#Match User anoncvs\n",
            "#\tX11Forwarding no\n",
            "#\tAllowTcpForwarding no\n",
            "#\tPermitTTY no\n",
            "#\tForceCommand cvs server\n"
          ]
        }
      ],
      "source": [
        "!cat /etc/ssh/sshd_config"
      ]
    },
    {
      "attachments": {},
      "cell_type": "markdown",
      "metadata": {},
      "source": [
        "With this file, we can change the configuration of how `SSH` works on our computer. For example, we can see a commented line that says",
        "\n",
        "``` bash\n",
        "#Port 22",
        "```\n",
        "\n",
        "If we uncomment it and change the `SSH` port number, SSH will no longer use port 22, which is its default port, and will instead use the port number specified there."
      ]
    },
    {
      "attachments": {},
      "cell_type": "markdown",
      "metadata": {},
      "source": [
        "## Copying files over `SSH`"
      ]
    },
    {
      "attachments": {},
      "cell_type": "markdown",
      "metadata": {},
      "source": [
        "We can copy files via `SSH` using the `scp` (secure copy) command. For this, the syntax is",
        "\n",
        "``` bash\n",
        "scp &ltpath local file&gt &ltuser&gt@&ltIP&gt:&ltpath to save&gt",
        "```\n",
        "\n",
        "o",
        "\n",
        "``` bash\n",
        "scp &ltuser&gt@&ltip&gt:&ltpath to remote file&gt &ltpath to save&gt",
        "```\n",
        "\n",
        "The first way copies a file from our computer to another, and the second way copies a file from another to ours."
      ]
    },
    {
      "attachments": {},
      "cell_type": "markdown",
      "metadata": {},
      "source": [
        "For example, let's do a `ls` of `server1`"
      ]
    },
    {
      "cell_type": "code",
      "execution_count": 35,
      "metadata": {},
      "outputs": [
        {
          "name": "stdout",
          "output_type": "stream",
          "text": [
            "snap\n",
            "Connection to 194.62.99.222 closed.\n"
          ]
        }
      ],
      "source": [
        "!ssh -t server1 \"ls\""
      ]
    },
    {
      "attachments": {},
      "cell_type": "markdown",
      "metadata": {},
      "source": [
        "Let's see now what we have locally that we can pass on"
      ]
    },
    {
      "cell_type": "code",
      "execution_count": 33,
      "metadata": {},
      "outputs": [
        {
          "name": "stdout",
          "output_type": "stream",
          "text": [
            " 2021-02-11-Introduccion-a-Python.ipynb         html_files\n",
            " 2021-04-23-Calculo-matricial-con-Numpy.ipynb   html.ipynb\n",
            " 2021-06-15-Manejo-de-datos-con-Pandas.ipynb    introduccion_python\n",
            " 2022-09-12-Introduccion-a-la-terminal.ipynb    mi_paquete_de_python\n",
            " 2023-01-22-Docker.ipynb\t\t        movies.csv\n",
            " 2023-02-01-Bash-scripting.ipynb\t        movies.dat\n",
            " 2023-02-04-Blip-2.ipynb\t\t        notebooks_translated\n",
            " 2023-XX-XX-SSH.ipynb\t\t\t        __pycache__\n",
            " california_housing_train.csv\t\t        scripts_bash\n",
            " command-line-cheat-sheet.pdf\t\t        ssh.ipynb\n",
            " CSS.ipynb\t\t\t\t        test.ipynb\n",
            "'Expresiones regulares.ipynb'\n"
          ]
        }
      ],
      "source": [
        "!ls"
      ]
    },
    {
      "attachments": {},
      "cell_type": "markdown",
      "metadata": {},
      "source": [
        "Let's send the `html.ipynb` file to the server since it takes up little space."
      ]
    },
    {
      "cell_type": "code",
      "execution_count": 36,
      "metadata": {},
      "outputs": [
        {
          "name": "stdout",
          "output_type": "stream",
          "text": [
            "html.ipynb                                    100%   14KB 229.0KB/s   00:00    \n"
          ]
        }
      ],
      "source": [
        "!scp html.ipynb server1:/root/"
      ]
    },
    {
      "attachments": {},
      "cell_type": "markdown",
      "metadata": {},
      "source": [
        "Let's check what's inside `server1` again."
      ]
    },
    {
      "cell_type": "code",
      "execution_count": 38,
      "metadata": {},
      "outputs": [
        {
          "name": "stdout",
          "output_type": "stream",
          "text": [
            "html.ipynb  snap\n",
            "Connection to 194.62.99.222 closed.\n"
          ]
        }
      ],
      "source": [
        "!ssh -t server1 \"ls\""
      ]
    },
    {
      "attachments": {},
      "cell_type": "markdown",
      "metadata": {},
      "source": [
        "It has been copied"
      ]
    },
    {
      "attachments": {},
      "cell_type": "markdown",
      "metadata": {},
      "source": [
        "## File Synchronization via `SSH`"
      ]
    },
    {
      "attachments": {},
      "cell_type": "markdown",
      "metadata": {},
      "source": [
        "The downside of the `scp` command is that if something happens during the copy process and the file doesn't finish copying, when you try again, you have to start from scratch. This is especially a problem with very large files."
      ]
    },
    {
      "attachments": {},
      "cell_type": "markdown",
      "metadata": {},
      "source": [
        "To solve this, you can use `rsync`, the syntax is",
        "\n",
        "``` bash\n",
        "rsync --partial --progress --rsh=ssh <local file path> <user>@<IP>:<path to save>",
        "```\n",
        "\n",
        "o",
        "\n",
        "``` bash\n",
        "rsync --partial --progress --rsh=ssh <user>@<ip>:<path to remote file> <path to save>",
        "```\n",
        "\n",
        "Just like before, the first method copies a file from our computer to another and the second from another to ours. The `--partial` flag is to indicate that partially copied files should be saved, meaning that if the copy stops before it finishes, what has been copied will remain. The `--progress` flag is to indicate that it should show the progress of the copy. The `--rsh=ssh` flag is to indicate that file transfer should be done via `SSH`."
      ]
    },
    {
      "attachments": {},
      "cell_type": "markdown",
      "metadata": {},
      "source": [
        "We pass a file"
      ]
    },
    {
      "cell_type": "code",
      "execution_count": 39,
      "metadata": {},
      "outputs": [
        {
          "name": "stdout",
          "output_type": "stream",
          "text": [
            "sending incremental file list\n",
            "2021-06-15-Manejo-de-datos-con-Pandas.ipynb\n",
            "        608.34K 100%  197.78MB/s    0:00:00 (xfr#1, to-chk=0/1)\n"
          ]
        }
      ],
      "source": [
        "!rsync --partial --progress -rsh=ssh 2021-06-15-Manejo-de-datos-con-Pandas.ipynb  server1:/root/"
      ]
    },
    {
      "attachments": {},
      "cell_type": "markdown",
      "metadata": {},
      "source": [
        "And we see if it has been copied"
      ]
    },
    {
      "cell_type": "code",
      "execution_count": 40,
      "metadata": {},
      "outputs": [
        {
          "name": "stdout",
          "output_type": "stream",
          "text": [
            "2021-06-15-Manejo-de-datos-con-Pandas.ipynb  html.ipynb  snap\n",
            "Connection to 194.62.99.222 closed.\n"
          ]
        }
      ],
      "source": [
        "!ssh -t server1 \"ls\""
      ]
    },
    {
      "attachments": {},
      "cell_type": "markdown",
      "metadata": {},
      "source": [
        "## Mounting Remote Folders Locally"
      ]
    },
    {
      "attachments": {},
      "cell_type": "markdown",
      "metadata": {},
      "source": [
        "In the case that we want to have a folder from another machine as if it were on our computer, we need to use `sshfs`",
        "\n",
        "First, it is necessary to install it via",
        "\n",
        "``` bash\n",
        "sudo apt install sshfs",
        "```\n",
        "\n",
        "And once it's installed, it's used with the syntax",
        "\n",
        "``` bash\n",
        "sshfs &ltuser&gt@&ltip&gt:&ltremote path&gt &ltlocal path to mount&gt",
        "```"
      ]
    },
    {
      "attachments": {},
      "cell_type": "markdown",
      "metadata": {},
      "source": [
        "We are going to mount the `/root` folder of `server1`, but first we need to create a folder where we will mount it."
      ]
    },
    {
      "cell_type": "code",
      "execution_count": 41,
      "metadata": {},
      "outputs": [],
      "source": [
        "!mkdir server1folder"
      ]
    },
    {
      "attachments": {},
      "cell_type": "markdown",
      "metadata": {},
      "source": [
        "We see that, within the folder we have mounted, there is nothing"
      ]
    },
    {
      "cell_type": "code",
      "execution_count": 42,
      "metadata": {},
      "outputs": [],
      "source": [
        "!ls server1folder"
      ]
    },
    {
      "attachments": {},
      "cell_type": "markdown",
      "metadata": {},
      "source": [
        "Now we mount the server folder"
      ]
    },
    {
      "cell_type": "code",
      "execution_count": 8,
      "metadata": {},
      "outputs": [],
      "source": [
        "!!sshfs server1:/root/ server1folder"
      ]
    },
    {
      "attachments": {},
      "cell_type": "markdown",
      "metadata": {},
      "source": [
        "Let's check what's inside again"
      ]
    },
    {
      "cell_type": "code",
      "execution_count": 47,
      "metadata": {},
      "outputs": [
        {
          "name": "stdout",
          "output_type": "stream",
          "text": [
            "2021-06-15-Manejo-de-datos-con-Pandas.ipynb  html.ipynb  snap\n"
          ]
        }
      ],
      "source": [
        "!ls server1folder"
      ]
    },
    {
      "attachments": {},
      "cell_type": "markdown",
      "metadata": {},
      "source": [
        "When we no longer want to have the folder mounted, we can unmount it using `fusermount -u server1folder`"
      ]
    },
    {
      "cell_type": "code",
      "execution_count": 8,
      "metadata": {},
      "outputs": [],
      "source": [
        "!!fusermount -u server1folder"
      ]
    },
    {
      "attachments": {},
      "cell_type": "markdown",
      "metadata": {},
      "source": [
        "We look inside again to see if there is nothing."
      ]
    },
    {
      "cell_type": "code",
      "execution_count": 48,
      "metadata": {},
      "outputs": [],
      "source": [
        "!ls server1folder"
      ]
    },
    {
      "attachments": {},
      "cell_type": "markdown",
      "metadata": {},
      "source": [
        "## Debugging the `SSH` Connection"
      ]
    },
    {
      "attachments": {},
      "cell_type": "markdown",
      "metadata": {},
      "source": [
        "We can debug the `SSH` connection by adding from `-v` to `-vvvv` to the connection; the more `v`s we add, the higher the level of information."
      ]
    },
    {
      "cell_type": "code",
      "execution_count": 49,
      "metadata": {},
      "outputs": [
        {
          "name": "stdout",
          "output_type": "stream",
          "text": [
            "OpenSSH_8.2p1 Ubuntu-4ubuntu0.5, OpenSSL 1.1.1f  31 Mar 2020\n",
            "debug1: Reading configuration data /home/wallabot/.ssh/config\n",
            "debug1: /home/wallabot/.ssh/config line 6: Applying options for server1\n",
            "debug1: Reading configuration data /etc/ssh/ssh_config\n",
            "debug1: /etc/ssh/ssh_config line 19: include /etc/ssh/ssh_config.d/*.conf matched no files\n",
            "debug1: /etc/ssh/ssh_config line 21: Applying options for *\n",
            "debug1: Connecting to 194.62.99.222 [194.62.99.222] port 22.\n",
            "debug1: Connection established.\n",
            "debug1: identity file /home/wallabot/.ssh/id_rsa type 0\n",
            "debug1: identity file /home/wallabot/.ssh/id_rsa-cert type -1\n",
            "debug1: identity file /home/wallabot/.ssh/id_dsa type -1\n",
            "debug1: identity file /home/wallabot/.ssh/id_dsa-cert type -1\n",
            "debug1: identity file /home/wallabot/.ssh/id_ecdsa type -1\n",
            "debug1: identity file /home/wallabot/.ssh/id_ecdsa-cert type -1\n",
            "debug1: identity file /home/wallabot/.ssh/id_ecdsa_sk type -1\n",
            "debug1: identity file /home/wallabot/.ssh/id_ecdsa_sk-cert type -1\n",
            "debug1: identity file /home/wallabot/.ssh/id_ed25519 type -1\n",
            "debug1: identity file /home/wallabot/.ssh/id_ed25519-cert type -1\n",
            "debug1: identity file /home/wallabot/.ssh/id_ed25519_sk type -1\n",
            "debug1: identity file /home/wallabot/.ssh/id_ed25519_sk-cert type -1\n",
            "debug1: identity file /home/wallabot/.ssh/id_xmss type -1\n",
            "debug1: identity file /home/wallabot/.ssh/id_xmss-cert type -1\n",
            "debug1: Local version string SSH-2.0-OpenSSH_8.2p1 Ubuntu-4ubuntu0.5\n",
            "debug1: Remote protocol version 2.0, remote software version OpenSSH_8.9p1 Ubuntu-3\n",
            "debug1: match: OpenSSH_8.9p1 Ubuntu-3 pat OpenSSH* compat 0x04000000\n",
            "debug1: Authenticating to 194.62.99.222:22 as 'root'\n",
            "debug1: SSH2_MSG_KEXINIT sent\n",
            "debug1: SSH2_MSG_KEXINIT received\n",
            "debug1: kex: algorithm: curve25519-sha256\n",
            "debug1: kex: host key algorithm: ecdsa-sha2-nistp256\n",
            "debug1: kex: server->client cipher: chacha20-poly1305@openssh.com MAC: <implicit> compression: none\n",
            "debug1: kex: client->server cipher: chacha20-poly1305@openssh.com MAC: <implicit> compression: none\n",
            "debug1: expecting SSH2_MSG_KEX_ECDH_REPLY\n",
            "debug1: Server host key: ecdsa-sha2-nistp256 SHA256:jwpQt2a69LQcuvvYPPKL32bBwTi1Je/ZmUdr4zEiD1Y\n",
            "debug1: Host '194.62.99.222' is known and matches the ECDSA host key.\n",
            "debug1: Found key in /home/wallabot/.ssh/known_hosts:14\n",
            "debug1: rekey out after 134217728 blocks\n",
            "debug1: SSH2_MSG_NEWKEYS sent\n",
            "debug1: expecting SSH2_MSG_NEWKEYS\n",
            "debug1: SSH2_MSG_NEWKEYS received\n",
            "debug1: rekey in after 134217728 blocks\n",
            "debug1: Will attempt key: /home/wallabot/.ssh/id_rsa RSA SHA256:ID3HcrbyPBGjFx/qeiJK50eqihLGrpDVu02oRSyKGh4 agent\n",
            "debug1: Will attempt key: wallabot@wallabot RSA SHA256:Qlq6hXbToInW+efEK666BFT26EeUSpBhzcqxTLrDBpQ agent\n",
            "debug1: Will attempt key: /home/wallabot/.ssh/id_dsa \n",
            "debug1: Will attempt key: /home/wallabot/.ssh/id_ecdsa \n",
            "debug1: Will attempt key: /home/wallabot/.ssh/id_ecdsa_sk \n",
            "debug1: Will attempt key: /home/wallabot/.ssh/id_ed25519 \n",
            "debug1: Will attempt key: /home/wallabot/.ssh/id_ed25519_sk \n",
            "debug1: Will attempt key: /home/wallabot/.ssh/id_xmss \n",
            "debug1: SSH2_MSG_EXT_INFO received\n",
            "debug1: kex_input_ext_info: server-sig-algs=<ssh-ed25519,sk-ssh-ed25519@openssh.com,ssh-rsa,rsa-sha2-256,rsa-sha2-512,ssh-dss,ecdsa-sha2-nistp256,ecdsa-sha2-nistp384,ecdsa-sha2-nistp521,sk-ecdsa-sha2-nistp256@openssh.com,webauthn-sk-ecdsa-sha2-nistp256@openssh.com>\n",
            "debug1: kex_input_ext_info: publickey-hostbound@openssh.com (unrecognised)\n",
            "debug1: SSH2_MSG_SERVICE_ACCEPT received\n",
            "debug1: Authentications that can continue: publickey\n",
            "debug1: Next authentication method: publickey\n",
            "debug1: Offering public key: /home/wallabot/.ssh/id_rsa RSA SHA256:ID3HcrbyPBGjFx/qeiJK50eqihLGrpDVu02oRSyKGh4 agent\n",
            "debug1: Authentications that can continue: publickey\n",
            "debug1: Offering public key: wallabot@wallabot RSA SHA256:Qlq6hXbToInW+efEK666BFT26EeUSpBhzcqxTLrDBpQ agent\n",
            "debug1: Server accepts key: wallabot@wallabot RSA SHA256:Qlq6hXbToInW+efEK666BFT26EeUSpBhzcqxTLrDBpQ agent\n",
            "debug1: Authentication succeeded (publickey).\n",
            "Authenticated to 194.62.99.222 ([194.62.99.222]:22).\n",
            "debug1: channel 0: new [client-session]\n",
            "debug1: Requesting no-more-sessions@openssh.com\n",
            "debug1: Entering interactive session.\n",
            "debug1: pledge: network\n",
            "debug1: client_input_global_request: rtype hostkeys-00@openssh.com want_reply 0\n",
            "debug1: Remote: /root/.ssh/authorized_keys:1: key options: agent-forwarding port-forwarding pty user-rc x11-forwarding\n",
            "debug1: Remote: /root/.ssh/authorized_keys:1: key options: agent-forwarding port-forwarding pty user-rc x11-forwarding\n",
            "debug1: Sending environment.\n",
            "debug1: Sending env LANG = es_ES.UTF-8\n",
            "Welcome to Ubuntu 22.04.1 LTS (GNU/Linux 5.15.0-60-generic x86_64)\n",
            "\n",
            " * Documentation:  https://help.ubuntu.com\n",
            " * Management:     https://landscape.canonical.com\n",
            " * Support:        https://ubuntu.com/advantage\n",
            "\n",
            "  System information as of Fri Feb 24 01:25:10 PM UTC 2023\n",
            "\n",
            "  System load:           0.0\n",
            "  Usage of /:            15.2% of 24.53GB\n",
            "  Memory usage:          34%\n",
            "  Swap usage:            0%\n",
            "  Processes:             89\n",
            "  Users logged in:       0\n",
            "  IPv4 address for eth0: 194.62.99.222\n",
            "  IPv4 address for eth1: 10.7.0.168\n",
            "  IPv6 address for eth2: 2a04:3542:8000:1000:d48a:cbff:fefb:5b1\n",
            "\n",
            " * Strictly confined Kubernetes makes edge and IoT secure. Learn how MicroK8s\n",
            "   just raised the bar for easy, resilient and secure K8s cluster deployment.\n",
            "\n",
            "   https://ubuntu.com/engage/secure-kubernetes-at-the-edge\n",
            "\n",
            "43 updates can be applied immediately.\n",
            "To see these additional updates run: apt list --upgradable\n",
            "\n",
            "\n",
            "Last login: Fri Feb 24 13:10:05 2023 from 188.127.184.59\n",
            "\u001b[?2004h\u001b]0;root@server1: ~\u001b[01;32mroot@server1\u001b[00m:\u001b[01;34m~\u001b[00m# ^C\u001b[?2004l\n",
            "\u001b[?2004l\n",
            "\u001b[?2004h\u001b]0;root@server1: ~\u001b[01;32mroot@server1\u001b[00m:\u001b[01;34m~\u001b[00m# "
          ]
        }
      ],
      "source": [
        "!ssh -v server1"
      ]
    }
  ],
  "metadata": {
    "kernelspec": {
      "display_name": "base",
      "language": "python",
      "name": "python3"
    },
    "language_info": {
      "codemirror_mode": {
        "name": "ipython",
        "version": 3
      },
      "file_extension": ".py",
      "mimetype": "text/x-python",
      "name": "python",
      "nbconvert_exporter": "python",
      "pygments_lexer": "ipython3",
      "version": "3.7.6"
    },
    "maximofn": {
      "date": "2023-03-18",
      "description_en": "Connecting securely is essential in today's digital world. Discover how SSH allows you to establish encrypted communications between your machine and remote servers. From basic concepts to advanced tips, dive into this comprehensive tutorial and master the craft of SSH. \ud83d\udd10 \ud83d\udcbc #SSHSecure",
      "description_es": "Conectarse de manera segura es esencial en el mundo digital de hoy. Descubre c\u00f3mo SSH te permite establecer comunicaciones cifradas entre tu m\u00e1quina y servidores remotos. Desde conceptos b\u00e1sicos hasta consejos avanzados, sum\u00e9rgete en este completo tutorial y domina la artesan\u00eda del SSH. \ud83d\udd10 \ud83d\udcbc #SSHSeguro",
      "description_pt": "Conectar-se com seguran\u00e7a \u00e9 essencial no mundo digital de hoje. Descubra como o SSH permite que voc\u00ea estabele\u00e7a comunica\u00e7\u00f5es criptografadas entre sua m\u00e1quina e servidores remotos. Do b\u00e1sico \u00e0s dicas avan\u00e7adas, mergulhe neste tutorial abrangente e domine a arte do SSH. \ud83d\udd10 \ud83d\udcbc #SSHSecure",
      "end_url": "ssh",
      "image": "https://pub-fb664c455eca46a2ba762a065ac900f7.r2.dev/SSH.webp",
      "image_hover_path": "https://pub-fb664c455eca46a2ba762a065ac900f7.r2.dev/SSH.webp",
      "keywords_en": "ssh, secure, connection, remote, server, terminal, linux, tutorial, guide",
      "keywords_es": "ssh, seguro, conexi\u00f3n, remoto, servidor, terminal, linux, tutorial, gu\u00eda",
      "keywords_pt": "ssh, seguro, conex\u00e3o, remoto, servidor, terminal, linux, tutorial, guia",
      "title_en": "SSH",
      "title_es": "SSH",
      "title_pt": "SSH"
    },
    "orig_nbformat": 4,
    "vscode": {
      "interpreter": {
        "hash": "d5745ab6aba164e1152437c779991855725055592b9f2bdb41a4825db7168d26"
      }
    }
  },
  "nbformat": 4,
  "nbformat_minor": 2
}