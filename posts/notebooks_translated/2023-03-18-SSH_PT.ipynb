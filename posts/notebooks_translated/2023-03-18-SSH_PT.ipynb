{
  "cells": [
    {
      "attachments": {},
      "cell_type": "markdown",
      "metadata": {},
      "source": [
        "# SSH"
      ]
    },
    {
      "attachments": {},
      "cell_type": "markdown",
      "metadata": {},
      "source": [
        " > Aviso: Este post foi traduzido para o portugu\u00eas usando um modelo de tradu\u00e7\u00e3o autom\u00e1tica. Por favor, me avise se encontrar algum erro."
      ]
    },
    {
      "attachments": {},
      "cell_type": "markdown",
      "metadata": {},
      "source": [
        "## Introdu\u00e7\u00e3o hist\u00f3rica"
      ]
    },
    {
      "attachments": {},
      "cell_type": "markdown",
      "metadata": {},
      "source": [
        "Nos primeiros dias da internet foi criado o protocolo `telnet` para poder comunicar v\u00e1rios computadores, mas tinha o problema de n\u00e3o estar cifrado, por isso qualquer um que se intrometesse no meio poderia ler a comunica\u00e7\u00e3o sem problemas, por isso foi criado o `SSH` (Secure Shell)"
      ]
    },
    {
      "attachments": {},
      "cell_type": "markdown",
      "metadata": {},
      "source": [
        "## Cifrado de `SSH`"
      ]
    },
    {
      "attachments": {},
      "cell_type": "markdown",
      "metadata": {},
      "source": [
        "O sistema de criptografia do `SSH` funciona atrav\u00e9s do sistema de chave p\u00fablica e chave privada, de forma que se a comunica\u00e7\u00e3o for criptografada com uma das duas chaves, s\u00f3 pode ser descriptografada pela outra chave.",
        "\n",
        "E por que h\u00e1 uma chave p\u00fablica e uma chave privada? A chave p\u00fablica \u00e9 a que voc\u00ea d\u00e1 para todo mundo e a chave privada \u00e9 a que apenas voc\u00ea deve possuir.",
        "\n",
        "Ent\u00e3o, se voc\u00ea quiser se comunicar com outra equipe por `SSH`, primeiro voc\u00ea d\u00e1 sua chave p\u00fablica a eles. Em seguida, criptografa a mensagem com sua chave privada e a mensagem s\u00f3 pode ser descriptografada com a chave p\u00fablica que voc\u00ea deu ao outro time.",
        "\n",
        "Da mesma forma, ocorre ao contr\u00e1rio, se o outro time quiser te enviar uma mensagem, ele a criptografa com sua chave p\u00fablica e s\u00f3 pode ser descriptografada com a chave privada que apenas voc\u00ea possui."
      ]
    },
    {
      "attachments": {},
      "cell_type": "markdown",
      "metadata": {},
      "source": [
        "## Requisitos `SSH`"
      ]
    },
    {
      "attachments": {},
      "cell_type": "markdown",
      "metadata": {},
      "source": [
        "### Servi\u00e7o `SSH`"
      ]
    },
    {
      "attachments": {},
      "cell_type": "markdown",
      "metadata": {},
      "source": [
        "Para poder usar `SSH` voc\u00ea precisa ter um servi\u00e7o de `SSH`. No `Linux` geralmente j\u00e1 vem instalado, mas se n\u00e3o for o caso, voc\u00ea pode instal\u00e1-lo por meio de"
      ]
    },
    {
      "cell_type": "code",
      "execution_count": 8,
      "metadata": {},
      "outputs": [],
      "source": [
        "!apt install openssh-server"
      ]
    },
    {
      "attachments": {},
      "cell_type": "markdown",
      "metadata": {},
      "source": [
        "Durante o processo de instala\u00e7\u00e3o, ser\u00e1 solicitada a sua localiza\u00e7\u00e3o para ajustar o fuso hor\u00e1rio."
      ]
    },
    {
      "attachments": {},
      "cell_type": "markdown",
      "metadata": {},
      "source": [
        "A seguir, levantamos o servi\u00e7o"
      ]
    },
    {
      "cell_type": "code",
      "execution_count": 8,
      "metadata": {},
      "outputs": [],
      "source": [
        "!systemctl enable ssh"
      ]
    },
    {
      "attachments": {},
      "cell_type": "markdown",
      "metadata": {},
      "source": [
        "### Cliente `SSH`"
      ]
    },
    {
      "attachments": {},
      "cell_type": "markdown",
      "metadata": {},
      "source": [
        "Uma vez que voc\u00ea tenha o servi\u00e7o, voc\u00ea precisa de um cliente, embora em `Linux` ele geralmente venha instalado, mas se n\u00e3o for o caso, voc\u00ea pode instal\u00e1-lo por meio de"
      ]
    },
    {
      "cell_type": "code",
      "execution_count": 8,
      "metadata": {},
      "outputs": [],
      "source": [
        "!apt install openssh-client"
      ]
    },
    {
      "attachments": {},
      "cell_type": "markdown",
      "metadata": {},
      "source": [
        "## Conex\u00e3o por `SSH`"
      ]
    },
    {
      "attachments": {},
      "cell_type": "markdown",
      "metadata": {},
      "source": [
        "Para se conectar via `SSH` voc\u00ea precisa digitar o comando `ssh <user>@<ip>`"
      ]
    },
    {
      "cell_type": "code",
      "execution_count": 8,
      "metadata": {},
      "outputs": [
        {
          "name": "stdout",
          "output_type": "stream",
          "text": [
            "The authenticity of host '172.17.0.1 (172.17.0.1)' can't be established.\n",
            "ECDSA key fingerprint is SHA256:M+qsqSC4HiYztm1ij8iDkh9KHJz+pxrTm9GTZIf2N9k.\n",
            "Are you sure you want to continue connecting (yes/no/[fingerprint])?\n"
          ]
        }
      ],
      "source": [
        "!ssh root@172.17.0.1"
      ]
    },
    {
      "attachments": {},
      "cell_type": "markdown",
      "metadata": {},
      "source": [
        "Como voc\u00ea pode ver, da primeira vez ele pergunta se voc\u00ea deseja salvar o `fingerprint`, isso \u00e9 para que, se a pr\u00f3xima vez que voc\u00ea se conectar \u00e0 mesma m\u00e1quina (\u00e0 mesma chave p\u00fablica) o `fingerprint` tiver mudado, voc\u00ea deve ter cuidado, pois pode haver algo perigoso, como algu\u00e9m se passando por essa m\u00e1quina.",
        "\n",
        "Se confiarmos, introduzimos `yes`"
      ]
    },
    {
      "cell_type": "code",
      "execution_count": 8,
      "metadata": {},
      "outputs": [
        {
          "name": "stdout",
          "output_type": "stream",
          "text": [
            "The authenticity of host '172.17.0.1 (172.17.0.1)' can't be established.\n",
            "ECDSA key fingerprint is SHA256:M+qsqSC4HiYztm1ij8iDkh9KHJz+pxrTm9GTZIf2N9k.\n",
            "Are you sure you want to continue connecting (yes/no/[fingerprint])? yes\n",
            "Warning: Permanently added '172.17.0.1' (ECDSA) to the list of known hosts.\n",
            "root@172.17.0.1's password:\n"
          ]
        }
      ],
      "source": [
        "!ssh root@172.17.0.1"
      ]
    },
    {
      "attachments": {},
      "cell_type": "markdown",
      "metadata": {},
      "source": [
        "A seguir, a m\u00e1quina \u00e0 qual nos conectamos solicita a senha. A introduzimos e j\u00e1 estaremos dentro da m\u00e1quina."
      ]
    },
    {
      "cell_type": "code",
      "execution_count": 8,
      "metadata": {},
      "outputs": [
        {
          "name": "stdout",
          "output_type": "stream",
          "text": [
            "The authenticity of host '172.17.0.1 (172.17.0.1)' can't be established.\n",
            "ECDSA key fingerprint is SHA256:M+qsqSC4HiYztm1ij8iDkh9KHJz+pxrTm9GTZIf2N9k.\n",
            "Are you sure you want to continue connecting (yes/no/[fingerprint])? yes\n",
            "Warning: Permanently added '172.17.0.1' (ECDSA) to the list of known hosts.\n",
            "root@172.17.0.1's password: \n",
            "Welcome to Ubuntu 20.04.5 LTS (GNU/Linux 5.15.0-58-generic x86_64)\n",
            "\n",
            " * Documentation:  https://help.ubuntu.com\n",
            " * Management:     https://landscape.canonical.com\n",
            " * Support:        https://ubuntu.com/advantage\n",
            "\n",
            "1 device has a firmware upgrade available.\n",
            "Run `fwupdmgr get-upgrades` for more information.\n",
            "\n",
            "\n",
            " * Introducing Expanded Security Maintenance for Applications.\n",
            "   Receive updates to over 25,000 software packages with your\n",
            "   Ubuntu Pro subscription. Free for personal use.\n",
            "\n",
            "     https://ubuntu.com/pro\n",
            "\n",
            "Se pueden aplicar 0 actualizaciones de forma inmediata.\n",
            "\n",
            "Your Hardware Enablement Stack (HWE) is supported until April 2025.\n",
            "Last login: Thu Dec  1 16:32:23 2022 from 127.0.0.1\n",
            "root@172.17.0.1:~$\n"
          ]
        }
      ],
      "source": [
        "!ssh root@172.17.0.1"
      ]
    },
    {
      "attachments": {},
      "cell_type": "markdown",
      "metadata": {},
      "source": [
        "## Conex\u00e3o sem necessidade de senha"
      ]
    },
    {
      "attachments": {},
      "cell_type": "markdown",
      "metadata": {},
      "source": [
        "Como vimos, quando nos conectamos nos pede a senha da m\u00e1quina de destino, mas se for uma m\u00e1quina \u00e0 qual vamos nos conectar frequentemente, podemos configurar para n\u00e3o ser solicitada a senha cada vez que quisermos nos conectar."
      ]
    },
    {
      "attachments": {},
      "cell_type": "markdown",
      "metadata": {},
      "source": [
        "Para isso, em primeiro lugar geramos uma chave `ssh` por meio de `ssh-keygen`"
      ]
    },
    {
      "cell_type": "code",
      "execution_count": 8,
      "metadata": {},
      "outputs": [
        {
          "name": "stdout",
          "output_type": "stream",
          "text": [
            "Generating public/private rsa key pair.\n",
            "Enter file in which to save the key (/root/.ssh/id_rsa): \n",
            "Enter passphrase (empty for no passphrase): \n",
            "Enter same passphrase again: \n",
            "Your identification has been saved in /root/.ssh/id_rsa\n",
            "Your public key has been saved in /root/.ssh/id_rsa.pub\n",
            "The key fingerprint is:\n",
            "SHA256:4HxRXkVkcK5kNXNyzakfQ6t8a24wRGCUYz4s5KL5ZEc root@e108f6f395b3\n",
            "The key's randomart image is:\n",
            "+---[RSA 3072]----+\n",
            "|          o+==@.=|\n",
            "|         +.= * Oo|\n",
            "|      . + = = + .|\n",
            "|     o o E * + + |\n",
            "|      = S . = o o|\n",
            "|     o + .   = o |\n",
            "|      + .     + .|\n",
            "|       .       + |\n",
            "|              +. |\n",
            "+----[SHA256]-----+\n"
          ]
        }
      ],
      "source": [
        "!ssh-keygen"
      ]
    },
    {
      "attachments": {},
      "cell_type": "markdown",
      "metadata": {},
      "source": [
        "Como vemos, primeiro nos pergunta onde queremos salvar a chave, se n\u00e3o inserirmos nada, ela ser\u00e1 salva no caminho padr\u00e3o. E em seguida uma frase para gerar a chave, **se voc\u00ea escrever uma frase deve lembr\u00e1-la sempre**. Al\u00e9m disso, se voc\u00ea escrever uma frase, ela ser\u00e1 solicitada todas as vezes que tentar acessar a chave, portanto, toda vez que quisermos acessar a m\u00e1quina por meio de `SSH`, n\u00e3o nos pedir\u00e1 a senha da m\u00e1quina, mas sim esta frase. Portanto, voc\u00ea escolhe se n\u00e3o inserir uma frase para que nunca seja solicitada, ou se inseri-la e sempre as fornecer."
      ]
    },
    {
      "attachments": {},
      "cell_type": "markdown",
      "metadata": {},
      "source": [
        "A seguir, pedimos \u00e0 m\u00e1quina remota que salve nossa chave atrav\u00e9s de `ssh-copy-id <user>@<id>:`"
      ]
    },
    {
      "cell_type": "code",
      "execution_count": 8,
      "metadata": {},
      "outputs": [
        {
          "name": "stdout",
          "output_type": "stream",
          "text": [
            "/usr/bin/ssh-copy-id: INFO: Source of key(s) to be installed: \"/root/.ssh/id_rsa.pub\"\n",
            "/usr/bin/ssh-copy-id: INFO: attempting to log in with the new key(s), to filter out any that are already installed\n",
            "/usr/bin/ssh-copy-id: INFO: 1 key(s) remain to be installed -- if you are prompted now it is to install the new keys\n",
            "root@172.17.0.1's password: \n",
            "\n",
            "Number of key(s) added: 1\n",
            "\n",
            "Now try logging into the machine, with:   \"ssh 'root@172.17.0.1'\"\n",
            "and check to make sure that only the key(s) you wanted were added.\n",
            "\n",
            "root@103b6040196a:/# ssh root@172.17.0.1\n",
            "Welcome to Ubuntu 20.04.5 LTS (GNU/Linux 5.15.0-58-generic x86_64)\n",
            "\n",
            " * Documentation:  https://help.ubuntu.com\n",
            " * Management:     https://landscape.canonical.com\n",
            " * Support:        https://ubuntu.com/advantage\n",
            "\n",
            "4 devices have a firmware upgrade available.\n",
            "Run `fwupdmgr get-upgrades` for more information.\n",
            "\n",
            "\n",
            "58 updates can be applied immediately.\n",
            "41 of these updates are standard security updates.\n",
            "To see these additional updates run: apt list --upgradable\n",
            "\n",
            "New release '22.04.1 LTS' available.\n",
            "Run 'do-release-upgrade' to upgrade to it.\n",
            "\n",
            "Your Hardware Enablement Stack (HWE) is supported until April 2025.\n",
            "Last login: Thu Feb  2 08:05:48 2023 from 172.17.0.2\n",
            "(base) root@172.17.0.1:~$\n"
          ]
        }
      ],
      "source": [
        "!ssh-copy-id root@172.17.0.1:"
      ]
    },
    {
      "attachments": {},
      "cell_type": "markdown",
      "metadata": {},
      "source": [
        "## Usar a terminal remota por `SSH`"
      ]
    },
    {
      "attachments": {},
      "cell_type": "markdown",
      "metadata": {},
      "source": [
        "Talvez n\u00e3o precisemos nos conectar \u00e0 m\u00e1quina remota, pois s\u00f3 precisamos executar um \u00fanico comando, ent\u00e3o podemos usar sua terminal remotamente adicionando a bandeira `-t` ao comando `SSH`, ou seja, por meio de `ssh -t <user>@<id> <command>`"
      ]
    },
    {
      "cell_type": "code",
      "execution_count": 8,
      "metadata": {},
      "outputs": [
        {
          "name": "stdout",
          "output_type": "stream",
          "text": [
            "PING google.com (172.217.168.174) 56(84) bytes of data.\n",
            "64 bytes from mad07s10-in-f14.1e100.net (172.217.168.174): icmp_seq=1 ttl=111 time=2.94 ms\n",
            "64 bytes from mad07s10-in-f14.1e100.net (172.217.168.174): icmp_seq=2 ttl=111 time=2.55 ms\n",
            "64 bytes from mad07s10-in-f14.1e100.net (172.217.168.174): icmp_seq=3 ttl=111 time=2.78 ms\n",
            "64 bytes from mad07s10-in-f14.1e100.net (172.217.168.174): icmp_seq=4 ttl=111 time=2.69 ms\n",
            "\n",
            "--- google.com ping statistics ---\n",
            "4 packets transmitted, 4 received, 0% packet loss, time 3005ms\n",
            "rtt min/avg/max/mdev = 2.550/2.739/2.940/0.142 ms\n",
            "Connection to 172.17.0.1 closed.\n"
          ]
        }
      ],
      "source": [
        "!ssh -t root@172.17.0.1 ping -c 4 google.com"
      ]
    },
    {
      "attachments": {},
      "cell_type": "markdown",
      "metadata": {},
      "source": [
        "Como pode ser visto, o comando \u00e9 executado na m\u00e1quina remota e quando termina, na \u00faltima linha nos diz que a conex\u00e3o \u00e9 fechada."
      ]
    },
    {
      "attachments": {},
      "cell_type": "markdown",
      "metadata": {},
      "source": [
        "## Proxy `SSH`"
      ]
    },
    {
      "attachments": {},
      "cell_type": "markdown",
      "metadata": {},
      "source": [
        "Se voc\u00ea est\u00e1 navegando em um lugar n\u00e3o muito seguro, ou em um lugar que tem um proxy que n\u00e3o te deixa acessar alguns portas, voc\u00ea pode navegar atrav\u00e9s do proxy de outra m\u00e1quina usando `SSH`, isso pode ser feito adicionando a flag `-D` e a porta pela qual voc\u00ea deseja realizar a conex\u00e3o com o proxy remoto, como a porta para o `tcp/ip` \u00e9 a `9999`, o comando poderia ficar assim: `ssh -D 9999 <user>@<id>`"
      ]
    },
    {
      "attachments": {},
      "cell_type": "markdown",
      "metadata": {},
      "source": [
        "Para que isso fique melhor, antes de execut\u00e1-lo obtenho meu IP p\u00fablico"
      ]
    },
    {
      "cell_type": "code",
      "execution_count": 2,
      "metadata": {},
      "outputs": [
        {
          "name": "stdout",
          "output_type": "stream",
          "text": [
            "188.127.184.59"
          ]
        }
      ],
      "source": [
        "!curl ifconfig.me"
      ]
    },
    {
      "attachments": {},
      "cell_type": "markdown",
      "metadata": {},
      "source": [
        "Agora uso o proxy de um servidor web que tenho levantado"
      ]
    },
    {
      "cell_type": "code",
      "execution_count": 8,
      "metadata": {},
      "outputs": [
        {
          "name": "stdout",
          "output_type": "stream",
          "text": [
            "Welcome to Ubuntu 22.04.1 LTS (GNU/Linux 5.15.0-53-generic x86_64)\n",
            "\n",
            " * Documentation:  https://help.ubuntu.com\n",
            " * Management:     https://landscape.canonical.com\n",
            " * Support:        https://ubuntu.com/advantage\n",
            "\n",
            "  System information as of Wed Feb 22 06:08:51 AM UTC 2023\n",
            "\n",
            "  System load:           0.02978515625\n",
            "  Usage of /:            11.7% of 24.53GB\n",
            "  Memory usage:          33%\n",
            "  Swap usage:            0%\n",
            "  Processes:             89\n",
            "  Users logged in:       0\n",
            "  IPv4 address for eth0: 194.62.99.222\n",
            "  IPv4 address for eth1: 10.7.0.168\n",
            "  IPv6 address for eth2: 2a04:3542:8000:1000:d48a:cbff:fefb:5b1\n",
            "\n",
            "\n",
            "0 updates can be applied immediately.\n",
            "\n",
            "\n",
            "The list of available updates is more than a week old.\n",
            "To check for new updates run: sudo apt update\n",
            "\n",
            "Last login: Wed Feb 22 06:02:35 2023 from 188.127.184.59\n",
            "root@server1:~#\n"
          ]
        }
      ],
      "source": [
        "!ssh -D 9999 root@194.62.99.222"
      ]
    },
    {
      "attachments": {},
      "cell_type": "markdown",
      "metadata": {},
      "source": [
        "Mudo a configura\u00e7\u00e3o do proxy do meu computador",
        "\n",
        "![proxy ssh](https://pub-fb664c455eca46a2ba762a065ac900f7.r2.dev/proxy_ssh.webp)"
      ]
    },
    {
      "attachments": {},
      "cell_type": "markdown",
      "metadata": {},
      "source": [
        "Agora eu volto a verificar meu IP p\u00fablico, mas usando o proxy recentemente configurado."
      ]
    },
    {
      "cell_type": "code",
      "execution_count": 8,
      "metadata": {},
      "outputs": [
        {
          "name": "stdout",
          "output_type": "stream",
          "text": [
            "194.62.99.222"
          ]
        }
      ],
      "source": [
        "!curl -x socks5h://localhost:9999 ifconfig.me"
      ]
    },
    {
      "attachments": {},
      "cell_type": "markdown",
      "metadata": {},
      "source": [
        "Vemos que obtemos o IP p\u00fablica do servidor"
      ]
    },
    {
      "attachments": {},
      "cell_type": "markdown",
      "metadata": {},
      "source": [
        "## Interface gr\u00e1fica remota por `SSH`"
      ]
    },
    {
      "attachments": {},
      "cell_type": "markdown",
      "metadata": {},
      "source": [
        "Em Linux, a interface gr\u00e1fica \u00e9 um servidor, ent\u00e3o podemos nos beneficiar disso e executar programas com interfaces gr\u00e1ficas que est\u00e3o em uma m\u00e1quina remota por `SSH`, para isso \u00e9 necess\u00e1rio usar o flag `-X`. O comando ficaria `ssh -X <user>@<id>`"
      ]
    },
    {
      "attachments": {},
      "cell_type": "markdown",
      "metadata": {},
      "source": [
        "Primeiro entro no meu servidor e instalo `xeyes` atrav\u00e9s de `sudo apt install x11-apps` e depois o executo remotamente do meu computador."
      ]
    },
    {
      "cell_type": "code",
      "execution_count": 8,
      "metadata": {},
      "outputs": [
        {
          "name": "stdout",
          "output_type": "stream",
          "text": [
            "Welcome to Ubuntu 22.04.1 LTS (GNU/Linux 5.15.0-53-generic x86_64)\n",
            "\n",
            "Last login: Wed Feb 22 06:39:52 2023 from 188.127.184.59\n",
            "/usr/bin/xauth:  file /root/.Xauthority does not exist\n",
            "root@server1:~sudo apt install x11-apps\n",
            "root@server1:~#xeyes\n"
          ]
        }
      ],
      "source": [
        "!ssh -X root@194.62.99.222"
      ]
    },
    {
      "attachments": {},
      "cell_type": "markdown",
      "metadata": {},
      "source": [
        "Agora na minha m\u00e1quina est\u00e1 abrindo a janela do `xeyes`, mas n\u00e3o est\u00e1 sendo executada na minha m\u00e1quina.",
        "\n",
        "![xeyes](https://pub-fb664c455eca46a2ba762a065ac900f7.r2.dev/xeyes.webp)"
      ]
    },
    {
      "attachments": {},
      "cell_type": "markdown",
      "metadata": {},
      "source": [
        "## T\u00fanel `SSH`"
      ]
    },
    {
      "attachments": {},
      "cell_type": "markdown",
      "metadata": {},
      "source": [
        "Como comentei, subi um servidor ao qual tenho acesso via SSH"
      ]
    },
    {
      "cell_type": "code",
      "execution_count": 8,
      "metadata": {},
      "outputs": [
        {
          "name": "stdout",
          "output_type": "stream",
          "text": [
            "Welcome to Ubuntu 22.04.1 LTS (GNU/Linux 5.15.0-53-generic x86_64)\n",
            "\n",
            "Last login: Wed Feb 22 06:40:58 2023 from 188.127.184.59\n",
            "root@server1:~#\n"
          ]
        }
      ],
      "source": [
        "!ssh root@194.62.99.222"
      ]
    },
    {
      "attachments": {},
      "cell_type": "markdown",
      "metadata": {},
      "source": [
        "E levanto tamb\u00e9m um segundo servidor do qual tenho acesso a partir do `server1`, mas n\u00e3o tenho acesso a partir do meu computador."
      ]
    },
    {
      "attachments": {},
      "cell_type": "markdown",
      "metadata": {},
      "source": [
        "A seguir, tento acessar o `server2` do meu computador e vemos que n\u00e3o consigo"
      ]
    },
    {
      "cell_type": "code",
      "execution_count": 8,
      "metadata": {},
      "outputs": [
        {
          "name": "stdout",
          "output_type": "stream",
          "text": [
            "ssh: connect to host 194.62.99.235 port 22: Connection timed out\n"
          ]
        }
      ],
      "source": [
        "!ssh root@194.62.99.235"
      ]
    },
    {
      "attachments": {},
      "cell_type": "markdown",
      "metadata": {},
      "source": [
        "E em seguida tento acessar o `server2` a partir do `server1` e vemos que sim, eu consigo."
      ]
    },
    {
      "cell_type": "code",
      "execution_count": 8,
      "metadata": {},
      "outputs": [
        {
          "name": "stdout",
          "output_type": "stream",
          "text": [
            "Welcome to Ubuntu 22.04.1 LTS (GNU/Linux 5.15.0-53-generic x86_64)\n",
            "\n",
            "Last login: Wed Feb 22 06:59:01 2023 from 10.7.0.168\n",
            "root@server2:~#\n"
          ]
        }
      ],
      "source": [
        "!root@server1:~# ssh root@10.7.2.228"
      ]
    },
    {
      "attachments": {},
      "cell_type": "markdown",
      "metadata": {},
      "source": [
        "Ent\u00e3o o que criamos \u00e9 um t\u00fanel do meu computador at\u00e9 o `server2` atrav\u00e9s do `server1`, para isso usamos a flag `-L`. Para criar o t\u00fanel, \u00e9 necess\u00e1rio indicar a porta do seu computador na qual voc\u00ea vai criar o t\u00fanel, em seguida o `IP` de destino do t\u00fanel, a porta pela qual ir\u00e1 o t\u00fanel e por \u00faltimo o dispositivo que criar\u00e1 o t\u00fanel. Ficaria assim",
        "\n",
        "``` bash\n",
        "ssh -L &ltPORTA DO HOST&gt:&ltIP DESTINO&gt:&ltPORTA DO T\u00daNEL&gt &ltUSU\u00c1RIO CRIADOR DO T\u00daNEL&gt@&ltIP CRIADOR DO T\u00daNEL&gt",
        "```\n",
        "\n",
        "Vamos v\u00ea-lo com meu exemplo, tenho o `server1` com um `IP` p\u00fablico que podemos chamar de `ip_pub1` e ao qual tenho acesso por `SSH` e um `IP` privado que podemos chamar de `ip_priv1` que est\u00e1 dentro da mesma rede do `server2`. E tenho o `server2` com um `IP` p\u00fablico que podemos chamar de `ip_pub2` ao qual n\u00e3o tenho acesso por `SSH` e um `IP` que podemos chamar de `ip_priv2` dentro da mesma rede do `server1`.",
        "\n",
        "Primeiro crio o t\u00fanel",
        "\n",
        "``` bash\n",
        "ssh -L host_port:ip_priv2:22 root@ip_pub1",
        "```\n",
        "\n",
        "Criei um t\u00fanel at\u00e9 o `IP` privado do `server2` atrav\u00e9s do `IP` p\u00fablico do `server1`",
        "\n",
        "Por \u00faltimo, para me conectar ao `server2` fa\u00e7o isso atrav\u00e9s do `localhost` e da porta do host que declarei no t\u00fanel.",
        "\n",
        "``` bash\n",
        "ssh -p 2020 root@localhost",
        "```"
      ]
    },
    {
      "attachments": {},
      "cell_type": "markdown",
      "metadata": {},
      "source": [
        "Vamos v\u00ea-lo na realidade, os `IP`s dos meus servidores s\u00e3o",
        "\n",
        "* `server1`:",
        "* `IP` p\u00fablica: `194.62.99.222`",
        "* `IP` privada: `10.7.0.168`",
        "* `server2`:",
        "* `IP` p\u00fablica: `194.62.99.235`",
        "* `IP` privada: `10.7.2.228`",
        "\n",
        "Primeiro crio o t\u00fanel"
      ]
    },
    {
      "cell_type": "code",
      "execution_count": 11,
      "metadata": {},
      "outputs": [
        {
          "name": "stdout",
          "output_type": "stream",
          "text": [
            "Welcome to Ubuntu 22.04.1 LTS (GNU/Linux 5.15.0-53-generic x86_64)\n",
            "\n",
            " * Documentation:  https://help.ubuntu.com\n",
            " * Management:     https://landscape.canonical.com\n",
            " * Support:        https://ubuntu.com/advantage\n",
            "\n",
            "  System information as of Wed Feb 22 11:13:39 AM UTC 2023\n",
            "\n",
            "  System load:           0.0\n",
            "  Usage of /:            13.3% of 24.53GB\n",
            "  Memory usage:          36%\n",
            "  Swap usage:            0%\n",
            "  Processes:             91\n",
            "  Users logged in:       1\n",
            "  IPv4 address for eth0: 194.62.99.222\n",
            "  IPv4 address for eth1: 10.7.0.168\n",
            "  IPv6 address for eth2: 2a04:3542:8000:1000:d48a:cbff:fefb:5b1\n",
            "\n",
            "\n",
            "101 updates can be applied immediately.\n",
            "60 of these updates are standard security updates.\n",
            "To see these additional updates run: apt list --upgradable\n",
            "\n",
            "\n",
            "Last login: Wed Feb 22 09:29:52 2023 from 188.127.184.59\n",
            "\u001b[?2004h\u001b]0;root@server1: ~\u001b[01;32mroot@server1\u001b[00m:\u001b[01;34m~\u001b[00m# ^C\u001b[?2004l\n",
            "\u001b[?2004l\n",
            "\u001b[?2004h\u001b]0;root@server1: ~\u001b[01;32mroot@server1\u001b[00m:\u001b[01;34m~\u001b[00m# "
          ]
        }
      ],
      "source": [
        "!ssh -L 2020:10.7.2.228:22 root@194.62.99.222"
      ]
    },
    {
      "attachments": {},
      "cell_type": "markdown",
      "metadata": {},
      "source": [
        "Com o t\u00fanel criado, j\u00e1 posso me conectar ao `server2` do meu computador."
      ]
    },
    {
      "cell_type": "code",
      "execution_count": 12,
      "metadata": {},
      "outputs": [
        {
          "name": "stdout",
          "output_type": "stream",
          "text": [
            "Welcome to Ubuntu 22.04.1 LTS (GNU/Linux 5.15.0-53-generic x86_64)\n",
            "\n",
            " * Documentation:  https://help.ubuntu.com\n",
            " * Management:     https://landscape.canonical.com\n",
            " * Support:        https://ubuntu.com/advantage\n",
            "\n",
            "  System information as of Wed Feb 22 11:14:15 AM UTC 2023\n",
            "\n",
            "  System load:           0.0\n",
            "  Usage of /:            13.3% of 24.53GB\n",
            "  Memory usage:          33%\n",
            "  Swap usage:            0%\n",
            "  Processes:             90\n",
            "  Users logged in:       0\n",
            "  IPv4 address for eth0: 194.62.99.235\n",
            "  IPv4 address for eth1: 10.7.2.228\n",
            "  IPv6 address for eth2: 2a04:3542:8000:1000:d48a:cbff:fefb:7f47\n",
            "\n",
            " * Strictly confined Kubernetes makes edge and IoT secure. Learn how MicroK8s\n",
            "   just raised the bar for easy, resilient and secure K8s cluster deployment.\n",
            "\n",
            "   https://ubuntu.com/engage/secure-kubernetes-at-the-edge\n",
            "\n",
            "101 updates can be applied immediately.\n",
            "60 of these updates are standard security updates.\n",
            "To see these additional updates run: apt list --upgradable\n",
            "\n",
            "\n",
            "Last login: Wed Feb 22 11:14:16 2023 from 10.7.0.168\n",
            "\u001b[?2004h\u001b]0;root@server2: ~\u001b[01;32mroot@server2\u001b[00m:\u001b[01;34m~\u001b[00m# ^C\u001b[?2004l\n",
            "\u001b[?2004l\n",
            "\u001b[?2004h\u001b]0;root@server2: ~\u001b[01;32mroot@server2\u001b[00m:\u001b[01;34m~\u001b[00m# "
          ]
        }
      ],
      "source": [
        "!ssh -p 2020 root@localhost"
      ]
    },
    {
      "attachments": {},
      "cell_type": "markdown",
      "metadata": {},
      "source": [
        "## Conex\u00e3o reversa"
      ]
    },
    {
      "attachments": {},
      "cell_type": "markdown",
      "metadata": {},
      "source": [
        "Vamos supor que eu quero me conectar ao `server2`, mas agora n\u00e3o posso fazer, por qualquer raz\u00e3o, um t\u00fanel a partir do `server1`. O que podemos fazer \u00e9 criar uma conex\u00e3o reversa a partir de outro servidor.",
        "\n",
        "Suponhamos que tenho um terceiro servidor, chamado `server3`, ao qual se tem acesso por `SSH` de qualquer lugar, ou seja, tanto eu do meu computador quanto o `server2` t\u00eam acesso. Portanto, se pudermos acessar fisicamente o `server2`, podemos fazer uma conex\u00e3o reversa do `server2` para o `server3`.",
        "\n",
        "```\n",
        "ssh -R &ltserver3port&gt:localhost:22 root@&ltIPserver3&gt",
        "```\n",
        "\n",
        "Com isso, o que fiz foi habilitar uma conex\u00e3o do `server3` para o `server2` (algo que n\u00e3o era poss\u00edvel antes), atrav\u00e9s do `localhost` e da porta `server3port` do `server3`.",
        "\n",
        "Agora posso me conectar ao `server3` a partir do meu computador e, a partir do `server3`, posso me conectar ao `server2` por meio de",
        "\n",
        "``` bash\n",
        "ssh -p &ltserver3port&gt root@localhost",
        "```"
      ]
    },
    {
      "attachments": {},
      "cell_type": "markdown",
      "metadata": {},
      "source": [
        "Vamos v\u00ea-lo com os dados dos meus servidores",
        "\n",
        "* `server2`:",
        "* `IP` p\u00fablica: `194.62.99.235`",
        "* `server3`:",
        "* `IP` p\u00fablica: `194.62.96.236`"
      ]
    },
    {
      "attachments": {},
      "cell_type": "markdown",
      "metadata": {},
      "source": [
        "Primeiro fa\u00e7o a conex\u00e3o reversa do `server2` para o `server3`"
      ]
    },
    {
      "cell_type": "code",
      "execution_count": 8,
      "metadata": {},
      "outputs": [
        {
          "name": "stdout",
          "output_type": "stream",
          "text": [
            "Welcome to Ubuntu 22.04.1 LTS (GNU/Linux 5.15.0-53-generic x86_64)\n",
            "\n",
            "Last login: Wed Feb 22 15:25:58 2023 from 188.127.184.59\n",
            "root@server3:~#\n"
          ]
        }
      ],
      "source": [
        "!root@server2:~# ssh -R 2020:localhost:22 root@194.62.96.236"
      ]
    },
    {
      "attachments": {},
      "cell_type": "markdown",
      "metadata": {},
      "source": [
        "Agora me conecto ao `server3`"
      ]
    },
    {
      "cell_type": "code",
      "execution_count": 8,
      "metadata": {},
      "outputs": [
        {
          "name": "stdout",
          "output_type": "stream",
          "text": [
            "Welcome to Ubuntu 22.04.1 LTS (GNU/Linux 5.15.0-53-generic x86_64)\n",
            "\n",
            "Last login: Wed Feb 22 15:12:19 2023 from 188.127.184.59\n",
            "root@server3:~#\n"
          ]
        }
      ],
      "source": [
        "!ssh root@194.62.96.236"
      ]
    },
    {
      "attachments": {},
      "cell_type": "markdown",
      "metadata": {},
      "source": [
        "E agora que estou no `server3` me conecto ao `server2`"
      ]
    },
    {
      "cell_type": "code",
      "execution_count": 8,
      "metadata": {},
      "outputs": [
        {
          "name": "stdout",
          "output_type": "stream",
          "text": [
            "Welcome to Ubuntu 22.04.1 LTS (GNU/Linux 5.15.0-53-generic x86_64)\n",
            "\n",
            "Last login: Wed Feb 22 15:12:07 2023 from 188.127.184.59\n",
            "root@server2:~#\n"
          ]
        }
      ],
      "source": [
        "!root@server3:~# ssh -p 2020 root@localhost"
      ]
    },
    {
      "attachments": {},
      "cell_type": "markdown",
      "metadata": {},
      "source": [
        "\u00a1Conseguido! Atrav\u00e9s do meu computador n\u00e3o consigo me conectar diretamente ao `server2`, mas ao me conectar ao `server3` consegui acessar o `server2` gra\u00e7as \u00e0 conex\u00e3o reversa que tinha feito do `server2` para o `server3`"
      ]
    },
    {
      "attachments": {},
      "cell_type": "markdown",
      "metadata": {},
      "source": [
        "## Pular"
      ]
    },
    {
      "attachments": {},
      "cell_type": "markdown",
      "metadata": {},
      "source": [
        "Por \u00faltimo, outra maneira de entrar no `server2` \u00e9 entrando no `server1` e a seguir, do `server1`, entrar no `server2`. Mas isso \u00e9 um pouco trabalhoso, porque primeiro tem que fazer uma conex\u00e3o `SSH` ao `server1` e depois outra ao `server2`, ent\u00e3o para fazer tudo de uma vez podemos usar o flag `-J` (`jump`), ou seja, ficaria `ssh -J server1 server2`."
      ]
    },
    {
      "attachments": {},
      "cell_type": "markdown",
      "metadata": {},
      "source": [
        "Resumo, primeiro far\u00edamos `ssh root@194.62.99.222` e depois `ssh root@10.7.2.228` (j\u00e1 que dentro de `server1` nos conectamos a `server2` atrav\u00e9s do `IP` privado).",
        "\n",
        "Ent\u00e3o poder\u00edamos fazer tudo de uma vez com `ssh -J root@194.62.99.222 root@10.7.2.228`",
        "\n",
        "Vamos a provar"
      ]
    },
    {
      "cell_type": "code",
      "execution_count": 8,
      "metadata": {},
      "outputs": [
        {
          "name": "stdout",
          "output_type": "stream",
          "text": [
            "Welcome to Ubuntu 22.04.1 LTS (GNU/Linux 5.15.0-60-generic x86_64)\n",
            "\n",
            "Last login: Fri Feb 24 06:46:11 2023 from 10.7.0.168\n",
            "root@server2:~#\n"
          ]
        }
      ],
      "source": [
        "!ssh -J root@194.62.99.222 root@10.7.2.228"
      ]
    },
    {
      "attachments": {},
      "cell_type": "markdown",
      "metadata": {},
      "source": [
        "\u00a1Conseguimos fazer os pulos!"
      ]
    },
    {
      "attachments": {},
      "cell_type": "markdown",
      "metadata": {},
      "source": [
        "## Arquivo de configura\u00e7\u00e3o `SSH` do usu\u00e1rio"
      ]
    },
    {
      "attachments": {},
      "cell_type": "markdown",
      "metadata": {},
      "source": [
        "### Dispositivos com Apelido"
      ]
    },
    {
      "attachments": {},
      "cell_type": "markdown",
      "metadata": {},
      "source": [
        "Em todo computador h\u00e1 um arquivo de configura\u00e7\u00e3o para o `SSH` que geralmente est\u00e1 na pasta do usu\u00e1rio"
      ]
    },
    {
      "cell_type": "code",
      "execution_count": 2,
      "metadata": {},
      "outputs": [
        {
          "name": "stdout",
          "output_type": "stream",
          "text": [
            "# Read more about SSH config files: https://linux.die.net/man/5/ssh_config\n",
            "Host 192.168.1.138\n",
            "    HostName 192.168.1.138\n",
            "    User maximo.fernandez\n"
          ]
        }
      ],
      "source": [
        "!cat ~/.ssh/config"
      ]
    },
    {
      "attachments": {},
      "cell_type": "markdown",
      "metadata": {},
      "source": [
        "Neste arquivo, eu tenho armazenadas as credenciais do usu\u00e1rio e o IP de alguns dispositivos aos quais costumo me conectar, para n\u00e3o precisar preench\u00ea-los manualmente. Vamos ver isso com os servidores que tenho.",
        "\n",
        "Meu servidor `server1` tem o usu\u00e1rio `root` e o IP `194.62.99.222`, ent\u00e3o eu o adiciono \u00e0 lista"
      ]
    },
    {
      "cell_type": "code",
      "execution_count": 8,
      "metadata": {},
      "outputs": [],
      "source": [
        "!echo \"Host server1\\n    HostName 194.62.99.222\\n    User root\" >> ~/.ssh/config"
      ]
    },
    {
      "attachments": {},
      "cell_type": "markdown",
      "metadata": {},
      "source": [
        "Voltemos a ver como ficou o arquivo de configura\u00e7\u00e3o"
      ]
    },
    {
      "cell_type": "code",
      "execution_count": 9,
      "metadata": {},
      "outputs": [
        {
          "name": "stdout",
          "output_type": "stream",
          "text": [
            "# Read more about SSH config files: https://linux.die.net/man/5/ssh_config\n",
            "Host 192.168.1.138\n",
            "    HostName 192.168.1.138\n",
            "    User maximo.fernandez\n",
            "\n",
            "Host server1\n",
            "    HostName 194.62.99.222\n",
            "    User root\n"
          ]
        }
      ],
      "source": [
        "!cat ~/.ssh/config"
      ]
    },
    {
      "attachments": {},
      "cell_type": "markdown",
      "metadata": {},
      "source": [
        "Agora que o adicionamos para nos conectar ao `server1`, s\u00f3 precisamos fazer `ssh server1`."
      ]
    },
    {
      "cell_type": "code",
      "execution_count": 8,
      "metadata": {},
      "outputs": [
        {
          "name": "stdout",
          "output_type": "stream",
          "text": [
            "Welcome to Ubuntu 22.04.1 LTS (GNU/Linux 5.15.0-60-generic x86_64)\n",
            "\n",
            "Last login: Fri Feb 24 05:18:59 2023 from 188.127.184.59\n",
            "root@server1:~# \n"
          ]
        }
      ],
      "source": [
        "!ssh server1 "
      ]
    },
    {
      "attachments": {},
      "cell_type": "markdown",
      "metadata": {},
      "source": [
        "### Proxy"
      ]
    },
    {
      "attachments": {},
      "cell_type": "markdown",
      "metadata": {},
      "source": [
        "Como j\u00e1 vimos, adicionando a bandeira `-D &ltport&gt` podemos alterar o proxy. Para salvar isso no arquivo de configura\u00e7\u00e3o, basta adicionar a linha `DynamicForward &ltport&gt` ao host que estamos salvando."
      ]
    },
    {
      "attachments": {},
      "cell_type": "markdown",
      "metadata": {},
      "source": [
        "Repetindo o exemplo anterior no qual usamos o `server1` como um proxy da porta `TCP/IP` (`9999`), no arquivo de configura\u00e7\u00e3o ficaria assim",
        "\n",
        "```\n",
        "Host proxyServer1",
        "HostName 194.62.99.222",
        "Usu\u00e1rio root",
        "DynamicForward 9999",
        "```\n",
        "\n",
        "O adicionamos"
      ]
    },
    {
      "cell_type": "code",
      "execution_count": 10,
      "metadata": {},
      "outputs": [],
      "source": [
        "!echo \"Host proxyServer1\\n    HostName 194.62.99.222\\n    User root\\n    DynamicForward 9999\" >> ~/.ssh/config"
      ]
    },
    {
      "attachments": {},
      "cell_type": "markdown",
      "metadata": {},
      "source": [
        "Vamos ver como fica o arquivo de configura\u00e7\u00e3o"
      ]
    },
    {
      "cell_type": "code",
      "execution_count": 11,
      "metadata": {},
      "outputs": [
        {
          "name": "stdout",
          "output_type": "stream",
          "text": [
            "# Read more about SSH config files: https://linux.die.net/man/5/ssh_config\n",
            "Host 192.168.1.138\n",
            "    HostName 192.168.1.138\n",
            "    User maximo.fernandez\n",
            "\n",
            "Host server1\n",
            "    HostName 194.62.99.222\n",
            "    User root\n",
            "Host proxyServer1\n",
            "    HostName 194.62.99.222\n",
            "    User root\n",
            "    DynamicForward 9999\n"
          ]
        }
      ],
      "source": [
        "!cat ~/.ssh/config"
      ]
    },
    {
      "attachments": {},
      "cell_type": "markdown",
      "metadata": {},
      "source": [
        "Obtenho meu `IP` p\u00fablico"
      ]
    },
    {
      "cell_type": "code",
      "execution_count": 12,
      "metadata": {},
      "outputs": [
        {
          "name": "stdout",
          "output_type": "stream",
          "text": [
            "188.127.184.59"
          ]
        }
      ],
      "source": [
        "!curl ifconfig.me"
      ]
    },
    {
      "attachments": {},
      "cell_type": "markdown",
      "metadata": {},
      "source": [
        "Conecto-me ao servidor proxy"
      ]
    },
    {
      "cell_type": "code",
      "execution_count": 8,
      "metadata": {},
      "outputs": [
        {
          "name": "stdout",
          "output_type": "stream",
          "text": [
            "Welcome to Ubuntu 22.04.1 LTS (GNU/Linux 5.15.0-60-generic x86_64)\n",
            "\n",
            "Last login: Fri Feb 24 05:42:32 2023 from 188.127.184.59\n",
            "root@server1:~#\n"
          ]
        }
      ],
      "source": [
        "!ssh proxyServer1 "
      ]
    },
    {
      "attachments": {},
      "cell_type": "markdown",
      "metadata": {},
      "source": [
        "Mudo a configura\u00e7\u00e3o do proxy do meu computador",
        "\n",
        "![proxy ssh](https://pub-fb664c455eca46a2ba762a065ac900f7.r2.dev/proxy_ssh.webp)"
      ]
    },
    {
      "attachments": {},
      "cell_type": "markdown",
      "metadata": {},
      "source": [
        "Volto a ver meu `IP` p\u00fablico, mas usando o proxy rec\u00e9m-configurado"
      ]
    },
    {
      "cell_type": "code",
      "execution_count": 13,
      "metadata": {},
      "outputs": [
        {
          "name": "stdout",
          "output_type": "stream",
          "text": [
            "194.62.99.222"
          ]
        }
      ],
      "source": [
        "!curl -x socks5h://localhost:9999 ifconfig.me"
      ]
    },
    {
      "attachments": {},
      "cell_type": "markdown",
      "metadata": {},
      "source": [
        "Vemos que obtemos o IP p\u00fablica do servidor"
      ]
    },
    {
      "attachments": {},
      "cell_type": "markdown",
      "metadata": {},
      "source": [
        "### T\u00fanel SSH"
      ]
    },
    {
      "attachments": {},
      "cell_type": "markdown",
      "metadata": {},
      "source": [
        "Se como antes quero criar um t\u00fanel at\u00e9 o `server2` atrav\u00e9s do `server1`, antes t\u00ednhamos que fazer `ssh &ltHOST PORT&gt:&ltDEST IP&gt:&ltTUNNEL PORT&gt &ltTUNNEL CREATOR USER&gt@&ltTUNNEL CREATOR IP&gt`, agora temos que adicionar a linha",
        "\n",
        "``` bash\n",
        "LocalForward &ltlocalhost&gt:&ltPORTA DO HOST&gt &ltIP DE DESTINO&gt:&ltPORTA DO T\u00daNEL&gt",
        "```"
      ]
    },
    {
      "attachments": {},
      "cell_type": "markdown",
      "metadata": {},
      "source": [
        "Isto \u00e9, o arquivo de configura\u00e7\u00e3o ficaria",
        "\n",
        "```\n",
        "Host tunelToServer2",
        "HostName 194.62.99.222",
        "Usu\u00e1rio root",
        "LocalForward 127.0.0.1:2020 10.7.2.228:22",
        "```"
      ]
    },
    {
      "attachments": {},
      "cell_type": "markdown",
      "metadata": {},
      "source": [
        "Mas isso n\u00e3o fica muito claro, vamos ver com um exemplo concreto.",
        "\n",
        "* `server1`:",
        "* `IP` p\u00fablica: `194.62.99.222`",
        "* `IP` privada: `10.7.0.168`",
        "* `server2`:",
        "* `IP` p\u00fablica: `194.62.99.235`",
        "* `IP` privada: `10.7.2.228`",
        "\n",
        "Antes, o comando era",
        "\n",
        "``` bash\n",
        "ssh -L 2020:10.7.2.228:22 root@194.62.99.222",
        "```\n",
        "\n",
        "Assim, o arquivo de configura\u00e7\u00e3o deve ficar",
        "\n",
        "```\n",
        "Host tunelToServer2",
        "HostName 194.62.99.222",
        "Usu\u00e1rio root",
        "LocalForward 127.0.0.1:2020 10.7.2.228:22",
        "```\n",
        "\n",
        "Vamos ver se funciona"
      ]
    },
    {
      "attachments": {},
      "cell_type": "markdown",
      "metadata": {},
      "source": [
        "Adicionamos a nova configura\u00e7\u00e3o"
      ]
    },
    {
      "cell_type": "code",
      "execution_count": 14,
      "metadata": {},
      "outputs": [],
      "source": [
        "!echo \"Host tunelToServer2\\n    HostName 194.62.99.222\\n    User root\\n    LocalForward 127.0.0.1:2020 10.7.2.228:22\" >> ~/.ssh/config"
      ]
    },
    {
      "attachments": {},
      "cell_type": "markdown",
      "metadata": {},
      "source": [
        "Vamos ver como ficou o arquivo de configura\u00e7\u00e3o"
      ]
    },
    {
      "cell_type": "code",
      "execution_count": 15,
      "metadata": {},
      "outputs": [
        {
          "name": "stdout",
          "output_type": "stream",
          "text": [
            "# Read more about SSH config files: https://linux.die.net/man/5/ssh_config\n",
            "Host 192.168.1.138\n",
            "    HostName 192.168.1.138\n",
            "    User maximo.fernandez\n",
            "\n",
            "Host server1\n",
            "    HostName 194.62.99.222\n",
            "    User root\n",
            "Host proxyServer1\n",
            "    HostName 194.62.99.222\n",
            "    User root\n",
            "    DynamicForward 9999\n",
            "Host tunelToServer2\n",
            "    HostName 194.62.99.222\n",
            "    User root\n",
            "    LocalForward 127.0.0.1:2020 10.7.2.228:22\n"
          ]
        }
      ],
      "source": [
        "!cat ~/.ssh/config"
      ]
    },
    {
      "attachments": {},
      "cell_type": "markdown",
      "metadata": {},
      "source": [
        "Criamos o t\u00fanel"
      ]
    },
    {
      "cell_type": "code",
      "execution_count": 8,
      "metadata": {},
      "outputs": [
        {
          "name": "stdout",
          "output_type": "stream",
          "text": [
            "Welcome to Ubuntu 22.04.1 LTS (GNU/Linux 5.15.0-60-generic x86_64)\n",
            "\n",
            "Last login: Fri Feb 24 06:02:20 2023 from 188.127.184.59\n",
            "root@server1:~#\n"
          ]
        }
      ],
      "source": [
        "!ssh tunelToServer2 "
      ]
    },
    {
      "attachments": {},
      "cell_type": "markdown",
      "metadata": {},
      "source": [
        "Agora tentamos nos conectar ao `server2` do meu computador."
      ]
    },
    {
      "cell_type": "code",
      "execution_count": 8,
      "metadata": {},
      "outputs": [
        {
          "name": "stdout",
          "output_type": "stream",
          "text": [
            "Welcome to Ubuntu 22.04.1 LTS (GNU/Linux 5.15.0-60-generic x86_64)\n",
            "\n",
            "Last login: Fri Feb 24 06:02:36 2023 from 10.7.0.168\n",
            "root@server2:~# \n"
          ]
        }
      ],
      "source": [
        "!ssh -p 2020 root@localhost"
      ]
    },
    {
      "attachments": {},
      "cell_type": "markdown",
      "metadata": {},
      "source": [
        "\u00a1Conseguido! Mas podemos deixar tudo um pouco mais limpo, podemos adicionar esta \u00faltima conex\u00e3o ao arquivo de configura\u00e7\u00e3o"
      ]
    },
    {
      "cell_type": "code",
      "execution_count": 16,
      "metadata": {},
      "outputs": [],
      "source": [
        "!echo \"Host server2ByTunel\\n    HostName localhost\\n    User root\\n    Port 2020\" >> ~/.ssh/config"
      ]
    },
    {
      "attachments": {},
      "cell_type": "markdown",
      "metadata": {},
      "source": [
        "Vamos ver como fica o arquivo de configura\u00e7\u00e3o"
      ]
    },
    {
      "cell_type": "code",
      "execution_count": 17,
      "metadata": {},
      "outputs": [
        {
          "name": "stdout",
          "output_type": "stream",
          "text": [
            "# Read more about SSH config files: https://linux.die.net/man/5/ssh_config\n",
            "Host 192.168.1.138\n",
            "    HostName 192.168.1.138\n",
            "    User maximo.fernandez\n",
            "\n",
            "Host server1\n",
            "    HostName 194.62.99.222\n",
            "    User root\n",
            "Host proxyServer1\n",
            "    HostName 194.62.99.222\n",
            "    User root\n",
            "    DynamicForward 9999\n",
            "Host tunelToServer2\n",
            "    HostName 194.62.99.222\n",
            "    User root\n",
            "    LocalForward 127.0.0.1:2020 10.7.2.228:22\n",
            "Host server2ByTunel\n",
            "    HostName localhost\n",
            "    User root\n",
            "    Port 2020\n"
          ]
        }
      ],
      "source": [
        "!cat ~/.ssh/config"
      ]
    },
    {
      "attachments": {},
      "cell_type": "markdown",
      "metadata": {},
      "source": [
        "Agora nos reconectamos ao `server2` do meu computador, atrav\u00e9s do t\u00fanel, mas com a \u00faltima configura\u00e7\u00e3o que acabamos de salvar."
      ]
    },
    {
      "cell_type": "code",
      "execution_count": 8,
      "metadata": {},
      "outputs": [
        {
          "name": "stdout",
          "output_type": "stream",
          "text": [
            "Welcome to Ubuntu 22.04.1 LTS (GNU/Linux 5.15.0-60-generic x86_64)\n",
            "\n",
            "Last login: Fri Feb 24 06:13:33 2023 from 10.7.0.168\n",
            "root@server2:~# \n"
          ]
        }
      ],
      "source": [
        "!ssh server2ByTunel "
      ]
    },
    {
      "attachments": {},
      "cell_type": "markdown",
      "metadata": {},
      "source": [
        "Em resumo, com tudo o que fizemos, podemos criar o t\u00fanel at\u00e9 o `server2` com o comando `ssh tunelToServer2` e, em seguida, conectar-nos ao `server2` com o comando `ssh server2ByTunel`",
        "\n",
        "\u00a1Impressionante!"
      ]
    },
    {
      "attachments": {},
      "cell_type": "markdown",
      "metadata": {},
      "source": [
        "### Conex\u00e3o reversa"
      ]
    },
    {
      "attachments": {},
      "cell_type": "markdown",
      "metadata": {},
      "source": [
        "Lembramos que agora nosso problema era que n\u00e3o consegu\u00edamos nos conectar ao `server2` atrav\u00e9s do t\u00fanel do `server1`. De modo que criando uma conex\u00e3o reversa do `server2` (temos algu\u00e9m no `server2` que pode fazer essa conex\u00e3o reversa, ou a deixamos pronta n\u00f3s antes de irmos) at\u00e9 um `server3`, posso me conectar ao `server3` do meu computador e, em seguida, me conectar ao `server2`."
      ]
    },
    {
      "attachments": {},
      "cell_type": "markdown",
      "metadata": {},
      "source": [
        "Primeiro temos que fazer a conex\u00e3o reversa do `server2` para o `server3`. Isso poder\u00edamos fazer atrav\u00e9s de um comando",
        "\n",
        "``` bash\n",
        "ssh -R &ltserver3port&gt:localhost:22 root@&ltIPserver3&gt",
        "```\n",
        "\n",
        "Ou guardar a conex\u00e3o no arquivo de configura\u00e7\u00e3o adicionando",
        "\n",
        "```\n",
        "Host reverseToServer3",
        "HostName &ltIPserver3&gt",
        "Usu\u00e1rio root",
        "RemoteForward &ltserver3port&gt localhost:22",
        "```\n",
        "\n",
        "E fazer a conex\u00e3o inversa mediante",
        "\n",
        "``` bash\n",
        "ssh reverseToServer3",
        "```"
      ]
    },
    {
      "attachments": {},
      "cell_type": "markdown",
      "metadata": {},
      "source": [
        "Como assim n\u00e3o se entende bem, vejamos com dados concretos",
        "\n",
        "* `server2`:",
        "* `IP` p\u00fablica: `194.62.99.235`",
        "* `server3`:",
        "* `IP` p\u00fablica: `194.62.96.236`",
        "\n",
        "Para fazer a conex\u00e3o reversa seria necess\u00e1rio usar o comando",
        "\n",
        "``` bash\n",
        "ssh -R 2020:localhost:22 root@194.62.96.236",
        "```\n",
        "\n",
        "ou salvar a seguinte configura\u00e7\u00e3o",
        "\n",
        "``` bash\n",
        "Host reverseToServer3",
        "HostName 194.62.96.236",
        "Usu\u00e1rio root",
        "RemoteForward 2020 localhost:22",
        "```\n",
        "\n",
        "E conectar-se atrav\u00e9s de",
        "\n",
        "``` bash\n",
        "ssh reverseToServer3",
        "```"
      ]
    },
    {
      "attachments": {},
      "cell_type": "markdown",
      "metadata": {},
      "source": [
        "Ent\u00e3o eu salvo a configura\u00e7\u00e3o no servidor 2 e fa\u00e7o a conex\u00e3o"
      ]
    },
    {
      "cell_type": "code",
      "execution_count": 8,
      "metadata": {},
      "outputs": [],
      "source": [
        "!root@server2:~# echo \"Host reverseToServer3\\n    HostName 194.62.96.236\\n    User root\\n    RemoteForward 2020 localhost:22\" >> ~/.ssh/config"
      ]
    },
    {
      "attachments": {},
      "cell_type": "markdown",
      "metadata": {},
      "source": [
        "Vamos ver se foi salvo corretamente."
      ]
    },
    {
      "cell_type": "code",
      "execution_count": 8,
      "metadata": {},
      "outputs": [
        {
          "name": "stdout",
          "output_type": "stream",
          "text": [
            "\n",
            "Host reverseToServer3\n",
            "    HostName 194.62.96.236\n",
            "    User root\n",
            "    RemoteForward 2020 localhost:22\n"
          ]
        }
      ],
      "source": [
        "!root@server2:~# cat .ssh/config"
      ]
    },
    {
      "attachments": {},
      "cell_type": "markdown",
      "metadata": {},
      "source": [
        "Fa\u00e7o a conex\u00e3o inversa"
      ]
    },
    {
      "cell_type": "code",
      "execution_count": 8,
      "metadata": {},
      "outputs": [
        {
          "name": "stdout",
          "output_type": "stream",
          "text": [
            "Welcome to Ubuntu 22.04.1 LTS (GNU/Linux 5.15.0-53-generic x86_64)\n",
            "\n",
            "Last login: Wed Feb 22 15:26:18 2023 from 194.62.99.235\n",
            "root@server3:~# \n"
          ]
        }
      ],
      "source": [
        "!root@server2:~# ssh reverseToServer3 "
      ]
    },
    {
      "attachments": {},
      "cell_type": "markdown",
      "metadata": {},
      "source": [
        "### Pular"
      ]
    },
    {
      "attachments": {},
      "cell_type": "markdown",
      "metadata": {},
      "source": [
        "Como dissem, faz\u00edamos saltos mediante a flag `-J`, de maneira que com o comando `ssh -J root@194.62.99.222 root@10.7.2.228` pod\u00edamos nos conectar ao `server2`"
      ]
    },
    {
      "attachments": {},
      "cell_type": "markdown",
      "metadata": {},
      "source": [
        "Para configurar o arquivo de configura\u00e7\u00e3o, h\u00e1 duas op\u00e7\u00f5es"
      ]
    },
    {
      "attachments": {},
      "cell_type": "markdown",
      "metadata": {},
      "source": [
        "A primeira \u00e9 que, como j\u00e1 temos o `server1` salvo no arquivo de configura\u00e7\u00e3o, apenas adicionamos o `server2`.",
        "\n",
        "``` bash\n",
        "Servidor2",
        "HostName 10.7.2.228",
        "Usu\u00e1rio root",
        "```\n",
        "\n",
        "E a seguir poder\u00edamos nos conectar mediante",
        "\n",
        "``` bash\n",
        "ssh -J server1 server2",
        "```\n",
        "\n",
        "Vamos a test\u00e1-lo"
      ]
    },
    {
      "cell_type": "code",
      "execution_count": 19,
      "metadata": {},
      "outputs": [],
      "source": [
        "!echo \"Host server2\\n    HostName 10.7.2.228\\n    User root\\n\" >> ~/.ssh/config"
      ]
    },
    {
      "attachments": {},
      "cell_type": "markdown",
      "metadata": {},
      "source": [
        "Vemos o arquivo de configura\u00e7\u00e3o"
      ]
    },
    {
      "cell_type": "code",
      "execution_count": 21,
      "metadata": {},
      "outputs": [
        {
          "name": "stdout",
          "output_type": "stream",
          "text": [
            "# Read more about SSH config files: https://linux.die.net/man/5/ssh_config\n",
            "Host 192.168.1.138\n",
            "    HostName 192.168.1.138\n",
            "    User maximo.fernandez\n",
            "\n",
            "Host server1\n",
            "    HostName 194.62.99.222\n",
            "    User root\n",
            "Host proxyServer1\n",
            "    HostName 194.62.99.222\n",
            "    User root\n",
            "    DynamicForward 9999\n",
            "Host tunelToServer2\n",
            "    HostName 194.62.99.222\n",
            "    User root\n",
            "    LocalForward 127.0.0.1:2020 10.7.2.228:22\n",
            "Host server2ByTunel\n",
            "    HostName localhost\n",
            "    User root\n",
            "    Port 2020\n",
            "Host server2\n",
            "    HostName 10.7.2.228\n",
            "    User root\n",
            "\n"
          ]
        }
      ],
      "source": [
        "!cat ~/.ssh/config"
      ]
    },
    {
      "attachments": {},
      "cell_type": "markdown",
      "metadata": {},
      "source": [
        "Agora nos conectamos atrav\u00e9s dos saltos"
      ]
    },
    {
      "cell_type": "code",
      "execution_count": 8,
      "metadata": {},
      "outputs": [
        {
          "name": "stdout",
          "output_type": "stream",
          "text": [
            "Welcome to Ubuntu 22.04.1 LTS (GNU/Linux 5.15.0-60-generic x86_64)\n",
            "\n",
            "Last login: Fri Feb 24 12:05:16 2023 from 10.7.0.168\n",
            "root@server2:~#\n"
          ]
        }
      ],
      "source": [
        "!ssh -J server1 server2"
      ]
    },
    {
      "attachments": {},
      "cell_type": "markdown",
      "metadata": {},
      "source": [
        "Esta foi a primeira op\u00e7\u00e3o: salvar cada servidor e definir os salts; mas uma segunda op\u00e7\u00e3o \u00e9 salvar todos os salts em uma \u00fanica configura\u00e7\u00e3o, que ficaria assim",
        "\n",
        "``` bash\n",
        "Servidor de salto2",
        "HostName 10.7.2.228",
        "Usu\u00e1rio root",
        "ProxyJump root@194.62.99.222",
        "```\n",
        "\n",
        "E j\u00e1 s\u00f3 faltaria conectar-se atrav\u00e9s de",
        "\n",
        "```\n",
        "ssh server2jumping",
        "```\n",
        "\n",
        "Vamos a testar"
      ]
    },
    {
      "cell_type": "code",
      "execution_count": 22,
      "metadata": {},
      "outputs": [],
      "source": [
        "!echo \"Host server2jumping\\n    HostName 10.7.2.228\\n    User root\\n    ProxyJump root@194.62.99.222\" >> ~/.ssh/config"
      ]
    },
    {
      "attachments": {},
      "cell_type": "markdown",
      "metadata": {},
      "source": [
        "Vamos ver o arquivo de configura\u00e7\u00e3o"
      ]
    },
    {
      "cell_type": "code",
      "execution_count": 24,
      "metadata": {},
      "outputs": [
        {
          "name": "stdout",
          "output_type": "stream",
          "text": [
            "# Read more about SSH config files: https://linux.die.net/man/5/ssh_config\n",
            "Host 192.168.1.138\n",
            "    HostName 192.168.1.138\n",
            "    User maximo.fernandez\n",
            "\n",
            "Host server1\n",
            "    HostName 194.62.99.222\n",
            "    User root\n",
            "Host proxyServer1\n",
            "    HostName 194.62.99.222\n",
            "    User root\n",
            "    DynamicForward 9999\n",
            "Host tunelToServer2\n",
            "    HostName 194.62.99.222\n",
            "    User root\n",
            "    LocalForward 127.0.0.1:2020 10.7.2.228:22\n",
            "Host server2ByTunel\n",
            "    HostName localhost\n",
            "    User root\n",
            "    Port 2020\n",
            "Host server2\n",
            "    HostName 10.7.2.228\n",
            "    User root\n",
            "Host server2jumping\n",
            "    HostName 10.7.2.228\n",
            "    User root\n",
            "    ProxyJump root@194.62.99.222\n"
          ]
        }
      ],
      "source": [
        "!cat ~/.ssh/config"
      ]
    },
    {
      "attachments": {},
      "cell_type": "markdown",
      "metadata": {},
      "source": [
        "Agora tentamos nos conectar"
      ]
    },
    {
      "cell_type": "code",
      "execution_count": 8,
      "metadata": {},
      "outputs": [
        {
          "name": "stdout",
          "output_type": "stream",
          "text": [
            "Welcome to Ubuntu 22.04.1 LTS (GNU/Linux 5.15.0-60-generic x86_64)\n",
            "\n",
            "Last login: Fri Feb 24 12:06:22 2023 from 10.7.0.168\n",
            "root@server2:~# \n"
          ]
        }
      ],
      "source": [
        "!ssh server2jumping"
      ]
    },
    {
      "attachments": {},
      "cell_type": "markdown",
      "metadata": {},
      "source": [
        "## Arquivo de configura\u00e7\u00e3o `SSH` do sistema"
      ]
    },
    {
      "attachments": {},
      "cell_type": "markdown",
      "metadata": {},
      "source": [
        "Antes vimos o arquivo de configura\u00e7\u00e3o do `SSH` do usu\u00e1rio, onde guardamos configura\u00e7\u00f5es de m\u00e1quinas para as quais quer\u00edamos nos conectar por `SSH`, mas h\u00e1 outro arquivo de configura\u00e7\u00e3o do `SSH`, neste caso do sistema, que se encontra em `/etc/ssh/ssh_config`, vamos v\u00ea-lo."
      ]
    },
    {
      "cell_type": "code",
      "execution_count": 25,
      "metadata": {},
      "outputs": [
        {
          "name": "stdout",
          "output_type": "stream",
          "text": [
            "#\t$OpenBSD: sshd_config,v 1.103 2018/04/09 20:41:22 tj Exp $\n",
            "\n",
            "# This is the sshd server system-wide configuration file.  See\n",
            "# sshd_config(5) for more information.\n",
            "\n",
            "# This sshd was compiled with PATH=/usr/bin:/bin:/usr/sbin:/sbin\n",
            "\n",
            "# The strategy used for options in the default sshd_config shipped with\n",
            "# OpenSSH is to specify options with their default value where\n",
            "# possible, but leave them commented.  Uncommented options override the\n",
            "# default value.\n",
            "\n",
            "Include /etc/ssh/sshd_config.d/*.conf\n",
            "\n",
            "#Port 22\n",
            "#AddressFamily any\n",
            "#ListenAddress 0.0.0.0\n",
            "#ListenAddress ::\n",
            "\n",
            "#HostKey /etc/ssh/ssh_host_rsa_key\n",
            "#HostKey /etc/ssh/ssh_host_ecdsa_key\n",
            "#HostKey /etc/ssh/ssh_host_ed25519_key\n",
            "\n",
            "# Ciphers and keying\n",
            "#RekeyLimit default none\n",
            "\n",
            "# Logging\n",
            "#SyslogFacility AUTH\n",
            "#LogLevel INFO\n",
            "\n",
            "# Authentication:\n",
            "\n",
            "#LoginGraceTime 2m\n",
            "#PermitRootLogin prohibit-password\n",
            "#StrictModes yes\n",
            "#MaxAuthTries 6\n",
            "#MaxSessions 10\n",
            "\n",
            "#PubkeyAuthentication yes\n",
            "\n",
            "# Expect .ssh/authorized_keys2 to be disregarded by default in future.\n",
            "#AuthorizedKeysFile\t.ssh/authorized_keys .ssh/authorized_keys2\n",
            "\n",
            "#AuthorizedPrincipalsFile none\n",
            "\n",
            "#AuthorizedKeysCommand none\n",
            "#AuthorizedKeysCommandUser nobody\n",
            "\n",
            "# For this to work you will also need host keys in /etc/ssh/ssh_known_hosts\n",
            "#HostbasedAuthentication no\n",
            "# Change to yes if you don't trust ~/.ssh/known_hosts for\n",
            "# HostbasedAuthentication\n",
            "#IgnoreUserKnownHosts no\n",
            "# Don't read the user's ~/.rhosts and ~/.shosts files\n",
            "#IgnoreRhosts yes\n",
            "\n",
            "# To disable tunneled clear text passwords, change to no here!\n",
            "#PasswordAuthentication yes\n",
            "#PermitEmptyPasswords no\n",
            "\n",
            "# Change to yes to enable challenge-response passwords (beware issues with\n",
            "# some PAM modules and threads)\n",
            "ChallengeResponseAuthentication no\n",
            "\n",
            "# Kerberos options\n",
            "#KerberosAuthentication no\n",
            "#KerberosOrLocalPasswd yes\n",
            "#KerberosTicketCleanup yes\n",
            "#KerberosGetAFSToken no\n",
            "\n",
            "# GSSAPI options\n",
            "#GSSAPIAuthentication no\n",
            "#GSSAPICleanupCredentials yes\n",
            "#GSSAPIStrictAcceptorCheck yes\n",
            "#GSSAPIKeyExchange no\n",
            "\n",
            "# Set this to 'yes' to enable PAM authentication, account processing,\n",
            "# and session processing. If this is enabled, PAM authentication will\n",
            "# be allowed through the ChallengeResponseAuthentication and\n",
            "# PasswordAuthentication.  Depending on your PAM configuration,\n",
            "# PAM authentication via ChallengeResponseAuthentication may bypass\n",
            "# the setting of \"PermitRootLogin without-password\".\n",
            "# If you just want the PAM account and session checks to run without\n",
            "# PAM authentication, then enable this but set PasswordAuthentication\n",
            "# and ChallengeResponseAuthentication to 'no'.\n",
            "UsePAM yes\n",
            "\n",
            "#AllowAgentForwarding yes\n",
            "#AllowTcpForwarding yes\n",
            "#GatewayPorts no\n",
            "X11Forwarding yes\n",
            "#X11DisplayOffset 10\n",
            "#X11UseLocalhost yes\n",
            "#PermitTTY yes\n",
            "PrintMotd no\n",
            "#PrintLastLog yes\n",
            "#TCPKeepAlive yes\n",
            "#PermitUserEnvironment no\n",
            "#Compression delayed\n",
            "#ClientAliveInterval 0\n",
            "#ClientAliveCountMax 3\n",
            "#UseDNS no\n",
            "#PidFile /var/run/sshd.pid\n",
            "#MaxStartups 10:30:100\n",
            "#PermitTunnel no\n",
            "#ChrootDirectory none\n",
            "#VersionAddendum none\n",
            "\n",
            "# no default banner path\n",
            "#Banner none\n",
            "\n",
            "# Allow client to pass locale environment variables\n",
            "AcceptEnv LANG LC_*\n",
            "\n",
            "# override default of no subsystems\n",
            "Subsystem\tsftp\t/usr/lib/openssh/sftp-server\n",
            "\n",
            "# Example of overriding settings on a per-user basis\n",
            "#Match User anoncvs\n",
            "#\tX11Forwarding no\n",
            "#\tAllowTcpForwarding no\n",
            "#\tPermitTTY no\n",
            "#\tForceCommand cvs server\n"
          ]
        }
      ],
      "source": [
        "!cat /etc/ssh/sshd_config"
      ]
    },
    {
      "attachments": {},
      "cell_type": "markdown",
      "metadata": {},
      "source": [
        "Com este arquivo, podemos alterar a configura\u00e7\u00e3o de como o `SSH` funciona no nosso computador. Por exemplo, podemos ver uma linha comentada que diz",
        "\n",
        "``` bash\n",
        "#Porta 22",
        "```\n",
        "\n",
        "Se a descomentar e mudar o n\u00famero `SSH`, deixar\u00e1 de usar a porta 22, que \u00e9 sua porta padr\u00e3o, e usar\u00e1 o n\u00famero da porta especificada ali."
      ]
    },
    {
      "attachments": {},
      "cell_type": "markdown",
      "metadata": {},
      "source": [
        "## C\u00f3pia de arquivos por `SSH`"
      ]
    },
    {
      "attachments": {},
      "cell_type": "markdown",
      "metadata": {},
      "source": [
        "Podemos copiar arquivos por `SSH` mediante o comando `scp` (c\u00f3pia segura). Para isso, a sintaxe \u00e9",
        "\n",
        "``` bash\n",
        "scp &ltcaminho arquivo local&gt &ltusu\u00e1rio&gt@&ltIP&gt:&ltcaminho para salvar&gt",
        "```\n",
        "\n",
        "o",
        "\n",
        "``` bash\n",
        "scp &ltuser&gt@&ltip&gt:&ltpath to remote file&gt &ltpath to save&gt",
        "```\n",
        "\n",
        "Da primeira forma, copiamos um arquivo do nosso computador para outro e, da segunda, de outro para o nosso."
      ]
    },
    {
      "attachments": {},
      "cell_type": "markdown",
      "metadata": {},
      "source": [
        "Por exemplo, vamos fazer um `ls` do `server1`"
      ]
    },
    {
      "cell_type": "code",
      "execution_count": 35,
      "metadata": {},
      "outputs": [
        {
          "name": "stdout",
          "output_type": "stream",
          "text": [
            "snap\n",
            "Connection to 194.62.99.222 closed.\n"
          ]
        }
      ],
      "source": [
        "!ssh -t server1 \"ls\""
      ]
    },
    {
      "attachments": {},
      "cell_type": "markdown",
      "metadata": {},
      "source": [
        "Vamos ver agora o que temos localmente que possamos passar"
      ]
    },
    {
      "cell_type": "code",
      "execution_count": 33,
      "metadata": {},
      "outputs": [
        {
          "name": "stdout",
          "output_type": "stream",
          "text": [
            " 2021-02-11-Introduccion-a-Python.ipynb         html_files\n",
            " 2021-04-23-Calculo-matricial-con-Numpy.ipynb   html.ipynb\n",
            " 2021-06-15-Manejo-de-datos-con-Pandas.ipynb    introduccion_python\n",
            " 2022-09-12-Introduccion-a-la-terminal.ipynb    mi_paquete_de_python\n",
            " 2023-01-22-Docker.ipynb\t\t        movies.csv\n",
            " 2023-02-01-Bash-scripting.ipynb\t        movies.dat\n",
            " 2023-02-04-Blip-2.ipynb\t\t        notebooks_translated\n",
            " 2023-XX-XX-SSH.ipynb\t\t\t        __pycache__\n",
            " california_housing_train.csv\t\t        scripts_bash\n",
            " command-line-cheat-sheet.pdf\t\t        ssh.ipynb\n",
            " CSS.ipynb\t\t\t\t        test.ipynb\n",
            "'Expresiones regulares.ipynb'\n"
          ]
        }
      ],
      "source": [
        "!ls"
      ]
    },
    {
      "attachments": {},
      "cell_type": "markdown",
      "metadata": {},
      "source": [
        "Vamos enviar ao servidor o arquivo `html.ipynb` j\u00e1 que ocupa pouco"
      ]
    },
    {
      "cell_type": "code",
      "execution_count": 36,
      "metadata": {},
      "outputs": [
        {
          "name": "stdout",
          "output_type": "stream",
          "text": [
            "html.ipynb                                    100%   14KB 229.0KB/s   00:00    \n"
          ]
        }
      ],
      "source": [
        "!scp html.ipynb server1:/root/"
      ]
    },
    {
      "attachments": {},
      "cell_type": "markdown",
      "metadata": {},
      "source": [
        "Voltamos a ver o que h\u00e1 dentro de `server1`"
      ]
    },
    {
      "cell_type": "code",
      "execution_count": 38,
      "metadata": {},
      "outputs": [
        {
          "name": "stdout",
          "output_type": "stream",
          "text": [
            "html.ipynb  snap\n",
            "Connection to 194.62.99.222 closed.\n"
          ]
        }
      ],
      "source": [
        "!ssh -t server1 \"ls\""
      ]
    },
    {
      "attachments": {},
      "cell_type": "markdown",
      "metadata": {},
      "source": [
        "Foi copiado"
      ]
    },
    {
      "attachments": {},
      "cell_type": "markdown",
      "metadata": {},
      "source": [
        "## Sincroniza\u00e7\u00e3o de arquivos por `SSH`"
      ]
    },
    {
      "attachments": {},
      "cell_type": "markdown",
      "metadata": {},
      "source": [
        "O problema do comando `scp` \u00e9 que, se algo der errado durante a c\u00f3pia e o arquivo n\u00e3o for completamente transferido, ao tentar novamente ser\u00e1 necess\u00e1rio come\u00e7ar do zero. Isso \u00e9 especialmente problem\u00e1tico com arquivos muito grandes."
      ]
    },
    {
      "attachments": {},
      "cell_type": "markdown",
      "metadata": {},
      "source": [
        "Para resolver isso, pode-se usar o `rsync`, a sintaxe \u00e9",
        "\n",
        "``` bash\n",
        "rsync --partial --progress --rsh=ssh <caminho arquivo local> <usu\u00e1rio>@<IP>:<caminho para salvar>",
        "```\n",
        "\n",
        "o",
        "\n",
        "``` bash\n",
        "rsync --partial --progress --rsh=ssh <user>@<ip>:<caminho para o arquivo remoto> <caminho para salvar>",
        "```\n",
        "\n",
        "Assim como antes, da primeira forma copia um arquivo do nosso computador para outro e a segunda de outro para o nosso. A flag `--partial` \u00e9 para indicar que arquivos parcialmente copiados devem ser salvos, ou seja, se a c\u00f3pia for interrompida antes de terminar, o que j\u00e1 foi copiado ser\u00e1 mantido. A flag `--progress` \u00e9 para indicar que deve mostrar o progresso da c\u00f3pia. A flag `--rsh=ssh` \u00e9 para indicar que a transfer\u00eancia de arquivos deve ser feita por `SSH`."
      ]
    },
    {
      "attachments": {},
      "cell_type": "markdown",
      "metadata": {},
      "source": [
        "Passamos um arquivo"
      ]
    },
    {
      "cell_type": "code",
      "execution_count": 39,
      "metadata": {},
      "outputs": [
        {
          "name": "stdout",
          "output_type": "stream",
          "text": [
            "sending incremental file list\n",
            "2021-06-15-Manejo-de-datos-con-Pandas.ipynb\n",
            "        608.34K 100%  197.78MB/s    0:00:00 (xfr#1, to-chk=0/1)\n"
          ]
        }
      ],
      "source": [
        "!rsync --partial --progress -rsh=ssh 2021-06-15-Manejo-de-datos-con-Pandas.ipynb  server1:/root/"
      ]
    },
    {
      "attachments": {},
      "cell_type": "markdown",
      "metadata": {},
      "source": [
        "E vemos se foi copiado"
      ]
    },
    {
      "cell_type": "code",
      "execution_count": 40,
      "metadata": {},
      "outputs": [
        {
          "name": "stdout",
          "output_type": "stream",
          "text": [
            "2021-06-15-Manejo-de-datos-con-Pandas.ipynb  html.ipynb  snap\n",
            "Connection to 194.62.99.222 closed.\n"
          ]
        }
      ],
      "source": [
        "!ssh -t server1 \"ls\""
      ]
    },
    {
      "attachments": {},
      "cell_type": "markdown",
      "metadata": {},
      "source": [
        "## Montar pastas remotas localmente"
      ]
    },
    {
      "attachments": {},
      "cell_type": "markdown",
      "metadata": {},
      "source": [
        "No caso de quisermos ter uma pasta de outra m\u00e1quina como se estivesse no nosso computador, temos que usar `sshfs`.",
        "\n",
        "Primeiro \u00e9 necess\u00e1rio instal\u00e1-lo por meio de",
        "\n",
        "``` bash\n",
        "sudo apt install sshfs",
        "```\n",
        "\n",
        "E uma vez instalado, \u00e9 usado com a sintaxe",
        "\n",
        "``` bash\n",
        "sshfs &ltuser&gt@&ltip&gt:&ltcaminho remoto&gt &ltcaminho local para montar&gt",
        "```"
      ]
    },
    {
      "attachments": {},
      "cell_type": "markdown",
      "metadata": {},
      "source": [
        "Vamos a montar a pasta `/root` do `server1`, mas para isso primeiro vamos criar uma pasta onde ela ser\u00e1 montada."
      ]
    },
    {
      "cell_type": "code",
      "execution_count": 41,
      "metadata": {},
      "outputs": [],
      "source": [
        "!mkdir server1folder"
      ]
    },
    {
      "attachments": {},
      "cell_type": "markdown",
      "metadata": {},
      "source": [
        "Vemos que, dentro da pasta que montamos, n\u00e3o h\u00e1 nada"
      ]
    },
    {
      "cell_type": "code",
      "execution_count": 42,
      "metadata": {},
      "outputs": [],
      "source": [
        "!ls server1folder"
      ]
    },
    {
      "attachments": {},
      "cell_type": "markdown",
      "metadata": {},
      "source": [
        "Agora montamos a pasta do servidor"
      ]
    },
    {
      "cell_type": "code",
      "execution_count": 8,
      "metadata": {},
      "outputs": [],
      "source": [
        "!!sshfs server1:/root/ server1folder"
      ]
    },
    {
      "attachments": {},
      "cell_type": "markdown",
      "metadata": {},
      "source": [
        "Voltamos a ver o que h\u00e1 dentro"
      ]
    },
    {
      "cell_type": "code",
      "execution_count": 47,
      "metadata": {},
      "outputs": [
        {
          "name": "stdout",
          "output_type": "stream",
          "text": [
            "2021-06-15-Manejo-de-datos-con-Pandas.ipynb  html.ipynb  snap\n"
          ]
        }
      ],
      "source": [
        "!ls server1folder"
      ]
    },
    {
      "attachments": {},
      "cell_type": "markdown",
      "metadata": {},
      "source": [
        "Quando j\u00e1 n\u00e3o quisermos ter a pasta montada, podemos desmont\u00e1-la atrav\u00e9s de `fusermount -u server1folder`"
      ]
    },
    {
      "cell_type": "code",
      "execution_count": 8,
      "metadata": {},
      "outputs": [],
      "source": [
        "!!fusermount -u server1folder"
      ]
    },
    {
      "attachments": {},
      "cell_type": "markdown",
      "metadata": {},
      "source": [
        "Voltamos a olhar o que h\u00e1 dentro para ver se n\u00e3o h\u00e1 nada"
      ]
    },
    {
      "cell_type": "code",
      "execution_count": 48,
      "metadata": {},
      "outputs": [],
      "source": [
        "!ls server1folder"
      ]
    },
    {
      "attachments": {},
      "cell_type": "markdown",
      "metadata": {},
      "source": [
        "## Depurar a conex\u00e3o `SSH`"
      ]
    },
    {
      "attachments": {},
      "cell_type": "markdown",
      "metadata": {},
      "source": [
        "Podemos depurar a conex\u00e3o `SSH` adicionando de `-v` at\u00e9 `-vvvv` \u00e0 conex\u00e3o, quanto mais `v`s colocarmos, maior ser\u00e1 o n\u00edvel de informa\u00e7\u00e3o."
      ]
    },
    {
      "cell_type": "code",
      "execution_count": 49,
      "metadata": {},
      "outputs": [
        {
          "name": "stdout",
          "output_type": "stream",
          "text": [
            "OpenSSH_8.2p1 Ubuntu-4ubuntu0.5, OpenSSL 1.1.1f  31 Mar 2020\n",
            "debug1: Reading configuration data /home/wallabot/.ssh/config\n",
            "debug1: /home/wallabot/.ssh/config line 6: Applying options for server1\n",
            "debug1: Reading configuration data /etc/ssh/ssh_config\n",
            "debug1: /etc/ssh/ssh_config line 19: include /etc/ssh/ssh_config.d/*.conf matched no files\n",
            "debug1: /etc/ssh/ssh_config line 21: Applying options for *\n",
            "debug1: Connecting to 194.62.99.222 [194.62.99.222] port 22.\n",
            "debug1: Connection established.\n",
            "debug1: identity file /home/wallabot/.ssh/id_rsa type 0\n",
            "debug1: identity file /home/wallabot/.ssh/id_rsa-cert type -1\n",
            "debug1: identity file /home/wallabot/.ssh/id_dsa type -1\n",
            "debug1: identity file /home/wallabot/.ssh/id_dsa-cert type -1\n",
            "debug1: identity file /home/wallabot/.ssh/id_ecdsa type -1\n",
            "debug1: identity file /home/wallabot/.ssh/id_ecdsa-cert type -1\n",
            "debug1: identity file /home/wallabot/.ssh/id_ecdsa_sk type -1\n",
            "debug1: identity file /home/wallabot/.ssh/id_ecdsa_sk-cert type -1\n",
            "debug1: identity file /home/wallabot/.ssh/id_ed25519 type -1\n",
            "debug1: identity file /home/wallabot/.ssh/id_ed25519-cert type -1\n",
            "debug1: identity file /home/wallabot/.ssh/id_ed25519_sk type -1\n",
            "debug1: identity file /home/wallabot/.ssh/id_ed25519_sk-cert type -1\n",
            "debug1: identity file /home/wallabot/.ssh/id_xmss type -1\n",
            "debug1: identity file /home/wallabot/.ssh/id_xmss-cert type -1\n",
            "debug1: Local version string SSH-2.0-OpenSSH_8.2p1 Ubuntu-4ubuntu0.5\n",
            "debug1: Remote protocol version 2.0, remote software version OpenSSH_8.9p1 Ubuntu-3\n",
            "debug1: match: OpenSSH_8.9p1 Ubuntu-3 pat OpenSSH* compat 0x04000000\n",
            "debug1: Authenticating to 194.62.99.222:22 as 'root'\n",
            "debug1: SSH2_MSG_KEXINIT sent\n",
            "debug1: SSH2_MSG_KEXINIT received\n",
            "debug1: kex: algorithm: curve25519-sha256\n",
            "debug1: kex: host key algorithm: ecdsa-sha2-nistp256\n",
            "debug1: kex: server->client cipher: chacha20-poly1305@openssh.com MAC: <implicit> compression: none\n",
            "debug1: kex: client->server cipher: chacha20-poly1305@openssh.com MAC: <implicit> compression: none\n",
            "debug1: expecting SSH2_MSG_KEX_ECDH_REPLY\n",
            "debug1: Server host key: ecdsa-sha2-nistp256 SHA256:jwpQt2a69LQcuvvYPPKL32bBwTi1Je/ZmUdr4zEiD1Y\n",
            "debug1: Host '194.62.99.222' is known and matches the ECDSA host key.\n",
            "debug1: Found key in /home/wallabot/.ssh/known_hosts:14\n",
            "debug1: rekey out after 134217728 blocks\n",
            "debug1: SSH2_MSG_NEWKEYS sent\n",
            "debug1: expecting SSH2_MSG_NEWKEYS\n",
            "debug1: SSH2_MSG_NEWKEYS received\n",
            "debug1: rekey in after 134217728 blocks\n",
            "debug1: Will attempt key: /home/wallabot/.ssh/id_rsa RSA SHA256:ID3HcrbyPBGjFx/qeiJK50eqihLGrpDVu02oRSyKGh4 agent\n",
            "debug1: Will attempt key: wallabot@wallabot RSA SHA256:Qlq6hXbToInW+efEK666BFT26EeUSpBhzcqxTLrDBpQ agent\n",
            "debug1: Will attempt key: /home/wallabot/.ssh/id_dsa \n",
            "debug1: Will attempt key: /home/wallabot/.ssh/id_ecdsa \n",
            "debug1: Will attempt key: /home/wallabot/.ssh/id_ecdsa_sk \n",
            "debug1: Will attempt key: /home/wallabot/.ssh/id_ed25519 \n",
            "debug1: Will attempt key: /home/wallabot/.ssh/id_ed25519_sk \n",
            "debug1: Will attempt key: /home/wallabot/.ssh/id_xmss \n",
            "debug1: SSH2_MSG_EXT_INFO received\n",
            "debug1: kex_input_ext_info: server-sig-algs=<ssh-ed25519,sk-ssh-ed25519@openssh.com,ssh-rsa,rsa-sha2-256,rsa-sha2-512,ssh-dss,ecdsa-sha2-nistp256,ecdsa-sha2-nistp384,ecdsa-sha2-nistp521,sk-ecdsa-sha2-nistp256@openssh.com,webauthn-sk-ecdsa-sha2-nistp256@openssh.com>\n",
            "debug1: kex_input_ext_info: publickey-hostbound@openssh.com (unrecognised)\n",
            "debug1: SSH2_MSG_SERVICE_ACCEPT received\n",
            "debug1: Authentications that can continue: publickey\n",
            "debug1: Next authentication method: publickey\n",
            "debug1: Offering public key: /home/wallabot/.ssh/id_rsa RSA SHA256:ID3HcrbyPBGjFx/qeiJK50eqihLGrpDVu02oRSyKGh4 agent\n",
            "debug1: Authentications that can continue: publickey\n",
            "debug1: Offering public key: wallabot@wallabot RSA SHA256:Qlq6hXbToInW+efEK666BFT26EeUSpBhzcqxTLrDBpQ agent\n",
            "debug1: Server accepts key: wallabot@wallabot RSA SHA256:Qlq6hXbToInW+efEK666BFT26EeUSpBhzcqxTLrDBpQ agent\n",
            "debug1: Authentication succeeded (publickey).\n",
            "Authenticated to 194.62.99.222 ([194.62.99.222]:22).\n",
            "debug1: channel 0: new [client-session]\n",
            "debug1: Requesting no-more-sessions@openssh.com\n",
            "debug1: Entering interactive session.\n",
            "debug1: pledge: network\n",
            "debug1: client_input_global_request: rtype hostkeys-00@openssh.com want_reply 0\n",
            "debug1: Remote: /root/.ssh/authorized_keys:1: key options: agent-forwarding port-forwarding pty user-rc x11-forwarding\n",
            "debug1: Remote: /root/.ssh/authorized_keys:1: key options: agent-forwarding port-forwarding pty user-rc x11-forwarding\n",
            "debug1: Sending environment.\n",
            "debug1: Sending env LANG = es_ES.UTF-8\n",
            "Welcome to Ubuntu 22.04.1 LTS (GNU/Linux 5.15.0-60-generic x86_64)\n",
            "\n",
            " * Documentation:  https://help.ubuntu.com\n",
            " * Management:     https://landscape.canonical.com\n",
            " * Support:        https://ubuntu.com/advantage\n",
            "\n",
            "  System information as of Fri Feb 24 01:25:10 PM UTC 2023\n",
            "\n",
            "  System load:           0.0\n",
            "  Usage of /:            15.2% of 24.53GB\n",
            "  Memory usage:          34%\n",
            "  Swap usage:            0%\n",
            "  Processes:             89\n",
            "  Users logged in:       0\n",
            "  IPv4 address for eth0: 194.62.99.222\n",
            "  IPv4 address for eth1: 10.7.0.168\n",
            "  IPv6 address for eth2: 2a04:3542:8000:1000:d48a:cbff:fefb:5b1\n",
            "\n",
            " * Strictly confined Kubernetes makes edge and IoT secure. Learn how MicroK8s\n",
            "   just raised the bar for easy, resilient and secure K8s cluster deployment.\n",
            "\n",
            "   https://ubuntu.com/engage/secure-kubernetes-at-the-edge\n",
            "\n",
            "43 updates can be applied immediately.\n",
            "To see these additional updates run: apt list --upgradable\n",
            "\n",
            "\n",
            "Last login: Fri Feb 24 13:10:05 2023 from 188.127.184.59\n",
            "\u001b[?2004h\u001b]0;root@server1: ~\u001b[01;32mroot@server1\u001b[00m:\u001b[01;34m~\u001b[00m# ^C\u001b[?2004l\n",
            "\u001b[?2004l\n",
            "\u001b[?2004h\u001b]0;root@server1: ~\u001b[01;32mroot@server1\u001b[00m:\u001b[01;34m~\u001b[00m# "
          ]
        }
      ],
      "source": [
        "!ssh -v server1"
      ]
    }
  ],
  "metadata": {
    "kernelspec": {
      "display_name": "base",
      "language": "python",
      "name": "python3"
    },
    "language_info": {
      "codemirror_mode": {
        "name": "ipython",
        "version": 3
      },
      "file_extension": ".py",
      "mimetype": "text/x-python",
      "name": "python",
      "nbconvert_exporter": "python",
      "pygments_lexer": "ipython3",
      "version": "3.7.6"
    },
    "maximofn": {
      "date": "2023-03-18",
      "description_en": "Connecting securely is essential in today's digital world. Discover how SSH allows you to establish encrypted communications between your machine and remote servers. From basic concepts to advanced tips, dive into this comprehensive tutorial and master the craft of SSH. \ud83d\udd10 \ud83d\udcbc #SSHSecure",
      "description_es": "Conectarse de manera segura es esencial en el mundo digital de hoy. Descubre c\u00f3mo SSH te permite establecer comunicaciones cifradas entre tu m\u00e1quina y servidores remotos. Desde conceptos b\u00e1sicos hasta consejos avanzados, sum\u00e9rgete en este completo tutorial y domina la artesan\u00eda del SSH. \ud83d\udd10 \ud83d\udcbc #SSHSeguro",
      "description_pt": "Conectar-se com seguran\u00e7a \u00e9 essencial no mundo digital de hoje. Descubra como o SSH permite que voc\u00ea estabele\u00e7a comunica\u00e7\u00f5es criptografadas entre sua m\u00e1quina e servidores remotos. Do b\u00e1sico \u00e0s dicas avan\u00e7adas, mergulhe neste tutorial abrangente e domine a arte do SSH. \ud83d\udd10 \ud83d\udcbc #SSHSecure",
      "end_url": "ssh",
      "image": "https://pub-fb664c455eca46a2ba762a065ac900f7.r2.dev/SSH.webp",
      "image_hover_path": "https://pub-fb664c455eca46a2ba762a065ac900f7.r2.dev/SSH.webp",
      "keywords_en": "ssh, secure, connection, remote, server, terminal, linux, tutorial, guide",
      "keywords_es": "ssh, seguro, conexi\u00f3n, remoto, servidor, terminal, linux, tutorial, gu\u00eda",
      "keywords_pt": "ssh, seguro, conex\u00e3o, remoto, servidor, terminal, linux, tutorial, guia",
      "title_en": "SSH",
      "title_es": "SSH",
      "title_pt": "SSH"
    },
    "orig_nbformat": 4,
    "vscode": {
      "interpreter": {
        "hash": "d5745ab6aba164e1152437c779991855725055592b9f2bdb41a4825db7168d26"
      }
    }
  },
  "nbformat": 4,
  "nbformat_minor": 2
}