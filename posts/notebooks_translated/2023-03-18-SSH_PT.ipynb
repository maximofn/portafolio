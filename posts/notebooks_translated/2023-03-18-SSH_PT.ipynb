{
  "cells": [
  {
      "attachments": {},
      "cell_type": "markdown",
      "metadata": {},
      "source": [
      "# SSH"
      ]
    },
{
      "attachments": {},
      "cell_type": "markdown",
      "metadata": {},
      "source": [
      "## Introdução histórica"
      ]
    },
{
      "attachments": {},
      "cell_type": "markdown",
      "metadata": {},
      "source": [
      "Este caderno foi traduzido automaticamente para torná-lo acessível a mais pessoas, por favor me avise se você vir algum erro de digitação..\n",
"\n",
"Nos primeiros tempos da Internet, o protocolo \"rede\" foi criado para poder se comunicar entre vários computadores, mas tinha o problema de não ser criptografado, de modo que qualquer um que se atravessasse no caminho poderia ler a comunicação sem qualquer problema, por isso foi criado o \"SSH\" (Secure Shell)."
      ]
    },
{
      "attachments": {},
      "cell_type": "markdown",
      "metadata": {},
      "source": [
      "## `SSH` criptografia"
      ]
    },
{
      "attachments": {},
      "cell_type": "markdown",
      "metadata": {},
      "source": [
      "O sistema de codificação `SSH` funciona com base em uma chave pública/chave privada, de modo que se a comunicação for criptografada com uma das duas chaves, ela só poderá ser descriptografada pela outra chave.\n",
"\n",
"E por que existe uma chave pública e uma chave privada? A chave pública é aquela que você dá a todos e a chave privada é aquela que só você tem que possuir.\n",
"\n",
"Portanto, se você quiser se comunicar com outro computador por `SSH`, primeiro você lhes dá sua chave pública, depois você criptografa a mensagem com sua chave privada e eles só podem decodificar a mensagem com a chave pública que você deu para o outro computador.\n",
"\n",
"O mesmo acontece ao contrário, se o outro computador quiser lhe enviar uma mensagem, ele a codifica com sua chave pública e só pode decodificá-la com a chave privada que só você tem."
      ]
    },
{
      "attachments": {},
      "cell_type": "markdown",
      "metadata": {},
      "source": [
      "## `SSH` requisitos"
      ]
    },
{
      "attachments": {},
      "cell_type": "markdown",
      "metadata": {},
      "source": [
      "### Serviço `SSH`##"
      ]
    },
{
      "attachments": {},
      "cell_type": "markdown",
      "metadata": {},
      "source": [
      "Para utilizar o `SSH` você precisa ter um serviço `SSH`. No `Linux` ele normalmente já está instalado, mas se não estiver, você pode instalá-lo através de"
      ]
    },
{
      "cell_type": "code",
      "execution_count": 8,
      "metadata": {},
      "outputs": [],
      "source": [
      "!apt install openssh-server"
      ]
    },
{
      "attachments": {},
      "cell_type": "markdown",
      "metadata": {},
      "source": [
      "Durante o processo de instalação, você será solicitado a definir o fuso horário."
      ]
    },
{
      "attachments": {},
      "cell_type": "markdown",
      "metadata": {},
      "source": [
      "Em seguida, levantamos o serviço"
      ]
    },
{
      "cell_type": "code",
      "execution_count": 8,
      "metadata": {},
      "outputs": [],
      "source": [
      "!systemctl enable ssh"
      ]
    },
{
      "attachments": {},
      "cell_type": "markdown",
      "metadata": {},
      "source": [
      "### Cliente `SSH`##"
      ]
    },
{
      "attachments": {},
      "cell_type": "markdown",
      "metadata": {},
      "source": [
      "Uma vez que você tenha o serviço que precisa, embora em \"Linux\" ele geralmente vem instalado, mas se não o tiver, você pode instalá-lo através de"
      ]
    },
{
      "cell_type": "code",
      "execution_count": 8,
      "metadata": {},
      "outputs": [],
      "source": [
      "!apt install openssh-client"
      ]
    },
{
      "attachments": {},
      "cell_type": "markdown",
      "metadata": {},
      "source": [
      "## `SSH` conexão"
      ]
    },
{
      "attachments": {},
      "cell_type": "markdown",
      "metadata": {},
      "source": [
      "Para conectar via `SSH` você precisa entrar com o comando `ssh <user>@<ip>`."
      ]
    },
{
      "cell_type": "code",
      "execution_count": 8,
      "metadata": {},
      "outputs": [
      {
          "name": "stdout",
          "output_type": "stream",
          "text": [
          "The authenticity of host '172.17.0.1 (172.17.0.1)' can't be established.\n",
"ECDSA key fingerprint is SHA256:M+qsqSC4HiYztm1ij8iDkh9KHJz+pxrTm9GTZIf2N9k.\n",
"Are you sure you want to continue connecting (yes/no/[fingerprint])?\n"
          ]
        }
      ],
      "source": [
      "!ssh root@172.17.0.1"
      ]
    },
{
      "attachments": {},
      "cell_type": "markdown",
      "metadata": {},
      "source": [
      "Como você pode ver, a primeira vez que ele pergunta se você quer salvar a \"impressão digital\", isto é para que se da próxima vez que você se conectar à mesma máquina (à mesma chave pública) se a \"impressão digital\" tiver mudado, você tenha cuidado, pois pode haver algo perigoso, como eles fazerem um hack naquela máquina.\n",
"\n",
"Se dependermos de \"sim\", entramos em \"sim\"."
      ]
    },
{
      "cell_type": "code",
      "execution_count": 8,
      "metadata": {},
      "outputs": [
      {
          "name": "stdout",
          "output_type": "stream",
          "text": [
          "The authenticity of host '172.17.0.1 (172.17.0.1)' can't be established.\n",
"ECDSA key fingerprint is SHA256:M+qsqSC4HiYztm1ij8iDkh9KHJz+pxrTm9GTZIf2N9k.\n",
"Are you sure you want to continue connecting (yes/no/[fingerprint])? yes\n",
"Warning: Permanently added '172.17.0.1' (ECDSA) to the list of known hosts.\n",
"root@172.17.0.1's password:\n"
          ]
        }
      ],
      "source": [
      "!ssh root@172.17.0.1"
      ]
    },
{
      "attachments": {},
      "cell_type": "markdown",
      "metadata": {},
      "source": [
      "Em seguida, a máquina à qual nos conectamos nos pede a senha, nós a introduzimos e estaremos dentro da máquina."
      ]
    },
{
      "cell_type": "code",
      "execution_count": 8,
      "metadata": {},
      "outputs": [
      {
          "name": "stdout",
          "output_type": "stream",
          "text": [
          "The authenticity of host '172.17.0.1 (172.17.0.1)' can't be established.\n",
"ECDSA key fingerprint is SHA256:M+qsqSC4HiYztm1ij8iDkh9KHJz+pxrTm9GTZIf2N9k.\n",
"Are you sure you want to continue connecting (yes/no/[fingerprint])? yes\n",
"Warning: Permanently added '172.17.0.1' (ECDSA) to the list of known hosts.\n",
"root@172.17.0.1's password: \n",
"Welcome to Ubuntu 20.04.5 LTS (GNU/Linux 5.15.0-58-generic x86_64)\n",
"\n",
" * Documentation:  https://help.ubuntu.com\n",
" * Management:     https://landscape.canonical.com\n",
" * Support:        https://ubuntu.com/advantage\n",
"\n",
"1 device has a firmware upgrade available.\n",
"Run `fwupdmgr get-upgrades` for more information.\n",
"\n",
"\n",
" * Introducing Expanded Security Maintenance for Applications.\n",
"   Receive updates to over 25,000 software packages with your\n",
"   Ubuntu Pro subscription. Free for personal use.\n",
"\n",
"     https://ubuntu.com/pro\n",
"\n",
"Se pueden aplicar 0 actualizaciones de forma inmediata.\n",
"\n",
"Your Hardware Enablement Stack (HWE) is supported until April 2025.\n",
"Last login: Thu Dec  1 16:32:23 2022 from 127.0.0.1\n",
"root@172.17.0.1:~$\n"
          ]
        }
      ],
      "source": [
      "!ssh root@172.17.0.1"
      ]
    },
{
      "attachments": {},
      "cell_type": "markdown",
      "metadata": {},
      "source": [
      "## Conexão sem senha"
      ]
    },
{
      "attachments": {},
      "cell_type": "markdown",
      "metadata": {},
      "source": [
      "Como vimos, quando nos conectamos é-nos pedida a senha da máquina de destino, mas se for uma máquina à qual vamos nos conectar a muito, podemos fazê-lo de modo que não nos seja pedida a senha toda vez que quisermos nos conectar."
      ]
    },
{
      "attachments": {},
      "cell_type": "markdown",
      "metadata": {},
      "source": [
      "Para eles, primeiro geramos uma chave `ssh` utilizando `ssh-keygen`."
      ]
    },
{
      "cell_type": "code",
      "execution_count": 8,
      "metadata": {},
      "outputs": [
      {
          "name": "stdout",
          "output_type": "stream",
          "text": [
          "Generating public/private rsa key pair.\n",
"Enter file in which to save the key (/root/.ssh/id_rsa): \n",
"Enter passphrase (empty for no passphrase): \n",
"Enter same passphrase again: \n",
"Your identification has been saved in /root/.ssh/id_rsa\n",
"Your public key has been saved in /root/.ssh/id_rsa.pub\n",
"The key fingerprint is:\n",
"SHA256:4HxRXkVkcK5kNXNyzakfQ6t8a24wRGCUYz4s5KL5ZEc root@e108f6f395b3\n",
"The key's randomart image is:\n",
"+---[RSA 3072]----+\n",
"|          o+==@.=|\n",
"|         +.= * Oo|\n",
"|      . + = = + .|\n",
"|     o o E * + + |\n",
"|      = S . = o o|\n",
"|     o + .   = o |\n",
"|      + .     + .|\n",
"|       .       + |\n",
"|              +. |\n",
"+----[SHA256]-----+\n"
          ]
        }
      ],
      "source": [
      "!ssh-keygen"
      ]
    },
{
      "attachments": {},
      "cell_type": "markdown",
      "metadata": {},
      "source": [
      "Como podemos ver, primeiro ele nos pergunta onde queremos salvar a chave, se não entrarmos nada, ele a salva no caminho padrão. E depois uma frase para gerar a chave, ** se você escrever uma frase você deve sempre lembrar-se dela***. Também se você escrever uma frase, ela pedirá por ela toda vez que tentar acessar a chave, então toda vez que quisermos acessar a máquina através do `SSH`, ela não pedirá a senha da máquina, mas pedirá por esta frase. Então você escolhe se não digitar uma frase para que ela nunca a peça, ou se você a digitar e sempre a digitará."
      ]
    },
{
      "attachments": {},
      "cell_type": "markdown",
      "metadata": {},
      "source": [
      "Em seguida, pedimos à máquina remota que salve nossa chave utilizando `ssh-copy-id <user>@<id>:`."
      ]
    },
{
      "cell_type": "code",
      "execution_count": 8,
      "metadata": {},
      "outputs": [
      {
          "name": "stdout",
          "output_type": "stream",
          "text": [
          "/usr/bin/ssh-copy-id: INFO: Source of key(s) to be installed: \"/root/.ssh/id_rsa.pub\"\n",
"/usr/bin/ssh-copy-id: INFO: attempting to log in with the new key(s), to filter out any that are already installed\n",
"/usr/bin/ssh-copy-id: INFO: 1 key(s) remain to be installed -- if you are prompted now it is to install the new keys\n",
"root@172.17.0.1's password: \n",
"\n",
"Number of key(s) added: 1\n",
"\n",
"Now try logging into the machine, with:   \"ssh 'root@172.17.0.1'\"\n",
"and check to make sure that only the key(s) you wanted were added.\n",
"\n",
"root@103b6040196a:/# ssh root@172.17.0.1\n",
"Welcome to Ubuntu 20.04.5 LTS (GNU/Linux 5.15.0-58-generic x86_64)\n",
"\n",
" * Documentation:  https://help.ubuntu.com\n",
" * Management:     https://landscape.canonical.com\n",
" * Support:        https://ubuntu.com/advantage\n",
"\n",
"4 devices have a firmware upgrade available.\n",
"Run `fwupdmgr get-upgrades` for more information.\n",
"\n",
"\n",
"58 updates can be applied immediately.\n",
"41 of these updates are standard security updates.\n",
"To see these additional updates run: apt list --upgradable\n",
"\n",
"New release '22.04.1 LTS' available.\n",
"Run 'do-release-upgrade' to upgrade to it.\n",
"\n",
"Your Hardware Enablement Stack (HWE) is supported until April 2025.\n",
"Last login: Thu Feb  2 08:05:48 2023 from 172.17.0.2\n",
"(base) root@172.17.0.1:~$\n"
          ]
        }
      ],
      "source": [
      "!ssh-copy-id root@172.17.0.1:"
      ]
    },
{
      "attachments": {},
      "cell_type": "markdown",
      "metadata": {},
      "source": [
      "## Utilize o terminal remoto via `SSH`."
      ]
    },
{
      "attachments": {},
      "cell_type": "markdown",
      "metadata": {},
      "source": [
      "Talvez não precisemos entrar na máquina remota porque só precisamos executar um único comando, para que possamos utilizar remotamente seu terminal adicionando a bandeira `-t' ao comando `SSH', ou seja, por `ssh -t <user>@<id> <command>``."
      ]
    },
{
      "cell_type": "code",
      "execution_count": 8,
      "metadata": {},
      "outputs": [
      {
          "name": "stdout",
          "output_type": "stream",
          "text": [
          "PING google.com (172.217.168.174) 56(84) bytes of data.\n",
"64 bytes from mad07s10-in-f14.1e100.net (172.217.168.174): icmp_seq=1 ttl=111 time=2.94 ms\n",
"64 bytes from mad07s10-in-f14.1e100.net (172.217.168.174): icmp_seq=2 ttl=111 time=2.55 ms\n",
"64 bytes from mad07s10-in-f14.1e100.net (172.217.168.174): icmp_seq=3 ttl=111 time=2.78 ms\n",
"64 bytes from mad07s10-in-f14.1e100.net (172.217.168.174): icmp_seq=4 ttl=111 time=2.69 ms\n",
"\n",
"--- google.com ping statistics ---\n",
"4 packets transmitted, 4 received, 0% packet loss, time 3005ms\n",
"rtt min/avg/max/mdev = 2.550/2.739/2.940/0.142 ms\n",
"Connection to 172.17.0.1 closed.\n"
          ]
        }
      ],
      "source": [
      "!ssh -t root@172.17.0.1 ping -c 4 google.com"
      ]
    },
{
      "attachments": {},
      "cell_type": "markdown",
      "metadata": {},
      "source": [
      "Como você pode ver, o comando é realizado na máquina remota e quando termina, a última linha nos diz que a conexão está fechada."
      ]
    },
{
      "attachments": {},
      "cell_type": "markdown",
      "metadata": {},
      "source": [
      "## Proxy `SSH`"
      ]
    },
{
      "attachments": {},
      "cell_type": "markdown",
      "metadata": {},
      "source": [
      "Se você estiver navegando em um lugar que não seja muito seguro, ou em um lugar que tenha um proxy que não lhe permita acessar algumas portas, você pode navegar através do proxy de outra máquina utilizando `SSH`, isto pode ser feito adicionando a bandeira `-D` e a porta que você deseja conectar ao proxy remoto, como a porta para o `tcp/ip` é `9999` o comando poderia parecer `ssh -D 9999 <user>@<id>``."
      ]
    },
{
      "attachments": {},
      "cell_type": "markdown",
      "metadata": {},
      "source": [
      "Para que isto pareça melhor, antes de eu executar isto eu recebo meu IP desonesto"
      ]
    },
{
      "cell_type": "code",
      "execution_count": 2,
      "metadata": {},
      "outputs": [
      {
          "name": "stdout",
          "output_type": "stream",
          "text": [
          "188.127.184.59"
          ]
        }
      ],
      "source": [
      "!curl ifconfig.me"
      ]
    },
{
      "attachments": {},
      "cell_type": "markdown",
      "metadata": {},
      "source": [
      "Eu agora uso o proxy de um servidor web que eu instalei"
      ]
    },
{
      "cell_type": "code",
      "execution_count": 8,
      "metadata": {},
      "outputs": [
      {
          "name": "stdout",
          "output_type": "stream",
          "text": [
          "Welcome to Ubuntu 22.04.1 LTS (GNU/Linux 5.15.0-53-generic x86_64)\n",
"\n",
" * Documentation:  https://help.ubuntu.com\n",
" * Management:     https://landscape.canonical.com\n",
" * Support:        https://ubuntu.com/advantage\n",
"\n",
"  System information as of Wed Feb 22 06:08:51 AM UTC 2023\n",
"\n",
"  System load:           0.02978515625\n",
"  Usage of /:            11.7% of 24.53GB\n",
"  Memory usage:          33%\n",
"  Swap usage:            0%\n",
"  Processes:             89\n",
"  Users logged in:       0\n",
"  IPv4 address for eth0: 194.62.99.222\n",
"  IPv4 address for eth1: 10.7.0.168\n",
"  IPv6 address for eth2: 2a04:3542:8000:1000:d48a:cbff:fefb:5b1\n",
"\n",
"\n",
"0 updates can be applied immediately.\n",
"\n",
"\n",
"The list of available updates is more than a week old.\n",
"To check for new updates run: sudo apt update\n",
"\n",
"Last login: Wed Feb 22 06:02:35 2023 from 188.127.184.59\n",
"root@server1:~#\n"
          ]
        }
      ],
      "source": [
      "!ssh -D 9999 root@194.62.99.222"
      ]
    },
{
      "attachments": {},
      "cell_type": "markdown",
      "metadata": {},
      "source": [
      "Alterar as configurações de proxy do meu computador\n",
"\n",
"![proxy ssh](https://maximofn.com/wp-content/uploads/2023/02/proxy_ssh.png)"
      ]
    },
{
      "attachments": {},
      "cell_type": "markdown",
      "metadata": {},
      "source": [
      "Agora eu olho novamente para meu IP público, mas tomando o proxy recém-configurado"
      ]
    },
{
      "cell_type": "code",
      "execution_count": 8,
      "metadata": {},
      "outputs": [
      {
          "name": "stdout",
          "output_type": "stream",
          "text": [
          "194.62.99.222"
          ]
        }
      ],
      "source": [
      "!curl -x socks5h://localhost:9999 ifconfig.me"
      ]
    },
{
      "attachments": {},
      "cell_type": "markdown",
      "metadata": {},
      "source": [
      "Vemos que obtemos o IP público do servidor"
      ]
    },
{
      "attachments": {},
      "cell_type": "markdown",
      "metadata": {},
      "source": [
      "## Interface gráfica de usuário remota via `SSH`."
      ]
    },
{
      "attachments": {},
      "cell_type": "markdown",
      "metadata": {},
      "source": [
      "No linux a interface gŕafica é um servidor, portanto, podemos aproveitar isso e executar programas com interfaces gráficas que estão em uma máquina remota sobre `SSH`, utilizando a bandeira `-X`. O comando seria `ssh -X <user>@<id>``."
      ]
    },
{
      "attachments": {},
      "cell_type": "markdown",
      "metadata": {},
      "source": [
      "Primeiro faço login em meu servidor e instalo 'xeyes' utilizando 'sudo apt install x11-apps' e depois o executo remotamente a partir de meu computador."
      ]
    },
{
      "cell_type": "code",
      "execution_count": 8,
      "metadata": {},
      "outputs": [
      {
          "name": "stdout",
          "output_type": "stream",
          "text": [
          "Welcome to Ubuntu 22.04.1 LTS (GNU/Linux 5.15.0-53-generic x86_64)\n",
"\n",
"Last login: Wed Feb 22 06:39:52 2023 from 188.127.184.59\n",
"/usr/bin/xauth:  file /root/.Xauthority does not exist\n",
"root@server1:~sudo apt install x11-apps\n",
"root@server1:~#xeyes\n"
          ]
        }
      ],
      "source": [
      "!ssh -X root@194.62.99.222"
      ]
    },
{
      "attachments": {},
      "cell_type": "markdown",
      "metadata": {},
      "source": [
      "Agora em meu computador a janela \"olhos\" se abre, mas não está rodando no meu computador.\n",
"\n",
"![xeyes](https://maximofn.com/wp-content/uploads/2023/02/xeyes.png)"
      ]
    },
{
      "attachments": {},
      "cell_type": "markdown",
      "metadata": {},
      "source": [
      "## Túnel `SSH`"
      ]
    },
{
      "attachments": {},
      "cell_type": "markdown",
      "metadata": {},
      "source": [
      "Como disse, criei um servidor ao qual tenho acesso ssh."
      ]
    },
{
      "cell_type": "code",
      "execution_count": 8,
      "metadata": {},
      "outputs": [
      {
          "name": "stdout",
          "output_type": "stream",
          "text": [
          "Welcome to Ubuntu 22.04.1 LTS (GNU/Linux 5.15.0-53-generic x86_64)\n",
"\n",
"Last login: Wed Feb 22 06:40:58 2023 from 188.127.184.59\n",
"root@server1:~#\n"
          ]
        }
      ],
      "source": [
      "!ssh root@194.62.99.222"
      ]
    },
{
      "attachments": {},
      "cell_type": "markdown",
      "metadata": {},
      "source": [
      "E também montei um segundo servidor do qual tenho acesso a partir do `servidor1`, mas sem acesso a partir do meu computador."
      ]
    },
{
      "attachments": {},
      "cell_type": "markdown",
      "metadata": {},
      "source": [
      "Tento então acessar o `server2' a partir do meu computador e descubro que não posso."
      ]
    },
{
      "cell_type": "code",
      "execution_count": 8,
      "metadata": {},
      "outputs": [
      {
          "name": "stdout",
          "output_type": "stream",
          "text": [
          "ssh: connect to host 194.62.99.235 port 22: Connection timed out\n"
          ]
        }
      ],
      "source": [
      "!ssh root@194.62.99.235"
      ]
    },
{
      "attachments": {},
      "cell_type": "markdown",
      "metadata": {},
      "source": [
      "E então eu tento acessar o `server2` do `server1` e vejo que posso."
      ]
    },
{
      "cell_type": "code",
      "execution_count": 8,
      "metadata": {},
      "outputs": [
      {
          "name": "stdout",
          "output_type": "stream",
          "text": [
          "Welcome to Ubuntu 22.04.1 LTS (GNU/Linux 5.15.0-53-generic x86_64)\n",
"\n",
"Last login: Wed Feb 22 06:59:01 2023 from 10.7.0.168\n",
"root@server2:~#\n"
          ]
        }
      ],
      "source": [
      "!root@server1:~# ssh root@10.7.2.228"
      ]
    },
{
      "attachments": {},
      "cell_type": "markdown",
      "metadata": {},
      "source": [
      "Então o que criamos é um túnel do meu computador para o `server2` até o `server1`, para isso utilizamos a bandeira `-L`. Para criar o túnel você tem que indicar o porto de seu computador onde você vai criar o túnel, depois o `IP` de destino do túnel, o porto pelo qual o túnel irá passar e finalmente o dispositivo que irá criar o túnel. Pareceria assim\n",
"\n",
"\"bash\n",
"ssh -L &ltHOST PORT&gt:&ltDEST IP&gt:&ltTUNNEL PORT&gt &ltTUNNEL CREATOR USER&gt@&ltTUNNEL CREATOR IP&gt\n",
"```\n",
"\n",
"Vejamos com meu exemplo, tenho o \"servidor1\" com um \"IP público\" que podemos chamar de \"ip_pub1\" ao qual tenho acesso via \"SSH\" e um \"IP privado\" que podemos chamar de \"ip_priv1\" que está dentro da mesma rede do \"servidor2\". E eu tenho o `server2` com um `IP` público que podemos chamar de `ip_pub2` que não tenho acesso via `SSH` e um `IP` privado que podemos chamar de `ip_priv2` que está dentro da mesma rede que o `server1`.\n",
"\n",
"Primeiro eu crio o túnel\n",
"\n",
"\"bash\n",
"ssh -L host_port:ip_priv2:22 root@ip_pub1\n",
"```\n",
"\n",
"Eu criei um túnel para o `IP` privado do `server2` via o `IP` público do `server1`.\n",
"\n",
"Finalmente, para conectar ao \"servidor2\", eu me conecto através do \"localhost\" e do porto de hospedagem que declarei no túnel.\n",
"\n",
"\"bash\n",
"ssh -p 2020 root@localhost\n",
"```"
      ]
    },
{
      "attachments": {},
      "cell_type": "markdown",
      "metadata": {},
      "source": [
      "Vejamos na realidade, os \"IP's\" dos meus servidores são\n",
"\n",
" * 'servidor1':\n",
"   * IP público: `194.62.99.222`.\n",
"   *IP privado `IP`: `10.7.0.168`.\n",
" * 'servidor2':\n",
"   * IP público: `194.62.99.235'.\n",
"   *IP privado `IP`: `10.7.2.228`.\n",
"\n",
"Primeiro eu crio o túnel"
      ]
    },
{
      "cell_type": "code",
      "execution_count": 11,
      "metadata": {},
      "outputs": [
      {
          "name": "stdout",
          "output_type": "stream",
          "text": [
          "Welcome to Ubuntu 22.04.1 LTS (GNU/Linux 5.15.0-53-generic x86_64)\n",
"\n",
" * Documentation:  https://help.ubuntu.com\n",
" * Management:     https://landscape.canonical.com\n",
" * Support:        https://ubuntu.com/advantage\n",
"\n",
"  System information as of Wed Feb 22 11:13:39 AM UTC 2023\n",
"\n",
"  System load:           0.0\n",
"  Usage of /:            13.3% of 24.53GB\n",
"  Memory usage:          36%\n",
"  Swap usage:            0%\n",
"  Processes:             91\n",
"  Users logged in:       1\n",
"  IPv4 address for eth0: 194.62.99.222\n",
"  IPv4 address for eth1: 10.7.0.168\n",
"  IPv6 address for eth2: 2a04:3542:8000:1000:d48a:cbff:fefb:5b1\n",
"\n",
"\n",
"101 updates can be applied immediately.\n",
"60 of these updates are standard security updates.\n",
"To see these additional updates run: apt list --upgradable\n",
"\n",
"\n",
"Last login: Wed Feb 22 09:29:52 2023 from 188.127.184.59\n",
"\u001b[?2004h\u001b]0;root@server1: ~\u001b[01;32mroot@server1\u001b[00m:\u001b[01;34m~\u001b[00m# ^C\u001b[?2004l\n",
"\u001b[?2004l\n",
"\u001b[?2004h\u001b]0;root@server1: ~\u001b[01;32mroot@server1\u001b[00m:\u001b[01;34m~\u001b[00m# "
          ]
        }
      ],
      "source": [
      "!ssh -L 2020:10.7.2.228:22 root@194.62.99.222"
      ]
    },
{
      "attachments": {},
      "cell_type": "markdown",
      "metadata": {},
      "source": [
      "Com o túnel criado, agora posso me conectar ao `server2` a partir do meu computador."
      ]
    },
{
      "cell_type": "code",
      "execution_count": 12,
      "metadata": {},
      "outputs": [
      {
          "name": "stdout",
          "output_type": "stream",
          "text": [
          "Welcome to Ubuntu 22.04.1 LTS (GNU/Linux 5.15.0-53-generic x86_64)\n",
"\n",
" * Documentation:  https://help.ubuntu.com\n",
" * Management:     https://landscape.canonical.com\n",
" * Support:        https://ubuntu.com/advantage\n",
"\n",
"  System information as of Wed Feb 22 11:14:15 AM UTC 2023\n",
"\n",
"  System load:           0.0\n",
"  Usage of /:            13.3% of 24.53GB\n",
"  Memory usage:          33%\n",
"  Swap usage:            0%\n",
"  Processes:             90\n",
"  Users logged in:       0\n",
"  IPv4 address for eth0: 194.62.99.235\n",
"  IPv4 address for eth1: 10.7.2.228\n",
"  IPv6 address for eth2: 2a04:3542:8000:1000:d48a:cbff:fefb:7f47\n",
"\n",
" * Strictly confined Kubernetes makes edge and IoT secure. Learn how MicroK8s\n",
"   just raised the bar for easy, resilient and secure K8s cluster deployment.\n",
"\n",
"   https://ubuntu.com/engage/secure-kubernetes-at-the-edge\n",
"\n",
"101 updates can be applied immediately.\n",
"60 of these updates are standard security updates.\n",
"To see these additional updates run: apt list --upgradable\n",
"\n",
"\n",
"Last login: Wed Feb 22 11:14:16 2023 from 10.7.0.168\n",
"\u001b[?2004h\u001b]0;root@server2: ~\u001b[01;32mroot@server2\u001b[00m:\u001b[01;34m~\u001b[00m# ^C\u001b[?2004l\n",
"\u001b[?2004l\n",
"\u001b[?2004h\u001b]0;root@server2: ~\u001b[01;32mroot@server2\u001b[00m:\u001b[01;34m~\u001b[00m# "
          ]
        }
      ],
      "source": [
      "!ssh -p 2020 root@localhost"
      ]
    },
{
      "attachments": {},
      "cell_type": "markdown",
      "metadata": {},
      "source": [
      "## Conexão reversa"
      ]
    },
{
      "attachments": {},
      "cell_type": "markdown",
      "metadata": {},
      "source": [
      "Vamos supor novamente que eu quero me conectar ao 'servidor2', mas agora eu não posso, por qualquer razão, fazer um túnel a partir do 'servidor1'. O que podemos fazer é criar uma conexão reversa a partir de outro servidor.\n",
"\n",
"Suponha que eu tenha um terceiro servidor, chamado `server3`, que é acessível por `SSH` de ambos os lados, ou seja, tanto eu do meu computador quanto o `server2` temos acesso. Assim, se pudermos acessar fisicamente o `server2`, uma conexão reversa pode ser feita do `server2` para o `server3`.\n",
"\n",
"```\n",
"ssh -R &ltserver3port&gt:localhost:22 root@&ltIPserver3&gt\n",
"```\n",
"\n",
"Com isso, o que eu fiz foi permitir uma conexão do \"servidor3\" ao \"servidor2\" (o que não era possível antes), através do \"localhost\" e do \"servidor3port\" do \"servidor3\".\n",
"\n",
"Agora do meu computador posso me conectar ao \"servidor3\" e do \"servidor3\" podemos nos conectar ao \"servidor2\" por meio de\n",
"\n",
"\"bash\n",
"ssh -p &ltserver3port&gt root@localhost\n",
"```"
      ]
    },
{
      "attachments": {},
      "cell_type": "markdown",
      "metadata": {},
      "source": [
      "Vamos dar uma olhada nos dados dos meus servidores\n",
"\n",
"* 'servidor2':\n",
"   * IP público: `194.62.99.235'.\n",
" * Servidor3:\n",
"   * IP público: `194.62.96.236'."
      ]
    },
{
      "attachments": {},
      "cell_type": "markdown",
      "metadata": {},
      "source": [
      "Primeiro faço a conexão inversa do `servidor2` para o `servidor3`."
      ]
    },
{
      "cell_type": "code",
      "execution_count": 8,
      "metadata": {},
      "outputs": [
      {
          "name": "stdout",
          "output_type": "stream",
          "text": [
          "Welcome to Ubuntu 22.04.1 LTS (GNU/Linux 5.15.0-53-generic x86_64)\n",
"\n",
"Last login: Wed Feb 22 15:25:58 2023 from 188.127.184.59\n",
"root@server3:~#\n"
          ]
        }
      ],
      "source": [
      "!root@server2:~# ssh -R 2020:localhost:22 root@194.62.96.236"
      ]
    },
{
      "attachments": {},
      "cell_type": "markdown",
      "metadata": {},
      "source": [
      "Agora eu me conecto ao `server3`."
      ]
    },
{
      "cell_type": "code",
      "execution_count": 8,
      "metadata": {},
      "outputs": [
      {
          "name": "stdout",
          "output_type": "stream",
          "text": [
          "Welcome to Ubuntu 22.04.1 LTS (GNU/Linux 5.15.0-53-generic x86_64)\n",
"\n",
"Last login: Wed Feb 22 15:12:19 2023 from 188.127.184.59\n",
"root@server3:~#\n"
          ]
        }
      ],
      "source": [
      "!ssh root@194.62.96.236"
      ]
    },
{
      "attachments": {},
      "cell_type": "markdown",
      "metadata": {},
      "source": [
      "E agora que estou no 'servidor3', me conecto ao 'servidor2'."
      ]
    },
{
      "cell_type": "code",
      "execution_count": 8,
      "metadata": {},
      "outputs": [
      {
          "name": "stdout",
          "output_type": "stream",
          "text": [
          "Welcome to Ubuntu 22.04.1 LTS (GNU/Linux 5.15.0-53-generic x86_64)\n",
"\n",
"Last login: Wed Feb 22 15:12:07 2023 from 188.127.184.59\n",
"root@server2:~#\n"
          ]
        }
      ],
      "source": [
      "!root@server3:~# ssh -p 2020 root@localhost"
      ]
    },
{
      "attachments": {},
      "cell_type": "markdown",
      "metadata": {},
      "source": [
      "Sucesso! Através do meu computador não posso me conectar diretamente ao \"servidor2\", mas ao me conectar ao \"servidor3\" consegui acessar o \"servidor2\" graças à conexão inversa que fiz do \"servidor2\" para o \"servidor3\"."
      ]
    },
{
      "attachments": {},
      "cell_type": "markdown",
      "metadata": {},
      "source": [
      "## Saltar"
      ]
    },
{
      "attachments": {},
      "cell_type": "markdown",
      "metadata": {},
      "source": [
      "Finalmente, outra maneira de fazer o login no \"servidor2\" é fazer o login no \"servidor1\" e depois do \"servidor1\" fazer o login no \"servidor2\". Mas isto é um pouco complicado, porque primeiro você tem que fazer uma conexão `SSH` ao `server1` e depois outra ao `server2`, então para fazer tudo de uma só vez você pode usar a bandeira `-J` (`jump`), ou seja, `ssh -J server1 server2` seria `ssh -J server1 server2`."
      ]
    },
{
      "attachments": {},
      "cell_type": "markdown",
      "metadata": {},
      "source": [
      "Resumem, primeiro faríamos `ssh root@194.62.99.222` e depois `ssh root@10.7.2.228` (já que dentro do `server1` nos conectamos ao `server2` através do `IP` privado).\n",
"\n",
"Assim, poderíamos fazer tudo de uma só vez, fazendo `ssh -J root@194.62.99.222 root@10.7.2.228`\n",
"\n",
"Vamos tentar"
      ]
    },
{
      "cell_type": "code",
      "execution_count": 8,
      "metadata": {},
      "outputs": [
      {
          "name": "stdout",
          "output_type": "stream",
          "text": [
          "Welcome to Ubuntu 22.04.1 LTS (GNU/Linux 5.15.0-60-generic x86_64)\n",
"\n",
"Last login: Fri Feb 24 06:46:11 2023 from 10.7.0.168\n",
"root@server2:~#\n"
          ]
        }
      ],
      "source": [
      "!ssh -J root@194.62.99.222 root@10.7.2.228"
      ]
    },
{
      "attachments": {},
      "cell_type": "markdown",
      "metadata": {},
      "source": [
      "Fomos capazes de fazer os saltos!"
      ]
    },
{
      "attachments": {},
      "cell_type": "markdown",
      "metadata": {},
      "source": [
      "## Arquivo de configuração `SSH` do usuário"
      ]
    },
{
      "attachments": {},
      "cell_type": "markdown",
      "metadata": {},
      "source": [
      "### Dispositivos com pseudônimos"
      ]
    },
{
      "attachments": {},
      "cell_type": "markdown",
      "metadata": {},
      "source": [
      "Em cada computador há um arquivo de configuração para o `SSH` que normalmente está localizado na pasta do usuário."
      ]
    },
{
      "cell_type": "code",
      "execution_count": 2,
      "metadata": {},
      "outputs": [
      {
          "name": "stdout",
          "output_type": "stream",
          "text": [
          "# Read more about SSH config files: https://linux.die.net/man/5/ssh_config\n",
"Host 192.168.1.138\n",
"    HostName 192.168.1.138\n",
"    User maximo.fernandez\n"
          ]
        }
      ],
      "source": [
      "!cat ~/.ssh/config"
      ]
    },
{
      "attachments": {},
      "cell_type": "markdown",
      "metadata": {},
      "source": [
      "Neste arquivo eu salvei o usuário e o ip de alguns dos dispositivos aos quais costumo me conectar para não ter que preencher tudo sozinho. Vamos ver isso com os servidores que tenho\n",
"\n",
"Meu servidor `server1` tem o usuário `root` e o IP `194.62.99.222`, então eu o adiciono à lista"
      ]
    },
{
      "cell_type": "code",
      "execution_count": 8,
      "metadata": {},
      "outputs": [],
      "source": [
      "!echo \"Host server1\\n    HostName 194.62.99.222\\n    User root\" >> ~/.ssh/config"
      ]
    },
{
      "attachments": {},
      "cell_type": "markdown",
      "metadata": {},
      "source": [
      "Vamos dar uma outra olhada em como o arquivo de configuração se tornou"
      ]
    },
{
      "cell_type": "code",
      "execution_count": 9,
      "metadata": {},
      "outputs": [
      {
          "name": "stdout",
          "output_type": "stream",
          "text": [
          "# Read more about SSH config files: https://linux.die.net/man/5/ssh_config\n",
"Host 192.168.1.138\n",
"    HostName 192.168.1.138\n",
"    User maximo.fernandez\n",
"\n",
"Host server1\n",
"    HostName 194.62.99.222\n",
"    User root\n"
          ]
        }
      ],
      "source": [
      "!cat ~/.ssh/config"
      ]
    },
{
      "attachments": {},
      "cell_type": "markdown",
      "metadata": {},
      "source": [
      "Agora que o adicionamos para conectar ao `server1`, só precisamos fazer o `ssh server1`."
      ]
    },
{
      "cell_type": "code",
      "execution_count": 8,
      "metadata": {},
      "outputs": [
      {
          "name": "stdout",
          "output_type": "stream",
          "text": [
          "Welcome to Ubuntu 22.04.1 LTS (GNU/Linux 5.15.0-60-generic x86_64)\n",
"\n",
"Last login: Fri Feb 24 05:18:59 2023 from 188.127.184.59\n",
"root@server1:~# \n"
          ]
        }
      ],
      "source": [
      "!ssh server1 "
      ]
    },
{
      "attachments": {},
      "cell_type": "markdown",
      "metadata": {},
      "source": [
      "### Proxy"
      ]
    },
{
      "attachments": {},
      "cell_type": "markdown",
      "metadata": {},
      "source": [
      "Como já vimos, acrescentando a bandeira '-D &ltport&gt' poderíamos mudar o procurador. Para deixar isto gravado no arquivo de configuração, basta adicionar a linha `DynamicForward &ltport&gt` ao host que estamos salvando."
      ]
    },
{
      "attachments": {},
      "cell_type": "markdown",
      "metadata": {},
      "source": [
      "Repetindo o exemplo anterior onde utilizamos o `server1` como proxy para a porta `tcp/ip` (`9999`), o arquivo de configuração ficaria assim\n",
"\n",
"```\n",
"Host proxyServer1\n",
"    HostName 194.62.99.222\n",
"    Raiz do usuário\n",
"    DynamicForward 9999\n",
"```\n",
"\n",
"Nós adicionamos"
      ]
    },
{
      "cell_type": "code",
      "execution_count": 10,
      "metadata": {},
      "outputs": [],
      "source": [
      "!echo \"Host proxyServer1\\n    HostName 194.62.99.222\\n    User root\\n    DynamicForward 9999\" >> ~/.ssh/config"
      ]
    },
{
      "attachments": {},
      "cell_type": "markdown",
      "metadata": {},
      "source": [
      "Vamos ver como é o arquivo de configuração"
      ]
    },
{
      "cell_type": "code",
      "execution_count": 11,
      "metadata": {},
      "outputs": [
      {
          "name": "stdout",
          "output_type": "stream",
          "text": [
          "# Read more about SSH config files: https://linux.die.net/man/5/ssh_config\n",
"Host 192.168.1.138\n",
"    HostName 192.168.1.138\n",
"    User maximo.fernandez\n",
"\n",
"Host server1\n",
"    HostName 194.62.99.222\n",
"    User root\n",
"Host proxyServer1\n",
"    HostName 194.62.99.222\n",
"    User root\n",
"    DynamicForward 9999\n"
          ]
        }
      ],
      "source": [
      "!cat ~/.ssh/config"
      ]
    },
{
      "attachments": {},
      "cell_type": "markdown",
      "metadata": {},
      "source": [
      "Eu recebo meu `IP` público'."
      ]
    },
{
      "cell_type": "code",
      "execution_count": 12,
      "metadata": {},
      "outputs": [
      {
          "name": "stdout",
          "output_type": "stream",
          "text": [
          "188.127.184.59"
          ]
        }
      ],
      "source": [
      "!curl ifconfig.me"
      ]
    },
{
      "attachments": {},
      "cell_type": "markdown",
      "metadata": {},
      "source": [
      "Eu me conecto ao servidor proxy"
      ]
    },
{
      "cell_type": "code",
      "execution_count": 8,
      "metadata": {},
      "outputs": [
      {
          "name": "stdout",
          "output_type": "stream",
          "text": [
          "Welcome to Ubuntu 22.04.1 LTS (GNU/Linux 5.15.0-60-generic x86_64)\n",
"\n",
"Last login: Fri Feb 24 05:42:32 2023 from 188.127.184.59\n",
"root@server1:~#\n"
          ]
        }
      ],
      "source": [
      "!ssh proxyServer1 "
      ]
    },
{
      "attachments": {},
      "cell_type": "markdown",
      "metadata": {},
      "source": [
      "Alterar as configurações de proxy do meu computador\n",
"\n",
"![proxy ssh](https://maximofn.com/wp-content/uploads/2023/02/proxy_ssh.png)"
      ]
    },
{
      "attachments": {},
      "cell_type": "markdown",
      "metadata": {},
      "source": [
      "Vejo meu `IP` público novamente, mas tomando o proxy recém-configurado"
      ]
    },
{
      "cell_type": "code",
      "execution_count": 13,
      "metadata": {},
      "outputs": [
      {
          "name": "stdout",
          "output_type": "stream",
          "text": [
          "194.62.99.222"
          ]
        }
      ],
      "source": [
      "!curl -x socks5h://localhost:9999 ifconfig.me"
      ]
    },
{
      "attachments": {},
      "cell_type": "markdown",
      "metadata": {},
      "source": [
      "Vemos que obtemos o IP público do servidor"
      ]
    },
{
      "attachments": {},
      "cell_type": "markdown",
      "metadata": {},
      "source": [
      "### Túnel SSH"
      ]
    },
{
      "attachments": {},
      "cell_type": "markdown",
      "metadata": {},
      "source": [
      "Se, como antes, eu quero criar um túnel para o `server2` via `server1`, antes tínhamos que fazer `ssh &ltHOST PORT&gt:&ltDEST IP&gt:&ltTUNNEL PORT&gt &ltTUNNEL CREATOR USER&gt@&ltTUNNEL CREATOR IP&gt`, agora temos que adicionar a linha\n",
"\n",
"\"bash\n",
"LocalForward &ltlocalhost&gt:&ltHOST PORT&gt &ltDEST IP&gt:&ltTUNNEL PORT&gt\n",
"```"
      ]
    },
{
      "attachments": {},
      "cell_type": "markdown",
      "metadata": {},
      "source": [
      "Ou seja, o arquivo de configuração ficaria assim\n",
"\n",
"```\n",
"Host tunelToServer2\n",
"    HostName 194.62.99.222\n",
"    Raiz do usuário\n",
"    LocalForward 127.0.0.0.1.1:2020 10.7.2.228:22\n",
"```"
      ]
    },
{
      "attachments": {},
      "cell_type": "markdown",
      "metadata": {},
      "source": [
      "Mas como isso não está muito claro, vamos olhar para isso em termos concretos\n",
"\n",
" * 'servidor1':\n",
"   * IP público: `194.62.99.222`.\n",
"   *IP privado `IP`: `10.7.0.168`.\n",
" * 'servidor2':\n",
"   * IP público: `194.62.99.235'.\n",
"   *IP privado `IP`: `10.7.2.228`.\n",
"\n",
"Anteriormente, o comando era\n",
"\n",
"\"bash\n",
"ssh -L 2020:10.7.2.228:22 root@194.62.99.222\n",
"```\n",
"\n",
"Portanto, o arquivo de configuração tem que ser parecido com o seguinte\n",
"\n",
"```\n",
"Host tunelToServer2\n",
"    HostName 194.62.99.222\n",
"    Raiz do usuário\n",
"    LocalForward 127.0.0.0.1.1:2020 10.7.2.228:22\n",
"```\n",
"\n",
"Vamos ver se funciona"
      ]
    },
{
      "attachments": {},
      "cell_type": "markdown",
      "metadata": {},
      "source": [
      "Adicionamos a nova configuração"
      ]
    },
{
      "cell_type": "code",
      "execution_count": 14,
      "metadata": {},
      "outputs": [],
      "source": [
      "!echo \"Host tunelToServer2\\n    HostName 194.62.99.222\\n    User root\\n    LocalForward 127.0.0.1:2020 10.7.2.228:22\" >> ~/.ssh/config"
      ]
    },
{
      "attachments": {},
      "cell_type": "markdown",
      "metadata": {},
      "source": [
      "Vamos ver como é o arquivo de configuração"
      ]
    },
{
      "cell_type": "code",
      "execution_count": 15,
      "metadata": {},
      "outputs": [
      {
          "name": "stdout",
          "output_type": "stream",
          "text": [
          "# Read more about SSH config files: https://linux.die.net/man/5/ssh_config\n",
"Host 192.168.1.138\n",
"    HostName 192.168.1.138\n",
"    User maximo.fernandez\n",
"\n",
"Host server1\n",
"    HostName 194.62.99.222\n",
"    User root\n",
"Host proxyServer1\n",
"    HostName 194.62.99.222\n",
"    User root\n",
"    DynamicForward 9999\n",
"Host tunelToServer2\n",
"    HostName 194.62.99.222\n",
"    User root\n",
"    LocalForward 127.0.0.1:2020 10.7.2.228:22\n"
          ]
        }
      ],
      "source": [
      "!cat ~/.ssh/config"
      ]
    },
{
      "attachments": {},
      "cell_type": "markdown",
      "metadata": {},
      "source": [
      "Criamos o túnel"
      ]
    },
{
      "cell_type": "code",
      "execution_count": 8,
      "metadata": {},
      "outputs": [
      {
          "name": "stdout",
          "output_type": "stream",
          "text": [
          "Welcome to Ubuntu 22.04.1 LTS (GNU/Linux 5.15.0-60-generic x86_64)\n",
"\n",
"Last login: Fri Feb 24 06:02:20 2023 from 188.127.184.59\n",
"root@server1:~#\n"
          ]
        }
      ],
      "source": [
      "!ssh tunelToServer2 "
      ]
    },
{
      "attachments": {},
      "cell_type": "markdown",
      "metadata": {},
      "source": [
      "Agora estamos tentando nos conectar ao `server2` a partir do meu computador."
      ]
    },
{
      "cell_type": "code",
      "execution_count": 8,
      "metadata": {},
      "outputs": [
      {
          "name": "stdout",
          "output_type": "stream",
          "text": [
          "Welcome to Ubuntu 22.04.1 LTS (GNU/Linux 5.15.0-60-generic x86_64)\n",
"\n",
"Last login: Fri Feb 24 06:02:36 2023 from 10.7.0.168\n",
"root@server2:~# \n"
          ]
        }
      ],
      "source": [
      "!ssh -p 2020 root@localhost"
      ]
    },
{
      "attachments": {},
      "cell_type": "markdown",
      "metadata": {},
      "source": [
      "Feito! Mas podemos tornar tudo um pouco mais limpo, podemos adicionar esta última conexão ao arquivo de configuração"
      ]
    },
{
      "cell_type": "code",
      "execution_count": 16,
      "metadata": {},
      "outputs": [],
      "source": [
      "!echo \"Host server2ByTunel\\n    HostName localhost\\n    User root\\n    Port 2020\" >> ~/.ssh/config"
      ]
    },
{
      "attachments": {},
      "cell_type": "markdown",
      "metadata": {},
      "source": [
      "Vamos ver como é o arquivo de configuração"
      ]
    },
{
      "cell_type": "code",
      "execution_count": 17,
      "metadata": {},
      "outputs": [
      {
          "name": "stdout",
          "output_type": "stream",
          "text": [
          "# Read more about SSH config files: https://linux.die.net/man/5/ssh_config\n",
"Host 192.168.1.138\n",
"    HostName 192.168.1.138\n",
"    User maximo.fernandez\n",
"\n",
"Host server1\n",
"    HostName 194.62.99.222\n",
"    User root\n",
"Host proxyServer1\n",
"    HostName 194.62.99.222\n",
"    User root\n",
"    DynamicForward 9999\n",
"Host tunelToServer2\n",
"    HostName 194.62.99.222\n",
"    User root\n",
"    LocalForward 127.0.0.1:2020 10.7.2.228:22\n",
"Host server2ByTunel\n",
"    HostName localhost\n",
"    User root\n",
"    Port 2020\n"
          ]
        }
      ],
      "source": [
      "!cat ~/.ssh/config"
      ]
    },
{
      "attachments": {},
      "cell_type": "markdown",
      "metadata": {},
      "source": [
      "Agora conectamos novamente ao `server2` a partir do meu computador, através do túnel, mas com a última configuração, acabamos de salvar."
      ]
    },
{
      "cell_type": "code",
      "execution_count": 8,
      "metadata": {},
      "outputs": [
      {
          "name": "stdout",
          "output_type": "stream",
          "text": [
          "Welcome to Ubuntu 22.04.1 LTS (GNU/Linux 5.15.0-60-generic x86_64)\n",
"\n",
"Last login: Fri Feb 24 06:13:33 2023 from 10.7.0.168\n",
"root@server2:~# \n"
          ]
        }
      ],
      "source": [
      "!ssh server2ByTunel "
      ]
    },
{
      "attachments": {},
      "cell_type": "markdown",
      "metadata": {},
      "source": [
      "Em resumo, com tudo o que fizemos, podemos criar o túnel para o `server2` com o comando `ssh tunnelToServer2` e depois conectar ao `server2` com o comando `ssh server2ByTunel`.\n",
"\n",
"Impressionante!"
      ]
    },
{
      "attachments": {},
      "cell_type": "markdown",
      "metadata": {},
      "source": [
      "#### Conexão reversa"
      ]
    },
{
      "attachments": {},
      "cell_type": "markdown",
      "metadata": {},
      "source": [
      "Lembramos que agora nosso problema era que não podíamos nos conectar ao \"servidor2\" através do túnel do \"servidor1\". Então, criando uma conexão reversa do \"servidor2\" (temos alguém no \"servidor2\" que pode fazer essa conexão reversa, ou nós mesmos a deixamos feita antes de sairmos) para um \"servidor3\", do meu computador eu posso me conectar ao \"servidor3\" e depois me conectar ao \"servidor2\"."
      ]
    },
{
      "attachments": {},
      "cell_type": "markdown",
      "metadata": {},
      "source": [
      "Primeiro temos que fazer a conexão inversa do `servidor2` para o `servidor3`. Isto poderia ser feito com um comando\n",
"\n",
"\"bash\n",
"ssh -R &ltserver3port&gt:localhost:22 root@&ltIPserver3&gt\n",
"```\n",
"\n",
"Ou salvar a conexão no arquivo de configuração, adicionando\n",
"\n",
"```\n",
"Host reverseToServer3\n",
"    HostName &ltIPserver3&gt\n",
"    Raiz do usuário\n",
"    RemoteForward &ltserver3port&gt localhost:22\n",
"```\n",
"\n",
"E fazer a conexão inversa por\n",
"\n",
"\"bash\n",
"ssh reverseToServer3\n",
"```"
      ]
    },
{
      "attachments": {},
      "cell_type": "markdown",
      "metadata": {},
      "source": [
      "Como isso não facilita a compreensão, vamos analisá-lo com dados concretos.\n",
"\n",
" * 'servidor2':\n",
"   * IP público: `194.62.99.235'.\n",
" * Servidor3:\n",
"   * IP público: `194.62.96.236'.\n",
"\n",
"Para fazer a conexão inversa, você teria que usar o comando\n",
"\n",
"\"bash\n",
"ssh -R 2020:localhost:22 root@194.62.96.236\n",
"```\n",
"\n",
"Ou salvar a seguinte configuração\n",
"\n",
"\"bash\n",
"Host reverseToServer3\n",
"    HostName 194.62.96.236\n",
"    Raiz do usuário\n",
"    RemoteForward 2020 localhost:22\n",
"```\n",
"\n",
"E conectar via\n",
"\n",
"\"bash\n",
"ssh reverseToServer3\n",
"```"
      ]
    },
{
      "attachments": {},
      "cell_type": "markdown",
      "metadata": {},
      "source": [
      "Então eu salvo a configuração no servidor 2 e faço a conexão."
      ]
    },
{
      "cell_type": "code",
      "execution_count": 8,
      "metadata": {},
      "outputs": [],
      "source": [
      "!root@server2:~# echo \"Host reverseToServer3\\n    HostName 194.62.96.236\\n    User root\\n    RemoteForward 2020 localhost:22\" >> ~/.ssh/config"
      ]
    },
{
      "attachments": {},
      "cell_type": "markdown",
      "metadata": {},
      "source": [
      "Vamos ver o que tem sido bem guardado"
      ]
    },
{
      "cell_type": "code",
      "execution_count": 8,
      "metadata": {},
      "outputs": [
      {
          "name": "stdout",
          "output_type": "stream",
          "text": [
          "\n",
"Host reverseToServer3\n",
"    HostName 194.62.96.236\n",
"    User root\n",
"    RemoteForward 2020 localhost:22\n"
          ]
        }
      ],
      "source": [
      "!root@server2:~# cat .ssh/config"
      ]
    },
{
      "attachments": {},
      "cell_type": "markdown",
      "metadata": {},
      "source": [
      "Eu faço a conexão inversa"
      ]
    },
{
      "cell_type": "code",
      "execution_count": 8,
      "metadata": {},
      "outputs": [
      {
          "name": "stdout",
          "output_type": "stream",
          "text": [
          "Welcome to Ubuntu 22.04.1 LTS (GNU/Linux 5.15.0-53-generic x86_64)\n",
"\n",
"Last login: Wed Feb 22 15:26:18 2023 from 194.62.99.235\n",
"root@server3:~# \n"
          ]
        }
      ],
      "source": [
      "!root@server2:~# ssh reverseToServer3 "
      ]
    },
{
      "attachments": {},
      "cell_type": "markdown",
      "metadata": {},
      "source": [
      "### Saltar"
      ]
    },
{
      "attachments": {},
      "cell_type": "markdown",
      "metadata": {},
      "source": [
      "Como dissemos, fizemos saltos utilizando a bandeira `-J`, de modo que com o comando `ssh -J root@194.62.99.222 root@10.7.2.228` pudemos nos conectar ao `server2`."
      ]
    },
{
      "attachments": {},
      "cell_type": "markdown",
      "metadata": {},
      "source": [
      "Há duas opções para configurar o arquivo de configuração"
      ]
    },
{
      "attachments": {},
      "cell_type": "markdown",
      "metadata": {},
      "source": [
      "A primeira é que, como já temos o `server1` salvo no arquivo de configuração, apenas adicionamos o `server2`.\n",
"\n",
"\"bash\n",
"Servidor anfitrião2\n",
"    HostName 10.7.2.228\n",
"    Raiz do usuário\n",
"```\n",
"\n",
"E então poderíamos nos conectar via\n",
"\n",
"\"bash\n",
"ssh -J server1 server2\n",
"```\n",
"\n",
"Vamos experimentar"
      ]
    },
{
      "cell_type": "code",
      "execution_count": 19,
      "metadata": {},
      "outputs": [],
      "source": [
      "!echo \"Host server2\\n    HostName 10.7.2.228\\n    User root\\n\" >> ~/.ssh/config"
      ]
    },
{
      "attachments": {},
      "cell_type": "markdown",
      "metadata": {},
      "source": [
      "Vemos o arquivo de configuração"
      ]
    },
{
      "cell_type": "code",
      "execution_count": 21,
      "metadata": {},
      "outputs": [
      {
          "name": "stdout",
          "output_type": "stream",
          "text": [
          "# Read more about SSH config files: https://linux.die.net/man/5/ssh_config\n",
"Host 192.168.1.138\n",
"    HostName 192.168.1.138\n",
"    User maximo.fernandez\n",
"\n",
"Host server1\n",
"    HostName 194.62.99.222\n",
"    User root\n",
"Host proxyServer1\n",
"    HostName 194.62.99.222\n",
"    User root\n",
"    DynamicForward 9999\n",
"Host tunelToServer2\n",
"    HostName 194.62.99.222\n",
"    User root\n",
"    LocalForward 127.0.0.1:2020 10.7.2.228:22\n",
"Host server2ByTunel\n",
"    HostName localhost\n",
"    User root\n",
"    Port 2020\n",
"Host server2\n",
"    HostName 10.7.2.228\n",
"    User root\n",
"\n"
          ]
        }
      ],
      "source": [
      "!cat ~/.ssh/config"
      ]
    },
{
      "attachments": {},
      "cell_type": "markdown",
      "metadata": {},
      "source": [
      "Agora nos conectamos através dos saltos"
      ]
    },
{
      "cell_type": "code",
      "execution_count": 8,
      "metadata": {},
      "outputs": [
      {
          "name": "stdout",
          "output_type": "stream",
          "text": [
          "Welcome to Ubuntu 22.04.1 LTS (GNU/Linux 5.15.0-60-generic x86_64)\n",
"\n",
"Last login: Fri Feb 24 12:05:16 2023 from 10.7.0.168\n",
"root@server2:~#\n"
          ]
        }
      ],
      "source": [
      "!ssh -J server1 server2"
      ]
    },
{
      "attachments": {},
      "cell_type": "markdown",
      "metadata": {},
      "source": [
      "Esta tem sido a primeira opção, para salvar cada servidor e configurar o lúpulo, mas uma segunda opção é salvar todos os lúpulos em uma única configuração, que seria parecida com esta\n",
"\n",
"\"bash\n",
"Host server2jumping\n",
"    HostName 10.7.2.228\n",
"    Raiz do usuário\n",
"    ProxyJump root@194.62.99.222\n",
"```\n",
"\n",
"Tudo o que seria necessário agora é se conectar via\n",
"\n",
"```\n",
"ssh server2jumping\n",
"```\n",
"\n",
"Vamos tentar"
      ]
    },
{
      "cell_type": "code",
      "execution_count": 22,
      "metadata": {},
      "outputs": [],
      "source": [
      "!echo \"Host server2jumping\\n    HostName 10.7.2.228\\n    User root\\n    ProxyJump root@194.62.99.222\" >> ~/.ssh/config"
      ]
    },
{
      "attachments": {},
      "cell_type": "markdown",
      "metadata": {},
      "source": [
      "Vamos dar uma olhada no arquivo de configuração"
      ]
    },
{
      "cell_type": "code",
      "execution_count": 24,
      "metadata": {},
      "outputs": [
      {
          "name": "stdout",
          "output_type": "stream",
          "text": [
          "# Read more about SSH config files: https://linux.die.net/man/5/ssh_config\n",
"Host 192.168.1.138\n",
"    HostName 192.168.1.138\n",
"    User maximo.fernandez\n",
"\n",
"Host server1\n",
"    HostName 194.62.99.222\n",
"    User root\n",
"Host proxyServer1\n",
"    HostName 194.62.99.222\n",
"    User root\n",
"    DynamicForward 9999\n",
"Host tunelToServer2\n",
"    HostName 194.62.99.222\n",
"    User root\n",
"    LocalForward 127.0.0.1:2020 10.7.2.228:22\n",
"Host server2ByTunel\n",
"    HostName localhost\n",
"    User root\n",
"    Port 2020\n",
"Host server2\n",
"    HostName 10.7.2.228\n",
"    User root\n",
"Host server2jumping\n",
"    HostName 10.7.2.228\n",
"    User root\n",
"    ProxyJump root@194.62.99.222\n"
          ]
        }
      ],
      "source": [
      "!cat ~/.ssh/config"
      ]
    },
{
      "attachments": {},
      "cell_type": "markdown",
      "metadata": {},
      "source": [
      "Agora tentamos conectar"
      ]
    },
{
      "cell_type": "code",
      "execution_count": 8,
      "metadata": {},
      "outputs": [
      {
          "name": "stdout",
          "output_type": "stream",
          "text": [
          "Welcome to Ubuntu 22.04.1 LTS (GNU/Linux 5.15.0-60-generic x86_64)\n",
"\n",
"Last login: Fri Feb 24 12:06:22 2023 from 10.7.0.168\n",
"root@server2:~# \n"
          ]
        }
      ],
      "source": [
      "!ssh server2jumping"
      ]
    },
{
      "attachments": {},
      "cell_type": "markdown",
      "metadata": {},
      "source": [
      "## Sistema `SSH` arquivo de configuração"
      ]
    },
{
      "attachments": {},
      "cell_type": "markdown",
      "metadata": {},
      "source": [
      "Anteriormente vimos o arquivo de configuração `SSH` do usuário, onde salvamos configurações de máquinas onde queríamos nos conectar via `SSH`, mas existe outro arquivo de configuração `SSH` mas neste caso do sistema, que está localizado em `/etc/ssh/ssh_config`, vamos dar uma olhada nele."
      ]
    },
{
      "cell_type": "code",
      "execution_count": 25,
      "metadata": {},
      "outputs": [
      {
          "name": "stdout",
          "output_type": "stream",
          "text": [
          "#\t$OpenBSD: sshd_config,v 1.103 2018/04/09 20:41:22 tj Exp $\n",
"\n",
"# This is the sshd server system-wide configuration file.  See\n",
"# sshd_config(5) for more information.\n",
"\n",
"# This sshd was compiled with PATH=/usr/bin:/bin:/usr/sbin:/sbin\n",
"\n",
"# The strategy used for options in the default sshd_config shipped with\n",
"# OpenSSH is to specify options with their default value where\n",
"# possible, but leave them commented.  Uncommented options override the\n",
"# default value.\n",
"\n",
"Include /etc/ssh/sshd_config.d/*.conf\n",
"\n",
"#Port 22\n",
"#AddressFamily any\n",
"#ListenAddress 0.0.0.0\n",
"#ListenAddress ::\n",
"\n",
"#HostKey /etc/ssh/ssh_host_rsa_key\n",
"#HostKey /etc/ssh/ssh_host_ecdsa_key\n",
"#HostKey /etc/ssh/ssh_host_ed25519_key\n",
"\n",
"# Ciphers and keying\n",
"#RekeyLimit default none\n",
"\n",
"# Logging\n",
"#SyslogFacility AUTH\n",
"#LogLevel INFO\n",
"\n",
"# Authentication:\n",
"\n",
"#LoginGraceTime 2m\n",
"#PermitRootLogin prohibit-password\n",
"#StrictModes yes\n",
"#MaxAuthTries 6\n",
"#MaxSessions 10\n",
"\n",
"#PubkeyAuthentication yes\n",
"\n",
"# Expect .ssh/authorized_keys2 to be disregarded by default in future.\n",
"#AuthorizedKeysFile\t.ssh/authorized_keys .ssh/authorized_keys2\n",
"\n",
"#AuthorizedPrincipalsFile none\n",
"\n",
"#AuthorizedKeysCommand none\n",
"#AuthorizedKeysCommandUser nobody\n",
"\n",
"# For this to work you will also need host keys in /etc/ssh/ssh_known_hosts\n",
"#HostbasedAuthentication no\n",
"# Change to yes if you don't trust ~/.ssh/known_hosts for\n",
"# HostbasedAuthentication\n",
"#IgnoreUserKnownHosts no\n",
"# Don't read the user's ~/.rhosts and ~/.shosts files\n",
"#IgnoreRhosts yes\n",
"\n",
"# To disable tunneled clear text passwords, change to no here!\n",
"#PasswordAuthentication yes\n",
"#PermitEmptyPasswords no\n",
"\n",
"# Change to yes to enable challenge-response passwords (beware issues with\n",
"# some PAM modules and threads)\n",
"ChallengeResponseAuthentication no\n",
"\n",
"# Kerberos options\n",
"#KerberosAuthentication no\n",
"#KerberosOrLocalPasswd yes\n",
"#KerberosTicketCleanup yes\n",
"#KerberosGetAFSToken no\n",
"\n",
"# GSSAPI options\n",
"#GSSAPIAuthentication no\n",
"#GSSAPICleanupCredentials yes\n",
"#GSSAPIStrictAcceptorCheck yes\n",
"#GSSAPIKeyExchange no\n",
"\n",
"# Set this to 'yes' to enable PAM authentication, account processing,\n",
"# and session processing. If this is enabled, PAM authentication will\n",
"# be allowed through the ChallengeResponseAuthentication and\n",
"# PasswordAuthentication.  Depending on your PAM configuration,\n",
"# PAM authentication via ChallengeResponseAuthentication may bypass\n",
"# the setting of \"PermitRootLogin without-password\".\n",
"# If you just want the PAM account and session checks to run without\n",
"# PAM authentication, then enable this but set PasswordAuthentication\n",
"# and ChallengeResponseAuthentication to 'no'.\n",
"UsePAM yes\n",
"\n",
"#AllowAgentForwarding yes\n",
"#AllowTcpForwarding yes\n",
"#GatewayPorts no\n",
"X11Forwarding yes\n",
"#X11DisplayOffset 10\n",
"#X11UseLocalhost yes\n",
"#PermitTTY yes\n",
"PrintMotd no\n",
"#PrintLastLog yes\n",
"#TCPKeepAlive yes\n",
"#PermitUserEnvironment no\n",
"#Compression delayed\n",
"#ClientAliveInterval 0\n",
"#ClientAliveCountMax 3\n",
"#UseDNS no\n",
"#PidFile /var/run/sshd.pid\n",
"#MaxStartups 10:30:100\n",
"#PermitTunnel no\n",
"#ChrootDirectory none\n",
"#VersionAddendum none\n",
"\n",
"# no default banner path\n",
"#Banner none\n",
"\n",
"# Allow client to pass locale environment variables\n",
"AcceptEnv LANG LC_*\n",
"\n",
"# override default of no subsystems\n",
"Subsystem\tsftp\t/usr/lib/openssh/sftp-server\n",
"\n",
"# Example of overriding settings on a per-user basis\n",
"#Match User anoncvs\n",
"#\tX11Forwarding no\n",
"#\tAllowTcpForwarding no\n",
"#\tPermitTTY no\n",
"#\tForceCommand cvs server\n"
          ]
        }
      ],
      "source": [
      "!cat /etc/ssh/sshd_config"
      ]
    },
{
      "attachments": {},
      "cell_type": "markdown",
      "metadata": {},
      "source": [
      "Com este arquivo podemos mudar a configuração de como funciona o `SSH` em nosso computador. Por exemplo, podemos ver uma linha comentada que diz\n",
"\n",
"\"bash\n",
"#Port 22\n",
"```\n",
"\n",
"Se o descomentarmos e mudarmos o número 'SSH', ele não irá mais para a porta 22, que é sua porta padrão, e irá para o número da porta especificada ali."
      ]
    },
{
      "attachments": {},
      "cell_type": "markdown",
      "metadata": {},
      "source": [
      "## Cópia de arquivos por `SSH"
      ]
    },
{
      "attachments": {},
      "cell_type": "markdown",
      "metadata": {},
      "source": [
      "Podemos copiar arquivos sobre `SSH` utilizando o comando `scp` (cópia segura), para o qual a sintaxe é\n",
"\n",
"\"bash\n",
"scp &ltpath arquivo local&gt &ltuser&gt@&ltIP&gt:&ltpath para salvar&gt\n",
"```\n",
"\n",
"o\n",
"\n",
"\"bash\n",
"scp &ltuser&gt@&&&ltip&gt:&ltpath para arquivo remoto&gt &ltpath para salvar&gt\n",
"```\n",
"\n",
"A primeira maneira copia um arquivo de nosso computador para outro computador e a segunda maneira copia um arquivo de outro computador para o nosso"
      ]
    },
{
      "attachments": {},
      "cell_type": "markdown",
      "metadata": {},
      "source": [
      "Por exemplo, vamos fazer um `ls` de `servidor1`."
      ]
    },
{
      "cell_type": "code",
      "execution_count": 35,
      "metadata": {},
      "outputs": [
      {
          "name": "stdout",
          "output_type": "stream",
          "text": [
          "snap\n",
"Connection to 194.62.99.222 closed.\n"
          ]
        }
      ],
      "source": [
      "!ssh -t server1 \"ls\""
      ]
    },
{
      "attachments": {},
      "cell_type": "markdown",
      "metadata": {},
      "source": [
      "Vejamos o que temos reservado para que possamos passar para você."
      ]
    },
{
      "cell_type": "code",
      "execution_count": 33,
      "metadata": {},
      "outputs": [
      {
          "name": "stdout",
          "output_type": "stream",
          "text": [
          " 2021-02-11-Introduccion-a-Python.ipynb         html_files\n",
" 2021-04-23-Calculo-matricial-con-Numpy.ipynb   html.ipynb\n",
" 2021-06-15-Manejo-de-datos-con-Pandas.ipynb    introduccion_python\n",
" 2022-09-12-Introduccion-a-la-terminal.ipynb    mi_paquete_de_python\n",
" 2023-01-22-Docker.ipynb\t\t        movies.csv\n",
" 2023-02-01-Bash-scripting.ipynb\t        movies.dat\n",
" 2023-02-04-Blip-2.ipynb\t\t        notebooks_translated\n",
" 2023-XX-XX-SSH.ipynb\t\t\t        __pycache__\n",
" california_housing_train.csv\t\t        scripts_bash\n",
" command-line-cheat-sheet.pdf\t\t        ssh.ipynb\n",
" CSS.ipynb\t\t\t\t        test.ipynb\n",
"'Expresiones regulares.ipynb'\n"
          ]
        }
      ],
      "source": [
      "!ls"
      ]
    },
{
      "attachments": {},
      "cell_type": "markdown",
      "metadata": {},
      "source": [
      "Vamos enviar o arquivo `html.ipynb` para o servidor, pois ocupa pouco espaço."
      ]
    },
{
      "cell_type": "code",
      "execution_count": 36,
      "metadata": {},
      "outputs": [
      {
          "name": "stdout",
          "output_type": "stream",
          "text": [
          "html.ipynb                                    100%   14KB 229.0KB/s   00:00    \n"
          ]
        }
      ],
      "source": [
      "!scp html.ipynb server1:/root/"
      ]
    },
{
      "attachments": {},
      "cell_type": "markdown",
      "metadata": {},
      "source": [
      "Vamos ver novamente o que está dentro do `server1`."
      ]
    },
{
      "cell_type": "code",
      "execution_count": 38,
      "metadata": {},
      "outputs": [
      {
          "name": "stdout",
          "output_type": "stream",
          "text": [
          "html.ipynb  snap\n",
"Connection to 194.62.99.222 closed.\n"
          ]
        }
      ],
      "source": [
      "!ssh -t server1 \"ls\""
      ]
    },
{
      "attachments": {},
      "cell_type": "markdown",
      "metadata": {},
      "source": [
      "Foi copiado"
      ]
    },
{
      "attachments": {},
      "cell_type": "markdown",
      "metadata": {},
      "source": [
      "## Sincronização de arquivos via `SSH` ## Sincronização de arquivos via `SSH` ## Sincronização de arquivos via `SSH` ## Sincronização de arquivos via `SSH"
      ]
    },
{
      "attachments": {},
      "cell_type": "markdown",
      "metadata": {},
      "source": [
      "O mal do comando `scp` é que se algo acontece no meio da cópia e você não termina de copiar o arquivo, quando você tenta novamente tem que começar do zero, isto é especialmente um problema com arquivos muito grandes."
      ]
    },
{
      "attachments": {},
      "cell_type": "markdown",
      "metadata": {},
      "source": [
      "Para contornar isso você pode utilizar o `rsync`, a sintaxe é\n",
"\n",
"\"bash\n",
"rsync --parcial --progress --rsh=ssh <caminho arquivo local> <usuário>@<IP>:<caminho para salvar>:<caminho para salvar>>.\n",
"```\n",
"\n",
"o\n",
"\n",
"\"bash\n",
"rsync --parcial --progress --rsh=ssh <usuário>@<ip>:<caminho para arquivo remoto> <caminho para salvar>\n",
"```\n",
"\n",
"Como antes, a primeira maneira copia um arquivo de nosso computador para outro computador e a segunda maneira, de outro computador para o nosso. A bandeira \"parcial\" é para indicar que arquivos parcialmente copiados são salvos, ou seja, se a cópia é parada antes de ser concluída, o que foi copiado é mantido. A bandeira de \"progresso\" é para indicar o progresso da cópia. A bandeira `--rsh=ssh` deve indicar que a transferência do arquivo é feita sobre a bandeira `SSH`."
      ]
    },
{
      "attachments": {},
      "cell_type": "markdown",
      "metadata": {},
      "source": [
      "Passamos um arquivo"
      ]
    },
{
      "cell_type": "code",
      "execution_count": 39,
      "metadata": {},
      "outputs": [
      {
          "name": "stdout",
          "output_type": "stream",
          "text": [
          "sending incremental file list\n",
"2021-06-15-Manejo-de-datos-con-Pandas.ipynb\n",
"        608.34K 100%  197.78MB/s    0:00:00 (xfr#1, to-chk=0/1)\n"
          ]
        }
      ],
      "source": [
      "!rsync --partial --progress -rsh=ssh 2021-06-15-Manejo-de-datos-con-Pandas.ipynb  server1:/root/"
      ]
    },
{
      "attachments": {},
      "cell_type": "markdown",
      "metadata": {},
      "source": [
      "E vemos se foi copiado"
      ]
    },
{
      "cell_type": "code",
      "execution_count": 40,
      "metadata": {},
      "outputs": [
      {
          "name": "stdout",
          "output_type": "stream",
          "text": [
          "2021-06-15-Manejo-de-datos-con-Pandas.ipynb  html.ipynb  snap\n",
"Connection to 194.62.99.222 closed.\n"
          ]
        }
      ],
      "source": [
      "!ssh -t server1 \"ls\""
      ]
    },
{
      "attachments": {},
      "cell_type": "markdown",
      "metadata": {},
      "source": [
      "## Montar pastas remotas em pastas locais"
      ]
    },
{
      "attachments": {},
      "cell_type": "markdown",
      "metadata": {},
      "source": [
      "Caso queiramos ter uma pasta de outra máquina como se estivesse em nosso computador, temos de uasr `sshfs`.\n",
"\n",
"Primeiro precisa ser instalado por\n",
"\n",
"\"bash\n",
"sudo apt install sshfs\n",
"```\n",
"\n",
"E uma vez instalado, ele é usado com a sintaxe\n",
"\n",
"\"bash\n",
"sshfs &ltuser&gt@&&&ltip&gt:&ltremote path&gt &ltlocal path to mount&gt\n",
"```"
      ]
    },
{
      "attachments": {},
      "cell_type": "markdown",
      "metadata": {},
      "source": [
      "Vamos montar a pasta `/root' do `servidor1', mas para isso vamos primeiro criar uma pasta na qual vamos montá-la."
      ]
    },
{
      "cell_type": "code",
      "execution_count": 41,
      "metadata": {},
      "outputs": [],
      "source": [
      "!mkdir server1folder"
      ]
    },
{
      "attachments": {},
      "cell_type": "markdown",
      "metadata": {},
      "source": [
      "Podemos ver que não há nada dentro da pasta que montamos."
      ]
    },
{
      "cell_type": "code",
      "execution_count": 42,
      "metadata": {},
      "outputs": [],
      "source": [
      "!ls server1folder"
      ]
    },
{
      "attachments": {},
      "cell_type": "markdown",
      "metadata": {},
      "source": [
      "Agora montamos a pasta do servidor"
      ]
    },
{
      "cell_type": "code",
      "execution_count": 8,
      "metadata": {},
      "outputs": [],
      "source": [
      "!!sshfs server1:/root/ server1folder"
      ]
    },
{
      "attachments": {},
      "cell_type": "markdown",
      "metadata": {},
      "source": [
      "Voltamos para ver o que está dentro"
      ]
    },
{
      "cell_type": "code",
      "execution_count": 47,
      "metadata": {},
      "outputs": [
      {
          "name": "stdout",
          "output_type": "stream",
          "text": [
          "2021-06-15-Manejo-de-datos-con-Pandas.ipynb  html.ipynb  snap\n"
          ]
        }
      ],
      "source": [
      "!ls server1folder"
      ]
    },
{
      "attachments": {},
      "cell_type": "markdown",
      "metadata": {},
      "source": [
      "Quando não quisermos mais ter a pasta montada, podemos desmontá-la por 'fusermount -u server1folder'."
      ]
    },
{
      "cell_type": "code",
      "execution_count": 8,
      "metadata": {},
      "outputs": [],
      "source": [
      "!!fusermount -u server1folder"
      ]
    },
{
      "attachments": {},
      "cell_type": "markdown",
      "metadata": {},
      "source": [
      "Olhamos novamente para o que está dentro para ver que não há nada."
      ]
    },
{
      "cell_type": "code",
      "execution_count": 48,
      "metadata": {},
      "outputs": [],
      "source": [
      "!ls server1folder"
      ]
    },
{
      "attachments": {},
      "cell_type": "markdown",
      "metadata": {},
      "source": [
      "## Depurando a conexão `SSH"
      ]
    },
{
      "attachments": {},
      "cell_type": "markdown",
      "metadata": {},
      "source": [
      "Podemos depurar a conexão `SSH` adicionando `-v`, até `-vvvv` à conexão, quanto mais `v`s adicionarmos, maior será o nível de informação."
      ]
    },
{
      "cell_type": "code",
      "execution_count": 49,
      "metadata": {},
      "outputs": [
      {
          "name": "stdout",
          "output_type": "stream",
          "text": [
          "OpenSSH_8.2p1 Ubuntu-4ubuntu0.5, OpenSSL 1.1.1f  31 Mar 2020\n",
"debug1: Reading configuration data /home/wallabot/.ssh/config\n",
"debug1: /home/wallabot/.ssh/config line 6: Applying options for server1\n",
"debug1: Reading configuration data /etc/ssh/ssh_config\n",
"debug1: /etc/ssh/ssh_config line 19: include /etc/ssh/ssh_config.d/*.conf matched no files\n",
"debug1: /etc/ssh/ssh_config line 21: Applying options for *\n",
"debug1: Connecting to 194.62.99.222 [194.62.99.222] port 22.\n",
"debug1: Connection established.\n",
"debug1: identity file /home/wallabot/.ssh/id_rsa type 0\n",
"debug1: identity file /home/wallabot/.ssh/id_rsa-cert type -1\n",
"debug1: identity file /home/wallabot/.ssh/id_dsa type -1\n",
"debug1: identity file /home/wallabot/.ssh/id_dsa-cert type -1\n",
"debug1: identity file /home/wallabot/.ssh/id_ecdsa type -1\n",
"debug1: identity file /home/wallabot/.ssh/id_ecdsa-cert type -1\n",
"debug1: identity file /home/wallabot/.ssh/id_ecdsa_sk type -1\n",
"debug1: identity file /home/wallabot/.ssh/id_ecdsa_sk-cert type -1\n",
"debug1: identity file /home/wallabot/.ssh/id_ed25519 type -1\n",
"debug1: identity file /home/wallabot/.ssh/id_ed25519-cert type -1\n",
"debug1: identity file /home/wallabot/.ssh/id_ed25519_sk type -1\n",
"debug1: identity file /home/wallabot/.ssh/id_ed25519_sk-cert type -1\n",
"debug1: identity file /home/wallabot/.ssh/id_xmss type -1\n",
"debug1: identity file /home/wallabot/.ssh/id_xmss-cert type -1\n",
"debug1: Local version string SSH-2.0-OpenSSH_8.2p1 Ubuntu-4ubuntu0.5\n",
"debug1: Remote protocol version 2.0, remote software version OpenSSH_8.9p1 Ubuntu-3\n",
"debug1: match: OpenSSH_8.9p1 Ubuntu-3 pat OpenSSH* compat 0x04000000\n",
"debug1: Authenticating to 194.62.99.222:22 as 'root'\n",
"debug1: SSH2_MSG_KEXINIT sent\n",
"debug1: SSH2_MSG_KEXINIT received\n",
"debug1: kex: algorithm: curve25519-sha256\n",
"debug1: kex: host key algorithm: ecdsa-sha2-nistp256\n",
"debug1: kex: server->client cipher: chacha20-poly1305@openssh.com MAC: <implicit> compression: none\n",
"debug1: kex: client->server cipher: chacha20-poly1305@openssh.com MAC: <implicit> compression: none\n",
"debug1: expecting SSH2_MSG_KEX_ECDH_REPLY\n",
"debug1: Server host key: ecdsa-sha2-nistp256 SHA256:jwpQt2a69LQcuvvYPPKL32bBwTi1Je/ZmUdr4zEiD1Y\n",
"debug1: Host '194.62.99.222' is known and matches the ECDSA host key.\n",
"debug1: Found key in /home/wallabot/.ssh/known_hosts:14\n",
"debug1: rekey out after 134217728 blocks\n",
"debug1: SSH2_MSG_NEWKEYS sent\n",
"debug1: expecting SSH2_MSG_NEWKEYS\n",
"debug1: SSH2_MSG_NEWKEYS received\n",
"debug1: rekey in after 134217728 blocks\n",
"debug1: Will attempt key: /home/wallabot/.ssh/id_rsa RSA SHA256:ID3HcrbyPBGjFx/qeiJK50eqihLGrpDVu02oRSyKGh4 agent\n",
"debug1: Will attempt key: wallabot@wallabot RSA SHA256:Qlq6hXbToInW+efEK666BFT26EeUSpBhzcqxTLrDBpQ agent\n",
"debug1: Will attempt key: /home/wallabot/.ssh/id_dsa \n",
"debug1: Will attempt key: /home/wallabot/.ssh/id_ecdsa \n",
"debug1: Will attempt key: /home/wallabot/.ssh/id_ecdsa_sk \n",
"debug1: Will attempt key: /home/wallabot/.ssh/id_ed25519 \n",
"debug1: Will attempt key: /home/wallabot/.ssh/id_ed25519_sk \n",
"debug1: Will attempt key: /home/wallabot/.ssh/id_xmss \n",
"debug1: SSH2_MSG_EXT_INFO received\n",
"debug1: kex_input_ext_info: server-sig-algs=<ssh-ed25519,sk-ssh-ed25519@openssh.com,ssh-rsa,rsa-sha2-256,rsa-sha2-512,ssh-dss,ecdsa-sha2-nistp256,ecdsa-sha2-nistp384,ecdsa-sha2-nistp521,sk-ecdsa-sha2-nistp256@openssh.com,webauthn-sk-ecdsa-sha2-nistp256@openssh.com>\n",
"debug1: kex_input_ext_info: publickey-hostbound@openssh.com (unrecognised)\n",
"debug1: SSH2_MSG_SERVICE_ACCEPT received\n",
"debug1: Authentications that can continue: publickey\n",
"debug1: Next authentication method: publickey\n",
"debug1: Offering public key: /home/wallabot/.ssh/id_rsa RSA SHA256:ID3HcrbyPBGjFx/qeiJK50eqihLGrpDVu02oRSyKGh4 agent\n",
"debug1: Authentications that can continue: publickey\n",
"debug1: Offering public key: wallabot@wallabot RSA SHA256:Qlq6hXbToInW+efEK666BFT26EeUSpBhzcqxTLrDBpQ agent\n",
"debug1: Server accepts key: wallabot@wallabot RSA SHA256:Qlq6hXbToInW+efEK666BFT26EeUSpBhzcqxTLrDBpQ agent\n",
"debug1: Authentication succeeded (publickey).\n",
"Authenticated to 194.62.99.222 ([194.62.99.222]:22).\n",
"debug1: channel 0: new [client-session]\n",
"debug1: Requesting no-more-sessions@openssh.com\n",
"debug1: Entering interactive session.\n",
"debug1: pledge: network\n",
"debug1: client_input_global_request: rtype hostkeys-00@openssh.com want_reply 0\n",
"debug1: Remote: /root/.ssh/authorized_keys:1: key options: agent-forwarding port-forwarding pty user-rc x11-forwarding\n",
"debug1: Remote: /root/.ssh/authorized_keys:1: key options: agent-forwarding port-forwarding pty user-rc x11-forwarding\n",
"debug1: Sending environment.\n",
"debug1: Sending env LANG = es_ES.UTF-8\n",
"Welcome to Ubuntu 22.04.1 LTS (GNU/Linux 5.15.0-60-generic x86_64)\n",
"\n",
" * Documentation:  https://help.ubuntu.com\n",
" * Management:     https://landscape.canonical.com\n",
" * Support:        https://ubuntu.com/advantage\n",
"\n",
"  System information as of Fri Feb 24 01:25:10 PM UTC 2023\n",
"\n",
"  System load:           0.0\n",
"  Usage of /:            15.2% of 24.53GB\n",
"  Memory usage:          34%\n",
"  Swap usage:            0%\n",
"  Processes:             89\n",
"  Users logged in:       0\n",
"  IPv4 address for eth0: 194.62.99.222\n",
"  IPv4 address for eth1: 10.7.0.168\n",
"  IPv6 address for eth2: 2a04:3542:8000:1000:d48a:cbff:fefb:5b1\n",
"\n",
" * Strictly confined Kubernetes makes edge and IoT secure. Learn how MicroK8s\n",
"   just raised the bar for easy, resilient and secure K8s cluster deployment.\n",
"\n",
"   https://ubuntu.com/engage/secure-kubernetes-at-the-edge\n",
"\n",
"43 updates can be applied immediately.\n",
"To see these additional updates run: apt list --upgradable\n",
"\n",
"\n",
"Last login: Fri Feb 24 13:10:05 2023 from 188.127.184.59\n",
"\u001b[?2004h\u001b]0;root@server1: ~\u001b[01;32mroot@server1\u001b[00m:\u001b[01;34m~\u001b[00m# ^C\u001b[?2004l\n",
"\u001b[?2004l\n",
"\u001b[?2004h\u001b]0;root@server1: ~\u001b[01;32mroot@server1\u001b[00m:\u001b[01;34m~\u001b[00m# "
          ]
        }
      ],
      "source": [
      "!ssh -v server1"
      ]
    }
  ],
  "metadata": {
    "kernelspec": {
      "display_name": "base",
      "language": "python",
      "name": "python3"
    },
    "language_info": {
      "codemirror_mode": {
        "name": "ipython",
        "version": 3
      },
      "file_extension": ".py",
      "mimetype": "text/x-python",
      "name": "python",
      "nbconvert_exporter": "python",
      "pygments_lexer": "ipython3",
      "version": "3.7.6"
    },
    "orig_nbformat": 4,
    "vscode": {
      "interpreter": {
        "hash": "d5745ab6aba164e1152437c779991855725055592b9f2bdb41a4825db7168d26"
      }
    }
  },
  "nbformat": 4,
  "nbformat_minor": 2
}
