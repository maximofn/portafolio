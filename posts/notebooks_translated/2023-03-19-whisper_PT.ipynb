{
  "cells": [
  {
      "attachments": {},
      "cell_type": "markdown",
      "metadata": {},
      "source": [
      "# Sussurro"
      ]
    },
{
      "attachments": {},
      "cell_type": "markdown",
      "metadata": {},
      "source": [
      "## Introdução"
      ]
    },
{
      "attachments": {},
      "cell_type": "markdown",
      "metadata": {},
      "source": [
      "Este caderno foi traduzido automaticamente para torná-lo acessível a mais pessoas, por favor me avise se você vir algum erro de digitação..\n",
"\n",
"O Whisper é um sistema de reconhecimento automático da fala (ASR) treinado em 680.000 horas de dados supervisionados multilíngues e multitarefa coletados da web. O uso de um conjunto de dados tão grande e diversificado leva a uma maior robustez dos sotaques, do ruído de fundo e da linguagem técnica. Além disso, permite a transcrição em vários idiomas, assim como a tradução desses idiomas para o inglês.\n",
"\n",
"[Wesite](https://openai.com/research/whisper)\n",
"\n",
"[Papel](https://cdn.openai.com/papers/whisper.pdf)\n",
"\n",
"[GitHub](https://github.com/openai/whisper)\n",
"\n",
"[Cartão modelo](https://github.com/openai/whisper/blob/main/model-card.md)"
      ]
    },
{
      "attachments": {},
      "cell_type": "markdown",
      "metadata": {},
      "source": [
      "## Instalação"
      ]
    },
{
      "attachments": {},
      "cell_type": "markdown",
      "metadata": {},
      "source": [
      "A fim de instalar esta ferramenta é melhor criar um novo ambiente anaconda."
      ]
    },
{
      "cell_type": "code",
      "execution_count": "None",
      "metadata": {},
      "outputs": [],
      "source": [
      "!conda create -n whisper"
      ]
    },
{
      "attachments": {},
      "cell_type": "markdown",
      "metadata": {},
      "source": [
      "Entramos no meio ambiente"
      ]
    },
{
      "cell_type": "code",
      "execution_count": "None",
      "metadata": {},
      "outputs": [],
      "source": [
      "!conda activate whisper"
      ]
    },
{
      "attachments": {},
      "cell_type": "markdown",
      "metadata": {},
      "source": [
      "Instalamos todos os pacotes necessários"
      ]
    },
{
      "cell_type": "code",
      "execution_count": "None",
      "metadata": {},
      "outputs": [],
      "source": [
      "!conda install pytorch torchvision torchaudio pytorch-cuda=11.6 -c pytorch -c nvidia"
      ]
    },
{
      "attachments": {},
      "cell_type": "markdown",
      "metadata": {},
      "source": [
      "Finalmente, instalamos o `whisper`."
      ]
    },
{
      "cell_type": "code",
      "execution_count": "None",
      "metadata": {},
      "outputs": [],
      "source": [
      "!pip install git+https://github.com/openai/whisper.git"
      ]
    },
{
      "attachments": {},
      "cell_type": "markdown",
      "metadata": {},
      "source": [
      "E nós atualizamos `ffmpeg`."
      ]
    },
{
      "cell_type": "code",
      "execution_count": "None",
      "metadata": {},
      "outputs": [],
      "source": [
      "!sudo apt update && sudo apt install ffmpeg"
      ]
    },
{
      "attachments": {},
      "cell_type": "markdown",
      "metadata": {},
      "source": [
      "## Uso"
      ]
    },
{
      "attachments": {},
      "cell_type": "markdown",
      "metadata": {},
      "source": [
      "Importamos \"sussurros\"."
      ]
    },
{
      "cell_type": "code",
      "execution_count": 1,
      "metadata": {},
      "outputs": [],
      "source": [
      "import whisper"
      ]
    },
{
      "attachments": {},
      "cell_type": "markdown",
      "metadata": {},
      "source": [
      "Selecionamos o modelo, quanto maior, melhor ele fará."
      ]
    },
{
      "cell_type": "code",
      "execution_count": 2,
      "metadata": {},
      "outputs": [],
      "source": [
      "# model = \"tiny\"\n",
"# model = \"base\"\n",
"# model = \"small\"\n",
"# model = \"medium\"\n",
"model = \"large\"\n",
"model = whisper.load_model(model)"
      ]
    },
{
      "attachments": {},
      "cell_type": "markdown",
      "metadata": {},
      "source": [
      "Fizemos o upload do áudio deste antigo (1987) anúncio da Micro Machines.\n",
"\n",
"<iframe width=\"560\" height=\"315\" src=\"https://www.youtube.com/embed/zLP6oT3uqV8\" title=\"YouTube video player\" frameborder=\"0\" allow=\"accelerometer; autoplay; clipboard-write; encrypted-media; giroscope; picture-in-picture; web-share\" allowfullscreen></iframe>"
      ]
    },
{
      "cell_type": "code",
      "execution_count": 3,
      "metadata": {},
      "outputs": [],
      "source": [
      "audio_path = \"MicroMachines.mp3\"\n",
"audio = whisper.load_audio(audio_path)\n",
"audio = whisper.pad_or_trim(audio)"
      ]
    },
{
      "cell_type": "code",
      "execution_count": 4,
      "metadata": {},
      "outputs": [],
      "source": [
      "mel = whisper.log_mel_spectrogram(audio).to(model.device)"
      ]
    },
{
      "cell_type": "code",
      "execution_count": 5,
      "metadata": {},
      "outputs": [
      {
          "name": "stdout",
          "output_type": "stream",
          "text": [
          "Detected language: en\n"
          ]
        }
      ],
      "source": [
      "_, probs = model.detect_language(mel)\n",
"print(f\"Detected language: {max(probs, key=probs.get)}\")"
      ]
    },
{
      "cell_type": "code",
      "execution_count": 7,
      "metadata": {},
      "outputs": [],
      "source": [
      "options = whisper.DecodingOptions()\n",
"result = whisper.decode(model, mel, options)"
      ]
    },
{
      "cell_type": "code",
      "execution_count": 10,
      "metadata": {},
      "outputs": [
      {
          "data": {
            "text/plain": [
            "\"This is the Micro Machine Man presenting the most midget miniature motorcade of micro machines. Each one has dramatic details, terrific trim, precision paint jobs, plus incredible micro machine pocket play sets. There's a police station, fire station, restaurant, service station, and more. Perfect pocket portables to take any place. And there are many miniature play sets to play with and each one comes with its own special edition micro machine vehicle and fun fantastic features that miraculously move. Raise the boat lift at the airport, marina, man the gun turret at the army base, clean your car at the car wash, raise the toll bridge. And these play sets fit together to form a micro machine world. Micro machine pocket play sets so tremendously tiny, so perfectly precise, so dazzlingly detailed, you'll want to pocket them all. Micro machines and micro machine pocket play sets sold separately from Galoob. The smaller they are, the better they are.\""
            ]
          },
          "execution_count": 10,
          "metadata": {},
          "output_type": "execute_result"
        }
      ],
      "source": [
      "result.text"
      ]
    }
  ],
  "metadata": {
    "kernelspec": {
      "display_name": "whisper",
      "language": "python",
      "name": "python3"
    },
    "language_info": {
      "codemirror_mode": {
        "name": "ipython",
        "version": 3
      },
      "file_extension": ".py",
      "mimetype": "text/x-python",
      "name": "python",
      "nbconvert_exporter": "python",
      "pygments_lexer": "ipython3",
      "version": "3.10.9"
    },
    "orig_nbformat": 4
  },
  "nbformat": 4,
  "nbformat_minor": 2
}
