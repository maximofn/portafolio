{
  "cells": [
    {
      "attachments": {},
      "cell_type": "markdown",
      "metadata": {},
      "source": [
        "# Sussurro"
      ]
    },
    {
      "attachments": {},
      "cell_type": "markdown",
      "metadata": {},
      "source": [
        " > Aviso: Este post foi traduzido para o portugu\u00eas usando um modelo de tradu\u00e7\u00e3o autom\u00e1tica. Por favor, me avise se encontrar algum erro."
      ]
    },
    {
      "attachments": {},
      "cell_type": "markdown",
      "metadata": {},
      "source": [
        "## Introdu\u00e7\u00e3o"
      ]
    },
    {
      "attachments": {},
      "cell_type": "markdown",
      "metadata": {},
      "source": [
        "`Whisper` \u00e9 um sistema de reconhecimento autom\u00e1tico de voz (automatic speech recognition (ASR)) treinado em 680.000 horas de dados multil\u00edngues e multitarefa supervisionados coletados da web. O uso de um conjunto de dados t\u00e3o grande e diversificado leva a uma maior robustez em rela\u00e7\u00e3o aos sotaques, ao ru\u00eddo de fundo e \u00e0 linguagem t\u00e9cnica. Al\u00e9m disso, permite a transcri\u00e7\u00e3o em v\u00e1rios idiomas, bem como a tradu\u00e7\u00e3o desses idiomas para o ingl\u00eas.",
        "\n",
        "[Website](https://openai.com/research/whisper)",
        "\n",
        "[Paper](https://cdn.openai.com/papers/whisper.pdf)",
        "\n",
        "[GitHub](https://github.com/openai/whisper)",
        "\n",
        "[Modelo de cart\u00e3o](https://github.com/openai/whisper/blob/main/model-card.md)"
      ]
    },
    {
      "attachments": {},
      "cell_type": "markdown",
      "metadata": {},
      "source": [
        "## Instala\u00e7\u00e3o"
      ]
    },
    {
      "attachments": {},
      "cell_type": "markdown",
      "metadata": {},
      "source": [
        "Para poder instalar esta ferramenta o melhor \u00e9 criar um novo ambiente do Anaconda"
      ]
    },
    {
      "cell_type": "code",
      "execution_count": null,
      "metadata": {},
      "outputs": [],
      "source": [
        "!conda create -n whisper"
      ]
    },
    {
      "attachments": {},
      "cell_type": "markdown",
      "metadata": {},
      "source": [
        "Entramos no ambiente"
      ]
    },
    {
      "cell_type": "code",
      "execution_count": null,
      "metadata": {},
      "outputs": [],
      "source": [
        "!conda activate whisper"
      ]
    },
    {
      "attachments": {},
      "cell_type": "markdown",
      "metadata": {},
      "source": [
        "Instalamos todos os pacotes necess\u00e1rios"
      ]
    },
    {
      "cell_type": "code",
      "execution_count": null,
      "metadata": {},
      "outputs": [],
      "source": [
        "!conda install pytorch torchvision torchaudio pytorch-cuda=11.6 -c pytorch -c nvidia"
      ]
    },
    {
      "attachments": {},
      "cell_type": "markdown",
      "metadata": {},
      "source": [
        "Por \u00faltimo instalamos `whisper`"
      ]
    },
    {
      "cell_type": "code",
      "execution_count": null,
      "metadata": {},
      "outputs": [],
      "source": [
        "!pip install git+https://github.com/openai/whisper.git"
      ]
    },
    {
      "attachments": {},
      "cell_type": "markdown",
      "metadata": {},
      "source": [
        "E atualizamos o `ffmpeg`"
      ]
    },
    {
      "cell_type": "code",
      "execution_count": null,
      "metadata": {},
      "outputs": [],
      "source": [
        "!sudo apt update && sudo apt install ffmpeg"
      ]
    },
    {
      "attachments": {},
      "cell_type": "markdown",
      "metadata": {},
      "source": [
        "## Uso"
      ]
    },
    {
      "attachments": {},
      "cell_type": "markdown",
      "metadata": {},
      "source": [
        "Importamos `whisper`"
      ]
    },
    {
      "cell_type": "code",
      "execution_count": 1,
      "metadata": {},
      "outputs": [],
      "source": [
        "import whisper"
      ]
    },
    {
      "attachments": {},
      "cell_type": "markdown",
      "metadata": {},
      "source": [
        "Selecionamos o modelo, quanto maior melhor ele performar\u00e1"
      ]
    },
    {
      "cell_type": "code",
      "execution_count": 2,
      "metadata": {},
      "outputs": [],
      "source": [
        "# model = \"tiny\"\n",
        "# model = \"base\"\n",
        "# model = \"small\"\n",
        "# model = \"medium\"\n",
        "model = \"large\"\n",
        "model = whisper.load_model(model)"
      ]
    },
    {
      "attachments": {},
      "cell_type": "markdown",
      "metadata": {},
      "source": [
        "Carregamos o \u00e1udio deste an\u00fancio antigo (de 1987) das Micro Machines",
        "\n",
        "<iframe width=\"560\" height=\"315\" src=\"https://www.youtube.com/embed/zLP6oT3uqV8\" title=\"YouTube video player\" frameborder=\"0\" allow=\"accelerometer; autoplay; clipboard-write; encrypted-media; gyroscope; picture-in-picture; web-share\" allowfullscreen></iframe>"
      ]
    },
    {
      "cell_type": "code",
      "execution_count": 3,
      "metadata": {},
      "outputs": [],
      "source": [
        "audio_path = \"MicroMachines.mp3\"\n",
        "audio = whisper.load_audio(audio_path)\n",
        "audio = whisper.pad_or_trim(audio)"
      ]
    },
    {
      "cell_type": "code",
      "execution_count": 4,
      "metadata": {},
      "outputs": [],
      "source": [
        "mel = whisper.log_mel_spectrogram(audio).to(model.device)"
      ]
    },
    {
      "cell_type": "code",
      "execution_count": 5,
      "metadata": {},
      "outputs": [
        {
          "name": "stdout",
          "output_type": "stream",
          "text": [
            "Detected language: en\n"
          ]
        }
      ],
      "source": [
        "_, probs = model.detect_language(mel)\n",
        "print(f\"Detected language: {max(probs, key=probs.get)}\")"
      ]
    },
    {
      "cell_type": "code",
      "execution_count": 7,
      "metadata": {},
      "outputs": [],
      "source": [
        "options = whisper.DecodingOptions()\n",
        "result = whisper.decode(model, mel, options)"
      ]
    },
    {
      "cell_type": "code",
      "execution_count": 10,
      "metadata": {},
      "outputs": [
        {
          "data": {
            "text/plain": [
              "\"This is the Micro Machine Man presenting the most midget miniature motorcade of micro machines. Each one has dramatic details, terrific trim, precision paint jobs, plus incredible micro machine pocket play sets. There's a police station, fire station, restaurant, service station, and more. Perfect pocket portables to take any place. And there are many miniature play sets to play with and each one comes with its own special edition micro machine vehicle and fun fantastic features that miraculously move. Raise the boat lift at the airport, marina, man the gun turret at the army base, clean your car at the car wash, raise the toll bridge. And these play sets fit together to form a micro machine world. Micro machine pocket play sets so tremendously tiny, so perfectly precise, so dazzlingly detailed, you'll want to pocket them all. Micro machines and micro machine pocket play sets sold separately from Galoob. The smaller they are, the better they are.\""
            ]
          },
          "execution_count": 10,
          "metadata": {},
          "output_type": "execute_result"
        }
      ],
      "source": [
        "result.text"
      ]
    }
  ],
  "metadata": {
    "kernelspec": {
      "display_name": "whisper",
      "language": "python",
      "name": "python3"
    },
    "language_info": {
      "codemirror_mode": {
        "name": "ipython",
        "version": 3
      },
      "file_extension": ".py",
      "mimetype": "text/x-python",
      "name": "python",
      "nbconvert_exporter": "python",
      "pygments_lexer": "ipython3",
      "version": "3.10.9"
    },
    "maximofn": {
      "date": "2023-03-19",
      "description_en": "\ud83d\udc42 You don't get to gossip what the first one says? With whisper you can not only do it, but also translate it if you want. Log in and learn how",
      "description_es": "\ud83d\udc42 No llegas a cotillear qu\u00e9 dicen los del primero? Con whisper no solo podr\u00e1s, sino que adem\u00e1s si quieres te lo traduce. Entra y aprende c\u00f3mo",
      "description_pt": "\ud83d\udc42 Voc\u00ea n\u00e3o pode fofocar o que as pessoas no primeiro dizem? Com o whisper, voc\u00ea pode n\u00e3o apenas fazer isso, mas tamb\u00e9m traduzir, se quiser. Fa\u00e7a login e saiba como",
      "end_url": "whisper",
      "image": "https://images.maximofn.com/whisper.webp",
      "image_hover_path": "https://images.maximofn.com/whisper.webp",
      "keywords_en": "whisper, STT, speech to text, ASR, automatic speech recognition, openai, python",
      "keywords_es": "whisper, STT, speech to text, ASR, reconocimiento autom\u00e1tico de voz, openai, python",
      "keywords_pt": "whisper, STT, speech to text, ASR, reconhecimento autom\u00e1tico de voz, openai, python",
      "title_en": "Whisper",
      "title_es": "Whisper",
      "title_pt": "Whisper"
    },
    "orig_nbformat": 4
  },
  "nbformat": 4,
  "nbformat_minor": 2
}