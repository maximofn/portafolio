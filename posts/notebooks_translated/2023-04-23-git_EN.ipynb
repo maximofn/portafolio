{
      "cells": [
            {
                  "attachments": {},
                  "cell_type": "markdown",
                  "metadata": {},
                  "source": [
                        "# Git"
                  ]
            },
            {
                  "attachments": {},
                  "cell_type": "markdown",
                  "metadata": {},
                  "source": [
                        "## Introduction"
                  ]
            },
            {
                  "attachments": {},
                  "cell_type": "markdown",
                  "metadata": {},
                  "source": [
                        "This notebook has been automatically translated to make it accessible to more people, please let me know if you see any typos.\n",
                        "\n",
                        "Git is a version control software created by Linus Torvalds, who created it in order to have a good version control when he developed the Linux kernel."
                  ]
            },
            {
                  "attachments": {},
                  "cell_type": "markdown",
                  "metadata": {},
                  "source": [
                        "## The git areas"
                  ]
            },
            {
                  "attachments": {},
                  "cell_type": "markdown",
                  "metadata": {},
                  "source": [
                        "Git has three areas, although a fourth can also be considered.\n",
                        "\n",
                        "![git states](https://maximofn.com/wp-content/uploads/2023/03/git-states.png)\n",
                        "\n",
                        " * The first one is our workspace, in it is where we have all our code. Here when we modify or create a file it becomes untracked, so we have to move it to the `staged` area.\n",
                        " * The second area is the `staged` area. Here the files that we had modified or created and that were untracked become tracked, i.e. git tracks them. Here we will send the files to the following `head` area\n",
                        " * The third area is the `head` area. In it we have saved a version of our code. In this way, by saving versions we can go back to past versions if necessary. The saved version of our code can be sent to a server so that it can be accessed by several people.\n",
                        " * The three previous areas correspond to local work, but there is one more area and that is the `remote server`. Here what we do is to send the recorded version of our code to a server so that we have access to the code from anywhere, or more people have access to it.\n",
                        "\n",
                        "To make a similarity, it is like a stage where you are going to take a photo. First you have your files modified, so you send the ones you want to immortalize to the `staged` area, that is to say to the stage. As soon as you have sent all the files you consider, you take the picture, so you send all the files to the `head` area. In this way, you can take many pictures, as the code evolves, so that you can have in a photo album the evolution of the code. Finally you can upload that photo to a server so that it is accessible by more people, that is to say, you send them to the `remote server` area."
                  ]
            },
            {
                  "attachments": {},
                  "cell_type": "markdown",
                  "metadata": {},
                  "source": [
                        "## Install git"
                  ]
            },
            {
                  "attachments": {},
                  "cell_type": "markdown",
                  "metadata": {},
                  "source": [
                        "In most Linux distributions git is already installed, we can check it by doing `git --version`."
                  ]
            },
            {
                  "cell_type": "code",
                  "execution_count": 1,
                  "metadata": {},
                  "outputs": [
                        {
                              "name": "stdout",
                              "output_type": "stream",
                              "text": [
                                    "git version 2.25.1\n"
                              ]
                        }
                  ],
                  "source": [
                        "!git --version"
                  ]
            },
            {
                  "attachments": {},
                  "cell_type": "markdown",
                  "metadata": {},
                  "source": [
                        "If you don't have it or you want to update the git version just run `sudo apt update` and then `sudo apt install git`."
                  ]
            },
            {
                  "cell_type": "code",
                  "execution_count": 3,
                  "metadata": {},
                  "outputs": [
                        {
                              "name": "stdout",
                              "output_type": "stream",
                              "text": [
                                    "[sudo] password for maximo.fernandez@AEROESPACIAL.SENER: \n"
                              ]
                        }
                  ],
                  "source": [
                        "!sudo apt update && sudo apt install git"
                  ]
            },
            {
                  "attachments": {},
                  "cell_type": "markdown",
                  "metadata": {},
                  "source": [
                        "We recheck the version"
                  ]
            },
            {
                  "cell_type": "code",
                  "execution_count": 4,
                  "metadata": {},
                  "outputs": [
                        {
                              "name": "stdout",
                              "output_type": "stream",
                              "text": [
                                    "git version 2.25.1\n"
                              ]
                        }
                  ],
                  "source": [
                        "!git --version"
                  ]
            },
            {
                  "attachments": {},
                  "cell_type": "markdown",
                  "metadata": {},
                  "source": [
                        "In my case I already had the latest version"
                  ]
            },
            {
                  "attachments": {},
                  "cell_type": "markdown",
                  "metadata": {},
                  "source": [
                        "## Initial configuration"
                  ]
            },
            {
                  "attachments": {},
                  "cell_type": "markdown",
                  "metadata": {},
                  "source": [
                        "### Name and mail configuration"
                  ]
            },
            {
                  "attachments": {},
                  "cell_type": "markdown",
                  "metadata": {},
                  "source": [
                        "Before starting to use git it is convenient that you make some minimum configurations like the user name and the email, this information is the one that will appear when showing who has made changes in the code. To do this you have to run\n",
                        "\n",
                        "\n",
                        "````bash\n",
                        "git config --global user.name \"<username>\"\n",
                        "git config --global user.email \"<email>\"\n",
                        "```\n",
                        "\n",
                        "In my case I would put\n",
                        "\n",
                        "````bash\n",
                        "git config --global user.name \"MaximoFN\".\n",
                        "git config --global user.email \"maximofn@gmail.com\n",
                        "```"
                  ]
            },
            {
                  "attachments": {},
                  "cell_type": "markdown",
                  "metadata": {},
                  "source": [
                        "As you can see the `--global` flag what it does is to change the global git configuration, but if in a particular repository you have to put other data, you simply navigate to the repository and remove the `--global` flag from the above commands\n",
                        "\n",
                        "````bash\n",
                        "git config user.name \"<username>\"\n",
                        "git config user.email \"<email>\"\n",
                        "```"
                  ]
            },
            {
                  "attachments": {},
                  "cell_type": "markdown",
                  "metadata": {},
                  "source": [
                        "### Configure the default editor"
                  ]
            },
            {
                  "attachments": {},
                  "cell_type": "markdown",
                  "metadata": {},
                  "source": [
                        "When we explain later what `commit`s are we will see that in one of the options we can open a browser. By default git will try to use `vim`, but since it is not a very easy editor to use we can modify it, here is how to do it with some common editors\n",
                        "\n",
                        "````bash\n",
                        "git config --global core.editor \"code\" # vscode as editor\n",
                        "git config --global core.editor \"atom\" # Atom as editor\n",
                        "git config --global core.editor \"subl\" # Sublime text as editor\n",
                        "git config --global core.editor \"nano\" # Nano as editor\n",
                        "```"
                  ]
            },
            {
                  "attachments": {},
                  "cell_type": "markdown",
                  "metadata": {},
                  "source": [
                        "### Check git configuration"
                  ]
            },
            {
                  "attachments": {},
                  "cell_type": "markdown",
                  "metadata": {},
                  "source": [
                        "To check the git configuration we can use `git config --lits`."
                  ]
            },
            {
                  "cell_type": "code",
                  "execution_count": 6,
                  "metadata": {},
                  "outputs": [
                        {
                              "name": "stdout",
                              "output_type": "stream",
                              "text": [
                                    "user.name=maximofn\n",
                                    "user.email=maximofn@gmail.com\n",
                                    "user.user=maximofn\n",
                                    "http.sslverify=true\n",
                                    "core.repositoryformatversion=0\n",
                                    "core.filemode=true\n",
                                    "core.bare=false\n",
                                    "core.logallrefupdates=true\n",
                                    "remote.origin.url=https://github.com/maximofn/portafolio.git\n",
                                    "remote.origin.fetch=+refs/heads/*:refs/remotes/origin/*\n",
                                    "branch.main.remote=origin\n",
                                    "branch.main.merge=refs/heads/main\n"
                              ]
                        }
                  ],
                  "source": [
                        "!git config --list"
                  ]
            },
            {
                  "attachments": {},
                  "cell_type": "markdown",
                  "metadata": {},
                  "source": [
                        "We can use the `--global`, `--local` and `--system` flags to see only the global, local (if any) and system configuration (if any)."
                  ]
            },
            {
                  "cell_type": "code",
                  "execution_count": 8,
                  "metadata": {},
                  "outputs": [
                        {
                              "name": "stdout",
                              "output_type": "stream",
                              "text": [
                                    "user.name=maximofn\n",
                                    "user.email=maximofn@gmail.com\n",
                                    "user.user=maximofn\n",
                                    "http.sslverify=true\n"
                              ]
                        }
                  ],
                  "source": [
                        "!git config --global --list"
                  ]
            },
            {
                  "cell_type": "code",
                  "execution_count": 9,
                  "metadata": {},
                  "outputs": [
                        {
                              "name": "stdout",
                              "output_type": "stream",
                              "text": [
                                    "core.repositoryformatversion=0\n",
                                    "core.filemode=true\n",
                                    "core.bare=false\n",
                                    "core.logallrefupdates=true\n",
                                    "remote.origin.url=https://github.com/maximofn/portafolio.git\n",
                                    "remote.origin.fetch=+refs/heads/*:refs/remotes/origin/*\n",
                                    "branch.main.remote=origin\n",
                                    "branch.main.merge=refs/heads/main\n"
                              ]
                        }
                  ],
                  "source": [
                        "!git config --local --list"
                  ]
            },
            {
                  "cell_type": "code",
                  "execution_count": 10,
                  "metadata": {},
                  "outputs": [
                        {
                              "name": "stdout",
                              "output_type": "stream",
                              "text": [
                                    "fatal: unable to read config file '/etc/gitconfig': No such file or directory\n"
                              ]
                        }
                  ],
                  "source": [
                        "!git config --system --list"
                  ]
            },
            {
                  "attachments": {},
                  "cell_type": "markdown",
                  "metadata": {},
                  "source": [
                        "In my case there is no system configuration"
                  ]
            },
            {
                  "attachments": {},
                  "cell_type": "markdown",
                  "metadata": {},
                  "source": [
                        "If you only want to know the value of a configuration parameter, it would be enough to enter `git config <parameter>`."
                  ]
            },
            {
                  "cell_type": "code",
                  "execution_count": 15,
                  "metadata": {},
                  "outputs": [
                        {
                              "name": "stdout",
                              "output_type": "stream",
                              "text": [
                                    "maximofn\n"
                              ]
                        }
                  ],
                  "source": [
                        "!git config user.name"
                  ]
            },
            {
                  "attachments": {},
                  "cell_type": "markdown",
                  "metadata": {},
                  "source": [
                        "## Local version control"
                  ]
            },
            {
                  "attachments": {},
                  "cell_type": "markdown",
                  "metadata": {},
                  "source": [
                        "### Initializing a new repository (`git init`)"
                  ]
            },
            {
                  "attachments": {},
                  "cell_type": "markdown",
                  "metadata": {},
                  "source": [
                        "There are two ways to initialize a new repository by making\n",
                        " * One is to do `git init <repository name>`. This will create a new folder with the repository's name\n",
                        " * Another is by navigating to the folder where we want to create a repository and doing `git init`.\n",
                        "\n",
                        "I will create a new repository"
                  ]
            },
            {
                  "cell_type": "code",
                  "execution_count": 1,
                  "metadata": {},
                  "outputs": [
                        {
                              "name": "stdout",
                              "output_type": "stream",
                              "text": [
                                    "Inicializado repositorio Git vacío en /home/wallabot/Documentos/web/portafolio/posts/notebook_git/.git/\n"
                              ]
                        }
                  ],
                  "source": [
                        "!git init notebook_git"
                  ]
            },
            {
                  "attachments": {},
                  "cell_type": "markdown",
                  "metadata": {},
                  "source": [
                        "If we now do `ls` we will see that a new folder called `notebook_git` has been created."
                  ]
            },
            {
                  "cell_type": "code",
                  "execution_count": 3,
                  "metadata": {},
                  "outputs": [
                        {
                              "name": "stdout",
                              "output_type": "stream",
                              "text": [
                                    "notebook_git\n"
                              ]
                        }
                  ],
                  "source": [
                        "!ls | grep notebook_git"
                  ]
            },
            {
                  "attachments": {},
                  "cell_type": "markdown",
                  "metadata": {},
                  "source": [
                        "We move to it"
                  ]
            },
            {
                  "cell_type": "code",
                  "execution_count": 4,
                  "metadata": {},
                  "outputs": [],
                  "source": [
                        "!cd notebook_git"
                  ]
            },
            {
                  "attachments": {},
                  "cell_type": "markdown",
                  "metadata": {},
                  "source": [
                        "Now inside the folder we have two ways to know that the repository has been created, one is by doing `ls -a` which will show all the files and we will see that there is a folder called `.git`. The other way is to do `git status` which will tell us the status of the repository."
                  ]
            },
            {
                  "cell_type": "code",
                  "execution_count": 5,
                  "metadata": {},
                  "outputs": [
                        {
                              "name": "stdout",
                              "output_type": "stream",
                              "text": [
                                    ".  ..  .git\n"
                              ]
                        }
                  ],
                  "source": [
                        "!cd notebook_git && ls -a"
                  ]
            },
            {
                  "cell_type": "code",
                  "execution_count": 6,
                  "metadata": {},
                  "outputs": [
                        {
                              "name": "stdout",
                              "output_type": "stream",
                              "text": [
                                    "En la rama master\n",
                                    "\n",
                                    "No hay commits todavía\n",
                                    "\n",
                                    "no hay nada para confirmar (crea/copia archivos y usa \"git add\" para hacerles seguimiento)\n"
                              ]
                        }
                  ],
                  "source": [
                        "!cd notebook_git && git status"
                  ]
            },
            {
                  "attachments": {},
                  "cell_type": "markdown",
                  "metadata": {},
                  "source": [
                        "As we are in a notebook, each cell has its `path` in the `path` of the notebook, that is why both times I had to do `cd notebook_git &&`, so that it changes to the folder with the repository we just created."
                  ]
            },
            {
                  "attachments": {},
                  "cell_type": "markdown",
                  "metadata": {},
                  "source": [
                        "If I now try `git status` on another `path` where a repository has not been initialized it will give us an error"
                  ]
            },
            {
                  "cell_type": "code",
                  "execution_count": 95,
                  "metadata": {},
                  "outputs": [
                        {
                              "name": "stdout",
                              "output_type": "stream",
                              "text": [
                                    "fatal: no es un repositorio git (ni ninguno de los directorios superiores): .git\n"
                              ]
                        }
                  ],
                  "source": [
                        "!cd ~/ && git status"
                  ]
            },
            {
                  "attachments": {},
                  "cell_type": "markdown",
                  "metadata": {},
                  "source": [
                        "### Create new files"
                  ]
            },
            {
                  "attachments": {},
                  "cell_type": "markdown",
                  "metadata": {},
                  "source": [
                        "As soon as we have initialized a repository we can start creating new files, so let's create one and see what happens"
                  ]
            },
            {
                  "cell_type": "code",
                  "execution_count": 7,
                  "metadata": {},
                  "outputs": [],
                  "source": [
                        "!cd notebook_git && echo \"print('Hello World')\" > hello.py"
                  ]
            },
            {
                  "attachments": {},
                  "cell_type": "markdown",
                  "metadata": {},
                  "source": [
                        "If we now do `git status` again, we see what appears"
                  ]
            },
            {
                  "cell_type": "code",
                  "execution_count": 8,
                  "metadata": {},
                  "outputs": [
                        {
                              "name": "stdout",
                              "output_type": "stream",
                              "text": [
                                    "En la rama master\n",
                                    "\n",
                                    "No hay commits todavía\n",
                                    "\n",
                                    "Archivos sin seguimiento:\n",
                                    "  (usa \"git add <archivo>...\" para incluirlo a lo que se será confirmado)\n",
                                    "\t\u001b[31mhello.py\u001b[m\n",
                                    "\n",
                                    "no hay nada agregado al commit pero hay archivos sin seguimiento presentes (usa \"git add\" para hacerles seguimiento)\n"
                              ]
                        }
                  ],
                  "source": [
                        "!cd notebook_git && git status"
                  ]
            },
            {
                  "attachments": {},
                  "cell_type": "markdown",
                  "metadata": {},
                  "source": [
                        "As you can see now it is telling us that the `hello.py` file is not tracked. That is to say we have to add `hello.py` to the `staged` area, which remember was like the stage where we were going to put everything that later we will take a picture of."
                  ]
            },
            {
                  "attachments": {},
                  "cell_type": "markdown",
                  "metadata": {},
                  "source": [
                        "### Undo the creation of a new file"
                  ]
            },
            {
                  "attachments": {},
                  "cell_type": "markdown",
                  "metadata": {},
                  "source": [
                        "In this case, as they are files that git is not yet following, that is, they are not yet in the `staged` area, we would have three ways to do it"
                  ]
            },
            {
                  "attachments": {},
                  "cell_type": "markdown",
                  "metadata": {},
                  "source": [
                        " * By simply deleting it: As git does not yet follow the file we could do `rm hello.py` and that`s it.\n",
                        " * Deleting it with a git command: Earlier we deleted with `rm` but it is possible that you are on a system that does not have the `rm` command so in that case you can use the git command `git rm hello.py`.\n",
                        " * Finally we can use `git clean`. This is useful for example when there are many new files, and so in a single command we delete all of them."
                  ]
            },
            {
                  "attachments": {},
                  "cell_type": "markdown",
                  "metadata": {},
                  "source": [
                        "#### `git clean`"
                  ]
            },
            {
                  "attachments": {},
                  "cell_type": "markdown",
                  "metadata": {},
                  "source": [
                        "If we run `git clean` plain we will get an error"
                  ]
            },
            {
                  "cell_type": "code",
                  "execution_count": 9,
                  "metadata": {},
                  "outputs": [
                        {
                              "name": "stdout",
                              "output_type": "stream",
                              "text": [
                                    "fatal: clean.requireForce default en true y ninguno de -i, -n, ni -f entregado; rehusando el clean\n"
                              ]
                        }
                  ],
                  "source": [
                        "!cd notebook_git && git clean"
                  ]
            },
            {
                  "attachments": {},
                  "cell_type": "markdown",
                  "metadata": {},
                  "source": [
                        "It is telling us that we need to add one of these flags `-n`, `-i` and `-f`. In addition we are going to see the flag `-d`\n",
                        "\n",
                        " * `-n` (dry run): Will tell us which files will be deleted, but will not delete them.\n",
                        " * `-i`: We will be asked for each file to be deleted.\n",
                        " * `-f`: Will force the deletion of the files\n",
                        " * `-d`: It will also delete folders."
                  ]
            },
            {
                  "attachments": {},
                  "cell_type": "markdown",
                  "metadata": {},
                  "source": [
                        "Let's test it, first we do `git clean -n` to know which files would be deleted"
                  ]
            },
            {
                  "cell_type": "code",
                  "execution_count": 10,
                  "metadata": {},
                  "outputs": [
                        {
                              "name": "stdout",
                              "output_type": "stream",
                              "text": [
                                    "Será borrado hello.py\n"
                              ]
                        }
                  ],
                  "source": [
                        "!cd notebook_git && git clean -n"
                  ]
            },
            {
                  "attachments": {},
                  "cell_type": "markdown",
                  "metadata": {},
                  "source": [
                        "Now we do `git clean -f` to delete it, since we agree on deleting it"
                  ]
            },
            {
                  "cell_type": "code",
                  "execution_count": 11,
                  "metadata": {},
                  "outputs": [
                        {
                              "name": "stdout",
                              "output_type": "stream",
                              "text": [
                                    "Borrando hello.py\n"
                              ]
                        }
                  ],
                  "source": [
                        "!cd notebook_git && git clean -f"
                  ]
            },
            {
                  "attachments": {},
                  "cell_type": "markdown",
                  "metadata": {},
                  "source": [
                        "As we can see, you have deleted `hello.py`."
                  ]
            },
            {
                  "attachments": {},
                  "cell_type": "markdown",
                  "metadata": {},
                  "source": [
                        "### Add a file to the staged area (`git add`)"
                  ]
            },
            {
                  "attachments": {},
                  "cell_type": "markdown",
                  "metadata": {},
                  "source": [
                        "We re-create a file"
                  ]
            },
            {
                  "cell_type": "code",
                  "execution_count": 12,
                  "metadata": {},
                  "outputs": [],
                  "source": [
                        "!cd notebook_git && echo \"print('Hola mundo')\" > hola.py"
                  ]
            },
            {
                  "attachments": {},
                  "cell_type": "markdown",
                  "metadata": {},
                  "source": [
                        "We do a `git status` again to verify that we have the file"
                  ]
            },
            {
                  "cell_type": "code",
                  "execution_count": 13,
                  "metadata": {},
                  "outputs": [
                        {
                              "name": "stdout",
                              "output_type": "stream",
                              "text": [
                                    "En la rama master\n",
                                    "\n",
                                    "No hay commits todavía\n",
                                    "\n",
                                    "Archivos sin seguimiento:\n",
                                    "  (usa \"git add <archivo>...\" para incluirlo a lo que se será confirmado)\n",
                                    "\t\u001b[31mhola.py\u001b[m\n",
                                    "\n",
                                    "no hay nada agregado al commit pero hay archivos sin seguimiento presentes (usa \"git add\" para hacerles seguimiento)\n"
                              ]
                        }
                  ],
                  "source": [
                        "!cd notebook_git && git status"
                  ]
            },
            {
                  "attachments": {},
                  "cell_type": "markdown",
                  "metadata": {},
                  "source": [
                        "We see that we have the file `hola.py` but that git is not tracking it. We also see that it helps us and says `use \"git add\" to track them`.\n",
                        "\n",
                        "The syntax is `git add <file>`, but we can do it in several ways\n",
                        "\n",
                        " * If we want to add more than one file we can do it by putting all the files we want to add to the staged area, separated by a space: `git add <file1> <file2> <file3>`.\n",
                        " * If we want to add all files of the same format, for example, if we want to add all python files it would be `git add *.py`.\n",
                        " * If we want to add all the files in a folder `git add <folder>/`.\n",
                        " * If we want to add all the files we have three ways, `git add --all`, `git add -A` or `git add .`."
                  ]
            },
            {
                  "attachments": {},
                  "cell_type": "markdown",
                  "metadata": {},
                  "source": [
                        "Let's add the newly created file"
                  ]
            },
            {
                  "cell_type": "code",
                  "execution_count": 14,
                  "metadata": {},
                  "outputs": [],
                  "source": [
                        "!cd notebook_git && git add hola.py"
                  ]
            },
            {
                  "attachments": {},
                  "cell_type": "markdown",
                  "metadata": {},
                  "source": [
                        "We do a `git status` to see what has happened"
                  ]
            },
            {
                  "cell_type": "code",
                  "execution_count": 15,
                  "metadata": {},
                  "outputs": [
                        {
                              "name": "stdout",
                              "output_type": "stream",
                              "text": [
                                    "En la rama master\n",
                                    "\n",
                                    "No hay commits todavía\n",
                                    "\n",
                                    "Cambios a ser confirmados:\n",
                                    "  (usa \"git rm --cached <archivo>...\" para sacar del área de stage)\n",
                                    "\t\u001b[32mnuevos archivos: hola.py\u001b[m\n",
                                    "\n"
                              ]
                        }
                  ],
                  "source": [
                        "!cd notebook_git && git status"
                  ]
            },
            {
                  "attachments": {},
                  "cell_type": "markdown",
                  "metadata": {},
                  "source": [
                        "As we can see it tells us that we have a new file that is being tracked and is pending confirmation `hola.py`."
                  ]
            },
            {
                  "attachments": {},
                  "cell_type": "markdown",
                  "metadata": {},
                  "source": [
                        "### Removing a file from the staged area (`git reset`)"
                  ]
            },
            {
                  "attachments": {},
                  "cell_type": "markdown",
                  "metadata": {},
                  "source": [
                        "In case we add a file to the staged area and we want to remove it we have to use `git reset <file>`, let's see it"
                  ]
            },
            {
                  "attachments": {},
                  "cell_type": "markdown",
                  "metadata": {},
                  "source": [
                        "We create and add to the staged area a new file"
                  ]
            },
            {
                  "cell_type": "code",
                  "execution_count": 16,
                  "metadata": {},
                  "outputs": [],
                  "source": [
                        "!cd notebook_git && echo \"print('Este no')\" > adios.py && git add adios.py"
                  ]
            },
            {
                  "attachments": {},
                  "cell_type": "markdown",
                  "metadata": {},
                  "source": [
                        "We do `git status` to check that it is in the staged area"
                  ]
            },
            {
                  "cell_type": "code",
                  "execution_count": 17,
                  "metadata": {},
                  "outputs": [
                        {
                              "name": "stdout",
                              "output_type": "stream",
                              "text": [
                                    "En la rama master\n",
                                    "\n",
                                    "No hay commits todavía\n",
                                    "\n",
                                    "Cambios a ser confirmados:\n",
                                    "  (usa \"git rm --cached <archivo>...\" para sacar del área de stage)\n",
                                    "\t\u001b[32mnuevos archivos: adios.py\u001b[m\n",
                                    "\t\u001b[32mnuevos archivos: hola.py\u001b[m\n",
                                    "\n"
                              ]
                        }
                  ],
                  "source": [
                        "!cd notebook_git && git status"
                  ]
            },
            {
                  "attachments": {},
                  "cell_type": "markdown",
                  "metadata": {},
                  "source": [
                        "As we can see there are `hello.py` and `adios.py`, so we use `git reset adios.py` to remove it from the staged area"
                  ]
            },
            {
                  "cell_type": "code",
                  "execution_count": 18,
                  "metadata": {},
                  "outputs": [],
                  "source": [
                        "!cd notebook_git && git reset adios.py"
                  ]
            },
            {
                  "attachments": {},
                  "cell_type": "markdown",
                  "metadata": {},
                  "source": [
                        "We do a `git status` to check that it has gone out"
                  ]
            },
            {
                  "cell_type": "code",
                  "execution_count": 19,
                  "metadata": {},
                  "outputs": [
                        {
                              "name": "stdout",
                              "output_type": "stream",
                              "text": [
                                    "En la rama master\n",
                                    "\n",
                                    "No hay commits todavía\n",
                                    "\n",
                                    "Cambios a ser confirmados:\n",
                                    "  (usa \"git rm --cached <archivo>...\" para sacar del área de stage)\n",
                                    "\t\u001b[32mnuevos archivos: hola.py\u001b[m\n",
                                    "\n",
                                    "Archivos sin seguimiento:\n",
                                    "  (usa \"git add <archivo>...\" para incluirlo a lo que se será confirmado)\n",
                                    "\t\u001b[31madios.py\u001b[m\n",
                                    "\n"
                              ]
                        }
                  ],
                  "source": [
                        "!cd notebook_git && git status"
                  ]
            },
            {
                  "attachments": {},
                  "cell_type": "markdown",
                  "metadata": {},
                  "source": [
                        "We can see that `adios.py` is no longer tracked by git, it has been removed from the staged area."
                  ]
            },
            {
                  "attachments": {},
                  "cell_type": "markdown",
                  "metadata": {},
                  "source": [
                        "We do `git clean -f` to delete it"
                  ]
            },
            {
                  "cell_type": "code",
                  "execution_count": 20,
                  "metadata": {},
                  "outputs": [
                        {
                              "name": "stdout",
                              "output_type": "stream",
                              "text": [
                                    "Borrando adios.py\n",
                                    "En la rama master\n",
                                    "\n",
                                    "No hay commits todavía\n",
                                    "\n",
                                    "Cambios a ser confirmados:\n",
                                    "  (usa \"git rm --cached <archivo>...\" para sacar del área de stage)\n",
                                    "\t\u001b[32mnuevos archivos: hola.py\u001b[m\n",
                                    "\n"
                              ]
                        }
                  ],
                  "source": [
                        "!cd notebook_git && git clean -f && git status"
                  ]
            },
            {
                  "attachments": {},
                  "cell_type": "markdown",
                  "metadata": {},
                  "source": [
                        "### Commit (`git commit`)"
                  ]
            },
            {
                  "attachments": {},
                  "cell_type": "markdown",
                  "metadata": {},
                  "source": [
                        "If we go back to the similarity in which we said that the staged area was the stage where we sent the files to which we wanted to take the photo, now it is time to take the photo to immortalize the current state. This is making a `commit`.\n",
                        "\n",
                        "In this way the current state of the code is recorded, so with each commit, we will have a record of the evolution of the code. As with a photo album, with each photo we have a record of the evolution of what we put on the stage."
                  ]
            },
            {
                  "attachments": {},
                  "cell_type": "markdown",
                  "metadata": {},
                  "source": [
                        "As at the time of committing the code change is being registered, git does not let us commit if we do not make a minimal comment. So there are two ways to commit\n",
                        "\n",
                        " * git commit` in this way will open the editor we have set in the git configuration. If we have not configured a default editor, `vi` will open. If we want to change the editor configuration we can do for example `git config --global core.editor \"code\"` or `git config core.editor \"code\"` to set vscode as the default editor globally or locally.\n",
                        " * `git commit -m \"Commit message\"`. This way we add the message directly\n",
                        "\n",
                        "When doing the commit in the first way we can have a first line which will be the title of the commit and several more lines where it is explained in more detail. If we want to be able to do this with the `-m` flag it will be enough to add several `-m` flags in a row: `git commit -m \"Title of the commit\" -m \"First line explaining more\" -m \"Second line explaining more\"`."
                  ]
            },
            {
                  "attachments": {},
                  "cell_type": "markdown",
                  "metadata": {},
                  "source": [
                        "Once we have made the commit, this will save a record of the change to our repository locally. We have not yet connected to a remote server"
                  ]
            },
            {
                  "attachments": {},
                  "cell_type": "markdown",
                  "metadata": {},
                  "source": [
                        "Let's try committing"
                  ]
            },
            {
                  "cell_type": "code",
                  "execution_count": 21,
                  "metadata": {},
                  "outputs": [
                        {
                              "name": "stdout",
                              "output_type": "stream",
                              "text": [
                                    "[master (commit-raíz) 1c95e4f] Primer commit, hola.py\n",
                                    " 1 file changed, 1 insertion(+)\n",
                                    " create mode 100644 hola.py\n"
                              ]
                        }
                  ],
                  "source": [
                        "!cd notebook_git && git commit -m \"Primer commit, hola.py\""
                  ]
            },
            {
                  "attachments": {},
                  "cell_type": "markdown",
                  "metadata": {},
                  "source": [
                        "We do a `git status`"
                  ]
            },
            {
                  "cell_type": "code",
                  "execution_count": 22,
                  "metadata": {},
                  "outputs": [
                        {
                              "name": "stdout",
                              "output_type": "stream",
                              "text": [
                                    "En la rama master\n",
                                    "nada para hacer commit, el árbol de trabajo está limpio\n"
                              ]
                        }
                  ],
                  "source": [
                        "!cd notebook_git && git status"
                  ]
            },
            {
                  "attachments": {},
                  "cell_type": "markdown",
                  "metadata": {},
                  "source": [
                        "We see that it tells us that there is nothing new, we have all our repository fully controlled."
                  ]
            },
            {
                  "attachments": {},
                  "cell_type": "markdown",
                  "metadata": {},
                  "source": [
                        "#### Commit skipping add (`git commit -a -m` or `git commit -am`)"
                  ]
            },
            {
                  "attachments": {},
                  "cell_type": "markdown",
                  "metadata": {},
                  "source": [
                        "In the case where we want to bring all the files we have modified to the staged area and then commit them, we can do all this in one step using `git commit -a -m \"message\"`, `git commit --all -m \"message\"` or `git commit -am \"message\"`.\n",
                        "\n",
                        " > Note: This is only valid if a file is modified. If the file is new and git does not track it, this is not valid.\n",
                        "\n",
                        "Let's see an example, let's modify `hola.py`."
                  ]
            },
            {
                  "cell_type": "code",
                  "execution_count": 23,
                  "metadata": {},
                  "outputs": [],
                  "source": [
                        "!cd notebook_git && echo \"print('He añadido una nueva linea')\" >> hola.py"
                  ]
            },
            {
                  "attachments": {},
                  "cell_type": "markdown",
                  "metadata": {},
                  "source": [
                        "Let's do a `git status` to make sure"
                  ]
            },
            {
                  "cell_type": "code",
                  "execution_count": 24,
                  "metadata": {},
                  "outputs": [
                        {
                              "name": "stdout",
                              "output_type": "stream",
                              "text": [
                                    "En la rama master\n",
                                    "Cambios no rastreados para el commit:\n",
                                    "  (usa \"git add <archivo>...\" para actualizar lo que será confirmado)\n",
                                    "  (usa \"git restore <archivo>...\" para descartar los cambios en el directorio de trabajo)\n",
                                    "\t\u001b[31mmodificados:     hola.py\u001b[m\n",
                                    "\n",
                                    "sin cambios agregados al commit (usa \"git add\" y/o \"git commit -a\")\n"
                              ]
                        }
                  ],
                  "source": [
                        "!cd notebook_git && git status"
                  ]
            },
            {
                  "attachments": {},
                  "cell_type": "markdown",
                  "metadata": {},
                  "source": [
                        "We can see that in the git help itself it already suggests us to use `git commit -a`, so we are going to do so"
                  ]
            },
            {
                  "cell_type": "code",
                  "execution_count": 25,
                  "metadata": {},
                  "outputs": [
                        {
                              "name": "stdout",
                              "output_type": "stream",
                              "text": [
                                    "[master 6e99e73] Segundo commit, hola.py\n",
                                    " 1 file changed, 1 insertion(+)\n"
                              ]
                        }
                  ],
                  "source": [
                        "!cd notebook_git && git commit -am \"Segundo commit, hola.py\""
                  ]
            },
            {
                  "attachments": {},
                  "cell_type": "markdown",
                  "metadata": {},
                  "source": [
                        "We return to do a `git status`."
                  ]
            },
            {
                  "cell_type": "code",
                  "execution_count": 26,
                  "metadata": {},
                  "outputs": [
                        {
                              "name": "stdout",
                              "output_type": "stream",
                              "text": [
                                    "En la rama master\n",
                                    "nada para hacer commit, el árbol de trabajo está limpio\n"
                              ]
                        }
                  ],
                  "source": [
                        "!cd notebook_git && git status"
                  ]
            },
            {
                  "attachments": {},
                  "cell_type": "markdown",
                  "metadata": {},
                  "source": [
                        "There is nothing to commit, the change committee has already been made."
                  ]
            },
            {
                  "attachments": {},
                  "cell_type": "markdown",
                  "metadata": {},
                  "source": [
                        "### Modify a file to which a commit has been made"
                  ]
            },
            {
                  "attachments": {},
                  "cell_type": "markdown",
                  "metadata": {},
                  "source": [
                        "As while we are developing we are modifying files, it is possible that in some file to which we had already made commit we modify it. In our case we are going to add a line to `hola.py`."
                  ]
            },
            {
                  "cell_type": "code",
                  "execution_count": 27,
                  "metadata": {},
                  "outputs": [],
                  "source": [
                        "!cd notebook_git && echo \"print('He añadido una tercera linea')\" >> hola.py"
                  ]
            },
            {
                  "cell_type": "code",
                  "execution_count": 28,
                  "metadata": {},
                  "outputs": [
                        {
                              "name": "stdout",
                              "output_type": "stream",
                              "text": [
                                    "print('Hola mundo')\n",
                                    "print('He añadido una nueva linea')\n",
                                    "print('He añadido una tercera linea')\n"
                              ]
                        }
                  ],
                  "source": [
                        "!cd notebook_git && cat hola.py"
                  ]
            },
            {
                  "attachments": {},
                  "cell_type": "markdown",
                  "metadata": {},
                  "source": [
                        "If we do `git status` we will see that `hola.py` has modifications"
                  ]
            },
            {
                  "cell_type": "code",
                  "execution_count": 29,
                  "metadata": {},
                  "outputs": [
                        {
                              "name": "stdout",
                              "output_type": "stream",
                              "text": [
                                    "En la rama master\n",
                                    "Cambios no rastreados para el commit:\n",
                                    "  (usa \"git add <archivo>...\" para actualizar lo que será confirmado)\n",
                                    "  (usa \"git restore <archivo>...\" para descartar los cambios en el directorio de trabajo)\n",
                                    "\t\u001b[31mmodificados:     hola.py\u001b[m\n",
                                    "\n",
                                    "sin cambios agregados al commit (usa \"git add\" y/o \"git commit -a\")\n"
                              ]
                        }
                  ],
                  "source": [
                        "!cd notebook_git && git status"
                  ]
            },
            {
                  "attachments": {},
                  "cell_type": "markdown",
                  "metadata": {},
                  "source": [
                        "### View changes in a file (`git diff <file>`)"
                  ]
            },
            {
                  "attachments": {},
                  "cell_type": "markdown",
                  "metadata": {},
                  "source": [
                        "Maybe we have been developing for a while since the last commit and we don't know what modifications we have made, for this we use `git diff <file>` which will tell us what changes we have made."
                  ]
            },
            {
                  "cell_type": "code",
                  "execution_count": 30,
                  "metadata": {},
                  "outputs": [
                        {
                              "name": "stdout",
                              "output_type": "stream",
                              "text": [
                                    "\u001b[1mdiff --git a/hola.py b/hola.py\u001b[m\n",
                                    "\u001b[1mindex 91dee80..fba0d22 100644\u001b[m\n",
                                    "\u001b[1m--- a/hola.py\u001b[m\n",
                                    "\u001b[1m+++ b/hola.py\u001b[m\n",
                                    "\u001b[36m@@ -1,2 +1,3 @@\u001b[m\n",
                                    " print('Hola mundo')\u001b[m\n",
                                    " print('He añadido una nueva linea')\u001b[m\n",
                                    "\u001b[32m+\u001b[m\u001b[32mprint('He añadido una tercera linea')\u001b[m\n"
                              ]
                        }
                  ],
                  "source": [
                        "!cd notebook_git && git diff hola.py"
                  ]
            },
            {
                  "attachments": {},
                  "cell_type": "markdown",
                  "metadata": {},
                  "source": [
                        "Although it is not very intuitive we can see that we have added the last line in `hola.py`."
                  ]
            },
            {
                  "attachments": {},
                  "cell_type": "markdown",
                  "metadata": {},
                  "source": [
                        "### Undo modifications to a file (`git restore <file>`)"
                  ]
            },
            {
                  "attachments": {},
                  "cell_type": "markdown",
                  "metadata": {},
                  "source": [
                        "If we do not like the changes we have made and we want to remove them we can do `git restore <file>`."
                  ]
            },
            {
                  "cell_type": "code",
                  "execution_count": 31,
                  "metadata": {},
                  "outputs": [],
                  "source": [
                        "!cd notebook_git && git restore hola.py"
                  ]
            },
            {
                  "attachments": {},
                  "cell_type": "markdown",
                  "metadata": {},
                  "source": [
                        "Let's see what happened with a `git status`."
                  ]
            },
            {
                  "cell_type": "code",
                  "execution_count": 32,
                  "metadata": {},
                  "outputs": [
                        {
                              "name": "stdout",
                              "output_type": "stream",
                              "text": [
                                    "En la rama master\n",
                                    "nada para hacer commit, el árbol de trabajo está limpio\n"
                              ]
                        }
                  ],
                  "source": [
                        "!cd notebook_git && git status"
                  ]
            },
            {
                  "attachments": {},
                  "cell_type": "markdown",
                  "metadata": {},
                  "source": [
                        "We see that the changes in `hola.py` since the last commit have been discarded."
                  ]
            },
            {
                  "attachments": {},
                  "cell_type": "markdown",
                  "metadata": {},
                  "source": [
                        "### Change history (`git log`)"
                  ]
            },
            {
                  "attachments": {},
                  "cell_type": "markdown",
                  "metadata": {},
                  "source": [
                        "With git we can see the history of all the changes that we have been committing, for this we use `git log`. It is as if we were reviewing our photo album."
                  ]
            },
            {
                  "cell_type": "code",
                  "execution_count": 33,
                  "metadata": {},
                  "outputs": [
                        {
                              "name": "stdout",
                              "output_type": "stream",
                              "text": [
                                    "\u001b[33mcommit 6e99e73cf0c5474078cc9f328ee6a54fb9ffb169\u001b[m\u001b[33m (\u001b[m\u001b[1;36mHEAD -> \u001b[m\u001b[1;32mmaster\u001b[m\u001b[33m)\u001b[m\n",
                                    "Author: maximofn <maximofn@gmail.com>\n",
                                    "Date:   Sun Apr 16 02:29:04 2023 +0200\n",
                                    "\n",
                                    "    Segundo commit, hola.py\n",
                                    "\n",
                                    "\u001b[33mcommit 1c95e4fd8388ceedee368e0121c4b0ef4900c2ac\u001b[m\n",
                                    "Author: maximofn <maximofn@gmail.com>\n",
                                    "Date:   Sun Apr 16 02:28:44 2023 +0200\n",
                                    "\n",
                                    "    Primer commit, hola.py\n"
                              ]
                        }
                  ],
                  "source": [
                        "!cd notebook_git && git log"
                  ]
            },
            {
                  "attachments": {},
                  "cell_type": "markdown",
                  "metadata": {},
                  "source": [
                        "We can see the history of changes, read it from the bottom up.\n",
                        "\n",
                        "First we see the commit with message `First commit, hello.py`, we can see the date, the author and the hash, that is its unique identifier\n",
                        "\n",
                        "Next we see the second commit with message `Second commit, hello.py`, with its date, author and hash. It also shows us where the `HEAD` is and in which branch we are in."
                  ]
            },
            {
                  "attachments": {},
                  "cell_type": "markdown",
                  "metadata": {},
                  "source": [
                        "If we use flags we can get the information in different ways, but depending on which flags we use it may be better for us, here are some useful flags:\n",
                        "\n",
                        " * `git log --oneline`: Displays commits on a single line, with the abbreviated hash and the commit message.\n",
                        " * `git log --graph`: Displays a text graph of the repository history, including branches and merges.\n",
                        " * `git log --decorate`: Displays the references (branches, tags, HEAD, etc.) in the log along with the commit they point to.\n",
                        " * ` `git log --author=\"<author>\"`: Filter the commit history to show only those made by a specific author.\n",
                        " * ` `git log --since=\"<date>\"`: Shows the commits made since a specific date. You can use different date formats, such as \"1 week ago\" or \"2023-01-01\".\n",
                        " * ` `git log --until=\"<date>\"`: Shows the commits made up to a specific date.\n",
                        " * `git log <branch>`: Shows the commits of a specific branch.\n",
                        " * `git log <commit1>..<commit2>`: Shows the commits that are in the range between two specific commits.\n",
                        " * ` `git log --grep=\"<word>\"`: Searches commit messages for a specific word or phrase.\n",
                        " * `git log -p`: Shows the differences (in patch form) introduced in each commit.\n",
                        " * `git log -n <n number>`: Displays the last number of commits. For example, git log -n 5 will show the last 5 commits.\n",
                        " * `git log --stat`: Displays file change statistics for each commit, such as the number of lines added and removed.\n",
                        "\n",
                        "For example, a convenient way to view the history is to use `git log --graph --oneline --decorate`."
                  ]
            },
            {
                  "cell_type": "code",
                  "execution_count": 34,
                  "metadata": {},
                  "outputs": [
                        {
                              "name": "stdout",
                              "output_type": "stream",
                              "text": [
                                    "* \u001b[33m6e99e73\u001b[m\u001b[33m (\u001b[m\u001b[1;36mHEAD -> \u001b[m\u001b[1;32mmaster\u001b[m\u001b[33m)\u001b[m Segundo commit, hola.py\n",
                                    "* \u001b[33m1c95e4f\u001b[m Primer commit, hola.py\n"
                              ]
                        }
                  ],
                  "source": [
                        "!cd notebook_git && git log --graph --oneline --decorate"
                  ]
            },
            {
                  "attachments": {},
                  "cell_type": "markdown",
                  "metadata": {},
                  "source": [
                        "We can see that instead of giving us the whole hash it gives us only a few numbers, this is because at the moment the repository has so little history, that with those few numbers is enough, if we wanted to return to the previous point, instead of entering the whole hash (`7c448f69e30ab1b5783f5cf9ee3ae5bc362ecd4d`), entering only `7c448f6` would be enough."
                  ]
            },
            {
                  "attachments": {},
                  "cell_type": "markdown",
                  "metadata": {},
                  "source": [
                        "We will talk about branches later, but now let's see what the `HEAD` is."
                  ]
            },
            {
                  "attachments": {},
                  "cell_type": "markdown",
                  "metadata": {},
                  "source": [
                        "### HEAD"
                  ]
            },
            {
                  "attachments": {},
                  "cell_type": "markdown",
                  "metadata": {},
                  "source": [
                        "While developing we have been able to make changes and comment them, that is to say, we have been filling the photo album of our code. `HEAD` is the position in the album in which we are.\n",
                        "\n",
                        "It is usually the last position of all commits."
                  ]
            },
            {
                  "attachments": {},
                  "cell_type": "markdown",
                  "metadata": {},
                  "source": [
                        "If we want to know where we are we can do it by `git rev-parse HEAD`."
                  ]
            },
            {
                  "cell_type": "code",
                  "execution_count": 35,
                  "metadata": {},
                  "outputs": [
                        {
                              "name": "stdout",
                              "output_type": "stream",
                              "text": [
                                    "6e99e73cf0c5474078cc9f328ee6a54fb9ffb169\n"
                              ]
                        }
                  ],
                  "source": [
                        "!cd notebook_git && git rev-parse HEAD"
                  ]
            },
            {
                  "attachments": {},
                  "cell_type": "markdown",
                  "metadata": {},
                  "source": [
                        "As you can see, the hash obtained matches the last hash obtained when doing `git log`."
                  ]
            },
            {
                  "cell_type": "code",
                  "execution_count": 36,
                  "metadata": {},
                  "outputs": [
                        {
                              "name": "stdout",
                              "output_type": "stream",
                              "text": [
                                    "\u001b[33mcommit 6e99e73cf0c5474078cc9f328ee6a54fb9ffb169\u001b[m\u001b[33m (\u001b[m\u001b[1;36mHEAD -> \u001b[m\u001b[1;32mmaster\u001b[m\u001b[33m)\u001b[m\n",
                                    "Author: maximofn <maximofn@gmail.com>\n",
                                    "Date:   Sun Apr 16 02:29:04 2023 +0200\n",
                                    "\n",
                                    "    Segundo commit, hola.py\n",
                                    "\n",
                                    "\u001b[33mcommit 1c95e4fd8388ceedee368e0121c4b0ef4900c2ac\u001b[m\n",
                                    "Author: maximofn <maximofn@gmail.com>\n",
                                    "Date:   Sun Apr 16 02:28:44 2023 +0200\n",
                                    "\n",
                                    "    Primer commit, hola.py\n"
                              ]
                        }
                  ],
                  "source": [
                        "!cd notebook_git && git log"
                  ]
            },
            {
                  "attachments": {},
                  "cell_type": "markdown",
                  "metadata": {},
                  "source": [
                        "### Modify a commit (`git commit --amend`)"
                  ]
            },
            {
                  "attachments": {},
                  "cell_type": "markdown",
                  "metadata": {},
                  "source": [
                        "We may want to modify a commit, because we want to change the message, or because we want to add more files to the commit, so we will look at both cases"
                  ]
            },
            {
                  "attachments": {},
                  "cell_type": "markdown",
                  "metadata": {},
                  "source": [
                        "#### Modify the commit message"
                  ]
            },
            {
                  "attachments": {},
                  "cell_type": "markdown",
                  "metadata": {},
                  "source": [
                        "If we only want to modify the message, what we have to do is `git commit --amend -m \"New message\"`, let's see an example let's modify `hola.py`."
                  ]
            },
            {
                  "cell_type": "code",
                  "execution_count": 37,
                  "metadata": {},
                  "outputs": [],
                  "source": [
                        "!cd notebook_git && echo \"print('Esta es la tercera linea')\" >> hola.py"
                  ]
            },
            {
                  "attachments": {},
                  "cell_type": "markdown",
                  "metadata": {},
                  "source": [
                        "We do a `git status`"
                  ]
            },
            {
                  "cell_type": "code",
                  "execution_count": 38,
                  "metadata": {},
                  "outputs": [
                        {
                              "name": "stdout",
                              "output_type": "stream",
                              "text": [
                                    "En la rama master\n",
                                    "Cambios no rastreados para el commit:\n",
                                    "  (usa \"git add <archivo>...\" para actualizar lo que será confirmado)\n",
                                    "  (usa \"git restore <archivo>...\" para descartar los cambios en el directorio de trabajo)\n",
                                    "\t\u001b[31mmodificados:     hola.py\u001b[m\n",
                                    "\n",
                                    "sin cambios agregados al commit (usa \"git add\" y/o \"git commit -a\")\n"
                              ]
                        }
                  ],
                  "source": [
                        "!cd notebook_git && git status"
                  ]
            },
            {
                  "attachments": {},
                  "cell_type": "markdown",
                  "metadata": {},
                  "source": [
                        "Indeed we see that `hola.py` has modifications, so we make a commit with these modifications"
                  ]
            },
            {
                  "cell_type": "code",
                  "execution_count": 39,
                  "metadata": {},
                  "outputs": [
                        {
                              "name": "stdout",
                              "output_type": "stream",
                              "text": [
                                    "[master 60e2ffd] Tercer commot, hola.py\n",
                                    " 1 file changed, 1 insertion(+)\n"
                              ]
                        }
                  ],
                  "source": [
                        "!cd notebook_git && git commit -am \"Tercer commot, hola.py\""
                  ]
            },
            {
                  "attachments": {},
                  "cell_type": "markdown",
                  "metadata": {},
                  "source": [
                        "Let's see the commit history"
                  ]
            },
            {
                  "cell_type": "code",
                  "execution_count": 40,
                  "metadata": {},
                  "outputs": [
                        {
                              "name": "stdout",
                              "output_type": "stream",
                              "text": [
                                    "* \u001b[33m60e2ffd\u001b[m\u001b[33m (\u001b[m\u001b[1;36mHEAD -> \u001b[m\u001b[1;32mmaster\u001b[m\u001b[33m)\u001b[m Tercer commot, hola.py\n",
                                    "* \u001b[33m6e99e73\u001b[m Segundo commit, hola.py\n",
                                    "* \u001b[33m1c95e4f\u001b[m Primer commit, hola.py\n"
                              ]
                        }
                  ],
                  "source": [
                        "!cd notebook_git && git log --graph --oneline --decorate"
                  ]
            },
            {
                  "attachments": {},
                  "cell_type": "markdown",
                  "metadata": {},
                  "source": [
                        "**Oh no! **we have written `commot` instead of `commit`, so we will modify the message"
                  ]
            },
            {
                  "cell_type": "code",
                  "execution_count": 41,
                  "metadata": {},
                  "outputs": [
                        {
                              "name": "stdout",
                              "output_type": "stream",
                              "text": [
                                    "[master c4930d7] Tercer commit, hola.py\n",
                                    " Date: Sun Apr 16 02:29:59 2023 +0200\n",
                                    " 1 file changed, 1 insertion(+)\n"
                              ]
                        }
                  ],
                  "source": [
                        "!cd notebook_git && git commit --amend -m \"Tercer commit, hola.py\""
                  ]
            },
            {
                  "attachments": {},
                  "cell_type": "markdown",
                  "metadata": {},
                  "source": [
                        "Back to the hostorial"
                  ]
            },
            {
                  "cell_type": "code",
                  "execution_count": 42,
                  "metadata": {},
                  "outputs": [
                        {
                              "name": "stdout",
                              "output_type": "stream",
                              "text": [
                                    "* \u001b[33mc4930d7\u001b[m\u001b[33m (\u001b[m\u001b[1;36mHEAD -> \u001b[m\u001b[1;32mmaster\u001b[m\u001b[33m)\u001b[m Tercer commit, hola.py\n",
                                    "* \u001b[33m6e99e73\u001b[m Segundo commit, hola.py\n",
                                    "* \u001b[33m1c95e4f\u001b[m Primer commit, hola.py\n"
                              ]
                        }
                  ],
                  "source": [
                        "!cd notebook_git && git log --graph --oneline --decorate"
                  ]
            },
            {
                  "attachments": {},
                  "cell_type": "markdown",
                  "metadata": {},
                  "source": [
                        "We see that it is now well"
                  ]
            },
            {
                  "attachments": {},
                  "cell_type": "markdown",
                  "metadata": {},
                  "source": [
                        "#### Add files to the last commit"
                  ]
            },
            {
                  "attachments": {},
                  "cell_type": "markdown",
                  "metadata": {},
                  "source": [
                        "Suppose we forgot to add a file to the last commit, we simply do a `git add` with that file and do `git commit --amend -m \"message\"`."
                  ]
            },
            {
                  "attachments": {},
                  "cell_type": "markdown",
                  "metadata": {},
                  "source": [
                        "We are going to create two new files"
                  ]
            },
            {
                  "cell_type": "code",
                  "execution_count": 43,
                  "metadata": {},
                  "outputs": [],
                  "source": [
                        "!cd notebook_git && echo \"print('Este es el archivo 1')\" > archivo1.py"
                  ]
            },
            {
                  "cell_type": "code",
                  "execution_count": 44,
                  "metadata": {},
                  "outputs": [],
                  "source": [
                        "!cd notebook_git && echo \"print('Este es el archivo 2')\" > archivo2.py"
                  ]
            },
            {
                  "attachments": {},
                  "cell_type": "markdown",
                  "metadata": {},
                  "source": [
                        "Now we commit only one"
                  ]
            },
            {
                  "cell_type": "code",
                  "execution_count": 45,
                  "metadata": {},
                  "outputs": [
                        {
                              "name": "stdout",
                              "output_type": "stream",
                              "text": [
                                    "[master 285b243] Commit con el archivo 1\n",
                                    " 1 file changed, 1 insertion(+)\n",
                                    " create mode 100644 archivo1.py\n"
                              ]
                        }
                  ],
                  "source": [
                        "!cd notebook_git && git add archivo1.py && git commit -m \"Commit con el archivo 1\""
                  ]
            },
            {
                  "cell_type": "code",
                  "execution_count": 46,
                  "metadata": {},
                  "outputs": [
                        {
                              "name": "stdout",
                              "output_type": "stream",
                              "text": [
                                    "En la rama master\n",
                                    "Archivos sin seguimiento:\n",
                                    "  (usa \"git add <archivo>...\" para incluirlo a lo que se será confirmado)\n",
                                    "\t\u001b[31marchivo2.py\u001b[m\n",
                                    "\n",
                                    "no hay nada agregado al commit pero hay archivos sin seguimiento presentes (usa \"git add\" para hacerles seguimiento)\n"
                              ]
                        }
                  ],
                  "source": [
                        "!cd notebook_git && git status"
                  ]
            },
            {
                  "cell_type": "code",
                  "execution_count": 47,
                  "metadata": {},
                  "outputs": [
                        {
                              "name": "stdout",
                              "output_type": "stream",
                              "text": [
                                    "* \u001b[33m285b243\u001b[m\u001b[33m (\u001b[m\u001b[1;36mHEAD -> \u001b[m\u001b[1;32mmaster\u001b[m\u001b[33m)\u001b[m Commit con el archivo 1\n",
                                    "* \u001b[33mc4930d7\u001b[m Tercer commit, hola.py\n",
                                    "* \u001b[33m6e99e73\u001b[m Segundo commit, hola.py\n",
                                    "* \u001b[33m1c95e4f\u001b[m Primer commit, hola.py\n"
                              ]
                        }
                  ],
                  "source": [
                        "!cd notebook_git && git log --graph --oneline --decorate"
                  ]
            },
            {
                  "attachments": {},
                  "cell_type": "markdown",
                  "metadata": {},
                  "source": [
                        "As we can see we have left file 2 behind, so we modify the commit and add file 2"
                  ]
            },
            {
                  "cell_type": "code",
                  "execution_count": 48,
                  "metadata": {},
                  "outputs": [],
                  "source": [
                        "!cd notebook_git && git add archivo2.py"
                  ]
            },
            {
                  "cell_type": "code",
                  "execution_count": 49,
                  "metadata": {},
                  "outputs": [
                        {
                              "name": "stdout",
                              "output_type": "stream",
                              "text": [
                                    "[master 04ebd1f] Commit con los archivos 1 y 2\n",
                                    " Date: Sun Apr 16 02:30:26 2023 +0200\n",
                                    " 2 files changed, 2 insertions(+)\n",
                                    " create mode 100644 archivo1.py\n",
                                    " create mode 100644 archivo2.py\n"
                              ]
                        }
                  ],
                  "source": [
                        "!cd notebook_git && git commit --amend -m \"Commit con los archivos 1 y 2\""
                  ]
            },
            {
                  "cell_type": "code",
                  "execution_count": 50,
                  "metadata": {},
                  "outputs": [
                        {
                              "name": "stdout",
                              "output_type": "stream",
                              "text": [
                                    "En la rama master\n",
                                    "nada para hacer commit, el árbol de trabajo está limpio\n"
                              ]
                        }
                  ],
                  "source": [
                        "!cd notebook_git && git status"
                  ]
            },
            {
                  "cell_type": "code",
                  "execution_count": 51,
                  "metadata": {},
                  "outputs": [
                        {
                              "name": "stdout",
                              "output_type": "stream",
                              "text": [
                                    "* \u001b[33m04ebd1f\u001b[m\u001b[33m (\u001b[m\u001b[1;36mHEAD -> \u001b[m\u001b[1;32mmaster\u001b[m\u001b[33m)\u001b[m Commit con los archivos 1 y 2\n",
                                    "* \u001b[33mc4930d7\u001b[m Tercer commit, hola.py\n",
                                    "* \u001b[33m6e99e73\u001b[m Segundo commit, hola.py\n",
                                    "* \u001b[33m1c95e4f\u001b[m Primer commit, hola.py\n"
                              ]
                        }
                  ],
                  "source": [
                        "!cd notebook_git && git log --graph --oneline --decorate"
                  ]
            },
            {
                  "attachments": {},
                  "cell_type": "markdown",
                  "metadata": {},
                  "source": [
                        "Now the last commit has the two new files"
                  ]
            },
            {
                  "attachments": {},
                  "cell_type": "markdown",
                  "metadata": {},
                  "source": [
                        "### Undo a commit (`git reset HEAD~1`)"
                  ]
            },
            {
                  "attachments": {},
                  "cell_type": "markdown",
                  "metadata": {},
                  "source": [
                        "With this command we tell git to move back one position in the commit history. There are two options `--soft` which will not erase the changes we have made and `--hard` which will."
                  ]
            },
            {
                  "attachments": {},
                  "cell_type": "markdown",
                  "metadata": {},
                  "source": [
                        "#### Undo a commit keeping the changes (`git reset --soft HEAD~1`)"
                  ]
            },
            {
                  "attachments": {},
                  "cell_type": "markdown",
                  "metadata": {},
                  "source": [
                        "Let's create a new file"
                  ]
            },
            {
                  "cell_type": "code",
                  "execution_count": 52,
                  "metadata": {},
                  "outputs": [],
                  "source": [
                        "!cd notebook_git && echo \"print('Este es el archivo 3')\" > archivo3.py"
                  ]
            },
            {
                  "attachments": {},
                  "cell_type": "markdown",
                  "metadata": {},
                  "source": [
                        "We do a `git status`"
                  ]
            },
            {
                  "cell_type": "code",
                  "execution_count": 53,
                  "metadata": {},
                  "outputs": [
                        {
                              "name": "stdout",
                              "output_type": "stream",
                              "text": [
                                    "En la rama master\n",
                                    "Archivos sin seguimiento:\n",
                                    "  (usa \"git add <archivo>...\" para incluirlo a lo que se será confirmado)\n",
                                    "\t\u001b[31marchivo3.py\u001b[m\n",
                                    "\n",
                                    "no hay nada agregado al commit pero hay archivos sin seguimiento presentes (usa \"git add\" para hacerles seguimiento)\n"
                              ]
                        }
                  ],
                  "source": [
                        "!cd notebook_git && git status"
                  ]
            },
            {
                  "attachments": {},
                  "cell_type": "markdown",
                  "metadata": {},
                  "source": [
                        "We make a commit by adding this file"
                  ]
            },
            {
                  "cell_type": "code",
                  "execution_count": 54,
                  "metadata": {},
                  "outputs": [
                        {
                              "name": "stdout",
                              "output_type": "stream",
                              "text": [
                                    "[master 6dc7be6] Commit con el archivos 3\n",
                                    " 1 file changed, 1 insertion(+)\n",
                                    " create mode 100644 archivo3.py\n"
                              ]
                        }
                  ],
                  "source": [
                        "!cd notebook_git && git add archivo3.py && git commit -m \"Commit con el archivos 3\""
                  ]
            },
            {
                  "cell_type": "code",
                  "execution_count": 55,
                  "metadata": {},
                  "outputs": [
                        {
                              "name": "stdout",
                              "output_type": "stream",
                              "text": [
                                    "* \u001b[33m6dc7be6\u001b[m\u001b[33m (\u001b[m\u001b[1;36mHEAD -> \u001b[m\u001b[1;32mmaster\u001b[m\u001b[33m)\u001b[m Commit con el archivos 3\n",
                                    "* \u001b[33m04ebd1f\u001b[m Commit con los archivos 1 y 2\n",
                                    "* \u001b[33mc4930d7\u001b[m Tercer commit, hola.py\n",
                                    "* \u001b[33m6e99e73\u001b[m Segundo commit, hola.py\n",
                                    "* \u001b[33m1c95e4f\u001b[m Primer commit, hola.py\n"
                              ]
                        }
                  ],
                  "source": [
                        "!cd notebook_git && git log --graph --oneline --decorate"
                  ]
            },
            {
                  "attachments": {},
                  "cell_type": "markdown",
                  "metadata": {},
                  "source": [
                        "We see that in the last commit there is `file3.py`, let's delete the commit keeping `file3.py`."
                  ]
            },
            {
                  "cell_type": "code",
                  "execution_count": 56,
                  "metadata": {},
                  "outputs": [],
                  "source": [
                        "!cd notebook_git && git reset --soft HEAD~1"
                  ]
            },
            {
                  "attachments": {},
                  "cell_type": "markdown",
                  "metadata": {},
                  "source": [
                        "We now make a `git log` to see if the last commit has been deleted."
                  ]
            },
            {
                  "cell_type": "code",
                  "execution_count": 57,
                  "metadata": {},
                  "outputs": [
                        {
                              "name": "stdout",
                              "output_type": "stream",
                              "text": [
                                    "* \u001b[33m04ebd1f\u001b[m\u001b[33m (\u001b[m\u001b[1;36mHEAD -> \u001b[m\u001b[1;32mmaster\u001b[m\u001b[33m)\u001b[m Commit con los archivos 1 y 2\n",
                                    "* \u001b[33mc4930d7\u001b[m Tercer commit, hola.py\n",
                                    "* \u001b[33m6e99e73\u001b[m Segundo commit, hola.py\n",
                                    "* \u001b[33m1c95e4f\u001b[m Primer commit, hola.py\n"
                              ]
                        }
                  ],
                  "source": [
                        "!cd notebook_git && git log --graph --oneline --decorate"
                  ]
            },
            {
                  "attachments": {},
                  "cell_type": "markdown",
                  "metadata": {},
                  "source": [
                        "Indeed, we can see that the last commit has been deleted"
                  ]
            },
            {
                  "attachments": {},
                  "cell_type": "markdown",
                  "metadata": {},
                  "source": [
                        "We do a `git status` to see if `file3.py` has been preserved."
                  ]
            },
            {
                  "cell_type": "code",
                  "execution_count": 58,
                  "metadata": {},
                  "outputs": [
                        {
                              "name": "stdout",
                              "output_type": "stream",
                              "text": [
                                    "En la rama master\n",
                                    "Cambios a ser confirmados:\n",
                                    "  (usa \"git restore --staged <archivo>...\" para sacar del área de stage)\n",
                                    "\t\u001b[32mnuevos archivos: archivo3.py\u001b[m\n",
                                    "\n"
                              ]
                        }
                  ],
                  "source": [
                        "!cd notebook_git && git status"
                  ]
            },
            {
                  "attachments": {},
                  "cell_type": "markdown",
                  "metadata": {},
                  "source": [
                        "It has been maintained"
                  ]
            },
            {
                  "attachments": {},
                  "cell_type": "markdown",
                  "metadata": {},
                  "source": [
                        "#### Undo a commit discarding the changes (`git reset --hard HEAD~1`)"
                  ]
            },
            {
                  "attachments": {},
                  "cell_type": "markdown",
                  "metadata": {},
                  "source": [
                        "We have `file3.py` which we have created and we have it in the staged area"
                  ]
            },
            {
                  "cell_type": "code",
                  "execution_count": 59,
                  "metadata": {},
                  "outputs": [
                        {
                              "name": "stdout",
                              "output_type": "stream",
                              "text": [
                                    "En la rama master\n",
                                    "Cambios a ser confirmados:\n",
                                    "  (usa \"git restore --staged <archivo>...\" para sacar del área de stage)\n",
                                    "\t\u001b[32mnuevos archivos: archivo3.py\u001b[m\n",
                                    "\n"
                              ]
                        }
                  ],
                  "source": [
                        "!cd notebook_git && git status"
                  ]
            },
            {
                  "attachments": {},
                  "cell_type": "markdown",
                  "metadata": {},
                  "source": [
                        "So we make a commit"
                  ]
            },
            {
                  "cell_type": "code",
                  "execution_count": 60,
                  "metadata": {},
                  "outputs": [
                        {
                              "name": "stdout",
                              "output_type": "stream",
                              "text": [
                                    "[master 0147d65] Commit con el archivo 3\n",
                                    " 1 file changed, 1 insertion(+)\n",
                                    " create mode 100644 archivo3.py\n"
                              ]
                        }
                  ],
                  "source": [
                        "!cd notebook_git && git commit -m \"Commit con el archivo 3\""
                  ]
            },
            {
                  "attachments": {},
                  "cell_type": "markdown",
                  "metadata": {},
                  "source": [
                        "We do a `git log` to check that there is a commit with this file"
                  ]
            },
            {
                  "cell_type": "code",
                  "execution_count": 61,
                  "metadata": {},
                  "outputs": [
                        {
                              "name": "stdout",
                              "output_type": "stream",
                              "text": [
                                    "* \u001b[33m0147d65\u001b[m\u001b[33m (\u001b[m\u001b[1;36mHEAD -> \u001b[m\u001b[1;32mmaster\u001b[m\u001b[33m)\u001b[m Commit con el archivo 3\n",
                                    "* \u001b[33m04ebd1f\u001b[m Commit con los archivos 1 y 2\n",
                                    "* \u001b[33mc4930d7\u001b[m Tercer commit, hola.py\n",
                                    "* \u001b[33m6e99e73\u001b[m Segundo commit, hola.py\n",
                                    "* \u001b[33m1c95e4f\u001b[m Primer commit, hola.py\n"
                              ]
                        }
                  ],
                  "source": [
                        "!cd notebook_git && git log --graph --oneline --decorate"
                  ]
            },
            {
                  "attachments": {},
                  "cell_type": "markdown",
                  "metadata": {},
                  "source": [
                        "Indeed there is a commit adding `file3.py`. Now we remove this commit by discarding `file3.py`."
                  ]
            },
            {
                  "cell_type": "code",
                  "execution_count": 62,
                  "metadata": {},
                  "outputs": [
                        {
                              "name": "stdout",
                              "output_type": "stream",
                              "text": [
                                    "HEAD está ahora en 04ebd1f Commit con los archivos 1 y 2\n"
                              ]
                        }
                  ],
                  "source": [
                        "!cd notebook_git && git reset --hard HEAD~1"
                  ]
            },
            {
                  "attachments": {},
                  "cell_type": "markdown",
                  "metadata": {},
                  "source": [
                        "We make a `git log` to check that the last commit has been removed."
                  ]
            },
            {
                  "cell_type": "code",
                  "execution_count": 63,
                  "metadata": {},
                  "outputs": [
                        {
                              "name": "stdout",
                              "output_type": "stream",
                              "text": [
                                    "* \u001b[33m04ebd1f\u001b[m\u001b[33m (\u001b[m\u001b[1;36mHEAD -> \u001b[m\u001b[1;32mmaster\u001b[m\u001b[33m)\u001b[m Commit con los archivos 1 y 2\n",
                                    "* \u001b[33mc4930d7\u001b[m Tercer commit, hola.py\n",
                                    "* \u001b[33m6e99e73\u001b[m Segundo commit, hola.py\n",
                                    "* \u001b[33m1c95e4f\u001b[m Primer commit, hola.py\n"
                              ]
                        }
                  ],
                  "source": [
                        "!cd notebook_git && git log --graph --oneline --decorate"
                  ]
            },
            {
                  "attachments": {},
                  "cell_type": "markdown",
                  "metadata": {},
                  "source": [
                        "The commit with `file3.py` has been removed, now we do a `git status` to check what has happened with `file3.py`."
                  ]
            },
            {
                  "cell_type": "code",
                  "execution_count": 64,
                  "metadata": {},
                  "outputs": [
                        {
                              "name": "stdout",
                              "output_type": "stream",
                              "text": [
                                    "En la rama master\n",
                                    "nada para hacer commit, el árbol de trabajo está limpio\n"
                              ]
                        }
                  ],
                  "source": [
                        "!cd notebook_git && git status"
                  ]
            },
            {
                  "attachments": {},
                  "cell_type": "markdown",
                  "metadata": {},
                  "source": [
                        "There is no `file3.py` as a file to commit, let's see if it has indeed been removed completely"
                  ]
            },
            {
                  "cell_type": "code",
                  "execution_count": 65,
                  "metadata": {},
                  "outputs": [],
                  "source": [
                        "!cd notebook_git && ls | grep archivo3"
                  ]
            },
            {
                  "attachments": {},
                  "cell_type": "markdown",
                  "metadata": {},
                  "source": [
                        "Indeed, `file3.py` has been removed from the file system."
                  ]
            },
            {
                  "attachments": {},
                  "cell_type": "markdown",
                  "metadata": {},
                  "source": [
                        "### Modify a remote commit (`git push --force`)"
                  ]
            },
            {
                  "attachments": {},
                  "cell_type": "markdown",
                  "metadata": {},
                  "source": [
                        "Although later we will see how to synchronize with remote repositories, in case you have made a commit, uploaded it to a remote repository (`git push`) and modified the commit locally (because you have modified the message or have undone the commit), to revert the changes in the remote repository you have to do `git push --force`.\n",
                        "\n",
                        " > This command modifies the history of the remote repository, so it can affect other people working with that repository, so use this command very carefully and safely. It is better to have a history of commits, in which first there is the commimt in which you have put the wrong description and then the new commit with the new description correctly put, than to go around modifying the history."
                  ]
            },
            {
                  "attachments": {},
                  "cell_type": "markdown",
                  "metadata": {},
                  "source": [
                        "### Modify a remote commit (`git push --force-with-lease`)"
                  ]
            },
            {
                  "attachments": {},
                  "cell_type": "markdown",
                  "metadata": {},
                  "source": [
                        "If you are convinced to change the history at least use `git push --force-with-lease` which will not modify subsequent commits."
                  ]
            },
            {
                  "attachments": {},
                  "cell_type": "markdown",
                  "metadata": {},
                  "source": [
                        "### Ignore files (`.gitignore`)"
                  ]
            },
            {
                  "attachments": {},
                  "cell_type": "markdown",
                  "metadata": {},
                  "source": [
                        "Suppose we have a file with `API key`s, this file we don`t really want to keep in the repository, because if we then share this repository, anyone would have access to these keys, so we have to tell git not to track this file\n",
                        "\n",
                        "This is done with the `.gitignore` file, in which we add the path of the files or directories that we do not want git to keep track of\n",
                        "\n",
                        "Let's see it"
                  ]
            },
            {
                  "attachments": {},
                  "cell_type": "markdown",
                  "metadata": {},
                  "source": [
                        "We create the file with the keys"
                  ]
            },
            {
                  "cell_type": "code",
                  "execution_count": 66,
                  "metadata": {},
                  "outputs": [],
                  "source": [
                        "!cd notebook_git && touch api_keys.py"
                  ]
            },
            {
                  "attachments": {},
                  "cell_type": "markdown",
                  "metadata": {},
                  "source": [
                        "If we make `git status` we can see that git contemplates it"
                  ]
            },
            {
                  "cell_type": "code",
                  "execution_count": 67,
                  "metadata": {},
                  "outputs": [
                        {
                              "name": "stdout",
                              "output_type": "stream",
                              "text": [
                                    "En la rama master\n",
                                    "Archivos sin seguimiento:\n",
                                    "  (usa \"git add <archivo>...\" para incluirlo a lo que se será confirmado)\n",
                                    "\t\u001b[31mapi_keys.py\u001b[m\n",
                                    "\n",
                                    "no hay nada agregado al commit pero hay archivos sin seguimiento presentes (usa \"git add\" para hacerles seguimiento)\n"
                              ]
                        }
                  ],
                  "source": [
                        "!cd notebook_git && git status"
                  ]
            },
            {
                  "attachments": {},
                  "cell_type": "markdown",
                  "metadata": {},
                  "source": [
                        "If we don't do anything, one day we may do a `git add .` and put it in the repository, so for security reasons we have to tell git not to follow this file, for that, what we do is to create the `.gitignore` adding this file"
                  ]
            },
            {
                  "cell_type": "code",
                  "execution_count": 68,
                  "metadata": {},
                  "outputs": [],
                  "source": [
                        "!cd notebook_git && echo \"api_keys.py\" >> .gitignore"
                  ]
            },
            {
                  "attachments": {},
                  "cell_type": "markdown",
                  "metadata": {},
                  "source": [
                        "Let's see what happens if we now do `git status`."
                  ]
            },
            {
                  "cell_type": "code",
                  "execution_count": 69,
                  "metadata": {},
                  "outputs": [
                        {
                              "name": "stdout",
                              "output_type": "stream",
                              "text": [
                                    "En la rama master\n",
                                    "Archivos sin seguimiento:\n",
                                    "  (usa \"git add <archivo>...\" para incluirlo a lo que se será confirmado)\n",
                                    "\t\u001b[31m.gitignore\u001b[m\n",
                                    "\n",
                                    "no hay nada agregado al commit pero hay archivos sin seguimiento presentes (usa \"git add\" para hacerles seguimiento)\n"
                              ]
                        }
                  ],
                  "source": [
                        "!cd notebook_git && git status"
                  ]
            },
            {
                  "attachments": {},
                  "cell_type": "markdown",
                  "metadata": {},
                  "source": [
                        "We see that git no longer supports `api_keys.py`, but it does support `.gitignore`, so we commit to add `.gitignore`."
                  ]
            },
            {
                  "cell_type": "code",
                  "execution_count": 70,
                  "metadata": {},
                  "outputs": [
                        {
                              "name": "stdout",
                              "output_type": "stream",
                              "text": [
                                    "[master 0b09cfa] Añadido .gitignore\n",
                                    " 1 file changed, 1 insertion(+)\n",
                                    " create mode 100644 .gitignore\n"
                              ]
                        }
                  ],
                  "source": [
                        "!cd notebook_git && git add .gitignore && git commit -m \"Añadido .gitignore\""
                  ]
            },
            {
                  "attachments": {},
                  "cell_type": "markdown",
                  "metadata": {},
                  "source": [
                        "#### Which files to add to the `.gitignore`?"
                  ]
            },
            {
                  "attachments": {},
                  "cell_type": "markdown",
                  "metadata": {},
                  "source": [
                        " * Files that have credentials or API keys (you shouldn't upload them to the repository, just inject them by environment variable)\n",
                        " * Configuration folders of your editor (`/.vscode`)\n",
                        " * Log files\n",
                        " * System files as `.DS_Store`.\n",
                        " * Folders generated with static files or compilations such as `/dist` or `/build`.\n",
                        " * Dependencies that can be downloaded (`/node_modules`)\n",
                        " * Coverage of testing (`/coverage`)"
                  ]
            },
            {
                  "attachments": {},
                  "cell_type": "markdown",
                  "metadata": {},
                  "source": [
                        "#### How to ignore always the same files?"
                  ]
            },
            {
                  "attachments": {},
                  "cell_type": "markdown",
                  "metadata": {},
                  "source": [
                        "If for example your IDE always generates the same configuration files, it would be nice to be able to tell git to always ignore those files, for that we create a global `.gitignore`."
                  ]
            },
            {
                  "cell_type": "code",
                  "execution_count": 42,
                  "metadata": {},
                  "outputs": [],
                  "source": [
                        "!touch ~/.gitignore_global"
                  ]
            },
            {
                  "attachments": {},
                  "cell_type": "markdown",
                  "metadata": {},
                  "source": [
                        "In my case I am going to add the directory `__pycache__/`."
                  ]
            },
            {
                  "cell_type": "code",
                  "execution_count": 50,
                  "metadata": {},
                  "outputs": [],
                  "source": [
                        "!echo \"__pycache__/\" >> ~/.gitignore_global"
                  ]
            },
            {
                  "attachments": {},
                  "cell_type": "markdown",
                  "metadata": {},
                  "source": [
                        "Now we have to tell git that this is our global `.gitignore`."
                  ]
            },
            {
                  "cell_type": "code",
                  "execution_count": 54,
                  "metadata": {},
                  "outputs": [],
                  "source": [
                        "!git config --global core.excludesfile ~/.gitignore_global"
                  ]
            },
            {
                  "attachments": {},
                  "cell_type": "markdown",
                  "metadata": {},
                  "source": [
                        "Done, from now on the `__pycache__/` directory will always be ignored."
                  ]
            },
            {
                  "attachments": {},
                  "cell_type": "markdown",
                  "metadata": {},
                  "source": [
                        "GitHub has a [repository](https://github.com/github/gitignore) with `.gitignore`s for many languages, I have been guided by [this one](https://github.com/github/gitignore/blob/main/Python.gitignore) for Python"
                  ]
            },
            {
                  "attachments": {},
                  "cell_type": "markdown",
                  "metadata": {},
                  "source": [
                        "### Delete a file from a commit"
                  ]
            },
            {
                  "attachments": {},
                  "cell_type": "markdown",
                  "metadata": {},
                  "source": [
                        "Let's see how to delete a file from a commit we have made. First we create two files and make them commir"
                  ]
            },
            {
                  "cell_type": "code",
                  "execution_count": 71,
                  "metadata": {},
                  "outputs": [],
                  "source": [
                        "!cd notebook_git && echo \"print('Este es el archivo 4')\" > archivo4.py"
                  ]
            },
            {
                  "cell_type": "code",
                  "execution_count": 72,
                  "metadata": {},
                  "outputs": [],
                  "source": [
                        "!cd notebook_git && echo \"print('Este es el archivo 5')\" > archivo5.py"
                  ]
            },
            {
                  "attachments": {},
                  "cell_type": "markdown",
                  "metadata": {},
                  "source": [
                        "We commit the two files"
                  ]
            },
            {
                  "cell_type": "code",
                  "execution_count": 73,
                  "metadata": {},
                  "outputs": [
                        {
                              "name": "stdout",
                              "output_type": "stream",
                              "text": [
                                    "[master e3153a5] Commit con los archivos 4 y 5\n",
                                    " 2 files changed, 2 insertions(+)\n",
                                    " create mode 100644 archivo4.py\n",
                                    " create mode 100644 archivo5.py\n"
                              ]
                        }
                  ],
                  "source": [
                        "!cd notebook_git && git add archivo4.py archivo5.py && git commit -m \"Commit con los archivos 4 y 5\""
                  ]
            },
            {
                  "cell_type": "code",
                  "execution_count": 74,
                  "metadata": {},
                  "outputs": [
                        {
                              "name": "stdout",
                              "output_type": "stream",
                              "text": [
                                    "* \u001b[33me3153a5\u001b[m\u001b[33m (\u001b[m\u001b[1;36mHEAD -> \u001b[m\u001b[1;32mmaster\u001b[m\u001b[33m)\u001b[m Commit con los archivos 4 y 5\n",
                                    "* \u001b[33m0b09cfa\u001b[m Añadido .gitignore\n",
                                    "* \u001b[33m04ebd1f\u001b[m Commit con los archivos 1 y 2\n",
                                    "* \u001b[33mc4930d7\u001b[m Tercer commit, hola.py\n",
                                    "* \u001b[33m6e99e73\u001b[m Segundo commit, hola.py\n",
                                    "* \u001b[33m1c95e4f\u001b[m Primer commit, hola.py\n"
                              ]
                        }
                  ],
                  "source": [
                        "!cd notebook_git && git log --graph --oneline --decorate"
                  ]
            },
            {
                  "attachments": {},
                  "cell_type": "markdown",
                  "metadata": {},
                  "source": [
                        "From here there are two options to remove a file from a commit:\n",
                        " * Delete the file and create a new commit\n",
                        " * Undo the commit and re-create it without the file"
                  ]
            },
            {
                  "attachments": {},
                  "cell_type": "markdown",
                  "metadata": {},
                  "source": [
                        "#### Delete the file and create a new commit"
                  ]
            },
            {
                  "attachments": {},
                  "cell_type": "markdown",
                  "metadata": {},
                  "source": [
                        "Suppose we want to delete the file `file5.py`, then we delete it with `git rm file5.py`."
                  ]
            },
            {
                  "cell_type": "code",
                  "execution_count": 75,
                  "metadata": {},
                  "outputs": [
                        {
                              "name": "stdout",
                              "output_type": "stream",
                              "text": [
                                    "rm 'archivo5.py'\n"
                              ]
                        }
                  ],
                  "source": [
                        "!cd notebook_git && git rm archivo5.py"
                  ]
            },
            {
                  "attachments": {},
                  "cell_type": "markdown",
                  "metadata": {},
                  "source": [
                        "Let's do a `git status` to see what happens"
                  ]
            },
            {
                  "cell_type": "code",
                  "execution_count": 76,
                  "metadata": {},
                  "outputs": [
                        {
                              "name": "stdout",
                              "output_type": "stream",
                              "text": [
                                    "En la rama master\n",
                                    "Cambios a ser confirmados:\n",
                                    "  (usa \"git restore --staged <archivo>...\" para sacar del área de stage)\n",
                                    "\t\u001b[32mborrados:        archivo5.py\u001b[m\n",
                                    "\n"
                              ]
                        }
                  ],
                  "source": [
                        "!cd notebook_git && git status"
                  ]
            },
            {
                  "attachments": {},
                  "cell_type": "markdown",
                  "metadata": {},
                  "source": [
                        "As we can see, `file5.py` has been deleted. Now we create a new commit"
                  ]
            },
            {
                  "cell_type": "code",
                  "execution_count": 77,
                  "metadata": {},
                  "outputs": [
                        {
                              "name": "stdout",
                              "output_type": "stream",
                              "text": [
                                    "[master ea615a9] Eliminado archivo5.py\n",
                                    " 1 file changed, 1 deletion(-)\n",
                                    " delete mode 100644 archivo5.py\n"
                              ]
                        }
                  ],
                  "source": [
                        "!cd notebook_git && git commit -m \"Eliminado archivo5.py\""
                  ]
            },
            {
                  "cell_type": "code",
                  "execution_count": 78,
                  "metadata": {},
                  "outputs": [
                        {
                              "name": "stdout",
                              "output_type": "stream",
                              "text": [
                                    "* \u001b[33mea615a9\u001b[m\u001b[33m (\u001b[m\u001b[1;36mHEAD -> \u001b[m\u001b[1;32mmaster\u001b[m\u001b[33m)\u001b[m Eliminado archivo5.py\n",
                                    "* \u001b[33me3153a5\u001b[m Commit con los archivos 4 y 5\n",
                                    "* \u001b[33m0b09cfa\u001b[m Añadido .gitignore\n",
                                    "* \u001b[33m04ebd1f\u001b[m Commit con los archivos 1 y 2\n",
                                    "* \u001b[33mc4930d7\u001b[m Tercer commit, hola.py\n",
                                    "* \u001b[33m6e99e73\u001b[m Segundo commit, hola.py\n",
                                    "* \u001b[33m1c95e4f\u001b[m Primer commit, hola.py\n"
                              ]
                        }
                  ],
                  "source": [
                        "!cd notebook_git && git log --graph --oneline --decorate"
                  ]
            },
            {
                  "attachments": {},
                  "cell_type": "markdown",
                  "metadata": {},
                  "source": [
                        "#### Undo the commit and create it again without the file"
                  ]
            },
            {
                  "attachments": {},
                  "cell_type": "markdown",
                  "metadata": {},
                  "source": [
                        "We re-create two files and make a commit"
                  ]
            },
            {
                  "cell_type": "code",
                  "execution_count": 79,
                  "metadata": {},
                  "outputs": [],
                  "source": [
                        "!cd notebook_git && echo \"print('Este es el archivo 6')\" > archivo6.py && echo \"print('Este es el archivo 7')\" > archivo7.py"
                  ]
            },
            {
                  "cell_type": "code",
                  "execution_count": 80,
                  "metadata": {},
                  "outputs": [
                        {
                              "name": "stdout",
                              "output_type": "stream",
                              "text": [
                                    "En la rama master\n",
                                    "Archivos sin seguimiento:\n",
                                    "  (usa \"git add <archivo>...\" para incluirlo a lo que se será confirmado)\n",
                                    "\t\u001b[31marchivo6.py\u001b[m\n",
                                    "\t\u001b[31marchivo7.py\u001b[m\n",
                                    "\n",
                                    "no hay nada agregado al commit pero hay archivos sin seguimiento presentes (usa \"git add\" para hacerles seguimiento)\n"
                              ]
                        }
                  ],
                  "source": [
                        "!cd notebook_git && git status"
                  ]
            },
            {
                  "cell_type": "code",
                  "execution_count": 81,
                  "metadata": {},
                  "outputs": [
                        {
                              "name": "stdout",
                              "output_type": "stream",
                              "text": [
                                    "[master d6dc485] Commit con los archivos 6 y 7\n",
                                    " 2 files changed, 2 insertions(+)\n",
                                    " create mode 100644 archivo6.py\n",
                                    " create mode 100644 archivo7.py\n"
                              ]
                        }
                  ],
                  "source": [
                        "!cd notebook_git && git add archivo6.py archivo7.py && git commit -m \"Commit con los archivos 6 y 7\""
                  ]
            },
            {
                  "cell_type": "code",
                  "execution_count": 82,
                  "metadata": {},
                  "outputs": [
                        {
                              "name": "stdout",
                              "output_type": "stream",
                              "text": [
                                    "* \u001b[33md6dc485\u001b[m\u001b[33m (\u001b[m\u001b[1;36mHEAD -> \u001b[m\u001b[1;32mmaster\u001b[m\u001b[33m)\u001b[m Commit con los archivos 6 y 7\n",
                                    "* \u001b[33mea615a9\u001b[m Eliminado archivo5.py\n",
                                    "* \u001b[33me3153a5\u001b[m Commit con los archivos 4 y 5\n",
                                    "* \u001b[33m0b09cfa\u001b[m Añadido .gitignore\n",
                                    "* \u001b[33m04ebd1f\u001b[m Commit con los archivos 1 y 2\n",
                                    "* \u001b[33mc4930d7\u001b[m Tercer commit, hola.py\n",
                                    "* \u001b[33m6e99e73\u001b[m Segundo commit, hola.py\n",
                                    "* \u001b[33m1c95e4f\u001b[m Primer commit, hola.py\n"
                              ]
                        }
                  ],
                  "source": [
                        "!cd notebook_git && git log --graph --oneline --decorate"
                  ]
            },
            {
                  "attachments": {},
                  "cell_type": "markdown",
                  "metadata": {},
                  "source": [
                        "First we undo the last commit with `git reset --soft HEAD~1`."
                  ]
            },
            {
                  "cell_type": "code",
                  "execution_count": 83,
                  "metadata": {},
                  "outputs": [],
                  "source": [
                        "!cd notebook_git && git reset --soft HEAD~1"
                  ]
            },
            {
                  "attachments": {},
                  "cell_type": "markdown",
                  "metadata": {},
                  "source": [
                        "We do a `git status` to see what has happened."
                  ]
            },
            {
                  "cell_type": "code",
                  "execution_count": 84,
                  "metadata": {},
                  "outputs": [
                        {
                              "name": "stdout",
                              "output_type": "stream",
                              "text": [
                                    "En la rama master\n",
                                    "Cambios a ser confirmados:\n",
                                    "  (usa \"git restore --staged <archivo>...\" para sacar del área de stage)\n",
                                    "\t\u001b[32mnuevos archivos: archivo6.py\u001b[m\n",
                                    "\t\u001b[32mnuevos archivos: archivo7.py\u001b[m\n",
                                    "\n"
                              ]
                        }
                  ],
                  "source": [
                        "!cd notebook_git && git status"
                  ]
            },
            {
                  "attachments": {},
                  "cell_type": "markdown",
                  "metadata": {},
                  "source": [
                        "We can see that the commit has been undone, but the two files are in the staged area, so to remove one of the files from the commir, we must first remove it from the staged area, to do this we do `git reset file6.py`."
                  ]
            },
            {
                  "cell_type": "code",
                  "execution_count": 85,
                  "metadata": {},
                  "outputs": [],
                  "source": [
                        "!cd notebook_git && git reset archivo6.py"
                  ]
            },
            {
                  "attachments": {},
                  "cell_type": "markdown",
                  "metadata": {},
                  "source": [
                        "We return to do a `git status`."
                  ]
            },
            {
                  "cell_type": "code",
                  "execution_count": 86,
                  "metadata": {},
                  "outputs": [
                        {
                              "name": "stdout",
                              "output_type": "stream",
                              "text": [
                                    "En la rama master\n",
                                    "Cambios a ser confirmados:\n",
                                    "  (usa \"git restore --staged <archivo>...\" para sacar del área de stage)\n",
                                    "\t\u001b[32mnuevos archivos: archivo7.py\u001b[m\n",
                                    "\n",
                                    "Archivos sin seguimiento:\n",
                                    "  (usa \"git add <archivo>...\" para incluirlo a lo que se será confirmado)\n",
                                    "\t\u001b[31marchivo6.py\u001b[m\n",
                                    "\n"
                              ]
                        }
                  ],
                  "source": [
                        "!cd notebook_git && git status"
                  ]
            },
            {
                  "attachments": {},
                  "cell_type": "markdown",
                  "metadata": {},
                  "source": [
                        "We see that `file7.py` is in the staged area, while `file6.py` is not anymore. Now we can delete file 6, for this we use `git clean`."
                  ]
            },
            {
                  "cell_type": "code",
                  "execution_count": 87,
                  "metadata": {},
                  "outputs": [
                        {
                              "name": "stdout",
                              "output_type": "stream",
                              "text": [
                                    "Será borrado archivo6.py\n"
                              ]
                        }
                  ],
                  "source": [
                        "!cd notebook_git && git clean -n"
                  ]
            },
            {
                  "cell_type": "code",
                  "execution_count": 88,
                  "metadata": {},
                  "outputs": [
                        {
                              "name": "stdout",
                              "output_type": "stream",
                              "text": [
                                    "Borrando archivo6.py\n"
                              ]
                        }
                  ],
                  "source": [
                        "!cd notebook_git && git clean -f"
                  ]
            },
            {
                  "attachments": {},
                  "cell_type": "markdown",
                  "metadata": {},
                  "source": [
                        "We return to do a `git status`."
                  ]
            },
            {
                  "cell_type": "code",
                  "execution_count": 89,
                  "metadata": {},
                  "outputs": [
                        {
                              "name": "stdout",
                              "output_type": "stream",
                              "text": [
                                    "En la rama master\n",
                                    "Cambios a ser confirmados:\n",
                                    "  (usa \"git restore --staged <archivo>...\" para sacar del área de stage)\n",
                                    "\t\u001b[32mnuevos archivos: archivo7.py\u001b[m\n",
                                    "\n"
                              ]
                        }
                  ],
                  "source": [
                        "!cd notebook_git && git status"
                  ]
            },
            {
                  "attachments": {},
                  "cell_type": "markdown",
                  "metadata": {},
                  "source": [
                        "As we can see `archiv6.py` is gone, so we can make a new commit"
                  ]
            },
            {
                  "cell_type": "code",
                  "execution_count": 90,
                  "metadata": {},
                  "outputs": [
                        {
                              "name": "stdout",
                              "output_type": "stream",
                              "text": [
                                    "[master 4bb9d75] Commit con el archivo 7\n",
                                    " 1 file changed, 1 insertion(+)\n",
                                    " create mode 100644 archivo7.py\n"
                              ]
                        }
                  ],
                  "source": [
                        "!cd notebook_git && git commit -m \"Commit con el archivo 7\""
                  ]
            },
            {
                  "cell_type": "code",
                  "execution_count": 91,
                  "metadata": {},
                  "outputs": [
                        {
                              "name": "stdout",
                              "output_type": "stream",
                              "text": [
                                    "* \u001b[33m4bb9d75\u001b[m\u001b[33m (\u001b[m\u001b[1;36mHEAD -> \u001b[m\u001b[1;32mmaster\u001b[m\u001b[33m)\u001b[m Commit con el archivo 7\n",
                                    "* \u001b[33mea615a9\u001b[m Eliminado archivo5.py\n",
                                    "* \u001b[33me3153a5\u001b[m Commit con los archivos 4 y 5\n",
                                    "* \u001b[33m0b09cfa\u001b[m Añadido .gitignore\n",
                                    "* \u001b[33m04ebd1f\u001b[m Commit con los archivos 1 y 2\n",
                                    "* \u001b[33mc4930d7\u001b[m Tercer commit, hola.py\n",
                                    "* \u001b[33m6e99e73\u001b[m Segundo commit, hola.py\n",
                                    "* \u001b[33m1c95e4f\u001b[m Primer commit, hola.py\n"
                              ]
                        }
                  ],
                  "source": [
                        "!cd notebook_git && git log --graph --oneline --decorate"
                  ]
            },
            {
                  "attachments": {},
                  "cell_type": "markdown",
                  "metadata": {},
                  "source": [
                        "We have deleted the last commit and overwritten it with a new one, deleting the file we wanted"
                  ]
            },
            {
                  "attachments": {},
                  "cell_type": "markdown",
                  "metadata": {},
                  "source": [
                        "### History of changes to a file (`git log <file>`)"
                  ]
            },
            {
                  "attachments": {},
                  "cell_type": "markdown",
                  "metadata": {},
                  "source": [
                        "Although we have seen before how we could see the history of the repository with `git log` we may not be interested in the history of the whole repository. We may have a bug in a code file that we didn't have at the beginning, so we may want to see only the history of that file, for that we use `git log <file>`."
                  ]
            },
            {
                  "attachments": {},
                  "cell_type": "markdown",
                  "metadata": {},
                  "source": [
                        "First we look at the files we have"
                  ]
            },
            {
                  "cell_type": "code",
                  "execution_count": 92,
                  "metadata": {},
                  "outputs": [
                        {
                              "name": "stdout",
                              "output_type": "stream",
                              "text": [
                                    "api_keys.py  archivo1.py  archivo2.py  archivo4.py  archivo7.py  hola.py\n"
                              ]
                        }
                  ],
                  "source": [
                        "!cd notebook_git && ls"
                  ]
            },
            {
                  "attachments": {},
                  "cell_type": "markdown",
                  "metadata": {},
                  "source": [
                        "Suppose we only want to see the changes in `hello.py`, so we do `git log hello.py`."
                  ]
            },
            {
                  "cell_type": "code",
                  "execution_count": 93,
                  "metadata": {},
                  "outputs": [
                        {
                              "name": "stdout",
                              "output_type": "stream",
                              "text": [
                                    "* \u001b[33mc4930d7\u001b[m Tercer commit, hola.py\n",
                                    "* \u001b[33m6e99e73\u001b[m Segundo commit, hola.py\n",
                                    "* \u001b[33m1c95e4f\u001b[m Primer commit, hola.py\n"
                              ]
                        }
                  ],
                  "source": [
                        "!cd notebook_git && git log --graph --oneline --decorate hola.py"
                  ]
            },
            {
                  "attachments": {},
                  "cell_type": "markdown",
                  "metadata": {},
                  "source": [
                        "We can see that much less results appear than if we had done `git log`."
                  ]
            },
            {
                  "cell_type": "code",
                  "execution_count": 94,
                  "metadata": {},
                  "outputs": [
                        {
                              "name": "stdout",
                              "output_type": "stream",
                              "text": [
                                    "* \u001b[33m4bb9d75\u001b[m\u001b[33m (\u001b[m\u001b[1;36mHEAD -> \u001b[m\u001b[1;32mmaster\u001b[m\u001b[33m)\u001b[m Commit con el archivo 7\n",
                                    "* \u001b[33mea615a9\u001b[m Eliminado archivo5.py\n",
                                    "* \u001b[33me3153a5\u001b[m Commit con los archivos 4 y 5\n",
                                    "* \u001b[33m0b09cfa\u001b[m Añadido .gitignore\n",
                                    "* \u001b[33m04ebd1f\u001b[m Commit con los archivos 1 y 2\n",
                                    "* \u001b[33mc4930d7\u001b[m Tercer commit, hola.py\n",
                                    "* \u001b[33m6e99e73\u001b[m Segundo commit, hola.py\n",
                                    "* \u001b[33m1c95e4f\u001b[m Primer commit, hola.py\n"
                              ]
                        }
                  ],
                  "source": [
                        "!cd notebook_git && git log --graph --oneline --decorate"
                  ]
            },
            {
                  "attachments": {},
                  "cell_type": "markdown",
                  "metadata": {},
                  "source": [
                        "### View modifications of a file at a specific point in history (`git show <hash> <file>` or `git diff <file>`)"
                  ]
            },
            {
                  "attachments": {},
                  "cell_type": "markdown",
                  "metadata": {},
                  "source": [
                        "Suppose we already know at what point a change was made to the file containing a bug, so now we want to know what changes were made to find out what might be causing the bug, we can use `git show <hash> <file>`."
                  ]
            },
            {
                  "attachments": {},
                  "cell_type": "markdown",
                  "metadata": {},
                  "source": [
                        "Let's see what changes occurred in `hello.py` at hash `c4930d7`, i.e. when the third commit was made"
                  ]
            },
            {
                  "cell_type": "code",
                  "execution_count": 98,
                  "metadata": {},
                  "outputs": [
                        {
                              "name": "stdout",
                              "output_type": "stream",
                              "text": [
                                    "\u001b[33mcommit c4930d7267c3f8df389ab0cb1bda0b5fceabb5c2\u001b[m\n",
                                    "Author: maximofn <maximofn@gmail.com>\n",
                                    "Date:   Sun Apr 16 02:29:59 2023 +0200\n",
                                    "\n",
                                    "    Tercer commit, hola.py\n",
                                    "\n",
                                    "\u001b[1mdiff --git a/hola.py b/hola.py\u001b[m\n",
                                    "\u001b[1mindex 91dee80..33bdb99 100644\u001b[m\n",
                                    "\u001b[1m--- a/hola.py\u001b[m\n",
                                    "\u001b[1m+++ b/hola.py\u001b[m\n",
                                    "\u001b[36m@@ -1,2 +1,3 @@\u001b[m\n",
                                    " print('Hola mundo')\u001b[m\n",
                                    " print('He añadido una nueva linea')\u001b[m\n",
                                    "\u001b[32m+\u001b[m\u001b[32mprint('Esta es la tercera linea')\u001b[m\n"
                              ]
                        }
                  ],
                  "source": [
                        "!cd notebook_git && git show c4930d7 hola.py"
                  ]
            },
            {
                  "attachments": {},
                  "cell_type": "markdown",
                  "metadata": {},
                  "source": [
                        "The way to see the changes in git are not very intuitive, but we can see that the `print('This is the third line')` line has been added."
                  ]
            },
            {
                  "attachments": {},
                  "cell_type": "markdown",
                  "metadata": {},
                  "source": [
                        "Another way to see changes is with `git diff`, we have two options, we can see the changes of the file at the current time with a specific point in the history, for this we do `git diff <hash> <file>`.\n",
                        "\n",
                        "For example, if we want to see the changes of `hello.py` from when the first commit was made (hash `1c95e4f`) with the current situation we have to enter (`git diff 1c95e4f hello.py`)"
                  ]
            },
            {
                  "cell_type": "code",
                  "execution_count": 99,
                  "metadata": {},
                  "outputs": [
                        {
                              "name": "stdout",
                              "output_type": "stream",
                              "text": [
                                    "\u001b[1mdiff --git a/hola.py b/hola.py\u001b[m\n",
                                    "\u001b[1mindex f140969..33bdb99 100644\u001b[m\n",
                                    "\u001b[1m--- a/hola.py\u001b[m\n",
                                    "\u001b[1m+++ b/hola.py\u001b[m\n",
                                    "\u001b[36m@@ -1 +1,3 @@\u001b[m\n",
                                    " print('Hola mundo')\u001b[m\n",
                                    "\u001b[32m+\u001b[m\u001b[32mprint('He añadido una nueva linea')\u001b[m\n",
                                    "\u001b[32m+\u001b[m\u001b[32mprint('Esta es la tercera linea')\u001b[m\n"
                              ]
                        }
                  ],
                  "source": [
                        "!cd notebook_git && git diff 1c95e4f hola.py"
                  ]
            },
            {
                  "attachments": {},
                  "cell_type": "markdown",
                  "metadata": {},
                  "source": [
                        "But if we want to see the difference between a specific point in the history and another specific point, we must enter the hashes of the two points in time, i.e. `git diff <hash1> <hash2> <file>`.\n",
                        "\n",
                        "If we want to see the changes in `hello.py` between the second commit (hash `6e99e73`) and the first commit (hash `1c95e4f`) we would have to enter `git diff 1c95e4f 6e99e73 hello.py`."
                  ]
            },
            {
                  "cell_type": "code",
                  "execution_count": 101,
                  "metadata": {},
                  "outputs": [
                        {
                              "name": "stdout",
                              "output_type": "stream",
                              "text": [
                                    "\u001b[1mdiff --git a/hola.py b/hola.py\u001b[m\n",
                                    "\u001b[1mindex f140969..91dee80 100644\u001b[m\n",
                                    "\u001b[1m--- a/hola.py\u001b[m\n",
                                    "\u001b[1m+++ b/hola.py\u001b[m\n",
                                    "\u001b[36m@@ -1 +1,2 @@\u001b[m\n",
                                    " print('Hola mundo')\u001b[m\n",
                                    "\u001b[32m+\u001b[m\u001b[32mprint('He añadido una nueva linea')\u001b[m\n"
                              ]
                        }
                  ],
                  "source": [
                        "!cd notebook_git && git diff 1c95e4f 6e99e73 hola.py"
                  ]
            },
            {
                  "attachments": {},
                  "cell_type": "markdown",
                  "metadata": {},
                  "source": [
                        "The above shows us the changes of the second commit with respect to the first, but if what we want is the changes of the first commit with respect to the second, we just have to put the hashes the other way around, i.e. `git diff 6e99e73 1c95e4f hello.py`."
                  ]
            },
            {
                  "cell_type": "code",
                  "execution_count": 102,
                  "metadata": {},
                  "outputs": [
                        {
                              "name": "stdout",
                              "output_type": "stream",
                              "text": [
                                    "\u001b[1mdiff --git a/hola.py b/hola.py\u001b[m\n",
                                    "\u001b[1mindex 91dee80..f140969 100644\u001b[m\n",
                                    "\u001b[1m--- a/hola.py\u001b[m\n",
                                    "\u001b[1m+++ b/hola.py\u001b[m\n",
                                    "\u001b[36m@@ -1,2 +1 @@\u001b[m\n",
                                    " print('Hola mundo')\u001b[m\n",
                                    "\u001b[31m-print('He añadido una nueva linea')\u001b[m\n"
                              ]
                        }
                  ],
                  "source": [
                        "!cd notebook_git && git diff 6e99e73 1c95e4f hola.py"
                  ]
            },
            {
                  "attachments": {},
                  "cell_type": "markdown",
                  "metadata": {},
                  "source": [
                        "### Travel to the past (`git reset --hard <hash>` or `git reset --soft <hash>`)"
                  ]
            },
            {
                  "attachments": {},
                  "cell_type": "markdown",
                  "metadata": {},
                  "source": [
                        "Let's imagine that we have found that everything we did after generating the bug is no good and we have to rework from that point, we can go back to a position in the history by `git reset --hard <hash>` (this will not keep the changes) or `git reset --soft <hash>` (this will keep the changes)."
                  ]
            },
            {
                  "attachments": {},
                  "cell_type": "markdown",
                  "metadata": {},
                  "source": [
                        "First let's look at the history"
                  ]
            },
            {
                  "cell_type": "code",
                  "execution_count": 103,
                  "metadata": {},
                  "outputs": [
                        {
                              "name": "stdout",
                              "output_type": "stream",
                              "text": [
                                    "* \u001b[33m4bb9d75\u001b[m\u001b[33m (\u001b[m\u001b[1;36mHEAD -> \u001b[m\u001b[1;32mmaster\u001b[m\u001b[33m)\u001b[m Commit con el archivo 7\n",
                                    "* \u001b[33mea615a9\u001b[m Eliminado archivo5.py\n",
                                    "* \u001b[33me3153a5\u001b[m Commit con los archivos 4 y 5\n",
                                    "* \u001b[33m0b09cfa\u001b[m Añadido .gitignore\n",
                                    "* \u001b[33m04ebd1f\u001b[m Commit con los archivos 1 y 2\n",
                                    "* \u001b[33mc4930d7\u001b[m Tercer commit, hola.py\n",
                                    "* \u001b[33m6e99e73\u001b[m Segundo commit, hola.py\n",
                                    "* \u001b[33m1c95e4f\u001b[m Primer commit, hola.py\n"
                              ]
                        }
                  ],
                  "source": [
                        "!cd notebook_git && git log --graph --oneline --decorate"
                  ]
            },
            {
                  "attachments": {},
                  "cell_type": "markdown",
                  "metadata": {},
                  "source": [
                        "Suppose we want to go to the time when we made the third commit (hash `c4930d7`), moreover we do it without keeping the changes, i.e. all the modifications we made afterwards will be deleted, we do `git reset --hard c4930d7`."
                  ]
            },
            {
                  "attachments": {},
                  "cell_type": "markdown",
                  "metadata": {},
                  "source": [
                        "First we do `ls` to see the files that we have now"
                  ]
            },
            {
                  "cell_type": "code",
                  "execution_count": 104,
                  "metadata": {},
                  "outputs": [
                        {
                              "name": "stdout",
                              "output_type": "stream",
                              "text": [
                                    "api_keys.py  archivo1.py  archivo2.py  archivo4.py  archivo7.py  hola.py\n"
                              ]
                        }
                  ],
                  "source": [
                        "!cd notebook_git && ls"
                  ]
            },
            {
                  "attachments": {},
                  "cell_type": "markdown",
                  "metadata": {},
                  "source": [
                        "Let's go to the third commit"
                  ]
            },
            {
                  "cell_type": "code",
                  "execution_count": 105,
                  "metadata": {},
                  "outputs": [
                        {
                              "name": "stdout",
                              "output_type": "stream",
                              "text": [
                                    "HEAD está ahora en c4930d7 Tercer commit, hola.py\n"
                              ]
                        }
                  ],
                  "source": [
                        "!cd notebook_git && git reset --hard c4930d7"
                  ]
            },
            {
                  "attachments": {},
                  "cell_type": "markdown",
                  "metadata": {},
                  "source": [
                        "If we do `ls` we will see that we no longer have `file1.py`, `file2.py`, `file4.py`, or `file7.py`."
                  ]
            },
            {
                  "cell_type": "code",
                  "execution_count": 106,
                  "metadata": {},
                  "outputs": [
                        {
                              "name": "stdout",
                              "output_type": "stream",
                              "text": [
                                    "api_keys.py  hola.py\n"
                              ]
                        }
                  ],
                  "source": [
                        "!cd notebook_git && ls"
                  ]
            },
            {
                  "attachments": {},
                  "cell_type": "markdown",
                  "metadata": {},
                  "source": [
                        "### Back to the future (`git reflog`)"
                  ]
            },
            {
                  "attachments": {},
                  "cell_type": "markdown",
                  "metadata": {},
                  "source": [
                        "Suppose we have regretted and we want to go back to where we were, to the last point in the history, one way would be to do `git reset --hard <hash>`. But let's imagine that we don't know the hash, because we didn't do `git log` before and if we do it now it only gives us history information up to the third commit."
                  ]
            },
            {
                  "cell_type": "code",
                  "execution_count": 107,
                  "metadata": {},
                  "outputs": [
                        {
                              "name": "stdout",
                              "output_type": "stream",
                              "text": [
                                    "* \u001b[33mc4930d7\u001b[m\u001b[33m (\u001b[m\u001b[1;36mHEAD -> \u001b[m\u001b[1;32mmaster\u001b[m\u001b[33m)\u001b[m Tercer commit, hola.py\n",
                                    "* \u001b[33m6e99e73\u001b[m Segundo commit, hola.py\n",
                                    "* \u001b[33m1c95e4f\u001b[m Primer commit, hola.py\n"
                              ]
                        }
                  ],
                  "source": [
                        "!cd notebook_git && git log --graph --oneline --decorate"
                  ]
            },
            {
                  "attachments": {},
                  "cell_type": "markdown",
                  "metadata": {},
                  "source": [
                        "Here what we can do is `git reflog`, which will give us a history including jumps"
                  ]
            },
            {
                  "cell_type": "code",
                  "execution_count": 108,
                  "metadata": {},
                  "outputs": [
                        {
                              "name": "stdout",
                              "output_type": "stream",
                              "text": [
                                    "\u001b[33mc4930d7\u001b[m\u001b[33m (\u001b[m\u001b[1;36mHEAD -> \u001b[m\u001b[1;32mmaster\u001b[m\u001b[33m)\u001b[m HEAD@{0}: reset: moving to c4930d7\n",
                                    "\u001b[33m4bb9d75\u001b[m HEAD@{1}: commit: Commit con el archivo 7\n",
                                    "\u001b[33mea615a9\u001b[m HEAD@{2}: reset: moving to HEAD~1\n",
                                    "\u001b[33md6dc485\u001b[m HEAD@{3}: commit: Commit con los archivos 6 y 7\n",
                                    "\u001b[33mea615a9\u001b[m HEAD@{4}: commit: Eliminado archivo5.py\n",
                                    "\u001b[33me3153a5\u001b[m HEAD@{5}: commit: Commit con los archivos 4 y 5\n",
                                    "\u001b[33m0b09cfa\u001b[m HEAD@{6}: commit: Añadido .gitignore\n",
                                    "\u001b[33m04ebd1f\u001b[m HEAD@{7}: reset: moving to HEAD~1\n",
                                    "\u001b[33m0147d65\u001b[m HEAD@{8}: commit: Commit con el archivo 3\n",
                                    "\u001b[33m04ebd1f\u001b[m HEAD@{9}: reset: moving to HEAD~1\n",
                                    "\u001b[33m6dc7be6\u001b[m HEAD@{10}: commit: Commit con el archivos 3\n",
                                    "\u001b[33m04ebd1f\u001b[m HEAD@{11}: commit (amend): Commit con los archivos 1 y 2\n",
                                    "\u001b[33m285b243\u001b[m HEAD@{12}: commit: Commit con el archivo 1\n",
                                    "\u001b[33mc4930d7\u001b[m\u001b[33m (\u001b[m\u001b[1;36mHEAD -> \u001b[m\u001b[1;32mmaster\u001b[m\u001b[33m)\u001b[m HEAD@{13}: commit (amend): Tercer commit, hola.py\n",
                                    "\u001b[33m60e2ffd\u001b[m HEAD@{14}: commit: Tercer commot, hola.py\n",
                                    "\u001b[33m6e99e73\u001b[m HEAD@{15}: commit: Segundo commit, hola.py\n",
                                    "\u001b[33m1c95e4f\u001b[m HEAD@{16}: commit (initial): Primer commit, hola.py\n"
                              ]
                        }
                  ],
                  "source": [
                        "!cd notebook_git && git reflog"
                  ]
            },
            {
                  "attachments": {},
                  "cell_type": "markdown",
                  "metadata": {},
                  "source": [
                        "We can see that it tells us that we were in the commit with hash `4bb9d75`, that is the last commit we did, and from there we went to the commit with hash `c4930d7`, which if you notice, is the same hash as the commit with message `Third commit, hello.py`. So we already know the hash of the last commit, the `4bb9d75`, so to return to the position of the last commit we do `git reset --hard 4bb9d75`."
                  ]
            },
            {
                  "cell_type": "code",
                  "execution_count": 109,
                  "metadata": {},
                  "outputs": [
                        {
                              "name": "stdout",
                              "output_type": "stream",
                              "text": [
                                    "HEAD está ahora en 4bb9d75 Commit con el archivo 7\n"
                              ]
                        }
                  ],
                  "source": [
                        "!cd notebook_git && git reset --hard 4bb9d75"
                  ]
            },
            {
                  "attachments": {},
                  "cell_type": "markdown",
                  "metadata": {},
                  "source": [
                        "If we now return to log"
                  ]
            },
            {
                  "cell_type": "code",
                  "execution_count": 110,
                  "metadata": {},
                  "outputs": [
                        {
                              "name": "stdout",
                              "output_type": "stream",
                              "text": [
                                    "* \u001b[33m4bb9d75\u001b[m\u001b[33m (\u001b[m\u001b[1;36mHEAD -> \u001b[m\u001b[1;32mmaster\u001b[m\u001b[33m)\u001b[m Commit con el archivo 7\n",
                                    "* \u001b[33mea615a9\u001b[m Eliminado archivo5.py\n",
                                    "* \u001b[33me3153a5\u001b[m Commit con los archivos 4 y 5\n",
                                    "* \u001b[33m0b09cfa\u001b[m Añadido .gitignore\n",
                                    "* \u001b[33m04ebd1f\u001b[m Commit con los archivos 1 y 2\n",
                                    "* \u001b[33mc4930d7\u001b[m Tercer commit, hola.py\n",
                                    "* \u001b[33m6e99e73\u001b[m Segundo commit, hola.py\n",
                                    "* \u001b[33m1c95e4f\u001b[m Primer commit, hola.py\n"
                              ]
                        }
                  ],
                  "source": [
                        "!cd notebook_git && git log --graph --oneline --decorate"
                  ]
            },
            {
                  "attachments": {},
                  "cell_type": "markdown",
                  "metadata": {},
                  "source": [
                        "We see that we are indeed in the position of the last commit, *we have returned to the future*."
                  ]
            },
            {
                  "attachments": {},
                  "cell_type": "markdown",
                  "metadata": {},
                  "source": [
                        "## Branches"
                  ]
            },
            {
                  "attachments": {},
                  "cell_type": "markdown",
                  "metadata": {},
                  "source": [
                        "![branches](https://maximofn.com/wp-content/uploads/2023/04/GIT-Branchand-its-Operations.png)\n",
                        "\n",
                        "The use of branches is very useful, since we can start developing a new feature without having to modify the original code."
                  ]
            },
            {
                  "attachments": {},
                  "cell_type": "markdown",
                  "metadata": {},
                  "source": [
                        "### Create a branch (`git branch <branch name>`)"
                  ]
            },
            {
                  "attachments": {},
                  "cell_type": "markdown",
                  "metadata": {},
                  "source": [
                        " > Note: First of all it must be said that to create a branch in a repository there must be at least one commit, if you try to create a branch before making the first commit you will receive an error."
                  ]
            },
            {
                  "attachments": {},
                  "cell_type": "markdown",
                  "metadata": {},
                  "source": [
                        "To create a branch we use the command `git branch <branch name>`."
                  ]
            },
            {
                  "cell_type": "code",
                  "execution_count": 111,
                  "metadata": {},
                  "outputs": [],
                  "source": [
                        "!cd notebook_git && git branch new_branch"
                  ]
            },
            {
                  "attachments": {},
                  "cell_type": "markdown",
                  "metadata": {},
                  "source": [
                        "### List branches (`git branch`)"
                  ]
            },
            {
                  "attachments": {},
                  "cell_type": "markdown",
                  "metadata": {},
                  "source": [
                        "We have created our first branch, we can check all the branches we have created by typing just `git branch`."
                  ]
            },
            {
                  "cell_type": "code",
                  "execution_count": 112,
                  "metadata": {},
                  "outputs": [
                        {
                              "name": "stdout",
                              "output_type": "stream",
                              "text": [
                                    "* \u001b[32mmaster\u001b[m\n",
                                    "  new_branch\u001b[m\n"
                              ]
                        }
                  ],
                  "source": [
                        "!cd notebook_git && git branch"
                  ]
            },
            {
                  "attachments": {},
                  "cell_type": "markdown",
                  "metadata": {},
                  "source": [
                        "In addition to listing it tells us with an asterisk `*` in which branch we are in, in this case in the `master` branch."
                  ]
            },
            {
                  "attachments": {},
                  "cell_type": "markdown",
                  "metadata": {},
                  "source": [
                        "### Rename branches, bye-bye to `master` branch (`git branch -m <old name> <new name>`)"
                  ]
            },
            {
                  "attachments": {},
                  "cell_type": "markdown",
                  "metadata": {},
                  "source": [
                        "Historically in git the main branch has been called `master`, but this has some bad historical connotations because of the `master-slave` concept, due to the suffering that many people received, so now the main branch is usually called `main`, so to change the name we use `git branch -m master main`."
                  ]
            },
            {
                  "cell_type": "code",
                  "execution_count": 113,
                  "metadata": {},
                  "outputs": [],
                  "source": [
                        "!cd notebook_git && git branch -m master main"
                  ]
            },
            {
                  "attachments": {},
                  "cell_type": "markdown",
                  "metadata": {},
                  "source": [
                        "We list the branches"
                  ]
            },
            {
                  "cell_type": "code",
                  "execution_count": 114,
                  "metadata": {},
                  "outputs": [
                        {
                              "name": "stdout",
                              "output_type": "stream",
                              "text": [
                                    "* \u001b[32mmain\u001b[m\n",
                                    "  new_branch\u001b[m\n"
                              ]
                        }
                  ],
                  "source": [
                        "!cd notebook_git && git branch"
                  ]
            },
            {
                  "attachments": {},
                  "cell_type": "markdown",
                  "metadata": {},
                  "source": [
                        "As we can see we have been able to change the name of the main branch from `master` to `main`."
                  ]
            },
            {
                  "attachments": {},
                  "cell_type": "markdown",
                  "metadata": {},
                  "source": [
                        "### Switch branch (`git switch <branch>`)"
                  ]
            },
            {
                  "attachments": {},
                  "cell_type": "markdown",
                  "metadata": {},
                  "source": [
                        "If we want to change the branch just type `git switch <branch name>`."
                  ]
            },
            {
                  "cell_type": "code",
                  "execution_count": 115,
                  "metadata": {},
                  "outputs": [
                        {
                              "name": "stdout",
                              "output_type": "stream",
                              "text": [
                                    "Cambiado a rama 'new_branch'\n"
                              ]
                        }
                  ],
                  "source": [
                        "!cd notebook_git && git switch new_branch"
                  ]
            },
            {
                  "attachments": {},
                  "cell_type": "markdown",
                  "metadata": {},
                  "source": [
                        "Let's see which branch we are in with `git branch`."
                  ]
            },
            {
                  "cell_type": "code",
                  "execution_count": 116,
                  "metadata": {},
                  "outputs": [
                        {
                              "name": "stdout",
                              "output_type": "stream",
                              "text": [
                                    "  main\u001b[m\n",
                                    "* \u001b[32mnew_branch\u001b[m\n"
                              ]
                        }
                  ],
                  "source": [
                        "!cd notebook_git && git branch"
                  ]
            },
            {
                  "attachments": {},
                  "cell_type": "markdown",
                  "metadata": {},
                  "source": [
                        "As we can see we have changed the branch to new_branch"
                  ]
            },
            {
                  "attachments": {},
                  "cell_type": "markdown",
                  "metadata": {},
                  "source": [
                        "If we want to create and switch branches in one command we can use `git switch -c <branch name>`."
                  ]
            },
            {
                  "cell_type": "code",
                  "execution_count": 117,
                  "metadata": {},
                  "outputs": [
                        {
                              "name": "stdout",
                              "output_type": "stream",
                              "text": [
                                    "Cambiado a nueva rama 'new_branch2'\n"
                              ]
                        }
                  ],
                  "source": [
                        "!cd notebook_git && git switch -c new_branch2"
                  ]
            },
            {
                  "attachments": {},
                  "cell_type": "markdown",
                  "metadata": {},
                  "source": [
                        "Let's see which branch we are in"
                  ]
            },
            {
                  "cell_type": "code",
                  "execution_count": 118,
                  "metadata": {},
                  "outputs": [
                        {
                              "name": "stdout",
                              "output_type": "stream",
                              "text": [
                                    "  main\u001b[m\n",
                                    "  new_branch\u001b[m\n",
                                    "* \u001b[32mnew_branch2\u001b[m\n"
                              ]
                        }
                  ],
                  "source": [
                        "!cd notebook_git && git branch"
                  ]
            },
            {
                  "attachments": {},
                  "cell_type": "markdown",
                  "metadata": {},
                  "source": [
                        "We have created and switched branches with a single command"
                  ]
            },
            {
                  "attachments": {},
                  "cell_type": "markdown",
                  "metadata": {},
                  "source": [
                        "### Get the branch we are on (`git branch --show-current`)"
                  ]
            },
            {
                  "attachments": {},
                  "cell_type": "markdown",
                  "metadata": {},
                  "source": [
                        "As we have seen so far with `git branch` we can get a list of all the branches and also see the one we are currently in, but in the case that we have a lot of branches, which can happen in a team with many people, it is good to get the branch and not get a list of all of them, for that we use `git branch --show-current`."
                  ]
            },
            {
                  "cell_type": "code",
                  "execution_count": 119,
                  "metadata": {},
                  "outputs": [
                        {
                              "name": "stdout",
                              "output_type": "stream",
                              "text": [
                                    "new_branch2\n"
                              ]
                        }
                  ],
                  "source": [
                        "!cd notebook_git && git branch --show-current"
                  ]
            },
            {
                  "attachments": {},
                  "cell_type": "markdown",
                  "metadata": {},
                  "source": [
                        "### List of most recent branches (`git branch --sort=-committerdate`)"
                  ]
            },
            {
                  "attachments": {},
                  "cell_type": "markdown",
                  "metadata": {},
                  "source": [
                        "In case of having many branches we may be interested in knowing which are the most recent ones to see which have been the last ones created and where should be the latest in development, for that we use `git branch --sort=-committerdate`."
                  ]
            },
            {
                  "cell_type": "code",
                  "execution_count": 120,
                  "metadata": {},
                  "outputs": [
                        {
                              "name": "stdout",
                              "output_type": "stream",
                              "text": [
                                    "* \u001b[32mnew_branch2\u001b[m\n",
                                    "  new_branch\u001b[m\n",
                                    "  main\u001b[m\n"
                              ]
                        }
                  ],
                  "source": [
                        "!cd notebook_git && git branch --sort=-committerdate"
                  ]
            },
            {
                  "attachments": {},
                  "cell_type": "markdown",
                  "metadata": {},
                  "source": [
                        "As we can see, they have been arranged in reverse order to when we created them"
                  ]
            },
            {
                  "attachments": {},
                  "cell_type": "markdown",
                  "metadata": {},
                  "source": [
                        "### The deprecated command `git checkout`."
                  ]
            },
            {
                  "attachments": {},
                  "cell_type": "markdown",
                  "metadata": {},
                  "source": [
                        "Until a while ago the command to create branches and switch between them was `git checkout`, but this command not only does this, but also restores the working directory. But this goes against the philosophy of Linux, so the `git branch`, `git swicth` and `git restore` commands were created to split this functionality."
                  ]
            },
            {
                  "attachments": {},
                  "cell_type": "markdown",
                  "metadata": {},
                  "source": [
                        "### Merging branches (`git merge`)"
                  ]
            },
            {
                  "attachments": {},
                  "cell_type": "markdown",
                  "metadata": {},
                  "source": [
                        "As we have said, creating branches is very useful to develop new features without affecting the rest of the team. But when these are finished we have to move them to the main branch, for this we use the command `git merge <branch>`.\n",
                        "\n",
                        " > Important**: We have to be in the branch that is going to adopt the changes, i.e. if we want to merge the changes made in the `new_branch2` branch into the `main` branch, we first have to make sure we are in the `main` branch."
                  ]
            },
            {
                  "attachments": {},
                  "cell_type": "markdown",
                  "metadata": {},
                  "source": [
                        "First we check which branch we are in"
                  ]
            },
            {
                  "cell_type": "code",
                  "execution_count": 121,
                  "metadata": {},
                  "outputs": [
                        {
                              "name": "stdout",
                              "output_type": "stream",
                              "text": [
                                    "new_branch2\n"
                              ]
                        }
                  ],
                  "source": [
                        "!cd notebook_git && git branch --show-current"
                  ]
            },
            {
                  "attachments": {},
                  "cell_type": "markdown",
                  "metadata": {},
                  "source": [
                        "We delete `file7.py`"
                  ]
            },
            {
                  "cell_type": "code",
                  "execution_count": 122,
                  "metadata": {},
                  "outputs": [
                        {
                              "name": "stdout",
                              "output_type": "stream",
                              "text": [
                                    "rm 'archivo7.py'\n"
                              ]
                        }
                  ],
                  "source": [
                        "!cd notebook_git && git rm archivo7.py"
                  ]
            },
            {
                  "attachments": {},
                  "cell_type": "markdown",
                  "metadata": {},
                  "source": [
                        "We make a commit with the changes"
                  ]
            },
            {
                  "cell_type": "code",
                  "execution_count": 123,
                  "metadata": {},
                  "outputs": [
                        {
                              "name": "stdout",
                              "output_type": "stream",
                              "text": [
                                    "[new_branch2 5168f78] Eliminado archivo7.py\n",
                                    " 1 file changed, 1 deletion(-)\n",
                                    " delete mode 100644 archivo7.py\n"
                              ]
                        }
                  ],
                  "source": [
                        "!cd notebook_git && git commit -am \"Eliminado archivo7.py\""
                  ]
            },
            {
                  "attachments": {},
                  "cell_type": "markdown",
                  "metadata": {},
                  "source": [
                        "If we do an `ls` we see that `file7.py` is no longer there."
                  ]
            },
            {
                  "cell_type": "code",
                  "execution_count": 124,
                  "metadata": {},
                  "outputs": [],
                  "source": [
                        "!cd notebook_git && ls | grep archivo7"
                  ]
            },
            {
                  "attachments": {},
                  "cell_type": "markdown",
                  "metadata": {},
                  "source": [
                        "Create a new file and commit"
                  ]
            },
            {
                  "cell_type": "code",
                  "execution_count": 125,
                  "metadata": {},
                  "outputs": [
                        {
                              "name": "stdout",
                              "output_type": "stream",
                              "text": [
                                    "[new_branch2 564ccfb] Commit con el archivo 8\n",
                                    " 1 file changed, 0 insertions(+), 0 deletions(-)\n",
                                    " create mode 100644 archivo8.py\n"
                              ]
                        }
                  ],
                  "source": [
                        "!cd notebook_git && touch archivo8.py && git add archivo8.py && git commit -m \"Commit con el archivo 8\""
                  ]
            },
            {
                  "attachments": {},
                  "cell_type": "markdown",
                  "metadata": {},
                  "source": [
                        "We have made two new commits in this branch, let's see it with `git log`."
                  ]
            },
            {
                  "cell_type": "code",
                  "execution_count": 126,
                  "metadata": {},
                  "outputs": [
                        {
                              "name": "stdout",
                              "output_type": "stream",
                              "text": [
                                    "* \u001b[33m564ccfb\u001b[m\u001b[33m (\u001b[m\u001b[1;36mHEAD -> \u001b[m\u001b[1;32mnew_branch2\u001b[m\u001b[33m)\u001b[m Commit con el archivo 8\n",
                                    "* \u001b[33m5168f78\u001b[m Eliminado archivo7.py\n",
                                    "* \u001b[33m4bb9d75\u001b[m\u001b[33m (\u001b[m\u001b[1;32mnew_branch\u001b[m\u001b[33m, \u001b[m\u001b[1;32mmain\u001b[m\u001b[33m)\u001b[m Commit con el archivo 7\n",
                                    "* \u001b[33mea615a9\u001b[m Eliminado archivo5.py\n",
                                    "* \u001b[33me3153a5\u001b[m Commit con los archivos 4 y 5\n",
                                    "* \u001b[33m0b09cfa\u001b[m Añadido .gitignore\n",
                                    "* \u001b[33m04ebd1f\u001b[m Commit con los archivos 1 y 2\n",
                                    "* \u001b[33mc4930d7\u001b[m Tercer commit, hola.py\n",
                                    "* \u001b[33m6e99e73\u001b[m Segundo commit, hola.py\n",
                                    "* \u001b[33m1c95e4f\u001b[m Primer commit, hola.py\n"
                              ]
                        }
                  ],
                  "source": [
                        "!cd notebook_git && git log --graph --oneline --decorate"
                  ]
            },
            {
                  "attachments": {},
                  "cell_type": "markdown",
                  "metadata": {},
                  "source": [
                        "Switch to the main branch"
                  ]
            },
            {
                  "cell_type": "code",
                  "execution_count": 127,
                  "metadata": {},
                  "outputs": [
                        {
                              "name": "stdout",
                              "output_type": "stream",
                              "text": [
                                    "Cambiado a rama 'main'\n"
                              ]
                        }
                  ],
                  "source": [
                        "!cd notebook_git && git switch main"
                  ]
            },
            {
                  "attachments": {},
                  "cell_type": "markdown",
                  "metadata": {},
                  "source": [
                        "If we now do `ls` again we will see that `file7.py` is indeed"
                  ]
            },
            {
                  "cell_type": "code",
                  "execution_count": 128,
                  "metadata": {},
                  "outputs": [
                        {
                              "name": "stdout",
                              "output_type": "stream",
                              "text": [
                                    "archivo7.py\n"
                              ]
                        }
                  ],
                  "source": [
                        "!cd notebook_git && ls | grep archivo7"
                  ]
            },
            {
                  "attachments": {},
                  "cell_type": "markdown",
                  "metadata": {},
                  "source": [
                        "Merge the branches, bring the changes from `new_branch2` to `main`."
                  ]
            },
            {
                  "cell_type": "code",
                  "execution_count": 129,
                  "metadata": {},
                  "outputs": [
                        {
                              "name": "stdout",
                              "output_type": "stream",
                              "text": [
                                    "Actualizando 4bb9d75..564ccfb\n",
                                    "Fast-forward\n",
                                    " archivo7.py | 1 \u001b[31m-\u001b[m\n",
                                    " archivo8.py | 0\n",
                                    " 2 files changed, 1 deletion(-)\n",
                                    " delete mode 100644 archivo7.py\n",
                                    " create mode 100644 archivo8.py\n"
                              ]
                        }
                  ],
                  "source": [
                        "!cd notebook_git && git merge new_branch2"
                  ]
            },
            {
                  "attachments": {},
                  "cell_type": "markdown",
                  "metadata": {},
                  "source": [
                        "We do a `git status`"
                  ]
            },
            {
                  "cell_type": "code",
                  "execution_count": 130,
                  "metadata": {},
                  "outputs": [
                        {
                              "name": "stdout",
                              "output_type": "stream",
                              "text": [
                                    "En la rama main\n",
                                    "nada para hacer commit, el árbol de trabajo está limpio\n"
                              ]
                        }
                  ],
                  "source": [
                        "!cd notebook_git && git status"
                  ]
            },
            {
                  "attachments": {},
                  "cell_type": "markdown",
                  "metadata": {},
                  "source": [
                        "We can see that when doing the merge it is not necessary to do any commit, let's see with a `git log` what has happened"
                  ]
            },
            {
                  "cell_type": "code",
                  "execution_count": 131,
                  "metadata": {},
                  "outputs": [
                        {
                              "name": "stdout",
                              "output_type": "stream",
                              "text": [
                                    "* \u001b[33m564ccfb\u001b[m\u001b[33m (\u001b[m\u001b[1;36mHEAD -> \u001b[m\u001b[1;32mmain\u001b[m\u001b[33m, \u001b[m\u001b[1;32mnew_branch2\u001b[m\u001b[33m)\u001b[m Commit con el archivo 8\n",
                                    "* \u001b[33m5168f78\u001b[m Eliminado archivo7.py\n",
                                    "* \u001b[33m4bb9d75\u001b[m\u001b[33m (\u001b[m\u001b[1;32mnew_branch\u001b[m\u001b[33m)\u001b[m Commit con el archivo 7\n",
                                    "* \u001b[33mea615a9\u001b[m Eliminado archivo5.py\n",
                                    "* \u001b[33me3153a5\u001b[m Commit con los archivos 4 y 5\n",
                                    "* \u001b[33m0b09cfa\u001b[m Añadido .gitignore\n",
                                    "* \u001b[33m04ebd1f\u001b[m Commit con los archivos 1 y 2\n",
                                    "* \u001b[33mc4930d7\u001b[m Tercer commit, hola.py\n",
                                    "* \u001b[33m6e99e73\u001b[m Segundo commit, hola.py\n",
                                    "* \u001b[33m1c95e4f\u001b[m Primer commit, hola.py\n"
                              ]
                        }
                  ],
                  "source": [
                        "!cd notebook_git && git log --graph --oneline --decorate"
                  ]
            },
            {
                  "attachments": {},
                  "cell_type": "markdown",
                  "metadata": {},
                  "source": [
                        "We see that the commit of the branch `new_branch2` has been incorporated to this branch"
                  ]
            },
            {
                  "attachments": {},
                  "cell_type": "markdown",
                  "metadata": {},
                  "source": [
                        "#### Fast-forward"
                  ]
            },
            {
                  "attachments": {},
                  "cell_type": "markdown",
                  "metadata": {},
                  "source": [
                        "In this case we create a new branch, the main one we do not touch it and we only modify the new one, making several commits. So when we merge the new one into the main one we will see all the commits that were made in the new one. To perform this type of merge we type `git merge --ff-only <branch>`."
                  ]
            },
            {
                  "cell_type": "code",
                  "execution_count": 132,
                  "metadata": {},
                  "outputs": [
                        {
                              "data": {
                                    "image/svg+xml": [
                                          "<?xml version=\"1.0\" encoding=\"UTF-8\" standalone=\"no\"?>\n",
                                          "<!DOCTYPE svg PUBLIC \"-//W3C//DTD SVG 1.1//EN\"\n",
                                          " \"http://www.w3.org/Graphics/SVG/1.1/DTD/svg11.dtd\">\n",
                                          "<!-- Generated by graphviz version 2.43.0 (0)\n",
                                          " -->\n",
                                          "<!-- Title: G Pages: 1 -->\n",
                                          "<svg width=\"404pt\" height=\"98pt\"\n",
                                          " viewBox=\"0.00 0.00 404.40 98.00\" xmlns=\"http://www.w3.org/2000/svg\" xmlns:xlink=\"http://www.w3.org/1999/xlink\">\n",
                                          "<g id=\"graph0\" class=\"graph\" transform=\"scale(1 1) rotate(0) translate(4 94)\">\n",
                                          "<title>G</title>\n",
                                          "<polygon fill=\"white\" stroke=\"transparent\" points=\"-4,4 -4,-94 400.4,-94 400.4,4 -4,4\"/>\n",
                                          "<!-- A -->\n",
                                          "<g id=\"node1\" class=\"node\">\n",
                                          "<title>A</title>\n",
                                          "<ellipse fill=\"none\" stroke=\"blue\" cx=\"18\" cy=\"-45\" rx=\"18\" ry=\"18\"/>\n",
                                          "<text text-anchor=\"middle\" x=\"18\" y=\"-41.3\" font-family=\"Times,serif\" font-size=\"14.00\">A</text>\n",
                                          "</g>\n",
                                          "<!-- B -->\n",
                                          "<g id=\"node2\" class=\"node\">\n",
                                          "<title>B</title>\n",
                                          "<ellipse fill=\"none\" stroke=\"blue\" cx=\"90\" cy=\"-45\" rx=\"18\" ry=\"18\"/>\n",
                                          "<text text-anchor=\"middle\" x=\"90\" y=\"-41.3\" font-family=\"Times,serif\" font-size=\"14.00\">B</text>\n",
                                          "</g>\n",
                                          "<!-- A&#45;&gt;B -->\n",
                                          "<g id=\"edge1\" class=\"edge\">\n",
                                          "<title>A&#45;&gt;B</title>\n",
                                          "<path fill=\"none\" stroke=\"black\" d=\"M36.3,-45C44.02,-45 53.29,-45 61.89,-45\"/>\n",
                                          "<polygon fill=\"black\" stroke=\"black\" points=\"61.9,-48.5 71.9,-45 61.9,-41.5 61.9,-48.5\"/>\n",
                                          "</g>\n",
                                          "<!-- C -->\n",
                                          "<g id=\"node3\" class=\"node\">\n",
                                          "<title>C</title>\n",
                                          "<ellipse fill=\"none\" stroke=\"blue\" cx=\"162\" cy=\"-45\" rx=\"18\" ry=\"18\"/>\n",
                                          "<text text-anchor=\"middle\" x=\"162\" y=\"-41.3\" font-family=\"Times,serif\" font-size=\"14.00\">C</text>\n",
                                          "</g>\n",
                                          "<!-- B&#45;&gt;C -->\n",
                                          "<g id=\"edge2\" class=\"edge\">\n",
                                          "<title>B&#45;&gt;C</title>\n",
                                          "<path fill=\"none\" stroke=\"black\" d=\"M108.3,-45C116.02,-45 125.29,-45 133.89,-45\"/>\n",
                                          "<polygon fill=\"black\" stroke=\"black\" points=\"133.9,-48.5 143.9,-45 133.9,-41.5 133.9,-48.5\"/>\n",
                                          "</g>\n",
                                          "<!-- D -->\n",
                                          "<g id=\"node4\" class=\"node\">\n",
                                          "<title>D</title>\n",
                                          "<ellipse fill=\"none\" stroke=\"blue\" cx=\"234.2\" cy=\"-45\" rx=\"18.4\" ry=\"18.4\"/>\n",
                                          "<text text-anchor=\"middle\" x=\"234.2\" y=\"-41.3\" font-family=\"Times,serif\" font-size=\"14.00\">D</text>\n",
                                          "</g>\n",
                                          "<!-- C&#45;&gt;D -->\n",
                                          "<g id=\"edge3\" class=\"edge\">\n",
                                          "<title>C&#45;&gt;D</title>\n",
                                          "<path fill=\"none\" stroke=\"black\" d=\"M180.35,-45C187.89,-45 196.91,-45 205.34,-45\"/>\n",
                                          "<polygon fill=\"black\" stroke=\"black\" points=\"205.56,-48.5 215.56,-45 205.56,-41.5 205.56,-48.5\"/>\n",
                                          "</g>\n",
                                          "<!-- E -->\n",
                                          "<g id=\"node5\" class=\"node\">\n",
                                          "<title>E</title>\n",
                                          "<ellipse fill=\"none\" stroke=\"transparent\" cx=\"306.4\" cy=\"-72\" rx=\"18\" ry=\"18\"/>\n",
                                          "</g>\n",
                                          "<!-- D&#45;&gt;E -->\n",
                                          "<g id=\"edge4\" class=\"edge\">\n",
                                          "<title>D&#45;&gt;E</title>\n",
                                          "<path fill=\"none\" stroke=\"transparent\" d=\"M251.48,-51.26C259.9,-54.5 270.36,-58.53 279.83,-62.17\"/>\n",
                                          "<polygon fill=\"transparent\" stroke=\"transparent\" points=\"278.61,-65.45 289.2,-65.77 281.13,-58.92 278.61,-65.45\"/>\n",
                                          "</g>\n",
                                          "<!-- X -->\n",
                                          "<g id=\"node6\" class=\"node\">\n",
                                          "<title>X</title>\n",
                                          "<ellipse fill=\"none\" stroke=\"green\" cx=\"306.4\" cy=\"-18\" rx=\"18\" ry=\"18\"/>\n",
                                          "<text text-anchor=\"middle\" x=\"306.4\" y=\"-14.3\" font-family=\"Times,serif\" font-size=\"14.00\">X</text>\n",
                                          "</g>\n",
                                          "<!-- D&#45;&gt;X -->\n",
                                          "<g id=\"edge5\" class=\"edge\">\n",
                                          "<title>D&#45;&gt;X</title>\n",
                                          "<path fill=\"none\" stroke=\"black\" d=\"M251.48,-38.74C259.9,-35.5 270.36,-31.47 279.83,-27.83\"/>\n",
                                          "<polygon fill=\"black\" stroke=\"black\" points=\"281.13,-31.08 289.2,-24.23 278.61,-24.55 281.13,-31.08\"/>\n",
                                          "</g>\n",
                                          "<!-- Y -->\n",
                                          "<g id=\"node7\" class=\"node\">\n",
                                          "<title>Y</title>\n",
                                          "<ellipse fill=\"none\" stroke=\"green\" cx=\"378.4\" cy=\"-18\" rx=\"18\" ry=\"18\"/>\n",
                                          "<text text-anchor=\"middle\" x=\"378.4\" y=\"-14.3\" font-family=\"Times,serif\" font-size=\"14.00\">Y</text>\n",
                                          "</g>\n",
                                          "<!-- X&#45;&gt;Y -->\n",
                                          "<g id=\"edge6\" class=\"edge\">\n",
                                          "<title>X&#45;&gt;Y</title>\n",
                                          "<path fill=\"none\" stroke=\"black\" d=\"M324.7,-18C332.41,-18 341.68,-18 350.28,-18\"/>\n",
                                          "<polygon fill=\"black\" stroke=\"black\" points=\"350.29,-21.5 360.29,-18 350.29,-14.5 350.29,-21.5\"/>\n",
                                          "</g>\n",
                                          "</g>\n",
                                          "</svg>\n"
                                    ],
                                    "text/plain": [
                                          "<graphviz.graphs.Digraph at 0x7f58f80c09a0>"
                                    ]
                              },
                              "metadata": {},
                              "output_type": "display_data"
                        },
                        {
                              "data": {
                                    "image/svg+xml": [
                                          "<?xml version=\"1.0\" encoding=\"UTF-8\" standalone=\"no\"?>\n",
                                          "<!DOCTYPE svg PUBLIC \"-//W3C//DTD SVG 1.1//EN\"\n",
                                          " \"http://www.w3.org/Graphics/SVG/1.1/DTD/svg11.dtd\">\n",
                                          "<!-- Generated by graphviz version 2.43.0 (0)\n",
                                          " -->\n",
                                          "<!-- Title: G Pages: 1 -->\n",
                                          "<svg width=\"404pt\" height=\"44pt\"\n",
                                          " viewBox=\"0.00 0.00 404.40 44.40\" xmlns=\"http://www.w3.org/2000/svg\" xmlns:xlink=\"http://www.w3.org/1999/xlink\">\n",
                                          "<g id=\"graph0\" class=\"graph\" transform=\"scale(1 1) rotate(0) translate(4 40.4)\">\n",
                                          "<title>G</title>\n",
                                          "<polygon fill=\"white\" stroke=\"transparent\" points=\"-4,4 -4,-40.4 400.4,-40.4 400.4,4 -4,4\"/>\n",
                                          "<!-- A -->\n",
                                          "<g id=\"node1\" class=\"node\">\n",
                                          "<title>A</title>\n",
                                          "<ellipse fill=\"none\" stroke=\"blue\" cx=\"18\" cy=\"-18.2\" rx=\"18\" ry=\"18\"/>\n",
                                          "<text text-anchor=\"middle\" x=\"18\" y=\"-14.5\" font-family=\"Times,serif\" font-size=\"14.00\">A</text>\n",
                                          "</g>\n",
                                          "<!-- B -->\n",
                                          "<g id=\"node2\" class=\"node\">\n",
                                          "<title>B</title>\n",
                                          "<ellipse fill=\"none\" stroke=\"blue\" cx=\"90\" cy=\"-18.2\" rx=\"18\" ry=\"18\"/>\n",
                                          "<text text-anchor=\"middle\" x=\"90\" y=\"-14.5\" font-family=\"Times,serif\" font-size=\"14.00\">B</text>\n",
                                          "</g>\n",
                                          "<!-- A&#45;&gt;B -->\n",
                                          "<g id=\"edge1\" class=\"edge\">\n",
                                          "<title>A&#45;&gt;B</title>\n",
                                          "<path fill=\"none\" stroke=\"black\" d=\"M36.3,-18.2C44.02,-18.2 53.29,-18.2 61.89,-18.2\"/>\n",
                                          "<polygon fill=\"black\" stroke=\"black\" points=\"61.9,-21.7 71.9,-18.2 61.9,-14.7 61.9,-21.7\"/>\n",
                                          "</g>\n",
                                          "<!-- C -->\n",
                                          "<g id=\"node3\" class=\"node\">\n",
                                          "<title>C</title>\n",
                                          "<ellipse fill=\"none\" stroke=\"blue\" cx=\"162\" cy=\"-18.2\" rx=\"18\" ry=\"18\"/>\n",
                                          "<text text-anchor=\"middle\" x=\"162\" y=\"-14.5\" font-family=\"Times,serif\" font-size=\"14.00\">C</text>\n",
                                          "</g>\n",
                                          "<!-- B&#45;&gt;C -->\n",
                                          "<g id=\"edge2\" class=\"edge\">\n",
                                          "<title>B&#45;&gt;C</title>\n",
                                          "<path fill=\"none\" stroke=\"black\" d=\"M108.3,-18.2C116.02,-18.2 125.29,-18.2 133.89,-18.2\"/>\n",
                                          "<polygon fill=\"black\" stroke=\"black\" points=\"133.9,-21.7 143.9,-18.2 133.9,-14.7 133.9,-21.7\"/>\n",
                                          "</g>\n",
                                          "<!-- D -->\n",
                                          "<g id=\"node4\" class=\"node\">\n",
                                          "<title>D</title>\n",
                                          "<ellipse fill=\"none\" stroke=\"blue\" cx=\"234.2\" cy=\"-18.2\" rx=\"18.4\" ry=\"18.4\"/>\n",
                                          "<text text-anchor=\"middle\" x=\"234.2\" y=\"-14.5\" font-family=\"Times,serif\" font-size=\"14.00\">D</text>\n",
                                          "</g>\n",
                                          "<!-- C&#45;&gt;D -->\n",
                                          "<g id=\"edge3\" class=\"edge\">\n",
                                          "<title>C&#45;&gt;D</title>\n",
                                          "<path fill=\"none\" stroke=\"black\" d=\"M180.35,-18.2C187.89,-18.2 196.91,-18.2 205.34,-18.2\"/>\n",
                                          "<polygon fill=\"black\" stroke=\"black\" points=\"205.56,-21.7 215.56,-18.2 205.56,-14.7 205.56,-21.7\"/>\n",
                                          "</g>\n",
                                          "<!-- X -->\n",
                                          "<g id=\"node5\" class=\"node\">\n",
                                          "<title>X</title>\n",
                                          "<ellipse fill=\"none\" stroke=\"magenta\" cx=\"306.4\" cy=\"-18.2\" rx=\"18\" ry=\"18\"/>\n",
                                          "<text text-anchor=\"middle\" x=\"306.4\" y=\"-14.5\" font-family=\"Times,serif\" font-size=\"14.00\">X</text>\n",
                                          "</g>\n",
                                          "<!-- D&#45;&gt;X -->\n",
                                          "<g id=\"edge4\" class=\"edge\">\n",
                                          "<title>D&#45;&gt;X</title>\n",
                                          "<path fill=\"none\" stroke=\"black\" d=\"M252.55,-18.2C260.29,-18.2 269.58,-18.2 278.21,-18.2\"/>\n",
                                          "<polygon fill=\"black\" stroke=\"black\" points=\"278.24,-21.7 288.24,-18.2 278.24,-14.7 278.24,-21.7\"/>\n",
                                          "</g>\n",
                                          "<!-- Y -->\n",
                                          "<g id=\"node6\" class=\"node\">\n",
                                          "<title>Y</title>\n",
                                          "<ellipse fill=\"none\" stroke=\"magenta\" cx=\"378.4\" cy=\"-18.2\" rx=\"18\" ry=\"18\"/>\n",
                                          "<text text-anchor=\"middle\" x=\"378.4\" y=\"-14.5\" font-family=\"Times,serif\" font-size=\"14.00\">Y</text>\n",
                                          "</g>\n",
                                          "<!-- X&#45;&gt;Y -->\n",
                                          "<g id=\"edge5\" class=\"edge\">\n",
                                          "<title>X&#45;&gt;Y</title>\n",
                                          "<path fill=\"none\" stroke=\"black\" d=\"M324.7,-18.2C332.41,-18.2 341.68,-18.2 350.28,-18.2\"/>\n",
                                          "<polygon fill=\"black\" stroke=\"black\" points=\"350.29,-21.7 360.29,-18.2 350.29,-14.7 350.29,-21.7\"/>\n",
                                          "</g>\n",
                                          "</g>\n",
                                          "</svg>\n"
                                    ],
                                    "text/plain": [
                                          "<graphviz.graphs.Digraph at 0x7f58f9203fa0>"
                                    ]
                              },
                              "metadata": {},
                              "output_type": "display_data"
                        }
                  ],
                  "source": [
                        "### This code is for creating the branch graph, it is not necessary for the course.\n",
                        "\n",
                        "import graphviz\n",
                        "\n",
                        "# Crear el gráfico con la dirección de las flechas de izquierda a derecha\n",
                        "orin = graphviz.Digraph('G', graph_attr={'rankdir': 'LR'})\n",
                        "fast_foward = graphviz.Digraph('G', graph_attr={'rankdir': 'LR'})\n",
                        "\n",
                        "# Agregar nodos (pelotas) A, B, C y D en la rama principal\n",
                        "orin.node('A', shape='circle', label='A', color='blue')\n",
                        "orin.node('B', shape='circle', label='B', color='blue')\n",
                        "orin.node('C', shape='circle', label='C', color='blue')\n",
                        "orin.node('D', shape='circle', label='D', color='blue')\n",
                        "orin.node('E', shape='circle', label='', color='transparent')\n",
                        "fast_foward.node('A', shape='circle', label='A', color='blue')\n",
                        "fast_foward.node('B', shape='circle', label='B', color='blue')\n",
                        "fast_foward.node('C', shape='circle', label='C', color='blue')\n",
                        "fast_foward.node('D', shape='circle', label='D', color='blue')\n",
                        "\n",
                        "# Agregar nodos (pelotas) X e Y en la rama secundaria\n",
                        "orin.node('X', shape='circle', label='X', color='green')\n",
                        "orin.node('Y', shape='circle', label='Y', color='green')\n",
                        "fast_foward.node('X', shape='circle', label='X', color='magenta')\n",
                        "fast_foward.node('Y', shape='circle', label='Y', color='magenta')\n",
                        "\n",
                        "# Agregar flechas entre los nodos en la rama principal\n",
                        "orin.edges(['AB', 'BC', 'CD'])\n",
                        "orin.edge('D', 'E', color='transparent')  # Hacer la flecha de C a D transparente\n",
                        "fast_foward.edges(['AB', 'BC', 'CD', 'DX', 'XY'])\n",
                        "\n",
                        "# Agregar flechas entre los nodos en la rama secundaria\n",
                        "orin.edges(['DX', 'XY'])\n",
                        "\n",
                        "# Mostrar el diagrama de flujo en la celda de código de Jupyter Notebook\n",
                        "display(orin)\n",
                        "display(fast_foward)"
                  ]
            },
            {
                  "attachments": {},
                  "cell_type": "markdown",
                  "metadata": {},
                  "source": [
                        "Let's first check that we are in the main branch"
                  ]
            },
            {
                  "cell_type": "code",
                  "execution_count": 133,
                  "metadata": {},
                  "outputs": [
                        {
                              "name": "stdout",
                              "output_type": "stream",
                              "text": [
                                    "main\n"
                              ]
                        }
                  ],
                  "source": [
                        "!cd notebook_git && git branch --show-current"
                  ]
            },
            {
                  "attachments": {},
                  "cell_type": "markdown",
                  "metadata": {},
                  "source": [
                        "We create a new branch"
                  ]
            },
            {
                  "cell_type": "code",
                  "execution_count": 134,
                  "metadata": {},
                  "outputs": [],
                  "source": [
                        "!cd notebook_git && git branch branch_fast_forward"
                  ]
            },
            {
                  "attachments": {},
                  "cell_type": "markdown",
                  "metadata": {},
                  "source": [
                        "We switch to it"
                  ]
            },
            {
                  "cell_type": "code",
                  "execution_count": 135,
                  "metadata": {},
                  "outputs": [
                        {
                              "name": "stdout",
                              "output_type": "stream",
                              "text": [
                                    "Cambiado a rama 'branch_fast_forward'\n"
                              ]
                        }
                  ],
                  "source": [
                        "!cd notebook_git && git switch branch_fast_forward"
                  ]
            },
            {
                  "cell_type": "code",
                  "execution_count": 136,
                  "metadata": {},
                  "outputs": [
                        {
                              "name": "stdout",
                              "output_type": "stream",
                              "text": [
                                    "branch_fast_forward\n"
                              ]
                        }
                  ],
                  "source": [
                        "!cd notebook_git && git branch --show-current"
                  ]
            },
            {
                  "attachments": {},
                  "cell_type": "markdown",
                  "metadata": {},
                  "source": [
                        "Let's see the log"
                  ]
            },
            {
                  "cell_type": "code",
                  "execution_count": 137,
                  "metadata": {},
                  "outputs": [
                        {
                              "name": "stdout",
                              "output_type": "stream",
                              "text": [
                                    "* \u001b[33m564ccfb\u001b[m\u001b[33m (\u001b[m\u001b[1;36mHEAD -> \u001b[m\u001b[1;32mbranch_fast_forward\u001b[m\u001b[33m, \u001b[m\u001b[1;32mnew_branch2\u001b[m\u001b[33m, \u001b[m\u001b[1;32mmain\u001b[m\u001b[33m)\u001b[m Commit con el archivo 8\n",
                                    "* \u001b[33m5168f78\u001b[m Eliminado archivo7.py\n",
                                    "* \u001b[33m4bb9d75\u001b[m\u001b[33m (\u001b[m\u001b[1;32mnew_branch\u001b[m\u001b[33m)\u001b[m Commit con el archivo 7\n",
                                    "* \u001b[33mea615a9\u001b[m Eliminado archivo5.py\n",
                                    "* \u001b[33me3153a5\u001b[m Commit con los archivos 4 y 5\n",
                                    "* \u001b[33m0b09cfa\u001b[m Añadido .gitignore\n",
                                    "* \u001b[33m04ebd1f\u001b[m Commit con los archivos 1 y 2\n",
                                    "* \u001b[33mc4930d7\u001b[m Tercer commit, hola.py\n",
                                    "* \u001b[33m6e99e73\u001b[m Segundo commit, hola.py\n",
                                    "* \u001b[33m1c95e4f\u001b[m Primer commit, hola.py\n"
                              ]
                        }
                  ],
                  "source": [
                        "!cd notebook_git && git log --graph --oneline --decorate --all"
                  ]
            },
            {
                  "attachments": {},
                  "cell_type": "markdown",
                  "metadata": {},
                  "source": [
                        "Ok, we are in a branch created from the main branch with all its log history, we make two new commits"
                  ]
            },
            {
                  "cell_type": "code",
                  "execution_count": 138,
                  "metadata": {},
                  "outputs": [
                        {
                              "name": "stdout",
                              "output_type": "stream",
                              "text": [
                                    "rm 'archivo4.py'\n",
                                    "[branch_fast_forward 4484e70] Eliminado archivo4.py\n",
                                    " 1 file changed, 1 deletion(-)\n",
                                    " delete mode 100644 archivo4.py\n"
                              ]
                        }
                  ],
                  "source": [
                        "!cd notebook_git && git rm archivo4.py && git commit -am \"Eliminado archivo4.py\""
                  ]
            },
            {
                  "cell_type": "code",
                  "execution_count": 139,
                  "metadata": {},
                  "outputs": [
                        {
                              "name": "stdout",
                              "output_type": "stream",
                              "text": [
                                    "rm 'hola.py'\n",
                                    "[branch_fast_forward 94149fc] Eliminado hola.py\n",
                                    " 1 file changed, 3 deletions(-)\n",
                                    " delete mode 100644 hola.py\n"
                              ]
                        }
                  ],
                  "source": [
                        "!cd notebook_git && git rm hola.py && git commit -am \"Eliminado hola.py\""
                  ]
            },
            {
                  "attachments": {},
                  "cell_type": "markdown",
                  "metadata": {},
                  "source": [
                        "We make a new log to see that in this new branch the following have been created"
                  ]
            },
            {
                  "cell_type": "code",
                  "execution_count": 140,
                  "metadata": {},
                  "outputs": [
                        {
                              "name": "stdout",
                              "output_type": "stream",
                              "text": [
                                    "* \u001b[33m94149fc\u001b[m\u001b[33m (\u001b[m\u001b[1;36mHEAD -> \u001b[m\u001b[1;32mbranch_fast_forward\u001b[m\u001b[33m)\u001b[m Eliminado hola.py\n",
                                    "* \u001b[33m4484e70\u001b[m Eliminado archivo4.py\n",
                                    "* \u001b[33m564ccfb\u001b[m\u001b[33m (\u001b[m\u001b[1;32mnew_branch2\u001b[m\u001b[33m, \u001b[m\u001b[1;32mmain\u001b[m\u001b[33m)\u001b[m Commit con el archivo 8\n",
                                    "* \u001b[33m5168f78\u001b[m Eliminado archivo7.py\n",
                                    "* \u001b[33m4bb9d75\u001b[m\u001b[33m (\u001b[m\u001b[1;32mnew_branch\u001b[m\u001b[33m)\u001b[m Commit con el archivo 7\n",
                                    "* \u001b[33mea615a9\u001b[m Eliminado archivo5.py\n",
                                    "* \u001b[33me3153a5\u001b[m Commit con los archivos 4 y 5\n",
                                    "* \u001b[33m0b09cfa\u001b[m Añadido .gitignore\n",
                                    "* \u001b[33m04ebd1f\u001b[m Commit con los archivos 1 y 2\n",
                                    "* \u001b[33mc4930d7\u001b[m Tercer commit, hola.py\n",
                                    "* \u001b[33m6e99e73\u001b[m Segundo commit, hola.py\n",
                                    "* \u001b[33m1c95e4f\u001b[m Primer commit, hola.py\n"
                              ]
                        }
                  ],
                  "source": [
                        "!cd notebook_git && git log --graph --oneline --decorate"
                  ]
            },
            {
                  "attachments": {},
                  "cell_type": "markdown",
                  "metadata": {},
                  "source": [
                        "As we can see the last two commits are the ones we have created and we can check that those commits are not in the main branch (for that I specify to do it on the `main` branch)."
                  ]
            },
            {
                  "cell_type": "code",
                  "execution_count": 141,
                  "metadata": {},
                  "outputs": [
                        {
                              "name": "stdout",
                              "output_type": "stream",
                              "text": [
                                    "* \u001b[33m564ccfb\u001b[m\u001b[33m (\u001b[m\u001b[1;32mnew_branch2\u001b[m\u001b[33m, \u001b[m\u001b[1;32mmain\u001b[m\u001b[33m)\u001b[m Commit con el archivo 8\n",
                                    "* \u001b[33m5168f78\u001b[m Eliminado archivo7.py\n",
                                    "* \u001b[33m4bb9d75\u001b[m\u001b[33m (\u001b[m\u001b[1;32mnew_branch\u001b[m\u001b[33m)\u001b[m Commit con el archivo 7\n",
                                    "* \u001b[33mea615a9\u001b[m Eliminado archivo5.py\n",
                                    "* \u001b[33me3153a5\u001b[m Commit con los archivos 4 y 5\n",
                                    "* \u001b[33m0b09cfa\u001b[m Añadido .gitignore\n",
                                    "* \u001b[33m04ebd1f\u001b[m Commit con los archivos 1 y 2\n",
                                    "* \u001b[33mc4930d7\u001b[m Tercer commit, hola.py\n",
                                    "* \u001b[33m6e99e73\u001b[m Segundo commit, hola.py\n",
                                    "* \u001b[33m1c95e4f\u001b[m Primer commit, hola.py\n"
                              ]
                        }
                  ],
                  "source": [
                        "!cd notebook_git && git log main --graph --oneline --decorate"
                  ]
            },
            {
                  "attachments": {},
                  "cell_type": "markdown",
                  "metadata": {},
                  "source": [
                        "Now we go to the `main` branch to do the merge"
                  ]
            },
            {
                  "cell_type": "code",
                  "execution_count": 142,
                  "metadata": {},
                  "outputs": [
                        {
                              "name": "stdout",
                              "output_type": "stream",
                              "text": [
                                    "Cambiado a rama 'main'\n"
                              ]
                        }
                  ],
                  "source": [
                        "!cd notebook_git && git switch main"
                  ]
            },
            {
                  "attachments": {},
                  "cell_type": "markdown",
                  "metadata": {},
                  "source": [
                        "Finally we make the fast forward type merge"
                  ]
            },
            {
                  "cell_type": "code",
                  "execution_count": 143,
                  "metadata": {},
                  "outputs": [
                        {
                              "name": "stdout",
                              "output_type": "stream",
                              "text": [
                                    "Actualizando 564ccfb..94149fc\n",
                                    "Fast-forward\n",
                                    " archivo4.py | 1 \u001b[31m-\u001b[m\n",
                                    " hola.py     | 3 \u001b[31m---\u001b[m\n",
                                    " 2 files changed, 4 deletions(-)\n",
                                    " delete mode 100644 archivo4.py\n",
                                    " delete mode 100644 hola.py\n"
                              ]
                        }
                  ],
                  "source": [
                        "!cd notebook_git && git merge --ff-only branch_fast_forward"
                  ]
            },
            {
                  "attachments": {},
                  "cell_type": "markdown",
                  "metadata": {},
                  "source": [
                        "The merge has been done, let's see what has happened to the log in the `main` branch"
                  ]
            },
            {
                  "cell_type": "code",
                  "execution_count": 144,
                  "metadata": {},
                  "outputs": [
                        {
                              "name": "stdout",
                              "output_type": "stream",
                              "text": [
                                    "* \u001b[33m94149fc\u001b[m\u001b[33m (\u001b[m\u001b[1;36mHEAD -> \u001b[m\u001b[1;32mmain\u001b[m\u001b[33m, \u001b[m\u001b[1;32mbranch_fast_forward\u001b[m\u001b[33m)\u001b[m Eliminado hola.py\n",
                                    "* \u001b[33m4484e70\u001b[m Eliminado archivo4.py\n",
                                    "* \u001b[33m564ccfb\u001b[m\u001b[33m (\u001b[m\u001b[1;32mnew_branch2\u001b[m\u001b[33m)\u001b[m Commit con el archivo 8\n",
                                    "* \u001b[33m5168f78\u001b[m Eliminado archivo7.py\n",
                                    "* \u001b[33m4bb9d75\u001b[m\u001b[33m (\u001b[m\u001b[1;32mnew_branch\u001b[m\u001b[33m)\u001b[m Commit con el archivo 7\n",
                                    "* \u001b[33mea615a9\u001b[m Eliminado archivo5.py\n",
                                    "* \u001b[33me3153a5\u001b[m Commit con los archivos 4 y 5\n",
                                    "* \u001b[33m0b09cfa\u001b[m Añadido .gitignore\n",
                                    "* \u001b[33m04ebd1f\u001b[m Commit con los archivos 1 y 2\n",
                                    "* \u001b[33mc4930d7\u001b[m Tercer commit, hola.py\n",
                                    "* \u001b[33m6e99e73\u001b[m Segundo commit, hola.py\n",
                                    "* \u001b[33m1c95e4f\u001b[m Primer commit, hola.py\n"
                              ]
                        }
                  ],
                  "source": [
                        "!cd notebook_git && git log --graph --oneline --decorate"
                  ]
            },
            {
                  "attachments": {},
                  "cell_type": "markdown",
                  "metadata": {},
                  "source": [
                        "As you can see, the two commits made in the `branch_fast_forward_frog have been kept."
                  ]
            },
            {
                  "attachments": {},
                  "cell_type": "markdown",
                  "metadata": {},
                  "source": [
                        "#### No fast-forward or true merge"
                  ]
            },
            {
                  "attachments": {},
                  "cell_type": "markdown",
                  "metadata": {},
                  "source": [
                        "In this case we create a new branch, leave the main one untouched and modify the new one, making several commits. Then we make a commit in the main one. So when we merge the new one into the main one we will see a single commit in the new one. To do this kind of merge we type `git merge <branch> --no-ff`."
                  ]
            },
            {
                  "cell_type": "code",
                  "execution_count": 145,
                  "metadata": {},
                  "outputs": [
                        {
                              "data": {
                                    "image/svg+xml": [
                                          "<?xml version=\"1.0\" encoding=\"UTF-8\" standalone=\"no\"?>\n",
                                          "<!DOCTYPE svg PUBLIC \"-//W3C//DTD SVG 1.1//EN\"\n",
                                          " \"http://www.w3.org/Graphics/SVG/1.1/DTD/svg11.dtd\">\n",
                                          "<!-- Generated by graphviz version 2.43.0 (0)\n",
                                          " -->\n",
                                          "<!-- Title: G Pages: 1 -->\n",
                                          "<svg width=\"404pt\" height=\"98pt\"\n",
                                          " viewBox=\"0.00 0.00 404.40 98.00\" xmlns=\"http://www.w3.org/2000/svg\" xmlns:xlink=\"http://www.w3.org/1999/xlink\">\n",
                                          "<g id=\"graph0\" class=\"graph\" transform=\"scale(1 1) rotate(0) translate(4 94)\">\n",
                                          "<title>G</title>\n",
                                          "<polygon fill=\"white\" stroke=\"transparent\" points=\"-4,4 -4,-94 400.4,-94 400.4,4 -4,4\"/>\n",
                                          "<!-- A -->\n",
                                          "<g id=\"node1\" class=\"node\">\n",
                                          "<title>A</title>\n",
                                          "<ellipse fill=\"none\" stroke=\"blue\" cx=\"18\" cy=\"-45\" rx=\"18\" ry=\"18\"/>\n",
                                          "<text text-anchor=\"middle\" x=\"18\" y=\"-41.3\" font-family=\"Times,serif\" font-size=\"14.00\">A</text>\n",
                                          "</g>\n",
                                          "<!-- B -->\n",
                                          "<g id=\"node2\" class=\"node\">\n",
                                          "<title>B</title>\n",
                                          "<ellipse fill=\"none\" stroke=\"blue\" cx=\"90\" cy=\"-45\" rx=\"18\" ry=\"18\"/>\n",
                                          "<text text-anchor=\"middle\" x=\"90\" y=\"-41.3\" font-family=\"Times,serif\" font-size=\"14.00\">B</text>\n",
                                          "</g>\n",
                                          "<!-- A&#45;&gt;B -->\n",
                                          "<g id=\"edge1\" class=\"edge\">\n",
                                          "<title>A&#45;&gt;B</title>\n",
                                          "<path fill=\"none\" stroke=\"black\" d=\"M36.3,-45C44.02,-45 53.29,-45 61.89,-45\"/>\n",
                                          "<polygon fill=\"black\" stroke=\"black\" points=\"61.9,-48.5 71.9,-45 61.9,-41.5 61.9,-48.5\"/>\n",
                                          "</g>\n",
                                          "<!-- C -->\n",
                                          "<g id=\"node3\" class=\"node\">\n",
                                          "<title>C</title>\n",
                                          "<ellipse fill=\"none\" stroke=\"blue\" cx=\"162\" cy=\"-45\" rx=\"18\" ry=\"18\"/>\n",
                                          "<text text-anchor=\"middle\" x=\"162\" y=\"-41.3\" font-family=\"Times,serif\" font-size=\"14.00\">C</text>\n",
                                          "</g>\n",
                                          "<!-- B&#45;&gt;C -->\n",
                                          "<g id=\"edge2\" class=\"edge\">\n",
                                          "<title>B&#45;&gt;C</title>\n",
                                          "<path fill=\"none\" stroke=\"black\" d=\"M108.3,-45C116.02,-45 125.29,-45 133.89,-45\"/>\n",
                                          "<polygon fill=\"black\" stroke=\"black\" points=\"133.9,-48.5 143.9,-45 133.9,-41.5 133.9,-48.5\"/>\n",
                                          "</g>\n",
                                          "<!-- D -->\n",
                                          "<g id=\"node4\" class=\"node\">\n",
                                          "<title>D</title>\n",
                                          "<ellipse fill=\"none\" stroke=\"blue\" cx=\"234.2\" cy=\"-45\" rx=\"18.4\" ry=\"18.4\"/>\n",
                                          "<text text-anchor=\"middle\" x=\"234.2\" y=\"-41.3\" font-family=\"Times,serif\" font-size=\"14.00\">D</text>\n",
                                          "</g>\n",
                                          "<!-- C&#45;&gt;D -->\n",
                                          "<g id=\"edge3\" class=\"edge\">\n",
                                          "<title>C&#45;&gt;D</title>\n",
                                          "<path fill=\"none\" stroke=\"black\" d=\"M180.35,-45C187.89,-45 196.91,-45 205.34,-45\"/>\n",
                                          "<polygon fill=\"black\" stroke=\"black\" points=\"205.56,-48.5 215.56,-45 205.56,-41.5 205.56,-48.5\"/>\n",
                                          "</g>\n",
                                          "<!-- E -->\n",
                                          "<g id=\"node5\" class=\"node\">\n",
                                          "<title>E</title>\n",
                                          "<ellipse fill=\"none\" stroke=\"transparent\" cx=\"306.4\" cy=\"-72\" rx=\"18\" ry=\"18\"/>\n",
                                          "</g>\n",
                                          "<!-- D&#45;&gt;E -->\n",
                                          "<g id=\"edge4\" class=\"edge\">\n",
                                          "<title>D&#45;&gt;E</title>\n",
                                          "<path fill=\"none\" stroke=\"transparent\" d=\"M251.48,-51.26C259.9,-54.5 270.36,-58.53 279.83,-62.17\"/>\n",
                                          "<polygon fill=\"transparent\" stroke=\"transparent\" points=\"278.61,-65.45 289.2,-65.77 281.13,-58.92 278.61,-65.45\"/>\n",
                                          "</g>\n",
                                          "<!-- X -->\n",
                                          "<g id=\"node6\" class=\"node\">\n",
                                          "<title>X</title>\n",
                                          "<ellipse fill=\"none\" stroke=\"green\" cx=\"306.4\" cy=\"-18\" rx=\"18\" ry=\"18\"/>\n",
                                          "<text text-anchor=\"middle\" x=\"306.4\" y=\"-14.3\" font-family=\"Times,serif\" font-size=\"14.00\">X</text>\n",
                                          "</g>\n",
                                          "<!-- D&#45;&gt;X -->\n",
                                          "<g id=\"edge5\" class=\"edge\">\n",
                                          "<title>D&#45;&gt;X</title>\n",
                                          "<path fill=\"none\" stroke=\"black\" d=\"M251.48,-38.74C259.9,-35.5 270.36,-31.47 279.83,-27.83\"/>\n",
                                          "<polygon fill=\"black\" stroke=\"black\" points=\"281.13,-31.08 289.2,-24.23 278.61,-24.55 281.13,-31.08\"/>\n",
                                          "</g>\n",
                                          "<!-- Y -->\n",
                                          "<g id=\"node7\" class=\"node\">\n",
                                          "<title>Y</title>\n",
                                          "<ellipse fill=\"none\" stroke=\"green\" cx=\"378.4\" cy=\"-18\" rx=\"18\" ry=\"18\"/>\n",
                                          "<text text-anchor=\"middle\" x=\"378.4\" y=\"-14.3\" font-family=\"Times,serif\" font-size=\"14.00\">Y</text>\n",
                                          "</g>\n",
                                          "<!-- X&#45;&gt;Y -->\n",
                                          "<g id=\"edge6\" class=\"edge\">\n",
                                          "<title>X&#45;&gt;Y</title>\n",
                                          "<path fill=\"none\" stroke=\"black\" d=\"M324.7,-18C332.41,-18 341.68,-18 350.28,-18\"/>\n",
                                          "<polygon fill=\"black\" stroke=\"black\" points=\"350.29,-21.5 360.29,-18 350.29,-14.5 350.29,-21.5\"/>\n",
                                          "</g>\n",
                                          "</g>\n",
                                          "</svg>\n"
                                    ],
                                    "text/plain": [
                                          "<graphviz.graphs.Digraph at 0x7f58f80c2fb0>"
                                    ]
                              },
                              "metadata": {},
                              "output_type": "display_data"
                        },
                        {
                              "data": {
                                    "image/svg+xml": [
                                          "<?xml version=\"1.0\" encoding=\"UTF-8\" standalone=\"no\"?>\n",
                                          "<!DOCTYPE svg PUBLIC \"-//W3C//DTD SVG 1.1//EN\"\n",
                                          " \"http://www.w3.org/Graphics/SVG/1.1/DTD/svg11.dtd\">\n",
                                          "<!-- Generated by graphviz version 2.43.0 (0)\n",
                                          " -->\n",
                                          "<!-- Title: G Pages: 1 -->\n",
                                          "<svg width=\"481pt\" height=\"98pt\"\n",
                                          " viewBox=\"0.00 0.00 480.69 98.00\" xmlns=\"http://www.w3.org/2000/svg\" xmlns:xlink=\"http://www.w3.org/1999/xlink\">\n",
                                          "<g id=\"graph0\" class=\"graph\" transform=\"scale(1 1) rotate(0) translate(4 94)\">\n",
                                          "<title>G</title>\n",
                                          "<polygon fill=\"white\" stroke=\"transparent\" points=\"-4,4 -4,-94 476.69,-94 476.69,4 -4,4\"/>\n",
                                          "<!-- A -->\n",
                                          "<g id=\"node1\" class=\"node\">\n",
                                          "<title>A</title>\n",
                                          "<ellipse fill=\"none\" stroke=\"blue\" cx=\"18\" cy=\"-45\" rx=\"18\" ry=\"18\"/>\n",
                                          "<text text-anchor=\"middle\" x=\"18\" y=\"-41.3\" font-family=\"Times,serif\" font-size=\"14.00\">A</text>\n",
                                          "</g>\n",
                                          "<!-- B -->\n",
                                          "<g id=\"node2\" class=\"node\">\n",
                                          "<title>B</title>\n",
                                          "<ellipse fill=\"none\" stroke=\"blue\" cx=\"90\" cy=\"-45\" rx=\"18\" ry=\"18\"/>\n",
                                          "<text text-anchor=\"middle\" x=\"90\" y=\"-41.3\" font-family=\"Times,serif\" font-size=\"14.00\">B</text>\n",
                                          "</g>\n",
                                          "<!-- A&#45;&gt;B -->\n",
                                          "<g id=\"edge1\" class=\"edge\">\n",
                                          "<title>A&#45;&gt;B</title>\n",
                                          "<path fill=\"none\" stroke=\"black\" d=\"M36.3,-45C44.02,-45 53.29,-45 61.89,-45\"/>\n",
                                          "<polygon fill=\"black\" stroke=\"black\" points=\"61.9,-48.5 71.9,-45 61.9,-41.5 61.9,-48.5\"/>\n",
                                          "</g>\n",
                                          "<!-- C -->\n",
                                          "<g id=\"node3\" class=\"node\">\n",
                                          "<title>C</title>\n",
                                          "<ellipse fill=\"none\" stroke=\"blue\" cx=\"162\" cy=\"-45\" rx=\"18\" ry=\"18\"/>\n",
                                          "<text text-anchor=\"middle\" x=\"162\" y=\"-41.3\" font-family=\"Times,serif\" font-size=\"14.00\">C</text>\n",
                                          "</g>\n",
                                          "<!-- B&#45;&gt;C -->\n",
                                          "<g id=\"edge2\" class=\"edge\">\n",
                                          "<title>B&#45;&gt;C</title>\n",
                                          "<path fill=\"none\" stroke=\"black\" d=\"M108.3,-45C116.02,-45 125.29,-45 133.89,-45\"/>\n",
                                          "<polygon fill=\"black\" stroke=\"black\" points=\"133.9,-48.5 143.9,-45 133.9,-41.5 133.9,-48.5\"/>\n",
                                          "</g>\n",
                                          "<!-- D -->\n",
                                          "<g id=\"node4\" class=\"node\">\n",
                                          "<title>D</title>\n",
                                          "<ellipse fill=\"none\" stroke=\"blue\" cx=\"234.2\" cy=\"-45\" rx=\"18.4\" ry=\"18.4\"/>\n",
                                          "<text text-anchor=\"middle\" x=\"234.2\" y=\"-41.3\" font-family=\"Times,serif\" font-size=\"14.00\">D</text>\n",
                                          "</g>\n",
                                          "<!-- C&#45;&gt;D -->\n",
                                          "<g id=\"edge3\" class=\"edge\">\n",
                                          "<title>C&#45;&gt;D</title>\n",
                                          "<path fill=\"none\" stroke=\"black\" d=\"M180.35,-45C187.89,-45 196.91,-45 205.34,-45\"/>\n",
                                          "<polygon fill=\"black\" stroke=\"black\" points=\"205.56,-48.5 215.56,-45 205.56,-41.5 205.56,-48.5\"/>\n",
                                          "</g>\n",
                                          "<!-- E -->\n",
                                          "<g id=\"node5\" class=\"node\">\n",
                                          "<title>E</title>\n",
                                          "<ellipse fill=\"none\" stroke=\"blue\" cx=\"378.4\" cy=\"-72\" rx=\"18\" ry=\"18\"/>\n",
                                          "<text text-anchor=\"middle\" x=\"378.4\" y=\"-68.3\" font-family=\"Times,serif\" font-size=\"14.00\">E</text>\n",
                                          "</g>\n",
                                          "<!-- D&#45;&gt;E -->\n",
                                          "<g id=\"edge4\" class=\"edge\">\n",
                                          "<title>D&#45;&gt;E</title>\n",
                                          "<path fill=\"none\" stroke=\"black\" d=\"M252.35,-48.26C276.72,-52.88 321.59,-61.4 350.43,-66.88\"/>\n",
                                          "<polygon fill=\"black\" stroke=\"black\" points=\"350.15,-70.39 360.63,-68.82 351.45,-63.51 350.15,-70.39\"/>\n",
                                          "</g>\n",
                                          "<!-- X -->\n",
                                          "<g id=\"node6\" class=\"node\">\n",
                                          "<title>X</title>\n",
                                          "<ellipse fill=\"none\" stroke=\"green\" cx=\"306.4\" cy=\"-22\" rx=\"18\" ry=\"18\"/>\n",
                                          "<text text-anchor=\"middle\" x=\"306.4\" y=\"-18.3\" font-family=\"Times,serif\" font-size=\"14.00\">X</text>\n",
                                          "</g>\n",
                                          "<!-- D&#45;&gt;X -->\n",
                                          "<g id=\"edge5\" class=\"edge\">\n",
                                          "<title>D&#45;&gt;X</title>\n",
                                          "<path fill=\"none\" stroke=\"black\" d=\"M251.83,-39.55C260.05,-36.86 270.16,-33.55 279.37,-30.53\"/>\n",
                                          "<polygon fill=\"black\" stroke=\"black\" points=\"280.47,-33.85 288.88,-27.41 278.29,-27.2 280.47,-33.85\"/>\n",
                                          "</g>\n",
                                          "<!-- M -->\n",
                                          "<g id=\"node8\" class=\"node\">\n",
                                          "<title>M</title>\n",
                                          "<ellipse fill=\"none\" stroke=\"magenta\" cx=\"452.54\" cy=\"-45\" rx=\"20.3\" ry=\"20.3\"/>\n",
                                          "<text text-anchor=\"middle\" x=\"452.54\" y=\"-41.3\" font-family=\"Times,serif\" font-size=\"14.00\">M</text>\n",
                                          "</g>\n",
                                          "<!-- E&#45;&gt;M -->\n",
                                          "<g id=\"edge8\" class=\"edge\">\n",
                                          "<title>E&#45;&gt;M</title>\n",
                                          "<path fill=\"none\" stroke=\"black\" d=\"M395.41,-66.01C403.79,-62.87 414.29,-58.94 423.93,-55.33\"/>\n",
                                          "<polygon fill=\"black\" stroke=\"black\" points=\"425.41,-58.52 433.55,-51.73 422.96,-51.96 425.41,-58.52\"/>\n",
                                          "</g>\n",
                                          "<!-- Y -->\n",
                                          "<g id=\"node7\" class=\"node\">\n",
                                          "<title>Y</title>\n",
                                          "<ellipse fill=\"none\" stroke=\"green\" cx=\"378.4\" cy=\"-18\" rx=\"18\" ry=\"18\"/>\n",
                                          "<text text-anchor=\"middle\" x=\"378.4\" y=\"-14.3\" font-family=\"Times,serif\" font-size=\"14.00\">Y</text>\n",
                                          "</g>\n",
                                          "<!-- X&#45;&gt;Y -->\n",
                                          "<g id=\"edge6\" class=\"edge\">\n",
                                          "<title>X&#45;&gt;Y</title>\n",
                                          "<path fill=\"none\" stroke=\"black\" d=\"M324.7,-21.01C332.41,-20.57 341.68,-20.04 350.28,-19.55\"/>\n",
                                          "<polygon fill=\"black\" stroke=\"black\" points=\"350.51,-23.04 360.29,-18.98 350.11,-16.05 350.51,-23.04\"/>\n",
                                          "</g>\n",
                                          "<!-- Y&#45;&gt;M -->\n",
                                          "<g id=\"edge7\" class=\"edge\">\n",
                                          "<title>Y&#45;&gt;M</title>\n",
                                          "<path fill=\"none\" stroke=\"black\" d=\"M395.41,-23.99C403.79,-27.13 414.29,-31.06 423.93,-34.67\"/>\n",
                                          "<polygon fill=\"black\" stroke=\"black\" points=\"422.96,-38.04 433.55,-38.27 425.41,-31.48 422.96,-38.04\"/>\n",
                                          "</g>\n",
                                          "</g>\n",
                                          "</svg>\n"
                                    ],
                                    "text/plain": [
                                          "<graphviz.graphs.Digraph at 0x7f58f80c2230>"
                                    ]
                              },
                              "metadata": {},
                              "output_type": "display_data"
                        }
                  ],
                  "source": [
                        "### This code is for creating the branch graph, it is not necessary for the course.\n",
                        "\n",
                        "import graphviz\n",
                        "\n",
                        "# Crear el gráfico con la dirección de las flechas de izquierda a derecha\n",
                        "orin = graphviz.Digraph('G', graph_attr={'rankdir': 'LR'})\n",
                        "not_fast_forward = graphviz.Digraph('G', graph_attr={'rankdir': 'LR'})\n",
                        "\n",
                        "# Agregar nodos (pelotas) A, B, C y D en la rama principal\n",
                        "orin.node('A', shape='circle', label='A', color='blue')\n",
                        "orin.node('B', shape='circle', label='B', color='blue')\n",
                        "orin.node('C', shape='circle', label='C', color='blue')\n",
                        "orin.node('D', shape='circle', label='D', color='blue')\n",
                        "orin.node('E', shape='circle', label='', color='transparent')\n",
                        "not_fast_forward.node('A', shape='circle', label='A', color='blue')\n",
                        "not_fast_forward.node('B', shape='circle', label='B', color='blue')\n",
                        "not_fast_forward.node('C', shape='circle', label='C', color='blue')\n",
                        "not_fast_forward.node('D', shape='circle', label='D', color='blue')\n",
                        "not_fast_forward.node('E', shape='circle', label='E', color='blue')\n",
                        "\n",
                        "# Agregar nodos (pelotas) X e Y en la rama secundaria\n",
                        "orin.node('X', shape='circle', label='X', color='green')\n",
                        "orin.node('Y', shape='circle', label='Y', color='green')\n",
                        "not_fast_forward.node('X', shape='circle', label='X', color='green')\n",
                        "not_fast_forward.node('Y', shape='circle', label='Y', color='green')\n",
                        "\n",
                        "# Agregar nodo (pelota) M en la rama principal\n",
                        "not_fast_forward.node('M', shape='circle', label='M', color='magenta')\n",
                        "\n",
                        "# Agregar flechas entre los nodos en la rama principal\n",
                        "orin.edges(['AB', 'BC', 'CD'])\n",
                        "orin.edge('D', 'E', color='transparent')  # Hacer la flecha de C a D transparente\n",
                        "not_fast_forward.edges(['AB', 'BC', 'CD', 'DE'])\n",
                        "\n",
                        "# Agregar flechas entre los nodos en la rama secundaria\n",
                        "orin.edges(['DX', 'XY'])\n",
                        "not_fast_forward.edges(['DX', 'XY', 'YM'])\n",
                        "\n",
                        "# Agregar flechas de la rama principal al nodo M\n",
                        "not_fast_forward.edge('E', 'M')\n",
                        "\n",
                        "# Mostrar el diagrama de flujo en la celda de código de Jupyter Notebook\n",
                        "display(orin)\n",
                        "display(not_fast_forward)"
                  ]
            },
            {
                  "cell_type": "markdown",
                  "metadata": {},
                  "source": [
                        "Let's first check that we are in the main branch"
                  ]
            },
            {
                  "cell_type": "code",
                  "execution_count": 146,
                  "metadata": {},
                  "outputs": [
                        {
                              "name": "stdout",
                              "output_type": "stream",
                              "text": [
                                    "main\n"
                              ]
                        }
                  ],
                  "source": [
                        "!cd notebook_git && git branch --show-current"
                  ]
            },
            {
                  "cell_type": "markdown",
                  "metadata": {},
                  "source": [
                        "We create a new branch"
                  ]
            },
            {
                  "cell_type": "code",
                  "execution_count": 147,
                  "metadata": {},
                  "outputs": [],
                  "source": [
                        "!cd notebook_git && git branch branch_no_fast_forward"
                  ]
            },
            {
                  "cell_type": "markdown",
                  "metadata": {},
                  "source": [
                        "We switch to it"
                  ]
            },
            {
                  "cell_type": "code",
                  "execution_count": 148,
                  "metadata": {},
                  "outputs": [
                        {
                              "name": "stdout",
                              "output_type": "stream",
                              "text": [
                                    "Cambiado a rama 'branch_no_fast_forward'\n"
                              ]
                        }
                  ],
                  "source": [
                        "!cd notebook_git && git switch branch_no_fast_forward"
                  ]
            },
            {
                  "cell_type": "code",
                  "execution_count": 149,
                  "metadata": {},
                  "outputs": [
                        {
                              "name": "stdout",
                              "output_type": "stream",
                              "text": [
                                    "branch_no_fast_forward\n"
                              ]
                        }
                  ],
                  "source": [
                        "!cd notebook_git && git branch --show-current"
                  ]
            },
            {
                  "cell_type": "markdown",
                  "metadata": {},
                  "source": [
                        "Ok, we are in a branch created from the main branch with all its log history, we make two new commits"
                  ]
            },
            {
                  "cell_type": "code",
                  "execution_count": 150,
                  "metadata": {},
                  "outputs": [
                        {
                              "name": "stdout",
                              "output_type": "stream",
                              "text": [
                                    "[branch_no_fast_forward e4e23c9] file1\n",
                                    " 1 file changed, 0 insertions(+), 0 deletions(-)\n",
                                    " create mode 100644 file1\n"
                              ]
                        }
                  ],
                  "source": [
                        "!cd notebook_git && touch file1 && git add file1 && git commit -m \"file1\""
                  ]
            },
            {
                  "cell_type": "code",
                  "execution_count": 151,
                  "metadata": {},
                  "outputs": [
                        {
                              "name": "stdout",
                              "output_type": "stream",
                              "text": [
                                    "[branch_no_fast_forward 8df3429] file2\n",
                                    " 1 file changed, 0 insertions(+), 0 deletions(-)\n",
                                    " create mode 100644 file2\n"
                              ]
                        }
                  ],
                  "source": [
                        "!cd notebook_git && touch file2 && git add file2 && git commit -m \"file2\""
                  ]
            },
            {
                  "cell_type": "markdown",
                  "metadata": {},
                  "source": [
                        "We make a new log to see that in this new branch the following have been created"
                  ]
            },
            {
                  "cell_type": "code",
                  "execution_count": 152,
                  "metadata": {},
                  "outputs": [
                        {
                              "name": "stdout",
                              "output_type": "stream",
                              "text": [
                                    "* \u001b[33m8df3429\u001b[m\u001b[33m (\u001b[m\u001b[1;36mHEAD -> \u001b[m\u001b[1;32mbranch_no_fast_forward\u001b[m\u001b[33m)\u001b[m file2\n",
                                    "* \u001b[33me4e23c9\u001b[m file1\n",
                                    "* \u001b[33m94149fc\u001b[m\u001b[33m (\u001b[m\u001b[1;32mmain\u001b[m\u001b[33m, \u001b[m\u001b[1;32mbranch_fast_forward\u001b[m\u001b[33m)\u001b[m Eliminado hola.py\n",
                                    "* \u001b[33m4484e70\u001b[m Eliminado archivo4.py\n",
                                    "* \u001b[33m564ccfb\u001b[m\u001b[33m (\u001b[m\u001b[1;32mnew_branch2\u001b[m\u001b[33m)\u001b[m Commit con el archivo 8\n",
                                    "* \u001b[33m5168f78\u001b[m Eliminado archivo7.py\n",
                                    "* \u001b[33m4bb9d75\u001b[m\u001b[33m (\u001b[m\u001b[1;32mnew_branch\u001b[m\u001b[33m)\u001b[m Commit con el archivo 7\n",
                                    "* \u001b[33mea615a9\u001b[m Eliminado archivo5.py\n",
                                    "* \u001b[33me3153a5\u001b[m Commit con los archivos 4 y 5\n",
                                    "* \u001b[33m0b09cfa\u001b[m Añadido .gitignore\n",
                                    "* \u001b[33m04ebd1f\u001b[m Commit con los archivos 1 y 2\n",
                                    "* \u001b[33mc4930d7\u001b[m Tercer commit, hola.py\n",
                                    "* \u001b[33m6e99e73\u001b[m Segundo commit, hola.py\n",
                                    "* \u001b[33m1c95e4f\u001b[m Primer commit, hola.py\n"
                              ]
                        }
                  ],
                  "source": [
                        "!cd notebook_git && git log --graph --oneline --decorate"
                  ]
            },
            {
                  "cell_type": "markdown",
                  "metadata": {},
                  "source": [
                        "As we can see the last two commits are the ones we have created and we can check that those commits are not in the main branch (for that I specify to do it on the `main` branch)."
                  ]
            },
            {
                  "cell_type": "code",
                  "execution_count": 153,
                  "metadata": {},
                  "outputs": [
                        {
                              "name": "stdout",
                              "output_type": "stream",
                              "text": [
                                    "* \u001b[33m94149fc\u001b[m\u001b[33m (\u001b[m\u001b[1;32mmain\u001b[m\u001b[33m, \u001b[m\u001b[1;32mbranch_fast_forward\u001b[m\u001b[33m)\u001b[m Eliminado hola.py\n",
                                    "* \u001b[33m4484e70\u001b[m Eliminado archivo4.py\n",
                                    "* \u001b[33m564ccfb\u001b[m\u001b[33m (\u001b[m\u001b[1;32mnew_branch2\u001b[m\u001b[33m)\u001b[m Commit con el archivo 8\n",
                                    "* \u001b[33m5168f78\u001b[m Eliminado archivo7.py\n",
                                    "* \u001b[33m4bb9d75\u001b[m\u001b[33m (\u001b[m\u001b[1;32mnew_branch\u001b[m\u001b[33m)\u001b[m Commit con el archivo 7\n",
                                    "* \u001b[33mea615a9\u001b[m Eliminado archivo5.py\n",
                                    "* \u001b[33me3153a5\u001b[m Commit con los archivos 4 y 5\n",
                                    "* \u001b[33m0b09cfa\u001b[m Añadido .gitignore\n",
                                    "* \u001b[33m04ebd1f\u001b[m Commit con los archivos 1 y 2\n",
                                    "* \u001b[33mc4930d7\u001b[m Tercer commit, hola.py\n",
                                    "* \u001b[33m6e99e73\u001b[m Segundo commit, hola.py\n",
                                    "* \u001b[33m1c95e4f\u001b[m Primer commit, hola.py\n"
                              ]
                        }
                  ],
                  "source": [
                        "!cd notebook_git && git log main --graph --oneline --decorate"
                  ]
            },
            {
                  "attachments": {},
                  "cell_type": "markdown",
                  "metadata": {},
                  "source": [
                        "Now we go to the `main` branch"
                  ]
            },
            {
                  "cell_type": "code",
                  "execution_count": 154,
                  "metadata": {},
                  "outputs": [
                        {
                              "name": "stdout",
                              "output_type": "stream",
                              "text": [
                                    "Cambiado a rama 'main'\n"
                              ]
                        }
                  ],
                  "source": [
                        "!cd notebook_git && git switch main"
                  ]
            },
            {
                  "attachments": {},
                  "cell_type": "markdown",
                  "metadata": {},
                  "source": [
                        "We create a new commit"
                  ]
            },
            {
                  "cell_type": "code",
                  "execution_count": 155,
                  "metadata": {},
                  "outputs": [
                        {
                              "name": "stdout",
                              "output_type": "stream",
                              "text": [
                                    "[main 8bdf4d8] file3\n",
                                    " 1 file changed, 0 insertions(+), 0 deletions(-)\n",
                                    " create mode 100644 file3\n"
                              ]
                        }
                  ],
                  "source": [
                        "!cd notebook_git && touch file3 && git add file3 && git commit -m \"file3\""
                  ]
            },
            {
                  "attachments": {},
                  "cell_type": "markdown",
                  "metadata": {},
                  "source": [
                        "Finally we make the merge of type no fast forward"
                  ]
            },
            {
                  "cell_type": "code",
                  "execution_count": 152,
                  "metadata": {},
                  "outputs": [
                        {
                              "name": "stdout",
                              "output_type": "stream",
                              "text": [
                                    "\u001b[2B\u001b[m\u001b[mommit. comenzando con '#' serán ignoradas, y un mensaje vacío abortasaria esta\u001b[m\u001b[7m>\u001b[4;1H\u001b[m\u001b[36m# especialmente si esto fusiona un upstream actualizado en una rama de tópico. /home/wallabot/Documentos/web/portafolio/posts/notebook_git/.git/MERGE_MSG   \u001b[1;79H\u001b[m\u001b[22;16H\u001b[7m[ línea 1/7 (14%), col 1/48 (2%), car 0/301 (0%) ]\u001b[m\u001b[22;16H             \u001b[7m[ Párrafo justificado ]\u001b[m\u001b[K\u001b[H\u001b[7m...llabot/Documentos/web/portafolio/posts/notebook_git/.git/MERGE_MSG Modificado\u001b[1;80H\u001b[m"
                              ]
                        }
                  ],
                  "source": [
                        "!cd notebook_git && git merge branch_no_fast_forward --no-ff"
                  ]
            },
            {
                  "attachments": {},
                  "cell_type": "markdown",
                  "metadata": {},
                  "source": [
                        "As we can see, it opens the editor to enter a commit message and a default message. We accept the message and see what has happened"
                  ]
            },
            {
                  "cell_type": "code",
                  "execution_count": 156,
                  "metadata": {},
                  "outputs": [
                        {
                              "name": "stdout",
                              "output_type": "stream",
                              "text": [
                                    "En la rama main\n",
                                    "nada para hacer commit, el árbol de trabajo está limpio\n"
                              ]
                        }
                  ],
                  "source": [
                        "!cd notebook_git && git status"
                  ]
            },
            {
                  "cell_type": "code",
                  "execution_count": 157,
                  "metadata": {},
                  "outputs": [
                        {
                              "name": "stdout",
                              "output_type": "stream",
                              "text": [
                                    "*   \u001b[33m274529c\u001b[m\u001b[33m (\u001b[m\u001b[1;36mHEAD -> \u001b[m\u001b[1;32mmain\u001b[m\u001b[33m)\u001b[m Merge branch 'branch_no_fast_forward' into main\n",
                                    "\u001b[31m|\u001b[m\u001b[32m\\\u001b[m  \n",
                                    "\u001b[31m|\u001b[m * \u001b[33m8df3429\u001b[m\u001b[33m (\u001b[m\u001b[1;32mbranch_no_fast_forward\u001b[m\u001b[33m)\u001b[m file2\n",
                                    "\u001b[31m|\u001b[m * \u001b[33me4e23c9\u001b[m file1\n",
                                    "* \u001b[32m|\u001b[m \u001b[33m8bdf4d8\u001b[m file3\n",
                                    "\u001b[32m|\u001b[m\u001b[32m/\u001b[m  \n",
                                    "* \u001b[33m94149fc\u001b[m\u001b[33m (\u001b[m\u001b[1;32mbranch_fast_forward\u001b[m\u001b[33m)\u001b[m Eliminado hola.py\n",
                                    "* \u001b[33m4484e70\u001b[m Eliminado archivo4.py\n",
                                    "* \u001b[33m564ccfb\u001b[m\u001b[33m (\u001b[m\u001b[1;32mnew_branch2\u001b[m\u001b[33m)\u001b[m Commit con el archivo 8\n",
                                    "* \u001b[33m5168f78\u001b[m Eliminado archivo7.py\n",
                                    "* \u001b[33m4bb9d75\u001b[m\u001b[33m (\u001b[m\u001b[1;32mnew_branch\u001b[m\u001b[33m)\u001b[m Commit con el archivo 7\n",
                                    "* \u001b[33mea615a9\u001b[m Eliminado archivo5.py\n",
                                    "* \u001b[33me3153a5\u001b[m Commit con los archivos 4 y 5\n",
                                    "* \u001b[33m0b09cfa\u001b[m Añadido .gitignore\n",
                                    "* \u001b[33m04ebd1f\u001b[m Commit con los archivos 1 y 2\n",
                                    "* \u001b[33mc4930d7\u001b[m Tercer commit, hola.py\n",
                                    "* \u001b[33m6e99e73\u001b[m Segundo commit, hola.py\n",
                                    "* \u001b[33m1c95e4f\u001b[m Primer commit, hola.py\n"
                              ]
                        }
                  ],
                  "source": [
                        "!cd notebook_git && git log --graph --oneline --decorate"
                  ]
            },
            {
                  "cell_type": "code",
                  "execution_count": 158,
                  "metadata": {},
                  "outputs": [
                        {
                              "name": "stdout",
                              "output_type": "stream",
                              "text": [
                                    "api_keys.py  archivo1.py  archivo2.py  archivo8.py  file1  file2  file3\n"
                              ]
                        }
                  ],
                  "source": [
                        "!cd notebook_git && ls"
                  ]
            },
            {
                  "attachments": {},
                  "cell_type": "markdown",
                  "metadata": {},
                  "source": [
                        "As we can see a new commit has been created with the changes of the new branch in the main branch"
                  ]
            },
            {
                  "attachments": {},
                  "cell_type": "markdown",
                  "metadata": {},
                  "source": [
                        "#### Squash"
                  ]
            },
            {
                  "attachments": {},
                  "cell_type": "markdown",
                  "metadata": {},
                  "source": [
                        "In this type of merge, all commits of a new branch are merged into one commit in the main branch, for this we type `git merge <branch> --squash`."
                  ]
            },
            {
                  "cell_type": "code",
                  "execution_count": 159,
                  "metadata": {},
                  "outputs": [
                        {
                              "data": {
                                    "image/svg+xml": [
                                          "<?xml version=\"1.0\" encoding=\"UTF-8\" standalone=\"no\"?>\n",
                                          "<!DOCTYPE svg PUBLIC \"-//W3C//DTD SVG 1.1//EN\"\n",
                                          " \"http://www.w3.org/Graphics/SVG/1.1/DTD/svg11.dtd\">\n",
                                          "<!-- Generated by graphviz version 2.43.0 (0)\n",
                                          " -->\n",
                                          "<!-- Title: G Pages: 1 -->\n",
                                          "<svg width=\"404pt\" height=\"98pt\"\n",
                                          " viewBox=\"0.00 0.00 404.40 98.00\" xmlns=\"http://www.w3.org/2000/svg\" xmlns:xlink=\"http://www.w3.org/1999/xlink\">\n",
                                          "<g id=\"graph0\" class=\"graph\" transform=\"scale(1 1) rotate(0) translate(4 94)\">\n",
                                          "<title>G</title>\n",
                                          "<polygon fill=\"white\" stroke=\"transparent\" points=\"-4,4 -4,-94 400.4,-94 400.4,4 -4,4\"/>\n",
                                          "<!-- A -->\n",
                                          "<g id=\"node1\" class=\"node\">\n",
                                          "<title>A</title>\n",
                                          "<ellipse fill=\"none\" stroke=\"blue\" cx=\"18\" cy=\"-45\" rx=\"18\" ry=\"18\"/>\n",
                                          "<text text-anchor=\"middle\" x=\"18\" y=\"-41.3\" font-family=\"Times,serif\" font-size=\"14.00\">A</text>\n",
                                          "</g>\n",
                                          "<!-- B -->\n",
                                          "<g id=\"node2\" class=\"node\">\n",
                                          "<title>B</title>\n",
                                          "<ellipse fill=\"none\" stroke=\"blue\" cx=\"90\" cy=\"-45\" rx=\"18\" ry=\"18\"/>\n",
                                          "<text text-anchor=\"middle\" x=\"90\" y=\"-41.3\" font-family=\"Times,serif\" font-size=\"14.00\">B</text>\n",
                                          "</g>\n",
                                          "<!-- A&#45;&gt;B -->\n",
                                          "<g id=\"edge1\" class=\"edge\">\n",
                                          "<title>A&#45;&gt;B</title>\n",
                                          "<path fill=\"none\" stroke=\"black\" d=\"M36.3,-45C44.02,-45 53.29,-45 61.89,-45\"/>\n",
                                          "<polygon fill=\"black\" stroke=\"black\" points=\"61.9,-48.5 71.9,-45 61.9,-41.5 61.9,-48.5\"/>\n",
                                          "</g>\n",
                                          "<!-- C -->\n",
                                          "<g id=\"node3\" class=\"node\">\n",
                                          "<title>C</title>\n",
                                          "<ellipse fill=\"none\" stroke=\"blue\" cx=\"162\" cy=\"-45\" rx=\"18\" ry=\"18\"/>\n",
                                          "<text text-anchor=\"middle\" x=\"162\" y=\"-41.3\" font-family=\"Times,serif\" font-size=\"14.00\">C</text>\n",
                                          "</g>\n",
                                          "<!-- B&#45;&gt;C -->\n",
                                          "<g id=\"edge2\" class=\"edge\">\n",
                                          "<title>B&#45;&gt;C</title>\n",
                                          "<path fill=\"none\" stroke=\"black\" d=\"M108.3,-45C116.02,-45 125.29,-45 133.89,-45\"/>\n",
                                          "<polygon fill=\"black\" stroke=\"black\" points=\"133.9,-48.5 143.9,-45 133.9,-41.5 133.9,-48.5\"/>\n",
                                          "</g>\n",
                                          "<!-- D -->\n",
                                          "<g id=\"node4\" class=\"node\">\n",
                                          "<title>D</title>\n",
                                          "<ellipse fill=\"none\" stroke=\"blue\" cx=\"234.2\" cy=\"-45\" rx=\"18.4\" ry=\"18.4\"/>\n",
                                          "<text text-anchor=\"middle\" x=\"234.2\" y=\"-41.3\" font-family=\"Times,serif\" font-size=\"14.00\">D</text>\n",
                                          "</g>\n",
                                          "<!-- C&#45;&gt;D -->\n",
                                          "<g id=\"edge3\" class=\"edge\">\n",
                                          "<title>C&#45;&gt;D</title>\n",
                                          "<path fill=\"none\" stroke=\"black\" d=\"M180.35,-45C187.89,-45 196.91,-45 205.34,-45\"/>\n",
                                          "<polygon fill=\"black\" stroke=\"black\" points=\"205.56,-48.5 215.56,-45 205.56,-41.5 205.56,-48.5\"/>\n",
                                          "</g>\n",
                                          "<!-- E -->\n",
                                          "<g id=\"node5\" class=\"node\">\n",
                                          "<title>E</title>\n",
                                          "<ellipse fill=\"none\" stroke=\"transparent\" cx=\"306.4\" cy=\"-72\" rx=\"18\" ry=\"18\"/>\n",
                                          "</g>\n",
                                          "<!-- D&#45;&gt;E -->\n",
                                          "<g id=\"edge4\" class=\"edge\">\n",
                                          "<title>D&#45;&gt;E</title>\n",
                                          "<path fill=\"none\" stroke=\"transparent\" d=\"M251.48,-51.26C259.9,-54.5 270.36,-58.53 279.83,-62.17\"/>\n",
                                          "<polygon fill=\"transparent\" stroke=\"transparent\" points=\"278.61,-65.45 289.2,-65.77 281.13,-58.92 278.61,-65.45\"/>\n",
                                          "</g>\n",
                                          "<!-- X -->\n",
                                          "<g id=\"node6\" class=\"node\">\n",
                                          "<title>X</title>\n",
                                          "<ellipse fill=\"none\" stroke=\"green\" cx=\"306.4\" cy=\"-18\" rx=\"18\" ry=\"18\"/>\n",
                                          "<text text-anchor=\"middle\" x=\"306.4\" y=\"-14.3\" font-family=\"Times,serif\" font-size=\"14.00\">X</text>\n",
                                          "</g>\n",
                                          "<!-- D&#45;&gt;X -->\n",
                                          "<g id=\"edge5\" class=\"edge\">\n",
                                          "<title>D&#45;&gt;X</title>\n",
                                          "<path fill=\"none\" stroke=\"black\" d=\"M251.48,-38.74C259.9,-35.5 270.36,-31.47 279.83,-27.83\"/>\n",
                                          "<polygon fill=\"black\" stroke=\"black\" points=\"281.13,-31.08 289.2,-24.23 278.61,-24.55 281.13,-31.08\"/>\n",
                                          "</g>\n",
                                          "<!-- Y -->\n",
                                          "<g id=\"node7\" class=\"node\">\n",
                                          "<title>Y</title>\n",
                                          "<ellipse fill=\"none\" stroke=\"green\" cx=\"378.4\" cy=\"-18\" rx=\"18\" ry=\"18\"/>\n",
                                          "<text text-anchor=\"middle\" x=\"378.4\" y=\"-14.3\" font-family=\"Times,serif\" font-size=\"14.00\">Y</text>\n",
                                          "</g>\n",
                                          "<!-- X&#45;&gt;Y -->\n",
                                          "<g id=\"edge6\" class=\"edge\">\n",
                                          "<title>X&#45;&gt;Y</title>\n",
                                          "<path fill=\"none\" stroke=\"black\" d=\"M324.7,-18C332.41,-18 341.68,-18 350.28,-18\"/>\n",
                                          "<polygon fill=\"black\" stroke=\"black\" points=\"350.29,-21.5 360.29,-18 350.29,-14.5 350.29,-21.5\"/>\n",
                                          "</g>\n",
                                          "</g>\n",
                                          "</svg>\n"
                                    ],
                                    "text/plain": [
                                          "<graphviz.graphs.Digraph at 0x7f58f80e6470>"
                                    ]
                              },
                              "metadata": {},
                              "output_type": "display_data"
                        },
                        {
                              "data": {
                                    "image/svg+xml": [
                                          "<?xml version=\"1.0\" encoding=\"UTF-8\" standalone=\"no\"?>\n",
                                          "<!DOCTYPE svg PUBLIC \"-//W3C//DTD SVG 1.1//EN\"\n",
                                          " \"http://www.w3.org/Graphics/SVG/1.1/DTD/svg11.dtd\">\n",
                                          "<!-- Generated by graphviz version 2.43.0 (0)\n",
                                          " -->\n",
                                          "<!-- Title: G Pages: 1 -->\n",
                                          "<svg width=\"337pt\" height=\"48pt\"\n",
                                          " viewBox=\"0.00 0.00 336.69 48.30\" xmlns=\"http://www.w3.org/2000/svg\" xmlns:xlink=\"http://www.w3.org/1999/xlink\">\n",
                                          "<g id=\"graph0\" class=\"graph\" transform=\"scale(1 1) rotate(0) translate(4 44.3)\">\n",
                                          "<title>G</title>\n",
                                          "<polygon fill=\"white\" stroke=\"transparent\" points=\"-4,4 -4,-44.3 332.69,-44.3 332.69,4 -4,4\"/>\n",
                                          "<!-- A -->\n",
                                          "<g id=\"node1\" class=\"node\">\n",
                                          "<title>A</title>\n",
                                          "<ellipse fill=\"none\" stroke=\"blue\" cx=\"18\" cy=\"-20.15\" rx=\"18\" ry=\"18\"/>\n",
                                          "<text text-anchor=\"middle\" x=\"18\" y=\"-16.45\" font-family=\"Times,serif\" font-size=\"14.00\">A</text>\n",
                                          "</g>\n",
                                          "<!-- B -->\n",
                                          "<g id=\"node2\" class=\"node\">\n",
                                          "<title>B</title>\n",
                                          "<ellipse fill=\"none\" stroke=\"blue\" cx=\"90\" cy=\"-20.15\" rx=\"18\" ry=\"18\"/>\n",
                                          "<text text-anchor=\"middle\" x=\"90\" y=\"-16.45\" font-family=\"Times,serif\" font-size=\"14.00\">B</text>\n",
                                          "</g>\n",
                                          "<!-- A&#45;&gt;B -->\n",
                                          "<g id=\"edge1\" class=\"edge\">\n",
                                          "<title>A&#45;&gt;B</title>\n",
                                          "<path fill=\"none\" stroke=\"black\" d=\"M36.3,-20.15C44.02,-20.15 53.29,-20.15 61.89,-20.15\"/>\n",
                                          "<polygon fill=\"black\" stroke=\"black\" points=\"61.9,-23.65 71.9,-20.15 61.9,-16.65 61.9,-23.65\"/>\n",
                                          "</g>\n",
                                          "<!-- C -->\n",
                                          "<g id=\"node3\" class=\"node\">\n",
                                          "<title>C</title>\n",
                                          "<ellipse fill=\"none\" stroke=\"blue\" cx=\"162\" cy=\"-20.15\" rx=\"18\" ry=\"18\"/>\n",
                                          "<text text-anchor=\"middle\" x=\"162\" y=\"-16.45\" font-family=\"Times,serif\" font-size=\"14.00\">C</text>\n",
                                          "</g>\n",
                                          "<!-- B&#45;&gt;C -->\n",
                                          "<g id=\"edge2\" class=\"edge\">\n",
                                          "<title>B&#45;&gt;C</title>\n",
                                          "<path fill=\"none\" stroke=\"black\" d=\"M108.3,-20.15C116.02,-20.15 125.29,-20.15 133.89,-20.15\"/>\n",
                                          "<polygon fill=\"black\" stroke=\"black\" points=\"133.9,-23.65 143.9,-20.15 133.9,-16.65 133.9,-23.65\"/>\n",
                                          "</g>\n",
                                          "<!-- D -->\n",
                                          "<g id=\"node4\" class=\"node\">\n",
                                          "<title>D</title>\n",
                                          "<ellipse fill=\"none\" stroke=\"blue\" cx=\"234.2\" cy=\"-20.15\" rx=\"18.4\" ry=\"18.4\"/>\n",
                                          "<text text-anchor=\"middle\" x=\"234.2\" y=\"-16.45\" font-family=\"Times,serif\" font-size=\"14.00\">D</text>\n",
                                          "</g>\n",
                                          "<!-- C&#45;&gt;D -->\n",
                                          "<g id=\"edge3\" class=\"edge\">\n",
                                          "<title>C&#45;&gt;D</title>\n",
                                          "<path fill=\"none\" stroke=\"black\" d=\"M180.35,-20.15C187.89,-20.15 196.91,-20.15 205.34,-20.15\"/>\n",
                                          "<polygon fill=\"black\" stroke=\"black\" points=\"205.56,-23.65 215.56,-20.15 205.56,-16.65 205.56,-23.65\"/>\n",
                                          "</g>\n",
                                          "<!-- M -->\n",
                                          "<g id=\"node5\" class=\"node\">\n",
                                          "<title>M</title>\n",
                                          "<ellipse fill=\"none\" stroke=\"magenta\" cx=\"308.54\" cy=\"-20.15\" rx=\"20.3\" ry=\"20.3\"/>\n",
                                          "<text text-anchor=\"middle\" x=\"308.54\" y=\"-16.45\" font-family=\"Times,serif\" font-size=\"14.00\">M</text>\n",
                                          "</g>\n",
                                          "<!-- D&#45;&gt;M -->\n",
                                          "<g id=\"edge4\" class=\"edge\">\n",
                                          "<title>D&#45;&gt;M</title>\n",
                                          "<path fill=\"none\" stroke=\"black\" d=\"M252.71,-20.15C260.32,-20.15 269.45,-20.15 278.06,-20.15\"/>\n",
                                          "<polygon fill=\"black\" stroke=\"black\" points=\"278.16,-23.65 288.16,-20.15 278.16,-16.65 278.16,-23.65\"/>\n",
                                          "</g>\n",
                                          "</g>\n",
                                          "</svg>\n"
                                    ],
                                    "text/plain": [
                                          "<graphviz.graphs.Digraph at 0x7f58f80e6f80>"
                                    ]
                              },
                              "metadata": {},
                              "output_type": "display_data"
                        }
                  ],
                  "source": [
                        "### This code is for creating the branch graph, it is not necessary for the course.\n",
                        "\n",
                        "import graphviz\n",
                        "\n",
                        "# Crear el gráfico con la dirección de las flechas de izquierda a derecha\n",
                        "orin = graphviz.Digraph('G', graph_attr={'rankdir': 'LR'})\n",
                        "squash = graphviz.Digraph('G', graph_attr={'rankdir': 'LR'})\n",
                        "\n",
                        "# Agregar nodos (pelotas) A, B, C y D en la rama principal\n",
                        "orin.node('A', shape='circle', label='A', color='blue')\n",
                        "orin.node('B', shape='circle', label='B', color='blue')\n",
                        "orin.node('C', shape='circle', label='C', color='blue')\n",
                        "orin.node('D', shape='circle', label='D', color='blue')\n",
                        "orin.node('E', shape='circle', label='', color='transparent')\n",
                        "squash.node('A', shape='circle', label='A', color='blue')\n",
                        "squash.node('B', shape='circle', label='B', color='blue')\n",
                        "squash.node('C', shape='circle', label='C', color='blue')\n",
                        "squash.node('D', shape='circle', label='D', color='blue')\n",
                        "\n",
                        "# Agregar nodos (pelotas) X e Y en la rama secundaria\n",
                        "orin.node('X', shape='circle', label='X', color='green')\n",
                        "orin.node('Y', shape='circle', label='Y', color='green')\n",
                        "\n",
                        "# Agregar nodo (pelota) M en la rama principal\n",
                        "squash.node('M', shape='circle', label='M', color='magenta')\n",
                        "\n",
                        "# Agregar flechas entre los nodos en la rama principal\n",
                        "orin.edges(['AB', 'BC', 'CD'])\n",
                        "orin.edge('D', 'E', color='transparent')  # Hacer la flecha de C a D transparente\n",
                        "squash.edges(['AB', 'BC', 'CD', 'DM'])\n",
                        "\n",
                        "# Agregar flechas entre los nodos en la rama secundaria\n",
                        "orin.edges(['DX', 'XY'])\n",
                        "\n",
                        "# Mostrar el diagrama de flujo en la celda de código de Jupyter Notebook\n",
                        "display(orin)\n",
                        "display(squash)"
                  ]
            },
            {
                  "cell_type": "markdown",
                  "metadata": {},
                  "source": [
                        "Let's first check that we are in the main branch"
                  ]
            },
            {
                  "cell_type": "code",
                  "execution_count": 160,
                  "metadata": {},
                  "outputs": [
                        {
                              "name": "stdout",
                              "output_type": "stream",
                              "text": [
                                    "main\n"
                              ]
                        }
                  ],
                  "source": [
                        "!cd notebook_git && git branch --show-current"
                  ]
            },
            {
                  "cell_type": "markdown",
                  "metadata": {},
                  "source": [
                        "We create a new branch"
                  ]
            },
            {
                  "cell_type": "code",
                  "execution_count": 161,
                  "metadata": {},
                  "outputs": [],
                  "source": [
                        "!cd notebook_git && git branch branch_squash"
                  ]
            },
            {
                  "cell_type": "markdown",
                  "metadata": {},
                  "source": [
                        "We switch to it"
                  ]
            },
            {
                  "cell_type": "code",
                  "execution_count": 162,
                  "metadata": {},
                  "outputs": [
                        {
                              "name": "stdout",
                              "output_type": "stream",
                              "text": [
                                    "Cambiado a rama 'branch_squash'\n"
                              ]
                        }
                  ],
                  "source": [
                        "!cd notebook_git && git switch branch_squash"
                  ]
            },
            {
                  "cell_type": "code",
                  "execution_count": 163,
                  "metadata": {},
                  "outputs": [
                        {
                              "name": "stdout",
                              "output_type": "stream",
                              "text": [
                                    "branch_squash\n"
                              ]
                        }
                  ],
                  "source": [
                        "!cd notebook_git && git branch --show-current"
                  ]
            },
            {
                  "cell_type": "markdown",
                  "metadata": {},
                  "source": [
                        "Let's see the log"
                  ]
            },
            {
                  "cell_type": "code",
                  "execution_count": 164,
                  "metadata": {},
                  "outputs": [
                        {
                              "name": "stdout",
                              "output_type": "stream",
                              "text": [
                                    "*   \u001b[33m274529c\u001b[m\u001b[33m (\u001b[m\u001b[1;36mHEAD -> \u001b[m\u001b[1;32mbranch_squash\u001b[m\u001b[33m, \u001b[m\u001b[1;32mmain\u001b[m\u001b[33m)\u001b[m Merge branch 'branch_no_fast_forward' into main\n",
                                    "\u001b[31m|\u001b[m\u001b[32m\\\u001b[m  \n",
                                    "\u001b[31m|\u001b[m * \u001b[33m8df3429\u001b[m\u001b[33m (\u001b[m\u001b[1;32mbranch_no_fast_forward\u001b[m\u001b[33m)\u001b[m file2\n",
                                    "\u001b[31m|\u001b[m * \u001b[33me4e23c9\u001b[m file1\n",
                                    "* \u001b[32m|\u001b[m \u001b[33m8bdf4d8\u001b[m file3\n",
                                    "\u001b[32m|\u001b[m\u001b[32m/\u001b[m  \n",
                                    "* \u001b[33m94149fc\u001b[m\u001b[33m (\u001b[m\u001b[1;32mbranch_fast_forward\u001b[m\u001b[33m)\u001b[m Eliminado hola.py\n",
                                    "* \u001b[33m4484e70\u001b[m Eliminado archivo4.py\n",
                                    "* \u001b[33m564ccfb\u001b[m\u001b[33m (\u001b[m\u001b[1;32mnew_branch2\u001b[m\u001b[33m)\u001b[m Commit con el archivo 8\n",
                                    "* \u001b[33m5168f78\u001b[m Eliminado archivo7.py\n",
                                    "* \u001b[33m4bb9d75\u001b[m\u001b[33m (\u001b[m\u001b[1;32mnew_branch\u001b[m\u001b[33m)\u001b[m Commit con el archivo 7\n",
                                    "* \u001b[33mea615a9\u001b[m Eliminado archivo5.py\n",
                                    "* \u001b[33me3153a5\u001b[m Commit con los archivos 4 y 5\n",
                                    "* \u001b[33m0b09cfa\u001b[m Añadido .gitignore\n",
                                    "* \u001b[33m04ebd1f\u001b[m Commit con los archivos 1 y 2\n",
                                    "* \u001b[33mc4930d7\u001b[m Tercer commit, hola.py\n",
                                    "* \u001b[33m6e99e73\u001b[m Segundo commit, hola.py\n",
                                    "* \u001b[33m1c95e4f\u001b[m Primer commit, hola.py\n"
                              ]
                        }
                  ],
                  "source": [
                        "!cd notebook_git && git log --graph --oneline --decorate --all"
                  ]
            },
            {
                  "attachments": {},
                  "cell_type": "markdown",
                  "metadata": {},
                  "source": [
                        "Ok, we are in a branch created from the main branch with all its log history, we do three new commits"
                  ]
            },
            {
                  "cell_type": "code",
                  "execution_count": 165,
                  "metadata": {},
                  "outputs": [
                        {
                              "name": "stdout",
                              "output_type": "stream",
                              "text": [
                                    "rm 'file1'\n",
                                    "[branch_squash 767b632] Eliminado file1\n",
                                    " 1 file changed, 0 insertions(+), 0 deletions(-)\n",
                                    " delete mode 100644 file1\n"
                              ]
                        }
                  ],
                  "source": [
                        "!cd notebook_git && git rm file1 && git commit -am \"Eliminado file1\""
                  ]
            },
            {
                  "cell_type": "code",
                  "execution_count": 166,
                  "metadata": {},
                  "outputs": [
                        {
                              "name": "stdout",
                              "output_type": "stream",
                              "text": [
                                    "rm 'file2'\n",
                                    "[branch_squash a47f771] Eliminado file2\n",
                                    " 1 file changed, 0 insertions(+), 0 deletions(-)\n",
                                    " delete mode 100644 file2\n"
                              ]
                        }
                  ],
                  "source": [
                        "!cd notebook_git && git rm file2 && git commit -am \"Eliminado file2\""
                  ]
            },
            {
                  "cell_type": "code",
                  "execution_count": 167,
                  "metadata": {},
                  "outputs": [
                        {
                              "name": "stdout",
                              "output_type": "stream",
                              "text": [
                                    "rm 'file3'\n",
                                    "[branch_squash 85f8c9f] Eliminado file3\n",
                                    " 1 file changed, 0 insertions(+), 0 deletions(-)\n",
                                    " delete mode 100644 file3\n"
                              ]
                        }
                  ],
                  "source": [
                        "!cd notebook_git && git rm file3 && git commit -am \"Eliminado file3\""
                  ]
            },
            {
                  "cell_type": "markdown",
                  "metadata": {},
                  "source": [
                        "We make a new log to see that in this new branch the following have been created"
                  ]
            },
            {
                  "cell_type": "code",
                  "execution_count": 168,
                  "metadata": {},
                  "outputs": [
                        {
                              "name": "stdout",
                              "output_type": "stream",
                              "text": [
                                    "* \u001b[33m85f8c9f\u001b[m\u001b[33m (\u001b[m\u001b[1;36mHEAD -> \u001b[m\u001b[1;32mbranch_squash\u001b[m\u001b[33m)\u001b[m Eliminado file3\n",
                                    "* \u001b[33ma47f771\u001b[m Eliminado file2\n",
                                    "* \u001b[33m767b632\u001b[m Eliminado file1\n",
                                    "*   \u001b[33m274529c\u001b[m\u001b[33m (\u001b[m\u001b[1;32mmain\u001b[m\u001b[33m)\u001b[m Merge branch 'branch_no_fast_forward' into main\n",
                                    "\u001b[32m|\u001b[m\u001b[33m\\\u001b[m  \n",
                                    "\u001b[32m|\u001b[m * \u001b[33m8df3429\u001b[m\u001b[33m (\u001b[m\u001b[1;32mbranch_no_fast_forward\u001b[m\u001b[33m)\u001b[m file2\n",
                                    "\u001b[32m|\u001b[m * \u001b[33me4e23c9\u001b[m file1\n",
                                    "* \u001b[33m|\u001b[m \u001b[33m8bdf4d8\u001b[m file3\n",
                                    "\u001b[33m|\u001b[m\u001b[33m/\u001b[m  \n",
                                    "* \u001b[33m94149fc\u001b[m\u001b[33m (\u001b[m\u001b[1;32mbranch_fast_forward\u001b[m\u001b[33m)\u001b[m Eliminado hola.py\n",
                                    "* \u001b[33m4484e70\u001b[m Eliminado archivo4.py\n",
                                    "* \u001b[33m564ccfb\u001b[m\u001b[33m (\u001b[m\u001b[1;32mnew_branch2\u001b[m\u001b[33m)\u001b[m Commit con el archivo 8\n",
                                    "* \u001b[33m5168f78\u001b[m Eliminado archivo7.py\n",
                                    "* \u001b[33m4bb9d75\u001b[m\u001b[33m (\u001b[m\u001b[1;32mnew_branch\u001b[m\u001b[33m)\u001b[m Commit con el archivo 7\n",
                                    "* \u001b[33mea615a9\u001b[m Eliminado archivo5.py\n",
                                    "* \u001b[33me3153a5\u001b[m Commit con los archivos 4 y 5\n",
                                    "* \u001b[33m0b09cfa\u001b[m Añadido .gitignore\n",
                                    "* \u001b[33m04ebd1f\u001b[m Commit con los archivos 1 y 2\n",
                                    "* \u001b[33mc4930d7\u001b[m Tercer commit, hola.py\n",
                                    "* \u001b[33m6e99e73\u001b[m Segundo commit, hola.py\n",
                                    "* \u001b[33m1c95e4f\u001b[m Primer commit, hola.py\n"
                              ]
                        }
                  ],
                  "source": [
                        "!cd notebook_git && git log --graph --oneline --decorate"
                  ]
            },
            {
                  "attachments": {},
                  "cell_type": "markdown",
                  "metadata": {},
                  "source": [
                        "As we can see the last three commits are the ones we have created and we can check that those commits are not in the main branch (for that I specify to do it on the `main` branch)."
                  ]
            },
            {
                  "cell_type": "code",
                  "execution_count": 169,
                  "metadata": {},
                  "outputs": [
                        {
                              "name": "stdout",
                              "output_type": "stream",
                              "text": [
                                    "*   \u001b[33m274529c\u001b[m\u001b[33m (\u001b[m\u001b[1;32mmain\u001b[m\u001b[33m)\u001b[m Merge branch 'branch_no_fast_forward' into main\n",
                                    "\u001b[31m|\u001b[m\u001b[32m\\\u001b[m  \n",
                                    "\u001b[31m|\u001b[m * \u001b[33m8df3429\u001b[m\u001b[33m (\u001b[m\u001b[1;32mbranch_no_fast_forward\u001b[m\u001b[33m)\u001b[m file2\n",
                                    "\u001b[31m|\u001b[m * \u001b[33me4e23c9\u001b[m file1\n",
                                    "* \u001b[32m|\u001b[m \u001b[33m8bdf4d8\u001b[m file3\n",
                                    "\u001b[32m|\u001b[m\u001b[32m/\u001b[m  \n",
                                    "* \u001b[33m94149fc\u001b[m\u001b[33m (\u001b[m\u001b[1;32mbranch_fast_forward\u001b[m\u001b[33m)\u001b[m Eliminado hola.py\n",
                                    "* \u001b[33m4484e70\u001b[m Eliminado archivo4.py\n",
                                    "* \u001b[33m564ccfb\u001b[m\u001b[33m (\u001b[m\u001b[1;32mnew_branch2\u001b[m\u001b[33m)\u001b[m Commit con el archivo 8\n",
                                    "* \u001b[33m5168f78\u001b[m Eliminado archivo7.py\n",
                                    "* \u001b[33m4bb9d75\u001b[m\u001b[33m (\u001b[m\u001b[1;32mnew_branch\u001b[m\u001b[33m)\u001b[m Commit con el archivo 7\n",
                                    "* \u001b[33mea615a9\u001b[m Eliminado archivo5.py\n",
                                    "* \u001b[33me3153a5\u001b[m Commit con los archivos 4 y 5\n",
                                    "* \u001b[33m0b09cfa\u001b[m Añadido .gitignore\n",
                                    "* \u001b[33m04ebd1f\u001b[m Commit con los archivos 1 y 2\n",
                                    "* \u001b[33mc4930d7\u001b[m Tercer commit, hola.py\n",
                                    "* \u001b[33m6e99e73\u001b[m Segundo commit, hola.py\n",
                                    "* \u001b[33m1c95e4f\u001b[m Primer commit, hola.py\n"
                              ]
                        }
                  ],
                  "source": [
                        "!cd notebook_git && git log main --graph --oneline --decorate"
                  ]
            },
            {
                  "cell_type": "markdown",
                  "metadata": {},
                  "source": [
                        "Now we go to the `main` branch to do the merge"
                  ]
            },
            {
                  "cell_type": "code",
                  "execution_count": 170,
                  "metadata": {},
                  "outputs": [
                        {
                              "name": "stdout",
                              "output_type": "stream",
                              "text": [
                                    "Cambiado a rama 'main'\n"
                              ]
                        }
                  ],
                  "source": [
                        "!cd notebook_git && git switch main"
                  ]
            },
            {
                  "attachments": {},
                  "cell_type": "markdown",
                  "metadata": {},
                  "source": [
                        "We make a squash merge"
                  ]
            },
            {
                  "cell_type": "code",
                  "execution_count": 171,
                  "metadata": {},
                  "outputs": [
                        {
                              "name": "stdout",
                              "output_type": "stream",
                              "text": [
                                    "Actualizando 274529c..85f8c9f\n",
                                    "Fast-forward\n",
                                    "Commit de aplastamiento -- no actualizando HEAD\n",
                                    " file1 | 0\n",
                                    " file2 | 0\n",
                                    " file3 | 0\n",
                                    " 3 files changed, 0 insertions(+), 0 deletions(-)\n",
                                    " delete mode 100644 file1\n",
                                    " delete mode 100644 file2\n",
                                    " delete mode 100644 file3\n"
                              ]
                        }
                  ],
                  "source": [
                        "!cd notebook_git && git merge branch_squash --squash"
                  ]
            },
            {
                  "cell_type": "markdown",
                  "metadata": {},
                  "source": [
                        "The merge has been done, let's see what has happened to the log in the `main` branch"
                  ]
            },
            {
                  "cell_type": "code",
                  "execution_count": 172,
                  "metadata": {},
                  "outputs": [
                        {
                              "name": "stdout",
                              "output_type": "stream",
                              "text": [
                                    "*   \u001b[33m274529c\u001b[m\u001b[33m (\u001b[m\u001b[1;36mHEAD -> \u001b[m\u001b[1;32mmain\u001b[m\u001b[33m)\u001b[m Merge branch 'branch_no_fast_forward' into main\n",
                                    "\u001b[31m|\u001b[m\u001b[32m\\\u001b[m  \n",
                                    "\u001b[31m|\u001b[m * \u001b[33m8df3429\u001b[m\u001b[33m (\u001b[m\u001b[1;32mbranch_no_fast_forward\u001b[m\u001b[33m)\u001b[m file2\n",
                                    "\u001b[31m|\u001b[m * \u001b[33me4e23c9\u001b[m file1\n",
                                    "* \u001b[32m|\u001b[m \u001b[33m8bdf4d8\u001b[m file3\n",
                                    "\u001b[32m|\u001b[m\u001b[32m/\u001b[m  \n",
                                    "* \u001b[33m94149fc\u001b[m\u001b[33m (\u001b[m\u001b[1;32mbranch_fast_forward\u001b[m\u001b[33m)\u001b[m Eliminado hola.py\n",
                                    "* \u001b[33m4484e70\u001b[m Eliminado archivo4.py\n",
                                    "* \u001b[33m564ccfb\u001b[m\u001b[33m (\u001b[m\u001b[1;32mnew_branch2\u001b[m\u001b[33m)\u001b[m Commit con el archivo 8\n",
                                    "* \u001b[33m5168f78\u001b[m Eliminado archivo7.py\n",
                                    "* \u001b[33m4bb9d75\u001b[m\u001b[33m (\u001b[m\u001b[1;32mnew_branch\u001b[m\u001b[33m)\u001b[m Commit con el archivo 7\n",
                                    "* \u001b[33mea615a9\u001b[m Eliminado archivo5.py\n",
                                    "* \u001b[33me3153a5\u001b[m Commit con los archivos 4 y 5\n",
                                    "* \u001b[33m0b09cfa\u001b[m Añadido .gitignore\n",
                                    "* \u001b[33m04ebd1f\u001b[m Commit con los archivos 1 y 2\n",
                                    "* \u001b[33mc4930d7\u001b[m Tercer commit, hola.py\n",
                                    "* \u001b[33m6e99e73\u001b[m Segundo commit, hola.py\n",
                                    "* \u001b[33m1c95e4f\u001b[m Primer commit, hola.py\n"
                              ]
                        }
                  ],
                  "source": [
                        "!cd notebook_git && git log --graph --oneline --decorate"
                  ]
            },
            {
                  "attachments": {},
                  "cell_type": "markdown",
                  "metadata": {},
                  "source": [
                        "The changes made in the branch do not appear, let's do a `git status`."
                  ]
            },
            {
                  "cell_type": "code",
                  "execution_count": 173,
                  "metadata": {},
                  "outputs": [
                        {
                              "name": "stdout",
                              "output_type": "stream",
                              "text": [
                                    "En la rama main\n",
                                    "Cambios a ser confirmados:\n",
                                    "  (usa \"git restore --staged <archivo>...\" para sacar del área de stage)\n",
                                    "\t\u001b[32mborrados:        file1\u001b[m\n",
                                    "\t\u001b[32mborrados:        file2\u001b[m\n",
                                    "\t\u001b[32mborrados:        file3\u001b[m\n",
                                    "\n"
                              ]
                        }
                  ],
                  "source": [
                        "!cd notebook_git && git status"
                  ]
            },
            {
                  "attachments": {},
                  "cell_type": "markdown",
                  "metadata": {},
                  "source": [
                        "We see that we have to commit with the merge. This is because git doesn't know what message to put in it and leaves it up to us to do it, so we do it."
                  ]
            },
            {
                  "cell_type": "code",
                  "execution_count": 174,
                  "metadata": {},
                  "outputs": [
                        {
                              "name": "stdout",
                              "output_type": "stream",
                              "text": [
                                    "[main 52acb97] Merge squash de los commits de la rama branch_squash\n",
                                    " 3 files changed, 0 insertions(+), 0 deletions(-)\n",
                                    " delete mode 100644 file1\n",
                                    " delete mode 100644 file2\n",
                                    " delete mode 100644 file3\n"
                              ]
                        }
                  ],
                  "source": [
                        "!cd notebook_git && git commit -m \"Merge squash de los commits de la rama branch_squash\""
                  ]
            },
            {
                  "attachments": {},
                  "cell_type": "markdown",
                  "metadata": {},
                  "source": [
                        "We redo a `git log`."
                  ]
            },
            {
                  "cell_type": "code",
                  "execution_count": 175,
                  "metadata": {},
                  "outputs": [
                        {
                              "name": "stdout",
                              "output_type": "stream",
                              "text": [
                                    "* \u001b[33m52acb97\u001b[m\u001b[33m (\u001b[m\u001b[1;36mHEAD -> \u001b[m\u001b[1;32mmain\u001b[m\u001b[33m)\u001b[m Merge squash de los commits de la rama branch_squash\n",
                                    "*   \u001b[33m274529c\u001b[m Merge branch 'branch_no_fast_forward' into main\n",
                                    "\u001b[32m|\u001b[m\u001b[33m\\\u001b[m  \n",
                                    "\u001b[32m|\u001b[m * \u001b[33m8df3429\u001b[m\u001b[33m (\u001b[m\u001b[1;32mbranch_no_fast_forward\u001b[m\u001b[33m)\u001b[m file2\n",
                                    "\u001b[32m|\u001b[m * \u001b[33me4e23c9\u001b[m file1\n",
                                    "* \u001b[33m|\u001b[m \u001b[33m8bdf4d8\u001b[m file3\n",
                                    "\u001b[33m|\u001b[m\u001b[33m/\u001b[m  \n",
                                    "* \u001b[33m94149fc\u001b[m\u001b[33m (\u001b[m\u001b[1;32mbranch_fast_forward\u001b[m\u001b[33m)\u001b[m Eliminado hola.py\n",
                                    "* \u001b[33m4484e70\u001b[m Eliminado archivo4.py\n",
                                    "* \u001b[33m564ccfb\u001b[m\u001b[33m (\u001b[m\u001b[1;32mnew_branch2\u001b[m\u001b[33m)\u001b[m Commit con el archivo 8\n",
                                    "* \u001b[33m5168f78\u001b[m Eliminado archivo7.py\n",
                                    "* \u001b[33m4bb9d75\u001b[m\u001b[33m (\u001b[m\u001b[1;32mnew_branch\u001b[m\u001b[33m)\u001b[m Commit con el archivo 7\n",
                                    "* \u001b[33mea615a9\u001b[m Eliminado archivo5.py\n",
                                    "* \u001b[33me3153a5\u001b[m Commit con los archivos 4 y 5\n",
                                    "* \u001b[33m0b09cfa\u001b[m Añadido .gitignore\n",
                                    "* \u001b[33m04ebd1f\u001b[m Commit con los archivos 1 y 2\n",
                                    "* \u001b[33mc4930d7\u001b[m Tercer commit, hola.py\n",
                                    "* \u001b[33m6e99e73\u001b[m Segundo commit, hola.py\n",
                                    "* \u001b[33m1c95e4f\u001b[m Primer commit, hola.py\n"
                              ]
                        }
                  ],
                  "source": [
                        "!cd notebook_git && git log --graph --oneline --decorate"
                  ]
            },
            {
                  "attachments": {},
                  "cell_type": "markdown",
                  "metadata": {},
                  "source": [
                        "### Merging conflicts"
                  ]
            },
            {
                  "attachments": {},
                  "cell_type": "markdown",
                  "metadata": {},
                  "source": [
                        "When merging branches it can happen that the same file has been modified in several branches. This can be normal in projects where several people are developing, so let's see how to solve this problem."
                  ]
            },
            {
                  "attachments": {},
                  "cell_type": "markdown",
                  "metadata": {},
                  "source": [
                        "#### We create a conflict"
                  ]
            },
            {
                  "attachments": {},
                  "cell_type": "markdown",
                  "metadata": {},
                  "source": [
                        "We check that we are in the branch `main`."
                  ]
            },
            {
                  "cell_type": "code",
                  "execution_count": 176,
                  "metadata": {},
                  "outputs": [
                        {
                              "name": "stdout",
                              "output_type": "stream",
                              "text": [
                                    "main\n"
                              ]
                        }
                  ],
                  "source": [
                        "!cd notebook_git && git branch --show-current"
                  ]
            },
            {
                  "attachments": {},
                  "cell_type": "markdown",
                  "metadata": {},
                  "source": [
                        "Create a new branch from this one"
                  ]
            },
            {
                  "cell_type": "code",
                  "execution_count": 177,
                  "metadata": {},
                  "outputs": [],
                  "source": [
                        "!cd notebook_git && git branch rama_con_conflicto"
                  ]
            },
            {
                  "attachments": {},
                  "cell_type": "markdown",
                  "metadata": {},
                  "source": [
                        "We add a line to the file `file1.py`, remember that we are in the `main` branch"
                  ]
            },
            {
                  "cell_type": "code",
                  "execution_count": 178,
                  "metadata": {},
                  "outputs": [],
                  "source": [
                        "!cd notebook_git && echo \"print('rama main')\" >> archivo1.py"
                  ]
            },
            {
                  "cell_type": "code",
                  "execution_count": 179,
                  "metadata": {},
                  "outputs": [
                        {
                              "name": "stdout",
                              "output_type": "stream",
                              "text": [
                                    "print('Este es el archivo 1')\n",
                                    "print('rama main')\n"
                              ]
                        }
                  ],
                  "source": [
                        "!cd notebook_git && cat archivo1.py"
                  ]
            },
            {
                  "attachments": {},
                  "cell_type": "markdown",
                  "metadata": {},
                  "source": [
                        "file1.py` is modified, we make a commit"
                  ]
            },
            {
                  "cell_type": "code",
                  "execution_count": 180,
                  "metadata": {},
                  "outputs": [
                        {
                              "name": "stdout",
                              "output_type": "stream",
                              "text": [
                                    "[main 53f909b] archivo1.py en rama main\n",
                                    " 1 file changed, 1 insertion(+)\n"
                              ]
                        }
                  ],
                  "source": [
                        "!cd notebook_git && git add archivo1.py && git commit -m \"archivo1.py en rama main\""
                  ]
            },
            {
                  "attachments": {},
                  "cell_type": "markdown",
                  "metadata": {},
                  "source": [
                        "Now we go to the branch `branch_with_conflict` and add a new line to `file1.py`."
                  ]
            },
            {
                  "cell_type": "code",
                  "execution_count": 181,
                  "metadata": {},
                  "outputs": [
                        {
                              "name": "stdout",
                              "output_type": "stream",
                              "text": [
                                    "Cambiado a rama 'rama_con_conflicto'\n"
                              ]
                        }
                  ],
                  "source": [
                        "!cd notebook_git && git switch rama_con_conflicto"
                  ]
            },
            {
                  "cell_type": "code",
                  "execution_count": 182,
                  "metadata": {},
                  "outputs": [
                        {
                              "name": "stdout",
                              "output_type": "stream",
                              "text": [
                                    "rama_con_conflicto\n"
                              ]
                        }
                  ],
                  "source": [
                        "!cd notebook_git && git branch --show-current"
                  ]
            },
            {
                  "cell_type": "code",
                  "execution_count": 183,
                  "metadata": {},
                  "outputs": [],
                  "source": [
                        "!cd notebook_git && echo \"print('rama rama_con_conflicto')\" >> archivo1.py"
                  ]
            },
            {
                  "cell_type": "code",
                  "execution_count": 184,
                  "metadata": {},
                  "outputs": [
                        {
                              "name": "stdout",
                              "output_type": "stream",
                              "text": [
                                    "print('Este es el archivo 1')\n",
                                    "print('rama rama_con_conflicto')\n"
                              ]
                        }
                  ],
                  "source": [
                        "!cd notebook_git && cat archivo1.py"
                  ]
            },
            {
                  "attachments": {},
                  "cell_type": "markdown",
                  "metadata": {},
                  "source": [
                        "As we can see `file1.py` is not the same in the `main` branch and in the `branch_with_conflict` branch. We make a commit with the modification of `file1.py` in the branch `branch_with_conflict`."
                  ]
            },
            {
                  "cell_type": "code",
                  "execution_count": 185,
                  "metadata": {},
                  "outputs": [
                        {
                              "name": "stdout",
                              "output_type": "stream",
                              "text": [
                                    "[rama_con_conflicto 32851c3] archivo1.py en rama rama_con_conflicto\n",
                                    " 1 file changed, 1 insertion(+)\n"
                              ]
                        }
                  ],
                  "source": [
                        "!cd notebook_git && git add archivo1.py && git commit -m \"archivo1.py en rama rama_con_conflicto\""
                  ]
            },
            {
                  "attachments": {},
                  "cell_type": "markdown",
                  "metadata": {},
                  "source": [
                        "Back to the `main` branch"
                  ]
            },
            {
                  "cell_type": "code",
                  "execution_count": 186,
                  "metadata": {},
                  "outputs": [
                        {
                              "name": "stdout",
                              "output_type": "stream",
                              "text": [
                                    "Cambiado a rama 'main'\n"
                              ]
                        }
                  ],
                  "source": [
                        "!cd notebook_git && git switch main"
                  ]
            },
            {
                  "cell_type": "code",
                  "execution_count": 187,
                  "metadata": {},
                  "outputs": [
                        {
                              "name": "stdout",
                              "output_type": "stream",
                              "text": [
                                    "main\n"
                              ]
                        }
                  ],
                  "source": [
                        "!cd notebook_git && git branch --show-current"
                  ]
            },
            {
                  "attachments": {},
                  "cell_type": "markdown",
                  "metadata": {},
                  "source": [
                        "We make a merge of the branch `branch_with_conflict`."
                  ]
            },
            {
                  "cell_type": "code",
                  "execution_count": 188,
                  "metadata": {},
                  "outputs": [
                        {
                              "name": "stdout",
                              "output_type": "stream",
                              "text": [
                                    "Auto-fusionando archivo1.py\n",
                                    "CONFLICTO (contenido): Conflicto de fusión en archivo1.py\n",
                                    "Fusión automática falló; arregle los conflictos y luego realice un commit con el resultado.\n"
                              ]
                        }
                  ],
                  "source": [
                        "!cd notebook_git && git merge rama_con_conflicto"
                  ]
            },
            {
                  "attachments": {},
                  "cell_type": "markdown",
                  "metadata": {},
                  "source": [
                        "When doing the merge, it warns us that there is a conflict in `file1.py` and that the merge could not be done. We do a `git status`"
                  ]
            },
            {
                  "cell_type": "code",
                  "execution_count": 189,
                  "metadata": {},
                  "outputs": [
                        {
                              "name": "stdout",
                              "output_type": "stream",
                              "text": [
                                    "En la rama main\n",
                                    "Tienes rutas no fusionadas.\n",
                                    "  (arregla los conflictos y ejecuta \"git commit\"\n",
                                    "  (usa \"git merge --abort\" para abortar la fusion)\n",
                                    "\n",
                                    "Rutas no fusionadas:\n",
                                    "  (usa \"git add <archivo>...\" para marcar una resolución)\n",
                                    "\t\u001b[31mmodificados por ambos:  archivo1.py\u001b[m\n",
                                    "\n",
                                    "sin cambios agregados al commit (usa \"git add\" y/o \"git commit -a\")\n"
                              ]
                        }
                  ],
                  "source": [
                        "!cd notebook_git && git status"
                  ]
            },
            {
                  "attachments": {},
                  "cell_type": "markdown",
                  "metadata": {},
                  "source": [
                        "It tells us the same thing, but it gives us more information, it tells us that we can abort the merge with `git merge --abort`. But let's fix it instead"
                  ]
            },
            {
                  "attachments": {},
                  "cell_type": "markdown",
                  "metadata": {},
                  "source": [
                        "#### Resolving a conflict"
                  ]
            },
            {
                  "attachments": {},
                  "cell_type": "markdown",
                  "metadata": {},
                  "source": [
                        "In our case we know where the problem is, but in case we don't know it, using `git diff` we can find the problem"
                  ]
            },
            {
                  "cell_type": "code",
                  "execution_count": 190,
                  "metadata": {},
                  "outputs": [
                        {
                              "name": "stdout",
                              "output_type": "stream",
                              "text": [
                                    "\u001b[1mdiff --cc archivo1.py\u001b[m\n",
                                    "\u001b[1mindex 8b4bf58,b5c003c..0000000\u001b[m\n",
                                    "\u001b[1m--- a/archivo1.py\u001b[m\n",
                                    "\u001b[1m+++ b/archivo1.py\u001b[m\n",
                                    "\u001b[36m@@@ -1,2 -1,2 +1,6 @@@\u001b[m\n",
                                    "  print('Este es el archivo 1')\u001b[m\n",
                                    "\u001b[32m++<<<<<<< HEAD\u001b[m\n",
                                    "\u001b[32m +print('rama main')\u001b[m\n",
                                    "\u001b[32m++=======\u001b[m\n",
                                    "\u001b[32m+ print('rama rama_con_conflicto')\u001b[m\n",
                                    "\u001b[32m++>>>>>>> rama_con_conflicto\u001b[m\n"
                              ]
                        }
                  ],
                  "source": [
                        "!cd notebook_git && git diff archivo1.py"
                  ]
            },
            {
                  "attachments": {},
                  "cell_type": "markdown",
                  "metadata": {},
                  "source": [
                        "git diff is telling us that the problem is in the last line. The version of the `HEAD` branch file (the one we are currently `main` in) has `print('branch main`)` on the last line, while the `branch_with_conflict` version has `print('branch_with_conflict`)` on the last line. So you have to open the file with any editor and fix this."
                  ]
            },
            {
                  "attachments": {},
                  "cell_type": "markdown",
                  "metadata": {},
                  "source": [
                        "After editing the file with my code editor I have removed all the extra lines and it looks like this"
                  ]
            },
            {
                  "cell_type": "code",
                  "execution_count": 192,
                  "metadata": {},
                  "outputs": [
                        {
                              "name": "stdout",
                              "output_type": "stream",
                              "text": [
                                    "print('Este es el archivo 1')\n",
                                    "print('rama main')"
                              ]
                        }
                  ],
                  "source": [
                        "!cd notebook_git && cat archivo1.py"
                  ]
            },
            {
                  "attachments": {},
                  "cell_type": "markdown",
                  "metadata": {},
                  "source": [
                        "Now we do a `git status` to see what we need to do"
                  ]
            },
            {
                  "cell_type": "code",
                  "execution_count": 193,
                  "metadata": {},
                  "outputs": [
                        {
                              "name": "stdout",
                              "output_type": "stream",
                              "text": [
                                    "En la rama main\n",
                                    "Tienes rutas no fusionadas.\n",
                                    "  (arregla los conflictos y ejecuta \"git commit\"\n",
                                    "  (usa \"git merge --abort\" para abortar la fusion)\n",
                                    "\n",
                                    "Rutas no fusionadas:\n",
                                    "  (usa \"git add <archivo>...\" para marcar una resolución)\n",
                                    "\t\u001b[31mmodificados por ambos:  archivo1.py\u001b[m\n",
                                    "\n",
                                    "sin cambios agregados al commit (usa \"git add\" y/o \"git commit -a\")\n"
                              ]
                        }
                  ],
                  "source": [
                        "!cd notebook_git && git status"
                  ]
            },
            {
                  "attachments": {},
                  "cell_type": "markdown",
                  "metadata": {},
                  "source": [
                        "It tells us that we have the file `file1.py` with modifications, so we add it to the `staged` area and then commit it."
                  ]
            },
            {
                  "cell_type": "code",
                  "execution_count": 194,
                  "metadata": {},
                  "outputs": [
                        {
                              "name": "stdout",
                              "output_type": "stream",
                              "text": [
                                    "[main 679bb49] archivo1.py con el merge resuelto\n"
                              ]
                        }
                  ],
                  "source": [
                        "!cd notebook_git && git add archivo1.py && git commit -m \"archivo1.py con el merge resuelto\""
                  ]
            },
            {
                  "attachments": {},
                  "cell_type": "markdown",
                  "metadata": {},
                  "source": [
                        "We do a `git status` again to see if it has been resolved."
                  ]
            },
            {
                  "cell_type": "code",
                  "execution_count": 195,
                  "metadata": {},
                  "outputs": [
                        {
                              "name": "stdout",
                              "output_type": "stream",
                              "text": [
                                    "En la rama main\n",
                                    "nada para hacer commit, el árbol de trabajo está limpio\n"
                              ]
                        }
                  ],
                  "source": [
                        "!cd notebook_git && git status"
                  ]
            },
            {
                  "attachments": {},
                  "cell_type": "markdown",
                  "metadata": {},
                  "source": [
                        "It seems to have been solved, we make a `git log` to check it."
                  ]
            },
            {
                  "cell_type": "code",
                  "execution_count": 196,
                  "metadata": {},
                  "outputs": [
                        {
                              "name": "stdout",
                              "output_type": "stream",
                              "text": [
                                    "*   \u001b[33m679bb49\u001b[m\u001b[33m (\u001b[m\u001b[1;36mHEAD -> \u001b[m\u001b[1;32mmain\u001b[m\u001b[33m)\u001b[m archivo1.py con el merge resuelto\n",
                                    "\u001b[31m|\u001b[m\u001b[32m\\\u001b[m  \n",
                                    "\u001b[31m|\u001b[m * \u001b[33m32851c3\u001b[m\u001b[33m (\u001b[m\u001b[1;32mrama_con_conflicto\u001b[m\u001b[33m)\u001b[m archivo1.py en rama rama_con_conflicto\n",
                                    "* \u001b[32m|\u001b[m \u001b[33m53f909b\u001b[m archivo1.py en rama main\n",
                                    "\u001b[32m|\u001b[m\u001b[32m/\u001b[m  \n",
                                    "* \u001b[33m52acb97\u001b[m Merge squash de los commits de la rama branch_squash\n",
                                    "*   \u001b[33m274529c\u001b[m Merge branch 'branch_no_fast_forward' into main\n",
                                    "\u001b[33m|\u001b[m\u001b[34m\\\u001b[m  \n",
                                    "\u001b[33m|\u001b[m * \u001b[33m8df3429\u001b[m\u001b[33m (\u001b[m\u001b[1;32mbranch_no_fast_forward\u001b[m\u001b[33m)\u001b[m file2\n",
                                    "\u001b[33m|\u001b[m * \u001b[33me4e23c9\u001b[m file1\n",
                                    "* \u001b[34m|\u001b[m \u001b[33m8bdf4d8\u001b[m file3\n",
                                    "\u001b[34m|\u001b[m\u001b[34m/\u001b[m  \n",
                                    "* \u001b[33m94149fc\u001b[m\u001b[33m (\u001b[m\u001b[1;32mbranch_fast_forward\u001b[m\u001b[33m)\u001b[m Eliminado hola.py\n",
                                    "* \u001b[33m4484e70\u001b[m Eliminado archivo4.py\n",
                                    "* \u001b[33m564ccfb\u001b[m\u001b[33m (\u001b[m\u001b[1;32mnew_branch2\u001b[m\u001b[33m)\u001b[m Commit con el archivo 8\n",
                                    "* \u001b[33m5168f78\u001b[m Eliminado archivo7.py\n",
                                    "* \u001b[33m4bb9d75\u001b[m\u001b[33m (\u001b[m\u001b[1;32mnew_branch\u001b[m\u001b[33m)\u001b[m Commit con el archivo 7\n",
                                    "* \u001b[33mea615a9\u001b[m Eliminado archivo5.py\n",
                                    "* \u001b[33me3153a5\u001b[m Commit con los archivos 4 y 5\n",
                                    "* \u001b[33m0b09cfa\u001b[m Añadido .gitignore\n",
                                    "* \u001b[33m04ebd1f\u001b[m Commit con los archivos 1 y 2\n",
                                    "* \u001b[33mc4930d7\u001b[m Tercer commit, hola.py\n",
                                    "* \u001b[33m6e99e73\u001b[m Segundo commit, hola.py\n",
                                    "* \u001b[33m1c95e4f\u001b[m Primer commit, hola.py\n"
                              ]
                        }
                  ],
                  "source": [
                        "!cd notebook_git && git log --graph --oneline --decorate"
                  ]
            },
            {
                  "attachments": {},
                  "cell_type": "markdown",
                  "metadata": {},
                  "source": [
                        "### Remove branches"
                  ]
            },
            {
                  "attachments": {},
                  "cell_type": "markdown",
                  "metadata": {},
                  "source": [
                        "The idea of a branch is to open it to develop a new functionality or feature in a way that does not affect the rest of the development team. Therefore when this is achieved it is merged with the main branch. So after the merge it doesn't make sense to keep the branch anymore so it has to be deleted, but it will be done in a different way if the branch has been merged or not with the main branch."
                  ]
            },
            {
                  "attachments": {},
                  "cell_type": "markdown",
                  "metadata": {},
                  "source": [
                        "#### Delete branches that have been merged (`git branch -d <branch>`)"
                  ]
            },
            {
                  "attachments": {},
                  "cell_type": "markdown",
                  "metadata": {},
                  "source": [
                        "To delete a branch that has already been merged with the main branch just do `git branch -d <branch>` or `git branch --delete <branch>`. Let's delete the last branch that we have created and merged"
                  ]
            },
            {
                  "cell_type": "code",
                  "execution_count": 197,
                  "metadata": {},
                  "outputs": [
                        {
                              "name": "stdout",
                              "output_type": "stream",
                              "text": [
                                    "Eliminada la rama rama_con_conflicto (era 32851c3).\n"
                              ]
                        }
                  ],
                  "source": [
                        "!cd notebook_git && git branch -d rama_con_conflicto"
                  ]
            },
            {
                  "attachments": {},
                  "cell_type": "markdown",
                  "metadata": {},
                  "source": [
                        "If we now list all branches we can see that we will no longer have `branch_with_conflict`."
                  ]
            },
            {
                  "cell_type": "code",
                  "execution_count": 198,
                  "metadata": {},
                  "outputs": [
                        {
                              "name": "stdout",
                              "output_type": "stream",
                              "text": [
                                    "  branch_fast_forward\u001b[m\n",
                                    "  branch_no_fast_forward\u001b[m\n",
                                    "  branch_squash\u001b[m\n",
                                    "* \u001b[32mmain\u001b[m\n",
                                    "  new_branch\u001b[m\n",
                                    "  new_branch2\u001b[m\n"
                              ]
                        }
                  ],
                  "source": [
                        "!cd notebook_git && git branch"
                  ]
            },
            {
                  "attachments": {},
                  "cell_type": "markdown",
                  "metadata": {},
                  "source": [
                        "#### Remove branches that have not been merged with the main branch (`git brnach -D <branch>`)"
                  ]
            },
            {
                  "attachments": {},
                  "cell_type": "markdown",
                  "metadata": {},
                  "source": [
                        "If we try to do the same as before with a branch that has never been merged with another we will get an error"
                  ]
            },
            {
                  "attachments": {},
                  "cell_type": "markdown",
                  "metadata": {},
                  "source": [
                        "We are going to create a new branch, we are going to commit it and we are not going to merge it."
                  ]
            },
            {
                  "cell_type": "code",
                  "execution_count": 199,
                  "metadata": {},
                  "outputs": [],
                  "source": [
                        "!cd notebook_git && git branch branch_sin_fusion"
                  ]
            },
            {
                  "cell_type": "code",
                  "execution_count": 200,
                  "metadata": {},
                  "outputs": [
                        {
                              "name": "stdout",
                              "output_type": "stream",
                              "text": [
                                    "Cambiado a rama 'branch_sin_fusion'\n"
                              ]
                        }
                  ],
                  "source": [
                        "!cd notebook_git && git switch branch_sin_fusion"
                  ]
            },
            {
                  "cell_type": "code",
                  "execution_count": 201,
                  "metadata": {},
                  "outputs": [
                        {
                              "name": "stdout",
                              "output_type": "stream",
                              "text": [
                                    "[branch_sin_fusion 9506b0a] file4\n",
                                    " 1 file changed, 0 insertions(+), 0 deletions(-)\n",
                                    " create mode 100644 file4\n"
                              ]
                        }
                  ],
                  "source": [
                        "!cd notebook_git && touch file4 && git add file4 && git commit -m \"file4\""
                  ]
            },
            {
                  "cell_type": "code",
                  "execution_count": 202,
                  "metadata": {},
                  "outputs": [
                        {
                              "name": "stdout",
                              "output_type": "stream",
                              "text": [
                                    "Cambiado a rama 'main'\n"
                              ]
                        }
                  ],
                  "source": [
                        "!cd notebook_git && git switch main"
                  ]
            },
            {
                  "attachments": {},
                  "cell_type": "markdown",
                  "metadata": {},
                  "source": [
                        "With everything we have learned so far, we can see that what we have done is to create a new branch, switch to it, create a new file, commit it and go back to the `main` branch. Now let's try to delete this new branch"
                  ]
            },
            {
                  "cell_type": "code",
                  "execution_count": 203,
                  "metadata": {},
                  "outputs": [
                        {
                              "name": "stdout",
                              "output_type": "stream",
                              "text": [
                                    "error: La rama 'branch_sin_fusion' no ha sido fusionada completamente.\n",
                                    "Si estás seguro de querer borrarla, ejecuta 'git branch -D branch_sin_fusion'.\n"
                              ]
                        }
                  ],
                  "source": [
                        "!cd notebook_git && git branch -d branch_sin_fusion"
                  ]
            },
            {
                  "attachments": {},
                  "cell_type": "markdown",
                  "metadata": {},
                  "source": [
                        "As we can see it tells us that `branch_sin_fusion` has not been merged so it has not been removed and that if we are sure to remove it we have to do `git branch -D branch_sin_fusion`, so we do it to remove it"
                  ]
            },
            {
                  "cell_type": "code",
                  "execution_count": 204,
                  "metadata": {},
                  "outputs": [
                        {
                              "name": "stdout",
                              "output_type": "stream",
                              "text": [
                                    "Eliminada la rama branch_sin_fusion (era 9506b0a).\n"
                              ]
                        }
                  ],
                  "source": [
                        "!cd notebook_git && git branch -D branch_sin_fusion"
                  ]
            },
            {
                  "attachments": {},
                  "cell_type": "markdown",
                  "metadata": {},
                  "source": [
                        "Now it has been eliminated"
                  ]
            },
            {
                  "attachments": {},
                  "cell_type": "markdown",
                  "metadata": {},
                  "source": [
                        "## Working with remote repositories"
                  ]
            },
            {
                  "attachments": {},
                  "cell_type": "markdown",
                  "metadata": {},
                  "source": [
                        "When we develop software we do not usually do it alone, we usually work as a team, so it does not make sense to have a local git repository, but to have a remote repository with which we all work and share the progress.\n",
                        "\n",
                        " > Note: The goal of this post is to explain git. For the connection with remote repositories I will explain it with GitHub because it is the most used git repository hosting service, but I will not go deep into GitHub."
                  ]
            },
            {
                  "attachments": {},
                  "cell_type": "markdown",
                  "metadata": {},
                  "source": [
                        "### Clone a remote repository (`git clone <repository>`)"
                  ]
            },
            {
                  "attachments": {},
                  "cell_type": "markdown",
                  "metadata": {},
                  "source": [
                        "If we start working on a repository that has already been created, the first thing we have to do is to clone it, for this we have to do is `git clone <repository>`, where `<repository>` can be a URL or a SSH address. As right now the whole topic of the language model grnades and ChatGPT are very fashionable, we are going to clone an opensource repository created by the community, [Open-Assistant](https://github.com/LAION-AI/Open-Assistant), for this we will do `git clone https://github.com/LAION-AI/Open-Assistant`."
                  ]
            },
            {
                  "cell_type": "code",
                  "execution_count": 11,
                  "metadata": {},
                  "outputs": [
                        {
                              "name": "stdout",
                              "output_type": "stream",
                              "text": [
                                    "Clonando en 'Open-Assistant'...\n",
                                    "remote: Enumerating objects: 29769, done.\u001b[K\n",
                                    "remote: Counting objects: 100% (673/673), done.\u001b[K\n",
                                    "remote: Compressing objects: 100% (310/310), done.\u001b[K\n",
                                    "remote: Total 29769 (delta 398), reused 577 (delta 354), pack-reused 29096\u001b[K\n",
                                    "Recibiendo objetos: 100% (29769/29769), 33.61 MiB | 29.29 MiB/s, listo.\n",
                                    "Resolviendo deltas: 100% (19967/19967), listo.\n"
                              ]
                        }
                  ],
                  "source": [
                        "!git clone https://github.com/LAION-AI/Open-Assistant.git"
                  ]
            },
            {
                  "attachments": {},
                  "cell_type": "markdown",
                  "metadata": {},
                  "source": [
                        "This creates the `Open-Assistant` folder with all the code from the repository, we can enter inside and see all the code"
                  ]
            },
            {
                  "cell_type": "code",
                  "execution_count": 13,
                  "metadata": {},
                  "outputs": [
                        {
                              "name": "stdout",
                              "output_type": "stream",
                              "text": [
                                    "ansible\t\t deploy\t\t      model\t      safety\n",
                                    "assets\t\t discord-bots\t      notebooks       scripts\n",
                                    "backend\t\t docker\t\t      oasst-data      setup.cfg\n",
                                    "CODEOWNERS\t docker-compose.yaml  oasst-shared    text-frontend\n",
                                    "CONTRIBUTING.md  docs\t\t      pyproject.toml  website\n",
                                    "copilot\t\t inference\t      README.md\n",
                                    "data\t\t LICENSE\t      redis.conf\n"
                              ]
                        }
                  ],
                  "source": [
                        "!cd Open-Assistant && ls"
                  ]
            },
            {
                  "attachments": {},
                  "cell_type": "markdown",
                  "metadata": {},
                  "source": [
                        "I delete the folder"
                  ]
            },
            {
                  "cell_type": "code",
                  "execution_count": null,
                  "metadata": {},
                  "outputs": [],
                  "source": [
                        "!rm -r Open-Assistant"
                  ]
            },
            {
                  "attachments": {},
                  "cell_type": "markdown",
                  "metadata": {},
                  "source": [
                        "### Linking a local repository to a remote repository"
                  ]
            },
            {
                  "attachments": {},
                  "cell_type": "markdown",
                  "metadata": {},
                  "source": [
                        "If it happens the other way around, if we first start developing locally and then we want to synchronize it with a remote repository we have to do the following\n",
                        "\n",
                        " * First create an empty remote repository, in my case I created the `notebook_git` repository on GitHub which I will later delete.\n",
                        " * Get repository URL, or SSH address\n",
                        " * Synchronize them using `git remote add origin <URL>.\n",
                        "\n",
                        "The empty repository I created on GitHub looks like this\n",
                        "\n",
                        "notebook git repo](https://maximofn.com/wp-content/uploads/2023/04/notebook_git_repo.png)\n",
                        "\n",
                        "In my case I will use the SSH address which is `git@github.com:maximofn/notebook_git.git`."
                  ]
            },
            {
                  "cell_type": "code",
                  "execution_count": 205,
                  "metadata": {},
                  "outputs": [],
                  "source": [
                        "!cd notebook_git && git remote add origin git@github.com:maximofn/notebook_git.git"
                  ]
            },
            {
                  "attachments": {},
                  "cell_type": "markdown",
                  "metadata": {},
                  "source": [
                        "They are already linked, but to make sure we can do `git remote -v`."
                  ]
            },
            {
                  "cell_type": "code",
                  "execution_count": 206,
                  "metadata": {},
                  "outputs": [
                        {
                              "name": "stdout",
                              "output_type": "stream",
                              "text": [
                                    "origin\tgit@github.com:maximofn/notebook_git.git (fetch)\n",
                                    "origin\tgit@github.com:maximofn/notebook_git.git (push)\n"
                              ]
                        }
                  ],
                  "source": [
                        "!cd notebook_git && git remote -v"
                  ]
            },
            {
                  "attachments": {},
                  "cell_type": "markdown",
                  "metadata": {},
                  "source": [
                        "### Uploading changes from a local repository to a remote repository (`git push`)"
                  ]
            },
            {
                  "attachments": {},
                  "cell_type": "markdown",
                  "metadata": {},
                  "source": [
                        "As we have said they are linked, but if I go to my repository on GitHub it still looks like this\n",
                        "\n",
                        "notebook git repo](https://maximofn.com/wp-content/uploads/2023/04/notebook_git_repo.png)\n",
                        "\n",
                        "The local and remote repository are linked, but now we have to send all the changes from the local repository to the remote one, for this we would have to use `git push origin <local branch>:<remote branch>`, that is, as our main branch is called `main` and the main branch in GitHub is called `main` we would have to do `git push origin main:main`.\n",
                        "If you remember git by default called the main branch `master`, but GitHub by default calls the main branch `main` so if each person calls in his local repository to his branches in a way you have to specify which branch in local writes to which branch in remote"
                  ]
            },
            {
                  "attachments": {},
                  "cell_type": "markdown",
                  "metadata": {},
                  "source": [
                        "You can set up the default connection between branches in git by doing `git push --set-upstream origin main`. This establishes a relationship between the local branch `main` and the remote branch `main`. Once this relationship is established, it is only necessary to do `git push` to upload the changes made locally to the remote server.\n",
                        "\n",
                        "So we establish the connection between branches"
                  ]
            },
            {
                  "cell_type": "code",
                  "execution_count": 207,
                  "metadata": {},
                  "outputs": [
                        {
                              "name": "stdout",
                              "output_type": "stream",
                              "text": [
                                    "Enumerando objetos: 51, listo.\n",
                                    "Contando objetos: 100% (51/51), listo.\n",
                                    "Compresión delta usando hasta 12 hilos\n",
                                    "Comprimiendo objetos: 100% (38/38), listo.\n",
                                    "Escribiendo objetos: 100% (51/51), 4.21 KiB | 2.11 MiB/s, listo.\n",
                                    "Total 51 (delta 18), reusado 0 (delta 0)\n",
                                    "remote: Resolving deltas: 100% (18/18), done.\u001b[K\n",
                                    "To github.com:maximofn/notebook_git.git\n",
                                    " * [new branch]      main -> main\n",
                                    "Rama 'main' configurada para hacer seguimiento a la rama remota 'main' de 'origin'.\n"
                              ]
                        }
                  ],
                  "source": [
                        "!cd notebook_git && git push --set-upstream origin main"
                  ]
            },
            {
                  "attachments": {},
                  "cell_type": "markdown",
                  "metadata": {},
                  "source": [
                        "Now we can do just `git push` to upload the local changes to the remote repository"
                  ]
            },
            {
                  "cell_type": "code",
                  "execution_count": 208,
                  "metadata": {},
                  "outputs": [
                        {
                              "name": "stdout",
                              "output_type": "stream",
                              "text": [
                                    "Everything up-to-date\n"
                              ]
                        }
                  ],
                  "source": [
                        "!cd notebook_git && git push"
                  ]
            },
            {
                  "attachments": {},
                  "cell_type": "markdown",
                  "metadata": {},
                  "source": [
                        "If we now go back to our GitHub repository it looks like this\n",
                        "\n",
                        "![notebook git repo push](https://maximofn.com/wp-content/uploads/2023/04/notebook_git_repo_push.png)"
                  ]
            },
            {
                  "attachments": {},
                  "cell_type": "markdown",
                  "metadata": {},
                  "source": [
                        "If we do an `ls` on our local repository we can see that the files we have in the remote repository are in the local repository, that is, we have synchronized the local and remote repository."
                  ]
            },
            {
                  "cell_type": "code",
                  "execution_count": 209,
                  "metadata": {},
                  "outputs": [
                        {
                              "name": "stdout",
                              "output_type": "stream",
                              "text": [
                                    ".  ..  api_keys.py  archivo1.py  archivo2.py  archivo8.py  .git  .gitignore\n"
                              ]
                        }
                  ],
                  "source": [
                        "!cd notebook_git && ls -a"
                  ]
            },
            {
                  "attachments": {},
                  "cell_type": "markdown",
                  "metadata": {},
                  "source": [
                        "The only ones that are not in the remote repository are `api_keys.py`, which is the one we added to the `.gitignore` file, that is, the one we told git not to follow. And `.git` which is where the configuration of our local repository is and that does not have to be uploaded to the remote repository, because each person will have its own git configuration and therefore it does not have to be synchronized."
                  ]
            },
            {
                  "attachments": {},
                  "cell_type": "markdown",
                  "metadata": {},
                  "source": [
                        "### Download changes from a remote repository to a local repository (`git pull`)"
                  ]
            },
            {
                  "attachments": {},
                  "cell_type": "markdown",
                  "metadata": {},
                  "source": [
                        "Now we are going to do the other way around, we are going to download the new changes that have been made in the remote repository. If we look at how the remote repository is we can see that there is a button that says `Add a README`, so we click it to add it.\n",
                        "\n",
                        "![notebook git repo push](https://maximofn.com/wp-content/uploads/2023/04/notebook_git_repo_push.png)"
                  ]
            },
            {
                  "attachments": {},
                  "cell_type": "markdown",
                  "metadata": {},
                  "source": [
                        "When we hit it, an editor will open, we leave what GitHub has put and save the changes by clicking on the `Commit changes...` button.\n",
                        "\n",
                        "![noteboot git repo readme](https://maximofn.com/wp-content/uploads/2023/04/notebook_git_repo_readme.png)\n",
                        "\n",
                        "A window will pop up asking for a commit message, leave the default one and click on `Comit changes`.\n",
                        "\n",
                        "![notebook git git repo commit message](https://maximofn.com/wp-content/uploads/2023/04/notebook_git_repo_commit_message.png)\n",
                        "\n",
                        "By doing so, the repository will look like this\n",
                        "\n",
                        "![notebook git repo pull](https://maximofn.com/wp-content/uploads/2023/04/notebook_git_repo_pull.png)\n",
                        "\n",
                        "A new file named `README.MD` has been created, but if we do `ls` in the local repository we won't find it"
                  ]
            },
            {
                  "cell_type": "code",
                  "execution_count": 10,
                  "metadata": {},
                  "outputs": [],
                  "source": [
                        "!cd notebook_git && ls | grep README"
                  ]
            },
            {
                  "attachments": {},
                  "cell_type": "markdown",
                  "metadata": {},
                  "source": [
                        "So we have to pull the changes from the remote repository to the local repository, for this we have to do `git pull origin <remote branch>` to tell git on which remote branch we are going to pull the data, but as before we can establish a relationship between the remote branch and the local branch in the following way `git branch --set-upstream-to=origin/<local branch> <remote branch>`, but as our local branch is called `main` and the remote branch GitHub calls it `main` we should change the above by `git branch --set-upstream-to=origin/main main`.\n",
                        "\n",
                        "Once this is done, to download the new changes from the remote repository to the local repository you would only have to do `git pull`."
                  ]
            },
            {
                  "attachments": {},
                  "cell_type": "markdown",
                  "metadata": {},
                  "source": [
                        "Let's set the relationship between branches with `git branch --set-upstream-to=origin/main main`."
                  ]
            },
            {
                  "cell_type": "code",
                  "execution_count": 210,
                  "metadata": {},
                  "outputs": [
                        {
                              "name": "stdout",
                              "output_type": "stream",
                              "text": [
                                    "Rama 'main' configurada para hacer seguimiento a la rama remota 'main' de 'origin'.\n"
                              ]
                        }
                  ],
                  "source": [
                        "!cd notebook_git && git branch --set-upstream-to=origin/main main"
                  ]
            },
            {
                  "attachments": {},
                  "cell_type": "markdown",
                  "metadata": {},
                  "source": [
                        "Now we can pull the changes from the remote repository to the local repository with `git pull`."
                  ]
            },
            {
                  "cell_type": "code",
                  "execution_count": 211,
                  "metadata": {},
                  "outputs": [
                        {
                              "name": "stdout",
                              "output_type": "stream",
                              "text": [
                                    "remote: Enumerating objects: 4, done.\u001b[K\n",
                                    "remote: Counting objects: 100% (4/4), done.\u001b[K\n",
                                    "remote: Compressing objects: 100% (2/2), done.\u001b[K\n",
                                    "remote: Total 3 (delta 1), reused 0 (delta 0), pack-reused 0\u001b[K\n",
                                    "Desempaquetando objetos: 100% (3/3), 646 bytes | 646.00 KiB/s, listo.\n",
                                    "Desde github.com:maximofn/notebook_git\n",
                                    "   679bb49..527e07a  main       -> origin/main\n",
                                    "Actualizando 679bb49..527e07a\n",
                                    "Fast-forward\n",
                                    " README.md | 1 \u001b[32m+\u001b[m\n",
                                    " 1 file changed, 1 insertion(+)\n",
                                    " create mode 100644 README.md\n"
                              ]
                        }
                  ],
                  "source": [
                        "!cd notebook_git && git pull"
                  ]
            },
            {
                  "attachments": {},
                  "cell_type": "markdown",
                  "metadata": {},
                  "source": [
                        "As we can see it says `README.md` has been added, we check it by doing `ls`."
                  ]
            },
            {
                  "cell_type": "code",
                  "execution_count": 212,
                  "metadata": {},
                  "outputs": [
                        {
                              "name": "stdout",
                              "output_type": "stream",
                              "text": [
                                    "README.md\n"
                              ]
                        }
                  ],
                  "source": [
                        "!cd notebook_git && ls | grep README"
                  ]
            },
            {
                  "attachments": {},
                  "cell_type": "markdown",
                  "metadata": {},
                  "source": [
                        "We have the file in local"
                  ]
            },
            {
                  "attachments": {},
                  "cell_type": "markdown",
                  "metadata": {},
                  "source": [
                        "### Synchronize remote and local branches"
                  ]
            },
            {
                  "attachments": {},
                  "cell_type": "markdown",
                  "metadata": {},
                  "source": [
                        "As we have seen we had to synchronize the remote and local branches in order to upload and download the data, however, if we first create the repository in GitHub and then clone it, this synchronization is no longer necessary."
                  ]
            },
            {
                  "attachments": {},
                  "cell_type": "markdown",
                  "metadata": {},
                  "source": [
                        "## Aliases"
                  ]
            },
            {
                  "attachments": {},
                  "cell_type": "markdown",
                  "metadata": {},
                  "source": [
                        "Every time we have wanted to make a log we have used this command `git log --graph --oneline --decorate`, however remembering this command is quite complicated, in fact I do not remember it, every time I wanted to use it I had to look it up because I did not remember it, so it would be nice to have a way to abbreviate it."
                  ]
            },
            {
                  "attachments": {},
                  "cell_type": "markdown",
                  "metadata": {},
                  "source": [
                        "For this git offers `alias`, so you can create aliases of the commands you want, for this you have to do `git config --global alias.<alias name> \"command\"`."
                  ]
            },
            {
                  "attachments": {},
                  "cell_type": "markdown",
                  "metadata": {},
                  "source": [
                        "So let's call `git tree` to the command `git log --graph --oneline --decorate`, since it allows us to see the history, with the branching and merging of branches as if it were the growth of a tree, so we do `git config --global alias.tree \"log --graph --oneline --decorate\"`.\n",
                        "\n",
                        " **Important**: Do not put the word `git` inside the command."
                  ]
            },
            {
                  "cell_type": "code",
                  "execution_count": 218,
                  "metadata": {},
                  "outputs": [],
                  "source": [
                        "!git config --global alias.tree \"log --graph --oneline --decorate\""
                  ]
            },
            {
                  "attachments": {},
                  "cell_type": "markdown",
                  "metadata": {},
                  "source": [
                        "If we now go to our repository and do `git tree` we will see the history as we did before"
                  ]
            },
            {
                  "cell_type": "code",
                  "execution_count": 217,
                  "metadata": {},
                  "outputs": [
                        {
                              "name": "stdout",
                              "output_type": "stream",
                              "text": [
                                    "* \u001b[33m527e07a\u001b[m\u001b[33m (\u001b[m\u001b[1;36mHEAD -> \u001b[m\u001b[1;32mmain\u001b[m\u001b[33m, \u001b[m\u001b[1;31morigin/main\u001b[m\u001b[33m)\u001b[m Create README.md\n",
                                    "*   \u001b[33m679bb49\u001b[m archivo1.py con el merge resuelto\n",
                                    "\u001b[32m|\u001b[m\u001b[33m\\\u001b[m  \n",
                                    "\u001b[32m|\u001b[m * \u001b[33m32851c3\u001b[m archivo1.py en rama rama_con_conflicto\n",
                                    "* \u001b[33m|\u001b[m \u001b[33m53f909b\u001b[m archivo1.py en rama main\n",
                                    "\u001b[33m|\u001b[m\u001b[33m/\u001b[m  \n",
                                    "* \u001b[33m52acb97\u001b[m Merge squash de los commits de la rama branch_squash\n",
                                    "*   \u001b[33m274529c\u001b[m Merge branch 'branch_no_fast_forward' into main\n",
                                    "\u001b[34m|\u001b[m\u001b[35m\\\u001b[m  \n",
                                    "\u001b[34m|\u001b[m * \u001b[33m8df3429\u001b[m\u001b[33m (\u001b[m\u001b[1;32mbranch_no_fast_forward\u001b[m\u001b[33m)\u001b[m file2\n",
                                    "\u001b[34m|\u001b[m * \u001b[33me4e23c9\u001b[m file1\n",
                                    "* \u001b[35m|\u001b[m \u001b[33m8bdf4d8\u001b[m file3\n",
                                    "\u001b[35m|\u001b[m\u001b[35m/\u001b[m  \n",
                                    "* \u001b[33m94149fc\u001b[m\u001b[33m (\u001b[m\u001b[1;32mbranch_fast_forward\u001b[m\u001b[33m)\u001b[m Eliminado hola.py\n",
                                    "* \u001b[33m4484e70\u001b[m Eliminado archivo4.py\n",
                                    "* \u001b[33m564ccfb\u001b[m\u001b[33m (\u001b[m\u001b[1;32mnew_branch2\u001b[m\u001b[33m)\u001b[m Commit con el archivo 8\n",
                                    "* \u001b[33m5168f78\u001b[m Eliminado archivo7.py\n",
                                    "* \u001b[33m4bb9d75\u001b[m\u001b[33m (\u001b[m\u001b[1;32mnew_branch\u001b[m\u001b[33m)\u001b[m Commit con el archivo 7\n",
                                    "* \u001b[33mea615a9\u001b[m Eliminado archivo5.py\n",
                                    "* \u001b[33me3153a5\u001b[m Commit con los archivos 4 y 5\n",
                                    "* \u001b[33m0b09cfa\u001b[m Añadido .gitignore\n",
                                    "* \u001b[33m04ebd1f\u001b[m Commit con los archivos 1 y 2\n",
                                    "* \u001b[33mc4930d7\u001b[m Tercer commit, hola.py\n",
                                    "* \u001b[33m6e99e73\u001b[m Segundo commit, hola.py\n",
                                    "* \u001b[33m1c95e4f\u001b[m Primer commit, hola.py\n"
                              ]
                        }
                  ],
                  "source": [
                        "!cd notebook_git && git tree"
                  ]
            },
            {
                  "attachments": {},
                  "cell_type": "markdown",
                  "metadata": {},
                  "source": [
                        "As we can see, our alias has been created"
                  ]
            },
            {
                  "attachments": {},
                  "cell_type": "markdown",
                  "metadata": {},
                  "source": [
                        "### Aliases of existing git commands"
                  ]
            },
            {
                  "attachments": {},
                  "cell_type": "markdown",
                  "metadata": {},
                  "source": [
                        "You can create aliases for commands that already exist in git, in fact, it's a practice that many people use, especially for shortcuts, so let's make one. Let's make an alias of the `git status` command and rename it to `git st` like this `git config --global alias.st \"status\"`."
                  ]
            },
            {
                  "cell_type": "code",
                  "execution_count": 219,
                  "metadata": {},
                  "outputs": [],
                  "source": [
                        "!git config --global alias.st \"status\""
                  ]
            },
            {
                  "attachments": {},
                  "cell_type": "markdown",
                  "metadata": {},
                  "source": [
                        "We test it now"
                  ]
            },
            {
                  "cell_type": "code",
                  "execution_count": 220,
                  "metadata": {},
                  "outputs": [
                        {
                              "name": "stdout",
                              "output_type": "stream",
                              "text": [
                                    "En la rama main\n",
                                    "Tu rama está actualizada con 'origin/main'.\n",
                                    "\n",
                                    "nada para hacer commit, el árbol de trabajo está limpio\n"
                              ]
                        }
                  ],
                  "source": [
                        "!cd notebook_git && git st"
                  ]
            },
            {
                  "attachments": {},
                  "cell_type": "markdown",
                  "metadata": {},
                  "source": [
                        "We already have the `git status` command simplified to `git st`."
                  ]
            },
            {
                  "attachments": {},
                  "cell_type": "markdown",
                  "metadata": {},
                  "source": [
                        "### Non-git command aliases"
                  ]
            },
            {
                  "attachments": {},
                  "cell_type": "markdown",
                  "metadata": {},
                  "source": [
                        "We can create aliases for non git commands, for example, because we think git needs that new command, it is done the same way with the exception that the command has to be preceded by `!`, i.e. it would be `git config --global alias.<alias name> \"!command\"`."
                  ]
            },
            {
                  "attachments": {},
                  "cell_type": "markdown",
                  "metadata": {},
                  "source": [
                        "When we have seen the conflicts, we have seen that git told us where they were, but to solve them we have to edit the code ourselves, so we can create a git alias so that we can open a file with the text editor we want, in my case I will create an alias that will open the files with `vscode` for that I have to do `git config --global alias.code \"!code\"`."
                  ]
            },
            {
                  "cell_type": "code",
                  "execution_count": 222,
                  "metadata": {},
                  "outputs": [],
                  "source": [
                        "!git config --global alias.code \"!code\""
                  ]
            },
            {
                  "attachments": {},
                  "cell_type": "markdown",
                  "metadata": {},
                  "source": [
                        "We tested it"
                  ]
            },
            {
                  "cell_type": "code",
                  "execution_count": 223,
                  "metadata": {},
                  "outputs": [],
                  "source": [
                        "!cd notebook_git && git code README.md"
                  ]
            },
            {
                  "attachments": {},
                  "cell_type": "markdown",
                  "metadata": {},
                  "source": [
                        "After doing this, I have opened `README.md` in `vscode`."
                  ]
            },
            {
                  "attachments": {},
                  "cell_type": "markdown",
                  "metadata": {},
                  "source": [
                        "### List with all aliases"
                  ]
            },
            {
                  "attachments": {},
                  "cell_type": "markdown",
                  "metadata": {},
                  "source": [
                        "In case we do not remember the aliases we have created we can see the global configuration of git, but as this can be a bit overwhelming because it gives us a lot of information, we can filter to show us only the aliases we have created, for this we use `git config --get-regexp ^alias"
                  ]
            },
            {
                  "cell_type": "code",
                  "execution_count": 224,
                  "metadata": {},
                  "outputs": [
                        {
                              "name": "stdout",
                              "output_type": "stream",
                              "text": [
                                    "alias.tree log --graph --oneline --decorate\n",
                                    "alias.st status\n",
                                    "alias.code !code\n"
                              ]
                        }
                  ],
                  "source": [
                        "!git config --get-regexp ^alias\\."
                  ]
            },
            {
                  "attachments": {},
                  "cell_type": "markdown",
                  "metadata": {},
                  "source": [
                        "We obtain the alais we have created"
                  ]
            },
            {
                  "attachments": {},
                  "cell_type": "markdown",
                  "metadata": {},
                  "source": [
                        "But even better, we can create an alias to get the aliases, to do this we do `git config --global alias.alias \"config --get-regexp ^alias."
                  ]
            },
            {
                  "cell_type": "code",
                  "execution_count": 225,
                  "metadata": {},
                  "outputs": [],
                  "source": [
                        "!git config --global alias.alias \"config --get-regexp ^alias\\.\""
                  ]
            },
            {
                  "attachments": {},
                  "cell_type": "markdown",
                  "metadata": {},
                  "source": [
                        "If we now make `git alias`"
                  ]
            },
            {
                  "cell_type": "code",
                  "execution_count": 226,
                  "metadata": {},
                  "outputs": [
                        {
                              "name": "stdout",
                              "output_type": "stream",
                              "text": [
                                    "alias.tree log --graph --oneline --decorate\n",
                                    "alias.st status\n",
                                    "alias.code !code\n",
                                    "alias.alias config --get-regexp ^alias\\.\n"
                              ]
                        }
                  ],
                  "source": [
                        "!git alias"
                  ]
            },
            {
                  "attachments": {},
                  "cell_type": "markdown",
                  "metadata": {},
                  "source": [
                        "We get the list with all our aliases"
                  ]
            },
            {
                  "attachments": {},
                  "cell_type": "markdown",
                  "metadata": {},
                  "source": [
                        "## Stash (`git stash`)"
                  ]
            },
            {
                  "attachments": {},
                  "cell_type": "markdown",
                  "metadata": {},
                  "source": [
                        "Suppose we are working on a branch, we have several modified files, we have not committed, and for whatever reason we have to move to another branch. For example, we are in a branch developing a new feature, and we have to leave it halfway because there is a critical bug in the main branch.\n",
                        "\n",
                        "One solution would be to make a commit to save the changes and come back later. But maybe we have left the code half done and we don't want to commit it. So that's why the stash was invented, which is like a storage, where you leave your code stored so that you can retrieve it later.\n",
                        "\n",
                        "It is a stack, which means that the last thing in is the first thing out."
                  ]
            },
            {
                  "attachments": {},
                  "cell_type": "markdown",
                  "metadata": {},
                  "source": [
                        "Let's see how to do it, first we create a new branch that we will call `new_feature`."
                  ]
            },
            {
                  "cell_type": "code",
                  "execution_count": 2,
                  "metadata": {},
                  "outputs": [],
                  "source": [
                        "!cd notebook_git && git branch new_feature"
                  ]
            },
            {
                  "attachments": {},
                  "cell_type": "markdown",
                  "metadata": {},
                  "source": [
                        "We switch to it"
                  ]
            },
            {
                  "cell_type": "code",
                  "execution_count": 3,
                  "metadata": {},
                  "outputs": [
                        {
                              "name": "stdout",
                              "output_type": "stream",
                              "text": [
                                    "Cambiado a rama 'new_feature'\n"
                              ]
                        }
                  ],
                  "source": [
                        "!cd notebook_git && git switch new_feature"
                  ]
            },
            {
                  "attachments": {},
                  "cell_type": "markdown",
                  "metadata": {},
                  "source": [
                        "Let's modify `file2.py` and `file8.py`."
                  ]
            },
            {
                  "cell_type": "code",
                  "execution_count": 4,
                  "metadata": {},
                  "outputs": [],
                  "source": [
                        "!cd notebook_git && echo \"print('new_feature')\" >> archivo2.py && echo \"print('new_feature')\" >> archivo8.py"
                  ]
            },
            {
                  "attachments": {},
                  "cell_type": "markdown",
                  "metadata": {},
                  "source": [
                        "We do a `git status` to check that the changes have been made."
                  ]
            },
            {
                  "cell_type": "code",
                  "execution_count": 5,
                  "metadata": {},
                  "outputs": [
                        {
                              "name": "stdout",
                              "output_type": "stream",
                              "text": [
                                    "En la rama new_feature\n",
                                    "Cambios no rastreados para el commit:\n",
                                    "  (usa \"git add <archivo>...\" para actualizar lo que será confirmado)\n",
                                    "  (usa \"git restore <archivo>...\" para descartar los cambios en el directorio de trabajo)\n",
                                    "\t\u001b[31mmodificados:     archivo2.py\u001b[m\n",
                                    "\t\u001b[31mmodificados:     archivo8.py\u001b[m\n",
                                    "\n",
                                    "sin cambios agregados al commit (usa \"git add\" y/o \"git commit -a\")\n"
                              ]
                        }
                  ],
                  "source": [
                        "!cd notebook_git && git status"
                  ]
            },
            {
                  "attachments": {},
                  "cell_type": "markdown",
                  "metadata": {},
                  "source": [
                        "Let's put `file8.py` to the `staged` area"
                  ]
            },
            {
                  "cell_type": "code",
                  "execution_count": 6,
                  "metadata": {},
                  "outputs": [],
                  "source": [
                        "!cd notebook_git && git add archivo8.py"
                  ]
            },
            {
                  "attachments": {},
                  "cell_type": "markdown",
                  "metadata": {},
                  "source": [
                        "We return to do a `git status`."
                  ]
            },
            {
                  "cell_type": "code",
                  "execution_count": 7,
                  "metadata": {},
                  "outputs": [
                        {
                              "name": "stdout",
                              "output_type": "stream",
                              "text": [
                                    "En la rama new_feature\n",
                                    "Cambios a ser confirmados:\n",
                                    "  (usa \"git restore --staged <archivo>...\" para sacar del área de stage)\n",
                                    "\t\u001b[32mmodificados:     archivo8.py\u001b[m\n",
                                    "\n",
                                    "Cambios no rastreados para el commit:\n",
                                    "  (usa \"git add <archivo>...\" para actualizar lo que será confirmado)\n",
                                    "  (usa \"git restore <archivo>...\" para descartar los cambios en el directorio de trabajo)\n",
                                    "\t\u001b[31mmodificados:     archivo2.py\u001b[m\n",
                                    "\n"
                              ]
                        }
                  ],
                  "source": [
                        "!cd notebook_git && git status"
                  ]
            },
            {
                  "attachments": {},
                  "cell_type": "markdown",
                  "metadata": {},
                  "source": [
                        "As we can see we have two modified files, of which one of them is also in the `staged` area. If now we were to change the branch, in order not to lose the changes we could do a commit, or save them in the `stash` storage, so we are going to do the latter using `git stash`."
                  ]
            },
            {
                  "cell_type": "code",
                  "execution_count": 8,
                  "metadata": {},
                  "outputs": [
                        {
                              "name": "stdout",
                              "output_type": "stream",
                              "text": [
                                    "Directorio de trabajo y estado de índice WIP on new_feature: 527e07a Create README.md guardados\n"
                              ]
                        }
                  ],
                  "source": [
                        "!cd notebook_git && git stash"
                  ]
            },
            {
                  "attachments": {},
                  "cell_type": "markdown",
                  "metadata": {},
                  "source": [
                        "If we now redo `git status` let's see what happens"
                  ]
            },
            {
                  "cell_type": "code",
                  "execution_count": 9,
                  "metadata": {},
                  "outputs": [
                        {
                              "name": "stdout",
                              "output_type": "stream",
                              "text": [
                                    "En la rama new_feature\n",
                                    "nada para hacer commit, el árbol de trabajo está limpio\n"
                              ]
                        }
                  ],
                  "source": [
                        "!cd notebook_git && git status"
                  ]
            },
            {
                  "attachments": {},
                  "cell_type": "markdown",
                  "metadata": {},
                  "source": [
                        "The files with modifications no longer appear, it is as if we had made a commit."
                  ]
            },
            {
                  "attachments": {},
                  "cell_type": "markdown",
                  "metadata": {},
                  "source": [
                        " > Important**: Newly created files, which have never been tracked by git will not go to the repository, so with new files it is necessary to at least do a `git add` first."
                  ]
            },
            {
                  "attachments": {},
                  "cell_type": "markdown",
                  "metadata": {},
                  "source": [
                        "If I now create a new file and try to take it to the warehouse, it will give me an error"
                  ]
            },
            {
                  "cell_type": "code",
                  "execution_count": 16,
                  "metadata": {},
                  "outputs": [],
                  "source": [
                        "!cd notebook_git && touch archivo9.py"
                  ]
            },
            {
                  "cell_type": "code",
                  "execution_count": 11,
                  "metadata": {},
                  "outputs": [
                        {
                              "name": "stdout",
                              "output_type": "stream",
                              "text": [
                                    "En la rama new_feature\n",
                                    "Archivos sin seguimiento:\n",
                                    "  (usa \"git add <archivo>...\" para incluirlo a lo que se será confirmado)\n",
                                    "\t\u001b[31marchivo9.py\u001b[m\n",
                                    "\n",
                                    "no hay nada agregado al commit pero hay archivos sin seguimiento presentes (usa \"git add\" para hacerles seguimiento)\n"
                              ]
                        }
                  ],
                  "source": [
                        "!cd notebook_git && git status"
                  ]
            },
            {
                  "cell_type": "code",
                  "execution_count": 13,
                  "metadata": {},
                  "outputs": [
                        {
                              "name": "stdout",
                              "output_type": "stream",
                              "text": [
                                    "No hay cambios locales para guardar\n"
                              ]
                        }
                  ],
                  "source": [
                        "!cd notebook_git && git stash"
                  ]
            },
            {
                  "cell_type": "code",
                  "execution_count": 14,
                  "metadata": {},
                  "outputs": [
                        {
                              "name": "stdout",
                              "output_type": "stream",
                              "text": [
                                    "En la rama new_feature\n",
                                    "Archivos sin seguimiento:\n",
                                    "  (usa \"git add <archivo>...\" para incluirlo a lo que se será confirmado)\n",
                                    "\t\u001b[31marchivo9.py\u001b[m\n",
                                    "\n",
                                    "no hay nada agregado al commit pero hay archivos sin seguimiento presentes (usa \"git add\" para hacerles seguimiento)\n"
                              ]
                        }
                  ],
                  "source": [
                        "!cd notebook_git && git status"
                  ]
            },
            {
                  "attachments": {},
                  "cell_type": "markdown",
                  "metadata": {},
                  "source": [
                        "As we can see `file9.py` has not saved it in the repository, so it should have been added with `git add`."
                  ]
            },
            {
                  "cell_type": "code",
                  "execution_count": 15,
                  "metadata": {},
                  "outputs": [],
                  "source": [
                        "!cd notebook_git && rm archivo9.py"
                  ]
            },
            {
                  "attachments": {},
                  "cell_type": "markdown",
                  "metadata": {},
                  "source": [
                        "### Everything to stash (`git stash -u -a`)"
                  ]
            },
            {
                  "attachments": {},
                  "cell_type": "markdown",
                  "metadata": {},
                  "source": [
                        "As we have seen only files that git is tracking are sent to the store, but if we have new files created, or ignored files, they will not be sent, so to solve this we can use the `-u` or `--include-untracked` flags to send the new files that git has not yet tracked, and the `-a` or `--all` flag to include everything, even the ignored files."
                  ]
            },
            {
                  "attachments": {},
                  "cell_type": "markdown",
                  "metadata": {},
                  "source": [
                        "### List of stashes (`git stash list`)"
                  ]
            },
            {
                  "attachments": {},
                  "cell_type": "markdown",
                  "metadata": {},
                  "source": [
                        "As we have said the stash acts as a stack, so if we make use of this stash many times, we will actually have a list of storages, and to see the ones we have stored we can use `git stash list`."
                  ]
            },
            {
                  "cell_type": "code",
                  "execution_count": 17,
                  "metadata": {},
                  "outputs": [
                        {
                              "name": "stdout",
                              "output_type": "stream",
                              "text": [
                                    "stash@{0}: WIP on new_feature: 527e07a Create README.md\n"
                              ]
                        }
                  ],
                  "source": [
                        "!cd notebook_git && git stash list"
                  ]
            },
            {
                  "attachments": {},
                  "cell_type": "markdown",
                  "metadata": {},
                  "source": [
                        "As we can see we only have one, which indicates the branch (`on new_feature`), the last commit (`Create README.md`) and an identifier (`527e07a`)."
                  ]
            },
            {
                  "attachments": {},
                  "cell_type": "markdown",
                  "metadata": {},
                  "source": [
                        "### Store with description (`git stash push -m <description>)`)"
                  ]
            },
            {
                  "attachments": {},
                  "cell_type": "markdown",
                  "metadata": {},
                  "source": [
                        "As we have seen, the list returns the branch and the last commit, but this information is only useful to know from where we have started to modify before saving in the history. It also returns an identifier that does not tell us much, so we can add a first description to the stash with `git stash push -m <description>`."
                  ]
            },
            {
                  "attachments": {},
                  "cell_type": "markdown",
                  "metadata": {},
                  "source": [
                        "First we do a `git status` to see what we have uncommitted"
                  ]
            },
            {
                  "cell_type": "code",
                  "execution_count": 18,
                  "metadata": {},
                  "outputs": [
                        {
                              "name": "stdout",
                              "output_type": "stream",
                              "text": [
                                    "En la rama new_feature\n",
                                    "Archivos sin seguimiento:\n",
                                    "  (usa \"git add <archivo>...\" para incluirlo a lo que se será confirmado)\n",
                                    "\t\u001b[31marchivo9.py\u001b[m\n",
                                    "\n",
                                    "no hay nada agregado al commit pero hay archivos sin seguimiento presentes (usa \"git add\" para hacerles seguimiento)\n"
                              ]
                        }
                  ],
                  "source": [
                        "!cd notebook_git && git status"
                  ]
            },
            {
                  "attachments": {},
                  "cell_type": "markdown",
                  "metadata": {},
                  "source": [
                        "We have `file9.py`, but remember that it has never been tracked by git, so to include it in a stash we have to use the `-u` flag or the `-a` flag, so we create a new stash with a description with the command `git stash push -u -m <description>`."
                  ]
            },
            {
                  "cell_type": "code",
                  "execution_count": 28,
                  "metadata": {},
                  "outputs": [
                        {
                              "name": "stdout",
                              "output_type": "stream",
                              "text": [
                                    "Directorio de trabajo y estado de índice On new_feature: archivo9.py guardados\n"
                              ]
                        }
                  ],
                  "source": [
                        "!cd notebook_git && git stash push -u -m \"archivo9.py\""
                  ]
            },
            {
                  "attachments": {},
                  "cell_type": "markdown",
                  "metadata": {},
                  "source": [
                        "We take out the stash list"
                  ]
            },
            {
                  "cell_type": "code",
                  "execution_count": 29,
                  "metadata": {},
                  "outputs": [
                        {
                              "name": "stdout",
                              "output_type": "stream",
                              "text": [
                                    "stash@{0}: On new_feature: archivo9.py\n",
                                    "stash@{1}: WIP on new_feature: 527e07a Create README.md\n"
                              ]
                        }
                  ],
                  "source": [
                        "!cd notebook_git && git stash list"
                  ]
            },
            {
                  "attachments": {},
                  "cell_type": "markdown",
                  "metadata": {},
                  "source": [
                        "The new one appears much more clearly"
                  ]
            },
            {
                  "attachments": {},
                  "cell_type": "markdown",
                  "metadata": {},
                  "source": [
                        "### Retrieve the last stash (`git stash pop`)"
                  ]
            },
            {
                  "attachments": {},
                  "cell_type": "markdown",
                  "metadata": {},
                  "source": [
                        "As we have said, the stash is a stack with stores, so when it comes to retrieving them, we will do it just like a stack, always retrieving the last one.\n",
                        "\n",
                        "![git stash push pop](https://maximofn.com/wp-content/uploads/2023/04/git-stash-push-pop.png)\n",
                        "\n",
                        "To retrieve the last stash we have to do `git stash pop`."
                  ]
            },
            {
                  "attachments": {},
                  "cell_type": "markdown",
                  "metadata": {},
                  "source": [
                        "First we do a `git status` to check that we do not have any pending changes."
                  ]
            },
            {
                  "cell_type": "code",
                  "execution_count": 30,
                  "metadata": {},
                  "outputs": [
                        {
                              "name": "stdout",
                              "output_type": "stream",
                              "text": [
                                    "En la rama new_feature\n",
                                    "nada para hacer commit, el árbol de trabajo está limpio\n"
                              ]
                        }
                  ],
                  "source": [
                        "!cd notebook_git && git status"
                  ]
            },
            {
                  "attachments": {},
                  "cell_type": "markdown",
                  "metadata": {},
                  "source": [
                        "Now we recover the last stash"
                  ]
            },
            {
                  "cell_type": "code",
                  "execution_count": 31,
                  "metadata": {},
                  "outputs": [
                        {
                              "name": "stdout",
                              "output_type": "stream",
                              "text": [
                                    "En la rama new_feature\n",
                                    "Cambios a ser confirmados:\n",
                                    "  (usa \"git restore --staged <archivo>...\" para sacar del área de stage)\n",
                                    "\t\u001b[32mnuevos archivos: archivo9.py\u001b[m\n",
                                    "\n",
                                    "Descartado refs/stash@{0} (0246b0e922f654e7fc68cfeaf26e24fc511feb37)\n"
                              ]
                        }
                  ],
                  "source": [
                        "!cd notebook_git && git stash pop"
                  ]
            },
            {
                  "attachments": {},
                  "cell_type": "markdown",
                  "metadata": {},
                  "source": [
                        "If we do git status again we will see that we have `file9.py` pending a commit."
                  ]
            },
            {
                  "cell_type": "code",
                  "execution_count": 32,
                  "metadata": {},
                  "outputs": [
                        {
                              "name": "stdout",
                              "output_type": "stream",
                              "text": [
                                    "En la rama new_feature\n",
                                    "Cambios a ser confirmados:\n",
                                    "  (usa \"git restore --staged <archivo>...\" para sacar del área de stage)\n",
                                    "\t\u001b[32mnuevos archivos: archivo9.py\u001b[m\n",
                                    "\n"
                              ]
                        }
                  ],
                  "source": [
                        "!cd notebook_git && git status"
                  ]
            },
            {
                  "attachments": {},
                  "cell_type": "markdown",
                  "metadata": {},
                  "source": [
                        "And if we check the stash list, we have only one stash left"
                  ]
            },
            {
                  "cell_type": "code",
                  "execution_count": 33,
                  "metadata": {},
                  "outputs": [
                        {
                              "name": "stdout",
                              "output_type": "stream",
                              "text": [
                                    "stash@{0}: WIP on new_feature: 527e07a Create README.md\n"
                              ]
                        }
                  ],
                  "source": [
                        "!cd notebook_git && git stash list"
                  ]
            },
            {
                  "attachments": {},
                  "cell_type": "markdown",
                  "metadata": {},
                  "source": [
                        "### Delete a stash (`git stash drop <position>`)"
                  ]
            },
            {
                  "attachments": {},
                  "cell_type": "markdown",
                  "metadata": {},
                  "source": [
                        "If we want to delete a stash we have to do `git stash drop <position>` where `<position>` is the position of the stash in the list."
                  ]
            },
            {
                  "attachments": {},
                  "cell_type": "markdown",
                  "metadata": {},
                  "source": [
                        "We obtain the list of the stash"
                  ]
            },
            {
                  "cell_type": "code",
                  "execution_count": 34,
                  "metadata": {},
                  "outputs": [
                        {
                              "name": "stdout",
                              "output_type": "stream",
                              "text": [
                                    "stash@{0}: WIP on new_feature: 527e07a Create README.md\n"
                              ]
                        }
                  ],
                  "source": [
                        "!cd notebook_git && git stash list"
                  ]
            },
            {
                  "attachments": {},
                  "cell_type": "markdown",
                  "metadata": {},
                  "source": [
                        "In our case we only have ones and in position 0 (`stash@{0}`), so to remove it we would have to do `git stash drop 0`, however I am not going to do it because I am going to remove it later with another command"
                  ]
            },
            {
                  "attachments": {},
                  "cell_type": "markdown",
                  "metadata": {},
                  "source": [
                        "### Remove all stashes (`git stash clear`)"
                  ]
            },
            {
                  "attachments": {},
                  "cell_type": "markdown",
                  "metadata": {},
                  "source": [
                        "If we want to clear the entire stash list we have to do `git stash clear`."
                  ]
            },
            {
                  "cell_type": "code",
                  "execution_count": 35,
                  "metadata": {},
                  "outputs": [],
                  "source": [
                        "!cd notebook_git && git stash clear"
                  ]
            },
            {
                  "attachments": {},
                  "cell_type": "markdown",
                  "metadata": {},
                  "source": [
                        "If we now ask for the stash list"
                  ]
            },
            {
                  "cell_type": "code",
                  "execution_count": 36,
                  "metadata": {},
                  "outputs": [],
                  "source": [
                        "!cd notebook_git && git stash list"
                  ]
            },
            {
                  "attachments": {},
                  "cell_type": "markdown",
                  "metadata": {},
                  "source": [
                        "We get nothing because we have eliminated all"
                  ]
            },
            {
                  "attachments": {},
                  "cell_type": "markdown",
                  "metadata": {},
                  "source": [
                        "Let's leave everything as it was, we do a `git status` to remember the changes we had pending"
                  ]
            },
            {
                  "cell_type": "code",
                  "execution_count": 37,
                  "metadata": {},
                  "outputs": [
                        {
                              "name": "stdout",
                              "output_type": "stream",
                              "text": [
                                    "En la rama new_feature\n",
                                    "Cambios a ser confirmados:\n",
                                    "  (usa \"git restore --staged <archivo>...\" para sacar del área de stage)\n",
                                    "\t\u001b[32mnuevos archivos: archivo9.py\u001b[m\n",
                                    "\n"
                              ]
                        }
                  ],
                  "source": [
                        "!cd notebook_git && git status"
                  ]
            },
            {
                  "attachments": {},
                  "cell_type": "markdown",
                  "metadata": {},
                  "source": [
                        "We see that we are in the `new_feature` branch and that we have `file9.py` pending a commit, as we have created it for the example we delete it and return to the main branch"
                  ]
            },
            {
                  "cell_type": "code",
                  "execution_count": 39,
                  "metadata": {},
                  "outputs": [],
                  "source": [
                        "!cd notebook_git && git reset archivo9.py"
                  ]
            },
            {
                  "cell_type": "code",
                  "execution_count": 41,
                  "metadata": {},
                  "outputs": [],
                  "source": [
                        "!cd notebook_git && rm archivo9.py"
                  ]
            },
            {
                  "cell_type": "code",
                  "execution_count": 42,
                  "metadata": {},
                  "outputs": [
                        {
                              "name": "stdout",
                              "output_type": "stream",
                              "text": [
                                    "Cambiado a rama 'main'\n",
                                    "Tu rama está actualizada con 'origin/main'.\n"
                              ]
                        }
                  ],
                  "source": [
                        "!cd notebook_git && git switch main"
                  ]
            },
            {
                  "attachments": {},
                  "cell_type": "markdown",
                  "metadata": {},
                  "source": [
                        "## Tags"
                  ]
            },
            {
                  "attachments": {},
                  "cell_type": "markdown",
                  "metadata": {},
                  "source": [
                        "When we are developing code there come moments when we generate versions, for example `v1.1`, `v1.2`, etc. To keep this under control git provides us with tags."
                  ]
            },
            {
                  "attachments": {},
                  "cell_type": "markdown",
                  "metadata": {},
                  "source": [
                        "### Create a new tag (`git tag -a <tag_name> -m \"<message>\"`)"
                  ]
            },
            {
                  "attachments": {},
                  "cell_type": "markdown",
                  "metadata": {},
                  "source": [
                        "To create a tag we have to do `git tag -a <tag_name> -m \"<message>\"`."
                  ]
            },
            {
                  "attachments": {},
                  "cell_type": "markdown",
                  "metadata": {},
                  "source": [
                        "For example, let's create a tag in the current version of the repository, for this I will do `git tag -a v_tag -m \"Tag with the repository in the final part, where we explain the tags\"`."
                  ]
            },
            {
                  "cell_type": "code",
                  "execution_count": 1,
                  "metadata": {},
                  "outputs": [],
                  "source": [
                        "!cd notebook_git && git tag -a v_tag -m \"Tag con el repositorio en la parte final, en la que explicamos los tags\""
                  ]
            },
            {
                  "attachments": {},
                  "cell_type": "markdown",
                  "metadata": {},
                  "source": [
                        "### List of tags (`git tag`)"
                  ]
            },
            {
                  "attachments": {},
                  "cell_type": "markdown",
                  "metadata": {},
                  "source": [
                        "To see the tags we have created we can do `git tag`."
                  ]
            },
            {
                  "cell_type": "code",
                  "execution_count": 2,
                  "metadata": {},
                  "outputs": [
                        {
                              "name": "stdout",
                              "output_type": "stream",
                              "text": [
                                    "v_tag\n"
                              ]
                        }
                  ],
                  "source": [
                        "!cd notebook_git && git tag"
                  ]
            },
            {
                  "attachments": {},
                  "cell_type": "markdown",
                  "metadata": {},
                  "source": [
                        "### Create a tag from an old commit (`git tag -a <tag_name> -m \"<message>\" <hash>`)"
                  ]
            },
            {
                  "attachments": {},
                  "cell_type": "markdown",
                  "metadata": {},
                  "source": [
                        "Let's do a `git tree` to see the history"
                  ]
            },
            {
                  "cell_type": "code",
                  "execution_count": 3,
                  "metadata": {},
                  "outputs": [
                        {
                              "name": "stdout",
                              "output_type": "stream",
                              "text": [
                                    "* \u001b[33m527e07a\u001b[m\u001b[33m (\u001b[m\u001b[1;36mHEAD -> \u001b[m\u001b[1;32mmain\u001b[m\u001b[33m, \u001b[m\u001b[1;33mtag: v_tag\u001b[m\u001b[33m, \u001b[m\u001b[1;31morigin/main\u001b[m\u001b[33m, \u001b[m\u001b[1;32mnew_feature\u001b[m\u001b[33m)\u001b[m Create README.md\n",
                                    "*   \u001b[33m679bb49\u001b[m archivo1.py con el merge resuelto\n",
                                    "\u001b[32m|\u001b[m\u001b[33m\\\u001b[m  \n",
                                    "\u001b[32m|\u001b[m * \u001b[33m32851c3\u001b[m archivo1.py en rama rama_con_conflicto\n",
                                    "* \u001b[33m|\u001b[m \u001b[33m53f909b\u001b[m archivo1.py en rama main\n",
                                    "\u001b[33m|\u001b[m\u001b[33m/\u001b[m  \n",
                                    "* \u001b[33m52acb97\u001b[m Merge squash de los commits de la rama branch_squash\n",
                                    "*   \u001b[33m274529c\u001b[m Merge branch 'branch_no_fast_forward' into main\n",
                                    "\u001b[34m|\u001b[m\u001b[35m\\\u001b[m  \n",
                                    "\u001b[34m|\u001b[m * \u001b[33m8df3429\u001b[m\u001b[33m (\u001b[m\u001b[1;32mbranch_no_fast_forward\u001b[m\u001b[33m)\u001b[m file2\n",
                                    "\u001b[34m|\u001b[m * \u001b[33me4e23c9\u001b[m file1\n",
                                    "* \u001b[35m|\u001b[m \u001b[33m8bdf4d8\u001b[m file3\n",
                                    "\u001b[35m|\u001b[m\u001b[35m/\u001b[m  \n",
                                    "* \u001b[33m94149fc\u001b[m\u001b[33m (\u001b[m\u001b[1;32mbranch_fast_forward\u001b[m\u001b[33m)\u001b[m Eliminado hola.py\n",
                                    "* \u001b[33m4484e70\u001b[m Eliminado archivo4.py\n",
                                    "* \u001b[33m564ccfb\u001b[m\u001b[33m (\u001b[m\u001b[1;32mnew_branch2\u001b[m\u001b[33m)\u001b[m Commit con el archivo 8\n",
                                    "* \u001b[33m5168f78\u001b[m Eliminado archivo7.py\n",
                                    "* \u001b[33m4bb9d75\u001b[m\u001b[33m (\u001b[m\u001b[1;32mnew_branch\u001b[m\u001b[33m)\u001b[m Commit con el archivo 7\n",
                                    "* \u001b[33mea615a9\u001b[m Eliminado archivo5.py\n",
                                    "* \u001b[33me3153a5\u001b[m Commit con los archivos 4 y 5\n",
                                    "* \u001b[33m0b09cfa\u001b[m Añadido .gitignore\n",
                                    "* \u001b[33m04ebd1f\u001b[m Commit con los archivos 1 y 2\n",
                                    "* \u001b[33mc4930d7\u001b[m Tercer commit, hola.py\n",
                                    "* \u001b[33m6e99e73\u001b[m Segundo commit, hola.py\n",
                                    "* \u001b[33m1c95e4f\u001b[m Primer commit, hola.py\n"
                              ]
                        }
                  ],
                  "source": [
                        "!cd notebook_git && git tree"
                  ]
            },
            {
                  "attachments": {},
                  "cell_type": "markdown",
                  "metadata": {},
                  "source": [
                        "Although it does not say it in the description, when we made the commit `4bb9d75` was when we finished the version control part locally, so it would also be nice to have a tag of that moment. To do so, what we have to do is to create a tag adding the hash of that point in time"
                  ]
            },
            {
                  "cell_type": "code",
                  "execution_count": 4,
                  "metadata": {},
                  "outputs": [],
                  "source": [
                        "!cd notebook_git && git tag -a v_local -m \"Tag con el repositorio en la parte de control de versiones de manera local\" 4bb9d75"
                  ]
            },
            {
                  "attachments": {},
                  "cell_type": "markdown",
                  "metadata": {},
                  "source": [
                        "If we now make a list of the tags, the new one appears."
                  ]
            },
            {
                  "cell_type": "code",
                  "execution_count": 5,
                  "metadata": {},
                  "outputs": [
                        {
                              "name": "stdout",
                              "output_type": "stream",
                              "text": [
                                    "v_local\n",
                                    "v_tag\n"
                              ]
                        }
                  ],
                  "source": [
                        "!cd notebook_git && git tag"
                  ]
            },
            {
                  "attachments": {},
                  "cell_type": "markdown",
                  "metadata": {},
                  "source": [
                        "And if we look at the commit history"
                  ]
            },
            {
                  "cell_type": "code",
                  "execution_count": 8,
                  "metadata": {},
                  "outputs": [
                        {
                              "name": "stdout",
                              "output_type": "stream",
                              "text": [
                                    "* \u001b[33m527e07a\u001b[m\u001b[33m (\u001b[m\u001b[1;36mHEAD -> \u001b[m\u001b[1;32mmain\u001b[m\u001b[33m, \u001b[m\u001b[1;33mtag: v_tag\u001b[m\u001b[33m, \u001b[m\u001b[1;31morigin/main\u001b[m\u001b[33m, \u001b[m\u001b[1;32mnew_feature\u001b[m\u001b[33m)\u001b[m Create README.md\n",
                                    "*   \u001b[33m679bb49\u001b[m archivo1.py con el merge resuelto\n",
                                    "\u001b[32m|\u001b[m\u001b[33m\\\u001b[m  \n",
                                    "\u001b[32m|\u001b[m * \u001b[33m32851c3\u001b[m archivo1.py en rama rama_con_conflicto\n",
                                    "* \u001b[33m|\u001b[m \u001b[33m53f909b\u001b[m archivo1.py en rama main\n",
                                    "\u001b[33m|\u001b[m\u001b[33m/\u001b[m  \n",
                                    "* \u001b[33m52acb97\u001b[m Merge squash de los commits de la rama branch_squash\n",
                                    "*   \u001b[33m274529c\u001b[m Merge branch 'branch_no_fast_forward' into main\n",
                                    "\u001b[34m|\u001b[m\u001b[35m\\\u001b[m  \n",
                                    "\u001b[34m|\u001b[m * \u001b[33m8df3429\u001b[m\u001b[33m (\u001b[m\u001b[1;32mbranch_no_fast_forward\u001b[m\u001b[33m)\u001b[m file2\n",
                                    "\u001b[34m|\u001b[m * \u001b[33me4e23c9\u001b[m file1\n",
                                    "* \u001b[35m|\u001b[m \u001b[33m8bdf4d8\u001b[m file3\n",
                                    "\u001b[35m|\u001b[m\u001b[35m/\u001b[m  \n",
                                    "* \u001b[33m94149fc\u001b[m\u001b[33m (\u001b[m\u001b[1;32mbranch_fast_forward\u001b[m\u001b[33m)\u001b[m Eliminado hola.py\n",
                                    "* \u001b[33m4484e70\u001b[m Eliminado archivo4.py\n",
                                    "* \u001b[33m564ccfb\u001b[m\u001b[33m (\u001b[m\u001b[1;32mnew_branch2\u001b[m\u001b[33m)\u001b[m Commit con el archivo 8\n",
                                    "* \u001b[33m5168f78\u001b[m Eliminado archivo7.py\n",
                                    "* \u001b[33m4bb9d75\u001b[m\u001b[33m (\u001b[m\u001b[1;33mtag: v_local\u001b[m\u001b[33m, \u001b[m\u001b[1;32mnew_branch\u001b[m\u001b[33m)\u001b[m Commit con el archivo 7\n",
                                    "* \u001b[33mea615a9\u001b[m Eliminado archivo5.py\n",
                                    "* \u001b[33me3153a5\u001b[m Commit con los archivos 4 y 5\n",
                                    "* \u001b[33m0b09cfa\u001b[m Añadido .gitignore\n",
                                    "* \u001b[33m04ebd1f\u001b[m Commit con los archivos 1 y 2\n",
                                    "* \u001b[33mc4930d7\u001b[m Tercer commit, hola.py\n",
                                    "* \u001b[33m6e99e73\u001b[m Segundo commit, hola.py\n",
                                    "* \u001b[33m1c95e4f\u001b[m Primer commit, hola.py\n"
                              ]
                        }
                  ],
                  "source": [
                        "!cd notebook_git && git tree"
                  ]
            },
            {
                  "attachments": {},
                  "cell_type": "markdown",
                  "metadata": {},
                  "source": [
                        "In the history point where we have created the tag, now appears the tag we have created `* 4bb9d75 (tag: v_local, new_branch) Commit with file 7`."
                  ]
            },
            {
                  "attachments": {},
                  "cell_type": "markdown",
                  "metadata": {},
                  "source": [
                        "### Switching between tags (`git reset --hard <tag>` or `git reset --soft <tag>`)"
                  ]
            },
            {
                  "attachments": {},
                  "cell_type": "markdown",
                  "metadata": {},
                  "source": [
                        "Just as we can move between different commits in the history, we can also move between tags. This has the advantage that we can move to another time in the history without having to know the hash, with knowing the name of the tag that we have put in that moment we can move simply doing `git reset --hard <tag>` or `git reset --soft <tag>`."
                  ]
            },
            {
                  "attachments": {},
                  "cell_type": "markdown",
                  "metadata": {},
                  "source": [
                        "First we are going to do an `ls` to see the files that we have"
                  ]
            },
            {
                  "cell_type": "code",
                  "execution_count": 6,
                  "metadata": {},
                  "outputs": [
                        {
                              "name": "stdout",
                              "output_type": "stream",
                              "text": [
                                    "api_keys.py  archivo1.py  archivo2.py  archivo8.py  README.md\n"
                              ]
                        }
                  ],
                  "source": [
                        "!cd notebook_git && ls"
                  ]
            },
            {
                  "attachments": {},
                  "cell_type": "markdown",
                  "metadata": {},
                  "source": [
                        "We also make a `git tree` to see where we are in the history of the project"
                  ]
            },
            {
                  "cell_type": "code",
                  "execution_count": 7,
                  "metadata": {},
                  "outputs": [
                        {
                              "name": "stdout",
                              "output_type": "stream",
                              "text": [
                                    "* \u001b[33m527e07a\u001b[m\u001b[33m (\u001b[m\u001b[1;36mHEAD -> \u001b[m\u001b[1;32mmain\u001b[m\u001b[33m, \u001b[m\u001b[1;33mtag: v_tag\u001b[m\u001b[33m, \u001b[m\u001b[1;31morigin/main\u001b[m\u001b[33m, \u001b[m\u001b[1;32mnew_feature\u001b[m\u001b[33m)\u001b[m Create README.md\n",
                                    "*   \u001b[33m679bb49\u001b[m archivo1.py con el merge resuelto\n",
                                    "\u001b[32m|\u001b[m\u001b[33m\\\u001b[m  \n",
                                    "\u001b[32m|\u001b[m * \u001b[33m32851c3\u001b[m archivo1.py en rama rama_con_conflicto\n",
                                    "* \u001b[33m|\u001b[m \u001b[33m53f909b\u001b[m archivo1.py en rama main\n",
                                    "\u001b[33m|\u001b[m\u001b[33m/\u001b[m  \n",
                                    "* \u001b[33m52acb97\u001b[m Merge squash de los commits de la rama branch_squash\n",
                                    "*   \u001b[33m274529c\u001b[m Merge branch 'branch_no_fast_forward' into main\n",
                                    "\u001b[34m|\u001b[m\u001b[35m\\\u001b[m  \n",
                                    "\u001b[34m|\u001b[m * \u001b[33m8df3429\u001b[m\u001b[33m (\u001b[m\u001b[1;32mbranch_no_fast_forward\u001b[m\u001b[33m)\u001b[m file2\n",
                                    "\u001b[34m|\u001b[m * \u001b[33me4e23c9\u001b[m file1\n",
                                    "* \u001b[35m|\u001b[m \u001b[33m8bdf4d8\u001b[m file3\n",
                                    "\u001b[35m|\u001b[m\u001b[35m/\u001b[m  \n",
                                    "* \u001b[33m94149fc\u001b[m\u001b[33m (\u001b[m\u001b[1;32mbranch_fast_forward\u001b[m\u001b[33m)\u001b[m Eliminado hola.py\n",
                                    "* \u001b[33m4484e70\u001b[m Eliminado archivo4.py\n",
                                    "* \u001b[33m564ccfb\u001b[m\u001b[33m (\u001b[m\u001b[1;32mnew_branch2\u001b[m\u001b[33m)\u001b[m Commit con el archivo 8\n",
                                    "* \u001b[33m5168f78\u001b[m Eliminado archivo7.py\n",
                                    "* \u001b[33m4bb9d75\u001b[m\u001b[33m (\u001b[m\u001b[1;33mtag: v_local\u001b[m\u001b[33m, \u001b[m\u001b[1;32mnew_branch\u001b[m\u001b[33m)\u001b[m Commit con el archivo 7\n",
                                    "* \u001b[33mea615a9\u001b[m Eliminado archivo5.py\n",
                                    "* \u001b[33me3153a5\u001b[m Commit con los archivos 4 y 5\n",
                                    "* \u001b[33m0b09cfa\u001b[m Añadido .gitignore\n",
                                    "* \u001b[33m04ebd1f\u001b[m Commit con los archivos 1 y 2\n",
                                    "* \u001b[33mc4930d7\u001b[m Tercer commit, hola.py\n",
                                    "* \u001b[33m6e99e73\u001b[m Segundo commit, hola.py\n",
                                    "* \u001b[33m1c95e4f\u001b[m Primer commit, hola.py\n"
                              ]
                        }
                  ],
                  "source": [
                        "!cd notebook_git && git tree"
                  ]
            },
            {
                  "attachments": {},
                  "cell_type": "markdown",
                  "metadata": {},
                  "source": [
                        "Now we change to the point where we have created the `v_local` tag by `git reset --hard v_local`."
                  ]
            },
            {
                  "cell_type": "code",
                  "execution_count": 10,
                  "metadata": {},
                  "outputs": [
                        {
                              "name": "stdout",
                              "output_type": "stream",
                              "text": [
                                    "HEAD está ahora en 4bb9d75 Commit con el archivo 7\n"
                              ]
                        }
                  ],
                  "source": [
                        "!cd notebook_git && git reset --hard v_local"
                  ]
            },
            {
                  "attachments": {},
                  "cell_type": "markdown",
                  "metadata": {},
                  "source": [
                        "If we now redo an `ls` we see that we do not have the same files."
                  ]
            },
            {
                  "cell_type": "code",
                  "execution_count": 11,
                  "metadata": {},
                  "outputs": [
                        {
                              "name": "stdout",
                              "output_type": "stream",
                              "text": [
                                    "api_keys.py  archivo1.py  archivo2.py  archivo4.py  archivo7.py  hola.py\n"
                              ]
                        }
                  ],
                  "source": [
                        "!cd notebook_git && ls"
                  ]
            },
            {
                  "attachments": {},
                  "cell_type": "markdown",
                  "metadata": {},
                  "source": [
                        "If we also look at the history, we can see that we have changed the time of the history."
                  ]
            },
            {
                  "cell_type": "code",
                  "execution_count": 12,
                  "metadata": {},
                  "outputs": [
                        {
                              "name": "stdout",
                              "output_type": "stream",
                              "text": [
                                    "* \u001b[33m4bb9d75\u001b[m\u001b[33m (\u001b[m\u001b[1;36mHEAD -> \u001b[m\u001b[1;32mmain\u001b[m\u001b[33m, \u001b[m\u001b[1;33mtag: v_local\u001b[m\u001b[33m, \u001b[m\u001b[1;32mnew_branch\u001b[m\u001b[33m)\u001b[m Commit con el archivo 7\n",
                                    "* \u001b[33mea615a9\u001b[m Eliminado archivo5.py\n",
                                    "* \u001b[33me3153a5\u001b[m Commit con los archivos 4 y 5\n",
                                    "* \u001b[33m0b09cfa\u001b[m Añadido .gitignore\n",
                                    "* \u001b[33m04ebd1f\u001b[m Commit con los archivos 1 y 2\n",
                                    "* \u001b[33mc4930d7\u001b[m Tercer commit, hola.py\n",
                                    "* \u001b[33m6e99e73\u001b[m Segundo commit, hola.py\n",
                                    "* \u001b[33m1c95e4f\u001b[m Primer commit, hola.py\n"
                              ]
                        }
                  ],
                  "source": [
                        "!cd notebook_git && git tree"
                  ]
            },
            {
                  "attachments": {},
                  "cell_type": "markdown",
                  "metadata": {},
                  "source": [
                        "To go back to the last history point in time, as we have also created a tag, it will be enough to do `git reset --hard v_tag`."
                  ]
            },
            {
                  "cell_type": "code",
                  "execution_count": 13,
                  "metadata": {},
                  "outputs": [
                        {
                              "name": "stdout",
                              "output_type": "stream",
                              "text": [
                                    "HEAD está ahora en 527e07a Create README.md\n"
                              ]
                        }
                  ],
                  "source": [
                        "!cd notebook_git && git reset --hard v_tag"
                  ]
            },
            {
                  "attachments": {},
                  "cell_type": "markdown",
                  "metadata": {},
                  "source": [
                        "We go back to the history to check that we have returned to the last moment in history"
                  ]
            },
            {
                  "cell_type": "code",
                  "execution_count": 14,
                  "metadata": {},
                  "outputs": [
                        {
                              "name": "stdout",
                              "output_type": "stream",
                              "text": [
                                    "* \u001b[33m527e07a\u001b[m\u001b[33m (\u001b[m\u001b[1;36mHEAD -> \u001b[m\u001b[1;32mmain\u001b[m\u001b[33m, \u001b[m\u001b[1;33mtag: v_tag\u001b[m\u001b[33m, \u001b[m\u001b[1;31morigin/main\u001b[m\u001b[33m, \u001b[m\u001b[1;32mnew_feature\u001b[m\u001b[33m)\u001b[m Create README.md\n",
                                    "*   \u001b[33m679bb49\u001b[m archivo1.py con el merge resuelto\n",
                                    "\u001b[32m|\u001b[m\u001b[33m\\\u001b[m  \n",
                                    "\u001b[32m|\u001b[m * \u001b[33m32851c3\u001b[m archivo1.py en rama rama_con_conflicto\n",
                                    "* \u001b[33m|\u001b[m \u001b[33m53f909b\u001b[m archivo1.py en rama main\n",
                                    "\u001b[33m|\u001b[m\u001b[33m/\u001b[m  \n",
                                    "* \u001b[33m52acb97\u001b[m Merge squash de los commits de la rama branch_squash\n",
                                    "*   \u001b[33m274529c\u001b[m Merge branch 'branch_no_fast_forward' into main\n",
                                    "\u001b[34m|\u001b[m\u001b[35m\\\u001b[m  \n",
                                    "\u001b[34m|\u001b[m * \u001b[33m8df3429\u001b[m\u001b[33m (\u001b[m\u001b[1;32mbranch_no_fast_forward\u001b[m\u001b[33m)\u001b[m file2\n",
                                    "\u001b[34m|\u001b[m * \u001b[33me4e23c9\u001b[m file1\n",
                                    "* \u001b[35m|\u001b[m \u001b[33m8bdf4d8\u001b[m file3\n",
                                    "\u001b[35m|\u001b[m\u001b[35m/\u001b[m  \n",
                                    "* \u001b[33m94149fc\u001b[m\u001b[33m (\u001b[m\u001b[1;32mbranch_fast_forward\u001b[m\u001b[33m)\u001b[m Eliminado hola.py\n",
                                    "* \u001b[33m4484e70\u001b[m Eliminado archivo4.py\n",
                                    "* \u001b[33m564ccfb\u001b[m\u001b[33m (\u001b[m\u001b[1;32mnew_branch2\u001b[m\u001b[33m)\u001b[m Commit con el archivo 8\n",
                                    "* \u001b[33m5168f78\u001b[m Eliminado archivo7.py\n",
                                    "* \u001b[33m4bb9d75\u001b[m\u001b[33m (\u001b[m\u001b[1;33mtag: v_local\u001b[m\u001b[33m, \u001b[m\u001b[1;32mnew_branch\u001b[m\u001b[33m)\u001b[m Commit con el archivo 7\n",
                                    "* \u001b[33mea615a9\u001b[m Eliminado archivo5.py\n",
                                    "* \u001b[33me3153a5\u001b[m Commit con los archivos 4 y 5\n",
                                    "* \u001b[33m0b09cfa\u001b[m Añadido .gitignore\n",
                                    "* \u001b[33m04ebd1f\u001b[m Commit con los archivos 1 y 2\n",
                                    "* \u001b[33mc4930d7\u001b[m Tercer commit, hola.py\n",
                                    "* \u001b[33m6e99e73\u001b[m Segundo commit, hola.py\n",
                                    "* \u001b[33m1c95e4f\u001b[m Primer commit, hola.py\n"
                              ]
                        }
                  ],
                  "source": [
                        "!cd notebook_git && git tree"
                  ]
            }
      ],
      "metadata": {
            "kernelspec": {
                  "display_name": "base",
                  "language": "python",
                  "name": "python3"
            },
            "language_info": {
                  "codemirror_mode": {
                        "name": "ipython",
                        "version": 3
                  },
                  "file_extension": ".py",
                  "mimetype": "text/x-python",
                  "name": "python",
                  "nbconvert_exporter": "python",
                  "pygments_lexer": "ipython3",
                  "version": "3.10.9"
            },
            "orig_nbformat": 4
      },
      "nbformat": 4,
      "nbformat_minor": 2
}
