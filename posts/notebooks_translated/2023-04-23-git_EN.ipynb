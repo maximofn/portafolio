{
  "cells": [
    {
      "attachments": {},
      "cell_type": "markdown",
      "metadata": {},
      "source": [
        "# Git"
      ]
    },
    {
      "attachments": {},
      "cell_type": "markdown",
      "metadata": {},
      "source": [
        " > Disclaimer: This post has been translated to English using a machine translation model. Please, let me know if you find any mistakes."
      ]
    },
    {
      "attachments": {},
      "cell_type": "markdown",
      "metadata": {},
      "source": [
        "## Introduction"
      ]
    },
    {
      "attachments": {},
      "cell_type": "markdown",
      "metadata": {},
      "source": [
        "Git is a version control software created by Linus Torvalds, who developed it to have good version control while developing the Linux kernel."
      ]
    },
    {
      "attachments": {},
      "cell_type": "markdown",
      "metadata": {},
      "source": [
        "## The areas of git"
      ]
    },
    {
      "attachments": {},
      "cell_type": "markdown",
      "metadata": {},
      "source": [
        "Git has three areas, although a fourth can also be considered.",
        "\n",
        "![git states](https://images.maximofn.com/git-states.webp)",
        "\n",
        "* The first one is our workspace, where we have all our code. Here, when we modify or create a file, it becomes untracked, so we have to move it to the `staged` area.",
        "* The second area is the `staged`. Here, the files that we had modified or created and were not *tracked* move to being tracked, meaning Git starts tracking them. We will send the files to the next `head` area from here.",
        "* The third area is the `head`. Here we have recorded a version of our code. By recording versions, we can revert to previous versions if necessary. The recorded version of our code can be sent to a server so that it is accessible by multiple people.",
        "* The three areas mentioned above correspond to local work, but there is one more area and that is the `remote server`. Here we send the recorded version of our code to a server so that we have access to the code from anywhere, or so that more people can access it.",
        "\n",
        "To make an analogy, it's like a scenario where you are going to take a photo. First, you have your modified files, so the ones you want to immortalize you send to the `staged` area, which is the stage. Once you've sent all the files you consider necessary, you take the photo, meaning you send all the files to the `head` area. This way, you can keep taking many photos as the code evolves, so you can have a photo album showing the evolution of the code. Finally, you can upload that photo to a server to make it accessible to more people, which means you send them to the `remote server`."
      ]
    },
    {
      "attachments": {},
      "cell_type": "markdown",
      "metadata": {},
      "source": [
        "## Install git"
      ]
    },
    {
      "attachments": {},
      "cell_type": "markdown",
      "metadata": {},
      "source": [
        "In most Linux distributions, Git is already installed. We can check this by running `git --version`"
      ]
    },
    {
      "cell_type": "code",
      "execution_count": 1,
      "metadata": {},
      "outputs": [
        {
          "name": "stdout",
          "output_type": "stream",
          "text": [
            "git version 2.25.1\n"
          ]
        }
      ],
      "source": [
        "!git --version"
      ]
    },
    {
      "attachments": {},
      "cell_type": "markdown",
      "metadata": {},
      "source": [
        "If you don't have it or want to update the version of git, just run `sudo apt update` and then `sudo apt install git`"
      ]
    },
    {
      "cell_type": "code",
      "execution_count": 3,
      "metadata": {},
      "outputs": [
        {
          "name": "stdout",
          "output_type": "stream",
          "text": [
            "[sudo] password for maximo.fernandez@AEROESPACIAL.SENER: \n"
          ]
        }
      ],
      "source": [
        "!sudo apt update && sudo apt install git"
      ]
    },
    {
      "attachments": {},
      "cell_type": "markdown",
      "metadata": {},
      "source": [
        "We check the version again"
      ]
    },
    {
      "cell_type": "code",
      "execution_count": 4,
      "metadata": {},
      "outputs": [
        {
          "name": "stdout",
          "output_type": "stream",
          "text": [
            "git version 2.25.1\n"
          ]
        }
      ],
      "source": [
        "!git --version"
      ]
    },
    {
      "attachments": {},
      "cell_type": "markdown",
      "metadata": {},
      "source": [
        "In my case, I already had the latest version"
      ]
    },
    {
      "attachments": {},
      "cell_type": "markdown",
      "metadata": {},
      "source": [
        "## Initial Setup"
      ]
    },
    {
      "attachments": {},
      "cell_type": "markdown",
      "metadata": {},
      "source": [
        "### Setting the name and email"
      ]
    },
    {
      "attachments": {},
      "cell_type": "markdown",
      "metadata": {},
      "source": [
        "Before starting to use Git, it is advisable to make some minimal configurations such as your username and email. This information will be displayed when showing who has made changes to the code. To do this, you need to run",
        "\n",
        "\n",
        "```bash\n",
        "git config --global user.name \"<username>\"",
        "git config --global user.email \"<email>\"",
        "```\n",
        "\n",
        "In my case, I would put",
        "\n",
        "```bash\n",
        "git config --global user.name \"MaximoFN\"",
        "git config --global user.email \"maximofn@gmail.com\"",
        "```"
      ]
    },
    {
      "attachments": {},
      "cell_type": "markdown",
      "metadata": {},
      "source": [
        "As can be seen, the `--global` flag changes the global git configuration. However, if you need to set different data for a specific repository, simply navigate to that repository and remove the `--global` flag from the previous commands.",
        "\n",
        "```bash\n",
        "git config user.name \"<username>\"",
        "git config user.email \"<email>\"",
        "```"
      ]
    },
    {
      "attachments": {},
      "cell_type": "markdown",
      "metadata": {},
      "source": [
        "### Set the default editor"
      ]
    },
    {
      "attachments": {},
      "cell_type": "markdown",
      "metadata": {},
      "source": [
        "Later on, when we explain what `commit`s are, we will see that one of the options can open a browser. By default, git will try to use `vim`, but since it is not a very easy editor to use, we can modify it. Below is how to do it with some common editors.",
        "\n",
        "```bash\n",
        "git config --global core.editor \"code\"  # vscode as editor",
        "git config --global core.editor \"atom\"  # Atom as editor",
        "git config --global core.editor \"subl\"  # Sublime Text as editor",
        "git config --global core.editor \"nano\"  # Nano as the editor",
        "```"
      ]
    },
    {
      "attachments": {},
      "cell_type": "markdown",
      "metadata": {},
      "source": [
        "### Check git configuration"
      ]
    },
    {
      "attachments": {},
      "cell_type": "markdown",
      "metadata": {},
      "source": [
        "To review the git configuration we can use `git config --list`"
      ]
    },
    {
      "cell_type": "code",
      "execution_count": 6,
      "metadata": {},
      "outputs": [
        {
          "name": "stdout",
          "output_type": "stream",
          "text": [
            "user.name=maximofn\n",
            "user.email=maximofn@gmail.com\n",
            "user.user=maximofn\n",
            "http.sslverify=true\n",
            "core.repositoryformatversion=0\n",
            "core.filemode=true\n",
            "core.bare=false\n",
            "core.logallrefupdates=true\n",
            "remote.origin.url=https://github.com/maximofn/portafolio.git\n",
            "remote.origin.fetch=+refs/heads/*:refs/remotes/origin/*\n",
            "branch.main.remote=origin\n",
            "branch.main.merge=refs/heads/main\n"
          ]
        }
      ],
      "source": [
        "!git config --list"
      ]
    },
    {
      "attachments": {},
      "cell_type": "markdown",
      "metadata": {},
      "source": [
        "We can use the flags `--global`, `--local`, and `--system` to view only the global configuration, local (if it exists), and system (if it exists)."
      ]
    },
    {
      "cell_type": "code",
      "execution_count": 8,
      "metadata": {},
      "outputs": [
        {
          "name": "stdout",
          "output_type": "stream",
          "text": [
            "user.name=maximofn\n",
            "user.email=maximofn@gmail.com\n",
            "user.user=maximofn\n",
            "http.sslverify=true\n"
          ]
        }
      ],
      "source": [
        "!git config --global --list"
      ]
    },
    {
      "cell_type": "code",
      "execution_count": 9,
      "metadata": {},
      "outputs": [
        {
          "name": "stdout",
          "output_type": "stream",
          "text": [
            "core.repositoryformatversion=0\n",
            "core.filemode=true\n",
            "core.bare=false\n",
            "core.logallrefupdates=true\n",
            "remote.origin.url=https://github.com/maximofn/portafolio.git\n",
            "remote.origin.fetch=+refs/heads/*:refs/remotes/origin/*\n",
            "branch.main.remote=origin\n",
            "branch.main.merge=refs/heads/main\n"
          ]
        }
      ],
      "source": [
        "!git config --local --list"
      ]
    },
    {
      "cell_type": "code",
      "execution_count": 10,
      "metadata": {},
      "outputs": [
        {
          "name": "stdout",
          "output_type": "stream",
          "text": [
            "fatal: unable to read config file '/etc/gitconfig': No such file or directory\n"
          ]
        }
      ],
      "source": [
        "!git config --system --list"
      ]
    },
    {
      "attachments": {},
      "cell_type": "markdown",
      "metadata": {},
      "source": [
        "In my case there is no system configuration"
      ]
    },
    {
      "attachments": {},
      "cell_type": "markdown",
      "metadata": {},
      "source": [
        "If you want to know only the value of a configuration parameter, it would be enough to enter `git config <parameter>`"
      ]
    },
    {
      "cell_type": "code",
      "execution_count": 15,
      "metadata": {},
      "outputs": [
        {
          "name": "stdout",
          "output_type": "stream",
          "text": [
            "maximofn\n"
          ]
        }
      ],
      "source": [
        "!git config user.name"
      ]
    },
    {
      "attachments": {},
      "cell_type": "markdown",
      "metadata": {},
      "source": [
        "## Local version control"
      ]
    },
    {
      "attachments": {},
      "cell_type": "markdown",
      "metadata": {},
      "source": [
        "### Initialize a new repository (`git init`)"
      ]
    },
    {
      "attachments": {},
      "cell_type": "markdown",
      "metadata": {},
      "source": [
        "There are two ways to initialize a new repository:",
        "* One is by doing `git init <repository name>`. This will create a new folder with the repository name.",
        "* Another is navigating to the folder where we want to create a repository and running `git init`",
        "\n",
        "I am going to create a new repository"
      ]
    },
    {
      "cell_type": "code",
      "execution_count": 1,
      "metadata": {},
      "outputs": [
        {
          "name": "stdout",
          "output_type": "stream",
          "text": [
            "Inicializado repositorio Git vac\u00edo en /home/wallabot/Documentos/web/portafolio/posts/notebook_git/.git/\n"
          ]
        }
      ],
      "source": [
        "!git init notebook_git"
      ]
    },
    {
      "attachments": {},
      "cell_type": "markdown",
      "metadata": {},
      "source": [
        "If we now run `ls` we will see that a new folder called `notebook_git` has been created."
      ]
    },
    {
      "cell_type": "code",
      "execution_count": 3,
      "metadata": {},
      "outputs": [
        {
          "name": "stdout",
          "output_type": "stream",
          "text": [
            "notebook_git\n"
          ]
        }
      ],
      "source": [
        "!ls | grep notebook_git"
      ]
    },
    {
      "attachments": {},
      "cell_type": "markdown",
      "metadata": {},
      "source": [
        "We move to it"
      ]
    },
    {
      "cell_type": "code",
      "execution_count": 4,
      "metadata": {},
      "outputs": [],
      "source": [
        "!cd notebook_git"
      ]
    },
    {
      "attachments": {},
      "cell_type": "markdown",
      "metadata": {},
      "source": [
        "Now inside the folder we have two ways to know that the repository has been created, one by doing `ls -a` which will show all files and we will see that there is a folder called `.git`. The other way is by doing `git status` which will tell us the state of the repository."
      ]
    },
    {
      "cell_type": "code",
      "execution_count": 5,
      "metadata": {},
      "outputs": [
        {
          "name": "stdout",
          "output_type": "stream",
          "text": [
            ".  ..  .git\n"
          ]
        }
      ],
      "source": [
        "!cd notebook_git && ls -a"
      ]
    },
    {
      "cell_type": "code",
      "execution_count": 6,
      "metadata": {},
      "outputs": [
        {
          "name": "stdout",
          "output_type": "stream",
          "text": [
            "En la rama master\n",
            "\n",
            "No hay commits todav\u00eda\n",
            "\n",
            "no hay nada para confirmar (crea/copia archivos y usa \"git add\" para hacerles seguimiento)\n"
          ]
        }
      ],
      "source": [
        "!cd notebook_git && git status"
      ]
    },
    {
      "attachments": {},
      "cell_type": "markdown",
      "metadata": {},
      "source": [
        "Since we are in a notebook, each cell has its `path` within the notebook's `path`, which is why I had to do `cd notebook_git &&` twice, to change to the folder with the repository we just created."
      ]
    },
    {
      "attachments": {},
      "cell_type": "markdown",
      "metadata": {},
      "source": [
        "If we now try `git status` in another `path` where a repository has not been initialized, it will give us an error."
      ]
    },
    {
      "cell_type": "code",
      "execution_count": 95,
      "metadata": {},
      "outputs": [
        {
          "name": "stdout",
          "output_type": "stream",
          "text": [
            "fatal: no es un repositorio git (ni ninguno de los directorios superiores): .git\n"
          ]
        }
      ],
      "source": [
        "!cd ~/ && git status"
      ]
    },
    {
      "attachments": {},
      "cell_type": "markdown",
      "metadata": {},
      "source": [
        "### Create new files"
      ]
    },
    {
      "attachments": {},
      "cell_type": "markdown",
      "metadata": {},
      "source": [
        "Once we have initialized a repository, we can start creating new files, so we create one and see what happens"
      ]
    },
    {
      "cell_type": "code",
      "execution_count": 7,
      "metadata": {},
      "outputs": [],
      "source": [
        "!cd notebook_git && echo \"print('Hello World')\" > hello.py"
      ]
    },
    {
      "attachments": {},
      "cell_type": "markdown",
      "metadata": {},
      "source": [
        "If we now run `git status` again, we see that it shows us"
      ]
    },
    {
      "cell_type": "code",
      "execution_count": 8,
      "metadata": {},
      "outputs": [
        {
          "name": "stdout",
          "output_type": "stream",
          "text": [
            "En la rama master\n",
            "\n",
            "No hay commits todav\u00eda\n",
            "\n",
            "Archivos sin seguimiento:\n",
            "  (usa \"git add <archivo>...\" para incluirlo a lo que se ser\u00e1 confirmado)\n",
            "\t\u001b[31mhello.py\u001b[m\n",
            "\n",
            "no hay nada agregado al commit pero hay archivos sin seguimiento presentes (usa \"git add\" para hacerles seguimiento)\n"
          ]
        }
      ],
      "source": [
        "!cd notebook_git && git status"
      ]
    },
    {
      "attachments": {},
      "cell_type": "markdown",
      "metadata": {},
      "source": [
        "As you can see now, it's telling us that the file `hello.py` is not being tracked. This means we need to add `hello.py` to the `staged` area, which we remember was like the stage where we put everything that we will later take a photo of."
      ]
    },
    {
      "attachments": {},
      "cell_type": "markdown",
      "metadata": {},
      "source": [
        "### Undo the creation of a new file"
      ]
    },
    {
      "attachments": {},
      "cell_type": "markdown",
      "metadata": {},
      "source": [
        "In this case, since these are files that git is not yet tracking, that is, they are not yet in the `staged` area, we would have three ways to do it"
      ]
    },
    {
      "attachments": {},
      "cell_type": "markdown",
      "metadata": {},
      "source": [
        "* Simply deleting it: Since git is not yet tracking the file, we could do `rm hello.py` and that's it.",
        "* Deleting it using a Git command: We previously deleted with `rm`, but you might be on a system that does not have the `rm` command. In that case, you can use the Git command `git rm hello.py`",
        "* Finally, we can use `git clean`. This is useful, for example, when there are many new files, and thus, in a single command, we remove all of them."
      ]
    },
    {
      "attachments": {},
      "cell_type": "markdown",
      "metadata": {},
      "source": [
        "#### `git clean`"
      ]
    },
    {
      "attachments": {},
      "cell_type": "markdown",
      "metadata": {},
      "source": [
        "If we run `git clean` by itself, it will give us an error"
      ]
    },
    {
      "cell_type": "code",
      "execution_count": 9,
      "metadata": {},
      "outputs": [
        {
          "name": "stdout",
          "output_type": "stream",
          "text": [
            "fatal: clean.requireForce default en true y ninguno de -i, -n, ni -f entregado; rehusando el clean\n"
          ]
        }
      ],
      "source": [
        "!cd notebook_git && git clean"
      ]
    },
    {
      "attachments": {},
      "cell_type": "markdown",
      "metadata": {},
      "source": [
        "It is telling us that we need to add one of these flags `-n`, `-i` or `-f`. Additionally, we will look at the `-d` flag.",
        "\n",
        "* `-n` (dry run): It will tell us which files are going to be deleted, but it won't delete them.",
        "* `-i`: It will ask for each file that is going to be deleted",
        "* `-f`: Will force the deletion of files",
        "* `-d`: It will also delete folders"
      ]
    },
    {
      "attachments": {},
      "cell_type": "markdown",
      "metadata": {},
      "source": [
        "Let's test it, first we do `git clean -n` to know which files would be deleted"
      ]
    },
    {
      "cell_type": "code",
      "execution_count": 10,
      "metadata": {},
      "outputs": [
        {
          "name": "stdout",
          "output_type": "stream",
          "text": [
            "Ser\u00e1 borrado hello.py\n"
          ]
        }
      ],
      "source": [
        "!cd notebook_git && git clean -n"
      ]
    },
    {
      "attachments": {},
      "cell_type": "markdown",
      "metadata": {},
      "source": [
        "Now we do `git clean -f` to delete it, since we agree that it should be deleted."
      ]
    },
    {
      "cell_type": "code",
      "execution_count": 11,
      "metadata": {},
      "outputs": [
        {
          "name": "stdout",
          "output_type": "stream",
          "text": [
            "Borrando hello.py\n"
          ]
        }
      ],
      "source": [
        "!cd notebook_git && git clean -f"
      ]
    },
    {
      "attachments": {},
      "cell_type": "markdown",
      "metadata": {},
      "source": [
        "As we can see, it has deleted `hello.py`"
      ]
    },
    {
      "attachments": {},
      "cell_type": "markdown",
      "metadata": {},
      "source": [
        "### Add a file to the staging area (`git add`)"
      ]
    },
    {
      "attachments": {},
      "cell_type": "markdown",
      "metadata": {},
      "source": [
        "We go back to creating a file"
      ]
    },
    {
      "cell_type": "code",
      "execution_count": 12,
      "metadata": {},
      "outputs": [],
      "source": [
        "!cd notebook_git && echo \"print('Hola mundo')\" > hola.py"
      ]
    },
    {
      "attachments": {},
      "cell_type": "markdown",
      "metadata": {},
      "source": [
        "We run `git status` again to check that we have the file"
      ]
    },
    {
      "cell_type": "code",
      "execution_count": 13,
      "metadata": {},
      "outputs": [
        {
          "name": "stdout",
          "output_type": "stream",
          "text": [
            "En la rama master\n",
            "\n",
            "No hay commits todav\u00eda\n",
            "\n",
            "Archivos sin seguimiento:\n",
            "  (usa \"git add <archivo>...\" para incluirlo a lo que se ser\u00e1 confirmado)\n",
            "\t\u001b[31mhola.py\u001b[m\n",
            "\n",
            "no hay nada agregado al commit pero hay archivos sin seguimiento presentes (usa \"git add\" para hacerles seguimiento)\n"
          ]
        }
      ],
      "source": [
        "!cd notebook_git && git status"
      ]
    },
    {
      "attachments": {},
      "cell_type": "markdown",
      "metadata": {},
      "source": [
        "We see that we have the file `hola.py` but git is not tracking it. Additionally, it helps us and tells us to `use \"git add\" to track them`",
        "\n",
        "The syntax is as follows `git add <file>`, but we can do it in several ways",
        "\n",
        "* If we want to add more than one file, we can do so by listing all the files we want to add to the staging area, separated by a space: `git add <file1> <file2> <file3>`",
        "* If we want to add all files of the same format, for example, if we want to add all Python files it would be `git add *.py`",
        "* If we want to add all files from a folder `git add <folder>/`",
        "* If we want to add all files, we have three options: `git add --all`, `git add -A` or `git add .`"
      ]
    },
    {
      "attachments": {},
      "cell_type": "markdown",
      "metadata": {},
      "source": [
        "Let's add the newly created file"
      ]
    },
    {
      "cell_type": "code",
      "execution_count": 14,
      "metadata": {},
      "outputs": [],
      "source": [
        "!cd notebook_git && git add hola.py"
      ]
    },
    {
      "attachments": {},
      "cell_type": "markdown",
      "metadata": {},
      "source": [
        "We run a `git status` to see what has happened"
      ]
    },
    {
      "cell_type": "code",
      "execution_count": 15,
      "metadata": {},
      "outputs": [
        {
          "name": "stdout",
          "output_type": "stream",
          "text": [
            "En la rama master\n",
            "\n",
            "No hay commits todav\u00eda\n",
            "\n",
            "Cambios a ser confirmados:\n",
            "  (usa \"git rm --cached <archivo>...\" para sacar del \u00e1rea de stage)\n",
            "\t\u001b[32mnuevos archivos: hola.py\u001b[m\n",
            "\n"
          ]
        }
      ],
      "source": [
        "!cd notebook_git && git status"
      ]
    },
    {
      "attachments": {},
      "cell_type": "markdown",
      "metadata": {},
      "source": [
        "As we can see, it tells us that we have a new file being tracked and awaiting confirmation `hola.py`"
      ]
    },
    {
      "attachments": {},
      "cell_type": "markdown",
      "metadata": {},
      "source": [
        "### Unstage a file (`git reset`)"
      ]
    },
    {
      "attachments": {},
      "cell_type": "markdown",
      "metadata": {},
      "source": [
        "If we add a file to the staging area and want to remove it, we have to use `git reset <file>`, let's see it."
      ]
    },
    {
      "attachments": {},
      "cell_type": "markdown",
      "metadata": {},
      "source": [
        "We create and add a new file to the staging area"
      ]
    },
    {
      "cell_type": "code",
      "execution_count": 16,
      "metadata": {},
      "outputs": [],
      "source": [
        "!cd notebook_git && echo \"print('Este no')\" > adios.py && git add adios.py"
      ]
    },
    {
      "attachments": {},
      "cell_type": "markdown",
      "metadata": {},
      "source": [
        "We run `git status` to check that it is in the staging area"
      ]
    },
    {
      "cell_type": "code",
      "execution_count": 17,
      "metadata": {},
      "outputs": [
        {
          "name": "stdout",
          "output_type": "stream",
          "text": [
            "En la rama master\n",
            "\n",
            "No hay commits todav\u00eda\n",
            "\n",
            "Cambios a ser confirmados:\n",
            "  (usa \"git rm --cached <archivo>...\" para sacar del \u00e1rea de stage)\n",
            "\t\u001b[32mnuevos archivos: adios.py\u001b[m\n",
            "\t\u001b[32mnuevos archivos: hola.py\u001b[m\n",
            "\n"
          ]
        }
      ],
      "source": [
        "!cd notebook_git && git status"
      ]
    },
    {
      "attachments": {},
      "cell_type": "markdown",
      "metadata": {},
      "source": [
        "As we can see, there are `hola.py` and `adios.py`, so we use `git reset adios.py` to remove it from the staging area."
      ]
    },
    {
      "cell_type": "code",
      "execution_count": 18,
      "metadata": {},
      "outputs": [],
      "source": [
        "!cd notebook_git && git reset adios.py"
      ]
    },
    {
      "attachments": {},
      "cell_type": "markdown",
      "metadata": {},
      "source": [
        "We run a `git status` to check that it has come out"
      ]
    },
    {
      "cell_type": "code",
      "execution_count": 19,
      "metadata": {},
      "outputs": [
        {
          "name": "stdout",
          "output_type": "stream",
          "text": [
            "En la rama master\n",
            "\n",
            "No hay commits todav\u00eda\n",
            "\n",
            "Cambios a ser confirmados:\n",
            "  (usa \"git rm --cached <archivo>...\" para sacar del \u00e1rea de stage)\n",
            "\t\u001b[32mnuevos archivos: hola.py\u001b[m\n",
            "\n",
            "Archivos sin seguimiento:\n",
            "  (usa \"git add <archivo>...\" para incluirlo a lo que se ser\u00e1 confirmado)\n",
            "\t\u001b[31madios.py\u001b[m\n",
            "\n"
          ]
        }
      ],
      "source": [
        "!cd notebook_git && git status"
      ]
    },
    {
      "attachments": {},
      "cell_type": "markdown",
      "metadata": {},
      "source": [
        "We can see that `adios.py` is no longer being tracked by git, it has been removed from the staging area."
      ]
    },
    {
      "attachments": {},
      "cell_type": "markdown",
      "metadata": {},
      "source": [
        "We do `git clean -f` to delete it"
      ]
    },
    {
      "cell_type": "code",
      "execution_count": 20,
      "metadata": {},
      "outputs": [
        {
          "name": "stdout",
          "output_type": "stream",
          "text": [
            "Borrando adios.py\n",
            "En la rama master\n",
            "\n",
            "No hay commits todav\u00eda\n",
            "\n",
            "Cambios a ser confirmados:\n",
            "  (usa \"git rm --cached <archivo>...\" para sacar del \u00e1rea de stage)\n",
            "\t\u001b[32mnuevos archivos: hola.py\u001b[m\n",
            "\n"
          ]
        }
      ],
      "source": [
        "!cd notebook_git && git clean -f && git status"
      ]
    },
    {
      "attachments": {},
      "cell_type": "markdown",
      "metadata": {},
      "source": [
        "### Commit (`git commit`)"
      ]
    },
    {
      "attachments": {},
      "cell_type": "markdown",
      "metadata": {},
      "source": [
        "If we go back to the analogy where we said that the staging area was the stage where we sent the files we wanted to take a picture of, now it's time to take the picture to immortalize the current state. This is making a `commit`",
        "\n",
        "This is how the current state of the code is registered; thus, with each commit, a record of the code's evolution will be kept. Similarly to a photo album, with each photo we have a record of the evolution of what we put on stage."
      ]
    },
    {
      "attachments": {},
      "cell_type": "markdown",
      "metadata": {},
      "source": [
        "Since Git is registering the code change when making a commit, it doesn't allow us to commit without at least a minimal comment. Therefore, there are two ways to make a commit.",
        "\n",
        "* `git commit` this way the editor we have set in git's configuration will open. If we haven't configured a default editor, `vi` will open. If we want to change the editor configuration, we can do, for example, `git config --global core.editor \"code\"` or `git config core.editor \"code\"` to set vscode as the default editor globally or locally.",
        "* `git commit -m \"Commit message\"`. This way we add the message directly",
        "\n",
        "When making the commit in the first way, we can have a first line that will be the commit title and several more lines where it is explained in more detail. If we want to be able to do this with the `-m` flag, it is enough to add several consecutive `-m` flags: `git commit -m \"Commit title\" -m \"First line explaining more\" -m \"Second line explaining more\"`"
      ]
    },
    {
      "attachments": {},
      "cell_type": "markdown",
      "metadata": {},
      "source": [
        "Once we have made the commit, this will save a record of the change to our repository locally. We haven't connected to a remote server yet."
      ]
    },
    {
      "attachments": {},
      "cell_type": "markdown",
      "metadata": {},
      "source": [
        "Let's try to make the commit"
      ]
    },
    {
      "cell_type": "code",
      "execution_count": 21,
      "metadata": {},
      "outputs": [
        {
          "name": "stdout",
          "output_type": "stream",
          "text": [
            "[master (commit-ra\u00edz) 1c95e4f] Primer commit, hola.py\n",
            " 1 file changed, 1 insertion(+)\n",
            " create mode 100644 hola.py\n"
          ]
        }
      ],
      "source": [
        "!cd notebook_git && git commit -m \"Primer commit, hola.py\""
      ]
    },
    {
      "attachments": {},
      "cell_type": "markdown",
      "metadata": {},
      "source": [
        "We do a `git status`"
      ]
    },
    {
      "cell_type": "code",
      "execution_count": 22,
      "metadata": {},
      "outputs": [
        {
          "name": "stdout",
          "output_type": "stream",
          "text": [
            "En la rama master\n",
            "nada para hacer commit, el \u00e1rbol de trabajo est\u00e1 limpio\n"
          ]
        }
      ],
      "source": [
        "!cd notebook_git && git status"
      ]
    },
    {
      "attachments": {},
      "cell_type": "markdown",
      "metadata": {},
      "source": [
        "We see that it tells us there is nothing new, we have our entire repository fully under control."
      ]
    },
    {
      "attachments": {},
      "cell_type": "markdown",
      "metadata": {},
      "source": [
        "#### Skipping the staging area with `git commit -a -m` or `git commit -am`"
      ]
    },
    {
      "attachments": {},
      "cell_type": "markdown",
      "metadata": {},
      "source": [
        "In the case where we want to move all modified files to the staging area and then commit them, we can do this in a single step using `git commit -a -m \"message\"`, `git commit --all -m \"message\"`, or `git commit -am \"message\"`",
        "\n",
        "> Note: This is only valid if a file is modified. If the file is new and git is not tracking it, this is not valid.",
        "\n",
        "Let's see an example, we are going to modify `hola.py`"
      ]
    },
    {
      "cell_type": "code",
      "execution_count": 23,
      "metadata": {},
      "outputs": [],
      "source": [
        "!cd notebook_git && echo \"print('He a\u00f1adido una nueva linea')\" >> hola.py"
      ]
    },
    {
      "attachments": {},
      "cell_type": "markdown",
      "metadata": {},
      "source": [
        "Let's do a `git status` to make sure"
      ]
    },
    {
      "cell_type": "code",
      "execution_count": 24,
      "metadata": {},
      "outputs": [
        {
          "name": "stdout",
          "output_type": "stream",
          "text": [
            "En la rama master\n",
            "Cambios no rastreados para el commit:\n",
            "  (usa \"git add <archivo>...\" para actualizar lo que ser\u00e1 confirmado)\n",
            "  (usa \"git restore <archivo>...\" para descartar los cambios en el directorio de trabajo)\n",
            "\t\u001b[31mmodificados:     hola.py\u001b[m\n",
            "\n",
            "sin cambios agregados al commit (usa \"git add\" y/o \"git commit -a\")\n"
          ]
        }
      ],
      "source": [
        "!cd notebook_git && git status"
      ]
    },
    {
      "attachments": {},
      "cell_type": "markdown",
      "metadata": {},
      "source": [
        "We can see that in the git help itself, it suggests using `git commit -a`, so let's do it."
      ]
    },
    {
      "cell_type": "code",
      "execution_count": 25,
      "metadata": {},
      "outputs": [
        {
          "name": "stdout",
          "output_type": "stream",
          "text": [
            "[master 6e99e73] Segundo commit, hola.py\n",
            " 1 file changed, 1 insertion(+)\n"
          ]
        }
      ],
      "source": [
        "!cd notebook_git && git commit -am \"Segundo commit, hola.py\""
      ]
    },
    {
      "attachments": {},
      "cell_type": "markdown",
      "metadata": {},
      "source": [
        "We run `git status` again"
      ]
    },
    {
      "cell_type": "code",
      "execution_count": 26,
      "metadata": {},
      "outputs": [
        {
          "name": "stdout",
          "output_type": "stream",
          "text": [
            "En la rama master\n",
            "nada para hacer commit, el \u00e1rbol de trabajo est\u00e1 limpio\n"
          ]
        }
      ],
      "source": [
        "!cd notebook_git && git status"
      ]
    },
    {
      "attachments": {},
      "cell_type": "markdown",
      "metadata": {},
      "source": [
        "There is nothing to commit, the change has already been committed."
      ]
    },
    {
      "attachments": {},
      "cell_type": "markdown",
      "metadata": {},
      "source": [
        "### Modify a file that has already been committed"
      ]
    },
    {
      "attachments": {},
      "cell_type": "markdown",
      "metadata": {},
      "source": [
        "While we are developing, we might modify files that we have already committed. In our case, we are going to add a line to `hola.py`"
      ]
    },
    {
      "cell_type": "code",
      "execution_count": 27,
      "metadata": {},
      "outputs": [],
      "source": [
        "!cd notebook_git && echo \"print('He a\u00f1adido una tercera linea')\" >> hola.py"
      ]
    },
    {
      "cell_type": "code",
      "execution_count": 28,
      "metadata": {},
      "outputs": [
        {
          "name": "stdout",
          "output_type": "stream",
          "text": [
            "print('Hola mundo')\n",
            "print('He a\u00f1adido una nueva linea')\n",
            "print('He a\u00f1adido una tercera linea')\n"
          ]
        }
      ],
      "source": [
        "!cd notebook_git && cat hola.py"
      ]
    },
    {
      "attachments": {},
      "cell_type": "markdown",
      "metadata": {},
      "source": [
        "If we run `git status` we will see that `hola.py` has modifications"
      ]
    },
    {
      "cell_type": "code",
      "execution_count": 29,
      "metadata": {},
      "outputs": [
        {
          "name": "stdout",
          "output_type": "stream",
          "text": [
            "En la rama master\n",
            "Cambios no rastreados para el commit:\n",
            "  (usa \"git add <archivo>...\" para actualizar lo que ser\u00e1 confirmado)\n",
            "  (usa \"git restore <archivo>...\" para descartar los cambios en el directorio de trabajo)\n",
            "\t\u001b[31mmodificados:     hola.py\u001b[m\n",
            "\n",
            "sin cambios agregados al commit (usa \"git add\" y/o \"git commit -a\")\n"
          ]
        }
      ],
      "source": [
        "!cd notebook_git && git status"
      ]
    },
    {
      "attachments": {},
      "cell_type": "markdown",
      "metadata": {},
      "source": [
        "### View changes in a file (`git diff <file>`)"
      ]
    },
    {
      "attachments": {},
      "cell_type": "markdown",
      "metadata": {},
      "source": [
        "We might have been developing for a while since the last commit and not know what modifications we've made. For this, we use `git diff <file>` which will tell us the changes we've made."
      ]
    },
    {
      "cell_type": "code",
      "execution_count": 30,
      "metadata": {},
      "outputs": [
        {
          "name": "stdout",
          "output_type": "stream",
          "text": [
            "\u001b[1mdiff --git a/hola.py b/hola.py\u001b[m\n",
            "\u001b[1mindex 91dee80..fba0d22 100644\u001b[m\n",
            "\u001b[1m--- a/hola.py\u001b[m\n",
            "\u001b[1m+++ b/hola.py\u001b[m\n",
            "\u001b[36m@@ -1,2 +1,3 @@\u001b[m\n",
            " print('Hola mundo')\u001b[m\n",
            " print('He a\u00f1adido una nueva linea')\u001b[m\n",
            "\u001b[32m+\u001b[m\u001b[32mprint('He a\u00f1adido una tercera linea')\u001b[m\n"
          ]
        }
      ],
      "source": [
        "!cd notebook_git && git diff hola.py"
      ]
    },
    {
      "attachments": {},
      "cell_type": "markdown",
      "metadata": {},
      "source": [
        "Although it's not very intuitive, we can see that we've added the last line in `hola.py`"
      ]
    },
    {
      "attachments": {},
      "cell_type": "markdown",
      "metadata": {},
      "source": [
        "### Unstage changes in a file (`git restore <file>`)"
      ]
    },
    {
      "attachments": {},
      "cell_type": "markdown",
      "metadata": {},
      "source": [
        "If we don't like the changes we've made and want to remove them, what we can do is `git restore <file>`"
      ]
    },
    {
      "cell_type": "code",
      "execution_count": 31,
      "metadata": {},
      "outputs": [],
      "source": [
        "!cd notebook_git && git restore hola.py"
      ]
    },
    {
      "attachments": {},
      "cell_type": "markdown",
      "metadata": {},
      "source": [
        "Let's see what has happened with a `git status`"
      ]
    },
    {
      "cell_type": "code",
      "execution_count": 32,
      "metadata": {},
      "outputs": [
        {
          "name": "stdout",
          "output_type": "stream",
          "text": [
            "En la rama master\n",
            "nada para hacer commit, el \u00e1rbol de trabajo est\u00e1 limpio\n"
          ]
        }
      ],
      "source": [
        "!cd notebook_git && git status"
      ]
    },
    {
      "attachments": {},
      "cell_type": "markdown",
      "metadata": {},
      "source": [
        "We see that the changes in `hola.py` have been discarded since the last commit."
      ]
    },
    {
      "attachments": {},
      "cell_type": "markdown",
      "metadata": {},
      "source": [
        "### Change history (`git log`)"
      ]
    },
    {
      "attachments": {},
      "cell_type": "markdown",
      "metadata": {},
      "source": [
        "With git we can see the history of all the changes we have been committing, for this we use `git log`. It's like if we were to review our photo album."
      ]
    },
    {
      "cell_type": "code",
      "execution_count": 33,
      "metadata": {},
      "outputs": [
        {
          "name": "stdout",
          "output_type": "stream",
          "text": [
            "\u001b[33mcommit 6e99e73cf0c5474078cc9f328ee6a54fb9ffb169\u001b[m\u001b[33m (\u001b[m\u001b[1;36mHEAD -> \u001b[m\u001b[1;32mmaster\u001b[m\u001b[33m)\u001b[m\n",
            "Author: maximofn <maximofn@gmail.com>\n",
            "Date:   Sun Apr 16 02:29:04 2023 +0200\n",
            "\n",
            "    Segundo commit, hola.py\n",
            "\n",
            "\u001b[33mcommit 1c95e4fd8388ceedee368e0121c4b0ef4900c2ac\u001b[m\n",
            "Author: maximofn <maximofn@gmail.com>\n",
            "Date:   Sun Apr 16 02:28:44 2023 +0200\n",
            "\n",
            "    Primer commit, hola.py\n"
          ]
        }
      ],
      "source": [
        "!cd notebook_git && git log"
      ]
    },
    {
      "attachments": {},
      "cell_type": "markdown",
      "metadata": {},
      "source": [
        "We can see the history of changes, we need to read it from bottom to top.",
        "\n",
        "First we see the commit with the message `Initial commit, hello.py`, we can see the date, the author, and the hash, which is its unique identifier",
        "\n",
        "Below we see the second commit with the message `Second commit, hello.py`, along with its date, author, and hash. It also shows where the `HEAD` is and which branch we are on."
      ]
    },
    {
      "attachments": {},
      "cell_type": "markdown",
      "metadata": {},
      "source": [
        "If we use flags, we can obtain information in different ways, but depending on which flags we use, one might be more suitable than others. The following are some useful flags:",
        "\n",
        "* `git log --oneline`: Displays commits in a single line, with the abbreviated hash and the commit message.",
        "* `git log --graph`: Shows a text graph of the repository history, including branches and merges.",
        "* `git log --decorate`: Shows the references (branches, tags, HEAD, etc.) in the log along with the commit they point to.",
        "* `git log --author=\"<author>\"`: Filters the commit history to show only those made by a specific author.",
        "* `git log --since=\"<date>\"`: Shows the commits made since a specific date. You can use different date formats, such as \"1 week ago\" or \"2023-01-01\".",
        "* `git log --until=\"<date>\"`: Shows the commits made until a specific date.",
        "* `git log <branch>`: Shows the commits of a specific branch.",
        "* `git log <commit1>..<commit2>`: Shows the commits that are in the range between two specific commits.",
        "* `git log --grep=\"<word>\"`: Searches through the commit messages for a specific word or phrase.",
        "* `git log -p`: Shows the differences (in patch form) introduced in each commit.",
        "* `git log -n <number>`: Displays the last number of commits. For example, git log -n 5 will show the last 5 commits.",
        "* `git log --stat`: Shows file change statistics for each commit, such as the number of lines added and removed.",
        "\n",
        "For example, a convenient way to view the history is to use `git log --graph --oneline --decorate`"
      ]
    },
    {
      "cell_type": "code",
      "execution_count": 34,
      "metadata": {},
      "outputs": [
        {
          "name": "stdout",
          "output_type": "stream",
          "text": [
            "* \u001b[33m6e99e73\u001b[m\u001b[33m (\u001b[m\u001b[1;36mHEAD -> \u001b[m\u001b[1;32mmaster\u001b[m\u001b[33m)\u001b[m Segundo commit, hola.py\n",
            "* \u001b[33m1c95e4f\u001b[m Primer commit, hola.py\n"
          ]
        }
      ],
      "source": [
        "!cd notebook_git && git log --graph --oneline --decorate"
      ]
    },
    {
      "attachments": {},
      "cell_type": "markdown",
      "metadata": {},
      "source": [
        "We can see that instead of giving us the entire hash, it only gives us a few numbers. This is because, for now, the repository has such little history that those few numbers are sufficient. If we wanted to go back to the previous point, instead of entering the entire hash (`7c448f69e30ab1b5783f5cf9ee3ae5bc362ecd4d`), just entering `7c448f6` would be enough."
      ]
    },
    {
      "attachments": {},
      "cell_type": "markdown",
      "metadata": {},
      "source": [
        "We will talk about branches later, but now let's see what `HEAD` is."
      ]
    },
    {
      "attachments": {},
      "cell_type": "markdown",
      "metadata": {},
      "source": [
        "### HEAD"
      ]
    },
    {
      "attachments": {},
      "cell_type": "markdown",
      "metadata": {},
      "source": [
        "While developing, we have been able to make changes and commit them, that is, we have been filling in the photo album of our code. `HEAD` is the position in the album where we are.",
        "\n",
        "Normally it is the last position of all the commits."
      ]
    },
    {
      "attachments": {},
      "cell_type": "markdown",
      "metadata": {},
      "source": [
        "If we want to know where we are, we can do so with `git rev-parse HEAD`"
      ]
    },
    {
      "cell_type": "code",
      "execution_count": 35,
      "metadata": {},
      "outputs": [
        {
          "name": "stdout",
          "output_type": "stream",
          "text": [
            "6e99e73cf0c5474078cc9f328ee6a54fb9ffb169\n"
          ]
        }
      ],
      "source": [
        "!cd notebook_git && git rev-parse HEAD"
      ]
    },
    {
      "attachments": {},
      "cell_type": "markdown",
      "metadata": {},
      "source": [
        "As can be seen, the obtained hash matches the last one obtained when running `git log`"
      ]
    },
    {
      "cell_type": "code",
      "execution_count": 36,
      "metadata": {},
      "outputs": [
        {
          "name": "stdout",
          "output_type": "stream",
          "text": [
            "\u001b[33mcommit 6e99e73cf0c5474078cc9f328ee6a54fb9ffb169\u001b[m\u001b[33m (\u001b[m\u001b[1;36mHEAD -> \u001b[m\u001b[1;32mmaster\u001b[m\u001b[33m)\u001b[m\n",
            "Author: maximofn <maximofn@gmail.com>\n",
            "Date:   Sun Apr 16 02:29:04 2023 +0200\n",
            "\n",
            "    Segundo commit, hola.py\n",
            "\n",
            "\u001b[33mcommit 1c95e4fd8388ceedee368e0121c4b0ef4900c2ac\u001b[m\n",
            "Author: maximofn <maximofn@gmail.com>\n",
            "Date:   Sun Apr 16 02:28:44 2023 +0200\n",
            "\n",
            "    Primer commit, hola.py\n"
          ]
        }
      ],
      "source": [
        "!cd notebook_git && git log"
      ]
    },
    {
      "attachments": {},
      "cell_type": "markdown",
      "metadata": {},
      "source": [
        "### Modify a commit (`git commit --amend`)"
      ]
    },
    {
      "attachments": {},
      "cell_type": "markdown",
      "metadata": {},
      "source": [
        "We might want to modify a commit, either because we want to change the message, or because we want to add more files to the commit, so we will cover both cases."
      ]
    },
    {
      "attachments": {},
      "cell_type": "markdown",
      "metadata": {},
      "source": [
        "#### Modify the commit message"
      ]
    },
    {
      "attachments": {},
      "cell_type": "markdown",
      "metadata": {},
      "source": [
        "If you only want to modify the message, what we need to do is `git commit --amend -m \"New message\"`, let's see an example, we are going to modify `hola.py`"
      ]
    },
    {
      "cell_type": "code",
      "execution_count": 37,
      "metadata": {},
      "outputs": [],
      "source": [
        "!cd notebook_git && echo \"print('Esta es la tercera linea')\" >> hola.py"
      ]
    },
    {
      "attachments": {},
      "cell_type": "markdown",
      "metadata": {},
      "source": [
        "We do a `git status`"
      ]
    },
    {
      "cell_type": "code",
      "execution_count": 38,
      "metadata": {},
      "outputs": [
        {
          "name": "stdout",
          "output_type": "stream",
          "text": [
            "En la rama master\n",
            "Cambios no rastreados para el commit:\n",
            "  (usa \"git add <archivo>...\" para actualizar lo que ser\u00e1 confirmado)\n",
            "  (usa \"git restore <archivo>...\" para descartar los cambios en el directorio de trabajo)\n",
            "\t\u001b[31mmodificados:     hola.py\u001b[m\n",
            "\n",
            "sin cambios agregados al commit (usa \"git add\" y/o \"git commit -a\")\n"
          ]
        }
      ],
      "source": [
        "!cd notebook_git && git status"
      ]
    },
    {
      "attachments": {},
      "cell_type": "markdown",
      "metadata": {},
      "source": [
        "Indeed we see that `hola.py` has modifications, so we make a commit with these changes."
      ]
    },
    {
      "cell_type": "code",
      "execution_count": 39,
      "metadata": {},
      "outputs": [
        {
          "name": "stdout",
          "output_type": "stream",
          "text": [
            "[master 60e2ffd] Tercer commot, hola.py\n",
            " 1 file changed, 1 insertion(+)\n"
          ]
        }
      ],
      "source": [
        "!cd notebook_git && git commit -am \"Tercer commot, hola.py\""
      ]
    },
    {
      "attachments": {},
      "cell_type": "markdown",
      "metadata": {},
      "source": [
        "Let's check the commit history"
      ]
    },
    {
      "cell_type": "code",
      "execution_count": 40,
      "metadata": {},
      "outputs": [
        {
          "name": "stdout",
          "output_type": "stream",
          "text": [
            "* \u001b[33m60e2ffd\u001b[m\u001b[33m (\u001b[m\u001b[1;36mHEAD -> \u001b[m\u001b[1;32mmaster\u001b[m\u001b[33m)\u001b[m Tercer commot, hola.py\n",
            "* \u001b[33m6e99e73\u001b[m Segundo commit, hola.py\n",
            "* \u001b[33m1c95e4f\u001b[m Primer commit, hola.py\n"
          ]
        }
      ],
      "source": [
        "!cd notebook_git && git log --graph --oneline --decorate"
      ]
    },
    {
      "attachments": {},
      "cell_type": "markdown",
      "metadata": {},
      "source": [
        "**Oh no!** we wrote `commot` instead of `commit`, so let's modify the message"
      ]
    },
    {
      "cell_type": "code",
      "execution_count": 41,
      "metadata": {},
      "outputs": [
        {
          "name": "stdout",
          "output_type": "stream",
          "text": [
            "[master c4930d7] Tercer commit, hola.py\n",
            " Date: Sun Apr 16 02:29:59 2023 +0200\n",
            " 1 file changed, 1 insertion(+)\n"
          ]
        }
      ],
      "source": [
        "!cd notebook_git && git commit --amend -m \"Tercer commit, hola.py\""
      ]
    },
    {
      "attachments": {},
      "cell_type": "markdown",
      "metadata": {},
      "source": [
        "We revisit the history"
      ]
    },
    {
      "cell_type": "code",
      "execution_count": 42,
      "metadata": {},
      "outputs": [
        {
          "name": "stdout",
          "output_type": "stream",
          "text": [
            "* \u001b[33mc4930d7\u001b[m\u001b[33m (\u001b[m\u001b[1;36mHEAD -> \u001b[m\u001b[1;32mmaster\u001b[m\u001b[33m)\u001b[m Tercer commit, hola.py\n",
            "* \u001b[33m6e99e73\u001b[m Segundo commit, hola.py\n",
            "* \u001b[33m1c95e4f\u001b[m Primer commit, hola.py\n"
          ]
        }
      ],
      "source": [
        "!cd notebook_git && git log --graph --oneline --decorate"
      ]
    },
    {
      "attachments": {},
      "cell_type": "markdown",
      "metadata": {},
      "source": [
        "We see that it is now correct."
      ]
    },
    {
      "attachments": {},
      "cell_type": "markdown",
      "metadata": {},
      "source": [
        "#### Add files to the last commit"
      ]
    },
    {
      "attachments": {},
      "cell_type": "markdown",
      "metadata": {},
      "source": [
        "Suppose we forgot to add a file to the last commit, we simply do a `git add` with that file and then do `git commit --amend -m \"message\"`"
      ]
    },
    {
      "attachments": {},
      "cell_type": "markdown",
      "metadata": {},
      "source": [
        "Let's create two new files"
      ]
    },
    {
      "cell_type": "code",
      "execution_count": 43,
      "metadata": {},
      "outputs": [],
      "source": [
        "!cd notebook_git && echo \"print('Este es el archivo 1')\" > archivo1.py"
      ]
    },
    {
      "cell_type": "code",
      "execution_count": 44,
      "metadata": {},
      "outputs": [],
      "source": [
        "!cd notebook_git && echo \"print('Este es el archivo 2')\" > archivo2.py"
      ]
    },
    {
      "attachments": {},
      "cell_type": "markdown",
      "metadata": {},
      "source": [
        "Now we only commit one"
      ]
    },
    {
      "cell_type": "code",
      "execution_count": 45,
      "metadata": {},
      "outputs": [
        {
          "name": "stdout",
          "output_type": "stream",
          "text": [
            "[master 285b243] Commit con el archivo 1\n",
            " 1 file changed, 1 insertion(+)\n",
            " create mode 100644 archivo1.py\n"
          ]
        }
      ],
      "source": [
        "!cd notebook_git && git add archivo1.py && git commit -m \"Commit con el archivo 1\""
      ]
    },
    {
      "cell_type": "code",
      "execution_count": 46,
      "metadata": {},
      "outputs": [
        {
          "name": "stdout",
          "output_type": "stream",
          "text": [
            "En la rama master\n",
            "Archivos sin seguimiento:\n",
            "  (usa \"git add <archivo>...\" para incluirlo a lo que se ser\u00e1 confirmado)\n",
            "\t\u001b[31marchivo2.py\u001b[m\n",
            "\n",
            "no hay nada agregado al commit pero hay archivos sin seguimiento presentes (usa \"git add\" para hacerles seguimiento)\n"
          ]
        }
      ],
      "source": [
        "!cd notebook_git && git status"
      ]
    },
    {
      "cell_type": "code",
      "execution_count": 47,
      "metadata": {},
      "outputs": [
        {
          "name": "stdout",
          "output_type": "stream",
          "text": [
            "* \u001b[33m285b243\u001b[m\u001b[33m (\u001b[m\u001b[1;36mHEAD -> \u001b[m\u001b[1;32mmaster\u001b[m\u001b[33m)\u001b[m Commit con el archivo 1\n",
            "* \u001b[33mc4930d7\u001b[m Tercer commit, hola.py\n",
            "* \u001b[33m6e99e73\u001b[m Segundo commit, hola.py\n",
            "* \u001b[33m1c95e4f\u001b[m Primer commit, hola.py\n"
          ]
        }
      ],
      "source": [
        "!cd notebook_git && git log --graph --oneline --decorate"
      ]
    },
    {
      "attachments": {},
      "cell_type": "markdown",
      "metadata": {},
      "source": [
        "As we can see, we have left out file 2, so we modify the commit and add file 2."
      ]
    },
    {
      "cell_type": "code",
      "execution_count": 48,
      "metadata": {},
      "outputs": [],
      "source": [
        "!cd notebook_git && git add archivo2.py"
      ]
    },
    {
      "cell_type": "code",
      "execution_count": 49,
      "metadata": {},
      "outputs": [
        {
          "name": "stdout",
          "output_type": "stream",
          "text": [
            "[master 04ebd1f] Commit con los archivos 1 y 2\n",
            " Date: Sun Apr 16 02:30:26 2023 +0200\n",
            " 2 files changed, 2 insertions(+)\n",
            " create mode 100644 archivo1.py\n",
            " create mode 100644 archivo2.py\n"
          ]
        }
      ],
      "source": [
        "!cd notebook_git && git commit --amend -m \"Commit con los archivos 1 y 2\""
      ]
    },
    {
      "cell_type": "code",
      "execution_count": 50,
      "metadata": {},
      "outputs": [
        {
          "name": "stdout",
          "output_type": "stream",
          "text": [
            "En la rama master\n",
            "nada para hacer commit, el \u00e1rbol de trabajo est\u00e1 limpio\n"
          ]
        }
      ],
      "source": [
        "!cd notebook_git && git status"
      ]
    },
    {
      "cell_type": "code",
      "execution_count": 51,
      "metadata": {},
      "outputs": [
        {
          "name": "stdout",
          "output_type": "stream",
          "text": [
            "* \u001b[33m04ebd1f\u001b[m\u001b[33m (\u001b[m\u001b[1;36mHEAD -> \u001b[m\u001b[1;32mmaster\u001b[m\u001b[33m)\u001b[m Commit con los archivos 1 y 2\n",
            "* \u001b[33mc4930d7\u001b[m Tercer commit, hola.py\n",
            "* \u001b[33m6e99e73\u001b[m Segundo commit, hola.py\n",
            "* \u001b[33m1c95e4f\u001b[m Primer commit, hola.py\n"
          ]
        }
      ],
      "source": [
        "!cd notebook_git && git log --graph --oneline --decorate"
      ]
    },
    {
      "attachments": {},
      "cell_type": "markdown",
      "metadata": {},
      "source": [
        "Now the last commit has the two new files"
      ]
    },
    {
      "attachments": {},
      "cell_type": "markdown",
      "metadata": {},
      "source": [
        "### Undo a Commit (`git reset HEAD~1`)"
      ]
    },
    {
      "attachments": {},
      "cell_type": "markdown",
      "metadata": {},
      "source": [
        "With this command, we tell Git to go back one position in the commit history. There are two options: `--soft`, which will not delete the changes we have made, and `--hard`, which will."
      ]
    },
    {
      "attachments": {},
      "cell_type": "markdown",
      "metadata": {},
      "source": [
        "#### Undo a commit while keeping the changes (`git reset --soft HEAD~1`)"
      ]
    },
    {
      "attachments": {},
      "cell_type": "markdown",
      "metadata": {},
      "source": [
        "Let's create a new file"
      ]
    },
    {
      "cell_type": "code",
      "execution_count": 52,
      "metadata": {},
      "outputs": [],
      "source": [
        "!cd notebook_git && echo \"print('Este es el archivo 3')\" > archivo3.py"
      ]
    },
    {
      "attachments": {},
      "cell_type": "markdown",
      "metadata": {},
      "source": [
        "We do a `git status`"
      ]
    },
    {
      "cell_type": "code",
      "execution_count": 53,
      "metadata": {},
      "outputs": [
        {
          "name": "stdout",
          "output_type": "stream",
          "text": [
            "En la rama master\n",
            "Archivos sin seguimiento:\n",
            "  (usa \"git add <archivo>...\" para incluirlo a lo que se ser\u00e1 confirmado)\n",
            "\t\u001b[31marchivo3.py\u001b[m\n",
            "\n",
            "no hay nada agregado al commit pero hay archivos sin seguimiento presentes (usa \"git add\" para hacerles seguimiento)\n"
          ]
        }
      ],
      "source": [
        "!cd notebook_git && git status"
      ]
    },
    {
      "attachments": {},
      "cell_type": "markdown",
      "metadata": {},
      "source": [
        "We make a commit adding this file"
      ]
    },
    {
      "cell_type": "code",
      "execution_count": 54,
      "metadata": {},
      "outputs": [
        {
          "name": "stdout",
          "output_type": "stream",
          "text": [
            "[master 6dc7be6] Commit con el archivos 3\n",
            " 1 file changed, 1 insertion(+)\n",
            " create mode 100644 archivo3.py\n"
          ]
        }
      ],
      "source": [
        "!cd notebook_git && git add archivo3.py && git commit -m \"Commit con el archivos 3\""
      ]
    },
    {
      "cell_type": "code",
      "execution_count": 55,
      "metadata": {},
      "outputs": [
        {
          "name": "stdout",
          "output_type": "stream",
          "text": [
            "* \u001b[33m6dc7be6\u001b[m\u001b[33m (\u001b[m\u001b[1;36mHEAD -> \u001b[m\u001b[1;32mmaster\u001b[m\u001b[33m)\u001b[m Commit con el archivos 3\n",
            "* \u001b[33m04ebd1f\u001b[m Commit con los archivos 1 y 2\n",
            "* \u001b[33mc4930d7\u001b[m Tercer commit, hola.py\n",
            "* \u001b[33m6e99e73\u001b[m Segundo commit, hola.py\n",
            "* \u001b[33m1c95e4f\u001b[m Primer commit, hola.py\n"
          ]
        }
      ],
      "source": [
        "!cd notebook_git && git log --graph --oneline --decorate"
      ]
    },
    {
      "attachments": {},
      "cell_type": "markdown",
      "metadata": {},
      "source": [
        "We see that in the last commit there is `archivo3.py`, let's remove the commit while keeping `archivo3.py`"
      ]
    },
    {
      "cell_type": "code",
      "execution_count": 56,
      "metadata": {},
      "outputs": [],
      "source": [
        "!cd notebook_git && git reset --soft HEAD~1"
      ]
    },
    {
      "attachments": {},
      "cell_type": "markdown",
      "metadata": {},
      "source": [
        "We now run a `git log` to see if the last commit has been removed."
      ]
    },
    {
      "cell_type": "code",
      "execution_count": 57,
      "metadata": {},
      "outputs": [
        {
          "name": "stdout",
          "output_type": "stream",
          "text": [
            "* \u001b[33m04ebd1f\u001b[m\u001b[33m (\u001b[m\u001b[1;36mHEAD -> \u001b[m\u001b[1;32mmaster\u001b[m\u001b[33m)\u001b[m Commit con los archivos 1 y 2\n",
            "* \u001b[33mc4930d7\u001b[m Tercer commit, hola.py\n",
            "* \u001b[33m6e99e73\u001b[m Segundo commit, hola.py\n",
            "* \u001b[33m1c95e4f\u001b[m Primer commit, hola.py\n"
          ]
        }
      ],
      "source": [
        "!cd notebook_git && git log --graph --oneline --decorate"
      ]
    },
    {
      "attachments": {},
      "cell_type": "markdown",
      "metadata": {},
      "source": [
        "Indeed, we see that the last commit has been removed."
      ]
    },
    {
      "attachments": {},
      "cell_type": "markdown",
      "metadata": {},
      "source": [
        "We run a `git status` to check if `archivo3.py` has been preserved."
      ]
    },
    {
      "cell_type": "code",
      "execution_count": 58,
      "metadata": {},
      "outputs": [
        {
          "name": "stdout",
          "output_type": "stream",
          "text": [
            "En la rama master\n",
            "Cambios a ser confirmados:\n",
            "  (usa \"git restore --staged <archivo>...\" para sacar del \u00e1rea de stage)\n",
            "\t\u001b[32mnuevos archivos: archivo3.py\u001b[m\n",
            "\n"
          ]
        }
      ],
      "source": [
        "!cd notebook_git && git status"
      ]
    },
    {
      "attachments": {},
      "cell_type": "markdown",
      "metadata": {},
      "source": [
        "It has been maintained"
      ]
    },
    {
      "attachments": {},
      "cell_type": "markdown",
      "metadata": {},
      "source": [
        "#### Undo a commit by discarding the changes (`git reset --hard HEAD~1`)"
      ]
    },
    {
      "attachments": {},
      "cell_type": "markdown",
      "metadata": {},
      "source": [
        "We have `archivo3.py` that we have created and it is in the staging area"
      ]
    },
    {
      "cell_type": "code",
      "execution_count": 59,
      "metadata": {},
      "outputs": [
        {
          "name": "stdout",
          "output_type": "stream",
          "text": [
            "En la rama master\n",
            "Cambios a ser confirmados:\n",
            "  (usa \"git restore --staged <archivo>...\" para sacar del \u00e1rea de stage)\n",
            "\t\u001b[32mnuevos archivos: archivo3.py\u001b[m\n",
            "\n"
          ]
        }
      ],
      "source": [
        "!cd notebook_git && git status"
      ]
    },
    {
      "attachments": {},
      "cell_type": "markdown",
      "metadata": {},
      "source": [
        "Therefore, we make a commit"
      ]
    },
    {
      "cell_type": "code",
      "execution_count": 60,
      "metadata": {},
      "outputs": [
        {
          "name": "stdout",
          "output_type": "stream",
          "text": [
            "[master 0147d65] Commit con el archivo 3\n",
            " 1 file changed, 1 insertion(+)\n",
            " create mode 100644 archivo3.py\n"
          ]
        }
      ],
      "source": [
        "!cd notebook_git && git commit -m \"Commit con el archivo 3\""
      ]
    },
    {
      "attachments": {},
      "cell_type": "markdown",
      "metadata": {},
      "source": [
        "We run a `git log` to check that there is a commit with this file"
      ]
    },
    {
      "cell_type": "code",
      "execution_count": 61,
      "metadata": {},
      "outputs": [
        {
          "name": "stdout",
          "output_type": "stream",
          "text": [
            "* \u001b[33m0147d65\u001b[m\u001b[33m (\u001b[m\u001b[1;36mHEAD -> \u001b[m\u001b[1;32mmaster\u001b[m\u001b[33m)\u001b[m Commit con el archivo 3\n",
            "* \u001b[33m04ebd1f\u001b[m Commit con los archivos 1 y 2\n",
            "* \u001b[33mc4930d7\u001b[m Tercer commit, hola.py\n",
            "* \u001b[33m6e99e73\u001b[m Segundo commit, hola.py\n",
            "* \u001b[33m1c95e4f\u001b[m Primer commit, hola.py\n"
          ]
        }
      ],
      "source": [
        "!cd notebook_git && git log --graph --oneline --decorate"
      ]
    },
    {
      "attachments": {},
      "cell_type": "markdown",
      "metadata": {},
      "source": [
        "Indeed there is a commit adding `archivo3.py`. Now we will remove this commit by discarding `archivo3.py`."
      ]
    },
    {
      "cell_type": "code",
      "execution_count": 62,
      "metadata": {},
      "outputs": [
        {
          "name": "stdout",
          "output_type": "stream",
          "text": [
            "HEAD est\u00e1 ahora en 04ebd1f Commit con los archivos 1 y 2\n"
          ]
        }
      ],
      "source": [
        "!cd notebook_git && git reset --hard HEAD~1"
      ]
    },
    {
      "attachments": {},
      "cell_type": "markdown",
      "metadata": {},
      "source": [
        "We run a `git log` to check that the last commit has been removed."
      ]
    },
    {
      "cell_type": "code",
      "execution_count": 63,
      "metadata": {},
      "outputs": [
        {
          "name": "stdout",
          "output_type": "stream",
          "text": [
            "* \u001b[33m04ebd1f\u001b[m\u001b[33m (\u001b[m\u001b[1;36mHEAD -> \u001b[m\u001b[1;32mmaster\u001b[m\u001b[33m)\u001b[m Commit con los archivos 1 y 2\n",
            "* \u001b[33mc4930d7\u001b[m Tercer commit, hola.py\n",
            "* \u001b[33m6e99e73\u001b[m Segundo commit, hola.py\n",
            "* \u001b[33m1c95e4f\u001b[m Primer commit, hola.py\n"
          ]
        }
      ],
      "source": [
        "!cd notebook_git && git log --graph --oneline --decorate"
      ]
    },
    {
      "attachments": {},
      "cell_type": "markdown",
      "metadata": {},
      "source": [
        "The commit with `archivo3.py` has been removed, now we run a `git status` to check what happened to `archivo3.py`"
      ]
    },
    {
      "cell_type": "code",
      "execution_count": 64,
      "metadata": {},
      "outputs": [
        {
          "name": "stdout",
          "output_type": "stream",
          "text": [
            "En la rama master\n",
            "nada para hacer commit, el \u00e1rbol de trabajo est\u00e1 limpio\n"
          ]
        }
      ],
      "source": [
        "!cd notebook_git && git status"
      ]
    },
    {
      "attachments": {},
      "cell_type": "markdown",
      "metadata": {},
      "source": [
        "`archivo3.py` does not appear as a file that needs to be committed, let's check if it has indeed been completely removed."
      ]
    },
    {
      "cell_type": "code",
      "execution_count": 65,
      "metadata": {},
      "outputs": [],
      "source": [
        "!cd notebook_git && ls | grep archivo3"
      ]
    },
    {
      "attachments": {},
      "cell_type": "markdown",
      "metadata": {},
      "source": [
        "Indeed, `archivo3.py` has been removed from the file system."
      ]
    },
    {
      "attachments": {},
      "cell_type": "markdown",
      "metadata": {},
      "source": [
        "### Modify a remote commit (`git push --force`)"
      ]
    },
    {
      "attachments": {},
      "cell_type": "markdown",
      "metadata": {},
      "source": [
        "Although later we will see how to synchronize with remote repositories, in the case that you have made a commit, pushed it to a remote repository (`git push`), and then modified the commit locally (because you changed the message or undid the commit), to revert the changes in the remote repository you need to do `git push --force`",
        "\n",
        "> **Careful!**: This command modifies the remote repository's history, so it can affect other people working with that repository. Therefore, use this command with great care and caution. It is better to have a commit history where the first commit has the incorrect description and then a new commit with the correct description, rather than modifying the history."
      ]
    },
    {
      "attachments": {},
      "cell_type": "markdown",
      "metadata": {},
      "source": [
        "### Modify a remote commit (`git push --force-with-lease`)"
      ]
    },
    {
      "attachments": {},
      "cell_type": "markdown",
      "metadata": {},
      "source": [
        "If you are convinced to change the history, at least use `git push --force-with-lease`, which will not modify commits that have been made subsequently."
      ]
    },
    {
      "attachments": {},
      "cell_type": "markdown",
      "metadata": {},
      "source": [
        "### Ignoring files (`.gitignore`)"
      ]
    },
    {
      "attachments": {},
      "cell_type": "markdown",
      "metadata": {},
      "source": [
        "Suppose we have a file with `API key`s, this file we actually don't want to save in the repository, because if we later share this repository, anyone would have access to these keys, so we need to tell git not to track this file.",
        "\n",
        "This is done with the `.gitignore` file, in which we add the path of the files or directories that we do not want git to track.",
        "\n",
        "Let's see it"
      ]
    },
    {
      "attachments": {},
      "cell_type": "markdown",
      "metadata": {},
      "source": [
        "We create the file with the keys"
      ]
    },
    {
      "cell_type": "code",
      "execution_count": 66,
      "metadata": {},
      "outputs": [],
      "source": [
        "!cd notebook_git && touch api_keys.py"
      ]
    },
    {
      "attachments": {},
      "cell_type": "markdown",
      "metadata": {},
      "source": [
        "If we do `git status` we see that Git considers it"
      ]
    },
    {
      "cell_type": "code",
      "execution_count": 67,
      "metadata": {},
      "outputs": [
        {
          "name": "stdout",
          "output_type": "stream",
          "text": [
            "En la rama master\n",
            "Archivos sin seguimiento:\n",
            "  (usa \"git add <archivo>...\" para incluirlo a lo que se ser\u00e1 confirmado)\n",
            "\t\u001b[31mapi_keys.py\u001b[m\n",
            "\n",
            "no hay nada agregado al commit pero hay archivos sin seguimiento presentes (usa \"git add\" para hacerles seguimiento)\n"
          ]
        }
      ],
      "source": [
        "!cd notebook_git && git status"
      ]
    },
    {
      "attachments": {},
      "cell_type": "markdown",
      "metadata": {},
      "source": [
        "If we do nothing, one day we might run a `git add .` and add it to the repository, so for safety, we need to tell git not to track this file. To do this, we create the `.gitignore` file by adding this file."
      ]
    },
    {
      "cell_type": "code",
      "execution_count": 68,
      "metadata": {},
      "outputs": [],
      "source": [
        "!cd notebook_git && echo \"api_keys.py\" >> .gitignore"
      ]
    },
    {
      "attachments": {},
      "cell_type": "markdown",
      "metadata": {},
      "source": [
        "Let's see what happens if we now do `git status`"
      ]
    },
    {
      "cell_type": "code",
      "execution_count": 69,
      "metadata": {},
      "outputs": [
        {
          "name": "stdout",
          "output_type": "stream",
          "text": [
            "En la rama master\n",
            "Archivos sin seguimiento:\n",
            "  (usa \"git add <archivo>...\" para incluirlo a lo que se ser\u00e1 confirmado)\n",
            "\t\u001b[31m.gitignore\u001b[m\n",
            "\n",
            "no hay nada agregado al commit pero hay archivos sin seguimiento presentes (usa \"git add\" para hacerles seguimiento)\n"
          ]
        }
      ],
      "source": [
        "!cd notebook_git && git status"
      ]
    },
    {
      "attachments": {},
      "cell_type": "markdown",
      "metadata": {},
      "source": [
        "We see that git has stopped considering `api_keys.py`, but it does consider `.gitignore`, so we make a commit to add `.gitignore`"
      ]
    },
    {
      "cell_type": "code",
      "execution_count": 70,
      "metadata": {},
      "outputs": [
        {
          "name": "stdout",
          "output_type": "stream",
          "text": [
            "[master 0b09cfa] A\u00f1adido .gitignore\n",
            " 1 file changed, 1 insertion(+)\n",
            " create mode 100644 .gitignore\n"
          ]
        }
      ],
      "source": [
        "!cd notebook_git && git add .gitignore && git commit -m \"A\u00f1adido .gitignore\""
      ]
    },
    {
      "attachments": {},
      "cell_type": "markdown",
      "metadata": {},
      "source": [
        "#### What files to add to the `.gitignore`?"
      ]
    },
    {
      "attachments": {},
      "cell_type": "markdown",
      "metadata": {},
      "source": [
        "* Files containing credentials or API keys (you shouldn't upload them to the repository, just inject them via environment variables)",
        "* Configuration folders of your editor (`/.vscode`)",
        "* Log files",
        "* System files like `.DS_Store`",
        "* Folders generated with static files or builds such as `/dist` or `/build`",
        "* Dependencies that can be downloaded (`/node_modules`)",
        "* Testing coverage (`/coverage`)"
      ]
    },
    {
      "attachments": {},
      "cell_type": "markdown",
      "metadata": {},
      "source": [
        "#### How to always ignore the same files?"
      ]
    },
    {
      "attachments": {},
      "cell_type": "markdown",
      "metadata": {},
      "source": [
        "If for example your IDE always generates the same configuration files, it would be good to tell git to always ignore those files. For this, we create a global `.gitignore`."
      ]
    },
    {
      "cell_type": "code",
      "execution_count": 42,
      "metadata": {},
      "outputs": [],
      "source": [
        "!touch ~/.gitignore_global"
      ]
    },
    {
      "attachments": {},
      "cell_type": "markdown",
      "metadata": {},
      "source": [
        "In my case I will add the directory `__pycache__/`"
      ]
    },
    {
      "cell_type": "code",
      "execution_count": 50,
      "metadata": {},
      "outputs": [],
      "source": [
        "!echo \"__pycache__/\" >> ~/.gitignore_global"
      ]
    },
    {
      "attachments": {},
      "cell_type": "markdown",
      "metadata": {},
      "source": [
        "Now we need to tell Git that this is our global `.gitignore`"
      ]
    },
    {
      "cell_type": "code",
      "execution_count": 54,
      "metadata": {},
      "outputs": [],
      "source": [
        "!git config --global core.excludesfile ~/.gitignore_global"
      ]
    },
    {
      "attachments": {},
      "cell_type": "markdown",
      "metadata": {},
      "source": [
        "Ready, from now on the directory `__pycache__/` will always be ignored."
      ]
    },
    {
      "attachments": {},
      "cell_type": "markdown",
      "metadata": {},
      "source": [
        "GitHub has a [repository](https://github.com/github/gitignore) with `.gitignore`s for many languages, I have based mine on [this one](https://github.com/github/gitignore/blob/main/Python.gitignore) for Python"
      ]
    },
    {
      "attachments": {},
      "cell_type": "markdown",
      "metadata": {},
      "source": [
        "### Remove a file from a commit"
      ]
    },
    {
      "attachments": {},
      "cell_type": "markdown",
      "metadata": {},
      "source": [
        "Let's see how to remove a file from a commit we have made. First, we create two files and commit them."
      ]
    },
    {
      "cell_type": "code",
      "execution_count": 71,
      "metadata": {},
      "outputs": [],
      "source": [
        "!cd notebook_git && echo \"print('Este es el archivo 4')\" > archivo4.py"
      ]
    },
    {
      "cell_type": "code",
      "execution_count": 72,
      "metadata": {},
      "outputs": [],
      "source": [
        "!cd notebook_git && echo \"print('Este es el archivo 5')\" > archivo5.py"
      ]
    },
    {
      "attachments": {},
      "cell_type": "markdown",
      "metadata": {},
      "source": [
        "We make a commit with the two files"
      ]
    },
    {
      "cell_type": "code",
      "execution_count": 73,
      "metadata": {},
      "outputs": [
        {
          "name": "stdout",
          "output_type": "stream",
          "text": [
            "[master e3153a5] Commit con los archivos 4 y 5\n",
            " 2 files changed, 2 insertions(+)\n",
            " create mode 100644 archivo4.py\n",
            " create mode 100644 archivo5.py\n"
          ]
        }
      ],
      "source": [
        "!cd notebook_git && git add archivo4.py archivo5.py && git commit -m \"Commit con los archivos 4 y 5\""
      ]
    },
    {
      "cell_type": "code",
      "execution_count": 74,
      "metadata": {},
      "outputs": [
        {
          "name": "stdout",
          "output_type": "stream",
          "text": [
            "* \u001b[33me3153a5\u001b[m\u001b[33m (\u001b[m\u001b[1;36mHEAD -> \u001b[m\u001b[1;32mmaster\u001b[m\u001b[33m)\u001b[m Commit con los archivos 4 y 5\n",
            "* \u001b[33m0b09cfa\u001b[m A\u00f1adido .gitignore\n",
            "* \u001b[33m04ebd1f\u001b[m Commit con los archivos 1 y 2\n",
            "* \u001b[33mc4930d7\u001b[m Tercer commit, hola.py\n",
            "* \u001b[33m6e99e73\u001b[m Segundo commit, hola.py\n",
            "* \u001b[33m1c95e4f\u001b[m Primer commit, hola.py\n"
          ]
        }
      ],
      "source": [
        "!cd notebook_git && git log --graph --oneline --decorate"
      ]
    },
    {
      "attachments": {},
      "cell_type": "markdown",
      "metadata": {},
      "source": [
        "From here on, there are two options to remove a file from a commit:",
        "* Delete the file and create a new commit",
        "* Undo the commit and create it again without the file"
      ]
    },
    {
      "attachments": {},
      "cell_type": "markdown",
      "metadata": {},
      "source": [
        "#### Delete the file and create a new commit"
      ]
    },
    {
      "attachments": {},
      "cell_type": "markdown",
      "metadata": {},
      "source": [
        "Suppose we want to delete the file `archivo5.py`, so we delete it with `git rm archivo5.py`"
      ]
    },
    {
      "cell_type": "code",
      "execution_count": 75,
      "metadata": {},
      "outputs": [
        {
          "name": "stdout",
          "output_type": "stream",
          "text": [
            "rm 'archivo5.py'\n"
          ]
        }
      ],
      "source": [
        "!cd notebook_git && git rm archivo5.py"
      ]
    },
    {
      "attachments": {},
      "cell_type": "markdown",
      "metadata": {},
      "source": [
        "Let's do a `git status` to see what happens"
      ]
    },
    {
      "cell_type": "code",
      "execution_count": 76,
      "metadata": {},
      "outputs": [
        {
          "name": "stdout",
          "output_type": "stream",
          "text": [
            "En la rama master\n",
            "Cambios a ser confirmados:\n",
            "  (usa \"git restore --staged <archivo>...\" para sacar del \u00e1rea de stage)\n",
            "\t\u001b[32mborrados:        archivo5.py\u001b[m\n",
            "\n"
          ]
        }
      ],
      "source": [
        "!cd notebook_git && git status"
      ]
    },
    {
      "attachments": {},
      "cell_type": "markdown",
      "metadata": {},
      "source": [
        "As we can see, `archivo5.py` has been deleted. Now we create a new commit"
      ]
    },
    {
      "cell_type": "code",
      "execution_count": 77,
      "metadata": {},
      "outputs": [
        {
          "name": "stdout",
          "output_type": "stream",
          "text": [
            "[master ea615a9] Eliminado archivo5.py\n",
            " 1 file changed, 1 deletion(-)\n",
            " delete mode 100644 archivo5.py\n"
          ]
        }
      ],
      "source": [
        "!cd notebook_git && git commit -m \"Eliminado archivo5.py\""
      ]
    },
    {
      "cell_type": "code",
      "execution_count": 78,
      "metadata": {},
      "outputs": [
        {
          "name": "stdout",
          "output_type": "stream",
          "text": [
            "* \u001b[33mea615a9\u001b[m\u001b[33m (\u001b[m\u001b[1;36mHEAD -> \u001b[m\u001b[1;32mmaster\u001b[m\u001b[33m)\u001b[m Eliminado archivo5.py\n",
            "* \u001b[33me3153a5\u001b[m Commit con los archivos 4 y 5\n",
            "* \u001b[33m0b09cfa\u001b[m A\u00f1adido .gitignore\n",
            "* \u001b[33m04ebd1f\u001b[m Commit con los archivos 1 y 2\n",
            "* \u001b[33mc4930d7\u001b[m Tercer commit, hola.py\n",
            "* \u001b[33m6e99e73\u001b[m Segundo commit, hola.py\n",
            "* \u001b[33m1c95e4f\u001b[m Primer commit, hola.py\n"
          ]
        }
      ],
      "source": [
        "!cd notebook_git && git log --graph --oneline --decorate"
      ]
    },
    {
      "attachments": {},
      "cell_type": "markdown",
      "metadata": {},
      "source": [
        "#### Undo the commit and create it again without the file"
      ]
    },
    {
      "attachments": {},
      "cell_type": "markdown",
      "metadata": {},
      "source": [
        "We create two files again and make a commit"
      ]
    },
    {
      "cell_type": "code",
      "execution_count": 79,
      "metadata": {},
      "outputs": [],
      "source": [
        "!cd notebook_git && echo \"print('Este es el archivo 6')\" > archivo6.py && echo \"print('Este es el archivo 7')\" > archivo7.py"
      ]
    },
    {
      "cell_type": "code",
      "execution_count": 80,
      "metadata": {},
      "outputs": [
        {
          "name": "stdout",
          "output_type": "stream",
          "text": [
            "En la rama master\n",
            "Archivos sin seguimiento:\n",
            "  (usa \"git add <archivo>...\" para incluirlo a lo que se ser\u00e1 confirmado)\n",
            "\t\u001b[31marchivo6.py\u001b[m\n",
            "\t\u001b[31marchivo7.py\u001b[m\n",
            "\n",
            "no hay nada agregado al commit pero hay archivos sin seguimiento presentes (usa \"git add\" para hacerles seguimiento)\n"
          ]
        }
      ],
      "source": [
        "!cd notebook_git && git status"
      ]
    },
    {
      "cell_type": "code",
      "execution_count": 81,
      "metadata": {},
      "outputs": [
        {
          "name": "stdout",
          "output_type": "stream",
          "text": [
            "[master d6dc485] Commit con los archivos 6 y 7\n",
            " 2 files changed, 2 insertions(+)\n",
            " create mode 100644 archivo6.py\n",
            " create mode 100644 archivo7.py\n"
          ]
        }
      ],
      "source": [
        "!cd notebook_git && git add archivo6.py archivo7.py && git commit -m \"Commit con los archivos 6 y 7\""
      ]
    },
    {
      "cell_type": "code",
      "execution_count": 82,
      "metadata": {},
      "outputs": [
        {
          "name": "stdout",
          "output_type": "stream",
          "text": [
            "* \u001b[33md6dc485\u001b[m\u001b[33m (\u001b[m\u001b[1;36mHEAD -> \u001b[m\u001b[1;32mmaster\u001b[m\u001b[33m)\u001b[m Commit con los archivos 6 y 7\n",
            "* \u001b[33mea615a9\u001b[m Eliminado archivo5.py\n",
            "* \u001b[33me3153a5\u001b[m Commit con los archivos 4 y 5\n",
            "* \u001b[33m0b09cfa\u001b[m A\u00f1adido .gitignore\n",
            "* \u001b[33m04ebd1f\u001b[m Commit con los archivos 1 y 2\n",
            "* \u001b[33mc4930d7\u001b[m Tercer commit, hola.py\n",
            "* \u001b[33m6e99e73\u001b[m Segundo commit, hola.py\n",
            "* \u001b[33m1c95e4f\u001b[m Primer commit, hola.py\n"
          ]
        }
      ],
      "source": [
        "!cd notebook_git && git log --graph --oneline --decorate"
      ]
    },
    {
      "attachments": {},
      "cell_type": "markdown",
      "metadata": {},
      "source": [
        "First, we undo the last commit with `git reset --soft HEAD~1`"
      ]
    },
    {
      "cell_type": "code",
      "execution_count": 83,
      "metadata": {},
      "outputs": [],
      "source": [
        "!cd notebook_git && git reset --soft HEAD~1"
      ]
    },
    {
      "attachments": {},
      "cell_type": "markdown",
      "metadata": {},
      "source": [
        "We run a `git status` to see what has happened"
      ]
    },
    {
      "cell_type": "code",
      "execution_count": 84,
      "metadata": {},
      "outputs": [
        {
          "name": "stdout",
          "output_type": "stream",
          "text": [
            "En la rama master\n",
            "Cambios a ser confirmados:\n",
            "  (usa \"git restore --staged <archivo>...\" para sacar del \u00e1rea de stage)\n",
            "\t\u001b[32mnuevos archivos: archivo6.py\u001b[m\n",
            "\t\u001b[32mnuevos archivos: archivo7.py\u001b[m\n",
            "\n"
          ]
        }
      ],
      "source": [
        "!cd notebook_git && git status"
      ]
    },
    {
      "attachments": {},
      "cell_type": "markdown",
      "metadata": {},
      "source": [
        "We see that I have undone the commit, but the two files are still in the staging area. Therefore, to remove one of the files from the commit, we first need to take it out of the staging area. To do this, we run `git reset archivo6.py`"
      ]
    },
    {
      "cell_type": "code",
      "execution_count": 85,
      "metadata": {},
      "outputs": [],
      "source": [
        "!cd notebook_git && git reset archivo6.py"
      ]
    },
    {
      "attachments": {},
      "cell_type": "markdown",
      "metadata": {},
      "source": [
        "We run `git status` again"
      ]
    },
    {
      "cell_type": "code",
      "execution_count": 86,
      "metadata": {},
      "outputs": [
        {
          "name": "stdout",
          "output_type": "stream",
          "text": [
            "En la rama master\n",
            "Cambios a ser confirmados:\n",
            "  (usa \"git restore --staged <archivo>...\" para sacar del \u00e1rea de stage)\n",
            "\t\u001b[32mnuevos archivos: archivo7.py\u001b[m\n",
            "\n",
            "Archivos sin seguimiento:\n",
            "  (usa \"git add <archivo>...\" para incluirlo a lo que se ser\u00e1 confirmado)\n",
            "\t\u001b[31marchivo6.py\u001b[m\n",
            "\n"
          ]
        }
      ],
      "source": [
        "!cd notebook_git && git status"
      ]
    },
    {
      "attachments": {},
      "cell_type": "markdown",
      "metadata": {},
      "source": [
        "We see that `archivo7.py` is in the staged area, while `archivo6.py` is no longer there. Now we can delete file 6, for this we use `git clean`"
      ]
    },
    {
      "cell_type": "code",
      "execution_count": 87,
      "metadata": {},
      "outputs": [
        {
          "name": "stdout",
          "output_type": "stream",
          "text": [
            "Ser\u00e1 borrado archivo6.py\n"
          ]
        }
      ],
      "source": [
        "!cd notebook_git && git clean -n"
      ]
    },
    {
      "cell_type": "code",
      "execution_count": 88,
      "metadata": {},
      "outputs": [
        {
          "name": "stdout",
          "output_type": "stream",
          "text": [
            "Borrando archivo6.py\n"
          ]
        }
      ],
      "source": [
        "!cd notebook_git && git clean -f"
      ]
    },
    {
      "attachments": {},
      "cell_type": "markdown",
      "metadata": {},
      "source": [
        "We run `git status` again"
      ]
    },
    {
      "cell_type": "code",
      "execution_count": 89,
      "metadata": {},
      "outputs": [
        {
          "name": "stdout",
          "output_type": "stream",
          "text": [
            "En la rama master\n",
            "Cambios a ser confirmados:\n",
            "  (usa \"git restore --staged <archivo>...\" para sacar del \u00e1rea de stage)\n",
            "\t\u001b[32mnuevos archivos: archivo7.py\u001b[m\n",
            "\n"
          ]
        }
      ],
      "source": [
        "!cd notebook_git && git status"
      ]
    },
    {
      "attachments": {},
      "cell_type": "markdown",
      "metadata": {},
      "source": [
        "As we can see, `archivo.py` is no longer there, so we can make a new commit."
      ]
    },
    {
      "cell_type": "code",
      "execution_count": 90,
      "metadata": {},
      "outputs": [
        {
          "name": "stdout",
          "output_type": "stream",
          "text": [
            "[master 4bb9d75] Commit con el archivo 7\n",
            " 1 file changed, 1 insertion(+)\n",
            " create mode 100644 archivo7.py\n"
          ]
        }
      ],
      "source": [
        "!cd notebook_git && git commit -m \"Commit con el archivo 7\""
      ]
    },
    {
      "cell_type": "code",
      "execution_count": 91,
      "metadata": {},
      "outputs": [
        {
          "name": "stdout",
          "output_type": "stream",
          "text": [
            "* \u001b[33m4bb9d75\u001b[m\u001b[33m (\u001b[m\u001b[1;36mHEAD -> \u001b[m\u001b[1;32mmaster\u001b[m\u001b[33m)\u001b[m Commit con el archivo 7\n",
            "* \u001b[33mea615a9\u001b[m Eliminado archivo5.py\n",
            "* \u001b[33me3153a5\u001b[m Commit con los archivos 4 y 5\n",
            "* \u001b[33m0b09cfa\u001b[m A\u00f1adido .gitignore\n",
            "* \u001b[33m04ebd1f\u001b[m Commit con los archivos 1 y 2\n",
            "* \u001b[33mc4930d7\u001b[m Tercer commit, hola.py\n",
            "* \u001b[33m6e99e73\u001b[m Segundo commit, hola.py\n",
            "* \u001b[33m1c95e4f\u001b[m Primer commit, hola.py\n"
          ]
        }
      ],
      "source": [
        "!cd notebook_git && git log --graph --oneline --decorate"
      ]
    },
    {
      "attachments": {},
      "cell_type": "markdown",
      "metadata": {},
      "source": [
        "We have removed the last commit and overwritten it with a new one, removing the file we wanted."
      ]
    },
    {
      "attachments": {},
      "cell_type": "markdown",
      "metadata": {},
      "source": [
        "### Change history of a file (`git log <file>`)"
      ]
    },
    {
      "attachments": {},
      "cell_type": "markdown",
      "metadata": {},
      "source": [
        "Although we have previously seen how we can view the repository history with `git log`, it might not be of interest to see the history of the entire repository. We may have a bug in a code file that we didn't have at first, so it's possible that we want to see only the history of that file. For this, we use `git log <file>`"
      ]
    },
    {
      "attachments": {},
      "cell_type": "markdown",
      "metadata": {},
      "source": [
        "First we check the files we have"
      ]
    },
    {
      "cell_type": "code",
      "execution_count": 92,
      "metadata": {},
      "outputs": [
        {
          "name": "stdout",
          "output_type": "stream",
          "text": [
            "api_keys.py  archivo1.py  archivo2.py  archivo4.py  archivo7.py  hola.py\n"
          ]
        }
      ],
      "source": [
        "!cd notebook_git && ls"
      ]
    },
    {
      "attachments": {},
      "cell_type": "markdown",
      "metadata": {},
      "source": [
        "Suppose we only want to see the changes in `hola.py`, so we do `git log hola.py`"
      ]
    },
    {
      "cell_type": "code",
      "execution_count": 93,
      "metadata": {},
      "outputs": [
        {
          "name": "stdout",
          "output_type": "stream",
          "text": [
            "* \u001b[33mc4930d7\u001b[m Tercer commit, hola.py\n",
            "* \u001b[33m6e99e73\u001b[m Segundo commit, hola.py\n",
            "* \u001b[33m1c95e4f\u001b[m Primer commit, hola.py\n"
          ]
        }
      ],
      "source": [
        "!cd notebook_git && git log --graph --oneline --decorate hola.py"
      ]
    },
    {
      "attachments": {},
      "cell_type": "markdown",
      "metadata": {},
      "source": [
        "We can see that there are many fewer results than if we had done `git log`"
      ]
    },
    {
      "cell_type": "code",
      "execution_count": 94,
      "metadata": {},
      "outputs": [
        {
          "name": "stdout",
          "output_type": "stream",
          "text": [
            "* \u001b[33m4bb9d75\u001b[m\u001b[33m (\u001b[m\u001b[1;36mHEAD -> \u001b[m\u001b[1;32mmaster\u001b[m\u001b[33m)\u001b[m Commit con el archivo 7\n",
            "* \u001b[33mea615a9\u001b[m Eliminado archivo5.py\n",
            "* \u001b[33me3153a5\u001b[m Commit con los archivos 4 y 5\n",
            "* \u001b[33m0b09cfa\u001b[m A\u00f1adido .gitignore\n",
            "* \u001b[33m04ebd1f\u001b[m Commit con los archivos 1 y 2\n",
            "* \u001b[33mc4930d7\u001b[m Tercer commit, hola.py\n",
            "* \u001b[33m6e99e73\u001b[m Segundo commit, hola.py\n",
            "* \u001b[33m1c95e4f\u001b[m Primer commit, hola.py\n"
          ]
        }
      ],
      "source": [
        "!cd notebook_git && git log --graph --oneline --decorate"
      ]
    },
    {
      "attachments": {},
      "cell_type": "markdown",
      "metadata": {},
      "source": [
        "### View modifications of a file at a specific point in history (`git show <hash> <file>` or `git diff <file>`)"
      ]
    },
    {
      "attachments": {},
      "cell_type": "markdown",
      "metadata": {},
      "source": [
        "Let's assume we already know at which point a change was made to the file that contains a bug, so now we want to know what changes were made to understand what might be causing the bug. For this, we can use `git show <hash> <file>`"
      ]
    },
    {
      "attachments": {},
      "cell_type": "markdown",
      "metadata": {},
      "source": [
        "Let's see what changes were made in `hola.py` in the hash `c4930d7`, that is, when the third commit was made."
      ]
    },
    {
      "cell_type": "code",
      "execution_count": 98,
      "metadata": {},
      "outputs": [
        {
          "name": "stdout",
          "output_type": "stream",
          "text": [
            "\u001b[33mcommit c4930d7267c3f8df389ab0cb1bda0b5fceabb5c2\u001b[m\n",
            "Author: maximofn <maximofn@gmail.com>\n",
            "Date:   Sun Apr 16 02:29:59 2023 +0200\n",
            "\n",
            "    Tercer commit, hola.py\n",
            "\n",
            "\u001b[1mdiff --git a/hola.py b/hola.py\u001b[m\n",
            "\u001b[1mindex 91dee80..33bdb99 100644\u001b[m\n",
            "\u001b[1m--- a/hola.py\u001b[m\n",
            "\u001b[1m+++ b/hola.py\u001b[m\n",
            "\u001b[36m@@ -1,2 +1,3 @@\u001b[m\n",
            " print('Hola mundo')\u001b[m\n",
            " print('He a\u00f1adido una nueva linea')\u001b[m\n",
            "\u001b[32m+\u001b[m\u001b[32mprint('Esta es la tercera linea')\u001b[m\n"
          ]
        }
      ],
      "source": [
        "!cd notebook_git && git show c4930d7 hola.py"
      ]
    },
    {
      "attachments": {},
      "cell_type": "markdown",
      "metadata": {},
      "source": [
        "The way to view changes in git is not very intuitive, but we can see that the line `print('This is the third line')` has been added."
      ]
    },
    {
      "attachments": {},
      "cell_type": "markdown",
      "metadata": {},
      "source": [
        "Another way to view changes is with `git diff`, we have two options: we can see the changes in the file at the current moment compared to a specific point in history. For this, we do `git diff <hash> <file>`.",
        "\n",
        "For example, if we want to see the changes of `hola.py` from when the first commit (hash `1c95e4f`) was made compared to the current situation, we need to enter (`git diff 1c95e4f hola.py`)"
      ]
    },
    {
      "cell_type": "code",
      "execution_count": 99,
      "metadata": {},
      "outputs": [
        {
          "name": "stdout",
          "output_type": "stream",
          "text": [
            "\u001b[1mdiff --git a/hola.py b/hola.py\u001b[m\n",
            "\u001b[1mindex f140969..33bdb99 100644\u001b[m\n",
            "\u001b[1m--- a/hola.py\u001b[m\n",
            "\u001b[1m+++ b/hola.py\u001b[m\n",
            "\u001b[36m@@ -1 +1,3 @@\u001b[m\n",
            " print('Hola mundo')\u001b[m\n",
            "\u001b[32m+\u001b[m\u001b[32mprint('He a\u00f1adido una nueva linea')\u001b[m\n",
            "\u001b[32m+\u001b[m\u001b[32mprint('Esta es la tercera linea')\u001b[m\n"
          ]
        }
      ],
      "source": [
        "!cd notebook_git && git diff 1c95e4f hola.py"
      ]
    },
    {
      "attachments": {},
      "cell_type": "markdown",
      "metadata": {},
      "source": [
        "But if what we want is to see the difference between a specific point in history and another specific point, we need to introduce the hashes of the two moments, that is `git diff <hash1> <hash2> <file>`",
        "\n",
        "If we want to see the changes in `hola.py` between the second commit (hash `6e99e73`) and the first commit (hash `1c95e4f`), we would need to enter `git diff 1c95e4f 6e99e73 hola.py`"
      ]
    },
    {
      "cell_type": "code",
      "execution_count": 101,
      "metadata": {},
      "outputs": [
        {
          "name": "stdout",
          "output_type": "stream",
          "text": [
            "\u001b[1mdiff --git a/hola.py b/hola.py\u001b[m\n",
            "\u001b[1mindex f140969..91dee80 100644\u001b[m\n",
            "\u001b[1m--- a/hola.py\u001b[m\n",
            "\u001b[1m+++ b/hola.py\u001b[m\n",
            "\u001b[36m@@ -1 +1,2 @@\u001b[m\n",
            " print('Hola mundo')\u001b[m\n",
            "\u001b[32m+\u001b[m\u001b[32mprint('He a\u00f1adido una nueva linea')\u001b[m\n"
          ]
        }
      ],
      "source": [
        "!cd notebook_git && git diff 1c95e4f 6e99e73 hola.py"
      ]
    },
    {
      "attachments": {},
      "cell_type": "markdown",
      "metadata": {},
      "source": [
        "The above shows the changes of the second commit with respect to the first, but if what we want is the changes of the first commit with respect to the second, we just need to put the hashes in reverse order, that is `git diff 6e99e73 1c95e4f hola.py`"
      ]
    },
    {
      "cell_type": "code",
      "execution_count": 102,
      "metadata": {},
      "outputs": [
        {
          "name": "stdout",
          "output_type": "stream",
          "text": [
            "\u001b[1mdiff --git a/hola.py b/hola.py\u001b[m\n",
            "\u001b[1mindex 91dee80..f140969 100644\u001b[m\n",
            "\u001b[1m--- a/hola.py\u001b[m\n",
            "\u001b[1m+++ b/hola.py\u001b[m\n",
            "\u001b[36m@@ -1,2 +1 @@\u001b[m\n",
            " print('Hola mundo')\u001b[m\n",
            "\u001b[31m-print('He a\u00f1adido una nueva linea')\u001b[m\n"
          ]
        }
      ],
      "source": [
        "!cd notebook_git && git diff 6e99e73 1c95e4f hola.py"
      ]
    },
    {
      "attachments": {},
      "cell_type": "markdown",
      "metadata": {},
      "source": [
        "### Journey to the past (`git reset --hard <hash>` or `git reset --soft <hash>`)"
      ]
    },
    {
      "attachments": {},
      "cell_type": "markdown",
      "metadata": {},
      "source": [
        "Let's imagine we've found that everything we did after generating the bug is useless and we need to go back to working from that point. We can revert to a position in the history using `git reset --hard <hash>` (this will not keep the changes) or `git reset --soft <hash>` (this will keep the changes)."
      ]
    },
    {
      "attachments": {},
      "cell_type": "markdown",
      "metadata": {},
      "source": [
        "Let's first look at the history"
      ]
    },
    {
      "cell_type": "code",
      "execution_count": 103,
      "metadata": {},
      "outputs": [
        {
          "name": "stdout",
          "output_type": "stream",
          "text": [
            "* \u001b[33m4bb9d75\u001b[m\u001b[33m (\u001b[m\u001b[1;36mHEAD -> \u001b[m\u001b[1;32mmaster\u001b[m\u001b[33m)\u001b[m Commit con el archivo 7\n",
            "* \u001b[33mea615a9\u001b[m Eliminado archivo5.py\n",
            "* \u001b[33me3153a5\u001b[m Commit con los archivos 4 y 5\n",
            "* \u001b[33m0b09cfa\u001b[m A\u00f1adido .gitignore\n",
            "* \u001b[33m04ebd1f\u001b[m Commit con los archivos 1 y 2\n",
            "* \u001b[33mc4930d7\u001b[m Tercer commit, hola.py\n",
            "* \u001b[33m6e99e73\u001b[m Segundo commit, hola.py\n",
            "* \u001b[33m1c95e4f\u001b[m Primer commit, hola.py\n"
          ]
        }
      ],
      "source": [
        "!cd notebook_git && git log --graph --oneline --decorate"
      ]
    },
    {
      "attachments": {},
      "cell_type": "markdown",
      "metadata": {},
      "source": [
        "Suppose we want to go back to the moment when we made the third commit (hash `c4930d7`), and we do this without keeping the changes, meaning all modifications made afterward will be deleted. We run `git reset --hard c4930d7`"
      ]
    },
    {
      "attachments": {},
      "cell_type": "markdown",
      "metadata": {},
      "source": [
        "First we do `ls` to see the files we have now"
      ]
    },
    {
      "cell_type": "code",
      "execution_count": 104,
      "metadata": {},
      "outputs": [
        {
          "name": "stdout",
          "output_type": "stream",
          "text": [
            "api_keys.py  archivo1.py  archivo2.py  archivo4.py  archivo7.py  hola.py\n"
          ]
        }
      ],
      "source": [
        "!cd notebook_git && ls"
      ]
    },
    {
      "attachments": {},
      "cell_type": "markdown",
      "metadata": {},
      "source": [
        "Let's go to the third commit"
      ]
    },
    {
      "cell_type": "code",
      "execution_count": 105,
      "metadata": {},
      "outputs": [
        {
          "name": "stdout",
          "output_type": "stream",
          "text": [
            "HEAD est\u00e1 ahora en c4930d7 Tercer commit, hola.py\n"
          ]
        }
      ],
      "source": [
        "!cd notebook_git && git reset --hard c4930d7"
      ]
    },
    {
      "attachments": {},
      "cell_type": "markdown",
      "metadata": {},
      "source": [
        "If we do `ls` we will see that we no longer have `archivo1.py`, `archivo2.py`, `archivo4.py`, nor `archivo7.py`."
      ]
    },
    {
      "cell_type": "code",
      "execution_count": 106,
      "metadata": {},
      "outputs": [
        {
          "name": "stdout",
          "output_type": "stream",
          "text": [
            "api_keys.py  hola.py\n"
          ]
        }
      ],
      "source": [
        "!cd notebook_git && ls"
      ]
    },
    {
      "attachments": {},
      "cell_type": "markdown",
      "metadata": {},
      "source": [
        "### Back to the Future (`git reflog`)"
      ]
    },
    {
      "attachments": {},
      "cell_type": "markdown",
      "metadata": {},
      "source": [
        "Suppose we regret our decision and want to go back to where we were, to the last point in history. One way would be to do `git reset --hard <hash>`. But let's imagine we don't know the hash because we didn't run `git log` before, and if we do it now, it only gives us information about the history up to the third commit."
      ]
    },
    {
      "cell_type": "code",
      "execution_count": 107,
      "metadata": {},
      "outputs": [
        {
          "name": "stdout",
          "output_type": "stream",
          "text": [
            "* \u001b[33mc4930d7\u001b[m\u001b[33m (\u001b[m\u001b[1;36mHEAD -> \u001b[m\u001b[1;32mmaster\u001b[m\u001b[33m)\u001b[m Tercer commit, hola.py\n",
            "* \u001b[33m6e99e73\u001b[m Segundo commit, hola.py\n",
            "* \u001b[33m1c95e4f\u001b[m Primer commit, hola.py\n"
          ]
        }
      ],
      "source": [
        "!cd notebook_git && git log --graph --oneline --decorate"
      ]
    },
    {
      "attachments": {},
      "cell_type": "markdown",
      "metadata": {},
      "source": [
        "Here what we can do is `git reflog`, which will give us a history including the jumps"
      ]
    },
    {
      "cell_type": "code",
      "execution_count": 108,
      "metadata": {},
      "outputs": [
        {
          "name": "stdout",
          "output_type": "stream",
          "text": [
            "\u001b[33mc4930d7\u001b[m\u001b[33m (\u001b[m\u001b[1;36mHEAD -> \u001b[m\u001b[1;32mmaster\u001b[m\u001b[33m)\u001b[m HEAD@{0}: reset: moving to c4930d7\n",
            "\u001b[33m4bb9d75\u001b[m HEAD@{1}: commit: Commit con el archivo 7\n",
            "\u001b[33mea615a9\u001b[m HEAD@{2}: reset: moving to HEAD~1\n",
            "\u001b[33md6dc485\u001b[m HEAD@{3}: commit: Commit con los archivos 6 y 7\n",
            "\u001b[33mea615a9\u001b[m HEAD@{4}: commit: Eliminado archivo5.py\n",
            "\u001b[33me3153a5\u001b[m HEAD@{5}: commit: Commit con los archivos 4 y 5\n",
            "\u001b[33m0b09cfa\u001b[m HEAD@{6}: commit: A\u00f1adido .gitignore\n",
            "\u001b[33m04ebd1f\u001b[m HEAD@{7}: reset: moving to HEAD~1\n",
            "\u001b[33m0147d65\u001b[m HEAD@{8}: commit: Commit con el archivo 3\n",
            "\u001b[33m04ebd1f\u001b[m HEAD@{9}: reset: moving to HEAD~1\n",
            "\u001b[33m6dc7be6\u001b[m HEAD@{10}: commit: Commit con el archivos 3\n",
            "\u001b[33m04ebd1f\u001b[m HEAD@{11}: commit (amend): Commit con los archivos 1 y 2\n",
            "\u001b[33m285b243\u001b[m HEAD@{12}: commit: Commit con el archivo 1\n",
            "\u001b[33mc4930d7\u001b[m\u001b[33m (\u001b[m\u001b[1;36mHEAD -> \u001b[m\u001b[1;32mmaster\u001b[m\u001b[33m)\u001b[m HEAD@{13}: commit (amend): Tercer commit, hola.py\n",
            "\u001b[33m60e2ffd\u001b[m HEAD@{14}: commit: Tercer commot, hola.py\n",
            "\u001b[33m6e99e73\u001b[m HEAD@{15}: commit: Segundo commit, hola.py\n",
            "\u001b[33m1c95e4f\u001b[m HEAD@{16}: commit (initial): Primer commit, hola.py\n"
          ]
        }
      ],
      "source": [
        "!cd notebook_git && git reflog"
      ]
    },
    {
      "attachments": {},
      "cell_type": "markdown",
      "metadata": {},
      "source": [
        "We can see that it tells us we were at the commit with hash `4bb9d75`, which is the last commit we made, and from there we went back to the commit with hash `c4930d7`, which if you notice, is the same hash as the commit with message `Tercer commit, hola.py`. So now that we know the hash of the last commit, `4bb9d75`, to return to the position of the last commit we do `git reset --hard 4bb9d75`"
      ]
    },
    {
      "cell_type": "code",
      "execution_count": 109,
      "metadata": {},
      "outputs": [
        {
          "name": "stdout",
          "output_type": "stream",
          "text": [
            "HEAD est\u00e1 ahora en 4bb9d75 Commit con el archivo 7\n"
          ]
        }
      ],
      "source": [
        "!cd notebook_git && git reset --hard 4bb9d75"
      ]
    },
    {
      "attachments": {},
      "cell_type": "markdown",
      "metadata": {},
      "source": [
        "If we now run a log again"
      ]
    },
    {
      "cell_type": "code",
      "execution_count": 110,
      "metadata": {},
      "outputs": [
        {
          "name": "stdout",
          "output_type": "stream",
          "text": [
            "* \u001b[33m4bb9d75\u001b[m\u001b[33m (\u001b[m\u001b[1;36mHEAD -> \u001b[m\u001b[1;32mmaster\u001b[m\u001b[33m)\u001b[m Commit con el archivo 7\n",
            "* \u001b[33mea615a9\u001b[m Eliminado archivo5.py\n",
            "* \u001b[33me3153a5\u001b[m Commit con los archivos 4 y 5\n",
            "* \u001b[33m0b09cfa\u001b[m A\u00f1adido .gitignore\n",
            "* \u001b[33m04ebd1f\u001b[m Commit con los archivos 1 y 2\n",
            "* \u001b[33mc4930d7\u001b[m Tercer commit, hola.py\n",
            "* \u001b[33m6e99e73\u001b[m Segundo commit, hola.py\n",
            "* \u001b[33m1c95e4f\u001b[m Primer commit, hola.py\n"
          ]
        }
      ],
      "source": [
        "!cd notebook_git && git log --graph --oneline --decorate"
      ]
    },
    {
      "attachments": {},
      "cell_type": "markdown",
      "metadata": {},
      "source": [
        "We see that we are indeed at the position of the last commit, *we have returned to the future*"
      ]
    },
    {
      "attachments": {},
      "cell_type": "markdown",
      "metadata": {},
      "source": [
        "### File Search (`git grep <word>`)"
      ]
    },
    {
      "attachments": {},
      "cell_type": "markdown",
      "metadata": {},
      "source": [
        "If we want to search within files, we can do it with the `git grep` command. Since the repository we have been working on is very small and has very few files, we are going to download a new one using a command that we will see in more detail later."
      ]
    },
    {
      "cell_type": "code",
      "execution_count": 5,
      "metadata": {},
      "outputs": [
        {
          "name": "stdout",
          "output_type": "stream",
          "text": [
            "Clonando en 'segment-anything'...\n",
            "remote: Enumerating objects: 279, done.\u001b[K\n",
            "remote: Counting objects: 100% (181/181), done.\u001b[K\n",
            "remote: Compressing objects: 100% (77/77), done.\u001b[K\n",
            "remote: Total 279 (delta 116), reused 104 (delta 104), pack-reused 98\u001b[K\n",
            "Recibiendo objetos: 100% (279/279), 18.31 MiB | 21.25 MiB/s, listo.\n",
            "Resolviendo deltas: 100% (140/140), listo.\n"
          ]
        }
      ],
      "source": [
        "!git clone https://github.com/facebookresearch/segment-anything.git"
      ]
    },
    {
      "attachments": {},
      "cell_type": "markdown",
      "metadata": {},
      "source": [
        "The repository we have downloaded is the source code of SAM, a neural network by Meta for segmenting any object. We enter the repository folder and look for, for example, how many times the word `softmax` has been written."
      ]
    },
    {
      "cell_type": "code",
      "execution_count": 8,
      "metadata": {},
      "outputs": [
        {
          "name": "stdout",
          "output_type": "stream",
          "text": [
            "segment_anything/modeling/image_encoder.py\u001b[36m:\u001b[m        attn = attn.\u001b[1;31msoftmax\u001b[m(dim=-1)\n",
            "segment_anything/modeling/transformer.py\u001b[36m:\u001b[m        attn = torch.\u001b[1;31msoftmax\u001b[m(attn, dim=-1)\n"
          ]
        }
      ],
      "source": [
        "!cd segment-anything && git grep softmax"
      ]
    },
    {
      "attachments": {},
      "cell_type": "markdown",
      "metadata": {},
      "source": [
        "We see that changes have been made in the files `segment_anything/modeling/image_encoder.py` and `segment_anything/modeling/transformer.py`."
      ]
    },
    {
      "attachments": {},
      "cell_type": "markdown",
      "metadata": {},
      "source": [
        "If we now also want to know on which lines of the files the text has been written, we use the flag `-n`"
      ]
    },
    {
      "cell_type": "code",
      "execution_count": 9,
      "metadata": {},
      "outputs": [
        {
          "name": "stdout",
          "output_type": "stream",
          "text": [
            "segment_anything/modeling/image_encoder.py\u001b[36m:\u001b[m236\u001b[36m:\u001b[m        attn = attn.\u001b[1;31msoftmax\u001b[m(dim=-1)\n",
            "segment_anything/modeling/transformer.py\u001b[36m:\u001b[m233\u001b[36m:\u001b[m        attn = torch.\u001b[1;31msoftmax\u001b[m(attn, dim=-1)\n"
          ]
        }
      ],
      "source": [
        "!cd segment-anything && git grep -n softmax"
      ]
    },
    {
      "attachments": {},
      "cell_type": "markdown",
      "metadata": {},
      "source": [
        "If what we want is to count how many times a word appears, we can use the `-c` flag"
      ]
    },
    {
      "cell_type": "code",
      "execution_count": 10,
      "metadata": {},
      "outputs": [
        {
          "name": "stdout",
          "output_type": "stream",
          "text": [
            "segment_anything/modeling/image_encoder.py\u001b[36m:\u001b[m1\n",
            "segment_anything/modeling/transformer.py\u001b[36m:\u001b[m1\n"
          ]
        }
      ],
      "source": [
        "!cd segment-anything && git grep -c softmax"
      ]
    },
    {
      "attachments": {},
      "cell_type": "markdown",
      "metadata": {},
      "source": [
        "And we see that it appears once in each file"
      ]
    },
    {
      "attachments": {},
      "cell_type": "markdown",
      "metadata": {},
      "source": [
        "And it tells us that they are on lines 236 and 233 respectively."
      ]
    },
    {
      "attachments": {},
      "cell_type": "markdown",
      "metadata": {},
      "source": [
        "### Searching in Commits (`git log -S <word>`)"
      ]
    },
    {
      "attachments": {},
      "cell_type": "markdown",
      "metadata": {},
      "source": [
        "If we want to search through the commit history, we can use the command `git log -S <word>`. For example, let's search for the word `fix` in the commit history of the repository we downloaded earlier."
      ]
    },
    {
      "cell_type": "code",
      "execution_count": 19,
      "metadata": {},
      "outputs": [
        {
          "name": "stdout",
          "output_type": "stream",
          "text": [
            "\u001b[33mcommit 2780a301de4483e5c46edb230ea781556159c658\u001b[m\n",
            "Author: Eric Mintun <eric.mintun@gmail.com>\n",
            "Date:   Mon Apr 10 10:50:17 2023 -0700\n",
            "\n",
            "    Fix typo in notebook 'using_collab'->'using_colab' in other two notebooks.\n",
            "\n",
            "\u001b[33mcommit 2c11ea23525970ac288f23dc74b203bcbfb4cc6a\u001b[m\n",
            "Author: jp-x-g <jpxg-dev@protonmail.com>\n",
            "Date:   Thu Apr 6 20:00:04 2023 -0700\n",
            "\n",
            "    fix parameter name\n",
            "    \n",
            "    \"using_collab\" does not appear in subsequent text, replacing with \"using_colab\"\n",
            "\n",
            "\u001b[33mcommit b47d02d68c308672751be29742fcef02a86e2f02\u001b[m\n",
            "Author: Eric Mintun <eric.mintun@gmail.com>\n",
            "Date:   Wed Apr 5 06:13:09 2023 -0700\n",
            "\n",
            "    Fix broken links in notebook Colab setup.\n",
            "\n",
            "\u001b[33mcommit 571794162e0887c15d12b809505b902c7bf8b4db\u001b[m\n",
            "Author: Eric Mintun <eric.mintun@gmail.com>\n",
            "Date:   Tue Apr 4 22:25:49 2023 -0700\n",
            "\n",
            "    Initial commit\n"
          ]
        }
      ],
      "source": [
        "!cd segment-anything && git log -S \"collab\""
      ]
    },
    {
      "attachments": {},
      "cell_type": "markdown",
      "metadata": {},
      "source": [
        "We delete the SAM folder"
      ]
    },
    {
      "cell_type": "code",
      "execution_count": null,
      "metadata": {},
      "outputs": [],
      "source": [
        "!rm -r segment-anything"
      ]
    },
    {
      "attachments": {},
      "cell_type": "markdown",
      "metadata": {},
      "source": [
        "## Branches"
      ]
    },
    {
      "attachments": {},
      "cell_type": "markdown",
      "metadata": {},
      "source": [
        "![branches](https://images.maximofn.com/GIT-Branchand-its-Operations.webp)",
        "\n",
        "The use of branches is very useful, as we can start developing a new feature without having to modify the original code."
      ]
    },
    {
      "attachments": {},
      "cell_type": "markdown",
      "metadata": {},
      "source": [
        "### Create a branch (`git branch <branch name>`)"
      ]
    },
    {
      "attachments": {},
      "cell_type": "markdown",
      "metadata": {},
      "source": [
        "> **Note**: Before anything else, it should be mentioned that to create a branch in a repository there must be at least one commit. If you try to create a branch before making the first commit, you will receive an error."
      ]
    },
    {
      "attachments": {},
      "cell_type": "markdown",
      "metadata": {},
      "source": [
        "To create a branch we use the command `git branch <branch name>`"
      ]
    },
    {
      "cell_type": "code",
      "execution_count": 111,
      "metadata": {},
      "outputs": [],
      "source": [
        "!cd notebook_git && git branch new_branch"
      ]
    },
    {
      "attachments": {},
      "cell_type": "markdown",
      "metadata": {},
      "source": [
        "### List branches (`git branch`)"
      ]
    },
    {
      "attachments": {},
      "cell_type": "markdown",
      "metadata": {},
      "source": [
        "We have created our first branch, we can check all the branches we have created by simply writing `git branch`"
      ]
    },
    {
      "cell_type": "code",
      "execution_count": 112,
      "metadata": {},
      "outputs": [
        {
          "name": "stdout",
          "output_type": "stream",
          "text": [
            "* \u001b[32mmaster\u001b[m\n",
            "  new_branch\u001b[m\n"
          ]
        }
      ],
      "source": [
        "!cd notebook_git && git branch"
      ]
    },
    {
      "attachments": {},
      "cell_type": "markdown",
      "metadata": {},
      "source": [
        "In addition to listing, it tells us with an asterisk `*` which branch we are on, in this case the `master` branch."
      ]
    },
    {
      "attachments": {},
      "cell_type": "markdown",
      "metadata": {},
      "source": [
        "### Rename branches, farewell to the `master` branch (`git branch -m <old name> <new name>`)"
      ]
    },
    {
      "attachments": {},
      "cell_type": "markdown",
      "metadata": {},
      "source": [
        "Historically in git the main branch has been called `master`, but this has negative historical connotations due to the `master-slave` concept, which refers to the suffering many people endured. Therefore, it is now common to refer to the main branch as `main`. To rename the branch, we use `git branch -m master main`."
      ]
    },
    {
      "cell_type": "code",
      "execution_count": 113,
      "metadata": {},
      "outputs": [],
      "source": [
        "!cd notebook_git && git branch -m master main"
      ]
    },
    {
      "attachments": {},
      "cell_type": "markdown",
      "metadata": {},
      "source": [
        "We list the branches"
      ]
    },
    {
      "cell_type": "code",
      "execution_count": 114,
      "metadata": {},
      "outputs": [
        {
          "name": "stdout",
          "output_type": "stream",
          "text": [
            "* \u001b[32mmain\u001b[m\n",
            "  new_branch\u001b[m\n"
          ]
        }
      ],
      "source": [
        "!cd notebook_git && git branch"
      ]
    },
    {
      "attachments": {},
      "cell_type": "markdown",
      "metadata": {},
      "source": [
        "As we can see, we have been able to change the name of the main branch from `master` to `main`"
      ]
    },
    {
      "attachments": {},
      "cell_type": "markdown",
      "metadata": {},
      "source": [
        "### Switch branches (`git switch <branch>`)"
      ]
    },
    {
      "attachments": {},
      "cell_type": "markdown",
      "metadata": {},
      "source": [
        "If we want to switch branches, we just need to write `git switch <branch name>`"
      ]
    },
    {
      "cell_type": "code",
      "execution_count": 115,
      "metadata": {},
      "outputs": [
        {
          "name": "stdout",
          "output_type": "stream",
          "text": [
            "Cambiado a rama 'new_branch'\n"
          ]
        }
      ],
      "source": [
        "!cd notebook_git && git switch new_branch"
      ]
    },
    {
      "attachments": {},
      "cell_type": "markdown",
      "metadata": {},
      "source": [
        "Let's check which branch we are on with `git branch`"
      ]
    },
    {
      "cell_type": "code",
      "execution_count": 116,
      "metadata": {},
      "outputs": [
        {
          "name": "stdout",
          "output_type": "stream",
          "text": [
            "  main\u001b[m\n",
            "* \u001b[32mnew_branch\u001b[m\n"
          ]
        }
      ],
      "source": [
        "!cd notebook_git && git branch"
      ]
    },
    {
      "attachments": {},
      "cell_type": "markdown",
      "metadata": {},
      "source": [
        "As we can see, we have switched to the new_branch."
      ]
    },
    {
      "attachments": {},
      "cell_type": "markdown",
      "metadata": {},
      "source": [
        "If we want to create and switch to a branch in a single command, we can use `git switch -c <branch name>`"
      ]
    },
    {
      "cell_type": "code",
      "execution_count": 117,
      "metadata": {},
      "outputs": [
        {
          "name": "stdout",
          "output_type": "stream",
          "text": [
            "Cambiado a nueva rama 'new_branch2'\n"
          ]
        }
      ],
      "source": [
        "!cd notebook_git && git switch -c new_branch2"
      ]
    },
    {
      "attachments": {},
      "cell_type": "markdown",
      "metadata": {},
      "source": [
        "Let's check which branch we are on"
      ]
    },
    {
      "cell_type": "code",
      "execution_count": 118,
      "metadata": {},
      "outputs": [
        {
          "name": "stdout",
          "output_type": "stream",
          "text": [
            "  main\u001b[m\n",
            "  new_branch\u001b[m\n",
            "* \u001b[32mnew_branch2\u001b[m\n"
          ]
        }
      ],
      "source": [
        "!cd notebook_git && git branch"
      ]
    },
    {
      "attachments": {},
      "cell_type": "markdown",
      "metadata": {},
      "source": [
        "We have created and switched branches with a single command"
      ]
    },
    {
      "attachments": {},
      "cell_type": "markdown",
      "metadata": {},
      "source": [
        "### Get the current branch (`git branch --show-current`)"
      ]
    },
    {
      "attachments": {},
      "cell_type": "markdown",
      "metadata": {},
      "source": [
        "As we have seen so far with `git branch` we can get a list of all branches and also see which one we are currently on. However, in the case where we have a large number of branches, which can happen in a team with many people, it is better to get only the current branch without getting a list of all branches. For this, we use `git branch --show-current`"
      ]
    },
    {
      "cell_type": "code",
      "execution_count": 119,
      "metadata": {},
      "outputs": [
        {
          "name": "stdout",
          "output_type": "stream",
          "text": [
            "new_branch2\n"
          ]
        }
      ],
      "source": [
        "!cd notebook_git && git branch --show-current"
      ]
    },
    {
      "attachments": {},
      "cell_type": "markdown",
      "metadata": {},
      "source": [
        "### List of most recent branches (`git branch --sort=-committerdate`)"
      ]
    },
    {
      "attachments": {},
      "cell_type": "markdown",
      "metadata": {},
      "source": [
        "In case of having many branches, we might be interested in knowing which ones are the most recent to see which were the last created and where the latest development should be. For this, we use `git branch --sort=-committerdate`"
      ]
    },
    {
      "cell_type": "code",
      "execution_count": 120,
      "metadata": {},
      "outputs": [
        {
          "name": "stdout",
          "output_type": "stream",
          "text": [
            "* \u001b[32mnew_branch2\u001b[m\n",
            "  new_branch\u001b[m\n",
            "  main\u001b[m\n"
          ]
        }
      ],
      "source": [
        "!cd notebook_git && git branch --sort=-committerdate"
      ]
    },
    {
      "attachments": {},
      "cell_type": "markdown",
      "metadata": {},
      "source": [
        "As we can see, he has ordered them in reverse order of when we created them."
      ]
    },
    {
      "attachments": {},
      "cell_type": "markdown",
      "metadata": {},
      "source": [
        "### The deprecated `git checkout` command"
      ]
    },
    {
      "attachments": {},
      "cell_type": "markdown",
      "metadata": {},
      "source": [
        "Until recently, the command to create branches and switch between them was `git checkout`, but this command does more than that; it also restores the working directory. However, this goes against the Linux philosophy, which is why the commands `git branch`, `git switch`, and `git restore` were created to split this functionality."
      ]
    },
    {
      "attachments": {},
      "cell_type": "markdown",
      "metadata": {},
      "source": [
        "### Merging branches (`git merge`)"
      ]
    },
    {
      "attachments": {},
      "cell_type": "markdown",
      "metadata": {},
      "source": [
        "As we have said, creating branches is very useful for developing new features without affecting the rest of the team. But when they are finished, they need to be brought into the main branch, for which we use the command `git merge <branch>`",
        "\n",
        "> **Important**: We need to be on the branch that will adopt the changes. That is, if we want to merge the changes made in the branch `new_branch2` into the branch `main`, we first need to make sure we are on the branch `main`."
      ]
    },
    {
      "attachments": {},
      "cell_type": "markdown",
      "metadata": {},
      "source": [
        "First we check which branch we are on"
      ]
    },
    {
      "cell_type": "code",
      "execution_count": 121,
      "metadata": {},
      "outputs": [
        {
          "name": "stdout",
          "output_type": "stream",
          "text": [
            "new_branch2\n"
          ]
        }
      ],
      "source": [
        "!cd notebook_git && git branch --show-current"
      ]
    },
    {
      "attachments": {},
      "cell_type": "markdown",
      "metadata": {},
      "source": [
        "We remove `archivo7.py`"
      ]
    },
    {
      "cell_type": "code",
      "execution_count": 122,
      "metadata": {},
      "outputs": [
        {
          "name": "stdout",
          "output_type": "stream",
          "text": [
            "rm 'archivo7.py'\n"
          ]
        }
      ],
      "source": [
        "!cd notebook_git && git rm archivo7.py"
      ]
    },
    {
      "attachments": {},
      "cell_type": "markdown",
      "metadata": {},
      "source": [
        "We make a commit with the changes"
      ]
    },
    {
      "cell_type": "code",
      "execution_count": 123,
      "metadata": {},
      "outputs": [
        {
          "name": "stdout",
          "output_type": "stream",
          "text": [
            "[new_branch2 5168f78] Eliminado archivo7.py\n",
            " 1 file changed, 1 deletion(-)\n",
            " delete mode 100644 archivo7.py\n"
          ]
        }
      ],
      "source": [
        "!cd notebook_git && git commit -am \"Eliminado archivo7.py\""
      ]
    },
    {
      "attachments": {},
      "cell_type": "markdown",
      "metadata": {},
      "source": [
        "If we do a `ls` we see that `archivo7.py` is no longer there"
      ]
    },
    {
      "cell_type": "code",
      "execution_count": 124,
      "metadata": {},
      "outputs": [],
      "source": [
        "!cd notebook_git && ls | grep archivo7"
      ]
    },
    {
      "attachments": {},
      "cell_type": "markdown",
      "metadata": {},
      "source": [
        "We create a new file and make a commit"
      ]
    },
    {
      "cell_type": "code",
      "execution_count": 125,
      "metadata": {},
      "outputs": [
        {
          "name": "stdout",
          "output_type": "stream",
          "text": [
            "[new_branch2 564ccfb] Commit con el archivo 8\n",
            " 1 file changed, 0 insertions(+), 0 deletions(-)\n",
            " create mode 100644 archivo8.py\n"
          ]
        }
      ],
      "source": [
        "!cd notebook_git && touch archivo8.py && git add archivo8.py && git commit -m \"Commit con el archivo 8\""
      ]
    },
    {
      "attachments": {},
      "cell_type": "markdown",
      "metadata": {},
      "source": [
        "We have made two new commits in this branch, let's check it with `git log`"
      ]
    },
    {
      "cell_type": "code",
      "execution_count": 126,
      "metadata": {},
      "outputs": [
        {
          "name": "stdout",
          "output_type": "stream",
          "text": [
            "* \u001b[33m564ccfb\u001b[m\u001b[33m (\u001b[m\u001b[1;36mHEAD -> \u001b[m\u001b[1;32mnew_branch2\u001b[m\u001b[33m)\u001b[m Commit con el archivo 8\n",
            "* \u001b[33m5168f78\u001b[m Eliminado archivo7.py\n",
            "* \u001b[33m4bb9d75\u001b[m\u001b[33m (\u001b[m\u001b[1;32mnew_branch\u001b[m\u001b[33m, \u001b[m\u001b[1;32mmain\u001b[m\u001b[33m)\u001b[m Commit con el archivo 7\n",
            "* \u001b[33mea615a9\u001b[m Eliminado archivo5.py\n",
            "* \u001b[33me3153a5\u001b[m Commit con los archivos 4 y 5\n",
            "* \u001b[33m0b09cfa\u001b[m A\u00f1adido .gitignore\n",
            "* \u001b[33m04ebd1f\u001b[m Commit con los archivos 1 y 2\n",
            "* \u001b[33mc4930d7\u001b[m Tercer commit, hola.py\n",
            "* \u001b[33m6e99e73\u001b[m Segundo commit, hola.py\n",
            "* \u001b[33m1c95e4f\u001b[m Primer commit, hola.py\n"
          ]
        }
      ],
      "source": [
        "!cd notebook_git && git log --graph --oneline --decorate"
      ]
    },
    {
      "attachments": {},
      "cell_type": "markdown",
      "metadata": {},
      "source": [
        "We switch to the main branch"
      ]
    },
    {
      "cell_type": "code",
      "execution_count": 127,
      "metadata": {},
      "outputs": [
        {
          "name": "stdout",
          "output_type": "stream",
          "text": [
            "Cambiado a rama 'main'\n"
          ]
        }
      ],
      "source": [
        "!cd notebook_git && git switch main"
      ]
    },
    {
      "attachments": {},
      "cell_type": "markdown",
      "metadata": {},
      "source": [
        "If we now run `ls` again, we will see that `archivo7.py` is there."
      ]
    },
    {
      "cell_type": "code",
      "execution_count": 128,
      "metadata": {},
      "outputs": [
        {
          "name": "stdout",
          "output_type": "stream",
          "text": [
            "archivo7.py\n"
          ]
        }
      ],
      "source": [
        "!cd notebook_git && ls | grep archivo7"
      ]
    },
    {
      "attachments": {},
      "cell_type": "markdown",
      "metadata": {},
      "source": [
        "We merge the branches, bringing the changes from `new_branch2` to `main`"
      ]
    },
    {
      "cell_type": "code",
      "execution_count": 129,
      "metadata": {},
      "outputs": [
        {
          "name": "stdout",
          "output_type": "stream",
          "text": [
            "Actualizando 4bb9d75..564ccfb\n",
            "Fast-forward\n",
            " archivo7.py | 1 \u001b[31m-\u001b[m\n",
            " archivo8.py | 0\n",
            " 2 files changed, 1 deletion(-)\n",
            " delete mode 100644 archivo7.py\n",
            " create mode 100644 archivo8.py\n"
          ]
        }
      ],
      "source": [
        "!cd notebook_git && git merge new_branch2"
      ]
    },
    {
      "attachments": {},
      "cell_type": "markdown",
      "metadata": {},
      "source": [
        "We do a `git status`"
      ]
    },
    {
      "cell_type": "code",
      "execution_count": 130,
      "metadata": {},
      "outputs": [
        {
          "name": "stdout",
          "output_type": "stream",
          "text": [
            "En la rama main\n",
            "nada para hacer commit, el \u00e1rbol de trabajo est\u00e1 limpio\n"
          ]
        }
      ],
      "source": [
        "!cd notebook_git && git status"
      ]
    },
    {
      "attachments": {},
      "cell_type": "markdown",
      "metadata": {},
      "source": [
        "We see that when doing the merge, no commit is necessary. Let's check with a `git log` what has happened."
      ]
    },
    {
      "cell_type": "code",
      "execution_count": 131,
      "metadata": {},
      "outputs": [
        {
          "name": "stdout",
          "output_type": "stream",
          "text": [
            "* \u001b[33m564ccfb\u001b[m\u001b[33m (\u001b[m\u001b[1;36mHEAD -> \u001b[m\u001b[1;32mmain\u001b[m\u001b[33m, \u001b[m\u001b[1;32mnew_branch2\u001b[m\u001b[33m)\u001b[m Commit con el archivo 8\n",
            "* \u001b[33m5168f78\u001b[m Eliminado archivo7.py\n",
            "* \u001b[33m4bb9d75\u001b[m\u001b[33m (\u001b[m\u001b[1;32mnew_branch\u001b[m\u001b[33m)\u001b[m Commit con el archivo 7\n",
            "* \u001b[33mea615a9\u001b[m Eliminado archivo5.py\n",
            "* \u001b[33me3153a5\u001b[m Commit con los archivos 4 y 5\n",
            "* \u001b[33m0b09cfa\u001b[m A\u00f1adido .gitignore\n",
            "* \u001b[33m04ebd1f\u001b[m Commit con los archivos 1 y 2\n",
            "* \u001b[33mc4930d7\u001b[m Tercer commit, hola.py\n",
            "* \u001b[33m6e99e73\u001b[m Segundo commit, hola.py\n",
            "* \u001b[33m1c95e4f\u001b[m Primer commit, hola.py\n"
          ]
        }
      ],
      "source": [
        "!cd notebook_git && git log --graph --oneline --decorate"
      ]
    },
    {
      "attachments": {},
      "cell_type": "markdown",
      "metadata": {},
      "source": [
        "We see that the commit from the branch `new_branch2` has been incorporated into this branch."
      ]
    },
    {
      "attachments": {},
      "cell_type": "markdown",
      "metadata": {},
      "source": [
        "#### Fast-forward"
      ]
    },
    {
      "attachments": {},
      "cell_type": "markdown",
      "metadata": {},
      "source": [
        "In this case, we create a new branch, leaving the main one untouched and only modifying the new one, making several commits. Therefore, when merging the new branch into the main one, all the commits made in the new branch will be visible. To perform this type of merge, we write `git merge --ff-only <branch>`"
      ]
    },
    {
      "cell_type": "code",
      "execution_count": 132,
      "metadata": {},
      "outputs": [
        {
          "data": {
            "image/svg+xml": [
              "<?xml version=\"1.0\" encoding=\"UTF-8\" standalone=\"no\"?>\n",
              "<!DOCTYPE svg PUBLIC \"-//W3C//DTD SVG 1.1//EN\"\n",
              " \"http://www.w3.org/Graphics/SVG/1.1/DTD/svg11.dtd\">\n",
              "<!-- Generated by graphviz version 2.43.0 (0)\n",
              " -->\n",
              "<!-- Title: G Pages: 1 -->\n",
              "<svg width=\"404pt\" height=\"98pt\"\n",
              " viewBox=\"0.00 0.00 404.40 98.00\" xmlns=\"http://www.w3.org/2000/svg\" xmlns:xlink=\"http://www.w3.org/1999/xlink\">\n",
              "<g id=\"graph0\" class=\"graph\" transform=\"scale(1 1) rotate(0) translate(4 94)\">\n",
              "<title>G</title>\n",
              "<polygon fill=\"white\" stroke=\"transparent\" points=\"-4,4 -4,-94 400.4,-94 400.4,4 -4,4\"/>\n",
              "<!-- A -->\n",
              "<g id=\"node1\" class=\"node\">\n",
              "<title>A</title>\n",
              "<ellipse fill=\"none\" stroke=\"blue\" cx=\"18\" cy=\"-45\" rx=\"18\" ry=\"18\"/>\n",
              "<text text-anchor=\"middle\" x=\"18\" y=\"-41.3\" font-family=\"Times,serif\" font-size=\"14.00\">A</text>\n",
              "</g>\n",
              "<!-- B -->\n",
              "<g id=\"node2\" class=\"node\">\n",
              "<title>B</title>\n",
              "<ellipse fill=\"none\" stroke=\"blue\" cx=\"90\" cy=\"-45\" rx=\"18\" ry=\"18\"/>\n",
              "<text text-anchor=\"middle\" x=\"90\" y=\"-41.3\" font-family=\"Times,serif\" font-size=\"14.00\">B</text>\n",
              "</g>\n",
              "<!-- A&#45;&gt;B -->\n",
              "<g id=\"edge1\" class=\"edge\">\n",
              "<title>A&#45;&gt;B</title>\n",
              "<path fill=\"none\" stroke=\"black\" d=\"M36.3,-45C44.02,-45 53.29,-45 61.89,-45\"/>\n",
              "<polygon fill=\"black\" stroke=\"black\" points=\"61.9,-48.5 71.9,-45 61.9,-41.5 61.9,-48.5\"/>\n",
              "</g>\n",
              "<!-- C -->\n",
              "<g id=\"node3\" class=\"node\">\n",
              "<title>C</title>\n",
              "<ellipse fill=\"none\" stroke=\"blue\" cx=\"162\" cy=\"-45\" rx=\"18\" ry=\"18\"/>\n",
              "<text text-anchor=\"middle\" x=\"162\" y=\"-41.3\" font-family=\"Times,serif\" font-size=\"14.00\">C</text>\n",
              "</g>\n",
              "<!-- B&#45;&gt;C -->\n",
              "<g id=\"edge2\" class=\"edge\">\n",
              "<title>B&#45;&gt;C</title>\n",
              "<path fill=\"none\" stroke=\"black\" d=\"M108.3,-45C116.02,-45 125.29,-45 133.89,-45\"/>\n",
              "<polygon fill=\"black\" stroke=\"black\" points=\"133.9,-48.5 143.9,-45 133.9,-41.5 133.9,-48.5\"/>\n",
              "</g>\n",
              "<!-- D -->\n",
              "<g id=\"node4\" class=\"node\">\n",
              "<title>D</title>\n",
              "<ellipse fill=\"none\" stroke=\"blue\" cx=\"234.2\" cy=\"-45\" rx=\"18.4\" ry=\"18.4\"/>\n",
              "<text text-anchor=\"middle\" x=\"234.2\" y=\"-41.3\" font-family=\"Times,serif\" font-size=\"14.00\">D</text>\n",
              "</g>\n",
              "<!-- C&#45;&gt;D -->\n",
              "<g id=\"edge3\" class=\"edge\">\n",
              "<title>C&#45;&gt;D</title>\n",
              "<path fill=\"none\" stroke=\"black\" d=\"M180.35,-45C187.89,-45 196.91,-45 205.34,-45\"/>\n",
              "<polygon fill=\"black\" stroke=\"black\" points=\"205.56,-48.5 215.56,-45 205.56,-41.5 205.56,-48.5\"/>\n",
              "</g>\n",
              "<!-- E -->\n",
              "<g id=\"node5\" class=\"node\">\n",
              "<title>E</title>\n",
              "<ellipse fill=\"none\" stroke=\"transparent\" cx=\"306.4\" cy=\"-72\" rx=\"18\" ry=\"18\"/>\n",
              "</g>\n",
              "<!-- D&#45;&gt;E -->\n",
              "<g id=\"edge4\" class=\"edge\">\n",
              "<title>D&#45;&gt;E</title>\n",
              "<path fill=\"none\" stroke=\"transparent\" d=\"M251.48,-51.26C259.9,-54.5 270.36,-58.53 279.83,-62.17\"/>\n",
              "<polygon fill=\"transparent\" stroke=\"transparent\" points=\"278.61,-65.45 289.2,-65.77 281.13,-58.92 278.61,-65.45\"/>\n",
              "</g>\n",
              "<!-- X -->\n",
              "<g id=\"node6\" class=\"node\">\n",
              "<title>X</title>\n",
              "<ellipse fill=\"none\" stroke=\"green\" cx=\"306.4\" cy=\"-18\" rx=\"18\" ry=\"18\"/>\n",
              "<text text-anchor=\"middle\" x=\"306.4\" y=\"-14.3\" font-family=\"Times,serif\" font-size=\"14.00\">X</text>\n",
              "</g>\n",
              "<!-- D&#45;&gt;X -->\n",
              "<g id=\"edge5\" class=\"edge\">\n",
              "<title>D&#45;&gt;X</title>\n",
              "<path fill=\"none\" stroke=\"black\" d=\"M251.48,-38.74C259.9,-35.5 270.36,-31.47 279.83,-27.83\"/>\n",
              "<polygon fill=\"black\" stroke=\"black\" points=\"281.13,-31.08 289.2,-24.23 278.61,-24.55 281.13,-31.08\"/>\n",
              "</g>\n",
              "<!-- Y -->\n",
              "<g id=\"node7\" class=\"node\">\n",
              "<title>Y</title>\n",
              "<ellipse fill=\"none\" stroke=\"green\" cx=\"378.4\" cy=\"-18\" rx=\"18\" ry=\"18\"/>\n",
              "<text text-anchor=\"middle\" x=\"378.4\" y=\"-14.3\" font-family=\"Times,serif\" font-size=\"14.00\">Y</text>\n",
              "</g>\n",
              "<!-- X&#45;&gt;Y -->\n",
              "<g id=\"edge6\" class=\"edge\">\n",
              "<title>X&#45;&gt;Y</title>\n",
              "<path fill=\"none\" stroke=\"black\" d=\"M324.7,-18C332.41,-18 341.68,-18 350.28,-18\"/>\n",
              "<polygon fill=\"black\" stroke=\"black\" points=\"350.29,-21.5 360.29,-18 350.29,-14.5 350.29,-21.5\"/>\n",
              "</g>\n",
              "</g>\n",
              "</svg>\n"
            ],
            "text/plain": [
              "<graphviz.graphs.Digraph at 0x7f58f80c09a0>"
            ]
          },
          "metadata": {},
          "output_type": "display_data"
        },
        {
          "data": {
            "image/svg+xml": [
              "<?xml version=\"1.0\" encoding=\"UTF-8\" standalone=\"no\"?>\n",
              "<!DOCTYPE svg PUBLIC \"-//W3C//DTD SVG 1.1//EN\"\n",
              " \"http://www.w3.org/Graphics/SVG/1.1/DTD/svg11.dtd\">\n",
              "<!-- Generated by graphviz version 2.43.0 (0)\n",
              " -->\n",
              "<!-- Title: G Pages: 1 -->\n",
              "<svg width=\"404pt\" height=\"44pt\"\n",
              " viewBox=\"0.00 0.00 404.40 44.40\" xmlns=\"http://www.w3.org/2000/svg\" xmlns:xlink=\"http://www.w3.org/1999/xlink\">\n",
              "<g id=\"graph0\" class=\"graph\" transform=\"scale(1 1) rotate(0) translate(4 40.4)\">\n",
              "<title>G</title>\n",
              "<polygon fill=\"white\" stroke=\"transparent\" points=\"-4,4 -4,-40.4 400.4,-40.4 400.4,4 -4,4\"/>\n",
              "<!-- A -->\n",
              "<g id=\"node1\" class=\"node\">\n",
              "<title>A</title>\n",
              "<ellipse fill=\"none\" stroke=\"blue\" cx=\"18\" cy=\"-18.2\" rx=\"18\" ry=\"18\"/>\n",
              "<text text-anchor=\"middle\" x=\"18\" y=\"-14.5\" font-family=\"Times,serif\" font-size=\"14.00\">A</text>\n",
              "</g>\n",
              "<!-- B -->\n",
              "<g id=\"node2\" class=\"node\">\n",
              "<title>B</title>\n",
              "<ellipse fill=\"none\" stroke=\"blue\" cx=\"90\" cy=\"-18.2\" rx=\"18\" ry=\"18\"/>\n",
              "<text text-anchor=\"middle\" x=\"90\" y=\"-14.5\" font-family=\"Times,serif\" font-size=\"14.00\">B</text>\n",
              "</g>\n",
              "<!-- A&#45;&gt;B -->\n",
              "<g id=\"edge1\" class=\"edge\">\n",
              "<title>A&#45;&gt;B</title>\n",
              "<path fill=\"none\" stroke=\"black\" d=\"M36.3,-18.2C44.02,-18.2 53.29,-18.2 61.89,-18.2\"/>\n",
              "<polygon fill=\"black\" stroke=\"black\" points=\"61.9,-21.7 71.9,-18.2 61.9,-14.7 61.9,-21.7\"/>\n",
              "</g>\n",
              "<!-- C -->\n",
              "<g id=\"node3\" class=\"node\">\n",
              "<title>C</title>\n",
              "<ellipse fill=\"none\" stroke=\"blue\" cx=\"162\" cy=\"-18.2\" rx=\"18\" ry=\"18\"/>\n",
              "<text text-anchor=\"middle\" x=\"162\" y=\"-14.5\" font-family=\"Times,serif\" font-size=\"14.00\">C</text>\n",
              "</g>\n",
              "<!-- B&#45;&gt;C -->\n",
              "<g id=\"edge2\" class=\"edge\">\n",
              "<title>B&#45;&gt;C</title>\n",
              "<path fill=\"none\" stroke=\"black\" d=\"M108.3,-18.2C116.02,-18.2 125.29,-18.2 133.89,-18.2\"/>\n",
              "<polygon fill=\"black\" stroke=\"black\" points=\"133.9,-21.7 143.9,-18.2 133.9,-14.7 133.9,-21.7\"/>\n",
              "</g>\n",
              "<!-- D -->\n",
              "<g id=\"node4\" class=\"node\">\n",
              "<title>D</title>\n",
              "<ellipse fill=\"none\" stroke=\"blue\" cx=\"234.2\" cy=\"-18.2\" rx=\"18.4\" ry=\"18.4\"/>\n",
              "<text text-anchor=\"middle\" x=\"234.2\" y=\"-14.5\" font-family=\"Times,serif\" font-size=\"14.00\">D</text>\n",
              "</g>\n",
              "<!-- C&#45;&gt;D -->\n",
              "<g id=\"edge3\" class=\"edge\">\n",
              "<title>C&#45;&gt;D</title>\n",
              "<path fill=\"none\" stroke=\"black\" d=\"M180.35,-18.2C187.89,-18.2 196.91,-18.2 205.34,-18.2\"/>\n",
              "<polygon fill=\"black\" stroke=\"black\" points=\"205.56,-21.7 215.56,-18.2 205.56,-14.7 205.56,-21.7\"/>\n",
              "</g>\n",
              "<!-- X -->\n",
              "<g id=\"node5\" class=\"node\">\n",
              "<title>X</title>\n",
              "<ellipse fill=\"none\" stroke=\"magenta\" cx=\"306.4\" cy=\"-18.2\" rx=\"18\" ry=\"18\"/>\n",
              "<text text-anchor=\"middle\" x=\"306.4\" y=\"-14.5\" font-family=\"Times,serif\" font-size=\"14.00\">X</text>\n",
              "</g>\n",
              "<!-- D&#45;&gt;X -->\n",
              "<g id=\"edge4\" class=\"edge\">\n",
              "<title>D&#45;&gt;X</title>\n",
              "<path fill=\"none\" stroke=\"black\" d=\"M252.55,-18.2C260.29,-18.2 269.58,-18.2 278.21,-18.2\"/>\n",
              "<polygon fill=\"black\" stroke=\"black\" points=\"278.24,-21.7 288.24,-18.2 278.24,-14.7 278.24,-21.7\"/>\n",
              "</g>\n",
              "<!-- Y -->\n",
              "<g id=\"node6\" class=\"node\">\n",
              "<title>Y</title>\n",
              "<ellipse fill=\"none\" stroke=\"magenta\" cx=\"378.4\" cy=\"-18.2\" rx=\"18\" ry=\"18\"/>\n",
              "<text text-anchor=\"middle\" x=\"378.4\" y=\"-14.5\" font-family=\"Times,serif\" font-size=\"14.00\">Y</text>\n",
              "</g>\n",
              "<!-- X&#45;&gt;Y -->\n",
              "<g id=\"edge5\" class=\"edge\">\n",
              "<title>X&#45;&gt;Y</title>\n",
              "<path fill=\"none\" stroke=\"black\" d=\"M324.7,-18.2C332.41,-18.2 341.68,-18.2 350.28,-18.2\"/>\n",
              "<polygon fill=\"black\" stroke=\"black\" points=\"350.29,-21.7 360.29,-18.2 350.29,-14.7 350.29,-21.7\"/>\n",
              "</g>\n",
              "</g>\n",
              "</svg>\n"
            ],
            "text/plain": [
              "<graphviz.graphs.Digraph at 0x7f58f9203fa0>"
            ]
          },
          "metadata": {},
          "output_type": "display_data"
        }
      ],
      "source": [
        "### Este c\u00f3digo es para crear el gr\u00e1fico de las ramas, no es necesario para el curso\n",
        "\n",
        "import graphviz\n",
        "\n",
        "# Crear el gr\u00e1fico con la direcci\u00f3n de las flechas de izquierda a derecha\n",
        "orin = graphviz.Digraph('G', graph_attr={'rankdir': 'LR'})\n",
        "fast_foward = graphviz.Digraph('G', graph_attr={'rankdir': 'LR'})\n",
        "\n",
        "# Agregar nodos (pelotas) A, B, C y D en la rama principal\n",
        "orin.node('A', shape='circle', label='A', color='blue')\n",
        "orin.node('B', shape='circle', label='B', color='blue')\n",
        "orin.node('C', shape='circle', label='C', color='blue')\n",
        "orin.node('D', shape='circle', label='D', color='blue')\n",
        "orin.node('E', shape='circle', label='', color='transparent')\n",
        "fast_foward.node('A', shape='circle', label='A', color='blue')\n",
        "fast_foward.node('B', shape='circle', label='B', color='blue')\n",
        "fast_foward.node('C', shape='circle', label='C', color='blue')\n",
        "fast_foward.node('D', shape='circle', label='D', color='blue')\n",
        "\n",
        "# Agregar nodos (pelotas) X e Y en la rama secundaria\n",
        "orin.node('X', shape='circle', label='X', color='green')\n",
        "orin.node('Y', shape='circle', label='Y', color='green')\n",
        "fast_foward.node('X', shape='circle', label='X', color='magenta')\n",
        "fast_foward.node('Y', shape='circle', label='Y', color='magenta')\n",
        "\n",
        "# Agregar flechas entre los nodos en la rama principal\n",
        "orin.edges(['AB', 'BC', 'CD'])\n",
        "orin.edge('D', 'E', color='transparent')  # Hacer la flecha de C a D transparente\n",
        "fast_foward.edges(['AB', 'BC', 'CD', 'DX', 'XY'])\n",
        "\n",
        "# Agregar flechas entre los nodos en la rama secundaria\n",
        "orin.edges(['DX', 'XY'])\n",
        "\n",
        "# Mostrar el diagrama de flujo en la celda de c\u00f3digo de Jupyter Notebook\n",
        "display(orin)\n",
        "display(fast_foward)"
      ]
    },
    {
      "attachments": {},
      "cell_type": "markdown",
      "metadata": {},
      "source": [
        "Let's first check that we are on the main branch"
      ]
    },
    {
      "cell_type": "code",
      "execution_count": 133,
      "metadata": {},
      "outputs": [
        {
          "name": "stdout",
          "output_type": "stream",
          "text": [
            "main\n"
          ]
        }
      ],
      "source": [
        "!cd notebook_git && git branch --show-current"
      ]
    },
    {
      "attachments": {},
      "cell_type": "markdown",
      "metadata": {},
      "source": [
        "We create a new branch"
      ]
    },
    {
      "cell_type": "code",
      "execution_count": 134,
      "metadata": {},
      "outputs": [],
      "source": [
        "!cd notebook_git && git branch branch_fast_forward"
      ]
    },
    {
      "attachments": {},
      "cell_type": "markdown",
      "metadata": {},
      "source": [
        "We switch to her"
      ]
    },
    {
      "cell_type": "code",
      "execution_count": 135,
      "metadata": {},
      "outputs": [
        {
          "name": "stdout",
          "output_type": "stream",
          "text": [
            "Cambiado a rama 'branch_fast_forward'\n"
          ]
        }
      ],
      "source": [
        "!cd notebook_git && git switch branch_fast_forward"
      ]
    },
    {
      "cell_type": "code",
      "execution_count": 136,
      "metadata": {},
      "outputs": [
        {
          "name": "stdout",
          "output_type": "stream",
          "text": [
            "branch_fast_forward\n"
          ]
        }
      ],
      "source": [
        "!cd notebook_git && git branch --show-current"
      ]
    },
    {
      "attachments": {},
      "cell_type": "markdown",
      "metadata": {},
      "source": [
        "Let's check the log"
      ]
    },
    {
      "cell_type": "code",
      "execution_count": 137,
      "metadata": {},
      "outputs": [
        {
          "name": "stdout",
          "output_type": "stream",
          "text": [
            "* \u001b[33m564ccfb\u001b[m\u001b[33m (\u001b[m\u001b[1;36mHEAD -> \u001b[m\u001b[1;32mbranch_fast_forward\u001b[m\u001b[33m, \u001b[m\u001b[1;32mnew_branch2\u001b[m\u001b[33m, \u001b[m\u001b[1;32mmain\u001b[m\u001b[33m)\u001b[m Commit con el archivo 8\n",
            "* \u001b[33m5168f78\u001b[m Eliminado archivo7.py\n",
            "* \u001b[33m4bb9d75\u001b[m\u001b[33m (\u001b[m\u001b[1;32mnew_branch\u001b[m\u001b[33m)\u001b[m Commit con el archivo 7\n",
            "* \u001b[33mea615a9\u001b[m Eliminado archivo5.py\n",
            "* \u001b[33me3153a5\u001b[m Commit con los archivos 4 y 5\n",
            "* \u001b[33m0b09cfa\u001b[m A\u00f1adido .gitignore\n",
            "* \u001b[33m04ebd1f\u001b[m Commit con los archivos 1 y 2\n",
            "* \u001b[33mc4930d7\u001b[m Tercer commit, hola.py\n",
            "* \u001b[33m6e99e73\u001b[m Segundo commit, hola.py\n",
            "* \u001b[33m1c95e4f\u001b[m Primer commit, hola.py\n"
          ]
        }
      ],
      "source": [
        "!cd notebook_git && git log --graph --oneline --decorate --all"
      ]
    },
    {
      "attachments": {},
      "cell_type": "markdown",
      "metadata": {},
      "source": [
        "Okay, we are on a branch created from the main one with its entire log history, and we make two new commits."
      ]
    },
    {
      "cell_type": "code",
      "execution_count": 138,
      "metadata": {},
      "outputs": [
        {
          "name": "stdout",
          "output_type": "stream",
          "text": [
            "rm 'archivo4.py'\n",
            "[branch_fast_forward 4484e70] Eliminado archivo4.py\n",
            " 1 file changed, 1 deletion(-)\n",
            " delete mode 100644 archivo4.py\n"
          ]
        }
      ],
      "source": [
        "!cd notebook_git && git rm archivo4.py && git commit -am \"Eliminado archivo4.py\""
      ]
    },
    {
      "cell_type": "code",
      "execution_count": 139,
      "metadata": {},
      "outputs": [
        {
          "name": "stdout",
          "output_type": "stream",
          "text": [
            "rm 'hola.py'\n",
            "[branch_fast_forward 94149fc] Eliminado hola.py\n",
            " 1 file changed, 3 deletions(-)\n",
            " delete mode 100644 hola.py\n"
          ]
        }
      ],
      "source": [
        "!cd notebook_git && git rm hola.py && git commit -am \"Eliminado hola.py\""
      ]
    },
    {
      "attachments": {},
      "cell_type": "markdown",
      "metadata": {},
      "source": [
        "We make a new log to see what has been created in this new branch"
      ]
    },
    {
      "cell_type": "code",
      "execution_count": 140,
      "metadata": {},
      "outputs": [
        {
          "name": "stdout",
          "output_type": "stream",
          "text": [
            "* \u001b[33m94149fc\u001b[m\u001b[33m (\u001b[m\u001b[1;36mHEAD -> \u001b[m\u001b[1;32mbranch_fast_forward\u001b[m\u001b[33m)\u001b[m Eliminado hola.py\n",
            "* \u001b[33m4484e70\u001b[m Eliminado archivo4.py\n",
            "* \u001b[33m564ccfb\u001b[m\u001b[33m (\u001b[m\u001b[1;32mnew_branch2\u001b[m\u001b[33m, \u001b[m\u001b[1;32mmain\u001b[m\u001b[33m)\u001b[m Commit con el archivo 8\n",
            "* \u001b[33m5168f78\u001b[m Eliminado archivo7.py\n",
            "* \u001b[33m4bb9d75\u001b[m\u001b[33m (\u001b[m\u001b[1;32mnew_branch\u001b[m\u001b[33m)\u001b[m Commit con el archivo 7\n",
            "* \u001b[33mea615a9\u001b[m Eliminado archivo5.py\n",
            "* \u001b[33me3153a5\u001b[m Commit con los archivos 4 y 5\n",
            "* \u001b[33m0b09cfa\u001b[m A\u00f1adido .gitignore\n",
            "* \u001b[33m04ebd1f\u001b[m Commit con los archivos 1 y 2\n",
            "* \u001b[33mc4930d7\u001b[m Tercer commit, hola.py\n",
            "* \u001b[33m6e99e73\u001b[m Segundo commit, hola.py\n",
            "* \u001b[33m1c95e4f\u001b[m Primer commit, hola.py\n"
          ]
        }
      ],
      "source": [
        "!cd notebook_git && git log --graph --oneline --decorate"
      ]
    },
    {
      "attachments": {},
      "cell_type": "markdown",
      "metadata": {},
      "source": [
        "As we can see, the last two commits are the ones we have created and we can check that these commits are not in the main branch (for this I specify that it should be done on the `main` branch)"
      ]
    },
    {
      "cell_type": "code",
      "execution_count": 141,
      "metadata": {},
      "outputs": [
        {
          "name": "stdout",
          "output_type": "stream",
          "text": [
            "* \u001b[33m564ccfb\u001b[m\u001b[33m (\u001b[m\u001b[1;32mnew_branch2\u001b[m\u001b[33m, \u001b[m\u001b[1;32mmain\u001b[m\u001b[33m)\u001b[m Commit con el archivo 8\n",
            "* \u001b[33m5168f78\u001b[m Eliminado archivo7.py\n",
            "* \u001b[33m4bb9d75\u001b[m\u001b[33m (\u001b[m\u001b[1;32mnew_branch\u001b[m\u001b[33m)\u001b[m Commit con el archivo 7\n",
            "* \u001b[33mea615a9\u001b[m Eliminado archivo5.py\n",
            "* \u001b[33me3153a5\u001b[m Commit con los archivos 4 y 5\n",
            "* \u001b[33m0b09cfa\u001b[m A\u00f1adido .gitignore\n",
            "* \u001b[33m04ebd1f\u001b[m Commit con los archivos 1 y 2\n",
            "* \u001b[33mc4930d7\u001b[m Tercer commit, hola.py\n",
            "* \u001b[33m6e99e73\u001b[m Segundo commit, hola.py\n",
            "* \u001b[33m1c95e4f\u001b[m Primer commit, hola.py\n"
          ]
        }
      ],
      "source": [
        "!cd notebook_git && git log main --graph --oneline --decorate"
      ]
    },
    {
      "attachments": {},
      "cell_type": "markdown",
      "metadata": {},
      "source": [
        "Now we are going to the `main` branch to make the merge"
      ]
    },
    {
      "cell_type": "code",
      "execution_count": 142,
      "metadata": {},
      "outputs": [
        {
          "name": "stdout",
          "output_type": "stream",
          "text": [
            "Cambiado a rama 'main'\n"
          ]
        }
      ],
      "source": [
        "!cd notebook_git && git switch main"
      ]
    },
    {
      "attachments": {},
      "cell_type": "markdown",
      "metadata": {},
      "source": [
        "Finally, we do a fast-forward merge"
      ]
    },
    {
      "cell_type": "code",
      "execution_count": 143,
      "metadata": {},
      "outputs": [
        {
          "name": "stdout",
          "output_type": "stream",
          "text": [
            "Actualizando 564ccfb..94149fc\n",
            "Fast-forward\n",
            " archivo4.py | 1 \u001b[31m-\u001b[m\n",
            " hola.py     | 3 \u001b[31m---\u001b[m\n",
            " 2 files changed, 4 deletions(-)\n",
            " delete mode 100644 archivo4.py\n",
            " delete mode 100644 hola.py\n"
          ]
        }
      ],
      "source": [
        "!cd notebook_git && git merge --ff-only branch_fast_forward"
      ]
    },
    {
      "attachments": {},
      "cell_type": "markdown",
      "metadata": {},
      "source": [
        "The merge has been done, let's see what happened with the log in the `main` branch"
      ]
    },
    {
      "cell_type": "code",
      "execution_count": 144,
      "metadata": {},
      "outputs": [
        {
          "name": "stdout",
          "output_type": "stream",
          "text": [
            "* \u001b[33m94149fc\u001b[m\u001b[33m (\u001b[m\u001b[1;36mHEAD -> \u001b[m\u001b[1;32mmain\u001b[m\u001b[33m, \u001b[m\u001b[1;32mbranch_fast_forward\u001b[m\u001b[33m)\u001b[m Eliminado hola.py\n",
            "* \u001b[33m4484e70\u001b[m Eliminado archivo4.py\n",
            "* \u001b[33m564ccfb\u001b[m\u001b[33m (\u001b[m\u001b[1;32mnew_branch2\u001b[m\u001b[33m)\u001b[m Commit con el archivo 8\n",
            "* \u001b[33m5168f78\u001b[m Eliminado archivo7.py\n",
            "* \u001b[33m4bb9d75\u001b[m\u001b[33m (\u001b[m\u001b[1;32mnew_branch\u001b[m\u001b[33m)\u001b[m Commit con el archivo 7\n",
            "* \u001b[33mea615a9\u001b[m Eliminado archivo5.py\n",
            "* \u001b[33me3153a5\u001b[m Commit con los archivos 4 y 5\n",
            "* \u001b[33m0b09cfa\u001b[m A\u00f1adido .gitignore\n",
            "* \u001b[33m04ebd1f\u001b[m Commit con los archivos 1 y 2\n",
            "* \u001b[33mc4930d7\u001b[m Tercer commit, hola.py\n",
            "* \u001b[33m6e99e73\u001b[m Segundo commit, hola.py\n",
            "* \u001b[33m1c95e4f\u001b[m Primer commit, hola.py\n"
          ]
        }
      ],
      "source": [
        "!cd notebook_git && git log --graph --oneline --decorate"
      ]
    },
    {
      "attachments": {},
      "cell_type": "markdown",
      "metadata": {},
      "source": [
        "As you can see, the two commits made in the `branch_fast_forward` branch have been kept."
      ]
    },
    {
      "attachments": {},
      "cell_type": "markdown",
      "metadata": {},
      "source": [
        "#### No fast-forward or true merge"
      ]
    },
    {
      "attachments": {},
      "cell_type": "markdown",
      "metadata": {},
      "source": [
        "In this case, we create a new branch, leaving the main one untouched, and modify the new one, performing several commits. Then, we make a commit on the main branch. Therefore, when merging the new branch into the main, only a single commit will be visible from the new branch. To perform this type of merge, we write `git merge <branch> --no-ff`"
      ]
    },
    {
      "cell_type": "code",
      "execution_count": 145,
      "metadata": {},
      "outputs": [
        {
          "data": {
            "image/svg+xml": [
              "<?xml version=\"1.0\" encoding=\"UTF-8\" standalone=\"no\"?>\n",
              "<!DOCTYPE svg PUBLIC \"-//W3C//DTD SVG 1.1//EN\"\n",
              " \"http://www.w3.org/Graphics/SVG/1.1/DTD/svg11.dtd\">\n",
              "<!-- Generated by graphviz version 2.43.0 (0)\n",
              " -->\n",
              "<!-- Title: G Pages: 1 -->\n",
              "<svg width=\"404pt\" height=\"98pt\"\n",
              " viewBox=\"0.00 0.00 404.40 98.00\" xmlns=\"http://www.w3.org/2000/svg\" xmlns:xlink=\"http://www.w3.org/1999/xlink\">\n",
              "<g id=\"graph0\" class=\"graph\" transform=\"scale(1 1) rotate(0) translate(4 94)\">\n",
              "<title>G</title>\n",
              "<polygon fill=\"white\" stroke=\"transparent\" points=\"-4,4 -4,-94 400.4,-94 400.4,4 -4,4\"/>\n",
              "<!-- A -->\n",
              "<g id=\"node1\" class=\"node\">\n",
              "<title>A</title>\n",
              "<ellipse fill=\"none\" stroke=\"blue\" cx=\"18\" cy=\"-45\" rx=\"18\" ry=\"18\"/>\n",
              "<text text-anchor=\"middle\" x=\"18\" y=\"-41.3\" font-family=\"Times,serif\" font-size=\"14.00\">A</text>\n",
              "</g>\n",
              "<!-- B -->\n",
              "<g id=\"node2\" class=\"node\">\n",
              "<title>B</title>\n",
              "<ellipse fill=\"none\" stroke=\"blue\" cx=\"90\" cy=\"-45\" rx=\"18\" ry=\"18\"/>\n",
              "<text text-anchor=\"middle\" x=\"90\" y=\"-41.3\" font-family=\"Times,serif\" font-size=\"14.00\">B</text>\n",
              "</g>\n",
              "<!-- A&#45;&gt;B -->\n",
              "<g id=\"edge1\" class=\"edge\">\n",
              "<title>A&#45;&gt;B</title>\n",
              "<path fill=\"none\" stroke=\"black\" d=\"M36.3,-45C44.02,-45 53.29,-45 61.89,-45\"/>\n",
              "<polygon fill=\"black\" stroke=\"black\" points=\"61.9,-48.5 71.9,-45 61.9,-41.5 61.9,-48.5\"/>\n",
              "</g>\n",
              "<!-- C -->\n",
              "<g id=\"node3\" class=\"node\">\n",
              "<title>C</title>\n",
              "<ellipse fill=\"none\" stroke=\"blue\" cx=\"162\" cy=\"-45\" rx=\"18\" ry=\"18\"/>\n",
              "<text text-anchor=\"middle\" x=\"162\" y=\"-41.3\" font-family=\"Times,serif\" font-size=\"14.00\">C</text>\n",
              "</g>\n",
              "<!-- B&#45;&gt;C -->\n",
              "<g id=\"edge2\" class=\"edge\">\n",
              "<title>B&#45;&gt;C</title>\n",
              "<path fill=\"none\" stroke=\"black\" d=\"M108.3,-45C116.02,-45 125.29,-45 133.89,-45\"/>\n",
              "<polygon fill=\"black\" stroke=\"black\" points=\"133.9,-48.5 143.9,-45 133.9,-41.5 133.9,-48.5\"/>\n",
              "</g>\n",
              "<!-- D -->\n",
              "<g id=\"node4\" class=\"node\">\n",
              "<title>D</title>\n",
              "<ellipse fill=\"none\" stroke=\"blue\" cx=\"234.2\" cy=\"-45\" rx=\"18.4\" ry=\"18.4\"/>\n",
              "<text text-anchor=\"middle\" x=\"234.2\" y=\"-41.3\" font-family=\"Times,serif\" font-size=\"14.00\">D</text>\n",
              "</g>\n",
              "<!-- C&#45;&gt;D -->\n",
              "<g id=\"edge3\" class=\"edge\">\n",
              "<title>C&#45;&gt;D</title>\n",
              "<path fill=\"none\" stroke=\"black\" d=\"M180.35,-45C187.89,-45 196.91,-45 205.34,-45\"/>\n",
              "<polygon fill=\"black\" stroke=\"black\" points=\"205.56,-48.5 215.56,-45 205.56,-41.5 205.56,-48.5\"/>\n",
              "</g>\n",
              "<!-- E -->\n",
              "<g id=\"node5\" class=\"node\">\n",
              "<title>E</title>\n",
              "<ellipse fill=\"none\" stroke=\"transparent\" cx=\"306.4\" cy=\"-72\" rx=\"18\" ry=\"18\"/>\n",
              "</g>\n",
              "<!-- D&#45;&gt;E -->\n",
              "<g id=\"edge4\" class=\"edge\">\n",
              "<title>D&#45;&gt;E</title>\n",
              "<path fill=\"none\" stroke=\"transparent\" d=\"M251.48,-51.26C259.9,-54.5 270.36,-58.53 279.83,-62.17\"/>\n",
              "<polygon fill=\"transparent\" stroke=\"transparent\" points=\"278.61,-65.45 289.2,-65.77 281.13,-58.92 278.61,-65.45\"/>\n",
              "</g>\n",
              "<!-- X -->\n",
              "<g id=\"node6\" class=\"node\">\n",
              "<title>X</title>\n",
              "<ellipse fill=\"none\" stroke=\"green\" cx=\"306.4\" cy=\"-18\" rx=\"18\" ry=\"18\"/>\n",
              "<text text-anchor=\"middle\" x=\"306.4\" y=\"-14.3\" font-family=\"Times,serif\" font-size=\"14.00\">X</text>\n",
              "</g>\n",
              "<!-- D&#45;&gt;X -->\n",
              "<g id=\"edge5\" class=\"edge\">\n",
              "<title>D&#45;&gt;X</title>\n",
              "<path fill=\"none\" stroke=\"black\" d=\"M251.48,-38.74C259.9,-35.5 270.36,-31.47 279.83,-27.83\"/>\n",
              "<polygon fill=\"black\" stroke=\"black\" points=\"281.13,-31.08 289.2,-24.23 278.61,-24.55 281.13,-31.08\"/>\n",
              "</g>\n",
              "<!-- Y -->\n",
              "<g id=\"node7\" class=\"node\">\n",
              "<title>Y</title>\n",
              "<ellipse fill=\"none\" stroke=\"green\" cx=\"378.4\" cy=\"-18\" rx=\"18\" ry=\"18\"/>\n",
              "<text text-anchor=\"middle\" x=\"378.4\" y=\"-14.3\" font-family=\"Times,serif\" font-size=\"14.00\">Y</text>\n",
              "</g>\n",
              "<!-- X&#45;&gt;Y -->\n",
              "<g id=\"edge6\" class=\"edge\">\n",
              "<title>X&#45;&gt;Y</title>\n",
              "<path fill=\"none\" stroke=\"black\" d=\"M324.7,-18C332.41,-18 341.68,-18 350.28,-18\"/>\n",
              "<polygon fill=\"black\" stroke=\"black\" points=\"350.29,-21.5 360.29,-18 350.29,-14.5 350.29,-21.5\"/>\n",
              "</g>\n",
              "</g>\n",
              "</svg>\n"
            ],
            "text/plain": [
              "<graphviz.graphs.Digraph at 0x7f58f80c2fb0>"
            ]
          },
          "metadata": {},
          "output_type": "display_data"
        },
        {
          "data": {
            "image/svg+xml": [
              "<?xml version=\"1.0\" encoding=\"UTF-8\" standalone=\"no\"?>\n",
              "<!DOCTYPE svg PUBLIC \"-//W3C//DTD SVG 1.1//EN\"\n",
              " \"http://www.w3.org/Graphics/SVG/1.1/DTD/svg11.dtd\">\n",
              "<!-- Generated by graphviz version 2.43.0 (0)\n",
              " -->\n",
              "<!-- Title: G Pages: 1 -->\n",
              "<svg width=\"481pt\" height=\"98pt\"\n",
              " viewBox=\"0.00 0.00 480.69 98.00\" xmlns=\"http://www.w3.org/2000/svg\" xmlns:xlink=\"http://www.w3.org/1999/xlink\">\n",
              "<g id=\"graph0\" class=\"graph\" transform=\"scale(1 1) rotate(0) translate(4 94)\">\n",
              "<title>G</title>\n",
              "<polygon fill=\"white\" stroke=\"transparent\" points=\"-4,4 -4,-94 476.69,-94 476.69,4 -4,4\"/>\n",
              "<!-- A -->\n",
              "<g id=\"node1\" class=\"node\">\n",
              "<title>A</title>\n",
              "<ellipse fill=\"none\" stroke=\"blue\" cx=\"18\" cy=\"-45\" rx=\"18\" ry=\"18\"/>\n",
              "<text text-anchor=\"middle\" x=\"18\" y=\"-41.3\" font-family=\"Times,serif\" font-size=\"14.00\">A</text>\n",
              "</g>\n",
              "<!-- B -->\n",
              "<g id=\"node2\" class=\"node\">\n",
              "<title>B</title>\n",
              "<ellipse fill=\"none\" stroke=\"blue\" cx=\"90\" cy=\"-45\" rx=\"18\" ry=\"18\"/>\n",
              "<text text-anchor=\"middle\" x=\"90\" y=\"-41.3\" font-family=\"Times,serif\" font-size=\"14.00\">B</text>\n",
              "</g>\n",
              "<!-- A&#45;&gt;B -->\n",
              "<g id=\"edge1\" class=\"edge\">\n",
              "<title>A&#45;&gt;B</title>\n",
              "<path fill=\"none\" stroke=\"black\" d=\"M36.3,-45C44.02,-45 53.29,-45 61.89,-45\"/>\n",
              "<polygon fill=\"black\" stroke=\"black\" points=\"61.9,-48.5 71.9,-45 61.9,-41.5 61.9,-48.5\"/>\n",
              "</g>\n",
              "<!-- C -->\n",
              "<g id=\"node3\" class=\"node\">\n",
              "<title>C</title>\n",
              "<ellipse fill=\"none\" stroke=\"blue\" cx=\"162\" cy=\"-45\" rx=\"18\" ry=\"18\"/>\n",
              "<text text-anchor=\"middle\" x=\"162\" y=\"-41.3\" font-family=\"Times,serif\" font-size=\"14.00\">C</text>\n",
              "</g>\n",
              "<!-- B&#45;&gt;C -->\n",
              "<g id=\"edge2\" class=\"edge\">\n",
              "<title>B&#45;&gt;C</title>\n",
              "<path fill=\"none\" stroke=\"black\" d=\"M108.3,-45C116.02,-45 125.29,-45 133.89,-45\"/>\n",
              "<polygon fill=\"black\" stroke=\"black\" points=\"133.9,-48.5 143.9,-45 133.9,-41.5 133.9,-48.5\"/>\n",
              "</g>\n",
              "<!-- D -->\n",
              "<g id=\"node4\" class=\"node\">\n",
              "<title>D</title>\n",
              "<ellipse fill=\"none\" stroke=\"blue\" cx=\"234.2\" cy=\"-45\" rx=\"18.4\" ry=\"18.4\"/>\n",
              "<text text-anchor=\"middle\" x=\"234.2\" y=\"-41.3\" font-family=\"Times,serif\" font-size=\"14.00\">D</text>\n",
              "</g>\n",
              "<!-- C&#45;&gt;D -->\n",
              "<g id=\"edge3\" class=\"edge\">\n",
              "<title>C&#45;&gt;D</title>\n",
              "<path fill=\"none\" stroke=\"black\" d=\"M180.35,-45C187.89,-45 196.91,-45 205.34,-45\"/>\n",
              "<polygon fill=\"black\" stroke=\"black\" points=\"205.56,-48.5 215.56,-45 205.56,-41.5 205.56,-48.5\"/>\n",
              "</g>\n",
              "<!-- E -->\n",
              "<g id=\"node5\" class=\"node\">\n",
              "<title>E</title>\n",
              "<ellipse fill=\"none\" stroke=\"blue\" cx=\"378.4\" cy=\"-72\" rx=\"18\" ry=\"18\"/>\n",
              "<text text-anchor=\"middle\" x=\"378.4\" y=\"-68.3\" font-family=\"Times,serif\" font-size=\"14.00\">E</text>\n",
              "</g>\n",
              "<!-- D&#45;&gt;E -->\n",
              "<g id=\"edge4\" class=\"edge\">\n",
              "<title>D&#45;&gt;E</title>\n",
              "<path fill=\"none\" stroke=\"black\" d=\"M252.35,-48.26C276.72,-52.88 321.59,-61.4 350.43,-66.88\"/>\n",
              "<polygon fill=\"black\" stroke=\"black\" points=\"350.15,-70.39 360.63,-68.82 351.45,-63.51 350.15,-70.39\"/>\n",
              "</g>\n",
              "<!-- X -->\n",
              "<g id=\"node6\" class=\"node\">\n",
              "<title>X</title>\n",
              "<ellipse fill=\"none\" stroke=\"green\" cx=\"306.4\" cy=\"-22\" rx=\"18\" ry=\"18\"/>\n",
              "<text text-anchor=\"middle\" x=\"306.4\" y=\"-18.3\" font-family=\"Times,serif\" font-size=\"14.00\">X</text>\n",
              "</g>\n",
              "<!-- D&#45;&gt;X -->\n",
              "<g id=\"edge5\" class=\"edge\">\n",
              "<title>D&#45;&gt;X</title>\n",
              "<path fill=\"none\" stroke=\"black\" d=\"M251.83,-39.55C260.05,-36.86 270.16,-33.55 279.37,-30.53\"/>\n",
              "<polygon fill=\"black\" stroke=\"black\" points=\"280.47,-33.85 288.88,-27.41 278.29,-27.2 280.47,-33.85\"/>\n",
              "</g>\n",
              "<!-- M -->\n",
              "<g id=\"node8\" class=\"node\">\n",
              "<title>M</title>\n",
              "<ellipse fill=\"none\" stroke=\"magenta\" cx=\"452.54\" cy=\"-45\" rx=\"20.3\" ry=\"20.3\"/>\n",
              "<text text-anchor=\"middle\" x=\"452.54\" y=\"-41.3\" font-family=\"Times,serif\" font-size=\"14.00\">M</text>\n",
              "</g>\n",
              "<!-- E&#45;&gt;M -->\n",
              "<g id=\"edge8\" class=\"edge\">\n",
              "<title>E&#45;&gt;M</title>\n",
              "<path fill=\"none\" stroke=\"black\" d=\"M395.41,-66.01C403.79,-62.87 414.29,-58.94 423.93,-55.33\"/>\n",
              "<polygon fill=\"black\" stroke=\"black\" points=\"425.41,-58.52 433.55,-51.73 422.96,-51.96 425.41,-58.52\"/>\n",
              "</g>\n",
              "<!-- Y -->\n",
              "<g id=\"node7\" class=\"node\">\n",
              "<title>Y</title>\n",
              "<ellipse fill=\"none\" stroke=\"green\" cx=\"378.4\" cy=\"-18\" rx=\"18\" ry=\"18\"/>\n",
              "<text text-anchor=\"middle\" x=\"378.4\" y=\"-14.3\" font-family=\"Times,serif\" font-size=\"14.00\">Y</text>\n",
              "</g>\n",
              "<!-- X&#45;&gt;Y -->\n",
              "<g id=\"edge6\" class=\"edge\">\n",
              "<title>X&#45;&gt;Y</title>\n",
              "<path fill=\"none\" stroke=\"black\" d=\"M324.7,-21.01C332.41,-20.57 341.68,-20.04 350.28,-19.55\"/>\n",
              "<polygon fill=\"black\" stroke=\"black\" points=\"350.51,-23.04 360.29,-18.98 350.11,-16.05 350.51,-23.04\"/>\n",
              "</g>\n",
              "<!-- Y&#45;&gt;M -->\n",
              "<g id=\"edge7\" class=\"edge\">\n",
              "<title>Y&#45;&gt;M</title>\n",
              "<path fill=\"none\" stroke=\"black\" d=\"M395.41,-23.99C403.79,-27.13 414.29,-31.06 423.93,-34.67\"/>\n",
              "<polygon fill=\"black\" stroke=\"black\" points=\"422.96,-38.04 433.55,-38.27 425.41,-31.48 422.96,-38.04\"/>\n",
              "</g>\n",
              "</g>\n",
              "</svg>\n"
            ],
            "text/plain": [
              "<graphviz.graphs.Digraph at 0x7f58f80c2230>"
            ]
          },
          "metadata": {},
          "output_type": "display_data"
        }
      ],
      "source": [
        "### Este c\u00f3digo es para crear el gr\u00e1fico de las ramas, no es necesario para el curso\n",
        "\n",
        "import graphviz\n",
        "\n",
        "# Crear el gr\u00e1fico con la direcci\u00f3n de las flechas de izquierda a derecha\n",
        "orin = graphviz.Digraph('G', graph_attr={'rankdir': 'LR'})\n",
        "not_fast_forward = graphviz.Digraph('G', graph_attr={'rankdir': 'LR'})\n",
        "\n",
        "# Agregar nodos (pelotas) A, B, C y D en la rama principal\n",
        "orin.node('A', shape='circle', label='A', color='blue')\n",
        "orin.node('B', shape='circle', label='B', color='blue')\n",
        "orin.node('C', shape='circle', label='C', color='blue')\n",
        "orin.node('D', shape='circle', label='D', color='blue')\n",
        "orin.node('E', shape='circle', label='', color='transparent')\n",
        "not_fast_forward.node('A', shape='circle', label='A', color='blue')\n",
        "not_fast_forward.node('B', shape='circle', label='B', color='blue')\n",
        "not_fast_forward.node('C', shape='circle', label='C', color='blue')\n",
        "not_fast_forward.node('D', shape='circle', label='D', color='blue')\n",
        "not_fast_forward.node('E', shape='circle', label='E', color='blue')\n",
        "\n",
        "# Agregar nodos (pelotas) X e Y en la rama secundaria\n",
        "orin.node('X', shape='circle', label='X', color='green')\n",
        "orin.node('Y', shape='circle', label='Y', color='green')\n",
        "not_fast_forward.node('X', shape='circle', label='X', color='green')\n",
        "not_fast_forward.node('Y', shape='circle', label='Y', color='green')\n",
        "\n",
        "# Agregar nodo (pelota) M en la rama principal\n",
        "not_fast_forward.node('M', shape='circle', label='M', color='magenta')\n",
        "\n",
        "# Agregar flechas entre los nodos en la rama principal\n",
        "orin.edges(['AB', 'BC', 'CD'])\n",
        "orin.edge('D', 'E', color='transparent')  # Hacer la flecha de C a D transparente\n",
        "not_fast_forward.edges(['AB', 'BC', 'CD', 'DE'])\n",
        "\n",
        "# Agregar flechas entre los nodos en la rama secundaria\n",
        "orin.edges(['DX', 'XY'])\n",
        "not_fast_forward.edges(['DX', 'XY', 'YM'])\n",
        "\n",
        "# Agregar flechas de la rama principal al nodo M\n",
        "not_fast_forward.edge('E', 'M')\n",
        "\n",
        "# Mostrar el diagrama de flujo en la celda de c\u00f3digo de Jupyter Notebook\n",
        "display(orin)\n",
        "display(not_fast_forward)"
      ]
    },
    {
      "cell_type": "markdown",
      "metadata": {},
      "source": [
        "Let's first check that we are on the main branch"
      ]
    },
    {
      "cell_type": "code",
      "execution_count": 146,
      "metadata": {},
      "outputs": [
        {
          "name": "stdout",
          "output_type": "stream",
          "text": [
            "main\n"
          ]
        }
      ],
      "source": [
        "!cd notebook_git && git branch --show-current"
      ]
    },
    {
      "cell_type": "markdown",
      "metadata": {},
      "source": [
        "We create a new branch"
      ]
    },
    {
      "cell_type": "code",
      "execution_count": 147,
      "metadata": {},
      "outputs": [],
      "source": [
        "!cd notebook_git && git branch branch_no_fast_forward"
      ]
    },
    {
      "cell_type": "markdown",
      "metadata": {},
      "source": [
        "We switch to her"
      ]
    },
    {
      "cell_type": "code",
      "execution_count": 148,
      "metadata": {},
      "outputs": [
        {
          "name": "stdout",
          "output_type": "stream",
          "text": [
            "Cambiado a rama 'branch_no_fast_forward'\n"
          ]
        }
      ],
      "source": [
        "!cd notebook_git && git switch branch_no_fast_forward"
      ]
    },
    {
      "cell_type": "code",
      "execution_count": 149,
      "metadata": {},
      "outputs": [
        {
          "name": "stdout",
          "output_type": "stream",
          "text": [
            "branch_no_fast_forward\n"
          ]
        }
      ],
      "source": [
        "!cd notebook_git && git branch --show-current"
      ]
    },
    {
      "cell_type": "markdown",
      "metadata": {},
      "source": [
        "Okay, we are on a branch created from the main one with its entire log history, and we make two new commits."
      ]
    },
    {
      "cell_type": "code",
      "execution_count": 150,
      "metadata": {},
      "outputs": [
        {
          "name": "stdout",
          "output_type": "stream",
          "text": [
            "[branch_no_fast_forward e4e23c9] file1\n",
            " 1 file changed, 0 insertions(+), 0 deletions(-)\n",
            " create mode 100644 file1\n"
          ]
        }
      ],
      "source": [
        "!cd notebook_git && touch file1 && git add file1 && git commit -m \"file1\""
      ]
    },
    {
      "cell_type": "code",
      "execution_count": 151,
      "metadata": {},
      "outputs": [
        {
          "name": "stdout",
          "output_type": "stream",
          "text": [
            "[branch_no_fast_forward 8df3429] file2\n",
            " 1 file changed, 0 insertions(+), 0 deletions(-)\n",
            " create mode 100644 file2\n"
          ]
        }
      ],
      "source": [
        "!cd notebook_git && touch file2 && git add file2 && git commit -m \"file2\""
      ]
    },
    {
      "cell_type": "markdown",
      "metadata": {},
      "source": [
        "We make a new log to see what has been created in this new branch"
      ]
    },
    {
      "cell_type": "code",
      "execution_count": 152,
      "metadata": {},
      "outputs": [
        {
          "name": "stdout",
          "output_type": "stream",
          "text": [
            "* \u001b[33m8df3429\u001b[m\u001b[33m (\u001b[m\u001b[1;36mHEAD -> \u001b[m\u001b[1;32mbranch_no_fast_forward\u001b[m\u001b[33m)\u001b[m file2\n",
            "* \u001b[33me4e23c9\u001b[m file1\n",
            "* \u001b[33m94149fc\u001b[m\u001b[33m (\u001b[m\u001b[1;32mmain\u001b[m\u001b[33m, \u001b[m\u001b[1;32mbranch_fast_forward\u001b[m\u001b[33m)\u001b[m Eliminado hola.py\n",
            "* \u001b[33m4484e70\u001b[m Eliminado archivo4.py\n",
            "* \u001b[33m564ccfb\u001b[m\u001b[33m (\u001b[m\u001b[1;32mnew_branch2\u001b[m\u001b[33m)\u001b[m Commit con el archivo 8\n",
            "* \u001b[33m5168f78\u001b[m Eliminado archivo7.py\n",
            "* \u001b[33m4bb9d75\u001b[m\u001b[33m (\u001b[m\u001b[1;32mnew_branch\u001b[m\u001b[33m)\u001b[m Commit con el archivo 7\n",
            "* \u001b[33mea615a9\u001b[m Eliminado archivo5.py\n",
            "* \u001b[33me3153a5\u001b[m Commit con los archivos 4 y 5\n",
            "* \u001b[33m0b09cfa\u001b[m A\u00f1adido .gitignore\n",
            "* \u001b[33m04ebd1f\u001b[m Commit con los archivos 1 y 2\n",
            "* \u001b[33mc4930d7\u001b[m Tercer commit, hola.py\n",
            "* \u001b[33m6e99e73\u001b[m Segundo commit, hola.py\n",
            "* \u001b[33m1c95e4f\u001b[m Primer commit, hola.py\n"
          ]
        }
      ],
      "source": [
        "!cd notebook_git && git log --graph --oneline --decorate"
      ]
    },
    {
      "cell_type": "markdown",
      "metadata": {},
      "source": [
        "As we can see, the last two commits are the ones we have created and we can check that these commits are not in the main branch (for this I specify that it should be done on the `main` branch)"
      ]
    },
    {
      "cell_type": "code",
      "execution_count": 153,
      "metadata": {},
      "outputs": [
        {
          "name": "stdout",
          "output_type": "stream",
          "text": [
            "* \u001b[33m94149fc\u001b[m\u001b[33m (\u001b[m\u001b[1;32mmain\u001b[m\u001b[33m, \u001b[m\u001b[1;32mbranch_fast_forward\u001b[m\u001b[33m)\u001b[m Eliminado hola.py\n",
            "* \u001b[33m4484e70\u001b[m Eliminado archivo4.py\n",
            "* \u001b[33m564ccfb\u001b[m\u001b[33m (\u001b[m\u001b[1;32mnew_branch2\u001b[m\u001b[33m)\u001b[m Commit con el archivo 8\n",
            "* \u001b[33m5168f78\u001b[m Eliminado archivo7.py\n",
            "* \u001b[33m4bb9d75\u001b[m\u001b[33m (\u001b[m\u001b[1;32mnew_branch\u001b[m\u001b[33m)\u001b[m Commit con el archivo 7\n",
            "* \u001b[33mea615a9\u001b[m Eliminado archivo5.py\n",
            "* \u001b[33me3153a5\u001b[m Commit con los archivos 4 y 5\n",
            "* \u001b[33m0b09cfa\u001b[m A\u00f1adido .gitignore\n",
            "* \u001b[33m04ebd1f\u001b[m Commit con los archivos 1 y 2\n",
            "* \u001b[33mc4930d7\u001b[m Tercer commit, hola.py\n",
            "* \u001b[33m6e99e73\u001b[m Segundo commit, hola.py\n",
            "* \u001b[33m1c95e4f\u001b[m Primer commit, hola.py\n"
          ]
        }
      ],
      "source": [
        "!cd notebook_git && git log main --graph --oneline --decorate"
      ]
    },
    {
      "attachments": {},
      "cell_type": "markdown",
      "metadata": {},
      "source": [
        "Now we are going to the `main` branch"
      ]
    },
    {
      "cell_type": "code",
      "execution_count": 154,
      "metadata": {},
      "outputs": [
        {
          "name": "stdout",
          "output_type": "stream",
          "text": [
            "Cambiado a rama 'main'\n"
          ]
        }
      ],
      "source": [
        "!cd notebook_git && git switch main"
      ]
    },
    {
      "attachments": {},
      "cell_type": "markdown",
      "metadata": {},
      "source": [
        "We create a new commit"
      ]
    },
    {
      "cell_type": "code",
      "execution_count": 155,
      "metadata": {},
      "outputs": [
        {
          "name": "stdout",
          "output_type": "stream",
          "text": [
            "[main 8bdf4d8] file3\n",
            " 1 file changed, 0 insertions(+), 0 deletions(-)\n",
            " create mode 100644 file3\n"
          ]
        }
      ],
      "source": [
        "!cd notebook_git && touch file3 && git add file3 && git commit -m \"file3\""
      ]
    },
    {
      "attachments": {},
      "cell_type": "markdown",
      "metadata": {},
      "source": [
        "Finally, we do a non-fast-forward merge"
      ]
    },
    {
      "cell_type": "code",
      "execution_count": 152,
      "metadata": {},
      "outputs": [
        {
          "name": "stdout",
          "output_type": "stream",
          "text": [
            "\u001b[2B\u001b[m\u001b[mommit. comenzando con '#' ser\u00e1n ignoradas, y un mensaje vac\u00edo abortasaria esta\u001b[m\u001b[7m>\u001b[4;1H\u001b[m\u001b[36m# especialmente si esto fusiona un upstream actualizado en una rama de t\u00f3pico. /home/wallabot/Documentos/web/portafolio/posts/notebook_git/.git/MERGE_MSG   \u001b[1;79H\u001b[m\u001b[22;16H\u001b[7m[ l\u00ednea 1/7 (14%), col 1/48 (2%), car 0/301 (0%) ]\u001b[m\u001b[22;16H             \u001b[7m[ P\u00e1rrafo justificado ]\u001b[m\u001b[K\u001b[H\u001b[7m...llabot/Documentos/web/portafolio/posts/notebook_git/.git/MERGE_MSG Modificado\u001b[1;80H\u001b[m"
          ]
        }
      ],
      "source": [
        "!cd notebook_git && git merge branch_no_fast_forward --no-ff"
      ]
    },
    {
      "attachments": {},
      "cell_type": "markdown",
      "metadata": {},
      "source": [
        "As we can see, it opens the editor to enter a commit message and a default message. We accept the message and see what has happened."
      ]
    },
    {
      "cell_type": "code",
      "execution_count": 156,
      "metadata": {},
      "outputs": [
        {
          "name": "stdout",
          "output_type": "stream",
          "text": [
            "En la rama main\n",
            "nada para hacer commit, el \u00e1rbol de trabajo est\u00e1 limpio\n"
          ]
        }
      ],
      "source": [
        "!cd notebook_git && git status"
      ]
    },
    {
      "cell_type": "code",
      "execution_count": 157,
      "metadata": {},
      "outputs": [
        {
          "name": "stdout",
          "output_type": "stream",
          "text": [
            "*   \u001b[33m274529c\u001b[m\u001b[33m (\u001b[m\u001b[1;36mHEAD -> \u001b[m\u001b[1;32mmain\u001b[m\u001b[33m)\u001b[m Merge branch 'branch_no_fast_forward' into main\n",
            "\u001b[31m|\u001b[m\u001b[32m\\\u001b[m  \n",
            "\u001b[31m|\u001b[m * \u001b[33m8df3429\u001b[m\u001b[33m (\u001b[m\u001b[1;32mbranch_no_fast_forward\u001b[m\u001b[33m)\u001b[m file2\n",
            "\u001b[31m|\u001b[m * \u001b[33me4e23c9\u001b[m file1\n",
            "* \u001b[32m|\u001b[m \u001b[33m8bdf4d8\u001b[m file3\n",
            "\u001b[32m|\u001b[m\u001b[32m/\u001b[m  \n",
            "* \u001b[33m94149fc\u001b[m\u001b[33m (\u001b[m\u001b[1;32mbranch_fast_forward\u001b[m\u001b[33m)\u001b[m Eliminado hola.py\n",
            "* \u001b[33m4484e70\u001b[m Eliminado archivo4.py\n",
            "* \u001b[33m564ccfb\u001b[m\u001b[33m (\u001b[m\u001b[1;32mnew_branch2\u001b[m\u001b[33m)\u001b[m Commit con el archivo 8\n",
            "* \u001b[33m5168f78\u001b[m Eliminado archivo7.py\n",
            "* \u001b[33m4bb9d75\u001b[m\u001b[33m (\u001b[m\u001b[1;32mnew_branch\u001b[m\u001b[33m)\u001b[m Commit con el archivo 7\n",
            "* \u001b[33mea615a9\u001b[m Eliminado archivo5.py\n",
            "* \u001b[33me3153a5\u001b[m Commit con los archivos 4 y 5\n",
            "* \u001b[33m0b09cfa\u001b[m A\u00f1adido .gitignore\n",
            "* \u001b[33m04ebd1f\u001b[m Commit con los archivos 1 y 2\n",
            "* \u001b[33mc4930d7\u001b[m Tercer commit, hola.py\n",
            "* \u001b[33m6e99e73\u001b[m Segundo commit, hola.py\n",
            "* \u001b[33m1c95e4f\u001b[m Primer commit, hola.py\n"
          ]
        }
      ],
      "source": [
        "!cd notebook_git && git log --graph --oneline --decorate"
      ]
    },
    {
      "cell_type": "code",
      "execution_count": 158,
      "metadata": {},
      "outputs": [
        {
          "name": "stdout",
          "output_type": "stream",
          "text": [
            "api_keys.py  archivo1.py  archivo2.py  archivo8.py  file1  file2  file3\n"
          ]
        }
      ],
      "source": [
        "!cd notebook_git && ls"
      ]
    },
    {
      "attachments": {},
      "cell_type": "markdown",
      "metadata": {},
      "source": [
        "As we can see, a new commit has been created with the changes from the new branch in the main branch."
      ]
    },
    {
      "attachments": {},
      "cell_type": "markdown",
      "metadata": {},
      "source": [
        "#### Squash"
      ]
    },
    {
      "attachments": {},
      "cell_type": "markdown",
      "metadata": {},
      "source": [
        "In this type of merge, all the commits from a new branch are combined into a single commit in the main branch. For this, we write `git merge <branch> --squash`"
      ]
    },
    {
      "cell_type": "code",
      "execution_count": 159,
      "metadata": {},
      "outputs": [
        {
          "data": {
            "image/svg+xml": [
              "<?xml version=\"1.0\" encoding=\"UTF-8\" standalone=\"no\"?>\n",
              "<!DOCTYPE svg PUBLIC \"-//W3C//DTD SVG 1.1//EN\"\n",
              " \"http://www.w3.org/Graphics/SVG/1.1/DTD/svg11.dtd\">\n",
              "<!-- Generated by graphviz version 2.43.0 (0)\n",
              " -->\n",
              "<!-- Title: G Pages: 1 -->\n",
              "<svg width=\"404pt\" height=\"98pt\"\n",
              " viewBox=\"0.00 0.00 404.40 98.00\" xmlns=\"http://www.w3.org/2000/svg\" xmlns:xlink=\"http://www.w3.org/1999/xlink\">\n",
              "<g id=\"graph0\" class=\"graph\" transform=\"scale(1 1) rotate(0) translate(4 94)\">\n",
              "<title>G</title>\n",
              "<polygon fill=\"white\" stroke=\"transparent\" points=\"-4,4 -4,-94 400.4,-94 400.4,4 -4,4\"/>\n",
              "<!-- A -->\n",
              "<g id=\"node1\" class=\"node\">\n",
              "<title>A</title>\n",
              "<ellipse fill=\"none\" stroke=\"blue\" cx=\"18\" cy=\"-45\" rx=\"18\" ry=\"18\"/>\n",
              "<text text-anchor=\"middle\" x=\"18\" y=\"-41.3\" font-family=\"Times,serif\" font-size=\"14.00\">A</text>\n",
              "</g>\n",
              "<!-- B -->\n",
              "<g id=\"node2\" class=\"node\">\n",
              "<title>B</title>\n",
              "<ellipse fill=\"none\" stroke=\"blue\" cx=\"90\" cy=\"-45\" rx=\"18\" ry=\"18\"/>\n",
              "<text text-anchor=\"middle\" x=\"90\" y=\"-41.3\" font-family=\"Times,serif\" font-size=\"14.00\">B</text>\n",
              "</g>\n",
              "<!-- A&#45;&gt;B -->\n",
              "<g id=\"edge1\" class=\"edge\">\n",
              "<title>A&#45;&gt;B</title>\n",
              "<path fill=\"none\" stroke=\"black\" d=\"M36.3,-45C44.02,-45 53.29,-45 61.89,-45\"/>\n",
              "<polygon fill=\"black\" stroke=\"black\" points=\"61.9,-48.5 71.9,-45 61.9,-41.5 61.9,-48.5\"/>\n",
              "</g>\n",
              "<!-- C -->\n",
              "<g id=\"node3\" class=\"node\">\n",
              "<title>C</title>\n",
              "<ellipse fill=\"none\" stroke=\"blue\" cx=\"162\" cy=\"-45\" rx=\"18\" ry=\"18\"/>\n",
              "<text text-anchor=\"middle\" x=\"162\" y=\"-41.3\" font-family=\"Times,serif\" font-size=\"14.00\">C</text>\n",
              "</g>\n",
              "<!-- B&#45;&gt;C -->\n",
              "<g id=\"edge2\" class=\"edge\">\n",
              "<title>B&#45;&gt;C</title>\n",
              "<path fill=\"none\" stroke=\"black\" d=\"M108.3,-45C116.02,-45 125.29,-45 133.89,-45\"/>\n",
              "<polygon fill=\"black\" stroke=\"black\" points=\"133.9,-48.5 143.9,-45 133.9,-41.5 133.9,-48.5\"/>\n",
              "</g>\n",
              "<!-- D -->\n",
              "<g id=\"node4\" class=\"node\">\n",
              "<title>D</title>\n",
              "<ellipse fill=\"none\" stroke=\"blue\" cx=\"234.2\" cy=\"-45\" rx=\"18.4\" ry=\"18.4\"/>\n",
              "<text text-anchor=\"middle\" x=\"234.2\" y=\"-41.3\" font-family=\"Times,serif\" font-size=\"14.00\">D</text>\n",
              "</g>\n",
              "<!-- C&#45;&gt;D -->\n",
              "<g id=\"edge3\" class=\"edge\">\n",
              "<title>C&#45;&gt;D</title>\n",
              "<path fill=\"none\" stroke=\"black\" d=\"M180.35,-45C187.89,-45 196.91,-45 205.34,-45\"/>\n",
              "<polygon fill=\"black\" stroke=\"black\" points=\"205.56,-48.5 215.56,-45 205.56,-41.5 205.56,-48.5\"/>\n",
              "</g>\n",
              "<!-- E -->\n",
              "<g id=\"node5\" class=\"node\">\n",
              "<title>E</title>\n",
              "<ellipse fill=\"none\" stroke=\"transparent\" cx=\"306.4\" cy=\"-72\" rx=\"18\" ry=\"18\"/>\n",
              "</g>\n",
              "<!-- D&#45;&gt;E -->\n",
              "<g id=\"edge4\" class=\"edge\">\n",
              "<title>D&#45;&gt;E</title>\n",
              "<path fill=\"none\" stroke=\"transparent\" d=\"M251.48,-51.26C259.9,-54.5 270.36,-58.53 279.83,-62.17\"/>\n",
              "<polygon fill=\"transparent\" stroke=\"transparent\" points=\"278.61,-65.45 289.2,-65.77 281.13,-58.92 278.61,-65.45\"/>\n",
              "</g>\n",
              "<!-- X -->\n",
              "<g id=\"node6\" class=\"node\">\n",
              "<title>X</title>\n",
              "<ellipse fill=\"none\" stroke=\"green\" cx=\"306.4\" cy=\"-18\" rx=\"18\" ry=\"18\"/>\n",
              "<text text-anchor=\"middle\" x=\"306.4\" y=\"-14.3\" font-family=\"Times,serif\" font-size=\"14.00\">X</text>\n",
              "</g>\n",
              "<!-- D&#45;&gt;X -->\n",
              "<g id=\"edge5\" class=\"edge\">\n",
              "<title>D&#45;&gt;X</title>\n",
              "<path fill=\"none\" stroke=\"black\" d=\"M251.48,-38.74C259.9,-35.5 270.36,-31.47 279.83,-27.83\"/>\n",
              "<polygon fill=\"black\" stroke=\"black\" points=\"281.13,-31.08 289.2,-24.23 278.61,-24.55 281.13,-31.08\"/>\n",
              "</g>\n",
              "<!-- Y -->\n",
              "<g id=\"node7\" class=\"node\">\n",
              "<title>Y</title>\n",
              "<ellipse fill=\"none\" stroke=\"green\" cx=\"378.4\" cy=\"-18\" rx=\"18\" ry=\"18\"/>\n",
              "<text text-anchor=\"middle\" x=\"378.4\" y=\"-14.3\" font-family=\"Times,serif\" font-size=\"14.00\">Y</text>\n",
              "</g>\n",
              "<!-- X&#45;&gt;Y -->\n",
              "<g id=\"edge6\" class=\"edge\">\n",
              "<title>X&#45;&gt;Y</title>\n",
              "<path fill=\"none\" stroke=\"black\" d=\"M324.7,-18C332.41,-18 341.68,-18 350.28,-18\"/>\n",
              "<polygon fill=\"black\" stroke=\"black\" points=\"350.29,-21.5 360.29,-18 350.29,-14.5 350.29,-21.5\"/>\n",
              "</g>\n",
              "</g>\n",
              "</svg>\n"
            ],
            "text/plain": [
              "<graphviz.graphs.Digraph at 0x7f58f80e6470>"
            ]
          },
          "metadata": {},
          "output_type": "display_data"
        },
        {
          "data": {
            "image/svg+xml": [
              "<?xml version=\"1.0\" encoding=\"UTF-8\" standalone=\"no\"?>\n",
              "<!DOCTYPE svg PUBLIC \"-//W3C//DTD SVG 1.1//EN\"\n",
              " \"http://www.w3.org/Graphics/SVG/1.1/DTD/svg11.dtd\">\n",
              "<!-- Generated by graphviz version 2.43.0 (0)\n",
              " -->\n",
              "<!-- Title: G Pages: 1 -->\n",
              "<svg width=\"337pt\" height=\"48pt\"\n",
              " viewBox=\"0.00 0.00 336.69 48.30\" xmlns=\"http://www.w3.org/2000/svg\" xmlns:xlink=\"http://www.w3.org/1999/xlink\">\n",
              "<g id=\"graph0\" class=\"graph\" transform=\"scale(1 1) rotate(0) translate(4 44.3)\">\n",
              "<title>G</title>\n",
              "<polygon fill=\"white\" stroke=\"transparent\" points=\"-4,4 -4,-44.3 332.69,-44.3 332.69,4 -4,4\"/>\n",
              "<!-- A -->\n",
              "<g id=\"node1\" class=\"node\">\n",
              "<title>A</title>\n",
              "<ellipse fill=\"none\" stroke=\"blue\" cx=\"18\" cy=\"-20.15\" rx=\"18\" ry=\"18\"/>\n",
              "<text text-anchor=\"middle\" x=\"18\" y=\"-16.45\" font-family=\"Times,serif\" font-size=\"14.00\">A</text>\n",
              "</g>\n",
              "<!-- B -->\n",
              "<g id=\"node2\" class=\"node\">\n",
              "<title>B</title>\n",
              "<ellipse fill=\"none\" stroke=\"blue\" cx=\"90\" cy=\"-20.15\" rx=\"18\" ry=\"18\"/>\n",
              "<text text-anchor=\"middle\" x=\"90\" y=\"-16.45\" font-family=\"Times,serif\" font-size=\"14.00\">B</text>\n",
              "</g>\n",
              "<!-- A&#45;&gt;B -->\n",
              "<g id=\"edge1\" class=\"edge\">\n",
              "<title>A&#45;&gt;B</title>\n",
              "<path fill=\"none\" stroke=\"black\" d=\"M36.3,-20.15C44.02,-20.15 53.29,-20.15 61.89,-20.15\"/>\n",
              "<polygon fill=\"black\" stroke=\"black\" points=\"61.9,-23.65 71.9,-20.15 61.9,-16.65 61.9,-23.65\"/>\n",
              "</g>\n",
              "<!-- C -->\n",
              "<g id=\"node3\" class=\"node\">\n",
              "<title>C</title>\n",
              "<ellipse fill=\"none\" stroke=\"blue\" cx=\"162\" cy=\"-20.15\" rx=\"18\" ry=\"18\"/>\n",
              "<text text-anchor=\"middle\" x=\"162\" y=\"-16.45\" font-family=\"Times,serif\" font-size=\"14.00\">C</text>\n",
              "</g>\n",
              "<!-- B&#45;&gt;C -->\n",
              "<g id=\"edge2\" class=\"edge\">\n",
              "<title>B&#45;&gt;C</title>\n",
              "<path fill=\"none\" stroke=\"black\" d=\"M108.3,-20.15C116.02,-20.15 125.29,-20.15 133.89,-20.15\"/>\n",
              "<polygon fill=\"black\" stroke=\"black\" points=\"133.9,-23.65 143.9,-20.15 133.9,-16.65 133.9,-23.65\"/>\n",
              "</g>\n",
              "<!-- D -->\n",
              "<g id=\"node4\" class=\"node\">\n",
              "<title>D</title>\n",
              "<ellipse fill=\"none\" stroke=\"blue\" cx=\"234.2\" cy=\"-20.15\" rx=\"18.4\" ry=\"18.4\"/>\n",
              "<text text-anchor=\"middle\" x=\"234.2\" y=\"-16.45\" font-family=\"Times,serif\" font-size=\"14.00\">D</text>\n",
              "</g>\n",
              "<!-- C&#45;&gt;D -->\n",
              "<g id=\"edge3\" class=\"edge\">\n",
              "<title>C&#45;&gt;D</title>\n",
              "<path fill=\"none\" stroke=\"black\" d=\"M180.35,-20.15C187.89,-20.15 196.91,-20.15 205.34,-20.15\"/>\n",
              "<polygon fill=\"black\" stroke=\"black\" points=\"205.56,-23.65 215.56,-20.15 205.56,-16.65 205.56,-23.65\"/>\n",
              "</g>\n",
              "<!-- M -->\n",
              "<g id=\"node5\" class=\"node\">\n",
              "<title>M</title>\n",
              "<ellipse fill=\"none\" stroke=\"magenta\" cx=\"308.54\" cy=\"-20.15\" rx=\"20.3\" ry=\"20.3\"/>\n",
              "<text text-anchor=\"middle\" x=\"308.54\" y=\"-16.45\" font-family=\"Times,serif\" font-size=\"14.00\">M</text>\n",
              "</g>\n",
              "<!-- D&#45;&gt;M -->\n",
              "<g id=\"edge4\" class=\"edge\">\n",
              "<title>D&#45;&gt;M</title>\n",
              "<path fill=\"none\" stroke=\"black\" d=\"M252.71,-20.15C260.32,-20.15 269.45,-20.15 278.06,-20.15\"/>\n",
              "<polygon fill=\"black\" stroke=\"black\" points=\"278.16,-23.65 288.16,-20.15 278.16,-16.65 278.16,-23.65\"/>\n",
              "</g>\n",
              "</g>\n",
              "</svg>\n"
            ],
            "text/plain": [
              "<graphviz.graphs.Digraph at 0x7f58f80e6f80>"
            ]
          },
          "metadata": {},
          "output_type": "display_data"
        }
      ],
      "source": [
        "### Este c\u00f3digo es para crear el gr\u00e1fico de las ramas, no es necesario para el curso\n",
        "\n",
        "import graphviz\n",
        "\n",
        "# Crear el gr\u00e1fico con la direcci\u00f3n de las flechas de izquierda a derecha\n",
        "orin = graphviz.Digraph('G', graph_attr={'rankdir': 'LR'})\n",
        "squash = graphviz.Digraph('G', graph_attr={'rankdir': 'LR'})\n",
        "\n",
        "# Agregar nodos (pelotas) A, B, C y D en la rama principal\n",
        "orin.node('A', shape='circle', label='A', color='blue')\n",
        "orin.node('B', shape='circle', label='B', color='blue')\n",
        "orin.node('C', shape='circle', label='C', color='blue')\n",
        "orin.node('D', shape='circle', label='D', color='blue')\n",
        "orin.node('E', shape='circle', label='', color='transparent')\n",
        "squash.node('A', shape='circle', label='A', color='blue')\n",
        "squash.node('B', shape='circle', label='B', color='blue')\n",
        "squash.node('C', shape='circle', label='C', color='blue')\n",
        "squash.node('D', shape='circle', label='D', color='blue')\n",
        "\n",
        "# Agregar nodos (pelotas) X e Y en la rama secundaria\n",
        "orin.node('X', shape='circle', label='X', color='green')\n",
        "orin.node('Y', shape='circle', label='Y', color='green')\n",
        "\n",
        "# Agregar nodo (pelota) M en la rama principal\n",
        "squash.node('M', shape='circle', label='M', color='magenta')\n",
        "\n",
        "# Agregar flechas entre los nodos en la rama principal\n",
        "orin.edges(['AB', 'BC', 'CD'])\n",
        "orin.edge('D', 'E', color='transparent')  # Hacer la flecha de C a D transparente\n",
        "squash.edges(['AB', 'BC', 'CD', 'DM'])\n",
        "\n",
        "# Agregar flechas entre los nodos en la rama secundaria\n",
        "orin.edges(['DX', 'XY'])\n",
        "\n",
        "# Mostrar el diagrama de flujo en la celda de c\u00f3digo de Jupyter Notebook\n",
        "display(orin)\n",
        "display(squash)"
      ]
    },
    {
      "cell_type": "markdown",
      "metadata": {},
      "source": [
        "Let's first check that we are on the main branch"
      ]
    },
    {
      "cell_type": "code",
      "execution_count": 160,
      "metadata": {},
      "outputs": [
        {
          "name": "stdout",
          "output_type": "stream",
          "text": [
            "main\n"
          ]
        }
      ],
      "source": [
        "!cd notebook_git && git branch --show-current"
      ]
    },
    {
      "cell_type": "markdown",
      "metadata": {},
      "source": [
        "We create a new branch"
      ]
    },
    {
      "cell_type": "code",
      "execution_count": 161,
      "metadata": {},
      "outputs": [],
      "source": [
        "!cd notebook_git && git branch branch_squash"
      ]
    },
    {
      "cell_type": "markdown",
      "metadata": {},
      "source": [
        "We switch to her"
      ]
    },
    {
      "cell_type": "code",
      "execution_count": 162,
      "metadata": {},
      "outputs": [
        {
          "name": "stdout",
          "output_type": "stream",
          "text": [
            "Cambiado a rama 'branch_squash'\n"
          ]
        }
      ],
      "source": [
        "!cd notebook_git && git switch branch_squash"
      ]
    },
    {
      "cell_type": "code",
      "execution_count": 163,
      "metadata": {},
      "outputs": [
        {
          "name": "stdout",
          "output_type": "stream",
          "text": [
            "branch_squash\n"
          ]
        }
      ],
      "source": [
        "!cd notebook_git && git branch --show-current"
      ]
    },
    {
      "cell_type": "markdown",
      "metadata": {},
      "source": [
        "Let's check the log"
      ]
    },
    {
      "cell_type": "code",
      "execution_count": 164,
      "metadata": {},
      "outputs": [
        {
          "name": "stdout",
          "output_type": "stream",
          "text": [
            "*   \u001b[33m274529c\u001b[m\u001b[33m (\u001b[m\u001b[1;36mHEAD -> \u001b[m\u001b[1;32mbranch_squash\u001b[m\u001b[33m, \u001b[m\u001b[1;32mmain\u001b[m\u001b[33m)\u001b[m Merge branch 'branch_no_fast_forward' into main\n",
            "\u001b[31m|\u001b[m\u001b[32m\\\u001b[m  \n",
            "\u001b[31m|\u001b[m * \u001b[33m8df3429\u001b[m\u001b[33m (\u001b[m\u001b[1;32mbranch_no_fast_forward\u001b[m\u001b[33m)\u001b[m file2\n",
            "\u001b[31m|\u001b[m * \u001b[33me4e23c9\u001b[m file1\n",
            "* \u001b[32m|\u001b[m \u001b[33m8bdf4d8\u001b[m file3\n",
            "\u001b[32m|\u001b[m\u001b[32m/\u001b[m  \n",
            "* \u001b[33m94149fc\u001b[m\u001b[33m (\u001b[m\u001b[1;32mbranch_fast_forward\u001b[m\u001b[33m)\u001b[m Eliminado hola.py\n",
            "* \u001b[33m4484e70\u001b[m Eliminado archivo4.py\n",
            "* \u001b[33m564ccfb\u001b[m\u001b[33m (\u001b[m\u001b[1;32mnew_branch2\u001b[m\u001b[33m)\u001b[m Commit con el archivo 8\n",
            "* \u001b[33m5168f78\u001b[m Eliminado archivo7.py\n",
            "* \u001b[33m4bb9d75\u001b[m\u001b[33m (\u001b[m\u001b[1;32mnew_branch\u001b[m\u001b[33m)\u001b[m Commit con el archivo 7\n",
            "* \u001b[33mea615a9\u001b[m Eliminado archivo5.py\n",
            "* \u001b[33me3153a5\u001b[m Commit con los archivos 4 y 5\n",
            "* \u001b[33m0b09cfa\u001b[m A\u00f1adido .gitignore\n",
            "* \u001b[33m04ebd1f\u001b[m Commit con los archivos 1 y 2\n",
            "* \u001b[33mc4930d7\u001b[m Tercer commit, hola.py\n",
            "* \u001b[33m6e99e73\u001b[m Segundo commit, hola.py\n",
            "* \u001b[33m1c95e4f\u001b[m Primer commit, hola.py\n"
          ]
        }
      ],
      "source": [
        "!cd notebook_git && git log --graph --oneline --decorate --all"
      ]
    },
    {
      "attachments": {},
      "cell_type": "markdown",
      "metadata": {},
      "source": [
        "Okay, we are on a branch created from the main one with its entire log history, and we make three new commits."
      ]
    },
    {
      "cell_type": "code",
      "execution_count": 165,
      "metadata": {},
      "outputs": [
        {
          "name": "stdout",
          "output_type": "stream",
          "text": [
            "rm 'file1'\n",
            "[branch_squash 767b632] Eliminado file1\n",
            " 1 file changed, 0 insertions(+), 0 deletions(-)\n",
            " delete mode 100644 file1\n"
          ]
        }
      ],
      "source": [
        "!cd notebook_git && git rm file1 && git commit -am \"Eliminado file1\""
      ]
    },
    {
      "cell_type": "code",
      "execution_count": 166,
      "metadata": {},
      "outputs": [
        {
          "name": "stdout",
          "output_type": "stream",
          "text": [
            "rm 'file2'\n",
            "[branch_squash a47f771] Eliminado file2\n",
            " 1 file changed, 0 insertions(+), 0 deletions(-)\n",
            " delete mode 100644 file2\n"
          ]
        }
      ],
      "source": [
        "!cd notebook_git && git rm file2 && git commit -am \"Eliminado file2\""
      ]
    },
    {
      "cell_type": "code",
      "execution_count": 167,
      "metadata": {},
      "outputs": [
        {
          "name": "stdout",
          "output_type": "stream",
          "text": [
            "rm 'file3'\n",
            "[branch_squash 85f8c9f] Eliminado file3\n",
            " 1 file changed, 0 insertions(+), 0 deletions(-)\n",
            " delete mode 100644 file3\n"
          ]
        }
      ],
      "source": [
        "!cd notebook_git && git rm file3 && git commit -am \"Eliminado file3\""
      ]
    },
    {
      "cell_type": "markdown",
      "metadata": {},
      "source": [
        "We make a new log to see what has been created in this new branch"
      ]
    },
    {
      "cell_type": "code",
      "execution_count": 168,
      "metadata": {},
      "outputs": [
        {
          "name": "stdout",
          "output_type": "stream",
          "text": [
            "* \u001b[33m85f8c9f\u001b[m\u001b[33m (\u001b[m\u001b[1;36mHEAD -> \u001b[m\u001b[1;32mbranch_squash\u001b[m\u001b[33m)\u001b[m Eliminado file3\n",
            "* \u001b[33ma47f771\u001b[m Eliminado file2\n",
            "* \u001b[33m767b632\u001b[m Eliminado file1\n",
            "*   \u001b[33m274529c\u001b[m\u001b[33m (\u001b[m\u001b[1;32mmain\u001b[m\u001b[33m)\u001b[m Merge branch 'branch_no_fast_forward' into main\n",
            "\u001b[32m|\u001b[m\u001b[33m\\\u001b[m  \n",
            "\u001b[32m|\u001b[m * \u001b[33m8df3429\u001b[m\u001b[33m (\u001b[m\u001b[1;32mbranch_no_fast_forward\u001b[m\u001b[33m)\u001b[m file2\n",
            "\u001b[32m|\u001b[m * \u001b[33me4e23c9\u001b[m file1\n",
            "* \u001b[33m|\u001b[m \u001b[33m8bdf4d8\u001b[m file3\n",
            "\u001b[33m|\u001b[m\u001b[33m/\u001b[m  \n",
            "* \u001b[33m94149fc\u001b[m\u001b[33m (\u001b[m\u001b[1;32mbranch_fast_forward\u001b[m\u001b[33m)\u001b[m Eliminado hola.py\n",
            "* \u001b[33m4484e70\u001b[m Eliminado archivo4.py\n",
            "* \u001b[33m564ccfb\u001b[m\u001b[33m (\u001b[m\u001b[1;32mnew_branch2\u001b[m\u001b[33m)\u001b[m Commit con el archivo 8\n",
            "* \u001b[33m5168f78\u001b[m Eliminado archivo7.py\n",
            "* \u001b[33m4bb9d75\u001b[m\u001b[33m (\u001b[m\u001b[1;32mnew_branch\u001b[m\u001b[33m)\u001b[m Commit con el archivo 7\n",
            "* \u001b[33mea615a9\u001b[m Eliminado archivo5.py\n",
            "* \u001b[33me3153a5\u001b[m Commit con los archivos 4 y 5\n",
            "* \u001b[33m0b09cfa\u001b[m A\u00f1adido .gitignore\n",
            "* \u001b[33m04ebd1f\u001b[m Commit con los archivos 1 y 2\n",
            "* \u001b[33mc4930d7\u001b[m Tercer commit, hola.py\n",
            "* \u001b[33m6e99e73\u001b[m Segundo commit, hola.py\n",
            "* \u001b[33m1c95e4f\u001b[m Primer commit, hola.py\n"
          ]
        }
      ],
      "source": [
        "!cd notebook_git && git log --graph --oneline --decorate"
      ]
    },
    {
      "attachments": {},
      "cell_type": "markdown",
      "metadata": {},
      "source": [
        "As we can see, the last three commits are the ones we have created and we can verify that these commits are not in the main branch (for this reason I specify that it should be done on the `main` branch)"
      ]
    },
    {
      "cell_type": "code",
      "execution_count": 169,
      "metadata": {},
      "outputs": [
        {
          "name": "stdout",
          "output_type": "stream",
          "text": [
            "*   \u001b[33m274529c\u001b[m\u001b[33m (\u001b[m\u001b[1;32mmain\u001b[m\u001b[33m)\u001b[m Merge branch 'branch_no_fast_forward' into main\n",
            "\u001b[31m|\u001b[m\u001b[32m\\\u001b[m  \n",
            "\u001b[31m|\u001b[m * \u001b[33m8df3429\u001b[m\u001b[33m (\u001b[m\u001b[1;32mbranch_no_fast_forward\u001b[m\u001b[33m)\u001b[m file2\n",
            "\u001b[31m|\u001b[m * \u001b[33me4e23c9\u001b[m file1\n",
            "* \u001b[32m|\u001b[m \u001b[33m8bdf4d8\u001b[m file3\n",
            "\u001b[32m|\u001b[m\u001b[32m/\u001b[m  \n",
            "* \u001b[33m94149fc\u001b[m\u001b[33m (\u001b[m\u001b[1;32mbranch_fast_forward\u001b[m\u001b[33m)\u001b[m Eliminado hola.py\n",
            "* \u001b[33m4484e70\u001b[m Eliminado archivo4.py\n",
            "* \u001b[33m564ccfb\u001b[m\u001b[33m (\u001b[m\u001b[1;32mnew_branch2\u001b[m\u001b[33m)\u001b[m Commit con el archivo 8\n",
            "* \u001b[33m5168f78\u001b[m Eliminado archivo7.py\n",
            "* \u001b[33m4bb9d75\u001b[m\u001b[33m (\u001b[m\u001b[1;32mnew_branch\u001b[m\u001b[33m)\u001b[m Commit con el archivo 7\n",
            "* \u001b[33mea615a9\u001b[m Eliminado archivo5.py\n",
            "* \u001b[33me3153a5\u001b[m Commit con los archivos 4 y 5\n",
            "* \u001b[33m0b09cfa\u001b[m A\u00f1adido .gitignore\n",
            "* \u001b[33m04ebd1f\u001b[m Commit con los archivos 1 y 2\n",
            "* \u001b[33mc4930d7\u001b[m Tercer commit, hola.py\n",
            "* \u001b[33m6e99e73\u001b[m Segundo commit, hola.py\n",
            "* \u001b[33m1c95e4f\u001b[m Primer commit, hola.py\n"
          ]
        }
      ],
      "source": [
        "!cd notebook_git && git log main --graph --oneline --decorate"
      ]
    },
    {
      "cell_type": "markdown",
      "metadata": {},
      "source": [
        "Now we are going to the `main` branch to make the merge"
      ]
    },
    {
      "cell_type": "code",
      "execution_count": 170,
      "metadata": {},
      "outputs": [
        {
          "name": "stdout",
          "output_type": "stream",
          "text": [
            "Cambiado a rama 'main'\n"
          ]
        }
      ],
      "source": [
        "!cd notebook_git && git switch main"
      ]
    },
    {
      "attachments": {},
      "cell_type": "markdown",
      "metadata": {},
      "source": [
        "We perform a squash merge"
      ]
    },
    {
      "cell_type": "code",
      "execution_count": 171,
      "metadata": {},
      "outputs": [
        {
          "name": "stdout",
          "output_type": "stream",
          "text": [
            "Actualizando 274529c..85f8c9f\n",
            "Fast-forward\n",
            "Commit de aplastamiento -- no actualizando HEAD\n",
            " file1 | 0\n",
            " file2 | 0\n",
            " file3 | 0\n",
            " 3 files changed, 0 insertions(+), 0 deletions(-)\n",
            " delete mode 100644 file1\n",
            " delete mode 100644 file2\n",
            " delete mode 100644 file3\n"
          ]
        }
      ],
      "source": [
        "!cd notebook_git && git merge branch_squash --squash"
      ]
    },
    {
      "cell_type": "markdown",
      "metadata": {},
      "source": [
        "The merge has been made, let's see what happened with the log in the `main` branch"
      ]
    },
    {
      "cell_type": "code",
      "execution_count": 172,
      "metadata": {},
      "outputs": [
        {
          "name": "stdout",
          "output_type": "stream",
          "text": [
            "*   \u001b[33m274529c\u001b[m\u001b[33m (\u001b[m\u001b[1;36mHEAD -> \u001b[m\u001b[1;32mmain\u001b[m\u001b[33m)\u001b[m Merge branch 'branch_no_fast_forward' into main\n",
            "\u001b[31m|\u001b[m\u001b[32m\\\u001b[m  \n",
            "\u001b[31m|\u001b[m * \u001b[33m8df3429\u001b[m\u001b[33m (\u001b[m\u001b[1;32mbranch_no_fast_forward\u001b[m\u001b[33m)\u001b[m file2\n",
            "\u001b[31m|\u001b[m * \u001b[33me4e23c9\u001b[m file1\n",
            "* \u001b[32m|\u001b[m \u001b[33m8bdf4d8\u001b[m file3\n",
            "\u001b[32m|\u001b[m\u001b[32m/\u001b[m  \n",
            "* \u001b[33m94149fc\u001b[m\u001b[33m (\u001b[m\u001b[1;32mbranch_fast_forward\u001b[m\u001b[33m)\u001b[m Eliminado hola.py\n",
            "* \u001b[33m4484e70\u001b[m Eliminado archivo4.py\n",
            "* \u001b[33m564ccfb\u001b[m\u001b[33m (\u001b[m\u001b[1;32mnew_branch2\u001b[m\u001b[33m)\u001b[m Commit con el archivo 8\n",
            "* \u001b[33m5168f78\u001b[m Eliminado archivo7.py\n",
            "* \u001b[33m4bb9d75\u001b[m\u001b[33m (\u001b[m\u001b[1;32mnew_branch\u001b[m\u001b[33m)\u001b[m Commit con el archivo 7\n",
            "* \u001b[33mea615a9\u001b[m Eliminado archivo5.py\n",
            "* \u001b[33me3153a5\u001b[m Commit con los archivos 4 y 5\n",
            "* \u001b[33m0b09cfa\u001b[m A\u00f1adido .gitignore\n",
            "* \u001b[33m04ebd1f\u001b[m Commit con los archivos 1 y 2\n",
            "* \u001b[33mc4930d7\u001b[m Tercer commit, hola.py\n",
            "* \u001b[33m6e99e73\u001b[m Segundo commit, hola.py\n",
            "* \u001b[33m1c95e4f\u001b[m Primer commit, hola.py\n"
          ]
        }
      ],
      "source": [
        "!cd notebook_git && git log --graph --oneline --decorate"
      ]
    },
    {
      "attachments": {},
      "cell_type": "markdown",
      "metadata": {},
      "source": [
        "Changes made in the branch are not showing up, let's do a `git status`"
      ]
    },
    {
      "cell_type": "code",
      "execution_count": 173,
      "metadata": {},
      "outputs": [
        {
          "name": "stdout",
          "output_type": "stream",
          "text": [
            "En la rama main\n",
            "Cambios a ser confirmados:\n",
            "  (usa \"git restore --staged <archivo>...\" para sacar del \u00e1rea de stage)\n",
            "\t\u001b[32mborrados:        file1\u001b[m\n",
            "\t\u001b[32mborrados:        file2\u001b[m\n",
            "\t\u001b[32mborrados:        file3\u001b[m\n",
            "\n"
          ]
        }
      ],
      "source": [
        "!cd notebook_git && git status"
      ]
    },
    {
      "attachments": {},
      "cell_type": "markdown",
      "metadata": {},
      "source": [
        "We see that we have to make the commit with the merge. This is because git doesn't know what message to put and leaves it to us to do so, so we do it."
      ]
    },
    {
      "cell_type": "code",
      "execution_count": 174,
      "metadata": {},
      "outputs": [
        {
          "name": "stdout",
          "output_type": "stream",
          "text": [
            "[main 52acb97] Merge squash de los commits de la rama branch_squash\n",
            " 3 files changed, 0 insertions(+), 0 deletions(-)\n",
            " delete mode 100644 file1\n",
            " delete mode 100644 file2\n",
            " delete mode 100644 file3\n"
          ]
        }
      ],
      "source": [
        "!cd notebook_git && git commit -m \"Merge squash de los commits de la rama branch_squash\""
      ]
    },
    {
      "attachments": {},
      "cell_type": "markdown",
      "metadata": {},
      "source": [
        "We run `git log` again"
      ]
    },
    {
      "cell_type": "code",
      "execution_count": 175,
      "metadata": {},
      "outputs": [
        {
          "name": "stdout",
          "output_type": "stream",
          "text": [
            "* \u001b[33m52acb97\u001b[m\u001b[33m (\u001b[m\u001b[1;36mHEAD -> \u001b[m\u001b[1;32mmain\u001b[m\u001b[33m)\u001b[m Merge squash de los commits de la rama branch_squash\n",
            "*   \u001b[33m274529c\u001b[m Merge branch 'branch_no_fast_forward' into main\n",
            "\u001b[32m|\u001b[m\u001b[33m\\\u001b[m  \n",
            "\u001b[32m|\u001b[m * \u001b[33m8df3429\u001b[m\u001b[33m (\u001b[m\u001b[1;32mbranch_no_fast_forward\u001b[m\u001b[33m)\u001b[m file2\n",
            "\u001b[32m|\u001b[m * \u001b[33me4e23c9\u001b[m file1\n",
            "* \u001b[33m|\u001b[m \u001b[33m8bdf4d8\u001b[m file3\n",
            "\u001b[33m|\u001b[m\u001b[33m/\u001b[m  \n",
            "* \u001b[33m94149fc\u001b[m\u001b[33m (\u001b[m\u001b[1;32mbranch_fast_forward\u001b[m\u001b[33m)\u001b[m Eliminado hola.py\n",
            "* \u001b[33m4484e70\u001b[m Eliminado archivo4.py\n",
            "* \u001b[33m564ccfb\u001b[m\u001b[33m (\u001b[m\u001b[1;32mnew_branch2\u001b[m\u001b[33m)\u001b[m Commit con el archivo 8\n",
            "* \u001b[33m5168f78\u001b[m Eliminado archivo7.py\n",
            "* \u001b[33m4bb9d75\u001b[m\u001b[33m (\u001b[m\u001b[1;32mnew_branch\u001b[m\u001b[33m)\u001b[m Commit con el archivo 7\n",
            "* \u001b[33mea615a9\u001b[m Eliminado archivo5.py\n",
            "* \u001b[33me3153a5\u001b[m Commit con los archivos 4 y 5\n",
            "* \u001b[33m0b09cfa\u001b[m A\u00f1adido .gitignore\n",
            "* \u001b[33m04ebd1f\u001b[m Commit con los archivos 1 y 2\n",
            "* \u001b[33mc4930d7\u001b[m Tercer commit, hola.py\n",
            "* \u001b[33m6e99e73\u001b[m Segundo commit, hola.py\n",
            "* \u001b[33m1c95e4f\u001b[m Primer commit, hola.py\n"
          ]
        }
      ],
      "source": [
        "!cd notebook_git && git log --graph --oneline --decorate"
      ]
    },
    {
      "attachments": {},
      "cell_type": "markdown",
      "metadata": {},
      "source": [
        "### Conflicts when merging"
      ]
    },
    {
      "attachments": {},
      "cell_type": "markdown",
      "metadata": {},
      "source": [
        "When branches are merged, it can happen that the same file has been modified in several branches. This is common in projects where multiple people are developing, so let's see how to solve it."
      ]
    },
    {
      "attachments": {},
      "cell_type": "markdown",
      "metadata": {},
      "source": [
        "#### We create a conflict"
      ]
    },
    {
      "attachments": {},
      "cell_type": "markdown",
      "metadata": {},
      "source": [
        "We check that we are on the `main` branch"
      ]
    },
    {
      "cell_type": "code",
      "execution_count": 176,
      "metadata": {},
      "outputs": [
        {
          "name": "stdout",
          "output_type": "stream",
          "text": [
            "main\n"
          ]
        }
      ],
      "source": [
        "!cd notebook_git && git branch --show-current"
      ]
    },
    {
      "attachments": {},
      "cell_type": "markdown",
      "metadata": {},
      "source": [
        "We create a new branch from this one"
      ]
    },
    {
      "cell_type": "code",
      "execution_count": 177,
      "metadata": {},
      "outputs": [],
      "source": [
        "!cd notebook_git && git branch rama_con_conflicto"
      ]
    },
    {
      "attachments": {},
      "cell_type": "markdown",
      "metadata": {},
      "source": [
        "We add a line to the file `archivo1.py`, remember that we are on the `main` branch."
      ]
    },
    {
      "cell_type": "code",
      "execution_count": 178,
      "metadata": {},
      "outputs": [],
      "source": [
        "!cd notebook_git && echo \"print('rama main')\" >> archivo1.py"
      ]
    },
    {
      "cell_type": "code",
      "execution_count": 179,
      "metadata": {},
      "outputs": [
        {
          "name": "stdout",
          "output_type": "stream",
          "text": [
            "print('Este es el archivo 1')\n",
            "print('rama main')\n"
          ]
        }
      ],
      "source": [
        "!cd notebook_git && cat archivo1.py"
      ]
    },
    {
      "attachments": {},
      "cell_type": "markdown",
      "metadata": {},
      "source": [
        "`archivo1.py` is modified, we make a commit"
      ]
    },
    {
      "cell_type": "code",
      "execution_count": 180,
      "metadata": {},
      "outputs": [
        {
          "name": "stdout",
          "output_type": "stream",
          "text": [
            "[main 53f909b] archivo1.py en rama main\n",
            " 1 file changed, 1 insertion(+)\n"
          ]
        }
      ],
      "source": [
        "!cd notebook_git && git add archivo1.py && git commit -m \"archivo1.py en rama main\""
      ]
    },
    {
      "attachments": {},
      "cell_type": "markdown",
      "metadata": {},
      "source": [
        "Now we are going to the branch `rama_con_conflicto` and add a new line to `archivo1.py`"
      ]
    },
    {
      "cell_type": "code",
      "execution_count": 181,
      "metadata": {},
      "outputs": [
        {
          "name": "stdout",
          "output_type": "stream",
          "text": [
            "Cambiado a rama 'rama_con_conflicto'\n"
          ]
        }
      ],
      "source": [
        "!cd notebook_git && git switch rama_con_conflicto"
      ]
    },
    {
      "cell_type": "code",
      "execution_count": 182,
      "metadata": {},
      "outputs": [
        {
          "name": "stdout",
          "output_type": "stream",
          "text": [
            "rama_con_conflicto\n"
          ]
        }
      ],
      "source": [
        "!cd notebook_git && git branch --show-current"
      ]
    },
    {
      "cell_type": "code",
      "execution_count": 183,
      "metadata": {},
      "outputs": [],
      "source": [
        "!cd notebook_git && echo \"print('rama rama_con_conflicto')\" >> archivo1.py"
      ]
    },
    {
      "cell_type": "code",
      "execution_count": 184,
      "metadata": {},
      "outputs": [
        {
          "name": "stdout",
          "output_type": "stream",
          "text": [
            "print('Este es el archivo 1')\n",
            "print('rama rama_con_conflicto')\n"
          ]
        }
      ],
      "source": [
        "!cd notebook_git && cat archivo1.py"
      ]
    },
    {
      "attachments": {},
      "cell_type": "markdown",
      "metadata": {},
      "source": [
        "As we can see, `archivo1.py` is not the same in the `main` branch and in the `rama_con_conflicto` branch. We make a commit with the modification of `archivo1.py` in the `rama_con_conflicto` branch."
      ]
    },
    {
      "cell_type": "code",
      "execution_count": 185,
      "metadata": {},
      "outputs": [
        {
          "name": "stdout",
          "output_type": "stream",
          "text": [
            "[rama_con_conflicto 32851c3] archivo1.py en rama rama_con_conflicto\n",
            " 1 file changed, 1 insertion(+)\n"
          ]
        }
      ],
      "source": [
        "!cd notebook_git && git add archivo1.py && git commit -m \"archivo1.py en rama rama_con_conflicto\""
      ]
    },
    {
      "attachments": {},
      "cell_type": "markdown",
      "metadata": {},
      "source": [
        "We go back to the `main` branch"
      ]
    },
    {
      "cell_type": "code",
      "execution_count": 186,
      "metadata": {},
      "outputs": [
        {
          "name": "stdout",
          "output_type": "stream",
          "text": [
            "Cambiado a rama 'main'\n"
          ]
        }
      ],
      "source": [
        "!cd notebook_git && git switch main"
      ]
    },
    {
      "cell_type": "code",
      "execution_count": 187,
      "metadata": {},
      "outputs": [
        {
          "name": "stdout",
          "output_type": "stream",
          "text": [
            "main\n"
          ]
        }
      ],
      "source": [
        "!cd notebook_git && git branch --show-current"
      ]
    },
    {
      "attachments": {},
      "cell_type": "markdown",
      "metadata": {},
      "source": [
        "We do a merge of the branch `rama_con_conflicto`"
      ]
    },
    {
      "cell_type": "code",
      "execution_count": 188,
      "metadata": {},
      "outputs": [
        {
          "name": "stdout",
          "output_type": "stream",
          "text": [
            "Auto-fusionando archivo1.py\n",
            "CONFLICTO (contenido): Conflicto de fusi\u00f3n en archivo1.py\n",
            "Fusi\u00f3n autom\u00e1tica fall\u00f3; arregle los conflictos y luego realice un commit con el resultado.\n"
          ]
        }
      ],
      "source": [
        "!cd notebook_git && git merge rama_con_conflicto"
      ]
    },
    {
      "attachments": {},
      "cell_type": "markdown",
      "metadata": {},
      "source": [
        "When doing the merge, it already warns us that there is a conflict in `archivo1.py` and that the merge could not be completed. We run a `git status`"
      ]
    },
    {
      "cell_type": "code",
      "execution_count": 189,
      "metadata": {},
      "outputs": [
        {
          "name": "stdout",
          "output_type": "stream",
          "text": [
            "En la rama main\n",
            "Tienes rutas no fusionadas.\n",
            "  (arregla los conflictos y ejecuta \"git commit\"\n",
            "  (usa \"git merge --abort\" para abortar la fusion)\n",
            "\n",
            "Rutas no fusionadas:\n",
            "  (usa \"git add <archivo>...\" para marcar una resoluci\u00f3n)\n",
            "\t\u001b[31mmodificados por ambos:  archivo1.py\u001b[m\n",
            "\n",
            "sin cambios agregados al commit (usa \"git add\" y/o \"git commit -a\")\n"
          ]
        }
      ],
      "source": [
        "!cd notebook_git && git status"
      ]
    },
    {
      "attachments": {},
      "cell_type": "markdown",
      "metadata": {},
      "source": [
        "It tells us the same thing, but gives us more information, telling us that we can abort the merge with `git merge --abort`. But instead of that, we are going to solve it."
      ]
    },
    {
      "attachments": {},
      "cell_type": "markdown",
      "metadata": {},
      "source": [
        "#### Resolve a conflict"
      ]
    },
    {
      "attachments": {},
      "cell_type": "markdown",
      "metadata": {},
      "source": [
        "In our case we know where the problem is, but if we don't know it, we can find the problem using `git diff`"
      ]
    },
    {
      "cell_type": "code",
      "execution_count": 190,
      "metadata": {},
      "outputs": [
        {
          "name": "stdout",
          "output_type": "stream",
          "text": [
            "\u001b[1mdiff --cc archivo1.py\u001b[m\n",
            "\u001b[1mindex 8b4bf58,b5c003c..0000000\u001b[m\n",
            "\u001b[1m--- a/archivo1.py\u001b[m\n",
            "\u001b[1m+++ b/archivo1.py\u001b[m\n",
            "\u001b[36m@@@ -1,2 -1,2 +1,6 @@@\u001b[m\n",
            "  print('Este es el archivo 1')\u001b[m\n",
            "\u001b[32m++<<<<<<< HEAD\u001b[m\n",
            "\u001b[32m +print('rama main')\u001b[m\n",
            "\u001b[32m++=======\u001b[m\n",
            "\u001b[32m+ print('rama rama_con_conflicto')\u001b[m\n",
            "\u001b[32m++>>>>>>> rama_con_conflicto\u001b[m\n"
          ]
        }
      ],
      "source": [
        "!cd notebook_git && git diff archivo1.py"
      ]
    },
    {
      "attachments": {},
      "cell_type": "markdown",
      "metadata": {},
      "source": [
        "`git diff` is telling us that the problem is in the last line. The version of the file from the `HEAD` branch (which we are currently on, `main`) has `print('rama main')` on the last line, while the version from the `rama_con_conflicto` branch has `print('rama rama_con_conflicto')` on the last line. So, we need to open the file with any editor and resolve this."
      ]
    },
    {
      "attachments": {},
      "cell_type": "markdown",
      "metadata": {},
      "source": [
        "After editing the file with my code editor, I have removed all the unnecessary lines and it looks like this:"
      ]
    },
    {
      "cell_type": "code",
      "execution_count": 192,
      "metadata": {},
      "outputs": [
        {
          "name": "stdout",
          "output_type": "stream",
          "text": [
            "print('Este es el archivo 1')\n",
            "print('rama main')"
          ]
        }
      ],
      "source": [
        "!cd notebook_git && cat archivo1.py"
      ]
    },
    {
      "attachments": {},
      "cell_type": "markdown",
      "metadata": {},
      "source": [
        "Now we do a `git status` to see what we have to do"
      ]
    },
    {
      "cell_type": "code",
      "execution_count": 193,
      "metadata": {},
      "outputs": [
        {
          "name": "stdout",
          "output_type": "stream",
          "text": [
            "En la rama main\n",
            "Tienes rutas no fusionadas.\n",
            "  (arregla los conflictos y ejecuta \"git commit\"\n",
            "  (usa \"git merge --abort\" para abortar la fusion)\n",
            "\n",
            "Rutas no fusionadas:\n",
            "  (usa \"git add <archivo>...\" para marcar una resoluci\u00f3n)\n",
            "\t\u001b[31mmodificados por ambos:  archivo1.py\u001b[m\n",
            "\n",
            "sin cambios agregados al commit (usa \"git add\" y/o \"git commit -a\")\n"
          ]
        }
      ],
      "source": [
        "!cd notebook_git && git status"
      ]
    },
    {
      "attachments": {},
      "cell_type": "markdown",
      "metadata": {},
      "source": [
        "It tells us that we have the file `archivo1.py` with modifications, so we add it to the `staged` area and then make a commit."
      ]
    },
    {
      "cell_type": "code",
      "execution_count": 194,
      "metadata": {},
      "outputs": [
        {
          "name": "stdout",
          "output_type": "stream",
          "text": [
            "[main 679bb49] archivo1.py con el merge resuelto\n"
          ]
        }
      ],
      "source": [
        "!cd notebook_git && git add archivo1.py && git commit -m \"archivo1.py con el merge resuelto\""
      ]
    },
    {
      "attachments": {},
      "cell_type": "markdown",
      "metadata": {},
      "source": [
        "We run `git status` again to see if it has been resolved."
      ]
    },
    {
      "cell_type": "code",
      "execution_count": 195,
      "metadata": {},
      "outputs": [
        {
          "name": "stdout",
          "output_type": "stream",
          "text": [
            "En la rama main\n",
            "nada para hacer commit, el \u00e1rbol de trabajo est\u00e1 limpio\n"
          ]
        }
      ],
      "source": [
        "!cd notebook_git && git status"
      ]
    },
    {
      "attachments": {},
      "cell_type": "markdown",
      "metadata": {},
      "source": [
        "It seems to be resolved, let's do a `git log` to check it."
      ]
    },
    {
      "cell_type": "code",
      "execution_count": 196,
      "metadata": {},
      "outputs": [
        {
          "name": "stdout",
          "output_type": "stream",
          "text": [
            "*   \u001b[33m679bb49\u001b[m\u001b[33m (\u001b[m\u001b[1;36mHEAD -> \u001b[m\u001b[1;32mmain\u001b[m\u001b[33m)\u001b[m archivo1.py con el merge resuelto\n",
            "\u001b[31m|\u001b[m\u001b[32m\\\u001b[m  \n",
            "\u001b[31m|\u001b[m * \u001b[33m32851c3\u001b[m\u001b[33m (\u001b[m\u001b[1;32mrama_con_conflicto\u001b[m\u001b[33m)\u001b[m archivo1.py en rama rama_con_conflicto\n",
            "* \u001b[32m|\u001b[m \u001b[33m53f909b\u001b[m archivo1.py en rama main\n",
            "\u001b[32m|\u001b[m\u001b[32m/\u001b[m  \n",
            "* \u001b[33m52acb97\u001b[m Merge squash de los commits de la rama branch_squash\n",
            "*   \u001b[33m274529c\u001b[m Merge branch 'branch_no_fast_forward' into main\n",
            "\u001b[33m|\u001b[m\u001b[34m\\\u001b[m  \n",
            "\u001b[33m|\u001b[m * \u001b[33m8df3429\u001b[m\u001b[33m (\u001b[m\u001b[1;32mbranch_no_fast_forward\u001b[m\u001b[33m)\u001b[m file2\n",
            "\u001b[33m|\u001b[m * \u001b[33me4e23c9\u001b[m file1\n",
            "* \u001b[34m|\u001b[m \u001b[33m8bdf4d8\u001b[m file3\n",
            "\u001b[34m|\u001b[m\u001b[34m/\u001b[m  \n",
            "* \u001b[33m94149fc\u001b[m\u001b[33m (\u001b[m\u001b[1;32mbranch_fast_forward\u001b[m\u001b[33m)\u001b[m Eliminado hola.py\n",
            "* \u001b[33m4484e70\u001b[m Eliminado archivo4.py\n",
            "* \u001b[33m564ccfb\u001b[m\u001b[33m (\u001b[m\u001b[1;32mnew_branch2\u001b[m\u001b[33m)\u001b[m Commit con el archivo 8\n",
            "* \u001b[33m5168f78\u001b[m Eliminado archivo7.py\n",
            "* \u001b[33m4bb9d75\u001b[m\u001b[33m (\u001b[m\u001b[1;32mnew_branch\u001b[m\u001b[33m)\u001b[m Commit con el archivo 7\n",
            "* \u001b[33mea615a9\u001b[m Eliminado archivo5.py\n",
            "* \u001b[33me3153a5\u001b[m Commit con los archivos 4 y 5\n",
            "* \u001b[33m0b09cfa\u001b[m A\u00f1adido .gitignore\n",
            "* \u001b[33m04ebd1f\u001b[m Commit con los archivos 1 y 2\n",
            "* \u001b[33mc4930d7\u001b[m Tercer commit, hola.py\n",
            "* \u001b[33m6e99e73\u001b[m Segundo commit, hola.py\n",
            "* \u001b[33m1c95e4f\u001b[m Primer commit, hola.py\n"
          ]
        }
      ],
      "source": [
        "!cd notebook_git && git log --graph --oneline --decorate"
      ]
    },
    {
      "attachments": {},
      "cell_type": "markdown",
      "metadata": {},
      "source": [
        "### Delete branches"
      ]
    },
    {
      "attachments": {},
      "cell_type": "markdown",
      "metadata": {},
      "source": [
        "The idea of a branch is to open it to develop a new feature or functionality in such a way that it does not affect the rest of the development team. Therefore, once this is achieved, it is merged with the main branch. So after the merge, there is no point in keeping the branch, so it should be deleted, but this will be done differently depending on whether the branch has been merged with the main one or not."
      ]
    },
    {
      "attachments": {},
      "cell_type": "markdown",
      "metadata": {},
      "source": [
        "#### Delete merged branches (`git branch -d <branch>`)"
      ]
    },
    {
      "attachments": {},
      "cell_type": "markdown",
      "metadata": {},
      "source": [
        "To delete a branch that has already been merged with the main branch, you just need to do `git branch -d <branch>` or `git branch --delete <branch>`. Let's delete the last branch we created and merged."
      ]
    },
    {
      "cell_type": "code",
      "execution_count": 197,
      "metadata": {},
      "outputs": [
        {
          "name": "stdout",
          "output_type": "stream",
          "text": [
            "Eliminada la rama rama_con_conflicto (era 32851c3).\n"
          ]
        }
      ],
      "source": [
        "!cd notebook_git && git branch -d rama_con_conflicto"
      ]
    },
    {
      "attachments": {},
      "cell_type": "markdown",
      "metadata": {},
      "source": [
        "If we now list all the branches, we can see that we no longer have `rama_con_conflicto`"
      ]
    },
    {
      "cell_type": "code",
      "execution_count": 198,
      "metadata": {},
      "outputs": [
        {
          "name": "stdout",
          "output_type": "stream",
          "text": [
            "  branch_fast_forward\u001b[m\n",
            "  branch_no_fast_forward\u001b[m\n",
            "  branch_squash\u001b[m\n",
            "* \u001b[32mmain\u001b[m\n",
            "  new_branch\u001b[m\n",
            "  new_branch2\u001b[m\n"
          ]
        }
      ],
      "source": [
        "!cd notebook_git && git branch"
      ]
    },
    {
      "attachments": {},
      "cell_type": "markdown",
      "metadata": {},
      "source": [
        "#### Delete branches that have not been merged with the main branch (`git branch -D <branch>`)"
      ]
    },
    {
      "attachments": {},
      "cell_type": "markdown",
      "metadata": {},
      "source": [
        "If we try to do the same thing with a branch that has never been merged with another, we will get an error"
      ]
    },
    {
      "attachments": {},
      "cell_type": "markdown",
      "metadata": {},
      "source": [
        "Let's create a new branch, we're going to make a commit and we won't merge it."
      ]
    },
    {
      "cell_type": "code",
      "execution_count": 199,
      "metadata": {},
      "outputs": [],
      "source": [
        "!cd notebook_git && git branch branch_sin_fusion"
      ]
    },
    {
      "cell_type": "code",
      "execution_count": 200,
      "metadata": {},
      "outputs": [
        {
          "name": "stdout",
          "output_type": "stream",
          "text": [
            "Cambiado a rama 'branch_sin_fusion'\n"
          ]
        }
      ],
      "source": [
        "!cd notebook_git && git switch branch_sin_fusion"
      ]
    },
    {
      "cell_type": "code",
      "execution_count": 201,
      "metadata": {},
      "outputs": [
        {
          "name": "stdout",
          "output_type": "stream",
          "text": [
            "[branch_sin_fusion 9506b0a] file4\n",
            " 1 file changed, 0 insertions(+), 0 deletions(-)\n",
            " create mode 100644 file4\n"
          ]
        }
      ],
      "source": [
        "!cd notebook_git && touch file4 && git add file4 && git commit -m \"file4\""
      ]
    },
    {
      "cell_type": "code",
      "execution_count": 202,
      "metadata": {},
      "outputs": [
        {
          "name": "stdout",
          "output_type": "stream",
          "text": [
            "Cambiado a rama 'main'\n"
          ]
        }
      ],
      "source": [
        "!cd notebook_git && git switch main"
      ]
    },
    {
      "attachments": {},
      "cell_type": "markdown",
      "metadata": {},
      "source": [
        "With everything we've learned so far, we can see that what we have done is create a new branch, switch to it, create a new file, make a commit, and return to the `main` branch. Now let's try to delete this new branch."
      ]
    },
    {
      "cell_type": "code",
      "execution_count": 203,
      "metadata": {},
      "outputs": [
        {
          "name": "stdout",
          "output_type": "stream",
          "text": [
            "error: La rama 'branch_sin_fusion' no ha sido fusionada completamente.\n",
            "Si est\u00e1s seguro de querer borrarla, ejecuta 'git branch -D branch_sin_fusion'.\n"
          ]
        }
      ],
      "source": [
        "!cd notebook_git && git branch -d branch_sin_fusion"
      ]
    },
    {
      "attachments": {},
      "cell_type": "markdown",
      "metadata": {},
      "source": [
        "As we can see, it tells us that `branch_sin_fusion` has not been merged and therefore has not been deleted. If we are sure we want to delete it, we need to do `git branch -D branch_sin_fusion`, so we do this to delete it."
      ]
    },
    {
      "cell_type": "code",
      "execution_count": 204,
      "metadata": {},
      "outputs": [
        {
          "name": "stdout",
          "output_type": "stream",
          "text": [
            "Eliminada la rama branch_sin_fusion (era 9506b0a).\n"
          ]
        }
      ],
      "source": [
        "!cd notebook_git && git branch -D branch_sin_fusion"
      ]
    },
    {
      "attachments": {},
      "cell_type": "markdown",
      "metadata": {},
      "source": [
        "Now it has been deleted"
      ]
    },
    {
      "attachments": {},
      "cell_type": "markdown",
      "metadata": {},
      "source": [
        "## Working with remote repositories"
      ]
    },
    {
      "attachments": {},
      "cell_type": "markdown",
      "metadata": {},
      "source": [
        "When we develop software, we usually don't do it alone; we typically work in a team. Therefore, it doesn't make sense to have a local Git repository, but rather to have a remote repository that everyone can work on and share progress.",
        "\n",
        "> Note: The goal of this post is to explain Git. For the connection with remote repositories, I will explain it using GitHub because it is the most used Git repository hosting service, but I will not go into depth about GitHub."
      ]
    },
    {
      "attachments": {},
      "cell_type": "markdown",
      "metadata": {},
      "source": [
        "### Clone a remote repository (`git clone <repository>`)"
      ]
    },
    {
      "attachments": {},
      "cell_type": "markdown",
      "metadata": {},
      "source": [
        "If we start working on a repository that has already been created, the first thing we need to do is clone it. For this, we need to run `git clone <repository>`, where `<repository>` can be a URL or an SSH address. Since large language models and ChatGPT are very popular right now, let's clone an open-source repository created by the community, [Open-Assistant](https://github.com/LAION-AI/Open-Assistant). To do this, we will run `git clone https://github.com/LAION-AI/Open-Assistant`"
      ]
    },
    {
      "cell_type": "code",
      "execution_count": 11,
      "metadata": {},
      "outputs": [
        {
          "name": "stdout",
          "output_type": "stream",
          "text": [
            "Clonando en 'Open-Assistant'...\n",
            "remote: Enumerating objects: 29769, done.\u001b[K\n",
            "remote: Counting objects: 100% (673/673), done.\u001b[K\n",
            "remote: Compressing objects: 100% (310/310), done.\u001b[K\n",
            "remote: Total 29769 (delta 398), reused 577 (delta 354), pack-reused 29096\u001b[K\n",
            "Recibiendo objetos: 100% (29769/29769), 33.61 MiB | 29.29 MiB/s, listo.\n",
            "Resolviendo deltas: 100% (19967/19967), listo.\n"
          ]
        }
      ],
      "source": [
        "!git clone https://github.com/LAION-AI/Open-Assistant.git"
      ]
    },
    {
      "attachments": {},
      "cell_type": "markdown",
      "metadata": {},
      "source": [
        "This creates the `Open-Assistant` folder with all the code from the repository, we can go inside and check out all the code."
      ]
    },
    {
      "cell_type": "code",
      "execution_count": 13,
      "metadata": {},
      "outputs": [
        {
          "name": "stdout",
          "output_type": "stream",
          "text": [
            "ansible\t\t deploy\t\t      model\t      safety\n",
            "assets\t\t discord-bots\t      notebooks       scripts\n",
            "backend\t\t docker\t\t      oasst-data      setup.cfg\n",
            "CODEOWNERS\t docker-compose.yaml  oasst-shared    text-frontend\n",
            "CONTRIBUTING.md  docs\t\t      pyproject.toml  website\n",
            "copilot\t\t inference\t      README.md\n",
            "data\t\t LICENSE\t      redis.conf\n"
          ]
        }
      ],
      "source": [
        "!cd Open-Assistant && ls"
      ]
    },
    {
      "attachments": {},
      "cell_type": "markdown",
      "metadata": {},
      "source": [
        "I delete the folder"
      ]
    },
    {
      "cell_type": "code",
      "execution_count": null,
      "metadata": {},
      "outputs": [],
      "source": [
        "!rm -r Open-Assistant"
      ]
    },
    {
      "attachments": {},
      "cell_type": "markdown",
      "metadata": {},
      "source": [
        "### Linking a Local Repository to a Remote One"
      ]
    },
    {
      "attachments": {},
      "cell_type": "markdown",
      "metadata": {},
      "source": [
        "If the opposite happens, if we first start developing locally and then want to synchronize with a remote repository, we have to do the following",
        "\n",
        "* First create an empty remote repository, in my case I created the repository `notebook_git` on GitHub which I will delete later",
        "* Get the repository URL or SSH address",
        "* Synchronize them using `git remote add origin <URL>`",
        "\n",
        "The empty repository I created on GitHub looks like this",
        "\n",
        "![notebook git repo](https://images.maximofn.com/notebook_git_repo.webp)",
        "\n",
        "In my case, I will use the SSH address which is `git@github.com:maximofn/notebook_git.git`"
      ]
    },
    {
      "cell_type": "code",
      "execution_count": 205,
      "metadata": {},
      "outputs": [],
      "source": [
        "!cd notebook_git && git remote add origin git@github.com:maximofn/notebook_git.git"
      ]
    },
    {
      "attachments": {},
      "cell_type": "markdown",
      "metadata": {},
      "source": [
        "They are already linked, but to make sure we can run `git remote -v`"
      ]
    },
    {
      "cell_type": "code",
      "execution_count": 206,
      "metadata": {},
      "outputs": [
        {
          "name": "stdout",
          "output_type": "stream",
          "text": [
            "origin\tgit@github.com:maximofn/notebook_git.git (fetch)\n",
            "origin\tgit@github.com:maximofn/notebook_git.git (push)\n"
          ]
        }
      ],
      "source": [
        "!cd notebook_git && git remote -v"
      ]
    },
    {
      "attachments": {},
      "cell_type": "markdown",
      "metadata": {},
      "source": [
        "### Push changes from a local repository to a remote repository (`git push`)"
      ]
    },
    {
      "attachments": {},
      "cell_type": "markdown",
      "metadata": {},
      "source": [
        "As we said, they are linked, but if I go to my repository on GitHub it still looks like this",
        "\n",
        "![notebook git repo](https://images.maximofn.com/notebook_git_repo.webp)",
        "\n",
        "The local and remote repositories are linked, but now all changes from the local repository need to be sent to the remote repository. To do this, you would use `git push origin <local branch>:<remote branch>`, that is, since our main branch is called `main` and the main branch on GitHub is also called `main`, you would do `git push origin main:main`.",
        "If you remember, by default Git used to call the main branch `master`, but GitHub now calls the main branch `main` by default. So, if each person names their branches differently in their local repository, you need to specify which local branch writes to which remote branch."
      ]
    },
    {
      "attachments": {},
      "cell_type": "markdown",
      "metadata": {},
      "source": [
        "You can configure the default connection between branches in git by running `git push --set-upstream origin main`. This sets up a relationship between the local branch `main` and the remote branch `main`. Once this relationship is established, you only need to run `git push` to upload changes made locally to the remote server.",
        "\n",
        "So we establish the connection between branches"
      ]
    },
    {
      "cell_type": "code",
      "execution_count": 207,
      "metadata": {},
      "outputs": [
        {
          "name": "stdout",
          "output_type": "stream",
          "text": [
            "Enumerando objetos: 51, listo.\n",
            "Contando objetos: 100% (51/51), listo.\n",
            "Compresi\u00f3n delta usando hasta 12 hilos\n",
            "Comprimiendo objetos: 100% (38/38), listo.\n",
            "Escribiendo objetos: 100% (51/51), 4.21 KiB | 2.11 MiB/s, listo.\n",
            "Total 51 (delta 18), reusado 0 (delta 0)\n",
            "remote: Resolving deltas: 100% (18/18), done.\u001b[K\n",
            "To github.com:maximofn/notebook_git.git\n",
            " * [new branch]      main -> main\n",
            "Rama 'main' configurada para hacer seguimiento a la rama remota 'main' de 'origin'.\n"
          ]
        }
      ],
      "source": [
        "!cd notebook_git && git push --set-upstream origin main"
      ]
    },
    {
      "attachments": {},
      "cell_type": "markdown",
      "metadata": {},
      "source": [
        "Now we can just do `git push` to upload local changes to the remote repository"
      ]
    },
    {
      "cell_type": "code",
      "execution_count": 208,
      "metadata": {},
      "outputs": [
        {
          "name": "stdout",
          "output_type": "stream",
          "text": [
            "Everything up-to-date\n"
          ]
        }
      ],
      "source": [
        "!cd notebook_git && git push"
      ]
    },
    {
      "attachments": {},
      "cell_type": "markdown",
      "metadata": {},
      "source": [
        "If we now go back to our GitHub repository, it looks like this",
        "\n",
        "![notebook git repo push](https://images.maximofn.com/notebook_git_repo_push.webp)"
      ]
    },
    {
      "attachments": {},
      "cell_type": "markdown",
      "metadata": {},
      "source": [
        "If we do a `ls` in our local repository, we can see that the files we have in the remote repository are also in the local repository, meaning we have synchronized the local and remote repositories."
      ]
    },
    {
      "cell_type": "code",
      "execution_count": 209,
      "metadata": {},
      "outputs": [
        {
          "name": "stdout",
          "output_type": "stream",
          "text": [
            ".  ..  api_keys.py  archivo1.py  archivo2.py  archivo8.py  .git  .gitignore\n"
          ]
        }
      ],
      "source": [
        "!cd notebook_git && ls -a"
      ]
    },
    {
      "attachments": {},
      "cell_type": "markdown",
      "metadata": {},
      "source": [
        "The only ones not in the remote repository are `api_keys.py`, which we added to the `.gitignore` file, meaning we told git not to track it. And `.git`, which is where the configuration of our local repository is stored and should not be uploaded to the remote repository, because each person will have their own git configuration and therefore it should not be synchronized."
      ]
    },
    {
      "attachments": {},
      "cell_type": "markdown",
      "metadata": {},
      "source": [
        "### Download changes from a remote repository to a local repository (`git pull`)"
      ]
    },
    {
      "attachments": {},
      "cell_type": "markdown",
      "metadata": {},
      "source": [
        "Now we are going to do the opposite, we are going to pull down any new changes that have been made in the remote repository. If we look at the state of the remote repository, we can see there is a button that says `Add a README`, so we click it to add it.",
        "\n",
        "![notebook git repo push](https://images.maximofn.com/notebook_git_repo_push.webp)"
      ]
    },
    {
      "attachments": {},
      "cell_type": "markdown",
      "metadata": {},
      "source": [
        "When we click, an editor will open. We leave what GitHub has put and save the changes by clicking on the `Commit changes...` button.",
        "\n",
        "![noteboot git repo readme](https://images.maximofn.com/notebook_git_repo_readme.webp)",
        "\n",
        "A window will pop up asking for a commit message, we leave the default one and click on `Commit changes`",
        "\n",
        "![notebook git repo commit message](https://images.maximofn.com/notebook_git_repo_commit_message.webp)",
        "\n",
        "By doing that, the repository will end up like this",
        "\n",
        "![notebook git repo pull](https://images.maximofn.com/notebook_git_repo_pull.webp)",
        "\n",
        "A new file called `README.md` has been created, but if we run `ls` in the local repository we won't find it."
      ]
    },
    {
      "cell_type": "code",
      "execution_count": 10,
      "metadata": {},
      "outputs": [],
      "source": [
        "!cd notebook_git && ls | grep README"
      ]
    },
    {
      "attachments": {},
      "cell_type": "markdown",
      "metadata": {},
      "source": [
        "So, we need to bring the changes from the remote repository to the local one. For this, you have to do `git pull origin <remote branch>` to tell Git which remote branch you are going to fetch data from. However, just like before, you can establish a relationship between the remote branch and the local branch in the following way: `git branch --set-upstream-to=origin/<local branch> <remote branch>`. But since our local branch is called `main` and the remote GitHub branch is also called `main`, you would need to change the previous command to `git branch --set-upstream-to=origin/main main`.",
        "\n",
        "Once this is done, to download the new changes from the remote repository to the local one, you would only need to do `git pull`"
      ]
    },
    {
      "attachments": {},
      "cell_type": "markdown",
      "metadata": {},
      "source": [
        "Let's establish the relationship between branches with `git branch --set-upstream-to=origin/main main`"
      ]
    },
    {
      "cell_type": "code",
      "execution_count": 210,
      "metadata": {},
      "outputs": [
        {
          "name": "stdout",
          "output_type": "stream",
          "text": [
            "Rama 'main' configurada para hacer seguimiento a la rama remota 'main' de 'origin'.\n"
          ]
        }
      ],
      "source": [
        "!cd notebook_git && git branch --set-upstream-to=origin/main main"
      ]
    },
    {
      "attachments": {},
      "cell_type": "markdown",
      "metadata": {},
      "source": [
        "Now we can bring the changes from the remote repository to the local repository with `git pull`"
      ]
    },
    {
      "cell_type": "code",
      "execution_count": 211,
      "metadata": {},
      "outputs": [
        {
          "name": "stdout",
          "output_type": "stream",
          "text": [
            "remote: Enumerating objects: 4, done.\u001b[K\n",
            "remote: Counting objects: 100% (4/4), done.\u001b[K\n",
            "remote: Compressing objects: 100% (2/2), done.\u001b[K\n",
            "remote: Total 3 (delta 1), reused 0 (delta 0), pack-reused 0\u001b[K\n",
            "Desempaquetando objetos: 100% (3/3), 646 bytes | 646.00 KiB/s, listo.\n",
            "Desde github.com:maximofn/notebook_git\n",
            "   679bb49..527e07a  main       -> origin/main\n",
            "Actualizando 679bb49..527e07a\n",
            "Fast-forward\n",
            " README.md | 1 \u001b[32m+\u001b[m\n",
            " 1 file changed, 1 insertion(+)\n",
            " create mode 100644 README.md\n"
          ]
        }
      ],
      "source": [
        "!cd notebook_git && git pull"
      ]
    },
    {
      "attachments": {},
      "cell_type": "markdown",
      "metadata": {},
      "source": [
        "As we can see, it says that `README.md` has been added, let's check by running `ls`"
      ]
    },
    {
      "cell_type": "code",
      "execution_count": 212,
      "metadata": {},
      "outputs": [
        {
          "name": "stdout",
          "output_type": "stream",
          "text": [
            "README.md\n"
          ]
        }
      ],
      "source": [
        "!cd notebook_git && ls | grep README"
      ]
    },
    {
      "attachments": {},
      "cell_type": "markdown",
      "metadata": {},
      "source": [
        "We have the file locally"
      ]
    },
    {
      "attachments": {},
      "cell_type": "markdown",
      "metadata": {},
      "source": [
        "### Synchronize remote and local branches"
      ]
    },
    {
      "attachments": {},
      "cell_type": "markdown",
      "metadata": {},
      "source": [
        "As we have seen, we had to synchronize the remote and local branches in order to upload and download data. However, if we first create the repository on GitHub and then clone it, such synchronization is no longer necessary."
      ]
    },
    {
      "attachments": {},
      "cell_type": "markdown",
      "metadata": {},
      "source": [
        "## Alias"
      ]
    },
    {
      "attachments": {},
      "cell_type": "markdown",
      "metadata": {},
      "source": [
        "Every time we have wanted to make a log we have used this command `git log --graph --oneline --decorate`, however, remembering this command is quite complicated, in fact, I don't remember it, every time I have wanted to use it I had to look it up because I didn't remember it, so it would be great to have a way to abbreviate it."
      ]
    },
    {
      "attachments": {},
      "cell_type": "markdown",
      "metadata": {},
      "source": [
        "For this, Git offers `aliases`, so you can create aliases for any commands you want. To do this, you need to run `git config --global alias.<name of the alias> \"command\"`"
      ]
    },
    {
      "attachments": {},
      "cell_type": "markdown",
      "metadata": {},
      "source": [
        "Therefore, we are going to call `git tree` the command `git log --graph --oneline --decorate`, since it allows us to see the history with branch forks and merges as if they were the growth of a tree, so we do `git config --global alias.tree \"log --graph --oneline --decorate\"`",
        "\n",
        "> **Important**: Do not put the word `git` inside the command"
      ]
    },
    {
      "cell_type": "code",
      "execution_count": 218,
      "metadata": {},
      "outputs": [],
      "source": [
        "!git config --global alias.tree \"log --graph --oneline --decorate\""
      ]
    },
    {
      "attachments": {},
      "cell_type": "markdown",
      "metadata": {},
      "source": [
        "If we now go to our repository and run `git tree`, we will see the history as we used to before."
      ]
    },
    {
      "cell_type": "code",
      "execution_count": 217,
      "metadata": {},
      "outputs": [
        {
          "name": "stdout",
          "output_type": "stream",
          "text": [
            "* \u001b[33m527e07a\u001b[m\u001b[33m (\u001b[m\u001b[1;36mHEAD -> \u001b[m\u001b[1;32mmain\u001b[m\u001b[33m, \u001b[m\u001b[1;31morigin/main\u001b[m\u001b[33m)\u001b[m Create README.md\n",
            "*   \u001b[33m679bb49\u001b[m archivo1.py con el merge resuelto\n",
            "\u001b[32m|\u001b[m\u001b[33m\\\u001b[m  \n",
            "\u001b[32m|\u001b[m * \u001b[33m32851c3\u001b[m archivo1.py en rama rama_con_conflicto\n",
            "* \u001b[33m|\u001b[m \u001b[33m53f909b\u001b[m archivo1.py en rama main\n",
            "\u001b[33m|\u001b[m\u001b[33m/\u001b[m  \n",
            "* \u001b[33m52acb97\u001b[m Merge squash de los commits de la rama branch_squash\n",
            "*   \u001b[33m274529c\u001b[m Merge branch 'branch_no_fast_forward' into main\n",
            "\u001b[34m|\u001b[m\u001b[35m\\\u001b[m  \n",
            "\u001b[34m|\u001b[m * \u001b[33m8df3429\u001b[m\u001b[33m (\u001b[m\u001b[1;32mbranch_no_fast_forward\u001b[m\u001b[33m)\u001b[m file2\n",
            "\u001b[34m|\u001b[m * \u001b[33me4e23c9\u001b[m file1\n",
            "* \u001b[35m|\u001b[m \u001b[33m8bdf4d8\u001b[m file3\n",
            "\u001b[35m|\u001b[m\u001b[35m/\u001b[m  \n",
            "* \u001b[33m94149fc\u001b[m\u001b[33m (\u001b[m\u001b[1;32mbranch_fast_forward\u001b[m\u001b[33m)\u001b[m Eliminado hola.py\n",
            "* \u001b[33m4484e70\u001b[m Eliminado archivo4.py\n",
            "* \u001b[33m564ccfb\u001b[m\u001b[33m (\u001b[m\u001b[1;32mnew_branch2\u001b[m\u001b[33m)\u001b[m Commit con el archivo 8\n",
            "* \u001b[33m5168f78\u001b[m Eliminado archivo7.py\n",
            "* \u001b[33m4bb9d75\u001b[m\u001b[33m (\u001b[m\u001b[1;32mnew_branch\u001b[m\u001b[33m)\u001b[m Commit con el archivo 7\n",
            "* \u001b[33mea615a9\u001b[m Eliminado archivo5.py\n",
            "* \u001b[33me3153a5\u001b[m Commit con los archivos 4 y 5\n",
            "* \u001b[33m0b09cfa\u001b[m A\u00f1adido .gitignore\n",
            "* \u001b[33m04ebd1f\u001b[m Commit con los archivos 1 y 2\n",
            "* \u001b[33mc4930d7\u001b[m Tercer commit, hola.py\n",
            "* \u001b[33m6e99e73\u001b[m Segundo commit, hola.py\n",
            "* \u001b[33m1c95e4f\u001b[m Primer commit, hola.py\n"
          ]
        }
      ],
      "source": [
        "!cd notebook_git && git tree"
      ]
    },
    {
      "attachments": {},
      "cell_type": "markdown",
      "metadata": {},
      "source": [
        "As we can see, our alias has been created."
      ]
    },
    {
      "attachments": {},
      "cell_type": "markdown",
      "metadata": {},
      "source": [
        "### Aliases of existing git commands"
      ]
    },
    {
      "attachments": {},
      "cell_type": "markdown",
      "metadata": {},
      "source": [
        "You can create aliases for commands that already exist in git; in fact, this is a practice used by many people, especially to abbreviate. So we are going to create one. We will make an alias for the `git status` command and rename it as `git st` in the following way: `git config --global alias.st \"status\"`"
      ]
    },
    {
      "cell_type": "code",
      "execution_count": 219,
      "metadata": {},
      "outputs": [],
      "source": [
        "!git config --global alias.st \"status\""
      ]
    },
    {
      "attachments": {},
      "cell_type": "markdown",
      "metadata": {},
      "source": [
        "We test it now"
      ]
    },
    {
      "cell_type": "code",
      "execution_count": 220,
      "metadata": {},
      "outputs": [
        {
          "name": "stdout",
          "output_type": "stream",
          "text": [
            "En la rama main\n",
            "Tu rama est\u00e1 actualizada con 'origin/main'.\n",
            "\n",
            "nada para hacer commit, el \u00e1rbol de trabajo est\u00e1 limpio\n"
          ]
        }
      ],
      "source": [
        "!cd notebook_git && git st"
      ]
    },
    {
      "attachments": {},
      "cell_type": "markdown",
      "metadata": {},
      "source": [
        "We already have the command `git status` simplified to `git st`"
      ]
    },
    {
      "attachments": {},
      "cell_type": "markdown",
      "metadata": {},
      "source": [
        "### Aliases for commands that are not git commands"
      ]
    },
    {
      "attachments": {},
      "cell_type": "markdown",
      "metadata": {},
      "source": [
        "We can create aliases for commands that are not git-related, for example, because we think git needs that new command. It's done the same way with the exception that the command must be preceded by `!`, that is, it would be `git config --global alias.<alias name> \"!command\"`"
      ]
    },
    {
      "attachments": {},
      "cell_type": "markdown",
      "metadata": {},
      "source": [
        "When we have seen the conflicts, we have seen that git tells us where they are, but to resolve them we have to edit the code ourselves, so we can create a git alias so that we can open a file with the text editor of our choice. In my case, I will create an alias that will open files with `vscode`. To do this, I need to run `git config --global alias.code \"!code\"`"
      ]
    },
    {
      "cell_type": "code",
      "execution_count": 222,
      "metadata": {},
      "outputs": [],
      "source": [
        "!git config --global alias.code \"!code\""
      ]
    },
    {
      "attachments": {},
      "cell_type": "markdown",
      "metadata": {},
      "source": [
        "We tested it"
      ]
    },
    {
      "cell_type": "code",
      "execution_count": 223,
      "metadata": {},
      "outputs": [],
      "source": [
        "!cd notebook_git && git code README.md"
      ]
    },
    {
      "attachments": {},
      "cell_type": "markdown",
      "metadata": {},
      "source": [
        "After doing this, `README.md` opened in `vscode`"
      ]
    },
    {
      "attachments": {},
      "cell_type": "markdown",
      "metadata": {},
      "source": [
        "### List with all the aliases"
      ]
    },
    {
      "attachments": {},
      "cell_type": "markdown",
      "metadata": {},
      "source": [
        "If we forget the aliases we have created, we can view the global git configuration. However, since this can be a bit overwhelming due to the amount of information it provides, we can filter it to show only the aliases we have created. For this, we use `git config --get-regexp ^alias\\.`"
      ]
    },
    {
      "cell_type": "code",
      "execution_count": 224,
      "metadata": {},
      "outputs": [
        {
          "name": "stdout",
          "output_type": "stream",
          "text": [
            "alias.tree log --graph --oneline --decorate\n",
            "alias.st status\n",
            "alias.code !code\n"
          ]
        }
      ],
      "source": [
        "!git config --get-regexp ^alias\\."
      ]
    },
    {
      "attachments": {},
      "cell_type": "markdown",
      "metadata": {},
      "source": [
        "We get the aliases we have created"
      ]
    },
    {
      "attachments": {},
      "cell_type": "markdown",
      "metadata": {},
      "source": [
        "But even better, we can create an alias to get the aliases, for this we do `git config --global alias.alias \"config --get-regexp ^alias\\.\"`"
      ]
    },
    {
      "cell_type": "code",
      "execution_count": 225,
      "metadata": {},
      "outputs": [],
      "source": [
        "!git config --global alias.alias \"config --get-regexp ^alias\\.\""
      ]
    },
    {
      "attachments": {},
      "cell_type": "markdown",
      "metadata": {},
      "source": [
        "If we now do `git alias`"
      ]
    },
    {
      "cell_type": "code",
      "execution_count": 226,
      "metadata": {},
      "outputs": [
        {
          "name": "stdout",
          "output_type": "stream",
          "text": [
            "alias.tree log --graph --oneline --decorate\n",
            "alias.st status\n",
            "alias.code !code\n",
            "alias.alias config --get-regexp ^alias\\.\n"
          ]
        }
      ],
      "source": [
        "!git alias"
      ]
    },
    {
      "attachments": {},
      "cell_type": "markdown",
      "metadata": {},
      "source": [
        "We get the list with all our aliases"
      ]
    },
    {
      "attachments": {},
      "cell_type": "markdown",
      "metadata": {},
      "source": [
        "## Stash store (`git stash`)"
      ]
    },
    {
      "attachments": {},
      "cell_type": "markdown",
      "metadata": {},
      "source": [
        "Suppose we are working on a branch, we have several modified files, we haven't made a commit, and for some reason we need to switch to another branch. For example, we are on a branch developing a new feature, and we have to leave it halfway because there is a critical bug in the main branch.",
        "\n",
        "One solution would be to make a commit to save the changes and come back later. But maybe we left the code halfway and don't want to make a commit. So for that, stash was invented, which is like a storage place where you leave your code stored to be able to recover it later.",
        "\n",
        "It is a stack, which means that the last thing to enter is the first to exit."
      ]
    },
    {
      "attachments": {},
      "cell_type": "markdown",
      "metadata": {},
      "source": [
        "Let's see how to do it, first we create a new branch that we will call `new_feature`"
      ]
    },
    {
      "cell_type": "code",
      "execution_count": 2,
      "metadata": {},
      "outputs": [],
      "source": [
        "!cd notebook_git && git branch new_feature"
      ]
    },
    {
      "attachments": {},
      "cell_type": "markdown",
      "metadata": {},
      "source": [
        "We switch to her"
      ]
    },
    {
      "cell_type": "code",
      "execution_count": 3,
      "metadata": {},
      "outputs": [
        {
          "name": "stdout",
          "output_type": "stream",
          "text": [
            "Cambiado a rama 'new_feature'\n"
          ]
        }
      ],
      "source": [
        "!cd notebook_git && git switch new_feature"
      ]
    },
    {
      "attachments": {},
      "cell_type": "markdown",
      "metadata": {},
      "source": [
        "We are going to modify `archivo2.py` and `archivo8.py`"
      ]
    },
    {
      "cell_type": "code",
      "execution_count": 4,
      "metadata": {},
      "outputs": [],
      "source": [
        "!cd notebook_git && echo \"print('new_feature')\" >> archivo2.py && echo \"print('new_feature')\" >> archivo8.py"
      ]
    },
    {
      "attachments": {},
      "cell_type": "markdown",
      "metadata": {},
      "source": [
        "We run a `git status` to check that changes have been made"
      ]
    },
    {
      "cell_type": "code",
      "execution_count": 5,
      "metadata": {},
      "outputs": [
        {
          "name": "stdout",
          "output_type": "stream",
          "text": [
            "En la rama new_feature\n",
            "Cambios no rastreados para el commit:\n",
            "  (usa \"git add <archivo>...\" para actualizar lo que ser\u00e1 confirmado)\n",
            "  (usa \"git restore <archivo>...\" para descartar los cambios en el directorio de trabajo)\n",
            "\t\u001b[31mmodificados:     archivo2.py\u001b[m\n",
            "\t\u001b[31mmodificados:     archivo8.py\u001b[m\n",
            "\n",
            "sin cambios agregados al commit (usa \"git add\" y/o \"git commit -a\")\n"
          ]
        }
      ],
      "source": [
        "!cd notebook_git && git status"
      ]
    },
    {
      "attachments": {},
      "cell_type": "markdown",
      "metadata": {},
      "source": [
        "Let's add `archivo8.py` to the `staged` area"
      ]
    },
    {
      "cell_type": "code",
      "execution_count": 6,
      "metadata": {},
      "outputs": [],
      "source": [
        "!cd notebook_git && git add archivo8.py"
      ]
    },
    {
      "attachments": {},
      "cell_type": "markdown",
      "metadata": {},
      "source": [
        "We run `git status` again"
      ]
    },
    {
      "cell_type": "code",
      "execution_count": 7,
      "metadata": {},
      "outputs": [
        {
          "name": "stdout",
          "output_type": "stream",
          "text": [
            "En la rama new_feature\n",
            "Cambios a ser confirmados:\n",
            "  (usa \"git restore --staged <archivo>...\" para sacar del \u00e1rea de stage)\n",
            "\t\u001b[32mmodificados:     archivo8.py\u001b[m\n",
            "\n",
            "Cambios no rastreados para el commit:\n",
            "  (usa \"git add <archivo>...\" para actualizar lo que ser\u00e1 confirmado)\n",
            "  (usa \"git restore <archivo>...\" para descartar los cambios en el directorio de trabajo)\n",
            "\t\u001b[31mmodificados:     archivo2.py\u001b[m\n",
            "\n"
          ]
        }
      ],
      "source": [
        "!cd notebook_git && git status"
      ]
    },
    {
      "attachments": {},
      "cell_type": "markdown",
      "metadata": {},
      "source": [
        "As we can see, we have two modified files, one of which is also in the `staged` area. If we now needed to switch branches, to avoid losing our changes, we could either commit them or store them in the `stash`, so let's do the latter using `git stash`."
      ]
    },
    {
      "cell_type": "code",
      "execution_count": 8,
      "metadata": {},
      "outputs": [
        {
          "name": "stdout",
          "output_type": "stream",
          "text": [
            "Directorio de trabajo y estado de \u00edndice WIP on new_feature: 527e07a Create README.md guardados\n"
          ]
        }
      ],
      "source": [
        "!cd notebook_git && git stash"
      ]
    },
    {
      "attachments": {},
      "cell_type": "markdown",
      "metadata": {},
      "source": [
        "If we now run `git status` again, let's see what happens"
      ]
    },
    {
      "cell_type": "code",
      "execution_count": 9,
      "metadata": {},
      "outputs": [
        {
          "name": "stdout",
          "output_type": "stream",
          "text": [
            "En la rama new_feature\n",
            "nada para hacer commit, el \u00e1rbol de trabajo est\u00e1 limpio\n"
          ]
        }
      ],
      "source": [
        "!cd notebook_git && git status"
      ]
    },
    {
      "attachments": {},
      "cell_type": "markdown",
      "metadata": {},
      "source": [
        "Files with modifications no longer appear, it's as if we had made a commit."
      ]
    },
    {
      "attachments": {},
      "cell_type": "markdown",
      "metadata": {},
      "source": [
        "> **Important**: New files that have never been tracked by Git will not be added to the repository, so for new files, you need to at least do a `git add` first."
      ]
    },
    {
      "attachments": {},
      "cell_type": "markdown",
      "metadata": {},
      "source": [
        "If I now create a new file and try to take it to the repository, I will get an error."
      ]
    },
    {
      "cell_type": "code",
      "execution_count": 16,
      "metadata": {},
      "outputs": [],
      "source": [
        "!cd notebook_git && touch archivo9.py"
      ]
    },
    {
      "cell_type": "code",
      "execution_count": 11,
      "metadata": {},
      "outputs": [
        {
          "name": "stdout",
          "output_type": "stream",
          "text": [
            "En la rama new_feature\n",
            "Archivos sin seguimiento:\n",
            "  (usa \"git add <archivo>...\" para incluirlo a lo que se ser\u00e1 confirmado)\n",
            "\t\u001b[31marchivo9.py\u001b[m\n",
            "\n",
            "no hay nada agregado al commit pero hay archivos sin seguimiento presentes (usa \"git add\" para hacerles seguimiento)\n"
          ]
        }
      ],
      "source": [
        "!cd notebook_git && git status"
      ]
    },
    {
      "cell_type": "code",
      "execution_count": 13,
      "metadata": {},
      "outputs": [
        {
          "name": "stdout",
          "output_type": "stream",
          "text": [
            "No hay cambios locales para guardar\n"
          ]
        }
      ],
      "source": [
        "!cd notebook_git && git stash"
      ]
    },
    {
      "cell_type": "code",
      "execution_count": 14,
      "metadata": {},
      "outputs": [
        {
          "name": "stdout",
          "output_type": "stream",
          "text": [
            "En la rama new_feature\n",
            "Archivos sin seguimiento:\n",
            "  (usa \"git add <archivo>...\" para incluirlo a lo que se ser\u00e1 confirmado)\n",
            "\t\u001b[31marchivo9.py\u001b[m\n",
            "\n",
            "no hay nada agregado al commit pero hay archivos sin seguimiento presentes (usa \"git add\" para hacerles seguimiento)\n"
          ]
        }
      ],
      "source": [
        "!cd notebook_git && git status"
      ]
    },
    {
      "attachments": {},
      "cell_type": "markdown",
      "metadata": {},
      "source": [
        "As we can see, `archivo9.py` has not been saved in the repository, so it should have been added with `git add`."
      ]
    },
    {
      "cell_type": "code",
      "execution_count": 15,
      "metadata": {},
      "outputs": [],
      "source": [
        "!cd notebook_git && rm archivo9.py"
      ]
    },
    {
      "attachments": {},
      "cell_type": "markdown",
      "metadata": {},
      "source": [
        "### Everything to the stash (`git stash -u -a`)"
      ]
    },
    {
      "attachments": {},
      "cell_type": "markdown",
      "metadata": {},
      "source": [
        "As we have seen, only the files that git is tracking are sent to the repository. However, if we have newly created files or ignored files, they will not be sent. To solve this, we can use the `-u` or `--include-untracked` flags to send new files that git has not yet tracked, and the `-a` or `--all` flag to include everything, even ignored files."
      ]
    },
    {
      "attachments": {},
      "cell_type": "markdown",
      "metadata": {},
      "source": [
        "### List of stashes (`git stash list`)"
      ]
    },
    {
      "attachments": {},
      "cell_type": "markdown",
      "metadata": {},
      "source": [
        "As we have mentioned, the stash acts as a stack, so if we use this stash many times, in reality we will have a list of stashes, and to see the ones we have stored we can use `git stash list`"
      ]
    },
    {
      "cell_type": "code",
      "execution_count": 17,
      "metadata": {},
      "outputs": [
        {
          "name": "stdout",
          "output_type": "stream",
          "text": [
            "stash@{0}: WIP on new_feature: 527e07a Create README.md\n"
          ]
        }
      ],
      "source": [
        "!cd notebook_git && git stash list"
      ]
    },
    {
      "attachments": {},
      "cell_type": "markdown",
      "metadata": {},
      "source": [
        "As we can see, we only have one, which indicates the branch (`on new_feature`), the last commit (`Create README.md`), and an identifier (`527e07a`)."
      ]
    },
    {
      "attachments": {},
      "cell_type": "markdown",
      "metadata": {},
      "source": [
        "### Stash with description (`git stash push -m <description>`)"
      ]
    },
    {
      "attachments": {},
      "cell_type": "markdown",
      "metadata": {},
      "source": [
        "As we have seen, the list returns the branch and the last commit, but this information only helps us know where we started modifying before saving to the history. Additionally, it returns an identifier that doesn't tell us much, so we can add a first description to the stash with `git stash push -m <description>`"
      ]
    },
    {
      "attachments": {},
      "cell_type": "markdown",
      "metadata": {},
      "source": [
        "First we do a `git status` to see what we have uncommitted."
      ]
    },
    {
      "cell_type": "code",
      "execution_count": 18,
      "metadata": {},
      "outputs": [
        {
          "name": "stdout",
          "output_type": "stream",
          "text": [
            "En la rama new_feature\n",
            "Archivos sin seguimiento:\n",
            "  (usa \"git add <archivo>...\" para incluirlo a lo que se ser\u00e1 confirmado)\n",
            "\t\u001b[31marchivo9.py\u001b[m\n",
            "\n",
            "no hay nada agregado al commit pero hay archivos sin seguimiento presentes (usa \"git add\" para hacerles seguimiento)\n"
          ]
        }
      ],
      "source": [
        "!cd notebook_git && git status"
      ]
    },
    {
      "attachments": {},
      "cell_type": "markdown",
      "metadata": {},
      "source": [
        "We have `archivo9.py`, but let's remember that it has never been tracked by git, so to include it in a stash we need to use the `-u` flag or the `-a` flag, so we create a new stash with a description using the command `git stash push -u -m <description>`"
      ]
    },
    {
      "cell_type": "code",
      "execution_count": 28,
      "metadata": {},
      "outputs": [
        {
          "name": "stdout",
          "output_type": "stream",
          "text": [
            "Directorio de trabajo y estado de \u00edndice On new_feature: archivo9.py guardados\n"
          ]
        }
      ],
      "source": [
        "!cd notebook_git && git stash push -u -m \"archivo9.py\""
      ]
    },
    {
      "attachments": {},
      "cell_type": "markdown",
      "metadata": {},
      "source": [
        "We pull out the list from the stash"
      ]
    },
    {
      "cell_type": "code",
      "execution_count": 29,
      "metadata": {},
      "outputs": [
        {
          "name": "stdout",
          "output_type": "stream",
          "text": [
            "stash@{0}: On new_feature: archivo9.py\n",
            "stash@{1}: WIP on new_feature: 527e07a Create README.md\n"
          ]
        }
      ],
      "source": [
        "!cd notebook_git && git stash list"
      ]
    },
    {
      "attachments": {},
      "cell_type": "markdown",
      "metadata": {},
      "source": [
        "The new one appears much more clearly"
      ]
    },
    {
      "attachments": {},
      "cell_type": "markdown",
      "metadata": {},
      "source": [
        "### Recover the last stash (`git stash pop`)"
      ]
    },
    {
      "attachments": {},
      "cell_type": "markdown",
      "metadata": {},
      "source": [
        "As we have said, the stash is a stack of stores, so when it comes to recovering them, we will do it just like a stack, always recovering the last one.",
        "\n",
        "![git stash push pop](https://images.maximofn.com/git-stash-push-pop.webp)",
        "\n",
        "To recover the last stash we have to do `git stash pop`"
      ]
    },
    {
      "attachments": {},
      "cell_type": "markdown",
      "metadata": {},
      "source": [
        "First we do a `git status` to check that we don't have any pending changes"
      ]
    },
    {
      "cell_type": "code",
      "execution_count": 30,
      "metadata": {},
      "outputs": [
        {
          "name": "stdout",
          "output_type": "stream",
          "text": [
            "En la rama new_feature\n",
            "nada para hacer commit, el \u00e1rbol de trabajo est\u00e1 limpio\n"
          ]
        }
      ],
      "source": [
        "!cd notebook_git && git status"
      ]
    },
    {
      "attachments": {},
      "cell_type": "markdown",
      "metadata": {},
      "source": [
        "Now we recover the last stash"
      ]
    },
    {
      "cell_type": "code",
      "execution_count": 31,
      "metadata": {},
      "outputs": [
        {
          "name": "stdout",
          "output_type": "stream",
          "text": [
            "En la rama new_feature\n",
            "Cambios a ser confirmados:\n",
            "  (usa \"git restore --staged <archivo>...\" para sacar del \u00e1rea de stage)\n",
            "\t\u001b[32mnuevos archivos: archivo9.py\u001b[m\n",
            "\n",
            "Descartado refs/stash@{0} (0246b0e922f654e7fc68cfeaf26e24fc511feb37)\n"
          ]
        }
      ],
      "source": [
        "!cd notebook_git && git stash pop"
      ]
    },
    {
      "attachments": {},
      "cell_type": "markdown",
      "metadata": {},
      "source": [
        "If we run `git status` again, we will see that we have `archivo9.py` pending to be committed."
      ]
    },
    {
      "cell_type": "code",
      "execution_count": 32,
      "metadata": {},
      "outputs": [
        {
          "name": "stdout",
          "output_type": "stream",
          "text": [
            "En la rama new_feature\n",
            "Cambios a ser confirmados:\n",
            "  (usa \"git restore --staged <archivo>...\" para sacar del \u00e1rea de stage)\n",
            "\t\u001b[32mnuevos archivos: archivo9.py\u001b[m\n",
            "\n"
          ]
        }
      ],
      "source": [
        "!cd notebook_git && git status"
      ]
    },
    {
      "attachments": {},
      "cell_type": "markdown",
      "metadata": {},
      "source": [
        "And if we check the stash list, we will see that we only have one left."
      ]
    },
    {
      "cell_type": "code",
      "execution_count": 33,
      "metadata": {},
      "outputs": [
        {
          "name": "stdout",
          "output_type": "stream",
          "text": [
            "stash@{0}: WIP on new_feature: 527e07a Create README.md\n"
          ]
        }
      ],
      "source": [
        "!cd notebook_git && git stash list"
      ]
    },
    {
      "attachments": {},
      "cell_type": "markdown",
      "metadata": {},
      "source": [
        "### Remove a stash (`git stash drop <position>`)"
      ]
    },
    {
      "attachments": {},
      "cell_type": "markdown",
      "metadata": {},
      "source": [
        "If we want to delete a stash, we have to do `git stash drop <position>`, where `<position>` is the position that the stash occupies in the list."
      ]
    },
    {
      "attachments": {},
      "cell_type": "markdown",
      "metadata": {},
      "source": [
        "We get the list of stashes"
      ]
    },
    {
      "cell_type": "code",
      "execution_count": 34,
      "metadata": {},
      "outputs": [
        {
          "name": "stdout",
          "output_type": "stream",
          "text": [
            "stash@{0}: WIP on new_feature: 527e07a Create README.md\n"
          ]
        }
      ],
      "source": [
        "!cd notebook_git && git stash list"
      ]
    },
    {
      "attachments": {},
      "cell_type": "markdown",
      "metadata": {},
      "source": [
        "In our case, we only have one and it is at position 0 (`stash@{0}`), so to remove it, we would have to do `git stash drop 0`, but I'm not going to do it because I will delete it now with another command."
      ]
    },
    {
      "attachments": {},
      "cell_type": "markdown",
      "metadata": {},
      "source": [
        "### Clear all stashes (`git stash clear`)"
      ]
    },
    {
      "attachments": {},
      "cell_type": "markdown",
      "metadata": {},
      "source": [
        "If we want to empty the entire stash list, we have to do `git stash clear`"
      ]
    },
    {
      "cell_type": "code",
      "execution_count": 35,
      "metadata": {},
      "outputs": [],
      "source": [
        "!cd notebook_git && git stash clear"
      ]
    },
    {
      "attachments": {},
      "cell_type": "markdown",
      "metadata": {},
      "source": [
        "If we now request the list of stashes"
      ]
    },
    {
      "cell_type": "code",
      "execution_count": 36,
      "metadata": {},
      "outputs": [],
      "source": [
        "!cd notebook_git && git stash list"
      ]
    },
    {
      "attachments": {},
      "cell_type": "markdown",
      "metadata": {},
      "source": [
        "We don't get anything because we have removed everything"
      ]
    },
    {
      "attachments": {},
      "cell_type": "markdown",
      "metadata": {},
      "source": [
        "Let's leave everything as it was, we do a `git status` to remember the changes we had pending"
      ]
    },
    {
      "cell_type": "code",
      "execution_count": 37,
      "metadata": {},
      "outputs": [
        {
          "name": "stdout",
          "output_type": "stream",
          "text": [
            "En la rama new_feature\n",
            "Cambios a ser confirmados:\n",
            "  (usa \"git restore --staged <archivo>...\" para sacar del \u00e1rea de stage)\n",
            "\t\u001b[32mnuevos archivos: archivo9.py\u001b[m\n",
            "\n"
          ]
        }
      ],
      "source": [
        "!cd notebook_git && git status"
      ]
    },
    {
      "attachments": {},
      "cell_type": "markdown",
      "metadata": {},
      "source": [
        "We see that we are on the `new_feature` branch and that we have `archivo9.py` pending to be committed. Since we created it for the example, we delete it and return to the main branch."
      ]
    },
    {
      "cell_type": "code",
      "execution_count": 39,
      "metadata": {},
      "outputs": [],
      "source": [
        "!cd notebook_git && git reset archivo9.py"
      ]
    },
    {
      "cell_type": "code",
      "execution_count": 41,
      "metadata": {},
      "outputs": [],
      "source": [
        "!cd notebook_git && rm archivo9.py"
      ]
    },
    {
      "cell_type": "code",
      "execution_count": 42,
      "metadata": {},
      "outputs": [
        {
          "name": "stdout",
          "output_type": "stream",
          "text": [
            "Cambiado a rama 'main'\n",
            "Tu rama est\u00e1 actualizada con 'origin/main'.\n"
          ]
        }
      ],
      "source": [
        "!cd notebook_git && git switch main"
      ]
    },
    {
      "attachments": {},
      "cell_type": "markdown",
      "metadata": {},
      "source": [
        "## Tags"
      ]
    },
    {
      "attachments": {},
      "cell_type": "markdown",
      "metadata": {},
      "source": [
        "When we are developing code, there come times when we generate versions, for example `v1.1`, `v1.2`, etc. To have this better controlled, Git provides us with tags."
      ]
    },
    {
      "attachments": {},
      "cell_type": "markdown",
      "metadata": {},
      "source": [
        "### Create a new tag (`git tag -a <tag_name> -m \"<message>\"`)"
      ]
    },
    {
      "attachments": {},
      "cell_type": "markdown",
      "metadata": {},
      "source": [
        "To create a tag we have to do `git tag -a <tag_name> -m \"<message>\"`"
      ]
    },
    {
      "attachments": {},
      "cell_type": "markdown",
      "metadata": {},
      "source": [
        "For example, let's create a tag on the current version of the repository. To do this, I will run `git tag -a v_tag -m \"Tag with the repository at the end, where we explain the tags\"`"
      ]
    },
    {
      "cell_type": "code",
      "execution_count": 1,
      "metadata": {},
      "outputs": [],
      "source": [
        "!cd notebook_git && git tag -a v_tag -m \"Tag con el repositorio en la parte final, en la que explicamos los tags\""
      ]
    },
    {
      "attachments": {},
      "cell_type": "markdown",
      "metadata": {},
      "source": [
        "### List of tags (`git tag`)"
      ]
    },
    {
      "attachments": {},
      "cell_type": "markdown",
      "metadata": {},
      "source": [
        "To see the tags we have created, we can run `git tag`"
      ]
    },
    {
      "cell_type": "code",
      "execution_count": 2,
      "metadata": {},
      "outputs": [
        {
          "name": "stdout",
          "output_type": "stream",
          "text": [
            "v_tag\n"
          ]
        }
      ],
      "source": [
        "!cd notebook_git && git tag"
      ]
    },
    {
      "attachments": {},
      "cell_type": "markdown",
      "metadata": {},
      "source": [
        "### Create a tag from an old commit (`git tag -a <tag_name> -m \"<message>\" <hash>`)"
      ]
    },
    {
      "attachments": {},
      "cell_type": "markdown",
      "metadata": {},
      "source": [
        "Let's do a `git tree` to see the history"
      ]
    },
    {
      "cell_type": "code",
      "execution_count": 3,
      "metadata": {},
      "outputs": [
        {
          "name": "stdout",
          "output_type": "stream",
          "text": [
            "* \u001b[33m527e07a\u001b[m\u001b[33m (\u001b[m\u001b[1;36mHEAD -> \u001b[m\u001b[1;32mmain\u001b[m\u001b[33m, \u001b[m\u001b[1;33mtag: v_tag\u001b[m\u001b[33m, \u001b[m\u001b[1;31morigin/main\u001b[m\u001b[33m, \u001b[m\u001b[1;32mnew_feature\u001b[m\u001b[33m)\u001b[m Create README.md\n",
            "*   \u001b[33m679bb49\u001b[m archivo1.py con el merge resuelto\n",
            "\u001b[32m|\u001b[m\u001b[33m\\\u001b[m  \n",
            "\u001b[32m|\u001b[m * \u001b[33m32851c3\u001b[m archivo1.py en rama rama_con_conflicto\n",
            "* \u001b[33m|\u001b[m \u001b[33m53f909b\u001b[m archivo1.py en rama main\n",
            "\u001b[33m|\u001b[m\u001b[33m/\u001b[m  \n",
            "* \u001b[33m52acb97\u001b[m Merge squash de los commits de la rama branch_squash\n",
            "*   \u001b[33m274529c\u001b[m Merge branch 'branch_no_fast_forward' into main\n",
            "\u001b[34m|\u001b[m\u001b[35m\\\u001b[m  \n",
            "\u001b[34m|\u001b[m * \u001b[33m8df3429\u001b[m\u001b[33m (\u001b[m\u001b[1;32mbranch_no_fast_forward\u001b[m\u001b[33m)\u001b[m file2\n",
            "\u001b[34m|\u001b[m * \u001b[33me4e23c9\u001b[m file1\n",
            "* \u001b[35m|\u001b[m \u001b[33m8bdf4d8\u001b[m file3\n",
            "\u001b[35m|\u001b[m\u001b[35m/\u001b[m  \n",
            "* \u001b[33m94149fc\u001b[m\u001b[33m (\u001b[m\u001b[1;32mbranch_fast_forward\u001b[m\u001b[33m)\u001b[m Eliminado hola.py\n",
            "* \u001b[33m4484e70\u001b[m Eliminado archivo4.py\n",
            "* \u001b[33m564ccfb\u001b[m\u001b[33m (\u001b[m\u001b[1;32mnew_branch2\u001b[m\u001b[33m)\u001b[m Commit con el archivo 8\n",
            "* \u001b[33m5168f78\u001b[m Eliminado archivo7.py\n",
            "* \u001b[33m4bb9d75\u001b[m\u001b[33m (\u001b[m\u001b[1;32mnew_branch\u001b[m\u001b[33m)\u001b[m Commit con el archivo 7\n",
            "* \u001b[33mea615a9\u001b[m Eliminado archivo5.py\n",
            "* \u001b[33me3153a5\u001b[m Commit con los archivos 4 y 5\n",
            "* \u001b[33m0b09cfa\u001b[m A\u00f1adido .gitignore\n",
            "* \u001b[33m04ebd1f\u001b[m Commit con los archivos 1 y 2\n",
            "* \u001b[33mc4930d7\u001b[m Tercer commit, hola.py\n",
            "* \u001b[33m6e99e73\u001b[m Segundo commit, hola.py\n",
            "* \u001b[33m1c95e4f\u001b[m Primer commit, hola.py\n"
          ]
        }
      ],
      "source": [
        "!cd notebook_git && git tree"
      ]
    },
    {
      "attachments": {},
      "cell_type": "markdown",
      "metadata": {},
      "source": [
        "Although it's not mentioned in the description, when we made the commit `4bb9d75` that was when we finished the local version control part, so it would also be good to have a tag for that moment. To do this, we need to create a tag by adding the hash of that moment."
      ]
    },
    {
      "cell_type": "code",
      "execution_count": 4,
      "metadata": {},
      "outputs": [],
      "source": [
        "!cd notebook_git && git tag -a v_local -m \"Tag con el repositorio en la parte de control de versiones de manera local\" 4bb9d75"
      ]
    },
    {
      "attachments": {},
      "cell_type": "markdown",
      "metadata": {},
      "source": [
        "If we now make a list of the tags, the new one appears"
      ]
    },
    {
      "cell_type": "code",
      "execution_count": 5,
      "metadata": {},
      "outputs": [
        {
          "name": "stdout",
          "output_type": "stream",
          "text": [
            "v_local\n",
            "v_tag\n"
          ]
        }
      ],
      "source": [
        "!cd notebook_git && git tag"
      ]
    },
    {
      "attachments": {},
      "cell_type": "markdown",
      "metadata": {},
      "source": [
        "And if we look at the commit history"
      ]
    },
    {
      "cell_type": "code",
      "execution_count": 8,
      "metadata": {},
      "outputs": [
        {
          "name": "stdout",
          "output_type": "stream",
          "text": [
            "* \u001b[33m527e07a\u001b[m\u001b[33m (\u001b[m\u001b[1;36mHEAD -> \u001b[m\u001b[1;32mmain\u001b[m\u001b[33m, \u001b[m\u001b[1;33mtag: v_tag\u001b[m\u001b[33m, \u001b[m\u001b[1;31morigin/main\u001b[m\u001b[33m, \u001b[m\u001b[1;32mnew_feature\u001b[m\u001b[33m)\u001b[m Create README.md\n",
            "*   \u001b[33m679bb49\u001b[m archivo1.py con el merge resuelto\n",
            "\u001b[32m|\u001b[m\u001b[33m\\\u001b[m  \n",
            "\u001b[32m|\u001b[m * \u001b[33m32851c3\u001b[m archivo1.py en rama rama_con_conflicto\n",
            "* \u001b[33m|\u001b[m \u001b[33m53f909b\u001b[m archivo1.py en rama main\n",
            "\u001b[33m|\u001b[m\u001b[33m/\u001b[m  \n",
            "* \u001b[33m52acb97\u001b[m Merge squash de los commits de la rama branch_squash\n",
            "*   \u001b[33m274529c\u001b[m Merge branch 'branch_no_fast_forward' into main\n",
            "\u001b[34m|\u001b[m\u001b[35m\\\u001b[m  \n",
            "\u001b[34m|\u001b[m * \u001b[33m8df3429\u001b[m\u001b[33m (\u001b[m\u001b[1;32mbranch_no_fast_forward\u001b[m\u001b[33m)\u001b[m file2\n",
            "\u001b[34m|\u001b[m * \u001b[33me4e23c9\u001b[m file1\n",
            "* \u001b[35m|\u001b[m \u001b[33m8bdf4d8\u001b[m file3\n",
            "\u001b[35m|\u001b[m\u001b[35m/\u001b[m  \n",
            "* \u001b[33m94149fc\u001b[m\u001b[33m (\u001b[m\u001b[1;32mbranch_fast_forward\u001b[m\u001b[33m)\u001b[m Eliminado hola.py\n",
            "* \u001b[33m4484e70\u001b[m Eliminado archivo4.py\n",
            "* \u001b[33m564ccfb\u001b[m\u001b[33m (\u001b[m\u001b[1;32mnew_branch2\u001b[m\u001b[33m)\u001b[m Commit con el archivo 8\n",
            "* \u001b[33m5168f78\u001b[m Eliminado archivo7.py\n",
            "* \u001b[33m4bb9d75\u001b[m\u001b[33m (\u001b[m\u001b[1;33mtag: v_local\u001b[m\u001b[33m, \u001b[m\u001b[1;32mnew_branch\u001b[m\u001b[33m)\u001b[m Commit con el archivo 7\n",
            "* \u001b[33mea615a9\u001b[m Eliminado archivo5.py\n",
            "* \u001b[33me3153a5\u001b[m Commit con los archivos 4 y 5\n",
            "* \u001b[33m0b09cfa\u001b[m A\u00f1adido .gitignore\n",
            "* \u001b[33m04ebd1f\u001b[m Commit con los archivos 1 y 2\n",
            "* \u001b[33mc4930d7\u001b[m Tercer commit, hola.py\n",
            "* \u001b[33m6e99e73\u001b[m Segundo commit, hola.py\n",
            "* \u001b[33m1c95e4f\u001b[m Primer commit, hola.py\n"
          ]
        }
      ],
      "source": [
        "!cd notebook_git && git tree"
      ]
    },
    {
      "attachments": {},
      "cell_type": "markdown",
      "metadata": {},
      "source": [
        "At the point in history where we created the tag, the tag now appears `* 4bb9d75 (tag: v_local, new_branch) Commit with file 7`"
      ]
    },
    {
      "attachments": {},
      "cell_type": "markdown",
      "metadata": {},
      "source": [
        "### Switching between tags (`git reset --hard <tag>` or `git reset --soft <tag>`)"
      ]
    },
    {
      "attachments": {},
      "cell_type": "markdown",
      "metadata": {},
      "source": [
        "Just like we can move between different commits in the history, we can also move between tags. This has the advantage that we can move to another point in history without having to know the hash; by knowing the name of the tag we placed at that moment, we can simply do `git reset --hard <tag>` or `git reset --soft <tag>`."
      ]
    },
    {
      "attachments": {},
      "cell_type": "markdown",
      "metadata": {},
      "source": [
        "First, let's do an `ls` to see the files we have"
      ]
    },
    {
      "cell_type": "code",
      "execution_count": 6,
      "metadata": {},
      "outputs": [
        {
          "name": "stdout",
          "output_type": "stream",
          "text": [
            "api_keys.py  archivo1.py  archivo2.py  archivo8.py  README.md\n"
          ]
        }
      ],
      "source": [
        "!cd notebook_git && ls"
      ]
    },
    {
      "attachments": {},
      "cell_type": "markdown",
      "metadata": {},
      "source": [
        "We also do a `git tree` to see where we are in the history."
      ]
    },
    {
      "cell_type": "code",
      "execution_count": 7,
      "metadata": {},
      "outputs": [
        {
          "name": "stdout",
          "output_type": "stream",
          "text": [
            "* \u001b[33m527e07a\u001b[m\u001b[33m (\u001b[m\u001b[1;36mHEAD -> \u001b[m\u001b[1;32mmain\u001b[m\u001b[33m, \u001b[m\u001b[1;33mtag: v_tag\u001b[m\u001b[33m, \u001b[m\u001b[1;31morigin/main\u001b[m\u001b[33m, \u001b[m\u001b[1;32mnew_feature\u001b[m\u001b[33m)\u001b[m Create README.md\n",
            "*   \u001b[33m679bb49\u001b[m archivo1.py con el merge resuelto\n",
            "\u001b[32m|\u001b[m\u001b[33m\\\u001b[m  \n",
            "\u001b[32m|\u001b[m * \u001b[33m32851c3\u001b[m archivo1.py en rama rama_con_conflicto\n",
            "* \u001b[33m|\u001b[m \u001b[33m53f909b\u001b[m archivo1.py en rama main\n",
            "\u001b[33m|\u001b[m\u001b[33m/\u001b[m  \n",
            "* \u001b[33m52acb97\u001b[m Merge squash de los commits de la rama branch_squash\n",
            "*   \u001b[33m274529c\u001b[m Merge branch 'branch_no_fast_forward' into main\n",
            "\u001b[34m|\u001b[m\u001b[35m\\\u001b[m  \n",
            "\u001b[34m|\u001b[m * \u001b[33m8df3429\u001b[m\u001b[33m (\u001b[m\u001b[1;32mbranch_no_fast_forward\u001b[m\u001b[33m)\u001b[m file2\n",
            "\u001b[34m|\u001b[m * \u001b[33me4e23c9\u001b[m file1\n",
            "* \u001b[35m|\u001b[m \u001b[33m8bdf4d8\u001b[m file3\n",
            "\u001b[35m|\u001b[m\u001b[35m/\u001b[m  \n",
            "* \u001b[33m94149fc\u001b[m\u001b[33m (\u001b[m\u001b[1;32mbranch_fast_forward\u001b[m\u001b[33m)\u001b[m Eliminado hola.py\n",
            "* \u001b[33m4484e70\u001b[m Eliminado archivo4.py\n",
            "* \u001b[33m564ccfb\u001b[m\u001b[33m (\u001b[m\u001b[1;32mnew_branch2\u001b[m\u001b[33m)\u001b[m Commit con el archivo 8\n",
            "* \u001b[33m5168f78\u001b[m Eliminado archivo7.py\n",
            "* \u001b[33m4bb9d75\u001b[m\u001b[33m (\u001b[m\u001b[1;33mtag: v_local\u001b[m\u001b[33m, \u001b[m\u001b[1;32mnew_branch\u001b[m\u001b[33m)\u001b[m Commit con el archivo 7\n",
            "* \u001b[33mea615a9\u001b[m Eliminado archivo5.py\n",
            "* \u001b[33me3153a5\u001b[m Commit con los archivos 4 y 5\n",
            "* \u001b[33m0b09cfa\u001b[m A\u00f1adido .gitignore\n",
            "* \u001b[33m04ebd1f\u001b[m Commit con los archivos 1 y 2\n",
            "* \u001b[33mc4930d7\u001b[m Tercer commit, hola.py\n",
            "* \u001b[33m6e99e73\u001b[m Segundo commit, hola.py\n",
            "* \u001b[33m1c95e4f\u001b[m Primer commit, hola.py\n"
          ]
        }
      ],
      "source": [
        "!cd notebook_git && git tree"
      ]
    },
    {
      "attachments": {},
      "cell_type": "markdown",
      "metadata": {},
      "source": [
        "Now let's move to the point where we created the `v_local` tag using `git reset --hard v_local`"
      ]
    },
    {
      "cell_type": "code",
      "execution_count": 10,
      "metadata": {},
      "outputs": [
        {
          "name": "stdout",
          "output_type": "stream",
          "text": [
            "HEAD est\u00e1 ahora en 4bb9d75 Commit con el archivo 7\n"
          ]
        }
      ],
      "source": [
        "!cd notebook_git && git reset --hard v_local"
      ]
    },
    {
      "attachments": {},
      "cell_type": "markdown",
      "metadata": {},
      "source": [
        "If we now run `ls` again, we see that we don't have the same files."
      ]
    },
    {
      "cell_type": "code",
      "execution_count": 11,
      "metadata": {},
      "outputs": [
        {
          "name": "stdout",
          "output_type": "stream",
          "text": [
            "api_keys.py  archivo1.py  archivo2.py  archivo4.py  archivo7.py  hola.py\n"
          ]
        }
      ],
      "source": [
        "!cd notebook_git && ls"
      ]
    },
    {
      "attachments": {},
      "cell_type": "markdown",
      "metadata": {},
      "source": [
        "If we also look at the history, we can see that we have changed the moment in history."
      ]
    },
    {
      "cell_type": "code",
      "execution_count": 12,
      "metadata": {},
      "outputs": [
        {
          "name": "stdout",
          "output_type": "stream",
          "text": [
            "* \u001b[33m4bb9d75\u001b[m\u001b[33m (\u001b[m\u001b[1;36mHEAD -> \u001b[m\u001b[1;32mmain\u001b[m\u001b[33m, \u001b[m\u001b[1;33mtag: v_local\u001b[m\u001b[33m, \u001b[m\u001b[1;32mnew_branch\u001b[m\u001b[33m)\u001b[m Commit con el archivo 7\n",
            "* \u001b[33mea615a9\u001b[m Eliminado archivo5.py\n",
            "* \u001b[33me3153a5\u001b[m Commit con los archivos 4 y 5\n",
            "* \u001b[33m0b09cfa\u001b[m A\u00f1adido .gitignore\n",
            "* \u001b[33m04ebd1f\u001b[m Commit con los archivos 1 y 2\n",
            "* \u001b[33mc4930d7\u001b[m Tercer commit, hola.py\n",
            "* \u001b[33m6e99e73\u001b[m Segundo commit, hola.py\n",
            "* \u001b[33m1c95e4f\u001b[m Primer commit, hola.py\n"
          ]
        }
      ],
      "source": [
        "!cd notebook_git && git tree"
      ]
    },
    {
      "attachments": {},
      "cell_type": "markdown",
      "metadata": {},
      "source": [
        "To go back to the last moment in history, since we have also created a tag, it will be enough to do `git reset --hard v_tag`"
      ]
    },
    {
      "cell_type": "code",
      "execution_count": 13,
      "metadata": {},
      "outputs": [
        {
          "name": "stdout",
          "output_type": "stream",
          "text": [
            "HEAD est\u00e1 ahora en 527e07a Create README.md\n"
          ]
        }
      ],
      "source": [
        "!cd notebook_git && git reset --hard v_tag"
      ]
    },
    {
      "attachments": {},
      "cell_type": "markdown",
      "metadata": {},
      "source": [
        "We go back to the history to check that we have returned to the last moment of the history"
      ]
    },
    {
      "cell_type": "code",
      "execution_count": 14,
      "metadata": {},
      "outputs": [
        {
          "name": "stdout",
          "output_type": "stream",
          "text": [
            "* \u001b[33m527e07a\u001b[m\u001b[33m (\u001b[m\u001b[1;36mHEAD -> \u001b[m\u001b[1;32mmain\u001b[m\u001b[33m, \u001b[m\u001b[1;33mtag: v_tag\u001b[m\u001b[33m, \u001b[m\u001b[1;31morigin/main\u001b[m\u001b[33m, \u001b[m\u001b[1;32mnew_feature\u001b[m\u001b[33m)\u001b[m Create README.md\n",
            "*   \u001b[33m679bb49\u001b[m archivo1.py con el merge resuelto\n",
            "\u001b[32m|\u001b[m\u001b[33m\\\u001b[m  \n",
            "\u001b[32m|\u001b[m * \u001b[33m32851c3\u001b[m archivo1.py en rama rama_con_conflicto\n",
            "* \u001b[33m|\u001b[m \u001b[33m53f909b\u001b[m archivo1.py en rama main\n",
            "\u001b[33m|\u001b[m\u001b[33m/\u001b[m  \n",
            "* \u001b[33m52acb97\u001b[m Merge squash de los commits de la rama branch_squash\n",
            "*   \u001b[33m274529c\u001b[m Merge branch 'branch_no_fast_forward' into main\n",
            "\u001b[34m|\u001b[m\u001b[35m\\\u001b[m  \n",
            "\u001b[34m|\u001b[m * \u001b[33m8df3429\u001b[m\u001b[33m (\u001b[m\u001b[1;32mbranch_no_fast_forward\u001b[m\u001b[33m)\u001b[m file2\n",
            "\u001b[34m|\u001b[m * \u001b[33me4e23c9\u001b[m file1\n",
            "* \u001b[35m|\u001b[m \u001b[33m8bdf4d8\u001b[m file3\n",
            "\u001b[35m|\u001b[m\u001b[35m/\u001b[m  \n",
            "* \u001b[33m94149fc\u001b[m\u001b[33m (\u001b[m\u001b[1;32mbranch_fast_forward\u001b[m\u001b[33m)\u001b[m Eliminado hola.py\n",
            "* \u001b[33m4484e70\u001b[m Eliminado archivo4.py\n",
            "* \u001b[33m564ccfb\u001b[m\u001b[33m (\u001b[m\u001b[1;32mnew_branch2\u001b[m\u001b[33m)\u001b[m Commit con el archivo 8\n",
            "* \u001b[33m5168f78\u001b[m Eliminado archivo7.py\n",
            "* \u001b[33m4bb9d75\u001b[m\u001b[33m (\u001b[m\u001b[1;33mtag: v_local\u001b[m\u001b[33m, \u001b[m\u001b[1;32mnew_branch\u001b[m\u001b[33m)\u001b[m Commit con el archivo 7\n",
            "* \u001b[33mea615a9\u001b[m Eliminado archivo5.py\n",
            "* \u001b[33me3153a5\u001b[m Commit con los archivos 4 y 5\n",
            "* \u001b[33m0b09cfa\u001b[m A\u00f1adido .gitignore\n",
            "* \u001b[33m04ebd1f\u001b[m Commit con los archivos 1 y 2\n",
            "* \u001b[33mc4930d7\u001b[m Tercer commit, hola.py\n",
            "* \u001b[33m6e99e73\u001b[m Segundo commit, hola.py\n",
            "* \u001b[33m1c95e4f\u001b[m Primer commit, hola.py\n"
          ]
        }
      ],
      "source": [
        "!cd notebook_git && git tree"
      ]
    }
  ],
  "metadata": {
    "kernelspec": {
      "display_name": "base",
      "language": "python",
      "name": "python3"
    },
    "language_info": {
      "codemirror_mode": {
        "name": "ipython",
        "version": 3
      },
      "file_extension": ".py",
      "mimetype": "text/x-python",
      "name": "python",
      "nbconvert_exporter": "python",
      "pygments_lexer": "ipython3",
      "version": "3.10.9"
    },
    "maximofn": {
      "date": "2023-04-23",
      "description_en": "Have you rewritten that code that took you hours to do? Don't panic! With GIT, say goodbye to Oops, I deleted it. Join me on this adventure and learn how to play with versions like a programming rockstar. \ud83c\udfb8 \ud83d\udcbe #GITandRoll",
      "description_es": "\u00bfHas vuelto a sobreescribir ese c\u00f3digo que te llev\u00f3 horas hacer? \ud83d\ude2d \u00a1Que no cunda el p\u00e1nico! Con GIT, dile adi\u00f3s a los Oops, lo borr\u00e9. Acomp\u00e1\u00f1ame en esta aventura y aprende a jugar con las versiones como un rockstar de la programaci\u00f3n. \ud83c\udfb8 \ud83d\udcbe #GITandRoll",
      "description_pt": "Voc\u00ea reescreveu aquele c\u00f3digo que levou horas para ser feito? N\u00e3o entre em p\u00e2nico! Com o GIT, diga adeus ao Ops, apaguei. Junte-se a mim nesta aventura e aprenda a brincar com as vers\u00f5es como um astro da programa\u00e7\u00e3o. \ud83c\udfb8 \ud83d\udcbe #GITeRoll",
      "end_url": "git",
      "image": "https://images.maximofn.com/Git.webp",
      "image_hover_path": "https://images.maximofn.com/Git.webp",
      "keywords_en": "git, version control, control de versiones, versionamento, git tags, git branches, git reset, git checkout",
      "keywords_es": "git, control de versiones, versionamento, git tags, git branches, git reset, git checkout",
      "keywords_pt": "git, controle de vers\u00f5es, versionamento, git tags, git branches, git reset, git checkout",
      "title_en": "Git",
      "title_es": "Git",
      "title_pt": "Git"
    },
    "orig_nbformat": 4
  },
  "nbformat": 4,
  "nbformat_minor": 2
}