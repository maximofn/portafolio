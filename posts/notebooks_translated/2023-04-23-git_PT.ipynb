{
      "cells": [
            {
                  "attachments": {},
                  "cell_type": "markdown",
                  "metadata": {},
                  "source": [
                        "# Git"
                  ]
            },
            {
                  "attachments": {},
                  "cell_type": "markdown",
                  "metadata": {},
                  "source": [
                        "## Introdução"
                  ]
            },
            {
                  "attachments": {},
                  "cell_type": "markdown",
                  "metadata": {},
                  "source": [
                        "Este caderno foi traduzido automaticamente para torná-lo acessível a mais pessoas, por favor me avise se você vir algum erro de digitação..\n",
                        "\n",
                        "Git é um software de controle de versão criado por Linus Torvalds, que o criou para ter um bom controle de versão quando ele desenvolveu o kernel do Linux."
                  ]
            },
            {
                  "attachments": {},
                  "cell_type": "markdown",
                  "metadata": {},
                  "source": [
                        "## As áreas idiota"
                  ]
            },
            {
                  "attachments": {},
                  "cell_type": "markdown",
                  "metadata": {},
                  "source": [
                        "Git tem três áreas, embora uma quarta também possa ser considerada.\n",
                        "\n",
                        "!(https://maximofn.com/wp-content/uploads/2023/03/git-states.png)\n",
                        "\n",
                        " * O primeiro é nosso espaço de trabalho, aqui é onde temos todo nosso código. Aqui, quando modificamos ou criamos um arquivo, ele se torna desmarcado, portanto, temos que movê-lo para a área de \"faseado\".\n",
                        " * A segunda área é a área \"faseada\". Aqui é onde os arquivos que modificamos ou criamos que não foram rastreados se tornam rastreados, ou seja, os rastreia. Aqui nós enviaremos os arquivos para a próxima área de \"cabeçalho\".\n",
                        " * A terceira área é a área \"cabeça\". Aqui gravamos uma versão de nosso código. Desta forma, ao salvar versões, podemos voltar às versões passadas, se necessário. A versão gravada de nosso código pode ser enviada a um servidor para que possa ser acessada por várias pessoas.\n",
                        " * As três áreas acima correspondem ao trabalho local, mas há mais uma área e que é o `servidor remoto`. Aqui o que fazemos é enviar a versão registrada de nosso código para um servidor para que tenhamos acesso ao código de qualquer lugar, ou para que mais pessoas tenham acesso a ele.\n",
                        "\n",
                        "Para fazer uma semelhança, é como uma etapa onde você vai tirar uma foto. Primeiro você tem seus arquivos modificados, então aqueles que você quer imortalizar você envia para a área \"faseada\", ou seja, para o palco. Assim que você enviar todos os arquivos que considerar, você tira a foto, então você envia todos os arquivos para a área de \"cabeça\". Desta forma, você pode tirar muitas fotos, à medida que o código evolui, para que você possa ter um álbum de fotos da evolução do código. Finalmente, você pode carregar essa foto em um servidor para que ela seja acessível a mais pessoas, ou seja, você as envia para a área do \"servidor remoto\"."
                  ]
            },
            {
                  "attachments": {},
                  "cell_type": "markdown",
                  "metadata": {},
                  "source": [
                        "## Instalar o git"
                  ]
            },
            {
                  "attachments": {},
                  "cell_type": "markdown",
                  "metadata": {},
                  "source": [
                        "Na maioria das distribuições Linux o git já está instalado, podemos verificar isso por `git --version`."
                  ]
            },
            {
                  "cell_type": "code",
                  "execution_count": 1,
                  "metadata": {},
                  "outputs": [
                        {
                              "name": "stdout",
                              "output_type": "stream",
                              "text": [
                                    "git version 2.25.1\n"
                              ]
                        }
                  ],
                  "source": [
                        "!git --version"
                  ]
            },
            {
                  "attachments": {},
                  "cell_type": "markdown",
                  "metadata": {},
                  "source": [
                        "Se você não tiver ou quiser atualizar sua versão do git, basta executar `sudo apt update` e depois `sudo apt install git`."
                  ]
            },
            {
                  "cell_type": "code",
                  "execution_count": 3,
                  "metadata": {},
                  "outputs": [
                        {
                              "name": "stdout",
                              "output_type": "stream",
                              "text": [
                                    "[sudo] password for maximo.fernandez@AEROESPACIAL.SENER: \n"
                              ]
                        }
                  ],
                  "source": [
                        "!sudo apt update && sudo apt install git"
                  ]
            },
            {
                  "attachments": {},
                  "cell_type": "markdown",
                  "metadata": {},
                  "source": [
                        "Verificamos novamente a versão"
                  ]
            },
            {
                  "cell_type": "code",
                  "execution_count": 4,
                  "metadata": {},
                  "outputs": [
                        {
                              "name": "stdout",
                              "output_type": "stream",
                              "text": [
                                    "git version 2.25.1\n"
                              ]
                        }
                  ],
                  "source": [
                        "!git --version"
                  ]
            },
            {
                  "attachments": {},
                  "cell_type": "markdown",
                  "metadata": {},
                  "source": [
                        "No meu caso, eu já tinha a versão mais recente"
                  ]
            },
            {
                  "attachments": {},
                  "cell_type": "markdown",
                  "metadata": {},
                  "source": [
                        "## Configuração inicial"
                  ]
            },
            {
                  "attachments": {},
                  "cell_type": "markdown",
                  "metadata": {},
                  "source": [
                        "### Nome e configurações de correio"
                  ]
            },
            {
                  "attachments": {},
                  "cell_type": "markdown",
                  "metadata": {},
                  "source": [
                        "Antes de começar a usar o git é conveniente que você faça algumas configurações mínimas como o nome do usuário e o e-mail, esta informação é a que será mostrada ao mostrar quem fez alterações no código. Para fazer isso, é necessário executar\n",
                        "\n",
                        "\n",
                        "````bash\n",
                        "git config --global user.name \"<username>\"\n",
                        "git config --global user.email \"<email>\"\n",
                        "```\n",
                        "\n",
                        "No meu caso, eu colocaria\n",
                        "\n",
                        "````bash\n",
                        "git config --global user.name \"MaximoFN\".\n",
                        "git config --global user.email \"maximofn@gmail.com\n",
                        "```"
                  ]
            },
            {
                  "attachments": {},
                  "cell_type": "markdown",
                  "metadata": {},
                  "source": [
                        "Como você pode ver, a bandeira `--global' muda a configuração global do git, mas se você precisar colocar outros dados em um determinado repositório, basta navegar até o repositório e remover a bandeira `--global' dos comandos acima.\n",
                        "\n",
                        "````bash\n",
                        "git config user.name \"<username>\"\n",
                        "git config user.email \"<email>\"\n",
                        "```"
                  ]
            },
            {
                  "attachments": {},
                  "cell_type": "markdown",
                  "metadata": {},
                  "source": [
                        "### Configurar o editor padrão"
                  ]
            },
            {
                  "attachments": {},
                  "cell_type": "markdown",
                  "metadata": {},
                  "source": [
                        "Quando explicarmos mais tarde o que são \"compromissos\", veremos que uma das opções pode abrir um navegador para nós. Por padrão o git tentará utilizar o `vim`, mas como não é um editor muito fácil de usar podemos modificá-lo, aqui está como fazê-lo com alguns editores comuns\n",
                        "\n",
                        "````bash\n",
                        "git config --global core.editor \"code\" # vscode como editor\n",
                        "git config --global core.editor \"atom\" # Atom como editor\n",
                        "git config --global core.editor \"sublime\" # Texto sublime como editor\n",
                        "git config --global core.editor \"nano\" # Nano como editor\n",
                        "```"
                  ]
            },
            {
                  "attachments": {},
                  "cell_type": "markdown",
                  "metadata": {},
                  "source": [
                        "### Verificar configuração do git"
                  ]
            },
            {
                  "attachments": {},
                  "cell_type": "markdown",
                  "metadata": {},
                  "source": [
                        "Para verificar a configuração do git, podemos utilizar `git config --lits'."
                  ]
            },
            {
                  "cell_type": "code",
                  "execution_count": 6,
                  "metadata": {},
                  "outputs": [
                        {
                              "name": "stdout",
                              "output_type": "stream",
                              "text": [
                                    "user.name=maximofn\n",
                                    "user.email=maximofn@gmail.com\n",
                                    "user.user=maximofn\n",
                                    "http.sslverify=true\n",
                                    "core.repositoryformatversion=0\n",
                                    "core.filemode=true\n",
                                    "core.bare=false\n",
                                    "core.logallrefupdates=true\n",
                                    "remote.origin.url=https://github.com/maximofn/portafolio.git\n",
                                    "remote.origin.fetch=+refs/heads/*:refs/remotes/origin/*\n",
                                    "branch.main.remote=origin\n",
                                    "branch.main.merge=refs/heads/main\n"
                              ]
                        }
                  ],
                  "source": [
                        "!git config --list"
                  ]
            },
            {
                  "attachments": {},
                  "cell_type": "markdown",
                  "metadata": {},
                  "source": [
                        "Podemos utilizar as bandeiras \"global\", \"local\" e \"sistema\" para ver apenas a configuração global, local (se houver) e do sistema (se houver)."
                  ]
            },
            {
                  "cell_type": "code",
                  "execution_count": 8,
                  "metadata": {},
                  "outputs": [
                        {
                              "name": "stdout",
                              "output_type": "stream",
                              "text": [
                                    "user.name=maximofn\n",
                                    "user.email=maximofn@gmail.com\n",
                                    "user.user=maximofn\n",
                                    "http.sslverify=true\n"
                              ]
                        }
                  ],
                  "source": [
                        "!git config --global --list"
                  ]
            },
            {
                  "cell_type": "code",
                  "execution_count": 9,
                  "metadata": {},
                  "outputs": [
                        {
                              "name": "stdout",
                              "output_type": "stream",
                              "text": [
                                    "core.repositoryformatversion=0\n",
                                    "core.filemode=true\n",
                                    "core.bare=false\n",
                                    "core.logallrefupdates=true\n",
                                    "remote.origin.url=https://github.com/maximofn/portafolio.git\n",
                                    "remote.origin.fetch=+refs/heads/*:refs/remotes/origin/*\n",
                                    "branch.main.remote=origin\n",
                                    "branch.main.merge=refs/heads/main\n"
                              ]
                        }
                  ],
                  "source": [
                        "!git config --local --list"
                  ]
            },
            {
                  "cell_type": "code",
                  "execution_count": 10,
                  "metadata": {},
                  "outputs": [
                        {
                              "name": "stdout",
                              "output_type": "stream",
                              "text": [
                                    "fatal: unable to read config file '/etc/gitconfig': No such file or directory\n"
                              ]
                        }
                  ],
                  "source": [
                        "!git config --system --list"
                  ]
            },
            {
                  "attachments": {},
                  "cell_type": "markdown",
                  "metadata": {},
                  "source": [
                        "No meu caso, não há configuração do sistema"
                  ]
            },
            {
                  "attachments": {},
                  "cell_type": "markdown",
                  "metadata": {},
                  "source": [
                        "Se você quiser saber apenas o valor de um parâmetro de configuração, você pode simplesmente digitar `git config <parameter>`."
                  ]
            },
            {
                  "cell_type": "code",
                  "execution_count": 15,
                  "metadata": {},
                  "outputs": [
                        {
                              "name": "stdout",
                              "output_type": "stream",
                              "text": [
                                    "maximofn\n"
                              ]
                        }
                  ],
                  "source": [
                        "!git config user.name"
                  ]
            },
            {
                  "attachments": {},
                  "cell_type": "markdown",
                  "metadata": {},
                  "source": [
                        "## Controle da versão local"
                  ]
            },
            {
                  "attachments": {},
                  "cell_type": "markdown",
                  "metadata": {},
                  "source": [
                        "### Inicialização de um novo repositório (`git init`)"
                  ]
            },
            {
                  "attachments": {},
                  "cell_type": "markdown",
                  "metadata": {},
                  "source": [
                        "Há duas maneiras de rubricar um novo repositório, fazendo\n",
                        " * Um é fazer `git init <nome do repositório>`. Isto criará uma nova pasta com o nome do repositório\n",
                        " * Outro é navegando até a pasta onde queremos criar um repositório e fazendo `git init`.\n",
                        "\n",
                        "Vou criar um novo repositório"
                  ]
            },
            {
                  "cell_type": "code",
                  "execution_count": 1,
                  "metadata": {},
                  "outputs": [
                        {
                              "name": "stdout",
                              "output_type": "stream",
                              "text": [
                                    "Inicializado repositorio Git vacío en /home/wallabot/Documentos/web/portafolio/posts/notebook_git/.git/\n"
                              ]
                        }
                  ],
                  "source": [
                        "!git init notebook_git"
                  ]
            },
            {
                  "attachments": {},
                  "cell_type": "markdown",
                  "metadata": {},
                  "source": [
                        "Se fizermos agora 's', veremos que uma nova pasta chamada 'notebook_git' foi criada."
                  ]
            },
            {
                  "cell_type": "code",
                  "execution_count": 3,
                  "metadata": {},
                  "outputs": [
                        {
                              "name": "stdout",
                              "output_type": "stream",
                              "text": [
                                    "notebook_git\n"
                              ]
                        }
                  ],
                  "source": [
                        "!ls | grep notebook_git"
                  ]
            },
            {
                  "attachments": {},
                  "cell_type": "markdown",
                  "metadata": {},
                  "source": [
                        "Passamos a ela"
                  ]
            },
            {
                  "cell_type": "code",
                  "execution_count": 4,
                  "metadata": {},
                  "outputs": [],
                  "source": [
                        "!cd notebook_git"
                  ]
            },
            {
                  "attachments": {},
                  "cell_type": "markdown",
                  "metadata": {},
                  "source": [
                        "Agora dentro da pasta temos duas maneiras de saber que o repositório foi criado, uma fazendo `ls -a' que mostrará todos os arquivos e veremos que existe uma pasta chamada `.git'. A outra maneira é fazer `git status` que nos dirá o status do repositório."
                  ]
            },
            {
                  "cell_type": "code",
                  "execution_count": 5,
                  "metadata": {},
                  "outputs": [
                        {
                              "name": "stdout",
                              "output_type": "stream",
                              "text": [
                                    ".  ..  .git\n"
                              ]
                        }
                  ],
                  "source": [
                        "!cd notebook_git && ls -a"
                  ]
            },
            {
                  "cell_type": "code",
                  "execution_count": 6,
                  "metadata": {},
                  "outputs": [
                        {
                              "name": "stdout",
                              "output_type": "stream",
                              "text": [
                                    "En la rama master\n",
                                    "\n",
                                    "No hay commits todavía\n",
                                    "\n",
                                    "no hay nada para confirmar (crea/copia archivos y usa \"git add\" para hacerles seguimiento)\n"
                              ]
                        }
                  ],
                  "source": [
                        "!cd notebook_git && git status"
                  ]
            },
            {
                  "attachments": {},
                  "cell_type": "markdown",
                  "metadata": {},
                  "source": [
                        "Como estamos em um notebook, cada célula tem seu \"caminho\" no \"caminho\" do notebook, portanto, ambas as vezes eu tive que fazer \"cd notebook_git &&\", para que ele mudasse para a pasta com o repositório que acabamos de criar."
                  ]
            },
            {
                  "attachments": {},
                  "cell_type": "markdown",
                  "metadata": {},
                  "source": [
                        "Se eu agora tento \"status de status de crédito\" em outro \"caminho\" onde um repositório não foi inicializado, ele dará um erro"
                  ]
            },
            {
                  "cell_type": "code",
                  "execution_count": 95,
                  "metadata": {},
                  "outputs": [
                        {
                              "name": "stdout",
                              "output_type": "stream",
                              "text": [
                                    "fatal: no es un repositorio git (ni ninguno de los directorios superiores): .git\n"
                              ]
                        }
                  ],
                  "source": [
                        "!cd ~/ && git status"
                  ]
            },
            {
                  "attachments": {},
                  "cell_type": "markdown",
                  "metadata": {},
                  "source": [
                        "### Criar novos arquivos"
                  ]
            },
            {
                  "attachments": {},
                  "cell_type": "markdown",
                  "metadata": {},
                  "source": [
                        "Assim que tivermos iniciado um repositório, podemos começar a criar novos arquivos, então vamos criar um e ver o que acontece."
                  ]
            },
            {
                  "cell_type": "code",
                  "execution_count": 7,
                  "metadata": {},
                  "outputs": [],
                  "source": [
                        "!cd notebook_git && echo \"print('Hello World')\" > hello.py"
                  ]
            },
            {
                  "attachments": {},
                  "cell_type": "markdown",
                  "metadata": {},
                  "source": [
                        "Se agora voltarmos a fazer o \"status de idiota\", veremos o que nos é mostrado"
                  ]
            },
            {
                  "cell_type": "code",
                  "execution_count": 8,
                  "metadata": {},
                  "outputs": [
                        {
                              "name": "stdout",
                              "output_type": "stream",
                              "text": [
                                    "En la rama master\n",
                                    "\n",
                                    "No hay commits todavía\n",
                                    "\n",
                                    "Archivos sin seguimiento:\n",
                                    "  (usa \"git add <archivo>...\" para incluirlo a lo que se será confirmado)\n",
                                    "\t\u001b[31mhello.py\u001b[m\n",
                                    "\n",
                                    "no hay nada agregado al commit pero hay archivos sin seguimiento presentes (usa \"git add\" para hacerles seguimiento)\n"
                              ]
                        }
                  ],
                  "source": [
                        "!cd notebook_git && git status"
                  ]
            },
            {
                  "attachments": {},
                  "cell_type": "markdown",
                  "metadata": {},
                  "source": [
                        "Como você pode ver agora, está nos dizendo que o arquivo `hello.py` está desmarcado. Ou seja, temos que adicionar o \"olá.py\" à área do \"estágio\", que se lembra como se fosse o palco onde íamos colocar tudo o que mais tarde tiraremos uma foto."
                  ]
            },
            {
                  "attachments": {},
                  "cell_type": "markdown",
                  "metadata": {},
                  "source": [
                        "### Desfazer a criação de um novo arquivo"
                  ]
            },
            {
                  "attachments": {},
                  "cell_type": "markdown",
                  "metadata": {},
                  "source": [
                        "Neste caso, como são arquivos que ainda não estão rastreados, ou seja, ainda não estão na área \"faseada\", teríamos três maneiras de fazer isso"
                  ]
            },
            {
                  "attachments": {},
                  "cell_type": "markdown",
                  "metadata": {},
                  "source": [
                        " *Apagando simplesmente: Como o git ainda não segue o arquivo, podemos fazer `rm hello.py` e pronto.\n",
                        " * Apagando com um comando git: Anteriormente apagamos com o comando `rm' mas é possível que você esteja em um sistema que não tem o comando `rm', então nesse caso você pode utilizar o comando git `git rm hello.py'.\n",
                        " * Finalmente podemos utilizar `git clean`. Isto é útil, por exemplo, quando há muitos arquivos novos, e assim, em um único comando, apagamos todos eles."
                  ]
            },
            {
                  "attachments": {},
                  "cell_type": "markdown",
                  "metadata": {},
                  "source": [
                        "#### `git clean`"
                  ]
            },
            {
                  "attachments": {},
                  "cell_type": "markdown",
                  "metadata": {},
                  "source": [
                        "Se simplesmente corrermos \"limpo\", isso nos dará um erro."
                  ]
            },
            {
                  "cell_type": "code",
                  "execution_count": 9,
                  "metadata": {},
                  "outputs": [
                        {
                              "name": "stdout",
                              "output_type": "stream",
                              "text": [
                                    "fatal: clean.requireForce default en true y ninguno de -i, -n, ni -f entregado; rehusando el clean\n"
                              ]
                        }
                  ],
                  "source": [
                        "!cd notebook_git && git clean"
                  ]
            },
            {
                  "attachments": {},
                  "cell_type": "markdown",
                  "metadata": {},
                  "source": [
                        "Está nos dizendo que uma dessas bandeiras `-n`, `-i` e `-f` precisa ser adicionada. Além disso, vejamos a bandeira `-d''.\n",
                        "\n",
                        " * `-n` (dry run): Nos dirá quais arquivos devem ser apagados, mas não os apagará.\n",
                        " * `-i`: Será solicitado que cada arquivo seja apagado.\n",
                        " * `-f': Vai forçar a exclusão de arquivos\n",
                        " * `-d`: Também excluirá pastas."
                  ]
            },
            {
                  "attachments": {},
                  "cell_type": "markdown",
                  "metadata": {},
                  "source": [
                        "Vamos testá-lo, primeiro fazemos `git clean -n` para saber quais arquivos seriam deletados."
                  ]
            },
            {
                  "cell_type": "code",
                  "execution_count": 10,
                  "metadata": {},
                  "outputs": [
                        {
                              "name": "stdout",
                              "output_type": "stream",
                              "text": [
                                    "Será borrado hello.py\n"
                              ]
                        }
                  ],
                  "source": [
                        "!cd notebook_git && git clean -n"
                  ]
            },
            {
                  "attachments": {},
                  "cell_type": "markdown",
                  "metadata": {},
                  "source": [
                        "Agora fazemos `git clean -f` para apagá-lo, uma vez que concordamos em apagá-lo."
                  ]
            },
            {
                  "cell_type": "code",
                  "execution_count": 11,
                  "metadata": {},
                  "outputs": [
                        {
                              "name": "stdout",
                              "output_type": "stream",
                              "text": [
                                    "Borrando hello.py\n"
                              ]
                        }
                  ],
                  "source": [
                        "!cd notebook_git && git clean -f"
                  ]
            },
            {
                  "attachments": {},
                  "cell_type": "markdown",
                  "metadata": {},
                  "source": [
                        "Como podemos ver, você eliminou \"olá.py\"."
                  ]
            },
            {
                  "attachments": {},
                  "cell_type": "markdown",
                  "metadata": {},
                  "source": [
                        "### Adicionar um arquivo à área encenada (`git add`)"
                  ]
            },
            {
                  "attachments": {},
                  "cell_type": "markdown",
                  "metadata": {},
                  "source": [
                        "Nós recriamos um arquivo"
                  ]
            },
            {
                  "cell_type": "code",
                  "execution_count": 12,
                  "metadata": {},
                  "outputs": [],
                  "source": [
                        "!cd notebook_git && echo \"print('Hola mundo')\" > hola.py"
                  ]
            },
            {
                  "attachments": {},
                  "cell_type": "markdown",
                  "metadata": {},
                  "source": [
                        "Fazemos novamente um \"status de crédito\" para verificar se temos o arquivo."
                  ]
            },
            {
                  "cell_type": "code",
                  "execution_count": 13,
                  "metadata": {},
                  "outputs": [
                        {
                              "name": "stdout",
                              "output_type": "stream",
                              "text": [
                                    "En la rama master\n",
                                    "\n",
                                    "No hay commits todavía\n",
                                    "\n",
                                    "Archivos sin seguimiento:\n",
                                    "  (usa \"git add <archivo>...\" para incluirlo a lo que se será confirmado)\n",
                                    "\t\u001b[31mhola.py\u001b[m\n",
                                    "\n",
                                    "no hay nada agregado al commit pero hay archivos sin seguimiento presentes (usa \"git add\" para hacerles seguimiento)\n"
                              ]
                        }
                  ],
                  "source": [
                        "!cd notebook_git && git status"
                  ]
            },
            {
                  "attachments": {},
                  "cell_type": "markdown",
                  "metadata": {},
                  "source": [
                        "Vemos que temos o arquivo `hola.py`, mas que o git não está rastreando. Vemos também que ele nos ajuda e diz \"use o \"git add\" para rastreá-los\".\n",
                        "\n",
                        "A sintaxe é `git add <file>`, mas podemos fazer isso de várias maneiras\n",
                        "\n",
                        " * Se quisermos adicionar mais de um arquivo, podemos fazê-lo colocando todos os arquivos que queremos adicionar à área encenada, separados por um espaço: `git add <file1> <file2> <file3>``.\n",
                        " * Se quisermos adicionar todos os arquivos do mesmo formato, por exemplo, se quisermos adicionar todos os arquivos python, seria `git add *.py`.\n",
                        " * Se quisermos adicionar todos os arquivos em uma pasta `git add <folder>/`\n",
                        " * Se quisermos adicionar todos os arquivos que temos de três maneiras, `git add --all`, `git add -A` ou `git add .`."
                  ]
            },
            {
                  "attachments": {},
                  "cell_type": "markdown",
                  "metadata": {},
                  "source": [
                        "Vamos adicionar o arquivo recém-criado"
                  ]
            },
            {
                  "cell_type": "code",
                  "execution_count": 14,
                  "metadata": {},
                  "outputs": [],
                  "source": [
                        "!cd notebook_git && git add hola.py"
                  ]
            },
            {
                  "attachments": {},
                  "cell_type": "markdown",
                  "metadata": {},
                  "source": [
                        "Fazemos um \"status de idiota\" para ver o que aconteceu."
                  ]
            },
            {
                  "cell_type": "code",
                  "execution_count": 15,
                  "metadata": {},
                  "outputs": [
                        {
                              "name": "stdout",
                              "output_type": "stream",
                              "text": [
                                    "En la rama master\n",
                                    "\n",
                                    "No hay commits todavía\n",
                                    "\n",
                                    "Cambios a ser confirmados:\n",
                                    "  (usa \"git rm --cached <archivo>...\" para sacar del área de stage)\n",
                                    "\t\u001b[32mnuevos archivos: hola.py\u001b[m\n",
                                    "\n"
                              ]
                        }
                  ],
                  "source": [
                        "!cd notebook_git && git status"
                  ]
            },
            {
                  "attachments": {},
                  "cell_type": "markdown",
                  "metadata": {},
                  "source": [
                        "Como podemos ver, isso nos diz que temos um novo arquivo que está sendo rastreado e está aguardando a confirmação `hola.py`."
                  ]
            },
            {
                  "attachments": {},
                  "cell_type": "markdown",
                  "metadata": {},
                  "source": [
                        "### Removendo um arquivo da área encenada (`git reset`)"
                  ]
            },
            {
                  "attachments": {},
                  "cell_type": "markdown",
                  "metadata": {},
                  "source": [
                        "Caso adicionemos um arquivo à área encenada e desejemos removê-lo, temos que utilizar `git reset <file>`, vamos vê-lo"
                  ]
            },
            {
                  "attachments": {},
                  "cell_type": "markdown",
                  "metadata": {},
                  "source": [
                        "Criamos e acrescentamos à área encenada um novo arquivo"
                  ]
            },
            {
                  "cell_type": "code",
                  "execution_count": 16,
                  "metadata": {},
                  "outputs": [],
                  "source": [
                        "!cd notebook_git && echo \"print('Este no')\" > adios.py && git add adios.py"
                  ]
            },
            {
                  "attachments": {},
                  "cell_type": "markdown",
                  "metadata": {},
                  "source": [
                        "Fazemos o \"status de crédito\" para verificar se ele está na área encenada."
                  ]
            },
            {
                  "cell_type": "code",
                  "execution_count": 17,
                  "metadata": {},
                  "outputs": [
                        {
                              "name": "stdout",
                              "output_type": "stream",
                              "text": [
                                    "En la rama master\n",
                                    "\n",
                                    "No hay commits todavía\n",
                                    "\n",
                                    "Cambios a ser confirmados:\n",
                                    "  (usa \"git rm --cached <archivo>...\" para sacar del área de stage)\n",
                                    "\t\u001b[32mnuevos archivos: adios.py\u001b[m\n",
                                    "\t\u001b[32mnuevos archivos: hola.py\u001b[m\n",
                                    "\n"
                              ]
                        }
                  ],
                  "source": [
                        "!cd notebook_git && git status"
                  ]
            },
            {
                  "attachments": {},
                  "cell_type": "markdown",
                  "metadata": {},
                  "source": [
                        "Como podemos ver, há `hello.py` e `adios.py`, então usamos `git reset adios.py` para removê-lo da área encenada."
                  ]
            },
            {
                  "cell_type": "code",
                  "execution_count": 18,
                  "metadata": {},
                  "outputs": [],
                  "source": [
                        "!cd notebook_git && git reset adios.py"
                  ]
            },
            {
                  "attachments": {},
                  "cell_type": "markdown",
                  "metadata": {},
                  "source": [
                        "Fazemos um \"status de crédito\" para verificar se ele já saiu."
                  ]
            },
            {
                  "cell_type": "code",
                  "execution_count": 19,
                  "metadata": {},
                  "outputs": [
                        {
                              "name": "stdout",
                              "output_type": "stream",
                              "text": [
                                    "En la rama master\n",
                                    "\n",
                                    "No hay commits todavía\n",
                                    "\n",
                                    "Cambios a ser confirmados:\n",
                                    "  (usa \"git rm --cached <archivo>...\" para sacar del área de stage)\n",
                                    "\t\u001b[32mnuevos archivos: hola.py\u001b[m\n",
                                    "\n",
                                    "Archivos sin seguimiento:\n",
                                    "  (usa \"git add <archivo>...\" para incluirlo a lo que se será confirmado)\n",
                                    "\t\u001b[31madios.py\u001b[m\n",
                                    "\n"
                              ]
                        }
                  ],
                  "source": [
                        "!cd notebook_git && git status"
                  ]
            },
            {
                  "attachments": {},
                  "cell_type": "markdown",
                  "metadata": {},
                  "source": [
                        "Podemos ver que o `adios.py` não é mais rastreado por git, ele foi removido da área encenada."
                  ]
            },
            {
                  "attachments": {},
                  "cell_type": "markdown",
                  "metadata": {},
                  "source": [
                        "Fazemos `git clean -f` para apagá-lo."
                  ]
            },
            {
                  "cell_type": "code",
                  "execution_count": 20,
                  "metadata": {},
                  "outputs": [
                        {
                              "name": "stdout",
                              "output_type": "stream",
                              "text": [
                                    "Borrando adios.py\n",
                                    "En la rama master\n",
                                    "\n",
                                    "No hay commits todavía\n",
                                    "\n",
                                    "Cambios a ser confirmados:\n",
                                    "  (usa \"git rm --cached <archivo>...\" para sacar del área de stage)\n",
                                    "\t\u001b[32mnuevos archivos: hola.py\u001b[m\n",
                                    "\n"
                              ]
                        }
                  ],
                  "source": [
                        "!cd notebook_git && git clean -f && git status"
                  ]
            },
            {
                  "attachments": {},
                  "cell_type": "markdown",
                  "metadata": {},
                  "source": [
                        "### Compromisso (`git commit`)"
                  ]
            },
            {
                  "attachments": {},
                  "cell_type": "markdown",
                  "metadata": {},
                  "source": [
                        "Se voltarmos à analogia na qual dissemos que a área encenada era o palco onde enviamos os arquivos dos quais queríamos tirar a foto, agora é hora de tirar a foto para imortalizar o estado atual. Isto está fazendo um `compromisso'.\n",
                        "\n",
                        "Desta forma, o estado atual do código é registrado, portanto, a cada compromisso, teremos um registro da evolução do código. Como com um álbum de fotos, com cada foto temos um registro da evolução do que colocamos em cena."
                  ]
            },
            {
                  "attachments": {},
                  "cell_type": "markdown",
                  "metadata": {},
                  "source": [
                        "Como na hora do compromisso a mudança de código está sendo registrada, o git não nos deixa comprometer se não fizermos um comentário mínimo. Portanto, há duas maneiras de cometer\n",
                        "\n",
                        " * git commit` isto abrirá o editor que estabelecemos na configuração do git. Se não tivermos definido um editor padrão, o `vi` abrirá. Se quisermos mudar a configuração do editor, podemos fazer, por exemplo `git config --global core.editor \"code\"` ou `git config core.editor \"code\"` para definir o vscode como o editor padrão global ou local.\n",
                        " * 'git commit -m \"Commit message \"*. Desta forma, adicionamos a mensagem diretamente\n",
                        "\n",
                        "Ao nos comprometermos da primeira maneira, podemos ter uma primeira linha que será o título do compromisso e várias outras linhas onde é explicado com mais detalhes. Se quisermos ser capazes de fazer isso com a bandeira `-m', basta adicionar várias bandeiras `-m' seguidas: `git commit -m \"Commit title\" -m \"First line explaining more\" -m \"Second line explaining more\" `."
                  ]
            },
            {
                  "attachments": {},
                  "cell_type": "markdown",
                  "metadata": {},
                  "source": [
                        "Uma vez assumido o compromisso, isto manterá um registro da mudança em nosso repositório localmente. Ainda não nos conectamos a um servidor remoto."
                  ]
            },
            {
                  "attachments": {},
                  "cell_type": "markdown",
                  "metadata": {},
                  "source": [
                        "Vamos tentar nos comprometer"
                  ]
            },
            {
                  "cell_type": "code",
                  "execution_count": 21,
                  "metadata": {},
                  "outputs": [
                        {
                              "name": "stdout",
                              "output_type": "stream",
                              "text": [
                                    "[master (commit-raíz) 1c95e4f] Primer commit, hola.py\n",
                                    " 1 file changed, 1 insertion(+)\n",
                                    " create mode 100644 hola.py\n"
                              ]
                        }
                  ],
                  "source": [
                        "!cd notebook_git && git commit -m \"Primer commit, hola.py\""
                  ]
            },
            {
                  "attachments": {},
                  "cell_type": "markdown",
                  "metadata": {},
                  "source": [
                        "Fazemos um \"status de crédito\"."
                  ]
            },
            {
                  "cell_type": "code",
                  "execution_count": 22,
                  "metadata": {},
                  "outputs": [
                        {
                              "name": "stdout",
                              "output_type": "stream",
                              "text": [
                                    "En la rama master\n",
                                    "nada para hacer commit, el árbol de trabajo está limpio\n"
                              ]
                        }
                  ],
                  "source": [
                        "!cd notebook_git && git status"
                  ]
            },
            {
                  "attachments": {},
                  "cell_type": "markdown",
                  "metadata": {},
                  "source": [
                        "Vemos que isso nos diz que não há nada de novo, temos todo o nosso repositório sob controle."
                  ]
            },
            {
                  "attachments": {},
                  "cell_type": "markdown",
                  "metadata": {},
                  "source": [
                        "#### Compromisso de pular a adição (`git commit -a -m` ou `git commit -am`)"
                  ]
            },
            {
                  "attachments": {},
                  "cell_type": "markdown",
                  "metadata": {},
                  "source": [
                        "No caso em que quisermos mover todos os arquivos que modificamos para a área encenada e depois submetê-los, podemos fazer tudo isso em um único passo utilizando `git commit -a -m \"message\"`, `git commit --all -m \"message\"` ou `git commit -am \"message\"`.\n",
                        "\n",
                        " > Nota: Isto só é válido se um arquivo for modificado. Se o arquivo é novo e o git não o rastreia, isto é inválido.\n",
                        "\n",
                        "Vejamos um exemplo, vamos modificar `hola.py`."
                  ]
            },
            {
                  "cell_type": "code",
                  "execution_count": 23,
                  "metadata": {},
                  "outputs": [],
                  "source": [
                        "!cd notebook_git && echo \"print('He añadido una nueva linea')\" >> hola.py"
                  ]
            },
            {
                  "attachments": {},
                  "cell_type": "markdown",
                  "metadata": {},
                  "source": [
                        "Vamos fazer um \"status de crédito\" para garantir"
                  ]
            },
            {
                  "cell_type": "code",
                  "execution_count": 24,
                  "metadata": {},
                  "outputs": [
                        {
                              "name": "stdout",
                              "output_type": "stream",
                              "text": [
                                    "En la rama master\n",
                                    "Cambios no rastreados para el commit:\n",
                                    "  (usa \"git add <archivo>...\" para actualizar lo que será confirmado)\n",
                                    "  (usa \"git restore <archivo>...\" para descartar los cambios en el directorio de trabajo)\n",
                                    "\t\u001b[31mmodificados:     hola.py\u001b[m\n",
                                    "\n",
                                    "sin cambios agregados al commit (usa \"git add\" y/o \"git commit -a\")\n"
                              ]
                        }
                  ],
                  "source": [
                        "!cd notebook_git && git status"
                  ]
            },
            {
                  "attachments": {},
                  "cell_type": "markdown",
                  "metadata": {},
                  "source": [
                        "Podemos ver que a própria ajuda do git sugere a utilização do `git commit -a`, então vamos fazer isso."
                  ]
            },
            {
                  "cell_type": "code",
                  "execution_count": 25,
                  "metadata": {},
                  "outputs": [
                        {
                              "name": "stdout",
                              "output_type": "stream",
                              "text": [
                                    "[master 6e99e73] Segundo commit, hola.py\n",
                                    " 1 file changed, 1 insertion(+)\n"
                              ]
                        }
                  ],
                  "source": [
                        "!cd notebook_git && git commit -am \"Segundo commit, hola.py\""
                  ]
            },
            {
                  "attachments": {},
                  "cell_type": "markdown",
                  "metadata": {},
                  "source": [
                        "Nós refazemos um \"status de crédito\"."
                  ]
            },
            {
                  "cell_type": "code",
                  "execution_count": 26,
                  "metadata": {},
                  "outputs": [
                        {
                              "name": "stdout",
                              "output_type": "stream",
                              "text": [
                                    "En la rama master\n",
                                    "nada para hacer commit, el árbol de trabajo está limpio\n"
                              ]
                        }
                  ],
                  "source": [
                        "!cd notebook_git && git status"
                  ]
            },
            {
                  "attachments": {},
                  "cell_type": "markdown",
                  "metadata": {},
                  "source": [
                        "Não há nada a se comprometer, o comitê de mudança já foi feito."
                  ]
            },
            {
                  "attachments": {},
                  "cell_type": "markdown",
                  "metadata": {},
                  "source": [
                        "### Modificar um arquivo com o qual foi feito um compromisso"
                  ]
            },
            {
                  "attachments": {},
                  "cell_type": "markdown",
                  "metadata": {},
                  "source": [
                        "Como estamos modificando arquivos enquanto estamos desenvolvendo, podemos modificar um arquivo que já nos comprometemos. Em nosso caso, vamos acrescentar uma linha ao `hello.py`."
                  ]
            },
            {
                  "cell_type": "code",
                  "execution_count": 27,
                  "metadata": {},
                  "outputs": [],
                  "source": [
                        "!cd notebook_git && echo \"print('He añadido una tercera linea')\" >> hola.py"
                  ]
            },
            {
                  "cell_type": "code",
                  "execution_count": 28,
                  "metadata": {},
                  "outputs": [
                        {
                              "name": "stdout",
                              "output_type": "stream",
                              "text": [
                                    "print('Hola mundo')\n",
                                    "print('He añadido una nueva linea')\n",
                                    "print('He añadido una tercera linea')\n"
                              ]
                        }
                  ],
                  "source": [
                        "!cd notebook_git && cat hola.py"
                  ]
            },
            {
                  "attachments": {},
                  "cell_type": "markdown",
                  "metadata": {},
                  "source": [
                        "Se fizermos o \"status de status\" veremos que o \"hola.py\" tem modificações"
                  ]
            },
            {
                  "cell_type": "code",
                  "execution_count": 29,
                  "metadata": {},
                  "outputs": [
                        {
                              "name": "stdout",
                              "output_type": "stream",
                              "text": [
                                    "En la rama master\n",
                                    "Cambios no rastreados para el commit:\n",
                                    "  (usa \"git add <archivo>...\" para actualizar lo que será confirmado)\n",
                                    "  (usa \"git restore <archivo>...\" para descartar los cambios en el directorio de trabajo)\n",
                                    "\t\u001b[31mmodificados:     hola.py\u001b[m\n",
                                    "\n",
                                    "sin cambios agregados al commit (usa \"git add\" y/o \"git commit -a\")\n"
                              ]
                        }
                  ],
                  "source": [
                        "!cd notebook_git && git status"
                  ]
            },
            {
                  "attachments": {},
                  "cell_type": "markdown",
                  "metadata": {},
                  "source": [
                        "### Ver mudanças em um arquivo (`git diff <file>`)"
                  ]
            },
            {
                  "attachments": {},
                  "cell_type": "markdown",
                  "metadata": {},
                  "source": [
                        "Podemos estar nos desenvolvendo há algum tempo desde o último compromisso e não saber que mudanças fizemos, por isso usamos `git diff <file>` para nos dizer que mudanças fizemos."
                  ]
            },
            {
                  "cell_type": "code",
                  "execution_count": 30,
                  "metadata": {},
                  "outputs": [
                        {
                              "name": "stdout",
                              "output_type": "stream",
                              "text": [
                                    "\u001b[1mdiff --git a/hola.py b/hola.py\u001b[m\n",
                                    "\u001b[1mindex 91dee80..fba0d22 100644\u001b[m\n",
                                    "\u001b[1m--- a/hola.py\u001b[m\n",
                                    "\u001b[1m+++ b/hola.py\u001b[m\n",
                                    "\u001b[36m@@ -1,2 +1,3 @@\u001b[m\n",
                                    " print('Hola mundo')\u001b[m\n",
                                    " print('He añadido una nueva linea')\u001b[m\n",
                                    "\u001b[32m+\u001b[m\u001b[32mprint('He añadido una tercera linea')\u001b[m\n"
                              ]
                        }
                  ],
                  "source": [
                        "!cd notebook_git && git diff hola.py"
                  ]
            },
            {
                  "attachments": {},
                  "cell_type": "markdown",
                  "metadata": {},
                  "source": [
                        "Embora não seja muito intuitivo, podemos ver que adicionamos a última linha em `hola.py`."
                  ]
            },
            {
                  "attachments": {},
                  "cell_type": "markdown",
                  "metadata": {},
                  "source": [
                        "### Desfazer modificações em um arquivo (`git restore <file>`)"
                  ]
            },
            {
                  "attachments": {},
                  "cell_type": "markdown",
                  "metadata": {},
                  "source": [
                        "Se não gostarmos das mudanças que fizemos e quisermos removê-las, o que podemos fazer é `git restore <file>`."
                  ]
            },
            {
                  "cell_type": "code",
                  "execution_count": 31,
                  "metadata": {},
                  "outputs": [],
                  "source": [
                        "!cd notebook_git && git restore hola.py"
                  ]
            },
            {
                  "attachments": {},
                  "cell_type": "markdown",
                  "metadata": {},
                  "source": [
                        "Vamos ver o que aconteceu com um \"status de idiota\"."
                  ]
            },
            {
                  "cell_type": "code",
                  "execution_count": 32,
                  "metadata": {},
                  "outputs": [
                        {
                              "name": "stdout",
                              "output_type": "stream",
                              "text": [
                                    "En la rama master\n",
                                    "nada para hacer commit, el árbol de trabajo está limpio\n"
                              ]
                        }
                  ],
                  "source": [
                        "!cd notebook_git && git status"
                  ]
            },
            {
                  "attachments": {},
                  "cell_type": "markdown",
                  "metadata": {},
                  "source": [
                        "Vemos que as mudanças para `hola.py` desde o último compromisso foram descartadas."
                  ]
            },
            {
                  "attachments": {},
                  "cell_type": "markdown",
                  "metadata": {},
                  "source": [
                        "### Histórico de mudanças (`git log`)"
                  ]
            },
            {
                  "attachments": {},
                  "cell_type": "markdown",
                  "metadata": {},
                  "source": [
                        "Com git podemos ver a história de todas as mudanças que temos cometido, para isso utilizamos `git log`. É como se estivéssemos passando por nosso álbum de fotos."
                  ]
            },
            {
                  "cell_type": "code",
                  "execution_count": 33,
                  "metadata": {},
                  "outputs": [
                        {
                              "name": "stdout",
                              "output_type": "stream",
                              "text": [
                                    "\u001b[33mcommit 6e99e73cf0c5474078cc9f328ee6a54fb9ffb169\u001b[m\u001b[33m (\u001b[m\u001b[1;36mHEAD -> \u001b[m\u001b[1;32mmaster\u001b[m\u001b[33m)\u001b[m\n",
                                    "Author: maximofn <maximofn@gmail.com>\n",
                                    "Date:   Sun Apr 16 02:29:04 2023 +0200\n",
                                    "\n",
                                    "    Segundo commit, hola.py\n",
                                    "\n",
                                    "\u001b[33mcommit 1c95e4fd8388ceedee368e0121c4b0ef4900c2ac\u001b[m\n",
                                    "Author: maximofn <maximofn@gmail.com>\n",
                                    "Date:   Sun Apr 16 02:28:44 2023 +0200\n",
                                    "\n",
                                    "    Primer commit, hola.py\n"
                              ]
                        }
                  ],
                  "source": [
                        "!cd notebook_git && git log"
                  ]
            },
            {
                  "attachments": {},
                  "cell_type": "markdown",
                  "metadata": {},
                  "source": [
                        "Podemos ver a história das mudanças, lê-la de baixo para cima.\n",
                        "\n",
                        "Primeiro vemos o compromisso com a mensagem 'First commit, hello.py', podemos ver a data, o autor e o hash, que é seu identificador único.\n",
                        "\n",
                        "A seguir vemos o segundo compromisso com a mensagem \"Segundo compromisso, olá.py\", com sua data, autor e haxixe. Ele também nos mostra onde está o `HEAD` e em que ramo estamos."
                  ]
            },
            {
                  "attachments": {},
                  "cell_type": "markdown",
                  "metadata": {},
                  "source": [
                        "Se usarmos bandeiras, podemos obter as informações de diferentes maneiras, mas dependendo de quais bandeiras usarmos pode ser melhor para nós, aqui estão algumas bandeiras úteis:\n",
                        "\n",
                        " * `git log --oneline`: Exibe os commits em uma única linha, com o hash abreviado e a mensagem de commit.\n",
                        " * `git log --graph`: Exibe um gráfico de texto do histórico do repositório, incluindo filiais e fusões.\n",
                        " * `git log --decorate': Mostrar referências (ramos, tags, HEAD, etc.) no log junto com o compromisso que apontam.\n",
                        " * ``git log --author=\"<author>\"`: Filtrar o histórico de commits para mostrar apenas commits feitos por um autor específico.\n",
                        " * ``git log --since=\"<date>\"`: Exibe compromissos desde uma data específica. Você pode utilizar diferentes formatos de data, como \"1 semana atrás\" ou \"2023-01-01\".\n",
                        " * ``git log --até=\"<\"<data>\"`: Exibe compromissos até uma data específica.\n",
                        " * `git log <filial>`: Exibe compromissos para um ramo específico.\n",
                        " * `git log <commit1>...<commit2>`: Exibe os commits que estão na faixa entre dois commits específicos.\n",
                        " * ``git log --grep=\"<word>\"``: Pesquisar mensagens de compromisso para uma palavra ou frase específica.\n",
                        " * `git log -p`: Mostra as diferenças (em forma de remendo) introduzidas em cada compromisso.\n",
                        " * `git log -n <n número>`: Exibe o último número de compromissos. Por exemplo, o git log -n 5 mostrará os últimos 5 commits.\n",
                        " * `git log --stat`: Exibe estatísticas de mudança de arquivo para cada compromisso, tais como o número de linhas adicionadas e removidas.\n",
                        "\n",
                        "Por exemplo, uma forma conveniente de visualizar o histórico é utilizar `git log --graph --oneline --decorate`."
                  ]
            },
            {
                  "cell_type": "code",
                  "execution_count": 34,
                  "metadata": {},
                  "outputs": [
                        {
                              "name": "stdout",
                              "output_type": "stream",
                              "text": [
                                    "* \u001b[33m6e99e73\u001b[m\u001b[33m (\u001b[m\u001b[1;36mHEAD -> \u001b[m\u001b[1;32mmaster\u001b[m\u001b[33m)\u001b[m Segundo commit, hola.py\n",
                                    "* \u001b[33m1c95e4f\u001b[m Primer commit, hola.py\n"
                              ]
                        }
                  ],
                  "source": [
                        "!cd notebook_git && git log --graph --oneline --decorate"
                  ]
            },
            {
                  "attachments": {},
                  "cell_type": "markdown",
                  "metadata": {},
                  "source": [
                        "Podemos ver que ao invés de nos dar o hash inteiro, nos dá apenas alguns números, isto é porque no momento o repositório tem tão pouco histórico, que esses poucos números são suficientes, se quiséssemos voltar ao ponto anterior, ao invés de entrar no hash inteiro (`7c448f69e30ab1b5783f5cf9ee3ae5bc362ecd4d`), apenas entrar `7c448f6` seria suficiente."
                  ]
            },
            {
                  "attachments": {},
                  "cell_type": "markdown",
                  "metadata": {},
                  "source": [
                        "Falaremos sobre as filiais mais tarde, mas agora vamos ver o que é o `HEAD`."
                  ]
            },
            {
                  "attachments": {},
                  "cell_type": "markdown",
                  "metadata": {},
                  "source": [
                        "### HEAD"
                  ]
            },
            {
                  "attachments": {},
                  "cell_type": "markdown",
                  "metadata": {},
                  "source": [
                        "Enquanto estávamos nos desenvolvendo, pudemos fazer mudanças e comentá-las, ou seja, estamos preenchendo o álbum de fotos de nosso código. `HEAD` é a posição no álbum onde estamos.\n",
                        "\n",
                        "Normalmente é a última posição de todos os compromissos."
                  ]
            },
            {
                  "attachments": {},
                  "cell_type": "markdown",
                  "metadata": {},
                  "source": [
                        "Se quisermos saber onde estamos, podemos fazer isso com \"Git rev-parse HEAD\"."
                  ]
            },
            {
                  "cell_type": "code",
                  "execution_count": 35,
                  "metadata": {},
                  "outputs": [
                        {
                              "name": "stdout",
                              "output_type": "stream",
                              "text": [
                                    "6e99e73cf0c5474078cc9f328ee6a54fb9ffb169\n"
                              ]
                        }
                  ],
                  "source": [
                        "!cd notebook_git && git rev-parse HEAD"
                  ]
            },
            {
                  "attachments": {},
                  "cell_type": "markdown",
                  "metadata": {},
                  "source": [
                        "Como você pode ver, o hash obtido corresponde ao último hash obtido ao fazer `git log`."
                  ]
            },
            {
                  "cell_type": "code",
                  "execution_count": 36,
                  "metadata": {},
                  "outputs": [
                        {
                              "name": "stdout",
                              "output_type": "stream",
                              "text": [
                                    "\u001b[33mcommit 6e99e73cf0c5474078cc9f328ee6a54fb9ffb169\u001b[m\u001b[33m (\u001b[m\u001b[1;36mHEAD -> \u001b[m\u001b[1;32mmaster\u001b[m\u001b[33m)\u001b[m\n",
                                    "Author: maximofn <maximofn@gmail.com>\n",
                                    "Date:   Sun Apr 16 02:29:04 2023 +0200\n",
                                    "\n",
                                    "    Segundo commit, hola.py\n",
                                    "\n",
                                    "\u001b[33mcommit 1c95e4fd8388ceedee368e0121c4b0ef4900c2ac\u001b[m\n",
                                    "Author: maximofn <maximofn@gmail.com>\n",
                                    "Date:   Sun Apr 16 02:28:44 2023 +0200\n",
                                    "\n",
                                    "    Primer commit, hola.py\n"
                              ]
                        }
                  ],
                  "source": [
                        "!cd notebook_git && git log"
                  ]
            },
            {
                  "attachments": {},
                  "cell_type": "markdown",
                  "metadata": {},
                  "source": [
                        "### Modificar um compromisso (`git commit --amend`)"
                  ]
            },
            {
                  "attachments": {},
                  "cell_type": "markdown",
                  "metadata": {},
                  "source": [
                        "Podemos querer modificar um compromisso, porque queremos mudar a mensagem, ou porque queremos adicionar mais arquivos ao compromisso, então veremos os dois casos."
                  ]
            },
            {
                  "attachments": {},
                  "cell_type": "markdown",
                  "metadata": {},
                  "source": [
                        "#### Modificar a mensagem de compromisso"
                  ]
            },
            {
                  "attachments": {},
                  "cell_type": "markdown",
                  "metadata": {},
                  "source": [
                        "Se apenas queremos modificar a mensagem, o que temos que fazer é \"enviar uma mensagem nova\", vamos ver um exemplo, vamos modificar \"olá.py\"."
                  ]
            },
            {
                  "cell_type": "code",
                  "execution_count": 37,
                  "metadata": {},
                  "outputs": [],
                  "source": [
                        "!cd notebook_git && echo \"print('Esta es la tercera linea')\" >> hola.py"
                  ]
            },
            {
                  "attachments": {},
                  "cell_type": "markdown",
                  "metadata": {},
                  "source": [
                        "Fazemos um \"status de crédito\"."
                  ]
            },
            {
                  "cell_type": "code",
                  "execution_count": 38,
                  "metadata": {},
                  "outputs": [
                        {
                              "name": "stdout",
                              "output_type": "stream",
                              "text": [
                                    "En la rama master\n",
                                    "Cambios no rastreados para el commit:\n",
                                    "  (usa \"git add <archivo>...\" para actualizar lo que será confirmado)\n",
                                    "  (usa \"git restore <archivo>...\" para descartar los cambios en el directorio de trabajo)\n",
                                    "\t\u001b[31mmodificados:     hola.py\u001b[m\n",
                                    "\n",
                                    "sin cambios agregados al commit (usa \"git add\" y/o \"git commit -a\")\n"
                              ]
                        }
                  ],
                  "source": [
                        "!cd notebook_git && git status"
                  ]
            },
            {
                  "attachments": {},
                  "cell_type": "markdown",
                  "metadata": {},
                  "source": [
                        "De fato, vemos que `hola.py` tem modificações, por isso assumimos um compromisso com essas modificações"
                  ]
            },
            {
                  "cell_type": "code",
                  "execution_count": 39,
                  "metadata": {},
                  "outputs": [
                        {
                              "name": "stdout",
                              "output_type": "stream",
                              "text": [
                                    "[master 60e2ffd] Tercer commot, hola.py\n",
                                    " 1 file changed, 1 insertion(+)\n"
                              ]
                        }
                  ],
                  "source": [
                        "!cd notebook_git && git commit -am \"Tercer commot, hola.py\""
                  ]
            },
            {
                  "attachments": {},
                  "cell_type": "markdown",
                  "metadata": {},
                  "source": [
                        "Vejamos a história do compromisso"
                  ]
            },
            {
                  "cell_type": "code",
                  "execution_count": 40,
                  "metadata": {},
                  "outputs": [
                        {
                              "name": "stdout",
                              "output_type": "stream",
                              "text": [
                                    "* \u001b[33m60e2ffd\u001b[m\u001b[33m (\u001b[m\u001b[1;36mHEAD -> \u001b[m\u001b[1;32mmaster\u001b[m\u001b[33m)\u001b[m Tercer commot, hola.py\n",
                                    "* \u001b[33m6e99e73\u001b[m Segundo commit, hola.py\n",
                                    "* \u001b[33m1c95e4f\u001b[m Primer commit, hola.py\n"
                              ]
                        }
                  ],
                  "source": [
                        "!cd notebook_git && git log --graph --oneline --decorate"
                  ]
            },
            {
                  "attachments": {},
                  "cell_type": "markdown",
                  "metadata": {},
                  "source": [
                        "**Escrevemos \"não!\" em vez de \"comprometer\", então vamos modificar a mensagem"
                  ]
            },
            {
                  "cell_type": "code",
                  "execution_count": 41,
                  "metadata": {},
                  "outputs": [
                        {
                              "name": "stdout",
                              "output_type": "stream",
                              "text": [
                                    "[master c4930d7] Tercer commit, hola.py\n",
                                    " Date: Sun Apr 16 02:29:59 2023 +0200\n",
                                    " 1 file changed, 1 insertion(+)\n"
                              ]
                        }
                  ],
                  "source": [
                        "!cd notebook_git && git commit --amend -m \"Tercer commit, hola.py\""
                  ]
            },
            {
                  "attachments": {},
                  "cell_type": "markdown",
                  "metadata": {},
                  "source": [
                        "Voltar para o anfitrião"
                  ]
            },
            {
                  "cell_type": "code",
                  "execution_count": 42,
                  "metadata": {},
                  "outputs": [
                        {
                              "name": "stdout",
                              "output_type": "stream",
                              "text": [
                                    "* \u001b[33mc4930d7\u001b[m\u001b[33m (\u001b[m\u001b[1;36mHEAD -> \u001b[m\u001b[1;32mmaster\u001b[m\u001b[33m)\u001b[m Tercer commit, hola.py\n",
                                    "* \u001b[33m6e99e73\u001b[m Segundo commit, hola.py\n",
                                    "* \u001b[33m1c95e4f\u001b[m Primer commit, hola.py\n"
                              ]
                        }
                  ],
                  "source": [
                        "!cd notebook_git && git log --graph --oneline --decorate"
                  ]
            },
            {
                  "attachments": {},
                  "cell_type": "markdown",
                  "metadata": {},
                  "source": [
                        "Vemos que agora você está bem"
                  ]
            },
            {
                  "attachments": {},
                  "cell_type": "markdown",
                  "metadata": {},
                  "source": [
                        "#### Adicionar arquivos ao último compromisso"
                  ]
            },
            {
                  "attachments": {},
                  "cell_type": "markdown",
                  "metadata": {},
                  "source": [
                        "Suponha que esquecemos de adicionar um arquivo ao último commit, simplesmente fazemos um `git add` com esse arquivo e fazemos `git commit --amendar -m \"mensagem\" `."
                  ]
            },
            {
                  "attachments": {},
                  "cell_type": "markdown",
                  "metadata": {},
                  "source": [
                        "Vamos criar dois novos arquivos"
                  ]
            },
            {
                  "cell_type": "code",
                  "execution_count": 43,
                  "metadata": {},
                  "outputs": [],
                  "source": [
                        "!cd notebook_git && echo \"print('Este es el archivo 1')\" > archivo1.py"
                  ]
            },
            {
                  "cell_type": "code",
                  "execution_count": 44,
                  "metadata": {},
                  "outputs": [],
                  "source": [
                        "!cd notebook_git && echo \"print('Este es el archivo 2')\" > archivo2.py"
                  ]
            },
            {
                  "attachments": {},
                  "cell_type": "markdown",
                  "metadata": {},
                  "source": [
                        "Agora nos comprometemos apenas com um"
                  ]
            },
            {
                  "cell_type": "code",
                  "execution_count": 45,
                  "metadata": {},
                  "outputs": [
                        {
                              "name": "stdout",
                              "output_type": "stream",
                              "text": [
                                    "[master 285b243] Commit con el archivo 1\n",
                                    " 1 file changed, 1 insertion(+)\n",
                                    " create mode 100644 archivo1.py\n"
                              ]
                        }
                  ],
                  "source": [
                        "!cd notebook_git && git add archivo1.py && git commit -m \"Commit con el archivo 1\""
                  ]
            },
            {
                  "cell_type": "code",
                  "execution_count": 46,
                  "metadata": {},
                  "outputs": [
                        {
                              "name": "stdout",
                              "output_type": "stream",
                              "text": [
                                    "En la rama master\n",
                                    "Archivos sin seguimiento:\n",
                                    "  (usa \"git add <archivo>...\" para incluirlo a lo que se será confirmado)\n",
                                    "\t\u001b[31marchivo2.py\u001b[m\n",
                                    "\n",
                                    "no hay nada agregado al commit pero hay archivos sin seguimiento presentes (usa \"git add\" para hacerles seguimiento)\n"
                              ]
                        }
                  ],
                  "source": [
                        "!cd notebook_git && git status"
                  ]
            },
            {
                  "cell_type": "code",
                  "execution_count": 47,
                  "metadata": {},
                  "outputs": [
                        {
                              "name": "stdout",
                              "output_type": "stream",
                              "text": [
                                    "* \u001b[33m285b243\u001b[m\u001b[33m (\u001b[m\u001b[1;36mHEAD -> \u001b[m\u001b[1;32mmaster\u001b[m\u001b[33m)\u001b[m Commit con el archivo 1\n",
                                    "* \u001b[33mc4930d7\u001b[m Tercer commit, hola.py\n",
                                    "* \u001b[33m6e99e73\u001b[m Segundo commit, hola.py\n",
                                    "* \u001b[33m1c95e4f\u001b[m Primer commit, hola.py\n"
                              ]
                        }
                  ],
                  "source": [
                        "!cd notebook_git && git log --graph --oneline --decorate"
                  ]
            },
            {
                  "attachments": {},
                  "cell_type": "markdown",
                  "metadata": {},
                  "source": [
                        "Como podemos ver, deixamos o arquivo 2, então modificamos o compromisso e adicionamos o arquivo 2."
                  ]
            },
            {
                  "cell_type": "code",
                  "execution_count": 48,
                  "metadata": {},
                  "outputs": [],
                  "source": [
                        "!cd notebook_git && git add archivo2.py"
                  ]
            },
            {
                  "cell_type": "code",
                  "execution_count": 49,
                  "metadata": {},
                  "outputs": [
                        {
                              "name": "stdout",
                              "output_type": "stream",
                              "text": [
                                    "[master 04ebd1f] Commit con los archivos 1 y 2\n",
                                    " Date: Sun Apr 16 02:30:26 2023 +0200\n",
                                    " 2 files changed, 2 insertions(+)\n",
                                    " create mode 100644 archivo1.py\n",
                                    " create mode 100644 archivo2.py\n"
                              ]
                        }
                  ],
                  "source": [
                        "!cd notebook_git && git commit --amend -m \"Commit con los archivos 1 y 2\""
                  ]
            },
            {
                  "cell_type": "code",
                  "execution_count": 50,
                  "metadata": {},
                  "outputs": [
                        {
                              "name": "stdout",
                              "output_type": "stream",
                              "text": [
                                    "En la rama master\n",
                                    "nada para hacer commit, el árbol de trabajo está limpio\n"
                              ]
                        }
                  ],
                  "source": [
                        "!cd notebook_git && git status"
                  ]
            },
            {
                  "cell_type": "code",
                  "execution_count": 51,
                  "metadata": {},
                  "outputs": [
                        {
                              "name": "stdout",
                              "output_type": "stream",
                              "text": [
                                    "* \u001b[33m04ebd1f\u001b[m\u001b[33m (\u001b[m\u001b[1;36mHEAD -> \u001b[m\u001b[1;32mmaster\u001b[m\u001b[33m)\u001b[m Commit con los archivos 1 y 2\n",
                                    "* \u001b[33mc4930d7\u001b[m Tercer commit, hola.py\n",
                                    "* \u001b[33m6e99e73\u001b[m Segundo commit, hola.py\n",
                                    "* \u001b[33m1c95e4f\u001b[m Primer commit, hola.py\n"
                              ]
                        }
                  ],
                  "source": [
                        "!cd notebook_git && git log --graph --oneline --decorate"
                  ]
            },
            {
                  "attachments": {},
                  "cell_type": "markdown",
                  "metadata": {},
                  "source": [
                        "Agora o último compromisso tem os dois novos arquivos"
                  ]
            },
            {
                  "attachments": {},
                  "cell_type": "markdown",
                  "metadata": {},
                  "source": [
                        "### Desfazer um compromisso (`git reset HEAD~1`)"
                  ]
            },
            {
                  "attachments": {},
                  "cell_type": "markdown",
                  "metadata": {},
                  "source": [
                        "Com este comando, dizemos ao idiota para recuar uma posição na história do compromisso. Há duas opções \"suave\" que não apagarão as mudanças que fizemos e \"duro\" que o fará."
                  ]
            },
            {
                  "attachments": {},
                  "cell_type": "markdown",
                  "metadata": {},
                  "source": [
                        "#### Desfazer um compromisso de manter as mudanças (`git reset --soft HEAD~1`)"
                  ]
            },
            {
                  "attachments": {},
                  "cell_type": "markdown",
                  "metadata": {},
                  "source": [
                        "Vamos criar um novo arquivo"
                  ]
            },
            {
                  "cell_type": "code",
                  "execution_count": 52,
                  "metadata": {},
                  "outputs": [],
                  "source": [
                        "!cd notebook_git && echo \"print('Este es el archivo 3')\" > archivo3.py"
                  ]
            },
            {
                  "attachments": {},
                  "cell_type": "markdown",
                  "metadata": {},
                  "source": [
                        "Fazemos um \"status de crédito\"."
                  ]
            },
            {
                  "cell_type": "code",
                  "execution_count": 53,
                  "metadata": {},
                  "outputs": [
                        {
                              "name": "stdout",
                              "output_type": "stream",
                              "text": [
                                    "En la rama master\n",
                                    "Archivos sin seguimiento:\n",
                                    "  (usa \"git add <archivo>...\" para incluirlo a lo que se será confirmado)\n",
                                    "\t\u001b[31marchivo3.py\u001b[m\n",
                                    "\n",
                                    "no hay nada agregado al commit pero hay archivos sin seguimiento presentes (usa \"git add\" para hacerles seguimiento)\n"
                              ]
                        }
                  ],
                  "source": [
                        "!cd notebook_git && git status"
                  ]
            },
            {
                  "attachments": {},
                  "cell_type": "markdown",
                  "metadata": {},
                  "source": [
                        "Fazemos um compromisso ao adicionar este arquivo"
                  ]
            },
            {
                  "cell_type": "code",
                  "execution_count": 54,
                  "metadata": {},
                  "outputs": [
                        {
                              "name": "stdout",
                              "output_type": "stream",
                              "text": [
                                    "[master 6dc7be6] Commit con el archivos 3\n",
                                    " 1 file changed, 1 insertion(+)\n",
                                    " create mode 100644 archivo3.py\n"
                              ]
                        }
                  ],
                  "source": [
                        "!cd notebook_git && git add archivo3.py && git commit -m \"Commit con el archivos 3\""
                  ]
            },
            {
                  "cell_type": "code",
                  "execution_count": 55,
                  "metadata": {},
                  "outputs": [
                        {
                              "name": "stdout",
                              "output_type": "stream",
                              "text": [
                                    "* \u001b[33m6dc7be6\u001b[m\u001b[33m (\u001b[m\u001b[1;36mHEAD -> \u001b[m\u001b[1;32mmaster\u001b[m\u001b[33m)\u001b[m Commit con el archivos 3\n",
                                    "* \u001b[33m04ebd1f\u001b[m Commit con los archivos 1 y 2\n",
                                    "* \u001b[33mc4930d7\u001b[m Tercer commit, hola.py\n",
                                    "* \u001b[33m6e99e73\u001b[m Segundo commit, hola.py\n",
                                    "* \u001b[33m1c95e4f\u001b[m Primer commit, hola.py\n"
                              ]
                        }
                  ],
                  "source": [
                        "!cd notebook_git && git log --graph --oneline --decorate"
                  ]
            },
            {
                  "attachments": {},
                  "cell_type": "markdown",
                  "metadata": {},
                  "source": [
                        "Vemos que o último commit contém `file3.py`, vamos apagar o commit mantendo o `file3.py`."
                  ]
            },
            {
                  "cell_type": "code",
                  "execution_count": 56,
                  "metadata": {},
                  "outputs": [],
                  "source": [
                        "!cd notebook_git && git reset --soft HEAD~1"
                  ]
            },
            {
                  "attachments": {},
                  "cell_type": "markdown",
                  "metadata": {},
                  "source": [
                        "Agora fazemos um 'registro de crédito' para ver se o último compromisso foi removido."
                  ]
            },
            {
                  "cell_type": "code",
                  "execution_count": 57,
                  "metadata": {},
                  "outputs": [
                        {
                              "name": "stdout",
                              "output_type": "stream",
                              "text": [
                                    "* \u001b[33m04ebd1f\u001b[m\u001b[33m (\u001b[m\u001b[1;36mHEAD -> \u001b[m\u001b[1;32mmaster\u001b[m\u001b[33m)\u001b[m Commit con los archivos 1 y 2\n",
                                    "* \u001b[33mc4930d7\u001b[m Tercer commit, hola.py\n",
                                    "* \u001b[33m6e99e73\u001b[m Segundo commit, hola.py\n",
                                    "* \u001b[33m1c95e4f\u001b[m Primer commit, hola.py\n"
                              ]
                        }
                  ],
                  "source": [
                        "!cd notebook_git && git log --graph --oneline --decorate"
                  ]
            },
            {
                  "attachments": {},
                  "cell_type": "markdown",
                  "metadata": {},
                  "source": [
                        "De fato, vemos que o último compromisso foi eliminado."
                  ]
            },
            {
                  "attachments": {},
                  "cell_type": "markdown",
                  "metadata": {},
                  "source": [
                        "Fazemos um \"status de crédito\" para ver se o \"arquivo 3.py\" foi preservado."
                  ]
            },
            {
                  "cell_type": "code",
                  "execution_count": 58,
                  "metadata": {},
                  "outputs": [
                        {
                              "name": "stdout",
                              "output_type": "stream",
                              "text": [
                                    "En la rama master\n",
                                    "Cambios a ser confirmados:\n",
                                    "  (usa \"git restore --staged <archivo>...\" para sacar del área de stage)\n",
                                    "\t\u001b[32mnuevos archivos: archivo3.py\u001b[m\n",
                                    "\n"
                              ]
                        }
                  ],
                  "source": [
                        "!cd notebook_git && git status"
                  ]
            },
            {
                  "attachments": {},
                  "cell_type": "markdown",
                  "metadata": {},
                  "source": [
                        "Tem sido mantido"
                  ]
            },
            {
                  "attachments": {},
                  "cell_type": "markdown",
                  "metadata": {},
                  "source": [
                        "#### Desfazer um compromisso descartando mudanças (`git reset --hard HEAD~1`)"
                  ]
            },
            {
                  "attachments": {},
                  "cell_type": "markdown",
                  "metadata": {},
                  "source": [
                        "Temos o `file3.py` que criamos e o temos na área encenada."
                  ]
            },
            {
                  "cell_type": "code",
                  "execution_count": 59,
                  "metadata": {},
                  "outputs": [
                        {
                              "name": "stdout",
                              "output_type": "stream",
                              "text": [
                                    "En la rama master\n",
                                    "Cambios a ser confirmados:\n",
                                    "  (usa \"git restore --staged <archivo>...\" para sacar del área de stage)\n",
                                    "\t\u001b[32mnuevos archivos: archivo3.py\u001b[m\n",
                                    "\n"
                              ]
                        }
                  ],
                  "source": [
                        "!cd notebook_git && git status"
                  ]
            },
            {
                  "attachments": {},
                  "cell_type": "markdown",
                  "metadata": {},
                  "source": [
                        "Assim, assumimos um compromisso"
                  ]
            },
            {
                  "cell_type": "code",
                  "execution_count": 60,
                  "metadata": {},
                  "outputs": [
                        {
                              "name": "stdout",
                              "output_type": "stream",
                              "text": [
                                    "[master 0147d65] Commit con el archivo 3\n",
                                    " 1 file changed, 1 insertion(+)\n",
                                    " create mode 100644 archivo3.py\n"
                              ]
                        }
                  ],
                  "source": [
                        "!cd notebook_git && git commit -m \"Commit con el archivo 3\""
                  ]
            },
            {
                  "attachments": {},
                  "cell_type": "markdown",
                  "metadata": {},
                  "source": [
                        "Fazemos um 'registro de crédito' para verificar se há um compromisso com este arquivo"
                  ]
            },
            {
                  "cell_type": "code",
                  "execution_count": 61,
                  "metadata": {},
                  "outputs": [
                        {
                              "name": "stdout",
                              "output_type": "stream",
                              "text": [
                                    "* \u001b[33m0147d65\u001b[m\u001b[33m (\u001b[m\u001b[1;36mHEAD -> \u001b[m\u001b[1;32mmaster\u001b[m\u001b[33m)\u001b[m Commit con el archivo 3\n",
                                    "* \u001b[33m04ebd1f\u001b[m Commit con los archivos 1 y 2\n",
                                    "* \u001b[33mc4930d7\u001b[m Tercer commit, hola.py\n",
                                    "* \u001b[33m6e99e73\u001b[m Segundo commit, hola.py\n",
                                    "* \u001b[33m1c95e4f\u001b[m Primer commit, hola.py\n"
                              ]
                        }
                  ],
                  "source": [
                        "!cd notebook_git && git log --graph --oneline --decorate"
                  ]
            },
            {
                  "attachments": {},
                  "cell_type": "markdown",
                  "metadata": {},
                  "source": [
                        "Há de fato um compromisso acrescentando `file3.py`. Agora removemos este compromisso descartando o `file3.py`."
                  ]
            },
            {
                  "cell_type": "code",
                  "execution_count": 62,
                  "metadata": {},
                  "outputs": [
                        {
                              "name": "stdout",
                              "output_type": "stream",
                              "text": [
                                    "HEAD está ahora en 04ebd1f Commit con los archivos 1 y 2\n"
                              ]
                        }
                  ],
                  "source": [
                        "!cd notebook_git && git reset --hard HEAD~1"
                  ]
            },
            {
                  "attachments": {},
                  "cell_type": "markdown",
                  "metadata": {},
                  "source": [
                        "Fazemos um \"registro de crédito\" para verificar se o último compromisso foi removido."
                  ]
            },
            {
                  "cell_type": "code",
                  "execution_count": 63,
                  "metadata": {},
                  "outputs": [
                        {
                              "name": "stdout",
                              "output_type": "stream",
                              "text": [
                                    "* \u001b[33m04ebd1f\u001b[m\u001b[33m (\u001b[m\u001b[1;36mHEAD -> \u001b[m\u001b[1;32mmaster\u001b[m\u001b[33m)\u001b[m Commit con los archivos 1 y 2\n",
                                    "* \u001b[33mc4930d7\u001b[m Tercer commit, hola.py\n",
                                    "* \u001b[33m6e99e73\u001b[m Segundo commit, hola.py\n",
                                    "* \u001b[33m1c95e4f\u001b[m Primer commit, hola.py\n"
                              ]
                        }
                  ],
                  "source": [
                        "!cd notebook_git && git log --graph --oneline --decorate"
                  ]
            },
            {
                  "attachments": {},
                  "cell_type": "markdown",
                  "metadata": {},
                  "source": [
                        "O compromisso com o \"file3.py\" foi removido, agora nós fazemos um \"status de crédito\" para verificar o que aconteceu com o \"file3.py\"."
                  ]
            },
            {
                  "cell_type": "code",
                  "execution_count": 64,
                  "metadata": {},
                  "outputs": [
                        {
                              "name": "stdout",
                              "output_type": "stream",
                              "text": [
                                    "En la rama master\n",
                                    "nada para hacer commit, el árbol de trabajo está limpio\n"
                              ]
                        }
                  ],
                  "source": [
                        "!cd notebook_git && git status"
                  ]
            },
            {
                  "attachments": {},
                  "cell_type": "markdown",
                  "metadata": {},
                  "source": [
                        "Não há nenhum \"arquivo 3.py\" listado como um arquivo para comprometer, vamos ver se ele foi de fato removido por completo."
                  ]
            },
            {
                  "cell_type": "code",
                  "execution_count": 65,
                  "metadata": {},
                  "outputs": [],
                  "source": [
                        "!cd notebook_git && ls | grep archivo3"
                  ]
            },
            {
                  "attachments": {},
                  "cell_type": "markdown",
                  "metadata": {},
                  "source": [
                        "File3.py' foi de fato removido do sistema de arquivos."
                  ]
            },
            {
                  "attachments": {},
                  "cell_type": "markdown",
                  "metadata": {},
                  "source": [
                        "### Modificar um compromisso remoto (`git push --force`)"
                  ]
            },
            {
                  "attachments": {},
                  "cell_type": "markdown",
                  "metadata": {},
                  "source": [
                        "Embora veremos mais tarde como sincronizar com os repositórios remotos, no caso de você ter feito um commit, carregou-o em um repositório remoto (`git push') e modificou o commit localmente (porque você modificou a mensagem ou desfez o commit), para reverter as mudanças no repositório remoto você tem que fazer `git push --force'.\n",
                        "\n",
                        " > Cuidado: Este comando modifica o histórico do repositório remoto, para que possa afetar outras pessoas que trabalham com esse repositório, portanto, use este comando com muito cuidado e segurança. É melhor ter um histórico de commit, onde primeiro você tem o commimt com a descrição errada e depois o novo commit com a nova descrição, do que andar por aí modificando o histórico."
                  ]
            },
            {
                  "attachments": {},
                  "cell_type": "markdown",
                  "metadata": {},
                  "source": [
                        "### Modificar um compromisso remoto (`git push --force-with-lease`)"
                  ]
            },
            {
                  "attachments": {},
                  "cell_type": "markdown",
                  "metadata": {},
                  "source": [
                        "Se você estiver convencido de mudar a história, pelo menos utilize o \"empurrão - força com liberação\" que não modificará os compromissos subseqüentes."
                  ]
            },
            {
                  "attachments": {},
                  "cell_type": "markdown",
                  "metadata": {},
                  "source": [
                        "### Ignorar arquivos (`.gitignore`)"
                  ]
            },
            {
                  "attachments": {},
                  "cell_type": "markdown",
                  "metadata": {},
                  "source": [
                        "Suponha que tenhamos um arquivo com 'chavesAPI', este arquivo que realmente não queremos manter no repositório, porque se compartilharmos este repositório, qualquer um teria acesso a estas chaves, então temos que dizer ao git para não manter o controle deste arquivo.\n",
                        "\n",
                        "Isto é feito com o arquivo `.gitignore', onde você adiciona o caminho aos arquivos ou diretórios que você não quer que o git rastreie.\n",
                        "\n",
                        "Vamos ver"
                  ]
            },
            {
                  "attachments": {},
                  "cell_type": "markdown",
                  "metadata": {},
                  "source": [
                        "Criamos o arquivo com as chaves"
                  ]
            },
            {
                  "cell_type": "code",
                  "execution_count": 66,
                  "metadata": {},
                  "outputs": [],
                  "source": [
                        "!cd notebook_git && touch api_keys.py"
                  ]
            },
            {
                  "attachments": {},
                  "cell_type": "markdown",
                  "metadata": {},
                  "source": [
                        "Se fizermos \"status de idiota\", podemos ver que o idiota o cobre."
                  ]
            },
            {
                  "cell_type": "code",
                  "execution_count": 67,
                  "metadata": {},
                  "outputs": [
                        {
                              "name": "stdout",
                              "output_type": "stream",
                              "text": [
                                    "En la rama master\n",
                                    "Archivos sin seguimiento:\n",
                                    "  (usa \"git add <archivo>...\" para incluirlo a lo que se será confirmado)\n",
                                    "\t\u001b[31mapi_keys.py\u001b[m\n",
                                    "\n",
                                    "no hay nada agregado al commit pero hay archivos sin seguimiento presentes (usa \"git add\" para hacerles seguimiento)\n"
                              ]
                        }
                  ],
                  "source": [
                        "!cd notebook_git && git status"
                  ]
            },
            {
                  "attachments": {},
                  "cell_type": "markdown",
                  "metadata": {},
                  "source": [
                        "Se não fizermos nada, um dia poderemos fazer um \"git add .`` e colocá-lo no repositório, então por razões de segurança temos que dizer ao git para não seguir este arquivo, para isso, o que fazemos é criar o `.gitignore` adicionando este arquivo"
                  ]
            },
            {
                  "cell_type": "code",
                  "execution_count": 68,
                  "metadata": {},
                  "outputs": [],
                  "source": [
                        "!cd notebook_git && echo \"api_keys.py\" >> .gitignore"
                  ]
            },
            {
                  "attachments": {},
                  "cell_type": "markdown",
                  "metadata": {},
                  "source": [
                        "Vamos ver o que acontece se agora fizermos o \"status de idiota\"."
                  ]
            },
            {
                  "cell_type": "code",
                  "execution_count": 69,
                  "metadata": {},
                  "outputs": [
                        {
                              "name": "stdout",
                              "output_type": "stream",
                              "text": [
                                    "En la rama master\n",
                                    "Archivos sin seguimiento:\n",
                                    "  (usa \"git add <archivo>...\" para incluirlo a lo que se será confirmado)\n",
                                    "\t\u001b[31m.gitignore\u001b[m\n",
                                    "\n",
                                    "no hay nada agregado al commit pero hay archivos sin seguimiento presentes (usa \"git add\" para hacerles seguimiento)\n"
                              ]
                        }
                  ],
                  "source": [
                        "!cd notebook_git && git status"
                  ]
            },
            {
                  "attachments": {},
                  "cell_type": "markdown",
                  "metadata": {},
                  "source": [
                        "Vemos que o git não suporta mais o `api_keys.py`, mas sim o `.gitignore', então nos comprometemos a adicionar o `.gitignore'."
                  ]
            },
            {
                  "cell_type": "code",
                  "execution_count": 70,
                  "metadata": {},
                  "outputs": [
                        {
                              "name": "stdout",
                              "output_type": "stream",
                              "text": [
                                    "[master 0b09cfa] Añadido .gitignore\n",
                                    " 1 file changed, 1 insertion(+)\n",
                                    " create mode 100644 .gitignore\n"
                              ]
                        }
                  ],
                  "source": [
                        "!cd notebook_git && git add .gitignore && git commit -m \"Añadido .gitignore\""
                  ]
            },
            {
                  "attachments": {},
                  "cell_type": "markdown",
                  "metadata": {},
                  "source": [
                        "#### Quais arquivos adicionar ao `.gitignore`?"
                  ]
            },
            {
                  "attachments": {},
                  "cell_type": "markdown",
                  "metadata": {},
                  "source": [
                        " * Arquivos que tenham credenciais ou chaves API (você não deve carregá-los no repositório, apenas injetá-los por variável de ambiente)\n",
                        " * As pastas de configuração de seu editor (`/.vscode')\n",
                        " * Arquivos de log\n",
                        " Arquivos de sistema como `.DS_Store` * Arquivos de sistema como `.DS_Store`.\n",
                        " * Pastas geradas com arquivos estáticos ou compilações tais como `/distribuição' ou `/construção'.\n",
                        " * Dependências que podem ser baixadas (`/node_modules')\n",
                        " * Cobertura dos testes (`/cobertura`)"
                  ]
            },
            {
                  "attachments": {},
                  "cell_type": "markdown",
                  "metadata": {},
                  "source": [
                        "#### Como ignorar sempre os mesmos arquivos?"
                  ]
            },
            {
                  "attachments": {},
                  "cell_type": "markdown",
                  "metadata": {},
                  "source": [
                        "Se, por exemplo, sua IDE sempre gera os mesmos arquivos de configuração, seria bom poder dizer ao git para sempre ignorar esses arquivos, então criamos um `.gitignore' global."
                  ]
            },
            {
                  "cell_type": "code",
                  "execution_count": 42,
                  "metadata": {},
                  "outputs": [],
                  "source": [
                        "!touch ~/.gitignore_global"
                  ]
            },
            {
                  "attachments": {},
                  "cell_type": "markdown",
                  "metadata": {},
                  "source": [
                        "No meu caso, acrescentarei o diretório `__pycache__/`."
                  ]
            },
            {
                  "cell_type": "code",
                  "execution_count": 50,
                  "metadata": {},
                  "outputs": [],
                  "source": [
                        "!echo \"__pycache__/\" >> ~/.gitignore_global"
                  ]
            },
            {
                  "attachments": {},
                  "cell_type": "markdown",
                  "metadata": {},
                  "source": [
                        "Agora precisamos dizer ao git que este é nosso `.gitignore' global."
                  ]
            },
            {
                  "cell_type": "code",
                  "execution_count": 54,
                  "metadata": {},
                  "outputs": [],
                  "source": [
                        "!git config --global core.excludesfile ~/.gitignore_global"
                  ]
            },
            {
                  "attachments": {},
                  "cell_type": "markdown",
                  "metadata": {},
                  "source": [
                        "Feito, de agora em diante o diretório `__pycache__/` será sempre ignorado."
                  ]
            },
            {
                  "attachments": {},
                  "cell_type": "markdown",
                  "metadata": {},
                  "source": [
                        "GitHub tem um [repositório](https://github.com/github/gitignore) com `.gitignore`s para muitas línguas, eu fui guiado por [este](https://github.com/github/gitignore/blob/main/Python.gitignore) para Python"
                  ]
            },
            {
                  "attachments": {},
                  "cell_type": "markdown",
                  "metadata": {},
                  "source": [
                        "### Apagar um arquivo de um compromisso"
                  ]
            },
            {
                  "attachments": {},
                  "cell_type": "markdown",
                  "metadata": {},
                  "source": [
                        "Vamos ver como excluir um arquivo de um compromisso que assumimos. Primeiro criamos dois arquivos e os enviamos."
                  ]
            },
            {
                  "cell_type": "code",
                  "execution_count": 71,
                  "metadata": {},
                  "outputs": [],
                  "source": [
                        "!cd notebook_git && echo \"print('Este es el archivo 4')\" > archivo4.py"
                  ]
            },
            {
                  "cell_type": "code",
                  "execution_count": 72,
                  "metadata": {},
                  "outputs": [],
                  "source": [
                        "!cd notebook_git && echo \"print('Este es el archivo 5')\" > archivo5.py"
                  ]
            },
            {
                  "attachments": {},
                  "cell_type": "markdown",
                  "metadata": {},
                  "source": [
                        "Nós comprometemos os dois arquivos"
                  ]
            },
            {
                  "cell_type": "code",
                  "execution_count": 73,
                  "metadata": {},
                  "outputs": [
                        {
                              "name": "stdout",
                              "output_type": "stream",
                              "text": [
                                    "[master e3153a5] Commit con los archivos 4 y 5\n",
                                    " 2 files changed, 2 insertions(+)\n",
                                    " create mode 100644 archivo4.py\n",
                                    " create mode 100644 archivo5.py\n"
                              ]
                        }
                  ],
                  "source": [
                        "!cd notebook_git && git add archivo4.py archivo5.py && git commit -m \"Commit con los archivos 4 y 5\""
                  ]
            },
            {
                  "cell_type": "code",
                  "execution_count": 74,
                  "metadata": {},
                  "outputs": [
                        {
                              "name": "stdout",
                              "output_type": "stream",
                              "text": [
                                    "* \u001b[33me3153a5\u001b[m\u001b[33m (\u001b[m\u001b[1;36mHEAD -> \u001b[m\u001b[1;32mmaster\u001b[m\u001b[33m)\u001b[m Commit con los archivos 4 y 5\n",
                                    "* \u001b[33m0b09cfa\u001b[m Añadido .gitignore\n",
                                    "* \u001b[33m04ebd1f\u001b[m Commit con los archivos 1 y 2\n",
                                    "* \u001b[33mc4930d7\u001b[m Tercer commit, hola.py\n",
                                    "* \u001b[33m6e99e73\u001b[m Segundo commit, hola.py\n",
                                    "* \u001b[33m1c95e4f\u001b[m Primer commit, hola.py\n"
                              ]
                        }
                  ],
                  "source": [
                        "!cd notebook_git && git log --graph --oneline --decorate"
                  ]
            },
            {
                  "attachments": {},
                  "cell_type": "markdown",
                  "metadata": {},
                  "source": [
                        "A partir daqui, há duas opções para remover um arquivo de um compromisso:\n",
                        " * Apagar o arquivo e criar um novo compromisso\n",
                        " * Desfazer o compromisso e criá-lo novamente sem o arquivo"
                  ]
            },
            {
                  "attachments": {},
                  "cell_type": "markdown",
                  "metadata": {},
                  "source": [
                        "#### Apagar arquivo e criar novo compromisso"
                  ]
            },
            {
                  "attachments": {},
                  "cell_type": "markdown",
                  "metadata": {},
                  "source": [
                        "Suponha que queiramos apagar o arquivo `file5.py`, então o apagamos com `git rm file5.py`."
                  ]
            },
            {
                  "cell_type": "code",
                  "execution_count": 75,
                  "metadata": {},
                  "outputs": [
                        {
                              "name": "stdout",
                              "output_type": "stream",
                              "text": [
                                    "rm 'archivo5.py'\n"
                              ]
                        }
                  ],
                  "source": [
                        "!cd notebook_git && git rm archivo5.py"
                  ]
            },
            {
                  "attachments": {},
                  "cell_type": "markdown",
                  "metadata": {},
                  "source": [
                        "Vamos fazer um \"status de idiota\" e ver o que acontece."
                  ]
            },
            {
                  "cell_type": "code",
                  "execution_count": 76,
                  "metadata": {},
                  "outputs": [
                        {
                              "name": "stdout",
                              "output_type": "stream",
                              "text": [
                                    "En la rama master\n",
                                    "Cambios a ser confirmados:\n",
                                    "  (usa \"git restore --staged <archivo>...\" para sacar del área de stage)\n",
                                    "\t\u001b[32mborrados:        archivo5.py\u001b[m\n",
                                    "\n"
                              ]
                        }
                  ],
                  "source": [
                        "!cd notebook_git && git status"
                  ]
            },
            {
                  "attachments": {},
                  "cell_type": "markdown",
                  "metadata": {},
                  "source": [
                        "Como podemos ver, o `file5.py` foi apagado. Agora criamos um novo compromisso"
                  ]
            },
            {
                  "cell_type": "code",
                  "execution_count": 77,
                  "metadata": {},
                  "outputs": [
                        {
                              "name": "stdout",
                              "output_type": "stream",
                              "text": [
                                    "[master ea615a9] Eliminado archivo5.py\n",
                                    " 1 file changed, 1 deletion(-)\n",
                                    " delete mode 100644 archivo5.py\n"
                              ]
                        }
                  ],
                  "source": [
                        "!cd notebook_git && git commit -m \"Eliminado archivo5.py\""
                  ]
            },
            {
                  "cell_type": "code",
                  "execution_count": 78,
                  "metadata": {},
                  "outputs": [
                        {
                              "name": "stdout",
                              "output_type": "stream",
                              "text": [
                                    "* \u001b[33mea615a9\u001b[m\u001b[33m (\u001b[m\u001b[1;36mHEAD -> \u001b[m\u001b[1;32mmaster\u001b[m\u001b[33m)\u001b[m Eliminado archivo5.py\n",
                                    "* \u001b[33me3153a5\u001b[m Commit con los archivos 4 y 5\n",
                                    "* \u001b[33m0b09cfa\u001b[m Añadido .gitignore\n",
                                    "* \u001b[33m04ebd1f\u001b[m Commit con los archivos 1 y 2\n",
                                    "* \u001b[33mc4930d7\u001b[m Tercer commit, hola.py\n",
                                    "* \u001b[33m6e99e73\u001b[m Segundo commit, hola.py\n",
                                    "* \u001b[33m1c95e4f\u001b[m Primer commit, hola.py\n"
                              ]
                        }
                  ],
                  "source": [
                        "!cd notebook_git && git log --graph --oneline --decorate"
                  ]
            },
            {
                  "attachments": {},
                  "cell_type": "markdown",
                  "metadata": {},
                  "source": [
                        "#### Desfazer o compromisso e recriá-lo sem o arquivo"
                  ]
            },
            {
                  "attachments": {},
                  "cell_type": "markdown",
                  "metadata": {},
                  "source": [
                        "Nós recriamos dois arquivos e os comprometemos."
                  ]
            },
            {
                  "cell_type": "code",
                  "execution_count": 79,
                  "metadata": {},
                  "outputs": [],
                  "source": [
                        "!cd notebook_git && echo \"print('Este es el archivo 6')\" > archivo6.py && echo \"print('Este es el archivo 7')\" > archivo7.py"
                  ]
            },
            {
                  "cell_type": "code",
                  "execution_count": 80,
                  "metadata": {},
                  "outputs": [
                        {
                              "name": "stdout",
                              "output_type": "stream",
                              "text": [
                                    "En la rama master\n",
                                    "Archivos sin seguimiento:\n",
                                    "  (usa \"git add <archivo>...\" para incluirlo a lo que se será confirmado)\n",
                                    "\t\u001b[31marchivo6.py\u001b[m\n",
                                    "\t\u001b[31marchivo7.py\u001b[m\n",
                                    "\n",
                                    "no hay nada agregado al commit pero hay archivos sin seguimiento presentes (usa \"git add\" para hacerles seguimiento)\n"
                              ]
                        }
                  ],
                  "source": [
                        "!cd notebook_git && git status"
                  ]
            },
            {
                  "cell_type": "code",
                  "execution_count": 81,
                  "metadata": {},
                  "outputs": [
                        {
                              "name": "stdout",
                              "output_type": "stream",
                              "text": [
                                    "[master d6dc485] Commit con los archivos 6 y 7\n",
                                    " 2 files changed, 2 insertions(+)\n",
                                    " create mode 100644 archivo6.py\n",
                                    " create mode 100644 archivo7.py\n"
                              ]
                        }
                  ],
                  "source": [
                        "!cd notebook_git && git add archivo6.py archivo7.py && git commit -m \"Commit con los archivos 6 y 7\""
                  ]
            },
            {
                  "cell_type": "code",
                  "execution_count": 82,
                  "metadata": {},
                  "outputs": [
                        {
                              "name": "stdout",
                              "output_type": "stream",
                              "text": [
                                    "* \u001b[33md6dc485\u001b[m\u001b[33m (\u001b[m\u001b[1;36mHEAD -> \u001b[m\u001b[1;32mmaster\u001b[m\u001b[33m)\u001b[m Commit con los archivos 6 y 7\n",
                                    "* \u001b[33mea615a9\u001b[m Eliminado archivo5.py\n",
                                    "* \u001b[33me3153a5\u001b[m Commit con los archivos 4 y 5\n",
                                    "* \u001b[33m0b09cfa\u001b[m Añadido .gitignore\n",
                                    "* \u001b[33m04ebd1f\u001b[m Commit con los archivos 1 y 2\n",
                                    "* \u001b[33mc4930d7\u001b[m Tercer commit, hola.py\n",
                                    "* \u001b[33m6e99e73\u001b[m Segundo commit, hola.py\n",
                                    "* \u001b[33m1c95e4f\u001b[m Primer commit, hola.py\n"
                              ]
                        }
                  ],
                  "source": [
                        "!cd notebook_git && git log --graph --oneline --decorate"
                  ]
            },
            {
                  "attachments": {},
                  "cell_type": "markdown",
                  "metadata": {},
                  "source": [
                        "Primeiro desfazemos o último compromisso com `git reset -- soft HEAD~1`."
                  ]
            },
            {
                  "cell_type": "code",
                  "execution_count": 83,
                  "metadata": {},
                  "outputs": [],
                  "source": [
                        "!cd notebook_git && git reset --soft HEAD~1"
                  ]
            },
            {
                  "attachments": {},
                  "cell_type": "markdown",
                  "metadata": {},
                  "source": [
                        "Fazemos um \"status de idiota\" para ver o que aconteceu."
                  ]
            },
            {
                  "cell_type": "code",
                  "execution_count": 84,
                  "metadata": {},
                  "outputs": [
                        {
                              "name": "stdout",
                              "output_type": "stream",
                              "text": [
                                    "En la rama master\n",
                                    "Cambios a ser confirmados:\n",
                                    "  (usa \"git restore --staged <archivo>...\" para sacar del área de stage)\n",
                                    "\t\u001b[32mnuevos archivos: archivo6.py\u001b[m\n",
                                    "\t\u001b[32mnuevos archivos: archivo7.py\u001b[m\n",
                                    "\n"
                              ]
                        }
                  ],
                  "source": [
                        "!cd notebook_git && git status"
                  ]
            },
            {
                  "attachments": {},
                  "cell_type": "markdown",
                  "metadata": {},
                  "source": [
                        "Podemos ver que o compromisso foi desfeito, mas os dois arquivos estão na área encenada, portanto, para remover um dos arquivos da comunicação, devemos primeiro removê-lo da área encenada, para isso fazemos `git reset file6.py`."
                  ]
            },
            {
                  "cell_type": "code",
                  "execution_count": 85,
                  "metadata": {},
                  "outputs": [],
                  "source": [
                        "!cd notebook_git && git reset archivo6.py"
                  ]
            },
            {
                  "attachments": {},
                  "cell_type": "markdown",
                  "metadata": {},
                  "source": [
                        "Nós refizemos um \"status de crédito\"."
                  ]
            },
            {
                  "cell_type": "code",
                  "execution_count": 86,
                  "metadata": {},
                  "outputs": [
                        {
                              "name": "stdout",
                              "output_type": "stream",
                              "text": [
                                    "En la rama master\n",
                                    "Cambios a ser confirmados:\n",
                                    "  (usa \"git restore --staged <archivo>...\" para sacar del área de stage)\n",
                                    "\t\u001b[32mnuevos archivos: archivo7.py\u001b[m\n",
                                    "\n",
                                    "Archivos sin seguimiento:\n",
                                    "  (usa \"git add <archivo>...\" para incluirlo a lo que se será confirmado)\n",
                                    "\t\u001b[31marchivo6.py\u001b[m\n",
                                    "\n"
                              ]
                        }
                  ],
                  "source": [
                        "!cd notebook_git && git status"
                  ]
            },
            {
                  "attachments": {},
                  "cell_type": "markdown",
                  "metadata": {},
                  "source": [
                        "Vemos que o `file7.py` está na área encenada, enquanto o `file6.py` não está mais na área encenada. Agora podemos apagar o arquivo 6, utilizando o `git clean`."
                  ]
            },
            {
                  "cell_type": "code",
                  "execution_count": 87,
                  "metadata": {},
                  "outputs": [
                        {
                              "name": "stdout",
                              "output_type": "stream",
                              "text": [
                                    "Será borrado archivo6.py\n"
                              ]
                        }
                  ],
                  "source": [
                        "!cd notebook_git && git clean -n"
                  ]
            },
            {
                  "cell_type": "code",
                  "execution_count": 88,
                  "metadata": {},
                  "outputs": [
                        {
                              "name": "stdout",
                              "output_type": "stream",
                              "text": [
                                    "Borrando archivo6.py\n"
                              ]
                        }
                  ],
                  "source": [
                        "!cd notebook_git && git clean -f"
                  ]
            },
            {
                  "attachments": {},
                  "cell_type": "markdown",
                  "metadata": {},
                  "source": [
                        "Nós refizemos um \"status de crédito\"."
                  ]
            },
            {
                  "cell_type": "code",
                  "execution_count": 89,
                  "metadata": {},
                  "outputs": [
                        {
                              "name": "stdout",
                              "output_type": "stream",
                              "text": [
                                    "En la rama master\n",
                                    "Cambios a ser confirmados:\n",
                                    "  (usa \"git restore --staged <archivo>...\" para sacar del área de stage)\n",
                                    "\t\u001b[32mnuevos archivos: archivo7.py\u001b[m\n",
                                    "\n"
                              ]
                        }
                  ],
                  "source": [
                        "!cd notebook_git && git status"
                  ]
            },
            {
                  "attachments": {},
                  "cell_type": "markdown",
                  "metadata": {},
                  "source": [
                        "Como podemos ver, o arquivo \"archiv6.py\" desapareceu, então podemos comprometer um novo arquivo \"archiv6.py\"."
                  ]
            },
            {
                  "cell_type": "code",
                  "execution_count": 90,
                  "metadata": {},
                  "outputs": [
                        {
                              "name": "stdout",
                              "output_type": "stream",
                              "text": [
                                    "[master 4bb9d75] Commit con el archivo 7\n",
                                    " 1 file changed, 1 insertion(+)\n",
                                    " create mode 100644 archivo7.py\n"
                              ]
                        }
                  ],
                  "source": [
                        "!cd notebook_git && git commit -m \"Commit con el archivo 7\""
                  ]
            },
            {
                  "cell_type": "code",
                  "execution_count": 91,
                  "metadata": {},
                  "outputs": [
                        {
                              "name": "stdout",
                              "output_type": "stream",
                              "text": [
                                    "* \u001b[33m4bb9d75\u001b[m\u001b[33m (\u001b[m\u001b[1;36mHEAD -> \u001b[m\u001b[1;32mmaster\u001b[m\u001b[33m)\u001b[m Commit con el archivo 7\n",
                                    "* \u001b[33mea615a9\u001b[m Eliminado archivo5.py\n",
                                    "* \u001b[33me3153a5\u001b[m Commit con los archivos 4 y 5\n",
                                    "* \u001b[33m0b09cfa\u001b[m Añadido .gitignore\n",
                                    "* \u001b[33m04ebd1f\u001b[m Commit con los archivos 1 y 2\n",
                                    "* \u001b[33mc4930d7\u001b[m Tercer commit, hola.py\n",
                                    "* \u001b[33m6e99e73\u001b[m Segundo commit, hola.py\n",
                                    "* \u001b[33m1c95e4f\u001b[m Primer commit, hola.py\n"
                              ]
                        }
                  ],
                  "source": [
                        "!cd notebook_git && git log --graph --oneline --decorate"
                  ]
            },
            {
                  "attachments": {},
                  "cell_type": "markdown",
                  "metadata": {},
                  "source": [
                        "Apagamos o último compromisso e o substituímos por um novo, apagando o arquivo que queríamos"
                  ]
            },
            {
                  "attachments": {},
                  "cell_type": "markdown",
                  "metadata": {},
                  "source": [
                        "### Histórico de alterações de um arquivo (`git log <file>`)"
                  ]
            },
            {
                  "attachments": {},
                  "cell_type": "markdown",
                  "metadata": {},
                  "source": [
                        "Embora tenhamos visto anteriormente como podíamos ver o histórico do repositório com o \"log de git\", podemos não estar interessados no histórico de todo o repositório. Podemos ter um bug em um arquivo de código que não precisávamos começar, então podemos querer ver apenas o histórico desse arquivo, então usamos `git log <file>`."
                  ]
            },
            {
                  "attachments": {},
                  "cell_type": "markdown",
                  "metadata": {},
                  "source": [
                        "Primeiro olhamos para os arquivos que temos"
                  ]
            },
            {
                  "cell_type": "code",
                  "execution_count": 92,
                  "metadata": {},
                  "outputs": [
                        {
                              "name": "stdout",
                              "output_type": "stream",
                              "text": [
                                    "api_keys.py  archivo1.py  archivo2.py  archivo4.py  archivo7.py  hola.py\n"
                              ]
                        }
                  ],
                  "source": [
                        "!cd notebook_git && ls"
                  ]
            },
            {
                  "attachments": {},
                  "cell_type": "markdown",
                  "metadata": {},
                  "source": [
                        "Suponhamos que só queremos ver as mudanças para \"olá.py\", então fazemos \"olá.py\"."
                  ]
            },
            {
                  "cell_type": "code",
                  "execution_count": 93,
                  "metadata": {},
                  "outputs": [
                        {
                              "name": "stdout",
                              "output_type": "stream",
                              "text": [
                                    "* \u001b[33mc4930d7\u001b[m Tercer commit, hola.py\n",
                                    "* \u001b[33m6e99e73\u001b[m Segundo commit, hola.py\n",
                                    "* \u001b[33m1c95e4f\u001b[m Primer commit, hola.py\n"
                              ]
                        }
                  ],
                  "source": [
                        "!cd notebook_git && git log --graph --oneline --decorate hola.py"
                  ]
            },
            {
                  "attachments": {},
                  "cell_type": "markdown",
                  "metadata": {},
                  "source": [
                        "Podemos ver que há muito menos resultados do que se tivéssemos feito \"logaritmo\"."
                  ]
            },
            {
                  "cell_type": "code",
                  "execution_count": 94,
                  "metadata": {},
                  "outputs": [
                        {
                              "name": "stdout",
                              "output_type": "stream",
                              "text": [
                                    "* \u001b[33m4bb9d75\u001b[m\u001b[33m (\u001b[m\u001b[1;36mHEAD -> \u001b[m\u001b[1;32mmaster\u001b[m\u001b[33m)\u001b[m Commit con el archivo 7\n",
                                    "* \u001b[33mea615a9\u001b[m Eliminado archivo5.py\n",
                                    "* \u001b[33me3153a5\u001b[m Commit con los archivos 4 y 5\n",
                                    "* \u001b[33m0b09cfa\u001b[m Añadido .gitignore\n",
                                    "* \u001b[33m04ebd1f\u001b[m Commit con los archivos 1 y 2\n",
                                    "* \u001b[33mc4930d7\u001b[m Tercer commit, hola.py\n",
                                    "* \u001b[33m6e99e73\u001b[m Segundo commit, hola.py\n",
                                    "* \u001b[33m1c95e4f\u001b[m Primer commit, hola.py\n"
                              ]
                        }
                  ],
                  "source": [
                        "!cd notebook_git && git log --graph --oneline --decorate"
                  ]
            },
            {
                  "attachments": {},
                  "cell_type": "markdown",
                  "metadata": {},
                  "source": [
                        "#### Ver modificações em um arquivo em um ponto específico da história (`git show <hash> <file>` ou `git diff <file>`)"
                  ]
            },
            {
                  "attachments": {},
                  "cell_type": "markdown",
                  "metadata": {},
                  "source": [
                        "Suponha que já saibamos em que ponto uma mudança foi feita no arquivo contendo um bug, então agora queremos saber que mudanças foram feitas para descobrir o que poderia estar causando o bug utilizando `git show <hash> <file>``."
                  ]
            },
            {
                  "attachments": {},
                  "cell_type": "markdown",
                  "metadata": {},
                  "source": [
                        "Vejamos que mudanças foram feitas no `hello.py` no hash `c4930d7`, ou seja, quando o terceiro compromisso foi feito."
                  ]
            },
            {
                  "cell_type": "code",
                  "execution_count": 98,
                  "metadata": {},
                  "outputs": [
                        {
                              "name": "stdout",
                              "output_type": "stream",
                              "text": [
                                    "\u001b[33mcommit c4930d7267c3f8df389ab0cb1bda0b5fceabb5c2\u001b[m\n",
                                    "Author: maximofn <maximofn@gmail.com>\n",
                                    "Date:   Sun Apr 16 02:29:59 2023 +0200\n",
                                    "\n",
                                    "    Tercer commit, hola.py\n",
                                    "\n",
                                    "\u001b[1mdiff --git a/hola.py b/hola.py\u001b[m\n",
                                    "\u001b[1mindex 91dee80..33bdb99 100644\u001b[m\n",
                                    "\u001b[1m--- a/hola.py\u001b[m\n",
                                    "\u001b[1m+++ b/hola.py\u001b[m\n",
                                    "\u001b[36m@@ -1,2 +1,3 @@\u001b[m\n",
                                    " print('Hola mundo')\u001b[m\n",
                                    " print('He añadido una nueva linea')\u001b[m\n",
                                    "\u001b[32m+\u001b[m\u001b[32mprint('Esta es la tercera linea')\u001b[m\n"
                              ]
                        }
                  ],
                  "source": [
                        "!cd notebook_git && git show c4930d7 hola.py"
                  ]
            },
            {
                  "attachments": {},
                  "cell_type": "markdown",
                  "metadata": {},
                  "source": [
                        "A maneira de ver as mudanças no git não é muito intuitiva, mas podemos ver que a linha `impressão('Esta é a terceira linha')` foi acrescentada."
                  ]
            },
            {
                  "attachments": {},
                  "cell_type": "markdown",
                  "metadata": {},
                  "source": [
                        "Outra maneira de ver as mudanças é com 'git diff', temos duas opções, podemos ver as mudanças do arquivo no momento atual com um ponto específico na história, para isso fazemos `git diff <hash> <file>`.\n",
                        "\n",
                        "Por exemplo, se quisermos ver as mudanças no `hello.py` de quando o primeiro compromisso foi feito (hash `1c95e4f`) com a situação atual, temos que entrar (`git diff 1c95e4f hello.py`)"
                  ]
            },
            {
                  "cell_type": "code",
                  "execution_count": 99,
                  "metadata": {},
                  "outputs": [
                        {
                              "name": "stdout",
                              "output_type": "stream",
                              "text": [
                                    "\u001b[1mdiff --git a/hola.py b/hola.py\u001b[m\n",
                                    "\u001b[1mindex f140969..33bdb99 100644\u001b[m\n",
                                    "\u001b[1m--- a/hola.py\u001b[m\n",
                                    "\u001b[1m+++ b/hola.py\u001b[m\n",
                                    "\u001b[36m@@ -1 +1,3 @@\u001b[m\n",
                                    " print('Hola mundo')\u001b[m\n",
                                    "\u001b[32m+\u001b[m\u001b[32mprint('He añadido una nueva linea')\u001b[m\n",
                                    "\u001b[32m+\u001b[m\u001b[32mprint('Esta es la tercera linea')\u001b[m\n"
                              ]
                        }
                  ],
                  "source": [
                        "!cd notebook_git && git diff 1c95e4f hola.py"
                  ]
            },
            {
                  "attachments": {},
                  "cell_type": "markdown",
                  "metadata": {},
                  "source": [
                        "Mas se você quiser ver a diferença entre um ponto específico da história e outro ponto específico da história, você tem que inserir os hashes dos dois pontos no tempo, ou seja, `git diff <hash1> <hash2> <file>``.\n",
                        "\n",
                        "Se quisermos ver as mudanças no `hello.py` entre o segundo commit (hash `6e99e73`) e o primeiro commit (hash `1c95e4f`) teríamos que entrar no `git diff 1c95e4f 6e99e73 hello.py`."
                  ]
            },
            {
                  "cell_type": "code",
                  "execution_count": 101,
                  "metadata": {},
                  "outputs": [
                        {
                              "name": "stdout",
                              "output_type": "stream",
                              "text": [
                                    "\u001b[1mdiff --git a/hola.py b/hola.py\u001b[m\n",
                                    "\u001b[1mindex f140969..91dee80 100644\u001b[m\n",
                                    "\u001b[1m--- a/hola.py\u001b[m\n",
                                    "\u001b[1m+++ b/hola.py\u001b[m\n",
                                    "\u001b[36m@@ -1 +1,2 @@\u001b[m\n",
                                    " print('Hola mundo')\u001b[m\n",
                                    "\u001b[32m+\u001b[m\u001b[32mprint('He añadido una nueva linea')\u001b[m\n"
                              ]
                        }
                  ],
                  "source": [
                        "!cd notebook_git && git diff 1c95e4f 6e99e73 hola.py"
                  ]
            },
            {
                  "attachments": {},
                  "cell_type": "markdown",
                  "metadata": {},
                  "source": [
                        "O acima nos mostra as mudanças do segundo compromisso em relação ao primeiro, mas se quisermos as mudanças do primeiro compromisso em relação ao segundo, só temos que colocar os hashes ao contrário, ou seja, `git diff 6e99e73 1c95e4f hello.py`."
                  ]
            },
            {
                  "cell_type": "code",
                  "execution_count": 102,
                  "metadata": {},
                  "outputs": [
                        {
                              "name": "stdout",
                              "output_type": "stream",
                              "text": [
                                    "\u001b[1mdiff --git a/hola.py b/hola.py\u001b[m\n",
                                    "\u001b[1mindex 91dee80..f140969 100644\u001b[m\n",
                                    "\u001b[1m--- a/hola.py\u001b[m\n",
                                    "\u001b[1m+++ b/hola.py\u001b[m\n",
                                    "\u001b[36m@@ -1,2 +1 @@\u001b[m\n",
                                    " print('Hola mundo')\u001b[m\n",
                                    "\u001b[31m-print('He añadido una nueva linea')\u001b[m\n"
                              ]
                        }
                  ],
                  "source": [
                        "!cd notebook_git && git diff 6e99e73 1c95e4f hola.py"
                  ]
            },
            {
                  "attachments": {},
                  "cell_type": "markdown",
                  "metadata": {},
                  "source": [
                        "#### Travel to the past (`git reset --hard <hash>` ou `git reset --soft <hash>`)"
                  ]
            },
            {
                  "attachments": {},
                  "cell_type": "markdown",
                  "metadata": {},
                  "source": [
                        "Vamos imaginar que descobrimos que tudo o que fizemos depois de gerar o bug não é bom e que temos que retrabalhar a partir desse ponto, podemos voltar a uma posição histórica por `git reset --hard <hash>` (isto não vai manter as mudanças) ou `git reset --soft <hash>` (isto vai manter as mudanças)."
                  ]
            },
            {
                  "attachments": {},
                  "cell_type": "markdown",
                  "metadata": {},
                  "source": [
                        "Primeiro vamos olhar para a história"
                  ]
            },
            {
                  "cell_type": "code",
                  "execution_count": 103,
                  "metadata": {},
                  "outputs": [
                        {
                              "name": "stdout",
                              "output_type": "stream",
                              "text": [
                                    "* \u001b[33m4bb9d75\u001b[m\u001b[33m (\u001b[m\u001b[1;36mHEAD -> \u001b[m\u001b[1;32mmaster\u001b[m\u001b[33m)\u001b[m Commit con el archivo 7\n",
                                    "* \u001b[33mea615a9\u001b[m Eliminado archivo5.py\n",
                                    "* \u001b[33me3153a5\u001b[m Commit con los archivos 4 y 5\n",
                                    "* \u001b[33m0b09cfa\u001b[m Añadido .gitignore\n",
                                    "* \u001b[33m04ebd1f\u001b[m Commit con los archivos 1 y 2\n",
                                    "* \u001b[33mc4930d7\u001b[m Tercer commit, hola.py\n",
                                    "* \u001b[33m6e99e73\u001b[m Segundo commit, hola.py\n",
                                    "* \u001b[33m1c95e4f\u001b[m Primer commit, hola.py\n"
                              ]
                        }
                  ],
                  "source": [
                        "!cd notebook_git && git log --graph --oneline --decorate"
                  ]
            },
            {
                  "attachments": {},
                  "cell_type": "markdown",
                  "metadata": {},
                  "source": [
                        "Suponha que queiramos ir ao momento em que fizemos o terceiro compromisso (hash `c4930d7'), e o fazemos sem manter as mudanças, ou seja, todas as modificações que fizemos depois serão apagadas, fazemos `git reset --hard c4930d7'."
                  ]
            },
            {
                  "attachments": {},
                  "cell_type": "markdown",
                  "metadata": {},
                  "source": [
                        "Primeiro fazemos `ls' para ver os arquivos que temos agora"
                  ]
            },
            {
                  "cell_type": "code",
                  "execution_count": 104,
                  "metadata": {},
                  "outputs": [
                        {
                              "name": "stdout",
                              "output_type": "stream",
                              "text": [
                                    "api_keys.py  archivo1.py  archivo2.py  archivo4.py  archivo7.py  hola.py\n"
                              ]
                        }
                  ],
                  "source": [
                        "!cd notebook_git && ls"
                  ]
            },
            {
                  "attachments": {},
                  "cell_type": "markdown",
                  "metadata": {},
                  "source": [
                        "Vamos para o terceiro compromisso"
                  ]
            },
            {
                  "cell_type": "code",
                  "execution_count": 105,
                  "metadata": {},
                  "outputs": [
                        {
                              "name": "stdout",
                              "output_type": "stream",
                              "text": [
                                    "HEAD está ahora en c4930d7 Tercer commit, hola.py\n"
                              ]
                        }
                  ],
                  "source": [
                        "!cd notebook_git && git reset --hard c4930d7"
                  ]
            },
            {
                  "attachments": {},
                  "cell_type": "markdown",
                  "metadata": {},
                  "source": [
                        "Se fizermos `ls` veremos que não temos mais `file1.py`, `file2.py`, `file4.py`, ou `file7.py`."
                  ]
            },
            {
                  "cell_type": "code",
                  "execution_count": 106,
                  "metadata": {},
                  "outputs": [
                        {
                              "name": "stdout",
                              "output_type": "stream",
                              "text": [
                                    "api_keys.py  hola.py\n"
                              ]
                        }
                  ],
                  "source": [
                        "!cd notebook_git && ls"
                  ]
            },
            {
                  "attachments": {},
                  "cell_type": "markdown",
                  "metadata": {},
                  "source": [
                        "#### De volta ao futuro (`git reflog`)"
                  ]
            },
            {
                  "attachments": {},
                  "cell_type": "markdown",
                  "metadata": {},
                  "source": [
                        "Suponha que tenhamos arrependimentos e que queiramos voltar ao ponto onde estávamos, até o último ponto da história, uma maneira seria fazer `git reset --hard <hash>` novamente. Mas imaginemos que não conhecemos o hash, porque não fizemos o `git log` antes e se o fizermos agora, só nos dá informações históricas até o terceiro compromisso."
                  ]
            },
            {
                  "cell_type": "code",
                  "execution_count": 107,
                  "metadata": {},
                  "outputs": [
                        {
                              "name": "stdout",
                              "output_type": "stream",
                              "text": [
                                    "* \u001b[33mc4930d7\u001b[m\u001b[33m (\u001b[m\u001b[1;36mHEAD -> \u001b[m\u001b[1;32mmaster\u001b[m\u001b[33m)\u001b[m Tercer commit, hola.py\n",
                                    "* \u001b[33m6e99e73\u001b[m Segundo commit, hola.py\n",
                                    "* \u001b[33m1c95e4f\u001b[m Primer commit, hola.py\n"
                              ]
                        }
                  ],
                  "source": [
                        "!cd notebook_git && git log --graph --oneline --decorate"
                  ]
            },
            {
                  "attachments": {},
                  "cell_type": "markdown",
                  "metadata": {},
                  "source": [
                        "Aqui, o que podemos fazer é 'git reflog', o que nos dará uma história que inclui os saltos."
                  ]
            },
            {
                  "cell_type": "code",
                  "execution_count": 108,
                  "metadata": {},
                  "outputs": [
                        {
                              "name": "stdout",
                              "output_type": "stream",
                              "text": [
                                    "\u001b[33mc4930d7\u001b[m\u001b[33m (\u001b[m\u001b[1;36mHEAD -> \u001b[m\u001b[1;32mmaster\u001b[m\u001b[33m)\u001b[m HEAD@{0}: reset: moving to c4930d7\n",
                                    "\u001b[33m4bb9d75\u001b[m HEAD@{1}: commit: Commit con el archivo 7\n",
                                    "\u001b[33mea615a9\u001b[m HEAD@{2}: reset: moving to HEAD~1\n",
                                    "\u001b[33md6dc485\u001b[m HEAD@{3}: commit: Commit con los archivos 6 y 7\n",
                                    "\u001b[33mea615a9\u001b[m HEAD@{4}: commit: Eliminado archivo5.py\n",
                                    "\u001b[33me3153a5\u001b[m HEAD@{5}: commit: Commit con los archivos 4 y 5\n",
                                    "\u001b[33m0b09cfa\u001b[m HEAD@{6}: commit: Añadido .gitignore\n",
                                    "\u001b[33m04ebd1f\u001b[m HEAD@{7}: reset: moving to HEAD~1\n",
                                    "\u001b[33m0147d65\u001b[m HEAD@{8}: commit: Commit con el archivo 3\n",
                                    "\u001b[33m04ebd1f\u001b[m HEAD@{9}: reset: moving to HEAD~1\n",
                                    "\u001b[33m6dc7be6\u001b[m HEAD@{10}: commit: Commit con el archivos 3\n",
                                    "\u001b[33m04ebd1f\u001b[m HEAD@{11}: commit (amend): Commit con los archivos 1 y 2\n",
                                    "\u001b[33m285b243\u001b[m HEAD@{12}: commit: Commit con el archivo 1\n",
                                    "\u001b[33mc4930d7\u001b[m\u001b[33m (\u001b[m\u001b[1;36mHEAD -> \u001b[m\u001b[1;32mmaster\u001b[m\u001b[33m)\u001b[m HEAD@{13}: commit (amend): Tercer commit, hola.py\n",
                                    "\u001b[33m60e2ffd\u001b[m HEAD@{14}: commit: Tercer commot, hola.py\n",
                                    "\u001b[33m6e99e73\u001b[m HEAD@{15}: commit: Segundo commit, hola.py\n",
                                    "\u001b[33m1c95e4f\u001b[m HEAD@{16}: commit (initial): Primer commit, hola.py\n"
                              ]
                        }
                  ],
                  "source": [
                        "!cd notebook_git && git reflog"
                  ]
            },
            {
                  "attachments": {},
                  "cell_type": "markdown",
                  "metadata": {},
                  "source": [
                        "Podemos ver que isso nos diz que estávamos no compromisso com o hash `4bb9d75`, ou seja, o último compromisso que fizemos, e de lá fomos para o compromisso com o hash `c4930d7`, que se você notar, é o mesmo hash do compromisso com a mensagem `Third commit, hello.py`. Então já sabemos o hash do último commit, `4bb9d75`, então para voltarmos à posição do último commit, fazemos `git reset --hard 4bb9d75`."
                  ]
            },
            {
                  "cell_type": "code",
                  "execution_count": 109,
                  "metadata": {},
                  "outputs": [
                        {
                              "name": "stdout",
                              "output_type": "stream",
                              "text": [
                                    "HEAD está ahora en 4bb9d75 Commit con el archivo 7\n"
                              ]
                        }
                  ],
                  "source": [
                        "!cd notebook_git && git reset --hard 4bb9d75"
                  ]
            },
            {
                  "attachments": {},
                  "cell_type": "markdown",
                  "metadata": {},
                  "source": [
                        "Se agora voltarmos a registrar"
                  ]
            },
            {
                  "cell_type": "code",
                  "execution_count": 110,
                  "metadata": {},
                  "outputs": [
                        {
                              "name": "stdout",
                              "output_type": "stream",
                              "text": [
                                    "* \u001b[33m4bb9d75\u001b[m\u001b[33m (\u001b[m\u001b[1;36mHEAD -> \u001b[m\u001b[1;32mmaster\u001b[m\u001b[33m)\u001b[m Commit con el archivo 7\n",
                                    "* \u001b[33mea615a9\u001b[m Eliminado archivo5.py\n",
                                    "* \u001b[33me3153a5\u001b[m Commit con los archivos 4 y 5\n",
                                    "* \u001b[33m0b09cfa\u001b[m Añadido .gitignore\n",
                                    "* \u001b[33m04ebd1f\u001b[m Commit con los archivos 1 y 2\n",
                                    "* \u001b[33mc4930d7\u001b[m Tercer commit, hola.py\n",
                                    "* \u001b[33m6e99e73\u001b[m Segundo commit, hola.py\n",
                                    "* \u001b[33m1c95e4f\u001b[m Primer commit, hola.py\n"
                              ]
                        }
                  ],
                  "source": [
                        "!cd notebook_git && git log --graph --oneline --decorate"
                  ]
            },
            {
                  "attachments": {},
                  "cell_type": "markdown",
                  "metadata": {},
                  "source": [
                        "Vemos que estamos de fato na posição do último compromisso, *voltamos para o futuro*."
                  ]
            },
            {
                  "attachments": {},
                  "cell_type": "markdown",
                  "metadata": {},
                  "source": [
                        "## Filiais"
                  ]
            },
            {
                  "attachments": {},
                  "cell_type": "markdown",
                  "metadata": {},
                  "source": [
                        "![ramos](https://maximofn.com/wp-content/uploads/2023/04/GIT-Branchand-its-Operations.png)\n",
                        "\n",
                        "O uso de filiais é muito útil, pois podemos começar a desenvolver uma nova funcionalidade sem ter que modificar o código original."
                  ]
            },
            {
                  "attachments": {},
                  "cell_type": "markdown",
                  "metadata": {},
                  "source": [
                        "#### Criar filial (`git filial <nome da filial>`)"
                  ]
            },
            {
                  "attachments": {},
                  "cell_type": "markdown",
                  "metadata": {},
                  "source": [
                        " > Nota: Antes de mais nada é preciso dizer que para criar uma filial em um repositório deve haver pelo menos um compromisso, se você tentar criar uma filial antes de fazer o primeiro compromisso, você receberá um erro."
                  ]
            },
            {
                  "attachments": {},
                  "cell_type": "markdown",
                  "metadata": {},
                  "source": [
                        "Para criar uma filial utilizamos o comando `git filial <nome da filial>`."
                  ]
            },
            {
                  "cell_type": "code",
                  "execution_count": 111,
                  "metadata": {},
                  "outputs": [],
                  "source": [
                        "!cd notebook_git && git branch new_branch"
                  ]
            },
            {
                  "attachments": {},
                  "cell_type": "markdown",
                  "metadata": {},
                  "source": [
                        "### Listar ramos (ramo `git')"
                  ]
            },
            {
                  "attachments": {},
                  "cell_type": "markdown",
                  "metadata": {},
                  "source": [
                        "Criamos nossa primeira filial, podemos verificar todas as filiais que criamos, digitando apenas \"filial de crédito\"."
                  ]
            },
            {
                  "cell_type": "code",
                  "execution_count": 112,
                  "metadata": {},
                  "outputs": [
                        {
                              "name": "stdout",
                              "output_type": "stream",
                              "text": [
                                    "* \u001b[32mmaster\u001b[m\n",
                                    "  new_branch\u001b[m\n"
                              ]
                        }
                  ],
                  "source": [
                        "!cd notebook_git && git branch"
                  ]
            },
            {
                  "attachments": {},
                  "cell_type": "markdown",
                  "metadata": {},
                  "source": [
                        "Além de nos indicar com um asterisco \"*\" em que ramo estamos, neste caso, o ramo \"mestre\"."
                  ]
            },
            {
                  "attachments": {},
                  "cell_type": "markdown",
                  "metadata": {},
                  "source": [
                        "### Renomear ramos, adeus ao ramo `master` (`git ramo -m <nome antigo>>novo nome>`)"
                  ]
            },
            {
                  "attachments": {},
                  "cell_type": "markdown",
                  "metadata": {},
                  "source": [
                        "Historicamente, o ramo principal tem sido chamado \"mestre\", mas isso tem algumas conotações históricas ruins por causa do conceito de \"mestre-escravo\", devido ao sofrimento que muitas pessoas receberam, então agora o ramo principal é freqüentemente referido como \"principal\", então para renomeá-lo usamos \"ramo principal\"."
                  ]
            },
            {
                  "cell_type": "code",
                  "execution_count": 113,
                  "metadata": {},
                  "outputs": [],
                  "source": [
                        "!cd notebook_git && git branch -m master main"
                  ]
            },
            {
                  "attachments": {},
                  "cell_type": "markdown",
                  "metadata": {},
                  "source": [
                        "Listamos as filiais"
                  ]
            },
            {
                  "cell_type": "code",
                  "execution_count": 114,
                  "metadata": {},
                  "outputs": [
                        {
                              "name": "stdout",
                              "output_type": "stream",
                              "text": [
                                    "* \u001b[32mmain\u001b[m\n",
                                    "  new_branch\u001b[m\n"
                              ]
                        }
                  ],
                  "source": [
                        "!cd notebook_git && git branch"
                  ]
            },
            {
                  "attachments": {},
                  "cell_type": "markdown",
                  "metadata": {},
                  "source": [
                        "Como podemos ver, conseguimos mudar o nome do ramo principal de `master` para `main`."
                  ]
            },
            {
                  "attachments": {},
                  "cell_type": "markdown",
                  "metadata": {},
                  "source": [
                        "### Ramo de comutação (`git switch <filial>`)"
                  ]
            },
            {
                  "attachments": {},
                  "cell_type": "markdown",
                  "metadata": {},
                  "source": [
                        "Se você quiser trocar de filial, basta digitar `git switch <nome da filial>`."
                  ]
            },
            {
                  "cell_type": "code",
                  "execution_count": 115,
                  "metadata": {},
                  "outputs": [
                        {
                              "name": "stdout",
                              "output_type": "stream",
                              "text": [
                                    "Cambiado a rama 'new_branch'\n"
                              ]
                        }
                  ],
                  "source": [
                        "!cd notebook_git && git switch new_branch"
                  ]
            },
            {
                  "attachments": {},
                  "cell_type": "markdown",
                  "metadata": {},
                  "source": [
                        "Vejamos em que ramo estamos com o \"ramo de crédito\"."
                  ]
            },
            {
                  "cell_type": "code",
                  "execution_count": 116,
                  "metadata": {},
                  "outputs": [
                        {
                              "name": "stdout",
                              "output_type": "stream",
                              "text": [
                                    "  main\u001b[m\n",
                                    "* \u001b[32mnew_branch\u001b[m\n"
                              ]
                        }
                  ],
                  "source": [
                        "!cd notebook_git && git branch"
                  ]
            },
            {
                  "attachments": {},
                  "cell_type": "markdown",
                  "metadata": {},
                  "source": [
                        "Como podemos ver, mudamos o ramo para new_branch"
                  ]
            },
            {
                  "attachments": {},
                  "cell_type": "markdown",
                  "metadata": {},
                  "source": [
                        "Se quisermos criar e mudar de ramo em um único comando, podemos utilizar `git switch -c <nome da filial>`."
                  ]
            },
            {
                  "cell_type": "code",
                  "execution_count": 117,
                  "metadata": {},
                  "outputs": [
                        {
                              "name": "stdout",
                              "output_type": "stream",
                              "text": [
                                    "Cambiado a nueva rama 'new_branch2'\n"
                              ]
                        }
                  ],
                  "source": [
                        "!cd notebook_git && git switch -c new_branch2"
                  ]
            },
            {
                  "attachments": {},
                  "cell_type": "markdown",
                  "metadata": {},
                  "source": [
                        "Vamos ver em que ramo estamos"
                  ]
            },
            {
                  "cell_type": "code",
                  "execution_count": 118,
                  "metadata": {},
                  "outputs": [
                        {
                              "name": "stdout",
                              "output_type": "stream",
                              "text": [
                                    "  main\u001b[m\n",
                                    "  new_branch\u001b[m\n",
                                    "* \u001b[32mnew_branch2\u001b[m\n"
                              ]
                        }
                  ],
                  "source": [
                        "!cd notebook_git && git branch"
                  ]
            },
            {
                  "attachments": {},
                  "cell_type": "markdown",
                  "metadata": {},
                  "source": [
                        "Criamos e trocamos as filiais com um único comando"
                  ]
            },
            {
                  "attachments": {},
                  "cell_type": "markdown",
                  "metadata": {},
                  "source": [
                        "#### Obter o ramo em que estamos (`git branch --show-current`)"
                  ]
            },
            {
                  "attachments": {},
                  "cell_type": "markdown",
                  "metadata": {},
                  "source": [
                        "Como temos visto até agora com a \"filial da git\", podemos obter uma lista de todas as filiais e também ver aquela em que estamos atualmente, mas no caso em que temos muitas filiais, o que pode acontecer em uma equipe com muitas pessoas, é bom obter a filial e não obter uma lista de todas elas, para isso utilizamos a \"filial da git --show-current\"."
                  ]
            },
            {
                  "cell_type": "code",
                  "execution_count": 119,
                  "metadata": {},
                  "outputs": [
                        {
                              "name": "stdout",
                              "output_type": "stream",
                              "text": [
                                    "new_branch2\n"
                              ]
                        }
                  ],
                  "source": [
                        "!cd notebook_git && git branch --show-current"
                  ]
            },
            {
                  "attachments": {},
                  "cell_type": "markdown",
                  "metadata": {},
                  "source": [
                        "### Lista das filiais mais recentes (`ramos ramo --sort=data de compromisso`)"
                  ]
            },
            {
                  "attachments": {},
                  "cell_type": "markdown",
                  "metadata": {},
                  "source": [
                        "Caso você tenha muitos ramos, talvez queira saber quais são os mais recentes para ver quais foram os últimos criados e onde deve estar o mais recente desenvolvimento, para isso utilizamos \"ramo --sort=committerdate\"."
                  ]
            },
            {
                  "cell_type": "code",
                  "execution_count": 120,
                  "metadata": {},
                  "outputs": [
                        {
                              "name": "stdout",
                              "output_type": "stream",
                              "text": [
                                    "* \u001b[32mnew_branch2\u001b[m\n",
                                    "  new_branch\u001b[m\n",
                                    "  main\u001b[m\n"
                              ]
                        }
                  ],
                  "source": [
                        "!cd notebook_git && git branch --sort=-committerdate"
                  ]
            },
            {
                  "attachments": {},
                  "cell_type": "markdown",
                  "metadata": {},
                  "source": [
                        "Como podemos ver, ele os organizou em ordem inversa à de quando os criamos."
                  ]
            },
            {
                  "attachments": {},
                  "cell_type": "markdown",
                  "metadata": {},
                  "source": [
                        "### O comando depreciado `git checkout'."
                  ]
            },
            {
                  "attachments": {},
                  "cell_type": "markdown",
                  "metadata": {},
                  "source": [
                        "Até algum tempo atrás o comando para criar filiais e alternar entre elas era \"checkout\", mas este comando não só faz isto, mas também restaura o diretório de trabalho. Mas isto vai contra a filosofia do Linux, então os comandos \"git branch\", \"git swicth\" e \"git restore\" foram criados para dividir esta funcionalidade."
                  ]
            },
            {
                  "attachments": {},
                  "cell_type": "markdown",
                  "metadata": {},
                  "source": [
                        "### Fusão de filiais (`git merge`)"
                  ]
            },
            {
                  "attachments": {},
                  "cell_type": "markdown",
                  "metadata": {},
                  "source": [
                        "Como mencionado acima, a criação de filiais é muito útil para desenvolver novas características sem afetar o resto da equipe. Mas quando estas filiais forem concluídas, elas precisarão ser movidas para a filial principal, então utilizamos o comando `git merge <branch>`.\n",
                        "\n",
                        " > Importante**: Temos que estar no ramo que vai adotar as mudanças, ou seja, se quisermos fundir as mudanças feitas no ramo `new_branch2` no ramo `main`, primeiro temos que ter certeza de estar no ramo `main`."
                  ]
            },
            {
                  "attachments": {},
                  "cell_type": "markdown",
                  "metadata": {},
                  "source": [
                        "Primeiro verificamos em que ramo estamos"
                  ]
            },
            {
                  "cell_type": "code",
                  "execution_count": 121,
                  "metadata": {},
                  "outputs": [
                        {
                              "name": "stdout",
                              "output_type": "stream",
                              "text": [
                                    "new_branch2\n"
                              ]
                        }
                  ],
                  "source": [
                        "!cd notebook_git && git branch --show-current"
                  ]
            },
            {
                  "attachments": {},
                  "cell_type": "markdown",
                  "metadata": {},
                  "source": [
                        "Excluir `file7.py`"
                  ]
            },
            {
                  "cell_type": "code",
                  "execution_count": 122,
                  "metadata": {},
                  "outputs": [
                        {
                              "name": "stdout",
                              "output_type": "stream",
                              "text": [
                                    "rm 'archivo7.py'\n"
                              ]
                        }
                  ],
                  "source": [
                        "!cd notebook_git && git rm archivo7.py"
                  ]
            },
            {
                  "attachments": {},
                  "cell_type": "markdown",
                  "metadata": {},
                  "source": [
                        "Comprometemos as mudanças"
                  ]
            },
            {
                  "cell_type": "code",
                  "execution_count": 123,
                  "metadata": {},
                  "outputs": [
                        {
                              "name": "stdout",
                              "output_type": "stream",
                              "text": [
                                    "[new_branch2 5168f78] Eliminado archivo7.py\n",
                                    " 1 file changed, 1 deletion(-)\n",
                                    " delete mode 100644 archivo7.py\n"
                              ]
                        }
                  ],
                  "source": [
                        "!cd notebook_git && git commit -am \"Eliminado archivo7.py\""
                  ]
            },
            {
                  "attachments": {},
                  "cell_type": "markdown",
                  "metadata": {},
                  "source": [
                        "Se fizermos um `ls` vemos que o `file7.py` não está mais lá."
                  ]
            },
            {
                  "cell_type": "code",
                  "execution_count": 124,
                  "metadata": {},
                  "outputs": [],
                  "source": [
                        "!cd notebook_git && ls | grep archivo7"
                  ]
            },
            {
                  "attachments": {},
                  "cell_type": "markdown",
                  "metadata": {},
                  "source": [
                        "Criamos um novo arquivo e o comprometemos"
                  ]
            },
            {
                  "cell_type": "code",
                  "execution_count": 125,
                  "metadata": {},
                  "outputs": [
                        {
                              "name": "stdout",
                              "output_type": "stream",
                              "text": [
                                    "[new_branch2 564ccfb] Commit con el archivo 8\n",
                                    " 1 file changed, 0 insertions(+), 0 deletions(-)\n",
                                    " create mode 100644 archivo8.py\n"
                              ]
                        }
                  ],
                  "source": [
                        "!cd notebook_git && touch archivo8.py && git add archivo8.py && git commit -m \"Commit con el archivo 8\""
                  ]
            },
            {
                  "attachments": {},
                  "cell_type": "markdown",
                  "metadata": {},
                  "source": [
                        "Fizemos dois novos compromissos com este ramo, vejamos com `git log`."
                  ]
            },
            {
                  "cell_type": "code",
                  "execution_count": 126,
                  "metadata": {},
                  "outputs": [
                        {
                              "name": "stdout",
                              "output_type": "stream",
                              "text": [
                                    "* \u001b[33m564ccfb\u001b[m\u001b[33m (\u001b[m\u001b[1;36mHEAD -> \u001b[m\u001b[1;32mnew_branch2\u001b[m\u001b[33m)\u001b[m Commit con el archivo 8\n",
                                    "* \u001b[33m5168f78\u001b[m Eliminado archivo7.py\n",
                                    "* \u001b[33m4bb9d75\u001b[m\u001b[33m (\u001b[m\u001b[1;32mnew_branch\u001b[m\u001b[33m, \u001b[m\u001b[1;32mmain\u001b[m\u001b[33m)\u001b[m Commit con el archivo 7\n",
                                    "* \u001b[33mea615a9\u001b[m Eliminado archivo5.py\n",
                                    "* \u001b[33me3153a5\u001b[m Commit con los archivos 4 y 5\n",
                                    "* \u001b[33m0b09cfa\u001b[m Añadido .gitignore\n",
                                    "* \u001b[33m04ebd1f\u001b[m Commit con los archivos 1 y 2\n",
                                    "* \u001b[33mc4930d7\u001b[m Tercer commit, hola.py\n",
                                    "* \u001b[33m6e99e73\u001b[m Segundo commit, hola.py\n",
                                    "* \u001b[33m1c95e4f\u001b[m Primer commit, hola.py\n"
                              ]
                        }
                  ],
                  "source": [
                        "!cd notebook_git && git log --graph --oneline --decorate"
                  ]
            },
            {
                  "attachments": {},
                  "cell_type": "markdown",
                  "metadata": {},
                  "source": [
                        "Mudar para o ramo principal"
                  ]
            },
            {
                  "cell_type": "code",
                  "execution_count": 127,
                  "metadata": {},
                  "outputs": [
                        {
                              "name": "stdout",
                              "output_type": "stream",
                              "text": [
                                    "Cambiado a rama 'main'\n"
                              ]
                        }
                  ],
                  "source": [
                        "!cd notebook_git && git switch main"
                  ]
            },
            {
                  "attachments": {},
                  "cell_type": "markdown",
                  "metadata": {},
                  "source": [
                        "Se voltarmos a fazer \"s\" agora veremos que \"file7.py\" é de fato"
                  ]
            },
            {
                  "cell_type": "code",
                  "execution_count": 128,
                  "metadata": {},
                  "outputs": [
                        {
                              "name": "stdout",
                              "output_type": "stream",
                              "text": [
                                    "archivo7.py\n"
                              ]
                        }
                  ],
                  "source": [
                        "!cd notebook_git && ls | grep archivo7"
                  ]
            },
            {
                  "attachments": {},
                  "cell_type": "markdown",
                  "metadata": {},
                  "source": [
                        "Fundir filiais, trazer mudanças de `new_branch2` para `main`."
                  ]
            },
            {
                  "cell_type": "code",
                  "execution_count": 129,
                  "metadata": {},
                  "outputs": [
                        {
                              "name": "stdout",
                              "output_type": "stream",
                              "text": [
                                    "Actualizando 4bb9d75..564ccfb\n",
                                    "Fast-forward\n",
                                    " archivo7.py | 1 \u001b[31m-\u001b[m\n",
                                    " archivo8.py | 0\n",
                                    " 2 files changed, 1 deletion(-)\n",
                                    " delete mode 100644 archivo7.py\n",
                                    " create mode 100644 archivo8.py\n"
                              ]
                        }
                  ],
                  "source": [
                        "!cd notebook_git && git merge new_branch2"
                  ]
            },
            {
                  "attachments": {},
                  "cell_type": "markdown",
                  "metadata": {},
                  "source": [
                        "Fazemos um \"status de crédito\"."
                  ]
            },
            {
                  "cell_type": "code",
                  "execution_count": 130,
                  "metadata": {},
                  "outputs": [
                        {
                              "name": "stdout",
                              "output_type": "stream",
                              "text": [
                                    "En la rama main\n",
                                    "nada para hacer commit, el árbol de trabajo está limpio\n"
                              ]
                        }
                  ],
                  "source": [
                        "!cd notebook_git && git status"
                  ]
            },
            {
                  "attachments": {},
                  "cell_type": "markdown",
                  "metadata": {},
                  "source": [
                        "Podemos ver que ao fazer a fusão não é necessário fazer nenhum compromisso, vejamos com um \"diário de bordo\" o que aconteceu."
                  ]
            },
            {
                  "cell_type": "code",
                  "execution_count": 131,
                  "metadata": {},
                  "outputs": [
                        {
                              "name": "stdout",
                              "output_type": "stream",
                              "text": [
                                    "* \u001b[33m564ccfb\u001b[m\u001b[33m (\u001b[m\u001b[1;36mHEAD -> \u001b[m\u001b[1;32mmain\u001b[m\u001b[33m, \u001b[m\u001b[1;32mnew_branch2\u001b[m\u001b[33m)\u001b[m Commit con el archivo 8\n",
                                    "* \u001b[33m5168f78\u001b[m Eliminado archivo7.py\n",
                                    "* \u001b[33m4bb9d75\u001b[m\u001b[33m (\u001b[m\u001b[1;32mnew_branch\u001b[m\u001b[33m)\u001b[m Commit con el archivo 7\n",
                                    "* \u001b[33mea615a9\u001b[m Eliminado archivo5.py\n",
                                    "* \u001b[33me3153a5\u001b[m Commit con los archivos 4 y 5\n",
                                    "* \u001b[33m0b09cfa\u001b[m Añadido .gitignore\n",
                                    "* \u001b[33m04ebd1f\u001b[m Commit con los archivos 1 y 2\n",
                                    "* \u001b[33mc4930d7\u001b[m Tercer commit, hola.py\n",
                                    "* \u001b[33m6e99e73\u001b[m Segundo commit, hola.py\n",
                                    "* \u001b[33m1c95e4f\u001b[m Primer commit, hola.py\n"
                              ]
                        }
                  ],
                  "source": [
                        "!cd notebook_git && git log --graph --oneline --decorate"
                  ]
            },
            {
                  "attachments": {},
                  "cell_type": "markdown",
                  "metadata": {},
                  "source": [
                        "Vemos que o compromisso da filial \"new_branch2\" foi incorporado a esta filial."
                  ]
            },
            {
                  "attachments": {},
                  "cell_type": "markdown",
                  "metadata": {},
                  "source": [
                        "#### Rápido"
                  ]
            },
            {
                  "attachments": {},
                  "cell_type": "markdown",
                  "metadata": {},
                  "source": [
                        "Neste caso, criamos um novo ramo, não tocamos no ramo principal e apenas modificamos o novo ramo, fazendo vários compromissos. Assim, quando fundimos a nova filial na filial principal, veremos todos os commits que foram feitos na nova filial. Para realizar este tipo de fusão, digitamos `git merge --ff-only <branch>`."
                  ]
            },
            {
                  "cell_type": "code",
                  "execution_count": 132,
                  "metadata": {},
                  "outputs": [
                        {
                              "data": {
                                    "image/svg+xml": [
                                          "<?xml version=\"1.0\" encoding=\"UTF-8\" standalone=\"no\"?>\n",
                                          "<!DOCTYPE svg PUBLIC \"-//W3C//DTD SVG 1.1//EN\"\n",
                                          " \"http://www.w3.org/Graphics/SVG/1.1/DTD/svg11.dtd\">\n",
                                          "<!-- Generated by graphviz version 2.43.0 (0)\n",
                                          " -->\n",
                                          "<!-- Title: G Pages: 1 -->\n",
                                          "<svg width=\"404pt\" height=\"98pt\"\n",
                                          " viewBox=\"0.00 0.00 404.40 98.00\" xmlns=\"http://www.w3.org/2000/svg\" xmlns:xlink=\"http://www.w3.org/1999/xlink\">\n",
                                          "<g id=\"graph0\" class=\"graph\" transform=\"scale(1 1) rotate(0) translate(4 94)\">\n",
                                          "<title>G</title>\n",
                                          "<polygon fill=\"white\" stroke=\"transparent\" points=\"-4,4 -4,-94 400.4,-94 400.4,4 -4,4\"/>\n",
                                          "<!-- A -->\n",
                                          "<g id=\"node1\" class=\"node\">\n",
                                          "<title>A</title>\n",
                                          "<ellipse fill=\"none\" stroke=\"blue\" cx=\"18\" cy=\"-45\" rx=\"18\" ry=\"18\"/>\n",
                                          "<text text-anchor=\"middle\" x=\"18\" y=\"-41.3\" font-family=\"Times,serif\" font-size=\"14.00\">A</text>\n",
                                          "</g>\n",
                                          "<!-- B -->\n",
                                          "<g id=\"node2\" class=\"node\">\n",
                                          "<title>B</title>\n",
                                          "<ellipse fill=\"none\" stroke=\"blue\" cx=\"90\" cy=\"-45\" rx=\"18\" ry=\"18\"/>\n",
                                          "<text text-anchor=\"middle\" x=\"90\" y=\"-41.3\" font-family=\"Times,serif\" font-size=\"14.00\">B</text>\n",
                                          "</g>\n",
                                          "<!-- A&#45;&gt;B -->\n",
                                          "<g id=\"edge1\" class=\"edge\">\n",
                                          "<title>A&#45;&gt;B</title>\n",
                                          "<path fill=\"none\" stroke=\"black\" d=\"M36.3,-45C44.02,-45 53.29,-45 61.89,-45\"/>\n",
                                          "<polygon fill=\"black\" stroke=\"black\" points=\"61.9,-48.5 71.9,-45 61.9,-41.5 61.9,-48.5\"/>\n",
                                          "</g>\n",
                                          "<!-- C -->\n",
                                          "<g id=\"node3\" class=\"node\">\n",
                                          "<title>C</title>\n",
                                          "<ellipse fill=\"none\" stroke=\"blue\" cx=\"162\" cy=\"-45\" rx=\"18\" ry=\"18\"/>\n",
                                          "<text text-anchor=\"middle\" x=\"162\" y=\"-41.3\" font-family=\"Times,serif\" font-size=\"14.00\">C</text>\n",
                                          "</g>\n",
                                          "<!-- B&#45;&gt;C -->\n",
                                          "<g id=\"edge2\" class=\"edge\">\n",
                                          "<title>B&#45;&gt;C</title>\n",
                                          "<path fill=\"none\" stroke=\"black\" d=\"M108.3,-45C116.02,-45 125.29,-45 133.89,-45\"/>\n",
                                          "<polygon fill=\"black\" stroke=\"black\" points=\"133.9,-48.5 143.9,-45 133.9,-41.5 133.9,-48.5\"/>\n",
                                          "</g>\n",
                                          "<!-- D -->\n",
                                          "<g id=\"node4\" class=\"node\">\n",
                                          "<title>D</title>\n",
                                          "<ellipse fill=\"none\" stroke=\"blue\" cx=\"234.2\" cy=\"-45\" rx=\"18.4\" ry=\"18.4\"/>\n",
                                          "<text text-anchor=\"middle\" x=\"234.2\" y=\"-41.3\" font-family=\"Times,serif\" font-size=\"14.00\">D</text>\n",
                                          "</g>\n",
                                          "<!-- C&#45;&gt;D -->\n",
                                          "<g id=\"edge3\" class=\"edge\">\n",
                                          "<title>C&#45;&gt;D</title>\n",
                                          "<path fill=\"none\" stroke=\"black\" d=\"M180.35,-45C187.89,-45 196.91,-45 205.34,-45\"/>\n",
                                          "<polygon fill=\"black\" stroke=\"black\" points=\"205.56,-48.5 215.56,-45 205.56,-41.5 205.56,-48.5\"/>\n",
                                          "</g>\n",
                                          "<!-- E -->\n",
                                          "<g id=\"node5\" class=\"node\">\n",
                                          "<title>E</title>\n",
                                          "<ellipse fill=\"none\" stroke=\"transparent\" cx=\"306.4\" cy=\"-72\" rx=\"18\" ry=\"18\"/>\n",
                                          "</g>\n",
                                          "<!-- D&#45;&gt;E -->\n",
                                          "<g id=\"edge4\" class=\"edge\">\n",
                                          "<title>D&#45;&gt;E</title>\n",
                                          "<path fill=\"none\" stroke=\"transparent\" d=\"M251.48,-51.26C259.9,-54.5 270.36,-58.53 279.83,-62.17\"/>\n",
                                          "<polygon fill=\"transparent\" stroke=\"transparent\" points=\"278.61,-65.45 289.2,-65.77 281.13,-58.92 278.61,-65.45\"/>\n",
                                          "</g>\n",
                                          "<!-- X -->\n",
                                          "<g id=\"node6\" class=\"node\">\n",
                                          "<title>X</title>\n",
                                          "<ellipse fill=\"none\" stroke=\"green\" cx=\"306.4\" cy=\"-18\" rx=\"18\" ry=\"18\"/>\n",
                                          "<text text-anchor=\"middle\" x=\"306.4\" y=\"-14.3\" font-family=\"Times,serif\" font-size=\"14.00\">X</text>\n",
                                          "</g>\n",
                                          "<!-- D&#45;&gt;X -->\n",
                                          "<g id=\"edge5\" class=\"edge\">\n",
                                          "<title>D&#45;&gt;X</title>\n",
                                          "<path fill=\"none\" stroke=\"black\" d=\"M251.48,-38.74C259.9,-35.5 270.36,-31.47 279.83,-27.83\"/>\n",
                                          "<polygon fill=\"black\" stroke=\"black\" points=\"281.13,-31.08 289.2,-24.23 278.61,-24.55 281.13,-31.08\"/>\n",
                                          "</g>\n",
                                          "<!-- Y -->\n",
                                          "<g id=\"node7\" class=\"node\">\n",
                                          "<title>Y</title>\n",
                                          "<ellipse fill=\"none\" stroke=\"green\" cx=\"378.4\" cy=\"-18\" rx=\"18\" ry=\"18\"/>\n",
                                          "<text text-anchor=\"middle\" x=\"378.4\" y=\"-14.3\" font-family=\"Times,serif\" font-size=\"14.00\">Y</text>\n",
                                          "</g>\n",
                                          "<!-- X&#45;&gt;Y -->\n",
                                          "<g id=\"edge6\" class=\"edge\">\n",
                                          "<title>X&#45;&gt;Y</title>\n",
                                          "<path fill=\"none\" stroke=\"black\" d=\"M324.7,-18C332.41,-18 341.68,-18 350.28,-18\"/>\n",
                                          "<polygon fill=\"black\" stroke=\"black\" points=\"350.29,-21.5 360.29,-18 350.29,-14.5 350.29,-21.5\"/>\n",
                                          "</g>\n",
                                          "</g>\n",
                                          "</svg>\n"
                                    ],
                                    "text/plain": [
                                          "<graphviz.graphs.Digraph at 0x7f58f80c09a0>"
                                    ]
                              },
                              "metadata": {},
                              "output_type": "display_data"
                        },
                        {
                              "data": {
                                    "image/svg+xml": [
                                          "<?xml version=\"1.0\" encoding=\"UTF-8\" standalone=\"no\"?>\n",
                                          "<!DOCTYPE svg PUBLIC \"-//W3C//DTD SVG 1.1//EN\"\n",
                                          " \"http://www.w3.org/Graphics/SVG/1.1/DTD/svg11.dtd\">\n",
                                          "<!-- Generated by graphviz version 2.43.0 (0)\n",
                                          " -->\n",
                                          "<!-- Title: G Pages: 1 -->\n",
                                          "<svg width=\"404pt\" height=\"44pt\"\n",
                                          " viewBox=\"0.00 0.00 404.40 44.40\" xmlns=\"http://www.w3.org/2000/svg\" xmlns:xlink=\"http://www.w3.org/1999/xlink\">\n",
                                          "<g id=\"graph0\" class=\"graph\" transform=\"scale(1 1) rotate(0) translate(4 40.4)\">\n",
                                          "<title>G</title>\n",
                                          "<polygon fill=\"white\" stroke=\"transparent\" points=\"-4,4 -4,-40.4 400.4,-40.4 400.4,4 -4,4\"/>\n",
                                          "<!-- A -->\n",
                                          "<g id=\"node1\" class=\"node\">\n",
                                          "<title>A</title>\n",
                                          "<ellipse fill=\"none\" stroke=\"blue\" cx=\"18\" cy=\"-18.2\" rx=\"18\" ry=\"18\"/>\n",
                                          "<text text-anchor=\"middle\" x=\"18\" y=\"-14.5\" font-family=\"Times,serif\" font-size=\"14.00\">A</text>\n",
                                          "</g>\n",
                                          "<!-- B -->\n",
                                          "<g id=\"node2\" class=\"node\">\n",
                                          "<title>B</title>\n",
                                          "<ellipse fill=\"none\" stroke=\"blue\" cx=\"90\" cy=\"-18.2\" rx=\"18\" ry=\"18\"/>\n",
                                          "<text text-anchor=\"middle\" x=\"90\" y=\"-14.5\" font-family=\"Times,serif\" font-size=\"14.00\">B</text>\n",
                                          "</g>\n",
                                          "<!-- A&#45;&gt;B -->\n",
                                          "<g id=\"edge1\" class=\"edge\">\n",
                                          "<title>A&#45;&gt;B</title>\n",
                                          "<path fill=\"none\" stroke=\"black\" d=\"M36.3,-18.2C44.02,-18.2 53.29,-18.2 61.89,-18.2\"/>\n",
                                          "<polygon fill=\"black\" stroke=\"black\" points=\"61.9,-21.7 71.9,-18.2 61.9,-14.7 61.9,-21.7\"/>\n",
                                          "</g>\n",
                                          "<!-- C -->\n",
                                          "<g id=\"node3\" class=\"node\">\n",
                                          "<title>C</title>\n",
                                          "<ellipse fill=\"none\" stroke=\"blue\" cx=\"162\" cy=\"-18.2\" rx=\"18\" ry=\"18\"/>\n",
                                          "<text text-anchor=\"middle\" x=\"162\" y=\"-14.5\" font-family=\"Times,serif\" font-size=\"14.00\">C</text>\n",
                                          "</g>\n",
                                          "<!-- B&#45;&gt;C -->\n",
                                          "<g id=\"edge2\" class=\"edge\">\n",
                                          "<title>B&#45;&gt;C</title>\n",
                                          "<path fill=\"none\" stroke=\"black\" d=\"M108.3,-18.2C116.02,-18.2 125.29,-18.2 133.89,-18.2\"/>\n",
                                          "<polygon fill=\"black\" stroke=\"black\" points=\"133.9,-21.7 143.9,-18.2 133.9,-14.7 133.9,-21.7\"/>\n",
                                          "</g>\n",
                                          "<!-- D -->\n",
                                          "<g id=\"node4\" class=\"node\">\n",
                                          "<title>D</title>\n",
                                          "<ellipse fill=\"none\" stroke=\"blue\" cx=\"234.2\" cy=\"-18.2\" rx=\"18.4\" ry=\"18.4\"/>\n",
                                          "<text text-anchor=\"middle\" x=\"234.2\" y=\"-14.5\" font-family=\"Times,serif\" font-size=\"14.00\">D</text>\n",
                                          "</g>\n",
                                          "<!-- C&#45;&gt;D -->\n",
                                          "<g id=\"edge3\" class=\"edge\">\n",
                                          "<title>C&#45;&gt;D</title>\n",
                                          "<path fill=\"none\" stroke=\"black\" d=\"M180.35,-18.2C187.89,-18.2 196.91,-18.2 205.34,-18.2\"/>\n",
                                          "<polygon fill=\"black\" stroke=\"black\" points=\"205.56,-21.7 215.56,-18.2 205.56,-14.7 205.56,-21.7\"/>\n",
                                          "</g>\n",
                                          "<!-- X -->\n",
                                          "<g id=\"node5\" class=\"node\">\n",
                                          "<title>X</title>\n",
                                          "<ellipse fill=\"none\" stroke=\"magenta\" cx=\"306.4\" cy=\"-18.2\" rx=\"18\" ry=\"18\"/>\n",
                                          "<text text-anchor=\"middle\" x=\"306.4\" y=\"-14.5\" font-family=\"Times,serif\" font-size=\"14.00\">X</text>\n",
                                          "</g>\n",
                                          "<!-- D&#45;&gt;X -->\n",
                                          "<g id=\"edge4\" class=\"edge\">\n",
                                          "<title>D&#45;&gt;X</title>\n",
                                          "<path fill=\"none\" stroke=\"black\" d=\"M252.55,-18.2C260.29,-18.2 269.58,-18.2 278.21,-18.2\"/>\n",
                                          "<polygon fill=\"black\" stroke=\"black\" points=\"278.24,-21.7 288.24,-18.2 278.24,-14.7 278.24,-21.7\"/>\n",
                                          "</g>\n",
                                          "<!-- Y -->\n",
                                          "<g id=\"node6\" class=\"node\">\n",
                                          "<title>Y</title>\n",
                                          "<ellipse fill=\"none\" stroke=\"magenta\" cx=\"378.4\" cy=\"-18.2\" rx=\"18\" ry=\"18\"/>\n",
                                          "<text text-anchor=\"middle\" x=\"378.4\" y=\"-14.5\" font-family=\"Times,serif\" font-size=\"14.00\">Y</text>\n",
                                          "</g>\n",
                                          "<!-- X&#45;&gt;Y -->\n",
                                          "<g id=\"edge5\" class=\"edge\">\n",
                                          "<title>X&#45;&gt;Y</title>\n",
                                          "<path fill=\"none\" stroke=\"black\" d=\"M324.7,-18.2C332.41,-18.2 341.68,-18.2 350.28,-18.2\"/>\n",
                                          "<polygon fill=\"black\" stroke=\"black\" points=\"350.29,-21.7 360.29,-18.2 350.29,-14.7 350.29,-21.7\"/>\n",
                                          "</g>\n",
                                          "</g>\n",
                                          "</svg>\n"
                                    ],
                                    "text/plain": [
                                          "<graphviz.graphs.Digraph at 0x7f58f9203fa0>"
                                    ]
                              },
                              "metadata": {},
                              "output_type": "display_data"
                        }
                  ],
                  "source": [
                        "### Este código é para criar o gráfico do ramo, não é necessário para o curso.\n",
                        "\n",
                        "import graphviz\n",
                        "\n",
                        "# Crear el gráfico con la dirección de las flechas de izquierda a derecha\n",
                        "orin = graphviz.Digraph('G', graph_attr={'rankdir': 'LR'})\n",
                        "fast_foward = graphviz.Digraph('G', graph_attr={'rankdir': 'LR'})\n",
                        "\n",
                        "# Agregar nodos (pelotas) A, B, C y D en la rama principal\n",
                        "orin.node('A', shape='circle', label='A', color='blue')\n",
                        "orin.node('B', shape='circle', label='B', color='blue')\n",
                        "orin.node('C', shape='circle', label='C', color='blue')\n",
                        "orin.node('D', shape='circle', label='D', color='blue')\n",
                        "orin.node('E', shape='circle', label='', color='transparent')\n",
                        "fast_foward.node('A', shape='circle', label='A', color='blue')\n",
                        "fast_foward.node('B', shape='circle', label='B', color='blue')\n",
                        "fast_foward.node('C', shape='circle', label='C', color='blue')\n",
                        "fast_foward.node('D', shape='circle', label='D', color='blue')\n",
                        "\n",
                        "# Agregar nodos (pelotas) X e Y en la rama secundaria\n",
                        "orin.node('X', shape='circle', label='X', color='green')\n",
                        "orin.node('Y', shape='circle', label='Y', color='green')\n",
                        "fast_foward.node('X', shape='circle', label='X', color='magenta')\n",
                        "fast_foward.node('Y', shape='circle', label='Y', color='magenta')\n",
                        "\n",
                        "# Agregar flechas entre los nodos en la rama principal\n",
                        "orin.edges(['AB', 'BC', 'CD'])\n",
                        "orin.edge('D', 'E', color='transparent')  # Hacer la flecha de C a D transparente\n",
                        "fast_foward.edges(['AB', 'BC', 'CD', 'DX', 'XY'])\n",
                        "\n",
                        "# Agregar flechas entre los nodos en la rama secundaria\n",
                        "orin.edges(['DX', 'XY'])\n",
                        "\n",
                        "# Mostrar el diagrama de flujo en la celda de código de Jupyter Notebook\n",
                        "display(orin)\n",
                        "display(fast_foward)"
                  ]
            },
            {
                  "attachments": {},
                  "cell_type": "markdown",
                  "metadata": {},
                  "source": [
                        "Vamos primeiro verificar se estamos no ramo principal."
                  ]
            },
            {
                  "cell_type": "code",
                  "execution_count": 133,
                  "metadata": {},
                  "outputs": [
                        {
                              "name": "stdout",
                              "output_type": "stream",
                              "text": [
                                    "main\n"
                              ]
                        }
                  ],
                  "source": [
                        "!cd notebook_git && git branch --show-current"
                  ]
            },
            {
                  "attachments": {},
                  "cell_type": "markdown",
                  "metadata": {},
                  "source": [
                        "Criamos um novo ramo"
                  ]
            },
            {
                  "cell_type": "code",
                  "execution_count": 134,
                  "metadata": {},
                  "outputs": [],
                  "source": [
                        "!cd notebook_git && git branch branch_fast_forward"
                  ]
            },
            {
                  "attachments": {},
                  "cell_type": "markdown",
                  "metadata": {},
                  "source": [
                        "Nós mudamos para ele"
                  ]
            },
            {
                  "cell_type": "code",
                  "execution_count": 135,
                  "metadata": {},
                  "outputs": [
                        {
                              "name": "stdout",
                              "output_type": "stream",
                              "text": [
                                    "Cambiado a rama 'branch_fast_forward'\n"
                              ]
                        }
                  ],
                  "source": [
                        "!cd notebook_git && git switch branch_fast_forward"
                  ]
            },
            {
                  "cell_type": "code",
                  "execution_count": 136,
                  "metadata": {},
                  "outputs": [
                        {
                              "name": "stdout",
                              "output_type": "stream",
                              "text": [
                                    "branch_fast_forward\n"
                              ]
                        }
                  ],
                  "source": [
                        "!cd notebook_git && git branch --show-current"
                  ]
            },
            {
                  "attachments": {},
                  "cell_type": "markdown",
                  "metadata": {},
                  "source": [
                        "Vamos dar uma olhada no tronco"
                  ]
            },
            {
                  "cell_type": "code",
                  "execution_count": 137,
                  "metadata": {},
                  "outputs": [
                        {
                              "name": "stdout",
                              "output_type": "stream",
                              "text": [
                                    "* \u001b[33m564ccfb\u001b[m\u001b[33m (\u001b[m\u001b[1;36mHEAD -> \u001b[m\u001b[1;32mbranch_fast_forward\u001b[m\u001b[33m, \u001b[m\u001b[1;32mnew_branch2\u001b[m\u001b[33m, \u001b[m\u001b[1;32mmain\u001b[m\u001b[33m)\u001b[m Commit con el archivo 8\n",
                                    "* \u001b[33m5168f78\u001b[m Eliminado archivo7.py\n",
                                    "* \u001b[33m4bb9d75\u001b[m\u001b[33m (\u001b[m\u001b[1;32mnew_branch\u001b[m\u001b[33m)\u001b[m Commit con el archivo 7\n",
                                    "* \u001b[33mea615a9\u001b[m Eliminado archivo5.py\n",
                                    "* \u001b[33me3153a5\u001b[m Commit con los archivos 4 y 5\n",
                                    "* \u001b[33m0b09cfa\u001b[m Añadido .gitignore\n",
                                    "* \u001b[33m04ebd1f\u001b[m Commit con los archivos 1 y 2\n",
                                    "* \u001b[33mc4930d7\u001b[m Tercer commit, hola.py\n",
                                    "* \u001b[33m6e99e73\u001b[m Segundo commit, hola.py\n",
                                    "* \u001b[33m1c95e4f\u001b[m Primer commit, hola.py\n"
                              ]
                        }
                  ],
                  "source": [
                        "!cd notebook_git && git log --graph --oneline --decorate --all"
                  ]
            },
            {
                  "attachments": {},
                  "cell_type": "markdown",
                  "metadata": {},
                  "source": [
                        "OK, estamos em um ramo criado a partir do ramo principal com todo o seu histórico, fazemos dois novos compromissos"
                  ]
            },
            {
                  "cell_type": "code",
                  "execution_count": 138,
                  "metadata": {},
                  "outputs": [
                        {
                              "name": "stdout",
                              "output_type": "stream",
                              "text": [
                                    "rm 'archivo4.py'\n",
                                    "[branch_fast_forward 4484e70] Eliminado archivo4.py\n",
                                    " 1 file changed, 1 deletion(-)\n",
                                    " delete mode 100644 archivo4.py\n"
                              ]
                        }
                  ],
                  "source": [
                        "!cd notebook_git && git rm archivo4.py && git commit -am \"Eliminado archivo4.py\""
                  ]
            },
            {
                  "cell_type": "code",
                  "execution_count": 139,
                  "metadata": {},
                  "outputs": [
                        {
                              "name": "stdout",
                              "output_type": "stream",
                              "text": [
                                    "rm 'hola.py'\n",
                                    "[branch_fast_forward 94149fc] Eliminado hola.py\n",
                                    " 1 file changed, 3 deletions(-)\n",
                                    " delete mode 100644 hola.py\n"
                              ]
                        }
                  ],
                  "source": [
                        "!cd notebook_git && git rm hola.py && git commit -am \"Eliminado hola.py\""
                  ]
            },
            {
                  "attachments": {},
                  "cell_type": "markdown",
                  "metadata": {},
                  "source": [
                        "Fazemos um novo registro para ver que neste novo ramo foram criados"
                  ]
            },
            {
                  "cell_type": "code",
                  "execution_count": 140,
                  "metadata": {},
                  "outputs": [
                        {
                              "name": "stdout",
                              "output_type": "stream",
                              "text": [
                                    "* \u001b[33m94149fc\u001b[m\u001b[33m (\u001b[m\u001b[1;36mHEAD -> \u001b[m\u001b[1;32mbranch_fast_forward\u001b[m\u001b[33m)\u001b[m Eliminado hola.py\n",
                                    "* \u001b[33m4484e70\u001b[m Eliminado archivo4.py\n",
                                    "* \u001b[33m564ccfb\u001b[m\u001b[33m (\u001b[m\u001b[1;32mnew_branch2\u001b[m\u001b[33m, \u001b[m\u001b[1;32mmain\u001b[m\u001b[33m)\u001b[m Commit con el archivo 8\n",
                                    "* \u001b[33m5168f78\u001b[m Eliminado archivo7.py\n",
                                    "* \u001b[33m4bb9d75\u001b[m\u001b[33m (\u001b[m\u001b[1;32mnew_branch\u001b[m\u001b[33m)\u001b[m Commit con el archivo 7\n",
                                    "* \u001b[33mea615a9\u001b[m Eliminado archivo5.py\n",
                                    "* \u001b[33me3153a5\u001b[m Commit con los archivos 4 y 5\n",
                                    "* \u001b[33m0b09cfa\u001b[m Añadido .gitignore\n",
                                    "* \u001b[33m04ebd1f\u001b[m Commit con los archivos 1 y 2\n",
                                    "* \u001b[33mc4930d7\u001b[m Tercer commit, hola.py\n",
                                    "* \u001b[33m6e99e73\u001b[m Segundo commit, hola.py\n",
                                    "* \u001b[33m1c95e4f\u001b[m Primer commit, hola.py\n"
                              ]
                        }
                  ],
                  "source": [
                        "!cd notebook_git && git log --graph --oneline --decorate"
                  ]
            },
            {
                  "attachments": {},
                  "cell_type": "markdown",
                  "metadata": {},
                  "source": [
                        "Como podemos ver, os dois últimos compromissos são os que criamos e podemos verificar se esses compromissos não estão no ramo principal (para isso especifico fazê-lo no ramo \"principal\")."
                  ]
            },
            {
                  "cell_type": "code",
                  "execution_count": 141,
                  "metadata": {},
                  "outputs": [
                        {
                              "name": "stdout",
                              "output_type": "stream",
                              "text": [
                                    "* \u001b[33m564ccfb\u001b[m\u001b[33m (\u001b[m\u001b[1;32mnew_branch2\u001b[m\u001b[33m, \u001b[m\u001b[1;32mmain\u001b[m\u001b[33m)\u001b[m Commit con el archivo 8\n",
                                    "* \u001b[33m5168f78\u001b[m Eliminado archivo7.py\n",
                                    "* \u001b[33m4bb9d75\u001b[m\u001b[33m (\u001b[m\u001b[1;32mnew_branch\u001b[m\u001b[33m)\u001b[m Commit con el archivo 7\n",
                                    "* \u001b[33mea615a9\u001b[m Eliminado archivo5.py\n",
                                    "* \u001b[33me3153a5\u001b[m Commit con los archivos 4 y 5\n",
                                    "* \u001b[33m0b09cfa\u001b[m Añadido .gitignore\n",
                                    "* \u001b[33m04ebd1f\u001b[m Commit con los archivos 1 y 2\n",
                                    "* \u001b[33mc4930d7\u001b[m Tercer commit, hola.py\n",
                                    "* \u001b[33m6e99e73\u001b[m Segundo commit, hola.py\n",
                                    "* \u001b[33m1c95e4f\u001b[m Primer commit, hola.py\n"
                              ]
                        }
                  ],
                  "source": [
                        "!cd notebook_git && git log main --graph --oneline --decorate"
                  ]
            },
            {
                  "attachments": {},
                  "cell_type": "markdown",
                  "metadata": {},
                  "source": [
                        "Agora vamos para a filial \"principal\" para fazer a fusão."
                  ]
            },
            {
                  "cell_type": "code",
                  "execution_count": 142,
                  "metadata": {},
                  "outputs": [
                        {
                              "name": "stdout",
                              "output_type": "stream",
                              "text": [
                                    "Cambiado a rama 'main'\n"
                              ]
                        }
                  ],
                  "source": [
                        "!cd notebook_git && git switch main"
                  ]
            },
            {
                  "attachments": {},
                  "cell_type": "markdown",
                  "metadata": {},
                  "source": [
                        "Finalmente fazemos a fusão rápida para frente."
                  ]
            },
            {
                  "cell_type": "code",
                  "execution_count": 143,
                  "metadata": {},
                  "outputs": [
                        {
                              "name": "stdout",
                              "output_type": "stream",
                              "text": [
                                    "Actualizando 564ccfb..94149fc\n",
                                    "Fast-forward\n",
                                    " archivo4.py | 1 \u001b[31m-\u001b[m\n",
                                    " hola.py     | 3 \u001b[31m---\u001b[m\n",
                                    " 2 files changed, 4 deletions(-)\n",
                                    " delete mode 100644 archivo4.py\n",
                                    " delete mode 100644 hola.py\n"
                              ]
                        }
                  ],
                  "source": [
                        "!cd notebook_git && git merge --ff-only branch_fast_forward"
                  ]
            },
            {
                  "attachments": {},
                  "cell_type": "markdown",
                  "metadata": {},
                  "source": [
                        "A fusão foi feita, vamos ver o que aconteceu com o tronco na filial \"principal\"."
                  ]
            },
            {
                  "cell_type": "code",
                  "execution_count": 144,
                  "metadata": {},
                  "outputs": [
                        {
                              "name": "stdout",
                              "output_type": "stream",
                              "text": [
                                    "* \u001b[33m94149fc\u001b[m\u001b[33m (\u001b[m\u001b[1;36mHEAD -> \u001b[m\u001b[1;32mmain\u001b[m\u001b[33m, \u001b[m\u001b[1;32mbranch_fast_forward\u001b[m\u001b[33m)\u001b[m Eliminado hola.py\n",
                                    "* \u001b[33m4484e70\u001b[m Eliminado archivo4.py\n",
                                    "* \u001b[33m564ccfb\u001b[m\u001b[33m (\u001b[m\u001b[1;32mnew_branch2\u001b[m\u001b[33m)\u001b[m Commit con el archivo 8\n",
                                    "* \u001b[33m5168f78\u001b[m Eliminado archivo7.py\n",
                                    "* \u001b[33m4bb9d75\u001b[m\u001b[33m (\u001b[m\u001b[1;32mnew_branch\u001b[m\u001b[33m)\u001b[m Commit con el archivo 7\n",
                                    "* \u001b[33mea615a9\u001b[m Eliminado archivo5.py\n",
                                    "* \u001b[33me3153a5\u001b[m Commit con los archivos 4 y 5\n",
                                    "* \u001b[33m0b09cfa\u001b[m Añadido .gitignore\n",
                                    "* \u001b[33m04ebd1f\u001b[m Commit con los archivos 1 y 2\n",
                                    "* \u001b[33mc4930d7\u001b[m Tercer commit, hola.py\n",
                                    "* \u001b[33m6e99e73\u001b[m Segundo commit, hola.py\n",
                                    "* \u001b[33m1c95e4f\u001b[m Primer commit, hola.py\n"
                              ]
                        }
                  ],
                  "source": [
                        "!cd notebook_git && git log --graph --oneline --decorate"
                  ]
            },
            {
                  "attachments": {},
                  "cell_type": "markdown",
                  "metadata": {},
                  "source": [
                        "Como você pode ver, os dois compromissos feitos no `branch_fast_forward_frog_forward_frog foram mantidos."
                  ]
            },
            {
                  "attachments": {},
                  "cell_type": "markdown",
                  "metadata": {},
                  "source": [
                        "#### Nenhuma fusão rápida ou verdadeira"
                  ]
            },
            {
                  "attachments": {},
                  "cell_type": "markdown",
                  "metadata": {},
                  "source": [
                        "Neste caso, criamos um novo ramo, deixamos o ramo principal intocado e modificamos o novo ramo, fazendo vários compromissos. Em seguida, fazemos um compromisso sobre a filial principal. Assim, quando fundimos a nova filial com a principal, veremos um único compromisso na nova filial. Para fazer este tipo de fusão, digitamos `git merge <branch> --no-ff`."
                  ]
            },
            {
                  "cell_type": "code",
                  "execution_count": 145,
                  "metadata": {},
                  "outputs": [
                        {
                              "data": {
                                    "image/svg+xml": [
                                          "<?xml version=\"1.0\" encoding=\"UTF-8\" standalone=\"no\"?>\n",
                                          "<!DOCTYPE svg PUBLIC \"-//W3C//DTD SVG 1.1//EN\"\n",
                                          " \"http://www.w3.org/Graphics/SVG/1.1/DTD/svg11.dtd\">\n",
                                          "<!-- Generated by graphviz version 2.43.0 (0)\n",
                                          " -->\n",
                                          "<!-- Title: G Pages: 1 -->\n",
                                          "<svg width=\"404pt\" height=\"98pt\"\n",
                                          " viewBox=\"0.00 0.00 404.40 98.00\" xmlns=\"http://www.w3.org/2000/svg\" xmlns:xlink=\"http://www.w3.org/1999/xlink\">\n",
                                          "<g id=\"graph0\" class=\"graph\" transform=\"scale(1 1) rotate(0) translate(4 94)\">\n",
                                          "<title>G</title>\n",
                                          "<polygon fill=\"white\" stroke=\"transparent\" points=\"-4,4 -4,-94 400.4,-94 400.4,4 -4,4\"/>\n",
                                          "<!-- A -->\n",
                                          "<g id=\"node1\" class=\"node\">\n",
                                          "<title>A</title>\n",
                                          "<ellipse fill=\"none\" stroke=\"blue\" cx=\"18\" cy=\"-45\" rx=\"18\" ry=\"18\"/>\n",
                                          "<text text-anchor=\"middle\" x=\"18\" y=\"-41.3\" font-family=\"Times,serif\" font-size=\"14.00\">A</text>\n",
                                          "</g>\n",
                                          "<!-- B -->\n",
                                          "<g id=\"node2\" class=\"node\">\n",
                                          "<title>B</title>\n",
                                          "<ellipse fill=\"none\" stroke=\"blue\" cx=\"90\" cy=\"-45\" rx=\"18\" ry=\"18\"/>\n",
                                          "<text text-anchor=\"middle\" x=\"90\" y=\"-41.3\" font-family=\"Times,serif\" font-size=\"14.00\">B</text>\n",
                                          "</g>\n",
                                          "<!-- A&#45;&gt;B -->\n",
                                          "<g id=\"edge1\" class=\"edge\">\n",
                                          "<title>A&#45;&gt;B</title>\n",
                                          "<path fill=\"none\" stroke=\"black\" d=\"M36.3,-45C44.02,-45 53.29,-45 61.89,-45\"/>\n",
                                          "<polygon fill=\"black\" stroke=\"black\" points=\"61.9,-48.5 71.9,-45 61.9,-41.5 61.9,-48.5\"/>\n",
                                          "</g>\n",
                                          "<!-- C -->\n",
                                          "<g id=\"node3\" class=\"node\">\n",
                                          "<title>C</title>\n",
                                          "<ellipse fill=\"none\" stroke=\"blue\" cx=\"162\" cy=\"-45\" rx=\"18\" ry=\"18\"/>\n",
                                          "<text text-anchor=\"middle\" x=\"162\" y=\"-41.3\" font-family=\"Times,serif\" font-size=\"14.00\">C</text>\n",
                                          "</g>\n",
                                          "<!-- B&#45;&gt;C -->\n",
                                          "<g id=\"edge2\" class=\"edge\">\n",
                                          "<title>B&#45;&gt;C</title>\n",
                                          "<path fill=\"none\" stroke=\"black\" d=\"M108.3,-45C116.02,-45 125.29,-45 133.89,-45\"/>\n",
                                          "<polygon fill=\"black\" stroke=\"black\" points=\"133.9,-48.5 143.9,-45 133.9,-41.5 133.9,-48.5\"/>\n",
                                          "</g>\n",
                                          "<!-- D -->\n",
                                          "<g id=\"node4\" class=\"node\">\n",
                                          "<title>D</title>\n",
                                          "<ellipse fill=\"none\" stroke=\"blue\" cx=\"234.2\" cy=\"-45\" rx=\"18.4\" ry=\"18.4\"/>\n",
                                          "<text text-anchor=\"middle\" x=\"234.2\" y=\"-41.3\" font-family=\"Times,serif\" font-size=\"14.00\">D</text>\n",
                                          "</g>\n",
                                          "<!-- C&#45;&gt;D -->\n",
                                          "<g id=\"edge3\" class=\"edge\">\n",
                                          "<title>C&#45;&gt;D</title>\n",
                                          "<path fill=\"none\" stroke=\"black\" d=\"M180.35,-45C187.89,-45 196.91,-45 205.34,-45\"/>\n",
                                          "<polygon fill=\"black\" stroke=\"black\" points=\"205.56,-48.5 215.56,-45 205.56,-41.5 205.56,-48.5\"/>\n",
                                          "</g>\n",
                                          "<!-- E -->\n",
                                          "<g id=\"node5\" class=\"node\">\n",
                                          "<title>E</title>\n",
                                          "<ellipse fill=\"none\" stroke=\"transparent\" cx=\"306.4\" cy=\"-72\" rx=\"18\" ry=\"18\"/>\n",
                                          "</g>\n",
                                          "<!-- D&#45;&gt;E -->\n",
                                          "<g id=\"edge4\" class=\"edge\">\n",
                                          "<title>D&#45;&gt;E</title>\n",
                                          "<path fill=\"none\" stroke=\"transparent\" d=\"M251.48,-51.26C259.9,-54.5 270.36,-58.53 279.83,-62.17\"/>\n",
                                          "<polygon fill=\"transparent\" stroke=\"transparent\" points=\"278.61,-65.45 289.2,-65.77 281.13,-58.92 278.61,-65.45\"/>\n",
                                          "</g>\n",
                                          "<!-- X -->\n",
                                          "<g id=\"node6\" class=\"node\">\n",
                                          "<title>X</title>\n",
                                          "<ellipse fill=\"none\" stroke=\"green\" cx=\"306.4\" cy=\"-18\" rx=\"18\" ry=\"18\"/>\n",
                                          "<text text-anchor=\"middle\" x=\"306.4\" y=\"-14.3\" font-family=\"Times,serif\" font-size=\"14.00\">X</text>\n",
                                          "</g>\n",
                                          "<!-- D&#45;&gt;X -->\n",
                                          "<g id=\"edge5\" class=\"edge\">\n",
                                          "<title>D&#45;&gt;X</title>\n",
                                          "<path fill=\"none\" stroke=\"black\" d=\"M251.48,-38.74C259.9,-35.5 270.36,-31.47 279.83,-27.83\"/>\n",
                                          "<polygon fill=\"black\" stroke=\"black\" points=\"281.13,-31.08 289.2,-24.23 278.61,-24.55 281.13,-31.08\"/>\n",
                                          "</g>\n",
                                          "<!-- Y -->\n",
                                          "<g id=\"node7\" class=\"node\">\n",
                                          "<title>Y</title>\n",
                                          "<ellipse fill=\"none\" stroke=\"green\" cx=\"378.4\" cy=\"-18\" rx=\"18\" ry=\"18\"/>\n",
                                          "<text text-anchor=\"middle\" x=\"378.4\" y=\"-14.3\" font-family=\"Times,serif\" font-size=\"14.00\">Y</text>\n",
                                          "</g>\n",
                                          "<!-- X&#45;&gt;Y -->\n",
                                          "<g id=\"edge6\" class=\"edge\">\n",
                                          "<title>X&#45;&gt;Y</title>\n",
                                          "<path fill=\"none\" stroke=\"black\" d=\"M324.7,-18C332.41,-18 341.68,-18 350.28,-18\"/>\n",
                                          "<polygon fill=\"black\" stroke=\"black\" points=\"350.29,-21.5 360.29,-18 350.29,-14.5 350.29,-21.5\"/>\n",
                                          "</g>\n",
                                          "</g>\n",
                                          "</svg>\n"
                                    ],
                                    "text/plain": [
                                          "<graphviz.graphs.Digraph at 0x7f58f80c2fb0>"
                                    ]
                              },
                              "metadata": {},
                              "output_type": "display_data"
                        },
                        {
                              "data": {
                                    "image/svg+xml": [
                                          "<?xml version=\"1.0\" encoding=\"UTF-8\" standalone=\"no\"?>\n",
                                          "<!DOCTYPE svg PUBLIC \"-//W3C//DTD SVG 1.1//EN\"\n",
                                          " \"http://www.w3.org/Graphics/SVG/1.1/DTD/svg11.dtd\">\n",
                                          "<!-- Generated by graphviz version 2.43.0 (0)\n",
                                          " -->\n",
                                          "<!-- Title: G Pages: 1 -->\n",
                                          "<svg width=\"481pt\" height=\"98pt\"\n",
                                          " viewBox=\"0.00 0.00 480.69 98.00\" xmlns=\"http://www.w3.org/2000/svg\" xmlns:xlink=\"http://www.w3.org/1999/xlink\">\n",
                                          "<g id=\"graph0\" class=\"graph\" transform=\"scale(1 1) rotate(0) translate(4 94)\">\n",
                                          "<title>G</title>\n",
                                          "<polygon fill=\"white\" stroke=\"transparent\" points=\"-4,4 -4,-94 476.69,-94 476.69,4 -4,4\"/>\n",
                                          "<!-- A -->\n",
                                          "<g id=\"node1\" class=\"node\">\n",
                                          "<title>A</title>\n",
                                          "<ellipse fill=\"none\" stroke=\"blue\" cx=\"18\" cy=\"-45\" rx=\"18\" ry=\"18\"/>\n",
                                          "<text text-anchor=\"middle\" x=\"18\" y=\"-41.3\" font-family=\"Times,serif\" font-size=\"14.00\">A</text>\n",
                                          "</g>\n",
                                          "<!-- B -->\n",
                                          "<g id=\"node2\" class=\"node\">\n",
                                          "<title>B</title>\n",
                                          "<ellipse fill=\"none\" stroke=\"blue\" cx=\"90\" cy=\"-45\" rx=\"18\" ry=\"18\"/>\n",
                                          "<text text-anchor=\"middle\" x=\"90\" y=\"-41.3\" font-family=\"Times,serif\" font-size=\"14.00\">B</text>\n",
                                          "</g>\n",
                                          "<!-- A&#45;&gt;B -->\n",
                                          "<g id=\"edge1\" class=\"edge\">\n",
                                          "<title>A&#45;&gt;B</title>\n",
                                          "<path fill=\"none\" stroke=\"black\" d=\"M36.3,-45C44.02,-45 53.29,-45 61.89,-45\"/>\n",
                                          "<polygon fill=\"black\" stroke=\"black\" points=\"61.9,-48.5 71.9,-45 61.9,-41.5 61.9,-48.5\"/>\n",
                                          "</g>\n",
                                          "<!-- C -->\n",
                                          "<g id=\"node3\" class=\"node\">\n",
                                          "<title>C</title>\n",
                                          "<ellipse fill=\"none\" stroke=\"blue\" cx=\"162\" cy=\"-45\" rx=\"18\" ry=\"18\"/>\n",
                                          "<text text-anchor=\"middle\" x=\"162\" y=\"-41.3\" font-family=\"Times,serif\" font-size=\"14.00\">C</text>\n",
                                          "</g>\n",
                                          "<!-- B&#45;&gt;C -->\n",
                                          "<g id=\"edge2\" class=\"edge\">\n",
                                          "<title>B&#45;&gt;C</title>\n",
                                          "<path fill=\"none\" stroke=\"black\" d=\"M108.3,-45C116.02,-45 125.29,-45 133.89,-45\"/>\n",
                                          "<polygon fill=\"black\" stroke=\"black\" points=\"133.9,-48.5 143.9,-45 133.9,-41.5 133.9,-48.5\"/>\n",
                                          "</g>\n",
                                          "<!-- D -->\n",
                                          "<g id=\"node4\" class=\"node\">\n",
                                          "<title>D</title>\n",
                                          "<ellipse fill=\"none\" stroke=\"blue\" cx=\"234.2\" cy=\"-45\" rx=\"18.4\" ry=\"18.4\"/>\n",
                                          "<text text-anchor=\"middle\" x=\"234.2\" y=\"-41.3\" font-family=\"Times,serif\" font-size=\"14.00\">D</text>\n",
                                          "</g>\n",
                                          "<!-- C&#45;&gt;D -->\n",
                                          "<g id=\"edge3\" class=\"edge\">\n",
                                          "<title>C&#45;&gt;D</title>\n",
                                          "<path fill=\"none\" stroke=\"black\" d=\"M180.35,-45C187.89,-45 196.91,-45 205.34,-45\"/>\n",
                                          "<polygon fill=\"black\" stroke=\"black\" points=\"205.56,-48.5 215.56,-45 205.56,-41.5 205.56,-48.5\"/>\n",
                                          "</g>\n",
                                          "<!-- E -->\n",
                                          "<g id=\"node5\" class=\"node\">\n",
                                          "<title>E</title>\n",
                                          "<ellipse fill=\"none\" stroke=\"blue\" cx=\"378.4\" cy=\"-72\" rx=\"18\" ry=\"18\"/>\n",
                                          "<text text-anchor=\"middle\" x=\"378.4\" y=\"-68.3\" font-family=\"Times,serif\" font-size=\"14.00\">E</text>\n",
                                          "</g>\n",
                                          "<!-- D&#45;&gt;E -->\n",
                                          "<g id=\"edge4\" class=\"edge\">\n",
                                          "<title>D&#45;&gt;E</title>\n",
                                          "<path fill=\"none\" stroke=\"black\" d=\"M252.35,-48.26C276.72,-52.88 321.59,-61.4 350.43,-66.88\"/>\n",
                                          "<polygon fill=\"black\" stroke=\"black\" points=\"350.15,-70.39 360.63,-68.82 351.45,-63.51 350.15,-70.39\"/>\n",
                                          "</g>\n",
                                          "<!-- X -->\n",
                                          "<g id=\"node6\" class=\"node\">\n",
                                          "<title>X</title>\n",
                                          "<ellipse fill=\"none\" stroke=\"green\" cx=\"306.4\" cy=\"-22\" rx=\"18\" ry=\"18\"/>\n",
                                          "<text text-anchor=\"middle\" x=\"306.4\" y=\"-18.3\" font-family=\"Times,serif\" font-size=\"14.00\">X</text>\n",
                                          "</g>\n",
                                          "<!-- D&#45;&gt;X -->\n",
                                          "<g id=\"edge5\" class=\"edge\">\n",
                                          "<title>D&#45;&gt;X</title>\n",
                                          "<path fill=\"none\" stroke=\"black\" d=\"M251.83,-39.55C260.05,-36.86 270.16,-33.55 279.37,-30.53\"/>\n",
                                          "<polygon fill=\"black\" stroke=\"black\" points=\"280.47,-33.85 288.88,-27.41 278.29,-27.2 280.47,-33.85\"/>\n",
                                          "</g>\n",
                                          "<!-- M -->\n",
                                          "<g id=\"node8\" class=\"node\">\n",
                                          "<title>M</title>\n",
                                          "<ellipse fill=\"none\" stroke=\"magenta\" cx=\"452.54\" cy=\"-45\" rx=\"20.3\" ry=\"20.3\"/>\n",
                                          "<text text-anchor=\"middle\" x=\"452.54\" y=\"-41.3\" font-family=\"Times,serif\" font-size=\"14.00\">M</text>\n",
                                          "</g>\n",
                                          "<!-- E&#45;&gt;M -->\n",
                                          "<g id=\"edge8\" class=\"edge\">\n",
                                          "<title>E&#45;&gt;M</title>\n",
                                          "<path fill=\"none\" stroke=\"black\" d=\"M395.41,-66.01C403.79,-62.87 414.29,-58.94 423.93,-55.33\"/>\n",
                                          "<polygon fill=\"black\" stroke=\"black\" points=\"425.41,-58.52 433.55,-51.73 422.96,-51.96 425.41,-58.52\"/>\n",
                                          "</g>\n",
                                          "<!-- Y -->\n",
                                          "<g id=\"node7\" class=\"node\">\n",
                                          "<title>Y</title>\n",
                                          "<ellipse fill=\"none\" stroke=\"green\" cx=\"378.4\" cy=\"-18\" rx=\"18\" ry=\"18\"/>\n",
                                          "<text text-anchor=\"middle\" x=\"378.4\" y=\"-14.3\" font-family=\"Times,serif\" font-size=\"14.00\">Y</text>\n",
                                          "</g>\n",
                                          "<!-- X&#45;&gt;Y -->\n",
                                          "<g id=\"edge6\" class=\"edge\">\n",
                                          "<title>X&#45;&gt;Y</title>\n",
                                          "<path fill=\"none\" stroke=\"black\" d=\"M324.7,-21.01C332.41,-20.57 341.68,-20.04 350.28,-19.55\"/>\n",
                                          "<polygon fill=\"black\" stroke=\"black\" points=\"350.51,-23.04 360.29,-18.98 350.11,-16.05 350.51,-23.04\"/>\n",
                                          "</g>\n",
                                          "<!-- Y&#45;&gt;M -->\n",
                                          "<g id=\"edge7\" class=\"edge\">\n",
                                          "<title>Y&#45;&gt;M</title>\n",
                                          "<path fill=\"none\" stroke=\"black\" d=\"M395.41,-23.99C403.79,-27.13 414.29,-31.06 423.93,-34.67\"/>\n",
                                          "<polygon fill=\"black\" stroke=\"black\" points=\"422.96,-38.04 433.55,-38.27 425.41,-31.48 422.96,-38.04\"/>\n",
                                          "</g>\n",
                                          "</g>\n",
                                          "</svg>\n"
                                    ],
                                    "text/plain": [
                                          "<graphviz.graphs.Digraph at 0x7f58f80c2230>"
                                    ]
                              },
                              "metadata": {},
                              "output_type": "display_data"
                        }
                  ],
                  "source": [
                        "### Este código é para criar o gráfico do ramo, não é necessário para o curso.\n",
                        "\n",
                        "import graphviz\n",
                        "\n",
                        "# Crear el gráfico con la dirección de las flechas de izquierda a derecha\n",
                        "orin = graphviz.Digraph('G', graph_attr={'rankdir': 'LR'})\n",
                        "not_fast_forward = graphviz.Digraph('G', graph_attr={'rankdir': 'LR'})\n",
                        "\n",
                        "# Agregar nodos (pelotas) A, B, C y D en la rama principal\n",
                        "orin.node('A', shape='circle', label='A', color='blue')\n",
                        "orin.node('B', shape='circle', label='B', color='blue')\n",
                        "orin.node('C', shape='circle', label='C', color='blue')\n",
                        "orin.node('D', shape='circle', label='D', color='blue')\n",
                        "orin.node('E', shape='circle', label='', color='transparent')\n",
                        "not_fast_forward.node('A', shape='circle', label='A', color='blue')\n",
                        "not_fast_forward.node('B', shape='circle', label='B', color='blue')\n",
                        "not_fast_forward.node('C', shape='circle', label='C', color='blue')\n",
                        "not_fast_forward.node('D', shape='circle', label='D', color='blue')\n",
                        "not_fast_forward.node('E', shape='circle', label='E', color='blue')\n",
                        "\n",
                        "# Agregar nodos (pelotas) X e Y en la rama secundaria\n",
                        "orin.node('X', shape='circle', label='X', color='green')\n",
                        "orin.node('Y', shape='circle', label='Y', color='green')\n",
                        "not_fast_forward.node('X', shape='circle', label='X', color='green')\n",
                        "not_fast_forward.node('Y', shape='circle', label='Y', color='green')\n",
                        "\n",
                        "# Agregar nodo (pelota) M en la rama principal\n",
                        "not_fast_forward.node('M', shape='circle', label='M', color='magenta')\n",
                        "\n",
                        "# Agregar flechas entre los nodos en la rama principal\n",
                        "orin.edges(['AB', 'BC', 'CD'])\n",
                        "orin.edge('D', 'E', color='transparent')  # Hacer la flecha de C a D transparente\n",
                        "not_fast_forward.edges(['AB', 'BC', 'CD', 'DE'])\n",
                        "\n",
                        "# Agregar flechas entre los nodos en la rama secundaria\n",
                        "orin.edges(['DX', 'XY'])\n",
                        "not_fast_forward.edges(['DX', 'XY', 'YM'])\n",
                        "\n",
                        "# Agregar flechas de la rama principal al nodo M\n",
                        "not_fast_forward.edge('E', 'M')\n",
                        "\n",
                        "# Mostrar el diagrama de flujo en la celda de código de Jupyter Notebook\n",
                        "display(orin)\n",
                        "display(not_fast_forward)"
                  ]
            },
            {
                  "cell_type": "markdown",
                  "metadata": {},
                  "source": [
                        "Vamos primeiro verificar se estamos no ramo principal."
                  ]
            },
            {
                  "cell_type": "code",
                  "execution_count": 146,
                  "metadata": {},
                  "outputs": [
                        {
                              "name": "stdout",
                              "output_type": "stream",
                              "text": [
                                    "main\n"
                              ]
                        }
                  ],
                  "source": [
                        "!cd notebook_git && git branch --show-current"
                  ]
            },
            {
                  "cell_type": "markdown",
                  "metadata": {},
                  "source": [
                        "Criamos um novo ramo"
                  ]
            },
            {
                  "cell_type": "code",
                  "execution_count": 147,
                  "metadata": {},
                  "outputs": [],
                  "source": [
                        "!cd notebook_git && git branch branch_no_fast_forward"
                  ]
            },
            {
                  "cell_type": "markdown",
                  "metadata": {},
                  "source": [
                        "Nós mudamos para ele"
                  ]
            },
            {
                  "cell_type": "code",
                  "execution_count": 148,
                  "metadata": {},
                  "outputs": [
                        {
                              "name": "stdout",
                              "output_type": "stream",
                              "text": [
                                    "Cambiado a rama 'branch_no_fast_forward'\n"
                              ]
                        }
                  ],
                  "source": [
                        "!cd notebook_git && git switch branch_no_fast_forward"
                  ]
            },
            {
                  "cell_type": "code",
                  "execution_count": 149,
                  "metadata": {},
                  "outputs": [
                        {
                              "name": "stdout",
                              "output_type": "stream",
                              "text": [
                                    "branch_no_fast_forward\n"
                              ]
                        }
                  ],
                  "source": [
                        "!cd notebook_git && git branch --show-current"
                  ]
            },
            {
                  "cell_type": "markdown",
                  "metadata": {},
                  "source": [
                        "OK, estamos em um ramo criado a partir do ramo principal com todo o seu histórico, fazemos dois novos compromissos"
                  ]
            },
            {
                  "cell_type": "code",
                  "execution_count": 150,
                  "metadata": {},
                  "outputs": [
                        {
                              "name": "stdout",
                              "output_type": "stream",
                              "text": [
                                    "[branch_no_fast_forward e4e23c9] file1\n",
                                    " 1 file changed, 0 insertions(+), 0 deletions(-)\n",
                                    " create mode 100644 file1\n"
                              ]
                        }
                  ],
                  "source": [
                        "!cd notebook_git && touch file1 && git add file1 && git commit -m \"file1\""
                  ]
            },
            {
                  "cell_type": "code",
                  "execution_count": 151,
                  "metadata": {},
                  "outputs": [
                        {
                              "name": "stdout",
                              "output_type": "stream",
                              "text": [
                                    "[branch_no_fast_forward 8df3429] file2\n",
                                    " 1 file changed, 0 insertions(+), 0 deletions(-)\n",
                                    " create mode 100644 file2\n"
                              ]
                        }
                  ],
                  "source": [
                        "!cd notebook_git && touch file2 && git add file2 && git commit -m \"file2\""
                  ]
            },
            {
                  "cell_type": "markdown",
                  "metadata": {},
                  "source": [
                        "Fazemos um novo registro para ver que neste novo ramo foram criados"
                  ]
            },
            {
                  "cell_type": "code",
                  "execution_count": 152,
                  "metadata": {},
                  "outputs": [
                        {
                              "name": "stdout",
                              "output_type": "stream",
                              "text": [
                                    "* \u001b[33m8df3429\u001b[m\u001b[33m (\u001b[m\u001b[1;36mHEAD -> \u001b[m\u001b[1;32mbranch_no_fast_forward\u001b[m\u001b[33m)\u001b[m file2\n",
                                    "* \u001b[33me4e23c9\u001b[m file1\n",
                                    "* \u001b[33m94149fc\u001b[m\u001b[33m (\u001b[m\u001b[1;32mmain\u001b[m\u001b[33m, \u001b[m\u001b[1;32mbranch_fast_forward\u001b[m\u001b[33m)\u001b[m Eliminado hola.py\n",
                                    "* \u001b[33m4484e70\u001b[m Eliminado archivo4.py\n",
                                    "* \u001b[33m564ccfb\u001b[m\u001b[33m (\u001b[m\u001b[1;32mnew_branch2\u001b[m\u001b[33m)\u001b[m Commit con el archivo 8\n",
                                    "* \u001b[33m5168f78\u001b[m Eliminado archivo7.py\n",
                                    "* \u001b[33m4bb9d75\u001b[m\u001b[33m (\u001b[m\u001b[1;32mnew_branch\u001b[m\u001b[33m)\u001b[m Commit con el archivo 7\n",
                                    "* \u001b[33mea615a9\u001b[m Eliminado archivo5.py\n",
                                    "* \u001b[33me3153a5\u001b[m Commit con los archivos 4 y 5\n",
                                    "* \u001b[33m0b09cfa\u001b[m Añadido .gitignore\n",
                                    "* \u001b[33m04ebd1f\u001b[m Commit con los archivos 1 y 2\n",
                                    "* \u001b[33mc4930d7\u001b[m Tercer commit, hola.py\n",
                                    "* \u001b[33m6e99e73\u001b[m Segundo commit, hola.py\n",
                                    "* \u001b[33m1c95e4f\u001b[m Primer commit, hola.py\n"
                              ]
                        }
                  ],
                  "source": [
                        "!cd notebook_git && git log --graph --oneline --decorate"
                  ]
            },
            {
                  "cell_type": "markdown",
                  "metadata": {},
                  "source": [
                        "Como podemos ver, os dois últimos compromissos são os que criamos e podemos verificar se esses compromissos não estão no ramo principal (para isso especifico fazê-lo no ramo \"principal\")."
                  ]
            },
            {
                  "cell_type": "code",
                  "execution_count": 153,
                  "metadata": {},
                  "outputs": [
                        {
                              "name": "stdout",
                              "output_type": "stream",
                              "text": [
                                    "* \u001b[33m94149fc\u001b[m\u001b[33m (\u001b[m\u001b[1;32mmain\u001b[m\u001b[33m, \u001b[m\u001b[1;32mbranch_fast_forward\u001b[m\u001b[33m)\u001b[m Eliminado hola.py\n",
                                    "* \u001b[33m4484e70\u001b[m Eliminado archivo4.py\n",
                                    "* \u001b[33m564ccfb\u001b[m\u001b[33m (\u001b[m\u001b[1;32mnew_branch2\u001b[m\u001b[33m)\u001b[m Commit con el archivo 8\n",
                                    "* \u001b[33m5168f78\u001b[m Eliminado archivo7.py\n",
                                    "* \u001b[33m4bb9d75\u001b[m\u001b[33m (\u001b[m\u001b[1;32mnew_branch\u001b[m\u001b[33m)\u001b[m Commit con el archivo 7\n",
                                    "* \u001b[33mea615a9\u001b[m Eliminado archivo5.py\n",
                                    "* \u001b[33me3153a5\u001b[m Commit con los archivos 4 y 5\n",
                                    "* \u001b[33m0b09cfa\u001b[m Añadido .gitignore\n",
                                    "* \u001b[33m04ebd1f\u001b[m Commit con los archivos 1 y 2\n",
                                    "* \u001b[33mc4930d7\u001b[m Tercer commit, hola.py\n",
                                    "* \u001b[33m6e99e73\u001b[m Segundo commit, hola.py\n",
                                    "* \u001b[33m1c95e4f\u001b[m Primer commit, hola.py\n"
                              ]
                        }
                  ],
                  "source": [
                        "!cd notebook_git && git log main --graph --oneline --decorate"
                  ]
            },
            {
                  "attachments": {},
                  "cell_type": "markdown",
                  "metadata": {},
                  "source": [
                        "Agora vamos para a filial \"principal\"."
                  ]
            },
            {
                  "cell_type": "code",
                  "execution_count": 154,
                  "metadata": {},
                  "outputs": [
                        {
                              "name": "stdout",
                              "output_type": "stream",
                              "text": [
                                    "Cambiado a rama 'main'\n"
                              ]
                        }
                  ],
                  "source": [
                        "!cd notebook_git && git switch main"
                  ]
            },
            {
                  "attachments": {},
                  "cell_type": "markdown",
                  "metadata": {},
                  "source": [
                        "Criamos um novo compromisso"
                  ]
            },
            {
                  "cell_type": "code",
                  "execution_count": 155,
                  "metadata": {},
                  "outputs": [
                        {
                              "name": "stdout",
                              "output_type": "stream",
                              "text": [
                                    "[main 8bdf4d8] file3\n",
                                    " 1 file changed, 0 insertions(+), 0 deletions(-)\n",
                                    " create mode 100644 file3\n"
                              ]
                        }
                  ],
                  "source": [
                        "!cd notebook_git && touch file3 && git add file3 && git commit -m \"file3\""
                  ]
            },
            {
                  "attachments": {},
                  "cell_type": "markdown",
                  "metadata": {},
                  "source": [
                        "Por fim, fazemos a fusão \"no fast forward\"."
                  ]
            },
            {
                  "cell_type": "code",
                  "execution_count": 152,
                  "metadata": {},
                  "outputs": [
                        {
                              "name": "stdout",
                              "output_type": "stream",
                              "text": [
                                    "\u001b[2B\u001b[m\u001b[mommit. comenzando con '#' serán ignoradas, y un mensaje vacío abortasaria esta\u001b[m\u001b[7m>\u001b[4;1H\u001b[m\u001b[36m# especialmente si esto fusiona un upstream actualizado en una rama de tópico. /home/wallabot/Documentos/web/portafolio/posts/notebook_git/.git/MERGE_MSG   \u001b[1;79H\u001b[m\u001b[22;16H\u001b[7m[ línea 1/7 (14%), col 1/48 (2%), car 0/301 (0%) ]\u001b[m\u001b[22;16H             \u001b[7m[ Párrafo justificado ]\u001b[m\u001b[K\u001b[H\u001b[7m...llabot/Documentos/web/portafolio/posts/notebook_git/.git/MERGE_MSG Modificado\u001b[1;80H\u001b[m"
                              ]
                        }
                  ],
                  "source": [
                        "!cd notebook_git && git merge branch_no_fast_forward --no-ff"
                  ]
            },
            {
                  "attachments": {},
                  "cell_type": "markdown",
                  "metadata": {},
                  "source": [
                        "Como podemos ver, ele abre o editor para inserir uma mensagem de compromisso e uma mensagem padrão. Aceitamos a mensagem e vemos o que aconteceu"
                  ]
            },
            {
                  "cell_type": "code",
                  "execution_count": 156,
                  "metadata": {},
                  "outputs": [
                        {
                              "name": "stdout",
                              "output_type": "stream",
                              "text": [
                                    "En la rama main\n",
                                    "nada para hacer commit, el árbol de trabajo está limpio\n"
                              ]
                        }
                  ],
                  "source": [
                        "!cd notebook_git && git status"
                  ]
            },
            {
                  "cell_type": "code",
                  "execution_count": 157,
                  "metadata": {},
                  "outputs": [
                        {
                              "name": "stdout",
                              "output_type": "stream",
                              "text": [
                                    "*   \u001b[33m274529c\u001b[m\u001b[33m (\u001b[m\u001b[1;36mHEAD -> \u001b[m\u001b[1;32mmain\u001b[m\u001b[33m)\u001b[m Merge branch 'branch_no_fast_forward' into main\n",
                                    "\u001b[31m|\u001b[m\u001b[32m\\\u001b[m  \n",
                                    "\u001b[31m|\u001b[m * \u001b[33m8df3429\u001b[m\u001b[33m (\u001b[m\u001b[1;32mbranch_no_fast_forward\u001b[m\u001b[33m)\u001b[m file2\n",
                                    "\u001b[31m|\u001b[m * \u001b[33me4e23c9\u001b[m file1\n",
                                    "* \u001b[32m|\u001b[m \u001b[33m8bdf4d8\u001b[m file3\n",
                                    "\u001b[32m|\u001b[m\u001b[32m/\u001b[m  \n",
                                    "* \u001b[33m94149fc\u001b[m\u001b[33m (\u001b[m\u001b[1;32mbranch_fast_forward\u001b[m\u001b[33m)\u001b[m Eliminado hola.py\n",
                                    "* \u001b[33m4484e70\u001b[m Eliminado archivo4.py\n",
                                    "* \u001b[33m564ccfb\u001b[m\u001b[33m (\u001b[m\u001b[1;32mnew_branch2\u001b[m\u001b[33m)\u001b[m Commit con el archivo 8\n",
                                    "* \u001b[33m5168f78\u001b[m Eliminado archivo7.py\n",
                                    "* \u001b[33m4bb9d75\u001b[m\u001b[33m (\u001b[m\u001b[1;32mnew_branch\u001b[m\u001b[33m)\u001b[m Commit con el archivo 7\n",
                                    "* \u001b[33mea615a9\u001b[m Eliminado archivo5.py\n",
                                    "* \u001b[33me3153a5\u001b[m Commit con los archivos 4 y 5\n",
                                    "* \u001b[33m0b09cfa\u001b[m Añadido .gitignore\n",
                                    "* \u001b[33m04ebd1f\u001b[m Commit con los archivos 1 y 2\n",
                                    "* \u001b[33mc4930d7\u001b[m Tercer commit, hola.py\n",
                                    "* \u001b[33m6e99e73\u001b[m Segundo commit, hola.py\n",
                                    "* \u001b[33m1c95e4f\u001b[m Primer commit, hola.py\n"
                              ]
                        }
                  ],
                  "source": [
                        "!cd notebook_git && git log --graph --oneline --decorate"
                  ]
            },
            {
                  "cell_type": "code",
                  "execution_count": 158,
                  "metadata": {},
                  "outputs": [
                        {
                              "name": "stdout",
                              "output_type": "stream",
                              "text": [
                                    "api_keys.py  archivo1.py  archivo2.py  archivo8.py  file1  file2  file3\n"
                              ]
                        }
                  ],
                  "source": [
                        "!cd notebook_git && ls"
                  ]
            },
            {
                  "attachments": {},
                  "cell_type": "markdown",
                  "metadata": {},
                  "source": [
                        "Como podemos ver, foi criado um novo compromisso com as mudanças do novo ramo no ramo principal."
                  ]
            },
            {
                  "attachments": {},
                  "cell_type": "markdown",
                  "metadata": {},
                  "source": [
                        "#### Squash"
                  ]
            },
            {
                  "attachments": {},
                  "cell_type": "markdown",
                  "metadata": {},
                  "source": [
                        "Neste tipo de fusão, todos os compromissos de um novo ramo são fundidos em um único compromisso no ramo principal, para isto digitamos `git merge <branch> --squash`."
                  ]
            },
            {
                  "cell_type": "code",
                  "execution_count": 159,
                  "metadata": {},
                  "outputs": [
                        {
                              "data": {
                                    "image/svg+xml": [
                                          "<?xml version=\"1.0\" encoding=\"UTF-8\" standalone=\"no\"?>\n",
                                          "<!DOCTYPE svg PUBLIC \"-//W3C//DTD SVG 1.1//EN\"\n",
                                          " \"http://www.w3.org/Graphics/SVG/1.1/DTD/svg11.dtd\">\n",
                                          "<!-- Generated by graphviz version 2.43.0 (0)\n",
                                          " -->\n",
                                          "<!-- Title: G Pages: 1 -->\n",
                                          "<svg width=\"404pt\" height=\"98pt\"\n",
                                          " viewBox=\"0.00 0.00 404.40 98.00\" xmlns=\"http://www.w3.org/2000/svg\" xmlns:xlink=\"http://www.w3.org/1999/xlink\">\n",
                                          "<g id=\"graph0\" class=\"graph\" transform=\"scale(1 1) rotate(0) translate(4 94)\">\n",
                                          "<title>G</title>\n",
                                          "<polygon fill=\"white\" stroke=\"transparent\" points=\"-4,4 -4,-94 400.4,-94 400.4,4 -4,4\"/>\n",
                                          "<!-- A -->\n",
                                          "<g id=\"node1\" class=\"node\">\n",
                                          "<title>A</title>\n",
                                          "<ellipse fill=\"none\" stroke=\"blue\" cx=\"18\" cy=\"-45\" rx=\"18\" ry=\"18\"/>\n",
                                          "<text text-anchor=\"middle\" x=\"18\" y=\"-41.3\" font-family=\"Times,serif\" font-size=\"14.00\">A</text>\n",
                                          "</g>\n",
                                          "<!-- B -->\n",
                                          "<g id=\"node2\" class=\"node\">\n",
                                          "<title>B</title>\n",
                                          "<ellipse fill=\"none\" stroke=\"blue\" cx=\"90\" cy=\"-45\" rx=\"18\" ry=\"18\"/>\n",
                                          "<text text-anchor=\"middle\" x=\"90\" y=\"-41.3\" font-family=\"Times,serif\" font-size=\"14.00\">B</text>\n",
                                          "</g>\n",
                                          "<!-- A&#45;&gt;B -->\n",
                                          "<g id=\"edge1\" class=\"edge\">\n",
                                          "<title>A&#45;&gt;B</title>\n",
                                          "<path fill=\"none\" stroke=\"black\" d=\"M36.3,-45C44.02,-45 53.29,-45 61.89,-45\"/>\n",
                                          "<polygon fill=\"black\" stroke=\"black\" points=\"61.9,-48.5 71.9,-45 61.9,-41.5 61.9,-48.5\"/>\n",
                                          "</g>\n",
                                          "<!-- C -->\n",
                                          "<g id=\"node3\" class=\"node\">\n",
                                          "<title>C</title>\n",
                                          "<ellipse fill=\"none\" stroke=\"blue\" cx=\"162\" cy=\"-45\" rx=\"18\" ry=\"18\"/>\n",
                                          "<text text-anchor=\"middle\" x=\"162\" y=\"-41.3\" font-family=\"Times,serif\" font-size=\"14.00\">C</text>\n",
                                          "</g>\n",
                                          "<!-- B&#45;&gt;C -->\n",
                                          "<g id=\"edge2\" class=\"edge\">\n",
                                          "<title>B&#45;&gt;C</title>\n",
                                          "<path fill=\"none\" stroke=\"black\" d=\"M108.3,-45C116.02,-45 125.29,-45 133.89,-45\"/>\n",
                                          "<polygon fill=\"black\" stroke=\"black\" points=\"133.9,-48.5 143.9,-45 133.9,-41.5 133.9,-48.5\"/>\n",
                                          "</g>\n",
                                          "<!-- D -->\n",
                                          "<g id=\"node4\" class=\"node\">\n",
                                          "<title>D</title>\n",
                                          "<ellipse fill=\"none\" stroke=\"blue\" cx=\"234.2\" cy=\"-45\" rx=\"18.4\" ry=\"18.4\"/>\n",
                                          "<text text-anchor=\"middle\" x=\"234.2\" y=\"-41.3\" font-family=\"Times,serif\" font-size=\"14.00\">D</text>\n",
                                          "</g>\n",
                                          "<!-- C&#45;&gt;D -->\n",
                                          "<g id=\"edge3\" class=\"edge\">\n",
                                          "<title>C&#45;&gt;D</title>\n",
                                          "<path fill=\"none\" stroke=\"black\" d=\"M180.35,-45C187.89,-45 196.91,-45 205.34,-45\"/>\n",
                                          "<polygon fill=\"black\" stroke=\"black\" points=\"205.56,-48.5 215.56,-45 205.56,-41.5 205.56,-48.5\"/>\n",
                                          "</g>\n",
                                          "<!-- E -->\n",
                                          "<g id=\"node5\" class=\"node\">\n",
                                          "<title>E</title>\n",
                                          "<ellipse fill=\"none\" stroke=\"transparent\" cx=\"306.4\" cy=\"-72\" rx=\"18\" ry=\"18\"/>\n",
                                          "</g>\n",
                                          "<!-- D&#45;&gt;E -->\n",
                                          "<g id=\"edge4\" class=\"edge\">\n",
                                          "<title>D&#45;&gt;E</title>\n",
                                          "<path fill=\"none\" stroke=\"transparent\" d=\"M251.48,-51.26C259.9,-54.5 270.36,-58.53 279.83,-62.17\"/>\n",
                                          "<polygon fill=\"transparent\" stroke=\"transparent\" points=\"278.61,-65.45 289.2,-65.77 281.13,-58.92 278.61,-65.45\"/>\n",
                                          "</g>\n",
                                          "<!-- X -->\n",
                                          "<g id=\"node6\" class=\"node\">\n",
                                          "<title>X</title>\n",
                                          "<ellipse fill=\"none\" stroke=\"green\" cx=\"306.4\" cy=\"-18\" rx=\"18\" ry=\"18\"/>\n",
                                          "<text text-anchor=\"middle\" x=\"306.4\" y=\"-14.3\" font-family=\"Times,serif\" font-size=\"14.00\">X</text>\n",
                                          "</g>\n",
                                          "<!-- D&#45;&gt;X -->\n",
                                          "<g id=\"edge5\" class=\"edge\">\n",
                                          "<title>D&#45;&gt;X</title>\n",
                                          "<path fill=\"none\" stroke=\"black\" d=\"M251.48,-38.74C259.9,-35.5 270.36,-31.47 279.83,-27.83\"/>\n",
                                          "<polygon fill=\"black\" stroke=\"black\" points=\"281.13,-31.08 289.2,-24.23 278.61,-24.55 281.13,-31.08\"/>\n",
                                          "</g>\n",
                                          "<!-- Y -->\n",
                                          "<g id=\"node7\" class=\"node\">\n",
                                          "<title>Y</title>\n",
                                          "<ellipse fill=\"none\" stroke=\"green\" cx=\"378.4\" cy=\"-18\" rx=\"18\" ry=\"18\"/>\n",
                                          "<text text-anchor=\"middle\" x=\"378.4\" y=\"-14.3\" font-family=\"Times,serif\" font-size=\"14.00\">Y</text>\n",
                                          "</g>\n",
                                          "<!-- X&#45;&gt;Y -->\n",
                                          "<g id=\"edge6\" class=\"edge\">\n",
                                          "<title>X&#45;&gt;Y</title>\n",
                                          "<path fill=\"none\" stroke=\"black\" d=\"M324.7,-18C332.41,-18 341.68,-18 350.28,-18\"/>\n",
                                          "<polygon fill=\"black\" stroke=\"black\" points=\"350.29,-21.5 360.29,-18 350.29,-14.5 350.29,-21.5\"/>\n",
                                          "</g>\n",
                                          "</g>\n",
                                          "</svg>\n"
                                    ],
                                    "text/plain": [
                                          "<graphviz.graphs.Digraph at 0x7f58f80e6470>"
                                    ]
                              },
                              "metadata": {},
                              "output_type": "display_data"
                        },
                        {
                              "data": {
                                    "image/svg+xml": [
                                          "<?xml version=\"1.0\" encoding=\"UTF-8\" standalone=\"no\"?>\n",
                                          "<!DOCTYPE svg PUBLIC \"-//W3C//DTD SVG 1.1//EN\"\n",
                                          " \"http://www.w3.org/Graphics/SVG/1.1/DTD/svg11.dtd\">\n",
                                          "<!-- Generated by graphviz version 2.43.0 (0)\n",
                                          " -->\n",
                                          "<!-- Title: G Pages: 1 -->\n",
                                          "<svg width=\"337pt\" height=\"48pt\"\n",
                                          " viewBox=\"0.00 0.00 336.69 48.30\" xmlns=\"http://www.w3.org/2000/svg\" xmlns:xlink=\"http://www.w3.org/1999/xlink\">\n",
                                          "<g id=\"graph0\" class=\"graph\" transform=\"scale(1 1) rotate(0) translate(4 44.3)\">\n",
                                          "<title>G</title>\n",
                                          "<polygon fill=\"white\" stroke=\"transparent\" points=\"-4,4 -4,-44.3 332.69,-44.3 332.69,4 -4,4\"/>\n",
                                          "<!-- A -->\n",
                                          "<g id=\"node1\" class=\"node\">\n",
                                          "<title>A</title>\n",
                                          "<ellipse fill=\"none\" stroke=\"blue\" cx=\"18\" cy=\"-20.15\" rx=\"18\" ry=\"18\"/>\n",
                                          "<text text-anchor=\"middle\" x=\"18\" y=\"-16.45\" font-family=\"Times,serif\" font-size=\"14.00\">A</text>\n",
                                          "</g>\n",
                                          "<!-- B -->\n",
                                          "<g id=\"node2\" class=\"node\">\n",
                                          "<title>B</title>\n",
                                          "<ellipse fill=\"none\" stroke=\"blue\" cx=\"90\" cy=\"-20.15\" rx=\"18\" ry=\"18\"/>\n",
                                          "<text text-anchor=\"middle\" x=\"90\" y=\"-16.45\" font-family=\"Times,serif\" font-size=\"14.00\">B</text>\n",
                                          "</g>\n",
                                          "<!-- A&#45;&gt;B -->\n",
                                          "<g id=\"edge1\" class=\"edge\">\n",
                                          "<title>A&#45;&gt;B</title>\n",
                                          "<path fill=\"none\" stroke=\"black\" d=\"M36.3,-20.15C44.02,-20.15 53.29,-20.15 61.89,-20.15\"/>\n",
                                          "<polygon fill=\"black\" stroke=\"black\" points=\"61.9,-23.65 71.9,-20.15 61.9,-16.65 61.9,-23.65\"/>\n",
                                          "</g>\n",
                                          "<!-- C -->\n",
                                          "<g id=\"node3\" class=\"node\">\n",
                                          "<title>C</title>\n",
                                          "<ellipse fill=\"none\" stroke=\"blue\" cx=\"162\" cy=\"-20.15\" rx=\"18\" ry=\"18\"/>\n",
                                          "<text text-anchor=\"middle\" x=\"162\" y=\"-16.45\" font-family=\"Times,serif\" font-size=\"14.00\">C</text>\n",
                                          "</g>\n",
                                          "<!-- B&#45;&gt;C -->\n",
                                          "<g id=\"edge2\" class=\"edge\">\n",
                                          "<title>B&#45;&gt;C</title>\n",
                                          "<path fill=\"none\" stroke=\"black\" d=\"M108.3,-20.15C116.02,-20.15 125.29,-20.15 133.89,-20.15\"/>\n",
                                          "<polygon fill=\"black\" stroke=\"black\" points=\"133.9,-23.65 143.9,-20.15 133.9,-16.65 133.9,-23.65\"/>\n",
                                          "</g>\n",
                                          "<!-- D -->\n",
                                          "<g id=\"node4\" class=\"node\">\n",
                                          "<title>D</title>\n",
                                          "<ellipse fill=\"none\" stroke=\"blue\" cx=\"234.2\" cy=\"-20.15\" rx=\"18.4\" ry=\"18.4\"/>\n",
                                          "<text text-anchor=\"middle\" x=\"234.2\" y=\"-16.45\" font-family=\"Times,serif\" font-size=\"14.00\">D</text>\n",
                                          "</g>\n",
                                          "<!-- C&#45;&gt;D -->\n",
                                          "<g id=\"edge3\" class=\"edge\">\n",
                                          "<title>C&#45;&gt;D</title>\n",
                                          "<path fill=\"none\" stroke=\"black\" d=\"M180.35,-20.15C187.89,-20.15 196.91,-20.15 205.34,-20.15\"/>\n",
                                          "<polygon fill=\"black\" stroke=\"black\" points=\"205.56,-23.65 215.56,-20.15 205.56,-16.65 205.56,-23.65\"/>\n",
                                          "</g>\n",
                                          "<!-- M -->\n",
                                          "<g id=\"node5\" class=\"node\">\n",
                                          "<title>M</title>\n",
                                          "<ellipse fill=\"none\" stroke=\"magenta\" cx=\"308.54\" cy=\"-20.15\" rx=\"20.3\" ry=\"20.3\"/>\n",
                                          "<text text-anchor=\"middle\" x=\"308.54\" y=\"-16.45\" font-family=\"Times,serif\" font-size=\"14.00\">M</text>\n",
                                          "</g>\n",
                                          "<!-- D&#45;&gt;M -->\n",
                                          "<g id=\"edge4\" class=\"edge\">\n",
                                          "<title>D&#45;&gt;M</title>\n",
                                          "<path fill=\"none\" stroke=\"black\" d=\"M252.71,-20.15C260.32,-20.15 269.45,-20.15 278.06,-20.15\"/>\n",
                                          "<polygon fill=\"black\" stroke=\"black\" points=\"278.16,-23.65 288.16,-20.15 278.16,-16.65 278.16,-23.65\"/>\n",
                                          "</g>\n",
                                          "</g>\n",
                                          "</svg>\n"
                                    ],
                                    "text/plain": [
                                          "<graphviz.graphs.Digraph at 0x7f58f80e6f80>"
                                    ]
                              },
                              "metadata": {},
                              "output_type": "display_data"
                        }
                  ],
                  "source": [
                        "### Este código é para criar o gráfico do ramo, não é necessário para o curso.\n",
                        "\n",
                        "import graphviz\n",
                        "\n",
                        "# Crear el gráfico con la dirección de las flechas de izquierda a derecha\n",
                        "orin = graphviz.Digraph('G', graph_attr={'rankdir': 'LR'})\n",
                        "squash = graphviz.Digraph('G', graph_attr={'rankdir': 'LR'})\n",
                        "\n",
                        "# Agregar nodos (pelotas) A, B, C y D en la rama principal\n",
                        "orin.node('A', shape='circle', label='A', color='blue')\n",
                        "orin.node('B', shape='circle', label='B', color='blue')\n",
                        "orin.node('C', shape='circle', label='C', color='blue')\n",
                        "orin.node('D', shape='circle', label='D', color='blue')\n",
                        "orin.node('E', shape='circle', label='', color='transparent')\n",
                        "squash.node('A', shape='circle', label='A', color='blue')\n",
                        "squash.node('B', shape='circle', label='B', color='blue')\n",
                        "squash.node('C', shape='circle', label='C', color='blue')\n",
                        "squash.node('D', shape='circle', label='D', color='blue')\n",
                        "\n",
                        "# Agregar nodos (pelotas) X e Y en la rama secundaria\n",
                        "orin.node('X', shape='circle', label='X', color='green')\n",
                        "orin.node('Y', shape='circle', label='Y', color='green')\n",
                        "\n",
                        "# Agregar nodo (pelota) M en la rama principal\n",
                        "squash.node('M', shape='circle', label='M', color='magenta')\n",
                        "\n",
                        "# Agregar flechas entre los nodos en la rama principal\n",
                        "orin.edges(['AB', 'BC', 'CD'])\n",
                        "orin.edge('D', 'E', color='transparent')  # Hacer la flecha de C a D transparente\n",
                        "squash.edges(['AB', 'BC', 'CD', 'DM'])\n",
                        "\n",
                        "# Agregar flechas entre los nodos en la rama secundaria\n",
                        "orin.edges(['DX', 'XY'])\n",
                        "\n",
                        "# Mostrar el diagrama de flujo en la celda de código de Jupyter Notebook\n",
                        "display(orin)\n",
                        "display(squash)"
                  ]
            },
            {
                  "cell_type": "markdown",
                  "metadata": {},
                  "source": [
                        "Vamos primeiro verificar se estamos no ramo principal."
                  ]
            },
            {
                  "cell_type": "code",
                  "execution_count": 160,
                  "metadata": {},
                  "outputs": [
                        {
                              "name": "stdout",
                              "output_type": "stream",
                              "text": [
                                    "main\n"
                              ]
                        }
                  ],
                  "source": [
                        "!cd notebook_git && git branch --show-current"
                  ]
            },
            {
                  "cell_type": "markdown",
                  "metadata": {},
                  "source": [
                        "Criamos um novo ramo"
                  ]
            },
            {
                  "cell_type": "code",
                  "execution_count": 161,
                  "metadata": {},
                  "outputs": [],
                  "source": [
                        "!cd notebook_git && git branch branch_squash"
                  ]
            },
            {
                  "cell_type": "markdown",
                  "metadata": {},
                  "source": [
                        "Nós mudamos para ele"
                  ]
            },
            {
                  "cell_type": "code",
                  "execution_count": 162,
                  "metadata": {},
                  "outputs": [
                        {
                              "name": "stdout",
                              "output_type": "stream",
                              "text": [
                                    "Cambiado a rama 'branch_squash'\n"
                              ]
                        }
                  ],
                  "source": [
                        "!cd notebook_git && git switch branch_squash"
                  ]
            },
            {
                  "cell_type": "code",
                  "execution_count": 163,
                  "metadata": {},
                  "outputs": [
                        {
                              "name": "stdout",
                              "output_type": "stream",
                              "text": [
                                    "branch_squash\n"
                              ]
                        }
                  ],
                  "source": [
                        "!cd notebook_git && git branch --show-current"
                  ]
            },
            {
                  "cell_type": "markdown",
                  "metadata": {},
                  "source": [
                        "Vamos dar uma olhada no tronco"
                  ]
            },
            {
                  "cell_type": "code",
                  "execution_count": 164,
                  "metadata": {},
                  "outputs": [
                        {
                              "name": "stdout",
                              "output_type": "stream",
                              "text": [
                                    "*   \u001b[33m274529c\u001b[m\u001b[33m (\u001b[m\u001b[1;36mHEAD -> \u001b[m\u001b[1;32mbranch_squash\u001b[m\u001b[33m, \u001b[m\u001b[1;32mmain\u001b[m\u001b[33m)\u001b[m Merge branch 'branch_no_fast_forward' into main\n",
                                    "\u001b[31m|\u001b[m\u001b[32m\\\u001b[m  \n",
                                    "\u001b[31m|\u001b[m * \u001b[33m8df3429\u001b[m\u001b[33m (\u001b[m\u001b[1;32mbranch_no_fast_forward\u001b[m\u001b[33m)\u001b[m file2\n",
                                    "\u001b[31m|\u001b[m * \u001b[33me4e23c9\u001b[m file1\n",
                                    "* \u001b[32m|\u001b[m \u001b[33m8bdf4d8\u001b[m file3\n",
                                    "\u001b[32m|\u001b[m\u001b[32m/\u001b[m  \n",
                                    "* \u001b[33m94149fc\u001b[m\u001b[33m (\u001b[m\u001b[1;32mbranch_fast_forward\u001b[m\u001b[33m)\u001b[m Eliminado hola.py\n",
                                    "* \u001b[33m4484e70\u001b[m Eliminado archivo4.py\n",
                                    "* \u001b[33m564ccfb\u001b[m\u001b[33m (\u001b[m\u001b[1;32mnew_branch2\u001b[m\u001b[33m)\u001b[m Commit con el archivo 8\n",
                                    "* \u001b[33m5168f78\u001b[m Eliminado archivo7.py\n",
                                    "* \u001b[33m4bb9d75\u001b[m\u001b[33m (\u001b[m\u001b[1;32mnew_branch\u001b[m\u001b[33m)\u001b[m Commit con el archivo 7\n",
                                    "* \u001b[33mea615a9\u001b[m Eliminado archivo5.py\n",
                                    "* \u001b[33me3153a5\u001b[m Commit con los archivos 4 y 5\n",
                                    "* \u001b[33m0b09cfa\u001b[m Añadido .gitignore\n",
                                    "* \u001b[33m04ebd1f\u001b[m Commit con los archivos 1 y 2\n",
                                    "* \u001b[33mc4930d7\u001b[m Tercer commit, hola.py\n",
                                    "* \u001b[33m6e99e73\u001b[m Segundo commit, hola.py\n",
                                    "* \u001b[33m1c95e4f\u001b[m Primer commit, hola.py\n"
                              ]
                        }
                  ],
                  "source": [
                        "!cd notebook_git && git log --graph --oneline --decorate --all"
                  ]
            },
            {
                  "attachments": {},
                  "cell_type": "markdown",
                  "metadata": {},
                  "source": [
                        "OK, estamos em um ramo criado a partir do ramo principal com todo o seu histórico de troncos, fazemos três novos compromissos"
                  ]
            },
            {
                  "cell_type": "code",
                  "execution_count": 165,
                  "metadata": {},
                  "outputs": [
                        {
                              "name": "stdout",
                              "output_type": "stream",
                              "text": [
                                    "rm 'file1'\n",
                                    "[branch_squash 767b632] Eliminado file1\n",
                                    " 1 file changed, 0 insertions(+), 0 deletions(-)\n",
                                    " delete mode 100644 file1\n"
                              ]
                        }
                  ],
                  "source": [
                        "!cd notebook_git && git rm file1 && git commit -am \"Eliminado file1\""
                  ]
            },
            {
                  "cell_type": "code",
                  "execution_count": 166,
                  "metadata": {},
                  "outputs": [
                        {
                              "name": "stdout",
                              "output_type": "stream",
                              "text": [
                                    "rm 'file2'\n",
                                    "[branch_squash a47f771] Eliminado file2\n",
                                    " 1 file changed, 0 insertions(+), 0 deletions(-)\n",
                                    " delete mode 100644 file2\n"
                              ]
                        }
                  ],
                  "source": [
                        "!cd notebook_git && git rm file2 && git commit -am \"Eliminado file2\""
                  ]
            },
            {
                  "cell_type": "code",
                  "execution_count": 167,
                  "metadata": {},
                  "outputs": [
                        {
                              "name": "stdout",
                              "output_type": "stream",
                              "text": [
                                    "rm 'file3'\n",
                                    "[branch_squash 85f8c9f] Eliminado file3\n",
                                    " 1 file changed, 0 insertions(+), 0 deletions(-)\n",
                                    " delete mode 100644 file3\n"
                              ]
                        }
                  ],
                  "source": [
                        "!cd notebook_git && git rm file3 && git commit -am \"Eliminado file3\""
                  ]
            },
            {
                  "cell_type": "markdown",
                  "metadata": {},
                  "source": [
                        "Fazemos um novo registro para ver que neste novo ramo foram criados"
                  ]
            },
            {
                  "cell_type": "code",
                  "execution_count": 168,
                  "metadata": {},
                  "outputs": [
                        {
                              "name": "stdout",
                              "output_type": "stream",
                              "text": [
                                    "* \u001b[33m85f8c9f\u001b[m\u001b[33m (\u001b[m\u001b[1;36mHEAD -> \u001b[m\u001b[1;32mbranch_squash\u001b[m\u001b[33m)\u001b[m Eliminado file3\n",
                                    "* \u001b[33ma47f771\u001b[m Eliminado file2\n",
                                    "* \u001b[33m767b632\u001b[m Eliminado file1\n",
                                    "*   \u001b[33m274529c\u001b[m\u001b[33m (\u001b[m\u001b[1;32mmain\u001b[m\u001b[33m)\u001b[m Merge branch 'branch_no_fast_forward' into main\n",
                                    "\u001b[32m|\u001b[m\u001b[33m\\\u001b[m  \n",
                                    "\u001b[32m|\u001b[m * \u001b[33m8df3429\u001b[m\u001b[33m (\u001b[m\u001b[1;32mbranch_no_fast_forward\u001b[m\u001b[33m)\u001b[m file2\n",
                                    "\u001b[32m|\u001b[m * \u001b[33me4e23c9\u001b[m file1\n",
                                    "* \u001b[33m|\u001b[m \u001b[33m8bdf4d8\u001b[m file3\n",
                                    "\u001b[33m|\u001b[m\u001b[33m/\u001b[m  \n",
                                    "* \u001b[33m94149fc\u001b[m\u001b[33m (\u001b[m\u001b[1;32mbranch_fast_forward\u001b[m\u001b[33m)\u001b[m Eliminado hola.py\n",
                                    "* \u001b[33m4484e70\u001b[m Eliminado archivo4.py\n",
                                    "* \u001b[33m564ccfb\u001b[m\u001b[33m (\u001b[m\u001b[1;32mnew_branch2\u001b[m\u001b[33m)\u001b[m Commit con el archivo 8\n",
                                    "* \u001b[33m5168f78\u001b[m Eliminado archivo7.py\n",
                                    "* \u001b[33m4bb9d75\u001b[m\u001b[33m (\u001b[m\u001b[1;32mnew_branch\u001b[m\u001b[33m)\u001b[m Commit con el archivo 7\n",
                                    "* \u001b[33mea615a9\u001b[m Eliminado archivo5.py\n",
                                    "* \u001b[33me3153a5\u001b[m Commit con los archivos 4 y 5\n",
                                    "* \u001b[33m0b09cfa\u001b[m Añadido .gitignore\n",
                                    "* \u001b[33m04ebd1f\u001b[m Commit con los archivos 1 y 2\n",
                                    "* \u001b[33mc4930d7\u001b[m Tercer commit, hola.py\n",
                                    "* \u001b[33m6e99e73\u001b[m Segundo commit, hola.py\n",
                                    "* \u001b[33m1c95e4f\u001b[m Primer commit, hola.py\n"
                              ]
                        }
                  ],
                  "source": [
                        "!cd notebook_git && git log --graph --oneline --decorate"
                  ]
            },
            {
                  "attachments": {},
                  "cell_type": "markdown",
                  "metadata": {},
                  "source": [
                        "Como podemos ver, os três últimos compromissos são os que criamos e podemos verificar se esses compromissos não estão no ramo principal (para isso especifico fazê-lo no ramo \"principal\")."
                  ]
            },
            {
                  "cell_type": "code",
                  "execution_count": 169,
                  "metadata": {},
                  "outputs": [
                        {
                              "name": "stdout",
                              "output_type": "stream",
                              "text": [
                                    "*   \u001b[33m274529c\u001b[m\u001b[33m (\u001b[m\u001b[1;32mmain\u001b[m\u001b[33m)\u001b[m Merge branch 'branch_no_fast_forward' into main\n",
                                    "\u001b[31m|\u001b[m\u001b[32m\\\u001b[m  \n",
                                    "\u001b[31m|\u001b[m * \u001b[33m8df3429\u001b[m\u001b[33m (\u001b[m\u001b[1;32mbranch_no_fast_forward\u001b[m\u001b[33m)\u001b[m file2\n",
                                    "\u001b[31m|\u001b[m * \u001b[33me4e23c9\u001b[m file1\n",
                                    "* \u001b[32m|\u001b[m \u001b[33m8bdf4d8\u001b[m file3\n",
                                    "\u001b[32m|\u001b[m\u001b[32m/\u001b[m  \n",
                                    "* \u001b[33m94149fc\u001b[m\u001b[33m (\u001b[m\u001b[1;32mbranch_fast_forward\u001b[m\u001b[33m)\u001b[m Eliminado hola.py\n",
                                    "* \u001b[33m4484e70\u001b[m Eliminado archivo4.py\n",
                                    "* \u001b[33m564ccfb\u001b[m\u001b[33m (\u001b[m\u001b[1;32mnew_branch2\u001b[m\u001b[33m)\u001b[m Commit con el archivo 8\n",
                                    "* \u001b[33m5168f78\u001b[m Eliminado archivo7.py\n",
                                    "* \u001b[33m4bb9d75\u001b[m\u001b[33m (\u001b[m\u001b[1;32mnew_branch\u001b[m\u001b[33m)\u001b[m Commit con el archivo 7\n",
                                    "* \u001b[33mea615a9\u001b[m Eliminado archivo5.py\n",
                                    "* \u001b[33me3153a5\u001b[m Commit con los archivos 4 y 5\n",
                                    "* \u001b[33m0b09cfa\u001b[m Añadido .gitignore\n",
                                    "* \u001b[33m04ebd1f\u001b[m Commit con los archivos 1 y 2\n",
                                    "* \u001b[33mc4930d7\u001b[m Tercer commit, hola.py\n",
                                    "* \u001b[33m6e99e73\u001b[m Segundo commit, hola.py\n",
                                    "* \u001b[33m1c95e4f\u001b[m Primer commit, hola.py\n"
                              ]
                        }
                  ],
                  "source": [
                        "!cd notebook_git && git log main --graph --oneline --decorate"
                  ]
            },
            {
                  "cell_type": "markdown",
                  "metadata": {},
                  "source": [
                        "Agora vamos para a filial \"principal\" para fazer a fusão."
                  ]
            },
            {
                  "cell_type": "code",
                  "execution_count": 170,
                  "metadata": {},
                  "outputs": [
                        {
                              "name": "stdout",
                              "output_type": "stream",
                              "text": [
                                    "Cambiado a rama 'main'\n"
                              ]
                        }
                  ],
                  "source": [
                        "!cd notebook_git && git switch main"
                  ]
            },
            {
                  "attachments": {},
                  "cell_type": "markdown",
                  "metadata": {},
                  "source": [
                        "Fazemos a fusão do squash"
                  ]
            },
            {
                  "cell_type": "code",
                  "execution_count": 171,
                  "metadata": {},
                  "outputs": [
                        {
                              "name": "stdout",
                              "output_type": "stream",
                              "text": [
                                    "Actualizando 274529c..85f8c9f\n",
                                    "Fast-forward\n",
                                    "Commit de aplastamiento -- no actualizando HEAD\n",
                                    " file1 | 0\n",
                                    " file2 | 0\n",
                                    " file3 | 0\n",
                                    " 3 files changed, 0 insertions(+), 0 deletions(-)\n",
                                    " delete mode 100644 file1\n",
                                    " delete mode 100644 file2\n",
                                    " delete mode 100644 file3\n"
                              ]
                        }
                  ],
                  "source": [
                        "!cd notebook_git && git merge branch_squash --squash"
                  ]
            },
            {
                  "cell_type": "markdown",
                  "metadata": {},
                  "source": [
                        "A fusão foi feita, vamos ver o que aconteceu com o tronco na filial \"principal\"."
                  ]
            },
            {
                  "cell_type": "code",
                  "execution_count": 172,
                  "metadata": {},
                  "outputs": [
                        {
                              "name": "stdout",
                              "output_type": "stream",
                              "text": [
                                    "*   \u001b[33m274529c\u001b[m\u001b[33m (\u001b[m\u001b[1;36mHEAD -> \u001b[m\u001b[1;32mmain\u001b[m\u001b[33m)\u001b[m Merge branch 'branch_no_fast_forward' into main\n",
                                    "\u001b[31m|\u001b[m\u001b[32m\\\u001b[m  \n",
                                    "\u001b[31m|\u001b[m * \u001b[33m8df3429\u001b[m\u001b[33m (\u001b[m\u001b[1;32mbranch_no_fast_forward\u001b[m\u001b[33m)\u001b[m file2\n",
                                    "\u001b[31m|\u001b[m * \u001b[33me4e23c9\u001b[m file1\n",
                                    "* \u001b[32m|\u001b[m \u001b[33m8bdf4d8\u001b[m file3\n",
                                    "\u001b[32m|\u001b[m\u001b[32m/\u001b[m  \n",
                                    "* \u001b[33m94149fc\u001b[m\u001b[33m (\u001b[m\u001b[1;32mbranch_fast_forward\u001b[m\u001b[33m)\u001b[m Eliminado hola.py\n",
                                    "* \u001b[33m4484e70\u001b[m Eliminado archivo4.py\n",
                                    "* \u001b[33m564ccfb\u001b[m\u001b[33m (\u001b[m\u001b[1;32mnew_branch2\u001b[m\u001b[33m)\u001b[m Commit con el archivo 8\n",
                                    "* \u001b[33m5168f78\u001b[m Eliminado archivo7.py\n",
                                    "* \u001b[33m4bb9d75\u001b[m\u001b[33m (\u001b[m\u001b[1;32mnew_branch\u001b[m\u001b[33m)\u001b[m Commit con el archivo 7\n",
                                    "* \u001b[33mea615a9\u001b[m Eliminado archivo5.py\n",
                                    "* \u001b[33me3153a5\u001b[m Commit con los archivos 4 y 5\n",
                                    "* \u001b[33m0b09cfa\u001b[m Añadido .gitignore\n",
                                    "* \u001b[33m04ebd1f\u001b[m Commit con los archivos 1 y 2\n",
                                    "* \u001b[33mc4930d7\u001b[m Tercer commit, hola.py\n",
                                    "* \u001b[33m6e99e73\u001b[m Segundo commit, hola.py\n",
                                    "* \u001b[33m1c95e4f\u001b[m Primer commit, hola.py\n"
                              ]
                        }
                  ],
                  "source": [
                        "!cd notebook_git && git log --graph --oneline --decorate"
                  ]
            },
            {
                  "attachments": {},
                  "cell_type": "markdown",
                  "metadata": {},
                  "source": [
                        "As mudanças feitas no ramo não aparecem, vamos fazer um \"status de crédito\"."
                  ]
            },
            {
                  "cell_type": "code",
                  "execution_count": 173,
                  "metadata": {},
                  "outputs": [
                        {
                              "name": "stdout",
                              "output_type": "stream",
                              "text": [
                                    "En la rama main\n",
                                    "Cambios a ser confirmados:\n",
                                    "  (usa \"git restore --staged <archivo>...\" para sacar del área de stage)\n",
                                    "\t\u001b[32mborrados:        file1\u001b[m\n",
                                    "\t\u001b[32mborrados:        file2\u001b[m\n",
                                    "\t\u001b[32mborrados:        file3\u001b[m\n",
                                    "\n"
                              ]
                        }
                  ],
                  "source": [
                        "!cd notebook_git && git status"
                  ]
            },
            {
                  "attachments": {},
                  "cell_type": "markdown",
                  "metadata": {},
                  "source": [
                        "Vemos que temos que nos comprometer com a fusão. Isto porque o idiota não sabe que mensagem colocar nela e deixa a nós a responsabilidade de fazê-lo, então nós o fazemos."
                  ]
            },
            {
                  "cell_type": "code",
                  "execution_count": 174,
                  "metadata": {},
                  "outputs": [
                        {
                              "name": "stdout",
                              "output_type": "stream",
                              "text": [
                                    "[main 52acb97] Merge squash de los commits de la rama branch_squash\n",
                                    " 3 files changed, 0 insertions(+), 0 deletions(-)\n",
                                    " delete mode 100644 file1\n",
                                    " delete mode 100644 file2\n",
                                    " delete mode 100644 file3\n"
                              ]
                        }
                  ],
                  "source": [
                        "!cd notebook_git && git commit -m \"Merge squash de los commits de la rama branch_squash\""
                  ]
            },
            {
                  "attachments": {},
                  "cell_type": "markdown",
                  "metadata": {},
                  "source": [
                        "Nós refizemos um \"log\"."
                  ]
            },
            {
                  "cell_type": "code",
                  "execution_count": 175,
                  "metadata": {},
                  "outputs": [
                        {
                              "name": "stdout",
                              "output_type": "stream",
                              "text": [
                                    "* \u001b[33m52acb97\u001b[m\u001b[33m (\u001b[m\u001b[1;36mHEAD -> \u001b[m\u001b[1;32mmain\u001b[m\u001b[33m)\u001b[m Merge squash de los commits de la rama branch_squash\n",
                                    "*   \u001b[33m274529c\u001b[m Merge branch 'branch_no_fast_forward' into main\n",
                                    "\u001b[32m|\u001b[m\u001b[33m\\\u001b[m  \n",
                                    "\u001b[32m|\u001b[m * \u001b[33m8df3429\u001b[m\u001b[33m (\u001b[m\u001b[1;32mbranch_no_fast_forward\u001b[m\u001b[33m)\u001b[m file2\n",
                                    "\u001b[32m|\u001b[m * \u001b[33me4e23c9\u001b[m file1\n",
                                    "* \u001b[33m|\u001b[m \u001b[33m8bdf4d8\u001b[m file3\n",
                                    "\u001b[33m|\u001b[m\u001b[33m/\u001b[m  \n",
                                    "* \u001b[33m94149fc\u001b[m\u001b[33m (\u001b[m\u001b[1;32mbranch_fast_forward\u001b[m\u001b[33m)\u001b[m Eliminado hola.py\n",
                                    "* \u001b[33m4484e70\u001b[m Eliminado archivo4.py\n",
                                    "* \u001b[33m564ccfb\u001b[m\u001b[33m (\u001b[m\u001b[1;32mnew_branch2\u001b[m\u001b[33m)\u001b[m Commit con el archivo 8\n",
                                    "* \u001b[33m5168f78\u001b[m Eliminado archivo7.py\n",
                                    "* \u001b[33m4bb9d75\u001b[m\u001b[33m (\u001b[m\u001b[1;32mnew_branch\u001b[m\u001b[33m)\u001b[m Commit con el archivo 7\n",
                                    "* \u001b[33mea615a9\u001b[m Eliminado archivo5.py\n",
                                    "* \u001b[33me3153a5\u001b[m Commit con los archivos 4 y 5\n",
                                    "* \u001b[33m0b09cfa\u001b[m Añadido .gitignore\n",
                                    "* \u001b[33m04ebd1f\u001b[m Commit con los archivos 1 y 2\n",
                                    "* \u001b[33mc4930d7\u001b[m Tercer commit, hola.py\n",
                                    "* \u001b[33m6e99e73\u001b[m Segundo commit, hola.py\n",
                                    "* \u001b[33m1c95e4f\u001b[m Primer commit, hola.py\n"
                              ]
                        }
                  ],
                  "source": [
                        "!cd notebook_git && git log --graph --oneline --decorate"
                  ]
            },
            {
                  "attachments": {},
                  "cell_type": "markdown",
                  "metadata": {},
                  "source": [
                        "### Conflitos de fusão"
                  ]
            },
            {
                  "attachments": {},
                  "cell_type": "markdown",
                  "metadata": {},
                  "source": [
                        "Ao fundir filiais, pode acontecer que o mesmo arquivo tenha sido modificado em várias filiais. Isto pode ser normal em projetos onde várias pessoas estão se desenvolvendo, então vamos ver como consertá-lo."
                  ]
            },
            {
                  "attachments": {},
                  "cell_type": "markdown",
                  "metadata": {},
                  "source": [
                        "#### Criamos um conflito"
                  ]
            },
            {
                  "attachments": {},
                  "cell_type": "markdown",
                  "metadata": {},
                  "source": [
                        "Verificamos que estamos no ramo \"principal\"."
                  ]
            },
            {
                  "cell_type": "code",
                  "execution_count": 176,
                  "metadata": {},
                  "outputs": [
                        {
                              "name": "stdout",
                              "output_type": "stream",
                              "text": [
                                    "main\n"
                              ]
                        }
                  ],
                  "source": [
                        "!cd notebook_git && git branch --show-current"
                  ]
            },
            {
                  "attachments": {},
                  "cell_type": "markdown",
                  "metadata": {},
                  "source": [
                        "Criamos um novo ramo a partir deste"
                  ]
            },
            {
                  "cell_type": "code",
                  "execution_count": 177,
                  "metadata": {},
                  "outputs": [],
                  "source": [
                        "!cd notebook_git && git branch rama_con_conflicto"
                  ]
            },
            {
                  "attachments": {},
                  "cell_type": "markdown",
                  "metadata": {},
                  "source": [
                        "Acrescentamos uma linha ao arquivo `file1.py`, lembrando que estamos no ramo `main`."
                  ]
            },
            {
                  "cell_type": "code",
                  "execution_count": 178,
                  "metadata": {},
                  "outputs": [],
                  "source": [
                        "!cd notebook_git && echo \"print('rama main')\" >> archivo1.py"
                  ]
            },
            {
                  "cell_type": "code",
                  "execution_count": 179,
                  "metadata": {},
                  "outputs": [
                        {
                              "name": "stdout",
                              "output_type": "stream",
                              "text": [
                                    "print('Este es el archivo 1')\n",
                                    "print('rama main')\n"
                              ]
                        }
                  ],
                  "source": [
                        "!cd notebook_git && cat archivo1.py"
                  ]
            },
            {
                  "attachments": {},
                  "cell_type": "markdown",
                  "metadata": {},
                  "source": [
                        "file1.py` é modificado, nós fazemos um compromisso"
                  ]
            },
            {
                  "cell_type": "code",
                  "execution_count": 180,
                  "metadata": {},
                  "outputs": [
                        {
                              "name": "stdout",
                              "output_type": "stream",
                              "text": [
                                    "[main 53f909b] archivo1.py en rama main\n",
                                    " 1 file changed, 1 insertion(+)\n"
                              ]
                        }
                  ],
                  "source": [
                        "!cd notebook_git && git add archivo1.py && git commit -m \"archivo1.py en rama main\""
                  ]
            },
            {
                  "attachments": {},
                  "cell_type": "markdown",
                  "metadata": {},
                  "source": [
                        "Agora vamos ao ramo `branch_with_conflict` e acrescentamos uma nova linha para `file1.py`."
                  ]
            },
            {
                  "cell_type": "code",
                  "execution_count": 181,
                  "metadata": {},
                  "outputs": [
                        {
                              "name": "stdout",
                              "output_type": "stream",
                              "text": [
                                    "Cambiado a rama 'rama_con_conflicto'\n"
                              ]
                        }
                  ],
                  "source": [
                        "!cd notebook_git && git switch rama_con_conflicto"
                  ]
            },
            {
                  "cell_type": "code",
                  "execution_count": 182,
                  "metadata": {},
                  "outputs": [
                        {
                              "name": "stdout",
                              "output_type": "stream",
                              "text": [
                                    "rama_con_conflicto\n"
                              ]
                        }
                  ],
                  "source": [
                        "!cd notebook_git && git branch --show-current"
                  ]
            },
            {
                  "cell_type": "code",
                  "execution_count": 183,
                  "metadata": {},
                  "outputs": [],
                  "source": [
                        "!cd notebook_git && echo \"print('rama rama_con_conflicto')\" >> archivo1.py"
                  ]
            },
            {
                  "cell_type": "code",
                  "execution_count": 184,
                  "metadata": {},
                  "outputs": [
                        {
                              "name": "stdout",
                              "output_type": "stream",
                              "text": [
                                    "print('Este es el archivo 1')\n",
                                    "print('rama rama_con_conflicto')\n"
                              ]
                        }
                  ],
                  "source": [
                        "!cd notebook_git && cat archivo1.py"
                  ]
            },
            {
                  "attachments": {},
                  "cell_type": "markdown",
                  "metadata": {},
                  "source": [
                        "Como podemos ver, o `file1.py` não é o mesmo no ramo `main` e no ramo `branch_with_conflict`. Comprometemos a modificação do `file1.py` para o ramo `branch_with_conflict`."
                  ]
            },
            {
                  "cell_type": "code",
                  "execution_count": 185,
                  "metadata": {},
                  "outputs": [
                        {
                              "name": "stdout",
                              "output_type": "stream",
                              "text": [
                                    "[rama_con_conflicto 32851c3] archivo1.py en rama rama_con_conflicto\n",
                                    " 1 file changed, 1 insertion(+)\n"
                              ]
                        }
                  ],
                  "source": [
                        "!cd notebook_git && git add archivo1.py && git commit -m \"archivo1.py en rama rama_con_conflicto\""
                  ]
            },
            {
                  "attachments": {},
                  "cell_type": "markdown",
                  "metadata": {},
                  "source": [
                        "Voltar para o ramo \"principal\"."
                  ]
            },
            {
                  "cell_type": "code",
                  "execution_count": 186,
                  "metadata": {},
                  "outputs": [
                        {
                              "name": "stdout",
                              "output_type": "stream",
                              "text": [
                                    "Cambiado a rama 'main'\n"
                              ]
                        }
                  ],
                  "source": [
                        "!cd notebook_git && git switch main"
                  ]
            },
            {
                  "cell_type": "code",
                  "execution_count": 187,
                  "metadata": {},
                  "outputs": [
                        {
                              "name": "stdout",
                              "output_type": "stream",
                              "text": [
                                    "main\n"
                              ]
                        }
                  ],
                  "source": [
                        "!cd notebook_git && git branch --show-current"
                  ]
            },
            {
                  "attachments": {},
                  "cell_type": "markdown",
                  "metadata": {},
                  "source": [
                        "Fundimos o ramo `branch_with_conflict`."
                  ]
            },
            {
                  "cell_type": "code",
                  "execution_count": 188,
                  "metadata": {},
                  "outputs": [
                        {
                              "name": "stdout",
                              "output_type": "stream",
                              "text": [
                                    "Auto-fusionando archivo1.py\n",
                                    "CONFLICTO (contenido): Conflicto de fusión en archivo1.py\n",
                                    "Fusión automática falló; arregle los conflictos y luego realice un commit con el resultado.\n"
                              ]
                        }
                  ],
                  "source": [
                        "!cd notebook_git && git merge rama_con_conflicto"
                  ]
            },
            {
                  "attachments": {},
                  "cell_type": "markdown",
                  "metadata": {},
                  "source": [
                        "Ao fazer a fusão, já estamos avisados de que existe um conflito no `file1.py` e que a fusão não poderia ser feita. Fazemos um \"status de idiota\"."
                  ]
            },
            {
                  "cell_type": "code",
                  "execution_count": 189,
                  "metadata": {},
                  "outputs": [
                        {
                              "name": "stdout",
                              "output_type": "stream",
                              "text": [
                                    "En la rama main\n",
                                    "Tienes rutas no fusionadas.\n",
                                    "  (arregla los conflictos y ejecuta \"git commit\"\n",
                                    "  (usa \"git merge --abort\" para abortar la fusion)\n",
                                    "\n",
                                    "Rutas no fusionadas:\n",
                                    "  (usa \"git add <archivo>...\" para marcar una resolución)\n",
                                    "\t\u001b[31mmodificados por ambos:  archivo1.py\u001b[m\n",
                                    "\n",
                                    "sin cambios agregados al commit (usa \"git add\" y/o \"git commit -a\")\n"
                              ]
                        }
                  ],
                  "source": [
                        "!cd notebook_git && git status"
                  ]
            },
            {
                  "attachments": {},
                  "cell_type": "markdown",
                  "metadata": {},
                  "source": [
                        "Ele nos diz a mesma coisa, mas nos dá mais informações, nos diz que podemos abortar a fusão com a \"git merge --abort\". Mas vamos consertar isso ao invés disso"
                  ]
            },
            {
                  "attachments": {},
                  "cell_type": "markdown",
                  "metadata": {},
                  "source": [
                        "#### Solução de um conflito"
                  ]
            },
            {
                  "attachments": {},
                  "cell_type": "markdown",
                  "metadata": {},
                  "source": [
                        "Em nosso caso, sabemos onde está o problema, mas caso não saibamos, utilizando a \"diferença\", podemos encontrar o problema."
                  ]
            },
            {
                  "cell_type": "code",
                  "execution_count": 190,
                  "metadata": {},
                  "outputs": [
                        {
                              "name": "stdout",
                              "output_type": "stream",
                              "text": [
                                    "\u001b[1mdiff --cc archivo1.py\u001b[m\n",
                                    "\u001b[1mindex 8b4bf58,b5c003c..0000000\u001b[m\n",
                                    "\u001b[1m--- a/archivo1.py\u001b[m\n",
                                    "\u001b[1m+++ b/archivo1.py\u001b[m\n",
                                    "\u001b[36m@@@ -1,2 -1,2 +1,6 @@@\u001b[m\n",
                                    "  print('Este es el archivo 1')\u001b[m\n",
                                    "\u001b[32m++<<<<<<< HEAD\u001b[m\n",
                                    "\u001b[32m +print('rama main')\u001b[m\n",
                                    "\u001b[32m++=======\u001b[m\n",
                                    "\u001b[32m+ print('rama rama_con_conflicto')\u001b[m\n",
                                    "\u001b[32m++>>>>>>> rama_con_conflicto\u001b[m\n"
                              ]
                        }
                  ],
                  "source": [
                        "!cd notebook_git && git diff archivo1.py"
                  ]
            },
            {
                  "attachments": {},
                  "cell_type": "markdown",
                  "metadata": {},
                  "source": [
                        "git diff está nos dizendo que o problema está na última linha. A versão do arquivo do ramo `HEAD` (onde estamos atualmente `main`) tem `impressão('ramo principal')` na última linha, enquanto a versão do ramo `branch_with_conflict` tem `impressão('ramo_with_conflict')` na última linha. Portanto, você tem que abrir o arquivo com qualquer editor e consertar isso."
                  ]
            },
            {
                  "attachments": {},
                  "cell_type": "markdown",
                  "metadata": {},
                  "source": [
                        "Depois de editar o arquivo com meu editor de código, removi todas as linhas extras e parece assim"
                  ]
            },
            {
                  "cell_type": "code",
                  "execution_count": 192,
                  "metadata": {},
                  "outputs": [
                        {
                              "name": "stdout",
                              "output_type": "stream",
                              "text": [
                                    "print('Este es el archivo 1')\n",
                                    "print('rama main')"
                              ]
                        }
                  ],
                  "source": [
                        "!cd notebook_git && cat archivo1.py"
                  ]
            },
            {
                  "attachments": {},
                  "cell_type": "markdown",
                  "metadata": {},
                  "source": [
                        "Agora fazemos um \"status de idiota\" para ver o que precisamos fazer."
                  ]
            },
            {
                  "cell_type": "code",
                  "execution_count": 193,
                  "metadata": {},
                  "outputs": [
                        {
                              "name": "stdout",
                              "output_type": "stream",
                              "text": [
                                    "En la rama main\n",
                                    "Tienes rutas no fusionadas.\n",
                                    "  (arregla los conflictos y ejecuta \"git commit\"\n",
                                    "  (usa \"git merge --abort\" para abortar la fusion)\n",
                                    "\n",
                                    "Rutas no fusionadas:\n",
                                    "  (usa \"git add <archivo>...\" para marcar una resolución)\n",
                                    "\t\u001b[31mmodificados por ambos:  archivo1.py\u001b[m\n",
                                    "\n",
                                    "sin cambios agregados al commit (usa \"git add\" y/o \"git commit -a\")\n"
                              ]
                        }
                  ],
                  "source": [
                        "!cd notebook_git && git status"
                  ]
            },
            {
                  "attachments": {},
                  "cell_type": "markdown",
                  "metadata": {},
                  "source": [
                        "Ele nos diz que temos o arquivo `file1.py` com modificações, então o adicionamos à área `staged` e depois o comprometemos."
                  ]
            },
            {
                  "cell_type": "code",
                  "execution_count": 194,
                  "metadata": {},
                  "outputs": [
                        {
                              "name": "stdout",
                              "output_type": "stream",
                              "text": [
                                    "[main 679bb49] archivo1.py con el merge resuelto\n"
                              ]
                        }
                  ],
                  "source": [
                        "!cd notebook_git && git add archivo1.py && git commit -m \"archivo1.py con el merge resuelto\""
                  ]
            },
            {
                  "attachments": {},
                  "cell_type": "markdown",
                  "metadata": {},
                  "source": [
                        "Fazemos novamente um \"status de idiota\" para ver se foi resolvido."
                  ]
            },
            {
                  "cell_type": "code",
                  "execution_count": 195,
                  "metadata": {},
                  "outputs": [
                        {
                              "name": "stdout",
                              "output_type": "stream",
                              "text": [
                                    "En la rama main\n",
                                    "nada para hacer commit, el árbol de trabajo está limpio\n"
                              ]
                        }
                  ],
                  "source": [
                        "!cd notebook_git && git status"
                  ]
            },
            {
                  "attachments": {},
                  "cell_type": "markdown",
                  "metadata": {},
                  "source": [
                        "Parece estar resolvido, nós fazemos um \"registro de crédito\" para verificá-lo."
                  ]
            },
            {
                  "cell_type": "code",
                  "execution_count": 196,
                  "metadata": {},
                  "outputs": [
                        {
                              "name": "stdout",
                              "output_type": "stream",
                              "text": [
                                    "*   \u001b[33m679bb49\u001b[m\u001b[33m (\u001b[m\u001b[1;36mHEAD -> \u001b[m\u001b[1;32mmain\u001b[m\u001b[33m)\u001b[m archivo1.py con el merge resuelto\n",
                                    "\u001b[31m|\u001b[m\u001b[32m\\\u001b[m  \n",
                                    "\u001b[31m|\u001b[m * \u001b[33m32851c3\u001b[m\u001b[33m (\u001b[m\u001b[1;32mrama_con_conflicto\u001b[m\u001b[33m)\u001b[m archivo1.py en rama rama_con_conflicto\n",
                                    "* \u001b[32m|\u001b[m \u001b[33m53f909b\u001b[m archivo1.py en rama main\n",
                                    "\u001b[32m|\u001b[m\u001b[32m/\u001b[m  \n",
                                    "* \u001b[33m52acb97\u001b[m Merge squash de los commits de la rama branch_squash\n",
                                    "*   \u001b[33m274529c\u001b[m Merge branch 'branch_no_fast_forward' into main\n",
                                    "\u001b[33m|\u001b[m\u001b[34m\\\u001b[m  \n",
                                    "\u001b[33m|\u001b[m * \u001b[33m8df3429\u001b[m\u001b[33m (\u001b[m\u001b[1;32mbranch_no_fast_forward\u001b[m\u001b[33m)\u001b[m file2\n",
                                    "\u001b[33m|\u001b[m * \u001b[33me4e23c9\u001b[m file1\n",
                                    "* \u001b[34m|\u001b[m \u001b[33m8bdf4d8\u001b[m file3\n",
                                    "\u001b[34m|\u001b[m\u001b[34m/\u001b[m  \n",
                                    "* \u001b[33m94149fc\u001b[m\u001b[33m (\u001b[m\u001b[1;32mbranch_fast_forward\u001b[m\u001b[33m)\u001b[m Eliminado hola.py\n",
                                    "* \u001b[33m4484e70\u001b[m Eliminado archivo4.py\n",
                                    "* \u001b[33m564ccfb\u001b[m\u001b[33m (\u001b[m\u001b[1;32mnew_branch2\u001b[m\u001b[33m)\u001b[m Commit con el archivo 8\n",
                                    "* \u001b[33m5168f78\u001b[m Eliminado archivo7.py\n",
                                    "* \u001b[33m4bb9d75\u001b[m\u001b[33m (\u001b[m\u001b[1;32mnew_branch\u001b[m\u001b[33m)\u001b[m Commit con el archivo 7\n",
                                    "* \u001b[33mea615a9\u001b[m Eliminado archivo5.py\n",
                                    "* \u001b[33me3153a5\u001b[m Commit con los archivos 4 y 5\n",
                                    "* \u001b[33m0b09cfa\u001b[m Añadido .gitignore\n",
                                    "* \u001b[33m04ebd1f\u001b[m Commit con los archivos 1 y 2\n",
                                    "* \u001b[33mc4930d7\u001b[m Tercer commit, hola.py\n",
                                    "* \u001b[33m6e99e73\u001b[m Segundo commit, hola.py\n",
                                    "* \u001b[33m1c95e4f\u001b[m Primer commit, hola.py\n"
                              ]
                        }
                  ],
                  "source": [
                        "!cd notebook_git && git log --graph --oneline --decorate"
                  ]
            },
            {
                  "attachments": {},
                  "cell_type": "markdown",
                  "metadata": {},
                  "source": [
                        "### Remover galhos"
                  ]
            },
            {
                  "attachments": {},
                  "cell_type": "markdown",
                  "metadata": {},
                  "source": [
                        "A idéia de um ramo é abri-lo para desenvolver uma nova funcionalidade ou característica de uma forma que não afete o resto da equipe de desenvolvimento. Assim, quando isso é conseguido, ele é fundido com o ramo principal. Portanto, após a fusão não faz mais sentido manter a filial, então ela tem que ser removida, mas será feita de uma maneira diferente se a filial tiver sido fundida ou não com a filial principal."
                  ]
            },
            {
                  "attachments": {},
                  "cell_type": "markdown",
                  "metadata": {},
                  "source": [
                        "#### Eliminar as filiais que foram fundidas (`git branch -d <branch>`)"
                  ]
            },
            {
                  "attachments": {},
                  "cell_type": "markdown",
                  "metadata": {},
                  "source": [
                        "Para eliminar um ramo que já foi fundido no ramo principal, basta fazer `git branch -d <branch>` ou `git branch --delete <branch>`. Vamos apagar a última filial que criamos e fundimos"
                  ]
            },
            {
                  "cell_type": "code",
                  "execution_count": 197,
                  "metadata": {},
                  "outputs": [
                        {
                              "name": "stdout",
                              "output_type": "stream",
                              "text": [
                                    "Eliminada la rama rama_con_conflicto (era 32851c3).\n"
                              ]
                        }
                  ],
                  "source": [
                        "!cd notebook_git && git branch -d rama_con_conflicto"
                  ]
            },
            {
                  "attachments": {},
                  "cell_type": "markdown",
                  "metadata": {},
                  "source": [
                        "Se agora listarmos todos os ramos, podemos ver que não teremos mais \"ramo_com_conflito\"."
                  ]
            },
            {
                  "cell_type": "code",
                  "execution_count": 198,
                  "metadata": {},
                  "outputs": [
                        {
                              "name": "stdout",
                              "output_type": "stream",
                              "text": [
                                    "  branch_fast_forward\u001b[m\n",
                                    "  branch_no_fast_forward\u001b[m\n",
                                    "  branch_squash\u001b[m\n",
                                    "* \u001b[32mmain\u001b[m\n",
                                    "  new_branch\u001b[m\n",
                                    "  new_branch2\u001b[m\n"
                              ]
                        }
                  ],
                  "source": [
                        "!cd notebook_git && git branch"
                  ]
            },
            {
                  "attachments": {},
                  "cell_type": "markdown",
                  "metadata": {},
                  "source": [
                        "#### Remover ramos que não foram fundidos com o ramo principal (`git brnach -D <branch>`)"
                  ]
            },
            {
                  "attachments": {},
                  "cell_type": "markdown",
                  "metadata": {},
                  "source": [
                        "Se tentarmos fazer o mesmo que antes com um ramo que nunca foi fundido com outro ramo, teremos um erro."
                  ]
            },
            {
                  "attachments": {},
                  "cell_type": "markdown",
                  "metadata": {},
                  "source": [
                        "Vamos criar uma nova filial, comprometê-la e não fundi-la."
                  ]
            },
            {
                  "cell_type": "code",
                  "execution_count": 199,
                  "metadata": {},
                  "outputs": [],
                  "source": [
                        "!cd notebook_git && git branch branch_sin_fusion"
                  ]
            },
            {
                  "cell_type": "code",
                  "execution_count": 200,
                  "metadata": {},
                  "outputs": [
                        {
                              "name": "stdout",
                              "output_type": "stream",
                              "text": [
                                    "Cambiado a rama 'branch_sin_fusion'\n"
                              ]
                        }
                  ],
                  "source": [
                        "!cd notebook_git && git switch branch_sin_fusion"
                  ]
            },
            {
                  "cell_type": "code",
                  "execution_count": 201,
                  "metadata": {},
                  "outputs": [
                        {
                              "name": "stdout",
                              "output_type": "stream",
                              "text": [
                                    "[branch_sin_fusion 9506b0a] file4\n",
                                    " 1 file changed, 0 insertions(+), 0 deletions(-)\n",
                                    " create mode 100644 file4\n"
                              ]
                        }
                  ],
                  "source": [
                        "!cd notebook_git && touch file4 && git add file4 && git commit -m \"file4\""
                  ]
            },
            {
                  "cell_type": "code",
                  "execution_count": 202,
                  "metadata": {},
                  "outputs": [
                        {
                              "name": "stdout",
                              "output_type": "stream",
                              "text": [
                                    "Cambiado a rama 'main'\n"
                              ]
                        }
                  ],
                  "source": [
                        "!cd notebook_git && git switch main"
                  ]
            },
            {
                  "attachments": {},
                  "cell_type": "markdown",
                  "metadata": {},
                  "source": [
                        "Com tudo o que aprendemos até agora, podemos ver que o que fizemos foi criar uma nova filial, mudar para ela, criar um novo arquivo, comprometê-la e voltar para a filial \"principal\". Agora vamos tentar apagar esta nova ramificação"
                  ]
            },
            {
                  "cell_type": "code",
                  "execution_count": 203,
                  "metadata": {},
                  "outputs": [
                        {
                              "name": "stdout",
                              "output_type": "stream",
                              "text": [
                                    "error: La rama 'branch_sin_fusion' no ha sido fusionada completamente.\n",
                                    "Si estás seguro de querer borrarla, ejecuta 'git branch -D branch_sin_fusion'.\n"
                              ]
                        }
                  ],
                  "source": [
                        "!cd notebook_git && git branch -d branch_sin_fusion"
                  ]
            },
            {
                  "attachments": {},
                  "cell_type": "markdown",
                  "metadata": {},
                  "source": [
                        "Como podemos ver, isso nos diz que a `branch_sin_fusion` não foi fundida, portanto não foi removida e que, se temos certeza de removê-la, temos que fazer a `git branch -D branch_sin_fusion`, portanto fazemos isso para removê-la."
                  ]
            },
            {
                  "cell_type": "code",
                  "execution_count": 204,
                  "metadata": {},
                  "outputs": [
                        {
                              "name": "stdout",
                              "output_type": "stream",
                              "text": [
                                    "Eliminada la rama branch_sin_fusion (era 9506b0a).\n"
                              ]
                        }
                  ],
                  "source": [
                        "!cd notebook_git && git branch -D branch_sin_fusion"
                  ]
            },
            {
                  "attachments": {},
                  "cell_type": "markdown",
                  "metadata": {},
                  "source": [
                        "Agora foi removido"
                  ]
            },
            {
                  "attachments": {},
                  "cell_type": "markdown",
                  "metadata": {},
                  "source": [
                        "## Trabalhando com repositórios remotos"
                  ]
            },
            {
                  "attachments": {},
                  "cell_type": "markdown",
                  "metadata": {},
                  "source": [
                        "Quando desenvolvemos software, normalmente não o fazemos sozinhos, normalmente trabalhamos em equipe, portanto não faz sentido ter um repositório local de git, mas ter um repositório remoto com o qual todos nós trabalhamos e compartilhamos nosso progresso.\n",
                        "\n",
                        " > Nota: O objetivo deste post é explicar a idiotice. Para a conexão com repositórios remotos vou explicar com GitHub porque é o serviço de hospedagem de repositório de git mais utilizado, mas não vou entrar profundamente no GitHub."
                  ]
            },
            {
                  "attachments": {},
                  "cell_type": "markdown",
                  "metadata": {},
                  "source": [
                        "### Clonar um repositório remoto (`git clone <repositório>`)"
                  ]
            },
            {
                  "attachments": {},
                  "cell_type": "markdown",
                  "metadata": {},
                  "source": [
                        "Se começarmos a trabalhar em um repositório que já foi criado, a primeira coisa que temos que fazer é cloná-lo, para isso temos que fazer `git clone <repositório>`, onde `<repositório>` pode ser uma URL ou um endereço SSH. Como neste momento todo o tópico de grnades modelo de linguagem e ChatGPT está muito na moda, vamos clonar um repositório de código aberto criado pela comunidade, [Open-Assistant](https://github.com/LAION-AI/Open-Assistant), para isso vamos fazer `git clone https://github.com/LAION-AI/Open-Assistant`."
                  ]
            },
            {
                  "cell_type": "code",
                  "execution_count": 11,
                  "metadata": {},
                  "outputs": [
                        {
                              "name": "stdout",
                              "output_type": "stream",
                              "text": [
                                    "Clonando en 'Open-Assistant'...\n",
                                    "remote: Enumerating objects: 29769, done.\u001b[K\n",
                                    "remote: Counting objects: 100% (673/673), done.\u001b[K\n",
                                    "remote: Compressing objects: 100% (310/310), done.\u001b[K\n",
                                    "remote: Total 29769 (delta 398), reused 577 (delta 354), pack-reused 29096\u001b[K\n",
                                    "Recibiendo objetos: 100% (29769/29769), 33.61 MiB | 29.29 MiB/s, listo.\n",
                                    "Resolviendo deltas: 100% (19967/19967), listo.\n"
                              ]
                        }
                  ],
                  "source": [
                        "!git clone https://github.com/LAION-AI/Open-Assistant.git"
                  ]
            },
            {
                  "attachments": {},
                  "cell_type": "markdown",
                  "metadata": {},
                  "source": [
                        "Isto cria a pasta 'Open-Assistant' com todo o código do repositório, podemos entrar e ver todo o código."
                  ]
            },
            {
                  "cell_type": "code",
                  "execution_count": 13,
                  "metadata": {},
                  "outputs": [
                        {
                              "name": "stdout",
                              "output_type": "stream",
                              "text": [
                                    "ansible\t\t deploy\t\t      model\t      safety\n",
                                    "assets\t\t discord-bots\t      notebooks       scripts\n",
                                    "backend\t\t docker\t\t      oasst-data      setup.cfg\n",
                                    "CODEOWNERS\t docker-compose.yaml  oasst-shared    text-frontend\n",
                                    "CONTRIBUTING.md  docs\t\t      pyproject.toml  website\n",
                                    "copilot\t\t inference\t      README.md\n",
                                    "data\t\t LICENSE\t      redis.conf\n"
                              ]
                        }
                  ],
                  "source": [
                        "!cd Open-Assistant && ls"
                  ]
            },
            {
                  "attachments": {},
                  "cell_type": "markdown",
                  "metadata": {},
                  "source": [
                        "Eu excluo a pasta"
                  ]
            },
            {
                  "cell_type": "code",
                  "execution_count": null,
                  "metadata": {},
                  "outputs": [],
                  "source": [
                        "!rm -r Open-Assistant"
                  ]
            },
            {
                  "attachments": {},
                  "cell_type": "markdown",
                  "metadata": {},
                  "source": [
                        "### Ligando um repositório local a um repositório remoto"
                  ]
            },
            {
                  "attachments": {},
                  "cell_type": "markdown",
                  "metadata": {},
                  "source": [
                        "Se for ao contrário, se começarmos a nos desenvolver localmente e depois queremos sincronizá-lo com um repositório remoto, temos que fazer o seguinte\n",
                        "\n",
                        " * Primeiro criei um repositório remoto vazio, no meu caso criei o repositório 'notebook_git' no GitHub, que mais tarde apagarei.\n",
                        " * Obter a URL do repositório, ou endereço SSH\n",
                        " * Sincronize-os utilizando `git remoto adicionar origem <URL>.\n",
                        "\n",
                        "O repositório vazio que criei no GitHub se parece com isto\n",
                        "\n",
                        "![notebook git repo](https://maximofn.com/wp-content/uploads/2023/04/notebook_git_repo.png)\n",
                        "\n",
                        "No meu caso, utilizarei o endereço SSH que é `git@github.com:maximofn/notebook_git.git'."
                  ]
            },
            {
                  "cell_type": "code",
                  "execution_count": 205,
                  "metadata": {},
                  "outputs": [],
                  "source": [
                        "!cd notebook_git && git remote add origin git@github.com:maximofn/notebook_git.git"
                  ]
            },
            {
                  "attachments": {},
                  "cell_type": "markdown",
                  "metadata": {},
                  "source": [
                        "Eles já estão ligados, mas para ter certeza de que podemos fazer `git remoto -v`."
                  ]
            },
            {
                  "cell_type": "code",
                  "execution_count": 206,
                  "metadata": {},
                  "outputs": [
                        {
                              "name": "stdout",
                              "output_type": "stream",
                              "text": [
                                    "origin\tgit@github.com:maximofn/notebook_git.git (fetch)\n",
                                    "origin\tgit@github.com:maximofn/notebook_git.git (push)\n"
                              ]
                        }
                  ],
                  "source": [
                        "!cd notebook_git && git remote -v"
                  ]
            },
            {
                  "attachments": {},
                  "cell_type": "markdown",
                  "metadata": {},
                  "source": [
                        "### Carregando mudanças de um repositório local para um repositório remoto (`git push`)"
                  ]
            },
            {
                  "attachments": {},
                  "cell_type": "markdown",
                  "metadata": {},
                  "source": [
                        "Como dissemos, eles estão ligados, mas se eu for ao meu repositório no GitHub, ainda assim parece o seguinte\n",
                        "\n",
                        "![notebook git repo](https://maximofn.com/wp-content/uploads/2023/04/notebook_git_repo.png)\n",
                        "\n",
                        "O repositório local e remoto estão ligados, mas agora precisamos empurrar todas as mudanças do repositório local para o repositório remoto, então devemos utilizar `git push origem <filial local>:<filial remoto>`, ou seja, como nossa filial principal é chamada de `main` e a filial principal no GitHub é chamada de `main`, devemos fazer `git push origem principal:principal`.\n",
                        "Se você se lembra que o GitHub não chama a filial principal de `master`, mas o GitHub não chama a filial principal de `main`, então se todos em seu repositório local chamam suas filiais de uma maneira, você tem que especificar qual filial localmente escreve para qual filial remotamente."
                  ]
            },
            {
                  "attachments": {},
                  "cell_type": "markdown",
                  "metadata": {},
                  "source": [
                        "Você pode configurar a conexão padrão entre as filiais em git fazendo `git push --set-upstream origin main`. Isto estabelece uma relação entre a filial local \"principal\" e a filial remota \"principal\". Uma vez estabelecida esta relação, você só precisa fazer o \"git push\" para carregar as mudanças feitas localmente no servidor remoto.\n",
                        "\n",
                        "Assim, estabelecemos a conexão entre as filiais"
                  ]
            },
            {
                  "cell_type": "code",
                  "execution_count": 207,
                  "metadata": {},
                  "outputs": [
                        {
                              "name": "stdout",
                              "output_type": "stream",
                              "text": [
                                    "Enumerando objetos: 51, listo.\n",
                                    "Contando objetos: 100% (51/51), listo.\n",
                                    "Compresión delta usando hasta 12 hilos\n",
                                    "Comprimiendo objetos: 100% (38/38), listo.\n",
                                    "Escribiendo objetos: 100% (51/51), 4.21 KiB | 2.11 MiB/s, listo.\n",
                                    "Total 51 (delta 18), reusado 0 (delta 0)\n",
                                    "remote: Resolving deltas: 100% (18/18), done.\u001b[K\n",
                                    "To github.com:maximofn/notebook_git.git\n",
                                    " * [new branch]      main -> main\n",
                                    "Rama 'main' configurada para hacer seguimiento a la rama remota 'main' de 'origin'.\n"
                              ]
                        }
                  ],
                  "source": [
                        "!cd notebook_git && git push --set-upstream origin main"
                  ]
            },
            {
                  "attachments": {},
                  "cell_type": "markdown",
                  "metadata": {},
                  "source": [
                        "Agora podemos simplesmente \"empurrar\" as mudanças locais para o repositório remoto."
                  ]
            },
            {
                  "cell_type": "code",
                  "execution_count": 208,
                  "metadata": {},
                  "outputs": [
                        {
                              "name": "stdout",
                              "output_type": "stream",
                              "text": [
                                    "Everything up-to-date\n"
                              ]
                        }
                  ],
                  "source": [
                        "!cd notebook_git && git push"
                  ]
            },
            {
                  "attachments": {},
                  "cell_type": "markdown",
                  "metadata": {},
                  "source": [
                        "Se agora voltarmos ao nosso repositório GitHub, parece que\n",
                        "\n",
                        "![notebook git repo push](https://maximofn.com/wp-content/uploads/2023/04/notebook_git_repo_push.png)"
                  ]
            },
            {
                  "attachments": {},
                  "cell_type": "markdown",
                  "metadata": {},
                  "source": [
                        "Se fizermos um `ls' em nosso repositório local, podemos ver que os arquivos que temos no repositório remoto estão no repositório local, ou seja, sincronizamos o repositório local com o remoto."
                  ]
            },
            {
                  "cell_type": "code",
                  "execution_count": 209,
                  "metadata": {},
                  "outputs": [
                        {
                              "name": "stdout",
                              "output_type": "stream",
                              "text": [
                                    ".  ..  api_keys.py  archivo1.py  archivo2.py  archivo8.py  .git  .gitignore\n"
                              ]
                        }
                  ],
                  "source": [
                        "!cd notebook_git && ls -a"
                  ]
            },
            {
                  "attachments": {},
                  "cell_type": "markdown",
                  "metadata": {},
                  "source": [
                        "Os únicos que não estão no repositório remoto são `api_keys.py`, que é o que adicionamos ao arquivo `.gitignore`, ou seja, aquele que dissemos ao gitignore para não seguir. E `.git` que é onde está a configuração de nosso repositório local, e que não precisa ser carregado no repositório remoto, porque cada pessoa terá sua própria configuração de git e, portanto, não precisa ser sincronizada."
                  ]
            },
            {
                  "attachments": {},
                  "cell_type": "markdown",
                  "metadata": {},
                  "source": [
                        "#### Baixar mudanças de um repositório remoto para um repositório local (`git pull`)"
                  ]
            },
            {
                  "attachments": {},
                  "cell_type": "markdown",
                  "metadata": {},
                  "source": [
                        "Agora vamos fazer o contrário, vamos fazer o download das novas mudanças que foram feitas no repositório remoto. Se olharmos para o repositório remoto, podemos ver que existe um botão \"Adicionar ao README\", então clicamos nele para adicioná-lo.\n",
                        "\n",
                        "![notebook git repo push](https://maximofn.com/wp-content/uploads/2023/04/notebook_git_repo_push.png)"
                  ]
            },
            {
                  "attachments": {},
                  "cell_type": "markdown",
                  "metadata": {},
                  "source": [
                        "Ao clicar nele, um editor abrirá, deixará o que GitHub colocou e salvará as mudanças, clicando no botão `Comprometer mudanças...`.\n",
                        "\n",
                        "![noteboot git repoot repo readme](https://maximofn.com/wp-content/uploads/2023/04/notebook_git_repo_readme.png)\n",
                        "\n",
                        "Uma janela irá aparecer pedindo uma mensagem de compromisso, deixe a mensagem padrão e clique em `Mudanças de Compromisso`.\n",
                        "\n",
                        "![mensagem de compromisso do git git repo do notebook](https://maximofn.com/wp-content/uploads/2023/04/notebook_git_repo_commit_message.png)\n",
                        "\n",
                        "Ao fazer isso, o repositório terá a seguinte aparência\n",
                        "\n",
                        "![notebook git repo pull](https://maximofn.com/wp-content/uploads/2023/04/notebook_git_repo_pull.png)\n",
                        "\n",
                        "Um novo arquivo chamado `README.MD` foi criado, mas se o fizermos no repositório local, não o encontraremos."
                  ]
            },
            {
                  "cell_type": "code",
                  "execution_count": 10,
                  "metadata": {},
                  "outputs": [],
                  "source": [
                        "!cd notebook_git && ls | grep README"
                  ]
            },
            {
                  "attachments": {},
                  "cell_type": "markdown",
                  "metadata": {},
                  "source": [
                        "Portanto, precisamos puxar as mudanças do repositório remoto para o repositório local, para fazer isso precisamos fazer `git pull origin <remote branch>` para dizer ao git em que ramo remoto vamos puxar os dados, mas como antes podemos estabelecer uma relação entre a filial remota e a filial local como \"filial da git --set-upstream-to=origin/<local branch>>>>remote branch>\", mas como nossa filial local é chamada \"principal\" e a filial remota é chamada \"principal\" por GitHub, devemos mudar o acima para \"filial da git --set-upstream-to=origin/main main\".\n",
                        "\n",
                        "Uma vez feito isso, para baixar as novas mudanças do repositório remoto para o repositório local, basta fazer `git pull`."
                  ]
            },
            {
                  "attachments": {},
                  "cell_type": "markdown",
                  "metadata": {},
                  "source": [
                        "Vamos estabelecer a relação entre as filiais com \"filial --set-upstream-to=origin/main main\"."
                  ]
            },
            {
                  "cell_type": "code",
                  "execution_count": 210,
                  "metadata": {},
                  "outputs": [
                        {
                              "name": "stdout",
                              "output_type": "stream",
                              "text": [
                                    "Rama 'main' configurada para hacer seguimiento a la rama remota 'main' de 'origin'.\n"
                              ]
                        }
                  ],
                  "source": [
                        "!cd notebook_git && git branch --set-upstream-to=origin/main main"
                  ]
            },
            {
                  "attachments": {},
                  "cell_type": "markdown",
                  "metadata": {},
                  "source": [
                        "Agora podemos puxar as mudanças do repositório remoto para o repositório local com `git pull`."
                  ]
            },
            {
                  "cell_type": "code",
                  "execution_count": 211,
                  "metadata": {},
                  "outputs": [
                        {
                              "name": "stdout",
                              "output_type": "stream",
                              "text": [
                                    "remote: Enumerating objects: 4, done.\u001b[K\n",
                                    "remote: Counting objects: 100% (4/4), done.\u001b[K\n",
                                    "remote: Compressing objects: 100% (2/2), done.\u001b[K\n",
                                    "remote: Total 3 (delta 1), reused 0 (delta 0), pack-reused 0\u001b[K\n",
                                    "Desempaquetando objetos: 100% (3/3), 646 bytes | 646.00 KiB/s, listo.\n",
                                    "Desde github.com:maximofn/notebook_git\n",
                                    "   679bb49..527e07a  main       -> origin/main\n",
                                    "Actualizando 679bb49..527e07a\n",
                                    "Fast-forward\n",
                                    " README.md | 1 \u001b[32m+\u001b[m\n",
                                    " 1 file changed, 1 insertion(+)\n",
                                    " create mode 100644 README.md\n"
                              ]
                        }
                  ],
                  "source": [
                        "!cd notebook_git && git pull"
                  ]
            },
            {
                  "attachments": {},
                  "cell_type": "markdown",
                  "metadata": {},
                  "source": [
                        "Como podemos ver, diz 'README.md' foi adicionado, nós o verificamos fazendo 'ls'."
                  ]
            },
            {
                  "cell_type": "code",
                  "execution_count": 212,
                  "metadata": {},
                  "outputs": [
                        {
                              "name": "stdout",
                              "output_type": "stream",
                              "text": [
                                    "README.md\n"
                              ]
                        }
                  ],
                  "source": [
                        "!cd notebook_git && ls | grep README"
                  ]
            },
            {
                  "attachments": {},
                  "cell_type": "markdown",
                  "metadata": {},
                  "source": [
                        "Temos o arquivo localmente"
                  ]
            },
            {
                  "attachments": {},
                  "cell_type": "markdown",
                  "metadata": {},
                  "source": [
                        "### Sincronizar filiais remotas e locais"
                  ]
            },
            {
                  "attachments": {},
                  "cell_type": "markdown",
                  "metadata": {},
                  "source": [
                        "Como vimos, tivemos que sincronizar as filiais remotas e locais a fim de carregar e baixar os dados, porém, se primeiro criarmos o repositório no GitHub e depois cloná-lo, esta sincronização não é mais necessária."
                  ]
            },
            {
                  "attachments": {},
                  "cell_type": "markdown",
                  "metadata": {},
                  "source": [
                        "## Pseudônimos"
                  ]
            },
            {
                  "attachments": {},
                  "cell_type": "markdown",
                  "metadata": {},
                  "source": [
                        "Toda vez que quisemos fazer um log, utilizamos este comando `git log --graph --oneline --decorate`, no entanto, lembrar este comando é bastante complicado, na verdade eu não me lembro, toda vez que eu queria utilizá-lo eu tinha que procurá-lo porque eu não me lembrava, então seria bom ter uma maneira de abreviá-lo."
                  ]
            },
            {
                  "attachments": {},
                  "cell_type": "markdown",
                  "metadata": {},
                  "source": [
                        "Para este git oferece `alias`, assim você pode criar alias para os comandos que quiser, para isto você tem que fazer `git config --global alias.<nome da serie> \"comando\"`."
                  ]
            },
            {
                  "attachments": {},
                  "cell_type": "markdown",
                  "metadata": {},
                  "source": [
                        "Portanto, vamos chamar de `git tree` ao comando `git log --graph --oneline --decorate`, pois nos permite ver a história, ramificação e fusão de ramos como se fosse o crescimento de uma árvore, então fazemos `git config --global alias.tree \"log --graph --oneline --decorate\"`.\n",
                        "\n",
                        " > Importante**: Não colocar a palavra `git` dentro do comando."
                  ]
            },
            {
                  "cell_type": "code",
                  "execution_count": 218,
                  "metadata": {},
                  "outputs": [],
                  "source": [
                        "!git config --global alias.tree \"log --graph --oneline --decorate\""
                  ]
            },
            {
                  "attachments": {},
                  "cell_type": "markdown",
                  "metadata": {},
                  "source": [
                        "Se agora formos ao nosso repositório e fizermos `git tree`, veremos a história como fizemos antes."
                  ]
            },
            {
                  "cell_type": "code",
                  "execution_count": 217,
                  "metadata": {},
                  "outputs": [
                        {
                              "name": "stdout",
                              "output_type": "stream",
                              "text": [
                                    "* \u001b[33m527e07a\u001b[m\u001b[33m (\u001b[m\u001b[1;36mHEAD -> \u001b[m\u001b[1;32mmain\u001b[m\u001b[33m, \u001b[m\u001b[1;31morigin/main\u001b[m\u001b[33m)\u001b[m Create README.md\n",
                                    "*   \u001b[33m679bb49\u001b[m archivo1.py con el merge resuelto\n",
                                    "\u001b[32m|\u001b[m\u001b[33m\\\u001b[m  \n",
                                    "\u001b[32m|\u001b[m * \u001b[33m32851c3\u001b[m archivo1.py en rama rama_con_conflicto\n",
                                    "* \u001b[33m|\u001b[m \u001b[33m53f909b\u001b[m archivo1.py en rama main\n",
                                    "\u001b[33m|\u001b[m\u001b[33m/\u001b[m  \n",
                                    "* \u001b[33m52acb97\u001b[m Merge squash de los commits de la rama branch_squash\n",
                                    "*   \u001b[33m274529c\u001b[m Merge branch 'branch_no_fast_forward' into main\n",
                                    "\u001b[34m|\u001b[m\u001b[35m\\\u001b[m  \n",
                                    "\u001b[34m|\u001b[m * \u001b[33m8df3429\u001b[m\u001b[33m (\u001b[m\u001b[1;32mbranch_no_fast_forward\u001b[m\u001b[33m)\u001b[m file2\n",
                                    "\u001b[34m|\u001b[m * \u001b[33me4e23c9\u001b[m file1\n",
                                    "* \u001b[35m|\u001b[m \u001b[33m8bdf4d8\u001b[m file3\n",
                                    "\u001b[35m|\u001b[m\u001b[35m/\u001b[m  \n",
                                    "* \u001b[33m94149fc\u001b[m\u001b[33m (\u001b[m\u001b[1;32mbranch_fast_forward\u001b[m\u001b[33m)\u001b[m Eliminado hola.py\n",
                                    "* \u001b[33m4484e70\u001b[m Eliminado archivo4.py\n",
                                    "* \u001b[33m564ccfb\u001b[m\u001b[33m (\u001b[m\u001b[1;32mnew_branch2\u001b[m\u001b[33m)\u001b[m Commit con el archivo 8\n",
                                    "* \u001b[33m5168f78\u001b[m Eliminado archivo7.py\n",
                                    "* \u001b[33m4bb9d75\u001b[m\u001b[33m (\u001b[m\u001b[1;32mnew_branch\u001b[m\u001b[33m)\u001b[m Commit con el archivo 7\n",
                                    "* \u001b[33mea615a9\u001b[m Eliminado archivo5.py\n",
                                    "* \u001b[33me3153a5\u001b[m Commit con los archivos 4 y 5\n",
                                    "* \u001b[33m0b09cfa\u001b[m Añadido .gitignore\n",
                                    "* \u001b[33m04ebd1f\u001b[m Commit con los archivos 1 y 2\n",
                                    "* \u001b[33mc4930d7\u001b[m Tercer commit, hola.py\n",
                                    "* \u001b[33m6e99e73\u001b[m Segundo commit, hola.py\n",
                                    "* \u001b[33m1c95e4f\u001b[m Primer commit, hola.py\n"
                              ]
                        }
                  ],
                  "source": [
                        "!cd notebook_git && git tree"
                  ]
            },
            {
                  "attachments": {},
                  "cell_type": "markdown",
                  "metadata": {},
                  "source": [
                        "Como podemos ver, nosso pseudônimo foi criado"
                  ]
            },
            {
                  "attachments": {},
                  "cell_type": "markdown",
                  "metadata": {},
                  "source": [
                        "### Aliases de comandos de git existentes"
                  ]
            },
            {
                  "attachments": {},
                  "cell_type": "markdown",
                  "metadata": {},
                  "source": [
                        "Você pode criar pseudônimos para comandos que já existem em git, na verdade, é uma prática que muita gente usa, especialmente para estenografia, então vamos fazer um. Vamos fazer um pseudônimo do comando `git status` e renomeá-lo `git st` como `git config --global alias.st \"status\"`."
                  ]
            },
            {
                  "cell_type": "code",
                  "execution_count": 219,
                  "metadata": {},
                  "outputs": [],
                  "source": [
                        "!git config --global alias.st \"status\""
                  ]
            },
            {
                  "attachments": {},
                  "cell_type": "markdown",
                  "metadata": {},
                  "source": [
                        "Nós o testamos agora"
                  ]
            },
            {
                  "cell_type": "code",
                  "execution_count": 220,
                  "metadata": {},
                  "outputs": [
                        {
                              "name": "stdout",
                              "output_type": "stream",
                              "text": [
                                    "En la rama main\n",
                                    "Tu rama está actualizada con 'origin/main'.\n",
                                    "\n",
                                    "nada para hacer commit, el árbol de trabajo está limpio\n"
                              ]
                        }
                  ],
                  "source": [
                        "!cd notebook_git && git st"
                  ]
            },
            {
                  "attachments": {},
                  "cell_type": "markdown",
                  "metadata": {},
                  "source": [
                        "Já temos o comando \"status de status simplificado\" para \"status de status simplificado\"."
                  ]
            },
            {
                  "attachments": {},
                  "cell_type": "markdown",
                  "metadata": {},
                  "source": [
                        "### Aliases de comando não-git"
                  ]
            },
            {
                  "attachments": {},
                  "cell_type": "markdown",
                  "metadata": {},
                  "source": [
                        "Podemos criar alias para comandos não git, por exemplo, porque achamos que o git precisa desse novo comando, é feito da mesma maneira, exceto que o comando tem que ser precedido por `!`, ou seja, seria `git config --global alias.<nome da serie> \"!comando\"`."
                  ]
            },
            {
                  "attachments": {},
                  "cell_type": "markdown",
                  "metadata": {},
                  "source": [
                        "Quando vimos os conflitos, vimos que o git nos disse onde eles estavam, mas para resolvê-los temos que editar o código nós mesmos, para que possamos criar um alias git para que possamos abrir um arquivo com o editor de texto que queremos, no meu caso vou criar um alias que abrirá os arquivos com `vscode` para que eu tenha que fazer `git config --global alias.code \"!code\"`."
                  ]
            },
            {
                  "cell_type": "code",
                  "execution_count": 222,
                  "metadata": {},
                  "outputs": [],
                  "source": [
                        "!git config --global alias.code \"!code\""
                  ]
            },
            {
                  "attachments": {},
                  "cell_type": "markdown",
                  "metadata": {},
                  "source": [
                        "Nós o testamos"
                  ]
            },
            {
                  "cell_type": "code",
                  "execution_count": 223,
                  "metadata": {},
                  "outputs": [],
                  "source": [
                        "!cd notebook_git && git code README.md"
                  ]
            },
            {
                  "attachments": {},
                  "cell_type": "markdown",
                  "metadata": {},
                  "source": [
                        "Depois de fazer isso, abri o `README.md` em `vscode`."
                  ]
            },
            {
                  "attachments": {},
                  "cell_type": "markdown",
                  "metadata": {},
                  "source": [
                        "#### Lista com todos os pseudônimos"
                  ]
            },
            {
                  "attachments": {},
                  "cell_type": "markdown",
                  "metadata": {},
                  "source": [
                        "Caso não nos lembremos dos pseudônimos que criamos, podemos ver a configuração global do git, mas como isso pode ser um pouco avassalador porque nos dá muita informação, podemos filtrá-la para nos mostrar apenas os pseudônimos que criamos, para isso utilizamos `git config --get-regexp ^aliases'."
                  ]
            },
            {
                  "cell_type": "code",
                  "execution_count": 224,
                  "metadata": {},
                  "outputs": [
                        {
                              "name": "stdout",
                              "output_type": "stream",
                              "text": [
                                    "alias.tree log --graph --oneline --decorate\n",
                                    "alias.st status\n",
                                    "alias.code !code\n"
                              ]
                        }
                  ],
                  "source": [
                        "!git config --get-regexp ^alias\\."
                  ]
            },
            {
                  "attachments": {},
                  "cell_type": "markdown",
                  "metadata": {},
                  "source": [
                        "Conseguimos o alais que criamos"
                  ]
            },
            {
                  "attachments": {},
                  "cell_type": "markdown",
                  "metadata": {},
                  "source": [
                        "Mas ainda melhor, podemos criar um pseudônimo para obter os pseudônimos, então fazemos `git config --global alias.alias \"config --get-regexp ^alias\"."
                  ]
            },
            {
                  "cell_type": "code",
                  "execution_count": 225,
                  "metadata": {},
                  "outputs": [],
                  "source": [
                        "!git config --global alias.alias \"config --get-regexp ^alias\\.\""
                  ]
            },
            {
                  "attachments": {},
                  "cell_type": "markdown",
                  "metadata": {},
                  "source": [
                        "Se agora fizermos `git alias`"
                  ]
            },
            {
                  "cell_type": "code",
                  "execution_count": 226,
                  "metadata": {},
                  "outputs": [
                        {
                              "name": "stdout",
                              "output_type": "stream",
                              "text": [
                                    "alias.tree log --graph --oneline --decorate\n",
                                    "alias.st status\n",
                                    "alias.code !code\n",
                                    "alias.alias config --get-regexp ^alias\\.\n"
                              ]
                        }
                  ],
                  "source": [
                        "!git alias"
                  ]
            },
            {
                  "attachments": {},
                  "cell_type": "markdown",
                  "metadata": {},
                  "source": [
                        "Recebemos a lista com todos os nossos pseudônimos"
                  ]
            },
            {
                  "attachments": {},
                  "cell_type": "markdown",
                  "metadata": {},
                  "source": [
                        "## Stash store (`git stash`)"
                  ]
            },
            {
                  "attachments": {},
                  "cell_type": "markdown",
                  "metadata": {},
                  "source": [
                        "Digamos que estamos trabalhando em uma filial, temos vários arquivos modificados, não os comprometemos, e por qualquer razão temos que mudar para outra filial. Por exemplo, estamos em uma filial desenvolvendo uma nova funcionalidade, e temos que deixá-la a meio caminho porque há um bug crítico na filial principal.\n",
                        "\n",
                        "Uma solução seria assumir um compromisso para salvar as mudanças e voltar mais tarde. Mas talvez tenhamos deixado o código meio feito e não queiramos comprometê-lo. Então é por isso que o armazenamento foi inventado, que é como um armazenamento, onde você deixa seu código armazenado para que possa recuperá-lo mais tarde.\n",
                        "\n",
                        "É uma pilha, o que significa que a última coisa a entrar é a primeira a sair."
                  ]
            },
            {
                  "attachments": {},
                  "cell_type": "markdown",
                  "metadata": {},
                  "source": [
                        "Vamos ver como fazer isso, primeiro criamos um novo ramo que chamaremos de `nova_função'."
                  ]
            },
            {
                  "cell_type": "code",
                  "execution_count": 2,
                  "metadata": {},
                  "outputs": [],
                  "source": [
                        "!cd notebook_git && git branch new_feature"
                  ]
            },
            {
                  "attachments": {},
                  "cell_type": "markdown",
                  "metadata": {},
                  "source": [
                        "Nós mudamos para ele"
                  ]
            },
            {
                  "cell_type": "code",
                  "execution_count": 3,
                  "metadata": {},
                  "outputs": [
                        {
                              "name": "stdout",
                              "output_type": "stream",
                              "text": [
                                    "Cambiado a rama 'new_feature'\n"
                              ]
                        }
                  ],
                  "source": [
                        "!cd notebook_git && git switch new_feature"
                  ]
            },
            {
                  "attachments": {},
                  "cell_type": "markdown",
                  "metadata": {},
                  "source": [
                        "Vamos modificar `file2.py` e `file8.py`."
                  ]
            },
            {
                  "cell_type": "code",
                  "execution_count": 4,
                  "metadata": {},
                  "outputs": [],
                  "source": [
                        "!cd notebook_git && echo \"print('new_feature')\" >> archivo2.py && echo \"print('new_feature')\" >> archivo8.py"
                  ]
            },
            {
                  "attachments": {},
                  "cell_type": "markdown",
                  "metadata": {},
                  "source": [
                        "Fazemos um \"status de crédito\" para verificar se eles foram alterados"
                  ]
            },
            {
                  "cell_type": "code",
                  "execution_count": 5,
                  "metadata": {},
                  "outputs": [
                        {
                              "name": "stdout",
                              "output_type": "stream",
                              "text": [
                                    "En la rama new_feature\n",
                                    "Cambios no rastreados para el commit:\n",
                                    "  (usa \"git add <archivo>...\" para actualizar lo que será confirmado)\n",
                                    "  (usa \"git restore <archivo>...\" para descartar los cambios en el directorio de trabajo)\n",
                                    "\t\u001b[31mmodificados:     archivo2.py\u001b[m\n",
                                    "\t\u001b[31mmodificados:     archivo8.py\u001b[m\n",
                                    "\n",
                                    "sin cambios agregados al commit (usa \"git add\" y/o \"git commit -a\")\n"
                              ]
                        }
                  ],
                  "source": [
                        "!cd notebook_git && git status"
                  ]
            },
            {
                  "attachments": {},
                  "cell_type": "markdown",
                  "metadata": {},
                  "source": [
                        "Vamos colocar o \"arquivo 8.py\" na área de \"faseados\"."
                  ]
            },
            {
                  "cell_type": "code",
                  "execution_count": 6,
                  "metadata": {},
                  "outputs": [],
                  "source": [
                        "!cd notebook_git && git add archivo8.py"
                  ]
            },
            {
                  "attachments": {},
                  "cell_type": "markdown",
                  "metadata": {},
                  "source": [
                        "Nós refizemos um \"status de crédito\"."
                  ]
            },
            {
                  "cell_type": "code",
                  "execution_count": 7,
                  "metadata": {},
                  "outputs": [
                        {
                              "name": "stdout",
                              "output_type": "stream",
                              "text": [
                                    "En la rama new_feature\n",
                                    "Cambios a ser confirmados:\n",
                                    "  (usa \"git restore --staged <archivo>...\" para sacar del área de stage)\n",
                                    "\t\u001b[32mmodificados:     archivo8.py\u001b[m\n",
                                    "\n",
                                    "Cambios no rastreados para el commit:\n",
                                    "  (usa \"git add <archivo>...\" para actualizar lo que será confirmado)\n",
                                    "  (usa \"git restore <archivo>...\" para descartar los cambios en el directorio de trabajo)\n",
                                    "\t\u001b[31mmodificados:     archivo2.py\u001b[m\n",
                                    "\n"
                              ]
                        }
                  ],
                  "source": [
                        "!cd notebook_git && git status"
                  ]
            },
            {
                  "attachments": {},
                  "cell_type": "markdown",
                  "metadata": {},
                  "source": [
                        "Como podemos ver, temos dois arquivos modificados, um dos quais também está na área \"faseada\". Se mudássemos de filial agora, para evitar a perda das mudanças, poderíamos ou comprometê-las, ou salvá-las para o \"armazenamento\", então vamos fazer o último utilizando o \"armazenamento\"."
                  ]
            },
            {
                  "cell_type": "code",
                  "execution_count": 8,
                  "metadata": {},
                  "outputs": [
                        {
                              "name": "stdout",
                              "output_type": "stream",
                              "text": [
                                    "Directorio de trabajo y estado de índice WIP on new_feature: 527e07a Create README.md guardados\n"
                              ]
                        }
                  ],
                  "source": [
                        "!cd notebook_git && git stash"
                  ]
            },
            {
                  "attachments": {},
                  "cell_type": "markdown",
                  "metadata": {},
                  "source": [
                        "Se voltarmos a fazer o \"status de idiota\", vamos ver o que acontece."
                  ]
            },
            {
                  "cell_type": "code",
                  "execution_count": 9,
                  "metadata": {},
                  "outputs": [
                        {
                              "name": "stdout",
                              "output_type": "stream",
                              "text": [
                                    "En la rama new_feature\n",
                                    "nada para hacer commit, el árbol de trabajo está limpio\n"
                              ]
                        }
                  ],
                  "source": [
                        "!cd notebook_git && git status"
                  ]
            },
            {
                  "attachments": {},
                  "cell_type": "markdown",
                  "metadata": {},
                  "source": [
                        "Os arquivos com modificações não aparecem mais, é como se tivéssemos feito um compromisso."
                  ]
            },
            {
                  "attachments": {},
                  "cell_type": "markdown",
                  "metadata": {},
                  "source": [
                        " > Importante**: Arquivos recém-criados, que nunca foram rastreados pelo git não irão para o repositório, então com novos arquivos é necessário pelo menos fazer um `git add` primeiro."
                  ]
            },
            {
                  "attachments": {},
                  "cell_type": "markdown",
                  "metadata": {},
                  "source": [
                        "Se eu agora criar um novo arquivo e tentar levá-lo para o armazém, isso me dará um erro."
                  ]
            },
            {
                  "cell_type": "code",
                  "execution_count": 16,
                  "metadata": {},
                  "outputs": [],
                  "source": [
                        "!cd notebook_git && touch archivo9.py"
                  ]
            },
            {
                  "cell_type": "code",
                  "execution_count": 11,
                  "metadata": {},
                  "outputs": [
                        {
                              "name": "stdout",
                              "output_type": "stream",
                              "text": [
                                    "En la rama new_feature\n",
                                    "Archivos sin seguimiento:\n",
                                    "  (usa \"git add <archivo>...\" para incluirlo a lo que se será confirmado)\n",
                                    "\t\u001b[31marchivo9.py\u001b[m\n",
                                    "\n",
                                    "no hay nada agregado al commit pero hay archivos sin seguimiento presentes (usa \"git add\" para hacerles seguimiento)\n"
                              ]
                        }
                  ],
                  "source": [
                        "!cd notebook_git && git status"
                  ]
            },
            {
                  "cell_type": "code",
                  "execution_count": 13,
                  "metadata": {},
                  "outputs": [
                        {
                              "name": "stdout",
                              "output_type": "stream",
                              "text": [
                                    "No hay cambios locales para guardar\n"
                              ]
                        }
                  ],
                  "source": [
                        "!cd notebook_git && git stash"
                  ]
            },
            {
                  "cell_type": "code",
                  "execution_count": 14,
                  "metadata": {},
                  "outputs": [
                        {
                              "name": "stdout",
                              "output_type": "stream",
                              "text": [
                                    "En la rama new_feature\n",
                                    "Archivos sin seguimiento:\n",
                                    "  (usa \"git add <archivo>...\" para incluirlo a lo que se será confirmado)\n",
                                    "\t\u001b[31marchivo9.py\u001b[m\n",
                                    "\n",
                                    "no hay nada agregado al commit pero hay archivos sin seguimiento presentes (usa \"git add\" para hacerles seguimiento)\n"
                              ]
                        }
                  ],
                  "source": [
                        "!cd notebook_git && git status"
                  ]
            },
            {
                  "attachments": {},
                  "cell_type": "markdown",
                  "metadata": {},
                  "source": [
                        "Como podemos ver, o \"arquivo 9.py\" não o salvou no repositório, por isso deveria ter sido adicionado com o \"git add\"."
                  ]
            },
            {
                  "cell_type": "code",
                  "execution_count": 15,
                  "metadata": {},
                  "outputs": [],
                  "source": [
                        "!cd notebook_git && rm archivo9.py"
                  ]
            },
            {
                  "attachments": {},
                  "cell_type": "markdown",
                  "metadata": {},
                  "source": [
                        "### Tudo para o esconderijo (`git stash -u -a`)"
                  ]
            },
            {
                  "attachments": {},
                  "cell_type": "markdown",
                  "metadata": {},
                  "source": [
                        "Como vimos, somente os arquivos que o git está rastreando são enviados para a loja, mas se tivermos novos arquivos criados, ou arquivos ignorados, eles não serão enviados, então para trabalhar em torno disso podemos utilizar as bandeiras \"u\" ou \"-incluir - não rastreado\" para enviar novos arquivos que o git ainda não rastreou, e a bandeira \"a\" ou \"-tudo\" para incluir tudo, inclusive arquivos ignorados."
                  ]
            },
            {
                  "attachments": {},
                  "cell_type": "markdown",
                  "metadata": {},
                  "source": [
                        "#### Lista de esconderijos (`lista de esconderijos`)"
                  ]
            },
            {
                  "attachments": {},
                  "cell_type": "markdown",
                  "metadata": {},
                  "source": [
                        "Como dissemos, o esconderijo funciona como uma pilha, portanto, se utilizarmos este esconderijo muitas vezes, teremos de fato uma lista de esconderijos, e para ver quais esconderijos temos, podemos utilizar \"lista de esconderijos\"."
                  ]
            },
            {
                  "cell_type": "code",
                  "execution_count": 17,
                  "metadata": {},
                  "outputs": [
                        {
                              "name": "stdout",
                              "output_type": "stream",
                              "text": [
                                    "stash@{0}: WIP on new_feature: 527e07a Create README.md\n"
                              ]
                        }
                  ],
                  "source": [
                        "!cd notebook_git && git stash list"
                  ]
            },
            {
                  "attachments": {},
                  "cell_type": "markdown",
                  "metadata": {},
                  "source": [
                        "Como podemos ver, temos apenas um, que indica o ramo (`em nova_característica'), o último compromisso (`Criar README.md') e um identificador (`527e07a')."
                  ]
            },
            {
                  "attachments": {},
                  "cell_type": "markdown",
                  "metadata": {},
                  "source": [
                        "#### Loja com descrição (`git stash push -m <descrição>)`)"
                  ]
            },
            {
                  "attachments": {},
                  "cell_type": "markdown",
                  "metadata": {},
                  "source": [
                        "Como vimos, a lista devolve o ramo e o último compromisso, mas esta informação só é útil para saber de onde começamos a modificar antes de salvar na história. Ela também retorna um identificador que não nos diz muito, de modo que podemos adicionar uma primeira descrição ao esconderijo com `git stash push -m <descrição>`."
                  ]
            },
            {
                  "attachments": {},
                  "cell_type": "markdown",
                  "metadata": {},
                  "source": [
                        "Primeiro fazemos um \"status de idiota\" para ver o que temos sem nos comprometermos."
                  ]
            },
            {
                  "cell_type": "code",
                  "execution_count": 18,
                  "metadata": {},
                  "outputs": [
                        {
                              "name": "stdout",
                              "output_type": "stream",
                              "text": [
                                    "En la rama new_feature\n",
                                    "Archivos sin seguimiento:\n",
                                    "  (usa \"git add <archivo>...\" para incluirlo a lo que se será confirmado)\n",
                                    "\t\u001b[31marchivo9.py\u001b[m\n",
                                    "\n",
                                    "no hay nada agregado al commit pero hay archivos sin seguimiento presentes (usa \"git add\" para hacerles seguimiento)\n"
                              ]
                        }
                  ],
                  "source": [
                        "!cd notebook_git && git status"
                  ]
            },
            {
                  "attachments": {},
                  "cell_type": "markdown",
                  "metadata": {},
                  "source": [
                        "Temos 'file9.py', mas lembre-se que nunca foi rastreado por git, então para incluí-lo em um stash temos que utilizar a bandeira 'u' ou a bandeira 'a', então criamos um novo stash com uma descrição com o comando 'git stash push -u -m <description>'."
                  ]
            },
            {
                  "cell_type": "code",
                  "execution_count": 28,
                  "metadata": {},
                  "outputs": [
                        {
                              "name": "stdout",
                              "output_type": "stream",
                              "text": [
                                    "Directorio de trabajo y estado de índice On new_feature: archivo9.py guardados\n"
                              ]
                        }
                  ],
                  "source": [
                        "!cd notebook_git && git stash push -u -m \"archivo9.py\""
                  ]
            },
            {
                  "attachments": {},
                  "cell_type": "markdown",
                  "metadata": {},
                  "source": [
                        "Retirámos a lista de estoque"
                  ]
            },
            {
                  "cell_type": "code",
                  "execution_count": 29,
                  "metadata": {},
                  "outputs": [
                        {
                              "name": "stdout",
                              "output_type": "stream",
                              "text": [
                                    "stash@{0}: On new_feature: archivo9.py\n",
                                    "stash@{1}: WIP on new_feature: 527e07a Create README.md\n"
                              ]
                        }
                  ],
                  "source": [
                        "!cd notebook_git && git stash list"
                  ]
            },
            {
                  "attachments": {},
                  "cell_type": "markdown",
                  "metadata": {},
                  "source": [
                        "O novo aparece muito mais claramente"
                  ]
            },
            {
                  "attachments": {},
                  "cell_type": "markdown",
                  "metadata": {},
                  "source": [
                        "### Recuperar o último esconderijo (`git stash pop`)"
                  ]
            },
            {
                  "attachments": {},
                  "cell_type": "markdown",
                  "metadata": {},
                  "source": [
                        "Como já dissemos, o estoque é uma pilha com lojas, então quando se trata de recuperá-las, o faremos da mesma forma que uma pilha, sempre recuperando a última.\n",
                        "\n",
                        "![git stash stash push pop](https://maximofn.com/wp-content/uploads/2023/04/git-stash-push-pop.png)\n",
                        "\n",
                        "Para recuperar o último esconderijo, temos de fazer 'git stash pop'."
                  ]
            },
            {
                  "attachments": {},
                  "cell_type": "markdown",
                  "metadata": {},
                  "source": [
                        "Primeiro, fazemos um \"status de crédito\" para ver que não temos nenhuma mudança pendente."
                  ]
            },
            {
                  "cell_type": "code",
                  "execution_count": 30,
                  "metadata": {},
                  "outputs": [
                        {
                              "name": "stdout",
                              "output_type": "stream",
                              "text": [
                                    "En la rama new_feature\n",
                                    "nada para hacer commit, el árbol de trabajo está limpio\n"
                              ]
                        }
                  ],
                  "source": [
                        "!cd notebook_git && git status"
                  ]
            },
            {
                  "attachments": {},
                  "cell_type": "markdown",
                  "metadata": {},
                  "source": [
                        "Agora recuperamos o último esconderijo"
                  ]
            },
            {
                  "cell_type": "code",
                  "execution_count": 31,
                  "metadata": {},
                  "outputs": [
                        {
                              "name": "stdout",
                              "output_type": "stream",
                              "text": [
                                    "En la rama new_feature\n",
                                    "Cambios a ser confirmados:\n",
                                    "  (usa \"git restore --staged <archivo>...\" para sacar del área de stage)\n",
                                    "\t\u001b[32mnuevos archivos: archivo9.py\u001b[m\n",
                                    "\n",
                                    "Descartado refs/stash@{0} (0246b0e922f654e7fc68cfeaf26e24fc511feb37)\n"
                              ]
                        }
                  ],
                  "source": [
                        "!cd notebook_git && git stash pop"
                  ]
            },
            {
                  "attachments": {},
                  "cell_type": "markdown",
                  "metadata": {},
                  "source": [
                        "Se fizermos o status de idiota novamente, veremos que temos `file9.py` pending commit again."
                  ]
            },
            {
                  "cell_type": "code",
                  "execution_count": 32,
                  "metadata": {},
                  "outputs": [
                        {
                              "name": "stdout",
                              "output_type": "stream",
                              "text": [
                                    "En la rama new_feature\n",
                                    "Cambios a ser confirmados:\n",
                                    "  (usa \"git restore --staged <archivo>...\" para sacar del área de stage)\n",
                                    "\t\u001b[32mnuevos archivos: archivo9.py\u001b[m\n",
                                    "\n"
                              ]
                        }
                  ],
                  "source": [
                        "!cd notebook_git && git status"
                  ]
            },
            {
                  "attachments": {},
                  "cell_type": "markdown",
                  "metadata": {},
                  "source": [
                        "E, se verificarmos a lista de estoque, só nos resta um estoque."
                  ]
            },
            {
                  "cell_type": "code",
                  "execution_count": 33,
                  "metadata": {},
                  "outputs": [
                        {
                              "name": "stdout",
                              "output_type": "stream",
                              "text": [
                                    "stash@{0}: WIP on new_feature: 527e07a Create README.md\n"
                              ]
                        }
                  ],
                  "source": [
                        "!cd notebook_git && git stash list"
                  ]
            },
            {
                  "attachments": {},
                  "cell_type": "markdown",
                  "metadata": {},
                  "source": [
                        "#### Apagar um esconderijo (`git stash drop <position>`)"
                  ]
            },
            {
                  "attachments": {},
                  "cell_type": "markdown",
                  "metadata": {},
                  "source": [
                        "Se quisermos excluir um esconderijo, temos que fazer ``git stash drop<position>` onde `<position>` é a posição do esconderijo na lista."
                  ]
            },
            {
                  "attachments": {},
                  "cell_type": "markdown",
                  "metadata": {},
                  "source": [
                        "Recebemos a lista do esconderijo"
                  ]
            },
            {
                  "cell_type": "code",
                  "execution_count": 34,
                  "metadata": {},
                  "outputs": [
                        {
                              "name": "stdout",
                              "output_type": "stream",
                              "text": [
                                    "stash@{0}: WIP on new_feature: 527e07a Create README.md\n"
                              ]
                        }
                  ],
                  "source": [
                        "!cd notebook_git && git stash list"
                  ]
            },
            {
                  "attachments": {},
                  "cell_type": "markdown",
                  "metadata": {},
                  "source": [
                        "Em nosso caso só temos um e na posição 0 (`stash@{0}`), então para removê-lo teríamos que fazer `git stash drop 0`, porém não vou fazer isso porque vou removê-lo mais tarde com outro comando"
                  ]
            },
            {
                  "attachments": {},
                  "cell_type": "markdown",
                  "metadata": {},
                  "source": [
                        "#### Remover todos os esconderijos (`git stash clear`)"
                  ]
            },
            {
                  "attachments": {},
                  "cell_type": "markdown",
                  "metadata": {},
                  "source": [
                        "Se quisermos limpar toda a lista de estoque, temos que fazer \"limpar o estoque\"."
                  ]
            },
            {
                  "cell_type": "code",
                  "execution_count": 35,
                  "metadata": {},
                  "outputs": [],
                  "source": [
                        "!cd notebook_git && git stash clear"
                  ]
            },
            {
                  "attachments": {},
                  "cell_type": "markdown",
                  "metadata": {},
                  "source": [
                        "Se agora pedirmos a lista de estoque"
                  ]
            },
            {
                  "cell_type": "code",
                  "execution_count": 36,
                  "metadata": {},
                  "outputs": [],
                  "source": [
                        "!cd notebook_git && git stash list"
                  ]
            },
            {
                  "attachments": {},
                  "cell_type": "markdown",
                  "metadata": {},
                  "source": [
                        "Não recebemos nada porque eliminamos todos"
                  ]
            },
            {
                  "attachments": {},
                  "cell_type": "markdown",
                  "metadata": {},
                  "source": [
                        "Vamos deixar tudo como estava, fazer um \"status de idiota\" para lembrar as mudanças que tínhamos pendentes."
                  ]
            },
            {
                  "cell_type": "code",
                  "execution_count": 37,
                  "metadata": {},
                  "outputs": [
                        {
                              "name": "stdout",
                              "output_type": "stream",
                              "text": [
                                    "En la rama new_feature\n",
                                    "Cambios a ser confirmados:\n",
                                    "  (usa \"git restore --staged <archivo>...\" para sacar del área de stage)\n",
                                    "\t\u001b[32mnuevos archivos: archivo9.py\u001b[m\n",
                                    "\n"
                              ]
                        }
                  ],
                  "source": [
                        "!cd notebook_git && git status"
                  ]
            },
            {
                  "attachments": {},
                  "cell_type": "markdown",
                  "metadata": {},
                  "source": [
                        "Vemos que estamos na ramificação \"nova_função\" e que temos `file9.py` pendente de um compromisso, já que o criamos para o exemplo, o apagamos e voltamos para a ramificação principal."
                  ]
            },
            {
                  "cell_type": "code",
                  "execution_count": 39,
                  "metadata": {},
                  "outputs": [],
                  "source": [
                        "!cd notebook_git && git reset archivo9.py"
                  ]
            },
            {
                  "cell_type": "code",
                  "execution_count": 41,
                  "metadata": {},
                  "outputs": [],
                  "source": [
                        "!cd notebook_git && rm archivo9.py"
                  ]
            },
            {
                  "cell_type": "code",
                  "execution_count": 42,
                  "metadata": {},
                  "outputs": [
                        {
                              "name": "stdout",
                              "output_type": "stream",
                              "text": [
                                    "Cambiado a rama 'main'\n",
                                    "Tu rama está actualizada con 'origin/main'.\n"
                              ]
                        }
                  ],
                  "source": [
                        "!cd notebook_git && git switch main"
                  ]
            },
            {
                  "attachments": {},
                  "cell_type": "markdown",
                  "metadata": {},
                  "source": [
                        "## Etiquetas"
                  ]
            },
            {
                  "attachments": {},
                  "cell_type": "markdown",
                  "metadata": {},
                  "source": [
                        "Quando estamos desenvolvendo código, surgem momentos em que geramos versões, por exemplo `v1.1`, `v1.2`, etc. Para manter isto sob controle, o git nos fornece etiquetas."
                  ]
            },
            {
                  "attachments": {},
                  "cell_type": "markdown",
                  "metadata": {},
                  "source": [
                        "### Criar nova tag (`git tag -a <tag_name> -m \"<message>\"`)"
                  ]
            },
            {
                  "attachments": {},
                  "cell_type": "markdown",
                  "metadata": {},
                  "source": [
                        "Para criar uma tag temos que fazer `git tag -a <tag_name> -m \"<message>\"`."
                  ]
            },
            {
                  "attachments": {},
                  "cell_type": "markdown",
                  "metadata": {},
                  "source": [
                        "Por exemplo, vamos criar uma tag na versão atual do repositório, para isso vou fazer `git tag -a v_tag -m \"Tag com o repositório na parte final, onde explicamos as tags\"`."
                  ]
            },
            {
                  "cell_type": "code",
                  "execution_count": 1,
                  "metadata": {},
                  "outputs": [],
                  "source": [
                        "!cd notebook_git && git tag -a v_tag -m \"Tag con el repositorio en la parte final, en la que explicamos los tags\""
                  ]
            },
            {
                  "attachments": {},
                  "cell_type": "markdown",
                  "metadata": {},
                  "source": [
                        "### Lista de tags (`git tag`)"
                  ]
            },
            {
                  "attachments": {},
                  "cell_type": "markdown",
                  "metadata": {},
                  "source": [
                        "Para ver as tags que criamos, podemos fazer `git tag`."
                  ]
            },
            {
                  "cell_type": "code",
                  "execution_count": 2,
                  "metadata": {},
                  "outputs": [
                        {
                              "name": "stdout",
                              "output_type": "stream",
                              "text": [
                                    "v_tag\n"
                              ]
                        }
                  ],
                  "source": [
                        "!cd notebook_git && git tag"
                  ]
            },
            {
                  "attachments": {},
                  "cell_type": "markdown",
                  "metadata": {},
                  "source": [
                        "### Criar uma tag a partir de um compromisso antigo (`git tag -a <tag_name> -m \"<message>\" <hash>`)"
                  ]
            },
            {
                  "attachments": {},
                  "cell_type": "markdown",
                  "metadata": {},
                  "source": [
                        "Vamos fazer uma \"árvore de git\" para ver a história"
                  ]
            },
            {
                  "cell_type": "code",
                  "execution_count": 3,
                  "metadata": {},
                  "outputs": [
                        {
                              "name": "stdout",
                              "output_type": "stream",
                              "text": [
                                    "* \u001b[33m527e07a\u001b[m\u001b[33m (\u001b[m\u001b[1;36mHEAD -> \u001b[m\u001b[1;32mmain\u001b[m\u001b[33m, \u001b[m\u001b[1;33mtag: v_tag\u001b[m\u001b[33m, \u001b[m\u001b[1;31morigin/main\u001b[m\u001b[33m, \u001b[m\u001b[1;32mnew_feature\u001b[m\u001b[33m)\u001b[m Create README.md\n",
                                    "*   \u001b[33m679bb49\u001b[m archivo1.py con el merge resuelto\n",
                                    "\u001b[32m|\u001b[m\u001b[33m\\\u001b[m  \n",
                                    "\u001b[32m|\u001b[m * \u001b[33m32851c3\u001b[m archivo1.py en rama rama_con_conflicto\n",
                                    "* \u001b[33m|\u001b[m \u001b[33m53f909b\u001b[m archivo1.py en rama main\n",
                                    "\u001b[33m|\u001b[m\u001b[33m/\u001b[m  \n",
                                    "* \u001b[33m52acb97\u001b[m Merge squash de los commits de la rama branch_squash\n",
                                    "*   \u001b[33m274529c\u001b[m Merge branch 'branch_no_fast_forward' into main\n",
                                    "\u001b[34m|\u001b[m\u001b[35m\\\u001b[m  \n",
                                    "\u001b[34m|\u001b[m * \u001b[33m8df3429\u001b[m\u001b[33m (\u001b[m\u001b[1;32mbranch_no_fast_forward\u001b[m\u001b[33m)\u001b[m file2\n",
                                    "\u001b[34m|\u001b[m * \u001b[33me4e23c9\u001b[m file1\n",
                                    "* \u001b[35m|\u001b[m \u001b[33m8bdf4d8\u001b[m file3\n",
                                    "\u001b[35m|\u001b[m\u001b[35m/\u001b[m  \n",
                                    "* \u001b[33m94149fc\u001b[m\u001b[33m (\u001b[m\u001b[1;32mbranch_fast_forward\u001b[m\u001b[33m)\u001b[m Eliminado hola.py\n",
                                    "* \u001b[33m4484e70\u001b[m Eliminado archivo4.py\n",
                                    "* \u001b[33m564ccfb\u001b[m\u001b[33m (\u001b[m\u001b[1;32mnew_branch2\u001b[m\u001b[33m)\u001b[m Commit con el archivo 8\n",
                                    "* \u001b[33m5168f78\u001b[m Eliminado archivo7.py\n",
                                    "* \u001b[33m4bb9d75\u001b[m\u001b[33m (\u001b[m\u001b[1;32mnew_branch\u001b[m\u001b[33m)\u001b[m Commit con el archivo 7\n",
                                    "* \u001b[33mea615a9\u001b[m Eliminado archivo5.py\n",
                                    "* \u001b[33me3153a5\u001b[m Commit con los archivos 4 y 5\n",
                                    "* \u001b[33m0b09cfa\u001b[m Añadido .gitignore\n",
                                    "* \u001b[33m04ebd1f\u001b[m Commit con los archivos 1 y 2\n",
                                    "* \u001b[33mc4930d7\u001b[m Tercer commit, hola.py\n",
                                    "* \u001b[33m6e99e73\u001b[m Segundo commit, hola.py\n",
                                    "* \u001b[33m1c95e4f\u001b[m Primer commit, hola.py\n"
                              ]
                        }
                  ],
                  "source": [
                        "!cd notebook_git && git tree"
                  ]
            },
            {
                  "attachments": {},
                  "cell_type": "markdown",
                  "metadata": {},
                  "source": [
                        "Embora não diga isso na descrição, quando fizemos o commit `4bb9d75` foi quando terminamos a parte de controle de versão localmente, então também seria bom ter uma etiqueta a partir daquele momento. Para fazer isso, o que precisamos fazer é criar uma tag adicionando o hash daquele ponto no tempo"
                  ]
            },
            {
                  "cell_type": "code",
                  "execution_count": 4,
                  "metadata": {},
                  "outputs": [],
                  "source": [
                        "!cd notebook_git && git tag -a v_local -m \"Tag con el repositorio en la parte de control de versiones de manera local\" 4bb9d75"
                  ]
            },
            {
                  "attachments": {},
                  "cell_type": "markdown",
                  "metadata": {},
                  "source": [
                        "Se agora fizermos uma lista das etiquetas, a nova aparece."
                  ]
            },
            {
                  "cell_type": "code",
                  "execution_count": 5,
                  "metadata": {},
                  "outputs": [
                        {
                              "name": "stdout",
                              "output_type": "stream",
                              "text": [
                                    "v_local\n",
                                    "v_tag\n"
                              ]
                        }
                  ],
                  "source": [
                        "!cd notebook_git && git tag"
                  ]
            },
            {
                  "attachments": {},
                  "cell_type": "markdown",
                  "metadata": {},
                  "source": [
                        "E se olharmos para a história do compromisso"
                  ]
            },
            {
                  "cell_type": "code",
                  "execution_count": 8,
                  "metadata": {},
                  "outputs": [
                        {
                              "name": "stdout",
                              "output_type": "stream",
                              "text": [
                                    "* \u001b[33m527e07a\u001b[m\u001b[33m (\u001b[m\u001b[1;36mHEAD -> \u001b[m\u001b[1;32mmain\u001b[m\u001b[33m, \u001b[m\u001b[1;33mtag: v_tag\u001b[m\u001b[33m, \u001b[m\u001b[1;31morigin/main\u001b[m\u001b[33m, \u001b[m\u001b[1;32mnew_feature\u001b[m\u001b[33m)\u001b[m Create README.md\n",
                                    "*   \u001b[33m679bb49\u001b[m archivo1.py con el merge resuelto\n",
                                    "\u001b[32m|\u001b[m\u001b[33m\\\u001b[m  \n",
                                    "\u001b[32m|\u001b[m * \u001b[33m32851c3\u001b[m archivo1.py en rama rama_con_conflicto\n",
                                    "* \u001b[33m|\u001b[m \u001b[33m53f909b\u001b[m archivo1.py en rama main\n",
                                    "\u001b[33m|\u001b[m\u001b[33m/\u001b[m  \n",
                                    "* \u001b[33m52acb97\u001b[m Merge squash de los commits de la rama branch_squash\n",
                                    "*   \u001b[33m274529c\u001b[m Merge branch 'branch_no_fast_forward' into main\n",
                                    "\u001b[34m|\u001b[m\u001b[35m\\\u001b[m  \n",
                                    "\u001b[34m|\u001b[m * \u001b[33m8df3429\u001b[m\u001b[33m (\u001b[m\u001b[1;32mbranch_no_fast_forward\u001b[m\u001b[33m)\u001b[m file2\n",
                                    "\u001b[34m|\u001b[m * \u001b[33me4e23c9\u001b[m file1\n",
                                    "* \u001b[35m|\u001b[m \u001b[33m8bdf4d8\u001b[m file3\n",
                                    "\u001b[35m|\u001b[m\u001b[35m/\u001b[m  \n",
                                    "* \u001b[33m94149fc\u001b[m\u001b[33m (\u001b[m\u001b[1;32mbranch_fast_forward\u001b[m\u001b[33m)\u001b[m Eliminado hola.py\n",
                                    "* \u001b[33m4484e70\u001b[m Eliminado archivo4.py\n",
                                    "* \u001b[33m564ccfb\u001b[m\u001b[33m (\u001b[m\u001b[1;32mnew_branch2\u001b[m\u001b[33m)\u001b[m Commit con el archivo 8\n",
                                    "* \u001b[33m5168f78\u001b[m Eliminado archivo7.py\n",
                                    "* \u001b[33m4bb9d75\u001b[m\u001b[33m (\u001b[m\u001b[1;33mtag: v_local\u001b[m\u001b[33m, \u001b[m\u001b[1;32mnew_branch\u001b[m\u001b[33m)\u001b[m Commit con el archivo 7\n",
                                    "* \u001b[33mea615a9\u001b[m Eliminado archivo5.py\n",
                                    "* \u001b[33me3153a5\u001b[m Commit con los archivos 4 y 5\n",
                                    "* \u001b[33m0b09cfa\u001b[m Añadido .gitignore\n",
                                    "* \u001b[33m04ebd1f\u001b[m Commit con los archivos 1 y 2\n",
                                    "* \u001b[33mc4930d7\u001b[m Tercer commit, hola.py\n",
                                    "* \u001b[33m6e99e73\u001b[m Segundo commit, hola.py\n",
                                    "* \u001b[33m1c95e4f\u001b[m Primer commit, hola.py\n"
                              ]
                        }
                  ],
                  "source": [
                        "!cd notebook_git && git tree"
                  ]
            },
            {
                  "attachments": {},
                  "cell_type": "markdown",
                  "metadata": {},
                  "source": [
                        "No ponto da história onde criamos a tag, agora vemos a tag que criamos `* 4bb9d75 (tag: v_local, new_branch) Compromisso com o arquivo 7`."
                  ]
            },
            {
                  "attachments": {},
                  "cell_type": "markdown",
                  "metadata": {},
                  "source": [
                        "### Alternando entre as tags (`git reset --hard <tag>` ou `git reset --soft <tag>`)"
                  ]
            },
            {
                  "attachments": {},
                  "cell_type": "markdown",
                  "metadata": {},
                  "source": [
                        "Assim como podemos nos movimentar entre compromissos na história, também podemos nos movimentar entre etiquetas. Isto tem a vantagem de que podemos nos mover para outro ponto da história sem ter que conhecer o hash, sabendo o nome da tag que estabelecemos naquele momento, podemos nos mover simplesmente fazendo `git reset --hard <tag>` ou `git reset --soft <tag>`."
                  ]
            },
            {
                  "attachments": {},
                  "cell_type": "markdown",
                  "metadata": {},
                  "source": [
                        "Primeiro vamos fazer um `ls' para ver quais arquivos temos"
                  ]
            },
            {
                  "cell_type": "code",
                  "execution_count": 6,
                  "metadata": {},
                  "outputs": [
                        {
                              "name": "stdout",
                              "output_type": "stream",
                              "text": [
                                    "api_keys.py  archivo1.py  archivo2.py  archivo8.py  README.md\n"
                              ]
                        }
                  ],
                  "source": [
                        "!cd notebook_git && ls"
                  ]
            },
            {
                  "attachments": {},
                  "cell_type": "markdown",
                  "metadata": {},
                  "source": [
                        "Fazemos uma `árvore de git` também para ver onde estamos em nossa história."
                  ]
            },
            {
                  "cell_type": "code",
                  "execution_count": 7,
                  "metadata": {},
                  "outputs": [
                        {
                              "name": "stdout",
                              "output_type": "stream",
                              "text": [
                                    "* \u001b[33m527e07a\u001b[m\u001b[33m (\u001b[m\u001b[1;36mHEAD -> \u001b[m\u001b[1;32mmain\u001b[m\u001b[33m, \u001b[m\u001b[1;33mtag: v_tag\u001b[m\u001b[33m, \u001b[m\u001b[1;31morigin/main\u001b[m\u001b[33m, \u001b[m\u001b[1;32mnew_feature\u001b[m\u001b[33m)\u001b[m Create README.md\n",
                                    "*   \u001b[33m679bb49\u001b[m archivo1.py con el merge resuelto\n",
                                    "\u001b[32m|\u001b[m\u001b[33m\\\u001b[m  \n",
                                    "\u001b[32m|\u001b[m * \u001b[33m32851c3\u001b[m archivo1.py en rama rama_con_conflicto\n",
                                    "* \u001b[33m|\u001b[m \u001b[33m53f909b\u001b[m archivo1.py en rama main\n",
                                    "\u001b[33m|\u001b[m\u001b[33m/\u001b[m  \n",
                                    "* \u001b[33m52acb97\u001b[m Merge squash de los commits de la rama branch_squash\n",
                                    "*   \u001b[33m274529c\u001b[m Merge branch 'branch_no_fast_forward' into main\n",
                                    "\u001b[34m|\u001b[m\u001b[35m\\\u001b[m  \n",
                                    "\u001b[34m|\u001b[m * \u001b[33m8df3429\u001b[m\u001b[33m (\u001b[m\u001b[1;32mbranch_no_fast_forward\u001b[m\u001b[33m)\u001b[m file2\n",
                                    "\u001b[34m|\u001b[m * \u001b[33me4e23c9\u001b[m file1\n",
                                    "* \u001b[35m|\u001b[m \u001b[33m8bdf4d8\u001b[m file3\n",
                                    "\u001b[35m|\u001b[m\u001b[35m/\u001b[m  \n",
                                    "* \u001b[33m94149fc\u001b[m\u001b[33m (\u001b[m\u001b[1;32mbranch_fast_forward\u001b[m\u001b[33m)\u001b[m Eliminado hola.py\n",
                                    "* \u001b[33m4484e70\u001b[m Eliminado archivo4.py\n",
                                    "* \u001b[33m564ccfb\u001b[m\u001b[33m (\u001b[m\u001b[1;32mnew_branch2\u001b[m\u001b[33m)\u001b[m Commit con el archivo 8\n",
                                    "* \u001b[33m5168f78\u001b[m Eliminado archivo7.py\n",
                                    "* \u001b[33m4bb9d75\u001b[m\u001b[33m (\u001b[m\u001b[1;33mtag: v_local\u001b[m\u001b[33m, \u001b[m\u001b[1;32mnew_branch\u001b[m\u001b[33m)\u001b[m Commit con el archivo 7\n",
                                    "* \u001b[33mea615a9\u001b[m Eliminado archivo5.py\n",
                                    "* \u001b[33me3153a5\u001b[m Commit con los archivos 4 y 5\n",
                                    "* \u001b[33m0b09cfa\u001b[m Añadido .gitignore\n",
                                    "* \u001b[33m04ebd1f\u001b[m Commit con los archivos 1 y 2\n",
                                    "* \u001b[33mc4930d7\u001b[m Tercer commit, hola.py\n",
                                    "* \u001b[33m6e99e73\u001b[m Segundo commit, hola.py\n",
                                    "* \u001b[33m1c95e4f\u001b[m Primer commit, hola.py\n"
                              ]
                        }
                  ],
                  "source": [
                        "!cd notebook_git && git tree"
                  ]
            },
            {
                  "attachments": {},
                  "cell_type": "markdown",
                  "metadata": {},
                  "source": [
                        "Agora mudamos para o ponto onde criamos a tag `v_local` utilizando `git reset --hard v_local`."
                  ]
            },
            {
                  "cell_type": "code",
                  "execution_count": 10,
                  "metadata": {},
                  "outputs": [
                        {
                              "name": "stdout",
                              "output_type": "stream",
                              "text": [
                                    "HEAD está ahora en 4bb9d75 Commit con el archivo 7\n"
                              ]
                        }
                  ],
                  "source": [
                        "!cd notebook_git && git reset --hard v_local"
                  ]
            },
            {
                  "attachments": {},
                  "cell_type": "markdown",
                  "metadata": {},
                  "source": [
                        "Se agora refizermos um `ls', vemos que não temos os mesmos arquivos."
                  ]
            },
            {
                  "cell_type": "code",
                  "execution_count": 11,
                  "metadata": {},
                  "outputs": [
                        {
                              "name": "stdout",
                              "output_type": "stream",
                              "text": [
                                    "api_keys.py  archivo1.py  archivo2.py  archivo4.py  archivo7.py  hola.py\n"
                              ]
                        }
                  ],
                  "source": [
                        "!cd notebook_git && ls"
                  ]
            },
            {
                  "attachments": {},
                  "cell_type": "markdown",
                  "metadata": {},
                  "source": [
                        "Se olharmos também para a história, podemos ver que mudamos o momento da história"
                  ]
            },
            {
                  "cell_type": "code",
                  "execution_count": 12,
                  "metadata": {},
                  "outputs": [
                        {
                              "name": "stdout",
                              "output_type": "stream",
                              "text": [
                                    "* \u001b[33m4bb9d75\u001b[m\u001b[33m (\u001b[m\u001b[1;36mHEAD -> \u001b[m\u001b[1;32mmain\u001b[m\u001b[33m, \u001b[m\u001b[1;33mtag: v_local\u001b[m\u001b[33m, \u001b[m\u001b[1;32mnew_branch\u001b[m\u001b[33m)\u001b[m Commit con el archivo 7\n",
                                    "* \u001b[33mea615a9\u001b[m Eliminado archivo5.py\n",
                                    "* \u001b[33me3153a5\u001b[m Commit con los archivos 4 y 5\n",
                                    "* \u001b[33m0b09cfa\u001b[m Añadido .gitignore\n",
                                    "* \u001b[33m04ebd1f\u001b[m Commit con los archivos 1 y 2\n",
                                    "* \u001b[33mc4930d7\u001b[m Tercer commit, hola.py\n",
                                    "* \u001b[33m6e99e73\u001b[m Segundo commit, hola.py\n",
                                    "* \u001b[33m1c95e4f\u001b[m Primer commit, hola.py\n"
                              ]
                        }
                  ],
                  "source": [
                        "!cd notebook_git && git tree"
                  ]
            },
            {
                  "attachments": {},
                  "cell_type": "markdown",
                  "metadata": {},
                  "source": [
                        "Para voltar ao último ponto da história no tempo, como também criamos uma etiqueta, será suficiente fazer `git reset --hard v_tag'."
                  ]
            },
            {
                  "cell_type": "code",
                  "execution_count": 13,
                  "metadata": {},
                  "outputs": [
                        {
                              "name": "stdout",
                              "output_type": "stream",
                              "text": [
                                    "HEAD está ahora en 527e07a Create README.md\n"
                              ]
                        }
                  ],
                  "source": [
                        "!cd notebook_git && git reset --hard v_tag"
                  ]
            },
            {
                  "attachments": {},
                  "cell_type": "markdown",
                  "metadata": {},
                  "source": [
                        "Olhamos novamente para a história para verificar se estamos de volta ao último momento da história."
                  ]
            },
            {
                  "cell_type": "code",
                  "execution_count": 14,
                  "metadata": {},
                  "outputs": [
                        {
                              "name": "stdout",
                              "output_type": "stream",
                              "text": [
                                    "* \u001b[33m527e07a\u001b[m\u001b[33m (\u001b[m\u001b[1;36mHEAD -> \u001b[m\u001b[1;32mmain\u001b[m\u001b[33m, \u001b[m\u001b[1;33mtag: v_tag\u001b[m\u001b[33m, \u001b[m\u001b[1;31morigin/main\u001b[m\u001b[33m, \u001b[m\u001b[1;32mnew_feature\u001b[m\u001b[33m)\u001b[m Create README.md\n",
                                    "*   \u001b[33m679bb49\u001b[m archivo1.py con el merge resuelto\n",
                                    "\u001b[32m|\u001b[m\u001b[33m\\\u001b[m  \n",
                                    "\u001b[32m|\u001b[m * \u001b[33m32851c3\u001b[m archivo1.py en rama rama_con_conflicto\n",
                                    "* \u001b[33m|\u001b[m \u001b[33m53f909b\u001b[m archivo1.py en rama main\n",
                                    "\u001b[33m|\u001b[m\u001b[33m/\u001b[m  \n",
                                    "* \u001b[33m52acb97\u001b[m Merge squash de los commits de la rama branch_squash\n",
                                    "*   \u001b[33m274529c\u001b[m Merge branch 'branch_no_fast_forward' into main\n",
                                    "\u001b[34m|\u001b[m\u001b[35m\\\u001b[m  \n",
                                    "\u001b[34m|\u001b[m * \u001b[33m8df3429\u001b[m\u001b[33m (\u001b[m\u001b[1;32mbranch_no_fast_forward\u001b[m\u001b[33m)\u001b[m file2\n",
                                    "\u001b[34m|\u001b[m * \u001b[33me4e23c9\u001b[m file1\n",
                                    "* \u001b[35m|\u001b[m \u001b[33m8bdf4d8\u001b[m file3\n",
                                    "\u001b[35m|\u001b[m\u001b[35m/\u001b[m  \n",
                                    "* \u001b[33m94149fc\u001b[m\u001b[33m (\u001b[m\u001b[1;32mbranch_fast_forward\u001b[m\u001b[33m)\u001b[m Eliminado hola.py\n",
                                    "* \u001b[33m4484e70\u001b[m Eliminado archivo4.py\n",
                                    "* \u001b[33m564ccfb\u001b[m\u001b[33m (\u001b[m\u001b[1;32mnew_branch2\u001b[m\u001b[33m)\u001b[m Commit con el archivo 8\n",
                                    "* \u001b[33m5168f78\u001b[m Eliminado archivo7.py\n",
                                    "* \u001b[33m4bb9d75\u001b[m\u001b[33m (\u001b[m\u001b[1;33mtag: v_local\u001b[m\u001b[33m, \u001b[m\u001b[1;32mnew_branch\u001b[m\u001b[33m)\u001b[m Commit con el archivo 7\n",
                                    "* \u001b[33mea615a9\u001b[m Eliminado archivo5.py\n",
                                    "* \u001b[33me3153a5\u001b[m Commit con los archivos 4 y 5\n",
                                    "* \u001b[33m0b09cfa\u001b[m Añadido .gitignore\n",
                                    "* \u001b[33m04ebd1f\u001b[m Commit con los archivos 1 y 2\n",
                                    "* \u001b[33mc4930d7\u001b[m Tercer commit, hola.py\n",
                                    "* \u001b[33m6e99e73\u001b[m Segundo commit, hola.py\n",
                                    "* \u001b[33m1c95e4f\u001b[m Primer commit, hola.py\n"
                              ]
                        }
                  ],
                  "source": [
                        "!cd notebook_git && git tree"
                  ]
            }
      ],
      "metadata": {
            "kernelspec": {
                  "display_name": "base",
                  "language": "python",
                  "name": "python3"
            },
            "language_info": {
                  "codemirror_mode": {
                        "name": "ipython",
                        "version": 3
                  },
                  "file_extension": ".py",
                  "mimetype": "text/x-python",
                  "name": "python",
                  "nbconvert_exporter": "python",
                  "pygments_lexer": "ipython3",
                  "version": "3.10.9"
            },
            "orig_nbformat": 4
      },
      "nbformat": 4,
      "nbformat_minor": 2
}
