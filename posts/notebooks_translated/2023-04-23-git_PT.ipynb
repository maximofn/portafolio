{
  "cells": [
    {
      "attachments": {},
      "cell_type": "markdown",
      "metadata": {},
      "source": [
        "# Git"
      ]
    },
    {
      "attachments": {},
      "cell_type": "markdown",
      "metadata": {},
      "source": [
        " > Aviso: Este post foi traduzido para o portugu\u00eas usando um modelo de tradu\u00e7\u00e3o autom\u00e1tica. Por favor, me avise se encontrar algum erro."
      ]
    },
    {
      "attachments": {},
      "cell_type": "markdown",
      "metadata": {},
      "source": [
        "## Introdu\u00e7\u00e3o"
      ]
    },
    {
      "attachments": {},
      "cell_type": "markdown",
      "metadata": {},
      "source": [
        "Git \u00e9 um software de controle de vers\u00f5es criado por Linus Torvalds, que o desenvolveu para ter um bom controle de vers\u00f5es ao desenvolver o kernel do Linux."
      ]
    },
    {
      "attachments": {},
      "cell_type": "markdown",
      "metadata": {},
      "source": [
        "## As \u00e1reas do git"
      ]
    },
    {
      "attachments": {},
      "cell_type": "markdown",
      "metadata": {},
      "source": [
        "Git tem tr\u00eas \u00e1reas, embora tamb\u00e9m se possa considerar uma quarta.",
        "\n",
        "![git states](https://pub-fb664c455eca46a2ba762a065ac900f7.r2.dev/git-states.webp)",
        "\n",
        "* A primeira \u00e9 nosso espa\u00e7o de trabalho, onde temos todo o nosso c\u00f3digo. Aqui, quando modificamos ou criamos um arquivo, ele passa a estar como n\u00e3o rastreado, ent\u00e3o precisamos mov\u00ea-lo para a \u00e1rea de `staged`",
        "* A segunda \u00e1rea \u00e9 a de `staged`. Aqui os arquivos que hav\u00edamos modificado ou criado e que estavam n\u00e3o *trackeados* passam a estar trackeados, ou seja, git faz um acompanhamento. Aqui enviaremos os arquivos para a pr\u00f3xima \u00e1rea de `head`",
        "* A terceira \u00e1rea \u00e9 a de `head`. Nela registramos uma vers\u00e3o do nosso c\u00f3digo. Dessa forma, registrando vers\u00f5es podemos voltar a vers\u00f5es anteriores se necess\u00e1rio. A vers\u00e3o registrada do nosso c\u00f3digo pode ser enviada para um servidor de modo que seja acess\u00edvel por v\u00e1rias pessoas.",
        "* As tr\u00eas \u00e1reas anteriores correspondem ao trabalho local, mas h\u00e1 uma \u00e1rea adicional e \u00e9 a de `remote server`. Aqui, o que fazemos \u00e9 enviar a vers\u00e3o gravada do nosso c\u00f3digo para um servidor, de modo que tenhamos acesso ao c\u00f3digo de qualquer lugar ou que mais pessoas tenham acesso.",
        "\n",
        "Para fazer um s\u00edmil, \u00e9 como um cen\u00e1rio em que voc\u00ea vai tirar uma foto. Primeiro, voc\u00ea tem seus arquivos modificados, ent\u00e3o os que quer imortalizar voc\u00ea envia para a \u00e1rea de `staged`, ou seja, o palco. No momento em que enviou todos os arquivos que considera, tira a foto, portanto, envia todos os arquivos para a \u00e1rea de `head`. Dessa forma, voc\u00ea pode ir tirando muitas fotos conforme o c\u00f3digo evolui, de maneira que pode ter um \u00e1lbum de fotos com a evolu\u00e7\u00e3o do c\u00f3digo. Por fim, voc\u00ea pode enviar essa foto para um servidor para que seja acess\u00edvel por mais pessoas, ou seja, os envia para a \u00e1rea de `remote server`."
      ]
    },
    {
      "attachments": {},
      "cell_type": "markdown",
      "metadata": {},
      "source": [
        "## Instalar git"
      ]
    },
    {
      "attachments": {},
      "cell_type": "markdown",
      "metadata": {},
      "source": [
        "Em maioria das distribui\u00e7\u00f5es Linux, o Git j\u00e1 vem instalado. Podemos verificar isso usando `git --version`."
      ]
    },
    {
      "cell_type": "code",
      "execution_count": 1,
      "metadata": {},
      "outputs": [
        {
          "name": "stdout",
          "output_type": "stream",
          "text": [
            "git version 2.25.1\n"
          ]
        }
      ],
      "source": [
        "!git --version"
      ]
    },
    {
      "attachments": {},
      "cell_type": "markdown",
      "metadata": {},
      "source": [
        "Se voc\u00ea n\u00e3o tiver ou quiser atualizar a vers\u00e3o do git, basta executar `sudo apt update` e em seguida `sudo apt install git`"
      ]
    },
    {
      "cell_type": "code",
      "execution_count": 3,
      "metadata": {},
      "outputs": [
        {
          "name": "stdout",
          "output_type": "stream",
          "text": [
            "[sudo] password for maximo.fernandez@AEROESPACIAL.SENER: \n"
          ]
        }
      ],
      "source": [
        "!sudo apt update && sudo apt install git"
      ]
    },
    {
      "attachments": {},
      "cell_type": "markdown",
      "metadata": {},
      "source": [
        "Voltamos a verificar a vers\u00e3o"
      ]
    },
    {
      "cell_type": "code",
      "execution_count": 4,
      "metadata": {},
      "outputs": [
        {
          "name": "stdout",
          "output_type": "stream",
          "text": [
            "git version 2.25.1\n"
          ]
        }
      ],
      "source": [
        "!git --version"
      ]
    },
    {
      "attachments": {},
      "cell_type": "markdown",
      "metadata": {},
      "source": [
        "No meu caso, eu j\u00e1 tinha a \u00faltima vers\u00e3o."
      ]
    },
    {
      "attachments": {},
      "cell_type": "markdown",
      "metadata": {},
      "source": [
        "## Configura\u00e7\u00e3o inicial"
      ]
    },
    {
      "attachments": {},
      "cell_type": "markdown",
      "metadata": {},
      "source": [
        "### Configura\u00e7\u00e3o do nome e do email"
      ]
    },
    {
      "attachments": {},
      "cell_type": "markdown",
      "metadata": {},
      "source": [
        "Antes de come\u00e7ar a usar o git \u00e9 recomend\u00e1vel que fa\u00e7a algumas configura\u00e7\u00f5es m\u00ednimas, como o nome de usu\u00e1rio e o email. Esta informa\u00e7\u00e3o ser\u00e1 exibida quando for mostrado quem fez altera\u00e7\u00f5es no c\u00f3digo. Para fazer isso, \u00e9 necess\u00e1rio executar",
        "\n",
        "\n",
        "```bash\n",
        "git config --global user.name \"<nome de usu\u00e1rio>\"",
        "git config --global user.email \"<email>\"",
        "```\n",
        "\n",
        "No meu caso, eu colocaria",
        "\n",
        "```bash\n",
        "git config --global user.name \"MaximoFN\"",
        "git config --global user.email \"maximofn@gmail.com\"",
        "```"
      ]
    },
    {
      "attachments": {},
      "cell_type": "markdown",
      "metadata": {},
      "source": [
        "Como se pode ver, a flag `--global` serve para alterar a configura\u00e7\u00e3o global do git. No entanto, se em um reposit\u00f3rio espec\u00edfico voc\u00ea precisa fornecer outros dados, basta navegar at\u00e9 o reposit\u00f3rio e remover a flag `--global` dos comandos anteriores.",
        "\n",
        "```bash\n",
        "git config user.name \"<nome do usu\u00e1rio>\"",
        "git config user.email \"<email>\"",
        "```"
      ]
    },
    {
      "attachments": {},
      "cell_type": "markdown",
      "metadata": {},
      "source": [
        "### Configurar o editor padr\u00e3o"
      ]
    },
    {
      "attachments": {},
      "cell_type": "markdown",
      "metadata": {},
      "source": [
        "Quando explicarmos o que s\u00e3o os `commit`s veremos que em uma das op\u00e7\u00f5es pode nos abrir um navegador. Por padr\u00e3o, o git tentar\u00e1 usar `vim`, mas dado que n\u00e3o \u00e9 um editor muito simples de usar, podemos modific\u00e1-lo. A seguir, mostramos como fazer isso com alguns editores comuns.",
        "\n",
        "```bash\n",
        "git config --global core.editor \"code\"  # vscode como editor",
        "git config --global core.editor \"atom\"  # Atom como editor",
        "git config --global core.editor \"subl\"  # Sublime Text como editor",
        "git config --global core.editor \"nano\"  # Nano como editor",
        "```"
      ]
    },
    {
      "attachments": {},
      "cell_type": "markdown",
      "metadata": {},
      "source": [
        "### Verificar configura\u00e7\u00e3o do git"
      ]
    },
    {
      "attachments": {},
      "cell_type": "markdown",
      "metadata": {},
      "source": [
        "Para verificar a configura\u00e7\u00e3o do git, podemos usar `git config --list`"
      ]
    },
    {
      "cell_type": "code",
      "execution_count": 6,
      "metadata": {},
      "outputs": [
        {
          "name": "stdout",
          "output_type": "stream",
          "text": [
            "user.name=maximofn\n",
            "user.email=maximofn@gmail.com\n",
            "user.user=maximofn\n",
            "http.sslverify=true\n",
            "core.repositoryformatversion=0\n",
            "core.filemode=true\n",
            "core.bare=false\n",
            "core.logallrefupdates=true\n",
            "remote.origin.url=https://github.com/maximofn/portafolio.git\n",
            "remote.origin.fetch=+refs/heads/*:refs/remotes/origin/*\n",
            "branch.main.remote=origin\n",
            "branch.main.merge=refs/heads/main\n"
          ]
        }
      ],
      "source": [
        "!git config --list"
      ]
    },
    {
      "attachments": {},
      "cell_type": "markdown",
      "metadata": {},
      "source": [
        "Podemos usar os flags `--global`, `--local` e `--system` para ver apenas a configura\u00e7\u00e3o global, local (se existir) e do sistema (se existir)."
      ]
    },
    {
      "cell_type": "code",
      "execution_count": 8,
      "metadata": {},
      "outputs": [
        {
          "name": "stdout",
          "output_type": "stream",
          "text": [
            "user.name=maximofn\n",
            "user.email=maximofn@gmail.com\n",
            "user.user=maximofn\n",
            "http.sslverify=true\n"
          ]
        }
      ],
      "source": [
        "!git config --global --list"
      ]
    },
    {
      "cell_type": "code",
      "execution_count": 9,
      "metadata": {},
      "outputs": [
        {
          "name": "stdout",
          "output_type": "stream",
          "text": [
            "core.repositoryformatversion=0\n",
            "core.filemode=true\n",
            "core.bare=false\n",
            "core.logallrefupdates=true\n",
            "remote.origin.url=https://github.com/maximofn/portafolio.git\n",
            "remote.origin.fetch=+refs/heads/*:refs/remotes/origin/*\n",
            "branch.main.remote=origin\n",
            "branch.main.merge=refs/heads/main\n"
          ]
        }
      ],
      "source": [
        "!git config --local --list"
      ]
    },
    {
      "cell_type": "code",
      "execution_count": 10,
      "metadata": {},
      "outputs": [
        {
          "name": "stdout",
          "output_type": "stream",
          "text": [
            "fatal: unable to read config file '/etc/gitconfig': No such file or directory\n"
          ]
        }
      ],
      "source": [
        "!git config --system --list"
      ]
    },
    {
      "attachments": {},
      "cell_type": "markdown",
      "metadata": {},
      "source": [
        "No existe configura\u00e7\u00e3o de sistema no meu caso"
      ]
    },
    {
      "attachments": {},
      "cell_type": "markdown",
      "metadata": {},
      "source": [
        "Se quiser saber apenas o valor de um par\u00e2metro da configura\u00e7\u00e3o, basta inserir `git config <parameter>`"
      ]
    },
    {
      "cell_type": "code",
      "execution_count": 15,
      "metadata": {},
      "outputs": [
        {
          "name": "stdout",
          "output_type": "stream",
          "text": [
            "maximofn\n"
          ]
        }
      ],
      "source": [
        "!git config user.name"
      ]
    },
    {
      "attachments": {},
      "cell_type": "markdown",
      "metadata": {},
      "source": [
        "## Controle de vers\u00f5es localmente"
      ]
    },
    {
      "attachments": {},
      "cell_type": "markdown",
      "metadata": {},
      "source": [
        "### Inicializar um novo reposit\u00f3rio (`git init`)"
      ]
    },
    {
      "attachments": {},
      "cell_type": "markdown",
      "metadata": {},
      "source": [
        "H\u00e1 duas maneiras de inicializar um novo reposit\u00f3rio fazendo",
        "* Uma \u00e9 fazendo `git init <nome do reposit\u00f3rio>`. Isso criar\u00e1 uma nova pasta com o nome do reposit\u00f3rio.",
        "* Outra \u00e9 navegar at\u00e9 a pasta onde queremos criar um reposit\u00f3rio e fazer `git init`",
        "\n",
        "Vou criar um novo reposit\u00f3rio"
      ]
    },
    {
      "cell_type": "code",
      "execution_count": 1,
      "metadata": {},
      "outputs": [
        {
          "name": "stdout",
          "output_type": "stream",
          "text": [
            "Inicializado repositorio Git vac\u00edo en /home/wallabot/Documentos/web/portafolio/posts/notebook_git/.git/\n"
          ]
        }
      ],
      "source": [
        "!git init notebook_git"
      ]
    },
    {
      "attachments": {},
      "cell_type": "markdown",
      "metadata": {},
      "source": [
        "Se agora fizermos `ls` veremos que foi criada uma nova pasta chamada `notebook_git`"
      ]
    },
    {
      "cell_type": "code",
      "execution_count": 3,
      "metadata": {},
      "outputs": [
        {
          "name": "stdout",
          "output_type": "stream",
          "text": [
            "notebook_git\n"
          ]
        }
      ],
      "source": [
        "!ls | grep notebook_git"
      ]
    },
    {
      "attachments": {},
      "cell_type": "markdown",
      "metadata": {},
      "source": [
        "N\u00f3s nos movemos para ela"
      ]
    },
    {
      "cell_type": "code",
      "execution_count": 4,
      "metadata": {},
      "outputs": [],
      "source": [
        "!cd notebook_git"
      ]
    },
    {
      "attachments": {},
      "cell_type": "markdown",
      "metadata": {},
      "source": [
        "Agora dentro da pasta temos duas maneiras de saber que o reposit\u00f3rio foi criado, uma fazendo `ls -a` que mostrar\u00e1 todos os arquivos e veremos que h\u00e1 uma pasta chamada `.git`. A outra maneira \u00e9 fazendo `git status` que nos dir\u00e1 o estado do reposit\u00f3rio."
      ]
    },
    {
      "cell_type": "code",
      "execution_count": 5,
      "metadata": {},
      "outputs": [
        {
          "name": "stdout",
          "output_type": "stream",
          "text": [
            ".  ..  .git\n"
          ]
        }
      ],
      "source": [
        "!cd notebook_git && ls -a"
      ]
    },
    {
      "cell_type": "code",
      "execution_count": 6,
      "metadata": {},
      "outputs": [
        {
          "name": "stdout",
          "output_type": "stream",
          "text": [
            "En la rama master\n",
            "\n",
            "No hay commits todav\u00eda\n",
            "\n",
            "no hay nada para confirmar (crea/copia archivos y usa \"git add\" para hacerles seguimiento)\n"
          ]
        }
      ],
      "source": [
        "!cd notebook_git && git status"
      ]
    },
    {
      "attachments": {},
      "cell_type": "markdown",
      "metadata": {},
      "source": [
        "Como estamos em um notebook, cada c\u00e9lula tem seu `path` no `path` do notebook, por isso as duas vezes tive que fazer `cd notebook_git &&`, para mudar para a pasta com o reposit\u00f3rio que acabamos de criar."
      ]
    },
    {
      "attachments": {},
      "cell_type": "markdown",
      "metadata": {},
      "source": [
        "Se agora eu testar `git status` em outro `path` onde n\u00e3o tenha sido inicializado um reposit\u00f3rio, isso resultar\u00e1 em um erro."
      ]
    },
    {
      "cell_type": "code",
      "execution_count": 95,
      "metadata": {},
      "outputs": [
        {
          "name": "stdout",
          "output_type": "stream",
          "text": [
            "fatal: no es un repositorio git (ni ninguno de los directorios superiores): .git\n"
          ]
        }
      ],
      "source": [
        "!cd ~/ && git status"
      ]
    },
    {
      "attachments": {},
      "cell_type": "markdown",
      "metadata": {},
      "source": [
        "### Criar novos arquivos"
      ]
    },
    {
      "attachments": {},
      "cell_type": "markdown",
      "metadata": {},
      "source": [
        "No momento em que inicializamos um reposit\u00f3rio, podemos come\u00e7ar a criar novos arquivos, ent\u00e3o criamos um e vemos o que acontece."
      ]
    },
    {
      "cell_type": "code",
      "execution_count": 7,
      "metadata": {},
      "outputs": [],
      "source": [
        "!cd notebook_git && echo \"print('Hello World')\" > hello.py"
      ]
    },
    {
      "attachments": {},
      "cell_type": "markdown",
      "metadata": {},
      "source": [
        "Se agora executarmos `git status`, veremos que aparece"
      ]
    },
    {
      "cell_type": "code",
      "execution_count": 8,
      "metadata": {},
      "outputs": [
        {
          "name": "stdout",
          "output_type": "stream",
          "text": [
            "En la rama master\n",
            "\n",
            "No hay commits todav\u00eda\n",
            "\n",
            "Archivos sin seguimiento:\n",
            "  (usa \"git add <archivo>...\" para incluirlo a lo que se ser\u00e1 confirmado)\n",
            "\t\u001b[31mhello.py\u001b[m\n",
            "\n",
            "no hay nada agregado al commit pero hay archivos sin seguimiento presentes (usa \"git add\" para hacerles seguimiento)\n"
          ]
        }
      ],
      "source": [
        "!cd notebook_git && git status"
      ]
    },
    {
      "attachments": {},
      "cell_type": "markdown",
      "metadata": {},
      "source": [
        "Como se pode ver agora nos est\u00e1 dizendo que o arquivo `hello.py` n\u00e3o tem acompanhamento. Ou seja, temos que adicionar `hello.py` \u00e0 \u00e1rea de `staged`, que lembramos ser como o palco onde vamos colocar tudo o que mais tarde faremos um instant\u00e2neo."
      ]
    },
    {
      "attachments": {},
      "cell_type": "markdown",
      "metadata": {},
      "source": [
        "### Desfazer a cria\u00e7\u00e3o de um novo arquivo"
      ]
    },
    {
      "attachments": {},
      "cell_type": "markdown",
      "metadata": {},
      "source": [
        "Neste caso, como s\u00e3o arquivos que o Git ainda n\u00e3o est\u00e1 acompanhando, ou seja, que ainda n\u00e3o est\u00e3o na \u00e1rea de `staged`, ter\u00edamos tr\u00eas maneiras de fazer isso."
      ]
    },
    {
      "attachments": {},
      "cell_type": "markdown",
      "metadata": {},
      "source": [
        "* Apagando-o simplesmente: Como o git ainda n\u00e3o est\u00e1 seguindo o arquivo, podemos fazer `rm hello.py` e pronto.",
        "* Excluindo-o com um comando do Git: Antes exclu\u00edmos com `rm`, mas pode ser que voc\u00ea esteja em um sistema que n\u00e3o tenha o comando `rm`. Portanto, nesse caso, pode-se usar o comando do Git `git rm hello.py`",
        "* Por \u00faltimo, podemos usar `git clean`. Este \u00e9 \u00fatil, por exemplo, quando h\u00e1 muitos arquivos novos, e assim, em um \u00fanico comando, removemos todos."
      ]
    },
    {
      "attachments": {},
      "cell_type": "markdown",
      "metadata": {},
      "source": [
        "#### `git clean`"
      ]
    },
    {
      "attachments": {},
      "cell_type": "markdown",
      "metadata": {},
      "source": [
        "Se executarmos `git clean` sem nenhum argumento, receberemos um erro."
      ]
    },
    {
      "cell_type": "code",
      "execution_count": 9,
      "metadata": {},
      "outputs": [
        {
          "name": "stdout",
          "output_type": "stream",
          "text": [
            "fatal: clean.requireForce default en true y ninguno de -i, -n, ni -f entregado; rehusando el clean\n"
          ]
        }
      ],
      "source": [
        "!cd notebook_git && git clean"
      ]
    },
    {
      "attachments": {},
      "cell_type": "markdown",
      "metadata": {},
      "source": [
        "Ele nos diz que \u00e9 necess\u00e1rio adicionar um desses flags `-n`, `-i` ou `-f`. Al\u00e9m disso, vamos ver o flag `-d`.",
        "\n",
        "* `-n` (execu\u00e7\u00e3o simulada): Ditar\u00e1 quais arquivos ser\u00e3o exclu\u00eddos, mas n\u00e3o os excluir\u00e1",
        "* `-i`: Perguntar\u00e1 por cada arquivo que vai ser apagado",
        "* `-f`: For\u00e7ar\u00e1 a exclus\u00e3o dos arquivos",
        "* `-d`: Tamb\u00e9m excluir\u00e1 pastas"
      ]
    },
    {
      "attachments": {},
      "cell_type": "markdown",
      "metadata": {},
      "source": [
        "Vamos testar, primeiro fazemos `git clean -n` para saber quais arquivos seriam deletados"
      ]
    },
    {
      "cell_type": "code",
      "execution_count": 10,
      "metadata": {},
      "outputs": [
        {
          "name": "stdout",
          "output_type": "stream",
          "text": [
            "Ser\u00e1 borrado hello.py\n"
          ]
        }
      ],
      "source": [
        "!cd notebook_git && git clean -n"
      ]
    },
    {
      "attachments": {},
      "cell_type": "markdown",
      "metadata": {},
      "source": [
        "Agora fazemos `git clean -f` para que ele apague, j\u00e1 que concordamos em apag\u00e1-lo."
      ]
    },
    {
      "cell_type": "code",
      "execution_count": 11,
      "metadata": {},
      "outputs": [
        {
          "name": "stdout",
          "output_type": "stream",
          "text": [
            "Borrando hello.py\n"
          ]
        }
      ],
      "source": [
        "!cd notebook_git && git clean -f"
      ]
    },
    {
      "attachments": {},
      "cell_type": "markdown",
      "metadata": {},
      "source": [
        "Como vemos, ele apagou `hello.py`"
      ]
    },
    {
      "attachments": {},
      "cell_type": "markdown",
      "metadata": {},
      "source": [
        "### Adicionar um arquivo \u00e0 \u00e1rea de staged (`git add`)"
      ]
    },
    {
      "attachments": {},
      "cell_type": "markdown",
      "metadata": {},
      "source": [
        "Voltamos a criar um arquivo"
      ]
    },
    {
      "cell_type": "code",
      "execution_count": 12,
      "metadata": {},
      "outputs": [],
      "source": [
        "!cd notebook_git && echo \"print('Hola mundo')\" > hola.py"
      ]
    },
    {
      "attachments": {},
      "cell_type": "markdown",
      "metadata": {},
      "source": [
        "Voltamos a fazer um `git status` para verificar que temos o arquivo"
      ]
    },
    {
      "cell_type": "code",
      "execution_count": 13,
      "metadata": {},
      "outputs": [
        {
          "name": "stdout",
          "output_type": "stream",
          "text": [
            "En la rama master\n",
            "\n",
            "No hay commits todav\u00eda\n",
            "\n",
            "Archivos sin seguimiento:\n",
            "  (usa \"git add <archivo>...\" para incluirlo a lo que se ser\u00e1 confirmado)\n",
            "\t\u001b[31mhola.py\u001b[m\n",
            "\n",
            "no hay nada agregado al commit pero hay archivos sin seguimiento presentes (usa \"git add\" para hacerles seguimiento)\n"
          ]
        }
      ],
      "source": [
        "!cd notebook_git && git status"
      ]
    },
    {
      "attachments": {},
      "cell_type": "markdown",
      "metadata": {},
      "source": [
        "Vemos que temos o arquivo `hola.py` mas o git n\u00e3o est\u00e1 fazendo um acompanhamento. Al\u00e9m disso, vemos que ele ajuda e diz `use \"git add\" para fazer o acompanhamento`",
        "\n",
        "A sintaxe \u00e9 a seguinte `git add <arquivo>`, mas podemos faz\u00ea-lo de v\u00e1rias maneiras",
        "\n",
        "* Se quisermos adicionar mais de um arquivo, podemos fazer isso colocando todos os arquivos que desejamos adicionar \u00e0 \u00e1rea de staged, separados por um espa\u00e7o: `git add <arquivo1> <arquivo2> <arquivo3>`",
        "* Se quisermos adicionar todos os arquivos do mesmo formato, por exemplo, se quisermos adicionar todos os arquivos de Python seria `git add *.py`",
        "* Se quisermos adicionar todos os arquivos de uma pasta `git add <folder>/`",
        "* Se quisermos adicionar todos os arquivos temos tr\u00eas maneiras: `git add --all`, `git add -A` ou `git add .`"
      ]
    },
    {
      "attachments": {},
      "cell_type": "markdown",
      "metadata": {},
      "source": [
        "Vamos a adicionar o novo arquivo criado"
      ]
    },
    {
      "cell_type": "code",
      "execution_count": 14,
      "metadata": {},
      "outputs": [],
      "source": [
        "!cd notebook_git && git add hola.py"
      ]
    },
    {
      "attachments": {},
      "cell_type": "markdown",
      "metadata": {},
      "source": [
        "Fazemos um `git status` para ver o que aconteceu"
      ]
    },
    {
      "cell_type": "code",
      "execution_count": 15,
      "metadata": {},
      "outputs": [
        {
          "name": "stdout",
          "output_type": "stream",
          "text": [
            "En la rama master\n",
            "\n",
            "No hay commits todav\u00eda\n",
            "\n",
            "Cambios a ser confirmados:\n",
            "  (usa \"git rm --cached <archivo>...\" para sacar del \u00e1rea de stage)\n",
            "\t\u001b[32mnuevos archivos: hola.py\u001b[m\n",
            "\n"
          ]
        }
      ],
      "source": [
        "!cd notebook_git && git status"
      ]
    },
    {
      "attachments": {},
      "cell_type": "markdown",
      "metadata": {},
      "source": [
        "Como vemos, nos diz que temos um novo arquivo ao qual ele faz o acompanhamento e que est\u00e1 pendente de ser confirmado `hola.py`"
      ]
    },
    {
      "attachments": {},
      "cell_type": "markdown",
      "metadata": {},
      "source": [
        "### Retirar um arquivo da \u00e1rea staged (`git reset`)"
      ]
    },
    {
      "attachments": {},
      "cell_type": "markdown",
      "metadata": {},
      "source": [
        "Caso adicionemos um arquivo \u00e0 \u00e1rea de staged e quisermos remov\u00ea-lo, temos que usar `git reset <arquivo>`, vamos ver isso."
      ]
    },
    {
      "attachments": {},
      "cell_type": "markdown",
      "metadata": {},
      "source": [
        "Criamos e adicionamos \u00e0 \u00e1rea de stage um novo arquivo"
      ]
    },
    {
      "cell_type": "code",
      "execution_count": 16,
      "metadata": {},
      "outputs": [],
      "source": [
        "!cd notebook_git && echo \"print('Este no')\" > adios.py && git add adios.py"
      ]
    },
    {
      "attachments": {},
      "cell_type": "markdown",
      "metadata": {},
      "source": [
        "Fazemos `git status` para verificar que est\u00e1 na \u00e1rea de stage"
      ]
    },
    {
      "cell_type": "code",
      "execution_count": 17,
      "metadata": {},
      "outputs": [
        {
          "name": "stdout",
          "output_type": "stream",
          "text": [
            "En la rama master\n",
            "\n",
            "No hay commits todav\u00eda\n",
            "\n",
            "Cambios a ser confirmados:\n",
            "  (usa \"git rm --cached <archivo>...\" para sacar del \u00e1rea de stage)\n",
            "\t\u001b[32mnuevos archivos: adios.py\u001b[m\n",
            "\t\u001b[32mnuevos archivos: hola.py\u001b[m\n",
            "\n"
          ]
        }
      ],
      "source": [
        "!cd notebook_git && git status"
      ]
    },
    {
      "attachments": {},
      "cell_type": "markdown",
      "metadata": {},
      "source": [
        "Como vemos, est\u00e3o `hola.py` e `adios.py`, ent\u00e3o usamos `git reset adios.py` para remov\u00ea-lo da \u00e1rea de staged"
      ]
    },
    {
      "cell_type": "code",
      "execution_count": 18,
      "metadata": {},
      "outputs": [],
      "source": [
        "!cd notebook_git && git reset adios.py"
      ]
    },
    {
      "attachments": {},
      "cell_type": "markdown",
      "metadata": {},
      "source": [
        "Fazemos um `git status` para verificar que saiu"
      ]
    },
    {
      "cell_type": "code",
      "execution_count": 19,
      "metadata": {},
      "outputs": [
        {
          "name": "stdout",
          "output_type": "stream",
          "text": [
            "En la rama master\n",
            "\n",
            "No hay commits todav\u00eda\n",
            "\n",
            "Cambios a ser confirmados:\n",
            "  (usa \"git rm --cached <archivo>...\" para sacar del \u00e1rea de stage)\n",
            "\t\u001b[32mnuevos archivos: hola.py\u001b[m\n",
            "\n",
            "Archivos sin seguimiento:\n",
            "  (usa \"git add <archivo>...\" para incluirlo a lo que se ser\u00e1 confirmado)\n",
            "\t\u001b[31madios.py\u001b[m\n",
            "\n"
          ]
        }
      ],
      "source": [
        "!cd notebook_git && git status"
      ]
    },
    {
      "attachments": {},
      "cell_type": "markdown",
      "metadata": {},
      "source": [
        "Podemos ver que `adios.py` j\u00e1 n\u00e3o tem acompanhamento por parte do git, foi removido da \u00e1rea de stage."
      ]
    },
    {
      "attachments": {},
      "cell_type": "markdown",
      "metadata": {},
      "source": [
        "Fazemos `git clean -f` para apag\u00e1-lo."
      ]
    },
    {
      "cell_type": "code",
      "execution_count": 20,
      "metadata": {},
      "outputs": [
        {
          "name": "stdout",
          "output_type": "stream",
          "text": [
            "Borrando adios.py\n",
            "En la rama master\n",
            "\n",
            "No hay commits todav\u00eda\n",
            "\n",
            "Cambios a ser confirmados:\n",
            "  (usa \"git rm --cached <archivo>...\" para sacar del \u00e1rea de stage)\n",
            "\t\u001b[32mnuevos archivos: hola.py\u001b[m\n",
            "\n"
          ]
        }
      ],
      "source": [
        "!cd notebook_git && git clean -f && git status"
      ]
    },
    {
      "attachments": {},
      "cell_type": "markdown",
      "metadata": {},
      "source": [
        "### Commit (`git commit`)"
      ]
    },
    {
      "attachments": {},
      "cell_type": "markdown",
      "metadata": {},
      "source": [
        "Se voltarmos ao s\u00edmil em que dissemos que a \u00e1rea de staged era o palco onde envi\u00e1vamos os arquivos aos quais quer\u00edamos tirar uma foto, agora \u00e9 hora de tirar a foto para imortalizar o estado atual. Isso \u00e9 fazer um `commit`",
        "\n",
        "Desta forma, registra-se o estado atual do c\u00f3digo, assim, com cada commit, teremos um registro da evolu\u00e7\u00e3o do c\u00f3digo. Assim como em um \u00e1lbum de fotos, com cada foto vamos tendo um registro da evolu\u00e7\u00e3o do que colocamos em cena."
      ]
    },
    {
      "attachments": {},
      "cell_type": "markdown",
      "metadata": {},
      "source": [
        "Como na hora de fazer o commit est\u00e1 sendo registrado a mudan\u00e7a do c\u00f3digo, o git n\u00e3o permite fazer o commit sem um coment\u00e1rio m\u00ednimo. Portanto, h\u00e1 duas maneiras de fazer commit",
        "\n",
        "* `git commit` desta forma, ser\u00e1 aberto o editor que tivermos configurado no git. Se n\u00e3o tivermos configurado um editor padr\u00e3o, ser\u00e1 aberto `vi`. Se quisermos mudar a configura\u00e7\u00e3o do editor, podemos fazer, por exemplo, `git config --global core.editor \"code\"` ou `git config core.editor \"code\"` para definir o vscode como o editor padr\u00e3o de forma global ou local.",
        "* `git commit -m \"Mensagem de commit\"`. Dessa forma adicionamos a mensagem diretamente",
        "\n",
        "Ao fazer o commit da primeira forma, podemos ter uma primeira linha que ser\u00e1 o t\u00edtulo do commit e v\u00e1rias linhas adicionais onde se explica com mais detalhes. Se quisermos poder fazer isso com a flag `-m`, basta adicionar v\u00e1rios flags `-m` seguidos: `git commit -m \"T\u00edtulo do commit\" -m \"Primeira linha explicando mais\" -m \"Segunda linha explicando mais\"`"
      ]
    },
    {
      "attachments": {},
      "cell_type": "markdown",
      "metadata": {},
      "source": [
        "Uma vez que fizemos o commit, isso salvar\u00e1 um registro da mudan\u00e7a do nosso reposit\u00f3rio de maneira local. Ainda n\u00e3o nos conectamos com um servidor remoto."
      ]
    },
    {
      "attachments": {},
      "cell_type": "markdown",
      "metadata": {},
      "source": [
        "Vamos tentar fazer o commit"
      ]
    },
    {
      "cell_type": "code",
      "execution_count": 21,
      "metadata": {},
      "outputs": [
        {
          "name": "stdout",
          "output_type": "stream",
          "text": [
            "[master (commit-ra\u00edz) 1c95e4f] Primer commit, hola.py\n",
            " 1 file changed, 1 insertion(+)\n",
            " create mode 100644 hola.py\n"
          ]
        }
      ],
      "source": [
        "!cd notebook_git && git commit -m \"Primer commit, hola.py\""
      ]
    },
    {
      "attachments": {},
      "cell_type": "markdown",
      "metadata": {},
      "source": [
        "Fazemos um `git status`"
      ]
    },
    {
      "cell_type": "code",
      "execution_count": 22,
      "metadata": {},
      "outputs": [
        {
          "name": "stdout",
          "output_type": "stream",
          "text": [
            "En la rama master\n",
            "nada para hacer commit, el \u00e1rbol de trabajo est\u00e1 limpio\n"
          ]
        }
      ],
      "source": [
        "!cd notebook_git && git status"
      ]
    },
    {
      "attachments": {},
      "cell_type": "markdown",
      "metadata": {},
      "source": [
        "Vemos que nos diz que n\u00e3o h\u00e1 nada novo, temos todo o nosso reposit\u00f3rio totally controlado."
      ]
    },
    {
      "attachments": {},
      "cell_type": "markdown",
      "metadata": {},
      "source": [
        "#### Commit pulando add (`git commit -a -m` ou `git commit -am`)"
      ]
    },
    {
      "attachments": {},
      "cell_type": "markdown",
      "metadata": {},
      "source": [
        "No caso de querermos levar todos os arquivos que modificamos para a \u00e1rea de staged e depois fazer um commit, podemos fazer tudo isso em um \u00fanico passo usando `git commit -a -m \"mensagem\"`, `git commit --all -m \"mensagem\"` ou `git commit -am \"mensagem\"`",
        "\n",
        "> Nota: Isso s\u00f3 \u00e9 v\u00e1lido se um arquivo for modificado. Se o arquivo for novo e o git n\u00e3o estiver fazendo acompanhamento, isso n\u00e3o \u00e9 v\u00e1lido.",
        "\n",
        "Vamos ver um exemplo, vamos modificar `hola.py`"
      ]
    },
    {
      "cell_type": "code",
      "execution_count": 23,
      "metadata": {},
      "outputs": [],
      "source": [
        "!cd notebook_git && echo \"print('He a\u00f1adido una nueva linea')\" >> hola.py"
      ]
    },
    {
      "attachments": {},
      "cell_type": "markdown",
      "metadata": {},
      "source": [
        "Vamos fazer um `git status` para nos assegurar"
      ]
    },
    {
      "cell_type": "code",
      "execution_count": 24,
      "metadata": {},
      "outputs": [
        {
          "name": "stdout",
          "output_type": "stream",
          "text": [
            "En la rama master\n",
            "Cambios no rastreados para el commit:\n",
            "  (usa \"git add <archivo>...\" para actualizar lo que ser\u00e1 confirmado)\n",
            "  (usa \"git restore <archivo>...\" para descartar los cambios en el directorio de trabajo)\n",
            "\t\u001b[31mmodificados:     hola.py\u001b[m\n",
            "\n",
            "sin cambios agregados al commit (usa \"git add\" y/o \"git commit -a\")\n"
          ]
        }
      ],
      "source": [
        "!cd notebook_git && git status"
      ]
    },
    {
      "attachments": {},
      "cell_type": "markdown",
      "metadata": {},
      "source": [
        "Podemos ver que na pr\u00f3pria ajuda do git j\u00e1 nos sugere usar `git commit -a`, ent\u00e3o vamos fazer isso."
      ]
    },
    {
      "cell_type": "code",
      "execution_count": 25,
      "metadata": {},
      "outputs": [
        {
          "name": "stdout",
          "output_type": "stream",
          "text": [
            "[master 6e99e73] Segundo commit, hola.py\n",
            " 1 file changed, 1 insertion(+)\n"
          ]
        }
      ],
      "source": [
        "!cd notebook_git && git commit -am \"Segundo commit, hola.py\""
      ]
    },
    {
      "attachments": {},
      "cell_type": "markdown",
      "metadata": {},
      "source": [
        "Fazemos novamente um `git status`"
      ]
    },
    {
      "cell_type": "code",
      "execution_count": 26,
      "metadata": {},
      "outputs": [
        {
          "name": "stdout",
          "output_type": "stream",
          "text": [
            "En la rama master\n",
            "nada para hacer commit, el \u00e1rbol de trabajo est\u00e1 limpio\n"
          ]
        }
      ],
      "source": [
        "!cd notebook_git && git status"
      ]
    },
    {
      "attachments": {},
      "cell_type": "markdown",
      "metadata": {},
      "source": [
        "N\u00e3o h\u00e1 nada para fazer commit, j\u00e1 foi feito o commit da altera\u00e7\u00e3o"
      ]
    },
    {
      "attachments": {},
      "cell_type": "markdown",
      "metadata": {},
      "source": [
        "### Modificar um arquivo ao qual foi feito commit"
      ]
    },
    {
      "attachments": {},
      "cell_type": "markdown",
      "metadata": {},
      "source": [
        "Como enquanto desenvolvemos estamos modificando arquivos, pode ser que em algum arquivo ao qual j\u00e1 fizemos commit o modifiquemos. No nosso caso, vamos adicionar uma linha a `hola.py`"
      ]
    },
    {
      "cell_type": "code",
      "execution_count": 27,
      "metadata": {},
      "outputs": [],
      "source": [
        "!cd notebook_git && echo \"print('He a\u00f1adido una tercera linea')\" >> hola.py"
      ]
    },
    {
      "cell_type": "code",
      "execution_count": 28,
      "metadata": {},
      "outputs": [
        {
          "name": "stdout",
          "output_type": "stream",
          "text": [
            "print('Hola mundo')\n",
            "print('He a\u00f1adido una nueva linea')\n",
            "print('He a\u00f1adido una tercera linea')\n"
          ]
        }
      ],
      "source": [
        "!cd notebook_git && cat hola.py"
      ]
    },
    {
      "attachments": {},
      "cell_type": "markdown",
      "metadata": {},
      "source": [
        "Se fizermos `git status` veremos que `hola.py` tem modifica\u00e7\u00f5es"
      ]
    },
    {
      "cell_type": "code",
      "execution_count": 29,
      "metadata": {},
      "outputs": [
        {
          "name": "stdout",
          "output_type": "stream",
          "text": [
            "En la rama master\n",
            "Cambios no rastreados para el commit:\n",
            "  (usa \"git add <archivo>...\" para actualizar lo que ser\u00e1 confirmado)\n",
            "  (usa \"git restore <archivo>...\" para descartar los cambios en el directorio de trabajo)\n",
            "\t\u001b[31mmodificados:     hola.py\u001b[m\n",
            "\n",
            "sin cambios agregados al commit (usa \"git add\" y/o \"git commit -a\")\n"
          ]
        }
      ],
      "source": [
        "!cd notebook_git && git status"
      ]
    },
    {
      "attachments": {},
      "cell_type": "markdown",
      "metadata": {},
      "source": [
        "### Ver altera\u00e7\u00f5es em um arquivo (`git diff <arquivo>`)"
      ]
    },
    {
      "attachments": {},
      "cell_type": "markdown",
      "metadata": {},
      "source": [
        "Talvez tenhamos passado um tempo desenvolvendo desde o \u00faltimo commit e n\u00e3o saibamos quais modifica\u00e7\u00f5es fizemos, para isso usamos `git diff <arquivo>` que nos dir\u00e1 as mudan\u00e7as que fizemos."
      ]
    },
    {
      "cell_type": "code",
      "execution_count": 30,
      "metadata": {},
      "outputs": [
        {
          "name": "stdout",
          "output_type": "stream",
          "text": [
            "\u001b[1mdiff --git a/hola.py b/hola.py\u001b[m\n",
            "\u001b[1mindex 91dee80..fba0d22 100644\u001b[m\n",
            "\u001b[1m--- a/hola.py\u001b[m\n",
            "\u001b[1m+++ b/hola.py\u001b[m\n",
            "\u001b[36m@@ -1,2 +1,3 @@\u001b[m\n",
            " print('Hola mundo')\u001b[m\n",
            " print('He a\u00f1adido una nueva linea')\u001b[m\n",
            "\u001b[32m+\u001b[m\u001b[32mprint('He a\u00f1adido una tercera linea')\u001b[m\n"
          ]
        }
      ],
      "source": [
        "!cd notebook_git && git diff hola.py"
      ]
    },
    {
      "attachments": {},
      "cell_type": "markdown",
      "metadata": {},
      "source": [
        "Embora n\u00e3o seja muito intuitivo, podemos ver que adicionamos a \u00faltima linha em `hola.py`"
      ]
    },
    {
      "attachments": {},
      "cell_type": "markdown",
      "metadata": {},
      "source": [
        "### Desfazer modifica\u00e7\u00f5es em um arquivo (`git restore <arquivo>`)"
      ]
    },
    {
      "attachments": {},
      "cell_type": "markdown",
      "metadata": {},
      "source": [
        "Se as altera\u00e7\u00f5es que fizemos n\u00e3o nos agradarem e quisermos remov\u00ea-las, podemos fazer `git restore <arquivo>`"
      ]
    },
    {
      "cell_type": "code",
      "execution_count": 31,
      "metadata": {},
      "outputs": [],
      "source": [
        "!cd notebook_git && git restore hola.py"
      ]
    },
    {
      "attachments": {},
      "cell_type": "markdown",
      "metadata": {},
      "source": [
        "Vamos ver o que aconteceu com um `git status`"
      ]
    },
    {
      "cell_type": "code",
      "execution_count": 32,
      "metadata": {},
      "outputs": [
        {
          "name": "stdout",
          "output_type": "stream",
          "text": [
            "En la rama master\n",
            "nada para hacer commit, el \u00e1rbol de trabajo est\u00e1 limpio\n"
          ]
        }
      ],
      "source": [
        "!cd notebook_git && git status"
      ]
    },
    {
      "attachments": {},
      "cell_type": "markdown",
      "metadata": {},
      "source": [
        "Vemos que se han descartado os cambios em `hola.py` desde o \u00faltimo commit"
      ]
    },
    {
      "attachments": {},
      "cell_type": "markdown",
      "metadata": {},
      "source": [
        "### Hist\u00f3rico de altera\u00e7\u00f5es (`git log`)"
      ]
    },
    {
      "attachments": {},
      "cell_type": "markdown",
      "metadata": {},
      "source": [
        "Com o git podemos ver o hist\u00f3rico de todas as mudan\u00e7as que fomos commitando, para isso usamos `git log`. \u00c9 como se coloc\u00e1ssemos a revisar nosso \u00e1lbum de fotos."
      ]
    },
    {
      "cell_type": "code",
      "execution_count": 33,
      "metadata": {},
      "outputs": [
        {
          "name": "stdout",
          "output_type": "stream",
          "text": [
            "\u001b[33mcommit 6e99e73cf0c5474078cc9f328ee6a54fb9ffb169\u001b[m\u001b[33m (\u001b[m\u001b[1;36mHEAD -> \u001b[m\u001b[1;32mmaster\u001b[m\u001b[33m)\u001b[m\n",
            "Author: maximofn <maximofn@gmail.com>\n",
            "Date:   Sun Apr 16 02:29:04 2023 +0200\n",
            "\n",
            "    Segundo commit, hola.py\n",
            "\n",
            "\u001b[33mcommit 1c95e4fd8388ceedee368e0121c4b0ef4900c2ac\u001b[m\n",
            "Author: maximofn <maximofn@gmail.com>\n",
            "Date:   Sun Apr 16 02:28:44 2023 +0200\n",
            "\n",
            "    Primer commit, hola.py\n"
          ]
        }
      ],
      "source": [
        "!cd notebook_git && git log"
      ]
    },
    {
      "attachments": {},
      "cell_type": "markdown",
      "metadata": {},
      "source": [
        "Podemos ver o hist\u00f3rico de mudan\u00e7as, temos que l\u00ea-lo de baixo para cima.",
        "\n",
        "Primeiro vemos o commit com a mensagem `Primeiro commit, hola.py`, podemos ver a data, o autor e o hash, que \u00e9 seu identificador \u00fanico.",
        "\n",
        "A seguir vemos o segundo commit com a mensagem `Segundo commit, hola.py`, com sua data, autor e hash. Al\u00e9m disso, mostra onde est\u00e1 o `HEAD` e em qual branch estamos."
      ]
    },
    {
      "attachments": {},
      "cell_type": "markdown",
      "metadata": {},
      "source": [
        "Se\u6211\u4eec\u53ef\u4ee5\u4f7f\u7528\u6807\u5fd7\u4ee5\u4e0d\u540c\u7684\u65b9\u5f0f\u83b7\u53d6\u4fe1\u606f\uff0c\u4f46\u6839\u636e\u6211\u4eec\u4f7f\u7528\u7684\u6807\u5fd7\uff0c\u67d0\u4e9b\u65b9\u5f0f\u53ef\u80fd\u66f4\u9002\u5408\u6211\u4eec\u3002\u4e0b\u8868\u663e\u793a\u4e86\u4e00\u4e9b\u6709\u7528\u7684\u6807\u5fd7\uff1a\n\nNote: The above sentence is not translated to Portuguese as requested, here's the correct translation:\n\nSe usarmos flags, podemos obter informa\u00e7\u00f5es de maneiras diferentes, mas dependendo das flags que usarmos, algumas podem ser mais adequadas. A seguir, s\u00e3o mostradas algumas flags \u00fateis:",
        "\n",
        "* `git log --oneline`: Mostra os commits em uma \u00fanica linha, com o hash abreviado e a mensagem do commit.",
        "* `git log --graph`: Mostra um gr\u00e1fico de texto da hist\u00f3ria do reposit\u00f3rio, incluindo ramos e fus\u00f5es.",
        "* `git log --decorate`: Mostra as refer\u00eancias (ramos, tags, HEAD, etc.) no log juntamente com o commit para o qual elas apontam.",
        "* `git log --author=\"<autor>\"`: Filtra o hist\u00f3rico de commits para mostrar apenas aqueles realizados por um autor espec\u00edfico.",
        "* `git log --since=\"<data>\"`: Mostra os commits realizados desde uma data espec\u00edfica. Voc\u00ea pode usar diferentes formatos de data, como \"1 week ago\" ou \"2023-01-01\".",
        "* `git log --until=\"<data>\"`: Mostra os commits realizados at\u00e9 uma data espec\u00edfica.",
        "* `git log <rama>`: Mostra os commits de uma ramifica\u00e7\u00e3o espec\u00edfica.",
        "* `git log <commit1>..<commit2>`: Mostra os commits que est\u00e3o no intervalo entre dois commits espec\u00edficos.",
        "* `git log --grep=\"<palavra>\"`: Procura nos mensagens de commit por uma palavra ou frase espec\u00edfica.",
        "* `git log -p`: Mostra as diferen\u00e7as (em forma de patch) introduzidas em cada commit.",
        "* `git log -n <n\u00famero>`: Mostra os \u00faltimos n\u00famero de commits. Por exemplo, git log -n 5 mostrar\u00e1 os \u00faltimos 5 commits.",
        "* `git log --stat`: Mostra as estat\u00edsticas de altera\u00e7\u00f5es em arquivos para cada commit, como o n\u00famero de linhas adicionadas e removidas.",
        "\n",
        "Por exemplo, uma maneira confort\u00e1vel de ver o hist\u00f3rico \u00e9 usar `git log --graph --oneline --decorate`"
      ]
    },
    {
      "cell_type": "code",
      "execution_count": 34,
      "metadata": {},
      "outputs": [
        {
          "name": "stdout",
          "output_type": "stream",
          "text": [
            "* \u001b[33m6e99e73\u001b[m\u001b[33m (\u001b[m\u001b[1;36mHEAD -> \u001b[m\u001b[1;32mmaster\u001b[m\u001b[33m)\u001b[m Segundo commit, hola.py\n",
            "* \u001b[33m1c95e4f\u001b[m Primer commit, hola.py\n"
          ]
        }
      ],
      "source": [
        "!cd notebook_git && git log --graph --oneline --decorate"
      ]
    },
    {
      "attachments": {},
      "cell_type": "markdown",
      "metadata": {},
      "source": [
        "Podemos ver que, em vez de nos dar o hash inteiro, nos d\u00e1 apenas alguns n\u00fameros. Isso ocorre porque, por enquanto, o reposit\u00f3rio tem t\u00e3o pouca hist\u00f3ria que esses poucos n\u00fameros s\u00e3o suficientes. Se quisermos voltar ao ponto anterior, em vez de introduzir o hash inteiro (`7c448f69e30ab1b5783f5cf9ee3ae5bc362ecd4d`), bastaria introduzir apenas `7c448f6`."
      ]
    },
    {
      "attachments": {},
      "cell_type": "markdown",
      "metadata": {},
      "source": [
        "Mais tarde falaremos sobre as branches, mas agora vamos ver o que \u00e9 o `HEAD`"
      ]
    },
    {
      "attachments": {},
      "cell_type": "markdown",
      "metadata": {},
      "source": [
        "### CABE\u00c7ALHO"
      ]
    },
    {
      "attachments": {},
      "cell_type": "markdown",
      "metadata": {},
      "source": [
        "Enquanto desenvolv\u00edamos, conseguimos fazer altera\u00e7\u00f5es e commit\u00e1-las, ou seja, fomos preenchendo o \u00e1lbum de fotos do nosso c\u00f3digo. `HEAD` \u00e9 a posi\u00e7\u00e3o no \u00e1lbum em que estamos.",
        "\n",
        "Normalmente \u00e9 a \u00faltima posi\u00e7\u00e3o de todos os commits."
      ]
    },
    {
      "attachments": {},
      "cell_type": "markdown",
      "metadata": {},
      "source": [
        "Se quisermos saber em qual ponto estamos, podemos fazer isso atrav\u00e9s de `git rev-parse HEAD`"
      ]
    },
    {
      "cell_type": "code",
      "execution_count": 35,
      "metadata": {},
      "outputs": [
        {
          "name": "stdout",
          "output_type": "stream",
          "text": [
            "6e99e73cf0c5474078cc9f328ee6a54fb9ffb169\n"
          ]
        }
      ],
      "source": [
        "!cd notebook_git && git rev-parse HEAD"
      ]
    },
    {
      "attachments": {},
      "cell_type": "markdown",
      "metadata": {},
      "source": [
        "Como pode ser visto, o hash obtido coincide com o \u00faltimo obtido ao fazer `git log`"
      ]
    },
    {
      "cell_type": "code",
      "execution_count": 36,
      "metadata": {},
      "outputs": [
        {
          "name": "stdout",
          "output_type": "stream",
          "text": [
            "\u001b[33mcommit 6e99e73cf0c5474078cc9f328ee6a54fb9ffb169\u001b[m\u001b[33m (\u001b[m\u001b[1;36mHEAD -> \u001b[m\u001b[1;32mmaster\u001b[m\u001b[33m)\u001b[m\n",
            "Author: maximofn <maximofn@gmail.com>\n",
            "Date:   Sun Apr 16 02:29:04 2023 +0200\n",
            "\n",
            "    Segundo commit, hola.py\n",
            "\n",
            "\u001b[33mcommit 1c95e4fd8388ceedee368e0121c4b0ef4900c2ac\u001b[m\n",
            "Author: maximofn <maximofn@gmail.com>\n",
            "Date:   Sun Apr 16 02:28:44 2023 +0200\n",
            "\n",
            "    Primer commit, hola.py\n"
          ]
        }
      ],
      "source": [
        "!cd notebook_git && git log"
      ]
    },
    {
      "attachments": {},
      "cell_type": "markdown",
      "metadata": {},
      "source": [
        "### Modificar um commit (`git commit --amend`)"
      ]
    },
    {
      "attachments": {},
      "cell_type": "markdown",
      "metadata": {},
      "source": [
        "Podemos querer modificar um commit, porque queremos mudar a mensagem, ou porque queremos adicionar mais arquivos ao commit, ent\u00e3o veremos os dois casos"
      ]
    },
    {
      "attachments": {},
      "cell_type": "markdown",
      "metadata": {},
      "source": [
        "#### Modificar a mensagem de commit"
      ]
    },
    {
      "attachments": {},
      "cell_type": "markdown",
      "metadata": {},
      "source": [
        "Se apenas quisermos modificar a mensagem, o que temos que fazer \u00e9 `git commit --amend -m \"Nova mensagem\"`, vejamos um exemplo, vamos modificar `hola.py`"
      ]
    },
    {
      "cell_type": "code",
      "execution_count": 37,
      "metadata": {},
      "outputs": [],
      "source": [
        "!cd notebook_git && echo \"print('Esta es la tercera linea')\" >> hola.py"
      ]
    },
    {
      "attachments": {},
      "cell_type": "markdown",
      "metadata": {},
      "source": [
        "Fazemos um `git status`"
      ]
    },
    {
      "cell_type": "code",
      "execution_count": 38,
      "metadata": {},
      "outputs": [
        {
          "name": "stdout",
          "output_type": "stream",
          "text": [
            "En la rama master\n",
            "Cambios no rastreados para el commit:\n",
            "  (usa \"git add <archivo>...\" para actualizar lo que ser\u00e1 confirmado)\n",
            "  (usa \"git restore <archivo>...\" para descartar los cambios en el directorio de trabajo)\n",
            "\t\u001b[31mmodificados:     hola.py\u001b[m\n",
            "\n",
            "sin cambios agregados al commit (usa \"git add\" y/o \"git commit -a\")\n"
          ]
        }
      ],
      "source": [
        "!cd notebook_git && git status"
      ]
    },
    {
      "attachments": {},
      "cell_type": "markdown",
      "metadata": {},
      "source": [
        "Efetivamente vemos que `hola.py` tem modifica\u00e7\u00f5es, de modo que fazemos um commit com essas modifica\u00e7\u00f5es."
      ]
    },
    {
      "cell_type": "code",
      "execution_count": 39,
      "metadata": {},
      "outputs": [
        {
          "name": "stdout",
          "output_type": "stream",
          "text": [
            "[master 60e2ffd] Tercer commot, hola.py\n",
            " 1 file changed, 1 insertion(+)\n"
          ]
        }
      ],
      "source": [
        "!cd notebook_git && git commit -am \"Tercer commot, hola.py\""
      ]
    },
    {
      "attachments": {},
      "cell_type": "markdown",
      "metadata": {},
      "source": [
        "Vamos ver o hist\u00f3rico de commits"
      ]
    },
    {
      "cell_type": "code",
      "execution_count": 40,
      "metadata": {},
      "outputs": [
        {
          "name": "stdout",
          "output_type": "stream",
          "text": [
            "* \u001b[33m60e2ffd\u001b[m\u001b[33m (\u001b[m\u001b[1;36mHEAD -> \u001b[m\u001b[1;32mmaster\u001b[m\u001b[33m)\u001b[m Tercer commot, hola.py\n",
            "* \u001b[33m6e99e73\u001b[m Segundo commit, hola.py\n",
            "* \u001b[33m1c95e4f\u001b[m Primer commit, hola.py\n"
          ]
        }
      ],
      "source": [
        "!cd notebook_git && git log --graph --oneline --decorate"
      ]
    },
    {
      "attachments": {},
      "cell_type": "markdown",
      "metadata": {},
      "source": [
        "**Oh n\u00e3o!** escrevemos `commot` em vez de `commit`, ent\u00e3o vamos modificar a mensagem"
      ]
    },
    {
      "cell_type": "code",
      "execution_count": 41,
      "metadata": {},
      "outputs": [
        {
          "name": "stdout",
          "output_type": "stream",
          "text": [
            "[master c4930d7] Tercer commit, hola.py\n",
            " Date: Sun Apr 16 02:29:59 2023 +0200\n",
            " 1 file changed, 1 insertion(+)\n"
          ]
        }
      ],
      "source": [
        "!cd notebook_git && git commit --amend -m \"Tercer commit, hola.py\""
      ]
    },
    {
      "attachments": {},
      "cell_type": "markdown",
      "metadata": {},
      "source": [
        "Voltamos a ver o hist\u00f3rico"
      ]
    },
    {
      "cell_type": "code",
      "execution_count": 42,
      "metadata": {},
      "outputs": [
        {
          "name": "stdout",
          "output_type": "stream",
          "text": [
            "* \u001b[33mc4930d7\u001b[m\u001b[33m (\u001b[m\u001b[1;36mHEAD -> \u001b[m\u001b[1;32mmaster\u001b[m\u001b[33m)\u001b[m Tercer commit, hola.py\n",
            "* \u001b[33m6e99e73\u001b[m Segundo commit, hola.py\n",
            "* \u001b[33m1c95e4f\u001b[m Primer commit, hola.py\n"
          ]
        }
      ],
      "source": [
        "!cd notebook_git && git log --graph --oneline --decorate"
      ]
    },
    {
      "attachments": {},
      "cell_type": "markdown",
      "metadata": {},
      "source": [
        "Vemos que agora est\u00e1 bem."
      ]
    },
    {
      "attachments": {},
      "cell_type": "markdown",
      "metadata": {},
      "source": [
        "#### Adicionar arquivos ao \u00faltimo commit"
      ]
    },
    {
      "attachments": {},
      "cell_type": "markdown",
      "metadata": {},
      "source": [
        "Suponhamos que esquecemos de adicionar um arquivo ao \u00faltimo commit, simplesmente fazemos um `git add` com esse arquivo e fazemos `git commit --amend -m \"mensagem\"`"
      ]
    },
    {
      "attachments": {},
      "cell_type": "markdown",
      "metadata": {},
      "source": [
        "Vamos a criar dois arquivos novos"
      ]
    },
    {
      "cell_type": "code",
      "execution_count": 43,
      "metadata": {},
      "outputs": [],
      "source": [
        "!cd notebook_git && echo \"print('Este es el archivo 1')\" > archivo1.py"
      ]
    },
    {
      "cell_type": "code",
      "execution_count": 44,
      "metadata": {},
      "outputs": [],
      "source": [
        "!cd notebook_git && echo \"print('Este es el archivo 2')\" > archivo2.py"
      ]
    },
    {
      "attachments": {},
      "cell_type": "markdown",
      "metadata": {},
      "source": [
        "Agora fazemos commit apenas de um"
      ]
    },
    {
      "cell_type": "code",
      "execution_count": 45,
      "metadata": {},
      "outputs": [
        {
          "name": "stdout",
          "output_type": "stream",
          "text": [
            "[master 285b243] Commit con el archivo 1\n",
            " 1 file changed, 1 insertion(+)\n",
            " create mode 100644 archivo1.py\n"
          ]
        }
      ],
      "source": [
        "!cd notebook_git && git add archivo1.py && git commit -m \"Commit con el archivo 1\""
      ]
    },
    {
      "cell_type": "code",
      "execution_count": 46,
      "metadata": {},
      "outputs": [
        {
          "name": "stdout",
          "output_type": "stream",
          "text": [
            "En la rama master\n",
            "Archivos sin seguimiento:\n",
            "  (usa \"git add <archivo>...\" para incluirlo a lo que se ser\u00e1 confirmado)\n",
            "\t\u001b[31marchivo2.py\u001b[m\n",
            "\n",
            "no hay nada agregado al commit pero hay archivos sin seguimiento presentes (usa \"git add\" para hacerles seguimiento)\n"
          ]
        }
      ],
      "source": [
        "!cd notebook_git && git status"
      ]
    },
    {
      "cell_type": "code",
      "execution_count": 47,
      "metadata": {},
      "outputs": [
        {
          "name": "stdout",
          "output_type": "stream",
          "text": [
            "* \u001b[33m285b243\u001b[m\u001b[33m (\u001b[m\u001b[1;36mHEAD -> \u001b[m\u001b[1;32mmaster\u001b[m\u001b[33m)\u001b[m Commit con el archivo 1\n",
            "* \u001b[33mc4930d7\u001b[m Tercer commit, hola.py\n",
            "* \u001b[33m6e99e73\u001b[m Segundo commit, hola.py\n",
            "* \u001b[33m1c95e4f\u001b[m Primer commit, hola.py\n"
          ]
        }
      ],
      "source": [
        "!cd notebook_git && git log --graph --oneline --decorate"
      ]
    },
    {
      "attachments": {},
      "cell_type": "markdown",
      "metadata": {},
      "source": [
        "Como vemos, nos esquecemos do arquivo 2, ent\u00e3o modificamos o commit e adicionamos o arquivo 2"
      ]
    },
    {
      "cell_type": "code",
      "execution_count": 48,
      "metadata": {},
      "outputs": [],
      "source": [
        "!cd notebook_git && git add archivo2.py"
      ]
    },
    {
      "cell_type": "code",
      "execution_count": 49,
      "metadata": {},
      "outputs": [
        {
          "name": "stdout",
          "output_type": "stream",
          "text": [
            "[master 04ebd1f] Commit con los archivos 1 y 2\n",
            " Date: Sun Apr 16 02:30:26 2023 +0200\n",
            " 2 files changed, 2 insertions(+)\n",
            " create mode 100644 archivo1.py\n",
            " create mode 100644 archivo2.py\n"
          ]
        }
      ],
      "source": [
        "!cd notebook_git && git commit --amend -m \"Commit con los archivos 1 y 2\""
      ]
    },
    {
      "cell_type": "code",
      "execution_count": 50,
      "metadata": {},
      "outputs": [
        {
          "name": "stdout",
          "output_type": "stream",
          "text": [
            "En la rama master\n",
            "nada para hacer commit, el \u00e1rbol de trabajo est\u00e1 limpio\n"
          ]
        }
      ],
      "source": [
        "!cd notebook_git && git status"
      ]
    },
    {
      "cell_type": "code",
      "execution_count": 51,
      "metadata": {},
      "outputs": [
        {
          "name": "stdout",
          "output_type": "stream",
          "text": [
            "* \u001b[33m04ebd1f\u001b[m\u001b[33m (\u001b[m\u001b[1;36mHEAD -> \u001b[m\u001b[1;32mmaster\u001b[m\u001b[33m)\u001b[m Commit con los archivos 1 y 2\n",
            "* \u001b[33mc4930d7\u001b[m Tercer commit, hola.py\n",
            "* \u001b[33m6e99e73\u001b[m Segundo commit, hola.py\n",
            "* \u001b[33m1c95e4f\u001b[m Primer commit, hola.py\n"
          ]
        }
      ],
      "source": [
        "!cd notebook_git && git log --graph --oneline --decorate"
      ]
    },
    {
      "attachments": {},
      "cell_type": "markdown",
      "metadata": {},
      "source": [
        "Agora o \u00faltimo commit tem os dois novos arquivos"
      ]
    },
    {
      "attachments": {},
      "cell_type": "markdown",
      "metadata": {},
      "source": [
        "### Desfazer um commit (`git reset HEAD~1`)"
      ]
    },
    {
      "attachments": {},
      "cell_type": "markdown",
      "metadata": {},
      "source": [
        "Com este comando, dizemos ao git para voltar uma posi\u00e7\u00e3o no hist\u00f3rico de commits. H\u00e1 duas op\u00e7\u00f5es: `--soft`, que n\u00e3o apagar\u00e1 as altera\u00e7\u00f5es que tenhamos feito, e `--hard`, que o far\u00e1."
      ]
    },
    {
      "attachments": {},
      "cell_type": "markdown",
      "metadata": {},
      "source": [
        "#### Desfazer um commit mantendo as altera\u00e7\u00f5es (`git reset --soft HEAD~1`)"
      ]
    },
    {
      "attachments": {},
      "cell_type": "markdown",
      "metadata": {},
      "source": [
        "Vamos a criar um novo arquivo"
      ]
    },
    {
      "cell_type": "code",
      "execution_count": 52,
      "metadata": {},
      "outputs": [],
      "source": [
        "!cd notebook_git && echo \"print('Este es el archivo 3')\" > archivo3.py"
      ]
    },
    {
      "attachments": {},
      "cell_type": "markdown",
      "metadata": {},
      "source": [
        "Fazemos um `git status`"
      ]
    },
    {
      "cell_type": "code",
      "execution_count": 53,
      "metadata": {},
      "outputs": [
        {
          "name": "stdout",
          "output_type": "stream",
          "text": [
            "En la rama master\n",
            "Archivos sin seguimiento:\n",
            "  (usa \"git add <archivo>...\" para incluirlo a lo que se ser\u00e1 confirmado)\n",
            "\t\u001b[31marchivo3.py\u001b[m\n",
            "\n",
            "no hay nada agregado al commit pero hay archivos sin seguimiento presentes (usa \"git add\" para hacerles seguimiento)\n"
          ]
        }
      ],
      "source": [
        "!cd notebook_git && git status"
      ]
    },
    {
      "attachments": {},
      "cell_type": "markdown",
      "metadata": {},
      "source": [
        "Fazemos um commit adicionando este arquivo"
      ]
    },
    {
      "cell_type": "code",
      "execution_count": 54,
      "metadata": {},
      "outputs": [
        {
          "name": "stdout",
          "output_type": "stream",
          "text": [
            "[master 6dc7be6] Commit con el archivos 3\n",
            " 1 file changed, 1 insertion(+)\n",
            " create mode 100644 archivo3.py\n"
          ]
        }
      ],
      "source": [
        "!cd notebook_git && git add archivo3.py && git commit -m \"Commit con el archivos 3\""
      ]
    },
    {
      "cell_type": "code",
      "execution_count": 55,
      "metadata": {},
      "outputs": [
        {
          "name": "stdout",
          "output_type": "stream",
          "text": [
            "* \u001b[33m6dc7be6\u001b[m\u001b[33m (\u001b[m\u001b[1;36mHEAD -> \u001b[m\u001b[1;32mmaster\u001b[m\u001b[33m)\u001b[m Commit con el archivos 3\n",
            "* \u001b[33m04ebd1f\u001b[m Commit con los archivos 1 y 2\n",
            "* \u001b[33mc4930d7\u001b[m Tercer commit, hola.py\n",
            "* \u001b[33m6e99e73\u001b[m Segundo commit, hola.py\n",
            "* \u001b[33m1c95e4f\u001b[m Primer commit, hola.py\n"
          ]
        }
      ],
      "source": [
        "!cd notebook_git && git log --graph --oneline --decorate"
      ]
    },
    {
      "attachments": {},
      "cell_type": "markdown",
      "metadata": {},
      "source": [
        "Vemos que no o \u00faltimo commit se encontra `arquivo3.py`, vamos a eliminar o commit mantendo `arquivo3.py`"
      ]
    },
    {
      "cell_type": "code",
      "execution_count": 56,
      "metadata": {},
      "outputs": [],
      "source": [
        "!cd notebook_git && git reset --soft HEAD~1"
      ]
    },
    {
      "attachments": {},
      "cell_type": "markdown",
      "metadata": {},
      "source": [
        "Fazemos agora um `git log` para ver se o \u00faltimo commit foi removido."
      ]
    },
    {
      "cell_type": "code",
      "execution_count": 57,
      "metadata": {},
      "outputs": [
        {
          "name": "stdout",
          "output_type": "stream",
          "text": [
            "* \u001b[33m04ebd1f\u001b[m\u001b[33m (\u001b[m\u001b[1;36mHEAD -> \u001b[m\u001b[1;32mmaster\u001b[m\u001b[33m)\u001b[m Commit con los archivos 1 y 2\n",
            "* \u001b[33mc4930d7\u001b[m Tercer commit, hola.py\n",
            "* \u001b[33m6e99e73\u001b[m Segundo commit, hola.py\n",
            "* \u001b[33m1c95e4f\u001b[m Primer commit, hola.py\n"
          ]
        }
      ],
      "source": [
        "!cd notebook_git && git log --graph --oneline --decorate"
      ]
    },
    {
      "attachments": {},
      "cell_type": "markdown",
      "metadata": {},
      "source": [
        "Efetivamente, vemos que foi removido o \u00faltimo commit"
      ]
    },
    {
      "attachments": {},
      "cell_type": "markdown",
      "metadata": {},
      "source": [
        "Fazemos um `git status` para ver se foi preservado o `arquivo3.py`"
      ]
    },
    {
      "cell_type": "code",
      "execution_count": 58,
      "metadata": {},
      "outputs": [
        {
          "name": "stdout",
          "output_type": "stream",
          "text": [
            "En la rama master\n",
            "Cambios a ser confirmados:\n",
            "  (usa \"git restore --staged <archivo>...\" para sacar del \u00e1rea de stage)\n",
            "\t\u001b[32mnuevos archivos: archivo3.py\u001b[m\n",
            "\n"
          ]
        }
      ],
      "source": [
        "!cd notebook_git && git status"
      ]
    },
    {
      "attachments": {},
      "cell_type": "markdown",
      "metadata": {},
      "source": [
        "Manteve-se"
      ]
    },
    {
      "attachments": {},
      "cell_type": "markdown",
      "metadata": {},
      "source": [
        "#### Desfazer um commit descartando as altera\u00e7\u00f5es (`git reset --hard HEAD~1`)"
      ]
    },
    {
      "attachments": {},
      "cell_type": "markdown",
      "metadata": {},
      "source": [
        "Temos `arquivo3.py` que criamos e est\u00e1 na \u00e1rea de stage"
      ]
    },
    {
      "cell_type": "code",
      "execution_count": 59,
      "metadata": {},
      "outputs": [
        {
          "name": "stdout",
          "output_type": "stream",
          "text": [
            "En la rama master\n",
            "Cambios a ser confirmados:\n",
            "  (usa \"git restore --staged <archivo>...\" para sacar del \u00e1rea de stage)\n",
            "\t\u001b[32mnuevos archivos: archivo3.py\u001b[m\n",
            "\n"
          ]
        }
      ],
      "source": [
        "!cd notebook_git && git status"
      ]
    },
    {
      "attachments": {},
      "cell_type": "markdown",
      "metadata": {},
      "source": [
        "Portanto, fazemos um commit"
      ]
    },
    {
      "cell_type": "code",
      "execution_count": 60,
      "metadata": {},
      "outputs": [
        {
          "name": "stdout",
          "output_type": "stream",
          "text": [
            "[master 0147d65] Commit con el archivo 3\n",
            " 1 file changed, 1 insertion(+)\n",
            " create mode 100644 archivo3.py\n"
          ]
        }
      ],
      "source": [
        "!cd notebook_git && git commit -m \"Commit con el archivo 3\""
      ]
    },
    {
      "attachments": {},
      "cell_type": "markdown",
      "metadata": {},
      "source": [
        "Fazemos um `git log` para verificar que h\u00e1 um commit com este arquivo."
      ]
    },
    {
      "cell_type": "code",
      "execution_count": 61,
      "metadata": {},
      "outputs": [
        {
          "name": "stdout",
          "output_type": "stream",
          "text": [
            "* \u001b[33m0147d65\u001b[m\u001b[33m (\u001b[m\u001b[1;36mHEAD -> \u001b[m\u001b[1;32mmaster\u001b[m\u001b[33m)\u001b[m Commit con el archivo 3\n",
            "* \u001b[33m04ebd1f\u001b[m Commit con los archivos 1 y 2\n",
            "* \u001b[33mc4930d7\u001b[m Tercer commit, hola.py\n",
            "* \u001b[33m6e99e73\u001b[m Segundo commit, hola.py\n",
            "* \u001b[33m1c95e4f\u001b[m Primer commit, hola.py\n"
          ]
        }
      ],
      "source": [
        "!cd notebook_git && git log --graph --oneline --decorate"
      ]
    },
    {
      "attachments": {},
      "cell_type": "markdown",
      "metadata": {},
      "source": [
        "Efetivamente h\u00e1 um commit adicionando `arquivo3.py`. Agora removemos este commit descartando `arquivo3.py`."
      ]
    },
    {
      "cell_type": "code",
      "execution_count": 62,
      "metadata": {},
      "outputs": [
        {
          "name": "stdout",
          "output_type": "stream",
          "text": [
            "HEAD est\u00e1 ahora en 04ebd1f Commit con los archivos 1 y 2\n"
          ]
        }
      ],
      "source": [
        "!cd notebook_git && git reset --hard HEAD~1"
      ]
    },
    {
      "attachments": {},
      "cell_type": "markdown",
      "metadata": {},
      "source": [
        "Fazemos um `git log` para verificar que foi removido o \u00faltimo commit"
      ]
    },
    {
      "cell_type": "code",
      "execution_count": 63,
      "metadata": {},
      "outputs": [
        {
          "name": "stdout",
          "output_type": "stream",
          "text": [
            "* \u001b[33m04ebd1f\u001b[m\u001b[33m (\u001b[m\u001b[1;36mHEAD -> \u001b[m\u001b[1;32mmaster\u001b[m\u001b[33m)\u001b[m Commit con los archivos 1 y 2\n",
            "* \u001b[33mc4930d7\u001b[m Tercer commit, hola.py\n",
            "* \u001b[33m6e99e73\u001b[m Segundo commit, hola.py\n",
            "* \u001b[33m1c95e4f\u001b[m Primer commit, hola.py\n"
          ]
        }
      ],
      "source": [
        "!cd notebook_git && git log --graph --oneline --decorate"
      ]
    },
    {
      "attachments": {},
      "cell_type": "markdown",
      "metadata": {},
      "source": [
        "O commit com `arquivo3.py` foi removido, agora fazemos um `git status` para verificar o que aconteceu com `arquivo3.py`"
      ]
    },
    {
      "cell_type": "code",
      "execution_count": 64,
      "metadata": {},
      "outputs": [
        {
          "name": "stdout",
          "output_type": "stream",
          "text": [
            "En la rama master\n",
            "nada para hacer commit, el \u00e1rbol de trabajo est\u00e1 limpio\n"
          ]
        }
      ],
      "source": [
        "!cd notebook_git && git status"
      ]
    },
    {
      "attachments": {},
      "cell_type": "markdown",
      "metadata": {},
      "source": [
        "N\u00e3o aparece `arquivo3.py` como um arquivo ao qual devemos fazer commit, vamos verificar se ele foi realmente exclu\u00eddo por completo."
      ]
    },
    {
      "cell_type": "code",
      "execution_count": 65,
      "metadata": {},
      "outputs": [],
      "source": [
        "!cd notebook_git && ls | grep archivo3"
      ]
    },
    {
      "attachments": {},
      "cell_type": "markdown",
      "metadata": {},
      "source": [
        "Efetivamente, o `arquivo3.py` foi removido do sistema de arquivos."
      ]
    },
    {
      "attachments": {},
      "cell_type": "markdown",
      "metadata": {},
      "source": [
        "### Modificar um commit remoto (`git push --force`)"
      ]
    },
    {
      "attachments": {},
      "cell_type": "markdown",
      "metadata": {},
      "source": [
        "Embora veremos mais adiante como sincronizarmo-nos com reposit\u00f3rios remotos, no caso de ter feito um commit, t\u00ea-lo subido a um reposit\u00f3rio remoto (`git push`) e t\u00ea-lo modificado localmente (porque modificou a mensagem ou desfez o commit), para reverter as altera\u00e7\u00f5es no reposit\u00f3rio remoto voc\u00ea precisa fazer `git push --force`",
        "\n",
        "> **Cuidado!**: Este comando modifica o hist\u00f3rico do reposit\u00f3rio remoto, ent\u00e3o pode afetar o resto das pessoas que estejam trabalhando com esse reposit\u00f3rio. Use este comando com muito cuidado e seguran\u00e7a. \u00c9 melhor ter um hist\u00f3rico de commits no qual primeiro est\u00e1 o commit em que voc\u00ea colocou a descri\u00e7\u00e3o errada e depois o novo commit com a nova descri\u00e7\u00e3o correta, do que ficar modificando o hist\u00f3rico."
      ]
    },
    {
      "attachments": {},
      "cell_type": "markdown",
      "metadata": {},
      "source": [
        "### Modificar um commit remoto (`git push --force-with-lease`)"
      ]
    },
    {
      "attachments": {},
      "cell_type": "markdown",
      "metadata": {},
      "source": [
        "Se voc\u00ea est\u00e1 convencido de alterar o hist\u00f3rico, pelo menos use `git push --force-with-lease`, que n\u00e3o modificar\u00e1 os commits que tenham sido feitos posteriormente."
      ]
    },
    {
      "attachments": {},
      "cell_type": "markdown",
      "metadata": {},
      "source": [
        "### Ignorar arquivos (`.gitignore`)"
      ]
    },
    {
      "attachments": {},
      "cell_type": "markdown",
      "metadata": {},
      "source": [
        "Suponhamos que temos um arquivo com `API key`s, este arquivo na verdade n\u00e3o queremos que seja salvo no reposit\u00f3rio, porque se depois compartilharmos este reposit\u00f3rio, qualquer pessoa teria acesso a essas chaves, por isso \u00e9 necess\u00e1rio dizer ao git para n\u00e3o fazer o acompanhamento deste arquivo",
        "\n",
        "Isso \u00e9 feito com o arquivo `.gitignore`, nele adicionamos o caminho dos arquivos ou diret\u00f3rios que n\u00e3o queremos que o git fa\u00e7a o acompanhamento.",
        "\n",
        "Vamos v\u00ea-lo"
      ]
    },
    {
      "attachments": {},
      "cell_type": "markdown",
      "metadata": {},
      "source": [
        "Criamos o arquivo com as chaves"
      ]
    },
    {
      "cell_type": "code",
      "execution_count": 66,
      "metadata": {},
      "outputs": [],
      "source": [
        "!cd notebook_git && touch api_keys.py"
      ]
    },
    {
      "attachments": {},
      "cell_type": "markdown",
      "metadata": {},
      "source": [
        "Se fazemos `git status` vemos que o Git o considera"
      ]
    },
    {
      "cell_type": "code",
      "execution_count": 67,
      "metadata": {},
      "outputs": [
        {
          "name": "stdout",
          "output_type": "stream",
          "text": [
            "En la rama master\n",
            "Archivos sin seguimiento:\n",
            "  (usa \"git add <archivo>...\" para incluirlo a lo que se ser\u00e1 confirmado)\n",
            "\t\u001b[31mapi_keys.py\u001b[m\n",
            "\n",
            "no hay nada agregado al commit pero hay archivos sin seguimiento presentes (usa \"git add\" para hacerles seguimiento)\n"
          ]
        }
      ],
      "source": [
        "!cd notebook_git && git status"
      ]
    },
    {
      "attachments": {},
      "cell_type": "markdown",
      "metadata": {},
      "source": [
        "Se n\u00e3o fizermos nada, pode ser que um dia fa\u00e7amos um `git add .` e o incluamos no reposit\u00f3rio, ent\u00e3o, por seguran\u00e7a, temos que dizer ao git para n\u00e3o seguir este arquivo. Para isso, criamos o `.gitignore` adicionando este arquivo."
      ]
    },
    {
      "cell_type": "code",
      "execution_count": 68,
      "metadata": {},
      "outputs": [],
      "source": [
        "!cd notebook_git && echo \"api_keys.py\" >> .gitignore"
      ]
    },
    {
      "attachments": {},
      "cell_type": "markdown",
      "metadata": {},
      "source": [
        "Vamos ver o que acontece se agora fizermos `git status`"
      ]
    },
    {
      "cell_type": "code",
      "execution_count": 69,
      "metadata": {},
      "outputs": [
        {
          "name": "stdout",
          "output_type": "stream",
          "text": [
            "En la rama master\n",
            "Archivos sin seguimiento:\n",
            "  (usa \"git add <archivo>...\" para incluirlo a lo que se ser\u00e1 confirmado)\n",
            "\t\u001b[31m.gitignore\u001b[m\n",
            "\n",
            "no hay nada agregado al commit pero hay archivos sin seguimiento presentes (usa \"git add\" para hacerles seguimiento)\n"
          ]
        }
      ],
      "source": [
        "!cd notebook_git && git status"
      ]
    },
    {
      "attachments": {},
      "cell_type": "markdown",
      "metadata": {},
      "source": [
        "Vemos que o git deixou de considerar `api_keys.py`, mas ainda considera `.gitignore`, ent\u00e3o fazemos um commit para adicionar `.gitignore`"
      ]
    },
    {
      "cell_type": "code",
      "execution_count": 70,
      "metadata": {},
      "outputs": [
        {
          "name": "stdout",
          "output_type": "stream",
          "text": [
            "[master 0b09cfa] A\u00f1adido .gitignore\n",
            " 1 file changed, 1 insertion(+)\n",
            " create mode 100644 .gitignore\n"
          ]
        }
      ],
      "source": [
        "!cd notebook_git && git add .gitignore && git commit -m \"A\u00f1adido .gitignore\""
      ]
    },
    {
      "attachments": {},
      "cell_type": "markdown",
      "metadata": {},
      "source": [
        "#### Quais arquivos adicionar ao `.gitignore`?"
      ]
    },
    {
      "attachments": {},
      "cell_type": "markdown",
      "metadata": {},
      "source": [
        "* Arquivos que tenham credenciais ou chaves de API (voc\u00ea n\u00e3o deveria envi\u00e1-los para o reposit\u00f3rio, simplesmente injete-os por vari\u00e1vel de ambiente)",
        "* Pastas de configura\u00e7\u00e3o do seu editor (`/.vscode`)",
        "* Arquivos de registro (log files)",
        "* Arquivos do sistema como `.DS_Store`",
        "* Pastas geradas com arquivos est\u00e1ticos ou compila\u00e7\u00f5es como `/dist` ou `/build`",
        "* Depend\u00eancias que podem ser baixadas (`/node_modules`)",
        "* Cobertura do teste (`/coverage`)"
      ]
    },
    {
      "attachments": {},
      "cell_type": "markdown",
      "metadata": {},
      "source": [
        "#### Como ignorar sempre os mesmos arquivos?"
      ]
    },
    {
      "attachments": {},
      "cell_type": "markdown",
      "metadata": {},
      "source": [
        "Se seu IDE sempre gera os mesmos arquivos de configura\u00e7\u00e3o, seria bom poder dizer ao git para sempre ignorar esses arquivos. Para isso, criamos um `.gitignore` global."
      ]
    },
    {
      "cell_type": "code",
      "execution_count": 42,
      "metadata": {},
      "outputs": [],
      "source": [
        "!touch ~/.gitignore_global"
      ]
    },
    {
      "attachments": {},
      "cell_type": "markdown",
      "metadata": {},
      "source": [
        "No meu caso, vou adicionar o diret\u00f3rio `__pycache__/`"
      ]
    },
    {
      "cell_type": "code",
      "execution_count": 50,
      "metadata": {},
      "outputs": [],
      "source": [
        "!echo \"__pycache__/\" >> ~/.gitignore_global"
      ]
    },
    {
      "attachments": {},
      "cell_type": "markdown",
      "metadata": {},
      "source": [
        "Agora temos que indicar ao Git que esse \u00e9 o nosso `.gitignore` global"
      ]
    },
    {
      "cell_type": "code",
      "execution_count": 54,
      "metadata": {},
      "outputs": [],
      "source": [
        "!git config --global core.excludesfile ~/.gitignore_global"
      ]
    },
    {
      "attachments": {},
      "cell_type": "markdown",
      "metadata": {},
      "source": [
        "Pronto, o diret\u00f3rio `__pycache__/` sempre ser\u00e1 ignorado"
      ]
    },
    {
      "attachments": {},
      "cell_type": "markdown",
      "metadata": {},
      "source": [
        "O GitHub tem um [reposit\u00f3rio](https://github.com/github/gitignore) com `.gitignore`s para muitas linguagens, eu me baseei no [deste](https://github.com/github/gitignore/blob/main/Python.gitignore) para Python."
      ]
    },
    {
      "attachments": {},
      "cell_type": "markdown",
      "metadata": {},
      "source": [
        "### Remover um arquivo de um commit"
      ]
    },
    {
      "attachments": {},
      "cell_type": "markdown",
      "metadata": {},
      "source": [
        "Vamos a ver como remover um arquivo de um commit que fizemos. Primeiro criamos dois arquivos e fazemos commit"
      ]
    },
    {
      "cell_type": "code",
      "execution_count": 71,
      "metadata": {},
      "outputs": [],
      "source": [
        "!cd notebook_git && echo \"print('Este es el archivo 4')\" > archivo4.py"
      ]
    },
    {
      "cell_type": "code",
      "execution_count": 72,
      "metadata": {},
      "outputs": [],
      "source": [
        "!cd notebook_git && echo \"print('Este es el archivo 5')\" > archivo5.py"
      ]
    },
    {
      "attachments": {},
      "cell_type": "markdown",
      "metadata": {},
      "source": [
        "Fazemos um commit com os dois arquivos"
      ]
    },
    {
      "cell_type": "code",
      "execution_count": 73,
      "metadata": {},
      "outputs": [
        {
          "name": "stdout",
          "output_type": "stream",
          "text": [
            "[master e3153a5] Commit con los archivos 4 y 5\n",
            " 2 files changed, 2 insertions(+)\n",
            " create mode 100644 archivo4.py\n",
            " create mode 100644 archivo5.py\n"
          ]
        }
      ],
      "source": [
        "!cd notebook_git && git add archivo4.py archivo5.py && git commit -m \"Commit con los archivos 4 y 5\""
      ]
    },
    {
      "cell_type": "code",
      "execution_count": 74,
      "metadata": {},
      "outputs": [
        {
          "name": "stdout",
          "output_type": "stream",
          "text": [
            "* \u001b[33me3153a5\u001b[m\u001b[33m (\u001b[m\u001b[1;36mHEAD -> \u001b[m\u001b[1;32mmaster\u001b[m\u001b[33m)\u001b[m Commit con los archivos 4 y 5\n",
            "* \u001b[33m0b09cfa\u001b[m A\u00f1adido .gitignore\n",
            "* \u001b[33m04ebd1f\u001b[m Commit con los archivos 1 y 2\n",
            "* \u001b[33mc4930d7\u001b[m Tercer commit, hola.py\n",
            "* \u001b[33m6e99e73\u001b[m Segundo commit, hola.py\n",
            "* \u001b[33m1c95e4f\u001b[m Primer commit, hola.py\n"
          ]
        }
      ],
      "source": [
        "!cd notebook_git && git log --graph --oneline --decorate"
      ]
    },
    {
      "attachments": {},
      "cell_type": "markdown",
      "metadata": {},
      "source": [
        "A partir de aqui h\u00e1 duas op\u00e7\u00f5es para remover um arquivo de um commit:",
        "* Excluir o arquivo e criar um novo commit",
        "* Desfazer o commit e cri\u00e1-lo novamente sem o arquivo"
      ]
    },
    {
      "attachments": {},
      "cell_type": "markdown",
      "metadata": {},
      "source": [
        "#### Excluir o arquivo e criar um novo commit"
      ]
    },
    {
      "attachments": {},
      "cell_type": "markdown",
      "metadata": {},
      "source": [
        "Suponhamos que queremos eliminar o arquivo `arquivo5.py`, ent\u00e3o o removemos com `git rm arquivo5.py`"
      ]
    },
    {
      "cell_type": "code",
      "execution_count": 75,
      "metadata": {},
      "outputs": [
        {
          "name": "stdout",
          "output_type": "stream",
          "text": [
            "rm 'archivo5.py'\n"
          ]
        }
      ],
      "source": [
        "!cd notebook_git && git rm archivo5.py"
      ]
    },
    {
      "attachments": {},
      "cell_type": "markdown",
      "metadata": {},
      "source": [
        "Vamos fazer um `git status` para ver o que acontece"
      ]
    },
    {
      "cell_type": "code",
      "execution_count": 76,
      "metadata": {},
      "outputs": [
        {
          "name": "stdout",
          "output_type": "stream",
          "text": [
            "En la rama master\n",
            "Cambios a ser confirmados:\n",
            "  (usa \"git restore --staged <archivo>...\" para sacar del \u00e1rea de stage)\n",
            "\t\u001b[32mborrados:        archivo5.py\u001b[m\n",
            "\n"
          ]
        }
      ],
      "source": [
        "!cd notebook_git && git status"
      ]
    },
    {
      "attachments": {},
      "cell_type": "markdown",
      "metadata": {},
      "source": [
        "Como vemos, foi exclu\u00eddo `archivo5.py`. Agora criamos um novo commit"
      ]
    },
    {
      "cell_type": "code",
      "execution_count": 77,
      "metadata": {},
      "outputs": [
        {
          "name": "stdout",
          "output_type": "stream",
          "text": [
            "[master ea615a9] Eliminado archivo5.py\n",
            " 1 file changed, 1 deletion(-)\n",
            " delete mode 100644 archivo5.py\n"
          ]
        }
      ],
      "source": [
        "!cd notebook_git && git commit -m \"Eliminado archivo5.py\""
      ]
    },
    {
      "cell_type": "code",
      "execution_count": 78,
      "metadata": {},
      "outputs": [
        {
          "name": "stdout",
          "output_type": "stream",
          "text": [
            "* \u001b[33mea615a9\u001b[m\u001b[33m (\u001b[m\u001b[1;36mHEAD -> \u001b[m\u001b[1;32mmaster\u001b[m\u001b[33m)\u001b[m Eliminado archivo5.py\n",
            "* \u001b[33me3153a5\u001b[m Commit con los archivos 4 y 5\n",
            "* \u001b[33m0b09cfa\u001b[m A\u00f1adido .gitignore\n",
            "* \u001b[33m04ebd1f\u001b[m Commit con los archivos 1 y 2\n",
            "* \u001b[33mc4930d7\u001b[m Tercer commit, hola.py\n",
            "* \u001b[33m6e99e73\u001b[m Segundo commit, hola.py\n",
            "* \u001b[33m1c95e4f\u001b[m Primer commit, hola.py\n"
          ]
        }
      ],
      "source": [
        "!cd notebook_git && git log --graph --oneline --decorate"
      ]
    },
    {
      "attachments": {},
      "cell_type": "markdown",
      "metadata": {},
      "source": [
        "#### Desfazer o commit e cri\u00e1-lo novamente sem o arquivo"
      ]
    },
    {
      "attachments": {},
      "cell_type": "markdown",
      "metadata": {},
      "source": [
        "Voltamos a criar dois arquivos e fazer um commit"
      ]
    },
    {
      "cell_type": "code",
      "execution_count": 79,
      "metadata": {},
      "outputs": [],
      "source": [
        "!cd notebook_git && echo \"print('Este es el archivo 6')\" > archivo6.py && echo \"print('Este es el archivo 7')\" > archivo7.py"
      ]
    },
    {
      "cell_type": "code",
      "execution_count": 80,
      "metadata": {},
      "outputs": [
        {
          "name": "stdout",
          "output_type": "stream",
          "text": [
            "En la rama master\n",
            "Archivos sin seguimiento:\n",
            "  (usa \"git add <archivo>...\" para incluirlo a lo que se ser\u00e1 confirmado)\n",
            "\t\u001b[31marchivo6.py\u001b[m\n",
            "\t\u001b[31marchivo7.py\u001b[m\n",
            "\n",
            "no hay nada agregado al commit pero hay archivos sin seguimiento presentes (usa \"git add\" para hacerles seguimiento)\n"
          ]
        }
      ],
      "source": [
        "!cd notebook_git && git status"
      ]
    },
    {
      "cell_type": "code",
      "execution_count": 81,
      "metadata": {},
      "outputs": [
        {
          "name": "stdout",
          "output_type": "stream",
          "text": [
            "[master d6dc485] Commit con los archivos 6 y 7\n",
            " 2 files changed, 2 insertions(+)\n",
            " create mode 100644 archivo6.py\n",
            " create mode 100644 archivo7.py\n"
          ]
        }
      ],
      "source": [
        "!cd notebook_git && git add archivo6.py archivo7.py && git commit -m \"Commit con los archivos 6 y 7\""
      ]
    },
    {
      "cell_type": "code",
      "execution_count": 82,
      "metadata": {},
      "outputs": [
        {
          "name": "stdout",
          "output_type": "stream",
          "text": [
            "* \u001b[33md6dc485\u001b[m\u001b[33m (\u001b[m\u001b[1;36mHEAD -> \u001b[m\u001b[1;32mmaster\u001b[m\u001b[33m)\u001b[m Commit con los archivos 6 y 7\n",
            "* \u001b[33mea615a9\u001b[m Eliminado archivo5.py\n",
            "* \u001b[33me3153a5\u001b[m Commit con los archivos 4 y 5\n",
            "* \u001b[33m0b09cfa\u001b[m A\u00f1adido .gitignore\n",
            "* \u001b[33m04ebd1f\u001b[m Commit con los archivos 1 y 2\n",
            "* \u001b[33mc4930d7\u001b[m Tercer commit, hola.py\n",
            "* \u001b[33m6e99e73\u001b[m Segundo commit, hola.py\n",
            "* \u001b[33m1c95e4f\u001b[m Primer commit, hola.py\n"
          ]
        }
      ],
      "source": [
        "!cd notebook_git && git log --graph --oneline --decorate"
      ]
    },
    {
      "attachments": {},
      "cell_type": "markdown",
      "metadata": {},
      "source": [
        "Primeiro desfazemos o \u00faltimo commit com `git reset --soft HEAD~1`"
      ]
    },
    {
      "cell_type": "code",
      "execution_count": 83,
      "metadata": {},
      "outputs": [],
      "source": [
        "!cd notebook_git && git reset --soft HEAD~1"
      ]
    },
    {
      "attachments": {},
      "cell_type": "markdown",
      "metadata": {},
      "source": [
        "Fazemos um `git status` para ver o que ocorreu"
      ]
    },
    {
      "cell_type": "code",
      "execution_count": 84,
      "metadata": {},
      "outputs": [
        {
          "name": "stdout",
          "output_type": "stream",
          "text": [
            "En la rama master\n",
            "Cambios a ser confirmados:\n",
            "  (usa \"git restore --staged <archivo>...\" para sacar del \u00e1rea de stage)\n",
            "\t\u001b[32mnuevos archivos: archivo6.py\u001b[m\n",
            "\t\u001b[32mnuevos archivos: archivo7.py\u001b[m\n",
            "\n"
          ]
        }
      ],
      "source": [
        "!cd notebook_git && git status"
      ]
    },
    {
      "attachments": {},
      "cell_type": "markdown",
      "metadata": {},
      "source": [
        "Vemos que desfizemos o commit, mas os dois arquivos se encontram na \u00e1rea de staged, portanto, para remover um dos arquivos do commit, primeiro \u00e9 necess\u00e1rio remov\u00ea-lo da \u00e1rea de staged. Para isso, fazemos `git reset arquivo6.py`"
      ]
    },
    {
      "cell_type": "code",
      "execution_count": 85,
      "metadata": {},
      "outputs": [],
      "source": [
        "!cd notebook_git && git reset archivo6.py"
      ]
    },
    {
      "attachments": {},
      "cell_type": "markdown",
      "metadata": {},
      "source": [
        "Fazemos novamente um `git status`"
      ]
    },
    {
      "cell_type": "code",
      "execution_count": 86,
      "metadata": {},
      "outputs": [
        {
          "name": "stdout",
          "output_type": "stream",
          "text": [
            "En la rama master\n",
            "Cambios a ser confirmados:\n",
            "  (usa \"git restore --staged <archivo>...\" para sacar del \u00e1rea de stage)\n",
            "\t\u001b[32mnuevos archivos: archivo7.py\u001b[m\n",
            "\n",
            "Archivos sin seguimiento:\n",
            "  (usa \"git add <archivo>...\" para incluirlo a lo que se ser\u00e1 confirmado)\n",
            "\t\u001b[31marchivo6.py\u001b[m\n",
            "\n"
          ]
        }
      ],
      "source": [
        "!cd notebook_git && git status"
      ]
    },
    {
      "attachments": {},
      "cell_type": "markdown",
      "metadata": {},
      "source": [
        "Vemos que `arquivo7.py` est\u00e1 na \u00e1rea de staged, enquanto `arquivo6.py` j\u00e1 n\u00e3o est\u00e1. Agora podemos apagar o arquivo 6, para isso usamos `git clean`"
      ]
    },
    {
      "cell_type": "code",
      "execution_count": 87,
      "metadata": {},
      "outputs": [
        {
          "name": "stdout",
          "output_type": "stream",
          "text": [
            "Ser\u00e1 borrado archivo6.py\n"
          ]
        }
      ],
      "source": [
        "!cd notebook_git && git clean -n"
      ]
    },
    {
      "cell_type": "code",
      "execution_count": 88,
      "metadata": {},
      "outputs": [
        {
          "name": "stdout",
          "output_type": "stream",
          "text": [
            "Borrando archivo6.py\n"
          ]
        }
      ],
      "source": [
        "!cd notebook_git && git clean -f"
      ]
    },
    {
      "attachments": {},
      "cell_type": "markdown",
      "metadata": {},
      "source": [
        "Fazemos novamente um `git status`"
      ]
    },
    {
      "cell_type": "code",
      "execution_count": 89,
      "metadata": {},
      "outputs": [
        {
          "name": "stdout",
          "output_type": "stream",
          "text": [
            "En la rama master\n",
            "Cambios a ser confirmados:\n",
            "  (usa \"git restore --staged <archivo>...\" para sacar del \u00e1rea de stage)\n",
            "\t\u001b[32mnuevos archivos: archivo7.py\u001b[m\n",
            "\n"
          ]
        }
      ],
      "source": [
        "!cd notebook_git && git status"
      ]
    },
    {
      "attachments": {},
      "cell_type": "markdown",
      "metadata": {},
      "source": [
        "Como vemos `arquivo.py` j\u00e1 n\u00e3o est\u00e1, ent\u00e3o podemos fazer um novo commit"
      ]
    },
    {
      "cell_type": "code",
      "execution_count": 90,
      "metadata": {},
      "outputs": [
        {
          "name": "stdout",
          "output_type": "stream",
          "text": [
            "[master 4bb9d75] Commit con el archivo 7\n",
            " 1 file changed, 1 insertion(+)\n",
            " create mode 100644 archivo7.py\n"
          ]
        }
      ],
      "source": [
        "!cd notebook_git && git commit -m \"Commit con el archivo 7\""
      ]
    },
    {
      "cell_type": "code",
      "execution_count": 91,
      "metadata": {},
      "outputs": [
        {
          "name": "stdout",
          "output_type": "stream",
          "text": [
            "* \u001b[33m4bb9d75\u001b[m\u001b[33m (\u001b[m\u001b[1;36mHEAD -> \u001b[m\u001b[1;32mmaster\u001b[m\u001b[33m)\u001b[m Commit con el archivo 7\n",
            "* \u001b[33mea615a9\u001b[m Eliminado archivo5.py\n",
            "* \u001b[33me3153a5\u001b[m Commit con los archivos 4 y 5\n",
            "* \u001b[33m0b09cfa\u001b[m A\u00f1adido .gitignore\n",
            "* \u001b[33m04ebd1f\u001b[m Commit con los archivos 1 y 2\n",
            "* \u001b[33mc4930d7\u001b[m Tercer commit, hola.py\n",
            "* \u001b[33m6e99e73\u001b[m Segundo commit, hola.py\n",
            "* \u001b[33m1c95e4f\u001b[m Primer commit, hola.py\n"
          ]
        }
      ],
      "source": [
        "!cd notebook_git && git log --graph --oneline --decorate"
      ]
    },
    {
      "attachments": {},
      "cell_type": "markdown",
      "metadata": {},
      "source": [
        "Removemos o \u00faltimo commit e o substitu\u00edmos por um novo, removendo o arquivo que quer\u00edamos."
      ]
    },
    {
      "attachments": {},
      "cell_type": "markdown",
      "metadata": {},
      "source": [
        "### Hist\u00f3rico de altera\u00e7\u00f5es de um arquivo (`git log <arquivo>`)"
      ]
    },
    {
      "attachments": {},
      "cell_type": "markdown",
      "metadata": {},
      "source": [
        "Embora antes tenhamos visto como podemos ver o hist\u00f3rico do reposit\u00f3rio com `git log`, pode ser que n\u00e3o nos interesse o hist\u00f3rico de todo o reposit\u00f3rio. Pode ser que tenhamos um bug em um arquivo de c\u00f3digo que no in\u00edcio n\u00e3o t\u00ednhamos, por isso \u00e9 poss\u00edvel que queiramos ver apenas o hist\u00f3rico desse arquivo. Para isso, usamos `git log <arquivo>`"
      ]
    },
    {
      "attachments": {},
      "cell_type": "markdown",
      "metadata": {},
      "source": [
        "Primeiro vemos os arquivos que temos"
      ]
    },
    {
      "cell_type": "code",
      "execution_count": 92,
      "metadata": {},
      "outputs": [
        {
          "name": "stdout",
          "output_type": "stream",
          "text": [
            "api_keys.py  archivo1.py  archivo2.py  archivo4.py  archivo7.py  hola.py\n"
          ]
        }
      ],
      "source": [
        "!cd notebook_git && ls"
      ]
    },
    {
      "attachments": {},
      "cell_type": "markdown",
      "metadata": {},
      "source": [
        "Suponhamos que queremos ver apenas as mudan\u00e7as em `hola.py`, ent\u00e3o fazemos `git log hola.py`"
      ]
    },
    {
      "cell_type": "code",
      "execution_count": 93,
      "metadata": {},
      "outputs": [
        {
          "name": "stdout",
          "output_type": "stream",
          "text": [
            "* \u001b[33mc4930d7\u001b[m Tercer commit, hola.py\n",
            "* \u001b[33m6e99e73\u001b[m Segundo commit, hola.py\n",
            "* \u001b[33m1c95e4f\u001b[m Primer commit, hola.py\n"
          ]
        }
      ],
      "source": [
        "!cd notebook_git && git log --graph --oneline --decorate hola.py"
      ]
    },
    {
      "attachments": {},
      "cell_type": "markdown",
      "metadata": {},
      "source": [
        "Podemos ver que aparecem muitos menos resultados do que se tiv\u00e9ssemos feito `git log`"
      ]
    },
    {
      "cell_type": "code",
      "execution_count": 94,
      "metadata": {},
      "outputs": [
        {
          "name": "stdout",
          "output_type": "stream",
          "text": [
            "* \u001b[33m4bb9d75\u001b[m\u001b[33m (\u001b[m\u001b[1;36mHEAD -> \u001b[m\u001b[1;32mmaster\u001b[m\u001b[33m)\u001b[m Commit con el archivo 7\n",
            "* \u001b[33mea615a9\u001b[m Eliminado archivo5.py\n",
            "* \u001b[33me3153a5\u001b[m Commit con los archivos 4 y 5\n",
            "* \u001b[33m0b09cfa\u001b[m A\u00f1adido .gitignore\n",
            "* \u001b[33m04ebd1f\u001b[m Commit con los archivos 1 y 2\n",
            "* \u001b[33mc4930d7\u001b[m Tercer commit, hola.py\n",
            "* \u001b[33m6e99e73\u001b[m Segundo commit, hola.py\n",
            "* \u001b[33m1c95e4f\u001b[m Primer commit, hola.py\n"
          ]
        }
      ],
      "source": [
        "!cd notebook_git && git log --graph --oneline --decorate"
      ]
    },
    {
      "attachments": {},
      "cell_type": "markdown",
      "metadata": {},
      "source": [
        "### Ver modifica\u00e7\u00f5es de um arquivo em um ponto espec\u00edfico do hist\u00f3rico (`git show <hash> <arquivo>` ou `git diff <arquivo>`)"
      ]
    },
    {
      "attachments": {},
      "cell_type": "markdown",
      "metadata": {},
      "source": [
        "Suponhamos que j\u00e1 sabemos em qual ponto uma altera\u00e7\u00e3o foi feita no arquivo que cont\u00e9m um bug, ent\u00e3o agora queremos saber quais altera\u00e7\u00f5es foram feitas para descobrir o que pode estar causando o bug. Para isso, podemos usar `git show <hash> <arquivo>`"
      ]
    },
    {
      "attachments": {},
      "cell_type": "markdown",
      "metadata": {},
      "source": [
        "Vamos ver quais mudan\u00e7as ocorreram em `hola.py` no hash `c4930d7`, ou seja, quando foi feito o terceiro commit"
      ]
    },
    {
      "cell_type": "code",
      "execution_count": 98,
      "metadata": {},
      "outputs": [
        {
          "name": "stdout",
          "output_type": "stream",
          "text": [
            "\u001b[33mcommit c4930d7267c3f8df389ab0cb1bda0b5fceabb5c2\u001b[m\n",
            "Author: maximofn <maximofn@gmail.com>\n",
            "Date:   Sun Apr 16 02:29:59 2023 +0200\n",
            "\n",
            "    Tercer commit, hola.py\n",
            "\n",
            "\u001b[1mdiff --git a/hola.py b/hola.py\u001b[m\n",
            "\u001b[1mindex 91dee80..33bdb99 100644\u001b[m\n",
            "\u001b[1m--- a/hola.py\u001b[m\n",
            "\u001b[1m+++ b/hola.py\u001b[m\n",
            "\u001b[36m@@ -1,2 +1,3 @@\u001b[m\n",
            " print('Hola mundo')\u001b[m\n",
            " print('He a\u00f1adido una nueva linea')\u001b[m\n",
            "\u001b[32m+\u001b[m\u001b[32mprint('Esta es la tercera linea')\u001b[m\n"
          ]
        }
      ],
      "source": [
        "!cd notebook_git && git show c4930d7 hola.py"
      ]
    },
    {
      "attachments": {},
      "cell_type": "markdown",
      "metadata": {},
      "source": [
        "A maneira de ver as mudan\u00e7as no git n\u00e3o \u00e9 muito intuitiva, mas podemos ver que foi adicionada a linha `print('Esta \u00e9 a terceira linha')`"
      ]
    },
    {
      "attachments": {},
      "cell_type": "markdown",
      "metadata": {},
      "source": [
        "Outra maneira de ver altera\u00e7\u00f5es \u00e9 com `git diff`, temos duas op\u00e7\u00f5es, podemos ver as altera\u00e7\u00f5es do arquivo no momento atual em rela\u00e7\u00e3o a um ponto espec\u00edfico do hist\u00f3rico, para isso fazemos `git diff <hash> <arquivo>`.",
        "\n",
        "Por exemplo, se quisermos ver as mudan\u00e7as de `hola.py` desde quando foi feito o primeiro commit (hash `1c95e4f`) at\u00e9 a situa\u00e7\u00e3o atual, devemos inserir (`git diff 1c95e4f hola.py`)"
      ]
    },
    {
      "cell_type": "code",
      "execution_count": 99,
      "metadata": {},
      "outputs": [
        {
          "name": "stdout",
          "output_type": "stream",
          "text": [
            "\u001b[1mdiff --git a/hola.py b/hola.py\u001b[m\n",
            "\u001b[1mindex f140969..33bdb99 100644\u001b[m\n",
            "\u001b[1m--- a/hola.py\u001b[m\n",
            "\u001b[1m+++ b/hola.py\u001b[m\n",
            "\u001b[36m@@ -1 +1,3 @@\u001b[m\n",
            " print('Hola mundo')\u001b[m\n",
            "\u001b[32m+\u001b[m\u001b[32mprint('He a\u00f1adido una nueva linea')\u001b[m\n",
            "\u001b[32m+\u001b[m\u001b[32mprint('Esta es la tercera linea')\u001b[m\n"
          ]
        }
      ],
      "source": [
        "!cd notebook_git && git diff 1c95e4f hola.py"
      ]
    },
    {
      "attachments": {},
      "cell_type": "markdown",
      "metadata": {},
      "source": [
        "Mas se quisermos ver a diferen\u00e7a entre um ponto espec\u00edfico do hist\u00f3rico e outro ponto espec\u00edfico, temos que introduzir os hashes dos dois momentos, ou seja `git diff <hash1> <hash2> <arquivo>`",
        "\n",
        "Se quisermos ver as mudan\u00e7as de `hola.py` entre o segundo commit (hash `6e99e73`) e o primeiro commit (hash `1c95e4f`), ter\u00edamos que introduzir `git diff 1c95e4f 6e99e73 hola.py`"
      ]
    },
    {
      "cell_type": "code",
      "execution_count": 101,
      "metadata": {},
      "outputs": [
        {
          "name": "stdout",
          "output_type": "stream",
          "text": [
            "\u001b[1mdiff --git a/hola.py b/hola.py\u001b[m\n",
            "\u001b[1mindex f140969..91dee80 100644\u001b[m\n",
            "\u001b[1m--- a/hola.py\u001b[m\n",
            "\u001b[1m+++ b/hola.py\u001b[m\n",
            "\u001b[36m@@ -1 +1,2 @@\u001b[m\n",
            " print('Hola mundo')\u001b[m\n",
            "\u001b[32m+\u001b[m\u001b[32mprint('He a\u00f1adido una nueva linea')\u001b[m\n"
          ]
        }
      ],
      "source": [
        "!cd notebook_git && git diff 1c95e4f 6e99e73 hola.py"
      ]
    },
    {
      "attachments": {},
      "cell_type": "markdown",
      "metadata": {},
      "source": [
        "O anterior nos mostra as mudan\u00e7as do segundo commit em rela\u00e7\u00e3o ao primeiro, mas se o que queremos s\u00e3o as mudan\u00e7as do primeiro commit em rela\u00e7\u00e3o ao segundo, basta colocar os hashes ao contr\u00e1rio de como os colocamos, ou seja `git diff 6e99e73 1c95e4f hola.py`"
      ]
    },
    {
      "cell_type": "code",
      "execution_count": 102,
      "metadata": {},
      "outputs": [
        {
          "name": "stdout",
          "output_type": "stream",
          "text": [
            "\u001b[1mdiff --git a/hola.py b/hola.py\u001b[m\n",
            "\u001b[1mindex 91dee80..f140969 100644\u001b[m\n",
            "\u001b[1m--- a/hola.py\u001b[m\n",
            "\u001b[1m+++ b/hola.py\u001b[m\n",
            "\u001b[36m@@ -1,2 +1 @@\u001b[m\n",
            " print('Hola mundo')\u001b[m\n",
            "\u001b[31m-print('He a\u00f1adido una nueva linea')\u001b[m\n"
          ]
        }
      ],
      "source": [
        "!cd notebook_git && git diff 6e99e73 1c95e4f hola.py"
      ]
    },
    {
      "attachments": {},
      "cell_type": "markdown",
      "metadata": {},
      "source": [
        "### Viagem ao passado (`git reset --hard <hash>` ou `git reset --soft <hash>`)"
      ]
    },
    {
      "attachments": {},
      "cell_type": "markdown",
      "metadata": {},
      "source": [
        "Imaginemos que encontramos que tudo o que fizemos ap\u00f3s gerar o bug n\u00e3o serve e temos que voltar a trabalhar a partir desse ponto, podemos voltar a uma posi\u00e7\u00e3o do hist\u00f3rico por meio de `git reset --hard <hash>` (isso n\u00e3o manter\u00e1 as altera\u00e7\u00f5es) ou `git reset --soft <hash>` (isso sim manter\u00e1 as altera\u00e7\u00f5es)."
      ]
    },
    {
      "attachments": {},
      "cell_type": "markdown",
      "metadata": {},
      "source": [
        "Primeiro vejamos o hist\u00f3rico"
      ]
    },
    {
      "cell_type": "code",
      "execution_count": 103,
      "metadata": {},
      "outputs": [
        {
          "name": "stdout",
          "output_type": "stream",
          "text": [
            "* \u001b[33m4bb9d75\u001b[m\u001b[33m (\u001b[m\u001b[1;36mHEAD -> \u001b[m\u001b[1;32mmaster\u001b[m\u001b[33m)\u001b[m Commit con el archivo 7\n",
            "* \u001b[33mea615a9\u001b[m Eliminado archivo5.py\n",
            "* \u001b[33me3153a5\u001b[m Commit con los archivos 4 y 5\n",
            "* \u001b[33m0b09cfa\u001b[m A\u00f1adido .gitignore\n",
            "* \u001b[33m04ebd1f\u001b[m Commit con los archivos 1 y 2\n",
            "* \u001b[33mc4930d7\u001b[m Tercer commit, hola.py\n",
            "* \u001b[33m6e99e73\u001b[m Segundo commit, hola.py\n",
            "* \u001b[33m1c95e4f\u001b[m Primer commit, hola.py\n"
          ]
        }
      ],
      "source": [
        "!cd notebook_git && git log --graph --oneline --decorate"
      ]
    },
    {
      "attachments": {},
      "cell_type": "markdown",
      "metadata": {},
      "source": [
        "Suponhamos que queremos voltar ao momento em que fizemos o terceiro commit (hash `c4930d7`), al\u00e9m disso, fazemos isso sem manter as altera\u00e7\u00f5es, ou seja, todas as modifica\u00e7\u00f5es que fizemos depois ser\u00e3o apagadas, fazemos `git reset --hard c4930d7`"
      ]
    },
    {
      "attachments": {},
      "cell_type": "markdown",
      "metadata": {},
      "source": [
        "Primeiro fazemos `ls` para ver os arquivos que temos agora"
      ]
    },
    {
      "cell_type": "code",
      "execution_count": 104,
      "metadata": {},
      "outputs": [
        {
          "name": "stdout",
          "output_type": "stream",
          "text": [
            "api_keys.py  archivo1.py  archivo2.py  archivo4.py  archivo7.py  hola.py\n"
          ]
        }
      ],
      "source": [
        "!cd notebook_git && ls"
      ]
    },
    {
      "attachments": {},
      "cell_type": "markdown",
      "metadata": {},
      "source": [
        "Vamos ao terceiro commit"
      ]
    },
    {
      "cell_type": "code",
      "execution_count": 105,
      "metadata": {},
      "outputs": [
        {
          "name": "stdout",
          "output_type": "stream",
          "text": [
            "HEAD est\u00e1 ahora en c4930d7 Tercer commit, hola.py\n"
          ]
        }
      ],
      "source": [
        "!cd notebook_git && git reset --hard c4930d7"
      ]
    },
    {
      "attachments": {},
      "cell_type": "markdown",
      "metadata": {},
      "source": [
        "Se fazemos `ls` veremos que j\u00e1 n\u00e3o temos nem `archivo1.py`, nem `archivo2.py`, nem `archivo4.py`, nem `archivo7.py`"
      ]
    },
    {
      "cell_type": "code",
      "execution_count": 106,
      "metadata": {},
      "outputs": [
        {
          "name": "stdout",
          "output_type": "stream",
          "text": [
            "api_keys.py  hola.py\n"
          ]
        }
      ],
      "source": [
        "!cd notebook_git && ls"
      ]
    },
    {
      "attachments": {},
      "cell_type": "markdown",
      "metadata": {},
      "source": [
        "### Volta ao futuro (`git reflog`)"
      ]
    },
    {
      "attachments": {},
      "cell_type": "markdown",
      "metadata": {},
      "source": [
        "Suponhamos que nos arrependemos e queremos voltar ao ponto onde est\u00e1vamos, ao \u00faltimo punto no hist\u00f3rico. Uma maneira seria fazer `git reset --hard <hash>`. Mas imaginemos que n\u00e3o sabemos o hash, porque n\u00e3o fizemos `git log` antes e se o fizermos agora s\u00f3 nos d\u00e1 informa\u00e7\u00e3o do hist\u00f3rico at\u00e9 o terceiro commit."
      ]
    },
    {
      "cell_type": "code",
      "execution_count": 107,
      "metadata": {},
      "outputs": [
        {
          "name": "stdout",
          "output_type": "stream",
          "text": [
            "* \u001b[33mc4930d7\u001b[m\u001b[33m (\u001b[m\u001b[1;36mHEAD -> \u001b[m\u001b[1;32mmaster\u001b[m\u001b[33m)\u001b[m Tercer commit, hola.py\n",
            "* \u001b[33m6e99e73\u001b[m Segundo commit, hola.py\n",
            "* \u001b[33m1c95e4f\u001b[m Primer commit, hola.py\n"
          ]
        }
      ],
      "source": [
        "!cd notebook_git && git log --graph --oneline --decorate"
      ]
    },
    {
      "attachments": {},
      "cell_type": "markdown",
      "metadata": {},
      "source": [
        "Aqui o que podemos fazer \u00e9 `git reflog`, que nos dar\u00e1 um hist\u00f3rico incluindo os saltos"
      ]
    },
    {
      "cell_type": "code",
      "execution_count": 108,
      "metadata": {},
      "outputs": [
        {
          "name": "stdout",
          "output_type": "stream",
          "text": [
            "\u001b[33mc4930d7\u001b[m\u001b[33m (\u001b[m\u001b[1;36mHEAD -> \u001b[m\u001b[1;32mmaster\u001b[m\u001b[33m)\u001b[m HEAD@{0}: reset: moving to c4930d7\n",
            "\u001b[33m4bb9d75\u001b[m HEAD@{1}: commit: Commit con el archivo 7\n",
            "\u001b[33mea615a9\u001b[m HEAD@{2}: reset: moving to HEAD~1\n",
            "\u001b[33md6dc485\u001b[m HEAD@{3}: commit: Commit con los archivos 6 y 7\n",
            "\u001b[33mea615a9\u001b[m HEAD@{4}: commit: Eliminado archivo5.py\n",
            "\u001b[33me3153a5\u001b[m HEAD@{5}: commit: Commit con los archivos 4 y 5\n",
            "\u001b[33m0b09cfa\u001b[m HEAD@{6}: commit: A\u00f1adido .gitignore\n",
            "\u001b[33m04ebd1f\u001b[m HEAD@{7}: reset: moving to HEAD~1\n",
            "\u001b[33m0147d65\u001b[m HEAD@{8}: commit: Commit con el archivo 3\n",
            "\u001b[33m04ebd1f\u001b[m HEAD@{9}: reset: moving to HEAD~1\n",
            "\u001b[33m6dc7be6\u001b[m HEAD@{10}: commit: Commit con el archivos 3\n",
            "\u001b[33m04ebd1f\u001b[m HEAD@{11}: commit (amend): Commit con los archivos 1 y 2\n",
            "\u001b[33m285b243\u001b[m HEAD@{12}: commit: Commit con el archivo 1\n",
            "\u001b[33mc4930d7\u001b[m\u001b[33m (\u001b[m\u001b[1;36mHEAD -> \u001b[m\u001b[1;32mmaster\u001b[m\u001b[33m)\u001b[m HEAD@{13}: commit (amend): Tercer commit, hola.py\n",
            "\u001b[33m60e2ffd\u001b[m HEAD@{14}: commit: Tercer commot, hola.py\n",
            "\u001b[33m6e99e73\u001b[m HEAD@{15}: commit: Segundo commit, hola.py\n",
            "\u001b[33m1c95e4f\u001b[m HEAD@{16}: commit (initial): Primer commit, hola.py\n"
          ]
        }
      ],
      "source": [
        "!cd notebook_git && git reflog"
      ]
    },
    {
      "attachments": {},
      "cell_type": "markdown",
      "metadata": {},
      "source": [
        "Podemos ver que nos diz que est\u00e1vamos no commit com hash `4bb9d75`, ou seja, o \u00faltimo commit que fizemos, e de l\u00e1 fomos at\u00e9 o commit com hash `c4930d7`, que se voc\u00ea reparar, \u00e9 o mesmo hash do commit com mensagem `Tercer commit, hola.py`. Portanto, j\u00e1 sabemos o hash do \u00faltimo commit, o `4bb9d75`, assim para voltar \u00e0 posi\u00e7\u00e3o do \u00faltimo commit fazemos `git reset --hard 4bb9d75`"
      ]
    },
    {
      "cell_type": "code",
      "execution_count": 109,
      "metadata": {},
      "outputs": [
        {
          "name": "stdout",
          "output_type": "stream",
          "text": [
            "HEAD est\u00e1 ahora en 4bb9d75 Commit con el archivo 7\n"
          ]
        }
      ],
      "source": [
        "!cd notebook_git && git reset --hard 4bb9d75"
      ]
    },
    {
      "attachments": {},
      "cell_type": "markdown",
      "metadata": {},
      "source": [
        "Se agora voltarmos a fazer um log"
      ]
    },
    {
      "cell_type": "code",
      "execution_count": 110,
      "metadata": {},
      "outputs": [
        {
          "name": "stdout",
          "output_type": "stream",
          "text": [
            "* \u001b[33m4bb9d75\u001b[m\u001b[33m (\u001b[m\u001b[1;36mHEAD -> \u001b[m\u001b[1;32mmaster\u001b[m\u001b[33m)\u001b[m Commit con el archivo 7\n",
            "* \u001b[33mea615a9\u001b[m Eliminado archivo5.py\n",
            "* \u001b[33me3153a5\u001b[m Commit con los archivos 4 y 5\n",
            "* \u001b[33m0b09cfa\u001b[m A\u00f1adido .gitignore\n",
            "* \u001b[33m04ebd1f\u001b[m Commit con los archivos 1 y 2\n",
            "* \u001b[33mc4930d7\u001b[m Tercer commit, hola.py\n",
            "* \u001b[33m6e99e73\u001b[m Segundo commit, hola.py\n",
            "* \u001b[33m1c95e4f\u001b[m Primer commit, hola.py\n"
          ]
        }
      ],
      "source": [
        "!cd notebook_git && git log --graph --oneline --decorate"
      ]
    },
    {
      "attachments": {},
      "cell_type": "markdown",
      "metadata": {},
      "source": [
        "Vemos que efectivamente estamos na posi\u00e7\u00e3o do \u00faltimo commit, *voltamos para o futuro*"
      ]
    },
    {
      "attachments": {},
      "cell_type": "markdown",
      "metadata": {},
      "source": [
        "### Pesquisa em arquivos (`git grep <palavra>`)"
      ]
    },
    {
      "attachments": {},
      "cell_type": "markdown",
      "metadata": {},
      "source": [
        "Se quisermos procurar em arquivos, podemos faz\u00ea-lo com o comando `git grep`. Como no reposit\u00f3rio que estamos construindo \u00e9 muito pequeno e tem poucos arquivos, vamos baixar um novo por meio de um comando que veremos com mais detalhes posteriormente."
      ]
    },
    {
      "cell_type": "code",
      "execution_count": 5,
      "metadata": {},
      "outputs": [
        {
          "name": "stdout",
          "output_type": "stream",
          "text": [
            "Clonando en 'segment-anything'...\n",
            "remote: Enumerating objects: 279, done.\u001b[K\n",
            "remote: Counting objects: 100% (181/181), done.\u001b[K\n",
            "remote: Compressing objects: 100% (77/77), done.\u001b[K\n",
            "remote: Total 279 (delta 116), reused 104 (delta 104), pack-reused 98\u001b[K\n",
            "Recibiendo objetos: 100% (279/279), 18.31 MiB | 21.25 MiB/s, listo.\n",
            "Resolviendo deltas: 100% (140/140), listo.\n"
          ]
        }
      ],
      "source": [
        "!git clone https://github.com/facebookresearch/segment-anything.git"
      ]
    },
    {
      "attachments": {},
      "cell_type": "markdown",
      "metadata": {},
      "source": [
        "O reposit\u00f3rio que baixamos \u00e9 o do c\u00f3digo-fonte do SAM, uma rede neural da Meta para segmentar qualquer objeto. Entramos na pasta do reposit\u00f3rio e procuramos, por exemplo, quantas vezes a palavra `softmax` foi escrita."
      ]
    },
    {
      "cell_type": "code",
      "execution_count": 8,
      "metadata": {},
      "outputs": [
        {
          "name": "stdout",
          "output_type": "stream",
          "text": [
            "segment_anything/modeling/image_encoder.py\u001b[36m:\u001b[m        attn = attn.\u001b[1;31msoftmax\u001b[m(dim=-1)\n",
            "segment_anything/modeling/transformer.py\u001b[36m:\u001b[m        attn = torch.\u001b[1;31msoftmax\u001b[m(attn, dim=-1)\n"
          ]
        }
      ],
      "source": [
        "!cd segment-anything && git grep softmax"
      ]
    },
    {
      "attachments": {},
      "cell_type": "markdown",
      "metadata": {},
      "source": [
        "Vemos que se escreveu nos arquivos `segment_anything/modeling/image_encoder.py` e `segment_anything/modeling/transformer.py`."
      ]
    },
    {
      "attachments": {},
      "cell_type": "markdown",
      "metadata": {},
      "source": [
        "Se quisermos saber em quais linhas dos arquivos foi escrito, usamos a flag `-n`"
      ]
    },
    {
      "cell_type": "code",
      "execution_count": 9,
      "metadata": {},
      "outputs": [
        {
          "name": "stdout",
          "output_type": "stream",
          "text": [
            "segment_anything/modeling/image_encoder.py\u001b[36m:\u001b[m236\u001b[36m:\u001b[m        attn = attn.\u001b[1;31msoftmax\u001b[m(dim=-1)\n",
            "segment_anything/modeling/transformer.py\u001b[36m:\u001b[m233\u001b[36m:\u001b[m        attn = torch.\u001b[1;31msoftmax\u001b[m(attn, dim=-1)\n"
          ]
        }
      ],
      "source": [
        "!cd segment-anything && git grep -n softmax"
      ]
    },
    {
      "attachments": {},
      "cell_type": "markdown",
      "metadata": {},
      "source": [
        "Se quisermos contar quantas vezes uma palavra aparece, podemos usar a flag `-c`"
      ]
    },
    {
      "cell_type": "code",
      "execution_count": 10,
      "metadata": {},
      "outputs": [
        {
          "name": "stdout",
          "output_type": "stream",
          "text": [
            "segment_anything/modeling/image_encoder.py\u001b[36m:\u001b[m1\n",
            "segment_anything/modeling/transformer.py\u001b[36m:\u001b[m1\n"
          ]
        }
      ],
      "source": [
        "!cd segment-anything && git grep -c softmax"
      ]
    },
    {
      "attachments": {},
      "cell_type": "markdown",
      "metadata": {},
      "source": [
        "E vemos que aparece uma vez em cada arquivo"
      ]
    },
    {
      "attachments": {},
      "cell_type": "markdown",
      "metadata": {},
      "source": [
        "E nos diz que est\u00e3o nas linhas 236 e 233, respectivamente."
      ]
    },
    {
      "attachments": {},
      "cell_type": "markdown",
      "metadata": {},
      "source": [
        "### Busca em commits (`git log -S <palavra>`)"
      ]
    },
    {
      "attachments": {},
      "cell_type": "markdown",
      "metadata": {},
      "source": [
        "Se quisermos buscar no hist\u00f3rico de commits, podemos usar o comando `git log -S <palavra>`. Por exemplo, busquemos no hist\u00f3rico de commits do reposit\u00f3rio que baixamos anteriormente a palavra `fix`."
      ]
    },
    {
      "cell_type": "code",
      "execution_count": 19,
      "metadata": {},
      "outputs": [
        {
          "name": "stdout",
          "output_type": "stream",
          "text": [
            "\u001b[33mcommit 2780a301de4483e5c46edb230ea781556159c658\u001b[m\n",
            "Author: Eric Mintun <eric.mintun@gmail.com>\n",
            "Date:   Mon Apr 10 10:50:17 2023 -0700\n",
            "\n",
            "    Fix typo in notebook 'using_collab'->'using_colab' in other two notebooks.\n",
            "\n",
            "\u001b[33mcommit 2c11ea23525970ac288f23dc74b203bcbfb4cc6a\u001b[m\n",
            "Author: jp-x-g <jpxg-dev@protonmail.com>\n",
            "Date:   Thu Apr 6 20:00:04 2023 -0700\n",
            "\n",
            "    fix parameter name\n",
            "    \n",
            "    \"using_collab\" does not appear in subsequent text, replacing with \"using_colab\"\n",
            "\n",
            "\u001b[33mcommit b47d02d68c308672751be29742fcef02a86e2f02\u001b[m\n",
            "Author: Eric Mintun <eric.mintun@gmail.com>\n",
            "Date:   Wed Apr 5 06:13:09 2023 -0700\n",
            "\n",
            "    Fix broken links in notebook Colab setup.\n",
            "\n",
            "\u001b[33mcommit 571794162e0887c15d12b809505b902c7bf8b4db\u001b[m\n",
            "Author: Eric Mintun <eric.mintun@gmail.com>\n",
            "Date:   Tue Apr 4 22:25:49 2023 -0700\n",
            "\n",
            "    Initial commit\n"
          ]
        }
      ],
      "source": [
        "!cd segment-anything && git log -S \"collab\""
      ]
    },
    {
      "attachments": {},
      "cell_type": "markdown",
      "metadata": {},
      "source": [
        "Apagamos a pasta do SAM"
      ]
    },
    {
      "cell_type": "code",
      "execution_count": null,
      "metadata": {},
      "outputs": [],
      "source": [
        "!rm -r segment-anything"
      ]
    },
    {
      "attachments": {},
      "cell_type": "markdown",
      "metadata": {},
      "source": [
        "## Ramas"
      ]
    },
    {
      "attachments": {},
      "cell_type": "markdown",
      "metadata": {},
      "source": [
        "![branches](https://pub-fb664c455eca46a2ba762a065ac900f7.r2.dev/GIT-Branchand-its-Operations.webp)",
        "\n",
        "O uso de branches \u00e9 muito \u00fatil, pois podemos come\u00e7ar a desenvolver um novo recurso sem ter que modificar o c\u00f3digo original"
      ]
    },
    {
      "attachments": {},
      "cell_type": "markdown",
      "metadata": {},
      "source": [
        "### Criar uma branch (`git branch <nome-da-branch>`)"
      ]
    },
    {
      "attachments": {},
      "cell_type": "markdown",
      "metadata": {},
      "source": [
        "> **Nota**: Antes de tudo, \u00e9 preciso dizer que para criar uma branch em um reposit\u00f3rio deve haver pelo menos um commit. Se tentarmos criar uma branch antes de fazer o primeiro commit, receberemos um erro."
      ]
    },
    {
      "attachments": {},
      "cell_type": "markdown",
      "metadata": {},
      "source": [
        "Para criar uma branch usamos o comando `git branch <nome da branch>`"
      ]
    },
    {
      "cell_type": "code",
      "execution_count": 111,
      "metadata": {},
      "outputs": [],
      "source": [
        "!cd notebook_git && git branch new_branch"
      ]
    },
    {
      "attachments": {},
      "cell_type": "markdown",
      "metadata": {},
      "source": [
        "### Listar ramos (`git branch`)"
      ]
    },
    {
      "attachments": {},
      "cell_type": "markdown",
      "metadata": {},
      "source": [
        "Criamos nossa primeira branch, podemos verificar todas as branches criadas apenas escrevendo `git branch`"
      ]
    },
    {
      "cell_type": "code",
      "execution_count": 112,
      "metadata": {},
      "outputs": [
        {
          "name": "stdout",
          "output_type": "stream",
          "text": [
            "* \u001b[32mmaster\u001b[m\n",
            "  new_branch\u001b[m\n"
          ]
        }
      ],
      "source": [
        "!cd notebook_git && git branch"
      ]
    },
    {
      "attachments": {},
      "cell_type": "markdown",
      "metadata": {},
      "source": [
        "Al\u00e9m de listar, ele indica com um asterisco `*` em qual ramo estamos, neste caso na ramo `master`."
      ]
    },
    {
      "attachments": {},
      "cell_type": "markdown",
      "metadata": {},
      "source": [
        "### Renomear ramos, adeus \u00e0 ramo `master` (`git branch -m <nome antigo> <novo nome>`)"
      ]
    },
    {
      "attachments": {},
      "cell_type": "markdown",
      "metadata": {},
      "source": [
        "Hist\u00f3ricamente no git a ramifica\u00e7\u00e3o principal era chamada de `master`, mas isso tem conota\u00e7\u00f5es hist\u00f3ricas negativas devido ao conceito de `master-slave` (`maestro-escravo`), em raz\u00e3o do sofrimento que muitas pessoas enfrentaram. Por isso, agora a ramifica\u00e7\u00e3o principal costuma ser denominada `main`, ent\u00e3o para renome\u00e1-la usamos `git branch -m master main`."
      ]
    },
    {
      "cell_type": "code",
      "execution_count": 113,
      "metadata": {},
      "outputs": [],
      "source": [
        "!cd notebook_git && git branch -m master main"
      ]
    },
    {
      "attachments": {},
      "cell_type": "markdown",
      "metadata": {},
      "source": [
        "Listamos as ramas"
      ]
    },
    {
      "cell_type": "code",
      "execution_count": 114,
      "metadata": {},
      "outputs": [
        {
          "name": "stdout",
          "output_type": "stream",
          "text": [
            "* \u001b[32mmain\u001b[m\n",
            "  new_branch\u001b[m\n"
          ]
        }
      ],
      "source": [
        "!cd notebook_git && git branch"
      ]
    },
    {
      "attachments": {},
      "cell_type": "markdown",
      "metadata": {},
      "source": [
        "Como vemos, conseguimos mudar o nome da branch principal de `master` para `main`"
      ]
    },
    {
      "attachments": {},
      "cell_type": "markdown",
      "metadata": {},
      "source": [
        "### Mudar de ramo (`git switch <branch>`)"
      ]
    },
    {
      "attachments": {},
      "cell_type": "markdown",
      "metadata": {},
      "source": [
        "Se quisermos mudar de branch, basta escrever `git switch <nome da branch>`"
      ]
    },
    {
      "cell_type": "code",
      "execution_count": 115,
      "metadata": {},
      "outputs": [
        {
          "name": "stdout",
          "output_type": "stream",
          "text": [
            "Cambiado a rama 'new_branch'\n"
          ]
        }
      ],
      "source": [
        "!cd notebook_git && git switch new_branch"
      ]
    },
    {
      "attachments": {},
      "cell_type": "markdown",
      "metadata": {},
      "source": [
        "Vamos ver em qual ramo estamos com `git branch`"
      ]
    },
    {
      "cell_type": "code",
      "execution_count": 116,
      "metadata": {},
      "outputs": [
        {
          "name": "stdout",
          "output_type": "stream",
          "text": [
            "  main\u001b[m\n",
            "* \u001b[32mnew_branch\u001b[m\n"
          ]
        }
      ],
      "source": [
        "!cd notebook_git && git branch"
      ]
    },
    {
      "attachments": {},
      "cell_type": "markdown",
      "metadata": {},
      "source": [
        "Como vemos, mudamos de branch para new_branch"
      ]
    },
    {
      "attachments": {},
      "cell_type": "markdown",
      "metadata": {},
      "source": [
        "Se quisermos criar e mudar para uma branch em um \u00fanico comando, podemos usar `git switch -c <nome da branch>`"
      ]
    },
    {
      "cell_type": "code",
      "execution_count": 117,
      "metadata": {},
      "outputs": [
        {
          "name": "stdout",
          "output_type": "stream",
          "text": [
            "Cambiado a nueva rama 'new_branch2'\n"
          ]
        }
      ],
      "source": [
        "!cd notebook_git && git switch -c new_branch2"
      ]
    },
    {
      "attachments": {},
      "cell_type": "markdown",
      "metadata": {},
      "source": [
        "Vamos ver em qual branch estamos"
      ]
    },
    {
      "cell_type": "code",
      "execution_count": 118,
      "metadata": {},
      "outputs": [
        {
          "name": "stdout",
          "output_type": "stream",
          "text": [
            "  main\u001b[m\n",
            "  new_branch\u001b[m\n",
            "* \u001b[32mnew_branch2\u001b[m\n"
          ]
        }
      ],
      "source": [
        "!cd notebook_git && git branch"
      ]
    },
    {
      "attachments": {},
      "cell_type": "markdown",
      "metadata": {},
      "source": [
        "N\u00f3s criamos e mudamos de branch com um \u00fanico comando"
      ]
    },
    {
      "attachments": {},
      "cell_type": "markdown",
      "metadata": {},
      "source": [
        "### Obter a branch em que estamos (`git branch --show-current`)"
      ]
    },
    {
      "attachments": {},
      "cell_type": "markdown",
      "metadata": {},
      "source": [
        "Como vimos at\u00e9 agora com `git branch` podemos obter uma lista de todas as ramas e ainda ver em qual estamos atualmente, mas no caso de termos uma grande quantidade de ramas, algo que pode acontecer em uma equipe de trabalho com muita gente, \u00e9 bom obter apenas a rama e n\u00e3o uma lista de todas. Para isso usamos `git branch --show-current`"
      ]
    },
    {
      "cell_type": "code",
      "execution_count": 119,
      "metadata": {},
      "outputs": [
        {
          "name": "stdout",
          "output_type": "stream",
          "text": [
            "new_branch2\n"
          ]
        }
      ],
      "source": [
        "!cd notebook_git && git branch --show-current"
      ]
    },
    {
      "attachments": {},
      "cell_type": "markdown",
      "metadata": {},
      "source": [
        "### Lista de ramas mais recentes (`git branch --sort=-committerdate`)"
      ]
    },
    {
      "attachments": {},
      "cell_type": "markdown",
      "metadata": {},
      "source": [
        "Em caso de ter muitas branches, talvez seja interessante saber quais s\u00e3o as mais recentes para ver quais foram as \u00faltimas criadas e onde deve estar o \u00faltimo desenvolvimento. Para isso, usamos `git branch --sort=-committerdate`"
      ]
    },
    {
      "cell_type": "code",
      "execution_count": 120,
      "metadata": {},
      "outputs": [
        {
          "name": "stdout",
          "output_type": "stream",
          "text": [
            "* \u001b[32mnew_branch2\u001b[m\n",
            "  new_branch\u001b[m\n",
            "  main\u001b[m\n"
          ]
        }
      ],
      "source": [
        "!cd notebook_git && git branch --sort=-committerdate"
      ]
    },
    {
      "attachments": {},
      "cell_type": "markdown",
      "metadata": {},
      "source": [
        "Como vemos, as ordenou em ordem inversa \u00e0 que foram criadas."
      ]
    },
    {
      "attachments": {},
      "cell_type": "markdown",
      "metadata": {},
      "source": [
        "### O comando preterido `git checkout`"
      ]
    },
    {
      "attachments": {},
      "cell_type": "markdown",
      "metadata": {},
      "source": [
        "At\u00e9 recentemente, o comando para criar ramifica\u00e7\u00f5es e alternar entre elas era `git checkout`, mas este comando n\u00e3o fazia apenas isso, tamb\u00e9m restaurava o diret\u00f3rio de trabalho. No entanto, isso vai contra a filosofia do Linux, por isso foram criados os comandos `git branch`, `git switch` e `git restore` para dividir essa funcionalidade."
      ]
    },
    {
      "attachments": {},
      "cell_type": "markdown",
      "metadata": {},
      "source": [
        "### Fundindo branches (`git merge`)"
      ]
    },
    {
      "attachments": {},
      "cell_type": "markdown",
      "metadata": {},
      "source": [
        "Como dissem, criar branches \u00e9 muito \u00fatil para desenvolver novas funcionalidades sem afetar o resto da equipe. Mas quando elas est\u00e3o conclu\u00eddas, \u00e9 necess\u00e1rio lev\u00e1-las para a branch principal, para isso usamos o comando `git merge <branch>`",
        "\n",
        "> **Importante**: Temos que estar na branch que vai adotar as mudan\u00e7as, ou seja, se quisermos mesclar as mudan\u00e7as realizadas na branch `new_branch2` na branch `main`, primeiro temos que nos certificar de estar na branch `main`"
      ]
    },
    {
      "attachments": {},
      "cell_type": "markdown",
      "metadata": {},
      "source": [
        "Primeiro verificamos em qual branch estamos"
      ]
    },
    {
      "cell_type": "code",
      "execution_count": 121,
      "metadata": {},
      "outputs": [
        {
          "name": "stdout",
          "output_type": "stream",
          "text": [
            "new_branch2\n"
          ]
        }
      ],
      "source": [
        "!cd notebook_git && git branch --show-current"
      ]
    },
    {
      "attachments": {},
      "cell_type": "markdown",
      "metadata": {},
      "source": [
        "Eliminamos `arquivo7.py`"
      ]
    },
    {
      "cell_type": "code",
      "execution_count": 122,
      "metadata": {},
      "outputs": [
        {
          "name": "stdout",
          "output_type": "stream",
          "text": [
            "rm 'archivo7.py'\n"
          ]
        }
      ],
      "source": [
        "!cd notebook_git && git rm archivo7.py"
      ]
    },
    {
      "attachments": {},
      "cell_type": "markdown",
      "metadata": {},
      "source": [
        "Fazemos um commit com as mudan\u00e7as"
      ]
    },
    {
      "cell_type": "code",
      "execution_count": 123,
      "metadata": {},
      "outputs": [
        {
          "name": "stdout",
          "output_type": "stream",
          "text": [
            "[new_branch2 5168f78] Eliminado archivo7.py\n",
            " 1 file changed, 1 deletion(-)\n",
            " delete mode 100644 archivo7.py\n"
          ]
        }
      ],
      "source": [
        "!cd notebook_git && git commit -am \"Eliminado archivo7.py\""
      ]
    },
    {
      "attachments": {},
      "cell_type": "markdown",
      "metadata": {},
      "source": [
        "Se fazemos um `ls` vemos que `arquivo7.py` j\u00e1 n\u00e3o est\u00e1"
      ]
    },
    {
      "cell_type": "code",
      "execution_count": 124,
      "metadata": {},
      "outputs": [],
      "source": [
        "!cd notebook_git && ls | grep archivo7"
      ]
    },
    {
      "attachments": {},
      "cell_type": "markdown",
      "metadata": {},
      "source": [
        "Criamos um novo arquivo e fazemos um commit"
      ]
    },
    {
      "cell_type": "code",
      "execution_count": 125,
      "metadata": {},
      "outputs": [
        {
          "name": "stdout",
          "output_type": "stream",
          "text": [
            "[new_branch2 564ccfb] Commit con el archivo 8\n",
            " 1 file changed, 0 insertions(+), 0 deletions(-)\n",
            " create mode 100644 archivo8.py\n"
          ]
        }
      ],
      "source": [
        "!cd notebook_git && touch archivo8.py && git add archivo8.py && git commit -m \"Commit con el archivo 8\""
      ]
    },
    {
      "attachments": {},
      "cell_type": "markdown",
      "metadata": {},
      "source": [
        "Fizemos dois commits novos nesta branch, vamos ver com `git log`"
      ]
    },
    {
      "cell_type": "code",
      "execution_count": 126,
      "metadata": {},
      "outputs": [
        {
          "name": "stdout",
          "output_type": "stream",
          "text": [
            "* \u001b[33m564ccfb\u001b[m\u001b[33m (\u001b[m\u001b[1;36mHEAD -> \u001b[m\u001b[1;32mnew_branch2\u001b[m\u001b[33m)\u001b[m Commit con el archivo 8\n",
            "* \u001b[33m5168f78\u001b[m Eliminado archivo7.py\n",
            "* \u001b[33m4bb9d75\u001b[m\u001b[33m (\u001b[m\u001b[1;32mnew_branch\u001b[m\u001b[33m, \u001b[m\u001b[1;32mmain\u001b[m\u001b[33m)\u001b[m Commit con el archivo 7\n",
            "* \u001b[33mea615a9\u001b[m Eliminado archivo5.py\n",
            "* \u001b[33me3153a5\u001b[m Commit con los archivos 4 y 5\n",
            "* \u001b[33m0b09cfa\u001b[m A\u00f1adido .gitignore\n",
            "* \u001b[33m04ebd1f\u001b[m Commit con los archivos 1 y 2\n",
            "* \u001b[33mc4930d7\u001b[m Tercer commit, hola.py\n",
            "* \u001b[33m6e99e73\u001b[m Segundo commit, hola.py\n",
            "* \u001b[33m1c95e4f\u001b[m Primer commit, hola.py\n"
          ]
        }
      ],
      "source": [
        "!cd notebook_git && git log --graph --oneline --decorate"
      ]
    },
    {
      "attachments": {},
      "cell_type": "markdown",
      "metadata": {},
      "source": [
        "Mudamos para a branch principal"
      ]
    },
    {
      "cell_type": "code",
      "execution_count": 127,
      "metadata": {},
      "outputs": [
        {
          "name": "stdout",
          "output_type": "stream",
          "text": [
            "Cambiado a rama 'main'\n"
          ]
        }
      ],
      "source": [
        "!cd notebook_git && git switch main"
      ]
    },
    {
      "attachments": {},
      "cell_type": "markdown",
      "metadata": {},
      "source": [
        "Se agora fizermos de novo `ls` veremos que `arquivo7.py` sim est\u00e1"
      ]
    },
    {
      "cell_type": "code",
      "execution_count": 128,
      "metadata": {},
      "outputs": [
        {
          "name": "stdout",
          "output_type": "stream",
          "text": [
            "archivo7.py\n"
          ]
        }
      ],
      "source": [
        "!cd notebook_git && ls | grep archivo7"
      ]
    },
    {
      "attachments": {},
      "cell_type": "markdown",
      "metadata": {},
      "source": [
        "Fusamos as branches, trazendo as mudan\u00e7as de `new_branch2` para `main`"
      ]
    },
    {
      "cell_type": "code",
      "execution_count": 129,
      "metadata": {},
      "outputs": [
        {
          "name": "stdout",
          "output_type": "stream",
          "text": [
            "Actualizando 4bb9d75..564ccfb\n",
            "Fast-forward\n",
            " archivo7.py | 1 \u001b[31m-\u001b[m\n",
            " archivo8.py | 0\n",
            " 2 files changed, 1 deletion(-)\n",
            " delete mode 100644 archivo7.py\n",
            " create mode 100644 archivo8.py\n"
          ]
        }
      ],
      "source": [
        "!cd notebook_git && git merge new_branch2"
      ]
    },
    {
      "attachments": {},
      "cell_type": "markdown",
      "metadata": {},
      "source": [
        "Fazemos um `git status`"
      ]
    },
    {
      "cell_type": "code",
      "execution_count": 130,
      "metadata": {},
      "outputs": [
        {
          "name": "stdout",
          "output_type": "stream",
          "text": [
            "En la rama main\n",
            "nada para hacer commit, el \u00e1rbol de trabajo est\u00e1 limpio\n"
          ]
        }
      ],
      "source": [
        "!cd notebook_git && git status"
      ]
    },
    {
      "attachments": {},
      "cell_type": "markdown",
      "metadata": {},
      "source": [
        "Vemos que ao fazer o merge n\u00e3o \u00e9 necess\u00e1rio fazer nenhum commit, vejamos com um `git log` o que aconteceu."
      ]
    },
    {
      "cell_type": "code",
      "execution_count": 131,
      "metadata": {},
      "outputs": [
        {
          "name": "stdout",
          "output_type": "stream",
          "text": [
            "* \u001b[33m564ccfb\u001b[m\u001b[33m (\u001b[m\u001b[1;36mHEAD -> \u001b[m\u001b[1;32mmain\u001b[m\u001b[33m, \u001b[m\u001b[1;32mnew_branch2\u001b[m\u001b[33m)\u001b[m Commit con el archivo 8\n",
            "* \u001b[33m5168f78\u001b[m Eliminado archivo7.py\n",
            "* \u001b[33m4bb9d75\u001b[m\u001b[33m (\u001b[m\u001b[1;32mnew_branch\u001b[m\u001b[33m)\u001b[m Commit con el archivo 7\n",
            "* \u001b[33mea615a9\u001b[m Eliminado archivo5.py\n",
            "* \u001b[33me3153a5\u001b[m Commit con los archivos 4 y 5\n",
            "* \u001b[33m0b09cfa\u001b[m A\u00f1adido .gitignore\n",
            "* \u001b[33m04ebd1f\u001b[m Commit con los archivos 1 y 2\n",
            "* \u001b[33mc4930d7\u001b[m Tercer commit, hola.py\n",
            "* \u001b[33m6e99e73\u001b[m Segundo commit, hola.py\n",
            "* \u001b[33m1c95e4f\u001b[m Primer commit, hola.py\n"
          ]
        }
      ],
      "source": [
        "!cd notebook_git && git log --graph --oneline --decorate"
      ]
    },
    {
      "attachments": {},
      "cell_type": "markdown",
      "metadata": {},
      "source": [
        "Vemos que o commit da branch `new_branch2` foi incorporado a esta branch"
      ]
    },
    {
      "attachments": {},
      "cell_type": "markdown",
      "metadata": {},
      "source": [
        "#### Avan\u00e7o r\u00e1pido"
      ]
    },
    {
      "attachments": {},
      "cell_type": "markdown",
      "metadata": {},
      "source": [
        "Neste caso criamos uma nova branch, a principal n\u00e3o \u00e9 afetada e apenas modificamos a nova, realizando v\u00e1rios commits. Portanto, ao unir a nova na principal, todos os commits feitos na nova ser\u00e3o vis\u00edveis. Para realizar este tipo de merge, escrevemos `git merge --ff-only <branch>`"
      ]
    },
    {
      "cell_type": "code",
      "execution_count": 132,
      "metadata": {},
      "outputs": [
        {
          "data": {
            "image/svg+xml": [
              "<?xml version=\"1.0\" encoding=\"UTF-8\" standalone=\"no\"?>\n",
              "<!DOCTYPE svg PUBLIC \"-//W3C//DTD SVG 1.1//EN\"\n",
              " \"http://www.w3.org/Graphics/SVG/1.1/DTD/svg11.dtd\">\n",
              "<!-- Generated by graphviz version 2.43.0 (0)\n",
              " -->\n",
              "<!-- Title: G Pages: 1 -->\n",
              "<svg width=\"404pt\" height=\"98pt\"\n",
              " viewBox=\"0.00 0.00 404.40 98.00\" xmlns=\"http://www.w3.org/2000/svg\" xmlns:xlink=\"http://www.w3.org/1999/xlink\">\n",
              "<g id=\"graph0\" class=\"graph\" transform=\"scale(1 1) rotate(0) translate(4 94)\">\n",
              "<title>G</title>\n",
              "<polygon fill=\"white\" stroke=\"transparent\" points=\"-4,4 -4,-94 400.4,-94 400.4,4 -4,4\"/>\n",
              "<!-- A -->\n",
              "<g id=\"node1\" class=\"node\">\n",
              "<title>A</title>\n",
              "<ellipse fill=\"none\" stroke=\"blue\" cx=\"18\" cy=\"-45\" rx=\"18\" ry=\"18\"/>\n",
              "<text text-anchor=\"middle\" x=\"18\" y=\"-41.3\" font-family=\"Times,serif\" font-size=\"14.00\">A</text>\n",
              "</g>\n",
              "<!-- B -->\n",
              "<g id=\"node2\" class=\"node\">\n",
              "<title>B</title>\n",
              "<ellipse fill=\"none\" stroke=\"blue\" cx=\"90\" cy=\"-45\" rx=\"18\" ry=\"18\"/>\n",
              "<text text-anchor=\"middle\" x=\"90\" y=\"-41.3\" font-family=\"Times,serif\" font-size=\"14.00\">B</text>\n",
              "</g>\n",
              "<!-- A&#45;&gt;B -->\n",
              "<g id=\"edge1\" class=\"edge\">\n",
              "<title>A&#45;&gt;B</title>\n",
              "<path fill=\"none\" stroke=\"black\" d=\"M36.3,-45C44.02,-45 53.29,-45 61.89,-45\"/>\n",
              "<polygon fill=\"black\" stroke=\"black\" points=\"61.9,-48.5 71.9,-45 61.9,-41.5 61.9,-48.5\"/>\n",
              "</g>\n",
              "<!-- C -->\n",
              "<g id=\"node3\" class=\"node\">\n",
              "<title>C</title>\n",
              "<ellipse fill=\"none\" stroke=\"blue\" cx=\"162\" cy=\"-45\" rx=\"18\" ry=\"18\"/>\n",
              "<text text-anchor=\"middle\" x=\"162\" y=\"-41.3\" font-family=\"Times,serif\" font-size=\"14.00\">C</text>\n",
              "</g>\n",
              "<!-- B&#45;&gt;C -->\n",
              "<g id=\"edge2\" class=\"edge\">\n",
              "<title>B&#45;&gt;C</title>\n",
              "<path fill=\"none\" stroke=\"black\" d=\"M108.3,-45C116.02,-45 125.29,-45 133.89,-45\"/>\n",
              "<polygon fill=\"black\" stroke=\"black\" points=\"133.9,-48.5 143.9,-45 133.9,-41.5 133.9,-48.5\"/>\n",
              "</g>\n",
              "<!-- D -->\n",
              "<g id=\"node4\" class=\"node\">\n",
              "<title>D</title>\n",
              "<ellipse fill=\"none\" stroke=\"blue\" cx=\"234.2\" cy=\"-45\" rx=\"18.4\" ry=\"18.4\"/>\n",
              "<text text-anchor=\"middle\" x=\"234.2\" y=\"-41.3\" font-family=\"Times,serif\" font-size=\"14.00\">D</text>\n",
              "</g>\n",
              "<!-- C&#45;&gt;D -->\n",
              "<g id=\"edge3\" class=\"edge\">\n",
              "<title>C&#45;&gt;D</title>\n",
              "<path fill=\"none\" stroke=\"black\" d=\"M180.35,-45C187.89,-45 196.91,-45 205.34,-45\"/>\n",
              "<polygon fill=\"black\" stroke=\"black\" points=\"205.56,-48.5 215.56,-45 205.56,-41.5 205.56,-48.5\"/>\n",
              "</g>\n",
              "<!-- E -->\n",
              "<g id=\"node5\" class=\"node\">\n",
              "<title>E</title>\n",
              "<ellipse fill=\"none\" stroke=\"transparent\" cx=\"306.4\" cy=\"-72\" rx=\"18\" ry=\"18\"/>\n",
              "</g>\n",
              "<!-- D&#45;&gt;E -->\n",
              "<g id=\"edge4\" class=\"edge\">\n",
              "<title>D&#45;&gt;E</title>\n",
              "<path fill=\"none\" stroke=\"transparent\" d=\"M251.48,-51.26C259.9,-54.5 270.36,-58.53 279.83,-62.17\"/>\n",
              "<polygon fill=\"transparent\" stroke=\"transparent\" points=\"278.61,-65.45 289.2,-65.77 281.13,-58.92 278.61,-65.45\"/>\n",
              "</g>\n",
              "<!-- X -->\n",
              "<g id=\"node6\" class=\"node\">\n",
              "<title>X</title>\n",
              "<ellipse fill=\"none\" stroke=\"green\" cx=\"306.4\" cy=\"-18\" rx=\"18\" ry=\"18\"/>\n",
              "<text text-anchor=\"middle\" x=\"306.4\" y=\"-14.3\" font-family=\"Times,serif\" font-size=\"14.00\">X</text>\n",
              "</g>\n",
              "<!-- D&#45;&gt;X -->\n",
              "<g id=\"edge5\" class=\"edge\">\n",
              "<title>D&#45;&gt;X</title>\n",
              "<path fill=\"none\" stroke=\"black\" d=\"M251.48,-38.74C259.9,-35.5 270.36,-31.47 279.83,-27.83\"/>\n",
              "<polygon fill=\"black\" stroke=\"black\" points=\"281.13,-31.08 289.2,-24.23 278.61,-24.55 281.13,-31.08\"/>\n",
              "</g>\n",
              "<!-- Y -->\n",
              "<g id=\"node7\" class=\"node\">\n",
              "<title>Y</title>\n",
              "<ellipse fill=\"none\" stroke=\"green\" cx=\"378.4\" cy=\"-18\" rx=\"18\" ry=\"18\"/>\n",
              "<text text-anchor=\"middle\" x=\"378.4\" y=\"-14.3\" font-family=\"Times,serif\" font-size=\"14.00\">Y</text>\n",
              "</g>\n",
              "<!-- X&#45;&gt;Y -->\n",
              "<g id=\"edge6\" class=\"edge\">\n",
              "<title>X&#45;&gt;Y</title>\n",
              "<path fill=\"none\" stroke=\"black\" d=\"M324.7,-18C332.41,-18 341.68,-18 350.28,-18\"/>\n",
              "<polygon fill=\"black\" stroke=\"black\" points=\"350.29,-21.5 360.29,-18 350.29,-14.5 350.29,-21.5\"/>\n",
              "</g>\n",
              "</g>\n",
              "</svg>\n"
            ],
            "text/plain": [
              "<graphviz.graphs.Digraph at 0x7f58f80c09a0>"
            ]
          },
          "metadata": {},
          "output_type": "display_data"
        },
        {
          "data": {
            "image/svg+xml": [
              "<?xml version=\"1.0\" encoding=\"UTF-8\" standalone=\"no\"?>\n",
              "<!DOCTYPE svg PUBLIC \"-//W3C//DTD SVG 1.1//EN\"\n",
              " \"http://www.w3.org/Graphics/SVG/1.1/DTD/svg11.dtd\">\n",
              "<!-- Generated by graphviz version 2.43.0 (0)\n",
              " -->\n",
              "<!-- Title: G Pages: 1 -->\n",
              "<svg width=\"404pt\" height=\"44pt\"\n",
              " viewBox=\"0.00 0.00 404.40 44.40\" xmlns=\"http://www.w3.org/2000/svg\" xmlns:xlink=\"http://www.w3.org/1999/xlink\">\n",
              "<g id=\"graph0\" class=\"graph\" transform=\"scale(1 1) rotate(0) translate(4 40.4)\">\n",
              "<title>G</title>\n",
              "<polygon fill=\"white\" stroke=\"transparent\" points=\"-4,4 -4,-40.4 400.4,-40.4 400.4,4 -4,4\"/>\n",
              "<!-- A -->\n",
              "<g id=\"node1\" class=\"node\">\n",
              "<title>A</title>\n",
              "<ellipse fill=\"none\" stroke=\"blue\" cx=\"18\" cy=\"-18.2\" rx=\"18\" ry=\"18\"/>\n",
              "<text text-anchor=\"middle\" x=\"18\" y=\"-14.5\" font-family=\"Times,serif\" font-size=\"14.00\">A</text>\n",
              "</g>\n",
              "<!-- B -->\n",
              "<g id=\"node2\" class=\"node\">\n",
              "<title>B</title>\n",
              "<ellipse fill=\"none\" stroke=\"blue\" cx=\"90\" cy=\"-18.2\" rx=\"18\" ry=\"18\"/>\n",
              "<text text-anchor=\"middle\" x=\"90\" y=\"-14.5\" font-family=\"Times,serif\" font-size=\"14.00\">B</text>\n",
              "</g>\n",
              "<!-- A&#45;&gt;B -->\n",
              "<g id=\"edge1\" class=\"edge\">\n",
              "<title>A&#45;&gt;B</title>\n",
              "<path fill=\"none\" stroke=\"black\" d=\"M36.3,-18.2C44.02,-18.2 53.29,-18.2 61.89,-18.2\"/>\n",
              "<polygon fill=\"black\" stroke=\"black\" points=\"61.9,-21.7 71.9,-18.2 61.9,-14.7 61.9,-21.7\"/>\n",
              "</g>\n",
              "<!-- C -->\n",
              "<g id=\"node3\" class=\"node\">\n",
              "<title>C</title>\n",
              "<ellipse fill=\"none\" stroke=\"blue\" cx=\"162\" cy=\"-18.2\" rx=\"18\" ry=\"18\"/>\n",
              "<text text-anchor=\"middle\" x=\"162\" y=\"-14.5\" font-family=\"Times,serif\" font-size=\"14.00\">C</text>\n",
              "</g>\n",
              "<!-- B&#45;&gt;C -->\n",
              "<g id=\"edge2\" class=\"edge\">\n",
              "<title>B&#45;&gt;C</title>\n",
              "<path fill=\"none\" stroke=\"black\" d=\"M108.3,-18.2C116.02,-18.2 125.29,-18.2 133.89,-18.2\"/>\n",
              "<polygon fill=\"black\" stroke=\"black\" points=\"133.9,-21.7 143.9,-18.2 133.9,-14.7 133.9,-21.7\"/>\n",
              "</g>\n",
              "<!-- D -->\n",
              "<g id=\"node4\" class=\"node\">\n",
              "<title>D</title>\n",
              "<ellipse fill=\"none\" stroke=\"blue\" cx=\"234.2\" cy=\"-18.2\" rx=\"18.4\" ry=\"18.4\"/>\n",
              "<text text-anchor=\"middle\" x=\"234.2\" y=\"-14.5\" font-family=\"Times,serif\" font-size=\"14.00\">D</text>\n",
              "</g>\n",
              "<!-- C&#45;&gt;D -->\n",
              "<g id=\"edge3\" class=\"edge\">\n",
              "<title>C&#45;&gt;D</title>\n",
              "<path fill=\"none\" stroke=\"black\" d=\"M180.35,-18.2C187.89,-18.2 196.91,-18.2 205.34,-18.2\"/>\n",
              "<polygon fill=\"black\" stroke=\"black\" points=\"205.56,-21.7 215.56,-18.2 205.56,-14.7 205.56,-21.7\"/>\n",
              "</g>\n",
              "<!-- X -->\n",
              "<g id=\"node5\" class=\"node\">\n",
              "<title>X</title>\n",
              "<ellipse fill=\"none\" stroke=\"magenta\" cx=\"306.4\" cy=\"-18.2\" rx=\"18\" ry=\"18\"/>\n",
              "<text text-anchor=\"middle\" x=\"306.4\" y=\"-14.5\" font-family=\"Times,serif\" font-size=\"14.00\">X</text>\n",
              "</g>\n",
              "<!-- D&#45;&gt;X -->\n",
              "<g id=\"edge4\" class=\"edge\">\n",
              "<title>D&#45;&gt;X</title>\n",
              "<path fill=\"none\" stroke=\"black\" d=\"M252.55,-18.2C260.29,-18.2 269.58,-18.2 278.21,-18.2\"/>\n",
              "<polygon fill=\"black\" stroke=\"black\" points=\"278.24,-21.7 288.24,-18.2 278.24,-14.7 278.24,-21.7\"/>\n",
              "</g>\n",
              "<!-- Y -->\n",
              "<g id=\"node6\" class=\"node\">\n",
              "<title>Y</title>\n",
              "<ellipse fill=\"none\" stroke=\"magenta\" cx=\"378.4\" cy=\"-18.2\" rx=\"18\" ry=\"18\"/>\n",
              "<text text-anchor=\"middle\" x=\"378.4\" y=\"-14.5\" font-family=\"Times,serif\" font-size=\"14.00\">Y</text>\n",
              "</g>\n",
              "<!-- X&#45;&gt;Y -->\n",
              "<g id=\"edge5\" class=\"edge\">\n",
              "<title>X&#45;&gt;Y</title>\n",
              "<path fill=\"none\" stroke=\"black\" d=\"M324.7,-18.2C332.41,-18.2 341.68,-18.2 350.28,-18.2\"/>\n",
              "<polygon fill=\"black\" stroke=\"black\" points=\"350.29,-21.7 360.29,-18.2 350.29,-14.7 350.29,-21.7\"/>\n",
              "</g>\n",
              "</g>\n",
              "</svg>\n"
            ],
            "text/plain": [
              "<graphviz.graphs.Digraph at 0x7f58f9203fa0>"
            ]
          },
          "metadata": {},
          "output_type": "display_data"
        }
      ],
      "source": [
        "### Este c\u00f3digo es para crear el gr\u00e1fico de las ramas, no es necesario para el curso\n",
        "\n",
        "import graphviz\n",
        "\n",
        "# Crear el gr\u00e1fico con la direcci\u00f3n de las flechas de izquierda a derecha\n",
        "orin = graphviz.Digraph('G', graph_attr={'rankdir': 'LR'})\n",
        "fast_foward = graphviz.Digraph('G', graph_attr={'rankdir': 'LR'})\n",
        "\n",
        "# Agregar nodos (pelotas) A, B, C y D en la rama principal\n",
        "orin.node('A', shape='circle', label='A', color='blue')\n",
        "orin.node('B', shape='circle', label='B', color='blue')\n",
        "orin.node('C', shape='circle', label='C', color='blue')\n",
        "orin.node('D', shape='circle', label='D', color='blue')\n",
        "orin.node('E', shape='circle', label='', color='transparent')\n",
        "fast_foward.node('A', shape='circle', label='A', color='blue')\n",
        "fast_foward.node('B', shape='circle', label='B', color='blue')\n",
        "fast_foward.node('C', shape='circle', label='C', color='blue')\n",
        "fast_foward.node('D', shape='circle', label='D', color='blue')\n",
        "\n",
        "# Agregar nodos (pelotas) X e Y en la rama secundaria\n",
        "orin.node('X', shape='circle', label='X', color='green')\n",
        "orin.node('Y', shape='circle', label='Y', color='green')\n",
        "fast_foward.node('X', shape='circle', label='X', color='magenta')\n",
        "fast_foward.node('Y', shape='circle', label='Y', color='magenta')\n",
        "\n",
        "# Agregar flechas entre los nodos en la rama principal\n",
        "orin.edges(['AB', 'BC', 'CD'])\n",
        "orin.edge('D', 'E', color='transparent')  # Hacer la flecha de C a D transparente\n",
        "fast_foward.edges(['AB', 'BC', 'CD', 'DX', 'XY'])\n",
        "\n",
        "# Agregar flechas entre los nodos en la rama secundaria\n",
        "orin.edges(['DX', 'XY'])\n",
        "\n",
        "# Mostrar el diagrama de flujo en la celda de c\u00f3digo de Jupyter Notebook\n",
        "display(orin)\n",
        "display(fast_foward)"
      ]
    },
    {
      "attachments": {},
      "cell_type": "markdown",
      "metadata": {},
      "source": [
        "Vamos primeiro a verificar que estamos na branch principal"
      ]
    },
    {
      "cell_type": "code",
      "execution_count": 133,
      "metadata": {},
      "outputs": [
        {
          "name": "stdout",
          "output_type": "stream",
          "text": [
            "main\n"
          ]
        }
      ],
      "source": [
        "!cd notebook_git && git branch --show-current"
      ]
    },
    {
      "attachments": {},
      "cell_type": "markdown",
      "metadata": {},
      "source": [
        "Criamos uma nova branch"
      ]
    },
    {
      "cell_type": "code",
      "execution_count": 134,
      "metadata": {},
      "outputs": [],
      "source": [
        "!cd notebook_git && git branch branch_fast_forward"
      ]
    },
    {
      "attachments": {},
      "cell_type": "markdown",
      "metadata": {},
      "source": [
        "Mudamos para ela"
      ]
    },
    {
      "cell_type": "code",
      "execution_count": 135,
      "metadata": {},
      "outputs": [
        {
          "name": "stdout",
          "output_type": "stream",
          "text": [
            "Cambiado a rama 'branch_fast_forward'\n"
          ]
        }
      ],
      "source": [
        "!cd notebook_git && git switch branch_fast_forward"
      ]
    },
    {
      "cell_type": "code",
      "execution_count": 136,
      "metadata": {},
      "outputs": [
        {
          "name": "stdout",
          "output_type": "stream",
          "text": [
            "branch_fast_forward\n"
          ]
        }
      ],
      "source": [
        "!cd notebook_git && git branch --show-current"
      ]
    },
    {
      "attachments": {},
      "cell_type": "markdown",
      "metadata": {},
      "source": [
        "Vamos ver o log"
      ]
    },
    {
      "cell_type": "code",
      "execution_count": 137,
      "metadata": {},
      "outputs": [
        {
          "name": "stdout",
          "output_type": "stream",
          "text": [
            "* \u001b[33m564ccfb\u001b[m\u001b[33m (\u001b[m\u001b[1;36mHEAD -> \u001b[m\u001b[1;32mbranch_fast_forward\u001b[m\u001b[33m, \u001b[m\u001b[1;32mnew_branch2\u001b[m\u001b[33m, \u001b[m\u001b[1;32mmain\u001b[m\u001b[33m)\u001b[m Commit con el archivo 8\n",
            "* \u001b[33m5168f78\u001b[m Eliminado archivo7.py\n",
            "* \u001b[33m4bb9d75\u001b[m\u001b[33m (\u001b[m\u001b[1;32mnew_branch\u001b[m\u001b[33m)\u001b[m Commit con el archivo 7\n",
            "* \u001b[33mea615a9\u001b[m Eliminado archivo5.py\n",
            "* \u001b[33me3153a5\u001b[m Commit con los archivos 4 y 5\n",
            "* \u001b[33m0b09cfa\u001b[m A\u00f1adido .gitignore\n",
            "* \u001b[33m04ebd1f\u001b[m Commit con los archivos 1 y 2\n",
            "* \u001b[33mc4930d7\u001b[m Tercer commit, hola.py\n",
            "* \u001b[33m6e99e73\u001b[m Segundo commit, hola.py\n",
            "* \u001b[33m1c95e4f\u001b[m Primer commit, hola.py\n"
          ]
        }
      ],
      "source": [
        "!cd notebook_git && git log --graph --oneline --decorate --all"
      ]
    },
    {
      "attachments": {},
      "cell_type": "markdown",
      "metadata": {},
      "source": [
        "Ok, estamos em um branch criado a partir do principal com todo o seu hist\u00f3rico de logs, fazemos dois novos commits"
      ]
    },
    {
      "cell_type": "code",
      "execution_count": 138,
      "metadata": {},
      "outputs": [
        {
          "name": "stdout",
          "output_type": "stream",
          "text": [
            "rm 'archivo4.py'\n",
            "[branch_fast_forward 4484e70] Eliminado archivo4.py\n",
            " 1 file changed, 1 deletion(-)\n",
            " delete mode 100644 archivo4.py\n"
          ]
        }
      ],
      "source": [
        "!cd notebook_git && git rm archivo4.py && git commit -am \"Eliminado archivo4.py\""
      ]
    },
    {
      "cell_type": "code",
      "execution_count": 139,
      "metadata": {},
      "outputs": [
        {
          "name": "stdout",
          "output_type": "stream",
          "text": [
            "rm 'hola.py'\n",
            "[branch_fast_forward 94149fc] Eliminado hola.py\n",
            " 1 file changed, 3 deletions(-)\n",
            " delete mode 100644 hola.py\n"
          ]
        }
      ],
      "source": [
        "!cd notebook_git && git rm hola.py && git commit -am \"Eliminado hola.py\""
      ]
    },
    {
      "attachments": {},
      "cell_type": "markdown",
      "metadata": {},
      "source": [
        "Fazemos um novo log para ver o que foi criado nesta nova branch."
      ]
    },
    {
      "cell_type": "code",
      "execution_count": 140,
      "metadata": {},
      "outputs": [
        {
          "name": "stdout",
          "output_type": "stream",
          "text": [
            "* \u001b[33m94149fc\u001b[m\u001b[33m (\u001b[m\u001b[1;36mHEAD -> \u001b[m\u001b[1;32mbranch_fast_forward\u001b[m\u001b[33m)\u001b[m Eliminado hola.py\n",
            "* \u001b[33m4484e70\u001b[m Eliminado archivo4.py\n",
            "* \u001b[33m564ccfb\u001b[m\u001b[33m (\u001b[m\u001b[1;32mnew_branch2\u001b[m\u001b[33m, \u001b[m\u001b[1;32mmain\u001b[m\u001b[33m)\u001b[m Commit con el archivo 8\n",
            "* \u001b[33m5168f78\u001b[m Eliminado archivo7.py\n",
            "* \u001b[33m4bb9d75\u001b[m\u001b[33m (\u001b[m\u001b[1;32mnew_branch\u001b[m\u001b[33m)\u001b[m Commit con el archivo 7\n",
            "* \u001b[33mea615a9\u001b[m Eliminado archivo5.py\n",
            "* \u001b[33me3153a5\u001b[m Commit con los archivos 4 y 5\n",
            "* \u001b[33m0b09cfa\u001b[m A\u00f1adido .gitignore\n",
            "* \u001b[33m04ebd1f\u001b[m Commit con los archivos 1 y 2\n",
            "* \u001b[33mc4930d7\u001b[m Tercer commit, hola.py\n",
            "* \u001b[33m6e99e73\u001b[m Segundo commit, hola.py\n",
            "* \u001b[33m1c95e4f\u001b[m Primer commit, hola.py\n"
          ]
        }
      ],
      "source": [
        "!cd notebook_git && git log --graph --oneline --decorate"
      ]
    },
    {
      "attachments": {},
      "cell_type": "markdown",
      "metadata": {},
      "source": [
        "Como\u6211\u4eec\u53ef\u4ee5\u770b\u5230\uff0c\u6700\u540e\u4e24\u4e2a\u63d0\u4ea4\u662f\u6211\u4eec\u521b\u5efa\u7684\uff0c\u6211\u4eec\u53ef\u4ee5\u68c0\u67e5\u8fd9\u4e9b\u63d0\u4ea4\u4e0d\u5728\u4e3b\u5206\u652f\u4e0a\uff08\u4e3a\u6b64\u6211\u6307\u5b9a\u8981\u5728 `main` \u5206\u652f\u4e0a\u8fdb\u884c\u64cd\u4f5c\uff09  \n\nNote: The provided translation is in Chinese instead of Portuguese. Here is the correct Portuguese translation:\n\nComo podemos ver, os dois \u00faltimos commits s\u00e3o aqueles que criamos e podemos verificar que esses commits n\u00e3o est\u00e3o na branch principal (para isso especifico que seja feito sobre a branch `main`)"
      ]
    },
    {
      "cell_type": "code",
      "execution_count": 141,
      "metadata": {},
      "outputs": [
        {
          "name": "stdout",
          "output_type": "stream",
          "text": [
            "* \u001b[33m564ccfb\u001b[m\u001b[33m (\u001b[m\u001b[1;32mnew_branch2\u001b[m\u001b[33m, \u001b[m\u001b[1;32mmain\u001b[m\u001b[33m)\u001b[m Commit con el archivo 8\n",
            "* \u001b[33m5168f78\u001b[m Eliminado archivo7.py\n",
            "* \u001b[33m4bb9d75\u001b[m\u001b[33m (\u001b[m\u001b[1;32mnew_branch\u001b[m\u001b[33m)\u001b[m Commit con el archivo 7\n",
            "* \u001b[33mea615a9\u001b[m Eliminado archivo5.py\n",
            "* \u001b[33me3153a5\u001b[m Commit con los archivos 4 y 5\n",
            "* \u001b[33m0b09cfa\u001b[m A\u00f1adido .gitignore\n",
            "* \u001b[33m04ebd1f\u001b[m Commit con los archivos 1 y 2\n",
            "* \u001b[33mc4930d7\u001b[m Tercer commit, hola.py\n",
            "* \u001b[33m6e99e73\u001b[m Segundo commit, hola.py\n",
            "* \u001b[33m1c95e4f\u001b[m Primer commit, hola.py\n"
          ]
        }
      ],
      "source": [
        "!cd notebook_git && git log main --graph --oneline --decorate"
      ]
    },
    {
      "attachments": {},
      "cell_type": "markdown",
      "metadata": {},
      "source": [
        "Agora vamos para a branch `main` fazer o merge."
      ]
    },
    {
      "cell_type": "code",
      "execution_count": 142,
      "metadata": {},
      "outputs": [
        {
          "name": "stdout",
          "output_type": "stream",
          "text": [
            "Cambiado a rama 'main'\n"
          ]
        }
      ],
      "source": [
        "!cd notebook_git && git switch main"
      ]
    },
    {
      "attachments": {},
      "cell_type": "markdown",
      "metadata": {},
      "source": [
        "Por \u00faltimo, fazemos o merge do tipo fast forward"
      ]
    },
    {
      "cell_type": "code",
      "execution_count": 143,
      "metadata": {},
      "outputs": [
        {
          "name": "stdout",
          "output_type": "stream",
          "text": [
            "Actualizando 564ccfb..94149fc\n",
            "Fast-forward\n",
            " archivo4.py | 1 \u001b[31m-\u001b[m\n",
            " hola.py     | 3 \u001b[31m---\u001b[m\n",
            " 2 files changed, 4 deletions(-)\n",
            " delete mode 100644 archivo4.py\n",
            " delete mode 100644 hola.py\n"
          ]
        }
      ],
      "source": [
        "!cd notebook_git && git merge --ff-only branch_fast_forward"
      ]
    },
    {
      "attachments": {},
      "cell_type": "markdown",
      "metadata": {},
      "source": [
        "O merge foi feito, vamos ver o que aconteceu com o log na branch `main`"
      ]
    },
    {
      "cell_type": "code",
      "execution_count": 144,
      "metadata": {},
      "outputs": [
        {
          "name": "stdout",
          "output_type": "stream",
          "text": [
            "* \u001b[33m94149fc\u001b[m\u001b[33m (\u001b[m\u001b[1;36mHEAD -> \u001b[m\u001b[1;32mmain\u001b[m\u001b[33m, \u001b[m\u001b[1;32mbranch_fast_forward\u001b[m\u001b[33m)\u001b[m Eliminado hola.py\n",
            "* \u001b[33m4484e70\u001b[m Eliminado archivo4.py\n",
            "* \u001b[33m564ccfb\u001b[m\u001b[33m (\u001b[m\u001b[1;32mnew_branch2\u001b[m\u001b[33m)\u001b[m Commit con el archivo 8\n",
            "* \u001b[33m5168f78\u001b[m Eliminado archivo7.py\n",
            "* \u001b[33m4bb9d75\u001b[m\u001b[33m (\u001b[m\u001b[1;32mnew_branch\u001b[m\u001b[33m)\u001b[m Commit con el archivo 7\n",
            "* \u001b[33mea615a9\u001b[m Eliminado archivo5.py\n",
            "* \u001b[33me3153a5\u001b[m Commit con los archivos 4 y 5\n",
            "* \u001b[33m0b09cfa\u001b[m A\u00f1adido .gitignore\n",
            "* \u001b[33m04ebd1f\u001b[m Commit con los archivos 1 y 2\n",
            "* \u001b[33mc4930d7\u001b[m Tercer commit, hola.py\n",
            "* \u001b[33m6e99e73\u001b[m Segundo commit, hola.py\n",
            "* \u001b[33m1c95e4f\u001b[m Primer commit, hola.py\n"
          ]
        }
      ],
      "source": [
        "!cd notebook_git && git log --graph --oneline --decorate"
      ]
    },
    {
      "attachments": {},
      "cell_type": "markdown",
      "metadata": {},
      "source": [
        "Como se v\u00ea, foram mantidos os dois commits realizados na branch `branch_fast_forward`"
      ]
    },
    {
      "attachments": {},
      "cell_type": "markdown",
      "metadata": {},
      "source": [
        "#### Sem avan\u00e7o r\u00e1pido ou mesclagem verdadeira"
      ]
    },
    {
      "attachments": {},
      "cell_type": "markdown",
      "metadata": {},
      "source": [
        "Neste caso, criamos uma nova branch, a principal n\u00e3o foi tocada e modificamos a nova, realizando v\u00e1rios commits. Em seguida, realizamos um commit na principal. Portanto, ao unir a nova na principal, ser\u00e1 visto um \u00fanico commit na nova. Para fazer este tipo de merge, escrevemos `git merge <branch> --no-ff`"
      ]
    },
    {
      "cell_type": "code",
      "execution_count": 145,
      "metadata": {},
      "outputs": [
        {
          "data": {
            "image/svg+xml": [
              "<?xml version=\"1.0\" encoding=\"UTF-8\" standalone=\"no\"?>\n",
              "<!DOCTYPE svg PUBLIC \"-//W3C//DTD SVG 1.1//EN\"\n",
              " \"http://www.w3.org/Graphics/SVG/1.1/DTD/svg11.dtd\">\n",
              "<!-- Generated by graphviz version 2.43.0 (0)\n",
              " -->\n",
              "<!-- Title: G Pages: 1 -->\n",
              "<svg width=\"404pt\" height=\"98pt\"\n",
              " viewBox=\"0.00 0.00 404.40 98.00\" xmlns=\"http://www.w3.org/2000/svg\" xmlns:xlink=\"http://www.w3.org/1999/xlink\">\n",
              "<g id=\"graph0\" class=\"graph\" transform=\"scale(1 1) rotate(0) translate(4 94)\">\n",
              "<title>G</title>\n",
              "<polygon fill=\"white\" stroke=\"transparent\" points=\"-4,4 -4,-94 400.4,-94 400.4,4 -4,4\"/>\n",
              "<!-- A -->\n",
              "<g id=\"node1\" class=\"node\">\n",
              "<title>A</title>\n",
              "<ellipse fill=\"none\" stroke=\"blue\" cx=\"18\" cy=\"-45\" rx=\"18\" ry=\"18\"/>\n",
              "<text text-anchor=\"middle\" x=\"18\" y=\"-41.3\" font-family=\"Times,serif\" font-size=\"14.00\">A</text>\n",
              "</g>\n",
              "<!-- B -->\n",
              "<g id=\"node2\" class=\"node\">\n",
              "<title>B</title>\n",
              "<ellipse fill=\"none\" stroke=\"blue\" cx=\"90\" cy=\"-45\" rx=\"18\" ry=\"18\"/>\n",
              "<text text-anchor=\"middle\" x=\"90\" y=\"-41.3\" font-family=\"Times,serif\" font-size=\"14.00\">B</text>\n",
              "</g>\n",
              "<!-- A&#45;&gt;B -->\n",
              "<g id=\"edge1\" class=\"edge\">\n",
              "<title>A&#45;&gt;B</title>\n",
              "<path fill=\"none\" stroke=\"black\" d=\"M36.3,-45C44.02,-45 53.29,-45 61.89,-45\"/>\n",
              "<polygon fill=\"black\" stroke=\"black\" points=\"61.9,-48.5 71.9,-45 61.9,-41.5 61.9,-48.5\"/>\n",
              "</g>\n",
              "<!-- C -->\n",
              "<g id=\"node3\" class=\"node\">\n",
              "<title>C</title>\n",
              "<ellipse fill=\"none\" stroke=\"blue\" cx=\"162\" cy=\"-45\" rx=\"18\" ry=\"18\"/>\n",
              "<text text-anchor=\"middle\" x=\"162\" y=\"-41.3\" font-family=\"Times,serif\" font-size=\"14.00\">C</text>\n",
              "</g>\n",
              "<!-- B&#45;&gt;C -->\n",
              "<g id=\"edge2\" class=\"edge\">\n",
              "<title>B&#45;&gt;C</title>\n",
              "<path fill=\"none\" stroke=\"black\" d=\"M108.3,-45C116.02,-45 125.29,-45 133.89,-45\"/>\n",
              "<polygon fill=\"black\" stroke=\"black\" points=\"133.9,-48.5 143.9,-45 133.9,-41.5 133.9,-48.5\"/>\n",
              "</g>\n",
              "<!-- D -->\n",
              "<g id=\"node4\" class=\"node\">\n",
              "<title>D</title>\n",
              "<ellipse fill=\"none\" stroke=\"blue\" cx=\"234.2\" cy=\"-45\" rx=\"18.4\" ry=\"18.4\"/>\n",
              "<text text-anchor=\"middle\" x=\"234.2\" y=\"-41.3\" font-family=\"Times,serif\" font-size=\"14.00\">D</text>\n",
              "</g>\n",
              "<!-- C&#45;&gt;D -->\n",
              "<g id=\"edge3\" class=\"edge\">\n",
              "<title>C&#45;&gt;D</title>\n",
              "<path fill=\"none\" stroke=\"black\" d=\"M180.35,-45C187.89,-45 196.91,-45 205.34,-45\"/>\n",
              "<polygon fill=\"black\" stroke=\"black\" points=\"205.56,-48.5 215.56,-45 205.56,-41.5 205.56,-48.5\"/>\n",
              "</g>\n",
              "<!-- E -->\n",
              "<g id=\"node5\" class=\"node\">\n",
              "<title>E</title>\n",
              "<ellipse fill=\"none\" stroke=\"transparent\" cx=\"306.4\" cy=\"-72\" rx=\"18\" ry=\"18\"/>\n",
              "</g>\n",
              "<!-- D&#45;&gt;E -->\n",
              "<g id=\"edge4\" class=\"edge\">\n",
              "<title>D&#45;&gt;E</title>\n",
              "<path fill=\"none\" stroke=\"transparent\" d=\"M251.48,-51.26C259.9,-54.5 270.36,-58.53 279.83,-62.17\"/>\n",
              "<polygon fill=\"transparent\" stroke=\"transparent\" points=\"278.61,-65.45 289.2,-65.77 281.13,-58.92 278.61,-65.45\"/>\n",
              "</g>\n",
              "<!-- X -->\n",
              "<g id=\"node6\" class=\"node\">\n",
              "<title>X</title>\n",
              "<ellipse fill=\"none\" stroke=\"green\" cx=\"306.4\" cy=\"-18\" rx=\"18\" ry=\"18\"/>\n",
              "<text text-anchor=\"middle\" x=\"306.4\" y=\"-14.3\" font-family=\"Times,serif\" font-size=\"14.00\">X</text>\n",
              "</g>\n",
              "<!-- D&#45;&gt;X -->\n",
              "<g id=\"edge5\" class=\"edge\">\n",
              "<title>D&#45;&gt;X</title>\n",
              "<path fill=\"none\" stroke=\"black\" d=\"M251.48,-38.74C259.9,-35.5 270.36,-31.47 279.83,-27.83\"/>\n",
              "<polygon fill=\"black\" stroke=\"black\" points=\"281.13,-31.08 289.2,-24.23 278.61,-24.55 281.13,-31.08\"/>\n",
              "</g>\n",
              "<!-- Y -->\n",
              "<g id=\"node7\" class=\"node\">\n",
              "<title>Y</title>\n",
              "<ellipse fill=\"none\" stroke=\"green\" cx=\"378.4\" cy=\"-18\" rx=\"18\" ry=\"18\"/>\n",
              "<text text-anchor=\"middle\" x=\"378.4\" y=\"-14.3\" font-family=\"Times,serif\" font-size=\"14.00\">Y</text>\n",
              "</g>\n",
              "<!-- X&#45;&gt;Y -->\n",
              "<g id=\"edge6\" class=\"edge\">\n",
              "<title>X&#45;&gt;Y</title>\n",
              "<path fill=\"none\" stroke=\"black\" d=\"M324.7,-18C332.41,-18 341.68,-18 350.28,-18\"/>\n",
              "<polygon fill=\"black\" stroke=\"black\" points=\"350.29,-21.5 360.29,-18 350.29,-14.5 350.29,-21.5\"/>\n",
              "</g>\n",
              "</g>\n",
              "</svg>\n"
            ],
            "text/plain": [
              "<graphviz.graphs.Digraph at 0x7f58f80c2fb0>"
            ]
          },
          "metadata": {},
          "output_type": "display_data"
        },
        {
          "data": {
            "image/svg+xml": [
              "<?xml version=\"1.0\" encoding=\"UTF-8\" standalone=\"no\"?>\n",
              "<!DOCTYPE svg PUBLIC \"-//W3C//DTD SVG 1.1//EN\"\n",
              " \"http://www.w3.org/Graphics/SVG/1.1/DTD/svg11.dtd\">\n",
              "<!-- Generated by graphviz version 2.43.0 (0)\n",
              " -->\n",
              "<!-- Title: G Pages: 1 -->\n",
              "<svg width=\"481pt\" height=\"98pt\"\n",
              " viewBox=\"0.00 0.00 480.69 98.00\" xmlns=\"http://www.w3.org/2000/svg\" xmlns:xlink=\"http://www.w3.org/1999/xlink\">\n",
              "<g id=\"graph0\" class=\"graph\" transform=\"scale(1 1) rotate(0) translate(4 94)\">\n",
              "<title>G</title>\n",
              "<polygon fill=\"white\" stroke=\"transparent\" points=\"-4,4 -4,-94 476.69,-94 476.69,4 -4,4\"/>\n",
              "<!-- A -->\n",
              "<g id=\"node1\" class=\"node\">\n",
              "<title>A</title>\n",
              "<ellipse fill=\"none\" stroke=\"blue\" cx=\"18\" cy=\"-45\" rx=\"18\" ry=\"18\"/>\n",
              "<text text-anchor=\"middle\" x=\"18\" y=\"-41.3\" font-family=\"Times,serif\" font-size=\"14.00\">A</text>\n",
              "</g>\n",
              "<!-- B -->\n",
              "<g id=\"node2\" class=\"node\">\n",
              "<title>B</title>\n",
              "<ellipse fill=\"none\" stroke=\"blue\" cx=\"90\" cy=\"-45\" rx=\"18\" ry=\"18\"/>\n",
              "<text text-anchor=\"middle\" x=\"90\" y=\"-41.3\" font-family=\"Times,serif\" font-size=\"14.00\">B</text>\n",
              "</g>\n",
              "<!-- A&#45;&gt;B -->\n",
              "<g id=\"edge1\" class=\"edge\">\n",
              "<title>A&#45;&gt;B</title>\n",
              "<path fill=\"none\" stroke=\"black\" d=\"M36.3,-45C44.02,-45 53.29,-45 61.89,-45\"/>\n",
              "<polygon fill=\"black\" stroke=\"black\" points=\"61.9,-48.5 71.9,-45 61.9,-41.5 61.9,-48.5\"/>\n",
              "</g>\n",
              "<!-- C -->\n",
              "<g id=\"node3\" class=\"node\">\n",
              "<title>C</title>\n",
              "<ellipse fill=\"none\" stroke=\"blue\" cx=\"162\" cy=\"-45\" rx=\"18\" ry=\"18\"/>\n",
              "<text text-anchor=\"middle\" x=\"162\" y=\"-41.3\" font-family=\"Times,serif\" font-size=\"14.00\">C</text>\n",
              "</g>\n",
              "<!-- B&#45;&gt;C -->\n",
              "<g id=\"edge2\" class=\"edge\">\n",
              "<title>B&#45;&gt;C</title>\n",
              "<path fill=\"none\" stroke=\"black\" d=\"M108.3,-45C116.02,-45 125.29,-45 133.89,-45\"/>\n",
              "<polygon fill=\"black\" stroke=\"black\" points=\"133.9,-48.5 143.9,-45 133.9,-41.5 133.9,-48.5\"/>\n",
              "</g>\n",
              "<!-- D -->\n",
              "<g id=\"node4\" class=\"node\">\n",
              "<title>D</title>\n",
              "<ellipse fill=\"none\" stroke=\"blue\" cx=\"234.2\" cy=\"-45\" rx=\"18.4\" ry=\"18.4\"/>\n",
              "<text text-anchor=\"middle\" x=\"234.2\" y=\"-41.3\" font-family=\"Times,serif\" font-size=\"14.00\">D</text>\n",
              "</g>\n",
              "<!-- C&#45;&gt;D -->\n",
              "<g id=\"edge3\" class=\"edge\">\n",
              "<title>C&#45;&gt;D</title>\n",
              "<path fill=\"none\" stroke=\"black\" d=\"M180.35,-45C187.89,-45 196.91,-45 205.34,-45\"/>\n",
              "<polygon fill=\"black\" stroke=\"black\" points=\"205.56,-48.5 215.56,-45 205.56,-41.5 205.56,-48.5\"/>\n",
              "</g>\n",
              "<!-- E -->\n",
              "<g id=\"node5\" class=\"node\">\n",
              "<title>E</title>\n",
              "<ellipse fill=\"none\" stroke=\"blue\" cx=\"378.4\" cy=\"-72\" rx=\"18\" ry=\"18\"/>\n",
              "<text text-anchor=\"middle\" x=\"378.4\" y=\"-68.3\" font-family=\"Times,serif\" font-size=\"14.00\">E</text>\n",
              "</g>\n",
              "<!-- D&#45;&gt;E -->\n",
              "<g id=\"edge4\" class=\"edge\">\n",
              "<title>D&#45;&gt;E</title>\n",
              "<path fill=\"none\" stroke=\"black\" d=\"M252.35,-48.26C276.72,-52.88 321.59,-61.4 350.43,-66.88\"/>\n",
              "<polygon fill=\"black\" stroke=\"black\" points=\"350.15,-70.39 360.63,-68.82 351.45,-63.51 350.15,-70.39\"/>\n",
              "</g>\n",
              "<!-- X -->\n",
              "<g id=\"node6\" class=\"node\">\n",
              "<title>X</title>\n",
              "<ellipse fill=\"none\" stroke=\"green\" cx=\"306.4\" cy=\"-22\" rx=\"18\" ry=\"18\"/>\n",
              "<text text-anchor=\"middle\" x=\"306.4\" y=\"-18.3\" font-family=\"Times,serif\" font-size=\"14.00\">X</text>\n",
              "</g>\n",
              "<!-- D&#45;&gt;X -->\n",
              "<g id=\"edge5\" class=\"edge\">\n",
              "<title>D&#45;&gt;X</title>\n",
              "<path fill=\"none\" stroke=\"black\" d=\"M251.83,-39.55C260.05,-36.86 270.16,-33.55 279.37,-30.53\"/>\n",
              "<polygon fill=\"black\" stroke=\"black\" points=\"280.47,-33.85 288.88,-27.41 278.29,-27.2 280.47,-33.85\"/>\n",
              "</g>\n",
              "<!-- M -->\n",
              "<g id=\"node8\" class=\"node\">\n",
              "<title>M</title>\n",
              "<ellipse fill=\"none\" stroke=\"magenta\" cx=\"452.54\" cy=\"-45\" rx=\"20.3\" ry=\"20.3\"/>\n",
              "<text text-anchor=\"middle\" x=\"452.54\" y=\"-41.3\" font-family=\"Times,serif\" font-size=\"14.00\">M</text>\n",
              "</g>\n",
              "<!-- E&#45;&gt;M -->\n",
              "<g id=\"edge8\" class=\"edge\">\n",
              "<title>E&#45;&gt;M</title>\n",
              "<path fill=\"none\" stroke=\"black\" d=\"M395.41,-66.01C403.79,-62.87 414.29,-58.94 423.93,-55.33\"/>\n",
              "<polygon fill=\"black\" stroke=\"black\" points=\"425.41,-58.52 433.55,-51.73 422.96,-51.96 425.41,-58.52\"/>\n",
              "</g>\n",
              "<!-- Y -->\n",
              "<g id=\"node7\" class=\"node\">\n",
              "<title>Y</title>\n",
              "<ellipse fill=\"none\" stroke=\"green\" cx=\"378.4\" cy=\"-18\" rx=\"18\" ry=\"18\"/>\n",
              "<text text-anchor=\"middle\" x=\"378.4\" y=\"-14.3\" font-family=\"Times,serif\" font-size=\"14.00\">Y</text>\n",
              "</g>\n",
              "<!-- X&#45;&gt;Y -->\n",
              "<g id=\"edge6\" class=\"edge\">\n",
              "<title>X&#45;&gt;Y</title>\n",
              "<path fill=\"none\" stroke=\"black\" d=\"M324.7,-21.01C332.41,-20.57 341.68,-20.04 350.28,-19.55\"/>\n",
              "<polygon fill=\"black\" stroke=\"black\" points=\"350.51,-23.04 360.29,-18.98 350.11,-16.05 350.51,-23.04\"/>\n",
              "</g>\n",
              "<!-- Y&#45;&gt;M -->\n",
              "<g id=\"edge7\" class=\"edge\">\n",
              "<title>Y&#45;&gt;M</title>\n",
              "<path fill=\"none\" stroke=\"black\" d=\"M395.41,-23.99C403.79,-27.13 414.29,-31.06 423.93,-34.67\"/>\n",
              "<polygon fill=\"black\" stroke=\"black\" points=\"422.96,-38.04 433.55,-38.27 425.41,-31.48 422.96,-38.04\"/>\n",
              "</g>\n",
              "</g>\n",
              "</svg>\n"
            ],
            "text/plain": [
              "<graphviz.graphs.Digraph at 0x7f58f80c2230>"
            ]
          },
          "metadata": {},
          "output_type": "display_data"
        }
      ],
      "source": [
        "### Este c\u00f3digo es para crear el gr\u00e1fico de las ramas, no es necesario para el curso\n",
        "\n",
        "import graphviz\n",
        "\n",
        "# Crear el gr\u00e1fico con la direcci\u00f3n de las flechas de izquierda a derecha\n",
        "orin = graphviz.Digraph('G', graph_attr={'rankdir': 'LR'})\n",
        "not_fast_forward = graphviz.Digraph('G', graph_attr={'rankdir': 'LR'})\n",
        "\n",
        "# Agregar nodos (pelotas) A, B, C y D en la rama principal\n",
        "orin.node('A', shape='circle', label='A', color='blue')\n",
        "orin.node('B', shape='circle', label='B', color='blue')\n",
        "orin.node('C', shape='circle', label='C', color='blue')\n",
        "orin.node('D', shape='circle', label='D', color='blue')\n",
        "orin.node('E', shape='circle', label='', color='transparent')\n",
        "not_fast_forward.node('A', shape='circle', label='A', color='blue')\n",
        "not_fast_forward.node('B', shape='circle', label='B', color='blue')\n",
        "not_fast_forward.node('C', shape='circle', label='C', color='blue')\n",
        "not_fast_forward.node('D', shape='circle', label='D', color='blue')\n",
        "not_fast_forward.node('E', shape='circle', label='E', color='blue')\n",
        "\n",
        "# Agregar nodos (pelotas) X e Y en la rama secundaria\n",
        "orin.node('X', shape='circle', label='X', color='green')\n",
        "orin.node('Y', shape='circle', label='Y', color='green')\n",
        "not_fast_forward.node('X', shape='circle', label='X', color='green')\n",
        "not_fast_forward.node('Y', shape='circle', label='Y', color='green')\n",
        "\n",
        "# Agregar nodo (pelota) M en la rama principal\n",
        "not_fast_forward.node('M', shape='circle', label='M', color='magenta')\n",
        "\n",
        "# Agregar flechas entre los nodos en la rama principal\n",
        "orin.edges(['AB', 'BC', 'CD'])\n",
        "orin.edge('D', 'E', color='transparent')  # Hacer la flecha de C a D transparente\n",
        "not_fast_forward.edges(['AB', 'BC', 'CD', 'DE'])\n",
        "\n",
        "# Agregar flechas entre los nodos en la rama secundaria\n",
        "orin.edges(['DX', 'XY'])\n",
        "not_fast_forward.edges(['DX', 'XY', 'YM'])\n",
        "\n",
        "# Agregar flechas de la rama principal al nodo M\n",
        "not_fast_forward.edge('E', 'M')\n",
        "\n",
        "# Mostrar el diagrama de flujo en la celda de c\u00f3digo de Jupyter Notebook\n",
        "display(orin)\n",
        "display(not_fast_forward)"
      ]
    },
    {
      "cell_type": "markdown",
      "metadata": {},
      "source": [
        "Vamos primeiro a verificar que estamos na branch principal"
      ]
    },
    {
      "cell_type": "code",
      "execution_count": 146,
      "metadata": {},
      "outputs": [
        {
          "name": "stdout",
          "output_type": "stream",
          "text": [
            "main\n"
          ]
        }
      ],
      "source": [
        "!cd notebook_git && git branch --show-current"
      ]
    },
    {
      "cell_type": "markdown",
      "metadata": {},
      "source": [
        "Criamos uma nova branch"
      ]
    },
    {
      "cell_type": "code",
      "execution_count": 147,
      "metadata": {},
      "outputs": [],
      "source": [
        "!cd notebook_git && git branch branch_no_fast_forward"
      ]
    },
    {
      "cell_type": "markdown",
      "metadata": {},
      "source": [
        "Mudamos para ela"
      ]
    },
    {
      "cell_type": "code",
      "execution_count": 148,
      "metadata": {},
      "outputs": [
        {
          "name": "stdout",
          "output_type": "stream",
          "text": [
            "Cambiado a rama 'branch_no_fast_forward'\n"
          ]
        }
      ],
      "source": [
        "!cd notebook_git && git switch branch_no_fast_forward"
      ]
    },
    {
      "cell_type": "code",
      "execution_count": 149,
      "metadata": {},
      "outputs": [
        {
          "name": "stdout",
          "output_type": "stream",
          "text": [
            "branch_no_fast_forward\n"
          ]
        }
      ],
      "source": [
        "!cd notebook_git && git branch --show-current"
      ]
    },
    {
      "cell_type": "markdown",
      "metadata": {},
      "source": [
        "Claro, estamos em um branch criado a partir do principal com todo o seu hist\u00f3rico de logs, fazemos dois novos commits."
      ]
    },
    {
      "cell_type": "code",
      "execution_count": 150,
      "metadata": {},
      "outputs": [
        {
          "name": "stdout",
          "output_type": "stream",
          "text": [
            "[branch_no_fast_forward e4e23c9] file1\n",
            " 1 file changed, 0 insertions(+), 0 deletions(-)\n",
            " create mode 100644 file1\n"
          ]
        }
      ],
      "source": [
        "!cd notebook_git && touch file1 && git add file1 && git commit -m \"file1\""
      ]
    },
    {
      "cell_type": "code",
      "execution_count": 151,
      "metadata": {},
      "outputs": [
        {
          "name": "stdout",
          "output_type": "stream",
          "text": [
            "[branch_no_fast_forward 8df3429] file2\n",
            " 1 file changed, 0 insertions(+), 0 deletions(-)\n",
            " create mode 100644 file2\n"
          ]
        }
      ],
      "source": [
        "!cd notebook_git && touch file2 && git add file2 && git commit -m \"file2\""
      ]
    },
    {
      "cell_type": "markdown",
      "metadata": {},
      "source": [
        "Fazemos um novo log para ver o que foi criado nesta nova branch."
      ]
    },
    {
      "cell_type": "code",
      "execution_count": 152,
      "metadata": {},
      "outputs": [
        {
          "name": "stdout",
          "output_type": "stream",
          "text": [
            "* \u001b[33m8df3429\u001b[m\u001b[33m (\u001b[m\u001b[1;36mHEAD -> \u001b[m\u001b[1;32mbranch_no_fast_forward\u001b[m\u001b[33m)\u001b[m file2\n",
            "* \u001b[33me4e23c9\u001b[m file1\n",
            "* \u001b[33m94149fc\u001b[m\u001b[33m (\u001b[m\u001b[1;32mmain\u001b[m\u001b[33m, \u001b[m\u001b[1;32mbranch_fast_forward\u001b[m\u001b[33m)\u001b[m Eliminado hola.py\n",
            "* \u001b[33m4484e70\u001b[m Eliminado archivo4.py\n",
            "* \u001b[33m564ccfb\u001b[m\u001b[33m (\u001b[m\u001b[1;32mnew_branch2\u001b[m\u001b[33m)\u001b[m Commit con el archivo 8\n",
            "* \u001b[33m5168f78\u001b[m Eliminado archivo7.py\n",
            "* \u001b[33m4bb9d75\u001b[m\u001b[33m (\u001b[m\u001b[1;32mnew_branch\u001b[m\u001b[33m)\u001b[m Commit con el archivo 7\n",
            "* \u001b[33mea615a9\u001b[m Eliminado archivo5.py\n",
            "* \u001b[33me3153a5\u001b[m Commit con los archivos 4 y 5\n",
            "* \u001b[33m0b09cfa\u001b[m A\u00f1adido .gitignore\n",
            "* \u001b[33m04ebd1f\u001b[m Commit con los archivos 1 y 2\n",
            "* \u001b[33mc4930d7\u001b[m Tercer commit, hola.py\n",
            "* \u001b[33m6e99e73\u001b[m Segundo commit, hola.py\n",
            "* \u001b[33m1c95e4f\u001b[m Primer commit, hola.py\n"
          ]
        }
      ],
      "source": [
        "!cd notebook_git && git log --graph --oneline --decorate"
      ]
    },
    {
      "cell_type": "markdown",
      "metadata": {},
      "source": [
        "Como vemos, os dois \u00faltimos commits s\u00e3o os que criamos e podemos verificar que esses commits n\u00e3o est\u00e3o na branch principal (para isso especifico que seja feito sobre a branch `main`)."
      ]
    },
    {
      "cell_type": "code",
      "execution_count": 153,
      "metadata": {},
      "outputs": [
        {
          "name": "stdout",
          "output_type": "stream",
          "text": [
            "* \u001b[33m94149fc\u001b[m\u001b[33m (\u001b[m\u001b[1;32mmain\u001b[m\u001b[33m, \u001b[m\u001b[1;32mbranch_fast_forward\u001b[m\u001b[33m)\u001b[m Eliminado hola.py\n",
            "* \u001b[33m4484e70\u001b[m Eliminado archivo4.py\n",
            "* \u001b[33m564ccfb\u001b[m\u001b[33m (\u001b[m\u001b[1;32mnew_branch2\u001b[m\u001b[33m)\u001b[m Commit con el archivo 8\n",
            "* \u001b[33m5168f78\u001b[m Eliminado archivo7.py\n",
            "* \u001b[33m4bb9d75\u001b[m\u001b[33m (\u001b[m\u001b[1;32mnew_branch\u001b[m\u001b[33m)\u001b[m Commit con el archivo 7\n",
            "* \u001b[33mea615a9\u001b[m Eliminado archivo5.py\n",
            "* \u001b[33me3153a5\u001b[m Commit con los archivos 4 y 5\n",
            "* \u001b[33m0b09cfa\u001b[m A\u00f1adido .gitignore\n",
            "* \u001b[33m04ebd1f\u001b[m Commit con los archivos 1 y 2\n",
            "* \u001b[33mc4930d7\u001b[m Tercer commit, hola.py\n",
            "* \u001b[33m6e99e73\u001b[m Segundo commit, hola.py\n",
            "* \u001b[33m1c95e4f\u001b[m Primer commit, hola.py\n"
          ]
        }
      ],
      "source": [
        "!cd notebook_git && git log main --graph --oneline --decorate"
      ]
    },
    {
      "attachments": {},
      "cell_type": "markdown",
      "metadata": {},
      "source": [
        "Agora vamos para o branch `main`"
      ]
    },
    {
      "cell_type": "code",
      "execution_count": 154,
      "metadata": {},
      "outputs": [
        {
          "name": "stdout",
          "output_type": "stream",
          "text": [
            "Cambiado a rama 'main'\n"
          ]
        }
      ],
      "source": [
        "!cd notebook_git && git switch main"
      ]
    },
    {
      "attachments": {},
      "cell_type": "markdown",
      "metadata": {},
      "source": [
        "Criamos um novo commit"
      ]
    },
    {
      "cell_type": "code",
      "execution_count": 155,
      "metadata": {},
      "outputs": [
        {
          "name": "stdout",
          "output_type": "stream",
          "text": [
            "[main 8bdf4d8] file3\n",
            " 1 file changed, 0 insertions(+), 0 deletions(-)\n",
            " create mode 100644 file3\n"
          ]
        }
      ],
      "source": [
        "!cd notebook_git && touch file3 && git add file3 && git commit -m \"file3\""
      ]
    },
    {
      "attachments": {},
      "cell_type": "markdown",
      "metadata": {},
      "source": [
        "Por \u00faltimo, fazemos o merge do tipo n\u00e3o fast forward"
      ]
    },
    {
      "cell_type": "code",
      "execution_count": 152,
      "metadata": {},
      "outputs": [
        {
          "name": "stdout",
          "output_type": "stream",
          "text": [
            "\u001b[2B\u001b[m\u001b[mommit. comenzando con '#' ser\u00e1n ignoradas, y un mensaje vac\u00edo abortasaria esta\u001b[m\u001b[7m>\u001b[4;1H\u001b[m\u001b[36m# especialmente si esto fusiona un upstream actualizado en una rama de t\u00f3pico. /home/wallabot/Documentos/web/portafolio/posts/notebook_git/.git/MERGE_MSG   \u001b[1;79H\u001b[m\u001b[22;16H\u001b[7m[ l\u00ednea 1/7 (14%), col 1/48 (2%), car 0/301 (0%) ]\u001b[m\u001b[22;16H             \u001b[7m[ P\u00e1rrafo justificado ]\u001b[m\u001b[K\u001b[H\u001b[7m...llabot/Documentos/web/portafolio/posts/notebook_git/.git/MERGE_MSG Modificado\u001b[1;80H\u001b[m"
          ]
        }
      ],
      "source": [
        "!cd notebook_git && git merge branch_no_fast_forward --no-ff"
      ]
    },
    {
      "attachments": {},
      "cell_type": "markdown",
      "metadata": {},
      "source": [
        "Como vemos, nos abre o editor para introduzir uma mensagem de commit e uma mensagem por padr\u00e3o. Aceitamos a mensagem e vemos o que aconteceu."
      ]
    },
    {
      "cell_type": "code",
      "execution_count": 156,
      "metadata": {},
      "outputs": [
        {
          "name": "stdout",
          "output_type": "stream",
          "text": [
            "En la rama main\n",
            "nada para hacer commit, el \u00e1rbol de trabajo est\u00e1 limpio\n"
          ]
        }
      ],
      "source": [
        "!cd notebook_git && git status"
      ]
    },
    {
      "cell_type": "code",
      "execution_count": 157,
      "metadata": {},
      "outputs": [
        {
          "name": "stdout",
          "output_type": "stream",
          "text": [
            "*   \u001b[33m274529c\u001b[m\u001b[33m (\u001b[m\u001b[1;36mHEAD -> \u001b[m\u001b[1;32mmain\u001b[m\u001b[33m)\u001b[m Merge branch 'branch_no_fast_forward' into main\n",
            "\u001b[31m|\u001b[m\u001b[32m\\\u001b[m  \n",
            "\u001b[31m|\u001b[m * \u001b[33m8df3429\u001b[m\u001b[33m (\u001b[m\u001b[1;32mbranch_no_fast_forward\u001b[m\u001b[33m)\u001b[m file2\n",
            "\u001b[31m|\u001b[m * \u001b[33me4e23c9\u001b[m file1\n",
            "* \u001b[32m|\u001b[m \u001b[33m8bdf4d8\u001b[m file3\n",
            "\u001b[32m|\u001b[m\u001b[32m/\u001b[m  \n",
            "* \u001b[33m94149fc\u001b[m\u001b[33m (\u001b[m\u001b[1;32mbranch_fast_forward\u001b[m\u001b[33m)\u001b[m Eliminado hola.py\n",
            "* \u001b[33m4484e70\u001b[m Eliminado archivo4.py\n",
            "* \u001b[33m564ccfb\u001b[m\u001b[33m (\u001b[m\u001b[1;32mnew_branch2\u001b[m\u001b[33m)\u001b[m Commit con el archivo 8\n",
            "* \u001b[33m5168f78\u001b[m Eliminado archivo7.py\n",
            "* \u001b[33m4bb9d75\u001b[m\u001b[33m (\u001b[m\u001b[1;32mnew_branch\u001b[m\u001b[33m)\u001b[m Commit con el archivo 7\n",
            "* \u001b[33mea615a9\u001b[m Eliminado archivo5.py\n",
            "* \u001b[33me3153a5\u001b[m Commit con los archivos 4 y 5\n",
            "* \u001b[33m0b09cfa\u001b[m A\u00f1adido .gitignore\n",
            "* \u001b[33m04ebd1f\u001b[m Commit con los archivos 1 y 2\n",
            "* \u001b[33mc4930d7\u001b[m Tercer commit, hola.py\n",
            "* \u001b[33m6e99e73\u001b[m Segundo commit, hola.py\n",
            "* \u001b[33m1c95e4f\u001b[m Primer commit, hola.py\n"
          ]
        }
      ],
      "source": [
        "!cd notebook_git && git log --graph --oneline --decorate"
      ]
    },
    {
      "cell_type": "code",
      "execution_count": 158,
      "metadata": {},
      "outputs": [
        {
          "name": "stdout",
          "output_type": "stream",
          "text": [
            "api_keys.py  archivo1.py  archivo2.py  archivo8.py  file1  file2  file3\n"
          ]
        }
      ],
      "source": [
        "!cd notebook_git && ls"
      ]
    },
    {
      "attachments": {},
      "cell_type": "markdown",
      "metadata": {},
      "source": [
        "Como podemos ver, foi criado um novo commit com as mudan\u00e7as da nova branch na branch principal."
      ]
    },
    {
      "attachments": {},
      "cell_type": "markdown",
      "metadata": {},
      "source": [
        "#### Squash"
      ]
    },
    {
      "attachments": {},
      "cell_type": "markdown",
      "metadata": {},
      "source": [
        "Neste tipo de fus\u00e3o, todos os commits de uma nova ramifica\u00e7\u00e3o s\u00e3o reunidos em um \u00fanico commit na ramifica\u00e7\u00e3o principal. Para isso, escrevemos `git merge <rama> --squash`"
      ]
    },
    {
      "cell_type": "code",
      "execution_count": 159,
      "metadata": {},
      "outputs": [
        {
          "data": {
            "image/svg+xml": [
              "<?xml version=\"1.0\" encoding=\"UTF-8\" standalone=\"no\"?>\n",
              "<!DOCTYPE svg PUBLIC \"-//W3C//DTD SVG 1.1//EN\"\n",
              " \"http://www.w3.org/Graphics/SVG/1.1/DTD/svg11.dtd\">\n",
              "<!-- Generated by graphviz version 2.43.0 (0)\n",
              " -->\n",
              "<!-- Title: G Pages: 1 -->\n",
              "<svg width=\"404pt\" height=\"98pt\"\n",
              " viewBox=\"0.00 0.00 404.40 98.00\" xmlns=\"http://www.w3.org/2000/svg\" xmlns:xlink=\"http://www.w3.org/1999/xlink\">\n",
              "<g id=\"graph0\" class=\"graph\" transform=\"scale(1 1) rotate(0) translate(4 94)\">\n",
              "<title>G</title>\n",
              "<polygon fill=\"white\" stroke=\"transparent\" points=\"-4,4 -4,-94 400.4,-94 400.4,4 -4,4\"/>\n",
              "<!-- A -->\n",
              "<g id=\"node1\" class=\"node\">\n",
              "<title>A</title>\n",
              "<ellipse fill=\"none\" stroke=\"blue\" cx=\"18\" cy=\"-45\" rx=\"18\" ry=\"18\"/>\n",
              "<text text-anchor=\"middle\" x=\"18\" y=\"-41.3\" font-family=\"Times,serif\" font-size=\"14.00\">A</text>\n",
              "</g>\n",
              "<!-- B -->\n",
              "<g id=\"node2\" class=\"node\">\n",
              "<title>B</title>\n",
              "<ellipse fill=\"none\" stroke=\"blue\" cx=\"90\" cy=\"-45\" rx=\"18\" ry=\"18\"/>\n",
              "<text text-anchor=\"middle\" x=\"90\" y=\"-41.3\" font-family=\"Times,serif\" font-size=\"14.00\">B</text>\n",
              "</g>\n",
              "<!-- A&#45;&gt;B -->\n",
              "<g id=\"edge1\" class=\"edge\">\n",
              "<title>A&#45;&gt;B</title>\n",
              "<path fill=\"none\" stroke=\"black\" d=\"M36.3,-45C44.02,-45 53.29,-45 61.89,-45\"/>\n",
              "<polygon fill=\"black\" stroke=\"black\" points=\"61.9,-48.5 71.9,-45 61.9,-41.5 61.9,-48.5\"/>\n",
              "</g>\n",
              "<!-- C -->\n",
              "<g id=\"node3\" class=\"node\">\n",
              "<title>C</title>\n",
              "<ellipse fill=\"none\" stroke=\"blue\" cx=\"162\" cy=\"-45\" rx=\"18\" ry=\"18\"/>\n",
              "<text text-anchor=\"middle\" x=\"162\" y=\"-41.3\" font-family=\"Times,serif\" font-size=\"14.00\">C</text>\n",
              "</g>\n",
              "<!-- B&#45;&gt;C -->\n",
              "<g id=\"edge2\" class=\"edge\">\n",
              "<title>B&#45;&gt;C</title>\n",
              "<path fill=\"none\" stroke=\"black\" d=\"M108.3,-45C116.02,-45 125.29,-45 133.89,-45\"/>\n",
              "<polygon fill=\"black\" stroke=\"black\" points=\"133.9,-48.5 143.9,-45 133.9,-41.5 133.9,-48.5\"/>\n",
              "</g>\n",
              "<!-- D -->\n",
              "<g id=\"node4\" class=\"node\">\n",
              "<title>D</title>\n",
              "<ellipse fill=\"none\" stroke=\"blue\" cx=\"234.2\" cy=\"-45\" rx=\"18.4\" ry=\"18.4\"/>\n",
              "<text text-anchor=\"middle\" x=\"234.2\" y=\"-41.3\" font-family=\"Times,serif\" font-size=\"14.00\">D</text>\n",
              "</g>\n",
              "<!-- C&#45;&gt;D -->\n",
              "<g id=\"edge3\" class=\"edge\">\n",
              "<title>C&#45;&gt;D</title>\n",
              "<path fill=\"none\" stroke=\"black\" d=\"M180.35,-45C187.89,-45 196.91,-45 205.34,-45\"/>\n",
              "<polygon fill=\"black\" stroke=\"black\" points=\"205.56,-48.5 215.56,-45 205.56,-41.5 205.56,-48.5\"/>\n",
              "</g>\n",
              "<!-- E -->\n",
              "<g id=\"node5\" class=\"node\">\n",
              "<title>E</title>\n",
              "<ellipse fill=\"none\" stroke=\"transparent\" cx=\"306.4\" cy=\"-72\" rx=\"18\" ry=\"18\"/>\n",
              "</g>\n",
              "<!-- D&#45;&gt;E -->\n",
              "<g id=\"edge4\" class=\"edge\">\n",
              "<title>D&#45;&gt;E</title>\n",
              "<path fill=\"none\" stroke=\"transparent\" d=\"M251.48,-51.26C259.9,-54.5 270.36,-58.53 279.83,-62.17\"/>\n",
              "<polygon fill=\"transparent\" stroke=\"transparent\" points=\"278.61,-65.45 289.2,-65.77 281.13,-58.92 278.61,-65.45\"/>\n",
              "</g>\n",
              "<!-- X -->\n",
              "<g id=\"node6\" class=\"node\">\n",
              "<title>X</title>\n",
              "<ellipse fill=\"none\" stroke=\"green\" cx=\"306.4\" cy=\"-18\" rx=\"18\" ry=\"18\"/>\n",
              "<text text-anchor=\"middle\" x=\"306.4\" y=\"-14.3\" font-family=\"Times,serif\" font-size=\"14.00\">X</text>\n",
              "</g>\n",
              "<!-- D&#45;&gt;X -->\n",
              "<g id=\"edge5\" class=\"edge\">\n",
              "<title>D&#45;&gt;X</title>\n",
              "<path fill=\"none\" stroke=\"black\" d=\"M251.48,-38.74C259.9,-35.5 270.36,-31.47 279.83,-27.83\"/>\n",
              "<polygon fill=\"black\" stroke=\"black\" points=\"281.13,-31.08 289.2,-24.23 278.61,-24.55 281.13,-31.08\"/>\n",
              "</g>\n",
              "<!-- Y -->\n",
              "<g id=\"node7\" class=\"node\">\n",
              "<title>Y</title>\n",
              "<ellipse fill=\"none\" stroke=\"green\" cx=\"378.4\" cy=\"-18\" rx=\"18\" ry=\"18\"/>\n",
              "<text text-anchor=\"middle\" x=\"378.4\" y=\"-14.3\" font-family=\"Times,serif\" font-size=\"14.00\">Y</text>\n",
              "</g>\n",
              "<!-- X&#45;&gt;Y -->\n",
              "<g id=\"edge6\" class=\"edge\">\n",
              "<title>X&#45;&gt;Y</title>\n",
              "<path fill=\"none\" stroke=\"black\" d=\"M324.7,-18C332.41,-18 341.68,-18 350.28,-18\"/>\n",
              "<polygon fill=\"black\" stroke=\"black\" points=\"350.29,-21.5 360.29,-18 350.29,-14.5 350.29,-21.5\"/>\n",
              "</g>\n",
              "</g>\n",
              "</svg>\n"
            ],
            "text/plain": [
              "<graphviz.graphs.Digraph at 0x7f58f80e6470>"
            ]
          },
          "metadata": {},
          "output_type": "display_data"
        },
        {
          "data": {
            "image/svg+xml": [
              "<?xml version=\"1.0\" encoding=\"UTF-8\" standalone=\"no\"?>\n",
              "<!DOCTYPE svg PUBLIC \"-//W3C//DTD SVG 1.1//EN\"\n",
              " \"http://www.w3.org/Graphics/SVG/1.1/DTD/svg11.dtd\">\n",
              "<!-- Generated by graphviz version 2.43.0 (0)\n",
              " -->\n",
              "<!-- Title: G Pages: 1 -->\n",
              "<svg width=\"337pt\" height=\"48pt\"\n",
              " viewBox=\"0.00 0.00 336.69 48.30\" xmlns=\"http://www.w3.org/2000/svg\" xmlns:xlink=\"http://www.w3.org/1999/xlink\">\n",
              "<g id=\"graph0\" class=\"graph\" transform=\"scale(1 1) rotate(0) translate(4 44.3)\">\n",
              "<title>G</title>\n",
              "<polygon fill=\"white\" stroke=\"transparent\" points=\"-4,4 -4,-44.3 332.69,-44.3 332.69,4 -4,4\"/>\n",
              "<!-- A -->\n",
              "<g id=\"node1\" class=\"node\">\n",
              "<title>A</title>\n",
              "<ellipse fill=\"none\" stroke=\"blue\" cx=\"18\" cy=\"-20.15\" rx=\"18\" ry=\"18\"/>\n",
              "<text text-anchor=\"middle\" x=\"18\" y=\"-16.45\" font-family=\"Times,serif\" font-size=\"14.00\">A</text>\n",
              "</g>\n",
              "<!-- B -->\n",
              "<g id=\"node2\" class=\"node\">\n",
              "<title>B</title>\n",
              "<ellipse fill=\"none\" stroke=\"blue\" cx=\"90\" cy=\"-20.15\" rx=\"18\" ry=\"18\"/>\n",
              "<text text-anchor=\"middle\" x=\"90\" y=\"-16.45\" font-family=\"Times,serif\" font-size=\"14.00\">B</text>\n",
              "</g>\n",
              "<!-- A&#45;&gt;B -->\n",
              "<g id=\"edge1\" class=\"edge\">\n",
              "<title>A&#45;&gt;B</title>\n",
              "<path fill=\"none\" stroke=\"black\" d=\"M36.3,-20.15C44.02,-20.15 53.29,-20.15 61.89,-20.15\"/>\n",
              "<polygon fill=\"black\" stroke=\"black\" points=\"61.9,-23.65 71.9,-20.15 61.9,-16.65 61.9,-23.65\"/>\n",
              "</g>\n",
              "<!-- C -->\n",
              "<g id=\"node3\" class=\"node\">\n",
              "<title>C</title>\n",
              "<ellipse fill=\"none\" stroke=\"blue\" cx=\"162\" cy=\"-20.15\" rx=\"18\" ry=\"18\"/>\n",
              "<text text-anchor=\"middle\" x=\"162\" y=\"-16.45\" font-family=\"Times,serif\" font-size=\"14.00\">C</text>\n",
              "</g>\n",
              "<!-- B&#45;&gt;C -->\n",
              "<g id=\"edge2\" class=\"edge\">\n",
              "<title>B&#45;&gt;C</title>\n",
              "<path fill=\"none\" stroke=\"black\" d=\"M108.3,-20.15C116.02,-20.15 125.29,-20.15 133.89,-20.15\"/>\n",
              "<polygon fill=\"black\" stroke=\"black\" points=\"133.9,-23.65 143.9,-20.15 133.9,-16.65 133.9,-23.65\"/>\n",
              "</g>\n",
              "<!-- D -->\n",
              "<g id=\"node4\" class=\"node\">\n",
              "<title>D</title>\n",
              "<ellipse fill=\"none\" stroke=\"blue\" cx=\"234.2\" cy=\"-20.15\" rx=\"18.4\" ry=\"18.4\"/>\n",
              "<text text-anchor=\"middle\" x=\"234.2\" y=\"-16.45\" font-family=\"Times,serif\" font-size=\"14.00\">D</text>\n",
              "</g>\n",
              "<!-- C&#45;&gt;D -->\n",
              "<g id=\"edge3\" class=\"edge\">\n",
              "<title>C&#45;&gt;D</title>\n",
              "<path fill=\"none\" stroke=\"black\" d=\"M180.35,-20.15C187.89,-20.15 196.91,-20.15 205.34,-20.15\"/>\n",
              "<polygon fill=\"black\" stroke=\"black\" points=\"205.56,-23.65 215.56,-20.15 205.56,-16.65 205.56,-23.65\"/>\n",
              "</g>\n",
              "<!-- M -->\n",
              "<g id=\"node5\" class=\"node\">\n",
              "<title>M</title>\n",
              "<ellipse fill=\"none\" stroke=\"magenta\" cx=\"308.54\" cy=\"-20.15\" rx=\"20.3\" ry=\"20.3\"/>\n",
              "<text text-anchor=\"middle\" x=\"308.54\" y=\"-16.45\" font-family=\"Times,serif\" font-size=\"14.00\">M</text>\n",
              "</g>\n",
              "<!-- D&#45;&gt;M -->\n",
              "<g id=\"edge4\" class=\"edge\">\n",
              "<title>D&#45;&gt;M</title>\n",
              "<path fill=\"none\" stroke=\"black\" d=\"M252.71,-20.15C260.32,-20.15 269.45,-20.15 278.06,-20.15\"/>\n",
              "<polygon fill=\"black\" stroke=\"black\" points=\"278.16,-23.65 288.16,-20.15 278.16,-16.65 278.16,-23.65\"/>\n",
              "</g>\n",
              "</g>\n",
              "</svg>\n"
            ],
            "text/plain": [
              "<graphviz.graphs.Digraph at 0x7f58f80e6f80>"
            ]
          },
          "metadata": {},
          "output_type": "display_data"
        }
      ],
      "source": [
        "### Este c\u00f3digo es para crear el gr\u00e1fico de las ramas, no es necesario para el curso\n",
        "\n",
        "import graphviz\n",
        "\n",
        "# Crear el gr\u00e1fico con la direcci\u00f3n de las flechas de izquierda a derecha\n",
        "orin = graphviz.Digraph('G', graph_attr={'rankdir': 'LR'})\n",
        "squash = graphviz.Digraph('G', graph_attr={'rankdir': 'LR'})\n",
        "\n",
        "# Agregar nodos (pelotas) A, B, C y D en la rama principal\n",
        "orin.node('A', shape='circle', label='A', color='blue')\n",
        "orin.node('B', shape='circle', label='B', color='blue')\n",
        "orin.node('C', shape='circle', label='C', color='blue')\n",
        "orin.node('D', shape='circle', label='D', color='blue')\n",
        "orin.node('E', shape='circle', label='', color='transparent')\n",
        "squash.node('A', shape='circle', label='A', color='blue')\n",
        "squash.node('B', shape='circle', label='B', color='blue')\n",
        "squash.node('C', shape='circle', label='C', color='blue')\n",
        "squash.node('D', shape='circle', label='D', color='blue')\n",
        "\n",
        "# Agregar nodos (pelotas) X e Y en la rama secundaria\n",
        "orin.node('X', shape='circle', label='X', color='green')\n",
        "orin.node('Y', shape='circle', label='Y', color='green')\n",
        "\n",
        "# Agregar nodo (pelota) M en la rama principal\n",
        "squash.node('M', shape='circle', label='M', color='magenta')\n",
        "\n",
        "# Agregar flechas entre los nodos en la rama principal\n",
        "orin.edges(['AB', 'BC', 'CD'])\n",
        "orin.edge('D', 'E', color='transparent')  # Hacer la flecha de C a D transparente\n",
        "squash.edges(['AB', 'BC', 'CD', 'DM'])\n",
        "\n",
        "# Agregar flechas entre los nodos en la rama secundaria\n",
        "orin.edges(['DX', 'XY'])\n",
        "\n",
        "# Mostrar el diagrama de flujo en la celda de c\u00f3digo de Jupyter Notebook\n",
        "display(orin)\n",
        "display(squash)"
      ]
    },
    {
      "cell_type": "markdown",
      "metadata": {},
      "source": [
        "Vamos primeiro a verificar que estamos na branch principal"
      ]
    },
    {
      "cell_type": "code",
      "execution_count": 160,
      "metadata": {},
      "outputs": [
        {
          "name": "stdout",
          "output_type": "stream",
          "text": [
            "main\n"
          ]
        }
      ],
      "source": [
        "!cd notebook_git && git branch --show-current"
      ]
    },
    {
      "cell_type": "markdown",
      "metadata": {},
      "source": [
        "Criamos uma nova branch"
      ]
    },
    {
      "cell_type": "code",
      "execution_count": 161,
      "metadata": {},
      "outputs": [],
      "source": [
        "!cd notebook_git && git branch branch_squash"
      ]
    },
    {
      "cell_type": "markdown",
      "metadata": {},
      "source": [
        "Mudamos para ela"
      ]
    },
    {
      "cell_type": "code",
      "execution_count": 162,
      "metadata": {},
      "outputs": [
        {
          "name": "stdout",
          "output_type": "stream",
          "text": [
            "Cambiado a rama 'branch_squash'\n"
          ]
        }
      ],
      "source": [
        "!cd notebook_git && git switch branch_squash"
      ]
    },
    {
      "cell_type": "code",
      "execution_count": 163,
      "metadata": {},
      "outputs": [
        {
          "name": "stdout",
          "output_type": "stream",
          "text": [
            "branch_squash\n"
          ]
        }
      ],
      "source": [
        "!cd notebook_git && git branch --show-current"
      ]
    },
    {
      "cell_type": "markdown",
      "metadata": {},
      "source": [
        "Vamos ver o log"
      ]
    },
    {
      "cell_type": "code",
      "execution_count": 164,
      "metadata": {},
      "outputs": [
        {
          "name": "stdout",
          "output_type": "stream",
          "text": [
            "*   \u001b[33m274529c\u001b[m\u001b[33m (\u001b[m\u001b[1;36mHEAD -> \u001b[m\u001b[1;32mbranch_squash\u001b[m\u001b[33m, \u001b[m\u001b[1;32mmain\u001b[m\u001b[33m)\u001b[m Merge branch 'branch_no_fast_forward' into main\n",
            "\u001b[31m|\u001b[m\u001b[32m\\\u001b[m  \n",
            "\u001b[31m|\u001b[m * \u001b[33m8df3429\u001b[m\u001b[33m (\u001b[m\u001b[1;32mbranch_no_fast_forward\u001b[m\u001b[33m)\u001b[m file2\n",
            "\u001b[31m|\u001b[m * \u001b[33me4e23c9\u001b[m file1\n",
            "* \u001b[32m|\u001b[m \u001b[33m8bdf4d8\u001b[m file3\n",
            "\u001b[32m|\u001b[m\u001b[32m/\u001b[m  \n",
            "* \u001b[33m94149fc\u001b[m\u001b[33m (\u001b[m\u001b[1;32mbranch_fast_forward\u001b[m\u001b[33m)\u001b[m Eliminado hola.py\n",
            "* \u001b[33m4484e70\u001b[m Eliminado archivo4.py\n",
            "* \u001b[33m564ccfb\u001b[m\u001b[33m (\u001b[m\u001b[1;32mnew_branch2\u001b[m\u001b[33m)\u001b[m Commit con el archivo 8\n",
            "* \u001b[33m5168f78\u001b[m Eliminado archivo7.py\n",
            "* \u001b[33m4bb9d75\u001b[m\u001b[33m (\u001b[m\u001b[1;32mnew_branch\u001b[m\u001b[33m)\u001b[m Commit con el archivo 7\n",
            "* \u001b[33mea615a9\u001b[m Eliminado archivo5.py\n",
            "* \u001b[33me3153a5\u001b[m Commit con los archivos 4 y 5\n",
            "* \u001b[33m0b09cfa\u001b[m A\u00f1adido .gitignore\n",
            "* \u001b[33m04ebd1f\u001b[m Commit con los archivos 1 y 2\n",
            "* \u001b[33mc4930d7\u001b[m Tercer commit, hola.py\n",
            "* \u001b[33m6e99e73\u001b[m Segundo commit, hola.py\n",
            "* \u001b[33m1c95e4f\u001b[m Primer commit, hola.py\n"
          ]
        }
      ],
      "source": [
        "!cd notebook_git && git log --graph --oneline --decorate --all"
      ]
    },
    {
      "attachments": {},
      "cell_type": "markdown",
      "metadata": {},
      "source": [
        "Ok, estamos em um branch criado a partir do principal com todo o seu hist\u00f3rico de logs, fazemos tr\u00eas novos commits"
      ]
    },
    {
      "cell_type": "code",
      "execution_count": 165,
      "metadata": {},
      "outputs": [
        {
          "name": "stdout",
          "output_type": "stream",
          "text": [
            "rm 'file1'\n",
            "[branch_squash 767b632] Eliminado file1\n",
            " 1 file changed, 0 insertions(+), 0 deletions(-)\n",
            " delete mode 100644 file1\n"
          ]
        }
      ],
      "source": [
        "!cd notebook_git && git rm file1 && git commit -am \"Eliminado file1\""
      ]
    },
    {
      "cell_type": "code",
      "execution_count": 166,
      "metadata": {},
      "outputs": [
        {
          "name": "stdout",
          "output_type": "stream",
          "text": [
            "rm 'file2'\n",
            "[branch_squash a47f771] Eliminado file2\n",
            " 1 file changed, 0 insertions(+), 0 deletions(-)\n",
            " delete mode 100644 file2\n"
          ]
        }
      ],
      "source": [
        "!cd notebook_git && git rm file2 && git commit -am \"Eliminado file2\""
      ]
    },
    {
      "cell_type": "code",
      "execution_count": 167,
      "metadata": {},
      "outputs": [
        {
          "name": "stdout",
          "output_type": "stream",
          "text": [
            "rm 'file3'\n",
            "[branch_squash 85f8c9f] Eliminado file3\n",
            " 1 file changed, 0 insertions(+), 0 deletions(-)\n",
            " delete mode 100644 file3\n"
          ]
        }
      ],
      "source": [
        "!cd notebook_git && git rm file3 && git commit -am \"Eliminado file3\""
      ]
    },
    {
      "cell_type": "markdown",
      "metadata": {},
      "source": [
        "Fazemos um novo log para ver o que foi criado nesta nova branch."
      ]
    },
    {
      "cell_type": "code",
      "execution_count": 168,
      "metadata": {},
      "outputs": [
        {
          "name": "stdout",
          "output_type": "stream",
          "text": [
            "* \u001b[33m85f8c9f\u001b[m\u001b[33m (\u001b[m\u001b[1;36mHEAD -> \u001b[m\u001b[1;32mbranch_squash\u001b[m\u001b[33m)\u001b[m Eliminado file3\n",
            "* \u001b[33ma47f771\u001b[m Eliminado file2\n",
            "* \u001b[33m767b632\u001b[m Eliminado file1\n",
            "*   \u001b[33m274529c\u001b[m\u001b[33m (\u001b[m\u001b[1;32mmain\u001b[m\u001b[33m)\u001b[m Merge branch 'branch_no_fast_forward' into main\n",
            "\u001b[32m|\u001b[m\u001b[33m\\\u001b[m  \n",
            "\u001b[32m|\u001b[m * \u001b[33m8df3429\u001b[m\u001b[33m (\u001b[m\u001b[1;32mbranch_no_fast_forward\u001b[m\u001b[33m)\u001b[m file2\n",
            "\u001b[32m|\u001b[m * \u001b[33me4e23c9\u001b[m file1\n",
            "* \u001b[33m|\u001b[m \u001b[33m8bdf4d8\u001b[m file3\n",
            "\u001b[33m|\u001b[m\u001b[33m/\u001b[m  \n",
            "* \u001b[33m94149fc\u001b[m\u001b[33m (\u001b[m\u001b[1;32mbranch_fast_forward\u001b[m\u001b[33m)\u001b[m Eliminado hola.py\n",
            "* \u001b[33m4484e70\u001b[m Eliminado archivo4.py\n",
            "* \u001b[33m564ccfb\u001b[m\u001b[33m (\u001b[m\u001b[1;32mnew_branch2\u001b[m\u001b[33m)\u001b[m Commit con el archivo 8\n",
            "* \u001b[33m5168f78\u001b[m Eliminado archivo7.py\n",
            "* \u001b[33m4bb9d75\u001b[m\u001b[33m (\u001b[m\u001b[1;32mnew_branch\u001b[m\u001b[33m)\u001b[m Commit con el archivo 7\n",
            "* \u001b[33mea615a9\u001b[m Eliminado archivo5.py\n",
            "* \u001b[33me3153a5\u001b[m Commit con los archivos 4 y 5\n",
            "* \u001b[33m0b09cfa\u001b[m A\u00f1adido .gitignore\n",
            "* \u001b[33m04ebd1f\u001b[m Commit con los archivos 1 y 2\n",
            "* \u001b[33mc4930d7\u001b[m Tercer commit, hola.py\n",
            "* \u001b[33m6e99e73\u001b[m Segundo commit, hola.py\n",
            "* \u001b[33m1c95e4f\u001b[m Primer commit, hola.py\n"
          ]
        }
      ],
      "source": [
        "!cd notebook_git && git log --graph --oneline --decorate"
      ]
    },
    {
      "attachments": {},
      "cell_type": "markdown",
      "metadata": {},
      "source": [
        "Como vemos, os tr\u00eas \u00faltimos commits s\u00e3o os que criamos e podemos verificar que esses commits n\u00e3o est\u00e3o na branch principal (para isso especifico que seja feito sobre a branch `main`)"
      ]
    },
    {
      "cell_type": "code",
      "execution_count": 169,
      "metadata": {},
      "outputs": [
        {
          "name": "stdout",
          "output_type": "stream",
          "text": [
            "*   \u001b[33m274529c\u001b[m\u001b[33m (\u001b[m\u001b[1;32mmain\u001b[m\u001b[33m)\u001b[m Merge branch 'branch_no_fast_forward' into main\n",
            "\u001b[31m|\u001b[m\u001b[32m\\\u001b[m  \n",
            "\u001b[31m|\u001b[m * \u001b[33m8df3429\u001b[m\u001b[33m (\u001b[m\u001b[1;32mbranch_no_fast_forward\u001b[m\u001b[33m)\u001b[m file2\n",
            "\u001b[31m|\u001b[m * \u001b[33me4e23c9\u001b[m file1\n",
            "* \u001b[32m|\u001b[m \u001b[33m8bdf4d8\u001b[m file3\n",
            "\u001b[32m|\u001b[m\u001b[32m/\u001b[m  \n",
            "* \u001b[33m94149fc\u001b[m\u001b[33m (\u001b[m\u001b[1;32mbranch_fast_forward\u001b[m\u001b[33m)\u001b[m Eliminado hola.py\n",
            "* \u001b[33m4484e70\u001b[m Eliminado archivo4.py\n",
            "* \u001b[33m564ccfb\u001b[m\u001b[33m (\u001b[m\u001b[1;32mnew_branch2\u001b[m\u001b[33m)\u001b[m Commit con el archivo 8\n",
            "* \u001b[33m5168f78\u001b[m Eliminado archivo7.py\n",
            "* \u001b[33m4bb9d75\u001b[m\u001b[33m (\u001b[m\u001b[1;32mnew_branch\u001b[m\u001b[33m)\u001b[m Commit con el archivo 7\n",
            "* \u001b[33mea615a9\u001b[m Eliminado archivo5.py\n",
            "* \u001b[33me3153a5\u001b[m Commit con los archivos 4 y 5\n",
            "* \u001b[33m0b09cfa\u001b[m A\u00f1adido .gitignore\n",
            "* \u001b[33m04ebd1f\u001b[m Commit con los archivos 1 y 2\n",
            "* \u001b[33mc4930d7\u001b[m Tercer commit, hola.py\n",
            "* \u001b[33m6e99e73\u001b[m Segundo commit, hola.py\n",
            "* \u001b[33m1c95e4f\u001b[m Primer commit, hola.py\n"
          ]
        }
      ],
      "source": [
        "!cd notebook_git && git log main --graph --oneline --decorate"
      ]
    },
    {
      "cell_type": "markdown",
      "metadata": {},
      "source": [
        "Agora vamos para a branch `main` para fazer o merge."
      ]
    },
    {
      "cell_type": "code",
      "execution_count": 170,
      "metadata": {},
      "outputs": [
        {
          "name": "stdout",
          "output_type": "stream",
          "text": [
            "Cambiado a rama 'main'\n"
          ]
        }
      ],
      "source": [
        "!cd notebook_git && git switch main"
      ]
    },
    {
      "attachments": {},
      "cell_type": "markdown",
      "metadata": {},
      "source": [
        "Fazemos o merge do tipo squash"
      ]
    },
    {
      "cell_type": "code",
      "execution_count": 171,
      "metadata": {},
      "outputs": [
        {
          "name": "stdout",
          "output_type": "stream",
          "text": [
            "Actualizando 274529c..85f8c9f\n",
            "Fast-forward\n",
            "Commit de aplastamiento -- no actualizando HEAD\n",
            " file1 | 0\n",
            " file2 | 0\n",
            " file3 | 0\n",
            " 3 files changed, 0 insertions(+), 0 deletions(-)\n",
            " delete mode 100644 file1\n",
            " delete mode 100644 file2\n",
            " delete mode 100644 file3\n"
          ]
        }
      ],
      "source": [
        "!cd notebook_git && git merge branch_squash --squash"
      ]
    },
    {
      "cell_type": "markdown",
      "metadata": {},
      "source": [
        "O merge foi feito, vamos ver o que aconteceu com o log na branch `main`"
      ]
    },
    {
      "cell_type": "code",
      "execution_count": 172,
      "metadata": {},
      "outputs": [
        {
          "name": "stdout",
          "output_type": "stream",
          "text": [
            "*   \u001b[33m274529c\u001b[m\u001b[33m (\u001b[m\u001b[1;36mHEAD -> \u001b[m\u001b[1;32mmain\u001b[m\u001b[33m)\u001b[m Merge branch 'branch_no_fast_forward' into main\n",
            "\u001b[31m|\u001b[m\u001b[32m\\\u001b[m  \n",
            "\u001b[31m|\u001b[m * \u001b[33m8df3429\u001b[m\u001b[33m (\u001b[m\u001b[1;32mbranch_no_fast_forward\u001b[m\u001b[33m)\u001b[m file2\n",
            "\u001b[31m|\u001b[m * \u001b[33me4e23c9\u001b[m file1\n",
            "* \u001b[32m|\u001b[m \u001b[33m8bdf4d8\u001b[m file3\n",
            "\u001b[32m|\u001b[m\u001b[32m/\u001b[m  \n",
            "* \u001b[33m94149fc\u001b[m\u001b[33m (\u001b[m\u001b[1;32mbranch_fast_forward\u001b[m\u001b[33m)\u001b[m Eliminado hola.py\n",
            "* \u001b[33m4484e70\u001b[m Eliminado archivo4.py\n",
            "* \u001b[33m564ccfb\u001b[m\u001b[33m (\u001b[m\u001b[1;32mnew_branch2\u001b[m\u001b[33m)\u001b[m Commit con el archivo 8\n",
            "* \u001b[33m5168f78\u001b[m Eliminado archivo7.py\n",
            "* \u001b[33m4bb9d75\u001b[m\u001b[33m (\u001b[m\u001b[1;32mnew_branch\u001b[m\u001b[33m)\u001b[m Commit con el archivo 7\n",
            "* \u001b[33mea615a9\u001b[m Eliminado archivo5.py\n",
            "* \u001b[33me3153a5\u001b[m Commit con los archivos 4 y 5\n",
            "* \u001b[33m0b09cfa\u001b[m A\u00f1adido .gitignore\n",
            "* \u001b[33m04ebd1f\u001b[m Commit con los archivos 1 y 2\n",
            "* \u001b[33mc4930d7\u001b[m Tercer commit, hola.py\n",
            "* \u001b[33m6e99e73\u001b[m Segundo commit, hola.py\n",
            "* \u001b[33m1c95e4f\u001b[m Primer commit, hola.py\n"
          ]
        }
      ],
      "source": [
        "!cd notebook_git && git log --graph --oneline --decorate"
      ]
    },
    {
      "attachments": {},
      "cell_type": "markdown",
      "metadata": {},
      "source": [
        "As altera\u00e7\u00f5es feitas n\u00e3o est\u00e3o aparecendo na branch, vamos fazer um `git status`"
      ]
    },
    {
      "cell_type": "code",
      "execution_count": 173,
      "metadata": {},
      "outputs": [
        {
          "name": "stdout",
          "output_type": "stream",
          "text": [
            "En la rama main\n",
            "Cambios a ser confirmados:\n",
            "  (usa \"git restore --staged <archivo>...\" para sacar del \u00e1rea de stage)\n",
            "\t\u001b[32mborrados:        file1\u001b[m\n",
            "\t\u001b[32mborrados:        file2\u001b[m\n",
            "\t\u001b[32mborrados:        file3\u001b[m\n",
            "\n"
          ]
        }
      ],
      "source": [
        "!cd notebook_git && git status"
      ]
    },
    {
      "attachments": {},
      "cell_type": "markdown",
      "metadata": {},
      "source": [
        "Vemos que temos que fazer o commit com a fus\u00e3o. Isso \u00e9 porque o git n\u00e3o sabe qual mensagem colocar e nos deixa fazer isso, ent\u00e3o o fazemos."
      ]
    },
    {
      "cell_type": "code",
      "execution_count": 174,
      "metadata": {},
      "outputs": [
        {
          "name": "stdout",
          "output_type": "stream",
          "text": [
            "[main 52acb97] Merge squash de los commits de la rama branch_squash\n",
            " 3 files changed, 0 insertions(+), 0 deletions(-)\n",
            " delete mode 100644 file1\n",
            " delete mode 100644 file2\n",
            " delete mode 100644 file3\n"
          ]
        }
      ],
      "source": [
        "!cd notebook_git && git commit -m \"Merge squash de los commits de la rama branch_squash\""
      ]
    },
    {
      "attachments": {},
      "cell_type": "markdown",
      "metadata": {},
      "source": [
        "Fazemos novamente um `git log`"
      ]
    },
    {
      "cell_type": "code",
      "execution_count": 175,
      "metadata": {},
      "outputs": [
        {
          "name": "stdout",
          "output_type": "stream",
          "text": [
            "* \u001b[33m52acb97\u001b[m\u001b[33m (\u001b[m\u001b[1;36mHEAD -> \u001b[m\u001b[1;32mmain\u001b[m\u001b[33m)\u001b[m Merge squash de los commits de la rama branch_squash\n",
            "*   \u001b[33m274529c\u001b[m Merge branch 'branch_no_fast_forward' into main\n",
            "\u001b[32m|\u001b[m\u001b[33m\\\u001b[m  \n",
            "\u001b[32m|\u001b[m * \u001b[33m8df3429\u001b[m\u001b[33m (\u001b[m\u001b[1;32mbranch_no_fast_forward\u001b[m\u001b[33m)\u001b[m file2\n",
            "\u001b[32m|\u001b[m * \u001b[33me4e23c9\u001b[m file1\n",
            "* \u001b[33m|\u001b[m \u001b[33m8bdf4d8\u001b[m file3\n",
            "\u001b[33m|\u001b[m\u001b[33m/\u001b[m  \n",
            "* \u001b[33m94149fc\u001b[m\u001b[33m (\u001b[m\u001b[1;32mbranch_fast_forward\u001b[m\u001b[33m)\u001b[m Eliminado hola.py\n",
            "* \u001b[33m4484e70\u001b[m Eliminado archivo4.py\n",
            "* \u001b[33m564ccfb\u001b[m\u001b[33m (\u001b[m\u001b[1;32mnew_branch2\u001b[m\u001b[33m)\u001b[m Commit con el archivo 8\n",
            "* \u001b[33m5168f78\u001b[m Eliminado archivo7.py\n",
            "* \u001b[33m4bb9d75\u001b[m\u001b[33m (\u001b[m\u001b[1;32mnew_branch\u001b[m\u001b[33m)\u001b[m Commit con el archivo 7\n",
            "* \u001b[33mea615a9\u001b[m Eliminado archivo5.py\n",
            "* \u001b[33me3153a5\u001b[m Commit con los archivos 4 y 5\n",
            "* \u001b[33m0b09cfa\u001b[m A\u00f1adido .gitignore\n",
            "* \u001b[33m04ebd1f\u001b[m Commit con los archivos 1 y 2\n",
            "* \u001b[33mc4930d7\u001b[m Tercer commit, hola.py\n",
            "* \u001b[33m6e99e73\u001b[m Segundo commit, hola.py\n",
            "* \u001b[33m1c95e4f\u001b[m Primer commit, hola.py\n"
          ]
        }
      ],
      "source": [
        "!cd notebook_git && git log --graph --oneline --decorate"
      ]
    },
    {
      "attachments": {},
      "cell_type": "markdown",
      "metadata": {},
      "source": [
        "### Conflitos ao mesclar"
      ]
    },
    {
      "attachments": {},
      "cell_type": "markdown",
      "metadata": {},
      "source": [
        "Quando branches s\u00e3o mescladas, pode acontecer que o mesmo arquivo tenha sido modificado em v\u00e1rias branches. Isso \u00e9 comum em projetos onde v\u00e1rias pessoas est\u00e3o desenvolvendo, ent\u00e3o vamos ver como resolver isso."
      ]
    },
    {
      "attachments": {},
      "cell_type": "markdown",
      "metadata": {},
      "source": [
        "#### Criamos um conflito"
      ]
    },
    {
      "attachments": {},
      "cell_type": "markdown",
      "metadata": {},
      "source": [
        "Verificamos que estamos na branch `main`"
      ]
    },
    {
      "cell_type": "code",
      "execution_count": 176,
      "metadata": {},
      "outputs": [
        {
          "name": "stdout",
          "output_type": "stream",
          "text": [
            "main\n"
          ]
        }
      ],
      "source": [
        "!cd notebook_git && git branch --show-current"
      ]
    },
    {
      "attachments": {},
      "cell_type": "markdown",
      "metadata": {},
      "source": [
        "Criamos uma nova branch a partir desta."
      ]
    },
    {
      "cell_type": "code",
      "execution_count": 177,
      "metadata": {},
      "outputs": [],
      "source": [
        "!cd notebook_git && git branch rama_con_conflicto"
      ]
    },
    {
      "attachments": {},
      "cell_type": "markdown",
      "metadata": {},
      "source": [
        "Adicionamos uma linha ao arquivo `arquivo1.py`, lembrando que estamos na branch `main`"
      ]
    },
    {
      "cell_type": "code",
      "execution_count": 178,
      "metadata": {},
      "outputs": [],
      "source": [
        "!cd notebook_git && echo \"print('rama main')\" >> archivo1.py"
      ]
    },
    {
      "cell_type": "code",
      "execution_count": 179,
      "metadata": {},
      "outputs": [
        {
          "name": "stdout",
          "output_type": "stream",
          "text": [
            "print('Este es el archivo 1')\n",
            "print('rama main')\n"
          ]
        }
      ],
      "source": [
        "!cd notebook_git && cat archivo1.py"
      ]
    },
    {
      "attachments": {},
      "cell_type": "markdown",
      "metadata": {},
      "source": [
        "`arquivo1.py` foi modificado, fazemos um commit"
      ]
    },
    {
      "cell_type": "code",
      "execution_count": 180,
      "metadata": {},
      "outputs": [
        {
          "name": "stdout",
          "output_type": "stream",
          "text": [
            "[main 53f909b] archivo1.py en rama main\n",
            " 1 file changed, 1 insertion(+)\n"
          ]
        }
      ],
      "source": [
        "!cd notebook_git && git add archivo1.py && git commit -m \"archivo1.py en rama main\""
      ]
    },
    {
      "attachments": {},
      "cell_type": "markdown",
      "metadata": {},
      "source": [
        "Agora vamos para o branch `rama_con_conflicto` e adicionamos uma nova linha a `archivo1.py`"
      ]
    },
    {
      "cell_type": "code",
      "execution_count": 181,
      "metadata": {},
      "outputs": [
        {
          "name": "stdout",
          "output_type": "stream",
          "text": [
            "Cambiado a rama 'rama_con_conflicto'\n"
          ]
        }
      ],
      "source": [
        "!cd notebook_git && git switch rama_con_conflicto"
      ]
    },
    {
      "cell_type": "code",
      "execution_count": 182,
      "metadata": {},
      "outputs": [
        {
          "name": "stdout",
          "output_type": "stream",
          "text": [
            "rama_con_conflicto\n"
          ]
        }
      ],
      "source": [
        "!cd notebook_git && git branch --show-current"
      ]
    },
    {
      "cell_type": "code",
      "execution_count": 183,
      "metadata": {},
      "outputs": [],
      "source": [
        "!cd notebook_git && echo \"print('rama rama_con_conflicto')\" >> archivo1.py"
      ]
    },
    {
      "cell_type": "code",
      "execution_count": 184,
      "metadata": {},
      "outputs": [
        {
          "name": "stdout",
          "output_type": "stream",
          "text": [
            "print('Este es el archivo 1')\n",
            "print('rama rama_con_conflicto')\n"
          ]
        }
      ],
      "source": [
        "!cd notebook_git && cat archivo1.py"
      ]
    },
    {
      "attachments": {},
      "cell_type": "markdown",
      "metadata": {},
      "source": [
        "Como vemos, `arquivo1.py` n\u00e3o \u00e9 igual na branch `main` e na branch `rama_con_conflicto`. Fazemos um commit com a modifica\u00e7\u00e3o de `arquivo1.py` na branch `rama_con_conflicto`."
      ]
    },
    {
      "cell_type": "code",
      "execution_count": 185,
      "metadata": {},
      "outputs": [
        {
          "name": "stdout",
          "output_type": "stream",
          "text": [
            "[rama_con_conflicto 32851c3] archivo1.py en rama rama_con_conflicto\n",
            " 1 file changed, 1 insertion(+)\n"
          ]
        }
      ],
      "source": [
        "!cd notebook_git && git add archivo1.py && git commit -m \"archivo1.py en rama rama_con_conflicto\""
      ]
    },
    {
      "attachments": {},
      "cell_type": "markdown",
      "metadata": {},
      "source": [
        "Voltamos para o branch `main`"
      ]
    },
    {
      "cell_type": "code",
      "execution_count": 186,
      "metadata": {},
      "outputs": [
        {
          "name": "stdout",
          "output_type": "stream",
          "text": [
            "Cambiado a rama 'main'\n"
          ]
        }
      ],
      "source": [
        "!cd notebook_git && git switch main"
      ]
    },
    {
      "cell_type": "code",
      "execution_count": 187,
      "metadata": {},
      "outputs": [
        {
          "name": "stdout",
          "output_type": "stream",
          "text": [
            "main\n"
          ]
        }
      ],
      "source": [
        "!cd notebook_git && git branch --show-current"
      ]
    },
    {
      "attachments": {},
      "cell_type": "markdown",
      "metadata": {},
      "source": [
        "Fazemos um merge da branch `rama_con_conflicto`"
      ]
    },
    {
      "cell_type": "code",
      "execution_count": 188,
      "metadata": {},
      "outputs": [
        {
          "name": "stdout",
          "output_type": "stream",
          "text": [
            "Auto-fusionando archivo1.py\n",
            "CONFLICTO (contenido): Conflicto de fusi\u00f3n en archivo1.py\n",
            "Fusi\u00f3n autom\u00e1tica fall\u00f3; arregle los conflictos y luego realice un commit con el resultado.\n"
          ]
        }
      ],
      "source": [
        "!cd notebook_git && git merge rama_con_conflicto"
      ]
    },
    {
      "attachments": {},
      "cell_type": "markdown",
      "metadata": {},
      "source": [
        "Ao fazer o merge, j\u00e1 somos avisados de que h\u00e1 um conflito em `archivo1.py` e que n\u00e3o foi poss\u00edvel realizar o merge. Fazemos um `git status`"
      ]
    },
    {
      "cell_type": "code",
      "execution_count": 189,
      "metadata": {},
      "outputs": [
        {
          "name": "stdout",
          "output_type": "stream",
          "text": [
            "En la rama main\n",
            "Tienes rutas no fusionadas.\n",
            "  (arregla los conflictos y ejecuta \"git commit\"\n",
            "  (usa \"git merge --abort\" para abortar la fusion)\n",
            "\n",
            "Rutas no fusionadas:\n",
            "  (usa \"git add <archivo>...\" para marcar una resoluci\u00f3n)\n",
            "\t\u001b[31mmodificados por ambos:  archivo1.py\u001b[m\n",
            "\n",
            "sin cambios agregados al commit (usa \"git add\" y/o \"git commit -a\")\n"
          ]
        }
      ],
      "source": [
        "!cd notebook_git && git status"
      ]
    },
    {
      "attachments": {},
      "cell_type": "markdown",
      "metadata": {},
      "source": [
        "Diz-nos o mesmo, mas nos d\u00e1 mais informa\u00e7\u00f5es, diz-nos que podemos abortar a fus\u00e3o com `git merge --abort`. Mas em vez disso, vamos resolv\u00ea-lo."
      ]
    },
    {
      "attachments": {},
      "cell_type": "markdown",
      "metadata": {},
      "source": [
        "#### Resolver um conflito"
      ]
    },
    {
      "attachments": {},
      "cell_type": "markdown",
      "metadata": {},
      "source": [
        "No nosso caso, sabemos onde est\u00e1 o problema, mas em caso de n\u00e3o saber, atrav\u00e9s do `git diff` podemos encontrar o problema."
      ]
    },
    {
      "cell_type": "code",
      "execution_count": 190,
      "metadata": {},
      "outputs": [
        {
          "name": "stdout",
          "output_type": "stream",
          "text": [
            "\u001b[1mdiff --cc archivo1.py\u001b[m\n",
            "\u001b[1mindex 8b4bf58,b5c003c..0000000\u001b[m\n",
            "\u001b[1m--- a/archivo1.py\u001b[m\n",
            "\u001b[1m+++ b/archivo1.py\u001b[m\n",
            "\u001b[36m@@@ -1,2 -1,2 +1,6 @@@\u001b[m\n",
            "  print('Este es el archivo 1')\u001b[m\n",
            "\u001b[32m++<<<<<<< HEAD\u001b[m\n",
            "\u001b[32m +print('rama main')\u001b[m\n",
            "\u001b[32m++=======\u001b[m\n",
            "\u001b[32m+ print('rama rama_con_conflicto')\u001b[m\n",
            "\u001b[32m++>>>>>>> rama_con_conflicto\u001b[m\n"
          ]
        }
      ],
      "source": [
        "!cd notebook_git && git diff archivo1.py"
      ]
    },
    {
      "attachments": {},
      "cell_type": "markdown",
      "metadata": {},
      "source": [
        "`git diff` est\u00e1 nos dizendo que o problema est\u00e1 na \u00faltima linha. A vers\u00e3o do arquivo da branch `HEAD` (na qual estamos atualmente `main`) tem `print('rama main')` na \u00faltima linha, enquanto a vers\u00e3o da branch `rama_con_conflicto` tem `print('rama rama_con_conflicto')` na \u00faltima linha. Ent\u00e3o, \u00e9 preciso abrir o arquivo com qualquer editor e resolver isso."
      ]
    },
    {
      "attachments": {},
      "cell_type": "markdown",
      "metadata": {},
      "source": [
        "Ap\u00f3s editar o arquivo com meu editor de c\u00f3digo, removi todas as linhas desnecess\u00e1rias e ficou assim"
      ]
    },
    {
      "cell_type": "code",
      "execution_count": 192,
      "metadata": {},
      "outputs": [
        {
          "name": "stdout",
          "output_type": "stream",
          "text": [
            "print('Este es el archivo 1')\n",
            "print('rama main')"
          ]
        }
      ],
      "source": [
        "!cd notebook_git && cat archivo1.py"
      ]
    },
    {
      "attachments": {},
      "cell_type": "markdown",
      "metadata": {},
      "source": [
        "Agora fazemos um `git status` para ver o que temos a fazer"
      ]
    },
    {
      "cell_type": "code",
      "execution_count": 193,
      "metadata": {},
      "outputs": [
        {
          "name": "stdout",
          "output_type": "stream",
          "text": [
            "En la rama main\n",
            "Tienes rutas no fusionadas.\n",
            "  (arregla los conflictos y ejecuta \"git commit\"\n",
            "  (usa \"git merge --abort\" para abortar la fusion)\n",
            "\n",
            "Rutas no fusionadas:\n",
            "  (usa \"git add <archivo>...\" para marcar una resoluci\u00f3n)\n",
            "\t\u001b[31mmodificados por ambos:  archivo1.py\u001b[m\n",
            "\n",
            "sin cambios agregados al commit (usa \"git add\" y/o \"git commit -a\")\n"
          ]
        }
      ],
      "source": [
        "!cd notebook_git && git status"
      ]
    },
    {
      "attachments": {},
      "cell_type": "markdown",
      "metadata": {},
      "source": [
        "Diz que temos o arquivo `arquivo1.py` com modifica\u00e7\u00f5es, portanto o adicionamos \u00e0 \u00e1rea de `staged` e depois fazemos um commit."
      ]
    },
    {
      "cell_type": "code",
      "execution_count": 194,
      "metadata": {},
      "outputs": [
        {
          "name": "stdout",
          "output_type": "stream",
          "text": [
            "[main 679bb49] archivo1.py con el merge resuelto\n"
          ]
        }
      ],
      "source": [
        "!cd notebook_git && git add archivo1.py && git commit -m \"archivo1.py con el merge resuelto\""
      ]
    },
    {
      "attachments": {},
      "cell_type": "markdown",
      "metadata": {},
      "source": [
        "Voltamos a fazer um `git status` para ver se foi resolvido."
      ]
    },
    {
      "cell_type": "code",
      "execution_count": 195,
      "metadata": {},
      "outputs": [
        {
          "name": "stdout",
          "output_type": "stream",
          "text": [
            "En la rama main\n",
            "nada para hacer commit, el \u00e1rbol de trabajo est\u00e1 limpio\n"
          ]
        }
      ],
      "source": [
        "!cd notebook_git && git status"
      ]
    },
    {
      "attachments": {},
      "cell_type": "markdown",
      "metadata": {},
      "source": [
        "Parece que foi resolvido, fazemos um `git log` para verificar."
      ]
    },
    {
      "cell_type": "code",
      "execution_count": 196,
      "metadata": {},
      "outputs": [
        {
          "name": "stdout",
          "output_type": "stream",
          "text": [
            "*   \u001b[33m679bb49\u001b[m\u001b[33m (\u001b[m\u001b[1;36mHEAD -> \u001b[m\u001b[1;32mmain\u001b[m\u001b[33m)\u001b[m archivo1.py con el merge resuelto\n",
            "\u001b[31m|\u001b[m\u001b[32m\\\u001b[m  \n",
            "\u001b[31m|\u001b[m * \u001b[33m32851c3\u001b[m\u001b[33m (\u001b[m\u001b[1;32mrama_con_conflicto\u001b[m\u001b[33m)\u001b[m archivo1.py en rama rama_con_conflicto\n",
            "* \u001b[32m|\u001b[m \u001b[33m53f909b\u001b[m archivo1.py en rama main\n",
            "\u001b[32m|\u001b[m\u001b[32m/\u001b[m  \n",
            "* \u001b[33m52acb97\u001b[m Merge squash de los commits de la rama branch_squash\n",
            "*   \u001b[33m274529c\u001b[m Merge branch 'branch_no_fast_forward' into main\n",
            "\u001b[33m|\u001b[m\u001b[34m\\\u001b[m  \n",
            "\u001b[33m|\u001b[m * \u001b[33m8df3429\u001b[m\u001b[33m (\u001b[m\u001b[1;32mbranch_no_fast_forward\u001b[m\u001b[33m)\u001b[m file2\n",
            "\u001b[33m|\u001b[m * \u001b[33me4e23c9\u001b[m file1\n",
            "* \u001b[34m|\u001b[m \u001b[33m8bdf4d8\u001b[m file3\n",
            "\u001b[34m|\u001b[m\u001b[34m/\u001b[m  \n",
            "* \u001b[33m94149fc\u001b[m\u001b[33m (\u001b[m\u001b[1;32mbranch_fast_forward\u001b[m\u001b[33m)\u001b[m Eliminado hola.py\n",
            "* \u001b[33m4484e70\u001b[m Eliminado archivo4.py\n",
            "* \u001b[33m564ccfb\u001b[m\u001b[33m (\u001b[m\u001b[1;32mnew_branch2\u001b[m\u001b[33m)\u001b[m Commit con el archivo 8\n",
            "* \u001b[33m5168f78\u001b[m Eliminado archivo7.py\n",
            "* \u001b[33m4bb9d75\u001b[m\u001b[33m (\u001b[m\u001b[1;32mnew_branch\u001b[m\u001b[33m)\u001b[m Commit con el archivo 7\n",
            "* \u001b[33mea615a9\u001b[m Eliminado archivo5.py\n",
            "* \u001b[33me3153a5\u001b[m Commit con los archivos 4 y 5\n",
            "* \u001b[33m0b09cfa\u001b[m A\u00f1adido .gitignore\n",
            "* \u001b[33m04ebd1f\u001b[m Commit con los archivos 1 y 2\n",
            "* \u001b[33mc4930d7\u001b[m Tercer commit, hola.py\n",
            "* \u001b[33m6e99e73\u001b[m Segundo commit, hola.py\n",
            "* \u001b[33m1c95e4f\u001b[m Primer commit, hola.py\n"
          ]
        }
      ],
      "source": [
        "!cd notebook_git && git log --graph --oneline --decorate"
      ]
    },
    {
      "attachments": {},
      "cell_type": "markdown",
      "metadata": {},
      "source": [
        "### Remover ramos"
      ]
    },
    {
      "attachments": {},
      "cell_type": "markdown",
      "metadata": {},
      "source": [
        "A ideia de uma branch \u00e9 abri-la para desenvolver uma nova funcionalidade ou caracter\u00edstica de maneira que n\u00e3o afete o resto da equipe de desenvolvimento. Portanto, quando isso for alcan\u00e7ado, ela \u00e9 mesclada com a branch principal. Assim, ap\u00f3s a fus\u00e3o, j\u00e1 n\u00e3o faz sentido manter a branch, ent\u00e3o ela deve ser exclu\u00edda, mas isso ser\u00e1 feito de uma maneira diferente se a branch foi ou n\u00e3o mesclada com a principal."
      ]
    },
    {
      "attachments": {},
      "cell_type": "markdown",
      "metadata": {},
      "source": [
        "#### Excluir branches mescladas (`git branch -d <branch>`)"
      ]
    },
    {
      "attachments": {},
      "cell_type": "markdown",
      "metadata": {},
      "source": [
        "Para eliminar uma ramifica\u00e7\u00e3o que j\u00e1 foi mesclada com a principal, basta fazer `git branch -d <rama>` ou `git branch --delete <rama>`. Vamos eliminar a \u00faltima ramifica\u00e7\u00e3o que criamos e mesclamos."
      ]
    },
    {
      "cell_type": "code",
      "execution_count": 197,
      "metadata": {},
      "outputs": [
        {
          "name": "stdout",
          "output_type": "stream",
          "text": [
            "Eliminada la rama rama_con_conflicto (era 32851c3).\n"
          ]
        }
      ],
      "source": [
        "!cd notebook_git && git branch -d rama_con_conflicto"
      ]
    },
    {
      "attachments": {},
      "cell_type": "markdown",
      "metadata": {},
      "source": [
        "Se agora listarmos todas as branches, podemos ver que j\u00e1 n\u00e3o teremos `rama_con_conflicto`"
      ]
    },
    {
      "cell_type": "code",
      "execution_count": 198,
      "metadata": {},
      "outputs": [
        {
          "name": "stdout",
          "output_type": "stream",
          "text": [
            "  branch_fast_forward\u001b[m\n",
            "  branch_no_fast_forward\u001b[m\n",
            "  branch_squash\u001b[m\n",
            "* \u001b[32mmain\u001b[m\n",
            "  new_branch\u001b[m\n",
            "  new_branch2\u001b[m\n"
          ]
        }
      ],
      "source": [
        "!cd notebook_git && git branch"
      ]
    },
    {
      "attachments": {},
      "cell_type": "markdown",
      "metadata": {},
      "source": [
        "#### Excluir branches que n\u00e3o foram mesclados com a branch principal (`git branch -D <branch>`)"
      ]
    },
    {
      "attachments": {},
      "cell_type": "markdown",
      "metadata": {},
      "source": [
        "Se tentarmos fazer o mesmo que antes com uma branch que nunca foi mesclada com outra, obteremos um erro"
      ]
    },
    {
      "attachments": {},
      "cell_type": "markdown",
      "metadata": {},
      "source": [
        "Vamos a criar uma nova branch, vamos fazer um commit e n\u00e3o vamos mescl\u00e1-la."
      ]
    },
    {
      "cell_type": "code",
      "execution_count": 199,
      "metadata": {},
      "outputs": [],
      "source": [
        "!cd notebook_git && git branch branch_sin_fusion"
      ]
    },
    {
      "cell_type": "code",
      "execution_count": 200,
      "metadata": {},
      "outputs": [
        {
          "name": "stdout",
          "output_type": "stream",
          "text": [
            "Cambiado a rama 'branch_sin_fusion'\n"
          ]
        }
      ],
      "source": [
        "!cd notebook_git && git switch branch_sin_fusion"
      ]
    },
    {
      "cell_type": "code",
      "execution_count": 201,
      "metadata": {},
      "outputs": [
        {
          "name": "stdout",
          "output_type": "stream",
          "text": [
            "[branch_sin_fusion 9506b0a] file4\n",
            " 1 file changed, 0 insertions(+), 0 deletions(-)\n",
            " create mode 100644 file4\n"
          ]
        }
      ],
      "source": [
        "!cd notebook_git && touch file4 && git add file4 && git commit -m \"file4\""
      ]
    },
    {
      "cell_type": "code",
      "execution_count": 202,
      "metadata": {},
      "outputs": [
        {
          "name": "stdout",
          "output_type": "stream",
          "text": [
            "Cambiado a rama 'main'\n"
          ]
        }
      ],
      "source": [
        "!cd notebook_git && git switch main"
      ]
    },
    {
      "attachments": {},
      "cell_type": "markdown",
      "metadata": {},
      "source": [
        "Com tudo o que aprendemos at\u00e9 agora, podemos ver que o que fizemos foi criar uma nova branch, mudar para ela, criar um novo arquivo, fazer um commit e voltar para a branch `main`. Agora vamos tentar deletar essa nova branch."
      ]
    },
    {
      "cell_type": "code",
      "execution_count": 203,
      "metadata": {},
      "outputs": [
        {
          "name": "stdout",
          "output_type": "stream",
          "text": [
            "error: La rama 'branch_sin_fusion' no ha sido fusionada completamente.\n",
            "Si est\u00e1s seguro de querer borrarla, ejecuta 'git branch -D branch_sin_fusion'.\n"
          ]
        }
      ],
      "source": [
        "!cd notebook_git && git branch -d branch_sin_fusion"
      ]
    },
    {
      "attachments": {},
      "cell_type": "markdown",
      "metadata": {},
      "source": [
        "Como vemos, nos diz que `branch_sem_fusao` n\u00e3o foi mesclada e, portanto, n\u00e3o foi exclu\u00edda. Se temos certeza de querer exclu\u00ed-la, precisamos fazer `git branch -D branch_sem_fusao`, ent\u00e3o o fazemos para exclu\u00ed-la."
      ]
    },
    {
      "cell_type": "code",
      "execution_count": 204,
      "metadata": {},
      "outputs": [
        {
          "name": "stdout",
          "output_type": "stream",
          "text": [
            "Eliminada la rama branch_sin_fusion (era 9506b0a).\n"
          ]
        }
      ],
      "source": [
        "!cd notebook_git && git branch -D branch_sin_fusion"
      ]
    },
    {
      "attachments": {},
      "cell_type": "markdown",
      "metadata": {},
      "source": [
        "Agora sim, foi removido."
      ]
    },
    {
      "attachments": {},
      "cell_type": "markdown",
      "metadata": {},
      "source": [
        "## Trabalhando com reposit\u00f3rios remotos"
      ]
    },
    {
      "attachments": {},
      "cell_type": "markdown",
      "metadata": {},
      "source": [
        "Quando desenvolvemos software, geralmente n\u00e3o o fazemos sozinhos, mas trabalhamos em equipe. Por isso, n\u00e3o faz sentido ter um reposit\u00f3rio local do Git; \u00e9 melhor ter um reposit\u00f3rio remoto com o qual todos possam trabalhar e compartilhar os avan\u00e7os.",
        "\n",
        "> Nota: O objetivo deste post \u00e9 explicar git. Para a conex\u00e3o com reposit\u00f3rios remotos vou explic\u00e1-lo usando o GitHub, pois \u00e9 o servi\u00e7o de hospedagem de reposit\u00f3rios git mais utilizado, mas n\u00e3o vou aprofundar no GitHub."
      ]
    },
    {
      "attachments": {},
      "cell_type": "markdown",
      "metadata": {},
      "source": [
        "### Clonar um reposit\u00f3rio remoto (`git clone <reposit\u00f3rio>`)"
      ]
    },
    {
      "attachments": {},
      "cell_type": "markdown",
      "metadata": {},
      "source": [
        "Se come\u00e7armos a trabalhar em um reposit\u00f3rio que j\u00e1 foi criado, o primeiro passo \u00e9 clon\u00e1-lo. Para isso, usamos `git clone <repositorio>`, onde `<repositorio>` pode ser uma URL ou um endere\u00e7o SSH. Como atualmente os grandes modelos de linguagem e o ChatGPT est\u00e3o muito em voga, vamos clonar um reposit\u00f3rio opensource criado pela comunidade, [Open-Assistant](https://github.com/LAION-AI/Open-Assistant), para isso faremos `git clone https://github.com/LAION-AI/Open-Assistant`"
      ]
    },
    {
      "cell_type": "code",
      "execution_count": 11,
      "metadata": {},
      "outputs": [
        {
          "name": "stdout",
          "output_type": "stream",
          "text": [
            "Clonando en 'Open-Assistant'...\n",
            "remote: Enumerating objects: 29769, done.\u001b[K\n",
            "remote: Counting objects: 100% (673/673), done.\u001b[K\n",
            "remote: Compressing objects: 100% (310/310), done.\u001b[K\n",
            "remote: Total 29769 (delta 398), reused 577 (delta 354), pack-reused 29096\u001b[K\n",
            "Recibiendo objetos: 100% (29769/29769), 33.61 MiB | 29.29 MiB/s, listo.\n",
            "Resolviendo deltas: 100% (19967/19967), listo.\n"
          ]
        }
      ],
      "source": [
        "!git clone https://github.com/LAION-AI/Open-Assistant.git"
      ]
    },
    {
      "attachments": {},
      "cell_type": "markdown",
      "metadata": {},
      "source": [
        "Isso cria a pasta `Open-Assistant` com todo o c\u00f3digo do reposit\u00f3rio, podemos entrar dentro e ver todo o c\u00f3digo."
      ]
    },
    {
      "cell_type": "code",
      "execution_count": 13,
      "metadata": {},
      "outputs": [
        {
          "name": "stdout",
          "output_type": "stream",
          "text": [
            "ansible\t\t deploy\t\t      model\t      safety\n",
            "assets\t\t discord-bots\t      notebooks       scripts\n",
            "backend\t\t docker\t\t      oasst-data      setup.cfg\n",
            "CODEOWNERS\t docker-compose.yaml  oasst-shared    text-frontend\n",
            "CONTRIBUTING.md  docs\t\t      pyproject.toml  website\n",
            "copilot\t\t inference\t      README.md\n",
            "data\t\t LICENSE\t      redis.conf\n"
          ]
        }
      ],
      "source": [
        "!cd Open-Assistant && ls"
      ]
    },
    {
      "attachments": {},
      "cell_type": "markdown",
      "metadata": {},
      "source": [
        "Excluo a pasta"
      ]
    },
    {
      "cell_type": "code",
      "execution_count": null,
      "metadata": {},
      "outputs": [],
      "source": [
        "!rm -r Open-Assistant"
      ]
    },
    {
      "attachments": {},
      "cell_type": "markdown",
      "metadata": {},
      "source": [
        "### Vincular um reposit\u00f3rio local a um remoto"
      ]
    },
    {
      "attachments": {},
      "cell_type": "markdown",
      "metadata": {},
      "source": [
        "Se ocorrer o contr\u00e1rio, se primeiro come\u00e7armos a desenvolver localmente e depois quisermos sincroniz\u00e1-lo com um reposit\u00f3rio remoto, temos que fazer o seguinte",
        "\n",
        "* Primeiro crie um reposit\u00f3rio remoto vazio, no meu caso criei o reposit\u00f3rio `notebook_git` no GitHub que deletarei mais tarde",
        "* Obter a URL do reposit\u00f3rio ou endere\u00e7o SSH",
        "* Sincroniz\u00e1-los atrav\u00e9s de `git remote add origin <URL>`",
        "\n",
        "O reposit\u00f3rio vazio que criei no GitHub parece assim",
        "\n",
        "![notebook git repo](https://pub-fb664c455eca46a2ba762a065ac900f7.r2.dev/notebook_git_repo.webp)",
        "\n",
        "No meu caso, vou usar o endere\u00e7o SSH que \u00e9 `git@github.com:maximofn/notebook_git.git`"
      ]
    },
    {
      "cell_type": "code",
      "execution_count": 205,
      "metadata": {},
      "outputs": [],
      "source": [
        "!cd notebook_git && git remote add origin git@github.com:maximofn/notebook_git.git"
      ]
    },
    {
      "attachments": {},
      "cell_type": "markdown",
      "metadata": {},
      "source": [
        "J\u00e1 est\u00e3o vinculados, mas para garantir podemos fazer `git remote -v`"
      ]
    },
    {
      "cell_type": "code",
      "execution_count": 206,
      "metadata": {},
      "outputs": [
        {
          "name": "stdout",
          "output_type": "stream",
          "text": [
            "origin\tgit@github.com:maximofn/notebook_git.git (fetch)\n",
            "origin\tgit@github.com:maximofn/notebook_git.git (push)\n"
          ]
        }
      ],
      "source": [
        "!cd notebook_git && git remote -v"
      ]
    },
    {
      "attachments": {},
      "cell_type": "markdown",
      "metadata": {},
      "source": [
        "### Enviar as altera\u00e7\u00f5es de um reposit\u00f3rio local para um reposit\u00f3rio remoto (`git push`)"
      ]
    },
    {
      "attachments": {},
      "cell_type": "markdown",
      "metadata": {},
      "source": [
        "Como dissem, eles est\u00e3o vinculados, mas se eu for ao meu reposit\u00f3rio no GitHub, ainda parece assim",
        "\n",
        "![notebook git repo](https://pub-fb664c455eca46a2ba762a065ac900f7.r2.dev/notebook_git_repo.webp)",
        "\n",
        "Est\u00e3o vinculados o reposit\u00f3rio local e o remoto, mas agora \u00e9 necess\u00e1rio enviar todas as altera\u00e7\u00f5es do reposit\u00f3rio local para o remoto. Para isso, seria necess\u00e1rio usar `git push origin <rama local>:<rama remota>`, ou seja, como nossa ramo principal se chama `main` e a ramo principal no GitHub se chama `main`, seria necess\u00e1rio fazer `git push origin main:main`.",
        "Se voc\u00ea se lembra, o Git por padr\u00e3o chamava a branch principal de `master`, mas o GitHub chama por padr\u00e3o a branch principal de `main`. Portanto, se cada pessoa nomear suas branches no reposit\u00f3rio local de maneira diferente, \u00e9 necess\u00e1rio especificar qual branch local escreve em qual branch remota."
      ]
    },
    {
      "attachments": {},
      "cell_type": "markdown",
      "metadata": {},
      "source": [
        "Pode configurar a conex\u00e3o padr\u00e3o entre branches no git, para isso \u00e9 necess\u00e1rio fazer `git push --set-upstream origin main`. Isso estabelece uma rela\u00e7\u00e3o entre a branch local `main` e a branch remota `main`. Uma vez feita essa rela\u00e7\u00e3o, basta fazer `git push` para enviar as altera\u00e7\u00f5es feitas localmente para o servidor remoto.",
        "\n",
        "Ent\u00e3o estabelecemos a conex\u00e3o entre as branches."
      ]
    },
    {
      "cell_type": "code",
      "execution_count": 207,
      "metadata": {},
      "outputs": [
        {
          "name": "stdout",
          "output_type": "stream",
          "text": [
            "Enumerando objetos: 51, listo.\n",
            "Contando objetos: 100% (51/51), listo.\n",
            "Compresi\u00f3n delta usando hasta 12 hilos\n",
            "Comprimiendo objetos: 100% (38/38), listo.\n",
            "Escribiendo objetos: 100% (51/51), 4.21 KiB | 2.11 MiB/s, listo.\n",
            "Total 51 (delta 18), reusado 0 (delta 0)\n",
            "remote: Resolving deltas: 100% (18/18), done.\u001b[K\n",
            "To github.com:maximofn/notebook_git.git\n",
            " * [new branch]      main -> main\n",
            "Rama 'main' configurada para hacer seguimiento a la rama remota 'main' de 'origin'.\n"
          ]
        }
      ],
      "source": [
        "!cd notebook_git && git push --set-upstream origin main"
      ]
    },
    {
      "attachments": {},
      "cell_type": "markdown",
      "metadata": {},
      "source": [
        "Agora podemos fazer apenas `git push` para enviar as altera\u00e7\u00f5es locais ao reposit\u00f3rio remoto."
      ]
    },
    {
      "cell_type": "code",
      "execution_count": 208,
      "metadata": {},
      "outputs": [
        {
          "name": "stdout",
          "output_type": "stream",
          "text": [
            "Everything up-to-date\n"
          ]
        }
      ],
      "source": [
        "!cd notebook_git && git push"
      ]
    },
    {
      "attachments": {},
      "cell_type": "markdown",
      "metadata": {},
      "source": [
        "Se agora voltarmos ao nosso reposit\u00f3rio do GitHub, ele parece assim",
        "\n",
        "![notebook git repo push](https://pub-fb664c455eca46a2ba762a065ac900f7.r2.dev/notebook_git_repo_push.webp)"
      ]
    },
    {
      "attachments": {},
      "cell_type": "markdown",
      "metadata": {},
      "source": [
        "Se fizermos um `ls` no nosso reposit\u00f3rio local, poderemos ver que os arquivos que temos no reposit\u00f3rio remoto tamb\u00e9m est\u00e3o presentes no reposit\u00f3rio local, ou seja, sincronizamos o reposit\u00f3rio local e remoto."
      ]
    },
    {
      "cell_type": "code",
      "execution_count": 209,
      "metadata": {},
      "outputs": [
        {
          "name": "stdout",
          "output_type": "stream",
          "text": [
            ".  ..  api_keys.py  archivo1.py  archivo2.py  archivo8.py  .git  .gitignore\n"
          ]
        }
      ],
      "source": [
        "!cd notebook_git && ls -a"
      ]
    },
    {
      "attachments": {},
      "cell_type": "markdown",
      "metadata": {},
      "source": [
        "Os \u00fanicos que n\u00e3o est\u00e3o no reposit\u00f3rio remoto s\u00e3o `api_keys.py`, que \u00e9 o que adicionamos ao arquivo `.gitignore`, ou seja, o que dissemos ao git para n\u00e3o seguir. E `.git` que \u00e9 onde est\u00e1 a configura\u00e7\u00e3o do nosso reposit\u00f3rio local e que n\u00e3o deve ser enviado ao reposit\u00f3rio remoto, porque cada pessoa ter\u00e1 sua pr\u00f3pria configura\u00e7\u00e3o de git e, portanto, n\u00e3o deve ser sincronizada."
      ]
    },
    {
      "attachments": {},
      "cell_type": "markdown",
      "metadata": {},
      "source": [
        "### Baixar as altera\u00e7\u00f5es de um reposit\u00f3rio remoto para um reposit\u00f3rio local (`git pull`)"
      ]
    },
    {
      "attachments": {},
      "cell_type": "markdown",
      "metadata": {},
      "source": [
        "Agora vamos a fazer ao contr\u00e1rio, vamos baixar as novas altera\u00e7\u00f5es que tenham sido feitas no reposit\u00f3rio remoto. Se observarmos como est\u00e1 o reposit\u00f3rio remoto, poderemos ver que h\u00e1 um bot\u00e3o que diz `Add a README`, ent\u00e3o clicamos para adicion\u00e1-lo.",
        "\n",
        "![notebook git repo push](https://pub-fb664c455eca46a2ba762a065ac900f7.r2.dev/notebook_git_repo_push.webp)"
      ]
    },
    {
      "attachments": {},
      "cell_type": "markdown",
      "metadata": {},
      "source": [
        "Ao clicar, ser\u00e1 aberto um editor, deixamos o que o GitHub colocou e salvamos as altera\u00e7\u00f5es clicando no bot\u00e3o de `Commit changes...`",
        "\n",
        "![noteboot git repo readme](https://pub-fb664c455eca46a2ba762a065ac900f7.r2.dev/notebook_git_repo_readme.webp)",
        "\n",
        "Nos sair\u00e1 uma janela na qual nos ser\u00e1 pedido uma mensagem de commit, deixamos a que vem por padr\u00e3o e clicamos em `Commit changes`",
        "\n",
        "![notebook git repo commit message](https://pub-fb664c455eca46a2ba762a065ac900f7.r2.dev/notebook_git_repo_commit_message.webp)",
        "\n",
        "Ao fazer isso, o reposit\u00f3rio ficar\u00e1 assim",
        "\n",
        "![notebook git repo pull](https://pub-fb664c455eca46a2ba762a065ac900f7.r2.dev/notebook_git_repo_pull.webp)",
        "\n",
        "Foi criado um novo arquivo chamado `README.md`, mas se fizermos `ls` no reposit\u00f3rio local, n\u00e3o o encontraremos."
      ]
    },
    {
      "cell_type": "code",
      "execution_count": 10,
      "metadata": {},
      "outputs": [],
      "source": [
        "!cd notebook_git && ls | grep README"
      ]
    },
    {
      "attachments": {},
      "cell_type": "markdown",
      "metadata": {},
      "source": [
        "Ent\u00e3o, temos que trazer as altera\u00e7\u00f5es do reposit\u00f3rio remoto para o local. Para isso, precisamos fazer `git pull origin <rama remota>` para informar ao Git sobre qual ramo remoto vamos trazer os dados. Da mesma forma que antes, podemos estabelecer uma rela\u00e7\u00e3o entre o ramo remoto e o ramo local da seguinte maneira: `git branch --set-upstream-to=origin/<rama local> <rama remota>`. Como nossa rama local se chama `main` e a rama remota do GitHub tamb\u00e9m se chama `main`, ter\u00edamos que alterar o anterior para `git branch --set-upstream-to=origin/main main`.",
        "\n",
        "Uma vez feito isso, para baixar as novas altera\u00e7\u00f5es do reposit\u00f3rio remoto para o local, basta fazer `git pull`"
      ]
    },
    {
      "attachments": {},
      "cell_type": "markdown",
      "metadata": {},
      "source": [
        "Vamos a estabelecer a rela\u00e7\u00e3o entre as branches com `git branch --set-upstream-to=origin/main main`"
      ]
    },
    {
      "cell_type": "code",
      "execution_count": 210,
      "metadata": {},
      "outputs": [
        {
          "name": "stdout",
          "output_type": "stream",
          "text": [
            "Rama 'main' configurada para hacer seguimiento a la rama remota 'main' de 'origin'.\n"
          ]
        }
      ],
      "source": [
        "!cd notebook_git && git branch --set-upstream-to=origin/main main"
      ]
    },
    {
      "attachments": {},
      "cell_type": "markdown",
      "metadata": {},
      "source": [
        "Agora podemos trazer as altera\u00e7\u00f5es do reposit\u00f3rio remoto para o reposit\u00f3rio local com `git pull`"
      ]
    },
    {
      "cell_type": "code",
      "execution_count": 211,
      "metadata": {},
      "outputs": [
        {
          "name": "stdout",
          "output_type": "stream",
          "text": [
            "remote: Enumerating objects: 4, done.\u001b[K\n",
            "remote: Counting objects: 100% (4/4), done.\u001b[K\n",
            "remote: Compressing objects: 100% (2/2), done.\u001b[K\n",
            "remote: Total 3 (delta 1), reused 0 (delta 0), pack-reused 0\u001b[K\n",
            "Desempaquetando objetos: 100% (3/3), 646 bytes | 646.00 KiB/s, listo.\n",
            "Desde github.com:maximofn/notebook_git\n",
            "   679bb49..527e07a  main       -> origin/main\n",
            "Actualizando 679bb49..527e07a\n",
            "Fast-forward\n",
            " README.md | 1 \u001b[32m+\u001b[m\n",
            " 1 file changed, 1 insertion(+)\n",
            " create mode 100644 README.md\n"
          ]
        }
      ],
      "source": [
        "!cd notebook_git && git pull"
      ]
    },
    {
      "attachments": {},
      "cell_type": "markdown",
      "metadata": {},
      "source": [
        "Como vemos, diz que foi adicionado `README.md`, verificamos isso fazendo `ls`"
      ]
    },
    {
      "cell_type": "code",
      "execution_count": 212,
      "metadata": {},
      "outputs": [
        {
          "name": "stdout",
          "output_type": "stream",
          "text": [
            "README.md\n"
          ]
        }
      ],
      "source": [
        "!cd notebook_git && ls | grep README"
      ]
    },
    {
      "attachments": {},
      "cell_type": "markdown",
      "metadata": {},
      "source": [
        "Temos o arquivo localmente"
      ]
    },
    {
      "attachments": {},
      "cell_type": "markdown",
      "metadata": {},
      "source": [
        "### Sincronizar as branches remotas e locais"
      ]
    },
    {
      "attachments": {},
      "cell_type": "markdown",
      "metadata": {},
      "source": [
        "Como vimos, tivemos que sincronizar as branches remotas e locais para poder fazer o upload e download dos dados. No entanto, se primeiro criarmos o reposit\u00f3rio no GitHub e depois o clonarmos, n\u00e3o ser\u00e1 mais necess\u00e1rio essa sincroniza\u00e7\u00e3o."
      ]
    },
    {
      "attachments": {},
      "cell_type": "markdown",
      "metadata": {},
      "source": [
        "## Alias"
      ]
    },
    {
      "attachments": {},
      "cell_type": "markdown",
      "metadata": {},
      "source": [
        "Cada vez que quisemos fazer um log temos usado este comando `git log --graph --oneline --decorate`, no entanto lembrar-se deste comando \u00e9 bastante complicado, na verdade eu n\u00e3o me lembro dele, toda vez que quero us\u00e1-lo tenho que procur\u00e1-lo porque n\u00e3o o lembro, por isso seria muito bom ter uma maneira de abrevi\u00e1-lo."
      ]
    },
    {
      "attachments": {},
      "cell_type": "markdown",
      "metadata": {},
      "source": [
        "Para isso, o git oferece os `alias`, de forma que voc\u00ea pode criar aliases dos comandos que desejar. Para fazer isso, voc\u00ea precisa executar `git config --global alias.<nome do alias> \"comando\"`"
      ]
    },
    {
      "attachments": {},
      "cell_type": "markdown",
      "metadata": {},
      "source": [
        "Portanto, vamos chamar `git tree` ao comando `git log --graph --oneline --decorate`, pois nos permite ver o hist\u00f3rico, com a bifurca\u00e7\u00e3o e fus\u00e3o de branches como se fosse o crescimento de uma \u00e1rvore, ent\u00e3o fazemos `git config --global alias.tree \"log --graph --oneline --decorate\"`",
        "\n",
        "> **Importante**: N\u00e3o se deve colocar a palavra `git` dentro do comando"
      ]
    },
    {
      "cell_type": "code",
      "execution_count": 218,
      "metadata": {},
      "outputs": [],
      "source": [
        "!git config --global alias.tree \"log --graph --oneline --decorate\""
      ]
    },
    {
      "attachments": {},
      "cell_type": "markdown",
      "metadata": {},
      "source": [
        "Se agora formos ao nosso reposit\u00f3rio e fizermos `git tree`, veremos o hist\u00f3rico como faz\u00edamos antes."
      ]
    },
    {
      "cell_type": "code",
      "execution_count": 217,
      "metadata": {},
      "outputs": [
        {
          "name": "stdout",
          "output_type": "stream",
          "text": [
            "* \u001b[33m527e07a\u001b[m\u001b[33m (\u001b[m\u001b[1;36mHEAD -> \u001b[m\u001b[1;32mmain\u001b[m\u001b[33m, \u001b[m\u001b[1;31morigin/main\u001b[m\u001b[33m)\u001b[m Create README.md\n",
            "*   \u001b[33m679bb49\u001b[m archivo1.py con el merge resuelto\n",
            "\u001b[32m|\u001b[m\u001b[33m\\\u001b[m  \n",
            "\u001b[32m|\u001b[m * \u001b[33m32851c3\u001b[m archivo1.py en rama rama_con_conflicto\n",
            "* \u001b[33m|\u001b[m \u001b[33m53f909b\u001b[m archivo1.py en rama main\n",
            "\u001b[33m|\u001b[m\u001b[33m/\u001b[m  \n",
            "* \u001b[33m52acb97\u001b[m Merge squash de los commits de la rama branch_squash\n",
            "*   \u001b[33m274529c\u001b[m Merge branch 'branch_no_fast_forward' into main\n",
            "\u001b[34m|\u001b[m\u001b[35m\\\u001b[m  \n",
            "\u001b[34m|\u001b[m * \u001b[33m8df3429\u001b[m\u001b[33m (\u001b[m\u001b[1;32mbranch_no_fast_forward\u001b[m\u001b[33m)\u001b[m file2\n",
            "\u001b[34m|\u001b[m * \u001b[33me4e23c9\u001b[m file1\n",
            "* \u001b[35m|\u001b[m \u001b[33m8bdf4d8\u001b[m file3\n",
            "\u001b[35m|\u001b[m\u001b[35m/\u001b[m  \n",
            "* \u001b[33m94149fc\u001b[m\u001b[33m (\u001b[m\u001b[1;32mbranch_fast_forward\u001b[m\u001b[33m)\u001b[m Eliminado hola.py\n",
            "* \u001b[33m4484e70\u001b[m Eliminado archivo4.py\n",
            "* \u001b[33m564ccfb\u001b[m\u001b[33m (\u001b[m\u001b[1;32mnew_branch2\u001b[m\u001b[33m)\u001b[m Commit con el archivo 8\n",
            "* \u001b[33m5168f78\u001b[m Eliminado archivo7.py\n",
            "* \u001b[33m4bb9d75\u001b[m\u001b[33m (\u001b[m\u001b[1;32mnew_branch\u001b[m\u001b[33m)\u001b[m Commit con el archivo 7\n",
            "* \u001b[33mea615a9\u001b[m Eliminado archivo5.py\n",
            "* \u001b[33me3153a5\u001b[m Commit con los archivos 4 y 5\n",
            "* \u001b[33m0b09cfa\u001b[m A\u00f1adido .gitignore\n",
            "* \u001b[33m04ebd1f\u001b[m Commit con los archivos 1 y 2\n",
            "* \u001b[33mc4930d7\u001b[m Tercer commit, hola.py\n",
            "* \u001b[33m6e99e73\u001b[m Segundo commit, hola.py\n",
            "* \u001b[33m1c95e4f\u001b[m Primer commit, hola.py\n"
          ]
        }
      ],
      "source": [
        "!cd notebook_git && git tree"
      ]
    },
    {
      "attachments": {},
      "cell_type": "markdown",
      "metadata": {},
      "source": [
        "Como vemos, foi criado nosso alias"
      ]
    },
    {
      "attachments": {},
      "cell_type": "markdown",
      "metadata": {},
      "source": [
        "### Alias de comandos existentes de git\n\n(No se ha proporcionado texto adicional para traducir, por lo que esta es la traducci\u00f3n del t\u00edtulo solo.)"
      ]
    },
    {
      "attachments": {},
      "cell_type": "markdown",
      "metadata": {},
      "source": [
        "\u00c9 poss\u00edvel criar aliases para comandos que j\u00e1 existem no git, na verdade, \u00e9 uma pr\u00e1tica muito usada, especialmente para abreviar, ent\u00e3o vamos fazer um. Vamos criar um alias para o comando `git status` e renome\u00e1-lo como `git st` da seguinte maneira: `git config --global alias.st \"status\"`"
      ]
    },
    {
      "cell_type": "code",
      "execution_count": 219,
      "metadata": {},
      "outputs": [],
      "source": [
        "!git config --global alias.st \"status\""
      ]
    },
    {
      "attachments": {},
      "cell_type": "markdown",
      "metadata": {},
      "source": [
        "Vamos test\u00e1-lo agora."
      ]
    },
    {
      "cell_type": "code",
      "execution_count": 220,
      "metadata": {},
      "outputs": [
        {
          "name": "stdout",
          "output_type": "stream",
          "text": [
            "En la rama main\n",
            "Tu rama est\u00e1 actualizada con 'origin/main'.\n",
            "\n",
            "nada para hacer commit, el \u00e1rbol de trabajo est\u00e1 limpio\n"
          ]
        }
      ],
      "source": [
        "!cd notebook_git && git st"
      ]
    },
    {
      "attachments": {},
      "cell_type": "markdown",
      "metadata": {},
      "source": [
        "J\u00e1 temos o comando `git status` simplificado para `git st`"
      ]
    },
    {
      "attachments": {},
      "cell_type": "markdown",
      "metadata": {},
      "source": [
        "### Alias de comandos que n\u00e3o s\u00e3o do git"
      ]
    },
    {
      "attachments": {},
      "cell_type": "markdown",
      "metadata": {},
      "source": [
        "Podemos criar aliases de comandos que n\u00e3o sejam do git, por exemplo, porque achamos que o git precisa desse novo comando, faz-se da mesma forma com a exce\u00e7\u00e3o de que o comando deve ser precedido de `!`, ou seja, seria `git config --global alias.<nome do alias> \"!comando\"`"
      ]
    },
    {
      "attachments": {},
      "cell_type": "markdown",
      "metadata": {},
      "source": [
        "Quando vimos os conflitos, vimos que o git nos dizia onde estavam, mas para resolv\u00ea-los temos que editar o c\u00f3digo n\u00f3s mesmos, por isso podemos criar um alias do git de maneira que possamos abrir um arquivo com o editor de textos que quisermos, no meu caso vou criar um alias que me abrir\u00e1 os arquivos com `vscode` para isso tenho que fazer `git config --global alias.code \"!code\"`"
      ]
    },
    {
      "cell_type": "code",
      "execution_count": 222,
      "metadata": {},
      "outputs": [],
      "source": [
        "!git config --global alias.code \"!code\""
      ]
    },
    {
      "attachments": {},
      "cell_type": "markdown",
      "metadata": {},
      "source": [
        "O testamos"
      ]
    },
    {
      "cell_type": "code",
      "execution_count": 223,
      "metadata": {},
      "outputs": [],
      "source": [
        "!cd notebook_git && git code README.md"
      ]
    },
    {
      "attachments": {},
      "cell_type": "markdown",
      "metadata": {},
      "source": [
        "Depois de fazer isso, o `README.md` foi aberto no `vscode`."
      ]
    },
    {
      "attachments": {},
      "cell_type": "markdown",
      "metadata": {},
      "source": [
        "### Lista com todos os aliases"
      ]
    },
    {
      "attachments": {},
      "cell_type": "markdown",
      "metadata": {},
      "source": [
        "Caso n\u00e3o nos lembremos dos aliases que criamos, podemos ver a configura\u00e7\u00e3o global do git, mas como isso pode ser um pouco avassalador porque nos d\u00e1 muita informa\u00e7\u00e3o, podemos filtrar para que nos mostre apenas os aliases que criamos, para isso usamos `git config --get-regexp ^alias\\.`"
      ]
    },
    {
      "cell_type": "code",
      "execution_count": 224,
      "metadata": {},
      "outputs": [
        {
          "name": "stdout",
          "output_type": "stream",
          "text": [
            "alias.tree log --graph --oneline --decorate\n",
            "alias.st status\n",
            "alias.code !code\n"
          ]
        }
      ],
      "source": [
        "!git config --get-regexp ^alias\\."
      ]
    },
    {
      "attachments": {},
      "cell_type": "markdown",
      "metadata": {},
      "source": [
        "Obtemos os aliases que n\u00f3s criamos"
      ]
    },
    {
      "attachments": {},
      "cell_type": "markdown",
      "metadata": {},
      "source": [
        "Mas ainda, podemos criar um alias para obter os aliases, para isso fazemos `git config --global alias.alias \"config --get-regexp ^alias\\.\"`"
      ]
    },
    {
      "cell_type": "code",
      "execution_count": 225,
      "metadata": {},
      "outputs": [],
      "source": [
        "!git config --global alias.alias \"config --get-regexp ^alias\\.\""
      ]
    },
    {
      "attachments": {},
      "cell_type": "markdown",
      "metadata": {},
      "source": [
        "Se agora fizermos `git alias`"
      ]
    },
    {
      "cell_type": "code",
      "execution_count": 226,
      "metadata": {},
      "outputs": [
        {
          "name": "stdout",
          "output_type": "stream",
          "text": [
            "alias.tree log --graph --oneline --decorate\n",
            "alias.st status\n",
            "alias.code !code\n",
            "alias.alias config --get-regexp ^alias\\.\n"
          ]
        }
      ],
      "source": [
        "!git alias"
      ]
    },
    {
      "attachments": {},
      "cell_type": "markdown",
      "metadata": {},
      "source": [
        "Obtemos a lista com todos os nossos alias"
      ]
    },
    {
      "attachments": {},
      "cell_type": "markdown",
      "metadata": {},
      "source": [
        "## Armazenamento tempor\u00e1rio (`git stash`)"
      ]
    },
    {
      "attachments": {},
      "cell_type": "markdown",
      "metadata": {},
      "source": [
        "Suponhamos que estamos trabalhando em um branch, temos v\u00e1rios arquivos modificados, n\u00e3o fizemos commit, e por algum motivo temos que passar para outro branch. Por exemplo, estamos em um branch desenvolvendo uma nova funcionalidade, e temos que deix\u00e1-la pela metade porque h\u00e1 um bug cr\u00edtico no branch main",
        "\n",
        "Uma solu\u00e7\u00e3o seria fazer um commit para salvar as altera\u00e7\u00f5es e voltar mais tarde. Mas talvez tenhamos deixado o c\u00f3digo pela metade e n\u00e3o queremos fazer um commit. Ent\u00e3o, para isso, foi inventado o stash, que \u00e9 como um armaz\u00e9m, onde voc\u00ea deixa seu c\u00f3digo armazenado para poder recuper\u00e1-lo posteriormente.",
        "\n",
        "\u00c9 uma pilha, isso significa que o \u00faltimo a entrar \u00e9 o primeiro a sair."
      ]
    },
    {
      "attachments": {},
      "cell_type": "markdown",
      "metadata": {},
      "source": [
        "Vamos ver como fazer isso, em primeiro lugar criamos uma nova branch que vamos chamar de `new_feature`"
      ]
    },
    {
      "cell_type": "code",
      "execution_count": 2,
      "metadata": {},
      "outputs": [],
      "source": [
        "!cd notebook_git && git branch new_feature"
      ]
    },
    {
      "attachments": {},
      "cell_type": "markdown",
      "metadata": {},
      "source": [
        "Mudamos para ela"
      ]
    },
    {
      "cell_type": "code",
      "execution_count": 3,
      "metadata": {},
      "outputs": [
        {
          "name": "stdout",
          "output_type": "stream",
          "text": [
            "Cambiado a rama 'new_feature'\n"
          ]
        }
      ],
      "source": [
        "!cd notebook_git && git switch new_feature"
      ]
    },
    {
      "attachments": {},
      "cell_type": "markdown",
      "metadata": {},
      "source": [
        "Vamos a modificar `arquivo2.py` e `arquivo8.py`"
      ]
    },
    {
      "cell_type": "code",
      "execution_count": 4,
      "metadata": {},
      "outputs": [],
      "source": [
        "!cd notebook_git && echo \"print('new_feature')\" >> archivo2.py && echo \"print('new_feature')\" >> archivo8.py"
      ]
    },
    {
      "attachments": {},
      "cell_type": "markdown",
      "metadata": {},
      "source": [
        "Fazemos um `git status` para verificar que tenham sido modificados."
      ]
    },
    {
      "cell_type": "code",
      "execution_count": 5,
      "metadata": {},
      "outputs": [
        {
          "name": "stdout",
          "output_type": "stream",
          "text": [
            "En la rama new_feature\n",
            "Cambios no rastreados para el commit:\n",
            "  (usa \"git add <archivo>...\" para actualizar lo que ser\u00e1 confirmado)\n",
            "  (usa \"git restore <archivo>...\" para descartar los cambios en el directorio de trabajo)\n",
            "\t\u001b[31mmodificados:     archivo2.py\u001b[m\n",
            "\t\u001b[31mmodificados:     archivo8.py\u001b[m\n",
            "\n",
            "sin cambios agregados al commit (usa \"git add\" y/o \"git commit -a\")\n"
          ]
        }
      ],
      "source": [
        "!cd notebook_git && git status"
      ]
    },
    {
      "attachments": {},
      "cell_type": "markdown",
      "metadata": {},
      "source": [
        "Vamos a adicionar `arquivo8.py` \u00e0 \u00e1rea de `staged`"
      ]
    },
    {
      "cell_type": "code",
      "execution_count": 6,
      "metadata": {},
      "outputs": [],
      "source": [
        "!cd notebook_git && git add archivo8.py"
      ]
    },
    {
      "attachments": {},
      "cell_type": "markdown",
      "metadata": {},
      "source": [
        "Fazemos novamente um `git status`"
      ]
    },
    {
      "cell_type": "code",
      "execution_count": 7,
      "metadata": {},
      "outputs": [
        {
          "name": "stdout",
          "output_type": "stream",
          "text": [
            "En la rama new_feature\n",
            "Cambios a ser confirmados:\n",
            "  (usa \"git restore --staged <archivo>...\" para sacar del \u00e1rea de stage)\n",
            "\t\u001b[32mmodificados:     archivo8.py\u001b[m\n",
            "\n",
            "Cambios no rastreados para el commit:\n",
            "  (usa \"git add <archivo>...\" para actualizar lo que ser\u00e1 confirmado)\n",
            "  (usa \"git restore <archivo>...\" para descartar los cambios en el directorio de trabajo)\n",
            "\t\u001b[31mmodificados:     archivo2.py\u001b[m\n",
            "\n"
          ]
        }
      ],
      "source": [
        "!cd notebook_git && git status"
      ]
    },
    {
      "attachments": {},
      "cell_type": "markdown",
      "metadata": {},
      "source": [
        "Como vemos temos dois arquivos modificados, dos quais um deles tamb\u00e9m est\u00e1 na \u00e1rea de `staged`. Se agora tiv\u00e9ssemos que mudar de branch, para n\u00e3o perder as altera\u00e7\u00f5es poder\u00edamos fazer um commit, ou guard\u00e1-las no reposit\u00f3rio `stash`, ent\u00e3o vamos fazer isso \u00faltimo atrav\u00e9s de `git stash`"
      ]
    },
    {
      "cell_type": "code",
      "execution_count": 8,
      "metadata": {},
      "outputs": [
        {
          "name": "stdout",
          "output_type": "stream",
          "text": [
            "Directorio de trabajo y estado de \u00edndice WIP on new_feature: 527e07a Create README.md guardados\n"
          ]
        }
      ],
      "source": [
        "!cd notebook_git && git stash"
      ]
    },
    {
      "attachments": {},
      "cell_type": "markdown",
      "metadata": {},
      "source": [
        "Se agora voltarmos a fazer `git status`, vejamos o que acontece"
      ]
    },
    {
      "cell_type": "code",
      "execution_count": 9,
      "metadata": {},
      "outputs": [
        {
          "name": "stdout",
          "output_type": "stream",
          "text": [
            "En la rama new_feature\n",
            "nada para hacer commit, el \u00e1rbol de trabajo est\u00e1 limpio\n"
          ]
        }
      ],
      "source": [
        "!cd notebook_git && git status"
      ]
    },
    {
      "attachments": {},
      "cell_type": "markdown",
      "metadata": {},
      "source": [
        "Os arquivos com modifica\u00e7\u00f5es n\u00e3o aparecem mais, \u00e9 como se tiv\u00e9ssemos feito um commit"
      ]
    },
    {
      "attachments": {},
      "cell_type": "markdown",
      "metadata": {},
      "source": [
        "> **Importante**: Os arquivos criados novos, que nunca foram rastreados pelo Git, n\u00e3o ser\u00e3o enviados para o reposit\u00f3rio, portanto, com os arquivos novos \u00e9 necess\u00e1rio, pelo menos, fazer primeiro um `git add`"
      ]
    },
    {
      "attachments": {},
      "cell_type": "markdown",
      "metadata": {},
      "source": [
        "Se eu criar um novo arquivo e tentar envi\u00e1-lo para o reposit\u00f3rio, receberei um erro."
      ]
    },
    {
      "cell_type": "code",
      "execution_count": 16,
      "metadata": {},
      "outputs": [],
      "source": [
        "!cd notebook_git && touch archivo9.py"
      ]
    },
    {
      "cell_type": "code",
      "execution_count": 11,
      "metadata": {},
      "outputs": [
        {
          "name": "stdout",
          "output_type": "stream",
          "text": [
            "En la rama new_feature\n",
            "Archivos sin seguimiento:\n",
            "  (usa \"git add <archivo>...\" para incluirlo a lo que se ser\u00e1 confirmado)\n",
            "\t\u001b[31marchivo9.py\u001b[m\n",
            "\n",
            "no hay nada agregado al commit pero hay archivos sin seguimiento presentes (usa \"git add\" para hacerles seguimiento)\n"
          ]
        }
      ],
      "source": [
        "!cd notebook_git && git status"
      ]
    },
    {
      "cell_type": "code",
      "execution_count": 13,
      "metadata": {},
      "outputs": [
        {
          "name": "stdout",
          "output_type": "stream",
          "text": [
            "No hay cambios locales para guardar\n"
          ]
        }
      ],
      "source": [
        "!cd notebook_git && git stash"
      ]
    },
    {
      "cell_type": "code",
      "execution_count": 14,
      "metadata": {},
      "outputs": [
        {
          "name": "stdout",
          "output_type": "stream",
          "text": [
            "En la rama new_feature\n",
            "Archivos sin seguimiento:\n",
            "  (usa \"git add <archivo>...\" para incluirlo a lo que se ser\u00e1 confirmado)\n",
            "\t\u001b[31marchivo9.py\u001b[m\n",
            "\n",
            "no hay nada agregado al commit pero hay archivos sin seguimiento presentes (usa \"git add\" para hacerles seguimiento)\n"
          ]
        }
      ],
      "source": [
        "!cd notebook_git && git status"
      ]
    },
    {
      "attachments": {},
      "cell_type": "markdown",
      "metadata": {},
      "source": [
        "Como vemos `arquivo9.py` n\u00e3o foi salvo no reposit\u00f3rio, portanto seria necess\u00e1rio adicion\u00e1-lo com `git add`."
      ]
    },
    {
      "cell_type": "code",
      "execution_count": 15,
      "metadata": {},
      "outputs": [],
      "source": [
        "!cd notebook_git && rm archivo9.py"
      ]
    },
    {
      "attachments": {},
      "cell_type": "markdown",
      "metadata": {},
      "source": [
        "### Tudo para o stash (`git stash -u -a`)"
      ]
    },
    {
      "attachments": {},
      "cell_type": "markdown",
      "metadata": {},
      "source": [
        "Como vimos, apenas s\u00e3o enviados ao reposit\u00f3rio os arquivos que o git est\u00e1 rastreando. Se tivermos novos arquivos criados ou arquivos ignorados, eles n\u00e3o ser\u00e3o enviados. Para resolver isso, podemos usar as op\u00e7\u00f5es `-u` ou `--include-untracked` para enviar os novos arquivos que ainda n\u00e3o est\u00e3o sendo rastreados pelo git, e a op\u00e7\u00e3o `-a` ou `--all` para incluir tudo, inclusive os arquivos ignorados."
      ]
    },
    {
      "attachments": {},
      "cell_type": "markdown",
      "metadata": {},
      "source": [
        "### Lista de dep\u00f3sitos (`git stash list`)"
      ]
    },
    {
      "attachments": {},
      "cell_type": "markdown",
      "metadata": {},
      "source": [
        "Como comentamos, o armazenamento atua como uma pilha, portanto, se fizermos uso desse armazenamento muitas vezes, na verdade teremos uma lista de armazenamentos, e para ver os que temos armazenados podemos usar `git stash list`"
      ]
    },
    {
      "cell_type": "code",
      "execution_count": 17,
      "metadata": {},
      "outputs": [
        {
          "name": "stdout",
          "output_type": "stream",
          "text": [
            "stash@{0}: WIP on new_feature: 527e07a Create README.md\n"
          ]
        }
      ],
      "source": [
        "!cd notebook_git && git stash list"
      ]
    },
    {
      "attachments": {},
      "cell_type": "markdown",
      "metadata": {},
      "source": [
        "Como vemos s\u00f3 temos uma, que nos indica a branch (`on new_feature`), o \u00faltimo commit (`Create README.md`) e um identificador (`527e07a`)"
      ]
    },
    {
      "attachments": {},
      "cell_type": "markdown",
      "metadata": {},
      "source": [
        "### Armazenamento com descri\u00e7\u00e3o (`git stash push -m <descri\u00e7\u00e3o>`)"
      ]
    },
    {
      "attachments": {},
      "cell_type": "markdown",
      "metadata": {},
      "source": [
        "Como vimos, a lista retorna o branch e o \u00faltimo commit, mas esta informa\u00e7\u00e3o s\u00f3 serve para saber de onde come\u00e7amos a modificar antes de salvar no hist\u00f3rico. Al\u00e9m disso, ela retorna um identificador que n\u00e3o nos diz muito, ent\u00e3o podemos adicionar uma primeira descri\u00e7\u00e3o ao stash com `git stash push -m <descri\u00e7\u00e3o>`"
      ]
    },
    {
      "attachments": {},
      "cell_type": "markdown",
      "metadata": {},
      "source": [
        "Primeiro fazemos um `git status` para ver o que temos sem commitear"
      ]
    },
    {
      "cell_type": "code",
      "execution_count": 18,
      "metadata": {},
      "outputs": [
        {
          "name": "stdout",
          "output_type": "stream",
          "text": [
            "En la rama new_feature\n",
            "Archivos sin seguimiento:\n",
            "  (usa \"git add <archivo>...\" para incluirlo a lo que se ser\u00e1 confirmado)\n",
            "\t\u001b[31marchivo9.py\u001b[m\n",
            "\n",
            "no hay nada agregado al commit pero hay archivos sin seguimiento presentes (usa \"git add\" para hacerles seguimiento)\n"
          ]
        }
      ],
      "source": [
        "!cd notebook_git && git status"
      ]
    },
    {
      "attachments": {},
      "cell_type": "markdown",
      "metadata": {},
      "source": [
        "Temos `arquivo9.py`, mas lembremos que ele nunca foi rastreado pelo git, portanto para inclu\u00ed-lo em um stash temos que usar a flag `-u` ou a flag `-a`, de modo que criamos um novo stash com uma descri\u00e7\u00e3o com o comando `git stash push -u -m <descri\u00e7\u00e3o>`"
      ]
    },
    {
      "cell_type": "code",
      "execution_count": 28,
      "metadata": {},
      "outputs": [
        {
          "name": "stdout",
          "output_type": "stream",
          "text": [
            "Directorio de trabajo y estado de \u00edndice On new_feature: archivo9.py guardados\n"
          ]
        }
      ],
      "source": [
        "!cd notebook_git && git stash push -u -m \"archivo9.py\""
      ]
    },
    {
      "attachments": {},
      "cell_type": "markdown",
      "metadata": {},
      "source": [
        "Sacamos a lista do stash"
      ]
    },
    {
      "cell_type": "code",
      "execution_count": 29,
      "metadata": {},
      "outputs": [
        {
          "name": "stdout",
          "output_type": "stream",
          "text": [
            "stash@{0}: On new_feature: archivo9.py\n",
            "stash@{1}: WIP on new_feature: 527e07a Create README.md\n"
          ]
        }
      ],
      "source": [
        "!cd notebook_git && git stash list"
      ]
    },
    {
      "attachments": {},
      "cell_type": "markdown",
      "metadata": {},
      "source": [
        "J\u00e1 aparece o novo de maneira muito mais clara"
      ]
    },
    {
      "attachments": {},
      "cell_type": "markdown",
      "metadata": {},
      "source": [
        "### Recuperar o \u00faltimo stash (`git stash pop`)"
      ]
    },
    {
      "attachments": {},
      "cell_type": "markdown",
      "metadata": {},
      "source": [
        "Como dissem, o stash \u00e9 uma pilha com armazenamentos, portanto, na hora de recuper\u00e1-los faremos da mesma forma que uma pilha, sempre recuperando o \u00faltimo.",
        "\n",
        "![git stash push pop](https://pub-fb664c455eca46a2ba762a065ac900f7.r2.dev/git-stash-push-pop.webp)",
        "\n",
        "Para recuperar o \u00faltimo stash temos que fazer `git stash pop`"
      ]
    },
    {
      "attachments": {},
      "cell_type": "markdown",
      "metadata": {},
      "source": [
        "Primeiro fazemos um `git status` para ver que n\u00e3o tenhamos nenhum mudan\u00e7a pendente"
      ]
    },
    {
      "cell_type": "code",
      "execution_count": 30,
      "metadata": {},
      "outputs": [
        {
          "name": "stdout",
          "output_type": "stream",
          "text": [
            "En la rama new_feature\n",
            "nada para hacer commit, el \u00e1rbol de trabajo est\u00e1 limpio\n"
          ]
        }
      ],
      "source": [
        "!cd notebook_git && git status"
      ]
    },
    {
      "attachments": {},
      "cell_type": "markdown",
      "metadata": {},
      "source": [
        "Agora recuperamos o \u00faltimo stash"
      ]
    },
    {
      "cell_type": "code",
      "execution_count": 31,
      "metadata": {},
      "outputs": [
        {
          "name": "stdout",
          "output_type": "stream",
          "text": [
            "En la rama new_feature\n",
            "Cambios a ser confirmados:\n",
            "  (usa \"git restore --staged <archivo>...\" para sacar del \u00e1rea de stage)\n",
            "\t\u001b[32mnuevos archivos: archivo9.py\u001b[m\n",
            "\n",
            "Descartado refs/stash@{0} (0246b0e922f654e7fc68cfeaf26e24fc511feb37)\n"
          ]
        }
      ],
      "source": [
        "!cd notebook_git && git stash pop"
      ]
    },
    {
      "attachments": {},
      "cell_type": "markdown",
      "metadata": {},
      "source": [
        "Se voltarmos a fazer `git status`, veremos que temos novamente `arquivo9.py` pendente de fazer um commit."
      ]
    },
    {
      "cell_type": "code",
      "execution_count": 32,
      "metadata": {},
      "outputs": [
        {
          "name": "stdout",
          "output_type": "stream",
          "text": [
            "En la rama new_feature\n",
            "Cambios a ser confirmados:\n",
            "  (usa \"git restore --staged <archivo>...\" para sacar del \u00e1rea de stage)\n",
            "\t\u001b[32mnuevos archivos: archivo9.py\u001b[m\n",
            "\n"
          ]
        }
      ],
      "source": [
        "!cd notebook_git && git status"
      ]
    },
    {
      "attachments": {},
      "cell_type": "markdown",
      "metadata": {},
      "source": [
        "E se verificarmos a lista de stash, veremos que agora s\u00f3 temos um."
      ]
    },
    {
      "cell_type": "code",
      "execution_count": 33,
      "metadata": {},
      "outputs": [
        {
          "name": "stdout",
          "output_type": "stream",
          "text": [
            "stash@{0}: WIP on new_feature: 527e07a Create README.md\n"
          ]
        }
      ],
      "source": [
        "!cd notebook_git && git stash list"
      ]
    },
    {
      "attachments": {},
      "cell_type": "markdown",
      "metadata": {},
      "source": [
        "### Remover um stash (`git stash drop <posi\u00e7\u00e3o>`)"
      ]
    },
    {
      "attachments": {},
      "cell_type": "markdown",
      "metadata": {},
      "source": [
        "Se quisermos remover um stash, temos que fazer `git stash drop <posi\u00e7\u00e3o>`, onde `<posi\u00e7\u00e3o>` \u00e9 a posi\u00e7\u00e3o que o stash ocupa na lista."
      ]
    },
    {
      "attachments": {},
      "cell_type": "markdown",
      "metadata": {},
      "source": [
        "Obtemos a lista dos stash"
      ]
    },
    {
      "cell_type": "code",
      "execution_count": 34,
      "metadata": {},
      "outputs": [
        {
          "name": "stdout",
          "output_type": "stream",
          "text": [
            "stash@{0}: WIP on new_feature: 527e07a Create README.md\n"
          ]
        }
      ],
      "source": [
        "!cd notebook_git && git stash list"
      ]
    },
    {
      "attachments": {},
      "cell_type": "markdown",
      "metadata": {},
      "source": [
        "No nosso caso, temos apenas um e na posi\u00e7\u00e3o 0 (`stash@{0}`), ent\u00e3o para remov\u00ea-lo ter\u00edamos que fazer `git stash drop 0`, mas n\u00e3o vou fazer isso porque vou remov\u00ea-lo agora com outro comando."
      ]
    },
    {
      "attachments": {},
      "cell_type": "markdown",
      "metadata": {},
      "source": [
        "### Remover todos os stashes (`git stash clear`)"
      ]
    },
    {
      "attachments": {},
      "cell_type": "markdown",
      "metadata": {},
      "source": [
        "Se quisermos esvaziar a lista inteira do stash, temos que fazer `git stash clear`"
      ]
    },
    {
      "cell_type": "code",
      "execution_count": 35,
      "metadata": {},
      "outputs": [],
      "source": [
        "!cd notebook_git && git stash clear"
      ]
    },
    {
      "attachments": {},
      "cell_type": "markdown",
      "metadata": {},
      "source": [
        "Se agora solicitarmos a lista de stash"
      ]
    },
    {
      "cell_type": "code",
      "execution_count": 36,
      "metadata": {},
      "outputs": [],
      "source": [
        "!cd notebook_git && git stash list"
      ]
    },
    {
      "attachments": {},
      "cell_type": "markdown",
      "metadata": {},
      "source": [
        "N\u00e3o obtemos nada porque removemos tudo."
      ]
    },
    {
      "attachments": {},
      "cell_type": "markdown",
      "metadata": {},
      "source": [
        "Vamos deixar tudo como estava, fazemos um `git status` para lembrar das mudan\u00e7as que t\u00ednhamos pendentes"
      ]
    },
    {
      "cell_type": "code",
      "execution_count": 37,
      "metadata": {},
      "outputs": [
        {
          "name": "stdout",
          "output_type": "stream",
          "text": [
            "En la rama new_feature\n",
            "Cambios a ser confirmados:\n",
            "  (usa \"git restore --staged <archivo>...\" para sacar del \u00e1rea de stage)\n",
            "\t\u001b[32mnuevos archivos: archivo9.py\u001b[m\n",
            "\n"
          ]
        }
      ],
      "source": [
        "!cd notebook_git && git status"
      ]
    },
    {
      "attachments": {},
      "cell_type": "markdown",
      "metadata": {},
      "source": [
        "Vemos que estamos no ramo `new_feature` e que temos `archivo9.py` pendente de fazer um commit. Como o criamos para o exemplo, o exclu\u00edmos e voltamos ao ramo principal."
      ]
    },
    {
      "cell_type": "code",
      "execution_count": 39,
      "metadata": {},
      "outputs": [],
      "source": [
        "!cd notebook_git && git reset archivo9.py"
      ]
    },
    {
      "cell_type": "code",
      "execution_count": 41,
      "metadata": {},
      "outputs": [],
      "source": [
        "!cd notebook_git && rm archivo9.py"
      ]
    },
    {
      "cell_type": "code",
      "execution_count": 42,
      "metadata": {},
      "outputs": [
        {
          "name": "stdout",
          "output_type": "stream",
          "text": [
            "Cambiado a rama 'main'\n",
            "Tu rama est\u00e1 actualizada con 'origin/main'.\n"
          ]
        }
      ],
      "source": [
        "!cd notebook_git && git switch main"
      ]
    },
    {
      "attachments": {},
      "cell_type": "markdown",
      "metadata": {},
      "source": [
        "## Tags"
      ]
    },
    {
      "attachments": {},
      "cell_type": "markdown",
      "metadata": {},
      "source": [
        "Quando estamos desenvolvendo c\u00f3digo, chegam momentos em que geramos vers\u00f5es, por exemplo a `v1.1`, `v1.2`, etc. Para ter isso mais controlado, o git nos fornece os tags."
      ]
    },
    {
      "attachments": {},
      "cell_type": "markdown",
      "metadata": {},
      "source": [
        "### Criar uma nova tag (`git tag -a <nome_da_tag> -m \"<mensagem>\"`)"
      ]
    },
    {
      "attachments": {},
      "cell_type": "markdown",
      "metadata": {},
      "source": [
        "Para criar uma tag temos que fazer `git tag -a <nome_da_tag> -m \"<mensagem>\"`"
      ]
    },
    {
      "attachments": {},
      "cell_type": "markdown",
      "metadata": {},
      "source": [
        "Por exemplo, vamos criar um tag na vers\u00e3o atual do reposit\u00f3rio, para isso farei `git tag -a v_tag -m \"Tag com o reposit\u00f3rio na parte final, onde explicamos os tags\"`"
      ]
    },
    {
      "cell_type": "code",
      "execution_count": 1,
      "metadata": {},
      "outputs": [],
      "source": [
        "!cd notebook_git && git tag -a v_tag -m \"Tag con el repositorio en la parte final, en la que explicamos los tags\""
      ]
    },
    {
      "attachments": {},
      "cell_type": "markdown",
      "metadata": {},
      "source": [
        "### Lista de tags (`git tag`)"
      ]
    },
    {
      "attachments": {},
      "cell_type": "markdown",
      "metadata": {},
      "source": [
        "Para ver os tags que criamos podemos fazer `git tag`"
      ]
    },
    {
      "cell_type": "code",
      "execution_count": 2,
      "metadata": {},
      "outputs": [
        {
          "name": "stdout",
          "output_type": "stream",
          "text": [
            "v_tag\n"
          ]
        }
      ],
      "source": [
        "!cd notebook_git && git tag"
      ]
    },
    {
      "attachments": {},
      "cell_type": "markdown",
      "metadata": {},
      "source": [
        "### Criar uma tag a partir de um commit antigo (`git tag -a <nome_da_tag> -m \"<mensagem>\" <hash>`)"
      ]
    },
    {
      "attachments": {},
      "cell_type": "markdown",
      "metadata": {},
      "source": [
        "Vamos fazer um `git tree` para ver o hist\u00f3rico"
      ]
    },
    {
      "cell_type": "code",
      "execution_count": 3,
      "metadata": {},
      "outputs": [
        {
          "name": "stdout",
          "output_type": "stream",
          "text": [
            "* \u001b[33m527e07a\u001b[m\u001b[33m (\u001b[m\u001b[1;36mHEAD -> \u001b[m\u001b[1;32mmain\u001b[m\u001b[33m, \u001b[m\u001b[1;33mtag: v_tag\u001b[m\u001b[33m, \u001b[m\u001b[1;31morigin/main\u001b[m\u001b[33m, \u001b[m\u001b[1;32mnew_feature\u001b[m\u001b[33m)\u001b[m Create README.md\n",
            "*   \u001b[33m679bb49\u001b[m archivo1.py con el merge resuelto\n",
            "\u001b[32m|\u001b[m\u001b[33m\\\u001b[m  \n",
            "\u001b[32m|\u001b[m * \u001b[33m32851c3\u001b[m archivo1.py en rama rama_con_conflicto\n",
            "* \u001b[33m|\u001b[m \u001b[33m53f909b\u001b[m archivo1.py en rama main\n",
            "\u001b[33m|\u001b[m\u001b[33m/\u001b[m  \n",
            "* \u001b[33m52acb97\u001b[m Merge squash de los commits de la rama branch_squash\n",
            "*   \u001b[33m274529c\u001b[m Merge branch 'branch_no_fast_forward' into main\n",
            "\u001b[34m|\u001b[m\u001b[35m\\\u001b[m  \n",
            "\u001b[34m|\u001b[m * \u001b[33m8df3429\u001b[m\u001b[33m (\u001b[m\u001b[1;32mbranch_no_fast_forward\u001b[m\u001b[33m)\u001b[m file2\n",
            "\u001b[34m|\u001b[m * \u001b[33me4e23c9\u001b[m file1\n",
            "* \u001b[35m|\u001b[m \u001b[33m8bdf4d8\u001b[m file3\n",
            "\u001b[35m|\u001b[m\u001b[35m/\u001b[m  \n",
            "* \u001b[33m94149fc\u001b[m\u001b[33m (\u001b[m\u001b[1;32mbranch_fast_forward\u001b[m\u001b[33m)\u001b[m Eliminado hola.py\n",
            "* \u001b[33m4484e70\u001b[m Eliminado archivo4.py\n",
            "* \u001b[33m564ccfb\u001b[m\u001b[33m (\u001b[m\u001b[1;32mnew_branch2\u001b[m\u001b[33m)\u001b[m Commit con el archivo 8\n",
            "* \u001b[33m5168f78\u001b[m Eliminado archivo7.py\n",
            "* \u001b[33m4bb9d75\u001b[m\u001b[33m (\u001b[m\u001b[1;32mnew_branch\u001b[m\u001b[33m)\u001b[m Commit con el archivo 7\n",
            "* \u001b[33mea615a9\u001b[m Eliminado archivo5.py\n",
            "* \u001b[33me3153a5\u001b[m Commit con los archivos 4 y 5\n",
            "* \u001b[33m0b09cfa\u001b[m A\u00f1adido .gitignore\n",
            "* \u001b[33m04ebd1f\u001b[m Commit con los archivos 1 y 2\n",
            "* \u001b[33mc4930d7\u001b[m Tercer commit, hola.py\n",
            "* \u001b[33m6e99e73\u001b[m Segundo commit, hola.py\n",
            "* \u001b[33m1c95e4f\u001b[m Primer commit, hola.py\n"
          ]
        }
      ],
      "source": [
        "!cd notebook_git && git tree"
      ]
    },
    {
      "attachments": {},
      "cell_type": "markdown",
      "metadata": {},
      "source": [
        "Embora n\u00e3o esteja na descri\u00e7\u00e3o, quando fizemos o commit `4bb9d75` foi quando terminamos a parte de controle de vers\u00f5es localmente, por isso tamb\u00e9m seria bom ter um tag desse momento. Para isso, precisamos criar uma tag adicionando o hash daquele momento."
      ]
    },
    {
      "cell_type": "code",
      "execution_count": 4,
      "metadata": {},
      "outputs": [],
      "source": [
        "!cd notebook_git && git tag -a v_local -m \"Tag con el repositorio en la parte de control de versiones de manera local\" 4bb9d75"
      ]
    },
    {
      "attachments": {},
      "cell_type": "markdown",
      "metadata": {},
      "source": [
        "Se agora fizermos um listagem dos tags, aparece o novo"
      ]
    },
    {
      "cell_type": "code",
      "execution_count": 5,
      "metadata": {},
      "outputs": [
        {
          "name": "stdout",
          "output_type": "stream",
          "text": [
            "v_local\n",
            "v_tag\n"
          ]
        }
      ],
      "source": [
        "!cd notebook_git && git tag"
      ]
    },
    {
      "attachments": {},
      "cell_type": "markdown",
      "metadata": {},
      "source": [
        "E se vemos o hist\u00f3rico de commits"
      ]
    },
    {
      "cell_type": "code",
      "execution_count": 8,
      "metadata": {},
      "outputs": [
        {
          "name": "stdout",
          "output_type": "stream",
          "text": [
            "* \u001b[33m527e07a\u001b[m\u001b[33m (\u001b[m\u001b[1;36mHEAD -> \u001b[m\u001b[1;32mmain\u001b[m\u001b[33m, \u001b[m\u001b[1;33mtag: v_tag\u001b[m\u001b[33m, \u001b[m\u001b[1;31morigin/main\u001b[m\u001b[33m, \u001b[m\u001b[1;32mnew_feature\u001b[m\u001b[33m)\u001b[m Create README.md\n",
            "*   \u001b[33m679bb49\u001b[m archivo1.py con el merge resuelto\n",
            "\u001b[32m|\u001b[m\u001b[33m\\\u001b[m  \n",
            "\u001b[32m|\u001b[m * \u001b[33m32851c3\u001b[m archivo1.py en rama rama_con_conflicto\n",
            "* \u001b[33m|\u001b[m \u001b[33m53f909b\u001b[m archivo1.py en rama main\n",
            "\u001b[33m|\u001b[m\u001b[33m/\u001b[m  \n",
            "* \u001b[33m52acb97\u001b[m Merge squash de los commits de la rama branch_squash\n",
            "*   \u001b[33m274529c\u001b[m Merge branch 'branch_no_fast_forward' into main\n",
            "\u001b[34m|\u001b[m\u001b[35m\\\u001b[m  \n",
            "\u001b[34m|\u001b[m * \u001b[33m8df3429\u001b[m\u001b[33m (\u001b[m\u001b[1;32mbranch_no_fast_forward\u001b[m\u001b[33m)\u001b[m file2\n",
            "\u001b[34m|\u001b[m * \u001b[33me4e23c9\u001b[m file1\n",
            "* \u001b[35m|\u001b[m \u001b[33m8bdf4d8\u001b[m file3\n",
            "\u001b[35m|\u001b[m\u001b[35m/\u001b[m  \n",
            "* \u001b[33m94149fc\u001b[m\u001b[33m (\u001b[m\u001b[1;32mbranch_fast_forward\u001b[m\u001b[33m)\u001b[m Eliminado hola.py\n",
            "* \u001b[33m4484e70\u001b[m Eliminado archivo4.py\n",
            "* \u001b[33m564ccfb\u001b[m\u001b[33m (\u001b[m\u001b[1;32mnew_branch2\u001b[m\u001b[33m)\u001b[m Commit con el archivo 8\n",
            "* \u001b[33m5168f78\u001b[m Eliminado archivo7.py\n",
            "* \u001b[33m4bb9d75\u001b[m\u001b[33m (\u001b[m\u001b[1;33mtag: v_local\u001b[m\u001b[33m, \u001b[m\u001b[1;32mnew_branch\u001b[m\u001b[33m)\u001b[m Commit con el archivo 7\n",
            "* \u001b[33mea615a9\u001b[m Eliminado archivo5.py\n",
            "* \u001b[33me3153a5\u001b[m Commit con los archivos 4 y 5\n",
            "* \u001b[33m0b09cfa\u001b[m A\u00f1adido .gitignore\n",
            "* \u001b[33m04ebd1f\u001b[m Commit con los archivos 1 y 2\n",
            "* \u001b[33mc4930d7\u001b[m Tercer commit, hola.py\n",
            "* \u001b[33m6e99e73\u001b[m Segundo commit, hola.py\n",
            "* \u001b[33m1c95e4f\u001b[m Primer commit, hola.py\n"
          ]
        }
      ],
      "source": [
        "!cd notebook_git && git tree"
      ]
    },
    {
      "attachments": {},
      "cell_type": "markdown",
      "metadata": {},
      "source": [
        "No ponto do hist\u00f3rico onde criamos a tag, agora aparece a tag que criamos `* 4bb9d75 (tag: v_local, new_branch) Commit com o arquivo 7`"
      ]
    },
    {
      "attachments": {},
      "cell_type": "markdown",
      "metadata": {},
      "source": [
        "### Mudar entre tags (`git reset --hard <tag>` ou `git reset --soft <tag>`)"
      ]
    },
    {
      "attachments": {},
      "cell_type": "markdown",
      "metadata": {},
      "source": [
        "Assim como podemos nos mover entre diferentes commits do hist\u00f3rico, tamb\u00e9m podemos nos mover entre tags. Isso tem a vantagem de podermos nos mover para outro momento do hist\u00f3rico sem precisar saber o hash, basta conhecer o nome da tag que colocamos naquele momento para nos movermos simplesmente fazendo `git reset --hard <tag>` ou `git reset --soft <tag>`"
      ]
    },
    {
      "attachments": {},
      "cell_type": "markdown",
      "metadata": {},
      "source": [
        "Primeiro vamos fazer um `ls` para ver os arquivos que temos"
      ]
    },
    {
      "cell_type": "code",
      "execution_count": 6,
      "metadata": {},
      "outputs": [
        {
          "name": "stdout",
          "output_type": "stream",
          "text": [
            "api_keys.py  archivo1.py  archivo2.py  archivo8.py  README.md\n"
          ]
        }
      ],
      "source": [
        "!cd notebook_git && ls"
      ]
    },
    {
      "attachments": {},
      "cell_type": "markdown",
      "metadata": {},
      "source": [
        "Fazemos um `git tree` tamb\u00e9m para ver em que momento do hist\u00f3rico estamos"
      ]
    },
    {
      "cell_type": "code",
      "execution_count": 7,
      "metadata": {},
      "outputs": [
        {
          "name": "stdout",
          "output_type": "stream",
          "text": [
            "* \u001b[33m527e07a\u001b[m\u001b[33m (\u001b[m\u001b[1;36mHEAD -> \u001b[m\u001b[1;32mmain\u001b[m\u001b[33m, \u001b[m\u001b[1;33mtag: v_tag\u001b[m\u001b[33m, \u001b[m\u001b[1;31morigin/main\u001b[m\u001b[33m, \u001b[m\u001b[1;32mnew_feature\u001b[m\u001b[33m)\u001b[m Create README.md\n",
            "*   \u001b[33m679bb49\u001b[m archivo1.py con el merge resuelto\n",
            "\u001b[32m|\u001b[m\u001b[33m\\\u001b[m  \n",
            "\u001b[32m|\u001b[m * \u001b[33m32851c3\u001b[m archivo1.py en rama rama_con_conflicto\n",
            "* \u001b[33m|\u001b[m \u001b[33m53f909b\u001b[m archivo1.py en rama main\n",
            "\u001b[33m|\u001b[m\u001b[33m/\u001b[m  \n",
            "* \u001b[33m52acb97\u001b[m Merge squash de los commits de la rama branch_squash\n",
            "*   \u001b[33m274529c\u001b[m Merge branch 'branch_no_fast_forward' into main\n",
            "\u001b[34m|\u001b[m\u001b[35m\\\u001b[m  \n",
            "\u001b[34m|\u001b[m * \u001b[33m8df3429\u001b[m\u001b[33m (\u001b[m\u001b[1;32mbranch_no_fast_forward\u001b[m\u001b[33m)\u001b[m file2\n",
            "\u001b[34m|\u001b[m * \u001b[33me4e23c9\u001b[m file1\n",
            "* \u001b[35m|\u001b[m \u001b[33m8bdf4d8\u001b[m file3\n",
            "\u001b[35m|\u001b[m\u001b[35m/\u001b[m  \n",
            "* \u001b[33m94149fc\u001b[m\u001b[33m (\u001b[m\u001b[1;32mbranch_fast_forward\u001b[m\u001b[33m)\u001b[m Eliminado hola.py\n",
            "* \u001b[33m4484e70\u001b[m Eliminado archivo4.py\n",
            "* \u001b[33m564ccfb\u001b[m\u001b[33m (\u001b[m\u001b[1;32mnew_branch2\u001b[m\u001b[33m)\u001b[m Commit con el archivo 8\n",
            "* \u001b[33m5168f78\u001b[m Eliminado archivo7.py\n",
            "* \u001b[33m4bb9d75\u001b[m\u001b[33m (\u001b[m\u001b[1;33mtag: v_local\u001b[m\u001b[33m, \u001b[m\u001b[1;32mnew_branch\u001b[m\u001b[33m)\u001b[m Commit con el archivo 7\n",
            "* \u001b[33mea615a9\u001b[m Eliminado archivo5.py\n",
            "* \u001b[33me3153a5\u001b[m Commit con los archivos 4 y 5\n",
            "* \u001b[33m0b09cfa\u001b[m A\u00f1adido .gitignore\n",
            "* \u001b[33m04ebd1f\u001b[m Commit con los archivos 1 y 2\n",
            "* \u001b[33mc4930d7\u001b[m Tercer commit, hola.py\n",
            "* \u001b[33m6e99e73\u001b[m Segundo commit, hola.py\n",
            "* \u001b[33m1c95e4f\u001b[m Primer commit, hola.py\n"
          ]
        }
      ],
      "source": [
        "!cd notebook_git && git tree"
      ]
    },
    {
      "attachments": {},
      "cell_type": "markdown",
      "metadata": {},
      "source": [
        "Agora mudamos para o ponto em que criamos a tag `v_local` atrav\u00e9s de `git reset --hard v_local`"
      ]
    },
    {
      "cell_type": "code",
      "execution_count": 10,
      "metadata": {},
      "outputs": [
        {
          "name": "stdout",
          "output_type": "stream",
          "text": [
            "HEAD est\u00e1 ahora en 4bb9d75 Commit con el archivo 7\n"
          ]
        }
      ],
      "source": [
        "!cd notebook_git && git reset --hard v_local"
      ]
    },
    {
      "attachments": {},
      "cell_type": "markdown",
      "metadata": {},
      "source": [
        "Se agora fizermos um `ls` vemos que n\u00e3o temos os mesmos arquivos"
      ]
    },
    {
      "cell_type": "code",
      "execution_count": 11,
      "metadata": {},
      "outputs": [
        {
          "name": "stdout",
          "output_type": "stream",
          "text": [
            "api_keys.py  archivo1.py  archivo2.py  archivo4.py  archivo7.py  hola.py\n"
          ]
        }
      ],
      "source": [
        "!cd notebook_git && ls"
      ]
    },
    {
      "attachments": {},
      "cell_type": "markdown",
      "metadata": {},
      "source": [
        "Se additionally vemos o hist\u00f3rico, vemos que mudamos de momento do hist\u00f3rico."
      ]
    },
    {
      "cell_type": "code",
      "execution_count": 12,
      "metadata": {},
      "outputs": [
        {
          "name": "stdout",
          "output_type": "stream",
          "text": [
            "* \u001b[33m4bb9d75\u001b[m\u001b[33m (\u001b[m\u001b[1;36mHEAD -> \u001b[m\u001b[1;32mmain\u001b[m\u001b[33m, \u001b[m\u001b[1;33mtag: v_local\u001b[m\u001b[33m, \u001b[m\u001b[1;32mnew_branch\u001b[m\u001b[33m)\u001b[m Commit con el archivo 7\n",
            "* \u001b[33mea615a9\u001b[m Eliminado archivo5.py\n",
            "* \u001b[33me3153a5\u001b[m Commit con los archivos 4 y 5\n",
            "* \u001b[33m0b09cfa\u001b[m A\u00f1adido .gitignore\n",
            "* \u001b[33m04ebd1f\u001b[m Commit con los archivos 1 y 2\n",
            "* \u001b[33mc4930d7\u001b[m Tercer commit, hola.py\n",
            "* \u001b[33m6e99e73\u001b[m Segundo commit, hola.py\n",
            "* \u001b[33m1c95e4f\u001b[m Primer commit, hola.py\n"
          ]
        }
      ],
      "source": [
        "!cd notebook_git && git tree"
      ]
    },
    {
      "attachments": {},
      "cell_type": "markdown",
      "metadata": {},
      "source": [
        "Para voltar ao \u00faltimo momento do hist\u00f3rico, como tamb\u00e9m criamos um tag, basta fazer `git reset --hard v_tag`"
      ]
    },
    {
      "cell_type": "code",
      "execution_count": 13,
      "metadata": {},
      "outputs": [
        {
          "name": "stdout",
          "output_type": "stream",
          "text": [
            "HEAD est\u00e1 ahora en 527e07a Create README.md\n"
          ]
        }
      ],
      "source": [
        "!cd notebook_git && git reset --hard v_tag"
      ]
    },
    {
      "attachments": {},
      "cell_type": "markdown",
      "metadata": {},
      "source": [
        "Voltamos a ver o hist\u00f3rico para verificar que retornamos ao \u00faltimo momento do hist\u00f3rico"
      ]
    },
    {
      "cell_type": "code",
      "execution_count": 14,
      "metadata": {},
      "outputs": [
        {
          "name": "stdout",
          "output_type": "stream",
          "text": [
            "* \u001b[33m527e07a\u001b[m\u001b[33m (\u001b[m\u001b[1;36mHEAD -> \u001b[m\u001b[1;32mmain\u001b[m\u001b[33m, \u001b[m\u001b[1;33mtag: v_tag\u001b[m\u001b[33m, \u001b[m\u001b[1;31morigin/main\u001b[m\u001b[33m, \u001b[m\u001b[1;32mnew_feature\u001b[m\u001b[33m)\u001b[m Create README.md\n",
            "*   \u001b[33m679bb49\u001b[m archivo1.py con el merge resuelto\n",
            "\u001b[32m|\u001b[m\u001b[33m\\\u001b[m  \n",
            "\u001b[32m|\u001b[m * \u001b[33m32851c3\u001b[m archivo1.py en rama rama_con_conflicto\n",
            "* \u001b[33m|\u001b[m \u001b[33m53f909b\u001b[m archivo1.py en rama main\n",
            "\u001b[33m|\u001b[m\u001b[33m/\u001b[m  \n",
            "* \u001b[33m52acb97\u001b[m Merge squash de los commits de la rama branch_squash\n",
            "*   \u001b[33m274529c\u001b[m Merge branch 'branch_no_fast_forward' into main\n",
            "\u001b[34m|\u001b[m\u001b[35m\\\u001b[m  \n",
            "\u001b[34m|\u001b[m * \u001b[33m8df3429\u001b[m\u001b[33m (\u001b[m\u001b[1;32mbranch_no_fast_forward\u001b[m\u001b[33m)\u001b[m file2\n",
            "\u001b[34m|\u001b[m * \u001b[33me4e23c9\u001b[m file1\n",
            "* \u001b[35m|\u001b[m \u001b[33m8bdf4d8\u001b[m file3\n",
            "\u001b[35m|\u001b[m\u001b[35m/\u001b[m  \n",
            "* \u001b[33m94149fc\u001b[m\u001b[33m (\u001b[m\u001b[1;32mbranch_fast_forward\u001b[m\u001b[33m)\u001b[m Eliminado hola.py\n",
            "* \u001b[33m4484e70\u001b[m Eliminado archivo4.py\n",
            "* \u001b[33m564ccfb\u001b[m\u001b[33m (\u001b[m\u001b[1;32mnew_branch2\u001b[m\u001b[33m)\u001b[m Commit con el archivo 8\n",
            "* \u001b[33m5168f78\u001b[m Eliminado archivo7.py\n",
            "* \u001b[33m4bb9d75\u001b[m\u001b[33m (\u001b[m\u001b[1;33mtag: v_local\u001b[m\u001b[33m, \u001b[m\u001b[1;32mnew_branch\u001b[m\u001b[33m)\u001b[m Commit con el archivo 7\n",
            "* \u001b[33mea615a9\u001b[m Eliminado archivo5.py\n",
            "* \u001b[33me3153a5\u001b[m Commit con los archivos 4 y 5\n",
            "* \u001b[33m0b09cfa\u001b[m A\u00f1adido .gitignore\n",
            "* \u001b[33m04ebd1f\u001b[m Commit con los archivos 1 y 2\n",
            "* \u001b[33mc4930d7\u001b[m Tercer commit, hola.py\n",
            "* \u001b[33m6e99e73\u001b[m Segundo commit, hola.py\n",
            "* \u001b[33m1c95e4f\u001b[m Primer commit, hola.py\n"
          ]
        }
      ],
      "source": [
        "!cd notebook_git && git tree"
      ]
    }
  ],
  "metadata": {
    "kernelspec": {
      "display_name": "base",
      "language": "python",
      "name": "python3"
    },
    "language_info": {
      "codemirror_mode": {
        "name": "ipython",
        "version": 3
      },
      "file_extension": ".py",
      "mimetype": "text/x-python",
      "name": "python",
      "nbconvert_exporter": "python",
      "pygments_lexer": "ipython3",
      "version": "3.10.9"
    },
    "maximofn": {
      "date": "2023-04-23",
      "description_en": "Have you rewritten that code that took you hours to do? Don't panic! With GIT, say goodbye to Oops, I deleted it. Join me on this adventure and learn how to play with versions like a programming rockstar. \ud83c\udfb8 \ud83d\udcbe #GITandRoll",
      "description_es": "\u00bfHas vuelto a sobreescribir ese c\u00f3digo que te llev\u00f3 horas hacer? \ud83d\ude2d \u00a1Que no cunda el p\u00e1nico! Con GIT, dile adi\u00f3s a los Oops, lo borr\u00e9. Acomp\u00e1\u00f1ame en esta aventura y aprende a jugar con las versiones como un rockstar de la programaci\u00f3n. \ud83c\udfb8 \ud83d\udcbe #GITandRoll",
      "description_pt": "Voc\u00ea reescreveu aquele c\u00f3digo que levou horas para ser feito? N\u00e3o entre em p\u00e2nico! Com o GIT, diga adeus ao Ops, apaguei. Junte-se a mim nesta aventura e aprenda a brincar com as vers\u00f5es como um astro da programa\u00e7\u00e3o. \ud83c\udfb8 \ud83d\udcbe #GITeRoll",
      "end_url": "git",
      "image": "https://pub-fb664c455eca46a2ba762a065ac900f7.r2.dev/Git.webp",
      "image_hover_path": "https://pub-fb664c455eca46a2ba762a065ac900f7.r2.dev/Git.webp",
      "keywords_en": "git, version control, control de versiones, versionamento, git tags, git branches, git reset, git checkout",
      "keywords_es": "git, control de versiones, versionamento, git tags, git branches, git reset, git checkout",
      "keywords_pt": "git, controle de vers\u00f5es, versionamento, git tags, git branches, git reset, git checkout",
      "title_en": "Git",
      "title_es": "Git",
      "title_pt": "Git"
    },
    "orig_nbformat": 4
  },
  "nbformat": 4,
  "nbformat_minor": 2
}