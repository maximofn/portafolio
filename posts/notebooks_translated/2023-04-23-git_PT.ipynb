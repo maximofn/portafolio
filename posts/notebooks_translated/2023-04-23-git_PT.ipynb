{
  "cells": [
  {
      "attachments": {},
      "cell_type": "markdown",
      "metadata": {},
      "source": [
      "# Git"
      ]
    },
{
      "attachments": {},
      "cell_type": "markdown",
      "metadata": {},
      "source": [
      "## Introdução"
      ]
    },
{
      "attachments": {},
      "cell_type": "markdown",
      "metadata": {},
      "source": [
      "Este caderno foi traduzido automaticamente para torná-lo acessível a mais pessoas, por favor me avise se você vir algum erro de digitação..\n",
"\n",
"O Git é um software de controle de versão criado por Linus Torvalds, que o criou para ter um bom controle de versão ao desenvolver o kernel do Linux."
      ]
    },
{
      "attachments": {},
      "cell_type": "markdown",
      "metadata": {},
      "source": [
      "## As áreas git"
      ]
    },
{
      "attachments": {},
      "cell_type": "markdown",
      "metadata": {},
      "source": [
      "O Git tem três áreas, embora uma quarta também possa ser considerada.\n",
"\n",
"![git states](https://pub-fb664c455eca46a2ba762a065ac900f7.r2.dev/git-states.webp)\n",
"\n",
" * O primeiro é o nosso espaço de trabalho, onde temos todo o nosso código. Aqui, quando modificamos ou criamos um arquivo, ele deixa de ser rastreado e, portanto, precisamos movê-lo para a área `staged`.\n",
" * A segunda área é a área `staged`. É aqui que os arquivos que modificamos ou criamos e que não foram rastreados passam a ser rastreados, ou seja, o git os rastreia. Aqui, enviaremos os arquivos para a próxima área `head`.\n",
" * A terceira área é a área `head`. Aqui registramos uma versão do nosso código. Dessa forma, ao salvar versões, podemos voltar a versões anteriores, se necessário. A versão salva do nosso código pode ser enviada a um servidor para que possa ser acessada por várias pessoas.\n",
" * As três áreas acima correspondem ao trabalho local, mas há mais uma área, que é o \"servidor remoto\". Aqui, o que fazemos é enviar a versão gravada do nosso código para um servidor para que tenhamos acesso ao código de qualquer lugar ou para que mais pessoas tenham acesso a ele.\n",
"\n",
"Para fazer uma analogia, é como um palco onde você vai tirar uma foto. Primeiro, você tem seus arquivos modificados, então envia os que deseja imortalizar para a área `staged`, ou seja, para o palco. Assim que tiver enviado todos os arquivos que considera, você tira a foto e envia todos os arquivos para a área `head`. Dessa forma, você pode tirar várias fotos, à medida que o código evolui, para que possa ter um álbum de fotos da evolução do código. Por fim, você pode carregar essa foto em um servidor para que ela fique acessível a mais pessoas, ou seja, você a envia para a área `servidor remoto`."
      ]
    },
{
      "attachments": {},
      "cell_type": "markdown",
      "metadata": {},
      "source": [
      "## Instalar o git"
      ]
    },
{
      "attachments": {},
      "cell_type": "markdown",
      "metadata": {},
      "source": [
      "Na maioria das distribuições Linux, o git já está instalado e podemos verificar isso com `git --version`."
      ]
    },
{
      "cell_type": "code",
      "execution_count": 1,
      "metadata": {},
      "outputs": [
      {
          "name": "stdout",
          "output_type": "stream",
          "text": [
          "git version 2.25.1\n"
          ]
        }
      ],
      "source": [
      "!git --version"
      ]
    },
{
      "attachments": {},
      "cell_type": "markdown",
      "metadata": {},
      "source": [
      "Se você não o tiver ou quiser atualizar sua versão do git, execute `sudo apt update` e, em seguida, `sudo apt install git`."
      ]
    },
{
      "cell_type": "code",
      "execution_count": 3,
      "metadata": {},
      "outputs": [
      {
          "name": "stdout",
          "output_type": "stream",
          "text": [
          "[sudo] password for maximo.fernandez@AEROESPACIAL.SENER: \n"
          ]
        }
      ],
      "source": [
      "!sudo apt update && sudo apt install git"
      ]
    },
{
      "attachments": {},
      "cell_type": "markdown",
      "metadata": {},
      "source": [
      "Verificamos novamente a versão"
      ]
    },
{
      "cell_type": "code",
      "execution_count": 4,
      "metadata": {},
      "outputs": [
      {
          "name": "stdout",
          "output_type": "stream",
          "text": [
          "git version 2.25.1\n"
          ]
        }
      ],
      "source": [
      "!git --version"
      ]
    },
{
      "attachments": {},
      "cell_type": "markdown",
      "metadata": {},
      "source": [
      "No meu caso, eu já tinha a versão mais recente"
      ]
    },
{
      "attachments": {},
      "cell_type": "markdown",
      "metadata": {},
      "source": [
      "## Configuração inicial"
      ]
    },
{
      "attachments": {},
      "cell_type": "markdown",
      "metadata": {},
      "source": [
      "### Configurações de nome e correio eletrônico"
      ]
    },
{
      "attachments": {},
      "cell_type": "markdown",
      "metadata": {},
      "source": [
      "Antes de começar a usar o git, é conveniente que você faça algumas configurações mínimas, como o nome de usuário e o e-mail, pois essas informações são as que serão exibidas ao mostrar quem fez alterações no código. Para fazer isso, você precisa executar\n",
"\n",
"\n",
"````bash\n",
"git config --global user.name \"<username>\"\n",
"git config --global user.email \"<email>\"\n",
"```\n",
"\n",
"No meu caso, eu colocaria\n",
"\n",
"````bash\n",
"git config --global user.name \"MaximoFN\".\n",
"git config --global user.email \"maximofn@gmail.com\n",
"```"
      ]
    },
{
      "attachments": {},
      "cell_type": "markdown",
      "metadata": {},
      "source": [
      "Como você pode ver, o sinalizador `--global` altera a configuração global do git, mas se você precisar colocar outros dados em um repositório específico, basta navegar até o repositório e remover o sinalizador `--global` dos comandos acima.\n",
"\n",
"````bash\n",
"git config user.name \"<nome de usuário>\"\n",
"git config user.email \"<email>\"\n",
"```"
      ]
    },
{
      "attachments": {},
      "cell_type": "markdown",
      "metadata": {},
      "source": [
      "### Configurar o editor padrão"
      ]
    },
{
      "attachments": {},
      "cell_type": "markdown",
      "metadata": {},
      "source": [
      "Quando explicarmos mais tarde o que é `commit`, veremos que uma das opções pode abrir um navegador para nós. Por padrão, o git tentará usar o `vim`, mas como não é um editor muito fácil de usar, podemos modificá-lo. Veja como fazer isso com alguns editores comuns\n",
"\n",
"````bash\n",
"git config --global core.editor \"code\" # vscode como editor\n",
"git config --global core.editor \"atom\" # Atom como editor\n",
"git config --global core.editor \"subl\" # Sublime text como editor\n",
"git config --global core.editor \"nano\" # Nano como editor\n",
"```"
      ]
    },
{
      "attachments": {},
      "cell_type": "markdown",
      "metadata": {},
      "source": [
      "### Verificar a configuração do git"
      ]
    },
{
      "attachments": {},
      "cell_type": "markdown",
      "metadata": {},
      "source": [
      "Para verificar a configuração do git, podemos usar `git config --lits`."
      ]
    },
{
      "cell_type": "code",
      "execution_count": 6,
      "metadata": {},
      "outputs": [
      {
          "name": "stdout",
          "output_type": "stream",
          "text": [
          "user.name=maximofn\n",
"user.email=maximofn@gmail.com\n",
"user.user=maximofn\n",
"http.sslverify=true\n",
"core.repositoryformatversion=0\n",
"core.filemode=true\n",
"core.bare=false\n",
"core.logallrefupdates=true\n",
"remote.origin.url=https://github.com/maximofn/portafolio.git\n",
"remote.origin.fetch=+refs/heads/*:refs/remotes/origin/*\n",
"branch.main.remote=origin\n",
"branch.main.merge=refs/heads/main\n"
          ]
        }
      ],
      "source": [
      "!git config --list"
      ]
    },
{
      "attachments": {},
      "cell_type": "markdown",
      "metadata": {},
      "source": [
      "Podemos usar os sinalizadores `--global`, `-local` e `--system` para ver apenas a configuração global, local (se houver) e do sistema (se houver)."
      ]
    },
{
      "cell_type": "code",
      "execution_count": 8,
      "metadata": {},
      "outputs": [
      {
          "name": "stdout",
          "output_type": "stream",
          "text": [
          "user.name=maximofn\n",
"user.email=maximofn@gmail.com\n",
"user.user=maximofn\n",
"http.sslverify=true\n"
          ]
        }
      ],
      "source": [
      "!git config --global --list"
      ]
    },
{
      "cell_type": "code",
      "execution_count": 9,
      "metadata": {},
      "outputs": [
      {
          "name": "stdout",
          "output_type": "stream",
          "text": [
          "core.repositoryformatversion=0\n",
"core.filemode=true\n",
"core.bare=false\n",
"core.logallrefupdates=true\n",
"remote.origin.url=https://github.com/maximofn/portafolio.git\n",
"remote.origin.fetch=+refs/heads/*:refs/remotes/origin/*\n",
"branch.main.remote=origin\n",
"branch.main.merge=refs/heads/main\n"
          ]
        }
      ],
      "source": [
      "!git config --local --list"
      ]
    },
{
      "cell_type": "code",
      "execution_count": 10,
      "metadata": {},
      "outputs": [
      {
          "name": "stdout",
          "output_type": "stream",
          "text": [
          "fatal: unable to read config file '/etc/gitconfig': No such file or directory\n"
          ]
        }
      ],
      "source": [
      "!git config --system --list"
      ]
    },
{
      "attachments": {},
      "cell_type": "markdown",
      "metadata": {},
      "source": [
      "No meu caso, não há configuração do sistema"
      ]
    },
{
      "attachments": {},
      "cell_type": "markdown",
      "metadata": {},
      "source": [
      "Se você quiser saber apenas o valor de um parâmetro de configuração, basta digitar `git config <parameter>`."
      ]
    },
{
      "cell_type": "code",
      "execution_count": 15,
      "metadata": {},
      "outputs": [
      {
          "name": "stdout",
          "output_type": "stream",
          "text": [
          "maximofn\n"
          ]
        }
      ],
      "source": [
      "!git config user.name"
      ]
    },
{
      "attachments": {},
      "cell_type": "markdown",
      "metadata": {},
      "source": [
      "## Controle de versão local"
      ]
    },
{
      "attachments": {},
      "cell_type": "markdown",
      "metadata": {},
      "source": [
      "### Inicializando um novo repositório (`git init`)"
      ]
    },
{
      "attachments": {},
      "cell_type": "markdown",
      "metadata": {},
      "source": [
      "Há duas maneiras de inicializar um novo repositório, fazendo\n",
" * Uma delas é usar o `git init <nome do repositório>`. Isso criará uma nova pasta com o nome do repositório\n",
" * Outra opção é navegar até a pasta onde queremos criar um repositório e executar o `git init`.\n",
"\n",
"Vou criar um novo repositório"
      ]
    },
{
      "cell_type": "code",
      "execution_count": 1,
      "metadata": {},
      "outputs": [
      {
          "name": "stdout",
          "output_type": "stream",
          "text": [
          "Inicializado repositorio Git vacío en /home/wallabot/Documentos/web/portafolio/posts/notebook_git/.git/\n"
          ]
        }
      ],
      "source": [
      "!git init notebook_git"
      ]
    },
{
      "attachments": {},
      "cell_type": "markdown",
      "metadata": {},
      "source": [
      "Se agora fizermos `ls`, veremos que uma nova pasta chamada `notebook_git` foi criada."
      ]
    },
{
      "cell_type": "code",
      "execution_count": 3,
      "metadata": {},
      "outputs": [
      {
          "name": "stdout",
          "output_type": "stream",
          "text": [
          "notebook_git\n"
          ]
        }
      ],
      "source": [
      "!ls | grep notebook_git"
      ]
    },
{
      "attachments": {},
      "cell_type": "markdown",
      "metadata": {},
      "source": [
      "Nós nos movemos para ele"
      ]
    },
{
      "cell_type": "code",
      "execution_count": 4,
      "metadata": {},
      "outputs": [],
      "source": [
      "!cd notebook_git"
      ]
    },
{
      "attachments": {},
      "cell_type": "markdown",
      "metadata": {},
      "source": [
      "Agora, dentro da pasta, temos duas maneiras de saber que o repositório foi criado: uma delas é fazer `ls -a`, que mostrará todos os arquivos e veremos que há uma pasta chamada `.git`. A outra maneira é usar o `git status` que nos informará o status do repositório."
      ]
    },
{
      "cell_type": "code",
      "execution_count": 5,
      "metadata": {},
      "outputs": [
      {
          "name": "stdout",
          "output_type": "stream",
          "text": [
          ".  ..  .git\n"
          ]
        }
      ],
      "source": [
      "!cd notebook_git && ls -a"
      ]
    },
{
      "cell_type": "code",
      "execution_count": 6,
      "metadata": {},
      "outputs": [
      {
          "name": "stdout",
          "output_type": "stream",
          "text": [
          "En la rama master\n",
"\n",
"No hay commits todavía\n",
"\n",
"no hay nada para confirmar (crea/copia archivos y usa \"git add\" para hacerles seguimiento)\n"
          ]
        }
      ],
      "source": [
      "!cd notebook_git && git status"
      ]
    },
{
      "attachments": {},
      "cell_type": "markdown",
      "metadata": {},
      "source": [
      "Como estamos em um notebook, cada célula tem seu `path` no `path` do notebook, então, nas duas vezes, tive que fazer `cd notebook_git &&`, para que ele mudasse para a pasta com o repositório que acabamos de criar."
      ]
    },
{
      "attachments": {},
      "cell_type": "markdown",
      "metadata": {},
      "source": [
      "Se eu tentar agora o `git status` em outro `path` em que um repositório não foi inicializado, ocorrerá um erro"
      ]
    },
{
      "cell_type": "code",
      "execution_count": 95,
      "metadata": {},
      "outputs": [
      {
          "name": "stdout",
          "output_type": "stream",
          "text": [
          "fatal: no es un repositorio git (ni ninguno de los directorios superiores): .git\n"
          ]
        }
      ],
      "source": [
      "!cd ~/ && git status"
      ]
    },
{
      "attachments": {},
      "cell_type": "markdown",
      "metadata": {},
      "source": [
      "### Criar novos arquivos"
      ]
    },
{
      "attachments": {},
      "cell_type": "markdown",
      "metadata": {},
      "source": [
      "Assim que tivermos inicializado um repositório, poderemos começar a criar novos arquivos, portanto, vamos criar um e ver o que acontece."
      ]
    },
{
      "cell_type": "code",
      "execution_count": 7,
      "metadata": {},
      "outputs": [],
      "source": [
      "!cd notebook_git && echo \"print('Hello World')\" > hello.py"
      ]
    },
{
      "attachments": {},
      "cell_type": "markdown",
      "metadata": {},
      "source": [
      "Se fizermos `git status` novamente, veremos o que está sendo mostrado"
      ]
    },
{
      "cell_type": "code",
      "execution_count": 8,
      "metadata": {},
      "outputs": [
      {
          "name": "stdout",
          "output_type": "stream",
          "text": [
          "En la rama master\n",
"\n",
"No hay commits todavía\n",
"\n",
"Archivos sin seguimiento:\n",
"  (usa \"git add <archivo>...\" para incluirlo a lo que se será confirmado)\n",
"\t\u001b[31mhello.py\u001b[m\n",
"\n",
"no hay nada agregado al commit pero hay archivos sin seguimiento presentes (usa \"git add\" para hacerles seguimiento)\n"
          ]
        }
      ],
      "source": [
      "!cd notebook_git && git status"
      ]
    },
{
      "attachments": {},
      "cell_type": "markdown",
      "metadata": {},
      "source": [
      "Como você pode ver agora, ele está nos informando que o arquivo `hello.py` não foi rastreado. Ou seja, temos que adicionar o `hello.py` à área `staged`, que, lembre-se, é como o palco onde colocaremos tudo o que mais tarde será fotografado."
      ]
    },
{
      "attachments": {},
      "cell_type": "markdown",
      "metadata": {},
      "source": [
      "### Desfazer a criação de um novo arquivo"
      ]
    },
{
      "attachments": {},
      "cell_type": "markdown",
      "metadata": {},
      "source": [
      "Nesse caso, como são arquivos que o git ainda não está rastreando, ou seja, ainda não estão na área `staged`, teríamos três maneiras de fazer isso"
      ]
    },
{
      "attachments": {},
      "cell_type": "markdown",
      "metadata": {},
      "source": [
      " * Simplesmente excluindo-o: Como o git ainda não segue o arquivo, poderíamos fazer `rm hello.py` e pronto.\n",
" * Exclusão com um comando git: Anteriormente, excluímos com o comando `rm`, mas é possível que você esteja em um sistema que não tenha o comando `rm` e, nesse caso, você pode usar o comando git `git rm hello.py`.\n",
" * Finalmente, podemos usar o `git clean`. Isso é útil, por exemplo, quando há muitos arquivos novos e, portanto, em um único comando, excluímos todos eles."
      ]
    },
{
      "attachments": {},
      "cell_type": "markdown",
      "metadata": {},
      "source": [
      "#### `git clean`"
      ]
    },
{
      "attachments": {},
      "cell_type": "markdown",
      "metadata": {},
      "source": [
      "Se simplesmente executarmos o `git clean`, ocorrerá um erro."
      ]
    },
{
      "cell_type": "code",
      "execution_count": 9,
      "metadata": {},
      "outputs": [
      {
          "name": "stdout",
          "output_type": "stream",
          "text": [
          "fatal: clean.requireForce default en true y ninguno de -i, -n, ni -f entregado; rehusando el clean\n"
          ]
        }
      ],
      "source": [
      "!cd notebook_git && git clean"
      ]
    },
{
      "attachments": {},
      "cell_type": "markdown",
      "metadata": {},
      "source": [
      "Ele está nos dizendo que um desses sinalizadores `-n`, `-i` e `-f` precisa ser adicionado. Além disso, vamos dar uma olhada no sinalizador `-d\n",
"\n",
" * `-n` (dry run): informa quais arquivos devem ser excluídos, mas não os exclui.\n",
" * `-i`: cada arquivo a ser excluído será solicitado.\n",
" * `-f`: forçará a exclusão de arquivos\n",
" * `-d`: também excluirá pastas."
      ]
    },
{
      "attachments": {},
      "cell_type": "markdown",
      "metadata": {},
      "source": [
      "Vamos testá-lo. Primeiro, usamos o `git clean -n` para saber quais arquivos seriam excluídos."
      ]
    },
{
      "cell_type": "code",
      "execution_count": 10,
      "metadata": {},
      "outputs": [
      {
          "name": "stdout",
          "output_type": "stream",
          "text": [
          "Será borrado hello.py\n"
          ]
        }
      ],
      "source": [
      "!cd notebook_git && git clean -n"
      ]
    },
{
      "attachments": {},
      "cell_type": "markdown",
      "metadata": {},
      "source": [
      "Agora usamos o `git clean -f` para excluí-lo, já que concordamos em excluí-lo."
      ]
    },
{
      "cell_type": "code",
      "execution_count": 11,
      "metadata": {},
      "outputs": [
      {
          "name": "stdout",
          "output_type": "stream",
          "text": [
          "Borrando hello.py\n"
          ]
        }
      ],
      "source": [
      "!cd notebook_git && git clean -f"
      ]
    },
{
      "attachments": {},
      "cell_type": "markdown",
      "metadata": {},
      "source": [
      "Como podemos ver, você excluiu o `hello.py`."
      ]
    },
{
      "attachments": {},
      "cell_type": "markdown",
      "metadata": {},
      "source": [
      "### Adicionar um arquivo à área de preparação (`git add`)"
      ]
    },
{
      "attachments": {},
      "cell_type": "markdown",
      "metadata": {},
      "source": [
      "Recriamos um arquivo"
      ]
    },
{
      "cell_type": "code",
      "execution_count": 12,
      "metadata": {},
      "outputs": [],
      "source": [
      "!cd notebook_git && echo \"print('Hola mundo')\" > hola.py"
      ]
    },
{
      "attachments": {},
      "cell_type": "markdown",
      "metadata": {},
      "source": [
      "Fazemos um `git status` novamente para verificar se temos o arquivo."
      ]
    },
{
      "cell_type": "code",
      "execution_count": 13,
      "metadata": {},
      "outputs": [
      {
          "name": "stdout",
          "output_type": "stream",
          "text": [
          "En la rama master\n",
"\n",
"No hay commits todavía\n",
"\n",
"Archivos sin seguimiento:\n",
"  (usa \"git add <archivo>...\" para incluirlo a lo que se será confirmado)\n",
"\t\u001b[31mhola.py\u001b[m\n",
"\n",
"no hay nada agregado al commit pero hay archivos sin seguimiento presentes (usa \"git add\" para hacerles seguimiento)\n"
          ]
        }
      ],
      "source": [
      "!cd notebook_git && git status"
      ]
    },
{
      "attachments": {},
      "cell_type": "markdown",
      "metadata": {},
      "source": [
      "Vemos que temos o arquivo `hola.py`, mas que o git não o está rastreando. Vemos também que ele nos ajuda e diz `use \"git add\" para rastreá-los`.\n",
"\n",
"A sintaxe é `git add <file>`, mas podemos fazer isso de várias maneiras\n",
"\n",
" * Se quisermos adicionar mais de um arquivo, podemos fazê-lo colocando todos os arquivos que queremos adicionar à área de preparação, separados por um espaço: `git add <file1> <file2> <file3>`.\n",
" * Se quisermos adicionar todos os arquivos do mesmo formato, por exemplo, se quisermos adicionar todos os arquivos python, será `git add *.py`.\n",
" * Se quisermos adicionar todos os arquivos em uma pasta `git add <folder>/`\n",
" * Se quisermos adicionar todos os arquivos, temos três maneiras: `git add --all`, `git add -A` ou `git add .`."
      ]
    },
{
      "attachments": {},
      "cell_type": "markdown",
      "metadata": {},
      "source": [
      "Vamos adicionar o arquivo recém-criado"
      ]
    },
{
      "cell_type": "code",
      "execution_count": 14,
      "metadata": {},
      "outputs": [],
      "source": [
      "!cd notebook_git && git add hola.py"
      ]
    },
{
      "attachments": {},
      "cell_type": "markdown",
      "metadata": {},
      "source": [
      "Fazemos um `git status` para ver o que aconteceu."
      ]
    },
{
      "cell_type": "code",
      "execution_count": 15,
      "metadata": {},
      "outputs": [
      {
          "name": "stdout",
          "output_type": "stream",
          "text": [
          "En la rama master\n",
"\n",
"No hay commits todavía\n",
"\n",
"Cambios a ser confirmados:\n",
"  (usa \"git rm --cached <archivo>...\" para sacar del área de stage)\n",
"\t\u001b[32mnuevos archivos: hola.py\u001b[m\n",
"\n"
          ]
        }
      ],
      "source": [
      "!cd notebook_git && git status"
      ]
    },
{
      "attachments": {},
      "cell_type": "markdown",
      "metadata": {},
      "source": [
      "Como podemos ver, ele nos informa que temos um novo arquivo que está sendo rastreado e aguardando confirmação `hola.py`."
      ]
    },
{
      "attachments": {},
      "cell_type": "markdown",
      "metadata": {},
      "source": [
      "### Remoção de um arquivo da área de preparação (`git reset`)"
      ]
    },
{
      "attachments": {},
      "cell_type": "markdown",
      "metadata": {},
      "source": [
      "Caso adicionemos um arquivo à área de preparação e queiramos removê-lo, devemos usar o `git reset <file>`, vejamos"
      ]
    },
{
      "attachments": {},
      "cell_type": "markdown",
      "metadata": {},
      "source": [
      "Criamos e adicionamos à área de preparação um novo arquivo"
      ]
    },
{
      "cell_type": "code",
      "execution_count": 16,
      "metadata": {},
      "outputs": [],
      "source": [
      "!cd notebook_git && echo \"print('Este no')\" > adios.py && git add adios.py"
      ]
    },
{
      "attachments": {},
      "cell_type": "markdown",
      "metadata": {},
      "source": [
      "Usamos o `git status` para verificar se ele está na área de preparação."
      ]
    },
{
      "cell_type": "code",
      "execution_count": 17,
      "metadata": {},
      "outputs": [
      {
          "name": "stdout",
          "output_type": "stream",
          "text": [
          "En la rama master\n",
"\n",
"No hay commits todavía\n",
"\n",
"Cambios a ser confirmados:\n",
"  (usa \"git rm --cached <archivo>...\" para sacar del área de stage)\n",
"\t\u001b[32mnuevos archivos: adios.py\u001b[m\n",
"\t\u001b[32mnuevos archivos: hola.py\u001b[m\n",
"\n"
          ]
        }
      ],
      "source": [
      "!cd notebook_git && git status"
      ]
    },
{
      "attachments": {},
      "cell_type": "markdown",
      "metadata": {},
      "source": [
      "Como podemos ver, há o `hello.py` e o `adios.py`, portanto, usamos o `git reset adios.py` para removê-lo da área de preparação."
      ]
    },
{
      "cell_type": "code",
      "execution_count": 18,
      "metadata": {},
      "outputs": [],
      "source": [
      "!cd notebook_git && git reset adios.py"
      ]
    },
{
      "attachments": {},
      "cell_type": "markdown",
      "metadata": {},
      "source": [
      "Fazemos um `git status` para verificar se ele foi enviado."
      ]
    },
{
      "cell_type": "code",
      "execution_count": 19,
      "metadata": {},
      "outputs": [
      {
          "name": "stdout",
          "output_type": "stream",
          "text": [
          "En la rama master\n",
"\n",
"No hay commits todavía\n",
"\n",
"Cambios a ser confirmados:\n",
"  (usa \"git rm --cached <archivo>...\" para sacar del área de stage)\n",
"\t\u001b[32mnuevos archivos: hola.py\u001b[m\n",
"\n",
"Archivos sin seguimiento:\n",
"  (usa \"git add <archivo>...\" para incluirlo a lo que se será confirmado)\n",
"\t\u001b[31madios.py\u001b[m\n",
"\n"
          ]
        }
      ],
      "source": [
      "!cd notebook_git && git status"
      ]
    },
{
      "attachments": {},
      "cell_type": "markdown",
      "metadata": {},
      "source": [
      "Podemos ver que o `adios.py` não é mais rastreado pelo git, ele foi removido da área de preparação."
      ]
    },
{
      "attachments": {},
      "cell_type": "markdown",
      "metadata": {},
      "source": [
      "Fazemos `git clean -f` para excluí-lo."
      ]
    },
{
      "cell_type": "code",
      "execution_count": 20,
      "metadata": {},
      "outputs": [
      {
          "name": "stdout",
          "output_type": "stream",
          "text": [
          "Borrando adios.py\n",
"En la rama master\n",
"\n",
"No hay commits todavía\n",
"\n",
"Cambios a ser confirmados:\n",
"  (usa \"git rm --cached <archivo>...\" para sacar del área de stage)\n",
"\t\u001b[32mnuevos archivos: hola.py\u001b[m\n",
"\n"
          ]
        }
      ],
      "source": [
      "!cd notebook_git && git clean -f && git status"
      ]
    },
{
      "attachments": {},
      "cell_type": "markdown",
      "metadata": {},
      "source": [
      "### Commit (`git commit`)"
      ]
    },
{
      "attachments": {},
      "cell_type": "markdown",
      "metadata": {},
      "source": [
      "Se voltarmos à analogia em que dissemos que a área preparada era o estágio em que enviamos os arquivos dos quais queríamos tirar a foto, agora é hora de tirar a foto para imortalizar o estado atual. Isso é fazer um \"commit\".\n",
"\n",
"Dessa forma, o estado atual do código é registrado e, portanto, a cada confirmação, teremos um registro da evolução do código. Como em um álbum de fotos, a cada foto temos um registro da evolução do que colocamos no palco."
      ]
    },
{
      "attachments": {},
      "cell_type": "markdown",
      "metadata": {},
      "source": [
      "Como no momento do commit a alteração do código está sendo registrada, o git não nos deixará fazer o commit se não fizermos um comentário mínimo. Portanto, há duas maneiras de fazer o commit\n",
"\n",
" * git commit` abrirá o editor que definimos na configuração do git. Se não tivermos definido um editor padrão, o `vi` será aberto. Se quisermos alterar a configuração do editor, podemos fazer, por exemplo, `git config --global core.editor \"code\"` ou `git config core.editor \"code\"` para definir o vscode como o editor padrão global ou localmente.\n",
" * `git commit -m \"Commit message\"`. Dessa forma, adicionamos a mensagem diretamente\n",
"\n",
"Ao fazer o commit da primeira maneira, podemos ter uma primeira linha que será o título do commit e várias outras linhas onde ele é explicado em mais detalhes. Se quisermos fazer isso com o sinalizador `-m`, basta adicionar vários sinalizadores `-m` em uma linha: `git commit -m \"Título do commit\" -m \"Primeira linha explicando mais\" -m \"Segunda linha explicando mais\"`."
      ]
    },
{
      "attachments": {},
      "cell_type": "markdown",
      "metadata": {},
      "source": [
      "Após o commit, isso manterá um registro da alteração em nosso repositório localmente. Ainda não nos conectamos a um servidor remoto"
      ]
    },
{
      "attachments": {},
      "cell_type": "markdown",
      "metadata": {},
      "source": [
      "Vamos tentar nos comprometer"
      ]
    },
{
      "cell_type": "code",
      "execution_count": 21,
      "metadata": {},
      "outputs": [
      {
          "name": "stdout",
          "output_type": "stream",
          "text": [
          "[master (commit-raíz) 1c95e4f] Primer commit, hola.py\n",
" 1 file changed, 1 insertion(+)\n",
" create mode 100644 hola.py\n"
          ]
        }
      ],
      "source": [
      "!cd notebook_git && git commit -m \"Primer commit, hola.py\""
      ]
    },
{
      "attachments": {},
      "cell_type": "markdown",
      "metadata": {},
      "source": [
      "Fazemos um `git status`"
      ]
    },
{
      "cell_type": "code",
      "execution_count": 22,
      "metadata": {},
      "outputs": [
      {
          "name": "stdout",
          "output_type": "stream",
          "text": [
          "En la rama master\n",
"nada para hacer commit, el árbol de trabajo está limpio\n"
          ]
        }
      ],
      "source": [
      "!cd notebook_git && git status"
      ]
    },
{
      "attachments": {},
      "cell_type": "markdown",
      "metadata": {},
      "source": [
      "Vemos que isso nos diz que não há nada de novo, que temos todo o nosso repositório sob controle."
      ]
    },
{
      "attachments": {},
      "cell_type": "markdown",
      "metadata": {},
      "source": [
      "#### Commit skipping add (`git commit -a -m` ou `git commit -am`)"
      ]
    },
{
      "attachments": {},
      "cell_type": "markdown",
      "metadata": {},
      "source": [
      "No caso de querermos mover todos os arquivos que modificamos para a área de preparação e depois confirmá-los, podemos fazer tudo isso em uma única etapa usando `git commit -a -m \"message\"`, `git commit --all -m \"message\"` ou `git commit -am \"message\"`.\n",
"\n",
" > Observação: isso só é válido se um arquivo for modificado. Se o arquivo for novo e o git não o rastrear, isso é inválido.\n",
"\n",
"Vejamos um exemplo, vamos modificar o `hola.py`."
      ]
    },
{
      "cell_type": "code",
      "execution_count": 23,
      "metadata": {},
      "outputs": [],
      "source": [
      "!cd notebook_git && echo \"print('He añadido una nueva linea')\" >> hola.py"
      ]
    },
{
      "attachments": {},
      "cell_type": "markdown",
      "metadata": {},
      "source": [
      "Vamos fazer um `git status` para garantir que"
      ]
    },
{
      "cell_type": "code",
      "execution_count": 24,
      "metadata": {},
      "outputs": [
      {
          "name": "stdout",
          "output_type": "stream",
          "text": [
          "En la rama master\n",
"Cambios no rastreados para el commit:\n",
"  (usa \"git add <archivo>...\" para actualizar lo que será confirmado)\n",
"  (usa \"git restore <archivo>...\" para descartar los cambios en el directorio de trabajo)\n",
"\t\u001b[31mmodificados:     hola.py\u001b[m\n",
"\n",
"sin cambios agregados al commit (usa \"git add\" y/o \"git commit -a\")\n"
          ]
        }
      ],
      "source": [
      "!cd notebook_git && git status"
      ]
    },
{
      "attachments": {},
      "cell_type": "markdown",
      "metadata": {},
      "source": [
      "Podemos ver que a própria ajuda do git sugere o uso do `git commit -a`, então vamos fazer isso."
      ]
    },
{
      "cell_type": "code",
      "execution_count": 25,
      "metadata": {},
      "outputs": [
      {
          "name": "stdout",
          "output_type": "stream",
          "text": [
          "[master 6e99e73] Segundo commit, hola.py\n",
" 1 file changed, 1 insertion(+)\n"
          ]
        }
      ],
      "source": [
      "!cd notebook_git && git commit -am \"Segundo commit, hola.py\""
      ]
    },
{
      "attachments": {},
      "cell_type": "markdown",
      "metadata": {},
      "source": [
      "Refazemos um `git status`."
      ]
    },
{
      "cell_type": "code",
      "execution_count": 26,
      "metadata": {},
      "outputs": [
      {
          "name": "stdout",
          "output_type": "stream",
          "text": [
          "En la rama master\n",
"nada para hacer commit, el árbol de trabajo está limpio\n"
          ]
        }
      ],
      "source": [
      "!cd notebook_git && git status"
      ]
    },
{
      "attachments": {},
      "cell_type": "markdown",
      "metadata": {},
      "source": [
      "Não há nada a comprometer, o comitê de mudança já foi criado."
      ]
    },
{
      "attachments": {},
      "cell_type": "markdown",
      "metadata": {},
      "source": [
      "### Modificar um arquivo para o qual foi feito um commit"
      ]
    },
{
      "attachments": {},
      "cell_type": "markdown",
      "metadata": {},
      "source": [
      "Como estamos modificando arquivos durante o desenvolvimento, podemos modificar um arquivo que já foi confirmado. No nosso caso, vamos adicionar uma linha ao `hello.py`."
      ]
    },
{
      "cell_type": "code",
      "execution_count": 27,
      "metadata": {},
      "outputs": [],
      "source": [
      "!cd notebook_git && echo \"print('He añadido una tercera linea')\" >> hola.py"
      ]
    },
{
      "cell_type": "code",
      "execution_count": 28,
      "metadata": {},
      "outputs": [
      {
          "name": "stdout",
          "output_type": "stream",
          "text": [
          "print('Hola mundo')\n",
"print('He añadido una nueva linea')\n",
"print('He añadido una tercera linea')\n"
          ]
        }
      ],
      "source": [
      "!cd notebook_git && cat hola.py"
      ]
    },
{
      "attachments": {},
      "cell_type": "markdown",
      "metadata": {},
      "source": [
      "Se fizermos o `git status`, veremos que o `hola.py` tem modificações"
      ]
    },
{
      "cell_type": "code",
      "execution_count": 29,
      "metadata": {},
      "outputs": [
      {
          "name": "stdout",
          "output_type": "stream",
          "text": [
          "En la rama master\n",
"Cambios no rastreados para el commit:\n",
"  (usa \"git add <archivo>...\" para actualizar lo que será confirmado)\n",
"  (usa \"git restore <archivo>...\" para descartar los cambios en el directorio de trabajo)\n",
"\t\u001b[31mmodificados:     hola.py\u001b[m\n",
"\n",
"sin cambios agregados al commit (usa \"git add\" y/o \"git commit -a\")\n"
          ]
        }
      ],
      "source": [
      "!cd notebook_git && git status"
      ]
    },
{
      "attachments": {},
      "cell_type": "markdown",
      "metadata": {},
      "source": [
      "### Exibir alterações em um arquivo (`git diff <file>`)"
      ]
    },
{
      "attachments": {},
      "cell_type": "markdown",
      "metadata": {},
      "source": [
      "É possível que estejamos desenvolvendo há algum tempo desde o último commit e não saibamos quais alterações fizemos, por isso usamos o `git diff <file>` para nos informar quais alterações fizemos."
      ]
    },
{
      "cell_type": "code",
      "execution_count": 30,
      "metadata": {},
      "outputs": [
      {
          "name": "stdout",
          "output_type": "stream",
          "text": [
          "\u001b[1mdiff --git a/hola.py b/hola.py\u001b[m\n",
"\u001b[1mindex 91dee80..fba0d22 100644\u001b[m\n",
"\u001b[1m--- a/hola.py\u001b[m\n",
"\u001b[1m+++ b/hola.py\u001b[m\n",
"\u001b[36m@@ -1,2 +1,3 @@\u001b[m\n",
" print('Hola mundo')\u001b[m\n",
" print('He añadido una nueva linea')\u001b[m\n",
"\u001b[32m+\u001b[m\u001b[32mprint('He añadido una tercera linea')\u001b[m\n"
          ]
        }
      ],
      "source": [
      "!cd notebook_git && git diff hola.py"
      ]
    },
{
      "attachments": {},
      "cell_type": "markdown",
      "metadata": {},
      "source": [
      "Embora não seja muito intuitivo, podemos ver que adicionamos a última linha no `hola.py`."
      ]
    },
{
      "attachments": {},
      "cell_type": "markdown",
      "metadata": {},
      "source": [
      "### Desfazer alterações em um arquivo (`git restore <file>`)"
      ]
    },
{
      "attachments": {},
      "cell_type": "markdown",
      "metadata": {},
      "source": [
      "Se não gostarmos das alterações que fizemos e quisermos removê-las, o que podemos fazer é `git restore <file>`."
      ]
    },
{
      "cell_type": "code",
      "execution_count": 31,
      "metadata": {},
      "outputs": [],
      "source": [
      "!cd notebook_git && git restore hola.py"
      ]
    },
{
      "attachments": {},
      "cell_type": "markdown",
      "metadata": {},
      "source": [
      "Vamos ver o que aconteceu com um `git status`."
      ]
    },
{
      "cell_type": "code",
      "execution_count": 32,
      "metadata": {},
      "outputs": [
      {
          "name": "stdout",
          "output_type": "stream",
          "text": [
          "En la rama master\n",
"nada para hacer commit, el árbol de trabajo está limpio\n"
          ]
        }
      ],
      "source": [
      "!cd notebook_git && git status"
      ]
    },
{
      "attachments": {},
      "cell_type": "markdown",
      "metadata": {},
      "source": [
      "Vemos que as alterações no `hola.py` desde o último commit foram descartadas."
      ]
    },
{
      "attachments": {},
      "cell_type": "markdown",
      "metadata": {},
      "source": [
      "### Histórico de alterações (`git log`)"
      ]
    },
{
      "attachments": {},
      "cell_type": "markdown",
      "metadata": {},
      "source": [
      "Com o git, podemos ver o histórico de todas as alterações que estamos fazendo, para isso usamos o `git log`. É como se estivéssemos vendo nosso álbum de fotos."
      ]
    },
{
      "cell_type": "code",
      "execution_count": 33,
      "metadata": {},
      "outputs": [
      {
          "name": "stdout",
          "output_type": "stream",
          "text": [
          "\u001b[33mcommit 6e99e73cf0c5474078cc9f328ee6a54fb9ffb169\u001b[m\u001b[33m (\u001b[m\u001b[1;36mHEAD -> \u001b[m\u001b[1;32mmaster\u001b[m\u001b[33m)\u001b[m\n",
"Author: maximofn <maximofn@gmail.com>\n",
"Date:   Sun Apr 16 02:29:04 2023 +0200\n",
"\n",
"    Segundo commit, hola.py\n",
"\n",
"\u001b[33mcommit 1c95e4fd8388ceedee368e0121c4b0ef4900c2ac\u001b[m\n",
"Author: maximofn <maximofn@gmail.com>\n",
"Date:   Sun Apr 16 02:28:44 2023 +0200\n",
"\n",
"    Primer commit, hola.py\n"
          ]
        }
      ],
      "source": [
      "!cd notebook_git && git log"
      ]
    },
{
      "attachments": {},
      "cell_type": "markdown",
      "metadata": {},
      "source": [
      "Podemos ver o histórico de alterações e lê-lo de baixo para cima.\n",
"\n",
"Primeiro, vemos o commit com a mensagem `First commit, hello.py`, podemos ver a data, o autor e o hash, que é seu identificador exclusivo.\n",
"\n",
"Em seguida, vemos o segundo commit com a mensagem `Second commit, hello.py`, com sua data, autor e hash. Ele também nos mostra onde está o `HEAD` e em qual branch estamos."
      ]
    },
{
      "attachments": {},
      "cell_type": "markdown",
      "metadata": {},
      "source": [
      "Se usarmos sinalizadores, poderemos obter as informações de diferentes maneiras, mas, dependendo dos sinalizadores que usarmos, isso poderá ser melhor para nós:\n",
"\n",
" * `git log --oneline`: exibe os commits em uma única linha, com o hash abreviado e a mensagem do commit.\n",
" * `git log --graph`: exibe um gráfico de texto do histórico do repositório, incluindo ramificações e mesclagens.\n",
" * `git log --decorate`: mostra referências (branches, tags, HEAD, etc.) no registro junto com o commit para o qual elas apontam.\n",
" * ` `git log --author=\"<author>\"`: filtra o histórico de commits para mostrar apenas os commits feitos por um autor específico.\n",
" * ` `git log --since=\"<date>\"`: exibe os commits desde uma data específica. Você pode usar diferentes formatos de data, como \"1 semana atrás\" ou \"2023-01-01\".\n",
" * ` `git log --until=\"<date>\"`: exibe os commits até uma data específica.\n",
" * `git log <branch>`: exibe os commits de uma ramificação específica.\n",
" * `git log <commit1>..<commit2>`: exibe os commits que estão no intervalo entre dois commits específicos.\n",
" * ` `git log --grep=\"<palavra>\"`: pesquisa mensagens de commit para uma palavra ou frase específica.\n",
" * `git log -p`: mostra as diferenças (em forma de patch) introduzidas em cada commit.\n",
" * `git log -n <número>`: exibe o último número de commits. Por exemplo, git log -n 5 mostrará os últimos 5 commits.\n",
" * `git log --stat`: exibe estatísticas de alteração de arquivo para cada commit, como o número de linhas adicionadas e removidas.\n",
"\n",
"Por exemplo, uma maneira conveniente de visualizar o histórico é usar `git log --graph --oneline --decorate`."
      ]
    },
{
      "cell_type": "code",
      "execution_count": 34,
      "metadata": {},
      "outputs": [
      {
          "name": "stdout",
          "output_type": "stream",
          "text": [
          "* \u001b[33m6e99e73\u001b[m\u001b[33m (\u001b[m\u001b[1;36mHEAD -> \u001b[m\u001b[1;32mmaster\u001b[m\u001b[33m)\u001b[m Segundo commit, hola.py\n",
"* \u001b[33m1c95e4f\u001b[m Primer commit, hola.py\n"
          ]
        }
      ],
      "source": [
      "!cd notebook_git && git log --graph --oneline --decorate"
      ]
    },
{
      "attachments": {},
      "cell_type": "markdown",
      "metadata": {},
      "source": [
      "Podemos ver que, em vez de nos fornecer o hash completo, ele nos fornece apenas alguns números. Isso ocorre porque, no momento, o repositório tem tão pouco histórico que esses poucos números são suficientes. Se quiséssemos voltar ao ponto anterior, em vez de inserir o hash completo (`7c448f69e30ab1b5783f5cf9ee3ae5bc362ecd4d`), apenas inserir `7c448f6` seria suficiente."
      ]
    },
{
      "attachments": {},
      "cell_type": "markdown",
      "metadata": {},
      "source": [
      "Falaremos sobre ramificações mais tarde, mas agora vamos dar uma olhada no que é o `HEAD`."
      ]
    },
{
      "attachments": {},
      "cell_type": "markdown",
      "metadata": {},
      "source": [
      "### CABEÇA"
      ]
    },
{
      "attachments": {},
      "cell_type": "markdown",
      "metadata": {},
      "source": [
      "Durante o desenvolvimento, pudemos fazer alterações e comentá-las, ou seja, estamos preenchendo o álbum de fotos do nosso código. `HEAD` é a posição no álbum em que estamos.\n",
"\n",
"Normalmente, é a última posição de todos os commits."
      ]
    },
{
      "attachments": {},
      "cell_type": "markdown",
      "metadata": {},
      "source": [
      "Se quisermos saber onde estamos, podemos fazer isso com o `git rev-parse HEAD`."
      ]
    },
{
      "cell_type": "code",
      "execution_count": 35,
      "metadata": {},
      "outputs": [
      {
          "name": "stdout",
          "output_type": "stream",
          "text": [
          "6e99e73cf0c5474078cc9f328ee6a54fb9ffb169\n"
          ]
        }
      ],
      "source": [
      "!cd notebook_git && git rev-parse HEAD"
      ]
    },
{
      "attachments": {},
      "cell_type": "markdown",
      "metadata": {},
      "source": [
      "Como você pode ver, o hash obtido corresponde ao último hash obtido ao executar o `git log`."
      ]
    },
{
      "cell_type": "code",
      "execution_count": 36,
      "metadata": {},
      "outputs": [
      {
          "name": "stdout",
          "output_type": "stream",
          "text": [
          "\u001b[33mcommit 6e99e73cf0c5474078cc9f328ee6a54fb9ffb169\u001b[m\u001b[33m (\u001b[m\u001b[1;36mHEAD -> \u001b[m\u001b[1;32mmaster\u001b[m\u001b[33m)\u001b[m\n",
"Author: maximofn <maximofn@gmail.com>\n",
"Date:   Sun Apr 16 02:29:04 2023 +0200\n",
"\n",
"    Segundo commit, hola.py\n",
"\n",
"\u001b[33mcommit 1c95e4fd8388ceedee368e0121c4b0ef4900c2ac\u001b[m\n",
"Author: maximofn <maximofn@gmail.com>\n",
"Date:   Sun Apr 16 02:28:44 2023 +0200\n",
"\n",
"    Primer commit, hola.py\n"
          ]
        }
      ],
      "source": [
      "!cd notebook_git && git log"
      ]
    },
{
      "attachments": {},
      "cell_type": "markdown",
      "metadata": {},
      "source": [
      "### Modificar um commit (`git commit --amend`)"
      ]
    },
{
      "attachments": {},
      "cell_type": "markdown",
      "metadata": {},
      "source": [
      "Podemos querer modificar um commit porque queremos alterar a mensagem ou porque queremos adicionar mais arquivos ao commit, portanto, veremos os dois casos."
      ]
    },
{
      "attachments": {},
      "cell_type": "markdown",
      "metadata": {},
      "source": [
      "#### Modificar a mensagem de confirmação"
      ]
    },
{
      "attachments": {},
      "cell_type": "markdown",
      "metadata": {},
      "source": [
      "Se quisermos apenas modificar a mensagem, o que precisamos fazer é `git commit --amend -m \"New message\"`. Vamos ver um exemplo: vamos modificar o arquivo `hello.py`."
      ]
    },
{
      "cell_type": "code",
      "execution_count": 37,
      "metadata": {},
      "outputs": [],
      "source": [
      "!cd notebook_git && echo \"print('Esta es la tercera linea')\" >> hola.py"
      ]
    },
{
      "attachments": {},
      "cell_type": "markdown",
      "metadata": {},
      "source": [
      "Fazemos um `git status`"
      ]
    },
{
      "cell_type": "code",
      "execution_count": 38,
      "metadata": {},
      "outputs": [
      {
          "name": "stdout",
          "output_type": "stream",
          "text": [
          "En la rama master\n",
"Cambios no rastreados para el commit:\n",
"  (usa \"git add <archivo>...\" para actualizar lo que será confirmado)\n",
"  (usa \"git restore <archivo>...\" para descartar los cambios en el directorio de trabajo)\n",
"\t\u001b[31mmodificados:     hola.py\u001b[m\n",
"\n",
"sin cambios agregados al commit (usa \"git add\" y/o \"git commit -a\")\n"
          ]
        }
      ],
      "source": [
      "!cd notebook_git && git status"
      ]
    },
{
      "attachments": {},
      "cell_type": "markdown",
      "metadata": {},
      "source": [
      "De fato, vemos que o `hola.py` tem modificações, portanto, fazemos um commit com essas modificações"
      ]
    },
{
      "cell_type": "code",
      "execution_count": 39,
      "metadata": {},
      "outputs": [
      {
          "name": "stdout",
          "output_type": "stream",
          "text": [
          "[master 60e2ffd] Tercer commot, hola.py\n",
" 1 file changed, 1 insertion(+)\n"
          ]
        }
      ],
      "source": [
      "!cd notebook_git && git commit -am \"Tercer commot, hola.py\""
      ]
    },
{
      "attachments": {},
      "cell_type": "markdown",
      "metadata": {},
      "source": [
      "Vamos dar uma olhada no histórico de commits"
      ]
    },
{
      "cell_type": "code",
      "execution_count": 40,
      "metadata": {},
      "outputs": [
      {
          "name": "stdout",
          "output_type": "stream",
          "text": [
          "* \u001b[33m60e2ffd\u001b[m\u001b[33m (\u001b[m\u001b[1;36mHEAD -> \u001b[m\u001b[1;32mmaster\u001b[m\u001b[33m)\u001b[m Tercer commot, hola.py\n",
"* \u001b[33m6e99e73\u001b[m Segundo commit, hola.py\n",
"* \u001b[33m1c95e4f\u001b[m Primer commit, hola.py\n"
          ]
        }
      ],
      "source": [
      "!cd notebook_git && git log --graph --oneline --decorate"
      ]
    },
{
      "attachments": {},
      "cell_type": "markdown",
      "metadata": {},
      "source": [
      "**Oh não! **Escrevemos `commot` em vez de `commit`, portanto, vamos modificar a mensagem"
      ]
    },
{
      "cell_type": "code",
      "execution_count": 41,
      "metadata": {},
      "outputs": [
      {
          "name": "stdout",
          "output_type": "stream",
          "text": [
          "[master c4930d7] Tercer commit, hola.py\n",
" Date: Sun Apr 16 02:29:59 2023 +0200\n",
" 1 file changed, 1 insertion(+)\n"
          ]
        }
      ],
      "source": [
      "!cd notebook_git && git commit --amend -m \"Tercer commit, hola.py\""
      ]
    },
{
      "attachments": {},
      "cell_type": "markdown",
      "metadata": {},
      "source": [
      "Analisamos o hostorial novamente"
      ]
    },
{
      "cell_type": "code",
      "execution_count": 42,
      "metadata": {},
      "outputs": [
      {
          "name": "stdout",
          "output_type": "stream",
          "text": [
          "* \u001b[33mc4930d7\u001b[m\u001b[33m (\u001b[m\u001b[1;36mHEAD -> \u001b[m\u001b[1;32mmaster\u001b[m\u001b[33m)\u001b[m Tercer commit, hola.py\n",
"* \u001b[33m6e99e73\u001b[m Segundo commit, hola.py\n",
"* \u001b[33m1c95e4f\u001b[m Primer commit, hola.py\n"
          ]
        }
      ],
      "source": [
      "!cd notebook_git && git log --graph --oneline --decorate"
      ]
    },
{
      "attachments": {},
      "cell_type": "markdown",
      "metadata": {},
      "source": [
      "Vemos que agora está bem"
      ]
    },
{
      "attachments": {},
      "cell_type": "markdown",
      "metadata": {},
      "source": [
      "#### Adicionar arquivos ao último commit"
      ]
    },
{
      "attachments": {},
      "cell_type": "markdown",
      "metadata": {},
      "source": [
      "Suponhamos que tenhamos esquecido de adicionar um arquivo ao último commit, basta fazer um `git add` com esse arquivo e fazer `git commit --amend -m \"message\"`."
      ]
    },
{
      "attachments": {},
      "cell_type": "markdown",
      "metadata": {},
      "source": [
      "Criaremos dois novos arquivos"
      ]
    },
{
      "cell_type": "code",
      "execution_count": 43,
      "metadata": {},
      "outputs": [],
      "source": [
      "!cd notebook_git && echo \"print('Este es el archivo 1')\" > archivo1.py"
      ]
    },
{
      "cell_type": "code",
      "execution_count": 44,
      "metadata": {},
      "outputs": [],
      "source": [
      "!cd notebook_git && echo \"print('Este es el archivo 2')\" > archivo2.py"
      ]
    },
{
      "attachments": {},
      "cell_type": "markdown",
      "metadata": {},
      "source": [
      "Agora cometemos apenas um"
      ]
    },
{
      "cell_type": "code",
      "execution_count": 45,
      "metadata": {},
      "outputs": [
      {
          "name": "stdout",
          "output_type": "stream",
          "text": [
          "[master 285b243] Commit con el archivo 1\n",
" 1 file changed, 1 insertion(+)\n",
" create mode 100644 archivo1.py\n"
          ]
        }
      ],
      "source": [
      "!cd notebook_git && git add archivo1.py && git commit -m \"Commit con el archivo 1\""
      ]
    },
{
      "cell_type": "code",
      "execution_count": 46,
      "metadata": {},
      "outputs": [
      {
          "name": "stdout",
          "output_type": "stream",
          "text": [
          "En la rama master\n",
"Archivos sin seguimiento:\n",
"  (usa \"git add <archivo>...\" para incluirlo a lo que se será confirmado)\n",
"\t\u001b[31marchivo2.py\u001b[m\n",
"\n",
"no hay nada agregado al commit pero hay archivos sin seguimiento presentes (usa \"git add\" para hacerles seguimiento)\n"
          ]
        }
      ],
      "source": [
      "!cd notebook_git && git status"
      ]
    },
{
      "cell_type": "code",
      "execution_count": 47,
      "metadata": {},
      "outputs": [
      {
          "name": "stdout",
          "output_type": "stream",
          "text": [
          "* \u001b[33m285b243\u001b[m\u001b[33m (\u001b[m\u001b[1;36mHEAD -> \u001b[m\u001b[1;32mmaster\u001b[m\u001b[33m)\u001b[m Commit con el archivo 1\n",
"* \u001b[33mc4930d7\u001b[m Tercer commit, hola.py\n",
"* \u001b[33m6e99e73\u001b[m Segundo commit, hola.py\n",
"* \u001b[33m1c95e4f\u001b[m Primer commit, hola.py\n"
          ]
        }
      ],
      "source": [
      "!cd notebook_git && git log --graph --oneline --decorate"
      ]
    },
{
      "attachments": {},
      "cell_type": "markdown",
      "metadata": {},
      "source": [
      "Como podemos ver, deixamos o arquivo 2, portanto, modificamos o commit e adicionamos o arquivo 2."
      ]
    },
{
      "cell_type": "code",
      "execution_count": 48,
      "metadata": {},
      "outputs": [],
      "source": [
      "!cd notebook_git && git add archivo2.py"
      ]
    },
{
      "cell_type": "code",
      "execution_count": 49,
      "metadata": {},
      "outputs": [
      {
          "name": "stdout",
          "output_type": "stream",
          "text": [
          "[master 04ebd1f] Commit con los archivos 1 y 2\n",
" Date: Sun Apr 16 02:30:26 2023 +0200\n",
" 2 files changed, 2 insertions(+)\n",
" create mode 100644 archivo1.py\n",
" create mode 100644 archivo2.py\n"
          ]
        }
      ],
      "source": [
      "!cd notebook_git && git commit --amend -m \"Commit con los archivos 1 y 2\""
      ]
    },
{
      "cell_type": "code",
      "execution_count": 50,
      "metadata": {},
      "outputs": [
      {
          "name": "stdout",
          "output_type": "stream",
          "text": [
          "En la rama master\n",
"nada para hacer commit, el árbol de trabajo está limpio\n"
          ]
        }
      ],
      "source": [
      "!cd notebook_git && git status"
      ]
    },
{
      "cell_type": "code",
      "execution_count": 51,
      "metadata": {},
      "outputs": [
      {
          "name": "stdout",
          "output_type": "stream",
          "text": [
          "* \u001b[33m04ebd1f\u001b[m\u001b[33m (\u001b[m\u001b[1;36mHEAD -> \u001b[m\u001b[1;32mmaster\u001b[m\u001b[33m)\u001b[m Commit con los archivos 1 y 2\n",
"* \u001b[33mc4930d7\u001b[m Tercer commit, hola.py\n",
"* \u001b[33m6e99e73\u001b[m Segundo commit, hola.py\n",
"* \u001b[33m1c95e4f\u001b[m Primer commit, hola.py\n"
          ]
        }
      ],
      "source": [
      "!cd notebook_git && git log --graph --oneline --decorate"
      ]
    },
{
      "attachments": {},
      "cell_type": "markdown",
      "metadata": {},
      "source": [
      "Agora, o último commit tem os dois novos arquivos"
      ]
    },
{
      "attachments": {},
      "cell_type": "markdown",
      "metadata": {},
      "source": [
      "### Desfazer um commit (`git reset HEAD~1`)"
      ]
    },
{
      "attachments": {},
      "cell_type": "markdown",
      "metadata": {},
      "source": [
      "Com esse comando, dizemos ao git para retroceder uma posição no histórico de commits. Há duas opções: `--soft`, que não exclui as alterações feitas, e `--hard`, que exclui."
      ]
    },
{
      "attachments": {},
      "cell_type": "markdown",
      "metadata": {},
      "source": [
      "#### Desfazer um commit mantendo as alterações (`git reset --soft HEAD~1`)"
      ]
    },
{
      "attachments": {},
      "cell_type": "markdown",
      "metadata": {},
      "source": [
      "Vamos criar um novo arquivo"
      ]
    },
{
      "cell_type": "code",
      "execution_count": 52,
      "metadata": {},
      "outputs": [],
      "source": [
      "!cd notebook_git && echo \"print('Este es el archivo 3')\" > archivo3.py"
      ]
    },
{
      "attachments": {},
      "cell_type": "markdown",
      "metadata": {},
      "source": [
      "Fazemos um `git status`"
      ]
    },
{
      "cell_type": "code",
      "execution_count": 53,
      "metadata": {},
      "outputs": [
      {
          "name": "stdout",
          "output_type": "stream",
          "text": [
          "En la rama master\n",
"Archivos sin seguimiento:\n",
"  (usa \"git add <archivo>...\" para incluirlo a lo que se será confirmado)\n",
"\t\u001b[31marchivo3.py\u001b[m\n",
"\n",
"no hay nada agregado al commit pero hay archivos sin seguimiento presentes (usa \"git add\" para hacerles seguimiento)\n"
          ]
        }
      ],
      "source": [
      "!cd notebook_git && git status"
      ]
    },
{
      "attachments": {},
      "cell_type": "markdown",
      "metadata": {},
      "source": [
      "Fazemos um commit adicionando este arquivo"
      ]
    },
{
      "cell_type": "code",
      "execution_count": 54,
      "metadata": {},
      "outputs": [
      {
          "name": "stdout",
          "output_type": "stream",
          "text": [
          "[master 6dc7be6] Commit con el archivos 3\n",
" 1 file changed, 1 insertion(+)\n",
" create mode 100644 archivo3.py\n"
          ]
        }
      ],
      "source": [
      "!cd notebook_git && git add archivo3.py && git commit -m \"Commit con el archivos 3\""
      ]
    },
{
      "cell_type": "code",
      "execution_count": 55,
      "metadata": {},
      "outputs": [
      {
          "name": "stdout",
          "output_type": "stream",
          "text": [
          "* \u001b[33m6dc7be6\u001b[m\u001b[33m (\u001b[m\u001b[1;36mHEAD -> \u001b[m\u001b[1;32mmaster\u001b[m\u001b[33m)\u001b[m Commit con el archivos 3\n",
"* \u001b[33m04ebd1f\u001b[m Commit con los archivos 1 y 2\n",
"* \u001b[33mc4930d7\u001b[m Tercer commit, hola.py\n",
"* \u001b[33m6e99e73\u001b[m Segundo commit, hola.py\n",
"* \u001b[33m1c95e4f\u001b[m Primer commit, hola.py\n"
          ]
        }
      ],
      "source": [
      "!cd notebook_git && git log --graph --oneline --decorate"
      ]
    },
{
      "attachments": {},
      "cell_type": "markdown",
      "metadata": {},
      "source": [
      "Vemos que o último commit contém `file3.py`, vamos excluir o commit mantendo `file3.py`."
      ]
    },
{
      "cell_type": "code",
      "execution_count": 56,
      "metadata": {},
      "outputs": [],
      "source": [
      "!cd notebook_git && git reset --soft HEAD~1"
      ]
    },
{
      "attachments": {},
      "cell_type": "markdown",
      "metadata": {},
      "source": [
      "Agora fazemos um `git log` para ver se o último commit foi removido."
      ]
    },
{
      "cell_type": "code",
      "execution_count": 57,
      "metadata": {},
      "outputs": [
      {
          "name": "stdout",
          "output_type": "stream",
          "text": [
          "* \u001b[33m04ebd1f\u001b[m\u001b[33m (\u001b[m\u001b[1;36mHEAD -> \u001b[m\u001b[1;32mmaster\u001b[m\u001b[33m)\u001b[m Commit con los archivos 1 y 2\n",
"* \u001b[33mc4930d7\u001b[m Tercer commit, hola.py\n",
"* \u001b[33m6e99e73\u001b[m Segundo commit, hola.py\n",
"* \u001b[33m1c95e4f\u001b[m Primer commit, hola.py\n"
          ]
        }
      ],
      "source": [
      "!cd notebook_git && git log --graph --oneline --decorate"
      ]
    },
{
      "attachments": {},
      "cell_type": "markdown",
      "metadata": {},
      "source": [
      "De fato, vemos que o último commit foi excluído."
      ]
    },
{
      "attachments": {},
      "cell_type": "markdown",
      "metadata": {},
      "source": [
      "Fazemos um `git status` para ver se o `file3.py` foi preservado."
      ]
    },
{
      "cell_type": "code",
      "execution_count": 58,
      "metadata": {},
      "outputs": [
      {
          "name": "stdout",
          "output_type": "stream",
          "text": [
          "En la rama master\n",
"Cambios a ser confirmados:\n",
"  (usa \"git restore --staged <archivo>...\" para sacar del área de stage)\n",
"\t\u001b[32mnuevos archivos: archivo3.py\u001b[m\n",
"\n"
          ]
        }
      ],
      "source": [
      "!cd notebook_git && git status"
      ]
    },
{
      "attachments": {},
      "cell_type": "markdown",
      "metadata": {},
      "source": [
      "Ele foi mantido"
      ]
    },
{
      "attachments": {},
      "cell_type": "markdown",
      "metadata": {},
      "source": [
      "#### Desfazer um commit descartando as alterações (`git reset --hard HEAD~1`)"
      ]
    },
{
      "attachments": {},
      "cell_type": "markdown",
      "metadata": {},
      "source": [
      "Criamos o `file3.py` e o colocamos na área de preparação."
      ]
    },
{
      "cell_type": "code",
      "execution_count": 59,
      "metadata": {},
      "outputs": [
      {
          "name": "stdout",
          "output_type": "stream",
          "text": [
          "En la rama master\n",
"Cambios a ser confirmados:\n",
"  (usa \"git restore --staged <archivo>...\" para sacar del área de stage)\n",
"\t\u001b[32mnuevos archivos: archivo3.py\u001b[m\n",
"\n"
          ]
        }
      ],
      "source": [
      "!cd notebook_git && git status"
      ]
    },
{
      "attachments": {},
      "cell_type": "markdown",
      "metadata": {},
      "source": [
      "Então, fazemos um commit"
      ]
    },
{
      "cell_type": "code",
      "execution_count": 60,
      "metadata": {},
      "outputs": [
      {
          "name": "stdout",
          "output_type": "stream",
          "text": [
          "[master 0147d65] Commit con el archivo 3\n",
" 1 file changed, 1 insertion(+)\n",
" create mode 100644 archivo3.py\n"
          ]
        }
      ],
      "source": [
      "!cd notebook_git && git commit -m \"Commit con el archivo 3\""
      ]
    },
{
      "attachments": {},
      "cell_type": "markdown",
      "metadata": {},
      "source": [
      "Fazemos um `git log` para verificar se há um commit com esse arquivo"
      ]
    },
{
      "cell_type": "code",
      "execution_count": 61,
      "metadata": {},
      "outputs": [
      {
          "name": "stdout",
          "output_type": "stream",
          "text": [
          "* \u001b[33m0147d65\u001b[m\u001b[33m (\u001b[m\u001b[1;36mHEAD -> \u001b[m\u001b[1;32mmaster\u001b[m\u001b[33m)\u001b[m Commit con el archivo 3\n",
"* \u001b[33m04ebd1f\u001b[m Commit con los archivos 1 y 2\n",
"* \u001b[33mc4930d7\u001b[m Tercer commit, hola.py\n",
"* \u001b[33m6e99e73\u001b[m Segundo commit, hola.py\n",
"* \u001b[33m1c95e4f\u001b[m Primer commit, hola.py\n"
          ]
        }
      ],
      "source": [
      "!cd notebook_git && git log --graph --oneline --decorate"
      ]
    },
{
      "attachments": {},
      "cell_type": "markdown",
      "metadata": {},
      "source": [
      "De fato, há um commit adicionando `file3.py`. Agora, removemos esse commit descartando o `file3.py`."
      ]
    },
{
      "cell_type": "code",
      "execution_count": 62,
      "metadata": {},
      "outputs": [
      {
          "name": "stdout",
          "output_type": "stream",
          "text": [
          "HEAD está ahora en 04ebd1f Commit con los archivos 1 y 2\n"
          ]
        }
      ],
      "source": [
      "!cd notebook_git && git reset --hard HEAD~1"
      ]
    },
{
      "attachments": {},
      "cell_type": "markdown",
      "metadata": {},
      "source": [
      "Fazemos um `git log` para verificar se o último commit foi removido."
      ]
    },
{
      "cell_type": "code",
      "execution_count": 63,
      "metadata": {},
      "outputs": [
      {
          "name": "stdout",
          "output_type": "stream",
          "text": [
          "* \u001b[33m04ebd1f\u001b[m\u001b[33m (\u001b[m\u001b[1;36mHEAD -> \u001b[m\u001b[1;32mmaster\u001b[m\u001b[33m)\u001b[m Commit con los archivos 1 y 2\n",
"* \u001b[33mc4930d7\u001b[m Tercer commit, hola.py\n",
"* \u001b[33m6e99e73\u001b[m Segundo commit, hola.py\n",
"* \u001b[33m1c95e4f\u001b[m Primer commit, hola.py\n"
          ]
        }
      ],
      "source": [
      "!cd notebook_git && git log --graph --oneline --decorate"
      ]
    },
{
      "attachments": {},
      "cell_type": "markdown",
      "metadata": {},
      "source": [
      "O commit com `file3.py` foi removido, agora fazemos um `git status` para verificar o que aconteceu com o `file3.py`."
      ]
    },
{
      "cell_type": "code",
      "execution_count": 64,
      "metadata": {},
      "outputs": [
      {
          "name": "stdout",
          "output_type": "stream",
          "text": [
          "En la rama master\n",
"nada para hacer commit, el árbol de trabajo está limpio\n"
          ]
        }
      ],
      "source": [
      "!cd notebook_git && git status"
      ]
    },
{
      "attachments": {},
      "cell_type": "markdown",
      "metadata": {},
      "source": [
      "Não há nenhum `file3.py` listado como um arquivo a ser enviado, vamos ver se ele foi de fato removido."
      ]
    },
{
      "cell_type": "code",
      "execution_count": 65,
      "metadata": {},
      "outputs": [],
      "source": [
      "!cd notebook_git && ls | grep archivo3"
      ]
    },
{
      "attachments": {},
      "cell_type": "markdown",
      "metadata": {},
      "source": [
      "File3.py' foi de fato removido do sistema de arquivos."
      ]
    },
{
      "attachments": {},
      "cell_type": "markdown",
      "metadata": {},
      "source": [
      "### Modificar um commit remoto (`git push --force`)"
      ]
    },
{
      "attachments": {},
      "cell_type": "markdown",
      "metadata": {},
      "source": [
      "Embora veremos mais tarde como sincronizar com repositórios remotos, caso você tenha feito um commit, carregado-o em um repositório remoto (`git push`) e modificado o commit localmente (porque modificou a mensagem ou desfez o commit), para reverter as alterações no repositório remoto, é necessário fazer `git push --force`.\n",
"\n",
" > Cuidado: esse comando modifica o histórico do repositório remoto e, portanto, pode afetar outras pessoas que trabalham com esse repositório, portanto, use esse comando com muito cuidado e segurança. É melhor ter um histórico de commits, onde primeiro você tem o commit com a descrição errada e depois o novo commit com a nova descrição, do que sair por aí modificando o histórico."
      ]
    },
{
      "attachments": {},
      "cell_type": "markdown",
      "metadata": {},
      "source": [
      "### Modificar um commit remoto (`git push --force-with-lease`)"
      ]
    },
{
      "attachments": {},
      "cell_type": "markdown",
      "metadata": {},
      "source": [
      "Se você estiver convencido a alterar o histórico, pelo menos use `git push --force-with-lease`, que não modificará os commits subsequentes."
      ]
    },
{
      "attachments": {},
      "cell_type": "markdown",
      "metadata": {},
      "source": [
      "### Ignorar arquivos (`.gitignore`)"
      ]
    },
{
      "attachments": {},
      "cell_type": "markdown",
      "metadata": {},
      "source": [
      "Suponha que tenhamos um arquivo com `Chave API`s`, esse arquivo não queremos manter no repositório, porque se compartilharmos esse repositório, qualquer pessoa terá acesso a essas chaves, então temos que dizer ao git para não manter o controle desse arquivo.\n",
"\n",
"Isso é feito com o arquivo `.gitignore`, no qual você adiciona o caminho para os arquivos ou diretórios que não deseja que o git rastreie.\n",
"\n",
"Vamos ver isso"
      ]
    },
{
      "attachments": {},
      "cell_type": "markdown",
      "metadata": {},
      "source": [
      "Criamos o arquivo com as chaves"
      ]
    },
{
      "cell_type": "code",
      "execution_count": 66,
      "metadata": {},
      "outputs": [],
      "source": [
      "!cd notebook_git && touch api_keys.py"
      ]
    },
{
      "attachments": {},
      "cell_type": "markdown",
      "metadata": {},
      "source": [
      "Se usarmos `git status`, veremos que o git cobre o problema."
      ]
    },
{
      "cell_type": "code",
      "execution_count": 67,
      "metadata": {},
      "outputs": [
      {
          "name": "stdout",
          "output_type": "stream",
          "text": [
          "En la rama master\n",
"Archivos sin seguimiento:\n",
"  (usa \"git add <archivo>...\" para incluirlo a lo que se será confirmado)\n",
"\t\u001b[31mapi_keys.py\u001b[m\n",
"\n",
"no hay nada agregado al commit pero hay archivos sin seguimiento presentes (usa \"git add\" para hacerles seguimiento)\n"
          ]
        }
      ],
      "source": [
      "!cd notebook_git && git status"
      ]
    },
{
      "attachments": {},
      "cell_type": "markdown",
      "metadata": {},
      "source": [
      "Se não fizermos nada, podemos fazer um `git add .` e colocá-lo no repositório, portanto, por motivos de segurança, temos que dizer ao git para não seguir esse arquivo, então o que fazemos é criar o `.gitignore` adicionando este arquivo"
      ]
    },
{
      "cell_type": "code",
      "execution_count": 68,
      "metadata": {},
      "outputs": [],
      "source": [
      "!cd notebook_git && echo \"api_keys.py\" >> .gitignore"
      ]
    },
{
      "attachments": {},
      "cell_type": "markdown",
      "metadata": {},
      "source": [
      "Vamos ver o que acontece se fizermos `git status`."
      ]
    },
{
      "cell_type": "code",
      "execution_count": 69,
      "metadata": {},
      "outputs": [
      {
          "name": "stdout",
          "output_type": "stream",
          "text": [
          "En la rama master\n",
"Archivos sin seguimiento:\n",
"  (usa \"git add <archivo>...\" para incluirlo a lo que se será confirmado)\n",
"\t\u001b[31m.gitignore\u001b[m\n",
"\n",
"no hay nada agregado al commit pero hay archivos sin seguimiento presentes (usa \"git add\" para hacerles seguimiento)\n"
          ]
        }
      ],
      "source": [
      "!cd notebook_git && git status"
      ]
    },
{
      "attachments": {},
      "cell_type": "markdown",
      "metadata": {},
      "source": [
      "Vemos que o git não suporta mais o `api_keys.py`, mas suporta o `.gitignore`, portanto, fazemos o commit para adicionar o `.gitignore`."
      ]
    },
{
      "cell_type": "code",
      "execution_count": 70,
      "metadata": {},
      "outputs": [
      {
          "name": "stdout",
          "output_type": "stream",
          "text": [
          "[master 0b09cfa] Añadido .gitignore\n",
" 1 file changed, 1 insertion(+)\n",
" create mode 100644 .gitignore\n"
          ]
        }
      ],
      "source": [
      "!cd notebook_git && git add .gitignore && git commit -m \"Añadido .gitignore\""
      ]
    },
{
      "attachments": {},
      "cell_type": "markdown",
      "metadata": {},
      "source": [
      "#### Quais arquivos devem ser adicionados ao `.gitignore`?"
      ]
    },
{
      "attachments": {},
      "cell_type": "markdown",
      "metadata": {},
      "source": [
      " * Arquivos que tenham credenciais ou chaves de API (você não deve carregá-los no repositório, apenas injetá-los por meio de uma variável de ambiente)\n",
" * As pastas de configuração do seu editor (`/.vscode`)\n",
" * Arquivos de registro\n",
" Arquivos do sistema como `.DS_Store` * Arquivos do sistema como `.DS_Store`.\n",
" * Pastas geradas com arquivos estáticos ou compilações, como `/dist` ou `/build`.\n",
" * Dependências que podem ser baixadas (`/node_modules`)\n",
" * Cobertura do teste (`/coverage`)"
      ]
    },
{
      "attachments": {},
      "cell_type": "markdown",
      "metadata": {},
      "source": [
      "#### Como ignorar sempre os mesmos arquivos?"
      ]
    },
{
      "attachments": {},
      "cell_type": "markdown",
      "metadata": {},
      "source": [
      "Se, por exemplo, seu IDE sempre gera os mesmos arquivos de configuração, seria bom poder dizer ao git para sempre ignorar esses arquivos, por isso criamos um `.gitignore` global."
      ]
    },
{
      "cell_type": "code",
      "execution_count": 42,
      "metadata": {},
      "outputs": [],
      "source": [
      "!touch ~/.gitignore_global"
      ]
    },
{
      "attachments": {},
      "cell_type": "markdown",
      "metadata": {},
      "source": [
      "No meu caso, adicionarei o diretório `__pycache__/`."
      ]
    },
{
      "cell_type": "code",
      "execution_count": 50,
      "metadata": {},
      "outputs": [],
      "source": [
      "!echo \"__pycache__/\" >> ~/.gitignore_global"
      ]
    },
{
      "attachments": {},
      "cell_type": "markdown",
      "metadata": {},
      "source": [
      "Agora precisamos informar ao git que esse é o nosso `.gitignore` global."
      ]
    },
{
      "cell_type": "code",
      "execution_count": 54,
      "metadata": {},
      "outputs": [],
      "source": [
      "!git config --global core.excludesfile ~/.gitignore_global"
      ]
    },
{
      "attachments": {},
      "cell_type": "markdown",
      "metadata": {},
      "source": [
      "Feito, de agora em diante o diretório `__pycache__/` será sempre ignorado."
      ]
    },
{
      "attachments": {},
      "cell_type": "markdown",
      "metadata": {},
      "source": [
      "O GitHub tem um [repositório](https://github.com/github/gitignore) com `.gitignore`s para muitas linguagens, eu me guiei por [este](https://github.com/github/gitignore/blob/main/Python.gitignore) para Python"
      ]
    },
{
      "attachments": {},
      "cell_type": "markdown",
      "metadata": {},
      "source": [
      "### Excluir um arquivo de um commit"
      ]
    },
{
      "attachments": {},
      "cell_type": "markdown",
      "metadata": {},
      "source": [
      "Vamos ver como excluir um arquivo de um commit que fizemos. Primeiro, criamos dois arquivos e os compartilhamos."
      ]
    },
{
      "cell_type": "code",
      "execution_count": 71,
      "metadata": {},
      "outputs": [],
      "source": [
      "!cd notebook_git && echo \"print('Este es el archivo 4')\" > archivo4.py"
      ]
    },
{
      "cell_type": "code",
      "execution_count": 72,
      "metadata": {},
      "outputs": [],
      "source": [
      "!cd notebook_git && echo \"print('Este es el archivo 5')\" > archivo5.py"
      ]
    },
{
      "attachments": {},
      "cell_type": "markdown",
      "metadata": {},
      "source": [
      "Confirmamos os dois arquivos"
      ]
    },
{
      "cell_type": "code",
      "execution_count": 73,
      "metadata": {},
      "outputs": [
      {
          "name": "stdout",
          "output_type": "stream",
          "text": [
          "[master e3153a5] Commit con los archivos 4 y 5\n",
" 2 files changed, 2 insertions(+)\n",
" create mode 100644 archivo4.py\n",
" create mode 100644 archivo5.py\n"
          ]
        }
      ],
      "source": [
      "!cd notebook_git && git add archivo4.py archivo5.py && git commit -m \"Commit con los archivos 4 y 5\""
      ]
    },
{
      "cell_type": "code",
      "execution_count": 74,
      "metadata": {},
      "outputs": [
      {
          "name": "stdout",
          "output_type": "stream",
          "text": [
          "* \u001b[33me3153a5\u001b[m\u001b[33m (\u001b[m\u001b[1;36mHEAD -> \u001b[m\u001b[1;32mmaster\u001b[m\u001b[33m)\u001b[m Commit con los archivos 4 y 5\n",
"* \u001b[33m0b09cfa\u001b[m Añadido .gitignore\n",
"* \u001b[33m04ebd1f\u001b[m Commit con los archivos 1 y 2\n",
"* \u001b[33mc4930d7\u001b[m Tercer commit, hola.py\n",
"* \u001b[33m6e99e73\u001b[m Segundo commit, hola.py\n",
"* \u001b[33m1c95e4f\u001b[m Primer commit, hola.py\n"
          ]
        }
      ],
      "source": [
      "!cd notebook_git && git log --graph --oneline --decorate"
      ]
    },
{
      "attachments": {},
      "cell_type": "markdown",
      "metadata": {},
      "source": [
      "A partir daí, há duas opções para remover um arquivo de um commit:\n",
" * Excluir o arquivo e criar um novo commit\n",
" * Desfazer o commit e criá-lo novamente sem o arquivo"
      ]
    },
{
      "attachments": {},
      "cell_type": "markdown",
      "metadata": {},
      "source": [
      "#### Excluir arquivo e criar novo commit"
      ]
    },
{
      "attachments": {},
      "cell_type": "markdown",
      "metadata": {},
      "source": [
      "Suponha que desejemos excluir o arquivo `file5.py`, então o excluímos com `git rm file5.py`."
      ]
    },
{
      "cell_type": "code",
      "execution_count": 75,
      "metadata": {},
      "outputs": [
      {
          "name": "stdout",
          "output_type": "stream",
          "text": [
          "rm 'archivo5.py'\n"
          ]
        }
      ],
      "source": [
      "!cd notebook_git && git rm archivo5.py"
      ]
    },
{
      "attachments": {},
      "cell_type": "markdown",
      "metadata": {},
      "source": [
      "Vamos fazer um `git status` e ver o que acontece."
      ]
    },
{
      "cell_type": "code",
      "execution_count": 76,
      "metadata": {},
      "outputs": [
      {
          "name": "stdout",
          "output_type": "stream",
          "text": [
          "En la rama master\n",
"Cambios a ser confirmados:\n",
"  (usa \"git restore --staged <archivo>...\" para sacar del área de stage)\n",
"\t\u001b[32mborrados:        archivo5.py\u001b[m\n",
"\n"
          ]
        }
      ],
      "source": [
      "!cd notebook_git && git status"
      ]
    },
{
      "attachments": {},
      "cell_type": "markdown",
      "metadata": {},
      "source": [
      "Como podemos ver, o `file5.py` foi excluído. Agora criamos um novo commit"
      ]
    },
{
      "cell_type": "code",
      "execution_count": 77,
      "metadata": {},
      "outputs": [
      {
          "name": "stdout",
          "output_type": "stream",
          "text": [
          "[master ea615a9] Eliminado archivo5.py\n",
" 1 file changed, 1 deletion(-)\n",
" delete mode 100644 archivo5.py\n"
          ]
        }
      ],
      "source": [
      "!cd notebook_git && git commit -m \"Eliminado archivo5.py\""
      ]
    },
{
      "cell_type": "code",
      "execution_count": 78,
      "metadata": {},
      "outputs": [
      {
          "name": "stdout",
          "output_type": "stream",
          "text": [
          "* \u001b[33mea615a9\u001b[m\u001b[33m (\u001b[m\u001b[1;36mHEAD -> \u001b[m\u001b[1;32mmaster\u001b[m\u001b[33m)\u001b[m Eliminado archivo5.py\n",
"* \u001b[33me3153a5\u001b[m Commit con los archivos 4 y 5\n",
"* \u001b[33m0b09cfa\u001b[m Añadido .gitignore\n",
"* \u001b[33m04ebd1f\u001b[m Commit con los archivos 1 y 2\n",
"* \u001b[33mc4930d7\u001b[m Tercer commit, hola.py\n",
"* \u001b[33m6e99e73\u001b[m Segundo commit, hola.py\n",
"* \u001b[33m1c95e4f\u001b[m Primer commit, hola.py\n"
          ]
        }
      ],
      "source": [
      "!cd notebook_git && git log --graph --oneline --decorate"
      ]
    },
{
      "attachments": {},
      "cell_type": "markdown",
      "metadata": {},
      "source": [
      "#### Desfaça o commit e recrie-o sem o arquivo"
      ]
    },
{
      "attachments": {},
      "cell_type": "markdown",
      "metadata": {},
      "source": [
      "Recriamos dois arquivos e os confirmamos."
      ]
    },
{
      "cell_type": "code",
      "execution_count": 79,
      "metadata": {},
      "outputs": [],
      "source": [
      "!cd notebook_git && echo \"print('Este es el archivo 6')\" > archivo6.py && echo \"print('Este es el archivo 7')\" > archivo7.py"
      ]
    },
{
      "cell_type": "code",
      "execution_count": 80,
      "metadata": {},
      "outputs": [
      {
          "name": "stdout",
          "output_type": "stream",
          "text": [
          "En la rama master\n",
"Archivos sin seguimiento:\n",
"  (usa \"git add <archivo>...\" para incluirlo a lo que se será confirmado)\n",
"\t\u001b[31marchivo6.py\u001b[m\n",
"\t\u001b[31marchivo7.py\u001b[m\n",
"\n",
"no hay nada agregado al commit pero hay archivos sin seguimiento presentes (usa \"git add\" para hacerles seguimiento)\n"
          ]
        }
      ],
      "source": [
      "!cd notebook_git && git status"
      ]
    },
{
      "cell_type": "code",
      "execution_count": 81,
      "metadata": {},
      "outputs": [
      {
          "name": "stdout",
          "output_type": "stream",
          "text": [
          "[master d6dc485] Commit con los archivos 6 y 7\n",
" 2 files changed, 2 insertions(+)\n",
" create mode 100644 archivo6.py\n",
" create mode 100644 archivo7.py\n"
          ]
        }
      ],
      "source": [
      "!cd notebook_git && git add archivo6.py archivo7.py && git commit -m \"Commit con los archivos 6 y 7\""
      ]
    },
{
      "cell_type": "code",
      "execution_count": 82,
      "metadata": {},
      "outputs": [
      {
          "name": "stdout",
          "output_type": "stream",
          "text": [
          "* \u001b[33md6dc485\u001b[m\u001b[33m (\u001b[m\u001b[1;36mHEAD -> \u001b[m\u001b[1;32mmaster\u001b[m\u001b[33m)\u001b[m Commit con los archivos 6 y 7\n",
"* \u001b[33mea615a9\u001b[m Eliminado archivo5.py\n",
"* \u001b[33me3153a5\u001b[m Commit con los archivos 4 y 5\n",
"* \u001b[33m0b09cfa\u001b[m Añadido .gitignore\n",
"* \u001b[33m04ebd1f\u001b[m Commit con los archivos 1 y 2\n",
"* \u001b[33mc4930d7\u001b[m Tercer commit, hola.py\n",
"* \u001b[33m6e99e73\u001b[m Segundo commit, hola.py\n",
"* \u001b[33m1c95e4f\u001b[m Primer commit, hola.py\n"
          ]
        }
      ],
      "source": [
      "!cd notebook_git && git log --graph --oneline --decorate"
      ]
    },
{
      "attachments": {},
      "cell_type": "markdown",
      "metadata": {},
      "source": [
      "Primeiro, desfazemos o último commit com `git reset --soft HEAD~1`."
      ]
    },
{
      "cell_type": "code",
      "execution_count": 83,
      "metadata": {},
      "outputs": [],
      "source": [
      "!cd notebook_git && git reset --soft HEAD~1"
      ]
    },
{
      "attachments": {},
      "cell_type": "markdown",
      "metadata": {},
      "source": [
      "Fazemos um `git status` para ver o que aconteceu."
      ]
    },
{
      "cell_type": "code",
      "execution_count": 84,
      "metadata": {},
      "outputs": [
      {
          "name": "stdout",
          "output_type": "stream",
          "text": [
          "En la rama master\n",
"Cambios a ser confirmados:\n",
"  (usa \"git restore --staged <archivo>...\" para sacar del área de stage)\n",
"\t\u001b[32mnuevos archivos: archivo6.py\u001b[m\n",
"\t\u001b[32mnuevos archivos: archivo7.py\u001b[m\n",
"\n"
          ]
        }
      ],
      "source": [
      "!cd notebook_git && git status"
      ]
    },
{
      "attachments": {},
      "cell_type": "markdown",
      "metadata": {},
      "source": [
      "Podemos ver que o commit foi desfeito, mas os dois arquivos estão na área de preparação, portanto, para remover um dos arquivos do commir, devemos primeiro removê-lo da área de preparação."
      ]
    },
{
      "cell_type": "code",
      "execution_count": 85,
      "metadata": {},
      "outputs": [],
      "source": [
      "!cd notebook_git && git reset archivo6.py"
      ]
    },
{
      "attachments": {},
      "cell_type": "markdown",
      "metadata": {},
      "source": [
      "Refazemos um `git status`."
      ]
    },
{
      "cell_type": "code",
      "execution_count": 86,
      "metadata": {},
      "outputs": [
      {
          "name": "stdout",
          "output_type": "stream",
          "text": [
          "En la rama master\n",
"Cambios a ser confirmados:\n",
"  (usa \"git restore --staged <archivo>...\" para sacar del área de stage)\n",
"\t\u001b[32mnuevos archivos: archivo7.py\u001b[m\n",
"\n",
"Archivos sin seguimiento:\n",
"  (usa \"git add <archivo>...\" para incluirlo a lo que se será confirmado)\n",
"\t\u001b[31marchivo6.py\u001b[m\n",
"\n"
          ]
        }
      ],
      "source": [
      "!cd notebook_git && git status"
      ]
    },
{
      "attachments": {},
      "cell_type": "markdown",
      "metadata": {},
      "source": [
      "Vemos que `file7.py` está na área de preparação, enquanto `file6.py` não está mais na área de preparação. Agora podemos excluir o arquivo 6, usando o `git clean`."
      ]
    },
{
      "cell_type": "code",
      "execution_count": 87,
      "metadata": {},
      "outputs": [
      {
          "name": "stdout",
          "output_type": "stream",
          "text": [
          "Será borrado archivo6.py\n"
          ]
        }
      ],
      "source": [
      "!cd notebook_git && git clean -n"
      ]
    },
{
      "cell_type": "code",
      "execution_count": 88,
      "metadata": {},
      "outputs": [
      {
          "name": "stdout",
          "output_type": "stream",
          "text": [
          "Borrando archivo6.py\n"
          ]
        }
      ],
      "source": [
      "!cd notebook_git && git clean -f"
      ]
    },
{
      "attachments": {},
      "cell_type": "markdown",
      "metadata": {},
      "source": [
      "Refazemos um `git status`."
      ]
    },
{
      "cell_type": "code",
      "execution_count": 89,
      "metadata": {},
      "outputs": [
      {
          "name": "stdout",
          "output_type": "stream",
          "text": [
          "En la rama master\n",
"Cambios a ser confirmados:\n",
"  (usa \"git restore --staged <archivo>...\" para sacar del área de stage)\n",
"\t\u001b[32mnuevos archivos: archivo7.py\u001b[m\n",
"\n"
          ]
        }
      ],
      "source": [
      "!cd notebook_git && git status"
      ]
    },
{
      "attachments": {},
      "cell_type": "markdown",
      "metadata": {},
      "source": [
      "Como podemos ver, o arquivo `archiv6.py` desapareceu, portanto, podemos confirmar um novo arquivo `archiv6.py`."
      ]
    },
{
      "cell_type": "code",
      "execution_count": 90,
      "metadata": {},
      "outputs": [
      {
          "name": "stdout",
          "output_type": "stream",
          "text": [
          "[master 4bb9d75] Commit con el archivo 7\n",
" 1 file changed, 1 insertion(+)\n",
" create mode 100644 archivo7.py\n"
          ]
        }
      ],
      "source": [
      "!cd notebook_git && git commit -m \"Commit con el archivo 7\""
      ]
    },
{
      "cell_type": "code",
      "execution_count": 91,
      "metadata": {},
      "outputs": [
      {
          "name": "stdout",
          "output_type": "stream",
          "text": [
          "* \u001b[33m4bb9d75\u001b[m\u001b[33m (\u001b[m\u001b[1;36mHEAD -> \u001b[m\u001b[1;32mmaster\u001b[m\u001b[33m)\u001b[m Commit con el archivo 7\n",
"* \u001b[33mea615a9\u001b[m Eliminado archivo5.py\n",
"* \u001b[33me3153a5\u001b[m Commit con los archivos 4 y 5\n",
"* \u001b[33m0b09cfa\u001b[m Añadido .gitignore\n",
"* \u001b[33m04ebd1f\u001b[m Commit con los archivos 1 y 2\n",
"* \u001b[33mc4930d7\u001b[m Tercer commit, hola.py\n",
"* \u001b[33m6e99e73\u001b[m Segundo commit, hola.py\n",
"* \u001b[33m1c95e4f\u001b[m Primer commit, hola.py\n"
          ]
        }
      ],
      "source": [
      "!cd notebook_git && git log --graph --oneline --decorate"
      ]
    },
{
      "attachments": {},
      "cell_type": "markdown",
      "metadata": {},
      "source": [
      "Excluímos o último commit e o substituímos por um novo, excluindo o arquivo que queríamos"
      ]
    },
{
      "attachments": {},
      "cell_type": "markdown",
      "metadata": {},
      "source": [
      "### Histórico de alterações de um arquivo (`git log <file>`)"
      ]
    },
{
      "attachments": {},
      "cell_type": "markdown",
      "metadata": {},
      "source": [
      "Embora tenhamos visto anteriormente como podemos ver o histórico do repositório com o `git log`, talvez não estejamos interessados no histórico de todo o repositório. Podemos ter um bug em um arquivo de código que não tínhamos no início, portanto, podemos querer ver apenas o histórico desse arquivo, por isso usamos o `git log <file>`."
      ]
    },
{
      "attachments": {},
      "cell_type": "markdown",
      "metadata": {},
      "source": [
      "Primeiro, examinamos os arquivos que temos"
      ]
    },
{
      "cell_type": "code",
      "execution_count": 92,
      "metadata": {},
      "outputs": [
      {
          "name": "stdout",
          "output_type": "stream",
          "text": [
          "api_keys.py  archivo1.py  archivo2.py  archivo4.py  archivo7.py  hola.py\n"
          ]
        }
      ],
      "source": [
      "!cd notebook_git && ls"
      ]
    },
{
      "attachments": {},
      "cell_type": "markdown",
      "metadata": {},
      "source": [
      "Suponha que desejamos ver apenas as alterações no `hello.py`, então usamos `git log hello.py`."
      ]
    },
{
      "cell_type": "code",
      "execution_count": 93,
      "metadata": {},
      "outputs": [
      {
          "name": "stdout",
          "output_type": "stream",
          "text": [
          "* \u001b[33mc4930d7\u001b[m Tercer commit, hola.py\n",
"* \u001b[33m6e99e73\u001b[m Segundo commit, hola.py\n",
"* \u001b[33m1c95e4f\u001b[m Primer commit, hola.py\n"
          ]
        }
      ],
      "source": [
      "!cd notebook_git && git log --graph --oneline --decorate hola.py"
      ]
    },
{
      "attachments": {},
      "cell_type": "markdown",
      "metadata": {},
      "source": [
      "Podemos ver que há muito menos resultados do que se tivéssemos usado o `git log`."
      ]
    },
{
      "cell_type": "code",
      "execution_count": 94,
      "metadata": {},
      "outputs": [
      {
          "name": "stdout",
          "output_type": "stream",
          "text": [
          "* \u001b[33m4bb9d75\u001b[m\u001b[33m (\u001b[m\u001b[1;36mHEAD -> \u001b[m\u001b[1;32mmaster\u001b[m\u001b[33m)\u001b[m Commit con el archivo 7\n",
"* \u001b[33mea615a9\u001b[m Eliminado archivo5.py\n",
"* \u001b[33me3153a5\u001b[m Commit con los archivos 4 y 5\n",
"* \u001b[33m0b09cfa\u001b[m Añadido .gitignore\n",
"* \u001b[33m04ebd1f\u001b[m Commit con los archivos 1 y 2\n",
"* \u001b[33mc4930d7\u001b[m Tercer commit, hola.py\n",
"* \u001b[33m6e99e73\u001b[m Segundo commit, hola.py\n",
"* \u001b[33m1c95e4f\u001b[m Primer commit, hola.py\n"
          ]
        }
      ],
      "source": [
      "!cd notebook_git && git log --graph --oneline --decorate"
      ]
    },
{
      "attachments": {},
      "cell_type": "markdown",
      "metadata": {},
      "source": [
      "### Visualizar modificações em um arquivo em um ponto específico do histórico (`git show <hash> <arquivo>` ou `git diff <arquivo>`)"
      ]
    },
{
      "attachments": {},
      "cell_type": "markdown",
      "metadata": {},
      "source": [
      "Suponha que já saibamos em que momento foi feita uma alteração no arquivo que contém um erro, então agora queremos saber quais alterações foram feitas para descobrir o que pode estar causando o erro usando `git show <hash> <file>`."
      ]
    },
{
      "attachments": {},
      "cell_type": "markdown",
      "metadata": {},
      "source": [
      "Vamos ver quais alterações foram feitas no `hello.py` no hash `c4930d7`, ou seja, quando o terceiro commit foi feito."
      ]
    },
{
      "cell_type": "code",
      "execution_count": 98,
      "metadata": {},
      "outputs": [
      {
          "name": "stdout",
          "output_type": "stream",
          "text": [
          "\u001b[33mcommit c4930d7267c3f8df389ab0cb1bda0b5fceabb5c2\u001b[m\n",
"Author: maximofn <maximofn@gmail.com>\n",
"Date:   Sun Apr 16 02:29:59 2023 +0200\n",
"\n",
"    Tercer commit, hola.py\n",
"\n",
"\u001b[1mdiff --git a/hola.py b/hola.py\u001b[m\n",
"\u001b[1mindex 91dee80..33bdb99 100644\u001b[m\n",
"\u001b[1m--- a/hola.py\u001b[m\n",
"\u001b[1m+++ b/hola.py\u001b[m\n",
"\u001b[36m@@ -1,2 +1,3 @@\u001b[m\n",
" print('Hola mundo')\u001b[m\n",
" print('He añadido una nueva linea')\u001b[m\n",
"\u001b[32m+\u001b[m\u001b[32mprint('Esta es la tercera linea')\u001b[m\n"
          ]
        }
      ],
      "source": [
      "!cd notebook_git && git show c4930d7 hola.py"
      ]
    },
{
      "attachments": {},
      "cell_type": "markdown",
      "metadata": {},
      "source": [
      "A maneira de ver as alterações no git não é muito intuitiva, mas podemos ver que a linha `print('This is the third line')` foi adicionada."
      ]
    },
{
      "attachments": {},
      "cell_type": "markdown",
      "metadata": {},
      "source": [
      "Outra maneira de ver as alterações é com o `git diff`, temos duas opções, podemos ver as alterações do arquivo no momento atual com um ponto específico no histórico, para isso fazemos o `git diff <hash> <file>`.\n",
"\n",
"Por exemplo, se quisermos ver as alterações em `hello.py` desde quando o primeiro commit foi feito (hash `1c95e4f`) com a situação atual, teremos que digitar (`git diff 1c95e4f hello.py`)"
      ]
    },
{
      "cell_type": "code",
      "execution_count": 99,
      "metadata": {},
      "outputs": [
      {
          "name": "stdout",
          "output_type": "stream",
          "text": [
          "\u001b[1mdiff --git a/hola.py b/hola.py\u001b[m\n",
"\u001b[1mindex f140969..33bdb99 100644\u001b[m\n",
"\u001b[1m--- a/hola.py\u001b[m\n",
"\u001b[1m+++ b/hola.py\u001b[m\n",
"\u001b[36m@@ -1 +1,3 @@\u001b[m\n",
" print('Hola mundo')\u001b[m\n",
"\u001b[32m+\u001b[m\u001b[32mprint('He añadido una nueva linea')\u001b[m\n",
"\u001b[32m+\u001b[m\u001b[32mprint('Esta es la tercera linea')\u001b[m\n"
          ]
        }
      ],
      "source": [
      "!cd notebook_git && git diff 1c95e4f hola.py"
      ]
    },
{
      "attachments": {},
      "cell_type": "markdown",
      "metadata": {},
      "source": [
      "Mas se você quiser ver a diferença entre um ponto específico no histórico e outro ponto específico no histórico, será necessário inserir os hashes dos dois pontos no tempo, ou seja, `git diff <hash1> <hash2> <file>`.\n",
"\n",
"Se quisermos ver as alterações feitas no arquivo `hello.py` entre o segundo commit (hash `6e99e73`) e o primeiro commit (hash `1c95e4f`), teremos que digitar `git diff 1c95e4f 6e99e73 hello.py`."
      ]
    },
{
      "cell_type": "code",
      "execution_count": 101,
      "metadata": {},
      "outputs": [
      {
          "name": "stdout",
          "output_type": "stream",
          "text": [
          "\u001b[1mdiff --git a/hola.py b/hola.py\u001b[m\n",
"\u001b[1mindex f140969..91dee80 100644\u001b[m\n",
"\u001b[1m--- a/hola.py\u001b[m\n",
"\u001b[1m+++ b/hola.py\u001b[m\n",
"\u001b[36m@@ -1 +1,2 @@\u001b[m\n",
" print('Hola mundo')\u001b[m\n",
"\u001b[32m+\u001b[m\u001b[32mprint('He añadido una nueva linea')\u001b[m\n"
          ]
        }
      ],
      "source": [
      "!cd notebook_git && git diff 1c95e4f 6e99e73 hola.py"
      ]
    },
{
      "attachments": {},
      "cell_type": "markdown",
      "metadata": {},
      "source": [
      "O exemplo acima nos mostra as alterações do segundo commit em relação ao primeiro, mas se quisermos as alterações do primeiro commit em relação ao segundo, basta colocar os hashes de forma inversa, ou seja, `git diff 6e99e73 1c95e4f hello.py`."
      ]
    },
{
      "cell_type": "code",
      "execution_count": 102,
      "metadata": {},
      "outputs": [
      {
          "name": "stdout",
          "output_type": "stream",
          "text": [
          "\u001b[1mdiff --git a/hola.py b/hola.py\u001b[m\n",
"\u001b[1mindex 91dee80..f140969 100644\u001b[m\n",
"\u001b[1m--- a/hola.py\u001b[m\n",
"\u001b[1m+++ b/hola.py\u001b[m\n",
"\u001b[36m@@ -1,2 +1 @@\u001b[m\n",
" print('Hola mundo')\u001b[m\n",
"\u001b[31m-print('He añadido una nueva linea')\u001b[m\n"
          ]
        }
      ],
      "source": [
      "!cd notebook_git && git diff 6e99e73 1c95e4f hola.py"
      ]
    },
{
      "attachments": {},
      "cell_type": "markdown",
      "metadata": {},
      "source": [
      "### Viajar para o passado (`git reset --hard <hash>` ou `git reset --soft <hash>`)"
      ]
    },
{
      "attachments": {},
      "cell_type": "markdown",
      "metadata": {},
      "source": [
      "Vamos imaginar que descobrimos que tudo o que fizemos depois de gerar o bug não é bom e temos que retrabalhar a partir desse ponto. Podemos voltar a uma posição histórica com `git reset --hard <hash>` (isso não manterá as alterações) ou `git reset --soft <hash>` (isso manterá as alterações)."
      ]
    },
{
      "attachments": {},
      "cell_type": "markdown",
      "metadata": {},
      "source": [
      "Primeiro, vamos dar uma olhada no histórico"
      ]
    },
{
      "cell_type": "code",
      "execution_count": 103,
      "metadata": {},
      "outputs": [
      {
          "name": "stdout",
          "output_type": "stream",
          "text": [
          "* \u001b[33m4bb9d75\u001b[m\u001b[33m (\u001b[m\u001b[1;36mHEAD -> \u001b[m\u001b[1;32mmaster\u001b[m\u001b[33m)\u001b[m Commit con el archivo 7\n",
"* \u001b[33mea615a9\u001b[m Eliminado archivo5.py\n",
"* \u001b[33me3153a5\u001b[m Commit con los archivos 4 y 5\n",
"* \u001b[33m0b09cfa\u001b[m Añadido .gitignore\n",
"* \u001b[33m04ebd1f\u001b[m Commit con los archivos 1 y 2\n",
"* \u001b[33mc4930d7\u001b[m Tercer commit, hola.py\n",
"* \u001b[33m6e99e73\u001b[m Segundo commit, hola.py\n",
"* \u001b[33m1c95e4f\u001b[m Primer commit, hola.py\n"
          ]
        }
      ],
      "source": [
      "!cd notebook_git && git log --graph --oneline --decorate"
      ]
    },
{
      "attachments": {},
      "cell_type": "markdown",
      "metadata": {},
      "source": [
      "Suponha que queiramos ir para o momento em que fizemos o terceiro commit (hash `c4930d7`), e o façamos sem manter as alterações, ou seja, todas as modificações que fizemos depois serão excluídas, fazemos `git reset --hard c4930d7`."
      ]
    },
{
      "attachments": {},
      "cell_type": "markdown",
      "metadata": {},
      "source": [
      "Primeiro, usamos o `ls` para ver os arquivos que temos agora"
      ]
    },
{
      "cell_type": "code",
      "execution_count": 104,
      "metadata": {},
      "outputs": [
      {
          "name": "stdout",
          "output_type": "stream",
          "text": [
          "api_keys.py  archivo1.py  archivo2.py  archivo4.py  archivo7.py  hola.py\n"
          ]
        }
      ],
      "source": [
      "!cd notebook_git && ls"
      ]
    },
{
      "attachments": {},
      "cell_type": "markdown",
      "metadata": {},
      "source": [
      "Vamos para o terceiro commit"
      ]
    },
{
      "cell_type": "code",
      "execution_count": 105,
      "metadata": {},
      "outputs": [
      {
          "name": "stdout",
          "output_type": "stream",
          "text": [
          "HEAD está ahora en c4930d7 Tercer commit, hola.py\n"
          ]
        }
      ],
      "source": [
      "!cd notebook_git && git reset --hard c4930d7"
      ]
    },
{
      "attachments": {},
      "cell_type": "markdown",
      "metadata": {},
      "source": [
      "Se fizermos `ls`, veremos que não temos mais `file1.py`, `file2.py`, `file4.py` ou `file7.py`."
      ]
    },
{
      "cell_type": "code",
      "execution_count": 106,
      "metadata": {},
      "outputs": [
      {
          "name": "stdout",
          "output_type": "stream",
          "text": [
          "api_keys.py  hola.py\n"
          ]
        }
      ],
      "source": [
      "!cd notebook_git && ls"
      ]
    },
{
      "attachments": {},
      "cell_type": "markdown",
      "metadata": {},
      "source": [
      "### De volta ao futuro (`git reflog`)"
      ]
    },
{
      "attachments": {},
      "cell_type": "markdown",
      "metadata": {},
      "source": [
      "Suponha que tenhamos arrependimentos e queiramos voltar para onde estávamos, para o último ponto do histórico, uma maneira seria fazer `git reset --hard <hash>` novamente. Mas vamos imaginar que não sabemos o hash, porque não fizemos o `git log` antes e, se o fizermos agora, ele só nos dará informações do histórico até o terceiro commit."
      ]
    },
{
      "cell_type": "code",
      "execution_count": 107,
      "metadata": {},
      "outputs": [
      {
          "name": "stdout",
          "output_type": "stream",
          "text": [
          "* \u001b[33mc4930d7\u001b[m\u001b[33m (\u001b[m\u001b[1;36mHEAD -> \u001b[m\u001b[1;32mmaster\u001b[m\u001b[33m)\u001b[m Tercer commit, hola.py\n",
"* \u001b[33m6e99e73\u001b[m Segundo commit, hola.py\n",
"* \u001b[33m1c95e4f\u001b[m Primer commit, hola.py\n"
          ]
        }
      ],
      "source": [
      "!cd notebook_git && git log --graph --oneline --decorate"
      ]
    },
{
      "attachments": {},
      "cell_type": "markdown",
      "metadata": {},
      "source": [
      "Aqui, o que podemos fazer é o `git reflog`, que nos fornecerá um histórico incluindo os saltos."
      ]
    },
{
      "cell_type": "code",
      "execution_count": 108,
      "metadata": {},
      "outputs": [
      {
          "name": "stdout",
          "output_type": "stream",
          "text": [
          "\u001b[33mc4930d7\u001b[m\u001b[33m (\u001b[m\u001b[1;36mHEAD -> \u001b[m\u001b[1;32mmaster\u001b[m\u001b[33m)\u001b[m HEAD@{0}: reset: moving to c4930d7\n",
"\u001b[33m4bb9d75\u001b[m HEAD@{1}: commit: Commit con el archivo 7\n",
"\u001b[33mea615a9\u001b[m HEAD@{2}: reset: moving to HEAD~1\n",
"\u001b[33md6dc485\u001b[m HEAD@{3}: commit: Commit con los archivos 6 y 7\n",
"\u001b[33mea615a9\u001b[m HEAD@{4}: commit: Eliminado archivo5.py\n",
"\u001b[33me3153a5\u001b[m HEAD@{5}: commit: Commit con los archivos 4 y 5\n",
"\u001b[33m0b09cfa\u001b[m HEAD@{6}: commit: Añadido .gitignore\n",
"\u001b[33m04ebd1f\u001b[m HEAD@{7}: reset: moving to HEAD~1\n",
"\u001b[33m0147d65\u001b[m HEAD@{8}: commit: Commit con el archivo 3\n",
"\u001b[33m04ebd1f\u001b[m HEAD@{9}: reset: moving to HEAD~1\n",
"\u001b[33m6dc7be6\u001b[m HEAD@{10}: commit: Commit con el archivos 3\n",
"\u001b[33m04ebd1f\u001b[m HEAD@{11}: commit (amend): Commit con los archivos 1 y 2\n",
"\u001b[33m285b243\u001b[m HEAD@{12}: commit: Commit con el archivo 1\n",
"\u001b[33mc4930d7\u001b[m\u001b[33m (\u001b[m\u001b[1;36mHEAD -> \u001b[m\u001b[1;32mmaster\u001b[m\u001b[33m)\u001b[m HEAD@{13}: commit (amend): Tercer commit, hola.py\n",
"\u001b[33m60e2ffd\u001b[m HEAD@{14}: commit: Tercer commot, hola.py\n",
"\u001b[33m6e99e73\u001b[m HEAD@{15}: commit: Segundo commit, hola.py\n",
"\u001b[33m1c95e4f\u001b[m HEAD@{16}: commit (initial): Primer commit, hola.py\n"
          ]
        }
      ],
      "source": [
      "!cd notebook_git && git reflog"
      ]
    },
{
      "attachments": {},
      "cell_type": "markdown",
      "metadata": {},
      "source": [
      "Podemos ver que ele nos diz que estávamos no commit com hash `4bb9d75`, ou seja, o último commit que fizemos, e de lá fomos para o commit com hash `c4930d7`, que, se você notar, é o mesmo hash do commit com a mensagem `Third commit, hello.py`. Portanto, já sabemos o hash do último commit, `4bb9d75`, então, para voltar à posição do último commit, fazemos `git reset --hard 4bb9d75`."
      ]
    },
{
      "cell_type": "code",
      "execution_count": 109,
      "metadata": {},
      "outputs": [
      {
          "name": "stdout",
          "output_type": "stream",
          "text": [
          "HEAD está ahora en 4bb9d75 Commit con el archivo 7\n"
          ]
        }
      ],
      "source": [
      "!cd notebook_git && git reset --hard 4bb9d75"
      ]
    },
{
      "attachments": {},
      "cell_type": "markdown",
      "metadata": {},
      "source": [
      "Se agora voltarmos ao registro"
      ]
    },
{
      "cell_type": "code",
      "execution_count": 110,
      "metadata": {},
      "outputs": [
      {
          "name": "stdout",
          "output_type": "stream",
          "text": [
          "* \u001b[33m4bb9d75\u001b[m\u001b[33m (\u001b[m\u001b[1;36mHEAD -> \u001b[m\u001b[1;32mmaster\u001b[m\u001b[33m)\u001b[m Commit con el archivo 7\n",
"* \u001b[33mea615a9\u001b[m Eliminado archivo5.py\n",
"* \u001b[33me3153a5\u001b[m Commit con los archivos 4 y 5\n",
"* \u001b[33m0b09cfa\u001b[m Añadido .gitignore\n",
"* \u001b[33m04ebd1f\u001b[m Commit con los archivos 1 y 2\n",
"* \u001b[33mc4930d7\u001b[m Tercer commit, hola.py\n",
"* \u001b[33m6e99e73\u001b[m Segundo commit, hola.py\n",
"* \u001b[33m1c95e4f\u001b[m Primer commit, hola.py\n"
          ]
        }
      ],
      "source": [
      "!cd notebook_git && git log --graph --oneline --decorate"
      ]
    },
{
      "attachments": {},
      "cell_type": "markdown",
      "metadata": {},
      "source": [
      "Vemos que estamos de fato na posição do último commit, *voltamos para o futuro*."
      ]
    },
{
      "attachments": {},
      "cell_type": "markdown",
      "metadata": {},
      "source": [
      "### Pesquisar em arquivos (`git grep <word>`)"
      ]
    },
{
      "attachments": {},
      "cell_type": "markdown",
      "metadata": {},
      "source": [
      "Se quisermos pesquisar em arquivos, podemos fazer isso com o comando `git grep`. Como o repositório que criamos é muito pequeno e tem poucos arquivos, vamos fazer o download de um novo repositório usando um comando que veremos mais tarde em mais detalhes"
      ]
    },
{
      "cell_type": "code",
      "execution_count": 5,
      "metadata": {},
      "outputs": [
      {
          "name": "stdout",
          "output_type": "stream",
          "text": [
          "Clonando en 'segment-anything'...\n",
"remote: Enumerating objects: 279, done.\u001b[K\n",
"remote: Counting objects: 100% (181/181), done.\u001b[K\n",
"remote: Compressing objects: 100% (77/77), done.\u001b[K\n",
"remote: Total 279 (delta 116), reused 104 (delta 104), pack-reused 98\u001b[K\n",
"Recibiendo objetos: 100% (279/279), 18.31 MiB | 21.25 MiB/s, listo.\n",
"Resolviendo deltas: 100% (140/140), listo.\n"
          ]
        }
      ],
      "source": [
      "!git clone https://github.com/facebookresearch/segment-anything.git"
      ]
    },
{
      "attachments": {},
      "cell_type": "markdown",
      "metadata": {},
      "source": [
      "O repositório que baixamos é o código-fonte do SAM, uma rede neural Meta para segmentar qualquer objeto. Entramos na pasta do repositório e procuramos, por exemplo, quantas vezes a palavra `softmax` foi digitada."
      ]
    },
{
      "cell_type": "code",
      "execution_count": 8,
      "metadata": {},
      "outputs": [
      {
          "name": "stdout",
          "output_type": "stream",
          "text": [
          "segment_anything/modeling/image_encoder.py\u001b[36m:\u001b[m        attn = attn.\u001b[1;31msoftmax\u001b[m(dim=-1)\n",
"segment_anything/modeling/transformer.py\u001b[36m:\u001b[m        attn = torch.\u001b[1;31msoftmax\u001b[m(attn, dim=-1)\n"
          ]
        }
      ],
      "source": [
      "!cd segment-anything && git grep softmax"
      ]
    },
{
      "attachments": {},
      "cell_type": "markdown",
      "metadata": {},
      "source": [
      "Vemos que ele foi escrito nos arquivos `segment_anything/modeling/image_encoder.py` e `segment_anything/modeling/transformer.py`."
      ]
    },
{
      "attachments": {},
      "cell_type": "markdown",
      "metadata": {},
      "source": [
      "Se agora também quisermos saber em quais linhas dos arquivos ele foi gravado, usaremos o sinalizador `-n`."
      ]
    },
{
      "cell_type": "code",
      "execution_count": 9,
      "metadata": {},
      "outputs": [
      {
          "name": "stdout",
          "output_type": "stream",
          "text": [
          "segment_anything/modeling/image_encoder.py\u001b[36m:\u001b[m236\u001b[36m:\u001b[m        attn = attn.\u001b[1;31msoftmax\u001b[m(dim=-1)\n",
"segment_anything/modeling/transformer.py\u001b[36m:\u001b[m233\u001b[36m:\u001b[m        attn = torch.\u001b[1;31msoftmax\u001b[m(attn, dim=-1)\n"
          ]
        }
      ],
      "source": [
      "!cd segment-anything && git grep -n softmax"
      ]
    },
{
      "attachments": {},
      "cell_type": "markdown",
      "metadata": {},
      "source": [
      "Se quisermos contar quantas vezes a palavra aparece, podemos usar o sinalizador `-c`."
      ]
    },
{
      "cell_type": "code",
      "execution_count": 10,
      "metadata": {},
      "outputs": [
      {
          "name": "stdout",
          "output_type": "stream",
          "text": [
          "segment_anything/modeling/image_encoder.py\u001b[36m:\u001b[m1\n",
"segment_anything/modeling/transformer.py\u001b[36m:\u001b[m1\n"
          ]
        }
      ],
      "source": [
      "!cd segment-anything && git grep -c softmax"
      ]
    },
{
      "attachments": {},
      "cell_type": "markdown",
      "metadata": {},
      "source": [
      "E vemos que ele aparece uma vez em cada arquivo"
      ]
    },
{
      "attachments": {},
      "cell_type": "markdown",
      "metadata": {},
      "source": [
      "E ele nos informa que está nas linhas 236 e 233, respectivamente."
      ]
    },
{
      "attachments": {},
      "cell_type": "markdown",
      "metadata": {},
      "source": [
      "### Pesquisar em commits (`git log -S <word>`)"
      ]
    },
{
      "attachments": {},
      "cell_type": "markdown",
      "metadata": {},
      "source": [
      "Se quisermos pesquisar o histórico de confirmações, podemos usar o comando `git log -S <word>`. Por exemplo, vamos pesquisar o histórico de commits do repositório que baixamos anteriormente para a palavra `fix`."
      ]
    },
{
      "cell_type": "code",
      "execution_count": 19,
      "metadata": {},
      "outputs": [
      {
          "name": "stdout",
          "output_type": "stream",
          "text": [
          "\u001b[33mcommit 2780a301de4483e5c46edb230ea781556159c658\u001b[m\n",
"Author: Eric Mintun <eric.mintun@gmail.com>\n",
"Date:   Mon Apr 10 10:50:17 2023 -0700\n",
"\n",
"    Fix typo in notebook 'using_collab'->'using_colab' in other two notebooks.\n",
"\n",
"\u001b[33mcommit 2c11ea23525970ac288f23dc74b203bcbfb4cc6a\u001b[m\n",
"Author: jp-x-g <jpxg-dev@protonmail.com>\n",
"Date:   Thu Apr 6 20:00:04 2023 -0700\n",
"\n",
"    fix parameter name\n",
"    \n",
"    \"using_collab\" does not appear in subsequent text, replacing with \"using_colab\"\n",
"\n",
"\u001b[33mcommit b47d02d68c308672751be29742fcef02a86e2f02\u001b[m\n",
"Author: Eric Mintun <eric.mintun@gmail.com>\n",
"Date:   Wed Apr 5 06:13:09 2023 -0700\n",
"\n",
"    Fix broken links in notebook Colab setup.\n",
"\n",
"\u001b[33mcommit 571794162e0887c15d12b809505b902c7bf8b4db\u001b[m\n",
"Author: Eric Mintun <eric.mintun@gmail.com>\n",
"Date:   Tue Apr 4 22:25:49 2023 -0700\n",
"\n",
"    Initial commit\n"
          ]
        }
      ],
      "source": [
      "!cd segment-anything && git log -S \"collab\""
      ]
    },
{
      "attachments": {},
      "cell_type": "markdown",
      "metadata": {},
      "source": [
      "Excluir a pasta SAM"
      ]
    },
{
      "cell_type": "code",
      "execution_count": 100,
      "metadata": {},
      "outputs": [],
      "source": [
      "!rm -r segment-anything"
      ]
    },
{
      "attachments": {},
      "cell_type": "markdown",
      "metadata": {},
      "source": [
      "## Ramos"
      ]
    },
{
      "attachments": {},
      "cell_type": "markdown",
      "metadata": {},
      "source": [
      "![branches](https://pub-fb664c455eca46a2ba762a065ac900f7.r2.dev/GIT-Branchand-its-Operations.webp)\n",
"\n",
"O uso de ramificações é muito útil, pois podemos começar a desenvolver um novo recurso sem precisar modificar o código original."
      ]
    },
{
      "attachments": {},
      "cell_type": "markdown",
      "metadata": {},
      "source": [
      "### Criar uma ramificação (`git branch <nome da ramificação>`)"
      ]
    },
{
      "attachments": {},
      "cell_type": "markdown",
      "metadata": {},
      "source": [
      " > Observação: antes de tudo, é preciso dizer que, para criar uma ramificação em um repositório, deve haver pelo menos um commit; se você tentar criar uma ramificação antes de fazer o primeiro commit, receberá um erro."
      ]
    },
{
      "attachments": {},
      "cell_type": "markdown",
      "metadata": {},
      "source": [
      "Para criar uma ramificação, usamos o comando `git branch <nome da ramificação>`."
      ]
    },
{
      "cell_type": "code",
      "execution_count": 111,
      "metadata": {},
      "outputs": [],
      "source": [
      "!cd notebook_git && git branch new_branch"
      ]
    },
{
      "attachments": {},
      "cell_type": "markdown",
      "metadata": {},
      "source": [
      "### Listar ramificações (`git branch`)"
      ]
    },
{
      "attachments": {},
      "cell_type": "markdown",
      "metadata": {},
      "source": [
      "Criamos nossa primeira ramificação e podemos verificar todas as ramificações que criamos digitando apenas `git branch`."
      ]
    },
{
      "cell_type": "code",
      "execution_count": 112,
      "metadata": {},
      "outputs": [
      {
          "name": "stdout",
          "output_type": "stream",
          "text": [
          "* \u001b[32mmaster\u001b[m\n",
"  new_branch\u001b[m\n"
          ]
        }
      ],
      "source": [
      "!cd notebook_git && git branch"
      ]
    },
{
      "attachments": {},
      "cell_type": "markdown",
      "metadata": {},
      "source": [
      "Além de listar, ele nos informa com um asterisco `*` em qual ramo estamos, nesse caso, o ramo `master`."
      ]
    },
{
      "attachments": {},
      "cell_type": "markdown",
      "metadata": {},
      "source": [
      "### Renomeie as ramificações, adeus à ramificação `master` (`git branch -m <nome antigo> <nome novo>`)"
      ]
    },
{
      "attachments": {},
      "cell_type": "markdown",
      "metadata": {},
      "source": [
      "Historicamente, no git, o ramo principal tem sido chamado de `master`, mas isso tem algumas conotações históricas ruins por causa do conceito `master-slave`, devido ao sofrimento que muitas pessoas receberam, então agora o ramo principal é frequentemente chamado de `main`, então para renomeá-lo usamos `git branch -m master main`."
      ]
    },
{
      "cell_type": "code",
      "execution_count": 113,
      "metadata": {},
      "outputs": [],
      "source": [
      "!cd notebook_git && git branch -m master main"
      ]
    },
{
      "attachments": {},
      "cell_type": "markdown",
      "metadata": {},
      "source": [
      "Listamos as filiais"
      ]
    },
{
      "cell_type": "code",
      "execution_count": 114,
      "metadata": {},
      "outputs": [
      {
          "name": "stdout",
          "output_type": "stream",
          "text": [
          "* \u001b[32mmain\u001b[m\n",
"  new_branch\u001b[m\n"
          ]
        }
      ],
      "source": [
      "!cd notebook_git && git branch"
      ]
    },
{
      "attachments": {},
      "cell_type": "markdown",
      "metadata": {},
      "source": [
      "Como podemos ver, conseguimos alterar o nome da ramificação principal de `master` para `main`."
      ]
    },
{
      "attachments": {},
      "cell_type": "markdown",
      "metadata": {},
      "source": [
      "### Trocar de ramo (`git switch <branch>`)"
      ]
    },
{
      "attachments": {},
      "cell_type": "markdown",
      "metadata": {},
      "source": [
      "Se você quiser trocar de ramificação, basta digitar `git switch <nome da ramificação>`."
      ]
    },
{
      "cell_type": "code",
      "execution_count": 115,
      "metadata": {},
      "outputs": [
      {
          "name": "stdout",
          "output_type": "stream",
          "text": [
          "Cambiado a rama 'new_branch'\n"
          ]
        }
      ],
      "source": [
      "!cd notebook_git && git switch new_branch"
      ]
    },
{
      "attachments": {},
      "cell_type": "markdown",
      "metadata": {},
      "source": [
      "Vamos ver em qual ramo estamos com o `git branch`."
      ]
    },
{
      "cell_type": "code",
      "execution_count": 116,
      "metadata": {},
      "outputs": [
      {
          "name": "stdout",
          "output_type": "stream",
          "text": [
          "  main\u001b[m\n",
"* \u001b[32mnew_branch\u001b[m\n"
          ]
        }
      ],
      "source": [
      "!cd notebook_git && git branch"
      ]
    },
{
      "attachments": {},
      "cell_type": "markdown",
      "metadata": {},
      "source": [
      "Como podemos ver, alteramos o ramo para new_branch"
      ]
    },
{
      "attachments": {},
      "cell_type": "markdown",
      "metadata": {},
      "source": [
      "Se quisermos criar e alternar ramificações em um único comando, podemos usar `git switch -c <nome da ramificação>`."
      ]
    },
{
      "cell_type": "code",
      "execution_count": 117,
      "metadata": {},
      "outputs": [
      {
          "name": "stdout",
          "output_type": "stream",
          "text": [
          "Cambiado a nueva rama 'new_branch2'\n"
          ]
        }
      ],
      "source": [
      "!cd notebook_git && git switch -c new_branch2"
      ]
    },
{
      "attachments": {},
      "cell_type": "markdown",
      "metadata": {},
      "source": [
      "Vamos ver em qual filial estamos"
      ]
    },
{
      "cell_type": "code",
      "execution_count": 118,
      "metadata": {},
      "outputs": [
      {
          "name": "stdout",
          "output_type": "stream",
          "text": [
          "  main\u001b[m\n",
"  new_branch\u001b[m\n",
"* \u001b[32mnew_branch2\u001b[m\n"
          ]
        }
      ],
      "source": [
      "!cd notebook_git && git branch"
      ]
    },
{
      "attachments": {},
      "cell_type": "markdown",
      "metadata": {},
      "source": [
      "Criamos e trocamos de ramificações com um único comando"
      ]
    },
{
      "attachments": {},
      "cell_type": "markdown",
      "metadata": {},
      "source": [
      "### Obter o ramo em que estamos (`git branch --show-current`)"
      ]
    },
{
      "attachments": {},
      "cell_type": "markdown",
      "metadata": {},
      "source": [
      "Como vimos até agora, com o `git branch` podemos obter uma lista de todas as ramificações e também ver aquela em que estamos atualmente, mas no caso de termos muitas ramificações, o que pode acontecer em uma equipe com muitas pessoas, não há problema em obter a ramificação e não obter uma lista de todas elas, para isso usamos o `git branch --show-current`."
      ]
    },
{
      "cell_type": "code",
      "execution_count": 119,
      "metadata": {},
      "outputs": [
      {
          "name": "stdout",
          "output_type": "stream",
          "text": [
          "new_branch2\n"
          ]
        }
      ],
      "source": [
      "!cd notebook_git && git branch --show-current"
      ]
    },
{
      "attachments": {},
      "cell_type": "markdown",
      "metadata": {},
      "source": [
      "### Lista das ramificações mais recentes (`git branch --sort=-committerdate`)"
      ]
    },
{
      "attachments": {},
      "cell_type": "markdown",
      "metadata": {},
      "source": [
      "Caso você tenha muitas ramificações, talvez queira saber quais são as mais recentes para ver quais foram as últimas criadas e onde deve estar o desenvolvimento mais recente."
      ]
    },
{
      "cell_type": "code",
      "execution_count": 120,
      "metadata": {},
      "outputs": [
      {
          "name": "stdout",
          "output_type": "stream",
          "text": [
          "* \u001b[32mnew_branch2\u001b[m\n",
"  new_branch\u001b[m\n",
"  main\u001b[m\n"
          ]
        }
      ],
      "source": [
      "!cd notebook_git && git branch --sort=-committerdate"
      ]
    },
{
      "attachments": {},
      "cell_type": "markdown",
      "metadata": {},
      "source": [
      "Como podemos ver, ele os organizou em ordem inversa à de quando os criamos."
      ]
    },
{
      "attachments": {},
      "cell_type": "markdown",
      "metadata": {},
      "source": [
      "### O comando obsoleto `git checkout`."
      ]
    },
{
      "attachments": {},
      "cell_type": "markdown",
      "metadata": {},
      "source": [
      "Até um tempo atrás, o comando para criar ramificações e alternar entre elas era o `git checkout`, mas esse comando não só faz isso, como também restaura o diretório de trabalho. Mas isso vai contra a filosofia do Linux, então os comandos `git branch`, `git swicth` e `git restore` foram criados para dividir essa funcionalidade."
      ]
    },
{
      "attachments": {},
      "cell_type": "markdown",
      "metadata": {},
      "source": [
      "### Mesclando ramificações (`git merge`)"
      ]
    },
{
      "attachments": {},
      "cell_type": "markdown",
      "metadata": {},
      "source": [
      "Conforme mencionado acima, a criação de ramificações é muito útil para desenvolver novos recursos sem afetar o restante da equipe. Mas quando essas ramificações são concluídas, elas precisam ser movidas para a ramificação principal, por isso usamos o comando `git merge <branch>`.\n",
"\n",
" > Importante**: Precisamos estar na ramificação que adotará as alterações, ou seja, se quisermos mesclar as alterações feitas na ramificação `new_branch2` na ramificação `main`, primeiro precisamos ter certeza de que estamos na ramificação `main`."
      ]
    },
{
      "attachments": {},
      "cell_type": "markdown",
      "metadata": {},
      "source": [
      "Primeiro, verificamos em qual filial estamos"
      ]
    },
{
      "cell_type": "code",
      "execution_count": 121,
      "metadata": {},
      "outputs": [
      {
          "name": "stdout",
          "output_type": "stream",
          "text": [
          "new_branch2\n"
          ]
        }
      ],
      "source": [
      "!cd notebook_git && git branch --show-current"
      ]
    },
{
      "attachments": {},
      "cell_type": "markdown",
      "metadata": {},
      "source": [
      "Excluir `file7.py`"
      ]
    },
{
      "cell_type": "code",
      "execution_count": 122,
      "metadata": {},
      "outputs": [
      {
          "name": "stdout",
          "output_type": "stream",
          "text": [
          "rm 'archivo7.py'\n"
          ]
        }
      ],
      "source": [
      "!cd notebook_git && git rm archivo7.py"
      ]
    },
{
      "attachments": {},
      "cell_type": "markdown",
      "metadata": {},
      "source": [
      "Confirmamos as alterações"
      ]
    },
{
      "cell_type": "code",
      "execution_count": 123,
      "metadata": {},
      "outputs": [
      {
          "name": "stdout",
          "output_type": "stream",
          "text": [
          "[new_branch2 5168f78] Eliminado archivo7.py\n",
" 1 file changed, 1 deletion(-)\n",
" delete mode 100644 archivo7.py\n"
          ]
        }
      ],
      "source": [
      "!cd notebook_git && git commit -am \"Eliminado archivo7.py\""
      ]
    },
{
      "attachments": {},
      "cell_type": "markdown",
      "metadata": {},
      "source": [
      "Se fizermos um `ls`, veremos que o `file7.py` não está mais lá."
      ]
    },
{
      "cell_type": "code",
      "execution_count": 124,
      "metadata": {},
      "outputs": [],
      "source": [
      "!cd notebook_git && ls | grep archivo7"
      ]
    },
{
      "attachments": {},
      "cell_type": "markdown",
      "metadata": {},
      "source": [
      "Criamos um novo arquivo e o confirmamos"
      ]
    },
{
      "cell_type": "code",
      "execution_count": 125,
      "metadata": {},
      "outputs": [
      {
          "name": "stdout",
          "output_type": "stream",
          "text": [
          "[new_branch2 564ccfb] Commit con el archivo 8\n",
" 1 file changed, 0 insertions(+), 0 deletions(-)\n",
" create mode 100644 archivo8.py\n"
          ]
        }
      ],
      "source": [
      "!cd notebook_git && touch archivo8.py && git add archivo8.py && git commit -m \"Commit con el archivo 8\""
      ]
    },
{
      "attachments": {},
      "cell_type": "markdown",
      "metadata": {},
      "source": [
      "Fizemos dois novos commits nesse ramo, vamos dar uma olhada nele com o `git log`."
      ]
    },
{
      "cell_type": "code",
      "execution_count": 126,
      "metadata": {},
      "outputs": [
      {
          "name": "stdout",
          "output_type": "stream",
          "text": [
          "* \u001b[33m564ccfb\u001b[m\u001b[33m (\u001b[m\u001b[1;36mHEAD -> \u001b[m\u001b[1;32mnew_branch2\u001b[m\u001b[33m)\u001b[m Commit con el archivo 8\n",
"* \u001b[33m5168f78\u001b[m Eliminado archivo7.py\n",
"* \u001b[33m4bb9d75\u001b[m\u001b[33m (\u001b[m\u001b[1;32mnew_branch\u001b[m\u001b[33m, \u001b[m\u001b[1;32mmain\u001b[m\u001b[33m)\u001b[m Commit con el archivo 7\n",
"* \u001b[33mea615a9\u001b[m Eliminado archivo5.py\n",
"* \u001b[33me3153a5\u001b[m Commit con los archivos 4 y 5\n",
"* \u001b[33m0b09cfa\u001b[m Añadido .gitignore\n",
"* \u001b[33m04ebd1f\u001b[m Commit con los archivos 1 y 2\n",
"* \u001b[33mc4930d7\u001b[m Tercer commit, hola.py\n",
"* \u001b[33m6e99e73\u001b[m Segundo commit, hola.py\n",
"* \u001b[33m1c95e4f\u001b[m Primer commit, hola.py\n"
          ]
        }
      ],
      "source": [
      "!cd notebook_git && git log --graph --oneline --decorate"
      ]
    },
{
      "attachments": {},
      "cell_type": "markdown",
      "metadata": {},
      "source": [
      "Mudar para a filial principal"
      ]
    },
{
      "cell_type": "code",
      "execution_count": 127,
      "metadata": {},
      "outputs": [
      {
          "name": "stdout",
          "output_type": "stream",
          "text": [
          "Cambiado a rama 'main'\n"
          ]
        }
      ],
      "source": [
      "!cd notebook_git && git switch main"
      ]
    },
{
      "attachments": {},
      "cell_type": "markdown",
      "metadata": {},
      "source": [
      "Se fizermos `ls` novamente, veremos que `file7.py` é de fato"
      ]
    },
{
      "cell_type": "code",
      "execution_count": 128,
      "metadata": {},
      "outputs": [
      {
          "name": "stdout",
          "output_type": "stream",
          "text": [
          "archivo7.py\n"
          ]
        }
      ],
      "source": [
      "!cd notebook_git && ls | grep archivo7"
      ]
    },
{
      "attachments": {},
      "cell_type": "markdown",
      "metadata": {},
      "source": [
      "Mesclar ramificações, trazer alterações de `new_branch2` para `main`."
      ]
    },
{
      "cell_type": "code",
      "execution_count": 129,
      "metadata": {},
      "outputs": [
      {
          "name": "stdout",
          "output_type": "stream",
          "text": [
          "Actualizando 4bb9d75..564ccfb\n",
"Fast-forward\n",
" archivo7.py | 1 \u001b[31m-\u001b[m\n",
" archivo8.py | 0\n",
" 2 files changed, 1 deletion(-)\n",
" delete mode 100644 archivo7.py\n",
" create mode 100644 archivo8.py\n"
          ]
        }
      ],
      "source": [
      "!cd notebook_git && git merge new_branch2"
      ]
    },
{
      "attachments": {},
      "cell_type": "markdown",
      "metadata": {},
      "source": [
      "Fazemos um `git status`"
      ]
    },
{
      "cell_type": "code",
      "execution_count": 130,
      "metadata": {},
      "outputs": [
      {
          "name": "stdout",
          "output_type": "stream",
          "text": [
          "En la rama main\n",
"nada para hacer commit, el árbol de trabajo está limpio\n"
          ]
        }
      ],
      "source": [
      "!cd notebook_git && git status"
      ]
    },
{
      "attachments": {},
      "cell_type": "markdown",
      "metadata": {},
      "source": [
      "Podemos ver que, ao fazer a mesclagem, não é necessário fazer nenhum commit, vamos ver com um `git log` o que aconteceu."
      ]
    },
{
      "cell_type": "code",
      "execution_count": 131,
      "metadata": {},
      "outputs": [
      {
          "name": "stdout",
          "output_type": "stream",
          "text": [
          "* \u001b[33m564ccfb\u001b[m\u001b[33m (\u001b[m\u001b[1;36mHEAD -> \u001b[m\u001b[1;32mmain\u001b[m\u001b[33m, \u001b[m\u001b[1;32mnew_branch2\u001b[m\u001b[33m)\u001b[m Commit con el archivo 8\n",
"* \u001b[33m5168f78\u001b[m Eliminado archivo7.py\n",
"* \u001b[33m4bb9d75\u001b[m\u001b[33m (\u001b[m\u001b[1;32mnew_branch\u001b[m\u001b[33m)\u001b[m Commit con el archivo 7\n",
"* \u001b[33mea615a9\u001b[m Eliminado archivo5.py\n",
"* \u001b[33me3153a5\u001b[m Commit con los archivos 4 y 5\n",
"* \u001b[33m0b09cfa\u001b[m Añadido .gitignore\n",
"* \u001b[33m04ebd1f\u001b[m Commit con los archivos 1 y 2\n",
"* \u001b[33mc4930d7\u001b[m Tercer commit, hola.py\n",
"* \u001b[33m6e99e73\u001b[m Segundo commit, hola.py\n",
"* \u001b[33m1c95e4f\u001b[m Primer commit, hola.py\n"
          ]
        }
      ],
      "source": [
      "!cd notebook_git && git log --graph --oneline --decorate"
      ]
    },
{
      "attachments": {},
      "cell_type": "markdown",
      "metadata": {},
      "source": [
      "Vemos que o commit do ramo `new_branch2` foi incorporado a esse ramo."
      ]
    },
{
      "attachments": {},
      "cell_type": "markdown",
      "metadata": {},
      "source": [
      "#### Avanço rápido"
      ]
    },
{
      "attachments": {},
      "cell_type": "markdown",
      "metadata": {},
      "source": [
      "Nesse caso, criamos um novo ramo, não tocamos no ramo principal e apenas modificamos o novo ramo, fazendo vários commits. Portanto, quando mesclamos o novo ramo com o ramo principal, veremos todos os commits que foram feitos no novo ramo. Para executar esse tipo de mesclagem, digitamos `git merge --ff-only <branch>`."
      ]
    },
{
      "cell_type": "code",
      "execution_count": 132,
      "metadata": {},
      "outputs": [
      {
          "data": {
            "image/svg+xml": [
            "<?xml version=\"1.0\" encoding=\"UTF-8\" standalone=\"no\"?>\n",
"<!DOCTYPE svg PUBLIC \"-//W3C//DTD SVG 1.1//EN\"\n",
" \"http://www.w3.org/Graphics/SVG/1.1/DTD/svg11.dtd\">\n",
"<!-- Generated by graphviz version 2.43.0 (0)\n",
" -->\n",
"<!-- Title: G Pages: 1 -->\n",
"<svg width=\"404pt\" height=\"98pt\"\n",
" viewBox=\"0.00 0.00 404.40 98.00\" xmlns=\"http://www.w3.org/2000/svg\" xmlns:xlink=\"http://www.w3.org/1999/xlink\">\n",
"<g id=\"graph0\" class=\"graph\" transform=\"scale(1 1) rotate(0) translate(4 94)\">\n",
"<title>G</title>\n",
"<polygon fill=\"white\" stroke=\"transparent\" points=\"-4,4 -4,-94 400.4,-94 400.4,4 -4,4\"/>\n",
"<!-- A -->\n",
"<g id=\"node1\" class=\"node\">\n",
"<title>A</title>\n",
"<ellipse fill=\"none\" stroke=\"blue\" cx=\"18\" cy=\"-45\" rx=\"18\" ry=\"18\"/>\n",
"<text text-anchor=\"middle\" x=\"18\" y=\"-41.3\" font-family=\"Times,serif\" font-size=\"14.00\">A</text>\n",
"</g>\n",
"<!-- B -->\n",
"<g id=\"node2\" class=\"node\">\n",
"<title>B</title>\n",
"<ellipse fill=\"none\" stroke=\"blue\" cx=\"90\" cy=\"-45\" rx=\"18\" ry=\"18\"/>\n",
"<text text-anchor=\"middle\" x=\"90\" y=\"-41.3\" font-family=\"Times,serif\" font-size=\"14.00\">B</text>\n",
"</g>\n",
"<!-- A&#45;&gt;B -->\n",
"<g id=\"edge1\" class=\"edge\">\n",
"<title>A&#45;&gt;B</title>\n",
"<path fill=\"none\" stroke=\"black\" d=\"M36.3,-45C44.02,-45 53.29,-45 61.89,-45\"/>\n",
"<polygon fill=\"black\" stroke=\"black\" points=\"61.9,-48.5 71.9,-45 61.9,-41.5 61.9,-48.5\"/>\n",
"</g>\n",
"<!-- C -->\n",
"<g id=\"node3\" class=\"node\">\n",
"<title>C</title>\n",
"<ellipse fill=\"none\" stroke=\"blue\" cx=\"162\" cy=\"-45\" rx=\"18\" ry=\"18\"/>\n",
"<text text-anchor=\"middle\" x=\"162\" y=\"-41.3\" font-family=\"Times,serif\" font-size=\"14.00\">C</text>\n",
"</g>\n",
"<!-- B&#45;&gt;C -->\n",
"<g id=\"edge2\" class=\"edge\">\n",
"<title>B&#45;&gt;C</title>\n",
"<path fill=\"none\" stroke=\"black\" d=\"M108.3,-45C116.02,-45 125.29,-45 133.89,-45\"/>\n",
"<polygon fill=\"black\" stroke=\"black\" points=\"133.9,-48.5 143.9,-45 133.9,-41.5 133.9,-48.5\"/>\n",
"</g>\n",
"<!-- D -->\n",
"<g id=\"node4\" class=\"node\">\n",
"<title>D</title>\n",
"<ellipse fill=\"none\" stroke=\"blue\" cx=\"234.2\" cy=\"-45\" rx=\"18.4\" ry=\"18.4\"/>\n",
"<text text-anchor=\"middle\" x=\"234.2\" y=\"-41.3\" font-family=\"Times,serif\" font-size=\"14.00\">D</text>\n",
"</g>\n",
"<!-- C&#45;&gt;D -->\n",
"<g id=\"edge3\" class=\"edge\">\n",
"<title>C&#45;&gt;D</title>\n",
"<path fill=\"none\" stroke=\"black\" d=\"M180.35,-45C187.89,-45 196.91,-45 205.34,-45\"/>\n",
"<polygon fill=\"black\" stroke=\"black\" points=\"205.56,-48.5 215.56,-45 205.56,-41.5 205.56,-48.5\"/>\n",
"</g>\n",
"<!-- E -->\n",
"<g id=\"node5\" class=\"node\">\n",
"<title>E</title>\n",
"<ellipse fill=\"none\" stroke=\"transparent\" cx=\"306.4\" cy=\"-72\" rx=\"18\" ry=\"18\"/>\n",
"</g>\n",
"<!-- D&#45;&gt;E -->\n",
"<g id=\"edge4\" class=\"edge\">\n",
"<title>D&#45;&gt;E</title>\n",
"<path fill=\"none\" stroke=\"transparent\" d=\"M251.48,-51.26C259.9,-54.5 270.36,-58.53 279.83,-62.17\"/>\n",
"<polygon fill=\"transparent\" stroke=\"transparent\" points=\"278.61,-65.45 289.2,-65.77 281.13,-58.92 278.61,-65.45\"/>\n",
"</g>\n",
"<!-- X -->\n",
"<g id=\"node6\" class=\"node\">\n",
"<title>X</title>\n",
"<ellipse fill=\"none\" stroke=\"green\" cx=\"306.4\" cy=\"-18\" rx=\"18\" ry=\"18\"/>\n",
"<text text-anchor=\"middle\" x=\"306.4\" y=\"-14.3\" font-family=\"Times,serif\" font-size=\"14.00\">X</text>\n",
"</g>\n",
"<!-- D&#45;&gt;X -->\n",
"<g id=\"edge5\" class=\"edge\">\n",
"<title>D&#45;&gt;X</title>\n",
"<path fill=\"none\" stroke=\"black\" d=\"M251.48,-38.74C259.9,-35.5 270.36,-31.47 279.83,-27.83\"/>\n",
"<polygon fill=\"black\" stroke=\"black\" points=\"281.13,-31.08 289.2,-24.23 278.61,-24.55 281.13,-31.08\"/>\n",
"</g>\n",
"<!-- Y -->\n",
"<g id=\"node7\" class=\"node\">\n",
"<title>Y</title>\n",
"<ellipse fill=\"none\" stroke=\"green\" cx=\"378.4\" cy=\"-18\" rx=\"18\" ry=\"18\"/>\n",
"<text text-anchor=\"middle\" x=\"378.4\" y=\"-14.3\" font-family=\"Times,serif\" font-size=\"14.00\">Y</text>\n",
"</g>\n",
"<!-- X&#45;&gt;Y -->\n",
"<g id=\"edge6\" class=\"edge\">\n",
"<title>X&#45;&gt;Y</title>\n",
"<path fill=\"none\" stroke=\"black\" d=\"M324.7,-18C332.41,-18 341.68,-18 350.28,-18\"/>\n",
"<polygon fill=\"black\" stroke=\"black\" points=\"350.29,-21.5 360.29,-18 350.29,-14.5 350.29,-21.5\"/>\n",
"</g>\n",
"</g>\n",
"</svg>\n"
            ],
            "text/plain": [
            "<graphviz.graphs.Digraph at 0x7f58f80c09a0>"
            ]
          },
          "metadata": {},
          "output_type": "display_data"
        },
{
          "data": {
            "image/svg+xml": [
            "<?xml version=\"1.0\" encoding=\"UTF-8\" standalone=\"no\"?>\n",
"<!DOCTYPE svg PUBLIC \"-//W3C//DTD SVG 1.1//EN\"\n",
" \"http://www.w3.org/Graphics/SVG/1.1/DTD/svg11.dtd\">\n",
"<!-- Generated by graphviz version 2.43.0 (0)\n",
" -->\n",
"<!-- Title: G Pages: 1 -->\n",
"<svg width=\"404pt\" height=\"44pt\"\n",
" viewBox=\"0.00 0.00 404.40 44.40\" xmlns=\"http://www.w3.org/2000/svg\" xmlns:xlink=\"http://www.w3.org/1999/xlink\">\n",
"<g id=\"graph0\" class=\"graph\" transform=\"scale(1 1) rotate(0) translate(4 40.4)\">\n",
"<title>G</title>\n",
"<polygon fill=\"white\" stroke=\"transparent\" points=\"-4,4 -4,-40.4 400.4,-40.4 400.4,4 -4,4\"/>\n",
"<!-- A -->\n",
"<g id=\"node1\" class=\"node\">\n",
"<title>A</title>\n",
"<ellipse fill=\"none\" stroke=\"blue\" cx=\"18\" cy=\"-18.2\" rx=\"18\" ry=\"18\"/>\n",
"<text text-anchor=\"middle\" x=\"18\" y=\"-14.5\" font-family=\"Times,serif\" font-size=\"14.00\">A</text>\n",
"</g>\n",
"<!-- B -->\n",
"<g id=\"node2\" class=\"node\">\n",
"<title>B</title>\n",
"<ellipse fill=\"none\" stroke=\"blue\" cx=\"90\" cy=\"-18.2\" rx=\"18\" ry=\"18\"/>\n",
"<text text-anchor=\"middle\" x=\"90\" y=\"-14.5\" font-family=\"Times,serif\" font-size=\"14.00\">B</text>\n",
"</g>\n",
"<!-- A&#45;&gt;B -->\n",
"<g id=\"edge1\" class=\"edge\">\n",
"<title>A&#45;&gt;B</title>\n",
"<path fill=\"none\" stroke=\"black\" d=\"M36.3,-18.2C44.02,-18.2 53.29,-18.2 61.89,-18.2\"/>\n",
"<polygon fill=\"black\" stroke=\"black\" points=\"61.9,-21.7 71.9,-18.2 61.9,-14.7 61.9,-21.7\"/>\n",
"</g>\n",
"<!-- C -->\n",
"<g id=\"node3\" class=\"node\">\n",
"<title>C</title>\n",
"<ellipse fill=\"none\" stroke=\"blue\" cx=\"162\" cy=\"-18.2\" rx=\"18\" ry=\"18\"/>\n",
"<text text-anchor=\"middle\" x=\"162\" y=\"-14.5\" font-family=\"Times,serif\" font-size=\"14.00\">C</text>\n",
"</g>\n",
"<!-- B&#45;&gt;C -->\n",
"<g id=\"edge2\" class=\"edge\">\n",
"<title>B&#45;&gt;C</title>\n",
"<path fill=\"none\" stroke=\"black\" d=\"M108.3,-18.2C116.02,-18.2 125.29,-18.2 133.89,-18.2\"/>\n",
"<polygon fill=\"black\" stroke=\"black\" points=\"133.9,-21.7 143.9,-18.2 133.9,-14.7 133.9,-21.7\"/>\n",
"</g>\n",
"<!-- D -->\n",
"<g id=\"node4\" class=\"node\">\n",
"<title>D</title>\n",
"<ellipse fill=\"none\" stroke=\"blue\" cx=\"234.2\" cy=\"-18.2\" rx=\"18.4\" ry=\"18.4\"/>\n",
"<text text-anchor=\"middle\" x=\"234.2\" y=\"-14.5\" font-family=\"Times,serif\" font-size=\"14.00\">D</text>\n",
"</g>\n",
"<!-- C&#45;&gt;D -->\n",
"<g id=\"edge3\" class=\"edge\">\n",
"<title>C&#45;&gt;D</title>\n",
"<path fill=\"none\" stroke=\"black\" d=\"M180.35,-18.2C187.89,-18.2 196.91,-18.2 205.34,-18.2\"/>\n",
"<polygon fill=\"black\" stroke=\"black\" points=\"205.56,-21.7 215.56,-18.2 205.56,-14.7 205.56,-21.7\"/>\n",
"</g>\n",
"<!-- X -->\n",
"<g id=\"node5\" class=\"node\">\n",
"<title>X</title>\n",
"<ellipse fill=\"none\" stroke=\"magenta\" cx=\"306.4\" cy=\"-18.2\" rx=\"18\" ry=\"18\"/>\n",
"<text text-anchor=\"middle\" x=\"306.4\" y=\"-14.5\" font-family=\"Times,serif\" font-size=\"14.00\">X</text>\n",
"</g>\n",
"<!-- D&#45;&gt;X -->\n",
"<g id=\"edge4\" class=\"edge\">\n",
"<title>D&#45;&gt;X</title>\n",
"<path fill=\"none\" stroke=\"black\" d=\"M252.55,-18.2C260.29,-18.2 269.58,-18.2 278.21,-18.2\"/>\n",
"<polygon fill=\"black\" stroke=\"black\" points=\"278.24,-21.7 288.24,-18.2 278.24,-14.7 278.24,-21.7\"/>\n",
"</g>\n",
"<!-- Y -->\n",
"<g id=\"node6\" class=\"node\">\n",
"<title>Y</title>\n",
"<ellipse fill=\"none\" stroke=\"magenta\" cx=\"378.4\" cy=\"-18.2\" rx=\"18\" ry=\"18\"/>\n",
"<text text-anchor=\"middle\" x=\"378.4\" y=\"-14.5\" font-family=\"Times,serif\" font-size=\"14.00\">Y</text>\n",
"</g>\n",
"<!-- X&#45;&gt;Y -->\n",
"<g id=\"edge5\" class=\"edge\">\n",
"<title>X&#45;&gt;Y</title>\n",
"<path fill=\"none\" stroke=\"black\" d=\"M324.7,-18.2C332.41,-18.2 341.68,-18.2 350.28,-18.2\"/>\n",
"<polygon fill=\"black\" stroke=\"black\" points=\"350.29,-21.7 360.29,-18.2 350.29,-14.7 350.29,-21.7\"/>\n",
"</g>\n",
"</g>\n",
"</svg>\n"
            ],
            "text/plain": [
            "<graphviz.graphs.Digraph at 0x7f58f9203fa0>"
            ]
          },
          "metadata": {},
          "output_type": "display_data"
        }
      ],
      "source": [
      "### Este código es para crear el gráfico de las ramas, no es necesario para el curso\n",
"\n",
"import graphviz\n",
"\n",
"# Crear el gráfico con la dirección de las flechas de izquierda a derecha\n",
"orin = graphviz.Digraph('G', graph_attr={'rankdir': 'LR'})\n",
"fast_foward = graphviz.Digraph('G', graph_attr={'rankdir': 'LR'})\n",
"\n",
"# Agregar nodos (pelotas) A, B, C y D en la rama principal\n",
"orin.node('A', shape='circle', label='A', color='blue')\n",
"orin.node('B', shape='circle', label='B', color='blue')\n",
"orin.node('C', shape='circle', label='C', color='blue')\n",
"orin.node('D', shape='circle', label='D', color='blue')\n",
"orin.node('E', shape='circle', label='', color='transparent')\n",
"fast_foward.node('A', shape='circle', label='A', color='blue')\n",
"fast_foward.node('B', shape='circle', label='B', color='blue')\n",
"fast_foward.node('C', shape='circle', label='C', color='blue')\n",
"fast_foward.node('D', shape='circle', label='D', color='blue')\n",
"\n",
"# Agregar nodos (pelotas) X e Y en la rama secundaria\n",
"orin.node('X', shape='circle', label='X', color='green')\n",
"orin.node('Y', shape='circle', label='Y', color='green')\n",
"fast_foward.node('X', shape='circle', label='X', color='magenta')\n",
"fast_foward.node('Y', shape='circle', label='Y', color='magenta')\n",
"\n",
"# Agregar flechas entre los nodos en la rama principal\n",
"orin.edges(['AB', 'BC', 'CD'])\n",
"orin.edge('D', 'E', color='transparent')  # Hacer la flecha de C a D transparente\n",
"fast_foward.edges(['AB', 'BC', 'CD', 'DX', 'XY'])\n",
"\n",
"# Agregar flechas entre los nodos en la rama secundaria\n",
"orin.edges(['DX', 'XY'])\n",
"\n",
"# Mostrar el diagrama de flujo en la celda de código de Jupyter Notebook\n",
"display(orin)\n",
"display(fast_foward)"
      ]
    },
{
      "attachments": {},
      "cell_type": "markdown",
      "metadata": {},
      "source": [
      "Primeiro, vamos verificar se estamos na ramificação principal."
      ]
    },
{
      "cell_type": "code",
      "execution_count": 133,
      "metadata": {},
      "outputs": [
      {
          "name": "stdout",
          "output_type": "stream",
          "text": [
          "main\n"
          ]
        }
      ],
      "source": [
      "!cd notebook_git && git branch --show-current"
      ]
    },
{
      "attachments": {},
      "cell_type": "markdown",
      "metadata": {},
      "source": [
      "Criamos uma nova filial"
      ]
    },
{
      "cell_type": "code",
      "execution_count": 134,
      "metadata": {},
      "outputs": [],
      "source": [
      "!cd notebook_git && git branch branch_fast_forward"
      ]
    },
{
      "attachments": {},
      "cell_type": "markdown",
      "metadata": {},
      "source": [
      "Mudamos para ele"
      ]
    },
{
      "cell_type": "code",
      "execution_count": 135,
      "metadata": {},
      "outputs": [
      {
          "name": "stdout",
          "output_type": "stream",
          "text": [
          "Cambiado a rama 'branch_fast_forward'\n"
          ]
        }
      ],
      "source": [
      "!cd notebook_git && git switch branch_fast_forward"
      ]
    },
{
      "cell_type": "code",
      "execution_count": 136,
      "metadata": {},
      "outputs": [
      {
          "name": "stdout",
          "output_type": "stream",
          "text": [
          "branch_fast_forward\n"
          ]
        }
      ],
      "source": [
      "!cd notebook_git && git branch --show-current"
      ]
    },
{
      "attachments": {},
      "cell_type": "markdown",
      "metadata": {},
      "source": [
      "Vamos dar uma olhada no registro"
      ]
    },
{
      "cell_type": "code",
      "execution_count": 137,
      "metadata": {},
      "outputs": [
      {
          "name": "stdout",
          "output_type": "stream",
          "text": [
          "* \u001b[33m564ccfb\u001b[m\u001b[33m (\u001b[m\u001b[1;36mHEAD -> \u001b[m\u001b[1;32mbranch_fast_forward\u001b[m\u001b[33m, \u001b[m\u001b[1;32mnew_branch2\u001b[m\u001b[33m, \u001b[m\u001b[1;32mmain\u001b[m\u001b[33m)\u001b[m Commit con el archivo 8\n",
"* \u001b[33m5168f78\u001b[m Eliminado archivo7.py\n",
"* \u001b[33m4bb9d75\u001b[m\u001b[33m (\u001b[m\u001b[1;32mnew_branch\u001b[m\u001b[33m)\u001b[m Commit con el archivo 7\n",
"* \u001b[33mea615a9\u001b[m Eliminado archivo5.py\n",
"* \u001b[33me3153a5\u001b[m Commit con los archivos 4 y 5\n",
"* \u001b[33m0b09cfa\u001b[m Añadido .gitignore\n",
"* \u001b[33m04ebd1f\u001b[m Commit con los archivos 1 y 2\n",
"* \u001b[33mc4930d7\u001b[m Tercer commit, hola.py\n",
"* \u001b[33m6e99e73\u001b[m Segundo commit, hola.py\n",
"* \u001b[33m1c95e4f\u001b[m Primer commit, hola.py\n"
          ]
        }
      ],
      "source": [
      "!cd notebook_git && git log --graph --oneline --decorate --all"
      ]
    },
{
      "attachments": {},
      "cell_type": "markdown",
      "metadata": {},
      "source": [
      "OK, estamos em uma ramificação criada a partir da ramificação principal com todo o seu histórico de registros, fazemos dois novos commits"
      ]
    },
{
      "cell_type": "code",
      "execution_count": 138,
      "metadata": {},
      "outputs": [
      {
          "name": "stdout",
          "output_type": "stream",
          "text": [
          "rm 'archivo4.py'\n",
"[branch_fast_forward 4484e70] Eliminado archivo4.py\n",
" 1 file changed, 1 deletion(-)\n",
" delete mode 100644 archivo4.py\n"
          ]
        }
      ],
      "source": [
      "!cd notebook_git && git rm archivo4.py && git commit -am \"Eliminado archivo4.py\""
      ]
    },
{
      "cell_type": "code",
      "execution_count": 139,
      "metadata": {},
      "outputs": [
      {
          "name": "stdout",
          "output_type": "stream",
          "text": [
          "rm 'hola.py'\n",
"[branch_fast_forward 94149fc] Eliminado hola.py\n",
" 1 file changed, 3 deletions(-)\n",
" delete mode 100644 hola.py\n"
          ]
        }
      ],
      "source": [
      "!cd notebook_git && git rm hola.py && git commit -am \"Eliminado hola.py\""
      ]
    },
{
      "attachments": {},
      "cell_type": "markdown",
      "metadata": {},
      "source": [
      "Criamos um novo registro para ver que nessa nova ramificação foram criados"
      ]
    },
{
      "cell_type": "code",
      "execution_count": 140,
      "metadata": {},
      "outputs": [
      {
          "name": "stdout",
          "output_type": "stream",
          "text": [
          "* \u001b[33m94149fc\u001b[m\u001b[33m (\u001b[m\u001b[1;36mHEAD -> \u001b[m\u001b[1;32mbranch_fast_forward\u001b[m\u001b[33m)\u001b[m Eliminado hola.py\n",
"* \u001b[33m4484e70\u001b[m Eliminado archivo4.py\n",
"* \u001b[33m564ccfb\u001b[m\u001b[33m (\u001b[m\u001b[1;32mnew_branch2\u001b[m\u001b[33m, \u001b[m\u001b[1;32mmain\u001b[m\u001b[33m)\u001b[m Commit con el archivo 8\n",
"* \u001b[33m5168f78\u001b[m Eliminado archivo7.py\n",
"* \u001b[33m4bb9d75\u001b[m\u001b[33m (\u001b[m\u001b[1;32mnew_branch\u001b[m\u001b[33m)\u001b[m Commit con el archivo 7\n",
"* \u001b[33mea615a9\u001b[m Eliminado archivo5.py\n",
"* \u001b[33me3153a5\u001b[m Commit con los archivos 4 y 5\n",
"* \u001b[33m0b09cfa\u001b[m Añadido .gitignore\n",
"* \u001b[33m04ebd1f\u001b[m Commit con los archivos 1 y 2\n",
"* \u001b[33mc4930d7\u001b[m Tercer commit, hola.py\n",
"* \u001b[33m6e99e73\u001b[m Segundo commit, hola.py\n",
"* \u001b[33m1c95e4f\u001b[m Primer commit, hola.py\n"
          ]
        }
      ],
      "source": [
      "!cd notebook_git && git log --graph --oneline --decorate"
      ]
    },
{
      "attachments": {},
      "cell_type": "markdown",
      "metadata": {},
      "source": [
      "Como podemos ver, os dois últimos commits são os que criamos e podemos verificar se esses commits não estão na ramificação principal (para isso, especifico fazer isso na ramificação `main`)."
      ]
    },
{
      "cell_type": "code",
      "execution_count": 141,
      "metadata": {},
      "outputs": [
      {
          "name": "stdout",
          "output_type": "stream",
          "text": [
          "* \u001b[33m564ccfb\u001b[m\u001b[33m (\u001b[m\u001b[1;32mnew_branch2\u001b[m\u001b[33m, \u001b[m\u001b[1;32mmain\u001b[m\u001b[33m)\u001b[m Commit con el archivo 8\n",
"* \u001b[33m5168f78\u001b[m Eliminado archivo7.py\n",
"* \u001b[33m4bb9d75\u001b[m\u001b[33m (\u001b[m\u001b[1;32mnew_branch\u001b[m\u001b[33m)\u001b[m Commit con el archivo 7\n",
"* \u001b[33mea615a9\u001b[m Eliminado archivo5.py\n",
"* \u001b[33me3153a5\u001b[m Commit con los archivos 4 y 5\n",
"* \u001b[33m0b09cfa\u001b[m Añadido .gitignore\n",
"* \u001b[33m04ebd1f\u001b[m Commit con los archivos 1 y 2\n",
"* \u001b[33mc4930d7\u001b[m Tercer commit, hola.py\n",
"* \u001b[33m6e99e73\u001b[m Segundo commit, hola.py\n",
"* \u001b[33m1c95e4f\u001b[m Primer commit, hola.py\n"
          ]
        }
      ],
      "source": [
      "!cd notebook_git && git log main --graph --oneline --decorate"
      ]
    },
{
      "attachments": {},
      "cell_type": "markdown",
      "metadata": {},
      "source": [
      "Agora vamos para o ramo `main` para fazer a mesclagem."
      ]
    },
{
      "cell_type": "code",
      "execution_count": 142,
      "metadata": {},
      "outputs": [
      {
          "name": "stdout",
          "output_type": "stream",
          "text": [
          "Cambiado a rama 'main'\n"
          ]
        }
      ],
      "source": [
      "!cd notebook_git && git switch main"
      ]
    },
{
      "attachments": {},
      "cell_type": "markdown",
      "metadata": {},
      "source": [
      "Por fim, fazemos a mesclagem de avanço rápido."
      ]
    },
{
      "cell_type": "code",
      "execution_count": 143,
      "metadata": {},
      "outputs": [
      {
          "name": "stdout",
          "output_type": "stream",
          "text": [
          "Actualizando 564ccfb..94149fc\n",
"Fast-forward\n",
" archivo4.py | 1 \u001b[31m-\u001b[m\n",
" hola.py     | 3 \u001b[31m---\u001b[m\n",
" 2 files changed, 4 deletions(-)\n",
" delete mode 100644 archivo4.py\n",
" delete mode 100644 hola.py\n"
          ]
        }
      ],
      "source": [
      "!cd notebook_git && git merge --ff-only branch_fast_forward"
      ]
    },
{
      "attachments": {},
      "cell_type": "markdown",
      "metadata": {},
      "source": [
      "A mesclagem foi feita, vamos ver o que aconteceu com o registro na ramificação `main`."
      ]
    },
{
      "cell_type": "code",
      "execution_count": 144,
      "metadata": {},
      "outputs": [
      {
          "name": "stdout",
          "output_type": "stream",
          "text": [
          "* \u001b[33m94149fc\u001b[m\u001b[33m (\u001b[m\u001b[1;36mHEAD -> \u001b[m\u001b[1;32mmain\u001b[m\u001b[33m, \u001b[m\u001b[1;32mbranch_fast_forward\u001b[m\u001b[33m)\u001b[m Eliminado hola.py\n",
"* \u001b[33m4484e70\u001b[m Eliminado archivo4.py\n",
"* \u001b[33m564ccfb\u001b[m\u001b[33m (\u001b[m\u001b[1;32mnew_branch2\u001b[m\u001b[33m)\u001b[m Commit con el archivo 8\n",
"* \u001b[33m5168f78\u001b[m Eliminado archivo7.py\n",
"* \u001b[33m4bb9d75\u001b[m\u001b[33m (\u001b[m\u001b[1;32mnew_branch\u001b[m\u001b[33m)\u001b[m Commit con el archivo 7\n",
"* \u001b[33mea615a9\u001b[m Eliminado archivo5.py\n",
"* \u001b[33me3153a5\u001b[m Commit con los archivos 4 y 5\n",
"* \u001b[33m0b09cfa\u001b[m Añadido .gitignore\n",
"* \u001b[33m04ebd1f\u001b[m Commit con los archivos 1 y 2\n",
"* \u001b[33mc4930d7\u001b[m Tercer commit, hola.py\n",
"* \u001b[33m6e99e73\u001b[m Segundo commit, hola.py\n",
"* \u001b[33m1c95e4f\u001b[m Primer commit, hola.py\n"
          ]
        }
      ],
      "source": [
      "!cd notebook_git && git log --graph --oneline --decorate"
      ]
    },
{
      "attachments": {},
      "cell_type": "markdown",
      "metadata": {},
      "source": [
      "Como você pode ver, os dois commits feitos no `branch_fast_forward_frog foram mantidos."
      ]
    },
{
      "attachments": {},
      "cell_type": "markdown",
      "metadata": {},
      "source": [
      "#### Sem avanço rápido ou mesclagem real"
      ]
    },
{
      "attachments": {},
      "cell_type": "markdown",
      "metadata": {},
      "source": [
      "Nesse caso, criamos uma nova ramificação, deixamos a ramificação principal intocada e modificamos a nova, fazendo vários commits. Em seguida, fazemos um commit no branch principal. Portanto, quando mesclamos o novo ramo com o principal, veremos um único commit no novo ramo. Para fazer esse tipo de mesclagem, digitamos `git merge <branch> --no-ff`."
      ]
    },
{
      "cell_type": "code",
      "execution_count": 145,
      "metadata": {},
      "outputs": [
      {
          "data": {
            "image/svg+xml": [
            "<?xml version=\"1.0\" encoding=\"UTF-8\" standalone=\"no\"?>\n",
"<!DOCTYPE svg PUBLIC \"-//W3C//DTD SVG 1.1//EN\"\n",
" \"http://www.w3.org/Graphics/SVG/1.1/DTD/svg11.dtd\">\n",
"<!-- Generated by graphviz version 2.43.0 (0)\n",
" -->\n",
"<!-- Title: G Pages: 1 -->\n",
"<svg width=\"404pt\" height=\"98pt\"\n",
" viewBox=\"0.00 0.00 404.40 98.00\" xmlns=\"http://www.w3.org/2000/svg\" xmlns:xlink=\"http://www.w3.org/1999/xlink\">\n",
"<g id=\"graph0\" class=\"graph\" transform=\"scale(1 1) rotate(0) translate(4 94)\">\n",
"<title>G</title>\n",
"<polygon fill=\"white\" stroke=\"transparent\" points=\"-4,4 -4,-94 400.4,-94 400.4,4 -4,4\"/>\n",
"<!-- A -->\n",
"<g id=\"node1\" class=\"node\">\n",
"<title>A</title>\n",
"<ellipse fill=\"none\" stroke=\"blue\" cx=\"18\" cy=\"-45\" rx=\"18\" ry=\"18\"/>\n",
"<text text-anchor=\"middle\" x=\"18\" y=\"-41.3\" font-family=\"Times,serif\" font-size=\"14.00\">A</text>\n",
"</g>\n",
"<!-- B -->\n",
"<g id=\"node2\" class=\"node\">\n",
"<title>B</title>\n",
"<ellipse fill=\"none\" stroke=\"blue\" cx=\"90\" cy=\"-45\" rx=\"18\" ry=\"18\"/>\n",
"<text text-anchor=\"middle\" x=\"90\" y=\"-41.3\" font-family=\"Times,serif\" font-size=\"14.00\">B</text>\n",
"</g>\n",
"<!-- A&#45;&gt;B -->\n",
"<g id=\"edge1\" class=\"edge\">\n",
"<title>A&#45;&gt;B</title>\n",
"<path fill=\"none\" stroke=\"black\" d=\"M36.3,-45C44.02,-45 53.29,-45 61.89,-45\"/>\n",
"<polygon fill=\"black\" stroke=\"black\" points=\"61.9,-48.5 71.9,-45 61.9,-41.5 61.9,-48.5\"/>\n",
"</g>\n",
"<!-- C -->\n",
"<g id=\"node3\" class=\"node\">\n",
"<title>C</title>\n",
"<ellipse fill=\"none\" stroke=\"blue\" cx=\"162\" cy=\"-45\" rx=\"18\" ry=\"18\"/>\n",
"<text text-anchor=\"middle\" x=\"162\" y=\"-41.3\" font-family=\"Times,serif\" font-size=\"14.00\">C</text>\n",
"</g>\n",
"<!-- B&#45;&gt;C -->\n",
"<g id=\"edge2\" class=\"edge\">\n",
"<title>B&#45;&gt;C</title>\n",
"<path fill=\"none\" stroke=\"black\" d=\"M108.3,-45C116.02,-45 125.29,-45 133.89,-45\"/>\n",
"<polygon fill=\"black\" stroke=\"black\" points=\"133.9,-48.5 143.9,-45 133.9,-41.5 133.9,-48.5\"/>\n",
"</g>\n",
"<!-- D -->\n",
"<g id=\"node4\" class=\"node\">\n",
"<title>D</title>\n",
"<ellipse fill=\"none\" stroke=\"blue\" cx=\"234.2\" cy=\"-45\" rx=\"18.4\" ry=\"18.4\"/>\n",
"<text text-anchor=\"middle\" x=\"234.2\" y=\"-41.3\" font-family=\"Times,serif\" font-size=\"14.00\">D</text>\n",
"</g>\n",
"<!-- C&#45;&gt;D -->\n",
"<g id=\"edge3\" class=\"edge\">\n",
"<title>C&#45;&gt;D</title>\n",
"<path fill=\"none\" stroke=\"black\" d=\"M180.35,-45C187.89,-45 196.91,-45 205.34,-45\"/>\n",
"<polygon fill=\"black\" stroke=\"black\" points=\"205.56,-48.5 215.56,-45 205.56,-41.5 205.56,-48.5\"/>\n",
"</g>\n",
"<!-- E -->\n",
"<g id=\"node5\" class=\"node\">\n",
"<title>E</title>\n",
"<ellipse fill=\"none\" stroke=\"transparent\" cx=\"306.4\" cy=\"-72\" rx=\"18\" ry=\"18\"/>\n",
"</g>\n",
"<!-- D&#45;&gt;E -->\n",
"<g id=\"edge4\" class=\"edge\">\n",
"<title>D&#45;&gt;E</title>\n",
"<path fill=\"none\" stroke=\"transparent\" d=\"M251.48,-51.26C259.9,-54.5 270.36,-58.53 279.83,-62.17\"/>\n",
"<polygon fill=\"transparent\" stroke=\"transparent\" points=\"278.61,-65.45 289.2,-65.77 281.13,-58.92 278.61,-65.45\"/>\n",
"</g>\n",
"<!-- X -->\n",
"<g id=\"node6\" class=\"node\">\n",
"<title>X</title>\n",
"<ellipse fill=\"none\" stroke=\"green\" cx=\"306.4\" cy=\"-18\" rx=\"18\" ry=\"18\"/>\n",
"<text text-anchor=\"middle\" x=\"306.4\" y=\"-14.3\" font-family=\"Times,serif\" font-size=\"14.00\">X</text>\n",
"</g>\n",
"<!-- D&#45;&gt;X -->\n",
"<g id=\"edge5\" class=\"edge\">\n",
"<title>D&#45;&gt;X</title>\n",
"<path fill=\"none\" stroke=\"black\" d=\"M251.48,-38.74C259.9,-35.5 270.36,-31.47 279.83,-27.83\"/>\n",
"<polygon fill=\"black\" stroke=\"black\" points=\"281.13,-31.08 289.2,-24.23 278.61,-24.55 281.13,-31.08\"/>\n",
"</g>\n",
"<!-- Y -->\n",
"<g id=\"node7\" class=\"node\">\n",
"<title>Y</title>\n",
"<ellipse fill=\"none\" stroke=\"green\" cx=\"378.4\" cy=\"-18\" rx=\"18\" ry=\"18\"/>\n",
"<text text-anchor=\"middle\" x=\"378.4\" y=\"-14.3\" font-family=\"Times,serif\" font-size=\"14.00\">Y</text>\n",
"</g>\n",
"<!-- X&#45;&gt;Y -->\n",
"<g id=\"edge6\" class=\"edge\">\n",
"<title>X&#45;&gt;Y</title>\n",
"<path fill=\"none\" stroke=\"black\" d=\"M324.7,-18C332.41,-18 341.68,-18 350.28,-18\"/>\n",
"<polygon fill=\"black\" stroke=\"black\" points=\"350.29,-21.5 360.29,-18 350.29,-14.5 350.29,-21.5\"/>\n",
"</g>\n",
"</g>\n",
"</svg>\n"
            ],
            "text/plain": [
            "<graphviz.graphs.Digraph at 0x7f58f80c2fb0>"
            ]
          },
          "metadata": {},
          "output_type": "display_data"
        },
{
          "data": {
            "image/svg+xml": [
            "<?xml version=\"1.0\" encoding=\"UTF-8\" standalone=\"no\"?>\n",
"<!DOCTYPE svg PUBLIC \"-//W3C//DTD SVG 1.1//EN\"\n",
" \"http://www.w3.org/Graphics/SVG/1.1/DTD/svg11.dtd\">\n",
"<!-- Generated by graphviz version 2.43.0 (0)\n",
" -->\n",
"<!-- Title: G Pages: 1 -->\n",
"<svg width=\"481pt\" height=\"98pt\"\n",
" viewBox=\"0.00 0.00 480.69 98.00\" xmlns=\"http://www.w3.org/2000/svg\" xmlns:xlink=\"http://www.w3.org/1999/xlink\">\n",
"<g id=\"graph0\" class=\"graph\" transform=\"scale(1 1) rotate(0) translate(4 94)\">\n",
"<title>G</title>\n",
"<polygon fill=\"white\" stroke=\"transparent\" points=\"-4,4 -4,-94 476.69,-94 476.69,4 -4,4\"/>\n",
"<!-- A -->\n",
"<g id=\"node1\" class=\"node\">\n",
"<title>A</title>\n",
"<ellipse fill=\"none\" stroke=\"blue\" cx=\"18\" cy=\"-45\" rx=\"18\" ry=\"18\"/>\n",
"<text text-anchor=\"middle\" x=\"18\" y=\"-41.3\" font-family=\"Times,serif\" font-size=\"14.00\">A</text>\n",
"</g>\n",
"<!-- B -->\n",
"<g id=\"node2\" class=\"node\">\n",
"<title>B</title>\n",
"<ellipse fill=\"none\" stroke=\"blue\" cx=\"90\" cy=\"-45\" rx=\"18\" ry=\"18\"/>\n",
"<text text-anchor=\"middle\" x=\"90\" y=\"-41.3\" font-family=\"Times,serif\" font-size=\"14.00\">B</text>\n",
"</g>\n",
"<!-- A&#45;&gt;B -->\n",
"<g id=\"edge1\" class=\"edge\">\n",
"<title>A&#45;&gt;B</title>\n",
"<path fill=\"none\" stroke=\"black\" d=\"M36.3,-45C44.02,-45 53.29,-45 61.89,-45\"/>\n",
"<polygon fill=\"black\" stroke=\"black\" points=\"61.9,-48.5 71.9,-45 61.9,-41.5 61.9,-48.5\"/>\n",
"</g>\n",
"<!-- C -->\n",
"<g id=\"node3\" class=\"node\">\n",
"<title>C</title>\n",
"<ellipse fill=\"none\" stroke=\"blue\" cx=\"162\" cy=\"-45\" rx=\"18\" ry=\"18\"/>\n",
"<text text-anchor=\"middle\" x=\"162\" y=\"-41.3\" font-family=\"Times,serif\" font-size=\"14.00\">C</text>\n",
"</g>\n",
"<!-- B&#45;&gt;C -->\n",
"<g id=\"edge2\" class=\"edge\">\n",
"<title>B&#45;&gt;C</title>\n",
"<path fill=\"none\" stroke=\"black\" d=\"M108.3,-45C116.02,-45 125.29,-45 133.89,-45\"/>\n",
"<polygon fill=\"black\" stroke=\"black\" points=\"133.9,-48.5 143.9,-45 133.9,-41.5 133.9,-48.5\"/>\n",
"</g>\n",
"<!-- D -->\n",
"<g id=\"node4\" class=\"node\">\n",
"<title>D</title>\n",
"<ellipse fill=\"none\" stroke=\"blue\" cx=\"234.2\" cy=\"-45\" rx=\"18.4\" ry=\"18.4\"/>\n",
"<text text-anchor=\"middle\" x=\"234.2\" y=\"-41.3\" font-family=\"Times,serif\" font-size=\"14.00\">D</text>\n",
"</g>\n",
"<!-- C&#45;&gt;D -->\n",
"<g id=\"edge3\" class=\"edge\">\n",
"<title>C&#45;&gt;D</title>\n",
"<path fill=\"none\" stroke=\"black\" d=\"M180.35,-45C187.89,-45 196.91,-45 205.34,-45\"/>\n",
"<polygon fill=\"black\" stroke=\"black\" points=\"205.56,-48.5 215.56,-45 205.56,-41.5 205.56,-48.5\"/>\n",
"</g>\n",
"<!-- E -->\n",
"<g id=\"node5\" class=\"node\">\n",
"<title>E</title>\n",
"<ellipse fill=\"none\" stroke=\"blue\" cx=\"378.4\" cy=\"-72\" rx=\"18\" ry=\"18\"/>\n",
"<text text-anchor=\"middle\" x=\"378.4\" y=\"-68.3\" font-family=\"Times,serif\" font-size=\"14.00\">E</text>\n",
"</g>\n",
"<!-- D&#45;&gt;E -->\n",
"<g id=\"edge4\" class=\"edge\">\n",
"<title>D&#45;&gt;E</title>\n",
"<path fill=\"none\" stroke=\"black\" d=\"M252.35,-48.26C276.72,-52.88 321.59,-61.4 350.43,-66.88\"/>\n",
"<polygon fill=\"black\" stroke=\"black\" points=\"350.15,-70.39 360.63,-68.82 351.45,-63.51 350.15,-70.39\"/>\n",
"</g>\n",
"<!-- X -->\n",
"<g id=\"node6\" class=\"node\">\n",
"<title>X</title>\n",
"<ellipse fill=\"none\" stroke=\"green\" cx=\"306.4\" cy=\"-22\" rx=\"18\" ry=\"18\"/>\n",
"<text text-anchor=\"middle\" x=\"306.4\" y=\"-18.3\" font-family=\"Times,serif\" font-size=\"14.00\">X</text>\n",
"</g>\n",
"<!-- D&#45;&gt;X -->\n",
"<g id=\"edge5\" class=\"edge\">\n",
"<title>D&#45;&gt;X</title>\n",
"<path fill=\"none\" stroke=\"black\" d=\"M251.83,-39.55C260.05,-36.86 270.16,-33.55 279.37,-30.53\"/>\n",
"<polygon fill=\"black\" stroke=\"black\" points=\"280.47,-33.85 288.88,-27.41 278.29,-27.2 280.47,-33.85\"/>\n",
"</g>\n",
"<!-- M -->\n",
"<g id=\"node8\" class=\"node\">\n",
"<title>M</title>\n",
"<ellipse fill=\"none\" stroke=\"magenta\" cx=\"452.54\" cy=\"-45\" rx=\"20.3\" ry=\"20.3\"/>\n",
"<text text-anchor=\"middle\" x=\"452.54\" y=\"-41.3\" font-family=\"Times,serif\" font-size=\"14.00\">M</text>\n",
"</g>\n",
"<!-- E&#45;&gt;M -->\n",
"<g id=\"edge8\" class=\"edge\">\n",
"<title>E&#45;&gt;M</title>\n",
"<path fill=\"none\" stroke=\"black\" d=\"M395.41,-66.01C403.79,-62.87 414.29,-58.94 423.93,-55.33\"/>\n",
"<polygon fill=\"black\" stroke=\"black\" points=\"425.41,-58.52 433.55,-51.73 422.96,-51.96 425.41,-58.52\"/>\n",
"</g>\n",
"<!-- Y -->\n",
"<g id=\"node7\" class=\"node\">\n",
"<title>Y</title>\n",
"<ellipse fill=\"none\" stroke=\"green\" cx=\"378.4\" cy=\"-18\" rx=\"18\" ry=\"18\"/>\n",
"<text text-anchor=\"middle\" x=\"378.4\" y=\"-14.3\" font-family=\"Times,serif\" font-size=\"14.00\">Y</text>\n",
"</g>\n",
"<!-- X&#45;&gt;Y -->\n",
"<g id=\"edge6\" class=\"edge\">\n",
"<title>X&#45;&gt;Y</title>\n",
"<path fill=\"none\" stroke=\"black\" d=\"M324.7,-21.01C332.41,-20.57 341.68,-20.04 350.28,-19.55\"/>\n",
"<polygon fill=\"black\" stroke=\"black\" points=\"350.51,-23.04 360.29,-18.98 350.11,-16.05 350.51,-23.04\"/>\n",
"</g>\n",
"<!-- Y&#45;&gt;M -->\n",
"<g id=\"edge7\" class=\"edge\">\n",
"<title>Y&#45;&gt;M</title>\n",
"<path fill=\"none\" stroke=\"black\" d=\"M395.41,-23.99C403.79,-27.13 414.29,-31.06 423.93,-34.67\"/>\n",
"<polygon fill=\"black\" stroke=\"black\" points=\"422.96,-38.04 433.55,-38.27 425.41,-31.48 422.96,-38.04\"/>\n",
"</g>\n",
"</g>\n",
"</svg>\n"
            ],
            "text/plain": [
            "<graphviz.graphs.Digraph at 0x7f58f80c2230>"
            ]
          },
          "metadata": {},
          "output_type": "display_data"
        }
      ],
      "source": [
      "### Este código es para crear el gráfico de las ramas, no es necesario para el curso\n",
"\n",
"import graphviz\n",
"\n",
"# Crear el gráfico con la dirección de las flechas de izquierda a derecha\n",
"orin = graphviz.Digraph('G', graph_attr={'rankdir': 'LR'})\n",
"not_fast_forward = graphviz.Digraph('G', graph_attr={'rankdir': 'LR'})\n",
"\n",
"# Agregar nodos (pelotas) A, B, C y D en la rama principal\n",
"orin.node('A', shape='circle', label='A', color='blue')\n",
"orin.node('B', shape='circle', label='B', color='blue')\n",
"orin.node('C', shape='circle', label='C', color='blue')\n",
"orin.node('D', shape='circle', label='D', color='blue')\n",
"orin.node('E', shape='circle', label='', color='transparent')\n",
"not_fast_forward.node('A', shape='circle', label='A', color='blue')\n",
"not_fast_forward.node('B', shape='circle', label='B', color='blue')\n",
"not_fast_forward.node('C', shape='circle', label='C', color='blue')\n",
"not_fast_forward.node('D', shape='circle', label='D', color='blue')\n",
"not_fast_forward.node('E', shape='circle', label='E', color='blue')\n",
"\n",
"# Agregar nodos (pelotas) X e Y en la rama secundaria\n",
"orin.node('X', shape='circle', label='X', color='green')\n",
"orin.node('Y', shape='circle', label='Y', color='green')\n",
"not_fast_forward.node('X', shape='circle', label='X', color='green')\n",
"not_fast_forward.node('Y', shape='circle', label='Y', color='green')\n",
"\n",
"# Agregar nodo (pelota) M en la rama principal\n",
"not_fast_forward.node('M', shape='circle', label='M', color='magenta')\n",
"\n",
"# Agregar flechas entre los nodos en la rama principal\n",
"orin.edges(['AB', 'BC', 'CD'])\n",
"orin.edge('D', 'E', color='transparent')  # Hacer la flecha de C a D transparente\n",
"not_fast_forward.edges(['AB', 'BC', 'CD', 'DE'])\n",
"\n",
"# Agregar flechas entre los nodos en la rama secundaria\n",
"orin.edges(['DX', 'XY'])\n",
"not_fast_forward.edges(['DX', 'XY', 'YM'])\n",
"\n",
"# Agregar flechas de la rama principal al nodo M\n",
"not_fast_forward.edge('E', 'M')\n",
"\n",
"# Mostrar el diagrama de flujo en la celda de código de Jupyter Notebook\n",
"display(orin)\n",
"display(not_fast_forward)"
      ]
    },
{
      "cell_type": "markdown",
      "metadata": {},
      "source": [
      "Primeiro, vamos verificar se estamos na ramificação principal."
      ]
    },
{
      "cell_type": "code",
      "execution_count": 146,
      "metadata": {},
      "outputs": [
      {
          "name": "stdout",
          "output_type": "stream",
          "text": [
          "main\n"
          ]
        }
      ],
      "source": [
      "!cd notebook_git && git branch --show-current"
      ]
    },
{
      "cell_type": "markdown",
      "metadata": {},
      "source": [
      "Criamos uma nova filial"
      ]
    },
{
      "cell_type": "code",
      "execution_count": 147,
      "metadata": {},
      "outputs": [],
      "source": [
      "!cd notebook_git && git branch branch_no_fast_forward"
      ]
    },
{
      "cell_type": "markdown",
      "metadata": {},
      "source": [
      "Mudamos para ele"
      ]
    },
{
      "cell_type": "code",
      "execution_count": 148,
      "metadata": {},
      "outputs": [
      {
          "name": "stdout",
          "output_type": "stream",
          "text": [
          "Cambiado a rama 'branch_no_fast_forward'\n"
          ]
        }
      ],
      "source": [
      "!cd notebook_git && git switch branch_no_fast_forward"
      ]
    },
{
      "cell_type": "code",
      "execution_count": 149,
      "metadata": {},
      "outputs": [
      {
          "name": "stdout",
          "output_type": "stream",
          "text": [
          "branch_no_fast_forward\n"
          ]
        }
      ],
      "source": [
      "!cd notebook_git && git branch --show-current"
      ]
    },
{
      "cell_type": "markdown",
      "metadata": {},
      "source": [
      "OK, estamos em uma ramificação criada a partir da ramificação principal com todo o seu histórico de registros, fazemos dois novos commits"
      ]
    },
{
      "cell_type": "code",
      "execution_count": 150,
      "metadata": {},
      "outputs": [
      {
          "name": "stdout",
          "output_type": "stream",
          "text": [
          "[branch_no_fast_forward e4e23c9] file1\n",
" 1 file changed, 0 insertions(+), 0 deletions(-)\n",
" create mode 100644 file1\n"
          ]
        }
      ],
      "source": [
      "!cd notebook_git && touch file1 && git add file1 && git commit -m \"file1\""
      ]
    },
{
      "cell_type": "code",
      "execution_count": 151,
      "metadata": {},
      "outputs": [
      {
          "name": "stdout",
          "output_type": "stream",
          "text": [
          "[branch_no_fast_forward 8df3429] file2\n",
" 1 file changed, 0 insertions(+), 0 deletions(-)\n",
" create mode 100644 file2\n"
          ]
        }
      ],
      "source": [
      "!cd notebook_git && touch file2 && git add file2 && git commit -m \"file2\""
      ]
    },
{
      "cell_type": "markdown",
      "metadata": {},
      "source": [
      "Criamos um novo registro para ver que nessa nova ramificação foram criados"
      ]
    },
{
      "cell_type": "code",
      "execution_count": 152,
      "metadata": {},
      "outputs": [
      {
          "name": "stdout",
          "output_type": "stream",
          "text": [
          "* \u001b[33m8df3429\u001b[m\u001b[33m (\u001b[m\u001b[1;36mHEAD -> \u001b[m\u001b[1;32mbranch_no_fast_forward\u001b[m\u001b[33m)\u001b[m file2\n",
"* \u001b[33me4e23c9\u001b[m file1\n",
"* \u001b[33m94149fc\u001b[m\u001b[33m (\u001b[m\u001b[1;32mmain\u001b[m\u001b[33m, \u001b[m\u001b[1;32mbranch_fast_forward\u001b[m\u001b[33m)\u001b[m Eliminado hola.py\n",
"* \u001b[33m4484e70\u001b[m Eliminado archivo4.py\n",
"* \u001b[33m564ccfb\u001b[m\u001b[33m (\u001b[m\u001b[1;32mnew_branch2\u001b[m\u001b[33m)\u001b[m Commit con el archivo 8\n",
"* \u001b[33m5168f78\u001b[m Eliminado archivo7.py\n",
"* \u001b[33m4bb9d75\u001b[m\u001b[33m (\u001b[m\u001b[1;32mnew_branch\u001b[m\u001b[33m)\u001b[m Commit con el archivo 7\n",
"* \u001b[33mea615a9\u001b[m Eliminado archivo5.py\n",
"* \u001b[33me3153a5\u001b[m Commit con los archivos 4 y 5\n",
"* \u001b[33m0b09cfa\u001b[m Añadido .gitignore\n",
"* \u001b[33m04ebd1f\u001b[m Commit con los archivos 1 y 2\n",
"* \u001b[33mc4930d7\u001b[m Tercer commit, hola.py\n",
"* \u001b[33m6e99e73\u001b[m Segundo commit, hola.py\n",
"* \u001b[33m1c95e4f\u001b[m Primer commit, hola.py\n"
          ]
        }
      ],
      "source": [
      "!cd notebook_git && git log --graph --oneline --decorate"
      ]
    },
{
      "cell_type": "markdown",
      "metadata": {},
      "source": [
      "Como podemos ver, os dois últimos commits são os que criamos e podemos verificar se esses commits não estão na ramificação principal (para isso, especifico fazer isso na ramificação `main`)."
      ]
    },
{
      "cell_type": "code",
      "execution_count": 153,
      "metadata": {},
      "outputs": [
      {
          "name": "stdout",
          "output_type": "stream",
          "text": [
          "* \u001b[33m94149fc\u001b[m\u001b[33m (\u001b[m\u001b[1;32mmain\u001b[m\u001b[33m, \u001b[m\u001b[1;32mbranch_fast_forward\u001b[m\u001b[33m)\u001b[m Eliminado hola.py\n",
"* \u001b[33m4484e70\u001b[m Eliminado archivo4.py\n",
"* \u001b[33m564ccfb\u001b[m\u001b[33m (\u001b[m\u001b[1;32mnew_branch2\u001b[m\u001b[33m)\u001b[m Commit con el archivo 8\n",
"* \u001b[33m5168f78\u001b[m Eliminado archivo7.py\n",
"* \u001b[33m4bb9d75\u001b[m\u001b[33m (\u001b[m\u001b[1;32mnew_branch\u001b[m\u001b[33m)\u001b[m Commit con el archivo 7\n",
"* \u001b[33mea615a9\u001b[m Eliminado archivo5.py\n",
"* \u001b[33me3153a5\u001b[m Commit con los archivos 4 y 5\n",
"* \u001b[33m0b09cfa\u001b[m Añadido .gitignore\n",
"* \u001b[33m04ebd1f\u001b[m Commit con los archivos 1 y 2\n",
"* \u001b[33mc4930d7\u001b[m Tercer commit, hola.py\n",
"* \u001b[33m6e99e73\u001b[m Segundo commit, hola.py\n",
"* \u001b[33m1c95e4f\u001b[m Primer commit, hola.py\n"
          ]
        }
      ],
      "source": [
      "!cd notebook_git && git log main --graph --oneline --decorate"
      ]
    },
{
      "attachments": {},
      "cell_type": "markdown",
      "metadata": {},
      "source": [
      "Agora vamos para o ramo `main`."
      ]
    },
{
      "cell_type": "code",
      "execution_count": 154,
      "metadata": {},
      "outputs": [
      {
          "name": "stdout",
          "output_type": "stream",
          "text": [
          "Cambiado a rama 'main'\n"
          ]
        }
      ],
      "source": [
      "!cd notebook_git && git switch main"
      ]
    },
{
      "attachments": {},
      "cell_type": "markdown",
      "metadata": {},
      "source": [
      "Criamos um novo commit"
      ]
    },
{
      "cell_type": "code",
      "execution_count": 155,
      "metadata": {},
      "outputs": [
      {
          "name": "stdout",
          "output_type": "stream",
          "text": [
          "[main 8bdf4d8] file3\n",
" 1 file changed, 0 insertions(+), 0 deletions(-)\n",
" create mode 100644 file3\n"
          ]
        }
      ],
      "source": [
      "!cd notebook_git && touch file3 && git add file3 && git commit -m \"file3\""
      ]
    },
{
      "attachments": {},
      "cell_type": "markdown",
      "metadata": {},
      "source": [
      "Por fim, fazemos a mesclagem sem avanço rápido."
      ]
    },
{
      "cell_type": "code",
      "execution_count": 152,
      "metadata": {},
      "outputs": [
      {
          "name": "stdout",
          "output_type": "stream",
          "text": [
          "\u001b[2B\u001b[m\u001b[mommit. comenzando con '#' serán ignoradas, y un mensaje vacío abortasaria esta\u001b[m\u001b[7m>\u001b[4;1H\u001b[m\u001b[36m# especialmente si esto fusiona un upstream actualizado en una rama de tópico. /home/wallabot/Documentos/web/portafolio/posts/notebook_git/.git/MERGE_MSG   \u001b[1;79H\u001b[m\u001b[22;16H\u001b[7m[ línea 1/7 (14%), col 1/48 (2%), car 0/301 (0%) ]\u001b[m\u001b[22;16H             \u001b[7m[ Párrafo justificado ]\u001b[m\u001b[K\u001b[H\u001b[7m...llabot/Documentos/web/portafolio/posts/notebook_git/.git/MERGE_MSG Modificado\u001b[1;80H\u001b[m"
          ]
        }
      ],
      "source": [
      "!cd notebook_git && git merge branch_no_fast_forward --no-ff"
      ]
    },
{
      "attachments": {},
      "cell_type": "markdown",
      "metadata": {},
      "source": [
      "Como podemos ver, ele abre o editor para inserir uma mensagem de confirmação e uma mensagem padrão. Aceitamos a mensagem e vemos o que aconteceu"
      ]
    },
{
      "cell_type": "code",
      "execution_count": 156,
      "metadata": {},
      "outputs": [
      {
          "name": "stdout",
          "output_type": "stream",
          "text": [
          "En la rama main\n",
"nada para hacer commit, el árbol de trabajo está limpio\n"
          ]
        }
      ],
      "source": [
      "!cd notebook_git && git status"
      ]
    },
{
      "cell_type": "code",
      "execution_count": 157,
      "metadata": {},
      "outputs": [
      {
          "name": "stdout",
          "output_type": "stream",
          "text": [
          "*   \u001b[33m274529c\u001b[m\u001b[33m (\u001b[m\u001b[1;36mHEAD -> \u001b[m\u001b[1;32mmain\u001b[m\u001b[33m)\u001b[m Merge branch 'branch_no_fast_forward' into main\n",
"\u001b[31m|\u001b[m\u001b[32m\\\u001b[m  \n",
"\u001b[31m|\u001b[m * \u001b[33m8df3429\u001b[m\u001b[33m (\u001b[m\u001b[1;32mbranch_no_fast_forward\u001b[m\u001b[33m)\u001b[m file2\n",
"\u001b[31m|\u001b[m * \u001b[33me4e23c9\u001b[m file1\n",
"* \u001b[32m|\u001b[m \u001b[33m8bdf4d8\u001b[m file3\n",
"\u001b[32m|\u001b[m\u001b[32m/\u001b[m  \n",
"* \u001b[33m94149fc\u001b[m\u001b[33m (\u001b[m\u001b[1;32mbranch_fast_forward\u001b[m\u001b[33m)\u001b[m Eliminado hola.py\n",
"* \u001b[33m4484e70\u001b[m Eliminado archivo4.py\n",
"* \u001b[33m564ccfb\u001b[m\u001b[33m (\u001b[m\u001b[1;32mnew_branch2\u001b[m\u001b[33m)\u001b[m Commit con el archivo 8\n",
"* \u001b[33m5168f78\u001b[m Eliminado archivo7.py\n",
"* \u001b[33m4bb9d75\u001b[m\u001b[33m (\u001b[m\u001b[1;32mnew_branch\u001b[m\u001b[33m)\u001b[m Commit con el archivo 7\n",
"* \u001b[33mea615a9\u001b[m Eliminado archivo5.py\n",
"* \u001b[33me3153a5\u001b[m Commit con los archivos 4 y 5\n",
"* \u001b[33m0b09cfa\u001b[m Añadido .gitignore\n",
"* \u001b[33m04ebd1f\u001b[m Commit con los archivos 1 y 2\n",
"* \u001b[33mc4930d7\u001b[m Tercer commit, hola.py\n",
"* \u001b[33m6e99e73\u001b[m Segundo commit, hola.py\n",
"* \u001b[33m1c95e4f\u001b[m Primer commit, hola.py\n"
          ]
        }
      ],
      "source": [
      "!cd notebook_git && git log --graph --oneline --decorate"
      ]
    },
{
      "cell_type": "code",
      "execution_count": 158,
      "metadata": {},
      "outputs": [
      {
          "name": "stdout",
          "output_type": "stream",
          "text": [
          "api_keys.py  archivo1.py  archivo2.py  archivo8.py  file1  file2  file3\n"
          ]
        }
      ],
      "source": [
      "!cd notebook_git && ls"
      ]
    },
{
      "attachments": {},
      "cell_type": "markdown",
      "metadata": {},
      "source": [
      "Como podemos ver, um novo commit foi criado com as alterações da nova ramificação na ramificação principal."
      ]
    },
{
      "attachments": {},
      "cell_type": "markdown",
      "metadata": {},
      "source": [
      "#### Squash"
      ]
    },
{
      "attachments": {},
      "cell_type": "markdown",
      "metadata": {},
      "source": [
      "Nesse tipo de mesclagem, todos os commits de uma nova ramificação são mesclados em um commit na ramificação principal; para isso, digitamos `git merge <branch> --squash`."
      ]
    },
{
      "cell_type": "code",
      "execution_count": 159,
      "metadata": {},
      "outputs": [
      {
          "data": {
            "image/svg+xml": [
            "<?xml version=\"1.0\" encoding=\"UTF-8\" standalone=\"no\"?>\n",
"<!DOCTYPE svg PUBLIC \"-//W3C//DTD SVG 1.1//EN\"\n",
" \"http://www.w3.org/Graphics/SVG/1.1/DTD/svg11.dtd\">\n",
"<!-- Generated by graphviz version 2.43.0 (0)\n",
" -->\n",
"<!-- Title: G Pages: 1 -->\n",
"<svg width=\"404pt\" height=\"98pt\"\n",
" viewBox=\"0.00 0.00 404.40 98.00\" xmlns=\"http://www.w3.org/2000/svg\" xmlns:xlink=\"http://www.w3.org/1999/xlink\">\n",
"<g id=\"graph0\" class=\"graph\" transform=\"scale(1 1) rotate(0) translate(4 94)\">\n",
"<title>G</title>\n",
"<polygon fill=\"white\" stroke=\"transparent\" points=\"-4,4 -4,-94 400.4,-94 400.4,4 -4,4\"/>\n",
"<!-- A -->\n",
"<g id=\"node1\" class=\"node\">\n",
"<title>A</title>\n",
"<ellipse fill=\"none\" stroke=\"blue\" cx=\"18\" cy=\"-45\" rx=\"18\" ry=\"18\"/>\n",
"<text text-anchor=\"middle\" x=\"18\" y=\"-41.3\" font-family=\"Times,serif\" font-size=\"14.00\">A</text>\n",
"</g>\n",
"<!-- B -->\n",
"<g id=\"node2\" class=\"node\">\n",
"<title>B</title>\n",
"<ellipse fill=\"none\" stroke=\"blue\" cx=\"90\" cy=\"-45\" rx=\"18\" ry=\"18\"/>\n",
"<text text-anchor=\"middle\" x=\"90\" y=\"-41.3\" font-family=\"Times,serif\" font-size=\"14.00\">B</text>\n",
"</g>\n",
"<!-- A&#45;&gt;B -->\n",
"<g id=\"edge1\" class=\"edge\">\n",
"<title>A&#45;&gt;B</title>\n",
"<path fill=\"none\" stroke=\"black\" d=\"M36.3,-45C44.02,-45 53.29,-45 61.89,-45\"/>\n",
"<polygon fill=\"black\" stroke=\"black\" points=\"61.9,-48.5 71.9,-45 61.9,-41.5 61.9,-48.5\"/>\n",
"</g>\n",
"<!-- C -->\n",
"<g id=\"node3\" class=\"node\">\n",
"<title>C</title>\n",
"<ellipse fill=\"none\" stroke=\"blue\" cx=\"162\" cy=\"-45\" rx=\"18\" ry=\"18\"/>\n",
"<text text-anchor=\"middle\" x=\"162\" y=\"-41.3\" font-family=\"Times,serif\" font-size=\"14.00\">C</text>\n",
"</g>\n",
"<!-- B&#45;&gt;C -->\n",
"<g id=\"edge2\" class=\"edge\">\n",
"<title>B&#45;&gt;C</title>\n",
"<path fill=\"none\" stroke=\"black\" d=\"M108.3,-45C116.02,-45 125.29,-45 133.89,-45\"/>\n",
"<polygon fill=\"black\" stroke=\"black\" points=\"133.9,-48.5 143.9,-45 133.9,-41.5 133.9,-48.5\"/>\n",
"</g>\n",
"<!-- D -->\n",
"<g id=\"node4\" class=\"node\">\n",
"<title>D</title>\n",
"<ellipse fill=\"none\" stroke=\"blue\" cx=\"234.2\" cy=\"-45\" rx=\"18.4\" ry=\"18.4\"/>\n",
"<text text-anchor=\"middle\" x=\"234.2\" y=\"-41.3\" font-family=\"Times,serif\" font-size=\"14.00\">D</text>\n",
"</g>\n",
"<!-- C&#45;&gt;D -->\n",
"<g id=\"edge3\" class=\"edge\">\n",
"<title>C&#45;&gt;D</title>\n",
"<path fill=\"none\" stroke=\"black\" d=\"M180.35,-45C187.89,-45 196.91,-45 205.34,-45\"/>\n",
"<polygon fill=\"black\" stroke=\"black\" points=\"205.56,-48.5 215.56,-45 205.56,-41.5 205.56,-48.5\"/>\n",
"</g>\n",
"<!-- E -->\n",
"<g id=\"node5\" class=\"node\">\n",
"<title>E</title>\n",
"<ellipse fill=\"none\" stroke=\"transparent\" cx=\"306.4\" cy=\"-72\" rx=\"18\" ry=\"18\"/>\n",
"</g>\n",
"<!-- D&#45;&gt;E -->\n",
"<g id=\"edge4\" class=\"edge\">\n",
"<title>D&#45;&gt;E</title>\n",
"<path fill=\"none\" stroke=\"transparent\" d=\"M251.48,-51.26C259.9,-54.5 270.36,-58.53 279.83,-62.17\"/>\n",
"<polygon fill=\"transparent\" stroke=\"transparent\" points=\"278.61,-65.45 289.2,-65.77 281.13,-58.92 278.61,-65.45\"/>\n",
"</g>\n",
"<!-- X -->\n",
"<g id=\"node6\" class=\"node\">\n",
"<title>X</title>\n",
"<ellipse fill=\"none\" stroke=\"green\" cx=\"306.4\" cy=\"-18\" rx=\"18\" ry=\"18\"/>\n",
"<text text-anchor=\"middle\" x=\"306.4\" y=\"-14.3\" font-family=\"Times,serif\" font-size=\"14.00\">X</text>\n",
"</g>\n",
"<!-- D&#45;&gt;X -->\n",
"<g id=\"edge5\" class=\"edge\">\n",
"<title>D&#45;&gt;X</title>\n",
"<path fill=\"none\" stroke=\"black\" d=\"M251.48,-38.74C259.9,-35.5 270.36,-31.47 279.83,-27.83\"/>\n",
"<polygon fill=\"black\" stroke=\"black\" points=\"281.13,-31.08 289.2,-24.23 278.61,-24.55 281.13,-31.08\"/>\n",
"</g>\n",
"<!-- Y -->\n",
"<g id=\"node7\" class=\"node\">\n",
"<title>Y</title>\n",
"<ellipse fill=\"none\" stroke=\"green\" cx=\"378.4\" cy=\"-18\" rx=\"18\" ry=\"18\"/>\n",
"<text text-anchor=\"middle\" x=\"378.4\" y=\"-14.3\" font-family=\"Times,serif\" font-size=\"14.00\">Y</text>\n",
"</g>\n",
"<!-- X&#45;&gt;Y -->\n",
"<g id=\"edge6\" class=\"edge\">\n",
"<title>X&#45;&gt;Y</title>\n",
"<path fill=\"none\" stroke=\"black\" d=\"M324.7,-18C332.41,-18 341.68,-18 350.28,-18\"/>\n",
"<polygon fill=\"black\" stroke=\"black\" points=\"350.29,-21.5 360.29,-18 350.29,-14.5 350.29,-21.5\"/>\n",
"</g>\n",
"</g>\n",
"</svg>\n"
            ],
            "text/plain": [
            "<graphviz.graphs.Digraph at 0x7f58f80e6470>"
            ]
          },
          "metadata": {},
          "output_type": "display_data"
        },
{
          "data": {
            "image/svg+xml": [
            "<?xml version=\"1.0\" encoding=\"UTF-8\" standalone=\"no\"?>\n",
"<!DOCTYPE svg PUBLIC \"-//W3C//DTD SVG 1.1//EN\"\n",
" \"http://www.w3.org/Graphics/SVG/1.1/DTD/svg11.dtd\">\n",
"<!-- Generated by graphviz version 2.43.0 (0)\n",
" -->\n",
"<!-- Title: G Pages: 1 -->\n",
"<svg width=\"337pt\" height=\"48pt\"\n",
" viewBox=\"0.00 0.00 336.69 48.30\" xmlns=\"http://www.w3.org/2000/svg\" xmlns:xlink=\"http://www.w3.org/1999/xlink\">\n",
"<g id=\"graph0\" class=\"graph\" transform=\"scale(1 1) rotate(0) translate(4 44.3)\">\n",
"<title>G</title>\n",
"<polygon fill=\"white\" stroke=\"transparent\" points=\"-4,4 -4,-44.3 332.69,-44.3 332.69,4 -4,4\"/>\n",
"<!-- A -->\n",
"<g id=\"node1\" class=\"node\">\n",
"<title>A</title>\n",
"<ellipse fill=\"none\" stroke=\"blue\" cx=\"18\" cy=\"-20.15\" rx=\"18\" ry=\"18\"/>\n",
"<text text-anchor=\"middle\" x=\"18\" y=\"-16.45\" font-family=\"Times,serif\" font-size=\"14.00\">A</text>\n",
"</g>\n",
"<!-- B -->\n",
"<g id=\"node2\" class=\"node\">\n",
"<title>B</title>\n",
"<ellipse fill=\"none\" stroke=\"blue\" cx=\"90\" cy=\"-20.15\" rx=\"18\" ry=\"18\"/>\n",
"<text text-anchor=\"middle\" x=\"90\" y=\"-16.45\" font-family=\"Times,serif\" font-size=\"14.00\">B</text>\n",
"</g>\n",
"<!-- A&#45;&gt;B -->\n",
"<g id=\"edge1\" class=\"edge\">\n",
"<title>A&#45;&gt;B</title>\n",
"<path fill=\"none\" stroke=\"black\" d=\"M36.3,-20.15C44.02,-20.15 53.29,-20.15 61.89,-20.15\"/>\n",
"<polygon fill=\"black\" stroke=\"black\" points=\"61.9,-23.65 71.9,-20.15 61.9,-16.65 61.9,-23.65\"/>\n",
"</g>\n",
"<!-- C -->\n",
"<g id=\"node3\" class=\"node\">\n",
"<title>C</title>\n",
"<ellipse fill=\"none\" stroke=\"blue\" cx=\"162\" cy=\"-20.15\" rx=\"18\" ry=\"18\"/>\n",
"<text text-anchor=\"middle\" x=\"162\" y=\"-16.45\" font-family=\"Times,serif\" font-size=\"14.00\">C</text>\n",
"</g>\n",
"<!-- B&#45;&gt;C -->\n",
"<g id=\"edge2\" class=\"edge\">\n",
"<title>B&#45;&gt;C</title>\n",
"<path fill=\"none\" stroke=\"black\" d=\"M108.3,-20.15C116.02,-20.15 125.29,-20.15 133.89,-20.15\"/>\n",
"<polygon fill=\"black\" stroke=\"black\" points=\"133.9,-23.65 143.9,-20.15 133.9,-16.65 133.9,-23.65\"/>\n",
"</g>\n",
"<!-- D -->\n",
"<g id=\"node4\" class=\"node\">\n",
"<title>D</title>\n",
"<ellipse fill=\"none\" stroke=\"blue\" cx=\"234.2\" cy=\"-20.15\" rx=\"18.4\" ry=\"18.4\"/>\n",
"<text text-anchor=\"middle\" x=\"234.2\" y=\"-16.45\" font-family=\"Times,serif\" font-size=\"14.00\">D</text>\n",
"</g>\n",
"<!-- C&#45;&gt;D -->\n",
"<g id=\"edge3\" class=\"edge\">\n",
"<title>C&#45;&gt;D</title>\n",
"<path fill=\"none\" stroke=\"black\" d=\"M180.35,-20.15C187.89,-20.15 196.91,-20.15 205.34,-20.15\"/>\n",
"<polygon fill=\"black\" stroke=\"black\" points=\"205.56,-23.65 215.56,-20.15 205.56,-16.65 205.56,-23.65\"/>\n",
"</g>\n",
"<!-- M -->\n",
"<g id=\"node5\" class=\"node\">\n",
"<title>M</title>\n",
"<ellipse fill=\"none\" stroke=\"magenta\" cx=\"308.54\" cy=\"-20.15\" rx=\"20.3\" ry=\"20.3\"/>\n",
"<text text-anchor=\"middle\" x=\"308.54\" y=\"-16.45\" font-family=\"Times,serif\" font-size=\"14.00\">M</text>\n",
"</g>\n",
"<!-- D&#45;&gt;M -->\n",
"<g id=\"edge4\" class=\"edge\">\n",
"<title>D&#45;&gt;M</title>\n",
"<path fill=\"none\" stroke=\"black\" d=\"M252.71,-20.15C260.32,-20.15 269.45,-20.15 278.06,-20.15\"/>\n",
"<polygon fill=\"black\" stroke=\"black\" points=\"278.16,-23.65 288.16,-20.15 278.16,-16.65 278.16,-23.65\"/>\n",
"</g>\n",
"</g>\n",
"</svg>\n"
            ],
            "text/plain": [
            "<graphviz.graphs.Digraph at 0x7f58f80e6f80>"
            ]
          },
          "metadata": {},
          "output_type": "display_data"
        }
      ],
      "source": [
      "### Este código es para crear el gráfico de las ramas, no es necesario para el curso\n",
"\n",
"import graphviz\n",
"\n",
"# Crear el gráfico con la dirección de las flechas de izquierda a derecha\n",
"orin = graphviz.Digraph('G', graph_attr={'rankdir': 'LR'})\n",
"squash = graphviz.Digraph('G', graph_attr={'rankdir': 'LR'})\n",
"\n",
"# Agregar nodos (pelotas) A, B, C y D en la rama principal\n",
"orin.node('A', shape='circle', label='A', color='blue')\n",
"orin.node('B', shape='circle', label='B', color='blue')\n",
"orin.node('C', shape='circle', label='C', color='blue')\n",
"orin.node('D', shape='circle', label='D', color='blue')\n",
"orin.node('E', shape='circle', label='', color='transparent')\n",
"squash.node('A', shape='circle', label='A', color='blue')\n",
"squash.node('B', shape='circle', label='B', color='blue')\n",
"squash.node('C', shape='circle', label='C', color='blue')\n",
"squash.node('D', shape='circle', label='D', color='blue')\n",
"\n",
"# Agregar nodos (pelotas) X e Y en la rama secundaria\n",
"orin.node('X', shape='circle', label='X', color='green')\n",
"orin.node('Y', shape='circle', label='Y', color='green')\n",
"\n",
"# Agregar nodo (pelota) M en la rama principal\n",
"squash.node('M', shape='circle', label='M', color='magenta')\n",
"\n",
"# Agregar flechas entre los nodos en la rama principal\n",
"orin.edges(['AB', 'BC', 'CD'])\n",
"orin.edge('D', 'E', color='transparent')  # Hacer la flecha de C a D transparente\n",
"squash.edges(['AB', 'BC', 'CD', 'DM'])\n",
"\n",
"# Agregar flechas entre los nodos en la rama secundaria\n",
"orin.edges(['DX', 'XY'])\n",
"\n",
"# Mostrar el diagrama de flujo en la celda de código de Jupyter Notebook\n",
"display(orin)\n",
"display(squash)"
      ]
    },
{
      "cell_type": "markdown",
      "metadata": {},
      "source": [
      "Primeiro, vamos verificar se estamos na ramificação principal."
      ]
    },
{
      "cell_type": "code",
      "execution_count": 160,
      "metadata": {},
      "outputs": [
      {
          "name": "stdout",
          "output_type": "stream",
          "text": [
          "main\n"
          ]
        }
      ],
      "source": [
      "!cd notebook_git && git branch --show-current"
      ]
    },
{
      "cell_type": "markdown",
      "metadata": {},
      "source": [
      "Criamos uma nova filial"
      ]
    },
{
      "cell_type": "code",
      "execution_count": 161,
      "metadata": {},
      "outputs": [],
      "source": [
      "!cd notebook_git && git branch branch_squash"
      ]
    },
{
      "cell_type": "markdown",
      "metadata": {},
      "source": [
      "Mudamos para ele"
      ]
    },
{
      "cell_type": "code",
      "execution_count": 162,
      "metadata": {},
      "outputs": [
      {
          "name": "stdout",
          "output_type": "stream",
          "text": [
          "Cambiado a rama 'branch_squash'\n"
          ]
        }
      ],
      "source": [
      "!cd notebook_git && git switch branch_squash"
      ]
    },
{
      "cell_type": "code",
      "execution_count": 163,
      "metadata": {},
      "outputs": [
      {
          "name": "stdout",
          "output_type": "stream",
          "text": [
          "branch_squash\n"
          ]
        }
      ],
      "source": [
      "!cd notebook_git && git branch --show-current"
      ]
    },
{
      "cell_type": "markdown",
      "metadata": {},
      "source": [
      "Vamos dar uma olhada no registro"
      ]
    },
{
      "cell_type": "code",
      "execution_count": 164,
      "metadata": {},
      "outputs": [
      {
          "name": "stdout",
          "output_type": "stream",
          "text": [
          "*   \u001b[33m274529c\u001b[m\u001b[33m (\u001b[m\u001b[1;36mHEAD -> \u001b[m\u001b[1;32mbranch_squash\u001b[m\u001b[33m, \u001b[m\u001b[1;32mmain\u001b[m\u001b[33m)\u001b[m Merge branch 'branch_no_fast_forward' into main\n",
"\u001b[31m|\u001b[m\u001b[32m\\\u001b[m  \n",
"\u001b[31m|\u001b[m * \u001b[33m8df3429\u001b[m\u001b[33m (\u001b[m\u001b[1;32mbranch_no_fast_forward\u001b[m\u001b[33m)\u001b[m file2\n",
"\u001b[31m|\u001b[m * \u001b[33me4e23c9\u001b[m file1\n",
"* \u001b[32m|\u001b[m \u001b[33m8bdf4d8\u001b[m file3\n",
"\u001b[32m|\u001b[m\u001b[32m/\u001b[m  \n",
"* \u001b[33m94149fc\u001b[m\u001b[33m (\u001b[m\u001b[1;32mbranch_fast_forward\u001b[m\u001b[33m)\u001b[m Eliminado hola.py\n",
"* \u001b[33m4484e70\u001b[m Eliminado archivo4.py\n",
"* \u001b[33m564ccfb\u001b[m\u001b[33m (\u001b[m\u001b[1;32mnew_branch2\u001b[m\u001b[33m)\u001b[m Commit con el archivo 8\n",
"* \u001b[33m5168f78\u001b[m Eliminado archivo7.py\n",
"* \u001b[33m4bb9d75\u001b[m\u001b[33m (\u001b[m\u001b[1;32mnew_branch\u001b[m\u001b[33m)\u001b[m Commit con el archivo 7\n",
"* \u001b[33mea615a9\u001b[m Eliminado archivo5.py\n",
"* \u001b[33me3153a5\u001b[m Commit con los archivos 4 y 5\n",
"* \u001b[33m0b09cfa\u001b[m Añadido .gitignore\n",
"* \u001b[33m04ebd1f\u001b[m Commit con los archivos 1 y 2\n",
"* \u001b[33mc4930d7\u001b[m Tercer commit, hola.py\n",
"* \u001b[33m6e99e73\u001b[m Segundo commit, hola.py\n",
"* \u001b[33m1c95e4f\u001b[m Primer commit, hola.py\n"
          ]
        }
      ],
      "source": [
      "!cd notebook_git && git log --graph --oneline --decorate --all"
      ]
    },
{
      "attachments": {},
      "cell_type": "markdown",
      "metadata": {},
      "source": [
      "OK, estamos em uma ramificação criada a partir da ramificação principal com todo o seu histórico de registros, fazemos três novos commits"
      ]
    },
{
      "cell_type": "code",
      "execution_count": 165,
      "metadata": {},
      "outputs": [
      {
          "name": "stdout",
          "output_type": "stream",
          "text": [
          "rm 'file1'\n",
"[branch_squash 767b632] Eliminado file1\n",
" 1 file changed, 0 insertions(+), 0 deletions(-)\n",
" delete mode 100644 file1\n"
          ]
        }
      ],
      "source": [
      "!cd notebook_git && git rm file1 && git commit -am \"Eliminado file1\""
      ]
    },
{
      "cell_type": "code",
      "execution_count": 166,
      "metadata": {},
      "outputs": [
      {
          "name": "stdout",
          "output_type": "stream",
          "text": [
          "rm 'file2'\n",
"[branch_squash a47f771] Eliminado file2\n",
" 1 file changed, 0 insertions(+), 0 deletions(-)\n",
" delete mode 100644 file2\n"
          ]
        }
      ],
      "source": [
      "!cd notebook_git && git rm file2 && git commit -am \"Eliminado file2\""
      ]
    },
{
      "cell_type": "code",
      "execution_count": 167,
      "metadata": {},
      "outputs": [
      {
          "name": "stdout",
          "output_type": "stream",
          "text": [
          "rm 'file3'\n",
"[branch_squash 85f8c9f] Eliminado file3\n",
" 1 file changed, 0 insertions(+), 0 deletions(-)\n",
" delete mode 100644 file3\n"
          ]
        }
      ],
      "source": [
      "!cd notebook_git && git rm file3 && git commit -am \"Eliminado file3\""
      ]
    },
{
      "cell_type": "markdown",
      "metadata": {},
      "source": [
      "Criamos um novo registro para ver que nessa nova ramificação foram criados"
      ]
    },
{
      "cell_type": "code",
      "execution_count": 168,
      "metadata": {},
      "outputs": [
      {
          "name": "stdout",
          "output_type": "stream",
          "text": [
          "* \u001b[33m85f8c9f\u001b[m\u001b[33m (\u001b[m\u001b[1;36mHEAD -> \u001b[m\u001b[1;32mbranch_squash\u001b[m\u001b[33m)\u001b[m Eliminado file3\n",
"* \u001b[33ma47f771\u001b[m Eliminado file2\n",
"* \u001b[33m767b632\u001b[m Eliminado file1\n",
"*   \u001b[33m274529c\u001b[m\u001b[33m (\u001b[m\u001b[1;32mmain\u001b[m\u001b[33m)\u001b[m Merge branch 'branch_no_fast_forward' into main\n",
"\u001b[32m|\u001b[m\u001b[33m\\\u001b[m  \n",
"\u001b[32m|\u001b[m * \u001b[33m8df3429\u001b[m\u001b[33m (\u001b[m\u001b[1;32mbranch_no_fast_forward\u001b[m\u001b[33m)\u001b[m file2\n",
"\u001b[32m|\u001b[m * \u001b[33me4e23c9\u001b[m file1\n",
"* \u001b[33m|\u001b[m \u001b[33m8bdf4d8\u001b[m file3\n",
"\u001b[33m|\u001b[m\u001b[33m/\u001b[m  \n",
"* \u001b[33m94149fc\u001b[m\u001b[33m (\u001b[m\u001b[1;32mbranch_fast_forward\u001b[m\u001b[33m)\u001b[m Eliminado hola.py\n",
"* \u001b[33m4484e70\u001b[m Eliminado archivo4.py\n",
"* \u001b[33m564ccfb\u001b[m\u001b[33m (\u001b[m\u001b[1;32mnew_branch2\u001b[m\u001b[33m)\u001b[m Commit con el archivo 8\n",
"* \u001b[33m5168f78\u001b[m Eliminado archivo7.py\n",
"* \u001b[33m4bb9d75\u001b[m\u001b[33m (\u001b[m\u001b[1;32mnew_branch\u001b[m\u001b[33m)\u001b[m Commit con el archivo 7\n",
"* \u001b[33mea615a9\u001b[m Eliminado archivo5.py\n",
"* \u001b[33me3153a5\u001b[m Commit con los archivos 4 y 5\n",
"* \u001b[33m0b09cfa\u001b[m Añadido .gitignore\n",
"* \u001b[33m04ebd1f\u001b[m Commit con los archivos 1 y 2\n",
"* \u001b[33mc4930d7\u001b[m Tercer commit, hola.py\n",
"* \u001b[33m6e99e73\u001b[m Segundo commit, hola.py\n",
"* \u001b[33m1c95e4f\u001b[m Primer commit, hola.py\n"
          ]
        }
      ],
      "source": [
      "!cd notebook_git && git log --graph --oneline --decorate"
      ]
    },
{
      "attachments": {},
      "cell_type": "markdown",
      "metadata": {},
      "source": [
      "Como podemos ver, os três últimos commits são os que criamos e podemos verificar se esses commits não estão na ramificação principal (para isso, especifico fazer isso na ramificação `main`)."
      ]
    },
{
      "cell_type": "code",
      "execution_count": 169,
      "metadata": {},
      "outputs": [
      {
          "name": "stdout",
          "output_type": "stream",
          "text": [
          "*   \u001b[33m274529c\u001b[m\u001b[33m (\u001b[m\u001b[1;32mmain\u001b[m\u001b[33m)\u001b[m Merge branch 'branch_no_fast_forward' into main\n",
"\u001b[31m|\u001b[m\u001b[32m\\\u001b[m  \n",
"\u001b[31m|\u001b[m * \u001b[33m8df3429\u001b[m\u001b[33m (\u001b[m\u001b[1;32mbranch_no_fast_forward\u001b[m\u001b[33m)\u001b[m file2\n",
"\u001b[31m|\u001b[m * \u001b[33me4e23c9\u001b[m file1\n",
"* \u001b[32m|\u001b[m \u001b[33m8bdf4d8\u001b[m file3\n",
"\u001b[32m|\u001b[m\u001b[32m/\u001b[m  \n",
"* \u001b[33m94149fc\u001b[m\u001b[33m (\u001b[m\u001b[1;32mbranch_fast_forward\u001b[m\u001b[33m)\u001b[m Eliminado hola.py\n",
"* \u001b[33m4484e70\u001b[m Eliminado archivo4.py\n",
"* \u001b[33m564ccfb\u001b[m\u001b[33m (\u001b[m\u001b[1;32mnew_branch2\u001b[m\u001b[33m)\u001b[m Commit con el archivo 8\n",
"* \u001b[33m5168f78\u001b[m Eliminado archivo7.py\n",
"* \u001b[33m4bb9d75\u001b[m\u001b[33m (\u001b[m\u001b[1;32mnew_branch\u001b[m\u001b[33m)\u001b[m Commit con el archivo 7\n",
"* \u001b[33mea615a9\u001b[m Eliminado archivo5.py\n",
"* \u001b[33me3153a5\u001b[m Commit con los archivos 4 y 5\n",
"* \u001b[33m0b09cfa\u001b[m Añadido .gitignore\n",
"* \u001b[33m04ebd1f\u001b[m Commit con los archivos 1 y 2\n",
"* \u001b[33mc4930d7\u001b[m Tercer commit, hola.py\n",
"* \u001b[33m6e99e73\u001b[m Segundo commit, hola.py\n",
"* \u001b[33m1c95e4f\u001b[m Primer commit, hola.py\n"
          ]
        }
      ],
      "source": [
      "!cd notebook_git && git log main --graph --oneline --decorate"
      ]
    },
{
      "cell_type": "markdown",
      "metadata": {},
      "source": [
      "Agora vamos para o ramo `main` para fazer a mesclagem."
      ]
    },
{
      "cell_type": "code",
      "execution_count": 170,
      "metadata": {},
      "outputs": [
      {
          "name": "stdout",
          "output_type": "stream",
          "text": [
          "Cambiado a rama 'main'\n"
          ]
        }
      ],
      "source": [
      "!cd notebook_git && git switch main"
      ]
    },
{
      "attachments": {},
      "cell_type": "markdown",
      "metadata": {},
      "source": [
      "Fazemos a fusão de abóbora"
      ]
    },
{
      "cell_type": "code",
      "execution_count": 171,
      "metadata": {},
      "outputs": [
      {
          "name": "stdout",
          "output_type": "stream",
          "text": [
          "Actualizando 274529c..85f8c9f\n",
"Fast-forward\n",
"Commit de aplastamiento -- no actualizando HEAD\n",
" file1 | 0\n",
" file2 | 0\n",
" file3 | 0\n",
" 3 files changed, 0 insertions(+), 0 deletions(-)\n",
" delete mode 100644 file1\n",
" delete mode 100644 file2\n",
" delete mode 100644 file3\n"
          ]
        }
      ],
      "source": [
      "!cd notebook_git && git merge branch_squash --squash"
      ]
    },
{
      "cell_type": "markdown",
      "metadata": {},
      "source": [
      "A mesclagem foi feita, vamos ver o que aconteceu com o registro na ramificação `main`."
      ]
    },
{
      "cell_type": "code",
      "execution_count": 172,
      "metadata": {},
      "outputs": [
      {
          "name": "stdout",
          "output_type": "stream",
          "text": [
          "*   \u001b[33m274529c\u001b[m\u001b[33m (\u001b[m\u001b[1;36mHEAD -> \u001b[m\u001b[1;32mmain\u001b[m\u001b[33m)\u001b[m Merge branch 'branch_no_fast_forward' into main\n",
"\u001b[31m|\u001b[m\u001b[32m\\\u001b[m  \n",
"\u001b[31m|\u001b[m * \u001b[33m8df3429\u001b[m\u001b[33m (\u001b[m\u001b[1;32mbranch_no_fast_forward\u001b[m\u001b[33m)\u001b[m file2\n",
"\u001b[31m|\u001b[m * \u001b[33me4e23c9\u001b[m file1\n",
"* \u001b[32m|\u001b[m \u001b[33m8bdf4d8\u001b[m file3\n",
"\u001b[32m|\u001b[m\u001b[32m/\u001b[m  \n",
"* \u001b[33m94149fc\u001b[m\u001b[33m (\u001b[m\u001b[1;32mbranch_fast_forward\u001b[m\u001b[33m)\u001b[m Eliminado hola.py\n",
"* \u001b[33m4484e70\u001b[m Eliminado archivo4.py\n",
"* \u001b[33m564ccfb\u001b[m\u001b[33m (\u001b[m\u001b[1;32mnew_branch2\u001b[m\u001b[33m)\u001b[m Commit con el archivo 8\n",
"* \u001b[33m5168f78\u001b[m Eliminado archivo7.py\n",
"* \u001b[33m4bb9d75\u001b[m\u001b[33m (\u001b[m\u001b[1;32mnew_branch\u001b[m\u001b[33m)\u001b[m Commit con el archivo 7\n",
"* \u001b[33mea615a9\u001b[m Eliminado archivo5.py\n",
"* \u001b[33me3153a5\u001b[m Commit con los archivos 4 y 5\n",
"* \u001b[33m0b09cfa\u001b[m Añadido .gitignore\n",
"* \u001b[33m04ebd1f\u001b[m Commit con los archivos 1 y 2\n",
"* \u001b[33mc4930d7\u001b[m Tercer commit, hola.py\n",
"* \u001b[33m6e99e73\u001b[m Segundo commit, hola.py\n",
"* \u001b[33m1c95e4f\u001b[m Primer commit, hola.py\n"
          ]
        }
      ],
      "source": [
      "!cd notebook_git && git log --graph --oneline --decorate"
      ]
    },
{
      "attachments": {},
      "cell_type": "markdown",
      "metadata": {},
      "source": [
      "As alterações feitas na ramificação não aparecem, vamos fazer um `git status`."
      ]
    },
{
      "cell_type": "code",
      "execution_count": 173,
      "metadata": {},
      "outputs": [
      {
          "name": "stdout",
          "output_type": "stream",
          "text": [
          "En la rama main\n",
"Cambios a ser confirmados:\n",
"  (usa \"git restore --staged <archivo>...\" para sacar del área de stage)\n",
"\t\u001b[32mborrados:        file1\u001b[m\n",
"\t\u001b[32mborrados:        file2\u001b[m\n",
"\t\u001b[32mborrados:        file3\u001b[m\n",
"\n"
          ]
        }
      ],
      "source": [
      "!cd notebook_git && git status"
      ]
    },
{
      "attachments": {},
      "cell_type": "markdown",
      "metadata": {},
      "source": [
      "Vemos que temos que fazer o commit com a mesclagem. Isso se deve ao fato de o git não saber qual mensagem colocar nele e deixar que nós o façamos, então nós o fazemos."
      ]
    },
{
      "cell_type": "code",
      "execution_count": 174,
      "metadata": {},
      "outputs": [
      {
          "name": "stdout",
          "output_type": "stream",
          "text": [
          "[main 52acb97] Merge squash de los commits de la rama branch_squash\n",
" 3 files changed, 0 insertions(+), 0 deletions(-)\n",
" delete mode 100644 file1\n",
" delete mode 100644 file2\n",
" delete mode 100644 file3\n"
          ]
        }
      ],
      "source": [
      "!cd notebook_git && git commit -m \"Merge squash de los commits de la rama branch_squash\""
      ]
    },
{
      "attachments": {},
      "cell_type": "markdown",
      "metadata": {},
      "source": [
      "Refazemos um `git log`."
      ]
    },
{
      "cell_type": "code",
      "execution_count": 175,
      "metadata": {},
      "outputs": [
      {
          "name": "stdout",
          "output_type": "stream",
          "text": [
          "* \u001b[33m52acb97\u001b[m\u001b[33m (\u001b[m\u001b[1;36mHEAD -> \u001b[m\u001b[1;32mmain\u001b[m\u001b[33m)\u001b[m Merge squash de los commits de la rama branch_squash\n",
"*   \u001b[33m274529c\u001b[m Merge branch 'branch_no_fast_forward' into main\n",
"\u001b[32m|\u001b[m\u001b[33m\\\u001b[m  \n",
"\u001b[32m|\u001b[m * \u001b[33m8df3429\u001b[m\u001b[33m (\u001b[m\u001b[1;32mbranch_no_fast_forward\u001b[m\u001b[33m)\u001b[m file2\n",
"\u001b[32m|\u001b[m * \u001b[33me4e23c9\u001b[m file1\n",
"* \u001b[33m|\u001b[m \u001b[33m8bdf4d8\u001b[m file3\n",
"\u001b[33m|\u001b[m\u001b[33m/\u001b[m  \n",
"* \u001b[33m94149fc\u001b[m\u001b[33m (\u001b[m\u001b[1;32mbranch_fast_forward\u001b[m\u001b[33m)\u001b[m Eliminado hola.py\n",
"* \u001b[33m4484e70\u001b[m Eliminado archivo4.py\n",
"* \u001b[33m564ccfb\u001b[m\u001b[33m (\u001b[m\u001b[1;32mnew_branch2\u001b[m\u001b[33m)\u001b[m Commit con el archivo 8\n",
"* \u001b[33m5168f78\u001b[m Eliminado archivo7.py\n",
"* \u001b[33m4bb9d75\u001b[m\u001b[33m (\u001b[m\u001b[1;32mnew_branch\u001b[m\u001b[33m)\u001b[m Commit con el archivo 7\n",
"* \u001b[33mea615a9\u001b[m Eliminado archivo5.py\n",
"* \u001b[33me3153a5\u001b[m Commit con los archivos 4 y 5\n",
"* \u001b[33m0b09cfa\u001b[m Añadido .gitignore\n",
"* \u001b[33m04ebd1f\u001b[m Commit con los archivos 1 y 2\n",
"* \u001b[33mc4930d7\u001b[m Tercer commit, hola.py\n",
"* \u001b[33m6e99e73\u001b[m Segundo commit, hola.py\n",
"* \u001b[33m1c95e4f\u001b[m Primer commit, hola.py\n"
          ]
        }
      ],
      "source": [
      "!cd notebook_git && git log --graph --oneline --decorate"
      ]
    },
{
      "attachments": {},
      "cell_type": "markdown",
      "metadata": {},
      "source": [
      "### Conflitos de fusão"
      ]
    },
{
      "attachments": {},
      "cell_type": "markdown",
      "metadata": {},
      "source": [
      "Ao mesclar ramificações, pode acontecer de o mesmo arquivo ter sido modificado em várias ramificações. Isso pode ser normal em projetos em que várias pessoas estão desenvolvendo, portanto, vamos ver como corrigir isso."
      ]
    },
{
      "attachments": {},
      "cell_type": "markdown",
      "metadata": {},
      "source": [
      "#### Criamos um conflito"
      ]
    },
{
      "attachments": {},
      "cell_type": "markdown",
      "metadata": {},
      "source": [
      "Verificamos se estamos no ramo `main`."
      ]
    },
{
      "cell_type": "code",
      "execution_count": 176,
      "metadata": {},
      "outputs": [
      {
          "name": "stdout",
          "output_type": "stream",
          "text": [
          "main\n"
          ]
        }
      ],
      "source": [
      "!cd notebook_git && git branch --show-current"
      ]
    },
{
      "attachments": {},
      "cell_type": "markdown",
      "metadata": {},
      "source": [
      "Criamos um novo ramo a partir deste"
      ]
    },
{
      "cell_type": "code",
      "execution_count": 177,
      "metadata": {},
      "outputs": [],
      "source": [
      "!cd notebook_git && git branch rama_con_conflicto"
      ]
    },
{
      "attachments": {},
      "cell_type": "markdown",
      "metadata": {},
      "source": [
      "Adicionamos uma linha ao arquivo `file1.py`, lembrando que estamos no ramo `main`."
      ]
    },
{
      "cell_type": "code",
      "execution_count": 178,
      "metadata": {},
      "outputs": [],
      "source": [
      "!cd notebook_git && echo \"print('rama main')\" >> archivo1.py"
      ]
    },
{
      "cell_type": "code",
      "execution_count": 179,
      "metadata": {},
      "outputs": [
      {
          "name": "stdout",
          "output_type": "stream",
          "text": [
          "print('Este es el archivo 1')\n",
"print('rama main')\n"
          ]
        }
      ],
      "source": [
      "!cd notebook_git && cat archivo1.py"
      ]
    },
{
      "attachments": {},
      "cell_type": "markdown",
      "metadata": {},
      "source": [
      "file1.py` é modificado, fazemos um commit"
      ]
    },
{
      "cell_type": "code",
      "execution_count": 180,
      "metadata": {},
      "outputs": [
      {
          "name": "stdout",
          "output_type": "stream",
          "text": [
          "[main 53f909b] archivo1.py en rama main\n",
" 1 file changed, 1 insertion(+)\n"
          ]
        }
      ],
      "source": [
      "!cd notebook_git && git add archivo1.py && git commit -m \"archivo1.py en rama main\""
      ]
    },
{
      "attachments": {},
      "cell_type": "markdown",
      "metadata": {},
      "source": [
      "Agora, vamos para a ramificação `branch_with_conflict` e adicionamos uma nova linha ao `file1.py`."
      ]
    },
{
      "cell_type": "code",
      "execution_count": 181,
      "metadata": {},
      "outputs": [
      {
          "name": "stdout",
          "output_type": "stream",
          "text": [
          "Cambiado a rama 'rama_con_conflicto'\n"
          ]
        }
      ],
      "source": [
      "!cd notebook_git && git switch rama_con_conflicto"
      ]
    },
{
      "cell_type": "code",
      "execution_count": 182,
      "metadata": {},
      "outputs": [
      {
          "name": "stdout",
          "output_type": "stream",
          "text": [
          "rama_con_conflicto\n"
          ]
        }
      ],
      "source": [
      "!cd notebook_git && git branch --show-current"
      ]
    },
{
      "cell_type": "code",
      "execution_count": 183,
      "metadata": {},
      "outputs": [],
      "source": [
      "!cd notebook_git && echo \"print('rama rama_con_conflicto')\" >> archivo1.py"
      ]
    },
{
      "cell_type": "code",
      "execution_count": 184,
      "metadata": {},
      "outputs": [
      {
          "name": "stdout",
          "output_type": "stream",
          "text": [
          "print('Este es el archivo 1')\n",
"print('rama rama_con_conflicto')\n"
          ]
        }
      ],
      "source": [
      "!cd notebook_git && cat archivo1.py"
      ]
    },
{
      "attachments": {},
      "cell_type": "markdown",
      "metadata": {},
      "source": [
      "Como podemos ver, o arquivo `file1.py` não é o mesmo na ramificação `main` e na ramificação `branch_with_conflict`. Confirmamos a modificação de `file1.py` no ramo `branch_with_conflict`."
      ]
    },
{
      "cell_type": "code",
      "execution_count": 185,
      "metadata": {},
      "outputs": [
      {
          "name": "stdout",
          "output_type": "stream",
          "text": [
          "[rama_con_conflicto 32851c3] archivo1.py en rama rama_con_conflicto\n",
" 1 file changed, 1 insertion(+)\n"
          ]
        }
      ],
      "source": [
      "!cd notebook_git && git add archivo1.py && git commit -m \"archivo1.py en rama rama_con_conflicto\""
      ]
    },
{
      "attachments": {},
      "cell_type": "markdown",
      "metadata": {},
      "source": [
      "Voltar para a ramificação `main"
      ]
    },
{
      "cell_type": "code",
      "execution_count": 186,
      "metadata": {},
      "outputs": [
      {
          "name": "stdout",
          "output_type": "stream",
          "text": [
          "Cambiado a rama 'main'\n"
          ]
        }
      ],
      "source": [
      "!cd notebook_git && git switch main"
      ]
    },
{
      "cell_type": "code",
      "execution_count": 187,
      "metadata": {},
      "outputs": [
      {
          "name": "stdout",
          "output_type": "stream",
          "text": [
          "main\n"
          ]
        }
      ],
      "source": [
      "!cd notebook_git && git branch --show-current"
      ]
    },
{
      "attachments": {},
      "cell_type": "markdown",
      "metadata": {},
      "source": [
      "Nós mesclamos a ramificação `branch_with_conflict`."
      ]
    },
{
      "cell_type": "code",
      "execution_count": 188,
      "metadata": {},
      "outputs": [
      {
          "name": "stdout",
          "output_type": "stream",
          "text": [
          "Auto-fusionando archivo1.py\n",
"CONFLICTO (contenido): Conflicto de fusión en archivo1.py\n",
"Fusión automática falló; arregle los conflictos y luego realice un commit con el resultado.\n"
          ]
        }
      ],
      "source": [
      "!cd notebook_git && git merge rama_con_conflicto"
      ]
    },
{
      "attachments": {},
      "cell_type": "markdown",
      "metadata": {},
      "source": [
      "Ao fazer a mesclagem, já somos avisados de que há um conflito em `file1.py` e que a mesclagem não pôde ser feita. Fazemos um `git status`."
      ]
    },
{
      "cell_type": "code",
      "execution_count": 189,
      "metadata": {},
      "outputs": [
      {
          "name": "stdout",
          "output_type": "stream",
          "text": [
          "En la rama main\n",
"Tienes rutas no fusionadas.\n",
"  (arregla los conflictos y ejecuta \"git commit\"\n",
"  (usa \"git merge --abort\" para abortar la fusion)\n",
"\n",
"Rutas no fusionadas:\n",
"  (usa \"git add <archivo>...\" para marcar una resolución)\n",
"\t\u001b[31mmodificados por ambos:  archivo1.py\u001b[m\n",
"\n",
"sin cambios agregados al commit (usa \"git add\" y/o \"git commit -a\")\n"
          ]
        }
      ],
      "source": [
      "!cd notebook_git && git status"
      ]
    },
{
      "attachments": {},
      "cell_type": "markdown",
      "metadata": {},
      "source": [
      "Ele nos diz a mesma coisa, mas nos dá mais informações: ele nos diz que podemos abortar a mesclagem com `git merge --abort`. Mas, em vez disso, vamos corrigir isso"
      ]
    },
{
      "attachments": {},
      "cell_type": "markdown",
      "metadata": {},
      "source": [
      "#### Resolução de um conflito"
      ]
    },
{
      "attachments": {},
      "cell_type": "markdown",
      "metadata": {},
      "source": [
      "No nosso caso, sabemos onde está o problema, mas, caso não saibamos, podemos encontrar o problema usando o `git diff`."
      ]
    },
{
      "cell_type": "code",
      "execution_count": 190,
      "metadata": {},
      "outputs": [
      {
          "name": "stdout",
          "output_type": "stream",
          "text": [
          "\u001b[1mdiff --cc archivo1.py\u001b[m\n",
"\u001b[1mindex 8b4bf58,b5c003c..0000000\u001b[m\n",
"\u001b[1m--- a/archivo1.py\u001b[m\n",
"\u001b[1m+++ b/archivo1.py\u001b[m\n",
"\u001b[36m@@@ -1,2 -1,2 +1,6 @@@\u001b[m\n",
"  print('Este es el archivo 1')\u001b[m\n",
"\u001b[32m++<<<<<<< HEAD\u001b[m\n",
"\u001b[32m +print('rama main')\u001b[m\n",
"\u001b[32m++=======\u001b[m\n",
"\u001b[32m+ print('rama rama_con_conflicto')\u001b[m\n",
"\u001b[32m++>>>>>>> rama_con_conflicto\u001b[m\n"
          ]
        }
      ],
      "source": [
      "!cd notebook_git && git diff archivo1.py"
      ]
    },
{
      "attachments": {},
      "cell_type": "markdown",
      "metadata": {},
      "source": [
      "O git diff está nos dizendo que o problema está na última linha. A versão do arquivo da ramificação `HEAD` (onde estamos atualmente `main`) tem `print('branch main')` na última linha, enquanto a versão da ramificação `branch_with_conflict` tem `print('branch_with_conflict')` na última linha. Portanto, você deve abrir o arquivo com qualquer editor e corrigir isso."
      ]
    },
{
      "attachments": {},
      "cell_type": "markdown",
      "metadata": {},
      "source": [
      "Depois de editar o arquivo com meu editor de código, removi todas as linhas extras e ele ficou assim"
      ]
    },
{
      "cell_type": "code",
      "execution_count": 192,
      "metadata": {},
      "outputs": [
      {
          "name": "stdout",
          "output_type": "stream",
          "text": [
          "print('Este es el archivo 1')\n",
"print('rama main')"
          ]
        }
      ],
      "source": [
      "!cd notebook_git && cat archivo1.py"
      ]
    },
{
      "attachments": {},
      "cell_type": "markdown",
      "metadata": {},
      "source": [
      "Agora, fazemos um `git status` para ver o que precisamos fazer."
      ]
    },
{
      "cell_type": "code",
      "execution_count": 193,
      "metadata": {},
      "outputs": [
      {
          "name": "stdout",
          "output_type": "stream",
          "text": [
          "En la rama main\n",
"Tienes rutas no fusionadas.\n",
"  (arregla los conflictos y ejecuta \"git commit\"\n",
"  (usa \"git merge --abort\" para abortar la fusion)\n",
"\n",
"Rutas no fusionadas:\n",
"  (usa \"git add <archivo>...\" para marcar una resolución)\n",
"\t\u001b[31mmodificados por ambos:  archivo1.py\u001b[m\n",
"\n",
"sin cambios agregados al commit (usa \"git add\" y/o \"git commit -a\")\n"
          ]
        }
      ],
      "source": [
      "!cd notebook_git && git status"
      ]
    },
{
      "attachments": {},
      "cell_type": "markdown",
      "metadata": {},
      "source": [
      "Ele nos informa que temos o arquivo `file1.py` com modificações, então o adicionamos à área `staged` e o confirmamos."
      ]
    },
{
      "cell_type": "code",
      "execution_count": 194,
      "metadata": {},
      "outputs": [
      {
          "name": "stdout",
          "output_type": "stream",
          "text": [
          "[main 679bb49] archivo1.py con el merge resuelto\n"
          ]
        }
      ],
      "source": [
      "!cd notebook_git && git add archivo1.py && git commit -m \"archivo1.py con el merge resuelto\""
      ]
    },
{
      "attachments": {},
      "cell_type": "markdown",
      "metadata": {},
      "source": [
      "Fazemos um `git status` novamente para ver se o problema foi resolvido."
      ]
    },
{
      "cell_type": "code",
      "execution_count": 195,
      "metadata": {},
      "outputs": [
      {
          "name": "stdout",
          "output_type": "stream",
          "text": [
          "En la rama main\n",
"nada para hacer commit, el árbol de trabajo está limpio\n"
          ]
        }
      ],
      "source": [
      "!cd notebook_git && git status"
      ]
    },
{
      "attachments": {},
      "cell_type": "markdown",
      "metadata": {},
      "source": [
      "Parece que o problema foi resolvido, fizemos um `git log` para verificar."
      ]
    },
{
      "cell_type": "code",
      "execution_count": 196,
      "metadata": {},
      "outputs": [
      {
          "name": "stdout",
          "output_type": "stream",
          "text": [
          "*   \u001b[33m679bb49\u001b[m\u001b[33m (\u001b[m\u001b[1;36mHEAD -> \u001b[m\u001b[1;32mmain\u001b[m\u001b[33m)\u001b[m archivo1.py con el merge resuelto\n",
"\u001b[31m|\u001b[m\u001b[32m\\\u001b[m  \n",
"\u001b[31m|\u001b[m * \u001b[33m32851c3\u001b[m\u001b[33m (\u001b[m\u001b[1;32mrama_con_conflicto\u001b[m\u001b[33m)\u001b[m archivo1.py en rama rama_con_conflicto\n",
"* \u001b[32m|\u001b[m \u001b[33m53f909b\u001b[m archivo1.py en rama main\n",
"\u001b[32m|\u001b[m\u001b[32m/\u001b[m  \n",
"* \u001b[33m52acb97\u001b[m Merge squash de los commits de la rama branch_squash\n",
"*   \u001b[33m274529c\u001b[m Merge branch 'branch_no_fast_forward' into main\n",
"\u001b[33m|\u001b[m\u001b[34m\\\u001b[m  \n",
"\u001b[33m|\u001b[m * \u001b[33m8df3429\u001b[m\u001b[33m (\u001b[m\u001b[1;32mbranch_no_fast_forward\u001b[m\u001b[33m)\u001b[m file2\n",
"\u001b[33m|\u001b[m * \u001b[33me4e23c9\u001b[m file1\n",
"* \u001b[34m|\u001b[m \u001b[33m8bdf4d8\u001b[m file3\n",
"\u001b[34m|\u001b[m\u001b[34m/\u001b[m  \n",
"* \u001b[33m94149fc\u001b[m\u001b[33m (\u001b[m\u001b[1;32mbranch_fast_forward\u001b[m\u001b[33m)\u001b[m Eliminado hola.py\n",
"* \u001b[33m4484e70\u001b[m Eliminado archivo4.py\n",
"* \u001b[33m564ccfb\u001b[m\u001b[33m (\u001b[m\u001b[1;32mnew_branch2\u001b[m\u001b[33m)\u001b[m Commit con el archivo 8\n",
"* \u001b[33m5168f78\u001b[m Eliminado archivo7.py\n",
"* \u001b[33m4bb9d75\u001b[m\u001b[33m (\u001b[m\u001b[1;32mnew_branch\u001b[m\u001b[33m)\u001b[m Commit con el archivo 7\n",
"* \u001b[33mea615a9\u001b[m Eliminado archivo5.py\n",
"* \u001b[33me3153a5\u001b[m Commit con los archivos 4 y 5\n",
"* \u001b[33m0b09cfa\u001b[m Añadido .gitignore\n",
"* \u001b[33m04ebd1f\u001b[m Commit con los archivos 1 y 2\n",
"* \u001b[33mc4930d7\u001b[m Tercer commit, hola.py\n",
"* \u001b[33m6e99e73\u001b[m Segundo commit, hola.py\n",
"* \u001b[33m1c95e4f\u001b[m Primer commit, hola.py\n"
          ]
        }
      ],
      "source": [
      "!cd notebook_git && git log --graph --oneline --decorate"
      ]
    },
{
      "attachments": {},
      "cell_type": "markdown",
      "metadata": {},
      "source": [
      "### Remover ramificações"
      ]
    },
{
      "attachments": {},
      "cell_type": "markdown",
      "metadata": {},
      "source": [
      "A ideia de uma ramificação é abri-la para desenvolver uma nova funcionalidade ou recurso de uma forma que não afete o restante da equipe de desenvolvimento. Assim, quando isso é alcançado, ela é mesclada com a ramificação principal. Portanto, após a mesclagem, não faz mais sentido manter a ramificação, por isso ela precisa ser removida, mas isso será feito de uma maneira diferente se a ramificação tiver sido mesclada ou não com a ramificação principal."
      ]
    },
{
      "attachments": {},
      "cell_type": "markdown",
      "metadata": {},
      "source": [
      "#### Exclua as ramificações que foram mescladas (`git branch -d <branch>`)"
      ]
    },
{
      "attachments": {},
      "cell_type": "markdown",
      "metadata": {},
      "source": [
      "Para excluir uma ramificação que já tenha sido mesclada à ramificação principal, basta executar `git branch -d <branch>` ou `git branch --delete <branch>`. Vamos excluir o último branch que criamos e mesclamos"
      ]
    },
{
      "cell_type": "code",
      "execution_count": 197,
      "metadata": {},
      "outputs": [
      {
          "name": "stdout",
          "output_type": "stream",
          "text": [
          "Eliminada la rama rama_con_conflicto (era 32851c3).\n"
          ]
        }
      ],
      "source": [
      "!cd notebook_git && git branch -d rama_con_conflicto"
      ]
    },
{
      "attachments": {},
      "cell_type": "markdown",
      "metadata": {},
      "source": [
      "Se agora listarmos todas as ramificações, poderemos ver que não teremos mais `branch_with_conflict`."
      ]
    },
{
      "cell_type": "code",
      "execution_count": 198,
      "metadata": {},
      "outputs": [
      {
          "name": "stdout",
          "output_type": "stream",
          "text": [
          "  branch_fast_forward\u001b[m\n",
"  branch_no_fast_forward\u001b[m\n",
"  branch_squash\u001b[m\n",
"* \u001b[32mmain\u001b[m\n",
"  new_branch\u001b[m\n",
"  new_branch2\u001b[m\n"
          ]
        }
      ],
      "source": [
      "!cd notebook_git && git branch"
      ]
    },
{
      "attachments": {},
      "cell_type": "markdown",
      "metadata": {},
      "source": [
      "#### Remova as ramificações que não foram mescladas com a ramificação principal (`git brnach -D <branch>`)"
      ]
    },
{
      "attachments": {},
      "cell_type": "markdown",
      "metadata": {},
      "source": [
      "Se tentarmos fazer o mesmo que antes com uma ramificação que nunca foi mesclada com outra ramificação, receberemos um erro."
      ]
    },
{
      "attachments": {},
      "cell_type": "markdown",
      "metadata": {},
      "source": [
      "Vamos criar uma nova ramificação, confirmá-la e não mesclá-la."
      ]
    },
{
      "cell_type": "code",
      "execution_count": 199,
      "metadata": {},
      "outputs": [],
      "source": [
      "!cd notebook_git && git branch branch_sin_fusion"
      ]
    },
{
      "cell_type": "code",
      "execution_count": 200,
      "metadata": {},
      "outputs": [
      {
          "name": "stdout",
          "output_type": "stream",
          "text": [
          "Cambiado a rama 'branch_sin_fusion'\n"
          ]
        }
      ],
      "source": [
      "!cd notebook_git && git switch branch_sin_fusion"
      ]
    },
{
      "cell_type": "code",
      "execution_count": 201,
      "metadata": {},
      "outputs": [
      {
          "name": "stdout",
          "output_type": "stream",
          "text": [
          "[branch_sin_fusion 9506b0a] file4\n",
" 1 file changed, 0 insertions(+), 0 deletions(-)\n",
" create mode 100644 file4\n"
          ]
        }
      ],
      "source": [
      "!cd notebook_git && touch file4 && git add file4 && git commit -m \"file4\""
      ]
    },
{
      "cell_type": "code",
      "execution_count": 202,
      "metadata": {},
      "outputs": [
      {
          "name": "stdout",
          "output_type": "stream",
          "text": [
          "Cambiado a rama 'main'\n"
          ]
        }
      ],
      "source": [
      "!cd notebook_git && git switch main"
      ]
    },
{
      "attachments": {},
      "cell_type": "markdown",
      "metadata": {},
      "source": [
      "Com tudo o que aprendemos até agora, podemos ver que o que fizemos foi criar uma nova ramificação, mudar para ela, criar um novo arquivo, confirmá-lo e voltar para a ramificação `main`. Agora vamos tentar excluir essa nova ramificação"
      ]
    },
{
      "cell_type": "code",
      "execution_count": 203,
      "metadata": {},
      "outputs": [
      {
          "name": "stdout",
          "output_type": "stream",
          "text": [
          "error: La rama 'branch_sin_fusion' no ha sido fusionada completamente.\n",
"Si estás seguro de querer borrarla, ejecuta 'git branch -D branch_sin_fusion'.\n"
          ]
        }
      ],
      "source": [
      "!cd notebook_git && git branch -d branch_sin_fusion"
      ]
    },
{
      "attachments": {},
      "cell_type": "markdown",
      "metadata": {},
      "source": [
      "Como podemos ver, ele nos diz que o `branch_sin_fusion` não foi mesclado, portanto, não foi removido e que, se quisermos removê-lo, temos que fazer `git branch -D branch_sin_fusion`, portanto, fazemos isso para removê-lo."
      ]
    },
{
      "cell_type": "code",
      "execution_count": 204,
      "metadata": {},
      "outputs": [
      {
          "name": "stdout",
          "output_type": "stream",
          "text": [
          "Eliminada la rama branch_sin_fusion (era 9506b0a).\n"
          ]
        }
      ],
      "source": [
      "!cd notebook_git && git branch -D branch_sin_fusion"
      ]
    },
{
      "attachments": {},
      "cell_type": "markdown",
      "metadata": {},
      "source": [
      "Agora ele foi removido"
      ]
    },
{
      "attachments": {},
      "cell_type": "markdown",
      "metadata": {},
      "source": [
      "## Trabalhar com repositórios remotos"
      ]
    },
{
      "attachments": {},
      "cell_type": "markdown",
      "metadata": {},
      "source": [
      "Quando desenvolvemos software, geralmente não o fazemos sozinhos, mas sim em equipes, portanto, não faz sentido ter um repositório git local, mas sim um repositório remoto com o qual todos trabalhamos e compartilhamos nosso progresso.\n",
"\n",
" > Observação: o objetivo desta postagem é explicar o git. Para a conexão com repositórios remotos, explicarei com o GitHub porque é o serviço de hospedagem de repositório git mais usado, mas não vou me aprofundar no GitHub."
      ]
    },
{
      "attachments": {},
      "cell_type": "markdown",
      "metadata": {},
      "source": [
      "### Clonar um repositório remoto (`git clone <repositório>`)"
      ]
    },
{
      "attachments": {},
      "cell_type": "markdown",
      "metadata": {},
      "source": [
      "Se começarmos a trabalhar em um repositório que já foi criado, a primeira coisa a fazer é cloná-lo. Para isso, devemos usar `git clone <repository>`, em que `<repository>` pode ser uma URL ou um endereço SSH. Como agora todo o tópico de modelos de linguagem grnades e ChatGPT está muito em voga, vamos clonar um repositório de código aberto criado pela comunidade, [Open-Assistant](https://github.com/LAION-AI/Open-Assistant), para isso faremos `git clone https://github.com/LAION-AI/Open-Assistant`."
      ]
    },
{
      "cell_type": "code",
      "execution_count": 11,
      "metadata": {},
      "outputs": [
      {
          "name": "stdout",
          "output_type": "stream",
          "text": [
          "Clonando en 'Open-Assistant'...\n",
"remote: Enumerating objects: 29769, done.\u001b[K\n",
"remote: Counting objects: 100% (673/673), done.\u001b[K\n",
"remote: Compressing objects: 100% (310/310), done.\u001b[K\n",
"remote: Total 29769 (delta 398), reused 577 (delta 354), pack-reused 29096\u001b[K\n",
"Recibiendo objetos: 100% (29769/29769), 33.61 MiB | 29.29 MiB/s, listo.\n",
"Resolviendo deltas: 100% (19967/19967), listo.\n"
          ]
        }
      ],
      "source": [
      "!git clone https://github.com/LAION-AI/Open-Assistant.git"
      ]
    },
{
      "attachments": {},
      "cell_type": "markdown",
      "metadata": {},
      "source": [
      "Isso cria a pasta `Open-Assistant` com todo o código do repositório, podemos entrar nela e ver todo o código"
      ]
    },
{
      "cell_type": "code",
      "execution_count": 13,
      "metadata": {},
      "outputs": [
      {
          "name": "stdout",
          "output_type": "stream",
          "text": [
          "ansible\t\t deploy\t\t      model\t      safety\n",
"assets\t\t discord-bots\t      notebooks       scripts\n",
"backend\t\t docker\t\t      oasst-data      setup.cfg\n",
"CODEOWNERS\t docker-compose.yaml  oasst-shared    text-frontend\n",
"CONTRIBUTING.md  docs\t\t      pyproject.toml  website\n",
"copilot\t\t inference\t      README.md\n",
"data\t\t LICENSE\t      redis.conf\n"
          ]
        }
      ],
      "source": [
      "!cd Open-Assistant && ls"
      ]
    },
{
      "attachments": {},
      "cell_type": "markdown",
      "metadata": {},
      "source": [
      "Excluo a pasta"
      ]
    },
{
      "cell_type": "code",
      "execution_count": 100,
      "metadata": {},
      "outputs": [],
      "source": [
      "!rm -r Open-Assistant"
      ]
    },
{
      "attachments": {},
      "cell_type": "markdown",
      "metadata": {},
      "source": [
      "### Vinculação de um repositório local a um repositório remoto"
      ]
    },
{
      "attachments": {},
      "cell_type": "markdown",
      "metadata": {},
      "source": [
      "Se for o contrário, se primeiro começarmos a desenvolver localmente e depois quisermos sincronizá-lo com um repositório remoto, teremos que fazer o seguinte\n",
"\n",
" * Primeiro, crie um repositório remoto vazio; no meu caso, criei o repositório `notebook_git` no GitHub, que será excluído posteriormente.\n",
" * Obter a URL do repositório ou o endereço SSH\n",
" * Sincronize-os usando `git remote add origin <URL>.\n",
"\n",
"O repositório vazio que criei no GitHub tem a seguinte aparência\n",
"\n",
"![notebook git repo](https://pub-fb664c455eca46a2ba762a065ac900f7.r2.dev/notebook_git_repo.webp)\n",
"\n",
"No meu caso, usarei o endereço SSH que é `git@github.com:maximofn/notebook_git.git`."
      ]
    },
{
      "cell_type": "code",
      "execution_count": 205,
      "metadata": {},
      "outputs": [],
      "source": [
      "!cd notebook_git && git remote add origin git@github.com:maximofn/notebook_git.git"
      ]
    },
{
      "attachments": {},
      "cell_type": "markdown",
      "metadata": {},
      "source": [
      "Eles já estão vinculados, mas para ter certeza, podemos usar o `git remote -v`."
      ]
    },
{
      "cell_type": "code",
      "execution_count": 206,
      "metadata": {},
      "outputs": [
      {
          "name": "stdout",
          "output_type": "stream",
          "text": [
          "origin\tgit@github.com:maximofn/notebook_git.git (fetch)\n",
"origin\tgit@github.com:maximofn/notebook_git.git (push)\n"
          ]
        }
      ],
      "source": [
      "!cd notebook_git && git remote -v"
      ]
    },
{
      "attachments": {},
      "cell_type": "markdown",
      "metadata": {},
      "source": [
      "### Fazer upload de alterações de um repositório local para um repositório remoto (`git push`)"
      ]
    },
{
      "attachments": {},
      "cell_type": "markdown",
      "metadata": {},
      "source": [
      "Como dissemos, eles estão vinculados, mas se eu acessar meu repositório no GitHub, ele ainda terá a seguinte aparência\n",
"\n",
"![notebook git repo](https://pub-fb664c455eca46a2ba762a065ac900f7.r2.dev/notebook_git_repo.webp)\n",
"\n",
"O repositório local e o remoto estão vinculados, mas agora precisamos fazer push de todas as alterações do repositório local para o repositório remoto, portanto, devemos usar `git push origin <local branch>:<remote branch>`, ou seja, como nosso branch principal é chamado de `main` e o branch principal no GitHub é chamado de `main`, devemos fazer `git push origin main:main`.\n",
"Se você se lembra, o padrão do git é chamar o branch principal de `master`, mas o padrão do GitHub é chamar o branch principal de `main`, portanto, se todos em seu repositório local chamarem seus branches de uma maneira, você terá que especificar qual branch localmente grava em qual branch remotamente."
      ]
    },
{
      "attachments": {},
      "cell_type": "markdown",
      "metadata": {},
      "source": [
      "Você pode configurar a conexão padrão entre as ramificações no git fazendo `git push --set-upstream origin main`. Isso estabelece uma relação entre o ramo local `main` e o ramo remoto `main`. Depois que essa relação for estabelecida, você só precisará usar `git push` para fazer upload das alterações feitas localmente no servidor remoto.\n",
"\n",
"Assim, estabelecemos a conexão entre as filiais"
      ]
    },
{
      "cell_type": "code",
      "execution_count": 207,
      "metadata": {},
      "outputs": [
      {
          "name": "stdout",
          "output_type": "stream",
          "text": [
          "Enumerando objetos: 51, listo.\n",
"Contando objetos: 100% (51/51), listo.\n",
"Compresión delta usando hasta 12 hilos\n",
"Comprimiendo objetos: 100% (38/38), listo.\n",
"Escribiendo objetos: 100% (51/51), 4.21 KiB | 2.11 MiB/s, listo.\n",
"Total 51 (delta 18), reusado 0 (delta 0)\n",
"remote: Resolving deltas: 100% (18/18), done.\u001b[K\n",
"To github.com:maximofn/notebook_git.git\n",
" * [new branch]      main -> main\n",
"Rama 'main' configurada para hacer seguimiento a la rama remota 'main' de 'origin'.\n"
          ]
        }
      ],
      "source": [
      "!cd notebook_git && git push --set-upstream origin main"
      ]
    },
{
      "attachments": {},
      "cell_type": "markdown",
      "metadata": {},
      "source": [
      "Agora podemos simplesmente \"enviar\" as alterações locais para o repositório remoto."
      ]
    },
{
      "cell_type": "code",
      "execution_count": 208,
      "metadata": {},
      "outputs": [
      {
          "name": "stdout",
          "output_type": "stream",
          "text": [
          "Everything up-to-date\n"
          ]
        }
      ],
      "source": [
      "!cd notebook_git && git push"
      ]
    },
{
      "attachments": {},
      "cell_type": "markdown",
      "metadata": {},
      "source": [
      "Se agora voltarmos ao nosso repositório do GitHub, ele terá a seguinte aparência\n",
"\n",
"![notebook git repo push](https://pub-fb664c455eca46a2ba762a065ac900f7.r2.dev/notebook_git_repo_push.webp)"
      ]
    },
{
      "attachments": {},
      "cell_type": "markdown",
      "metadata": {},
      "source": [
      "Se fizermos um `ls` em nosso repositório local, poderemos ver que os arquivos que temos no repositório remoto estão no repositório local, ou seja, sincronizamos o repositório local e o remoto."
      ]
    },
{
      "cell_type": "code",
      "execution_count": 209,
      "metadata": {},
      "outputs": [
      {
          "name": "stdout",
          "output_type": "stream",
          "text": [
          ".  ..  api_keys.py  archivo1.py  archivo2.py  archivo8.py  .git  .gitignore\n"
          ]
        }
      ],
      "source": [
      "!cd notebook_git && ls -a"
      ]
    },
{
      "attachments": {},
      "cell_type": "markdown",
      "metadata": {},
      "source": [
      "Os únicos que não estão no repositório remoto são o `api_keys.py`, que foi adicionado ao arquivo `.gitignore`, ou seja, aquele que dissemos ao git para não seguir. E `.git`, que é onde está a configuração do nosso repositório local e que não precisa ser carregada no repositório remoto, pois cada pessoa terá sua própria configuração do git e, portanto, não precisa ser sincronizada."
      ]
    },
{
      "attachments": {},
      "cell_type": "markdown",
      "metadata": {},
      "source": [
      "### Faça o download das alterações de um repositório remoto para um repositório local (`git pull`)"
      ]
    },
{
      "attachments": {},
      "cell_type": "markdown",
      "metadata": {},
      "source": [
      "Agora vamos fazer o inverso, vamos baixar as novas alterações que foram feitas no repositório remoto. Se olharmos para o repositório remoto, veremos que há um botão `Add to README`, então clicaremos nele para adicioná-lo.\n",
"\n",
"![notebook git repo push](https://pub-fb664c455eca46a2ba762a065ac900f7.r2.dev/notebook_git_repo_push.webp)"
      ]
    },
{
      "attachments": {},
      "cell_type": "markdown",
      "metadata": {},
      "source": [
      "Quando você clicar nele, um editor será aberto, deixe o que o GitHub colocou e salve as alterações clicando no botão `Commit changes...`.\n",
"\n",
"![noteboot git repo readme](https://pub-fb664c455eca46a2ba762a065ac900f7.r2.dev/notebook_git_repo_readme.webp)\n",
"\n",
"Será exibida uma janela solicitando uma mensagem de confirmação; deixe a mensagem padrão e clique em `Comit changes`.\n",
"\n",
"![notebook git git repo commit message](https://pub-fb664c455eca46a2ba762a065ac900f7.r2.dev/notebook_git_repo_commit_message.webp)\n",
"\n",
"Ao fazer isso, o repositório terá a seguinte aparência\n",
"\n",
"![notebook git repo pull](https://pub-fb664c455eca46a2ba762a065ac900f7.r2.dev/notebook_git_repo_pull.webp)\n",
"\n",
"Um novo arquivo chamado `README.MD` foi criado, mas se fizermos `ls` no repositório local, não o encontraremos."
      ]
    },
{
      "cell_type": "code",
      "execution_count": 10,
      "metadata": {},
      "outputs": [],
      "source": [
      "!cd notebook_git && ls | grep README"
      ]
    },
{
      "attachments": {},
      "cell_type": "markdown",
      "metadata": {},
      "source": [
      "Então, precisamos puxar as alterações do repositório remoto para o repositório local. Para isso, precisamos fazer `git pull origin <remote branch>` para informar ao git em qual branch remoto vamos puxar os dados, Mas, como antes, podemos estabelecer uma relação entre o branch remoto e o branch local como `git branch --set-upstream-to=origin/<local branch> <remote branch>`, mas como nosso branch local é chamado de `main` e o branch remoto é chamado de `main` pelo GitHub, devemos alterar o comando acima para `git branch --set-upstream-to=origin/main main`.\n",
"\n",
"Uma vez feito isso, para fazer o download das novas alterações do repositório remoto para o repositório local, basta usar o `git pull`."
      ]
    },
{
      "attachments": {},
      "cell_type": "markdown",
      "metadata": {},
      "source": [
      "Vamos configurar a relação entre as ramificações com `git branch --set-upstream-to=origin/main main`."
      ]
    },
{
      "cell_type": "code",
      "execution_count": 210,
      "metadata": {},
      "outputs": [
      {
          "name": "stdout",
          "output_type": "stream",
          "text": [
          "Rama 'main' configurada para hacer seguimiento a la rama remota 'main' de 'origin'.\n"
          ]
        }
      ],
      "source": [
      "!cd notebook_git && git branch --set-upstream-to=origin/main main"
      ]
    },
{
      "attachments": {},
      "cell_type": "markdown",
      "metadata": {},
      "source": [
      "Agora podemos transferir as alterações do repositório remoto para o repositório local com o `git pull`."
      ]
    },
{
      "cell_type": "code",
      "execution_count": 211,
      "metadata": {},
      "outputs": [
      {
          "name": "stdout",
          "output_type": "stream",
          "text": [
          "remote: Enumerating objects: 4, done.\u001b[K\n",
"remote: Counting objects: 100% (4/4), done.\u001b[K\n",
"remote: Compressing objects: 100% (2/2), done.\u001b[K\n",
"remote: Total 3 (delta 1), reused 0 (delta 0), pack-reused 0\u001b[K\n",
"Desempaquetando objetos: 100% (3/3), 646 bytes | 646.00 KiB/s, listo.\n",
"Desde github.com:maximofn/notebook_git\n",
"   679bb49..527e07a  main       -> origin/main\n",
"Actualizando 679bb49..527e07a\n",
"Fast-forward\n",
" README.md | 1 \u001b[32m+\u001b[m\n",
" 1 file changed, 1 insertion(+)\n",
" create mode 100644 README.md\n"
          ]
        }
      ],
      "source": [
      "!cd notebook_git && git pull"
      ]
    },
{
      "attachments": {},
      "cell_type": "markdown",
      "metadata": {},
      "source": [
      "Como podemos ver, ele diz que o `README.md` foi adicionado."
      ]
    },
{
      "cell_type": "code",
      "execution_count": 212,
      "metadata": {},
      "outputs": [
      {
          "name": "stdout",
          "output_type": "stream",
          "text": [
          "README.md\n"
          ]
        }
      ],
      "source": [
      "!cd notebook_git && ls | grep README"
      ]
    },
{
      "attachments": {},
      "cell_type": "markdown",
      "metadata": {},
      "source": [
      "Temos o arquivo localmente"
      ]
    },
{
      "attachments": {},
      "cell_type": "markdown",
      "metadata": {},
      "source": [
      "### Sincronizar filiais remotas e locais"
      ]
    },
{
      "attachments": {},
      "cell_type": "markdown",
      "metadata": {},
      "source": [
      "Como vimos, tivemos que sincronizar as ramificações remota e local para fazer upload e download dos dados; no entanto, se primeiro criarmos o repositório no GitHub e depois o clonarmos, essa sincronização não será mais necessária."
      ]
    },
{
      "attachments": {},
      "cell_type": "markdown",
      "metadata": {},
      "source": [
      "## Aliases"
      ]
    },
{
      "attachments": {},
      "cell_type": "markdown",
      "metadata": {},
      "source": [
      "Toda vez que quisemos fazer um log, usamos o comando `git log --graph --oneline --decorate`, mas lembrar desse comando é bastante complicado, na verdade eu não me lembro dele, toda vez que quis usá-lo tive que procurá-lo porque não me lembrava, então seria bom ter uma maneira de abreviá-lo."
      ]
    },
{
      "attachments": {},
      "cell_type": "markdown",
      "metadata": {},
      "source": [
      "Para isso, o git oferece o `alias`, de modo que você pode criar aliases para os comandos que desejar. Para isso, você deve fazer `git config --global alias.<nome do alias> \"command\"`."
      ]
    },
{
      "attachments": {},
      "cell_type": "markdown",
      "metadata": {},
      "source": [
      "Então, vamos chamar o `git tree` para o comando `git log --graph --oneline --decorate`, pois ele nos permite ver o histórico, a ramificação e a fusão de ramificações como se fosse o crescimento de uma árvore, portanto, fazemos `git config --global alias.tree \"log --graph --oneline --decorate\"`.\n",
"\n",
" > Importante**: Não coloque a palavra `git` dentro do comando."
      ]
    },
{
      "cell_type": "code",
      "execution_count": 218,
      "metadata": {},
      "outputs": [],
      "source": [
      "!git config --global alias.tree \"log --graph --oneline --decorate\""
      ]
    },
{
      "attachments": {},
      "cell_type": "markdown",
      "metadata": {},
      "source": [
      "Se agora formos ao nosso repositório e fizermos `git tree`, veremos o histórico como antes."
      ]
    },
{
      "cell_type": "code",
      "execution_count": 217,
      "metadata": {},
      "outputs": [
      {
          "name": "stdout",
          "output_type": "stream",
          "text": [
          "* \u001b[33m527e07a\u001b[m\u001b[33m (\u001b[m\u001b[1;36mHEAD -> \u001b[m\u001b[1;32mmain\u001b[m\u001b[33m, \u001b[m\u001b[1;31morigin/main\u001b[m\u001b[33m)\u001b[m Create README.md\n",
"*   \u001b[33m679bb49\u001b[m archivo1.py con el merge resuelto\n",
"\u001b[32m|\u001b[m\u001b[33m\\\u001b[m  \n",
"\u001b[32m|\u001b[m * \u001b[33m32851c3\u001b[m archivo1.py en rama rama_con_conflicto\n",
"* \u001b[33m|\u001b[m \u001b[33m53f909b\u001b[m archivo1.py en rama main\n",
"\u001b[33m|\u001b[m\u001b[33m/\u001b[m  \n",
"* \u001b[33m52acb97\u001b[m Merge squash de los commits de la rama branch_squash\n",
"*   \u001b[33m274529c\u001b[m Merge branch 'branch_no_fast_forward' into main\n",
"\u001b[34m|\u001b[m\u001b[35m\\\u001b[m  \n",
"\u001b[34m|\u001b[m * \u001b[33m8df3429\u001b[m\u001b[33m (\u001b[m\u001b[1;32mbranch_no_fast_forward\u001b[m\u001b[33m)\u001b[m file2\n",
"\u001b[34m|\u001b[m * \u001b[33me4e23c9\u001b[m file1\n",
"* \u001b[35m|\u001b[m \u001b[33m8bdf4d8\u001b[m file3\n",
"\u001b[35m|\u001b[m\u001b[35m/\u001b[m  \n",
"* \u001b[33m94149fc\u001b[m\u001b[33m (\u001b[m\u001b[1;32mbranch_fast_forward\u001b[m\u001b[33m)\u001b[m Eliminado hola.py\n",
"* \u001b[33m4484e70\u001b[m Eliminado archivo4.py\n",
"* \u001b[33m564ccfb\u001b[m\u001b[33m (\u001b[m\u001b[1;32mnew_branch2\u001b[m\u001b[33m)\u001b[m Commit con el archivo 8\n",
"* \u001b[33m5168f78\u001b[m Eliminado archivo7.py\n",
"* \u001b[33m4bb9d75\u001b[m\u001b[33m (\u001b[m\u001b[1;32mnew_branch\u001b[m\u001b[33m)\u001b[m Commit con el archivo 7\n",
"* \u001b[33mea615a9\u001b[m Eliminado archivo5.py\n",
"* \u001b[33me3153a5\u001b[m Commit con los archivos 4 y 5\n",
"* \u001b[33m0b09cfa\u001b[m Añadido .gitignore\n",
"* \u001b[33m04ebd1f\u001b[m Commit con los archivos 1 y 2\n",
"* \u001b[33mc4930d7\u001b[m Tercer commit, hola.py\n",
"* \u001b[33m6e99e73\u001b[m Segundo commit, hola.py\n",
"* \u001b[33m1c95e4f\u001b[m Primer commit, hola.py\n"
          ]
        }
      ],
      "source": [
      "!cd notebook_git && git tree"
      ]
    },
{
      "attachments": {},
      "cell_type": "markdown",
      "metadata": {},
      "source": [
      "Como podemos ver, nosso alias foi criado"
      ]
    },
{
      "attachments": {},
      "cell_type": "markdown",
      "metadata": {},
      "source": [
      "### Aliases de comandos git existentes"
      ]
    },
{
      "attachments": {},
      "cell_type": "markdown",
      "metadata": {},
      "source": [
      "Você pode criar aliases para comandos que já existem no git; de fato, essa é uma prática que muitas pessoas usam, especialmente para abreviar, então vamos criar um. Vamos criar um alias do comando `git status` e renomeá-lo para `git st` como `git config --global alias.st \"status\"`."
      ]
    },
{
      "cell_type": "code",
      "execution_count": 219,
      "metadata": {},
      "outputs": [],
      "source": [
      "!git config --global alias.st \"status\""
      ]
    },
{
      "attachments": {},
      "cell_type": "markdown",
      "metadata": {},
      "source": [
      "Nós o testamos agora"
      ]
    },
{
      "cell_type": "code",
      "execution_count": 220,
      "metadata": {},
      "outputs": [
      {
          "name": "stdout",
          "output_type": "stream",
          "text": [
          "En la rama main\n",
"Tu rama está actualizada con 'origin/main'.\n",
"\n",
"nada para hacer commit, el árbol de trabajo está limpio\n"
          ]
        }
      ],
      "source": [
      "!cd notebook_git && git st"
      ]
    },
{
      "attachments": {},
      "cell_type": "markdown",
      "metadata": {},
      "source": [
      "Já temos o comando `git status` simplificado para `git st`."
      ]
    },
{
      "attachments": {},
      "cell_type": "markdown",
      "metadata": {},
      "source": [
      "### Aliases de comandos não-git"
      ]
    },
{
      "attachments": {},
      "cell_type": "markdown",
      "metadata": {},
      "source": [
      "Podemos criar aliases para comandos que não sejam do git, por exemplo, porque achamos que o git precisa desse novo comando, isso é feito da mesma forma, exceto pelo fato de que o comando deve ser precedido por `!`, ou seja, seria `git config --global alias.<nome do alias> \"!comando\"`."
      ]
    },
{
      "attachments": {},
      "cell_type": "markdown",
      "metadata": {},
      "source": [
      "Quando vimos os conflitos, vimos que o git nos disse onde eles estavam, mas para resolvê-los temos que editar o código nós mesmos, então podemos criar um alias do git para que possamos abrir um arquivo com o editor de texto que quisermos, no meu caso vou criar um alias que abrirá os arquivos com `vscode` para isso tenho que fazer `git config --global alias.code \"!code\"`."
      ]
    },
{
      "cell_type": "code",
      "execution_count": 222,
      "metadata": {},
      "outputs": [],
      "source": [
      "!git config --global alias.code \"!code\""
      ]
    },
{
      "attachments": {},
      "cell_type": "markdown",
      "metadata": {},
      "source": [
      "Nós o testamos"
      ]
    },
{
      "cell_type": "code",
      "execution_count": 223,
      "metadata": {},
      "outputs": [],
      "source": [
      "!cd notebook_git && git code README.md"
      ]
    },
{
      "attachments": {},
      "cell_type": "markdown",
      "metadata": {},
      "source": [
      "Depois de fazer isso, abri o `README.md` no `vscode`."
      ]
    },
{
      "attachments": {},
      "cell_type": "markdown",
      "metadata": {},
      "source": [
      "### Lista com todos os aliases"
      ]
    },
{
      "attachments": {},
      "cell_type": "markdown",
      "metadata": {},
      "source": [
      "Caso não nos lembremos dos aliases que criamos, podemos ver a configuração global do git, mas, como isso pode ser um pouco cansativo porque nos fornece muitas informações, podemos filtrá-la para nos mostrar apenas os aliases que criamos."
      ]
    },
{
      "cell_type": "code",
      "execution_count": 224,
      "metadata": {},
      "outputs": [
      {
          "name": "stdout",
          "output_type": "stream",
          "text": [
          "alias.tree log --graph --oneline --decorate\n",
"alias.st status\n",
"alias.code !code\n"
          ]
        }
      ],
      "source": [
      "!git config --get-regexp ^alias\\."
      ]
    },
{
      "attachments": {},
      "cell_type": "markdown",
      "metadata": {},
      "source": [
      "Obtemos os alais que criamos"
      ]
    },
{
      "attachments": {},
      "cell_type": "markdown",
      "metadata": {},
      "source": [
      "Mas, melhor ainda, podemos criar um alias para obter os aliases, então fazemos `git config --global alias.alias \"config --get-regexp ^alias."
      ]
    },
{
      "cell_type": "code",
      "execution_count": 225,
      "metadata": {},
      "outputs": [],
      "source": [
      "!git config --global alias.alias \"config --get-regexp ^alias\\.\""
      ]
    },
{
      "attachments": {},
      "cell_type": "markdown",
      "metadata": {},
      "source": [
      "Se agora fizermos `git alias`"
      ]
    },
{
      "cell_type": "code",
      "execution_count": 226,
      "metadata": {},
      "outputs": [
      {
          "name": "stdout",
          "output_type": "stream",
          "text": [
          "alias.tree log --graph --oneline --decorate\n",
"alias.st status\n",
"alias.code !code\n",
"alias.alias config --get-regexp ^alias\\.\n"
          ]
        }
      ],
      "source": [
      "!git alias"
      ]
    },
{
      "attachments": {},
      "cell_type": "markdown",
      "metadata": {},
      "source": [
      "Obtemos a lista com todos os nossos aliases"
      ]
    },
{
      "attachments": {},
      "cell_type": "markdown",
      "metadata": {},
      "source": [
      "## Armazenamento de estoque (`git stash`)"
      ]
    },
{
      "attachments": {},
      "cell_type": "markdown",
      "metadata": {},
      "source": [
      "Digamos que estejamos trabalhando em uma ramificação, tenhamos vários arquivos modificados, não os tenhamos confirmado e, por qualquer motivo, tenhamos que mudar para outra ramificação. Por exemplo, estamos em uma ramificação desenvolvendo um novo recurso e temos que deixá-la no meio do caminho porque há um bug crítico na ramificação principal.\n",
"\n",
"Uma solução seria fazer um commit para salvar as alterações e voltar mais tarde. Mas talvez tenhamos deixado o código pela metade e não queiramos fazer o commit. É por isso que o stash foi inventado, que é como um armazenamento, onde você deixa seu código armazenado para que possa recuperá-lo mais tarde.\n",
"\n",
"É uma pilha, o que significa que a última coisa a entrar é a primeira a sair."
      ]
    },
{
      "attachments": {},
      "cell_type": "markdown",
      "metadata": {},
      "source": [
      "Vamos ver como fazer isso. Primeiro, criamos uma nova ramificação que chamaremos de `new_feature`."
      ]
    },
{
      "cell_type": "code",
      "execution_count": 2,
      "metadata": {},
      "outputs": [],
      "source": [
      "!cd notebook_git && git branch new_feature"
      ]
    },
{
      "attachments": {},
      "cell_type": "markdown",
      "metadata": {},
      "source": [
      "Mudamos para ele"
      ]
    },
{
      "cell_type": "code",
      "execution_count": 3,
      "metadata": {},
      "outputs": [
      {
          "name": "stdout",
          "output_type": "stream",
          "text": [
          "Cambiado a rama 'new_feature'\n"
          ]
        }
      ],
      "source": [
      "!cd notebook_git && git switch new_feature"
      ]
    },
{
      "attachments": {},
      "cell_type": "markdown",
      "metadata": {},
      "source": [
      "Vamos modificar os arquivos `file2.py` e `file8.py`."
      ]
    },
{
      "cell_type": "code",
      "execution_count": 4,
      "metadata": {},
      "outputs": [],
      "source": [
      "!cd notebook_git && echo \"print('new_feature')\" >> archivo2.py && echo \"print('new_feature')\" >> archivo8.py"
      ]
    },
{
      "attachments": {},
      "cell_type": "markdown",
      "metadata": {},
      "source": [
      "Fazemos um `git status` para verificar se eles foram alterados"
      ]
    },
{
      "cell_type": "code",
      "execution_count": 5,
      "metadata": {},
      "outputs": [
      {
          "name": "stdout",
          "output_type": "stream",
          "text": [
          "En la rama new_feature\n",
"Cambios no rastreados para el commit:\n",
"  (usa \"git add <archivo>...\" para actualizar lo que será confirmado)\n",
"  (usa \"git restore <archivo>...\" para descartar los cambios en el directorio de trabajo)\n",
"\t\u001b[31mmodificados:     archivo2.py\u001b[m\n",
"\t\u001b[31mmodificados:     archivo8.py\u001b[m\n",
"\n",
"sin cambios agregados al commit (usa \"git add\" y/o \"git commit -a\")\n"
          ]
        }
      ],
      "source": [
      "!cd notebook_git && git status"
      ]
    },
{
      "attachments": {},
      "cell_type": "markdown",
      "metadata": {},
      "source": [
      "Vamos colocar `file8.py` na área `staged`."
      ]
    },
{
      "cell_type": "code",
      "execution_count": 6,
      "metadata": {},
      "outputs": [],
      "source": [
      "!cd notebook_git && git add archivo8.py"
      ]
    },
{
      "attachments": {},
      "cell_type": "markdown",
      "metadata": {},
      "source": [
      "Refazemos um `git status`."
      ]
    },
{
      "cell_type": "code",
      "execution_count": 7,
      "metadata": {},
      "outputs": [
      {
          "name": "stdout",
          "output_type": "stream",
          "text": [
          "En la rama new_feature\n",
"Cambios a ser confirmados:\n",
"  (usa \"git restore --staged <archivo>...\" para sacar del área de stage)\n",
"\t\u001b[32mmodificados:     archivo8.py\u001b[m\n",
"\n",
"Cambios no rastreados para el commit:\n",
"  (usa \"git add <archivo>...\" para actualizar lo que será confirmado)\n",
"  (usa \"git restore <archivo>...\" para descartar los cambios en el directorio de trabajo)\n",
"\t\u001b[31mmodificados:     archivo2.py\u001b[m\n",
"\n"
          ]
        }
      ],
      "source": [
      "!cd notebook_git && git status"
      ]
    },
{
      "attachments": {},
      "cell_type": "markdown",
      "metadata": {},
      "source": [
      "Como podemos ver, temos dois arquivos modificados, um dos quais também está na área `staged`. Se fôssemos alterar as ramificações agora, para evitar a perda das alterações, poderíamos confirmá-las ou salvá-las no armazenamento `stash`, portanto, vamos fazer a última opção usando o `git stash`."
      ]
    },
{
      "cell_type": "code",
      "execution_count": 8,
      "metadata": {},
      "outputs": [
      {
          "name": "stdout",
          "output_type": "stream",
          "text": [
          "Directorio de trabajo y estado de índice WIP on new_feature: 527e07a Create README.md guardados\n"
          ]
        }
      ],
      "source": [
      "!cd notebook_git && git stash"
      ]
    },
{
      "attachments": {},
      "cell_type": "markdown",
      "metadata": {},
      "source": [
      "Se fizermos `git status` novamente agora, veremos o que acontece."
      ]
    },
{
      "cell_type": "code",
      "execution_count": 9,
      "metadata": {},
      "outputs": [
      {
          "name": "stdout",
          "output_type": "stream",
          "text": [
          "En la rama new_feature\n",
"nada para hacer commit, el árbol de trabajo está limpio\n"
          ]
        }
      ],
      "source": [
      "!cd notebook_git && git status"
      ]
    },
{
      "attachments": {},
      "cell_type": "markdown",
      "metadata": {},
      "source": [
      "Os arquivos com modificações não aparecem mais, é como se tivéssemos feito um commit."
      ]
    },
{
      "attachments": {},
      "cell_type": "markdown",
      "metadata": {},
      "source": [
      " > Importante**: Arquivos recém-criados, que nunca foram rastreados pelo git, não irão para o repositório, portanto, com novos arquivos, é necessário pelo menos fazer um `git add` primeiro."
      ]
    },
{
      "attachments": {},
      "cell_type": "markdown",
      "metadata": {},
      "source": [
      "Se eu agora criar um novo arquivo e tentar levá-lo para o depósito, ocorrerá um erro."
      ]
    },
{
      "cell_type": "code",
      "execution_count": 16,
      "metadata": {},
      "outputs": [],
      "source": [
      "!cd notebook_git && touch archivo9.py"
      ]
    },
{
      "cell_type": "code",
      "execution_count": 11,
      "metadata": {},
      "outputs": [
      {
          "name": "stdout",
          "output_type": "stream",
          "text": [
          "En la rama new_feature\n",
"Archivos sin seguimiento:\n",
"  (usa \"git add <archivo>...\" para incluirlo a lo que se será confirmado)\n",
"\t\u001b[31marchivo9.py\u001b[m\n",
"\n",
"no hay nada agregado al commit pero hay archivos sin seguimiento presentes (usa \"git add\" para hacerles seguimiento)\n"
          ]
        }
      ],
      "source": [
      "!cd notebook_git && git status"
      ]
    },
{
      "cell_type": "code",
      "execution_count": 13,
      "metadata": {},
      "outputs": [
      {
          "name": "stdout",
          "output_type": "stream",
          "text": [
          "No hay cambios locales para guardar\n"
          ]
        }
      ],
      "source": [
      "!cd notebook_git && git stash"
      ]
    },
{
      "cell_type": "code",
      "execution_count": 14,
      "metadata": {},
      "outputs": [
      {
          "name": "stdout",
          "output_type": "stream",
          "text": [
          "En la rama new_feature\n",
"Archivos sin seguimiento:\n",
"  (usa \"git add <archivo>...\" para incluirlo a lo que se será confirmado)\n",
"\t\u001b[31marchivo9.py\u001b[m\n",
"\n",
"no hay nada agregado al commit pero hay archivos sin seguimiento presentes (usa \"git add\" para hacerles seguimiento)\n"
          ]
        }
      ],
      "source": [
      "!cd notebook_git && git status"
      ]
    },
{
      "attachments": {},
      "cell_type": "markdown",
      "metadata": {},
      "source": [
      "Como podemos ver, o `file9.py` não foi salvo no repositório, portanto, deveria ter sido adicionado com o `git add`."
      ]
    },
{
      "cell_type": "code",
      "execution_count": 15,
      "metadata": {},
      "outputs": [],
      "source": [
      "!cd notebook_git && rm archivo9.py"
      ]
    },
{
      "attachments": {},
      "cell_type": "markdown",
      "metadata": {},
      "source": [
      "### Tudo para o estoque (`git stash -u -a`)"
      ]
    },
{
      "attachments": {},
      "cell_type": "markdown",
      "metadata": {},
      "source": [
      "Como vimos, apenas os arquivos que o git está rastreando são enviados para o armazenamento, mas se tivermos novos arquivos criados ou arquivos ignorados, eles não serão enviados, portanto, para contornar isso, podemos usar os sinalizadores `-u` ou `--include-untracked` para enviar novos arquivos que o git ainda não rastreou e o sinalizador `-a` ou `--all` para incluir tudo, inclusive arquivos ignorados."
      ]
    },
{
      "attachments": {},
      "cell_type": "markdown",
      "metadata": {},
      "source": [
      "### Lista de stashes (`git stash list`)"
      ]
    },
{
      "attachments": {},
      "cell_type": "markdown",
      "metadata": {},
      "source": [
      "Como já dissemos, o stash funciona como uma pilha, portanto, se usarmos esse stash muitas vezes, teremos uma lista de stashes e, para ver quais stashes temos, podemos usar `git stash list`."
      ]
    },
{
      "cell_type": "code",
      "execution_count": 17,
      "metadata": {},
      "outputs": [
      {
          "name": "stdout",
          "output_type": "stream",
          "text": [
          "stash@{0}: WIP on new_feature: 527e07a Create README.md\n"
          ]
        }
      ],
      "source": [
      "!cd notebook_git && git stash list"
      ]
    },
{
      "attachments": {},
      "cell_type": "markdown",
      "metadata": {},
      "source": [
      "Como podemos ver, temos apenas um, que indica a ramificação (`on new_feature`), o último commit (`Create README.md`) e um identificador (`527e07a`)."
      ]
    },
{
      "attachments": {},
      "cell_type": "markdown",
      "metadata": {},
      "source": [
      "### Armazenar com descrição (`git stash push -m <description>)`)"
      ]
    },
{
      "attachments": {},
      "cell_type": "markdown",
      "metadata": {},
      "source": [
      "Como vimos, a lista retorna o ramo e o último commit, mas essas informações são úteis apenas para saber de onde começamos a modificar antes de salvar no histórico. Ela também retorna um identificador que não nos diz muito, portanto, podemos adicionar uma primeira descrição ao stash com `git stash push -m <description>`."
      ]
    },
{
      "attachments": {},
      "cell_type": "markdown",
      "metadata": {},
      "source": [
      "Primeiro, fazemos um `git status` para ver o que temos sem fazer o commit."
      ]
    },
{
      "cell_type": "code",
      "execution_count": 18,
      "metadata": {},
      "outputs": [
      {
          "name": "stdout",
          "output_type": "stream",
          "text": [
          "En la rama new_feature\n",
"Archivos sin seguimiento:\n",
"  (usa \"git add <archivo>...\" para incluirlo a lo que se será confirmado)\n",
"\t\u001b[31marchivo9.py\u001b[m\n",
"\n",
"no hay nada agregado al commit pero hay archivos sin seguimiento presentes (usa \"git add\" para hacerles seguimiento)\n"
          ]
        }
      ],
      "source": [
      "!cd notebook_git && git status"
      ]
    },
{
      "attachments": {},
      "cell_type": "markdown",
      "metadata": {},
      "source": [
      "Temos o `file9.py`, mas lembre-se de que ele nunca foi rastreado pelo git, portanto, para incluí-lo em um stash, temos que usar o sinalizador `-u` ou o sinalizador `-a`, portanto, criamos um novo stash com uma descrição com o comando `git stash push -u -m <description>`."
      ]
    },
{
      "cell_type": "code",
      "execution_count": 28,
      "metadata": {},
      "outputs": [
      {
          "name": "stdout",
          "output_type": "stream",
          "text": [
          "Directorio de trabajo y estado de índice On new_feature: archivo9.py guardados\n"
          ]
        }
      ],
      "source": [
      "!cd notebook_git && git stash push -u -m \"archivo9.py\""
      ]
    },
{
      "attachments": {},
      "cell_type": "markdown",
      "metadata": {},
      "source": [
      "Retiramos a lista de estoques"
      ]
    },
{
      "cell_type": "code",
      "execution_count": 29,
      "metadata": {},
      "outputs": [
      {
          "name": "stdout",
          "output_type": "stream",
          "text": [
          "stash@{0}: On new_feature: archivo9.py\n",
"stash@{1}: WIP on new_feature: 527e07a Create README.md\n"
          ]
        }
      ],
      "source": [
      "!cd notebook_git && git stash list"
      ]
    },
{
      "attachments": {},
      "cell_type": "markdown",
      "metadata": {},
      "source": [
      "O novo aparece com muito mais clareza"
      ]
    },
{
      "attachments": {},
      "cell_type": "markdown",
      "metadata": {},
      "source": [
      "### Recuperar o último estoque (`git stash pop`)"
      ]
    },
{
      "attachments": {},
      "cell_type": "markdown",
      "metadata": {},
      "source": [
      "Como já dissemos, o estoque é uma pilha com lojas, portanto, quando se trata de recuperá-las, faremos isso da mesma forma que uma pilha, sempre recuperando a última.\n",
"\n",
"![git stash push pop](https://pub-fb664c455eca46a2ba762a065ac900f7.r2.dev/git-stash-push-pop.webp)\n",
"\n",
"Para recuperar o último estoque, precisamos fazer `git stash pop`."
      ]
    },
{
      "attachments": {},
      "cell_type": "markdown",
      "metadata": {},
      "source": [
      "Primeiro, fazemos um `git status` para verificar se não temos nenhuma alteração pendente."
      ]
    },
{
      "cell_type": "code",
      "execution_count": 30,
      "metadata": {},
      "outputs": [
      {
          "name": "stdout",
          "output_type": "stream",
          "text": [
          "En la rama new_feature\n",
"nada para hacer commit, el árbol de trabajo está limpio\n"
          ]
        }
      ],
      "source": [
      "!cd notebook_git && git status"
      ]
    },
{
      "attachments": {},
      "cell_type": "markdown",
      "metadata": {},
      "source": [
      "Agora vamos recuperar o último estoque"
      ]
    },
{
      "cell_type": "code",
      "execution_count": 31,
      "metadata": {},
      "outputs": [
      {
          "name": "stdout",
          "output_type": "stream",
          "text": [
          "En la rama new_feature\n",
"Cambios a ser confirmados:\n",
"  (usa \"git restore --staged <archivo>...\" para sacar del área de stage)\n",
"\t\u001b[32mnuevos archivos: archivo9.py\u001b[m\n",
"\n",
"Descartado refs/stash@{0} (0246b0e922f654e7fc68cfeaf26e24fc511feb37)\n"
          ]
        }
      ],
      "source": [
      "!cd notebook_git && git stash pop"
      ]
    },
{
      "attachments": {},
      "cell_type": "markdown",
      "metadata": {},
      "source": [
      "Se fizermos o git status novamente, veremos que temos o `file9.py` com commit pendente novamente."
      ]
    },
{
      "cell_type": "code",
      "execution_count": 32,
      "metadata": {},
      "outputs": [
      {
          "name": "stdout",
          "output_type": "stream",
          "text": [
          "En la rama new_feature\n",
"Cambios a ser confirmados:\n",
"  (usa \"git restore --staged <archivo>...\" para sacar del área de stage)\n",
"\t\u001b[32mnuevos archivos: archivo9.py\u001b[m\n",
"\n"
          ]
        }
      ],
      "source": [
      "!cd notebook_git && git status"
      ]
    },
{
      "attachments": {},
      "cell_type": "markdown",
      "metadata": {},
      "source": [
      "E se verificarmos a lista de estoques, teremos apenas um estoque restante."
      ]
    },
{
      "cell_type": "code",
      "execution_count": 33,
      "metadata": {},
      "outputs": [
      {
          "name": "stdout",
          "output_type": "stream",
          "text": [
          "stash@{0}: WIP on new_feature: 527e07a Create README.md\n"
          ]
        }
      ],
      "source": [
      "!cd notebook_git && git stash list"
      ]
    },
{
      "attachments": {},
      "cell_type": "markdown",
      "metadata": {},
      "source": [
      "### Excluir um estoque (`git stash drop <posição>`)"
      ]
    },
{
      "attachments": {},
      "cell_type": "markdown",
      "metadata": {},
      "source": [
      "Se quisermos excluir um estoque, teremos que fazer `git stash drop <position>`, em que `<position>` é a posição do estoque na lista."
      ]
    },
{
      "attachments": {},
      "cell_type": "markdown",
      "metadata": {},
      "source": [
      "Recebemos a lista do estoque"
      ]
    },
{
      "cell_type": "code",
      "execution_count": 34,
      "metadata": {},
      "outputs": [
      {
          "name": "stdout",
          "output_type": "stream",
          "text": [
          "stash@{0}: WIP on new_feature: 527e07a Create README.md\n"
          ]
        }
      ],
      "source": [
      "!cd notebook_git && git stash list"
      ]
    },
{
      "attachments": {},
      "cell_type": "markdown",
      "metadata": {},
      "source": [
      "No nosso caso, temos apenas um e na posição 0 (`stash@{0}`), portanto, para removê-lo, teríamos que fazer `git stash drop 0`, mas não vou fazer isso porque vou removê-lo mais tarde com outro comando"
      ]
    },
{
      "attachments": {},
      "cell_type": "markdown",
      "metadata": {},
      "source": [
      "### Remover todos os estoques (`git stash clear`)"
      ]
    },
{
      "attachments": {},
      "cell_type": "markdown",
      "metadata": {},
      "source": [
      "Se quisermos limpar toda a lista de stash, teremos que usar o comando `git stash clear`."
      ]
    },
{
      "cell_type": "code",
      "execution_count": 35,
      "metadata": {},
      "outputs": [],
      "source": [
      "!cd notebook_git && git stash clear"
      ]
    },
{
      "attachments": {},
      "cell_type": "markdown",
      "metadata": {},
      "source": [
      "Se agora solicitarmos a lista de estoque"
      ]
    },
{
      "cell_type": "code",
      "execution_count": 36,
      "metadata": {},
      "outputs": [],
      "source": [
      "!cd notebook_git && git stash list"
      ]
    },
{
      "attachments": {},
      "cell_type": "markdown",
      "metadata": {},
      "source": [
      "Não recebemos nada porque eliminamos todos os"
      ]
    },
{
      "attachments": {},
      "cell_type": "markdown",
      "metadata": {},
      "source": [
      "Vamos deixar tudo como estava, fazer um `git status` para lembrar as alterações pendentes."
      ]
    },
{
      "cell_type": "code",
      "execution_count": 37,
      "metadata": {},
      "outputs": [
      {
          "name": "stdout",
          "output_type": "stream",
          "text": [
          "En la rama new_feature\n",
"Cambios a ser confirmados:\n",
"  (usa \"git restore --staged <archivo>...\" para sacar del área de stage)\n",
"\t\u001b[32mnuevos archivos: archivo9.py\u001b[m\n",
"\n"
          ]
        }
      ],
      "source": [
      "!cd notebook_git && git status"
      ]
    },
{
      "attachments": {},
      "cell_type": "markdown",
      "metadata": {},
      "source": [
      "Vemos que estamos na ramificação `new_feature` e que temos o `file9.py` pendente de confirmação. Como o criamos para o exemplo, nós o excluímos e voltamos para a ramificação principal."
      ]
    },
{
      "cell_type": "code",
      "execution_count": 39,
      "metadata": {},
      "outputs": [],
      "source": [
      "!cd notebook_git && git reset archivo9.py"
      ]
    },
{
      "cell_type": "code",
      "execution_count": 41,
      "metadata": {},
      "outputs": [],
      "source": [
      "!cd notebook_git && rm archivo9.py"
      ]
    },
{
      "cell_type": "code",
      "execution_count": 42,
      "metadata": {},
      "outputs": [
      {
          "name": "stdout",
          "output_type": "stream",
          "text": [
          "Cambiado a rama 'main'\n",
"Tu rama está actualizada con 'origin/main'.\n"
          ]
        }
      ],
      "source": [
      "!cd notebook_git && git switch main"
      ]
    },
{
      "attachments": {},
      "cell_type": "markdown",
      "metadata": {},
      "source": [
      "## Tags"
      ]
    },
{
      "attachments": {},
      "cell_type": "markdown",
      "metadata": {},
      "source": [
      "Quando estamos desenvolvendo código, há momentos em que geramos versões, por exemplo, `v1.1`, `v1.2`, etc. Para manter isso sob controle, o git nos fornece tags."
      ]
    },
{
      "attachments": {},
      "cell_type": "markdown",
      "metadata": {},
      "source": [
      "### Criar uma nova tag (`git tag -a <tag_name> -m \"<message>\"`)"
      ]
    },
{
      "attachments": {},
      "cell_type": "markdown",
      "metadata": {},
      "source": [
      "Para criar uma tag, é necessário executar `git tag -a <nome_da_tag> -m \"<mensagem>\"`."
      ]
    },
{
      "attachments": {},
      "cell_type": "markdown",
      "metadata": {},
      "source": [
      "Por exemplo, vamos criar uma tag na versão atual do repositório. Para isso, usarei `git tag -a v_tag -m \"Tag com o repositório na parte final, onde explicamos as tags\"`."
      ]
    },
{
      "cell_type": "code",
      "execution_count": 1,
      "metadata": {},
      "outputs": [],
      "source": [
      "!cd notebook_git && git tag -a v_tag -m \"Tag con el repositorio en la parte final, en la que explicamos los tags\""
      ]
    },
{
      "attachments": {},
      "cell_type": "markdown",
      "metadata": {},
      "source": [
      "### Lista de tags (`git tag`)"
      ]
    },
{
      "attachments": {},
      "cell_type": "markdown",
      "metadata": {},
      "source": [
      "Para ver as tags que criamos, podemos usar `git tag`."
      ]
    },
{
      "cell_type": "code",
      "execution_count": 2,
      "metadata": {},
      "outputs": [
      {
          "name": "stdout",
          "output_type": "stream",
          "text": [
          "v_tag\n"
          ]
        }
      ],
      "source": [
      "!cd notebook_git && git tag"
      ]
    },
{
      "attachments": {},
      "cell_type": "markdown",
      "metadata": {},
      "source": [
      "### Criar uma tag a partir de um commit antigo (`git tag -a <tag_name> -m \"<message>\" <hash>`)"
      ]
    },
{
      "attachments": {},
      "cell_type": "markdown",
      "metadata": {},
      "source": [
      "Vamos fazer um `git tree` para ver o histórico"
      ]
    },
{
      "cell_type": "code",
      "execution_count": 3,
      "metadata": {},
      "outputs": [
      {
          "name": "stdout",
          "output_type": "stream",
          "text": [
          "* \u001b[33m527e07a\u001b[m\u001b[33m (\u001b[m\u001b[1;36mHEAD -> \u001b[m\u001b[1;32mmain\u001b[m\u001b[33m, \u001b[m\u001b[1;33mtag: v_tag\u001b[m\u001b[33m, \u001b[m\u001b[1;31morigin/main\u001b[m\u001b[33m, \u001b[m\u001b[1;32mnew_feature\u001b[m\u001b[33m)\u001b[m Create README.md\n",
"*   \u001b[33m679bb49\u001b[m archivo1.py con el merge resuelto\n",
"\u001b[32m|\u001b[m\u001b[33m\\\u001b[m  \n",
"\u001b[32m|\u001b[m * \u001b[33m32851c3\u001b[m archivo1.py en rama rama_con_conflicto\n",
"* \u001b[33m|\u001b[m \u001b[33m53f909b\u001b[m archivo1.py en rama main\n",
"\u001b[33m|\u001b[m\u001b[33m/\u001b[m  \n",
"* \u001b[33m52acb97\u001b[m Merge squash de los commits de la rama branch_squash\n",
"*   \u001b[33m274529c\u001b[m Merge branch 'branch_no_fast_forward' into main\n",
"\u001b[34m|\u001b[m\u001b[35m\\\u001b[m  \n",
"\u001b[34m|\u001b[m * \u001b[33m8df3429\u001b[m\u001b[33m (\u001b[m\u001b[1;32mbranch_no_fast_forward\u001b[m\u001b[33m)\u001b[m file2\n",
"\u001b[34m|\u001b[m * \u001b[33me4e23c9\u001b[m file1\n",
"* \u001b[35m|\u001b[m \u001b[33m8bdf4d8\u001b[m file3\n",
"\u001b[35m|\u001b[m\u001b[35m/\u001b[m  \n",
"* \u001b[33m94149fc\u001b[m\u001b[33m (\u001b[m\u001b[1;32mbranch_fast_forward\u001b[m\u001b[33m)\u001b[m Eliminado hola.py\n",
"* \u001b[33m4484e70\u001b[m Eliminado archivo4.py\n",
"* \u001b[33m564ccfb\u001b[m\u001b[33m (\u001b[m\u001b[1;32mnew_branch2\u001b[m\u001b[33m)\u001b[m Commit con el archivo 8\n",
"* \u001b[33m5168f78\u001b[m Eliminado archivo7.py\n",
"* \u001b[33m4bb9d75\u001b[m\u001b[33m (\u001b[m\u001b[1;32mnew_branch\u001b[m\u001b[33m)\u001b[m Commit con el archivo 7\n",
"* \u001b[33mea615a9\u001b[m Eliminado archivo5.py\n",
"* \u001b[33me3153a5\u001b[m Commit con los archivos 4 y 5\n",
"* \u001b[33m0b09cfa\u001b[m Añadido .gitignore\n",
"* \u001b[33m04ebd1f\u001b[m Commit con los archivos 1 y 2\n",
"* \u001b[33mc4930d7\u001b[m Tercer commit, hola.py\n",
"* \u001b[33m6e99e73\u001b[m Segundo commit, hola.py\n",
"* \u001b[33m1c95e4f\u001b[m Primer commit, hola.py\n"
          ]
        }
      ],
      "source": [
      "!cd notebook_git && git tree"
      ]
    },
{
      "attachments": {},
      "cell_type": "markdown",
      "metadata": {},
      "source": [
      "Embora não esteja escrito na descrição, quando fizemos o commit `4bb9d75` foi quando concluímos a parte do controle de versão localmente, portanto, também seria bom ter uma tag desse momento. Para isso, o que precisamos fazer é criar uma tag adicionando o hash desse momento"
      ]
    },
{
      "cell_type": "code",
      "execution_count": 4,
      "metadata": {},
      "outputs": [],
      "source": [
      "!cd notebook_git && git tag -a v_local -m \"Tag con el repositorio en la parte de control de versiones de manera local\" 4bb9d75"
      ]
    },
{
      "attachments": {},
      "cell_type": "markdown",
      "metadata": {},
      "source": [
      "Se agora fizermos uma lista das tags, a nova aparecerá."
      ]
    },
{
      "cell_type": "code",
      "execution_count": 5,
      "metadata": {},
      "outputs": [
      {
          "name": "stdout",
          "output_type": "stream",
          "text": [
          "v_local\n",
"v_tag\n"
          ]
        }
      ],
      "source": [
      "!cd notebook_git && git tag"
      ]
    },
{
      "attachments": {},
      "cell_type": "markdown",
      "metadata": {},
      "source": [
      "E se olharmos para o histórico de commits"
      ]
    },
{
      "cell_type": "code",
      "execution_count": 8,
      "metadata": {},
      "outputs": [
      {
          "name": "stdout",
          "output_type": "stream",
          "text": [
          "* \u001b[33m527e07a\u001b[m\u001b[33m (\u001b[m\u001b[1;36mHEAD -> \u001b[m\u001b[1;32mmain\u001b[m\u001b[33m, \u001b[m\u001b[1;33mtag: v_tag\u001b[m\u001b[33m, \u001b[m\u001b[1;31morigin/main\u001b[m\u001b[33m, \u001b[m\u001b[1;32mnew_feature\u001b[m\u001b[33m)\u001b[m Create README.md\n",
"*   \u001b[33m679bb49\u001b[m archivo1.py con el merge resuelto\n",
"\u001b[32m|\u001b[m\u001b[33m\\\u001b[m  \n",
"\u001b[32m|\u001b[m * \u001b[33m32851c3\u001b[m archivo1.py en rama rama_con_conflicto\n",
"* \u001b[33m|\u001b[m \u001b[33m53f909b\u001b[m archivo1.py en rama main\n",
"\u001b[33m|\u001b[m\u001b[33m/\u001b[m  \n",
"* \u001b[33m52acb97\u001b[m Merge squash de los commits de la rama branch_squash\n",
"*   \u001b[33m274529c\u001b[m Merge branch 'branch_no_fast_forward' into main\n",
"\u001b[34m|\u001b[m\u001b[35m\\\u001b[m  \n",
"\u001b[34m|\u001b[m * \u001b[33m8df3429\u001b[m\u001b[33m (\u001b[m\u001b[1;32mbranch_no_fast_forward\u001b[m\u001b[33m)\u001b[m file2\n",
"\u001b[34m|\u001b[m * \u001b[33me4e23c9\u001b[m file1\n",
"* \u001b[35m|\u001b[m \u001b[33m8bdf4d8\u001b[m file3\n",
"\u001b[35m|\u001b[m\u001b[35m/\u001b[m  \n",
"* \u001b[33m94149fc\u001b[m\u001b[33m (\u001b[m\u001b[1;32mbranch_fast_forward\u001b[m\u001b[33m)\u001b[m Eliminado hola.py\n",
"* \u001b[33m4484e70\u001b[m Eliminado archivo4.py\n",
"* \u001b[33m564ccfb\u001b[m\u001b[33m (\u001b[m\u001b[1;32mnew_branch2\u001b[m\u001b[33m)\u001b[m Commit con el archivo 8\n",
"* \u001b[33m5168f78\u001b[m Eliminado archivo7.py\n",
"* \u001b[33m4bb9d75\u001b[m\u001b[33m (\u001b[m\u001b[1;33mtag: v_local\u001b[m\u001b[33m, \u001b[m\u001b[1;32mnew_branch\u001b[m\u001b[33m)\u001b[m Commit con el archivo 7\n",
"* \u001b[33mea615a9\u001b[m Eliminado archivo5.py\n",
"* \u001b[33me3153a5\u001b[m Commit con los archivos 4 y 5\n",
"* \u001b[33m0b09cfa\u001b[m Añadido .gitignore\n",
"* \u001b[33m04ebd1f\u001b[m Commit con los archivos 1 y 2\n",
"* \u001b[33mc4930d7\u001b[m Tercer commit, hola.py\n",
"* \u001b[33m6e99e73\u001b[m Segundo commit, hola.py\n",
"* \u001b[33m1c95e4f\u001b[m Primer commit, hola.py\n"
          ]
        }
      ],
      "source": [
      "!cd notebook_git && git tree"
      ]
    },
{
      "attachments": {},
      "cell_type": "markdown",
      "metadata": {},
      "source": [
      "No ponto do histórico em que criamos a tag, agora vemos a tag que criamos `* 4bb9d75 (tag: v_local, new_branch) Commit with file 7`."
      ]
    },
{
      "attachments": {},
      "cell_type": "markdown",
      "metadata": {},
      "source": [
      "### Alternar entre tags (`git reset --hard <tag>` ou `git reset --soft <tag>`)"
      ]
    },
{
      "attachments": {},
      "cell_type": "markdown",
      "metadata": {},
      "source": [
      "Assim como podemos nos mover entre commits no histórico, também podemos nos mover entre tags. Isso tem a vantagem de podermos nos mover para outro ponto no histórico sem precisarmos saber o hash. Sabendo o nome da tag que definimos naquele momento, podemos nos mover simplesmente fazendo `git reset --hard <tag>` ou `git reset --soft <tag>`."
      ]
    },
{
      "attachments": {},
      "cell_type": "markdown",
      "metadata": {},
      "source": [
      "Primeiro, vamos fazer um `ls` para ver quais arquivos temos"
      ]
    },
{
      "cell_type": "code",
      "execution_count": 6,
      "metadata": {},
      "outputs": [
      {
          "name": "stdout",
          "output_type": "stream",
          "text": [
          "api_keys.py  archivo1.py  archivo2.py  archivo8.py  README.md\n"
          ]
        }
      ],
      "source": [
      "!cd notebook_git && ls"
      ]
    },
{
      "attachments": {},
      "cell_type": "markdown",
      "metadata": {},
      "source": [
      "Fazemos uma `git tree` também para ver onde estamos em nossa história."
      ]
    },
{
      "cell_type": "code",
      "execution_count": 7,
      "metadata": {},
      "outputs": [
      {
          "name": "stdout",
          "output_type": "stream",
          "text": [
          "* \u001b[33m527e07a\u001b[m\u001b[33m (\u001b[m\u001b[1;36mHEAD -> \u001b[m\u001b[1;32mmain\u001b[m\u001b[33m, \u001b[m\u001b[1;33mtag: v_tag\u001b[m\u001b[33m, \u001b[m\u001b[1;31morigin/main\u001b[m\u001b[33m, \u001b[m\u001b[1;32mnew_feature\u001b[m\u001b[33m)\u001b[m Create README.md\n",
"*   \u001b[33m679bb49\u001b[m archivo1.py con el merge resuelto\n",
"\u001b[32m|\u001b[m\u001b[33m\\\u001b[m  \n",
"\u001b[32m|\u001b[m * \u001b[33m32851c3\u001b[m archivo1.py en rama rama_con_conflicto\n",
"* \u001b[33m|\u001b[m \u001b[33m53f909b\u001b[m archivo1.py en rama main\n",
"\u001b[33m|\u001b[m\u001b[33m/\u001b[m  \n",
"* \u001b[33m52acb97\u001b[m Merge squash de los commits de la rama branch_squash\n",
"*   \u001b[33m274529c\u001b[m Merge branch 'branch_no_fast_forward' into main\n",
"\u001b[34m|\u001b[m\u001b[35m\\\u001b[m  \n",
"\u001b[34m|\u001b[m * \u001b[33m8df3429\u001b[m\u001b[33m (\u001b[m\u001b[1;32mbranch_no_fast_forward\u001b[m\u001b[33m)\u001b[m file2\n",
"\u001b[34m|\u001b[m * \u001b[33me4e23c9\u001b[m file1\n",
"* \u001b[35m|\u001b[m \u001b[33m8bdf4d8\u001b[m file3\n",
"\u001b[35m|\u001b[m\u001b[35m/\u001b[m  \n",
"* \u001b[33m94149fc\u001b[m\u001b[33m (\u001b[m\u001b[1;32mbranch_fast_forward\u001b[m\u001b[33m)\u001b[m Eliminado hola.py\n",
"* \u001b[33m4484e70\u001b[m Eliminado archivo4.py\n",
"* \u001b[33m564ccfb\u001b[m\u001b[33m (\u001b[m\u001b[1;32mnew_branch2\u001b[m\u001b[33m)\u001b[m Commit con el archivo 8\n",
"* \u001b[33m5168f78\u001b[m Eliminado archivo7.py\n",
"* \u001b[33m4bb9d75\u001b[m\u001b[33m (\u001b[m\u001b[1;33mtag: v_local\u001b[m\u001b[33m, \u001b[m\u001b[1;32mnew_branch\u001b[m\u001b[33m)\u001b[m Commit con el archivo 7\n",
"* \u001b[33mea615a9\u001b[m Eliminado archivo5.py\n",
"* \u001b[33me3153a5\u001b[m Commit con los archivos 4 y 5\n",
"* \u001b[33m0b09cfa\u001b[m Añadido .gitignore\n",
"* \u001b[33m04ebd1f\u001b[m Commit con los archivos 1 y 2\n",
"* \u001b[33mc4930d7\u001b[m Tercer commit, hola.py\n",
"* \u001b[33m6e99e73\u001b[m Segundo commit, hola.py\n",
"* \u001b[33m1c95e4f\u001b[m Primer commit, hola.py\n"
          ]
        }
      ],
      "source": [
      "!cd notebook_git && git tree"
      ]
    },
{
      "attachments": {},
      "cell_type": "markdown",
      "metadata": {},
      "source": [
      "Agora, voltamos ao ponto em que criamos a tag `v_local` usando `git reset --hard v_local`."
      ]
    },
{
      "cell_type": "code",
      "execution_count": 10,
      "metadata": {},
      "outputs": [
      {
          "name": "stdout",
          "output_type": "stream",
          "text": [
          "HEAD está ahora en 4bb9d75 Commit con el archivo 7\n"
          ]
        }
      ],
      "source": [
      "!cd notebook_git && git reset --hard v_local"
      ]
    },
{
      "attachments": {},
      "cell_type": "markdown",
      "metadata": {},
      "source": [
      "Se refizermos agora um `ls`, veremos que não temos os mesmos arquivos."
      ]
    },
{
      "cell_type": "code",
      "execution_count": 11,
      "metadata": {},
      "outputs": [
      {
          "name": "stdout",
          "output_type": "stream",
          "text": [
          "api_keys.py  archivo1.py  archivo2.py  archivo4.py  archivo7.py  hola.py\n"
          ]
        }
      ],
      "source": [
      "!cd notebook_git && ls"
      ]
    },
{
      "attachments": {},
      "cell_type": "markdown",
      "metadata": {},
      "source": [
      "Se também olharmos para a história, veremos que mudamos o momento da história"
      ]
    },
{
      "cell_type": "code",
      "execution_count": 12,
      "metadata": {},
      "outputs": [
      {
          "name": "stdout",
          "output_type": "stream",
          "text": [
          "* \u001b[33m4bb9d75\u001b[m\u001b[33m (\u001b[m\u001b[1;36mHEAD -> \u001b[m\u001b[1;32mmain\u001b[m\u001b[33m, \u001b[m\u001b[1;33mtag: v_local\u001b[m\u001b[33m, \u001b[m\u001b[1;32mnew_branch\u001b[m\u001b[33m)\u001b[m Commit con el archivo 7\n",
"* \u001b[33mea615a9\u001b[m Eliminado archivo5.py\n",
"* \u001b[33me3153a5\u001b[m Commit con los archivos 4 y 5\n",
"* \u001b[33m0b09cfa\u001b[m Añadido .gitignore\n",
"* \u001b[33m04ebd1f\u001b[m Commit con los archivos 1 y 2\n",
"* \u001b[33mc4930d7\u001b[m Tercer commit, hola.py\n",
"* \u001b[33m6e99e73\u001b[m Segundo commit, hola.py\n",
"* \u001b[33m1c95e4f\u001b[m Primer commit, hola.py\n"
          ]
        }
      ],
      "source": [
      "!cd notebook_git && git tree"
      ]
    },
{
      "attachments": {},
      "cell_type": "markdown",
      "metadata": {},
      "source": [
      "Para voltar ao último ponto do histórico, como também criamos uma tag, basta fazer `git reset --hard v_tag`."
      ]
    },
{
      "cell_type": "code",
      "execution_count": 13,
      "metadata": {},
      "outputs": [
      {
          "name": "stdout",
          "output_type": "stream",
          "text": [
          "HEAD está ahora en 527e07a Create README.md\n"
          ]
        }
      ],
      "source": [
      "!cd notebook_git && git reset --hard v_tag"
      ]
    },
{
      "attachments": {},
      "cell_type": "markdown",
      "metadata": {},
      "source": [
      "Analisamos o histórico novamente para verificar se estamos de volta ao último momento do histórico."
      ]
    },
{
      "cell_type": "code",
      "execution_count": 14,
      "metadata": {},
      "outputs": [
      {
          "name": "stdout",
          "output_type": "stream",
          "text": [
          "* \u001b[33m527e07a\u001b[m\u001b[33m (\u001b[m\u001b[1;36mHEAD -> \u001b[m\u001b[1;32mmain\u001b[m\u001b[33m, \u001b[m\u001b[1;33mtag: v_tag\u001b[m\u001b[33m, \u001b[m\u001b[1;31morigin/main\u001b[m\u001b[33m, \u001b[m\u001b[1;32mnew_feature\u001b[m\u001b[33m)\u001b[m Create README.md\n",
"*   \u001b[33m679bb49\u001b[m archivo1.py con el merge resuelto\n",
"\u001b[32m|\u001b[m\u001b[33m\\\u001b[m  \n",
"\u001b[32m|\u001b[m * \u001b[33m32851c3\u001b[m archivo1.py en rama rama_con_conflicto\n",
"* \u001b[33m|\u001b[m \u001b[33m53f909b\u001b[m archivo1.py en rama main\n",
"\u001b[33m|\u001b[m\u001b[33m/\u001b[m  \n",
"* \u001b[33m52acb97\u001b[m Merge squash de los commits de la rama branch_squash\n",
"*   \u001b[33m274529c\u001b[m Merge branch 'branch_no_fast_forward' into main\n",
"\u001b[34m|\u001b[m\u001b[35m\\\u001b[m  \n",
"\u001b[34m|\u001b[m * \u001b[33m8df3429\u001b[m\u001b[33m (\u001b[m\u001b[1;32mbranch_no_fast_forward\u001b[m\u001b[33m)\u001b[m file2\n",
"\u001b[34m|\u001b[m * \u001b[33me4e23c9\u001b[m file1\n",
"* \u001b[35m|\u001b[m \u001b[33m8bdf4d8\u001b[m file3\n",
"\u001b[35m|\u001b[m\u001b[35m/\u001b[m  \n",
"* \u001b[33m94149fc\u001b[m\u001b[33m (\u001b[m\u001b[1;32mbranch_fast_forward\u001b[m\u001b[33m)\u001b[m Eliminado hola.py\n",
"* \u001b[33m4484e70\u001b[m Eliminado archivo4.py\n",
"* \u001b[33m564ccfb\u001b[m\u001b[33m (\u001b[m\u001b[1;32mnew_branch2\u001b[m\u001b[33m)\u001b[m Commit con el archivo 8\n",
"* \u001b[33m5168f78\u001b[m Eliminado archivo7.py\n",
"* \u001b[33m4bb9d75\u001b[m\u001b[33m (\u001b[m\u001b[1;33mtag: v_local\u001b[m\u001b[33m, \u001b[m\u001b[1;32mnew_branch\u001b[m\u001b[33m)\u001b[m Commit con el archivo 7\n",
"* \u001b[33mea615a9\u001b[m Eliminado archivo5.py\n",
"* \u001b[33me3153a5\u001b[m Commit con los archivos 4 y 5\n",
"* \u001b[33m0b09cfa\u001b[m Añadido .gitignore\n",
"* \u001b[33m04ebd1f\u001b[m Commit con los archivos 1 y 2\n",
"* \u001b[33mc4930d7\u001b[m Tercer commit, hola.py\n",
"* \u001b[33m6e99e73\u001b[m Segundo commit, hola.py\n",
"* \u001b[33m1c95e4f\u001b[m Primer commit, hola.py\n"
          ]
        }
      ],
      "source": [
      "!cd notebook_git && git tree"
      ]
    }
  ],
  "metadata": {
    "kernelspec": {
      "display_name": "base",
      "language": "python",
      "name": "python3"
    },
    "language_info": {
      "codemirror_mode": {
        "name": "ipython",
        "version": 3
      },
      "file_extension": ".py",
      "mimetype": "text/x-python",
      "name": "python",
      "nbconvert_exporter": "python",
      "pygments_lexer": "ipython3",
      "version": "3.10.9"
    },
    "orig_nbformat": 4
  },
  "nbformat": 4,
  "nbformat_minor": 2
}
