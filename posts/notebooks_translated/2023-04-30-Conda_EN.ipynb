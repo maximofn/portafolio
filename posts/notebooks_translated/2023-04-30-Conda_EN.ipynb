{
  "cells": [
  {
      "attachments": {},
      "cell_type": "markdown",
      "metadata": {},
      "source": [
      "# Conda"
      ]
    },
{
      "attachments": {},
      "cell_type": "markdown",
      "metadata": {},
      "source": [
      "When working in data science, artificial intelligence, deep learning, or whatever you want to call it, we are going to do several projects. And you may have to install for example version 11.6 of cuda in some of them and 11.8 in others. And in those cases I advise you, never fight with cuda, it always wins.\n",
"\n",
"Therefore it is best to create separate environments for each project. This way you can install what you want in each environment and not globally. And this way you will not have problems of incopatibilities with library versions.\n",
"\n",
"To create environments python brings by default `venv` which are your virtual environments. But I recommend you to use `conda` to create your virtual environments, because apart from creating virtual environments, it is also a package manager, and it is a better package manager than `pip`.\n",
"\n",
"This is not a post explaining `conda`, so you will not find how to install it or how to use it. It is a post telling the advantages of using `conda` and also of using `mamba` (which we will explain later)."
      ]
    },
{
      "attachments": {},
      "cell_type": "markdown",
      "metadata": {},
      "source": [
      "This notebook has been automatically translated to make it accessible to more people, please let me know if you see any typos.\n",
"\n",
"I will create three different conda environments, one will be called `pip_env`, one `conda_env` and one `mamba_env`."
      ]
    },
{
      "attachments": {},
      "cell_type": "markdown",
      "metadata": {},
      "source": [
      "## Conda vs PIP"
      ]
    },
{
      "attachments": {},
      "cell_type": "markdown",
      "metadata": {},
      "source": [
      "### pip_env"
      ]
    },
{
      "attachments": {},
      "cell_type": "markdown",
      "metadata": {},
      "source": [
      "I will create a new environment called `pip_env`."
      ]
    },
{
      "cell_type": "code",
      "execution_count": "None",
      "metadata": {},
      "outputs": [],
      "source": [
      "!conda create -n pip_env"
      ]
    },
{
      "attachments": {},
      "cell_type": "markdown",
      "metadata": {},
      "source": [
      "In the `pip_env` environment I will install `pandas`."
      ]
    },
{
      "cell_type": "code",
      "execution_count": 1,
      "metadata": {},
      "outputs": [
      {
          "name": "stdout",
          "output_type": "stream",
          "text": [
          "Collecting pandas\n",
"  Using cached pandas-2.0.1-cp310-cp310-manylinux_2_17_x86_64.manylinux2014_x86_64.whl (12.3 MB)\n",
"Requirement already satisfied: numpy>=1.21.0 in /home/wallabot/miniconda3/envs/pip_env/lib/python3.10/site-packages (from pandas) (1.24.3)\n",
"Requirement already satisfied: python-dateutil>=2.8.2 in /home/wallabot/miniconda3/envs/pip_env/lib/python3.10/site-packages (from pandas) (2.8.2)\n",
"Requirement already satisfied: pytz>=2020.1 in /home/wallabot/miniconda3/envs/pip_env/lib/python3.10/site-packages (from pandas) (2023.3)\n",
"Requirement already satisfied: tzdata>=2022.1 in /home/wallabot/miniconda3/envs/pip_env/lib/python3.10/site-packages (from pandas) (2023.3)\n",
"Requirement already satisfied: six>=1.5 in /home/wallabot/miniconda3/envs/pip_env/lib/python3.10/site-packages (from python-dateutil>=2.8.2->pandas) (1.16.0)\n",
"Installing collected packages: pandas\n",
"Successfully installed pandas-2.0.1\n"
          ]
        }
      ],
      "source": [
      "# pip_env\n",
"!pip install pandas"
      ]
    },
{
      "attachments": {},
      "cell_type": "markdown",
      "metadata": {},
      "source": [
      "As you can see in the text that came out when installing `pandas`, it depends on `numpy` so it installs it in its version `1.24.3`. But if for whatever reason we need `numpy` in its version `1.19`, if we try to install it, it will give us an error"
      ]
    },
{
      "cell_type": "code",
      "execution_count": 2,
      "metadata": {},
      "outputs": [
      {
          "name": "stdout",
          "output_type": "stream",
          "text": [
          "Collecting numpy==1.19.0\n",
"  Using cached numpy-1.19.0.zip (7.3 MB)\n",
"  Installing build dependencies ... \u001b[?25ldone\n",
"\u001b[?25h  Getting requirements to build wheel ... \u001b[?25ldone\n",
"\u001b[?25h  Preparing metadata (pyproject.toml) ... \u001b[?25ldone\n",
"\u001b[?25hBuilding wheels for collected packages: numpy\n",
"  Building wheel for numpy (pyproject.toml) ... \u001b[?25lerror\n",
"  \u001b[1;31merror\u001b[0m: \u001b[1msubprocess-exited-with-error\u001b[0m\n",
"  \n",
"  \u001b[31m×\u001b[0m \u001b[32mBuilding wheel for numpy \u001b[0m\u001b[1;32m(\u001b[0m\u001b[32mpyproject.toml\u001b[0m\u001b[1;32m)\u001b[0m did not run successfully.\n",
"  \u001b[31m│\u001b[0m exit code: \u001b[1;36m1\u001b[0m\n",
"  \u001b[31m╰─>\u001b[0m \u001b[31m[1113 lines of output]\u001b[0m\n",
"  \u001b[31m   \u001b[0m Running from numpy source directory.\n",
"  \u001b[31m   \u001b[0m Cythonizing sources\n",
"  \u001b[31m   \u001b[0m numpy/random/_bounded_integers.pxd.in has not changed\n",
"  \u001b[31m   \u001b[0m numpy/random/_bounded_integers.pyx.in has not changed\n",
"  \u001b[31m   \u001b[0m numpy/random/_philox.pyx has not changed\n",
"  \u001b[31m   \u001b[0m numpy/random/_mt19937.pyx has not changed\n",
"  \u001b[31m   \u001b[0m numpy/random/_sfc64.pyx has not changed\n",
"  \u001b[31m   \u001b[0m numpy/random/mtrand.pyx has not changed\n",
"  \u001b[31m   \u001b[0m numpy/random/_common.pyx has not changed\n",
"  \u001b[31m   \u001b[0m Processing numpy/random/_bounded_integers.pyx\n",
"  \u001b[31m   \u001b[0m /tmp/pip-install-ck7a9pm3/numpy_29fbb9718a2c432e9d67310f12d6c54b/tools/cythonize.py:73: DeprecationWarning: distutils Version classes are deprecated. Use packaging.version instead.\n",
"  \u001b[31m   \u001b[0m   required_version = LooseVersion('0.29.14')\n",
"  \u001b[31m   \u001b[0m /tmp/pip-install-ck7a9pm3/numpy_29fbb9718a2c432e9d67310f12d6c54b/tools/cythonize.py:75: DeprecationWarning: distutils Version classes are deprecated. Use packaging.version instead.\n",
"  ...",
"  \u001b[1;35mnote\u001b[0m: This error originates from a subprocess, and is likely not a problem with pip.\n",
"\u001b[?25h\u001b[31m  ERROR: Failed building wheel for numpy\u001b[0m\u001b[31m\n",
"\u001b[0mFailed to build numpy\n",
"\u001b[31mERROR: Could not build wheels for numpy, which is required to install pyproject.toml-based projects\u001b[0m\u001b[31m\n",
"\u001b[0m"
          ]
        }
      ],
      "source": [
      "# pip_env\n",
"!pip install numpy==1.19.0"
      ]
    },
{
      "attachments": {},
      "cell_type": "markdown",
      "metadata": {},
      "source": [
      "We got an error, and if we see what version of `numpy` we have, we see that we are still with `1.24.3`."
      ]
    },
{
      "cell_type": "code",
      "execution_count": 3,
      "metadata": {},
      "outputs": [
      {
          "data": {
            "text/plain": [
            "'1.24.3'"
            ]
          },
          "execution_count": 3,
          "metadata": {},
          "output_type": "execute_result"
        }
      ],
      "source": [
      "# pip_env\n",
"import numpy as np\n",
"np.__version__"
      ]
    },
{
      "attachments": {},
      "cell_type": "markdown",
      "metadata": {},
      "source": [
      "And we see which version of `pandas` we have"
      ]
    },
{
      "cell_type": "code",
      "execution_count": 4,
      "metadata": {},
      "outputs": [
      {
          "data": {
            "text/plain": [
            "'2.0.1'"
            ]
          },
          "execution_count": 4,
          "metadata": {},
          "output_type": "execute_result"
        }
      ],
      "source": [
      "# pip_env\n",
"import pandas as pd\n",
"pd.__version__"
      ]
    },
{
      "attachments": {},
      "cell_type": "markdown",
      "metadata": {},
      "source": [
      "### conda_env"
      ]
    },
{
      "attachments": {},
      "cell_type": "markdown",
      "metadata": {},
      "source": [
      "To resolve this conflict, we can use `conda`, I create a new environment called `conda_env`."
      ]
    },
{
      "cell_type": "code",
      "execution_count": "None",
      "metadata": {},
      "outputs": [],
      "source": [
      "!conda create -n conda_env"
      ]
    },
{
      "attachments": {},
      "cell_type": "markdown",
      "metadata": {},
      "source": [
      "and now we tell it that we want to install `numpy` in version `1.19` and `pandas`, and `conda` will look for the way to do it"
      ]
    },
{
      "cell_type": "code",
      "execution_count": 8,
      "metadata": {},
      "outputs": [
      {
          "name": "stdout",
          "output_type": "stream",
          "text": [
          "Collecting package metadata (current_repodata.json): done\n",
"Solving environment: failed with initial frozen solve. Retrying with flexible solve.\n",
"Collecting package metadata (repodata.json): done\n",
"Solving environment: done\n",
"\n",
"## Package Plan ##\n",
"\n",
"  environment location: /home/wallabot/miniconda3/envs/conda_env\n",
"\n",
"  added / updated specs:\n",
"    - numpy=1.19\n",
"    - pandas\n",
"\n",
"\n",
"The following packages will be downloaded:\n",
"\n",
"    package                    |            build\n",
"    ---------------------------|-----------------\n",
"    ca-certificates-2023.01.10 |       h06a4308_0         120 KB\n",
"    certifi-2021.5.30          |   py36h06a4308_0         139 KB\n",
"    intel-openmp-2022.1.0      |    h9e868ea_3769         4.5 MB\n",
"    mkl-2020.2                 |              256       138.3 MB\n",
"    mkl-service-2.3.0          |   py36he8ac12f_0          52 KB\n",
"    mkl_fft-1.3.0              |   py36h54f3939_0         170 KB\n",
"    mkl_random-1.1.1           |   py36h0573a6f_0         327 KB\n",
"    numpy-1.19.2               |   py36h54aff64_0          22 KB\n",
"    numpy-base-1.19.2          |   py36hfa32c7d_0         4.1 MB\n",
"    pandas-1.1.5               |   py36ha9443f7_0         8.2 MB\n",
"    pytz-2021.3                |     pyhd3eb1b0_0         171 KB\n",
"    ------------------------------------------------------------\n",
"                                           Total:       156.1 MB\n",
"...",
"Preparing transaction: done\n",
"Verifying transaction: done\n",
"Executing transaction: done\n"
          ]
        }
      ],
      "source": [
      "# conda_env\n",
"!conda install -y numpy=1.19 pandas"
      ]
    },
{
      "attachments": {},
      "cell_type": "markdown",
      "metadata": {},
      "source": [
      "It seems to have succeeded, let's see"
      ]
    },
{
      "cell_type": "code",
      "execution_count": 1,
      "metadata": {},
      "outputs": [
      {
          "data": {
            "text/plain": [
            "'1.19.2'"
            ]
          },
          "execution_count": 1,
          "metadata": {},
          "output_type": "execute_result"
        }
      ],
      "source": [
      "# conda_env\n",
"import numpy as np\n",
"np.__version__"
      ]
    },
{
      "cell_type": "code",
      "execution_count": 2,
      "metadata": {},
      "outputs": [
      {
          "data": {
            "text/plain": [
            "'1.1.5'"
            ]
          },
          "execution_count": 2,
          "metadata": {},
          "output_type": "execute_result"
        }
      ],
      "source": [
      "# conda_env\n",
"import pandas as pd\n",
"pd.__version__"
      ]
    },
{
      "attachments": {},
      "cell_type": "markdown",
      "metadata": {},
      "source": [
      "We can see that he was able to install both, only that in order to solve the conflicts he installed `pandas` in version `1.1.5`, instead of version `2.0.1` which he had installed `pip`."
      ]
    },
{
      "attachments": {},
      "cell_type": "markdown",
      "metadata": {},
      "source": [
      "## Mamba vs conda"
      ]
    },
{
      "attachments": {},
      "cell_type": "markdown",
      "metadata": {},
      "source": [
      "Once we have seen that conda is better for resolving conflicts, let's see now the difference between using `mamba` and `conda`. `Conda` as we have seen is very good at resolving conflicts, but it has the problem that it is slow installing packages, since the dependencies are installed in series, one after the other. Thanks to `mamba` we will have the same benefits of `conda`, only that the dependencies will be installed in parallel, making use of the kernels that we have in our bug."
      ]
    },
{
      "attachments": {},
      "cell_type": "markdown",
      "metadata": {},
      "source": [
      "### conda_env"
      ]
    },
{
      "attachments": {},
      "cell_type": "markdown",
      "metadata": {},
      "source": [
      "Let's stay in the `conda_env` environment and see how long it takes to install `pytorch`. By putting `time` before a command we can see how long it takes to run"
      ]
    },
{
      "cell_type": "code",
      "execution_count": 2,
      "metadata": {},
      "outputs": [
      {
          "name": "stdout",
          "output_type": "stream",
          "text": [
          "Collecting package metadata (current_repodata.json): done\n",
"Solving environment: failed with initial frozen solve. Retrying with flexible solve.\n",
"Solving environment: failed with repodata from current_repodata.json, will retry with next repodata source.\n",
"Collecting package metadata (repodata.json): done\n",
"Solving environment: done\n",
"\n",
"## Package Plan ##\n",
"\n",
"  environment location: /home/wallabot/miniconda3/envs/conda_env\n",
"\n",
"  added / updated specs:\n",
"    - pytorch\n",
"    - pytorch-cuda=11.8\n",
"    - torchaudio\n",
"    - torchvision\n",
"\n",
"\n",
"The following packages will be downloaded:\n",
"\n",
"    package                    |            build\n",
"    ---------------------------|-----------------\n",
"    bzip2-1.0.8                |       h7b6447c_0          78 KB\n",
"    cuda-cudart-11.8.89        |                0         197 KB  nvidia\n",
"    cuda-cupti-11.8.87         |                0        25.3 MB  nvidia\n",
"    cuda-libraries-11.8.0      |                0           1 KB  nvidia\n",
"    cuda-nvrtc-11.8.89         |                0        19.1 MB  nvidia\n",
"    cuda-nvtx-11.8.86          |                0          57 KB  nvidia\n",
"    cuda-runtime-11.8.0        |                0           1 KB  nvidia\n",
"    cudatoolkit-11.3.1         |       ha36c431_9       815.2 MB  nvidia\n",
"    dataclasses-0.8            |     pyh4f3eec9_6          22 KB\n",
"    libcublas-11.11.3.6        |                0       364.0 MB  nvidia\n",
"    libcufft-10.9.0.58         |                0       142.8 MB  nvidia\n",
"    libcufile-1.6.1.9          |                0         764 KB  nvidia\n",
"    libcurand-10.3.2.106       |                0        51.7 MB  nvidia\n",
"    libcusolver-11.4.1.48      |                0        96.5 MB  nvidia\n",
"    libcusparse-11.7.5.86      |                0       176.3 MB  nvidia\n",
"    libnpp-11.8.0.86           |                0       147.8 MB  nvidia\n",
"    libnvjpeg-11.9.0.86        |                0         2.4 MB  nvidia\n",
"    olefile-0.46               |           py36_0          48 KB\n",
"    openjpeg-2.4.0             |       h3ad879b_0         331 KB\n",
"    pillow-8.3.1               |   py36h2c7a002_0         637 KB\n",
"    pytorch-1.10.2             |py3.6_cuda11.3_cudnn8.2.0_0        1.21 GB  pytorch\n",
"    pytorch-cuda-11.8          |       h7e8668a_3           7 KB  pytorch\n",
"    torchaudio-0.10.2          |       py36_cu113         4.5 MB  pytorch\n",
"    torchvision-0.11.3         |       py36_cu113        30.4 MB  pytorch\n",
"    typing_extensions-4.1.1    |     pyh06a4308_0          28 KB\n",
"    ------------------------------------------------------------\n",
"                                           Total:        3.04 GB\n",
"...",
"Preparing transaction: done\n",
"Verifying transaction: done\n",
"Executing transaction: / By downloading and using the CUDA Toolkit conda packages, you accept the terms and conditions of the CUDA End User License Agreement (EULA): https://docs.nvidia.com/cuda/eula/index.html\n",
"\n",
"done\n",
"conda install -y pytorch torchvision torchaudio pytorch-cuda=11.8 -c pytorch   294,42s user 18,01s system 187% cpu 2:46,42 total\n"
          ]
        }
      ],
      "source": [
      "# conda_env\n",
"!time conda install -y pytorch torchvision torchaudio pytorch-cuda=11.8 -c pytorch -c nvidia"
      ]
    },
{
      "attachments": {},
      "cell_type": "markdown",
      "metadata": {},
      "source": [
      "We see that it has taken 294.42 seconds, about 4.9 minutes, almost 5 minutes."
      ]
    },
{
      "attachments": {},
      "cell_type": "markdown",
      "metadata": {},
      "source": [
      "### mamba_env"
      ]
    },
{
      "attachments": {},
      "cell_type": "markdown",
      "metadata": {},
      "source": [
      "Now we are going to reinstall `pytorch`, but with `mamba`. First we create an environment called `mamba_env`."
      ]
    },
{
      "cell_type": "code",
      "execution_count": "None",
      "metadata": {},
      "outputs": [],
      "source": [
      "!conda create -n mamba_env"
      ]
    },
{
      "attachments": {},
      "cell_type": "markdown",
      "metadata": {},
      "source": [
      "To install `mamba`, download it from [mambaforge](https://github.com/conda-forge/miniforge#mambaforge) and install it."
      ]
    },
{
      "attachments": {},
      "cell_type": "markdown",
      "metadata": {},
      "source": [
      "Now we reinstall `pytorch` in `mamba_env`."
      ]
    },
{
      "cell_type": "code",
      "execution_count": 1,
      "metadata": {},
      "outputs": [
      {
          "name": "stdout",
          "output_type": "stream",
          "text": [
          "\n",
"                  __    __    __    __\n",
"                 /  \\  /  \\  /  \\  /  \\\n",
"                /    \\/    \\/    \\/    \\\n",
"███████████████/  /██/  /██/  /██/  /████████████████████████\n",
"              /  / \\   / \\   / \\   / \\  \\____\n",
"             /  /   \\_/   \\_/   \\_/   \\    o \\__,\n",
"            / _/                       \\_____/  `\n",
"            |/\n",
"        ███╗   ███╗ █████╗ ███╗   ███╗██████╗  █████╗\n",
"        ████╗ ████║██╔══██╗████╗ ████║██╔══██╗██╔══██╗\n",
"        ██╔████╔██║███████║██╔████╔██║██████╔╝███████║\n",
"        ██║╚██╔╝██║██╔══██║██║╚██╔╝██║██╔══██╗██╔══██║\n",
"        ██║ ╚═╝ ██║██║  ██║██║ ╚═╝ ██║██████╔╝██║  ██║\n",
"        ╚═╝     ╚═╝╚═╝  ╚═╝╚═╝     ╚═╝╚═════╝ ╚═╝  ╚═╝\n",
"\n",
"        mamba (1.3.1) supported by @QuantStack\n",
"\n",
"        GitHub:  https://github.com/mamba-org/mamba\n",
"        Twitter: https://twitter.com/QuantStack\n",
"\n",
"█████████████████████████████████████████████████████████████\n",
"\n",
"\n",
"Looking for: ['pytorch', 'torchvision', 'torchaudio', 'pytorch-cuda=11.8']\n",
"\n",
"\u001b[33m\u001b[1mwarning  libmamba\u001b[m Could not parse state file: Could not load cache state: [json.exception.type_error.302] type must be string, but is null\n",
"\u001b[33m\u001b[1mwarning  libmamba\u001b[m Could not parse state file: Could not load cache state: [json.exception.type_error.302] type must be string, but is null\n",
"\u001b[33m\u001b[1mwarning  libmamba\u001b[m Could not parse state file: Could not load cache state: [json.exception.type_error.302] type must be string, but is null\n",
"\u001b[33m\u001b[1mwarning  libmamba\u001b[m Could not parse state file: Could not load cache state: [json.exception.type_error.302] type must be string, but is null\n",
"\u001b[?25l\u001b[2K\u001b[0G[+] 0.0s\n",
"\u001b[2K\u001b[1A\u001b[2K\u001b[0G[+] 0.1s\n",
"pytorch/linux-64   \u001b[33m━━━━━━━━━━━╸\u001b[0m\u001b[90m━━━━━━━━━━━━━\u001b[0m   0.0 B /  ??.?MB @  ??.?MB/s  0.1s\n",
"pytorch/noarch     \u001b[90m━━━╸\u001b[0m\u001b[33m━━━━━━━━━━━━━━━╸\u001b[0m\u001b[90m━━━━━\u001b[0m   0.0 B /  ??.?MB @  ??.?MB/s  0.1s\n",
"nvidia/linux-64    \u001b[90m━━━━━━━━━╸\u001b[0m\u001b[33m━━━━━━━━━━━━━━━\u001b[0m   0.0 B /  ??.?MB @  ??.?MB/s  0.1s\n",
"nvidia/noarch      \u001b[33m━━━━━━━━╸\u001b[0m\u001b[90m━━━━━━━━━━━━━━━━\u001b[0m   0.0 B /  ??.?MB @  ??.?MB/s  0.1s\n",
"pkgs/main/linux-64 \u001b[33m━━━━━━━━━━━━━━━╸\u001b[0m\u001b[90m━━━━━━━━━\u001b[0m   0.0 B /  ??.?MB @  ??.?MB/s  0.1s\u001b[2K\u001b[1A\u001b[2K\u001b[1A\u001b[2K\u001b[1A\u001b[2K\u001b[1A\u001b[2K\u001b[1A\u001b[2K\u001b[0Gpkgs/main/linux-64                                            No change\n",
"pkgs/r/noarch                                                 No change\n",
"pytorch/noarch                                      10.1kB @  58.3kB/s  0.2s\n",
"nvidia/noarch                                        3.4kB @  18.7kB/s  0.2s\n",
"pkgs/main/noarch                                              No change\n",
"[+] 0.2s\n",
"pytorch/linux-64 \u001b[33m━━━━━━━━━━━━━━╸\u001b[0m\u001b[90m━━━━━━━━━━━━\u001b[0m   0.0 B /  ??.?MB @  ??.?MB/s  0.2s\n",
"nvidia/linux-64  \u001b[90m━━━━━━━━━━━━━╸\u001b[0m\u001b[33m━━━━━━━━━━━━━\u001b[0m   0.0 B /  ??.?MB @  ??.?MB/s  0.2s\n",
"pkgs/r/linux-64  \u001b[33m━━━━━━━━━━━━╸\u001b[0m\u001b[90m━━━━━━━━━━━━━━\u001b[0m   0.0 B /  ??.?MB @  ??.?MB/s  0.0s\u001b[2K\u001b[1A\u001b[2K\u001b[1A\u001b[2K\u001b[1A\u001b[2K\u001b[0Gpytorch/linux-64                                   163.4kB @ 801.5kB/s  0.2s\n",
"pkgs/r/linux-64                                               No change\n",
"nvidia/linux-64                                    120.2kB @ 566.5kB/s  0.2s\n",
"\u001b[?25h\n",
"Pinned packages:\n",
"  - python 3.10.*\n",
"\n",
"\n",
"Transaction\n",
"\n",
"  Prefix: /home/wallabot/miniconda3/envs/mamba_env2\n",
"\n",
"  Updating specs:\n",
"\n",
"   - pytorch\n",
"   - torchvision\n",
"   - torchaudio\n",
"   - pytorch-cuda=11.8\n",
"   - ca-certificates\n",
"   - certifi\n",
"   - openssl\n",
"\n",
"\n",
"  Package                  Version  Build                         Channel                  Size\n",
"─────────────────────────────────────────────────────────────────────────────────────────────────\n",
"  Install:\n",
"─────────────────────────────────────────────────────────────────────────────────────────────────\n",
"\n",
"  \u001b[32m+ blas              \u001b[0m         1.0  mkl                           pkgs/main/linux-64\u001b[32m     Cached\u001b[0m\n",
"  \u001b[32m+ brotlipy          \u001b[0m       0.7.0  py310h7f8727e_1002            pkgs/main/linux-64\u001b[32m     Cached\u001b[0m\n",
"  \u001b[32m+ cffi              \u001b[0m      1.15.1  py310h5eee18b_3               pkgs/main/linux-64\u001b[32m     Cached\u001b[0m\n",
"  \u001b[32m+ charset-normalizer\u001b[0m       2.0.4  pyhd3eb1b0_0                  pkgs/main/noarch  \u001b[32m     Cached\u001b[0m\n",
"  \u001b[32m+ cryptography      \u001b[0m      39.0.1  py310h9ce1e76_0               pkgs/main/linux-64\u001b[32m     Cached\u001b[0m\n",
"  \u001b[32m+ cuda-cudart       \u001b[0m     11.8.89  0                             nvidia/linux-64   \u001b[32m     Cached\u001b[0m\n",
"  \u001b[32m+ cuda-cupti        \u001b[0m     11.8.87  0                             nvidia/linux-64   \u001b[32m     Cached\u001b[0m\n",
"  \u001b[32m+ cuda-libraries    \u001b[0m      11.8.0  0                             nvidia/linux-64   \u001b[32m     Cached\u001b[0m\n",
"  \u001b[32m+ cuda-nvrtc        \u001b[0m     11.8.89  0                             nvidia/linux-64   \u001b[32m     Cached\u001b[0m\n",
"  \u001b[32m+ cuda-nvtx         \u001b[0m     11.8.86  0                             nvidia/linux-64   \u001b[32m     Cached\u001b[0m\n",
"  \u001b[32m+ cuda-runtime      \u001b[0m      11.8.0  0                             nvidia/linux-64   \u001b[32m     Cached\u001b[0m\n",
"  \u001b[32m+ ffmpeg            \u001b[0m         4.3  hf484d3e_0                    pytorch/linux-64  \u001b[32m     Cached\u001b[0m\n",
"  \u001b[32m+ filelock          \u001b[0m       3.9.0  py310h06a4308_0               pkgs/main/linux-64\u001b[32m     Cached\u001b[0m\n",
"  \u001b[32m+ freetype          \u001b[0m      2.12.1  h4a9f257_0                    pkgs/main/linux-64\u001b[32m     Cached\u001b[0m\n",
"  \u001b[32m+ giflib            \u001b[0m       5.2.1  h5eee18b_3                    pkgs/main/linux-64\u001b[32m     Cached\u001b[0m\n",
"  \u001b[32m+ gmp               \u001b[0m       6.2.1  h295c915_3                    pkgs/main/linux-64\u001b[32m     Cached\u001b[0m\n",
"  \u001b[32m+ gmpy2             \u001b[0m       2.1.2  py310heeb90bb_0               pkgs/main/linux-64\u001b[32m     Cached\u001b[0m\n",
"  \u001b[32m+ gnutls            \u001b[0m      3.6.15  he1e5248_0                    pkgs/main/linux-64\u001b[32m     Cached\u001b[0m\n",
"  \u001b[32m+ idna              \u001b[0m         3.4  py310h06a4308_0               pkgs/main/linux-64\u001b[32m     Cached\u001b[0m\n",
"  \u001b[32m+ intel-openmp      \u001b[0m    2021.4.0  h06a4308_3561                 pkgs/main/linux-64\u001b[32m     Cached\u001b[0m\n",
"  \u001b[32m+ jinja2            \u001b[0m       3.1.2  py310h06a4308_0               pkgs/main/linux-64\u001b[32m     Cached\u001b[0m\n",
"  \u001b[32m+ jpeg              \u001b[0m          9e  h5eee18b_1                    pkgs/main/linux-64\u001b[32m     Cached\u001b[0m\n",
"  \u001b[32m+ lame              \u001b[0m       3.100  h7b6447c_0                    pkgs/main/linux-64\u001b[32m     Cached\u001b[0m\n",
"  \u001b[32m+ lcms2             \u001b[0m        2.12  h3be6417_0                    pkgs/main/linux-64\u001b[32m     Cached\u001b[0m\n",
"  \u001b[32m+ lerc              \u001b[0m         3.0  h295c915_0                    pkgs/main/linux-64\u001b[32m     Cached\u001b[0m\n",
"  \u001b[32m+ libcublas         \u001b[0m   11.11.3.6  0                             nvidia/linux-64   \u001b[32m     Cached\u001b[0m\n",
"  \u001b[32m+ libcufft          \u001b[0m   10.9.0.58  0                             nvidia/linux-64   \u001b[32m     Cached\u001b[0m\n",
"  \u001b[32m+ libcufile         \u001b[0m     1.6.1.9  0                             nvidia/linux-64   \u001b[32m     Cached\u001b[0m\n",
"  \u001b[32m+ libcurand         \u001b[0m  10.3.2.106  0                             nvidia/linux-64   \u001b[32m     Cached\u001b[0m\n",
"  \u001b[32m+ libcusolver       \u001b[0m   11.4.1.48  0                             nvidia/linux-64   \u001b[32m     Cached\u001b[0m\n",
"  \u001b[32m+ libcusparse       \u001b[0m   11.7.5.86  0                             nvidia/linux-64   \u001b[32m     Cached\u001b[0m\n",
"  \u001b[32m+ libdeflate        \u001b[0m        1.17  h5eee18b_0                    pkgs/main/linux-64\u001b[32m     Cached\u001b[0m\n",
"  \u001b[32m+ libiconv          \u001b[0m        1.16  h7f8727e_2                    pkgs/main/linux-64\u001b[32m     Cached\u001b[0m\n",
"  \u001b[32m+ libidn2           \u001b[0m       2.3.2  h7f8727e_0                    pkgs/main/linux-64\u001b[32m     Cached\u001b[0m\n",
"  \u001b[32m+ libnpp            \u001b[0m   11.8.0.86  0                             nvidia/linux-64   \u001b[32m     Cached\u001b[0m\n",
"  \u001b[32m+ libnvjpeg         \u001b[0m   11.9.0.86  0                             nvidia/linux-64   \u001b[32m     Cached\u001b[0m\n",
"  \u001b[32m+ libpng            \u001b[0m      1.6.39  h5eee18b_0                    pkgs/main/linux-64\u001b[32m     Cached\u001b[0m\n",
"  \u001b[32m+ libtasn1          \u001b[0m      4.19.0  h5eee18b_0                    pkgs/main/linux-64\u001b[32m     Cached\u001b[0m\n",
"  \u001b[32m+ libtiff           \u001b[0m       4.5.0  h6a678d5_2                    pkgs/main/linux-64\u001b[32m     Cached\u001b[0m\n",
"  \u001b[32m+ libunistring      \u001b[0m      0.9.10  h27cfd23_0                    pkgs/main/linux-64\u001b[32m     Cached\u001b[0m\n",
"  \u001b[32m+ libwebp           \u001b[0m       1.2.4  h11a3e52_1                    pkgs/main/linux-64\u001b[32m     Cached\u001b[0m\n",
"  \u001b[32m+ libwebp-base      \u001b[0m       1.2.4  h5eee18b_1                    pkgs/main/linux-64\u001b[32m     Cached\u001b[0m\n",
"  \u001b[32m+ lz4-c             \u001b[0m       1.9.4  h6a678d5_0                    pkgs/main/linux-64\u001b[32m     Cached\u001b[0m\n",
"  \u001b[32m+ markupsafe        \u001b[0m       2.1.1  py310h7f8727e_0               pkgs/main/linux-64\u001b[32m     Cached\u001b[0m\n",
"  \u001b[32m+ mkl               \u001b[0m    2021.4.0  h06a4308_640                  pkgs/main/linux-64\u001b[32m     Cached\u001b[0m\n",
"  \u001b[32m+ mkl-service       \u001b[0m       2.4.0  py310h7f8727e_0               pkgs/main/linux-64\u001b[32m     Cached\u001b[0m\n",
"  \u001b[32m+ mkl_fft           \u001b[0m       1.3.1  py310hd6ae3a3_0               pkgs/main/linux-64\u001b[32m     Cached\u001b[0m\n",
"  \u001b[32m+ mkl_random        \u001b[0m       1.2.2  py310h00e6091_0               pkgs/main/linux-64\u001b[32m     Cached\u001b[0m\n",
"  \u001b[32m+ mpc               \u001b[0m       1.1.0  h10f8cd9_1                    pkgs/main/linux-64\u001b[32m     Cached\u001b[0m\n",
"  \u001b[32m+ mpfr              \u001b[0m       4.0.2  hb69a4c5_1                    pkgs/main/linux-64\u001b[32m     Cached\u001b[0m\n",
"  \u001b[32m+ mpmath            \u001b[0m       1.2.1  py310h06a4308_0               pkgs/main/linux-64\u001b[32m     Cached\u001b[0m\n",
"  \u001b[32m+ nettle            \u001b[0m       3.7.3  hbbd107a_1                    pkgs/main/linux-64\u001b[32m     Cached\u001b[0m\n",
"  \u001b[32m+ networkx          \u001b[0m       2.8.4  py310h06a4308_1               pkgs/main/linux-64\u001b[32m     Cached\u001b[0m\n",
"  \u001b[32m+ numpy             \u001b[0m      1.24.3  py310hd5efca6_0               pkgs/main/linux-64       11kB\n",
"  \u001b[32m+ numpy-base        \u001b[0m      1.24.3  py310h8e6c178_0               pkgs/main/linux-64        7MB\n",
"  \u001b[32m+ openh264          \u001b[0m       2.1.1  h4ff587b_0                    pkgs/main/linux-64\u001b[32m     Cached\u001b[0m\n",
"  \u001b[32m+ pillow            \u001b[0m       9.4.0  py310h6a678d5_0               pkgs/main/linux-64\u001b[32m     Cached\u001b[0m\n",
"  \u001b[32m+ pycparser         \u001b[0m        2.21  pyhd3eb1b0_0                  pkgs/main/noarch  \u001b[32m     Cached\u001b[0m\n",
"  \u001b[32m+ pyopenssl         \u001b[0m      23.0.0  py310h06a4308_0               pkgs/main/linux-64\u001b[32m     Cached\u001b[0m\n",
"  \u001b[32m+ pysocks           \u001b[0m       1.7.1  py310h06a4308_0               pkgs/main/linux-64\u001b[32m     Cached\u001b[0m\n",
"  \u001b[32m+ pytorch           \u001b[0m       2.0.0  py3.10_cuda11.8_cudnn8.7.0_0  pytorch/linux-64          2GB\n",
"  \u001b[32m+ pytorch-cuda      \u001b[0m        11.8  h7e8668a_3                    pytorch/linux-64  \u001b[32m     Cached\u001b[0m\n",
"  \u001b[32m+ pytorch-mutex     \u001b[0m         1.0  cuda                          pytorch/noarch    \u001b[32m     Cached\u001b[0m\n",
"  \u001b[32m+ requests          \u001b[0m      2.29.0  py310h06a4308_0               pkgs/main/linux-64       99kB\n",
"  \u001b[32m+ sympy             \u001b[0m      1.11.1  py310h06a4308_0               pkgs/main/linux-64\u001b[32m     Cached\u001b[0m\n",
"  \u001b[32m+ torchaudio        \u001b[0m       2.0.0  py310_cu118                   pytorch/linux-64          8MB\n",
"  \u001b[32m+ torchtriton       \u001b[0m       2.0.0  py310                         pytorch/linux-64  \u001b[32m     Cached\u001b[0m\n",
"  \u001b[32m+ torchvision       \u001b[0m      0.15.0  py310_cu118                   pytorch/linux-64          8MB\n",
"  \u001b[32m+ typing_extensions \u001b[0m       4.5.0  py310h06a4308_0               pkgs/main/linux-64       49kB\n",
"  \u001b[32m+ urllib3           \u001b[0m     1.26.15  py310h06a4308_0               pkgs/main/linux-64\u001b[32m     Cached\u001b[0m\n",
"  \u001b[32m+ zstd              \u001b[0m       1.5.5  hc292b87_0                    pkgs/main/linux-64\u001b[32m     Cached\u001b[0m\n",
"\n",
"  Upgrade:\n",
"─────────────────────────────────────────────────────────────────────────────────────────────────\n",
"\n",
"  \u001b[31m- openssl           \u001b[0m      1.1.1s  h7f8727e_0                    anaconda                     \n",
"  \u001b[32m+ openssl           \u001b[0m      1.1.1t  h7f8727e_0                    pkgs/main/linux-64\u001b[32m     Cached\u001b[0m\n",
"\n",
"  Summary:\n",
"\n",
"  Install: 71 packages\n",
"  Upgrade: 1 packages\n",
"\n",
"  Total download: 2GB\n",
"\n",
"─────────────────────────────────────────────────────────────────────────────────────────────────\n",
"...",
"Preparing transaction: done\n",
"Verifying transaction: done\n",
"Executing transaction: done\n",
"mamba install -y pytorch torchvision torchaudio pytorch-cuda=11.8 -c pytorch   121,61s user 7,63s system 95% cpu 2:14,75 total\n"
          ]
        }
      ],
      "source": [
      "# mamba_env\n",
"!time mamba install -y pytorch torchvision torchaudio pytorch-cuda=11.8 -c pytorch -c nvidia"
      ]
    },
{
      "attachments": {},
      "cell_type": "markdown",
      "metadata": {},
      "source": [
      "Now it has taken 121.61 seconds, about 2 minutes. Less than half as long as with `conda`."
      ]
    }
  ],
  "metadata": {
    "kernelspec": {
      "display_name": "base",
      "language": "python",
      "name": "python3"
    },
    "language_info": {
      "codemirror_mode": {
        "name": "ipython",
        "version": 3
      },
      "file_extension": ".py",
      "mimetype": "text/x-python",
      "name": "python",
      "nbconvert_exporter": "python",
      "pygments_lexer": "ipython3",
      "version": "3.10.9"
    },
    "orig_nbformat": 4
  },
  "nbformat": 4,
  "nbformat_minor": 2
}
