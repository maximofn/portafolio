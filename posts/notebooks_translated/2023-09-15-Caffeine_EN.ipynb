{
  "cells": [
  {
      "attachments": {},
      "cell_type": "markdown",
      "metadata": {},
      "source": [
      "# Caffeine"
      ]
    },
{
      "cell_type": "markdown",
      "metadata": {},
      "source": [
      "Caffeine is a software to prevent our linux from blocking the screen and then fall asleep, for this we will give caffeine to it"
      ]
    },
{
      "cell_type": "markdown",
      "metadata": {},
      "source": [
      "This notebook has been automatically translated to make it accessible to more people, please let me know if you see any typos.\n",
"\n",
"## Installation"
      ]
    },
{
      "cell_type": "markdown",
      "metadata": {},
      "source": [
      "The installation is very simple, we only have to make\n",
"\n",
"``` bash\n",
"sudo apt update\n",
"sudo apt install caffeine\n",
"```"
      ]
    },
{
      "cell_type": "markdown",
      "metadata": {},
      "source": [
      "## Infinite caffeine"
      ]
    },
{
      "cell_type": "markdown",
      "metadata": {},
      "source": [
      "If we press the `windows` button on the keyboard, and type `caffeine-indicator`, we will get the option to start the software indicator.\n",
"\n",
"![caffeine-indicator-executable](https://maximofn.com/wp-content/uploads/2023/09/caffeine-indicator-executable.png)"
      ]
    },
{
      "cell_type": "markdown",
      "metadata": {},
      "source": [
      "If we run it, a software indicator will appear in the top toolbar of ubuntu\n",
"\n",
"![caffeine-indicator](https://maximofn.com/wp-content/uploads/2023/09/caffeine-indicator.png)"
      ]
    },
{
      "cell_type": "markdown",
      "metadata": {},
      "source": [
      "If we click on the indicator, a menu will appear.\n",
"\n",
"![caffeine-indicator-menu](https://maximofn.com/wp-content/uploads/2023/09/caffeine-indicator-menu.png)"
      ]
    },
{
      "cell_type": "markdown",
      "metadata": {},
      "source": [
      "Now we can hit `Activate` so that our Ubuntu will have infinite caffeine and will never fall asleep.\n",
"\n",
"![caffeine-indicator-on](https://maximofn.com/wp-content/uploads/2023/09/caffeine-indicator-on.png)"
      ]
    },
{
      "cell_type": "markdown",
      "metadata": {},
      "source": [
      "## Caffeine for a command"
      ]
    },
{
      "cell_type": "markdown",
      "metadata": {},
      "source": [
      "One thing that happens to me is that when I train a neural network, I like to leave the evaluation of the model in view, even if it is not even on the computer. But if that training lasts for hours, at some point the screen saver is activated and you can no longer see the evolution of the training, so to fix that we have `caffeinate` for what we are doing.\n",
"\n",
"``` bash\n",
"caffeinate COMMAND\n",
"```\n",
"\n",
"We will make our computer caffeinated and not fall asleep while executing the `COMMAND` command."
      ]
    }
  ],
  "metadata": {
    "kernelspec": {
      "display_name": "base",
      "language": "python",
      "name": "python3"
    },
    "language_info": {
      "codemirror_mode": {
        "name": "ipython",
        "version": 3
      },
      "file_extension": ".py",
      "mimetype": "text/x-python",
      "name": "python",
      "nbconvert_exporter": "python",
      "pygments_lexer": "ipython3",
      "version": "3.10.9"
    },
    "orig_nbformat": 4
  },
  "nbformat": 4,
  "nbformat_minor": 2
}
