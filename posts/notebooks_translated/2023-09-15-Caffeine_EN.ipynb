{
  "cells": [
    {
      "attachments": {},
      "cell_type": "markdown",
      "metadata": {},
      "source": [
        "# Caffeine"
      ]
    },
    {
      "attachments": {},
      "cell_type": "markdown",
      "metadata": {},
      "source": [
        " > Disclaimer: This post has been translated to English using a machine translation model. Please, let me know if you find any mistakes."
      ]
    },
    {
      "cell_type": "markdown",
      "metadata": {},
      "source": [
        "Caffeine is a software to prevent our Linux from locking the screen and then going to sleep. To do this, we will give it caffeine."
      ]
    },
    {
      "cell_type": "markdown",
      "metadata": {},
      "source": [
        "## Installation"
      ]
    },
    {
      "cell_type": "markdown",
      "metadata": {},
      "source": [
        "The installation is very simple, we just have to do",
        "\n",
        "``` bash\n",
        "sudo apt update",
        "sudo apt install caffeine",
        "```"
      ]
    },
    {
      "cell_type": "markdown",
      "metadata": {},
      "source": [
        "## Infinite Caffeine"
      ]
    },
    {
      "cell_type": "markdown",
      "metadata": {},
      "source": [
        "If we press the `windows` key on the keyboard and type `caffeine-indicator`, the option to start the software indicator will appear.",
        "\n",
        "![caffeine-indicator-executable](https://pub-fb664c455eca46a2ba762a065ac900f7.r2.dev/caffeine-indicator-executable.webp)"
      ]
    },
    {
      "cell_type": "markdown",
      "metadata": {},
      "source": [
        "If we run it, a software indicator will appear in the top bar of Ubuntu",
        "\n",
        "![caffeine-indicator](https://pub-fb664c455eca46a2ba762a065ac900f7.r2.dev/caffeine-indicator.webp)"
      ]
    },
    {
      "cell_type": "markdown",
      "metadata": {},
      "source": [
        "If we click on the indicator, a menu will appear.",
        "\n",
        "![caffeine-indicator-menu](https://pub-fb664c455eca46a2ba762a065ac900f7.r2.dev/caffeine-indicator-menu.webp)"
      ]
    },
    {
      "cell_type": "markdown",
      "metadata": {},
      "source": [
        "Now we can click on `Activate` so that our Ubuntu will have infinite caffeine and never go to sleep.",
        "\n",
        "![caffeine-indicator-on](https://pub-fb664c455eca46a2ba762a065ac900f7.r2.dev/caffeine-indicator-on.webp)"
      ]
    },
    {
      "cell_type": "markdown",
      "metadata": {},
      "source": [
        "## Caffeine for a Command"
      ]
    },
    {
      "cell_type": "markdown",
      "metadata": {},
      "source": [
        "One thing that happens to me is that when I train a neural network, I like to keep the model evaluation in view, even if I'm not at the computer. But if that training takes hours, at some point the screensaver activates and you can no longer see the training progress. So to fix this, we have `caffeinate`, which by doing",
        "\n",
        "``` bash\n",
        "`caffeinate` COMMAND",
        "```\n",
        "\n",
        "We will make our computer have caffeine and not fall asleep while running the command `COMMAND`"
      ]
    }
  ],
  "metadata": {
    "kernelspec": {
      "display_name": "base",
      "language": "python",
      "name": "python3"
    },
    "language_info": {
      "codemirror_mode": {
        "name": "ipython",
        "version": 3
      },
      "file_extension": ".py",
      "mimetype": "text/x-python",
      "name": "python",
      "nbconvert_exporter": "python",
      "pygments_lexer": "ipython3",
      "version": "3.10.9"
    },
    "maximofn": {
      "date": "2023-09-15",
      "description_en": "\ud83d\ude80 Wake up, Ubuntu! \u2615 With Caffeine for Linux, say goodbye to those annoying sleep modes just when you least expect it. Work marathon? Eternal download? Caffeine is here to keep your machine up and running. This cool thing integrates seamlessly with your Ubuntu environment and is a breeze to use. Find out more about how to install and use Caffeine in our post - we promise your computer won't fall asleep while you read!",
      "description_es": "\ud83d\ude80 \u00a1Despierta, Ubuntu! \u2615 Con Caffeine para Linux, dile adi\u00f3s a esos molestos modos de suspensi\u00f3n justo cuando menos lo esperas. \u00bfMarat\u00f3n de trabajo? \u00bfDescarga eterna? Caffeine est\u00e1 aqu\u00ed para mantener tu m\u00e1quina en marcha. Esta chulada se integra a la perfecci\u00f3n con tu entorno Ubuntu y es pan comido usarla. Descubre m\u00e1s sobre c\u00f3mo instalar y usar Caffeine en nuestro post. \u00a1Te prometemos que tu computadora no se dormir\u00e1 mientras lees!",
      "description_pt": "\ud83d\ude80 Acorde, Ubuntu! \u2615 Com o Caffeine para Linux, diga adeus \u00e0queles modos de suspens\u00e3o irritantes quando voc\u00ea menos espera. Maratona de trabalho? Download eterno? O Caffeine est\u00e1 aqui para manter sua m\u00e1quina em funcionamento. Essa coisa legal se integra perfeitamente ao seu ambiente Ubuntu e \u00e9 muito f\u00e1cil de usar. Saiba mais sobre como instalar e usar o Caffeine em nossa postagem - prometemos que seu computador n\u00e3o cair\u00e1 no sono enquanto voc\u00ea l\u00ea!",
      "end_url": "caffeine",
      "image": "https://pub-fb664c455eca46a2ba762a065ac900f7.r2.dev/caffeine_shots_so.webp",
      "image_hover_path": "https://pub-fb664c455eca46a2ba762a065ac900f7.r2.dev/caffeine_shots_so.webp",
      "keywords_en": "caffeine, linux, ubuntu, software, caffeine-indicator, caffeine-infinita, caffeine-command",
      "keywords_es": "caffeine, linux, ubuntu, software, caffeine-indicator, caffeine-infinita, caffeine-command",
      "keywords_pt": "caffeine, linux, ubuntu, software, caffeine-indicator, caffeine-infinita, caffeine-command",
      "title_en": "Caffeine",
      "title_es": "Caffeine",
      "title_pt": "Caffeine"
    },
    "orig_nbformat": 4
  },
  "nbformat": 4,
  "nbformat_minor": 2
}