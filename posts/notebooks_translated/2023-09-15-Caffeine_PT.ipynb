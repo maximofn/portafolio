{
  "cells": [
    {
      "attachments": {},
      "cell_type": "markdown",
      "metadata": {},
      "source": [
        "# Cafe\u00edna"
      ]
    },
    {
      "attachments": {},
      "cell_type": "markdown",
      "metadata": {},
      "source": [
        " > Aviso: Este post foi traduzido para o portugu\u00eas usando um modelo de tradu\u00e7\u00e3o autom\u00e1tica. Por favor, me avise se encontrar algum erro."
      ]
    },
    {
      "cell_type": "markdown",
      "metadata": {},
      "source": [
        "Caffeine \u00e9 um software para evitar que a tela do nosso Linux seja bloqueada e depois entre em modo de suspens\u00e3o. Para isso, forneceremos cafe\u00edna."
      ]
    },
    {
      "cell_type": "markdown",
      "metadata": {},
      "source": [
        "## Instala\u00e7\u00e3o"
      ]
    },
    {
      "cell_type": "markdown",
      "metadata": {},
      "source": [
        "A instala\u00e7\u00e3o \u00e9 muito simples, basta fazer",
        "\n",
        "``` bash\n",
        "sudo apt update",
        "sudo apt install caffeine",
        "```"
      ]
    },
    {
      "cell_type": "markdown",
      "metadata": {},
      "source": [
        "## Cafe\u00edna infinita"
      ]
    },
    {
      "cell_type": "markdown",
      "metadata": {},
      "source": [
        "Se pressionarmos o bot\u00e3o `windows` do teclado e escrevermos `caffeine-indicator`, aparecer\u00e1 a op\u00e7\u00e3o de iniciar o indicador do software.",
        "\n",
        "![caffeine-indicator-executable](https://images.maximofn.com/caffeine-indicator-executable.webp)"
      ]
    },
    {
      "cell_type": "markdown",
      "metadata": {},
      "source": [
        "Se executarmos, aparecer\u00e1 um indicador do software na barra superior do Ubuntu",
        "\n",
        "![caffeine-indicator](https://images.maximofn.com/caffeine-indicator.webp)"
      ]
    },
    {
      "cell_type": "markdown",
      "metadata": {},
      "source": [
        "Se clicarmos no indicador, aparecer\u00e1 um menu.",
        "\n",
        "![caffeine-indicator-menu](https://images.maximofn.com/caffeine-indicator-menu.webp)"
      ]
    },
    {
      "cell_type": "markdown",
      "metadata": {},
      "source": [
        "Agora podemos clicar em `Activate` para que nosso Ubuntu tenha cafe\u00edna infinita e nunca durma.",
        "\n",
        "![caffeine-indicator-on](https://images.maximofn.com/caffeine-indicator-on.webp)"
      ]
    },
    {
      "cell_type": "markdown",
      "metadata": {},
      "source": [
        "## Cafe\u00edna para um comando"
      ]
    },
    {
      "cell_type": "markdown",
      "metadata": {},
      "source": [
        "Uma coisa que me acontece \u00e9 que quando estou treinando uma rede neural, gosto de deixar a avalia\u00e7\u00e3o do modelo vis\u00edvel, mesmo que eu n\u00e3o esteja no computador. Mas se esse treinamento durar horas, em algum momento o protetor de tela \u00e9 ativado e j\u00e1 n\u00e3o se v\u00ea mais a evolu\u00e7\u00e3o do treinamento, ent\u00e3o para resolver isso temos `caffeinate` pelo qual fazendo",
        "\n",
        "``` bash\n",
        "`caffeinate COMMAND`",
        "```\n",
        "\n",
        "Faremos com que nosso computador tenha cafe\u00edna e n\u00e3o durma enquanto o comando `COMMAND` est\u00e1 sendo executado."
      ]
    }
  ],
  "metadata": {
    "kernelspec": {
      "display_name": "base",
      "language": "python",
      "name": "python3"
    },
    "language_info": {
      "codemirror_mode": {
        "name": "ipython",
        "version": 3
      },
      "file_extension": ".py",
      "mimetype": "text/x-python",
      "name": "python",
      "nbconvert_exporter": "python",
      "pygments_lexer": "ipython3",
      "version": "3.10.9"
    },
    "maximofn": {
      "date": "2023-09-15",
      "description_en": "\ud83d\ude80 Wake up, Ubuntu! \u2615 With Caffeine for Linux, say goodbye to those annoying sleep modes just when you least expect it. Work marathon? Eternal download? Caffeine is here to keep your machine up and running. This cool thing integrates seamlessly with your Ubuntu environment and is a breeze to use. Find out more about how to install and use Caffeine in our post - we promise your computer won't fall asleep while you read!",
      "description_es": "\ud83d\ude80 \u00a1Despierta, Ubuntu! \u2615 Con Caffeine para Linux, dile adi\u00f3s a esos molestos modos de suspensi\u00f3n justo cuando menos lo esperas. \u00bfMarat\u00f3n de trabajo? \u00bfDescarga eterna? Caffeine est\u00e1 aqu\u00ed para mantener tu m\u00e1quina en marcha. Esta chulada se integra a la perfecci\u00f3n con tu entorno Ubuntu y es pan comido usarla. Descubre m\u00e1s sobre c\u00f3mo instalar y usar Caffeine en nuestro post. \u00a1Te prometemos que tu computadora no se dormir\u00e1 mientras lees!",
      "description_pt": "\ud83d\ude80 Acorde, Ubuntu! \u2615 Com o Caffeine para Linux, diga adeus \u00e0queles modos de suspens\u00e3o irritantes quando voc\u00ea menos espera. Maratona de trabalho? Download eterno? O Caffeine est\u00e1 aqui para manter sua m\u00e1quina em funcionamento. Essa coisa legal se integra perfeitamente ao seu ambiente Ubuntu e \u00e9 muito f\u00e1cil de usar. Saiba mais sobre como instalar e usar o Caffeine em nossa postagem - prometemos que seu computador n\u00e3o cair\u00e1 no sono enquanto voc\u00ea l\u00ea!",
      "end_url": "caffeine",
      "image": "https://images.maximofn.com/caffeine_shots_so.webp",
      "image_hover_path": "https://images.maximofn.com/caffeine_shots_so.webp",
      "keywords_en": "caffeine, linux, ubuntu, software, caffeine-indicator, caffeine-infinita, caffeine-command",
      "keywords_es": "caffeine, linux, ubuntu, software, caffeine-indicator, caffeine-infinita, caffeine-command",
      "keywords_pt": "caffeine, linux, ubuntu, software, caffeine-indicator, caffeine-infinita, caffeine-command",
      "title_en": "Caffeine",
      "title_es": "Caffeine",
      "title_pt": "Caffeine"
    },
    "orig_nbformat": 4
  },
  "nbformat": 4,
  "nbformat_minor": 2
}