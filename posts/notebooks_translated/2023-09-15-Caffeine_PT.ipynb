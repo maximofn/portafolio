{
      "cells": [
            {
                  "attachments": {},
                  "cell_type": "markdown",
                  "metadata": {},
                  "source": [
                        "# Cafeína"
                  ]
            },
            {
                  "cell_type": "markdown",
                  "metadata": {},
                  "source": [
                        "O Caffeine é um software para evitar que o nosso Linux trave a tela e depois entre em modo de espera, para isso daremos a ele cafeína."
                  ]
            },
            {
                  "cell_type": "markdown",
                  "metadata": {},
                  "source": [
                        "Este caderno foi traduzido automaticamente para torná-lo acessível a mais pessoas, por favor me avise se você vir algum erro de digitação..\n",
                        "\n",
                        "## Instalação"
                  ]
            },
            {
                  "cell_type": "markdown",
                  "metadata": {},
                  "source": [
                        "A instalação é muito simples, basta fazer\n",
                        "\n",
                        "``` bash\n",
                        "sudo apt update\n",
                        "sudo apt install caffeine\n",
                        "```"
                  ]
            },
            {
                  "cell_type": "markdown",
                  "metadata": {},
                  "source": [
                        "## Cafeína infinita"
                  ]
            },
            {
                  "cell_type": "markdown",
                  "metadata": {},
                  "source": [
                        "Se pressionarmos o botão `windows` no teclado e digitarmos `caffeine-indicator`, teremos a opção de iniciar o software indicador.\n",
                        "\n",
                        "![caffeine-indicator-executable](https://maximofn.com/wp-content/uploads/2023/09/caffeine-indicator-executable.png)"
                  ]
            },
            {
                  "cell_type": "markdown",
                  "metadata": {},
                  "source": [
                        "Se o executarmos, um indicador de software aparecerá na barra de ferramentas superior do Ubuntu.\n",
                        "\n",
                        "![Indicador de cafeína](https://maximofn.com/wp-content/uploads/2023/09/caffeine-indicator.png)"
                  ]
            },
            {
                  "cell_type": "markdown",
                  "metadata": {},
                  "source": [
                        "Se clicarmos no indicador, um menu será exibido.\n",
                        "\n",
                        "![menu de indicadores de cafeína](https://maximofn.com/wp-content/uploads/2023/09/caffeine-indicator-menu.png)"
                  ]
            },
            {
                  "cell_type": "markdown",
                  "metadata": {},
                  "source": [
                        "Agora podemos pressionar `Activate` para que nosso Ubuntu tenha cafeína infinita e nunca durma.\n",
                        "\n",
                        "![indicador de cafeína ligado](https://maximofn.com/wp-content/uploads/2023/09/caffeine-indicator-on.png)"
                  ]
            },
            {
                  "cell_type": "markdown",
                  "metadata": {},
                  "source": [
                        "## Cafeína para um comando"
                  ]
            },
            {
                  "cell_type": "markdown",
                  "metadata": {},
                  "source": [
                        "Uma coisa que acontece comigo é que, quando treino uma rede neural, gosto de manter a avaliação do modelo em vista, mesmo que ele nem esteja no computador. Mas se esse treinamento durar horas, em algum momento o protetor de tela será ativado e não será mais possível ver a evolução do treinamento.\n",
                        "\n",
                        "``` bash\n",
                        "COMANDO de cafeína\n",
                        "```\n",
                        "\n",
                        "Faremos com que nosso computador fique cafeinado e não caia no sono enquanto estiver executando o comando `COMMAND`."
                  ]
            }
      ],
      "metadata": {
            "kernelspec": {
                  "display_name": "base",
                  "language": "python",
                  "name": "python3"
            },
            "language_info": {
                  "codemirror_mode": {
                        "name": "ipython",
                        "version": 3
                  },
                  "file_extension": ".py",
                  "mimetype": "text/x-python",
                  "name": "python",
                  "nbconvert_exporter": "python",
                  "pygments_lexer": "ipython3",
                  "version": "3.10.9"
            },
            "orig_nbformat": 4
      },
      "nbformat": 4,
      "nbformat_minor": 2
}
