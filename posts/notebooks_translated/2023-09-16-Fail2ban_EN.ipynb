{
  "cells": [
  {
      "attachments": {},
      "cell_type": "markdown",
      "metadata": {},
      "source": [
      "# Fail2ban"
      ]
    },
{
      "cell_type": "markdown",
      "metadata": {},
      "source": [
      "With Fail2ban we can block IPs that want to connect to our device, here I am going to explain how to configure the blocking when they try to connect via ssh"
      ]
    },
{
      "cell_type": "markdown",
      "metadata": {},
      "source": [
      "This notebook has been automatically translated to make it accessible to more people, please let me know if you see any typos.\n",
"\n",
"## Installation"
      ]
    },
{
      "cell_type": "markdown",
      "metadata": {},
      "source": [
      "The installation is very simple, we only have to make\n",
"\n",
"``` bash\n",
"sudo apt update\n",
"sudo apt install fail2ban\n",
"```"
      ]
    },
{
      "cell_type": "markdown",
      "metadata": {},
      "source": [
      "## Configuration file"
      ]
    },
{
      "cell_type": "markdown",
      "metadata": {},
      "source": [
      "Once installed, we modify the configuration file by doing the following\n",
"\n",
"``` bash\n",
"sudo nano /etc/fail2ban/jail.conf\n",
"```"
      ]
    },
{
      "cell_type": "markdown",
      "metadata": {},
      "source": [
      "We go down to the part where `[sshd]` is, in my case I have left it like this\n",
"\n",
"``` bash\n",
"[sshd]\n",
"bantime = 172800\n",
"port = ssh\n",
"logpath = %(sshd_log)s\n",
"backend = %(sshd_backend)s\n",
"maxretry = 3\n",
"```\n",
"\n",
"What it does is that if someone makes 3 connection retries, it bans that IP for 48 hours (172800 seconds)."
      ]
    },
{
      "cell_type": "markdown",
      "metadata": {},
      "source": [
      "## Review logs"
      ]
    },
{
      "cell_type": "markdown",
      "metadata": {},
      "source": [
      "We can check through the logs whether any IP has been blocked with\n",
"\n",
"``` bash\n",
"cat /var/log/fail2ban.log\n",
"```"
      ]
    }
  ],
  "metadata": {
    "kernelspec": {
      "display_name": "base",
      "language": "python",
      "name": "python3"
    },
    "language_info": {
      "codemirror_mode": {
        "name": "ipython",
        "version": 3
      },
      "file_extension": ".py",
      "mimetype": "text/x-python",
      "name": "python",
      "nbconvert_exporter": "python",
      "pygments_lexer": "ipython3",
      "version": "3.10.9"
    },
    "orig_nbformat": 4
  },
  "nbformat": 4,
  "nbformat_minor": 2
}
