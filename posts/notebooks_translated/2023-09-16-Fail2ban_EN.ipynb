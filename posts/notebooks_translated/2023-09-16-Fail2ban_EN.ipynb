{
  "cells": [
    {
      "attachments": {},
      "cell_type": "markdown",
      "metadata": {},
      "source": [
        "# Fail2ban"
      ]
    },
    {
      "attachments": {},
      "cell_type": "markdown",
      "metadata": {},
      "source": [
        " > Disclaimer: This post has been translated to English using a machine translation model. Please, let me know if you find any mistakes."
      ]
    },
    {
      "cell_type": "markdown",
      "metadata": {},
      "source": [
        "With Fail2ban we can block IPs that try to connect to one of our devices. Here I will explain how to configure the blocking when they attempt to connect via SSH."
      ]
    },
    {
      "cell_type": "markdown",
      "metadata": {},
      "source": [
        "## Installation"
      ]
    },
    {
      "cell_type": "markdown",
      "metadata": {},
      "source": [
        "The installation is very simple, we just have to do",
        "\n",
        "``` bash\n",
        "sudo apt update",
        "sudo apt install fail2ban",
        "```"
      ]
    },
    {
      "cell_type": "markdown",
      "metadata": {},
      "source": [
        "## Configuration file"
      ]
    },
    {
      "cell_type": "markdown",
      "metadata": {},
      "source": [
        "Once installed, we modify the configuration file by doing",
        "\n",
        "``` bash\n",
        "sudo nano /etc/fail2ban/jail.conf",
        "```"
      ]
    },
    {
      "cell_type": "markdown",
      "metadata": {},
      "source": [
        "We go down to the part where it says `[sshd]`, in my case I left it like this",
        "\n",
        "``` bash\n",
        "[sshd]",
        "bantime  = 172800",
        "port     = ssh",
        "logpath  = %(sshd_log)s",
        "backend  = %(sshd_backend)s",
        "maxretry = 3",
        "```\n",
        "\n",
        "What it does is that if someone makes 3 connection retries, it bans that IP for 48 hours (172800 seconds)."
      ]
    },
    {
      "cell_type": "markdown",
      "metadata": {},
      "source": [
        "## Check the logs"
      ]
    },
    {
      "cell_type": "markdown",
      "metadata": {},
      "source": [
        "We can check through the logs if any IP has been blocked with",
        "\n",
        "``` bash\n",
        "cat /var/log/fail2ban.log",
        "```"
      ]
    }
  ],
  "metadata": {
    "kernelspec": {
      "display_name": "base",
      "language": "python",
      "name": "python3"
    },
    "language_info": {
      "codemirror_mode": {
        "name": "ipython",
        "version": 3
      },
      "file_extension": ".py",
      "mimetype": "text/x-python",
      "name": "python",
      "nbconvert_exporter": "python",
      "pygments_lexer": "ipython3",
      "version": "3.10.9"
    },
    "maximofn": {
      "date": "2023-09-16",
      "description_es": "\ud83d\udee1\ufe0f \ud83d\udcbb \u00a1Eleva tu juego en seguridad! Sum\u00e9rgete en este tutorial y descubre c\u00f3mo Fail2Ban te ayuda a parar en seco los ataques de fuerza bruta. De la instalaci\u00f3n a la configuraci\u00f3n, te tengo cubierto. #SeguridadAlM\u00e1ximo",
      "description_en": "\ud83d\udee1\ufe0f \ud83d\udcbb Raise your security game! Dive into this tutorial and find out how Fail2Ban helps you stop brute force attacks in their tracks. From installation to configuration, I've got you covered. #SecurityToTheMaximum",
      "description_pt": "\ud83d\udee1\ufe0f \ud83d\udcbb Aumente seu n\u00edvel de seguran\u00e7a! Mergulhe neste tutorial e descubra como o Fail2Ban o ajuda a impedir ataques de for\u00e7a bruta em seu caminho. Desde a instala\u00e7\u00e3o at\u00e9 a configura\u00e7\u00e3o, voc\u00ea ter\u00e1 tudo o que precisa. #SecurityToTheMax",
      "end_url": "fail2ban",
      "image": "https://images.maximofn.com/fail2ban.webp",
      "image_hover_path": "https://images.maximofn.com/fail2ban.webp",
      "keywords_en": "fail2ban, firewall, security, ssh, brute force, Linux",
      "keywords_es": "fail2ban, firewall, seguridad, ssh, fuerza bruta, Linux",
      "keywords_pt": "fail2ban, firewall, seguran\u00e7a, ssh, for\u00e7a bruta, Linux",
      "title_en": "Fail2bab",
      "title_es": "Fail2bab",
      "title_pt": "Fail2bab"
    },
    "orig_nbformat": 4
  },
  "nbformat": 4,
  "nbformat_minor": 2
}