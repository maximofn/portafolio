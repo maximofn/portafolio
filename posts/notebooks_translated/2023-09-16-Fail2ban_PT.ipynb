{
  "cells": [
    {
      "attachments": {},
      "cell_type": "markdown",
      "metadata": {},
      "source": [
        "# Fail2ban"
      ]
    },
    {
      "attachments": {},
      "cell_type": "markdown",
      "metadata": {},
      "source": [
        " > Aviso: Este post foi traduzido para o portugu\u00eas usando um modelo de tradu\u00e7\u00e3o autom\u00e1tica. Por favor, me avise se encontrar algum erro."
      ]
    },
    {
      "cell_type": "markdown",
      "metadata": {},
      "source": [
        "Com o Fail2ban podemos bloquear IPs que tentem se conectar a um dispositivo nosso, aqui vou explicar como configurar o bloqueio quando tentam se conectar por ssh"
      ]
    },
    {
      "cell_type": "markdown",
      "metadata": {},
      "source": [
        "## Instala\u00e7\u00e3o"
      ]
    },
    {
      "cell_type": "markdown",
      "metadata": {},
      "source": [
        "A instala\u00e7\u00e3o \u00e9 muito simples, basta fazer",
        "\n",
        "``` bash\n",
        "sudo apt update",
        "sudo apt install fail2ban",
        "```"
      ]
    },
    {
      "cell_type": "markdown",
      "metadata": {},
      "source": [
        "## Arquivo de configura\u00e7\u00e3o"
      ]
    },
    {
      "cell_type": "markdown",
      "metadata": {},
      "source": [
        "Uma vez instalado, modificamos o arquivo de configura\u00e7\u00e3o fazendo",
        "\n",
        "``` bash\n",
        "sudo nano /etc/fail2ban/jail.conf",
        "```"
      ]
    },
    {
      "cell_type": "markdown",
      "metadata": {},
      "source": [
        "Descemos at\u00e9 a parte onde est\u00e1 `[sshd]`, no meu caso deixei assim",
        "\n",
        "``` bash\n",
        "[sshd]",
        "bantime  = 172800",
        "porta    = ssh",
        "logpath  = %(sshd_log)s",
        "backend  = %(sshd_backend)s",
        "maxretry = 3",
        "```\n",
        "\n",
        "O que ele faz \u00e9 que se algu\u00e9m fizer 3 tentativas de conex\u00e3o, ele bane esse IP por 48 horas (172800 segundos)."
      ]
    },
    {
      "cell_type": "markdown",
      "metadata": {},
      "source": [
        "## Revisar os logs"
      ]
    },
    {
      "cell_type": "markdown",
      "metadata": {},
      "source": [
        "Podemos verificar atrav\u00e9s dos logs se algum IP foi bloqueado com",
        "\n",
        "``` bash\n",
        "cat /var/log/fail2ban.log",
        "```"
      ]
    }
  ],
  "metadata": {
    "kernelspec": {
      "display_name": "base",
      "language": "python",
      "name": "python3"
    },
    "language_info": {
      "codemirror_mode": {
        "name": "ipython",
        "version": 3
      },
      "file_extension": ".py",
      "mimetype": "text/x-python",
      "name": "python",
      "nbconvert_exporter": "python",
      "pygments_lexer": "ipython3",
      "version": "3.10.9"
    },
    "maximofn": {
      "date": "2023-09-16",
      "description_es": "\ud83d\udee1\ufe0f \ud83d\udcbb \u00a1Eleva tu juego en seguridad! Sum\u00e9rgete en este tutorial y descubre c\u00f3mo Fail2Ban te ayuda a parar en seco los ataques de fuerza bruta. De la instalaci\u00f3n a la configuraci\u00f3n, te tengo cubierto. #SeguridadAlM\u00e1ximo",
      "description_en": "\ud83d\udee1\ufe0f \ud83d\udcbb Raise your security game! Dive into this tutorial and find out how Fail2Ban helps you stop brute force attacks in their tracks. From installation to configuration, I've got you covered. #SecurityToTheMaximum",
      "description_pt": "\ud83d\udee1\ufe0f \ud83d\udcbb Aumente seu n\u00edvel de seguran\u00e7a! Mergulhe neste tutorial e descubra como o Fail2Ban o ajuda a impedir ataques de for\u00e7a bruta em seu caminho. Desde a instala\u00e7\u00e3o at\u00e9 a configura\u00e7\u00e3o, voc\u00ea ter\u00e1 tudo o que precisa. #SecurityToTheMax",
      "end_url": "fail2ban",
      "image": "https://images.maximofn.com/fail2ban.webp",
      "image_hover_path": "https://images.maximofn.com/fail2ban.webp",
      "keywords_en": "fail2ban, firewall, security, ssh, brute force, Linux",
      "keywords_es": "fail2ban, firewall, seguridad, ssh, fuerza bruta, Linux",
      "keywords_pt": "fail2ban, firewall, seguran\u00e7a, ssh, for\u00e7a bruta, Linux",
      "title_en": "Fail2bab",
      "title_es": "Fail2bab",
      "title_pt": "Fail2bab"
    },
    "orig_nbformat": 4
  },
  "nbformat": 4,
  "nbformat_minor": 2
}