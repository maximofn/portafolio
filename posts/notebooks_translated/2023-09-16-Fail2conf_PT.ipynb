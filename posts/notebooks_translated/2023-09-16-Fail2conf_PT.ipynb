{
  "cells": [
  {
      "attachments": {},
      "cell_type": "markdown",
      "metadata": {},
      "source": [
      "# Fail2conf"
      ]
    },
{
      "cell_type": "markdown",
      "metadata": {},
      "source": [
      "Com o Fail2conf, podemos bloquear os IPs que desejam se conectar ao nosso dispositivo. Aqui explicarei como configurar o bloqueio quando eles tentarem se conectar via ssh."
      ]
    },
{
      "cell_type": "markdown",
      "metadata": {},
      "source": [
      "Este caderno foi traduzido automaticamente para torná-lo acessível a mais pessoas, por favor me avise se você vir algum erro de digitação..\n",
"\n",
"## Instalação"
      ]
    },
{
      "cell_type": "markdown",
      "metadata": {},
      "source": [
      "A instalação é muito simples, basta fazer\n",
"\n",
"``` bash\n",
"sudo apt update\n",
"sudo apt install fail2ban\n",
"```"
      ]
    },
{
      "cell_type": "markdown",
      "metadata": {},
      "source": [
      "## Arquivo de configuração"
      ]
    },
{
      "cell_type": "markdown",
      "metadata": {},
      "source": [
      "Depois de instalado, modificamos o arquivo de configuração fazendo o seguinte\n",
"\n",
"``` bash\n",
"sudo nano /etc/fail2ban/jail.conf\n",
"```"
      ]
    },
{
      "cell_type": "markdown",
      "metadata": {},
      "source": [
      "Vamos até a parte em que está `[sshd]` e, no meu caso, deixei-a da seguinte forma\n",
"\n",
"``` bash\n",
"[sshd]\n",
"bantime = 172800\n",
"porta = ssh\n",
"logpath = %(sshd_log)s\n",
"backend = %(sshd_backend)s\n",
"maxretry = 3\n",
"```\n",
"\n",
"O que ele faz é proibir esse IP por 48 horas (172800 segundos) se alguém fizer 3 tentativas de conexão."
      ]
    },
{
      "cell_type": "markdown",
      "metadata": {},
      "source": [
      "## Registros de revisão"
      ]
    },
{
      "cell_type": "markdown",
      "metadata": {},
      "source": [
      "Podemos verificar nos registros se algum IP foi bloqueado com\n",
"\n",
"``` bash\n",
"cat /var/log/fail2ban.log\n",
"```"
      ]
    }
  ],
  "metadata": {
    "kernelspec": {
      "display_name": "base",
      "language": "python",
      "name": "python3"
    },
    "language_info": {
      "codemirror_mode": {
        "name": "ipython",
        "version": 3
      },
      "file_extension": ".py",
      "mimetype": "text/x-python",
      "name": "python",
      "nbconvert_exporter": "python",
      "pygments_lexer": "ipython3",
      "version": "3.10.9"
    },
    "orig_nbformat": 4
  },
  "nbformat": 4,
  "nbformat_minor": 2
}
