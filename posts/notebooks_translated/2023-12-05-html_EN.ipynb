{
  "cells": [
  {
      "cell_type": "markdown",
      "metadata": {},
      "source": [
      "# HTML"
      ]
    },
{
      "cell_type": "markdown",
      "metadata": {},
      "source": [
      "## Comments"
      ]
    },
{
      "cell_type": "markdown",
      "metadata": {},
      "source": [
      "This notebook has been automatically translated to make it accessible to more people, please let me know if you see any typos.\n",
"\n",
"To add a comment to an `html`, the following code is used:"
      ]
    },
{
      "cell_type": "code",
      "execution_count": "None",
      "metadata": {
        "vscode": {
          "languageId": "plaintext"
        }
      },
      "outputs": [],
      "source": [
      "<!-- Comentario -->"
      ]
    },
{
      "cell_type": "markdown",
      "metadata": {},
      "source": [
      "## Head"
      ]
    },
{
      "cell_type": "markdown",
      "metadata": {},
      "source": [
      "The `html` has to start with a `!DOCTYPE` tag that tells the browser the version of html, by putting html the browser understands that it is the 5"
      ]
    },
{
      "cell_type": "code",
      "execution_count": "None",
      "metadata": {
        "vscode": {
          "languageId": "plaintext"
        }
      },
      "outputs": [],
      "source": [
      "<!DOCTYPE html>"
      ]
    },
{
      "cell_type": "markdown",
      "metadata": {},
      "source": [
      "Then you have to put a container with the `html` tag with an attribute called `lang` that indicates the language in which the page is written."
      ]
    },
{
      "cell_type": "code",
      "execution_count": "None",
      "metadata": {
        "vscode": {
          "languageId": "plaintext"
        }
      },
      "outputs": [],
      "source": [
      "<!DOCTYPE html>\n",
"<html lang=\"es\">\n",
"</html>"
      ]
    },
{
      "cell_type": "markdown",
      "metadata": {},
      "source": [
      "Two more containers are created inside, one for `head` and one for `body`."
      ]
    },
{
      "cell_type": "code",
      "execution_count": "None",
      "metadata": {
        "vscode": {
          "languageId": "plaintext"
        }
      },
      "outputs": [],
      "source": [
      "<!DOCTYPE html>\n",
"<html lang=\"es\">\n",
"    <head>\n",
"    </head>\n",
"    <body>\n",
"    </body>\n",
"</html>"
      ]
    },
{
      "cell_type": "markdown",
      "metadata": {},
      "source": [
      "In the `head` container goes everything the browser needs to load, while in the body goes everything that will be seen on the page"
      ]
    },
{
      "cell_type": "markdown",
      "metadata": {},
      "source": [
      "One of the `head` tags is `meta` which carries an attribute called `charset` that indicates the type of encoding of the text, usually `utf-8`, `utf-16`.\n",
"\n",
"Another type of `meta` is the `name=\"description\"` which is a description for browsers. It is important for SEO.\n",
"\n",
"Another type of meta is the `name=\"robots\"` which is for search engine robots and indicates whether the page can be tracked or not.\n",
"\n",
"Another attribute of the `head` is `title` which indicates the title you see in the tab.\n",
"\n",
"Another meta is `name=\"viewport\"` which is for the responsible design.\n",
"\n",
"Another goal is `name=\"theme-color\"` which is for the color of the navigation bar.\n",
"\n",
"Another goal is the favicon which is the icon you see on the tab. It is written with the `link` tag and the `type` attribute and `href=\"path\"`.\n",
"\n",
"A very important tags for SEO are all those related to `Open Graph` which are those that are seen when a link is shared on social networks. For this a very useful page is [open graph](https://opengraph.xyz/), where you put your link and it tells you how it will be seen in each social network. These goals are\n",
"\n",
"`property=\"og:title\"` which is the title seen in social networks.\n",
"\n",
"`property=\"og:description\"` which is the description seen in social networks.\n",
"\n",
"`property=\"og:image\"` which is the image seen in social networks.\n",
"\n",
"`property=\"og:image:alt\"` which is the alternative text of the image seen on social networks.\n",
"\n",
"There is a tag for the `CSS` which is `link`.\n",
"\n",
"In the [Open Graph](https://ogp.me/) page you can see all the tags that can be put in the `head`.\n",
"\n",
"Another important tag for SEO is `link rel=\"alternate\"` which is to indicate that there is an alternative version of the page, for example in another language.\n",
"\n",
"Another important tag for SEO is `link rel=\"canonical\"` which is to indicate that there is a canonical version of the page, for example in another language.\n",
"\n",
"With the `style` and `script` tags you can write `CSS` and `JavaScript` in the `html`."
      ]
    },
{
      "cell_type": "code",
      "execution_count": "None",
      "metadata": {
        "vscode": {
          "languageId": "plaintext"
        }
      },
      "outputs": [],
      "source": [
      "<!DOCTYPE html>\n",
"<html lang=\"es\">\n",
"    <head>\n",
"        <meta charset=\"utf-8\"/>\n",
"        <meta name=\"description\" content=\"Descripción para los buscadores\"/>\n",
"        <meta name=\"robots\" content=\"index,folow\"/>\n",
"        <title>Título pestaña</title>\n",
"        <meta name=\"viewport\" content=\"width=device-width\"/>\n",
"        <meta name=\"theme-color\" content=\"#09f\"/>\n",
"        <link rel=\"stulesheet\" href=\"path\"/>\n",
"        <link rel=\"icon\" type=\"image/png\" href=\"path\"/>\n",
"        <meta property=\"og:title\" content=\"Título para las redes sociales\"/>\n",
"        <meta property=\"og:description\" content=\"Descripción para las redes sociales\"/>\n",
"        <meta property=\"og:image\" content=\"path\"/>\n",
"        <meta property=\"og:image:alt\" content=\"Texto alternativo para la imagen\"/>\n",
"        <link rel=\"alternate\" href=\"path\" hreflang=\"en\"/>\n",
"        <link rel=\"canonical\" href=\"path\"/>\n",
"    </head>\n",
"    <body>\n",
"    </body>\n",
"</html>"
      ]
    },
{
      "cell_type": "markdown",
      "metadata": {},
      "source": [
      "## Body"
      ]
    },
{
      "cell_type": "markdown",
      "metadata": {},
      "source": [
      "There are container tags that help to create a structure and carry more tags inside. And there are container tags that are the ones that contain the text, images, etc."
      ]
    },
{
      "cell_type": "markdown",
      "metadata": {},
      "source": [
      "### Container labels"
      ]
    },
{
      "cell_type": "markdown",
      "metadata": {},
      "source": [
      "#### Header"
      ]
    },
{
      "cell_type": "markdown",
      "metadata": {},
      "source": [
      "This is the tag to describe the `header`."
      ]
    },
{
      "cell_type": "code",
      "execution_count": "None",
      "metadata": {
        "vscode": {
          "languageId": "plaintext"
        }
      },
      "outputs": [],
      "source": [
      "<!DOCTYPE html>\n",
"<html lang=\"es\">\n",
"    <head>\n",
"        <meta charset=\"utf-8\"/>\n",
"        <meta name=\"description\" content=\"Descripción para los buscadores\"/>\n",
"        <meta name=\"robots\" content=\"index,folow\"/>\n",
"        <title>Título pestaña</title>\n",
"        <meta name=\"viewport\" content=\"width=device-width\"/>\n",
"        <meta name=\"theme-color\" content=\"#09f\"/>\n",
"        <link rel=\"stulesheet\" href=\"path\"/>\n",
"        <link rel=\"icon\" type=\"image/png\" href=\"path\"/>\n",
"        <meta property=\"og:title\" content=\"Título para las redes sociales\"/>\n",
"        <meta property=\"og:description\" content=\"Descripción para las redes sociales\"/>\n",
"        <meta property=\"og:image\" content=\"path\"/>\n",
"        <meta property=\"og:image:alt\" content=\"Texto alternativo para la imagen\"/>\n",
"        <link rel=\"alternate\" href=\"path\" hreflang=\"en\"/>\n",
"        <link rel=\"canonical\" href=\"path\"/>\n",
"    </head>\n",
"    <body>\n",
"        <header>\n",
"            Header\n",
"        </header>\n",
"    </body>\n",
"</html>"
      ]
    },
{
      "cell_type": "markdown",
      "metadata": {},
      "source": [
      "##### Navigation"
      ]
    },
{
      "cell_type": "markdown",
      "metadata": {},
      "source": [
      "With the `nav` tag the navigation is created. Within this tag you can put links with the `a` tag and you can put a logo with the `img` tag."
      ]
    },
{
      "cell_type": "code",
      "execution_count": "None",
      "metadata": {
        "vscode": {
          "languageId": "plaintext"
        }
      },
      "outputs": [],
      "source": [
      "<!DOCTYPE html>\n",
"<html lang=\"es\">\n",
"    <head>\n",
"        <meta charset=\"utf-8\"/>\n",
"        <meta name=\"description\" content=\"Descripción para los buscadores\"/>\n",
"        <meta name=\"robots\" content=\"index,folow\"/>\n",
"        <title>Título pestaña</title>\n",
"        <meta name=\"viewport\" content=\"width=device-width\"/>\n",
"        <meta name=\"theme-color\" content=\"#09f\"/>\n",
"        <link rel=\"stulesheet\" href=\"path\"/>\n",
"        <link rel=\"icon\" type=\"image/png\" href=\"path\"/>\n",
"        <meta property=\"og:title\" content=\"Título para las redes sociales\"/>\n",
"        <meta property=\"og:description\" content=\"Descripción para las redes sociales\"/>\n",
"        <meta property=\"og:image\" content=\"path\"/>\n",
"        <meta property=\"og:image:alt\" content=\"Texto alternativo para la imagen\"/>\n",
"        <link rel=\"alternate\" href=\"path\" hreflang=\"en\"/>\n",
"        <link rel=\"canonical\" href=\"path\"/>\n",
"    </head>\n",
"    <body>\n",
"        <header>\n",
"            <nav>\n",
"                <a href=\"path\">Enlace</a>\n",
"                <img src=\"path\" alt=\"Texto alternativo\"/>\n",
"            </nav>\n",
"        </header>\n",
"    </body>\n",
"</html>"
      ]
    },
{
      "cell_type": "markdown",
      "metadata": {},
      "source": [
      "##### Links"
      ]
    },
{
      "cell_type": "markdown",
      "metadata": {},
      "source": [
      "As in navigation, links are created with the `a` tag and carry a `href=\"path\"` attribute indicating the link to which the link leads. They also carry a `target=\"_blank\"` attribute indicating that it opens in a new tab. In addition, the attribute `rel=\"noreferer\"` can be set to indicate that no information is passed from the page from which the link comes."
      ]
    },
{
      "cell_type": "code",
      "execution_count": "None",
      "metadata": {
        "vscode": {
          "languageId": "plaintext"
        }
      },
      "outputs": [],
      "source": [
      "<a href=\"path\" target=\"_blank\">Enlace</a>"
      ]
    },
{
      "cell_type": "markdown",
      "metadata": {},
      "source": [
      "If the link is a link to a section of the page, the `href=\"#id\"` attribute is set."
      ]
    },
{
      "cell_type": "code",
      "execution_count": "None",
      "metadata": {
        "vscode": {
          "languageId": "plaintext"
        }
      },
      "outputs": [],
      "source": [
      "<a href=\"#id\">Enlace</a>"
      ]
    },
{
      "cell_type": "markdown",
      "metadata": {},
      "source": [
      "So in another part of the page you have to put a container with the `id=\"id\"` attribute."
      ]
    },
{
      "cell_type": "code",
      "execution_count": "None",
      "metadata": {
        "vscode": {
          "languageId": "plaintext"
        }
      },
      "outputs": [],
      "source": [
      "<div id=\"id\">\n",
"</div>"
      ]
    },
{
      "cell_type": "markdown",
      "metadata": {},
      "source": [
      "If the link is an email, the `href=\"mailto:email\"` attribute is set."
      ]
    },
{
      "cell_type": "code",
      "execution_count": "None",
      "metadata": {
        "vscode": {
          "languageId": "plaintext"
        }
      },
      "outputs": [],
      "source": [
      "<a href=\"mailto:email\">Email</a>"
      ]
    },
{
      "cell_type": "markdown",
      "metadata": {},
      "source": [
      "If the link is a phone, the `href=\"tel:phone\"` attribute is set."
      ]
    },
{
      "cell_type": "code",
      "execution_count": "None",
      "metadata": {
        "vscode": {
          "languageId": "plaintext"
        }
      },
      "outputs": [],
      "source": [
      "<a href=\"tel:phone\">Teléfono</a>"
      ]
    },
{
      "cell_type": "markdown",
      "metadata": {},
      "source": [
      "If you want to put a link to open WhatsApp, you put the attribute `href=\"https://wa.me/phone\"`."
      ]
    },
{
      "cell_type": "code",
      "execution_count": "None",
      "metadata": {
        "vscode": {
          "languageId": "plaintext"
        }
      },
      "outputs": [],
      "source": [
      "<a href=\"https://wa.me/phone\">WhatsApp</a>"
      ]
    },
{
      "cell_type": "markdown",
      "metadata": {},
      "source": [
      "#### Main"
      ]
    },
{
      "cell_type": "markdown",
      "metadata": {},
      "source": [
      "This is the tag to describe the `main`."
      ]
    },
{
      "cell_type": "code",
      "execution_count": "None",
      "metadata": {
        "vscode": {
          "languageId": "plaintext"
        }
      },
      "outputs": [],
      "source": [
      "<!DOCTYPE html>\n",
"<html lang=\"es\">\n",
"    <head>\n",
"        <meta charset=\"utf-8\"/>\n",
"        <meta name=\"description\" content=\"Descripción para los buscadores\"/>\n",
"        <meta name=\"robots\" content=\"index,folow\"/>\n",
"        <title>Título pestaña</title>\n",
"        <meta name=\"viewport\" content=\"width=device-width\"/>\n",
"        <meta name=\"theme-color\" content=\"#09f\"/>\n",
"        <link rel=\"stulesheet\" href=\"path\"/>\n",
"        <link rel=\"icon\" type=\"image/png\" href=\"path\"/>\n",
"        <meta property=\"og:title\" content=\"Título para las redes sociales\"/>\n",
"        <meta property=\"og:description\" content=\"Descripción para las redes sociales\"/>\n",
"        <meta property=\"og:image\" content=\"path\"/>\n",
"        <meta property=\"og:image:alt\" content=\"Texto alternativo para la imagen\"/>\n",
"        <link rel=\"alternate\" href=\"path\" hreflang=\"en\"/>\n",
"        <link rel=\"canonical\" href=\"path\"/>\n",
"    </head>\n",
"    <body>\n",
"        <header>\n",
"            <nav>\n",
"                <a href=\"path\">Enlace</a>\n",
"                <img src=\"path\" alt=\"Texto alternativo\"/>\n",
"            </nav>\n",
"        </header>\n",
"        <main>\n",
"        </main>\n",
"    </body>\n",
"</html>"
      ]
    },
{
      "cell_type": "markdown",
      "metadata": {},
      "source": [
      "#### Footer"
      ]
    },
{
      "cell_type": "markdown",
      "metadata": {},
      "source": [
      "This is the tag to describe the `footer`."
      ]
    },
{
      "cell_type": "code",
      "execution_count": "None",
      "metadata": {
        "vscode": {
          "languageId": "plaintext"
        }
      },
      "outputs": [],
      "source": [
      "<!DOCTYPE html>\n",
"<html lang=\"es\">\n",
"    <head>\n",
"        <meta charset=\"utf-8\"/>\n",
"        <meta name=\"description\" content=\"Descripción para los buscadores\"/>\n",
"        <meta name=\"robots\" content=\"index,folow\"/>\n",
"        <title>Título pestaña</title>\n",
"        <meta name=\"viewport\" content=\"width=device-width\"/>\n",
"        <meta name=\"theme-color\" content=\"#09f\"/>\n",
"        <link rel=\"stulesheet\" href=\"path\"/>\n",
"        <link rel=\"icon\" type=\"image/png\" href=\"path\"/>\n",
"        <meta property=\"og:title\" content=\"Título para las redes sociales\"/>\n",
"        <meta property=\"og:description\" content=\"Descripción para las redes sociales\"/>\n",
"        <meta property=\"og:image\" content=\"path\"/>\n",
"        <meta property=\"og:image:alt\" content=\"Texto alternativo para la imagen\"/>\n",
"        <link rel=\"alternate\" href=\"path\" hreflang=\"en\"/>\n",
"        <link rel=\"canonical\" href=\"path\"/>\n",
"    </head>\n",
"    <body>\n",
"        <header>\n",
"            <nav>\n",
"                <a href=\"path\">Enlace</a>\n",
"                <img src=\"path\" alt=\"Texto alternativo\"/>\n",
"            </nav>\n",
"        </header>\n",
"        <main>\n",
"        </main>\n",
"        <footer>\n",
"        </footer>\n",
"    </body>\n",
"</html>"
      ]
    },
{
      "cell_type": "markdown",
      "metadata": {},
      "source": [
      "#### Section"
      ]
    },
{
      "cell_type": "markdown",
      "metadata": {},
      "source": [
      "Within `main` you can make sections"
      ]
    },
{
      "cell_type": "code",
      "execution_count": "None",
      "metadata": {
        "vscode": {
          "languageId": "plaintext"
        }
      },
      "outputs": [],
      "source": [
      "<!DOCTYPE html>\n",
"<html lang=\"es\">\n",
"    <head>\n",
"        <meta charset=\"utf-8\"/>\n",
"        <meta name=\"description\" content=\"Descripción para los buscadores\"/>\n",
"        <meta name=\"robots\" content=\"index,folow\"/>\n",
"        <title>Título pestaña</title>\n",
"        <meta name=\"viewport\" content=\"width=device-width\"/>\n",
"        <meta name=\"theme-color\" content=\"#09f\"/>\n",
"        <link rel=\"stulesheet\" href=\"path\"/>\n",
"        <link rel=\"icon\" type=\"image/png\" href=\"path\"/>\n",
"        <meta property=\"og:title\" content=\"Título para las redes sociales\"/>\n",
"        <meta property=\"og:description\" content=\"Descripción para las redes sociales\"/>\n",
"        <meta property=\"og:image\" content=\"path\"/>\n",
"        <meta property=\"og:image:alt\" content=\"Texto alternativo para la imagen\"/>\n",
"        <link rel=\"alternate\" href=\"path\" hreflang=\"en\"/>\n",
"        <link rel=\"canonical\" href=\"path\"/>\n",
"    </head>\n",
"    <body>\n",
"        <header>\n",
"            <nav>\n",
"                <a href=\"path\">Enlace</a>\n",
"                <img src=\"path\" alt=\"Texto alternativo\"/>\n",
"            </nav>\n",
"        </header>\n",
"        <main>\n",
"            <section>\n",
"            </section>\n",
"        </main>\n",
"        <footer>\n",
"        </footer>\n",
"    </body>\n",
"</html>"
      ]
    },
{
      "cell_type": "markdown",
      "metadata": {},
      "source": [
      "#### Article"
      ]
    },
{
      "cell_type": "markdown",
      "metadata": {},
      "source": [
      "Within `main` there may be items"
      ]
    },
{
      "cell_type": "code",
      "execution_count": "None",
      "metadata": {
        "vscode": {
          "languageId": "plaintext"
        }
      },
      "outputs": [],
      "source": [
      "<!DOCTYPE html>\n",
"<html lang=\"es\">\n",
"    <head>\n",
"        <meta charset=\"utf-8\"/>\n",
"        <meta name=\"description\" content=\"Descripción para los buscadores\"/>\n",
"        <meta name=\"robots\" content=\"index,folow\"/>\n",
"        <title>Título pestaña</title>\n",
"        <meta name=\"viewport\" content=\"width=device-width\"/>\n",
"        <meta name=\"theme-color\" content=\"#09f\"/>\n",
"        <link rel=\"stulesheet\" href=\"path\"/>\n",
"        <link rel=\"icon\" type=\"image/png\" href=\"path\"/>\n",
"        <meta property=\"og:title\" content=\"Título para las redes sociales\"/>\n",
"        <meta property=\"og:description\" content=\"Descripción para las redes sociales\"/>\n",
"        <meta property=\"og:image\" content=\"path\"/>\n",
"        <meta property=\"og:image:alt\" content=\"Texto alternativo para la imagen\"/>\n",
"        <link rel=\"alternate\" href=\"path\" hreflang=\"en\"/>\n",
"        <link rel=\"canonical\" href=\"path\"/>\n",
"    </head>\n",
"    <body>\n",
"        <header>\n",
"            <nav>\n",
"                <a href=\"path\">Enlace</a>\n",
"                <img src=\"path\" alt=\"Texto alternativo\"/>\n",
"            </nav>\n",
"        </header>\n",
"        <main>\n",
"            <section>\n",
"                <article>\n",
"                </article>\n",
"            </section>\n",
"        </main>\n",
"        <footer>\n",
"        </footer>\n",
"    </body>\n",
"</html>"
      ]
    },
{
      "cell_type": "markdown",
      "metadata": {},
      "source": [
      "#### Divider"
      ]
    },
{
      "cell_type": "markdown",
      "metadata": {},
      "source": [
      "When we have run out of semantic tags, we can use the `div` tag which is a generic container."
      ]
    },
{
      "cell_type": "code",
      "execution_count": "None",
      "metadata": {
        "vscode": {
          "languageId": "plaintext"
        }
      },
      "outputs": [],
      "source": [
      "<!DOCTYPE html>\n",
"<html lang=\"es\">\n",
"    <head>\n",
"        <meta charset=\"utf-8\"/>\n",
"        <meta name=\"description\" content=\"Descripción para los buscadores\"/>\n",
"        <meta name=\"robots\" content=\"index,folow\"/>\n",
"        <title>Título pestaña</title>\n",
"        <meta name=\"viewport\" content=\"width=device-width\"/>\n",
"        <meta name=\"theme-color\" content=\"#09f\"/>\n",
"        <link rel=\"stulesheet\" href=\"path\"/>\n",
"        <link rel=\"icon\" type=\"image/png\" href=\"path\"/>\n",
"        <meta property=\"og:title\" content=\"Título para las redes sociales\"/>\n",
"        <meta property=\"og:description\" content=\"Descripción para las redes sociales\"/>\n",
"        <meta property=\"og:image\" content=\"path\"/>\n",
"        <meta property=\"og:image:alt\" content=\"Texto alternativo para la imagen\"/>\n",
"        <link rel=\"alternate\" href=\"path\" hreflang=\"en\"/>\n",
"        <link rel=\"canonical\" href=\"path\"/>\n",
"    </head>\n",
"    <body>\n",
"        <header>\n",
"            <nav>\n",
"                <a href=\"path\">Enlace</a>\n",
"                <img src=\"path\" alt=\"Texto alternativo\"/>\n",
"            </nav>\n",
"        </header>\n",
"        <main>\n",
"            <section>\n",
"                <article>\n",
"                    <div>\n",
"                    </div>\n",
"                </article>\n",
"            </section>\n",
"        </main>\n",
"        <footer>\n",
"        </footer>\n",
"    </body>\n",
"</html>"
      ]
    },
{
      "cell_type": "markdown",
      "metadata": {},
      "source": [
      "#### Unordered `ul` lists"
      ]
    },
{
      "cell_type": "markdown",
      "metadata": {},
      "source": [
      "Within `main` there can be unordered lists, each item in the list must have the tag `li`."
      ]
    },
{
      "cell_type": "code",
      "execution_count": "None",
      "metadata": {
        "vscode": {
          "languageId": "plaintext"
        }
      },
      "outputs": [],
      "source": [
      "<!DOCTYPE html>\n",
"<html lang=\"es\">\n",
"    <head>\n",
"        <meta charset=\"utf-8\"/>\n",
"        <meta name=\"description\" content=\"Descripción para los buscadores\"/>\n",
"        <meta name=\"robots\" content=\"index,folow\"/>\n",
"        <title>Título pestaña</title>\n",
"        <meta name=\"viewport\" content=\"width=device-width\"/>\n",
"        <meta name=\"theme-color\" content=\"#09f\"/>\n",
"        <link rel=\"stulesheet\" href=\"path\"/>\n",
"        <link rel=\"icon\" type=\"image/png\" href=\"path\"/>\n",
"        <meta property=\"og:title\" content=\"Título para las redes sociales\"/>\n",
"        <meta property=\"og:description\" content=\"Descripción para las redes sociales\"/>\n",
"        <meta property=\"og:image\" content=\"path\"/>\n",
"        <meta property=\"og:image:alt\" content=\"Texto alternativo para la imagen\"/>\n",
"        <link rel=\"alternate\" href=\"path\" hreflang=\"en\"/>\n",
"        <link rel=\"canonical\" href=\"path\"/>\n",
"    </head>\n",
"    <body>\n",
"        <header>\n",
"            <nav>\n",
"                <a href=\"path\">Enlace</a>\n",
"                <img src=\"path\" alt=\"Texto alternativo\"/>\n",
"            </nav>\n",
"        </header>\n",
"        <main>\n",
"            <section>\n",
"                <article>\n",
"                    <div>\n",
"                        <ul>\n",
"                            <li></li>\n",
"                        </ul>\n",
"                    </div>\n",
"                </article>\n",
"            </section>\n",
"        </main>\n",
"        <footer>\n",
"        </footer>\n",
"    </body>\n",
"</html>"
      ]
    },
{
      "cell_type": "markdown",
      "metadata": {},
      "source": [
      "#### Sorted lists `ol`"
      ]
    },
{
      "cell_type": "markdown",
      "metadata": {},
      "source": [
      "Within `main` there can be sorted lists, each item in the list must have the tag `li`."
      ]
    },
{
      "cell_type": "code",
      "execution_count": "None",
      "metadata": {
        "vscode": {
          "languageId": "plaintext"
        }
      },
      "outputs": [],
      "source": [
      "<!DOCTYPE html>\n",
"<html lang=\"es\">\n",
"    <head>\n",
"        <meta charset=\"utf-8\"/>\n",
"        <meta name=\"description\" content=\"Descripción para los buscadores\"/>\n",
"        <meta name=\"robots\" content=\"index,folow\"/>\n",
"        <title>Título pestaña</title>\n",
"        <meta name=\"viewport\" content=\"width=device-width\"/>\n",
"        <meta name=\"theme-color\" content=\"#09f\"/>\n",
"        <link rel=\"stulesheet\" href=\"path\"/>\n",
"        <link rel=\"icon\" type=\"image/png\" href=\"path\"/>\n",
"        <meta property=\"og:title\" content=\"Título para las redes sociales\"/>\n",
"        <meta property=\"og:description\" content=\"Descripción para las redes sociales\"/>\n",
"        <meta property=\"og:image\" content=\"path\"/>\n",
"        <meta property=\"og:image:alt\" content=\"Texto alternativo para la imagen\"/>\n",
"        <link rel=\"alternate\" href=\"path\" hreflang=\"en\"/>\n",
"        <link rel=\"canonical\" href=\"path\"/>\n",
"    </head>\n",
"    <body>\n",
"        <header>\n",
"            <nav>\n",
"                <a href=\"path\">Enlace</a>\n",
"                <img src=\"path\" alt=\"Texto alternativo\"/>\n",
"            </nav>\n",
"        </header>\n",
"        <main>\n",
"            <section>\n",
"                <article>\n",
"                    <div>\n",
"                        <ul>\n",
"                            <li></li>\n",
"                        </ul>\n",
"                        <ol>\n",
"                            <li></li>\n",
"                        </ol>\n",
"                    </div>\n",
"                </article>\n",
"            </section>\n",
"        </main>\n",
"        <footer>\n",
"        </footer>\n",
"    </body>\n",
"</html>"
      ]
    },
{
      "cell_type": "markdown",
      "metadata": {},
      "source": [
      "You can change the order type of the list with the attribute `type=\"a\"` for letters, `type=\"i\"` for Roman numerals, `type=\"1\"` for Arabic numerals."
      ]
    },
{
      "cell_type": "code",
      "execution_count": "None",
      "metadata": {
        "vscode": {
          "languageId": "plaintext"
        }
      },
      "outputs": [],
      "source": [
      "<ol type=\"a\">\n",
"    <li></li>\n",
"</ol>"
      ]
    },
{
      "cell_type": "markdown",
      "metadata": {},
      "source": [
      "If you want the order of the list to start at a specific number, set the `start=\"number\"` attribute."
      ]
    },
{
      "cell_type": "code",
      "execution_count": "None",
      "metadata": {
        "vscode": {
          "languageId": "plaintext"
        }
      },
      "outputs": [],
      "source": [
      "<ol start=\"2\">\n",
"    <li></li>\n",
"</ol>"
      ]
    },
{
      "cell_type": "markdown",
      "metadata": {},
      "source": [
      "If you want the order of the list to go in reverse order, set the `reversed` attribute."
      ]
    },
{
      "cell_type": "code",
      "execution_count": "None",
      "metadata": {
        "vscode": {
          "languageId": "plaintext"
        }
      },
      "outputs": [],
      "source": [
      "<ol reversed>\n",
"    <li></li>\n",
"</ol>"
      ]
    },
{
      "cell_type": "markdown",
      "metadata": {},
      "source": [
      "If we want a list item to have a value, we set the attribute `value=\"number\"`."
      ]
    },
{
      "cell_type": "code",
      "execution_count": "None",
      "metadata": {
        "vscode": {
          "languageId": "plaintext"
        }
      },
      "outputs": [],
      "source": [
      "<ol>\n",
"    <li value=\"2\"></li>\n",
"</ol>"
      ]
    },
{
      "cell_type": "markdown",
      "metadata": {},
      "source": [
      "#### Sorted lists `ol`"
      ]
    },
{
      "cell_type": "markdown",
      "metadata": {},
      "source": [
      "Each of the tags we have seen before has a role, but you can change the role of each of them with the `role=\"role\"` tag."
      ]
    },
{
      "cell_type": "code",
      "execution_count": "None",
      "metadata": {
        "vscode": {
          "languageId": "plaintext"
        }
      },
      "outputs": [],
      "source": [
      "<!DOCTYPE html>\n",
"<html lang=\"es\">\n",
"    <head>\n",
"        <meta charset=\"utf-8\"/>\n",
"        <meta name=\"description\" content=\"Descripción para los buscadores\"/>\n",
"        <meta name=\"robots\" content=\"index,folow\"/>\n",
"        <title>Título pestaña</title>\n",
"        <meta name=\"viewport\" content=\"width=device-width\"/>\n",
"        <meta name=\"theme-color\" content=\"#09f\"/>\n",
"        <link rel=\"stulesheet\" href=\"path\"/>\n",
"        <link rel=\"icon\" type=\"image/png\" href=\"path\"/>\n",
"        <meta property=\"og:title\" content=\"Título para las redes sociales\"/>\n",
"        <meta property=\"og:description\" content=\"Descripción para las redes sociales\"/>\n",
"        <meta property=\"og:image\" content=\"path\"/>\n",
"        <meta property=\"og:image:alt\" content=\"Texto alternativo para la imagen\"/>\n",
"        <link rel=\"alternate\" href=\"path\" hreflang=\"en\"/>\n",
"        <link rel=\"canonical\" href=\"path\"/>\n",
"    </head>\n",
"    <body>\n",
"        <header>\n",
"            <nav>\n",
"                <a href=\"path\">Enlace</a>\n",
"                <img src=\"path\" alt=\"Texto alternativo\"/>\n",
"            </nav>\n",
"        </header>\n",
"        <main>\n",
"            <section>\n",
"                <article>\n",
"                    <div>\n",
"                        <ul>\n",
"                            <li></li>\n",
"                        </ul>\n",
"                        <ol>\n",
"                            <li></li>\n",
"                        </ol>\n",
"                    </div>\n",
"                    <div role=\"list\">\n",
"                        <div role=\"listitem\">\n",
"                        </div>\n",
"                    </div>\n",
"                </article>\n",
"            </section>\n",
"        </main>\n",
"        <footer>\n",
"        </footer>\n",
"    </body>\n",
"</html>"
      ]
    },
{
      "cell_type": "markdown",
      "metadata": {},
      "source": [
      "### Content tags"
      ]
    },
{
      "cell_type": "markdown",
      "metadata": {},
      "source": [
      "To create a new paragraph we use the `<p></p>` tag. To give emphasis to something within a paragraph we can think of using bold (`<b></b>`), but it is better to use the `<strong></strong>` tag, since the `b` tag is deprecated."
      ]
    },
{
      "cell_type": "markdown",
      "metadata": {},
      "source": [
      "To create a title we have the tags `h1`, `h2`, `h3`, `h4`, `h5`, `h6`."
      ]
    },
{
      "cell_type": "markdown",
      "metadata": {},
      "source": [
      "The `a` tag is used to create hyperlinks, the `href` attribute indicates the address of the hyperlink. If you put a `#` pad, the page is not refreshed."
      ]
    },
{
      "cell_type": "markdown",
      "metadata": {},
      "source": [
      "### Multimedia tags"
      ]
    },
{
      "cell_type": "markdown",
      "metadata": {},
      "source": [
      "Multimedia tags do not have opening and closing tags, for example the `img` tag is not written as `<img></img>` but as `<img/>`. This is because it is replaced by an image. So in general replaceable tags do not have closing tags."
      ]
    },
{
      "cell_type": "markdown",
      "metadata": {},
      "source": [
      "There are two types of images\n",
" * Lossy: These images lose quality, but they are less heavy. jpg, jpeg\n",
" * Lossless: These images do not lose quality, but they are very heavy. gif, png-8, png-24, svg"
      ]
    },
{
      "cell_type": "markdown",
      "metadata": {},
      "source": [
      "#### Image optimization"
      ]
    },
{
      "cell_type": "markdown",
      "metadata": {},
      "source": [
      "The average size should be 70 kB\n",
"\n",
"* [Tiny PNG](https://tinypng.com/): enhance image size\n",
"* [Verexif](https://www.verexif.com/): Remove image metadata"
      ]
    },
{
      "cell_type": "markdown",
      "metadata": {},
      "source": [
      "#### `img` tag"
      ]
    },
{
      "cell_type": "markdown",
      "metadata": {},
      "source": [
      "Page to download free images online [pexels](https://www.pexels.com/es-es/)"
      ]
    },
{
      "cell_type": "markdown",
      "metadata": {},
      "source": [
      "The `img` tag has the `src` attribute where the source is indicated."
      ]
    },
{
      "cell_type": "code",
      "execution_count": "None",
      "metadata": {
        "vscode": {
          "languageId": "plaintext"
        }
      },
      "outputs": [],
      "source": [
      "<img src=\"path\"/>"
      ]
    },
{
      "cell_type": "markdown",
      "metadata": {},
      "source": [
      "The `alt` attribute where the alternative text is indicated."
      ]
    },
{
      "cell_type": "code",
      "execution_count": "None",
      "metadata": {
        "vscode": {
          "languageId": "plaintext"
        }
      },
      "outputs": [],
      "source": [
      "<img src=\"path\" alt=\"Texto alternativo\"/>"
      ]
    },
{
      "cell_type": "markdown",
      "metadata": {},
      "source": [
      "The `title` attribute where the title of the image is indicated, which is used so that when we leave the mouse over the image the title appears, it is also used for the `SEO`, so that search engines know what the image is about."
      ]
    },
{
      "cell_type": "code",
      "execution_count": "None",
      "metadata": {
        "vscode": {
          "languageId": "plaintext"
        }
      },
      "outputs": [],
      "source": [
      "<img src=\"path\" alt=\"Texto alternativo\" title=\"Título\"/>"
      ]
    },
{
      "cell_type": "markdown",
      "metadata": {},
      "source": [
      "We can also put the `width` and `height` attribute to indicate the size of the image, but it is better not to put it and let the browser calculate it."
      ]
    },
{
      "cell_type": "code",
      "execution_count": "None",
      "metadata": {
        "vscode": {
          "languageId": "plaintext"
        }
      },
      "outputs": [],
      "source": [
      "<img src=\"path\" alt=\"Texto alternativo\" title=\"Título\" width=\"100\" height=\"100\"/>"
      ]
    },
{
      "cell_type": "markdown",
      "metadata": {},
      "source": [
      "With the `hidden` attribute you can hide the image. This is very useful for when we want an image to appear after the user performs an action. So with the JavaScript we can remove the `hidden` attribute and the image will appear."
      ]
    },
{
      "cell_type": "code",
      "execution_count": "None",
      "metadata": {
        "vscode": {
          "languageId": "plaintext"
        }
      },
      "outputs": [],
      "source": [
      "<img src=\"path\" alt=\"Texto alternativo\" title=\"Título\" hidden/>"
      ]
    },
{
      "cell_type": "markdown",
      "metadata": {},
      "source": [
      "To make pages load faster, you can set the `loading=\"lazy\"` attribute that makes the image load when the user approaches it."
      ]
    },
{
      "cell_type": "code",
      "execution_count": "None",
      "metadata": {
        "vscode": {
          "languageId": "plaintext"
        }
      },
      "outputs": [],
      "source": [
      "<img src=\"path\" alt=\"Texto alternativo\" title=\"Título\" loading=\"lazy\"/>"
      ]
    },
{
      "cell_type": "markdown",
      "metadata": {},
      "source": [
      " > Do not put the `loading=\"lazy\"` attribute on images that are important for SEO, such as the logo. Neither on images that are at the top of the web page, otherwise you will see a flicker."
      ]
    },
{
      "cell_type": "markdown",
      "metadata": {},
      "source": [
      "#### `figure` tag"
      ]
    },
{
      "cell_type": "markdown",
      "metadata": {},
      "source": [
      "This tag allows us to create a container for the image, for example it allows us to add a description, for this you need to use the tag `figcapture`."
      ]
    },
{
      "cell_type": "code",
      "execution_count": "None",
      "metadata": {
        "vscode": {
          "languageId": "plaintext"
        }
      },
      "outputs": [],
      "source": [
      "<figure>\n",
"    <img src=\"path\" alt=\"Texto alternativo\" title=\"Título\"/>\n",
"    <figcaption>Descripción</figcaption>\n",
"</figure>"
      ]
    },
{
      "cell_type": "markdown",
      "metadata": {},
      "source": [
      "#### `video` tag"
      ]
    },
{
      "cell_type": "markdown",
      "metadata": {},
      "source": [
      "With this tag you can add videos, using the `src` attribute. The `controls` attribute is used to make the playback buttons appear. The last attribute is `preload=\"auto\"`, this is so that the video starts to download when the page starts to load, so when the user is going to play it, it is already loaded and it will take less time to play."
      ]
    },
{
      "cell_type": "code",
      "execution_count": "None",
      "metadata": {
        "vscode": {
          "languageId": "plaintext"
        }
      },
      "outputs": [],
      "source": [
      "<video src=\"path\" controls preload=\"auto\">\n",
"</video>"
      ]
    },
{
      "cell_type": "markdown",
      "metadata": {},
      "source": [
      "If you want it to start playing at a certain minute, in `src` just after the source you have to put `#t=xx,yy`."
      ]
    },
{
      "cell_type": "code",
      "execution_count": "None",
      "metadata": {
        "vscode": {
          "languageId": "plaintext"
        }
      },
      "outputs": [],
      "source": [
      "<video src=\"path#t=1,2\" controls>\n",
"</video>"
      ]
    },
{
      "cell_type": "markdown",
      "metadata": {},
      "source": [
      "If the video is in several formats, the source must be placed inside a tag called `source`, where the different possible sources of the video are indicated. The browser will decide which source to use. This is because some browsers play some videos better than others."
      ]
    },
{
      "cell_type": "code",
      "execution_count": "None",
      "metadata": {
        "vscode": {
          "languageId": "plaintext"
        }
      },
      "outputs": [],
      "source": [
      "<video controls>\n",
"    <source src=\"path\" type=\"video/mp4\"/>\n",
"    <source src=\"path\" type=\"video/webm\"/>\n",
"</video>"
      ]
    },
{
      "cell_type": "markdown",
      "metadata": {},
      "source": [
      "If we do not want to have playback controls and the video to play automatically, the `autoplay` attribute is set."
      ]
    },
{
      "cell_type": "code",
      "execution_count": "None",
      "metadata": {
        "vscode": {
          "languageId": "plaintext"
        }
      },
      "outputs": [],
      "source": [
      "<video src=\"path\" autoplay>\n",
"</video>"
      ]
    },
{
      "cell_type": "markdown",
      "metadata": {},
      "source": [
      "But in order not to disturb the user we can make it play without sound, for this we set the `muted` attribute."
      ]
    },
{
      "cell_type": "code",
      "execution_count": "None",
      "metadata": {
        "vscode": {
          "languageId": "plaintext"
        }
      },
      "outputs": [],
      "source": [
      "<video src=\"path\" autoplay muted>\n",
"</video>"
      ]
    },
{
      "cell_type": "markdown",
      "metadata": {},
      "source": [
      "If we want the video to loop, we set the `loop` attribute."
      ]
    },
{
      "cell_type": "code",
      "execution_count": "None",
      "metadata": {
        "vscode": {
          "languageId": "plaintext"
        }
      },
      "outputs": [],
      "source": [
      "<video src=\"path\" autoplay muted loop>\n",
"</video>"
      ]
    },
{
      "cell_type": "markdown",
      "metadata": {},
      "source": [
      "This is very useful for putting a video in the background of a web page."
      ]
    },
{
      "cell_type": "markdown",
      "metadata": {},
      "source": [
      "To change the image of the video when it is not playing, the `poster=\"path\"` attribute is set."
      ]
    },
{
      "cell_type": "code",
      "execution_count": "None",
      "metadata": {
        "vscode": {
          "languageId": "plaintext"
        }
      },
      "outputs": [],
      "source": [
      "<video src=\"path\" autoplay muted loop poster=\"path\">\n",
"</video>"
      ]
    },
{
      "cell_type": "markdown",
      "metadata": {},
      "source": [
      "#### `audio` tag"
      ]
    },
{
      "cell_type": "markdown",
      "metadata": {},
      "source": [
      "To play audio, the `audio` tag is used, for which the `src` attribute is used."
      ]
    },
{
      "cell_type": "code",
      "execution_count": "None",
      "metadata": {
        "vscode": {
          "languageId": "plaintext"
        }
      },
      "outputs": [],
      "source": [
      "<audio src=\"path\">\n",
"</audio>"
      ]
    },
{
      "cell_type": "markdown",
      "metadata": {},
      "source": [
      "The `controls` attribute is set to display the playback controls."
      ]
    },
{
      "cell_type": "code",
      "execution_count": "None",
      "metadata": {
        "vscode": {
          "languageId": "plaintext"
        }
      },
      "outputs": [],
      "source": [
      "<audio src=\"path\" controls>\n",
"</audio>"
      ]
    },
{
      "cell_type": "markdown",
      "metadata": {},
      "source": [
      "If we want the audio to play automatically, we set the `autoplay` attribute."
      ]
    },
{
      "cell_type": "code",
      "execution_count": "None",
      "metadata": {
        "vscode": {
          "languageId": "plaintext"
        }
      },
      "outputs": [],
      "source": [
      "<audio src=\"path\" autoplay>\n",
"</audio>"
      ]
    },
{
      "cell_type": "markdown",
      "metadata": {},
      "source": [
      "If we want the audio to loop, we set the `loop` attribute."
      ]
    },
{
      "cell_type": "code",
      "execution_count": "None",
      "metadata": {
        "vscode": {
          "languageId": "plaintext"
        }
      },
      "outputs": [],
      "source": [
      "<audio src=\"path\" autoplay loop>\n",
"</audio>"
      ]
    },
{
      "cell_type": "markdown",
      "metadata": {},
      "source": [
      "If we want the audio to loop, we set the `loop` attribute."
      ]
    },
{
      "cell_type": "code",
      "execution_count": "None",
      "metadata": {
        "vscode": {
          "languageId": "plaintext"
        }
      },
      "outputs": [],
      "source": [
      "<audio src=\"path\" autoplay loop>\n",
"</audio>"
      ]
    },
{
      "cell_type": "markdown",
      "metadata": {},
      "source": [
      "#### `iframe` tag"
      ]
    },
{
      "cell_type": "markdown",
      "metadata": {},
      "source": [
      "When we share a youtube video it gives us the option to copy the code. This generates an html code that has the `iframe` tag. This tag is used to embed content from other web pages."
      ]
    },
{
      "cell_type": "code",
      "execution_count": "None",
      "metadata": {
        "vscode": {
          "languageId": "plaintext"
        }
      },
      "outputs": [],
      "source": [
      "<iframe src=\"path\">\n",
"</iframe>"
      ]
    },
{
      "cell_type": "markdown",
      "metadata": {},
      "source": [
      "We have talked about the youtube page, but we could embed any page. Although there are some pages that do not allow this."
      ]
    },
{
      "cell_type": "markdown",
      "metadata": {},
      "source": [
      "#### `dialog` label"
      ]
    },
{
      "cell_type": "markdown",
      "metadata": {},
      "source": [
      "You may have seen that many people in their portfolios put their projects and when you click on it a dialog box opens with more information, or in image galleries when you click on an image a dialog box opens with a larger image. This is done with the `dialog` tag."
      ]
    },
{
      "cell_type": "code",
      "execution_count": "None",
      "metadata": {
        "vscode": {
          "languageId": "plaintext"
        }
      },
      "outputs": [],
      "source": [
      "<dialog>\n",
"</dialog>"
      ]
    },
{
      "cell_type": "markdown",
      "metadata": {},
      "source": [
      "Inside you can put whatever you want, for example a title, a text, an image, etc."
      ]
    },
{
      "cell_type": "code",
      "execution_count": "None",
      "metadata": {
        "vscode": {
          "languageId": "plaintext"
        }
      },
      "outputs": [],
      "source": [
      "<dialog id=\"id\">\n",
"    <h1>Título</h1>\n",
"    <p>Texto</p>\n",
"    <img src=\"path\" alt=\"Texto alternativo\"/>\n",
"</dialog>"
      ]
    },
{
      "cell_type": "markdown",
      "metadata": {},
      "source": [
      "To open the dialog box, a button can be placed inside a script."
      ]
    },
{
      "cell_type": "code",
      "execution_count": "None",
      "metadata": {
        "vscode": {
          "languageId": "plaintext"
        }
      },
      "outputs": [],
      "source": [
      "<dialog id=\"dialog\">\n",
"    <h1>Título</h1>\n",
"    <p>Texto</p>\n",
"    <img src=\"path\" alt=\"Texto alternativo\"/>\n",
"</dialog>\n",
"\n",
"<button id=\"open\">\n",
"    Abrir\n",
"</button>\n",
"\n",
"<script>\n",
"    window.open.addEventListener(\"click\", () => {\n",
"        window.dialog.showModal();\n",
"    });\n",
"</script>"
      ]
    },
{
      "cell_type": "markdown",
      "metadata": {},
      "source": [
      "### Forms"
      ]
    },
{
      "cell_type": "markdown",
      "metadata": {},
      "source": [
      "to create a form we do it with the `form` tag, inside this tag we put the fields of the form. The `action` attribute indicates where the form is sent to. The `method` attribute indicates the submission method, it can be `get` or `post`. The `name` attribute indicates the name of the form, this is useful for `JavaScript`."
      ]
    },
{
      "cell_type": "code",
      "execution_count": "None",
      "metadata": {
        "vscode": {
          "languageId": "plaintext"
        }
      },
      "outputs": [],
      "source": [
      "<form action=\"path\" method=\"post\" name=\"name\">\n",
"</form>"
      ]
    },
{
      "cell_type": "markdown",
      "metadata": {},
      "source": [
      "#### Grouping of elements"
      ]
    },
{
      "cell_type": "markdown",
      "metadata": {},
      "source": [
      "With the `fieldset` tag you can group elements of a form. The elements of the form are placed inside this tag. The `legend` attribute indicates the title of the group of elements."
      ]
    },
{
      "cell_type": "code",
      "execution_count": "None",
      "metadata": {
        "vscode": {
          "languageId": "plaintext"
        }
      },
      "outputs": [],
      "source": [
      "<form action=\"path\" method=\"post\" name=\"name\">\n",
"    <fieldset>\n",
"        <legend>Título</legend>\n",
"    </fieldset>\n",
"</form>"
      ]
    },
{
      "cell_type": "markdown",
      "metadata": {},
      "source": [
      "#### Label"
      ]
    },
{
      "cell_type": "markdown",
      "metadata": {},
      "source": [
      "The `label` tag creates a label for a form element. The `for` attribute indicates the id of the form element it refers to.\n",
"\n",
"Then the form element is placed, for example `input`.\n",
"\n",
"You must specify the `type`, which can be of type `text`, `email`, `password`, `number`, `date`, `time`, `color`, `range`, `file`, `checkbox`, `radio`, `submit`, `reset`, `button`, `hidden`.\n",
"\n",
"If the `input` is mandatory, the `required` attribute can be added.\n",
"\n",
"If the user has already entered a value in the `input`, the `autocomplete` attribute can be used to indicate that it should be filled in automatically.\n",
"\n",
"With the `pattern` attribute you can specify a regular expression to validate the `input`. For example to validate if the mail or phone number is correct."
      ]
    },
{
      "cell_type": "code",
      "execution_count": "None",
      "metadata": {
        "vscode": {
          "languageId": "plaintext"
        }
      },
      "outputs": [],
      "source": [
      "<form action=\"path\" method=\"post\" name=\"name\">\n",
"    <fieldset>\n",
"        <legend>Título</legend>\n",
"\n",
"        <label for=\"id\">Nombre:</label>\n",
"        <input type=\"text\" id=\"id\" name=\"name\" placeholder=\"Nombre\" required autocomplete=\"on\"/>\n",
"        \n",
"    </fieldset>\n",
"</form>"
      ]
    },
{
      "cell_type": "markdown",
      "metadata": {},
      "source": [
      "Another way to specify the `input` of a `label` is to put the `input` inside the `label`. Now there is no need for the `for` attribute because it is understood that the `label` refers to the `input` inside."
      ]
    },
{
      "cell_type": "code",
      "execution_count": "None",
      "metadata": {
        "vscode": {
          "languageId": "plaintext"
        }
      },
      "outputs": [],
      "source": [
      "<form action=\"path\" method=\"post\" name=\"name\">\n",
"    <fieldset>\n",
"        <legend>Título</legend>\n",
"\n",
"        <label>Nombre:\n",
"            <input type=\"text\" id=\"id\" name=\"name\" placeholder=\"Nombre\" required/>\n",
"        </label>\n",
"        \n",
"    </fieldset>\n",
"</form>"
      ]
    },
{
      "cell_type": "markdown",
      "metadata": {},
      "source": [
      "#### Select"
      ]
    },
{
      "cell_type": "markdown",
      "metadata": {},
      "source": [
      "With the `select` tag a dropdown is created. Inside this tag the options of the dropdown are placed with the `option` tag. The `value` attribute indicates the value of the option. The `selected` attribute indicates the option that is selected by default."
      ]
    },
{
      "cell_type": "code",
      "execution_count": "None",
      "metadata": {
        "vscode": {
          "languageId": "plaintext"
        }
      },
      "outputs": [],
      "source": [
      "<form action=\"path\" method=\"post\" name=\"name\">\n",
"    <fieldset>\n",
"        <legend>Título</legend>\n",
"\n",
"        <label>Nombre:\n",
"            <input type=\"text\" id=\"id\" name=\"name\" placeholder=\"Nombre\" required/>\n",
"        </label>\n",
"\n",
"        <label>País:\n",
"            <select name=\"country\">\n",
"                <option value=\"es\">España</option>\n",
"                <option value=\"fr\">Francia</option>\n",
"                <option value=\"it\" selected>Italia</option>\n",
"            </select>\n",
"        </label>\n",
"        \n",
"    </fieldset>\n",
"</form>"
      ]
    },
{
      "cell_type": "markdown",
      "metadata": {},
      "source": [
      "In case you have many options, you can use the `datalist` tag to create a list of options, this way, when the user types one of the options in the list, the options that match what he has typed are shown. Inside this tag the options are placed with the `option` tag. The `value` attribute indicates the value of the option."
      ]
    },
{
      "cell_type": "code",
      "execution_count": "None",
      "metadata": {
        "vscode": {
          "languageId": "plaintext"
        }
      },
      "outputs": [],
      "source": [
      "<form action=\"path\" method=\"post\" name=\"name\">\n",
"    <fieldset>\n",
"        <legend>Título</legend>\n",
"\n",
"        <label>Nombre:\n",
"            <input type=\"text\" id=\"id\" name=\"name\" placeholder=\"Nombre\" required/>\n",
"        </label>\n",
"\n",
"        <label>País:\n",
"            <input type=\"text\" list=\"countries\" name=\"country\"/>\n",
"            <datalist id=\"countries\">\n",
"                <option value=\"es\">España</option>\n",
"                <option value=\"fr\">Francia</option>\n",
"                <option value=\"it\">Italia</option>\n",
"            </datalist>\n",
"        </label>\n",
"        \n",
"    </fieldset>\n",
"</form>"
      ]
    },
{
      "cell_type": "markdown",
      "metadata": {},
      "source": [
      "#### Send"
      ]
    },
{
      "cell_type": "markdown",
      "metadata": {},
      "source": [
      "The `input` tag with the `type=\"submit\"` attribute is used to submit the form."
      ]
    },
{
      "cell_type": "code",
      "execution_count": "None",
      "metadata": {
        "vscode": {
          "languageId": "plaintext"
        }
      },
      "outputs": [],
      "source": [
      "<form action=\"path\" method=\"post\" name=\"name\">\n",
"    <fieldset>\n",
"        <legend>Título</legend>\n",
"\n",
"        <label>Nombre:\n",
"            <input type=\"text\" id=\"id\" name=\"name\" placeholder=\"Nombre\" required/>\n",
"        </label>\n",
"        \n",
"        <input type=\"submit\" value=\"Enviar\"/>\n",
"    </fieldset>\n",
"</form>"
      ]
    },
{
      "cell_type": "markdown",
      "metadata": {},
      "source": [
      "### Details"
      ]
    },
{
      "cell_type": "markdown",
      "metadata": {},
      "source": [
      "If you want to make text sections that are normally collapsed, such as a FAQ section, you can use the `details` tag. Inside this tag you put the `summary` tag which is the title of the section. And inside the `details` tag we put the text of the section."
      ]
    },
{
      "cell_type": "code",
      "execution_count": "None",
      "metadata": {
        "vscode": {
          "languageId": "plaintext"
        }
      },
      "outputs": [],
      "source": [
      "<details>\n",
"    <summary>Título</summary>\n",
"    <p>Texto</p>\n",
"</details>"
      ]
    },
{
      "cell_type": "markdown",
      "metadata": {},
      "source": [
      "If we want any of them to appear by default, we set the `open` attribute."
      ]
    },
{
      "cell_type": "code",
      "execution_count": "None",
      "metadata": {
        "vscode": {
          "languageId": "plaintext"
        }
      },
      "outputs": [],
      "source": [
      "<details open>\n",
"    <summary>Título</summary>\n",
"    <p>Texto</p>\n",
"</details>"
      ]
    }
  ],
  "metadata": {
    "kernelspec": {
      "display_name": "Python 3.8.10 64-bit",
      "language": "python",
      "name": "python3"
    },
    "language_info": {
      "name": "python",
      "version": "3.8.10"
    },
    "orig_nbformat": 4,
    "vscode": {
      "interpreter": {
        "hash": "916dbcbb3f70747c44a77c7bcd40155683ae19c65e1c03b4aa3499c5328201f1"
      }
    }
  },
  "nbformat": 4,
  "nbformat_minor": 2
}
