{
  "cells": [
    {
      "cell_type": "markdown",
      "metadata": {},
      "source": [
        "# HTML"
      ]
    },
    {
      "cell_type": "markdown",
      "metadata": {},
      "source": [
        " > Disclaimer: This post has been translated to English using a machine translation model. Please, let me know if you find any mistakes."
      ]
    },
    {
      "cell_type": "markdown",
      "metadata": {},
      "source": [
        "## Comments"
      ]
    },
    {
      "cell_type": "markdown",
      "metadata": {},
      "source": [
        "To add a comment to an `html`, the following code is used:"
      ]
    },
    {
      "cell_type": "code",
      "execution_count": null,
      "metadata": {
        "vscode": {
          "languageId": "plaintext"
        }
      },
      "outputs": [],
      "source": [
        "<!-- Comentario -->"
      ]
    },
    {
      "cell_type": "markdown",
      "metadata": {},
      "source": [
        "## Head"
      ]
    },
    {
      "cell_type": "markdown",
      "metadata": {},
      "source": [
        "The `HTML` must start with a `!DOCTYPE` tag that indicates the version of HTML to the browser. By simply putting `HTML`, the browser understands it as version 5."
      ]
    },
    {
      "cell_type": "code",
      "execution_count": null,
      "metadata": {
        "vscode": {
          "languageId": "plaintext"
        }
      },
      "outputs": [],
      "source": [
        "<!DOCTYPE html>"
      ]
    },
    {
      "cell_type": "markdown",
      "metadata": {},
      "source": [
        "The following must be a container with the `html` tag that has an attribute called `lang` indicating the language in which the page is written."
      ]
    },
    {
      "cell_type": "code",
      "execution_count": null,
      "metadata": {
        "vscode": {
          "languageId": "plaintext"
        }
      },
      "outputs": [],
      "source": [
        "<!DOCTYPE html>\n",
        "<html lang=\"es\">\n",
        "</html>"
      ]
    },
    {
      "cell_type": "markdown",
      "metadata": {},
      "source": [
        "Inside, two more containers are created, the `head` and the `body`."
      ]
    },
    {
      "cell_type": "code",
      "execution_count": null,
      "metadata": {
        "vscode": {
          "languageId": "plaintext"
        }
      },
      "outputs": [],
      "source": [
        "<!DOCTYPE html>\n",
        "<html lang=\"es\">\n",
        "    <head>\n",
        "    </head>\n",
        "    <body>\n",
        "    </body>\n",
        "</html>"
      ]
    },
    {
      "cell_type": "markdown",
      "metadata": {},
      "source": [
        "In the `head` container goes everything that the browser needs to be able to load, while in the `body` goes everything that will be visible on the page."
      ]
    },
    {
      "cell_type": "markdown",
      "metadata": {},
      "source": [
        "One of the `head` tags is `meta` which has an attribute called `charset` that indicates the type of text encoding, usually it is `utf-8`, `utf-16`.",
        "\n",
        "Another type of `meta` is the `name=\"description\"` which is a description for browsers. It is important for SEO.",
        "\n",
        "Another type of meta is the `name=\"robots\"` which is for search engine bots and indicates whether the page can be followed or not.",
        "\n",
        "Another attribute of the `head` is `title` which indicates the title that is seen in the tab.",
        "\n",
        "Another meta is `name=\"viewport\"` which is for responsive design.",
        "\n",
        "Another meta is `name=\"theme-color\"` which is for the navigation bar color.",
        "\n",
        "Another goal is the favicon, which is the icon that appears on the tab. It is written with the `link` tag and the attributes `type` and `href=\"path\"`.",
        "\n",
        "Some important tags for SEO are all those related to `Open Graph`, which are the ones that appear when sharing a link on social media. For this, a very useful page is [open graph](https://opengraph.xyz/), where you can enter your link and it will show you how it would look on each social network. These meta tags are",
        "\n",
        "`property=\"og:title\"` which is the title that appears on social media.",
        "\n",
        "`property=\"og:description\"` is the description that is seen on social media.",
        "\n",
        "`property=\"og:image\"` is the image that is displayed on social media.",
        "\n",
        "`property=\"og:image:alt\"` is the alternative text for the image that appears on social media.",
        "\n",
        "There is a tag for `CSS` that is `link`",
        "\n",
        "On the [Open Graph](https://ogp.me/) page, you can see all the tags that can be placed in the `head`.",
        "\n",
        "Another important tag for SEO is `link rel=\"alternate\"` which is used to indicate that there is an alternative version of the page, for example in another language.",
        "\n",
        "Another important tag for SEO is `link rel=\"canonical\"` which is used to indicate that there is a canonical version of the page, for example in another language.",
        "\n",
        "With the `style` and `script` tags, you can write `CSS` and `JavaScript` in the `html`."
      ]
    },
    {
      "cell_type": "code",
      "execution_count": null,
      "metadata": {
        "vscode": {
          "languageId": "plaintext"
        }
      },
      "outputs": [],
      "source": [
        "<!DOCTYPE html>\n",
        "<html lang=\"es\">\n",
        "    <head>\n",
        "        <meta charset=\"utf-8\"/>\n",
        "        <meta name=\"description\" content=\"Descripci\u00f3n para los buscadores\"/>\n",
        "        <meta name=\"robots\" content=\"index,folow\"/>\n",
        "        <title>T\u00edtulo pesta\u00f1a</title>\n",
        "        <meta name=\"viewport\" content=\"width=device-width\"/>\n",
        "        <meta name=\"theme-color\" content=\"#09f\"/>\n",
        "        <link rel=\"stulesheet\" href=\"path\"/>\n",
        "        <link rel=\"icon\" type=\"image/png\" href=\"path\"/>\n",
        "        <meta property=\"og:title\" content=\"T\u00edtulo para las redes sociales\"/>\n",
        "        <meta property=\"og:description\" content=\"Descripci\u00f3n para las redes sociales\"/>\n",
        "        <meta property=\"og:image\" content=\"path\"/>\n",
        "        <meta property=\"og:image:alt\" content=\"Texto alternativo para la imagen\"/>\n",
        "        <link rel=\"alternate\" href=\"path\" hreflang=\"en\"/>\n",
        "        <link rel=\"canonical\" href=\"path\"/>\n",
        "    </head>\n",
        "    <body>\n",
        "    </body>\n",
        "</html>"
      ]
    },
    {
      "cell_type": "markdown",
      "metadata": {},
      "source": [
        "## Body"
      ]
    },
    {
      "cell_type": "markdown",
      "metadata": {},
      "source": [
        "There are container tags that help create a structure and contain more tags inside. And there are container tags that are the ones that contain the text, images, etc."
      ]
    },
    {
      "cell_type": "markdown",
      "metadata": {},
      "source": [
        "### Container tags"
      ]
    },
    {
      "cell_type": "markdown",
      "metadata": {},
      "source": [
        "#### Header"
      ]
    },
    {
      "cell_type": "markdown",
      "metadata": {},
      "source": [
        "This is the tag to describe the `header`"
      ]
    },
    {
      "cell_type": "code",
      "execution_count": null,
      "metadata": {
        "vscode": {
          "languageId": "plaintext"
        }
      },
      "outputs": [],
      "source": [
        "<!DOCTYPE html>\n",
        "<html lang=\"es\">\n",
        "    <head>\n",
        "        <meta charset=\"utf-8\"/>\n",
        "        <meta name=\"description\" content=\"Descripci\u00f3n para los buscadores\"/>\n",
        "        <meta name=\"robots\" content=\"index,folow\"/>\n",
        "        <title>T\u00edtulo pesta\u00f1a</title>\n",
        "        <meta name=\"viewport\" content=\"width=device-width\"/>\n",
        "        <meta name=\"theme-color\" content=\"#09f\"/>\n",
        "        <link rel=\"stulesheet\" href=\"path\"/>\n",
        "        <link rel=\"icon\" type=\"image/png\" href=\"path\"/>\n",
        "        <meta property=\"og:title\" content=\"T\u00edtulo para las redes sociales\"/>\n",
        "        <meta property=\"og:description\" content=\"Descripci\u00f3n para las redes sociales\"/>\n",
        "        <meta property=\"og:image\" content=\"path\"/>\n",
        "        <meta property=\"og:image:alt\" content=\"Texto alternativo para la imagen\"/>\n",
        "        <link rel=\"alternate\" href=\"path\" hreflang=\"en\"/>\n",
        "        <link rel=\"canonical\" href=\"path\"/>\n",
        "    </head>\n",
        "    <body>\n",
        "        <header>\n",
        "            Header\n",
        "        </header>\n",
        "    </body>\n",
        "</html>"
      ]
    },
    {
      "cell_type": "markdown",
      "metadata": {},
      "source": [
        "##### Navigation"
      ]
    },
    {
      "cell_type": "markdown",
      "metadata": {},
      "source": [
        "The `nav` tag is used to create navigation. Inside this tag, you can place links using the `a` tag and a logo using the `img` tag."
      ]
    },
    {
      "cell_type": "code",
      "execution_count": null,
      "metadata": {
        "vscode": {
          "languageId": "plaintext"
        }
      },
      "outputs": [],
      "source": [
        "<!DOCTYPE html>\n",
        "<html lang=\"es\">\n",
        "    <head>\n",
        "        <meta charset=\"utf-8\"/>\n",
        "        <meta name=\"description\" content=\"Descripci\u00f3n para los buscadores\"/>\n",
        "        <meta name=\"robots\" content=\"index,folow\"/>\n",
        "        <title>T\u00edtulo pesta\u00f1a</title>\n",
        "        <meta name=\"viewport\" content=\"width=device-width\"/>\n",
        "        <meta name=\"theme-color\" content=\"#09f\"/>\n",
        "        <link rel=\"stulesheet\" href=\"path\"/>\n",
        "        <link rel=\"icon\" type=\"image/png\" href=\"path\"/>\n",
        "        <meta property=\"og:title\" content=\"T\u00edtulo para las redes sociales\"/>\n",
        "        <meta property=\"og:description\" content=\"Descripci\u00f3n para las redes sociales\"/>\n",
        "        <meta property=\"og:image\" content=\"path\"/>\n",
        "        <meta property=\"og:image:alt\" content=\"Texto alternativo para la imagen\"/>\n",
        "        <link rel=\"alternate\" href=\"path\" hreflang=\"en\"/>\n",
        "        <link rel=\"canonical\" href=\"path\"/>\n",
        "    </head>\n",
        "    <body>\n",
        "        <header>\n",
        "            <nav>\n",
        "                <a href=\"path\">Enlace</a>\n",
        "                <img src=\"path\" alt=\"Texto alternativo\"/>\n",
        "            </nav>\n",
        "        </header>\n",
        "    </body>\n",
        "</html>"
      ]
    },
    {
      "cell_type": "markdown",
      "metadata": {},
      "source": [
        "##### Links"
      ]
    },
    {
      "cell_type": "markdown",
      "metadata": {},
      "source": [
        "Like in navigation, links are created with the `a` tag and carry an attribute `href=\"path\"` that indicates the link to which the link leads. They can also have an attribute `target=\"_blank\"` that indicates it opens in a new tab. Additionally, you can add the attribute `rel=\"noreferer\"` which indicates that no information about the page from which the link comes is passed."
      ]
    },
    {
      "cell_type": "code",
      "execution_count": null,
      "metadata": {
        "vscode": {
          "languageId": "plaintext"
        }
      },
      "outputs": [],
      "source": [
        "<a href=\"path\" target=\"_blank\">Enlace</a>"
      ]
    },
    {
      "cell_type": "markdown",
      "metadata": {},
      "source": [
        "If the link is to a section of the page, the attribute `href=\"#id\"` is used."
      ]
    },
    {
      "cell_type": "code",
      "execution_count": null,
      "metadata": {
        "vscode": {
          "languageId": "plaintext"
        }
      },
      "outputs": [],
      "source": [
        "<a href=\"#id\">Enlace</a>"
      ]
    },
    {
      "cell_type": "markdown",
      "metadata": {},
      "source": [
        "Therefore, in another part of the page, a container with the attribute `id=\"id\"` must be placed."
      ]
    },
    {
      "cell_type": "code",
      "execution_count": null,
      "metadata": {
        "vscode": {
          "languageId": "plaintext"
        }
      },
      "outputs": [],
      "source": [
        "<div id=\"id\">\n",
        "</div>"
      ]
    },
    {
      "cell_type": "markdown",
      "metadata": {},
      "source": [
        "If the link is an email address, the attribute `href=\"mailto:email\"` is used."
      ]
    },
    {
      "cell_type": "code",
      "execution_count": null,
      "metadata": {
        "vscode": {
          "languageId": "plaintext"
        }
      },
      "outputs": [],
      "source": [
        "<a href=\"mailto:email\">Email</a>"
      ]
    },
    {
      "cell_type": "markdown",
      "metadata": {},
      "source": [
        "If the link is a phone number, the attribute `href=\"tel:phone\"` is used."
      ]
    },
    {
      "cell_type": "code",
      "execution_count": null,
      "metadata": {
        "vscode": {
          "languageId": "plaintext"
        }
      },
      "outputs": [],
      "source": [
        "<a href=\"tel:phone\">Tel\u00e9fono</a>"
      ]
    },
    {
      "cell_type": "markdown",
      "metadata": {},
      "source": [
        "If you want to add a link to open WhatsApp, you put the attribute `href=\"https://wa.me/phone\"`."
      ]
    },
    {
      "cell_type": "code",
      "execution_count": null,
      "metadata": {
        "vscode": {
          "languageId": "plaintext"
        }
      },
      "outputs": [],
      "source": [
        "<a href=\"https://wa.me/phone\">WhatsApp</a>"
      ]
    },
    {
      "cell_type": "markdown",
      "metadata": {},
      "source": [
        "#### Main"
      ]
    },
    {
      "cell_type": "markdown",
      "metadata": {},
      "source": [
        "This is the tag to describe the `main`"
      ]
    },
    {
      "cell_type": "code",
      "execution_count": null,
      "metadata": {
        "vscode": {
          "languageId": "plaintext"
        }
      },
      "outputs": [],
      "source": [
        "<!DOCTYPE html>\n",
        "<html lang=\"es\">\n",
        "    <head>\n",
        "        <meta charset=\"utf-8\"/>\n",
        "        <meta name=\"description\" content=\"Descripci\u00f3n para los buscadores\"/>\n",
        "        <meta name=\"robots\" content=\"index,folow\"/>\n",
        "        <title>T\u00edtulo pesta\u00f1a</title>\n",
        "        <meta name=\"viewport\" content=\"width=device-width\"/>\n",
        "        <meta name=\"theme-color\" content=\"#09f\"/>\n",
        "        <link rel=\"stulesheet\" href=\"path\"/>\n",
        "        <link rel=\"icon\" type=\"image/png\" href=\"path\"/>\n",
        "        <meta property=\"og:title\" content=\"T\u00edtulo para las redes sociales\"/>\n",
        "        <meta property=\"og:description\" content=\"Descripci\u00f3n para las redes sociales\"/>\n",
        "        <meta property=\"og:image\" content=\"path\"/>\n",
        "        <meta property=\"og:image:alt\" content=\"Texto alternativo para la imagen\"/>\n",
        "        <link rel=\"alternate\" href=\"path\" hreflang=\"en\"/>\n",
        "        <link rel=\"canonical\" href=\"path\"/>\n",
        "    </head>\n",
        "    <body>\n",
        "        <header>\n",
        "            <nav>\n",
        "                <a href=\"path\">Enlace</a>\n",
        "                <img src=\"path\" alt=\"Texto alternativo\"/>\n",
        "            </nav>\n",
        "        </header>\n",
        "        <main>\n",
        "        </main>\n",
        "    </body>\n",
        "</html>"
      ]
    },
    {
      "cell_type": "markdown",
      "metadata": {},
      "source": [
        "#### Footer"
      ]
    },
    {
      "cell_type": "markdown",
      "metadata": {},
      "source": [
        "This is the tag to describe the `footer`"
      ]
    },
    {
      "cell_type": "code",
      "execution_count": null,
      "metadata": {
        "vscode": {
          "languageId": "plaintext"
        }
      },
      "outputs": [],
      "source": [
        "<!DOCTYPE html>\n",
        "<html lang=\"es\">\n",
        "    <head>\n",
        "        <meta charset=\"utf-8\"/>\n",
        "        <meta name=\"description\" content=\"Descripci\u00f3n para los buscadores\"/>\n",
        "        <meta name=\"robots\" content=\"index,folow\"/>\n",
        "        <title>T\u00edtulo pesta\u00f1a</title>\n",
        "        <meta name=\"viewport\" content=\"width=device-width\"/>\n",
        "        <meta name=\"theme-color\" content=\"#09f\"/>\n",
        "        <link rel=\"stulesheet\" href=\"path\"/>\n",
        "        <link rel=\"icon\" type=\"image/png\" href=\"path\"/>\n",
        "        <meta property=\"og:title\" content=\"T\u00edtulo para las redes sociales\"/>\n",
        "        <meta property=\"og:description\" content=\"Descripci\u00f3n para las redes sociales\"/>\n",
        "        <meta property=\"og:image\" content=\"path\"/>\n",
        "        <meta property=\"og:image:alt\" content=\"Texto alternativo para la imagen\"/>\n",
        "        <link rel=\"alternate\" href=\"path\" hreflang=\"en\"/>\n",
        "        <link rel=\"canonical\" href=\"path\"/>\n",
        "    </head>\n",
        "    <body>\n",
        "        <header>\n",
        "            <nav>\n",
        "                <a href=\"path\">Enlace</a>\n",
        "                <img src=\"path\" alt=\"Texto alternativo\"/>\n",
        "            </nav>\n",
        "        </header>\n",
        "        <main>\n",
        "        </main>\n",
        "        <footer>\n",
        "        </footer>\n",
        "    </body>\n",
        "</html>"
      ]
    },
    {
      "cell_type": "markdown",
      "metadata": {},
      "source": [
        "#### Section"
      ]
    },
    {
      "cell_type": "markdown",
      "metadata": {},
      "source": [
        "Inside `main` sections can be created"
      ]
    },
    {
      "cell_type": "code",
      "execution_count": null,
      "metadata": {
        "vscode": {
          "languageId": "plaintext"
        }
      },
      "outputs": [],
      "source": [
        "<!DOCTYPE html>\n",
        "<html lang=\"es\">\n",
        "    <head>\n",
        "        <meta charset=\"utf-8\"/>\n",
        "        <meta name=\"description\" content=\"Descripci\u00f3n para los buscadores\"/>\n",
        "        <meta name=\"robots\" content=\"index,folow\"/>\n",
        "        <title>T\u00edtulo pesta\u00f1a</title>\n",
        "        <meta name=\"viewport\" content=\"width=device-width\"/>\n",
        "        <meta name=\"theme-color\" content=\"#09f\"/>\n",
        "        <link rel=\"stulesheet\" href=\"path\"/>\n",
        "        <link rel=\"icon\" type=\"image/png\" href=\"path\"/>\n",
        "        <meta property=\"og:title\" content=\"T\u00edtulo para las redes sociales\"/>\n",
        "        <meta property=\"og:description\" content=\"Descripci\u00f3n para las redes sociales\"/>\n",
        "        <meta property=\"og:image\" content=\"path\"/>\n",
        "        <meta property=\"og:image:alt\" content=\"Texto alternativo para la imagen\"/>\n",
        "        <link rel=\"alternate\" href=\"path\" hreflang=\"en\"/>\n",
        "        <link rel=\"canonical\" href=\"path\"/>\n",
        "    </head>\n",
        "    <body>\n",
        "        <header>\n",
        "            <nav>\n",
        "                <a href=\"path\">Enlace</a>\n",
        "                <img src=\"path\" alt=\"Texto alternativo\"/>\n",
        "            </nav>\n",
        "        </header>\n",
        "        <main>\n",
        "            <section>\n",
        "            </section>\n",
        "        </main>\n",
        "        <footer>\n",
        "        </footer>\n",
        "    </body>\n",
        "</html>"
      ]
    },
    {
      "cell_type": "markdown",
      "metadata": {},
      "source": [
        "#### Article"
      ]
    },
    {
      "cell_type": "markdown",
      "metadata": {},
      "source": [
        "Inside `main` there can be articles"
      ]
    },
    {
      "cell_type": "code",
      "execution_count": null,
      "metadata": {
        "vscode": {
          "languageId": "plaintext"
        }
      },
      "outputs": [],
      "source": [
        "<!DOCTYPE html>\n",
        "<html lang=\"es\">\n",
        "    <head>\n",
        "        <meta charset=\"utf-8\"/>\n",
        "        <meta name=\"description\" content=\"Descripci\u00f3n para los buscadores\"/>\n",
        "        <meta name=\"robots\" content=\"index,folow\"/>\n",
        "        <title>T\u00edtulo pesta\u00f1a</title>\n",
        "        <meta name=\"viewport\" content=\"width=device-width\"/>\n",
        "        <meta name=\"theme-color\" content=\"#09f\"/>\n",
        "        <link rel=\"stulesheet\" href=\"path\"/>\n",
        "        <link rel=\"icon\" type=\"image/png\" href=\"path\"/>\n",
        "        <meta property=\"og:title\" content=\"T\u00edtulo para las redes sociales\"/>\n",
        "        <meta property=\"og:description\" content=\"Descripci\u00f3n para las redes sociales\"/>\n",
        "        <meta property=\"og:image\" content=\"path\"/>\n",
        "        <meta property=\"og:image:alt\" content=\"Texto alternativo para la imagen\"/>\n",
        "        <link rel=\"alternate\" href=\"path\" hreflang=\"en\"/>\n",
        "        <link rel=\"canonical\" href=\"path\"/>\n",
        "    </head>\n",
        "    <body>\n",
        "        <header>\n",
        "            <nav>\n",
        "                <a href=\"path\">Enlace</a>\n",
        "                <img src=\"path\" alt=\"Texto alternativo\"/>\n",
        "            </nav>\n",
        "        </header>\n",
        "        <main>\n",
        "            <section>\n",
        "                <article>\n",
        "                </article>\n",
        "            </section>\n",
        "        </main>\n",
        "        <footer>\n",
        "        </footer>\n",
        "    </body>\n",
        "</html>"
      ]
    },
    {
      "cell_type": "markdown",
      "metadata": {},
      "source": [
        "#### Divider"
      ]
    },
    {
      "cell_type": "markdown",
      "metadata": {},
      "source": [
        "When we have run out of semantic tags, the `div` tag can be used, which is a generic container."
      ]
    },
    {
      "cell_type": "code",
      "execution_count": null,
      "metadata": {
        "vscode": {
          "languageId": "plaintext"
        }
      },
      "outputs": [],
      "source": [
        "<!DOCTYPE html>\n",
        "<html lang=\"es\">\n",
        "    <head>\n",
        "        <meta charset=\"utf-8\"/>\n",
        "        <meta name=\"description\" content=\"Descripci\u00f3n para los buscadores\"/>\n",
        "        <meta name=\"robots\" content=\"index,folow\"/>\n",
        "        <title>T\u00edtulo pesta\u00f1a</title>\n",
        "        <meta name=\"viewport\" content=\"width=device-width\"/>\n",
        "        <meta name=\"theme-color\" content=\"#09f\"/>\n",
        "        <link rel=\"stulesheet\" href=\"path\"/>\n",
        "        <link rel=\"icon\" type=\"image/png\" href=\"path\"/>\n",
        "        <meta property=\"og:title\" content=\"T\u00edtulo para las redes sociales\"/>\n",
        "        <meta property=\"og:description\" content=\"Descripci\u00f3n para las redes sociales\"/>\n",
        "        <meta property=\"og:image\" content=\"path\"/>\n",
        "        <meta property=\"og:image:alt\" content=\"Texto alternativo para la imagen\"/>\n",
        "        <link rel=\"alternate\" href=\"path\" hreflang=\"en\"/>\n",
        "        <link rel=\"canonical\" href=\"path\"/>\n",
        "    </head>\n",
        "    <body>\n",
        "        <header>\n",
        "            <nav>\n",
        "                <a href=\"path\">Enlace</a>\n",
        "                <img src=\"path\" alt=\"Texto alternativo\"/>\n",
        "            </nav>\n",
        "        </header>\n",
        "        <main>\n",
        "            <section>\n",
        "                <article>\n",
        "                    <div>\n",
        "                    </div>\n",
        "                </article>\n",
        "            </section>\n",
        "        </main>\n",
        "        <footer>\n",
        "        </footer>\n",
        "    </body>\n",
        "</html>"
      ]
    },
    {
      "cell_type": "markdown",
      "metadata": {},
      "source": [
        "#### Unordered lists `ul`"
      ]
    },
    {
      "cell_type": "markdown",
      "metadata": {},
      "source": [
        "Inside `main` there can be unordered lists, each item of the list must have the `li` tag"
      ]
    },
    {
      "cell_type": "code",
      "execution_count": null,
      "metadata": {
        "vscode": {
          "languageId": "plaintext"
        }
      },
      "outputs": [],
      "source": [
        "<!DOCTYPE html>\n",
        "<html lang=\"es\">\n",
        "    <head>\n",
        "        <meta charset=\"utf-8\"/>\n",
        "        <meta name=\"description\" content=\"Descripci\u00f3n para los buscadores\"/>\n",
        "        <meta name=\"robots\" content=\"index,folow\"/>\n",
        "        <title>T\u00edtulo pesta\u00f1a</title>\n",
        "        <meta name=\"viewport\" content=\"width=device-width\"/>\n",
        "        <meta name=\"theme-color\" content=\"#09f\"/>\n",
        "        <link rel=\"stulesheet\" href=\"path\"/>\n",
        "        <link rel=\"icon\" type=\"image/png\" href=\"path\"/>\n",
        "        <meta property=\"og:title\" content=\"T\u00edtulo para las redes sociales\"/>\n",
        "        <meta property=\"og:description\" content=\"Descripci\u00f3n para las redes sociales\"/>\n",
        "        <meta property=\"og:image\" content=\"path\"/>\n",
        "        <meta property=\"og:image:alt\" content=\"Texto alternativo para la imagen\"/>\n",
        "        <link rel=\"alternate\" href=\"path\" hreflang=\"en\"/>\n",
        "        <link rel=\"canonical\" href=\"path\"/>\n",
        "    </head>\n",
        "    <body>\n",
        "        <header>\n",
        "            <nav>\n",
        "                <a href=\"path\">Enlace</a>\n",
        "                <img src=\"path\" alt=\"Texto alternativo\"/>\n",
        "            </nav>\n",
        "        </header>\n",
        "        <main>\n",
        "            <section>\n",
        "                <article>\n",
        "                    <div>\n",
        "                        <ul>\n",
        "                            <li></li>\n",
        "                        </ul>\n",
        "                    </div>\n",
        "                </article>\n",
        "            </section>\n",
        "        </main>\n",
        "        <footer>\n",
        "        </footer>\n",
        "    </body>\n",
        "</html>"
      ]
    },
    {
      "cell_type": "markdown",
      "metadata": {},
      "source": [
        "#### Ordered lists `ol`"
      ]
    },
    {
      "cell_type": "markdown",
      "metadata": {},
      "source": [
        "Within `main` there can be ordered lists, each item of the list must have the `li` tag"
      ]
    },
    {
      "cell_type": "code",
      "execution_count": null,
      "metadata": {
        "vscode": {
          "languageId": "plaintext"
        }
      },
      "outputs": [],
      "source": [
        "<!DOCTYPE html>\n",
        "<html lang=\"es\">\n",
        "    <head>\n",
        "        <meta charset=\"utf-8\"/>\n",
        "        <meta name=\"description\" content=\"Descripci\u00f3n para los buscadores\"/>\n",
        "        <meta name=\"robots\" content=\"index,folow\"/>\n",
        "        <title>T\u00edtulo pesta\u00f1a</title>\n",
        "        <meta name=\"viewport\" content=\"width=device-width\"/>\n",
        "        <meta name=\"theme-color\" content=\"#09f\"/>\n",
        "        <link rel=\"stulesheet\" href=\"path\"/>\n",
        "        <link rel=\"icon\" type=\"image/png\" href=\"path\"/>\n",
        "        <meta property=\"og:title\" content=\"T\u00edtulo para las redes sociales\"/>\n",
        "        <meta property=\"og:description\" content=\"Descripci\u00f3n para las redes sociales\"/>\n",
        "        <meta property=\"og:image\" content=\"path\"/>\n",
        "        <meta property=\"og:image:alt\" content=\"Texto alternativo para la imagen\"/>\n",
        "        <link rel=\"alternate\" href=\"path\" hreflang=\"en\"/>\n",
        "        <link rel=\"canonical\" href=\"path\"/>\n",
        "    </head>\n",
        "    <body>\n",
        "        <header>\n",
        "            <nav>\n",
        "                <a href=\"path\">Enlace</a>\n",
        "                <img src=\"path\" alt=\"Texto alternativo\"/>\n",
        "            </nav>\n",
        "        </header>\n",
        "        <main>\n",
        "            <section>\n",
        "                <article>\n",
        "                    <div>\n",
        "                        <ul>\n",
        "                            <li></li>\n",
        "                        </ul>\n",
        "                        <ol>\n",
        "                            <li></li>\n",
        "                        </ol>\n",
        "                    </div>\n",
        "                </article>\n",
        "            </section>\n",
        "        </main>\n",
        "        <footer>\n",
        "        </footer>\n",
        "    </body>\n",
        "</html>"
      ]
    },
    {
      "cell_type": "markdown",
      "metadata": {},
      "source": [
        "The type of list order can be changed with the attribute `type=\"a\"` for letters, `type=\"i\"` for Roman numerals, `type=\"1\"` for Arabic numerals."
      ]
    },
    {
      "cell_type": "code",
      "execution_count": null,
      "metadata": {
        "vscode": {
          "languageId": "plaintext"
        }
      },
      "outputs": [],
      "source": [
        "<ol type=\"a\">\n",
        "    <li></li>\n",
        "</ol>"
      ]
    },
    {
      "cell_type": "markdown",
      "metadata": {},
      "source": [
        "If you want the order of the list to start at a specific number, use the attribute `start=\"number\"`."
      ]
    },
    {
      "cell_type": "code",
      "execution_count": null,
      "metadata": {
        "vscode": {
          "languageId": "plaintext"
        }
      },
      "outputs": [],
      "source": [
        "<ol start=\"2\">\n",
        "    <li></li>\n",
        "</ol>"
      ]
    },
    {
      "cell_type": "markdown",
      "metadata": {},
      "source": [
        "If you want the order of the list to be in reverse order, you put the attribute `reversed`."
      ]
    },
    {
      "cell_type": "code",
      "execution_count": null,
      "metadata": {
        "vscode": {
          "languageId": "plaintext"
        }
      },
      "outputs": [],
      "source": [
        "<ol reversed>\n",
        "    <li></li>\n",
        "</ol>"
      ]
    },
    {
      "cell_type": "markdown",
      "metadata": {},
      "source": [
        "If we want a list item to have a value, we set the attribute `value=\"number\"`."
      ]
    },
    {
      "cell_type": "code",
      "execution_count": null,
      "metadata": {
        "vscode": {
          "languageId": "plaintext"
        }
      },
      "outputs": [],
      "source": [
        "<ol>\n",
        "    <li value=\"2\"></li>\n",
        "</ol>"
      ]
    },
    {
      "cell_type": "markdown",
      "metadata": {},
      "source": [
        "#### Role `role`"
      ]
    },
    {
      "cell_type": "markdown",
      "metadata": {},
      "source": [
        "Each of the tags we've seen before has a role, but the role of each one can be changed with the `role=\"role\"` attribute."
      ]
    },
    {
      "cell_type": "code",
      "execution_count": null,
      "metadata": {
        "vscode": {
          "languageId": "plaintext"
        }
      },
      "outputs": [],
      "source": [
        "<!DOCTYPE html>\n",
        "<html lang=\"es\">\n",
        "    <head>\n",
        "        <meta charset=\"utf-8\"/>\n",
        "        <meta name=\"description\" content=\"Descripci\u00f3n para los buscadores\"/>\n",
        "        <meta name=\"robots\" content=\"index,folow\"/>\n",
        "        <title>T\u00edtulo pesta\u00f1a</title>\n",
        "        <meta name=\"viewport\" content=\"width=device-width\"/>\n",
        "        <meta name=\"theme-color\" content=\"#09f\"/>\n",
        "        <link rel=\"stulesheet\" href=\"path\"/>\n",
        "        <link rel=\"icon\" type=\"image/png\" href=\"path\"/>\n",
        "        <meta property=\"og:title\" content=\"T\u00edtulo para las redes sociales\"/>\n",
        "        <meta property=\"og:description\" content=\"Descripci\u00f3n para las redes sociales\"/>\n",
        "        <meta property=\"og:image\" content=\"path\"/>\n",
        "        <meta property=\"og:image:alt\" content=\"Texto alternativo para la imagen\"/>\n",
        "        <link rel=\"alternate\" href=\"path\" hreflang=\"en\"/>\n",
        "        <link rel=\"canonical\" href=\"path\"/>\n",
        "    </head>\n",
        "    <body>\n",
        "        <header>\n",
        "            <nav>\n",
        "                <a href=\"path\">Enlace</a>\n",
        "                <img src=\"path\" alt=\"Texto alternativo\"/>\n",
        "            </nav>\n",
        "        </header>\n",
        "        <main>\n",
        "            <section>\n",
        "                <article>\n",
        "                    <div>\n",
        "                        <ul>\n",
        "                            <li></li>\n",
        "                        </ul>\n",
        "                        <ol>\n",
        "                            <li></li>\n",
        "                        </ol>\n",
        "                    </div>\n",
        "                    <div role=\"list\">\n",
        "                        <div role=\"listitem\">\n",
        "                        </div>\n",
        "                    </div>\n",
        "                </article>\n",
        "            </section>\n",
        "        </main>\n",
        "        <footer>\n",
        "        </footer>\n",
        "    </body>\n",
        "</html>"
      ]
    },
    {
      "cell_type": "markdown",
      "metadata": {},
      "source": [
        "### Content Tags"
      ]
    },
    {
      "cell_type": "markdown",
      "metadata": {},
      "source": [
        "To create a new paragraph, we use the `<p></p>` tag. To emphasize something within a paragraph, we might think of using bold (`<b></b>`), but it's better to use the `<strong></strong>` tag, since the `b` tag is **deprecated**."
      ]
    },
    {
      "cell_type": "markdown",
      "metadata": {},
      "source": [
        "To create a title we have the tags `h1`, `h2`, `h3`, `h4`, `h5`, `h6`."
      ]
    },
    {
      "cell_type": "markdown",
      "metadata": {},
      "source": [
        "To create hyperlinks, the `a` tag is used, the `href` attribute indicates the address of the hyperlink. If a hash `#` is used, the page does not refresh."
      ]
    },
    {
      "cell_type": "markdown",
      "metadata": {},
      "source": [
        "### Multimedia tags"
      ]
    },
    {
      "cell_type": "markdown",
      "metadata": {},
      "source": [
        "Multimedia tags do not have opening and closing tags, for example the `img` tag is not written as `<img></img>` but as `<img/>`. This is because it is replaced by an image. Therefore, in general, replaceable tags do not have a closing tag."
      ]
    },
    {
      "cell_type": "markdown",
      "metadata": {},
      "source": [
        "There are two types of images",
        "* Lossy (with loss): These images lose quality, but are lighter. jpg, jpeg",
        "* Lossless (without loss): These images do not lose quality, but they are very heavy. GIF, PNG-8, PNG-24, SVG"
      ]
    },
    {
      "cell_type": "markdown",
      "metadata": {},
      "source": [
        "#### Image Optimization"
      ]
    },
    {
      "cell_type": "markdown",
      "metadata": {},
      "source": [
        "The average size should be 70 KB",
        "\n",
        "* [Tiny PNG](https://tinypng.com/): reduces the image size",
        "* [Verexif](https://www.verexif.com/): Removes image metadata"
      ]
    },
    {
      "cell_type": "markdown",
      "metadata": {},
      "source": [
        "#### Tag `img`"
      ]
    },
    {
      "cell_type": "markdown",
      "metadata": {},
      "source": [
        "Page to download free images from the internet [pexels](https://www.pexels.com/es-es/)"
      ]
    },
    {
      "cell_type": "markdown",
      "metadata": {},
      "source": [
        "The `img` tag has the `src` attribute where the source is indicated."
      ]
    },
    {
      "cell_type": "code",
      "execution_count": null,
      "metadata": {
        "vscode": {
          "languageId": "plaintext"
        }
      },
      "outputs": [],
      "source": [
        "<img src=\"path\"/>"
      ]
    },
    {
      "cell_type": "markdown",
      "metadata": {},
      "source": [
        "The `alt` attribute where the alternative text is indicated."
      ]
    },
    {
      "cell_type": "code",
      "execution_count": null,
      "metadata": {
        "vscode": {
          "languageId": "plaintext"
        }
      },
      "outputs": [],
      "source": [
        "<img src=\"path\" alt=\"Texto alternativo\"/>"
      ]
    },
    {
      "cell_type": "markdown",
      "metadata": {},
      "source": [
        "The `title` attribute where the title of the image is indicated, which serves to display the title when we hover over the image with the mouse, also serves for `SEO`, so that search engines know what the image is about."
      ]
    },
    {
      "cell_type": "code",
      "execution_count": null,
      "metadata": {
        "vscode": {
          "languageId": "plaintext"
        }
      },
      "outputs": [],
      "source": [
        "<img src=\"path\" alt=\"Texto alternativo\" title=\"T\u00edtulo\"/>"
      ]
    },
    {
      "cell_type": "markdown",
      "metadata": {},
      "source": [
        "We can also set the `width` and `height` attributes to indicate the size of the image, but it's better not to set them and let the browser calculate it."
      ]
    },
    {
      "cell_type": "code",
      "execution_count": null,
      "metadata": {
        "vscode": {
          "languageId": "plaintext"
        }
      },
      "outputs": [],
      "source": [
        "<img src=\"path\" alt=\"Texto alternativo\" title=\"T\u00edtulo\" width=\"100\" height=\"100\"/>"
      ]
    },
    {
      "cell_type": "markdown",
      "metadata": {},
      "source": [
        "The `hidden` attribute can be used to hide an image, which is very useful when we want an image to appear after the user performs an action. With JavaScript, we can remove the `hidden` attribute and the image will appear."
      ]
    },
    {
      "cell_type": "code",
      "execution_count": null,
      "metadata": {
        "vscode": {
          "languageId": "plaintext"
        }
      },
      "outputs": [],
      "source": [
        "<img src=\"path\" alt=\"Texto alternativo\" title=\"T\u00edtulo\" hidden/>"
      ]
    },
    {
      "cell_type": "markdown",
      "metadata": {},
      "source": [
        "To make pages load faster, you can use the `loading=\"lazy\"` attribute, which makes the image load when the user approaches it."
      ]
    },
    {
      "cell_type": "code",
      "execution_count": null,
      "metadata": {
        "vscode": {
          "languageId": "plaintext"
        }
      },
      "outputs": [],
      "source": [
        "<img src=\"path\" alt=\"Texto alternativo\" title=\"T\u00edtulo\" loading=\"lazy\"/>"
      ]
    },
    {
      "cell_type": "markdown",
      "metadata": {},
      "source": [
        "> **Important!** Do not use the `loading=\"lazy\"` attribute on images that are important for SEO, such as the logo. Nor should you use it on images at the beginning of the webpage, as this can cause a flicker."
      ]
    },
    {
      "cell_type": "markdown",
      "metadata": {},
      "source": [
        "#### Tag `figure`"
      ]
    },
    {
      "cell_type": "markdown",
      "metadata": {},
      "source": [
        "This tag allows us to create a container for the image, for example, it allows us to add a description. For this, you need to use the `figcapture` tag."
      ]
    },
    {
      "cell_type": "code",
      "execution_count": null,
      "metadata": {
        "vscode": {
          "languageId": "plaintext"
        }
      },
      "outputs": [],
      "source": [
        "<figure>\n",
        "    <img src=\"path\" alt=\"Texto alternativo\" title=\"T\u00edtulo\"/>\n",
        "    <figcaption>Descripci\u00f3n</figcaption>\n",
        "</figure>"
      ]
    },
    {
      "cell_type": "markdown",
      "metadata": {},
      "source": [
        "#### `video` tag"
      ]
    },
    {
      "cell_type": "markdown",
      "metadata": {},
      "source": [
        "This tag can be used to add videos, for which the `src` attribute is used. To display the playback buttons, the `controls` attribute must be added. The last attribute is `preload=\"auto\"`, which ensures that the video starts downloading when the page begins to load, so by the time the user wants to play it, a significant portion is already loaded and it will take less time to start playing."
      ]
    },
    {
      "cell_type": "code",
      "execution_count": null,
      "metadata": {
        "vscode": {
          "languageId": "plaintext"
        }
      },
      "outputs": [],
      "source": [
        "<video src=\"path\" controls preload=\"auto\">\n",
        "</video>"
      ]
    },
    {
      "cell_type": "markdown",
      "metadata": {},
      "source": [
        "If you want it to start playing at a specific minute, after the source in `src` you need to put `#t=xx,yy`"
      ]
    },
    {
      "cell_type": "code",
      "execution_count": null,
      "metadata": {
        "vscode": {
          "languageId": "plaintext"
        }
      },
      "outputs": [],
      "source": [
        "<video src=\"path#t=1,2\" controls>\n",
        "</video>"
      ]
    },
    {
      "cell_type": "markdown",
      "metadata": {},
      "source": [
        "If the video is in multiple formats, the source should be placed inside a tag called `source`, where the different possible sources of the video are indicated. The browser will decide which source to use. This is because some browsers play certain videos better than others."
      ]
    },
    {
      "cell_type": "code",
      "execution_count": null,
      "metadata": {
        "vscode": {
          "languageId": "plaintext"
        }
      },
      "outputs": [],
      "source": [
        "<video controls>\n",
        "    <source src=\"path\" type=\"video/mp4\"/>\n",
        "    <source src=\"path\" type=\"video/webm\"/>\n",
        "</video>"
      ]
    },
    {
      "cell_type": "markdown",
      "metadata": {},
      "source": [
        "If we don't want playback controls and want the video to play automatically, we set the `autoplay` attribute."
      ]
    },
    {
      "cell_type": "code",
      "execution_count": null,
      "metadata": {
        "vscode": {
          "languageId": "plaintext"
        }
      },
      "outputs": [],
      "source": [
        "<video src=\"path\" autoplay>\n",
        "</video>"
      ]
    },
    {
      "cell_type": "markdown",
      "metadata": {},
      "source": [
        "But to avoid disturbing the user, we can make it play silently by adding the `muted` attribute."
      ]
    },
    {
      "cell_type": "code",
      "execution_count": null,
      "metadata": {
        "vscode": {
          "languageId": "plaintext"
        }
      },
      "outputs": [],
      "source": [
        "<video src=\"path\" autoplay muted>\n",
        "</video>"
      ]
    },
    {
      "cell_type": "markdown",
      "metadata": {},
      "source": [
        "If we want the video to play in a loop, we add the `loop` attribute."
      ]
    },
    {
      "cell_type": "code",
      "execution_count": null,
      "metadata": {
        "vscode": {
          "languageId": "plaintext"
        }
      },
      "outputs": [],
      "source": [
        "<video src=\"path\" autoplay muted loop>\n",
        "</video>"
      ]
    },
    {
      "cell_type": "markdown",
      "metadata": {},
      "source": [
        "This is very useful for adding a background video to a webpage."
      ]
    },
    {
      "cell_type": "markdown",
      "metadata": {},
      "source": [
        "To change the video image when it is not playing, set the attribute `poster=\"path\"`."
      ]
    },
    {
      "cell_type": "code",
      "execution_count": null,
      "metadata": {
        "vscode": {
          "languageId": "plaintext"
        }
      },
      "outputs": [],
      "source": [
        "<video src=\"path\" autoplay muted loop poster=\"path\">\n",
        "</video>"
      ]
    },
    {
      "cell_type": "markdown",
      "metadata": {},
      "source": [
        "#### `audio` tag"
      ]
    },
    {
      "cell_type": "markdown",
      "metadata": {},
      "source": [
        "To play audio, the `audio` tag is used, for which the `src` attribute is used."
      ]
    },
    {
      "cell_type": "code",
      "execution_count": null,
      "metadata": {
        "vscode": {
          "languageId": "plaintext"
        }
      },
      "outputs": [],
      "source": [
        "<audio src=\"path\">\n",
        "</audio>"
      ]
    },
    {
      "cell_type": "markdown",
      "metadata": {},
      "source": [
        "To make the playback controls appear, the `controls` attribute is added."
      ]
    },
    {
      "cell_type": "code",
      "execution_count": null,
      "metadata": {
        "vscode": {
          "languageId": "plaintext"
        }
      },
      "outputs": [],
      "source": [
        "<audio src=\"path\" controls>\n",
        "</audio>"
      ]
    },
    {
      "cell_type": "markdown",
      "metadata": {},
      "source": [
        "If we want the audio to play automatically, we add the `autoplay` attribute."
      ]
    },
    {
      "cell_type": "code",
      "execution_count": null,
      "metadata": {
        "vscode": {
          "languageId": "plaintext"
        }
      },
      "outputs": [],
      "source": [
        "<audio src=\"path\" autoplay>\n",
        "</audio>"
      ]
    },
    {
      "cell_type": "markdown",
      "metadata": {},
      "source": [
        "If we want the audio to loop, we add the `loop` attribute."
      ]
    },
    {
      "cell_type": "code",
      "execution_count": null,
      "metadata": {
        "vscode": {
          "languageId": "plaintext"
        }
      },
      "outputs": [],
      "source": [
        "<audio src=\"path\" autoplay loop>\n",
        "</audio>"
      ]
    },
    {
      "cell_type": "markdown",
      "metadata": {},
      "source": [
        "If we want the audio to loop, we add the `loop` attribute."
      ]
    },
    {
      "cell_type": "code",
      "execution_count": null,
      "metadata": {
        "vscode": {
          "languageId": "plaintext"
        }
      },
      "outputs": [],
      "source": [
        "<audio src=\"path\" autoplay loop>\n",
        "</audio>"
      ]
    },
    {
      "cell_type": "markdown",
      "metadata": {},
      "source": [
        "#### `iframe` Tag"
      ]
    },
    {
      "cell_type": "markdown",
      "metadata": {},
      "source": [
        "When we share a YouTube video, we are given the option to copy the code. This generates an HTML code that has the `iframe` tag. This tag is used to embed content from other web pages."
      ]
    },
    {
      "cell_type": "code",
      "execution_count": null,
      "metadata": {
        "vscode": {
          "languageId": "plaintext"
        }
      },
      "outputs": [],
      "source": [
        "<iframe src=\"path\">\n",
        "</iframe>"
      ]
    },
    {
      "cell_type": "markdown",
      "metadata": {},
      "source": [
        "We have talked about the YouTube page, but we could embed any page. Although there are some pages that do not allow this."
      ]
    },
    {
      "cell_type": "markdown",
      "metadata": {},
      "source": [
        "#### Tag `dialog`"
      ]
    },
    {
      "cell_type": "markdown",
      "metadata": {},
      "source": [
        "You may have noticed that many people in their portfolios put their projects and when you click on them, a dialog box opens with more information, or in image galleries when you click on an image, a dialog box opens with the larger image. This is done using the `dialog` tag."
      ]
    },
    {
      "cell_type": "code",
      "execution_count": null,
      "metadata": {
        "vscode": {
          "languageId": "plaintext"
        }
      },
      "outputs": [],
      "source": [
        "<dialog>\n",
        "</dialog>"
      ]
    },
    {
      "cell_type": "markdown",
      "metadata": {},
      "source": [
        "Inside you can put whatever you want, for example a title, some text, an image, etc."
      ]
    },
    {
      "cell_type": "code",
      "execution_count": null,
      "metadata": {
        "vscode": {
          "languageId": "plaintext"
        }
      },
      "outputs": [],
      "source": [
        "<dialog id=\"id\">\n",
        "    <h1>T\u00edtulo</h1>\n",
        "    <p>Texto</p>\n",
        "    <img src=\"path\" alt=\"Texto alternativo\"/>\n",
        "</dialog>"
      ]
    },
    {
      "cell_type": "markdown",
      "metadata": {},
      "source": [
        "To open the dialog box, a button can be placed within a script."
      ]
    },
    {
      "cell_type": "code",
      "execution_count": null,
      "metadata": {
        "vscode": {
          "languageId": "plaintext"
        }
      },
      "outputs": [],
      "source": [
        "<dialog id=\"dialog\">\n",
        "    <h1>T\u00edtulo</h1>\n",
        "    <p>Texto</p>\n",
        "    <img src=\"path\" alt=\"Texto alternativo\"/>\n",
        "</dialog>\n",
        "\n",
        "<button id=\"open\">\n",
        "    Abrir\n",
        "</button>\n",
        "\n",
        "<script>\n",
        "    window.open.addEventListener(\"click\", () => {\n",
        "        window.dialog.showModal();\n",
        "    });\n",
        "</script>"
      ]
    },
    {
      "cell_type": "markdown",
      "metadata": {},
      "source": [
        "### Forms"
      ]
    },
    {
      "cell_type": "markdown",
      "metadata": {},
      "source": [
        "To create a form, we use the `form` tag. Inside this tag, you place the form fields. The `action` attribute specifies where the form is sent to. The `method` attribute indicates the submission method, which can be `get` or `post`. The `name` attribute specifies the name of the form, which is useful for `JavaScript`."
      ]
    },
    {
      "cell_type": "code",
      "execution_count": null,
      "metadata": {
        "vscode": {
          "languageId": "plaintext"
        }
      },
      "outputs": [],
      "source": [
        "<form action=\"path\" method=\"post\" name=\"name\">\n",
        "</form>"
      ]
    },
    {
      "cell_type": "markdown",
      "metadata": {},
      "source": [
        "#### Grouping Elements"
      ]
    },
    {
      "cell_type": "markdown",
      "metadata": {},
      "source": [
        "The `fieldset` tag is used to group form elements. Inside this tag, the form elements are placed. The `legend` attribute indicates the title of the group of elements."
      ]
    },
    {
      "cell_type": "code",
      "execution_count": null,
      "metadata": {
        "vscode": {
          "languageId": "plaintext"
        }
      },
      "outputs": [],
      "source": [
        "<form action=\"path\" method=\"post\" name=\"name\">\n",
        "    <fieldset>\n",
        "        <legend>T\u00edtulo</legend>\n",
        "    </fieldset>\n",
        "</form>"
      ]
    },
    {
      "cell_type": "markdown",
      "metadata": {},
      "source": [
        "#### Label"
      ]
    },
    {
      "cell_type": "markdown",
      "metadata": {},
      "source": [
        "The `label` tag creates a label for a form element. The `for` attribute indicates the id of the form element it refers to.",
        "\n",
        "The form element is placed below, for example `input`.",
        "\n",
        "You need to specify the `type`, which can be of type `text`, `email`, `password`, `number`, `date`, `time`, `color`, `range`, `file`, `checkbox`, `radio`, `submit`, `reset`, `button`, `hidden`.",
        "\n",
        "If the `input` must be entered mandatory, you can add the `required` attribute.",
        "\n",
        "If the user had already entered a value in the `input`, the `autocomplete` attribute can be used to indicate that it should be filled out automatically.",
        "\n",
        "The `pattern` attribute can be used to specify a regular expression for validating the `input`. For example, to validate whether the email or phone number is correct."
      ]
    },
    {
      "cell_type": "code",
      "execution_count": null,
      "metadata": {
        "vscode": {
          "languageId": "plaintext"
        }
      },
      "outputs": [],
      "source": [
        "<form action=\"path\" method=\"post\" name=\"name\">\n",
        "    <fieldset>\n",
        "        <legend>T\u00edtulo</legend>\n",
        "\n",
        "        <label for=\"id\">Nombre:</label>\n",
        "        <input type=\"text\" id=\"id\" name=\"name\" placeholder=\"Nombre\" required autocomplete=\"on\"/>\n",
        "        \n",
        "    </fieldset>\n",
        "</form>"
      ]
    },
    {
      "cell_type": "markdown",
      "metadata": {},
      "source": [
        "Another way to specify the `input` of a `label` is to put the `input` inside the `label`. Now the `for` attribute is not necessary because it is understood that the `label` refers to the `input` inside."
      ]
    },
    {
      "cell_type": "code",
      "execution_count": null,
      "metadata": {
        "vscode": {
          "languageId": "plaintext"
        }
      },
      "outputs": [],
      "source": [
        "<form action=\"path\" method=\"post\" name=\"name\">\n",
        "    <fieldset>\n",
        "        <legend>T\u00edtulo</legend>\n",
        "\n",
        "        <label>Nombre:\n",
        "            <input type=\"text\" id=\"id\" name=\"name\" placeholder=\"Nombre\" required/>\n",
        "        </label>\n",
        "        \n",
        "    </fieldset>\n",
        "</form>"
      ]
    },
    {
      "cell_type": "markdown",
      "metadata": {},
      "source": [
        "#### Select"
      ]
    },
    {
      "cell_type": "markdown",
      "metadata": {},
      "source": [
        "The `select` tag creates a dropdown. Inside this tag, the options of the dropdown are placed using the `option` tag. The `value` attribute indicates the value of the option. The `selected` attribute indicates the option that is selected by default."
      ]
    },
    {
      "cell_type": "code",
      "execution_count": null,
      "metadata": {
        "vscode": {
          "languageId": "plaintext"
        }
      },
      "outputs": [],
      "source": [
        "<form action=\"path\" method=\"post\" name=\"name\">\n",
        "    <fieldset>\n",
        "        <legend>T\u00edtulo</legend>\n",
        "\n",
        "        <label>Nombre:\n",
        "            <input type=\"text\" id=\"id\" name=\"name\" placeholder=\"Nombre\" required/>\n",
        "        </label>\n",
        "\n",
        "        <label>Pa\u00eds:\n",
        "            <select name=\"country\">\n",
        "                <option value=\"es\">Espa\u00f1a</option>\n",
        "                <option value=\"fr\">Francia</option>\n",
        "                <option value=\"it\" selected>Italia</option>\n",
        "            </select>\n",
        "        </label>\n",
        "        \n",
        "    </fieldset>\n",
        "</form>"
      ]
    },
    {
      "cell_type": "markdown",
      "metadata": {},
      "source": [
        "In case of having many options, the `datalist` tag can be used to create a list of options. This way, as the user starts typing one of the options from the list, the matching options are displayed. Inside this tag, the options are placed using the `option` tag. The `value` attribute indicates the value of the option."
      ]
    },
    {
      "cell_type": "code",
      "execution_count": null,
      "metadata": {
        "vscode": {
          "languageId": "plaintext"
        }
      },
      "outputs": [],
      "source": [
        "<form action=\"path\" method=\"post\" name=\"name\">\n",
        "    <fieldset>\n",
        "        <legend>T\u00edtulo</legend>\n",
        "\n",
        "        <label>Nombre:\n",
        "            <input type=\"text\" id=\"id\" name=\"name\" placeholder=\"Nombre\" required/>\n",
        "        </label>\n",
        "\n",
        "        <label>Pa\u00eds:\n",
        "            <input type=\"text\" list=\"countries\" name=\"country\"/>\n",
        "            <datalist id=\"countries\">\n",
        "                <option value=\"es\">Espa\u00f1a</option>\n",
        "                <option value=\"fr\">Francia</option>\n",
        "                <option value=\"it\">Italia</option>\n",
        "            </datalist>\n",
        "        </label>\n",
        "        \n",
        "    </fieldset>\n",
        "</form>"
      ]
    },
    {
      "cell_type": "markdown",
      "metadata": {},
      "source": [
        "#### Send"
      ]
    },
    {
      "cell_type": "markdown",
      "metadata": {},
      "source": [
        "To submit the form, the `input` tag with the attribute `type=\"submit\"` is used."
      ]
    },
    {
      "cell_type": "code",
      "execution_count": null,
      "metadata": {
        "vscode": {
          "languageId": "plaintext"
        }
      },
      "outputs": [],
      "source": [
        "<form action=\"path\" method=\"post\" name=\"name\">\n",
        "    <fieldset>\n",
        "        <legend>T\u00edtulo</legend>\n",
        "\n",
        "        <label>Nombre:\n",
        "            <input type=\"text\" id=\"id\" name=\"name\" placeholder=\"Nombre\" required/>\n",
        "        </label>\n",
        "        \n",
        "        <input type=\"submit\" value=\"Enviar\"/>\n",
        "    </fieldset>\n",
        "</form>"
      ]
    },
    {
      "cell_type": "markdown",
      "metadata": {},
      "source": [
        "### Details"
      ]
    },
    {
      "cell_type": "markdown",
      "metadata": {},
      "source": [
        "If you want to create sections of text that are normally collapsed, such as a frequently asked questions section, you can use the `details` tag. Inside this tag, you put the `summary` tag, which is the title of the section. And within the `details` tag, you place the text of the section."
      ]
    },
    {
      "cell_type": "code",
      "execution_count": null,
      "metadata": {
        "vscode": {
          "languageId": "plaintext"
        }
      },
      "outputs": [],
      "source": [
        "<details>\n",
        "    <summary>T\u00edtulo</summary>\n",
        "    <p>Texto</p>\n",
        "</details>"
      ]
    },
    {
      "cell_type": "markdown",
      "metadata": {},
      "source": [
        "If we want any to appear by default, we add the `open` attribute."
      ]
    },
    {
      "cell_type": "code",
      "execution_count": null,
      "metadata": {
        "vscode": {
          "languageId": "plaintext"
        }
      },
      "outputs": [],
      "source": [
        "<details open>\n",
        "    <summary>T\u00edtulo</summary>\n",
        "    <p>Texto</p>\n",
        "</details>"
      ]
    }
  ],
  "metadata": {
    "kernelspec": {
      "display_name": "Python 3.8.10 64-bit",
      "language": "python",
      "name": "python3"
    },
    "language_info": {
      "name": "python",
      "version": "3.8.10"
    },
    "maximofn": {
      "date": "2023-12-05",
      "description_en": "Learn HTML, the markup language used to create web pages. Learn how to structure the content of a web page and format it with HTML.",
      "description_es": "Conoce HTML, el lenguaje de marcado que se utiliza para crear p\u00e1ginas web. Aprende a estructurar el contenido de una p\u00e1gina web y a darle formato con HTML.",
      "description_pt": "Aprenda HTML, a linguagem de marca\u00e7\u00e3o usada para criar p\u00e1ginas da web. Aprenda a estruturar o conte\u00fado de uma p\u00e1gina da web e a format\u00e1-lo com HTML.",
      "end_url": "html",
      "image": "https://pub-fb664c455eca46a2ba762a065ac900f7.r2.dev/html5.webp",
      "image_hover_path": "https://pub-fb664c455eca46a2ba762a065ac900f7.r2.dev/html5.webp",
      "keywords_en": "html, introduction, tutorial, basic, beginners",
      "keywords_es": "html, introducci\u00f3n, tutorial, b\u00e1sico, principiantes",
      "keywords_pt": "html, introdu\u00e7\u00e3o, tutorial, b\u00e1sico, iniciantes",
      "title_en": "HTML",
      "title_es": "HTML",
      "title_pt": "HTML"
    },
    "orig_nbformat": 4,
    "vscode": {
      "interpreter": {
        "hash": "916dbcbb3f70747c44a77c7bcd40155683ae19c65e1c03b4aa3499c5328201f1"
      }
    }
  },
  "nbformat": 4,
  "nbformat_minor": 2
}