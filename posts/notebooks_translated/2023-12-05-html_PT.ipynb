{
  "cells": [
  {
      "cell_type": "markdown",
      "metadata": {},
      "source": [
      "# HTML"
      ]
    },
{
      "cell_type": "markdown",
      "metadata": {},
      "source": [
      "## Comentários"
      ]
    },
{
      "cell_type": "markdown",
      "metadata": {},
      "source": [
      "Este caderno foi traduzido automaticamente para torná-lo acessível a mais pessoas, por favor me avise se você vir algum erro de digitação..\n",
"\n",
"Para adicionar um comentário a um `html`, o código a seguir é usado:"
      ]
    },
{
      "cell_type": "code",
      "execution_count": 100,
      "metadata": {
        "vscode": {
          "languageId": "plaintext"
        }
      },
      "outputs": [],
      "source": [
      "<!-- Comentario -->"
      ]
    },
{
      "cell_type": "markdown",
      "metadata": {},
      "source": [
      "## Cabeça"
      ]
    },
{
      "cell_type": "markdown",
      "metadata": {},
      "source": [
      "O `html` deve começar com uma tag `!DOCTYPE` que informa ao navegador a versão do html; ao colocar html, o navegador entende que ele é 5"
      ]
    },
{
      "cell_type": "code",
      "execution_count": 100,
      "metadata": {
        "vscode": {
          "languageId": "plaintext"
        }
      },
      "outputs": [],
      "source": [
      "<!DOCTYPE html>"
      ]
    },
{
      "cell_type": "markdown",
      "metadata": {},
      "source": [
      "Em seguida, é necessário colocar um contêiner com a tag `html` com um atributo chamado `lang` indicando o idioma em que a página está escrita."
      ]
    },
{
      "cell_type": "code",
      "execution_count": 100,
      "metadata": {
        "vscode": {
          "languageId": "plaintext"
        }
      },
      "outputs": [],
      "source": [
      "<!DOCTYPE html>\n",
"<html lang=\"es\">\n",
"</html>"
      ]
    },
{
      "cell_type": "markdown",
      "metadata": {},
      "source": [
      "Mais dois contêineres são criados dentro dele, um para `head` e outro para `body`."
      ]
    },
{
      "cell_type": "code",
      "execution_count": 100,
      "metadata": {
        "vscode": {
          "languageId": "plaintext"
        }
      },
      "outputs": [],
      "source": [
      "<!DOCTYPE html>\n",
"<html lang=\"es\">\n",
"    <head>\n",
"    </head>\n",
"    <body>\n",
"    </body>\n",
"</html>"
      ]
    },
{
      "cell_type": "markdown",
      "metadata": {},
      "source": [
      "O contêiner `head` contém tudo o que o navegador precisa para carregar, enquanto o corpo contém tudo o que será exibido na página."
      ]
    },
{
      "cell_type": "markdown",
      "metadata": {},
      "source": [
      "Uma das tags `head` é `meta`, que contém um atributo chamado `charset` que indica o tipo de codificação do texto, geralmente `utf-8`, `utf-16`.\n",
"\n",
"Outro tipo de `meta` é o `name=\"description\"`, que é uma descrição para os navegadores. É importante para SEO.\n",
"\n",
"Outro tipo de meta é o `name=\"robots\"`, que se destina aos robôs dos mecanismos de pesquisa e indica se a página pode ser rastreada ou não.\n",
"\n",
"Outro atributo do `head` é o `title`, que indica o título que você vê na guia.\n",
"\n",
"Outra meta é `name=\"viewport\"`, que se refere ao design responsável.\n",
"\n",
"Outra meta é `name=\"theme-color\"`, que se refere à cor da barra de navegação.\n",
"\n",
"Outro objetivo é o favicon, que é o ícone que você vê na guia. Ele é escrito com a tag `link` e o atributo `type` e `href=\"path\"`.\n",
"\n",
"Algumas tags muito importantes para SEO são todas aquelas relacionadas ao `Open Graph`, que são as que são vistas quando um link é compartilhado em redes sociais. Para isso, uma página muito útil é a [open graph](https://opengraph.xyz/), onde você coloca seu link e ela informa como ele será visto em cada rede social. Esses objetivos são\n",
"\n",
"property=\"og:title\"` que é o título que você vê nas mídias sociais.\n",
"\n",
"`property=\"og:description\"` que é a descrição que você vê nas mídias sociais.\n",
"\n",
"property=\"og:image\"` que é a imagem vista na mídia social.\n",
"\n",
"property=\"og:image:alt\"` que é o texto alternativo da imagem vista nas mídias sociais.\n",
"\n",
"Há uma tag para o `CSS` que é `link`.\n",
"\n",
"Na página [Open Graph] (https://ogp.me/), você pode ver todas as tags que podem ser colocadas no `head`.\n",
"\n",
"Outra tag importante para SEO é `link rel=\"alternate\"`, que indica que há uma versão alternativa da página, por exemplo, em outro idioma.\n",
"\n",
"Outra tag importante para SEO é `link rel=\"canonical\"`, que indica que há uma versão canônica da página, por exemplo, em outro idioma.\n",
"\n",
"Com as tags `style` e `script`, você pode escrever `CSS` e `JavaScript` no `html`."
      ]
    },
{
      "cell_type": "code",
      "execution_count": 100,
      "metadata": {
        "vscode": {
          "languageId": "plaintext"
        }
      },
      "outputs": [],
      "source": [
      "<!DOCTYPE html>\n",
"<html lang=\"es\">\n",
"    <head>\n",
"        <meta charset=\"utf-8\"/>\n",
"        <meta name=\"description\" content=\"Descripción para los buscadores\"/>\n",
"        <meta name=\"robots\" content=\"index,folow\"/>\n",
"        <title>Título pestaña</title>\n",
"        <meta name=\"viewport\" content=\"width=device-width\"/>\n",
"        <meta name=\"theme-color\" content=\"#09f\"/>\n",
"        <link rel=\"stulesheet\" href=\"path\"/>\n",
"        <link rel=\"icon\" type=\"image/png\" href=\"path\"/>\n",
"        <meta property=\"og:title\" content=\"Título para las redes sociales\"/>\n",
"        <meta property=\"og:description\" content=\"Descripción para las redes sociales\"/>\n",
"        <meta property=\"og:image\" content=\"path\"/>\n",
"        <meta property=\"og:image:alt\" content=\"Texto alternativo para la imagen\"/>\n",
"        <link rel=\"alternate\" href=\"path\" hreflang=\"en\"/>\n",
"        <link rel=\"canonical\" href=\"path\"/>\n",
"    </head>\n",
"    <body>\n",
"    </body>\n",
"</html>"
      ]
    },
{
      "cell_type": "markdown",
      "metadata": {},
      "source": [
      "## Corpo"
      ]
    },
{
      "cell_type": "markdown",
      "metadata": {},
      "source": [
      "Há tags de contêiner que ajudam a criar uma estrutura e carregam mais tags dentro delas. E há tags de contêiner que contêm o texto, as imagens etc."
      ]
    },
{
      "cell_type": "markdown",
      "metadata": {},
      "source": [
      "### Rótulos de contêineres"
      ]
    },
{
      "cell_type": "markdown",
      "metadata": {},
      "source": [
      "#### Header"
      ]
    },
{
      "cell_type": "markdown",
      "metadata": {},
      "source": [
      "Essa é a tag para descrever o `cabeçalho`."
      ]
    },
{
      "cell_type": "code",
      "execution_count": 100,
      "metadata": {
        "vscode": {
          "languageId": "plaintext"
        }
      },
      "outputs": [],
      "source": [
      "<!DOCTYPE html>\n",
"<html lang=\"es\">\n",
"    <head>\n",
"        <meta charset=\"utf-8\"/>\n",
"        <meta name=\"description\" content=\"Descripción para los buscadores\"/>\n",
"        <meta name=\"robots\" content=\"index,folow\"/>\n",
"        <title>Título pestaña</title>\n",
"        <meta name=\"viewport\" content=\"width=device-width\"/>\n",
"        <meta name=\"theme-color\" content=\"#09f\"/>\n",
"        <link rel=\"stulesheet\" href=\"path\"/>\n",
"        <link rel=\"icon\" type=\"image/png\" href=\"path\"/>\n",
"        <meta property=\"og:title\" content=\"Título para las redes sociales\"/>\n",
"        <meta property=\"og:description\" content=\"Descripción para las redes sociales\"/>\n",
"        <meta property=\"og:image\" content=\"path\"/>\n",
"        <meta property=\"og:image:alt\" content=\"Texto alternativo para la imagen\"/>\n",
"        <link rel=\"alternate\" href=\"path\" hreflang=\"en\"/>\n",
"        <link rel=\"canonical\" href=\"path\"/>\n",
"    </head>\n",
"    <body>\n",
"        <header>\n",
"            Header\n",
"        </header>\n",
"    </body>\n",
"</html>"
      ]
    },
{
      "cell_type": "markdown",
      "metadata": {},
      "source": [
      "##### Navegação"
      ]
    },
{
      "cell_type": "markdown",
      "metadata": {},
      "source": [
      "Com a tag `nav`, a navegação é criada. Dentro dessa tag, os links podem ser colocados com a tag `a` e um logotipo pode ser colocado com a tag `img`."
      ]
    },
{
      "cell_type": "code",
      "execution_count": 100,
      "metadata": {
        "vscode": {
          "languageId": "plaintext"
        }
      },
      "outputs": [],
      "source": [
      "<!DOCTYPE html>\n",
"<html lang=\"es\">\n",
"    <head>\n",
"        <meta charset=\"utf-8\"/>\n",
"        <meta name=\"description\" content=\"Descripción para los buscadores\"/>\n",
"        <meta name=\"robots\" content=\"index,folow\"/>\n",
"        <title>Título pestaña</title>\n",
"        <meta name=\"viewport\" content=\"width=device-width\"/>\n",
"        <meta name=\"theme-color\" content=\"#09f\"/>\n",
"        <link rel=\"stulesheet\" href=\"path\"/>\n",
"        <link rel=\"icon\" type=\"image/png\" href=\"path\"/>\n",
"        <meta property=\"og:title\" content=\"Título para las redes sociales\"/>\n",
"        <meta property=\"og:description\" content=\"Descripción para las redes sociales\"/>\n",
"        <meta property=\"og:image\" content=\"path\"/>\n",
"        <meta property=\"og:image:alt\" content=\"Texto alternativo para la imagen\"/>\n",
"        <link rel=\"alternate\" href=\"path\" hreflang=\"en\"/>\n",
"        <link rel=\"canonical\" href=\"path\"/>\n",
"    </head>\n",
"    <body>\n",
"        <header>\n",
"            <nav>\n",
"                <a href=\"path\">Enlace</a>\n",
"                <img src=\"path\" alt=\"Texto alternativo\"/>\n",
"            </nav>\n",
"        </header>\n",
"    </body>\n",
"</html>"
      ]
    },
{
      "cell_type": "markdown",
      "metadata": {},
      "source": [
      "##### Links"
      ]
    },
{
      "cell_type": "markdown",
      "metadata": {},
      "source": [
      "Assim como na navegação, os links são criados com a tag `a` e possuem um atributo `href=\"path\"` que indica o link para o qual o link leva. Eles também têm um atributo `target=\"_blank\"` que indica que o link será aberto em uma nova guia. Além disso, um atributo `rel=\"noreferer\"` pode ser adicionado para indicar que nenhuma informação é passada da página da qual o link provém."
      ]
    },
{
      "cell_type": "code",
      "execution_count": 100,
      "metadata": {
        "vscode": {
          "languageId": "plaintext"
        }
      },
      "outputs": [],
      "source": [
      "<a href=\"path\" target=\"_blank\">Enlace</a>"
      ]
    },
{
      "cell_type": "markdown",
      "metadata": {},
      "source": [
      "Se o link for um link para uma seção da página, o atributo `href=\"#id\"` será definido."
      ]
    },
{
      "cell_type": "code",
      "execution_count": 100,
      "metadata": {
        "vscode": {
          "languageId": "plaintext"
        }
      },
      "outputs": [],
      "source": [
      "<a href=\"#id\">Enlace</a>"
      ]
    },
{
      "cell_type": "markdown",
      "metadata": {},
      "source": [
      "Portanto, em outra parte da página, é necessário colocar um contêiner com o atributo `id=\"id\"`."
      ]
    },
{
      "cell_type": "code",
      "execution_count": 100,
      "metadata": {
        "vscode": {
          "languageId": "plaintext"
        }
      },
      "outputs": [],
      "source": [
      "<div id=\"id\">\n",
"</div>"
      ]
    },
{
      "cell_type": "markdown",
      "metadata": {},
      "source": [
      "Se o link for um e-mail, o atributo `href=\"mailto:email\"` será definido."
      ]
    },
{
      "cell_type": "code",
      "execution_count": 100,
      "metadata": {
        "vscode": {
          "languageId": "plaintext"
        }
      },
      "outputs": [],
      "source": [
      "<a href=\"mailto:email\">Email</a>"
      ]
    },
{
      "cell_type": "markdown",
      "metadata": {},
      "source": [
      "Se o link for um telefone, o atributo `href=\"tel:phone\"` será definido."
      ]
    },
{
      "cell_type": "code",
      "execution_count": 100,
      "metadata": {
        "vscode": {
          "languageId": "plaintext"
        }
      },
      "outputs": [],
      "source": [
      "<a href=\"tel:phone\">Teléfono</a>"
      ]
    },
{
      "cell_type": "markdown",
      "metadata": {},
      "source": [
      "Se você quiser colocar um link para abrir o WhatsApp, coloque o atributo `href=\"https://wa.me/phone\"`."
      ]
    },
{
      "cell_type": "code",
      "execution_count": 100,
      "metadata": {
        "vscode": {
          "languageId": "plaintext"
        }
      },
      "outputs": [],
      "source": [
      "<a href=\"https://wa.me/phone\">WhatsApp</a>"
      ]
    },
{
      "cell_type": "markdown",
      "metadata": {},
      "source": [
      "#### Principal"
      ]
    },
{
      "cell_type": "markdown",
      "metadata": {},
      "source": [
      "Essa é a tag para descrever o `main`."
      ]
    },
{
      "cell_type": "code",
      "execution_count": 100,
      "metadata": {
        "vscode": {
          "languageId": "plaintext"
        }
      },
      "outputs": [],
      "source": [
      "<!DOCTYPE html>\n",
"<html lang=\"es\">\n",
"    <head>\n",
"        <meta charset=\"utf-8\"/>\n",
"        <meta name=\"description\" content=\"Descripción para los buscadores\"/>\n",
"        <meta name=\"robots\" content=\"index,folow\"/>\n",
"        <title>Título pestaña</title>\n",
"        <meta name=\"viewport\" content=\"width=device-width\"/>\n",
"        <meta name=\"theme-color\" content=\"#09f\"/>\n",
"        <link rel=\"stulesheet\" href=\"path\"/>\n",
"        <link rel=\"icon\" type=\"image/png\" href=\"path\"/>\n",
"        <meta property=\"og:title\" content=\"Título para las redes sociales\"/>\n",
"        <meta property=\"og:description\" content=\"Descripción para las redes sociales\"/>\n",
"        <meta property=\"og:image\" content=\"path\"/>\n",
"        <meta property=\"og:image:alt\" content=\"Texto alternativo para la imagen\"/>\n",
"        <link rel=\"alternate\" href=\"path\" hreflang=\"en\"/>\n",
"        <link rel=\"canonical\" href=\"path\"/>\n",
"    </head>\n",
"    <body>\n",
"        <header>\n",
"            <nav>\n",
"                <a href=\"path\">Enlace</a>\n",
"                <img src=\"path\" alt=\"Texto alternativo\"/>\n",
"            </nav>\n",
"        </header>\n",
"        <main>\n",
"        </main>\n",
"    </body>\n",
"</html>"
      ]
    },
{
      "cell_type": "markdown",
      "metadata": {},
      "source": [
      "#### Rodapé"
      ]
    },
{
      "cell_type": "markdown",
      "metadata": {},
      "source": [
      "Essa é a tag para descrever o \"rodapé\"."
      ]
    },
{
      "cell_type": "code",
      "execution_count": 100,
      "metadata": {
        "vscode": {
          "languageId": "plaintext"
        }
      },
      "outputs": [],
      "source": [
      "<!DOCTYPE html>\n",
"<html lang=\"es\">\n",
"    <head>\n",
"        <meta charset=\"utf-8\"/>\n",
"        <meta name=\"description\" content=\"Descripción para los buscadores\"/>\n",
"        <meta name=\"robots\" content=\"index,folow\"/>\n",
"        <title>Título pestaña</title>\n",
"        <meta name=\"viewport\" content=\"width=device-width\"/>\n",
"        <meta name=\"theme-color\" content=\"#09f\"/>\n",
"        <link rel=\"stulesheet\" href=\"path\"/>\n",
"        <link rel=\"icon\" type=\"image/png\" href=\"path\"/>\n",
"        <meta property=\"og:title\" content=\"Título para las redes sociales\"/>\n",
"        <meta property=\"og:description\" content=\"Descripción para las redes sociales\"/>\n",
"        <meta property=\"og:image\" content=\"path\"/>\n",
"        <meta property=\"og:image:alt\" content=\"Texto alternativo para la imagen\"/>\n",
"        <link rel=\"alternate\" href=\"path\" hreflang=\"en\"/>\n",
"        <link rel=\"canonical\" href=\"path\"/>\n",
"    </head>\n",
"    <body>\n",
"        <header>\n",
"            <nav>\n",
"                <a href=\"path\">Enlace</a>\n",
"                <img src=\"path\" alt=\"Texto alternativo\"/>\n",
"            </nav>\n",
"        </header>\n",
"        <main>\n",
"        </main>\n",
"        <footer>\n",
"        </footer>\n",
"    </body>\n",
"</html>"
      ]
    },
{
      "cell_type": "markdown",
      "metadata": {},
      "source": [
      "#### Seção"
      ]
    },
{
      "cell_type": "markdown",
      "metadata": {},
      "source": [
      "Em `main` você pode criar seções"
      ]
    },
{
      "cell_type": "code",
      "execution_count": 100,
      "metadata": {
        "vscode": {
          "languageId": "plaintext"
        }
      },
      "outputs": [],
      "source": [
      "<!DOCTYPE html>\n",
"<html lang=\"es\">\n",
"    <head>\n",
"        <meta charset=\"utf-8\"/>\n",
"        <meta name=\"description\" content=\"Descripción para los buscadores\"/>\n",
"        <meta name=\"robots\" content=\"index,folow\"/>\n",
"        <title>Título pestaña</title>\n",
"        <meta name=\"viewport\" content=\"width=device-width\"/>\n",
"        <meta name=\"theme-color\" content=\"#09f\"/>\n",
"        <link rel=\"stulesheet\" href=\"path\"/>\n",
"        <link rel=\"icon\" type=\"image/png\" href=\"path\"/>\n",
"        <meta property=\"og:title\" content=\"Título para las redes sociales\"/>\n",
"        <meta property=\"og:description\" content=\"Descripción para las redes sociales\"/>\n",
"        <meta property=\"og:image\" content=\"path\"/>\n",
"        <meta property=\"og:image:alt\" content=\"Texto alternativo para la imagen\"/>\n",
"        <link rel=\"alternate\" href=\"path\" hreflang=\"en\"/>\n",
"        <link rel=\"canonical\" href=\"path\"/>\n",
"    </head>\n",
"    <body>\n",
"        <header>\n",
"            <nav>\n",
"                <a href=\"path\">Enlace</a>\n",
"                <img src=\"path\" alt=\"Texto alternativo\"/>\n",
"            </nav>\n",
"        </header>\n",
"        <main>\n",
"            <section>\n",
"            </section>\n",
"        </main>\n",
"        <footer>\n",
"        </footer>\n",
"    </body>\n",
"</html>"
      ]
    },
{
      "cell_type": "markdown",
      "metadata": {},
      "source": [
      "#### Artigo"
      ]
    },
{
      "cell_type": "markdown",
      "metadata": {},
      "source": [
      "Dentro de `main` pode haver itens"
      ]
    },
{
      "cell_type": "code",
      "execution_count": 100,
      "metadata": {
        "vscode": {
          "languageId": "plaintext"
        }
      },
      "outputs": [],
      "source": [
      "<!DOCTYPE html>\n",
"<html lang=\"es\">\n",
"    <head>\n",
"        <meta charset=\"utf-8\"/>\n",
"        <meta name=\"description\" content=\"Descripción para los buscadores\"/>\n",
"        <meta name=\"robots\" content=\"index,folow\"/>\n",
"        <title>Título pestaña</title>\n",
"        <meta name=\"viewport\" content=\"width=device-width\"/>\n",
"        <meta name=\"theme-color\" content=\"#09f\"/>\n",
"        <link rel=\"stulesheet\" href=\"path\"/>\n",
"        <link rel=\"icon\" type=\"image/png\" href=\"path\"/>\n",
"        <meta property=\"og:title\" content=\"Título para las redes sociales\"/>\n",
"        <meta property=\"og:description\" content=\"Descripción para las redes sociales\"/>\n",
"        <meta property=\"og:image\" content=\"path\"/>\n",
"        <meta property=\"og:image:alt\" content=\"Texto alternativo para la imagen\"/>\n",
"        <link rel=\"alternate\" href=\"path\" hreflang=\"en\"/>\n",
"        <link rel=\"canonical\" href=\"path\"/>\n",
"    </head>\n",
"    <body>\n",
"        <header>\n",
"            <nav>\n",
"                <a href=\"path\">Enlace</a>\n",
"                <img src=\"path\" alt=\"Texto alternativo\"/>\n",
"            </nav>\n",
"        </header>\n",
"        <main>\n",
"            <section>\n",
"                <article>\n",
"                </article>\n",
"            </section>\n",
"        </main>\n",
"        <footer>\n",
"        </footer>\n",
"    </body>\n",
"</html>"
      ]
    },
{
      "cell_type": "markdown",
      "metadata": {},
      "source": [
      "#### Divisor"
      ]
    },
{
      "cell_type": "markdown",
      "metadata": {},
      "source": [
      "Quando não houver mais tags semânticas, podemos usar a tag `div`, que é um contêiner genérico."
      ]
    },
{
      "cell_type": "code",
      "execution_count": 100,
      "metadata": {
        "vscode": {
          "languageId": "plaintext"
        }
      },
      "outputs": [],
      "source": [
      "<!DOCTYPE html>\n",
"<html lang=\"es\">\n",
"    <head>\n",
"        <meta charset=\"utf-8\"/>\n",
"        <meta name=\"description\" content=\"Descripción para los buscadores\"/>\n",
"        <meta name=\"robots\" content=\"index,folow\"/>\n",
"        <title>Título pestaña</title>\n",
"        <meta name=\"viewport\" content=\"width=device-width\"/>\n",
"        <meta name=\"theme-color\" content=\"#09f\"/>\n",
"        <link rel=\"stulesheet\" href=\"path\"/>\n",
"        <link rel=\"icon\" type=\"image/png\" href=\"path\"/>\n",
"        <meta property=\"og:title\" content=\"Título para las redes sociales\"/>\n",
"        <meta property=\"og:description\" content=\"Descripción para las redes sociales\"/>\n",
"        <meta property=\"og:image\" content=\"path\"/>\n",
"        <meta property=\"og:image:alt\" content=\"Texto alternativo para la imagen\"/>\n",
"        <link rel=\"alternate\" href=\"path\" hreflang=\"en\"/>\n",
"        <link rel=\"canonical\" href=\"path\"/>\n",
"    </head>\n",
"    <body>\n",
"        <header>\n",
"            <nav>\n",
"                <a href=\"path\">Enlace</a>\n",
"                <img src=\"path\" alt=\"Texto alternativo\"/>\n",
"            </nav>\n",
"        </header>\n",
"        <main>\n",
"            <section>\n",
"                <article>\n",
"                    <div>\n",
"                    </div>\n",
"                </article>\n",
"            </section>\n",
"        </main>\n",
"        <footer>\n",
"        </footer>\n",
"    </body>\n",
"</html>"
      ]
    },
{
      "cell_type": "markdown",
      "metadata": {},
      "source": [
      "#### Listas não ordenadas `ul`"
      ]
    },
{
      "cell_type": "markdown",
      "metadata": {},
      "source": [
      "Dentro de `main` pode haver listas não ordenadas, cada item da lista deve ter a tag `li`."
      ]
    },
{
      "cell_type": "code",
      "execution_count": 100,
      "metadata": {
        "vscode": {
          "languageId": "plaintext"
        }
      },
      "outputs": [],
      "source": [
      "<!DOCTYPE html>\n",
"<html lang=\"es\">\n",
"    <head>\n",
"        <meta charset=\"utf-8\"/>\n",
"        <meta name=\"description\" content=\"Descripción para los buscadores\"/>\n",
"        <meta name=\"robots\" content=\"index,folow\"/>\n",
"        <title>Título pestaña</title>\n",
"        <meta name=\"viewport\" content=\"width=device-width\"/>\n",
"        <meta name=\"theme-color\" content=\"#09f\"/>\n",
"        <link rel=\"stulesheet\" href=\"path\"/>\n",
"        <link rel=\"icon\" type=\"image/png\" href=\"path\"/>\n",
"        <meta property=\"og:title\" content=\"Título para las redes sociales\"/>\n",
"        <meta property=\"og:description\" content=\"Descripción para las redes sociales\"/>\n",
"        <meta property=\"og:image\" content=\"path\"/>\n",
"        <meta property=\"og:image:alt\" content=\"Texto alternativo para la imagen\"/>\n",
"        <link rel=\"alternate\" href=\"path\" hreflang=\"en\"/>\n",
"        <link rel=\"canonical\" href=\"path\"/>\n",
"    </head>\n",
"    <body>\n",
"        <header>\n",
"            <nav>\n",
"                <a href=\"path\">Enlace</a>\n",
"                <img src=\"path\" alt=\"Texto alternativo\"/>\n",
"            </nav>\n",
"        </header>\n",
"        <main>\n",
"            <section>\n",
"                <article>\n",
"                    <div>\n",
"                        <ul>\n",
"                            <li></li>\n",
"                        </ul>\n",
"                    </div>\n",
"                </article>\n",
"            </section>\n",
"        </main>\n",
"        <footer>\n",
"        </footer>\n",
"    </body>\n",
"</html>"
      ]
    },
{
      "cell_type": "markdown",
      "metadata": {},
      "source": [
      "#### Listas ordenadas `ol`"
      ]
    },
{
      "cell_type": "markdown",
      "metadata": {},
      "source": [
      "Dentro de `main` pode haver listas ordenadas, cada item da lista deve ter a tag `li`."
      ]
    },
{
      "cell_type": "code",
      "execution_count": 100,
      "metadata": {
        "vscode": {
          "languageId": "plaintext"
        }
      },
      "outputs": [],
      "source": [
      "<!DOCTYPE html>\n",
"<html lang=\"es\">\n",
"    <head>\n",
"        <meta charset=\"utf-8\"/>\n",
"        <meta name=\"description\" content=\"Descripción para los buscadores\"/>\n",
"        <meta name=\"robots\" content=\"index,folow\"/>\n",
"        <title>Título pestaña</title>\n",
"        <meta name=\"viewport\" content=\"width=device-width\"/>\n",
"        <meta name=\"theme-color\" content=\"#09f\"/>\n",
"        <link rel=\"stulesheet\" href=\"path\"/>\n",
"        <link rel=\"icon\" type=\"image/png\" href=\"path\"/>\n",
"        <meta property=\"og:title\" content=\"Título para las redes sociales\"/>\n",
"        <meta property=\"og:description\" content=\"Descripción para las redes sociales\"/>\n",
"        <meta property=\"og:image\" content=\"path\"/>\n",
"        <meta property=\"og:image:alt\" content=\"Texto alternativo para la imagen\"/>\n",
"        <link rel=\"alternate\" href=\"path\" hreflang=\"en\"/>\n",
"        <link rel=\"canonical\" href=\"path\"/>\n",
"    </head>\n",
"    <body>\n",
"        <header>\n",
"            <nav>\n",
"                <a href=\"path\">Enlace</a>\n",
"                <img src=\"path\" alt=\"Texto alternativo\"/>\n",
"            </nav>\n",
"        </header>\n",
"        <main>\n",
"            <section>\n",
"                <article>\n",
"                    <div>\n",
"                        <ul>\n",
"                            <li></li>\n",
"                        </ul>\n",
"                        <ol>\n",
"                            <li></li>\n",
"                        </ol>\n",
"                    </div>\n",
"                </article>\n",
"            </section>\n",
"        </main>\n",
"        <footer>\n",
"        </footer>\n",
"    </body>\n",
"</html>"
      ]
    },
{
      "cell_type": "markdown",
      "metadata": {},
      "source": [
      "Você pode alterar a ordem de classificação da lista com o atributo `type=\"a\"` para letras, `type=\"i\"` para algarismos romanos, `type=\"1\"` para algarismos arábicos."
      ]
    },
{
      "cell_type": "code",
      "execution_count": 100,
      "metadata": {
        "vscode": {
          "languageId": "plaintext"
        }
      },
      "outputs": [],
      "source": [
      "<ol type=\"a\">\n",
"    <li></li>\n",
"</ol>"
      ]
    },
{
      "cell_type": "markdown",
      "metadata": {},
      "source": [
      "Se quiser que a ordem da lista comece em um número específico, defina o atributo `start=\"number\"`."
      ]
    },
{
      "cell_type": "code",
      "execution_count": 100,
      "metadata": {
        "vscode": {
          "languageId": "plaintext"
        }
      },
      "outputs": [],
      "source": [
      "<ol start=\"2\">\n",
"    <li></li>\n",
"</ol>"
      ]
    },
{
      "cell_type": "markdown",
      "metadata": {},
      "source": [
      "Se você quiser que a ordem da lista seja inversa, defina o atributo `reversed`."
      ]
    },
{
      "cell_type": "code",
      "execution_count": 100,
      "metadata": {
        "vscode": {
          "languageId": "plaintext"
        }
      },
      "outputs": [],
      "source": [
      "<ol reversed>\n",
"    <li></li>\n",
"</ol>"
      ]
    },
{
      "cell_type": "markdown",
      "metadata": {},
      "source": [
      "Se quisermos que um item da lista tenha um valor, definimos o atributo `value=\"number\"`."
      ]
    },
{
      "cell_type": "code",
      "execution_count": 100,
      "metadata": {
        "vscode": {
          "languageId": "plaintext"
        }
      },
      "outputs": [],
      "source": [
      "<ol>\n",
"    <li value=\"2\"></li>\n",
"</ol>"
      ]
    },
{
      "cell_type": "markdown",
      "metadata": {},
      "source": [
      "#### Listas ordenadas `ol`"
      ]
    },
{
      "cell_type": "markdown",
      "metadata": {},
      "source": [
      "Cada uma das tags vistas acima tem uma função, mas você pode alterar a função de cada uma delas com a tag `role=\"role\"`."
      ]
    },
{
      "cell_type": "code",
      "execution_count": 100,
      "metadata": {
        "vscode": {
          "languageId": "plaintext"
        }
      },
      "outputs": [],
      "source": [
      "<!DOCTYPE html>\n",
"<html lang=\"es\">\n",
"    <head>\n",
"        <meta charset=\"utf-8\"/>\n",
"        <meta name=\"description\" content=\"Descripción para los buscadores\"/>\n",
"        <meta name=\"robots\" content=\"index,folow\"/>\n",
"        <title>Título pestaña</title>\n",
"        <meta name=\"viewport\" content=\"width=device-width\"/>\n",
"        <meta name=\"theme-color\" content=\"#09f\"/>\n",
"        <link rel=\"stulesheet\" href=\"path\"/>\n",
"        <link rel=\"icon\" type=\"image/png\" href=\"path\"/>\n",
"        <meta property=\"og:title\" content=\"Título para las redes sociales\"/>\n",
"        <meta property=\"og:description\" content=\"Descripción para las redes sociales\"/>\n",
"        <meta property=\"og:image\" content=\"path\"/>\n",
"        <meta property=\"og:image:alt\" content=\"Texto alternativo para la imagen\"/>\n",
"        <link rel=\"alternate\" href=\"path\" hreflang=\"en\"/>\n",
"        <link rel=\"canonical\" href=\"path\"/>\n",
"    </head>\n",
"    <body>\n",
"        <header>\n",
"            <nav>\n",
"                <a href=\"path\">Enlace</a>\n",
"                <img src=\"path\" alt=\"Texto alternativo\"/>\n",
"            </nav>\n",
"        </header>\n",
"        <main>\n",
"            <section>\n",
"                <article>\n",
"                    <div>\n",
"                        <ul>\n",
"                            <li></li>\n",
"                        </ul>\n",
"                        <ol>\n",
"                            <li></li>\n",
"                        </ol>\n",
"                    </div>\n",
"                    <div role=\"list\">\n",
"                        <div role=\"listitem\">\n",
"                        </div>\n",
"                    </div>\n",
"                </article>\n",
"            </section>\n",
"        </main>\n",
"        <footer>\n",
"        </footer>\n",
"    </body>\n",
"</html>"
      ]
    },
{
      "cell_type": "markdown",
      "metadata": {},
      "source": [
      "### Tags de conteúdo"
      ]
    },
{
      "cell_type": "markdown",
      "metadata": {},
      "source": [
      "Para criar um novo parágrafo, usamos a tag `<p></p>`. Para dar ênfase a algo em um parágrafo, podemos pensar em usar negrito (`<b></b>`), mas é melhor usar a tag `<strong></strong>`, pois a tag `<b` está obsoleta."
      ]
    },
{
      "cell_type": "markdown",
      "metadata": {},
      "source": [
      "Para criar um título, temos as tags `h1`, `h2`, `h3`, `h4`, `h5`, `h6`."
      ]
    },
{
      "cell_type": "markdown",
      "metadata": {},
      "source": [
      "A tag `a` é usada para criar hiperlinks, o atributo `href` indica o endereço do hiperlink. Se você colocar um bloco `#`, a página não será atualizada."
      ]
    },
{
      "cell_type": "markdown",
      "metadata": {},
      "source": [
      "### Tags multimídia"
      ]
    },
{
      "cell_type": "markdown",
      "metadata": {},
      "source": [
      "As tags de mídia não têm tags de abertura e fechamento; por exemplo, a tag `img` não é escrita como `<img></img>`, mas como `<img/>`. Isso ocorre porque ela é substituída por uma imagem. Portanto, em geral, as tags substituíveis não têm uma tag de fechamento."
      ]
    },
{
      "cell_type": "markdown",
      "metadata": {},
      "source": [
      "Há dois tipos de imagens\n",
" * Lossy: Essas imagens perdem qualidade, mas são mais leves. jpg, jpeg\n",
" * Sem perdas: essas imagens não perdem qualidade, mas são muito pesadas. gif, png-8, png-24, svg"
      ]
    },
{
      "cell_type": "markdown",
      "metadata": {},
      "source": [
      "#### Otimização de imagens"
      ]
    },
{
      "cell_type": "markdown",
      "metadata": {},
      "source": [
      "O tamanho médio deve ser de 70 kB\n",
"\n",
"* [Tiny PNG] (https://tinypng.com/): aumenta o tamanho da imagem\n",
"* [Verexif](https://www.verexif.com/): Remover metadados da imagem"
      ]
    },
{
      "cell_type": "markdown",
      "metadata": {},
      "source": [
      "#### `img` tag"
      ]
    },
{
      "cell_type": "markdown",
      "metadata": {},
      "source": [
      "Site de download de imagens on-line gratuito [pexels](https://www.pexels.com/es-es/)"
      ]
    },
{
      "cell_type": "markdown",
      "metadata": {},
      "source": [
      "A tag `img` tem um atributo `src` que indica a fonte."
      ]
    },
{
      "cell_type": "code",
      "execution_count": 100,
      "metadata": {
        "vscode": {
          "languageId": "plaintext"
        }
      },
      "outputs": [],
      "source": [
      "<img src=\"path\"/>"
      ]
    },
{
      "cell_type": "markdown",
      "metadata": {},
      "source": [
      "O atributo `alt` em que o texto alternativo é indicado."
      ]
    },
{
      "cell_type": "code",
      "execution_count": 100,
      "metadata": {
        "vscode": {
          "languageId": "plaintext"
        }
      },
      "outputs": [],
      "source": [
      "<img src=\"path\" alt=\"Texto alternativo\"/>"
      ]
    },
{
      "cell_type": "markdown",
      "metadata": {},
      "source": [
      "O atributo `title`, no qual é indicado o título da imagem, é usado para que, ao passarmos o mouse sobre a imagem, o título apareça, e também é usado para o `SEO`, para que os mecanismos de pesquisa saibam do que se trata a imagem."
      ]
    },
{
      "cell_type": "code",
      "execution_count": 100,
      "metadata": {
        "vscode": {
          "languageId": "plaintext"
        }
      },
      "outputs": [],
      "source": [
      "<img src=\"path\" alt=\"Texto alternativo\" title=\"Título\"/>"
      ]
    },
{
      "cell_type": "markdown",
      "metadata": {},
      "source": [
      "Também podemos definir os atributos `width` e `height` para indicar o tamanho da imagem, mas é melhor não defini-los e deixar que o navegador os calcule."
      ]
    },
{
      "cell_type": "code",
      "execution_count": 100,
      "metadata": {
        "vscode": {
          "languageId": "plaintext"
        }
      },
      "outputs": [],
      "source": [
      "<img src=\"path\" alt=\"Texto alternativo\" title=\"Título\" width=\"100\" height=\"100\"/>"
      ]
    },
{
      "cell_type": "markdown",
      "metadata": {},
      "source": [
      "Com o atributo `hidden`, você pode ocultar a imagem. Isso é muito útil quando queremos que uma imagem apareça depois que o usuário realizar uma ação. Assim, com o JavaScript, podemos remover o atributo `hidden` e a imagem aparecerá."
      ]
    },
{
      "cell_type": "code",
      "execution_count": 100,
      "metadata": {
        "vscode": {
          "languageId": "plaintext"
        }
      },
      "outputs": [],
      "source": [
      "<img src=\"path\" alt=\"Texto alternativo\" title=\"Título\" hidden/>"
      ]
    },
{
      "cell_type": "markdown",
      "metadata": {},
      "source": [
      "Para acelerar o carregamento das páginas, é possível definir o atributo `loading=\"lazy\"`, que faz com que a imagem seja carregada quando o usuário se aproxima dela."
      ]
    },
{
      "cell_type": "code",
      "execution_count": 100,
      "metadata": {
        "vscode": {
          "languageId": "plaintext"
        }
      },
      "outputs": [],
      "source": [
      "<img src=\"path\" alt=\"Texto alternativo\" title=\"Título\" loading=\"lazy\"/>"
      ]
    },
{
      "cell_type": "markdown",
      "metadata": {},
      "source": [
      " > Não coloque o atributo `loading=\"lazy\"` em imagens que sejam importantes para SEO, como o logotipo, por exemplo. Nem em imagens que estejam na parte superior da página da Web, caso contrário você verá uma oscilação."
      ]
    },
{
      "cell_type": "markdown",
      "metadata": {},
      "source": [
      "#### `figure` tag"
      ]
    },
{
      "cell_type": "markdown",
      "metadata": {},
      "source": [
      "Essa tag permite criar um contêiner para a imagem, por exemplo, permite adicionar uma descrição; para isso, é necessário usar a tag `figcapture`."
      ]
    },
{
      "cell_type": "code",
      "execution_count": 100,
      "metadata": {
        "vscode": {
          "languageId": "plaintext"
        }
      },
      "outputs": [],
      "source": [
      "<figure>\n",
"    <img src=\"path\" alt=\"Texto alternativo\" title=\"Título\"/>\n",
"    <figcaption>Descripción</figcaption>\n",
"</figure>"
      ]
    },
{
      "cell_type": "markdown",
      "metadata": {},
      "source": [
      "#### `video` tag"
      ]
    },
{
      "cell_type": "markdown",
      "metadata": {},
      "source": [
      "Com essa tag, você pode adicionar vídeos, usando o atributo `src`. Para que os botões de reprodução apareçam, o atributo `controls` deve ser usado. O último atributo é `preload=\"auto\"`, para que o vídeo comece a ser baixado quando a página começar a ser carregada, de modo que, quando ele for reproduzido, o usuário já tenha muito conteúdo carregado e a reprodução leve menos tempo."
      ]
    },
{
      "cell_type": "code",
      "execution_count": 100,
      "metadata": {
        "vscode": {
          "languageId": "plaintext"
        }
      },
      "outputs": [],
      "source": [
      "<video src=\"path\" controls preload=\"auto\">\n",
"</video>"
      ]
    },
{
      "cell_type": "markdown",
      "metadata": {},
      "source": [
      "Se quiser que ele comece a ser reproduzido em um determinado minuto, em `src`, logo após a fonte, você deve colocar `#t=xx,yy`."
      ]
    },
{
      "cell_type": "code",
      "execution_count": 100,
      "metadata": {
        "vscode": {
          "languageId": "plaintext"
        }
      },
      "outputs": [],
      "source": [
      "<video src=\"path#t=1,2\" controls>\n",
"</video>"
      ]
    },
{
      "cell_type": "markdown",
      "metadata": {},
      "source": [
      "Se o vídeo estiver em vários formatos, a fonte deverá ser colocada dentro de uma tag chamada `source`, que indica as diferentes fontes possíveis do vídeo. O navegador decidirá qual fonte usar. Isso ocorre porque alguns navegadores reproduzem alguns vídeos melhor do que outros."
      ]
    },
{
      "cell_type": "code",
      "execution_count": 100,
      "metadata": {
        "vscode": {
          "languageId": "plaintext"
        }
      },
      "outputs": [],
      "source": [
      "<video controls>\n",
"    <source src=\"path\" type=\"video/mp4\"/>\n",
"    <source src=\"path\" type=\"video/webm\"/>\n",
"</video>"
      ]
    },
{
      "cell_type": "markdown",
      "metadata": {},
      "source": [
      "Se não quisermos que os controles de reprodução e o vídeo sejam reproduzidos automaticamente, definimos o atributo `autoplay`."
      ]
    },
{
      "cell_type": "code",
      "execution_count": 100,
      "metadata": {
        "vscode": {
          "languageId": "plaintext"
        }
      },
      "outputs": [],
      "source": [
      "<video src=\"path\" autoplay>\n",
"</video>"
      ]
    },
{
      "cell_type": "markdown",
      "metadata": {},
      "source": [
      "Mas, para não incomodar o usuário, podemos fazer com que ele seja reproduzido sem som, definindo o atributo `muted`."
      ]
    },
{
      "cell_type": "code",
      "execution_count": 100,
      "metadata": {
        "vscode": {
          "languageId": "plaintext"
        }
      },
      "outputs": [],
      "source": [
      "<video src=\"path\" autoplay muted>\n",
"</video>"
      ]
    },
{
      "cell_type": "markdown",
      "metadata": {},
      "source": [
      "Se quisermos que o vídeo seja repetido, definimos o atributo `loop`."
      ]
    },
{
      "cell_type": "code",
      "execution_count": 100,
      "metadata": {
        "vscode": {
          "languageId": "plaintext"
        }
      },
      "outputs": [],
      "source": [
      "<video src=\"path\" autoplay muted loop>\n",
"</video>"
      ]
    },
{
      "cell_type": "markdown",
      "metadata": {},
      "source": [
      "Isso é muito útil para colocar um vídeo no plano de fundo de uma página da Web."
      ]
    },
{
      "cell_type": "markdown",
      "metadata": {},
      "source": [
      "Para alterar a imagem do vídeo quando ele não estiver sendo reproduzido, o atributo `poster=\"path\"` é definido."
      ]
    },
{
      "cell_type": "code",
      "execution_count": 100,
      "metadata": {
        "vscode": {
          "languageId": "plaintext"
        }
      },
      "outputs": [],
      "source": [
      "<video src=\"path\" autoplay muted loop poster=\"path\">\n",
"</video>"
      ]
    },
{
      "cell_type": "markdown",
      "metadata": {},
      "source": [
      "#### `audio` tag"
      ]
    },
{
      "cell_type": "markdown",
      "metadata": {},
      "source": [
      "Para reproduzir áudio, é usada a tag `audio`, para a qual é usado o atributo `src`."
      ]
    },
{
      "cell_type": "code",
      "execution_count": 100,
      "metadata": {
        "vscode": {
          "languageId": "plaintext"
        }
      },
      "outputs": [],
      "source": [
      "<audio src=\"path\">\n",
"</audio>"
      ]
    },
{
      "cell_type": "markdown",
      "metadata": {},
      "source": [
      "O atributo `controls` é definido para exibir os controles de reprodução."
      ]
    },
{
      "cell_type": "code",
      "execution_count": 100,
      "metadata": {
        "vscode": {
          "languageId": "plaintext"
        }
      },
      "outputs": [],
      "source": [
      "<audio src=\"path\" controls>\n",
"</audio>"
      ]
    },
{
      "cell_type": "markdown",
      "metadata": {},
      "source": [
      "Se quisermos que o áudio seja reproduzido automaticamente, definimos o atributo `autoplay`."
      ]
    },
{
      "cell_type": "code",
      "execution_count": 100,
      "metadata": {
        "vscode": {
          "languageId": "plaintext"
        }
      },
      "outputs": [],
      "source": [
      "<audio src=\"path\" autoplay>\n",
"</audio>"
      ]
    },
{
      "cell_type": "markdown",
      "metadata": {},
      "source": [
      "Se quisermos que o áudio seja repetido, definimos o atributo `loop`."
      ]
    },
{
      "cell_type": "code",
      "execution_count": 100,
      "metadata": {
        "vscode": {
          "languageId": "plaintext"
        }
      },
      "outputs": [],
      "source": [
      "<audio src=\"path\" autoplay loop>\n",
"</audio>"
      ]
    },
{
      "cell_type": "markdown",
      "metadata": {},
      "source": [
      "Se quisermos que o áudio seja repetido, definimos o atributo `loop`."
      ]
    },
{
      "cell_type": "code",
      "execution_count": 100,
      "metadata": {
        "vscode": {
          "languageId": "plaintext"
        }
      },
      "outputs": [],
      "source": [
      "<audio src=\"path\" autoplay loop>\n",
"</audio>"
      ]
    },
{
      "cell_type": "markdown",
      "metadata": {},
      "source": [
      "#### `iframe` tag"
      ]
    },
{
      "cell_type": "markdown",
      "metadata": {},
      "source": [
      "Quando compartilhamos um vídeo do YouTube, ele nos dá a opção de copiar o código. Isso gera um código html que tem a tag `iframe`. Essa tag é usada para incorporar conteúdo de outros sites."
      ]
    },
{
      "cell_type": "code",
      "execution_count": 100,
      "metadata": {
        "vscode": {
          "languageId": "plaintext"
        }
      },
      "outputs": [],
      "source": [
      "<iframe src=\"path\">\n",
"</iframe>"
      ]
    },
{
      "cell_type": "markdown",
      "metadata": {},
      "source": [
      "Falamos sobre a página do YouTube, mas podemos incorporar qualquer página. Embora existam algumas páginas que não permitem isso."
      ]
    },
{
      "cell_type": "markdown",
      "metadata": {},
      "source": [
      "#### Label `dialog`"
      ]
    },
{
      "cell_type": "markdown",
      "metadata": {},
      "source": [
      "Você já deve ter visto que muitas pessoas colocam seus projetos em seus portfólios e, quando você clica neles, obtém uma caixa de diálogo com mais informações, ou em galerias de imagens, quando você clica em uma imagem, obtém uma caixa de diálogo com uma imagem maior. Isso é feito com a tag `dialog`."
      ]
    },
{
      "cell_type": "code",
      "execution_count": 100,
      "metadata": {
        "vscode": {
          "languageId": "plaintext"
        }
      },
      "outputs": [],
      "source": [
      "<dialog>\n",
"</dialog>"
      ]
    },
{
      "cell_type": "markdown",
      "metadata": {},
      "source": [
      "Dentro dele, você pode colocar o que quiser, por exemplo, um título, um texto, uma imagem etc."
      ]
    },
{
      "cell_type": "code",
      "execution_count": 100,
      "metadata": {
        "vscode": {
          "languageId": "plaintext"
        }
      },
      "outputs": [],
      "source": [
      "<dialog id=\"id\">\n",
"    <h1>Título</h1>\n",
"    <p>Texto</p>\n",
"    <img src=\"path\" alt=\"Texto alternativo\"/>\n",
"</dialog>"
      ]
    },
{
      "cell_type": "markdown",
      "metadata": {},
      "source": [
      "Para abrir a caixa de diálogo, um botão pode ser colocado em um script."
      ]
    },
{
      "cell_type": "code",
      "execution_count": 100,
      "metadata": {
        "vscode": {
          "languageId": "plaintext"
        }
      },
      "outputs": [],
      "source": [
      "<dialog id=\"dialog\">\n",
"    <h1>Título</h1>\n",
"    <p>Texto</p>\n",
"    <img src=\"path\" alt=\"Texto alternativo\"/>\n",
"</dialog>\n",
"\n",
"<button id=\"open\">\n",
"    Abrir\n",
"</button>\n",
"\n",
"<script>\n",
"    window.open.addEventListener(\"click\", () => {\n",
"        window.dialog.showModal();\n",
"    });\n",
"</script>"
      ]
    },
{
      "cell_type": "markdown",
      "metadata": {},
      "source": [
      "### Formulários"
      ]
    },
{
      "cell_type": "markdown",
      "metadata": {},
      "source": [
      "Para criar um formulário, usamos a tag `form`; dentro dessa tag, colocamos os campos do formulário. O atributo `action` indica para onde o formulário será enviado. O atributo `method` indica o método de envio, que pode ser `get` ou `post`. O atributo `name` indica o nome do formulário, o que é útil para `JavaScript`."
      ]
    },
{
      "cell_type": "code",
      "execution_count": 100,
      "metadata": {
        "vscode": {
          "languageId": "plaintext"
        }
      },
      "outputs": [],
      "source": [
      "<form action=\"path\" method=\"post\" name=\"name\">\n",
"</form>"
      ]
    },
{
      "cell_type": "markdown",
      "metadata": {},
      "source": [
      "#### Agrupamento de elementos"
      ]
    },
{
      "cell_type": "markdown",
      "metadata": {},
      "source": [
      "Com a tag `fieldset` você pode agrupar elementos de um formulário. Os elementos do formulário são colocados dentro dessa tag. O atributo `legend` indica o título do grupo de elementos."
      ]
    },
{
      "cell_type": "code",
      "execution_count": 100,
      "metadata": {
        "vscode": {
          "languageId": "plaintext"
        }
      },
      "outputs": [],
      "source": [
      "<form action=\"path\" method=\"post\" name=\"name\">\n",
"    <fieldset>\n",
"        <legend>Título</legend>\n",
"    </fieldset>\n",
"</form>"
      ]
    },
{
      "cell_type": "markdown",
      "metadata": {},
      "source": [
      "#### Label"
      ]
    },
{
      "cell_type": "markdown",
      "metadata": {},
      "source": [
      "A tag `label` cria um rótulo para um elemento de formulário. O atributo `for` indica o ID do elemento de formulário ao qual se refere.\n",
"\n",
"Em seguida, você coloca o elemento do formulário, por exemplo, `input`.\n",
"\n",
"Deve ser especificado o `type`, que pode ser do tipo `text`, `email`, `password`, `number`, `date`, `time`, `color`, `range`, `file`, `checkbox`, `radio`, `submit`, `reset`, `button`, `hidden`.\n",
"\n",
"Se a entrada `input` tiver que ser inserida, o atributo `required` poderá ser adicionado.\n",
"\n",
"Se o usuário já tiver inserido um valor no `input`, o atributo `autocomplete` poderá ser usado para indicar que ele deve ser preenchido automaticamente.\n",
"\n",
"Com o atributo `pattern`, você pode especificar uma expressão regular para validar a `input`. Por exemplo, para validar se o e-mail ou o número de telefone está correto."
      ]
    },
{
      "cell_type": "code",
      "execution_count": 100,
      "metadata": {
        "vscode": {
          "languageId": "plaintext"
        }
      },
      "outputs": [],
      "source": [
      "<form action=\"path\" method=\"post\" name=\"name\">\n",
"    <fieldset>\n",
"        <legend>Título</legend>\n",
"\n",
"        <label for=\"id\">Nombre:</label>\n",
"        <input type=\"text\" id=\"id\" name=\"name\" placeholder=\"Nombre\" required autocomplete=\"on\"/>\n",
"        \n",
"    </fieldset>\n",
"</form>"
      ]
    },
{
      "cell_type": "markdown",
      "metadata": {},
      "source": [
      "Outra forma de especificar o `input` de um `label` é colocar o `input` dentro do `label`. Agora não há necessidade do atributo `for` porque o `label` é entendido como referência ao `input` dentro dele."
      ]
    },
{
      "cell_type": "code",
      "execution_count": 100,
      "metadata": {
        "vscode": {
          "languageId": "plaintext"
        }
      },
      "outputs": [],
      "source": [
      "<form action=\"path\" method=\"post\" name=\"name\">\n",
"    <fieldset>\n",
"        <legend>Título</legend>\n",
"\n",
"        <label>Nombre:\n",
"            <input type=\"text\" id=\"id\" name=\"name\" placeholder=\"Nombre\" required/>\n",
"        </label>\n",
"        \n",
"    </fieldset>\n",
"</form>"
      ]
    },
{
      "cell_type": "markdown",
      "metadata": {},
      "source": [
      "#### Selecionar"
      ]
    },
{
      "cell_type": "markdown",
      "metadata": {},
      "source": [
      "Com a tag `select`, é criado um menu suspenso. Dentro dessa tag, as opções do drop-down são colocadas com a tag `option`. O atributo `value` indica o valor da opção. O atributo `selected` indica a opção que é selecionada por padrão."
      ]
    },
{
      "cell_type": "code",
      "execution_count": 100,
      "metadata": {
        "vscode": {
          "languageId": "plaintext"
        }
      },
      "outputs": [],
      "source": [
      "<form action=\"path\" method=\"post\" name=\"name\">\n",
"    <fieldset>\n",
"        <legend>Título</legend>\n",
"\n",
"        <label>Nombre:\n",
"            <input type=\"text\" id=\"id\" name=\"name\" placeholder=\"Nombre\" required/>\n",
"        </label>\n",
"\n",
"        <label>País:\n",
"            <select name=\"country\">\n",
"                <option value=\"es\">España</option>\n",
"                <option value=\"fr\">Francia</option>\n",
"                <option value=\"it\" selected>Italia</option>\n",
"            </select>\n",
"        </label>\n",
"        \n",
"    </fieldset>\n",
"</form>"
      ]
    },
{
      "cell_type": "markdown",
      "metadata": {},
      "source": [
      "Se você tiver muitas opções, poderá usar a tag `datalist` para criar uma lista de opções, de modo que, quando o usuário digitar uma das opções da lista, serão mostradas as opções que correspondem ao que ele digitou. Dentro dessa tag, as opções são colocadas com a tag `option`. O atributo `value` indica o valor da opção."
      ]
    },
{
      "cell_type": "code",
      "execution_count": 100,
      "metadata": {
        "vscode": {
          "languageId": "plaintext"
        }
      },
      "outputs": [],
      "source": [
      "<form action=\"path\" method=\"post\" name=\"name\">\n",
"    <fieldset>\n",
"        <legend>Título</legend>\n",
"\n",
"        <label>Nombre:\n",
"            <input type=\"text\" id=\"id\" name=\"name\" placeholder=\"Nombre\" required/>\n",
"        </label>\n",
"\n",
"        <label>País:\n",
"            <input type=\"text\" list=\"countries\" name=\"country\"/>\n",
"            <datalist id=\"countries\">\n",
"                <option value=\"es\">España</option>\n",
"                <option value=\"fr\">Francia</option>\n",
"                <option value=\"it\">Italia</option>\n",
"            </datalist>\n",
"        </label>\n",
"        \n",
"    </fieldset>\n",
"</form>"
      ]
    },
{
      "cell_type": "markdown",
      "metadata": {},
      "source": [
      "#### Enviar"
      ]
    },
{
      "cell_type": "markdown",
      "metadata": {},
      "source": [
      "A tag `input` com o atributo `type=\"submit\"` é usada para enviar o formulário."
      ]
    },
{
      "cell_type": "code",
      "execution_count": 100,
      "metadata": {
        "vscode": {
          "languageId": "plaintext"
        }
      },
      "outputs": [],
      "source": [
      "<form action=\"path\" method=\"post\" name=\"name\">\n",
"    <fieldset>\n",
"        <legend>Título</legend>\n",
"\n",
"        <label>Nombre:\n",
"            <input type=\"text\" id=\"id\" name=\"name\" placeholder=\"Nombre\" required/>\n",
"        </label>\n",
"        \n",
"        <input type=\"submit\" value=\"Enviar\"/>\n",
"    </fieldset>\n",
"</form>"
      ]
    },
{
      "cell_type": "markdown",
      "metadata": {},
      "source": [
      "### Detalhes"
      ]
    },
{
      "cell_type": "markdown",
      "metadata": {},
      "source": [
      "Se quiser criar seções de texto que normalmente são recolhidas, como uma seção de FAQ, você pode usar a tag `details`. Dentro dessa tag, coloque a tag `summary`, que é o título da seção. E dentro da tag `details` você coloca o texto da seção."
      ]
    },
{
      "cell_type": "code",
      "execution_count": 100,
      "metadata": {
        "vscode": {
          "languageId": "plaintext"
        }
      },
      "outputs": [],
      "source": [
      "<details>\n",
"    <summary>Título</summary>\n",
"    <p>Texto</p>\n",
"</details>"
      ]
    },
{
      "cell_type": "markdown",
      "metadata": {},
      "source": [
      "Se quisermos que qualquer um deles apareça por padrão, definimos o atributo `open`."
      ]
    },
{
      "cell_type": "code",
      "execution_count": 100,
      "metadata": {
        "vscode": {
          "languageId": "plaintext"
        }
      },
      "outputs": [],
      "source": [
      "<details open>\n",
"    <summary>Título</summary>\n",
"    <p>Texto</p>\n",
"</details>"
      ]
    }
  ],
  "metadata": {
    "kernelspec": {
      "display_name": "Python 3.8.10 64-bit",
      "language": "python",
      "name": "python3"
    },
    "language_info": {
      "name": "python",
      "version": "3.8.10"
    },
    "orig_nbformat": 4,
    "vscode": {
      "interpreter": {
        "hash": "916dbcbb3f70747c44a77c7bcd40155683ae19c65e1c03b4aa3499c5328201f1"
      }
    }
  },
  "nbformat": 4,
  "nbformat_minor": 2
}
