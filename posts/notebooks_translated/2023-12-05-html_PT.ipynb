{
  "cells": [
    {
      "cell_type": "markdown",
      "metadata": {},
      "source": [
        "# HTML"
      ]
    },
    {
      "cell_type": "markdown",
      "metadata": {},
      "source": [
        " > Aviso: Este post foi traduzido para o portugu\u00eas usando um modelo de tradu\u00e7\u00e3o autom\u00e1tica. Por favor, me avise se encontrar algum erro."
      ]
    },
    {
      "cell_type": "markdown",
      "metadata": {},
      "source": [
        "## Coment\u00e1rios"
      ]
    },
    {
      "cell_type": "markdown",
      "metadata": {},
      "source": [
        "Para adicionar um coment\u00e1rio a um `html`, utiliza o seguinte c\u00f3digo:"
      ]
    },
    {
      "cell_type": "code",
      "execution_count": null,
      "metadata": {
        "vscode": {
          "languageId": "plaintext"
        }
      },
      "outputs": [],
      "source": [
        "<!-- Comentario -->"
      ]
    },
    {
      "cell_type": "markdown",
      "metadata": {},
      "source": [
        "## Cabe\u00e7a"
      ]
    },
    {
      "cell_type": "markdown",
      "metadata": {},
      "source": [
        "O `HTML` deve come\u00e7ar com uma tag `!DOCTYPE` que indica ao navegador a vers\u00e3o do HTML. Ao colocar apenas `HTML`, o navegador entende que \u00e9 a vers\u00e3o 5."
      ]
    },
    {
      "cell_type": "code",
      "execution_count": null,
      "metadata": {
        "vscode": {
          "languageId": "plaintext"
        }
      },
      "outputs": [],
      "source": [
        "<!DOCTYPE html>"
      ]
    },
    {
      "cell_type": "markdown",
      "metadata": {},
      "source": [
        "A seguir deve ser colocado um cont\u00eainer com a tag `html` com um atributo chamado `lang` que indica o idioma no qual a p\u00e1gina foi escrita."
      ]
    },
    {
      "cell_type": "code",
      "execution_count": null,
      "metadata": {
        "vscode": {
          "languageId": "plaintext"
        }
      },
      "outputs": [],
      "source": [
        "<!DOCTYPE html>\n",
        "<html lang=\"es\">\n",
        "</html>"
      ]
    },
    {
      "cell_type": "markdown",
      "metadata": {},
      "source": [
        "Dentro s\u00e3o criados dois cont\u00eaineres adicionais, o de `head` e o de `body`"
      ]
    },
    {
      "cell_type": "code",
      "execution_count": null,
      "metadata": {
        "vscode": {
          "languageId": "plaintext"
        }
      },
      "outputs": [],
      "source": [
        "<!DOCTYPE html>\n",
        "<html lang=\"es\">\n",
        "    <head>\n",
        "    </head>\n",
        "    <body>\n",
        "    </body>\n",
        "</html>"
      ]
    },
    {
      "cell_type": "markdown",
      "metadata": {},
      "source": [
        "No cont\u00eainer `head` vai tudo o que o navegador precisa para poder carregar, enquanto no `body` vai tudo o que ser\u00e1 exibido na p\u00e1gina."
      ]
    },
    {
      "cell_type": "markdown",
      "metadata": {},
      "source": [
        "Uma das tags do `head` \u00e9 `meta` que possui um atributo chamado `charset` que indica o tipo de codifica\u00e7\u00e3o do texto, geralmente \u00e9 `utf-8`, `utf-16`.",
        "\n",
        "Outro tipo de `meta` \u00e9 o `name=\"description\"`, que \u00e9 uma descri\u00e7\u00e3o para os navegadores. \u00c9 importante para o SEO.",
        "\n",
        "Outro tipo de meta \u00e9 o `name=\"robots\"` que \u00e9 para os rob\u00f4s dos motores de busca e indica se a p\u00e1gina pode ser seguida ou n\u00e3o.",
        "\n",
        "Outro atributo do `head` \u00e9 `title`, que indica o t\u00edtulo que \u00e9 visto na aba.",
        "\n",
        "Outro meta \u00e9 `name=\"viewport\"` que \u00e9 para o design responsivo.",
        "\n",
        "Outro meta \u00e9 `name=\"theme-color\"` que \u00e9 para a cor da barra de navega\u00e7\u00e3o.",
        "\n",
        "Outro objetivo \u00e9 o favicon, que \u00e9 o \u00edcone que aparece na guia. \u00c9 escrito com a tag `link` e os atributos `type` e `href=\"path\"`.",
        "\n",
        "Algumas tags muito importantes para o SEO s\u00e3o todas as relacionadas a `Open Graph`, que s\u00e3o as que aparecem quando um link \u00e9 compartilhado nas redes sociais. Para isso, uma p\u00e1gina muito \u00fatil \u00e9 [open graph](https://opengraph.xyz/), onde voc\u00ea coloca seu link e ela te diz como ele apareceria em cada rede social. Essas metatags s\u00e3o",
        "\n",
        "`property=\"og:title\"` que \u00e9 o t\u00edtulo que aparece nas redes sociais.",
        "\n",
        "`property=\"og:description\"` \u00e9 a descri\u00e7\u00e3o que \u00e9 vista nas redes sociais.",
        "\n",
        "`property=\"og:image\"` que \u00e9 a imagem que aparece nas redes sociais.",
        "\n",
        "`property=\"og:image:alt\"` que \u00e9 o texto alternativo da imagem que aparece nas redes sociais.",
        "\n",
        "H\u00e1 uma tag para o `CSS` que \u00e9 `link`",
        "\n",
        "Na p\u00e1gina de [Open Graph](https://ogp.me/) podem ser vistas todas as tags que podem ser colocadas no `head`.",
        "\n",
        "Outra tag importante para o SEO \u00e9 `link rel=\"alternate\"`, que \u00e9 usada para indicar que existe uma vers\u00e3o alternativa da p\u00e1gina, por exemplo, em outro idioma.",
        "\n",
        "Outra tag importante para o SEO \u00e9 `link rel=\"canonical\"`, que serve para indicar que h\u00e1 uma vers\u00e3o can\u00f4nica da p\u00e1gina, por exemplo em outro idioma.",
        "\n",
        "Com as tags `style` e `script` \u00e9 poss\u00edvel escrever `CSS` e `JavaScript` no `html`."
      ]
    },
    {
      "cell_type": "code",
      "execution_count": null,
      "metadata": {
        "vscode": {
          "languageId": "plaintext"
        }
      },
      "outputs": [],
      "source": [
        "<!DOCTYPE html>\n",
        "<html lang=\"es\">\n",
        "    <head>\n",
        "        <meta charset=\"utf-8\"/>\n",
        "        <meta name=\"description\" content=\"Descripci\u00f3n para los buscadores\"/>\n",
        "        <meta name=\"robots\" content=\"index,folow\"/>\n",
        "        <title>T\u00edtulo pesta\u00f1a</title>\n",
        "        <meta name=\"viewport\" content=\"width=device-width\"/>\n",
        "        <meta name=\"theme-color\" content=\"#09f\"/>\n",
        "        <link rel=\"stulesheet\" href=\"path\"/>\n",
        "        <link rel=\"icon\" type=\"image/png\" href=\"path\"/>\n",
        "        <meta property=\"og:title\" content=\"T\u00edtulo para las redes sociales\"/>\n",
        "        <meta property=\"og:description\" content=\"Descripci\u00f3n para las redes sociales\"/>\n",
        "        <meta property=\"og:image\" content=\"path\"/>\n",
        "        <meta property=\"og:image:alt\" content=\"Texto alternativo para la imagen\"/>\n",
        "        <link rel=\"alternate\" href=\"path\" hreflang=\"en\"/>\n",
        "        <link rel=\"canonical\" href=\"path\"/>\n",
        "    </head>\n",
        "    <body>\n",
        "    </body>\n",
        "</html>"
      ]
    },
    {
      "cell_type": "markdown",
      "metadata": {},
      "source": [
        "## Corpo"
      ]
    },
    {
      "cell_type": "markdown",
      "metadata": {},
      "source": [
        "H\u00e1 tags de cont\u00eainer que ajudam a criar uma estrutura e trazem mais tags dentro. E h\u00e1 tags de cont\u00eainer que s\u00e3o as que cont\u00eam o texto, imagens, etc."
      ]
    },
    {
      "cell_type": "markdown",
      "metadata": {},
      "source": [
        "### Etiquetas contenedoras"
      ]
    },
    {
      "cell_type": "markdown",
      "metadata": {},
      "source": [
        "#### Cabe\u00e7alho"
      ]
    },
    {
      "cell_type": "markdown",
      "metadata": {},
      "source": [
        "Esta \u00e9 a tag para descrever o `header`"
      ]
    },
    {
      "cell_type": "code",
      "execution_count": null,
      "metadata": {
        "vscode": {
          "languageId": "plaintext"
        }
      },
      "outputs": [],
      "source": [
        "<!DOCTYPE html>\n",
        "<html lang=\"es\">\n",
        "    <head>\n",
        "        <meta charset=\"utf-8\"/>\n",
        "        <meta name=\"description\" content=\"Descripci\u00f3n para los buscadores\"/>\n",
        "        <meta name=\"robots\" content=\"index,folow\"/>\n",
        "        <title>T\u00edtulo pesta\u00f1a</title>\n",
        "        <meta name=\"viewport\" content=\"width=device-width\"/>\n",
        "        <meta name=\"theme-color\" content=\"#09f\"/>\n",
        "        <link rel=\"stulesheet\" href=\"path\"/>\n",
        "        <link rel=\"icon\" type=\"image/png\" href=\"path\"/>\n",
        "        <meta property=\"og:title\" content=\"T\u00edtulo para las redes sociales\"/>\n",
        "        <meta property=\"og:description\" content=\"Descripci\u00f3n para las redes sociales\"/>\n",
        "        <meta property=\"og:image\" content=\"path\"/>\n",
        "        <meta property=\"og:image:alt\" content=\"Texto alternativo para la imagen\"/>\n",
        "        <link rel=\"alternate\" href=\"path\" hreflang=\"en\"/>\n",
        "        <link rel=\"canonical\" href=\"path\"/>\n",
        "    </head>\n",
        "    <body>\n",
        "        <header>\n",
        "            Header\n",
        "        </header>\n",
        "    </body>\n",
        "</html>"
      ]
    },
    {
      "cell_type": "markdown",
      "metadata": {},
      "source": [
        "##### Navega\u00e7\u00e3o"
      ]
    },
    {
      "cell_type": "markdown",
      "metadata": {},
      "source": [
        "Com a etiqueta `nav` cria a navega\u00e7\u00e3o. Dentro desta etiqueta, podem ser colocados links com a etiqueta `a` e pode ser colocado um logotipo com a etiqueta `img`."
      ]
    },
    {
      "cell_type": "code",
      "execution_count": null,
      "metadata": {
        "vscode": {
          "languageId": "plaintext"
        }
      },
      "outputs": [],
      "source": [
        "<!DOCTYPE html>\n",
        "<html lang=\"es\">\n",
        "    <head>\n",
        "        <meta charset=\"utf-8\"/>\n",
        "        <meta name=\"description\" content=\"Descripci\u00f3n para los buscadores\"/>\n",
        "        <meta name=\"robots\" content=\"index,folow\"/>\n",
        "        <title>T\u00edtulo pesta\u00f1a</title>\n",
        "        <meta name=\"viewport\" content=\"width=device-width\"/>\n",
        "        <meta name=\"theme-color\" content=\"#09f\"/>\n",
        "        <link rel=\"stulesheet\" href=\"path\"/>\n",
        "        <link rel=\"icon\" type=\"image/png\" href=\"path\"/>\n",
        "        <meta property=\"og:title\" content=\"T\u00edtulo para las redes sociales\"/>\n",
        "        <meta property=\"og:description\" content=\"Descripci\u00f3n para las redes sociales\"/>\n",
        "        <meta property=\"og:image\" content=\"path\"/>\n",
        "        <meta property=\"og:image:alt\" content=\"Texto alternativo para la imagen\"/>\n",
        "        <link rel=\"alternate\" href=\"path\" hreflang=\"en\"/>\n",
        "        <link rel=\"canonical\" href=\"path\"/>\n",
        "    </head>\n",
        "    <body>\n",
        "        <header>\n",
        "            <nav>\n",
        "                <a href=\"path\">Enlace</a>\n",
        "                <img src=\"path\" alt=\"Texto alternativo\"/>\n",
        "            </nav>\n",
        "        </header>\n",
        "    </body>\n",
        "</html>"
      ]
    },
    {
      "cell_type": "markdown",
      "metadata": {},
      "source": [
        "##### Links"
      ]
    },
    {
      "cell_type": "markdown",
      "metadata": {},
      "source": [
        "Como na navega\u00e7\u00e3o, os links s\u00e3o criados com a tag `a` e levam um atributo `href=\"path\"` que indica o link para o qual leva o link. Tamb\u00e9m levam um atributo `target=\"_blank\"` que indica que se abre em uma nova aba. Al\u00e9m disso, pode-se colocar o atributo `rel=\"noreferer\"` que indica que n\u00e3o se passa informa\u00e7\u00f5es da p\u00e1gina de onde vem o link."
      ]
    },
    {
      "cell_type": "code",
      "execution_count": null,
      "metadata": {
        "vscode": {
          "languageId": "plaintext"
        }
      },
      "outputs": [],
      "source": [
        "<a href=\"path\" target=\"_blank\">Enlace</a>"
      ]
    },
    {
      "cell_type": "markdown",
      "metadata": {},
      "source": [
        "Se o link for um link para uma se\u00e7\u00e3o da p\u00e1gina, coloca-se o atributo `href=\"#id\"`."
      ]
    },
    {
      "cell_type": "code",
      "execution_count": null,
      "metadata": {
        "vscode": {
          "languageId": "plaintext"
        }
      },
      "outputs": [],
      "source": [
        "<a href=\"#id\">Enlace</a>"
      ]
    },
    {
      "cell_type": "markdown",
      "metadata": {},
      "source": [
        "Portanto, em outra parte da p\u00e1gina deve ser colocado um cont\u00eainer com o atributo `id=\"id\"`."
      ]
    },
    {
      "cell_type": "code",
      "execution_count": null,
      "metadata": {
        "vscode": {
          "languageId": "plaintext"
        }
      },
      "outputs": [],
      "source": [
        "<div id=\"id\">\n",
        "</div>"
      ]
    },
    {
      "cell_type": "markdown",
      "metadata": {},
      "source": [
        "Se o link for um email, coloca o atributo `href=\"mailto:email\"`."
      ]
    },
    {
      "cell_type": "code",
      "execution_count": null,
      "metadata": {
        "vscode": {
          "languageId": "plaintext"
        }
      },
      "outputs": [],
      "source": [
        "<a href=\"mailto:email\">Email</a>"
      ]
    },
    {
      "cell_type": "markdown",
      "metadata": {},
      "source": [
        "Se o link for um telefone, adiciona-se o atributo `href=\"tel:phone\"`."
      ]
    },
    {
      "cell_type": "code",
      "execution_count": null,
      "metadata": {
        "vscode": {
          "languageId": "plaintext"
        }
      },
      "outputs": [],
      "source": [
        "<a href=\"tel:phone\">Tel\u00e9fono</a>"
      ]
    },
    {
      "cell_type": "markdown",
      "metadata": {},
      "source": [
        "Se quiser colocar um link para abrir o WhatsApp, use o atributo `href=\"https://wa.me/phone\"`."
      ]
    },
    {
      "cell_type": "code",
      "execution_count": null,
      "metadata": {
        "vscode": {
          "languageId": "plaintext"
        }
      },
      "outputs": [],
      "source": [
        "<a href=\"https://wa.me/phone\">WhatsApp</a>"
      ]
    },
    {
      "cell_type": "markdown",
      "metadata": {},
      "source": [
        "#### Principal"
      ]
    },
    {
      "cell_type": "markdown",
      "metadata": {},
      "source": [
        "Esta \u00e9 a tag para descrever o `main`"
      ]
    },
    {
      "cell_type": "code",
      "execution_count": null,
      "metadata": {
        "vscode": {
          "languageId": "plaintext"
        }
      },
      "outputs": [],
      "source": [
        "<!DOCTYPE html>\n",
        "<html lang=\"es\">\n",
        "    <head>\n",
        "        <meta charset=\"utf-8\"/>\n",
        "        <meta name=\"description\" content=\"Descripci\u00f3n para los buscadores\"/>\n",
        "        <meta name=\"robots\" content=\"index,folow\"/>\n",
        "        <title>T\u00edtulo pesta\u00f1a</title>\n",
        "        <meta name=\"viewport\" content=\"width=device-width\"/>\n",
        "        <meta name=\"theme-color\" content=\"#09f\"/>\n",
        "        <link rel=\"stulesheet\" href=\"path\"/>\n",
        "        <link rel=\"icon\" type=\"image/png\" href=\"path\"/>\n",
        "        <meta property=\"og:title\" content=\"T\u00edtulo para las redes sociales\"/>\n",
        "        <meta property=\"og:description\" content=\"Descripci\u00f3n para las redes sociales\"/>\n",
        "        <meta property=\"og:image\" content=\"path\"/>\n",
        "        <meta property=\"og:image:alt\" content=\"Texto alternativo para la imagen\"/>\n",
        "        <link rel=\"alternate\" href=\"path\" hreflang=\"en\"/>\n",
        "        <link rel=\"canonical\" href=\"path\"/>\n",
        "    </head>\n",
        "    <body>\n",
        "        <header>\n",
        "            <nav>\n",
        "                <a href=\"path\">Enlace</a>\n",
        "                <img src=\"path\" alt=\"Texto alternativo\"/>\n",
        "            </nav>\n",
        "        </header>\n",
        "        <main>\n",
        "        </main>\n",
        "    </body>\n",
        "</html>"
      ]
    },
    {
      "cell_type": "markdown",
      "metadata": {},
      "source": [
        "#### Rodap\u00e9"
      ]
    },
    {
      "cell_type": "markdown",
      "metadata": {},
      "source": [
        "Esta \u00e9 a tag para descrever o `footer`"
      ]
    },
    {
      "cell_type": "code",
      "execution_count": null,
      "metadata": {
        "vscode": {
          "languageId": "plaintext"
        }
      },
      "outputs": [],
      "source": [
        "<!DOCTYPE html>\n",
        "<html lang=\"es\">\n",
        "    <head>\n",
        "        <meta charset=\"utf-8\"/>\n",
        "        <meta name=\"description\" content=\"Descripci\u00f3n para los buscadores\"/>\n",
        "        <meta name=\"robots\" content=\"index,folow\"/>\n",
        "        <title>T\u00edtulo pesta\u00f1a</title>\n",
        "        <meta name=\"viewport\" content=\"width=device-width\"/>\n",
        "        <meta name=\"theme-color\" content=\"#09f\"/>\n",
        "        <link rel=\"stulesheet\" href=\"path\"/>\n",
        "        <link rel=\"icon\" type=\"image/png\" href=\"path\"/>\n",
        "        <meta property=\"og:title\" content=\"T\u00edtulo para las redes sociales\"/>\n",
        "        <meta property=\"og:description\" content=\"Descripci\u00f3n para las redes sociales\"/>\n",
        "        <meta property=\"og:image\" content=\"path\"/>\n",
        "        <meta property=\"og:image:alt\" content=\"Texto alternativo para la imagen\"/>\n",
        "        <link rel=\"alternate\" href=\"path\" hreflang=\"en\"/>\n",
        "        <link rel=\"canonical\" href=\"path\"/>\n",
        "    </head>\n",
        "    <body>\n",
        "        <header>\n",
        "            <nav>\n",
        "                <a href=\"path\">Enlace</a>\n",
        "                <img src=\"path\" alt=\"Texto alternativo\"/>\n",
        "            </nav>\n",
        "        </header>\n",
        "        <main>\n",
        "        </main>\n",
        "        <footer>\n",
        "        </footer>\n",
        "    </body>\n",
        "</html>"
      ]
    },
    {
      "cell_type": "markdown",
      "metadata": {},
      "source": [
        "#### Se\u00e7\u00e3o"
      ]
    },
    {
      "cell_type": "markdown",
      "metadata": {},
      "source": [
        "Dentro de `main` podem fazer se\u00e7\u00f5es"
      ]
    },
    {
      "cell_type": "code",
      "execution_count": null,
      "metadata": {
        "vscode": {
          "languageId": "plaintext"
        }
      },
      "outputs": [],
      "source": [
        "<!DOCTYPE html>\n",
        "<html lang=\"es\">\n",
        "    <head>\n",
        "        <meta charset=\"utf-8\"/>\n",
        "        <meta name=\"description\" content=\"Descripci\u00f3n para los buscadores\"/>\n",
        "        <meta name=\"robots\" content=\"index,folow\"/>\n",
        "        <title>T\u00edtulo pesta\u00f1a</title>\n",
        "        <meta name=\"viewport\" content=\"width=device-width\"/>\n",
        "        <meta name=\"theme-color\" content=\"#09f\"/>\n",
        "        <link rel=\"stulesheet\" href=\"path\"/>\n",
        "        <link rel=\"icon\" type=\"image/png\" href=\"path\"/>\n",
        "        <meta property=\"og:title\" content=\"T\u00edtulo para las redes sociales\"/>\n",
        "        <meta property=\"og:description\" content=\"Descripci\u00f3n para las redes sociales\"/>\n",
        "        <meta property=\"og:image\" content=\"path\"/>\n",
        "        <meta property=\"og:image:alt\" content=\"Texto alternativo para la imagen\"/>\n",
        "        <link rel=\"alternate\" href=\"path\" hreflang=\"en\"/>\n",
        "        <link rel=\"canonical\" href=\"path\"/>\n",
        "    </head>\n",
        "    <body>\n",
        "        <header>\n",
        "            <nav>\n",
        "                <a href=\"path\">Enlace</a>\n",
        "                <img src=\"path\" alt=\"Texto alternativo\"/>\n",
        "            </nav>\n",
        "        </header>\n",
        "        <main>\n",
        "            <section>\n",
        "            </section>\n",
        "        </main>\n",
        "        <footer>\n",
        "        </footer>\n",
        "    </body>\n",
        "</html>"
      ]
    },
    {
      "cell_type": "markdown",
      "metadata": {},
      "source": [
        "#### Artigo"
      ]
    },
    {
      "cell_type": "markdown",
      "metadata": {},
      "source": [
        "Dentro de `main` podem haver artigos"
      ]
    },
    {
      "cell_type": "code",
      "execution_count": null,
      "metadata": {
        "vscode": {
          "languageId": "plaintext"
        }
      },
      "outputs": [],
      "source": [
        "<!DOCTYPE html>\n",
        "<html lang=\"es\">\n",
        "    <head>\n",
        "        <meta charset=\"utf-8\"/>\n",
        "        <meta name=\"description\" content=\"Descripci\u00f3n para los buscadores\"/>\n",
        "        <meta name=\"robots\" content=\"index,folow\"/>\n",
        "        <title>T\u00edtulo pesta\u00f1a</title>\n",
        "        <meta name=\"viewport\" content=\"width=device-width\"/>\n",
        "        <meta name=\"theme-color\" content=\"#09f\"/>\n",
        "        <link rel=\"stulesheet\" href=\"path\"/>\n",
        "        <link rel=\"icon\" type=\"image/png\" href=\"path\"/>\n",
        "        <meta property=\"og:title\" content=\"T\u00edtulo para las redes sociales\"/>\n",
        "        <meta property=\"og:description\" content=\"Descripci\u00f3n para las redes sociales\"/>\n",
        "        <meta property=\"og:image\" content=\"path\"/>\n",
        "        <meta property=\"og:image:alt\" content=\"Texto alternativo para la imagen\"/>\n",
        "        <link rel=\"alternate\" href=\"path\" hreflang=\"en\"/>\n",
        "        <link rel=\"canonical\" href=\"path\"/>\n",
        "    </head>\n",
        "    <body>\n",
        "        <header>\n",
        "            <nav>\n",
        "                <a href=\"path\">Enlace</a>\n",
        "                <img src=\"path\" alt=\"Texto alternativo\"/>\n",
        "            </nav>\n",
        "        </header>\n",
        "        <main>\n",
        "            <section>\n",
        "                <article>\n",
        "                </article>\n",
        "            </section>\n",
        "        </main>\n",
        "        <footer>\n",
        "        </footer>\n",
        "    </body>\n",
        "</html>"
      ]
    },
    {
      "cell_type": "markdown",
      "metadata": {},
      "source": [
        "#### Divisor"
      ]
    },
    {
      "cell_type": "markdown",
      "metadata": {},
      "source": [
        "Quando as tags sem\u00e2nticas se esgotam, pode-se utilizar a tag `div`, que \u00e9 um cont\u00eainer gen\u00e9rico."
      ]
    },
    {
      "cell_type": "code",
      "execution_count": null,
      "metadata": {
        "vscode": {
          "languageId": "plaintext"
        }
      },
      "outputs": [],
      "source": [
        "<!DOCTYPE html>\n",
        "<html lang=\"es\">\n",
        "    <head>\n",
        "        <meta charset=\"utf-8\"/>\n",
        "        <meta name=\"description\" content=\"Descripci\u00f3n para los buscadores\"/>\n",
        "        <meta name=\"robots\" content=\"index,folow\"/>\n",
        "        <title>T\u00edtulo pesta\u00f1a</title>\n",
        "        <meta name=\"viewport\" content=\"width=device-width\"/>\n",
        "        <meta name=\"theme-color\" content=\"#09f\"/>\n",
        "        <link rel=\"stulesheet\" href=\"path\"/>\n",
        "        <link rel=\"icon\" type=\"image/png\" href=\"path\"/>\n",
        "        <meta property=\"og:title\" content=\"T\u00edtulo para las redes sociales\"/>\n",
        "        <meta property=\"og:description\" content=\"Descripci\u00f3n para las redes sociales\"/>\n",
        "        <meta property=\"og:image\" content=\"path\"/>\n",
        "        <meta property=\"og:image:alt\" content=\"Texto alternativo para la imagen\"/>\n",
        "        <link rel=\"alternate\" href=\"path\" hreflang=\"en\"/>\n",
        "        <link rel=\"canonical\" href=\"path\"/>\n",
        "    </head>\n",
        "    <body>\n",
        "        <header>\n",
        "            <nav>\n",
        "                <a href=\"path\">Enlace</a>\n",
        "                <img src=\"path\" alt=\"Texto alternativo\"/>\n",
        "            </nav>\n",
        "        </header>\n",
        "        <main>\n",
        "            <section>\n",
        "                <article>\n",
        "                    <div>\n",
        "                    </div>\n",
        "                </article>\n",
        "            </section>\n",
        "        </main>\n",
        "        <footer>\n",
        "        </footer>\n",
        "    </body>\n",
        "</html>"
      ]
    },
    {
      "cell_type": "markdown",
      "metadata": {},
      "source": [
        "#### Listas n\u00e3o ordenadas `ul`"
      ]
    },
    {
      "cell_type": "markdown",
      "metadata": {},
      "source": [
        "Dentro de `main` podem haver listas n\u00e3o ordenadas, cada item da lista deve ter a tag `li`"
      ]
    },
    {
      "cell_type": "code",
      "execution_count": null,
      "metadata": {
        "vscode": {
          "languageId": "plaintext"
        }
      },
      "outputs": [],
      "source": [
        "<!DOCTYPE html>\n",
        "<html lang=\"es\">\n",
        "    <head>\n",
        "        <meta charset=\"utf-8\"/>\n",
        "        <meta name=\"description\" content=\"Descripci\u00f3n para los buscadores\"/>\n",
        "        <meta name=\"robots\" content=\"index,folow\"/>\n",
        "        <title>T\u00edtulo pesta\u00f1a</title>\n",
        "        <meta name=\"viewport\" content=\"width=device-width\"/>\n",
        "        <meta name=\"theme-color\" content=\"#09f\"/>\n",
        "        <link rel=\"stulesheet\" href=\"path\"/>\n",
        "        <link rel=\"icon\" type=\"image/png\" href=\"path\"/>\n",
        "        <meta property=\"og:title\" content=\"T\u00edtulo para las redes sociales\"/>\n",
        "        <meta property=\"og:description\" content=\"Descripci\u00f3n para las redes sociales\"/>\n",
        "        <meta property=\"og:image\" content=\"path\"/>\n",
        "        <meta property=\"og:image:alt\" content=\"Texto alternativo para la imagen\"/>\n",
        "        <link rel=\"alternate\" href=\"path\" hreflang=\"en\"/>\n",
        "        <link rel=\"canonical\" href=\"path\"/>\n",
        "    </head>\n",
        "    <body>\n",
        "        <header>\n",
        "            <nav>\n",
        "                <a href=\"path\">Enlace</a>\n",
        "                <img src=\"path\" alt=\"Texto alternativo\"/>\n",
        "            </nav>\n",
        "        </header>\n",
        "        <main>\n",
        "            <section>\n",
        "                <article>\n",
        "                    <div>\n",
        "                        <ul>\n",
        "                            <li></li>\n",
        "                        </ul>\n",
        "                    </div>\n",
        "                </article>\n",
        "            </section>\n",
        "        </main>\n",
        "        <footer>\n",
        "        </footer>\n",
        "    </body>\n",
        "</html>"
      ]
    },
    {
      "cell_type": "markdown",
      "metadata": {},
      "source": [
        "#### Listas ordenadas `ol`"
      ]
    },
    {
      "cell_type": "markdown",
      "metadata": {},
      "source": [
        "Dentro de `main` podem ter listas ordenadas, cada item da lista deve ter a tag `li`"
      ]
    },
    {
      "cell_type": "code",
      "execution_count": null,
      "metadata": {
        "vscode": {
          "languageId": "plaintext"
        }
      },
      "outputs": [],
      "source": [
        "<!DOCTYPE html>\n",
        "<html lang=\"es\">\n",
        "    <head>\n",
        "        <meta charset=\"utf-8\"/>\n",
        "        <meta name=\"description\" content=\"Descripci\u00f3n para los buscadores\"/>\n",
        "        <meta name=\"robots\" content=\"index,folow\"/>\n",
        "        <title>T\u00edtulo pesta\u00f1a</title>\n",
        "        <meta name=\"viewport\" content=\"width=device-width\"/>\n",
        "        <meta name=\"theme-color\" content=\"#09f\"/>\n",
        "        <link rel=\"stulesheet\" href=\"path\"/>\n",
        "        <link rel=\"icon\" type=\"image/png\" href=\"path\"/>\n",
        "        <meta property=\"og:title\" content=\"T\u00edtulo para las redes sociales\"/>\n",
        "        <meta property=\"og:description\" content=\"Descripci\u00f3n para las redes sociales\"/>\n",
        "        <meta property=\"og:image\" content=\"path\"/>\n",
        "        <meta property=\"og:image:alt\" content=\"Texto alternativo para la imagen\"/>\n",
        "        <link rel=\"alternate\" href=\"path\" hreflang=\"en\"/>\n",
        "        <link rel=\"canonical\" href=\"path\"/>\n",
        "    </head>\n",
        "    <body>\n",
        "        <header>\n",
        "            <nav>\n",
        "                <a href=\"path\">Enlace</a>\n",
        "                <img src=\"path\" alt=\"Texto alternativo\"/>\n",
        "            </nav>\n",
        "        </header>\n",
        "        <main>\n",
        "            <section>\n",
        "                <article>\n",
        "                    <div>\n",
        "                        <ul>\n",
        "                            <li></li>\n",
        "                        </ul>\n",
        "                        <ol>\n",
        "                            <li></li>\n",
        "                        </ol>\n",
        "                    </div>\n",
        "                </article>\n",
        "            </section>\n",
        "        </main>\n",
        "        <footer>\n",
        "        </footer>\n",
        "    </body>\n",
        "</html>"
      ]
    },
    {
      "cell_type": "markdown",
      "metadata": {},
      "source": [
        "Pode-se alterar o tipo de ordem da lista com o atributo `type=\"a\"` para letras, `type=\"i\"` para n\u00fameros romanos, `type=\"1\"` para n\u00fameros ar\u00e1bicos."
      ]
    },
    {
      "cell_type": "code",
      "execution_count": null,
      "metadata": {
        "vscode": {
          "languageId": "plaintext"
        }
      },
      "outputs": [],
      "source": [
        "<ol type=\"a\">\n",
        "    <li></li>\n",
        "</ol>"
      ]
    },
    {
      "cell_type": "markdown",
      "metadata": {},
      "source": [
        "Se quer que a ordem da lista comece em um n\u00famero espec\u00edfico, coloca o atributo `start=\"number\"`."
      ]
    },
    {
      "cell_type": "code",
      "execution_count": null,
      "metadata": {
        "vscode": {
          "languageId": "plaintext"
        }
      },
      "outputs": [],
      "source": [
        "<ol start=\"2\">\n",
        "    <li></li>\n",
        "</ol>"
      ]
    },
    {
      "cell_type": "markdown",
      "metadata": {},
      "source": [
        "Se queremos que a ordem da lista v\u00e1 em ordem inversa, colocamos o atributo `reversed`."
      ]
    },
    {
      "cell_type": "code",
      "execution_count": null,
      "metadata": {
        "vscode": {
          "languageId": "plaintext"
        }
      },
      "outputs": [],
      "source": [
        "<ol reversed>\n",
        "    <li></li>\n",
        "</ol>"
      ]
    },
    {
      "cell_type": "markdown",
      "metadata": {},
      "source": [
        "Se quisermos que um item de lista tenha um valor, colocamos o atributo `value=\"n\u00famero\"`."
      ]
    },
    {
      "cell_type": "code",
      "execution_count": null,
      "metadata": {
        "vscode": {
          "languageId": "plaintext"
        }
      },
      "outputs": [],
      "source": [
        "<ol>\n",
        "    <li value=\"2\"></li>\n",
        "</ol>"
      ]
    },
    {
      "cell_type": "markdown",
      "metadata": {},
      "source": [
        "#### Papel `role`"
      ]
    },
    {
      "cell_type": "markdown",
      "metadata": {},
      "source": [
        "Cada uma das tags que vimos anteriormente tem um papel, mas o papel de cada uma delas pode ser alterado com a tag `role=\"papel\"`."
      ]
    },
    {
      "cell_type": "code",
      "execution_count": null,
      "metadata": {
        "vscode": {
          "languageId": "plaintext"
        }
      },
      "outputs": [],
      "source": [
        "<!DOCTYPE html>\n",
        "<html lang=\"es\">\n",
        "    <head>\n",
        "        <meta charset=\"utf-8\"/>\n",
        "        <meta name=\"description\" content=\"Descripci\u00f3n para los buscadores\"/>\n",
        "        <meta name=\"robots\" content=\"index,folow\"/>\n",
        "        <title>T\u00edtulo pesta\u00f1a</title>\n",
        "        <meta name=\"viewport\" content=\"width=device-width\"/>\n",
        "        <meta name=\"theme-color\" content=\"#09f\"/>\n",
        "        <link rel=\"stulesheet\" href=\"path\"/>\n",
        "        <link rel=\"icon\" type=\"image/png\" href=\"path\"/>\n",
        "        <meta property=\"og:title\" content=\"T\u00edtulo para las redes sociales\"/>\n",
        "        <meta property=\"og:description\" content=\"Descripci\u00f3n para las redes sociales\"/>\n",
        "        <meta property=\"og:image\" content=\"path\"/>\n",
        "        <meta property=\"og:image:alt\" content=\"Texto alternativo para la imagen\"/>\n",
        "        <link rel=\"alternate\" href=\"path\" hreflang=\"en\"/>\n",
        "        <link rel=\"canonical\" href=\"path\"/>\n",
        "    </head>\n",
        "    <body>\n",
        "        <header>\n",
        "            <nav>\n",
        "                <a href=\"path\">Enlace</a>\n",
        "                <img src=\"path\" alt=\"Texto alternativo\"/>\n",
        "            </nav>\n",
        "        </header>\n",
        "        <main>\n",
        "            <section>\n",
        "                <article>\n",
        "                    <div>\n",
        "                        <ul>\n",
        "                            <li></li>\n",
        "                        </ul>\n",
        "                        <ol>\n",
        "                            <li></li>\n",
        "                        </ol>\n",
        "                    </div>\n",
        "                    <div role=\"list\">\n",
        "                        <div role=\"listitem\">\n",
        "                        </div>\n",
        "                    </div>\n",
        "                </article>\n",
        "            </section>\n",
        "        </main>\n",
        "        <footer>\n",
        "        </footer>\n",
        "    </body>\n",
        "</html>"
      ]
    },
    {
      "cell_type": "markdown",
      "metadata": {},
      "source": [
        "### Etiquetas de conte\u00fado"
      ]
    },
    {
      "cell_type": "markdown",
      "metadata": {},
      "source": [
        "Para criar um novo par\u00e1grafo utilizamos a tag `<p></p>`. Para dar \u00eanfase a algo dentro de um par\u00e1grafo podemos pensar em usar negrito (`<b></b>`), mas \u00e9 melhor usar a tag `<strong></strong>`, j\u00e1 que a tag `b` est\u00e1 **deprecada**."
      ]
    },
    {
      "cell_type": "markdown",
      "metadata": {},
      "source": [
        "Para criar um t\u00edtulo temos as tags `h1`, `h2`, `h3`, `h4`, `h5`, `h6`."
      ]
    },
    {
      "cell_type": "markdown",
      "metadata": {},
      "source": [
        "Para criar hiperlinks usa a tag `a`, o atributo `href` indica o endere\u00e7o do hyperlink. Se for colocado um cifr\u00e3o `#` a p\u00e1gina n\u00e3o ser\u00e1 recarregada."
      ]
    },
    {
      "cell_type": "markdown",
      "metadata": {},
      "source": [
        "### Etiquetas multim\u00e9dia"
      ]
    },
    {
      "cell_type": "markdown",
      "metadata": {},
      "source": [
        "As tags multim\u00eddia n\u00e3o t\u00eam tag de abertura e fechamento, por exemplo a tag `img` n\u00e3o \u00e9 escrita como `<img></img>` mas sim como `<img/>`. Isso ocorre porque ela \u00e9 substitu\u00edda por uma imagem. Portanto, em geral as tags substitu\u00edveis n\u00e3o t\u00eam tag de fechamento."
      ]
    },
    {
      "cell_type": "markdown",
      "metadata": {},
      "source": [
        "Existem dois tipos de imagens",
        "* Com perda: Essas imagens perdem qualidade, mas s\u00e3o mais leves. jpg, jpeg",
        "* Sem perda: Essas imagens n\u00e3o perdem a qualidade, mas s\u00e3o muito pesadas. GIF, PNG-8, PNG-24, SVG"
      ]
    },
    {
      "cell_type": "markdown",
      "metadata": {},
      "source": [
        "#### Otimiza\u00e7\u00e3o das imagens"
      ]
    },
    {
      "cell_type": "markdown",
      "metadata": {},
      "source": [
        "O tamanho m\u00e9dio deve ser de 70 KB",
        "\n",
        "* [Tiny PNG](https://tinypng.com/): reduz o tamanho da imagem",
        "* [Verexif](https://www.verexif.com/): Remove os metadados da imagem"
      ]
    },
    {
      "cell_type": "markdown",
      "metadata": {},
      "source": [
        "#### Etiqueta `img`"
      ]
    },
    {
      "cell_type": "markdown",
      "metadata": {},
      "source": [
        "P\u00e1gina para baixar imagens gratuitas na internet [pexels](https://www.pexels.com/es-es/)"
      ]
    },
    {
      "cell_type": "markdown",
      "metadata": {},
      "source": [
        "A tag `img` tem o atributo `src` onde \u00e9 indicada a fonte."
      ]
    },
    {
      "cell_type": "code",
      "execution_count": null,
      "metadata": {
        "vscode": {
          "languageId": "plaintext"
        }
      },
      "outputs": [],
      "source": [
        "<img src=\"path\"/>"
      ]
    },
    {
      "cell_type": "markdown",
      "metadata": {},
      "source": [
        "O atributo `alt` onde se indica o texto alternativo."
      ]
    },
    {
      "cell_type": "code",
      "execution_count": null,
      "metadata": {
        "vscode": {
          "languageId": "plaintext"
        }
      },
      "outputs": [],
      "source": [
        "<img src=\"path\" alt=\"Texto alternativo\"/>"
      ]
    },
    {
      "cell_type": "markdown",
      "metadata": {},
      "source": [
        "O atributo `title`, onde se indica o t\u00edtulo da imagem, serve para que quando passarmos o mouse sobre a imagem apare\u00e7a o t\u00edtulo. Tamb\u00e9m \u00e9 \u00fatil para o `SEO`, para que os mecanismos de busca saibam do que se trata a imagem."
      ]
    },
    {
      "cell_type": "code",
      "execution_count": null,
      "metadata": {
        "vscode": {
          "languageId": "plaintext"
        }
      },
      "outputs": [],
      "source": [
        "<img src=\"path\" alt=\"Texto alternativo\" title=\"T\u00edtulo\"/>"
      ]
    },
    {
      "cell_type": "markdown",
      "metadata": {},
      "source": [
        "Tamb\u00e9m podemos colocar o atributo `width` e `height` para indicar o tamanho da imagem, mas \u00e9 melhor n\u00e3o coloc\u00e1-los e deixar que o navegador fa\u00e7a o c\u00e1lculo."
      ]
    },
    {
      "cell_type": "code",
      "execution_count": null,
      "metadata": {
        "vscode": {
          "languageId": "plaintext"
        }
      },
      "outputs": [],
      "source": [
        "<img src=\"path\" alt=\"Texto alternativo\" title=\"T\u00edtulo\" width=\"100\" height=\"100\"/>"
      ]
    },
    {
      "cell_type": "markdown",
      "metadata": {},
      "source": [
        "Com o atributo `hidden` podemos ocultar a imagem. O que \u00e9 muito \u00fatil quando queremos que uma imagem apare\u00e7a ap\u00f3s o usu\u00e1rio realizar uma a\u00e7\u00e3o. Assim, com o JavaScript podemos remover o atributo `hidden` e a imagem aparecer\u00e1."
      ]
    },
    {
      "cell_type": "code",
      "execution_count": null,
      "metadata": {
        "vscode": {
          "languageId": "plaintext"
        }
      },
      "outputs": [],
      "source": [
        "<img src=\"path\" alt=\"Texto alternativo\" title=\"T\u00edtulo\" hidden/>"
      ]
    },
    {
      "cell_type": "markdown",
      "metadata": {},
      "source": [
        "Para que as p\u00e1ginas carreguem mais r\u00e1pido, pode-se colocar o atributo `loading=\"lazy\"`, que faz com que a imagem seja carregada quando o usu\u00e1rio se aproxima dela."
      ]
    },
    {
      "cell_type": "code",
      "execution_count": null,
      "metadata": {
        "vscode": {
          "languageId": "plaintext"
        }
      },
      "outputs": [],
      "source": [
        "<img src=\"path\" alt=\"Texto alternativo\" title=\"T\u00edtulo\" loading=\"lazy\"/>"
      ]
    },
    {
      "cell_type": "markdown",
      "metadata": {},
      "source": [
        "> **Importante!** N\u00e3o \u00e9 necess\u00e1rio colocar o atributo `loading=\"lazy\"` em imagens importantes para o SEO, como, por exemplo, o logo. Nem nas imagens que est\u00e3o no in\u00edcio da p\u00e1gina web, pois isso pode causar um piscar."
      ]
    },
    {
      "cell_type": "markdown",
      "metadata": {},
      "source": [
        "#### Etiqueta `figure`"
      ]
    },
    {
      "cell_type": "markdown",
      "metadata": {},
      "source": [
        "Esta tag nos permite criar um cont\u00eainer para a imagem, por exemplo, nos permite adicionar uma descri\u00e7\u00e3o. Para isso, \u00e9 necess\u00e1rio usar a tag `figcapture`."
      ]
    },
    {
      "cell_type": "code",
      "execution_count": null,
      "metadata": {
        "vscode": {
          "languageId": "plaintext"
        }
      },
      "outputs": [],
      "source": [
        "<figure>\n",
        "    <img src=\"path\" alt=\"Texto alternativo\" title=\"T\u00edtulo\"/>\n",
        "    <figcaption>Descripci\u00f3n</figcaption>\n",
        "</figure>"
      ]
    },
    {
      "cell_type": "markdown",
      "metadata": {},
      "source": [
        "#### Tag `video`"
      ]
    },
    {
      "cell_type": "markdown",
      "metadata": {},
      "source": [
        "Com esta tag \u00e9 poss\u00edvel adicionar v\u00eddeos, para isso usa-se o atributo `src`. Para que apare\u00e7am os bot\u00f5es de reprodu\u00e7\u00e3o, deve-se colocar o atributo `controls`. O \u00faltimo atributo \u00e9 `preload=\"auto\"`, isso \u00e9 para que o v\u00eddeo comece a ser baixado quando a p\u00e1gina come\u00e7a a carregar, assim quando o usu\u00e1rio for reproduzi-lo j\u00e1 ter\u00e1 muito conte\u00fado carregado e levar\u00e1 menos tempo para come\u00e7ar."
      ]
    },
    {
      "cell_type": "code",
      "execution_count": null,
      "metadata": {
        "vscode": {
          "languageId": "plaintext"
        }
      },
      "outputs": [],
      "source": [
        "<video src=\"path\" controls preload=\"auto\">\n",
        "</video>"
      ]
    },
    {
      "cell_type": "markdown",
      "metadata": {},
      "source": [
        "Se voc\u00ea quiser que comece a reproduzir em um minuto determinado, em `src` logo ap\u00f3s a fonte deve-se colocar `#t=xx,yy`"
      ]
    },
    {
      "cell_type": "code",
      "execution_count": null,
      "metadata": {
        "vscode": {
          "languageId": "plaintext"
        }
      },
      "outputs": [],
      "source": [
        "<video src=\"path#t=1,2\" controls>\n",
        "</video>"
      ]
    },
    {
      "cell_type": "markdown",
      "metadata": {},
      "source": [
        "Se o v\u00eddeo estiver em v\u00e1rios formatos, a fonte deve ser colocada dentro de uma tag chamada `source`, onde s\u00e3o indicadas as diferentes poss\u00edveis fontes do v\u00eddeo. O navegador decidir\u00e1 qual fonte usar. Isso se deve ao fato de que existem navegadores que reproduzem melhor certos v\u00eddeos do que outros."
      ]
    },
    {
      "cell_type": "code",
      "execution_count": null,
      "metadata": {
        "vscode": {
          "languageId": "plaintext"
        }
      },
      "outputs": [],
      "source": [
        "<video controls>\n",
        "    <source src=\"path\" type=\"video/mp4\"/>\n",
        "    <source src=\"path\" type=\"video/webm\"/>\n",
        "</video>"
      ]
    },
    {
      "cell_type": "markdown",
      "metadata": {},
      "source": [
        "Se n\u00e3o quisermos que haja controles de reprodu\u00e7\u00e3o e que o v\u00eddeo seja reproduzido automaticamente, colocamos o atributo `autoplay`."
      ]
    },
    {
      "cell_type": "code",
      "execution_count": null,
      "metadata": {
        "vscode": {
          "languageId": "plaintext"
        }
      },
      "outputs": [],
      "source": [
        "<video src=\"path\" autoplay>\n",
        "</video>"
      ]
    },
    {
      "cell_type": "markdown",
      "metadata": {},
      "source": [
        "Mas para n\u00e3o incomodar o usu\u00e1rio, podemos fazer com que seja reproduzido sem som, para isso adicionamos o atributo `muted`."
      ]
    },
    {
      "cell_type": "code",
      "execution_count": null,
      "metadata": {
        "vscode": {
          "languageId": "plaintext"
        }
      },
      "outputs": [],
      "source": [
        "<video src=\"path\" autoplay muted>\n",
        "</video>"
      ]
    },
    {
      "cell_type": "markdown",
      "metadata": {},
      "source": [
        "Se quisermos que o v\u00eddeo seja reproduzido em loop, colocamos o atributo `loop`."
      ]
    },
    {
      "cell_type": "code",
      "execution_count": null,
      "metadata": {
        "vscode": {
          "languageId": "plaintext"
        }
      },
      "outputs": [],
      "source": [
        "<video src=\"path\" autoplay muted loop>\n",
        "</video>"
      ]
    },
    {
      "cell_type": "markdown",
      "metadata": {},
      "source": [
        "Isso \u00e9 muito \u00fatil para colocar um v\u00eddeo de fundo em uma p\u00e1gina da web."
      ]
    },
    {
      "cell_type": "markdown",
      "metadata": {},
      "source": [
        "Para alterar a imagem do v\u00eddeo quando n\u00e3o est\u00e1 sendo reproduzido, use o atributo `poster=\"path\"`."
      ]
    },
    {
      "cell_type": "code",
      "execution_count": null,
      "metadata": {
        "vscode": {
          "languageId": "plaintext"
        }
      },
      "outputs": [],
      "source": [
        "<video src=\"path\" autoplay muted loop poster=\"path\">\n",
        "</video>"
      ]
    },
    {
      "cell_type": "markdown",
      "metadata": {},
      "source": [
        "#### Tag `audio`"
      ]
    },
    {
      "cell_type": "markdown",
      "metadata": {},
      "source": [
        "Para reproduzir \u00e1udio usa a tag `audio`, para isso utiliza o atributo `src`."
      ]
    },
    {
      "cell_type": "code",
      "execution_count": null,
      "metadata": {
        "vscode": {
          "languageId": "plaintext"
        }
      },
      "outputs": [],
      "source": [
        "<audio src=\"path\">\n",
        "</audio>"
      ]
    },
    {
      "cell_type": "markdown",
      "metadata": {},
      "source": [
        "Para que apare\u00e7am os controles de reprodu\u00e7\u00e3o, coloca-se o atributo `controls`."
      ]
    },
    {
      "cell_type": "code",
      "execution_count": null,
      "metadata": {
        "vscode": {
          "languageId": "plaintext"
        }
      },
      "outputs": [],
      "source": [
        "<audio src=\"path\" controls>\n",
        "</audio>"
      ]
    },
    {
      "cell_type": "markdown",
      "metadata": {},
      "source": [
        "Se quisermos que o \u00e1udio seja reproduzido automaticamente, colocamos o atributo `autoplay`."
      ]
    },
    {
      "cell_type": "code",
      "execution_count": null,
      "metadata": {
        "vscode": {
          "languageId": "plaintext"
        }
      },
      "outputs": [],
      "source": [
        "<audio src=\"path\" autoplay>\n",
        "</audio>"
      ]
    },
    {
      "cell_type": "markdown",
      "metadata": {},
      "source": [
        "Se quisermos que o \u00e1udio seja reproduzido em loop, colocamos o atributo `loop`."
      ]
    },
    {
      "cell_type": "code",
      "execution_count": null,
      "metadata": {
        "vscode": {
          "languageId": "plaintext"
        }
      },
      "outputs": [],
      "source": [
        "<audio src=\"path\" autoplay loop>\n",
        "</audio>"
      ]
    },
    {
      "cell_type": "markdown",
      "metadata": {},
      "source": [
        "Se quisermos que o \u00e1udio seja reproduzido em loop, colocamos o atributo `loop`."
      ]
    },
    {
      "cell_type": "code",
      "execution_count": null,
      "metadata": {
        "vscode": {
          "languageId": "plaintext"
        }
      },
      "outputs": [],
      "source": [
        "<audio src=\"path\" autoplay loop>\n",
        "</audio>"
      ]
    },
    {
      "cell_type": "markdown",
      "metadata": {},
      "source": [
        "#### Tag `iframe`"
      ]
    },
    {
      "cell_type": "markdown",
      "metadata": {},
      "source": [
        "Quando compartilhamos um v\u00eddeo do YouTube, temos a op\u00e7\u00e3o de copiar o c\u00f3digo. Isso gera um c\u00f3digo HTML que possui a tag `iframe`. Essa tag serve para incorporar conte\u00fado de outras p\u00e1ginas da web."
      ]
    },
    {
      "cell_type": "code",
      "execution_count": null,
      "metadata": {
        "vscode": {
          "languageId": "plaintext"
        }
      },
      "outputs": [],
      "source": [
        "<iframe src=\"path\">\n",
        "</iframe>"
      ]
    },
    {
      "cell_type": "markdown",
      "metadata": {},
      "source": [
        "Falamos sobre a p\u00e1gina do YouTube, mas poder\u00edamos incorporar qualquer p\u00e1gina. Embora existam algumas p\u00e1ginas que n\u00e3o permitem isso."
      ]
    },
    {
      "cell_type": "markdown",
      "metadata": {},
      "source": [
        "#### Etiqueta `dialog`"
      ]
    },
    {
      "cell_type": "markdown",
      "metadata": {},
      "source": [
        "Voc\u00ea deve ter visto que muita gente em seus portf\u00f3lios coloca seus projetos e quando voc\u00ea clica nele, um caixa de di\u00e1logo \u00e9 aberta com mais informa\u00e7\u00f5es, ou em galerias de imagens quando voc\u00ea clica em uma imagem, um caixa de di\u00e1logo \u00e9 aberta com a imagem maior. Isso \u00e9 feito com a tag `dialog`."
      ]
    },
    {
      "cell_type": "code",
      "execution_count": null,
      "metadata": {
        "vscode": {
          "languageId": "plaintext"
        }
      },
      "outputs": [],
      "source": [
        "<dialog>\n",
        "</dialog>"
      ]
    },
    {
      "cell_type": "markdown",
      "metadata": {},
      "source": [
        "Dentro voc\u00ea pode colocar o que quiser, por exemplo um t\u00edtulo, um texto, uma imagem, etc."
      ]
    },
    {
      "cell_type": "code",
      "execution_count": null,
      "metadata": {
        "vscode": {
          "languageId": "plaintext"
        }
      },
      "outputs": [],
      "source": [
        "<dialog id=\"id\">\n",
        "    <h1>T\u00edtulo</h1>\n",
        "    <p>Texto</p>\n",
        "    <img src=\"path\" alt=\"Texto alternativo\"/>\n",
        "</dialog>"
      ]
    },
    {
      "cell_type": "markdown",
      "metadata": {},
      "source": [
        "Para que se abra o di\u00e1logo, pode-se colocar um bot\u00e3o dentro de um script."
      ]
    },
    {
      "cell_type": "code",
      "execution_count": null,
      "metadata": {
        "vscode": {
          "languageId": "plaintext"
        }
      },
      "outputs": [],
      "source": [
        "<dialog id=\"dialog\">\n",
        "    <h1>T\u00edtulo</h1>\n",
        "    <p>Texto</p>\n",
        "    <img src=\"path\" alt=\"Texto alternativo\"/>\n",
        "</dialog>\n",
        "\n",
        "<button id=\"open\">\n",
        "    Abrir\n",
        "</button>\n",
        "\n",
        "<script>\n",
        "    window.open.addEventListener(\"click\", () => {\n",
        "        window.dialog.showModal();\n",
        "    });\n",
        "</script>"
      ]
    },
    {
      "cell_type": "markdown",
      "metadata": {},
      "source": [
        "### Formul\u00e1rios"
      ]
    },
    {
      "cell_type": "markdown",
      "metadata": {},
      "source": [
        "Para criar um formul\u00e1rio, fazemos isso com a tag `form`, dentro desta tag colocamos os campos do formul\u00e1rio. O atributo `action` indica para onde o formul\u00e1rio ser\u00e1 enviado. O atributo `method` indica o m\u00e9todo de envio, podendo ser `get` ou `post`. O atributo `name` indica o nome do formul\u00e1rio, isso \u00e9 \u00fatil para o `JavaScript`."
      ]
    },
    {
      "cell_type": "code",
      "execution_count": null,
      "metadata": {
        "vscode": {
          "languageId": "plaintext"
        }
      },
      "outputs": [],
      "source": [
        "<form action=\"path\" method=\"post\" name=\"name\">\n",
        "</form>"
      ]
    },
    {
      "cell_type": "markdown",
      "metadata": {},
      "source": [
        "#### Agrupamento de elementos"
      ]
    },
    {
      "cell_type": "markdown",
      "metadata": {},
      "source": [
        "Com a etiqueta `fieldset` pode-se agrupar elementos de um formul\u00e1rio. Dentro desta etiqueta colocam-se os elementos do formul\u00e1rio. O atributo `legend` indica o t\u00edtulo do grupo de elementos."
      ]
    },
    {
      "cell_type": "code",
      "execution_count": null,
      "metadata": {
        "vscode": {
          "languageId": "plaintext"
        }
      },
      "outputs": [],
      "source": [
        "<form action=\"path\" method=\"post\" name=\"name\">\n",
        "    <fieldset>\n",
        "        <legend>T\u00edtulo</legend>\n",
        "    </fieldset>\n",
        "</form>"
      ]
    },
    {
      "cell_type": "markdown",
      "metadata": {},
      "source": [
        "#### R\u00f3tulo"
      ]
    },
    {
      "cell_type": "markdown",
      "metadata": {},
      "source": [
        "Com a etiqueta `label` cria uma legenda para um elemento do formul\u00e1rio. O atributo `for` indica o id do elemento do formul\u00e1rio ao qual se refere.",
        "\n",
        "A seguir-se coloca o elemento do formul\u00e1rio, por exemplo `input`.",
        "\n",
        "\u00c9 necess\u00e1rio especificar o `type`, que pode ser do tipo `text`, `email`, `password`, `number`, `date`, `time`, `color`, `range`, `file`, `checkbox`, `radio`, `submit`, `reset`, `button`, `hidden`.",
        "\n",
        "Se o `input` deve ser introduzido obrigatoriamente, pode-se adicionar o atributo `required`.",
        "\n",
        "Se o usu\u00e1rio j\u00e1 havia inserido um valor no `input`, por meio do atributo `autocomplete` pode-se indicar que ele seja preenchido automaticamente.",
        "\n",
        "Com o atributo `pattern` pode-se especificar uma express\u00e3o regular para validar o `input`. Por exemplo, para validar se o e-mail ou telefone est\u00e3o corretos."
      ]
    },
    {
      "cell_type": "code",
      "execution_count": null,
      "metadata": {
        "vscode": {
          "languageId": "plaintext"
        }
      },
      "outputs": [],
      "source": [
        "<form action=\"path\" method=\"post\" name=\"name\">\n",
        "    <fieldset>\n",
        "        <legend>T\u00edtulo</legend>\n",
        "\n",
        "        <label for=\"id\">Nombre:</label>\n",
        "        <input type=\"text\" id=\"id\" name=\"name\" placeholder=\"Nombre\" required autocomplete=\"on\"/>\n",
        "        \n",
        "    </fieldset>\n",
        "</form>"
      ]
    },
    {
      "cell_type": "markdown",
      "metadata": {},
      "source": [
        "Outra maneira de especificar o `input` de uma `label` \u00e9 colocar o `input` dentro da `label`. Agora n\u00e3o \u00e9 necess\u00e1rio o atributo `for` porque se entende que a `label` se refere ao `input` que est\u00e1 dentro."
      ]
    },
    {
      "cell_type": "code",
      "execution_count": null,
      "metadata": {
        "vscode": {
          "languageId": "plaintext"
        }
      },
      "outputs": [],
      "source": [
        "<form action=\"path\" method=\"post\" name=\"name\">\n",
        "    <fieldset>\n",
        "        <legend>T\u00edtulo</legend>\n",
        "\n",
        "        <label>Nombre:\n",
        "            <input type=\"text\" id=\"id\" name=\"name\" placeholder=\"Nombre\" required/>\n",
        "        </label>\n",
        "        \n",
        "    </fieldset>\n",
        "</form>"
      ]
    },
    {
      "cell_type": "markdown",
      "metadata": {},
      "source": [
        "#### Selecionar"
      ]
    },
    {
      "cell_type": "markdown",
      "metadata": {},
      "source": [
        "Com a etiqueta `select` cria uma lista suspensa. Dentro desta etiqueta, colocam-se as op\u00e7\u00f5es da lista suspensa com a etiqueta `option`. O atributo `value` indica o valor da op\u00e7\u00e3o. O atributo `selected` indica a op\u00e7\u00e3o que est\u00e1 selecionada por padr\u00e3o."
      ]
    },
    {
      "cell_type": "code",
      "execution_count": null,
      "metadata": {
        "vscode": {
          "languageId": "plaintext"
        }
      },
      "outputs": [],
      "source": [
        "<form action=\"path\" method=\"post\" name=\"name\">\n",
        "    <fieldset>\n",
        "        <legend>T\u00edtulo</legend>\n",
        "\n",
        "        <label>Nombre:\n",
        "            <input type=\"text\" id=\"id\" name=\"name\" placeholder=\"Nombre\" required/>\n",
        "        </label>\n",
        "\n",
        "        <label>Pa\u00eds:\n",
        "            <select name=\"country\">\n",
        "                <option value=\"es\">Espa\u00f1a</option>\n",
        "                <option value=\"fr\">Francia</option>\n",
        "                <option value=\"it\" selected>Italia</option>\n",
        "            </select>\n",
        "        </label>\n",
        "        \n",
        "    </fieldset>\n",
        "</form>"
      ]
    },
    {
      "cell_type": "markdown",
      "metadata": {},
      "source": [
        "Em caso de ter muitas op\u00e7\u00f5es, pode-se usar a tag `datalist` para criar uma lista de op\u00e7\u00f5es. Dessa forma, quando o usu\u00e1rio come\u00e7a a digitar uma das op\u00e7\u00f5es da lista, s\u00e3o exibidas as op\u00e7\u00f5es que correspondem ao que foi digitado. Dentro dessa tag, as op\u00e7\u00f5es s\u00e3o colocadas com a tag `option`. O atributo `value` indica o valor da op\u00e7\u00e3o."
      ]
    },
    {
      "cell_type": "code",
      "execution_count": null,
      "metadata": {
        "vscode": {
          "languageId": "plaintext"
        }
      },
      "outputs": [],
      "source": [
        "<form action=\"path\" method=\"post\" name=\"name\">\n",
        "    <fieldset>\n",
        "        <legend>T\u00edtulo</legend>\n",
        "\n",
        "        <label>Nombre:\n",
        "            <input type=\"text\" id=\"id\" name=\"name\" placeholder=\"Nombre\" required/>\n",
        "        </label>\n",
        "\n",
        "        <label>Pa\u00eds:\n",
        "            <input type=\"text\" list=\"countries\" name=\"country\"/>\n",
        "            <datalist id=\"countries\">\n",
        "                <option value=\"es\">Espa\u00f1a</option>\n",
        "                <option value=\"fr\">Francia</option>\n",
        "                <option value=\"it\">Italia</option>\n",
        "            </datalist>\n",
        "        </label>\n",
        "        \n",
        "    </fieldset>\n",
        "</form>"
      ]
    },
    {
      "cell_type": "markdown",
      "metadata": {},
      "source": [
        "#### Enviar"
      ]
    },
    {
      "cell_type": "markdown",
      "metadata": {},
      "source": [
        "Para enviar o formul\u00e1rio, usa-se a tag `input` com o atributo `type=\"submit\"`."
      ]
    },
    {
      "cell_type": "code",
      "execution_count": null,
      "metadata": {
        "vscode": {
          "languageId": "plaintext"
        }
      },
      "outputs": [],
      "source": [
        "<form action=\"path\" method=\"post\" name=\"name\">\n",
        "    <fieldset>\n",
        "        <legend>T\u00edtulo</legend>\n",
        "\n",
        "        <label>Nombre:\n",
        "            <input type=\"text\" id=\"id\" name=\"name\" placeholder=\"Nombre\" required/>\n",
        "        </label>\n",
        "        \n",
        "        <input type=\"submit\" value=\"Enviar\"/>\n",
        "    </fieldset>\n",
        "</form>"
      ]
    },
    {
      "cell_type": "markdown",
      "metadata": {},
      "source": [
        "### Detalhes"
      ]
    },
    {
      "cell_type": "markdown",
      "metadata": {},
      "source": [
        "Se quiser fazer se\u00e7\u00f5es de texto que normalmente estejam contra\u00eddas, como por exemplo uma se\u00e7\u00e3o de perguntas frequentes, podemos usar a tag `details`. Dentro desta tag colocamos a tag `summary`, que \u00e9 o t\u00edtulo da se\u00e7\u00e3o. E dentro da tag `details` colocamos o texto da se\u00e7\u00e3o."
      ]
    },
    {
      "cell_type": "code",
      "execution_count": null,
      "metadata": {
        "vscode": {
          "languageId": "plaintext"
        }
      },
      "outputs": [],
      "source": [
        "<details>\n",
        "    <summary>T\u00edtulo</summary>\n",
        "    <p>Texto</p>\n",
        "</details>"
      ]
    },
    {
      "cell_type": "markdown",
      "metadata": {},
      "source": [
        "Se quisermos que algum apare\u00e7a por padr\u00e3o, colocamos o atributo `open`."
      ]
    },
    {
      "cell_type": "code",
      "execution_count": null,
      "metadata": {
        "vscode": {
          "languageId": "plaintext"
        }
      },
      "outputs": [],
      "source": [
        "<details open>\n",
        "    <summary>T\u00edtulo</summary>\n",
        "    <p>Texto</p>\n",
        "</details>"
      ]
    }
  ],
  "metadata": {
    "kernelspec": {
      "display_name": "Python 3.8.10 64-bit",
      "language": "python",
      "name": "python3"
    },
    "language_info": {
      "name": "python",
      "version": "3.8.10"
    },
    "maximofn": {
      "date": "2023-12-05",
      "description_en": "Learn HTML, the markup language used to create web pages. Learn how to structure the content of a web page and format it with HTML.",
      "description_es": "Conoce HTML, el lenguaje de marcado que se utiliza para crear p\u00e1ginas web. Aprende a estructurar el contenido de una p\u00e1gina web y a darle formato con HTML.",
      "description_pt": "Aprenda HTML, a linguagem de marca\u00e7\u00e3o usada para criar p\u00e1ginas da web. Aprenda a estruturar o conte\u00fado de uma p\u00e1gina da web e a format\u00e1-lo com HTML.",
      "end_url": "html",
      "image": "https://images.maximofn.com/html5.webp",
      "image_hover_path": "https://images.maximofn.com/html5.webp",
      "keywords_en": "html, introduction, tutorial, basic, beginners",
      "keywords_es": "html, introducci\u00f3n, tutorial, b\u00e1sico, principiantes",
      "keywords_pt": "html, introdu\u00e7\u00e3o, tutorial, b\u00e1sico, iniciantes",
      "title_en": "HTML",
      "title_es": "HTML",
      "title_pt": "HTML"
    },
    "orig_nbformat": 4,
    "vscode": {
      "interpreter": {
        "hash": "916dbcbb3f70747c44a77c7bcd40155683ae19c65e1c03b4aa3499c5328201f1"
      }
    }
  },
  "nbformat": 4,
  "nbformat_minor": 2
}