{
  "cells": [
  {
      "cell_type": "markdown",
      "metadata": {},
      "source": [
      "# Tokens"
      ]
    },
{
      "cell_type": "markdown",
      "metadata": {},
      "source": [
      "Now that `LLLM`s are on the rise, we keep hearing about the number of `tokens`s supported by each model, but what are `tokens`s? They are the minimum units of representation of words."
      ]
    },
{
      "cell_type": "markdown",
      "metadata": {},
      "source": [
      "This notebook has been automatically translated to make it accessible to more people, please let me know if you see any typos.\n",
"\n",
"To explain what `tokens`s are, let`s first see it with a practical example, let`s use the `OpenAI` tokenizer, called [tiktoken](https://github.com/openai/tiktoken).\n",
"\n",
"So, first we install the package:\n",
"\n",
"````bash\n",
"pip install tiktoken\n",
"```"
      ]
    },
{
      "cell_type": "markdown",
      "metadata": {},
      "source": [
      "Once installed we create a tokenizer using the `cl100k_base` model, which in the example notebook [How to count tokens with tiktoken](https://github.com/openai/openai-cookbook/blob/main/examples/How_to_count_tokens_with_tiktoken.ipynb) explains that it is the one used by the `gpt-4`, `gpt-3.5-turbo` and `text-embedding-ada-002` models."
      ]
    },
{
      "cell_type": "code",
      "execution_count": 1,
      "metadata": {},
      "outputs": [],
      "source": [
      "import tiktoken\n",
"\n",
"encoder = tiktoken.get_encoding(\"cl100k_base\")"
      ]
    },
{
      "cell_type": "markdown",
      "metadata": {},
      "source": [
      "Now we create a sample word tara tokenize it"
      ]
    },
{
      "cell_type": "code",
      "execution_count": 14,
      "metadata": {},
      "outputs": [],
      "source": [
      "example_word = \"breakdown\""
      ]
    },
{
      "cell_type": "markdown",
      "metadata": {},
      "source": [
      "And we tokenize it"
      ]
    },
{
      "cell_type": "code",
      "execution_count": 15,
      "metadata": {},
      "outputs": [
      {
          "data": {
            "text/plain": [
            "[9137, 2996]"
            ]
          },
          "execution_count": 15,
          "metadata": {},
          "output_type": "execute_result"
        }
      ],
      "source": [
      "tokens = encoder.encode(example_word)\n",
"tokens"
      ]
    },
{
      "cell_type": "markdown",
      "metadata": {},
      "source": [
      "The word has been divided into 2 `token`s, the `9137` and the `2996`. Let`s see which words they correspond to"
      ]
    },
{
      "cell_type": "code",
      "execution_count": 21,
      "metadata": {},
      "outputs": [
      {
          "data": {
            "text/plain": [
            "('break', 'down')"
            ]
          },
          "execution_count": 21,
          "metadata": {},
          "output_type": "execute_result"
        }
      ],
      "source": [
      "word1 = encoder.decode([tokens[0]])\n",
"word2 = encoder.decode([tokens[1]])\n",
"word1, word2"
      ]
    },
{
      "cell_type": "markdown",
      "metadata": {},
      "source": [
      "The `OpenAI` tokenizer has split the word `breakdown` into the words `break` and `down`. That is, it has split the word into 2 simpler words.\n",
"\n",
"This is important, because when it is said that a `LLM` supports x `token`s it does not mean that it supports x words, but that it supports x minimum units of word representation."
      ]
    },
{
      "cell_type": "markdown",
      "metadata": {},
      "source": [
      "If you have a text and want to see the number of `token`s it has for the `OpenAI` tokenizer, you can see it on the [Tokenizer](https://platform.openai.com/tokenizer) page, which shows each `token` in a different color.\n",
"\n",
"![tokenizer](https://pub-fb664c455eca46a2ba762a065ac900f7.r2.dev/tokenizer.webp)"
      ]
    },
{
      "cell_type": "markdown",
      "metadata": {},
      "source": [
      "We have seen the `OpenAI` tokenizer, but each `LLM` will be able to use another one."
      ]
    },
{
      "cell_type": "markdown",
      "metadata": {},
      "source": [
      "As we have said, `tokens`s are the minimum units of representation of words, so let`s see how many different tokens `tiktoken` has."
      ]
    },
{
      "cell_type": "code",
      "execution_count": 28,
      "metadata": {},
      "outputs": [
      {
          "name": "stdout",
          "output_type": "stream",
          "text": [
          "Vocab size: 100277\n"
          ]
        }
      ],
      "source": [
      "n_vocab = encoder.n_vocab\n",
"print(f\"Vocab size: {n_vocab}\")"
      ]
    },
{
      "cell_type": "markdown",
      "metadata": {},
      "source": [
      "Let's see how tokenize other types of words"
      ]
    },
{
      "cell_type": "code",
      "execution_count": 37,
      "metadata": {},
      "outputs": [],
      "source": [
      "def encode_decode(word):\n",
"    tokens = encoder.encode(word)\n",
"    decode_tokens = []\n",
"    for token in tokens:\n",
"        decode_tokens.append(encoder.decode([token]))\n",
"    return tokens, decode_tokens"
      ]
    },
{
      "cell_type": "code",
      "execution_count": 52,
      "metadata": {},
      "outputs": [
      {
          "name": "stdout",
          "output_type": "stream",
          "text": [
          "Word: dog ==> tokens: [18964], decode_tokens: ['dog']\n",
"Word: tomorrow... ==> tokens: [38501, 7924, 1131], decode_tokens: ['tom', 'orrow', '...']\n",
"Word: artificial intelligence ==> tokens: [472, 16895, 11478], decode_tokens: ['art', 'ificial', ' intelligence']\n",
"Word: Python ==> tokens: [31380], decode_tokens: ['Python']\n",
"Word: 12/25/2023 ==> tokens: [717, 14, 914, 14, 2366, 18], decode_tokens: ['12', '/', '25', '/', '202', '3']\n",
"Word: 😊 ==> tokens: [76460, 232], decode_tokens: ['�', '�']\n"
          ]
        }
      ],
      "source": [
      "word = \"dog\"\n",
"tokens, decode_tokens = encode_decode(word)\n",
"print(f\"Word: {word} ==> tokens: {tokens}, decode_tokens: {decode_tokens}\")\n",
"\n",
"word = \"tomorrow...\"\n",
"tokens, decode_tokens = encode_decode(word)\n",
"print(f\"Word: {word} ==> tokens: {tokens}, decode_tokens: {decode_tokens}\")\n",
"\n",
"word = \"artificial intelligence\"\n",
"tokens, decode_tokens = encode_decode(word)\n",
"print(f\"Word: {word} ==> tokens: {tokens}, decode_tokens: {decode_tokens}\")\n",
"\n",
"word = \"Python\"\n",
"tokens, decode_tokens = encode_decode(word)\n",
"print(f\"Word: {word} ==> tokens: {tokens}, decode_tokens: {decode_tokens}\")\n",
"\n",
"word = \"12/25/2023\"\n",
"tokens, decode_tokens = encode_decode(word)\n",
"print(f\"Word: {word} ==> tokens: {tokens}, decode_tokens: {decode_tokens}\")\n",
"\n",
"word = \"😊\"\n",
"tokens, decode_tokens = encode_decode(word)\n",
"print(f\"Word: {word} ==> tokens: {tokens}, decode_tokens: {decode_tokens}\")"
      ]
    },
{
      "cell_type": "markdown",
      "metadata": {},
      "source": [
      "Finally, let's look at it with words in another language"
      ]
    },
{
      "cell_type": "code",
      "execution_count": 54,
      "metadata": {},
      "outputs": [
      {
          "name": "stdout",
          "output_type": "stream",
          "text": [
          "Word: perro ==> tokens: [716, 299], decode_tokens: ['per', 'ro']\n",
"Word: perra ==> tokens: [79, 14210], decode_tokens: ['p', 'erra']\n",
"Word: mañana... ==> tokens: [1764, 88184, 1131], decode_tokens: ['ma', 'ñana', '...']\n",
"Word: inteligencia artificial ==> tokens: [396, 39567, 8968, 21075], decode_tokens: ['int', 'elig', 'encia', ' artificial']\n",
"Word: Python ==> tokens: [31380], decode_tokens: ['Python']\n",
"Word: 12/25/2023 ==> tokens: [717, 14, 914, 14, 2366, 18], decode_tokens: ['12', '/', '25', '/', '202', '3']\n",
"Word: 😊 ==> tokens: [76460, 232], decode_tokens: ['�', '�']\n"
          ]
        }
      ],
      "source": [
      "word = \"perro\"\n",
"tokens, decode_tokens = encode_decode(word)\n",
"print(f\"Word: {word} ==> tokens: {tokens}, decode_tokens: {decode_tokens}\")\n",
"\n",
"word = \"perra\"\n",
"tokens, decode_tokens = encode_decode(word)\n",
"print(f\"Word: {word} ==> tokens: {tokens}, decode_tokens: {decode_tokens}\")\n",
"\n",
"word = \"mañana...\"\n",
"tokens, decode_tokens = encode_decode(word)\n",
"print(f\"Word: {word} ==> tokens: {tokens}, decode_tokens: {decode_tokens}\")\n",
"\n",
"word = \"inteligencia artificial\"\n",
"tokens, decode_tokens = encode_decode(word)\n",
"print(f\"Word: {word} ==> tokens: {tokens}, decode_tokens: {decode_tokens}\")\n",
"\n",
"word = \"Python\"\n",
"tokens, decode_tokens = encode_decode(word)\n",
"print(f\"Word: {word} ==> tokens: {tokens}, decode_tokens: {decode_tokens}\")\n",
"\n",
"word = \"12/25/2023\"\n",
"tokens, decode_tokens = encode_decode(word)\n",
"print(f\"Word: {word} ==> tokens: {tokens}, decode_tokens: {decode_tokens}\")\n",
"\n",
"word = \"😊\"\n",
"tokens, decode_tokens = encode_decode(word)\n",
"print(f\"Word: {word} ==> tokens: {tokens}, decode_tokens: {decode_tokens}\")"
      ]
    },
{
      "cell_type": "markdown",
      "metadata": {},
      "source": [
      "We can see that for similar words, more tokens are generated in Spanish than in English, so that for the same text, with a similar number of words, the number of tokens will be higher in Spanish than in English."
      ]
    }
  ],
  "metadata": {
    "kernelspec": {
      "display_name": "openai",
      "language": "python",
      "name": "python3"
    },
    "language_info": {
      "codemirror_mode": {
        "name": "ipython",
        "version": 3
      },
      "file_extension": ".py",
      "mimetype": "text/x-python",
      "name": "python",
      "nbconvert_exporter": "python",
      "pygments_lexer": "ipython3",
      "version": "3.11.5"
    }
  },
  "nbformat": 4,
  "nbformat_minor": 2
}
