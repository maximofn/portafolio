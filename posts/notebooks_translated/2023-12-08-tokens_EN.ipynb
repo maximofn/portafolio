{
  "cells": [
    {
      "cell_type": "markdown",
      "metadata": {},
      "source": [
        "# Tokens"
      ]
    },
    {
      "cell_type": "markdown",
      "metadata": {},
      "source": [
        " > Disclaimer: This post has been translated to English using a machine translation model. Please, let me know if you find any mistakes."
      ]
    },
    {
      "cell_type": "markdown",
      "metadata": {},
      "source": [
        "Now that `LLM`s are on the rise, we keep hearing about the number of `token`s each model supports, but what are `token`s? They are the smallest units of representation of words."
      ]
    },
    {
      "cell_type": "markdown",
      "metadata": {},
      "source": [
        "To explain what `tokens` are, let's first look at a practical example using the `OpenAI` tokenizer, called [tiktoken](https://github.com/openai/tiktoken).",
        "\n",
        "So, first we install the package:",
        "\n",
        "```bash\n",
        "pip install tiktoken",
        "```"
      ]
    },
    {
      "cell_type": "markdown",
      "metadata": {},
      "source": [
        "Once installed, we create a tokenizer using the `cl100k_base` model, which in the example notebook [How to count tokens with tiktoken](https://github.com/openai/openai-cookbook/blob/main/examples/How_to_count_tokens_with_tiktoken.ipynb) explains is used by the models `gpt-4`, `gpt-3.5-turbo` and `text-embedding-ada-002`"
      ]
    },
    {
      "cell_type": "code",
      "execution_count": 1,
      "metadata": {},
      "outputs": [],
      "source": [
        "import tiktoken\n",
        "\n",
        "encoder = tiktoken.get_encoding(\"cl100k_base\")"
      ]
    },
    {
      "cell_type": "markdown",
      "metadata": {},
      "source": [
        "Now we create an example word to tokenize it"
      ]
    },
    {
      "cell_type": "code",
      "execution_count": 14,
      "metadata": {},
      "outputs": [],
      "source": [
        "example_word = \"breakdown\""
      ]
    },
    {
      "cell_type": "markdown",
      "metadata": {},
      "source": [
        "And we tokenize it"
      ]
    },
    {
      "cell_type": "code",
      "execution_count": 15,
      "metadata": {},
      "outputs": [
        {
          "data": {
            "text/plain": [
              "[9137, 2996]"
            ]
          },
          "execution_count": 15,
          "metadata": {},
          "output_type": "execute_result"
        }
      ],
      "source": [
        "tokens = encoder.encode(example_word)\n",
        "tokens"
      ]
    },
    {
      "cell_type": "markdown",
      "metadata": {},
      "source": [
        "The word has been split into 2 `token`s, the `9137` and the `2996`. Let's see which words they correspond to."
      ]
    },
    {
      "cell_type": "code",
      "execution_count": 21,
      "metadata": {},
      "outputs": [
        {
          "data": {
            "text/plain": [
              "('break', 'down')"
            ]
          },
          "execution_count": 21,
          "metadata": {},
          "output_type": "execute_result"
        }
      ],
      "source": [
        "word1 = encoder.decode([tokens[0]])\n",
        "word2 = encoder.decode([tokens[1]])\n",
        "word1, word2"
      ]
    },
    {
      "cell_type": "markdown",
      "metadata": {},
      "source": [
        "The `OpenAI` tokenizer has split the word `breakdown` into the words `break` and `down`. That is, it has divided the word into 2 simpler ones.",
        "\n",
        "This is important, as when it is said that an `LLM` supports x `tokens`, it does not mean that it supports x words, but rather that it supports x minimal units of word representation."
      ]
    },
    {
      "cell_type": "markdown",
      "metadata": {},
      "source": [
        "If you have a text and want to see the number of `token`s it has for the `OpenAI` tokenizer, you can check it on the [Tokenizer](https://platform.openai.com/tokenizer) page, which displays each `token` in a different color.",
        "\n",
        "![tokenizer](https://pub-fb664c455eca46a2ba762a065ac900f7.r2.dev/tokenizer.webp)"
      ]
    },
    {
      "cell_type": "markdown",
      "metadata": {},
      "source": [
        "We have seen the tokenizer of `OpenAI`, but each `LLM` may use a different one."
      ]
    },
    {
      "cell_type": "markdown",
      "metadata": {},
      "source": [
        "As we have said, the `token`s are the minimal units of representation of words, so let's see how many distinct tokens `tiktoken` has."
      ]
    },
    {
      "cell_type": "code",
      "execution_count": 28,
      "metadata": {},
      "outputs": [
        {
          "name": "stdout",
          "output_type": "stream",
          "text": [
            "Vocab size: 100277\n"
          ]
        }
      ],
      "source": [
        "n_vocab = encoder.n_vocab\n",
        "print(f\"Vocab size: {n_vocab}\")"
      ]
    },
    {
      "cell_type": "markdown",
      "metadata": {},
      "source": [
        "Let's see how it tokenizes another type of words"
      ]
    },
    {
      "cell_type": "code",
      "execution_count": 37,
      "metadata": {},
      "outputs": [],
      "source": [
        "def encode_decode(word):\n",
        "    tokens = encoder.encode(word)\n",
        "    decode_tokens = []\n",
        "    for token in tokens:\n",
        "        decode_tokens.append(encoder.decode([token]))\n",
        "    return tokens, decode_tokens"
      ]
    },
    {
      "cell_type": "code",
      "execution_count": 52,
      "metadata": {},
      "outputs": [
        {
          "name": "stdout",
          "output_type": "stream",
          "text": [
            "Word: dog ==> tokens: [18964], decode_tokens: ['dog']\n",
            "Word: tomorrow... ==> tokens: [38501, 7924, 1131], decode_tokens: ['tom', 'orrow', '...']\n",
            "Word: artificial intelligence ==> tokens: [472, 16895, 11478], decode_tokens: ['art', 'ificial', ' intelligence']\n",
            "Word: Python ==> tokens: [31380], decode_tokens: ['Python']\n",
            "Word: 12/25/2023 ==> tokens: [717, 14, 914, 14, 2366, 18], decode_tokens: ['12', '/', '25', '/', '202', '3']\n",
            "Word: \ud83d\ude0a ==> tokens: [76460, 232], decode_tokens: ['\ufffd', '\ufffd']\n"
          ]
        }
      ],
      "source": [
        "word = \"dog\"\n",
        "tokens, decode_tokens = encode_decode(word)\n",
        "print(f\"Word: {word} ==> tokens: {tokens}, decode_tokens: {decode_tokens}\")\n",
        "\n",
        "word = \"tomorrow...\"\n",
        "tokens, decode_tokens = encode_decode(word)\n",
        "print(f\"Word: {word} ==> tokens: {tokens}, decode_tokens: {decode_tokens}\")\n",
        "\n",
        "word = \"artificial intelligence\"\n",
        "tokens, decode_tokens = encode_decode(word)\n",
        "print(f\"Word: {word} ==> tokens: {tokens}, decode_tokens: {decode_tokens}\")\n",
        "\n",
        "word = \"Python\"\n",
        "tokens, decode_tokens = encode_decode(word)\n",
        "print(f\"Word: {word} ==> tokens: {tokens}, decode_tokens: {decode_tokens}\")\n",
        "\n",
        "word = \"12/25/2023\"\n",
        "tokens, decode_tokens = encode_decode(word)\n",
        "print(f\"Word: {word} ==> tokens: {tokens}, decode_tokens: {decode_tokens}\")\n",
        "\n",
        "word = \"\ud83d\ude0a\"\n",
        "tokens, decode_tokens = encode_decode(word)\n",
        "print(f\"Word: {word} ==> tokens: {tokens}, decode_tokens: {decode_tokens}\")"
      ]
    },
    {
      "cell_type": "markdown",
      "metadata": {},
      "source": [
        "Finally, we will see it with words in another language"
      ]
    },
    {
      "cell_type": "code",
      "execution_count": 54,
      "metadata": {},
      "outputs": [
        {
          "name": "stdout",
          "output_type": "stream",
          "text": [
            "Word: perro ==> tokens: [716, 299], decode_tokens: ['per', 'ro']\n",
            "Word: perra ==> tokens: [79, 14210], decode_tokens: ['p', 'erra']\n",
            "Word: ma\u00f1ana... ==> tokens: [1764, 88184, 1131], decode_tokens: ['ma', '\u00f1ana', '...']\n",
            "Word: inteligencia artificial ==> tokens: [396, 39567, 8968, 21075], decode_tokens: ['int', 'elig', 'encia', ' artificial']\n",
            "Word: Python ==> tokens: [31380], decode_tokens: ['Python']\n",
            "Word: 12/25/2023 ==> tokens: [717, 14, 914, 14, 2366, 18], decode_tokens: ['12', '/', '25', '/', '202', '3']\n",
            "Word: \ud83d\ude0a ==> tokens: [76460, 232], decode_tokens: ['\ufffd', '\ufffd']\n"
          ]
        }
      ],
      "source": [
        "word = \"perro\"\n",
        "tokens, decode_tokens = encode_decode(word)\n",
        "print(f\"Word: {word} ==> tokens: {tokens}, decode_tokens: {decode_tokens}\")\n",
        "\n",
        "word = \"perra\"\n",
        "tokens, decode_tokens = encode_decode(word)\n",
        "print(f\"Word: {word} ==> tokens: {tokens}, decode_tokens: {decode_tokens}\")\n",
        "\n",
        "word = \"ma\u00f1ana...\"\n",
        "tokens, decode_tokens = encode_decode(word)\n",
        "print(f\"Word: {word} ==> tokens: {tokens}, decode_tokens: {decode_tokens}\")\n",
        "\n",
        "word = \"inteligencia artificial\"\n",
        "tokens, decode_tokens = encode_decode(word)\n",
        "print(f\"Word: {word} ==> tokens: {tokens}, decode_tokens: {decode_tokens}\")\n",
        "\n",
        "word = \"Python\"\n",
        "tokens, decode_tokens = encode_decode(word)\n",
        "print(f\"Word: {word} ==> tokens: {tokens}, decode_tokens: {decode_tokens}\")\n",
        "\n",
        "word = \"12/25/2023\"\n",
        "tokens, decode_tokens = encode_decode(word)\n",
        "print(f\"Word: {word} ==> tokens: {tokens}, decode_tokens: {decode_tokens}\")\n",
        "\n",
        "word = \"\ud83d\ude0a\"\n",
        "tokens, decode_tokens = encode_decode(word)\n",
        "print(f\"Word: {word} ==> tokens: {tokens}, decode_tokens: {decode_tokens}\")"
      ]
    },
    {
      "cell_type": "markdown",
      "metadata": {},
      "source": [
        "We can see that for similar words, Spanish generates more `token`s than English, so for the same text, with a similar number of words, the number of `token`s will be greater in Spanish than in English."
      ]
    }
  ],
  "metadata": {
    "kernelspec": {
      "display_name": "openai",
      "language": "python",
      "name": "python3"
    },
    "language_info": {
      "codemirror_mode": {
        "name": "ipython",
        "version": 3
      },
      "file_extension": ".py",
      "mimetype": "text/x-python",
      "name": "python",
      "nbconvert_exporter": "python",
      "pygments_lexer": "ipython3",
      "version": "3.10.9"
    },
    "maximofn": {
      "date": "2023-12-08",
      "description_en": "Discover what tokens are and how words are divided into minimum units of word representation",
      "description_es": "Descubre qu\u00e9 son los tokens y c\u00f3mo se dividen las palabras en unidades m\u00ednimas de representaci\u00f3n de las palabras",
      "description_pt": "Descubra o que s\u00e3o tokens e como as palavras s\u00e3o divididas em unidades m\u00ednimas de representa\u00e7\u00e3o das palavras",
      "end_url": "tokens",
      "image": "https://pub-fb664c455eca46a2ba762a065ac900f7.r2.dev/tokens.webp",
      "image_hover_path": "https://pub-fb664c455eca46a2ba762a065ac900f7.r2.dev/tokens.webp",
      "keywords_en": "tokens, token, openai, tiktoken, gpt-4, gpt-3.5-turbo, text-embedding-ada-002",
      "keywords_es": "tokens, token, openai, tiktoken, gpt-4, gpt-3.5-turbo, text-embedding-ada-002",
      "keywords_pt": "tokens, token, openai, tiktoken, gpt-4, gpt-3.5-turbo, text-embedding-ada-002",
      "title_en": "Tokens",
      "title_es": "Tokens",
      "title_pt": "Tokens"
    }
  },
  "nbformat": 4,
  "nbformat_minor": 2
}