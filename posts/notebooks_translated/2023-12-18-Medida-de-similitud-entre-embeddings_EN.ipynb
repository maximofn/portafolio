{
  "cells": [
  {
      "cell_type": "markdown",
      "metadata": {},
      "source": [
      "# Measure of similarity between embeddings"
      ]
    },
{
      "cell_type": "markdown",
      "metadata": {},
      "source": [
      "Now that we have seen what [embeddings](https://maximofn.com/embeddings) are, we know that we can measure the similarity between two words by measuring the similarity between their embeddings. In the [embeddings](https://maximofn.com/embeddings) post we saw the example of using the cosine similarity measure, but there are other similarity measures we can use, L2 square, scalar product similarity, cosine similarity, etc."
      ]
    },
{
      "cell_type": "markdown",
      "metadata": {},
      "source": [
      "This notebook has been automatically translated to make it accessible to more people, please let me know if you see any typos.\n",
"\n",
"In this post we are going to look at these three that we have named"
      ]
    },
{
      "cell_type": "markdown",
      "metadata": {},
      "source": [
      "## Similarity by square L2"
      ]
    },
{
      "cell_type": "markdown",
      "metadata": {},
      "source": [
      "This similarity is derived from the Euclidean distance, which is the straight line distance between two points in a multidimensional space, which is calculated with the Pythagorean theorem.\n",
"\n",
"![Euclidean distance](https://pub-fb664c455eca46a2ba762a065ac900f7.r2.dev/distancia_euclidiana.webp)\n",
"\n",
"The Euclidean distance between two points $p$ and $q$ is calculated as:\n",
"\n",
"$$\n",
"d(p,q) = \\sqrt{(p_1 - q_1)^2 + (p_2 - q_2)^2 + \\cdots + (p_n - q_n)^2} = \\sqrt{{sum_{i=1}^n (p_i - q_i)^2}\n",
"$$\n"
      ]
    },
{
      "cell_type": "markdown",
      "metadata": {},
      "source": [
      "The similarity times the square L2 is the square of the Euclidean distance, that is:\n",
"\n",
"$$\n",
"similarity(p,q) = d(p,q)^2 = \\sum_{i=1}^n (p_i - q_i)^2\n",
"$$"
      ]
    },
{
      "cell_type": "markdown",
      "metadata": {},
      "source": [
      "## Cosine similarity"
      ]
    },
{
      "cell_type": "markdown",
      "metadata": {},
      "source": [
      "If we remember what we learned about sines and cosines in school, we will remember that when two vectors have an angle of 0º between them, their cosine is 1, when the angle between them is 90º, their cosine is 0 and when the angle is 180º, their cosine is -1.\n",
"\n",
"![cosine similarity](https://pub-fb664c455eca46a2ba762a065ac900f7.r2.dev/dot-product.gif)\n",
"\n",
"![cosine similarity](https://pub-fb664c455eca46a2ba762a065ac900f7.r2.dev/dot-product-unity.gif)\n",
"\n",
"Therefore, we can use the cosine of the angle between two vectors to measure their similarity. It can be shown that the cosine of the angle between two vectors is equal to the scalar product of the two vectors divided by the product of their moduli. It is not the purpose of this post to demonstrate it, but if you want you can see the demonstration [here](https://www.wwwinsights.com/wp-content/uploads/2023/05/image-11-1024x694.png).\n",
"\n",
"$$\n",
"similarity(U,V) = \\frac{U \\V}{V}{V}.\n",
"$$"
      ]
    },
{
      "cell_type": "markdown",
      "metadata": {},
      "source": [
      "## Scalar product similarity"
      ]
    },
{
      "cell_type": "markdown",
      "metadata": {},
      "source": [
      "The scalar product similarity is the scalar product of two vectors.\n",
"\n",
"$$\n",
"similarity(U,V) = U \\cdot V\n",
"$$\n",
"\n",
"As we have written the cosine similarity formula, when the length of the vectors is 1, i.e., they are normalized, the cosine similarity is equal to the scalar product similarity."
      ]
    },
{
      "cell_type": "markdown",
      "metadata": {},
      "source": [
      "So, what is the similarity by the scalar product for? Well, to measure the similarity between two vectors that are not normalized, that is, that do not have length 1.\n",
"\n",
"For example, youtube, in order to create embeddings of its videos, makes the embeddings of the videos it classifies with higher quality longer than those of the videos it classifies with lower quality.\n",
"\n",
"This way, when a user does a search, the similarity by product scalar will give higher similarity to higher quality videos, so it will give the user the higher quality videos first."
      ]
    },
{
      "cell_type": "markdown",
      "metadata": {},
      "source": [
      "## Which similarity system to use"
      ]
    },
{
      "cell_type": "markdown",
      "metadata": {},
      "source": [
      "To choose the similarity system we are going to use, we must take into account the space in which we are working.\n",
"\n",
" * If we are working in a high dimensional space, with normalized embeddings, cosine similarity works best. For example OpenAI generates normalized embeddings, so cosine similarity works best.\n",
" * If we are working in a classification system, where the distance between two classes is important, the similarity by L2 square works best.\n",
" * If we are working in a recommender system, where the length of the vectors is important, the scalar product similarity works best."
      ]
    }
  ],
  "metadata": {
    "language_info": {
      "name": "python"
    }
  },
  "nbformat": 4,
  "nbformat_minor": 2
}
