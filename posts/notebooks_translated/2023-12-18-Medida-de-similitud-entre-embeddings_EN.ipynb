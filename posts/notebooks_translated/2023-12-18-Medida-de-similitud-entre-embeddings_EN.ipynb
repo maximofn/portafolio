{
  "cells": [
    {
      "cell_type": "markdown",
      "metadata": {},
      "source": [
        "# Measure of similarity between embeddings"
      ]
    },
    {
      "cell_type": "markdown",
      "metadata": {},
      "source": [
        " > Disclaimer: This post has been translated to English using a machine translation model. Please, let me know if you find any mistakes."
      ]
    },
    {
      "cell_type": "markdown",
      "metadata": {},
      "source": [
        "Now that we have seen what [embeddings](https://maximofn.com/embeddings) are, we know that we can measure the similarity between two words by measuring the similarity between their embeddings. In the post on [embeddings](https://maximofn.com/embeddings), we saw an example of using cosine similarity as a measure, but there are other similarity measures we can use, such as L2 squared, dot product similarity, cosine similarity, etc."
      ]
    },
    {
      "cell_type": "markdown",
      "metadata": {},
      "source": [
        "In this post, we are going to cover the three that we have mentioned."
      ]
    },
    {
      "cell_type": "markdown",
      "metadata": {},
      "source": [
        "## L2 Square Similarity"
      ]
    },
    {
      "cell_type": "markdown",
      "metadata": {},
      "source": [
        "This similarity is derived from the Euclidean distance, which is the straight-line distance between two points in a multidimensional space, calculated using the Pythagorean theorem.",
        "\n",
        "![Euclidean distance](https://pub-fb664c455eca46a2ba762a065ac900f7.r2.dev/distancia_euclidiana.webp)",
        "\n",
        "The Euclidean distance between two points $p$ and $q$ is calculated as:",
        "\n",
        "$$",
        "d(p,q) = \\sqrt{(p_1 - q_1)^2 + (p_2 - q_2)^2 + \\cdots + (p_n - q_n)^2} = \\sqrt{\\sum_{i=1}^n (p_i - q_i)^2}",
        "$$"
      ]
    },
    {
      "cell_type": "markdown",
      "metadata": {},
      "source": [
        "The L2 similarity is the square of the Euclidean distance, that is:",
        "\n",
        "$$",
        "similarity(p,q) = d(p,q)^2 = \\sum_{i=1}^n (p_i - q_i)^2",
        "$$"
      ]
    },
    {
      "cell_type": "markdown",
      "metadata": {},
      "source": [
        "## Cosine Similarity"
      ]
    },
    {
      "cell_type": "markdown",
      "metadata": {},
      "source": [
        "If we remember what we learned about sines and cosines in school, we will recall that when two vectors have an angle of 0\u00b0 between them, their cosine is 1, when the angle between them is 90\u00b0, their cosine is 0, and when the angle is 180\u00b0, their cosine is -1.",
        "\n",
        "![cosine similarity](https://pub-fb664c455eca46a2ba762a065ac900f7.r2.dev/dot-product.gif)",
        "\n",
        "![cosine similarity](https://pub-fb664c455eca46a2ba762a065ac900f7.r2.dev/dot-product-unity.gif)",
        "\n",
        "Therefore, we can use the cosine of the angle between two vectors to measure their similarity. It can be shown that the cosine of the angle between two vectors is equal to the dot product of the two vectors divided by the product of their magnitudes. Proving this is not the goal of this post, but if you want, you can see the proof [here](https://www.wwwinsights.com/wp-content/uploads/2023/05/image-11-1024x694.png).",
        "\n",
        "$$",
        "similarity(U,V) = \\frac{U \\cdot V}{\\|U\\| \\|V\\|}",
        "$$"
      ]
    },
    {
      "cell_type": "markdown",
      "metadata": {},
      "source": [
        "## Dot Product Similarity"
      ]
    },
    {
      "cell_type": "markdown",
      "metadata": {},
      "source": [
        "The dot product similarity is the dot product of two vectors",
        "\n",
        "$$",
        "similarity(U,V) = U \\cdot V",
        "$$",
        "\n",
        "As we have written the cosine similarity formula, when the length of the vectors is 1, that is, they are normalized, the cosine similarity is equal to the dot product similarity."
      ]
    },
    {
      "cell_type": "markdown",
      "metadata": {},
      "source": [
        "So, what is the use of the dot product similarity? It is used to measure the similarity between two vectors that are not normalized, that is, they do not have a length of 1.",
        "\n",
        "For example, YouTube, to create the embeddings of its videos, makes the embeddings of the videos it classifies as higher quality longer than those of the videos it classifies as lower quality.",
        "\n",
        "In this way, when a user performs a search, the dot product similarity will give higher similarity to higher quality videos, so it will provide the user with the highest quality videos first."
      ]
    },
    {
      "cell_type": "markdown",
      "metadata": {},
      "source": [
        "## Which similarity system to use"
      ]
    },
    {
      "cell_type": "markdown",
      "metadata": {},
      "source": [
        "To choose the similarity system we are going to use, we must take into account the space in which we are working.",
        "\n",
        "* If we are working in a high-dimensional space, with normalized embeddings, cosine similarity works best. For example, OpenAI generates normalized embeddings, so cosine similarity works best.",
        "* If we are working on a classification system where the distance between two classes is important, the L2 squared similarity works best.",
        "* If we are working on a recommendation system where the length of the vectors is important, the dot product similarity works best."
      ]
    }
  ],
  "metadata": {
    "language_info": {
      "name": "python"
    },
    "maximofn": {
      "date": "2023-12-18",
      "description_en": "Discover how similarity is measured between embeddings, the basis of the attention mechanism of transformers and RAG algorithms",
      "description_es": "Descubre c\u00f3mo se mide la similitud entre embeddings, la base del mecanismo de atenci\u00f3n de los transformers y de los algoritmos de RAG",
      "description_pt": "Descubra como \u00e9 medida a similaridade entre embeddings, a base do mecanismo de aten\u00e7\u00e3o dos transformers e dos algoritmos de RAG",
      "end_url": "embeddings-similarity",
      "image": "https://pub-fb664c455eca46a2ba762a065ac900f7.r2.dev/embeddings-similarity.webp",
      "image_hover_path": "https://pub-fb664c455eca46a2ba762a065ac900f7.r2.dev/embeddings-similarity.webp",
      "keywords_en": "embeddings, similarity, cosine similarity, L2 similarity, dot product similarity",
      "keywords_es": "embeddings, similitud, similitud por coseno, similitud L2, similitud por producto escalar",
      "keywords_pt": "embeddings, similaridade, similaridade por cosseno, similaridade L2, similaridade por produto escalar",
      "title_en": "Medida de similitud entre embeddings",
      "title_es": "Embeddings similarity measure",
      "title_pt": "Medida de similaridade entre embeddings"
    }
  },
  "nbformat": 4,
  "nbformat_minor": 2
}