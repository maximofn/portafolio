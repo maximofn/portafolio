{
  "cells": [
    {
      "cell_type": "markdown",
      "metadata": {},
      "source": [
        "# Mixtral-8x7B MoE"
      ]
    },
    {
      "cell_type": "markdown",
      "metadata": {},
      "source": [
        " > Disclaimer: This post has been translated to English using a machine translation model. Please, let me know if you find any mistakes."
      ]
    },
    {
      "cell_type": "markdown",
      "metadata": {},
      "source": [
        "For me, the best description of `mixtral-8x7b` is the following image",
        "\n",
        "![mixtral-gemini](https://images.maximofn.com/mixtral-gemini.webp)",
        "\n",
        "There was only a very short gap between the release of `gemini` and the release of `mixtral-8x7b`. For the first two days after `gemini` launched, there was quite a bit of talk about that model, but as soon as `mixtral-8x7b` came out, `gemini` was completely forgotten, and the entire community couldn't stop talking about `mixtral-8x7b`.",
        "\n",
        "And it's no wonder, looking at its benchmarks, we can see that it is on par with models like `llama2-70B` and `GPT3.5`, but with the difference being that while `mixtral-8x7b` has only 46.7B parameters, `llama2-70B` has 70B and `GPT3.5` has 175B.",
        "\n",
        "![mixtral benchmarks](https://images.maximofn.com/mixtral_8x7b_benchmark.webp)"
      ]
    },
    {
      "cell_type": "markdown",
      "metadata": {},
      "source": [
        "## Number of parameters"
      ]
    },
    {
      "cell_type": "markdown",
      "metadata": {},
      "source": [
        "As the name suggests, `mixtral-8x7b` is a set of 8 models with 7B parameters each, so we might think it has 56B parameters (7Bx8), but that's not the case. As [Andrej Karpathy](https://twitter.com/karpathy/status/1734251375163511203) explains, only the `Feed forward` blocks of the transformers are multiplied by 8, while the rest of the parameters are shared among the 8 models. Therefore, the final model has 46.7B parameters."
      ]
    },
    {
      "cell_type": "markdown",
      "metadata": {},
      "source": [
        "## Mixture of Experts (MoE)"
      ]
    },
    {
      "cell_type": "markdown",
      "metadata": {},
      "source": [
        "As we have said, the model is a set of 8 models with 7B parameters, hence `MoE`, which stands for `Mixture of Experts`. Each of the 8 models is trained independently, but during inference, a router decides which model's output will be used.",
        "\n",
        "In the following image we can see what the architecture of a `Transformer` looks like.",
        "\n",
        "![transformer](https://images.maximofn.com/transformer-scaled.webp)",
        "\n",
        "If you don't know it, that's fine. The important thing is that this architecture consists of an encoder and a decoder.",
        "\n",
        "![transformer-encoder-decoder](https://images.maximofn.com/transformer-encoder-decoder.webp)",
        "\n",
        "LLMs are models that only have the decoder, so they do not have an encoder. You can see that in the architecture there are three attention modules, one of which actually connects the encoder with the decoder. But since LLMs do not have an encoder, the attention module that connects the decoder and the decoder is not necessary.",
        "\n",
        "![transformer-decoder](https://images.maximofn.com/transformer-decoder.webp)",
        "\n",
        "Now that we know how the architecture of an LLM works, we can look at the architecture of `mixtral-8x7b`. In the following image, we can see the architecture of the model.",
        "\n",
        "![MoE architecture](https://images.maximofn.com/MoE_architecture.webp)",
        "\n",
        "As can be seen, the architecture consists of the decoder of a 7B parameter `Transformer`, except that the `Feed forward` layer consists of 8 `Feed forward` layers with a router that chooses which of the 8 `Feed forward` layers will be used. In the previous image, only four `Feed forward` layers are shown, I suppose this is to simplify the diagram, but in reality there are 8 `Feed forward` layers. Two paths for two different words are also visible, the word `More` and the word `Parameters`, and how the router chooses which `Feed forward` layer will be used for each word."
      ]
    },
    {
      "cell_type": "markdown",
      "metadata": {},
      "source": [
        "Looking at the architecture, we can understand why the model has 46.7B parameters and not 56B. As we have said, only the `Feed forward` blocks are multiplied by 8, the rest of the parameters are shared among the 8 models."
      ]
    },
    {
      "cell_type": "markdown",
      "metadata": {},
      "source": [
        "## Using Mixtral-8x7b in the Cloud"
      ]
    },
    {
      "cell_type": "markdown",
      "metadata": {},
      "source": [
        "Unfortunately, using `mixtral-8x7b` locally is complicated due to the following hardware requirements:",
        "\n",
        "* float32: VRAM > 180 GB, that is, since each parameter occupies 4 bytes, we need 46.7B * 4 = 186.8 GB of VRAM just to store the model, in addition to this, we must add the VRAM required to store the input and output data",
        "* float16: VRAM > 90 GB, in this case each parameter takes up 2 bytes, so we need 46.7B * 2 = 93.4 GB of VRAM just to store the model, and on top of that, we need to add the VRAM required to store the input and output data",
        "* 8-bit: VRAM > 45 GB, here each parameter takes up 1 byte, so we need 46.7B * 1 = 46.7 GB of VRAM just to store the model, in addition to that, we need to add the VRAM required to store the input and output data",
        "* 4-bit: VRAM > 23 GB, here each parameter takes up 0.5 bytes, so we need 46.7B * 0.5 = 23.35 GB of VRAM just to store the model, in addition to that, we have to add the VRAM needed to store the input and output data",
        "\n",
        "We need some very powerful GPUs to be able to run it, even when we use the model quantized to 4 bits."
      ]
    },
    {
      "cell_type": "markdown",
      "metadata": {},
      "source": [
        "Therefore, the simplest way to use `Mixtral-8x7B` is by using it already deployed in the cloud. I have found several sites where you can use it"
      ]
    },
    {
      "cell_type": "markdown",
      "metadata": {},
      "source": [
        "### Using Mixtral-8x7b in Hugging Face Chat"
      ]
    },
    {
      "cell_type": "markdown",
      "metadata": {},
      "source": [
        "The first one is on [huggingface chat](https://huggingface.co/chat). To use it, you need to click on the gear icon inside the `Current Model` box and select `Mistral AI - Mixtral-8x7B`. Once selected, you can start chatting with the model.",
        "\n",
        "![huggingface_chat_01](https://images.maximofn.com/huggingface_chat_01.webp)",
        "\n",
        "Once inside, select `mistralai/Mixtral-8x7B-Instruct-v0.1` and finally click the `Activate` button. Now we can test the model.",
        "\n",
        "![huggingface_chat_02](https://images.maximofn.com/huggingface_chat_02.webp)",
        "\n",
        "As you can see, I asked him in Spanish what `MoE` is and he explained it to me."
      ]
    },
    {
      "cell_type": "markdown",
      "metadata": {},
      "source": [
        "### Use of Mixtral-8x7b in Perplexity Labs"
      ]
    },
    {
      "cell_type": "markdown",
      "metadata": {},
      "source": [
        "Another option is to use [Perplexity Labs](https://labs.perplexity.ai/). Once inside, you need to select `mixtral-8x7b-instruct` from a dropdown menu in the bottom right corner.",
        "\n",
        "![perplexity_labs](https://images.maximofn.com/perplexity_labs.webp)",
        "\n",
        "As you can see, I also asked him in Spanish what `MoE` is and he explained it to me."
      ]
    },
    {
      "cell_type": "markdown",
      "metadata": {},
      "source": [
        "## Using Mixtral-8x7b Locally via the Hugging Face API"
      ]
    },
    {
      "cell_type": "markdown",
      "metadata": {},
      "source": [
        "A way to use it locally, regardless of the hardware resources you have, is through the huggingface API. For this, you need to install the `huggingface-hub` library from huggingface."
      ]
    },
    {
      "cell_type": "code",
      "execution_count": 100,
      "metadata": {},
      "outputs": [],
      "source": [
        "%pip install huggingface-hub"
      ]
    },
    {
      "cell_type": "markdown",
      "metadata": {},
      "source": [
        "Here is an implementation with `gradio`"
      ]
    },
    {
      "cell_type": "code",
      "execution_count": 100,
      "metadata": {},
      "outputs": [],
      "source": [
        "from huggingface_hub import InferenceClient\n",
        "import gradio as gr\n",
        "\n",
        "client = InferenceClient(\"mistralai/Mixtral-8x7B-Instruct-v0.1\")\n",
        "\n",
        "def format_prompt(message, history):\n",
        "  prompt = \"<s>\"\n",
        "  for user_prompt, bot_response in history:\n",
        "    prompt += f\"[INST] {user_prompt} [/INST]\"\n",
        "    prompt += f\" {bot_response}</s> \"\n",
        "  prompt += f\"[INST] {message} [/INST]\"\n",
        "  return prompt\n",
        "\n",
        "def generate(prompt, history, system_prompt, temperature=0.9, max_new_tokens=256, top_p=0.95, repetition_penalty=1.0,):\n",
        "    temperature = float(temperature)\n",
        "    if temperature < 1e-2:\n",
        "        temperature = 1e-2\n",
        "    top_p = float(top_p)\n",
        "\n",
        "    generate_kwargs = dict(temperature=temperature, max_new_tokens=max_new_tokens, top_p=top_p, repetition_penalty=repetition_penalty, do_sample=True, seed=42,)\n",
        "\n",
        "    formatted_prompt = format_prompt(f\"{system_prompt}, {prompt}\", history)\n",
        "    stream = client.text_generation(formatted_prompt, **generate_kwargs, stream=True, details=True, return_full_text=False)\n",
        "    output = \"\"\n",
        "\n",
        "    for response in stream:\n",
        "        output += response.token.text\n",
        "        yield output\n",
        "    return output\n",
        "\n",
        "additional_inputs=[\n",
        "    gr.Textbox(label=\"System Prompt\", max_lines=1, interactive=True,),\n",
        "    gr.Slider(label=\"Temperature\", value=0.9, minimum=0.0, maximum=1.0, step=0.05, interactive=True, info=\"Higher values produce more diverse outputs\"),\n",
        "    gr.Slider(label=\"Max new tokens\", value=256, minimum=0, maximum=1048, step=64, interactive=True, info=\"The maximum numbers of new tokens\"),\n",
        "    gr.Slider(label=\"Top-p (nucleus sampling)\", value=0.90, minimum=0.0, maximum=1, step=0.05, interactive=True, info=\"Higher values sample more low-probability tokens\"),\n",
        "    gr.Slider(label=\"Repetition penalty\", value=1.2, minimum=1.0, maximum=2.0, step=0.05, interactive=True, info=\"Penalize repeated tokens\")\n",
        "]\n",
        "\n",
        "gr.ChatInterface(\n",
        "    fn=generate,\n",
        "    chatbot=gr.Chatbot(show_label=False, show_share_button=False, show_copy_button=True, likeable=True, layout=\"panel\"),\n",
        "    additional_inputs=additional_inputs,\n",
        "    title=\"Mixtral 46.7B\",\n",
        "    concurrency_limit=20,\n",
        ").launch(show_api=False)"
      ]
    },
    {
      "cell_type": "markdown",
      "metadata": {},
      "source": [
        "![Mixtral-8x7B huggingface API](https://images.maximofn.com/Mixtral-8x7B_huggingface_API.webp)"
      ]
    }
  ],
  "metadata": {
    "kernelspec": {
      "display_name": "nlp",
      "language": "python",
      "name": "python3"
    },
    "language_info": {
      "codemirror_mode": {
        "name": "ipython",
        "version": 3
      },
      "file_extension": ".py",
      "mimetype": "text/x-python",
      "name": "python",
      "nbconvert_exporter": "python",
      "pygments_lexer": "ipython3",
      "version": "3.11.8"
    },
    "maximofn": {
      "date": "2023-12-30",
      "description_en": "Discover the fashion model in the world of AI",
      "description_es": "Descubre el modelo de moda en el mundo de la IA",
      "description_pt": "Descubra o modelo da moda no mundo da IA",
      "end_url": "mixtral-8x7b",
      "image": "https://images.maximofn.com/Mixtral-8x7B.webp",
      "image_hover_path": "https://images.maximofn.com/Mixtral-8x7B.webp",
      "keywords_en": "mixtral-8x7b, mixtral, 8x7b, mistral ai, transformer, MoE, mixture of experts, huggingface, gradio",
      "keywords_es": "mixtral-8x7b, mixtral, 8x7b, mistral ai, transformer, MoE, mixture of experts, huggingface, gradio",
      "keywords_pt": "mixtral-8x7b, mixtral, 8x7b, mistral ai, transformer, MoE, mixture of experts, huggingface, gradio",
      "title_en": "Mixtral-8x7B",
      "title_es": "Mixtral-8x7B",
      "title_pt": "Mixtral-8x7B"
    }
  },
  "nbformat": 4,
  "nbformat_minor": 2
}