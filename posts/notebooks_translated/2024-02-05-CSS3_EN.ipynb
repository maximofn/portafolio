{
  "cells": [
    {
      "cell_type": "markdown",
      "metadata": {},
      "source": [
        "# CSS 3"
      ]
    },
    {
      "cell_type": "markdown",
      "metadata": {},
      "source": [
        " > Disclaimer: This post has been translated to English using a machine translation model. Please, let me know if you find any mistakes."
      ]
    },
    {
      "cell_type": "markdown",
      "metadata": {},
      "source": [
        "## Parts of CSS (selector, properties, values)"
      ]
    },
    {
      "cell_type": "markdown",
      "metadata": {},
      "source": [
        "In CSS, we can talk about three main parts:",
        "\n",
        "- **Selector**: It is the part that selects the element to which the style will be applied.",
        "- **Property**: It is the part that defines the style to be applied to the element.",
        "- **Value**: It is the part that defines the value of the property to be applied to the element.",
        "\n",
        "To add comments in CSS, use `/* comment */`.",
        "\n",
        "The line that has `property: value;` is called a **declaration**.",
        "\n",
        "```css\n",
        "selector {",
        "property: value;   /* comment */",
        "}",
        "```"
      ]
    },
    {
      "cell_type": "markdown",
      "metadata": {},
      "source": [
        "## Selectors"
      ]
    },
    {
      "cell_type": "markdown",
      "metadata": {},
      "source": [
        "There are several types of selectors:",
        "\n",
        "- **Universal selector**: Selects all elements on the page. It uses the asterisk `*`.",
        "- **Type selector**: Selects all elements of a type. It uses the name of the element type. For example, `p` selects all paragraphs.",
        "- **Class selector**: Selects all elements that have a class. The class name is used. For example, `.class` selects all elements that have the class `class`. This is useful because if we want all buttons to be the same, in the HTML we put `<button class=\"button\">` and in the CSS we put `.button { /* styles */ }`. This way, all buttons will have the same styles, and if we want a button to be different, we give it another class.",
        "- **Pseudo-class selector**: Selects all elements that have a pseudo-class. It uses the name of the pseudo-class. For example, `:hover` selects all elements that are being targeted by the mouse. This is useful because if we want a button to change color when the mouse is over it, in the CSS we put `.button:hover { /* styles */ }`. This way, the button will have the desired styles when the mouse is over it. Some pseudo-classes are:",
        "- `:hover`: Selects all elements that are being targeted by the mouse.",
        "- `:active`: Selects all elements that are being selected by the mouse and are being pressed.",
        "- `:focus`: Selects all elements that are being targeted by the mouse and are being pressed, and also have focus.",
        "- `:first-child`: Selects all elements that are the first child of their parent. This is useful, for example, with the `<li>` items in lists, because if we want the first element of the list to have a different style, in the CSS we put `li:first-child { /* styles */ }`. This way, the first element of the list will have the styles we want.",
        "- `:last-child`: Selects all elements that are the last child of their parent. This is useful, for example, with the `<li>` items in lists, because if we want the last element of the list to have a different style, in the CSS we put `li:last-child { /* styles */ }`. This way, the last element of the list will have the styles we want.",
        "- `:nth-child(n)`: Selects all elements that are the nth child of their parent. For example, `:nth-child(2)` selects all elements that are the second child of their parent.",
        "- `:nth-last-child(n)`: Selects all elements that are the n-th child of their parent, counting from the end. For example, `:nth-last-child(2)` selects all elements that are the second child of their parent, counting from the end.",
        "- `:nth-of-type(n)`: Selects all elements that are the n-th child of their parent, of the same type. For example, `:nth-of-type(2)` selects all elements that are the second child of their parent, of the same type.",
        "- `:nth-last-of-type(n)`: Selects all elements that are the n-th child of their parent, of the same type, starting from the end. For example, `:nth-last-of-type(2)` selects all elements that are the second child of their parent, of the same type, starting from the end.",
        "- `:first-of-type`: Selects all elements that are the first child of their parent, of the same type.",
        "- `:last-of-type`: Selects all elements that are the last child of their parent, of the same type.",
        "- `:only-child`: Selects all elements that are the only child of their parent.",
        "- `:only-of-type`: Selects all elements that are the only child of their parent, of the same type.",
        "- `:empty`: Selects all elements that have no children.",
        "- **ID selector**: Selects an element that has a specific id. It uses the name of the id. For example, `#id` selects the element that has the id `id`. This is useful because if we want an element to be unique, in the HTML we put `<p id=\"unique\">` and in the CSS we put `#unique { /* styles */ }`. This way, that element will have the styles we want, and if we want another element to be the same, we give it a different class.",
        "- **Combined selectors**: Select elements that meet multiple conditions. Use the selectors you want, separated by a space. For example, `p .clase` selects all elements that have the class `clase` and are children of a paragraph. This is useful because if we want all buttons within a paragraph to be the same, in the HTML we put `<p class=\"parrafo_que_quiero_cambiar\"><button class=\"boton\">` and in the CSS we put `.parrafo_que_quiero_cambiar .boton { /* styles */ }`. This way, all buttons inside a paragraph with the class `parrafo_que_quiero_cambiar` will have the same styles, and if we want a button to be different, we give it another class.",
        "- **First-level combined selector**: Select elements that meet several conditions, but only if they are at the first level. Use any selectors you want, separated by a `>`. For example, `p > .class` selects all elements that have the class `class` and are direct children of a paragraph. This is useful because if we want all buttons inside a paragraph to be the same, in the HTML we put `<p class=\"paragraph_i_want_to_change\"><button class=\"button\">` and in the CSS we put `.paragraph_i_want_to_change > .button { /* styles */ }`. This way, all buttons inside a paragraph with the class `paragraph_i_want_to_change` will have the same styles. If we want a button to be different, we give it another class.",
        "- **General sibling combinator selector**: Select elements that meet multiple conditions, but only if they are at the same level. Use any selectors you want, separated by a `~`. For example, `p ~ .class` selects all elements with the class `class` that are at the same level as a paragraph. This is useful because if we want all buttons at the same level as a paragraph to be the same, in the HTML we put `<p class=\"paragraph_i_want_to_change\"></p><button class=\"button\">` and in the CSS we put `.paragraph_i_want_to_change ~ .button { /* styles */ }`. This way, all buttons at the same level as a paragraph with the class `paragraph_i_want_to_change` will have the same styles. If we want a button to be different, we give it another class.",
        "- **Adjacent sibling combinator selector**: Selects elements that meet several conditions, but only if they are at the same level and adjacent. We use the selectors we want, separated by a `+`. For example, `p + .class` selects all elements that have the class `class` and are at the same level and adjacent to a paragraph. This is useful because if we want all buttons that are at the same level and adjacent to a paragraph to be the same, in the HTML we put `<p class=\"paragraph_to_change\"></p><button class=\"button\">` and in the CSS we put `.paragraph_to_change + .button { /* styles */ }`. This way, all buttons that are at the same level and adjacent to a paragraph with the class `paragraph_to_change` will have the same styles, and if we want a button to be different, we give it another class.",
        "\n",
        "It is common to use the class selector, because this way we can reuse the styles."
      ]
    },
    {
      "cell_type": "markdown",
      "metadata": {},
      "source": [
        "## Styles"
      ]
    },
    {
      "cell_type": "markdown",
      "metadata": {},
      "source": [
        "### Color"
      ]
    },
    {
      "cell_type": "markdown",
      "metadata": {},
      "source": [
        "The color can be set in several ways:",
        "\n",
        "- **Name**: You can put the name of the color. For example, `red` is red.",
        "- **Hexadecimal**: The color can be set in hexadecimal. For example, `#ff0000` is red.",
        "  \n",
        "If you want to add transparency, you can use `#ff000080`, which is red with 50% transparency.",
        "  \n",
        "If only three numbers are provided, they repeat. For example, `#f10` is the same as `#ff1100`. If you want to add transparency, you can use `#f108`, which is the same as `#ff110088`.",
        "- **RGB**: The color can be set in RGB. For example, `rgb(255, 0, 0)` is red.",
        "\n",
        "If you want to add transparency, you can use `rgb(255 0 0 / 0.5)`, which is red with 50% transparency. You can also set the transparency as a percentage, `rgb(255 0 0 / 50%)`. You can find the legacy way of setting transparency with `rgba(255, 0, 0, 0.5)`, which is red with 50% transparency, but it's best to use the modern method.",
        "\n",
        "- **HSL**: You can set the color in HSL. For example, `hsl(0, 100%, 50%)` is red.",
        "\n",
        "- **OKLCH**: The color can be set in OKLCH. For example, `oklch(0 100% 50%)` is red.",
        "\n",
        "In `HSL` and `OKLCH` there is a wider color scale than in `RGB`, so if you need more colors, it's better to use `HSL` or `OKLCH`.",
        "\n",
        "Transparency can also be added by including the statement `color:transparent`."
      ]
    },
    {
      "cell_type": "markdown",
      "metadata": {},
      "source": [
        "### Current Color"
      ]
    },
    {
      "cell_type": "markdown",
      "metadata": {},
      "source": [
        "There is a color value that is `currentColor`, which is the current color. For example, if we have some text and set its color to red, and then add a border to this text, if we put `border: 1px solid currentColor;`, the border will be red.",
        "\n",
        "```css\n",
        "p {",
        "color: red;",
        "border: 1px solid currentColor;",
        "It seems like you didn't provide any Markdown text to translate. Please provide the Markdown text you want translated to English.",
        "```"
      ]
    },
    {
      "cell_type": "markdown",
      "metadata": {},
      "source": [
        "### Inheritance"
      ]
    },
    {
      "cell_type": "markdown",
      "metadata": {},
      "source": [
        "When a style is applied to an element, this style is inherited by the child elements. For example, if we have a `div` with some text, and we set the color to red for the `div`, the text will also be red.",
        "\n",
        "```html\n",
        "<div>",
        "<p>Text</p>",
        "</div>",
        "```\n",
        "\n",
        "```css\n",
        "div {",
        "color: red;",
        "It seems like you didn't provide any Markdown text to translate. Please provide the Markdown text you want translated to English.",
        "```\n",
        "\n",
        "By doing this, the text will be red."
      ]
    },
    {
      "cell_type": "markdown",
      "metadata": {},
      "source": [
        "We can indicate in the child which styles are inherited. For example, suppose we have a parent and a child",
        "\n",
        "```html\n",
        "<div class=\"parent\">",
        "<p class=\"child\">Text</p>",
        "</div>",
        "```\n",
        "\n",
        "```css\n",
        ".parent {",
        "color: red;",
        "}",
        "\n",
        ".son {",
        "color: inherit;",
        "}",
        "```\n",
        "\n",
        "By doing this, the text will be red, because the child inherits the color from the parent.",
        "\n",
        "The possible options are:",
        "\n",
        "- `inherit`: Inherits the style from the parent.",
        "- `initial`: Sets the style to its default value.",
        "- `unset`: Resets the style",
        "- `revert`: Revert the style",
        "\n",
        "Not all styles are inherited, for example, the `background` is not inherited. To know which styles are inherited without listing them all, one way is to go to `MDN` and check if the style has the `Inherited` property set to `yes` (within `Formal definition`)."
      ]
    },
    {
      "cell_type": "markdown",
      "metadata": {},
      "source": [
        "### Sources"
      ]
    },
    {
      "cell_type": "markdown",
      "metadata": {},
      "source": [
        "When loading fonts, they can be loaded in several ways:",
        "\n",
        "- **Local**: A local font can be loaded. For example, `font-family: Arial;` loads the Arial font.",
        "- **URL**: A font can be loaded from a URL. For example, `font-family: url(https://fonts.googleapis.com/css2?family=Roboto);` loads the Roboto font from Google Fonts.",
        "- **Generic**: A generic font can be loaded. For example, `font-family: sans-serif;` loads a sans-serif font. This font depends on the operating system, so it will be Arial on Windows, Helvetica on Mac, and DejaVu Sans on Linux.",
        "\n",
        "Multiple fonts can be loaded, and if one is not available, the next one is loaded. For example, `font-family: Arial, sans-serif;` loads Arial, and if it is not available, it loads a sans-serif font.",
        "\n",
        "A font can also be loaded with multiple styles. For example, `font-family: Arial, sans-serif; font-weight: 700;` loads Arial in bold, and if it is not available, it loads a sans-serif font in bold.",
        "\n",
        "As `sans-serif` is a generic font, it's best to always put it last, so that if the font we want is not available, the generic one will be loaded.",
        "\n",
        "```css\n",
        "p {",
        "font-family: url(https://fonts.googleapis.com/css2?family=Roboto), url(https://fonts.googleapis.com/css2?family=Roboto+Slab), Ubuntu, sans-serif;",
        "}",
        "```"
      ]
    },
    {
      "cell_type": "markdown",
      "metadata": {},
      "source": [
        "### Border and Outline"
      ]
    },
    {
      "cell_type": "markdown",
      "metadata": {},
      "source": [
        "We can add a border to an element with `border: 1px solid red;`. This adds a border that is 1px thick, solid, and red.",
        "\n",
        "If we want to add an outline, we can use `outline: 1px solid red;`. This adds a 1px thick, solid, and red outline.",
        "\n",
        "The difference between `border` and `outline` is that `border` takes up space, while `outline` does not. For example, if we have a `div` with some text, and we add a border, the text will move to make room for the border. If we add an outline, the text will not move, because the outline does not take up space. This can be observed if we change the style in the `:hover` pseudo-class. If we add a border, when we hover over it, the text will move, but if we add an outline, the text will not move."
      ]
    },
    {
      "cell_type": "markdown",
      "metadata": {},
      "source": [
        "## Waterfall"
      ]
    },
    {
      "cell_type": "markdown",
      "metadata": {},
      "source": [
        "The cascade is the order in which styles are applied. The order is:",
        "\n",
        "1. User styles: These are the styles that the user has configured. For example, if the user has set the text to be red, the text will be red.",
        "2. Author styles: These are the styles that the author has configured. For example, if the author has configured the text to be blue, the text will be blue.",
        "3. Browser styles: These are the browser's styles. For example, if the browser is configured to have text in green color, the text will be green.",
        "\n",
        "User styles prevail over author styles, and author styles prevail over browser styles.",
        "\n",
        "But within the author's styles, the styles that are lower in the code prevail. For example, if we have a `div` with some text, and we set the color to red, and then set the color to blue, the text will be blue.",
        "\n",
        "```html\n",
        "<div>",
        "<p>Text</p>",
        "</div>",
        "```\n",
        "\n",
        "```css\n",
        "div {",
        "color: red;",
        "}",
        "\n",
        "div {",
        "color: blue;",
        "}",
        "```\n",
        "\n",
        "In this example, the text will be blue. The red color is overridden with the blue color."
      ]
    },
    {
      "cell_type": "markdown",
      "metadata": {},
      "source": [
        "### Fallback"
      ]
    },
    {
      "cell_type": "markdown",
      "metadata": {},
      "source": [
        "One of the benefits of the cascade is that we can apply a very new style, but in case the browser the user is using does not support it, we can set an older style beforehand just in case. For example, styling the color with `oklch` is something new, which might not be supported by the browser the user is using, so we can set an older style beforehand just in case.",
        "\n",
        "```css\n",
        "p {",
        "color: rgb(255, 0, 0);",
        "color: oklch(0 100% 50%);",
        "It seems like you've provided an incomplete or incorrect Markdown text to translate. Please provide the full Markdown text you want translated into English.",
        "```\n",
        "\n",
        "This way, the browser will first try to style with `oklch`, and if it can't, it will style with `rgb`."
      ]
    },
    {
      "cell_type": "markdown",
      "metadata": {},
      "source": [
        "### Specificity"
      ]
    },
    {
      "cell_type": "markdown",
      "metadata": {},
      "source": [
        "An HTML element can have several ways to refer to it. For example",
        "\n",
        "```html\n",
        "<p class=\"clase\" id=\"id\">Text</p>",
        "```\n",
        "\n",
        "```css\n",
        "p {",
        "color: red;",
        "}",
        "\n",
        ".class {",
        "color: blue;",
        "}",
        "\n",
        "#id {",
        "color: green;",
        "}",
        "```\n",
        "\n",
        "In this example, the text will be green. This is because the id selector has more specificity than the class selector, and the class selector has more specificity than the type selector. Therefore, the id selector overrides the class selector, and the class selector overrides the type selector.",
        "\n",
        "If we had in the CSS",
        "\n",
        "```css\n",
        "p {",
        "color: red;",
        "}",
        "\n",
        "p.class {",
        "color: blue;",
        "It seems like you have provided an incomplete or incorrect Markdown text to translate. Please provide the full Markdown content so I can assist with the translation.",
        "```\n",
        "\n",
        "The text would be blue. This is because the class selector has more specificity than the type selector, so the class selector overrides the type selector."
      ]
    },
    {
      "cell_type": "markdown",
      "metadata": {},
      "source": [
        "Inline styles have more specificity than author styles. For example",
        "\n",
        "```html\n",
        "<p style=\"color: red;\">Text</p>",
        "```\n",
        "\n",
        "```css\n",
        "p {",
        "color: blue;",
        "It seems like you might have accidentally sent an incomplete or incorrect Markdown text. Could you please provide the actual Markdown content that needs to be translated?",
        "```\n",
        "\n",
        "In this example, the text will be red. This is because the inline style has more specificity than the author's style."
      ]
    },
    {
      "cell_type": "markdown",
      "metadata": {},
      "source": [
        "If `!important` is added to the end of the declaration, this declaration will have more specificity than any other. For example",
        "\n",
        "```html\n",
        "<p class=\"clase\" id=\"id\">Text</p>",
        "```\n",
        "\n",
        "```css\n",
        "p {",
        "color: red;",
        "}",
        "\n",
        ".class {",
        "color: blue;",
        "It seems like there might be a missing Markdown text to translate. Could you please provide the Markdown content that needs to be translated?",
        "\n",
        "#id {",
        "color: green;",
        "}",
        "\n",
        "p.class {",
        "color: yellow !important;",
        "}",
        "```\n",
        "\n",
        "In this example, the text will be yellow. This is because the declaration with `!important` has more specificity than any other."
      ]
    },
    {
      "cell_type": "markdown",
      "metadata": {},
      "source": [
        "## Units"
      ]
    },
    {
      "cell_type": "markdown",
      "metadata": {},
      "source": [
        "### Units of length"
      ]
    },
    {
      "cell_type": "markdown",
      "metadata": {},
      "source": [
        "#### Absolute Units"
      ]
    },
    {
      "cell_type": "markdown",
      "metadata": {},
      "source": [
        "If we want to set a fixed size, we can use absolute units. For example, `px` is a pixel, `cm` is a centimeter, `mm` is a millimeter, `in` is an inch, `pt` is a point, `pc` is a pica."
      ]
    },
    {
      "cell_type": "markdown",
      "metadata": {},
      "source": [
        "#### Relative units"
      ]
    },
    {
      "cell_type": "markdown",
      "metadata": {},
      "source": [
        "However, if we want the size to be relative, we can use relative units. For example, `em` is the font size, `rem` is the root element's font size, `vw` is the viewport width, `vh` is the viewport height, `vmin` is the viewport width or height, whichever is smaller, `vmax` is the viewport width or height, whichever is larger, `ch` is the width of a character, `ex` is the x-height, and `fr` is a fraction of the available space."
      ]
    },
    {
      "cell_type": "markdown",
      "metadata": {},
      "source": [
        "## Box Model"
      ]
    },
    {
      "cell_type": "markdown",
      "metadata": {},
      "source": [
        "In HTML, everything is boxes, but there are two ways to view the boxes: `inline` and `block`. For example, `<span>` elements are `inline`, and `<div>` elements are `block`."
      ]
    },
    {
      "cell_type": "markdown",
      "metadata": {},
      "source": [
        "### Inline boxes `inline`"
      ]
    },
    {
      "cell_type": "markdown",
      "metadata": {},
      "source": [
        "When the element is `inline`, width and height cannot be set, and the element behaves as if it were text. For example, if we have a `span` with some text, and we set a width and height, the width and height will not be applied, and the element will behave as if it were text.",
        "\n",
        "```html\n",
        "<span>Text</span>",
        "```\n",
        "\n",
        "```css\n",
        "span {",
        "width: 100px;",
        "height: 100px;",
        "It seems like you've only provided a closing brace `}` without any Markdown content to translate. If you have a specific Markdown text that needs translation, please provide it, and I'll be happy to help!",
        "```\n",
        "\n",
        "In this example, the width and height will not be applied, and the element will behave as if it were text."
      ]
    },
    {
      "cell_type": "markdown",
      "metadata": {},
      "source": [
        "Additionally, when the element is `inline`, if multiple elements are placed together in the HTML, these elements will be displayed together. For example, if we have several `span` elements with text, and we place them together in the HTML, these elements will be displayed together.",
        "\n",
        "```html\n",
        "<span>Text</span>",
        "<span>Text</span>",
        "<span>Text</span>",
        "```\n",
        "\n",
        "In this example, the elements will be displayed together ==> TextTextText."
      ]
    },
    {
      "cell_type": "markdown",
      "metadata": {},
      "source": [
        "But if we want the elements to be displayed on different lines, we can use `display: block;`. For example, if we have several `span` elements with text, and we set `display: block;` for them, these elements will be displayed on different lines.",
        "\n",
        "```html\n",
        "<span>Text</span>",
        "<span>Text</span>",
        "<span>Text</span>",
        "```\n",
        "\n",
        "```css\n",
        "span {",
        "display: block;",
        "It seems like you might have intended to provide a Markdown text for translation but didn't include it. Please provide the Markdown text you want translated to English.",
        "```\n",
        "\n",
        "In this example, the elements will be displayed on different lines",
        "                        \n",
        "\u2b07",
        "                        \n",
        "Text",
        "                        \n",
        "Text",
        "                        \n",
        "Text"
      ]
    },
    {
      "cell_type": "markdown",
      "metadata": {},
      "source": [
        "### Boxes `block`"
      ]
    },
    {
      "cell_type": "markdown",
      "metadata": {},
      "source": [
        "When the element is `block`, the width and height can be configured, and the element behaves as if it were a block. For example, if we have a `div` with some text, and we set a width and height, the width and height will be applied, and the element will behave as if it were a block.",
        "\n",
        "```html\n",
        "<div>Text</div>",
        "```\n",
        "\n",
        "```css\n",
        "div {",
        "width: 100px;",
        "height: 100px;",
        "}",
        "```\n",
        "\n",
        "In this example, the width and height will be applied, and the element will behave as if it were a block."
      ]
    },
    {
      "cell_type": "markdown",
      "metadata": {},
      "source": [
        "Additionally, when the element is `block`, if multiple elements are placed together in the HTML, these elements will be displayed one below the other. For example, if we have several `div` with text, and we place them together in the HTML, these elements will be displayed one below the other.",
        "\n",
        "```html\n",
        "<div>Text</div>",
        "<div>Text</div>",
        "<div>Text</div>",
        "```\n",
        "\n",
        "In this example, the elements will be displayed one below the other",
        "                        \n",
        "\u2b07",
        "                        \n",
        "Text",
        "                        \n",
        "Text",
        "                        \n",
        "Text"
      ]
    },
    {
      "cell_type": "markdown",
      "metadata": {},
      "source": [
        "But if we want the elements to be displayed on the same line, we can use `display: inline;`. For example, if we have several `div` with text, and we set `display: inline;`, these elements will be displayed on the same line.",
        "\n",
        "```html\n",
        "<div>Text</div>",
        "<div>Text</div>",
        "<div>Text</div>",
        "```\n",
        "\n",
        "```css\n",
        "div {",
        "display: inline;",
        "}",
        "```\n",
        "\n",
        "In this example, the elements will be displayed on the same line ==> TextTextText."
      ]
    },
    {
      "cell_type": "markdown",
      "metadata": {},
      "source": [
        "### Margin, Border, Padding and Content"
      ]
    },
    {
      "cell_type": "markdown",
      "metadata": {},
      "source": [
        "Now that we know that in HTML everything is boxes, we can see that each box has 4 parts:",
        "\n",
        "- **Margin**: It is the space between the box and other boxes.",
        "- **Border**: It is the border of the box.",
        "- **Padding**: It is the space between the border and the content.",
        "- **Content**: It is the content of the box.",
        "\n",
        "![Margin, Border, Padding and Content](https://web.dev/static/learn/css/box-model/image/un-diagrama-que-muestra-l-a71d29fe924e.svg?hl=en)"
      ]
    },
    {
      "cell_type": "markdown",
      "metadata": {},
      "source": [
        "All these properties can be configured. For example, if we have a `div` with some text, and we set a width and a height, the width and height will be applied, and the element will behave as if it were a block.",
        "\n",
        "```html\n",
        "<div>Text</div>",
        "```\n",
        "\n",
        "```css\n",
        "div {",
        "width: 100px;",
        "height: 100px;",
        "margin: 10px;",
        "border: 10px solid red;",
        "padding: 10px;",
        "}",
        "```\n",
        "\n",
        "As they are size properties, length units can be used. For example:",
        "\n",
        "* If we want the margin to be 10 pixels, we put `margin: 10px;`.",
        "* If we want only the left margin, we put `margin-left: 10px;`.",
        "* If we want only the right margin, we put `margin-right: 10px;`.",
        "* If we want only the top margin, we put `margin-top: 10px;`.",
        "* If we want it to be only the bottom margin, we put `margin-bottom: 10px;`.",
        "* If we want each margin to be a different size, we put `margin: 10px 20px 30px 40px;`. The order is top, right, bottom, left, as if they were the hands of a clock.",
        "* If we want to change the margins on the horizontal and vertical axes, we put `margin: 10px 20px;`. The order is top and bottom (10px), left and right (20px)."
      ]
    },
    {
      "cell_type": "markdown",
      "metadata": {},
      "source": [
        "#### Box Size When Changing Padding"
      ]
    },
    {
      "cell_type": "markdown",
      "metadata": {},
      "source": [
        "If we have a `div` with some text, and we set its width and height, the width and height will be applied, and the element will behave as if it were a block.",
        "\n",
        "```html\n",
        "<div>Text</div>",
        "```\n",
        "\n",
        "```css\n",
        "div {",
        "width: 100px;",
        "height: 100px;",
        "}",
        "```\n",
        "\n",
        "This way the `div` will have a width and height of 100px.",
        "\n",
        "But if we now apply a padding of 10px, the width and height will remain the same, but the box size will be 120px, because the padding is added to the width and height.",
        "\n",
        "```html\n",
        "<div>Text</div>",
        "```\n",
        "\n",
        "```css\n",
        "div {",
        "width: 100px;",
        "height: 100px;",
        "padding: 10px;",
        "}",
        "```\n",
        "\n",
        "This way the `div` will have a width and height of 100px, but the box size will be 120px."
      ]
    },
    {
      "cell_type": "markdown",
      "metadata": {},
      "source": [
        "#### Box Size When Changing the Border"
      ]
    },
    {
      "cell_type": "markdown",
      "metadata": {},
      "source": [
        "If we have a `div` with some text, and we set its width and height, the width and height will be applied, and the element will behave as if it were a block.",
        "\n",
        "```html\n",
        "<div>Text</div>",
        "```\n",
        "\n",
        "```css\n",
        "div {",
        "width: 100px;",
        "height: 100px;",
        "It seems like you've provided an incomplete or incorrect Markdown structure. Could you please provide the full Markdown text for translation?",
        "```\n",
        "\n",
        "This way the `div` will have a width and height of 100px.",
        "\n",
        "But if we now apply a border of 10px, the width and height will remain the same, but the box size will be 120px, because the border is added to the width and height.",
        "\n",
        "```html\n",
        "<div>Text</div>",
        "```\n",
        "\n",
        "```css\n",
        "div {",
        "width: 100px;",
        "height: 100px;",
        "border: 10px solid red;",
        "}",
        "```\n",
        "\n",
        "In this way, the `div` will have a width and height of 100px, but the box size will be 120px."
      ]
    },
    {
      "cell_type": "markdown",
      "metadata": {},
      "source": [
        "#### Box Size When Changing the Margin"
      ]
    },
    {
      "cell_type": "markdown",
      "metadata": {},
      "source": [
        "In the case of margins, the size of the box does not change, but the space between the boxes does. For example, if we have two `div` with text, and we set a width and a height, the width and height will be applied, and the element will behave as if it were a block.",
        "\n",
        "```html\n",
        "<div>Text</div>",
        "<div>Text</div>",
        "```\n",
        "\n",
        "```css\n",
        "div {",
        "width: 100px;",
        "height: 100px;",
        "}",
        "```\n",
        "\n",
        "This way the `div` will have a width and height of 100px.",
        "\n",
        "But if we now apply a margin of 10px, the width and height will remain, but the space between the `div` elements will be 20px, because the margin is added to the space between the `div`.",
        "\n",
        "```html\n",
        "<div>Text</div>",
        "<div>Text</div>",
        "```\n",
        "\n",
        "```css\n",
        "div {",
        "width: 100px;",
        "height: 100px;",
        "margin: 10px;",
        "}",
        "```\n",
        "\n",
        "This way the `div` will have a width and height of 100px, but the space between the `div` will be 20px."
      ]
    },
    {
      "cell_type": "markdown",
      "metadata": {},
      "source": [
        "#### Box Size"
      ]
    },
    {
      "cell_type": "markdown",
      "metadata": {},
      "source": [
        "Therefore, what occupies the box is:",
        "\n",
        "* Width: `width + padding + border`.",
        "* Height: `height + padding + border`.",
        "\n",
        "The margin does not count, because the margin is the space between the boxes."
      ]
    },
    {
      "cell_type": "markdown",
      "metadata": {},
      "source": [
        "### Box-sizing"
      ]
    },
    {
      "cell_type": "markdown",
      "metadata": {},
      "source": [
        "By default, the `box-sizing` property is set to `content-box`. This means that the width and height do not include the padding or the border. For example, if we have a `div` with some text, and we set a width and a height, the width and height will be applied, and the element will behave as if it were a block.",
        "\n",
        "```html\n",
        "<div>Text</div>",
        "```\n",
        "\n",
        "```css\n",
        "div {",
        "width: 100px;",
        "height: 100px;",
        "}",
        "```\n",
        "\n",
        "This way the `div` will have a width and height of 100px.",
        "\n",
        "But if we now apply a padding of 10px, the width and height will remain the same, but the box size will be 120px, because the padding is added to the width and height.",
        "\n",
        "```html\n",
        "<div>Text</div>",
        "```\n",
        "\n",
        "```css\n",
        "div {",
        "width: 100px;",
        "height: 100px;",
        "padding: 10px;",
        "It seems like you've provided an incomplete or incorrect Markdown structure. Could you please provide the full Markdown text for translation?",
        "```\n",
        "\n",
        "In this way, the `div` will have a width and height of 100px, but the box size will be 120px."
      ]
    },
    {
      "cell_type": "markdown",
      "metadata": {},
      "source": [
        "If we changed the `box-sizing` property to `border-box`, the width and height would include the padding and border. For example, if we have a `div` with some text, and we set a width and height, the width and height will be applied, and the element will behave as if it were a block.",
        "\n",
        "```html\n",
        "<div>Text</div>",
        "```\n",
        "\n",
        "```css\n",
        "div {",
        "width: 100px;",
        "height: 100px;",
        "box-sizing: border-box;",
        "}",
        "```\n",
        "\n",
        "This way the `div` will have a width and height of 100px.",
        "\n",
        "But if we now apply a padding of 10px, the width and height will remain, and the box size will also be 100px, because the padding is not added to the width and height.",
        "\n",
        "```html\n",
        "<div>Text</div>",
        "```\n",
        "\n",
        "```css\n",
        "div {",
        "width: 100px;",
        "height: 100px;",
        "box-sizing: border-box;",
        "padding: 10px;",
        "It seems like you didn't provide any Markdown text to translate. Please provide the Markdown text you want translated to English.",
        "```\n",
        "\n",
        "This way the `div` will have a width and height of 100px, and the box size will also be 100px.",
        "\n",
        "It's important to note that when the `box-sizing` property is changed to `border-box`, the width and height include the padding and border, so we cannot set a width and height smaller than the padding and border. For example, if we have a `div` with some text, and we set a width and height, the width and height will be applied, and the element will behave as if it were a block.",
        "\n",
        "```html\n",
        "<div>Text</div>",
        "```\n",
        "\n",
        "```css\n",
        "div {",
        "width: 100px;",
        "height: 100px;",
        "box-sizing: border-box;",
        "}",
        "```\n",
        "\n",
        "This way the `div` will have a width and height of 100px.",
        "\n",
        "But if we now apply a padding of 110px, the width and height will remain the same, but the box size will be 220px, because the padding is added to the width and height.",
        "\n",
        "```html\n",
        "<div>Text</div>",
        "```\n",
        "\n",
        "```css\n",
        "div {",
        "width: 100px;",
        "height: 100px;",
        "box-sizing: border-box;",
        "padding: 110px;",
        "}",
        "```\n",
        "\n",
        "In this way, the `div` will have a width and height of 100px, but the box size will be 220px."
      ]
    },
    {
      "cell_type": "markdown",
      "metadata": {},
      "source": [
        "### Overflow"
      ]
    },
    {
      "cell_type": "markdown",
      "metadata": {},
      "source": [
        "One of the most famous CSS memes is the following",
        "\n",
        "![CSS is awesome](https://css-tricks.com/wp-content/uploads/2021/04/css-is-awesome.jpg)",
        "\n",
        "And this happens when the content size is larger than the box size. For example, if we have a `div` with some text, and we set a width and height, the width and height will be applied, and the element will behave as if it were a block.",
        "\n",
        "```html\n",
        "<div>Text</div>",
        "```\n",
        "\n",
        "```css\n",
        "div {",
        "width: 100px;",
        "height: 100px;",
        "}",
        "```\n",
        "\n",
        "This way the `div` will have a width and height of 100px.",
        "\n",
        "But if we now apply a very long text, the text will overflow the box because the content size is larger than the box size.",
        "\n",
        "```html\n",
        "<div>Very long text</div>",
        "```\n",
        "\n",
        "```css\n",
        "div {",
        "width: 100px;",
        "height: 100px;",
        "It seems like you've provided an incomplete or incorrect Markdown text to translate. Could you please provide the full text you want translated?",
        "```\n",
        "\n",
        "This way the `div` will have a width and height of 100px, but the text will overflow the box."
      ]
    },
    {
      "cell_type": "markdown",
      "metadata": {},
      "source": [
        "This happened because in CSS the `overflow` property is set to `visible`. This means that the content can extend beyond the box. But we have other options:",
        "\n",
        "* `hidden`: The content cannot overflow the box and is clipped.",
        "* `scroll`: The content cannot overflow the box, and a scrollbar is added.",
        "* `auto`: The content cannot overflow the box, and a scrollbar is added if necessary. In this case, it depends on the device, because if the device has a scrollbar, a scrollbar will be added, and if the device does not have a scrollbar, no scrollbar will be added.",
        "\n",
        "Between `scroll` and `auto`, the recommended option is `auto`, because if the device has a scrollbar, it will add a scrollbar, and if the device does not have a scrollbar, it will not add a scrollbar.",
        "\n",
        "![aoverflow](https://lh3.googleusercontent.com/-tVNmvecB8A4/Ukqdi769oPI/AAAAAAAAAd0/kgisEf3RGRk/s538/CU01038D_1.png)"
      ]
    },
    {
      "cell_type": "markdown",
      "metadata": {},
      "source": [
        "### Overflow hidden"
      ]
    },
    {
      "cell_type": "markdown",
      "metadata": {},
      "source": [
        "In the case of choosing `hidden`, the content cannot overflow the box, and it gets clipped. In this case, we have the property `text-overflow`, which allows us to configure what happens with the text that overflows the box. The options are:",
        "\n",
        "* `clip`: The text is clipped.",
        "* `ellipsis`: The text is truncated, and `...` is added to the end of the text.",
        "\n",
        "In the future, a custom symbol will be able to be set, but for now it cannot."
      ]
    },
    {
      "cell_type": "markdown",
      "metadata": {},
      "source": [
        "#### Styling the Bar"
      ]
    },
    {
      "cell_type": "markdown",
      "metadata": {},
      "source": [
        "In case of overflow, the scrollbar can be styled, but it is recommended not to style the page's scrollbar and only do so for scrollbars of internal boxes. For example, if there is a sidebar index on the page, and we want to change the size and color of the scrollbar to make it look better, we can do that.",
        "\n",
        "At [scrollbar.app](https://scrollbar.app/) we have an editor to style the scrollbar and get the necessary code"
      ]
    },
    {
      "cell_type": "markdown",
      "metadata": {},
      "source": [
        "### Position"
      ]
    },
    {
      "cell_type": "markdown",
      "metadata": {},
      "source": [
        "In html elements are stacked, by default they are positioned statically, this is because by default in CSS they have the attribute `position` with the value `static`. This means that the element is positioned statically, and cannot be moved. The possible values are",
        "\n",
        "* `static`: The element is positioned statically and cannot be moved.",
        "* `relative`: The element is positioned relative to its normal position, and can be moved.",
        "* `absolute`: The element is positioned absolutely, and can be moved.",
        "* `fixed`: The element is positioned fixed and can be moved.",
        "* `sticky`: The element is positioned in a sticky manner and can move.",
        "\n",
        "![Position](https://miro.medium.com/v2/resize:fit:600/1*WU2bIP1OCaS71r82S5zFeA.jpeg)"
      ]
    },
    {
      "cell_type": "markdown",
      "metadata": {},
      "source": [
        "#### Position relative"
      ]
    },
    {
      "cell_type": "markdown",
      "metadata": {},
      "source": [
        "When we want an element's position to be relative to another, we use `position: relative;`. But we need to put `position: relative;` on the parent, and `position: absolute;` on the child. For example, if we have a `div` with some text, and we want the text to be in the top right corner of the `div`, we can do that.",
        "\n",
        "```html\n",
        "<div>",
        "<p>Text</p>",
        "</div>",
        "```\n",
        "\n",
        "```css\n",
        "div {",
        "position: relative;",
        "}",
        "\n",
        "p {",
        "position: absolute;",
        "top: 0;",
        "right: 50px;",
        "}",
        "```\n",
        "\n",
        "This way the text will be in the top right corner of the `div`."
      ]
    },
    {
      "cell_type": "markdown",
      "metadata": {},
      "source": [
        "#### Position absolute"
      ]
    },
    {
      "cell_type": "markdown",
      "metadata": {},
      "source": [
        "When the element is `absolute`, the element is positioned absolutely to the first parent element that is not `static`. In the previous example, we saw that if we have a `div` with some text, and we want the text to be in the top right corner of the `div`, we can do it.",
        "\n",
        "```html\n",
        "<div>",
        "<p>Text</p>",
        "</div>",
        "```\n",
        "\n",
        "```css\n",
        "div {",
        "position: relative;",
        "It seems like there might be some missing content in your request. Could you please provide the Markdown text that needs to be translated?",
        "\n",
        "p {",
        "position: absolute;",
        "top: 0;",
        "right: 50px;",
        "It seems like you have provided an incomplete or incorrect Markdown text to translate. Could you please provide the full text you want translated?",
        "```\n",
        "\n",
        "In this example, the `div` has `position: relative;`, so the `p` is positioned absolutely to the `div`, in the top right corner."
      ]
    },
    {
      "cell_type": "markdown",
      "metadata": {},
      "source": [
        "If there is no parent element that is not `static`, the element will be positioned absolutely to the `body`, that is, to the page.",
        "\n",
        "```html\n",
        "<p>Text</p>",
        "```\n",
        "\n",
        "```css\n",
        "p {",
        "position: absolute;",
        "top: 0;",
        "right: 50px;",
        "}",
        "```\n",
        "\n",
        "In this example, the `p` has no parent element that is not `static`, so the `p` is positioned absolutely with respect to the `body`. That is, at the top right of the page."
      ]
    },
    {
      "cell_type": "markdown",
      "metadata": {},
      "source": [
        "Thanks to the `relative` and `absolute` properties, we can center a `div` both horizontally and vertically. For example, if we have a `div` with some text, and we want the text to be centered both horizontally and vertically, we can do that.",
        "\n",
        "```html\n",
        "<div>",
        "<p>Text</p>",
        "</div>",
        "```\n",
        "\n",
        "```css\n",
        "div {",
        "position: relative;",
        "}",
        "\n",
        "p {",
        "position: absolute;",
        "top: 0;",
        "right: 0;",
        "bottom: 0;",
        "left: 0;",
        "margin: auto;",
        "It seems like you didn't provide any Markdown text to translate. Please provide the Markdown text you want to be translated into English.",
        "```\n",
        "\n",
        "In this example, the `div` has `position: relative;`, so the `p` is positioned absolutely to the `div`, in the top right corner. Additionally, the `p` has `top: 0;`, `right: 0;`, `bottom: 0;`, and `left: 0;`, so the `p` occupies the entire `div`. Finally, the `p` has `margin: auto;`, so the `p` is centered both horizontally and vertically.",
        "\n",
        "This is not the best way to center content in a `div`, but it can be very useful in some cases, such as in a modal."
      ]
    },
    {
      "cell_type": "markdown",
      "metadata": {},
      "source": [
        "#### Position fixed"
      ]
    },
    {
      "cell_type": "markdown",
      "metadata": {},
      "source": [
        "When the element is `fixed`, the element is positioned fixed to the window. It's similar to `absolute`, but instead of positioning itself relative to the first non-`static` parent element, it positions itself relative to the window. Additionally, if the window moves, the element moves with it, meaning that if you scroll, the element will always remain in the same position.",
        "\n",
        "For example, if we have a `div` with some text, and we want the text to be in the top right corner of the window, we can do it.",
        "\n",
        "```html\n",
        "<div>",
        "<p>Text</p>",
        "</div>",
        "```\n",
        "\n",
        "```css\n",
        "p {",
        "position: fixed;",
        "top: 0;",
        "right: 50px;",
        "}",
        "```\n",
        "\n",
        "In this example, the `p` is fixed to the window, in the upper right corner, and when scrolling, the `p` will always remain in the same position."
      ]
    },
    {
      "cell_type": "markdown",
      "metadata": {},
      "source": [
        "#### Position sticky"
      ]
    },
    {
      "cell_type": "markdown",
      "metadata": {},
      "source": [
        "When the element is `sticky`, the element is positioned in a sticky manner relative to the first parent element that is not `static`.",
        "\n",
        "It is similar to `relative`, but when the element reaches the top of the window, the element is positioned fixed to the window. Additionally, if the window moves, the element moves with it, meaning that if we scroll, the element will always remain in the same position.",
        "\n",
        "For example, if we have a `div` with some text, and we want the text to be in the top right corner of the `div`, we can do that.",
        "\n",
        "```html\n",
        "<div>",
        "<p>Text</p>",
        "</div>",
        "```\n",
        "\n",
        "```css\n",
        "div {",
        "position: relative;",
        "}",
        "\n",
        "p {",
        "position: sticky;",
        "top: 0;",
        "right: 50px;",
        "}",
        "```\n",
        "\n",
        "In this example, the `div` has `position: relative;`, so the `p` is positioned relatively to the `div`, in the top right corner. Additionally, the `p` has `top: 0;`, which means the `p` sticks to the `div`. That is, when the `p` reaches the top of the viewport, the `p` becomes fixed to the window.",
        "\n",
        "![sticky](https://miro.medium.com/v2/resize:fit:720/format:webp/1*kyrVMytQd1Dt19D0If5q3Q.gif)"
      ]
    },
    {
      "cell_type": "markdown",
      "metadata": {},
      "source": [
        "### Z-index"
      ]
    },
    {
      "cell_type": "markdown",
      "metadata": {},
      "source": [
        "As we have seen, when changing the `position` of an element, the element is positioned on top of other elements. Therefore, we need to have control over which element is or will be visible above the others. For this, we have the `z-index` property. By default, all elements have `z-index: auto;`, but we can change it. For example, if we have a `div` with some text, and we want the text to be on top of the `div`, we can do that.",
        "\n",
        "```html\n",
        "<div>",
        "<p>Text</p>",
        "</div>",
        "```\n",
        "\n",
        "```css\n",
        "div {",
        "position: relative;",
        "z-index: 0;",
        "It seems like you have not provided any Markdown text to translate. Could you please provide the text you want translated into English?",
        "\n",
        "p {",
        "position: absolute;",
        "top: 0;",
        "right: 50px;",
        "z-index: 1;",
        "}",
        "```\n",
        "\n",
        "In this example, the `div` has `position: relative;` and `z-index: 0;`, so the `div` is positioned relatively to the `div`, and the `div` has a `z-index` of 0. Additionally, the `p` has `position: absolute;`, `top: 0;`, `right: 50px;` and `z-index: 1;`, so the `p` is positioned absolutely to the `div`, in the top right corner, and the `p` has a `z-index` of 1. Therefore, the `p` will be on top of the `div`."
      ]
    },
    {
      "cell_type": "markdown",
      "metadata": {},
      "source": [
        "If the `z-index` is not specified, children have a higher `z-index` than their parents. However, for example, in the case of `position: sticky;`, the `z-index` of the child element is greater than that of its parent, but when scrolling, if at any point the child overlaps with another parent, the other parent will be on top.",
        "\n",
        "If we want that child to appear above the other parents, we can control it with the `z-index`.",
        "\n",
        "In the [CSS course by Google](https://web.dev/learn/css/z-index?hl=es-419) you can see very well how the `z-index` works."
      ]
    },
    {
      "cell_type": "markdown",
      "metadata": {},
      "source": [
        "## Flexbox and Grid"
      ]
    },
    {
      "cell_type": "markdown",
      "metadata": {},
      "source": [
        "There are two ways to create layouts in CSS, with `flexbox` and with `grid`. `Flexbox` is older, and `grid` is newer. `Flexbox` is one-dimensional, and `grid` is two-dimensional. `Flexbox` is for simple layouts, and `grid` is for complex layouts."
      ]
    },
    {
      "cell_type": "markdown",
      "metadata": {},
      "source": [
        "## Flexbox"
      ]
    },
    {
      "cell_type": "markdown",
      "metadata": {},
      "source": [
        "As we have seen, we have containers that have `display: block;`, and containers that have `display: inline;`. The former are displayed on different lines, and the latter are displayed on the same line. Therefore, if we have several `div`s they will be displayed one below the other, and if we have several `span`s they will be displayed on the same line.",
        "\n",
        "But if we want the `div`s to appear on the same line and also in a flexible manner, we can create a parent container that contains them and make the parent container have `display: flex;`.",
        "\n",
        "```html\n",
        "<section>",
        "<div>Text</div>",
        "<div>Text</div>",
        "<div>Text</div>",
        "</div>",
        "```\n",
        "\n",
        "```css\n",
        "section {",
        "display: flex;",
        "It seems like there was an issue with your request. Could you please provide the Markdown text you would like to be translated?",
        "```\n",
        "\n",
        "This way the `div`s will be displayed on the same line and also flexibly, meaning if they don't fit on the same line, they will move to the next line."
      ]
    },
    {
      "cell_type": "markdown",
      "metadata": {},
      "source": [
        "### Flex-direction"
      ]
    },
    {
      "cell_type": "markdown",
      "metadata": {},
      "source": [
        "`Flexbox` is one-dimensional, meaning that only one direction can be set. By default, the `flex-direction` property is set to `row`. This means that items are displayed on the same line. However, we can change it to `column`, so that items are displayed on different lines.",
        "\n",
        "```html\n",
        "<section>",
        "<div>Text</div>",
        "<div>Text</div>",
        "<div>Text</div>",
        "</section>",
        "```\n",
        "\n",
        "```css\n",
        "section {",
        "display: flex;",
        "flex-direction: column;",
        "It seems like you've provided an incomplete or incorrect Markdown text to translate. Could you please provide the full Markdown content so I can assist you with the translation?",
        "```\n",
        "\n",
        "This way the `div`s will be displayed on different lines.",
        "\n",
        "This is very useful for creating responsive layouts, because we can change the direction of the elements depending on the screen size."
      ]
    },
    {
      "cell_type": "markdown",
      "metadata": {},
      "source": [
        "We can also specify the direction sense with `flex-direction: row-reverse;` or `flex-direction: column-reverse;`. For example, if we have several `div`s and want them to be displayed in the same line but in reverse order, we can do so.",
        "\n",
        "```html\n",
        "<section>",
        "<div>Text</div>",
        "<div>Text</div>",
        "<div>Text</div>",
        "</section>",
        "```\n",
        "\n",
        "```css\n",
        "section {",
        "display: flex;",
        "flex-direction: row-reverse;",
        "}",
        "```\n",
        "\n",
        "This way the `div`s will be displayed on the same line, but in reverse order.",
        "\n",
        "This is very useful when we want to reverse the order of elements, for example, if we have a `ul` with a list and we want the list to be displayed in reverse order. This way, there's no need to program anything and it can be done with CSS."
      ]
    },
    {
      "cell_type": "markdown",
      "metadata": {},
      "source": [
        "![flex-direction](https://byteiota.com/wp-content/uploads/2020/11/flex-direction.png)"
      ]
    },
    {
      "cell_type": "markdown",
      "metadata": {},
      "source": [
        "### Direction"
      ]
    },
    {
      "cell_type": "markdown",
      "metadata": {},
      "source": [
        "Another way to indicate the direction sense is with the `direction` property. By default, the `direction` property is set to `ltr`. This means that the direction sense is from left to right. But we can change it to `rtl`, so that the direction sense is from right to left.",
        "\n",
        "```html\n",
        "<section>",
        "<div>Text</div>",
        "<div>Text</div>",
        "<div>Text</div>",
        "</section>",
        "```\n",
        "\n",
        "```css\n",
        "section {",
        "display: flex;",
        "direction: ltr;",
        "}",
        "```\n",
        "\n",
        "![direction](https://rtlstaging.com/img/flexbox-axis.jpg)"
      ]
    },
    {
      "cell_type": "markdown",
      "metadata": {},
      "source": [
        "### Flex-wrap"
      ]
    },
    {
      "cell_type": "markdown",
      "metadata": {},
      "source": [
        "When the elements don't fit on the same line, they are placed on the next line. But we can change this behavior with the `flex-wrap` property. By default, the `flex-wrap` property is set to `nowrap`. This means that the elements cannot be placed on the next line. However, we can change it to `wrap`, so that the elements can be placed on the next line.",
        "\n",
        "```html\n",
        "<section>",
        "<div>Text</div>",
        "<div>Text</div>",
        "<div>Text</div>",
        "</section>",
        "```\n",
        "\n",
        "```css\n",
        "section {",
        "display: flex;",
        "flex-wrap: wrap;",
        "}",
        "```\n",
        "\n",
        "This way the `div`s can be placed on the next line.",
        "\n",
        "![flex-wrap](https://static.platzi.com/media/user_upload/3-bc5be74e-4e40-438d-a2d9-b7a918f504fb.jpg)"
      ]
    },
    {
      "cell_type": "markdown",
      "metadata": {},
      "source": [
        "### Flex-flow"
      ]
    },
    {
      "cell_type": "markdown",
      "metadata": {},
      "source": [
        "One way to set the direction and wrapping of elements is with the `flex-flow` property. By default, the `flex-flow` property is set to `row nowrap`. This means that the items are displayed on the same line, and cannot be placed on the next line. However, we can change it to `row wrap`, so that the items are displayed on the same line, and can be placed on the next line.",
        "\n",
        "```html\n",
        "<section>",
        "<div>Text</div>",
        "<div>Text</div>",
        "<div>Text</div>",
        "</section>",
        "```\n",
        "\n",
        "```css\n",
        "section {",
        "display: flex;",
        "flex-flow: row wrap;",
        "}",
        "```\n",
        "\n",
        "This way the `div`s will be displayed on the same line, and can be placed on the next line.",
        "\n",
        "![flex-flow](https://i.stack.imgur.com/6vtqd.png)"
      ]
    },
    {
      "cell_type": "markdown",
      "metadata": {},
      "source": [
        "### Flex-grow, Flex-shrink and Flex-basis"
      ]
    },
    {
      "cell_type": "markdown",
      "metadata": {},
      "source": [
        "We can set the size of the items with the properties `flex-grow`, `flex-shrink`, and `flex-basis`.",
        "\n",
        "* `flex-grow`: Indicates whether the element can grow or not. By default, the `flex-grow` property is set to `0`, which means that the element cannot grow. However, we can change it to `1`, so that the element can grow.",
        "* `flex-shrink`: Indicates whether the element can shrink or not. By default, the `flex-shrink` property is set to `1`, which means the element can shrink. But we can change it to `0`, so that the element cannot shrink.",
        "* `flex-basis`: Indicates the size of the element. By default, the `flex-basis` property is set to `auto`, which means the element has an automatic size. But we can change it to `100px`, so that the element has a size of 100px.",
        "\n",
        "For example, if we have several `div`s, and we want the first `div` to have a size of 100px, and the others to share the remaining space, we can do that.",
        "\n",
        "```html\n",
        "<section>",
        "<div>Text</div>",
        "<div>Text</div>",
        "<div>Text</div>",
        "</section>",
        "```\n",
        "\n",
        "```css\n",
        "section {",
        "display: flex;",
        "}",
        "\n",
        "section div:first-child {",
        "flex-grow: 0;   /* Since it's 0 by default, there's no need to set it */",
        "flex-shrink: 0; /* As it defaults to 1, there's no need to set it */",
        "flex-basis: 100px;",
        "It seems like there was an issue with your request. Please provide the Markdown text you would like to be translated into English.",
        "\n",
        "section div {",
        "flex-grow: 1;",
        "flex-shrink: 1;     /* As it defaults to 1, there's no need to specify it */",
        "flex-basis: auto;   /* Since it defaults to auto, there's no need to specify it */",
        "It seems like you have not provided any Markdown text to translate yet. Please provide the Markdown text you want translated into English.",
        "```\n",
        "\n",
        "This way, the first `div` will have a size of 100px, and the others will share the remaining space."
      ]
    },
    {
      "cell_type": "markdown",
      "metadata": {},
      "source": [
        "\n",
        "The three values can be modified at once with the `flex` property. For example, if we have several `div`s, and we want the first `div` to have a size of 100px, and the others to share the remaining space, we can do this.",
        "\n",
        "```html\n",
        "<section>",
        "<div>Text</div>",
        "<div>Text</div>",
        "<div>Text</div>",
        "</section>",
        "```\n",
        "\n",
        "```css\n",
        "section {",
        "display: flex;",
        "It seems like you have not provided any Markdown text to translate yet. Please provide the Markdown text you want translated into English.",
        "\n",
        "section div:first-child {",
        "flex: 0 0 100px;",
        "It seems like you might have accidentally sent an incomplete or incorrect markdown text. Could you please provide the actual markdown content to be translated?",
        "\n",
        "section div {",
        "flex: 1 1 auto;",
        "It seems like you didn't provide any Markdown text to translate. Please provide the Markdown text you want translated to English.",
        "```\n",
        "\n",
        "This way, the first `div` will have a size of 100px, and the others will share the remaining space."
      ]
    },
    {
      "cell_type": "markdown",
      "metadata": {},
      "source": [
        "Or it can also be modified at once with `flex: initial;`, which is the same as `flex: 0 1 auto;`. Or with `flex: auto;`, which is the same as `flex: 1 1 auto;`. Or with `flex: none;`, which is the same as `flex: 0 0 auto;`. Or with `flex: 1;`, which is the same as `flex: 1 1 0%;`."
      ]
    },
    {
      "cell_type": "markdown",
      "metadata": {},
      "source": [
        "Another way to modify `flex` is by using numbers, which will indicate the relative space of the container. For example, if we have several `div`s and we want the first one to have twice the space of the second, and the second to have twice the space of the third, we can do that.",
        "\n",
        "```html\n",
        "<section>",
        "<div>Text</div>",
        "<div>Text</div>",
        "<div>Text</div>",
        "</section>",
        "```\n",
        "\n",
        "```css\n",
        "section {",
        "display: flex;",
        "}",
        "\n",
        "section div:first-child {",
        "flex: 4;",
        "}",
        "\n",
        "section div:nth-child(2) {",
        "flex: 4;",
        "}",
        "\n",
        "section div:nth-child(3) {",
        "flex: 1;",
        "}",
        "```\n",
        "\n",
        "This way, the first `div` will have twice the space of the second, and the second will have twice the space of the third."
      ]
    },
    {
      "cell_type": "markdown",
      "metadata": {},
      "source": [
        "### Order"
      ]
    },
    {
      "cell_type": "markdown",
      "metadata": {},
      "source": [
        "We can order the elements inside a container with the `order` property. By default, the `order` property is set to `0`. But we can change it to `1`, so that the element appears after the elements that have `order: 0;`. Or we can change it to `-1`, so that the element appears before the elements that have `order: 0;`.",
        "\n",
        "It's like `z-index`, but for the order of elements. The higher the `order`, the later the element will be placed. For example, if we have several `div`s and want the first `div` to come after the second, we can do that.",
        "\n",
        "```html\n",
        "<section>",
        "<div>Text 1</div>",
        "<div>Text 2</div>",
        "<div>Text 3</div>",
        "</section>",
        "```\n",
        "\n",
        "```css\n",
        "section {",
        "display: flex;",
        "}",
        "\n",
        "section div:first-child {",
        "order: 1;",
        "}",
        "\n",
        "section div {",
        "order: 0;",
        "It seems like you've provided an incomplete or incorrect Markdown text to translate. Please provide the full Markdown text you want translated into English.",
        "```\n",
        "\n",
        "The result will be",
        "\n",
        "Text 2",
        "\n",
        "Text 3",
        "\n",
        "Text 1",
        "\n",
        "![order](https://p6-juejin.byteimg.com/tos-cn-i-k3u1fbpfcp/8a7d45de6a88466ca3f98f4f0505f4d7~tplv-k3u1fbpfcp-zoom-in-crop-mark:1512:0:0:0.awebp)"
      ]
    },
    {
      "cell_type": "markdown",
      "metadata": {},
      "source": [
        "### Justify-content"
      ]
    },
    {
      "cell_type": "markdown",
      "metadata": {},
      "source": [
        "As `Flexbox` is one-dimensional, we can configure the justification of the container's elements along the `Flexbox` axis of the container. That is, if the `Flexbox` axis of the container is horizontal, we can configure the justification of the container's elements on the horizontal axis. And if the `Flexbox` axis of the container is vertical, we can configure the justification of the container's elements on the vertical axis.",
        "\n",
        "The possible values are:",
        "\n",
        "* `flex-start`: The items are justified to the beginning of the `Flexbox` container's axis.",
        "* `flex-end`: The items are justified to the end of the `Flexbox` container's main axis.",
        "* `center`: The items are justified to the center of the `Flexbox` container's axis.",
        "* `space-between`: The elements are justified with the same space between them. No space is left on the sides of the first and last element.",
        "* `space-around`: The elements are justified with the same space around them.",
        "* `space-evenly`: The elements are justified with the same space between them and around them. That is, it is similar to `space-between`, but space is left on the sides of the first and last element. The space on the sides is the same as the space between the elements.",
        "\n",
        "![justify-content](https://css-tricks.com/wp-content/uploads/2018/10/justify-content.svg)"
      ]
    },
    {
      "cell_type": "markdown",
      "metadata": {},
      "source": [
        "### Gap"
      ]
    },
    {
      "cell_type": "markdown",
      "metadata": {},
      "source": [
        "Suppose we have several elements inside a container and we've set `justify-content: center;`. This will make the elements centered in the container, but they will be touching each other. If we want there to be space between the elements, we can set `gap: 10px;`. This way, there will be a 10px gap between the elements.",
        "\n",
        "```html\n",
        "<section>",
        "<div>Text 1</div>",
        "<div>Text 2</div>",
        "<div>Text 3</div>",
        "</section>",
        "```\n",
        "\n",
        "```css\n",
        "section {",
        "display: flex;",
        "justify-content: center;",
        "gap: 10px;",
        "}",
        "```\n",
        "\n",
        "I'm unable to view or interpret images directly. However, if you can describe the image or provide details about it, I'd be happy to help you with any questions or information you're looking for!"
      ]
    },
    {
      "cell_type": "markdown",
      "metadata": {},
      "source": [
        "### Align-items"
      ]
    },
    {
      "cell_type": "markdown",
      "metadata": {},
      "source": [
        "So far we have seen how to distribute elements along the main axis of the `Flexbox`. But what about the cross axis? For that, we have the `align-items` property. This property allows us to align items along the cross axis of the `Flexbox`.",
        "\n",
        "```html\n",
        "<section>",
        "<div>Text 1</div>",
        "<div>Text 2</div>",
        "<div>Text 3</div>",
        "</section>",
        "```\n",
        "\n",
        "```css\n",
        "section {",
        "display: flex;",
        "align-items: center;",
        "}",
        "```\n",
        "\n",
        "![align-items](https://css-tricks.com/wp-content/uploads/2018/10/align-items.svg)"
      ]
    },
    {
      "cell_type": "markdown",
      "metadata": {},
      "source": [
        "### Align-content"
      ]
    },
    {
      "cell_type": "markdown",
      "metadata": {},
      "source": [
        "With `align-content` we can align the content of the container on the cross axis. This property is similar to `align-items`, but instead of aligning the items, it aligns the content of the container.",
        "\n",
        "```html\n",
        "<section>",
        "<div>Text 1</div>",
        "<div>Text 2</div>",
        "<div>Text 3</div>",
        "</section>",
        "```\n",
        "\n",
        "```css\n",
        "section {",
        "display: flex;",
        "align-content: center;",
        "flex-wrap: wrap;",
        "height: 200px;",
        "}",
        "```\n",
        "\n",
        "![align-content](https://css-tricks.com/wp-content/uploads/2018/10/align-content.svg)"
      ]
    },
    {
      "cell_type": "markdown",
      "metadata": {},
      "source": [
        "### Align-content vs Align-items"
      ]
    },
    {
      "cell_type": "markdown",
      "metadata": {},
      "source": [
        "As there can be confusion between `align-content` and `align-items`, let's look at an example to see the difference between these properties.",
        "\n",
        "```html\n",
        "<section>",
        "<div>Text 1</div>",
        "<div>Text 2</div>",
        "<div>Text 3</div>",
        "<div>Text 4</div>",
        "<div>Text 5</div>",
        "<div>Text 6</div>",
        "<div>Text 7</div>",
        "<div>Text 8</div>",
        "<div>Text 9</div>",
        "</section>",
        "```\n",
        "\n",
        "```css\n",
        "section {",
        "display: flex;",
        "align-items: center;",
        "align-content: center;",
        "flex-wrap: wrap;",
        "height: 200px;",
        "It seems like you might have accidentally sent an incomplete or incorrect Markdown text. Could you please provide the actual Markdown content that needs to be translated?",
        "```\n",
        "\n",
        "With `align-items` we align the items along the cross axis, while with `align-content` we align the content of the container along the cross axis. That is, with `align-items` we align the items relative to each other, whereas with `align-content` we align the content of the container. In the previous example, we can see that with `align-items` the items are aligned relative to each other, while with `align-content` the content of the container is aligned along the cross axis."
      ]
    },
    {
      "cell_type": "markdown",
      "metadata": {},
      "source": [
        "### Align-self"
      ]
    },
    {
      "cell_type": "markdown",
      "metadata": {},
      "source": [
        "Sometimes we need to align an element on the cross axis differently from the rest of the elements. For this, we have the `align-self` property. This property allows us to align an element on the cross axis differently from the rest of the elements.",
        "\n",
        "So far we aligned the elements in the parent, but with `align-self` we can align an element on the cross axis differently from the other elements.",
        "\n",
        "```html\n",
        "<section>",
        "<div>Text 1</div>",
        "<div>Text 2</div>",
        "<div>Text 3</div>",
        "</section>",
        "```\n",
        "\n",
        "```css\n",
        "section {",
        "display: flex;",
        "align-items: center;",
        "}",
        "\n",
        "section div:nth-child(2) {",
        "align-self: flex-end;",
        "}",
        "```\n",
        "\n",
        "![align-self](https://css-tricks.com/wp-content/uploads/2018/10/align-self.svg)"
      ]
    },
    {
      "cell_type": "markdown",
      "metadata": {},
      "source": [
        "### Flexbox Practice"
      ]
    },
    {
      "cell_type": "markdown",
      "metadata": {},
      "source": [
        "A good resource to practice Flexbox is [Flexbox Froggy](https://flexboxfroggy.com/#es)."
      ]
    },
    {
      "cell_type": "markdown",
      "metadata": {},
      "source": [
        "## Grid"
      ]
    },
    {
      "cell_type": "markdown",
      "metadata": {},
      "source": [
        "If we need to create a more complex layout, we can use `Grid`. `Grid` is a two-dimensional grid system that allows us to create more complex layouts than with `Flexbox`.",
        "\n",
        "![grid](https://miro.medium.com/v2/resize:fit:860/1*FifZUGz97Onmb7RUOairbg.png)"
      ]
    },
    {
      "cell_type": "markdown",
      "metadata": {},
      "source": [
        "### Grid container"
      ]
    },
    {
      "cell_type": "markdown",
      "metadata": {},
      "source": [
        "Let's see an example of how to layout with `Grid`. For this, we will use the following HTML structure.",
        "\n",
        "```html\n",
        "<section>",
        "<div>Text 1</div>",
        "<div>Text 2</div>",
        "<div>Text 3</div>",
        "<div>Text 4</div>",
        "<div>Text 5</div>",
        "<div>Text 6</div>",
        "<div>Text 7</div>",
        "<div>Text 8</div>",
        "<div>Text 9</div>",
        "</section>",
        "```\n",
        "\n",
        "To create a `Grid`, we need to create a container with the property `display: grid`, remember that by default containers have `display: block` by default. This container is known as the `Grid container`.",
        "\n",
        "```css\n",
        "section {",
        "display: grid;",
        "}",
        "```\n",
        "\n",
        "This code will create a `Grid` with a single column and as many rows as we have items."
      ]
    },
    {
      "cell_type": "markdown",
      "metadata": {},
      "source": [
        "If we want to change the number of columns, we can use the `grid-template-columns` property. This property allows us to define the number of columns our `Grid` will have. To define the number of columns, we can use units of measurement such as `px`, `em`, `rem`, `fr`, etc.",
        "\n",
        "As many columns as defined measurement units will be created. In the following example, we will create 3 columns of 100px each.",
        "\n",
        "```css\n",
        "section {",
        "display: grid;",
        "grid-template-columns: 100px 100px 100px;",
        "}",
        "```\n",
        "\n",
        "With this example, we have created a `Grid` with 3 columns, each 100px wide."
      ]
    },
    {
      "cell_type": "markdown",
      "metadata": {},
      "source": [
        "We can define the width of one of the columns with `auto` and the rest with a measure, this way the column with `auto` will adapt to the content, while the other columns will have the width we have defined.",
        "\n",
        "When setting `auto`, the browser will decide the column width based on the space available in the container and the space occupied by the column content.",
        "\n",
        "```css\n",
        "section {",
        "display: grid;",
        "grid-template-columns: auto 100px 100px;",
        "}",
        "```\n",
        "\n",
        "The first column will adjust to the content, while the other two will have a width of 100px.",
        "\n",
        "If we define two columns with `auto`, the browser will distribute the space between the two columns, but it doesn't have to be the same space for each column, since, as we've said, the space will depend on the container's space and the content's space.",
        "\n",
        "```css\n",
        "section {",
        "display: grid;",
        "grid-template-columns: auto auto 100px;",
        "}",
        "```\n",
        "\n",
        "In this example, the first two columns will adjust to the content, while the third will have a width of 100px."
      ]
    },
    {
      "cell_type": "markdown",
      "metadata": {},
      "source": [
        "### Fraction"
      ]
    },
    {
      "cell_type": "markdown",
      "metadata": {},
      "source": [
        "There is a unit of measurement that only exists in `Grid` and it is `fr`. This unit of measurement allows us to define the width of the columns based on the available space in the container.",
        "\n",
        "```css\n",
        "section {",
        "display: grid;",
        "grid-template-columns: 1fr 1fr 1fr;",
        "}",
        "```\n",
        "\n",
        "In this example, the three columns will have the same width, as the available space in the container will be distributed among the three columns.",
        "\n",
        "```css\n",
        "section {",
        "display: grid;",
        "grid-template-columns: 1fr 2fr 1fr;",
        "}",
        "```\n",
        "\n",
        "In this example, the second column will be twice as wide as the other two, since the available space in the container will be distributed among the three columns, but the second column will have twice as much space as the other two."
      ]
    },
    {
      "cell_type": "markdown",
      "metadata": {},
      "source": [
        "We can do the same with rows, for this we use the `grid-template-rows` property.",
        "\n",
        "```css\n",
        "section {",
        "display: grid;",
        "grid-template-columns: 1fr 2fr 1fr;",
        "grid-template-rows: 1fr 2fr 1fr;",
        "It seems like there was an issue with your message. Could you please provide the Markdown text you would like translated to English?",
        "```"
      ]
    },
    {
      "cell_type": "markdown",
      "metadata": {},
      "source": [
        "### Empty Grid"
      ]
    },
    {
      "cell_type": "markdown",
      "metadata": {},
      "source": [
        "We have said that we can divide the `Grid` into columns and rows, for which we set as many units of measurement as columns or rows we want. But what happens if we set more units of measurement than we need.",
        "\n",
        "```html\n",
        "<section>",
        "<div>Text 1</div>",
        "<div>Text 2</div>",
        "<div>Text 3</div>",
        "<div>Text 4</div>",
        "<div>Text 5</div>",
        "<div>Text 6</div>",
        "<div>Text 7</div>",
        "<div>Text 8</div>",
        "<div>Text 9</div>",
        "</section>",
        "```\n",
        "\n",
        "```css\n",
        "section {",
        "display: grid;",
        "grid-template-columns: 1fr 1fr 1fr 1fr;",
        "grid-template-rows: 1fr 1fr 1fr 1fr;",
        "}",
        "```\n",
        "\n",
        "In this example, a `Grid` with 4 columns and 4 rows will be created, but we only have 9 elements, while we have created a grid of 16 elements. What happens to the 7 extra elements? The browser creates them as empty."
      ]
    },
    {
      "cell_type": "markdown",
      "metadata": {},
      "source": [
        "### Grid-auto-rows"
      ]
    },
    {
      "cell_type": "markdown",
      "metadata": {},
      "source": [
        "If when creating the `Grid` we only define the value of `grid-template-columns`, the browser will create the necessary rows for the columns we have defined, but it will create them with the default size, that is, the size of the content.",
        "\n",
        "If we want to define the size of the rows, we can use the `grid-auto-rows` property. This property allows us to define the size of the rows that are created by default.",
        "\n",
        "```css\n",
        "section {",
        "display: grid;",
        "grid-template-columns: 1fr 1fr 1fr 1fr;",
        "grid-auto-rows: 100px;",
        "It seems like you might have intended to provide a Markdown text for translation but didn't include it. Could you please provide the Markdown text you want translated?",
        "```\n",
        "\n",
        "In this example, a `Grid` will be created with 4 columns and as many rows as we have items, but the row size will be 100px."
      ]
    },
    {
      "cell_type": "markdown",
      "metadata": {},
      "source": [
        "Suppose we have also defined `grid-template-rows`, but we have defined the size of the first rows and not all the necessary rows. With `grid-auto-rows`, we can define the size of the missing rows.",
        "\n",
        "```css\n",
        "section {",
        "display: grid;",
        "grid-template-columns: 1fr 1fr 1fr 1fr;",
        "grid-template-rows: 100px 100px;",
        "grid-auto-rows: 50px;",
        "}",
        "```\n",
        "\n",
        "In this example, a `Grid` will be created with 4 columns and as many rows as we have items, but the size of the first two rows will be 100px, while the size of the remaining rows will be 50px.",
        "\n",
        "This is very useful when we don't know how many elements we are going to have, since we can define the size of the first rows and the size of the rows that are created by default."
      ]
    },
    {
      "cell_type": "markdown",
      "metadata": {},
      "source": [
        "### Repeat"
      ]
    },
    {
      "cell_type": "markdown",
      "metadata": {},
      "source": [
        "Let's imagine we want to create a `Grid` with 100 columns and all of the same size. We would have to write the unit of measurement we want to use 100 times. To avoid this, we can use the `repeat` property.",
        "\n",
        "```css\n",
        "section {",
        "display: grid;",
        "grid-template-columns: repeat(100, 1fr);",
        "It seems like you've only provided a closing brace `}` without any Markdown content to translate. Could you please provide the full text you'd like translated?",
        "```\n",
        "\n",
        "With `repeat` we can define the number of columns we want and the unit of measurement we want to use."
      ]
    },
    {
      "cell_type": "markdown",
      "metadata": {},
      "source": [
        "We can use `repeat` with subparts of the grid. For example, imagine we want to create 100 columns again, but we want the first and last columns to have a width of 100px and the rest of the columns to have a width of 1fr.",
        "\n",
        "```css\n",
        "section {",
        "display: grid;",
        "grid-template-columns: 100px repeat(98, 1fr) 100px;",
        "}",
        "```"
      ]
    },
    {
      "cell_type": "markdown",
      "metadata": {},
      "source": [
        "Now suppose we have a column pattern that repeats every 3 columns. We can use `repeat` to define this pattern.",
        "\n",
        "```css\n",
        "section {",
        "display: grid;",
        "grid-template-columns: repeat(3, 100px 1fr);",
        "}",
        "```\n",
        "\n",
        "This way we create a grid of 6 columns, where the pattern repeats every 2 columns."
      ]
    },
    {
      "cell_type": "markdown",
      "metadata": {},
      "source": [
        "### minmax"
      ]
    },
    {
      "cell_type": "markdown",
      "metadata": {},
      "source": [
        "Maybe we don't know the exact size of a row or a column, but what we want is for it to occupy a size between a minimum and a maximum. For this, we can use the `minmax` property.",
        "\n",
        "```css\n",
        "section {",
        "display: grid;",
        "grid-template-columns: minmax(100px, 1fr) 1fr 1fr 1fr;",
        "}",
        "```\n",
        "\n",
        "In this example, we want each column to have 25% of the container's width, but the first column should have a minimum width of 100px. That is, if the space occupied by the first column is less than 100px, the column will have a width of 100px, but if the space occupied by the first column is greater than 100px, the column will have a width of 25% of the container.",
        "\n",
        "This is very useful, for example, when we have a sidebar index and we want it to occupy a minimum width, but if the available space is larger, it should take up the corresponding space.",
        "\n",
        "```html\n",
        "<div>",
        "<aside>Index</aside>",
        "<main>Content</main>",
        "</div>",
        "```\n",
        "\n",
        "```css\n",
        "div {",
        "display: grid;",
        "grid-template-columns: minmax(100px, 1fr) 5fr;",
        "It seems like you've only provided a closing brace `}` without any Markdown content to translate. Could you please provide the actual text in Markdown format that needs translation?",
        "```\n",
        "\n",
        "This way, the index will have a minimum width of 100px, but if the available space is larger, the index will occupy the corresponding space."
      ]
    },
    {
      "cell_type": "markdown",
      "metadata": {},
      "source": [
        "### Grid-column-gap and Grid-row-gap"
      ]
    },
    {
      "cell_type": "markdown",
      "metadata": {},
      "source": [
        "If we want to add space between the columns or between the rows, we can use the `grid-column-gap` and `grid-row-gap` properties.",
        "\n",
        "```css\n",
        "section {",
        "display: grid;",
        "grid-template-columns: repeat(3, 100px);",
        "grid-column-gap: 20px;",
        "It seems like you have not provided any Markdown text to translate. Please provide the Markdown text you want translated into English.",
        "```\n",
        "\n",
        "In this example, we have created a `Grid` with 3 columns of 100px each and a space of 20px between the columns.",
        "\n",
        "```css\n",
        "section {",
        "display: grid;",
        "grid-template-columns: repeat(3, 100px);",
        "grid-row-gap: 20px;",
        "}",
        "```\n",
        "\n",
        "In this example, we have created a `Grid` with 3 columns of 100px each and a spacing of 20px between the rows."
      ]
    },
    {
      "cell_type": "markdown",
      "metadata": {},
      "source": [
        "We can define the space between columns and rows with the `grid-gap` property.",
        "\n",
        "```css\n",
        "section {",
        "display: grid;",
        "grid-template-columns: repeat(3, 100px);",
        "grid-gap: 20px 10px;",
        "It seems like there might be some missing content in your request. Could you please provide the Markdown text that needs to be translated?",
        "```\n",
        "\n",
        "In this example, we have created a `Grid` with 3 columns of 100px each and a space of 20px between the columns and a space of 10px between the rows.",
        "\n",
        "```css\n",
        "section {",
        "display: grid;",
        "grid-template-columns: repeat(3, 100px);",
        "grid-gap: 20px;",
        "}",
        "```\n",
        "\n",
        "In this example, we have created a `Grid` with 3 columns of 100px each and a spacing of 20px between the columns and rows."
      ]
    },
    {
      "cell_type": "markdown",
      "metadata": {},
      "source": [
        "### Auto-fill and Auto-fit"
      ]
    },
    {
      "cell_type": "markdown",
      "metadata": {},
      "source": [
        "With `auto-fill` and `auto-fit` we can create a `Grid` with a number of columns or rows that adapt to the available space in the container, thus making the `Grid` responsive.",
        "\n",
        "```css\n",
        "section {",
        "display: grid;",
        "grid-template-columns: repeat(auto-fill, 100px);",
        "It seems like you didn't provide any Markdown text to translate. Please provide the Markdown text you want translated to English.",
        "```\n",
        "\n",
        "In this example, as many columns as can fit in the container will be created, but each column will have a width of 100px.",
        "\n",
        "```css\n",
        "section {",
        "display: grid;",
        "grid-template-columns: repeat(auto-fit, 100px);",
        "}",
        "```\n",
        "\n",
        "In this example, as many columns as can fit in the container will be created, but each column will have a width of 100px and if there is extra space in the container, the space will be distributed among the columns."
      ]
    },
    {
      "cell_type": "markdown",
      "metadata": {},
      "source": [
        "Now we can make it more complete",
        "\n",
        "```css\n",
        "section {",
        "display: grid;",
        "grid-template-columns: repeat(auto-fit, minmax(100px, 1fr));",
        "}",
        "```\n",
        "\n",
        "In this example, as many columns as can fit in the container will be created, but each column will have a minimum width of 100px, and if there is extra space in the container, it will be distributed among the columns. As we make the browser smaller, the columns will adapt to the available space until a point is reached where they would need to be narrower than 100px to fit, at which point a column will be removed and the space will be redistributed among the remaining columns.",
        "\n",
        "```css\n",
        "section {",
        "display: grid;",
        "grid-template-columns: repeat(auto-fit, minmax(100px, 1fr));",
        "grid-gap: 20px;",
        "}",
        "```\n",
        "\n",
        "In this example, as many columns as can fit in the container will be created, but each column will have a minimum width of 100px and if there is extra space in the container, the space will be distributed among the columns and there will be a 20px gap between the columns."
      ]
    },
    {
      "cell_type": "markdown",
      "metadata": {},
      "source": [
        "### Auto-fill vs Auto-fit"
      ]
    },
    {
      "cell_type": "markdown",
      "metadata": {},
      "source": [
        "The difference between `auto-fill` and `auto-fit` is that `auto-fill` creates as many columns or rows as can fit in the container, while `auto-fit` creates as many columns or rows as can fit in the container, but if there is extra space in the container, the space will be distributed among the columns or rows.",
        "\n",
        "That is, `auto-fill` creates as many columns or rows as can fit in the container, but if there is extra space in the container, the space will not be distributed among the columns or rows, while `auto-fit` creates as many columns or rows as can fit in the container, but if there is extra space in the container, the space will be distributed among the columns or rows."
      ]
    },
    {
      "cell_type": "markdown",
      "metadata": {},
      "source": [
        "### Grid-column-start and Grid-column-end (bento grid)"
      ]
    },
    {
      "cell_type": "markdown",
      "metadata": {},
      "source": [
        "So far we have seen how to create a `Grid` with columns and rows, but what if we want an element to span more than one column or row? For this, we have the properties `grid-column-start` and `grid-column-end`.",
        "\n",
        "```html\n",
        "<section>",
        "<div>Text 1</div>",
        "<div>Text 2</div>",
        "<div>Text 3</div>",
        "<div>Text 4</div>",
        "<div>Text 5</div>",
        "<div>Text 6</div>",
        "<div>Text 7</div>",
        "<div>Text 8</div>",
        "<div>Text 9</div>",
        "</section>",
        "```\n",
        "\n",
        "```css\n",
        "section {",
        "display: grid;",
        "grid-template-columns: repeat(3, 100px);",
        "grid-gap: 20px;",
        "}",
        "\n",
        "section div:nth-child(2) {",
        "grid-column-start: 1;",
        "grid-column-end: 3;",
        "}",
        "```\n",
        "\n",
        "In this example, we have created a `Grid` with 3 columns of 100px each and a space of 20px between the columns. The second element spans from the first column to the third column."
      ]
    },
    {
      "cell_type": "markdown",
      "metadata": {},
      "source": [
        "We can also specify the start and end of the column with the `grid-column` property.",
        "\n",
        "```css\n",
        "section {",
        "display: grid;",
        "grid-template-columns: repeat(3, 100px);",
        "grid-gap: 20px;",
        "}",
        "\n",
        "section div:nth-child(2) {",
        "grid-column: 1 / 3;",
        "}",
        "```\n",
        "\n",
        "In this example, we have created a `Grid` with 3 columns of 100px each and a space of 20px between the columns. The second element spans from the first column to the third column."
      ]
    },
    {
      "cell_type": "markdown",
      "metadata": {},
      "source": [
        "If we don't want to tell it where to end, but rather how many columns we want it to occupy, we can use the `span` property.",
        "\n",
        "```css\n",
        "section {",
        "display: grid;",
        "grid-template-columns: repeat(3, 100px);",
        "grid-gap: 20px;",
        "It seems like you didn't provide any Markdown text to translate. Please provide the Markdown text you want translated to English.",
        "\n",
        "section div:nth-child(2) {",
        "grid-column-start: 1;",
        "grid-column-end: span 2;",
        "}",
        "```\n",
        "\n",
        "In this example, we have created a `Grid` with 3 columns of 100px each and a space of 20px between the columns. The second element spans from the first column to the second column, meaning it occupies two columns."
      ]
    },
    {
      "cell_type": "markdown",
      "metadata": {},
      "source": [
        "If we want to position them at the end, but don't know how many columns there are, we can use negative numbers.",
        "\n",
        "```css\n",
        "section {",
        "display: grid;",
        "grid-template-columns: repeat(3, 100px);",
        "grid-gap: 20px;",
        "}",
        "\n",
        "section div:nth-child(2) {",
        "grid-column-start: 1;",
        "grid-column-end: -1;",
        "}",
        "```\n",
        "\n",
        "In this example, we have created a `Grid` with 3 columns of 100px each and a space of 20px between the columns. The second element spans from the first column to the last column, meaning it occupies all three columns."
      ]
    },
    {
      "cell_type": "markdown",
      "metadata": {},
      "source": [
        "### Grid-row-start and Grid-row-end (bento grid)"
      ]
    },
    {
      "cell_type": "markdown",
      "metadata": {},
      "source": [
        "We can do the same with rows, for which we have the properties `grid-row-start` and `grid-row-end`.",
        "\n",
        "```html\n",
        "<section>",
        "<div>Text 1</div>",
        "<div>Text 2</div>",
        "<div>Text 3</div>",
        "<div>Text 4</div>",
        "<div>Text 5</div>",
        "<div>Text 6</div>",
        "<div>Text 7</div>",
        "<div>Text 8</div>",
        "<div>Text 9</div>",
        "</section>",
        "```\n",
        "\n",
        "```css\n",
        "section {",
        "display: grid;",
        "grid-template-columns: repeat(3, 100px);",
        "grid-gap: 20px;",
        "It seems like you didn't provide any Markdown text to translate. Please provide the Markdown text you want translated to English.",
        "\n",
        "section div:nth-child(2) {",
        "grid-row-start: 1;",
        "grid-row-end: 3;",
        "}",
        "```\n",
        "\n",
        "In this example, we have created a `Grid` with 3 columns of 100px each and a space of 20px between the columns. The second element spans from the first row to the third row."
      ]
    },
    {
      "cell_type": "markdown",
      "metadata": {},
      "source": [
        "We can also specify the start and end of the row with the `grid-row` property.",
        "\n",
        "```css\n",
        "section {",
        "display: grid;",
        "grid-template-columns: repeat(3, 100px);",
        "grid-gap: 20px;",
        "It seems like you've provided an incomplete or incorrect Markdown text to translate. Could you please provide the correct Markdown content? I'll translate it to English for you.",
        "\n",
        "section div:nth-child(2) {",
        "grid-row: 1 / 3;",
        "It seems like there was an issue with the input. Please provide the Markdown text you would like to be translated to English.",
        "```"
      ]
    },
    {
      "cell_type": "markdown",
      "metadata": {},
      "source": [
        "Just like before, if we don't want to tell it where to end, but rather how many rows we want it to occupy, we can use the `span` property.",
        "\n",
        "```css\n",
        "section {",
        "display: grid;",
        "grid-template-columns: repeat(3, 100px);",
        "grid-gap: 20px;",
        "It seems like you might have accidentally sent an incomplete or incorrect markdown text. Could you please provide the full markdown text for translation?",
        "\n",
        "section div:nth-child(2) {",
        "grid-row-start: 1;",
        "grid-row-end: span 2;",
        "It seems like you have not provided any Markdown text to translate yet. Please provide the Markdown text you would like translated into English.",
        "```\n",
        "\n",
        "In this example, we have created a `Grid` with 3 columns of 100px each and a spacing of 20px between the columns. The second element spans from the first row to the second row, meaning it occupies two rows."
      ]
    },
    {
      "cell_type": "markdown",
      "metadata": {},
      "source": [
        "If we want to position them at the end, but don't know how many rows there are, we can use negative numbers.",
        "\n",
        "```css\n",
        "section {",
        "display: grid;",
        "grid-template-columns: repeat(3, 100px);",
        "grid-gap: 20px;",
        "}",
        "\n",
        "section div:nth-child(2) {",
        "grid-row-start: 1;",
        "grid-row-end: -1;",
        "}",
        "```\n",
        "\n",
        "In this example, we have created a `Grid` with 3 columns of 100px each and a space of 20px between the columns. The second element spans from the first row to the last row, meaning it occupies all three rows."
      ]
    },
    {
      "cell_type": "markdown",
      "metadata": {},
      "source": [
        "### Element Overlapping"
      ]
    },
    {
      "cell_type": "markdown",
      "metadata": {},
      "source": [
        "We can position elements so that they overlap each other.",
        "\n",
        "```html\n",
        "<section>",
        "<div>Text 1</div>",
        "<div>Text 2</div>",
        "<div>Text 3</div>",
        "<div>Text 4</div>",
        "<div>Text 5</div>",
        "<div>Text 6</div>",
        "<div>Text 7</div>",
        "<div>Text 8</div>",
        "<div>Text 9</div>",
        "</section>",
        "```\n",
        "\n",
        "```css\n",
        "section {",
        "display: grid;",
        "grid-template-columns: repeat(3, 100px);",
        "grid-gap: 20px;",
        "}",
        "\n",
        "section div:first-child {",
        "grid-column-start: 1;",
        "grid-column-end: 2;",
        "grid-row-start: 1;",
        "grid-row-end: 2;",
        "}",
        "\n",
        "section div:nth-child(2) {",
        "grid-column-start: 1;",
        "grid-column-end: 2;",
        "grid-row-start: 1;",
        "grid-row-end: 2;",
        "It seems like you didn't provide any Markdown text to translate. Please provide the Markdown text you want translated to English.",
        "```\n",
        "\n",
        "In this example, we have created a `Grid` with 3 columns of 100px each and a 20px gap between the columns. The first element spans from the first column to the second column and from the first row to the second row. The second element spans from the first column to the second column and from the first row to the second row."
      ]
    },
    {
      "cell_type": "markdown",
      "metadata": {},
      "source": [
        "To control which of the elements overlaps the other, we can use the `z-index` property.",
        "\n",
        "```css\n",
        "section {",
        "display: grid;",
        "grid-template-columns: repeat(3, 100px);",
        "grid-gap: 20px;",
        "}",
        "\n",
        "section div:first-child {",
        "grid-column-start: 1;",
        "grid-column-end: 2;",
        "grid-row-start: 1;",
        "grid-row-end: 2;",
        "z-index: 1;",
        "}",
        "\n",
        "section div:nth-child(2) {",
        "grid-column-start: 1;",
        "grid-column-end: 2;",
        "grid-row-start: 1;",
        "grid-row-end: 2;",
        "z-index: 2;",
        "}",
        "```\n",
        "\n",
        "In this example, we have created a `Grid` with 3 columns of 100px each and a space of 20px between the columns. The first element spans from the first column to the second column and from the first row to the second row. The second element also spans from the first column to the second column and from the first row to the second row. Since the second element has a higher `z-index` than the first element, the second element overlaps the first one."
      ]
    },
    {
      "cell_type": "markdown",
      "metadata": {},
      "source": [
        "### Layouts with Grid"
      ]
    },
    {
      "cell_type": "markdown",
      "metadata": {},
      "source": [
        "Now that we know the basic properties of `Grid`, let's see how we can create layouts with `Grid`.",
        "\n",
        "```html\n",
        "<header>Header</header>",
        "<aside>Aside</aside>",
        "<main>Main</main>",
        "<footer>Footer</footer>",
        "```\n",
        "\n",
        "```css\n",
        "body {",
        "display: grid;",
        "grid-template-columns: 1fr 1fr 1fr;",
        "grid-template-rows: 35px 1fr 100px;",
        "min-height: 100vh;",
        "}",
        "\n",
        "header {",
        "grid-column: 1 / -1;",
        "It seems like you didn't provide any Markdown text to translate. Please provide the Markdown text you want to be translated into English.",
        "\n",
        "main {",
        "grid-column: span 2;",
        "It seems like you didn't provide any Markdown text to translate. Please provide the Markdown text you want translated to English.",
        "\n",
        "footer {",
        "grid-column: 1 / -1;",
        "It seems like there was an issue with the input you provided. Please provide the Markdown text you would like to be translated to English.",
        "```\n",
        "\n",
        "In this example, we have created a `Grid` with 3 columns and 3 rows. The first row has a height of 35px, the second row takes up the remaining available space, and the third row has a height of 100px. The header spans from the first column to the last column, the main spans from the first column to the second column, and the footer spans from the first column to the last column.",
        "\n",
        "We have set `min-height: 100vh` so that the `Grid` occupies 100% of the screen height, because if we don't set this, the `Grid` will only occupy the height of its content."
      ]
    },
    {
      "cell_type": "markdown",
      "metadata": {},
      "source": [
        "However, when looking at the CSS it's hard to understand, so we can use the `grid-area` property."
      ]
    },
    {
      "cell_type": "markdown",
      "metadata": {},
      "source": [
        "### Grid-area"
      ]
    },
    {
      "cell_type": "markdown",
      "metadata": {},
      "source": [
        "We can name each of the areas in the `Grid` and then use that name to position the elements.",
        "\n",
        "```html\n",
        "<header>Header</header>",
        "<aside>Aside</aside>",
        "<main>Main</main>",
        "<footer>Footer</footer>",
        "```\n",
        "\n",
        "```css\n",
        "body {",
        "display: grid;",
        "grid-template-columns: 1fr 1fr 1fr;",
        "grid-template-rows: 35px 1fr 100px;",
        "min-height: 100vh;",
        "grid-template-areas:",
        "\"header header header\"",
        "\"sidebar content content\"",
        "\"footer footer footer\";",
        "It seems like there's a missing Markdown text to translate. Please provide the Markdown text you want translated to English.",
        "\n",
        "header {",
        "grid-area: header;",
        "It seems like you've provided an incomplete or incorrect Markdown text to translate. Please provide the full Markdown content so I can translate it accurately.",
        "\n",
        "main {",
        "grid-area: content;",
        "It seems like there was an issue with your message. Could you please provide the Markdown text you want to be translated?",
        "\n",
        "footer {",
        "grid-area: footer;",
        "It seems like you have not provided any Markdown text to translate. Could you please provide the text you want translated into English?",
        "\n",
        "aside {",
        "grid-area: sidebar;",
        "It seems like you have not provided any Markdown text to translate yet. Please provide the Markdown text you would like translated into English.",
        "```\n",
        "\n",
        "Since we have named each of the areas in the `Grid`, we can use that name to position the elements. This makes the CSS easier to understand."
      ]
    },
    {
      "cell_type": "markdown",
      "metadata": {},
      "source": [
        "If we wanted to make it responsive now, we would only need to change the `Grid` and the rest of the CSS would remain the same.",
        "\n",
        "```css\n",
        "body {",
        "display: grid;",
        "grid-template-columns: 1fr 1fr 1fr;",
        "grid-template-rows: 35px 1fr 100px;",
        "min-height: 100vh;",
        "grid-template-areas:",
        "\"header header header\"",
        "\"sidebar content content\"",
        "\"footer footer footer\";",
        "}",
        "\n",
        "@media (width < 400px) {",
        "body {",
        "grid-template-columns: 1fr;",
        "grid-template-rows: 35px 1fr 100px;",
        "grid-template-areas:",
        "\"header header sidebar\"",
        "\"content content content\"",
        "\"footer footer footer\";",
        "}",
        "\n",
        "header {",
        "grid-area: header;",
        "}",
        "\n",
        "main {",
        "grid-area: content;",
        "}",
        "\n",
        "footer {",
        "grid-area: footer;",
        "It seems like you didn't provide any Markdown text to translate. Please provide the Markdown text you want translated to English.",
        "\n",
        "aside {",
        "grid-area: sidebar;",
        "}",
        "```\n",
        "\n",
        "Now we have made it so that when viewed on a large device, the sidebar is on the left and the content is on the right, but when viewed on a small device, the sidebar is on top and the content is below."
      ]
    },
    {
      "cell_type": "markdown",
      "metadata": {},
      "source": [
        "Suppose we want nothing in an area, we can put a dot.",
        "\n",
        "```css\n",
        "body {",
        "display: grid;",
        "grid-template-columns: 1fr 1fr 1fr;",
        "grid-template-rows: 35px 1fr 100px;",
        "min-height: 100vh;",
        "grid-template-areas:",
        "\"header header header\"",
        "\"sidebar . content\"",
        "\"footer footer footer\";",
        "}",
        "\n",
        "@media (width < 400px) {",
        "body {",
        "grid-template-columns: 1fr;",
        "grid-template-rows: 35px 1fr 100px;",
        "grid-template-areas:",
        "\"header header sidebar\"",
        "\"content content content\"",
        "\"footer footer footer\";",
        "}",
        "\n",
        "header {",
        "grid-area: header;",
        "}",
        "\n",
        "main {",
        "grid-area: content;",
        "}",
        "\n",
        "footer {",
        "grid-area: footer;",
        "}",
        "\n",
        "aside {",
        "grid-area: sidebar;",
        "It seems like you might have intended to provide a Markdown text for translation but didn't include it. Could you please provide the Markdown text you want translated?",
        "```\n",
        "\n",
        "Now on large screens there is a space between the sidebar and the content."
      ]
    },
    {
      "cell_type": "markdown",
      "metadata": {},
      "source": [
        "### Justify-items, Align-items, Justify-content and Align-content"
      ]
    },
    {
      "cell_type": "markdown",
      "metadata": {},
      "source": [
        "We can align the content and elements of a `Grid` using the properties `justify-items`, `align-items`, `justify-content`, and `align-content`.",
        "\n",
        "![grid justify](https://miro.medium.com/v2/resize:fit:1080/1*y9RuktkbVshp7lmVmZrbeQ.png)"
      ]
    },
    {
      "cell_type": "markdown",
      "metadata": {},
      "source": [
        "#### Justify-items"
      ]
    },
    {
      "cell_type": "markdown",
      "metadata": {},
      "source": [
        "We can align the elements on the X-axis of the `Grid` with the `justify-items` property.",
        "\n",
        "The values we can use are:",
        "\n",
        "- `start`: aligns the elements to the start of the main axis.",
        "- `end`: aligns the items to the end of the main axis.",
        "- `center`: aligns the elements in the center of the main axis.",
        "- `stretch`: stretches the items so they take up all available space on the main axis.",
        "\n",
        "```html\n",
        "<section>",
        "<div>Text 1</div>",
        "<div>Text 2</div>",
        "<div>Text 3</div>",
        "</section>",
        "```\n",
        "\n",
        "```css\n",
        "section {",
        "display: grid;",
        "justify-items: center;",
        "}",
        "```"
      ]
    },
    {
      "cell_type": "markdown",
      "metadata": {},
      "source": [
        "#### Justify-self"
      ]
    },
    {
      "cell_type": "markdown",
      "metadata": {},
      "source": [
        "With `justify-items` we align all the elements along the main axis of the `Grid`, but with `justify-self` we can align an element along the main axis of the `Grid` differently from the other elements.",
        "\n",
        "```html\n",
        "<section>",
        "<div>Text 1</div>",
        "<div>Text 2</div>",
        "<div>Text 3</div>",
        "</section>",
        "```\n",
        "\n",
        "```css\n",
        "section {",
        "display: grid;",
        "justify-items: center;",
        "}",
        "\n",
        "section div:nth-child(2) {",
        "justify-self: end;",
        "}",
        "```\n",
        "\n",
        "It looks like you've provided an image, but I'm unable to view or interpret images directly. Could you describe what the image contains or provide more context about what you need help with? If it's a specific type of content, such as a diagram, chart, or artwork, let me know, and I'll do my best to assist you!"
      ]
    },
    {
      "cell_type": "markdown",
      "metadata": {},
      "source": [
        "#### Align-items"
      ]
    },
    {
      "cell_type": "markdown",
      "metadata": {},
      "source": [
        "It is very similar to `justify-items`, but instead of aligning the items on the X-axis, it aligns them on the Y-axis.",
        "\n",
        "The values we can use are:",
        "\n",
        "- `start`: aligns the elements to the start of the cross axis.",
        "- `end`: aligns the items to the end of the cross axis.",
        "- `center`: aligns the elements in the center of the cross axis.",
        "- `stretch`: stretches the items so they take up all available space on the cross axis.",
        "\n",
        "```html\n",
        "<section>",
        "<div>Text 1</div>",
        "<div>Text 2</div>",
        "<div>Text 3</div>",
        "</section>",
        "```\n",
        "\n",
        "```css\n",
        "section {",
        "display: grid;",
        "align-items: center;",
        "}",
        "```"
      ]
    },
    {
      "cell_type": "markdown",
      "metadata": {},
      "source": [
        "#### Align-self"
      ]
    },
    {
      "cell_type": "markdown",
      "metadata": {},
      "source": [
        "With `align-items` we align all the items along the secondary axis of the `Grid`, but with `align-self` we can align an item along the secondary axis of the `Grid` differently from the other items.",
        "\n",
        "```html\n",
        "<section>",
        "<div>Text 1</div>",
        "<div>Text 2</div>",
        "<div>Text 3</div>",
        "</section>",
        "```\n",
        "\n",
        "```css\n",
        "section {",
        "display: grid;",
        "align-items: center;",
        "}",
        "\n",
        "section div:nth-child(2) {",
        "align-self: end;",
        "}",
        "```\n",
        "\n",
        "I apologize, but I'm not able to view or interpret the image you've shared. The image data appears to be a long string of characters, likely encoded in base64 format. Without being able to actually see and examine the contents of the image, I don't have any context about what it depicts or contains.\n\nIf you'd like me to comment on or analyze something in an image, could you please describe its contents? Or if there's a specific question you have about the image, feel free to ask that directly. I'm happy to try and help with whatever information or guidance I can provide based on your description or questions!"
      ]
    },
    {
      "cell_type": "markdown",
      "metadata": {},
      "source": [
        "#### Place-content"
      ]
    },
    {
      "cell_type": "markdown",
      "metadata": {},
      "source": [
        "If we want to use `justify-content` and `align-content` at the same time, we can use `place-content`.",
        "\n",
        "The values we can use are:",
        "\n",
        "- `start`: aligns the elements at the beginning of both the main and cross axes.",
        "- `end`: aligns the items at the end of the main and cross axes.",
        "- `center`: aligns the elements in the center of both the main and cross axes.",
        "- `stretch`: stretches the items so they occupy all available space on both the main and cross axes.",
        "\n",
        "```html\n",
        "<section>",
        "<div>Text 1</div>",
        "<div>Text 2</div>",
        "<div>Text 3</div>",
        "</section>",
        "```\n",
        "\n",
        "```css\n",
        "section {",
        "display: grid;",
        "place-content: center;",
        "It seems like you have not provided any Markdown text to translate. Please provide the Markdown text you would like translated into English.",
        "```"
      ]
    },
    {
      "cell_type": "markdown",
      "metadata": {},
      "source": [
        "### Grid Practice"
      ]
    },
    {
      "cell_type": "markdown",
      "metadata": {},
      "source": [
        "A good resource to practice Grid is [Grid Garden](https://cssgridgarden.com/)."
      ]
    },
    {
      "cell_type": "markdown",
      "metadata": {},
      "source": [
        "## Center a div"
      ]
    },
    {
      "cell_type": "markdown",
      "metadata": {},
      "source": [
        "So far we have seen 3 ways to center a `div`:",
        "\n",
        "- With `position: absolute`.",
        "- With `display: flex`.",
        "- With `display: grid`."
      ]
    },
    {
      "cell_type": "markdown",
      "metadata": {},
      "source": [
        "## Animations"
      ]
    },
    {
      "cell_type": "markdown",
      "metadata": {},
      "source": [
        "Within animations, there are two types: `transitions` and `animations`"
      ]
    },
    {
      "cell_type": "markdown",
      "metadata": {},
      "source": [
        "### Transitions"
      ]
    },
    {
      "cell_type": "markdown",
      "metadata": {},
      "source": [
        "In transitions we change an element from an initial state to a target state"
      ]
    },
    {
      "cell_type": "markdown",
      "metadata": {},
      "source": [
        "Suppose we have the following circle",
        "\n",
        "```html\n",
        "<div class=\"pulser\"></div>",
        "```\n",
        "\n",
        "And its CSS",
        "\n",
        "```css\n",
        ".pulser {",
        "width: 30px;",
        "height: 30px;",
        "background-color: #09f;",
        "border-radius: 50%;",
        "position: relative;",
        "}",
        "```\n",
        "\n",
        "HTML elements can have states, for example the `hover` state, which is when the user hovers the cursor over the element.",
        "\n",
        "```css\n",
        ".hover {",
        "scale: 2;",
        "background: purple;",
        "box-shadow: 0 0 10px purple;",
        "It seems like you've provided an incomplete or incorrect Markdown structure with just a closing brace `}`. If you have a specific Markdown text to translate, please provide it so I can assist you properly.",
        "```\n",
        "\n",
        "When we use `scale`, we make it increase in size while occupying the same space. However, if we had changed the `width` and the `height`, the button would have moved from its original position."
      ]
    },
    {
      "cell_type": "markdown",
      "metadata": {},
      "source": [
        "#### Transition"
      ]
    },
    {
      "cell_type": "markdown",
      "metadata": {},
      "source": [
        "The issue is that if we now hover over the circle, it changes state abruptly, so this is where the `transition` comes in, which is how we tell CSS how to modify the state. For example, if we want the transition to last 1 second",
        "\n",
        "```css\n",
        ".wristband {",
        "width: 30px;",
        "height: 30px;",
        "background-color: #09f;",
        "border-radius: 50%;",
        "position: relative;",
        "transition: 1s;",
        "}",
        "```"
      ]
    },
    {
      "cell_type": "markdown",
      "metadata": {},
      "source": [
        "It's important to put the transition on `.pulser` and not on `.pulser:hover` because otherwise, the transition wouldn't apply when returning to the initial state. In other words, when you hover over the circle, the transition will be visible, but when you move the mouse away from the circle, there won't be a transition back; it will abruptly return to the initial state."
      ]
    },
    {
      "cell_type": "markdown",
      "metadata": {},
      "source": [
        "What is to be transitioned `transition-property`"
      ]
    },
    {
      "cell_type": "markdown",
      "metadata": {},
      "source": [
        "With the above, a transition of color, size, and background would occur, but if we don't want a transition to happen for all properties, we can specify this using `transition-property`.",
        "\n",
        "```css\n",
        ".wristband {",
        "width: 30px;",
        "height: 30px;",
        "background-color: #09f;",
        "border-radius: 50%;",
        "position: relative;",
        "transition: 1s;",
        "transition-property: background-color, scale;",
        "}",
        "```\n",
        "\n",
        "This way, only the transition of `background-color` and `scale` will be applied."
      ]
    },
    {
      "cell_type": "markdown",
      "metadata": {},
      "source": [
        "#### Smooth transitions"
      ]
    },
    {
      "cell_type": "markdown",
      "metadata": {},
      "source": [
        "The default transition is linear, but if we want to change it, we can do so using `transition-timing-function`.",
        "\n",
        "```css\n",
        ".wristband {",
        "width: 30px;",
        "height: 30px;",
        "background-color: #09f;",
        "border-radius: 50%;",
        "position: relative;",
        "transition: 1s;",
        "transition-property: background-color, scale;",
        "transition-timing-function: ease-in-out;",
        "}",
        "```\n",
        "\n",
        "This way the transition will be smoother at the beginning and end. The possible values are as follows:",
        "\n",
        "+ linear",
        "+ ease",
        "+ ease-in",
        "+ ease-out",
        "+ ease-in-out",
        "+ cubic-bezier(n,n,n,n)"
      ]
    },
    {
      "cell_type": "markdown",
      "metadata": {},
      "source": [
        "#### Step-by-step Transitions"
      ]
    },
    {
      "cell_type": "markdown",
      "metadata": {},
      "source": [
        "If we want the animation to occur in several steps, we can use `steps(n)`, where `n` is the number of steps we want the animation to have.",
        "\n",
        "```css\n",
        ".wristband {",
        "width: 30px;",
        "height: 30px;",
        "background-color: #09f;",
        "border-radius: 50%;",
        "position: relative;",
        "transition: 1s;",
        "transition-property: background-color, scale;",
        "transition-timing-function: steps(5);",
        "}",
        "```\n",
        "\n",
        "This transition will be carried out in 5 steps over the course of a second"
      ]
    },
    {
      "cell_type": "markdown",
      "metadata": {},
      "source": [
        "#### Full control of the transition with cubic-bezier"
      ]
    },
    {
      "cell_type": "markdown",
      "metadata": {},
      "source": [
        "To perfectly control the transition, we can use `cubic-bezier(n,n,n,n)`, where `n` is a number between 0 and 1 that indicates the position of the point on the X and Y axes.",
        "\n",
        "```css\n",
        ".pulser {",
        "width: 30px;",
        "height: 30px;",
        "background-color: #09f;",
        "border-radius: 50%;",
        "position: relative;",
        "transition: 1s;",
        "transition-property: background-color, scale;",
        "transition-timing-function: cubic-bezier(0.1, 0.7, 1.0, 0.1);",
        "}",
        "```"
      ]
    },
    {
      "cell_type": "markdown",
      "metadata": {},
      "source": [
        "With `delay` we can indicate the time that must pass before the transition starts.",
        "\n",
        "```css\n",
        ".pulser {",
        "width: 30px;",
        "height: 30px;",
        "background-color: #09f;",
        "border-radius: 50%;",
        "position: relative;",
        "transition: 1s;",
        "transition-property: background-color, scale;",
        "transition-timing-function: cubic-bezier(0.1, 0.7, 1.0, 0.1);",
        "transition-delay: 1s;",
        "It seems like you have not provided any Markdown text to translate. Could you please provide the text you would like translated into English?",
        "```\n",
        "\n",
        "With `delay`, you can create loading animations, for example",
        "\n",
        "```html\n",
        "<section>",
        "Hover to show the elements",
        "<div class=\"pulser\"></div>",
        "<div class=\"pulser\"></div>",
        "<div class=\"pulser\"></div>",
        "</section>",
        "```\n",
        "\n",
        "```css\n",
        "section {",
        "display: flex;",
        "flex-direction: column;",
        "align-items: center;",
        "justify-content: center;",
        "height: 100vh;",
        "}",
        "\n",
        ".pulser {",
        "width: 30px;",
        "height: 30px;",
        "border-radius: 50%;",
        "position: relative;",
        "position: relative;",
        "opacity: 0;",
        "transition: 2s;",
        "transition-timing-function: ease;",
        "}",
        "\n",
        "section {",
        "display: flex;",
        "gap: 16px;",
        "justify-content: center;",
        "align-items: center;",
        "}",
        "\n",
        "section:hover .pulser {",
        "opacity: 1;",
        "It seems like you might have intended to provide a Markdown text for translation but only sent a closing brace `}`. If you have a specific Markdown text that needs to be translated, please share it, and I will translate it for you.",
        "\n",
        ".first-child {",
        "transition-delay: 0s;",
        "It seems like you might have accidentally sent an incomplete or incorrect Markdown text. Could you please provide the actual Markdown content that needs to be translated?",
        "\n",
        ".pulse:nth-child(2) {",
        "transition-delay: 300ms;",
        "}",
        "\n",
        ".last-child {",
        "transition-delay: 600ms;",
        "}",
        "```"
      ]
    },
    {
      "cell_type": "markdown",
      "metadata": {},
      "source": [
        "In [easings.co](https://easings.co/) we can see and configure the transitions"
      ]
    },
    {
      "cell_type": "markdown",
      "metadata": {},
      "source": [
        "#### Everything in one line"
      ]
    },
    {
      "cell_type": "markdown",
      "metadata": {},
      "source": [
        "In `.pulser` we have set `transition` and `transition-timing-function`, but we can also put it all in one line",
        "\n",
        "```css\n",
        ".wristband {",
        "width: 30px;",
        "height: 30px;",
        "background-color: #09f;",
        "border-radius: 50%;",
        "position: relative;",
        "transition: background 300ms ease-in-out 2s;",
        "}",
        "```\n",
        "\n",
        "With this, what we have told it is to animate the `background` for 300ms, with a smooth transition at the beginning and end, and to wait 2 seconds before starting the transition.",
        "\n",
        "If we want to specify multiple elements, we can do it in the following way",
        "\n",
        "```css\n",
        ".wristband {",
        "width: 30px;",
        "height: 30px;",
        "background-color: #09f;",
        "border-radius: 50%;",
        "position: relative;",
        "transition: background 300ms ease-in-out 2s, scale 1s ease-in-out 1s;",
        "It seems like you've provided an incomplete or incorrect Markdown text to translate. Could you please provide the full Markdown content for translation?",
        "```"
      ]
    },
    {
      "cell_type": "markdown",
      "metadata": {},
      "source": [
        "#### What to Transition?"
      ]
    },
    {
      "cell_type": "markdown",
      "metadata": {},
      "source": [
        "When it comes to adding transitions, you can look up what can be transitioned in [Animatable CSS properties](https://developer.mozilla.org/en-US/docs/Web/CSS/CSS_animated_properties), but to avoid wasting time searching, it's best to transition properties thoughtfully, for example, something that can be transitioned is a color, a size, etc.",
        "\n",
        "It is ideal to transition properties with intermediate states, for example, a font does not have an intermediate state and it makes no sense to transition from one font to another."
      ]
    },
    {
      "cell_type": "markdown",
      "metadata": {},
      "source": [
        "#### Different transitions at the beginning and end"
      ]
    },
    {
      "cell_type": "markdown",
      "metadata": {},
      "source": [
        "We previously mentioned that transitions should be placed on the element and not on the hover, because this way the transition will only be visible when the mouse is over the element and not when you move it away. If we want different animations at the start and end, we can take advantage of this. On the element, we will place the final transition, and on the hover, the initial one.",
        "\n",
        "```css\n",
        ".wristband {",
        "width: 30px;",
        "height: 30px;",
        "background-color: #09f;",
        "border-radius: 50%;",
        "position: relative;",
        "transition: background 300ms ease-in-out",
        "}",
        "\n",
        ".hover {",
        "scale: 2;",
        "background: purple;",
        "box-shadow: 0 0 10px purple;",
        "transition: 1s;",
        "transition-duration: 1s;",
        "}",
        "```\n",
        "\n",
        "This way, when we hover over the element, there will be a 300ms transition, and when we remove the mouse, the transition will be 1 second."
      ]
    },
    {
      "cell_type": "markdown",
      "metadata": {},
      "source": [
        "#### Accessibility"
      ]
    },
    {
      "cell_type": "markdown",
      "metadata": {},
      "source": [
        "Some people might get dizzy with the transitions, so we can add a media query to remove them.",
        "\n",
        "```css\n",
        "@media (prefers-reduced-motion: reduce) {",
        ".wristband {",
        "transition: none;",
        "}",
        "It seems like you might have intended to provide a Markdown text for translation but didn't include it. Could you please provide the Markdown text you want translated?",
        "```"
      ]
    },
    {
      "cell_type": "markdown",
      "metadata": {},
      "source": [
        "### Animations"
      ]
    },
    {
      "cell_type": "markdown",
      "metadata": {},
      "source": [
        "Transitions are the animations when we interact with elements, but in animations we don't need to interact with the element; they can run on their own. For example, the typical button that changes and moves every so often to let you know you need to press it."
      ]
    },
    {
      "cell_type": "markdown",
      "metadata": {},
      "source": [
        "#### Keyframes"
      ]
    },
    {
      "cell_type": "markdown",
      "metadata": {},
      "source": [
        "We go back to the example of the blue ball and remove all transitions.",
        "\n",
        "```html\n",
        "<div class=\"pulser\"></div>",
        "```\n",
        "\n",
        "```css\n",
        ".wristband {",
        "width: 30px;",
        "height: 30px;",
        "background-color: #09f;",
        "border-radius: 50%;",
        "}",
        "```"
      ]
    },
    {
      "cell_type": "markdown",
      "metadata": {},
      "source": [
        "We need to tell CSS that we want to create an animation, for this we use `@keyframes` and give the animation a name.",
        "\n",
        "```css\n",
        "@keyframes move {",
        "}",
        "```\n",
        "\n",
        "Now we have to tell it where this frame starts, for that we use `from` and where it ends, for that we use `to`",
        "\n",
        "```css\n",
        "@keyframes move {",
        "from {",
        "}",
        "to {",
        "It seems like there was an issue with your message. Could you please provide the Markdown text you want to translate?",
        "}",
        "```\n",
        "\n",
        "Now we need to indicate which properties we want to change, for example the position",
        "\n",
        "```css\n",
        "@keyframes move {",
        "from {",
        "transform: translateX(0);",
        "}",
        "to {",
        "transform: translateX(100px);",
        "It seems like there's a missing Markdown text to translate. Could you please provide the text?",
        "It seems like you've provided an incomplete or incorrect Markdown text to translate. Could you please provide the full Markdown content? I'll make sure to translate it accurately while preserving its structure and style.",
        "```\n",
        "\n",
        "This way, when we enter the page, the blue ball will move 100px to the right"
      ]
    },
    {
      "cell_type": "markdown",
      "metadata": {},
      "source": [
        "#### After"
      ]
    },
    {
      "cell_type": "markdown",
      "metadata": {},
      "source": [
        "In an element, you can place an `after` which is an element that goes after the main element.",
        "\n",
        "```html\n",
        "<div class=\"pulser\"></div>",
        "```\n",
        "\n",
        "```css\n",
        ".wristband {",
        "width: 30px;",
        "height: 30px;",
        "background-color: blue;",
        "border-radius: 50%;",
        "It seems like you might have intended to provide some Markdown text for translation but didn't include it. Could you please share the text you want translated?",
        "\n",
        ".pulser::after {",
        "content: '';",
        "position: absolute;",
        "width: 100%;",
        "height: 100%;",
        "top: 0;",
        "left: 0;",
        "background-color: blue;",
        "border-radius: 50%;",
        "z-index: -1;",
        "}",
        "```\n",
        "\n",
        "This puts a blue circle behind the blue circle, so now we have two blue circles.",
        "\n",
        "Now we define the keyframes",
        "\n",
        "```css\n",
        "@keyframes move {",
        "0% {",
        "opacity: 0;",
        "It seems like there was an error or incomplete input in your message. Please provide the Markdown text you would like translated to English.",
        "50% {",
        "scale: 1.5;",
        "opacity: 40%;",
        "It seems like you have not provided any Markdown text to translate yet. Please provide the Markdown text you would like translated into English.",
        "100% {",
        "opacity: 60%;",
        "It seems like you've provided an incomplete or incorrect Markdown text to translate. Please provide the full Markdown text you want translated into English.",
        "}",
        "```\n",
        "\n",
        "And since we have already defined the keyframes, now we just need to tell CSS that we want the animation to run.",
        "\n",
        "```css\n",
        ".pulser::after {",
        "content: '';",
        "position: absolute;",
        "width: 100%;",
        "height: 100%;",
        "top: 0;",
        "left: 0;",
        "background-color: blue;",
        "border-radius: 50%;",
        "z-index: -1;",
        "    \n",
        "animation-name: pulse;",
        "animation-duration: 2s;",
        "animation-timing-function: ease-in-out;",
        "It seems like you might have accidentally sent an incomplete or incorrect Markdown text. Could you please provide the actual Markdown content that needs to be translated?",
        "```\n",
        "\n",
        "Now when the page loads, it will look as if the blue circle had a heartbeat."
      ]
    },
    {
      "cell_type": "markdown",
      "metadata": {},
      "source": [
        "But it only occurs once, to make it occur multiple times we need to add `animation-iteration-count`",
        "\n",
        "```css\n",
        ".pulser::after {",
        "content: '';",
        "position: absolute;",
        "width: 100%;",
        "height: 100%;",
        "top: 0;",
        "left: 0;",
        "background-color: blue;",
        "border-radius: 50%;",
        "z-index: -1;",
        "    \n",
        "animation-name: pulse;",
        "animation-duration: 2s;",
        "animation-timing-function: ease-in-out;",
        "animation-iteration-count: infinite;",
        "}",
        "```\n",
        "\n",
        "Now it will produce infinitely"
      ]
    },
    {
      "cell_type": "markdown",
      "metadata": {},
      "source": [
        "#### Movement"
      ]
    },
    {
      "cell_type": "markdown",
      "metadata": {},
      "source": [
        "We can make an element move",
        "\n",
        "```html\n",
        "<div class=\"pulser\"></div>",
        "```\n",
        "\n",
        "```css\n",
        ".wristband {",
        "width: 30px;",
        "height: 30px;",
        "background-color: blue;",
        "border-radius: 50%;",
        "position: relative;",
        "}",
        "\n",
        ".pulser::after {",
        "content: '';",
        "position: absolute;",
        "width: 100%;",
        "height: 100%;",
        "top: 0;",
        "left: 0;",
        "background-color: blue;",
        "border-radius: 50%;",
        "z-index: -1;",
        "    \n",
        "animation-name: move;",
        "animation-duration: 2s;",
        "animation-iteration-count: infinite;",
        "animation-timing-function: linear;",
        "It seems like you didn't provide any Markdown text to translate. Please provide the Markdown text you want to be translated to English.",
        "\n",
        "@keyframes move {",
        "from {",
        "transform: translateX(0);",
        "}",
        "to {",
        "transform: translateX(100px);",
        "}",
        "It seems like you've only provided a closing brace `}` without any Markdown content to translate. Please provide the full text in Markdown format that you would like translated into English.",
        "```\n",
        "\n",
        "\n",
        "Now the blue ball will move 100px to the right"
      ]
    },
    {
      "cell_type": "markdown",
      "metadata": {},
      "source": [
        "#### Address"
      ]
    },
    {
      "cell_type": "markdown",
      "metadata": {},
      "source": [
        "To make the blue ball move to the left, just do `animation-direction: reverse`",
        "\n",
        "```css\n",
        ".pulser::after {",
        "content: '';",
        "position: absolute;",
        "width: 100%;",
        "height: 100%;",
        "top: 0;",
        "left: 0;",
        "background-color: blue;",
        "border-radius: 50%;",
        "z-index: -1;",
        "    \n",
        "animation-name: move;",
        "animation-duration: 2s;",
        "animation-iteration-count: infinite;",
        "animation-timing-function: linear;",
        "animation-direction: reverse;",
        "It seems like there might be some missing content. Please provide the Markdown text you would like translated to English.",
        "```"
      ]
    },
    {
      "cell_type": "markdown",
      "metadata": {},
      "source": [
        "If we want the ball to go back and forth, we need to set `animation-direction: alternate`",
        "\n",
        "```css\n",
        ".pulser::after {",
        "content: '';",
        "position: absolute;",
        "width: 100%;",
        "height: 100%;",
        "top: 0;",
        "left: 0;",
        "background-color: blue;",
        "border-radius: 50%;",
        "z-index: -1;",
        "    \n",
        "animation-name: move;",
        "animation-duration: 2s;",
        "animation-iteration-count: infinite;",
        "animation-timing-function: linear;",
        "animation-direction: alternate;",
        "It seems like you've provided an incomplete or incorrect Markdown text to translate. Could you please provide the correct Markdown text that needs translation?",
        "```"
      ]
    },
    {
      "cell_type": "markdown",
      "metadata": {},
      "source": [
        "#### Pause animations"
      ]
    },
    {
      "cell_type": "markdown",
      "metadata": {},
      "source": [
        "Imagine you have cards with animations; maybe you want the animation to pause when you hover over the card. For this, we can use `animation-play-state: paused`.",
        "\n",
        "```css\n",
        ".card:hover {",
        "animation-play-state: paused;",
        "}",
        "```"
      ]
    },
    {
      "cell_type": "markdown",
      "metadata": {},
      "source": [
        "#### CSS nesting"
      ]
    },
    {
      "cell_type": "markdown",
      "metadata": {},
      "source": [
        "We have declared in the CSS the properties of the pulser and the properties when it is hovered, but everything can be done together.",
        "\n",
        "```css\n",
        ".wristband {",
        "width: 30px;",
        "height: 30px;",
        "background-color: blue;",
        "border-radius: 50%;",
        "position: relative;",
        "    \n",
        "&::after {",
        "content: '';",
        "position: absolute;",
        "width: 100%;",
        "height: 100%;",
        "top: 0;",
        "left: 0;",
        "background-color: blue;",
        "border-radius: 50%;",
        "z-index: -1;",
        "        \n",
        "animation-name: move;",
        "animation-duration: 2s;",
        "animation-iteration-count: infinite;",
        "animation-timing-function: linear;",
        "animation-direction: alternate;",
        "}",
        "    \n",
        "&:hover::after {",
        "animation-play-state: paused;",
        "}",
        "It seems like you might have intended to provide a Markdown text for translation but didn't include it. Please provide the Markdown text you want translated to English, and I'll handle it for you!",
        "```"
      ]
    },
    {
      "cell_type": "markdown",
      "metadata": {},
      "source": [
        "#### How to End Animations"
      ]
    },
    {
      "cell_type": "markdown",
      "metadata": {},
      "source": [
        "If we have an animation that only runs once, for example, the blue ball moving to the right, when the animation ends it will suddenly snap back to its initial position. To avoid this, you can use `animation-fill-mode: forwards`",
        "\n",
        "```css\n",
        ".pulser::after {",
        "content: '';",
        "position: absolute;",
        "width: 100%;",
        "height: 100%;",
        "top: 0;",
        "left: 0;",
        "background-color: blue;",
        "border-radius: 50%;",
        "z-index: -1;",
        "    \n",
        "animation-name: move;",
        "animation-duration: 2s;",
        "animation-timing-function: linear;",
        "animation-direction: alternate;",
        "animation-fill-mode: forwards;",
        "}",
        "```\n",
        "\n",
        "This way, when the animation finishes, the blue ball will remain in the final position.",
        "\n",
        "If we use `backwards` instead of `forwards`, the animation will start from the final state.",
        "\n",
        "If we set it to `both`, the animation will start from the initial state and end at the final state."
      ]
    },
    {
      "cell_type": "markdown",
      "metadata": {},
      "source": [
        "#### Everything in one line"
      ]
    },
    {
      "cell_type": "markdown",
      "metadata": {},
      "source": [
        "We have a bunch of properties (`animation-name`, `animation-duration`, `animation-timing-function`, `animation-direction`, `animation-fill-mode`), but they can all be placed in one line. All of the above could be written like this",
        "\n",
        "```css\n",
        ".pulser::after {",
        "content: '';",
        "position: absolute;",
        "width: 100%;",
        "height: 100%;",
        "top: 0;",
        "left: 0;",
        "background-color: blue;",
        "border-radius: 50%;",
        "z-index: -1;",
        "    \n",
        "animation: move 2s linear alternate forwards;",
        "It seems like you've provided an incomplete or incorrect Markdown text to translate. Could you please provide the correct Markdown text that needs translation?",
        "```"
      ]
    },
    {
      "cell_type": "markdown",
      "metadata": {},
      "source": [
        "We can create several animations",
        "\n",
        "```css\n",
        ".pulser::after {",
        "content: '';",
        "position: absolute;",
        "width: 100%;",
        "height: 100%;",
        "top: 0;",
        "left: 0;",
        "background-color: blue;",
        "border-radius: 50%;",
        "z-index: -1;",
        "    \n",
        "animation:",
        "move 2s linear alternate forwards,",
        "enlarge 1s linear 2s both;",
        "}",
        "```\n",
        "\n",
        "But since the animation `agrandar` does not exist, we create it with keyframes",
        "\n",
        "```css\n",
        "@keyframes enlarge {",
        "0% {",
        "transform: scale: 1;",
        "It seems like you've provided an incomplete or incorrect Markdown text to translate. Could you please provide the full Markdown content for translation?",
        "25% {",
        "transform: scale: 1.5;",
        "}",
        "50% {",
        "transform: scale: 2;",
        "It seems like there might be some missing content in your request. Could you please provide the Markdown text you would like to have translated?",
        "75% {",
        "transform: scale: 1.6;",
        "It seems like you've provided an incomplete or incorrect Markdown structure with just \"}\". Please provide the full Markdown text for translation to English.",
        "100% {",
        "transform: scale: 2;",
        "It seems like there might be some missing context or content in your message. Could you please provide the Markdown text that needs to be translated?",
        "It seems like you have not provided any Markdown text to translate. Could you please provide the Markdown content that needs translation?",
        "```\n",
        "\n",
        "They will play one after the other because `enlarge` has been given a delay of 2 seconds, which is how long the first animation lasts. But if we want them to play at the same time, we need to remove the delay.",
        "\n",
        "```css\n",
        ".pulser::after {",
        "content: '';",
        "position: absolute;",
        "width: 100%;",
        "height: 100%;",
        "top: 0;",
        "left: 0;",
        "background-color: blue;",
        "border-radius: 50%;",
        "z-index: -1;",
        "    \n",
        "animation:",
        "move 2s linear alternate forwards,",
        "enlarge 1s linear both;",
        "}",
        "```"
      ]
    },
    {
      "cell_type": "markdown",
      "metadata": {},
      "source": [
        "#### Scroll Animations"
      ]
    },
    {
      "cell_type": "markdown",
      "metadata": {},
      "source": [
        "##### Example of progress bar"
      ]
    },
    {
      "cell_type": "markdown",
      "metadata": {},
      "source": [
        "For example, if we want to make a bar that increases in size as we scroll down the page",
        "\n",
        "```html\n",
        "<section>",
        "<div id=\"bar\"></div>",
        "<p>Lorem ipsum dolor sit amet, consectetur adipiscing elit</p>",
        "</p>",
        "<p>Lorem ipsum dolor sit amet, consectetur adipiscing elit</p>",
        "</p>",
        "<p>Lorem ipsum dolor sit amet, consectetur adipiscing elit</p>",
        "</p>",
        "<p>Lorem ipsum dolor sit amet, consectetur adipiscing elit</p>",
        "</p>",
        "<p>Lorem ipsum dolor sit amet, consectetur adipiscing elit</p>",
        "</p>",
        "<p>Lorem ipsum dolor sit amet, consectetur adipiscing elit</p>",
        "</p>",
        "<p>Lorem ipsum dolor sit amet, consectetur adipiscing elit</p>",
        "</p>",
        "</section>",
        "```\n",
        "\n",
        "```css\n",
        "section {",
        "display: flex;",
        "flex-direction: column;",
        "align-items: center;",
        "justify-content: center;",
        "height: 100vh;",
        "It seems like you might have intended to provide some Markdown text for translation but didn't include it. Could you please share the Markdown text you want translated?",
        "\n",
        "#barra {",
        "position: fixed;",
        "top: 0;",
        "width: 0%;",
        "background-color: red;",
        "height: 1em;",
        "\n",
        "animation: barra-grow auto linear;",
        "animation-timeline: scroll(root block);",
        "It seems like you didn't provide any Markdown text to translate. Please provide the Markdown text you want translated to English.",
        "\n",
        "@keyframes barra-grow {",
        "from {",
        "width: 0%;",
        "It seems like you've provided an incomplete or incorrect Markdown text to translate. Could you please provide the full text? I'll make sure to translate it accurately while preserving its structure and style.",
        "from {",
        "width: 100%;",
        "}",
        "It seems like there might be a missing Markdown text to translate. Could you please provide the Markdown content that needs to be translated?",
        "```\n",
        "\n",
        "Since we set the duration of the animation to `auto` in `animation`, the browser will look at `animation-timeline`, where we indicate that it should pay attention to the scroll. Inside the `scroll` function, we specify which element it should focus on; in our case, we've used `root` because we want the page's scroll, but any other element on the page could be specified. Additionally, we need to tell it whether to pay attention to the vertical or horizontal scroll; in our case, we've set `block` because we want it to focus on the vertical scroll (`block` is the default value, so you don't have to specify it if you want)."
      ]
    },
    {
      "cell_type": "markdown",
      "metadata": {},
      "source": [
        "##### Example of a header that changes color"
      ]
    },
    {
      "cell_type": "markdown",
      "metadata": {},
      "source": [
        "If we want the header to change color when we scroll",
        "\n",
        "```html\n",
        "<header>",
        "<navigation>",
        "<ul>",
        "<li>Home</li>",
        "<li>About</li>",
        "<li>Contact</li>",
        "</ul>",
        "</nav>",
        "</header>",
        "```\n",
        "\n",
        "```css\n",
        "header {",
        "position: sticky;",
        "top: 0;",
        "width: 100%;",
        "background-color: white;",
        "box-shadow: 0 0 10px rgba(0, 0, 0, 0.1);",
        "z-index: 2;",
        "\n",
        "animation: header-color linear both;",
        "animation-timeline: scroll(root block);",
        "It seems like there might be a missing markdown text to translate. Could you please provide the markdown content that needs translation?",
        "\n",
        "@keyframes header-color {",
        "from {",
        "background-color: white;",
        "}",
        "to {",
        "background-color: gray;",
        "backdrop-filter: blur(5px);",
        "color: white;",
        "}",
        "It seems like you might have accidentally sent an incomplete request. If you provide me with the Markdown text you want translated to English, I'll be happy to help!",
        "```"
      ]
    },
    {
      "cell_type": "markdown",
      "metadata": {},
      "source": [
        "But doing it this way, the header animation only ends when you reach the end of the page, but we want it to end after a bit of scrolling. To achieve this, we remove the `both` from the `animation` and set `animation-range: 0 200px` so that the animation ends after a scroll of 200 px, meaning we are telling it that the animation goes from 0 px to 200 px.",
        "\n",
        "```css\n",
        "header {",
        "position: sticky;",
        "top: 0;",
        "width: 100%;",
        "background-color: white;",
        "box-shadow: 0 0 10px rgba(0, 0, 0, 0.1);",
        "z-index: 2;",
        "\n",
        "animation: header-color linear;",
        "animation-timeline: scroll(root);",
        "animation-range: 0 200px;",
        "It seems like you've only provided a closing brace `}` without any Markdown content to translate. Please provide the full text in Markdown format that you would like translated into English.",
        "```"
      ]
    },
    {
      "cell_type": "markdown",
      "metadata": {},
      "source": [
        "##### Example of image gallery"
      ]
    },
    {
      "cell_type": "markdown",
      "metadata": {},
      "source": [
        "Let's imagine we have a bunch of images and we want them to appear as we scroll.",
        "\n",
        "```html\n",
        "<section>",
        "<img src=\"img1.jpg\" alt=\"image 1\">",
        "<img src=\"img2.jpg\" alt=\"image 2\">",
        "<img src=\"img3.jpg\" alt=\"image 3\">",
        "<img src=\"img4.jpg\" alt=\"image 4\">",
        "<img src=\"img5.jpg\" alt=\"image 5\">",
        "<img src=\"img6.jpg\" alt=\"image 6\">",
        "<img src=\"img7.jpg\" alt=\"image 7\">",
        "<img src=\"img8.jpg\" alt=\"image 8\">",
        "<img src=\"img9.jpg\" alt=\"image 9\">",
        "<img src=\"img10.jpg\" alt=\"image 10\">",
        "</section>",
        "```\n",
        "\n",
        "```css\n",
        "section {",
        "display: grid;",
        "grid-template-columns: repeat(auto-fill, minmax(300px, 1fr));",
        "gap: 16px;",
        "It seems like you might have intended to provide some Markdown text for translation but didn't include it. Could you please provide the text you want translated?",
        "\n",
        "img {",
        "width: 100%;",
        "height: auto;",
        "opacity: 0;",
        "animation: appear linear both;",
        "animation-timeline: view()",
        "animation-range: entry 20% cover 30%;",
        "}",
        "\n",
        "@keyframes appear {",
        "from {",
        "opacity: 0;",
        "}",
        "to {",
        "opacity: 1;",
        "}",
        "It seems like there was an issue with your request. Could you please provide the Markdown text you want to be translated?",
        "```\n",
        "\n",
        "With `animation-timeline: view()` we are telling it to perform the animation when the image is visible on the screen, and with `animation-range: entry 20% cover 30%` we are telling it that the animation should start when the image occupies 20% of the screen and end when it occupies 30% of the screen.",
        "\n",
        "By setting `both` in `animation`, we are telling it that the animation should occur both when appearing and disappearing. This means that when the image appears, the animation is visible, but when it disappears, the reverse animation is also visible, gradually changing the opacity from 1 to 0."
      ]
    }
  ],
  "metadata": {
    "language_info": {
      "name": "python"
    },
    "maximofn": {
      "date": "2024-02-05",
      "description_en": "CSS, or Cascading Style Sheets, is a fundamental technology in web design that allows developers and designers to style and present HTML documents in a sophisticated and efficient manner. Through CSS, we can control layout, colors, fonts, and much more, enabling the creation of rich and visually appealing user experiences. This post explores the basics of CSS, from selectors and properties to the box model, offering a detailed guide for those looking to get started or improve their web design skills. With practical examples and helpful tips, it demonstrates how CSS makes it easy to separate content from presentation, improving the accessibility and maintainability of web projects.",
      "description_es": "CSS, o Hojas de Estilo en Cascada, es una tecnolog\u00eda fundamental en el dise\u00f1o web que permite a los desarrolladores y dise\u00f1adores estilizar y presentar documentos HTML de manera sofisticada y eficiente. A trav\u00e9s de CSS, podemos controlar el layout, los colores, las tipograf\u00edas, y mucho m\u00e1s, permitiendo la creaci\u00f3n de experiencias de usuario ricas y visualmente atractivas. Este post explora los conceptos b\u00e1sicos de CSS, desde selectores y propiedades hasta el modelo de caja, ofreciendo una gu\u00eda detallada para aquellos que buscan empezar o mejorar su habilidad en el dise\u00f1o web. Con ejemplos pr\u00e1cticos y consejos \u00fatiles, se demuestra c\u00f3mo CSS facilita la separaci\u00f3n del contenido de la presentaci\u00f3n, mejorando la accesibilidad y la mantenibilidad de los proyectos web",
      "description_pt": "CSS, ou Cascading Style Sheets (Folhas de estilo em cascata), \u00e9 uma tecnologia fundamental no design da Web que permite aos desenvolvedores e designers estilizar e apresentar documentos HTML de maneira sofisticada e eficiente. Por meio do CSS, podemos controlar o layout, as cores, as fontes e muito mais, permitindo a cria\u00e7\u00e3o de experi\u00eancias de usu\u00e1rio ricas e visualmente atraentes. Esta postagem explora os conceitos b\u00e1sicos de CSS, desde seletores e propriedades at\u00e9 o modelo de caixa, oferecendo um guia detalhado para quem deseja iniciar ou aprimorar suas habilidades de web design. Com exemplos pr\u00e1ticos e dicas \u00fateis, ela demonstra como o CSS facilita a separa\u00e7\u00e3o entre conte\u00fado e apresenta\u00e7\u00e3o, melhorando a acessibilidade e a capacidade de manuten\u00e7\u00e3o dos projetos da Web.",
      "end_url": "css",
      "image": "https://pub-fb664c455eca46a2ba762a065ac900f7.r2.dev/CSS3.webp",
      "image_hover_path": "https://pub-fb664c455eca46a2ba762a065ac900f7.r2.dev/CSS3.webp",
      "keywords_en": "css, web design, styling, layout, selectors, properties, box model, accessibility, maintainability",
      "keywords_es": "css, dise\u00f1o web, estilizaci\u00f3n, dise\u00f1o, selectores, propiedades, modelo de caja, accesibilidad, mantenibilidad",
      "keywords_pt": "css, design web, estiliza\u00e7\u00e3o, layout, seletores, propriedades, modelo de caixa, acessibilidade, manutenibilidade",
      "title_en": "CSS",
      "title_es": "CSS",
      "title_pt": "CSS"
    }
  },
  "nbformat": 4,
  "nbformat_minor": 2
}