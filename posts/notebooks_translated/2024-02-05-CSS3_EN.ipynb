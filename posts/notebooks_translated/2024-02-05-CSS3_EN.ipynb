{
  "cells": [
  {
      "cell_type": "markdown",
      "metadata": {},
      "source": [
      "# CSS 3"
      ]
    },
{
      "cell_type": "markdown",
      "metadata": {},
      "source": [
      "## Parts of CSS (selector, properties, values)"
      ]
    },
{
      "cell_type": "markdown",
      "metadata": {},
      "source": [
      "This notebook has been automatically translated to make it accessible to more people, please let me know if you see any typos.\n",
"\n",
"In CSS there are 3 main parts:\n",
"\n",
"- Selector**: This is the part that selects the element to which the style will be applied.\n",
"- Property**: This is the part that defines the style to be applied to the element.\n",
"- Value**: It is the part that defines the value of the property to be applied to the element.\n",
"\n",
"To add comments in CSS you use `/* comment */`.\n",
"\n",
"The line that has `property: value;` is called **declaration**.\n",
"\n",
"```css\n",
"selector {\n",
"    property: value; /* comment */\n",
"}\n",
"```"
      ]
    },
{
      "cell_type": "markdown",
      "metadata": {},
      "source": [
      "## Selectors"
      ]
    },
{
      "cell_type": "markdown",
      "metadata": {},
      "source": [
      "There are several types of selectors:\n",
"\n",
"- Universal selector**: Selects all elements on the page. The asterisk `*` is used.\n",
"- Type selector**: Selects all elements of a type. The name of the element type is used. For example, `p` selects all paragraphs.\n",
"- Class selector**: Selects all elements that have a class. The class name is used. For example, `.class` selects all the elements that have the class `class`. This is useful, because if we want all the buttons to be the same, in the html we put `<button class=\"boton\">` and in the css we put `.boton { /* styles */ }`. This way all the buttons will have the same styles, and we want a button to be different, we put another class.\n",
"- Pseudo-class selector**: Selects all elements that have a pseudo-class. The name of the pseudo-class is used. For example, `:hover` selects all elements that are being selected by the mouse. This is useful, because if we want a button to change color when the mouse is over it, in the css we put `.boton:hover { /* styles */ }`. This way the button will have the styles that we want when the mouse is over it. Some pseudo-classes are:\n",
"    - `:hover`: Selects all elements that are being selected by the mouse.\n",
"    - active`: Selects all elements that are being selected by the mouse and are being clicked.\n",
"    - `:focus`: Selects all elements that are being selected by the mouse and are being clicked, and also have the focus.\n",
"    - `:first-child`: Selects all elements that are the first child of their parent. This is useful for example with the `<li>` of the lists, because if we want that the first element of the list has a different style, in the css we put `li:first-child { /* styles */ }`. This way the first element of the list will have the styles that we want.\n",
"    - `:last-child`: Selects all elements that are the last child of their parent. This is useful for example with the `<li>` of the lists, because if we want that the last element of the list has a different style, in the css we put `li:last-child { /* styles */ }`. This way the last element of the list will have the styles that we want.\n",
"    - `:nth-child(n)`: Selects all elements that are the nth child of their parent. For example, `:nth-child(2)` selects all elements that are the second child of their parent.\n",
"    - `:nth-last-child(n)`: Selects all elements that are the nth child of their parent, starting from the end. For example, `:nth-last-child(2)` selects all elements that are the second child of their parent, starting from the end.\n",
"    - `:nth-of-type(n)`: Selects all elements that are the nth child of their parent, of the same type. For example, `:nth-of-type(2)` selects all elements that are the second child of their parent, of the same type.\n",
"    - `:nth-last-of-type(n)`: Selects all elements that are the nth child of their parent, of the same type, starting from the end. For example, `:nth-last-of-type(2)` selects all elements that are the second child of their parent, of the same type, starting from the end.\n",
"    - `:first-of-type`: Selects all elements that are the first child of their parent, of the same type.\n",
"    - `:last-of-type`: Selects all elements that are the last child of their parent, of the same type.\n",
"    - `:only-child`: Selects all elements that are the only child of their parent.\n",
"    - `:only-of-type`: Selects all elements that are the only child of their parent, of the same type.\n",
"    - `:empty`: Se\n",
"- id selector**: Select an element that has an id. The id name is used. For example, `#id` selects the element that has the id `id`. This is useful, because if we want an element to be unique, in the html we put `<p id=\"unique\">` and in the css we put `#unique { /* styles */ }`. This way that element will have the styles that we want, and if we want another element to be the same, we put another class.\n",
"- Combined selectors**: Select elements that meet several conditions. We use the selectors that we want, separated by a space. For example, `p .class` selects all the elements that have the class `class` and are children of a paragraph. This is useful, because if we want that all the buttons that are inside a paragraph are equal, in the html we put `<p class=\"parrafo_que_que_quiero_cambiar\"><button class=\"boton\">` and in the css we put `.parrafo_que_quiero_cambiar .boton { /* estilos */ }`. Thus all the buttons that are inside a paragraph with the class `paragraph_that_I_want_to_change` will have the same styles, and we want a button to be different, we put another class.\n",
"- First level combined selector**: Select elements that meet several conditions, but only if they are in the first level. We use the selectors that we want, separated by a `>`. For example, `p > .class` selects all elements that have the class `class` and are direct children of a paragraph. This is useful, because if we want all the buttons inside a paragraph to be the same, in the html we put `<p class=\"paragraph_that_we_want_to_change\"><button class=\"button\">`` and in the css we put `.paragraph_that_we_want_to_change > .button { /* styles */ }`. Thus all the buttons that are inside a paragraph with the class `.paragraph_that_I_want_to_change` will have the same styles, and we want a button to be different, we put another class.\n",
"- Combined sibling selector**: Select elements that meet several conditions, but only if they are at the same level. You use as many selectors as you want, separated by a `~`. For example, `p ~ .class` selects all elements that have the class `class` and are at the same level as a paragraph. This is useful, because if we want all the buttons that are at the same level as a paragraph to be the same, in the html we put `<p class=\"paragraph_that_we_want_to_change\"></p><button class=\"button\">`` and in the css we put `.paragraph_that_we_want_to_change ~ .button { /* styles */ }`. Thus all the buttons that are at the same level as a paragraph with the class `.paragraph_that_I_want_to_change` will have the same styles, and we want a button to be different, we put another class.\n",
"- Combined adjacent sibling selector**: Select elements that meet several conditions, but only if they are at the same level and are adjacent. You use as many selectors as you want, separated by a `+`. For example, `p + .class` selects all elements that have the class `class` and are at the same level and adjacent to a paragraph. This is useful, because if we want all buttons that are at the same level and adjacent to a paragraph to be the same, in the html we put `<p class=\"paragraph_that_I_want_to_change\"></p><button class=\"button\">` and in the css we put `.paragraph_that_I_want_to_change + .button { /* styles */ }`. Thus all the buttons that are on the same level and are adjacent to a paragraph with the class `.paragraph_that_I_want_to_change` will have the same styles, and we want a button to be different, we put another class.\n",
"\n",
"The normal thing is to use the class selector, because this way we can reuse the styles."
      ]
    },
{
      "cell_type": "markdown",
      "metadata": {},
      "source": [
      "## Styles"
      ]
    },
{
      "cell_type": "markdown",
      "metadata": {},
      "source": [
      "### Color"
      ]
    },
{
      "cell_type": "markdown",
      "metadata": {},
      "source": [
      "The color can be set in several ways:\n",
"\n",
"- Name**: You can put the name of the color. For example, `red` is red.\n",
"- Hexadecimal**: You can put the color in hexadecimal. For example, `#ff0000` is red.\n",
"  \n",
"  If you want to add transparency, you can set `#ff000080`, which is red with 50% transparency.\n",
"  \n",
"  If only 3 numbers are entered, they are repeated. For example, `#f10` is the same as `#ff1100`. If you want to add transparency, you can put `#f108`, which is the same as `#ff110088`.\n",
"- RGB**: You can set the color in RGB. For example, `rgb(255, 0, 0, 0)` is red.\n",
"\n",
"  If you want to add transparency, you can set `rgb(255 0 0 / 0.5)`, which is red with 50% transparency. You can also set the transparency in percent, `rgb(255 0 0 / 50%)`. You can find transparency in a legacy form with `rgba(255, 0, 0, 0, 0.5)`, which is red with 50% transparency, but it is best to use the modern form.\n",
"\n",
"- HSL**: You can set the color in HSL. For example, `hsl(0, 100%, 50%)` is red.\n",
"\n",
"- OKLCH**: You can set the color in OKLCH. For example, `oklch(0 100% 50%)` is red.\n",
"\n",
"In `HSL` and `OKLCH` there is more color scale than in `RGB`, so if you need more colors, it is better to use `HSL` or `OKLCH`.\n",
"\n",
"Transparency can also be added by adding the `color:transparent` declaration."
      ]
    },
{
      "cell_type": "markdown",
      "metadata": {},
      "source": [
      "### Current Color"
      ]
    },
{
      "cell_type": "markdown",
      "metadata": {},
      "source": [
      "There is a color value which is `currentColor`, which is the current color. For example, if we have a text and we set its color to red, and then to this text we add a border, if we set `border: 1px solid currentColor;`, the border will be red.\n",
"\n",
"```css\n",
"p {\n",
"    color: red;\n",
"    border: 1px solid currentColor;\n",
"}\n",
"```"
      ]
    },
{
      "cell_type": "markdown",
      "metadata": {},
      "source": [
      "### Inheritance"
      ]
    },
{
      "cell_type": "markdown",
      "metadata": {},
      "source": [
      "When a style is set on an element, this style is inherited to the child elements. For example, if we have a `div` with a text, and we put the color red to the `div`, the text will also be red.\n",
"\n",
"````html\n",
"<div>\n",
"    <p>Text</p>\n",
"</div>\n",
"```\n",
"\n",
"```css\n",
"div {\n",
"    color: red;\n",
"}\n",
"```\n",
"\n",
"When you do this, the text will be red."
      ]
    },
{
      "cell_type": "markdown",
      "metadata": {},
      "source": [
      "We can indicate in the child which styles are inherited, for example suppose we have a parent and a child\n",
"\n",
"````html\n",
"<div class=\"parent\">\n",
"    <p class=\"son\">Text</p>\n",
"</div>\n",
"```\n",
"\n",
"```css\n",
".parent {\n",
"    color: red;\n",
"}\n",
"\n",
".son {\n",
"    color: inherit;\n",
"}\n",
"```\n",
"\n",
"When you do this, the text will be red, because the child inherits the color from the parent.\n",
"\n",
"The possible options are:\n",
"\n",
"- `inherit`: Inherits the style of the parent.\n",
"- `initial`: Sets the default style.\n",
"- `unset`: Resets the style\n",
"- `revert`: Revert style\n",
"\n",
"Not all styles are inherited, for example, the `background` is not inherited. In order not to put all the styles that are inherited, a way to know it is going to `MDN` and looking if the style has the property `Inherited` to `yes` (Inside `Formal definition`)."
      ]
    },
{
      "cell_type": "markdown",
      "metadata": {},
      "source": [
      "### Sources"
      ]
    },
{
      "cell_type": "markdown",
      "metadata": {},
      "source": [
      "When loading fonts, they can be loaded in several ways:\n",
"\n",
"- Local**: You can load a local font. For example, `font-family: Arial;` loads the Arial font.\n",
"- URL**: You can load a font from a URL. For example, `font-family: url(https://fonts.googleapis.com/css2?family=Roboto);` loads the Roboto font from Google Fonts.\n",
"- Generic**: A generic font can be loaded. For example, `font-family: sans-serif;` loads a sans-serif font. This font depends on the operating system, so on Windows it will be Arial, on Mac it will be Helvetica and on Linux it will be DejaVu Sans.\n",
"\n",
"Multiple fonts can be loaded, and if one is not available, the next font is loaded. For example, `font-family: Arial, sans-serif;` loads Arial, and if it is not available, it loads a sans-serif font.\n",
"\n",
"You can also load a font with several styles. For example, `font-family: Arial, sans-serif; font-weight: 700;` loads bold Arial, and if not available, loads a bold sans-serif font.\n",
"\n",
"As `sans-serif` is a generic font, the ideal is always to put it last, so that if the font we want is not available, the generic one is loaded.\n",
"\n",
"```css\n",
"p {\n",
"    font-family: url(https://fonts.googleapis.com/css2?family=Roboto), url(https://fonts.googleapis.com/css2?family=Roboto+Slab), Ubuntu, sans-serif;\n",
"}\n",
"```"
      ]
    },
{
      "cell_type": "markdown",
      "metadata": {},
      "source": [
      "### Border and Outline"
      ]
    },
{
      "cell_type": "markdown",
      "metadata": {},
      "source": [
      "We can put a border on an element with `border: 1px solid red;`. This sets a 1px thick, solid red border.\n",
"\n",
"If we want to put an outline, we can use `outline: 1px solid red;`. This puts an outline 1px thick, solid red.\n",
"\n",
"The difference between `border` and `outline` is that `border` takes up space, and `outline` does not. For example, if we have a `div` with a text, and we put a border, the text will move so that the border shows. If we put an outline, the text will not move, because the outline does not occupy space. This can be seen if we change the style in the `:hover` pseudo-class. If we put a border, when we pass the mouse over it, the text will move, but if we put an outline, the text will not move."
      ]
    },
{
      "cell_type": "markdown",
      "metadata": {},
      "source": [
      "## Cascade"
      ]
    },
{
      "cell_type": "markdown",
      "metadata": {},
      "source": [
      "The cascade is the order in which the styles are applied. The order is:\n",
"\n",
"1. User styles: These are the styles that the user has configured. For example, if the user has configured the text to be red, the text will be red.\n",
"2. Author's styles: These are the styles that the author has configured. For example, if the author has set the text to be blue, the text will be blue.\n",
"3. Browser styles: These are the browser styles. For example, if the browser has configured the text to be green, the text will be green.\n",
"\n",
"User styles prevail over author styles, and author styles prevail over browser styles.\n",
"\n",
"But within the styles of the author, the styles that are lower in the code prevail. For example, if we have a `div` with a text, and we put the red color, and then we put the blue color, the text will be blue.\n",
"\n",
"````html\n",
"<div>\n",
"    <p>Text</p>\n",
"</div>\n",
"```\n",
"\n",
"```css\n",
"div {\n",
"    color: red;\n",
"}\n",
"\n",
"div {\n",
"    color: blue;\n",
"}\n",
"```\n",
"\n",
"In this example, the text will be blue. The red color is overwritten with the blue color."
      ]
    },
{
      "cell_type": "markdown",
      "metadata": {},
      "source": [
      "### Fallback"
      ]
    },
{
      "cell_type": "markdown",
      "metadata": {},
      "source": [
      "One of the benefits of cascading is that we can put in a very new style, but in case the browser the user is using doesn't support it, we can put in an older style first just in case. For example, styling the color with `oklch` is something new, which may not be supported by the browser the user is using, so we can put an older style before just in case.\n",
"\n",
"```css\n",
"p {\n",
"    color: rgb(255, 0, 0);\n",
"    color: oklch(0 100% 50%);\n",
"}\n",
"```\n",
"\n",
"This way the browser will first try to style with `oklch`, and if it cannot, it will style with `rgb`."
      ]
    },
{
      "cell_type": "markdown",
      "metadata": {},
      "source": [
      "### Specificity"
      ]
    },
{
      "cell_type": "markdown",
      "metadata": {},
      "source": [
      "An html element may have several ways to refer to it. For example\n",
"\n",
"````html\n",
"<p class=\"class\" id=\"id\">Text</p>\n",
"```\n",
"\n",
"```css\n",
"p {\n",
"    color: red;\n",
"}\n",
"\n",
".class {\n",
"    color: blue;\n",
"}\n",
"\n",
"#id {\n",
"    color: green;\n",
"}\n",
"```\n",
"\n",
"In this example, the text will be green. This is because the id selector has more specificity than the class selector, and the class selector has more specificity than the type selector. So the id selector overwrites the class selector, and the class selector overwrites the type selector.\n",
"\n",
"If in the css we had\n",
"\n",
"```css\n",
"p {\n",
"    color: red;\n",
"}\n",
"\n",
"p.class {\n",
"    color: blue;\n",
"}\n",
"```\n",
"\n",
"The text would be blue. This is because the class selector has more specificity than the type selector, so the class selector overwrites the type selector."
      ]
    },
{
      "cell_type": "markdown",
      "metadata": {},
      "source": [
      "Inline styles have more specificity than author styles. For example\n",
"\n",
"````html\n",
"<p style=\"color: red;\">Text</p>\n",
"```\n",
"\n",
"```css\n",
"p {\n",
"    color: blue;\n",
"}\n",
"```\n",
"\n",
"In this example, the text will be red. This is because the inline style has more specificity than the author's style."
      ]
    },
{
      "cell_type": "markdown",
      "metadata": {},
      "source": [
      "If you put `!important` at the end of the declaration, this declaration will have more specificity than any other. For example\n",
"\n",
"````html\n",
"<p class=\"class\" id=\"id\">Text</p>\n",
"```\n",
"\n",
"```css\n",
"p {\n",
"    color: red;\n",
"}\n",
"\n",
".class {\n",
"    color: blue;\n",
"}\n",
"\n",
"#id {\n",
"    color: green;\n",
"}\n",
"\n",
"p.class {\n",
"    color: yellow !important;\n",
"}\n",
"```\n",
"\n",
"In this example, the text will be yellow. This is because the `!important` statement has more specificity than any other."
      ]
    },
{
      "cell_type": "markdown",
      "metadata": {},
      "source": [
      "## Units"
      ]
    },
{
      "cell_type": "markdown",
      "metadata": {},
      "source": [
      "### Length units"
      ]
    },
{
      "cell_type": "markdown",
      "metadata": {},
      "source": [
      "#### Absolute units"
      ]
    },
{
      "cell_type": "markdown",
      "metadata": {},
      "source": [
      "If we want to set a fixed size, we can use absolute units. For example, `px` is a pixel, `cm` is a centimeter, `mm` is a millimeter, `in` is an inch, `pt` is a dot, `pc` is a pica."
      ]
    },
{
      "cell_type": "markdown",
      "metadata": {},
      "source": [
      "#### Relative units"
      ]
    },
{
      "cell_type": "markdown",
      "metadata": {},
      "source": [
      "However, if we want the size to be relative, we can use relative units. For example, `em` is the font size, `rem` is the font size of the root element, `vw` is the width of the window, `vh` is the height of the window, `vmin` is the width or height of the window, depending on which is smaller, `vmax` is the width or height of the window, depending on which is larger, `ch` is the width of a character, `ex` is the height of an x, `fr` is a fraction of the available space."
      ]
    },
{
      "cell_type": "markdown",
      "metadata": {},
      "source": [
      "## Model of the box"
      ]
    },
{
      "cell_type": "markdown",
      "metadata": {},
      "source": [
      "In html everything is boxes, but there are two types of ways to view boxes, `inline` and `block`. For example, `<span>` are `inline`, and `<div>` are `block`."
      ]
    },
{
      "cell_type": "markdown",
      "metadata": {},
      "source": [
      "### Inline boxes"
      ]
    },
{
      "cell_type": "markdown",
      "metadata": {},
      "source": [
      "When the element is `inline`, the width and height cannot be set, and the element behaves as if it were text. For example, if we have a `span` with a text, and we set a width and height, the width and height will not be applied, and the element will behave as if it were text.\n",
"\n",
"````html\n",
"<span>Text</span>.\n",
"```\n",
"\n",
"```css\n",
"span {\n",
"    width: 100px;\n",
"    height: 100px;\n",
"}\n",
"```\n",
"\n",
"In this example, the width and height will not be applied, and the element will behave as if it were text."
      ]
    },
{
      "cell_type": "markdown",
      "metadata": {},
      "source": [
      "Also, when the element is `inline`, if several elements are put together in the html, these elements will be displayed together. For example, if we have several `span` with a text, and we put them together in the html, these elements will be displayed together.\n",
"\n",
"````html\n",
"<span>Text</span>.\n",
"<span>Text</span>.\n",
"<span>Text</span>.\n",
"```\n",
"\n",
"In this example, the elements will be displayed together ==> TextTextText."
      ]
    },
{
      "cell_type": "markdown",
      "metadata": {},
      "source": [
      "But if we want the elements to be displayed on different lines, we can use `display: block;`. For example, if we have several `span` with a text, and we put `display: block;`, these elements will be shown in different lines.\n",
"\n",
"````html\n",
"<span>Text</span>.\n",
"<span>Text</span>.\n",
"<span>Text</span>.\n",
"```\n",
"\n",
"```css\n",
"span {\n",
"    display: block;\n",
"}\n",
"```\n",
"\n",
"In this example, the elements will be displayed in different lines\n",
"                        \n",
"⬇\n",
"                        \n",
"Text\n",
"                        \n",
"Text\n",
"                        \n",
"Text"
      ]
    },
{
      "cell_type": "markdown",
      "metadata": {},
      "source": [
      "### Block boxes"
      ]
    },
{
      "cell_type": "markdown",
      "metadata": {},
      "source": [
      "When the element is `block`, the width and height can be set, and the element behaves as if it were a block. For example, if we have a `div` with a text, and we set a width and height, the width and height will be applied, and the element will behave as if it were a block.\n",
"\n",
"````html\n",
"<div>Text</div>\n",
"```\n",
"\n",
"```css\n",
"div {\n",
"    width: 100px;\n",
"    height: 100px;\n",
"}\n",
"```\n",
"\n",
"In this example, the width and height will be applied, and the element will behave as if it were a block."
      ]
    },
{
      "cell_type": "markdown",
      "metadata": {},
      "source": [
      "Also, when the element is `block`, if several elements are put together in the html, these elements will be displayed one below the other. For example, if we have several `div` with a text, and we put them together in the html, these elements will be displayed one below the other.\n",
"\n",
"````html\n",
"<div>Text</div>\n",
"<div>Text</div>\n",
"<div>Text</div>\n",
"```\n",
"\n",
"In this example, the elements will be displayed one below the other\n",
"                        \n",
"⬇\n",
"                        \n",
"Text\n",
"                        \n",
"Text\n",
"                        \n",
"Text"
      ]
    },
{
      "cell_type": "markdown",
      "metadata": {},
      "source": [
      "But if we want the elements to be displayed on the same line, we can use `display: inline;`. For example, if we have several `div` with a text, and we set `display: inline;`, these elements will be displayed on the same line.\n",
"\n",
"````html\n",
"<div>Text</div>\n",
"<div>Text</div>\n",
"<div>Text</div>\n",
"```\n",
"\n",
"```css\n",
"div {\n",
"    display: inline;\n",
"}\n",
"```\n",
"\n",
"In this example, the elements will be displayed on the same line ==> TextTextText."
      ]
    },
{
      "cell_type": "markdown",
      "metadata": {},
      "source": [
      "### Margin, Border, Padding and Content"
      ]
    },
{
      "cell_type": "markdown",
      "metadata": {},
      "source": [
      "Now that we know that in html everything is boxes, we can see that each box has 4 parts:\n",
"\n",
"- Margin**: The space between the box and the other boxes.\n",
"- Border: This is the edge of the box.\n",
"- Padding: The space between the border and the content.\n",
"- Content: The contents of the box.\n",
"\n",
"![Margin, Border, Padding and Content](https://web.dev/static/learn/css/box-model/image/un-diagrama-que-muestra-l-a71d29fe924e.svg?hl=es)"
      ]
    },
{
      "cell_type": "markdown",
      "metadata": {},
      "source": [
      "All these properties can be configured. For example, if we have a `div` with a text, and we set a width and height, the width and height will be applied, and the element will behave as if it were a block.\n",
"\n",
"````html\n",
"<div>Text</div>\n",
"```\n",
"\n",
"```css\n",
"div {\n",
"    width: 100px;\n",
"    height: 100px;\n",
"    margin: 10px;\n",
"    border: 10px solid red;\n",
"    padding: 10px;\n",
"}\n",
"```\n",
"\n",
"Since they are size properties, units of length can be put in. For example:\n",
"\n",
" * If we want the margin to be 10 pixels, we set `margin: 10px;`.\n",
" * If we want it to be only the left margin, we put `margin-left: 10px;`.\n",
" * If we want it to be only the right margin, we put `margin-right: 10px;`.\n",
" * If we want it to be only the top margin, we put `margin-top: 10px;`.\n",
" * If we want it to be only the bottom margin, we put `margin-bottom: 10px;`.\n",
" * If we want each margin to be of a size, we put `margin: 10px 20px 30px 40px 40px;`. The order is top, right, bottom, left, like clockwise.\n",
" * If we want to change the sizes on the horizontal and vertical axis, we put `margin: 10px 20px;`. The order is up and down (10px), left and right (20px)."
      ]
    },
{
      "cell_type": "markdown",
      "metadata": {},
      "source": [
      "#### Box size when changing padding"
      ]
    },
{
      "cell_type": "markdown",
      "metadata": {},
      "source": [
      "If we have a `div` with a text, and we set a width and height, the width and height will be applied, and the element will behave as if it were a block.\n",
"\n",
"````html\n",
"<div>Text</div>\n",
"```\n",
"\n",
"```css\n",
"div {\n",
"    width: 100px;\n",
"    height: 100px;\n",
"}\n",
"```\n",
"\n",
"This way the `div` will have a width and a height of 100px.\n",
"\n",
"But if we now apply a padding of 10px, the width and height will remain the same, but the size of the box will be 120px, because the padding is added to the width and height.\n",
"\n",
"````html\n",
"<div>Text</div>\n",
"```\n",
"\n",
"```css\n",
"div {\n",
"    width: 100px;\n",
"    height: 100px;\n",
"    padding: 10px;\n",
"}\n",
"```\n",
"\n",
"This way the `div` will have a width and height of 100px, but the size of the box will be 120px."
      ]
    },
{
      "cell_type": "markdown",
      "metadata": {},
      "source": [
      "#### Case size when changing the border"
      ]
    },
{
      "cell_type": "markdown",
      "metadata": {},
      "source": [
      "If we have a `div` with a text, and we set a width and height, the width and height will be applied, and the element will behave as if it were a block.\n",
"\n",
"````html\n",
"<div>Text</div>\n",
"```\n",
"\n",
"```css\n",
"div {\n",
"    width: 100px;\n",
"    height: 100px;\n",
"}\n",
"```\n",
"\n",
"This way the `div` will have a width and a height of 100px.\n",
"\n",
"But if we now apply a border of 10px, the width and height will remain the same, but the size of the box will be 120px, because the border is added to the width and height.\n",
"\n",
"````html\n",
"<div>Text</div>\n",
"```\n",
"\n",
"```css\n",
"div {\n",
"    width: 100px;\n",
"    height: 100px;\n",
"    border: 10px solid red;\n",
"}\n",
"```\n",
"\n",
"This way the `div` will have a width and height of 100px, but the size of the box will be 120px."
      ]
    },
{
      "cell_type": "markdown",
      "metadata": {},
      "source": [
      "#### Size of the box when changing the margin"
      ]
    },
{
      "cell_type": "markdown",
      "metadata": {},
      "source": [
      "In the case of margins, the size of the box does not change, but the spacing between the boxes does. For example, if we have two `div` with a text, and we set a width and a height, the width and height will be applied, and the element will behave as if it were a block.\n",
"\n",
"````html\n",
"<div>Text</div>\n",
"<div>Text</div>\n",
"```\n",
"\n",
"```css\n",
"div {\n",
"    width: 100px;\n",
"    height: 100px;\n",
"}\n",
"```\n",
"\n",
"This way the `div` will have a width and a height of 100px.\n",
"\n",
"But if we now apply a margin of 10px, the width and height will remain the same, but the spacing between the `div` will be 20px, because the margin is added to the spacing between the `div`.\n",
"\n",
"````html\n",
"<div>Text</div>\n",
"<div>Text</div>\n",
"```\n",
"\n",
"```css\n",
"div {\n",
"    width: 100px;\n",
"    height: 100px;\n",
"    margin: 10px;\n",
"}\n",
"```\n",
"\n",
"This way the `div` will have a width and height of 100px, but the space between the `div` will be 20px."
      ]
    },
{
      "cell_type": "markdown",
      "metadata": {},
      "source": [
      "#### Box size"
      ]
    },
{
      "cell_type": "markdown",
      "metadata": {},
      "source": [
      "Therefore, the box occupancy is:\n",
"\n",
" * Width: `width + padding + border`.\n",
" * Height: `height + padding + border`.\n",
"\n",
"The margin does not count, because the margin is the space between the boxes."
      ]
    },
{
      "cell_type": "markdown",
      "metadata": {},
      "source": [
      "### Box-sizing"
      ]
    },
{
      "cell_type": "markdown",
      "metadata": {},
      "source": [
      "By default, the `box-sizing` property is set to `content-box`. This means that the width and height do not include the padding and border. For example, if we have a `div` with a text, and we put a width and a height, the width and the height will be applied, and the element will behave as if it was a block.\n",
"\n",
"````html\n",
"<div>Text</div>\n",
"```\n",
"\n",
"```css\n",
"div {\n",
"    width: 100px;\n",
"    height: 100px;\n",
"}\n",
"```\n",
"\n",
"This way the `div` will have a width and a height of 100px.\n",
"\n",
"But if we now apply a padding of 10px, the width and height will remain the same, but the size of the box will be 120px, because the padding is added to the width and height.\n",
"\n",
"````html\n",
"<div>Text</div>\n",
"```\n",
"\n",
"```css\n",
"div {\n",
"    width: 100px;\n",
"    height: 100px;\n",
"    padding: 10px;\n",
"}\n",
"```\n",
"\n",
"This way the `div` will have a width and height of 100px, but the size of the box will be 120px."
      ]
    },
{
      "cell_type": "markdown",
      "metadata": {},
      "source": [
      "If we change the `box-sizing` property to `border-box`, the width and height will include the padding and border. For example, if we have a `div` with a text, and we put a width and a height, the width and the height will be applied, and the element will behave as if it was a block.\n",
"\n",
"````html\n",
"<div>Text</div>\n",
"```\n",
"\n",
"```css\n",
"div {\n",
"    width: 100px;\n",
"    height: 100px;\n",
"    box-sizing: border-box;\n",
"}\n",
"```\n",
"\n",
"This way the `div` will have a width and a height of 100px.\n",
"\n",
"But if we now apply a padding of 10px, the width and height will remain the same, and the size of the box will also be 100px, because the padding is not added to the width and height.\n",
"\n",
"````html\n",
"<div>Text</div>\n",
"```\n",
"\n",
"```css\n",
"div {\n",
"    width: 100px;\n",
"    height: 100px;\n",
"    box-sizing: border-box;\n",
"    padding: 10px;\n",
"}\n",
"```\n",
"\n",
"This way the `div` will have a width and height of 100px, and the size of the box will also be 100px.\n",
"\n",
"It is necessary to keep in mind that when the `box-sizing` property is changed to `border-box`, the width and the height include the padding and the border, reason why we cannot put a width and a height smaller than the padding and the border. For example, if we have a `div` with a text, and we put a width and a height, the width and the height will be applied, and the element will behave as if it was a block.\n",
"\n",
"````html\n",
"<div>Text</div>\n",
"```\n",
"\n",
"```css\n",
"div {\n",
"    width: 100px;\n",
"    height: 100px;\n",
"    box-sizing: border-box;\n",
"}\n",
"```\n",
"\n",
"This way the `div` will have a width and a height of 100px.\n",
"\n",
"But if we now apply a padding of 110px, the width and height will remain the same, but the size of the box will be 220px, because the padding is added to the width and height.\n",
"\n",
"````html\n",
"<div>Text</div>\n",
"```\n",
"\n",
"```css\n",
"div {\n",
"    width: 100px;\n",
"    height: 100px;\n",
"    box-sizing: border-box;\n",
"    padding: 110px;\n",
"}\n",
"```\n",
"\n",
"This way the `div` will have a width and height of 100px, but the size of the box will be 220px."
      ]
    },
{
      "cell_type": "markdown",
      "metadata": {},
      "source": [
      "### Overflow"
      ]
    },
{
      "cell_type": "markdown",
      "metadata": {},
      "source": [
      "One of the most famous CSS memes is as follows\n",
"\n",
"![CSS is awesome](https://css-tricks.com/wp-content/uploads/2021/04/css-is-awesome.jpg)\n",
"\n",
"And this occurs when the size of the content is larger than the size of the box. For example, if we have a `div` with a text, and we put a width and a height, the width and the height will be applied, and the element will behave as if it was a block.\n",
"\n",
"````html\n",
"<div>Text</div>\n",
"```\n",
"\n",
"```css\n",
"div {\n",
"    width: 100px;\n",
"    height: 100px;\n",
"}\n",
"```\n",
"\n",
"This way the `div` will have a width and a height of 100px.\n",
"\n",
"But if we now apply a very long text, the text will go out of the box, because the size of the content is larger than the size of the box.\n",
"\n",
"````html\n",
"<div>Text too long</div>.\n",
"```\n",
"\n",
"```css\n",
"div {\n",
"    width: 100px;\n",
"    height: 100px;\n",
"}\n",
"```\n",
"\n",
"This way the `div` will have a width and height of 100px, but the text will be outside the box."
      ]
    },
{
      "cell_type": "markdown",
      "metadata": {},
      "source": [
      "This happens because in CSS the `overflow` property is set to `visible`. This means that the content can go outside the box. But we have other options:\n",
"\n",
" * `hidden`: The content cannot be removed from the box, and is cut off.\n",
" * `scroll`: The content cannot be scrolled out of the box, and a scroll bar is added.\n",
" * `auto`: The content cannot be moved out of the box, and a scrollbar is added if necessary. In this case it depends on the device, because if the device has a scrollbar, a scrollbar will be added, and if the device does not have a scrollbar, a scrollbar will not be added.\n",
"\n",
"Between `scroll` and `auto` the recommended one is `auto`, because if the device has a scrollbar, a scrollbar will be added, and if the device does not have a scrollbar, a scrollbar will not be added.\n",
"\n",
"![aoverflow](https://lh3.googleusercontent.com/-tVNmvecB8A4/Ukqdi769oPI/AAAAAAAAAd0/kgisEf3RGRk/s538/CU01038D_1.png)"
      ]
    },
{
      "cell_type": "markdown",
      "metadata": {},
      "source": [
      "### Overflow hidden"
      ]
    },
{
      "cell_type": "markdown",
      "metadata": {},
      "source": [
      "In the case of choosing `hidden`, the content cannot go out of the box, and it is cut. In this case we have the `text-overlow` property, which allows us to configure what is done with the text that goes out of the box. The options are:\n",
"\n",
" * `clip`: The text is cut off.\n",
" * `ellipsis`: The text is cut, and `...` is added at the end of the text.\n",
"\n",
"In the future it will be possible to add a personalized symbol, but at the moment it is not possible."
      ]
    },
{
      "cell_type": "markdown",
      "metadata": {},
      "source": [
      "#### Bar styling"
      ]
    },
{
      "cell_type": "markdown",
      "metadata": {},
      "source": [
      "In case of overflows you can style the bar, but it is advisable not to style the page bar and only do it in internal box bars. For example, if the page has an index on the side, and we want to change the size and color of the bar to make it look better, we can do it.\n",
"\n",
"In [scrollbar.app](https://scrollbar.app/) we have an editor to be able to style the bar and obtain the necessary code"
      ]
    },
{
      "cell_type": "markdown",
      "metadata": {},
      "source": [
      "### Position"
      ]
    },
{
      "cell_type": "markdown",
      "metadata": {},
      "source": [
      "In html the elements are stacked, they are positioned statically by default, this is because by default in CSS they have the `position` attribute with the `static` value. This means that the element is positioned statically, and can not be moved. The possible values are\n",
"\n",
" * static`: The element is positioned statically, and cannot be moved.\n",
" * relative`: The element is positioned relatively, and can be moved.\n",
" * Absolute: The element is positioned absolutely, and can be moved.\n",
" * `fixed`: The element is positioned in a fixed way, and can be moved.\n",
" * `sticky`: The element is positioned in a sticky way, and can be moved.\n",
"\n",
"![Position](https://miro.medium.com/v2/resize:fit:600/1*WU2bIP1OCaS71r82S5zFeA.jpeg)"
      ]
    },
{
      "cell_type": "markdown",
      "metadata": {},
      "source": [
      "#### Position relative"
      ]
    },
{
      "cell_type": "markdown",
      "metadata": {},
      "source": [
      "When we want the position of an element to be relative to another we use `position: relative;`. But we must put `position: relative;` in the parent, and `position: absolute;` in the child. For example, if we have a `div` with a text, and we want the text to be in the upper right corner of the `div`, we can do it.\n",
"\n",
"````html\n",
"<div>\n",
"    <p>Text</p>\n",
"</div>\n",
"```\n",
"\n",
"```css\n",
"div {\n",
"    position: relative;\n",
"}\n",
"\n",
"p {\n",
"    position: absolute;\n",
"    top: 0;\n",
"    right: 50px;\n",
"}\n",
"```\n",
"\n",
"This way the text will be in the upper right corner of the `div`."
      ]
    },
{
      "cell_type": "markdown",
      "metadata": {},
      "source": [
      "#### Position absolute"
      ]
    },
{
      "cell_type": "markdown",
      "metadata": {},
      "source": [
      "When the element is `absolute`, the element is positioned absolutely to the first parent element that is not `static`. In the previous example we have seen that if we have a `div` with a text, and we want the text to be in the upper right corner of the `div`, we can do it.\n",
"\n",
"````html\n",
"<div>\n",
"    <p>Text</p>\n",
"</div>\n",
"```\n",
"\n",
"```css\n",
"div {\n",
"    position: relative;\n",
"}\n",
"\n",
"p {\n",
"    position: absolute;\n",
"    top: 0;\n",
"    right: 50px;\n",
"}\n",
"```\n",
"\n",
"In this example, the `div` has `position: relative;`, so the `p` is positioned absolutely to the `div`, in the upper right corner."
      ]
    },
{
      "cell_type": "markdown",
      "metadata": {},
      "source": [
      "In case there is no parent element that is not `static`, the element is positioned absolutely to the `body`, i.e. to the page.\n",
"\n",
"````html\n",
"<p>Text</p>\n",
"```\n",
"\n",
"```css\n",
"p {\n",
"    position: absolute;\n",
"    top: 0;\n",
"    right: 50px;\n",
"}\n",
"```\n",
"\n",
"In this example, the `p` has no parent element other than `static`, so the `p` is positioned absolutely to the `body`. That is, at the top right of the page."
      ]
    },
{
      "cell_type": "markdown",
      "metadata": {},
      "source": [
      "Thanks to the `relative` and `absolute` properties we can center a `div` horizontally and vertically. For example, if we have a `div` with a text, and we want the text to be centered horizontally and vertically, we can do it.\n",
"\n",
"````html\n",
"<div>\n",
"    <p>Text</p>\n",
"</div>\n",
"```\n",
"\n",
"```css\n",
"div {\n",
"    position: relative;\n",
"}\n",
"\n",
"p {\n",
"    position: absolute;\n",
"    top: 0;\n",
"    right: 0;\n",
"    bottom: 0;\n",
"    left: 0;\n",
"    margin: auto;\n",
"}\n",
"```\n",
"\n",
"In this example, the `div` has `position: relative;`, so the `p` is positioned absolutely to the `div`, in the upper right corner. Also, the `p` has `top: 0;`, `right: 0;`, `bottom: 0;` and `left: 0;`, so the `p` occupies the entire `div`. Finally, the `p` has `margin: auto;`, so the `p` is centered horizontally and vertically.\n",
"\n",
"This is not the best way to center the content in a `div`, but it can be very useful in some cases, such as in a modal."
      ]
    },
{
      "cell_type": "markdown",
      "metadata": {},
      "source": [
      "#### Position fixed"
      ]
    },
{
      "cell_type": "markdown",
      "metadata": {},
      "source": [
      "When the element is `fixed`, the element is positioned fixed to the window. It is similar to `absolute`, but instead of being positioned to the first parent element that is not `static`, it is positioned to the window. Also, if the window moves, the element moves with it, that is, if we scroll, the element will always be in the same position.\n",
"\n",
"For example, if we have a `div` with a text, and we want the text to be in the upper right corner of the window, we can do this.\n",
"\n",
"````html\n",
"<div>\n",
"    <p>Text</p>\n",
"</div>\n",
"```\n",
"\n",
"```css\n",
"p {\n",
"    position: fixed;\n",
"    top: 0;\n",
"    right: 50px;\n",
"}\n",
"```\n",
"\n",
"In this example, the `p` is positioned fixed to the window, in the upper right corner, and when scrolling, the `p` will always be in the same position."
      ]
    },
{
      "cell_type": "markdown",
      "metadata": {},
      "source": [
      "#### Position sticky"
      ]
    },
{
      "cell_type": "markdown",
      "metadata": {},
      "source": [
      "When the element is `sticky`, the element is positioned sticky to the first non-`static` parent element.\n",
"\n",
"It is similar to `relative`, but when the element reaches the top of the window, the element is positioned fixed to the window. Also, if the window moves, the element moves with it, that is, if we scroll, the element will always be in the same position.\n",
"\n",
"For example, if we have a `div` with a text, and we want the text to be in the upper right corner of the `div`, we can do that.\n",
"\n",
"````html\n",
"<div>\n",
"    <p>Text</p>\n",
"</div>\n",
"```\n",
"\n",
"```css\n",
"div {\n",
"    position: relative;\n",
"}\n",
"\n",
"p {\n",
"    position: sticky;\n",
"    top: 0;\n",
"    right: 50px;\n",
"}\n",
"```\n",
"\n",
"In this example, the `div` has `position: relative;`, so the `p` is positioned relative to the `div`, in the upper right corner. Also, the `p` has `top: 0;`, so the `p` is positioned sticky to the `div`. That is, when the `p` reaches the top of the window, the `p` is positioned sticky to the window.\n",
"\n",
"![sticky](https://miro.medium.com/v2/resize:fit:720/format:webp/1*kyrVMytQd1Dt19D0If5q3Q.gif)"
      ]
    },
{
      "cell_type": "markdown",
      "metadata": {},
      "source": [
      "### Z-index"
      ]
    },
{
      "cell_type": "markdown",
      "metadata": {},
      "source": [
      "As we have seen when changing the `position` of an element, the element is positioned above the other elements. So we need to have control of which element is or will be seen above the others. For this we have the `z-index` property. By default, all elements have `z-index: auto;`, but we can change it. For example, if we have a `div` with a text, and we want the text to be above the `div`, we can do it.\n",
"\n",
"````html\n",
"<div>\n",
"    <p>Text</p>\n",
"</div>\n",
"```\n",
"\n",
"```css\n",
"div {\n",
"    position: relative;\n",
"    z-index: 0;\n",
"}\n",
"\n",
"p {\n",
"    position: absolute;\n",
"    top: 0;\n",
"    right: 50px;\n",
"    z-index: 1;\n",
"}\n",
"```\n",
"\n",
"In this example, the `div` has `position: relative;` and `z-index: 0;`, so the `div` is positioned relative to the `div`, and the `div` has a `z-index` of 0. Also, the `p` has `position: absolute;`, `top: 0;`, `right: 50px;` and `z-index: 1;`, so the `p` is positioned absolutely to the `div`, in the top right corner, and the `p` has a `z-index` of 1. So the `p` will be on top of the `div`."
      ]
    },
{
      "cell_type": "markdown",
      "metadata": {},
      "source": [
      "If the `z-index` is not given, the children have a `z-index` greater than the parent. But for example, in the case of `position: sticky;`, the `z-index` of the child element is greater than the `z-index` of its parent, but when scrolling, if at any time the child matches another parent, the other parent will be above it.\n",
"\n",
"If we want that child to be seen above the other parents we can control it with the `z-index`.\n",
"\n",
"In the [Goolge CSS course](https://web.dev/learn/css/z-index?hl=es-419) you can see very well how the `z-index` works."
      ]
    },
{
      "cell_type": "markdown",
      "metadata": {},
      "source": [
      "## Flexbox and Grid"
      ]
    },
{
      "cell_type": "markdown",
      "metadata": {},
      "source": [
      "There are two ways to make layouts in CSS, with `flexbox` and with `grid`. `Flexbox` is older, and `grid` is newer. `Flexbox` is one-dimensional, and `grid` is two-dimensional. `Flexbox` is for simple layouts, and `grid` is for complex layouts."
      ]
    },
{
      "cell_type": "markdown",
      "metadata": {},
      "source": [
      "## Flexbox"
      ]
    },
{
      "cell_type": "markdown",
      "metadata": {},
      "source": [
      "As we have seen, we have containers which have `display: block;`, and containers which have `display: inline;`. The first ones are displayed on different lines, and the second ones are displayed on the same line. So if we have several `div`s they will be displayed one below the other, and if we have several `span`s they will be displayed on the same line.\n",
"\n",
"But if we want the `div`s to be seen on the same line and also in a flexible way, we can create a parent container that contains them and make the parent container have `display: flex;`.\n",
"\n",
"````html\n",
"<section>\n",
"    <div>Text</div>\n",
"    <div>Text</div>\n",
"    <div>Text</div>\n",
"</div>\n",
"```\n",
"\n",
"```css\n",
"section {\n",
"    display: flex;\n",
"}\n",
"```\n",
"\n",
"In this way the `div`s will be seen on the same line and also in a flexible way, i.e. if they do not fit on the same line, they will be put on the next line."
      ]
    },
{
      "cell_type": "markdown",
      "metadata": {},
      "source": [
      "### Flex-direction"
      ]
    },
{
      "cell_type": "markdown",
      "metadata": {},
      "source": [
      "Flexbox` is one-dimensional, so only one direction can be set. By default, the `flex-direction` property is set to `row`. This means that the elements are displayed on the same row. But we can change it to `column`, so that the items are displayed in different rows.\n",
"\n",
"````html\n",
"<section>\n",
"    <div>Text</div>\n",
"    <div>Text</div>\n",
"    <div>Text</div>\n",
"</section>\n",
"```\n",
"\n",
"```css\n",
"section {\n",
"    display: flex;\n",
"    flex-direction: column;\n",
"}\n",
"```\n",
"\n",
"In this way the `div`s will be displayed on different lines.\n",
"\n",
"This is very useful for making responsive layouts, because we can change the direction of the elements depending on the screen size."
      ]
    },
{
      "cell_type": "markdown",
      "metadata": {},
      "source": [
      "We can also specify the direction of the direction, with `flex-direction: row-reverse;` or `flex-direction: column-reverse;`. For example, if we have several `div`s, and we want them to be displayed on the same line, but in the opposite direction, we can do so.\n",
"\n",
"````html\n",
"<section>\n",
"    <div>Text</div>\n",
"    <div>Text</div>\n",
"    <div>Text</div>\n",
"</section>\n",
"```\n",
"\n",
"```css\n",
"section {\n",
"    display: flex;\n",
"    flex-direction: row-reverse;\n",
"}\n",
"```\n",
"\n",
"In this way the `div`s will be seen on the same line, but in the opposite direction.\n",
"\n",
"This is very useful when we want to order the elements in reverse order, for example, if we have a `ul` with a list, and we want the list to be displayed in reverse order, this way we don't need to program anything and it can be done with CSS."
      ]
    },
{
      "cell_type": "markdown",
      "metadata": {},
      "source": [
      "![flex-direction](https://byteiota.com/wp-content/uploads/2020/11/flex-direction.png)"
      ]
    },
{
      "cell_type": "markdown",
      "metadata": {},
      "source": [
      "### Direction"
      ]
    },
{
      "cell_type": "markdown",
      "metadata": {},
      "source": [
      "Another way to indicate the direction of the direction is with the `direction` property. By default, the `direction` property is set to `ltr`. This means that the direction is from left to right. But we can change it to `rtl`, so that the direction direction is from right to left.\n",
"\n",
"````html\n",
"<section>\n",
"    <div>Text</div>\n",
"    <div>Text</div>\n",
"    <div>Text</div>\n",
"</section>\n",
"```\n",
"\n",
"```css\n",
"section {\n",
"    display: flex;\n",
"    direction: rtl;\n",
"}\n",
"```\n",
"\n",
"![direction](https://rtlstyling.com/img/flexbox-axis.jpg)"
      ]
    },
{
      "cell_type": "markdown",
      "metadata": {},
      "source": [
      "### Flex-wrap"
      ]
    },
{
      "cell_type": "markdown",
      "metadata": {},
      "source": [
      "When elements do not fit on the same line, they are put on the next line. But we can change this behavior with the `flex-wrap` property. By default, the `flex-wrap` property is set to `nowrap`. This means that elements cannot be put on the next line. But we can change it to `wrap`, so that the elements can be put on the next line.\n",
"\n",
"````html\n",
"<section>\n",
"    <div>Text</div>\n",
"    <div>Text</div>\n",
"    <div>Text</div>\n",
"</section>\n",
"```\n",
"\n",
"```css\n",
"section {\n",
"    display: flex;\n",
"    flex-wrap: wrap;\n",
"}\n",
"```\n",
"\n",
"This way the `div`s can be put on the next line.\n",
"\n",
"![flex-wrap](https://static.platzi.com/media/user_upload/3-bc5be74e-4e40-438d-a2d9-b7a918f504fb.jpg)"
      ]
    },
{
      "cell_type": "markdown",
      "metadata": {},
      "source": [
      "### Flex-flow"
      ]
    },
{
      "cell_type": "markdown",
      "metadata": {},
      "source": [
      "One way to set the direction and wrap of elements is with the `flex-flow` property. By default, the `flex-flow` property is set to `row nowrap`. This means that the elements are displayed on the same line, and cannot be put on the next line. But we can change it to `row wrap`, so that the elements are displayed on the same line, and can be put on the next line.\n",
"\n",
"````html\n",
"<section>\n",
"    <div>Text</div>\n",
"    <div>Text</div>\n",
"    <div>Text</div>\n",
"</section>\n",
"```\n",
"\n",
"```css\n",
"section {\n",
"    display: flex;\n",
"    flex-flow: row wrap;\n",
"}\n",
"```\n",
"\n",
"This way the `div`s will be seen on the same line, and can be put on the next line.\n",
"\n",
"![flex-flow](https://i.stack.imgur.com/6vtqd.png)"
      ]
    },
{
      "cell_type": "markdown",
      "metadata": {},
      "source": [
      "### Flex-grow, Flex-shrink and Flex-basis"
      ]
    },
{
      "cell_type": "markdown",
      "metadata": {},
      "source": [
      "We can configure the size of the elements with the `flex-grow`, `flex-shrink` and `flex-basis` properties.\n",
"\n",
" * `flex-grow`: Indicates whether the element can grow or not. By default, the `flex-grow` property is set to `0`, which means that the element cannot grow. But we can change it to `1`, so that the element can grow.\n",
" * `flex-shrink`: Indicates whether the element can shrink or not. By default, the `flex-shrink` property is set to `1`, which means that the element can shrink. But we can change it to `0`, so that the element cannot shrink.\n",
" * `flex-basis`: Indicates the size of the element. By default, the `flex-basis` property is set to `auto`, which means that the element has an automatic size. But we can change it to `100px`, so that the element has a size of 100px.\n",
"\n",
"For example, if we have several `div`s, and we want the first `div` to have a size of 100px, and the others to share the remaining space, we can do this.\n",
"\n",
"````html\n",
"<section>\n",
"    <div>Text</div>\n",
"    <div>Text</div>\n",
"    <div>Text</div>\n",
"</section>\n",
"```\n",
"\n",
"```css\n",
"section {\n",
"    display: flex;\n",
"}\n",
"\n",
"section div:first-child {\n",
"    flex-grow: 0; /* As it is set to 0 by default, there is no need to set it */\n",
"    flex-shrink: 0; /* Since by default it is set to 1, there is no need to set it */\n",
"    flex-basis: 100px;\n",
"}\n",
"\n",
"section div {\n",
"    flex-grow: 1;\n",
"    flex-shrink: 1; /* Since by default it is set to 1, it is not necessary to set it */\n",
"    flex-basis: auto; /* As by default it is set to auto, there is no need to set it */\n",
"}\n",
"```\n",
"\n",
"In this way the first `div` will have a size of 100px, and the others will share the remaining space."
      ]
    },
{
      "cell_type": "markdown",
      "metadata": {},
      "source": [
      "\n",
"You can modify all three values at once with the `flex` property. For example, if we have several `div`s, and we want that the first `div` has a size of 100px, and the others divide the remaining space, we can do it.\n",
"\n",
"````html\n",
"<section>\n",
"    <div>Text</div>\n",
"    <div>Text</div>\n",
"    <div>Text</div>\n",
"</section>\n",
"```\n",
"\n",
"```css\n",
"section {\n",
"    display: flex;\n",
"}\n",
"\n",
"section div:first-child {\n",
"    flex: 0 0 100px;\n",
"}\n",
"\n",
"section div {\n",
"    flex: 1 1 car;\n",
"}\n",
"```\n",
"\n",
"In this way the first `div` will have a size of 100px, and the others will share the remaining space."
      ]
    },
{
      "cell_type": "markdown",
      "metadata": {},
      "source": [
      "Or you can also modify at once with `flex: initial;`, which is the same as `flex: 0 1 auto;`. Or with `flex: auto;`, which is the same as `flex: 1 1 auto;`. Or with `flex: none;`, which is the same as `flex: 0 0 auto;`. Or with `flex: 1;`, which is the same as `flex: 1 1 0%;`."
      ]
    },
{
      "cell_type": "markdown",
      "metadata": {},
      "source": [
      "Another way to modify `flex` is to put numbers, which will indicate the relative spacing of the container. For example, if we have several `div`s, and we want the first one to have twice the space of the second one, and the second one to have twice the space of the third one, we can do it.\n",
"\n",
"````html\n",
"<section>\n",
"    <div>Text</div>\n",
"    <div>Text</div>\n",
"    <div>Text</div>\n",
"</section>\n",
"```\n",
"\n",
"```css\n",
"section {\n",
"    display: flex;\n",
"}\n",
"\n",
"section div:first-child {\n",
"    flex: 4;\n",
"}\n",
"\n",
"section div:nth-child(2) {\n",
"    flex: 4;\n",
"}\n",
"\n",
"section div:nth-child(3) {\n",
"    flex: 1;\n",
"}\n",
"```\n",
"\n",
"In this way the first `div` will have twice the space of the second, and the second will have twice the space of the third."
      ]
    },
{
      "cell_type": "markdown",
      "metadata": {},
      "source": [
      "### Order"
      ]
    },
{
      "cell_type": "markdown",
      "metadata": {},
      "source": [
      "We can order the elements inside a container with the `order` property. By default, the `order` property is set to `0`. But we can change it to `1`, so that the element is placed after elements that have `order: 0;`. Or we can change it to `-1`, so that the element is put before the elements that have `order: 0;`.\n",
"\n",
"It is like `z-index`, but for the order of the elements. The higher the `order`, the later the element will be placed. For example, if we have several `div`s, and we want the first `div` to be placed after the second, we can do that.\n",
"\n",
"````html\n",
"<section>\n",
"    <div>Text 1</div>\n",
"    <div>Text 2</div>\n",
"    <div>Text 3</div>\n",
"</section>\n",
"```\n",
"\n",
"```css\n",
"section {\n",
"    display: flex;\n",
"}\n",
"\n",
"section div:first-child {\n",
"    order: 1;\n",
"}\n",
"\n",
"section div {\n",
"    order: 0;\n",
"}\n",
"```\n",
"\n",
"The result will be\n",
"\n",
"Text 2\n",
"\n",
"Text 3\n",
"\n",
"Text 1\n",
"\n",
"![order](https://p6-juejin.byteimg.com/tos-cn-i-k3u1fbpfcp/8a7d45de6a88466ca3f98f4f0505f4d7~tplv-k3u1fbpfcp-zoom-in-crop-mark:1512:0:0:0.awebp)"
      ]
    },
{
      "cell_type": "markdown",
      "metadata": {},
      "source": [
      "### Justify-content"
      ]
    },
{
      "cell_type": "markdown",
      "metadata": {},
      "source": [
      "Since `Flexbox` is one-dimensional, we can set the justification of the container elements on the axis of the container `Flexbox`. That is, if the axis of the container's `Flexbox` is horizontal, we can set the justification of the container's elements on the horizontal axis. And if the axis of the container `Flexbox` is vertical, we can set the justification of the container elements on the vertical axis.\n",
"\n",
"The possible values are:\n",
"\n",
" * `flex-start`: The elements are justified at the beginning of the `Flexbox` axis of the container.\n",
" * `flex-end`: The elements are justified at the end of the `Flexbox` axis of the container.\n",
" * center`: The elements are justified in the center of the `Flexbox` axis of the container.\n",
" * space-between: The elements are justified with the same space between them. No space is left at the sides of the first and last element.\n",
" * `space-around`: Elements are justified with the same space around them.\n",
" * space-evenly`: Elements are justified with the same space between and around them. That is, it is similar to `space-between`, but at the sides of the first and last element space is left. The space on the sides is the same as the space between the elements.\n",
"\n",
"![justify-content](https://css-tricks.com/wp-content/uploads/2018/10/justify-content.svg)"
      ]
    },
{
      "cell_type": "markdown",
      "metadata": {},
      "source": [
      "### Gap"
      ]
    },
{
      "cell_type": "markdown",
      "metadata": {},
      "source": [
      "Suppose we have several elements inside a container and we have set `justify-content: center;`. This will make the elements centered in the container, but glued together. If we want to have a space between the elements, we can put `gap: 10px;`. This way there will be a 10px space between the elements.\n",
"\n",
"````html\n",
"<section>\n",
"    <div>Text 1</div>\n",
"    <div>Text 2</div>\n",
"    <div>Text 3</div>\n",
"</section>\n",
"```\n",
"\n",
"```css\n",
"section {\n",
"    display: flex;\n",
"    justify-content: center;\n",
"    gap: 10px;\n",
"}\n",
"```\n",
"\n",
"![gap](data:image/png;base64,iVBORw0KGgoAAAANSUhEUgAAAMsAAAD4CAMAAAB1y+ICAAAB0VBMVEX///+ZXbX3lB97SpH5r1cAAAD/mR+CT5p+S5SfYLybXrh/TJb3khr6sFeFUZ7/tFmSWa2OVqhkP3VPNFx7TZCKVKNbXllVN2NwQIZzR43q6uqDT58AFAAlIyZmTR+VW7FkQRA7KUKNZjBLJlva2Nv4oj9xYHr3lycvFTv5q0/4oT34nDLsjh37+PxBNRuXmZWVT7VZMmrw6vPrpVA9G0sZGhhRQBs5KVbHjEbAwMDWxt2/pcu4m8Xl2uqBQJr06/nEdxZ7M5WUYqje0eSujb1fPH10Sg8pJRxiPoRfPyU9LSWDg4Pehh4ADRwACwCoc8GxbRRyII6aXxGheLPNudaxkL8YAB82OjQfHj0AEysfIQitra1zSSE6J1Ctezw+MTZ+fn5HNUUwJxEiG0JBLwmlfrbbxOe5jc/LrNsaFRwYDB0iHjRcO22VjZmse8VfVGRWN1ZCMCWFVBFLS0tjQSRvEI3l0+62iM0HABAvLy9maWU6DUtPUk66sb8AEhiBXi04KwQuJTPQijarmbW5hD1qThYtJhZvT36Fco1nUnJWRl6hm6VkRXFtZXAwHTkkCC+EY5WUgpyGUgCskrl8dH9rXXIQEjRMNQBLODSQeJxKQ03O3nHEAAAbrElEQVR4nO1djV8S2d4fRASGQEEnJDA08xramAyhhoKCkHvX1Axs1S5WvqQmtb3cautupm7btretvbvP3nzu/rXPeZlX5swwJCreh++nFGfOnDnfOWde+P2+8z0UVUMNNdRQQw1HDjYGf8Zix92OCmA8OctRXDK9luSOuynGkcvBHojlxikqzg0Pg5bHWLTCz1GpHFiforh4bDiOOoodP+bW6iIxkkvNcrG1XDZNZRO5HOiNBO6JBMfOgl/gx/DscCwRo1LDbKKah1wuDX7Mxql4LJ6g/OCo57LCqgTHJeDvJJseocBwo6hssqq7ZQQ0k0rG11LDI0nQajDOGGGV"
      ]
    },
{
      "cell_type": "markdown",
      "metadata": {},
      "source": [
      "### Align-items"
      ]
    },
{
      "cell_type": "markdown",
      "metadata": {},
      "source": [
      "So far we have seen how to distribute the elements on the main axis of the `Flexbox`. But what about the secondary axis? For this we have the `align-items` property. This property allows us to align the elements on the secondary axis of the `Flexbox`.\n",
"\n",
"````html\n",
"<section>\n",
"    <div>Text 1</div>\n",
"    <div>Text 2</div>\n",
"    <div>Text 3</div>\n",
"</section>\n",
"```\n",
"\n",
"```css\n",
"section {\n",
"    display: flex;\n",
"    align-items: center;\n",
"}\n",
"```\n",
"\n",
"![align-items](https://css-tricks.com/wp-content/uploads/2018/10/align-items.svg)"
      ]
    },
{
      "cell_type": "markdown",
      "metadata": {},
      "source": [
      "### Align-content"
      ]
    },
{
      "cell_type": "markdown",
      "metadata": {},
      "source": [
      "With `align-content` we can align the content of the container on the secondary axis. This property is similar to `align-items`, but instead of aligning the elements, it aligns the content of the container.\n",
"\n",
"````html\n",
"<section>\n",
"    <div>Text 1</div>\n",
"    <div>Text 2</div>\n",
"    <div>Text 3</div>\n",
"</section>\n",
"```\n",
"\n",
"```css\n",
"section {\n",
"    display: flex;\n",
"    align-content: center;\n",
"    flex-wrap: wrap;\n",
"    height: 200px;\n",
"}\n",
"```\n",
"\n",
"![align-content](https://css-tricks.com/wp-content/uploads/2018/10/align-content.svg)"
      ]
    },
{
      "cell_type": "markdown",
      "metadata": {},
      "source": [
      "### Align-content vs Align-items"
      ]
    },
{
      "cell_type": "markdown",
      "metadata": {},
      "source": [
      "As there may be confusion between `align-content` and `align-items`, let's look at an example to see the difference between the two properties.\n",
"\n",
"````html\n",
"<section>\n",
"    <div>Text 1</div>\n",
"    <div>Text 2</div>\n",
"    <div>Text 3</div>\n",
"    <div>Text 4</div>\n",
"    <div>Text 5</div>\n",
"    <div>Text 6</div>\n",
"    <div>Text 7</div>\n",
"    <div>Text 8</div>\n",
"    <div>Text 9</div>\n",
"</section>\n",
"```\n",
"\n",
"```css\n",
"section {\n",
"    display: flex;\n",
"    align-items: center;\n",
"    align-content: center;\n",
"    flex-wrap: wrap;\n",
"    height: 200px;\n",
"}\n",
"```\n",
"\n",
"With `align-items` we align the elements on the secondary axis, while with `align-content` we align the content of the container on the secondary axis. That is, with `align-items` we align the elements between them, while with `align-content` we align the content of the container. In the previous example we can see that with `align-items` the elements are aligned between them, while with `align-content` the content of the container is aligned on the secondary axis."
      ]
    },
{
      "cell_type": "markdown",
      "metadata": {},
      "source": [
      "### Align-self"
      ]
    },
{
      "cell_type": "markdown",
      "metadata": {},
      "source": [
      "Sometimes we need to align an element in the secondary axis differently from the rest of the elements. For this we have the `align-self` property. This property allows us to align an element on the secondary axis differently from the rest of the elements.\n",
"\n",
"Until now we aligned the elements on the parent, but with `align-self` we can align an element on the secondary axis differently from the rest of the elements.\n",
"\n",
"````html\n",
"<section>\n",
"    <div>Text 1</div>\n",
"    <div>Text 2</div>\n",
"    <div>Text 3</div>\n",
"</section>\n",
"```\n",
"\n",
"```css\n",
"section {\n",
"    display: flex;\n",
"    align-items: center;\n",
"}\n",
"\n",
"section div:nth-child(2) {\n",
"    align-self: flex-end;\n",
"}\n",
"```\n",
"\n",
"![align-self](https://css-tricks.com/wp-content/uploads/2018/10/align-self.svg)"
      ]
    },
{
      "cell_type": "markdown",
      "metadata": {},
      "source": [
      "### Flexbox practice"
      ]
    },
{
      "cell_type": "markdown",
      "metadata": {},
      "source": [
      "A good resource for practicing Flexbox is [Flexbox Froggy](https://flexboxfroggy.com/#es)."
      ]
    },
{
      "cell_type": "markdown",
      "metadata": {},
      "source": [
      "## Grid"
      ]
    },
{
      "cell_type": "markdown",
      "metadata": {},
      "source": [
      "If we need to create a more complex layout, we can use `Grid`. `Grid` is a two-dimensional grid system that allows us to create more complex layouts than with `Flexbox`.\n",
"\n",
"![grid](https://miro.medium.com/v2/resize:fit:860/1*FifZUGz97Onmb7RUOairbg.png)"
      ]
    },
{
      "cell_type": "markdown",
      "metadata": {},
      "source": [
      "### Grid container"
      ]
    },
{
      "cell_type": "markdown",
      "metadata": {},
      "source": [
      "Let's see an example of how to layout with `Grid`. For this we are going to use the following HTML structure.\n",
"\n",
"````html\n",
"<section>\n",
"    <div>Text 1</div>\n",
"    <div>Text 2</div>\n",
"    <div>Text 3</div>\n",
"    <div>Text 4</div>\n",
"    <div>Text 5</div>\n",
"    <div>Text 6</div>\n",
"    <div>Text 7</div>\n",
"    <div>Text 8</div>\n",
"    <div>Text 9</div>\n",
"</section>\n",
"```\n",
"\n",
"To create a `Grid` we need to create a container with the `display: grid` property, remember that by default containers have by default `display:block`. This container is known as `Grid container`.\n",
"\n",
"```css\n",
"section {\n",
"    display: grid;\n",
"}\n",
"```\n",
"\n",
"This code will create a `Grid` with a single column and as many rows as we have elements."
      ]
    },
{
      "cell_type": "markdown",
      "metadata": {},
      "source": [
      "If we want to change the number of columns, we can use the `grid-template-columns` property. This property allows us to define the number of columns that our `Grid` will have. To define the number of columns we can use units of measure like `px`, `em`, `rem`, `fr`, etc.\n",
"\n",
"We are going to create as many columns as units of measurement we define. In the following example we are going to create 3 columns of 100px each.\n",
"\n",
"```css\n",
"section {\n",
"    display: grid;\n",
"    grid-template-columns: 100px 100px 100px 100px;\n",
"}\n",
"```\n",
"\n",
"With this example we have created a `Grid` with 3 columns of 100px each."
      ]
    },
{
      "cell_type": "markdown",
      "metadata": {},
      "source": [
      "We can define the width of one of the columns with `auto` and the rest with a measure, in this way the column with `auto` will adapt to the content, while the rest of the columns will have the width that we have defined.\n",
"\n",
"By setting `auto` the browser will decide the width of the column based on the space in the container and the space occupied by the contents of the column.\n",
"\n",
"```css\n",
"section {\n",
"    display: grid;\n",
"    grid-template-columns: auto 100px 100px;\n",
"}\n",
"```\n",
"\n",
"The first column will be adapted to the content, while the other two will have a width of 100px.\n",
"\n",
"If we define two columns with `auto`, the browser will distribute the space between the two columns, but it does not have to be the same space for each column, since as we have said the space will depend on the space of the container and the space of the content.\n",
"\n",
"```css\n",
"section {\n",
"    display: grid;\n",
"    grid-template-columns: auto auto 100px;\n",
"}\n",
"```\n",
"\n",
"In this example the first two columns will be adapted to the content, while the third one will have a width of 100px."
      ]
    },
{
      "cell_type": "markdown",
      "metadata": {},
      "source": [
      "### Fraction"
      ]
    },
{
      "cell_type": "markdown",
      "metadata": {},
      "source": [
      "There is a unit of measure that only exists in `Grid` and it is `fr`. This unit of measure allows us to define the width of the columns according to the available space in the container.\n",
"\n",
"```css\n",
"section {\n",
"    display: grid;\n",
"    grid-template-columns: 1fr 1fr 1fr 1fr;\n",
"}\n",
"```\n",
"\n",
"In this example the three columns will have the same width, since the available space in the container will be divided among the three columns.\n",
"\n",
"```css\n",
"section {\n",
"    display: grid;\n",
"    grid-template-columns: 1fr 2fr 1fr;\n",
"}\n",
"```\n",
"\n",
"In this example the second column will be twice as wide as the other two, since the available space in the container will be divided among the three columns, but the second column will have twice as much space as the other two."
      ]
    },
{
      "cell_type": "markdown",
      "metadata": {},
      "source": [
      "We can do the same with the rows, for this we use the `grid-template-rows` property.\n",
"\n",
"```css\n",
"section {\n",
"    display: grid;\n",
"    grid-template-columns: 1fr 2fr 1fr;\n",
"    grid-template-rows: 1fr 2fr 1fr;\n",
"}\n",
"```"
      ]
    },
{
      "cell_type": "markdown",
      "metadata": {},
      "source": [
      "### Empty grid"
      ]
    },
{
      "cell_type": "markdown",
      "metadata": {},
      "source": [
      "We have said that we can divide the `Grid` in columns and rows, for this we put as many units of measure as columns or rows we want. But what happens if we put more units of measure than we need.\n",
"\n",
"````html\n",
"<section>\n",
"    <div>Text 1</div>\n",
"    <div>Text 2</div>\n",
"    <div>Text 3</div>\n",
"    <div>Text 4</div>\n",
"    <div>Text 5</div>\n",
"    <div>Text 6</div>\n",
"    <div>Text 7</div>\n",
"    <div>Text 8</div>\n",
"    <div>Text 9</div>\n",
"</section>\n",
"```\n",
"\n",
"```css\n",
"section {\n",
"    display: grid;\n",
"    grid-template-columns: 1fr 1fr 1fr 1fr 1fr 1fr;\n",
"    grid-template-rows: 1fr 1fr 1fr 1fr 1fr 1fr;\n",
"}\n",
"```\n",
"\n",
"In this example a `Grid` will be created with 4 columns and 4 rows, but we only have 9 elements, while we have created a grid of 16 elements. What happens with the 7 elements that are left over? The browser creates them empty."
      ]
    },
{
      "cell_type": "markdown",
      "metadata": {},
      "source": [
      "### Grid-auto-rows"
      ]
    },
{
      "cell_type": "markdown",
      "metadata": {},
      "source": [
      "If at the time of creating the `Grid` we only define the `grid-template-columns` value, the browser will create the necessary rows for the columns we have defined, but it will create them with the default size, that is to say, with the size of the content.\n",
"\n",
"If we want to define the size of the rows we can use the `grid-auto-rows` property. This property allows us to define the size of the rows that are created by default.\n",
"\n",
"```css\n",
"section {\n",
"    display: grid;\n",
"    grid-template-columns: 1fr 1fr 1fr 1fr 1fr 1fr;\n",
"    grid-auto-rows: 100px;\n",
"}\n",
"```\n",
"\n",
"In this example we will create a `Grid` with 4 columns and as many rows as we have elements, but the size of the rows will be 100px."
      ]
    },
{
      "cell_type": "markdown",
      "metadata": {},
      "source": [
      "Suppose we have also defined `grid-template-rows`, but we have defined the size of the first rows and not all the necessary rows, with `grid-auto-rows` we can define the size of the missing rows.\n",
"\n",
"```css\n",
"section {\n",
"    display: grid;\n",
"    grid-template-columns: 1fr 1fr 1fr 1fr 1fr 1fr;\n",
"    grid-template-rows: 100px 100px;\n",
"    grid-auto-rows: 50px;\n",
"}\n",
"```\n",
"\n",
"In this example a `Grid` will be created with 4 columns and as many rows as elements we have, but the size of the first two rows will be 100px, while the size of the rest of the rows will be 50px.\n",
"\n",
"This is very useful when we do not know how many elements we are going to have, since we can define the size of the first rows and the size of the rows that are created by default."
      ]
    },
{
      "cell_type": "markdown",
      "metadata": {},
      "source": [
      "### Repeat"
      ]
    },
{
      "cell_type": "markdown",
      "metadata": {},
      "source": [
      "Let's imagine that we want to create a `Grid` with 100 columns and all of the same size. We would have to write 100 times the unit of measure that we want to use. To avoid this we can use the `repeat` property.\n",
"\n",
"```css\n",
"section {\n",
"    display: grid;\n",
"    grid-template-columns: repeat(100, 1fr);\n",
"}\n",
"```\n",
"\n",
"With `repeat` we can define the number of columns we want and the unit of measure we want to use."
      ]
    },
{
      "cell_type": "markdown",
      "metadata": {},
      "source": [
      "We can use `repeat` with grid subparts. For example, imagine that we want to create 100 columns again, but we want the first and the last column to have a width of 100px and the rest of the columns to have a width of 1fr.\n",
"\n",
"```css\n",
"section {\n",
"    display: grid;\n",
"    grid-template-columns: 100px repeat(98, 1fr) 100px;\n",
"}\n",
"```"
      ]
    },
{
      "cell_type": "markdown",
      "metadata": {},
      "source": [
      "Now suppose we have a pattern of columns that repeats every 3 columns. We can use `repeat` to define this pattern.\n",
"\n",
"```css\n",
"section {\n",
"    display: grid;\n",
"    grid-template-columns: repeat(3, 100px 1fr);\n",
"}\n",
"```\n",
"\n",
"In this way we create a 6-column grid, where the pattern is repeated every 2 columns."
      ]
    },
{
      "cell_type": "markdown",
      "metadata": {},
      "source": [
      "### minmax"
      ]
    },
{
      "cell_type": "markdown",
      "metadata": {},
      "source": [
      "Perhaps we do not know the exact size of a row or a column, but what we want is that it occupies a size between a minimum and a maximum. For this we can use the `minmax` property.\n",
"\n",
"```css\n",
"section {\n",
"    display: grid;\n",
"    grid-template-columns: minmax(100px, 1fr) 1fr 1fr 1fr 1fr 1fr;\n",
"}\n",
"```\n",
"\n",
"In this example we want each column to be 25% of the width of the container, but we want the first column to have a minimum width of 100px. That is, if the space occupied by the first column is less than 100px, the column will have a width of 100px, but if the space occupied by the first column is greater than 100px, the column will have a width of 25% of the container.\n",
"\n",
"This is very useful for example when we have an index on the side of the page and we want it to occupy a minimum width, but if the available space is larger, it occupies the space that corresponds to it.\n",
"\n",
"````html\n",
"<div>\n",
"    <aside>Index</aside>.\n",
"    <main>Content</main>.\n",
"</div>\n",
"```\n",
"\n",
"```css\n",
"div {\n",
"    display: grid;\n",
"    grid-template-columns: minmax(100px, 1fr) 5fr;\n",
"}\n",
"```\n",
"\n",
"In this way the index will have a minimum width of 100px, but if the available space is larger, the index will occupy the space that corresponds to it."
      ]
    },
{
      "cell_type": "markdown",
      "metadata": {},
      "source": [
      "### Grid-column-gap and Grid-row-gap"
      ]
    },
{
      "cell_type": "markdown",
      "metadata": {},
      "source": [
      "If we want to add a space between columns or between rows, we can use the `grid-column-gap` and `grid-row-gap` properties.\n",
"\n",
"```css\n",
"section {\n",
"    display: grid;\n",
"    grid-template-columns: repeat(3, 100px);\n",
"    grid-column-gap: 20px;\n",
"}\n",
"```\n",
"\n",
"In this example we have created a `Grid` with 3 columns of 100px each and a space of 20px between columns.\n",
"\n",
"```css\n",
"section {\n",
"    display: grid;\n",
"    grid-template-columns: repeat(3, 100px);\n",
"    grid-row-gap: 20px;\n",
"}\n",
"```\n",
"\n",
"In this example we have created a `Grid` with 3 columns of 100px each and a space of 20px between the rows."
      ]
    },
{
      "cell_type": "markdown",
      "metadata": {},
      "source": [
      "We can define the spacing between columns and rows with the `grid-gap` property.\n",
"\n",
"```css\n",
"section {\n",
"    display: grid;\n",
"    grid-template-columns: repeat(3, 100px);\n",
"    grid-gap: 20px 10px;\n",
"}\n",
"```\n",
"\n",
"In this example we have created a `Grid` with 3 columns of 100px each and a space of 20px between columns and a space of 10px between rows.\n",
"\n",
"```css\n",
"section {\n",
"    display: grid;\n",
"    grid-template-columns: repeat(3, 100px);\n",
"    grid-gap: 20px;\n",
"}\n",
"```\n",
"\n",
"In this example we have created a `Grid` with 3 columns of 100px each and a space of 20px between columns and rows."
      ]
    },
{
      "cell_type": "markdown",
      "metadata": {},
      "source": [
      "### Auto-fill and Auto-fit"
      ]
    },
{
      "cell_type": "markdown",
      "metadata": {},
      "source": [
      "With `auto-fill` and `auto-fit` we can create a `Grid` with a number of columns or rows that adapts to the available space in the container, so we can make the `Grid` responsive.\n",
"\n",
"```css\n",
"section {\n",
"    display: grid;\n",
"    grid-template-columns: repeat(auto-fill, 100px);\n",
"}\n",
"```\n",
"\n",
"In this example as many columns will be created as will fit in the container, but each column will have a width of 100px.\n",
"\n",
"```css\n",
"section {\n",
"    display: grid;\n",
"    grid-template-columns: repeat(auto-fit, 100px);\n",
"}\n",
"```\n",
"\n",
"In this example, as many columns as will fit in the container will be created, but each column will have a width of 100px and if there is space left over in the container, the space will be divided between the columns."
      ]
    },
{
      "cell_type": "markdown",
      "metadata": {},
      "source": [
      "Now we can make it more complete\n",
"\n",
"```css\n",
"section {\n",
"    display: grid;\n",
"    grid-template-columns: repeat(auto-fit, minmax(100px, 1fr));\n",
"}\n",
"```\n",
"\n",
"In this example as many columns as fit in the container will be created, but each column will have a minimum width of 100px and if space is left over in the container, the space will be divided between the columns. As we make the browser smaller, the columns will be adapted to the available space, until it reaches a point where they should have a width less than 100px, so a column will be removed and the space will be redistributed among the remaining columns.\n",
"\n",
"```css\n",
"section {\n",
"    display: grid;\n",
"    grid-template-columns: repeat(auto-fit, minmax(100px, 1fr));\n",
"    grid-gap: 20px;\n",
"}\n",
"```\n",
"\n",
"In this example, as many columns as will fit in the container will be created, but each column will have a minimum width of 100px and if there is space left over in the container, the space will be split between the columns and there will be a 20px space between the columns."
      ]
    },
{
      "cell_type": "markdown",
      "metadata": {},
      "source": [
      "### Auto-fill vs Auto-fit"
      ]
    },
{
      "cell_type": "markdown",
      "metadata": {},
      "source": [
      "The difference between `auto-fill` and `auto-fit` is that `auto-fill` creates as many columns or rows as will fit in the container, while `auto-fit` creates as many columns or rows as will fit in the container, but if there is space left over in the container, the space will be divided among the columns or rows.\n",
"\n",
"That is, `auto-fill` creates as many columns or rows as will fit in the container, but if there is space left over in the container, the space will not be divided among the columns or rows, while `auto-fit` creates as many columns or rows as will fit in the container, but if there is space left over in the container, the space will be divided among the columns or rows."
      ]
    },
{
      "cell_type": "markdown",
      "metadata": {},
      "source": [
      "### Grid-column-start and Grid-column-end (bento grid)"
      ]
    },
{
      "cell_type": "markdown",
      "metadata": {},
      "source": [
      "So far we have seen how to create a `Grid` with columns and rows, but what if we want an element to occupy more than one column or row? For this we have the `grid-column-start` and `grid-column-end` properties.\n",
"\n",
"````html\n",
"<section>\n",
"    <div>Text 1</div>\n",
"    <div>Text 2</div>\n",
"    <div>Text 3</div>\n",
"    <div>Text 4</div>\n",
"    <div>Text 5</div>\n",
"    <div>Text 6</div>\n",
"    <div>Text 7</div>\n",
"    <div>Text 8</div>\n",
"    <div>Text 9</div>\n",
"</section>\n",
"```\n",
"\n",
"```css\n",
"section {\n",
"    display: grid;\n",
"    grid-template-columns: repeat(3, 100px);\n",
"    grid-gap: 20px;\n",
"}\n",
"\n",
"section div:nth-child(2) {\n",
"    grid-column-start: 1;\n",
"    grid-column-end: 3;\n",
"}\n",
"```\n",
"\n",
"In this example we have created a `Grid` with 3 columns of 100px each and a space of 20px between the columns. The second element occupies from the first column to the third column."
      ]
    },
{
      "cell_type": "markdown",
      "metadata": {},
      "source": [
      "We can also tell it the start and end of the column with the `grid-column` property.\n",
"\n",
"```css\n",
"section {\n",
"    display: grid;\n",
"    grid-template-columns: repeat(3, 100px);\n",
"    grid-gap: 20px;\n",
"}\n",
"\n",
"section div:nth-child(2) {\n",
"    grid-column: 1 / 3;\n",
"}\n",
"```\n",
"\n",
"In this example we have created a `Grid` with 3 columns of 100px each and a space of 20px between the columns. The second element occupies from the first column to the third column."
      ]
    },
{
      "cell_type": "markdown",
      "metadata": {},
      "source": [
      "If we do not want to tell it where to end, but how many columns we want it to occupy, we can use the `span` property.\n",
"\n",
"```css\n",
"section {\n",
"    display: grid;\n",
"    grid-template-columns: repeat(3, 100px);\n",
"    grid-gap: 20px;\n",
"}\n",
"\n",
"section div:nth-child(2) {\n",
"    grid-column-start: 1;\n",
"    grid-column-end: span 2;\n",
"}\n",
"```\n",
"\n",
"In this example we have created a `Grid` with 3 columns of 100px each and a space of 20px between the columns. The second element occupies from the first column to the second column, that is, it occupies two columns."
      ]
    },
{
      "cell_type": "markdown",
      "metadata": {},
      "source": [
      "If we want to position them at the end, but we do not know how many columns there are, we can use negative numbers.\n",
"\n",
"```css\n",
"section {\n",
"    display: grid;\n",
"    grid-template-columns: repeat(3, 100px);\n",
"    grid-gap: 20px;\n",
"}\n",
"\n",
"section div:nth-child(2) {\n",
"    grid-column-start: 1;\n",
"    grid-column-end: -1;\n",
"}\n",
"```\n",
"\n",
"In this example we have created a `Grid` with 3 columns of 100px each and a space of 20px between the columns. The second element occupies from the first column to the last column, that is, it occupies all three columns."
      ]
    },
{
      "cell_type": "markdown",
      "metadata": {},
      "source": [
      "### Grid-row-start and Grid-row-end (bento grid)"
      ]
    },
{
      "cell_type": "markdown",
      "metadata": {},
      "source": [
      "We can do the same with the rows, for this we have the `grid-row-start` and `grid-row-end` properties.\n",
"\n",
"````html\n",
"<section>\n",
"    <div>Text 1</div>\n",
"    <div>Text 2</div>\n",
"    <div>Text 3</div>\n",
"    <div>Text 4</div>\n",
"    <div>Text 5</div>\n",
"    <div>Text 6</div>\n",
"    <div>Text 7</div>\n",
"    <div>Text 8</div>\n",
"    <div>Text 9</div>\n",
"</section>\n",
"```\n",
"\n",
"```css\n",
"section {\n",
"    display: grid;\n",
"    grid-template-columns: repeat(3, 100px);\n",
"    grid-gap: 20px;\n",
"}\n",
"\n",
"section div:nth-child(2) {\n",
"    grid-row-start: 1;\n",
"    grid-row-end: 3;\n",
"}\n",
"```\n",
"\n",
"In this example we have created a `Grid` with 3 columns of 100px each and a space of 20px between the columns. The second element occupies from the first row to the third row."
      ]
    },
{
      "cell_type": "markdown",
      "metadata": {},
      "source": [
      "We can also tell it the start and end of the row with the `grid-row` property.\n",
"\n",
"```css\n",
"section {\n",
"    display: grid;\n",
"    grid-template-columns: repeat(3, 100px);\n",
"    grid-gap: 20px;\n",
"}\n",
"\n",
"section div:nth-child(2) {\n",
"    grid-row: 1 / 3;\n",
"}\n",
"```"
      ]
    },
{
      "cell_type": "markdown",
      "metadata": {},
      "source": [
      "As before, if we do not want to tell it where to end, but how many rows we want it to occupy, we can use the `span` property.\n",
"\n",
"```css\n",
"section {\n",
"    display: grid;\n",
"    grid-template-columns: repeat(3, 100px);\n",
"    grid-gap: 20px;\n",
"}\n",
"\n",
"section div:nth-child(2) {\n",
"    grid-row-start: 1;\n",
"    grid-row-end: span 2;\n",
"}\n",
"```\n",
"\n",
"In this example we have created a `Grid` with 3 columns of 100px each and a space of 20px between the columns. The second element occupies from the first row to the second row, that is, it occupies two rows."
      ]
    },
{
      "cell_type": "markdown",
      "metadata": {},
      "source": [
      "If we want to position them at the end, but we do not know how many rows there are, we can use negative numbers.\n",
"\n",
"```css\n",
"section {\n",
"    display: grid;\n",
"    grid-template-columns: repeat(3, 100px);\n",
"    grid-gap: 20px;\n",
"}\n",
"\n",
"section div:nth-child(2) {\n",
"    grid-row-start: 1;\n",
"    grid-row-end: -1;\n",
"}\n",
"```\n",
"\n",
"In this example we have created a `Grid` with 3 columns of 100px each and a space of 20px between the columns. The second element occupies from the first row to the last row, that is, it occupies all three rows."
      ]
    },
{
      "cell_type": "markdown",
      "metadata": {},
      "source": [
      "### Overlapping elements"
      ]
    },
{
      "cell_type": "markdown",
      "metadata": {},
      "source": [
      "We can position the elements so that they overlap each other.\n",
"\n",
"````html\n",
"<section>\n",
"    <div>Text 1</div>\n",
"    <div>Text 2</div>\n",
"    <div>Text 3</div>\n",
"    <div>Text 4</div>\n",
"    <div>Text 5</div>\n",
"    <div>Text 6</div>\n",
"    <div>Text 7</div>\n",
"    <div>Text 8</div>\n",
"    <div>Text 9</div>\n",
"</section>\n",
"```\n",
"\n",
"```css\n",
"section {\n",
"    display: grid;\n",
"    grid-template-columns: repeat(3, 100px);\n",
"    grid-gap: 20px;\n",
"}\n",
"\n",
"section div:first-child {\n",
"    grid-column-start: 1;\n",
"    grid-column-end: 2;\n",
"    grid-row-start: 1;\n",
"    grid-row-end: 2;\n",
"}\n",
"\n",
"section div:nth-child(2) {\n",
"    grid-column-start: 1;\n",
"    grid-column-end: 2;\n",
"    grid-row-start: 1;\n",
"    grid-row-end: 2;\n",
"}\n",
"```\n",
"\n",
"In this example we have created a `Grid` with 3 columns of 100px each and a space of 20px between the columns. The first element occupies from the first column to the second column and from the first row to the second row. The second element occupies from the first column to the second column and from the first row to the second row."
      ]
    },
{
      "cell_type": "markdown",
      "metadata": {},
      "source": [
      "To control which of the elements overlaps the other, we can use the `z-index` property.\n",
"\n",
"```css\n",
"section {\n",
"    display: grid;\n",
"    grid-template-columns: repeat(3, 100px);\n",
"    grid-gap: 20px;\n",
"}\n",
"\n",
"section div:first-child {\n",
"    grid-column-start: 1;\n",
"    grid-column-end: 2;\n",
"    grid-row-start: 1;\n",
"    grid-row-end: 2;\n",
"    z-index: 1;\n",
"}\n",
"\n",
"section div:nth-child(2) {\n",
"    grid-column-start: 1;\n",
"    grid-column-end: 2;\n",
"    grid-row-start: 1;\n",
"    grid-row-end: 2;\n",
"    z-index: 2;\n",
"}\n",
"```\n",
"\n",
"In this example we have created a `Grid` with 3 columns of 100px each and a space of 20px between the columns. The first element occupies from the first column to the second column and from the first row to the second row. The second element occupies from the first column to the second column and from the first row to the second row. Since the second element has a `z-index` greater than the first element, the second element overlaps the first element."
      ]
    },
{
      "cell_type": "markdown",
      "metadata": {},
      "source": [
      "### Layouts with Grid"
      ]
    },
{
      "cell_type": "markdown",
      "metadata": {},
      "source": [
      "Now that we know the basic properties of `Grid`, let's see how we can create layouts with `Grid`.\n",
"\n",
"````html\n",
"<header>Header</header>.\n",
"<aside>Aside</aside>.\n",
"<main>Main</main>.\n",
"<footer>Footer</footer>.\n",
"```\n",
"\n",
"```css\n",
"body {\n",
"    display: grid;\n",
"    grid-template-columns: 1fr 1fr 1fr 1fr;\n",
"    grid-template-rows: 35px 1fr 100px;\n",
"    min-height: 100vh;\n",
"}\n",
"\n",
"header {\n",
"    grid-column: 1 / -1;\n",
"}\n",
"\n",
"main {\n",
"    grid-column: span 2;\n",
"}\n",
"\n",
"footer {\n",
"    grid-column: 1 / -1;\n",
"}\n",
"```\n",
"\n",
"In this example we have created a `Grid` with 3 columns and 3 rows. The first row has a height of 35px, the second row occupies the rest of the available space and the third row has a height of 100px. The header occupies from the first column to the last column, the main occupies from the first column to the second column and the footer occupies from the first column to the last column.\n",
"\n",
"We have set `min-height: 100vh` so that the `Grid` occupies 100% of the height of the screen, because if we do not set this, the `Grid` will only occupy the height of the content."
      ]
    },
{
      "cell_type": "markdown",
      "metadata": {},
      "source": [
      "However, it is difficult to understand when viewing the CSS, so we can use the `grid-area` property."
      ]
    },
{
      "cell_type": "markdown",
      "metadata": {},
      "source": [
      "### Grid-area"
      ]
    },
{
      "cell_type": "markdown",
      "metadata": {},
      "source": [
      "We can name each of the areas of the `Grid` and then use that name to position the elements.\n",
"\n",
"````html\n",
"<header>Header</header>.\n",
"<aside>Aside</aside>.\n",
"<main>Main</main>.\n",
"<footer>Footer</footer>.\n",
"```\n",
"\n",
"```css\n",
"body {\n",
"    display: grid;\n",
"    grid-template-columns: 1fr 1fr 1fr 1fr;\n",
"    grid-template-rows: 35px 1fr 100px;\n",
"    min-height: 100vh;\n",
"    grid-template-tasks:\n",
"        \"header header header header\"\n",
"        \"sidebar content content\"\n",
"        \"footer footer footer footer;\n",
"}\n",
"\n",
"header {\n",
"    grid-area: header;\n",
"}\n",
"\n",
"main {\n",
"    grid-area: content;\n",
"}\n",
"\n",
"footer {\n",
"    grid-area: footer;\n",
"}\n",
"\n",
"aside {\n",
"    grid-area: sidebar;\n",
"}\n",
"```\n",
"\n",
"As we have named each of the `Grid` areas, we can use that name to position the elements. This way it is easier to understand the CSS."
      ]
    },
{
      "cell_type": "markdown",
      "metadata": {},
      "source": [
      "If we wanted to make it responsive now, we would only have to change the `Grid` and the rest of the CSS would remain the same.\n",
"\n",
"```css\n",
"body {\n",
"    display: grid;\n",
"    grid-template-columns: 1fr 1fr 1fr 1fr;\n",
"    grid-template-rows: 35px 1fr 100px;\n",
"    min-height: 100vh;\n",
"    grid-template-tasks:\n",
"        \"header header header header\"\n",
"        \"sidebar content content\"\n",
"        \"footer footer footer footer;\n",
"}\n",
"\n",
"@media (width < 400px) {\n",
"    body {\n",
"        grid-template-columns: 1fr;\n",
"        grid-template-rows: 35px 1fr 100px;\n",
"        grid-template-tasks:\n",
"            \"header header sidebar\"\n",
"            \"content content content content\"\n",
"            \"footer footer footer footer;\n",
"    }\n",
"\n",
"header {\n",
"    grid-area: header;\n",
"}\n",
"\n",
"main {\n",
"    grid-area: content;\n",
"}\n",
"\n",
"footer {\n",
"    grid-area: footer;\n",
"}\n",
"\n",
"aside {\n",
"    grid-area: sidebar;\n",
"}\n",
"```\n",
"\n",
"Now we have made it so that when viewed on a large device the sidebar is on the left and the content is on the right, but when viewed on a small device, the sidebar is at the top and the content is at the bottom."
      ]
    },
{
      "cell_type": "markdown",
      "metadata": {},
      "source": [
      "Suppose we want to have nothing in an area, we can put a point.\n",
"\n",
"```css\n",
"body {\n",
"    display: grid;\n",
"    grid-template-columns: 1fr 1fr 1fr 1fr;\n",
"    grid-template-rows: 35px 1fr 100px;\n",
"    min-height: 100vh;\n",
"    grid-template-tasks:\n",
"        \"header header header header\"\n",
"        \"sidebar . content\"\n",
"        \"footer footer footer footer;\n",
"}\n",
"\n",
"@media (width < 400px) {\n",
"    body {\n",
"        grid-template-columns: 1fr;\n",
"        grid-template-rows: 35px 1fr 100px;\n",
"        grid-template-tasks:\n",
"            \"header header sidebar\"\n",
"            \"content content content content\"\n",
"            \"footer footer footer footer;\n",
"    }\n",
"\n",
"header {\n",
"    grid-area: header;\n",
"}\n",
"\n",
"main {\n",
"    grid-area: content;\n",
"}\n",
"\n",
"footer {\n",
"    grid-area: footer;\n",
"}\n",
"\n",
"aside {\n",
"    grid-area: sidebar;\n",
"}\n",
"```\n",
"\n",
"Now on large screens there is a gap between the sidebar and the content."
      ]
    },
{
      "cell_type": "markdown",
      "metadata": {},
      "source": [
      "### Justify-items, Align-items, Justify-content and Align-content"
      ]
    },
{
      "cell_type": "markdown",
      "metadata": {},
      "source": [
      "We can align the content and elements of a `Grid` with the `justify-items`, `align-items`, `justify-content` and `align-content` properties.\n",
"\n",
"![grid justify](https://miro.medium.com/v2/resize:fit:1080/1*y9RuktkbVshp7lmVmZrbeQ.png)"
      ]
    },
{
      "cell_type": "markdown",
      "metadata": {},
      "source": [
      "#### Justify-items"
      ]
    },
{
      "cell_type": "markdown",
      "metadata": {},
      "source": [
      "We can align the elements on the X axis of the `Grid` with the `justify-items` property.\n",
"\n",
"The values we can use are:\n",
"\n",
"- start`: aligns the elements at the beginning of the main axis.\n",
"- end`: aligns the elements at the end of the main axis.\n",
"- center`: aligns the elements in the center of the main axis.\n",
"- Stretch: stretches the elements so that they occupy all available space on the main axis.\n",
"\n",
"````html\n",
"<section>\n",
"    <div>Text 1</div>\n",
"    <div>Text 2</div>\n",
"    <div>Text 3</div>\n",
"</section>\n",
"```\n",
"\n",
"```css\n",
"section {\n",
"    display: grid;\n",
"    justify-items: center;\n",
"}\n",
"```"
      ]
    },
{
      "cell_type": "markdown",
      "metadata": {},
      "source": [
      "#### Justify-self"
      ]
    },
{
      "cell_type": "markdown",
      "metadata": {},
      "source": [
      "With `justify-items` we align all elements on the main axis of the `Grid`, but with `justify-self` we can align an element on the main axis of the `Grid` differently from the rest of the elements.\n",
"\n",
"````html\n",
"<section>\n",
"    <div>Text 1</div>\n",
"    <div>Text 2</div>\n",
"    <div>Text 3</div>\n",
"</section>\n",
"```\n",
"\n",
"```css\n",
"section {\n",
"    display: grid;\n",
"    justify-items: center;\n",
"}\n",
"\n",
"section div:nth-child(2) {\n",
"    justify-self: end;\n",
"}\n",
"```\n",
"\n",
"![justify-self](data:image/png;base64,iVBORw0KGgoAAAANSUhEUgAAAVIAAACVCAMAAAA9kYJlAAABIFBMVEXJycn////4kyYAAAD6qVHOzs7MzMzQ0NBwcHAGBgarq6vIyMiDg4MwMDCwsLCzs7PAwMBgYGChoaFSUlK7u7t4eHiampr4+PhcXFz/lyY8PDxNTU1HR0eJiYnW1tYiIiISEhIsLCwAAB3m5uYcHBxmZmbp6en3fQD5nTsQEBCRkZH2dAD4gwA2NjZsbGx+fn7/8N7/4sT0iirOx775lzLxj0Hcs5r5o0YAFR4ACx1CMB/piyWeYSL1hwzsl03/581mQyC9ciOPWSGzbSPWgCRONh/iqn7/9+7/79z7vY781LL4kjf7r3L5pWTyihz5r32AUCDagyUyKB5jQSAPGh5WOyCEUyGaXyLHdyNzSiD7wpbqm1blo2viqXvWu6PRwrGGW2R+AAAMAklEQVR4nO2dCXuiSB6HVRpQkahRI5cgBjUaNTt9TA61c5j03ZlOero72d6d/f7fYqu4QYxK1QwMw/vkyUNQsHgpCqI//2SyKZjJRN2A5JEqxU6qFDupUuykSrGTKsVOqhQ7qVLspEqxkyrFTqoUO6lSmyakp7NvYfwJH9h8Pf9wpdDhviyTGQDzFOBxiqRlGVhep9dSSg05hTBR2LCMn4RlVVVRNK09KBA+lmbAeVvRbm/3fIDzSoOBNW8QhDHfvQRcSBEgtWo33ygNd+tyz6OUEYjaHphpINd3Nqbsoljc3duQXR3rr6NC/shNwyC/DYK63fNdTLoc553TrXJV31Oq3MS/UE0SjK4yFgQWSK7JjtIdorXFWOHm7fkvy5y/+5fD26Cl3umLnVuPMUSdJtGQq2M55KK0/Wt5tmf6qTbK+0ypQJCW0h5RDqXz/e1hvz+C9H0crqY/cj06evX+nb5Ld6gMGjSn0IirQAKMtnRZY5um0r18GKMf+v2Xx8/WcGxxYPNSx5jMgZ3xIZvdxaC01o5Uqd6GFrFjKu0yIYyeH87XCt2EUf9tdkgUUZWS"
      ]
    },
{
      "cell_type": "markdown",
      "metadata": {},
      "source": [
      "#### Align-items"
      ]
    },
{
      "cell_type": "markdown",
      "metadata": {},
      "source": [
      "It is very similar to `justify-items`, but instead of aligning the elements on the X-axis, it aligns them on the Y-axis.\n",
"\n",
"The values we can use are:\n",
"\n",
"- start`: aligns the elements at the beginning of the secondary axis.\n",
"- end`: aligns the elements at the end of the secondary axis.\n",
"- center`: aligns the elements in the center of the secondary axis.\n",
"- Stretch: stretches the elements so that they occupy all available space on the secondary axis.\n",
"\n",
"````html\n",
"<section>\n",
"    <div>Text 1</div>\n",
"    <div>Text 2</div>\n",
"    <div>Text 3</div>\n",
"</section>\n",
"```\n",
"\n",
"```css\n",
"section {\n",
"    display: grid;\n",
"    align-items: center;\n",
"}\n",
"```"
      ]
    },
{
      "cell_type": "markdown",
      "metadata": {},
      "source": [
      "#### Align-self"
      ]
    },
{
      "cell_type": "markdown",
      "metadata": {},
      "source": [
      "With `align-items` we align all elements on the secondary axis of the `Grid`, but with `align-self` we can align an element on the secondary axis of the `Grid` differently from the rest of the elements.\n",
"\n",
"````html\n",
"<section>\n",
"    <div>Text 1</div>\n",
"    <div>Text 2</div>\n",
"    <div>Text 3</div>\n",
"</section>\n",
"```\n",
"\n",
"```css\n",
"section {\n",
"    display: grid;\n",
"    align-items: center;\n",
"}\n",
"\n",
"section div:nth-child(2) {\n",
"    align-self: end;\n",
"}\n",
"```\n",
"\n",
"![align-self](data:image/png;base64,iVBORw0KGgoAAAANSUhEUgAAAVIAAACVCAMAAAA9kYJlAAABGlBMVEXJycn////4kyb6qVEAAADMzMzQ0NDR0dGEhIQGBgbCwsL6q1Tz8/NLS0tgYGAWFhaPj4/4fQDKz9Lloms5OTmsrKwPDw9paWkmJib5oVQzMzN5eXnExMSXl5dcXFxVVVW1tbX6pUpxcXH4jBgsLCz/mCYcHBxDQ0P6sXLm5uaxsbEgICDgq37btJafn5/c3Nz7wpb4hQD807oAAB3WvrDq6ur5mTTTfyTtjSX5oEDHeCQNGR6hYyJpRCAAFB70hyHPxrwACh15TSFFMR8xKB6bXyL96Nb/+e/8z7P5qGH6uID7xp72dQD5nUvv0LT/4sfUkUjer4jNeyR4TCFiQCCJViEsJR5jQSBCMB+ybCPkqH1SOB/XuqTziTAVRgQVAAALRUlEQVR4nO2dC3uayBqAkYBEIhCzqBQVjOGySKtNsyQmJtnNtWmbbrcX22Zt///fOMNNQU2CzmSHQ3mf1goiDm/npnx8EIUcxBC4C5A9cqXIyZUiJ1eKnFwpcnKlyMmVIidXipxcKXJypcjJlSInVzpDeZ4l95ArLZQdx+r3GYYpetAz+GsZpt+3LMdJIDhUWqZ7mx1VVZVOo7H5lKyniUanzteXhOfrnYb/9hagV622WaJvOeW40vKmQMn1zWq3Wq32WpsdfiVUzhRXQqY0OYKmaZJk24YhCLVa6SmpeVCAWoy5NaX4GvBWahZN7UWUWpTcXbbHQAlNtefa25IwvMhA7mJ5mu0Qlq22ZEosT5RKHYw+AW2qTRNwFBWNgdzFKgRuvWfFdaoTKu2KeI0WelQXWqlq4FAag6lTdKC008WsdJOqwiutYVdKs1QjUKowmJWuwyuluRISLXCF0Piyr1TtY1bagFdKmKUmCitQ0Crn+Eo53Eo7CJSKJRaFFSiKvBkoNXErrSNRCj1rgKaocJavVLSwK+1lQinNKWlRysMrbYol6IkYNLRZ95WWA6WvP9y8/P3N"
      ]
    },
{
      "cell_type": "markdown",
      "metadata": {},
      "source": [
      "#### Place-content"
      ]
    },
{
      "cell_type": "markdown",
      "metadata": {},
      "source": [
      "If we want to use `justify-content` and `align-content` at the same time, we can use `place-content`.\n",
"\n",
"The values we can use are:\n",
"\n",
"- start`: aligns the elements at the beginning of the main and secondary axis.\n",
"- end`: aligns the elements at the end of the main and secondary axis.\n",
"- center`: aligns the elements in the center of the main and secondary axis.\n",
"- Stretch: stretches the elements so that they occupy all available space on the main and secondary axis.\n",
"\n",
"````html\n",
"<section>\n",
"    <div>Text 1</div>\n",
"    <div>Text 2</div>\n",
"    <div>Text 3</div>\n",
"</section>\n",
"```\n",
"\n",
"```css\n",
"section {\n",
"    display: grid;\n",
"    place-content: center;\n",
"}\n",
"```"
      ]
    },
{
      "cell_type": "markdown",
      "metadata": {},
      "source": [
      "### Grid practice"
      ]
    },
{
      "cell_type": "markdown",
      "metadata": {},
      "source": [
      "A good resource for practicing Grid is [Grid Garden](https://cssgridgarden.com/)."
      ]
    },
{
      "cell_type": "markdown",
      "metadata": {},
      "source": [
      "## Center a div"
      ]
    },
{
      "cell_type": "markdown",
      "metadata": {},
      "source": [
      "So far we have seen 3 ways to center a `div`:\n",
"\n",
"- With `position: absolute`.\n",
"- With `display: flex`.\n",
"- With `display: grid`."
      ]
    },
{
      "cell_type": "markdown",
      "metadata": {},
      "source": [
      "## Animations"
      ]
    },
{
      "cell_type": "markdown",
      "metadata": {},
      "source": [
      "Within the animations there are two types: `transitions` and `animations`."
      ]
    },
{
      "cell_type": "markdown",
      "metadata": {},
      "source": [
      "### Transitions"
      ]
    },
{
      "cell_type": "markdown",
      "metadata": {},
      "source": [
      "In transitions we change an element from an initial state to a target state."
      ]
    },
{
      "cell_type": "markdown",
      "metadata": {},
      "source": [
      "Suppose we have the following circle\n",
"\n",
"````html\n",
"<div class=\"pulser\"></div>\n",
"```\n",
"\n",
"And your CSS\n",
"\n",
"```css\n",
".pulser {\n",
"    width: 30px;\n",
"    height: 30px;\n",
"    background-color: #09f;\n",
"    border-radius: 50%;\n",
"    position: relative;\n",
"}\n",
"```\n",
"\n",
"html elements can have states, for example the `hover` state, which is when the user hovers over the element.\n",
"\n",
"```css\n",
".pulser:hover {\n",
"    scale: 2;\n",
"    background: purple;\n",
"    box-shadow: 0 0 10px purple;\n",
"}\n",
"```\n",
"\n",
"By `scaling` we increase the size, but occupying the same space, however, if we had changed the `width` and `height` the button would have moved."
      ]
    },
{
      "cell_type": "markdown",
      "metadata": {},
      "source": [
      "#### Transition"
      ]
    },
{
      "cell_type": "markdown",
      "metadata": {},
      "source": [
      "What happens now is that if we pass the mouse over the circle the state changes suddenly, so this is where the `transition` comes in, which is how we indicate to the CSS how the state has to be modified. For example if we want that the transition lasts 1 second\n",
"\n",
"```css\n",
".pulser {\n",
"    width: 30px;\n",
"    height: 30px;\n",
"    background-color: #09f;\n",
"    border-radius: 50%;\n",
"    position: relative;\n",
"    transition: 1s;\n",
"}\n",
"```"
      ]
    },
{
      "cell_type": "markdown",
      "metadata": {},
      "source": [
      "It is important to put the transition in `.pulser` and not in `.pulser:hover` because if not, the transition would not be applied when returning to the initial state. That is to say, when we pass the mouse over the circle the transition will be seen, but when we remove the mouse from the circle there will not be a transition back, but it will pass suddenly to the initial state."
      ]
    },
{
      "cell_type": "markdown",
      "metadata": {},
      "source": [
      "#### What is to be transitioned transition-property"
      ]
    },
{
      "cell_type": "markdown",
      "metadata": {},
      "source": [
      "With the above, a transition of color, size and background would be made, but if we do not want a transition of everything we can indicate it through `transition-property`.\n",
"\n",
"```css\n",
".pulser {\n",
"    width: 30px;\n",
"    height: 30px;\n",
"    background-color: #09f;\n",
"    border-radius: 50%;\n",
"    position: relative;\n",
"    transition: 1s;\n",
"    transition-property: background-color, scale;\n",
"}\n",
"```\n",
"\n",
"This way only the `background-color` and `scale` transition will be made."
      ]
    },
{
      "cell_type": "markdown",
      "metadata": {},
      "source": [
      "#### Smooth transitions"
      ]
    },
{
      "cell_type": "markdown",
      "metadata": {},
      "source": [
      "The default transition is done in a linear way, but if we want to change it we can do it by `transition-timing-function`.\n",
"\n",
"```css\n",
".pulser {\n",
"    width: 30px;\n",
"    height: 30px;\n",
"    background-color: #09f;\n",
"    border-radius: 50%;\n",
"    position: relative;\n",
"    transition: 1s;\n",
"    transition-property: background-color, scale;\n",
"    transition-timing-function: ease-in-out;\n",
"}\n",
"```\n",
"\n",
"This way the transition will be smoother at the beginning and at the end. The possible values are as follows:\n",
"\n",
" + linear\n",
" + ease\n",
" + ease-in\n",
" + ease-out\n",
" + ease-in-out\n",
" + cubic-bezier(n,n,n,n,n)"
      ]
    },
{
      "cell_type": "markdown",
      "metadata": {},
      "source": [
      "#### Step transitions"
      ]
    },
{
      "cell_type": "markdown",
      "metadata": {},
      "source": [
      "If we want the animation to be done in several steps we can use `steps(n)`, where `n` is the number of steps we want the animation to have.\n",
"\n",
"```css\n",
".pulser {\n",
"    width: 30px;\n",
"    height: 30px;\n",
"    background-color: #09f;\n",
"    border-radius: 50%;\n",
"    position: relative;\n",
"    transition: 1s;\n",
"    transition-property: background-color, scale;\n",
"    transition-timing-function: steps(5);\n",
"}\n",
"```\n",
"\n",
"In this way, the transition will be performed in 5 steps for 1 second."
      ]
    },
{
      "cell_type": "markdown",
      "metadata": {},
      "source": [
      "#### Full transition control with cubic-bezier"
      ]
    },
{
      "cell_type": "markdown",
      "metadata": {},
      "source": [
      "In order to perfectly control the transition we can use `cubic-bezier(n,n,n,n,n)`, where `n` is a number between 0 and 1 indicating the position of the point on the X and Y axis.\n",
"\n",
"```css\n",
".pulser {\n",
"    width: 30px;\n",
"    height: 30px;\n",
"    background-color: #09f;\n",
"    border-radius: 50%;\n",
"    position: relative;\n",
"    transition: 1s;\n",
"    transition-property: background-color, scale;\n",
"    transition-timing-function: cubic-bezier(0.1, 0.7, 1.0, 0.1);\n",
"}\n",
"```"
      ]
    },
{
      "cell_type": "markdown",
      "metadata": {},
      "source": [
      "With `delay` we can indicate the time that has to elapse before the transition is started.\n",
"\n",
"```css\n",
".pulser {\n",
"    width: 30px;\n",
"    height: 30px;\n",
"    background-color: #09f;\n",
"    border-radius: 50%;\n",
"    position: relative;\n",
"    transition: 1s;\n",
"    transition-property: background-color, scale;\n",
"    transition-timing-function: cubic-bezier(0.1, 0.7, 1.0, 0.1);\n",
"    transition-delay: 1s;\n",
"}\n",
"```\n",
"\n",
"With the `delay` it is possible to make load animations, e.g.\n",
"\n",
"````html\n",
"<section>\n",
"    Hover to display the elements\n",
"    <div class=\"pulser\"></div>\n",
"    <div class=\"pulser\"></div>\n",
"    <div class=\"pulser\"></div>\n",
"</section>\n",
"```\n",
"\n",
"```css\n",
"section {\n",
"    display: flex;\n",
"    flex-direction: column;\n",
"    align-items: center;\n",
"    justify-content: center;\n",
"    height: 100vh;\n",
"}\n",
"\n",
".pulser {\n",
"    width: 30px;\n",
"    height: 30px;\n",
"    border-radius: 50%;\n",
"    position: relative;\n",
"    position: relative;\n",
"    opacity: 0;\n",
"    transition: 2s;\n",
"    transition-timing-function: ease;\n",
"}\n",
"\n",
"section {\n",
"    display: flex;\n",
"    gap: 16px;\n",
"    justify-content: center;\n",
"    aling-items: center;\n",
"}\n",
"\n",
"section:hover .pulser {\n",
"    opacity: 1;\n",
"}\n",
"\n",
".pulser:first-child {\n",
"    transition-delay: 0s;\n",
"}\n",
"\n",
".pulser:nth-child(2) {\n",
"    transition-delay: 300ms;\n",
"}\n",
"\n",
".pulser:last-child {\n",
"    transition-delay: 600ms;\n",
"}\n",
"```"
      ]
    },
{
      "cell_type": "markdown",
      "metadata": {},
      "source": [
      "In [easings.co](https://easings.co/) we can see and configure the transitions"
      ]
    },
{
      "cell_type": "markdown",
      "metadata": {},
      "source": [
      "#### All in one line"
      ]
    },
{
      "cell_type": "markdown",
      "metadata": {},
      "source": [
      "In `.pulser` we have put `transition` and `transitio-timing-function`, but we can also put it all in one line\n",
"\n",
"```css\n",
".pulser {\n",
"    width: 30px;\n",
"    height: 30px;\n",
"    background-color: #09f;\n",
"    border-radius: 50%;\n",
"    position: relative;\n",
"    transition: background 300ms ease-in-out 2s;\n",
"}\n",
"```\n",
"\n",
"With this, what we have told you is to animate the `background` for 300ms, with a smooth transition at the beginning and at the end and to wait 2 seconds before starting the transition.\n",
"\n",
"If we want to specify several elements we can do it in the following way\n",
"\n",
"```css\n",
".pulser {\n",
"    width: 30px;\n",
"    height: 30px;\n",
"    background-color: #09f;\n",
"    border-radius: 50%;\n",
"    position: relative;\n",
"    transition: background 300ms ease-in-out 2s, scale 1s ease-in-out 1s;\n",
"}\n",
"```"
      ]
    },
{
      "cell_type": "markdown",
      "metadata": {},
      "source": [
      "#### What to transition?"
      ]
    },
{
      "cell_type": "markdown",
      "metadata": {},
      "source": [
      "When it is time to put transitions, you can look for what can be transitioned in [Animatable CSS properties](https://developer.mozilla.org/en-US/docs/Web/CSS/CSS_animated_properties), but to avoid wasting time searching, it is best to transition properties with head, for example something that can be transitioned is a color, a size, etc..\n",
"\n",
"The ideal is to transition properties with intermediate states, for example a source does not have an intermediate state and it makes no sense to transition it from one source to another."
      ]
    },
{
      "cell_type": "markdown",
      "metadata": {},
      "source": [
      "#### Different transitions at start and finish"
      ]
    },
{
      "cell_type": "markdown",
      "metadata": {},
      "source": [
      "Before we have said that you have to put the transitions in the element and not in the hover, because this way the transition will only be seen when you put the mouse over the element and not when you remove the mouse. Well, if you want to have different animations at the beginning and at the end we can take advantage of this. In the element we will put the final transition and in the hover the initial one.\n",
"\n",
"```css\n",
".pulser {\n",
"    width: 30px;\n",
"    height: 30px;\n",
"    background-color: #09f;\n",
"    border-radius: 50%;\n",
"    position: relative;\n",
"    transition: background 300ms ease-in-out\n",
"}\n",
"\n",
".pulser:hover {\n",
"    scale: 2;\n",
"    background: purple;\n",
"    box-shadow: 0 0 10px purple;\n",
"    transition: 1s;\n",
"    transition-duration: 1s;\n",
"}\n",
"```\n",
"\n",
"In this way, when we pass the mouse over the element, a 300 ms transition will be made and when we remove the mouse the transition will be of 1 second."
      ]
    },
{
      "cell_type": "markdown",
      "metadata": {},
      "source": [
      "#### Accessibility"
      ]
    },
{
      "cell_type": "markdown",
      "metadata": {},
      "source": [
      "Some people can get dizzy with transitions, so we can add a media query to remove them.\n",
"\n",
"```css\n",
"@media (prefers-reduced-motion: reduce) {\n",
"    .pulser {\n",
"        transition: none;\n",
"    }\n",
"}\n",
"```"
      ]
    },
{
      "cell_type": "markdown",
      "metadata": {},
      "source": [
      "### Animations"
      ]
    },
{
      "cell_type": "markdown",
      "metadata": {},
      "source": [
      "The transitions are the animations when we interact with the elements, but in the animations we do not need to interact with the element, they can be executed alone. For example, the typical button that every so often changes moves so that you know that you have to click on it."
      ]
    },
{
      "cell_type": "markdown",
      "metadata": {},
      "source": [
      "#### Keyframes"
      ]
    },
{
      "cell_type": "markdown",
      "metadata": {},
      "source": [
      "We return to the blue ball example and remove all transitions.\n",
"\n",
"````html\n",
"<div class=\"pulser\"></div>\n",
"```\n",
"\n",
"```css\n",
".pulser {\n",
"    width: 30px;\n",
"    height: 30px;\n",
"    background-color: #09f;\n",
"    border-radius: 50%;\n",
"}\n",
"```"
      ]
    },
{
      "cell_type": "markdown",
      "metadata": {},
      "source": [
      "We have to tell the CSS that we want to make an animation, for this we use `@keyframes` and give the animation a name\n",
"\n",
"```css\n",
"@keyframes move {\n",
"}\n",
"```\n",
"\n",
"Now we have to tell it where this frame starts from, for this we use `from` and where it ends, for this we use `to`.\n",
"\n",
"```css\n",
"@keyframes move {\n",
"    from {\n",
"    }\n",
"    to {\n",
"    }\n",
"}\n",
"```\n",
"\n",
"Now we have to tell it which properties we want to change, for example the position\n",
"\n",
"```css\n",
"@keyframes move {\n",
"    from {\n",
"        transform: translateX(0);\n",
"    }\n",
"    to {\n",
"        transform: translateX(100px);\n",
"    }\n",
"}\n",
"```\n",
"\n",
"This way when we enter the page the blue ball will move 100px to the right."
      ]
    },
{
      "cell_type": "markdown",
      "metadata": {},
      "source": [
      "#### After"
      ]
    },
{
      "cell_type": "markdown",
      "metadata": {},
      "source": [
      "An element can have an `after` element, which is an element that is placed after the main element.\n",
"\n",
"````html\n",
"<div class=\"pulser\"></div>\n",
"```\n",
"\n",
"```css\n",
".pulser {\n",
"    width: 30px;\n",
"    height: 30px;\n",
"    background-color: blue;\n",
"    border-radius: 50%;\n",
"}\n",
"\n",
".pulser::after {\n",
"    content: '';\n",
"    position: absolute;\n",
"    width: 100%;\n",
"    height: 100%;\n",
"    top: 0;\n",
"    left: 0;\n",
"    background-color: blue;\n",
"    border-radius: 50%;\n",
"    z-index: -1;\n",
"}\n",
"```\n",
"\n",
"What this does is to put a blue circle behind the blue circle, so we now have two blue circles\n",
"\n",
"Now we define the keyframes\n",
"\n",
"```css\n",
"@keyframes move {\n",
"    0% {\n",
"        opacity: 0;\n",
"    }\n",
"    50% {\n",
"        scale: 1.5;\n",
"        opacity: 40%;\n",
"    }\n",
"    100% {\n",
"        opacity: 60%;\n",
"    }\n",
"}\n",
"```\n",
"\n",
"And as we have already defined the keyframes, now we only have to tell the CSS that we want the animation to run\n",
"\n",
"```css\n",
".pulser::after {\n",
"    content: '';\n",
"    position: absolute;\n",
"    width: 100%;\n",
"    height: 100%;\n",
"    top: 0;\n",
"    left: 0;\n",
"    background-color: blue;\n",
"    border-radius: 50%;\n",
"    z-index: -1;\n",
"    \n",
"    animation-name: pulse;\n",
"    animation-duration: 2s;\n",
"    animation-timing-function: ease-in-out;\n",
"}\n",
"```\n",
"\n",
"Now when you load the page it would look as if the blue circle has a heartbeat."
      ]
    },
{
      "cell_type": "markdown",
      "metadata": {},
      "source": [
      "But it only happens once, to make it happen more times we need to add `animation-iteration-count`.\n",
"\n",
"```css\n",
".pulser::after {\n",
"    content: '';\n",
"    position: absolute;\n",
"    width: 100%;\n",
"    height: 100%;\n",
"    top: 0;\n",
"    left: 0;\n",
"    background-color: blue;\n",
"    border-radius: 50%;\n",
"    z-index: -1;\n",
"    \n",
"    animation-name: pulse;\n",
"    animation-duration: 2s;\n",
"    animation-timing-function: ease-in-out;\n",
"    animation-iteration-count: infinite;\n",
"}\n",
"```\n",
"\n",
"Now it will be produced infinite times"
      ]
    },
{
      "cell_type": "markdown",
      "metadata": {},
      "source": [
      "#### Movement"
      ]
    },
{
      "cell_type": "markdown",
      "metadata": {},
      "source": [
      "We can make an element move\n",
"\n",
"````html\n",
"<div class=\"pulser\"></div>\n",
"```\n",
"\n",
"```css\n",
".pulser {\n",
"    width: 30px;\n",
"    height: 30px;\n",
"    background-color: blue;\n",
"    border-radius: 50%;\n",
"    position: relative;\n",
"}\n",
"\n",
".pulser::after {\n",
"    content: '';\n",
"    position: absolute;\n",
"    width: 100%;\n",
"    height: 100%;\n",
"    top: 0;\n",
"    left: 0;\n",
"    background-color: blue;\n",
"    border-radius: 50%;\n",
"    z-index: -1;\n",
"    \n",
"    animation-name: move;\n",
"    animation-duration: 2s;\n",
"    animation-iteration-count: infinite;\n",
"    animation-timing-function: linear;\n",
"}\n",
"\n",
"@keyframes move {\n",
"    from {\n",
"        trasnform: translateX(0);\n",
"    }\n",
"    to {\n",
"        transform: translateX(100px);\n",
"    }\n",
"}\n",
"```\n",
"\n",
"\n",
"Now the blue ball will move 100 px to the right."
      ]
    },
{
      "cell_type": "markdown",
      "metadata": {},
      "source": [
      "#### Address"
      ]
    },
{
      "cell_type": "markdown",
      "metadata": {},
      "source": [
      "To make the blue ball move to the left just do `animation-direction: reverse`.\n",
"\n",
"```css\n",
".pulser::after {\n",
"    content: '';\n",
"    position: absolute;\n",
"    width: 100%;\n",
"    height: 100%;\n",
"    top: 0;\n",
"    left: 0;\n",
"    background-color: blue;\n",
"    border-radius: 50%;\n",
"    z-index: -1;\n",
"    \n",
"    animation-name: move;\n",
"    animation-duration: 2s;\n",
"    animation-iteration-count: infinite;\n",
"    animation-timing-function: linear;\n",
"    animation-direction: reverse;\n",
"}\n",
"```"
      ]
    },
{
      "cell_type": "markdown",
      "metadata": {},
      "source": [
      "If we want the ball to go from one side to the other we have to put `animation-direction: alternate`.\n",
"\n",
"```css\n",
".pulser::after {\n",
"    content: '';\n",
"    position: absolute;\n",
"    width: 100%;\n",
"    height: 100%;\n",
"    top: 0;\n",
"    left: 0;\n",
"    background-color: blue;\n",
"    border-radius: 50%;\n",
"    z-index: -1;\n",
"    \n",
"    animation-name: move;\n",
"    animation-duration: 2s;\n",
"    animation-iteration-count: infinite;\n",
"    animation-timing-function: linear;\n",
"    animation-direction: alternate;\n",
"}\n",
"```"
      ]
    },
{
      "cell_type": "markdown",
      "metadata": {},
      "source": [
      "#### Pause animations"
      ]
    },
{
      "cell_type": "markdown",
      "metadata": {},
      "source": [
      "Imagine that you have cards that have animations, maybe you want that when you pass the mouse over the card the animation stops, for this we can use `animation-play-state: paused`.\n",
"\n",
"```css\n",
".card:hover {\n",
"    animation-play-state: paused;\n",
"}\n",
"```"
      ]
    },
{
      "cell_type": "markdown",
      "metadata": {},
      "source": [
      "#### CSS nesting"
      ]
    },
{
      "cell_type": "markdown",
      "metadata": {},
      "source": [
      "We have declared in the CSS the properties of the pulser and the properties when hovering, but you can do it all together\n",
"\n",
"```css\n",
".pulser {\n",
"    width: 30px;\n",
"    height: 30px;\n",
"    background-color: blue;\n",
"    border-radius: 50%;\n",
"    position: relative;\n",
"    \n",
"    &::after {\n",
"        content: '';\n",
"        position: absolute;\n",
"        width: 100%;\n",
"        height: 100%;\n",
"        top: 0;\n",
"        left: 0;\n",
"        background-color: blue;\n",
"        border-radius: 50%;\n",
"        z-index: -1;\n",
"        \n",
"        animation-name: move;\n",
"        animation-duration: 2s;\n",
"        animation-iteration-count: infinite;\n",
"        animation-timing-function: linear;\n",
"        animation-direction: alternate;\n",
"    }\n",
"    \n",
"    &:hover::after {\n",
"        animation-play-state: paused;\n",
"    }\n",
"}\n",
"```"
      ]
    },
{
      "cell_type": "markdown",
      "metadata": {},
      "source": [
      "#### How to finish animations"
      ]
    },
{
      "cell_type": "markdown",
      "metadata": {},
      "source": [
      "If we have an animation that only runs once, for example, that the blue ball moves to the right, when the animation ends it will suddenly go back to its initial position. To avoid this you can use `animation-fill-mode: forwards`.\n",
"\n",
"```css\n",
".pulser::after {\n",
"    content: '';\n",
"    position: absolute;\n",
"    width: 100%;\n",
"    height: 100%;\n",
"    top: 0;\n",
"    left: 0;\n",
"    background-color: blue;\n",
"    border-radius: 50%;\n",
"    z-index: -1;\n",
"    \n",
"    animation-name: move;\n",
"    animation-duration: 2s;\n",
"    animation-timing-function: linear;\n",
"    animation-direction: alternate;\n",
"    animation-fill-mode: forwards;\n",
"}\n",
"```\n",
"\n",
"This way, when the animation ends, the blue ball will stay in the final position.\n",
"\n",
"If instead of `forwards` we put `backwards` the animation will start from the final state.\n",
"\n",
"If we set `both` the animation will start from the end state and end at the end state."
      ]
    },
{
      "cell_type": "markdown",
      "metadata": {},
      "source": [
      "#### All in one line"
      ]
    },
{
      "cell_type": "markdown",
      "metadata": {},
      "source": [
      "We have a lot of properties (`animation-name` `animation-duration`, `animation-timing-function`, `animation-direction`, `animation-fill-mode`), but they can all be put on one line. All of the above could be put like this\n",
"\n",
"```css\n",
".pulser::after {\n",
"    content: '';\n",
"    position: absolute;\n",
"    width: 100%;\n",
"    height: 100%;\n",
"    top: 0;\n",
"    left: 0;\n",
"    background-color: blue;\n",
"    border-radius: 50%;\n",
"    z-index: -1;\n",
"    \n",
"    animation: move 2s linear alternate forwards;\n",
"}\n",
"```"
      ]
    },
{
      "cell_type": "markdown",
      "metadata": {},
      "source": [
      "We can create several animations\n",
"\n",
"```css\n",
".pulser::after {\n",
"    content: '';\n",
"    position: absolute;\n",
"    width: 100%;\n",
"    height: 100%;\n",
"    top: 0;\n",
"    left: 0;\n",
"    background-color: blue;\n",
"    border-radius: 50%;\n",
"    z-index: -1;\n",
"    \n",
"    animation:\n",
"        move 2s linear alternate forwards,\n",
"        enlarge 1s linear 2s both;\n",
"}\n",
"```\n",
"\n",
"But as there is no `aggregate` animation we create it with keyframes\n",
"\n",
"```css\n",
"@keyframes enlarge {\n",
"    0% {\n",
"        transform: scale: 1;\n",
"    }\n",
"    25% {\n",
"        transform: scale: 1.5;\n",
"    }\n",
"    50% {\n",
"        transform: scale: 2;\n",
"    }\n",
"    75% {\n",
"        transform: scale: 1.6;\n",
"    }\n",
"    100% {\n",
"        transform: scale: 2;\n",
"    }\n",
"}\n",
"```\n",
"\n",
"It will be played one after the other, because a delay of 2 seconds has been added to enlarge, which is how long the first animation lasts, but if we want it to be at the same time, we have to remove the delay.\n",
"\n",
"```css\n",
".pulser::after {\n",
"    content: '';\n",
"    position: absolute;\n",
"    width: 100%;\n",
"    height: 100%;\n",
"    top: 0;\n",
"    left: 0;\n",
"    background-color: blue;\n",
"    border-radius: 50%;\n",
"    z-index: -1;\n",
"    \n",
"    animation:\n",
"        move 2s linear alternate forwards,\n",
"        enlarge 1s linear both;\n",
"}\n",
"```"
      ]
    },
{
      "cell_type": "markdown",
      "metadata": {},
      "source": [
      "#### Animations with scroll"
      ]
    },
{
      "cell_type": "markdown",
      "metadata": {},
      "source": [
      "##### Example of progress bar"
      ]
    },
{
      "cell_type": "markdown",
      "metadata": {},
      "source": [
      "For example, if we want to make a bar that increases in size as we go down the page\n",
"\n",
"````html\n",
"<section>\n",
"    <div id=\"bar\"></div>\n",
"    <p>Lorem ipsum dolor sit amet, consectetur adipiscing elit\n",
"    </p>\n",
"    <p>Lorem ipsum dolor sit amet, consectetur adipiscing elit\n",
"    </p>\n",
"    <p>Lorem ipsum dolor sit amet, consectetur adipiscing elit\n",
"    </p>\n",
"    <p>Lorem ipsum dolor sit amet, consectetur adipiscing elit\n",
"    </p>\n",
"    <p>Lorem ipsum dolor sit amet, consectetur adipiscing elit\n",
"    </p>\n",
"    <p>Lorem ipsum dolor sit amet, consectetur adipiscing elit\n",
"    </p>\n",
"    <p>Lorem ipsum dolor sit amet, consectetur adipiscing elit\n",
"    </p>\n",
"</section>\n",
"```\n",
"\n",
"```css\n",
"section {\n",
"    display: flex;\n",
"    flex-direction: column;\n",
"    align-items: center;\n",
"    justify-content: center;\n",
"    height: 100vh;\n",
"}\n",
"\n",
"#bar {\n",
"    position: fixed;\n",
"    top: 0;\n",
"    width: 0%;\n",
"    background-color: red;\n",
"    height: 1em;\n",
"\n",
"    animation: bar-grow auto linear;\n",
"    animation-timeline: scroll(root block);\n",
"}\n",
"\n",
"@keyframes slash-grow {\n",
"    from {\n",
"        width: 0%;\n",
"    }\n",
"    from {\n",
"        width: 100%;\n",
"    }\n",
"}\n",
"```\n",
"\n",
"As in `animation` we have put an `auto` time to know how long the animation has to last, the browser will look at `animation-timeline`, where we indicate that it has to look at the scroll. Inside the `scroll` function we tell him in which element it has to be fixed, in our case we have put `rootp` because we want the scroll of the page, but any other element of the page could be put. In addition we have to tell it if we want that it is fixed in the vertical scroll or in the horizontal one, in our case we have put `block` because we want that it is fixed in the vertical scroll (`block` is the value by default, so if you want it is not necessary to put it)."
      ]
    },
{
      "cell_type": "markdown",
      "metadata": {},
      "source": [
      "##### Example of a header that changes color"
      ]
    },
{
      "cell_type": "markdown",
      "metadata": {},
      "source": [
      "If we want that when we scroll the header changes color\n",
"\n",
"````html\n",
"<header>\n",
"    <nav>\n",
"        <ul>\n",
"            <li>Home</li>\n",
"            <li>About</li>\n",
"            <li>Contact</li>\n",
"        </ul>\n",
"    </nav>\n",
"</header>\n",
"```\n",
"\n",
"```css\n",
"header {\n",
"    position: sticky;\n",
"    top: 0;\n",
"    width: 100%;\n",
"    background-color: white;\n",
"    box-shadow: 0 0 10px rgba(0, 0, 0, 0, 0.1);\n",
"    z-index: 2;\n",
"\n",
"    animation: header-color linear both;\n",
"    animation-timeline: scroll(root block);\n",
"}\n",
"\n",
"@keyframes header-color {\n",
"    from {\n",
"        background-color: white;\n",
"    }\n",
"    to {\n",
"        background-color: gray;\n",
"        backdrop-filter: blur(5px);\n",
"        color: white;\n",
"    }\n",
"}\n",
"```"
      ]
    },
{
      "cell_type": "markdown",
      "metadata": {},
      "source": [
      "But doing so the header animation ends only when you reach the end of the page, but we want it to end when you have done some scrolling, so we remove the `both` from the `animation` and put `animation-range: 0 200px` so that the animation ends when you have done a scroll of 200px, that is, we are saying that the animation goes from 0 px to 200 px.\n",
"\n",
"```css\n",
"header {\n",
"    position: sticky;\n",
"    top: 0;\n",
"    width: 100%;\n",
"    background-color: white;\n",
"    box-shadow: 0 0 10px rgba(0, 0, 0, 0, 0.1);\n",
"    z-index: 2;\n",
"\n",
"    animation: header-color linear;\n",
"    animation-timeline: scroll(root);\n",
"    animation-range: 0 200px;\n",
"}\n",
"```"
      ]
    },
{
      "cell_type": "markdown",
      "metadata": {},
      "source": [
      "##### Example of image gallery"
      ]
    },
{
      "cell_type": "markdown",
      "metadata": {},
      "source": [
      "Let's imagine that we have a lot of images and we want them to appear when we scroll down.\n",
"\n",
"````html\n",
"<section>\n",
"    <img src=\"img1.jpg\" alt=\"image 1\">\n",
"    <img src=\"img2.jpg\" alt=\"image 2\">\n",
"    <img src=\"img3.jpg\" alt=\"image 3\">\n",
"    <img src=\"img4.jpg\" alt=\"image 4\">\n",
"    <img src=\"img5.jpg\" alt=\"image 5\">\n",
"    <img src=\"img6.jpg\" alt=\"image 6\">\n",
"    <img src=\"img7.jpg\" alt=\"image 7\">\n",
"    <img src=\"img8.jpg\" alt=\"image 8\">\n",
"    <img src=\"img9.jpg\" alt=\"image 9\">\n",
"    <img src=\"img10.jpg\" alt=\"image 10\">\n",
"</section>\n",
"```\n",
"\n",
"```css\n",
"section {\n",
"    display: grid;\n",
"    grid-template-columns: repeat(auto-fill, minmax(300px, 1fr));\n",
"    gap: 16px;\n",
"}\n",
"\n",
"img {\n",
"    width: 100%;\n",
"    height: auto;\n",
"    opacity: 0;\n",
"    animation: appear linear both;\n",
"    animation-timeline: view()\n",
"    animation-range: entry 20% cover 30%;\n",
"}\n",
"\n",
"@keyframes appear {\n",
"    from {\n",
"        opacity: 0;\n",
"    }\n",
"    to {\n",
"        opacity: 1;\n",
"    }\n",
"}\n",
"```\n",
"\n",
"with `animation-timeline: view()` we are telling it to do the animation when the image is visible on the screen and with `animation-range: entry 20% cover 30%` we are telling it to start the animation when the image occupies 20% of the screen and to end when it occupies 30% of the screen.\n",
"\n",
"By setting `both` in `animation` we are saying that the animation is done both when the image appears and when it disappears, that is, when the image appears the animation is seen, but when it disappears the animation is also seen but in reverse, that is, that the image has an opacity from 1 to 0 little by little."
      ]
    }
  ],
  "metadata": {
    "language_info": {
      "name": "python"
    }
  },
  "nbformat": 4,
  "nbformat_minor": 2
}
