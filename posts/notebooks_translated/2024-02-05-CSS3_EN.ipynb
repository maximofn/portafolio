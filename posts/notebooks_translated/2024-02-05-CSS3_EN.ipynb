{
  "cells": [
    {
      "cell_type": "markdown",
      "metadata": {},
      "source": [
        "# CSS 3"
      ]
    },
    {
      "cell_type": "markdown",
      "metadata": {},
      "source": [
        " > Disclaimer: This post has been translated to English using a machine translation model. Please, let me know if you find any mistakes."
      ]
    },
    {
      "cell_type": "markdown",
      "metadata": {},
      "source": [
        "## Parts of CSS (selector, properties, values)"
      ]
    },
    {
      "cell_type": "markdown",
      "metadata": {},
      "source": [
        "In CSS we can talk about 3 main parts:",
        "\n",
        "- **Selector**: It is the part that selects the element to which the style will be applied.",
        "- **Property**: It is the part that defines the style to be applied to the element.",
        "- **Value**: It is the part that defines the value of the property that will be applied to the element.",
        "\n",
        "To add comments in CSS, use `/* comment */`.",
        "\n",
        "The line that has `property: value;` is called a **declaration**.",
        "\n",
        "```css\n```",
        "selector {",
        "    property: value;   /* comment */",
        "}",
        "```"
      ]
    },
    {
      "cell_type": "markdown",
      "metadata": {},
      "source": [
        "## Selectors"
      ]
    },
    {
      "cell_type": "markdown",
      "metadata": {},
      "source": [
        "There are several types of selectors:",
        "\n",
        "- **Universal Selector**: Selects all elements on the page. It uses the asterisk `*`.",
        "- **Type Selector**: Selects all elements of a type. The name of the element type is used. For example, `p` selects all paragraphs.",
        "- **Class selector**: Selects all elements that have a class. It uses the class name. For example, `.class` selects all elements that have the class `class`. This is useful because if we want all buttons to be the same, in the HTML we put `<button class=\"button\">` and in the CSS we put `.button { /* styles */ }`. This way all buttons will have the same styles, and if we want a button to be different, we assign it another class.",
        "- **Pseudo-class selector**: Selects all elements that have a pseudo-class. The name of the pseudo-class is used. For example, `:hover` selects all elements that are being hovered by the mouse. This is useful because if we want a button to change color when the mouse is over it, in the CSS we put `.button:hover { /* styles */ }`. This way, the button will have the styles we want when the mouse is over it. Some pseudo-classes are:",
        "- `:hover`: Selects all elements that are being hovered over by the mouse.",
        "- `:active`: Selects all elements that are being selected by the mouse and are being pressed.",
        "- `:focus`: Selects all elements that are being selected by the mouse and are being pressed, and also have focus.",
        "- `:first-child`: Selects all elements that are the first child of their parent. This is useful for example with the `<li>` in lists, because if we want the first element of the list to have a different style, in the css we put `li:first-child { /* styles */ }`. This way, the first element of the list will have the styles we want.",
        "- `:last-child`: Selects all elements that are the last child of their parent. This is useful, for example, with the `<li>` in lists because if we want the last element of the list to have a different style, in the CSS we put `li:last-child { /* styles */ }`. This way, the last element of the list will have the styles we want.",
        "- `:nth-child(n)`: Selects all elements that are the nth child of their parent. For example, `:nth-child(2)` selects all elements that are the second child of their parent.",
        "- `:nth-last-child(n)`: Selects all elements that are the nth child of their parent, starting from the end. For example, `:nth-last-child(2)` selects all elements that are the second child of their parent, starting from the end.",
        "- `:nth-of-type(n)`: Selects all elements that are the n-th child of their parent, of the same type. For example, `:nth-of-type(2)` selects all elements that are the second child of their parent, of the same type.",
        "- `:nth-last-of-type(n)`: Selects all elements that are the n-th child of their parent, of the same type, starting from the end. For example, `:nth-last-of-type(2)` selects all elements that are the second child of their parent, of the same type, starting from the end.",
        "- `:first-of-type`: Selects all elements that are the first child of their parent, of the same type.",
        "- `:last-of-type`: Selects all elements that are the last child of their parent, of the same type.",
        "- `:only-child`: Selects all elements that are the only child of their parent.",
        "- `:only-of-type`: Selects all elements that are the only child of their parent, of the same type.",
        "- `:empty`: Selects all elements that have no children.",
        "- **ID Selector**: Selects an element that has an id. The id name is used. For example, `#id` selects the element that has the id `id`. This is useful because if we want an element to be unique, in the HTML we put `<p id=\"unique\">` and in the CSS we put `#unique { /* styles */ }`. That way, that element will have the styles we want, and if we want another element to be the same, we give it a different class.",
        "- **Combined Selectors**: They select elements that meet several conditions. We use the selectors we want, separated by a space. For example, `p .class` selects all elements that have the class `class` and are children of a paragraph. This is useful because if we want all buttons that are inside a paragraph to be the same, in the HTML we write `<p class=\"paragraph_to_change\"><button class=\"button\">` and in the CSS we write `.paragraph_to_change .button { /* styles */ }`. That way, all buttons that are inside a paragraph with the class `paragraph_to_change` will have the same styles, and if we want a button to be different, we give it another class.",
        "- **Direct child combinator selector**: These selectors select elements that fulfill several conditions, but only if they are at the first level. We use the selectors we want, separated by a `>`. For example, `p > .class` selects all elements that have the class `class` and are direct children of a paragraph. This is useful because if we want all the buttons inside a paragraph to be the same, in the HTML we write `<p class=\"paragraph_to_change\"><button class=\"button\">` and in the CSS we write `.paragraph_to_change > .button { /* styles */ }`. Thus, all the buttons inside a paragraph with the class `paragraph_to_change` will have the same styles, and if we want a button to be different, we assign it another class.",
        "- **Combined Sibling Selector**: Select elements that meet several conditions, but only if they are at the same level. We use the selectors we want, separated by a `~`. For example, `p ~ .class` selects all elements that have the class `class` and are at the same level as a paragraph. This is useful because if we want all the buttons at the same level as a paragraph to be the same, in the HTML we put `<p class=\"paragraph_i_want_to_change\"></p><button class=\"button\">` and in the CSS we put `.paragraph_i_want_to_change ~ .button { /* styles */ }`. That way, all the buttons that are at the same level as a paragraph with the class `paragraph_i_want_to_change` will have the same styles, and if we want a button to be different, we assign it another class.",
        "- **Adjacent Sibling Combinator Selector**: Select elements that meet several conditions, but only if they are on the same level and are adjacent. We use the selectors we want, separated by a `+`. For example, `p + .class` selects all elements that have the class `class` and are on the same level and adjacent to a paragraph. This is useful because if we want all buttons that are on the same level and adjacent to a paragraph to be the same, in the HTML we put `<p class=\"paragraph_I_want_to_change\"></p><button class=\"button\">` and in the CSS we put `.paragraph_I_want_to_change + .button { /* styles */ }`. Thus, all buttons that are on the same level and adjacent to a paragraph with the class `paragraph_I_want_to_change` will have the same styles, and if we want a button to be different, we assign it another class.",
        "\n",
        "Normally, the class selector is used because we can reuse the styles that way."
      ]
    },
    {
      "cell_type": "markdown",
      "metadata": {},
      "source": [
        "## Styles"
      ]
    },
    {
      "cell_type": "markdown",
      "metadata": {},
      "source": [
        "### Color"
      ]
    },
    {
      "cell_type": "markdown",
      "metadata": {},
      "source": [
        "Color can be set in various ways:",
        "\n",
        "- **Name**: The color name can be used. For example, `red` is red.",
        "- **Hexadecimal**: You can set the color in hexadecimal. For example, `#ff0000` is red.",
        "  \n",
        "  If you want to add transparency, you can use `#ff000080`, which is red with 50% transparency.",
        "  \n",
        "  If you only use 3 numbers, they repeat. For example, `#f10` is the same as `#ff1100`. If you want to add transparency, you can use `#f108`, which is the same as `#ff110088`.",
        "- **RGB**: The color can be set in RGB. For example, `rgb(255, 0, 0)` is red.",
        "\n",
        "If you want to add transparency, you can use `rgb(255 0 0 / 0.5)`, which is red with 50% transparency. You can also set the transparency in percentage, `rgb(255 0 0 / 50%)`. You can find the legacy way of setting transparency with `rgba(255, 0, 0, 0.5)`, which is red with 50% transparency, but it is best to use the modern way.",
        "\n",
        "- **HSL**: You can set the color in HSL. For example, `hsl(0, 100%, 50%)` is red.",
        "\n",
        "- **OKLCH**: You can set the color in OKLCH. For example, `oklch(0 100% 50%)` is red.",
        "\n",
        "In `HSL` and `OKLCH` there is a wider color scale than in `RGB`, so if you need more colors, it is better to use `HSL` or `OKLCH`.",
        "\n",
        "You can also add transparency by adding the statement `color:transparent`."
      ]
    },
    {
      "cell_type": "markdown",
      "metadata": {},
      "source": [
        "### Color Actual"
      ]
    },
    {
      "cell_type": "markdown",
      "metadata": {},
      "source": [
        "There is a color value called `currentColor`, which is the current color. For example, if we have some text and set its color to red, and then we add a border to this text, if we set `border: 1px solid currentColor;`, the border will be red.",
        "\n",
        "```css\n",
        "p {",
        "    color: red;",
        "    border: 1px solid currentColor;",
        "}",
        "```"
      ]
    },
    {
      "cell_type": "markdown",
      "metadata": {},
      "source": [
        "### Inheritance"
      ]
    },
    {
      "cell_type": "markdown",
      "metadata": {},
      "source": [
        "When a style is applied to an element, this style is inherited by the child elements. For example, if we have a `div` with some text, and we set the color red to the `div`, the text will also be red.",
        "\n",
        "```html\n```",
        "<div>",
        "<p>Text</p>",
        "</div>",
        "```",
        "\n",
        "```css\n```",
        "```markdown\ndiv {\n```",
        "    color: red;",
        "```markdown\n# Benefits of Regular Exercise\n\nRegular physical activity is one of the most important things you can do for your health. Regardless of your age, gender, or physical ability, you can benefit from regular exercise. Here are some of the benefits:\n\n## Physical Health Benefits\n\n- **Weight Control:** Exercise can help prevent excess weight gain and help maintain weight loss.\n- **Combating Health Conditions and Diseases:** Engaging in regular physical activity can help prevent or manage a wide range of health problems, including stroke, metabolic syndrome, type 2 diabetes, depression, anxiety, and certain types of cancer.\n- **Boosting Your Immune System:** Regular exercise promotes overall good health, which can help boost your immune system and fend off illnesses.\n\n## Mental Health Benefits\n\n- **Improving Your Mood:** Exercise stimulates various brain chemicals, which may leave you feeling happier, more relaxed, and less anxious.\n- **Reducing Stress:** Physical activity can help you relax and manage stress, improving your overall quality of life.\n- **Enhancing Sleep Quality:** Regular physical activity can help you fall asleep faster, achieve better sleep quality, and deepen your sleep.\n\n## Social Benefits\n\n- **Building Social Connections:** Joining a class or working out at a gym can provide opportunities for socializing and meeting new people. These social interactions can reinforce your commitment to a fitness routine.\n\nRemember, every little bit counts, and it\u2019s never too late to start.\n```",
        "```",
        "\n",
        "By doing this, the text will be red."
      ]
    },
    {
      "cell_type": "markdown",
      "metadata": {},
      "source": [
        "We can indicate in the child which styles are inherited, for example, let's suppose we have a parent and a child",
        "\n",
        "```html\n```",
        "<div class=\"parent\">\n",
        "    <p class=\"child\">Text</p>",
        "</div>",
        "```",
        "\n",
        "```css\n```",
        "```markdown\n.parent {\n```",
        "    color: red;",
        "}",
        "\n",
        ".child {",
        "    color: inherit;",
        "```markdown\n# Understanding the Basics of Quantum Computing\n\nQuantum computing is an area of study focused on the development of computer-based technologies centered around the principles of quantum theory. Quantum theory explains the nature and behavior of energy and matter on the quantum (atomic and subatomic) level.\n\n## What is a Quantum Computer?\n\nA quantum computer uses quantum bits or qubits. Unlike a classical bit that must be either 0 or 1, a qubit can be both 0 and 1 at the same time, thanks to a phenomenon called superposition. This enables quantum computers to process a massive amount of data simultaneously.\n\n## Advantages of Quantum Computing\n\n1. **Speed**: Quantum computers can solve certain problems much faster than classical computers.\n2. **Power**: They can simulate systems that are too complex for classical computers.\n3. **Efficiency**: Quantum algorithms can reduce the resources needed for solving complex problems.\n\n## Challenges in Quantum Computing\n\nDespite its potential, quantum computing faces significant challenges:\n\n- **Decoherence**: Quantum states are fragile and can be easily disturbed by their environment, leading to loss of information.\n- **Error Rates**: Quantum operations have higher error rates compared to classical ones.\n- **Scalability**: Building large-scale quantum computers is currently a massive engineering challenge.\n\n# Conclusion\n\nThough still in its infancy, quantum computing holds the promise of revolutionizing the way we solve complex problems. Continuous research and development are required to overcome the current challenges and unlock the full potential of quantum computing.\n```",
        "",
        "\n",
        "By doing this, the text will be red, because the child inherits the color from the parent.",
        "\n",
        "The possible options are:",
        "\n",
        "- `inherit`: Inherits the style of the parent.",
        "- `initial`: Sets the default style.",
        "- `unset`: Resets the style",
        "- `revert`: Reverts the style",
        "\n",
        "Not all styles are inherited; for example, the `background` is not inherited. To avoid listing all the styles that are inherited, one way to find out is to go to `MDN` and check if the style has the `Inherited` property set to `yes` (under `Formal definition`)."
      ]
    },
    {
      "cell_type": "markdown",
      "metadata": {},
      "source": [
        "### Fonts"
      ]
    },
    {
      "cell_type": "markdown",
      "metadata": {},
      "source": [
        "When loading fonts, they can be loaded in several ways:",
        "\n",
        "- **Local**: A local font can be loaded. For example, `font-family: Arial;` loads the Arial font.",
        "- **URL**: You can load a font from a URL. For example, `font-family: url(https://fonts.googleapis.com/css2?family=Roboto);` loads the Roboto font from Google Fonts.",
        "- **Generic**: A generic font can be loaded. For example, `font-family: sans-serif;` loads a sans-serif font. This font depends on the operating system, so on Windows it will be Arial, on Mac it will be Helvetica, and on Linux it will be DejaVu Sans.",
        "\n",
        "Multiple fonts can be loaded, and if one is not available, the next one is loaded. For example, `font-family: Arial, sans-serif;` loads Arial, and if it is not available, a sans-serif font is loaded.",
        "\n",
        "You can also load a font with various styles. For example, `font-family: Arial, sans-serif; font-weight: 700;` loads Arial in bold, and if it's not available, it loads a sans-serif font in bold.",
        "\n",
        "Since `sans-serif` is a generic font, it is ideal to always place it last, so if the font we want is not available, the generic one will load.",
        "\n",
        "```css\n```",
        "p {",
        "    font-family: url(https://fonts.googleapis.com/css2?family=Roboto), url(https://fonts.googleapis.com/css2?family=Roboto+Slab), Ubuntu, sans-serif;",
        "```json\n{\n```",
        ""
      ]
    },
    {
      "cell_type": "markdown",
      "metadata": {},
      "source": [
        "### Border and Outline"
      ]
    },
    {
      "cell_type": "markdown",
      "metadata": {},
      "source": [
        "We can add a border to an element with `border: 1px solid red;`. This adds a border that is 1px thick, solid, and red.",
        "\n",
        "If we want to add an outline, we can use `outline: 1px solid red;`. This sets an outline that is 1px thick, solid, and red.",
        "\n",
        "The difference between `border` and `outline` is that `border` takes up space, while `outline` does not. For example, if we have a `div` with text and we add a border to it, the text will move to make room for the border. If we add an outline, the text will not move because the outline does not take up space. This can be observed if we change the style in the `:hover` pseudo-class. If we add a border, when we hover the mouse over it, the text will move, but if we add an outline, the text will not move."
      ]
    },
    {
      "cell_type": "markdown",
      "metadata": {},
      "source": [
        "## Waterfall"
      ]
    },
    {
      "cell_type": "markdown",
      "metadata": {},
      "source": [
        "The cascade is the order in which styles are applied. The order is:",
        "\n",
        "1. User Styles: These are the styles that the user has configured. For example, if the user has set the text to be red, the text will be red.",
        "2. Author styles: These are the styles that the author has configured. For example, if the author has configured the text to be blue, the text will be blue.",
        "3. Browser styles: These are the browser's styles. For example, if the browser is configured to make text green, the text will be green.",
        "\n",
        "User styles prevail over author styles, and author styles over browser styles.",
        "\n",
        "But within the author's styles, the styles that are lower in the code take precedence. For example, if we have a `div` with some text, and we set the color to red, and then set the color to blue, the text will be blue.",
        "\n",
        "```html\n```",
        "<div>\n",
        "<p>Text</p>",
        "</div>\n",
        "```",
        "\n",
        "```css\n```",
        "```markdown\ndiv {\n```",
        "    color: red;",
        "{\n",
        "\n",
        "div {",
        "    color: blue;",
        "}",
        "```\n```",
        "\n",
        "In this example, the text will be blue. The red color is overwritten with the blue color."
      ]
    },
    {
      "cell_type": "markdown",
      "metadata": {},
      "source": [
        "### Fallback"
      ]
    },
    {
      "cell_type": "markdown",
      "metadata": {},
      "source": [
        "One of the benefits of the cascade is that we can apply a very new style, but in case the browser the user is using does not support it, we can apply an older style beforehand just in case. For example, styling the color with `oklch` is something new, which the browser the user is using might not support, so we can apply an older style beforehand just in case.",
        "\n",
        "```css",
        "p {",
        "    color: rgb(255, 0, 0);",
        "    color: oklch(0 100% 50%);",
        "}",
        "```\n```",
        "\n",
        "In this way, the browser will first attempt to style with `oklch`, and if it can't, it will style with `rgb`."
      ]
    },
    {
      "cell_type": "markdown",
      "metadata": {},
      "source": [
        "### Specificity"
      ]
    },
    {
      "cell_type": "markdown",
      "metadata": {},
      "source": [
        "It may be that an HTML element has several ways to refer to it. For example",
        "\n",
        "```html",
        "<p class=\"clase\" id=\"id\">Text</p>",
        "```",
        "\n",
        "```css\n```",
        "```markdown\np {\n```",
        "    color: red;",
        "```json\n{  \n  \"nombre\": \"Pedro\",  \n  \"edad\": 25,  \n  \"ciudad\": \"Madrid\"  \n}\n```",
        "\n",
        "```markdown\n.clase {\n```",
        "    color: blue;",
        "```markdown\n}\n```",
        "\n",
        "#id {",
        "    color: green;",
        "```markdown\n}\n```",
        "```",
        "\n",
        "In this example, the text will be green. This is because the id selector has more specificity than the class selector, and the class selector has more specificity than the type selector. Therefore, the id selector overrides the class selector, and the class selector overrides the type selector.",
        "\n",
        "If in the CSS we had",
        "\n",
        "```css\n```",
        "p {",
        "    color: red;",
        "```markdown\n# Introduction\n\nIn this tutorial, we will cover how to use Markdown to format different types of text content. Markdown is a lightweight markup language with plain text formatting syntax, which makes it easy to read and write. \n\n## Table of Contents\n\n1. Headers\n2. Emphasis\n3. Lists\n4. Links\n5. Images\n6. Code\n\n## Headers\n\nHeaders are used to create a hierarchical structure in your documents. Markdown supports six levels of headers, from `# Header 1` to `###### Header 6`.\n\n## Emphasis\n\nYou can add emphasis to your text by using asterisks (`*`) or underscores (`_`). For italic text, wrap the text in one asterisk or underscore. For bold text, wrap the text in two asterisks or underscores.\n\n## Lists\n\nMarkdown supports ordered and unordered lists. Ordered lists use numbers followed by periods, while unordered lists use asterisks, plus signs, or hyphens.\n\n## Links\n\nTo create a hyperlink, enclose the link text in brackets (`[]`), and then follow it immediately with the URL in parentheses (`()`).\n\n## Images\n\nImages are similar to links, but they start with an exclamation mark (`!`). Enclose the alt text in brackets, and then follow it immediately with the image URL in parentheses.\n\n## Code\n\nTo include inline code, wrap the code in backticks (`` ` ``). For code blocks, use three backticks on separate lines before and after the code block.\n```",
        "\n",
        "```markdown\np.class {\n```",
        "    color: azul;",
        "```markdown\n}\n```",
        "```",
        "\n",
        "The text would be blue. This is because the class selector has more specificity than the type selector, so the class selector overrides the type selector."
      ]
    },
    {
      "cell_type": "markdown",
      "metadata": {},
      "source": [
        "Inline styles have more specificity than author styles. For example",
        "\n",
        "```html",
        "<p style=\"color: red;\">Text</p>",
        "```",
        "\n",
        "```css\n```",
        "p {",
        "    color: azul;\n",
        "```markdown\n}\n```",
        "```\n```",
        "\n",
        "In this example, the text will be red. This is because the inline style has more specificity than the author's style."
      ]
    },
    {
      "cell_type": "markdown",
      "metadata": {},
      "source": [
        "If `!important` is added at the end of the statement, this statement will have more specificity than any other. For example",
        "\n",
        "```html\n```",
        "<p class=\"clase\" id=\"id\">Text</p>",
        "```",
        "\n",
        "```css\n",
        "p {",
        "    color: red;",
        "```markdown\n# KaTeX\n\n[![npm](https://img.shields.io/npm/v/katex.svg)](https://www.npmjs.com/package/katex)\n[![Depfu](https://badges.depfu.com/badges/6a65e670367bdeec6b82e6fdf0b1728c/overview.svg)](https://depfu.com/github/KaTeX/KaTeX?project_id=15157)\n[![CircleCI](https://circleci.com/gh/KaTeX/KaTeX.svg?style=shield)](https://circleci.com/gh/KaTeX/KaTeX)\n[![codecov](https://codecov.io/gh/KaTeX/KaTeX/branch/master/graph/badge.svg)](https://codecov.io/gh/KaTeX/KaTeX)\n[![Join the chat at https://gitter.im/Khan/KaTeX](https://badges.gitter.im/Join%20Chat.svg)](https://gitter.im/Khan/KaTeX?utm_source=badge&utm_medium=badge&utm_campaign=pr-badge&utm_content=badge)\n[![Greenkeeper badge](https://badges.greenkeeper.io/KaTeX/KaTeX.svg)](https://greenkeeper.io/)\n\nKaTeX is a fast, easy-to-use JavaScript library for TeX math rendering on the web.\n\n * **Fast**: KaTeX renders its math synchronously and doesn't need to reflow the page.\n * **Print quality**: KaTeX's layout is based on Donald Knuth's TeX, the gold standard for math typesetting.\n * **Self contained**: KaTeX has no dependencies and can easily be bundled with your website resources.\n * **Server side rendering**: KaTeX produces the same output regardless of browser or environment, so you can pre-render expressions using Node.js and send them as plain HTML.\n\nKaTeX supports all major browsers, including Chrome, Safari, Firefox, Opera, Edge, and IE 11.\n\n## Usage\n\nYou can [download KaTeX](https://github.com/KaTeX/KaTeX/releases) and host it yourself or use the [CDN hosted version](https://cdnjs.com/libraries/KaTeX).\n```",
        "\n",
        "```markdown\n.clase {\n```",
        "```markdown\ncolor: blue;\n```",
        "}",
        "\n",
        "#id {",
        "```markdown\ncolor: green;\n```",
        "```markdown\n### Environment configuration\n\nFollow these steps to configure your development environment:\n\n1. **Install Node.js**: Ensure you have the latest LTS version of Node.js installed on your machine.\n2. **Clone the repository**: Use the following command to clone the repository:\n   ```\n   git clone https://github.com/user/repository.git\n   ```\n3. **Install dependencies**: Navigate to the project's root directory and run:\n   ```\n   npm install\n   ```\n4. **Set up environment variables**: Create a `.env` file in the root directory and add the necessary environment variables as specified in the `README.md`.\n5. **Start the development server**: Use the command:\n   ```\n   npm start\n   ```\n6. **Run tests**: Ensure everything is working correctly by running:\n   ```\n   npm test\n   ```\n```",
        "\n",
        "p.class {",
        "    color: amarillo !important;",
        "```markdown\n```",
        "",
        "\n",
        "In this example, the text will be yellow. This is because the declaration with `!important` has more specificity than any other."
      ]
    },
    {
      "cell_type": "markdown",
      "metadata": {},
      "source": [
        "## Units"
      ]
    },
    {
      "cell_type": "markdown",
      "metadata": {},
      "source": [
        "### Units of Length"
      ]
    },
    {
      "cell_type": "markdown",
      "metadata": {},
      "source": [
        "#### Absolute Units"
      ]
    },
    {
      "cell_type": "markdown",
      "metadata": {},
      "source": [
        "If we want to set a fixed size, we can use absolute units. For example, `px` is a pixel, `cm` is a centimeter, `mm` is a millimeter, `in` is an inch, `pt` is a point, `pc` is a pica."
      ]
    },
    {
      "cell_type": "markdown",
      "metadata": {},
      "source": [
        "#### Relative Units"
      ]
    },
    {
      "cell_type": "markdown",
      "metadata": {},
      "source": [
        "However, if we want the size to be relative, we can use relative units. For example, `em` is the font size, `rem` is the root element's font size, `vw` is the viewport width, `vh` is the viewport height, `vmin` is the width or height of the viewport, whichever is smaller, `vmax` is the width or height of the viewport, whichever is larger, `ch` is the width of a character, `ex` is the height of an x, `fr` is a fraction of the available space."
      ]
    },
    {
      "cell_type": "markdown",
      "metadata": {},
      "source": [
        "## Box Model"
      ]
    },
    {
      "cell_type": "markdown",
      "metadata": {},
      "source": [
        "In HTML, everything is boxes, but there are two types of ways to see the boxes: `inline` and `block`. For example, `<span>` elements are `inline`, and `<div>` elements are `block`."
      ]
    },
    {
      "cell_type": "markdown",
      "metadata": {},
      "source": [
        "### `inline` Boxes"
      ]
    },
    {
      "cell_type": "markdown",
      "metadata": {},
      "source": [
        "When the element is `inline`, the width and height cannot be set, and the element behaves as if it were text. For example, if we have a `span` with some text, and we set a width and height, the width and height will not be applied, and the element will behave as if it were text.",
        "\n",
        "```html",
        "<span>Text</span>",
        "```",
        "\n",
        "```css\n```",
        "span {",
        "```markdown\n    width: 100px;\n```",
        "    height: 100px;",
        "}\n}",
        "<|vq_2552|>",
        "\n",
        "In this example, the width and height will not be applied, and the element will behave as if it were text."
      ]
    },
    {
      "cell_type": "markdown",
      "metadata": {},
      "source": [
        "Additionally, when the element is `inline`, if several elements are placed together in the html, these elements will be displayed together. For example, if we have several `span` elements with text and place them together in the html, these elements will be displayed together.",
        "\n",
        "```html",
        "<span>Text</span>",
        "<span>Text</span>",
        "<span>Text</span>",
        "```",
        "\n",
        "In this example, the elements will be displayed together ==> TextTextText."
      ]
    },
    {
      "cell_type": "markdown",
      "metadata": {},
      "source": [
        "But if we want the elements to display on different lines, we can use `display: block;`. For example, if we have several `span` elements with some text, and we apply `display: block;` to them, these elements will be displayed on different lines.",
        "\n",
        "```html",
        "<span>Text</span>",
        "<span>Text</span>",
        "<span>Text</span>",
        "```",
        "\n",
        "```css\n",
        "span {",
        "    display: block;",
        "```markdown\n## What is Plotly?\n\n**Plotly** is a graphing library that makes interactive, publication-quality graphs online. Examples of how a surface plot looks in the Python programming language are shown in this showcase page.\n\nA lot of people use Plotly due to its functionalities. You are able to use it with many programming languages and tools like MATLAB, Python, R, Perl, Julia, Arduino, and REST among others. The company behind this library is also named Plotly and its main product is Plotly. Do not get confused, though: there are many companies working on graphs and data visualization tools.\n\nPlotly is the core library that enables the creation of interactive and versatile graphs, which can be used in many publications and tools. The library is available for different languages, making it very popular in a lot of industries including finance, government, and academia.\n\n## Plotly in Python\n\nBesides using Plotly as an online service, it can also be used offline. To do this, we only need to install Plotly for Python and I'm going to explain how.\n\n```python\n# First we need to install Plotly\npip install plotly\n```\n\n\n```python\n# Import the library to be used\nimport plotly.express as px\n\n# Create a simple graph\nfig = px.line(x=[\"a\", \"b\", \"c\"], y=[1, 3, 2], title=\"Sample Graph\")\n\n# Show the graph\nfig.show()\n```\n\nThis Python script shows a simple graph with the x-values as `[\"a\", \"b\", \"c\"]` and y-values as `[1, 3, 2]`. The graph will be displayed in your default web browser.\n\nPlotly also has a lot of other functionalities for creating different types of plots like bar charts, scatter plots, histograms, heatmaps, and much more. You can refer to Plotly's official [documentation](https://plotly.com/python/) for more information.\n```",
        "```",
        "\n",
        "In this example, the elements will be displayed on different lines",
        "                        \n",
        "\u2b07",
        "                        \n",
        "Text",
        "                        \n",
        "Text",
        "                        \n",
        "Text"
      ]
    },
    {
      "cell_type": "markdown",
      "metadata": {},
      "source": [
        "### `block` boxes"
      ]
    },
    {
      "cell_type": "markdown",
      "metadata": {},
      "source": [
        "When the element is `block`, the width and height can be set, and the element behaves as if it were a block. For example, if we have a `div` with some text, and we set a width and height, the width and height will be applied, and the element will behave as if it were a block.",
        "\n",
        "```html\n```",
        "<div>Text</div>",
        "```",
        "\n",
        "```css\n",
        "```markdown\ndiv {\n```",
        "    width: 100px;",
        "    height: 100px;",
        "```markdown\n# Introduction\n\nArtificial intelligence (AI) has transformed various industries, paving the way for more innovative and efficient solutions. One of the significant branches of AI is machine learning (ML), which focuses on enabling machines to learn from data and improve their performance over time.\n\n## What is Machine Learning?\n\nMachine learning is a subset of AI that involves training algorithms to make predictions or decisions based on data. These algorithms can identify patterns and relationships within large datasets, enabling computers to perform tasks that typically require human intelligence.\n\n### Types of Machine Learning\n\nThere are several types of machine learning, including:\n\n1. **Supervised Learning**: The algorithm is trained on a labeled dataset, which means that each training example is paired with an output label. The goal is to learn a mapping from inputs to outputs.\n2. **Unsupervised Learning**: The algorithm is given a dataset without labeled responses and must find hidden patterns or structures in the data.\n3. **Reinforcement Learning**: The algorithm learns by interacting with an environment, receiving rewards or penalties based on its actions, and aims to maximize the cumulative reward.\n\n## Applications of Machine Learning\n\nMachine learning has a wide range of applications, including:\n\n- **Healthcare**: Predicting disease outbreaks, personalizing treatment plans, and improving diagnostic accuracy.\n- **Finance**: Fraud detection, risk assessment, and algorithmic trading.\n- **Marketing**: Customer segmentation, recommendation engines, and sentiment analysis.\n- **Transport**: Self-driving cars, route optimization, and predictive maintenance.\n\nBy leveraging machine learning, organizations can make data-driven decisions, streamline operations, and enhance their services.\n```",
        "```",
        "\n",
        "In this example, the width and height will be applied, and the element will behave as if it were a block."
      ]
    },
    {
      "cell_type": "markdown",
      "metadata": {},
      "source": [
        "Additionally, when the element is `block`, if several elements are placed together in the HTML, these elements will be displayed one below the other. For example, if we have several `div` elements with text, and we place them together in the HTML, these elements will be displayed one below the other.",
        "\n",
        "```html\n```",
        "<div>Text</div>",
        "<div>Text</div>",
        "<div>Text</div>",
        "```",
        "\n",
        "In this example, the elements will be displayed one below the other",
        "                        \n",
        "\u2b07",
        "                        \n",
        "Text",
        "                        \n",
        "Text",
        "                        \n",
        "# Title\n\n## Introduction\n\nThis document aims to provide an overview of the main features of the project. Below you will find detailed information about each aspect.\n\n## Description\n\nThe project is focused on creating a robust application that will support various platforms. It has been designed with flexibility in mind and includes the following components:\n\n1. **User Interface**: The UI is intuitive and easy to navigate.\n2. **Database Management**: Efficient handling of large datasets.\n3. **Security**: Advanced features to ensure data integrity and privacy.\n\n## Installation\n\nTo install the application, follow these steps:\n\n```bash\ngit clone https://github.com/example/repo.git\ncd repo\nnpm install\nnpm start\n```\n\n## Usage\n\nAfter installation, you can start using the application by executing the following command:\n\n```bash\nnpm run dev\n```\n\n## Conclusion\n\nWe believe that this project will greatly benefit users by providing a seamless and secure experience. For more information, visit our [website](https://example.com) or contact us at support@example.com."
      ]
    },
    {
      "cell_type": "markdown",
      "metadata": {},
      "source": [
        "But if we want the elements to be displayed on the same line, we can use `display: inline;`. For example, if we have several `div` with text, and we set them to `display: inline;`, these elements will be displayed on the same line.",
        "\n",
        "```html",
        "<div>Text</div>",
        "<div>Text</div>",
        "<div>Text</div>",
        "```",
        "\n",
        "```css\n",
        "```markdown\ndiv {\n```",
        "    display: inline;",
        "```markdown\n# Project Title\n\nA brief description of what this project does and who it's for\n\n## Installation\n\n```bash\nnpm install my-project\n```\n\n## Usage\n\n```python\nimport my_project\n```\n\n## Contributing\nPull requests are welcome. For major changes, please open an issue first to discuss what you would like to change.\n\nPlease make sure to update tests as appropriate.\n\n## License\n[MIT](https://choosealicense.com/licenses/mit/)\n```",
        "```",
        "\n",
        "In this example, the elements will be displayed on the same line ==> TextTextText."
      ]
    },
    {
      "cell_type": "markdown",
      "metadata": {},
      "source": [
        "### Margin, Border, Padding, and Content"
      ]
    },
    {
      "cell_type": "markdown",
      "metadata": {},
      "source": [
        "Now that we know everything in HTML is boxes, we can see that each box has 4 parts:",
        "\n",
        "- **Margin**: It is the space between the box and the other boxes.",
        "- **Border**: It is the edge of the box.",
        "- **Padding**: It's the space between the border and the content.",
        "- **Content**: It's the content of the box.",
        "\n",
        "![Margin, Border, Padding and Content](https://web.dev/static/learn/css/box-model/image/un-diagrama-que-muestra-l-a71d29fe924e.svg?hl=es)"
      ]
    },
    {
      "cell_type": "markdown",
      "metadata": {},
      "source": [
        "All these properties can be configured. For example, if we have a `div` with some text, and we set a width and height, the width and height will be applied, and the element will behave as if it were a block.",
        "\n",
        "```html\n",
        "<div>Text</div>",
        "```\n```",
        "\n",
        "```css\n```",
        "```markdown\ndiv {\n```",
        "    width: 100px;\n",
        "    height: 100px;",
        "    margin: 10px;",
        "    border: 10px solid red;",
        "padding: 10px;",
        "```markdown\n}",
        "```",
        "\n",
        "Since they are size properties, length units can be used. For example:",
        "\n",
        "* If we want the margin to be 10 pixels, we set `margin: 10px;`.",
        " * If we only want it to be the left margin, we use `margin-left: 10px;`.",
        " * If we want it to be only the right margin, we use `margin-right: 10px;`.",
        "* If we want only the top margin, we put `margin-top: 10px;`.",
        "* If we want it to be only the bottom margin, we use `margin-bottom: 10px;`.",
        "* If we want each margin to be a different size, we use `margin: 10px 20px 30px 40px;`. The order is top, right, bottom, left, like the hands of a clock.",
        "* If we want to change the sizes on the horizontal and vertical axis, we set `margin: 10px 20px;`. The order is top and bottom (10px), left and right (20px)."
      ]
    },
    {
      "cell_type": "markdown",
      "metadata": {},
      "source": [
        "#### Box size when changing padding"
      ]
    },
    {
      "cell_type": "markdown",
      "metadata": {},
      "source": [
        "If we have a `div` with some text, and we set a width and a height, the width and height will be applied, and the element will behave as if it were a block.",
        "\n",
        "```html",
        "<div>Text</div>",
        "```",
        "\n",
        "```css\n",
        "```css\ndiv {\n```",
        "    width: 100px;",
        "    height: 100px;",
        "```python\n# Here's an example of a Python Hello World program\n\nprint(\"Hello, World!\")\n```\n\n### Introduction\n\nWelcome to this tutorial on Python programming. In this tutorial, we will cover the basics of Python, including syntax, variables, and data types.\n\n### Syntax\n\nPython syntax is designed to be readable and straightforward. Here is an example of a simple Python program:\n\n```python\n# This is a single line comment\n\n\"\"\"\nThis is a multi-line comment\n\"\"\"\n\n# Print \"Hello, World!\" to the console\nprint(\"Hello, World!\")\n```\n\n### Variables\n\nVariables in Python can store different types of data and do not require explicit declaration of their type.\n\n```python\n# Integer variable\nx = 5\n\n# Float variable\ny = 3.14\n\n# String variable\nname = \"Alice\"\n```\n\n### Data Types\n\nPython has several built-in data types, such as integers, floats, and strings. Here is a list of common data types:\n\n- `int`: Integer type\n- `float`: Floating-point type\n- `str`: String type\n\n### Conclusion\n\nThis tutorial provided an overview of basic Python concepts. To learn more, refer to the [official Python documentation](https://docs.python.org/3/).\n```",
        "```\n",
        "\n",
        "This way the `div` will have a width and height of 100px.",
        "\n",
        "But if we now apply a padding of 10px, the width and height will remain, but the box size will be 120px, because the padding is added to the width and height.",
        "\n",
        "```html\n",
        "<div>Text</div>",
        "```\n",
        "\n",
        "```css\n```",
        "div {",
        "    width: 100px;",
        "    height: 100px;",
        "    padding: 10px;",
        "```markdown\n}\n```",
        "",
        "\n",
        "In this way, the `div` will have a width and height of 100px, but the box size will be 120px."
      ]
    },
    {
      "cell_type": "markdown",
      "metadata": {},
      "source": [
        "#### Box size when changing the border"
      ]
    },
    {
      "cell_type": "markdown",
      "metadata": {},
      "source": [
        "If we have a `div` with some text, and we set a width and height, the width and height will be applied, and the element will behave as if it were a block.",
        "\n",
        "```html\n",
        "<div>Text</div>",
        "```",
        "\n",
        "```css\n",
        "div {",
        "    width: 100px;",
        "    height: 100px;",
        "```markdown\n# How to Contribute\n\nThere are several ways you can contribute to this project.\n\n## Reporting Bugs\n\nIf you find a bug, please report it by opening an issue on our GitHub repository. Be sure to include as many details as possible.\n\n## Suggesting Features\n\nWe welcome suggestions for new features. To suggest a feature, open an issue and describe your idea in detail.\n\n## Pull Requests\n\nWe accept pull requests for bug fixes and new features. Be sure to follow our coding standards and include tests for any new functionality.\n\n## Documentation\n\nImproving documentation is a valuable way to contribute. Feel free to suggest edits to our existing docs or to add new documentation.\n\n## Code of Conduct\n\nThis project adheres to a code of conduct. By participating, you are expected to uphold this code. Please report unacceptable behavior to the project maintainers.\n```",
        "```",
        "\n",
        "This way the `div` will have a width and height of 100px.",
        "\n",
        "But if we now apply a 10px border, the width and height will remain, but the box size will be 120px, because the border is added to the width and height.",
        "\n",
        "```html\n",
        "<div>Text</div>",
        "",
        "\n",
        "```css\n```",
        "```markdown\ndiv {\n```",
        "    width: 100px;",
        "    height: 100px;",
        "    border: 10px solid red;",
        "```markdown\n## Introduction to Machine Learning\n\nMachine Learning is a field of artificial intelligence that uses statistical techniques to give computer systems the ability to \"learn\" from data, without being explicitly programmed. Some of the key concepts in machine learning include supervised learning, unsupervised learning, neural networks, and reinforcement learning. \n\n### Supervised Learning\n\nSupervised learning involves training a model on a labeled dataset, which means that each training example is paired with an output label. The goal is to learn a mapping from inputs to outputs that can be used to make predictions on new, unseen data. Common algorithms include linear regression, logistic regression, and support vector machines.\n\n### Unsupervised Learning\n\nUnsupervised learning, on the other hand, deals with datasets that do not have labeled responses. The goal is to infer the natural structure present within a set of data points. Algorithms in this category include k-means clustering, hierarchical clustering, and association rules.\n\n### Neural Networks\n\nNeural networks are a set of algorithms, modeled loosely after the human brain, that are designed to recognize patterns. They interpret sensory data through a kind of machine perception, labeling, and clustering of raw input. Common applications include image and speech recognition.\n\n### Reinforcement Learning\n\nReinforcement learning is about taking suitable actions to maximize a particular reward in a particular situation. It is employed in various fields, such as game theory, control theory, operations research, information theory, and multi-agent systems.\n\n## Conclusion\n\nMachine Learning is a powerful tool that can be used to make predictions and decisions based on data. Its applications are vast and diverse, ranging from medical diagnosis to autonomous vehicles. Understanding the different types of machine learning algorithms and their applications can greatly enhance your ability to solve complex problems.\n```",
        "```",
        "\n",
        "This way the `div` will have a width and height of 100px, but the box size will be 120px."
      ]
    },
    {
      "cell_type": "markdown",
      "metadata": {},
      "source": [
        "#### Box size when changing the margin"
      ]
    },
    {
      "cell_type": "markdown",
      "metadata": {},
      "source": [
        "In the case of margins, the size of the box does not change, but the space between the boxes does. For example, if we have two `div` with some text, and we set a width and height, the width and height will apply, and the element will behave as if it were a block.",
        "\n",
        "```html\n",
        "<div>Text</div>",
        "<div>Text</div>",
        "```",
        "\n",
        "",
        "div {",
        "    width: 100px;",
        "    height: 100px;",
        "}",
        "",
        "\n",
        "This way the `div` elements will have a width and height of 100px.",
        "\n",
        "But if we now apply a margin of 10px, the width and height will remain the same, but the space between the `div` will be 20px because the margin is added to the space between the `div`.",
        "\n",
        "```html\n```",
        "<div>Text</div>",
        "<div>Text</div>",
        "```",
        "\n",
        "```css\n```",
        "```markdown\ndiv {\n```",
        "    width: 100px;",
        "    height: 100px;",
        "    margin: 10px;",
        "}",
        "```\n```",
        "\n",
        "In this way, the `div` elements will have a width and height of 100px, but the space between the `div` elements will be 20px."
      ]
    },
    {
      "cell_type": "markdown",
      "metadata": {},
      "source": [
        "#### Box size"
      ]
    },
    {
      "cell_type": "markdown",
      "metadata": {},
      "source": [
        "Therefore, what occupies the box is:",
        "\n",
        " * Width: `width + padding + border`.",
        "* High: `height + padding + border`.",
        "\n",
        "The margin does not count because the margin is the space between the boxes."
      ]
    },
    {
      "cell_type": "markdown",
      "metadata": {},
      "source": [
        "### Box-sizing"
      ]
    },
    {
      "cell_type": "markdown",
      "metadata": {},
      "source": [
        "By default, the `box-sizing` property is set to `content-box`. This means that the width and height do not include the padding or the border. For example, if we have a `div` with some text, and we set a width and height, the width and height will be applied, and the element will behave as if it were a block.",
        "\n",
        "```html\n```",
        "<div>Text</div>",
        "",
        "\n",
        "```css\n",
        "div {",
        "    width: 100px;",
        "height: 100px;",
        "```markdown\n}\n```",
        "```",
        "\n",
        "In this way, the `div` will have a width and height of 100px.",
        "\n",
        "But if we now apply a 10px padding, the width and height will remain the same, but the box size will be 120px, because the padding is added to the width and height.",
        "\n",
        "```html\n",
        "<div>Text</div>",
        "```\n```",
        "\n",
        "```css\n```",
        "```diff\n- div {\n```",
        "    width: 100px;",
        "    height: 100px;",
        "```markdown\npadding: 10px;\n```",
        "}",
        "```",
        "\n",
        "In this way, the `div` will have a width and height of 100px, but the size of the box will be 120px."
      ]
    },
    {
      "cell_type": "markdown",
      "metadata": {},
      "source": [
        "If we change the `box-sizing` property to `border-box`, the width and height would include the padding and the border. For example, if we have a `div` with text, and we set a width and height, the width and height will be applied, and the element will behave as if it were a block.",
        "\n",
        "```html\n",
        "<div>Text</div>",
        "```",
        "\n",
        "```css\n```",
        "```markdown\ndiv {\n```",
        "    width: 100px;",
        "    height: 100px;",
        "```css\nbox-sizing: border-box;\n```",
        "}",
        "```\n```",
        "\n",
        "In this way, the `div` will have a width and height of 100px.",
        "\n",
        "But if we now apply a padding of 10px, the width and height will remain, and the size of the box will also be 100px, because the padding is not added to the width and height.",
        "\n",
        "",
        "<div>Text</div>",
        "",
        "\n",
        "```css\n",
        "```markdown\ndiv {\n```",
        "    width: 100px;",
        "    height: 100px;\n",
        "    box-sizing: border-box;",
        "    padding: 10px;\n",
        "```markdown\nEste es un archivo Markdown para probar la integraci\u00f3n continua.\n\n## Encabezado 2\n\nEste es un p\u00e1rrafo de ejemplo. Debemos asegurarnos de que todo se traduzca correctamente.\n\n### Encabezado 3\n\nA continuaci\u00f3n, se muestra una lista:\n\n- Elemento 1\n- Elemento 2\n- Elemento 3\n\nEste es un [enlace de ejemplo](https://www.ejemplo.com).\n\n```python\n# Este es un comentario en Python\nprint(\"\u00a1Hola Mundo!\")\n```\n\n#### Encabezado 4\n\nM\u00e1s texto para comprobar la traducci\u00f3n del Markdown.\n\n```json\n{\n    \"saludo\": \"\u00a1Hola Mundo!\"\n}\n```\n\nAqu\u00ed hay una imagen de ejemplo:\n\n![Texto alternativo de la imagen](https://www.ejemplo.com/imagen.png)\n```",
        "```",
        "\n",
        "In this way, the `div` will have a width and height of 100px, and the box size will also be 100px.",
        "\n",
        "It should be noted that when the `box-sizing` property is changed to `border-box`, the width and height include the padding and border, so we cannot set a width and height smaller than the padding and border. For example, if we have a `div` with text, and we set a width and height, the width and height will be applied, and the element will behave as if it were a block.",
        "\n",
        "```html\n",
        "<div>Text</div>",
        "```",
        "\n",
        "",
        "```html\ndiv {\n```",
        "    width: 100px;",
        "    height: 100px;",
        "    box-sizing: border-box;",
        "```markdown\n# Weekly Reflection Report\n\n## Overview\n\nThis week, I worked on various tasks ranging from writing code to attending meetings. The primary focus was on fixing bugs and implementing new features for the upcoming release.\n\n## Accomplishments\n\n- **Bug Fixes**: Resolved several critical bugs that were affecting the application's performance.\n- **New Features**: Added user authentication and enhanced the UI for better user experience.\n- **Code Review**: Participated in code reviews and provided feedback to the team.\n\n## Challenges\n\n- **Time Management**: Balancing multiple tasks at once was challenging, and I often found myself working late to meet deadlines.\n- **Technical Difficulties**: Encountered issues with the development environment that required troubleshooting and delayed progress.\n\n## Plans for Next Week\n\n- Focus on performance optimization.\n- Prepare documentation for the new features.\n- Continue working on outstanding tasks and addressing any arising issues.\n\n## Conclusion\n\nOverall, it was a productive week. Despite some challenges, significant progress was made. I look forward to continuing the development and contributing to the project's success.\n\n```",
        "```\n```",
        "\n",
        "This way the `div` will have a width and height of 100px.",
        "\n",
        "But if we now apply a padding of 110px, the width and height will remain the same, but the box size will be 220px because the padding is added to the width and height.",
        "\n",
        "```html\n```",
        "<div>Text</div>",
        "```",
        "\n",
        "```css\n",
        "div {",
        "    width: 100px;",
        "height: 100px;",
        "    box-sizing: border-box;",
        "    padding: 110px;",
        "``` \n## Introduction\n\nThis project is aimed at providing a comprehensive framework that includes a set of tools and guidelines for software development. Our goal is to enhance productivity and ensure the highest quality standards.\n\n## Features\n\n- **Modular Architecture**: The project is designed using a modular architecture that allows easy integration and scalability.\n- **User-Friendly Interface**: The interface is intuitive and easy to navigate.\n- **Robust Security**: Implements advanced security measures to protect user data.\n- **Cross-Platform Support**: Compatible with multiple operating systems.\n\n## Installation\n\nTo install the project, follow the steps below:\n\n1. Clone the repository: `git clone https://github.com/your-repo/project.git`\n2. Navigate to the project directory: `cd project`\n3. Install dependencies: `npm install`\n4. Run the application: `npm start`\n\n## Usage\n\nOnce the installation is complete, you can start using the software immediately. Refer to the user manual for detailed instructions.\n\n## Contributing\n\nWe welcome contributions from everyone. Please read our [contribution guidelines](CONTRIBUTING.md) before you start.\n\n## License\n\nThis project is licensed under the MIT License. See the [LICENSE](LICENSE.md) file for more details.\n```",
        "```\n",
        "\n",
        "In this way, the `div` will have a width and height of 100px, but the box size will be 220px."
      ]
    },
    {
      "cell_type": "markdown",
      "metadata": {},
      "source": [
        "### Overflow"
      ]
    },
    {
      "cell_type": "markdown",
      "metadata": {},
      "source": [
        "One of the most famous CSS memes is the following",
        "\n",
        "![CSS is awesome](https://css-tricks.com/wp-content/uploads/2021/04/css-is-awesome.jpg)",
        "\n",
        "And this happens when the size of the content is greater than the size of the box. For example, if we have a `div` with text, and we set a width and height, the width and height will be applied, and the element will behave as if it were a block.",
        "\n",
        "```html",
        "<div>Text</div>",
        "```\n```",
        "\n",
        "```css\n",
        "div {",
        "    width: 100px;\n",
        "    height: 100px;",
        "```markdown\n# Title\n\nThis is a sample document to demonstrate the translation process. Below are some sections and subsections.\n\n## Section 1\n\nIn Section 1, we will introduce the main concepts.\n\n### Subsection 1.1\n\nThis subsection gives a detailed explanation of the main concept. Here you can add:\n\n- Bullet points\n- Additional explanations\n- Code examples\n\n### Subsection 1.2\n\nThis part covers more complex details and examples.\n\n## Section 2\n\nIn Section 2, we will discuss related concepts and their applications.\n\n### Subsection 2.1\n\nThis subsection focuses on practical applications.\n\n### Subsection 2.2\n\nHere, we provide some case studies and real-world examples.\n```",
        "```",
        "\n",
        "This way the `div` will have a width and height of 100px.",
        "\n",
        "But if we now apply a very long text, the text will overflow the box, because the content size is larger than the size of the box.",
        "\n",
        "```html",
        "<div>Very long text</div>",
        "```",
        "\n",
        "```css\n```",
        "```markdown\ndiv {\n```",
        "    width: 100px;",
        "    height: 100px;",
        "```",
        "```\n```",
        "\n",
        "This way the `div` will have a width and height of 100px, but the text will overflow the box."
      ]
    },
    {
      "cell_type": "markdown",
      "metadata": {},
      "source": [
        "This happens because in CSS the `overflow` property is set to `visible`. This means that the content can overflow the box. But we have other options:",
        "\n",
        " * `hidden`: The content cannot overflow out of the box, and it gets cut off.",
        " * `scroll`: The content cannot escape the box, and a scrollbar is added.",
        " * `auto`: The content cannot escape the box, and a scrollbar is added if necessary. In this case, it depends on the device, because if the device has a scrollbar, a scrollbar will be added, and if the device does not have a scrollbar, no scrollbar will be added.",
        "\n",
        "Between `scroll` and `auto`, `auto` is recommended because if the device has a scroll bar, a scroll bar will be added, and if the device does not have a scroll bar, a scroll bar will not be added.",
        "\n",
        "![aoverflow](https://lh3.googleusercontent.com/-tVNmvecB8A4/Ukqdi769oPI/AAAAAAAAAd0/kgisEf3RGRk/s538/CU01038D_1.png)"
      ]
    },
    {
      "cell_type": "markdown",
      "metadata": {},
      "source": [
        "### Overflow hidden"
      ]
    },
    {
      "cell_type": "markdown",
      "metadata": {},
      "source": [
        "In the case of choosing `hidden`, the content cannot escape the box, and it gets cut off. In this case, we have the `text-overflow` property, which allows us to configure what to do with the text that goes beyond the box. The options are:",
        "\n",
        " * `clip`: The text is cut off.",
        " * `ellipsis`: The text is truncated, and `...` is added at the end of the text.",
        "\n",
        "In the future, it will be possible to set a custom symbol, but for now, it is not possible."
      ]
    },
    {
      "cell_type": "markdown",
      "metadata": {},
      "source": [
        "#### Bar Styling"
      ]
    },
    {
      "cell_type": "markdown",
      "metadata": {},
      "source": [
        "In case of overflow, the scrollbar can be styled, but it is advisable not to style the scrollbar of the page and only do so in scrollbars of internal boxes. For example, if there is an index on the side of the page, and we want to change the size and color of the scrollbar to make it look better, we can do it.",
        "\n",
        "At [scrollbar.app](https://scrollbar.app/) we have an editor to style the bar and get the necessary code"
      ]
    },
    {
      "cell_type": "markdown",
      "metadata": {},
      "source": [
        "### Position"
      ]
    },
    {
      "cell_type": "markdown",
      "metadata": {},
      "source": [
        "In HTML, elements stack up, they are positioned statically by default, this is because by default in CSS they have the `position` attribute with the value `static`. This means that the element is positioned statically and cannot be moved. The possible values are",
        "\n",
        " * `static`: The element is positioned statically and cannot be moved.",
        " * `relative`: The element is positioned relatively, and it can be moved.",
        " * `absolute`: The element is positioned absolutely, and it can be moved.",
        " * `fixed`: The element is positioned in a fixed manner, and it can be moved.",
        "* `sticky`: The element is positioned in a sticky manner, and it can move.",
        "\n",
        "![Position](https://miro.medium.com/v2/resize:fit:600/1*WU2bIP1OCaS71r82S5zFeA.jpeg)"
      ]
    },
    {
      "cell_type": "markdown",
      "metadata": {},
      "source": [
        "#### Position relative"
      ]
    },
    {
      "cell_type": "markdown",
      "metadata": {},
      "source": [
        "When we want an element's position to be relative to another, we use `position: relative;`. But you need to set `position: relative;` on the parent, and `position: absolute;` on the child. For example, if we have a `div` with some text, and we want the text to be in the top right corner of the `div`, we can achieve this.",
        "\n",
        "```html\n```",
        "<div>",
        "    <p>Text</p>",
        "</div>",
        "```",
        "\n",
        "```css\n",
        "div {",
        "    position: relative;",
        "```markdown\n# Introduction\n\nWelcome to the documentation of our project. Here you will find detailed information on how to set up, use, and contribute to the project.\n\n## Getting Started\n\nTo get started with the project, follow these steps:\n\n1. Clone the repository:\n```bash\ngit clone https://github.com/yourusername/yourproject.git\n```\n2. Navigate to the project directory:\n```bash\ncd yourproject\n```\n3. Install the dependencies:\n```bash\nnpm install\n```\n\n## Usage\n\nAfter setting up the project, you can start using it by running the following command:\n```bash\nnpm start\n```\nThis will launch the application and you can access it in your browser at `http://localhost:3000`.\n\n## Contributing\n\nWe welcome contributions from the community. To contribute, please follow these guidelines:\n\n1. Fork the repository.\n2. Create a new branch for your feature or bug fix.\n3. Make your changes and commit them with a descriptive message.\n4. Push your changes to your forked repository.\n5. Submit a pull request to the main repository.\n\nThank you for contributing!\n```",
        "\n",
        "p {",
        "    position: absolute;",
        "    top: 0;",
        "    right: 50px;",
        "```markdown\n}\n```",
        "```\n```",
        "\n",
        "In this way, the text will be in the top-right corner of the `div`."
      ]
    },
    {
      "cell_type": "markdown",
      "metadata": {},
      "source": [
        "#### Position absolute"
      ]
    },
    {
      "cell_type": "markdown",
      "metadata": {},
      "source": [
        "When the element is `absolute`, the element is positioned absolutely to the first parent element that is not `static`. In the previous example, we saw that if we have a `div` with text, and we want the text to be in the top right corner of the `div`, we can do it.",
        "\n",
        "```html\n```",
        "<div>\n",
        "<p>Text</p>",
        "</div>",
        "```",
        "\n",
        "```css\n",
        "```markdown\ndiv {\n```",
        "    position: relative;",
        "```markdown\n}\n```",
        "\n",
        "p {",
        "    position: absolute;",
        "    top: 0;",
        "    right: 50px;",
        "```markdown\n}\n```",
        "```",
        "\n",
        "In this example, the `div` has `position: relative;`, so the `p` is positioned absolutely to the `div`, in the top right corner."
      ]
    },
    {
      "cell_type": "markdown",
      "metadata": {},
      "source": [
        "In case there is no parent element other than `static`, the element is positioned absolutely to the `body`, that is, to the page.",
        "\n",
        "```html",
        "<p>Text</p>",
        "```\n```",
        "\n",
        "```css\n```",
        "p {",
        "    position: absolute;",
        "    top: 0;",
        "    right: 50px;",
        "```markdown\n}\n```",
        "```",
        "\n",
        "In this example, the `p` does not have any parent element other than `static`, so the `p` is positioned absolutely to the `body`. That is, at the top right of the page."
      ]
    },
    {
      "cell_type": "markdown",
      "metadata": {},
      "source": [
        "Thanks to the `relative` and `absolute` properties, we can center a `div` horizontally and vertically. For example, if we have a `div` with text, and we want the text to be centered horizontally and vertically, we can do it.",
        "\n",
        "```html\n```",
        "<div>\n",
        "<p>Text</p>",
        "</div>",
        "```",
        "\n",
        "",
        "```markdown\ndiv {\n```",
        "    position: relative;",
        "```markdown\n## Contributing\n\nWe welcome contributions from the community. Here are some ways you can help:\n\n### Reporting Bugs\n\nIf you encounter bugs, please report them by opening an issue in our [GitHub repository](https://github.com/username/repository). Provide detailed information about the bug, including steps to reproduce, expected behavior, and screenshots if applicable.\n\n### Suggesting Enhancements\n\nWe are always looking to improve our project. If you have ideas for new features or enhancements, feel free to submit them as issues in our GitHub repository. Clearly describe the enhancement, its benefits, and any potential drawbacks.\n\n### Pull Requests\n\nWe welcome pull requests. If you want to contribute code, follow these steps:\n1. Fork the repository.\n2. Create a new branch for your feature or bug fix.\n3. Write your code and include tests if applicable.\n4. Submit a pull request and provide a detailed description of your changes.\n\n### Documentation\n\nGood documentation is crucial for any project. You can help by improving our documentation. This includes fixing typos, clarifying sections that are unclear, or adding missing information.\n\nThank you for your interest in contributing!\n```",
        "\n",
        "p {",
        "    position: absolute;",
        "    top: 0;",
        "    right: 0;",
        "```markdown\nbottom: 0;\n```",
        "    left: 0;",
        "    margin: auto;",
        "```markdown\n}\n```",
        "```",
        "\n",
        "In this example, the `div` has `position: relative;`, so the `p` is positioned absolutely to the `div`, in the top right corner. Additionally, the `p` has `top: 0;`, `right: 0;`, `bottom: 0;` and `left: 0;`, so the `p` occupies the entire `div`. Lastly, the `p` has `margin: auto;`, so the `p` is centered horizontally and vertically.",
        "\n",
        "This is not the best way to center the content in a `div`, but it can be very useful in some cases, such as in a modal."
      ]
    },
    {
      "cell_type": "markdown",
      "metadata": {},
      "source": [
        "#### Fixed Position"
      ]
    },
    {
      "cell_type": "markdown",
      "metadata": {},
      "source": [
        "When the element is `fixed`, it is positioned fixed to the window. It is similar to `absolute`, but instead of positioning itself to the first parent element that is not `static`, it positions itself to the window. Additionally, if the window moves, the element moves with it, meaning that if we scroll, the element will always be in the same position.",
        "\n",
        "For example, if we have a `div` with text, and we want the text to be in the top right corner of the window, we can do it.",
        "\n",
        "```html\n```",
        "<div>",
        "    <p>Text</p>",
        "</div>\n\n## Build and run\n\nBe sure to have both node.js and npm installed. Then, launch the following commands:\n\n```bash\nnpm install\nnpm start\n```\n\nOpen a browser and go to http://localhost:8080 to see the result.\n\n## File Structure\n\nThe project is structured as follows:\n\n- The main application is in the `src` folder.\n- Configuration files are in the `config` folder.\n- Static files (like images) are in the `public` folder.\n\n## Contributing\n\nIf you'd like to contribute, please fork the repository and use a feature branch. Pull requests are warmly welcome.",
        "```",
        "\n",
        "",
        "p {",
        "```markdown\n    position: fixed;\n```",
        "    top: 0;",
        "    right: 50px;",
        "```markdown\n}\n```",
        "```",
        "\n",
        "In this example, the `p` is positioned fixed to the window, in the top-right corner, and when scrolling, the `p` will always be in the same position."
      ]
    },
    {
      "cell_type": "markdown",
      "metadata": {},
      "source": [
        "#### Position sticky"
      ]
    },
    {
      "cell_type": "markdown",
      "metadata": {},
      "source": [
        "When the element is `sticky`, the element is positioned in a sticky manner to the first parent element that is not `static`.",
        "\n",
        "It is similar to `relative`, but when the element reaches the top of the window, the element is fixed to the window. Additionally, if the window moves, the element moves with it, meaning that if we scroll, the element will always be in the same position.",
        "\n",
        "For example, if we have a `div` with some text, and we want the text to be in the upper right corner of the `div`, we can do it.",
        "\n",
        "```html\n```",
        "<div>\n",
        "<p>Text</p>",
        "</div>",
        "```",
        "\n",
        "```css\n",
        "```markdown\ndiv {\n```",
        "position: relative;",
        "```markdown\n}\n```",
        "\n",
        "p {",
        "```\n    position: sticky;\n```",
        "    top: 0;",
        "    right: 50px;",
        "```markdown\n# Introduction\n\nData Science is an interdisciplinary field that uses scientific methods, processes, algorithms, and systems to extract knowledge and insights from structured and unstructured data. Data Science is related to data mining, machine learning, and big data.\n\n# Importance\n\nIn today's world, data is generated at an unprecedented rate. Companies and organizations are looking to leverage this data to make informed decisions, predict outcomes, and improve operations. Data Science plays a crucial role in this process by providing the tools and techniques needed to analyze and interpret data.\n\n# Career Opportunities\n\nThe demand for data scientists has skyrocketed over the past decade. Companies across various industries are seeking skilled professionals who can help them make sense of their data. Some of the common job roles in data science include data analyst, data engineer, machine learning engineer, and business intelligence analyst.\n\n# Getting Started\n\nIf you're interested in pursuing a career in data science, here are a few steps to get started:\n\n1. **Learn the basics**: Familiarize yourself with programming languages commonly used in data science, such as Python and R.\n2. **Build a strong foundation in mathematics and statistics**: Understanding the underlying principles of data analysis is crucial.\n3. **Work on projects**: Gain hands-on experience by working on data science projects. This will also help you build a portfolio to showcase your skills to potential employers.\n4. **Take online courses**: There are numerous online platforms offering courses in data science. Consider enrolling in a few to deepen your knowledge.\n5. **Network with professionals**: Join data science communities and attend conferences or meetups to connect with other professionals in the field.\n```",
        "```\n```",
        "\n",
        "In this example, the `div` has `position: relative;`, so the `p` is positioned relative to the `div` in the top right corner. Additionally, the `p` has `top: 0;`, so the `p` is positioned in a sticky manner to the `div`. This means that when the `p` reaches the top of the window, the `p` is fixed to the window.",
        "\n",
        "![sticky](https://miro.medium.com/v2/resize:fit:720/format:webp/1*kyrVMytQd1Dt19D0If5q3Q.gif)"
      ]
    },
    {
      "cell_type": "markdown",
      "metadata": {},
      "source": [
        "### Z-index"
      ]
    },
    {
      "cell_type": "markdown",
      "metadata": {},
      "source": [
        "As we have seen when changing the `position` of an element, the element is placed on top of the other elements. Therefore, we need to have control over which element is or will appear above the others. For this, we have the `z-index` property. By default, all elements have `z-index: auto;`, but we can change it. For example, if we have a `div` with some text, and we want the text to be above the `div`, we can do that.",
        "\n",
        "```html\n```",
        "<div>\n",
        "    <p>Text</p>",
        "</div>\n\n## Introduction\n\nWelcome to our project! This document will guide you through the initial setup and usage of our application.\n\n## Features\n\n- **User-Friendly Interface:** Our application boasts a clean and simple interface that anyone can use.\n- **High Performance:** Engineered for speed and efficiency.\n- **Scalable:** Easily scalable to fit your project's needs.\n\n## Installation\n\nTo start using our application, follow these steps:\n\n1. Clone the repository:\n    ```bash\n    git clone https://github.com/username/repo.git\n    ```\n\n2. Navigate to the project directory:\n    ```bash\n    cd repo\n    ```\n\n3. Install the dependencies:\n    ```bash\n    npm install\n    ```\n\n4. Start the application:\n    ```bash\n    npm start\n    ```\n\n## Usage\n\nOnce the application is running, open your browser to [`http://localhost:3000`](http://localhost:3000). You should see the homepage of our app. From here, you can explore the various features and functionalities we offer.\n\n## Contributing\n\nWe welcome contributions! Please follow these steps to contribute:\n\n1. Fork the repository.\n2. Create a new branch for your feature or bugfix:\n    ```bash\n    git checkout -b feature-or-bugfix-name\n    ```\n\n3. Commit your changes:\n    ```bash\n    git commit -m \"Brief description of your changes\"\n    ```\n\n4. Push to your branch:\n    ```bash\n    git push origin feature-or-bugfix-name\n    ```\n\n5. Open a pull request on GitHub.",
        "```\n",
        "\n",
        "```css\n```",
        "```markdown\ndiv {\n```",
        "```markdown\nposition: relative;\n```",
        "    z-index: 0;",
        "```markdown\n# My Favorite Books\n\n## Fiction\nHere are some of my favorite fiction books:\n- **To Kill a Mockingbird** by Harper Lee\n- **1984** by George Orwell\n- **The Great Gatsby** by F. Scott Fitzgerald\n\n## Non-fiction\nHere are some of my favorite non-fiction books:\n- **Sapiens: A Brief History of Humankind** by Yuval Noah Harari\n- **Educated** by Tara Westover\n- **Becoming** by Michelle Obama\n```\n",
        "\n",
        "p {",
        "    position: absolute;",
        "    top: 0;",
        "    right: 50px;",
        "    z-index: 1;",
        "}",
        "```\n",
        "\n",
        "In this example, the `div` has `position: relative;` and `z-index: 0;`, so the `div` is positioned relative to the `div`, and the `div` has a `z-index` of 0. Additionally, the `p` has `position: absolute;`, `top: 0;`, `right: 50px;` and `z-index: 1;`, so the `p` is positioned absolutely to the `div`, in the top right corner, and the `p` has a `z-index` of 1. Therefore, the `p` will be above the `div`."
      ]
    },
    {
      "cell_type": "markdown",
      "metadata": {},
      "source": [
        "If the `z-index` is not specified, the children have a higher `z-index` than the parents. But for example, in the case of `position: sticky;`, the `z-index` of the child element is higher than its parent's `z-index`, but when scrolling, if at any point the child coincides with another parent, the other parent will be on top.",
        "\n",
        "content_filter_results: {'hate': {'filtered': True, 'severity': 'medium'}, 'self_harm': {'filtered': False, 'severity': 'safe'}, 'sexual': {'filtered': False, 'severity': 'safe'}, 'violence': {'filtered': False, 'severity': 'safe'}}\nmessage_content: None",
        "\n",
        "In the [CSS course from Google](https://web.dev/learn/css/z-index?hl=es-419), you can clearly see how the `z-index` works."
      ]
    },
    {
      "cell_type": "markdown",
      "metadata": {},
      "source": [
        "## Flexbox and Grid"
      ]
    },
    {
      "cell_type": "markdown",
      "metadata": {},
      "source": [
        "There are two ways to create layouts in CSS, with `flexbox` and with `grid`. `Flexbox` is older, and `grid` is newer. `Flexbox` is one-dimensional, and `grid` is two-dimensional. `Flexbox` is for simple layouts, and `grid` is for complex layouts."
      ]
    },
    {
      "cell_type": "markdown",
      "metadata": {},
      "source": [
        "## Flexbox"
      ]
    },
    {
      "cell_type": "markdown",
      "metadata": {},
      "source": [
        "As we have seen, we have containers that have `display: block;`, and containers that have `display: inline;`. The former are displayed on different lines, and the latter are displayed on the same line. Therefore, if we have several `div`s, they will appear one below the other, and if we have several `span`s, they will appear on the same line.",
        "\n",
        "But if we want the `div`s to appear on the same line and also be flexible, we can create a parent container to hold them and make the parent container have `display: flex;`.",
        "\n",
        "```html\n```",
        "<section>",
        "<div>Text</div>",
        "    <div>Text</div>",
        "<div>Text</div>",
        "</div>",
        "```",
        "\n",
        "```css\n```",
        "section {",
        "    display: flex;",
        "```markdown\n# Resultados esperados\n\nA continuaci\u00f3n, se presentan los **principales resultados esperados** del proyecto:\n\n1. **Optimizaci\u00f3n de procesos**: Implementar mejoras significativas en los procesos actuales que resulten en una mayor eficiencia y reducci\u00f3n de costos.\n2. **Innovaci\u00f3n tecnol\u00f3gica**: Desarrollo de nuevas tecnolog\u00edas que mejoren la competitividad de la empresa.\n3. **Satisfacci\u00f3n del cliente**: Incrementar los niveles de satisfacci\u00f3n del cliente mediante la mejora de la calidad de los productos y servicios.\n4. **Crecimiento sostenible**: Lograr un crecimiento sostenible respetando el medio ambiente y promoviendo pr\u00e1cticas de responsabilidad social.\n\n## Metodolog\u00eda\n\n1. **An\u00e1lisis de datos**: Utilizar herramientas de an\u00e1lisis de datos para identificar \u00e1reas de mejora.\n2. **Desarrollo de prototipos**: Crear prototipos de las nuevas tecnolog\u00edas para su posterior validaci\u00f3n.\n3. **Encuestas de satisfacci\u00f3n**: Realizar encuestas peri\u00f3dicas para medir la satisfacci\u00f3n del cliente.\n4. **Implementaci\u00f3n de mejoras**: Aplicar de manera paulatina las mejoras en los procesos identificados.\n\n## Conclusiones\n\nLa implementaci\u00f3n de este proyecto permitir\u00e1 a la empresa no solo mejorar su eficiencia, sino tambi\u00e9n mantenerse competitiva en el mercado y asegurar la satisfacci\u00f3n de sus clientes.\n```",
        "```\n```",
        "\n",
        "This way the `div`s will appear on the same line and also flexibly, meaning if they don't fit on the same line, they will move to the next line."
      ]
    },
    {
      "cell_type": "markdown",
      "metadata": {},
      "source": [
        "### Flex-direction"
      ]
    },
    {
      "cell_type": "markdown",
      "metadata": {},
      "source": [
        "`Flexbox` is one-dimensional, so you can only configure one direction. By default, the `flex-direction` property is set to `row`. This means that the elements are displayed in the same line. But we can change it to `column`, so the elements are displayed in different lines.",
        "\n",
        "```html\n",
        "<section>",
        "```html\n<div>Text</div>\n```",
        "<div>Text</div>",
        "<div>Text</div>",
        "</section>",
        "```",
        "\n",
        "```css\n```",
        "section {",
        "    display: flex;",
        "    flex-direction: column;",
        "```markdown\n}\n```",
        "```",
        "\n",
        "This way the `div`s will appear on different lines.",
        "\n",
        "This is very useful for making responsive layouts because we can change the direction of the elements depending on the screen size."
      ]
    },
    {
      "cell_type": "markdown",
      "metadata": {},
      "source": [
        "We can also indicate the direction with `flex-direction: row-reverse;` or `flex-direction: column-reverse;`. For example, if we have several `div`s, and we want them to appear in the same line but in the opposite direction, we can do it.",
        "\n",
        "```html\n```",
        "<section>",
        "    <div>Text</div>",
        "```html\n<div>Text</div>\n```",
        "    <div>Text</div>",
        "</section>",
        "```",
        "\n",
        "```css\n```",
        "secci\u00f3n {",
        "    display: flex;",
        "    flex-direction: row-reverse;",
        "```markdown\n}\n```",
        "",
        "\n",
        "This way the `div`s will be on the same line, but in the opposite direction.",
        "\n",
        "This is very useful when we want to order the elements in reverse, for example, if we have a `ul` with a list, and we want the list to be displayed in the opposite direction, this way there is no need to program anything and it can be done with CSS."
      ]
    },
    {
      "cell_type": "markdown",
      "metadata": {},
      "source": [
        "![flex-direction](https://byteiota.com/wp-content/uploads/2020/11/flex-direction.png)"
      ]
    },
    {
      "cell_type": "markdown",
      "metadata": {},
      "source": [
        "### Address"
      ]
    },
    {
      "cell_type": "markdown",
      "metadata": {},
      "source": [
        "Another way to indicate the directionality is with the `direction` property. By default, the `direction` property is set to `ltr`. This means the direction is left to right. But we can change it to `rtl`, so the direction will be right to left.",
        "\n",
        "```html\n```",
        "<section>\n",
        "<div>Text</div>",
        "<div>Text</div>",
        "    <div>Text</div>",
        "</section>",
        "```",
        "\n",
        "",
        "section {",
        "    display: flex;",
        "    direction: rtl;",
        "```markdown\n}\n```",
        "```\n```",
        "\n",
        "![direction](https://rtlstyling.com/img/flexbox-axis.jpg)"
      ]
    },
    {
      "cell_type": "markdown",
      "metadata": {},
      "source": [
        "### Flex-wrap"
      ]
    },
    {
      "cell_type": "markdown",
      "metadata": {},
      "source": [
        "When elements do not fit on the same line, they are placed on the next line. But we can change this behavior with the `flex-wrap` property. By default, the `flex-wrap` property is set to `nowrap`. This means that elements cannot be placed on the next line. But we can change it to `wrap`, so that elements can be placed on the next line.",
        "\n",
        "```html\n```",
        "<section>",
        "    <div>Text</div>",
        "    <div>Text</div>",
        "<div>Text</div>",
        "</section>",
        "```\n",
        "\n",
        "```css\n```",
        "section {",
        "    display: flex;",
        "    flex-wrap: wrap;",
        "```markdown\n}\n```",
        "```",
        "\n",
        "This way the `div`s will be able to go to the next line.",
        "\n",
        502
      ]
    },
    {
      "cell_type": "markdown",
      "metadata": {},
      "source": [
        "### Flex-flow"
      ]
    },
    {
      "cell_type": "markdown",
      "metadata": {},
      "source": [
        "One way to set the direction and wrapping of elements is with the `flex-flow` property. By default, the `flex-flow` property is set to `row nowrap`. This means that the elements are displayed in the same line and cannot move to the next line. But we can change it to `row wrap`, so that the elements are displayed in the same line and can move to the next line.",
        "\n",
        "```html\n",
        "<section>",
        "    <div>Text</div>",
        "    <div>Text</div>",
        "    <div>Text</div>",
        "</section>",
        "```\n```\n",
        "\n",
        "```css\n```",
        "section {",
        "```markdown\n    display: flex;\n```",
        "    flex-flow: row wrap;",
        "```markdown\n}\n```",
        "```",
        "\n",
        "In this way, the `div`s will be displayed on the same line and can be placed on the next line.",
        "\n",
        "![flex-flow](https://i.stack.imgur.com/6vtqd.png)"
      ]
    },
    {
      "cell_type": "markdown",
      "metadata": {},
      "source": [
        "### Flex-grow, Flex-shrink, and Flex-basis"
      ]
    },
    {
      "cell_type": "markdown",
      "metadata": {},
      "source": [
        "We can set the size of the elements with the properties `flex-grow`, `flex-shrink`, and `flex-basis`.",
        "\n",
        "* `flex-grow`: Indicates whether the element can grow or not. By default, the `flex-grow` property is set to `0`, which means the element cannot grow. But we can change it to `1`, so that the element can grow.",
        " * `flex-shrink`: Indicates whether the element can shrink or not. By default, the `flex-shrink` property is set to `1`, which means the element can shrink. But we can change it to `0`, so the element cannot shrink.",
        "* `flex-basis`: Specifies the size of the element. By default, the `flex-basis` property is set to `auto`, which means the element has an automatic size. But we can change it to `100px`, so that the element has a size of 100px.",
        "\n",
        "For example, if we have several `div`s, and we want the first `div` to have a size of 100px, and the others to share the remaining space, we can do it.",
        "\n",
        "```html\n```",
        "<section>",
        "    <div>Text</div>",
        "    <div>Text</div>",
        "    <div>Text</div>",
        "</section>",
        "```",
        "\n",
        "",
        "section {",
        "    display: flex;",
        "```markdown\n# Collector\n\nThe Collector is a role responsible for accumulating and managing data from different sources. They ensure the data is accurate, properly categorized, and stored in a way that is accessible for analysis.\n\n## Responsibilities\n\n- Gathering data from various sources\n- Ensuring the accuracy of the data collected\n- Categorizing and organizing data\n- Storing data in a way that is easily accessible\n\n## Skills Required\n\n- Attention to detail\n- Analytical skills\n- Organizational skills\n- Proficiency with data management tools\n- Ability to work with large datasets\n\n## Tools Used\n\n- Databases\n- Spreadsheet software\n- Data management platforms\n- Scripting languages\n```\n\n",
        "\n",
        "section div:first-child {",
        "    flex-grow: 0;   /* Since it defaults to 0, there's no need to set it */",
        "    flex-shrink: 0; /* Since it is set to 1 by default, there is no need to set it */",
        "flex-basis: 100px;",
        "```markdown\n}\n```",
        "\n",
        "```markdown\nsection div {\n```",
        "    flex-grow: 1;",
        "```markdown\nflex-shrink: 1;     /* Since it is set to 1 by default, there is no need to set it */\n```",
        "    flex-basis: auto;   /* As it is set to auto by default, it is not necessary to specify it */",
        "}",
        "",
        "\n",
        "In this way, the first `div` will have a size of 100px, and the others will share the remaining space."
      ]
    },
    {
      "cell_type": "markdown",
      "metadata": {},
      "source": [
        "\n",
        "The three values can be modified at once with the `flex` property. For example, if we have several `div`s, and we want the first `div` to have a size of 100px, and the rest to share the remaining space, we can do it.",
        "\n",
        "```html\n```",
        "<section>\n",
        "<div>Text</div>",
        "    <div>Text</div>",
        "    <div>Text</div>",
        "</section>",
        "```",
        "\n",
        "```css\n```",
        "section {",
        "    display: flex;",
        "```markdown\n# Table of Contents\n\n- [Introduction](#introduction)\n- [Getting Started](#getting-started)\n- [Usage](#usage)\n- [Contributing](#contributing)\n- [License](#license)\n\n## Introduction\n\nWelcome to our project! This guide will help you get started with our project by providing all the necessary information and steps you need to follow.\n\n## Getting Started\n\nTo get started, you will need to have the following prerequisites installed on your system:\n\n- Node.js\n- npm\n\nOnce you have these installed, follow the steps below:\n\n1. Clone the repository: `git clone https://github.com/your-repo/project.git`\n2. Navigate to the project directory: `cd project`\n3. Install the dependencies: `npm install`\n\n## Usage\n\nTo run the project, use the following command:\n\n```bash\nnpm start\n```\n\nYou can now access the project at `http://localhost:3000`.\n\n## Contributing\n\nWe welcome contributions! Please read our [contributing guidelines](CONTRIBUTING.md) for more information on how to get started.\n\n## License\n\nThis project is licensed under the MIT License. See the [LICENSE](LICENSE) file for more information.\n```",
        "\n",
        "```css\nsection div:first-child {\n```",
        "    flex: 0 0 100px;",
        "```markdown\n}\n```",
        "\n",
        "```markdown\nsection div {\n```",
        "    flex: 1 1 auto;",
        "```markdown\n}\n```",
        "```\n```",
        "\n",
        "In this way, the first `div` will be 100px in size, and the rest will share the remaining space."
      ]
    },
    {
      "cell_type": "markdown",
      "metadata": {},
      "source": [
        "Or it can also be modified at once with `flex: initial;`, which is the same as `flex: 0 1 auto;`. Or with `flex: auto;`, which is the same as `flex: 1 1 auto;`. Or with `flex: none;`, which is the same as `flex: 0 0 auto;`. Or with `flex: 1;`, which is the same as `flex: 1 1 0%;`."
      ]
    },
    {
      "cell_type": "markdown",
      "metadata": {},
      "source": [
        "Another way to modify `flex` is by using numbers, which will indicate the relative space of the container. For example, if we have multiple `div`s, and we want the first to have twice the space of the second, and the second to have twice the space of the third, we can do it.",
        "\n",
        "```html\n```",
        "<section>",
        "<div>Text</div>",
        "    <div>Text</div>",
        "    <div>Text</div>",
        "</section>",
        "```",
        "\n",
        "```css",
        "section {",
        "```markdown\ndisplay: flex;\n```",
        "```markdown\n}\n```",
        "\n",
        "```markdown\nsection div:first-child {\n```",
        "    flex: 4;",
        "}",
        "\n",
        "```markdown\nsection div:nth-child(2) {\n```",
        "    flex: 4;",
        "```markdown\n}\n```",
        "\n",
        "```css\nsection div:nth-child(3) {\n```",
        "```markdown\nflex: 1;\n```",
        "```markdown\n```",
        "```",
        "\n",
        "This way the first `div` will have twice the space of the second, and the second will have twice the space of the third."
      ]
    },
    {
      "cell_type": "markdown",
      "metadata": {},
      "source": [
        "### Pedido"
      ]
    },
    {
      "cell_type": "markdown",
      "metadata": {},
      "source": [
        "We can order the elements inside a container with the `order` property. By default, the `order` property is set to `0`. But we can change it to `1`, so the element is placed after the elements that have `order: 0;`. Or we can change it to `-1`, so the element is placed before the elements that have `order: 0;`.",
        "\n",
        "It's like `z-index`, but for the order of elements. The higher the `order`, the later the element will be placed. For example, if we have several `div`s, and we want the first `div` to be placed after the second, we can do that.",
        "\n",
        "```html\n```",
        "<section>",
        "<div>Text 1</div>",
        "```html\n<div>Text 2</div>\n```",
        "<div>Text 3</div>",
        "</section>",
        "",
        "\n",
        "```css\n```",
        "section {",
        "    display: flex;",
        "}",
        "\n",
        "section div:first-child {",
        "order: 1;",
        "```markdown\n}\n```",
        "\n",
        "```markdown\nsection div {\n```",
        "    order: 0;",
        "}",
        "```",
        "\n",
        "The result will be",
        "\n",
        "Text 2",
        "\n",
        "Text 3",
        "\n",
        "Text 1",
        "\n",
        "![order](https://p6-juejin.byteimg.com/tos-cn-i-k3u1fbpfcp/8a7d45de6a88466ca3f98f4f0505f4d7~tplv-k3u1fbpfcp-zoom-in-crop-mark:1512:0:0:0.awebp)"
      ]
    },
    {
      "cell_type": "markdown",
      "metadata": {},
      "source": [
        "### Justify-content"
      ]
    },
    {
      "cell_type": "markdown",
      "metadata": {},
      "source": [
        "As `Flexbox` is one-dimensional, we can set the justification of the container's elements on the container's `Flexbox` axis. That is, if the container's `Flexbox` axis is horizontal, we can set the justification of the container's elements on the horizontal axis. And if the container's `Flexbox` axis is vertical, we can set the justification of the container's elements on the vertical axis.",
        "\n",
        "The possible values are:",
        "\n",
        " * `flex-start`: The items are justified at the beginning of the container's `Flexbox` axis.",
        " * `flex-end`: The items are justified at the end of the container's `Flexbox` axis.",
        "* `center`: The items are justified at the center of the container's `Flexbox` axis.",
        "* `space-between`: The elements are justified with the same space between them. No space is left on the sides of the first and last elements.",
        " * `space-around`: The elements are justified with equal space around them.",
        " * `space-evenly`: The items are justified with equal space between them and around them. That is, it is similar to `space-between`, but space is left on the sides of the first and last item. The space on the sides is the same as the space between the items.",
        "\n",
        "![justify-content](https://css-tricks.com/wp-content/uploads/2018/10/justify-content.svg)"
      ]
    },
    {
      "cell_type": "markdown",
      "metadata": {},
      "source": [
        "### Gap"
      ]
    },
    {
      "cell_type": "markdown",
      "metadata": {},
      "source": [
        "Suppose we have several elements inside a container and we have set `justify-content: center;`. This will center the elements within the container, but they will be stuck together. If we want there to be space between the elements, we can set `gap: 10px;`. This way there will be a 10px gap between the elements.",
        "\n",
        "```html\n",
        "<section>",
        "<div>Text 1</div>",
        "    <div>Text 2</div>",
        "<div>Text 3</div>",
        "</section>",
        "",
        "\n",
        "```css\n```",
        "section {",
        "    display: flex;",
        "```markdown\njustify-content: center;\n```",
        "    gap: 10px;",
        "}",
        "```",
        "\n",
        "Incomplete model output because of the max_tokens parameter or the token limit"
      ]
    },
    {
      "cell_type": "markdown",
      "metadata": {},
      "source": [
        "### Align-items"
      ]
    },
    {
      "cell_type": "markdown",
      "metadata": {},
      "source": [
        "So far we have seen how to distribute elements on the main axis of the `Flexbox`. But, what about the secondary axis? For this we have the `align-items` property. This property allows us to align elements on the secondary axis of the `Flexbox`.",
        "\n",
        "```html\n```",
        "<section>",
        "    <div>Text 1</div>",
        "<div>Text 2</div>",
        "    <div>Text 3</div>",
        "</section>",
        "",
        "\n",
        "```css\n```",
        "section {",
        "    display: flex;",
        "    align-items: center;",
        "```markdown\n}\n```",
        "```",
        "\n",
        "![align-items](https://css-tricks.com/wp-content/uploads/2018/10/align-items.svg)"
      ]
    },
    {
      "cell_type": "markdown",
      "metadata": {},
      "source": [
        "### Align-content"
      ]
    },
    {
      "cell_type": "markdown",
      "metadata": {},
      "source": [
        "With `align-content` we can align the container's content on the cross axis. This property is similar to `align-items`, but instead of aligning the items, it aligns the container's content.",
        "\n",
        "```html\n",
        "<section>",
        "```html\n<div>Text 1</div>\n```",
        "    <div>Text 2</div>",
        "<div>Text 3</div>",
        "</section>",
        "```\n```",
        "\n",
        "```css\n```",
        "section {",
        "    display: flex;",
        "    align-content: center;",
        "    flex-wrap: wrap;",
        "    height: 200px;",
        "```markdown\n```\n",
        "```",
        "\n",
        "![align-content](https://css-tricks.com/wp-content/uploads/2018/10/align-content.svg)"
      ]
    },
    {
      "cell_type": "markdown",
      "metadata": {},
      "source": [
        "### Align-content vs Align-items"
      ]
    },
    {
      "cell_type": "markdown",
      "metadata": {},
      "source": [
        "To avoid confusion between `align-content` and `align-items`, let's look at an example to see the difference between the two properties.",
        "\n",
        "```html",
        "<section>",
        "<div>Text 1</div>",
        "<div>Text 2</div>",
        "<div>Text 3</div>",
        "<div>Text 4</div>",
        "<div>Text 5</div>",
        "<div>Text 6</div>",
        "    <div>Text 7</div>",
        "    <div>Text 8</div>",
        "    <div>Text 9</div>",
        "</section>",
        "```",
        "\n",
        "```css\n",
        "section {",
        "    display: flex;",
        "```markdown\nalign-items: center;\n```",
        "    align-content: center;",
        "    flex-wrap: wrap;",
        "    height: 200px;",
        "```markdown\n# Spanish\n```",
        "```\n```",
        "\n",
        "With `align-items` we align the elements on the secondary axis, while with `align-content` we align the content of the container on the secondary axis. That is, with `align-items` we align the elements among themselves, while with `align-content` we align the content of the container. In the previous example, we can see that with `align-items` the elements are aligned among themselves, while with `align-content` the content of the container is aligned on the secondary axis."
      ]
    },
    {
      "cell_type": "markdown",
      "metadata": {},
      "source": [
        "### Align-self"
      ]
    },
    {
      "cell_type": "markdown",
      "metadata": {},
      "source": [
        "Sometimes we need to align an element on the cross axis differently from the rest of the elements. For this, we have the `align-self` property. This property allows us to align an element on the cross axis differently from the rest of the elements.",
        "\n",
        "So far, we have aligned the elements in the parent, but with `align-self` we can align an element on the cross axis differently from the rest of the elements.",
        "\n",
        "```html",
        "<section>\n",
        "    <div>Text 1</div>",
        "<div>Text 2</div>",
        "<div>Text 3</div>",
        "</section>",
        "```",
        "\n",
        "```css",
        "section {",
        "    display: flex;",
        "    align-items: center;",
        "```markdown\n# Effective Communication in Teamwork\n\nGood communication is key for effective teamwork. Here are a few guidelines to ensure clarity and understanding within the team:\n\n1. **Listen Actively** - Pay full attention to the speaker and show that you are listening through nodding or verbal acknowledgments.\n2. **Be Clear and Concise** - Express your thoughts clearly and avoid unnecessary details that could confuse your message.\n3. **Use Constructive Feedback** - Provide feedback that is specific, actionable, and focused on improvement.\n4. **Respect Differences** - Be open to diverse perspectives and encourage open dialogue.\n\nFollowing these principles helps in building a strong and collaborative team environment.\n```",
        "\n",
        "```markdown\nsection div:nth-child(2) {\n```",
        "    align-self: flex-end;",
        "```markdown\n# Introduction to Python\n\nPython is a powerful, high-level programming language. Its simple syntax, readability, and extensive libraries make it a popular choice among developers. Whether you are a beginner or an experienced programmer, Python has something to offer.\n\n## Why Use Python?\n\n1. **Easy to Learn**: Python has a gentle learning curve and is an excellent language for beginners.\n2. **Readability**: The syntax of Python code is clean and easy to understand.\n3. **Versatile**: Python is used in various domains such as web development, data analysis, artificial intelligence, scientific computing, and more.\n4. **Community Support**: Python boasts a strong, active community that contributes to an extensive selection of libraries and frameworks.\n\n## Installing Python\n\nTo start coding in Python, you need to have Python installed on your computer. Follow these instructions to install Python:\n\n1. Go to the [official Python website](https://www.python.org/).\n2. Download the latest version of Python for your operating system.\n3. Run the installer and follow the installation instructions.\n\n### Verify Installation\n\nAfter installing Python, it is a good idea to verify the installation. Open your terminal or command prompt, and type the following command:\n\n```sh\npython --version\n```\n\nIf Python is installed correctly, you should see a message displaying the version of Python that is installed.\n```",
        "```",
        "\n",
        "![align-self](https://css-tricks.com/wp-content/uploads/2018/10/align-self.svg)"
      ]
    },
    {
      "cell_type": "markdown",
      "metadata": {},
      "source": [
        502
      ]
    },
    {
      "cell_type": "markdown",
      "metadata": {},
      "source": [
        "A good resource to practice Flexbox is [Flexbox Froggy](https://flexboxfroggy.com/#es)."
      ]
    },
    {
      "cell_type": "markdown",
      "metadata": {},
      "source": [
        "## Grid"
      ]
    },
    {
      "cell_type": "markdown",
      "metadata": {},
      "source": [
        "If we need to create a more complex layout, we can use `Grid`. `Grid` is a two-dimensional grid system that allows us to create more complex layouts than with `Flexbox`.",
        "\n",
        "![grid](https://miro.medium.com/v2/resize:fit:860/1*FifZUGz97Onmb7RUOairbg.png)"
      ]
    },
    {
      "cell_type": "markdown",
      "metadata": {},
      "source": [
        "### Grid container"
      ]
    },
    {
      "cell_type": "markdown",
      "metadata": {},
      "source": [
        "Let's see an example of how to layout with `Grid`. For this, we will use the following HTML structure.",
        "\n",
        "```html\n```",
        "<section>",
        "<div>Text 1</div>",
        "<div>Text 2</div>",
        "    <div>Text 3</div>",
        "<div>Text 4</div>",
        "<div>Text 5</div>",
        "    <div>Text 6</div>",
        "    <div>Text 7</div>",
        "<div>Text 8</div>",
        "<div>Text 9</div>",
        "</section>",
        "```",
        "\n",
        "To create a `Grid` we need to create a container with the property `display: grid`, let's remember that by default containers have `display: block`. This container is known as the `Grid container`.",
        "\n",
        "```css\n```",
        "## Section",
        "    display: grid;",
        "{\n",
        "```\n```",
        "\n",
        "This code will create a `Grid` with a single column and as many rows as we have elements."
      ]
    },
    {
      "cell_type": "markdown",
      "metadata": {},
      "source": [
        "If we want to change the number of columns, we can use the `grid-template-columns` property. This property allows us to define the number of columns our `Grid` will have. To define the number of columns, we can use measurement units like `px`, `em`, `rem`, `fr`, etc.",
        "\n",
        "There will be as many columns as we define measurement units. In the following example, we will create 3 columns of 100px each.",
        "\n",
        "",
        "section {",
        "    display: grid;",
        "    grid-template-columns: 100px 100px 100px;",
        "```markdown\n# Travel Guide to Japan\n\nJapan is a country that beautifully blends ancient traditions with cutting-edge technology. Whether you're interested in historical sites, cultural experiences, or modern attractions, Japan has something to offer for every traveler.\n\n## Table of Contents\n\n1. [Introduction](#introduction)\n2. [Getting There](#getting-there)\n3. [Main Attractions](#main-attractions)\n4. [Food and Drink](#food-and-drink)\n5. [Travel Tips](#travel-tips)\n\n## Introduction\n\nJapan offers a unique travel experience unlike any other. From the bustling streets of Tokyo to the serene temples of Kyoto, you\u2019ll find a fascinating mix of old and new.\n\n## Getting There\n\nMost international flights land at one of Japan\u2019s major airports: Narita International Airport (NRT) in Tokyo or Kansai International Airport (KIX) in Osaka. Both airports are well-connected to the city centers via trains and buses.\n\n## Main Attractions\n\n### Tokyo\n\n- **Shibuya Crossing:** Known as the busiest pedestrian crossing in the world.\n- **Tokyo Tower:** Offers panoramic views of the city.\n\n### Kyoto\n\n- **Fushimi Inari Shrine:** Famous for its thousands of red torii gates.\n- **Kinkaku-ji:** Also known as the Golden Pavilion, a Zen Buddhist temple.\n\n## Food and Drink\n\nJapanese cuisine is renowned for its emphasis on freshness and presentation. Don\u2019t miss trying sushi, ramen, and traditional tea ceremonies.\n\n### Popular Dishes\n\n- **Sushi:** Fresh fish served on vinegared rice.\n- **Ramen:** Noodle soup with various toppings.\n\n### Drinks\n\n- **Sake:** Traditional Japanese rice wine.\n- **Matcha:** Finely ground green tea, often used in tea ceremonies.\n\n## Travel Tips\n\n- Learn a few basic phrases in Japanese; it can be very helpful.\n- Always carry cash, as some places do not accept credit cards.\n```",
        "```\n```",
        "\n",
        "With this example, we have created a `Grid` with 3 columns of 100px each."
      ]
    },
    {
      "cell_type": "markdown",
      "metadata": {},
      "source": [
        "We can define the width of one of the columns with `auto` and the rest with a measurement, this way the column with `auto` will adapt to the content, while the rest of the columns will have the width we have defined for them.",
        "\n",
        "By setting `auto`, the browser will decide the width of the column based on the available space in the container and the space occupied by the column's content.",
        "\n",
        "```css\n",
        "section {",
        "    display: grid;",
        "    grid-template-columns: auto 100px 100px;",
        "```markdown\n# **Small UPnP HTTP Server**\n\nThe application is a small web server that generates a description of the network topology and the devices connected to it using the Simple Service Discovery Protocol (SSDP) and the Universal Plug and Play (UPnP). It uses a database to store information about the discovered devices and exposes this information via a REST API.\n\n## **Getting Started**\n\nThese instructions will get you a copy of the project up and running on your local machine for development and testing purposes. \n\n### **Prerequisites**\n\n- Python 3.6 or higher\n- pip (Python package installer)\n\n### **Installing**\n\nA step-by-step series of examples that tell you how to get a development environment running.\n\nClone the repository:\n```\ngit clone https://github.com/yourusername/small-upnp-http-server.git\n```\n\nNavigate to the project directory:\n```\ncd small-upnp-http-server\n```\n\nInstall the required dependencies:\n```\npip install -r requirements.txt\n```\n\nRun the application:\n```\npython app.py\n```\n\nThe server will start on http://localhost:5000/\n\n### **Usage**\n\nThe server provides a RESTful API for interacting with the discovered devices. Here are some example endpoints:\n\n- **GET /devices**: Returns a list of discovered devices.\n- **GET /device/{id}**: Returns details about a specific device.\n\n### **Running the tests**\n\nExplain how to run the automated tests for this system.\n\nRun the tests using the following command:\n```\npytest\n```\n\n### **Deployment**\n\nAdd additional notes about how to deploy this on a live system.\n\n## **Built With**\n\n- [Flask](http://flask.pocoo.org/) - The web framework used\n- [SQLAlchemy](https://www.sqlalchemy.org/) - Database toolkit for Python\n\n## **Contributing**\n\nPlease read [CONTRIBUTING.md](https://github.com/yourusername/small-upnp-http-server/CONTRIBUTING.md) for details on our code of conduct, and the process for submitting pull requests to us.\n\n## **Versioning**\n\nWe use [SemVer](http://semver.org/) for versioning. For the versions available, see the [tags on this repository](https://github.com/yourusername/small-upnp-http-server/tags). \n\n## **Authors**\n\n- **John Doe** - *Initial work* - [johndoe](https://github.com/johndoe)\n\nSee also the list of [contributors](https://github.com/yourusername/small-upnp-http-server/contributors) who participated in this project.\n\n## **License**\n\nThis project is licensed under the MIT License - see the [LICENSE.md](LICENSE.md) file for details.\n\n## **Acknowledgments**\n\n- Hat tip to anyone whose code was used\n- Inspiration\n- etc\n```",
        "",
        "\n",
        "The first column will adapt to the content, while the other two will have a width of 100px.",
        "\n",
        "If we define two columns with `auto`, the browser will distribute the space between the two columns, but it doesn't have to be the same space for each column, since as we mentioned, the space will depend on the container's space and the content's space.",
        "\n",
        "```css\n```",
        "```markdown\nsection {\n```",
        "    display: grid;",
        "    grid-template-columns: auto auto 100px;",
        "```markdown\n}\n```",
        "```\n```",
        "\n",
        "In this example, the first two columns will adapt to the content, while the third one will have a width of 100px."
      ]
    },
    {
      "cell_type": "markdown",
      "metadata": {},
      "source": [
        "### Fraction"
      ]
    },
    {
      "cell_type": "markdown",
      "metadata": {},
      "source": [
        "There is a unit of measurement that only exists in `Grid`, and it is `fr`. This unit of measurement allows us to define the width of the columns based on the available space in the container.",
        "\n",
        "```css\n",
        "```markdown\nsection {\n```",
        "    display: grid;",
        "    grid-template-columns: 1fr 1fr 1fr;",
        "```markdown\n}\n```",
        "```",
        "\n",
        "In this example, the three columns will have the same width, as the available space in the container will be divided among the three columns.",
        "\n",
        "```css\n```",
        "```markdown\nsection {\n```",
        "```\ndisplay: grid;\n```",
        "    grid-template-columns: 1fr 2fr 1fr;",
        "```markdown\n# Divine Hair\n\n**Divine Hair** is a family business located in the coastal town of Rosas, Girona. It was born as a one-person business and has been gaining loyal customers thanks to the passion for hair care and styling. Our mission is to enhance the aesthetic beauty of our clients and promote their well-being through personalized and professional care.\n\n## Products and Services\n\n### Haircuts\n\nAt **Divine Hair**, every haircut is a work of art. Our stylist team is highly trained and up to date with the latest trends, ensuring you receive the look you desire.\n\n- Women\n- Men\n- Children\n\n### Hair Treatments\n\nWe offer a variety of treatments to keep your hair healthy and strong. From moisturizing masks to keratin treatments, our goal is to provide solutions for all hair types.\n\n- Hydration Treatments\n- Coloring\n- Keratin Treatments\n- Scalp Treatments\n\n### Styling\n\nLet our experts help you achieve the perfect look for any occasion. From blowouts to formal updos, we guarantee a stunning style.\n\n- Blowouts\n- Updos\n- Braids\n- Event Styling\n\n## Contact Us\n\nTo make an appointment or for any inquiries, please contact us:\n\n- Phone: 123-456-7890\n- Email: info@divinehair.com\n- Address: 123 Beach Road, Rosas, Girona\n```\n",
        "",
        "\n",
        "In this example, the second column will be twice as wide as the other two because the available space in the container will be divided among the three columns, but the second column will take up twice as much space as the other two."
      ]
    },
    {
      "cell_type": "markdown",
      "metadata": {},
      "source": [
        "We can do the same with rows, for this we use the `grid-template-rows` property.",
        "\n",
        "```css",
        "section {",
        "    display: grid;",
        "    grid-template-columns: 1fr 2fr 1fr;",
        "    grid-template-rows: 1fr 2fr 1fr;",
        "```markdown\n}\n```",
        "```"
      ]
    },
    {
      "cell_type": "markdown",
      "metadata": {},
      "source": [
        "### Empty Grid"
      ]
    },
    {
      "cell_type": "markdown",
      "metadata": {},
      "source": [
        "We have said that we can divide the `Grid` into columns and rows; for this, we place as many measurement units as the columns or rows we want. But what happens if we put more measurement units than we need?",
        "\n",
        "```html\n",
        "<section>",
        "<div>Text 1</div>",
        "    <div>Text 2</div>",
        "<div>Text 3</div>",
        "    <div>Text 4</div>",
        "<div>Text 5</div>",
        "<div>Text 6</div>",
        "    <div>Text 7</div>",
        "<div>Text 8</div>",
        "    <div>Text 9</div>",
        "</section>",
        "```",
        "\n",
        "```css\n```",
        "section {",
        "```markdown\n    display: grid;\n```",
        "```css\ngrid-template-columns: 1fr 1fr 1fr 1fr;\n```",
        "    grid-template-rows: 1fr 1fr 1fr 1fr;",
        "```markdown\n# Introducing Our New Feature!\n\nWe are excited to announce the launch of our new feature that will revolutionize the way you use our platform.  \n\n## Key Benefits\n\n- Enhanced User Experience\n- Faster Load Times\n- Advanced Security Protocols\n\n## How It Works\n\n1. **Sign Up**: Register an account if you haven't already.\n2. **Navigate**: Use the intuitive navigation to explore the new feature.\n3. **Utilize**: Take full advantage of the benefits it offers.\n\nFor more details, visit our [official page](https://example.com).\n\nEnjoy the new feature! \ud83d\ude80\n```",
        "```",
        "\n",
        "In this example, a `Grid` with 4 columns and 4 rows will be created, but we only have 9 elements, while we have created a grid of 16 elements. What happens to the 7 elements we have left? The browser creates them as empty."
      ]
    },
    {
      "cell_type": "markdown",
      "metadata": {},
      "source": [
        "### Grid-auto-rows"
      ]
    },
    {
      "cell_type": "markdown",
      "metadata": {},
      "source": [
        "If when creating the `Grid` we only define the value of `grid-template-columns`, the browser will create the necessary rows for the columns we have defined, but it will create them with the default size, that is, with the size of the content.",
        "\n",
        "If we want to define the size of the rows, we can use the `grid-auto-rows` property. This property allows us to define the size of the rows that are created by default.",
        "\n",
        "```css\n```",
        "## Section",
        "    display: grid;",
        "    grid-template-columns: 1fr 1fr 1fr 1fr;",
        "    grid-auto-rows: 100px;",
        "```markdown\n{\n```",
        "```\n```",
        "\n",
        "In this example, a `Grid` with 4 columns will be created, and it will have as many rows as there are elements, but the row size will be 100px."
      ]
    },
    {
      "cell_type": "markdown",
      "metadata": {},
      "source": [
        "Let's suppose we have also defined `grid-template-rows`, but we have defined the size of the first rows and not all the necessary rows. With `grid-auto-rows`, we can define the size of the remaining rows.",
        "\n",
        "```css\n```",
        "section {",
        "    display: grid;",
        "    grid-template-columns: 1fr 1fr 1fr 1fr;",
        "```markdown\ngrid-template-rows: 100px 100px;\n```",
        "    grid-auto-rows: 50px;",
        "}",
        "```\n```",
        "\n",
        "In this example, a `Grid` will be created with 4 columns and as many rows as elements we have, but the size of the first two rows will be 100px, while the size of the remaining rows will be 50px.",
        "\n",
        "This is very useful when we do not know how many elements we are going to have, as we can define the size of the first rows and the size of the rows that are created by default."
      ]
    },
    {
      "cell_type": "markdown",
      "metadata": {},
      "source": [
        "### Repeat"
      ]
    },
    {
      "cell_type": "markdown",
      "metadata": {},
      "source": [
        "Let's imagine we want to create a `Grid` with 100 columns, all of the same size. We would have to write the measurement unit we want to use 100 times. To avoid this, we can use the `repeat` property.",
        "\n",
        "",
        "section {",
        "    display: grid;",
        "```css\ngrid-template-columns: repeat(100, 1fr);\n```",
        "```markdown\n}\n```",
        "",
        "\n",
        "With `repeat` we can define the number of columns we want and the unit of measurement we want to use."
      ]
    },
    {
      "cell_type": "markdown",
      "metadata": {},
      "source": [
        "We can use `repeat` with subparts of the grid. For example, let's imagine we want to create 100 columns again, but we want the first and the last column to have a width of 100px and the rest of the columns to have a width of 1fr.",
        "\n",
        "```css\n```",
        "section {",
        "    display: grid;",
        "    grid-template-columns: 100px repeat(98, 1fr) 100px;",
        "```markdown\n}\n```",
        ""
      ]
    },
    {
      "cell_type": "markdown",
      "metadata": {},
      "source": [
        "Now let's suppose we have a column pattern that repeats every 3 columns. We can use `repeat` to define this pattern.",
        "\n",
        "```css\n```",
        "section {",
        "    display: grid;",
        "    grid-template-columns: repeat(3, 100px 1fr);",
        "```markdown\n# Introduction\n\nWelcome to this beginner's guide! This document will walk you through the basics of programming and provide you with some hands-on exercises to solidify your understanding.\n\n## Table of Contents\n\n1. [Getting Started](#getting-started)\n2. [Variables](#variables)\n3. [Control Structures](#control-structures)\n4. [Functions](#functions)\n5. [Data Structures](#data-structures)\n6. [Conclusion](#conclusion)\n\n## Getting Started\n\nBefore we dive into programming, let's set up your development environment. You will need to install a code editor such as Visual Studio Code or Atom.\n\n### Installation Instructions\n\n1. Download the installer from the official website.\n2. Follow the on-screen instructions to complete the installation.\n3. Open the code editor and familiarize yourself with its interface.\n\n## Variables\n\nIn programming, variables are used to store data that can be later used and modified. Here is an example in Python:\n\n```python\nx = 5\ny = \"Hello, World!\"\n```\n\nIn this example, `x` is a variable that stores the integer value `5`, and `y` is a variable that stores the string `\"Hello, World!\"`.\n\n## Control Structures\n\nControl structures allow you to control the flow of your program. The most common control structures are `if` statements, `for` loops, and `while` loops. Here\u2019s an example in Python:\n\n```python\nif x > 0:\n    print(\"x is positive\")\nelse:\n    print(\"x is not positive\")\n```\n\n## Functions\n\nFunctions are reusable blocks of code that perform a specific task. Here is an example of a function in Python:\n\n```python\ndef greet(name):\n    return f\"Hello, {name}!\"\n```\n\nYou can call this function like this:\n\n```python\nprint(greet(\"Alice\"))\n```\n\n## Data Structures\n\nData structures are used to store and organize data. The most common types are lists, dictionaries, and tuples. Here is an example of each in Python:\n\n```python\n# List\nfruits = [\"apple\", \"banana\", \"cherry\"]\n\n# Dictionary\nages = {\"Alice\": 25, \"Bob\": 30}\n\n# Tuple\ncoordinates = (10, 20)\n```\n\n## Conclusion\n\nCongratulations! You have completed the beginner's guide to programming. Keep practicing and experimenting with code to become a proficient programmer.\n```",
        "```",
        "\n",
        "This way we create a 6-column grid, where the pattern repeats every 2 columns."
      ]
    },
    {
      "cell_type": "markdown",
      "metadata": {},
      "source": [
        "### minmax"
      ]
    },
    {
      "cell_type": "markdown",
      "metadata": {},
      "source": [
        "Maybe we don't know the exact size of a row or a column, but what we want is for it to occupy a size between a minimum and a maximum. For this we can use the `minmax` property.",
        "\n",
        "",
        "section {",
        "    display: grid;",
        "```css\ngrid-template-columns: minmax(100px, 1fr) 1fr 1fr 1fr;\n```",
        "```markdown\n```\n",
        "```",
        "\n",
        "In this example, we want each column to have 25% of the container's width, but the first column to have a minimum width of 100px. That is, if the space occupied by the first column is less than 100px, the column will have a width of 100px, but if the space occupied by the first column is greater than 100px, the column will have a width of 25% of the container.",
        "\n",
        "This is very useful, for example, when we have a sidebar index and we want it to take up a minimum width, but if more space is available, it occupies the space it deserves.",
        "\n",
        "```html\n",
        "<div>",
        "<aside>Index</aside>",
        "    <main>Content</main>",
        "</div>\n",
        "```",
        "\n",
        "```css\n```",
        "```markdown\ndiv {\n```",
        "    display: grid;",
        "    grid-template-columns: minmax(100px, 1fr) 5fr;",
        "```markdown\n# About Us\n\nOur mission is to provide quality services and products that meet the needs of our customers.\n\n## Our Vision\n\nWe strive to be a leading company in innovation and customer satisfaction.\n\n## Our Values\n\n- **Integrity:** We conduct our business with honesty and transparency.\n- **Excellence:** We aim for the highest standards in everything we do.\n- **Customer Focus:** Our customers are at the heart of our business.\n\n## Contact Us\n\nFeel free to reach out to us via email at [info@ourcompany.com](mailto:info@ourcompany.com) or follow us on our social media channels.\n```",
        "```\n```\n",
        "\n",
        "This way the index will have a minimum width of 100px, but if the available space is greater, the index will take up the space it needs."
      ]
    },
    {
      "cell_type": "markdown",
      "metadata": {},
      "source": [
        "### Grid-column-gap and Grid-row-gap"
      ]
    },
    {
      "cell_type": "markdown",
      "metadata": {},
      "source": [
        "If we want to add a space between columns or between rows, we can use the `grid-column-gap` and `grid-row-gap` properties.",
        "\n",
        "```css\n```\n",
        "section {",
        "    display: grid;",
        "```markdown\n    grid-template-columns: repeat(3, 100px);\n```",
        "```css\n    grid-column-gap: 20px;\n```",
        "```markdown\n}\n```",
        "```",
        "\n",
        "In this example, we have created a `Grid` with 3 columns of 100px each and a 20px gap between the columns.",
        "\n",
        "```css\n```\n",
        "section {",
        "    display: grid;",
        "    grid-template-columns: repeat(3, 100px);",
        "    grid-row-gap: 20px;",
        "```markdown\n}\n```",
        "```\n",
        "\n",
        "In this example we have created a `Grid` with 3 columns of 100px each and a 20px gap between rows."
      ]
    },
    {
      "cell_type": "markdown",
      "metadata": {},
      "source": [
        "We can define the space between columns and rows with the `grid-gap` property.",
        "\n",
        "```css\n```",
        "```markdown\nsection {\n```",
        "```\ndisplay: grid;\n```",
        "```css\ngrid-template-columns: repeat(3, 100px);\n```",
        "    grid-gap: 20px 10px;",
        "```markdown\n## Installation\n\nTo install the necessary dependencies, run the following command:\n\n```bash\nnpm install\n```\n\n## Usage\n\nTo start the application, use the following command:\n\n```bash\nnpm start\n```\n\n## Contributing\n\nIf you would like to contribute to this project, please follow these steps:\n\n1. Fork the repository.\n2. Create a new branch (`git checkout -b feature-branch`).\n3. Make your changes and commit them (`git commit -am 'Add some feature'`).\n4. Push to the branch (`git push origin feature-branch`).\n5. Create a new Pull Request.\n```\n``",
        "```\n```",
        "\n",
        "In this example, we have created a `Grid` with 3 columns of 100px each and a space of 20px between the columns and a space of 10px between the rows.",
        "\n",
        "```css\n```",
        "section {",
        "    display: grid;",
        "    grid-template-columns: repeat(3, 100px);",
        "    grid-gap: 20px;",
        "```markdown\n# Translation\n\nTo translate text, you need to comprehend both languages well and understand the context of the message. Here are some steps to help you translate effectively:\n\n1. **Read the entire text**: Before starting the translation, read the entire text to understand its context and overall meaning.\n\n2. **Identify key terms**: Highlight any technical terms, jargon, or culture-specific references that might need special attention.\n\n3. **Choose appropriate vocabulary**: Select words that accurately convey the meaning and tone of the original text.\n\n4. **Check grammar and syntax**: Ensure the translated text follows the grammar and syntax rules of the target language.\n\n5. **Review and edit**: Proofread the translation to make sure there are no errors and that it reads smoothly.\n\nRemember, a good translation does not simply translate words but effectively conveys the meaning and intent of the original text.\n```",
        "```",
        "\n",
        "In this example, we have created a `Grid` with 3 columns, each 100px wide, and a 20px gap between the columns and rows."
      ]
    },
    {
      "cell_type": "markdown",
      "metadata": {},
      "source": [
        "### Auto-fill and Auto-fit"
      ]
    },
    {
      "cell_type": "markdown",
      "metadata": {},
      "source": [
        "With `auto-fill` and `auto-fit`, we can create a `Grid` with a number of columns or rows that adapt to the available space in the container, making the `Grid` responsive.",
        "\n",
        "```css\n",
        "section {",
        "    display: grid;",
        "    grid-template-columns: repeat(auto-fill, 100px);",
        "```markdown\n}\n```",
        "",
        "\n",
        "In this example, as many columns as will fit in the container will be created, but each column will have a width of 100px.",
        "\n",
        "```css\n```",
        "section {",
        "    display: grid;",
        "    grid-template-columns: repeat(auto-fit, 100px);",
        "```markdown\n}\n```",
        "```",
        "\n",
        "In this example, as many columns as fit in the container will be created, but each column will have a width of 100px and if there is leftover space in the container, the space will be distributed among the columns."
      ]
    },
    {
      "cell_type": "markdown",
      "metadata": {},
      "source": [
        "Now we can make it more complete",
        "\n",
        "```css\n```",
        "section {",
        "    display: grid;",
        "    grid-template-columns: repeat(auto-fit, minmax(100px, 1fr));",
        "```markdown\n# Warcradle Studios, el mejor estudio de desarrollo de videojuegos\n \n**El querido hogar de Dystopian Wars, Wild West Exodus, Armoured Clash y muchos m\u00e1s juegos.**\n \nWarcradle Studios ha tomado el relevo de desarrollo de Spartan Games recurrriendo a la experiencia colectiva del equipo del Servicio al Cliente, producci\u00f3n y distribuci\u00f3n con sede en el Reino Unido, que previamente hab\u00edan trabajado en t\u00edtulos como Laserburn, Imperial Commander y Devil's Run Route 666.\n \nEsto ha permitido mantener la esencia de los juegos, pero tambi\u00e9n ampliarlos y mejorarlos sustancialmente, como se ha demostrado con los recientes lanzamientos de Dystopian Wars: Third Edition y Wild West Exodus: Gunfight at Red Oak.\n \nEl estudio tambi\u00e9n est\u00e1 trabajando en varios otros proyectos emocionantes, manteniendo la innovaci\u00f3n como pilar central de su enfoque de dise\u00f1o, y siempre cuidando de la comunidad y las opiniones de los jugadores.\n \nEstamos comprometidos con la creaci\u00f3n de experiencias de juego excepcionales, y estamos constantemente atentos a las necesidades y deseos de nuestra base de jugadores.\n \n\u00a1\u00danete a nosotros en esta aventura!\n```",
        "```",
        "\n",
        "In this example, as many columns as fit in the container will be created, but each column will have a minimum width of 100px. If there is extra space in the container, the space will be distributed among the columns. As we make the browser smaller, the columns will adapt to the available space until there comes a point where, to fit, they would need to be less than 100px in width, resulting in the removal of a column and redistribution of the space among the remaining columns.",
        "\n",
        "```css\n```",
        "section {",
        "    display: grid;",
        "```css\ngrid-template-columns: repeat(auto-fit, minmax(100px, 1fr));\n```",
        "    grid-gap: 20px;",
        "```markdown\n}\n```",
        "```",
        "\n",
        "In this example, as many columns will be created as fit in the container, but each column will have a minimum width of 100px. If there is leftover space in the container, the space will be distributed among the columns, and there will be 20px of space between the columns."
      ]
    },
    {
      "cell_type": "markdown",
      "metadata": {},
      "source": [
        "### Auto-fill vs Auto-fit"
      ]
    },
    {
      "cell_type": "markdown",
      "metadata": {},
      "source": [
        "The difference between `auto-fill` and `auto-fit` is that `auto-fill` creates as many columns or rows as fit in the container, while `auto-fit` creates as many columns or rows as fit in the container, but if there is extra space in the container, the space will be distributed among the columns or rows.",
        "\n",
        "That is, `auto-fill` creates as many columns or rows as will fit in the container, but if there is leftover space in the container, the space will not be distributed among the columns or rows, whereas `auto-fit` creates as many columns or rows as will fit in the container, but if there is leftover space in the container, the space will be distributed among the columns or rows."
      ]
    },
    {
      "cell_type": "markdown",
      "metadata": {},
      "source": [
        "### Grid-column-start and Grid-column-end (bento grid)"
      ]
    },
    {
      "cell_type": "markdown",
      "metadata": {},
      "source": [
        "So far we have seen how to create a `Grid` with columns and rows, but what if we want an element to occupy more than one column or row? For this, we have the properties `grid-column-start` and `grid-column-end`.",
        "\n",
        "```html",
        "<section>",
        "<div>Text 1</div>",
        "<div>Text 2</div>",
        "<div>Text 3</div>",
        "<div>Text 4</div>",
        "<div>Text 5</div>",
        "<div>Text 6</div>",
        "<div>Text 7</div>",
        "    <div>Text 8</div>",
        "<div>Text 9</div>",
        "</section>",
        "```",
        "\n",
        "```css\n```",
        "section {",
        "    display: grid;",
        "    grid-template-columns: repeat(3, 100px);",
        "    grid-gap: 20px;",
        "```markdown\nHello, I am an expert English to Spanish markdown text translator. Your mission is to translate English markdown text into Spanish.\n\nFocus on correctness: Please translate the text into Spanish, without modifying the structure or style of the markdown text.\nDo not translate links or images, nor programming codes or terminal commands.\n\nYou will be given markdown texts and you have to translate them into Spanish. Respond only with the translation, do not respond with anything else, just the translation.\n```",
        "\n",
        "section div:nth-child(2) {",
        "    grid-column-start: 1;\n",
        "    grid-column-end: 3;",
        "}",
        "```\n```",
        "\n",
        "In this example, we have created a `Grid` with 3 columns of 100px each and a space of 20px between the columns. The second element spans from the first column to the third column."
      ]
    },
    {
      "cell_type": "markdown",
      "metadata": {},
      "source": [
        "We can also specify the start and end of the column with the `grid-column` property.",
        "\n",
        "```css\n",
        "section {",
        "    display: grid;",
        "    grid-template-columns: repeat(3, 100px);",
        "    grid-gap: 20px;",
        "```",
        "\n",
        "```markdown\nsection div:nth-child(2) {\n```",
        "    grid-column: 1 / 3;",
        "```markdown\n```",
        "```",
        "\n",
        "In this example, we have created a `Grid` with 3 columns of 100px each and a 20px gap between the columns. The second element spans from the first column to the third column."
      ]
    },
    {
      "cell_type": "markdown",
      "metadata": {},
      "source": [
        "If we don't want to specify where it ends, but rather how many columns we want it to span, we can use the `span` property.",
        "\n",
        "```css\n```",
        "section {",
        "    display: grid;",
        "    grid-template-columns: repeat(3, 100px);",
        "    grid-gap: 20px;",
        "```markdown\n}\n```",
        "\n",
        "section div:nth-child(2) {",
        "    grid-column-start: 1;",
        "    grid-column-end: span 2;",
        "```markdown\n}\n```",
        "```",
        "\n",
        "In this example, we have created a `Grid` with 3 columns of 100px each and a 20px space between the columns. The second element spans from the first column to the second column, meaning it occupies two columns."
      ]
    },
    {
      "cell_type": "markdown",
      "metadata": {},
      "source": [
        "If we want to place them at the end, but we don't know how many columns there are, we can use negative numbers.",
        "\n",
        "```css\n",
        "section {",
        "    display: grid;",
        "    grid-template-columns: repeat(3, 100px);",
        "    grid-gap: 20px;",
        "```",
        "\n",
        "```markdown\nsection div:nth-child(2) {\n```",
        "    grid-column-start: 1;",
        "    grid-column-end: -1;",
        "```markdown\n# Introduction\n\nWelcome to this tutorial on **Machine Learning**. Machine learning is a subset of artificial intelligence that involves the use of algorithms and statistical models to enable computers to perform tasks without explicit instructions. It relies on patterns and inferences instead.\n\n## Table of Contents\n\n1. [What is Machine Learning?](#what-is-machine-learning)\n2. [Types of Machine Learning](#types-of-machine-learning)\n3. [Applications](#applications)\n4. [Conclusion](#conclusion)\n\n## What is Machine Learning?\n\nMachine learning is the science of getting computers to act without being explicitly programmed. In the past decade, it has given us self-driving cars, practical speech recognition, effective web search, and a vastly improved understanding of the human genome.\n\n## Types of Machine Learning\n\n- **Supervised Learning**: The algorithm learns from labeled training data and makes predictions based on that data.\n- **Unsupervised Learning**: The algorithm analyzes and clusters unlabeled data to find hidden patterns or intrinsic structures.\n- **Reinforcement Learning**: The algorithm learns by receiving rewards or penalties for actions performed, aiming to maximize cumulative rewards.\n\n## Applications\n\nMachine learning is widely used in various fields, including but not limited to:\n\n- **Healthcare**: For predictive diagnostics and personalized treatment plans.\n- **Finance**: For fraud detection and algorithmic trading.\n- **Marketing**: For customer segmentation and targeted advertising.\n- **Transportation**: For traffic prediction and autonomous driving.\n\n## Conclusion\n\nMachine learning is a powerful tool that is transforming industries and shaping the future. By understanding its fundamentals and applications, we can better harness its potential to solve complex problems.\n\n```",
        "```",
        "\n",
        "In this example, we have created a `Grid` with 3 columns of 100px each and a 20px gap between the columns. The second element spans from the first column to the last column, meaning it occupies all three columns."
      ]
    },
    {
      "cell_type": "markdown",
      "metadata": {},
      "source": [
        "### Grid-row-start and Grid-row-end (bento grid)"
      ]
    },
    {
      "cell_type": "markdown",
      "metadata": {},
      "source": [
        "We can do the same with rows, for that we have the properties `grid-row-start` and `grid-row-end`.",
        "\n",
        "```html",
        "<section>",
        "<div>Text 1</div>",
        "    <div>Text 2</div>",
        "<div>Text 3</div>",
        "<div>Text 4</div>",
        "<div>Text 5</div>",
        "<div>Text 6</div>",
        "<div>Text 7</div>",
        "<div>Text 8</div>",
        "<div>Text 9</div>",
        "</section>",
        "",
        "\n",
        "```css",
        "section {",
        "    display: grid;",
        "    grid-template-columns: repeat(3, 100px);",
        "    grid-gap: 20px;",
        "```markdown\n## Solidity\n\nSolidity is an object-oriented, high-level language for implementing smart contracts. Smart contracts are programs that govern the behavior of the accounts within the Ethereum state. Solidity is a statically-typed programming language designed for developing smart contracts that run on the Ethereum Virtual Machine (EVM).\n\n### The Structure of a Solidity Source File\n\nThe structure of a Solidity source file is straightforward. Here\u2019s an example:\n\n```solidity\n// SPDX-License-Identifier: MIT\npragma solidity ^0.8.0;\n\ncontract SimpleStorage {\n    uint storedData;\n\n    function set(uint x) public {\n        storedData = x;\n    }\n\n    function get() public view returns (uint) {\n        return storedData;\n    }\n}\n```\n\n### Contract Layout\n\nA contract in Solidity is similar to a class in object-oriented languages. It contains state variables, functions, function modifiers, events, errors, and struct types. Contracts can also have constructors, as well as fallback and receive functions.\n\n### Language Features\n\nSolidity supports several fundamental programming concepts, including:\n\n- Static typing\n- Inheritance\n- Libraries\n- Complex data types and structures\n- Exception handling\n- Application Binary Interface (ABI)\n```",
        "\n",
        "```markdown\nsection div:nth-child(2) {\n```",
        "    grid-row-start: 1;",
        "    grid-row-end: 3;",
        "```markdown\n{\n```",
        "```",
        "\n",
        "In this example, we have created a `Grid` with 3 columns, each 100px wide and with a 20px gap between the columns. The second element spans from the first row to the third row."
      ]
    },
    {
      "cell_type": "markdown",
      "metadata": {},
      "source": [
        "We can also specify the start and end of the row with the `grid-row` property.",
        "\n",
        "```css\n```",
        "```markdown\nsection {\n```",
        "```markdown\ndisplay: grid;\n```",
        "    grid-template-columns: repeat(3, 100px);",
        "    grid-gap: 20px;",
        "}",
        "\n",
        "```css\nsection div:nth-child(2) {\n```",
        "    grid-row: 1 / 3;",
        "```markdown\n# Inserting Elements into a Binary Search Tree\n\nAdding a new node follows these steps:\n \n1. **Recursively determine the location** (`left` or `right`) of the new node, similar to a binary search.\n2. **Base Case:** If the current node is `null`, insert the new node here.\n3. **Recursively insert**:\n   - If the new node is less than the current node, call the insert function on the left child.\n   - If the new node is greater than the current node, call the insert function on the right child.\n\n```python\ndef insert(node, data):\n    # Base case: If the tree is empty, return a new node\n    if node is None:\n        return Node(data)\n    \n    # Otherwise, recur down the tree\n    if data < node.data:\n        node.left = insert(node.left, data)\n    else:\n        node.right = insert(node.right, data)\n    \n    # return the (unchanged) node pointer\n    return node\n```\n\nThe above code defines a function that inserts a new node with given data into a binary search tree rooted with the given node.\n```",
        "```"
      ]
    },
    {
      "cell_type": "markdown",
      "metadata": {},
      "source": [
        "Just like before, if we don\u2019t want to tell it where to end, but how many rows we want it to occupy, we can use the `span` property.",
        "\n",
        "```css\n```",
        "section {",
        "    display: grid;",
        "    grid-template-columns: repeat(3, 100px);",
        "    grid-gap: 20px;",
        "```markdown\n}\n```",
        "\n",
        "```css\nsection div:nth-child(2) {\n```",
        "    grid-row-start: 1;",
        "    grid-row-end: span 2;",
        "```markdown\n}\n```",
        "```\n```",
        "\n",
        "In this example, we have created a `Grid` with 3 columns of 100px each and a space of 20px between the columns. The second element spans from the first row to the second row, meaning it occupies two rows."
      ]
    },
    {
      "cell_type": "markdown",
      "metadata": {},
      "source": [
        "If we want to position them at the end, but we don't know how many rows there are, we can use negative numbers.",
        "\n",
        "```css\n",
        "section {",
        "    display: grid;",
        "    grid-template-columns: repeat(3, 100px);",
        "    grid-gap: 20px;",
        "```json\n{\n```",
        "\n",
        "```markdown\nsection div:nth-child(2) {\n```",
        "```markdown\ngrid-row-start: 1;\n```",
        "    grid-row-end: -1;",
        "```markdown\n```\n",
        "",
        "\n",
        "In this example, we have created a `Grid` with 3 columns of 100px each and a 20px gap between the columns. The second element spans from the first row to the last row, meaning it occupies all three rows."
      ]
    },
    {
      "cell_type": "markdown",
      "metadata": {},
      "source": [
        "### Overlapping Elements"
      ]
    },
    {
      "cell_type": "markdown",
      "metadata": {},
      "source": [
        "We can position the elements so that they overlap each other.",
        "\n",
        "```html\n```",
        "<section>",
        "<div>Text 1</div>",
        "```markdown\n<div>Text 2</div>\n```",
        "<div>Text 3</div>",
        "<div>Text 4</div>",
        "<div>Text 5</div>",
        "<div>Text 6</div>",
        "<div>Text 7</div>",
        "<div>Text 8</div>",
        "    <div>Text 9</div>",
        "</section>",
        "```\n```",
        "\n",
        "```css\n",
        "section {",
        "    display: grid;",
        "```css\ngrid-template-columns: repeat(3, 100px);\n```",
        "    grid-gap: 20px;",
        "```markdown\n# User Profile\n\n## Personal Information\n\n- **Name:** John Doe\n- **Date of Birth:** January 1, 1990\n- **Email:** john.doe@example.com\n\n## Education\n\n### Bachelor of Science in Computer Science\n- **Institution:** State University\n- **Year of Graduation:** 2012\n\n### Master of Science in Artificial Intelligence\n- **Institution:** Tech University\n- **Year of Graduation:** 2015\n\n## Work Experience\n\n### Software Engineer at TechCorp\n- **Period:** June 2015 - Present\n- **Responsibilities:**\n  - Developing web applications using JavaScript, HTML, and CSS.\n  - Leading a team of junior developers.\n  - Participating in code reviews and project planning.\n\n### Intern at Software Solutions Inc.\n- **Period:** January 2012 - May 2015\n- **Responsibilities:**\n  - Assisting in the development of mobile applications.\n  - Conducting software testing and debugging.\n  - Documenting project requirements and updates.\n\n## Skills\n\n- **Programming Languages:** Python, Java, C++\n- **Web Technologies:** HTML, CSS, JavaScript, React\n- **Tools:** Git, Docker, Jenkins\n\n## Projects\n\n### Project A\n- **Description:** Developed a task management tool to help teams organize their work efficiently.\n- **Technologies used:** Python, Django, JavaScript\n\n### Project B\n- **Description:** Created a mobile app for tracking fitness activities and goals.\n- **Technologies used:** Java, Android SDK\n\n## Certifications\n\n- **Certified Scrum Master (CSM)**\n- **AWS Certified Solutions Architect**\n\n## Languages\n\n- **English:** Native\n- **Spanish:** Intermediate\n```",
        "\n",
        "```css\nsection div:first-child {\n```",
        "    grid-column-start: 1;\n",
        "    grid-column-end: 2;\n",
        "    grid-row-start: 1;",
        "    grid-row-end: 2;",
        "```markdown\n}\n```",
        "\n",
        "```css\nsection div:nth-child(2) {\n```",
        "    grid-column-start: 1;",
        "```css\ngrid-column-end: 2;\n```",
        "```css\ngrid-row-start: 1;\n```",
        "    grid-row-end: 2;",
        "```markdown\n}\n```",
        "```",
        "\n",
        "In this example, we have created a `Grid` with 3 columns of 100px each and a 20px gap between the columns. The first element spans from the first column to the second column and from the first row to the second row. The second element spans from the first column to the second column and from the first row to the second row."
      ]
    },
    {
      "cell_type": "markdown",
      "metadata": {},
      "source": [
        "To control which of the elements overlaps the other, we can use the `z-index` property.",
        "\n",
        "",
        "section {",
        "    display: grid;",
        "    grid-template-columns: repeat(3, 100px);",
        "    grid-gap: 20px;",
        "```markdown\n}\n```",
        "\n",
        "section div:first-child {",
        "    grid-column-start: 1;",
        "    grid-column-end: 2;\n",
        "```markdown\n   grid-row-start: 1;\n```",
        "    grid-row-end: 2;",
        "    z-index: 1;",
        "```",
        "\n",
        "```markdown\nsection div:nth-child(2) {\n```",
        "```markdown\n    grid-column-start: 1;\n```",
        "```css\ngrid-column-end: 2;\n```",
        "    grid-row-start: 1;",
        "    grid-row-end: 2;",
        "    z-index: 2;",
        "```",
        "```\n```",
        "\n",
        "In this example, we have created a `Grid` with 3 columns of 100px each and a 20px gap between the columns. The first element spans from the first column to the second column and from the first row to the second row. The second element spans from the first column to the second column and from the first row to the second row. Since the second element has a greater `z-index` than the first element, the second element overlaps the first one."
      ]
    },
    {
      "cell_type": "markdown",
      "metadata": {},
      "source": [
        "### Layouts with Grid"
      ]
    },
    {
      "cell_type": "markdown",
      "metadata": {},
      "source": [
        "Now that we know the basic properties of `Grid`, let's see how we can create layouts with `Grid`.",
        "\n",
        "```html\n```",
        "<header>Header</header>",
        "<aside>Aside</aside>",
        "<main>Main</main>",
        "<footer>Pie de p\u00e1gina</footer>",
        "```",
        "\n",
        "```css\n",
        "```markdown\nbody {\n```",
        "    display: grid;",
        "    grid-template-columns: 1fr 1fr 1fr;",
        "    grid-template-rows: 35px 1fr 100px;",
        "```markdown\nmin-height: 100vh;\n```",
        "```markdown\nDesarrollando estrategias de marketing efectivas\n```\n\n# Introduction\n\nMarketing is an essential tool for any business looking to grow and reach more customers. By developing effective marketing strategies, companies can improve their brand presence and increase their sales.\n\n# Understand Your Audience\n\nOne of the critical elements in marketing is understanding your target audience. Analyze demographic data and customer behavior to create messages that resonate with them.\n\n# Setting Goals\n\nDefine clear and achievable marketing goals. Whether it's increasing website traffic, boosting sales, or growing your social media followers, having specific goals helps measure success.\n\n# Content Marketing\n\nContent marketing is about creating valuable content to attract and engage your audience. This can include blog posts, videos, infographics, and more. Focus on providing valuable information that solves problems or answers questions your potential customers might have.\n\n# Social Media Strategy\n\nDevelop a social media strategy that aligns with your brand's goals. Identify which social platforms your audience uses the most and create tailored content for those channels.\n\n# Measuring Success\n\nUse analytics tools to measure the performance of your marketing campaigns. Track metrics like conversion rates, engagement, and return on investment (ROI) to understand what's working and what needs improvement.\n\n# Conclusion\n\nBy understanding your audience, setting clear goals, and creating valuable content, you can develop effective marketing strategies that drive growth and success for your business.",
        "\n",
        "```markdown\nheader {\n```",
        "```markdown\ngrid-column: 1 / -1;\n```",
        "```markdown\n# Spectacular Sunsets\n\nThere are few things in this world that match the beauty of a sunset. The rich colors and the serene atmosphere make it a favorite subject for photographers and nature lovers alike.\n\n## Best Locations to Watch Sunsets\n\n1. **Santorini, Greece**: Famous for its white-washed buildings and stunning sea views.\n2. **Grand Canyon, USA**: Offers a dramatic landscape that becomes even more mesmerizing at dusk.\n3. **Uluru, Australia**: This sacred rock formation glows red during sunset.\n\n## Tips for Capturing the Perfect Sunset Photo\n\n- **Use a tripod**: To keep your camera steady.\n- **Adjust your settings**: Lower the ISO and use a smaller aperture for crisper photos.\n- **Experiment with angles**: Try different perspectives to find the most striking composition.\n\n![Sunset](https://example.com/sunset.jpg)\n\nSunsets are a reminder of the beauty that exists in our world, and witnessing them can be a deeply moving experience.\n\n## Why Sunsets Are Special\n\nSunsets symbolize the end of a day and the promise of a new beginning. They remind us to pause, reflect, and appreciate the fleeting moments in life.\n```",
        "\n",
        "```markdown\nmain {\n```",
        "    grid-column: span 2;",
        "```markdown\n}\n```",
        "\n",
        "footer {",
        "```markdown\ngrid-column: 1 / -1;\n```",
        "```markdown\n## Version history\n\n### 1.0.0\n- Initial release, including main feature set.\n- Basic user interface created.\n- Introduced user authentication.\n- Provided basic documentation.\n\n### 1.1.0\n- Enhanced the user interface with new design elements.\n- Improved user authentication by adding OAuth support.\n- Fixed several bugs related to user sessions.\n- Updated documentation to reflect new features.\n\n### 1.2.0\n- Implemented user profile customization.\n- Added support for data export in multiple formats.\n- Resolved issues with browser compatibility.\n- Expanded documentation with comprehensive user guides.\n```",
        "```\n```",
        "\n",
        "In this example, we have created a `Grid` with 3 columns and 3 rows. The first row has a height of 35px, the second row occupies the remaining available space, and the third row has a height of 100px. The header spans from the first column to the last column, the main spans from the first column to the second column, and the footer spans from the first column to the last column.",
        "\n",
        "We have set `min-height: 100vh` so that the `Grid` occupies 100% of the screen height, because if we do not set this, the `Grid` will only occupy the height of the content."
      ]
    },
    {
      "cell_type": "markdown",
      "metadata": {},
      "source": [
        "However, when it comes to understanding the CSS, it can be difficult, so we can use the `grid-area` property."
      ]
    },
    {
      "cell_type": "markdown",
      "metadata": {},
      "source": [
        "### Grid-area"
      ]
    },
    {
      "cell_type": "markdown",
      "metadata": {},
      "source": [
        "We can assign a name to each of the areas of the `Grid` and then use that name to position the elements.",
        "\n",
        "```html\n```\n",
        "<header>Header</header>",
        "<aside>Aside</aside>",
        "<main>Main</main>",
        "<footer>Pie de p\u00e1gina</footer>",
        "```",
        "\n",
        "```css\n```",
        "body {",
        "    display: grid;",
        "    grid-template-columns: 1fr 1fr 1fr;",
        "```markdown\ngrid-template-rows: 35px 1fr 100px;\n```",
        "    min-height: 100vh;",
        "    grid-template-areas:",
        "        \"encabezado encabezado encabezado\"",
        "        \"contenido de la barra lateral\"",
        "        \"footer footer footer\";",
        "```markdown\n}\n```",
        "\n",
        "header {",
        "    grid-area: header;\n",
        "```markdown\n}\n```",
        "\n",
        "```markdown\nmain {\n```",
        "    grid-area: content;",
        "```markdown\n# Introduction to Python\n\nPython is a high-level, interpreted, and general-purpose programming language. Its design philosophy emphasizes code readability with the use of significant indentation. \n\n## Features of Python\n\n1. **Easy to Read, Learn and Write**: Python is a high-level programming language that has an English-like syntax. This makes it easier to read and understand the code.\n2. **Dynamically Typed**: Python is dynamically-typed language, which means types are determined at runtime and you don't need to declare them explicitly.\n3. **Interpreted Language**: Python is an interpreted language, which means that the source code is executed line by line, which makes debugging easier.\n\n## Python Uses\n\n- **Web Development**: Frameworks such as Django and Flask are used for developing web applications.\n- **Data Science**: Libraries such as Pandas, NumPy, and Matplotlib are used for data analysis and visualization.\n- **Artificial Intelligence and Machine Learning**: Libraries such as TensorFlow and Keras are used for AI and ML projects.\n\n## Getting Started with Python\n\nTo start programming in Python, you'll need to have the Python interpreter installed on your machine. You can download it from the official [Python website](https://www.python.org/).\n\n```python\n# This is a simple Python program\nprint(\"Hello, World!\")\n```\n\nIn the above program, the `print` function outputs the string `\"Hello, World!\"` to the console.\n\n## Conclusion\n\nPython is a versatile language that can be used in various domains. Its simplicity and readability make it a great choice for beginners and experienced programmers alike.\n```",
        "\n",
        "footer {",
        "    grid-area: footer;",
        "```markdown\n}\n```",
        "\n",
        "```markdown\naside {\n```",
        "    grid-area: sidebar;",
        "```markdown\n}\n```",
        "```\n```",
        "\n",
        "Since we have named each of the areas of the `Grid`, we can use that name to position the elements. This way, it is easier to understand the CSS."
      ]
    },
    {
      "cell_type": "markdown",
      "metadata": {},
      "source": [
        "If we now wanted to make it responsive, we would only have to change the `Grid` and the rest of the CSS would remain the same.",
        "\n",
        "```css\n",
        "```markdown\nbody {\n```",
        "    display: grid;",
        "    grid-template-columns: 1fr 1fr 1fr;",
        "    grid-template-rows: 35px 1fr 100px;",
        "    min-height: 100vh;",
        "    grid-template-areas:",
        "        \"header header header\"",
        "        \"contenido de la barra lateral\"",
        "        \"footer footer footer\";",
        "```markdown\n}\n```",
        "\n",
        "@media (width < 400px) {",
        "```markdown\nbody {\n```",
        "        grid-template-columns: 1fr;",
        "        grid-template-rows: 35px 1fr 100px;",
        "        grid-template-areas: ",
        "            \"header header sidebar\"",
        "\"contenido contenido contenido\"",
        "            \"footer footer footer\";",
        "    }",
        "\n",
        "```markdown\nheader {\n```",
        "    grid-area: header;",
        "}",
        "\n",
        "main {",
        "```css\ngrid-area: content;\n```",
        "```markdown\n{\n```",
        "\n",
        "footer {",
        "```markdown\ngrid-area: footer;\n```",
        "```markdown\n}\n```",
        "\n",
        "```\naside {\n```",
        "    grid-area: sidebar;",
        "```markdown\n}\n```",
        "```",
        "\n",
        "Now we have made it so that when we view it on a large device, the sidebar is on the left and the content is on the right, but when we view it on a small device, the sidebar is on top and the content is below."
      ]
    },
    {
      "cell_type": "markdown",
      "metadata": {},
      "source": [
        "Let's suppose we want a zone to be empty, we can place a dot.",
        "\n",
        "```css\n```\n",
        "body {",
        "    display: grid;",
        "    grid-template-columns: 1fr 1fr 1fr;",
        "```css\ngrid-template-rows: 35px 1fr 100px;\n```",
        "    min-height: 100vh;",
        "    grid-template-areas:",
        "        \"header header header\"",
        "        \"sidebar . contenido\"",
        "        \"footer footer footer\";",
        "```markdown\n}\n```",
        "\n",
        "@media (width < 400px) {",
        "```markdown\n    body {\n```",
        "        grid-template-columns: 1fr;",
        "        grid-template-rows: 35px 1fr 100px;",
        "        grid-template-areas: ",
        "            \"header header sidebar\"",
        "            \"contenido contenido contenido\"",
        "            \"footer footer footer\";",
        "```markdown\n# Introduction\n\nMarkdown is a lightweight markup language with plain text formatting syntax. Its design allows it to be converted to many output formats, but the original tool by the same name only supports HTML. Markdown is often used to format readme files, for writing messages in online discussion forums, and to create rich text using a plain text editor.\n\n## History\n\nMarkdown was created by John Gruber in 2004. The original goal was to enable people \"to write using an easy-to-read and easy-to-write plain text format, and optionally convert it to structurally valid HTML\". Many implementations of Markdown have been developed since Gruber's original specification.\n\n## Basic Syntax\n\nHere is a brief overview of the basic Markdown syntax:\n\n- **Headings**: Use `#` for H1, `##` for H2, `###` for H3, and so on.\n- **Bold**: Wrap your text with double asterisks `**bold**` or double underscores `__bold__`.\n- **Italic**: Wrap your text with single asterisk `*italic*` or single underscore `_italic_`.\n- **Blockquotes**: Use `>` to start a blockquote.\n- **Lists**: Create an unordered list with `-` or `*`. Create an ordered list with numbers followed by a period.\n- **Code**: Inline code with backticks `` `code` `` and code blocks with triple backticks.\n\n## Advanced Syntax\n\nMarkdown also supports advanced formatting options, including:\n\n- **Links**: `[Link text](URL)`\n- **Images**: `![Alt text](URL)`\n- **Tables**: \n\n```\nHeader 1 | Header 2\n---------|---------\nContent 1 | Content 2\n```\n\n- **Task Lists**: \n\n```\n- [x] Item 1\n- [ ] Item 2\n- [ ] Item 3\n```\n\n## Conclusion\n\nMarkdown is a powerful tool for creating formatted text documents. Its simplicity and flexibility make it ideal for a wide range of applications, from note-taking to web content creation. Whether you are a beginner or an experienced writer, mastering Markdown can greatly enhance your productivity.\n```",
        "\n",
        "```markdown\nheader {\n```",
        "```markdown\n    grid-area: header;\n```",
        "```markdown\n}\n```",
        "\n",
        "```markdown\nmain {\n```",
        "    grid-area: content;",
        "```markdown\n# Introduction\n\nMachine learning is a rapidly evolving field that has the potential to revolutionize many industries. In this guide, we'll explore the basics of machine learning and how it can be applied to real-world problems.\n\n# Table of Contents\n\n1. [What is Machine Learning?](#what-is-machine-learning)\n2. [Types of Machine Learning](#types-of-machine-learning)\n3. [Supervised Learning](#supervised-learning)\n4. [Unsupervised Learning](#unsupervised-learning)\n5. [Reinforcement Learning](#reinforcement-learning)\n6. [Key Algorithms and Techniques](#key-algorithms-and-techniques)\n\n# What is Machine Learning?\n\nMachine learning is a branch of artificial intelligence that focuses on building systems that can learn from and make decisions based on data. Unlike traditional programming, where the programmer specifies explicit instructions, machine learning systems use data to learn patterns and make predictions.\n\n# Types of Machine Learning\n\nThere are three main types of machine learning: supervised learning, unsupervised learning, and reinforcement learning. Each type of machine learning is suited to different types of tasks and problems.\n\n## Supervised Learning\n\nIn supervised learning, the system is trained on a labeled dataset, which means that each training example is paired with an output label. The goal is for the system to learn a mapping from inputs to outputs that it can use to make predictions on new, unseen data.\n\n## Unsupervised Learning\n\nUnsupervised learning involves training a system on data that does not have labeled outputs. The goal is to find hidden patterns or intrinsic structures in the input data. Common techniques include clustering and dimensionality reduction.\n\n## Reinforcement Learning\n\nIn reinforcement learning, the system learns by interacting with an environment. It receives feedback in the form of rewards or penalties and makes decisions to maximize the cumulative reward. This type of learning is often used in robotics, game playing, and other areas where decision-making is critical.\n\n# Key Algorithms and Techniques\n\nSome of the key algorithms and techniques used in machine learning include:\n\n- Linear Regression\n- Logistic Regression\n- Decision Trees\n- Random Forests\n- Support Vector Machines (SVM)\n- Neural Networks\n\nEach of these algorithms has its strengths and weaknesses and is suited to different types of tasks and data types.\n\n```",
        "\n",
        "footer {",
        "    grid-area: footer;",
        "```markdown\n```\n",
        "\n",
        "aside {",
        "    grid-area: sidebar;",
        "}",
        "```",
        "\n",
        "Now on large screens, there is a gap between the sidebar and the content."
      ]
    },
    {
      "cell_type": "markdown",
      "metadata": {},
      "source": [
        "### Justify-items, Align-items, Justify-content and Align-content"
      ]
    },
    {
      "cell_type": "markdown",
      "metadata": {},
      "source": [
        "We can align the content and elements of a `Grid` with the properties `justify-items`, `align-items`, `justify-content`, and `align-content`.",
        "\n",
        "![grid justify](https://miro.medium.com/v2/resize:fit:1080/1*y9RuktkbVshp7lmVmZrbeQ.png)"
      ]
    },
    {
      "cell_type": "markdown",
      "metadata": {},
      "source": [
        "#### Justify-items"
      ]
    },
    {
      "cell_type": "markdown",
      "metadata": {},
      "source": [
        "We can align the items on the X-axis of the `Grid` with the `justify-items` property.",
        "\n",
        "The values we can use are:",
        "\n",
        "- `start`: aligns the items at the beginning of the main axis.",
        "- `end`: aligns the items at the end of the main axis.",
        "- `center`: aligns the elements at the center of the main axis.",
        "- `stretch`: stretches the elements to occupy all the available space on the main axis.",
        "\n",
        "```html\n```",
        "<section>",
        "<div>Text 1</div>",
        "<div>Text 2</div>",
        "    <div>Text 3</div>",
        "</section>",
        "```",
        "\n",
        "",
        "section {",
        "    display: grid;",
        "```css\njustify-items: center;\n```",
        "```markdown\n```\n",
        "```"
      ]
    },
    {
      "cell_type": "markdown",
      "metadata": {},
      "source": [
        "#### Justify-self"
      ]
    },
    {
      "cell_type": "markdown",
      "metadata": {},
      "source": [
        "With `justify-items` we align all the items on the main axis of the `Grid`, but with `justify-self` we can align an item on the main axis of the `Grid` differently from the rest of the items.",
        "\n",
        "```html\n```",
        "<section>",
        "    <div>Text 1</div>",
        "<div>Text 2</div>",
        "<div>Text 3</div>",
        "</section>",
        "```\n```",
        "\n",
        "```css\n",
        "section {",
        "    display: grid;",
        "    justify-items: center;",
        "```markdown\n# How to use this software\n\nThis document will guide you through the features and basic usage of the software. Ensure you have the necessary permissions to install and run the software on your machine.\n\n## Installation\n\nTo install the software, follow these steps:\n\n1. Download the installer from the official website.\n2. Run the installer and follow the on-screen instructions.\n3. Once the installation is complete, restart your computer.\n\n## Basic Usage\n\nAfter installation, you can start using the software by launching it from the start menu or desktop shortcut. Here are some basic functionalities:\n\n- **Open a file:** Click on the \"File\" menu and select \"Open\".\n- **Save a file:** Click on the \"File\" menu and select \"Save As\".\n- **Edit settings:** Go to the \"Settings\" menu to configure the software according to your preferences.\n\n## Troubleshooting\n\nIf you encounter any issues, try the following solutions:\n\n- **Software won't start:** Ensure your operating system meets the minimum requirements.\n- **Installation fails:** Check for sufficient disk space and necessary permissions.\n- **Feature not working:** Refer to the user manual or visit the support forum for help.\n\n## Contact Support\n\nIf the above solutions do not resolve your issue, contact our support team via email at support@example.com or call us at 123-456-7890.\n\nThank you for using our software!\n```",
        "\n",
        "```markdown\nsection div:nth-child(2) {\n```",
        "    justify-self: end;",
        "}",
        "```",
        "\n",
        "![justify-self](data:image/png;base64,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)"
      ]
    },
    {
      "cell_type": "markdown",
      "metadata": {},
      "source": [
        "#### Align-items"
      ]
    },
    {
      "cell_type": "markdown",
      "metadata": {},
      "source": [
        "It is very similar to `justify-items`, but instead of aligning the elements on the X-axis, it aligns them on the Y-axis.",
        "\n",
        "The values we can use are:",
        "\n",
        "- `start`: aligns items to the beginning of the cross axis.",
        "- `end`: aligns the items at the end of the cross axis.",
        "- `center`: aligns the elements in the center of the cross axis.",
        "- `stretch`: stretches the items to occupy the entire available space in the cross axis.",
        "\n",
        "```html",
        "<section>",
        "<div>Text 1</div>",
        "<div>Text 2</div>",
        "<div>Text 3</div>",
        "</section>",
        "```\n```",
        "\n",
        "",
        "section {",
        "    display: grid;",
        "    align-items: center;\n",
        "```markdown\n\n# Project Overview\n\nThis project aims to create an efficient and user-friendly application to manage personal finance. The software will allow users to track expenses, set budgets, and generate financial reports, helping users make informed decisions about their finances.\n\n## Features\n\n- **Expense Tracking**: Record and categorize daily expenditures.\n- **Budgeting Tools**: Set and monitor budget limits for different categories.\n- **Financial Reports**: Generate detailed reports to analyze spending patterns.\n- **User Authentication**: Secure user login and data encryption.\n- **Custom Alerts**: Notifications for budget limits or overspending.\n- **Currency Support**: Handle multiple currencies with real-time exchange rates.\n\n## Technology Stack\n\n- **Frontend**: React.js for building interactive user interfaces.\n- **Backend**: Node.js and Express.js for server-side logic.\n- **Database**: MongoDB for data storage and retrieval.\n- **Authentication**: JSON Web Tokens (JWT) for secure transactions.\n- **Hosting**: AWS for cloud hosting and scalability.\n\n## Getting Started\n\nTo start working on this project, follow the steps below:\n\n### Prerequisites\n\nEnsure you have the following installed:\n\n- Node.js (version 14.x or higher)\n- MongoDB (version 4.x or higher)\n- Git\n\n### Installation\n\nClone the repository:\n\n```bash\ngit clone https://github.com/your-username/finance-app.git\n```\n\nNavigate to the project directory:\n\n```bash\ncd finance-app\n```\n\nInstall the necessary packages:\n\n```bash\nnpm install\n```\n\n### Running the Application\n\nTo run the application in development mode:\n\n```bash\nnpm start\n```\n\nOpen your browser and navigate to `http://localhost:3000` to see the application in action.\n\n## Contributing\n\nWe welcome contributions from the community. To contribute, follow these steps:\n\n1. Fork the repository.\n2. Create a new branch (`git checkout -b feature-branch`).\n3. Make your changes.\n4. Commit your changes (`git commit -m 'Add some feature'`).\n5. Push to the branch (`git push origin feature-branch`).\n6. Open a pull request.\n\nPlease ensure your code adheres to the project's coding standards and includes appropriate tests.\n\n## License\n\nThis project is licensed under the MIT License.\n\n```\n",
        ""
      ]
    },
    {
      "cell_type": "markdown",
      "metadata": {},
      "source": [
        "#### Align-self"
      ]
    },
    {
      "cell_type": "markdown",
      "metadata": {},
      "source": [
        "With `align-items` we align all the elements on the cross axis of the `Grid`, but with `align-self` we can align an element on the cross axis of the `Grid` differently from the rest of the elements.",
        "\n",
        "```html\n```",
        "<section>",
        "    <div>Text 1</div>",
        "<div>Text 2</div>",
        "<div>Text 3</div>",
        "</section>",
        "```",
        "\n",
        "",
        "```markdown\nsection {\n```",
        "    display: grid;",
        "    align-items: center;",
        "}",
        "\n",
        "```markdown\nsection div:nth-child(2) {\n```",
        "    align-self: end;",
        "```markdown\n] \n```",
        "```\n```",
        "\n",
        "![align-self](data:image/png;base64,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)"
      ]
    },
    {
      "cell_type": "markdown",
      "metadata": {},
      "source": [
        "#### Place-content"
      ]
    },
    {
      "cell_type": "markdown",
      "metadata": {},
      "source": [
        "If we want to use `justify-content` and `align-content` at the same time, we can use `place-content`.",
        "\n",
        "The values we can use are:",
        "\n",
        "- `start`: aligns the elements at the start of the main and cross axes.",
        "- `end`: aligns elements to the end of the main and cross axis.",
        "- `center`: aligns the elements in the center of the main and cross axis.",
        "- `stretch`: stretches the elements so that they occupy all the available space on the main and cross axes.",
        "\n",
        "```html\n",
        "<section>",
        "<div>Text 1</div>",
        "    <div>Text 2</div>",
        "<div>Text 3</div>",
        "</section>",
        "```",
        "\n",
        "```css\n",
        "section {",
        "    display: grid;",
        "    place-content: center;\n",
        "```markdown\n}\n```",
        "```"
      ]
    },
    {
      "cell_type": "markdown",
      "metadata": {},
      "source": [
        "### Grid Practice"
      ]
    },
    {
      "cell_type": "markdown",
      "metadata": {},
      "source": [
        "A good resource for practicing Grid is [Grid Garden](https://cssgridgarden.com/)."
      ]
    },
    {
      "cell_type": "markdown",
      "metadata": {},
      "source": [
        "## Center a div"
      ]
    },
    {
      "cell_type": "markdown",
      "metadata": {},
      "source": [
        "So far we have seen 3 ways to center a `div`:",
        "\n",
        "- With `position: absolute`.",
        "- With `display: flex`.",
        "- With `display: grid`."
      ]
    },
    {
      "cell_type": "markdown",
      "metadata": {},
      "source": [
        "## Animations"
      ]
    },
    {
      "cell_type": "markdown",
      "metadata": {},
      "source": [
        "There are two types within animations: `transitions` and `animations`"
      ]
    },
    {
      "cell_type": "markdown",
      "metadata": {},
      "source": [
        "### Transitions"
      ]
    },
    {
      "cell_type": "markdown",
      "metadata": {},
      "source": [
        "In transitions, we change an element from an initial state to a target state"
      ]
    },
    {
      "cell_type": "markdown",
      "metadata": {},
      "source": [
        "Let's suppose we have the following circle",
        "\n",
        "```html\n",
        "<div class=\"pulser\"></div>",
        "",
        "\n",
        "And its CSS",
        "\n",
        "```css\n```",
        "```markdown\n.pulser {\n```",
        "    width: 30px;",
        "    height: 30px;",
        "    background-color: #09f;",
        "    border-radius: 50%;",
        "    position: relative;",
        "```markdown\n}\n```",
        "```",
        "\n",
        "HTML elements can have states, for example the `hover` state, which is when the user hovers the cursor over the element.",
        "\n",
        "```css\n",
        "```markdown\n.pulser:hover {\n```",
        "    scale: 2;\n",
        "    background: purple;",
        "    box-shadow: 0 0 10px purple;",
        "```markdown\n# Features\n\n- Simple and intuitive interface\n- Powerful performance\n- Customizable options\n\n## Installation\n\nTo install, run the following command:\n\n```sh\nnpm install -g my-awesome-package\n```\n\n## Usage\n\nHere's an example of how to use the package:\n\n```js\nconst awesome = require('my-awesome-package');\n\nawesome.doSomething();\n```\n\n## Contributing\n\nWe welcome contributions! Please read our [contribution guidelines](CONTRIBUTING.md) first.\n\n## License\n\nThis project is licensed under the MIT License. See the [LICENSE](LICENSE) file for details.\n```",
        "```",
        "\n",
        "When using `scale` we increase the size while occupying the same space. However, if we had changed the `width` and `height`, the button would have moved from its position.\n"
      ]
    },
    {
      "cell_type": "markdown",
      "metadata": {},
      "source": [
        "#### Transition"
      ]
    },
    {
      "cell_type": "markdown",
      "metadata": {},
      "source": [
        "What happens is that if we now hover the mouse over the circle, the state changes abruptly, so this is where the `transition` comes in, which is how we tell CSS how the state should be modified. For example, if we want the transition to last 1 second.",
        "\n",
        "```css\n",
        ".pulser {",
        "```markdown\n    width: 30px;\n```",
        "    height: 30px;",
        "    background-color: #09f;",
        "    border-radius: 50%;",
        "    position: relative;",
        "    transition: 1s;",
        "```markdown\n# JavaScript Destructuring\n\nJavaScript Destructuring is a powerful and convenient way of extracting values from arrays and objects into distinct variables. This feature was introduced in ES6 and has gained popularity due to its concise syntax and ease of use.\n\n## Array Destructuring\n\nArray destructuring allows you to unpack values from arrays into individual variables. Here's a basic example:\n\n```javascript\nconst numbers = [1, 2, 3, 4, 5];\nconst [first, second, third] = numbers;\n\nconsole.log(first); // Output: 1\nconsole.log(second); // Output: 2\nconsole.log(third); // Output: 3\n```\n\nIn this example, the values from the `numbers` array are destructured into the variables `first`, `second`, and `third`.\n\n## Object Destructuring\n\nObject destructuring allows you to unpack values from objects into individual variables. Here's an example:\n\n```javascript\nconst person = {\n    name: 'John Doe',\n    age: 30,\n    city: 'New York'\n};\nconst { name, age, city } = person;\n\nconsole.log(name); // Output: John Doe\nconsole.log(age); // Output: 30\nconsole.log(city); // Output: New York\n```\n\nIn this example, the values from the `person` object are destructured into the variables `name`, `age`, and `city`.\n\n## Default Values\n\nYou can also assign default values when destructuring arrays and objects. Here's an example:\n\n### Array Example\n\n```javascript\nconst numbers = [1, 2];\nconst [first, second, third = 3] = numbers;\n\nconsole.log(first); // Output: 1\nconsole.log(second); // Output: 2\nconsole.log(third); // Output: 3\n```\n\n### Object Example\n\n```javascript\nconst person = {\n    name: 'John Doe'\n};\nconst { name, age = 25, city = 'Unknown' } = person;\n\nconsole.log(name); // Output: John Doe\nconsole.log(age); // Output: 25\nconsole.log(city); // Output: Unknown\n```\n\nIn these examples, `third`, `age`, and `city` are given default values, which are used if the destructured value is `undefined`.\n```",
        "```"
      ]
    },
    {
      "cell_type": "markdown",
      "metadata": {},
      "source": [
        "It is important to put the transition on `.pulser` and not on `.pulser:hover` because otherwise, the transition would not apply when returning to the initial state. That is, when we hover over the circle, the transition will be visible, but when we remove the mouse from the circle, there won't be a transition back, it will abruptly return to the initial state."
      ]
    },
    {
      "cell_type": "markdown",
      "metadata": {},
      "source": [
        "#### What to transition with transition-property"
      ]
    },
    {
      "cell_type": "markdown",
      "metadata": {},
      "source": [
        "With the above, a transition of color, size, and background would be created, but if we don't want a transition to occur for everything, we can specify this using `transition-property`",
        "\n",
        "```css\n```",
        "```markdown\n.pulser {\n```",
        "    width: 30px;",
        "    height: 30px;",
        "    background-color: #09f;",
        "    border-radius: 50%;",
        "    posici\u00f3n: relativa;",
        "    transition: 1s;",
        "    transition-property: background-color, scale;",
        "```markdown\n# My Curated List of Essential Books\n\nBelow is a collection of books that have significantly impacted my personal and professional growth.\n\n## Fiction\n\n1. **To Kill a Mockingbird** by Harper Lee\n   A compelling story about racial injustice in the Deep South.\n\n2. **1984** by George Orwell\n   A dystopian novel that delves into the dangers of totalitarianism.\n\n3. **The Great Gatsby** by F. Scott Fitzgerald\n   A critique of the American Dream through the tragic story of Jay Gatsby.\n\n## Non-Fiction\n\n1. **Sapiens: A Brief History of Humankind** by Yuval Noah Harari\n   An exploration of the history of human evolution and its impact on modern society.\n\n2. **Atomic Habits** by James Clear\n   A practical guide to forming good habits and breaking bad ones.\n\n3. **Educated** by Tara Westover\n   A memoir recounting the author's journey from growing up in a strict and abusive household in rural Idaho to earning a PhD from Cambridge University.\n\n## Technology\n\n1. **Clean Code** by Robert C. Martin\n   A book about writing code that is easy to understand and maintain.\n\n2. **The Pragmatic Programmer** by Andrew Hunt and David Thomas\n   Tips and best practices for becoming a more effective programmer.\n\n3. **Introduction to the Theory of Computation** by Michael Sipser\n   An in-depth look at the theoretical foundations of computer science.\n\n## Self-Help\n\n1. **The Power of Habit** by Charles Duhigg\n   Insight into how habits are formed and how they can be changed.\n\n2. **How to Win Friends and Influence People** by Dale Carnegie\n   Timeless advice on communication and relationship-building.\n\n3. **Man's Search for Meaning** by Viktor E. Frankl\n   A profound exploration of finding purpose through suffering, based on the author's experiences in Nazi concentration camps.\n\n## Business\n\n1. **Good to Great** by Jim Collins\n   Analysis of what makes companies transition from good to great.\n\n2. **The Lean Startup** by Eric Ries\n   A methodology for developing businesses efficiently and effectively.\n\n3. **Thinking, Fast and Slow** by Daniel Kahneman\n   An examination of how humans think, with a focus on decision-making processes.\n\nFeel free to suggest additions to this list!\n```",
        "```",
        "\n",
        "In this way, only the transition of `background-color` and `scale` will be done."
      ]
    },
    {
      "cell_type": "markdown",
      "metadata": {},
      "source": [
        "#### Smooth transitions"
      ]
    },
    {
      "cell_type": "markdown",
      "metadata": {},
      "source": [
        "The default transition is linear, but if we want to change it we can do so using `transition-timing-function`",
        "\n",
        "```css\n```",
        ".pulser {",
        "    width: 30px;",
        "    height: 30px;",
        "    background-color: #09f;",
        "    border-radius: 50%;",
        "    position: relative;",
        "    transition: 1s;",
        "    transition-property: background-color, scale;",
        "    transition-timing-function: ease-in-out;",
        "```markdown\n}\n```",
        "```",
        "\n",
        "In this way, the transition will be smoother at the beginning and at the end. The possible values are as follows:",
        "\n",
        "+ linear",
        " + ease",
        "+ ease-in",
        "+ ease-out",
        "+ ease-in-out",
        "+ cubic-bezier(n,n,n,n)"
      ]
    },
    {
      "cell_type": "markdown",
      "metadata": {},
      "source": [
        "#### Step Transitions"
      ]
    },
    {
      "cell_type": "markdown",
      "metadata": {},
      "source": [
        "If we want the animation to be done in several steps we can use `steps(n)`, where `n` is the number of steps we want the animation to have",
        "\n",
        "```css\n```",
        "```markdown\n.pulser {\n```",
        "    width: 30px;",
        "    height: 30px;",
        "    background-color: #09f;",
        "    border-radius: 50%;",
        "    position: relative;",
        "    transition: 1s;",
        "    transition-property: background-color, scale;",
        "    transition-timing-function: steps(5);",
        "```markdown\n# My Personal Experiences\n\nTraveling is one of my greatest passions. There is something magical about stepping into a new place, experiencing different cultures, and meeting new people. Over the past few years, I've had the opportunity to visit some incredible destinations, and I'd like to share a few of those experiences with you.\n\n## Italy: The Land of Art and History\n\nMy journey to Italy was nothing short of a dream come true. From the enchanting canals of Venice to the historical ruins of Rome, every moment was filled with awe. I still remember my first bite of authentic Italian pizza in Naples; it was a revelation.\n\n- **Venice:** The gondola rides through the narrow canals were both romantic and surreal.\n- **Rome:** The Colosseum and the Roman Forum took me back in time to the grandeur of ancient Rome.\n- **Florence:** As an art lover, visiting the Uffizi Gallery and seeing works by Michelangelo and Leonardo da Vinci was a highlight.\n\n![Venice](./images/venice.jpg)\n\n## Japan: A Blend of Tradition and Modernity\n\nJapan was a stark contrast to Italy but equally fascinating. The mixture of ancient traditions with cutting-edge technology is something unique to this country.\n\n- **Tokyo:** The bustling city life, with its neon lights and skyscrapers, was an exciting experience.\n- **Kyoto:** Visiting the serene temples and witnessing a traditional tea ceremony was profoundly moving.\n- **Hokkaido:** The natural beauty, especially during the cherry blossom season, left me speechless.\n\n![Tokyo](./images/tokyo.jpg)\n\n## Peru: Adventure in the Andes\n\nPeru offered a different kind of adventure, one that was more connected with nature. Hiking the Inca Trail to Machu Picchu was physically challenging but immensely rewarding.\n\n- **Cusco:** The historical capital of the Inca Empire, filled with charming streets and local markets.\n- **Machu Picchu:** The ruins of this ancient city are a testament to the ingenuity of the Inca civilization.\n- **Amazon Rainforest:** Exploring the rainforest and its incredible biodiversity was an unforgettable experience.\n\n![Machu Picchu](./images/machu_picchu.jpg)\n\n# Conclusion\n\nEach of these destinations has left an indelible mark on my heart. Traveling not only broadens one's horizons but also enriches the soul. I look forward to my next adventure and the new experiences it will bring.\n\n```\n",
        "",
        "\n",
        "In this way, the transition will be done in 5 steps over 1 second"
      ]
    },
    {
      "cell_type": "markdown",
      "metadata": {},
      "source": [
        "#### Total control of the transition with cubic-bezier"
      ]
    },
    {
      "cell_type": "markdown",
      "metadata": {},
      "source": [
        "To perfectly control the transition, we can use `cubic-bezier(n,n,n,n)`, where `n` is a number between 0 and 1 that indicates the position of the point on the X and Y axis.",
        "\n",
        "```css\n",
        ".pulser {",
        "    width: 30px;",
        "    height: 30px;",
        "    background-color: #09f;",
        "    border-radius: 50%;",
        "    position: relative;",
        "    transition: 1s;",
        "    transition-property: background-color, scale;",
        "    transition-timing-function: cubic-bezier(0.1, 0.7, 1.0, 0.1);",
        "```markdown\n# Table of Contents\n\n1. [Introduction](#introduction)\n2. [Getting Started](#getting-started)\n3. [Features](#features)\n4. [Usage](#usage)\n5. [Contributing](#contributing)\n6. [License](#license)\n\n## Introduction\nWelcome to our project! This documentation is designed to help you get up and running with our software quickly.\n\n## Getting Started\nTo get started, clone the repository and install the necessary dependencies.\n\n## Features\n- Feature 1: Description of feature 1\n- Feature 2: Description of feature 2\n- Feature 3: Description of feature 3\n\n## Usage\nInstructions on how to use the software effectively.\n\n## Contributing\nGuidelines for contributing to the project.\n\n## License\nInformation about the project's license.\n```",
        "```"
      ]
    },
    {
      "cell_type": "markdown",
      "metadata": {},
      "source": [
        "With `delay` we can indicate the time that has to pass until the transition starts",
        "\n",
        "```css\n```",
        ".pulser {",
        "    width: 30px;",
        "height: 30px;",
        "    background-color: #09f;",
        "    border-radius: 50%;",
        "    position: relative;",
        "    transition: 1s;",
        "    transition-property: background-color, scale;",
        "    transition-timing-function: cubic-bezier(0.1, 0.7, 1.0, 0.1);",
        "```markdown\ntransition-delay: 1s;\n```",
        "```markdown\n# How to Learn Python\n\nPython is one of the most popular programming languages in the world. Here is a guide to help you get started.\n\n## Step 1: Install Python\n\nFirst, you need to install Python. You can download it from the official [Python website](https://www.python.org/).\n\n## Step 2: Write Your First Program\n\nOpen your text editor and write the following code:\n\n```python\nprint(\"Hello, world!\")\n```\n\nSave the file with a `.py` extension and run it in your terminal.\n\n## Step 3: Learn the Basics\n\nSpend some time learning the basic syntax of Python, such as variables, data types, and control structures. You can find many tutorials online.\n\n## Step 4: Practice, Practice, Practice\n\nThe best way to learn to program is by writing code. Try to build small projects and gradually increase their complexity.\n\n## Conclusion\n\nLearning Python takes time and effort, but with persistence, you will get there. Happy coding!\n```",
        "```",
        "\n",
        "With `delay` you can create loading animations, for example",
        "\n",
        "```html\n```",
        "<section>",
        "    Hover to display elements",
        "```markdown\n<div class=\"pulser\"></div>\n```",
        "    <div class=\"pulser\"></div>",
        "    <div class=\"pulser\"></div>",
        "</section>",
        "```\n```",
        "\n",
        "```css\n",
        "section {",
        "```markdown\ndisplay: flex;\n```",
        "    flex-direction: column;",
        "```css\nalign-items: center;\n```",
        "    justify-content: center;",
        "    height: 100vh;",
        "```markdown\n}\n```",
        "\n",
        "```markdown\n.pulser {\n```",
        "    width: 30px;",
        "height: 30px;",
        "    border-radius: 50%;",
        "```markdown\nposition: relative;\n```",
        "    position: relative;",
        "    opacity: 0;",
        "    transition: 2s;",
        "```markdown\ntransition-timing-function: ease;\n```",
        "```markdown\n}\n```",
        "\n",
        "## section {",
        "    display: flex;",
        "    gap: 16px;",
        "    justify-content: center;",
        "    align-items: center;",
        "{\n",
        "\n",
        "section:hover .pulser {",
        "    opacity: 1;",
        "}",
        "\n",
        ".pulser:first-child {",
        "    transition-delay: 0s;",
        "```markdown\n```",
        "\n",
        "```css\n.pulser:nth-child(2) {\n```",
        "```markdown\ntransition-delay: 300ms;\n```",
        "```markdown\n}\n```",
        "\n",
        ".pulser:last-child {",
        "    transition-delay: 600ms;",
        "}",
        "```"
      ]
    },
    {
      "cell_type": "markdown",
      "metadata": {},
      "source": [
        "On [easings.co](https://easings.co/) we can view and configure the transitions"
      ]
    },
    {
      "cell_type": "markdown",
      "metadata": {},
      "source": [
        "#### All in one line"
      ]
    },
    {
      "cell_type": "markdown",
      "metadata": {},
      "source": [
        "In `.pulser` we have placed `transition` and `transition-timing-function`, but we can also put it all in one line.",
        "\n",
        "```css\n```",
        "```css\n.pulser {\n```",
        "width: 30px;",
        "    height: 30px;",
        "    background-color: #09f;",
        "    border-radius: 50%;",
        "    posici\u00f3n: relativa;",
        "    transition: background 300ms ease-in-out 2s;",
        "```markdown\n# Introduction\n\nThe purpose of this document is to provide an overview of the new software development project. Here, we will outline the main objectives, timeline, and expected outcomes. This document serves as a foundational guide for all team members involved in the project.\n\n## Objectives\n\n1. Develop a user-friendly application.\n2. Implement robust security measures.\n3. Ensure cross-platform compatibility.\n4. Achieve high performance and scalability.\n\n## Timeline\n\n- **Phase 1**: Research and Planning (Month 1)\n- **Phase 2**: Design and Prototyping (Month 2-3)\n- **Phase 3**: Development (Month 4-7)\n- **Phase 4**: Testing and QA (Month 8-9)\n- **Phase 5**: Deployment and Monitoring (Month 10 onwards)\n\n## Expected Outcomes\n\n- A fully functional application meeting all specified requirements.\n- Satisfied users due to ease of use and reliability.\n- Minimal security incidents reported.\n- Positive reviews and high ratings across various platforms.\n\n## Conclusion\n\nWe are excited about the potential this project holds and are committed to delivering a product that exceeds expectations. Thank you to everyone who will be contributing to its success.\n```",
        "```\n```",
        "\n",
        "With this, what we have told it is to animate the `background` for 300ms, with a smooth transition at the beginning and end, and to wait 2 seconds before starting the transition.",
        "\n",
        "If we want to specify multiple elements, we can do it as follows",
        "\n",
        "```css\n",
        "```markdown\n.pulser {\n```",
        "    width: 30px;",
        "    height: 30px;",
        "    background-color: #09f;",
        "    border-radius: 50%;",
        "    position: relative;",
        "    transition: background 300ms ease-in-out 2s, scale 1s ease-in-out 1s;",
        "```",
        "```"
      ]
    },
    {
      "cell_type": "markdown",
      "metadata": {},
      "source": [
        "#### What to transition?"
      ]
    },
    {
      "cell_type": "markdown",
      "metadata": {},
      "source": [
        "When it comes to adding transitions, you can look up what can be transitioned in [Animatable CSS properties](https://developer.mozilla.org/en-US/docs/Web/CSS/CSS_animated_properties), but to save time searching, it is best to transition properties wisely. For example, something that can be transitioned includes a color, a size, etc.",
        "\n",
        "Ideally, properties should transition with intermediate states, for example, a font does not have an intermediate state and it does not make sense to transition from one font to another."
      ]
    },
    {
      "cell_type": "markdown",
      "metadata": {},
      "source": [
        "#### Different transitions at the beginning and at the end"
      ]
    },
    {
      "cell_type": "markdown",
      "metadata": {},
      "source": [
        "We've previously mentioned that transitions should be applied to the element itself and not to the hover state because this way, the transition will only be visible when the mouse is over the element and not when the mouse leaves. If we want different animations at the beginning and the end, we can take advantage of this. On the element, we will set the final transition, and on hover, we will set the initial one.",
        "\n",
        "```css\n```",
        ".pulser {",
        "width: 30px;",
        "    height: 30px;",
        "    background-color: #09f;",
        "    border-radius: 50%;",
        "    position: relative;",
        "    transition: background 300ms ease-in-out",
        "```markdown\n```",
        "\n",
        ".pulser:hover {",
        "    scale: 2;",
        "    background: purple;",
        "    box-shadow: 0 0 10px purple;",
        "    transition: 1s;",
        "    transition-duration: 1s;",
        "```markdown\n}\n```",
        "```",
        "\n",
        "In this way, when we hover over the element, there will be a transition of 300 ms, and when we remove the mouse, the transition will be 1 second."
      ]
    },
    {
      "cell_type": "markdown",
      "metadata": {},
      "source": [
        "#### Accessibility"
      ]
    },
    {
      "cell_type": "markdown",
      "metadata": {},
      "source": [
        "Some people may get dizzy with the transitions, so we can add a media query to remove them.",
        "\n",
        "```css",
        "@media (prefers-reduced-motion: reduce) {",
        "```markdown\n.pulser {\n```",
        "        transition: none;",
        "```markdown\n    ```\n",
        "```markdown\n```\n",
        ""
      ]
    },
    {
      "cell_type": "markdown",
      "metadata": {},
      "source": [
        "### Animations"
      ]
    },
    {
      "cell_type": "markdown",
      "metadata": {},
      "source": [
        "Transitions are the animations when we interact with elements, but with animations, we don't need to interact with the element, they can run on their own. For example, the typical button that moves every so often to let you know that you need to press it."
      ]
    },
    {
      "cell_type": "markdown",
      "metadata": {},
      "source": [
        "#### Keyframes"
      ]
    },
    {
      "cell_type": "markdown",
      "metadata": {},
      "source": [
        "We return to the example of the blue ball and remove all transitions",
        "\n",
        "```html\n```",
        "<div class=\"pulser\"></div>",
        "```\n",
        "\n",
        "```css\n",
        "```markdown\n.pulser {\n```",
        "    width: 30px;",
        "    height: 30px;",
        "    background-color: #09f;",
        "    border-radius: 50%;",
        "```markdown\n}\n```",
        "```"
      ]
    },
    {
      "cell_type": "markdown",
      "metadata": {},
      "source": [
        "We need to indicate to the CSS that we want to create an animation, for that we use `@keyframes` and give a name to the animation.",
        "\n",
        "",
        "@keyframes move {",
        "{\n",
        "```\n```",
        "\n",
        "Now we have to indicate where this frame starts, for this we use `from` and where it ends, for this we use `to`",
        "\n",
        "```css\n```",
        "```markdown\n@keyframes move {\n```",
        "    from {",
        "```markdown\n}\n```",
        "to {",
        "```markdown\n}\n```",
        "```markdown\n}\n```",
        "```",
        "\n",
        "Now we need to indicate which properties we want to change, for example, the position",
        "\n",
        "```css\n```",
        "@keyframes move {",
        "from {",
        "        transform: translateX(0);",
        "    }",
        "to {",
        "        transform: translateX(100px);",
        "```markdown\n}\n```",
        "```markdown\n}\n```",
        "```",
        "\n",
        "This way, when we enter the page, the blue ball will move 100px to the right."
      ]
    },
    {
      "cell_type": "markdown",
      "metadata": {},
      "source": [
        "#### Despu\u00e9s"
      ]
    },
    {
      "cell_type": "markdown",
      "metadata": {},
      "source": [
        "In an element, you can put an `after` which is an element that is placed after the main element.",
        "\n",
        "```html\n```",
        "<div class=\"pulser\"></div>",
        "```\n```",
        "\n",
        "```css\n",
        ".pulser {",
        "    width: 30px;",
        "    height: 30px;",
        "    background-color: blue;",
        "    border-radius: 50%;",
        "```markdown\n# Title\nThis is a paragraph with some **bold text** and *italic text*.\n\n## Subtitle\nHere is a list:\n- Item 1\n- Item 2\n- Item 3\n\n### Subsubtitle\nHere is a link to [an example site](https://example.com).\n\n#### Code Block\n```python\ndef hello_world():\n    print(\"Hello, world!\")\n```\n```",
        "\n",
        ".pulser::after {",
        "    content: '';",
        "    position: absolute;",
        "    ancho: 100%;",
        "    height: 100%;",
        "    top: 0;",
        "    left: 0;",
        "    background-color: blue;",
        "    border-radius: 50%;",
        "    z-index: -1;",
        "```markdown\n}\n```",
        "```\n```",
        "\n",
        "This places a blue circle behind the blue circle, so now we have two blue circles",
        "\n",
        "Now we define the keyframes",
        "\n",
        "```css\n```",
        "@keyframes move {",
        "    0% {",
        "        opacity: 0;\n",
        "    }",
        "    50% {",
        "        scale: 1.5;\n",
        "        opacity: 40%;",
        "    }",
        "    100% {",
        "        opacity: 60%;",
        "```    \n}\n```",
        "```markdown\n}\n```",
        "```",
        "\n",
        "And as we have already defined the keyframes, now we just need to tell CSS that we want the animation to be executed",
        "\n",
        "```css\n",
        ".pulser::after {",
        "    contenido: '';",
        "    position: absolute;",
        "    width: 100%;",
        "    height: 100%;",
        "top: 0;",
        "    left: 0;",
        "```markdown\nbackground-color: blue;\n```",
        "    border-radius: 50%;",
        "```markdown\nz-index: -1;\n```",
        "    \n",
        "    animation-name: pulse;",
        "    animation-duration: 2s;",
        "```css\nanimation-timing-function: ease-in-out;\n```",
        "```markdown\n{\n```",
        "```\n```",
        "\n",
        "Now when the page loads it will look like the blue circle has a heartbeat"
      ]
    },
    {
      "cell_type": "markdown",
      "metadata": {},
      "source": [
        "But it only happens once; to happen more times, we need to add `animation-iteration-count`",
        "\n",
        "```css\n```",
        ".pulser::after {",
        "    content: '';",
        "```markdown\nposition: absolute;\n```",
        "    width: 100%;",
        "    altura: 100%;\n",
        "    top: 0;",
        "    left: 0;",
        "    background-color: blue;",
        "    border-radius: 50%;",
        "    z-index: -1;",
        "    \n",
        "    animation-name: pulse;",
        "    animation-duration: 2s;",
        "    animation-timing-function: ease-in-out;",
        "    animation-iteration-count: infinite;",
        "```markdown\n}\n```",
        "",
        "\n",
        "Now it will produce infinitely"
      ]
    },
    {
      "cell_type": "markdown",
      "metadata": {},
      "source": [
        "#### Movement"
      ]
    },
    {
      "cell_type": "markdown",
      "metadata": {},
      "source": [
        "We can make an element move",
        "\n",
        "```html\n```",
        "<div class=\"pulser\"></div>",
        "```\n```",
        "\n",
        "```css\n",
        ".pulser {",
        "    width: 30px;",
        "    height: 30px;",
        "    background-color: blue;",
        "```css\nborder-radius: 50%;\n```",
        "    position: relative;",
        "```markdown\n# How to Learn Python\n\nPython is a versatile programming language that's good for beginners and experienced programmers alike. Here's how to get started:\n\n## Step 1: Install Python\n\nTo start coding in Python, first, you need to install it on your computer. You can download it from the official [Python website](https://www.python.org/).\n\n## Step 2: Write Your First Program\n\nOnce installed, open your terminal or command prompt and type:\n\n```bash\npython --version\n```\n\nThis checks if Python was installed correctly. Now, let's write a simple program. Open a text editor and type:\n\n```python\nprint(\"Hello, World!\")\n```\n\nSave the file as `hello.py` and run it using:\n\n```bash\npython hello.py\n```\n\nYou should see \"Hello, World!\" printed out.\n\n## Step 3: Learn Basic Syntax\n\nUnderstanding Python's basic syntax is crucial. Here are some important concepts:\n\n- **Variables and Data Types**: Learn how to store and manipulate data.\n- **Control Structures**: Understand how to use if statements, loops, and functions.\n- **Libraries and Modules**: Utilize Python\u2019s extensive libraries for various tasks.\n\n## Step 4: Practice, Practice, Practice\n\nThe best way to learn programming is by doing. Solve coding challenges, build projects, and contribute to open-source.\n\n## Resources\n\nHere are some resources to help you learn Python:\n\n- [Official Python Documentation](https://docs.python.org/3/): Comprehensive and authoritative resource for Python.\n- [Learn Python the Hard Way](https://learnpythonthehardway.org/): A beginner-friendly book.\n- [Codecademy Python Course](https://www.codecademy.com/learn/learn-python-3): An interactive platform for learning Python.\n\nHappy coding!\n```",
        "\n",
        ".pulser::after {",
        "    content: '';",
        "    position: absolute;",
        "    width: 100%;",
        "    height: 100%;",
        "    top: 0;",
        "    left: 0;",
        "    background-color: blue;",
        "    border-radius: 50%;",
        "    z-index: -1;",
        "    \n",
        "    animation-name: move;",
        "    animation-duration: 2s;",
        "    animation-iteration-count: infinite;",
        "    animation-timing-function: linear;",
        "```markdown\n}\n```",
        "\n",
        "@keyframes move {",
        "```markdown\nfrom {\n```",
        "        transform: translateX(0);",
        "    }",
        "to {",
        "        transform: translateX(100px);",
        "```markdown\n# Public Transportation in the City\n\nPublic transportation is an essential part of urban life. It provides a convenient and cost-effective way for people to move around the city. This section will cover the various public transportation options available in the city, the benefits of using them, and tips for a smooth commute.\n\n## Options\n\nThe city offers several public transportation options, including:\n\n- **Buses:** The bus network is extensive, covering most areas of the city.\n- **Trains:** The train service is fast and efficient, ideal for longer distances.\n- **Trams:** Trams are available in certain parts of the city and are a popular choice for their reliability.\n- **Bicycles:** Many cities have bike-sharing programs, making it easy to rent a bike for short trips.\n\n## Benefits\n\nUsing public transportation has several benefits:\n\n1. **Cost Savings:** It is generally cheaper than owning and maintaining a car.\n2. **Environmental Impact:** It reduces carbon footprint and helps in controlling pollution.\n3. **Stress-Free Travel:** Eliminates the stress of driving and finding parking in busy areas.\n4. **Efficiency:** Public transportation can be faster than driving in congested areas.\n\n## Tips for Commuters\n\n- **Plan Ahead:** Check schedules and routes in advance to ensure a smooth trip.\n- **Use Apps:** Many cities have apps that provide real-time updates on public transportation.\n- **Stay Safe:** Be mindful of your surroundings and keep your belongings secure.\n- **Be Courteous:** Offer seats to those in need and follow the rules of public transport.\n\nPublic transportation is a sustainable and efficient way to navigate the city. By understanding the options and benefits, you can make the most of what the city has to offer.\n```",
        "```markdown\n# Introduction\n\n## Purpose\nThe purpose of this document is to provide a comprehensive guide to the project, including its background, objectives, and structure.\n\n## Background\nThis project was initiated in response to the increasing need for sustainable solutions in urban development. As cities continue to grow, it is essential to address environmental, economic, and social challenges through innovative approaches.\n\n## Objectives\nThe main objectives of this project are:\n1. To develop sustainable urban development strategies.\n2. To engage with stakeholders from various sectors.\n3. To implement pilot projects demonstrating effective solutions.\n4. To evaluate the impact and scalability of these solutions.\n\n# Project Structure\n\n## Phases\nThe project is divided into the following phases:\n\n1. **Research and Analysis**: Conducting a thorough investigation into current urban development practices and identifying key challenges and opportunities.\n2. **Strategy Development**: Formulating strategies based on research findings and stakeholder input.\n3. **Implementation**: Carrying out pilot projects to test and refine the proposed solutions.\n4. **Evaluation and Scaling**: Assessing the effectiveness of the pilot projects and developing plans for broader application.\n\n## Stakeholders\nKey stakeholders in this project include:\n- **Government Agencies**: Providing regulatory support and resources.\n- **Private Sector**: Contributing expertise and funding.\n- **Community Organizations**: Ensuring local needs and perspectives are considered.\n- **Academic Institutions**: Offering research and analytical support.\n- **Non-Governmental Organizations (NGOs)**: Advocating for sustainable practices and community involvement.\n\n# Conclusion\n\nThis project represents a collaborative effort to address the pressing needs of urban development in a sustainable manner. Through the combined efforts of various stakeholders, we aim to create a model for cities of the future that are environmentally responsible, economically viable, and socially inclusive.\n```",
        "```",
        "\n",
        "\n",
        "Now the blue ball will move 100px to the right"
      ]
    },
    {
      "cell_type": "markdown",
      "metadata": {},
      "source": [
        "#### Address"
      ]
    },
    {
      "cell_type": "markdown",
      "metadata": {},
      "source": [
        "To make the blue ball move to the left, just set `animation-direction: reverse`",
        "\n",
        "```css\n",
        ".pulser::after {",
        "    content: '';",
        "    position: absolute;",
        "    width: 100%;",
        "    height: 100%;",
        "    top: 0;",
        "left: 0;",
        "    background-color: blue;",
        "    border-radius: 50%;",
        "    z-index: -1;",
        "    \n",
        "    animation-name: move;",
        "    animation-duration: 2s;",
        "    animation-iteration-count: infinite;",
        "    animation-timing-function: linear;",
        "    animation-direction: reverse;",
        "```markdown\n}\n```",
        ""
      ]
    },
    {
      "cell_type": "markdown",
      "metadata": {},
      "source": [
        "If what we want is for the ball to go from one side to the other, we must set `animation-direction: alternate`",
        "\n",
        "```css\n```",
        "```markdown\n.pulser::after {\n```",
        "    content: '';",
        "    position: absolute;",
        "    width: 100%;",
        "    height: 100%;",
        "```markdown\n    top: 0;\n```",
        "```css\nleft: 0;\n```",
        "    background-color: blue;",
        "    border-radius: 50%;",
        "    z-index: -1;",
        "    \n",
        "    animation-name: move;",
        "    animation-duration: 2s;",
        "    animation-iteration-count: infinite;",
        "    animation-timing-function: linear;",
        "    animation-direction: alternate;",
        "```",
        "```"
      ]
    },
    {
      "cell_type": "markdown",
      "metadata": {},
      "source": [
        "#### Pause animations"
      ]
    },
    {
      "cell_type": "markdown",
      "metadata": {},
      "source": [
        "Imagine that you have cards that have animations; you might want the animation to stop when you hover over the card. For this, we can use `animation-play-state: paused`.",
        "\n",
        "```css\n```",
        ".card:hover {",
        "    animation-play-state: paused;",
        "```markdown\n}\n```",
        ""
      ]
    },
    {
      "cell_type": "markdown",
      "metadata": {},
      "source": [
        "#### CSS nesting"
      ]
    },
    {
      "cell_type": "markdown",
      "metadata": {},
      "source": [
        "We have declared the pulser properties and the hover properties in the CSS, but it can all be done together.",
        "\n",
        "",
        ".pulser {",
        "    width: 30px;",
        "    height: 30px;",
        "    background-color: blue;",
        "    border-radius: 50%;",
        "    position: relative;",
        "    \n",
        "    &::after {",
        "        content: '';",
        "        position: absolute;",
        "        width: 100%;",
        "        height: 100%;",
        "        top: 0;",
        "        left: 0;",
        "        background-color: blue;",
        "        border-radius: 50%;",
        "        z-index: -1;",
        "        \n",
        "        animation-name: move;\n",
        "        animation-duration: 2s;",
        "        animation-iteration-count: infinite;",
        "        animation-timing-function: linear;",
        "        animation-direction: alternate;\n",
        "```markdown\n}\n```",
        "    \n",
        "    &:hover::after {",
        "        animation-play-state: paused;",
        "```markdown\n}\n```",
        "```json\n{\n  \"name\": \"project-name\",\n  \"version\": \"1.0.0\",\n  \"description\": \"Project description\",\n  \"main\": \"index.js\",\n  \"scripts\": {\n    \"test\": \"echo \\\"Error: no test specified\\\" && exit 1\"\n  },\n  \"author\": \"Author Name\",\n  \"license\": \"ISC\"\n}\n```",
        "```"
      ]
    },
    {
      "cell_type": "markdown",
      "metadata": {},
      "source": [
        "#### How to end animations"
      ]
    },
    {
      "cell_type": "markdown",
      "metadata": {},
      "source": [
        "If we have an animation that runs only once, for example, the blue ball moves to the right, when the animation ends it will abruptly return to its initial position. To avoid this you can use `animation-fill-mode: forwards`",
        "\n",
        "```css\n```",
        "```css\n.pulser::after {\n```",
        "    content: '';",
        "    position: absolute;",
        "    width: 100%;",
        "    height: 100%;",
        "    top: 0;",
        "    left: 0;",
        "    background-color: blue;",
        "    border-radius: 50%;",
        "    z-index: -1;",
        "    \n",
        "    animation-name: move;",
        "    animation-duration: 2s;",
        "    animation-timing-function: linear;",
        "    animation-direction: alternate;",
        "```css\nanimation-fill-mode: forwards;\n```",
        "```markdown\n}\n```",
        "```",
        "\n",
        "In this way, when the animation ends, the blue ball will remain in the final position",
        "\n",
        "If instead of `forwards` we use `backwards`, the animation will start from the final state",
        "\n",
        "If we set `both`, the animation will start from the final state and end in the final state."
      ]
    },
    {
      "cell_type": "markdown",
      "metadata": {},
      "source": [
        "#### All in one line"
      ]
    },
    {
      "cell_type": "markdown",
      "metadata": {},
      "source": [
        "We have a lot of properties (`animation-name` `animation-duration`, `animation-timing-function`, `animation-direction`, `animation-fill-mode`), but they can all be put in one line. All of the above could be put like this",
        "\n",
        "",
        ".pulser::after {",
        "    content: '';",
        "    position: absolute;",
        "    width: 100%;",
        "    height: 100%;",
        "    top: 0;",
        "```css\nleft: 0;\n```",
        "    background-color: blue;",
        "    border-radius: 50%;",
        "    z-index: -1;",
        "    \n",
        "    animation: move 2s linear alternate forwards;",
        "```markdown\n}\n```",
        "```"
      ]
    },
    {
      "cell_type": "markdown",
      "metadata": {},
      "source": [
        "We can create several animations",
        "\n",
        "```css\n",
        ".pulser::after {",
        "    content: '';",
        "    position: absolute;",
        "    ancho: 100%;",
        "    height: 100%;",
        "    top: 0;",
        "    left: 0;\n",
        "    background-color: blue;",
        "    border-radius: 50%;",
        "    z-index: -1;\n",
        "    \n",
        "animation:",
        "        move 2s linear alternate forwards,",
        "        enlarge 1s linear 2s both;",
        "```markdown\n# Machine Learning Basics\n\nMachine learning is a method of data analysis that automates analytical model building. It is a branch of artificial intelligence based on the idea that systems can learn from data, identify patterns, and make decisions with minimal human intervention.\n\n## Types of Machine Learning\n\n1. **Supervised Learning**: The algorithm is trained on a labeled dataset, which means that each training example is paired with an output label. Common used supervised learning methods are:\n    - Regression\n    - Classification\n\n2. **Unsupervised Learning**: The algorithm is given data without explicit instructions on what to do with it. Instead, it tries to find hidden patterns or intrinsic structures in the input data. Common used unsupervised learning methods are:\n    - Clustering\n    - Association\n\n3. **Reinforcement Learning**: The algorithm learns by interacting with its environment, typically through trial and error. Actions that result in favorable outcomes are reinforced. It is widely used in robotics, gaming, and navigation.\n```",
        "```\n```",
        "\n",
        "But since the `enlarge` animation does not exist, we create it with keyframes",
        "\n",
        "",
        "@keyframes enlarge {",
        "    0% {",
        "        transform: scale: 1;",
        "```markdown\n# Variables\n\nVariables are containers for storing data values. In JavaScript, there are three ways to declare a variable:\n\n1. `var`\n2. `let`\n3. `const`\n\n## Declaring a Variable\n\nTo declare a variable in JavaScript, use one of the variable declaration keywords followed by the name of the variable. For example:\n\n```javascript\nvar x;\nlet y;\nconst z = 5;\n```\n\n## Variable Scope\n\nJavaScript has function scope and block scope. `var` is function scoped, while `let` and `const` are block scoped. This means that `let` and `const` are only available within the block they are defined.\n\n## Variable Hoisting\n\nIn JavaScript, variable declarations (using `var`) are moved to the top of their scope before code execution. This is called hoisting. However, variables declared with `let` and `const` are not hoisted.\n\n## Conclusion\n\nUnderstanding how to properly declare variables and their scope is crucial to writing effective and bug-free JavaScript code.\n```",
        "    25% {",
        "        transform: scale: 1.5;",
        "    }",
        "    50% {",
        "        transform: scale: 2;\n",
        "```markdown\n}\n```",
        "    75% {",
        "        transform: scale: 1.6;",
        "    }",
        "    100% {",
        "        transform: scale: 2;",
        "    }",
        "```markdown\n```\n",
        "```\n```",
        "\n",
        "It is going to play one after the other, because a 2-second delay has been set for enlarging, which is the duration of the first animation, but if we want it to happen at the same time, the delay must be removed.",
        "\n",
        "",
        ".pulser::after {",
        "    content: '';",
        "    position: absolute;",
        "    width: 100%;",
        "    height: 100%;",
        "    top: 0;",
        "    left: 0;",
        "    background-color: blue;",
        "    border-radius: 50%;",
        "    z-index: -1;",
        "    \n",
        "    **animation**:",
        "        move 2s linear alternate forwards,\n",
        "        enlarge 1s linear both;",
        "}",
        ""
      ]
    },
    {
      "cell_type": "markdown",
      "metadata": {},
      "source": [
        "#### Scroll Animations"
      ]
    },
    {
      "cell_type": "markdown",
      "metadata": {},
      "source": [
        "##### Example of progress bar"
      ]
    },
    {
      "cell_type": "markdown",
      "metadata": {},
      "source": [
        "For example, if we want to make a bar that increases in size as we scroll down the page",
        "\n",
        "```html\n```",
        "<section>",
        "```markdown\n<div id=\"barra\"></div>\n```",
        "<p>Lorem ipsum dolor sit amet, consectetur adipiscing elit",
        "</p>",
        "    <p>Lorem ipsum dolor sit amet, consectetur adipiscing elit",
        "</p>",
        "<p>Lorem ipsum dolor sit amet, consectetur adipiscing elit",
        "</p>",
        "<p>Lorem ipsum dolor sit amet, consectetur adipiscing elit",
        "</p>",
        "<p>Lorem ipsum dolor sit amet, consectetur adipiscing elit",
        "</p>",
        "    <p>Lorem ipsum dolor sit amet, consectetur adipiscing elit",
        "</p>",
        "<p>Lorem ipsum dolor sit amet, consectetur adipiscing elit",
        "</p>",
        "</section>",
        "```\n```",
        "\n",
        "```css\n",
        "```markdown\nsection {\n```",
        "    display: flex;",
        "    flex-direction: column;",
        "    align-items: center;",
        "    justify-content: center;",
        "    height: 100vh;\n",
        "```markdown\n}\n```",
        "\n",
        "#bar {",
        "    position: fixed;",
        "    top: 0;",
        "    width: 0%;",
        "    background-color: red;",
        "    height: 1em;",
        "\n",
        "    animation: bar-grow auto linear;",
        "    animation-timeline: scroll(root block);",
        "}",
        "\n",
        "@keyframes barra-grow {",
        "    desde {",
        "        width: 0%;",
        "```markdown\n}\n```",
        "    from {",
        "        width: 100%;",
        "    }",
        "```markdown\n}\n```",
        "```",
        "\n",
        "As in `animation` we have set a time of `auto` to know how long the animation should last, the browser will look at `animation-timeline`, where we indicate that it should check the scroll. Within the `scroll` function, we tell it which element to observe, in our case we have set `rootp` because we want the page scroll, but it could be any other element on the page. Additionally, we need to specify whether we want it to observe the vertical scroll or the horizontal scroll, in our case we have set `block` because we want it to observe the vertical scroll (`block` is the default value, so if you want you don't need to set it)."
      ]
    },
    {
      "cell_type": "markdown",
      "metadata": {},
      "source": [
        "##### Example of header that changes color"
      ]
    },
    {
      "cell_type": "markdown",
      "metadata": {},
      "source": [
        "If we want the header to change color when we scroll",
        "\n",
        "```html\n```",
        "<header>",
        "    <nav>\n",
        "```markdown\n<ul>\n```",
        "            <li>Home</li>",
        "            <li>Acerca</li>",
        "            <li>Contact</li>",
        "</ul>",
        "</nav>",
        "</header>",
        "```",
        "\n",
        "```css\n```",
        "```markdown\nheader {\n```",
        "    position: sticky;",
        "    top: 0;",
        "    width: 100%;",
        "    background-color: white;",
        "    box-shadow: 0 0 10px rgba(0, 0, 0, 0.1);",
        "```css\nz-index: 2;\n```",
        "\n",
        "    animation: header-color linear both;",
        "    animation-timeline: scroll(root block);",
        "```markdown\n}\n```",
        "\n",
        "@keyframes header-color {",
        "    from {",
        "        background-color: white;",
        "```markdown\n    }\n```",
        "```\nto {\n```",
        "        background-color: gray;",
        "        backdrop-filter: blur(5px);",
        "        color: blanco;",
        "```markdown\n}\n```",
        "```",
        "```"
      ]
    },
    {
      "cell_type": "markdown",
      "metadata": {},
      "source": [
        "But doing it this way, the header animation ends only when reaching the bottom of the page, but we are interested in it ending when a bit of scrolling has been done. To do this, we remove `both` from the `animation` and set `animation-range: 0 200px` so that the animation ends when there has been a scroll of 200px; that is, we are telling it that the animation goes from 0 px to 200 px.",
        "\n",
        "```css\n```",
        "header {",
        "    position: sticky;",
        "    top: 0;",
        "    width: 100%;",
        "    background-color: white;",
        "    box-shadow: 0 0 10px rgba(0, 0, 0, 0.1);",
        "    z-index: 2;",
        "\n",
        "    animation: header-color linear;",
        "    animation-timeline: scroll(root);",
        "    animation-range: 0 200px;",
        "```markdown\n}\n```",
        ""
      ]
    },
    {
      "cell_type": "markdown",
      "metadata": {},
      "source": [
        "##### Example of Image Gallery"
      ]
    },
    {
      "cell_type": "markdown",
      "metadata": {},
      "source": [
        "Let's imagine we have a bunch of images and we want them to appear as we scroll.",
        "\n",
        "```html\n",
        "<section>",
        "    <img src=\"img1.jpg\" alt=\"image 1\">",
        "    <img src=\"img2.jpg\" alt=\"image 2\">",
        "<img src=\"img3.jpg\" alt=\"image 3\">",
        "<img src=\"img4.jpg\" alt=\"image 4\">",
        "<img src=\"img5.jpg\" alt=\"image 5\">",
        "<img src=\"img6.jpg\" alt=\"image 6\">",
        "<img src=\"img7.jpg\" alt=\"image 7\">",
        "<img src=\"img8.jpg\" alt=\"image 8\">",
        "    <img src=\"img9.jpg\" alt=\"image 9\">",
        "<img src=\"img10.jpg\" alt=\"image 10\">",
        "</section>",
        "```\n```",
        "\n",
        "```css\n",
        "section {",
        "    display: grid;",
        "    grid-template-columns: repeat(auto-fill, minmax(300px, 1fr));",
        "    gap: 16px;",
        "```markdown\n{\n```",
        "\n",
        "img {",
        "    ancho: 100%;",
        "    height: auto;",
        "    opacity: 0;\n",
        "    animation: appear linear both;",
        "    animation-timeline: view()",
        "    animation-range: entry 20% cover 30%;",
        "```markdown\n# Introduction\nWelcome to my project! This document will guide you through the setup process and provide an overview of the main features.\n\n## Prerequisites\nBefore you begin, ensure you have met the following requirements:\n* You have installed the latest version of Python.\n* You have a basic understanding of programming concepts.\n\n## Installation\nTo install the necessary packages, run the following command:\n```bash\npip install -r requirements.txt\n```\n\n## Usage\nAfter installation, you can start using the application by running the main script:\n```bash\npython main.py\n```\n\n## Contributing\nIf you would like to contribute, please fork the repository and use a feature branch. Pull requests are warmly welcome.\n\n## License\nThis project is licensed under the MIT License - see the LICENSE file for details.\n```\n",
        "\n",
        "@keyframes appear {",
        "    from {",
        "        opacity: 0;",
        "```\n}\n```",
        "to {",
        "        opacity: 1;",
        "```markdown\n}\n```",
        "```\n}\n```",
        "```",
        "\n",
        "with `animation-timeline: view()` we are telling it to animate when the image is visible on the screen, and with `animation-range: entry 20% cover 30%` we are telling it to start the animation when the image occupies 20% of the screen and finish when it occupies 30% of the screen",
        "\n",
        "By setting `both` in `animation` we are telling it to animate both on appearance and disappearance. This means that when the image appears, the animation is seen, but when it disappears, the animation is also seen but in reverse, i.e., the image gradually changes its opacity from 1 to 0."
      ]
    }
  ],
  "metadata": {
    "maximofn": {
      "date": "2024-02-05",
      "description_es": "CSS, o Hojas de Estilo en Cascada, es una tecnolog\u00eda fundamental en el dise\u00f1o web que permite a los desarrolladores y dise\u00f1adores estilizar y presentar documentos HTML de manera sofisticada y eficiente. A trav\u00e9s de CSS, podemos controlar el layout, los colores, las tipograf\u00edas, y mucho m\u00e1s, permitiendo la creaci\u00f3n de experiencias de usuario ricas y visualmente atractivas. Este post explora los conceptos b\u00e1sicos de CSS, desde selectores y propiedades hasta el modelo de caja, ofreciendo una gu\u00eda detallada para aquellos que buscan empezar o mejorar su habilidad en el dise\u00f1o web. Con ejemplos pr\u00e1cticos y consejos \u00fatiles, se demuestra c\u00f3mo CSS facilita la separaci\u00f3n del contenido de la presentaci\u00f3n, mejorando la accesibilidad y la mantenibilidad de los proyectos web",
      "description_en": "CSS, or Cascading Style Sheets, is a fundamental technology in web design that allows developers and designers to style and present HTML documents in a sophisticated and efficient manner. Through CSS, we can control layout, colors, fonts, and much more, enabling the creation of rich and visually appealing user experiences. This post explores the basics of CSS, from selectors and properties to the box model, offering a detailed guide for those looking to get started or improve their web design skills. With practical examples and helpful tips, it demonstrates how CSS makes it easy to separate content from presentation, improving the accessibility and maintainability of web projects.",
      "description_pt": "CSS, ou Cascading Style Sheets (Folhas de estilo em cascata), \u00e9 uma tecnologia fundamental no design da Web que permite aos desenvolvedores e designers estilizar e apresentar documentos HTML de maneira sofisticada e eficiente. Por meio do CSS, podemos controlar o layout, as cores, as fontes e muito mais, permitindo a cria\u00e7\u00e3o de experi\u00eancias de usu\u00e1rio ricas e visualmente atraentes. Esta postagem explora os conceitos b\u00e1sicos de CSS, desde seletores e propriedades at\u00e9 o modelo de caixa, oferecendo um guia detalhado para quem deseja iniciar ou aprimorar suas habilidades de web design. Com exemplos pr\u00e1ticos e dicas \u00fateis, ela demonstra como o CSS facilita a separa\u00e7\u00e3o entre conte\u00fado e apresenta\u00e7\u00e3o, melhorando a acessibilidade e a capacidade de manuten\u00e7\u00e3o dos projetos da Web.",
      "end_url": "css",
      "image": "https://pub-fb664c455eca46a2ba762a065ac900f7.r2.dev/CSS3.webp",
      "keywords_en": "css, web design, styling, layout, selectors, properties, box model, accessibility, maintainability",
      "keywords_es": "css, dise\u00f1o web, estilizaci\u00f3n, dise\u00f1o, selectores, propiedades, modelo de caja, accesibilidad, mantenibilidad",
      "keywords_pt": "css, design web, estiliza\u00e7\u00e3o, layout, seletores, propriedades, modelo de caixa, acessibilidade, manutenibilidade",
      "title_en": "CSS",
      "title_es": "CSS",
      "title_pt": "CSS"
    },
    "language_info": {
      "name": "python"
    }
  },
  "nbformat": 4,
  "nbformat_minor": 2
}