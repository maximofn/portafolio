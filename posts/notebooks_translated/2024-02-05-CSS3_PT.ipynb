{
  "cells": [
    {
      "cell_type": "markdown",
      "metadata": {},
      "source": [
        "# CSS 3"
      ]
    },
    {
      "cell_type": "markdown",
      "metadata": {},
      "source": [
        " > Aviso: Este post foi traduzido para o portugu\u00eas usando um modelo de tradu\u00e7\u00e3o autom\u00e1tica. Por favor, me avise se encontrar algum erro."
      ]
    },
    {
      "cell_type": "markdown",
      "metadata": {},
      "source": [
        "## Partes do CSS (seletor, propriedades, valores)"
      ]
    },
    {
      "cell_type": "markdown",
      "metadata": {},
      "source": [
        "Em CSS, podem falar de 3 partes principais:",
        "\n",
        "- **Seletor**: \u00c9 a parte que seleciona o elemento ao qual ser\u00e1 aplicado o estilo.",
        "- **Propriedade**: \u00c9 a parte que define o estilo que ser\u00e1 aplicado ao elemento.",
        "- **Valor**: \u00c9 a parte que define o valor da propriedade que ser\u00e1 aplicada ao elemento.",
        "\n",
        "Para adicionar coment\u00e1rios em CSS usa-se `/* coment\u00e1rio */`.",
        "\n",
        "A linha que tem `propriedade: valor;` \u00e9 chamada de **declara\u00e7\u00e3o**.",
        "\n",
        "```css\n",
        "seletor {",
        "propriedade: valor;   /* coment\u00e1rio */",
        "}",
        "```"
      ]
    },
    {
      "cell_type": "markdown",
      "metadata": {},
      "source": [
        "## Seletores"
      ]
    },
    {
      "cell_type": "markdown",
      "metadata": {},
      "source": [
        "H\u00e1 v\u00e1rios tipos de seletores:",
        "\n",
        "- **Seletor universal**: Seleciona todos os elementos da p\u00e1gina. Utiliza o asterisco `*`.",
        "- **Seletor de tipo**: Seleciona todos os elementos de um tipo. Utiliza o nome do tipo de elemento. Por exemplo, `p` seleciona todos os par\u00e1grafos.",
        "- **Seletor de classe**: Seleciona todos os elementos que tenham uma classe. Utiliza o nome da classe. Por exemplo, `.classe` seleciona todos os elementos que tenham a classe `clase`. Isso \u00e9 \u00fatil, porque se quisermos que todos os bot\u00f5es sejam iguais, no HTML colocamos `<button class=\"botao\">` e no CSS colocamos `.botao { /* estilos */ }`. Assim, todos os bot\u00f5es ter\u00e3o os mesmos estilos, e se quisermos que um bot\u00e3o seja diferente, adicionamos outra classe.",
        "- **Seletor de pseudo-classe**: Seleciona todos os elementos que tenham uma pseudo-classe. Utiliza-se o nome da pseudo-classe. Por exemplo, `:hover` seleciona todos os elementos que estejam sendo selecionados pelo mouse. Isso \u00e9 \u00fatil, porque se quisermos que um bot\u00e3o mude de cor quando o mouse estiver em cima, no CSS colocamos `.botao:hover { /* estilos */ }`. Assim, o bot\u00e3o ter\u00e1 os estilos desejados quando o mouse estiver em cima. Algumas pseudo-classes s\u00e3o:",
        "- `:hover`: Seleciona todos os elementos que est\u00e3o sendo selecionados pelo mouse.",
        "- `:active`: Seleciona todos os elementos que est\u00e3o sendo selecionados pelo mouse e est\u00e3o sendo pressionados.",
        "- `:focus`: Seleciona todos os elementos que est\u00e3o sendo selecionados pelo mouse e pressionados, e al\u00e9m disso, tenham o foco.",
        "- `:first-child`: Seleciona todos os elementos que sejam o primeiro filho de seu pai. Isso \u00e9 \u00fatil, por exemplo, com os `<li>` das listas, porque se quisermos que o primeiro elemento da lista tenha um estilo diferente, no css colocamos `li:first-child { /* estilos */ }`. Assim, o primeiro elemento da lista ter\u00e1 os estilos que desejarmos.",
        "- `:last-child`: Seleciona todos os elementos que sejam o \u00faltimo filho de seu pai. Isso \u00e9 \u00fatil, por exemplo, com os `<li>` das listas, porque se quisermos que o \u00faltimo elemento da lista tenha um estilo diferente, no css colocamos `li:last-child { /* estilos */ }`. Assim, o \u00faltimo elemento da lista ter\u00e1 os estilos que desejarmos.",
        "- `:nth-child(n)`: Seleciona todos os elementos que sejam o n-\u00e9simo filho de seu pai. Por exemplo, `:nth-child(2)` seleciona todos os elementos que sejam o segundo filho de seu pai.",
        "- `:nth-last-child(n)`: Seleciona todos os elementos que sejam o n-\u00e9simo filho de seu pai, come\u00e7ando do final. Por exemplo, `:nth-last-child(2)` seleciona todos os elementos que sejam o segundo filho de seu pai, come\u00e7ando do final.",
        "- `:nth-of-type(n)`: Seleciona todos os elementos que sejam o n-\u00e9simo filho de seu pai, do mesmo tipo. Por exemplo, `:nth-of-type(2)` seleciona todos os elementos que sejam o segundo filho de seu pai, do mesmo tipo.",
        "- `:nth-last-of-type(n)`: Seleciona todos os elementos que sejam o n-\u00e9simo filho de seu pai, do mesmo tipo, come\u00e7ando pelo final. Por exemplo, `:nth-last-of-type(2)` seleciona todos os elementos que sejam o segundo filho de seu pai, do mesmo tipo, come\u00e7ando pelo final.",
        "- `:first-of-type`: Seleciona todos os elementos que sejam o primeiro filho de seu pai, do mesmo tipo.",
        "- `:last-of-type`: Seleciona todos os elementos que sejam o \u00faltimo filho de seu pai, do mesmo tipo.",
        "- `:only-child`: Seleciona todos os elementos que sejam o \u00fanico filho de seu pai.",
        "- `:only-of-type`: Seleciona todos os elementos que sejam o \u00fanico filho de seu pai, do mesmo tipo.",
        "- `:empty`: Seleciona todos os elementos que n\u00e3o tenham filhos.",
        "- **Selector de id**: Seleciona um elemento que tenha um id. Utiliza o nome do id. Por exemplo, `#id` seleciona o elemento que tenha o id `id`. Isso \u00e9 \u00fatil, porque se quisermos que um elemento seja \u00fanico, no html colocamos `<p id=\"unico\">` e no css colocamos `#unico { /* estilos */ }`. Assim, esse elemento ter\u00e1 os estilos que desejarmos, e se quisermos que outro elemento seja igual, adicionamos outra classe.",
        "- **Seletores combinados**: Selecionam elementos que atendam v\u00e1rias condi\u00e7\u00f5es. Usamos os seletores que quisermos, separados por um espa\u00e7o. Por exemplo, `p .classe` seleciona todos os elementos que tenham a classe `clase` e sejam filhos de um par\u00e1grafo. Isso \u00e9 \u00fatil, porque se quisermos que todos os bot\u00f5es que estiverem dentro de um par\u00e1grafo sejam iguais, no HTML colocamos `<p class=\"paragrafo_que_quero_alterar\"><button class=\"botao\">` e no CSS colocamos `.paragrafo_que_quero_alterar .botao { /* estilos */ }`. Assim, todos os bot\u00f5es que estiverem dentro de um par\u00e1grafo com a classe `paragrafo_que_quero_alterar` ter\u00e3o os mesmos estilos, e se quisermos que um bot\u00e3o seja diferente, colocamos outra classe.",
        "- **Seletor combinado de primeiro n\u00edvel**: Selecionam elementos que atendam a v\u00e1rias condi\u00e7\u00f5es, mas apenas se estiverem no primeiro n\u00edvel. Utilizamos os seletores que quisermos, separados por um `>`. Por exemplo, `p > .classe` seleciona todos os elementos que tenham a classe `classe` e sejam filhos diretos de um par\u00e1grafo. Isso \u00e9 \u00fatil porque, se quisermos que todos os bot\u00f5es que estejam dentro de um par\u00e1grafo sejam iguais, no HTML colocamos `<p class=\"paragrafo_que_quero_alterar\"><button class=\"botao\">` e no CSS colocamos `.paragrafo_que_quero_alterar > .botao { /* estilos */ }`. Assim, todos os bot\u00f5es que estejam dentro de um par\u00e1grafo com a classe `paragrafo_que_quero_alterar` ter\u00e3o os mesmos estilos, e se quisermos que um bot\u00e3o seja diferente, adicionamos outra classe.",
        "- **Seletor combinado de irm\u00e3os**: Selecionam elementos que atendam v\u00e1rias condi\u00e7\u00f5es, mas apenas se estiverem no mesmo n\u00edvel. Utilizamos os seletores que quisermos, separados por um `~`. Por exemplo, `p ~ .classe` seleciona todos os elementos que tenham a classe `classe` e estejam no mesmo n\u00edvel de um par\u00e1grafo. Isso \u00e9 \u00fatil porque, se quisermos que todos os bot\u00f5es que estejam no mesmo n\u00edvel de um par\u00e1grafo sejam iguais, no HTML colocamos `<p class=\"paragrafo_que_quero_alterar\"></p><button class=\"botao\">` e no CSS colocamos `.paragrafo_que_quero_alterar ~ .botao { /* estilos */ }`. Assim, todos os bot\u00f5es que estejam no mesmo n\u00edvel de um par\u00e1grafo com a classe `paragrafo_que_quero_alterar` ter\u00e3o os mesmos estilos. Se quisermos que um bot\u00e3o seja diferente, damos a ele outra classe.",
        "- **Seletor de irm\u00e3os adjacentes combinados**: Selecionam elementos que atendam v\u00e1rias condi\u00e7\u00f5es, mas apenas se estiverem no mesmo n\u00edvel e forem adjacentes. Utilizamos os seletores que quisermos, separados por um `+`. Por exemplo, `p + .classe` seleciona todos os elementos que tenham a classe `clase` e estejam no mesmo n\u00edvel e sejam adjacentes a um par\u00e1grafo. Isso \u00e9 \u00fatil, porque se quisermos que todos os bot\u00f5es que estejam no mesmo n\u00edvel e sejam adjacentes a um par\u00e1grafo sejam iguais, no HTML colocamos `<p class=\"parrafo_que_quiero_cambiar\"></p><button class=\"boton\">` e no CSS colocamos `.parrafo_que_quiero_cambiar + .boton { /* estilos */ }`. Assim, todos os bot\u00f5es que estejam no mesmo n\u00edvel e sejam adjacentes a um par\u00e1grafo com a classe `parrafo_que_quiero_cambiar` ter\u00e3o os mesmos estilos, e se quisermos que um bot\u00e3o seja diferente, damos outra classe.",
        "\n",
        "O normal \u00e9 usar o seletor de classe, pois assim podemos reutilizar os estilos."
      ]
    },
    {
      "cell_type": "markdown",
      "metadata": {},
      "source": [
        "## Estilos"
      ]
    },
    {
      "cell_type": "markdown",
      "metadata": {},
      "source": [
        "### Cor"
      ]
    },
    {
      "cell_type": "markdown",
      "metadata": {},
      "source": [
        "O cor pode ser definido de v\u00e1rias maneiras:",
        "\n",
        "- **Nome**: Pode ser colocado o nome da cor. Por exemplo, `red` \u00e9 vermelho.",
        "- **Hexadecimal**: Pode-se colocar a cor em hexadecimal. Por exemplo, `#ff0000` \u00e9 vermelho.",
        "  \n",
        "Se quiser adicionar transpar\u00eancia, pode-se colocar `#ff000080`, que \u00e9 vermelho com 50% de transpar\u00eancia.",
        "  \n",
        "Se apenas s\u00e3o colocados 3 n\u00fameros, eles se repetem. Por exemplo, `#f10` \u00e9 o mesmo que `#ff1100`. Se quiser adicionar transpar\u00eancia, pode-se colocar `#f108`, que \u00e9 o mesmo que `#ff110088`.",
        "- **RGB**: Pode-se colocar a cor em RGB. Por exemplo, `rgb(255, 0, 0)` \u00e9 vermelho.",
        "\n",
        "Se quiser adicionar transpar\u00eancia, pode-se colocar `rgb(255 0 0 / 0.5)`, que \u00e9 vermelho com 50% de transpar\u00eancia. Tamb\u00e9m se pode colocar a transpar\u00eancia em porcentagem, `rgb(255 0 0 / 50%)`. Pode-se encontrar a transpar\u00eancia de uma forma legada com `rgba(255, 0, 0, 0.5)`, que \u00e9 vermelho com 50% de transpar\u00eancia, mas o melhor \u00e9 utilizar a forma moderna.",
        "\n",
        "- **HSL**: Pode-se colocar a cor em HSL. Por exemplo, `hsl(0, 100%, 50%)` \u00e9 vermelho.",
        "\n",
        "- **OKLCH**: Pode-se colocar a cor em OKLCH. Por exemplo, `oklch(0 100% 50%)` \u00e9 vermelho.",
        "\n",
        "Em `HSL` e `OKLCH` h\u00e1 uma maior escala de cores em compara\u00e7\u00e3o com `RGB`, portanto, se voc\u00ea precisar de mais cores, \u00e9 melhor usar `HSL` ou `OKLCH`.",
        "\n",
        "Tamb\u00e9m \u00e9 poss\u00edvel adicionar a transpar\u00eancia adicionando a declara\u00e7\u00e3o `color:transparent`."
      ]
    },
    {
      "cell_type": "markdown",
      "metadata": {},
      "source": [
        "### Cor Color Atual"
      ]
    },
    {
      "cell_type": "markdown",
      "metadata": {},
      "source": [
        "H\u00e1 um valor de cor que \u00e9 `currentColor`, que \u00e9 a cor atual. Por exemplo, se temos um texto e configuramos sua cor para vermelho, e depois adicionamos uma borda a este texto, se colocarmos `border: 1px solid currentColor;`, a borda ser\u00e1 vermelha.",
        "\n",
        "```css\n",
        "p {",
        "cor: vermelho;",
        "borda: 1px s\u00f3lida correnteColor;",
        "}",
        "```"
      ]
    },
    {
      "cell_type": "markdown",
      "metadata": {},
      "source": [
        "### Heran\u00e7a"
      ]
    },
    {
      "cell_type": "markdown",
      "metadata": {},
      "source": [
        "Quando um estilo \u00e9 aplicado a um elemento, esse estilo \u00e9 herdado pelos elementos filhos. Por exemplo, se tivermos um `div` com um texto, e definirmos a cor vermelha para o `div`, o texto tamb\u00e9m ser\u00e1 vermelho.",
        "\n",
        "```html\n",
        "<div>",
        "<p>Texto</p>",
        "</div>",
        "```\n",
        "\n",
        "```css\n",
        "div {",
        "cor: vermelho;",
        "}",
        "```\n",
        "\n",
        "Ao fazer isso, o texto ficar\u00e1 vermelho."
      ]
    },
    {
      "cell_type": "markdown",
      "metadata": {},
      "source": [
        "Podemos indicar no filho quais estilos s\u00e3o herdados. Por exemplo, suponhamos que temos um pai e um filho",
        "\n",
        "```html\n",
        "<div class=\"pai\">",
        "<p class=\"hijo\">Texto</p>",
        "</div>",
        "```\n",
        "\n",
        "```css\n",
        ".padre {",
        "cor: vermelho;",
        "}",
        "\n",
        ".filho {",
        "cor: inherit;",
        "}",
        "```\n",
        "\n",
        "Ao fazer isso, o texto ficar\u00e1 vermelho, pois o filho herda a cor do pai.",
        "\n",
        "As op\u00e7\u00f5es poss\u00edveis s\u00e3o:",
        "\n",
        "- `inherit`: Herda o estilo do pai.",
        "- `inicial`: Coloca o estilo padr\u00e3o.",
        "- `unset`: Reseta o estilo",
        "- `revert`: Reverte o estilo",
        "\n",
        "N\u00e3o todos os estilos s\u00e3o herdados, por exemplo, o `background` n\u00e3o \u00e9 herdado. Para n\u00e3o listar todos os estilos que s\u00e3o herdados, uma forma de saber \u00e9 indo ao `MDN` e verificando se o estilo tem a propriedade `Inherited` definida como `yes` (dentro de `Formal definition`)."
      ]
    },
    {
      "cell_type": "markdown",
      "metadata": {},
      "source": [
        "### Fontes"
      ]
    },
    {
      "cell_type": "markdown",
      "metadata": {},
      "source": [
        "Na hora de carregar as fontes, elas podem ser carregadas de v\u00e1rias maneiras:",
        "\n",
        "- **Local**: Pode carregar uma fonte local. Por exemplo, `font-family: Arial;` carrega a fonte Arial.",
        "- **URL**: Pode carregar uma fonte a partir de uma URL. Por exemplo, `font-family: url(https://fonts.googleapis.com/css2?family=Roboto);` carrega a fonte Roboto do Google Fonts.",
        "- **Gen\u00e9rica**: Pode-se carregar uma fonte gen\u00e9rica. Por exemplo, `font-family: sans-serif;` carrega uma fonte sem serifa. Esta fonte depende do sistema operativo, ent\u00e3o no Windows ser\u00e1 Arial, no Mac ser\u00e1 Helvetica e no Linux ser\u00e1 DejaVu Sans.",
        "\n",
        "V\u00e1rias fontes podem ser carregadas, e se uma n\u00e3o estiver dispon\u00edvel, a pr\u00f3xima \u00e9 carregada. Por exemplo, `font-family: Arial, sans-serif;` carrega Arial, e se n\u00e3o estiver dispon\u00edvel, carrega uma fonte sem serifa.",
        "\n",
        "Tamb\u00e9m \u00e9 poss\u00edvel carregar uma fonte com v\u00e1rios estilos. Por exemplo, `font-family: Arial, sans-serif; font-weight: 700;` carrega Arial em negrito, e se n\u00e3o estiver dispon\u00edvel, carrega uma fonte sem serifa em negrito.",
        "\n",
        "Como `sans-serif` \u00e9 uma fonte gen\u00e9rica, \u00e9 ideal coloc\u00e1-la por \u00faltimo, para que, se a fonte desejada n\u00e3o estiver dispon\u00edvel, seja carregada a gen\u00e9rica.",
        "\n",
        "```css\n",
        "p {",
        "font-family: url(https://fonts.googleapis.com/css2?family=Roboto), url(https://fonts.googleapis.com/css2?family=Roboto+Slab), Ubuntu, sans-serif;",
        "}",
        "```"
      ]
    },
    {
      "cell_type": "markdown",
      "metadata": {},
      "source": [
        "### Borda e Contorno"
      ]
    },
    {
      "cell_type": "markdown",
      "metadata": {},
      "source": [
        "Podemos colocar uma borda em um elemento com `border: 1px solid red;`. Isso coloca uma borda de 1px de espessura, s\u00f3lida e vermelha.",
        "\n",
        "Se quisermos colocar uma borda, podemos usar `outline: 1px solid red;`. Isso coloca uma borda de 1px de espessura, s\u00f3lida e vermelha.",
        "\n",
        "A diferen\u00e7a entre `border` e `outline` \u00e9 que `border` ocupa espa\u00e7o, e `outline` n\u00e3o. Por exemplo, se tivermos um `div` com um texto, e colocarmos uma borda, o texto se mover\u00e1 para que a borda fique vis\u00edvel. Se colocarmos um contorno, o texto n\u00e3o se mover\u00e1, porque o contorno n\u00e3o ocupa espa\u00e7o. Isso pode ser observado se alterarmos o estilo na pseudo-classe `:hover`. Se colocarmos uma borda, quando passarmos o mouse por cima, o texto se mover\u00e1, mas se colocarmos um contorno, o texto n\u00e3o se mover\u00e1."
      ]
    },
    {
      "cell_type": "markdown",
      "metadata": {},
      "source": [
        "## Cachoeira"
      ]
    },
    {
      "cell_type": "markdown",
      "metadata": {},
      "source": [
        "A cascata \u00e9 a ordem na qual os estilos s\u00e3o aplicados. A ordem \u00e9:",
        "\n",
        "1. Estilos do usu\u00e1rio: S\u00e3o os estilos que o usu\u00e1rio configurou. Por exemplo, se o usu\u00e1rio tiver configurado que o texto seja de cor vermelha, o texto ser\u00e1 vermelho.",
        "2. Estilos do autor: S\u00e3o os estilos que o autor configurou. Por exemplo, se o autor configurou que o texto seja de cor azul, o texto ser\u00e1 azul.",
        "3. Estilos do navegador: S\u00e3o os estilos do navegador. Por exemplo, se o navegador estiver configurado para que o texto seja de cor verde, o texto ser\u00e1 verde.",
        "\n",
        "Prevalecem os estilos do usu\u00e1rio sobre os do autor, e os do autor sobre os do navegador.",
        "\n",
        "Mas dentro dos estilos do autor, prevalecem os estilos que est\u00e3o mais abaixo no c\u00f3digo. Por exemplo, se tivermos um `div` com um texto, e colocarmos a cor vermelha, e depois colocarmos a cor azul, o texto ser\u00e1 azul.",
        "\n",
        "```html\n",
        "<div>",
        "<p>Texto</p>",
        "</div>",
        "```\n",
        "\n",
        "```css\n",
        "div {",
        "cor: vermelho;",
        "}",
        "\n",
        "div {",
        "cor: azul;",
        "}",
        "```\n",
        "\n",
        "Neste exemplo, o texto ser\u00e1 azul. O cor vermelha \u00e9 substitu\u00edda pela cor azul."
      ]
    },
    {
      "cell_type": "markdown",
      "metadata": {},
      "source": [
        "### Fallback"
      ]
    },
    {
      "cell_type": "markdown",
      "metadata": {},
      "source": [
        "Um dos benef\u00edcios da cascata \u00e9 que podemos aplicar um estilo muito novo, mas caso o navegador que o usu\u00e1rio esteja utilizando n\u00e3o o suporte, podemos definir um estilo mais antigo antes como precau\u00e7\u00e3o. Por exemplo, estilizar a cor com `oklch` \u00e9 algo novo, que pode n\u00e3o ser suportado pelo navegador do usu\u00e1rio, por isso podemos definir um estilo mais antigo antes como precau\u00e7\u00e3o.",
        "\n",
        "```css\n",
        "p {",
        "cor: rgb(255, 0, 0);",
        "color: oklch(0 100% 50%);",
        "}",
        "```\n",
        "\n",
        "Desta forma, o navegador primeiro tentar\u00e1 estilizar com `oklch`, e se n\u00e3o puder, estilizar\u00e1 com `rgb`."
      ]
    },
    {
      "cell_type": "markdown",
      "metadata": {},
      "source": [
        "### Especificidade"
      ]
    },
    {
      "cell_type": "markdown",
      "metadata": {},
      "source": [
        "Pode ser que um elemento HTML tenha v\u00e1rias formas de se referir a ele. Por exemplo",
        "\n",
        "```html\n",
        "<p class=\"clase\" id=\"id\">Texto</p>",
        "```\n",
        "\n",
        "```css\n",
        "p {",
        "cor: vermelho;",
        "}",
        "\n",
        ".classe {",
        "cor: azul;",
        "}",
        "\n",
        "#id {",
        "cor: verde;",
        "}",
        "```\n",
        "\n",
        "Neste exemplo, o texto ser\u00e1 verde. Isso ocorre porque o seletor de id tem mais especificidade que o seletor de classe, e o seletor de classe tem mais especificidade que o seletor de tipo. Portanto, o seletor de id sobrescreve o seletor de classe, e o seletor de classe sobrescreve o seletor de tipo.",
        "\n",
        "Se tiv\u00e9ssemos no CSS",
        "\n",
        "```css\n",
        "p {",
        "cor: vermelho;",
        "}",
        "\n",
        "p.classe {",
        "cor: azul;",
        "}",
        "```\n",
        "\n",
        "O texto seria azul. Isso acontece porque o seletor de classe tem mais especificidade que o seletor de tipo, portanto, o seletor de classe sobrescreve o seletor de tipo."
      ]
    },
    {
      "cell_type": "markdown",
      "metadata": {},
      "source": [
        "Os estilos inline t\u00eam mais especificidade que os estilos do autor. Por exemplo",
        "\n",
        "```html\n",
        "<p style=\"color: red;\">Texto</p>",
        "```\n",
        "\n",
        "```css\n",
        "p {",
        "cor: azul;",
        "}",
        "```\n",
        "\n",
        "Neste exemplo, o texto ser\u00e1 vermelho. Isso ocorre porque o estilo inline tem mais especificidade que o estilo do autor."
      ]
    },
    {
      "cell_type": "markdown",
      "metadata": {},
      "source": [
        "Se colocar `!important` no final da declara\u00e7\u00e3o, essa declara\u00e7\u00e3o ter\u00e1 mais especificidade do que qualquer outra. Por exemplo",
        "\n",
        "```html\n",
        "<p class=\"clase\" id=\"id\">Texto</p>",
        "```\n",
        "\n",
        "```css\n",
        "p {",
        "cor: vermelho;",
        "}",
        "\n",
        ".classe {",
        "cor: azul;",
        "}",
        "\n",
        "#id {",
        "cor: verde;",
        "}",
        "\n",
        "p.classe {",
        "cor: amarelo !important;",
        "}",
        "```\n",
        "\n",
        "Neste exemplo, o texto ser\u00e1 amarelo. Isso acontece porque a declara\u00e7\u00e3o com `!important` tem mais especificidade do que qualquer outra."
      ]
    },
    {
      "cell_type": "markdown",
      "metadata": {},
      "source": [
        "## Unidades"
      ]
    },
    {
      "cell_type": "markdown",
      "metadata": {},
      "source": [
        "### Unidades de comprimento"
      ]
    },
    {
      "cell_type": "markdown",
      "metadata": {},
      "source": [
        "#### Unidades absolutas"
      ]
    },
    {
      "cell_type": "markdown",
      "metadata": {},
      "source": [
        "Se quisermos definir um tamanho fixo, podemos utilizar unidades absolutas. Por exemplo, `px` \u00e9 um pixel, `cm` \u00e9 um cent\u00edmetro, `mm` \u00e9 um mil\u00edmetro, `in` \u00e9 uma polegada, `pt` \u00e9 um ponto, `pc` \u00e9 uma pica."
      ]
    },
    {
      "cell_type": "markdown",
      "metadata": {},
      "source": [
        "#### Unidades relativas"
      ]
    },
    {
      "cell_type": "markdown",
      "metadata": {},
      "source": [
        "No entanto, se quisermos que o tamanho seja relativo, podemos utilizar unidades relativas. Por exemplo, `em` \u00e9 o tamanho da fonte, `rem` \u00e9 o tamanho da fonte do elemento raiz, `vw` \u00e9 a largura da janela, `vh` \u00e9 a altura da janela, `vmin` \u00e9 a largura ou a altura da janela, dependendo de qual for menor, `vmax` \u00e9 a largura ou a altura da janela, dependendo de qual for maior, `ch` \u00e9 a largura de um caractere, `ex` \u00e9 a altura de uma x, `fr` \u00e9 uma fra\u00e7\u00e3o do espa\u00e7o dispon\u00edvel."
      ]
    },
    {
      "cell_type": "markdown",
      "metadata": {},
      "source": [
        "## Modelo da caixa"
      ]
    },
    {
      "cell_type": "markdown",
      "metadata": {},
      "source": [
        "Em HTML, tudo s\u00e3o caixas, mas h\u00e1 duas maneiras de ver as caixas: `inline` e `block`. Por exemplo, os `<span>` s\u00e3o `inline`, e os `<div>` s\u00e3o `block`."
      ]
    },
    {
      "cell_type": "markdown",
      "metadata": {},
      "source": [
        "### Caixas `inline`"
      ]
    },
    {
      "cell_type": "markdown",
      "metadata": {},
      "source": [
        "Quando o elemento \u00e9 `inline`, a largura e a altura n\u00e3o podem ser configuradas, e o elemento se comporta como se fosse texto. Por exemplo, se tivermos um `span` com um texto, e definirmos uma largura e uma altura, a largura e a altura n\u00e3o ser\u00e3o aplicadas, e o elemento se comportar\u00e1 como se fosse texto.",
        "\n",
        "```html\n",
        "<span>Texto</span>",
        "```\n",
        "\n",
        "```css\n",
        "span {",
        "largura: 100px;",
        "altura: 100px;",
        "}",
        "```\n",
        "\n",
        "Neste exemplo, a largura e a altura n\u00e3o ser\u00e3o aplicadas, e o elemento se comportar\u00e1 como se fosse texto."
      ]
    },
    {
      "cell_type": "markdown",
      "metadata": {},
      "source": [
        "Al\u00e9m disso, quando o elemento \u00e9 `inline`, se v\u00e1rios elementos forem colocados juntos no html, esses elementos ser\u00e3o exibidos juntos. Por exemplo, se tivermos v\u00e1rios `span` com um texto, e os colocarmos juntos no html, esses elementos ser\u00e3o exibidos juntos.",
        "\n",
        "```html\n",
        "<span>Texto</span>",
        "<span>Texto</span>",
        "<span>Texto</span>",
        "```\n",
        "\n",
        "Neste exemplo, os elementos ser\u00e3o exibidos juntos ==> TextoTextoTexto."
      ]
    },
    {
      "cell_type": "markdown",
      "metadata": {},
      "source": [
        "Mas se quisermos que os elementos sejam exibidos em linhas diferentes, podemos usar `display: block;`. Por exemplo, se tivermos v\u00e1rios `span` com um texto, e aplicarmos `display: block;`, esses elementos ser\u00e3o exibidos em linhas diferentes.",
        "\n",
        "```html\n",
        "<span>Texto</span>",
        "<span>Texto</span>",
        "<span>Texto</span>",
        "```\n",
        "\n",
        "```css\n",
        "span {",
        "exibi\u00e7\u00e3o: bloco;",
        "}",
        "```\n",
        "\n",
        "Neste exemplo, os elementos ser\u00e3o exibidos em linhas diferentes",
        "                        \n",
        "\u2b07",
        "                        \n",
        "Texto",
        "                        \n",
        "Texto",
        "                        \n",
        "Texto"
      ]
    },
    {
      "cell_type": "markdown",
      "metadata": {},
      "source": [
        "### Caixas `block`"
      ]
    },
    {
      "cell_type": "markdown",
      "metadata": {},
      "source": [
        "Quando o elemento \u00e9 `block`, a largura e a altura podem ser configuradas, e o elemento se comporta como se fosse um bloco. Por exemplo, se tivermos um `div` com um texto, e definirmos uma largura e uma altura, a largura e a altura ser\u00e3o aplicadas, e o elemento se comportar\u00e1 como se fosse um bloco.",
        "\n",
        "```html\n",
        "<div>Texto</div>",
        "```\n",
        "\n",
        "```css\n",
        "div {",
        "largura: 100px;",
        "altura: 100px;",
        "}",
        "```\n",
        "\n",
        "Neste exemplo, a largura e a altura ser\u00e3o aplicadas, e o elemento se comportar\u00e1 como se fosse um bloco."
      ]
    },
    {
      "cell_type": "markdown",
      "metadata": {},
      "source": [
        "Al\u00e9m disso, quando o elemento \u00e9 `block`, se v\u00e1rios elementos forem colocados juntos no HTML, esses elementos ser\u00e3o exibidos um abaixo do outro. Por exemplo, se tivermos v\u00e1rios `div` com texto e os colocarmos juntos no HTML, esses elementos ser\u00e3o exibidos um abaixo do outro.",
        "\n",
        "```html\n",
        "<div>Texto</div>",
        "<div>Texto</div>",
        "<div>Texto</div>",
        "```\n",
        "\n",
        "Neste exemplo, os elementos ser\u00e3o exibidos um abaixo do outro",
        "                        \n",
        "\u2b07",
        "                        \n",
        "Texto",
        "                        \n",
        "Texto",
        "                        \n",
        "Texto"
      ]
    },
    {
      "cell_type": "markdown",
      "metadata": {},
      "source": [
        "Mas se quisermos que os elementos sejam exibidos na mesma linha, podemos usar `display: inline;`. Por exemplo, se tivermos v\u00e1rios `div` com um texto, e colocarmos `display: inline;`, esses elementos ser\u00e3o exibidos na mesma linha.",
        "\n",
        "```html\n",
        "<div>Texto</div>",
        "<div>Texto</div>",
        "<div>Texto</div>",
        "```\n",
        "\n",
        "```css\n",
        "div {",
        "exibi\u00e7\u00e3o: inline;",
        "}",
        "```\n",
        "\n",
        "Neste exemplo, os elementos ser\u00e3o exibidos na mesma linha ==> TextoTextoTexto."
      ]
    },
    {
      "cell_type": "markdown",
      "metadata": {},
      "source": [
        "### Margin, Border, Padding e Content"
      ]
    },
    {
      "cell_type": "markdown",
      "metadata": {},
      "source": [
        "Agora que sabemos que em HTML tudo s\u00e3o caixas, podemos ver que cada caixa tem 4 partes:",
        "\n",
        "- **Margem**: \u00c9 o espa\u00e7o entre a caixa e as outras caixas.",
        "- **Borda**: \u00c9 a borda da caixa.",
        "- **Padding**: \u00c9 o espa\u00e7o entre a borda e o conte\u00fado.",
        "- **Conte\u00fado**: \u00c9 o conte\u00fado da caixa.",
        "\n",
        "![Margin, Border, Padding e Content](https://web.dev/static/learn/css/box-model/image/un-diagrama-que-muestra-l-a71d29fe924e.svg?hl=es)"
      ]
    },
    {
      "cell_type": "markdown",
      "metadata": {},
      "source": [
        "Todas essas propriedades podem ser configuradas. Por exemplo, se temos um `div` com um texto, e definimos uma largura e uma altura, a largura e a altura ser\u00e3o aplicadas, e o elemento se comportar\u00e1 como se fosse um bloco.",
        "\n",
        "```html\n",
        "<div>Texto</div>",
        "```\n",
        "\n",
        "```css\n",
        "div {",
        "largura: 100px;",
        "altura: 100px;",
        "margin: 10px;",
        "borda: 10px s\u00f3lida vermelha;",
        "padding: 10px;",
        "}",
        "```\n",
        "\n",
        "Como s\u00e3o propriedades de tamanho, podem ser colocadas unidades de comprimento. Por exemplo:",
        "\n",
        "* Se quisermos que a margem seja de 10 pixels, colocamos `margin: 10px;`.",
        "* Se quisermos que seja apenas a margem esquerda, colocamos `margin-left: 10px;`.",
        "* Se quisermos que seja apenas a margem direita, colocamos `margin-right: 10px;`.",
        "* Se quisermos que seja apenas a margem superior, colocamos `margin-top: 10px;`.",
        "* Se quisermos que seja apenas a margem inferior, colocamos `margin-bottom: 10px;`.",
        "* Se quisermos que cada margem tenha um tamanho espec\u00edfico, colocamos `margin: 10px 20px 30px 40px;`. A ordem \u00e9 cima, direita, baixo, esquerda, como se fossem as agulhas de um rel\u00f3gio.",
        "* Se quisermos mudar as margens no eixo horizontal e vertical, colocamos `margin: 10px 20px;`. A ordem \u00e9 cima e baixo (10px), esquerda e direita (20px)."
      ]
    },
    {
      "cell_type": "markdown",
      "metadata": {},
      "source": [
        "#### Tamanho da caixa ao alterar o padding"
      ]
    },
    {
      "cell_type": "markdown",
      "metadata": {},
      "source": [
        "Se temos um `div` com um texto, e definirmos uma largura e uma altura, a largura e a altura ser\u00e3o aplicadas, e o elemento se comportar\u00e1 como se fosse um bloco.",
        "\n",
        "```html\n",
        "<div>Texto</div>",
        "```\n",
        "\n",
        "```css\n",
        "div {",
        "largura: 100px;",
        "altura: 100px;",
        "}",
        "```\n",
        "\n",
        "Desta forma, o `div` ter\u00e1 uma largura e altura de 100px.",
        "\n",
        "Mas se aplicarmos um padding de 10px, a largura e altura permanecer\u00e3o as mesmas, mas o tamanho da caixa ser\u00e1 de 120px, pois o padding \u00e9 adicionado \u00e0 largura e altura.",
        "\n",
        "```html\n",
        "<div>Texto</div>",
        "```\n",
        "\n",
        "```css\n",
        "div {",
        "largura: 100px;",
        "altura: 100px;",
        "padding: 10px;",
        "}",
        "```\n",
        "\n",
        "Desta forma, o `div` ter\u00e1 uma largura e altura de 100px, mas o tamanho da caixa ser\u00e1 de 120px."
      ]
    },
    {
      "cell_type": "markdown",
      "metadata": {},
      "source": [
        "#### Tamanho da caixa ao mudar a borda"
      ]
    },
    {
      "cell_type": "markdown",
      "metadata": {},
      "source": [
        "Se temos um `div` com um texto, e colocamos uma largura e uma altura, a largura e a altura ser\u00e3o aplicadas, e o elemento se comportar\u00e1 como se fosse um bloco.",
        "\n",
        "```html\n",
        "<div>Texto</div>",
        "```\n",
        "\n",
        "```css\n",
        "div {",
        "largura: 100px;",
        "altura: 100px;",
        "}",
        "```\n",
        "\n",
        "Desta forma, o `div` ter\u00e1 uma largura e uma altura de 100px.",
        "\n",
        "Mas se n\u00f3s agora aplicarmos uma borda de 10px, a largura e a altura permanecer\u00e3o as mesmas, mas o tamanho da caixa ser\u00e1 de 120px, pois a borda \u00e9 adicionada \u00e0 largura e \u00e0 altura.",
        "\n",
        "```html\n",
        "<div>Texto</div>",
        "```\n",
        "\n",
        "```css\n",
        "div {",
        "largura: 100px;",
        "altura: 100px;",
        "borda: 10px s\u00f3lida vermelha;",
        "}",
        "```\n",
        "\n",
        "Desta forma, o `div` ter\u00e1 uma largura e altura de 100px, mas o tamanho da caixa ser\u00e1 de 120px."
      ]
    },
    {
      "cell_type": "markdown",
      "metadata": {},
      "source": [
        "#### Tamanho da caixa ao alterar a margem"
      ]
    },
    {
      "cell_type": "markdown",
      "metadata": {},
      "source": [
        "No caso das margens, o tamanho da caixa n\u00e3o muda, mas o espa\u00e7o entre as caixas sim. Por exemplo, se tivermos dois `div` com um texto, e colocarmos uma largura e uma altura, a largura e a altura ser\u00e3o aplicadas, e o elemento se comportar\u00e1 como se fosse um bloco.",
        "\n",
        "```html\n",
        "<div>Texto</div>",
        "<div>Texto</div>",
        "```\n",
        "\n",
        "```css\n",
        "div {",
        "largura: 100px;",
        "altura: 100px;",
        "}",
        "```\n",
        "\n",
        "Desta forma, os `div` ter\u00e3o uma largura e altura de 100px.",
        "\n",
        "Mas se aplicarmos uma margem de 10px, a largura e altura permanecer\u00e3o as mesmas, mas o espa\u00e7o entre os `div` ser\u00e1 de 20px, pois a margem \u00e9 adicionada ao espa\u00e7o entre os `div`.",
        "\n",
        "```html\n",
        "<div>Texto</div>",
        "<div>Texto</div>",
        "```\n",
        "\n",
        "```css\n",
        "div {",
        "largura: 100px;",
        "altura: 100px;",
        "margin: 10px;",
        "}",
        "```\n",
        "\n",
        "Desta forma, os `div` ter\u00e3o uma largura e altura de 100px, mas o espa\u00e7o entre os `div` ser\u00e1 de 20px."
      ]
    },
    {
      "cell_type": "markdown",
      "metadata": {},
      "source": [
        "#### Tamanho da caixa"
      ]
    },
    {
      "cell_type": "markdown",
      "metadata": {},
      "source": [
        "Portanto, o que ocupa a caixa \u00e9:",
        "\n",
        "* Largura: `width + padding + border`.",
        "* Altura: `height + padding + border`.",
        "\n",
        "O margem n\u00e3o conta, pois a margem \u00e9 o espa\u00e7o entre as caixas."
      ]
    },
    {
      "cell_type": "markdown",
      "metadata": {},
      "source": [
        "### Box-sizing"
      ]
    },
    {
      "cell_type": "markdown",
      "metadata": {},
      "source": [
        "Por padr\u00e3o, a propriedade `box-sizing` est\u00e1 configurada para `content-box`. Isso significa que a largura e a altura n\u00e3o incluem o padding nem a borda. Por exemplo, se tivermos um `div` com um texto, e colocarmos uma largura e uma altura, a largura e a altura ser\u00e3o aplicadas, e o elemento se comportar\u00e1 como se fosse um bloco.",
        "\n",
        "```html\n",
        "<div>Texto</div>",
        "```\n",
        "\n",
        "```css\n",
        "div {",
        "largura: 100px;",
        "altura: 100px;",
        "}",
        "```\n",
        "\n",
        "Desta forma, o `div` ter\u00e1 uma largura e altura de 100px.",
        "\n",
        "Mas se aplicarmos um padding de 10px, a largura e altura permanecer\u00e3o, mas o tamanho da caixa ser\u00e1 de 120px, pois o padding \u00e9 adicionado \u00e0 largura e altura.",
        "\n",
        "```html\n",
        "<div>Texto</div>",
        "```\n",
        "\n",
        "```css\n",
        "div {",
        "largura: 100px;",
        "altura: 100px;",
        "padding: 10px;",
        "}",
        "```\n",
        "\n",
        "Desta forma, o `div` ter\u00e1 uma largura e altura de 100px, mas o tamanho da caixa ser\u00e1 de 120px."
      ]
    },
    {
      "cell_type": "markdown",
      "metadata": {},
      "source": [
        "Se alter\u00e1ssemos a propriedade `box-sizing` para `border-box`, a largura e a altura incluiriam os preenchimentos (padding) e as bordas (border). Por exemplo, se tivermos um `div` com texto, e definirmos uma largura e uma altura, esses valores ser\u00e3o aplicados, e o elemento se comportar\u00e1 como se fosse um bloco.",
        "\n",
        "```html\n",
        "<div>Texto</div>",
        "```\n",
        "\n",
        "```css\n",
        "div {",
        "largura: 100px;",
        "altura: 100px;",
        "box-sizing: border-box;",
        "}",
        "```\n",
        "\n",
        "Desta forma, o `div` ter\u00e1 uma largura e altura de 100px.",
        "\n",
        "Mas se n\u00f3s agora aplicarmos um padding de 10px, a largura e a altura permanecer\u00e3o, e o tamanho da caixa tamb\u00e9m ser\u00e1 de 100px, pois o padding n\u00e3o \u00e9 adicionado \u00e0 largura e \u00e0 altura.",
        "\n",
        "```html\n",
        "<div>Texto</div>",
        "```\n",
        "\n",
        "```css\n",
        "div {",
        "largura: 100px;",
        "altura: 100px;",
        "box-sizing: border-box;",
        "padding: 10px;",
        "}",
        "```\n",
        "\n",
        "Desta forma, o `div` ter\u00e1 uma largura e altura de 100px, e o tamanho da caixa tamb\u00e9m ser\u00e1 de 100px.",
        "\n",
        "\u00c9 importante ter em conta que quando a propriedade `box-sizing` \u00e9 alterada para `border-box`, a largura e altura incluem o padding e a borda, portanto n\u00e3o podemos definir uma largura e altura menores que o padding e a borda. Por exemplo, se tivermos um `div` com texto, e definirmos uma largura e altura, essas medidas ser\u00e3o aplicadas, e o elemento se comportar\u00e1 como se fosse um bloco.",
        "\n",
        "```html\n",
        "<div>Texto</div>",
        "```\n",
        "\n",
        "```css\n",
        "div {",
        "largura: 100px;",
        "altura: 100px;",
        "box-sizing: border-box;",
        "}",
        "```\n",
        "\n",
        "Desta forma, o `div` ter\u00e1 uma largura e uma altura de 100px.",
        "\n",
        "Mas se agora aplicarmos um padding de 110px, a largura e altura permanecer\u00e3o as mesmas, mas o tamanho da caixa ser\u00e1 de 220px, pois o padding \u00e9 adicionado \u00e0 largura e altura.",
        "\n",
        "```html\n",
        "<div>Texto</div>",
        "```\n",
        "\n",
        "```css\n",
        "div {",
        "largura: 100px;",
        "altura: 100px;",
        "box-sizing: border-box;",
        "padding: 110px;",
        "}",
        "```\n",
        "\n",
        "Desta forma, o `div` ter\u00e1 uma largura e altura de 100px, mas o tamanho da caixa ser\u00e1 de 220px."
      ]
    },
    {
      "cell_type": "markdown",
      "metadata": {},
      "source": [
        "### Overflow"
      ]
    },
    {
      "cell_type": "markdown",
      "metadata": {},
      "source": [
        "Um dos memes mais famosos do CSS \u00e9 o seguinte",
        "\n",
        "![CSS \u00e9 incr\u00edvel](https://css-tricks.com/wp-content/uploads/2021/04/css-is-awesome.jpg)",
        "\n",
        "E isso acontece quando o tamanho do conte\u00fado \u00e9 maior que o tamanho da caixa. Por exemplo, se tivermos um `div` com texto, e definirmos uma largura e uma altura, a largura e a altura ser\u00e3o aplicadas, e o elemento se comportar\u00e1 como se fosse um bloco.",
        "\n",
        "```html\n",
        "<div>Texto</div>",
        "```\n",
        "\n",
        "```css\n",
        "div {",
        "largura: 100px;",
        "altura: 100px;",
        "}",
        "```\n",
        "\n",
        "Desta forma, o `div` ter\u00e1 uma largura e altura de 100px.",
        "\n",
        "Mas se aplicarmos um texto muito longo, o texto sair\u00e1 da caixa, pois o tamanho do conte\u00fado \u00e9 maior que o tamanho da caixa.",
        "\n",
        "```html\n",
        "<div>Texto muito longo</div>",
        "```\n",
        "\n",
        "```css\n",
        "div {",
        "largura: 100px;",
        "altura: 100px;",
        "}",
        "```\n",
        "\n",
        "Desta forma, o `div` ter\u00e1 uma largura e altura de 100px, mas o texto sair\u00e1 da caixa."
      ]
    },
    {
      "cell_type": "markdown",
      "metadata": {},
      "source": [
        "Isso ocorreu porque na CSS a propriedade `overflow` est\u00e1 configurada para `visible`. Isso significa que o conte\u00fado pode sair da caixa. Mas temos outras op\u00e7\u00f5es:",
        "\n",
        "* `hidden`: O conte\u00fado n\u00e3o pode sair da caixa e \u00e9 cortado.",
        "* `scroll`: O conte\u00fado n\u00e3o pode sair da caixa, e uma barra de rolagem \u00e9 adicionada.",
        "* `auto`: O conte\u00fado n\u00e3o pode sair da caixa, e uma barra de rolagem \u00e9 adicionada se necess\u00e1rio. Neste caso, depende do dispositivo, porque se o dispositivo tiver uma barra de rolagem, ser\u00e1 adicionada uma barra de rolagem, e se o dispositivo n\u00e3o tiver uma barra de rolagem, nenhuma barra de rolagem ser\u00e1 adicionada.",
        "\n",
        "Entre `scroll` e `auto` o recomendado \u00e9 `auto`, porque se o dispositivo tiver uma barra de deslocamento, ser\u00e1 adicionada uma barra de deslocamento, e se o dispositivo n\u00e3o tiver uma barra de deslocamento, n\u00e3o ser\u00e1 adicionada uma barra de deslocamento.",
        "\n",
        "![aoverflow](https://lh3.googleusercontent.com/-tVNmvecB8A4/Ukqdi769oPI/AAAAAAAAAd0/kgisEf3RGRk/s538/CU01038D_1.png)"
      ]
    },
    {
      "cell_type": "markdown",
      "metadata": {},
      "source": [
        "### Overflow oculto"
      ]
    },
    {
      "cell_type": "markdown",
      "metadata": {},
      "source": [
        "No caso de escolher `hidden`, o conte\u00fado n\u00e3o pode sair da caixa e \u00e9 cortado. Neste caso, temos a propriedade `text-overflow`, que nos permite configurar o que acontece com o texto que ultrapassa a caixa. As op\u00e7\u00f5es s\u00e3o:",
        "\n",
        "* `clip`: O texto \u00e9 cortado.",
        "* `ellipsis`: O texto \u00e9 cortado e `...` \u00e9 adicionado ao final do texto.",
        "\n",
        "No futuro ser\u00e1 poss\u00edvel colocar um s\u00edmbolo personalizado, mas por enquanto n\u00e3o \u00e9 poss\u00edvel."
      ]
    },
    {
      "cell_type": "markdown",
      "metadata": {},
      "source": [
        "#### Estiliza\u00e7\u00e3o da barra"
      ]
    },
    {
      "cell_type": "markdown",
      "metadata": {},
      "source": [
        "Em caso de ter overflow, \u00e9 poss\u00edvel estilizar a barra, mas \u00e9 recomend\u00e1vel n\u00e3o estilizar a barra da p\u00e1gina e fazer isso apenas em barras de caixas internas. Por exemplo, se na p\u00e1gina houver um \u00edndice lateral e quisermos alterar o tamanho e a cor da barra para que fique melhor, podemos faz\u00ea-lo.",
        "\n",
        "Em [scrollbar.app](https://scrollbar.app/) temos um editor para poder estilizar a barra e obter o c\u00f3digo necess\u00e1rio"
      ]
    },
    {
      "cell_type": "markdown",
      "metadata": {},
      "source": [
        "### Posi\u00e7\u00e3o"
      ]
    },
    {
      "cell_type": "markdown",
      "metadata": {},
      "source": [
        "Em html os elementos s\u00e3o empilhados, s\u00e3o posicionados por padr\u00e3o de maneira est\u00e1tica, isso ocorre porque por padr\u00e3o em CSS eles t\u00eam o atributo `position` com o valor `static`. Isso significa que o elemento \u00e9 posicionado de maneira est\u00e1tica e n\u00e3o pode ser movido. Os valores poss\u00edveis s\u00e3o",
        "\n",
        "* `static`: O elemento \u00e9 posicionado de forma est\u00e1tica e n\u00e3o pode ser movido.",
        "* `relative`: O elemento \u00e9 posicionado de maneira relativa e pode ser movido.",
        "* `absolute`: O elemento \u00e9 posicionado de maneira absoluta e pode ser movido.",
        "* `fixed`: O elemento \u00e9 posicionado de maneira fixa e pode ser movido.",
        "* `sticky`: O elemento \u00e9 posicionado de maneira adesiva e pode ser movido.",
        "\n",
        "![Position](https://miro.medium.com/v2/resize:fit:600/1*WU2bIP1OCaS71r82S5zFeA.jpeg)"
      ]
    },
    {
      "cell_type": "markdown",
      "metadata": {},
      "source": [
        "#### Posi\u00e7\u00e3o relativa"
      ]
    },
    {
      "cell_type": "markdown",
      "metadata": {},
      "source": [
        "Quando queremos que a posi\u00e7\u00e3o de um elemento seja relativa a outro usamos `position: relative;`. Mas temos que colocar `position: relative;` no pai, e `position: absolute;` no filho. Por exemplo, se tivermos um `div` com um texto, e quisermos que o texto esteja no canto superior direito do `div`, podemos fazer isso.",
        "\n",
        "```html\n",
        "<div>",
        "<p>Texto</p>",
        "</div>",
        "```\n",
        "\n",
        "```css\n",
        "div {",
        "posi\u00e7\u00e3o: relativa;",
        "}",
        "\n",
        "p {",
        "posi\u00e7\u00e3o: absoluta;",
        "top: 0;",
        "right: 50px;",
        "}",
        "```\n",
        "\n",
        "Desta forma, o texto ficar\u00e1 no canto superior direito do `div`."
      ]
    },
    {
      "cell_type": "markdown",
      "metadata": {},
      "source": [
        "#### Posi\u00e7\u00e3o absoluta"
      ]
    },
    {
      "cell_type": "markdown",
      "metadata": {},
      "source": [
        "Quando o elemento \u00e9 `absolute`, o elemento \u00e9 posicionado de maneira absoluta em rela\u00e7\u00e3o ao primeiro elemento pai que n\u00e3o seja `static`. No exemplo anterior, vimos que se tivermos um `div` com um texto e quisermos que o texto esteja no canto superior direito do `div`, podemos fazer isso.",
        "\n",
        "```html\n",
        "<div>",
        "<p>Texto</p>",
        "</div>",
        "```\n",
        "\n",
        "```css\n",
        "div {",
        "posi\u00e7\u00e3o: relativa;",
        "}",
        "\n",
        "p {",
        "posi\u00e7\u00e3o: absoluta;",
        "top: 0;",
        "direita: 50px;",
        "}",
        "```\n",
        "\n",
        "Neste exemplo, o `div` tem `position: relative;`, portanto o `p` \u00e9 posicionado de maneira absoluta em rela\u00e7\u00e3o ao `div`, no canto superior direito."
      ]
    },
    {
      "cell_type": "markdown",
      "metadata": {},
      "source": [
        "Em caso de que n\u00e3o haja nenhum elemento pai que n\u00e3o seja `static`, o elemento \u00e9 posicionado de maneira absoluta ao `body`, ou seja, \u00e0 p\u00e1gina.",
        "\n",
        "```html\n",
        "<p>Texto</p>",
        "```\n",
        "\n",
        "```css\n",
        "p {",
        "posi\u00e7\u00e3o: absoluta;",
        "top: 0;",
        "direita: 50px;",
        "}",
        "```\n",
        "\n",
        "Neste exemplo, o `p` n\u00e3o tem nenhum elemento pai que n\u00e3o seja `static`, portanto o `p` \u00e9 posicionado de forma absoluta em rela\u00e7\u00e3o ao `body`. Isso significa que ele aparece no canto superior direito da p\u00e1gina."
      ]
    },
    {
      "cell_type": "markdown",
      "metadata": {},
      "source": [
        "Gra\u00e7as \u00e0s propriedades `relative` e `absolute` podemos centralizar um `div` horizontalmente e verticalmente. Por exemplo, se temos um `div` com um texto, e queremos que o texto esteja centralizado horizontalmente e verticalmente, podemos fazer isso.",
        "\n",
        "```html\n",
        "<div>",
        "<p>Texto</p>",
        "</div>",
        "```\n",
        "\n",
        "```css\n",
        "div {",
        "posi\u00e7\u00e3o: relativa;",
        "}",
        "\n",
        "p {",
        "posi\u00e7\u00e3o: absoluta;",
        "top: 0;",
        "direita: 0;",
        "fundo: 0;",
        "esquerda: 0;",
        "margin: auto;",
        "}",
        "```\n",
        "\n",
        "Neste exemplo, o `div` tem `position: relative;`, portanto o `p` \u00e9 posicionado de forma absoluta dentro do `div`, na esquina superior direita. Al\u00e9m disso, o `p` possui `top: 0;`, `right: 0;`, `bottom: 0;` e `left: 0;`, fazendo com que o `p` ocupe todo o `div`. Por fim, o `p` tem `margin: auto;`, o que centraliza o `p` horizontalmente e verticalmente.",
        "\n",
        "Esta n\u00e3o \u00e9 a melhor maneira de centralizar o conte\u00fado em um `div`, mas pode ser muito \u00fatil em alguns casos, como por exemplo em um modal."
      ]
    },
    {
      "cell_type": "markdown",
      "metadata": {},
      "source": [
        "#### Posi\u00e7\u00e3o fixa"
      ]
    },
    {
      "cell_type": "markdown",
      "metadata": {},
      "source": [
        "Quando o elemento \u00e9 `fixed`, o elemento \u00e9 posicionado de maneira fixa \u00e0 janela. \u00c9 semelhante a `absolute`, mas em vez de se posicionar ao primeiro elemento pai que n\u00e3o seja `static`, ele se posiciona \u00e0 janela. Al\u00e9m disso, se a janela se mover, o elemento se move com ela, ou seja, se fizermos scroll, o elemento sempre estar\u00e1 na mesma posi\u00e7\u00e3o.",
        "\n",
        "Por exemplo, se tivermos um `div` com um texto, e quisermos que o texto esteja no canto superior direito da janela, podemos fazer isso.",
        "\n",
        "```html\n",
        "<div>",
        "<p>Texto</p>",
        "</div>",
        "```\n",
        "\n",
        "```css\n",
        "p {",
        "posi\u00e7\u00e3o: fixed;",
        "top: 0;",
        "direita: 50px;",
        "}",
        "```\n",
        "\n",
        "Neste exemplo, o `p` \u00e9 posicionado de forma fixa na janela, no canto superior direito, e ao fazer scroll, o `p` sempre estar\u00e1 na mesma posi\u00e7\u00e3o."
      ]
    },
    {
      "cell_type": "markdown",
      "metadata": {},
      "source": [
        "#### Posi\u00e7\u00e3o sticky"
      ]
    },
    {
      "cell_type": "markdown",
      "metadata": {},
      "source": [
        "Quando o elemento \u00e9 `sticky`, o elemento \u00e9 posicionado de maneira adesiva ao primeiro elemento pai que n\u00e3o seja `static`.",
        "\n",
        "\u00c9 semelhante a `relative`, mas quando o elemento chega \u00e0 parte superior da janela, o elemento \u00e9 posicionado de forma fixa \u00e0 janela. Al\u00e9m disso, se a janela se mover, o elemento tamb\u00e9m se move com ela, ou seja, se fizermos scroll, o elemento sempre estar\u00e1 na mesma posi\u00e7\u00e3o.",
        "\n",
        "Por exemplo, se tivermos um `div` com um texto, e quisermos que o texto esteja no canto superior direito do `div`, podemos fazer isso.",
        "\n",
        "```html\n",
        "<div>",
        "<p>Texto</p>",
        "</div>",
        "```\n",
        "\n",
        "```css\n",
        "div {",
        "posi\u00e7\u00e3o: relativa;",
        "}",
        "\n",
        "p {",
        "posi\u00e7\u00e3o: sticky;",
        "top: 0;",
        "right: 50px;",
        "}",
        "```\n",
        "\n",
        "Neste exemplo, o `div` tem `position: relative;`, portanto, o `p` \u00e9 posicionado de maneira relativa ao `div`, no canto superior direito. Al\u00e9m disso, o `p` tem `top: 0;`, portanto, o `p` \u00e9 posicionado de maneira pegajosa ao `div`. Isso significa que quando o `p` chega \u00e0 parte superior da janela, o `p` \u00e9 posicionado de maneira fixa \u00e0 janela.",
        "\n",
        "![sticky](https://miro.medium.com/v2/resize:fit:720/format:webp/1*kyrVMytQd1Dt19D0If5q3Q.gif)"
      ]
    },
    {
      "cell_type": "markdown",
      "metadata": {},
      "source": [
        "### Z-index"
      ]
    },
    {
      "cell_type": "markdown",
      "metadata": {},
      "source": [
        "Como vimos ao alterar o `position` de um elemento, o elemento \u00e9 posicionado sobre os demais elementos. Portanto, precisamos ter controle de qual elemento est\u00e1 ou ser\u00e1 exibido acima dos demais. Para isso temos a propriedade `z-index`. Por padr\u00e3o, todos os elementos t\u00eam `z-index: auto;`, mas podemos alter\u00e1-lo. Por exemplo, se tivermos um `div` com um texto, e quisermos que o texto esteja sobre o `div`, podemos fazer isso.",
        "\n",
        "```html\n",
        "<div>",
        "<p>Texto</p>",
        "</div>",
        "```\n",
        "\n",
        "```css\n",
        "div {",
        "posi\u00e7\u00e3o: relativa;",
        "z-index: 0;",
        "}",
        "\n",
        "p {",
        "posi\u00e7\u00e3o: absoluta;",
        "top: 0;",
        "right: 50px;",
        "z-index: 1;",
        "}",
        "```\n",
        "\n",
        "Neste exemplo, o `div` tem `position: relative;` e `z-index: 0;`, portanto o `div` \u00e9 posicionado de forma relativa ao `div`, e o `div` possui um `z-index` de 0. Al\u00e9m disso, o `p` tem `position: absolute;`, `top: 0;`, `right: 50px;` e `z-index: 1;`, portanto o `p` \u00e9 posicionado de forma absoluta ao `div`, no canto superior direito, e o `p` possui um `z-index` de 1. Dessa forma, o `p` estar\u00e1 sobre o `div`."
      ]
    },
    {
      "cell_type": "markdown",
      "metadata": {},
      "source": [
        "Se n\u00e3o for indicado o `z-index`, os filhos t\u00eam um `z-index` maior que os pais. Mas, por exemplo, no caso de `position: sticky;`, o `z-index` do elemento filho \u00e9 maior que o `z-index` do seu pai, mas na hora de fazer scroll, se em algum momento coincidir o filho com outro pai, o outro pai estar\u00e1 por cima.",
        "\n",
        "Se quisermos que esse filho apare\u00e7a acima dos outros pais, podemos controlar com o `z-index`.",
        "\n",
        "No curso de CSS da Google](https://web.dev/learn/css/z-index?hl=es-419) \u00e9 poss\u00edvel ver muito bem como funciona o `z-index`."
      ]
    },
    {
      "cell_type": "markdown",
      "metadata": {},
      "source": [
        "## Flexbox e Grid"
      ]
    },
    {
      "cell_type": "markdown",
      "metadata": {},
      "source": [
        "H\u00e1 duas maneiras de fazer layouts em CSS, com `flexbox` e com `grid`. `Flexbox` \u00e9 mais antigo, e `grid` \u00e9 mais novo. `Flexbox` \u00e9 unidimensional, e `grid` \u00e9 bidimensional. `Flexbox` \u00e9 para layouts simples, e `grid` \u00e9 para layouts complexos."
      ]
    },
    {
      "cell_type": "markdown",
      "metadata": {},
      "source": [
        "## Flexbox"
      ]
    },
    {
      "cell_type": "markdown",
      "metadata": {},
      "source": [
        "Como vimos, temos cont\u00eaineres que t\u00eam `display: block;`, e cont\u00eaineres que t\u00eam `display: inline;`. Os primeiros s\u00e3o exibidos em linhas diferentes, e os segundos s\u00e3o exibidos na mesma linha. Portanto, se tivermos v\u00e1rios `div`s, eles ser\u00e3o exibidos um abaixo do outro, e se tivermos v\u00e1rios `span`s, eles ser\u00e3o exibidos na mesma linha.",
        "\n",
        "Mas se quisermos que os `div`s apare\u00e7am na mesma linha e de forma flex\u00edvel, podemos criar um cont\u00eainer pai que os contenha e fazer com que o cont\u00eainer pai tenha `display: flex;`.",
        "\n",
        "```html\n",
        "<section>",
        "<div>Texto</div>",
        "<div>Texto</div>",
        "<div>Texto</div>",
        "</div>",
        "```\n",
        "\n",
        "```css\n",
        "se\u00e7\u00e3o {",
        "display: flex;",
        "}",
        "```\n",
        "\n",
        "Desta forma, os `div`s ser\u00e3o exibidos na mesma linha e de maneira flex\u00edvel, ou seja, se n\u00e3o couberem na mesma linha, ser\u00e3o colocados na pr\u00f3xima linha."
      ]
    },
    {
      "cell_type": "markdown",
      "metadata": {},
      "source": [
        "### Flex-direction"
      ]
    },
    {
      "cell_type": "markdown",
      "metadata": {},
      "source": [
        "`Flexbox` \u00e9 unidimensional, portanto s\u00f3 pode configurar uma dire\u00e7\u00e3o. Por padr\u00e3o, a propriedade `flex-direction` est\u00e1 configurada como `row`. Isso significa que os elementos s\u00e3o exibidos na mesma linha. Mas podemos alter\u00e1-lo para `column`, para que os elementos sejam exibidos em linhas diferentes.",
        "\n",
        "```html\n",
        "<section>",
        "<div>Texto</div>",
        "<div>Texto</div>",
        "<div>Texto</div>",
        "</section>",
        "```\n",
        "\n",
        "```css\n",
        "se\u00e7\u00e3o {",
        "display: flex;",
        "flex-direction: column;",
        "}",
        "```\n",
        "\n",
        "Desta forma, os `div`s ser\u00e3o exibidos em linhas diferentes.",
        "\n",
        "Isso \u00e9 muito \u00fatil para criar layouts responsivos, pois podemos alterar a dire\u00e7\u00e3o dos elementos dependendo do tamanho da tela."
      ]
    },
    {
      "cell_type": "markdown",
      "metadata": {},
      "source": [
        "Tamb\u00e9m podemos indicar a dire\u00e7\u00e3o, com `flex-direction: row-reverse;` ou `flex-direction: column-reverse;`. Por exemplo, se tivermos v\u00e1rios `div`s, e quisermos que sejam exibidos na mesma linha, mas em sentido contr\u00e1rio, podemos fazer isso.",
        "\n",
        "```html\n",
        "<section>",
        "<div>Texto</div>",
        "<div>Texto</div>",
        "<div>Texto</div>",
        "</section>",
        "```\n",
        "\n",
        "```css\n",
        "se\u00e7\u00e3o {",
        "display: flex;",
        "flex-direction: row-reverse;",
        "}",
        "```\n",
        "\n",
        "Desta forma, os `div`s ser\u00e3o exibidos na mesma linha, mas em sentido contr\u00e1rio.",
        "\n",
        "Isso \u00e9 muito \u00fatil quando queremos ordenar os elementos de maneira inversa, por exemplo, se temos um `ul` com uma lista, e queremos que a lista seja exibida em sentido contr\u00e1rio, dessa forma n\u00e3o \u00e9 necess\u00e1rio programar nada e isso pode ser feito com CSS."
      ]
    },
    {
      "cell_type": "markdown",
      "metadata": {},
      "source": [
        "![flex-direction](https://images.maximofn.com/flex-direction.webp)"
      ]
    },
    {
      "cell_type": "markdown",
      "metadata": {},
      "source": [
        "### Dire\u00e7\u00e3o"
      ]
    },
    {
      "cell_type": "markdown",
      "metadata": {},
      "source": [
        "Outra maneira de indicar o sentido da dire\u00e7\u00e3o \u00e9 com a propriedade `direction`. Por padr\u00e3o, a propriedade `direction` est\u00e1 configurada como `ltr`. Isso significa que o sentido da dire\u00e7\u00e3o \u00e9 de esquerda para direita. Mas podemos alter\u00e1-lo para `rtl`, para que o sentido da dire\u00e7\u00e3o seja de direita para esquerda.",
        "\n",
        "```html\n",
        "<section>",
        "<div>Texto</div>",
        "<div>Texto</div>",
        "<div>Texto</div>",
        "</section>",
        "```\n",
        "\n",
        "```css\n",
        "se\u00e7\u00e3o {",
        "display: flex;",
        "direction: rtl;",
        "}",
        "```\n",
        "\n",
        "![direction](https://rtlstaging.com/img/flexbox-axis.jpg)"
      ]
    },
    {
      "cell_type": "markdown",
      "metadata": {},
      "source": [
        "### Flex-wrap"
      ]
    },
    {
      "cell_type": "markdown",
      "metadata": {},
      "source": [
        "Quando os elementos n\u00e3o cabem na mesma linha, eles s\u00e3o colocados na pr\u00f3xima linha. Mas podemos alterar esse comportamento com a propriedade `flex-wrap`. Por padr\u00e3o, a propriedade `flex-wrap` est\u00e1 configurada como `nowrap`. Isso significa que os elementos n\u00e3o podem ser colocados na pr\u00f3xima linha. Mas podemos mud\u00e1-la para `wrap`, para que os elementos possam ser colocados na pr\u00f3xima linha.",
        "\n",
        "```html\n",
        "<section>",
        "<div>Texto</div>",
        "<div>Texto</div>",
        "<div>Texto</div>",
        "</section>",
        "```\n",
        "\n",
        "```css\n",
        "se\u00e7\u00e3o {",
        "display: flex;",
        "flex-wrap: wrap;",
        "}",
        "```\n",
        "\n",
        "Desta forma, os `div`s poder\u00e3o ser colocados na linha seguinte.",
        "\n",
        "![flex-wrap](https://images.maximofn.com/flex-wrap.webp)"
      ]
    },
    {
      "cell_type": "markdown",
      "metadata": {},
      "source": [
        "### Flex-flow"
      ]
    },
    {
      "cell_type": "markdown",
      "metadata": {},
      "source": [
        "Uma maneira de configurar a dire\u00e7\u00e3o e o wrap dos elementos \u00e9 com a propriedade `flex-flow`. Por padr\u00e3o, a propriedade `flex-flow` est\u00e1 configurada para `row nowrap`. Isso significa que os elementos s\u00e3o exibidos na mesma linha e n\u00e3o podem ser colocados na pr\u00f3xima linha. Mas podemos alter\u00e1-lo para `row wrap`, para que os elementos sejam exibidos na mesma linha e possam ser colocados na pr\u00f3xima linha.",
        "\n",
        "```html\n",
        "<section>",
        "<div>Texto</div>",
        "<div>Texto</div>",
        "<div>Texto</div>",
        "</section>",
        "```\n",
        "\n",
        "```css\n",
        "se\u00e7\u00e3o {",
        "display: flex;",
        "flex-flow: row wrap;",
        "}",
        "```\n",
        "\n",
        "Desta forma, os `div`s ser\u00e3o exibidos na mesma linha e poder\u00e3o ser colocados na pr\u00f3xima linha.",
        "\n",
        "![flex-flow](https://i.stack.imgur.com/6vtqd.png)"
      ]
    },
    {
      "cell_type": "markdown",
      "metadata": {},
      "source": [
        "### Flex-grow, Flex-shrink e Flex-basis"
      ]
    },
    {
      "cell_type": "markdown",
      "metadata": {},
      "source": [
        "Podemos configurar o tamanho dos elementos com as propriedades `flex-grow`, `flex-shrink` e `flex-basis`.",
        "\n",
        "* `flex-grow`: Indica se o elemento pode crescer ou n\u00e3o. Por padr\u00e3o, a propriedade `flex-grow` est\u00e1 configurada para `0`, o que significa que o elemento n\u00e3o pode crescer. Mas podemos alter\u00e1-la para `1`, para que o elemento possa crescer.",
        "* `flex-shrink`: Indica se o elemento pode encolher ou n\u00e3o. Por padr\u00e3o, a propriedade `flex-shrink` est\u00e1 configurada para `1`, o que significa que o elemento pode encolher. Mas podemos alter\u00e1-la para `0`, para que o elemento n\u00e3o possa encolher.",
        "* `flex-basis`: Indica o tamanho do elemento. Por padr\u00e3o, a propriedade `flex-basis` est\u00e1 configurada como `auto`, o que significa que o elemento tem um tamanho autom\u00e1tico. Mas podemos alter\u00e1-lo para `100px`, para que o elemento tenha um tamanho de 100px.",
        "\n",
        "Por exemplo, se temos v\u00e1rios `div`s, e queremos que o primeiro `div` tenha um tamanho de 100px, e os demais dividam o espa\u00e7o restante, podemos fazer isso.",
        "\n",
        "```html\n",
        "<section>",
        "<div>Texto</div>",
        "<div>Texto</div>",
        "<div>Texto</div>",
        "</section>",
        "```\n",
        "\n",
        "```css\n",
        "se\u00e7\u00e3o {",
        "display: flex;",
        "}",
        "\n",
        "section div:first-child {",
        "flex-grow: 0;   /* Como por efeito est\u00e1 a 0, n\u00e3o \u00e9 necess\u00e1rio colocar */",
        "flex-shrink: 0; /* Como por efeito est\u00e1 em 1, n\u00e3o \u00e9 necess\u00e1rio colocar */",
        "flex-basis: 100px;",
        "}",
        "\n",
        "section div {",
        "flex-grow: 1;",
        "flex-shrink: 1;     /* Como por efeito est\u00e1 em 1, n\u00e3o \u00e9 necess\u00e1rio colocar */",
        "flex-basis: auto;   /* Como por efeito est\u00e1 em auto, n\u00e3o \u00e9 necess\u00e1rio coloc\u00e1-lo */",
        "}",
        "```\n",
        "\n",
        "Desta forma, o primeiro `div` ter\u00e1 um tamanho de 100px, e os demais dividir\u00e3o o espa\u00e7o restante."
      ]
    },
    {
      "cell_type": "markdown",
      "metadata": {},
      "source": [
        "\n",
        "Os tr\u00eas valores podem ser modificados de uma vez com a propriedade `flex`. Por exemplo, se tivermos v\u00e1rios `div`s, e quisermos que o primeiro `div` tenha um tamanho de 100px, e os demais se repartam o espa\u00e7o restante, podemos fazer isso.",
        "\n",
        "```html\n",
        "<section>",
        "<div>Texto</div>",
        "<div>Texto</div>",
        "<div>Texto</div>",
        "</section>",
        "```\n",
        "\n",
        "```css\n",
        "se\u00e7\u00e3o {",
        "display: flex;",
        "}",
        "\n",
        "section div:first-child {",
        "flex: 0 0 100px;",
        "}",
        "\n",
        "section div {",
        "flex: 1 1 auto;",
        "}",
        "```\n",
        "\n",
        "Desta forma, o primeiro `div` ter\u00e1 um tamanho de 100px, e os demais dividir\u00e3o o espa\u00e7o restante."
      ]
    },
    {
      "cell_type": "markdown",
      "metadata": {},
      "source": [
        "O tamb\u00e9m se pode modificar de uma vez com `flex: initial;`, que \u00e9 o mesmo que `flex: 0 1 auto;`. Ou com `flex: auto;`, que \u00e9 o mesmo que `flex: 1 1 auto;`. Ou com `flex: none;`, que \u00e9 o mesmo que `flex: 0 0 auto;`. Ou com `flex: 1;`, que \u00e9 o mesmo que `flex: 1 1 0%;`."
      ]
    },
    {
      "cell_type": "markdown",
      "metadata": {},
      "source": [
        "Outra forma de modificar `flex` \u00e9 colocando n\u00fameros, que indicar\u00e3o o espa\u00e7o relativo do cont\u00eainer. Por exemplo, se tivermos v\u00e1rios `div`s, e quisermos que o primeiro tenha o dobro do espa\u00e7o do segundo, e o segundo tenha o dobro do espa\u00e7o do terceiro, podemos fazer isso.",
        "\n",
        "```html\n",
        "<section>",
        "<div>Texto</div>",
        "<div>Texto</div>",
        "<div>Texto</div>",
        "</section>",
        "```\n",
        "\n",
        "```css\n",
        "se\u00e7\u00e3o {",
        "display: flex;",
        "}",
        "\n",
        "section div:first-child {",
        "flex: 4;",
        "}",
        "\n",
        "section div:nth-child(2) {",
        "flex: 4;",
        "}",
        "\n",
        "section div:nth-child(3) {",
        "flex: 1;",
        "}",
        "```\n",
        "\n",
        "Desta forma, o primeiro `div` ter\u00e1 o dobro do espa\u00e7o do segundo, e o segundo ter\u00e1 o dobro do espa\u00e7o do terceiro."
      ]
    },
    {
      "cell_type": "markdown",
      "metadata": {},
      "source": [
        "### Ordem"
      ]
    },
    {
      "cell_type": "markdown",
      "metadata": {},
      "source": [
        "Podemos ordenar os elementos dentro de um cont\u00eainer com a propriedade `order`. Por padr\u00e3o, a propriedade `order` est\u00e1 configurada para `0`. Mas podemos alter\u00e1-la para `1`, para que o elemento fique depois dos elementos que t\u00eam `order: 0;`. Ou podemos alter\u00e1-la para `-1`, para que o elemento fique antes dos elementos que t\u00eam `order: 0;`.",
        "\n",
        "\u00c9 como o `z-index`, mas para a ordem dos elementos. Quanto maior for o `order`, mais tarde ser\u00e1 posicionado o elemento. Por exemplo, se tivermos v\u00e1rios `div`s, e quisermos que o primeiro `div` seja posicionado ap\u00f3s o segundo, podemos fazer isso.",
        "\n",
        "```html\n",
        "<section>",
        "<div>Texto 1</div>",
        "<div>Texto 2</div>",
        "<div>Texto 3</div>",
        "</section>",
        "```\n",
        "\n",
        "```css\n",
        "se\u00e7\u00e3o {",
        "display: flex;",
        "}",
        "\n",
        "section div:first-child {",
        "ordem: 1;",
        "}",
        "\n",
        "section div {",
        "ordem: 0;",
        "}",
        "```\n",
        "\n",
        "O resultado ser\u00e1",
        "\n",
        "Texto 2",
        "\n",
        "Por favor, forne\u00e7a o texto markdown que deseja que eu traduzza para o portugu\u00eas.",
        "\n",
        "Texto 1",
        "\n",
        "![order](https://p6-juejin.byteimg.com/tos-cn-i-k3u1fbpfcp/8a7d45de6a88466ca3f98f4f0505f4d7~tplv-k3u1fbpfcp-zoom-in-crop-mark:1512:0:0:0.awebp)"
      ]
    },
    {
      "cell_type": "markdown",
      "metadata": {},
      "source": [
        "### Justificar-conte\u00fado"
      ]
    },
    {
      "cell_type": "markdown",
      "metadata": {},
      "source": [
        "Como `Flexbox` \u00e9 unidimensional, podemos configurar o alinhamento dos itens do cont\u00eainer no eixo do `Flexbox` do cont\u00eainer. Isso significa que, se o eixo do `Flexbox` do cont\u00eainer for horizontal, podemos configurar o alinhamento dos itens do cont\u00eainer no eixo horizontal. E se o eixo do `Flexbox` do cont\u00eainer for vertical, podemos configurar o alinhamento dos itens do cont\u00eainer no eixo vertical.",
        "\n",
        "Os poss\u00edveis valores s\u00e3o:",
        "\n",
        "* `flex-start`: Os elementos s\u00e3o justificados no in\u00edcio do eixo do `Flexbox` do cont\u00eainer.",
        "* `flex-end`: Os elementos s\u00e3o justificados ao final do eixo do `Flexbox` do cont\u00eainer.",
        "* `center`: Os elementos s\u00e3o justificados no centro do eixo do `Flexbox` do cont\u00eainer.",
        "* `space-between`: Os elementos s\u00e3o justificados com o mesmo espa\u00e7o entre eles. N\u00e3o h\u00e1 espa\u00e7o nos lados do primeiro e \u00faltimo elemento.",
        "* `space-around`: Os elementos s\u00e3o justificados com o mesmo espa\u00e7o ao redor deles.",
        "* `space-evenly`: Os elementos s\u00e3o justificados com o mesmo espa\u00e7o entre eles e ao redor deles. Isso significa que \u00e9 semelhante a `space-between`, mas aos lados do primeiro e \u00faltimo elemento h\u00e1 espa\u00e7o. O espa\u00e7o nos lados \u00e9 o mesmo que o espa\u00e7o entre os elementos.",
        "\n",
        "![justify-content](https://css-tricks.com/wp-content/uploads/2018/10/justify-content.svg)"
      ]
    },
    {
      "cell_type": "markdown",
      "metadata": {},
      "source": [
        "### Espa\u00e7o"
      ]
    },
    {
      "cell_type": "markdown",
      "metadata": {},
      "source": [
        "Suponha que temos v\u00e1rios elementos dentro de um cont\u00eainer e colocamos `justify-content: center;`. Isso far\u00e1 com que os elementos estejam centralizados no cont\u00eainer, mas grudados uns nos outros. Se quisermos que haja um espa\u00e7o entre os elementos, podemos colocar `gap: 10px;`. Dessa forma, haver\u00e1 um espa\u00e7o de 10px entre os elementos.",
        "\n",
        "```html\n",
        "<section>",
        "<div>Texto 1</div>",
        "<div>Texto 2</div>",
        "<div>Texto 3</div>",
        "</section>",
        "```\n",
        "\n",
        "```css\n",
        "se\u00e7\u00e3o {",
        "display: flex;",
        "justify-content: center;",
        "gap: 10px;",
        "}",
        "```\n",
        "\n",
        "I'm unable to view images directly. However, if you can describe the image or provide details about it, I'd be happy to help you with any questions or information you're looking for!"
      ]
    },
    {
      "cell_type": "markdown",
      "metadata": {},
      "source": [
        "### Alinhar-itens"
      ]
    },
    {
      "cell_type": "markdown",
      "metadata": {},
      "source": [
        "At\u00e9 agora vimos como distribuir os elementos no eixo principal do `Flexbox`. Mas, o que acontece com o eixo secund\u00e1rio? Para isso temos a propriedade `align-items`. Esta propriedade nos permite alinhar os elementos no eixo secund\u00e1rio do `Flexbox`.",
        "\n",
        "```html\n",
        "<section>",
        "<div>Texto 1</div>",
        "<div>Texto 2</div>",
        "<div>Texto 3</div>",
        "</section>",
        "```\n",
        "\n",
        "```css\n",
        "se\u00e7\u00e3o {",
        "display: flex;",
        "align-items: center;",
        "}",
        "```\n",
        "\n",
        "![align-items](https://css-tricks.com/wp-content/uploads/2018/10/align-items.svg)"
      ]
    },
    {
      "cell_type": "markdown",
      "metadata": {},
      "source": [
        "### Alinhar-conte\u00fado"
      ]
    },
    {
      "cell_type": "markdown",
      "metadata": {},
      "source": [
        "Com `align-content` podemos alinhar o conte\u00fado do cont\u00eainer no eixo secund\u00e1rio. Esta propriedade \u00e9 semelhante a `align-items`, mas em vez de alinhar os elementos, alinha o conte\u00fado do cont\u00eainer.",
        "\n",
        "```html\n",
        "<section>",
        "<div>Texto 1</div>",
        "<div>Texto 2</div>",
        "<div>Texto 3</div>",
        "</section>",
        "```\n",
        "\n",
        "```css\n",
        "se\u00e7\u00e3o {",
        "display: flex;",
        "align-content: center;",
        "flex-wrap: wrap;",
        "altura: 200px;",
        "}",
        "```\n",
        "\n",
        "![align-content](https://css-tricks.com/wp-content/uploads/2018/10/align-content.svg)"
      ]
    },
    {
      "cell_type": "markdown",
      "metadata": {},
      "source": [
        "### Align-content vs Align-items"
      ]
    },
    {
      "cell_type": "markdown",
      "metadata": {},
      "source": [
        "Como pode haver confus\u00e3o entre `align-content` e `align-items`, vamos ver um exemplo para ver a diferen\u00e7a entre ambas as propriedades.",
        "\n",
        "```html\n",
        "<section>",
        "<div>Texto 1</div>",
        "<div>Texto 2</div>",
        "<div>Texto 3</div>",
        "<div>Texto 4</div>",
        "<div>Texto 5</div>",
        "<div>Texto 6</div>",
        "<div>Texto 7</div>",
        "<div>Texto 8</div>",
        "<div>Texto 9</div>",
        "</section>",
        "```\n",
        "\n",
        "```css\n",
        "se\u00e7\u00e3o {",
        "display: flex;",
        "align-items: center;",
        "align-content: center;",
        "flex-wrap: wrap;",
        "altura: 200px;",
        "}",
        "```\n",
        "\n",
        "Com `align-items` alinhamos os elementos no eixo secund\u00e1rio, enquanto com `align-content` alinhamos o conte\u00fado do cont\u00eainer no eixo secund\u00e1rio. Isso significa que com `align-items` alinhamos os elementos entre si, enquanto com `align-content` alinhamos o conte\u00fado do cont\u00eainer. No exemplo anterior, podemos ver que com `align-items` os elementos se alinham entre si, enquanto com `align-content` o conte\u00fado do cont\u00eainer se alinha no eixo secund\u00e1rio."
      ]
    },
    {
      "cell_type": "markdown",
      "metadata": {},
      "source": [
        "### Alinhar-se"
      ]
    },
    {
      "cell_type": "markdown",
      "metadata": {},
      "source": [
        "\u00c0s vezes, precisamos alinhar um elemento no eixo secund\u00e1rio de forma diferente do restante dos elementos. Para isso, temos a propriedade `align-self`. Esta propriedade nos permite alinhar um elemento no eixo secund\u00e1rio de forma diferente do restante dos elementos.",
        "\n",
        "At\u00e9 agora alinh\u00e1vamos os elementos no pai, mas com `align-self` podemos alinhar um elemento no eixo secund\u00e1rio de forma diferente do restante dos elementos.",
        "\n",
        "```html\n",
        "<section>",
        "<div>Texto 1</div>",
        "<div>Texto 2</div>",
        "<div>Texto 3</div>",
        "</section>",
        "```\n",
        "\n",
        "```css\n",
        "se\u00e7\u00e3o {",
        "display: flex;",
        "align-items: center;",
        "}",
        "\n",
        "section div:nth-child(2) {",
        "align-self: flex-end;",
        "}",
        "```\n",
        "\n",
        "![align-self](https://css-tricks.com/wp-content/uploads/2018/10/align-self.svg)"
      ]
    },
    {
      "cell_type": "markdown",
      "metadata": {},
      "source": [
        "### Pr\u00e1tica de Flexbox"
      ]
    },
    {
      "cell_type": "markdown",
      "metadata": {},
      "source": [
        "Um bom recurso para praticar Flexbox \u00e9 [Flexbox Froggy](https://flexboxfroggy.com/#es)."
      ]
    },
    {
      "cell_type": "markdown",
      "metadata": {},
      "source": [
        "## Grade"
      ]
    },
    {
      "cell_type": "markdown",
      "metadata": {},
      "source": [
        "Se precisarmos criar um layout mais complexo, podemos utilizar `Grid`. `Grid` \u00e9 um sistema de grade bidimensional que nos permite criar layouts mais complexos do que com `Flexbox`.",
        "\n",
        "![grid](https://miro.medium.com/v2/resize:fit:860/1*FifZUGz97Onmb7RUOairbg.png)"
      ]
    },
    {
      "cell_type": "markdown",
      "metadata": {},
      "source": [
        "### Cont\u00eainer grid"
      ]
    },
    {
      "cell_type": "markdown",
      "metadata": {},
      "source": [
        "Vamos ver um exemplo de como fazer layout com `Grid`. Para isso, vamos usar a seguinte estrutura HTML.",
        "\n",
        "```html\n",
        "<section>",
        "<div>Texto 1</div>",
        "<div>Texto 2</div>",
        "<div>Texto 3</div>",
        "<div>Texto 4</div>",
        "<div>Texto 5</div>",
        "<div>Texto 6</div>",
        "<div>Texto 7</div>",
        "<div>Texto 8</div>",
        "<div>Texto 9</div>",
        "</section>",
        "```\n",
        "\n",
        "Para criar um `Grid` precisamos criar um cont\u00eainer com a propriedade `display: grid`, lembremos que por padr\u00e3o os cont\u00eaineres t\u00eam `display:block`. Este cont\u00eainer \u00e9 conhecido como `Grid container`.",
        "\n",
        "```css\n",
        "se\u00e7\u00e3o {",
        "display: grid;",
        "}",
        "```\n",
        "\n",
        "Este c\u00f3digo criar\u00e1 um `Grid` com uma \u00fanica coluna e tantas linhas quantos itens tivermos."
      ]
    },
    {
      "cell_type": "markdown",
      "metadata": {},
      "source": [
        "Se quisermos mudar o n\u00famero de colunas, podemos usar a propriedade `grid-template-columns`. Esta propriedade nos permite definir o n\u00famero de colunas que ter\u00e1 nosso `Grid`. Para definir o n\u00famero de colunas podemos usar unidades de medida como `px`, `em`, `rem`, `fr`, etc.",
        "\n",
        "V\u00e3o ser criadas tantas colunas quantas unidades de medida definirmos. No exemplo seguinte, vamos criar 3 colunas de 100px cada uma.",
        "\n",
        "```css\n",
        "se\u00e7\u00e3o {",
        "display: grid;",
        "grid-template-columns: 100px 100px 100px;",
        "}",
        "```\n",
        "\n",
        "Com este exemplo, criamos uma `Grid` com 3 colunas de 100px cada uma."
      ]
    },
    {
      "cell_type": "markdown",
      "metadata": {},
      "source": [
        "Podemos definir a largura de uma das colunas com `auto` e o resto com uma medida, desta forma a coluna com `auto` se adaptar\u00e1 ao conte\u00fado, enquanto as demais colunas ter\u00e3o a largura que lhes tenhamos definido.",
        "\n",
        "Ao colocar `auto`, ser\u00e1 o navegador quem decidir\u00e1 a largura da coluna com base no espa\u00e7o dispon\u00edvel no cont\u00eainer e no espa\u00e7o ocupado pelo conte\u00fado da coluna.",
        "\n",
        "```css\n",
        "se\u00e7\u00e3o {",
        "display: grid;",
        "grid-template-columns: auto 100px 100px;",
        "}",
        "```\n",
        "\n",
        "A primeira coluna se adaptar\u00e1 ao conte\u00fado, enquanto as outras duas ter\u00e3o uma largura de 100px.",
        "\n",
        "Se definirmos duas colunas com `auto`, o navegador distribuir\u00e1 o espa\u00e7o entre as duas colunas, mas n\u00e3o necessariamente ser\u00e1 o mesmo espa\u00e7o para cada coluna, pois, como dissemos, o espa\u00e7o depender\u00e1 do espa\u00e7o do cont\u00eainer e do espa\u00e7o do conte\u00fado.",
        "\n",
        "```css\n",
        "se\u00e7\u00e3o {",
        "display: grid;",
        "grid-template-columns: auto auto 100px;",
        "}",
        "```\n",
        "\n",
        "Neste exemplo, as duas primeiras colunas se ajustar\u00e3o ao conte\u00fado, enquanto a terceira ter\u00e1 uma largura de 100px."
      ]
    },
    {
      "cell_type": "markdown",
      "metadata": {},
      "source": [
        "### Fra\u00e7\u00e3o"
      ]
    },
    {
      "cell_type": "markdown",
      "metadata": {},
      "source": [
        "H\u00e1 uma unidade de medida que s\u00f3 existe em `Grid` e \u00e9 `fr`. Esta unidade de medida nos permite definir a largura das colunas com base no espa\u00e7o dispon\u00edvel no cont\u00eainer.",
        "\n",
        "```css\n",
        "se\u00e7\u00e3o {",
        "display: grid;",
        "grid-template-columns: 1fr 1fr 1fr;",
        "}",
        "```\n",
        "\n",
        "Neste exemplo, as tr\u00eas colunas ter\u00e3o a mesma largura, pois o espa\u00e7o dispon\u00edvel no cont\u00eainer ser\u00e1 distribu\u00eddo igualmente entre as tr\u00eas colunas.",
        "\n",
        "```css\n",
        "se\u00e7\u00e3o {",
        "display: grid;",
        "grid-template-columns: 1fr 2fr 1fr;",
        "}",
        "```\n",
        "\n",
        "Neste exemplo, a segunda coluna ter\u00e1 o dobro da largura das outras duas, pois o espa\u00e7o dispon\u00edvel no cont\u00eainer ser\u00e1 distribu\u00eddo entre as tr\u00eas colunas, mas a segunda coluna ter\u00e1 o dobro de espa\u00e7o em rela\u00e7\u00e3o \u00e0s outras duas."
      ]
    },
    {
      "cell_type": "markdown",
      "metadata": {},
      "source": [
        "Podemos fazer o mesmo com as linhas, para isso usamos a propriedade `grid-template-rows`.",
        "\n",
        "```css\n",
        "se\u00e7\u00e3o {",
        "display: grid;",
        "grid-template-columns: 1fr 2fr 1fr;",
        "grid-template-rows: 1fr 2fr 1fr;",
        "}",
        "```"
      ]
    },
    {
      "cell_type": "markdown",
      "metadata": {},
      "source": [
        "### Grade vazia"
      ]
    },
    {
      "cell_type": "markdown",
      "metadata": {},
      "source": [
        "Dissemos que podemos dividir a `Grid` em colunas e linhas, para isso colocamos tantas unidades de medida quantas colunas ou linhas quisermos. Mas o que acontece se colocarmos mais unidades de medida do que precisamos.",
        "\n",
        "```html\n",
        "<section>",
        "<div>Texto 1</div>",
        "<div>Texto 2</div>",
        "<div>Texto 3</div>",
        "<div>Texto 4</div>",
        "<div>Texto 5</div>",
        "<div>Texto 6</div>",
        "<div>Texto 7</div>",
        "<div>Texto 8</div>",
        "<div>Texto 9</div>",
        "</section>",
        "```\n",
        "\n",
        "```css\n",
        "se\u00e7\u00e3o {",
        "display: grid;",
        "grid-template-columns: 1fr 1fr 1fr 1fr;",
        "grid-template-rows: 1fr 1fr 1fr 1fr;",
        "}",
        "```\n",
        "\n",
        "Neste exemplo, ser\u00e1 criada uma `Grid` com 4 colunas e 4 linhas, mas temos apenas 9 elementos, enquanto criamos uma grade de 16 elementos. O que acontece com os 7 elementos sobrando? O navegador os cria vazios."
      ]
    },
    {
      "cell_type": "markdown",
      "metadata": {},
      "source": [
        "### Grid-auto-rows"
      ]
    },
    {
      "cell_type": "markdown",
      "metadata": {},
      "source": [
        "Se a hora de criar o `Grid` s\u00f3 definirmos o valor de `grid-template-columns`, o navegador criar\u00e1 as linhas necess\u00e1rias para as colunas que definimos, mas as criar\u00e1 com o tamanho padr\u00e3o, ou seja, com o tamanho do conte\u00fado.",
        "\n",
        "Se quisermos definir o tamanho das linhas, podemos usar a propriedade `grid-auto-rows`. Esta propriedade nos permite definir o tamanho das linhas que s\u00e3o criadas por padr\u00e3o.",
        "\n",
        "```css\n",
        "se\u00e7\u00e3o {",
        "display: grid;",
        "grid-template-columns: 1fr 1fr 1fr 1fr;",
        "grid-auto-rows: 100px;",
        "}",
        "```\n",
        "\n",
        "Neste exemplo, ser\u00e1 criado um `Grid` com 4 colunas e tantas linhas quantos elementos tivermos, mas o tamanho das linhas ser\u00e1 de 100px."
      ]
    },
    {
      "cell_type": "markdown",
      "metadata": {},
      "source": [
        "Suponhamos que tamb\u00e9m definimos `grid-template-rows`, mas definimos o tamanho das primeiras linhas e n\u00e3o de todas as linhas necess\u00e1rias, com `grid-auto-rows` podemos definir o tamanho das linhas que faltam.",
        "\n",
        "```css\n",
        "se\u00e7\u00e3o {",
        "display: grid;",
        "grid-template-columns: 1fr 1fr 1fr 1fr;",
        "grid-template-rows: 100px 100px;",
        "grid-auto-rows: 50px;",
        "}",
        "```\n",
        "\n",
        "Neste exemplo, ser\u00e1 criado um `Grid` com 4 colunas e tantas linhas quantos elementos tivermos, mas o tamanho das duas primeiras linhas ser\u00e1 de 100px, enquanto o tamanho do resto das linhas ser\u00e1 de 50px.",
        "\n",
        "Isso \u00e9 muito \u00fatil quando n\u00e3o sabemos quantos elementos vamos ter, pois podemos definir o tamanho das primeiras linhas e o tamanho das linhas que s\u00e3o criadas por padr\u00e3o."
      ]
    },
    {
      "cell_type": "markdown",
      "metadata": {},
      "source": [
        "### Repetir"
      ]
    },
    {
      "cell_type": "markdown",
      "metadata": {},
      "source": [
        "Vamos imaginar que queremos criar um `Grid` com 100 colunas e todas do mesmo tamanho. Ter\u00edamos que escrever 100 vezes a unidade de medida que queremos usar. Para evitar isso, podemos utilizar a propriedade `repeat`.",
        "\n",
        "```css\n",
        "se\u00e7\u00e3o {",
        "display: grid;",
        "grid-template-columns: repeat(100, 1fr);",
        "}",
        "```\n",
        "\n",
        "Com `repeat` podemos definir o n\u00famero de colunas que queremos e a unidade de medida que queremos utilizar."
      ]
    },
    {
      "cell_type": "markdown",
      "metadata": {},
      "source": [
        "Podemos usar `repeat` com subpartes da grade. Por exemplo, imaginemos que queremos criar novamente 100 colunas, mas queremos que a primeira e a \u00faltima coluna tenham uma largura de 100px e o resto das colunas tenham uma largura de 1fr.",
        "\n",
        "```css\n",
        "se\u00e7\u00e3o {",
        "display: grid;",
        "grid-template-columns: 100px repeat(98, 1fr) 100px;",
        "}",
        "```"
      ]
    },
    {
      "cell_type": "markdown",
      "metadata": {},
      "source": [
        "Agora suponhamos que temos um padr\u00e3o de colunas que se repete a cada 3 colunas. Podemos utilizar `repeat` para definir esse padr\u00e3o.",
        "\n",
        "```css\n",
        "se\u00e7\u00e3o {",
        "display: grid;",
        "grid-template-columns: repeat(3, 100px 1fr);",
        "}",
        "```\n",
        "\n",
        "Desta forma criamos uma grade de 6 colunas, onde o padr\u00e3o se repete a cada 2 colunas."
      ]
    },
    {
      "cell_type": "markdown",
      "metadata": {},
      "source": [
        "### minmax"
      ]
    },
    {
      "cell_type": "markdown",
      "metadata": {},
      "source": [
        "Talvez n\u00e3o saibamos o tamanho exato de uma linha ou uma coluna, mas o que queremos \u00e9 que ela ocupe um tamanho entre um m\u00ednimo e um m\u00e1ximo. Para isso, podemos utilizar a propriedade `minmax`.",
        "\n",
        "```css\n",
        "se\u00e7\u00e3o {",
        "display: grid;",
        "grid-template-columns: minmax(100px, 1fr) 1fr 1fr 1fr;",
        "}",
        "```\n",
        "\n",
        "Neste exemplo queremos que cada coluna tenha 25% da largura do cont\u00eainer, mas que a primeira coluna tenha uma largura m\u00ednima de 100px. Ou seja, se o espa\u00e7o ocupado pela primeira coluna for menor que 100px, a coluna ter\u00e1 uma largura de 100px, mas se o espa\u00e7o ocupado pela primeira coluna for maior que 100px, a coluna ter\u00e1 uma largura de 25% do cont\u00eainer.",
        "\n",
        "Isso \u00e9 muito \u00fatil, por exemplo, quando temos um \u00edndice no lado da p\u00e1gina e queremos que ele ocupe uma largura m\u00ednima, mas que se o espa\u00e7o dispon\u00edvel for maior, ele ocupe o espa\u00e7o que lhe cabe.",
        "\n",
        "```html\n",
        "<div>",
        "<aside>\u00cdndice</aside>",
        "<main>Conte\u00fado</main>",
        "</div>",
        "```\n",
        "\n",
        "```css\n",
        "div {",
        "display: grid;",
        "grid-template-columns: minmax(100px, 1fr) 5fr;",
        "}",
        "```\n",
        "\n",
        "Desta forma, o \u00edndice ter\u00e1 uma largura m\u00ednima de 100px, mas se o espa\u00e7o dispon\u00edvel for maior, o \u00edndice ocupar\u00e1 o espa\u00e7o que lhe cabe."
      ]
    },
    {
      "cell_type": "markdown",
      "metadata": {},
      "source": [
        "### Grid-column-gap e Grid-row-gap"
      ]
    },
    {
      "cell_type": "markdown",
      "metadata": {},
      "source": [
        "Se quisermos adicionar um espa\u00e7o entre as colunas ou entre as linhas, podemos utilizar as propriedades `grid-column-gap` e `grid-row-gap`.",
        "\n",
        "```css\n",
        "se\u00e7\u00e3o {",
        "display: grid;",
        "grid-template-columns: repeat(3, 100px);",
        "grid-column-gap: 20px;",
        "}",
        "```\n",
        "\n",
        "Neste exemplo, criamos um `Grid` com 3 colunas de 100px cada uma e um espa\u00e7o de 20px entre as colunas.",
        "\n",
        "```css\n",
        "se\u00e7\u00e3o {",
        "display: grid;",
        "grid-template-columns: repeat(3, 100px);",
        "grid-row-gap: 20px;",
        "}",
        "```\n",
        "\n",
        "Neste exemplo criamos um `Grid` com 3 colunas de 100px cada uma e um espa\u00e7o de 20px entre as linhas."
      ]
    },
    {
      "cell_type": "markdown",
      "metadata": {},
      "source": [
        "Podemos definir o espa\u00e7o entre as colunas e as linhas com a propriedade `grid-gap`.",
        "\n",
        "```css\n",
        "se\u00e7\u00e3o {",
        "display: grid;",
        "grid-template-columns: repeat(3, 100px);",
        "grid-gap: 20px 10px;",
        "}",
        "```\n",
        "\n",
        "Neste exemplo, criamos um `Grid` com 3 colunas de 100px cada uma e um espa\u00e7amento de 20px entre as colunas e um espa\u00e7amento de 10px entre as linhas.",
        "\n",
        "```css\n",
        "se\u00e7\u00e3o {",
        "display: grid;",
        "grid-template-columns: repeat(3, 100px);",
        "grid-gap: 20px;",
        "}",
        "```\n",
        "\n",
        "Neste exemplo criamos um `Grid` com 3 colunas de 100px cada uma e um espa\u00e7o de 20px entre as colunas e as linhas."
      ]
    },
    {
      "cell_type": "markdown",
      "metadata": {},
      "source": [
        "### Auto-fill e Auto-fit"
      ]
    },
    {
      "cell_type": "markdown",
      "metadata": {},
      "source": [
        "Com `auto-fill` e `auto-fit` podemos criar um `Grid` com um n\u00famero de colunas ou linhas que se adapte ao espa\u00e7o dispon\u00edvel no cont\u00eainer, assim podemos tornar o `Grid` responsivo.",
        "\n",
        "```css\n",
        "se\u00e7\u00e3o {",
        "display: grid;",
        "grid-template-columns: repeat(auto-fill, 100px);",
        "}",
        "```\n",
        "\n",
        "Neste exemplo, ser\u00e3o criadas tantas colunas quantas couberem no cont\u00eainer, mas cada coluna ter\u00e1 uma largura de 100px.",
        "\n",
        "```css\n",
        "se\u00e7\u00e3o {",
        "display: grid;",
        "grid-template-columns: repeat(auto-fit, 100px);",
        "}",
        "```\n",
        "\n",
        "Neste exemplo, ser\u00e3o criadas tantas colunas quantas couberem no cont\u00eainer, mas cada coluna ter\u00e1 uma largura de 100px e, se houver espa\u00e7o sobrando no cont\u00eainer, o espa\u00e7o ser\u00e1 distribu\u00eddo entre as colunas."
      ]
    },
    {
      "cell_type": "markdown",
      "metadata": {},
      "source": [
        "Agora podemos torn\u00e1-lo mais completo",
        "\n",
        "```css\n",
        "se\u00e7\u00e3o {",
        "display: grid;",
        "grid-template-columns: repeat(auto-fit, minmax(100px, 1fr));",
        "}",
        "```\n",
        "\n",
        "Neste exemplo, ser\u00e3o criadas tantas colunas quantas couberem no cont\u00eainer, mas cada coluna ter\u00e1 uma largura m\u00ednima de 100px e, se houver espa\u00e7o sobrando no cont\u00eainer, o espa\u00e7o ser\u00e1 distribu\u00eddo entre as colunas. \u00c0 medida que reduzirmos o tamanho do navegador, as colunas ir\u00e3o se adaptar ao espa\u00e7o dispon\u00edvel, at\u00e9 que chegue um momento em que, para caberem, deveriam ter uma largura menor de 100px, por isso uma coluna ser\u00e1 eliminada e o espa\u00e7o ser\u00e1 redistribu\u00eddo entre as colunas restantes.",
        "\n",
        "```css\n",
        "se\u00e7\u00e3o {",
        "display: grid;",
        "grid-template-columns: repeat(auto-fit, minmax(100px, 1fr));",
        "grid-gap: 20px;",
        "}",
        "```\n",
        "\n",
        "Neste exemplo, ser\u00e3o criadas tantas colunas quantas couberem no cont\u00eainer, mas cada coluna ter\u00e1 uma largura m\u00ednima de 100px e, se houver espa\u00e7o sobrando no cont\u00eainer, o espa\u00e7o ser\u00e1 distribu\u00eddo entre as colunas e haver\u00e1 um espa\u00e7amento de 20px entre as colunas."
      ]
    },
    {
      "cell_type": "markdown",
      "metadata": {},
      "source": [
        "### Auto-preenchimento vs Auto-ajuste"
      ]
    },
    {
      "cell_type": "markdown",
      "metadata": {},
      "source": [
        "A diferen\u00e7a entre `auto-fill` e `auto-fit` \u00e9 que `auto-fill` cria tantas colunas ou linhas quanto couberem no cont\u00eainer, enquanto `auto-fit` cria tantas colunas ou linhas quanto couberem no cont\u00eainer, mas se houver espa\u00e7o sobrando no cont\u00eainer, o espa\u00e7o ser\u00e1 distribu\u00eddo entre as colunas ou linhas.",
        "\n",
        "Isto \u00e9, `auto-fill` cria tantas colunas ou linhas quantas couberem no cont\u00eainer, mas se houver espa\u00e7o sobrando no cont\u00eainer, o espa\u00e7o n\u00e3o ser\u00e1 distribu\u00eddo entre as colunas ou linhas, enquanto `auto-fit` cria tantas colunas ou linhas quantas couberem no cont\u00eainer, mas se houver espa\u00e7o sobrando no cont\u00eainer, o espa\u00e7o ser\u00e1 distribu\u00eddo entre as colunas ou linhas."
      ]
    },
    {
      "cell_type": "markdown",
      "metadata": {},
      "source": [
        "### Grid-column-start e Grid-column-end (grade flex\u00edvel)"
      ]
    },
    {
      "cell_type": "markdown",
      "metadata": {},
      "source": [
        "At\u00e9 agora vimos como criar um `Grid` com colunas e linhas, mas e se quisermos que um elemento ocupe mais de uma coluna ou linha? Para isso temos as propriedades `grid-column-start` e `grid-column-end`.",
        "\n",
        "```html\n",
        "<section>",
        "<div>Texto 1</div>",
        "<div>Texto 2</div>",
        "<div>Texto 3</div>",
        "<div>Texto 4</div>",
        "<div>Texto 5</div>",
        "<div>Texto 6</div>",
        "<div>Texto 7</div>",
        "<div>Texto 8</div>",
        "<div>Texto 9</div>",
        "</section>",
        "```\n",
        "\n",
        "```css\n",
        "se\u00e7\u00e3o {",
        "display: grid;",
        "grid-template-columns: repeat(3, 100px);",
        "grid-gap: 20px;",
        "}",
        "\n",
        "section div:nth-child(2) {",
        "grid-column-start: 1;",
        "grid-column-end: 3;",
        "}",
        "```\n",
        "\n",
        "Neste exemplo, criamos um `Grid` com 3 colunas de 100px cada uma e um espa\u00e7o de 20px entre as colunas. O segundo elemento ocupa da primeira coluna at\u00e9 a terceira coluna."
      ]
    },
    {
      "cell_type": "markdown",
      "metadata": {},
      "source": [
        "Tamb\u00e9m podemos dizer o in\u00edcio e o fim da coluna com a propriedade `grid-column`.",
        "\n",
        "```css\n",
        "se\u00e7\u00e3o {",
        "display: grid;",
        "grid-template-columns: repeat(3, 100px);",
        "grid-gap: 20px;",
        "}",
        "\n",
        "section div:nth-child(2) {",
        "grid-column: 1 / 3;",
        "}",
        "```\n",
        "\n",
        "Neste exemplo, criamos um `Grid` com 3 colunas de 100px cada uma e um espa\u00e7amento de 20px entre as colunas. O segundo elemento ocupa da primeira coluna at\u00e9 a terceira coluna."
      ]
    },
    {
      "cell_type": "markdown",
      "metadata": {},
      "source": [
        "Se n\u00e3o quisermos dizer onde deve terminar, mas quantas colunas devem ser ocupadas, podemos usar a propriedade `span`.",
        "\n",
        "```css\n",
        "se\u00e7\u00e3o {",
        "display: grid;",
        "grid-template-columns: repeat(3, 100px);",
        "grid-gap: 20px;",
        "}",
        "\n",
        "section div:nth-child(2) {",
        "grid-column-start: 1;",
        "grid-column-end: span 2;",
        "}",
        "```\n",
        "\n",
        "Neste exemplo, criamos um `Grid` com 3 colunas de 100px cada uma e um espa\u00e7o de 20px entre as colunas. O segundo elemento ocupa da primeira coluna at\u00e9 a segunda coluna, ou seja, ocupa duas colunas."
      ]
    },
    {
      "cell_type": "markdown",
      "metadata": {},
      "source": [
        "Se quisermos posicion\u00e1-los no final, mas n\u00e3o soubermos quantas colunas existem, podemos utilizar n\u00fameros negativos.",
        "\n",
        "```css\n",
        "se\u00e7\u00e3o {",
        "display: grid;",
        "grid-template-columns: repeat(3, 100px);",
        "grid-gap: 20px;",
        "}",
        "\n",
        "section div:nth-child(2) {",
        "grid-column-start: 1;",
        "grid-column-end: -1;",
        "}",
        "```\n",
        "\n",
        "Neste exemplo criamos um `Grid` com 3 colunas de 100px cada uma e um espa\u00e7o de 20px entre as colunas. O segundo elemento ocupa da primeira coluna at\u00e9 a \u00faltima coluna, ou seja, ocupa as tr\u00eas colunas."
      ]
    },
    {
      "cell_type": "markdown",
      "metadata": {},
      "source": [
        "### Grid-row-start e Grid-row-end (grade flex\u00edvel)"
      ]
    },
    {
      "cell_type": "markdown",
      "metadata": {},
      "source": [
        "Podemos fazer o mesmo com as linhas, para isso temos as propriedades `grid-row-start` e `grid-row-end`.",
        "\n",
        "```html\n",
        "<section>",
        "<div>Texto 1</div>",
        "<div>Texto 2</div>",
        "<div>Texto 3</div>",
        "<div>Texto 4</div>",
        "<div>Texto 5</div>",
        "<div>Texto 6</div>",
        "<div>Texto 7</div>",
        "<div>Texto 8</div>",
        "<div>Texto 9</div>",
        "</section>",
        "```\n",
        "\n",
        "```css\n",
        "se\u00e7\u00e3o {",
        "display: grid;",
        "grid-template-columns: repeat(3, 100px);",
        "grid-gap: 20px;",
        "}",
        "\n",
        "section div:nth-child(2) {",
        "grid-row-start: 1;",
        "grid-row-end: 3;",
        "}",
        "```\n",
        "\n",
        "Neste exemplo, criamos um `Grid` com 3 colunas de 100px cada uma e um espa\u00e7o de 20px entre as colunas. O segundo elemento ocupa da primeira linha at\u00e9 a terceira linha."
      ]
    },
    {
      "cell_type": "markdown",
      "metadata": {},
      "source": [
        "Tamb\u00e9m podemos dizer o in\u00edcio e o fim da linha com a propriedade `grid-row`.",
        "\n",
        "```css\n",
        "se\u00e7\u00e3o {",
        "display: grid;",
        "grid-template-columns: repeat(3, 100px);",
        "grid-gap: 20px;",
        "}",
        "\n",
        "section div:nth-child(2) {",
        "grid-row: 1 / 3;",
        "}",
        "```"
      ]
    },
    {
      "cell_type": "markdown",
      "metadata": {},
      "source": [
        "Assim como antes, se n\u00e3o quisermos dizer onde deve terminar, mas quantas linhas devem ser ocupadas, podemos usar a propriedade `span`.",
        "\n",
        "```css\n",
        "se\u00e7\u00e3o {",
        "display: grid;",
        "grid-template-columns: repeat(3, 100px);",
        "grid-gap: 20px;",
        "}",
        "\n",
        "section div:nth-child(2) {",
        "grid-row-start: 1;",
        "grid-row-end: span 2;",
        "}",
        "```\n",
        "\n",
        "Neste exemplo, criamos um `Grid` com 3 colunas de 100px cada uma e um espa\u00e7o de 20px entre as colunas. O segundo elemento ocupa da primeira linha at\u00e9 a segunda linha, ou seja, ocupa duas linhas."
      ]
    },
    {
      "cell_type": "markdown",
      "metadata": {},
      "source": [
        "Se quisermos posicion\u00e1-los no final, mas n\u00e3o sabemos quantas linhas existem, podemos utilizar n\u00fameros negativos.",
        "\n",
        "```css\n",
        "se\u00e7\u00e3o {",
        "display: grid;",
        "grid-template-columns: repeat(3, 100px);",
        "grid-gap: 20px;",
        "}",
        "\n",
        "section div:nth-child(2) {",
        "grid-row-start: 1;",
        "grid-row-end: -1;",
        "}",
        "```\n",
        "\n",
        "Neste exemplo criamos um `Grid` com 3 colunas de 100px cada uma e um espa\u00e7o de 20px entre as colunas. O segundo elemento ocupa da primeira linha at\u00e9 a \u00faltima linha, ou seja, ocupa as tr\u00eas linhas."
      ]
    },
    {
      "cell_type": "markdown",
      "metadata": {},
      "source": [
        "### Sobreposi\u00e7\u00e3o de elementos"
      ]
    },
    {
      "cell_type": "markdown",
      "metadata": {},
      "source": [
        "Podemos posicionar os elementos de forma que se sobreponham uns aos outros.",
        "\n",
        "```html\n",
        "<section>",
        "<div>Texto 1</div>",
        "<div>Texto 2</div>",
        "<div>Texto 3</div>",
        "<div>Texto 4</div>",
        "<div>Texto 5</div>",
        "<div>Texto 6</div>",
        "<div>Texto 7</div>",
        "<div>Texto 8</div>",
        "<div>Texto 9</div>",
        "</section>",
        "```\n",
        "\n",
        "```css\n",
        "se\u00e7\u00e3o {",
        "display: grid;",
        "grid-template-columns: repeat(3, 100px);",
        "grid-gap: 20px;",
        "}",
        "\n",
        "section div:first-child {",
        "grid-column-start: 1;",
        "grid-column-end: 2;",
        "grid-row-start: 1;",
        "grid-row-end: 2;",
        "}",
        "\n",
        "section div:nth-child(2) {",
        "grid-column-start: 1;",
        "grid-column-end: 2;",
        "grid-row-start: 1;",
        "grid-row-end: 2;",
        "}",
        "```\n",
        "\n",
        "Neste exemplo, criamos um `Grid` com 3 colunas de 100px cada uma e um espa\u00e7o de 20px entre as colunas. O primeiro elemento ocupa da primeira coluna at\u00e9 a segunda coluna e da primeira linha at\u00e9 a segunda linha. O segundo elemento ocupa da primeira coluna at\u00e9 a segunda coluna e da primeira linha at\u00e9 a segunda linha."
      ]
    },
    {
      "cell_type": "markdown",
      "metadata": {},
      "source": [
        "Para controlar qual dos elementos se sobrep\u00f5e ao outro, podemos utilizar a propriedade `z-index`.",
        "\n",
        "```css\n",
        "se\u00e7\u00e3o {",
        "display: grid;",
        "grid-template-columns: repeat(3, 100px);",
        "grid-gap: 20px;",
        "}",
        "\n",
        "section div:first-child {",
        "grid-column-start: 1;",
        "grid-column-end: 2;",
        "grid-row-start: 1;",
        "grid-row-end: 2;",
        "z-index: 1;",
        "}",
        "\n",
        "section div:nth-child(2) {",
        "grid-column-start: 1;",
        "grid-column-end: 2;",
        "grid-row-start: 1;",
        "grid-row-end: 2;",
        "z-index: 2;",
        "}",
        "```\n",
        "\n",
        "Neste exemplo criamos um `Grid` com 3 colunas de 100px cada uma e um espa\u00e7o de 20px entre as colunas. O primeiro elemento ocupa da primeira coluna at\u00e9 a segunda coluna e da primeira linha at\u00e9 a segunda linha. O segundo elemento ocupa da primeira coluna at\u00e9 a segunda coluna e da primeira linha at\u00e9 a segunda linha. Como o segundo elemento tem um `z-index` maior que o primeiro elemento, o segundo elemento se sobrep\u00f5e ao primeiro."
      ]
    },
    {
      "cell_type": "markdown",
      "metadata": {},
      "source": [
        "### Layouts com Grid"
      ]
    },
    {
      "cell_type": "markdown",
      "metadata": {},
      "source": [
        "Agora que conhecemos as propriedades b\u00e1sicas de `Grid`, vamos ver como podemos criar layouts com `Grid`.",
        "\n",
        "```html\n",
        "<header>Cabe\u00e7alho</header>",
        "<aside>Aparte</aside>",
        "<main>Principal</main>",
        "<footer>Rodap\u00e9</footer>",
        "```\n",
        "\n",
        "```css\n",
        "body {",
        "display: grid;",
        "grid-template-columns: 1fr 1fr 1fr;",
        "grid-template-rows: 35px 1fr 100px;",
        "min-height: 100vh;",
        "}",
        "\n",
        "cabe\u00e7alho {",
        "grid-column: 1 / -1;",
        "}",
        "\n",
        "main {",
        "grid-column: span 2;",
        "}",
        "\n",
        "footer {",
        "grid-column: 1 / -1;",
        "}",
        "```\n",
        "\n",
        "Neste exemplo criamos um `Grid` com 3 colunas e 3 linhas. A primeira linha tem uma altura de 35px, a segunda linha ocupa o resto do espa\u00e7o dispon\u00edvel e a terceira linha tem uma altura de 100px. O header ocupa desde a primeira coluna at\u00e9 a \u00faltima coluna, o main ocupa desde a primeira coluna at\u00e9 a segunda coluna e o footer ocupa desde a primeira coluna at\u00e9 a \u00faltima coluna.",
        "\n",
        "N\u00f3s colocamos `min-height: 100vh` para que o `Grid` ocupe 100% da altura da tela, pois se n\u00e3o colocarmos isso, o `Grid` s\u00f3 ocupar\u00e1 a altura do conte\u00fado."
      ]
    },
    {
      "cell_type": "markdown",
      "metadata": {},
      "source": [
        "No entanto, na hora de visualizar o CSS, \u00e9 dif\u00edcil entend\u00ea-lo, ent\u00e3o podemos usar a propriedade `grid-area`."
      ]
    },
    {
      "cell_type": "markdown",
      "metadata": {},
      "source": [
        "### Grid-area"
      ]
    },
    {
      "cell_type": "markdown",
      "metadata": {},
      "source": [
        "Podemos dar um nome a cada uma das \u00e1reas do `Grid` e depois usar esse nome para posicionar os elementos.",
        "\n",
        "```html\n",
        "<header>Cabe\u00e7alho</header>",
        "<aside>Aparte</aside>",
        "<main>Principal</main>",
        "<footer>Rodap\u00e9</footer>",
        "```\n",
        "\n",
        "```css\n",
        "corpo {",
        "display: grid;",
        "grid-template-columns: 1fr 1fr 1fr;",
        "grid-template-rows: 35px 1fr 100px;",
        "min-height: 100vh;",
        "grid-template-areas:",
        "\"header header header\"",
        "\"conte\u00fado da barra lateral conte\u00fado\"",
        "\"rodap\u00e9 rodap\u00e9 rodap\u00e9\";",
        "}",
        "\n",
        "cabe\u00e7alho {",
        "grid-area: cabe\u00e7alho;",
        "}",
        "\n",
        "main {",
        "grid-area: conte\u00fado;",
        "}",
        "\n",
        "footer {",
        "grid-area: rodap\u00e9;",
        "}",
        "\n",
        "aside {",
        "grid-area: barra-lateral;",
        "}",
        "```\n",
        "\n",
        "Como demos nomeado cada uma das \u00e1reas do `Grid`, podemos usar esse nome para posicionar os elementos. Dessa forma, \u00e9 mais f\u00e1cil entender o CSS."
      ]
    },
    {
      "cell_type": "markdown",
      "metadata": {},
      "source": [
        "Se quis\u00e9ssemos torn\u00e1-lo responsivo, apenas ter\u00edamos que alterar o `Grid` e o resto do CSS permaneceria igual.",
        "\n",
        "```css\n",
        "corpo {",
        "display: grid;",
        "grid-template-columns: 1fr 1fr 1fr;",
        "grid-template-rows: 35px 1fr 100px;",
        "min-height: 100vh;",
        "grid-template-areas:",
        "\"cabe\u00e7alho cabe\u00e7alho cabe\u00e7alho\"",
        "\"conte\u00fado da barra lateral conte\u00fado\"",
        "\"rodap\u00e9 rodap\u00e9 rodap\u00e9\";",
        "}",
        "\n",
        "@media (width < 400px) {",
        "corpo {",
        "grid-template-columns: 1fr;",
        "grid-template-rows: 35px 1fr 100px;",
        "grid-template-areas:",
        "\"cabe\u00e7alho cabe\u00e7alho barra lateral\"",
        "\"conte\u00fado conte\u00fado conte\u00fado\"",
        "\"rodap\u00e9 rodap\u00e9 rodap\u00e9\";",
        "}",
        "\n",
        "cabe\u00e7alho {",
        "grid-area: cabe\u00e7alho;",
        "}",
        "\n",
        "main {",
        "grid-area: conte\u00fado;",
        "}",
        "\n",
        "footer {",
        "grid-area: rodap\u00e9;",
        "}",
        "\n",
        "aside {",
        "grid-area: barra-lateral;",
        "}",
        "```\n",
        "\n",
        "Agora fizemos com que, quando visualizemos em um dispositivo grande, o sidebar esteja \u00e0 esquerda e o conte\u00fado \u00e0 direita, mas quando visualizarmos em um dispositivo pequeno, o sidebar esteja acima e o conte\u00fado abaixo."
      ]
    },
    {
      "cell_type": "markdown",
      "metadata": {},
      "source": [
        "Suponhamos que queremos que em uma \u00e1rea n\u00e3o haja nada, podemos colocar um ponto.",
        "\n",
        "```css\n",
        "corpo {",
        "display: grid;",
        "grid-template-columns: 1fr 1fr 1fr;",
        "grid-template-rows: 35px 1fr 100px;",
        "min-height: 100vh;",
        "grid-template-areas:",
        "\"cabe\u00e7alho cabe\u00e7alho cabe\u00e7alho\"",
        "\"barra lateral . conte\u00fado\"",
        "\"rodap\u00e9 rodap\u00e9 rodap\u00e9\";",
        "}",
        "\n",
        "@media (largura < 400px) {",
        "corpo {",
        "grid-template-columns: 1fr;",
        "grid-template-rows: 35px 1fr 100px;",
        "grid-template-areas:",
        "\"cabe\u00e7alho cabe\u00e7alho barra lateral\"",
        "\"conte\u00fado conte\u00fado conte\u00fado\"",
        "\"rodap\u00e9 rodap\u00e9 rodap\u00e9\";",
        "}",
        "\n",
        "cabe\u00e7alho {",
        "grid-area: cabe\u00e7alho;",
        "}",
        "\n",
        "main {",
        "grid-area: conte\u00fado;",
        "}",
        "\n",
        "footer {",
        "grid-area: rodap\u00e9;",
        "}",
        "\n",
        "aside {",
        "grid-area: barra-lateral;",
        "}",
        "```\n",
        "\n",
        "Agora em telas grandes h\u00e1 um espa\u00e7o entre a barra lateral e o conte\u00fado."
      ]
    },
    {
      "cell_type": "markdown",
      "metadata": {},
      "source": [
        "### Justify-items, Align-items, Justify-content e Align-content"
      ]
    },
    {
      "cell_type": "markdown",
      "metadata": {},
      "source": [
        "Podemos alinhar o conte\u00fado e os elementos de um `Grid` com as propriedades `justify-items`, `align-items`, `justify-content` e `align-content`.",
        "\n",
        "![grid justify](https://miro.medium.com/v2/resize:fit:1080/1*y9RuktkbVshp7lmVmZrbeQ.png)"
      ]
    },
    {
      "cell_type": "markdown",
      "metadata": {},
      "source": [
        "#### Justificar-itens"
      ]
    },
    {
      "cell_type": "markdown",
      "metadata": {},
      "source": [
        "Podemos alinhar os elementos no eixo X do `Grid` com a propriedade `justify-items`.",
        "\n",
        "Os valores que podemos utilizar s\u00e3o:",
        "\n",
        "- `start`: alinha os elementos no in\u00edcio do eixo principal.",
        "- `end`: alinha os elementos ao final do eixo principal.",
        "- `center`: alinha os elementos no centro do eixo principal.",
        "- `stretch`: estica os elementos para que ocupem todo o espa\u00e7o dispon\u00edvel no eixo principal.",
        "\n",
        "```html\n",
        "<section>",
        "<div>Texto 1</div>",
        "<div>Texto 2</div>",
        "<div>Texto 3</div>",
        "</section>",
        "```\n",
        "\n",
        "```css\n",
        "se\u00e7\u00e3o {",
        "display: grid;",
        "justify-items: center;",
        "}",
        "```"
      ]
    },
    {
      "cell_type": "markdown",
      "metadata": {},
      "source": [
        "#### Justificar-se"
      ]
    },
    {
      "cell_type": "markdown",
      "metadata": {},
      "source": [
        "Com `justify-items` alinhamos todos os elementos no eixo principal do `Grid`, mas com `justify-self` podemos alinhar um elemento no eixo principal do `Grid` de forma diferente ao restante dos elementos.",
        "\n",
        "```html\n",
        "<section>",
        "<div>Texto 1</div>",
        "<div>Texto 2</div>",
        "<div>Texto 3</div>",
        "</section>",
        "```\n",
        "\n",
        "```css\n",
        "se\u00e7\u00e3o {",
        "display: grid;",
        "justify-items: center;",
        "}",
        "\n",
        "section div:nth-child(2) {",
        "justify-self: end;",
        "}",
        "```\n",
        "\n",
        "It looks like you've shared an image, but I'm not able to view or interpret the contents of images directly. If you could provide a description of what's in the image or any specific details you'd like to discuss, I'd be happy to help!"
      ]
    },
    {
      "cell_type": "markdown",
      "metadata": {},
      "source": [
        "#### Alinhar-itens"
      ]
    },
    {
      "cell_type": "markdown",
      "metadata": {},
      "source": [
        "\u00c9 muito semelhante a `justify-items`, mas em vez de alinhar os elementos no eixo X, ele os alinha no eixo Y.",
        "\n",
        "Os valores que podemos utilizar s\u00e3o:",
        "\n",
        "- `start`: alinha os elementos no in\u00edcio do eixo secund\u00e1rio.",
        "- `end`: alinha os elementos ao final do eixo secund\u00e1rio.",
        "- `center`: alinha os elementos no centro do eixo secund\u00e1rio.",
        "- `stretch`: estica os elementos para que ocupem todo o espa\u00e7o dispon\u00edvel no eixo secund\u00e1rio.",
        "\n",
        "```html\n",
        "<section>",
        "<div>Texto 1</div>",
        "<div>Texto 2</div>",
        "<div>Texto 3</div>",
        "</section>",
        "```\n",
        "\n",
        "```css\n",
        "se\u00e7\u00e3o {",
        "display: grid;",
        "align-items: center;",
        "}",
        "```"
      ]
    },
    {
      "cell_type": "markdown",
      "metadata": {},
      "source": [
        "#### Alinhar-se"
      ]
    },
    {
      "cell_type": "markdown",
      "metadata": {},
      "source": [
        "Com `align-items` alinhamos todos os elementos no eixo secund\u00e1rio do `Grid`, mas com `align-self` podemos alinhar um elemento no eixo secund\u00e1rio do `Grid` de forma diferente do restante dos elementos.",
        "\n",
        "```html\n",
        "<section>",
        "<div>Texto 1</div>",
        "<div>Texto 2</div>",
        "<div>Texto 3</div>",
        "</section>",
        "```\n",
        "\n",
        "```css\n",
        "se\u00e7\u00e3o {",
        "display: grid;",
        "align-items: center;",
        "}",
        "\n",
        "section div:nth-child(2) {",
        "align-self: end;",
        "}",
        "```\n",
        "\n",
        "I'm unable to view or interpret images directly. Could you provide a description of the image or the context in which it's being used? I'd be happy to help with any questions or information related to it!"
      ]
    },
    {
      "cell_type": "markdown",
      "metadata": {},
      "source": [
        "#### Place-content"
      ]
    },
    {
      "cell_type": "markdown",
      "metadata": {},
      "source": [
        "Se quisermos usar `justify-content` e `align-content` ao mesmo tempo, podemos usar `place-content`.",
        "\n",
        "Os valores que podemos utilizar s\u00e3o:",
        "\n",
        "- `start`: alinha os elementos no in\u00edcio do eixo principal e secund\u00e1rio.",
        "- `end`: alinha os elementos ao final do eixo principal e secund\u00e1rio.",
        "- `center`: alinha os elementos no centro do eixo principal e secund\u00e1rio.",
        "- `stretch`: estica os elementos para que ocupem todo o espa\u00e7o dispon\u00edvel nos eixos principal e secund\u00e1rio.",
        "\n",
        "```html\n",
        "<section>",
        "<div>Texto 1</div>",
        "<div>Texto 2</div>",
        "<div>Texto 3</div>",
        "</section>",
        "```\n",
        "\n",
        "```css\n",
        "se\u00e7\u00e3o {",
        "display: grid;",
        "place-content: center;",
        "}",
        "```"
      ]
    },
    {
      "cell_type": "markdown",
      "metadata": {},
      "source": [
        "### Pr\u00e1tica de Grid"
      ]
    },
    {
      "cell_type": "markdown",
      "metadata": {},
      "source": [
        "Um bom recurso para praticar Grid \u00e9 [Grid Garden](https://cssgridgarden.com/)."
      ]
    },
    {
      "cell_type": "markdown",
      "metadata": {},
      "source": [
        "## Centralizar um div"
      ]
    },
    {
      "cell_type": "markdown",
      "metadata": {},
      "source": [
        "At\u00e9 agora vimos 3 formas de centralizar um `div`:",
        "\n",
        "- Com `position: absolute`.",
        "- Com `display: flex`.",
        "- Com `display: grid`."
      ]
    },
    {
      "cell_type": "markdown",
      "metadata": {},
      "source": [
        "## Anima\u00e7\u00f5es"
      ]
    },
    {
      "cell_type": "markdown",
      "metadata": {},
      "source": [
        "Dentro das anima\u00e7\u00f5es existem dois tipos: as `transi\u00e7\u00f5es` e as `anima\u00e7\u00f5es`"
      ]
    },
    {
      "cell_type": "markdown",
      "metadata": {},
      "source": [
        "### Transi\u00e7\u00f5es"
      ]
    },
    {
      "cell_type": "markdown",
      "metadata": {},
      "source": [
        "Nas transi\u00e7\u00f5es, alteramos um elemento de um estado inicial para um estado objetivo."
      ]
    },
    {
      "cell_type": "markdown",
      "metadata": {},
      "source": [
        "Suponhamos que temos o seguinte c\u00edrculo",
        "\n",
        "```html\n",
        "<div class=\"pulser\"></div>",
        "```\n",
        "\n",
        "E seu css",
        "\n",
        "```css\n",
        ".pulso {",
        "largura: 30px;",
        "altura: 30px;",
        "background-color: #09f;",
        "border-radius: 50%;",
        "posi\u00e7\u00e3o: relativa;",
        "}",
        "```\n",
        "\n",
        "Os elementos HTML podem ter estados, por exemplo o estado `hover`, que \u00e9 quando o usu\u00e1rio passa o cursor sobre o elemento.",
        "\n",
        "```css\n",
        ".pulser:hover {",
        "escala: 2;",
        "background: roxo;",
        "box-shadow: 0 0 10px roxo;",
        "}",
        "```\n",
        "\n",
        "Ao fazer `scale` fazemos com que o tamanho aumente, mas ocupando o mesmo espa\u00e7o. No entanto, se tiv\u00e9ssemos alterado o `width` e o `height`, o bot\u00e3o teria mudado de lugar."
      ]
    },
    {
      "cell_type": "markdown",
      "metadata": {},
      "source": [
        "#### Transi\u00e7\u00e3o"
      ]
    },
    {
      "cell_type": "markdown",
      "metadata": {},
      "source": [
        "O que acontece \u00e9 que, se agora passarmos o mouse sobre o c\u00edrculo, o estado muda de repente, ent\u00e3o aqui \u00e9 onde entra a `transi\u00e7\u00e3o`, que \u00e9 como indicamos ao CSS como o estado deve ser modificado. Por exemplo, se quisermos que a transi\u00e7\u00e3o dure 1 segundo",
        "\n",
        "```css\n",
        ".pulso {",
        "largura: 30px;",
        "altura: 30px;",
        "background-color: #09f;",
        "border-radius: 50%;",
        "posi\u00e7\u00e3o: relativa;",
        "transi\u00e7\u00e3o: 1s;",
        "}",
        "```"
      ]
    },
    {
      "cell_type": "markdown",
      "metadata": {},
      "source": [
        "\u00c9 importante colocar a transi\u00e7\u00e3o em `.pulser` e n\u00e3o em `.pulser:hover` porque, caso contr\u00e1rio, a transi\u00e7\u00e3o n\u00e3o seria aplicada ao voltar ao estado inicial. Isso significa que quando passarmos o mouse sobre o c\u00edrculo veremos a transi\u00e7\u00e3o, mas quando retirarmos o mouse do c\u00edrculo n\u00e3o haver\u00e1 uma transi\u00e7\u00e3o de volta, e sim uma mudan\u00e7a abrupta para o estado inicial."
      ]
    },
    {
      "cell_type": "markdown",
      "metadata": {},
      "source": [
        "O que se quer transicionar `transition-property`"
      ]
    },
    {
      "cell_type": "markdown",
      "metadata": {},
      "source": [
        "Com o anterior, seria feita uma transi\u00e7\u00e3o de cor, tamanho e fundo, mas se n\u00e3o quisermos que ocorra uma transi\u00e7\u00e3o de tudo, podemos indic\u00e1-lo atrav\u00e9s de `transition-property`.",
        "\n",
        "```css\n",
        ".pulso {",
        "largura: 30px;",
        "altura: 30px;",
        "background-color: #09f;",
        "border-radius: 50%;",
        "posi\u00e7\u00e3o: relativa;",
        "transi\u00e7\u00e3o: 1s;",
        "transition-property: background-color, scale;",
        "}",
        "```\n",
        "\n",
        "Desta forma, apenas ser\u00e1 feita a transi\u00e7\u00e3o de `background-color` e `scale`"
      ]
    },
    {
      "cell_type": "markdown",
      "metadata": {},
      "source": [
        "#### Transi\u00e7\u00f5es suaves"
      ]
    },
    {
      "cell_type": "markdown",
      "metadata": {},
      "source": [
        "A transi\u00e7\u00e3o padr\u00e3o \u00e9 feita de maneira linear, mas se quisermos alter\u00e1-la, podemos fazer isso usando `transition-timing-function`.",
        "\n",
        "```css\n",
        ".pulso {",
        "largura: 30px;",
        "altura: 30px;",
        "background-color: #09f;",
        "border-radius: 50%;",
        "posi\u00e7\u00e3o: relativa;",
        "transi\u00e7\u00e3o: 1s;",
        "transition-property: background-color, scale;",
        "transition-timing-function: ease-in-out;",
        "}",
        "```\n",
        "\n",
        "Desta forma, a transi\u00e7\u00e3o ser\u00e1 mais suave no in\u00edcio e no fim. Os poss\u00edveis valores s\u00e3o os seguintes:",
        "\n",
        "+ linear",
        "+ facilidade",
        "+ facilidade-de-entrada",
        "+ facilidade-de-sa\u00edda",
        "+ entrada-sa\u00edda-suave",
        "+ cubic-bezier(n,n,n,n)"
      ]
    },
    {
      "cell_type": "markdown",
      "metadata": {},
      "source": [
        "#### Transi\u00e7\u00f5es passo a passo"
      ]
    },
    {
      "cell_type": "markdown",
      "metadata": {},
      "source": [
        "Se quisermos que a anima\u00e7\u00e3o seja feita em v\u00e1rios passos, podemos usar `steps(n)`, onde `n` \u00e9 o n\u00famero de passos que queremos que tenha a anima\u00e7\u00e3o.",
        "\n",
        "```css\n",
        ".pulso {",
        "largura: 30px;",
        "altura: 30px;",
        "background-color: #09f;",
        "border-radius: 50%;",
        "posi\u00e7\u00e3o: relativa;",
        "transi\u00e7\u00e3o: 1s;",
        "transition-property: background-color, scale;",
        "transition-timing-function: steps(5);",
        "}",
        "```\n",
        "\n",
        "Desta forma, a transi\u00e7\u00e3o ser\u00e1 realizada em 5 etapas durante um segundo."
      ]
    },
    {
      "cell_type": "markdown",
      "metadata": {},
      "source": [
        "#### Controle total da transi\u00e7\u00e3o com cubic-bezier"
      ]
    },
    {
      "cell_type": "markdown",
      "metadata": {},
      "source": [
        "Para poder controlar perfeitamente a transi\u00e7\u00e3o podemos usar `cubic-bezier(n,n,n,n)`, onde `n` \u00e9 um n\u00famero entre 0 e 1 que indica a posi\u00e7\u00e3o do ponto no eixo X e Y",
        "\n",
        "```css\n",
        ".pulso {",
        "largura: 30px;",
        "altura: 30px;",
        "background-color: #09f;",
        "border-radius: 50%;",
        "posi\u00e7\u00e3o: relativa;",
        "transi\u00e7\u00e3o: 1s;",
        "transition-property: background-color, scale;",
        "transition-timing-function: cubic-bezier(0.1, 0.7, 1.0, 0.1);",
        "}",
        "```"
      ]
    },
    {
      "cell_type": "markdown",
      "metadata": {},
      "source": [
        "Com `delay` podemos indicar o tempo que tem que passar at\u00e9 que se inicie a transi\u00e7\u00e3o",
        "\n",
        "```css\n",
        ".pulso {",
        "largura: 30px;",
        "altura: 30px;",
        "background-color: #09f;",
        "border-radius: 50%;",
        "posi\u00e7\u00e3o: relativa;",
        "transi\u00e7\u00e3o: 1s;",
        "transition-property: background-color, scale;",
        "transition-timing-function: cubic-bezier(0.1, 0.7, 1.0, 0.1);",
        "transition-delay: 1s;",
        "}",
        "```\n",
        "\n",
        "Com o `delay` \u00e9 poss\u00edvel fazer anima\u00e7\u00f5es de carregamento, por exemplo",
        "\n",
        "```html\n",
        "<section>",
        "Fa\u00e7a hover para mostrar os elementos",
        "<div class=\"pulser\"></div>",
        "<div class=\"pulser\"></div>",
        "<div class=\"pulser\"></div>",
        "</section>",
        "```\n",
        "\n",
        "```css\n",
        "se\u00e7\u00e3o {",
        "display: flex;",
        "flex-direction: column;",
        "align-items: center;",
        "justify-content: center;",
        "altura: 100vh;",
        "}",
        "\n",
        ".pulso {",
        "largura: 30px;",
        "altura: 30px;",
        "border-radius: 50%;",
        "posi\u00e7\u00e3o: relativa;",
        "posi\u00e7\u00e3o: relativa;",
        "opacidade: 0;",
        "transi\u00e7\u00e3o: 2s;",
        "transition-timing-function: ease;",
        "}",
        "\n",
        "se\u00e7\u00e3o {",
        "display: flex;",
        "gap: 16px;",
        "justify-content: center;",
        "align-items: center;",
        "}",
        "\n",
        "section:hover .pulser {",
        "opacidade: 1;",
        "}",
        "\n",
        ".pulser:first-child {",
        "transition-delay: 0s;",
        "}",
        "\n",
        ".pulso:nth-child(2) {",
        "transition-delay: 300ms;",
        "}",
        "\n",
        ".pulser:last-child {",
        "transition-delay: 600ms;",
        "}",
        "```"
      ]
    },
    {
      "cell_type": "markdown",
      "metadata": {},
      "source": [
        "Em [easings.co](https://easings.co/) podemos ver e configurar as transi\u00e7\u00f5es"
      ]
    },
    {
      "cell_type": "markdown",
      "metadata": {},
      "source": [
        "#### Tudo em uma linha"
      ]
    },
    {
      "cell_type": "markdown",
      "metadata": {},
      "source": [
        "Em `.pulser` colocamos `transition` e `transition-timing-function`, mas tamb\u00e9m podemos colocar tudo em uma linha.",
        "\n",
        "```css\n",
        ".pulso {",
        "largura: 30px;",
        "altura: 30px;",
        "background-color: #09f;",
        "border-radius: 50%;",
        "posi\u00e7\u00e3o: relativa;",
        "transi\u00e7\u00e3o: fundo 300ms ease-in-out 2s;",
        "}",
        "```\n",
        "\n",
        "Com isso, o que lhe dissemos \u00e9 para animar o `background` por 300ms, com uma transi\u00e7\u00e3o suave no in\u00edcio e no fim, e esperar 2 segundos antes de come\u00e7ar a transi\u00e7\u00e3o.",
        "\n",
        "Se quisermos especificar v\u00e1rios elementos, podemos fazer isso da seguinte maneira",
        "\n",
        "```css\n",
        ".pulso {",
        "largura: 30px;",
        "altura: 30px;",
        "background-color: #09f;",
        "border-radius: 50%;",
        "posi\u00e7\u00e3o: relativa;",
        "transi\u00e7\u00e3o: fundo 300ms ease-in-out 2s, escala 1s ease-in-out 1s;",
        "}",
        "```"
      ]
    },
    {
      "cell_type": "markdown",
      "metadata": {},
      "source": [
        "#### O que transicionar?"
      ]
    },
    {
      "cell_type": "markdown",
      "metadata": {},
      "source": [
        "Na hora de adicionar transi\u00e7\u00f5es, pode-se procurar o que pode ser transitado em [Animatable CSS properties](https://developer.mozilla.org/en-US/docs/Web/CSS/CSS_animated_properties), mas para n\u00e3o perder tempo buscando, o melhor \u00e9 transitar propriedades com sentido, por exemplo algo que pode ser transitado \u00e9 uma cor, um tamanho, etc.",
        "\n",
        "O ideal \u00e9 fazer transi\u00e7\u00f5es de propriedades com estados intermedi\u00e1rios, por exemplo, uma fonte n\u00e3o possui um estado intermedi\u00e1rio e n\u00e3o faz sentido fazer uma transi\u00e7\u00e3o de uma fonte para outra."
      ]
    },
    {
      "cell_type": "markdown",
      "metadata": {},
      "source": [
        "#### Transi\u00e7\u00f5es diferentes no in\u00edcio e no fim"
      ]
    },
    {
      "cell_type": "markdown",
      "metadata": {},
      "source": [
        "Antes dissemos que \u00e9 preciso colocar as transi\u00e7\u00f5es no elemento e n\u00e3o no hover, porque dessa forma a transi\u00e7\u00e3o s\u00f3 ser\u00e1 vis\u00edvel quando o mouse estiver sobre o elemento e n\u00e3o quando voc\u00ea retirar o mouse. Bem, se quisermos ter anima\u00e7\u00f5es diferentes no in\u00edcio e no final, podemos aproveitar isso. No elemento, colocaremos a transi\u00e7\u00e3o final e no hover, a inicial.",
        "\n",
        "```css\n",
        ".pulso {",
        "largura: 30px;",
        "altura: 30px;",
        "background-color: #09f;",
        "border-radius: 50%;",
        "posi\u00e7\u00e3o: relativa;",
        "transi\u00e7\u00e3o: fundo 300ms ease-in-out",
        "}",
        "\n",
        ".pulser:hover {",
        "escala: 2;",
        "background: roxo;",
        "box-shadow: 0 0 10px roxo;",
        "transi\u00e7\u00e3o: 1s;",
        "transition-duration: 1s;",
        "}",
        "```\n",
        "\n",
        "Desta forma, quando passarmos o mouse sobre o elemento, haver\u00e1 uma transi\u00e7\u00e3o de 300 ms e quando retirarmos o mouse, a transi\u00e7\u00e3o ser\u00e1 de 1 segundo."
      ]
    },
    {
      "cell_type": "markdown",
      "metadata": {},
      "source": [
        "#### Acessibilidade"
      ]
    },
    {
      "cell_type": "markdown",
      "metadata": {},
      "source": [
        "H\u00e1 pessoas que podem ficar tontas com as transi\u00e7\u00f5es, ent\u00e3o podemos adicionar uma media query para remov\u00ea-las.",
        "\n",
        "```css\n",
        "@media (prefers-reduced-motion: reduce) {",
        ".pulso {",
        "transi\u00e7\u00e3o: none;",
        "}",
        "}",
        "```"
      ]
    },
    {
      "cell_type": "markdown",
      "metadata": {},
      "source": [
        "### Anima\u00e7\u00f5es"
      ]
    },
    {
      "cell_type": "markdown",
      "metadata": {},
      "source": [
        "As transi\u00e7\u00f5es s\u00e3o as anima\u00e7\u00f5es quando interagimos com os elementos, mas nas anima\u00e7\u00f5es n\u00e3o precisamos interagir com o elemento, podem ser executadas sozinhas. Por exemplo, o bot\u00e3o t\u00edpico que a cada certo tempo muda e se move para que voc\u00ea saiba que precisa pression\u00e1-lo."
      ]
    },
    {
      "cell_type": "markdown",
      "metadata": {},
      "source": [
        "#### Keyframes"
      ]
    },
    {
      "cell_type": "markdown",
      "metadata": {},
      "source": [
        "Voltamos ao exemplo da bola azul e removemos todas as transi\u00e7\u00f5es",
        "\n",
        "```html\n",
        "<div class=\"pulser\"></div>",
        "```\n",
        "\n",
        "```css\n",
        ".pulso {",
        "largura: 30px;",
        "altura: 30px;",
        "background-color: #09f;",
        "border-radius: 50%;",
        "}",
        "```"
      ]
    },
    {
      "cell_type": "markdown",
      "metadata": {},
      "source": [
        "Temos que indicar ao CSS que queremos fazer uma anima\u00e7\u00e3o, para isso usamos `@keyframes` e damos um nome \u00e0 anima\u00e7\u00e3o",
        "\n",
        "```css\n",
        "@keyframes move {",
        "}",
        "```\n",
        "\n",
        "Agora temos que dizer de onde come\u00e7a este quadro, para isso usamos `from` e onde termina, para isso usamos `to`",
        "\n",
        "```css\n",
        "@keyframes move {",
        "do {",
        "}",
        "para {",
        "}",
        "}",
        "```\n",
        "\n",
        "Agora temos que indicar quais propriedades queremos que mudem, por exemplo a posi\u00e7\u00e3o",
        "\n",
        "```css\n",
        "@keyframes move {",
        "do {",
        "transform: translateX(0);",
        "}",
        "para {",
        "transform: translateX(100px);",
        "}",
        "}",
        "```\n",
        "\n",
        "Desta forma, quando entrarmos na p\u00e1gina, a bola azul se mover\u00e1 100px para a direita."
      ]
    },
    {
      "cell_type": "markdown",
      "metadata": {},
      "source": [
        "#### Depois"
      ]
    },
    {
      "cell_type": "markdown",
      "metadata": {},
      "source": [
        "Em um elemento pode-se colocar um `after` que \u00e9 um elemento que \u00e9 colocado ap\u00f3s o elemento principal.",
        "\n",
        "```html\n",
        "<div class=\"pulser\"></div>",
        "```\n",
        "\n",
        "```css\n",
        ".pulso {",
        "largura: 30px;",
        "altura: 30px;",
        "background-color: blue;",
        "border-radius: 50%;",
        "}",
        "\n",
        ".pulso::after {",
        "conte\u00fado: '';",
        "posi\u00e7\u00e3o: absoluta;",
        "largura: 100%;",
        "altura: 100%;",
        "top: 0;",
        "esquerda: 0;",
        "background-color: blue;",
        "border-radius: 50%;",
        "z-index: -1;",
        "}",
        "```\n",
        "\n",
        "Isso faz colocar um c\u00edrculo azul atr\u00e1s do c\u00edrculo azul, ent\u00e3o agora temos dois c\u00edrculos azuis.",
        "\n",
        "Agora definimos os keyframes",
        "\n",
        "```css\n",
        "@keyframes move {",
        "0% {",
        "opacidade: 0;",
        "}",
        "50% {",
        "escala: 1.5;",
        "opacidade: 40%;",
        "}",
        "100% {",
        "opacidade: 60%;",
        "}",
        "}",
        "```\n",
        "\n",
        "E como j\u00e1 definimos os keyframes, agora s\u00f3 precisamos indicar ao CSS que queremos que a anima\u00e7\u00e3o seja executada.",
        "\n",
        "```css\n",
        ".pulso::after {",
        "conte\u00fado: '';",
        "posi\u00e7\u00e3o: absoluta;",
        "largura: 100%;",
        "altura: 100%;",
        "top: 0;",
        "esquerda: 0;",
        "background-color: azul;",
        "border-radius: 50%;",
        "z-index: -1;",
        "    \n",
        "animation-name: pulso;",
        "animation-duration: 2s;",
        "animation-timing-function: ease-in-out;",
        "}",
        "```\n",
        "\n",
        "Agora, quando a p\u00e1gina for carregada, parecer\u00e1 que o c\u00edrculo azul est\u00e1 batendo."
      ]
    },
    {
      "cell_type": "markdown",
      "metadata": {},
      "source": [
        "Mas s\u00f3 se produz uma vez, para que se produza mais vezes precisamos adicionar `animation-iteration-count`",
        "\n",
        "```css\n",
        ".pulser::after {",
        "conte\u00fado: '';",
        "posi\u00e7\u00e3o: absoluta;",
        "largura: 100%;",
        "altura: 100%;",
        "top: 0;",
        "esquerda: 0;",
        "background-color: azul;",
        "border-radius: 50%;",
        "z-index: -1;",
        "    \n",
        "animation-name: pulso;",
        "animation-duration: 2s;",
        "animation-timing-function: ease-in-out;",
        "animation-iteration-count: infinite;",
        "}",
        "```\n",
        "\n",
        "Agora ser\u00e1 produzido de forma infinita"
      ]
    },
    {
      "cell_type": "markdown",
      "metadata": {},
      "source": [
        "#### Movimento"
      ]
    },
    {
      "cell_type": "markdown",
      "metadata": {},
      "source": [
        "Podemos fazer com que um elemento se mova",
        "\n",
        "```html\n",
        "<div class=\"pulser\"></div>",
        "```\n",
        "\n",
        "```css\n",
        ".pulso {",
        "largura: 30px;",
        "altura: 30px;",
        "background-color: azul;",
        "border-radius: 50%;",
        "posi\u00e7\u00e3o: relativa;",
        "}",
        "\n",
        ".pulso::after {",
        "conte\u00fado: '';",
        "posi\u00e7\u00e3o: absoluta;",
        "width: 100%;",
        "altura: 100%;",
        "top: 0;",
        "esquerda: 0;",
        "background-color: blue;",
        "border-radius: 50%;",
        "z-index: -1;",
        "    \n",
        "animation-name: mover;",
        "dura\u00e7\u00e3o-da-anima\u00e7\u00e3o: 2s;",
        "animation-iteration-count: infinite;",
        "animation-timing-function: linear;",
        "}",
        "\n",
        "@keyframes move {",
        "do {",
        "transform: translateX(0);",
        "}",
        "para {",
        "transform: translateX(100px);",
        "}",
        "}",
        "```\n",
        "\n",
        "\n",
        "Agora a bola azul se mover\u00e1 100px para a direita"
      ]
    },
    {
      "cell_type": "markdown",
      "metadata": {},
      "source": [
        "#### Endere\u00e7o"
      ]
    },
    {
      "cell_type": "markdown",
      "metadata": {},
      "source": [
        "Para que a bola azul se mova para a esquerda, basta fazer `animation-direction: reverse`",
        "\n",
        "```css\n",
        ".pulso::after {",
        "conte\u00fado: '';",
        "posi\u00e7\u00e3o: absoluta;",
        "largura: 100%;",
        "altura: 100%;",
        "top: 0;",
        "esquerda: 0;",
        "background-color: blue;",
        "border-radius: 50%;",
        "z-index: -1;",
        "    \n",
        "animation-name: mover;",
        "animation-duration: 2s;",
        "animation-iteration-count: infinite;",
        "animation-timing-function: linear;",
        "animation-direction: reverse;",
        "}",
        "```"
      ]
    },
    {
      "cell_type": "markdown",
      "metadata": {},
      "source": [
        "Se quisermos que a bola v\u00e1 de um lado para o outro, temos que colocar `animation-direction: alternate`",
        "\n",
        "```css\n",
        ".pulso::after {",
        "conte\u00fado: '';",
        "posi\u00e7\u00e3o: absoluta;",
        "largura: 100%;",
        "altura: 100%;",
        "top: 0;",
        "esquerda: 0;",
        "background-color: blue;",
        "border-radius: 50%;",
        "z-index: -1;",
        "    \n",
        "animation-name: mover;",
        "dura\u00e7\u00e3o-da-anima\u00e7\u00e3o: 2s;",
        "animation-iteration-count: infinite;",
        "animation-timing-function: linear;",
        "animation-direction: alternate;",
        "}",
        "```"
      ]
    },
    {
      "cell_type": "markdown",
      "metadata": {},
      "source": [
        "#### Pausar anima\u00e7\u00f5es"
      ]
    },
    {
      "cell_type": "markdown",
      "metadata": {},
      "source": [
        "Imagine que voc\u00ea tem cart\u00f5es que possuem anima\u00e7\u00f5es. Talvez voc\u00ea queira que quando o mouse passe por cima do cart\u00e3o, a anima\u00e7\u00e3o pare. Para isso, podemos usar `animation-play-state: paused`.",
        "\n",
        "```css\n",
        ".card:hover {",
        "animation-play-state: paused;",
        "}",
        "```"
      ]
    },
    {
      "cell_type": "markdown",
      "metadata": {},
      "source": [
        "#### Aninhamento CSS"
      ]
    },
    {
      "cell_type": "markdown",
      "metadata": {},
      "source": [
        "N\u00f3s declaramos no CSS as propriedades do pulser e as propriedades quando se faz hover, mas tudo pode ser feito junto.",
        "\n",
        "```css\n",
        ".pulso {",
        "largura: 30px;",
        "altura: 30px;",
        "background-color: azul;",
        "border-radius: 50%;",
        "posi\u00e7\u00e3o: relativa;",
        "    \n",
        "&::after {",
        "conte\u00fado: '';",
        "posi\u00e7\u00e3o: absoluta;",
        "largura: 100%;",
        "altura: 100%;",
        "top: 0;",
        "esquerda: 0;",
        "background-color: blue;",
        "border-radius: 50%;",
        "z-index: -1;",
        "        \n",
        "animation-name: mover;",
        "animation-duration: 2s;",
        "animation-iteration-count: infinite;",
        "animation-timing-function: linear;",
        "animation-direction: alternate;",
        "}",
        "    \n",
        "&:hover::after {",
        "animation-play-state: paused;",
        "}",
        "}",
        "```"
      ]
    },
    {
      "cell_type": "markdown",
      "metadata": {},
      "source": [
        "#### Como terminar as anima\u00e7\u00f5es"
      ]
    },
    {
      "cell_type": "markdown",
      "metadata": {},
      "source": [
        "Se temos uma anima\u00e7\u00e3o que s\u00f3 \u00e9 executada uma vez, por exemplo, a bola azul se movendo para a direita, quando a anima\u00e7\u00e3o terminar, ela voltar\u00e1 bruscamente \u00e0 sua posi\u00e7\u00e3o inicial. Para evitar isso, podemos usar `animation-fill-mode: forwards`",
        "\n",
        "```css\n",
        ".pulso::after {",
        "conte\u00fado: '';",
        "posi\u00e7\u00e3o: absoluta;",
        "largura: 100%;",
        "altura: 100%;",
        "top: 0;",
        "esquerda: 0;",
        "background-color: blue;",
        "border-radius: 50%;",
        "z-index: -1;",
        "    \n",
        "animation-name: mover;",
        "animation-duration: 2s;",
        "animation-timing-function: linear;",
        "animation-direction: alternate;",
        "animation-fill-mode: forwards;",
        "}",
        "```\n",
        "\n",
        "Desta forma, quando a anima\u00e7\u00e3o terminar, a bola azul ficar\u00e1 na posi\u00e7\u00e3o final.",
        "\n",
        "Se colocarmos `backwards` em vez de `forwards`, a anima\u00e7\u00e3o come\u00e7ar\u00e1 do estado final.",
        "\n",
        "Se colocarmos `both`, a anima\u00e7\u00e3o come\u00e7ar\u00e1 do estado inicial e terminar\u00e1 no estado final."
      ]
    },
    {
      "cell_type": "markdown",
      "metadata": {},
      "source": [
        "#### Tudo em uma linha"
      ]
    },
    {
      "cell_type": "markdown",
      "metadata": {},
      "source": [
        "Temos um monte de propriedades (`animation-name`, `animation-duration`, `animation-timing-function`, `animation-direction`, `animation-fill-mode`), mas podem ser colocadas todas em uma linha. Tudo o que foi mencionado acima poderia ser escrito assim",
        "\n",
        "```css\n",
        ".pulso::after {",
        "conte\u00fado: '';",
        "posi\u00e7\u00e3o: absoluta;",
        "largura: 100%;",
        "altura: 100%;",
        "top: 0;",
        "esquerda: 0;",
        "background-color: blue;",
        "border-radius: 50%;",
        "z-index: -1;",
        "    \n",
        "animation: mover 2s linear alternate forwards;",
        "}",
        "```"
      ]
    },
    {
      "cell_type": "markdown",
      "metadata": {},
      "source": [
        "Podemos criar v\u00e1rias anima\u00e7\u00f5es",
        "\n",
        "```css\n",
        ".pulser::after {",
        "conte\u00fado: '';",
        "posi\u00e7\u00e3o: absoluta;",
        "width: 100%;",
        "altura: 100%;",
        "top: 0;",
        "esquerda: 0;",
        "background-color: azul;",
        "border-radius: 50%;",
        "z-index: -1;",
        "    \n",
        "anima\u00e7\u00e3o:",
        "mover 2s linear alternate forwards,",
        "aumentar 1s linear 2s both;",
        "}",
        "```\n",
        "\n",
        "Mas como a anima\u00e7\u00e3o `agrandar` n\u00e3o existe, n\u00f3s a criamos com keyframes",
        "\n",
        "```css\n",
        "@keyframes ampliar {",
        "0% {",
        "transform: scale: 1;",
        "}",
        "25% {",
        "transform: scale: 1.5;",
        "}",
        "50% {",
        "transform: scale: 2;",
        "}",
        "75% {",
        "transform: scale: 1.6;",
        "}",
        "100% {",
        "transform: scale: 2;",
        "}",
        "}",
        "```\n",
        "\n",
        "Vai ser reproduzida uma ap\u00f3s a outra, porque foi adicionado um delay de 2 segundos ao `agrandar`, que \u00e9 o tempo que dura a primeira anima\u00e7\u00e3o. Mas se quisermos que seja ao mesmo tempo, temos que remover o delay.",
        "\n",
        "```css\n",
        ".pulser::after {",
        "conte\u00fado: '';",
        "posi\u00e7\u00e3o: absoluta;",
        "largura: 100%;",
        "altura: 100%;",
        "top: 0;",
        "esquerda: 0;",
        "background-color: azul;",
        "border-radius: 50%;",
        "z-index: -1;",
        "    \n",
        "anima\u00e7\u00e3o:",
        "mover 2s linear alternate forwards,",
        "aumentar 1s linear both;",
        "}",
        "```"
      ]
    },
    {
      "cell_type": "markdown",
      "metadata": {},
      "source": [
        "#### Anima\u00e7\u00f5es com scroll"
      ]
    },
    {
      "cell_type": "markdown",
      "metadata": {},
      "source": [
        "##### Exemplo de barra de progresso"
      ]
    },
    {
      "cell_type": "markdown",
      "metadata": {},
      "source": [
        "Por exemplo, se quisermos fazer uma barra que v\u00e1 aumentando de tamanho \u00e0 medida que descemos pela p\u00e1gina",
        "\n",
        "```html\n",
        "<section>",
        "<div id=\"barra\"></div>",
        "<p>Lorem ipsum dolor sit amet, consectetur adipiscing elit",
        "</p>",
        "<p>Lorem ipsum dolor sit amet, consectetur adipiscing elit",
        "</p>",
        "<p>Lorem ipsum dolor sit amet, consectetur adipiscing elit</p>",
        "</p>",
        "<p>Lorem ipsum dolor sit amet, consectetur adipiscing elit",
        "</p>",
        "<p>Lorem ipsum dolor sit amet, consectetur adipiscing elit",
        "</p>",
        "<p>Lorem ipsum dolor sit amet, consectetur adipiscing elit</p>",
        "</p>",
        "<p>Lorem ipsum dolor sit amet, consectetur adipiscing elit",
        "</p>",
        "</section>",
        "```\n",
        "\n",
        "```css\n",
        "se\u00e7\u00e3o {",
        "display: flex;",
        "flex-direction: column;",
        "align-items: center;",
        "justify-content: center;",
        "altura: 100vh;",
        "}",
        "\n",
        "#barra {",
        "posi\u00e7\u00e3o: fixed;",
        "top: 0;",
        "largura: 0%;",
        "background-color: red;",
        "altura: 1em;",
        "\n",
        "animation: barra-grow auto linear;",
        "animation-timeline: scroll(root block);",
        "}",
        "\n",
        "@keyframes barra-grow {",
        "do {",
        "largura: 0%;",
        "}",
        "do {",
        "largura: 100%;",
        "}",
        "}",
        "```\n",
        "\n",
        "Como em `animation` colocamos um tempo de `auto` para saber quanto tempo a anima\u00e7\u00e3o deve durar, o navegador olhar\u00e1 para `animation-timeline`, onde indicamos que ele deve prestar aten\u00e7\u00e3o ao scroll. Dentro da fun\u00e7\u00e3o `scroll` indicamos em qual elemento ele deve prestar aten\u00e7\u00e3o, no nosso caso colocamos `root` porque queremos o scroll da p\u00e1gina, mas poderia ser qualquer outro elemento da p\u00e1gina. Al\u00e9m disso, temos que indicar se queremos que ele preste aten\u00e7\u00e3o no scroll vertical ou horizontal, no nosso caso colocamos `block` porque queremos que ele preste aten\u00e7\u00e3o no scroll vertical (`block` \u00e9 o valor padr\u00e3o, portanto, se quiser, n\u00e3o precisa coloc\u00e1-lo)."
      ]
    },
    {
      "cell_type": "markdown",
      "metadata": {},
      "source": [
        "##### Exemplo de cabe\u00e7alho que muda de cor"
      ]
    },
    {
      "cell_type": "markdown",
      "metadata": {},
      "source": [
        "Se quisermos que, quando fizermos scroll, o header mude de cor",
        "\n",
        "```html\n",
        "<header>",
        "<navega\u00e7\u00e3o>",
        "<ul>",
        "<li>In\u00edcio</li>",
        "<li>Sobre</li>",
        "<li>Contato</li>",
        "</ul>",
        "</nav>",
        "</header>",
        "```\n",
        "\n",
        "```css\n",
        "cabe\u00e7alho {",
        "posi\u00e7\u00e3o: sticky;",
        "top: 0;",
        "largura: 100%;",
        "background-color: white;",
        "box-shadow: 0 0 10px rgba(0, 0, 0, 0.1);",
        "z-index: 2;",
        "\n",
        "animation: header-color linear both;",
        "animation-timeline: scroll(root block);",
        "}",
        "\n",
        "@keyframes header-color {",
        "do {",
        "cor de fundo: branco;",
        "}",
        "para {",
        "background-color: cinza;",
        "backdrop-filter: blur(5px);",
        "cor: branco;",
        "}",
        "}",
        "```"
      ]
    },
    {
      "cell_type": "markdown",
      "metadata": {},
      "source": [
        "Mas fazendo assim, a anima\u00e7\u00e3o do header s\u00f3 termina quando se chega ao final da p\u00e1gina, mas n\u00f3s queremos que ela termine quando \u00e9 feito um pouco de scroll. Para isso, removemos o `both` do `animation` e colocamos `animation-range: 0 200px` para que a anima\u00e7\u00e3o termine quando for feito um scroll de 200 px, ou seja, estamos dizendo que a anima\u00e7\u00e3o vai dos 0 px at\u00e9 os 200 px.",
        "\n",
        "```css\n",
        "cabe\u00e7alho {",
        "posi\u00e7\u00e3o: sticky;",
        "top: 0;",
        "largura: 100%;",
        "cor de fundo: branco;",
        "box-shadow: 0 0 10px rgba(0, 0, 0, 0.1);",
        "z-index: 2;",
        "\n",
        "animation: header-color linear;",
        "animation-timeline: scroll(root);",
        "animation-range: 0 200px;",
        "}",
        "```"
      ]
    },
    {
      "cell_type": "markdown",
      "metadata": {},
      "source": [
        "##### Exemplo de galeria de imagens"
      ]
    },
    {
      "cell_type": "markdown",
      "metadata": {},
      "source": [
        "Vamos imaginar que temos um monte de imagens e queremos que, ao fazer scroll, elas v\u00e3o aparecendo.",
        "\n",
        "```html\n",
        "<section>",
        "<img src=\"img1.jpg\" alt=\"imagem 1\">",
        "<img src=\"img2.jpg\" alt=\"imagem 2\">",
        "<img src=\"img3.jpg\" alt=\"imagem 3\">",
        "<img src=\"img4.jpg\" alt=\"imagem 4\">",
        "<img src=\"img5.jpg\" alt=\"imagem 5\">",
        "<img src=\"img6.jpg\" alt=\"imagem 6\">",
        "<img src=\"img7.jpg\" alt=\"imagem 7\">",
        "<img src=\"img8.jpg\" alt=\"imagem 8\">",
        "<img src=\"img9.jpg\" alt=\"imagem 9\">",
        "<img src=\"img10.jpg\" alt=\"imagem 10\">",
        "</section>",
        "```\n",
        "\n",
        "```css\n",
        "se\u00e7\u00e3o {",
        "display: grid;",
        "grid-template-columns: repeat(auto-fill, minmax(300px, 1fr));",
        "gap: 16px;",
        "}",
        "\n",
        "img {",
        "largura: 100%;",
        "altura: auto;",
        "opacidade: 0;",
        "animation: aparecer linear both;",
        "animation-timeline: view()",
        "animation-range: entrada 20% cobertura 30%;",
        "}",
        "\n",
        "@keyframes aparecer {",
        "do {",
        "opacidade: 0;",
        "}",
        "para {",
        "opacidade: 1;",
        "}",
        "}",
        "```\n",
        "\n",
        "Com `animation-timeline: view()` estamos dizendo para fazer a anima\u00e7\u00e3o quando a imagem estiver vis\u00edvel na tela e com `animation-range: entry 20% cover 30%` estamos dizendo que a anima\u00e7\u00e3o deve come\u00e7ar quando a imagem ocupar 20% da tela e terminar quando ocupar 30% da tela.",
        "\n",
        "Ao colocar `both` em `animation`, estamos dizendo que a anima\u00e7\u00e3o deve ocorrer tanto ao aparecer quanto ao desaparecer, ou seja, quando a imagem aparece, vemos a anima\u00e7\u00e3o, mas quando ela desaparece, tamb\u00e9m vemos a anima\u00e7\u00e3o ao contr\u00e1rio, isto \u00e9, a imagem vai gradualmente de uma opacidade de 1 para 0."
      ]
    }
  ],
  "metadata": {
    "language_info": {
      "name": "python"
    },
    "maximofn": {
      "date": "2024-02-05",
      "description_en": "CSS, or Cascading Style Sheets, is a fundamental technology in web design that allows developers and designers to style and present HTML documents in a sophisticated and efficient manner. Through CSS, we can control layout, colors, fonts, and much more, enabling the creation of rich and visually appealing user experiences. This post explores the basics of CSS, from selectors and properties to the box model, offering a detailed guide for those looking to get started or improve their web design skills. With practical examples and helpful tips, it demonstrates how CSS makes it easy to separate content from presentation, improving the accessibility and maintainability of web projects.",
      "description_es": "CSS, o Hojas de Estilo en Cascada, es una tecnolog\u00eda fundamental en el dise\u00f1o web que permite a los desarrolladores y dise\u00f1adores estilizar y presentar documentos HTML de manera sofisticada y eficiente. A trav\u00e9s de CSS, podemos controlar el layout, los colores, las tipograf\u00edas, y mucho m\u00e1s, permitiendo la creaci\u00f3n de experiencias de usuario ricas y visualmente atractivas. Este post explora los conceptos b\u00e1sicos de CSS, desde selectores y propiedades hasta el modelo de caja, ofreciendo una gu\u00eda detallada para aquellos que buscan empezar o mejorar su habilidad en el dise\u00f1o web. Con ejemplos pr\u00e1cticos y consejos \u00fatiles, se demuestra c\u00f3mo CSS facilita la separaci\u00f3n del contenido de la presentaci\u00f3n, mejorando la accesibilidad y la mantenibilidad de los proyectos web",
      "description_pt": "CSS, ou Cascading Style Sheets (Folhas de estilo em cascata), \u00e9 uma tecnologia fundamental no design da Web que permite aos desenvolvedores e designers estilizar e apresentar documentos HTML de maneira sofisticada e eficiente. Por meio do CSS, podemos controlar o layout, as cores, as fontes e muito mais, permitindo a cria\u00e7\u00e3o de experi\u00eancias de usu\u00e1rio ricas e visualmente atraentes. Esta postagem explora os conceitos b\u00e1sicos de CSS, desde seletores e propriedades at\u00e9 o modelo de caixa, oferecendo um guia detalhado para quem deseja iniciar ou aprimorar suas habilidades de web design. Com exemplos pr\u00e1ticos e dicas \u00fateis, ela demonstra como o CSS facilita a separa\u00e7\u00e3o entre conte\u00fado e apresenta\u00e7\u00e3o, melhorando a acessibilidade e a capacidade de manuten\u00e7\u00e3o dos projetos da Web.",
      "end_url": "css",
      "image": "https://images.maximofn.com/CSS3.webp",
      "image_hover_path": "https://images.maximofn.com/CSS3.webp",
      "keywords_en": "css, web design, styling, layout, selectors, properties, box model, accessibility, maintainability",
      "keywords_es": "css, dise\u00f1o web, estilizaci\u00f3n, dise\u00f1o, selectores, propiedades, modelo de caja, accesibilidad, mantenibilidad",
      "keywords_pt": "css, design web, estiliza\u00e7\u00e3o, layout, seletores, propriedades, modelo de caixa, acessibilidade, manutenibilidade",
      "title_en": "CSS",
      "title_es": "CSS",
      "title_pt": "CSS"
    }
  },
  "nbformat": 4,
  "nbformat_minor": 2
}