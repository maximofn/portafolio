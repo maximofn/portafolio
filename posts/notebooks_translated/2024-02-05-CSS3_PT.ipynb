{
  "cells": [
    {
      "cell_type": "markdown",
      "metadata": {},
      "source": [
        "# CSS 3"
      ]
    },
    {
      "cell_type": "markdown",
      "metadata": {},
      "source": [
        " > Aviso: Este post foi traduzido para o portugu\u00eas usando um modelo de tradu\u00e7\u00e3o autom\u00e1tica. Por favor, me avise se encontrar algum erro."
      ]
    },
    {
      "cell_type": "markdown",
      "metadata": {},
      "source": [
        "## Partes do CSS (seletor, propriedades, valores)"
      ]
    },
    {
      "cell_type": "markdown",
      "metadata": {},
      "source": [
        "Em CSS, podem ser discutidas 3 partes principais:",
        "\n",
        "- **Seletor**: \u00c9 a parte que seleciona o elemento ao qual o estilo ser\u00e1 aplicado.",
        "- **Propriedade**: \u00c9 a parte que define o estilo que ser\u00e1 aplicado ao elemento.",
        "- **Valor**: \u00c9 a parte que define o valor da propriedade que ser\u00e1 aplicada ao elemento.",
        "\n",
        "Para adicionar coment\u00e1rios em CSS utiliza-se `/* coment\u00e1rio */`.",
        "\n",
        "A linha que tem `propiedade: valor;` \u00e9 chamada de **declara\u00e7\u00e3o**.",
        "\n",
        "",
        "seletor {",
        "    propriedade: valor;   /* coment\u00e1rio */\n",
        "}\n",
        ""
      ]
    },
    {
      "cell_type": "markdown",
      "metadata": {},
      "source": [
        "## Seletores"
      ]
    },
    {
      "cell_type": "markdown",
      "metadata": {},
      "source": [
        "H\u00e1 v\u00e1rios tipos de seletores:",
        "\n",
        "- **Seletor universal**: Seleciona todos os elementos da p\u00e1gina. Utiliza-se o asterisco `*`.",
        "- **Seletor de tipo**: Seleciona todos os elementos de um tipo. Utiliza-se o nome do tipo de elemento. Por exemplo, `p` seleciona todos os par\u00e1grafos.",
        "- **Seletor de classe**: Seleciona todos os elementos que t\u00eam uma classe. Utiliza-se o nome da classe. Por exemplo, `.classe` seleciona todos os elementos que possuem a classe `classe`. Isso \u00e9 \u00fatil, porque se quisermos que todos os bot\u00f5es sejam iguais, no html colocamos `<button class=\"botao\">` e no css colocamos `.botao { /* estilos */ }`. Assim, todos os bot\u00f5es ter\u00e3o os mesmos estilos, e se quisermos que um bot\u00e3o seja diferente, colocamos outra classe.",
        "- **Seletor de pseudo-classe**: Seleciona todos os elementos que t\u00eam uma pseudo-classe. Utiliza-se o nome da pseudo-classe. Por exemplo, `:hover` seleciona todos os elementos que est\u00e3o sendo selecionados pelo mouse. Isso \u00e9 \u00fatil, porque se quisermos que um bot\u00e3o mude de cor quando o mouse estiver em cima, no css colocamos `.botao:hover { /* estilos */ }`. Assim, o bot\u00e3o ter\u00e1 os estilos que quisermos quando o mouse estiver em cima. Algumas pseudo-classes s\u00e3o:",
        "    - `:hover`: Seleciona todos os elementos que est\u00e3o sendo selecionados pelo mouse.\n",
        "- `:active`: Seleciona todos os elementos que est\u00e3o sendo selecionados pelo mouse e est\u00e3o sendo pressionados.",
        "- `:focus`: Seleciona todos os elementos que est\u00e3o sendo selecionados pelo mouse e est\u00e3o sendo pressionados, e al\u00e9m disso t\u00eam o foco.",
        "- `:first-child`: Seleciona todos os elementos que sejam o primeiro filho do seu pai. Isto \u00e9 \u00fatil, por exemplo, com os `<li>` das listas, porque se quisermos que o primeiro elemento da lista tenha um estilo diferente, no css colocamos `li:first-child { /* estilos */ }`. Assim, o primeiro elemento da lista ter\u00e1 os estilos que quisermos.",
        "- `:last-child`: Seleciona todos os elementos que s\u00e3o o \u00faltimo filho do seu pai. Isto \u00e9 \u00fatil, por exemplo, com os `<li>` das listas, porque se quisermos que o \u00faltimo elemento da lista tenha um estilo diferente, no css colocamos `li:last-child { /* estilos */ }`. Assim, o \u00faltimo elemento da lista ter\u00e1 os estilos que quisermos.",
        "- `:nth-child(n)`: Seleciona todos os elementos que sejam o en\u00e9simo filho de seu pai. Por exemplo, `:nth-child(2)` seleciona todos os elementos que sejam o segundo filho de seu pai.",
        "- `:nth-last-child(n)`: Seleciona todos os elementos que sejam o en\u00e9simo filho de seu pai, come\u00e7ando do final. Por exemplo, `:nth-last-child(2)` seleciona todos os elementos que sejam o segundo filho de seu pai, come\u00e7ando do final.",
        "- `:nth-of-type(n)`: Seleciona todos os elementos que sejam o n-\u00e9simo filho de seu pai, do mesmo tipo. Por exemplo, `:nth-of-type(2)` seleciona todos os elementos que sejam o segundo filho de seu pai, do mesmo tipo.",
        "- `:nth-last-of-type(n)`: Seleciona todos os elementos que sejam o en\u00e9simo filho de seu pai, do mesmo tipo, come\u00e7ando do fim. Por exemplo, `:nth-last-of-type(2)` seleciona todos os elementos que sejam o segundo filho de seu pai, do mesmo tipo, come\u00e7ando do fim.",
        "- `:first-of-type`: Seleciona todos os elementos que sejam o primeiro filho do seu pai, do mesmo tipo.",
        "- `:last-of-type`: Seleciona todos os elementos que s\u00e3o o \u00faltimo filho de seu pai, do mesmo tipo.",
        "- `:only-child`: Seleciona todos os elementos que sejam o \u00fanico filho do seu pai.",
        "- `:only-of-type`: Seleciona todos os elementos que sejam o \u00fanico filho do seu pai, do mesmo tipo.",
        "- `:empty`: Seleciona todos os elementos que n\u00e3o t\u00eam filhos.",
        "- **Sele\u00e7\u00e3o por id**: Seleciona um elemento que tenha um id. Utiliza-se o nome do id. Por exemplo, `#id` seleciona o elemento que tem o id `id`. Isso \u00e9 \u00fatil, porque se quisermos que um elemento seja \u00fanico, no html colocamos `<p id=\"unico\">` e no css colocamos `#unico { /* estilos */ }`. Assim, esse elemento ter\u00e1 os estilos que quisermos, e se quisermos que outro elemento seja igual, colocamos outra classe.",
        "- **Seletores combinados**: Selecionam elementos que atendem a v\u00e1rias condi\u00e7\u00f5es. Utilizam-se os seletores que quisermos, separados por um espa\u00e7o. Por exemplo, `p .classe` seleciona todos os elementos que tenham a classe `classe` e sejam filhos de um par\u00e1grafo. Isso \u00e9 \u00fatil, porque se queremos que todos os bot\u00f5es que est\u00e3o dentro de um par\u00e1grafo sejam iguais, no HTML colocamos `<p class=\"paragrafo_que_quero_mudar\"><button class=\"botao\">` e no CSS colocamos `.paragrafo_que_quero_mudar .botao { /* estilos */ }`. Assim todos os bot\u00f5es que estejam dentro de um par\u00e1grafo com a classe `paragrafo_que_quero_mudar` ter\u00e3o os mesmos estilos, e se quisermos que um bot\u00e3o seja diferente, colocamos outra classe.",
        "- **Seletor combinado de primeiro n\u00edvel**: Selecionam elementos que atendam a v\u00e1rias condi\u00e7\u00f5es, mas apenas se estiverem no primeiro n\u00edvel. S\u00e3o utilizados os seletores que quisermos, separados por um `>`. Por exemplo, `p > .classe` seleciona todos os elementos que tenham a classe `classe` e sejam filhos diretos de um par\u00e1grafo. Isso \u00e9 \u00fatil, porque se quisermos que todos os bot\u00f5es que estejam dentro de um par\u00e1grafo sejam iguais, no html colocamos `<p class=\"paragrafo_que_quero_mudar\"><button class=\"botao\">` e no css colocamos `.paragrafo_que_quero_mudar > .botao { /* estilos */ }`. Assim, todos os bot\u00f5es que estejam dentro de um par\u00e1grafo com a classe `paragrafo_que_quero_mudar` ter\u00e3o os mesmos estilos, e se quisermos que um bot\u00e3o seja diferente, colocamos outra classe.",
        "- **Seletor combinado de irm\u00e3os**: Selecionam elementos que cumpram v\u00e1rias condi\u00e7\u00f5es, mas apenas se estiverem no mesmo n\u00edvel. Utilizam-se os seletores que quisermos, separados por um `~`. Por exemplo, `p ~ .classe` seleciona todos os elementos que t\u00eam a classe `classe` e est\u00e3o no mesmo n\u00edvel que um par\u00e1grafo. Isto \u00e9 \u00fatil, porque se quisermos que todos os bot\u00f5es que est\u00e3o no mesmo n\u00edvel que um par\u00e1grafo sejam iguais, no html colocamos `<p class=\"paragrafo_que_quero_mudar\"></p><button class=\"botao\">` e no css colocamos `.paragrafo_que_quero_mudar ~ .botao { /* estilos */ }`. Assim todos os bot\u00f5es que est\u00e3o no mesmo n\u00edvel que um par\u00e1grafo com a classe `paragrafo_que_quero_mudar` ter\u00e3o os mesmos estilos, e se quisermos que um bot\u00e3o seja diferente, colocamos uma outra classe.",
        "- **Seletor combinado de irm\u00e3os adjacentes**: Selecionam elementos que atendem a v\u00e1rias condi\u00e7\u00f5es, mas apenas se estiverem no mesmo n\u00edvel e forem adjacentes. Utilizamos os seletores que queremos, separados por um `+`. Por exemplo, `p + .classe` seleciona todos os elementos que t\u00eam a classe `classe` e est\u00e3o no mesmo n\u00edvel e s\u00e3o adjacentes a um par\u00e1grafo. Isso \u00e9 \u00fatil, porque se queremos que todos os bot\u00f5es que est\u00e3o no mesmo n\u00edvel e s\u00e3o adjacentes a um par\u00e1grafo sejam iguais, no html colocamos `<p class=\"paragrafo_que_quero_mudar\"></p><button class=\"botao\">` e no css colocamos `.paragrafo_que_quero_mudar + .botao { /* estilos */ }`. Assim, todos os bot\u00f5es que est\u00e3o no mesmo n\u00edvel e s\u00e3o adjacentes a um par\u00e1grafo com a classe `paragrafo_que_quero_mudar` ter\u00e3o os mesmos estilos, e se queremos que um bot\u00e3o seja diferente, colocamos outra classe.",
        "\n",
        "O normal \u00e9 utilizar o seletor de classe, porque assim podemos reutilizar os estilos."
      ]
    },
    {
      "cell_type": "markdown",
      "metadata": {},
      "source": [
        "## Estilos"
      ]
    },
    {
      "cell_type": "markdown",
      "metadata": {},
      "source": [
        "### Cor"
      ]
    },
    {
      "cell_type": "markdown",
      "metadata": {},
      "source": [
        "A cor pode ser definida de v\u00e1rias formas:",
        "\n",
        "- **Nome**: Pode-se colocar o nome da cor. Por exemplo, `red` \u00e9 vermelho.",
        "- **Hexadecimal**: Pode-se usar a cor em hexadecimal. Por exemplo, `#ff0000` \u00e9 vermelho.",
        "  \n",
        "  Se quiser adicionar transpar\u00eancia, voc\u00ea pode usar `#ff000080`, que \u00e9 vermelho com 50% de transpar\u00eancia.",
        "  \n",
        "  Se s\u00f3 forem colocados 3 n\u00fameros, eles se repetem. Por exemplo, `#f10` \u00e9 o mesmo que `#ff1100`. Se voc\u00ea quiser adicionar transpar\u00eancia, pode usar `#f108`, que \u00e9 o mesmo que `#ff110088`.",
        "- **RGB**: Pode-se colocar a cor em RGB. Por exemplo, `rgb(255, 0, 0)` \u00e9 vermelho.",
        "\n",
        "Se se quiser adicionar transpar\u00eancia, pode-se colocar `rgb(255 0 0 / 0.5)`, que \u00e9 vermelho com 50% de transpar\u00eancia. Tamb\u00e9m \u00e9 poss\u00edvel colocar a transpar\u00eancia em porcentagem, `rgb(255 0 0 / 50%)`. Voc\u00ea pode encontrar a transpar\u00eancia de uma forma legacy com `rgba(255, 0, 0, 0.5)`, que \u00e9 vermelho com 50% de transpar\u00eancia, mas o melhor \u00e9 utilizar a forma moderna.",
        "\n",
        "- **HSL**: Pode-se definir a cor em HSL. Por exemplo, `hsl(0, 100%, 50%)` \u00e9 vermelho.",
        "\n",
        "- **OKLCH**: \u00c9 poss\u00edvel definir a cor em OKLCH. Por exemplo, `oklch(0 100% 50%)` \u00e9 vermelho.\n",
        "\n",
        "Em `HSL` e `OKLCH` h\u00e1 mais escala de cores do que em `RGB`, por isso, se voc\u00ea precisar de mais cores, \u00e9 melhor utilizar `HSL` ou `OKLCH`.",
        "\n",
        "Tamb\u00e9m \u00e9 poss\u00edvel adicionar a transpar\u00eancia adicionando a declara\u00e7\u00e3o `color:transparent`."
      ]
    },
    {
      "cell_type": "markdown",
      "metadata": {},
      "source": [
        "### Cor Atual"
      ]
    },
    {
      "cell_type": "markdown",
      "metadata": {},
      "source": [
        "H\u00e1 um valor de cor que \u00e9 `currentColor`, que \u00e9 a cor atual. Por exemplo, se temos um texto e configuramos sua cor para vermelho, e depois adicionamos uma borda a este texto, se colocarmos `border: 1px solid currentColor;`, a borda ser\u00e1 vermelha.",
        "\n",
        "```css\n```",
        "p {",
        "    cor: vermelho;\n",
        "    border: 1px solid currentColor;",
        "{\n",
        "```"
      ]
    },
    {
      "cell_type": "markdown",
      "metadata": {},
      "source": [
        "### Heran\u00e7a"
      ]
    },
    {
      "cell_type": "markdown",
      "metadata": {},
      "source": [
        "Quando se aplica um estilo a um elemento, esse estilo \u00e9 herdado pelos elementos filhos. Por exemplo, se temos um `div` com um texto e aplicamos a cor vermelha ao `div`, o texto tamb\u00e9m ser\u00e1 vermelho.",
        "\n",
        "```html\n",
        "<div>\n",
        "<p>Texto</p>",
        "</div>\n",
        "",
        "\n",
        "",
        "div {",
        "    cor: vermelho;\n",
        "```markdown\n}\n```",
        "",
        "\n",
        "Ao fazer isso, o texto ficar\u00e1 vermelho."
      ]
    },
    {
      "cell_type": "markdown",
      "metadata": {},
      "source": [
        "Podemos indicar no filho quais estilos s\u00e3o herdados, por exemplo suponhamos que temos um pai e um filho",
        "\n",
        "```html\n```",
        "<div class=\"pai\">",
        "<p class=\"hijo\">Texto</p>",
        "</div>",
        "",
        "\n",
        "",
        "```markdown\n.pai {\n```",
        "    color: vermelho;",
        "```markdown\n}\n```",
        "\n",
        ".filho {",
        "    cor: herdar;",
        "}",
        "",
        "\n",
        "Ao fazer isso, o texto ser\u00e1 vermelho, porque o filho herda a cor do pai.",
        "\n",
        "As poss\u00edveis op\u00e7\u00f5es s\u00e3o:",
        "\n",
        "- `inherit`: Herda o estilo do pai.",
        "- `initial`: Define o estilo padr\u00e3o.",
        "- `unset`: Reseta o estilo",
        "- `revert`: Reverte o estilo",
        "\n",
        "Nem todos os estilos s\u00e3o herdados, por exemplo, o `background` n\u00e3o \u00e9 herdado. Para n\u00e3o listar todos os estilos que s\u00e3o herdados, uma maneira de descobrir \u00e9 ir ao `MDN` e verificar se o estilo tem a propriedade `Inherited` como `yes` (dentro de `Formal definition`)."
      ]
    },
    {
      "cell_type": "markdown",
      "metadata": {},
      "source": [
        "### Fontes"
      ]
    },
    {
      "cell_type": "markdown",
      "metadata": {},
      "source": [
        "Na hora de carregar as fontes, elas podem ser carregadas de v\u00e1rias formas:\n",
        "\n",
        "- **Local**: Pode-se carregar uma fonte local. Por exemplo, `font-family: Arial;` carrega a fonte Arial.",
        "- **URL**: Pode-se carregar uma fonte de uma URL. Por exemplo, `font-family: url(https://fonts.googleapis.com/css2?family=Roboto);` carrega a fonte Roboto do Google Fonts.",
        "- **Gen\u00e9rica**: Pode-se carregar uma fonte gen\u00e9rica. Por exemplo, `font-family: sans-serif;` carrega uma fonte sem serifa. Esta fonte depende do sistema operacional, ent\u00e3o no Windows ser\u00e1 Arial, no Mac ser\u00e1 Helvetica e no Linux ser\u00e1 DejaVu Sans.",
        "\n",
        "Podem ser carregadas v\u00e1rias fontes e, se uma n\u00e3o estiver dispon\u00edvel, a pr\u00f3xima ser\u00e1 carregada. Por exemplo, `font-family: Arial, sans-serif;` carrega Arial, e se n\u00e3o estiver dispon\u00edvel, carrega uma fonte sem serifa.",
        "\n",
        "Tamb\u00e9m \u00e9 poss\u00edvel carregar uma fonte com v\u00e1rios estilos. Por exemplo, `font-family: Arial, sans-serif; font-weight: 700;` carrega Arial em negrito, e se n\u00e3o estiver dispon\u00edvel, carrega uma fonte sem serifa em negrito.",
        "\n",
        "Como `sans-serif` \u00e9 uma fonte gen\u00e9rica, o ideal \u00e9 sempre coloc\u00e1-la por \u00faltimo, para que, se a fonte que queremos n\u00e3o estiver dispon\u00edvel, a gen\u00e9rica seja carregada.",
        "\n",
        "```css\n```",
        "p {",
        "    font-family: url(https://fonts.googleapis.com/css2?family=Roboto), url(https://fonts.googleapis.com/css2?family=Roboto+Slab), Ubuntu, sans-serif;\n",
        "{\n",
        "```"
      ]
    },
    {
      "cell_type": "markdown",
      "metadata": {},
      "source": [
        "### Borda e Contorno"
      ]
    },
    {
      "cell_type": "markdown",
      "metadata": {},
      "source": [
        "Podemos colocar uma borda em um elemento com `border: 1px solid red;`. Isso coloca uma borda de 1px de espessura, s\u00f3lida e vermelha.",
        "\n",
        "Se quisermos colocar um contorno, podemos usar `outline: 1px solid red;`. Isto coloca um contorno de 1px de espessura, s\u00f3lido e vermelho.",
        "\n",
        "A diferen\u00e7a entre `border` e `outline` \u00e9 que `border` ocupa espa\u00e7o, e `outline` n\u00e3o. Por exemplo, se tivermos um `div` com um texto, e colocarmos uma borda, o texto se mover\u00e1 para que a borda apare\u00e7a. Se colocarmos um contorno, o texto n\u00e3o se mover\u00e1, porque o contorno n\u00e3o ocupa espa\u00e7o. Isso pode ser percebido se mudarmos o estilo na pseudo-classe `:hover`. Se colocarmos uma borda, quando passarmos o mouse por cima, o texto se mover\u00e1, mas se colocarmos um contorno, o texto n\u00e3o se mover\u00e1."
      ]
    },
    {
      "cell_type": "markdown",
      "metadata": {},
      "source": [
        "## Cascata"
      ]
    },
    {
      "cell_type": "markdown",
      "metadata": {},
      "source": [
        "A cascata \u00e9 a ordem em que os estilos s\u00e3o aplicados. A ordem \u00e9:",
        "\n",
        "1. Estilos do usu\u00e1rio: S\u00e3o os estilos que o usu\u00e1rio configurou. Por exemplo, se o usu\u00e1rio configurou que o texto seja da cor vermelha, o texto ser\u00e1 vermelho.",
        "2. Estilos do autor: S\u00e3o os estilos que o autor configurou. Por exemplo, se o autor configurou que o texto seja de cor azul, o texto ser\u00e1 azul.",
        "3. Estilos do navegador: S\u00e3o os estilos do navegador. Por exemplo, se o navegador estiver configurado para que o texto seja de cor verde, o texto ser\u00e1 verde.",
        "\n",
        "Prevalecem os estilos do usu\u00e1rio sobre os do autor, e os do autor sobre os do navegador.",
        "\n",
        "Mas dentro dos estilos do autor, prevalecem os estilos que est\u00e3o mais abaixo no c\u00f3digo. Por exemplo, se tivermos um `div` com um texto, e colocarmos a cor vermelha, e depois colocarmos a cor azul, o texto ser\u00e1 azul.",
        "\n",
        "```html\n",
        "<div>",
        "    <p>Texto</p>",
        "</div>",
        "",
        "\n",
        "```css\n```",
        "div {",
        "    cor: vermelho;",
        "```markdown\n}\n```",
        "\n",
        "div {",
        "```markdown\ncor: azul;\n```",
        "}",
        "```",
        "\n",
        "Neste exemplo, o texto ser\u00e1 azul. O cor vermelha \u00e9 sobrescrita com a cor azul."
      ]
    },
    {
      "cell_type": "markdown",
      "metadata": {},
      "source": [
        "### Recupera\u00e7\u00e3o"
      ]
    },
    {
      "cell_type": "markdown",
      "metadata": {},
      "source": [
        "Um dos benef\u00edcios da cascata \u00e9 que podemos aplicar um estilo muito novo, mas caso o navegador que o usu\u00e1rio esteja utilizando n\u00e3o o suporte, podemos aplicar um estilo mais antigo antes, por via das d\u00favidas. Por exemplo, estilizar a cor com `oklch` \u00e9 algo novo, que pode n\u00e3o ser suportado pelo navegador que o usu\u00e1rio est\u00e1 utilizando, ent\u00e3o podemos aplicar um estilo mais antigo antes, por via das d\u00favidas.",
        "\n",
        "",
        "p {",
        "    color: rgb(255, 0, 0);",
        "    color: oklch(0 100% 50%);",
        "Aqui est\u00e1 o texto traduzido para o portugu\u00eas, mantendo a estrutura e o estilo do markdown:\n\n```markdown\n}\n```",
        "",
        "\n",
        "Dessa forma, o navegador primeiro tentar\u00e1 estilizar com `oklch` e, se n\u00e3o conseguir, estilizar\u00e1 com `rgb`."
      ]
    },
    {
      "cell_type": "markdown",
      "metadata": {},
      "source": [
        "### Especificidade"
      ]
    },
    {
      "cell_type": "markdown",
      "metadata": {},
      "source": [
        "Pode ser que um elemento html tenha v\u00e1rias formas de nos referirmos a ele. Por exemplo",
        "\n",
        "```markdown\n",
        "<p class=\"clase\" id=\"id\">Texto</p>",
        "```\n```",
        "\n",
        "",
        "p {",
        "    cor: vermelho;",
        "```markdown\n}\n```",
        "\n",
        ".classe {",
        "    color: azul;",
        "{\n",
        "\n",
        "#id {",
        "    color: verde;",
        "```markdown\n}\n```",
        "```\n```",
        "\n",
        "Neste exemplo, o texto ser\u00e1 verde. Isso porque o seletor de id tem mais especificidade do que o seletor de classe, e o seletor de classe tem mais especificidade do que o seletor de tipo. Portanto, o seletor de id sobrescreve o seletor de classe, e o seletor de classe sobrescreve o seletor de tipo.",
        "\n",
        "Se no CSS tiv\u00e9ssemos",
        "\n",
        "",
        "p {",
        "    color: red;",
        "}",
        "\n",
        "```markdown\np.clase {\n```",
        "    color: azul;",
        "}\n",
        "```\n",
        "\n",
        "O texto seria azul. Isto \u00e9 porque o seletor de classe tem mais especificidade do que o seletor de tipo, ent\u00e3o o seletor de classe sobrescreve o seletor de tipo."
      ]
    },
    {
      "cell_type": "markdown",
      "metadata": {},
      "source": [
        "Os estilos em linha t\u00eam mais especificidade do que os estilos do autor. Por exemplo",
        "\n",
        "```html\n",
        "<p style=\"color: red;\">Texto</p>",
        "```",
        "\n",
        "```css\n```",
        "```markdown\np {\n```",
        "    color: azul;",
        "```markdown\n```\n",
        "",
        "\n",
        "Neste exemplo, o texto ser\u00e1 vermelho. Isso ocorre porque o estilo inline tem mais especificidade do que o estilo do autor."
      ]
    },
    {
      "cell_type": "markdown",
      "metadata": {},
      "source": [
        "Se voc\u00ea colocar `!important` no final da declara\u00e7\u00e3o, essa declara\u00e7\u00e3o ter\u00e1 mais especificidade do que qualquer outra. Por exemplo",
        "\n",
        "```html\n",
        "<p class=\"clase\" id=\"id\">Texto</p>",
        "",
        "\n",
        "```css\n```",
        "p {",
        "    color: vermelho;\n",
        "}",
        "\n",
        ".classe {",
        "    color: azul;",
        "```markdown\n}\n```",
        "\n",
        "#id {",
        "    color: verde;",
        "```markdown\n}",
        "\n",
        "p.classe {",
        "    color: amarelo !important;",
        "}",
        "```",
        "\n",
        "Neste exemplo, o texto ser\u00e1 amarelo. Isso ocorre porque a declara\u00e7\u00e3o com `!important` tem mais especificidade do que qualquer outra."
      ]
    },
    {
      "cell_type": "markdown",
      "metadata": {},
      "source": [
        "## Unidades"
      ]
    },
    {
      "cell_type": "markdown",
      "metadata": {},
      "source": [
        "### Unidades de comprimento"
      ]
    },
    {
      "cell_type": "markdown",
      "metadata": {},
      "source": [
        "#### Unidades absolutas"
      ]
    },
    {
      "cell_type": "markdown",
      "metadata": {},
      "source": [
        "Se queremos definir um tamanho fixo, podemos utilizar unidades absolutas. Por exemplo, `px` \u00e9 um p\u00edxel, `cm` \u00e9 um cent\u00edmetro, `mm` \u00e9 um mil\u00edmetro, `in` \u00e9 uma polegada, `pt` \u00e9 um ponto, `pc` \u00e9 uma pica."
      ]
    },
    {
      "cell_type": "markdown",
      "metadata": {},
      "source": [
        "#### Unidades relativas"
      ]
    },
    {
      "cell_type": "markdown",
      "metadata": {},
      "source": [
        "No entanto, se quisermos que o tamanho seja relativo, podemos utilizar unidades relativas. Por exemplo, `em` \u00e9 o tamanho da fonte, `rem` \u00e9 o tamanho da fonte do elemento raiz, `vw` \u00e9 a largura da janela, `vh` \u00e9 a altura da janela, `vmin` \u00e9 a largura ou a altura da janela, dependendo de qual seja menor, `vmax` \u00e9 a largura ou a altura da janela, dependendo de qual seja maior, `ch` \u00e9 a largura de um caractere, `ex` \u00e9 a altura de um x, `fr` \u00e9 uma fra\u00e7\u00e3o do espa\u00e7o dispon\u00edvel."
      ]
    },
    {
      "cell_type": "markdown",
      "metadata": {},
      "source": [
        "## Modelo da caixa"
      ]
    },
    {
      "cell_type": "markdown",
      "metadata": {},
      "source": [
        "Em html tudo s\u00e3o caixas, mas h\u00e1 dois tipos de formas de ver as caixas, `inline` e `block`. Por exemplo, os `<span>` s\u00e3o `inline`, e os `<div>` s\u00e3o `block`."
      ]
    },
    {
      "cell_type": "markdown",
      "metadata": {},
      "source": [
        "### Caixas `inline`"
      ]
    },
    {
      "cell_type": "markdown",
      "metadata": {},
      "source": [
        "Quando o elemento \u00e9 `inline`, a largura e a altura n\u00e3o podem ser configuradas, e o elemento se comporta como se fosse texto. Por exemplo, se tivermos um `span` com um texto, e definirmos uma largura e uma altura, a largura e a altura n\u00e3o ser\u00e3o aplicadas, e o elemento se comportar\u00e1 como se fosse texto.",
        "\n",
        "```html\n",
        "<span>Texto</span>",
        "```",
        "\n",
        "```css\n```",
        "span {\n",
        "    width: 100px;",
        "    height: 100px;",
        "```markdown\n```\n",
        "```",
        "\n",
        "Neste exemplo, a largura e a altura n\u00e3o ser\u00e3o aplicadas, e o elemento se comportar\u00e1 como se fosse texto."
      ]
    },
    {
      "cell_type": "markdown",
      "metadata": {},
      "source": [
        "Al\u00e9m disso, quando o elemento \u00e9 `inline`, se colocarmos v\u00e1rios elementos juntos no html, esses elementos ser\u00e3o exibidos juntos. Por exemplo, se tivermos v\u00e1rios `span` com um texto, e os colocarmos juntos no html, esses elementos ser\u00e3o exibidos juntos.",
        "\n",
        "```portugu\u00eas\n",
        "<span>Texto</span>",
        "<span>Texto</span>",
        "<span>Texto</span>",
        "```",
        "\n",
        "Neste exemplo, os elementos ser\u00e3o exibidos juntos ==> TextoTextoTexto."
      ]
    },
    {
      "cell_type": "markdown",
      "metadata": {},
      "source": [
        "Mas se quisermos que os elementos apare\u00e7am em linhas diferentes, podemos usar `display: block;`. Por exemplo, se tivermos v\u00e1rios `span` com um texto, e colocarmos `display: block;`, esses elementos ser\u00e3o exibidos em linhas diferentes.",
        "\n",
        "```html\n",
        "<span>Texto</span>",
        "<span>Texto</span>",
        "<span>Texto</span>",
        "```\n```",
        "\n",
        "",
        "span {",
        "    display: block;",
        "}\n",
        "",
        "\n",
        "Neste exemplo, os elementos ser\u00e3o exibidos em diferentes linhas",
        "                        \n",
        "\u2b07\n\n",
        "                        \n",
        "# T\u00edtulo\n\n## Subt\u00edtulo\n\nEste \u00e9 um par\u00e1grafo de exemplo em markdown. Aqui est\u00e3o alguns itens importantes:\n\n1. Primeiro item\n2. Segundo item\n3. Terceiro item\n\n### Outra sec\u00e7\u00e3o\n\nO texto em markdown permite a formata\u00e7\u00e3o b\u00e1sica de uma forma muito simples. Por exemplo, voc\u00ea pode fazer o texto ficar **negrito** ou *it\u00e1lico*. Tamb\u00e9m pode incluir [links](https://example.com) e imagens.\n\n![Descri\u00e7\u00e3o da Imagem](https://via.placeholder.com/150)\n\n#### Listas n\u00e3o ordenadas\n\n- Item A\n- Item B\n- Item C\n\n##### C\u00f3digo\n\nVoc\u00ea pode incluir c\u00f3digo em linha com crases invertidas, como `console.log('Ol\u00e1, mundo!');`, ou em blocos de c\u00f3digo:\n\n```python\ndef ola_mundo():\n    print(\"Ol\u00e1, mundo!\")\n```\n\nLembre-se de que a sintaxe do markdown \u00e9 muito flex\u00edvel e permite criar documentos muito claros e organizados.",
        "                        \n",
        "Texto",
        "                        \n",
        "Texto"
      ]
    },
    {
      "cell_type": "markdown",
      "metadata": {},
      "source": [
        "### Caixas `block`"
      ]
    },
    {
      "cell_type": "markdown",
      "metadata": {},
      "source": [
        "Quando o elemento \u00e9 `block`, a largura e a altura podem ser configuradas, e o elemento se comporta como se fosse um bloco. Por exemplo, se temos um `div` com um texto, e lhe atribu\u00edmos uma largura e uma altura, a largura e a altura ser\u00e3o aplicadas, e o elemento se comportar\u00e1 como se fosse um bloco.",
        "\n",
        "```markdown\n# Layouts em CSS Grid\n\nCSS Grid Layout \u00e9 um sistema de layout em duas dimens\u00f5es que pode lidar com ambos, linhas e colunas, ao mesmo tempo. Vamos abordar os conceitos b\u00e1sicos.\n\n## Container\n\nO elemento que ser\u00e1 o Grid Container precisa ter a propriedade `display: grid`.\n\n```css\n.container {\n  display: grid;\n}\n```\n\n## Largura e Altura das Colunas e Linhas\n\nPara definir a largura das colunas e a altura das linhas, usamos as propriedades `grid-template-columns` e `grid-template-rows`.\n\n```css\n.container {\n  display: grid;\n  grid-template-columns: 100px 200px;\n  grid-template-rows: 100px 300px;\n}\n```\n\nNo exemplo acima, o container tem duas colunas e duas linhas. A primeira coluna tem 100px de largura e a segunda 200px de largura. A primeira linha tem 100px de altura e a segunda 300px de altura.\n\n## Colocando Itens no Grid\n\nDepois de definir o Grid Container, voc\u00ea pode colocar itens dentro dele.\n\n```html\n<div class=\"container\">\n  <div class=\"item\">Item 1</div>\n  <div class=\"item\">Item 2</div>\n  <div class=\"item\">Item 3</div>\n  <div class=\"item\">Item 4</div>\n</div>\n```\n\nPara posicionar os itens, voc\u00ea pode usar as propriedades `grid-column` e `grid-row`.\n\n```css\n.item {\n  border: 1px solid black;\n  padding: 10px;\n}\n\n.item:nth-child(1) {\n  grid-column: 1;\n  grid-row: 1;\n}\n\n.item:nth-child(2) {\n  grid-column: 2;\n  grid-row: 1;\n}\n\n.item:nth-child(3) {\n  grid-column: 1;\n  grid-row: 2;\n}\n\n.item:nth-child(4) {\n  grid-column: 2;\n  grid-row: 2;\n}\n```\n\nNo exemplo acima, cada item \u00e9 posicionado em uma coluna e uma linha espec\u00edficas usando `grid-column` e `grid-row`.\n\n## Conclus\u00e3o\n\nCSS Grid oferece um poderoso sistema de layout 2D que torna mais f\u00e1cil criar layouts complexos. Ao entender os conceitos b\u00e1sicos, voc\u00ea estar\u00e1 a um passo de aproveitar todo o potencial do CSS Grid em seus projetos futuros.\n```",
        "<div>Texto</div>",
        "",
        "\n",
        "```css\n```",
        "div {",
        "    width: 100px;",
        "    height: 100px;",
        "```markdown\n```",
        "```",
        "\n",
        "Neste exemplo, a largura e a altura ser\u00e3o aplicadas, e o elemento se comportar\u00e1 como se fosse um bloco."
      ]
    },
    {
      "cell_type": "markdown",
      "metadata": {},
      "source": [
        "Al\u00e9m disso, quando o elemento \u00e9 `block`, se colocarmos v\u00e1rios elementos juntos no html, esses elementos ser\u00e3o exibidos um abaixo do outro. Por exemplo, se tivermos v\u00e1rios `div` com um texto, e os colocarmos juntos no html, esses elementos ser\u00e3o exibidos um abaixo do outro.",
        "\n",
        "```html\n",
        "<div>Texto</div>",
        "<div>Texto</div>",
        "<div>Texto</div>",
        "",
        "\n",
        "Neste exemplo, os elementos ser\u00e3o exibidos um abaixo do outro",
        "                        \n",
        "\u2b07\n",
        "                        \n",
        "Texto",
        "                        \n",
        "# T\u00edtulo\n\nEste \u00e9 um par\u00e1grafo em um documento markdown. Markdown \u00e9 uma linguagem de marca\u00e7\u00e3o leve que voc\u00ea pode usar para adicionar formata\u00e7\u00e3o a documentos de texto puro. **Este texto \u00e9 em negrito** e *este texto \u00e9 em it\u00e1lico*.\n\n## Lista de Tarefas\n\n- [ ] Item n\u00e3o conclu\u00eddo\n- [x] Item conclu\u00eddo\n\n## C\u00f3digo de Exemplo\n\n```python\ndef ola_mundo():\n    print(\"Ol\u00e1, mundo!\")\n```\n\nVoc\u00ea pode aprender mais sobre Markdown [aqui](https://www.markdownguide.org).\n\n![Imagem de Exemplo](https://www.example.com/imagem.jpg)\n\n## Tabela\n\n| Cabe\u00e7alho 1 | Cabe\u00e7alho 2 |\n| ----------- | ----------- |\n| Linha 1     | Dado 1      |\n| Linha 2     | Dado 2      |\n\n## Cita\u00e7\u00e3o\n\n> Este \u00e9 um bloco de cita\u00e7\u00e3o.\n\nEspero que voc\u00ea tenha achado este exemplo \u00fatil!",
        "                        \n",
        "Texto"
      ]
    },
    {
      "cell_type": "markdown",
      "metadata": {},
      "source": [
        "Mas se quisermos que os elementos sejam exibidos na mesma linha, podemos utilizar `display: inline;`. Por exemplo, se tivermos v\u00e1rios `div` com um texto, e lhes colocarmos `display: inline;`, esses elementos ser\u00e3o exibidos na mesma linha.",
        "\n",
        "```portugu\u00eas\n",
        "<div>Texto</div>",
        "<div>Texto</div>",
        "<div>Texto</div>",
        "",
        "\n",
        "",
        "```markdown\ndiv {\n```",
        "    display: inline;",
        "}",
        "```\n```",
        "\n",
        "Neste exemplo, os elementos ser\u00e3o exibidos na mesma linha ==> TextoTextoTexto."
      ]
    },
    {
      "cell_type": "markdown",
      "metadata": {},
      "source": [
        "### Margin, Border, Padding e Content"
      ]
    },
    {
      "cell_type": "markdown",
      "metadata": {},
      "source": [
        "Agora que sabemos que em HTML tudo s\u00e3o caixas, podemos ver que cada caixa tem 4 partes:",
        "\n",
        "- **Margin**: \u00c9 o espa\u00e7o que h\u00e1 entre a caixa e as demais caixas.",
        "- **Border**: \u00c9 a borda da caixa.",
        "- **Padding**: \u00c9 o espa\u00e7o entre a borda e o conte\u00fado.",
        "- **Contento**: \u00c9 o conte\u00fado da caixa.",
        "\n",
        "![Margin, Border, Padding e Content](https://web.dev/static/learn/css/box-model/image/un-diagrama-que-muestra-l-a71d29fe924e.svg?hl=es)"
      ]
    },
    {
      "cell_type": "markdown",
      "metadata": {},
      "source": [
        "Todas essas propriedades podem ser configuradas. Por exemplo, se tivermos um `div` com um texto, e colocarmos uma largura e uma altura, a largura e a altura ser\u00e3o aplicadas, e o elemento se comportar\u00e1 como se fosse um bloco.",
        "\n",
        "```html\n",
        "<div>Texto</div>",
        "",
        "\n",
        "```css\n",
        "```markdown\ndiv {\n```",
        "    width: 100px;",
        "    height: 100px;",
        "    margin: 10px;",
        "```markdown\nborder: 10px solid red;\n```",
        "    padding: 10px;",
        "Desculpe, mas parece que seu texto n\u00e3o foi inserido corretamente. Poderia tentar novamente?",
        "```",
        "\n",
        "Como s\u00e3o propriedades de tamanho, podem ser colocadas unidades de comprimento. Por exemplo:",
        "\n",
        " * Se queremos que a margem seja de 10 pixels, colocamos `margin: 10px;`.",
        "* Se quisermos que seja apenas a margem esquerda, colocamos `margin-left: 10px;`.",
        "* Se quisermos que seja apenas a margem direita, colocamos `margin-right: 10px;`.",
        " * Se quisermos que seja apenas a margem superior, colocamos `margin-top: 10px;`.",
        " * Se quisermos que seja apenas a margem inferior, colocamos `margin-bottom: 10px;`.",
        " * Se quisermos que cada margem seja de um tamanho, colocamos `margin: 10px 20px 30px 40px;`. A ordem \u00e9 cima, direita, baixo, esquerda, como se fossem os ponteiros do rel\u00f3gio.",
        " * Se quisermos alterar os tamanhos no eixo horizontal e vertical, colocamos `margin: 10px 20px;`. A ordem \u00e9 acima e abaixo (10px), esquerda e direita (20px)."
      ]
    },
    {
      "cell_type": "markdown",
      "metadata": {},
      "source": [
        "#### Tamanho da caixa ao mudar o padding"
      ]
    },
    {
      "cell_type": "markdown",
      "metadata": {},
      "source": [
        "Se temos um `div` com um texto, e colocamos uma largura e uma altura, a largura e a altura ser\u00e3o aplicadas, e o elemento se comportar\u00e1 como se fosse um bloco.",
        "\n",
        "```html",
        "<div>Texto</div>",
        "```\n```",
        "\n",
        "",
        "```markdown\ndiv {\n```",
        "    width: 100px;",
        "    height: 100px;",
        "{\n",
        "```",
        "\n",
        "Desta maneira o `div` ter\u00e1 uma largura e uma altura de 100px.",
        "\n",
        "Mas se agora aplicarmos um padding de 10px, a largura e a altura se manter\u00e3o, mas o tamanho da caixa ser\u00e1 de 120px, porque o padding \u00e9 adicionado \u00e0 largura e \u00e0 altura.",
        "\n",
        "```html\n",
        "<div>Texto</div>",
        "```",
        "\n",
        "```css\n```",
        "div {",
        "    width: 100px;",
        "    height: 100px;\n",
        "```markdown\npadding: 10px;\n```",
        "}",
        "```",
        "\n",
        "Desta maneira, o `div` ter\u00e1 uma largura e uma altura de 100px, mas o tamanho da caixa ser\u00e1 de 120px."
      ]
    },
    {
      "cell_type": "markdown",
      "metadata": {},
      "source": [
        "#### Tamanho da caixa ao alterar a borda"
      ]
    },
    {
      "cell_type": "markdown",
      "metadata": {},
      "source": [
        "Se temos um `div` com um texto, e lhe colocamos uma largura e uma altura, a largura e a altura ser\u00e3o aplicadas, e o elemento se comportar\u00e1 como se fosse um bloco.",
        "\n",
        "```html\n",
        "<div>Texto</div>",
        "```",
        "\n",
        "```css\n```",
        "```markdown\ndiv {\n```",
        "width: 100px;",
        "    height: 100px;",
        "}",
        "```\n```",
        "\n",
        "Dessa forma, o `div` ter\u00e1 uma largura e uma altura de 100px.",
        "\n",
        "Mas, se agora aplicarmos uma borda de 10px, a largura e a altura se manter\u00e3o, mas o tamanho da caixa ser\u00e1 de 120px, porque a borda \u00e9 adicionada \u00e0 largura e \u00e0 altura.",
        "\n",
        "```html\n```\n",
        "<div>Texto</div>",
        "```",
        "\n",
        "```css\n```",
        "div {",
        "    width: 100px;",
        "```\nheight: 100px;\n```",
        "   \n```markdown\nborda: 10px s\u00f3lido vermelho;\n```",
        "}",
        "```",
        "\n",
        "Desta forma, o `div` ter\u00e1 uma largura e uma altura de 100px, mas o tamanho da caixa ser\u00e1 de 120px."
      ]
    },
    {
      "cell_type": "markdown",
      "metadata": {},
      "source": [
        "#### Tamanho da caixa ao mudar a margem"
      ]
    },
    {
      "cell_type": "markdown",
      "metadata": {},
      "source": [
        "No caso das margens, o tamanho da caixa n\u00e3o muda, mas o espa\u00e7o entre as caixas sim. Por exemplo, se tivermos dois `div` com um texto, e definirmos uma largura e uma altura, a largura e a altura ser\u00e3o aplicadas, e o elemento se comportar\u00e1 como se fosse um bloco.",
        "\n",
        "```html\n",
        "<div>Texto</div>",
        "<div>Texto</div>",
        "```\n```",
        "\n",
        "```css\n",
        "```markdown\ndiv {\n```",
        "    width: 100px;",
        "    height: 100px;",
        "}",
        "```",
        "\n",
        "Desta forma, os `div` ter\u00e3o uma largura e uma altura de 100px.",
        "\n",
        "Mas se agora aplicarmos uma margem de 10px, a largura e a altura continuar\u00e3o as mesmas, mas o espa\u00e7o entre os `div` ser\u00e1 de 20px, porque a margem \u00e9 adicionada ao espa\u00e7o entre os `div`.",
        "\n",
        "```html\n```",
        "<div>Texto</div>",
        "<div>Texto</div>",
        "```\n```",
        "\n",
        "```css\n```",
        "div {",
        "    largura: 100px;",
        "    height: 100px;",
        "```markdown\nmargin: 10px;\n```",
        "}\n",
        "```\n```",
        "\n",
        "Dessa maneira, os `div` ter\u00e3o uma largura e uma altura de 100px, mas o espa\u00e7o entre os `div` ser\u00e1 de 20px."
      ]
    },
    {
      "cell_type": "markdown",
      "metadata": {},
      "source": [
        "#### Tamanho da caixa"
      ]
    },
    {
      "cell_type": "markdown",
      "metadata": {},
      "source": [
        "Portanto, o que ocupa a caixa \u00e9:",
        "\n",
        " * Largura: `width + padding + border`.",
        " * Altura: `height + padding + border`.",
        "\n",
        "O margem n\u00e3o conta, porque o margem \u00e9 o espa\u00e7o entre as caixas."
      ]
    },
    {
      "cell_type": "markdown",
      "metadata": {},
      "source": [
        "### Box-sizing"
      ]
    },
    {
      "cell_type": "markdown",
      "metadata": {},
      "source": [
        "Por padr\u00e3o, a propriedade `box-sizing` est\u00e1 configurada como `content-box`. Isso significa que a largura e a altura n\u00e3o incluem o padding nem a borda. Por exemplo, se tivermos um `div` com um texto e definirmos uma largura e uma altura, a largura e a altura ser\u00e3o aplicadas, e o elemento se comportar\u00e1 como se fosse um bloco.",
        "\n",
        "```html\n",
        "<div>Texto</div>",
        "",
        "\n",
        "",
        "div {",
        "    width: 100px;",
        "    height: 100px;",
        "}",
        "```\n```",
        "\n",
        "Dessa maneira, o `div` ter\u00e1 uma largura e uma altura de 100px.",
        "\n",
        "Mas se agora aplicarmos um padding de 10px, a largura e a altura permanecer\u00e3o as mesmas, mas o tamanho da caixa ser\u00e1 de 120px, porque o padding \u00e9 adicionado \u00e0 largura e \u00e0 altura.",
        "\n",
        "```html",
        "<div>Texto</div>",
        "",
        "\n",
        "```css\n```",
        "\n```markdown\ndiv {\n```",
        "    width: 100px;",
        "    height: 100px;",
        "    padding: 10px;",
        "}\n",
        "```\n```",
        "\n",
        "Dessa forma, o `div` ter\u00e1 uma largura e uma altura de 100px, mas o tamanho da caixa ser\u00e1 de 120px."
      ]
    },
    {
      "cell_type": "markdown",
      "metadata": {},
      "source": [
        "Se mudarmos a propriedade `box-sizing` para `border-box`, a largura e a altura incluir\u00e3o o padding e a borda. Por exemplo, se tivermos um `div` com um texto e definirmos uma largura e uma altura, a largura e a altura ser\u00e3o aplicadas, e o elemento se comportar\u00e1 como se fosse um bloco.",
        "\n",
        "```markdown\nSe queres aprender a criar um **website** b\u00e1sico usando HTML, siga os passos abaixo:\n\n1. **Estrutura b\u00e1sica**:\n    ```html\n    <!DOCTYPE html>\n    <html lang=\"pt\">\n    <head>\n        <meta charset=\"UTF-8\">\n        <meta name=\"viewport\" content=\"width=device-width, initial-scale=1.0\">\n        <title>T\u00edtulo do Site</title>\n    </head>\n    <body>\n        <h1>Meu primeiro site</h1>\n        <p>Este \u00e9 um par\u00e1grafo no meu site.</p>\n    </body>\n    </html>\n    ```\n2. **Adicionar uma imagem**:\n    Para adicionar uma imagem, voc\u00ea pode usar a tag `<img>`. Exemplo:\n    ```html\n    <img src=\"caminho/para/imagem.jpg\" alt=\"Descri\u00e7\u00e3o da Imagem\">\n    ```\n\n3. **Criar um link**:\n    Para criar um link, voc\u00ea pode usar a tag `<a>`. Exemplo:\n    ```html\n    <a href=\"https://www.example.com\">Visite o Example.com</a>\n    ```\n\n4. **Listas**:\n    Existem dois tipos de listas: ordenadas e n\u00e3o ordenadas.\n    - Lista n\u00e3o ordenada:\n        ```html\n        <ul>\n            <li>Item 1</li>\n            <li>Item 2</li>\n            <li>Item 3</li>\n        </ul>\n        ```\n    - Lista ordenada:\n        ```html\n        <ol>\n            <li>Item A</li>\n            <li>Item B</li>\n            <li>Item C</li>\n        </ol>\n        ```\n\nCom esses passos b\u00e1sicos, voc\u00ea pode come\u00e7ar a criar seu pr\u00f3prio website. Continue praticando e explorando mais tags e atributos HTML para expandir suas habilidades.\n```",
        "<div>Texto</div>",
        "```",
        "\n",
        "```css\n```",
        "div {",
        "    width: 100px;",
        "    height: 100px;",
        "```css\nbox-sizing: border-box;\n```",
        "{\n",
        "```",
        "\n",
        "Dessa forma, o `div` ter\u00e1 uma largura e uma altura de 100px.",
        "\n",
        "Mas se agora aplicarmos um padding de 10px, a largura e a altura se manter\u00e3o, e o tamanho da caixa tamb\u00e9m ser\u00e1 de 100px, porque o padding n\u00e3o \u00e9 acrescentado \u00e0 largura e \u00e0 altura.",
        "\n",
        "```html\n",
        "<div>Texto</div>",
        "",
        "\n",
        "```css\n```",
        "```markdown\ndiv {\n```",
        "    width: 100px;",
        "    height: 100px;",
        "    box-sizing: border-box;",
        "    padding: 10px;",
        "```markdown\n}\n```",
        "```",
        "\n",
        "Dessa forma, o `div` ter\u00e1 uma largura e uma altura de 100px, e o tamanho da caixa tamb\u00e9m ser\u00e1 de 100px.",
        "\n",
        "\u00c9 preciso ter em conta que, quando se altera a propriedade `box-sizing` para `border-box`, a largura e a altura incluem o padding e a borda, por isso n\u00e3o podemos definir uma largura e uma altura menores que o padding e a borda. Por exemplo, se temos um `div` com um texto, e definimos uma largura e uma altura, a largura e a altura ser\u00e3o aplicadas, e o elemento se comportar\u00e1 como se fosse um bloco.",
        "\n",
        "```portugu\u00eas\n",
        "<div>Texto</div>",
        "",
        "\n",
        "```css\n```",
        "div {",
        "    width: 100px;",
        "    height: 100px;",
        "    box-sizing: border-box;",
        "}",
        "```",
        "\n",
        "Dessa forma, o `div` ter\u00e1 uma largura e uma altura de 100px.",
        "\n",
        "Mas se agora aplicarmos um padding de 110px, a largura e a altura ser\u00e3o mantidas, mas o tamanho da caixa ser\u00e1 de 220px, porque o padding \u00e9 adicionado \u00e0 largura e \u00e0 altura.",
        "\n",
        "```markdown\n",
        "<div>Texto</div>",
        "",
        "\n",
        "```css\n```",
        "```markdown\ndiv {\n```",
        "    width: 100px;",
        "    height: 100px;",
        "```css\nbox-sizing: border-box;\n```",
        "    padding: 110px;",
        "```markdown\n```\n",
        "```",
        "\n",
        "Dessa forma, o `div` ter\u00e1 uma largura e altura de 100px, mas o tamanho da caixa ser\u00e1 de 220px."
      ]
    },
    {
      "cell_type": "markdown",
      "metadata": {},
      "source": [
        "### Overflow"
      ]
    },
    {
      "cell_type": "markdown",
      "metadata": {},
      "source": [
        "Um dos memes mais famosos de CSS \u00e9 o seguinte",
        "\n",
        "![CSS \u00e9 incr\u00edvel](https://css-tricks.com/wp-content/uploads/2021/04/css-is-awesome.jpg)",
        "\n",
        "E isso ocorre quando o tamanho do conte\u00fado \u00e9 maior que o tamanho da caixa. Por exemplo, se tivermos um `div` com um texto e definirmos uma largura e uma altura, a largura e a altura ser\u00e3o aplicadas, e o elemento se comportar\u00e1 como se fosse um bloco.",
        "\n",
        "```html\n",
        "<div>Texto</div>",
        "",
        "\n",
        "```css\n```",
        "```markdown\ndiv {\n```",
        "    width: 100px;",
        "    height: 100px;",
        "{'",
        "```",
        "\n",
        "Desta forma, o `div` ter\u00e1 uma largura e uma altura de 100px.",
        "\n",
        "Mas se agora aplicarmos um texto muito longo, o texto sair\u00e1 da caixa, porque o tamanho do conte\u00fado \u00e9 maior que o tamanho da caixa.",
        "\n",
        "```markdown\n```",
        "<div>Texto muito longo</div>",
        "",
        "\n",
        "",
        "Entendido. Por favor, proporciona el texto markdown que deseas traducir al portugu\u00e9s.",
        "    width: 100px;",
        "    height: 100px;",
        "}",
        "```",
        "\n",
        "Desta forma, o `div` ter\u00e1 uma largura e uma altura de 100px, mas o texto sair\u00e1 da caixa."
      ]
    },
    {
      "cell_type": "markdown",
      "metadata": {},
      "source": [
        "Isso ocorre porque em CSS a propriedade `overflow` est\u00e1 configurada como `visible`. Isso significa que o conte\u00fado pode sair da caixa. Mas temos outras op\u00e7\u00f5es:\n",
        "\n",
        " * `hidden`: O conte\u00fado n\u00e3o pode sair da caixa e \u00e9 cortado.",
        " * `scroll`: O conte\u00fado n\u00e3o pode sair da caixa, e uma barra de deslocamento \u00e9 adicionada.",
        " * `auto`: O conte\u00fado n\u00e3o pode sair da caixa e \u00e9 adicionada uma barra de rolagem, se necess\u00e1rio. Nesse caso, depende do dispositivo, pois se o dispositivo tiver uma barra de rolagem, ser\u00e1 adicionada uma barra de rolagem, e se o dispositivo n\u00e3o tiver uma barra de rolagem, n\u00e3o ser\u00e1 adicionada uma barra de rolagem.",
        "\n",
        "Entre `scroll` e `auto`, o recomendado \u00e9 `auto`, porque se o dispositivo tiver uma barra de rolagem, ser\u00e1 adicionada uma barra de rolagem, e se o dispositivo n\u00e3o tiver uma barra de rolagem, n\u00e3o ser\u00e1 adicionada uma barra de rolagem.",
        "\n",
        "![aoverflow](https://lh3.googleusercontent.com/-tVNmvecB8A4/Ukqdi769oPI/AAAAAAAAAd0/kgisEf3RGRk/s538/CU01038D_1.png)"
      ]
    },
    {
      "cell_type": "markdown",
      "metadata": {},
      "source": [
        "### Overflow hidden"
      ]
    },
    {
      "cell_type": "markdown",
      "metadata": {},
      "source": [
        "No caso de escolher `hidden`, o conte\u00fado n\u00e3o pode sair da caixa, e \u00e9 cortado. Neste caso, temos a propriedade `text-overflow`, que nos permite configurar o que se faz com o texto que sai da caixa. As op\u00e7\u00f5es s\u00e3o:",
        "\n",
        " * `clip`: O texto \u00e9 cortado.",
        " * `ellipsis`: O texto \u00e9 cortado, e `...` \u00e9 adicionado ao final do texto.",
        "\n",
        "No futuro ser\u00e1 poss\u00edvel adicionar um s\u00edmbolo personalizado, mas por enquanto isso n\u00e3o \u00e9 poss\u00edvel."
      ]
    },
    {
      "cell_type": "markdown",
      "metadata": {},
      "source": [
        "#### Estiliza\u00e7\u00e3o da barra"
      ]
    },
    {
      "cell_type": "markdown",
      "metadata": {},
      "source": [
        "Em caso de haver transbordamentos, pode-se estilizar a barra, mas \u00e9 recomend\u00e1vel n\u00e3o estilizar a barra da p\u00e1gina e apenas faz\u00ea-lo em barras de caixas internas. Por exemplo, se na p\u00e1gina houver um \u00edndice na lateral e quisermos mudar o tamanho e a cor da barra para que fique melhor, podemos faz\u00ea-lo.",
        "\n",
        "Em [scrollbar.app](https://scrollbar.app/) temos um editor para poder estilizar a barra e obter o c\u00f3digo necess\u00e1rio"
      ]
    },
    {
      "cell_type": "markdown",
      "metadata": {},
      "source": [
        "### Posi\u00e7\u00e3o"
      ]
    },
    {
      "cell_type": "markdown",
      "metadata": {},
      "source": [
        "Em HTML, os elementos v\u00e3o se empilhando, posicionam-se por padr\u00e3o de maneira est\u00e1tica, isso \u00e9 porque por padr\u00e3o em CSS t\u00eam o atributo `position` com o valor `static`. Isso significa que o elemento se posiciona de maneira est\u00e1tica, e n\u00e3o pode ser movido. Os poss\u00edveis valores s\u00e3o",
        "\n",
        " * `static`: O elemento \u00e9 posicionado de forma est\u00e1tica e n\u00e3o pode ser movido.",
        " * `relative`: O elemento \u00e9 posicionado de maneira relativa e pode ser movido.",
        " * `absolute`: O elemento \u00e9 posicionado de maneira absoluta e pode ser movido.",
        " * `fixed`: O elemento \u00e9 posicionado de forma fixa, e pode ser movido.",
        " * `sticky`: O elemento se posiciona de maneira pegajosa, e pode se mover.",
        "\n",
        "![Position](https://miro.medium.com/v2/resize:fit:600/1*WU2bIP1OCaS71r82S5zFeA.jpeg)"
      ]
    },
    {
      "cell_type": "markdown",
      "metadata": {},
      "source": [
        "#### Posi\u00e7\u00e3o relativa"
      ]
    },
    {
      "cell_type": "markdown",
      "metadata": {},
      "source": [
        "Quando queremos que a posi\u00e7\u00e3o de um elemento seja relativa a outro usamos `position: relative;`. Mas \u00e9 necess\u00e1rio colocar `position: relative;` no pai, e `position: absolute;` no filho. Por exemplo, se temos um `div` com um texto, e queremos que o texto esteja no canto superior direito do `div`, podemos faz\u00ea-lo.",
        "\n",
        "```html\n```",
        "<div>",
        "    <p>Texto</p>",
        "</div>",
        "",
        "\n",
        "```css\n```",
        "```markdown\ndiv {\n```\n",
        "    position: relative;",
        "}",
        "\n",
        "```markdown\np {\n```",
        "    position: absolute;",
        "    top: 0;",
        "    right: 50px;",
        "",
        "```",
        "\n",
        "Dessa forma, o texto estar\u00e1 no canto superior direito do `div`."
      ]
    },
    {
      "cell_type": "markdown",
      "metadata": {},
      "source": [
        "#### Posi\u00e7\u00e3o absoluta"
      ]
    },
    {
      "cell_type": "markdown",
      "metadata": {},
      "source": [
        "Quando o elemento \u00e9 `absolute`, o elemento se posiciona de maneira absoluta em rela\u00e7\u00e3o ao primeiro elemento pai que n\u00e3o seja `static`. No exemplo anterior, vimos que se tivermos um `div` com um texto, e queremos que o texto esteja no canto superior direito do `div`, podemos faz\u00ea-lo.",
        "\n",
        "```portugu\u00eas\n``` html\n",
        "<div>",
        "```markdown\n<p>Texto</p>\n```",
        "</div>",
        "```",
        "\n",
        "```css\n```",
        "div {",
        "    posi\u00e7\u00e3o: relativa;",
        "}",
        "\n",
        "```markdown\np {\n```",
        "    position: absolute;\n\n",
        "    top: 0;",
        "    right: 50px;",
        "```markdown\n}\n```",
        "```",
        "\n",
        "Neste exemplo, o `div` tem `position: relative;`, portanto, o `p` se posiciona de maneira absoluta ao `div`, no canto superior direito."
      ]
    },
    {
      "cell_type": "markdown",
      "metadata": {},
      "source": [
        "No caso de n\u00e3o haver nenhum elemento pai que n\u00e3o seja `static`, o elemento se posiciona de maneira absoluta ao `body`, ou seja, \u00e0 p\u00e1gina.",
        "\n",
        "```html",
        "<p>Texto</p>",
        "",
        "\n",
        "```css\n```",
        "p {",
        "    position: absolute;",
        "    top: 0;",
        "    right: 50px;",
        "```markdown\n{\n```",
        "```\n```",
        "\n",
        "Neste exemplo, o `p` n\u00e3o tem nenhum elemento pai al\u00e9m de `static`, ent\u00e3o o `p` \u00e9 posicionado de maneira absoluta em rela\u00e7\u00e3o ao `body`. Ou seja, na parte superior direita da p\u00e1gina."
      ]
    },
    {
      "cell_type": "markdown",
      "metadata": {},
      "source": [
        "Gra\u00e7as \u00e0s propriedades `relative` e `absolute` podemos centralizar um `div` horizontalmente e verticalmente. Por exemplo, se temos um `div` com um texto, e queremos que o texto esteja centralizado horizontalmente e verticalmente, podemos fazer isso.",
        "\n",
        "```markdown\n",
        "<div>\n",
        "```markdown\n<p>Texto</p>\n```",
        "```markdown\n</div>\n```",
        "```\n```",
        "\n",
        "```css\n```",
        "O texto que voc\u00ea forneceu \u00e9 um trecho de c\u00f3digo de programa\u00e7\u00e3o e n\u00e3o texto markdown em espanhol. Como especialista em tradu\u00e7\u00e3o para o portugu\u00eas de textos markdown, preciso de conte\u00fado textual em markdown para traduzir.\n\nPor favor, forne\u00e7a um texto markdown na l\u00edngua espanhola para que eu possa traduzi-lo para o portugu\u00eas.",
        "    position: relative;",
        "}",
        "\n",
        "p {",
        "    position: absolute;",
        "    top: 0;",
        "    right: 0;",
        "    bottom: 0;",
        "    left: 0;",
        "    margin: auto;",
        "```markdown\n}\n```",
        "",
        "\n",
        "Neste exemplo, o `div` tem `position: relative;`, ent\u00e3o o `p` \u00e9 posicionado de maneira absoluta em rela\u00e7\u00e3o ao `div`, no canto superior direito. Al\u00e9m disso, o `p` tem `top: 0;`, `right: 0;`, `bottom: 0;` e `left: 0;`, ent\u00e3o o `p` ocupa todo o `div`. Por fim, o `p` tem `margin: auto;`, ent\u00e3o o `p` se centra horizontalmente e verticalmente.",
        "\n",
        "Esta n\u00e3o \u00e9 a melhor maneira de centralizar o conte\u00fado em um `div`, mas pode ser muito \u00fatil em alguns casos, como por exemplo em um modal."
      ]
    },
    {
      "cell_type": "markdown",
      "metadata": {},
      "source": [
        "#### Posi\u00e7\u00e3o fixa"
      ]
    },
    {
      "cell_type": "markdown",
      "metadata": {},
      "source": [
        "Quando o elemento \u00e9 `fixed`, o elemento \u00e9 posicionado de maneira fixa na janela. \u00c9 parecido com `absolute`, mas em vez de se posicionar no primeiro elemento pai que n\u00e3o seja `static`, ele se posiciona na janela. Al\u00e9m disso, se a janela se mover, o elemento se move com ela, ou seja, se fizermos scroll, o elemento sempre estar\u00e1 na mesma posi\u00e7\u00e3o.",
        "\n",
        "Por exemplo, se temos um `div` com um texto, e queremos que o texto esteja no canto superior direito da janela, podemos faz\u00ea-lo.",
        "\n",
        "```markdown\n```\n",
        "<div>",
        "    <p>Texto</p>",
        "</div>",
        "```\n```",
        "\n",
        "",
        "```markdown\np {\n```",
        "    position: fixed;",
        "    top: 0;",
        "    right: 50px;",
        "{\n",
        "",
        "\n",
        "Neste exemplo, o `p` se posiciona de maneira fixa na janela, no canto superior direito e ao fazer scroll, o `p` sempre estar\u00e1 na mesma posi\u00e7\u00e3o."
      ]
    },
    {
      "cell_type": "markdown",
      "metadata": {},
      "source": [
        "#### Posi\u00e7\u00e3o sticky"
      ]
    },
    {
      "cell_type": "markdown",
      "metadata": {},
      "source": [
        "Quando o elemento \u00e9 `sticky`, o elemento se posiciona de maneira pegajosa ao primeiro elemento pai que n\u00e3o seja `static`.",
        "\n",
        "\u00c9 parecido a `relative`, mas quando o elemento chega ao topo da janela, o elemento posiciona-se de maneira fixa na janela. Al\u00e9m disso, se a janela se mover, o elemento move-se com ela, ou seja, se fizermos scroll, o elemento estar\u00e1 sempre na mesma posi\u00e7\u00e3o.",
        "\n",
        "Por exemplo, se tivermos um `div` com um texto, e quisermos que o texto esteja no canto superior direito do `div`, podemos fazer isso.",
        "\n",
        "```html\n```",
        "<div>",
        "```html\n<p>Texto</p>\n```",
        "</div>",
        "",
        "\n",
        "```css\n```",
        "```markdown\ndiv {\n```",
        "    posi\u00e7\u00e3o: relativa;",
        "```markdown\n}\n```",
        "\n",
        "p {",
        "    position: sticky;",
        "    top: 0;",
        "    right: 50px;\n",
        "{\n",
        "```",
        "\n",
        "Neste exemplo, o `div` tem `position: relative;`, portanto o `p` \u00e9 posicionado de maneira relativa ao `div`, no canto superior direito. Al\u00e9m disso, o `p` tem `top: 0;`, ent\u00e3o o `p` \u00e9 posicionado de maneira pegajosa ao `div`. Ou seja, quando o `p` chega \u00e0 parte superior da janela, o `p` \u00e9 posicionado de maneira fixa \u00e0 janela.",
        "\n",
        "![sticky](https://miro.medium.com/v2/resize:fit:720/format:webp/1*kyrVMytQd1Dt19D0If5q3Q.gif)"
      ]
    },
    {
      "cell_type": "markdown",
      "metadata": {},
      "source": [
        "### Z-index"
      ]
    },
    {
      "cell_type": "markdown",
      "metadata": {},
      "source": [
        "Como vimos ao mudar o `position` de um elemento, o elemento se posiciona acima dos outros elementos. Portanto, precisamos ter controle sobre qual elemento est\u00e1 ou ser\u00e1 visto acima dos outros. Para isso, temos a propriedade `z-index`. Por padr\u00e3o, todos os elementos t\u00eam `z-index: auto;`, mas podemos mud\u00e1-lo. Por exemplo, se tivermos um `div` com um texto, e quisermos que o texto esteja acima do `div`, podemos faz\u00ea-lo.",
        "\n",
        "```html",
        "<div>\n",
        "```markdown\n<p>Texto</p>\n```",
        "</div>",
        "```",
        "\n",
        "```css\n```",
        "div {",
        "    position: relative;",
        "    z-index: 0;",
        "{\n",
        "\n",
        "p {",
        "    posi\u00e7\u00e3o: absoluta;",
        "    top: 0;",
        "    right: 50px;",
        "    z-index: 1;\n",
        "}",
        "```",
        "\n",
        "Neste exemplo, o `div` tem `position: relative;` e `z-index: 0;`, portanto o `div` se posiciona de maneira relativa ao `div`, e o `div` tem um `z-index` de 0. Al\u00e9m disso, o `p` tem `position: absolute;`, `top: 0;`, `right: 50px;` e `z-index: 1;`, portanto o `p` se posiciona de maneira absoluta ao `div`, no canto superior direito, e o `p` tem um `z-index` de 1. Portanto, o `p` estar\u00e1 em cima do `div`."
      ]
    },
    {
      "cell_type": "markdown",
      "metadata": {},
      "source": [
        "Se n\u00e3o se indicar o `z-index`, os filhos t\u00eam um `z-index` maior que os pais. Mas, por exemplo, no caso de `position: sticky;`, o `z-index` do elemento filho \u00e9 maior que o `z-index` do seu pai, mas na hora de fazer scroll, se em algum momento o filho coincidir com outro pai, o outro pai estar\u00e1 por cima.",
        "\n",
        "Se quisermos que esse filho seja vis\u00edvel acima dos outros pais, podemos control\u00e1-lo com o `z-index`.",
        "\n",
        "No [curso de CSS do Google](https://web.dev/learn/css/z-index?hl=es-419) pode-se ver muito bem como funciona o `z-index`."
      ]
    },
    {
      "cell_type": "markdown",
      "metadata": {},
      "source": [
        "## Flexbox e Grid"
      ]
    },
    {
      "cell_type": "markdown",
      "metadata": {},
      "source": [
        "H\u00e1 duas maneiras de fazer layouts em CSS, com `flexbox` e com `grid`. `Flexbox` \u00e9 mais antigo, e `grid` \u00e9 mais novo. `Flexbox` \u00e9 unidimensional, e `grid` \u00e9 bidimensional. `Flexbox` \u00e9 para layouts simples, e `grid` \u00e9 para layouts complexos."
      ]
    },
    {
      "cell_type": "markdown",
      "metadata": {},
      "source": [
        "## Flexbox"
      ]
    },
    {
      "cell_type": "markdown",
      "metadata": {},
      "source": [
        "Como vimos, temos cont\u00eaineres que t\u00eam `display: block;`, e cont\u00eaineres que t\u00eam `display: inline;`. Os primeiros s\u00e3o exibidos em linhas diferentes, e os segundos s\u00e3o exibidos na mesma linha. Portanto, se tivermos v\u00e1rios `div`s, eles aparecer\u00e3o um abaixo do outro, e se tivermos v\u00e1rios `span`s, eles aparecer\u00e3o na mesma linha.",
        "\n",
        "Mas se quisermos que os `div`s apare\u00e7am na mesma linha e de maneira flex\u00edvel, podemos criar um cont\u00eainer pai que os contenha e fazer com que o cont\u00eainer pai tenha `display: flex;`.",
        "\n",
        "```html\n```",
        "<section>",
        "```html\n<div>Texto</div>\n```",
        "```html\n<div>Texto</div>\n```",
        "```markdown\n<div>Texto</div>\n```",
        "</div>",
        "",
        "\n",
        "```css\n",
        "se\u00e7\u00e3o {",
        "    display: flex;",
        "```markdown\n```",
        "```",
        "\n",
        "Dessa forma, os `div`s ser\u00e3o exibidos na mesma linha e de maneira flex\u00edvel, ou seja, se n\u00e3o couberem na mesma linha, ser\u00e3o posicionados na linha seguinte."
      ]
    },
    {
      "cell_type": "markdown",
      "metadata": {},
      "source": [
        "### Flex-direction"
      ]
    },
    {
      "cell_type": "markdown",
      "metadata": {},
      "source": [
        "`Flexbox` \u00e9 unidimensional, portanto, s\u00f3 \u00e9 poss\u00edvel configurar uma dire\u00e7\u00e3o. Por padr\u00e3o, a propriedade `flex-direction` est\u00e1 configurada como `row`. Isso significa que os elementos s\u00e3o exibidos na mesma linha. Mas podemos alter\u00e1-la para `column`, para que os elementos sejam exibidos em linhas diferentes.",
        "\n",
        "```html\n```",
        "<section>\n",
        "```html\n<div>Texto</div>\n```",
        "```markdown\n<div>Texto</div>\n```",
        "    <div>Texto</div>",
        "</section>",
        "```",
        "\n",
        "```css\n```",
        "se\u00e7\u00e3o {",
        "    display: flex;",
        "    flex-direction: column;",
        "}",
        "```",
        "\n",
        "Desta forma, os `div`s aparecer\u00e3o em linhas diferentes.",
        "\n",
        "Isso \u00e9 muito \u00fatil para fazer layouts responsivos, porque podemos mudar a dire\u00e7\u00e3o dos elementos dependendo do tamanho da tela."
      ]
    },
    {
      "cell_type": "markdown",
      "metadata": {},
      "source": [
        "Podemos al\u00e9m disso indicar o sentido da dire\u00e7\u00e3o, com `flex-direction: row-reverse;` ou `flex-direction: column-reverse;`. Por exemplo, se tivermos v\u00e1rios `div`s, e queremos que sejam exibidos na mesma linha, mas em sentido contr\u00e1rio, podemos fazer isso.",
        "\n",
        "```html\n```",
        "<section>",
        "```html\n<div>Texto</div>\n```",
        "<div>Texto</div>",
        "    <div>Texto</div>",
        "</section>",
        "```\n```",
        "\n",
        "",
        "se\u00e7\u00e3o {",
        "    display: flex;",
        "    flex-direction: row-reverse;",
        "}",
        "",
        "\n",
        "Dessa forma, os `div`s estar\u00e3o na mesma linha, mas em sentido contr\u00e1rio.",
        "\n",
        "Isso \u00e9 muito \u00fatil quando queremos ordenar os elementos de maneira inversa, por exemplo, se temos um `ul` com uma lista, e queremos que a lista seja exibida em sentido contr\u00e1rio, dessa forma n\u00e3o h\u00e1 necessidade de programar nada, podendo ser feito com CSS."
      ]
    },
    {
      "cell_type": "markdown",
      "metadata": {},
      "source": [
        "![flex-direction](https://byteiota.com/wp-content/uploads/2020/11/flex-direction.png)"
      ]
    },
    {
      "cell_type": "markdown",
      "metadata": {},
      "source": [
        "### Dire\u00e7\u00e3o"
      ]
    },
    {
      "cell_type": "markdown",
      "metadata": {},
      "source": [
        "Outra maneira de indicar o sentido da dire\u00e7\u00e3o \u00e9 com a propriedade `direction`. Por padr\u00e3o, a propriedade `direction` est\u00e1 configurada para `ltr`. Isso significa que o sentido da dire\u00e7\u00e3o \u00e9 da esquerda para a direita. Mas podemos mud\u00e1-la para `rtl`, para que o sentido da dire\u00e7\u00e3o seja da direita para a esquerda.",
        "\n",
        "```markdown\n```html\n```",
        "<section>\n",
        "```html\n<div>Texto</div>\n```",
        "```markdown\n<div>Texto</div>\n```",
        "    <div>Texto</div>",
        "</section>",
        "",
        "\n",
        "```css\n```",
        "se\u00e7\u00e3o {",
        "    display: flex;",
        "    direction: rtl;",
        "}",
        "```",
        "\n",
        "![direction](https://rtlstyling.com/img/flexbox-axis.jpg)"
      ]
    },
    {
      "cell_type": "markdown",
      "metadata": {},
      "source": [
        "### Flex-wrap"
      ]
    },
    {
      "cell_type": "markdown",
      "metadata": {},
      "source": [
        "Quando os elementos n\u00e3o cabem na mesma linha, s\u00e3o colocados na linha seguinte. Mas podemos mudar esse comportamento com a propriedade `flex-wrap`. Por padr\u00e3o, a propriedade `flex-wrap` est\u00e1 configurada como `nowrap`. Isso significa que os elementos n\u00e3o podem ser colocados na linha seguinte. Mas podemos mudar para `wrap`, para que os elementos possam ser colocados na linha seguinte.",
        "\n",
        "```html\n```",
        "<section>",
        "    <div>Texto</div>",
        "    <div>Texto</div>",
        "    <div>Texto</div>",
        "</section>",
        "```",
        "\n",
        "",
        "se\u00e7\u00e3o {",
        "    display: flex;",
        "    flex-wrap: wrap;",
        "```markdown\n}\n```",
        "",
        "\n",
        "Desta maneira os `div`s poder\u00e3o ser colocados na linha seguinte.",
        "\n",
        502
      ]
    },
    {
      "cell_type": "markdown",
      "metadata": {},
      "source": [
        "### Flex-flow"
      ]
    },
    {
      "cell_type": "markdown",
      "metadata": {},
      "source": [
        "Uma maneira de configurar a dire\u00e7\u00e3o e o wrap dos elementos \u00e9 com a propriedade `flex-flow`. Por padr\u00e3o, a propriedade `flex-flow` est\u00e1 configurada para `row nowrap`. Isso significa que os elementos s\u00e3o exibidos na mesma linha e n\u00e3o podem ser colocados na linha seguinte. Mas podemos mud\u00e1-lo para `row wrap`, para que os elementos sejam exibidos na mesma linha, e possam ser colocados na linha seguinte.",
        "\n",
        "```portugu\u00eas\n",
        "<section>\n",
        "<div>Texto</div>",
        "    <div>Texto</div>",
        "<div>Texto</div>",
        "</section>",
        "```",
        "\n",
        "```css\n```",
        "se\u00e7\u00e3o {",
        "    display: flex;",
        "    flex-flow: row wrap;",
        "}",
        "```",
        "\n",
        "Dessa forma, os `div`s ficar\u00e3o na mesma linha e poder\u00e3o ser colocados na linha seguinte.",
        "\n",
        "![flex-flow](https://i.stack.imgur.com/6vtqd.png)"
      ]
    },
    {
      "cell_type": "markdown",
      "metadata": {},
      "source": [
        "### Flex-grow, Flex-shrink e Flex-basis"
      ]
    },
    {
      "cell_type": "markdown",
      "metadata": {},
      "source": [
        "Podemos configurar o tamanho dos elementos com as propriedades `flex-grow`, `flex-shrink` e `flex-basis`.",
        "\n",
        " * `flex-grow`: Indica se o elemento pode crescer ou n\u00e3o. Por padr\u00e3o, a propriedade `flex-grow` est\u00e1 configurada para `0`, o que significa que o elemento n\u00e3o pode crescer. Mas podemos alter\u00e1-la para `1`, para que o elemento possa crescer.",
        " * `flex-shrink`: Indica se o elemento pode encolher ou n\u00e3o. Por padr\u00e3o, a propriedade `flex-shrink` est\u00e1 configurada como `1`, o que significa que o elemento pode encolher. Mas podemos alter\u00e1-la para `0`, para que o elemento n\u00e3o possa encolher.",
        " * `flex-basis`: Indica o tamanho do elemento. Por padr\u00e3o, a propriedade `flex-basis` est\u00e1 configurada para `auto`, o que significa que o elemento tem um tamanho autom\u00e1tico. Mas podemos mud\u00e1-lo para `100px`, para que o elemento tenha um tamanho de 100px.",
        "\n",
        "Por exemplo, se tivermos v\u00e1rios `div`s, e quisermos que o primeiro `div` tenha um tamanho de 100px, e os demais compartilhem o espa\u00e7o restante, podemos faz\u00ea-lo.",
        "\n",
        "```html\n",
        "<section>",
        "```html\n<div>Texto</div>\n```",
        "```html\n<div>Texto</div>\n```",
        "    <div>Texto</div>",
        "</section>",
        "```",
        "\n",
        "```css\n```",
        "se\u00e7\u00e3o {",
        "    display: flex;",
        "}",
        "\n",
        "section div:first-child {",
        "    flex-grow: 0;   /* Como por padr\u00e3o est\u00e1 em 0, n\u00e3o \u00e9 necess\u00e1rio coloc\u00e1-lo */",
        "    flex-shrink: 0; /* Como por padr\u00e3o est\u00e1 em 1, n\u00e3o \u00e9 necess\u00e1rio coloc\u00e1-lo */",
        "```markdown\n    flex-basis: 100px;\n```",
        "```markdown\n}\n```",
        "\n",
        "section div {",
        "    flex-grow: 1;",
        "    flex-shrink: 1;     /* Como por padr\u00e3o est\u00e1 em 1, n\u00e3o \u00e9 necess\u00e1rio coloc\u00e1-lo */",
        "    flex-basis: auto;   /* Como por padr\u00e3o est\u00e1 em auto, n\u00e3o \u00e9 necess\u00e1rio coloc\u00e1-lo */",
        "}\n",
        "",
        "\n",
        "Dessa maneira, o primeiro `div` ter\u00e1 um tamanho de 100px, e os demais dividir\u00e3o o espa\u00e7o restante."
      ]
    },
    {
      "cell_type": "markdown",
      "metadata": {},
      "source": [
        "\n",
        "Pode-se modificar os tr\u00eas valores de uma vez com a propriedade `flex`. Por exemplo, se tivermos v\u00e1rios `div`s, e quisermos que o primeiro `div` tenha um tamanho de 100px, e os demais distribuam o espa\u00e7o restante, podemos fazer isso.",
        "\n",
        "```markdown\n",
        "<section>",
        "```markdown\n<div>Texto</div>\n```",
        "```markdown\n<div>Texto</div>\n```",
        "<div>Texto</div>",
        "</section>",
        "```",
        "\n",
        "```css\n```",
        "section {",
        "    display: flex;",
        "{\n",
        "\n",
        "```markdown\nsection div:first-child {\n```",
        "    flex: 0 0 100px;",
        "```markdown\n}\n```",
        "\n",
        "section div {",
        "    flex: 1 1 auto;",
        "}",
        "```",
        "\n",
        "Desta maneira, o primeiro `div` ter\u00e1 um tamanho de 100px, e os demais dividir\u00e3o o espa\u00e7o restante."
      ]
    },
    {
      "cell_type": "markdown",
      "metadata": {},
      "source": [
        "Ou tamb\u00e9m pode ser modificado de uma vez com `flex: initial;`, que \u00e9 o mesmo que `flex: 0 1 auto;`. Ou com `flex: auto;`, que \u00e9 o mesmo que `flex: 1 1 auto;`. Ou com `flex: none;`, que \u00e9 o mesmo que `flex: 0 0 auto;`. Ou com `flex: 1;`, que \u00e9 o mesmo que `flex: 1 1 0%;`."
      ]
    },
    {
      "cell_type": "markdown",
      "metadata": {},
      "source": [
        "Outra forma de modificar `flex` \u00e9 colocando n\u00fameros, que indicar\u00e3o o espa\u00e7o relativo do cont\u00eainer. Por exemplo, se tivermos v\u00e1rios `div`s, e quisermos que o primeiro tenha o dobro do espa\u00e7o do segundo, e o segundo tenha o dobro do espa\u00e7o do terceiro, podemos fazer isso.",
        "\n",
        "```html",
        "<section>",
        "    <div>Texto</div>",
        "```markdown\n<div>Texto</div>\n```",
        "<div>Texto</div>",
        "</section>",
        "```",
        "\n",
        "```css\n```",
        "```markdown\nsection {\n```",
        "    display: flex;",
        "{\n",
        "\n",
        "```markdown\nsection div:first-child {\n```",
        "    flex: 4;",
        "}",
        "\n",
        "```markdown\nsection div:nth-child(2) {\n```",
        "    flex: 4;",
        "```markdown\n}\n```",
        "\n",
        "```markdown\nse\u00e7\u00e3o div:nth-child(3) {\n```",
        "    flex: 1;",
        "{\n",
        "```\n",
        "\n",
        "Desta maneira, o primeiro `div` ter\u00e1 o dobro de espa\u00e7o do segundo, e o segundo ter\u00e1 o dobro de espa\u00e7o do terceiro."
      ]
    },
    {
      "cell_type": "markdown",
      "metadata": {},
      "source": [
        "### Ordem"
      ]
    },
    {
      "cell_type": "markdown",
      "metadata": {},
      "source": [
        "Podemos ordenar os elementos dentro de um cont\u00eainer com a propriedade `order`. Por padr\u00e3o, a propriedade `order` est\u00e1 configurada para `0`. Mas podemos mud\u00e1-la para `1`, para que o elemento seja colocado depois dos elementos que t\u00eam `order: 0;`. Ou podemos mud\u00e1-la para `-1`, para que o elemento seja colocado antes dos elementos que t\u00eam `order: 0;`.",
        "\n",
        "\u00c9 como `z-index`, mas para a ordem dos elementos. Quanto maior for o `order`, mais tarde o elemento ser\u00e1 colocado. Por exemplo, se tivermos v\u00e1rios `div`s e quisermos que o primeiro `div` seja colocado depois do segundo, podemos fazer isso.",
        "\n",
        "```html",
        "<section>",
        "<div>Texto 1</div>",
        "```markdown\n<div>Texto 2</div>\n```",
        "    <div>Texto 3</div>",
        "</section>",
        "```",
        "\n",
        "```css\n```",
        "se\u00e7\u00e3o {",
        "    display: flex;",
        "}",
        "\n",
        "section div:first-child {",
        "    ordem: 1;",
        "{\n",
        "\n",
        "section div {",
        "em: 0;",
        "}",
        "```",
        "\n",
        "O resultado ser\u00e1",
        "\n",
        "N\u00e3o h\u00e1 conte\u00fado para traduzir. Por favor, forne\u00e7a o texto markdown que voc\u00ea gostaria que eu traduzisse para o portugu\u00eas.",
        "\n",
        "Entendido. Por favor, proporcioname el texto en markdown que te gustar\u00eda traducir.",
        "\n",
        "Texto 1\n\n```markdown\n# Introdu\u00e7\u00e3o \u00e0 Programa\u00e7\u00e3o em Python\n\nPython \u00e9 uma linguagem de programa\u00e7\u00e3o amplamente utilizada para diversos tipos de desenvolvimento. Seja para desenvolvimento web, ci\u00eancia de dados ou automa\u00e7\u00e3o de tarefas, Python se destaca pela sua simplicidade e poder.\n\n## Principais Caracter\u00edsticas\n\n- **Simplicidade**: A sintaxe do Python \u00e9 clara e direta, o que facilita o aprendizado.\n- **Bibliotecas Vers\u00e1teis**: Python possui uma vasta gama de bibliotecas que ajudam no desenvolvimento de praticamente qualquer tipo de aplica\u00e7\u00e3o.\n- **Comunidade Ativa**: A comunidade de Python \u00e9 enorme e muito ativa, oferecendo suporte e recursos para desenvolvedores de todos os n\u00edveis.\n\n## Exemplo de C\u00f3digo\n\nAqui est\u00e1 um exemplo simples de c\u00f3digo em Python:\n\n```python\ndef saudacao(nome):\n    return f\"Ol\u00e1, {nome}!\"\n\nprint(saudacao(\"Mundo\"))\n```\n\n## Conclus\u00e3o\n\nPython \u00e9 uma \u00f3tima escolha para iniciantes e profissionais. Sua flexibilidade e a quantidade de recursos dispon\u00edveis fazem dele uma ferramenta poderosa no arsenal de qualquer desenvolvedor.\n\nPara mais informa\u00e7\u00f5es, visite o [site oficial do Python](https://www.python.org).\n```\n",
        "\n",
        "![order](https://p6-juejin.byteimg.com/tos-cn-i-k3u1fbpfcp/8a7d45de6a88466ca3f98f4f0505f4d7~tplv-k3u1fbpfcp-zoom-in-crop-mark:1512:0:0:0.awebp)"
      ]
    },
    {
      "cell_type": "markdown",
      "metadata": {},
      "source": [
        "### Justify-content\n\n"
      ]
    },
    {
      "cell_type": "markdown",
      "metadata": {},
      "source": [
        "Como `Flexbox` \u00e9 unidimensional, podemos configurar a justifica\u00e7\u00e3o dos elementos do cont\u00eainer no eixo do `Flexbox` do cont\u00eainer. Ou seja, se o eixo do `Flexbox` do cont\u00eainer for horizontal, podemos configurar a justifica\u00e7\u00e3o dos elementos do cont\u00eainer no eixo horizontal. E se o eixo do `Flexbox` do cont\u00eainer for vertical, podemos configurar a justifica\u00e7\u00e3o dos elementos do cont\u00eainer no eixo vertical.",
        "\n",
        "Os poss\u00edveis valores s\u00e3o:",
        "\n",
        " * `flex-start`: Os elementos s\u00e3o justificados no in\u00edcio do eixo do `Flexbox` do cont\u00eainer.",
        "* `flex-end`: Os elementos s\u00e3o justificados no final do eixo do `Flexbox` do cont\u00eainer.",
        " * `center`: Os elementos s\u00e3o justificados no centro do eixo do `Flexbox` do cont\u00eainer.",
        " * `space-between`: Os elementos s\u00e3o justificados com o mesmo espa\u00e7o entre eles. Nas laterais do primeiro e \u00faltimo elemento n\u00e3o h\u00e1 espa\u00e7o.",
        "* `space-around`: Os elementos s\u00e3o justificados com o mesmo espa\u00e7o ao redor deles.",
        " * `space-evenly`: Os elementos s\u00e3o justificados com o mesmo espa\u00e7o entre eles e ao redor deles. Ou seja, \u00e9 similar a `space-between`, mas nos lados do primeiro e do \u00faltimo elemento se deixa espa\u00e7o. O espa\u00e7o nos lados \u00e9 o mesmo que o espa\u00e7o entre os elementos.\n",
        "\n",
        "![justify-content](https://css-tricks.com/wp-content/uploads/2018/10/justify-content.svg)"
      ]
    },
    {
      "cell_type": "markdown",
      "metadata": {},
      "source": [
        "### Lacuna"
      ]
    },
    {
      "cell_type": "markdown",
      "metadata": {},
      "source": [
        "Suponha que temos v\u00e1rios elementos dentro de um cont\u00eainer e colocamos `justify-content: center;`. Isso far\u00e1 com que os elementos fiquem centrados no cont\u00eainer, mas colados entre si. Se quisermos que haja um espa\u00e7o entre os elementos, podemos colocar `gap: 10px;`. Dessa forma, haver\u00e1 um espa\u00e7o de 10px entre os elementos.",
        "\n",
        "```html\n",
        "<section>",
        "<div>Texto 1</div>",
        "<div>Texto 2</div>",
        "<div>Texto 3</div>",
        "</section>",
        "```\n```",
        "\n",
        "```css\n```",
        "section {",
        "    display: flex;",
        "    justify-content: center;",
        "    gap: 10px;",
        "{\n",
        "",
        "\n",
        "Incomplete model output because of the max_tokens parameter or the token limit"
      ]
    },
    {
      "cell_type": "markdown",
      "metadata": {},
      "source": [
        "### Align-items"
      ]
    },
    {
      "cell_type": "markdown",
      "metadata": {},
      "source": [
        "At\u00e9 agora, vimos como distribuir os elementos no eixo principal do `Flexbox`. Mas, o que acontece com o eixo secund\u00e1rio? Para isso, temos a propriedade `align-items`. Esta propriedade nos permite alinhar os elementos no eixo secund\u00e1rio do `Flexbox`.",
        "\n",
        "```html\n",
        "<section>",
        "    <div>Texto 1</div>",
        "    <div>Texto 2</div>",
        "<div>Texto 3</div>",
        "</section>",
        "```",
        "\n",
        "```css\n```",
        "sec\u00e7\u00e3o {",
        "    display: flex;",
        "    align-items: center;\n",
        "```markdown\n}\n```",
        "```",
        "\n",
        "![align-items](https://css-tricks.com/wp-content/uploads/2018/10/align-items.svg)"
      ]
    },
    {
      "cell_type": "markdown",
      "metadata": {},
      "source": [
        "### Align-content"
      ]
    },
    {
      "cell_type": "markdown",
      "metadata": {},
      "source": [
        "Com `align-content` podemos alinhar o conte\u00fado do cont\u00eainer no eixo secund\u00e1rio. Esta propriedade \u00e9 semelhante a `align-items`, mas em vez de alinhar os elementos, alinha o conte\u00fado do cont\u00eainer.",
        "\n",
        "```portugu\u00eas\n",
        "<section>",
        "<div>Texto 1</div>",
        "    <div>Texto 2</div>",
        "<div>Texto 3</div>",
        "</section>",
        "```",
        "\n",
        "```css\n```",
        "se\u00e7\u00e3o {",
        "    display: flex;",
        "    align-content: center;",
        "    flex-wrap: wrap;",
        "    height: 200px;",
        "}",
        "```\n```",
        "\n",
        "![align-content](https://css-tricks.com/wp-content/uploads/2018/10/align-content.svg)"
      ]
    },
    {
      "cell_type": "markdown",
      "metadata": {},
      "source": [
        "### Align-content vs Align-items"
      ]
    },
    {
      "cell_type": "markdown",
      "metadata": {},
      "source": [
        "Como pode haver confus\u00e3o entre `align-content` e `align-items`, vamos ver um exemplo para ver a diferen\u00e7a entre ambas as propriedades.",
        "\n",
        "```html\n",
        "<section>",
        "<div>Texto 1</div>",
        "```html\n<div>Texto 2</div>\n```",
        "```markdown\n<div>Texto 3</div>\n```",
        "<div>Texto 4</div>",
        "<div>Texto 5</div>",
        "```html\n<div>Texto 6</div>\n```",
        "<div>Texto 7</div>",
        "<div>Texto 8</div>",
        "```markdown\n<div>Texto 9</div>\n```",
        "</section>",
        "",
        "\n",
        "",
        "se\u00e7\u00e3o {",
        "    display: flex;",
        "    align-items: center;",
        "    align-content: center;",
        "```markdown\nflex-wrap: wrap;\n```",
        "    height: 200px;\n",
        "}",
        "",
        "\n",
        "Com `align-items` alinhamos os elementos no eixo secund\u00e1rio, enquanto que com `align-content` alinhamos o conte\u00fado do cont\u00eainer no eixo secund\u00e1rio. Ou seja, com `align-items` alinhamos os elementos entre si, enquanto que com `align-content` alinhamos o conte\u00fado do cont\u00eainer. No exemplo anterior, podemos ver que com `align-items` os elementos se alinham entre si, enquanto que com `align-content` o conte\u00fado do cont\u00eainer se alinha no eixo secund\u00e1rio."
      ]
    },
    {
      "cell_type": "markdown",
      "metadata": {},
      "source": [
        "### Align-self"
      ]
    },
    {
      "cell_type": "markdown",
      "metadata": {},
      "source": [
        "\u00c0s vezes precisamos alinhar um elemento no eixo secund\u00e1rio de forma diferente dos outros elementos. Para isso, temos a propriedade `align-self`. Esta propriedade nos permite alinhar um elemento no eixo secund\u00e1rio de forma diferente dos outros elementos.",
        "\n",
        "At\u00e9 agora alinh\u00e1vamos os elementos no pai, mas com `align-self` podemos alinhar um elemento no eixo secund\u00e1rio de forma diferente dos demais elementos.",
        "\n",
        "```",
        "<section>",
        "<div>Texto 1</div>",
        "    <div>Texto 2</div>",
        "<div>Texto 3</div>",
        "</section>",
        "```",
        "\n",
        "````css\n",
        "se\u00e7\u00e3o {",
        "    display: flex;",
        "    align-items: center;",
        "```markdown\n}\n```",
        "\n",
        "```markdown\nsection div:nth-child(2) {\n```",
        "    align-self: flex-end;\n",
        "}",
        "```",
        "\n",
        "![align-self](https://css-tricks.com/wp-content/uploads/2018/10/align-self.svg)"
      ]
    },
    {
      "cell_type": "markdown",
      "metadata": {},
      "source": [
        502
      ]
    },
    {
      "cell_type": "markdown",
      "metadata": {},
      "source": [
        "Um bom recurso para praticar Flexbox \u00e9 [Flexbox Froggy](https://flexboxfroggy.com/#es)."
      ]
    },
    {
      "cell_type": "markdown",
      "metadata": {},
      "source": [
        "## Grid"
      ]
    },
    {
      "cell_type": "markdown",
      "metadata": {},
      "source": [
        "Se precisamos criar um layout mais complexo, podemos utilizar `Grid`. `Grid` \u00e9 um sistema de grade bidimensional que nos permite criar layouts mais complexos do que com `Flexbox`.",
        "\n",
        "![grid](https://miro.medium.com/v2/resize:fit:860/1*FifZUGz97Onmb7RUOairbg.png)"
      ]
    },
    {
      "cell_type": "markdown",
      "metadata": {},
      "source": [
        "### Cont\u00eainer de grade"
      ]
    },
    {
      "cell_type": "markdown",
      "metadata": {},
      "source": [
        "Vamos ver um exemplo de como diagramar com `Grid`. Para isso, vamos utilizar a seguinte estrutura HTML.",
        "\n",
        "```html",
        "<section>",
        "<div>Texto 1</div>",
        "<div>Texto 2</div>",
        "```markdown\n<div>Texto 3</div>\n```",
        "    <div>Texto 4</div>",
        "<div>Texto 5</div>",
        "```markdown\n<div>Texto 6</div>\n```",
        "<div>Texto 7</div>",
        "<div>Texto 8</div>",
        "<div>Texto 9</div>",
        "</section>",
        "```\n```",
        "\n",
        "Para criar um `Grid` precisamos criar um cont\u00eainer com a propriedade `display: grid`, lembremos que por padr\u00e3o os cont\u00eaineres t\u00eam por padr\u00e3o `display:block`. Este cont\u00eainer \u00e9 conhecido como `Grid container`.",
        "\n",
        "```css\n```",
        "se\u00e7\u00e3o {",
        "    display: grid;",
        "{\n",
        "```\n```",
        "\n",
        "Este c\u00f3digo nos criar\u00e1 um `Grid` com uma \u00fanica coluna e tantas linhas quantos elementos tivermos."
      ]
    },
    {
      "cell_type": "markdown",
      "metadata": {},
      "source": [
        "Se queremos mudar o n\u00famero de colunas, podemos utilizar a propriedade `grid-template-columns`. Esta propriedade nos permite definir o n\u00famero de colunas que ter\u00e1 nosso `Grid`. Para definir o n\u00famero de colunas podemos utilizar unidades de medida como `px`, `em`, `rem`, `fr`, etc.",
        "\n",
        "Ser\u00e3o criadas tantas colunas quantas unidades de medida definirmos. No exemplo a seguir, vamos criar 3 colunas de 100px cada uma.",
        "\n",
        "```css\n```",
        "se\u00e7\u00e3o {",
        "    display: grid;",
        "    grid-template-columns: 100px 100px 100px;\n",
        "{\n",
        "```\n```",
        "\n",
        "Com este exemplo, criamos um `Grid` com 3 colunas de 100px cada uma."
      ]
    },
    {
      "cell_type": "markdown",
      "metadata": {},
      "source": [
        "Podemos definir a largura de uma das colunas com `auto` e o restante com uma medida, dessa forma a coluna com `auto` se adaptar\u00e1 ao conte\u00fado, enquanto o restante das colunas ter\u00e3o a largura que definimos.",
        "\n",
        "Ao definir `auto`, ser\u00e1 o navegador que decidir\u00e1 a largura da coluna com base no espa\u00e7o dispon\u00edvel no cont\u00eainer e no espa\u00e7o ocupado pelo conte\u00fado da coluna.",
        "\n",
        "```css\n```",
        "section {",
        "    display: grid;",
        "    grid-template-columns: auto 100px 100px;",
        "}",
        "",
        "\n",
        "A primeira coluna ser\u00e1 adaptada ao conte\u00fado, enquanto as outras duas ter\u00e3o uma largura de 100px.",
        "\n",
        "Se definirmos duas colunas com `auto`, o navegador dividir\u00e1 o espa\u00e7o entre as duas colunas, mas n\u00e3o precisa ser o mesmo espa\u00e7o para cada coluna, j\u00e1 que, como mencionamos, o espa\u00e7o depender\u00e1 do espa\u00e7o do cont\u00eainer e do espa\u00e7o do conte\u00fado.",
        "\n",
        "```css\n```",
        "se\u00e7\u00e3o {",
        "    display: grid;",
        "    grid-template-columns: auto auto 100px;",
        "```\n```",
        "",
        "\n",
        "Neste exemplo, as duas primeiras colunas se adaptar\u00e3o ao conte\u00fado, enquanto a terceira ter\u00e1 uma largura de 100px."
      ]
    },
    {
      "cell_type": "markdown",
      "metadata": {},
      "source": [
        "### Fra\u00e7\u00e3o"
      ]
    },
    {
      "cell_type": "markdown",
      "metadata": {},
      "source": [
        "H\u00e1 uma unidade de medida que s\u00f3 existe no `Grid` e \u00e9 `fr`. Esta unidade de medida nos permite definir a largura das colunas em fun\u00e7\u00e3o do espa\u00e7o dispon\u00edvel no cont\u00eainer.",
        "\n",
        "```css\n",
        "section {",
        "    display: grid;",
        "    grid-template-columns: 1fr 1fr 1fr;",
        "}",
        "```",
        "\n",
        "Neste exemplo, as tr\u00eas colunas ter\u00e3o a mesma largura, j\u00e1 que o espa\u00e7o dispon\u00edvel no cont\u00eainer ser\u00e1 dividido entre as tr\u00eas colunas.",
        "\n",
        "```css\n```",
        "se\u00e7\u00e3o {",
        "    display: grid;",
        "    grid-template-columns: 1fr 2fr 1fr;",
        "}",
        "```\n```",
        "\n",
        "Neste exemplo, a segunda coluna ter\u00e1 o dobro da largura das outras duas, j\u00e1 que o espa\u00e7o dispon\u00edvel no cont\u00eainer ser\u00e1 repartido entre as tr\u00eas colunas, mas a segunda coluna ter\u00e1 o dobro do espa\u00e7o que as outras duas."
      ]
    },
    {
      "cell_type": "markdown",
      "metadata": {},
      "source": [
        "Podemos fazer o mesmo com as linhas, para isso utilizamos a propriedade `grid-template-rows`.",
        "\n",
        "```css\n```",
        "se\u00e7\u00e3o {",
        "    display: grid;",
        "```css\ngrid-template-columns: 1fr 2fr 1fr;\n```",
        "    grid-template-rows: 1fr 2fr 1fr;",
        "}",
        ""
      ]
    },
    {
      "cell_type": "markdown",
      "metadata": {},
      "source": [
        "### Grade vazia"
      ]
    },
    {
      "cell_type": "markdown",
      "metadata": {},
      "source": [
        "Dissemos que podemos dividir a `Grid` em colunas e linhas, para isso colocamos tantas unidades de medida quantas colunas ou linhas quisermos. Mas o que acontece se colocarmos mais unidades de medida do que precisamos.",
        "\n",
        "```portugu\u00eas",
        "<section>",
        "<div>Texto 1</div>",
        "    <div>Texto 2</div>",
        "<div>Texto 3</div>",
        "<div>Texto 4</div>",
        "```html\n<div>Texto 5</div>\n```",
        "```markdown\n<div>Texto 6</div>\n```",
        "```html\n<div>Texto 7</div>\n```",
        "<div>Texto 8</div>",
        "<div>Texto 9</div>",
        "</section>",
        "```",
        "\n",
        "```css\n```",
        "section {",
        "    display: grid;",
        "    grid-template-columns: 1fr 1fr 1fr 1fr;",
        "```\ngrid-template-rows: 1fr 1fr 1fr 1fr;\n```",
        "}",
        "",
        "\n",
        "Neste exemplo, ser\u00e1 criado um `Grid` com 4 colunas e 4 linhas, mas s\u00f3 temos 9 elementos, enquanto criamos uma grade de 16 elementos. O que acontece com os 7 elementos que sobram? O navegador os cria vazios."
      ]
    },
    {
      "cell_type": "markdown",
      "metadata": {},
      "source": [
        "### Grid-auto-rows"
      ]
    },
    {
      "cell_type": "markdown",
      "metadata": {},
      "source": [
        "Se, ao criar o `Grid`, apenas definirmos o valor de `grid-template-columns`, o navegador criar\u00e1 as linhas necess\u00e1rias para as colunas que definimos, mas as criar\u00e1 com o tamanho padr\u00e3o, ou seja, com o tamanho do conte\u00fado.",
        "\n",
        "Se quisermos definir o tamanho das linhas podemos usar a propriedade `grid-auto-rows`. Esta propriedade nos permite definir o tamanho das linhas que s\u00e3o criadas por padr\u00e3o.",
        "\n",
        "```css\n```",
        "se\u00e7\u00e3o {",
        "    display: grid;",
        "```css\ngrid-template-columns: 1fr 1fr 1fr 1fr;\n```",
        "    grid-auto-rows: 100px;\n",
        "{\n",
        "```",
        "\n",
        "Neste exemplo, ser\u00e1 criado um `Grid` com 4 colunas e tantas linhas quantos elementos tivermos, mas o tamanho das linhas ser\u00e1 de 100px."
      ]
    },
    {
      "cell_type": "markdown",
      "metadata": {},
      "source": [
        "Suponhamos que tamb\u00e9m definimos `grid-template-rows`, mas definimos o tamanho das primeiras filas e n\u00e3o de todas as filas necess\u00e1rias. Com `grid-auto-rows` podemos definir o tamanho das filas que faltam.",
        "\n",
        "```css\n```",
        "se\u00e7\u00e3o {",
        "    display: grid;",
        "    grid-template-columns: 1fr 1fr 1fr 1fr;",
        "```markdown\ngrid-template-rows: 100px 100px;\n```",
        "    grid-auto-rows: 50px;",
        "```markdown\n}\n```",
        "```\n```",
        "\n",
        "Neste exemplo ser\u00e1 criado um `Grid` com 4 colunas e tantas linhas quanto elementos tivermos, mas o tamanho das duas primeiras linhas ser\u00e1 de 100px, enquanto o tamanho do resto das linhas ser\u00e1 de 50px.",
        "\n",
        "Isso \u00e9 muito \u00fatil quando n\u00e3o sabemos quantos elementos teremos, pois podemos definir o tamanho das primeiras linhas e o tamanho das linhas que ser\u00e3o criadas por padr\u00e3o."
      ]
    },
    {
      "cell_type": "markdown",
      "metadata": {},
      "source": [
        "### Repetir"
      ]
    },
    {
      "cell_type": "markdown",
      "metadata": {},
      "source": [
        "Imaginemos que queremos criar um `Grid` com 100 colunas e todas do mesmo tamanho. Ter\u00edamos que escrever 100 vezes a unidade de medida que queremos utilizar. Para evitar isso, podemos utilizar a propriedade `repeat`.",
        "\n",
        "",
        "se\u00e7\u00e3o {",
        "    display: grid;",
        "```markdown\ngrid-template-columns: repeat(100, 1fr);\n```",
        "```markdown\n```",
        "```",
        "\n",
        "Com `repeat` podemos definir o n\u00famero de colunas que queremos e a unidade de medida que queremos utilizar."
      ]
    },
    {
      "cell_type": "markdown",
      "metadata": {},
      "source": [
        "Podemos usar `repeat` com subpartes da grade. Por exemplo, imaginemos que queremos criar novamente 100 colunas, mas queremos que a primeira e a \u00faltima coluna tenham uma largura de 100px e o resto das colunas tenham uma largura de 1fr.",
        "\n",
        "```css\n```",
        "se\u00e7\u00e3o {",
        "    display: grid;",
        "    grid-template-columns: 100px repeat(98, 1fr) 100px;",
        "}",
        "```"
      ]
    },
    {
      "cell_type": "markdown",
      "metadata": {},
      "source": [
        "Agora suponhamos que temos um padr\u00e3o de colunas que se repete a cada 3 colunas. Podemos utilizar `repeat` para definir este padr\u00e3o.",
        "\n",
        "",
        "se\u00e7\u00e3o {",
        "    display: grid;",
        "    grid-template-columns: repeat(3, 100px 1fr);",
        "```markdown\n}\n```",
        "```",
        "\n",
        "Dessa forma, criamos uma grade de 6 colunas, onde o padr\u00e3o se repete a cada 2 colunas."
      ]
    },
    {
      "cell_type": "markdown",
      "metadata": {},
      "source": [
        "### minmax"
      ]
    },
    {
      "cell_type": "markdown",
      "metadata": {},
      "source": [
        "Talvez n\u00e3o saibamos o tamanho exato de uma linha ou coluna, mas queremos que ocupe um tamanho entre um m\u00ednimo e um m\u00e1ximo. Para isso, podemos utilizar a propriedade `minmax`.",
        "\n",
        "```css\n```",
        "sec\u00e7\u00e3o {",
        "    display: grid;",
        "    grid-template-columns: minmax(100px, 1fr) 1fr 1fr 1fr;",
        "{\n",
        "",
        "\n",
        "Neste exemplo queremos que cada coluna tenha 25% da largura do cont\u00eainer, mas que a primeira coluna tenha uma largura m\u00ednima de 100px. Ou seja, se o espa\u00e7o que ocupa a primeira coluna for menor do que 100px, a coluna ter\u00e1 uma largura de 100px, mas se o espa\u00e7o que ocupa a primeira coluna for maior do que 100px, a coluna ter\u00e1 uma largura de 25% do cont\u00eainer.",
        "\n",
        "Isso \u00e9 muito \u00fatil, por exemplo, quando temos um \u00edndice na lateral da p\u00e1gina e queremos que ocupe uma largura m\u00ednima, mas que, se o espa\u00e7o dispon\u00edvel for maior, ocupe o espa\u00e7o que lhe corresponde.",
        "\n",
        "```html\n```",
        "<div>\n",
        "    <aside>\u00cdndice</aside>",
        "    <main>Conte\u00fado</main>",
        "</div>",
        "```",
        "\n",
        "",
        "div {",
        "    display: grid;",
        "    grid-template-columns: minmax(100px, 1fr) 5fr;",
        "```json\n```\n\n",
        "```\n```",
        "\n",
        "Dessa maneira, o \u00edndice ter\u00e1 uma largura m\u00ednima de 100px, mas se o espa\u00e7o dispon\u00edvel for maior, o \u00edndice ocupar\u00e1 o espa\u00e7o que lhe corresponde."
      ]
    },
    {
      "cell_type": "markdown",
      "metadata": {},
      "source": [
        "### Grid-column-gap e Grid-row-gap"
      ]
    },
    {
      "cell_type": "markdown",
      "metadata": {},
      "source": [
        "Se queremos adicionar um espa\u00e7o entre as colunas ou entre as linhas, podemos utilizar as propriedades `grid-column-gap` e `grid-row-gap`.",
        "\n",
        "```css\n```",
        "sec\u00e7\u00e3o {",
        "    display: grid;",
        "    grid-template-columns: repeat(3, 100px);",
        "```markdown\n    grid-column-gap: 20px;\n```",
        "}",
        "",
        "\n",
        "Neste exemplo, criamos uma `Grid` com 3 colunas de 100px cada uma e um espa\u00e7o de 20px entre as colunas.",
        "\n",
        "```css\n```",
        "se\u00e7\u00e3o {",
        "    display: grid;",
        "    grid-template-columns: repeat(3, 100px);",
        "    grid-row-gap: 20px;",
        "}",
        "",
        "\n",
        "Neste exemplo, criamos um `Grid` com 3 colunas de 100px cada uma e um espa\u00e7o de 20px entre as linhas."
      ]
    },
    {
      "cell_type": "markdown",
      "metadata": {},
      "source": [
        "Podemos definir o espa\u00e7o entre as colunas e as linhas com a propriedade `grid-gap`.",
        "\n",
        "```css\n```",
        "se\u00e7\u00e3o {",
        "    display: grid;",
        "```markdown\ngrid-template-columns: repeat(3, 100px);\n```",
        "    grid-gap: 20px 10px;",
        "```markdown\n}\n```",
        "```\n```",
        "\n",
        "Neste exemplo, criamos um `Grid` com 3 colunas de 100px cada uma e um espa\u00e7o de 20px entre as colunas e um espa\u00e7o de 10px entre as linhas.",
        "\n",
        "```css\n```\n",
        "se\u00e7\u00e3o {",
        "    display: grid;",
        "    grid-template-columns: repeat(3, 100px);",
        "    grid-gap: 20px;",
        "}\n",
        "```",
        "\n",
        "Neste exemplo, criamos um `Grid` com 3 colunas de 100px cada uma e um espa\u00e7o de 20px entre as colunas e as linhas."
      ]
    },
    {
      "cell_type": "markdown",
      "metadata": {},
      "source": [
        "### Auto-fill e Auto-fit"
      ]
    },
    {
      "cell_type": "markdown",
      "metadata": {},
      "source": [
        "Com `auto-fill` e `auto-fit` podemos criar um `Grid` com um n\u00famero de colunas ou filas que se adapte ao espa\u00e7o dispon\u00edvel no cont\u00eainer, assim podemos fazer o `Grid` responsivo.",
        "\n",
        "",
        "se\u00e7\u00e3o {",
        "    display: grid;",
        "```plaintext\ngrid-template-columns: repeat(auto-fill, 100px);\n```",
        "{\n",
        "```\n```",
        "\n",
        "Neste exemplo ser\u00e3o criadas tantas colunas quantas couberem no cont\u00eainer, mas cada coluna ter\u00e1 uma largura de 100px.",
        "\n",
        "```css\n",
        "se\u00e7\u00e3o {",
        "    display: grid;",
        "```markdown\ngrid-template-columns: repeat(auto-fit, 100px);\n```",
        "}",
        "```\n```",
        "\n",
        "Neste exemplo, ser\u00e3o criadas tantas colunas quanto couberem no cont\u00eainer, mas cada coluna ter\u00e1 uma largura de 100px e, se sobrar espa\u00e7o no cont\u00eainer, o espa\u00e7o ser\u00e1 distribu\u00eddo entre as colunas."
      ]
    },
    {
      "cell_type": "markdown",
      "metadata": {},
      "source": [
        "Agora podemos torn\u00e1-lo mais completo",
        "\n",
        "```css\n```",
        "se\u00e7\u00e3o {",
        "    display: grid;",
        "grid-template-columns: repeat(auto-fit, minmax(100px, 1fr));",
        "```markdown\n}\n```",
        "```",
        "\n",
        "Neste exemplo, ser\u00e3o criadas tantas colunas quanto couberem no cont\u00eainer, mas cada coluna ter\u00e1 uma largura m\u00ednima de 100px e se sobrar espa\u00e7o no cont\u00eainer, o espa\u00e7o ser\u00e1 distribu\u00eddo entre as colunas. \u00c0 medida que diminuirmos o navegador, as colunas ir\u00e3o se adaptando ao espa\u00e7o dispon\u00edvel, at\u00e9 que chegue um momento em que, para caber, elas teriam que ter uma largura menor que 100px, fazendo com que uma coluna seja removida e o espa\u00e7o seja redistribu\u00eddo entre as colunas restantes.",
        "\n",
        "```css\n```",
        "se\u00e7\u00e3o {",
        "    display: grid;",
        "grid-template-columns: repeat(auto-fit, minmax(100px, 1fr));",
        "    grid-gap: 20px;",
        "```markdown\n}\n```",
        "```",
        "\n",
        "Neste exemplo, ser\u00e3o criadas tantas colunas quanto couberem no cont\u00eainer, mas cada coluna ter\u00e1 uma largura m\u00ednima de 100px e, se houver espa\u00e7o sobrando no cont\u00eainer, o espa\u00e7o ser\u00e1 distribu\u00eddo entre as colunas e haver\u00e1 um espa\u00e7o de 20px entre as colunas."
      ]
    },
    {
      "cell_type": "markdown",
      "metadata": {},
      "source": [
        "### Auto-fill vs Auto-fit"
      ]
    },
    {
      "cell_type": "markdown",
      "metadata": {},
      "source": [
        "A diferen\u00e7a entre `auto-fill` e `auto-fit` \u00e9 que `auto-fill` cria tantas colunas ou linhas quanto couberem no cont\u00eainer, enquanto `auto-fit` cria tantas colunas ou linhas quanto couberem no cont\u00eainer, mas se sobrar espa\u00e7o no cont\u00eainer, o espa\u00e7o ser\u00e1 repartido entre as colunas ou linhas.",
        "\n",
        "Ou seja, `auto-fill` cria tantas colunas ou linhas quantas couberem no cont\u00eainer, mas se sobrar espa\u00e7o no cont\u00eainer, o espa\u00e7o n\u00e3o ser\u00e1 repartido entre as colunas ou linhas, enquanto que `auto-fit` cria tantas colunas ou linhas quantas couberem no cont\u00eainer, mas se sobrar espa\u00e7o no cont\u00eainer, o espa\u00e7o ser\u00e1 repartido entre as colunas ou linhas."
      ]
    },
    {
      "cell_type": "markdown",
      "metadata": {},
      "source": [
        "### Grid-column-start e Grid-column-end (bento grid)"
      ]
    },
    {
      "cell_type": "markdown",
      "metadata": {},
      "source": [
        "At\u00e9 agora, vimos como criar um `Grid` com colunas e linhas, mas o que acontece se quisermos que um elemento ocupe mais de uma coluna ou linha? Para isso, temos as propriedades `grid-column-start` e `grid-column-end`.",
        "\n",
        "```html\n",
        "<section>",
        "<div>Texto 1</div>",
        "<div>Texto 2</div>",
        "    <div>Texto 3</div>",
        "<div>Texto 4</div>",
        "```html\n<div>Texto 5</div>\n```",
        "<div>Texto 6</div>",
        "<div>Texto 7</div>",
        "    <div>Texto 8</div>",
        "<div>Texto 9</div>",
        "</section>",
        "",
        "\n",
        "```css\n```",
        "se\u00e7\u00e3o {",
        "    display: grid;",
        "    grid-template-columns: repeat(3, 100px);",
        "```markdown\ngrid-gap: 20px;\n```",
        "}",
        "\n",
        "section div:nth-child(2) {",
        "    grid-column-start: 1;",
        "    grid-column-end: 3;",
        "}",
        "```",
        "\n",
        "Neste exemplo, criamos um `Grid` com 3 colunas de 100px cada uma e um espa\u00e7o de 20px entre as colunas. O segundo elemento ocupa desde a primeira coluna at\u00e9 a terceira coluna."
      ]
    },
    {
      "cell_type": "markdown",
      "metadata": {},
      "source": [
        "Tamb\u00e9m podemos especificar o in\u00edcio e o fim da coluna com a propriedade `grid-column`.",
        "\n",
        "```css\n```",
        "se\u00e7\u00e3o {",
        "    display: grid;",
        "    grid-template-columns: repeat(3, 100px);",
        "    grid-gap: 20px;",
        "}",
        "\n",
        "```markdown\nsection div:nth-child(2) {\n```",
        "    grid-column: 1 / 3;",
        "}",
        "```\n```",
        "\n",
        "Neste exemplo, criamos uma `Grid` com 3 colunas de 100px cada uma e um espa\u00e7o de 20px entre as colunas. O segundo elemento ocupa desde a primeira coluna at\u00e9 a terceira coluna."
      ]
    },
    {
      "cell_type": "markdown",
      "metadata": {},
      "source": [
        "Se n\u00e3o quisermos dizer onde terminar, mas quantas colunas queremos que ocupe, podemos usar a propriedade `span`.",
        "\n",
        "",
        "se\u00e7\u00e3o {",
        "    display: grid;",
        "```markdown\ngrid-template-columns: repeat(3, 100px);\n```",
        "    grid-gap: 20px;",
        "```markdown\n```\n",
        "\n",
        "section div:nth-child(2) {",
        "```\ngrid-column-start: 1;\n```",
        "    grid-column-end: span 2;",
        "}",
        "",
        "\n",
        "Neste exemplo, criamos uma `Grid` com 3 colunas de 100px cada uma e um espa\u00e7o de 20px entre as colunas. O segundo elemento ocupa desde a primeira coluna at\u00e9 a segunda coluna, ou seja, ocupa duas colunas."
      ]
    },
    {
      "cell_type": "markdown",
      "metadata": {},
      "source": [
        "Se queremos posicion\u00e1-los no final, mas n\u00e3o sabemos quantas colunas h\u00e1, podemos utilizar n\u00fameros negativos.",
        "\n",
        "",
        "se\u00e7\u00e3o {",
        "    display: grid;",
        "    grid-template-columns: repeat(3, 100px);",
        "    grid-gap: 20px;",
        "```markdown\n}\n```",
        "\n",
        "```markdown\nsection div:nth-child(2) {\n```",
        "```markdown\ngrid-column-start: 1;\n```",
        "`grid-column-end: -1;`",
        "}",
        "```",
        "\n",
        "Neste exemplo, criamos um `Grid` com 3 colunas de 100px cada e um espa\u00e7o de 20px entre as colunas. O segundo elemento ocupa desde a primeira coluna at\u00e9 a \u00faltima coluna, ou seja, ocupa as tr\u00eas colunas."
      ]
    },
    {
      "cell_type": "markdown",
      "metadata": {},
      "source": [
        "### Grid-row-start e Grid-row-end (bento grid)"
      ]
    },
    {
      "cell_type": "markdown",
      "metadata": {},
      "source": [
        "Podemos fazer o mesmo com as linhas, para isso temos as propriedades `grid-row-start` e `grid-row-end`.",
        "\n",
        "```markdown\n```html\n```",
        "<section>",
        "    <div>Texto 1</div>",
        "<div>Texto 2</div>",
        "<div>Texto 3</div>",
        "    <div>Texto 4</div>",
        "```html\n<div>Texto 5</div>\n```",
        "<div>Texto 6</div>",
        "<div>Texto 7</div>",
        "```html\n<div>Texto 8</div>\n```",
        "<div>Texto 9</div>",
        "</section>",
        "",
        "\n",
        "```css\n```",
        "se\u00e7\u00e3o {",
        "    display: grid;",
        "    grid-template-columns: repeat(3, 100px);",
        "    grid-gap: 20px;",
        "{\n",
        "\n",
        "```markdown\nse\u00e7\u00e3o div:nth-child(2) {\n```",
        "    grid-row-start: 1;",
        "    grid-row-end: 3;",
        "```markdown\n}",
        "",
        "\n",
        "Neste exemplo, criamos uma `Grid` com 3 colunas de 100px cada e um espa\u00e7o de 20px entre as colunas. O segundo elemento ocupa desde a primeira linha at\u00e9 a terceira linha."
      ]
    },
    {
      "cell_type": "markdown",
      "metadata": {},
      "source": [
        "Tamb\u00e9m podemos dizer o in\u00edcio e o final da linha com a propriedade `grid-row`.",
        "\n",
        "",
        "se\u00e7\u00e3o {",
        "    display: grid;",
        "```css\ngrid-template-columns: repeat(3, 100px);\n```",
        "    grid-gap: 20px;",
        "{\n",
        "\n",
        "```markdown\nsection div:nth-child(2) {\n```",
        "    grid-row: 1 / 3;",
        "}",
        ""
      ]
    },
    {
      "cell_type": "markdown",
      "metadata": {},
      "source": [
        "Assim como antes, se n\u00e3o quisermos dizer onde terminar, mas sim quantas linhas queremos que ocupe, podemos usar a propriedade `span`.",
        "\n",
        "```css\n```",
        "se\u00e7\u00e3o {",
        "    display: grid;",
        "    grid-template-columns: repeat(3, 100px);",
        "```markdown\ngrid-gap: 20px;\n```",
        "```markdown\n}\n```",
        "\n",
        "```markdown\nsection div:nth-child(2) {\n```",
        "    grid-row-start: 1;",
        "    grid-row-end: span 2;",
        "```markdown\n}\n```",
        "```",
        "\n",
        "Neste exemplo, criamos uma `Grid` com 3 colunas de 100px cada uma e um espa\u00e7o de 20px entre as colunas. O segundo elemento ocupa desde a primeira fila at\u00e9 a segunda fila, ou seja, ocupa duas filas."
      ]
    },
    {
      "cell_type": "markdown",
      "metadata": {},
      "source": [
        "Se quisermos posicion\u00e1-los no final, mas n\u00e3o sabemos quantas linhas h\u00e1, podemos utilizar n\u00fameros negativos.",
        "\n",
        "```css\n```",
        "se\u00e7\u00e3o {",
        "    display: grid;\n",
        "    grid-template-columns: repeat(3, 100px);",
        "```markdown\ngrid-gap: 20px;\n```",
        "}\n",
        "\n",
        "```markdown\nsection div:nth-child(2) {\n```",
        "    grid-row-start: 1;\n",
        "    grid-row-end: -1;",
        "}",
        "```",
        "\n",
        "Neste exemplo, criamos um `Grid` com 3 colunas de 100px cada uma e um espa\u00e7o de 20px entre as colunas. O segundo elemento ocupa desde a primeira fila at\u00e9 a \u00faltima fila, ou seja, ocupa as tr\u00eas filas."
      ]
    },
    {
      "cell_type": "markdown",
      "metadata": {},
      "source": [
        "### Sobreposi\u00e7\u00e3o de elementos"
      ]
    },
    {
      "cell_type": "markdown",
      "metadata": {},
      "source": [
        "Podemos posicionar os elementos de forma que se sobreponham uns aos outros.",
        "\n",
        "```html",
        "<section>",
        "<div>Texto 1</div>",
        "    <div>Texto 2</div>",
        "<div>Texto 3</div>",
        "```markdown\n<div>Texto 4</div>\n```",
        "<div>Texto 5</div>",
        "```html\n<div>Texto 6</div>\n```",
        "<div>Texto 7</div>",
        "<div>Texto 8</div>",
        "<div>Texto 9</div>",
        "</section>",
        "",
        "\n",
        "```css\n",
        "se\u00e7\u00e3o {",
        "    display: grid;",
        "```markdown\ngrid-template-columns: repeat(3, 100px);\n```",
        "    grid-gap: 20px;",
        "}",
        "\n",
        "```css\nsection div:first-child {\n```",
        "    grid-column-start: 1;",
        "    grid-column-end: 2;",
        "    grid-row-start: 1;",
        "    grid-row-end: 2;",
        "}{",
        "\n",
        "```css\nsection div:nth-child(2) {\n```",
        "    grid-column-start: 1;",
        "    grid-column-end: 2;",
        "    grid-row-start: 1;",
        "```markdown\ngrid-row-end: 2;\n```",
        "{\n",
        "```",
        "\n",
        "Neste exemplo, criamos uma `Grid` com 3 colunas de 100px cada uma e um espa\u00e7o de 20px entre as colunas. O primeiro elemento ocupa desde a primeira coluna at\u00e9 a segunda coluna e desde a primeira linha at\u00e9 a segunda linha. O segundo elemento ocupa desde a primeira coluna at\u00e9 a segunda coluna e desde a primeira linha at\u00e9 a segunda linha."
      ]
    },
    {
      "cell_type": "markdown",
      "metadata": {},
      "source": [
        "Para controlar qual dos elementos se sobrep\u00f5e ao outro, podemos utilizar a propriedade `z-index`.",
        "\n",
        "```css\n",
        "se\u00e7\u00e3o {",
        "    display: grid;",
        "    grid-template-columns: repeat(3, 100px);",
        "    grid-gap: 20px;",
        "```markdown\n}\n```",
        "\n",
        "```css\nsection div:first-child {\n```",
        "    grid-column-start: 1;",
        "    grid-column-end: 2;\n",
        "    grid-row-start: 1;",
        "    grid-row-end: 2;\n",
        "    z-index: 1;",
        "{\n",
        "\n",
        "```css\nsection div:nth-child(2) {\n```",
        "```markdown\ngrid-column-start: 1;\n```",
        "    grid-column-end: 2;",
        "    grid-row-start: 1;\n",
        "    grid-row-end: 2;",
        "    z-index: 2;",
        "```markdown\n}\n```",
        "",
        "\n",
        "Neste exemplo, criamos um `Grid` com 3 colunas de 100px cada uma e um espa\u00e7o de 20px entre as colunas. O primeiro elemento ocupa desde a primeira coluna at\u00e9 a segunda coluna e desde a primeira fila at\u00e9 a segunda fila. O segundo elemento ocupa desde a primeira coluna at\u00e9 a segunda coluna e desde a primeira fila at\u00e9 a segunda fila. Como o segundo elemento tem um `z-index` maior que o primeiro elemento, o segundo elemento se sobrep\u00f5e ao primeiro."
      ]
    },
    {
      "cell_type": "markdown",
      "metadata": {},
      "source": [
        "### Layouts com Grid"
      ]
    },
    {
      "cell_type": "markdown",
      "metadata": {},
      "source": [
        "Agora que conhecemos as propriedades b\u00e1sicas do `Grid`, vamos ver como podemos criar layouts com `Grid`.",
        "\n",
        "```html",
        "<header>Cabe\u00e7alho</header>",
        "<aside>Observa\u00e7\u00e3o</aside>",
        "<main>Principal</main>",
        "<footer>Rodap\u00e9</footer>",
        "```\n```",
        "\n",
        "```css\n```",
        "corpo {",
        "    display: grid;",
        "    grid-template-columns: 1fr 1fr 1fr;",
        "    grid-template-rows: 35px 1fr 100px;",
        "    min-height: 100vh;",
        "```markdown\n}",
        "\n",
        "cabe\u00e7alho {",
        "    grid-column: 1 / -1;",
        "{\n",
        "\n",
        "```markdown\nprincipal {\n```",
        "    grid-column: span 2;",
        "```markdown\n}\n```",
        "\n",
        "footer {",
        "```markdown\ngrid-column: 1 / -1;\n```",
        "```markdown\n}\n```",
        "",
        "\n",
        "Neste exemplo, criamos um `Grid` com 3 colunas e 3 linhas. A primeira linha tem uma altura de 35px, a segunda linha ocupa o restante do espa\u00e7o dispon\u00edvel e a terceira linha tem uma altura de 100px. O cabe\u00e7alho ocupa desde a primeira coluna at\u00e9 a \u00faltima coluna, o conte\u00fado principal ocupa desde a primeira coluna at\u00e9 a segunda coluna e o rodap\u00e9 ocupa desde a primeira coluna at\u00e9 a \u00faltima coluna.",
        "\n",
        "Colocamos `min-height: 100vh` para que o `Grid` ocupe 100% da altura da tela, j\u00e1 que se n\u00e3o colocarmos isso, o `Grid` s\u00f3 ocupar\u00e1 a altura do conte\u00fado."
      ]
    },
    {
      "cell_type": "markdown",
      "metadata": {},
      "source": [
        "No entanto, na hora de ver o CSS, custa entend\u00ea-lo, por isso podemos utilizar a propriedade `grid-area`."
      ]
    },
    {
      "cell_type": "markdown",
      "metadata": {},
      "source": [
        "### Grid-area"
      ]
    },
    {
      "cell_type": "markdown",
      "metadata": {},
      "source": [
        "Podemos dar um nome a cada uma das \u00e1reas do `Grid` e depois usar esse nome para posicionar os elementos.",
        "\n",
        "```markdown\n",
        "<header>Cabe\u00e7alho</header>",
        "<aside>Ap\u00eandice</aside>",
        "```markdown\n<main>Principal</main>\n```",
        "<footer>Rodap\u00e9</footer>",
        "```\n```",
        "\n",
        "",
        "```markdown\ncorpo {\n```",
        "    display: grid;",
        "grid-template-columns: 1fr 1fr 1fr;",
        "    grid-template-rows: 35px 1fr 100px;",
        "    min-height: 100vh;",
        "```markdown\ngrid-template-areas: \n```",
        "        \"cabe\u00e7alho cabe\u00e7alho cabe\u00e7alho\"",
        "        \"conte\u00fado da barra lateral conte\u00fado\"",
        "```markdown\n\"rodap\u00e9 rodap\u00e9 rodap\u00e9\";\n```",
        "}",
        "\n",
        "cabe\u00e7alho {",
        "    grid-area: header;",
        "}\n",
        "\n",
        "main {",
        "```markdown\ngrid-area: conte\u00fado;\n```",
        "}",
        "\n",
        "footer {",
        "    grid-area: footer;",
        "{\n",
        "\n",
        "aside {",
        "```markdown\ngrid-area: sidebar;\n```",
        "\\}",
        "```",
        "\n",
        "Como nomeamos cada uma das \u00e1reas do `Grid`, podemos usar esse nome para posicionar os elementos. Dessa forma, fica mais f\u00e1cil entender o CSS."
      ]
    },
    {
      "cell_type": "markdown",
      "metadata": {},
      "source": [
        "Se agora quis\u00e9ssemos torn\u00e1-lo responsivo, s\u00f3 ter\u00edamos que mudar o `Grid` e o restante do CSS permaneceria igual.",
        "\n",
        "```css\n```",
        "corpo {",
        "    display: grid;",
        "    grid-template-columns: 1fr 1fr 1fr;",
        "    grid-template-rows: 35px 1fr 100px;",
        "    min-height: 100vh;\n",
        "    grid-template-areas:",
        "        \"cabe\u00e7alho cabe\u00e7alho cabe\u00e7alho\"",
        "        \"conte\u00fado da barra lateral conte\u00fado\"",
        "        \"rodap\u00e9 rodap\u00e9 rodap\u00e9\";",
        "```markdown\n}\n```",
        "\n",
        "@media (width < 400px) {",
        "```markdown\n    corpo {\n```",
        "        grid-template-columns: 1fr;",
        "        grid-template-rows: 35px 1fr 100px;\n",
        "        grid-template-areas: ",
        "            \"cabe\u00e7alho cabe\u00e7alho barra lateral\"",
        "            \"conte\u00fado conte\u00fado conte\u00fado\"",
        "            \"rodap\u00e9 rodap\u00e9 rodap\u00e9\";",
        "    }",
        "\n",
        "```markdown\ncabe\u00e7alho {\n```",
        "    grid-area: header;",
        "{\n",
        "\n",
        "principal {",
        "grid-area: content;",
        "{\n",
        "\n",
        "```markdown\nrodap\u00e9 {\n```",
        "    grid-area: footer;",
        "```markdown\n```\n",
        "\n",
        "aside {",
        "    grid-area: sidebar;",
        "{\n",
        "",
        "\n",
        "Agora fizemos com que, quando o vemos em um dispositivo grande, a barra lateral esteja \u00e0 esquerda e o conte\u00fado \u00e0 direita. Mas, quando o vemos em um dispositivo pequeno, a barra lateral est\u00e1 em cima e o conte\u00fado embaixo."
      ]
    },
    {
      "cell_type": "markdown",
      "metadata": {},
      "source": [
        "Suponhamos que queremos que em uma \u00e1rea n\u00e3o haja nada, podemos colocar um ponto.",
        "\n",
        "",
        "```markdown\ncorpo {\n```",
        "    display: grid;",
        "    grid-template-columns: 1fr 1fr 1fr;",
        "    grid-template-rows: 35px 1fr 100px;",
        "    min-height: 100vh;",
        "```markdown\ngrid-template-areas:\n```",
        "        \"cabe\u00e7alho cabe\u00e7alho cabe\u00e7alho\"",
        "        \"barra lateral . conte\u00fado\"",
        "        \"rodap\u00e9 rodap\u00e9 rodap\u00e9\";",
        "```markdown\n}\n```",
        "\n",
        "@media (width < 400px) {",
        "```markdown\ncorpo {\n```",
        "        grid-template-columns: 1fr;",
        "        grid-template-rows: 35px 1fr 100px;",
        "        grid-template-areas: ",
        "            \"cabe\u00e7alho cabe\u00e7alho barra-lateral\"",
        "```markdown\n\"conte\u00fado conte\u00fado conte\u00fado\"\n```",
        "            \"rodap\u00e9 rodap\u00e9 rodap\u00e9\";",
        "    }",
        "\n",
        "cabe\u00e7alho {",
        "    grid-area: header;",
        "```markdown\n}\n```",
        "\n",
        "```markdown\nprincipal {\n```",
        "```markdown\ngrid-area: content;\n```",
        "}\n",
        "\n",
        "footer {",
        "    grid-area: footer;",
        "}",
        "\n",
        "aside {",
        "    grid-area: sidebar;",
        "```markdown\n}\n```",
        "```",
        "\n",
        "Agora em telas grandes h\u00e1 um espa\u00e7o entre a barra lateral e o conte\u00fado."
      ]
    },
    {
      "cell_type": "markdown",
      "metadata": {},
      "source": [
        "### Justify-items, Align-items, Justify-content e Align-content"
      ]
    },
    {
      "cell_type": "markdown",
      "metadata": {},
      "source": [
        "Podemos alinhar o conte\u00fado e os elementos de um `Grid` com as propriedades `justify-items`, `align-items`, `justify-content` e `align-content`.",
        "\n",
        "![grid justify](https://miro.medium.com/v2/resize:fit:1080/1*y9RuktkbVshp7lmVmZrbeQ.png)"
      ]
    },
    {
      "cell_type": "markdown",
      "metadata": {},
      "source": [
        "#### Justify-items"
      ]
    },
    {
      "cell_type": "markdown",
      "metadata": {},
      "source": [
        "Podemos alinhar os elementos no eixo X do `Grid` com a propriedade `justify-items`.",
        "\n",
        "Os valores que podemos utilizar s\u00e3o:\n",
        "\n",
        "- `start`: alinha os elementos no in\u00edcio do eixo principal.",
        "- `end`: alinha os elementos ao final do eixo principal.",
        "- `center`: alinha os elementos no centro do eixo principal.",
        "- `stretch`: estica os elementos para que ocupem todo o espa\u00e7o dispon\u00edvel no eixo principal.",
        "\n",
        "```html\n```",
        "<section>",
        "<div>Texto 1</div>",
        "<div>Texto 2</div>",
        "<div>Texto 3</div>",
        "</section>",
        "```",
        "\n",
        "```css\n```",
        "se\u00e7\u00e3o {",
        "    display: grid;",
        "    justify-items: center;",
        "}",
        "```"
      ]
    },
    {
      "cell_type": "markdown",
      "metadata": {},
      "source": [
        "#### Justify-self"
      ]
    },
    {
      "cell_type": "markdown",
      "metadata": {},
      "source": [
        "Com `justify-items` alinhamos todos os elementos no eixo principal do `Grid`, mas com `justify-self` podemos alinhar um elemento no eixo principal do `Grid` de forma diferente do resto dos elementos.",
        "\n",
        "```html\n",
        "<section>",
        "    <div>Texto 1</div>",
        "<div>Texto 2</div>",
        "    <div>Texto 3</div>",
        "</section>",
        "",
        "\n",
        "",
        "se\u00e7\u00e3o {",
        "    display: grid;",
        "    justify-items: center;",
        "}",
        "\n",
        "```markdown\nsection div:nth-child(2) {\n```",
        "    justify-self: end;",
        "```markdown\n```\n",
        "```\n",
        "\n",
        "![justify-self](data:image/png;base64,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)"
      ]
    },
    {
      "cell_type": "markdown",
      "metadata": {},
      "source": [
        "#### Align-items"
      ]
    },
    {
      "cell_type": "markdown",
      "metadata": {},
      "source": [
        "\u00c9 muito parecido com `justify-items`, mas em vez de alinhar os elementos no eixo X, os alinha no eixo Y.",
        "\n",
        "Os valores que podemos utilizar s\u00e3o:",
        "\n",
        "- `start`: alinha os elementos no in\u00edcio do eixo secund\u00e1rio.",
        "- `end`: alinha os elementos ao final do eixo secund\u00e1rio.",
        "- `center`: alinha os elementos no centro do eixo secund\u00e1rio.",
        "- `stretch`: estica os elementos para que ocupem todo o espa\u00e7o dispon\u00edvel no eixo secund\u00e1rio.",
        "\n",
        "```html\n",
        "<section>",
        "<div>Texto 1</div>",
        "<div>Texto 2</div>\n",
        "    <div>Texto 3</div>",
        "</section>",
        "```\n```",
        "\n",
        "```css\n```",
        "se\u00e7\u00e3o {",
        "```\ndisplay: grid;\n```",
        "    align-items: center;",
        "}\n",
        "```"
      ]
    },
    {
      "cell_type": "markdown",
      "metadata": {},
      "source": [
        "#### Align-self"
      ]
    },
    {
      "cell_type": "markdown",
      "metadata": {},
      "source": [
        "Com `align-items` alinhamos todos os elementos no eixo secund\u00e1rio do `Grid`, mas com `align-self` podemos alinhar um elemento no eixo secund\u00e1rio do `Grid` de forma diferente do restante dos elementos.",
        "\n",
        "```markdown\n",
        "<section>",
        "<div>Texto 1</div>",
        "<div>Texto 2</div>",
        "```markdown\n<div>Texto 3</div>\n```",
        "</section>",
        "```",
        "\n",
        "",
        "se\u00e7\u00e3o {",
        "    display: grid;",
        "    align-items: center;",
        "{\n",
        "\n",
        "section div:nth-child(2) {",
        "    align-self: end;",
        "{\n",
        "```",
        "\n",
        "![align-self](data:image/png;base64,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)"
      ]
    },
    {
      "cell_type": "markdown",
      "metadata": {},
      "source": [
        "#### Place-content"
      ]
    },
    {
      "cell_type": "markdown",
      "metadata": {},
      "source": [
        "Se quisermos usar `justify-content` e `align-content` ao mesmo tempo, podemos usar `place-content`.",
        "\n",
        "Os valores que podemos utilizar s\u00e3o:\n",
        "\n",
        "- `start`: alinha os elementos no in\u00edcio do eixo principal e secund\u00e1rio.",
        "- `end`: alinha os elementos no final do eixo principal e secund\u00e1rio.",
        "- `center`: alinha os elementos no centro do eixo principal e secund\u00e1rio.",
        "- `stretch`: estica os elementos para que ocupem todo o espa\u00e7o dispon\u00edvel no eixo principal e secund\u00e1rio.",
        "\n",
        "```html",
        "<section>",
        "<div>Texto 1</div>",
        "<div>Texto 2</div>",
        "    <div>Texto 3</div>",
        "</section>",
        "```\n```",
        "\n",
        "```css\n```",
        "sec\u00e7\u00e3o {",
        "    display: grid;",
        "    place-content: center;",
        "}",
        "```"
      ]
    },
    {
      "cell_type": "markdown",
      "metadata": {},
      "source": [
        "### Pr\u00e1tica de Grid"
      ]
    },
    {
      "cell_type": "markdown",
      "metadata": {},
      "source": [
        "Um bom recurso para praticar Grid \u00e9 [Grid Garden](https://cssgridgarden.com/)."
      ]
    },
    {
      "cell_type": "markdown",
      "metadata": {},
      "source": [
        "## Centralizar um div"
      ]
    },
    {
      "cell_type": "markdown",
      "metadata": {},
      "source": [
        "At\u00e9 agora vimos 3 formas de centralizar um `div`:",
        "\n",
        "- Com `position: absolute`.",
        "- Com `display: flex`.",
        "- Com `display: grid`."
      ]
    },
    {
      "cell_type": "markdown",
      "metadata": {},
      "source": [
        "## Anima\u00e7\u00f5es"
      ]
    },
    {
      "cell_type": "markdown",
      "metadata": {},
      "source": [
        "Dentro das anima\u00e7\u00f5es, existem dois tipos: as `transi\u00e7\u00f5es` e as `anima\u00e7\u00f5es`."
      ]
    },
    {
      "cell_type": "markdown",
      "metadata": {},
      "source": [
        "### Transi\u00e7\u00f5es"
      ]
    },
    {
      "cell_type": "markdown",
      "metadata": {},
      "source": [
        "Nas transi\u00e7\u00f5es mudamos um elemento de um estado inicial para um estado alvo"
      ]
    },
    {
      "cell_type": "markdown",
      "metadata": {},
      "source": [
        "Suponhamos que temos o seguinte c\u00edrculo",
        "\n",
        "```html",
        "<div class=\"pulser\"></div>",
        "```",
        "\n",
        "E seu CSS",
        "\n",
        "```css\n```",
        "```markdown\n.pulser {\n```",
        "    largura: 30px;",
        "    height: 30px;",
        "```markdown\ncor de fundo: #09f;\n```",
        "    border-radius: 50%;",
        "    position: relative;",
        "```markdown\n}\n```",
        "```",
        "\n",
        "Os elementos de HTML podem ter estados, por exemplo o estado `hover`, que \u00e9 quando o usu\u00e1rio passa o cursor por cima do elemento.",
        "\n",
        "",
        ".pulser:hover {",
        "escala: 2;\n",
        "    background: roxo;",
        "    box-shadow: 0 0 10px purple;",
        "}\n",
        "```\n```",
        "\n",
        "Ao usar `scale`, aumentamos o tamanho, mas ocupando o mesmo espa\u00e7o; no entanto, se tiv\u00e9ssemos alterado o `width` e o `height`, o bot\u00e3o teria se movido de lugar."
      ]
    },
    {
      "cell_type": "markdown",
      "metadata": {},
      "source": [
        "#### Transi\u00e7\u00e3o"
      ]
    },
    {
      "cell_type": "markdown",
      "metadata": {},
      "source": [
        "O que acontece \u00e9 que, se agora passarmos o mouse por cima do c\u00edrculo, o estado muda de repente; ent\u00e3o, \u00e9 aqui que entra a `transi\u00e7\u00e3o`, que \u00e9 como indicamos ao CSS como o estado deve ser modificado. Por exemplo, se quisermos que a transi\u00e7\u00e3o dure 1 segundo",
        "\n",
        "```css\n```",
        ".pulser {",
        "    width: 30px;",
        "    height: 30px;\n",
        "    background-color: #09f;\n",
        "    border-radius: 50%;",
        "    position: relative;",
        "    transition: 1s;",
        "}",
        "```"
      ]
    },
    {
      "cell_type": "markdown",
      "metadata": {},
      "source": [
        "\u00c9 importante colocar a transi\u00e7\u00e3o em `.pulser` e n\u00e3o em `.pulser:hover` porque, caso contr\u00e1rio, a transi\u00e7\u00e3o n\u00e3o se aplicaria ao voltar ao estado inicial. Ou seja, quando passarmos o mouse sobre o c\u00edrculo, a transi\u00e7\u00e3o ser\u00e1 vis\u00edvel, mas quando retirarmos o mouse do c\u00edrculo, n\u00e3o haver\u00e1 uma transi\u00e7\u00e3o de volta, mas sim uma mudan\u00e7a abrupta para o estado inicial."
      ]
    },
    {
      "cell_type": "markdown",
      "metadata": {},
      "source": [
        "#### O que se quer transicionar transition-property"
      ]
    },
    {
      "cell_type": "markdown",
      "metadata": {},
      "source": [
        "Com o anterior seria feita uma transi\u00e7\u00e3o de cor, de tamanho e de fundo, mas se n\u00e3o quisermos que se produza uma transi\u00e7\u00e3o de tudo podemos indic\u00e1-lo mediante `transition-property`",
        "\n",
        "",
        "```markdown\n.pulser {\n```",
        "    largura: 30px;",
        "    height: 30px;",
        "    background-color: #09f;",
        "    border-radius: 50%;",
        "    position: relative;",
        "    transi\u00e7\u00e3o: 1s;",
        "    transition-property: background-color, scale;",
        "```yaml\ntransformers:\n  library: sentence-transformers\n  models:\n    - distiluse-base-multilingual-cased-v1\n  pooling: \n    type: mean\n  normalize: true\n  embeddings_path: data/embeddings.pkl\n```",
        "```",
        "\n",
        "Desta maneira, apenas a transi\u00e7\u00e3o de `background-color` e `scale` ser\u00e1 feita"
      ]
    },
    {
      "cell_type": "markdown",
      "metadata": {},
      "source": [
        "#### Transi\u00e7\u00f5es suaves"
      ]
    },
    {
      "cell_type": "markdown",
      "metadata": {},
      "source": [
        "A transi\u00e7\u00e3o padr\u00e3o \u00e9 feita de maneira linear, mas se quisermos mud\u00e1-la podemos fazer isso atrav\u00e9s de `transition-timing-function`",
        "\n",
        "```css\n```",
        ".pulsador {",
        "    width: 30px;",
        "height: 30px;",
        "```markdown\nfundo-cor: #09f;\n```",
        "    border-radius: 50%;",
        "    position: relative;",
        "    transition: 1s;",
        "    transition-property: background-color, scale;",
        "    transition-timing-function: ease-in-out;",
        "{",
        "```",
        "\n",
        "Dessa forma, a transi\u00e7\u00e3o ser\u00e1 mais suave no in\u00edcio e no final. Os valores poss\u00edveis s\u00e3o os seguintes:",
        "\n",
        " + linear",
        " + facilidade",
        " + ease-in",
        " + ease-out",
        " + ease-in-out",
        " + cubic-bezier(n,n,n,n)"
      ]
    },
    {
      "cell_type": "markdown",
      "metadata": {},
      "source": [
        "#### Transi\u00e7\u00f5es por etapas"
      ]
    },
    {
      "cell_type": "markdown",
      "metadata": {},
      "source": [
        "Se queremos que a anima\u00e7\u00e3o seja feita em v\u00e1rios passos, podemos usar `steps(n)`, onde `n` \u00e9 o n\u00famero de passos que queremos que a anima\u00e7\u00e3o tenha.",
        "\n",
        "```css\n```",
        ".pulser {",
        "    width: 30px;",
        "```markdown\nheight: 30px;\n```",
        "    background-color: #09f;",
        "    border-radius: 50%;",
        "    position: relative;",
        "    transition: 1s;",
        "    transition-property: background-color, scale;",
        "    transition-timing-function: steps(5);",
        "```markdown\n}\n```",
        "```",
        "\n",
        "Desta forma, a transi\u00e7\u00e3o ser\u00e1 realizada em 5 etapas durante 1 segundo"
      ]
    },
    {
      "cell_type": "markdown",
      "metadata": {},
      "source": [
        "#### Controle total da transi\u00e7\u00e3o com cubic-bezier"
      ]
    },
    {
      "cell_type": "markdown",
      "metadata": {},
      "source": [
        "Para poder controlar perfeitamente a transi\u00e7\u00e3o podemos usar `cubic-bezier(n,n,n,n)`, onde `n` \u00e9 um n\u00famero entre 0 e 1 que indica a posi\u00e7\u00e3o do ponto no eixo X e Y",
        "\n",
        "",
        ".pulser {",
        "```markdown\n    width: 30px;\n```",
        "    height: 30px;\n",
        "    background-color: #09f;",
        "    border-radius: 50%;",
        "    position: relative;",
        "    transition: 1s;",
        "    transition-property: background-color, scale;",
        "```markdown\ntransition-timing-function: cubic-bezier(0.1, 0.7, 1.0, 0.1);\n```",
        "}{\n",
        "```"
      ]
    },
    {
      "cell_type": "markdown",
      "metadata": {},
      "source": [
        "Com `delay` podemos indicar o tempo que tem que passar at\u00e9 que a transi\u00e7\u00e3o comece",
        "\n",
        "```css\n```",
        ".pulser {",
        "    width: 30px;",
        "    height: 30px;",
        "```markdown\n    background-color: #09f;\n```",
        "```markdown\nborder-radius: 50%;\n```",
        "    posi\u00e7\u00e3o: relativa;",
        "    transition: 1s;",
        "    transition-property: background-color, scale;",
        "    transition-timing-function: cubic-bezier(0.1, 0.7, 1.0, 0.1);\n",
        "    transition-delay: 1s;",
        "",
        "```\n```",
        "\n",
        "Com o `delay` \u00e9 poss\u00edvel fazer anima\u00e7\u00f5es de carregamento, por exemplo",
        "\n",
        "```html\n",
        "<section>",
        "Fa\u00e7a hover para mostrar os elementos",
        "```markdown\n<div class=\"pulser\"></div>\n```",
        "<div class=\"pulser\"></div>",
        "```html\n<div class=\"pulser\"></div>\n```",
        "</section>",
        "```",
        "\n",
        "",
        "se\u00e7\u00e3o {",
        "```markdown\nexibir: flex;\n```",
        "    flex-direction: coluna;",
        "    align-items: center;\n",
        "    justify-content: center;",
        "    height: 100vh;",
        "}",
        "\n",
        "```markdown\n.pulser {\n```",
        "    width: 30px;",
        "    height: 30px;",
        "    border-radius: 50%;\n",
        "```markdown\nposition: relative;\n```",
        "    position: relative;",
        "    opacity: 0;",
        "    transition: 2s;",
        "    transition-timing-function: facilidade;\n",
        "}",
        "\n",
        "se\u00e7\u00e3o {",
        "    display: flex;",
        "    gap: 16px;",
        "    justify-content: center;",
        "    aling-items: center;",
        "```markdown\n{\n```",
        "\n",
        "section:hover .pulser {\n",
        "    opacity: 1;",
        "}",
        "\n",
        ".pulser:first-child {\n",
        "    transition-delay: 0s;",
        "}",
        "\n",
        ".pulser:nth-child(2) {",
        "    transition-delay: 300ms;",
        "{\n",
        "\n",
        ".pulser:last-child {",
        "    transition-delay: 600ms;",
        "}",
        ""
      ]
    },
    {
      "cell_type": "markdown",
      "metadata": {},
      "source": [
        "Em [easings.co](https://easings.co/) podemos ver e configurar as transi\u00e7\u00f5es"
      ]
    },
    {
      "cell_type": "markdown",
      "metadata": {},
      "source": [
        "#### Tudo em uma linha"
      ]
    },
    {
      "cell_type": "markdown",
      "metadata": {},
      "source": [
        "Em `.pulser` colocamos `transition` e `transition-timing-function`, mas tamb\u00e9m podemos colocar tudo em uma linha",
        "\n",
        "```css\n```",
        ".pulser {",
        "    largura: 30px;",
        "    height: 30px;",
        "    background-color: #09f;\n    ",
        "    border-radius: 50%;",
        "    posi\u00e7\u00e3o: relativa;",
        "    transition: background 300ms ease-in-out 2s;",
        "}\n",
        "```",
        "\n",
        "Com isso, o que dissemos \u00e9 para animar o `background` durante 300ms, com uma transi\u00e7\u00e3o suave no in\u00edcio e no final e que espera 2 segundos antes de come\u00e7ar a transi\u00e7\u00e3o.",
        "\n",
        "Se quisermos especificar v\u00e1rios elementos, podemos faz\u00ea-lo da seguinte maneira",
        "\n",
        "",
        ".pulser {",
        "    width: 30px;",
        "    height: 30px;",
        "    background-color: #09f;",
        "    border-radius: 50%;",
        "    position: relative;",
        "    transition: background 300ms ease-in-out 2s, scale 1s ease-in-out 1s;",
        "}",
        "```"
      ]
    },
    {
      "cell_type": "markdown",
      "metadata": {},
      "source": [
        "#### O que transicionar?"
      ]
    },
    {
      "cell_type": "markdown",
      "metadata": {},
      "source": [
        "Na hora de colocar transi\u00e7\u00f5es, pode-se buscar o que pode ser transicionado em [Animatable CSS properties](https://developer.mozilla.org/en-US/docs/Web/CSS/CSS_animated_properties), mas para n\u00e3o perder tempo procurando, o melhor \u00e9 transicionar propriedades com intelig\u00eancia. Por exemplo, algo que pode ser transicionado \u00e9 uma cor, um tamanho, etc.",
        "\n",
        "O ideal \u00e9 transicionar propriedades com estados intermedi\u00e1rios, por exemplo uma fonte n\u00e3o tem um estado intermedi\u00e1rio e n\u00e3o faz sentido fazer uma transi\u00e7\u00e3o de uma fonte para outra."
      ]
    },
    {
      "cell_type": "markdown",
      "metadata": {},
      "source": [
        "#### Diferentes transi\u00e7\u00f5es no in\u00edcio e no final"
      ]
    },
    {
      "cell_type": "markdown",
      "metadata": {},
      "source": [
        "Antes dissemos que \u00e9 preciso colocar as transi\u00e7\u00f5es no elemento e n\u00e3o no hover, porque dessa maneira a transi\u00e7\u00e3o s\u00f3 ser\u00e1 vis\u00edvel quando se colocar o cursor em cima do elemento e n\u00e3o quando se retira o cursor. Pois, se se quiserem ter diferentes anima\u00e7\u00f5es no in\u00edcio e no final podemos aproveitar isso. No elemento colocaremos a transi\u00e7\u00e3o final e no hover a inicial.",
        "\n",
        "```css\n```",
        ".pulser {",
        "    width: 30px;",
        "altura: 30px;",
        "    background-color: #09f;",
        "    border-radius: 50%;",
        "    posi\u00e7\u00e3o: relativa;",
        "transition: background 300ms ease-in-out",
        "```markdown\n}\n```",
        "\n",
        ".pulser:hover {",
        "escala: 2;",
        "```markdown\nbackground: roxo;\n```",
        "```markdown\nbox-shadow: 0 0 10px purple;\n```",
        "    transition: 1s;",
        "    transition-duration: 1s;",
        "}\n",
        "```",
        "\n",
        "Dessa forma, quando passarmos o mouse sobre o elemento, haver\u00e1 uma transi\u00e7\u00e3o de 300 ms e, quando tirarmos o mouse, a transi\u00e7\u00e3o ser\u00e1 de 1 segundo."
      ]
    },
    {
      "cell_type": "markdown",
      "metadata": {},
      "source": [
        "#### Acessibilidade"
      ]
    },
    {
      "cell_type": "markdown",
      "metadata": {},
      "source": [
        "H\u00e1 pessoas que podem chegar a ficar tontas com as transi\u00e7\u00f5es, por isso podemos adicionar uma media query para remov\u00ea-las",
        "\n",
        "",
        "@media (prefers-reduced-motion: reduce) {\n",
        "```markdown\n.pulser {\n```",
        "        transition: none;",
        "}",
        "}\n",
        ""
      ]
    },
    {
      "cell_type": "markdown",
      "metadata": {},
      "source": [
        "### Anima\u00e7\u00f5es"
      ]
    },
    {
      "cell_type": "markdown",
      "metadata": {},
      "source": [
        "As transi\u00e7\u00f5es s\u00e3o as anima\u00e7\u00f5es quando interagimos com os elementos, mas nas anima\u00e7\u00f5es n\u00e3o precisamos interagir com o elemento, podem ser executadas sozinhas. Por exemplo, o t\u00edpico bot\u00e3o que a cada certo tempo se move para que voc\u00ea saiba que tem que pression\u00e1-lo."
      ]
    },
    {
      "cell_type": "markdown",
      "metadata": {},
      "source": [
        "#### Keyframes"
      ]
    },
    {
      "cell_type": "markdown",
      "metadata": {},
      "source": [
        "Voltamos ao exemplo da bola azul e retiramos todas as transi\u00e7\u00f5es",
        "\n",
        "```html",
        "<div class=\"pulser\"></div>",
        "```",
        "\n",
        "```css\n```",
        ".pulser {",
        "    width: 30px;",
        "    height: 30px;",
        "```markdown\ncor-de-fundo: #09f;\n```",
        "```markdown\nborder-radius: 50%;\n```",
        "}\n",
        ""
      ]
    },
    {
      "cell_type": "markdown",
      "metadata": {},
      "source": [
        "Temos que indicar ao CSS que queremos fazer uma anima\u00e7\u00e3o, para isso usamos `@keyframes` e damos um nome \u00e0 anima\u00e7\u00e3o",
        "\n",
        "```css\n```",
        "@keyframes move {",
        "```markdown\n}\n```",
        "```\n```",
        "\n",
        "Agora temos que dizer de onde come\u00e7a este frame, para isso usamos `from` e onde termina, para isso usamos `to`",
        "\n",
        "```css\n```",
        "@keyframes move {",
        "    de {",
        "    }",
        "    para {",
        "}",
        "}",
        "",
        "\n",
        "Agora temos que indicar quais propriedades queremos que mudem, por exemplo a posi\u00e7\u00e3o",
        "\n",
        "```css\n```",
        "@keyframes mover {",
        "    de {",
        "        transform: translateX(0);",
        "    }",
        "    para {",
        "        transform: translateX(100px);",
        "```markdown\n{\n```",
        "```markdown\n```\n",
        "```\n```",
        "\n",
        "Desta maneira, quando entrarmos na p\u00e1gina, a bola azul se mover\u00e1 100px para a direita."
      ]
    },
    {
      "cell_type": "markdown",
      "metadata": {},
      "source": [
        "#### Depois"
      ]
    },
    {
      "cell_type": "markdown",
      "metadata": {},
      "source": [
        "Em um elemento se pode colocar um `after` que \u00e9 um elemento que se coloca depois do elemento principal",
        "\n",
        "```html\n",
        "<div class=\"pulser\"></div>",
        "",
        "\n",
        "```css\n```",
        "```markdown\n.pulser {\n```",
        "    width: 30px;",
        "    height: 30px;",
        "```css\nbackground-color: azul;\n```",
        "    border-radius: 50%;",
        "}",
        "\n",
        ".pulser::after {",
        "    content: '';",
        "    position: absolute;",
        "width: 100%;",
        "    altura: 100%;",
        "    topo: 0;\n",
        "    left: 0;\n",
        "    background-color: azul;",
        "    border-radius: 50%;",
        "    z-index: -1;",
        "}\n",
        "```",
        "\n",
        "Isso faz com que um c\u00edrculo azul seja colocado atr\u00e1s do c\u00edrculo azul, ent\u00e3o agora temos dois c\u00edrculos azuis",
        "\n",
        "Agora definimos os keyframes",
        "\n",
        "",
        "@keyframes move {",
        "    0% {",
        "        opacity: 0;",
        "    }",
        "    50% {",
        "        scale: 1.5;",
        "        opacidade: 40%;\n",
        "```markdown\n}\n```",
        "    100% {",
        "        opacity: 60%;\n",
        "    }",
        "}",
        "",
        "\n",
        "E como j\u00e1 definimos os keyframes, agora s\u00f3 precisamos indicar ao CSS que queremos que a anima\u00e7\u00e3o seja executada",
        "\n",
        "```css\n```",
        ".pulser::after {",
        "    conte\u00fado: '';",
        "```markdown\nposition: absolute;\n```",
        "    largura: 100%;",
        "    height: 100%;",
        "    top: 0;",
        "    left: 0;",
        "    background-color: azul;\n",
        "    border-radius: 50%;",
        "    z-index: -1;",
        "    \n",
        "    animation-name: pulsar;\n",
        "    animation-duration: 2s;",
        "```markdown\nanimation-timing-function: ease-in-out;\n```",
        "{\n",
        "```",
        "\n",
        "Agora, quando a p\u00e1gina carregar, parecer\u00e1 que o c\u00edrculo azul est\u00e1 pulsando."
      ]
    },
    {
      "cell_type": "markdown",
      "metadata": {},
      "source": [
        "Mas s\u00f3 acontece uma vez, para que aconte\u00e7a mais vezes precisamos adicionar `animation-iteration-count`",
        "\n",
        "```  \n",
        ".pulser::after {",
        "    content: '';\n",
        "    position: absolute;",
        "    largura: 100%;",
        "    height: 100%;",
        "    top: 0;",
        "    left: 0;",
        "    background-color: azul;\n",
        "```markdown\nborder-radius: 50%;\n```",
        "    z-index: -1;\n",
        "    \n",
        "    animation-name: pulsar;",
        "    animation-duration: 2s;",
        "    animation-timing-function: ease-in-out;\n",
        "    animation-iteration-count: infinito;",
        "{\n",
        "```",
        "\n",
        "Agora ocorrer\u00e1 infinitas vezes"
      ]
    },
    {
      "cell_type": "markdown",
      "metadata": {},
      "source": [
        "#### Movimento"
      ]
    },
    {
      "cell_type": "markdown",
      "metadata": {},
      "source": [
        "Podemos fazer com que um elemento se mova",
        "\n",
        "```portugu\u00eas",
        "<div class=\"pulser\"></div>",
        "```",
        "\n",
        "```css\n```",
        ".pulser {",
        "    width: 30px;",
        "    height: 30px;",
        "    background-color: blue;\n",
        "    border-radius: 50%;",
        "    position: relative;",
        "}",
        "\n",
        ".pulser::after {",
        "    content: '';",
        "posi\u00e7\u00e3o: absolute;",
        "    largura: 100%;",
        "    height: 100%;",
        "    topo: 0;",
        "    left: 0;",
        "    background-color: blue;",
        "    border-radius: 50%;",
        "    z-index: -1;",
        "    \n",
        "    animation-name: mover;",
        "    animation-duration: 2s;",
        "    animation-iteration-count: infinito;",
        "    animation-timing-function: linear;",
        "}",
        "\n",
        "@keyframes mover {",
        "    de {",
        "        transform: translateX(0);",
        "    }",
        "    para {",
        "        transform: translateX(100px);",
        "```markdown\n{\n```",
        "```markdown\n}\n```",
        "```",
        "\n",
        "\n",
        "Agora a bola azul se mover\u00e1 100px para a direita"
      ]
    },
    {
      "cell_type": "markdown",
      "metadata": {},
      "source": [
        "#### Endere\u00e7o"
      ]
    },
    {
      "cell_type": "markdown",
      "metadata": {},
      "source": [
        "Para que a bola azul se mova para a esquerda s\u00f3 \u00e9 preciso fazer `animation-direction: reverse`",
        "\n",
        "```css\n```",
        ".pulser::after {",
        "    conte\u00fado: '';",
        "    position: absolute;",
        "    largura: 100%;",
        "    height: 100%;",
        "    top: 0;",
        "    left: 0;",
        "    background-color: azul;",
        "    border-radius: 50%;",
        "    z-index: -1;",
        "    \n",
        "```\nanimation-name: mover;\n```",
        "    animation-duration: 2s;",
        "    animation-iteration-count: infinito;\n",
        "    animation-timing-function: linear;",
        "```\nanimation-direction: reverse;\n```",
        "```markdown\n}\n```",
        "```"
      ]
    },
    {
      "cell_type": "markdown",
      "metadata": {},
      "source": [
        "Se o que queremos \u00e9 que a bola v\u00e1 de um lado para o outro, \u00e9 necess\u00e1rio colocar `animation-direction: alternate`",
        "\n",
        "```css\n```",
        ".pulser::after {",
        "    content: '';",
        "    position: absolute;",
        "    largura: 100%;",
        "    height: 100%;",
        "    top: 0;",
        "    left: 0;",
        "    background-color: blue;",
        "    border-radius: 50%;",
        "    z-index: -1;",
        "    \n",
        "    animation-name: mover;",
        "    animation-duration: 2s;\n",
        "    animation-iteration-count: infinito;",
        "    animation-timing-function: linear;",
        "    animation-direction: alternate;",
        "{\n",
        ""
      ]
    },
    {
      "cell_type": "markdown",
      "metadata": {},
      "source": [
        "#### Pausar anima\u00e7\u00f5es"
      ]
    },
    {
      "cell_type": "markdown",
      "metadata": {},
      "source": [
        "Imagine que voc\u00ea tem cart\u00f5es que t\u00eam anima\u00e7\u00f5es, talvez voc\u00ea queira que, quando passar o mouse sobre o cart\u00e3o, a anima\u00e7\u00e3o pare. Para isso, podemos usar `animation-play-state: paused`.",
        "\n",
        "",
        ".card:hover {",
        "    animation-play-state: paused;",
        "`}`",
        "```"
      ]
    },
    {
      "cell_type": "markdown",
      "metadata": {},
      "source": [
        "#### Aninhamento de CSS"
      ]
    },
    {
      "cell_type": "markdown",
      "metadata": {},
      "source": [
        "Declaramos no CSS as propriedades do pulsador e as propriedades quando se faz hover, mas \u00e9 poss\u00edvel fazer tudo junto.",
        "\n",
        "```css\n```",
        ".pulser {",
        "    width: 30px;",
        "    height: 30px;",
        "    background-color: blue;",
        "    border-radius: 50%;\n",
        "    position: relative;",
        "    \n",
        "    &::depois {",
        "        content: '';",
        "        position: absolute;",
        "        width: 100%;",
        "        height: 100%;",
        "        top: 0;",
        "        left: 0;",
        "        background-color: azul;",
        "        border-radius: 50%;",
        "        z-index: -1;",
        "        \n",
        "        animation-name: mover;\n",
        "        animation-duration: 2s;",
        "        animation-iteration-count: infinito;\n",
        "        animation-timing-function: linear;",
        "        animation-direction: alternate;",
        "```markdown\n}\n```",
        "    \n",
        "    &:hover::after {",
        "        animation-play-state: paused;",
        "```markdown\n}\n```",
        "{\n",
        ""
      ]
    },
    {
      "cell_type": "markdown",
      "metadata": {},
      "source": [
        "#### Como terminar as anima\u00e7\u00f5es"
      ]
    },
    {
      "cell_type": "markdown",
      "metadata": {},
      "source": [
        "Se temos uma anima\u00e7\u00e3o que s\u00f3 \u00e9 executada uma vez, por exemplo, que a bola azul se desloque para a direita, quando a anima\u00e7\u00e3o terminar, ela voltar\u00e1 abruptamente para sua posi\u00e7\u00e3o inicial. Para evitar isso, pode-se usar `animation-fill-mode: forwards`",
        "\n",
        "```css\n```",
        ".pulser::after {",
        "    conte\u00fado: '';",
        "    position: absolute;",
        "    largura: 100%;",
        "    height: 100%;",
        "    top: 0;",
        "    left: 0;",
        "    background-color: azul;",
        "    border-radius: 50%;",
        "    z-index: -1;",
        "    \n",
        "    animation-name: mover;",
        "    animation-duration: 2s;",
        "    animation-timing-function: linear;",
        "    animation-direction: alternate;",
        "    animation-fill-mode: forwards;",
        "```markdown\n}\n```",
        "",
        "\n",
        "Desta forma, quando terminar a anima\u00e7\u00e3o, a bola azul ficar\u00e1 na posi\u00e7\u00e3o final",
        "\n",
        "Se em vez de `forwards` colocarmos `backwards` a anima\u00e7\u00e3o come\u00e7ar\u00e1 desde o estado final",
        "\n",
        "Se colocarmos `both`, a anima\u00e7\u00e3o come\u00e7ar\u00e1 a partir do estado final e terminar\u00e1 no estado final"
      ]
    },
    {
      "cell_type": "markdown",
      "metadata": {},
      "source": [
        "#### Tudo em uma linha"
      ]
    },
    {
      "cell_type": "markdown",
      "metadata": {},
      "source": [
        "Temos um monte de propriedades (`animation-name`, `animation-duration`, `animation-timing-function`, `animation-direction`, `animation-fill-mode`), mas podem ser colocadas todas em uma linha. Tudo o que foi mencionado anteriormente poderia ser colocado assim",
        "\n",
        "",
        ".pulser::after {\n",
        "    content: '';",
        "```markdown\nposition: absolute;\n```",
        "    largura: 100%;",
        "    height: 100%;",
        "    top: 0;",
        "    left: 0;",
        "```css\nbackground-color: blue;\n```",
        "    border-radius: 50%;",
        "    z-index: -1;",
        "    \n",
        "    animation: mover 2s linear alternate forwards;",
        "}",
        "```"
      ]
    },
    {
      "cell_type": "markdown",
      "metadata": {},
      "source": [
        "Podemos criar v\u00e1rias anima\u00e7\u00f5es",
        "\n",
        "```css\n```",
        "```markdown\n.pulser::after {\n```",
        "    content: '';",
        "```markdown\nposition: absolute;\n```",
        "    largura: 100%;",
        "    height: 100%;",
        "    top: 0;",
        "    left: 0;",
        "    background-color: azul;",
        "    border-radius: 50%;",
        "    z-index: -1;",
        "    \n",
        "    anima\u00e7\u00e3o:",
        "        mover 2s linear alternate forwards,",
        "        expandir 1s linear 2s both;",
        "{\n",
        "```\n```",
        "\n",
        "Mas como a anima\u00e7\u00e3o `agrandar` n\u00e3o existe, n\u00f3s a criamos com keyframes",
        "\n",
        "",
        "@keyframes aumentar {",
        "    0% {",
        "        transform: scale: 1;",
        "```markdown\n}\n```",
        "    25% {",
        "        transform: scale: 1.5;",
        "}\n",
        "    50% {",
        "```markdown\ntransformar: escala: 2;\n```",
        "```markdown\n}\n```",
        "    75% {",
        "        transform: scale: 1.6;",
        "    }",
        "    100% {",
        "```markdown\n  transform: scale: 2;\n```",
        "```markdown\n}\n```",
        "{\n",
        "```",
        "\n",
        "Vai ser reproduzido um ap\u00f3s o outro, porque para aumentar foi colocado um delay de 2 segundos, que \u00e9 o que dura a primeira anima\u00e7\u00e3o, mas se quisermos que seja ao mesmo tempo, \u00e9 preciso tirar o delay.",
        "\n",
        "```css\n```",
        ".pulser::after {",
        "```markdown\n    conte\u00fado: '';\n```",
        "    position: absolute;",
        "    largura: 100%;",
        "    height: 100%;",
        "    top: 0;",
        "```markdown\n    esquerda: 0;\n```",
        "```markdown\ncor-de-fundo: azul;\n```",
        "    border-radius: 50%;\n",
        "    z-index: -1;\n",
        "    \n",
        "    anima\u00e7\u00e3o:",
        "        mover 2s linear alternate forwards,",
        "        aumentar 1s linear both;",
        "}",
        ""
      ]
    },
    {
      "cell_type": "markdown",
      "metadata": {},
      "source": [
        "#### Anima\u00e7\u00f5es com rolagem"
      ]
    },
    {
      "cell_type": "markdown",
      "metadata": {},
      "source": [
        "##### Exemplo de barra de progresso"
      ]
    },
    {
      "cell_type": "markdown",
      "metadata": {},
      "source": [
        "Por exemplo, se quisermos fazer uma barra que v\u00e1 aumentando de tamanho \u00e0 medida que vamos descendo pela p\u00e1gina",
        "\n",
        "```html",
        "<section>",
        "```markdown\n<div id=\"barra\"></div>\n```",
        "<p>Lorem ipsum dolor sit amet, consectetur adipiscing elit",
        "</p>\n",
        "<p>Lorem ipsum dolor sit amet, consectetur adipiscing elit",
        "</p>\n",
        "<p>Lorem ipsum dolor sit amet, consectetur adipiscing elit",
        "</p>",
        "<p>Lorem ipsum dolor sit amet, consectetur adipiscing elit",
        "</p>",
        "<p>Lorem ipsum dolor sit amet, consectetur adipiscing elit",
        "</p>",
        "<p>Lorem ipsum dolor sit amet, consectetur adipiscing elit",
        "</p>",
        "<p>Lorem ipsum dolor sit amet, consectetur adipiscing elit",
        "</p>",
        "</section>",
        "",
        "\n",
        "",
        "se\u00e7\u00e3o {",
        "    display: flex;",
        "    flex-direction: column;",
        "    align-items: center;",
        "    justify-content: center;",
        "    height: 100vh;",
        "```markdown\n```\n",
        "\n",
        "#barra {",
        "```markdown\n    posi\u00e7\u00e3o: fixa;\n```",
        "    top: 0;",
        "    largura: 0%;",
        "```css\nbackground-color: vermelho;\n```",
        "    height: 1em;",
        "\n",
        "    animation: barra-crescer auto linear;",
        "    animation-timeline: scroll(root block);",
        "}",
        "\n",
        "@keyframes barra-grow {",
        "``` text\nde {\n```",
        "        width: 0%;",
        "```markdown\n}\n```",
        "    a partir de {",
        "        width: 100%;",
        "    }",
        "}",
        "",
        "\n",
        "Como em `animation` colocamos um tempo de `auto` para saber quanto tempo a anima\u00e7\u00e3o deve durar, o navegador olhar\u00e1 para `animation-timeline`, onde indicamos que deve se basear no scroll. Dentro da fun\u00e7\u00e3o `scroll`, dizemos em qual elemento ele deve se basear; no nosso caso, colocamos `rootp` porque queremos o scroll da p\u00e1gina, mas poderia ser qualquer outro elemento da p\u00e1gina. Al\u00e9m disso, precisamos dizer se queremos que ele se baseie no scroll vertical ou horizontal; no nosso caso, colocamos `block` porque queremos que ele se baseie no scroll vertical (`block` \u00e9 o valor padr\u00e3o, ent\u00e3o, se preferir, n\u00e3o \u00e9 necess\u00e1rio coloc\u00e1-lo)."
      ]
    },
    {
      "cell_type": "markdown",
      "metadata": {},
      "source": [
        "##### Exemplo de cabe\u00e7alho que muda de cor"
      ]
    },
    {
      "cell_type": "markdown",
      "metadata": {},
      "source": [
        "Se quisermos que quando rolar a p\u00e1gina o cabe\u00e7alho mude de cor",
        "\n",
        "```html",
        "<header>",
        "```markdown\n<nav>\n```",
        "```markdown\n<ul>\n```",
        "            <li>In\u00edcio</li>",
        "```markdown\n<li>Sobre</li>\n```",
        "<li>Contato</li>",
        "        </ul>",
        "</nav>",
        "</header>",
        "```\n```",
        "\n",
        "```css\n```",
        "```markdown\nheader {\n```",
        "    posi\u00e7\u00e3o: sticky;",
        "top: 0;",
        "    largura: 100%;",
        "    background-color: white;",
        "```css\nbox-shadow: 0 0 10px rgba(0, 0, 0, 0.1);\n```",
        "    z-index: 2;",
        "\n",
        "    animation: header-color linear both;",
        "    anima\u00e7\u00e3o-linha-do-tempo: rolar(root bloco);",
        "```markdown\n}\n```",
        "\n",
        "```markdown\n@keyframes header-color {\n```",
        "    de {",
        "        background-color: white;",
        "    }",
        "```\npara {\n```",
        "        background-color: gray;",
        "        backdrop-filter: blur(5px);\n",
        "        color: white;",
        "```markdown\n}\n```",
        "}",
        "```"
      ]
    },
    {
      "cell_type": "markdown",
      "metadata": {},
      "source": [
        "Mas, fazendo isso, a anima\u00e7\u00e3o do cabe\u00e7alho termina apenas quando se chega ao final da p\u00e1gina, mas nos interessa que termine quando se tenha feito um pouco de rolagem, para isso removemos o `both` da `animation` e colocamos `animation-range: 0 200px` para que a anima\u00e7\u00e3o termine quando se tenha feito uma rolagem de 200px, ou seja, est\u00e1-se dizendo que a anima\u00e7\u00e3o vai de 0 px at\u00e9 200 px.",
        "\n",
        "```css\n```",
        "```markdown\ncabe\u00e7alho {\n```",
        "    posi\u00e7\u00e3o: sticky;",
        "    top: 0;",
        "    largura: 100%;",
        "    background-color: white;",
        "    box-shadow: 0 0 10px rgba(0, 0, 0, 0.1);",
        "    z-index: 2;",
        "\n",
        "    animation: header-color linear;",
        "    animation-timeline: scroll(root);",
        "    animation-range: 0 200px;",
        "}",
        "```"
      ]
    },
    {
      "cell_type": "markdown",
      "metadata": {},
      "source": [
        "##### Exemplo de galeria de imagens"
      ]
    },
    {
      "cell_type": "markdown",
      "metadata": {},
      "source": [
        "Imaginemos que temos um monte de imagens e queremos que, \u00e0 medida que vamos rolando a p\u00e1gina, elas v\u00e3o aparecendo.",
        "\n",
        "```html",
        "<section>",
        "<img src=\"img1.jpg\" alt=\"imagem 1\">",
        "    <img src=\"img2.jpg\" alt=\"imagem 2\">",
        "    <img src=\"img3.jpg\" alt=\"imagem 3\">",
        "<img src=\"img4.jpg\" alt=\"imagem 4\">",
        "    <img src=\"img5.jpg\" alt=\"imagem 5\">",
        "<img src=\"img6.jpg\" alt=\"imagem 6\">",
        "    <img src=\"img7.jpg\" alt=\"imagem 7\">",
        "<img src=\"img8.jpg\" alt=\"imagem 8\">",
        "<img src=\"img9.jpg\" alt=\"imagem 9\">",
        "<img src=\"img10.jpg\" alt=\"imagem 10\">",
        "</section>",
        "```\n```",
        "\n",
        "```css\n```",
        "sec\u00e7\u00e3o {",
        "    display: grid;\n",
        "```markdown\ngrid-template-columns: repeat(auto-fill, minmax(300px, 1fr));\n```",
        "gap: 16px;\n",
        "```markdown\n}\n```",
        "\n",
        "img {",
        "    largura: 100%;",
        "    height: auto;",
        "    opacity: 0;",
        "    animation: aparecer linear both;",
        "```markdown\nanimation-timeline: view()\n```",
        "    animation-range: entrada 20% cobrir 30%;",
        "}",
        "\n",
        "@keyframes aparecer {",
        "de {",
        "        opacity: 0;\n",
        "    }",
        "```markdown\npara\n```",
        "        opacity: 1;\n",
        "    }\n",
        "```markdown\n}\n```",
        "```",
        "\n",
        "com `animation-timeline: view()` estamos dizendo que fa\u00e7a a anima\u00e7\u00e3o quando a imagem estiver vis\u00edvel na tela e com `animation-range: entry 20% cover 30%` estamos dizendo que a anima\u00e7\u00e3o comece quando a imagem ocupar 20% da tela e termine quando ocupar 30% da tela",
        "\n",
        "Ao colocar `both` em `animation`, estamos dizendo que a anima\u00e7\u00e3o deve ocorrer tanto ao aparecer quanto ao desaparecer, ou seja, quando a imagem aparece, a anima\u00e7\u00e3o \u00e9 vis\u00edvel, mas quando desaparece, a anima\u00e7\u00e3o tamb\u00e9m \u00e9 vis\u00edvel, mas ao contr\u00e1rio, ou seja, a imagem vai tendo uma opacidade de 1 a 0 aos poucos."
      ]
    }
  ],
  "metadata": {
    "maximofn": {
      "date": "2024-02-05",
      "description_es": "CSS, o Hojas de Estilo en Cascada, es una tecnolog\u00eda fundamental en el dise\u00f1o web que permite a los desarrolladores y dise\u00f1adores estilizar y presentar documentos HTML de manera sofisticada y eficiente. A trav\u00e9s de CSS, podemos controlar el layout, los colores, las tipograf\u00edas, y mucho m\u00e1s, permitiendo la creaci\u00f3n de experiencias de usuario ricas y visualmente atractivas. Este post explora los conceptos b\u00e1sicos de CSS, desde selectores y propiedades hasta el modelo de caja, ofreciendo una gu\u00eda detallada para aquellos que buscan empezar o mejorar su habilidad en el dise\u00f1o web. Con ejemplos pr\u00e1cticos y consejos \u00fatiles, se demuestra c\u00f3mo CSS facilita la separaci\u00f3n del contenido de la presentaci\u00f3n, mejorando la accesibilidad y la mantenibilidad de los proyectos web",
      "description_en": "CSS, or Cascading Style Sheets, is a fundamental technology in web design that allows developers and designers to style and present HTML documents in a sophisticated and efficient manner. Through CSS, we can control layout, colors, fonts, and much more, enabling the creation of rich and visually appealing user experiences. This post explores the basics of CSS, from selectors and properties to the box model, offering a detailed guide for those looking to get started or improve their web design skills. With practical examples and helpful tips, it demonstrates how CSS makes it easy to separate content from presentation, improving the accessibility and maintainability of web projects.",
      "description_pt": "CSS, ou Cascading Style Sheets (Folhas de estilo em cascata), \u00e9 uma tecnologia fundamental no design da Web que permite aos desenvolvedores e designers estilizar e apresentar documentos HTML de maneira sofisticada e eficiente. Por meio do CSS, podemos controlar o layout, as cores, as fontes e muito mais, permitindo a cria\u00e7\u00e3o de experi\u00eancias de usu\u00e1rio ricas e visualmente atraentes. Esta postagem explora os conceitos b\u00e1sicos de CSS, desde seletores e propriedades at\u00e9 o modelo de caixa, oferecendo um guia detalhado para quem deseja iniciar ou aprimorar suas habilidades de web design. Com exemplos pr\u00e1ticos e dicas \u00fateis, ela demonstra como o CSS facilita a separa\u00e7\u00e3o entre conte\u00fado e apresenta\u00e7\u00e3o, melhorando a acessibilidade e a capacidade de manuten\u00e7\u00e3o dos projetos da Web.",
      "end_url": "css",
      "image": "https://pub-fb664c455eca46a2ba762a065ac900f7.r2.dev/CSS3.webp",
      "keywords_en": "css, web design, styling, layout, selectors, properties, box model, accessibility, maintainability",
      "keywords_es": "css, dise\u00f1o web, estilizaci\u00f3n, dise\u00f1o, selectores, propiedades, modelo de caja, accesibilidad, mantenibilidad",
      "keywords_pt": "css, design web, estiliza\u00e7\u00e3o, layout, seletores, propriedades, modelo de caixa, acessibilidade, manutenibilidade",
      "title_en": "CSS",
      "title_es": "CSS",
      "title_pt": "CSS"
    },
    "language_info": {
      "name": "python"
    }
  },
  "nbformat": 4,
  "nbformat_minor": 2
}