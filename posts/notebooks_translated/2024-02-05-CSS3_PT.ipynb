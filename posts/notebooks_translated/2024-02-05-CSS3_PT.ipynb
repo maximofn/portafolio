{
  "cells": [
  {
      "cell_type": "markdown",
      "metadata": {},
      "source": [
      "# CSS 3"
      ]
    },
{
      "cell_type": "markdown",
      "metadata": {},
      "source": [
      "## Partes do CSS (seletor, propriedades, valores)"
      ]
    },
{
      "cell_type": "markdown",
      "metadata": {},
      "source": [
      "Este caderno foi traduzido automaticamente para torná-lo acessível a mais pessoas, por favor me avise se você vir algum erro de digitação..\n",
"\n",
"Há três partes principais no CSS:\n",
"\n",
"- Seletor**: Essa é a parte que seleciona o elemento ao qual o estilo deve ser aplicado.\n",
"- Propriedade\": Esta é a parte que define o estilo a ser aplicado ao elemento.\n",
"- Value**: A parte que define o valor da propriedade a ser aplicada ao elemento.\n",
"\n",
"Para adicionar comentários no CSS, use `/* comment */`.\n",
"\n",
"Uma linha que tem `property: value;` é chamada de **declaração**.\n",
"\n",
"````css\n",
"seletor {\n",
"    propriedade: valor; /* comentário */\n",
"}\n",
"```"
      ]
    },
{
      "cell_type": "markdown",
      "metadata": {},
      "source": [
      "## Seletores"
      ]
    },
{
      "cell_type": "markdown",
      "metadata": {},
      "source": [
      "Há vários tipos de seletores:\n",
"\n",
"- Seletor universal**: seleciona todos os elementos da página. O asterisco `*` é usado.\n",
"- Seletor de tipo**: seleciona todos os elementos de um tipo. O nome do tipo de elemento é usado. Por exemplo, `p` seleciona todos os parágrafos.\n",
"- Seletor de classe**: seleciona todos os elementos que têm uma classe. O nome da classe é usado. Por exemplo, `.class` seleciona todos os elementos que têm a classe `class`. Isso é útil porque, se quisermos que todos os botões sejam iguais, no html colocaremos `<button class=\"boton\">` e no css colocaremos `.boton { /* styles */ }`. Dessa forma, todos os botões terão os mesmos estilos e, se quisermos que um botão seja diferente, colocamos outra classe.\n",
"- pseudo-class selector**: Seleciona todos os elementos que têm uma pseudo-classe. O nome da pseudoclasse é usado. Por exemplo, `:hover` seleciona todos os elementos que estão sendo selecionados pelo mouse. Isso é útil, pois se quisermos que um botão mude de cor quando o mouse estiver sobre ele, colocaremos `.boton:hover { /* styles */ }` no css. Dessa forma, o botão terá os estilos que desejamos quando o mouse estiver sobre ele. Algumas pseudoclasses são:\n",
"    - `:hover`: seleciona todos os elementos que estão sendo selecionados pelo mouse.\n",
"    - active`: seleciona todos os itens que estão sendo selecionados pelo mouse e que estão sendo clicados.\n",
"    - `:focus`: seleciona todos os elementos que estão sendo selecionados pelo mouse, que estão sendo clicados e que também têm o foco.\n",
"    - `:first-child`: seleciona todos os elementos que são o primeiro filho de seu pai. Isso é útil, por exemplo, com listas `<li>`, pois se quisermos que o primeiro elemento da lista tenha um estilo diferente, no css colocamos `li:first-child { /* styles */ }`. Assim, o primeiro elemento da lista terá os estilos que desejamos.\n",
"    - `:last-child`: seleciona todos os elementos que são o último filho de seu pai. Isso é útil, por exemplo, com listas `<li>`, pois se quisermos que o último elemento da lista tenha um estilo diferente, no css colocamos `li:last-child { /* styles */ }`. Dessa forma, o último elemento da lista terá os estilos que desejamos.\n",
"    - `:nth-child(n)`: seleciona todos os elementos que são o n-ésimo filho de seu pai. Por exemplo, `:nth-child(2)` seleciona todos os elementos que são o segundo filho de seu pai.\n",
"    - `:nth-last-child(n)`: seleciona todos os elementos que são o enésimo filho de seu pai, começando do final. Por exemplo, `:nth-last-child(2)` seleciona todos os elementos que são o segundo filho de seu pai, começando do final.\n",
"    - `:nth-of-type(n)`: seleciona todos os elementos que são o enésimo filho de seu pai, do mesmo tipo. Por exemplo, `:nth-of-type(2)` seleciona todos os elementos que são o segundo filho de seu pai, do mesmo tipo.\n",
"    - `:nth-last-of-type(n)`: seleciona todos os elementos que são o enésimo filho de seu pai, do mesmo tipo, a partir do final. Por exemplo, `:nth-last-of-type(2)` seleciona todos os elementos que são o segundo filho de seu pai, do mesmo tipo, a partir do final.\n",
"    - `:first-of-type`: seleciona todos os elementos que são o primeiro filho de seu pai, do mesmo tipo.\n",
"    - `:last-of-type`: seleciona todos os elementos que são o último filho de seu pai, do mesmo tipo.\n",
"    - `:only-child`: seleciona todos os elementos que são os únicos filhos de seus pais.\n",
"    - `:only-of-type`: seleciona todos os elementos que são os únicos filhos de seus pais, do mesmo tipo.\n",
"    - `:empty`: Se\n",
"- seletor de id**: seleciona um elemento com um id. O nome do id é usado. Por exemplo, `#id` seleciona o elemento que tem o id `id`. Isso é útil porque, se quisermos que um elemento seja exclusivo, no html colocaremos `<p id=\"unique\">` e no css colocaremos `#unique { /* styles */ }`. Dessa forma, esse elemento terá os estilos que desejamos e, se quisermos que outro elemento seja igual, colocaremos outra classe.\n",
"- Seletores combinados**: selecionam elementos que atendem a várias condições. Você pode usar quantos seletores quiser, separados por um espaço. Por exemplo, `p .class` seleciona todos os elementos que têm a classe `class` e são filhos de um parágrafo. Isso é útil, pois se quisermos que todos os botões dentro de um parágrafo sejam iguais, no html colocaremos `<p class=\"paragraph_that_we_want_to_change\"><button class=\"button\">` e no css colocaremos `.paragraph_that_we_want_to_change .button { /* styles */ }`. Assim, todos os botões que estão dentro de um parágrafo com a classe `.paragraph_I_want_to_change` terão os mesmos estilos, e se quisermos que um botão seja diferente, colocamos outra classe.\n",
"- Seletor combinado de primeiro nível**: seleciona elementos que atendem a várias condições, mas somente se estiverem no primeiro nível. Use quantos seletores desejar, separados por um `>`. Por exemplo, `p > .class` seleciona todos os elementos que têm a classe `class` e são filhos diretos de um parágrafo. Isso é útil porque, se quisermos que todos os botões dentro de um parágrafo sejam iguais, no html colocaremos `<p class=\"paragraph_that_we_want_to_change\"><button class=\"button\">` e no css colocaremos `.paragraph_that_we_want_to_change > .button { /* styles */ }`. Assim, todos os botões que estiverem dentro de um parágrafo com a classe `.paragraph_I_want_to_change` terão os mesmos estilos, e se quisermos que um botão seja diferente, colocaremos outra classe.\n",
"- Seletor de irmãos combinados**: seleciona elementos que atendem a várias condições, mas somente se estiverem no mesmo nível. Você pode usar quantos seletores quiser, separados por um `~`. Por exemplo, `p ~ .class` seleciona todos os elementos que têm a classe `class` e estão no mesmo nível de um parágrafo. Isso é útil, pois se quisermos que todos os botões que estejam no mesmo nível de um parágrafo sejam iguais, no html colocaremos `<p class=\"paragraph_that_we_want_to_change\"></p><button class=\"button\">`` e no css colocaremos `.paragraph_that_we_want_to_change ~ .button { /* styles */ }`. Assim, todos os botões que estiverem no mesmo nível de um parágrafo com a classe `.paragraph_I_want_to_change` terão os mesmos estilos, e se quisermos que um botão seja diferente, colocaremos outra classe.\n",
"- Seletor de irmãos adjacentes combinados**: seleciona elementos que atendem a várias condições, mas somente se estiverem no mesmo nível e forem adjacentes. Você pode usar quantos seletores quiser, separados por um `+`. Por exemplo, `p + .class` seleciona todos os elementos que têm a classe `class` e estão no mesmo nível e adjacentes a um parágrafo. Isso é útil, pois se quisermos que todos os botões que estejam no mesmo nível e adjacentes a um parágrafo sejam iguais, no html colocaremos `<p class=\"paragraph_that_I_want_to_change\"></p><button class=\"button\">` e no css colocaremos `.paragraph_that_I_want_to_change + .button { /* styles */ }`. Assim, todos os botões que estão no mesmo nível e são adjacentes a um parágrafo com a classe `.paragraph_I_want_to_change` terão os mesmos estilos, e se quisermos que um botão seja diferente, colocamos outra classe.\n",
"\n",
"É normal usar o seletor de classe, pois assim podemos reutilizar os estilos."
      ]
    },
{
      "cell_type": "markdown",
      "metadata": {},
      "source": [
      "## Estilos"
      ]
    },
{
      "cell_type": "markdown",
      "metadata": {},
      "source": [
      "### Cor"
      ]
    },
{
      "cell_type": "markdown",
      "metadata": {},
      "source": [
      "A cor pode ser definida de várias maneiras:\n",
"\n",
"- Name**: Você pode colocar o nome da cor. Por exemplo, `red` é vermelho.\n",
"- Hexadecimal**: Você pode colocar a cor em hexadecimal. Por exemplo, `#ff0000` é vermelho.\n",
"  \n",
"  Se quiser adicionar transparência, você pode colocar `#ff000080`, que é vermelho com 50% de transparência.\n",
"  \n",
"  Se apenas 3 números forem inseridos, eles serão repetidos. Por exemplo, `#f10` é o mesmo que `#ff1100`. Se quiser adicionar transparência, você pode colocar `#f108`, que é o mesmo que `#ff110088`.\n",
"- RGB**: Você pode colocar a cor em RGB. Por exemplo, `rgb(255, 0, 0, 0, 0)` é vermelho.\n",
"\n",
"  Se quiser adicionar transparência, você pode definir `rgb(255 0 0 / 0.5)`, que é vermelho com 50% de transparência. Você também pode definir a transparência como uma porcentagem, `rgb(255 0 0 / 50%)`. Você pode encontrar a transparência em um formato legado com `rgba(255, 0, 0, 0, 0, 0.5)`, que é vermelho com 50% de transparência, mas é melhor usar o formato moderno.\n",
"\n",
"- HSL**: Você pode definir a cor em HSL. Por exemplo, `hsl(0, 100%, 50%)` é vermelho.\n",
"\n",
"- OKLCH**: Você pode definir a cor em OKLCH. Por exemplo, `oklch(0 100% 50%)` é vermelho.\n",
"\n",
"Em `HSL` e `OKLCH` há mais escala de cores do que em `RGB`, portanto, se você precisar de mais cores, é melhor usar `HSL` ou `OKLCH`.\n",
"\n",
"A transparência também pode ser adicionada com a declaração `colour:transparent`."
      ]
    },
{
      "cell_type": "markdown",
      "metadata": {},
      "source": [
      "### Cor atual"
      ]
    },
{
      "cell_type": "markdown",
      "metadata": {},
      "source": [
      "Há um valor de cor que é `currentColor`, que é a cor atual. Por exemplo, se tivermos um texto e definirmos sua cor como vermelho e, em seguida, adicionarmos uma borda a esse texto, se definirmos `border: 1px solid currentColor;`, a borda será vermelha.\n",
"\n",
"````css\n",
"p {\n",
"    Cor: vermelho;\n",
"    borda: 1px sólido currentColor;\n",
"}\n",
"```"
      ]
    },
{
      "cell_type": "markdown",
      "metadata": {},
      "source": [
      "### Herança"
      ]
    },
{
      "cell_type": "markdown",
      "metadata": {},
      "source": [
      "Quando um elemento é estilizado, esse estilo é herdado para os elementos filhos. Por exemplo, se tivermos um `div` com um texto e definirmos o `div` como vermelho, o texto também será vermelho.\n",
"\n",
"````html\n",
"<div>\n",
"    <p>Texto</p>\n",
"</div>\n",
"```\n",
"\n",
"````css\n",
"div {\n",
"    Cor: vermelho;\n",
"}\n",
"```\n",
"\n",
"Quando você fizer isso, o texto ficará vermelho."
      ]
    },
{
      "cell_type": "markdown",
      "metadata": {},
      "source": [
      "Podemos indicar no filho quais estilos são herdados, por exemplo, suponha que tenhamos um pai e um filho.\n",
"\n",
"````html\n",
"<div class=\"parent\">\n",
"    <p class=\"son\">Texto</p>\n",
"</div>\n",
"```\n",
"\n",
"````css\n",
".parent {\n",
"    Cor: vermelho;\n",
"}\n",
"\n",
".son {\n",
"    cor: herdada;\n",
"}\n",
"```\n",
"\n",
"Quando você fizer isso, o texto ficará vermelho, pois o filho herda a cor do pai.\n",
"\n",
"As opções possíveis são:\n",
"\n",
"- `inherit`: herda o estilo do pai.\n",
"- `initial`: define o estilo padrão.\n",
"- `unset`: redefine o estilo\n",
"- reverte o estilo\n",
"\n",
"Nem todos os estilos são herdados, por exemplo, o `background` não é herdado. Para não definir todos os estilos como herdados, uma maneira de descobrir isso é acessar `MDN` e verificar se o estilo tem a propriedade `Inherited` como `yes` (em `Formal definition`)."
      ]
    },
{
      "cell_type": "markdown",
      "metadata": {},
      "source": [
      "### Fontes"
      ]
    },
{
      "cell_type": "markdown",
      "metadata": {},
      "source": [
      "Ao carregar fontes, elas podem ser carregadas de várias maneiras:\n",
"\n",
"- Local**: uma fonte local pode ser carregada. Por exemplo, `font-family: Arial;` carrega a fonte Arial.\n",
"- URL**: uma fonte pode ser carregada a partir de um URL. Por exemplo, `font-family: url(https://fonts.googleapis.com/css2?family=Roboto);` carrega a fonte Roboto do Google Fonts.\n",
"- Generic**: uma fonte genérica pode ser carregada. Por exemplo, `font-family: sans-serif;` carrega uma fonte sans-serif. Essa fonte depende do sistema operacional, portanto, no Windows será Arial, no Mac será Helvetica e no Linux será DejaVu Sans.\n",
"\n",
"Várias fontes podem ser carregadas e, se uma delas não estiver disponível, a próxima fonte será carregada. Por exemplo, `font-family: Arial, sans-serif;` carrega Arial e, se ela não estiver disponível, carrega uma fonte sans-serif.\n",
"\n",
"Você também pode carregar uma fonte com vários estilos. Por exemplo, `font-family: Arial, sans-serif; font-weight: 700;` carrega Arial em negrito e, se não estiver disponível, carrega uma fonte sans-serif em negrito.\n",
"\n",
"Como a `sans-serif` é uma fonte genérica, o ideal é colocá-la sempre por último, de modo que, se a fonte desejada não estiver disponível, a genérica será carregada.\n",
"\n",
"````css\n",
"p {\n",
"    família de fontes: url(https://fonts.googleapis.com/css2?family=Roboto), url(https://fonts.googleapis.com/css2?family=Roboto+Slab), Ubuntu, sans-serif;\n",
"}\n",
"```"
      ]
    },
{
      "cell_type": "markdown",
      "metadata": {},
      "source": [
      "### Borda e contorno"
      ]
    },
{
      "cell_type": "markdown",
      "metadata": {},
      "source": [
      "Podemos colocar uma borda em um elemento com `border: 1px solid red;`. Isso define uma borda vermelha sólida de 1px de espessura.\n",
"\n",
"Se quisermos colocar um contorno, podemos usar `outline: 1px solid red;`. Isso coloca um contorno vermelho sólido de 1px de espessura.\n",
"\n",
"A diferença entre `border` e `outline` é que `border` ocupa espaço, e `outline` não. Por exemplo, se tivermos uma `div` com texto e colocarmos uma borda, o texto se moverá para que a borda seja exibida. Se colocarmos um contorno, o texto não se moverá, pois o contorno não ocupa espaço. Isso pode ser visto alterando o estilo na pseudoclasse `:hover`. Se colocarmos uma borda, quando passarmos o mouse sobre ela, o texto se moverá, mas se colocarmos um contorno, o texto não se moverá."
      ]
    },
{
      "cell_type": "markdown",
      "metadata": {},
      "source": [
      "## Cascata"
      ]
    },
{
      "cell_type": "markdown",
      "metadata": {},
      "source": [
      "A cascata é a ordem em que os estilos são aplicados. A ordem é:\n",
"\n",
"1. Estilos do usuário: esses são os estilos que o usuário configurou. Por exemplo, se o usuário tiver configurado o texto para ser vermelho, o texto será vermelho.\n",
"2. Estilos do autor: Esses são os estilos que o autor configurou. Por exemplo, se o autor tiver configurado o texto para ser azul, o texto será azul.\n",
"3. Estilos do navegador: esses são os estilos do navegador. Por exemplo, se o navegador tiver configurado o texto para ser verde, o texto será verde.\n",
"\n",
"Os estilos do usuário prevalecem sobre os do autor, e os do autor sobre os do navegador.\n",
"\n",
"Mas dentro dos estilos do autor, prevalecem os estilos que estão mais abaixo no código. Por exemplo, se tivermos um `div` com um texto e o colorirmos de vermelho, e depois o colorirmos de azul, o texto será azul.\n",
"\n",
"````html\n",
"<div>\n",
"    <p>Texto</p>\n",
"</div>\n",
"```\n",
"\n",
"````css\n",
"div {\n",
"    Cor: vermelho;\n",
"}\n",
"\n",
"div {\n",
"    Cor: azul;\n",
"}\n",
"```\n",
"\n",
"Neste exemplo, o texto será azul. A cor vermelha é substituída pela cor azul."
      ]
    },
{
      "cell_type": "markdown",
      "metadata": {},
      "source": [
      "### Fallback"
      ]
    },
{
      "cell_type": "markdown",
      "metadata": {},
      "source": [
      "Um dos benefícios do cascading é que podemos colocar um estilo muito novo, mas, caso o navegador que o usuário está usando não seja compatível com ele, podemos colocar um estilo mais antigo primeiro, por precaução. Por exemplo, estilizar a cor com `oklch` é algo novo, que pode não ser suportado pelo navegador que o usuário está usando, portanto, podemos colocar um estilo mais antigo primeiro, por precaução.\n",
"\n",
"````css\n",
"p {\n",
"    cor: rgb(255, 0, 0);\n",
"    cor: oklch(0 100% 50%);\n",
"}\n",
"```\n",
"\n",
"Dessa forma, o navegador tentará primeiro estilizar com `oklch` e, se não conseguir, estilizará com `rgb`."
      ]
    },
{
      "cell_type": "markdown",
      "metadata": {},
      "source": [
      "### Especificidade"
      ]
    },
{
      "cell_type": "markdown",
      "metadata": {},
      "source": [
      "Um elemento html pode ter várias maneiras de se referir a ele. Por exemplo\n",
"\n",
"````html\n",
"<p class=\"class\" id=\"id\">Texto</p>\n",
"```\n",
"\n",
"````css\n",
"p {\n",
"    Cor: vermelho;\n",
"}\n",
"\n",
".class {\n",
"    Cor: azul;\n",
"}\n",
"\n",
"#id {\n",
"    Cor: verde;\n",
"}\n",
"```\n",
"\n",
"Neste exemplo, o texto será verde. Isso ocorre porque o seletor de id tem mais especificidade do que o seletor de classe, e o seletor de classe tem mais especificidade do que o seletor de tipo. Portanto, o seletor de id substitui o seletor de classe, e o seletor de classe substitui o seletor de tipo.\n",
"\n",
"Se no css tivéssemos\n",
"\n",
"````css\n",
"p {\n",
"    Cor: vermelho;\n",
"}\n",
"\n",
"p.class {\n",
"    Cor: azul;\n",
"}\n",
"```\n",
"\n",
"O texto seria azul. Isso ocorre porque o seletor de classe tem mais especificidade do que o seletor de tipo, portanto, o seletor de classe substitui o seletor de tipo."
      ]
    },
{
      "cell_type": "markdown",
      "metadata": {},
      "source": [
      "Os estilos em linha têm mais especificidade do que os estilos de autor. Por exemplo\n",
"\n",
"````html\n",
"<p style=\"colour: red;\">Texto</p>\n",
"```\n",
"\n",
"````css\n",
"p {\n",
"    Cor: azul;\n",
"}\n",
"```\n",
"\n",
"Neste exemplo, o texto será vermelho. Isso ocorre porque o estilo em linha tem mais especificidade do que o estilo do autor."
      ]
    },
{
      "cell_type": "markdown",
      "metadata": {},
      "source": [
      "Se você colocar `!important` no final da declaração, essa declaração terá mais especificidade do que qualquer outra. Por exemplo\n",
"\n",
"````html\n",
"<p class=\"class\" id=\"id\">Texto</p>\n",
"```\n",
"\n",
"````css\n",
"p {\n",
"    Cor: vermelho;\n",
"}\n",
"\n",
".class {\n",
"    Cor: azul;\n",
"}\n",
"\n",
"#id {\n",
"    Cor: verde;\n",
"}\n",
"\n",
"p.class {\n",
"    cor: amarelo !importante;\n",
"}\n",
"```\n",
"\n",
"Neste exemplo, o texto será amarelo. Isso ocorre porque a declaração `!important` tem mais especificidade do que qualquer outra."
      ]
    },
{
      "cell_type": "markdown",
      "metadata": {},
      "source": [
      "## Unidades"
      ]
    },
{
      "cell_type": "markdown",
      "metadata": {},
      "source": [
      "### Unidades de comprimento"
      ]
    },
{
      "cell_type": "markdown",
      "metadata": {},
      "source": [
      "#### Unidades absolutas"
      ]
    },
{
      "cell_type": "markdown",
      "metadata": {},
      "source": [
      "Se quisermos definir um tamanho fixo, podemos usar unidades absolutas. Por exemplo, `px` é um pixel, `cm` é um centímetro, `mm` é um milímetro, `in` é uma polegada, `pt` é um ponto, `pc` é uma pica."
      ]
    },
{
      "cell_type": "markdown",
      "metadata": {},
      "source": [
      "#### Unidades relativas"
      ]
    },
{
      "cell_type": "markdown",
      "metadata": {},
      "source": [
      "Entretanto, se quisermos que o tamanho seja relativo, podemos usar unidades relativas. Por exemplo, `em` é o tamanho da fonte, `rem` é o tamanho da fonte do elemento raiz, `vw` é a largura da janela, `vh` é a altura da janela, `vmin` é a largura ou altura da janela, dependendo do que for menor, `vmax` é a largura ou altura da janela, dependendo do que for maior, `ch` é a largura de um caractere, `ex` é a altura de um x, `fr` é uma fração do espaço disponível."
      ]
    },
{
      "cell_type": "markdown",
      "metadata": {},
      "source": [
      "## Modelo de caixa"
      ]
    },
{
      "cell_type": "markdown",
      "metadata": {},
      "source": [
      "Em html, tudo é caixa, mas há dois tipos de caixas: `inline` e `block`. Por exemplo, `<span>` são `inline` e `<div>` são `block`."
      ]
    },
{
      "cell_type": "markdown",
      "metadata": {},
      "source": [
      "### Caixas em linha"
      ]
    },
{
      "cell_type": "markdown",
      "metadata": {},
      "source": [
      "Quando o elemento é `inline`, a largura e a altura não podem ser definidas, e o elemento se comporta como se fosse um texto. Por exemplo, se tivermos um `span` com um texto e definirmos uma largura e uma altura, a largura e a altura não serão aplicadas e o elemento se comportará como se fosse um texto.\n",
"\n",
"````html\n",
"<span>Texto</span>.\n",
"```\n",
"\n",
"````css\n",
"extensão {\n",
"    largura: 100px;\n",
"    altura: 100px;\n",
"}\n",
"```\n",
"\n",
"Nesse exemplo, a largura e a altura não serão aplicadas, e o elemento se comportará como se fosse um texto."
      ]
    },
{
      "cell_type": "markdown",
      "metadata": {},
      "source": [
      "Além disso, quando o elemento é `inline`, se vários elementos forem colocados juntos no html, esses elementos serão exibidos juntos. Por exemplo, se tivermos vários `span` com um texto e os colocarmos juntos no html, esses elementos serão exibidos juntos.\n",
"\n",
"````html\n",
"<span>Texto</span>.\n",
"<span>Texto</span>.\n",
"<span>Texto</span>.\n",
"```\n",
"\n",
"Neste exemplo, os elementos serão exibidos juntos ==> TextTextText."
      ]
    },
{
      "cell_type": "markdown",
      "metadata": {},
      "source": [
      "Mas se quisermos que os elementos sejam exibidos em linhas diferentes, podemos usar `display: block;`. Por exemplo, se tivermos vários `span` com um texto e definirmos `display: block;`, esses elementos serão exibidos em linhas diferentes.\n",
"\n",
"````html\n",
"<span>Texto</span>.\n",
"<span>Texto</span>.\n",
"<span>Texto</span>.\n",
"```\n",
"\n",
"````css\n",
"extensão {\n",
"    exibição: bloco;\n",
"}\n",
"```\n",
"\n",
"Neste exemplo, os elementos serão exibidos em linhas diferentes\n",
"                        \n",
"⬇\n",
"                        \n",
"Texto\n",
"                        \n",
"Texto\n",
"                        \n",
"Texto"
      ]
    },
{
      "cell_type": "markdown",
      "metadata": {},
      "source": [
      "### Caixas de bloqueio"
      ]
    },
{
      "cell_type": "markdown",
      "metadata": {},
      "source": [
      "Quando o elemento é `block`, a largura e a altura podem ser definidas, e o elemento se comporta como se fosse um bloco. Por exemplo, se tivermos um `div` com um texto e definirmos uma largura e uma altura, a largura e a altura serão aplicadas e o elemento se comportará como se fosse um bloco.\n",
"\n",
"````html\n",
"<div>Texto</div>\n",
"```\n",
"\n",
"````css\n",
"div {\n",
"    largura: 100px;\n",
"    altura: 100px;\n",
"}\n",
"```\n",
"\n",
"Neste exemplo, a largura e a altura serão aplicadas, e o elemento se comportará como se fosse um bloco."
      ]
    },
{
      "cell_type": "markdown",
      "metadata": {},
      "source": [
      "Além disso, quando o elemento é `block`, se vários elementos forem colocados juntos no html, esses elementos serão exibidos um abaixo do outro. Por exemplo, se tivermos vários `div` com um texto e os colocarmos juntos no html, esses elementos serão exibidos um abaixo do outro.\n",
"\n",
"````html\n",
"<div>Texto</div>\n",
"<div>Texto</div>\n",
"<div>Texto</div>\n",
"```\n",
"\n",
"Neste exemplo, os elementos serão exibidos um abaixo do outro.\n",
"                        \n",
"⬇\n",
"                        \n",
"Texto\n",
"                        \n",
"Texto\n",
"                        \n",
"Texto"
      ]
    },
{
      "cell_type": "markdown",
      "metadata": {},
      "source": [
      "Mas se quisermos que os elementos sejam exibidos na mesma linha, podemos usar `display: inline;`. Por exemplo, se tivermos vários `div` com um texto e definirmos `display: inline;`, esses elementos serão exibidos na mesma linha.\n",
"\n",
"````html\n",
"<div>Texto</div>\n",
"<div>Texto</div>\n",
"<div>Texto</div>\n",
"```\n",
"\n",
"````css\n",
"div {\n",
"    exibição: em linha;\n",
"}\n",
"```\n",
"\n",
"Neste exemplo, os elementos serão exibidos na mesma linha ==> TextTextText."
      ]
    },
{
      "cell_type": "markdown",
      "metadata": {},
      "source": [
      "### Margem, borda, preenchimento e conteúdo"
      ]
    },
{
      "cell_type": "markdown",
      "metadata": {},
      "source": [
      "Agora que sabemos que o html é composto de caixas, podemos ver que cada caixa tem 4 partes:\n",
"\n",
"- Margem**: O espaço entre a caixa e as outras caixas.\n",
"- Borda: Essa é a borda da caixa.\n",
"- Padding: o espaço entre a borda e o conteúdo.\n",
"- Conteúdo: O conteúdo da caixa.\n",
"\n",
"Margin, Border, Padding and Content] (https://web.dev/static/learn/css/box-model/image/un-diagrama-que-muestra-l-a71d29fe924e.svg?hl=es)"
      ]
    },
{
      "cell_type": "markdown",
      "metadata": {},
      "source": [
      "Todas essas propriedades podem ser configuradas. Por exemplo, se tivermos um `div` com um texto e definirmos uma largura e uma altura, a largura e a altura serão aplicadas e o elemento se comportará como se fosse um bloco.\n",
"\n",
"````html\n",
"<div>Texto</div>\n",
"```\n",
"\n",
"````css\n",
"div {\n",
"    largura: 100px;\n",
"    altura: 100px;\n",
"    margem: 10px;\n",
"    borda: 10px vermelho sólido;\n",
"    preenchimento: 10px;\n",
"}\n",
"```\n",
"\n",
"Como essas são propriedades de tamanho, podem ser usadas unidades de comprimento. Por exemplo:\n",
"\n",
" * Se quisermos que a margem seja de 10 pixels, definimos `margin: 10px;`.\n",
" * Se quisermos que seja apenas a margem esquerda, colocamos `margin-left: 10px;`.\n",
" * Se quisermos que seja apenas a margem direita, colocamos `margin-right: 10px;`.\n",
" * Se quisermos que seja apenas a margem superior, colocamos `margin-top: 10px;`.\n",
" * Se quisermos que seja apenas a margem inferior, colocamos `margin-bottom: 10px;`.\n",
" * Se quisermos que cada margem tenha um determinado tamanho, definimos `margin: 10px 20px 30px 40px 40px;`. A ordem é superior, direita, inferior, esquerda, como no sentido horário.\n",
" * Se quisermos alterar os tamanhos nos eixos horizontal e vertical, definimos `margin: 10px 20px;`. A ordem é para cima e para baixo (10px), esquerda e direita (20px)."
      ]
    },
{
      "cell_type": "markdown",
      "metadata": {},
      "source": [
      "#### Tamanho da caixa ao alterar o preenchimento"
      ]
    },
{
      "cell_type": "markdown",
      "metadata": {},
      "source": [
      "Se tivermos um `div` com um texto e definirmos uma largura e uma altura, a largura e a altura serão aplicadas, e o elemento se comportará como se fosse um bloco.\n",
"\n",
"````html\n",
"<div>Texto</div>\n",
"```\n",
"\n",
"````css\n",
"div {\n",
"    largura: 100px;\n",
"    altura: 100px;\n",
"}\n",
"```\n",
"\n",
"Dessa forma, o `div` terá uma largura e uma altura de 100px.\n",
"\n",
"Mas se agora aplicarmos um padding de 10px, a largura e a altura permanecerão as mesmas, mas o tamanho da caixa será de 120px, porque o padding é adicionado à largura e à altura.\n",
"\n",
"````html\n",
"<div>Texto</div>\n",
"```\n",
"\n",
"````css\n",
"div {\n",
"    largura: 100px;\n",
"    altura: 100px;\n",
"    preenchimento: 10px;\n",
"}\n",
"```\n",
"\n",
"Dessa forma, o `div` terá uma largura e uma altura de 100px, mas o tamanho da caixa será de 120px."
      ]
    },
{
      "cell_type": "markdown",
      "metadata": {},
      "source": [
      "#### Tamanho da caixa ao alterar a borda"
      ]
    },
{
      "cell_type": "markdown",
      "metadata": {},
      "source": [
      "Se tivermos um `div` com um texto e definirmos uma largura e uma altura, a largura e a altura serão aplicadas, e o elemento se comportará como se fosse um bloco.\n",
"\n",
"````html\n",
"<div>Texto</div>\n",
"```\n",
"\n",
"````css\n",
"div {\n",
"    largura: 100px;\n",
"    altura: 100px;\n",
"}\n",
"```\n",
"\n",
"Dessa forma, o `div` terá uma largura e uma altura de 100px.\n",
"\n",
"Mas se agora aplicarmos uma borda de 10px, a largura e a altura permanecerão as mesmas, mas o tamanho da caixa será de 120px, porque a borda é adicionada à largura e à altura.\n",
"\n",
"````html\n",
"<div>Texto</div>\n",
"```\n",
"\n",
"````css\n",
"div {\n",
"    largura: 100px;\n",
"    altura: 100px;\n",
"    borda: 10px vermelho sólido;\n",
"}\n",
"```\n",
"\n",
"Dessa forma, o `div` terá uma largura e uma altura de 100px, mas o tamanho da caixa será de 120px."
      ]
    },
{
      "cell_type": "markdown",
      "metadata": {},
      "source": [
      "#### Tamanho da caixa ao alterar a margem"
      ]
    },
{
      "cell_type": "markdown",
      "metadata": {},
      "source": [
      "No caso das margens, o tamanho da caixa não é alterado, mas o espaçamento entre as caixas sim. Por exemplo, se tivermos dois `div` com um texto e definirmos uma largura e uma altura, a largura e a altura serão aplicadas, e o elemento se comportará como se fosse um bloco.\n",
"\n",
"````html\n",
"<div>Texto</div>\n",
"<div>Texto</div>\n",
"```\n",
"\n",
"````css\n",
"div {\n",
"    largura: 100px;\n",
"    altura: 100px;\n",
"}\n",
"```\n",
"\n",
"Dessa forma, o `div` terá uma largura e uma altura de 100px.\n",
"\n",
"Mas se agora aplicarmos uma margem de 10px, a largura e a altura permanecerão as mesmas, mas o espaçamento entre os `div` será de 20px, pois a margem é adicionada ao espaçamento entre os `div`.\n",
"\n",
"````html\n",
"<div>Texto</div>\n",
"<div>Texto</div>\n",
"```\n",
"\n",
"````css\n",
"div {\n",
"    largura: 100px;\n",
"    altura: 100px;\n",
"    margem: 10px;\n",
"}\n",
"```\n",
"\n",
"Dessa forma, o `div` terá uma largura e uma altura de 100px, mas o espaçamento entre os `div` será de 20px."
      ]
    },
{
      "cell_type": "markdown",
      "metadata": {},
      "source": [
      "#### Tamanho da caixa"
      ]
    },
{
      "cell_type": "markdown",
      "metadata": {},
      "source": [
      "Portanto, a ocupação da caixa é:\n",
"\n",
" * Largura: `largura + preenchimento + borda`.\n",
" * Altura: `altura + preenchimento + borda`.\n",
"\n",
"A margem não é considerada, pois a margem é o espaço entre as caixas."
      ]
    },
{
      "cell_type": "markdown",
      "metadata": {},
      "source": [
      "### Dimensionamento de caixa"
      ]
    },
{
      "cell_type": "markdown",
      "metadata": {},
      "source": [
      "Por padrão, a propriedade `box-sizing` é definida como `content-box`. Isso significa que a largura e a altura não incluem o preenchimento e a borda. Por exemplo, se tivermos um `div` com texto e definirmos uma largura e uma altura, a largura e a altura serão aplicadas e o elemento se comportará como se fosse um bloco.\n",
"\n",
"````html\n",
"<div>Texto</div>\n",
"```\n",
"\n",
"````css\n",
"div {\n",
"    largura: 100px;\n",
"    altura: 100px;\n",
"}\n",
"```\n",
"\n",
"Dessa forma, o `div` terá uma largura e uma altura de 100px.\n",
"\n",
"Mas se agora aplicarmos um padding de 10px, a largura e a altura permanecerão as mesmas, mas o tamanho da caixa será de 120px, porque o padding é adicionado à largura e à altura.\n",
"\n",
"````html\n",
"<div>Texto</div>\n",
"```\n",
"\n",
"````css\n",
"div {\n",
"    largura: 100px;\n",
"    altura: 100px;\n",
"    preenchimento: 10px;\n",
"}\n",
"```\n",
"\n",
"Dessa forma, o `div` terá uma largura e uma altura de 100px, mas o tamanho da caixa será de 120px."
      ]
    },
{
      "cell_type": "markdown",
      "metadata": {},
      "source": [
      "Se alterarmos a propriedade `box-sizing` para `border-box`, a largura e a altura incluirão o preenchimento e a borda. Por exemplo, se tivermos um `div` com um texto e definirmos uma largura e uma altura, a largura e a altura serão aplicadas e o elemento se comportará como se fosse um bloco.\n",
"\n",
"````html\n",
"<div>Texto</div>\n",
"```\n",
"\n",
"````css\n",
"div {\n",
"    largura: 100px;\n",
"    altura: 100px;\n",
"    box-sizing: border-box;\n",
"}\n",
"```\n",
"\n",
"Dessa forma, o `div` terá uma largura e uma altura de 100px.\n",
"\n",
"Mas se agora aplicarmos um preenchimento de 10px, a largura e a altura permanecerão as mesmas, e o tamanho da caixa também será de 100px, porque o preenchimento não é adicionado à largura e à altura.\n",
"\n",
"````html\n",
"<div>Texto</div>\n",
"```\n",
"\n",
"````css\n",
"div {\n",
"    largura: 100px;\n",
"    altura: 100px;\n",
"    box-sizing: border-box;\n",
"    preenchimento: 10px;\n",
"}\n",
"```\n",
"\n",
"Dessa forma, o `div` terá uma largura e uma altura de 100px, e o tamanho da caixa também será de 100px.\n",
"\n",
"Observe que, quando você altera a propriedade `box-sizing` para `border-box`, a largura e a altura incluem o preenchimento e a borda, portanto, não é possível definir a largura e a altura como sendo menores que o preenchimento e a borda. Por exemplo, se tivermos um `div` com um texto e definirmos uma largura e uma altura, a largura e a altura serão aplicadas e o elemento se comportará como se fosse um bloco.\n",
"\n",
"````html\n",
"<div>Texto</div>\n",
"```\n",
"\n",
"````css\n",
"div {\n",
"    largura: 100px;\n",
"    altura: 100px;\n",
"    box-sizing: border-box;\n",
"}\n",
"```\n",
"\n",
"Dessa forma, o `div` terá uma largura e uma altura de 100px.\n",
"\n",
"Mas se agora aplicarmos um padding de 110px, a largura e a altura permanecerão as mesmas, mas o tamanho da caixa será de 220px, porque o padding é adicionado à largura e à altura.\n",
"\n",
"````html\n",
"<div>Texto</div>\n",
"```\n",
"\n",
"````css\n",
"div {\n",
"    largura: 100px;\n",
"    altura: 100px;\n",
"    box-sizing: border-box;\n",
"    preenchimento: 110px;\n",
"}\n",
"```\n",
"\n",
"Dessa forma, o `div` terá uma largura e uma altura de 100px, mas o tamanho da caixa será de 220px."
      ]
    },
{
      "cell_type": "markdown",
      "metadata": {},
      "source": [
      "### Estouro"
      ]
    },
{
      "cell_type": "markdown",
      "metadata": {},
      "source": [
      "Um dos memes mais famosos do CSS é o seguinte\n",
"\n",
"O CSS é incrível](https://css-tricks.com/wp-content/uploads/2021/04/css-is-awesome.jpg)\n",
"\n",
"E isso acontece quando o tamanho do conteúdo é maior do que o tamanho da caixa. Por exemplo, se tivermos um `div` com um texto e definirmos uma largura e uma altura, a largura e a altura serão aplicadas, e o elemento se comportará como se fosse um bloco.\n",
"\n",
"````html\n",
"<div>Texto</div>\n",
"```\n",
"\n",
"````css\n",
"div {\n",
"    largura: 100px;\n",
"    altura: 100px;\n",
"}\n",
"```\n",
"\n",
"Dessa forma, o `div` terá uma largura e uma altura de 100px.\n",
"\n",
"Mas se agora aplicarmos um texto muito longo a ele, o texto ficará fora da caixa, porque o tamanho do conteúdo é maior do que o tamanho da caixa.\n",
"\n",
"````html\n",
"<div>Texto muito longo</div>.\n",
"```\n",
"\n",
"````css\n",
"div {\n",
"    largura: 100px;\n",
"    altura: 100px;\n",
"}\n",
"```\n",
"\n",
"Dessa forma, o `div` terá uma largura e uma altura de 100px, mas o texto ficará fora da caixa."
      ]
    },
{
      "cell_type": "markdown",
      "metadata": {},
      "source": [
      "Isso acontece porque no CSS a propriedade `overflow` é definida como `visible`. Isso significa que o conteúdo pode ficar fora da caixa. Mas temos outras opções:\n",
"\n",
" * `hidden`: o conteúdo não pode ser removido da caixa e é cortado.\n",
" * `scroll`: o conteúdo não pode ser rolado fora da caixa, e uma barra de rolagem é adicionada.\n",
" * auto`: o conteúdo não pode ser movido para fora da caixa, e uma barra de rolagem é adicionada, se necessário. Nesse caso, isso depende do dispositivo, pois se o dispositivo tiver uma barra de rolagem, ela será adicionada e, se o dispositivo não tiver uma barra de rolagem, ela não será adicionada.\n",
"\n",
"Entre `scroll` e `auto`, o recomendado é `auto`, pois se o dispositivo tiver uma barra de rolagem, ela será adicionada e, se o dispositivo não tiver uma barra de rolagem, ela não será adicionada.\n",
"\n",
"![aoverflow](https://lh3.googleusercontent.com/-tVNmvecB8A4/Ukqdi769oPI/AAAAAAAAAd0/kgisEf3RGRk/s538/CU01038D_1.png)"
      ]
    },
{
      "cell_type": "markdown",
      "metadata": {},
      "source": [
      "### Estouro oculto"
      ]
    },
{
      "cell_type": "markdown",
      "metadata": {},
      "source": [
      "No caso de escolher `hidden`, o conteúdo não pode ser movido para fora da caixa e é cortado. Nesse caso, temos a propriedade `text-overlow`, que nos permite configurar o que é feito com o texto que sai da caixa. As opções são:\n",
"\n",
" * `clip`: o texto é cortado.\n",
" * `ellipsis`: o texto é cortado e `...` é adicionado ao final do texto.\n",
"\n",
"No futuro, será possível adicionar um símbolo personalizado, mas no momento isso não é possível."
      ]
    },
{
      "cell_type": "markdown",
      "metadata": {},
      "source": [
      "#### Estilo de barra"
      ]
    },
{
      "cell_type": "markdown",
      "metadata": {},
      "source": [
      "No caso de transbordamentos, a barra pode ser estilizada, mas é aconselhável não estilizar a barra da página e fazer isso somente nas barras de caixa internas. Por exemplo, se a página tiver um índice na lateral e quisermos alterar o tamanho e a cor da barra para melhorar sua aparência, podemos fazer isso.\n",
"\n",
"Em [scrollbar.app] (https://scrollbar.app/), temos um editor para estilizar a barra e obter o código necessário."
      ]
    },
{
      "cell_type": "markdown",
      "metadata": {},
      "source": [
      "### Posição"
      ]
    },
{
      "cell_type": "markdown",
      "metadata": {},
      "source": [
      "No html, os elementos são empilhados e, por padrão, são posicionados estaticamente. Isso ocorre porque, por padrão, no CSS, eles têm o atributo `position` com o valor `static`. Isso significa que o elemento é posicionado estaticamente e não pode ser movido. Os valores possíveis são\n",
"\n",
" * static`: o elemento é posicionado estaticamente e não pode ser movido.\n",
" * Relativo: o elemento é posicionado relativamente e pode ser movido.\n",
" * Absoluto: o elemento é posicionado de forma absoluta e pode ser movido.\n",
" * fixo\": o elemento é posicionado de forma fixa e pode ser movido.\n",
" * `sticky`: o elemento é posicionado de forma aderente e pode ser movido.\n",
"\n",
"![Posição](https://miro.medium.com/v2/resize:fit:600/1*WU2bIP1OCaS71r82S5zFeA.jpeg)"
      ]
    },
{
      "cell_type": "markdown",
      "metadata": {},
      "source": [
      "#### Posição relativa"
      ]
    },
{
      "cell_type": "markdown",
      "metadata": {},
      "source": [
      "Quando queremos que a posição de um elemento seja relativa a outro, usamos `position: relative;`. Mas é necessário colocar `position: relative;` no elemento pai e `position: absolute;` no elemento filho. Por exemplo, se tivermos uma `div` com um texto e quisermos que o texto fique no canto superior direito da `div`, podemos fazer isso.\n",
"\n",
"````html\n",
"<div>\n",
"    <p>Texto</p>\n",
"</div>\n",
"```\n",
"\n",
"````css\n",
"div {\n",
"    posição: relativa;\n",
"}\n",
"\n",
"p {\n",
"    posição: absoluta;\n",
"    topo: 0;\n",
"    direita: 50px;\n",
"}\n",
"```\n",
"\n",
"Dessa forma, o texto ficará no canto superior direito do `div`."
      ]
    },
{
      "cell_type": "markdown",
      "metadata": {},
      "source": [
      "#### Posição absoluta"
      ]
    },
{
      "cell_type": "markdown",
      "metadata": {},
      "source": [
      "Quando o elemento é `absoluto`, ele é posicionado de forma absoluta em relação ao primeiro elemento pai não `estático`. No exemplo acima, vimos que, se tivermos uma `div` com um texto e quisermos que o texto fique no canto superior direito da `div`, poderemos fazer isso.\n",
"\n",
"````html\n",
"<div>\n",
"    <p>Texto</p>\n",
"</div>\n",
"```\n",
"\n",
"````css\n",
"div {\n",
"    posição: relativa;\n",
"}\n",
"\n",
"p {\n",
"    posição: absoluta;\n",
"    topo: 0;\n",
"    direita: 50px;\n",
"}\n",
"```\n",
"\n",
"Neste exemplo, a `div` tem `position: relative;`, portanto, o `p` está posicionado absolutamente em relação à `div`, no canto superior direito."
      ]
    },
{
      "cell_type": "markdown",
      "metadata": {},
      "source": [
      "Caso não haja um elemento pai que não seja `static`, o elemento será posicionado absolutamente em relação ao `body`, ou seja, à página.\n",
"\n",
"````html\n",
"<p>Texto</p>\n",
"```\n",
"\n",
"````css\n",
"p {\n",
"    posição: absoluta;\n",
"    topo: 0;\n",
"    direita: 50px;\n",
"}\n",
"```\n",
"\n",
"Neste exemplo, o `p` não tem nenhum elemento pai que não seja `static`, portanto, o `p` é posicionado absolutamente em relação ao `body`. Ou seja, no canto superior direito da página."
      ]
    },
{
      "cell_type": "markdown",
      "metadata": {},
      "source": [
      "Graças às propriedades `relative` e `absolute`, podemos centralizar uma `div` horizontal e verticalmente. Por exemplo, se tivermos uma `div` com um texto e quisermos que o texto seja centralizado horizontal e verticalmente, podemos fazer o seguinte.\n",
"\n",
"````html\n",
"<div>\n",
"    <p>Texto</p>\n",
"</div>\n",
"```\n",
"\n",
"````css\n",
"div {\n",
"    posição: relativa;\n",
"}\n",
"\n",
"p {\n",
"    posição: absoluta;\n",
"    topo: 0;\n",
"    direita: 0;\n",
"    inferior: 0;\n",
"    esquerda: 0;\n",
"    margin: auto;\n",
"}\n",
"```\n",
"\n",
"Neste exemplo, a `div` tem `position: relative;`, portanto a `p` está posicionada absolutamente em relação à `div`, no canto superior direito. Além disso, o `p` tem `top: 0;`, `right: 0;`, `bottom: 0;` e `left: 0;`, de modo que o `p` ocupa toda a `div`. Finalmente, o `p` tem `margin: auto;`, de modo que o `p` é centralizado horizontal e verticalmente.\n",
"\n",
"Essa não é a melhor maneira de centralizar o conteúdo em um `div`, mas pode ser muito útil em alguns casos, como em um modal."
      ]
    },
{
      "cell_type": "markdown",
      "metadata": {},
      "source": [
      "#### Posição fixa"
      ]
    },
{
      "cell_type": "markdown",
      "metadata": {},
      "source": [
      "Quando o elemento é `fixed`, ele é posicionado de forma fixa em relação à janela. É semelhante ao `absolute`, mas em vez de ser posicionado em relação ao primeiro elemento pai não `estático`, ele é posicionado em relação à janela. Além disso, se a janela se mover, o elemento se moverá com ela, ou seja, se rolarmos a tela, o elemento sempre estará na mesma posição.\n",
"\n",
"Por exemplo, se tivermos um `div` com um texto e quisermos que o texto fique no canto superior direito da janela, podemos fazer isso.\n",
"\n",
"````html\n",
"<div>\n",
"    <p>Texto</p>\n",
"</div>\n",
"```\n",
"\n",
"````css\n",
"p {\n",
"    Posição: fixa;\n",
"    topo: 0;\n",
"    direita: 50px;\n",
"}\n",
"```\n",
"\n",
"Neste exemplo, o `p` está posicionado de forma fixa na janela, no canto superior direito, e, ao rolar a tela, o `p` estará sempre na mesma posição."
      ]
    },
{
      "cell_type": "markdown",
      "metadata": {},
      "source": [
      "#### Posição pegajosa"
      ]
    },
{
      "cell_type": "markdown",
      "metadata": {},
      "source": [
      "Quando o elemento é `sticky`, ele é posicionado de forma aderente ao primeiro elemento pai não `estático`.\n",
"\n",
"É semelhante ao `relative`, mas quando o elemento atinge o topo da janela, ele é posicionado de forma fixa na janela. Além disso, se a janela se mover, o elemento se moverá com ela, ou seja, se rolarmos a tela, o elemento sempre estará na mesma posição.\n",
"\n",
"Por exemplo, se tivermos uma `div` com um texto e quisermos que o texto fique no canto superior direito da `div`, podemos fazer isso.\n",
"\n",
"````html\n",
"<div>\n",
"    <p>Texto</p>\n",
"</div>\n",
"```\n",
"\n",
"````css\n",
"div {\n",
"    posição: relativa;\n",
"}\n",
"\n",
"p {\n",
"    position: sticky;\n",
"    topo: 0;\n",
"    direita: 50px;\n",
"}\n",
"```\n",
"\n",
"Neste exemplo, o `div` tem `position: relative;`, portanto o `p` está posicionado em relação ao `div`, no canto superior direito. Além disso, o `p` tem `top: 0;`, de modo que o `p` é posicionado de forma aderente à `div`. Ou seja, quando o `p` atinge o topo da janela, o `p` é posicionado de forma aderente à janela.\n",
"\n",
"![sticky](https://miro.medium.com/v2/resize:fit:720/format:webp/1*kyrVMytQd1Dt19D0If5q3Q.gif)"
      ]
    },
{
      "cell_type": "markdown",
      "metadata": {},
      "source": [
      "### Z-index"
      ]
    },
{
      "cell_type": "markdown",
      "metadata": {},
      "source": [
      "Como vimos, quando alteramos a `posição` de um elemento, ele é posicionado sobre os outros elementos. Portanto, precisamos ter controle sobre qual elemento é ou será visto acima dos outros. Para isso, temos a propriedade `z-index`. Por padrão, todos os elementos têm `z-index: auto;`, mas podemos alterá-la. Por exemplo, se tivermos um `div` com um texto e quisermos que o texto fique na parte superior do `div`, podemos fazer isso.\n",
"\n",
"````html\n",
"<div>\n",
"    <p>Texto</p>\n",
"</div>\n",
"```\n",
"\n",
"````css\n",
"div {\n",
"    posição: relativa;\n",
"    z-index: 0;\n",
"}\n",
"\n",
"p {\n",
"    posição: absoluta;\n",
"    topo: 0;\n",
"    direita: 50px;\n",
"    z-index: 1;\n",
"}\n",
"```\n",
"\n",
"Neste exemplo, o `div` tem `position: relative;` e `z-index: 0;`, portanto o `div` está posicionado em relação ao `div`, e o `div` tem um `z-index` de 0. Além disso, o `p` tem `position: absolute;`, `top: 0;`, `right: 50px;` e `z-index: 1;`, de modo que o `p` está posicionado absolutamente em relação ao `div`, no canto superior direito, e o `p` tem um `z-index` de 1. Portanto, o `p` estará no topo do `div`."
      ]
    },
{
      "cell_type": "markdown",
      "metadata": {},
      "source": [
      "Se o `z-index` não for fornecido, os filhos terão um `z-index` maior que o pai. Mas, por exemplo, no caso de `position: sticky;`, o `z-index` do elemento filho é maior do que o `z-index` de seu pai, mas, durante a rolagem, se em algum ponto o filho corresponder a outro pai, o outro pai estará acima dele.\n",
"\n",
"Se quisermos que esse filho seja visto acima dos outros pais, podemos controlá-lo com o `z-index`.\n",
"\n",
"No [curso Goolge CSS] (https://web.dev/learn/css/z-index?hl=es-419), você pode ver muito bem como o `z-index` funciona."
      ]
    },
{
      "cell_type": "markdown",
      "metadata": {},
      "source": [
      "## Flexbox e grade"
      ]
    },
{
      "cell_type": "markdown",
      "metadata": {},
      "source": [
      "Há duas maneiras de criar layouts em CSS: com `flexbox` e com `grid`. `Flexbox` é mais antigo e `grid` é mais recente. `Flexbox` é unidimensional e `grid` é bidimensional. `Flexbox` é para layouts simples e `grid` é para layouts complexos."
      ]
    },
{
      "cell_type": "markdown",
      "metadata": {},
      "source": [
      "## Flexbox"
      ]
    },
{
      "cell_type": "markdown",
      "metadata": {},
      "source": [
      "Como vimos, temos contêineres que têm `display: block;` e contêineres que têm `display: inline;`. Os primeiros são exibidos em linhas diferentes, e os últimos são exibidos na mesma linha. Portanto, se tivermos vários `div`s, eles serão exibidos um abaixo do outro, e se tivermos vários `span`s, eles serão exibidos na mesma linha.\n",
"\n",
"Mas se quisermos que os `div`s sejam vistos na mesma linha e de forma flexível, podemos criar um contêiner pai que os contenha e fazer com que o contêiner pai tenha `display: flex;`.\n",
"\n",
"````html\n",
"<section>\n",
"    <div>Texto</div>\n",
"    <div>Texto</div>\n",
"    <div>Texto</div>\n",
"</div>\n",
"```\n",
"\n",
"````css\n",
"seção {\n",
"    display: flex;\n",
"}\n",
"```\n",
"\n",
"Dessa forma, os `div`s serão vistos na mesma linha e também de forma flexível, ou seja, se não couberem na mesma linha, serão colocados na linha seguinte."
      ]
    },
{
      "cell_type": "markdown",
      "metadata": {},
      "source": [
      "### Direção flexível"
      ]
    },
{
      "cell_type": "markdown",
      "metadata": {},
      "source": [
      "O Flexbox é unidimensional, portanto, somente uma direção pode ser definida. Por padrão, a propriedade `flex-direction` é definida como `row`. Isso significa que os itens são exibidos na mesma linha. Mas podemos alterá-la para `column`, para que os itens sejam exibidos em linhas diferentes.\n",
"\n",
"````html\n",
"<section>\n",
"    <div>Texto</div>\n",
"    <div>Texto</div>\n",
"    <div>Texto</div>\n",
"</section>\n",
"```\n",
"\n",
"````css\n",
"seção {\n",
"    display: flex;\n",
"    flex-direction: column;\n",
"}\n",
"```\n",
"\n",
"Dessa forma, os `div`s serão exibidos em linhas diferentes.\n",
"\n",
"Isso é muito útil para layouts responsivos, pois podemos alterar a direção dos elementos dependendo do tamanho da tela."
      ]
    },
{
      "cell_type": "markdown",
      "metadata": {},
      "source": [
      "Também é possível especificar a direção, com `flex-direction: row-reverse;` ou `flex-direction: column-reverse;`. Por exemplo, se tivermos vários `div`s e quisermos que eles sejam exibidos na mesma linha, mas na direção oposta, podemos fazer isso.\n",
"\n",
"````html\n",
"<section>\n",
"    <div>Texto</div>\n",
"    <div>Texto</div>\n",
"    <div>Texto</div>\n",
"</section>\n",
"```\n",
"\n",
"````css\n",
"seção {\n",
"    display: flex;\n",
"    flex-direction: row-reverse;\n",
"}\n",
"```\n",
"\n",
"Dessa forma, os `div`s serão vistos na mesma linha, mas na direção oposta.\n",
"\n",
"Isso é muito útil quando queremos ordenar os elementos em ordem inversa, por exemplo, se tivermos um `ul` com uma lista e quisermos que a lista seja exibida em ordem inversa, dessa forma não precisamos programar nada e isso pode ser feito com CSS."
      ]
    },
{
      "cell_type": "markdown",
      "metadata": {},
      "source": [
      "![flex-direction](https://byteiota.com/wp-content/uploads/2020/11/flex-direction.png)"
      ]
    },
{
      "cell_type": "markdown",
      "metadata": {},
      "source": [
      "### Direção"
      ]
    },
{
      "cell_type": "markdown",
      "metadata": {},
      "source": [
      "Outra forma de indicar a direção é com a propriedade `direction`. Por padrão, a propriedade `direction` é definida como `ltr`. Isso significa que a direção é da esquerda para a direita. Mas podemos alterá-la para `rtl`, de modo que a direção seja da direita para a esquerda.\n",
"\n",
"````html\n",
"<section>\n",
"    <div>Texto</div>\n",
"    <div>Texto</div>\n",
"    <div>Texto</div>\n",
"</section>\n",
"```\n",
"\n",
"````css\n",
"seção {\n",
"    display: flex;\n",
"    direção: rtl;\n",
"}\n",
"```\n",
"\n",
"![direction](https://rtlstyling.com/img/flexbox-axis.jpg)"
      ]
    },
{
      "cell_type": "markdown",
      "metadata": {},
      "source": [
      "### Flex-wrap"
      ]
    },
{
      "cell_type": "markdown",
      "metadata": {},
      "source": [
      "Quando os elementos não cabem na mesma linha, eles são colocados na linha seguinte. Mas podemos alterar esse comportamento com a propriedade `flex-wrap`. Por padrão, a propriedade `flex-wrap` é definida como `nowrap`. Isso significa que os elementos não podem ser colocados na próxima linha. Mas podemos alterá-la para `wrap`, de modo que os elementos possam ser colocados na próxima linha.\n",
"\n",
"````html\n",
"<section>\n",
"    <div>Texto</div>\n",
"    <div>Texto</div>\n",
"    <div>Texto</div>\n",
"</section>\n",
"```\n",
"\n",
"````css\n",
"seção {\n",
"    display: flex;\n",
"    flex-wrap: envoltório;\n",
"}\n",
"```\n",
"\n",
"Dessa forma, os `div`s podem ser colocados na próxima linha.\n",
"\n",
"![flex-wrap](https://static.platzi.com/media/user_upload/3-bc5be74e-4e40-438d-a2d9-b7a918f504fb.jpg)"
      ]
    },
{
      "cell_type": "markdown",
      "metadata": {},
      "source": [
      "### Fluxo flexível"
      ]
    },
{
      "cell_type": "markdown",
      "metadata": {},
      "source": [
      "Uma maneira de definir a direção e a quebra de elementos é com a propriedade `flex-flow`. Por padrão, a propriedade `flex-flow` é definida como `row nowrap`. Isso significa que os elementos são exibidos na mesma linha e não podem ser colocados na linha seguinte. Mas podemos alterá-la para `row wrap`, de modo que os elementos sejam exibidos na mesma linha e possam ser colocados na linha seguinte.\n",
"\n",
"````html\n",
"<section>\n",
"    <div>Texto</div>\n",
"    <div>Texto</div>\n",
"    <div>Texto</div>\n",
"</section>\n",
"```\n",
"\n",
"````css\n",
"seção {\n",
"    display: flex;\n",
"    flex-flow: row wrap;\n",
"}\n",
"```\n",
"\n",
"Dessa forma, os `div`s serão vistos na mesma linha e poderão ser colocados na próxima linha.\n",
"\n",
"![flex-flow](https://i.stack.imgur.com/6vtqd.png)"
      ]
    },
{
      "cell_type": "markdown",
      "metadata": {},
      "source": [
      "### Flex-grow, Flex-shrink e Flex-basis"
      ]
    },
{
      "cell_type": "markdown",
      "metadata": {},
      "source": [
      "Podemos configurar o tamanho dos elementos com as propriedades `flex-grow`, `flex-shrink` e `flex-basis`.\n",
"\n",
" * `flex-grow`: indica se o elemento pode crescer ou não. Por padrão, a propriedade `flex-grow` é definida como `0`, o que significa que o elemento não pode crescer. Mas podemos alterá-la para `1`, para que o elemento possa crescer.\n",
" * `flex-shrink`: indica se o elemento pode ser reduzido ou não. Por padrão, a propriedade `flex-shrink` é definida como `1`, o que significa que o elemento pode encolher. Mas podemos alterá-la para `0`, de modo que o elemento não possa encolher.\n",
" * `flex-basis`: indica o tamanho do elemento. Por padrão, a propriedade `flex-basis` é definida como `auto`, o que significa que o elemento é dimensionado automaticamente. Mas podemos alterá-la para `100px`, para que o elemento tenha um tamanho de 100px.\n",
"\n",
"Por exemplo, se tivermos vários `div`s e quisermos que o primeiro `div` tenha 100px de tamanho e que os outros compartilhem o espaço restante, podemos fazer o seguinte.\n",
"\n",
"````html\n",
"<section>\n",
"    <div>Texto</div>\n",
"    <div>Texto</div>\n",
"    <div>Texto</div>\n",
"</section>\n",
"```\n",
"\n",
"````css\n",
"seção {\n",
"    display: flex;\n",
"}\n",
"\n",
"section div:first-child {\n",
"    flex-grow: 0; /* Como é definido como 0 por padrão, não há necessidade de defini-lo */\n",
"    flex-shrink: 0; /* Como é definido como 1 por padrão, não há necessidade de defini-lo */\n",
"    Base flexível: 100px;\n",
"}\n",
"\n",
"seção div {\n",
"    flex-grow: 1;\n",
"    flex-shrink: 1; /* Como é definido como 1 por padrão, não há necessidade de defini-lo */\n",
"    flex-basis: auto; /* Como por padrão é definido como auto, não há necessidade de defini-lo */\n",
"}\n",
"```\n",
"\n",
"Dessa forma, o primeiro `div` terá um tamanho de 100px, e os outros compartilharão o espaço restante."
      ]
    },
{
      "cell_type": "markdown",
      "metadata": {},
      "source": [
      "\n",
"Você pode alterar os três valores de uma só vez com a propriedade `flex`. Por exemplo, se tivermos vários `div`s e quisermos que o primeiro `div` tenha 100px de tamanho e que os outros compartilhem o espaço restante, podemos fazer isso.\n",
"\n",
"````html\n",
"<section>\n",
"    <div>Texto</div>\n",
"    <div>Texto</div>\n",
"    <div>Texto</div>\n",
"</section>\n",
"```\n",
"\n",
"````css\n",
"seção {\n",
"    display: flex;\n",
"}\n",
"\n",
"section div:first-child {\n",
"    flex: 0 0 100px;\n",
"}\n",
"\n",
"seção div {\n",
"    flex: 1 1 carro;\n",
"}\n",
"```\n",
"\n",
"Dessa forma, o primeiro `div` terá um tamanho de 100px, e os outros compartilharão o espaço restante."
      ]
    },
{
      "cell_type": "markdown",
      "metadata": {},
      "source": [
      "Você também pode modificar tudo de uma vez com `flex: initial;`, que é o mesmo que `flex: 0 1 auto;`. Ou com `flex: auto;`, que é o mesmo que `flex: 1 1 auto;`. Ou com `flex: none;`, que é o mesmo que `flex: 0 0 auto;`. Ou com `flex: 1;`, que é o mesmo que `flex: 1 1 0%;`."
      ]
    },
{
      "cell_type": "markdown",
      "metadata": {},
      "source": [
      "Outra forma de modificar o `flex` é colocar números, que indicarão o espaçamento relativo do contêiner. Por exemplo, se tivermos vários `div`s e quisermos que o primeiro tenha o dobro do espaço do segundo, e o segundo tenha o dobro do espaço do terceiro, podemos fazer o seguinte.\n",
"\n",
"````html\n",
"<section>\n",
"    <div>Texto</div>\n",
"    <div>Texto</div>\n",
"    <div>Texto</div>\n",
"</section>\n",
"```\n",
"\n",
"````css\n",
"seção {\n",
"    display: flex;\n",
"}\n",
"\n",
"section div:first-child {\n",
"    flex: 4;\n",
"}\n",
"\n",
"section div:nth-child(2) {\n",
"    flex: 4;\n",
"}\n",
"\n",
"section div:nth-child(3) {\n",
"    flex: 1;\n",
"}\n",
"```\n",
"\n",
"Dessa forma, o primeiro `div` terá o dobro do espaço do segundo, e o segundo terá o dobro do espaço do terceiro."
      ]
    },
{
      "cell_type": "markdown",
      "metadata": {},
      "source": [
      "### Pedido"
      ]
    },
{
      "cell_type": "markdown",
      "metadata": {},
      "source": [
      "Podemos ordenar os elementos em um contêiner com a propriedade `order`. Por padrão, a propriedade `order` é definida como `0`. Mas podemos alterá-la para `1`, para que o elemento seja colocado após os elementos que têm `order: 0;`. Ou podemos alterá-la para `-1`, para que o elemento seja colocado antes dos elementos que têm `order: 0;`.\n",
"\n",
"É como o `z-index`, mas para a ordem dos elementos. Quanto mais alta a `ordem`, mais tarde o elemento será colocado. Por exemplo, se tivermos vários `div`s e quisermos que o primeiro `div` seja colocado após o segundo, podemos fazer isso.\n",
"\n",
"````html\n",
"<section>\n",
"    <div>Texto 1</div>\n",
"    <div>Texto 2</div>\n",
"    <div>Texto 3</div>\n",
"</section>\n",
"```\n",
"\n",
"````css\n",
"seção {\n",
"    display: flex;\n",
"}\n",
"\n",
"section div:first-child {\n",
"    ordem: 1;\n",
"}\n",
"\n",
"seção div {\n",
"    ordem: 0;\n",
"}\n",
"```\n",
"\n",
"O resultado será\n",
"\n",
"Texto 2\n",
"\n",
"Texto 3\n",
"\n",
"Texto 1\n",
"\n",
"![order](https://p6-juejin.byteimg.com/tos-cn-i-k3u1fbpfcp/8a7d45de6a88466ca3f98f4f0505f4d7~tplv-k3u1fbpfcp-zoom-in-crop-mark:1512:0:0:0.awebp)"
      ]
    },
{
      "cell_type": "markdown",
      "metadata": {},
      "source": [
      "### Justificar conteúdo"
      ]
    },
{
      "cell_type": "markdown",
      "metadata": {},
      "source": [
      "Como o `Flexbox` é unidimensional, podemos definir a justificação dos elementos do contêiner no eixo do `Flexbox` do contêiner. Ou seja, se o eixo do `Flexbox` do contêiner for horizontal, podemos definir a justificação dos elementos do contêiner no eixo horizontal. E se o eixo do `Flexbox` do contêiner for vertical, poderemos definir a justificação dos elementos do contêiner no eixo vertical.\n",
"\n",
"Os valores possíveis são:\n",
"\n",
" * Flex-start: os itens são justificados no início do eixo do `Flexbox` do contêiner.\n",
" * Flex-end: os itens são justificados no final do eixo do `Flexbox` do contêiner.\n",
" * `center`: os itens são justificados no centro do eixo `Flexbox` do contêiner.\n",
" * espaço entre: os elementos são justificados com o mesmo espaço entre eles. Nenhum espaço é deixado nas laterais do primeiro e do último elemento.\n",
" * Espaço ao redor: Os elementos são justificados com o mesmo espaço ao redor deles.\n",
" * space-evenly`: os elementos são justificados com espaço igual entre eles e ao redor deles. Ou seja, é semelhante ao `space-between`, mas o espaço é deixado nas laterais do primeiro e do último elemento. O espaço nas laterais é o mesmo que o espaço entre os elementos.\n",
"\n",
"![justify-content](https://css-tricks.com/wp-content/uploads/2018/10/justify-content.svg)"
      ]
    },
{
      "cell_type": "markdown",
      "metadata": {},
      "source": [
      "### Lacuna"
      ]
    },
{
      "cell_type": "markdown",
      "metadata": {},
      "source": [
      "Suponha que tenhamos vários elementos dentro de um contêiner e tenhamos definido `justify-content: centre;`. Isso fará com que os elementos fiquem centralizados no contêiner, mas colados uns aos outros. Se quisermos ter um espaço entre os elementos, podemos colocar `gap: 10px;`. Dessa forma, haverá um espaço de 10px entre os elementos.\n",
"\n",
"````html\n",
"<section>\n",
"    <div>Texto 1</div>\n",
"    <div>Texto 2</div>\n",
"    <div>Texto 3</div>\n",
"</section>\n",
"```\n",
"\n",
"````css\n",
"seção {\n",
"    display: flex;\n",
"    justify-content: center;\n",
"    intervalo: 10px;\n",
"}\n",
"```\n",
"\n",
"![gap](data:image/png;base64,iVBORw0KGgoAAAANSUhEUgAAAMsAAAD4CAMAAAB1y+ICAAAB0VBMVEX///+ZXbX3lB97SpH5r1cAAAD/mR+CT5p+S5SfYLybXrh/TJb3khr6sFeFUZ7/tFmSWa2OVqhkP3VPNFx7TZCKVKNbXllVN2NwQIZzR43q6uqDT58AFAAlIyZmTR+VW7FkQRA7KUKNZjBLJlva2Nv4oj9xYHr3lycvFTv5q0/4oT34nDLsjh37+PxBNRuXmZWVT7VZMmrw6vPrpVA9G0sZGhhRQBs5KVbHjEbAwMDWxt2/pcu4m8Xl2uqBQJr06/nEdxZ7M5WUYqje0eSujb1fPH10Sg8pJRxiPoRfPyU9LSWDg4Pehh4ADRwACwCoc8GxbRRyII6aXxGheLPNudaxkL8YAB82OjQfHj0AEysfIQitra1zSSE6J1Ctezw+MTZ+fn5HNUUwJxEiG0JBLwmlfrbbxOe5jc/LrNsaFRwYDB0iHjRcO22VjZmse8VfVGRWN1ZCMCWFVBFLS0tjQSRvEI3l0+62iM0HABAvLy9maWU6DUtPUk66sb8AEhiBXi04KwQuJTPQijarmbW5hD1qThYtJhZvT36Fco1nUnJWRl6hm6VkRXFtZXAwHTkkCC+EY5WUgpyGUgCskrl8dH9rXXIQEjRMNQBLODSQeJxKQ03O3nHEAAAbrElEQVR4nO1djV8S2d4fRASGQEEnJDA08xramAyhhoKCkHvX1Axs1S5WvqQmtb3cautupm7btretvbvP3nzu/rXPeZlX5swwJCreh++nFGfOnDnfOWde+P2+8z0UVUMNNdRQQw1HDjYGf8Zix92OCmA8OctRXDK9luSOuynGkcvBHojlxikqzg0Pg5bHWLTCz1GpHFiforh4bDiOOoodP+bW6iIxkkvNcrG1XDZNZRO5HOiNBO6JBMfOgl/gx/DscCwRo1LDbKKah1wuDX7Mxql4LJ6g/OCo57LCqgTHJeDvJJseocBwo6hssqq7ZQQ0k0rG11LDI0nQajDOGGGV"
      ]
    },
{
      "cell_type": "markdown",
      "metadata": {},
      "source": [
      "### Alinhar itens"
      ]
    },
{
      "cell_type": "markdown",
      "metadata": {},
      "source": [
      "Até agora, vimos como distribuir os elementos no eixo principal do Flexbox. Mas e quanto ao eixo secundário? Para isso, temos a propriedade `align-items`. Essa propriedade nos permite alinhar os elementos no eixo secundário do `Flexbox`.\n",
"\n",
"````html\n",
"<section>\n",
"    <div>Texto 1</div>\n",
"    <div>Texto 2</div>\n",
"    <div>Texto 3</div>\n",
"</section>\n",
"```\n",
"\n",
"````css\n",
"seção {\n",
"    display: flex;\n",
"    alinhar itens: centro;\n",
"}\n",
"```\n",
"\n",
"![align-items](https://css-tricks.com/wp-content/uploads/2018/10/align-items.svg)"
      ]
    },
{
      "cell_type": "markdown",
      "metadata": {},
      "source": [
      "### Alinhar conteúdo"
      ]
    },
{
      "cell_type": "markdown",
      "metadata": {},
      "source": [
      "Com `align-content`, podemos alinhar o conteúdo do contêiner no eixo secundário. Essa propriedade é semelhante a `align-items`, mas em vez de alinhar os elementos, ela alinha o conteúdo do contêiner.\n",
"\n",
"````html\n",
"<section>\n",
"    <div>Texto 1</div>\n",
"    <div>Texto 2</div>\n",
"    <div>Texto 3</div>\n",
"</section>\n",
"```\n",
"\n",
"````css\n",
"seção {\n",
"    display: flex;\n",
"    align-content: center;\n",
"    flex-wrap: envoltório;\n",
"    altura: 200px;\n",
"}\n",
"```\n",
"\n",
"![align-content](https://css-tricks.com/wp-content/uploads/2018/10/align-content.svg)"
      ]
    },
{
      "cell_type": "markdown",
      "metadata": {},
      "source": [
      "### Alinhar conteúdo vs Alinhar itens"
      ]
    },
{
      "cell_type": "markdown",
      "metadata": {},
      "source": [
      "Como pode haver confusão entre `align-content` e `align-items`, vamos dar uma olhada em um exemplo para ver a diferença entre as duas propriedades.\n",
"\n",
"````html\n",
"<section>\n",
"    <div>Texto 1</div>\n",
"    <div>Texto 2</div>\n",
"    <div>Texto 3</div>\n",
"    <div>Texto 4</div>\n",
"    <div>Texto 5</div>\n",
"    <div>Texto 6</div>\n",
"    <div>Texto 7</div>\n",
"    <div>Texto 8</div>\n",
"    <div>Texto 9</div>\n",
"</section>\n",
"```\n",
"\n",
"````css\n",
"seção {\n",
"    display: flex;\n",
"    alinhar itens: centro;\n",
"    align-content: center;\n",
"    flex-wrap: envoltório;\n",
"    altura: 200px;\n",
"}\n",
"```\n",
"\n",
"Com `align-items` alinhamos os elementos no eixo secundário, enquanto com `align-content` alinhamos o conteúdo do contêiner no eixo secundário. Ou seja, com `align-items` alinhamos os elementos uns com os outros, enquanto com `align-content` alinhamos o conteúdo do contêiner. No exemplo acima, podemos ver que com `align-items` os elementos são alinhados entre si, enquanto com `align-content` o conteúdo do contêiner é alinhado no eixo secundário."
      ]
    },
{
      "cell_type": "markdown",
      "metadata": {},
      "source": [
      "### Alinhar-se"
      ]
    },
{
      "cell_type": "markdown",
      "metadata": {},
      "source": [
      "Às vezes, precisamos alinhar um elemento no eixo secundário de forma diferente do restante dos elementos. Para isso, temos a propriedade `align-self`. Essa propriedade nos permite alinhar um elemento no eixo secundário de forma diferente do restante dos elementos.\n",
"\n",
"Até agora, alinhávamos os elementos ao pai, mas com o `align-self` podemos alinhar um elemento no eixo secundário de forma diferente do restante dos elementos.\n",
"\n",
"````html\n",
"<section>\n",
"    <div>Texto 1</div>\n",
"    <div>Texto 2</div>\n",
"    <div>Texto 3</div>\n",
"</section>\n",
"```\n",
"\n",
"````css\n",
"seção {\n",
"    display: flex;\n",
"    alinhar itens: centro;\n",
"}\n",
"\n",
"section div:nth-child(2) {\n",
"    align-self: flex-end;\n",
"}\n",
"```\n",
"\n",
"![align-self](https://css-tricks.com/wp-content/uploads/2018/10/align-self.svg)"
      ]
    },
{
      "cell_type": "markdown",
      "metadata": {},
      "source": [
      "### Prática do Flexbox"
      ]
    },
{
      "cell_type": "markdown",
      "metadata": {},
      "source": [
      "Um bom recurso para praticar o Flexbox é o [Flexbox Froggy] (https://flexboxfroggy.com/#es)."
      ]
    },
{
      "cell_type": "markdown",
      "metadata": {},
      "source": [
      "## Grade"
      ]
    },
{
      "cell_type": "markdown",
      "metadata": {},
      "source": [
      "Se precisarmos criar um layout mais complexo, podemos usar o `Grid`. O `Grid` é um sistema de grade bidimensional que nos permite criar layouts mais complexos do que com o `Flexbox`.\n",
"\n",
"![grid](https://miro.medium.com/v2/resize:fit:860/1*FifZUGz97Onmb7RUOairbg.png)"
      ]
    },
{
      "cell_type": "markdown",
      "metadata": {},
      "source": [
      "### Contêiner de grade"
      ]
    },
{
      "cell_type": "markdown",
      "metadata": {},
      "source": [
      "Vamos ver um exemplo de como criar um layout com o `Grid`. Para isso, usaremos a seguinte estrutura HTML.\n",
"\n",
"````html\n",
"<section>\n",
"    <div>Texto 1</div>\n",
"    <div>Texto 2</div>\n",
"    <div>Texto 3</div>\n",
"    <div>Texto 4</div>\n",
"    <div>Texto 5</div>\n",
"    <div>Texto 6</div>\n",
"    <div>Texto 7</div>\n",
"    <div>Texto 8</div>\n",
"    <div>Texto 9</div>\n",
"</section>\n",
"```\n",
"\n",
"Para criar uma `Grid`, precisamos criar um contêiner com a propriedade `display: grid`, lembre-se de que, por padrão, os contêineres têm `display:block`. Esse contêiner é conhecido como contêiner `Grid`.\n",
"\n",
"````css\n",
"seção {\n",
"    exibição: grade;\n",
"}\n",
"```\n",
"\n",
"Esse código criará uma `Grid` com uma única coluna e tantas linhas quantos elementos tivermos."
      ]
    },
{
      "cell_type": "markdown",
      "metadata": {},
      "source": [
      "Se quisermos alterar o número de colunas, podemos usar a propriedade `grid-template-columns`. Essa propriedade nos permite definir o número de colunas que nossa `Grid` terá. Para definir o número de colunas, podemos usar unidades de medida como `px`, `em`, `rem`, `fr` etc.\n",
"\n",
"Vamos criar tantas colunas quantas forem as unidades de medida que definirmos. No exemplo a seguir, criaremos 3 colunas de 100px cada.\n",
"\n",
"````css\n",
"seção {\n",
"    exibição: grade;\n",
"    grid-template-columns: 100px 100px 100px 100px 100px;\n",
"}\n",
"```\n",
"\n",
"Com este exemplo, criamos uma `Grid` com 3 colunas de 100px cada."
      ]
    },
{
      "cell_type": "markdown",
      "metadata": {},
      "source": [
      "Podemos definir a largura de uma das colunas com `auto` e o restante com uma medida, dessa forma a coluna com `auto` se adaptará ao conteúdo, enquanto o restante das colunas terá a largura que definimos.\n",
"\n",
"Ao definir `auto`, o navegador decidirá a largura da coluna com base no espaço do contêiner e no espaço ocupado pelo conteúdo da coluna.\n",
"\n",
"````css\n",
"seção {\n",
"    exibição: grade;\n",
"    grid-template-columns: auto 100px 100px;\n",
"}\n",
"```\n",
"\n",
"A primeira coluna será adaptada ao conteúdo, enquanto as outras duas colunas terão 100px de largura.\n",
"\n",
"Se definirmos duas colunas com `auto`, o navegador distribuirá o espaço entre as duas colunas, mas não precisa ser o mesmo espaço para cada coluna, pois, como dissemos, o espaço dependerá do espaço do contêiner e do espaço do conteúdo.\n",
"\n",
"````css\n",
"seção {\n",
"    exibição: grade;\n",
"    grid-template-columns: auto auto 100px;\n",
"}\n",
"```\n",
"\n",
"Neste exemplo, as duas primeiras colunas serão adaptadas ao conteúdo, enquanto a terceira terá uma largura de 100px."
      ]
    },
{
      "cell_type": "markdown",
      "metadata": {},
      "source": [
      "### Fração"
      ]
    },
{
      "cell_type": "markdown",
      "metadata": {},
      "source": [
      "Há uma unidade de medida que só existe no `Grid` e que é o `fr`. Essa unidade de medida nos permite definir a largura das colunas com base no espaço disponível no contêiner.\n",
"\n",
"````css\n",
"seção {\n",
"    exibição: grade;\n",
"    grid-template-columns: 1fr 1fr 1fr 1fr 1fr 1fr;\n",
"}\n",
"```\n",
"\n",
"Nesse exemplo, as três colunas terão a mesma largura, pois o espaço disponível no contêiner será dividido entre as três colunas.\n",
"\n",
"````css\n",
"seção {\n",
"    exibição: grade;\n",
"    grid-template-columns: 1fr 2fr 1fr;\n",
"}\n",
"```\n",
"\n",
"Nesse exemplo, a segunda coluna terá o dobro da largura das outras duas, pois o espaço disponível no contêiner será dividido entre as três colunas, mas a segunda coluna terá o dobro do espaço das outras duas."
      ]
    },
{
      "cell_type": "markdown",
      "metadata": {},
      "source": [
      "Podemos fazer o mesmo com as linhas, usando a propriedade `grid-template-rows`.\n",
"\n",
"````css\n",
"seção {\n",
"    exibição: grade;\n",
"    grid-template-columns: 1fr 2fr 1fr;\n",
"    grid-template-rows: 1fr 2fr 1fr;\n",
"}\n",
"```"
      ]
    },
{
      "cell_type": "markdown",
      "metadata": {},
      "source": [
      "### Grade vazia"
      ]
    },
{
      "cell_type": "markdown",
      "metadata": {},
      "source": [
      "Dissemos que podemos dividir a `Grid` em colunas e linhas, portanto, colocamos quantas unidades de medida quisermos em colunas ou linhas. Mas o que acontece se colocarmos mais unidades de medida do que precisamos?\n",
"\n",
"````html\n",
"<section>\n",
"    <div>Texto 1</div>\n",
"    <div>Texto 2</div>\n",
"    <div>Texto 3</div>\n",
"    <div>Texto 4</div>\n",
"    <div>Texto 5</div>\n",
"    <div>Texto 6</div>\n",
"    <div>Texto 7</div>\n",
"    <div>Texto 8</div>\n",
"    <div>Texto 9</div>\n",
"</section>\n",
"```\n",
"\n",
"````css\n",
"seção {\n",
"    exibição: grade;\n",
"    grid-template-columns: 1fr 1fr 1fr 1fr 1fr 1fr 1fr;\n",
"    grid-template-rows: 1fr 1fr 1fr 1fr 1fr 1fr 1fr;\n",
"}\n",
"```\n",
"\n",
"Neste exemplo, será criada uma `Grid` com 4 colunas e 4 linhas, mas temos apenas 9 elementos, embora tenhamos criado uma grade de 16 elementos. O que acontece com os 7 elementos que sobraram? O navegador os cria vazios."
      ]
    },
{
      "cell_type": "markdown",
      "metadata": {},
      "source": [
      "### Grid-auto-rows (Linhas automáticas de grade)"
      ]
    },
{
      "cell_type": "markdown",
      "metadata": {},
      "source": [
      "Se, ao criar a `Grid`, definirmos apenas o valor de `grid-template-columns`, o navegador criará as linhas necessárias para as colunas que definimos, mas as criará com o tamanho padrão, ou seja, o tamanho do conteúdo.\n",
"\n",
"Se quisermos definir o tamanho das linhas, podemos usar a propriedade `grid-auto-rows`. Essa propriedade nos permite definir o tamanho das linhas que são criadas por padrão.\n",
"\n",
"````css\n",
"seção {\n",
"    exibição: grade;\n",
"    grid-template-columns: 1fr 1fr 1fr 1fr 1fr 1fr 1fr;\n",
"    Linhas automáticas da grade: 100px;\n",
"}\n",
"```\n",
"\n",
"Neste exemplo, criaremos uma `Grid` com 4 colunas e tantas linhas quantos elementos tivermos, mas o tamanho das linhas será de 100px."
      ]
    },
{
      "cell_type": "markdown",
      "metadata": {},
      "source": [
      "Suponha que também tenhamos definido `grid-template-rows`, mas definimos o tamanho das primeiras linhas e não de todas as linhas necessárias. Com `grid-auto-rows`, podemos definir o tamanho das linhas que faltam.\n",
"\n",
"````css\n",
"seção {\n",
"    exibição: grade;\n",
"    grid-template-columns: 1fr 1fr 1fr 1fr 1fr 1fr 1fr;\n",
"    Linhas do modelo de grade: 100px 100px;\n",
"    Linhas automáticas de grade: 50px;\n",
"}\n",
"```\n",
"\n",
"Neste exemplo, criaremos uma `Grid` com 4 colunas e tantas linhas quantos elementos tivermos, mas o tamanho das duas primeiras linhas será de 100px, enquanto o tamanho do restante das linhas será de 50px.\n",
"\n",
"Isso é muito útil quando não sabemos quantos elementos teremos, pois podemos definir o tamanho das primeiras linhas e o tamanho das linhas que são criadas por padrão."
      ]
    },
{
      "cell_type": "markdown",
      "metadata": {},
      "source": [
      "### Repetir"
      ]
    },
{
      "cell_type": "markdown",
      "metadata": {},
      "source": [
      "Vamos imaginar que queremos criar uma `Grid` com 100 colunas e todas do mesmo tamanho. Teríamos que escrever 100 vezes a unidade de medida que queremos usar. Para evitar isso, podemos usar a propriedade `repeat`.\n",
"\n",
"````css\n",
"seção {\n",
"    exibição: grade;\n",
"    grid-template-columns: repeat(100, 1fr);\n",
"}\n",
"```\n",
"\n",
"Com `repeat`, podemos definir o número de colunas que desejamos e a unidade de medida que queremos usar."
      ]
    },
{
      "cell_type": "markdown",
      "metadata": {},
      "source": [
      "Podemos usar `repeat` com subpartes da grade. Por exemplo, vamos imaginar que queremos criar 100 colunas novamente, mas queremos que a primeira e a última coluna tenham 100px de largura e o restante das colunas tenha 1fr de largura.\n",
"\n",
"````css\n",
"seção {\n",
"    exibição: grade;\n",
"    grid-template-columns: 100px repeat(98, 1fr) 100px;\n",
"}\n",
"```"
      ]
    },
{
      "cell_type": "markdown",
      "metadata": {},
      "source": [
      "Agora, suponha que tenhamos um padrão de colunas que se repete a cada 3 colunas. Podemos usar `repeat` para definir esse padrão.\n",
"\n",
"````css\n",
"seção {\n",
"    exibição: grade;\n",
"    grid-template-columns: repeat(3, 100px 1fr);\n",
"}\n",
"```\n",
"\n",
"Dessa forma, criamos uma grade de 6 colunas, em que o padrão é repetido a cada 2 colunas."
      ]
    },
{
      "cell_type": "markdown",
      "metadata": {},
      "source": [
      "### minmax"
      ]
    },
{
      "cell_type": "markdown",
      "metadata": {},
      "source": [
      "Talvez não saibamos o tamanho exato de uma linha ou coluna, mas queremos que ela ocupe um tamanho entre um mínimo e um máximo. Para isso, podemos usar a propriedade `minmax`.\n",
"\n",
"````css\n",
"seção {\n",
"    exibição: grade;\n",
"    grid-template-columns: minmax(100px, 1fr) 1fr 1fr 1fr 1fr 1fr;\n",
"}\n",
"```\n",
"\n",
"Neste exemplo, queremos que cada coluna tenha 25% da largura do contêiner, mas queremos que a primeira coluna tenha uma largura mínima de 100px. Ou seja, se o espaço ocupado pela primeira coluna for menor que 100px, a coluna terá uma largura de 100px, mas se o espaço ocupado pela primeira coluna for maior que 100px, a coluna terá uma largura de 25% do contêiner.\n",
"\n",
"Isso é muito útil, por exemplo, quando temos um índice na lateral da página e queremos que ele ocupe uma largura mínima, mas se o espaço disponível for maior, ele ocupará o espaço correspondente.\n",
"\n",
"````html\n",
"<div>\n",
"    <aside>Índice</aside>.\n",
"    <main>Conteúdo</main>\n",
"</div>\n",
"```\n",
"\n",
"````css\n",
"div {\n",
"    exibição: grade;\n",
"    grid-template-columns: minmax(100px, 1fr) 5fr;\n",
"}\n",
"```\n",
"\n",
"Dessa forma, o índice terá uma largura mínima de 100px, mas se o espaço disponível for maior, o índice ocupará o espaço correspondente a ele."
      ]
    },
{
      "cell_type": "markdown",
      "metadata": {},
      "source": [
      "### Grid-column-gap e Grid-row-gap"
      ]
    },
{
      "cell_type": "markdown",
      "metadata": {},
      "source": [
      "Se quisermos adicionar um espaço entre as colunas ou entre as linhas, podemos usar as propriedades `grid-column-gap` e `grid-row-gap`.\n",
"\n",
"````css\n",
"seção {\n",
"    exibição: grade;\n",
"    grid-template-columns: repeat(3, 100px);\n",
"    Lacuna da coluna da grade: 20px;\n",
"}\n",
"```\n",
"\n",
"Neste exemplo, criamos uma `Grid` com 3 colunas de 100px cada e um espaço de 20px entre as colunas.\n",
"\n",
"````css\n",
"seção {\n",
"    exibição: grade;\n",
"    grid-template-columns: repeat(3, 100px);\n",
"    Lacuna da linha de grade: 20px;\n",
"}\n",
"```\n",
"\n",
"Neste exemplo, criamos uma `Grid` com 3 colunas de 100px cada e um espaço de 20px entre as linhas."
      ]
    },
{
      "cell_type": "markdown",
      "metadata": {},
      "source": [
      "Podemos definir o espaçamento entre colunas e linhas com a propriedade `grid-gap`.\n",
"\n",
"````css\n",
"seção {\n",
"    exibição: grade;\n",
"    grid-template-columns: repeat(3, 100px);\n",
"    Espaço da grade: 20px 10px;\n",
"}\n",
"```\n",
"\n",
"Neste exemplo, criamos uma `Grid` com 3 colunas de 100px cada, um espaço de 20px entre as colunas e um espaço de 10px entre as linhas.\n",
"\n",
"````css\n",
"seção {\n",
"    exibição: grade;\n",
"    grid-template-columns: repeat(3, 100px);\n",
"    Espaço da grade: 20px;\n",
"}\n",
"```\n",
"\n",
"Neste exemplo, criamos uma `Grid` com 3 colunas de 100px cada e um espaço de 20px entre as colunas e as linhas."
      ]
    },
{
      "cell_type": "markdown",
      "metadata": {},
      "source": [
      "### Preenchimento automático e ajuste automático"
      ]
    },
{
      "cell_type": "markdown",
      "metadata": {},
      "source": [
      "Com o `auto-fill` e o `auto-fit`, podemos criar uma `Grid` com um número de colunas ou linhas que se adapte ao espaço disponível no contêiner, de modo que possamos tornar a `Grid` responsiva.\n",
"\n",
"````css\n",
"seção {\n",
"    exibição: grade;\n",
"    grid-template-columns: repeat(auto-fill, 100px);\n",
"}\n",
"```\n",
"\n",
"Neste exemplo, serão criadas tantas colunas quantas couberem no contêiner, mas cada coluna terá uma largura de 100px.\n",
"\n",
"````css\n",
"seção {\n",
"    exibição: grade;\n",
"    grid-template-columns: repeat(auto-fit, 100px);\n",
"}\n",
"```\n",
"\n",
"Neste exemplo, serão criadas tantas colunas quantas couberem no contêiner, mas cada coluna terá uma largura de 100px e, se houver espaço restante no contêiner, esse espaço será dividido entre as colunas."
      ]
    },
{
      "cell_type": "markdown",
      "metadata": {},
      "source": [
      "Agora podemos torná-lo mais completo\n",
"\n",
"````css\n",
"seção {\n",
"    exibição: grade;\n",
"    grid-template-columns: repeat(auto-fit, minmax(100px, 1fr));\n",
"}\n",
"```\n",
"\n",
"Neste exemplo, serão criadas tantas colunas quantas couberem no contêiner, mas cada coluna terá uma largura mínima de 100px e, se houver espaço restante no contêiner, esse espaço será dividido entre as colunas. À medida que diminuirmos o tamanho do navegador, as colunas se adaptarão ao espaço disponível, até chegarmos a um ponto em que elas terão de ter menos de 100 px de largura para caber, de modo que uma coluna será removida e o espaço será redistribuído entre as colunas restantes.\n",
"\n",
"````css\n",
"seção {\n",
"    exibição: grade;\n",
"    grid-template-columns: repeat(auto-fit, minmax(100px, 1fr));\n",
"    Espaço da grade: 20px;\n",
"}\n",
"```\n",
"\n",
"Neste exemplo, serão criadas quantas colunas couberem no contêiner, mas cada coluna terá uma largura mínima de 100px e, se houver espaço restante no contêiner, esse espaço será dividido entre as colunas e haverá um espaço de 20px entre as colunas."
      ]
    },
{
      "cell_type": "markdown",
      "metadata": {},
      "source": [
      "### Preenchimento automático vs. ajuste automático"
      ]
    },
{
      "cell_type": "markdown",
      "metadata": {},
      "source": [
      "A diferença entre `auto-fill` e `auto-fit` é que `auto-fill` cria tantas colunas ou linhas quantas couberem no contêiner, enquanto `auto-fit` cria tantas colunas ou linhas quantas couberem no contêiner, mas, se houver espaço restante no contêiner, esse espaço será dividido entre as colunas ou linhas.\n",
"\n",
"Ou seja, `auto-fill` cria tantas colunas ou linhas quantas couberem no contêiner, mas se houver espaço restante no contêiner, o espaço não será dividido entre as colunas ou linhas, enquanto `auto-fit` cria tantas colunas ou linhas quantas couberem no contêiner, mas se houver espaço restante no contêiner, o espaço será dividido entre as colunas ou linhas."
      ]
    },
{
      "cell_type": "markdown",
      "metadata": {},
      "source": [
      "### Início da coluna da grade e fim da coluna da grade (grade de bento)"
      ]
    },
{
      "cell_type": "markdown",
      "metadata": {},
      "source": [
      "Até agora, vimos como criar uma `Grid` com colunas e linhas, mas e se quisermos que um elemento ocupe mais de uma coluna ou linha? Para isso, temos as propriedades `grid-column-start` e `grid-column-end`.\n",
"\n",
"````html\n",
"<section>\n",
"    <div>Texto 1</div>\n",
"    <div>Texto 2</div>\n",
"    <div>Texto 3</div>\n",
"    <div>Texto 4</div>\n",
"    <div>Texto 5</div>\n",
"    <div>Texto 6</div>\n",
"    <div>Texto 7</div>\n",
"    <div>Texto 8</div>\n",
"    <div>Texto 9</div>\n",
"</section>\n",
"```\n",
"\n",
"````css\n",
"seção {\n",
"    exibição: grade;\n",
"    grid-template-columns: repeat(3, 100px);\n",
"    Espaço da grade: 20px;\n",
"}\n",
"\n",
"section div:nth-child(2) {\n",
"    grid-column-start: 1;\n",
"    grid-column-end: 3;\n",
"}\n",
"```\n",
"\n",
"Neste exemplo, criamos uma `Grid` com 3 colunas de 100px cada e um espaço de 20px entre as colunas. O segundo elemento ocupa desde a primeira até a terceira coluna."
      ]
    },
{
      "cell_type": "markdown",
      "metadata": {},
      "source": [
      "Também podemos informar o início e o fim da coluna com a propriedade `grid-column`.\n",
"\n",
"````css\n",
"seção {\n",
"    exibição: grade;\n",
"    grid-template-columns: repeat(3, 100px);\n",
"    Espaço da grade: 20px;\n",
"}\n",
"\n",
"section div:nth-child(2) {\n",
"    Coluna da grade: 1 / 3;\n",
"}\n",
"```\n",
"\n",
"Neste exemplo, criamos uma `Grid` com 3 colunas de 100px cada e um espaço de 20px entre as colunas. O segundo elemento ocupa desde a primeira até a terceira coluna."
      ]
    },
{
      "cell_type": "markdown",
      "metadata": {},
      "source": [
      "Se não quisermos dizer a ele onde terminar, mas quantas colunas queremos que ele ocupe, podemos usar a propriedade `span`.\n",
"\n",
"````css\n",
"seção {\n",
"    exibição: grade;\n",
"    grid-template-columns: repeat(3, 100px);\n",
"    Espaço da grade: 20px;\n",
"}\n",
"\n",
"section div:nth-child(2) {\n",
"    grid-column-start: 1;\n",
"    grid-column-end: span 2;\n",
"}\n",
"```\n",
"\n",
"Neste exemplo, criamos uma `Grid` com 3 colunas de 100px cada e um espaço de 20px entre as colunas. O segundo elemento ocupa desde a primeira até a segunda coluna, ou seja, ocupa duas colunas."
      ]
    },
{
      "cell_type": "markdown",
      "metadata": {},
      "source": [
      "Se quisermos posicioná-las no final, mas não soubermos quantas colunas existem, podemos usar números negativos.\n",
"\n",
"````css\n",
"seção {\n",
"    exibição: grade;\n",
"    grid-template-columns: repeat(3, 100px);\n",
"    Espaço da grade: 20px;\n",
"}\n",
"\n",
"section div:nth-child(2) {\n",
"    grid-column-start: 1;\n",
"    grid-column-end: -1;\n",
"}\n",
"```\n",
"\n",
"Neste exemplo, criamos uma `Grid` com 3 colunas de 100px cada e um espaço de 20px entre as colunas. O segundo elemento ocupa desde a primeira até a última coluna, ou seja, ocupa todas as três colunas."
      ]
    },
{
      "cell_type": "markdown",
      "metadata": {},
      "source": [
      "### Início da linha da grade e fim da linha da grade (grade de bento)"
      ]
    },
{
      "cell_type": "markdown",
      "metadata": {},
      "source": [
      "Podemos fazer o mesmo com as linhas e, para isso, temos as propriedades `grid-row-start` e `grid-row-end`.\n",
"\n",
"````html\n",
"<section>\n",
"    <div>Texto 1</div>\n",
"    <div>Texto 2</div>\n",
"    <div>Texto 3</div>\n",
"    <div>Texto 4</div>\n",
"    <div>Texto 5</div>\n",
"    <div>Texto 6</div>\n",
"    <div>Texto 7</div>\n",
"    <div>Texto 8</div>\n",
"    <div>Texto 9</div>\n",
"</section>\n",
"```\n",
"\n",
"````css\n",
"seção {\n",
"    exibição: grade;\n",
"    grid-template-columns: repeat(3, 100px);\n",
"    Espaço da grade: 20px;\n",
"}\n",
"\n",
"section div:nth-child(2) {\n",
"    grid-row-start: 1;\n",
"    extremidade da linha de grade: 3;\n",
"}\n",
"```\n",
"\n",
"Neste exemplo, criamos uma `Grid` com 3 colunas de 100px cada e um espaço de 20px entre as colunas. O segundo elemento ocupa desde a primeira linha até a terceira linha."
      ]
    },
{
      "cell_type": "markdown",
      "metadata": {},
      "source": [
      "Também podemos informar o início e o fim da linha com a propriedade `grid-row`.\n",
"\n",
"````css\n",
"seção {\n",
"    exibição: grade;\n",
"    grid-template-columns: repeat(3, 100px);\n",
"    Espaço da grade: 20px;\n",
"}\n",
"\n",
"section div:nth-child(2) {\n",
"    Linha de grade: 1 / 3;\n",
"}\n",
"```"
      ]
    },
{
      "cell_type": "markdown",
      "metadata": {},
      "source": [
      "Como antes, se não quisermos dizer a ele onde terminar, mas quantas linhas queremos que ele ocupe, podemos usar a propriedade `span`.\n",
"\n",
"````css\n",
"seção {\n",
"    exibição: grade;\n",
"    grid-template-columns: repeat(3, 100px);\n",
"    Espaço da grade: 20px;\n",
"}\n",
"\n",
"section div:nth-child(2) {\n",
"    grid-row-start: 1;\n",
"    Fim da linha da grade: span 2;\n",
"}\n",
"```\n",
"\n",
"Neste exemplo, criamos uma `Grid` com 3 colunas de 100px cada e um espaço de 20px entre as colunas. O segundo elemento ocupa desde a primeira até a segunda linha, ou seja, ocupa duas linhas."
      ]
    },
{
      "cell_type": "markdown",
      "metadata": {},
      "source": [
      "Se quisermos posicioná-los no final, mas não soubermos quantas linhas existem, podemos usar números negativos.\n",
"\n",
"````css\n",
"seção {\n",
"    exibição: grade;\n",
"    grid-template-columns: repeat(3, 100px);\n",
"    Espaço da grade: 20px;\n",
"}\n",
"\n",
"section div:nth-child(2) {\n",
"    grid-row-start: 1;\n",
"    Fim da linha da grade: -1;\n",
"}\n",
"```\n",
"\n",
"Neste exemplo, criamos uma `Grid` com 3 colunas de 100px cada e um espaço de 20px entre as colunas. O segundo elemento ocupa desde a primeira até a última linha, ou seja, ocupa todas as três linhas."
      ]
    },
{
      "cell_type": "markdown",
      "metadata": {},
      "source": [
      "### Sobreposição de elementos"
      ]
    },
{
      "cell_type": "markdown",
      "metadata": {},
      "source": [
      "Podemos posicionar os elementos de forma que eles se sobreponham uns aos outros.\n",
"\n",
"````html\n",
"<section>\n",
"    <div>Texto 1</div>\n",
"    <div>Texto 2</div>\n",
"    <div>Texto 3</div>\n",
"    <div>Texto 4</div>\n",
"    <div>Texto 5</div>\n",
"    <div>Texto 6</div>\n",
"    <div>Texto 7</div>\n",
"    <div>Texto 8</div>\n",
"    <div>Texto 9</div>\n",
"</section>\n",
"```\n",
"\n",
"````css\n",
"seção {\n",
"    exibição: grade;\n",
"    grid-template-columns: repeat(3, 100px);\n",
"    Espaço da grade: 20px;\n",
"}\n",
"\n",
"section div:first-child {\n",
"    grid-column-start: 1;\n",
"    grid-column-end: 2;\n",
"    grid-row-start: 1;\n",
"    extremidade da linha de grade: 2;\n",
"}\n",
"\n",
"section div:nth-child(2) {\n",
"    grid-column-start: 1;\n",
"    grid-column-end: 2;\n",
"    grid-row-start: 1;\n",
"    extremidade da linha de grade: 2;\n",
"}\n",
"```\n",
"\n",
"Neste exemplo, criamos uma `Grid` com 3 colunas de 100px cada e um espaço de 20px entre as colunas. O primeiro elemento ocupa da primeira à segunda coluna e da primeira à segunda linha. O segundo elemento ocupa da primeira à segunda coluna e da primeira à segunda linha."
      ]
    },
{
      "cell_type": "markdown",
      "metadata": {},
      "source": [
      "Para controlar qual dos elementos se sobrepõe ao outro, podemos usar a propriedade `z-index`.\n",
"\n",
"````css\n",
"seção {\n",
"    exibição: grade;\n",
"    grid-template-columns: repeat(3, 100px);\n",
"    Espaço da grade: 20px;\n",
"}\n",
"\n",
"section div:first-child {\n",
"    grid-column-start: 1;\n",
"    grid-column-end: 2;\n",
"    grid-row-start: 1;\n",
"    extremidade da linha de grade: 2;\n",
"    z-index: 1;\n",
"}\n",
"\n",
"section div:nth-child(2) {\n",
"    grid-column-start: 1;\n",
"    grid-column-end: 2;\n",
"    grid-row-start: 1;\n",
"    extremidade da linha de grade: 2;\n",
"    z-index: 2;\n",
"}\n",
"```\n",
"\n",
"Neste exemplo, criamos uma `Grid` com 3 colunas de 100px cada e um espaço de 20px entre as colunas. O primeiro elemento ocupa da primeira à segunda coluna e da primeira à segunda linha. O segundo elemento ocupa da primeira à segunda coluna e da primeira à segunda linha. Como o segundo elemento tem um `índice z` maior que o primeiro, o segundo elemento se sobrepõe ao primeiro."
      ]
    },
{
      "cell_type": "markdown",
      "metadata": {},
      "source": [
      "### Layouts com grade"
      ]
    },
{
      "cell_type": "markdown",
      "metadata": {},
      "source": [
      "Agora que já conhecemos as propriedades básicas do `Grid`, vamos ver como podemos criar layouts com o `Grid`.\n",
"\n",
"````html\n",
"<cabeçalho>Cabeçalho</cabeçalho>\n",
"<aside>Aside</aside>.\n",
"<main>Principal</main>\n",
"<footer>Footer</footer>.\n",
"```\n",
"\n",
"````css\n",
"corpo {\n",
"    exibição: grade;\n",
"    grid-template-columns: 1fr 1fr 1fr 1fr 1fr 1fr;\n",
"    grid-template-rows: 35px 1fr 100px;\n",
"    Altura mínima: 100vh;\n",
"}\n",
"\n",
"cabeçalho {\n",
"    Coluna da grade: 1 / -1;\n",
"}\n",
"\n",
"principal {\n",
"    Coluna da grade: span 2;\n",
"}\n",
"\n",
"rodapé {\n",
"    Coluna da grade: 1 / -1;\n",
"}\n",
"```\n",
"\n",
"Neste exemplo, criamos uma `Grid` com 3 colunas e 3 linhas. A primeira linha tem uma altura de 35px, a segunda linha ocupa o restante do espaço disponível e a terceira linha tem uma altura de 100px. O cabeçalho ocupa da primeira à última coluna, o principal ocupa da primeira à segunda coluna e o rodapé ocupa da primeira à última coluna.\n",
"\n",
"Definimos `min-height: 100vh` para que a `Grid` ocupe 100% da altura da tela, pois se não definirmos isso, a `Grid` ocupará apenas a altura do conteúdo."
      ]
    },
{
      "cell_type": "markdown",
      "metadata": {},
      "source": [
      "No entanto, é difícil entender ao visualizar o CSS, portanto, podemos usar a propriedade `grid-area`."
      ]
    },
{
      "cell_type": "markdown",
      "metadata": {},
      "source": [
      "### Área de grade"
      ]
    },
{
      "cell_type": "markdown",
      "metadata": {},
      "source": [
      "Podemos nomear cada uma das áreas da `Grid` e, em seguida, usar esse nome para posicionar os elementos.\n",
"\n",
"````html\n",
"<cabeçalho>Cabeçalho</cabeçalho>\n",
"<aside>Aside</aside>.\n",
"<main>Principal</main>\n",
"<footer>Footer</footer>.\n",
"```\n",
"\n",
"````css\n",
"corpo {\n",
"    exibição: grade;\n",
"    grid-template-columns: 1fr 1fr 1fr 1fr 1fr 1fr;\n",
"    grid-template-rows: 35px 1fr 100px;\n",
"    Altura mínima: 100vh;\n",
"    áreas de modelo de grade:\n",
"        \"cabeçalho cabeçalho cabeçalho cabeçalho cabeçalho\n",
"        \"conteúdo da barra lateral\n",
"        \"rodapé rodapé rodapé rodapé rodapé\";\n",
"}\n",
"\n",
"cabeçalho {\n",
"    Área de grade: cabeçalho;\n",
"}\n",
"\n",
"principal {\n",
"    Área de grade: conteúdo;\n",
"}\n",
"\n",
"rodapé {\n",
"    Área de grade: rodapé;\n",
"}\n",
"\n",
"à parte {\n",
"    Área de grade: barra lateral;\n",
"}\n",
"```\n",
"\n",
"Como nomeamos cada uma das áreas da `Grid`, podemos usar esse nome para posicionar os elementos. Isso facilita a compreensão do CSS."
      ]
    },
{
      "cell_type": "markdown",
      "metadata": {},
      "source": [
      "Se quiséssemos torná-lo responsivo agora, só precisaríamos alterar o `Grid` e o restante do CSS permaneceria o mesmo.\n",
"\n",
"````css\n",
"corpo {\n",
"    exibição: grade;\n",
"    grid-template-columns: 1fr 1fr 1fr 1fr 1fr 1fr;\n",
"    grid-template-rows: 35px 1fr 100px;\n",
"    Altura mínima: 100vh;\n",
"    áreas de modelo de grade:\n",
"        \"cabeçalho cabeçalho cabeçalho cabeçalho cabeçalho\n",
"        \"conteúdo da barra lateral\n",
"        \"rodapé rodapé rodapé rodapé rodapé\";\n",
"}\n",
"\n",
"@media (largura < 400px) {\n",
"    corpo {\n",
"        Colunas do modelo de grade: 1fr;\n",
"        grid-template-rows: 35px 1fr 100px;\n",
"        áreas de modelo de grade:\n",
"            \"header header sidebar\n",
"            \"conteúdo conteúdo conteúdo conteúdo conteúdo\n",
"            \"rodapé rodapé rodapé rodapé rodapé\";\n",
"    }\n",
"\n",
"cabeçalho {\n",
"    Área de grade: cabeçalho;\n",
"}\n",
"\n",
"principal {\n",
"    Área de grade: conteúdo;\n",
"}\n",
"\n",
"rodapé {\n",
"    Área de grade: rodapé;\n",
"}\n",
"\n",
"à parte {\n",
"    Área de grade: barra lateral;\n",
"}\n",
"```\n",
"\n",
"Agora, fizemos com que, quando visualizada em um dispositivo grande, a barra lateral fique à esquerda e o conteúdo à direita, mas quando visualizada em um dispositivo pequeno, a barra lateral fique na parte superior e o conteúdo na parte inferior."
      ]
    },
{
      "cell_type": "markdown",
      "metadata": {},
      "source": [
      "Se não quisermos ter nada em uma área, podemos colocar um ponto.\n",
"\n",
"````css\n",
"corpo {\n",
"    exibição: grade;\n",
"    grid-template-columns: 1fr 1fr 1fr 1fr 1fr 1fr;\n",
"    grid-template-rows: 35px 1fr 100px;\n",
"    Altura mínima: 100vh;\n",
"    áreas de modelo de grade:\n",
"        \"cabeçalho cabeçalho cabeçalho cabeçalho cabeçalho\n",
"        \"sidebar . content\"\n",
"        \"rodapé rodapé rodapé rodapé rodapé\";\n",
"}\n",
"\n",
"@media (largura < 400px) {\n",
"    corpo {\n",
"        Colunas do modelo de grade: 1fr;\n",
"        grid-template-rows: 35px 1fr 100px;\n",
"        áreas de modelo de grade:\n",
"            \"header header sidebar\n",
"            \"conteúdo conteúdo conteúdo conteúdo conteúdo\n",
"            \"rodapé rodapé rodapé rodapé rodapé\";\n",
"    }\n",
"\n",
"cabeçalho {\n",
"    Área de grade: cabeçalho;\n",
"}\n",
"\n",
"principal {\n",
"    Área de grade: conteúdo;\n",
"}\n",
"\n",
"rodapé {\n",
"    Área de grade: rodapé;\n",
"}\n",
"\n",
"à parte {\n",
"    Área de grade: barra lateral;\n",
"}\n",
"```\n",
"\n",
"Agora, em telas grandes, há um espaço entre a barra lateral e o conteúdo."
      ]
    },
{
      "cell_type": "markdown",
      "metadata": {},
      "source": [
      "### Justify-items, Align-items, Justify-content e Align-content"
      ]
    },
{
      "cell_type": "markdown",
      "metadata": {},
      "source": [
      "Podemos alinhar o conteúdo e os elementos de uma `Grid` com as propriedades `justify-items`, `align-items`, `justify-content` e `align-content`.\n",
"\n",
"![grid justify](https://miro.medium.com/v2/resize:fit:1080/1*y9RuktkbVshp7lmVmZrbeQ.png)"
      ]
    },
{
      "cell_type": "markdown",
      "metadata": {},
      "source": [
      "#### Justify-items"
      ]
    },
{
      "cell_type": "markdown",
      "metadata": {},
      "source": [
      "Podemos alinhar os elementos no eixo X do `Grid` com a propriedade `justify-items`.\n",
"\n",
"Os valores que podemos usar são:\n",
"\n",
"- start`: alinha os elementos no início do eixo principal.\n",
"- end`: alinha os elementos ao final do eixo principal.\n",
"- centre`: alinha os elementos no centro do eixo principal.\n",
"- Stretch (Esticar): Estica os elementos de modo que eles ocupem todo o espaço disponível no eixo principal.\n",
"\n",
"````html\n",
"<section>\n",
"    <div>Texto 1</div>\n",
"    <div>Texto 2</div>\n",
"    <div>Texto 3</div>\n",
"</section>\n",
"```\n",
"\n",
"````css\n",
"seção {\n",
"    exibição: grade;\n",
"    justify-items: center;\n",
"}\n",
"```"
      ]
    },
{
      "cell_type": "markdown",
      "metadata": {},
      "source": [
      "#### Justificar a si mesmo"
      ]
    },
{
      "cell_type": "markdown",
      "metadata": {},
      "source": [
      "Com `justify-items` alinhamos todos os elementos no eixo principal da `Grid`, mas com `justify-self` podemos alinhar um elemento no eixo principal da `Grid` de forma diferente do restante dos elementos.\n",
"\n",
"````html\n",
"<section>\n",
"    <div>Texto 1</div>\n",
"    <div>Texto 2</div>\n",
"    <div>Texto 3</div>\n",
"</section>\n",
"```\n",
"\n",
"````css\n",
"seção {\n",
"    exibição: grade;\n",
"    justify-items: center;\n",
"}\n",
"\n",
"section div:nth-child(2) {\n",
"    justificar a si mesmo: fim;\n",
"}\n",
"```\n",
"\n",
"![justify-self](data:image/png;base64,iVBORw0KGgoAAAANSUhEUgAAAVIAAACVCAMAAAA9kYJlAAABIFBMVEXJycn////4kyYAAAD6qVHOzs7MzMzQ0NBwcHAGBgarq6vIyMiDg4MwMDCwsLCzs7PAwMBgYGChoaFSUlK7u7t4eHiampr4+PhcXFz/lyY8PDxNTU1HR0eJiYnW1tYiIiISEhIsLCwAAB3m5uYcHBxmZmbp6en3fQD5nTsQEBCRkZH2dAD4gwA2NjZsbGx+fn7/8N7/4sT0iirOx775lzLxj0Hcs5r5o0YAFR4ACx1CMB/piyWeYSL1hwzsl03/581mQyC9ciOPWSGzbSPWgCRONh/iqn7/9+7/79z7vY781LL4kjf7r3L5pWTyihz5r32AUCDagyUyKB5jQSAPGh5WOyCEUyGaXyLHdyNzSiD7wpbqm1blo2viqXvWu6PRwrGGW2R+AAAMAklEQVR4nO2dCXuiSB6HVRpQkahRI5cgBjUaNTt9TA61c5j03ZlOero72d6d/f7fYqu4QYxK1QwMw/vkyUNQsHgpCqI//2SyKZjJRN2A5JEqxU6qFDupUuykSrGTKsVOqhQ7qVLspEqxkyrFTqoUO6lSmyakp7NvYfwJH9h8Pf9wpdDhviyTGQDzFOBxiqRlGVhep9dSSg05hTBR2LCMn4RlVVVRNK09KBA+lmbAeVvRbm/3fIDzSoOBNW8QhDHfvQRcSBEgtWo33ygNd+tyz6OUEYjaHphpINd3Nqbsoljc3duQXR3rr6NC/shNwyC/DYK63fNdTLoc553TrXJV31Oq3MS/UE0SjK4yFgQWSK7JjtIdorXFWOHm7fkvy5y/+5fD26Cl3umLnVuPMUSdJtGQq2M55KK0/Wt5tmf6qTbK+0ypQJCW0h5RDqXz/e1hvz+C9H0crqY/cj06evX+nb5Ld6gMGjSn0IirQAKMtnRZY5um0r18GKMf+v2Xx8/WcGxxYPNSx5jMgZ3xIZvdxaC01o5Uqd6GFrFjKu0yIYyeH87XCt2EUf9tdkgUUZWS"
      ]
    },
{
      "cell_type": "markdown",
      "metadata": {},
      "source": [
      "#### Align-items"
      ]
    },
{
      "cell_type": "markdown",
      "metadata": {},
      "source": [
      "É muito semelhante ao `justify-items`, mas em vez de alinhar os elementos no eixo X, ele os alinha no eixo Y.\n",
"\n",
"Os valores que podemos usar são:\n",
"\n",
"- start`: alinha os elementos no início do eixo secundário.\n",
"- end`: alinha os elementos no final do eixo secundário.\n",
"- centre`: alinha os elementos no centro do eixo secundário.\n",
"- Stretch: Estica os elementos de modo que eles ocupem todo o espaço disponível no eixo secundário.\n",
"\n",
"````html\n",
"<section>\n",
"    <div>Texto 1</div>\n",
"    <div>Texto 2</div>\n",
"    <div>Texto 3</div>\n",
"</section>\n",
"```\n",
"\n",
"````css\n",
"seção {\n",
"    exibição: grade;\n",
"    alinhar itens: centro;\n",
"}\n",
"```"
      ]
    },
{
      "cell_type": "markdown",
      "metadata": {},
      "source": [
      "#### Alinhar-se"
      ]
    },
{
      "cell_type": "markdown",
      "metadata": {},
      "source": [
      "Com `align-items` alinhamos todos os elementos no eixo secundário da `Grid`, mas com `align-self` podemos alinhar um elemento no eixo secundário da `Grid` de forma diferente do restante dos elementos.\n",
"\n",
"````html\n",
"<section>\n",
"    <div>Texto 1</div>\n",
"    <div>Texto 2</div>\n",
"    <div>Texto 3</div>\n",
"</section>\n",
"```\n",
"\n",
"````css\n",
"seção {\n",
"    exibição: grade;\n",
"    alinhar itens: centro;\n",
"}\n",
"\n",
"section div:nth-child(2) {\n",
"    align-self: end;\n",
"}\n",
"```\n",
"\n",
"![align-self](data:image/png;base64,iVBORw0KGgoAAAANSUhEUgAAAVIAAACVCAMAAAA9kYJlAAABGlBMVEXJycn////4kyb6qVEAAADMzMzQ0NDR0dGEhIQGBgbCwsL6q1Tz8/NLS0tgYGAWFhaPj4/4fQDKz9Lloms5OTmsrKwPDw9paWkmJib5oVQzMzN5eXnExMSXl5dcXFxVVVW1tbX6pUpxcXH4jBgsLCz/mCYcHBxDQ0P6sXLm5uaxsbEgICDgq37btJafn5/c3Nz7wpb4hQD807oAAB3WvrDq6ur5mTTTfyTtjSX5oEDHeCQNGR6hYyJpRCAAFB70hyHPxrwACh15TSFFMR8xKB6bXyL96Nb/+e/8z7P5qGH6uID7xp72dQD5nUvv0LT/4sfUkUjer4jNeyR4TCFiQCCJViEsJR5jQSBCMB+ybCPkqH1SOB/XuqTziTAVRgQVAAALRUlEQVR4nO2dC3uayBqAkYBEIhCzqBQVjOGySKtNsyQmJtnNtWmbbrcX22Zt///fOMNNQU2CzmSHQ3mf1goiDm/npnx8EIUcxBC4C5A9cqXIyZUiJ1eKnFwpcnKlyMmVIidXipxcKXJypcjJlSInVzpDeZ4l95ArLZQdx+r3GYYpetAz+GsZpt+3LMdJIDhUWqZ7mx1VVZVOo7H5lKyniUanzteXhOfrnYb/9hagV622WaJvOeW40vKmQMn1zWq3Wq32WpsdfiVUzhRXQqY0OYKmaZJk24YhCLVa6SmpeVCAWoy5NaX4GvBWahZN7UWUWpTcXbbHQAlNtefa25IwvMhA7mJ5mu0Qlq22ZEosT5RKHYw+AW2qTRNwFBWNgdzFKgRuvWfFdaoTKu2KeI0WelQXWqlq4FAag6lTdKC008WsdJOqwiutYVdKs1QjUKowmJWuwyuluRISLXCF0Piyr1TtY1bagFdKmKUmCitQ0Crn+Eo53Eo7CJSKJRaFFSiKvBkoNXErrSNRCj1rgKaocJavVLSwK+1lQinNKWlRysMrbYol6IkYNLRZ95WWA6WvP9y8/P3N"
      ]
    },
{
      "cell_type": "markdown",
      "metadata": {},
      "source": [
      "#### Conteúdo do local"
      ]
    },
{
      "cell_type": "markdown",
      "metadata": {},
      "source": [
      "Se quisermos usar `justify-content` e `align-content` ao mesmo tempo, podemos usar `place-content`.\n",
"\n",
"Os valores que podemos usar são:\n",
"\n",
"- start`: alinha os elementos no início dos eixos principal e secundário.\n",
"- end`: alinha os elementos no final dos eixos principal e secundário.\n",
"- centre`: alinha os elementos no centro dos eixos principal e secundário.\n",
"- Esticar: Estica os elementos de modo que eles ocupem todo o espaço disponível nos eixos principal e secundário.\n",
"\n",
"````html\n",
"<section>\n",
"    <div>Texto 1</div>\n",
"    <div>Texto 2</div>\n",
"    <div>Texto 3</div>\n",
"</section>\n",
"```\n",
"\n",
"````css\n",
"seção {\n",
"    exibição: grade;\n",
"    place-content: center;\n",
"}\n",
"```"
      ]
    },
{
      "cell_type": "markdown",
      "metadata": {},
      "source": [
      "### Prática de grade"
      ]
    },
{
      "cell_type": "markdown",
      "metadata": {},
      "source": [
      "Um bom recurso para a prática de Grid é o [Grid Garden] (https://cssgridgarden.com/)."
      ]
    },
{
      "cell_type": "markdown",
      "metadata": {},
      "source": [
      "## Centralizar uma div"
      ]
    },
{
      "cell_type": "markdown",
      "metadata": {},
      "source": [
      "Até agora, vimos três maneiras de centralizar uma `div`:\n",
"\n",
"- Com `position: absolute`.\n",
"- Com `display: flex`.\n",
"- Com `display: grid`."
      ]
    },
{
      "cell_type": "markdown",
      "metadata": {},
      "source": [
      "## Animações"
      ]
    },
{
      "cell_type": "markdown",
      "metadata": {},
      "source": [
      "Nas animações, há dois tipos: `transições` e `animações`."
      ]
    },
{
      "cell_type": "markdown",
      "metadata": {},
      "source": [
      "### Transições"
      ]
    },
{
      "cell_type": "markdown",
      "metadata": {},
      "source": [
      "Nas transições, alteramos um elemento de um estado inicial para um estado de destino."
      ]
    },
{
      "cell_type": "markdown",
      "metadata": {},
      "source": [
      "Suponha que tenhamos o seguinte círculo\n",
"\n",
"````html\n",
"<div class=\"pulser\"></div>\n",
"```\n",
"\n",
"E seu CSS\n",
"\n",
"````css\n",
".pulser {\n",
"    largura: 30px;\n",
"    altura: 30px;\n",
"    Cor de fundo: #09f;\n",
"    Raio da borda: 50%;\n",
"    posição: relativa;\n",
"}\n",
"```\n",
"\n",
"Os elementos html podem ter estados, por exemplo, o estado `hover`, que ocorre quando o usuário passa o mouse sobre o elemento.\n",
"\n",
"````css\n",
".pulser:hover {\n",
"    escala: 2;\n",
"    Fundo: roxo;\n",
"    box-shadow: 0 0 10px purple;\n",
"}\n",
"```\n",
"\n",
"Com o `scaling`, aumentamos o tamanho, mas ocupamos o mesmo espaço; no entanto, se tivéssemos alterado a `largura` e a `altura`, o botão teria se movido."
      ]
    },
{
      "cell_type": "markdown",
      "metadata": {},
      "source": [
      "#### Transição"
      ]
    },
{
      "cell_type": "markdown",
      "metadata": {},
      "source": [
      "O que acontece agora é que, se passarmos o mouse sobre o círculo, o estado muda repentinamente, e é aí que entra a `transição`, que é como informamos ao CSS como o estado deve ser modificado. Por exemplo, se quisermos que a transição dure 1 segundo\n",
"\n",
"````css\n",
".pulser {\n",
"    largura: 30px;\n",
"    altura: 30px;\n",
"    Cor de fundo: #09f;\n",
"    Raio da borda: 50%;\n",
"    posição: relativa;\n",
"    transição: 1s;\n",
"}\n",
"```"
      ]
    },
{
      "cell_type": "markdown",
      "metadata": {},
      "source": [
      "É importante colocar a transição em `.pulser` e não em `.pulser:hover` porque, caso contrário, a transição não será aplicada quando voltarmos ao estado inicial. Ou seja, quando passarmos o mouse sobre o círculo, a transição será vista, mas quando removermos o mouse do círculo, não haverá uma transição de volta, mas ele voltará ao estado inicial."
      ]
    },
{
      "cell_type": "markdown",
      "metadata": {},
      "source": [
      "#### O que você deseja fazer com a propriedade de transição"
      ]
    },
{
      "cell_type": "markdown",
      "metadata": {},
      "source": [
      "O exemplo acima faria a transição da cor, do tamanho e do plano de fundo, mas se não quisermos fazer a transição de tudo, podemos indicar isso usando `transition-property`.\n",
"\n",
"````css\n",
".pulser {\n",
"    largura: 30px;\n",
"    altura: 30px;\n",
"    Cor de fundo: #09f;\n",
"    Raio da borda: 50%;\n",
"    posição: relativa;\n",
"    transição: 1s;\n",
"    propriedade de transição: cor de fundo, escala;\n",
"}\n",
"```\n",
"\n",
"Dessa forma, somente a transição de `background-color` e `scale` será feita."
      ]
    },
{
      "cell_type": "markdown",
      "metadata": {},
      "source": [
      "#### Transições suaves"
      ]
    },
{
      "cell_type": "markdown",
      "metadata": {},
      "source": [
      "A transição padrão é feita de forma linear, mas se quisermos alterá-la, podemos fazer isso por meio da `transition-timing-function`.\n",
"\n",
"````css\n",
".pulser {\n",
"    largura: 30px;\n",
"    altura: 30px;\n",
"    Cor de fundo: #09f;\n",
"    Raio da borda: 50%;\n",
"    posição: relativa;\n",
"    transição: 1s;\n",
"    propriedade de transição: cor de fundo, escala;\n",
"    Função de tempo de transição: facilitar a entrada e saída;\n",
"}\n",
"```\n",
"\n",
"Dessa forma, a transição será mais suave no início e no final. Os valores possíveis são os seguintes:\n",
"\n",
" + linear\n",
" + facilidade\n",
" + facilidade de entrada\n",
" + facilidade de saída\n",
" + facilidade de entrada e saída\n",
" + cubic-bezier(n,n,n,n,n,n)"
      ]
    },
{
      "cell_type": "markdown",
      "metadata": {},
      "source": [
      "#### Transições por etapas"
      ]
    },
{
      "cell_type": "markdown",
      "metadata": {},
      "source": [
      "Se quisermos que a animação seja feita em várias etapas, podemos usar `steps(n)`, em que `n` é o número de etapas que queremos que a animação tenha.\n",
"\n",
"````css\n",
".pulser {\n",
"    largura: 30px;\n",
"    altura: 30px;\n",
"    Cor de fundo: #09f;\n",
"    Raio da borda: 50%;\n",
"    posição: relativa;\n",
"    transição: 1s;\n",
"    propriedade de transição: cor de fundo, escala;\n",
"    função de tempo de transição: etapas(5);\n",
"}\n",
"```\n",
"\n",
"Dessa forma, a transição será feita em 5 etapas durante 1 segundo."
      ]
    },
{
      "cell_type": "markdown",
      "metadata": {},
      "source": [
      "#### Controle total da transição com cubic-bezier"
      ]
    },
{
      "cell_type": "markdown",
      "metadata": {},
      "source": [
      "Para controlar perfeitamente a transição, podemos usar o `cubic-bezier(n,n,n,n,n,n)`, em que `n` é um número entre 0 e 1 que indica a posição do ponto nos eixos X e Y.\n",
"\n",
"````css\n",
".pulser {\n",
"    largura: 30px;\n",
"    altura: 30px;\n",
"    Cor de fundo: #09f;\n",
"    Raio da borda: 50%;\n",
"    posição: relativa;\n",
"    transição: 1s;\n",
"    propriedade de transição: cor de fundo, escala;\n",
"    função de tempo de transição: cubic-bezier(0.1, 0.7, 1.0, 0.1);\n",
"}\n",
"```"
      ]
    },
{
      "cell_type": "markdown",
      "metadata": {},
      "source": [
      "Com `delay`, podemos indicar o tempo que deve transcorrer antes do início da transição.\n",
"\n",
"````css\n",
".pulser {\n",
"    largura: 30px;\n",
"    altura: 30px;\n",
"    Cor de fundo: #09f;\n",
"    Raio da borda: 50%;\n",
"    posição: relativa;\n",
"    transição: 1s;\n",
"    propriedade de transição: cor de fundo, escala;\n",
"    função de tempo de transição: cubic-bezier(0.1, 0.7, 1.0, 0.1);\n",
"    atraso de transição: 1s;\n",
"}\n",
"```\n",
"\n",
"Com o `delay`, é possível fazer animações de carregamento, por exemplo.\n",
"\n",
"````html\n",
"<section>\n",
"    Passe o mouse para exibir os elementos\n",
"    <div class=\"pulser\"></div>\n",
"    <div class=\"pulser\"></div>\n",
"    <div class=\"pulser\"></div>\n",
"</section>\n",
"```\n",
"\n",
"````css\n",
"seção {\n",
"    display: flex;\n",
"    flex-direction: column;\n",
"    alinhar itens: centro;\n",
"    justify-content: center;\n",
"    altura: 100vh;\n",
"}\n",
"\n",
".pulser {\n",
"    largura: 30px;\n",
"    altura: 30px;\n",
"    Raio da borda: 50%;\n",
"    posição: relativa;\n",
"    posição: relativa;\n",
"    opacidade: 0;\n",
"    transição: 2s;\n",
"    Função de tempo de transição: facilidade;\n",
"}\n",
"\n",
"seção {\n",
"    display: flex;\n",
"    gap: 16px;\n",
"    justify-content: center;\n",
"    itens de alinhamento: centro;\n",
"}\n",
"\n",
"section:hover .pulser {\n",
"    opacidade: 1;\n",
"}\n",
"\n",
".pulser:first-child {\n",
"    atraso de transição: 0s;\n",
"}\n",
"\n",
".pulser:nth-child(2) {\n",
"    atraso de transição: 300 ms;\n",
"}\n",
"\n",
".pulser:last-child {\n",
"    Atraso de transição: 600 ms;\n",
"}\n",
"```"
      ]
    },
{
      "cell_type": "markdown",
      "metadata": {},
      "source": [
      "Em [easings.co](https://easings.co/), podemos visualizar e configurar as transições"
      ]
    },
{
      "cell_type": "markdown",
      "metadata": {},
      "source": [
      "#### Tudo em uma única linha"
      ]
    },
{
      "cell_type": "markdown",
      "metadata": {},
      "source": [
      "Em `.pulser`, colocamos `transition` e `transitio-timing-function`, mas também podemos colocar tudo em uma única linha\n",
"\n",
"````css\n",
".pulser {\n",
"    largura: 30px;\n",
"    altura: 30px;\n",
"    Cor de fundo: #09f;\n",
"    Raio da borda: 50%;\n",
"    posição: relativa;\n",
"    Transição: plano de fundo 300ms com facilidade de entrada e saída 2s;\n",
"}\n",
"```\n",
"\n",
"Com isso, o que dissemos a ele foi para animar o `background` por 300 ms, com uma transição suave no início e no final, e esperar 2 segundos antes de iniciar a transição.\n",
"\n",
"Se quisermos especificar vários elementos, podemos fazer isso da seguinte maneira\n",
"\n",
"````css\n",
".pulser {\n",
"    largura: 30px;\n",
"    altura: 30px;\n",
"    Cor de fundo: #09f;\n",
"    Raio da borda: 50%;\n",
"    posição: relativa;\n",
"    transição: plano de fundo 300ms com facilidade de entrada e saída de 2s, escala 1s com facilidade de entrada e saída de 1s;\n",
"}\n",
"```"
      ]
    },
{
      "cell_type": "markdown",
      "metadata": {},
      "source": [
      "#### O que fazer na transição?"
      ]
    },
{
      "cell_type": "markdown",
      "metadata": {},
      "source": [
      "Quando se trata de transições, você pode pesquisar o que pode ser transicionado em [Animatable CSS properties] (https://developer.mozilla.org/en-US/docs/Web/CSS/CSS_animated_properties), mas, para não perder tempo pesquisando, o melhor a fazer é transicionar as propriedades com um cabeçalho, por exemplo, algo que pode ser transicionado é uma cor, um tamanho etc.\n",
"\n",
"O ideal é fazer a transição de propriedades com estados intermediários, por exemplo, uma fonte não tem estado intermediário e não faz sentido fazer a transição de uma fonte para outra."
      ]
    },
{
      "cell_type": "markdown",
      "metadata": {},
      "source": [
      "#### Transições diferentes no início e no final"
      ]
    },
{
      "cell_type": "markdown",
      "metadata": {},
      "source": [
      "Dissemos anteriormente que você deve colocar as transições no elemento e não no hover, pois dessa forma a transição só será vista quando você colocar o mouse sobre o elemento e não quando remover o mouse. Se quiser ter animações diferentes no início e no final, você pode tirar proveito disso. No elemento, colocaremos a transição final e, no hover, a inicial.\n",
"\n",
"````css\n",
".pulser {\n",
"    largura: 30px;\n",
"    altura: 30px;\n",
"    Cor de fundo: #09f;\n",
"    Raio da borda: 50%;\n",
"    posição: relativa;\n",
"    Transição: plano de fundo 300ms com facilidade de entrada e saída\n",
"}\n",
"\n",
".pulser:hover {\n",
"    escala: 2;\n",
"    Fundo: roxo;\n",
"    box-shadow: 0 0 10px purple;\n",
"    transição: 1s;\n",
"    transição-duração: 1s;\n",
"}\n",
"```\n",
"\n",
"Dessa forma, quando passarmos o mouse sobre o elemento, haverá uma transição de 300 ms e, quando removermos o mouse, a transição será de 1 segundo."
      ]
    },
{
      "cell_type": "markdown",
      "metadata": {},
      "source": [
      "#### Acessibilidade"
      ]
    },
{
      "cell_type": "markdown",
      "metadata": {},
      "source": [
      "Algumas pessoas podem ficar tontas com as transições, portanto, podemos adicionar uma consulta de mídia para removê-las.\n",
"\n",
"````css\n",
"@media (prefers-reduced-motion: reduce) {\n",
"    .pulser {\n",
"        transição: nenhuma;\n",
"    }\n",
"}\n",
"```"
      ]
    },
{
      "cell_type": "markdown",
      "metadata": {},
      "source": [
      "### Animações"
      ]
    },
{
      "cell_type": "markdown",
      "metadata": {},
      "source": [
      "As transições são as animações quando interagimos com os elementos, mas nas animações não precisamos interagir com o elemento, elas podem ser executadas sozinhas. Por exemplo, o típico botão que muda de tempos em tempos se move para que você saiba que precisa clicar nele."
      ]
    },
{
      "cell_type": "markdown",
      "metadata": {},
      "source": [
      "#### Keyframes"
      ]
    },
{
      "cell_type": "markdown",
      "metadata": {},
      "source": [
      "Voltamos ao exemplo da bola azul e removemos todas as transições.\n",
"\n",
"````html\n",
"<div class=\"pulser\"></div>\n",
"```\n",
"\n",
"````css\n",
".pulser {\n",
"    largura: 30px;\n",
"    altura: 30px;\n",
"    Cor de fundo: #09f;\n",
"    Raio da borda: 50%;\n",
"}\n",
"```"
      ]
    },
{
      "cell_type": "markdown",
      "metadata": {},
      "source": [
      "Temos que informar ao CSS que queremos fazer uma animação. Para isso, usamos `@keyframes` e damos um nome à animação\n",
"\n",
"````css\n",
"@keyframes move {\n",
"}\n",
"```\n",
"\n",
"Agora temos que dizer a ele de onde esse quadro começa, para isso usamos `from` e onde ele termina, para isso usamos `to`.\n",
"\n",
"````css\n",
"@keyframes move {\n",
"    de {\n",
"    }\n",
"    para {\n",
"    }\n",
"}\n",
"```\n",
"\n",
"Agora temos que informar quais propriedades queremos alterar, por exemplo, a posição\n",
"\n",
"````css\n",
"@keyframes move {\n",
"    de {\n",
"        transform: translateX(0);\n",
"    }\n",
"    para {\n",
"        transform: translateX(100px);\n",
"    }\n",
"}\n",
"```\n",
"\n",
"Dessa forma, quando entrarmos na página, a bola azul se moverá 100px para a direita."
      ]
    },
{
      "cell_type": "markdown",
      "metadata": {},
      "source": [
      "#### Depois"
      ]
    },
{
      "cell_type": "markdown",
      "metadata": {},
      "source": [
      "Em um elemento, você pode colocar um `after`, que é um elemento colocado após o elemento principal.\n",
"\n",
"````html\n",
"<div class=\"pulser\"></div>\n",
"```\n",
"\n",
"````css\n",
".pulser {\n",
"    largura: 30px;\n",
"    altura: 30px;\n",
"    Cor de fundo: azul;\n",
"    Raio da borda: 50%;\n",
"}\n",
"\n",
".pulser::after {\n",
"    conteúdo: '';\n",
"    posição: absoluta;\n",
"    Largura: 100%;\n",
"    Altura: 100%;\n",
"    topo: 0;\n",
"    esquerda: 0;\n",
"    Cor de fundo: azul;\n",
"    Raio da borda: 50%;\n",
"    z-index: -1;\n",
"}\n",
"```\n",
"\n",
"O que isso faz é colocar um círculo azul atrás do círculo azul, de modo que agora temos dois círculos azuis.\n",
"\n",
"Agora, definimos os quadros-chave\n",
"\n",
"````css\n",
"@keyframes move {\n",
"    0% {\n",
"        opacidade: 0;\n",
"    }\n",
"    50% {\n",
"        escala: 1,5;\n",
"        opacidade: 40%;\n",
"    }\n",
"    100% {\n",
"        opacidade: 60%;\n",
"    }\n",
"}\n",
"```\n",
"\n",
"E como já definimos os quadros-chave, agora só precisamos informar ao CSS que queremos que a animação seja executada.\n",
"\n",
"````css\n",
".pulser::after {\n",
"    conteúdo: '';\n",
"    posição: absoluta;\n",
"    Largura: 100%;\n",
"    Altura: 100%;\n",
"    topo: 0;\n",
"    esquerda: 0;\n",
"    Cor de fundo: azul;\n",
"    Raio da borda: 50%;\n",
"    z-index: -1;\n",
"    \n",
"    nome da animação: pulse;\n",
"    Animação-duração: 2s;\n",
"    Função de temporização de animação: ease-in-out;\n",
"}\n",
"```\n",
"\n",
"Agora, quando a página for carregada, parecerá que o círculo azul tem um batimento cardíaco."
      ]
    },
{
      "cell_type": "markdown",
      "metadata": {},
      "source": [
      "Mas isso só acontece uma vez. Para que isso aconteça mais vezes, precisamos adicionar `animation-iteration-count`.\n",
"\n",
"````css\n",
".pulser::after {\n",
"    conteúdo: '';\n",
"    posição: absoluta;\n",
"    Largura: 100%;\n",
"    Altura: 100%;\n",
"    topo: 0;\n",
"    esquerda: 0;\n",
"    Cor de fundo: azul;\n",
"    Raio da borda: 50%;\n",
"    z-index: -1;\n",
"    \n",
"    nome da animação: pulse;\n",
"    Animação-duração: 2s;\n",
"    Função de temporização de animação: ease-in-out;\n",
"    Animation-iteration-count: infinito;\n",
"}\n",
"```\n",
"\n",
"Agora isso acontecerá infinitas vezes"
      ]
    },
{
      "cell_type": "markdown",
      "metadata": {},
      "source": [
      "#### Movimento"
      ]
    },
{
      "cell_type": "markdown",
      "metadata": {},
      "source": [
      "Podemos fazer um elemento se mover\n",
"\n",
"````html\n",
"<div class=\"pulser\"></div>\n",
"```\n",
"\n",
"````css\n",
".pulser {\n",
"    largura: 30px;\n",
"    altura: 30px;\n",
"    Cor de fundo: azul;\n",
"    Raio da borda: 50%;\n",
"    posição: relativa;\n",
"}\n",
"\n",
".pulser::after {\n",
"    conteúdo: '';\n",
"    posição: absoluta;\n",
"    Largura: 100%;\n",
"    Altura: 100%;\n",
"    topo: 0;\n",
"    esquerda: 0;\n",
"    Cor de fundo: azul;\n",
"    Raio da borda: 50%;\n",
"    z-index: -1;\n",
"    \n",
"    nome da animação: move;\n",
"    Animação-duração: 2s;\n",
"    Animation-iteration-count: infinito;\n",
"    Animation-timing-function: linear;\n",
"}\n",
"\n",
"@keyframes move {\n",
"    de {\n",
"        trasnform: translateX(0);\n",
"    }\n",
"    para {\n",
"        transform: translateX(100px);\n",
"    }\n",
"}\n",
"```\n",
"\n",
"\n",
"Agora a bola azul se moverá 100px para a direita."
      ]
    },
{
      "cell_type": "markdown",
      "metadata": {},
      "source": [
      "#### Endereço"
      ]
    },
{
      "cell_type": "markdown",
      "metadata": {},
      "source": [
      "Para fazer com que a bola azul se mova para a esquerda, basta usar `animation-direction: reverse`.\n",
"\n",
"````css\n",
".pulser::after {\n",
"    conteúdo: '';\n",
"    posição: absoluta;\n",
"    Largura: 100%;\n",
"    Altura: 100%;\n",
"    topo: 0;\n",
"    esquerda: 0;\n",
"    Cor de fundo: azul;\n",
"    Raio da borda: 50%;\n",
"    z-index: -1;\n",
"    \n",
"    nome da animação: move;\n",
"    Animação-duração: 2s;\n",
"    Animation-iteration-count: infinito;\n",
"    Animation-timing-function: linear;\n",
"    Animation-direction: reverse;\n",
"}\n",
"```"
      ]
    },
{
      "cell_type": "markdown",
      "metadata": {},
      "source": [
      "Se você quiser que a bola vá de um lado para o outro, deverá colocar `animation-direction: alternate`.\n",
"\n",
"````css\n",
".pulser::after {\n",
"    conteúdo: '';\n",
"    posição: absoluta;\n",
"    Largura: 100%;\n",
"    Altura: 100%;\n",
"    topo: 0;\n",
"    esquerda: 0;\n",
"    Cor de fundo: azul;\n",
"    Raio da borda: 50%;\n",
"    z-index: -1;\n",
"    \n",
"    nome da animação: move;\n",
"    Animação-duração: 2s;\n",
"    Animation-iteration-count: infinito;\n",
"    Animation-timing-function: linear;\n",
"    Direção da animação: alternada;\n",
"}\n",
"```"
      ]
    },
{
      "cell_type": "markdown",
      "metadata": {},
      "source": [
      "#### Animações de pausa"
      ]
    },
{
      "cell_type": "markdown",
      "metadata": {},
      "source": [
      "Imagine que você tenha cartões com animações, talvez queira interromper a animação quando passar o mouse sobre o cartão. Para isso, podemos usar `animation-play-state: paused`.\n",
"\n",
"````css\n",
".card:hover {\n",
"    animation-play-state: pausado;\n",
"}\n",
"```"
      ]
    },
{
      "cell_type": "markdown",
      "metadata": {},
      "source": [
      "#### Aninhamento de CSS"
      ]
    },
{
      "cell_type": "markdown",
      "metadata": {},
      "source": [
      "Declaramos no CSS as propriedades do pulsador e as propriedades ao passar o mouse, mas você pode fazer tudo junto\n",
"\n",
"````css\n",
".pulser {\n",
"    largura: 30px;\n",
"    altura: 30px;\n",
"    Cor de fundo: azul;\n",
"    Raio da borda: 50%;\n",
"    posição: relativa;\n",
"    \n",
"    &::after {\n",
"        conteúdo: '';\n",
"        posição: absoluta;\n",
"        Largura: 100%;\n",
"        Altura: 100%;\n",
"        topo: 0;\n",
"        esquerda: 0;\n",
"        Cor de fundo: azul;\n",
"        Raio da borda: 50%;\n",
"        z-index: -1;\n",
"        \n",
"        nome da animação: move;\n",
"        Animação-duração: 2s;\n",
"        Animation-iteration-count: infinito;\n",
"        Animation-timing-function: linear;\n",
"        Direção da animação: alternada;\n",
"    }\n",
"    \n",
"    &:hover::after {\n",
"        animation-play-state: pausado;\n",
"    }\n",
"}\n",
"```"
      ]
    },
{
      "cell_type": "markdown",
      "metadata": {},
      "source": [
      "#### Como finalizar animações"
      ]
    },
{
      "cell_type": "markdown",
      "metadata": {},
      "source": [
      "Se tivermos uma animação que só é executada uma vez, por exemplo, a bola azul se move para a direita, quando a animação terminar, ela voltará à sua posição inicial. Para evitar isso, você pode usar `animation-fill-mode: forwards`.\n",
"\n",
"````css\n",
".pulser::after {\n",
"    conteúdo: '';\n",
"    posição: absoluta;\n",
"    Largura: 100%;\n",
"    Altura: 100%;\n",
"    topo: 0;\n",
"    esquerda: 0;\n",
"    Cor de fundo: azul;\n",
"    Raio da borda: 50%;\n",
"    z-index: -1;\n",
"    \n",
"    nome da animação: move;\n",
"    Animação-duração: 2s;\n",
"    Animation-timing-function: linear;\n",
"    Direção da animação: alternada;\n",
"    Modo de preenchimento de animação: para frente;\n",
"}\n",
"```\n",
"\n",
"Dessa forma, quando a animação terminar, a bola azul permanecerá em sua posição final.\n",
"\n",
"Se, em vez de \"para frente\", colocarmos \"para trás\", a animação começará a partir do estado final.\n",
"\n",
"Se definirmos `both`, a animação começará a partir do estado final e terminará no estado final."
      ]
    },
{
      "cell_type": "markdown",
      "metadata": {},
      "source": [
      "#### Tudo em uma única linha"
      ]
    },
{
      "cell_type": "markdown",
      "metadata": {},
      "source": [
      "Temos várias propriedades (`animation-name`, `animation-duration`, `animation-timing-function`, `animation-direction`, `animation-fill-mode`), mas todas elas podem ser colocadas em uma única linha. Todas as opções acima poderiam ser colocadas da seguinte forma\n",
"\n",
"````css\n",
".pulser::after {\n",
"    conteúdo: '';\n",
"    posição: absoluta;\n",
"    Largura: 100%;\n",
"    Altura: 100%;\n",
"    topo: 0;\n",
"    esquerda: 0;\n",
"    Cor de fundo: azul;\n",
"    Raio da borda: 50%;\n",
"    z-index: -1;\n",
"    \n",
"    animação: movimento 2s linear alternado para frente;\n",
"}\n",
"```"
      ]
    },
{
      "cell_type": "markdown",
      "metadata": {},
      "source": [
      "Podemos criar várias animações\n",
"\n",
"````css\n",
".pulser::after {\n",
"    conteúdo: '';\n",
"    posição: absoluta;\n",
"    Largura: 100%;\n",
"    Altura: 100%;\n",
"    topo: 0;\n",
"    esquerda: 0;\n",
"    Cor de fundo: azul;\n",
"    Raio da borda: 50%;\n",
"    z-index: -1;\n",
"    \n",
"    animação:\n",
"        mover 2s lineares alternados para frente,\n",
"        ampliar 1s linear 2s ambos;\n",
"}\n",
"```\n",
"\n",
"Mas como não há animação \"agregada\", nós a criamos com keyframes.\n",
"\n",
"````css\n",
"@keyframes enlarge {\n",
"    0% {\n",
"        transformar: escala: 1;\n",
"    }\n",
"    25% {\n",
"        transformar: escala: 1,5;\n",
"    }\n",
"    50% {\n",
"        transformar: escala: 2;\n",
"    }\n",
"    75% {\n",
"        transformar: escala: 1,6;\n",
"    }\n",
"    100% {\n",
"        transformar: escala: 2;\n",
"    }\n",
"}\n",
"```\n",
"\n",
"Elas serão reproduzidas uma após a outra, porque um atraso de 2 segundos foi adicionado à ampliação, que é o tempo de duração da primeira animação, mas se quisermos que elas sejam reproduzidas ao mesmo tempo, teremos que remover o atraso.\n",
"\n",
"````css\n",
".pulser::after {\n",
"    conteúdo: '';\n",
"    posição: absoluta;\n",
"    Largura: 100%;\n",
"    Altura: 100%;\n",
"    topo: 0;\n",
"    esquerda: 0;\n",
"    Cor de fundo: azul;\n",
"    Raio da borda: 50%;\n",
"    z-index: -1;\n",
"    \n",
"    animação:\n",
"        mover 2s lineares alternados para frente,\n",
"        ampliar 1s linear ambos;\n",
"}\n",
"```"
      ]
    },
{
      "cell_type": "markdown",
      "metadata": {},
      "source": [
      "#### Animações com rolagem"
      ]
    },
{
      "cell_type": "markdown",
      "metadata": {},
      "source": [
      "##### Exemplo de uma barra de progresso"
      ]
    },
{
      "cell_type": "markdown",
      "metadata": {},
      "source": [
      "Por exemplo, se quisermos criar uma barra que aumenta de tamanho à medida que rolamos a página para baixo\n",
"\n",
"````html\n",
"<section>\n",
"    <div id=\"bar\"></div>\n",
"    <p>Lorem ipsum dolor sit amet, consectetur adipiscing elit\n",
"    </p>\n",
"    <p>Lorem ipsum dolor sit amet, consectetur adipiscing elit\n",
"    </p>\n",
"    <p>Lorem ipsum dolor sit amet, consectetur adipiscing elit\n",
"    </p>\n",
"    <p>Lorem ipsum dolor sit amet, consectetur adipiscing elit\n",
"    </p>\n",
"    <p>Lorem ipsum dolor sit amet, consectetur adipiscing elit\n",
"    </p>\n",
"    <p>Lorem ipsum dolor sit amet, consectetur adipiscing elit\n",
"    </p>\n",
"    <p>Lorem ipsum dolor sit amet, consectetur adipiscing elit\n",
"    </p>\n",
"</section>\n",
"```\n",
"\n",
"````css\n",
"seção {\n",
"    display: flex;\n",
"    flex-direction: column;\n",
"    alinhar itens: centro;\n",
"    justify-content: center;\n",
"    altura: 100vh;\n",
"}\n",
"\n",
"#barra {\n",
"    Posição: fixa;\n",
"    topo: 0;\n",
"    largura: 0%;\n",
"    Cor de fundo: vermelho;\n",
"    altura: 1em;\n",
"\n",
"    animação: barra-grow auto linear;\n",
"    animation-timeline: scroll(root block);\n",
"}\n",
"\n",
"@keyframes slash-grow {\n",
"    de {\n",
"        largura: 0%;\n",
"    }\n",
"    de {\n",
"        Largura: 100%;\n",
"    }\n",
"}\n",
"```\n",
"\n",
"Como em `animation`, colocamos um tempo `auto` para saber quanto tempo a animação deve durar, o navegador examinará `animation-timeline`, onde informamos que ele deve examinar o scroll. Dentro da função `scroll`, informamos a ele qual elemento deve ser observado. No nosso caso, colocamos `rootp` porque queremos a rolagem da página, mas poderíamos colocar qualquer outro elemento da página. Além disso, temos que informar se queremos que a rolagem seja fixa na vertical ou na horizontal. No nosso caso, colocamos `block` porque queremos que a rolagem seja fixa na vertical (`block` é o valor padrão, portanto, se você quiser, não precisa colocá-lo)."
      ]
    },
{
      "cell_type": "markdown",
      "metadata": {},
      "source": [
      "##### Exemplo de um cabeçalho que muda de cor"
      ]
    },
{
      "cell_type": "markdown",
      "metadata": {},
      "source": [
      "Se quisermos que o cabeçalho mude de cor quando rolarmos a página para baixo\n",
"\n",
"````html\n",
"<cabeçalho>\n",
"    <nav>\n",
"        <ul>\n",
"            <li>Home</li>\n",
"            <li>Sobre</li>\n",
"            <li>Contato</li>\n",
"        </ul>\n",
"    </nav>\n",
"</header>\n",
"```\n",
"\n",
"````css\n",
"cabeçalho {\n",
"    position: sticky;\n",
"    topo: 0;\n",
"    Largura: 100%;\n",
"    Cor de fundo: branco;\n",
"    box-shadow: 0 0 10px rgba(0, 0, 0, 0, 0, 0.1);\n",
"    z-index: 2;\n",
"\n",
"    animação: header-color linear both;\n",
"    animation-timeline: scroll(root block);\n",
"}\n",
"\n",
"@keyframes header-color {\n",
"    de {\n",
"        Cor de fundo: branco;\n",
"    }\n",
"    para {\n",
"        Cor de fundo: cinza;\n",
"        filtro de plano de fundo: blur(5px);\n",
"        Cor: branco;\n",
"    }\n",
"}\n",
"```"
      ]
    },
{
      "cell_type": "markdown",
      "metadata": {},
      "source": [
      "Mas, ao fazer isso, a animação do cabeçalho termina apenas quando você chega ao final da página, mas queremos que ela termine quando você tiver feito alguma rolagem, portanto, removemos o `both` da `animation` e colocamos `animation-range: 0 200px` para que a animação termine quando você tiver feito uma rolagem de 200px, ou seja, estamos dizendo que a animação vai de 0 px a 200 px.\n",
"\n",
"````css\n",
"cabeçalho {\n",
"    position: sticky;\n",
"    topo: 0;\n",
"    Largura: 100%;\n",
"    Cor de fundo: branco;\n",
"    box-shadow: 0 0 10px rgba(0, 0, 0, 0, 0, 0.1);\n",
"    z-index: 2;\n",
"\n",
"    animação: header-color linear;\n",
"    Linha do tempo da animação: scroll(root);\n",
"    Animação: 0 200px;\n",
"}\n",
"```"
      ]
    },
{
      "cell_type": "markdown",
      "metadata": {},
      "source": [
      "##### Exemplo de uma galeria de imagens"
      ]
    },
{
      "cell_type": "markdown",
      "metadata": {},
      "source": [
      "Vamos imaginar que temos muitas imagens e queremos que elas sejam percorridas à medida que rolamos a tela.\n",
"\n",
"````html\n",
"<section>\n",
"    <img src=\"img1.jpg\" alt=\"image 1\">\n",
"    <img src=\"img2.jpg\" alt=\"image 2\">\n",
"    <img src=\"img3.jpg\" alt=\"image 3\">\n",
"    <img src=\"img4.jpg\" alt=\"image 4\">\n",
"    <img src=\"img5.jpg\" alt=\"image 5\">\n",
"    <img src=\"img6.jpg\" alt=\"image 6\">\n",
"    <img src=\"img7.jpg\" alt=\"image 7\">\n",
"    <img src=\"img8.jpg\" alt=\"image 8\">\n",
"    <img src=\"img9.jpg\" alt=\"image 9\">\n",
"    <img src=\"img10.jpg\" alt=\"image 10\">\n",
"</section>\n",
"```\n",
"\n",
"````css\n",
"seção {\n",
"    exibição: grade;\n",
"    grid-template-columns: repeat(auto-fill, minmax(300px, 1fr));\n",
"    gap: 16px;\n",
"}\n",
"\n",
"img {\n",
"    Largura: 100%;\n",
"    altura: automática;\n",
"    opacidade: 0;\n",
"    animação: aparecem lineares em ambos os casos;\n",
"    Linha do tempo da animação: view()\n",
"    faixa de animação: entrada 20% cobertura 30%;\n",
"}\n",
"\n",
"@keyframes aparecem {\n",
"    de {\n",
"        opacidade: 0;\n",
"    }\n",
"    para {\n",
"        opacidade: 1;\n",
"    }\n",
"}\n",
"```\n",
"\n",
"Com `animation-timeline: view()` estamos dizendo para fazer a animação quando a imagem estiver visível na tela e com `animation-range: entry 20% cover 30%` estamos dizendo para iniciar a animação quando a imagem ocupar 20% da tela e terminar quando ocupar 30% da tela.\n",
"\n",
"Ao definir `both` em `animation`, estamos dizendo que a animação é feita tanto quando a imagem aparece quanto quando ela desaparece, ou seja, quando a imagem aparece, a animação é vista, mas quando ela desaparece, a animação também é vista, mas de forma inversa, ou seja, a imagem tem uma opacidade de 1 a 0 pouco a pouco."
      ]
    }
  ],
  "metadata": {
    "language_info": {
      "name": "python"
    }
  },
  "nbformat": 4,
  "nbformat_minor": 2
}
