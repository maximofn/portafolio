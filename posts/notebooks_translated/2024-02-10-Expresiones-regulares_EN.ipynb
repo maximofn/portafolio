{
  "cells": [
  {
      "cell_type": "markdown",
      "metadata": {},
      "source": [
      "# Regular expressions"
      ]
    },
{
      "cell_type": "code",
      "execution_count": 1,
      "metadata": {},
      "outputs": [],
      "source": [
      "import re"
      ]
    },
{
      "cell_type": "markdown",
      "metadata": {},
      "source": [
      "This notebook has been automatically translated to make it accessible to more people, please let me know if you see any typos.\n",
"\n",
"## Methods"
      ]
    },
{
      "cell_type": "markdown",
      "metadata": {},
      "source": [
      "### Findall"
      ]
    },
{
      "cell_type": "markdown",
      "metadata": {},
      "source": [
      "With the `findall()` method we can find all matches of a pattern in a string"
      ]
    },
{
      "cell_type": "code",
      "execution_count": 2,
      "metadata": {},
      "outputs": [
      {
          "name": "stdout",
          "output_type": "stream",
          "text": [
          "['Hola, soy']\n"
          ]
        }
      ],
      "source": [
      "string = \"Hola, soy un string\"\n",
"print(re.findall(\"Hola, soy\", string))"
      ]
    },
{
      "cell_type": "markdown",
      "metadata": {},
      "source": [
      "### Search"
      ]
    },
{
      "cell_type": "markdown",
      "metadata": {},
      "source": [
      "But if we want to find the position where a pattern is located, we can use the `search()` method to search for a pattern in a string. This method returns a Match object if it finds a match, otherwise it returns None."
      ]
    },
{
      "cell_type": "code",
      "execution_count": 3,
      "metadata": {},
      "outputs": [
      {
          "name": "stdout",
          "output_type": "stream",
          "text": [
          "<re.Match object; span=(6, 9), match='soy'>\n"
          ]
        }
      ],
      "source": [
      "print(re.search(\"soy\", string))"
      ]
    },
{
      "cell_type": "markdown",
      "metadata": {},
      "source": [
      "### Match"
      ]
    },
{
      "cell_type": "markdown",
      "metadata": {},
      "source": [
      "We can also use the `match()` method that looks for the pattern **at the beginning** of the string."
      ]
    },
{
      "cell_type": "code",
      "execution_count": 6,
      "metadata": {},
      "outputs": [
      {
          "name": "stdout",
          "output_type": "stream",
          "text": [
          "<re.Match object; span=(0, 4), match='Hola'>\n",
"None\n"
          ]
        }
      ],
      "source": [
      "print(re.match(\"Hola\", string))\n",
"print(re.match(\"soy\", string))"
      ]
    },
{
      "cell_type": "markdown",
      "metadata": {},
      "source": [
      "### Span"
      ]
    },
{
      "cell_type": "markdown",
      "metadata": {},
      "source": [
      "If we want to get the position of the match, we can use the `span()` method which returns a tuple with the start and end position of the match."
      ]
    },
{
      "cell_type": "code",
      "execution_count": 47,
      "metadata": {},
      "outputs": [
      {
          "name": "stdout",
          "output_type": "stream",
          "text": [
          "(0, 4)\n"
          ]
        }
      ],
      "source": [
      "print(re.match(\"Hola\", string).span())"
      ]
    },
{
      "cell_type": "markdown",
      "metadata": {},
      "source": [
      "### Group"
      ]
    },
{
      "cell_type": "markdown",
      "metadata": {},
      "source": [
      "Knowing the position of the match, we can use the `group()` method to get the substring that matches the pattern."
      ]
    },
{
      "cell_type": "code",
      "execution_count": 49,
      "metadata": {},
      "outputs": [
      {
          "name": "stdout",
          "output_type": "stream",
          "text": [
          "Hola\n"
          ]
        }
      ],
      "source": [
      "print(re.match(\"Hola\", string).group())"
      ]
    },
{
      "cell_type": "markdown",
      "metadata": {},
      "source": [
      "We could also use the start and end of the match to make a slice of the string."
      ]
    },
{
      "cell_type": "code",
      "execution_count": 51,
      "metadata": {},
      "outputs": [
      {
          "name": "stdout",
          "output_type": "stream",
          "text": [
          "Hola\n"
          ]
        }
      ],
      "source": [
      "start, end = re.match(\"Hola\", string).span()\n",
"print(string[start:end])"
      ]
    },
{
      "cell_type": "markdown",
      "metadata": {},
      "source": [
      "### Split"
      ]
    },
{
      "cell_type": "markdown",
      "metadata": {},
      "source": [
      "With the `split()` method we can split a string into a list of substrings using a pattern as a separator."
      ]
    },
{
      "cell_type": "code",
      "execution_count": 7,
      "metadata": {},
      "outputs": [
      {
          "name": "stdout",
          "output_type": "stream",
          "text": [
          "['Hola, ', ' un string']\n"
          ]
        }
      ],
      "source": [
      "split = re.split(\"soy\", string)\n",
"print(split)"
      ]
    },
{
      "cell_type": "markdown",
      "metadata": {},
      "source": [
      "The sentence has been divided into two strings using \"soy\" as separator."
      ]
    },
{
      "cell_type": "markdown",
      "metadata": {},
      "source": [
      "### Sub"
      ]
    },
{
      "cell_type": "markdown",
      "metadata": {},
      "source": [
      "With the `sub()` method we can replace all matches of a pattern with another substring."
      ]
    },
{
      "cell_type": "code",
      "execution_count": 8,
      "metadata": {},
      "outputs": [
      {
          "name": "stdout",
          "output_type": "stream",
          "text": [
          "Hola, eres un string\n"
          ]
        }
      ],
      "source": [
      "sub = re.sub(\"soy\", \"eres\", string)\n",
"print(sub)"
      ]
    },
{
      "cell_type": "markdown",
      "metadata": {},
      "source": [
      "It has replaced all \"I am\" matches with \"you are\"."
      ]
    },
{
      "cell_type": "markdown",
      "metadata": {},
      "source": [
      "## Patterns"
      ]
    },
{
      "cell_type": "markdown",
      "metadata": {},
      "source": [
      "### The `.` character"
      ]
    },
{
      "cell_type": "markdown",
      "metadata": {},
      "source": [
      "With the `.` character we can search for any character, any character in our string will be found."
      ]
    },
{
      "cell_type": "code",
      "execution_count": 2,
      "metadata": {},
      "outputs": [
      {
          "name": "stdout",
          "output_type": "stream",
          "text": [
          "['H', 'o', 'l', 'a', ',', ' ', 's', 'o', 'y', ' ', 'u', 'n', ' ', 's', 't', 'r', 'i', 'n', 'g']\n"
          ]
        }
      ],
      "source": [
      "string = \"Hola, soy un string\"\n",
"print(re.findall(\".\", string))"
      ]
    },
{
      "cell_type": "markdown",
      "metadata": {},
      "source": [
      "If for example we want sequences of two characters we would search with two `.`s followed by `."
      ]
    },
{
      "cell_type": "code",
      "execution_count": 3,
      "metadata": {},
      "outputs": [
      {
          "name": "stdout",
          "output_type": "stream",
          "text": [
          "['Ho', 'la', ', ', 'so', 'y ', 'un', ' s', 'tr', 'in']\n",
"['Ho', 'la', ', ', 'so', 'y ', 'un', ' s', 'tr', 'in', 'g2']\n"
          ]
        }
      ],
      "source": [
      "string1 = \"Hola, soy un string\"\n",
"string2 = \"Hola, soy un string2\"\n",
"print(re.findall(\"..\", string1))\n",
"print(re.findall(\"..\", string2))"
      ]
    },
{
      "cell_type": "markdown",
      "metadata": {},
      "source": [
      "As we can see `string1` has an odd number of characters, so the last `g` is not taken, but `string2` has an even number of characters, so it takes all characters."
      ]
    },
{
      "cell_type": "markdown",
      "metadata": {},
      "source": [
      "Let's look at this another way, let's change each sequence of three characters by a `$` symbol."
      ]
    },
{
      "cell_type": "code",
      "execution_count": 4,
      "metadata": {},
      "outputs": [
      {
          "name": "stdout",
          "output_type": "stream",
          "text": [
          "Hola, soy un string\n",
"$  $  $  $  $  $  g\n"
          ]
        }
      ],
      "source": [
      "print(string1)\n",
"print(re.sub(\"...\", \"$  \", string1))"
      ]
    },
{
      "cell_type": "markdown",
      "metadata": {},
      "source": [
      "I have printed two spaces after each `$` so that you can see the change, you can see how the last character does not convert it."
      ]
    },
{
      "cell_type": "markdown",
      "metadata": {},
      "source": [
      "### Predefined and constructed classes"
      ]
    },
{
      "cell_type": "markdown",
      "metadata": {},
      "source": [
      "#### Digit"
      ]
    },
{
      "cell_type": "markdown",
      "metadata": {},
      "source": [
      "If we want to find the digits we need to use `d`."
      ]
    },
{
      "cell_type": "code",
      "execution_count": 5,
      "metadata": {},
      "outputs": [
      {
          "name": "stdout",
          "output_type": "stream",
          "text": [
          "['1', '2', '3']\n"
          ]
        }
      ],
      "source": [
      "string = \"Hola, soy un string con 123 digitos\"\n",
"print(re.findall(\"\\d\", string))"
      ]
    },
{
      "cell_type": "markdown",
      "metadata": {},
      "source": [
      "As before, if for example we want two digits, we put `d` twice"
      ]
    },
{
      "cell_type": "code",
      "execution_count": 6,
      "metadata": {},
      "outputs": [
      {
          "name": "stdout",
          "output_type": "stream",
          "text": [
          "['12']\n"
          ]
        }
      ],
      "source": [
      "print(re.findall(\"\\d\\d\", string))"
      ]
    },
{
      "cell_type": "markdown",
      "metadata": {},
      "source": [
      "#### Letter"
      ]
    },
{
      "cell_type": "markdown",
      "metadata": {},
      "source": [
      "If we want to find letters we need to use `w`. Word` means all letters from `a` to `z`, from `A` to `Z`, numbers from `0` to `9` and `_`."
      ]
    },
{
      "cell_type": "code",
      "execution_count": 7,
      "metadata": {},
      "outputs": [
      {
          "name": "stdout",
          "output_type": "stream",
          "text": [
          "['H', 'o', 'l', 'a', 's', 'o', 'y', 'u', 'n', '_', 's', 't', 'r', 'i', 'n', 'g', 'c', 'o', 'n', '1', '2', '3', 'd', 'i', 'g', 'i', 't', 'o', 's']\n"
          ]
        }
      ],
      "source": [
      "string = \"Hola, soy un_string con, 123 digitos\"\n",
"print(re.findall(\"\\w\", string))"
      ]
    },
{
      "cell_type": "markdown",
      "metadata": {},
      "source": [
      "As we can see, it takes everything except the spaces and the comma."
      ]
    },
{
      "cell_type": "markdown",
      "metadata": {},
      "source": [
      "#### Spaces"
      ]
    },
{
      "cell_type": "markdown",
      "metadata": {},
      "source": [
      "If we want to find spaces we need `s"
      ]
    },
{
      "cell_type": "code",
      "execution_count": 8,
      "metadata": {},
      "outputs": [
      {
          "name": "stdout",
          "output_type": "stream",
          "text": [
          "Hola,*soy*un_string*con,*123*digitos\n"
          ]
        }
      ],
      "source": [
      "string = \"Hola, soy un_string con, 123 digitos\"\n",
"print(re.sub(\"\\s\", \"*\", string))"
      ]
    },
{
      "cell_type": "markdown",
      "metadata": {},
      "source": [
      "Regular expressions consider line breaks as spaces."
      ]
    },
{
      "cell_type": "code",
      "execution_count": 9,
      "metadata": {},
      "outputs": [
      {
          "name": "stdout",
          "output_type": "stream",
          "text": [
          "Hola,*soy*un*string**con*un*salto*de*línea\n"
          ]
        }
      ],
      "source": [
      "string = \"\"\"Hola, soy un string \n",
"con un salto de línea\"\"\"\n",
"print(re.sub(\"\\s\", \"*\", string))"
      ]
    },
{
      "cell_type": "markdown",
      "metadata": {},
      "source": [
      "#### Ranks"
      ]
    },
{
      "cell_type": "markdown",
      "metadata": {},
      "source": [
      "If we want to search a range we use `[]`, for example, if we want the numbers from 4 to 8 we use"
      ]
    },
{
      "cell_type": "code",
      "execution_count": 10,
      "metadata": {},
      "outputs": [
      {
          "name": "stdout",
          "output_type": "stream",
          "text": [
          "['4', '5', '6', '7', '8']\n"
          ]
        }
      ],
      "source": [
      "string = \"1234567890\"\n",
"print(re.findall(\"[4-8]\", string))"
      ]
    },
{
      "cell_type": "markdown",
      "metadata": {},
      "source": [
      "We can extend the search range"
      ]
    },
{
      "cell_type": "code",
      "execution_count": 11,
      "metadata": {},
      "outputs": [
      {
          "name": "stdout",
          "output_type": "stream",
          "text": [
          "['2', '3', '4', '5', '7', '8', '9']\n"
          ]
        }
      ],
      "source": [
      "string = \"1234567890\"\n",
"print(re.findall(\"[2-57-9]\", string))"
      ]
    },
{
      "cell_type": "markdown",
      "metadata": {},
      "source": [
      "If we also want to find a specific character, we enter the character followed by ``."
      ]
    },
{
      "cell_type": "code",
      "execution_count": 12,
      "metadata": {},
      "outputs": [
      {
          "name": "stdout",
          "output_type": "stream",
          "text": [
          "['2', '3', '4', '5', '7', '8', '9', '.']\n"
          ]
        }
      ],
      "source": [
      "string = \"1234567890.\"\n",
"print(re.findall(\"[2-57-9\\.]\", string))"
      ]
    },
{
      "cell_type": "markdown",
      "metadata": {},
      "source": [
      "#### Bracket `[` and bracket `]`"
      ]
    },
{
      "cell_type": "markdown",
      "metadata": {},
      "source": [
      "As we have seen, if we want to find ranges we use `[]`, but what if we want to find only the `[` or the `]`? For that we have to use `[]` and `[`]`."
      ]
    },
{
      "cell_type": "code",
      "execution_count": 13,
      "metadata": {},
      "outputs": [
      {
          "name": "stdout",
          "output_type": "stream",
          "text": [
          "['[']\n",
"[']']\n"
          ]
        }
      ],
      "source": [
      "string = \"[1234567890]\"\n",
"print(re.findall(\"\\[\", string))\n",
"print(re.findall(\"\\]\", string))"
      ]
    },
{
      "cell_type": "markdown",
      "metadata": {},
      "source": [
      "### Delimiters `+`, `*`, `?`, `?"
      ]
    },
{
      "cell_type": "markdown",
      "metadata": {},
      "source": [
      "#### Star `*` (none or all)"
      ]
    },
{
      "cell_type": "markdown",
      "metadata": {},
      "source": [
      "The `*` delimiter indicates that you want to search for none or all of them, not one by one as before."
      ]
    },
{
      "cell_type": "code",
      "execution_count": 14,
      "metadata": {},
      "outputs": [
      {
          "name": "stdout",
          "output_type": "stream",
          "text": [
          "['1', '2', '1', '2', '3']\n",
"['', '', '', '', '', '', '', '', '', '', '', '', '', '', '', '', '', '', '', '', '', '', '', '', '12', '', '123', '', '', '', '', '', '', '', '', '']\n"
          ]
        }
      ],
      "source": [
      "string = \"Hola, soy un string con 12 123 digitos\"\n",
"print(re.findall(\"\\d\", string))\n",
"print(re.findall(\"\\d*\", string))"
      ]
    },
{
      "cell_type": "markdown",
      "metadata": {},
      "source": [
      "As you can see, putting the `*` has found all the positions where there are zero characters or all characters"
      ]
    },
{
      "cell_type": "markdown",
      "metadata": {},
      "source": [
      "#### Plus `+` (one or more)"
      ]
    },
{
      "cell_type": "markdown",
      "metadata": {},
      "source": [
      "With the delimiter `+` you indicate that you want to search for one or more"
      ]
    },
{
      "cell_type": "code",
      "execution_count": 15,
      "metadata": {},
      "outputs": [
      {
          "name": "stdout",
          "output_type": "stream",
          "text": [
          "['1', '12', '123']\n"
          ]
        }
      ],
      "source": [
      "string = \"Hola, soy un string con 1 12 123 digitos\"\n",
"print(re.findall(\"\\d+\", string))"
      ]
    },
{
      "cell_type": "markdown",
      "metadata": {},
      "source": [
      "#### Optional `?` (zero or one)"
      ]
    },
{
      "cell_type": "markdown",
      "metadata": {},
      "source": [
      "The `?` delimiter indicates that you want to search for zero or one."
      ]
    },
{
      "cell_type": "code",
      "execution_count": 16,
      "metadata": {},
      "outputs": [
      {
          "name": "stdout",
          "output_type": "stream",
          "text": [
          "-H-o-l-a-,- -s-o-y- -u-n- -s-t-r-i-n-g- -c-o-n- -- --- ---- -d-i-g-i-t-o-s-\n"
          ]
        }
      ],
      "source": [
      "string = \"Hola, soy un string con 1 12 123 digitos\"\n",
"print(re.sub(\"\\d?\", \"-\", string))"
      ]
    },
{
      "cell_type": "markdown",
      "metadata": {},
      "source": [
      "### Counters"
      ]
    },
{
      "cell_type": "markdown",
      "metadata": {},
      "source": [
      "When we want to find something that appears x times we use the counters with the braces `{}`. For example, if we want to find a sequence in which there are at least two digits"
      ]
    },
{
      "cell_type": "code",
      "execution_count": 17,
      "metadata": {},
      "outputs": [
      {
          "name": "stdout",
          "output_type": "stream",
          "text": [
          "['12', '12', '12', '34', '12', '34']\n"
          ]
        }
      ],
      "source": [
      "string = \"Hola, soy un string con 1 12 123 1234 1234digitos\"\n",
"print(re.findall(\"\\d{2}\", string))"
      ]
    },
{
      "cell_type": "markdown",
      "metadata": {},
      "source": [
      "As you can see you have found the sequences `12` and `34`."
      ]
    },
{
      "cell_type": "markdown",
      "metadata": {},
      "source": [
      "The counters accept an upper and lower dimension `{inf, sup}`."
      ]
    },
{
      "cell_type": "code",
      "execution_count": 18,
      "metadata": {},
      "outputs": [
      {
          "name": "stdout",
          "output_type": "stream",
          "text": [
          "['12', '123', '1234', '1234']\n"
          ]
        }
      ],
      "source": [
      "string = \"Hola, soy un string con 1 12 123 1234 1234digitos\"\n",
"print(re.findall(\"\\d{2,5}\", string))"
      ]
    },
{
      "cell_type": "markdown",
      "metadata": {},
      "source": [
      "If the upper dimension is not defined, it means that you want at least the number of elements indicated, but with no upper limit."
      ]
    },
{
      "cell_type": "code",
      "execution_count": 19,
      "metadata": {},
      "outputs": [
      {
          "name": "stdout",
          "output_type": "stream",
          "text": [
          "['12', '123', '1234', '12345464168415641646451563416']\n"
          ]
        }
      ],
      "source": [
      "string = \"Hola, soy un string con 1 12 123 1234 12345464168415641646451563416 digitos\"\n",
"print(re.findall(\"\\d{2,}\", string))"
      ]
    },
{
      "cell_type": "markdown",
      "metadata": {},
      "source": [
      "If we want to use the notation of upper and lower dimension, but we want a fixed number, we have to put that number in both dimensions"
      ]
    },
{
      "cell_type": "code",
      "execution_count": 20,
      "metadata": {},
      "outputs": [
      {
          "name": "stdout",
          "output_type": "stream",
          "text": [
          "['12', '123', '123', '123', '454', '641', '684', '156', '416', '464', '515', '634', '16']\n"
          ]
        }
      ],
      "source": [
      "string = \"Hola, soy un string con 1 12 123 1234 12345464168415641646451563416 digitos\"\n",
"print(re.findall(\"\\d{2,3}\", string))"
      ]
    },
{
      "cell_type": "markdown",
      "metadata": {},
      "source": [
      "### Classes"
      ]
    },
{
      "cell_type": "markdown",
      "metadata": {},
      "source": [
      "You can create classes using `[]` brackets. Actually we saw that this was used for ranges, but, once you define what you want inside, you can consider it as a class and operate with the `[]`."
      ]
    },
{
      "cell_type": "markdown",
      "metadata": {},
      "source": [
      "For example, suppose we have a telephone number, which can be given in one of the following ways\n",
" * 666-66-66-66\n",
" * 666-666-666\n",
" * 666 666 666\n",
" * 666 66 66 66\n",
" * 666666666\n",
"\n",
"There are many ways to give a number, so let's see how to create a class to define the delimiter"
      ]
    },
{
      "cell_type": "markdown",
      "metadata": {},
      "source": [
      "First we are going to tell it to look for all number sequences in which there are at least two numbers."
      ]
    },
{
      "cell_type": "code",
      "execution_count": 21,
      "metadata": {},
      "outputs": [
      {
          "name": "stdout",
          "output_type": "stream",
          "text": [
          "string1: 666-66-66-66 --> ['666', '66', '66', '66']\n",
"string2: 666-666-666 --> ['666', '666', '666']\n",
"string3: 666 66 66 66 --> ['666', '66', '66', '66']\n",
"string4: 666 666 666 --> ['666', '666', '666']\n",
"string5: 666666666 --> ['666666666']\n"
          ]
        }
      ],
      "source": [
      "string1 = \"666-66-66-66\"\n",
"string2 = \"666-666-666\"\n",
"string3 = \"666 66 66 66\"\n",
"string4 = \"666 666 666\"\n",
"string5 = \"666666666\"\n",
"print(f\"string1: {string1} -->\", re.findall(\"\\d{2,}\", string1))\n",
"print(f\"string2: {string2} -->\", re.findall(\"\\d{2,}\", string2))\n",
"print(f\"string3: {string3} -->\", re.findall(\"\\d{2,}\", string3))\n",
"print(f\"string4: {string4} -->\", re.findall(\"\\d{2,}\", string4))\n",
"print(f\"string5: {string5} -->\", re.findall(\"\\d{2,}\", string5))"
      ]
    },
{
      "cell_type": "markdown",
      "metadata": {},
      "source": [
      "Now we define to find the separator as a `-` or a space"
      ]
    },
{
      "cell_type": "code",
      "execution_count": 22,
      "metadata": {},
      "outputs": [
      {
          "name": "stdout",
          "output_type": "stream",
          "text": [
          "string1: 666-66-66-66 --> ['-', '-', '-']\n",
"string2: 666-666-666 --> ['-', '-']\n",
"string3: 666 66 66 66 --> [' ', ' ', ' ']\n",
"string4: 666 666 666 --> [' ', ' ']\n",
"string5: 666666666 --> []\n"
          ]
        }
      ],
      "source": [
      "string1 = \"666-66-66-66\"\n",
"string2 = \"666-666-666\"\n",
"string3 = \"666 66 66 66\"\n",
"string4 = \"666 666 666\"\n",
"string5 = \"666666666\"\n",
"print(f\"string1: {string1} -->\", re.findall(\"[-\\s]\", string1))\n",
"print(f\"string2: {string2} -->\", re.findall(\"[-\\s]\", string2))\n",
"print(f\"string3: {string3} -->\", re.findall(\"[-\\s]\", string3))\n",
"print(f\"string4: {string4} -->\", re.findall(\"[-\\s]\", string4))\n",
"print(f\"string5: {string5} -->\", re.findall(\"[-\\s]\", string5))"
      ]
    },
{
      "cell_type": "markdown",
      "metadata": {},
      "source": [
      "As you can see in the last string it has not found, so we add a `?` to find when there is zero or one."
      ]
    },
{
      "cell_type": "code",
      "execution_count": 23,
      "metadata": {},
      "outputs": [
      {
          "name": "stdout",
          "output_type": "stream",
          "text": [
          "string1: 666-66-66-66 --> ['', '', '', '-', '', '', '-', '', '', '-', '', '', '']\n",
"string2: 666-666-666 --> ['', '', '', '-', '', '', '', '-', '', '', '', '']\n",
"string3: 666 66 66 66 --> ['', '', '', ' ', '', '', ' ', '', '', ' ', '', '', '']\n",
"string4: 666 666 666 --> ['', '', '', ' ', '', '', '', ' ', '', '', '', '']\n",
"string5: 666666666 --> ['', '', '', '', '', '', '', '', '', '']\n"
          ]
        }
      ],
      "source": [
      "string1 = \"666-66-66-66\"\n",
"string2 = \"666-666-666\"\n",
"string3 = \"666 66 66 66\"\n",
"string4 = \"666 666 666\"\n",
"string5 = \"666666666\"\n",
"print(f\"string1: {string1} -->\", re.findall(\"[-\\s]?\", string1))\n",
"print(f\"string2: {string2} -->\", re.findall(\"[-\\s]?\", string2))\n",
"print(f\"string3: {string3} -->\", re.findall(\"[-\\s]?\", string3))\n",
"print(f\"string4: {string4} -->\", re.findall(\"[-\\s]?\", string4))\n",
"print(f\"string5: {string5} -->\", re.findall(\"[-\\s]?\", string5))"
      ]
    },
{
      "cell_type": "markdown",
      "metadata": {},
      "source": [
      "Now we are looking for everything to be together"
      ]
    },
{
      "cell_type": "code",
      "execution_count": 24,
      "metadata": {},
      "outputs": [
      {
          "name": "stdout",
          "output_type": "stream",
          "text": [
          "string1: 666-66-66-66 --> ['666-66-66-66']\n",
"string2: 666-666-666 --> []\n",
"string3: 666 66 66 66 --> ['666 66 66 66']\n",
"string4: 666 666 666 --> []\n",
"string5: 666666666 --> ['666666666']\n"
          ]
        }
      ],
      "source": [
      "string1 = \"666-66-66-66\"\n",
"string2 = \"666-666-666\"\n",
"string3 = \"666 66 66 66\"\n",
"string4 = \"666 666 666\"\n",
"string5 = \"666666666\"\n",
"print(f\"string1: {string1} -->\", re.findall(\"\\d{2,}[-\\s]?\\d{2,}[-\\s]?\\d{2,}[-\\s]?\\d{2,}[-\\s]?\", string1))\n",
"print(f\"string2: {string2} -->\", re.findall(\"\\d{2,}[-\\s]?\\d{2,}[-\\s]?\\d{2,}[-\\s]?\\d{2,}[-\\s]?\", string2))\n",
"print(f\"string3: {string3} -->\", re.findall(\"\\d{2,}[-\\s]?\\d{2,}[-\\s]?\\d{2,}[-\\s]?\\d{2,}[-\\s]?\", string3))\n",
"print(f\"string4: {string4} -->\", re.findall(\"\\d{2,}[-\\s]?\\d{2,}[-\\s]?\\d{2,}[-\\s]?\\d{2,}[-\\s]?\", string4))\n",
"print(f\"string5: {string5} -->\", re.findall(\"\\d{2,}[-\\s]?\\d{2,}[-\\s]?\\d{2,}[-\\s]?\\d{2,}[-\\s]?\", string5))"
      ]
    },
{
      "cell_type": "markdown",
      "metadata": {},
      "source": [
      "As we see in `string2` and `string4`, it finds nothing. We have set the filter `[\\d{2,}[\\s]?` 4 times, i.e. we want a sequence of at least two numbers, followed by zero or a hyphen or space separator that repeats 4 times. But in the last sequence there is no need for the `[\\d{2,}[\\s]?`, since it will never end a number with a space or a hyphen."
      ]
    },
{
      "cell_type": "code",
      "execution_count": 25,
      "metadata": {},
      "outputs": [
      {
          "name": "stdout",
          "output_type": "stream",
          "text": [
          "string1: 666-66-66-66 --> ['666-66-66-66']\n",
"string2: 666-666-666 --> []\n",
"string3: 666 66 66 66 --> ['666 66 66 66']\n",
"string4: 666 666 666 --> []\n",
"string5: 666666666 --> ['666666666']\n"
          ]
        }
      ],
      "source": [
      "string1 = \"666-66-66-66\"\n",
"string2 = \"666-666-666\"\n",
"string3 = \"666 66 66 66\"\n",
"string4 = \"666 666 666\"\n",
"string5 = \"666666666\"\n",
"print(f\"string1: {string1} -->\", re.findall(\"\\d{2,}[-\\s]?\\d{2,}[-\\s]?\\d{2,}[-\\s]?\\d{2,}\", string1))\n",
"print(f\"string2: {string2} -->\", re.findall(\"\\d{2,}[-\\s]?\\d{2,}[-\\s]?\\d{2,}[-\\s]?\\d{2,}\", string2))\n",
"print(f\"string3: {string3} -->\", re.findall(\"\\d{2,}[-\\s]?\\d{2,}[-\\s]?\\d{2,}[-\\s]?\\d{2,}\", string3))\n",
"print(f\"string4: {string4} -->\", re.findall(\"\\d{2,}[-\\s]?\\d{2,}[-\\s]?\\d{2,}[-\\s]?\\d{2,}\", string4))\n",
"print(f\"string5: {string5} -->\", re.findall(\"\\d{2,}[-\\s]?\\d{2,}[-\\s]?\\d{2,}[-\\s]?\\d{2,}\", string5))"
      ]
    },
{
      "cell_type": "markdown",
      "metadata": {},
      "source": [
      "It is still not found for `string2` and `string4`. This is because the last thing in the filter is a `d{2,}`, i.e. after the third separator we are expecting at least 2 numbers, but that in `string2` and `string4` doesn't happen, so we put the following"
      ]
    },
{
      "cell_type": "code",
      "execution_count": 26,
      "metadata": {},
      "outputs": [
      {
          "name": "stdout",
          "output_type": "stream",
          "text": [
          "string1: 666-66-66-66 --> ['666-66-66-66']\n",
"string2: 666-666-666 --> ['666-666-666']\n",
"string3: 666 66 66 66 --> ['666 66 66 66']\n",
"string4: 666 666 666 --> ['666 666 666']\n",
"string5: 666666666 --> ['666666666']\n"
          ]
        }
      ],
      "source": [
      "string1 = \"666-66-66-66\"\n",
"string2 = \"666-666-666\"\n",
"string3 = \"666 66 66 66\"\n",
"string4 = \"666 666 666\"\n",
"string5 = \"666666666\"\n",
"print(f\"string1: {string1} -->\", re.findall(\"\\d{2,}[-\\s]?\\d{2,}[-\\s]?\\d{2,}[-\\s]?\\d*\", string1))\n",
"print(f\"string2: {string2} -->\", re.findall(\"\\d{2,}[-\\s]?\\d{2,}[-\\s]?\\d{2,}[-\\s]?\\d*\", string2))\n",
"print(f\"string3: {string3} -->\", re.findall(\"\\d{2,}[-\\s]?\\d{2,}[-\\s]?\\d{2,}[-\\s]?\\d*\", string3))\n",
"print(f\"string4: {string4} -->\", re.findall(\"\\d{2,}[-\\s]?\\d{2,}[-\\s]?\\d{2,}[-\\s]?\\d*\", string4))\n",
"print(f\"string5: {string5} -->\", re.findall(\"\\d{2,}[-\\s]?\\d{2,}[-\\s]?\\d{2,}[-\\s]?\\d*\", string5))"
      ]
    },
{
      "cell_type": "markdown",
      "metadata": {},
      "source": [
      "### The delimiter `?` as a quick delimiter"
      ]
    },
{
      "cell_type": "markdown",
      "metadata": {},
      "source": [
      "The above example can be filtered by `d+?[- ]`."
      ]
    },
{
      "cell_type": "code",
      "execution_count": 27,
      "metadata": {},
      "outputs": [
      {
          "name": "stdout",
          "output_type": "stream",
          "text": [
          "string1: 666-66-66-66 --> ['666-', '66-', '66-']\n",
"string2: 666-666-666 --> ['666-', '666-']\n",
"string3: 666 66 66 66 --> ['666 ', '66 ', '66 ']\n",
"string4: 666 666 666 --> ['666 ', '666 ']\n",
"string5: 666666666 --> []\n"
          ]
        }
      ],
      "source": [
      "string1 = \"666-66-66-66\"\n",
"string2 = \"666-666-666\"\n",
"string3 = \"666 66 66 66\"\n",
"string4 = \"666 666 666\"\n",
"string5 = \"666666666\"\n",
"print(f\"string1: {string1} -->\", re.findall(\"\\d+?[- ]\", string1))\n",
"print(f\"string2: {string2} -->\", re.findall(\"\\d+?[- ]\", string2))\n",
"print(f\"string3: {string3} -->\", re.findall(\"\\d+?[- ]\", string3))\n",
"print(f\"string4: {string4} -->\", re.findall(\"\\d+?[- ]\", string4))\n",
"print(f\"string5: {string5} -->\", re.findall(\"\\d+?[- ]\", string5))"
      ]
    },
{
      "cell_type": "markdown",
      "metadata": {},
      "source": [
      "If the `?` delimiter were not present, we would have `\\d+[- ]`, which means a sequence of one or more numbers followed by a space or a hyphen. But what the `?` delimiter does is to make this search faster."
      ]
    },
{
      "cell_type": "markdown",
      "metadata": {},
      "source": [
      "### The denier"
      ]
    },
{
      "cell_type": "markdown",
      "metadata": {},
      "source": [
      "Before we have seen that with `d` we found digits, so with `D` we find everything that are not digits."
      ]
    },
{
      "cell_type": "code",
      "execution_count": 28,
      "metadata": {},
      "outputs": [
      {
          "name": "stdout",
          "output_type": "stream",
          "text": [
          "['E', 's', 't', 'e', ' ', 'e', 's', 't', 'r', 'i', 'n', 'g', ' ', 't', 'i', 'e', 'n', 'e', ' ', 'd', 'i', 'g', 'i', 't', 'o', 's']\n"
          ]
        }
      ],
      "source": [
      "string1 = \"E3s4t6e e1s2t3r5i6n7g8 t9i0e4n2e1 d4i5g7i9t0o5s2\"\n",
"print(re.findall(\"\\D\", string1))"
      ]
    },
{
      "cell_type": "markdown",
      "metadata": {},
      "source": [
      "The same happens with letters, if we write `W` it will find everything that is not letters."
      ]
    },
{
      "cell_type": "code",
      "execution_count": 29,
      "metadata": {},
      "outputs": [
      {
          "name": "stdout",
          "output_type": "stream",
          "text": [
          "[' ', ' ', ' ', ' ', ',', '.', ':', ';', '´']\n"
          ]
        }
      ],
      "source": [
      "string1 = \"Letras ab27_ no letras ,.:;´ç\"\n",
"print(re.findall(\"\\W\", string1))"
      ]
    },
{
      "cell_type": "markdown",
      "metadata": {},
      "source": [
      "If we put `S` we will find everything other than spaces."
      ]
    },
{
      "cell_type": "code",
      "execution_count": 30,
      "metadata": {},
      "outputs": [
      {
          "name": "stdout",
          "output_type": "stream",
          "text": [
          "['L', 'e', 't', 'r', 'a', 's', 'a', 'b', '2', '7', '_', 'n', 'o', 'l', 'e', 't', 'r', 'a', 's', ',', '.', ':', ';', '´', 'ç']\n"
          ]
        }
      ],
      "source": [
      "print(re.findall(\"\\S\", string1))"
      ]
    },
{
      "cell_type": "markdown",
      "metadata": {},
      "source": [
      "But in case we have a class or something else, we can deny by `^`"
      ]
    },
{
      "cell_type": "code",
      "execution_count": 31,
      "metadata": {},
      "outputs": [
      {
          "name": "stdout",
          "output_type": "stream",
          "text": [
          "['1', '2', '3', '4', '0']\n"
          ]
        }
      ],
      "source": [
      "string1 = \"1234567890\"\n",
"print(re.findall(\"[^5-9]\", string1))"
      ]
    },
{
      "cell_type": "markdown",
      "metadata": {},
      "source": [
      "Going back to the example of the phone numbers from before, we can filter them by the following"
      ]
    },
{
      "cell_type": "code",
      "execution_count": 32,
      "metadata": {},
      "outputs": [
      {
          "name": "stdout",
          "output_type": "stream",
          "text": [
          "string1: 666-66-66-66 --> ['666-66-66-66']\n",
"string2: 666-666-666 --> ['666-666-666']\n",
"string3: 666 66 66 66 --> ['666 66 66 66']\n",
"string4: 666 666 666 --> ['666 666 666']\n",
"string5: 666666666 --> ['666666666']\n"
          ]
        }
      ],
      "source": [
      "string1 = \"666-66-66-66\"\n",
"string2 = \"666-666-666\"\n",
"string3 = \"666 66 66 66\"\n",
"string4 = \"666 666 666\"\n",
"string5 = \"666666666\"\n",
"print(f\"string1: {string1} -->\", re.findall(\"\\d{2,}\\D?\\d{2,}\\D?\\d{2,}\\D?\\d*\", string1))\n",
"print(f\"string2: {string2} -->\", re.findall(\"\\d{2,}\\D?\\d{2,}\\D?\\d{2,}\\D?\\d*\", string2))\n",
"print(f\"string3: {string3} -->\", re.findall(\"\\d{2,}\\D?\\d{2,}\\D?\\d{2,}\\D?\\d*\", string3))\n",
"print(f\"string4: {string4} -->\", re.findall(\"\\d{2,}\\D?\\d{2,}\\D?\\d{2,}\\D?\\d*\", string4))\n",
"print(f\"string5: {string5} -->\", re.findall(\"\\d{2,}\\D?\\d{2,}\\D?\\d{2,}\\D?\\d*\", string5))\n",
"string5 = \"666 666 666\""
      ]
    },
{
      "cell_type": "markdown",
      "metadata": {},
      "source": [
      "What we are doing is asking for sequences of at least two digits followed by one or no non-digits."
      ]
    },
{
      "cell_type": "markdown",
      "metadata": {},
      "source": [
      "### The beginning `^` and end of line `$`."
      ]
    },
{
      "cell_type": "markdown",
      "metadata": {},
      "source": [
      "With `^` we can search for the beginning of a line, for example, if we want to find a digit only at the beginning of a line"
      ]
    },
{
      "cell_type": "code",
      "execution_count": 33,
      "metadata": {},
      "outputs": [
      {
          "name": "stdout",
          "output_type": "stream",
          "text": [
          "[]\n",
"['2']\n"
          ]
        }
      ],
      "source": [
      "string1 = \"linea 1\"\n",
"string2 = \"2ª linea\"\n",
"print(re.findall(\"^\\d\", string1))\n",
"print(re.findall(\"^\\d\", string2))"
      ]
    },
{
      "cell_type": "markdown",
      "metadata": {},
      "source": [
      "As you can see there is only one digit at the beginning of the line in `string2`."
      ]
    },
{
      "cell_type": "markdown",
      "metadata": {},
      "source": [
      "Likewise, the end of a line can be found with `$`. If we want to find a digit only at the end of a line"
      ]
    },
{
      "cell_type": "code",
      "execution_count": 34,
      "metadata": {},
      "outputs": [
      {
          "name": "stdout",
          "output_type": "stream",
          "text": [
          "['1']\n",
"[]\n"
          ]
        }
      ],
      "source": [
      "string1 = \"linea 1\"\n",
"string2 = \"2ª linea\"\n",
"print(re.findall(\"\\d$\", string1))\n",
"print(re.findall(\"\\d$\", string2))"
      ]
    },
{
      "cell_type": "markdown",
      "metadata": {},
      "source": [
      "This only occurs in `string1`."
      ]
    },
{
      "cell_type": "markdown",
      "metadata": {},
      "source": [
      "## Practical examples"
      ]
    },
{
      "cell_type": "markdown",
      "metadata": {},
      "source": [
      "### Logs"
      ]
    },
{
      "cell_type": "markdown",
      "metadata": {},
      "source": [
      "If in the following log we want to find only the `WARN`s"
      ]
    },
{
      "cell_type": "code",
      "execution_count": 35,
      "metadata": {},
      "outputs": [
      {
          "data": {
            "text/plain": [
            "['[LOG ENTRY] [WARN] The system may be down',\n",
" '[LOG ENTRY] [WARN] Microsoft just bought Github']"
            ]
          },
          "execution_count": 35,
          "metadata": {},
          "output_type": "execute_result"
        }
      ],
      "source": [
      "log = \"\"\"[LOG ENTRY] [ERROR] The system is unstable\n",
"[LOG ENTRY] [WARN] The system may be down\n",
"[LOG ENTRY] [WARN] Microsoft just bought Github\n",
"[LOG DATA] [LOG] Everything is OK\n",
"[LOG ENTRY] [LOG] [user:@beco] Logged in\n",
"[LOG ENTRY] [LOG] [user:@beco] Clicked here\n",
"[LOG DATA] [LOG] [user:@celismx] Did something\n",
"[LOG ENTRY] [LOG] [user:@beco] Rated the app\n",
"[LOG ENTRY] [LOG] [user:@beco] Logged out\n",
"[LOG LINE] [LOG] [user:@celismx] Logged in\"\"\"\n",
"result = re.findall(\"\\[LOG.*\\[WARN\\].*\", log)\n",
"result"
      ]
    },
{
      "cell_type": "markdown",
      "metadata": {},
      "source": [
      "### Phone number"
      ]
    },
{
      "cell_type": "markdown",
      "metadata": {},
      "source": [
      "Within a number we can find letters such as `e` for extension, `#` also for extension, or `p` to pause if a computer calls. We can also find the `+` to indicate a country prefix and separators such as spaces, `-`, `.`, `.`, `.`, `.`, `.`, `.`, `.`, `.`."
      ]
    },
{
      "cell_type": "code",
      "execution_count": 36,
      "metadata": {},
      "outputs": [
      {
          "data": {
            "text/plain": [
            "['555658',\n",
" '56-58-11',\n",
" '56.58.11',\n",
" '56.78-98',\n",
" '65 09 87',\n",
" '78.87 65',\n",
" '78 54-56',\n",
" '+521565811',\n",
" '58-11-11#246',\n",
" '55256048p123',\n",
" '55256048e123']"
            ]
          },
          "execution_count": 36,
          "metadata": {},
          "output_type": "execute_result"
        }
      ],
      "source": [
      "tel = \"\"\"555658\n",
"56-58-11\n",
"56.58.11\n",
"56.78-98\n",
"65 09 87\n",
"76y87r98\n",
"45y78-56\n",
"78.87 65\n",
"78 54-56\n",
"+521565811\n",
"58-11-11#246\n",
"55256048p123\n",
"55256048e123\"\"\"\n",
"result = re.findall(\"\\+?\\d{2,3}[^\\da-zA-Z\\n]?\\d{2,3}[^\\da-zA-Z\\n]?\\d{2,3}[#pe]?\\d*\", tel)\n",
"result"
      ]
    },
{
      "cell_type": "markdown",
      "metadata": {},
      "source": [
      "Here is an explanation\n",
" * `+?`: Beginning with the character `+` and containing either zero or one\n",
" * ``d{2,3}`: To be followed by 2 to 3 digits\n",
" * Next there can be zero or a character that is neither a digit, nor a letter from `a` to `z`, nor a letter from `A` to `Z`, nor a line break.\n",
" * ``d{2,3}`: To be followed by 2 to 3 digits\n",
" * Next there can be zero or a character that is neither a digit, nor a letter from `a` to `z`, nor a letter from `A` to `Z`, nor a line break.\n",
" * ``d{2,3}`: To be followed by 2 to 3 digits\n",
" * `[#pe]?`: Then there can be zero or one character either `#`, or `p`, or `e`.\n",
" * Lastly, let there be zero or all numbers."
      ]
    },
{
      "cell_type": "markdown",
      "metadata": {},
      "source": [
      "### URLs"
      ]
    },
{
      "cell_type": "code",
      "execution_count": 37,
      "metadata": {},
      "outputs": [
      {
          "data": {
            "text/plain": [
            "['https://www.instagram.com/p/BXB4zsUlW5Z/?taken-by=beco.mx',\n",
" 'http://instagram.com/p/blablablah',\n",
" 'http://itam.mx/test',\n",
" 'http://instagram.com/p/blablablah',\n",
" 'https://www.vanguarsoft.com.ve',\n",
" 'http://platzi.com',\n",
" 'https://traetelo.net',\n",
" 'https://traetelo.net/images',\n",
" 'https://subdominio.traetelo.net',\n",
" 'https://www.instagram.com/p/BXB4zsUlW5Z/?taken-by=beco.mx',\n",
" 'http://instagram.com/p/blablablah',\n",
" 'http://itam.mx/test',\n",
" 'http://instagram.com/p/blablablah',\n",
" 'https://www.google.com.co/',\n",
" 'https://sub.dominio.de.alguien.com/archivo.html',\n",
" 'https://en.wikipedia.org/wiki/.org',\n",
" 'https://cdn-microsoft.org/image/seixo2t9sjl_22.jpg',\n",
" 'https://hola.pizza',\n",
" 'https://platzi.com/clases/1301-expresiones-regulares/11860-urls9102/',\n",
" 'https://api.giphy.com/v1/gifs/search?q=Rick']"
            ]
          },
          "execution_count": 37,
          "metadata": {},
          "output_type": "execute_result"
        }
      ],
      "source": [
      "urls = \"\"\"url: https://www.instagram.com/p/BXB4zsUlW5Z/?taken-by=beco.mx\n",
"url: http://instagram.com/p/blablablah\n",
"url: http://itam.mx/test\n",
"http://instagram.com/p/blablablah\n",
"https://www.vanguarsoft.com.ve\n",
"http://platzi.com\n",
"https://traetelo.net\n",
"https://traetelo.net/images archivo.jsp\n",
"url: https://subdominio.traetelo.net\n",
"url: https://www.instagram.com/p/BXB4zsUlW5Z/?taken-by=beco.mx\n",
"url: http://instagram.com/p/blablablah\n",
"url: http://itam.mx/test\n",
"http://instagram.com/p/blablablah\n",
"https://www.google.com.co/\n",
"https://sub.dominio.de.alguien.com/archivo.html\n",
"https://en.wikipedia.org/wiki/.org\n",
"https://cdn-microsoft.org/image/seixo2t9sjl_22.jpg\n",
"https://hola.pizza\n",
"https://platzi.com/clases/1301-expresiones-regulares/11860-urls9102/ clase\n",
"\n",
"\n",
"https://api.giphy.com/v1/gifs/search?q=Rick and Morty&limit=10&api_key=DG3hItPp5HIRNC0nit3AOR7eQZAe\n",
"\n",
"http://localhost:3000/something?color1=red&color2=blue\n",
"http://localhost:3000/display/post?size=small\n",
" http://localhost:3000/?name=satyam\n",
" http://localhost:3000/scanned?orderid=234\n",
" http://localhost:3000/getUsers?userId=12354411&name=Billy\n",
" http://localhost:3000/getUsers?userId=12354411\n",
"http://localhost:3000/search?city=Barcelona\n",
"\n",
"www.sitiodeejemplo.net/pagina.php?nombredevalor1=valor1&nombredevalor2=valor2\"\"\"\n",
"result = re.findall(\"https?:\\/\\/[\\w\\-\\.]+\\.\\w{2,6}\\/?\\S*\", urls)\n",
"result"
      ]
    },
{
      "cell_type": "markdown",
      "metadata": {},
      "source": [
      "Here is an explanation\n",
" * `http`: We want it to start with `http`.\n",
" * `s?`: There may or may not be an `s` in the following.\n",
" * `:`://`: Followed by `://`.\n",
" * `[*]: Followed by one or more letters, gions or periods\n",
" * Next, a point.\n",
" * ``w{2,6}`: Between 2 and 6 letters for the tld\n",
" * `/?`: Followed by zero or a `/`.\n",
" * None or everything that is not a space."
      ]
    },
{
      "cell_type": "markdown",
      "metadata": {},
      "source": [
      "### Mails"
      ]
    },
{
      "cell_type": "code",
      "execution_count": 38,
      "metadata": {},
      "outputs": [
      {
          "data": {
            "text/plain": [
            "['esto.es_un.mail@mail.com',\n",
" 'esto.es_un.mail+complejo@mail.com',\n",
" 'rodrigo.jimenez@yahoo.com.mx',\n",
" 'ruben@starbucks.com',\n",
" 'es_email@dominio.com',\n",
" 'no_se_de_internet3@hotmail.com']"
            ]
          },
          "execution_count": 38,
          "metadata": {},
          "output_type": "execute_result"
        }
      ],
      "source": [
      "mails = \"\"\"esto.es_un.mail@mail.com\n",
"esto.es_un.mail+complejo@mail.com\n",
"dominio.com\n",
"rodrigo.jimenez@yahoo.com.mx\n",
"ruben@starbucks.com\n",
"esto_no$es_email@dominio.com\n",
"no_se_de_internet3@hotmail.com\"\"\"\n",
"result = re.findall(\"[\\w\\._]{5,30}\\+?[\\w\\._]{0,10}@[\\w\\.-]{2,}\\.\\w{2,6}\", mails)\n",
"result"
      ]
    },
{
      "cell_type": "markdown",
      "metadata": {},
      "source": [
      "Here is an explanation\n",
" * {5,30}`: We want it to start with between 5 and 30 (which is the minimum and maximum that gmail supports) letters, dots or underscores.\n",
" * `+?`: Followed by zero or a `+`.\n",
" * {0,10}`: Then between 0 and 10 letters, dots or underscores.\n",
" * `@`: The `@`: The `@`: The `@`: The `@`\n",
" * {[{2,}`: Between 2 and infinite letters, dots and dashes (domain)\n",
" * `.`: Followed by a `.\n",
" * ``w{2,6}`: And finally between 2 and 6 letters for the tld"
      ]
    },
{
      "cell_type": "markdown",
      "metadata": {},
      "source": [
      "### Locations"
      ]
    },
{
      "cell_type": "markdown",
      "metadata": {},
      "source": [
      "There are two possible ways to give locations, so we analyze both of them"
      ]
    },
{
      "cell_type": "code",
      "execution_count": 39,
      "metadata": {},
      "outputs": [
      {
          "data": {
            "text/plain": [
            "['-99.205646,19.429707,2275.10',\n",
" '-99.205581, 19.429652,2275.10',\n",
" '-99.204654,19.428952,2275.58']"
            ]
          },
          "execution_count": 39,
          "metadata": {},
          "output_type": "execute_result"
        }
      ],
      "source": [
      "loc = \"\"\"-99.205646,19.429707,2275.10\n",
"-99.205581, 19.429652,2275.10\n",
"-99.204654,19.428952,2275.58\"\"\"\n",
"result = re.findall(\"\\-?\\d{1,3}\\.\\d{1,6},\\s?\\-?\\d{1,3}\\.\\d{1,6},.*\", loc)\n",
"result"
      ]
    },
{
      "cell_type": "markdown",
      "metadata": {},
      "source": [
      "Here is an explanation\n",
" * We want it to start with zero or a minus sign.\n",
" * Followed by between one and three numbers\n",
" * Next, a point.\n",
" * ``d{1,6}`: After one to six numbers\n",
" * `,`: Then a `,`: Then a `,`: Then a `,`: Then a `,`: Then a `,`\n",
" * ``s?`: After zero or a space\n",
" * ``-?`: Zero or a minus sign\n",
" * ` `d{1,3}`: Then between one and three numbers\n",
" * Next, a point.\n",
" * Followed by between one and six numbers.\n",
" * `,`: Then a comma\n",
" * `.*`: Lastly none or all types of characters"
      ]
    },
{
      "cell_type": "code",
      "execution_count": 40,
      "metadata": {},
      "outputs": [
      {
          "data": {
            "text/plain": [
            "['-99 12\\' 34.08\"W, 19 34\\' 56.98\"N', '-34 54\\' 32.00\"E, -3 21\\' 67.00\"S']"
            ]
          },
          "execution_count": 40,
          "metadata": {},
          "output_type": "execute_result"
        }
      ],
      "source": [
      "loc = \"\"\"-99 12' 34.08\"W, 19 34' 56.98\"N\n",
"-34 54' 32.00\"E, -3 21' 67.00\"S\"\"\"\n",
"result = re.findall(\"\\-?\\d{1,3}\\s\\d{1,2}'\\s\\d{1,2}\\.\\d{2,2}\\\"[WE],\\s?\\-?\\d{1,3}\\s\\d{1,2}'\\s\\d{1,2}\\.\\d{2,2}\\\"[SN]\", loc)\n",
"result"
      ]
    },
{
      "cell_type": "code",
      "execution_count": 41,
      "metadata": {},
      "outputs": [
      {
          "name": "stdout",
          "output_type": "stream",
          "text": [
          "-99 12' 34.08\"W, 19 34' 56.98\"N\n",
"-34 54' 32.00\"E, -3 21' 67.00\"S\n"
          ]
        }
      ],
      "source": [
      "print(result[0])\n",
"print(result[1])"
      ]
    },
{
      "cell_type": "markdown",
      "metadata": {},
      "source": [
      "Here is an explanation\n",
" * We want it to start with zero or a minus sign.\n",
" * Followed by between one and three numbers\n",
" * `s`: Then a space\n",
" * ``d{1,2}`: Segment of one to two numbers\n",
" * `'`: Then a `'`: Then a `'`.\n",
" * Followed by a space.\n",
" * ` ``d{1,2}`: Then between one and two numbers\n",
" * After a period\n",
" * ``d{2,2}`: Followed by two numbers\n",
" * `\"`: Then a `\"`: Then a `\"`: Then a `\"`: Then a `\"`: Then a `\"`.\n",
" * `[WE]`: Then the letter `W` or the letter `E`.\n",
" * `,`: After a comma\n",
" * Followed by a zero or a space\n",
" * ``-?`: After zero or a minus sign\n",
" * ` `d{1,3}`: Then between one and three numbers\n",
" * Followed by a space.\n",
" * ` ``d{1,2}`: Then between one and two numbers\n",
" * `'`: Then a `'`: After a `'`\n",
" * `s`: Then a space\n",
" * ``d{1,2}`: Next between one and two numbers\n",
" * Followed by a period\n",
" * ``d{2,2}`: After two numbers\n",
" * ` ` \"`: Followed by ` \"`: Followed by ` \"`.\n",
" * `[SN]`: And finally the letter `S` or the letter `N`."
      ]
    },
{
      "cell_type": "markdown",
      "metadata": {},
      "source": [
      "### Names"
      ]
    },
{
      "cell_type": "code",
      "execution_count": 42,
      "metadata": {},
      "outputs": [
      {
          "data": {
            "text/plain": [
            "['Camilo Sarmiento Gálvez',\n",
" 'Alejandro Pliego Abasto',\n",
" 'Milagros Reyes Japón',\n",
" 'Samuel París Arrabal',\n",
" 'Juan Pablo Tafalla',\n",
" 'Axel Gálvez Velázquez',\n",
" 'Óscar Montreal Aparicio',\n",
" 'Jacobo Pozo Tassis',\n",
" 'Espiga\\nEduardo Pousa',\n",
" 'Curbelo\\nIvanna Bienvenida',\n",
" 'Kevin\\nAda Tasis',\n",
" 'López\\nLuciana Sáenz',\n",
" 'García\\nFlorencia Sainz',\n",
" 'Márquz\\nCatarina Cazalla',\n",
" 'Lombarda\\nPaloma Gallo',\n",
" 'Perro\\nMargarita Quesada',\n",
" 'Florez\\nVicente Fox',\n",
" 'Quesada\\nIris Graciani',\n",
" 'Asunción Carballar\\nConstanza',\n",
" 'Manuel Andres García']"
            ]
          },
          "execution_count": 42,
          "metadata": {},
          "output_type": "execute_result"
        }
      ],
      "source": [
      "nombres = \"\"\"Camilo Sarmiento Gálvez\n",
"Alejandro Pliego Abasto\n",
"Milagros Reyes Japón\n",
"Samuel París Arrabal\n",
"Juan Pablo Tafalla\n",
"Axel Gálvez Velázquez\n",
"Óscar Montreal Aparicio\n",
"Jacobo Pozo Tassis\n",
"Guillermo Ordóñez Espiga\n",
"Eduardo Pousa Curbelo\n",
"Ivanna Bienvenida Kevin\n",
"Ada Tasis López\n",
"Luciana Sáenz García\n",
"Florencia Sainz Márquz\n",
"Catarina Cazalla Lombarda\n",
"Paloma Gallo Perro\n",
"Margarita Quesada Florez\n",
"Vicente Fox Quesada\n",
"Iris Graciani\n",
"Asunción Carballar\n",
"Constanza Muñoz\n",
"Manuel Andres García Márquez\"\"\"\n",
"result = re.findall(\"[A-ZÁÉÍÓÚ][a-záéíóú]+\\s[A-ZÁÉÍÓÚ][a-záéíóú]+\\s[A-ZÁÉÍÓÚ][a-záéíóú]+\", nombres)\n",
"result"
      ]
    },
{
      "cell_type": "markdown",
      "metadata": {},
      "source": [
      "Here is an explanation\n",
" * `[A-ZÁÉÍÓÚ]`: We want it to start with a capital letter, including accents.\n",
" * `[a-záééíóú]+`: Followed by one or more lowercase letters, enclosed by spaces\n",
" * Followed by a space.\n",
" * `[A-ZÁÉÍÓÓÚ]`: followed by an uppercase letter, including accents\n",
" * `[a-záééíóú]+`: Followed by one or more lowercase letters, enclosed by spaces\n",
" * Followed by a space.\n",
" * `[A-ZÁÉÍÓÓÚ]`: followed by an uppercase letter, including accents\n",
" * `[a-záééíóú]+`: Followed by one or more lowercase letters, enclosed by spaces"
      ]
    },
{
      "cell_type": "markdown",
      "metadata": {},
      "source": [
      "## Search and replace"
      ]
    },
{
      "cell_type": "markdown",
      "metadata": {},
      "source": [
      "We are going to download a file with a lot of historical films."
      ]
    },
{
      "cell_type": "code",
      "execution_count": 43,
      "metadata": {},
      "outputs": [
      {
          "ename": "HTTPError",
          "evalue": "HTTP Error 403: Forbidden",
          "output_type": "error",
          "traceback": [
          "\u001b[0;31m---------------------------------------------------------------------------\u001b[0m",
"\u001b[0;31mHTTPError\u001b[0m                                 Traceback (most recent call last)",
"Cell \u001b[0;32mIn[43], line 4\u001b[0m\n\u001b[1;32m      2\u001b[0m \u001b[38;5;28;01mimport\u001b[39;00m \u001b[38;5;21;01murllib\u001b[39;00m\u001b[38;5;21;01m.\u001b[39;00m\u001b[38;5;21;01mrequest\u001b[39;00m\n\u001b[1;32m      3\u001b[0m url \u001b[38;5;241m=\u001b[39m \u001b[38;5;124m\"\u001b[39m\u001b[38;5;124mhttps://static.platzi.com/media/tmp/class-files/github/moviedemo/moviedemo-master/movies.dat\u001b[39m\u001b[38;5;124m\"\u001b[39m\n\u001b[0;32m----> 4\u001b[0m urllib\u001b[38;5;241m.\u001b[39mrequest\u001b[38;5;241m.\u001b[39murlretrieve(url, \u001b[38;5;124m\"\u001b[39m\u001b[38;5;124mmovies.dat\u001b[39m\u001b[38;5;124m\"\u001b[39m)\n",
"File \u001b[0;32m~/miniconda3/envs/mybase/lib/python3.11/urllib/request.py:241\u001b[0m, in \u001b[0;36murlretrieve\u001b[0;34m(url, filename, reporthook, data)\u001b[0m\n\u001b[1;32m    224\u001b[0m \u001b[38;5;250m\u001b[39m\u001b[38;5;124;03m\"\"\"\u001b[39;00m\n\u001b[1;32m    225\u001b[0m \u001b[38;5;124;03mRetrieve a URL into a temporary location on disk.\u001b[39;00m\n\u001b[1;32m    226\u001b[0m \n\u001b[0;32m   (...)\u001b[0m\n\u001b[1;32m    237\u001b[0m \u001b[38;5;124;03mdata file as well as the resulting HTTPMessage object.\u001b[39;00m\n\u001b[1;32m    238\u001b[0m \u001b[38;5;124;03m\"\"\"\u001b[39;00m\n\u001b[1;32m    239\u001b[0m url_type, path \u001b[38;5;241m=\u001b[39m _splittype(url)\n\u001b[0;32m--> 241\u001b[0m \u001b[38;5;28;01mwith\u001b[39;00m contextlib\u001b[38;5;241m.\u001b[39mclosing(urlopen(url, data)) \u001b[38;5;28;01mas\u001b[39;00m fp:\n\u001b[1;32m    242\u001b[0m     headers \u001b[38;5;241m=\u001b[39m fp\u001b[38;5;241m.\u001b[39minfo()\n\u001b[1;32m    244\u001b[0m     \u001b[38;5;66;03m# Just return the local path and the \"headers\" for file://\u001b[39;00m\n\u001b[1;32m    245\u001b[0m     \u001b[38;5;66;03m# URLs. No sense in performing a copy unless requested.\u001b[39;00m\n",
"File \u001b[0;32m~/miniconda3/envs/mybase/lib/python3.11/urllib/request.py:216\u001b[0m, in \u001b[0;36murlopen\u001b[0;34m(url, data, timeout, cafile, capath, cadefault, context)\u001b[0m\n\u001b[1;32m    214\u001b[0m \u001b[38;5;28;01melse\u001b[39;00m:\n\u001b[1;32m    215\u001b[0m     opener \u001b[38;5;241m=\u001b[39m _opener\n\u001b[0;32m--> 216\u001b[0m \u001b[38;5;28;01mreturn\u001b[39;00m opener\u001b[38;5;241m.\u001b[39mopen(url, data, timeout)\n",
"File \u001b[0;32m~/miniconda3/envs/mybase/lib/python3.11/urllib/request.py:525\u001b[0m, in \u001b[0;36mOpenerDirector.open\u001b[0;34m(self, fullurl, data, timeout)\u001b[0m\n\u001b[1;32m    523\u001b[0m \u001b[38;5;28;01mfor\u001b[39;00m processor \u001b[38;5;129;01min\u001b[39;00m \u001b[38;5;28mself\u001b[39m\u001b[38;5;241m.\u001b[39mprocess_response\u001b[38;5;241m.\u001b[39mget(protocol, []):\n\u001b[1;32m    524\u001b[0m     meth \u001b[38;5;241m=\u001b[39m \u001b[38;5;28mgetattr\u001b[39m(processor, meth_name)\n\u001b[0;32m--> 525\u001b[0m     response \u001b[38;5;241m=\u001b[39m meth(req, response)\n\u001b[1;32m    527\u001b[0m \u001b[38;5;28;01mreturn\u001b[39;00m response\n",
"File \u001b[0;32m~/miniconda3/envs/mybase/lib/python3.11/urllib/request.py:634\u001b[0m, in \u001b[0;36mHTTPErrorProcessor.http_response\u001b[0;34m(self, request, response)\u001b[0m\n\u001b[1;32m    631\u001b[0m \u001b[38;5;66;03m# According to RFC 2616, \"2xx\" code indicates that the client's\u001b[39;00m\n\u001b[1;32m    632\u001b[0m \u001b[38;5;66;03m# request was successfully received, understood, and accepted.\u001b[39;00m\n\u001b[1;32m    633\u001b[0m \u001b[38;5;28;01mif\u001b[39;00m \u001b[38;5;129;01mnot\u001b[39;00m (\u001b[38;5;241m200\u001b[39m \u001b[38;5;241m<\u001b[39m\u001b[38;5;241m=\u001b[39m code \u001b[38;5;241m<\u001b[39m \u001b[38;5;241m300\u001b[39m):\n\u001b[0;32m--> 634\u001b[0m     response \u001b[38;5;241m=\u001b[39m \u001b[38;5;28mself\u001b[39m\u001b[38;5;241m.\u001b[39mparent\u001b[38;5;241m.\u001b[39merror(\n\u001b[1;32m    635\u001b[0m         \u001b[38;5;124m'\u001b[39m\u001b[38;5;124mhttp\u001b[39m\u001b[38;5;124m'\u001b[39m, request, response, code, msg, hdrs)\n\u001b[1;32m    637\u001b[0m \u001b[38;5;28;01mreturn\u001b[39;00m response\n",
"File \u001b[0;32m~/miniconda3/envs/mybase/lib/python3.11/urllib/request.py:563\u001b[0m, in \u001b[0;36mOpenerDirector.error\u001b[0;34m(self, proto, *args)\u001b[0m\n\u001b[1;32m    561\u001b[0m \u001b[38;5;28;01mif\u001b[39;00m http_err:\n\u001b[1;32m    562\u001b[0m     args \u001b[38;5;241m=\u001b[39m (\u001b[38;5;28mdict\u001b[39m, \u001b[38;5;124m'\u001b[39m\u001b[38;5;124mdefault\u001b[39m\u001b[38;5;124m'\u001b[39m, \u001b[38;5;124m'\u001b[39m\u001b[38;5;124mhttp_error_default\u001b[39m\u001b[38;5;124m'\u001b[39m) \u001b[38;5;241m+\u001b[39m orig_args\n\u001b[0;32m--> 563\u001b[0m     \u001b[38;5;28;01mreturn\u001b[39;00m \u001b[38;5;28mself\u001b[39m\u001b[38;5;241m.\u001b[39m_call_chain(\u001b[38;5;241m*\u001b[39margs)\n",
"File \u001b[0;32m~/miniconda3/envs/mybase/lib/python3.11/urllib/request.py:496\u001b[0m, in \u001b[0;36mOpenerDirector._call_chain\u001b[0;34m(self, chain, kind, meth_name, *args)\u001b[0m\n\u001b[1;32m    494\u001b[0m \u001b[38;5;28;01mfor\u001b[39;00m handler \u001b[38;5;129;01min\u001b[39;00m handlers:\n\u001b[1;32m    495\u001b[0m     func \u001b[38;5;241m=\u001b[39m \u001b[38;5;28mgetattr\u001b[39m(handler, meth_name)\n\u001b[0;32m--> 496\u001b[0m     result \u001b[38;5;241m=\u001b[39m func(\u001b[38;5;241m*\u001b[39margs)\n\u001b[1;32m    497\u001b[0m     \u001b[38;5;28;01mif\u001b[39;00m result \u001b[38;5;129;01mis\u001b[39;00m \u001b[38;5;129;01mnot\u001b[39;00m \u001b[38;5;28;01mNone\u001b[39;00m:\n\u001b[1;32m    498\u001b[0m         \u001b[38;5;28;01mreturn\u001b[39;00m result\n",
"File \u001b[0;32m~/miniconda3/envs/mybase/lib/python3.11/urllib/request.py:643\u001b[0m, in \u001b[0;36mHTTPDefaultErrorHandler.http_error_default\u001b[0;34m(self, req, fp, code, msg, hdrs)\u001b[0m\n\u001b[1;32m    642\u001b[0m \u001b[38;5;28;01mdef\u001b[39;00m \u001b[38;5;21mhttp_error_default\u001b[39m(\u001b[38;5;28mself\u001b[39m, req, fp, code, msg, hdrs):\n\u001b[0;32m--> 643\u001b[0m     \u001b[38;5;28;01mraise\u001b[39;00m HTTPError(req\u001b[38;5;241m.\u001b[39mfull_url, code, msg, hdrs, fp)\n",
"\u001b[0;31mHTTPError\u001b[0m: HTTP Error 403: Forbidden"
          ]
        }
      ],
      "source": [
      "# download file from url\n",
"import urllib.request\n",
"url = \"https://static.platzi.com/media/tmp/class-files/github/moviedemo/moviedemo-master/movies.dat\"\n",
"urllib.request.urlretrieve(url, \"movies.dat\")\n"
      ]
    },
{
      "cell_type": "markdown",
      "metadata": {},
      "source": [
      "Let's print the first 10 lines to analyze it."
      ]
    },
{
      "cell_type": "code",
      "execution_count": 100,
      "metadata": {},
      "outputs": [
      {
          "name": "stdout",
          "output_type": "stream",
          "text": [
          "1::Toy Story (1995)::Adventure|Animation|Children|Comedy|Fantasy\n",
"2::Jumanji (1995)::Adventure|Children|Fantasy\n",
"3::Grumpier Old Men (1995)::Comedy|Romance\n",
"4::Waiting to Exhale (1995)::Comedy|Drama|Romance\n",
"5::Father of the Bride Part II (1995)::Comedy\n",
"6::Heat (1995)::Action|Crime|Thriller\n",
"7::Sabrina (1995)::Comedy|Romance\n",
"8::Tom and Huck (1995)::Adventure|Children\n",
"9::Sudden Death (1995)::Action\n",
"10::GoldenEye (1995)::Action|Adventure|Thriller\n",
"11::American President, The (1995)::Comedy|Drama|Romance\n"
          ]
        }
      ],
      "source": [
      "file = open(\"movies.dat\", \"r\")\n",
"\n",
"for i, line in enumerate(file):\n",
"    print(line, end=\"\")\n",
"    if i == 10:\n",
"        break\n",
"\n",
"file.close()"
      ]
    },
{
      "cell_type": "markdown",
      "metadata": {},
      "source": [
      "As you can see, we have an ID, followed by `::`, then the name of the movie, in parentheses the year, followed by `::` and then genres separated by `|`."
      ]
    },
{
      "cell_type": "markdown",
      "metadata": {},
      "source": [
      "We can make a cleaning of the file very easy by means of regular expressions, the `compile` and `match` functions and the use of groupings with parenthesis. When making groupings, we select which areas of the text we want to keep and then work with them as we want, let's see it with an example"
      ]
    },
{
      "cell_type": "code",
      "execution_count": 100,
      "metadata": {},
      "outputs": [],
      "source": [
      "pattern = re.compile(r\"^\\d+::([\\w\\s:,\\(\\)\\.\\-'&¡!/¿?ÁÉÍÓÚáéíóú\\+*\\$#°\\'\\\"\\[\\]@·]+)\\s\\((\\d{4,4})\\)::(.*)$\")\n",
"\n",
"file = open(\"movies.dat\", \"r\")\n",
"file_filtered = open(\"movies.csv\", \"w\")\n",
"file_filtered.write(\"title,year,genders\\n\")\n",
"sep = \";;\"\n",
"for line in file:\n",
"    result = re.match(pattern, line)\n",
"    if result:\n",
"        file_filtered.write(f\"{result.group(1)}{sep}{result.group(2)}{sep}{result.group(3)}\\n\")\n",
"    else:\n",
"        print(line, end=\"\")\n",
"file.close()\n",
"file_filtered.close()"
      ]
    },
{
      "cell_type": "markdown",
      "metadata": {},
      "source": [
      "Let's see what we have done, first we have defined a pattern with the following:\n",
" * `^`: We want it to start with the beginning of the line.\n",
" * Next one or more numbers\n",
" * `::`: Followed by `::`\n",
" * `([\\(([\\([\\([\\([\\([\\([\\([\\(\"\\(\"\\(\"\\(\"\\(\"\\(\"\\\": This is the first grouping, we look for any word, space or character in the square brackets that appears one or more times.\n",
" * ``s`: Next a space\n",
" * ` `: The tightening of a parenthesis\n",
" * (4,4})`: Here is the second grouping, we are looking for four numbers.\n",
" * After the closing of a parenthesis\n",
" * `::`: Next `::`\n",
" * `(.*)`: The third grouping, any character that appears none or all times.\n",
" * `$`: Lastly the end of the line\n",
"\n",
"Inside the `for` we analyze line by line if the pattern we have defined is found, and if it is found we write the three patterns in the `csv` separated by `sep`, which in our case we have defined as `;;`. This separator has been defined, because there are movie titles that have `,`s."
      ]
    },
{
      "cell_type": "markdown",
      "metadata": {},
      "source": [
      "We read the `csv` with `Pandas`."
      ]
    },
{
      "cell_type": "code",
      "execution_count": 100,
      "metadata": {},
      "outputs": [
      {
          "data": {
            "text/html": [
            "<div>\n",
"<style scoped>\n",
"    .dataframe tbody tr th:only-of-type {\n",
"        vertical-align: middle;\n",
"    }\n",
"\n",
"    .dataframe tbody tr th {\n",
"        vertical-align: top;\n",
"    }\n",
"\n",
"    .dataframe thead th {\n",
"        text-align: right;\n",
"    }\n",
"</style>\n",
"<table border=\"1\" class=\"dataframe\">\n",
"  <thead>\n",
"    <tr style=\"text-align: right;\">\n",
"      <th></th>\n",
"      <th></th>\n",
"      <th>title,year,genders</th>\n",
"    </tr>\n",
"  </thead>\n",
"  <tbody>\n",
"    <tr>\n",
"      <th>Toy Story</th>\n",
"      <th>1995</th>\n",
"      <td>Adventure|Animation|Children|Comedy|Fantasy</td>\n",
"    </tr>\n",
"    <tr>\n",
"      <th>Jumanji</th>\n",
"      <th>1995</th>\n",
"      <td>Adventure|Children|Fantasy</td>\n",
"    </tr>\n",
"    <tr>\n",
"      <th>Grumpier Old Men</th>\n",
"      <th>1995</th>\n",
"      <td>Comedy|Romance</td>\n",
"    </tr>\n",
"    <tr>\n",
"      <th>Waiting to Exhale</th>\n",
"      <th>1995</th>\n",
"      <td>Comedy|Drama|Romance</td>\n",
"    </tr>\n",
"    <tr>\n",
"      <th>Father of the Bride Part II</th>\n",
"      <th>1995</th>\n",
"      <td>Comedy</td>\n",
"    </tr>\n",
"  </tbody>\n",
"</table>\n",
"</div>"
            ],
            "text/plain": [
            "                                                           title,year,genders\n",
"Toy Story                   1995  Adventure|Animation|Children|Comedy|Fantasy\n",
"Jumanji                     1995                   Adventure|Children|Fantasy\n",
"Grumpier Old Men            1995                               Comedy|Romance\n",
"Waiting to Exhale           1995                         Comedy|Drama|Romance\n",
"Father of the Bride Part II 1995                                       Comedy"
            ]
          },
          "execution_count": 120,
          "metadata": {},
          "output_type": "execute_result"
        }
      ],
      "source": [
      "import pandas as pd\n",
"df = pd.read_csv(\"movies.csv\", sep=\";;\", engine=\"python\")\n",
"df.head()"
      ]
    },
{
      "cell_type": "markdown",
      "metadata": {},
      "source": [
      "## Cheatsheet"
      ]
    },
{
      "cell_type": "markdown",
      "metadata": {},
      "source": [
      "Here you have a [cheatsheet](https://pub-fb664c455eca46a2ba762a065ac900f7.r2.dev/davechild_regular-expressions.pdf) with a lot of patterns"
      ]
    },
{
      "cell_type": "markdown",
      "metadata": {},
      "source": [
      "![davechild_regular-expressions](https://pub-fb664c455eca46a2ba762a065ac900f7.r2.dev/davechild_regular-expressions.webp)"
      ]
    }
  ],
  "metadata": {
    "kernelspec": {
      "display_name": "Python 3.7.6 ('base')",
      "language": "python",
      "name": "python3"
    },
    "language_info": {
      "codemirror_mode": {
        "name": "ipython",
        "version": 3
      },
      "file_extension": ".py",
      "mimetype": "text/x-python",
      "name": "python",
      "nbconvert_exporter": "python",
      "pygments_lexer": "ipython3",
      "version": "3.11.2"
    },
    "orig_nbformat": 4,
    "vscode": {
      "interpreter": {
        "hash": "d5745ab6aba164e1152437c779991855725055592b9f2bdb41a4825db7168d26"
      }
    }
  },
  "nbformat": 4,
  "nbformat_minor": 2
}
