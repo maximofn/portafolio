{
      "cells": [
            {
                  "cell_type": "markdown",
                  "metadata": {},
                  "source": [
                        "# Expressões regulares"
                  ]
            },
            {
                  "cell_type": "code",
                  "execution_count": 1,
                  "metadata": {},
                  "outputs": [],
                  "source": [
                        "import re"
                  ]
            },
            {
                  "cell_type": "markdown",
                  "metadata": {},
                  "source": [
                        "Este caderno foi traduzido automaticamente para torná-lo acessível a mais pessoas, por favor me avise se você vir algum erro de digitação..\n",
                        "\n",
                        "## Métodos"
                  ]
            },
            {
                  "cell_type": "markdown",
                  "metadata": {},
                  "source": [
                        "### Localizar"
                  ]
            },
            {
                  "cell_type": "markdown",
                  "metadata": {},
                  "source": [
                        "Com o método `findall()`, podemos encontrar todas as correspondências de um padrão em uma string."
                  ]
            },
            {
                  "cell_type": "code",
                  "execution_count": 2,
                  "metadata": {},
                  "outputs": [
                        {
                              "name": "stdout",
                              "output_type": "stream",
                              "text": [
                                    "['Hola, soy']\n"
                              ]
                        }
                  ],
                  "source": [
                        "string = \"Hola, soy un string\"\n",
                        "print(re.findall(\"Hola, soy\", string))"
                  ]
            },
            {
                  "cell_type": "markdown",
                  "metadata": {},
                  "source": [
                        "### Pesquisa"
                  ]
            },
            {
                  "cell_type": "markdown",
                  "metadata": {},
                  "source": [
                        "Mas se quisermos encontrar a posição em que um padrão está localizado, podemos usar o método `search()` para procurar um padrão em uma string. Esse método retorna um objeto Match se encontrar uma correspondência, caso contrário, retorna None."
                  ]
            },
            {
                  "cell_type": "code",
                  "execution_count": 3,
                  "metadata": {},
                  "outputs": [
                        {
                              "name": "stdout",
                              "output_type": "stream",
                              "text": [
                                    "<re.Match object; span=(6, 9), match='soy'>\n"
                              ]
                        }
                  ],
                  "source": [
                        "print(re.search(\"soy\", string))"
                  ]
            },
            {
                  "cell_type": "markdown",
                  "metadata": {},
                  "source": [
                        "### Correspondência"
                  ]
            },
            {
                  "cell_type": "markdown",
                  "metadata": {},
                  "source": [
                        "Também podemos usar o método `match()` que procura o padrão **no início** da string."
                  ]
            },
            {
                  "cell_type": "code",
                  "execution_count": 6,
                  "metadata": {},
                  "outputs": [
                        {
                              "name": "stdout",
                              "output_type": "stream",
                              "text": [
                                    "<re.Match object; span=(0, 4), match='Hola'>\n",
                                    "None\n"
                              ]
                        }
                  ],
                  "source": [
                        "print(re.match(\"Hola\", string))\n",
                        "print(re.match(\"soy\", string))"
                  ]
            },
            {
                  "cell_type": "markdown",
                  "metadata": {},
                  "source": [
                        "### Span"
                  ]
            },
            {
                  "cell_type": "markdown",
                  "metadata": {},
                  "source": [
                        "Se quisermos obter a posição da correspondência, podemos usar o método `span()` que retorna uma tupla com a posição inicial e final da correspondência."
                  ]
            },
            {
                  "cell_type": "code",
                  "execution_count": 47,
                  "metadata": {},
                  "outputs": [
                        {
                              "name": "stdout",
                              "output_type": "stream",
                              "text": [
                                    "(0, 4)\n"
                              ]
                        }
                  ],
                  "source": [
                        "print(re.match(\"Hola\", string).span())"
                  ]
            },
            {
                  "cell_type": "markdown",
                  "metadata": {},
                  "source": [
                        "### Grupo"
                  ]
            },
            {
                  "cell_type": "markdown",
                  "metadata": {},
                  "source": [
                        "Sabendo a posição da correspondência, podemos usar o método `group()` para obter a substring que corresponde ao padrão."
                  ]
            },
            {
                  "cell_type": "code",
                  "execution_count": 49,
                  "metadata": {},
                  "outputs": [
                        {
                              "name": "stdout",
                              "output_type": "stream",
                              "text": [
                                    "Hola\n"
                              ]
                        }
                  ],
                  "source": [
                        "print(re.match(\"Hola\", string).group())"
                  ]
            },
            {
                  "cell_type": "markdown",
                  "metadata": {},
                  "source": [
                        "Também poderíamos usar o início e o fim da correspondência para criar uma fatia da cadeia de caracteres."
                  ]
            },
            {
                  "cell_type": "code",
                  "execution_count": 51,
                  "metadata": {},
                  "outputs": [
                        {
                              "name": "stdout",
                              "output_type": "stream",
                              "text": [
                                    "Hola\n"
                              ]
                        }
                  ],
                  "source": [
                        "start, end = re.match(\"Hola\", string).span()\n",
                        "print(string[start:end])"
                  ]
            },
            {
                  "cell_type": "markdown",
                  "metadata": {},
                  "source": [
                        "### Separação"
                  ]
            },
            {
                  "cell_type": "markdown",
                  "metadata": {},
                  "source": [
                        "Com o método `split()`, podemos dividir uma string em uma lista de substrings usando um padrão como separador."
                  ]
            },
            {
                  "cell_type": "code",
                  "execution_count": 7,
                  "metadata": {},
                  "outputs": [
                        {
                              "name": "stdout",
                              "output_type": "stream",
                              "text": [
                                    "['Hola, ', ' un string']\n"
                              ]
                        }
                  ],
                  "source": [
                        "split = re.split(\"soy\", string)\n",
                        "print(split)"
                  ]
            },
            {
                  "cell_type": "markdown",
                  "metadata": {},
                  "source": [
                        "A frase foi dividida em duas cadeias de caracteres usando \"I am\" como separador."
                  ]
            },
            {
                  "cell_type": "markdown",
                  "metadata": {},
                  "source": [
                        "### Sub"
                  ]
            },
            {
                  "cell_type": "markdown",
                  "metadata": {},
                  "source": [
                        "Com o método `sub()`, podemos substituir todas as correspondências de um padrão por outra substring."
                  ]
            },
            {
                  "cell_type": "code",
                  "execution_count": 8,
                  "metadata": {},
                  "outputs": [
                        {
                              "name": "stdout",
                              "output_type": "stream",
                              "text": [
                                    "Hola, eres un string\n"
                              ]
                        }
                  ],
                  "source": [
                        "sub = re.sub(\"soy\", \"eres\", string)\n",
                        "print(sub)"
                  ]
            },
            {
                  "cell_type": "markdown",
                  "metadata": {},
                  "source": [
                        "Ele substituiu todas as correspondências de \"I am\" por \"you are\"."
                  ]
            },
            {
                  "cell_type": "markdown",
                  "metadata": {},
                  "source": [
                        "## Padrões"
                  ]
            },
            {
                  "cell_type": "markdown",
                  "metadata": {},
                  "source": [
                        "### O caractere `.`"
                  ]
            },
            {
                  "cell_type": "markdown",
                  "metadata": {},
                  "source": [
                        "Com o caractere `.`, podemos pesquisar qualquer caractere; qualquer caractere em nossa string será encontrado."
                  ]
            },
            {
                  "cell_type": "code",
                  "execution_count": 2,
                  "metadata": {},
                  "outputs": [
                        {
                              "name": "stdout",
                              "output_type": "stream",
                              "text": [
                                    "['H', 'o', 'l', 'a', ',', ' ', 's', 'o', 'y', ' ', 'u', 'n', ' ', 's', 't', 'r', 'i', 'n', 'g']\n"
                              ]
                        }
                  ],
                  "source": [
                        "string = \"Hola, soy un string\"\n",
                        "print(re.findall(\".\", string))"
                  ]
            },
            {
                  "cell_type": "markdown",
                  "metadata": {},
                  "source": [
                        "Se, por exemplo, quisermos sequências de dois caracteres, faremos a busca com dois `.`s em uma linha."
                  ]
            },
            {
                  "cell_type": "code",
                  "execution_count": 3,
                  "metadata": {},
                  "outputs": [
                        {
                              "name": "stdout",
                              "output_type": "stream",
                              "text": [
                                    "['Ho', 'la', ', ', 'so', 'y ', 'un', ' s', 'tr', 'in']\n",
                                    "['Ho', 'la', ', ', 'so', 'y ', 'un', ' s', 'tr', 'in', 'g2']\n"
                              ]
                        }
                  ],
                  "source": [
                        "string1 = \"Hola, soy un string\"\n",
                        "string2 = \"Hola, soy un string2\"\n",
                        "print(re.findall(\"..\", string1))\n",
                        "print(re.findall(\"..\", string2))"
                  ]
            },
            {
                  "cell_type": "markdown",
                  "metadata": {},
                  "source": [
                        "Como podemos ver, `string1` tem um número ímpar de caracteres, de modo que o último `g` não é usado, mas `string2` tem um número par de caracteres, de modo que todos os caracteres são usados."
                  ]
            },
            {
                  "cell_type": "markdown",
                  "metadata": {},
                  "source": [
                        "Vamos analisar isso de outra forma: vamos alterar cada sequência de três caracteres para um símbolo `$`."
                  ]
            },
            {
                  "cell_type": "code",
                  "execution_count": 4,
                  "metadata": {},
                  "outputs": [
                        {
                              "name": "stdout",
                              "output_type": "stream",
                              "text": [
                                    "Hola, soy un string\n",
                                    "$  $  $  $  $  $  g\n"
                              ]
                        }
                  ],
                  "source": [
                        "print(string1)\n",
                        "print(re.sub(\"...\", \"$  \", string1))"
                  ]
            },
            {
                  "cell_type": "markdown",
                  "metadata": {},
                  "source": [
                        "Imprimi dois espaços após cada `$` para que você possa ver a alteração, e você pode ver como o último caractere não o converte."
                  ]
            },
            {
                  "cell_type": "markdown",
                  "metadata": {},
                  "source": [
                        "### As classes predefinidas e construídas"
                  ]
            },
            {
                  "cell_type": "markdown",
                  "metadata": {},
                  "source": [
                        "#### Dígito"
                  ]
            },
            {
                  "cell_type": "markdown",
                  "metadata": {},
                  "source": [
                        "Se quisermos encontrar os dígitos, precisaremos usar `d`."
                  ]
            },
            {
                  "cell_type": "code",
                  "execution_count": 5,
                  "metadata": {},
                  "outputs": [
                        {
                              "name": "stdout",
                              "output_type": "stream",
                              "text": [
                                    "['1', '2', '3']\n"
                              ]
                        }
                  ],
                  "source": [
                        "string = \"Hola, soy un string con 123 digitos\"\n",
                        "print(re.findall(\"\\d\", string))"
                  ]
            },
            {
                  "cell_type": "markdown",
                  "metadata": {},
                  "source": [
                        "Como antes, se, por exemplo, quisermos dois dígitos, colocamos `d` duas vezes."
                  ]
            },
            {
                  "cell_type": "code",
                  "execution_count": 6,
                  "metadata": {},
                  "outputs": [
                        {
                              "name": "stdout",
                              "output_type": "stream",
                              "text": [
                                    "['12']\n"
                              ]
                        }
                  ],
                  "source": [
                        "print(re.findall(\"\\d\\d\", string))"
                  ]
            },
            {
                  "cell_type": "markdown",
                  "metadata": {},
                  "source": [
                        "#### Carta"
                  ]
            },
            {
                  "cell_type": "markdown",
                  "metadata": {},
                  "source": [
                        "Se quisermos encontrar letras, precisamos usar `w`. Palavra significa todas as letras de `a` a `z`, de `A` a `Z`, números de `0` a `9` e o `_`."
                  ]
            },
            {
                  "cell_type": "code",
                  "execution_count": 7,
                  "metadata": {},
                  "outputs": [
                        {
                              "name": "stdout",
                              "output_type": "stream",
                              "text": [
                                    "['H', 'o', 'l', 'a', 's', 'o', 'y', 'u', 'n', '_', 's', 't', 'r', 'i', 'n', 'g', 'c', 'o', 'n', '1', '2', '3', 'd', 'i', 'g', 'i', 't', 'o', 's']\n"
                              ]
                        }
                  ],
                  "source": [
                        "string = \"Hola, soy un_string con, 123 digitos\"\n",
                        "print(re.findall(\"\\w\", string))"
                  ]
            },
            {
                  "cell_type": "markdown",
                  "metadata": {},
                  "source": [
                        "Como podemos ver, ele usa tudo, exceto os espaços e a vírgula."
                  ]
            },
            {
                  "cell_type": "markdown",
                  "metadata": {},
                  "source": [
                        "#### Espaços"
                  ]
            },
            {
                  "cell_type": "markdown",
                  "metadata": {},
                  "source": [
                        "Se quisermos encontrar espaços, precisamos de \"espaços\"."
                  ]
            },
            {
                  "cell_type": "code",
                  "execution_count": 8,
                  "metadata": {},
                  "outputs": [
                        {
                              "name": "stdout",
                              "output_type": "stream",
                              "text": [
                                    "Hola,*soy*un_string*con,*123*digitos\n"
                              ]
                        }
                  ],
                  "source": [
                        "string = \"Hola, soy un_string con, 123 digitos\"\n",
                        "print(re.sub(\"\\s\", \"*\", string))"
                  ]
            },
            {
                  "cell_type": "markdown",
                  "metadata": {},
                  "source": [
                        "As expressões regulares tratam as quebras de linha como espaços."
                  ]
            },
            {
                  "cell_type": "code",
                  "execution_count": 9,
                  "metadata": {},
                  "outputs": [
                        {
                              "name": "stdout",
                              "output_type": "stream",
                              "text": [
                                    "Hola,*soy*un*string**con*un*salto*de*línea\n"
                              ]
                        }
                  ],
                  "source": [
                        "string = \"\"\"Hola, soy un string \n",
                        "con un salto de línea\"\"\"\n",
                        "print(re.sub(\"\\s\", \"*\", string))"
                  ]
            },
            {
                  "cell_type": "markdown",
                  "metadata": {},
                  "source": [
                        "#### Ranks"
                  ]
            },
            {
                  "cell_type": "markdown",
                  "metadata": {},
                  "source": [
                        "Se quisermos pesquisar um intervalo, usaremos `[]`, por exemplo, se quisermos os números de 4 a 8, usaremos"
                  ]
            },
            {
                  "cell_type": "code",
                  "execution_count": 10,
                  "metadata": {},
                  "outputs": [
                        {
                              "name": "stdout",
                              "output_type": "stream",
                              "text": [
                                    "['4', '5', '6', '7', '8']\n"
                              ]
                        }
                  ],
                  "source": [
                        "string = \"1234567890\"\n",
                        "print(re.findall(\"[4-8]\", string))"
                  ]
            },
            {
                  "cell_type": "markdown",
                  "metadata": {},
                  "source": [
                        "Podemos ampliar o intervalo de pesquisa"
                  ]
            },
            {
                  "cell_type": "code",
                  "execution_count": 11,
                  "metadata": {},
                  "outputs": [
                        {
                              "name": "stdout",
                              "output_type": "stream",
                              "text": [
                                    "['2', '3', '4', '5', '7', '8', '9']\n"
                              ]
                        }
                  ],
                  "source": [
                        "string = \"1234567890\"\n",
                        "print(re.findall(\"[2-57-9]\", string))"
                  ]
            },
            {
                  "cell_type": "markdown",
                  "metadata": {},
                  "source": [
                        "Se também quisermos encontrar um caractere específico, colocaremos o caractere seguido de ``."
                  ]
            },
            {
                  "cell_type": "code",
                  "execution_count": 12,
                  "metadata": {},
                  "outputs": [
                        {
                              "name": "stdout",
                              "output_type": "stream",
                              "text": [
                                    "['2', '3', '4', '5', '7', '8', '9', '.']\n"
                              ]
                        }
                  ],
                  "source": [
                        "string = \"1234567890.\"\n",
                        "print(re.findall(\"[2-57-9\\.]\", string))"
                  ]
            },
            {
                  "cell_type": "markdown",
                  "metadata": {},
                  "source": [
                        "#### Colchete `[` e colchete `]`"
                  ]
            },
            {
                  "cell_type": "markdown",
                  "metadata": {},
                  "source": [
                        "Como vimos, se quisermos encontrar intervalos, usamos `[]`, mas e se quisermos encontrar apenas o `[` ou o `]`? Para isso, temos que usar `[]` e `[`]`."
                  ]
            },
            {
                  "cell_type": "code",
                  "execution_count": 13,
                  "metadata": {},
                  "outputs": [
                        {
                              "name": "stdout",
                              "output_type": "stream",
                              "text": [
                                    "['[']\n",
                                    "[']']\n"
                              ]
                        }
                  ],
                  "source": [
                        "string = \"[1234567890]\"\n",
                        "print(re.findall(\"\\[\", string))\n",
                        "print(re.findall(\"\\]\", string))"
                  ]
            },
            {
                  "cell_type": "markdown",
                  "metadata": {},
                  "source": [
                        "### Os delimitadores `+`, `*`, `?`, `?"
                  ]
            },
            {
                  "cell_type": "markdown",
                  "metadata": {},
                  "source": [
                        "#### Star `*` (nenhum ou todos)"
                  ]
            },
            {
                  "cell_type": "markdown",
                  "metadata": {},
                  "source": [
                        "O delimitador `*` indica que você deseja pesquisar nenhum ou todos eles, e não um a um como antes."
                  ]
            },
            {
                  "cell_type": "code",
                  "execution_count": 14,
                  "metadata": {},
                  "outputs": [
                        {
                              "name": "stdout",
                              "output_type": "stream",
                              "text": [
                                    "['1', '2', '1', '2', '3']\n",
                                    "['', '', '', '', '', '', '', '', '', '', '', '', '', '', '', '', '', '', '', '', '', '', '', '', '12', '', '123', '', '', '', '', '', '', '', '', '']\n"
                              ]
                        }
                  ],
                  "source": [
                        "string = \"Hola, soy un string con 12 123 digitos\"\n",
                        "print(re.findall(\"\\d\", string))\n",
                        "print(re.findall(\"\\d*\", string))"
                  ]
            },
            {
                  "cell_type": "markdown",
                  "metadata": {},
                  "source": [
                        "Como você pode ver, colocar o `*` encontrou todas as posições em que há zero caracteres ou todos os caracteres."
                  ]
            },
            {
                  "cell_type": "markdown",
                  "metadata": {},
                  "source": [
                        "#### Plus `+` (um ou mais)"
                  ]
            },
            {
                  "cell_type": "markdown",
                  "metadata": {},
                  "source": [
                        "Com o delimitador `+`, você indica que deseja pesquisar um ou mais"
                  ]
            },
            {
                  "cell_type": "code",
                  "execution_count": 15,
                  "metadata": {},
                  "outputs": [
                        {
                              "name": "stdout",
                              "output_type": "stream",
                              "text": [
                                    "['1', '12', '123']\n"
                              ]
                        }
                  ],
                  "source": [
                        "string = \"Hola, soy un string con 1 12 123 digitos\"\n",
                        "print(re.findall(\"\\d+\", string))"
                  ]
            },
            {
                  "cell_type": "markdown",
                  "metadata": {},
                  "source": [
                        "#### Opcional `?` (zero ou um)"
                  ]
            },
            {
                  "cell_type": "markdown",
                  "metadata": {},
                  "source": [
                        "O delimitador `?` indica que você deseja pesquisar zero ou um."
                  ]
            },
            {
                  "cell_type": "code",
                  "execution_count": 16,
                  "metadata": {},
                  "outputs": [
                        {
                              "name": "stdout",
                              "output_type": "stream",
                              "text": [
                                    "-H-o-l-a-,- -s-o-y- -u-n- -s-t-r-i-n-g- -c-o-n- -- --- ---- -d-i-g-i-t-o-s-\n"
                              ]
                        }
                  ],
                  "source": [
                        "string = \"Hola, soy un string con 1 12 123 digitos\"\n",
                        "print(re.sub(\"\\d?\", \"-\", string))"
                  ]
            },
            {
                  "cell_type": "markdown",
                  "metadata": {},
                  "source": [
                        "### Contadores"
                  ]
            },
            {
                  "cell_type": "markdown",
                  "metadata": {},
                  "source": [
                        "Quando quisermos encontrar algo que apareça x vezes, usaremos os contadores entre chaves `{}`. Por exemplo, se quisermos encontrar uma sequência na qual haja pelo menos dois dígitos"
                  ]
            },
            {
                  "cell_type": "code",
                  "execution_count": 17,
                  "metadata": {},
                  "outputs": [
                        {
                              "name": "stdout",
                              "output_type": "stream",
                              "text": [
                                    "['12', '12', '12', '34', '12', '34']\n"
                              ]
                        }
                  ],
                  "source": [
                        "string = \"Hola, soy un string con 1 12 123 1234 1234digitos\"\n",
                        "print(re.findall(\"\\d{2}\", string))"
                  ]
            },
            {
                  "cell_type": "markdown",
                  "metadata": {},
                  "source": [
                        "Como você pode ver, você encontrou as sequências `12` e `34`."
                  ]
            },
            {
                  "cell_type": "markdown",
                  "metadata": {},
                  "source": [
                        "Os contadores aceitam uma dimensão superior e inferior `{{inf, sup}`."
                  ]
            },
            {
                  "cell_type": "code",
                  "execution_count": 18,
                  "metadata": {},
                  "outputs": [
                        {
                              "name": "stdout",
                              "output_type": "stream",
                              "text": [
                                    "['12', '123', '1234', '1234']\n"
                              ]
                        }
                  ],
                  "source": [
                        "string = \"Hola, soy un string con 1 12 123 1234 1234digitos\"\n",
                        "print(re.findall(\"\\d{2,5}\", string))"
                  ]
            },
            {
                  "cell_type": "markdown",
                  "metadata": {},
                  "source": [
                        "Se nenhuma dimensão superior for definida, isso significa que você deseja pelo menos o número de elementos indicado, mas nenhum limite superior."
                  ]
            },
            {
                  "cell_type": "code",
                  "execution_count": 19,
                  "metadata": {},
                  "outputs": [
                        {
                              "name": "stdout",
                              "output_type": "stream",
                              "text": [
                                    "['12', '123', '1234', '12345464168415641646451563416']\n"
                              ]
                        }
                  ],
                  "source": [
                        "string = \"Hola, soy un string con 1 12 123 1234 12345464168415641646451563416 digitos\"\n",
                        "print(re.findall(\"\\d{2,}\", string))"
                  ]
            },
            {
                  "cell_type": "markdown",
                  "metadata": {},
                  "source": [
                        "Se quisermos usar a notação de dimensão superior e inferior, mas quisermos um número fixo, teremos que colocar esse número em ambas as dimensões."
                  ]
            },
            {
                  "cell_type": "code",
                  "execution_count": 20,
                  "metadata": {},
                  "outputs": [
                        {
                              "name": "stdout",
                              "output_type": "stream",
                              "text": [
                                    "['12', '123', '123', '123', '454', '641', '684', '156', '416', '464', '515', '634', '16']\n"
                              ]
                        }
                  ],
                  "source": [
                        "string = \"Hola, soy un string con 1 12 123 1234 12345464168415641646451563416 digitos\"\n",
                        "print(re.findall(\"\\d{2,3}\", string))"
                  ]
            },
            {
                  "cell_type": "markdown",
                  "metadata": {},
                  "source": [
                        "### Classes"
                  ]
            },
            {
                  "cell_type": "markdown",
                  "metadata": {},
                  "source": [
                        "Você pode criar classes usando colchetes `[]`. Na verdade, vimos que isso era para intervalos, mas, depois de definir o que deseja dentro deles, você pode considerá-lo como uma classe e operar com o `[]`."
                  ]
            },
            {
                  "cell_type": "markdown",
                  "metadata": {},
                  "source": [
                        "Por exemplo, suponha que tenhamos um número de telefone, que pode ser fornecido de uma das seguintes maneiras\n",
                        " * 666-66-66-66\n",
                        " * 666-666-666\n",
                        " * 666 666 666\n",
                        " * 666 66 66 66\n",
                        " * 666666666\n",
                        "\n",
                        "Há muitas maneiras de fornecer um número, portanto, vamos ver como criar uma classe para definir o delimitador."
                  ]
            },
            {
                  "cell_type": "markdown",
                  "metadata": {},
                  "source": [
                        "Primeiro, pediremos a ele que encontre todas as sequências de números em que haja pelo menos dois números."
                  ]
            },
            {
                  "cell_type": "code",
                  "execution_count": 21,
                  "metadata": {},
                  "outputs": [
                        {
                              "name": "stdout",
                              "output_type": "stream",
                              "text": [
                                    "string1: 666-66-66-66 --> ['666', '66', '66', '66']\n",
                                    "string2: 666-666-666 --> ['666', '666', '666']\n",
                                    "string3: 666 66 66 66 --> ['666', '66', '66', '66']\n",
                                    "string4: 666 666 666 --> ['666', '666', '666']\n",
                                    "string5: 666666666 --> ['666666666']\n"
                              ]
                        }
                  ],
                  "source": [
                        "string1 = \"666-66-66-66\"\n",
                        "string2 = \"666-666-666\"\n",
                        "string3 = \"666 66 66 66\"\n",
                        "string4 = \"666 666 666\"\n",
                        "string5 = \"666666666\"\n",
                        "print(f\"string1: {string1} -->\", re.findall(\"\\d{2,}\", string1))\n",
                        "print(f\"string2: {string2} -->\", re.findall(\"\\d{2,}\", string2))\n",
                        "print(f\"string3: {string3} -->\", re.findall(\"\\d{2,}\", string3))\n",
                        "print(f\"string4: {string4} -->\", re.findall(\"\\d{2,}\", string4))\n",
                        "print(f\"string5: {string5} -->\", re.findall(\"\\d{2,}\", string5))"
                  ]
            },
            {
                  "cell_type": "markdown",
                  "metadata": {},
                  "source": [
                        "Agora, definimos o separador a ser encontrado como um `-` ou um espaço."
                  ]
            },
            {
                  "cell_type": "code",
                  "execution_count": 22,
                  "metadata": {},
                  "outputs": [
                        {
                              "name": "stdout",
                              "output_type": "stream",
                              "text": [
                                    "string1: 666-66-66-66 --> ['-', '-', '-']\n",
                                    "string2: 666-666-666 --> ['-', '-']\n",
                                    "string3: 666 66 66 66 --> [' ', ' ', ' ']\n",
                                    "string4: 666 666 666 --> [' ', ' ']\n",
                                    "string5: 666666666 --> []\n"
                              ]
                        }
                  ],
                  "source": [
                        "string1 = \"666-66-66-66\"\n",
                        "string2 = \"666-666-666\"\n",
                        "string3 = \"666 66 66 66\"\n",
                        "string4 = \"666 666 666\"\n",
                        "string5 = \"666666666\"\n",
                        "print(f\"string1: {string1} -->\", re.findall(\"[-\\s]\", string1))\n",
                        "print(f\"string2: {string2} -->\", re.findall(\"[-\\s]\", string2))\n",
                        "print(f\"string3: {string3} -->\", re.findall(\"[-\\s]\", string3))\n",
                        "print(f\"string4: {string4} -->\", re.findall(\"[-\\s]\", string4))\n",
                        "print(f\"string5: {string5} -->\", re.findall(\"[-\\s]\", string5))"
                  ]
            },
            {
                  "cell_type": "markdown",
                  "metadata": {},
                  "source": [
                        "Como você pode ver na última string, ela não foi encontrada, então adicionamos um `?` para encontrar quando há zero ou um."
                  ]
            },
            {
                  "cell_type": "code",
                  "execution_count": 23,
                  "metadata": {},
                  "outputs": [
                        {
                              "name": "stdout",
                              "output_type": "stream",
                              "text": [
                                    "string1: 666-66-66-66 --> ['', '', '', '-', '', '', '-', '', '', '-', '', '', '']\n",
                                    "string2: 666-666-666 --> ['', '', '', '-', '', '', '', '-', '', '', '', '']\n",
                                    "string3: 666 66 66 66 --> ['', '', '', ' ', '', '', ' ', '', '', ' ', '', '', '']\n",
                                    "string4: 666 666 666 --> ['', '', '', ' ', '', '', '', ' ', '', '', '', '']\n",
                                    "string5: 666666666 --> ['', '', '', '', '', '', '', '', '', '']\n"
                              ]
                        }
                  ],
                  "source": [
                        "string1 = \"666-66-66-66\"\n",
                        "string2 = \"666-666-666\"\n",
                        "string3 = \"666 66 66 66\"\n",
                        "string4 = \"666 666 666\"\n",
                        "string5 = \"666666666\"\n",
                        "print(f\"string1: {string1} -->\", re.findall(\"[-\\s]?\", string1))\n",
                        "print(f\"string2: {string2} -->\", re.findall(\"[-\\s]?\", string2))\n",
                        "print(f\"string3: {string3} -->\", re.findall(\"[-\\s]?\", string3))\n",
                        "print(f\"string4: {string4} -->\", re.findall(\"[-\\s]?\", string4))\n",
                        "print(f\"string5: {string5} -->\", re.findall(\"[-\\s]?\", string5))"
                  ]
            },
            {
                  "cell_type": "markdown",
                  "metadata": {},
                  "source": [
                        "Agora estamos procurando que tudo esteja junto"
                  ]
            },
            {
                  "cell_type": "code",
                  "execution_count": 24,
                  "metadata": {},
                  "outputs": [
                        {
                              "name": "stdout",
                              "output_type": "stream",
                              "text": [
                                    "string1: 666-66-66-66 --> ['666-66-66-66']\n",
                                    "string2: 666-666-666 --> []\n",
                                    "string3: 666 66 66 66 --> ['666 66 66 66']\n",
                                    "string4: 666 666 666 --> []\n",
                                    "string5: 666666666 --> ['666666666']\n"
                              ]
                        }
                  ],
                  "source": [
                        "string1 = \"666-66-66-66\"\n",
                        "string2 = \"666-666-666\"\n",
                        "string3 = \"666 66 66 66\"\n",
                        "string4 = \"666 666 666\"\n",
                        "string5 = \"666666666\"\n",
                        "print(f\"string1: {string1} -->\", re.findall(\"\\d{2,}[-\\s]?\\d{2,}[-\\s]?\\d{2,}[-\\s]?\\d{2,}[-\\s]?\", string1))\n",
                        "print(f\"string2: {string2} -->\", re.findall(\"\\d{2,}[-\\s]?\\d{2,}[-\\s]?\\d{2,}[-\\s]?\\d{2,}[-\\s]?\", string2))\n",
                        "print(f\"string3: {string3} -->\", re.findall(\"\\d{2,}[-\\s]?\\d{2,}[-\\s]?\\d{2,}[-\\s]?\\d{2,}[-\\s]?\", string3))\n",
                        "print(f\"string4: {string4} -->\", re.findall(\"\\d{2,}[-\\s]?\\d{2,}[-\\s]?\\d{2,}[-\\s]?\\d{2,}[-\\s]?\", string4))\n",
                        "print(f\"string5: {string5} -->\", re.findall(\"\\d{2,}[-\\s]?\\d{2,}[-\\s]?\\d{2,}[-\\s]?\\d{2,}[-\\s]?\", string5))"
                  ]
            },
            {
                  "cell_type": "markdown",
                  "metadata": {},
                  "source": [
                        "Como podemos ver em `string2` e `string4`, ele não encontra nada. Definimos o filtro `[\\d{2,}[\\s]?` 4 vezes, ou seja, queremos uma sequência de pelo menos dois números, seguida por zero ou um hífen ou separador de espaço que se repita 4 vezes. Mas na última sequência não há necessidade do `[\\d{2,}[\\s]?`, pois ele nunca terminará um número com um espaço ou um hífen."
                  ]
            },
            {
                  "cell_type": "code",
                  "execution_count": 25,
                  "metadata": {},
                  "outputs": [
                        {
                              "name": "stdout",
                              "output_type": "stream",
                              "text": [
                                    "string1: 666-66-66-66 --> ['666-66-66-66']\n",
                                    "string2: 666-666-666 --> []\n",
                                    "string3: 666 66 66 66 --> ['666 66 66 66']\n",
                                    "string4: 666 666 666 --> []\n",
                                    "string5: 666666666 --> ['666666666']\n"
                              ]
                        }
                  ],
                  "source": [
                        "string1 = \"666-66-66-66\"\n",
                        "string2 = \"666-666-666\"\n",
                        "string3 = \"666 66 66 66\"\n",
                        "string4 = \"666 666 666\"\n",
                        "string5 = \"666666666\"\n",
                        "print(f\"string1: {string1} -->\", re.findall(\"\\d{2,}[-\\s]?\\d{2,}[-\\s]?\\d{2,}[-\\s]?\\d{2,}\", string1))\n",
                        "print(f\"string2: {string2} -->\", re.findall(\"\\d{2,}[-\\s]?\\d{2,}[-\\s]?\\d{2,}[-\\s]?\\d{2,}\", string2))\n",
                        "print(f\"string3: {string3} -->\", re.findall(\"\\d{2,}[-\\s]?\\d{2,}[-\\s]?\\d{2,}[-\\s]?\\d{2,}\", string3))\n",
                        "print(f\"string4: {string4} -->\", re.findall(\"\\d{2,}[-\\s]?\\d{2,}[-\\s]?\\d{2,}[-\\s]?\\d{2,}\", string4))\n",
                        "print(f\"string5: {string5} -->\", re.findall(\"\\d{2,}[-\\s]?\\d{2,}[-\\s]?\\d{2,}[-\\s]?\\d{2,}\", string5))"
                  ]
            },
            {
                  "cell_type": "markdown",
                  "metadata": {},
                  "source": [
                        "Ainda não foi encontrado para `string2` e `string4`. Isso ocorre porque a última coisa no filtro é um `d{2,}`, ou seja, após o terceiro separador, esperamos pelo menos dois números, mas isso não acontece em `string2` e `string4`, então colocamos o seguinte"
                  ]
            },
            {
                  "cell_type": "code",
                  "execution_count": 26,
                  "metadata": {},
                  "outputs": [
                        {
                              "name": "stdout",
                              "output_type": "stream",
                              "text": [
                                    "string1: 666-66-66-66 --> ['666-66-66-66']\n",
                                    "string2: 666-666-666 --> ['666-666-666']\n",
                                    "string3: 666 66 66 66 --> ['666 66 66 66']\n",
                                    "string4: 666 666 666 --> ['666 666 666']\n",
                                    "string5: 666666666 --> ['666666666']\n"
                              ]
                        }
                  ],
                  "source": [
                        "string1 = \"666-66-66-66\"\n",
                        "string2 = \"666-666-666\"\n",
                        "string3 = \"666 66 66 66\"\n",
                        "string4 = \"666 666 666\"\n",
                        "string5 = \"666666666\"\n",
                        "print(f\"string1: {string1} -->\", re.findall(\"\\d{2,}[-\\s]?\\d{2,}[-\\s]?\\d{2,}[-\\s]?\\d*\", string1))\n",
                        "print(f\"string2: {string2} -->\", re.findall(\"\\d{2,}[-\\s]?\\d{2,}[-\\s]?\\d{2,}[-\\s]?\\d*\", string2))\n",
                        "print(f\"string3: {string3} -->\", re.findall(\"\\d{2,}[-\\s]?\\d{2,}[-\\s]?\\d{2,}[-\\s]?\\d*\", string3))\n",
                        "print(f\"string4: {string4} -->\", re.findall(\"\\d{2,}[-\\s]?\\d{2,}[-\\s]?\\d{2,}[-\\s]?\\d*\", string4))\n",
                        "print(f\"string5: {string5} -->\", re.findall(\"\\d{2,}[-\\s]?\\d{2,}[-\\s]?\\d{2,}[-\\s]?\\d*\", string5))"
                  ]
            },
            {
                  "cell_type": "markdown",
                  "metadata": {},
                  "source": [
                        "### O delimitador `?` como um delimitador rápido"
                  ]
            },
            {
                  "cell_type": "markdown",
                  "metadata": {},
                  "source": [
                        "O exemplo acima pode ser filtrado usando `d+?[- ]`."
                  ]
            },
            {
                  "cell_type": "code",
                  "execution_count": 27,
                  "metadata": {},
                  "outputs": [
                        {
                              "name": "stdout",
                              "output_type": "stream",
                              "text": [
                                    "string1: 666-66-66-66 --> ['666-', '66-', '66-']\n",
                                    "string2: 666-666-666 --> ['666-', '666-']\n",
                                    "string3: 666 66 66 66 --> ['666 ', '66 ', '66 ']\n",
                                    "string4: 666 666 666 --> ['666 ', '666 ']\n",
                                    "string5: 666666666 --> []\n"
                              ]
                        }
                  ],
                  "source": [
                        "string1 = \"666-66-66-66\"\n",
                        "string2 = \"666-666-666\"\n",
                        "string3 = \"666 66 66 66\"\n",
                        "string4 = \"666 666 666\"\n",
                        "string5 = \"666666666\"\n",
                        "print(f\"string1: {string1} -->\", re.findall(\"\\d+?[- ]\", string1))\n",
                        "print(f\"string2: {string2} -->\", re.findall(\"\\d+?[- ]\", string2))\n",
                        "print(f\"string3: {string3} -->\", re.findall(\"\\d+?[- ]\", string3))\n",
                        "print(f\"string4: {string4} -->\", re.findall(\"\\d+?[- ]\", string4))\n",
                        "print(f\"string5: {string5} -->\", re.findall(\"\\d+?[- ]\", string5))"
                  ]
            },
            {
                  "cell_type": "markdown",
                  "metadata": {},
                  "source": [
                        "Sem o delimitador `?`, teríamos `\\d+[- ]`, o que significa uma sequência de um ou mais números seguidos por um espaço ou hífen. Mas o que o delimitador `?` faz é tornar essa busca mais rápida"
                  ]
            },
            {
                  "cell_type": "markdown",
                  "metadata": {},
                  "source": [
                        "### O negador"
                  ]
            },
            {
                  "cell_type": "markdown",
                  "metadata": {},
                  "source": [
                        "Anteriormente, vimos que com `d` encontramos dígitos, portanto, com `D` encontramos tudo o que não é dígito."
                  ]
            },
            {
                  "cell_type": "code",
                  "execution_count": 28,
                  "metadata": {},
                  "outputs": [
                        {
                              "name": "stdout",
                              "output_type": "stream",
                              "text": [
                                    "['E', 's', 't', 'e', ' ', 'e', 's', 't', 'r', 'i', 'n', 'g', ' ', 't', 'i', 'e', 'n', 'e', ' ', 'd', 'i', 'g', 'i', 't', 'o', 's']\n"
                              ]
                        }
                  ],
                  "source": [
                        "string1 = \"E3s4t6e e1s2t3r5i6n7g8 t9i0e4n2e1 d4i5g7i9t0o5s2\"\n",
                        "print(re.findall(\"\\D\", string1))"
                  ]
            },
            {
                  "cell_type": "markdown",
                  "metadata": {},
                  "source": [
                        "O mesmo vale para as letras: se você digitar `W`, ele encontrará tudo o que não for uma letra."
                  ]
            },
            {
                  "cell_type": "code",
                  "execution_count": 29,
                  "metadata": {},
                  "outputs": [
                        {
                              "name": "stdout",
                              "output_type": "stream",
                              "text": [
                                    "[' ', ' ', ' ', ' ', ',', '.', ':', ';', '´']\n"
                              ]
                        }
                  ],
                  "source": [
                        "string1 = \"Letras ab27_ no letras ,.:;´ç\"\n",
                        "print(re.findall(\"\\W\", string1))"
                  ]
            },
            {
                  "cell_type": "markdown",
                  "metadata": {},
                  "source": [
                        "Se colocarmos `S`, encontraremos tudo o que não for espaço"
                  ]
            },
            {
                  "cell_type": "code",
                  "execution_count": 30,
                  "metadata": {},
                  "outputs": [
                        {
                              "name": "stdout",
                              "output_type": "stream",
                              "text": [
                                    "['L', 'e', 't', 'r', 'a', 's', 'a', 'b', '2', '7', '_', 'n', 'o', 'l', 'e', 't', 'r', 'a', 's', ',', '.', ':', ';', '´', 'ç']\n"
                              ]
                        }
                  ],
                  "source": [
                        "print(re.findall(\"\\S\", string1))"
                  ]
            },
            {
                  "cell_type": "markdown",
                  "metadata": {},
                  "source": [
                        "Mas, caso tenhamos uma classe ou outra coisa, podemos negá-la com `^`."
                  ]
            },
            {
                  "cell_type": "code",
                  "execution_count": 31,
                  "metadata": {},
                  "outputs": [
                        {
                              "name": "stdout",
                              "output_type": "stream",
                              "text": [
                                    "['1', '2', '3', '4', '0']\n"
                              ]
                        }
                  ],
                  "source": [
                        "string1 = \"1234567890\"\n",
                        "print(re.findall(\"[^5-9]\", string1))"
                  ]
            },
            {
                  "cell_type": "markdown",
                  "metadata": {},
                  "source": [
                        "Voltando ao exemplo anterior dos números de telefone, podemos filtrá-los da seguinte forma"
                  ]
            },
            {
                  "cell_type": "code",
                  "execution_count": 32,
                  "metadata": {},
                  "outputs": [
                        {
                              "name": "stdout",
                              "output_type": "stream",
                              "text": [
                                    "string1: 666-66-66-66 --> ['666-66-66-66']\n",
                                    "string2: 666-666-666 --> ['666-666-666']\n",
                                    "string3: 666 66 66 66 --> ['666 66 66 66']\n",
                                    "string4: 666 666 666 --> ['666 666 666']\n",
                                    "string5: 666666666 --> ['666666666']\n"
                              ]
                        }
                  ],
                  "source": [
                        "string1 = \"666-66-66-66\"\n",
                        "string2 = \"666-666-666\"\n",
                        "string3 = \"666 66 66 66\"\n",
                        "string4 = \"666 666 666\"\n",
                        "string5 = \"666666666\"\n",
                        "print(f\"string1: {string1} -->\", re.findall(\"\\d{2,}\\D?\\d{2,}\\D?\\d{2,}\\D?\\d*\", string1))\n",
                        "print(f\"string2: {string2} -->\", re.findall(\"\\d{2,}\\D?\\d{2,}\\D?\\d{2,}\\D?\\d*\", string2))\n",
                        "print(f\"string3: {string3} -->\", re.findall(\"\\d{2,}\\D?\\d{2,}\\D?\\d{2,}\\D?\\d*\", string3))\n",
                        "print(f\"string4: {string4} -->\", re.findall(\"\\d{2,}\\D?\\d{2,}\\D?\\d{2,}\\D?\\d*\", string4))\n",
                        "print(f\"string5: {string5} -->\", re.findall(\"\\d{2,}\\D?\\d{2,}\\D?\\d{2,}\\D?\\d*\", string5))\n",
                        "string5 = \"666 666 666\""
                  ]
            },
            {
                  "cell_type": "markdown",
                  "metadata": {},
                  "source": [
                        "O que estamos fazendo é solicitar sequências de pelo menos dois dígitos seguidos de um ou nenhum não-dígito."
                  ]
            },
            {
                  "cell_type": "markdown",
                  "metadata": {},
                  "source": [
                        "### O início `^` e o final da linha `$`."
                  ]
            },
            {
                  "cell_type": "markdown",
                  "metadata": {},
                  "source": [
                        "Com `^`, podemos pesquisar o início de uma linha, por exemplo, se quisermos encontrar um dígito que esteja apenas no início de uma linha."
                  ]
            },
            {
                  "cell_type": "code",
                  "execution_count": 33,
                  "metadata": {},
                  "outputs": [
                        {
                              "name": "stdout",
                              "output_type": "stream",
                              "text": [
                                    "[]\n",
                                    "['2']\n"
                              ]
                        }
                  ],
                  "source": [
                        "string1 = \"linea 1\"\n",
                        "string2 = \"2ª linea\"\n",
                        "print(re.findall(\"^\\d\", string1))\n",
                        "print(re.findall(\"^\\d\", string2))"
                  ]
            },
            {
                  "cell_type": "markdown",
                  "metadata": {},
                  "source": [
                        "Como você pode ver, há apenas um dígito no início da linha em `string2`."
                  ]
            },
            {
                  "cell_type": "markdown",
                  "metadata": {},
                  "source": [
                        "Da mesma forma, o final de uma linha pode ser encontrado com `$`. Se quisermos encontrar um dígito apenas no final de uma linha"
                  ]
            },
            {
                  "cell_type": "code",
                  "execution_count": 34,
                  "metadata": {},
                  "outputs": [
                        {
                              "name": "stdout",
                              "output_type": "stream",
                              "text": [
                                    "['1']\n",
                                    "[]\n"
                              ]
                        }
                  ],
                  "source": [
                        "string1 = \"linea 1\"\n",
                        "string2 = \"2ª linea\"\n",
                        "print(re.findall(\"\\d$\", string1))\n",
                        "print(re.findall(\"\\d$\", string2))"
                  ]
            },
            {
                  "cell_type": "markdown",
                  "metadata": {},
                  "source": [
                        "Isso só ocorre em `string1`."
                  ]
            },
            {
                  "cell_type": "markdown",
                  "metadata": {},
                  "source": [
                        "## Exemplos práticos"
                  ]
            },
            {
                  "cell_type": "markdown",
                  "metadata": {},
                  "source": [
                        "### Registros"
                  ]
            },
            {
                  "cell_type": "markdown",
                  "metadata": {},
                  "source": [
                        "Se no registro a seguir quisermos encontrar apenas os `WARN`s"
                  ]
            },
            {
                  "cell_type": "code",
                  "execution_count": 35,
                  "metadata": {},
                  "outputs": [
                        {
                              "data": {
                                    "text/plain": [
                                          "['[LOG ENTRY] [WARN] The system may be down',\n",
                                          " '[LOG ENTRY] [WARN] Microsoft just bought Github']"
                                    ]
                              },
                              "execution_count": 35,
                              "metadata": {},
                              "output_type": "execute_result"
                        }
                  ],
                  "source": [
                        "log = \"\"\"[LOG ENTRY] [ERROR] The system is unstable\n",
                        "[LOG ENTRY] [WARN] The system may be down\n",
                        "[LOG ENTRY] [WARN] Microsoft just bought Github\n",
                        "[LOG DATA] [LOG] Everything is OK\n",
                        "[LOG ENTRY] [LOG] [user:@beco] Logged in\n",
                        "[LOG ENTRY] [LOG] [user:@beco] Clicked here\n",
                        "[LOG DATA] [LOG] [user:@celismx] Did something\n",
                        "[LOG ENTRY] [LOG] [user:@beco] Rated the app\n",
                        "[LOG ENTRY] [LOG] [user:@beco] Logged out\n",
                        "[LOG LINE] [LOG] [user:@celismx] Logged in\"\"\"\n",
                        "result = re.findall(\"\\[LOG.*\\[WARN\\].*\", log)\n",
                        "result"
                  ]
            },
            {
                  "cell_type": "markdown",
                  "metadata": {},
                  "source": [
                        "### Número de telefone"
                  ]
            },
            {
                  "cell_type": "markdown",
                  "metadata": {},
                  "source": [
                        "Dentro de um número, podemos encontrar letras como `e` para ramal, `#` também para ramal ou `p` para fazer uma pausa se um computador ligar. Também podemos encontrar o `+` para indicar um prefixo de país e separadores como espaços, `-`, `.`, `.`, `.`, `.`, `.`, `.`, `.`, `.`, `.`, `.`, `.`."
                  ]
            },
            {
                  "cell_type": "code",
                  "execution_count": 36,
                  "metadata": {},
                  "outputs": [
                        {
                              "data": {
                                    "text/plain": [
                                          "['555658',\n",
                                          " '56-58-11',\n",
                                          " '56.58.11',\n",
                                          " '56.78-98',\n",
                                          " '65 09 87',\n",
                                          " '78.87 65',\n",
                                          " '78 54-56',\n",
                                          " '+521565811',\n",
                                          " '58-11-11#246',\n",
                                          " '55256048p123',\n",
                                          " '55256048e123']"
                                    ]
                              },
                              "execution_count": 36,
                              "metadata": {},
                              "output_type": "execute_result"
                        }
                  ],
                  "source": [
                        "tel = \"\"\"555658\n",
                        "56-58-11\n",
                        "56.58.11\n",
                        "56.78-98\n",
                        "65 09 87\n",
                        "76y87r98\n",
                        "45y78-56\n",
                        "78.87 65\n",
                        "78 54-56\n",
                        "+521565811\n",
                        "58-11-11#246\n",
                        "55256048p123\n",
                        "55256048e123\"\"\"\n",
                        "result = re.findall(\"\\+?\\d{2,3}[^\\da-zA-Z\\n]?\\d{2,3}[^\\da-zA-Z\\n]?\\d{2,3}[#pe]?\\d*\", tel)\n",
                        "result"
                  ]
            },
            {
                  "cell_type": "markdown",
                  "metadata": {},
                  "source": [
                        "Vamos explicar\n",
                        " * `+?`: começando com o caractere `+` e contendo zero ou um\n",
                        " * ``d{2,3}``: a ser seguido por 2 a 3 dígitos\n",
                        " * Em seguida, pode haver zero ou um caractere que não seja um dígito, nem uma letra de `a` a `z`, nem uma letra de `A` a `Z`, nem uma quebra de linha.\n",
                        " * ``d{2,3}``: a ser seguido por 2 a 3 dígitos\n",
                        " * Em seguida, pode haver zero ou um caractere que não seja um dígito, nem uma letra de `a` a `z`, nem uma letra de `A` a `Z`, nem uma quebra de linha.\n",
                        " * ``d{2,3}``: a ser seguido por 2 a 3 dígitos\n",
                        " * `[#pe]?`: então pode haver zero ou um caractere `#`, ou `p`, ou `e`.\n",
                        " * Por fim, que haja zero ou todos os números."
                  ]
            },
            {
                  "cell_type": "markdown",
                  "metadata": {},
                  "source": [
                        "### URLs"
                  ]
            },
            {
                  "cell_type": "code",
                  "execution_count": 37,
                  "metadata": {},
                  "outputs": [
                        {
                              "data": {
                                    "text/plain": [
                                          "['https://www.instagram.com/p/BXB4zsUlW5Z/?taken-by=beco.mx',\n",
                                          " 'http://instagram.com/p/blablablah',\n",
                                          " 'http://itam.mx/test',\n",
                                          " 'http://instagram.com/p/blablablah',\n",
                                          " 'https://www.vanguarsoft.com.ve',\n",
                                          " 'http://platzi.com',\n",
                                          " 'https://traetelo.net',\n",
                                          " 'https://traetelo.net/images',\n",
                                          " 'https://subdominio.traetelo.net',\n",
                                          " 'https://www.instagram.com/p/BXB4zsUlW5Z/?taken-by=beco.mx',\n",
                                          " 'http://instagram.com/p/blablablah',\n",
                                          " 'http://itam.mx/test',\n",
                                          " 'http://instagram.com/p/blablablah',\n",
                                          " 'https://www.google.com.co/',\n",
                                          " 'https://sub.dominio.de.alguien.com/archivo.html',\n",
                                          " 'https://en.wikipedia.org/wiki/.org',\n",
                                          " 'https://cdn-microsoft.org/image/seixo2t9sjl_22.jpg',\n",
                                          " 'https://hola.pizza',\n",
                                          " 'https://platzi.com/clases/1301-expresiones-regulares/11860-urls9102/',\n",
                                          " 'https://api.giphy.com/v1/gifs/search?q=Rick']"
                                    ]
                              },
                              "execution_count": 37,
                              "metadata": {},
                              "output_type": "execute_result"
                        }
                  ],
                  "source": [
                        "urls = \"\"\"url: https://www.instagram.com/p/BXB4zsUlW5Z/?taken-by=beco.mx\n",
                        "url: http://instagram.com/p/blablablah\n",
                        "url: http://itam.mx/test\n",
                        "http://instagram.com/p/blablablah\n",
                        "https://www.vanguarsoft.com.ve\n",
                        "http://platzi.com\n",
                        "https://traetelo.net\n",
                        "https://traetelo.net/images archivo.jsp\n",
                        "url: https://subdominio.traetelo.net\n",
                        "url: https://www.instagram.com/p/BXB4zsUlW5Z/?taken-by=beco.mx\n",
                        "url: http://instagram.com/p/blablablah\n",
                        "url: http://itam.mx/test\n",
                        "http://instagram.com/p/blablablah\n",
                        "https://www.google.com.co/\n",
                        "https://sub.dominio.de.alguien.com/archivo.html\n",
                        "https://en.wikipedia.org/wiki/.org\n",
                        "https://cdn-microsoft.org/image/seixo2t9sjl_22.jpg\n",
                        "https://hola.pizza\n",
                        "https://platzi.com/clases/1301-expresiones-regulares/11860-urls9102/ clase\n",
                        "\n",
                        "\n",
                        "https://api.giphy.com/v1/gifs/search?q=Rick and Morty&limit=10&api_key=DG3hItPp5HIRNC0nit3AOR7eQZAe\n",
                        "\n",
                        "http://localhost:3000/something?color1=red&color2=blue\n",
                        "http://localhost:3000/display/post?size=small\n",
                        " http://localhost:3000/?name=satyam\n",
                        " http://localhost:3000/scanned?orderid=234\n",
                        " http://localhost:3000/getUsers?userId=12354411&name=Billy\n",
                        " http://localhost:3000/getUsers?userId=12354411\n",
                        "http://localhost:3000/search?city=Barcelona\n",
                        "\n",
                        "www.sitiodeejemplo.net/pagina.php?nombredevalor1=valor1&nombredevalor2=valor2\"\"\"\n",
                        "result = re.findall(\"https?:\\/\\/[\\w\\-\\.]+\\.\\w{2,6}\\/?\\S*\", urls)\n",
                        "result"
                  ]
            },
            {
                  "cell_type": "markdown",
                  "metadata": {},
                  "source": [
                        "Vamos explicar\n",
                        " * `http`: queremos que ele comece com `http`.\n",
                        " * `s?`: Então pode ou não haver um `s`.\n",
                        " * `:\\/`: seguido por `://`\n",
                        " * `[+]: seguido de uma ou mais letras, traços ou pontos\n",
                        " * Então, um ponto\n",
                        " * `w{2,6}`: Entre 2 e 6 letras para o tld\n",
                        " * `\\/?`: seguido por zero ou um `/`\n",
                        " * Nenhum ou tudo que não seja um espaço."
                  ]
            },
            {
                  "cell_type": "markdown",
                  "metadata": {},
                  "source": [
                        "### E-mails"
                  ]
            },
            {
                  "cell_type": "code",
                  "execution_count": 38,
                  "metadata": {},
                  "outputs": [
                        {
                              "data": {
                                    "text/plain": [
                                          "['esto.es_un.mail@mail.com',\n",
                                          " 'esto.es_un.mail+complejo@mail.com',\n",
                                          " 'rodrigo.jimenez@yahoo.com.mx',\n",
                                          " 'ruben@starbucks.com',\n",
                                          " 'es_email@dominio.com',\n",
                                          " 'no_se_de_internet3@hotmail.com']"
                                    ]
                              },
                              "execution_count": 38,
                              "metadata": {},
                              "output_type": "execute_result"
                        }
                  ],
                  "source": [
                        "mails = \"\"\"esto.es_un.mail@mail.com\n",
                        "esto.es_un.mail+complejo@mail.com\n",
                        "dominio.com\n",
                        "rodrigo.jimenez@yahoo.com.mx\n",
                        "ruben@starbucks.com\n",
                        "esto_no$es_email@dominio.com\n",
                        "no_se_de_internet3@hotmail.com\"\"\"\n",
                        "result = re.findall(\"[\\w\\._]{5,30}\\+?[\\w\\._]{0,10}@[\\w\\.-]{2,}\\.\\w{2,6}\", mails)\n",
                        "result"
                  ]
            },
            {
                  "cell_type": "markdown",
                  "metadata": {},
                  "source": [
                        "Vamos explicar\n",
                        " * `[\\w\\._]{5,30}`: Queremos que empiece por entre 5 y 30 (que es lo mínimo y máximo que admite gmail) letras, puntos o barras bajas\n",
                        " * `\\+?`: Seguido de cero o un `+`\n",
                        " * `[\\w\\._]{0,10}`: A continuación entre 0 y 10 letras, puntos o barras bajas\n",
                        " * `@`: La `@`\n",
                        " * `[\\w\\.-]{2,}`: Entre 2 e infinitas letras, puntos y guiones (dominio)\n",
                        " * `\\.`: Seguido de un `.`\n",
                        " * `\\w{2,6}`: Y por último, entre 2 y 6 letras para el tld\n",
                        "\n",
                        " * `[\\w\\._]{5,30}`: queremos que ele comece com um número entre 5 e 30 (que é o mínimo e o máximo que o gmail suporta) letras, pontos ou sublinhados.\n",
                        " * `\\+?`: Seguido por um zero ou um `+`.\n",
                        " * `[\\w\\._]{0,10}`: Então, entre 0 e 10 letras, pontos ou barras\n",
                        " * `@`: O `@`\n",
                        " * `[\\w\\.-]{2,}`: Entre 2 e infinitas letras, pontos e hífens (domínio)\n",
                        " * `\\.`: seguido de um `'`.\n",
                        " * `\\w{2,6}`: E, finalmente, entre 2 e 6 letras para o tld"
                  ]
            },
            {
                  "cell_type": "markdown",
                  "metadata": {},
                  "source": [
                        "### Localizações"
                  ]
            },
            {
                  "cell_type": "markdown",
                  "metadata": {},
                  "source": [
                        "Há duas maneiras possíveis de fornecer locais, portanto, examinaremos ambas"
                  ]
            },
            {
                  "cell_type": "code",
                  "execution_count": 39,
                  "metadata": {},
                  "outputs": [
                        {
                              "data": {
                                    "text/plain": [
                                          "['-99.205646,19.429707,2275.10',\n",
                                          " '-99.205581, 19.429652,2275.10',\n",
                                          " '-99.204654,19.428952,2275.58']"
                                    ]
                              },
                              "execution_count": 39,
                              "metadata": {},
                              "output_type": "execute_result"
                        }
                  ],
                  "source": [
                        "loc = \"\"\"-99.205646,19.429707,2275.10\n",
                        "-99.205581, 19.429652,2275.10\n",
                        "-99.204654,19.428952,2275.58\"\"\"\n",
                        "result = re.findall(\"\\-?\\d{1,3}\\.\\d{1,6},\\s?\\-?\\d{1,3}\\.\\d{1,6},.*\", loc)\n",
                        "result"
                  ]
            },
            {
                  "cell_type": "markdown",
                  "metadata": {},
                  "source": [
                        "Vamos explicar\n",
                        " * Queremos que ele comece com zero ou um sinal de menos.\n",
                        " * Seguido de um a três números\n",
                        " * Então, um ponto\n",
                        " * ``d{1,6}``: Depois de um a seis números\n",
                        " * `,`: Then a `,`: Then a `,`: Then a `,`: Then a `,`: Then a `,`\n",
                        " * `s?`: Após zero ou um espaço\n",
                        " * ``-?`: Zero ou um sinal de menos\n",
                        " * ``: Então, entre um e três números\n",
                        " * Então, um ponto\n",
                        " * Seguido de um a seis números\n",
                        " * `,`: depois uma vírgula\n",
                        " * Finalmente, nenhum ou todos os tipos de caracteres"
                  ]
            },
            {
                  "cell_type": "code",
                  "execution_count": 40,
                  "metadata": {},
                  "outputs": [
                        {
                              "data": {
                                    "text/plain": [
                                          "['-99 12\\' 34.08\"W, 19 34\\' 56.98\"N', '-34 54\\' 32.00\"E, -3 21\\' 67.00\"S']"
                                    ]
                              },
                              "execution_count": 40,
                              "metadata": {},
                              "output_type": "execute_result"
                        }
                  ],
                  "source": [
                        "loc = \"\"\"-99 12' 34.08\"W, 19 34' 56.98\"N\n",
                        "-34 54' 32.00\"E, -3 21' 67.00\"S\"\"\"\n",
                        "result = re.findall(\"\\-?\\d{1,3}\\s\\d{1,2}'\\s\\d{1,2}\\.\\d{2,2}\\\"[WE],\\s?\\-?\\d{1,3}\\s\\d{1,2}'\\s\\d{1,2}\\.\\d{2,2}\\\"[SN]\", loc)\n",
                        "result"
                  ]
            },
            {
                  "cell_type": "code",
                  "execution_count": 41,
                  "metadata": {},
                  "outputs": [
                        {
                              "name": "stdout",
                              "output_type": "stream",
                              "text": [
                                    "-99 12' 34.08\"W, 19 34' 56.98\"N\n",
                                    "-34 54' 32.00\"E, -3 21' 67.00\"S\n"
                              ]
                        }
                  ],
                  "source": [
                        "print(result[0])\n",
                        "print(result[1])"
                  ]
            },
            {
                  "cell_type": "markdown",
                  "metadata": {},
                  "source": [
                        "Vamos explicar\n",
                        " * Queremos que ele comece com zero ou um sinal de menos.\n",
                        " * Seguido de um a três números\n",
                        " * `s`: Em seguida, um espaço\n",
                        " * ``d{1,2}``: Segmento de um a dois números\n",
                        " * `'`: Then a `'`: Then a `'`: Then a `'`: Then a `'`: Then a `'`\n",
                        " * Seguido de um espaço\n",
                        " * ``: Então, entre um e dois números\n",
                        " * Após um ponto\n",
                        " * ``d{2,2}``: seguido por dois números\n",
                        " * `\"`: then a `\"`: then a `\"`: then a `\"`: then a `\"`.\n",
                        " * `[WE]`: Em seguida, a letra `W` ou a letra `E`.\n",
                        " * `,`: Após uma vírgula\n",
                        " * Seguido por um zero ou um espaço\n",
                        " * ``-?`: Então, zero ou um sinal de menos\n",
                        " * ``: Então, entre um e três números\n",
                        " * Seguido de um espaço\n",
                        " * ``: Então, entre um e dois números\n",
                        " * `'`: Then a `'`: After a `'`\n",
                        " * `s`: Em seguida, um espaço\n",
                        " * ` `d{1,2}`: Então, entre um e dois números\n",
                        " * seguido de um ponto final\n",
                        " * ``d{2,2}``: Então, dois números\n",
                        " * `\"`: Seguido por `\"`.\n",
                        " * `[SN]`: E, finalmente, a letra `S` ou a letra `N`."
                  ]
            },
            {
                  "cell_type": "markdown",
                  "metadata": {},
                  "source": [
                        "### Nomes"
                  ]
            },
            {
                  "cell_type": "code",
                  "execution_count": 42,
                  "metadata": {},
                  "outputs": [
                        {
                              "data": {
                                    "text/plain": [
                                          "['Camilo Sarmiento Gálvez',\n",
                                          " 'Alejandro Pliego Abasto',\n",
                                          " 'Milagros Reyes Japón',\n",
                                          " 'Samuel París Arrabal',\n",
                                          " 'Juan Pablo Tafalla',\n",
                                          " 'Axel Gálvez Velázquez',\n",
                                          " 'Óscar Montreal Aparicio',\n",
                                          " 'Jacobo Pozo Tassis',\n",
                                          " 'Espiga\\nEduardo Pousa',\n",
                                          " 'Curbelo\\nIvanna Bienvenida',\n",
                                          " 'Kevin\\nAda Tasis',\n",
                                          " 'López\\nLuciana Sáenz',\n",
                                          " 'García\\nFlorencia Sainz',\n",
                                          " 'Márquz\\nCatarina Cazalla',\n",
                                          " 'Lombarda\\nPaloma Gallo',\n",
                                          " 'Perro\\nMargarita Quesada',\n",
                                          " 'Florez\\nVicente Fox',\n",
                                          " 'Quesada\\nIris Graciani',\n",
                                          " 'Asunción Carballar\\nConstanza',\n",
                                          " 'Manuel Andres García']"
                                    ]
                              },
                              "execution_count": 42,
                              "metadata": {},
                              "output_type": "execute_result"
                        }
                  ],
                  "source": [
                        "nombres = \"\"\"Camilo Sarmiento Gálvez\n",
                        "Alejandro Pliego Abasto\n",
                        "Milagros Reyes Japón\n",
                        "Samuel París Arrabal\n",
                        "Juan Pablo Tafalla\n",
                        "Axel Gálvez Velázquez\n",
                        "Óscar Montreal Aparicio\n",
                        "Jacobo Pozo Tassis\n",
                        "Guillermo Ordóñez Espiga\n",
                        "Eduardo Pousa Curbelo\n",
                        "Ivanna Bienvenida Kevin\n",
                        "Ada Tasis López\n",
                        "Luciana Sáenz García\n",
                        "Florencia Sainz Márquz\n",
                        "Catarina Cazalla Lombarda\n",
                        "Paloma Gallo Perro\n",
                        "Margarita Quesada Florez\n",
                        "Vicente Fox Quesada\n",
                        "Iris Graciani\n",
                        "Asunción Carballar\n",
                        "Constanza Muñoz\n",
                        "Manuel Andres García Márquez\"\"\"\n",
                        "result = re.findall(\"[A-ZÁÉÍÓÚ][a-záéíóú]+\\s[A-ZÁÉÍÓÚ][a-záéíóú]+\\s[A-ZÁÉÍÓÚ][a-záéíóú]+\", nombres)\n",
                        "result"
                  ]
            },
            {
                  "cell_type": "markdown",
                  "metadata": {},
                  "source": [
                        "Vamos explicar\n",
                        " * `[A-ZÁÉÍÓÚ]`: queremos que ele comece com uma letra maiúscula, incluindo acentos.\n",
                        " * `[a-záééíóú]+`: seguido de uma ou mais letras minúsculas, entre espaços\n",
                        " * Seguido de um espaço\n",
                        " * `[A-ZÁÉÍÓÚ]`: seguido de uma letra maiúscula, incluindo acentos\n",
                        " * `[a-záééíóú]+`: seguido de uma ou mais letras minúsculas, entre espaços\n",
                        " * Seguido de um espaço\n",
                        " * `[A-ZÁÉÍÓÚ]`: seguido de uma letra maiúscula, incluindo acentos\n",
                        " * `[a-záééíóú]+`: seguido de uma ou mais letras minúsculas, entre espaços"
                  ]
            },
            {
                  "cell_type": "markdown",
                  "metadata": {},
                  "source": [
                        "## Pesquisar e substituir"
                  ]
            },
            {
                  "cell_type": "markdown",
                  "metadata": {},
                  "source": [
                        "Faremos o download de um arquivo com vários filmes históricos."
                  ]
            },
            {
                  "cell_type": "code",
                  "execution_count": 43,
                  "metadata": {},
                  "outputs": [
                        {
                              "ename": "HTTPError",
                              "evalue": "HTTP Error 403: Forbidden",
                              "output_type": "error",
                              "traceback": [
                                    "\u001b[0;31m---------------------------------------------------------------------------\u001b[0m",
                                    "\u001b[0;31mHTTPError\u001b[0m                                 Traceback (most recent call last)",
                                    "Cell \u001b[0;32mIn[43], line 4\u001b[0m\n\u001b[1;32m      2\u001b[0m \u001b[38;5;28;01mimport\u001b[39;00m \u001b[38;5;21;01murllib\u001b[39;00m\u001b[38;5;21;01m.\u001b[39;00m\u001b[38;5;21;01mrequest\u001b[39;00m\n\u001b[1;32m      3\u001b[0m url \u001b[38;5;241m=\u001b[39m \u001b[38;5;124m\"\u001b[39m\u001b[38;5;124mhttps://static.platzi.com/media/tmp/class-files/github/moviedemo/moviedemo-master/movies.dat\u001b[39m\u001b[38;5;124m\"\u001b[39m\n\u001b[0;32m----> 4\u001b[0m urllib\u001b[38;5;241m.\u001b[39mrequest\u001b[38;5;241m.\u001b[39murlretrieve(url, \u001b[38;5;124m\"\u001b[39m\u001b[38;5;124mmovies.dat\u001b[39m\u001b[38;5;124m\"\u001b[39m)\n",
                                    "File \u001b[0;32m~/miniconda3/envs/mybase/lib/python3.11/urllib/request.py:241\u001b[0m, in \u001b[0;36murlretrieve\u001b[0;34m(url, filename, reporthook, data)\u001b[0m\n\u001b[1;32m    224\u001b[0m \u001b[38;5;250m\u001b[39m\u001b[38;5;124;03m\"\"\"\u001b[39;00m\n\u001b[1;32m    225\u001b[0m \u001b[38;5;124;03mRetrieve a URL into a temporary location on disk.\u001b[39;00m\n\u001b[1;32m    226\u001b[0m \n\u001b[0;32m   (...)\u001b[0m\n\u001b[1;32m    237\u001b[0m \u001b[38;5;124;03mdata file as well as the resulting HTTPMessage object.\u001b[39;00m\n\u001b[1;32m    238\u001b[0m \u001b[38;5;124;03m\"\"\"\u001b[39;00m\n\u001b[1;32m    239\u001b[0m url_type, path \u001b[38;5;241m=\u001b[39m _splittype(url)\n\u001b[0;32m--> 241\u001b[0m \u001b[38;5;28;01mwith\u001b[39;00m contextlib\u001b[38;5;241m.\u001b[39mclosing(urlopen(url, data)) \u001b[38;5;28;01mas\u001b[39;00m fp:\n\u001b[1;32m    242\u001b[0m     headers \u001b[38;5;241m=\u001b[39m fp\u001b[38;5;241m.\u001b[39minfo()\n\u001b[1;32m    244\u001b[0m     \u001b[38;5;66;03m# Just return the local path and the \"headers\" for file://\u001b[39;00m\n\u001b[1;32m    245\u001b[0m     \u001b[38;5;66;03m# URLs. No sense in performing a copy unless requested.\u001b[39;00m\n",
                                    "File \u001b[0;32m~/miniconda3/envs/mybase/lib/python3.11/urllib/request.py:216\u001b[0m, in \u001b[0;36murlopen\u001b[0;34m(url, data, timeout, cafile, capath, cadefault, context)\u001b[0m\n\u001b[1;32m    214\u001b[0m \u001b[38;5;28;01melse\u001b[39;00m:\n\u001b[1;32m    215\u001b[0m     opener \u001b[38;5;241m=\u001b[39m _opener\n\u001b[0;32m--> 216\u001b[0m \u001b[38;5;28;01mreturn\u001b[39;00m opener\u001b[38;5;241m.\u001b[39mopen(url, data, timeout)\n",
                                    "File \u001b[0;32m~/miniconda3/envs/mybase/lib/python3.11/urllib/request.py:525\u001b[0m, in \u001b[0;36mOpenerDirector.open\u001b[0;34m(self, fullurl, data, timeout)\u001b[0m\n\u001b[1;32m    523\u001b[0m \u001b[38;5;28;01mfor\u001b[39;00m processor \u001b[38;5;129;01min\u001b[39;00m \u001b[38;5;28mself\u001b[39m\u001b[38;5;241m.\u001b[39mprocess_response\u001b[38;5;241m.\u001b[39mget(protocol, []):\n\u001b[1;32m    524\u001b[0m     meth \u001b[38;5;241m=\u001b[39m \u001b[38;5;28mgetattr\u001b[39m(processor, meth_name)\n\u001b[0;32m--> 525\u001b[0m     response \u001b[38;5;241m=\u001b[39m meth(req, response)\n\u001b[1;32m    527\u001b[0m \u001b[38;5;28;01mreturn\u001b[39;00m response\n",
                                    "File \u001b[0;32m~/miniconda3/envs/mybase/lib/python3.11/urllib/request.py:634\u001b[0m, in \u001b[0;36mHTTPErrorProcessor.http_response\u001b[0;34m(self, request, response)\u001b[0m\n\u001b[1;32m    631\u001b[0m \u001b[38;5;66;03m# According to RFC 2616, \"2xx\" code indicates that the client's\u001b[39;00m\n\u001b[1;32m    632\u001b[0m \u001b[38;5;66;03m# request was successfully received, understood, and accepted.\u001b[39;00m\n\u001b[1;32m    633\u001b[0m \u001b[38;5;28;01mif\u001b[39;00m \u001b[38;5;129;01mnot\u001b[39;00m (\u001b[38;5;241m200\u001b[39m \u001b[38;5;241m<\u001b[39m\u001b[38;5;241m=\u001b[39m code \u001b[38;5;241m<\u001b[39m \u001b[38;5;241m300\u001b[39m):\n\u001b[0;32m--> 634\u001b[0m     response \u001b[38;5;241m=\u001b[39m \u001b[38;5;28mself\u001b[39m\u001b[38;5;241m.\u001b[39mparent\u001b[38;5;241m.\u001b[39merror(\n\u001b[1;32m    635\u001b[0m         \u001b[38;5;124m'\u001b[39m\u001b[38;5;124mhttp\u001b[39m\u001b[38;5;124m'\u001b[39m, request, response, code, msg, hdrs)\n\u001b[1;32m    637\u001b[0m \u001b[38;5;28;01mreturn\u001b[39;00m response\n",
                                    "File \u001b[0;32m~/miniconda3/envs/mybase/lib/python3.11/urllib/request.py:563\u001b[0m, in \u001b[0;36mOpenerDirector.error\u001b[0;34m(self, proto, *args)\u001b[0m\n\u001b[1;32m    561\u001b[0m \u001b[38;5;28;01mif\u001b[39;00m http_err:\n\u001b[1;32m    562\u001b[0m     args \u001b[38;5;241m=\u001b[39m (\u001b[38;5;28mdict\u001b[39m, \u001b[38;5;124m'\u001b[39m\u001b[38;5;124mdefault\u001b[39m\u001b[38;5;124m'\u001b[39m, \u001b[38;5;124m'\u001b[39m\u001b[38;5;124mhttp_error_default\u001b[39m\u001b[38;5;124m'\u001b[39m) \u001b[38;5;241m+\u001b[39m orig_args\n\u001b[0;32m--> 563\u001b[0m     \u001b[38;5;28;01mreturn\u001b[39;00m \u001b[38;5;28mself\u001b[39m\u001b[38;5;241m.\u001b[39m_call_chain(\u001b[38;5;241m*\u001b[39margs)\n",
                                    "File \u001b[0;32m~/miniconda3/envs/mybase/lib/python3.11/urllib/request.py:496\u001b[0m, in \u001b[0;36mOpenerDirector._call_chain\u001b[0;34m(self, chain, kind, meth_name, *args)\u001b[0m\n\u001b[1;32m    494\u001b[0m \u001b[38;5;28;01mfor\u001b[39;00m handler \u001b[38;5;129;01min\u001b[39;00m handlers:\n\u001b[1;32m    495\u001b[0m     func \u001b[38;5;241m=\u001b[39m \u001b[38;5;28mgetattr\u001b[39m(handler, meth_name)\n\u001b[0;32m--> 496\u001b[0m     result \u001b[38;5;241m=\u001b[39m func(\u001b[38;5;241m*\u001b[39margs)\n\u001b[1;32m    497\u001b[0m     \u001b[38;5;28;01mif\u001b[39;00m result \u001b[38;5;129;01mis\u001b[39;00m \u001b[38;5;129;01mnot\u001b[39;00m \u001b[38;5;28;01mNone\u001b[39;00m:\n\u001b[1;32m    498\u001b[0m         \u001b[38;5;28;01mreturn\u001b[39;00m result\n",
                                    "File \u001b[0;32m~/miniconda3/envs/mybase/lib/python3.11/urllib/request.py:643\u001b[0m, in \u001b[0;36mHTTPDefaultErrorHandler.http_error_default\u001b[0;34m(self, req, fp, code, msg, hdrs)\u001b[0m\n\u001b[1;32m    642\u001b[0m \u001b[38;5;28;01mdef\u001b[39;00m \u001b[38;5;21mhttp_error_default\u001b[39m(\u001b[38;5;28mself\u001b[39m, req, fp, code, msg, hdrs):\n\u001b[0;32m--> 643\u001b[0m     \u001b[38;5;28;01mraise\u001b[39;00m HTTPError(req\u001b[38;5;241m.\u001b[39mfull_url, code, msg, hdrs, fp)\n",
                                    "\u001b[0;31mHTTPError\u001b[0m: HTTP Error 403: Forbidden"
                              ]
                        }
                  ],
                  "source": [
                        "# download file from url\n",
                        "import urllib.request\n",
                        "url = \"https://static.platzi.com/media/tmp/class-files/github/moviedemo/moviedemo-master/movies.dat\"\n",
                        "urllib.request.urlretrieve(url, \"movies.dat\")\n"
                  ]
            },
            {
                  "cell_type": "markdown",
                  "metadata": {},
                  "source": [
                        "Vamos imprimir as primeiras 10 linhas para analisá-las."
                  ]
            },
            {
                  "cell_type": "code",
                  "execution_count": 100,
                  "metadata": {},
                  "outputs": [
                        {
                              "name": "stdout",
                              "output_type": "stream",
                              "text": [
                                    "1::Toy Story (1995)::Adventure|Animation|Children|Comedy|Fantasy\n",
                                    "2::Jumanji (1995)::Adventure|Children|Fantasy\n",
                                    "3::Grumpier Old Men (1995)::Comedy|Romance\n",
                                    "4::Waiting to Exhale (1995)::Comedy|Drama|Romance\n",
                                    "5::Father of the Bride Part II (1995)::Comedy\n",
                                    "6::Heat (1995)::Action|Crime|Thriller\n",
                                    "7::Sabrina (1995)::Comedy|Romance\n",
                                    "8::Tom and Huck (1995)::Adventure|Children\n",
                                    "9::Sudden Death (1995)::Action\n",
                                    "10::GoldenEye (1995)::Action|Adventure|Thriller\n",
                                    "11::American President, The (1995)::Comedy|Drama|Romance\n"
                              ]
                        }
                  ],
                  "source": [
                        "file = open(\"movies.dat\", \"r\")\n",
                        "\n",
                        "for i, line in enumerate(file):\n",
                        "    print(line, end=\"\")\n",
                        "    if i == 10:\n",
                        "        break\n",
                        "\n",
                        "file.close()"
                  ]
            },
            {
                  "cell_type": "markdown",
                  "metadata": {},
                  "source": [
                        "Como você pode ver, temos um ID, seguido por `::`, depois o nome do filme, entre parênteses o ano, seguido por `::` e depois os gêneros separados por `|`."
                  ]
            },
            {
                  "cell_type": "markdown",
                  "metadata": {},
                  "source": [
                        "Podemos fazer uma limpeza de arquivo muito fácil usando expressões regulares, as funções `compile` e `match` e o uso de agrupamento com parênteses. Ao agrupar, selecionamos as áreas do texto que queremos manter e, em seguida, trabalhamos com elas como quisermos."
                  ]
            },
            {
                  "cell_type": "code",
                  "execution_count": 100,
                  "metadata": {},
                  "outputs": [],
                  "source": [
                        "pattern = re.compile(r\"^\\d+::([\\w\\s:,\\(\\)\\.\\-'&¡!/¿?ÁÉÍÓÚáéíóú\\+*\\$#°\\'\\\"\\[\\]@·]+)\\s\\((\\d{4,4})\\)::(.*)$\")\n",
                        "\n",
                        "file = open(\"movies.dat\", \"r\")\n",
                        "file_filtered = open(\"movies.csv\", \"w\")\n",
                        "file_filtered.write(\"title,year,genders\\n\")\n",
                        "sep = \";;\"\n",
                        "for line in file:\n",
                        "    result = re.match(pattern, line)\n",
                        "    if result:\n",
                        "        file_filtered.write(f\"{result.group(1)}{sep}{result.group(2)}{sep}{result.group(3)}\\n\")\n",
                        "    else:\n",
                        "        print(line, end=\"\")\n",
                        "file.close()\n",
                        "file_filtered.close()"
                  ]
            },
            {
                  "cell_type": "markdown",
                  "metadata": {},
                  "source": [
                        "Vejamos o que fizemos: primeiro, definimos um padrão com o seguinte:\n",
                        " * `^`: Queremos que ele comece com o início da linha.\n",
                        " * Próximo um ou mais números\n",
                        " * `::`: Seguido por `::`\n",
                        " * `((([\\¡¡¡¡¡¡¡¡¡¡¡¡¡¡¡¡¡¡¡¡¡¡¡¡¡¡¡¡¡¡¡¡¡¡¡¡¡¡: esse é o primeiro agrupamento, procuramos qualquer palavra, espaço ou caractere entre colchetes que apareça uma ou mais vezes.\n",
                        " * `s`: depois um espaço\n",
                        " * `: O fechamento de um parêntese\n",
                        " * (4,4})`: Aqui está o segundo agrupamento, estamos procurando por quatro números.\n",
                        " * Após o fechamento de um parêntese\n",
                        " * `::`: Then `::`\n",
                        " * `(.*)`: o terceiro agrupamento, qualquer caractere que não ocorra nenhuma ou todas as vezes\n",
                        " * `$`: Por último, o final da linha\n",
                        "\n",
                        "Dentro do `for`, analisamos linha por linha se o padrão que definimos foi encontrado e, se for encontrado, escrevemos os três padrões no `csv` separados por `sep`, que, no nosso caso, definimos como `;;`. Esse separador foi definido porque há títulos de filmes que têm `,`s."
                  ]
            },
            {
                  "cell_type": "markdown",
                  "metadata": {},
                  "source": [
                        "Lemos o `csv` com o `Pandas`."
                  ]
            },
            {
                  "cell_type": "code",
                  "execution_count": 100,
                  "metadata": {},
                  "outputs": [
                        {
                              "data": {
                                    "text/html": [
                                          "<div>\n",
                                          "<style scoped>\n",
                                          "    .dataframe tbody tr th:only-of-type {\n",
                                          "        vertical-align: middle;\n",
                                          "    }\n",
                                          "\n",
                                          "    .dataframe tbody tr th {\n",
                                          "        vertical-align: top;\n",
                                          "    }\n",
                                          "\n",
                                          "    .dataframe thead th {\n",
                                          "        text-align: right;\n",
                                          "    }\n",
                                          "</style>\n",
                                          "<table border=\"1\" class=\"dataframe\">\n",
                                          "  <thead>\n",
                                          "    <tr style=\"text-align: right;\">\n",
                                          "      <th></th>\n",
                                          "      <th></th>\n",
                                          "      <th>title,year,genders</th>\n",
                                          "    </tr>\n",
                                          "  </thead>\n",
                                          "  <tbody>\n",
                                          "    <tr>\n",
                                          "      <th>Toy Story</th>\n",
                                          "      <th>1995</th>\n",
                                          "      <td>Adventure|Animation|Children|Comedy|Fantasy</td>\n",
                                          "    </tr>\n",
                                          "    <tr>\n",
                                          "      <th>Jumanji</th>\n",
                                          "      <th>1995</th>\n",
                                          "      <td>Adventure|Children|Fantasy</td>\n",
                                          "    </tr>\n",
                                          "    <tr>\n",
                                          "      <th>Grumpier Old Men</th>\n",
                                          "      <th>1995</th>\n",
                                          "      <td>Comedy|Romance</td>\n",
                                          "    </tr>\n",
                                          "    <tr>\n",
                                          "      <th>Waiting to Exhale</th>\n",
                                          "      <th>1995</th>\n",
                                          "      <td>Comedy|Drama|Romance</td>\n",
                                          "    </tr>\n",
                                          "    <tr>\n",
                                          "      <th>Father of the Bride Part II</th>\n",
                                          "      <th>1995</th>\n",
                                          "      <td>Comedy</td>\n",
                                          "    </tr>\n",
                                          "  </tbody>\n",
                                          "</table>\n",
                                          "</div>"
                                    ],
                                    "text/plain": [
                                          "                                                           title,year,genders\n",
                                          "Toy Story                   1995  Adventure|Animation|Children|Comedy|Fantasy\n",
                                          "Jumanji                     1995                   Adventure|Children|Fantasy\n",
                                          "Grumpier Old Men            1995                               Comedy|Romance\n",
                                          "Waiting to Exhale           1995                         Comedy|Drama|Romance\n",
                                          "Father of the Bride Part II 1995                                       Comedy"
                                    ]
                              },
                              "execution_count": 120,
                              "metadata": {},
                              "output_type": "execute_result"
                        }
                  ],
                  "source": [
                        "import pandas as pd\n",
                        "df = pd.read_csv(\"movies.csv\", sep=\";;\", engine=\"python\")\n",
                        "df.head()"
                  ]
            },
            {
                  "cell_type": "markdown",
                  "metadata": {},
                  "source": [
                        "## Folha de dicas"
                  ]
            },
            {
                  "cell_type": "markdown",
                  "metadata": {},
                  "source": [
                        "Aqui está um [cheatsheet] (https://images.maximofn.com/davechild_regular-expressions.pdf) com vários padrões"
                  ]
            },
            {
                  "cell_type": "markdown",
                  "metadata": {},
                  "source": [
                        "![davechild_regular-expressions](https://images.maximofn.com/davechild_regular-expressions.webp)"
                  ]
            }
      ],
      "metadata": {
            "kernelspec": {
                  "display_name": "Python 3.7.6 ('base')",
                  "language": "python",
                  "name": "python3"
            },
            "language_info": {
                  "codemirror_mode": {
                        "name": "ipython",
                        "version": 3
                  },
                  "file_extension": ".py",
                  "mimetype": "text/x-python",
                  "name": "python",
                  "nbconvert_exporter": "python",
                  "pygments_lexer": "ipython3",
                  "version": "3.11.2"
            },
            "orig_nbformat": 4,
            "vscode": {
                  "interpreter": {
                        "hash": "d5745ab6aba164e1152437c779991855725055592b9f2bdb41a4825db7168d26"
                  }
            }
      },
      "nbformat": 4,
      "nbformat_minor": 2
}
