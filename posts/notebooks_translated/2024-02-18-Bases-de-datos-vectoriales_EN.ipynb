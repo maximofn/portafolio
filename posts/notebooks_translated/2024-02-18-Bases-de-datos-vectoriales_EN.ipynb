{
  "cells": [
  {
      "cell_type": "markdown",
      "metadata": {},
      "source": [
      "# Vector databases"
      ]
    },
{
      "cell_type": "markdown",
      "metadata": {},
      "source": [
      "We have seen in the [embeddings](https://www.maximofn.com/embeddings) post that embeddings are a way of representing words in a vector space. In this post we are going to see how we can store those embeddings in vector databases and how we can make queries on them."
      ]
    },
{
      "cell_type": "markdown",
      "metadata": {},
      "source": [
      "This notebook has been automatically translated to make it accessible to more people, please let me know if you see any typos.\n",
"\n",
"When we have a query, we can create the embedding of the query, search the vector database for the embeddings that most closely match the query and return the documents that correspond to those embeddings or an explanation of those documents.\n",
"\n",
"![vector database](http://maximofn.com/wp-content/uploads/2024/02/vector_database.svg)\n",
"\n",
"That is to say, we are going to generate a database of information, we are going to create embeddings of that information and we are going to store it in a vector database. Then when a user makes a query, we will convert the query to embeddings, search the database for the embeddings with the highest similarity and return the documents that correspond to those embeddings.\n",
"\n",
"In addition to the documents, additional information can be stored in the database, which we will call metadata. For example, if we are working with a set of news, we can store the title, date, author, etc. of the news."
      ]
    },
{
      "cell_type": "markdown",
      "metadata": {},
      "source": [
      "## Chroma"
      ]
    },
{
      "cell_type": "markdown",
      "metadata": {},
      "source": [
      "In this post we are going to look at [crhoma](https://www.trychroma.com/), as it is the most widely used [vector database](https://blog.langchain.dev/langchain-state-of-ai-2023/#most-used-vectorstores), as can be seen in this [langchain state of ai 2023](https://blog.langchain.dev/langchain-state-of-ai-2023) report.\n",
"\n",
"![Most Used Vectorstores](https://blog.langchain.dev/content/images/size/w1000/2023/12/Top-vectorstores--1-.png)"
      ]
    },
{
      "cell_type": "markdown",
      "metadata": {},
      "source": [
      "## Installation"
      ]
    },
{
      "cell_type": "markdown",
      "metadata": {},
      "source": [
      "So to install chroma with conda you need to do the following\n",
"\n",
"````bash\n",
"conda install conda-forge::chromadb\n",
"```\n",
"\n",
"Or if you want to install with pip\n",
"\n",
"````bash\n",
"pip install chromadb\n",
"```"
      ]
    },
{
      "cell_type": "markdown",
      "metadata": {},
      "source": [
      "## Quick use"
      ]
    },
{
      "cell_type": "markdown",
      "metadata": {},
      "source": [
      "For a quick application, we first import chroma"
      ]
    },
{
      "cell_type": "code",
      "execution_count": 1,
      "metadata": {},
      "outputs": [],
      "source": [
      "import chromadb"
      ]
    },
{
      "cell_type": "markdown",
      "metadata": {},
      "source": [
      "Next we create a chroma client"
      ]
    },
{
      "cell_type": "code",
      "execution_count": 2,
      "metadata": {},
      "outputs": [],
      "source": [
      "chroma_client = chromadb.Client()"
      ]
    },
{
      "cell_type": "markdown",
      "metadata": {},
      "source": [
      "We create a collection. A collection is the place where embeddings, embeddings and metadata will be stored."
      ]
    },
{
      "cell_type": "code",
      "execution_count": 3,
      "metadata": {},
      "outputs": [],
      "source": [
      "collection = chroma_client.create_collection(name=\"my_collection\")"
      ]
    },
{
      "cell_type": "markdown",
      "metadata": {},
      "source": [
      "As we can see a message comes up indicating that no embeddings function has been entered and therefore it will default to `all-MiniLM-L6-v2`, which is similar to the `paraphrase-MiniLM-L6-v2` model we used in the [embeddings](https://maximofn.com/embeddings/) post.\n",
"\n",
"We will see this later, but we can choose how we are going to generate the embeddings."
      ]
    },
{
      "cell_type": "markdown",
      "metadata": {},
      "source": [
      "Now we add documents, ids and metadata to the collection"
      ]
    },
{
      "cell_type": "code",
      "execution_count": 4,
      "metadata": {},
      "outputs": [],
      "source": [
      "collection.add(\n",
"    documents=[\"This is a python docs\", \"This is JavaScript docs\"],\n",
"    metadatas=[{\"source\": \"Python source\"}, {\"source\": \"JavaScript source\"}],\n",
"    ids=[\"id1\", \"id2\"]\n",
")"
      ]
    },
{
      "cell_type": "markdown",
      "metadata": {},
      "source": [
      "Now we can make a query"
      ]
    },
{
      "cell_type": "code",
      "execution_count": 5,
      "metadata": {},
      "outputs": [],
      "source": [
      "results = collection.query(\n",
"    query_texts=[\"This is a query of Python\"],\n",
"    n_results=2\n",
")"
      ]
    },
{
      "cell_type": "code",
      "execution_count": 6,
      "metadata": {},
      "outputs": [
      {
          "data": {
            "text/plain": [
            "{'ids': [['id1', 'id2']],\n",
" 'distances': [[0.6205940246582031, 1.4631636142730713]],\n",
" 'metadatas': [[{'source': 'Python source'}, {'source': 'JavaScript source'}]],\n",
" 'embeddings': None,\n",
" 'documents': [['This is a python docs', 'This is JavaScript docs']],\n",
" 'uris': None,\n",
" 'data': None}"
            ]
          },
          "execution_count": 6,
          "metadata": {},
          "output_type": "execute_result"
        }
      ],
      "source": [
      "results"
      ]
    },
{
      "cell_type": "markdown",
      "metadata": {},
      "source": [
      "As we can see the distance to id1 is less than the distance to id2, so it seems that document 1 is more appropriate for answering the query"
      ]
    },
{
      "cell_type": "markdown",
      "metadata": {},
      "source": [
      "## Persistent databases"
      ]
    },
{
      "cell_type": "markdown",
      "metadata": {},
      "source": [
      "The database that we have created before is temporary, as soon as we close the notebook it will disappear. So to create a persistent database we have to pass to chroma the path where to save it."
      ]
    },
{
      "cell_type": "markdown",
      "metadata": {},
      "source": [
      "First we are going to create the folder where to save the database"
      ]
    },
{
      "cell_type": "code",
      "execution_count": 7,
      "metadata": {},
      "outputs": [],
      "source": [
      "from pathlib import Path\n",
"\n",
"chroma_path = Path(\"chromadb\")\n",
"chroma_path.mkdir(exist_ok=True)"
      ]
    },
{
      "cell_type": "markdown",
      "metadata": {},
      "source": [
      "Now we create a client in the folder we created"
      ]
    },
{
      "cell_type": "code",
      "execution_count": 8,
      "metadata": {},
      "outputs": [],
      "source": [
      "chroma_client_persistent = chromadb.PersistentClient(path = str(chroma_path))"
      ]
    },
{
      "cell_type": "markdown",
      "metadata": {},
      "source": [
      "## Collections"
      ]
    },
{
      "cell_type": "markdown",
      "metadata": {},
      "source": [
      "### Create collections"
      ]
    },
{
      "cell_type": "markdown",
      "metadata": {},
      "source": [
      "When creating a collection, a name must be specified. The name must have the following considerations:\n",
"\n",
" * The length of the name must be between 3 and 63 characters.\n",
" * The name must begin and end with a lowercase letter or digit and may contain periods, hyphens and underscores in the middle.\n",
" * The name must not contain two consecutive colons.\n",
" * The name must not be a valid IP address.\n",
"\n",
"We can also give it an embedding function. In case we don't give it one, it will use by default the `all-MiniLM-L6-v2` function."
      ]
    },
{
      "cell_type": "code",
      "execution_count": 9,
      "metadata": {},
      "outputs": [],
      "source": [
      "collection = chroma_client.create_collection(name=\"my_other_collection\")"
      ]
    },
{
      "cell_type": "markdown",
      "metadata": {},
      "source": [
      "As you can see, a second collection has been created for the same customer `chroma_client`, so for a single customer we can have several collections."
      ]
    },
{
      "cell_type": "markdown",
      "metadata": {},
      "source": [
      "### Retrieve collections"
      ]
    },
{
      "cell_type": "markdown",
      "metadata": {},
      "source": [
      "If we want to retrieve a collection from a client we can do it with the `get_collection` method."
      ]
    },
{
      "cell_type": "code",
      "execution_count": 10,
      "metadata": {},
      "outputs": [],
      "source": [
      "collection = chroma_client.get_collection(name = \"my_collection\")"
      ]
    },
{
      "cell_type": "markdown",
      "metadata": {},
      "source": [
      "### Retrieve or create collections"
      ]
    },
{
      "cell_type": "markdown",
      "metadata": {},
      "source": [
      "We can obtain collections and, in case they do not exist, create them with the `get_or_create_collection` method."
      ]
    },
{
      "cell_type": "code",
      "execution_count": 11,
      "metadata": {},
      "outputs": [],
      "source": [
      "collection = chroma_client.get_or_create_collection(name = \"my_tird_collection\")"
      ]
    },
{
      "cell_type": "markdown",
      "metadata": {},
      "source": [
      "### Delete collections"
      ]
    },
{
      "cell_type": "markdown",
      "metadata": {},
      "source": [
      "We can delete a collection with the `delete_collection` method."
      ]
    },
{
      "cell_type": "code",
      "execution_count": 12,
      "metadata": {},
      "outputs": [],
      "source": [
      "chroma_client.delete_collection(name=\"my_tird_collection\")"
      ]
    },
{
      "cell_type": "markdown",
      "metadata": {},
      "source": [
      "### Get items from collections"
      ]
    },
{
      "cell_type": "markdown",
      "metadata": {},
      "source": [
      "We can obtain the first 10 items of the collection with the `peek` method."
      ]
    },
{
      "cell_type": "code",
      "execution_count": 13,
      "metadata": {},
      "outputs": [
      {
          "data": {
            "text/plain": [
            "{'ids': ['id1', 'id2'],\n",
" 'embeddings': [[-0.06924048811197281,\n",
"   0.061624377965927124,\n",
"   -0.090973399579525,\n",
"   0.013923337683081627,\n",
"   0.006247623357921839,\n",
"   -0.1078396588563919,\n",
"   -0.012472339905798435,\n",
"   0.03485661745071411,\n",
"   -0.06300634145736694,\n",
"   -0.00880391988903284,\n",
"   0.06879935413599014,\n",
"   0.0564003586769104,\n",
"   0.07040536403656006,\n",
"   -0.020754728466272354,\n",
"   -0.04048658534884453,\n",
"   -0.006666888482868671,\n",
"   -0.0953674241900444,\n",
"   0.049781784415245056,\n",
"   0.021780474111437798,\n",
"   -0.06344643980264664,\n",
"   0.06119797006249428,\n",
"   0.0834411084651947,\n",
"   -0.034758951514959335,\n",
"   0.0029120452236384153,\n",
"   ...\n",
"   -0.013378280214965343]],\n",
" 'metadatas': [{'source': 'Python source'}, {'source': 'JavaScript source'}],\n",
" 'documents': ['This is a python docs', 'This is JavaScript docs'],\n",
" 'uris': None,\n",
" 'data': None}"
            ]
          },
          "execution_count": 13,
          "metadata": {},
          "output_type": "execute_result"
        }
      ],
      "source": [
      "collection = chroma_client.get_collection(name = \"my_collection\")\n",
"collection.peek()"
      ]
    },
{
      "cell_type": "markdown",
      "metadata": {},
      "source": [
      "In this case only two documents have been obtained, because our collection only has two documents"
      ]
    },
{
      "cell_type": "markdown",
      "metadata": {},
      "source": [
      "If you want to obtain another quantity of items you can specify it with the argument `limit`."
      ]
    },
{
      "cell_type": "code",
      "execution_count": 14,
      "metadata": {},
      "outputs": [
      {
          "data": {
            "text/plain": [
            "{'ids': ['id1'],\n",
" 'embeddings': [[-0.06924048811197281,\n",
"   0.061624377965927124,\n",
"   -0.090973399579525,\n",
"   0.013923337683081627,\n",
"   0.006247623357921839,\n",
"   -0.1078396588563919,\n",
"   -0.012472339905798435,\n",
"   0.03485661745071411,\n",
"   -0.06300634145736694,\n",
"   -0.00880391988903284,\n",
"   0.06879935413599014,\n",
"   0.0564003586769104,\n",
"   0.07040536403656006,\n",
"   -0.020754728466272354,\n",
"   -0.04048658534884453,\n",
"   -0.006666888482868671,\n",
"   -0.0953674241900444,\n",
"   0.049781784415245056,\n",
"   0.021780474111437798,\n",
"   -0.06344643980264664,\n",
"   0.06119797006249428,\n",
"   0.0834411084651947,\n",
"   -0.034758951514959335,\n",
"   0.0029120452236384153,\n",
"   ...\n",
"   0.012315398082137108]],\n",
" 'metadatas': [{'source': 'Python source'}],\n",
" 'documents': ['This is a python docs'],\n",
" 'uris': None,\n",
" 'data': None}"
            ]
          },
          "execution_count": 14,
          "metadata": {},
          "output_type": "execute_result"
        }
      ],
      "source": [
      "collection.peek(limit=1)"
      ]
    },
{
      "cell_type": "markdown",
      "metadata": {},
      "source": [
      "### Obtain the total number of items in the collections"
      ]
    },
{
      "cell_type": "markdown",
      "metadata": {},
      "source": [
      "We can obtain the total number of items in the collection with the `count` method."
      ]
    },
{
      "cell_type": "code",
      "execution_count": 15,
      "metadata": {},
      "outputs": [
      {
          "data": {
            "text/plain": [
            "2"
            ]
          },
          "execution_count": 15,
          "metadata": {},
          "output_type": "execute_result"
        }
      ],
      "source": [
      "collection.count()"
      ]
    },
{
      "cell_type": "markdown",
      "metadata": {},
      "source": [
      "### Change similarity function"
      ]
    },
{
      "cell_type": "markdown",
      "metadata": {},
      "source": [
      "Earlier, when we made a query we got the similarity of the embeddings with our query, since by default in a collection the distance function is used, but we can specify which similarity function we want to use. The possibilities are\n",
"\n",
" * Squared L2 (`l2`)\n",
" * Inner product (`ip`)\n",
" * Cosine similarity (`cosine`)\n",
"\n",
"In the post [Measurement of similarity between embeddings](http://maximofn.com/embeddings-similarity/) we saw L2 and cosine similarity, if you want to go deeper into them."
      ]
    },
{
      "cell_type": "markdown",
      "metadata": {},
      "source": [
      "So we can create collections with another similarity function with the argument `metadata={\"hnsw:space\": <function>}`."
      ]
    },
{
      "cell_type": "code",
      "execution_count": 16,
      "metadata": {},
      "outputs": [],
      "source": [
      "collection = chroma_client.create_collection(name=\"colection_cosine\", metadata={\"hnsw:space\": \"cosine\"})"
      ]
    },
{
      "cell_type": "markdown",
      "metadata": {},
      "source": [
      "### Add data to the collection"
      ]
    },
{
      "cell_type": "markdown",
      "metadata": {},
      "source": [
      "#### Add documents"
      ]
    },
{
      "cell_type": "markdown",
      "metadata": {},
      "source": [
      "Let's look again at the data we have in the collection with the `peek` method"
      ]
    },
{
      "cell_type": "code",
      "execution_count": 17,
      "metadata": {},
      "outputs": [
      {
          "data": {
            "text/plain": [
            "{'ids': [],\n",
" 'embeddings': [],\n",
" 'metadatas': [],\n",
" 'documents': [],\n",
" 'uris': None,\n",
" 'data': None}"
            ]
          },
          "execution_count": 17,
          "metadata": {},
          "output_type": "execute_result"
        }
      ],
      "source": [
      "collection.peek()"
      ]
    },
{
      "cell_type": "markdown",
      "metadata": {},
      "source": [
      "As we can see it is empty, that is because the last collection that we have created has been the one of the similarity function `cosine`, but we have not added data to it. Let's see how it is like this obtaining the name of the collection"
      ]
    },
{
      "cell_type": "code",
      "execution_count": 18,
      "metadata": {},
      "outputs": [
      {
          "data": {
            "text/plain": [
            "'colection_cosine'"
            ]
          },
          "execution_count": 18,
          "metadata": {},
          "output_type": "execute_result"
        }
      ],
      "source": [
      "collection.name"
      ]
    },
{
      "cell_type": "markdown",
      "metadata": {},
      "source": [
      "So we bring back the first collection we have created, which we have entered data for."
      ]
    },
{
      "cell_type": "code",
      "execution_count": 19,
      "metadata": {},
      "outputs": [],
      "source": [
      "collection = chroma_client.get_collection(name = \"my_collection\")"
      ]
    },
{
      "cell_type": "markdown",
      "metadata": {},
      "source": [
      "Now we can add data to the collection with the `add` method"
      ]
    },
{
      "cell_type": "code",
      "execution_count": 20,
      "metadata": {},
      "outputs": [],
      "source": [
      "collection.add(\n",
"    documents=[\"This is a Mojo docs\", \"This is Rust docs\"],\n",
"    metadatas=[{\"source\": \"Mojo source\"}, {\"source\": \"Rust source\"}],\n",
"    ids=[\"id3\", \"id4\"]\n",
")"
      ]
    },
{
      "cell_type": "markdown",
      "metadata": {},
      "source": [
      "As you can see the `ID`s are consecutive and do not have the same value as before, since the `ID`s have to be unique."
      ]
    },
{
      "cell_type": "markdown",
      "metadata": {},
      "source": [
      "If we try to add data by repeating `ID`s, it will indicate that data with those `ID`s already exists."
      ]
    },
{
      "cell_type": "code",
      "execution_count": 21,
      "metadata": {},
      "outputs": [
      {
          "name": "stderr",
          "output_type": "stream",
          "text": [
          "Add of existing embedding ID: id3\n",
"Add of existing embedding ID: id4\n",
"Insert of existing embedding ID: id3\n",
"Insert of existing embedding ID: id4\n"
          ]
        }
      ],
      "source": [
      "collection.add(\n",
"    documents=[\"This is a Pytorch docs\", \"This is TensorRT docs\"],\n",
"    metadatas=[{\"source\": \"Pytorch source\"}, {\"source\": \"TensorRT source\"}],\n",
"    ids=[\"id3\", \"id4\"]\n",
")"
      ]
    },
{
      "cell_type": "markdown",
      "metadata": {},
      "source": [
      "We have not been able to add the Pytorch and TensorRT documents."
      ]
    },
{
      "cell_type": "markdown",
      "metadata": {},
      "source": [
      "Let's take a look at the collection data"
      ]
    },
{
      "cell_type": "code",
      "execution_count": 22,
      "metadata": {},
      "outputs": [
      {
          "data": {
            "text/plain": [
            "{'ids': ['id1', 'id2', 'id3', 'id4'],\n",
" 'embeddings': [[-0.06924048811197281,\n",
"   0.061624377965927124,\n",
"   -0.090973399579525,\n",
"   0.013923337683081627,\n",
"   0.006247623357921839,\n",
"   -0.1078396588563919,\n",
"   -0.012472339905798435,\n",
"   0.03485661745071411,\n",
"   -0.06300634145736694,\n",
"   -0.00880391988903284,\n",
"   0.06879935413599014,\n",
"   0.0564003586769104,\n",
"   0.07040536403656006,\n",
"   -0.020754728466272354,\n",
"   -0.04048658534884453,\n",
"   -0.006666888482868671,\n",
"   -0.0953674241900444,\n",
"   0.049781784415245056,\n",
"   0.021780474111437798,\n",
"   -0.06344643980264664,\n",
"   0.06119797006249428,\n",
"   0.0834411084651947,\n",
"   -0.034758951514959335,\n",
"   0.0029120452236384153,\n",
"   ...\n",
"  {'source': 'JavaScript source'},\n",
"  {'source': 'Mojo source'},\n",
"  {'source': 'Rust source'}],\n",
" 'documents': ['This is a python docs',\n",
"  'This is JavaScript docs',\n",
"  'This is a Mojo docs',\n",
"  'This is Rust docs'],\n",
" 'uris': None,\n",
" 'data': None}"
            ]
          },
          "execution_count": 22,
          "metadata": {},
          "output_type": "execute_result"
        }
      ],
      "source": [
      "collection.peek()"
      ]
    },
{
      "cell_type": "markdown",
      "metadata": {},
      "source": [
      "As we can see, the original contents of `ID3` and `ID4` have been maintained."
      ]
    },
{
      "cell_type": "markdown",
      "metadata": {},
      "source": [
      "#### Add embeddings"
      ]
    },
{
      "cell_type": "markdown",
      "metadata": {},
      "source": [
      "We can add embeddings directly without adding documents. Although this does not make much sense, because if we only add the embeddings, when we want to make a query there will be no documents to retrieve."
      ]
    },
{
      "cell_type": "markdown",
      "metadata": {},
      "source": [
      "We obtain some embeddings to create others with the same dimensions."
      ]
    },
{
      "cell_type": "code",
      "execution_count": 23,
      "metadata": {},
      "outputs": [
      {
          "data": {
            "text/plain": [
            "(1, 384)"
            ]
          },
          "execution_count": 23,
          "metadata": {},
          "output_type": "execute_result"
        }
      ],
      "source": [
      "embedding1 = collection.peek(1)['embeddings']\n",
"len(embedding1), len(embedding1[0])"
      ]
    },
{
      "cell_type": "markdown",
      "metadata": {},
      "source": [
      "We create new embeddings with all of them to know that they are the ones we have created."
      ]
    },
{
      "cell_type": "code",
      "execution_count": 24,
      "metadata": {},
      "outputs": [
      {
          "data": {
            "text/plain": [
            "(1, 384)"
            ]
          },
          "execution_count": 24,
          "metadata": {},
          "output_type": "execute_result"
        }
      ],
      "source": [
      "new_embedding = [1] * len(embedding1[0])\n",
"new_embedding = [new_embedding]\n",
"len(new_embedding), len(new_embedding[0])"
      ]
    },
{
      "cell_type": "markdown",
      "metadata": {},
      "source": [
      "Now we add the new embeddings"
      ]
    },
{
      "cell_type": "code",
      "execution_count": 25,
      "metadata": {},
      "outputs": [],
      "source": [
      "collection.add(\n",
"    embeddings=new_embedding,\n",
"    metadatas=[{\"source\": \"Only embeddings\"}],\n",
"    ids=[\"id5\"]\n",
")"
      ]
    },
{
      "cell_type": "markdown",
      "metadata": {},
      "source": [
      "Let's take a look at the collection data"
      ]
    },
{
      "cell_type": "code",
      "execution_count": 26,
      "metadata": {},
      "outputs": [
      {
          "data": {
            "text/plain": [
            "[1.0,\n",
" 1.0,\n",
" 1.0,\n",
" 1.0,\n",
" 1.0,\n",
" 1.0,\n",
" 1.0,\n",
" 1.0,\n",
" 1.0,\n",
" 1.0,\n",
" 1.0,\n",
" 1.0,\n",
" 1.0,\n",
" 1.0,\n",
" 1.0,\n",
" 1.0,\n",
" 1.0,\n",
" 1.0,\n",
" 1.0,\n",
" 1.0,\n",
" 1.0,\n",
" 1.0,\n",
" 1.0,\n",
" 1.0,\n",
" 1.0,\n",
" 1.0,\n",
" ...,\n",
" 1.0,\n",
" 1.0,\n",
" 1.0,\n",
" 1.0,\n",
" 1.0]"
            ]
          },
          "execution_count": 26,
          "metadata": {},
          "output_type": "execute_result"
        }
      ],
      "source": [
      "collection.peek()['embeddings'][-1]"
      ]
    },
{
      "cell_type": "markdown",
      "metadata": {},
      "source": [
      "The last element of the condition has the embeddings that we have added"
      ]
    },
{
      "cell_type": "markdown",
      "metadata": {},
      "source": [
      " > Note: If we try to add embbedings with a different size than the ones already in the collection, we will get an error."
      ]
    },
{
      "cell_type": "code",
      "execution_count": 27,
      "metadata": {},
      "outputs": [
      {
          "data": {
            "text/plain": [
            "(1, 383)"
            ]
          },
          "execution_count": 27,
          "metadata": {},
          "output_type": "execute_result"
        }
      ],
      "source": [
      "new_embedding_differetn_size = [1] * (len(embedding1[0])-1)\n",
"new_embedding_differetn_size = [new_embedding_differetn_size]\n",
"len(new_embedding_differetn_size), len(new_embedding_differetn_size[0])"
      ]
    },
{
      "cell_type": "markdown",
      "metadata": {},
      "source": [
      "As you can see the embedding dimension is 383, instead of 384."
      ]
    },
{
      "cell_type": "code",
      "execution_count": 28,
      "metadata": {},
      "outputs": [
      {
          "ename": "InvalidDimensionException",
          "evalue": "Embedding dimension 383 does not match collection dimensionality 384",
          "output_type": "error",
          "traceback": [
          "\u001b[0;31m---------------------------------------------------------------------------\u001b[0m",
"\u001b[0;31mInvalidDimensionException\u001b[0m                 Traceback (most recent call last)",
"Cell \u001b[0;32mIn[28], line 1\u001b[0m\n\u001b[0;32m----> 1\u001b[0m collection\u001b[38;5;241m.\u001b[39madd(\n\u001b[1;32m      2\u001b[0m     embeddings\u001b[38;5;241m=\u001b[39mnew_embedding_differetn_size,\n\u001b[1;32m      3\u001b[0m     metadatas\u001b[38;5;241m=\u001b[39m[{\u001b[38;5;124m\"\u001b[39m\u001b[38;5;124msource\u001b[39m\u001b[38;5;124m\"\u001b[39m: \u001b[38;5;124m\"\u001b[39m\u001b[38;5;124mNew embeddings different size\u001b[39m\u001b[38;5;124m\"\u001b[39m}],\n\u001b[1;32m      4\u001b[0m     ids\u001b[38;5;241m=\u001b[39m[\u001b[38;5;124m\"\u001b[39m\u001b[38;5;124mid6\u001b[39m\u001b[38;5;124m\"\u001b[39m]\n\u001b[1;32m      5\u001b[0m )\n",
"File \u001b[0;32m~/miniforge3/envs/crhomadb/lib/python3.11/site-packages/chromadb/api/models/Collection.py:168\u001b[0m, in \u001b[0;36mCollection.add\u001b[0;34m(self, ids, embeddings, metadatas, documents, images, uris)\u001b[0m\n\u001b[1;32m    163\u001b[0m             \u001b[38;5;28;01mraise\u001b[39;00m \u001b[38;5;167;01mValueError\u001b[39;00m(\n\u001b[1;32m    164\u001b[0m                 \u001b[38;5;124m\"\u001b[39m\u001b[38;5;124mYou must set a data loader on the collection if loading from URIs.\u001b[39m\u001b[38;5;124m\"\u001b[39m\n\u001b[1;32m    165\u001b[0m             )\n\u001b[1;32m    166\u001b[0m         embeddings \u001b[38;5;241m=\u001b[39m \u001b[38;5;28mself\u001b[39m\u001b[38;5;241m.\u001b[39m_embed(\u001b[38;5;28mself\u001b[39m\u001b[38;5;241m.\u001b[39m_data_loader(uris))\n\u001b[0;32m--> 168\u001b[0m \u001b[38;5;28mself\u001b[39m\u001b[38;5;241m.\u001b[39m_client\u001b[38;5;241m.\u001b[39m_add(ids, \u001b[38;5;28mself\u001b[39m\u001b[38;5;241m.\u001b[39mid, embeddings, metadatas, documents, uris)\n",
"File \u001b[0;32m~/miniforge3/envs/crhomadb/lib/python3.11/site-packages/chromadb/telemetry/opentelemetry/__init__.py:127\u001b[0m, in \u001b[0;36mtrace_method.<locals>.decorator.<locals>.wrapper\u001b[0;34m(*args, **kwargs)\u001b[0m\n\u001b[1;32m    125\u001b[0m \u001b[38;5;28;01mglobal\u001b[39;00m tracer, granularity\n\u001b[1;32m    126\u001b[0m \u001b[38;5;28;01mif\u001b[39;00m trace_granularity \u001b[38;5;241m<\u001b[39m granularity:\n\u001b[0;32m--> 127\u001b[0m     \u001b[38;5;28;01mreturn\u001b[39;00m f(\u001b[38;5;241m*\u001b[39margs, \u001b[38;5;241m*\u001b[39m\u001b[38;5;241m*\u001b[39mkwargs)\n\u001b[1;32m    128\u001b[0m \u001b[38;5;28;01mif\u001b[39;00m \u001b[38;5;129;01mnot\u001b[39;00m tracer:\n\u001b[1;32m    129\u001b[0m     \u001b[38;5;28;01mreturn\u001b[39;00m f(\u001b[38;5;241m*\u001b[39margs, \u001b[38;5;241m*\u001b[39m\u001b[38;5;241m*\u001b[39mkwargs)\n",
"File \u001b[0;32m~/miniforge3/envs/crhomadb/lib/python3.11/site-packages/chromadb/api/segment.py:375\u001b[0m, in \u001b[0;36mSegmentAPI._add\u001b[0;34m(self, ids, collection_id, embeddings, metadatas, documents, uris)\u001b[0m\n\u001b[1;32m    365\u001b[0m records_to_submit \u001b[38;5;241m=\u001b[39m []\n\u001b[1;32m    366\u001b[0m \u001b[38;5;28;01mfor\u001b[39;00m r \u001b[38;5;129;01min\u001b[39;00m _records(\n\u001b[1;32m    367\u001b[0m     t\u001b[38;5;241m.\u001b[39mOperation\u001b[38;5;241m.\u001b[39mADD,\n\u001b[1;32m    368\u001b[0m     ids\u001b[38;5;241m=\u001b[39mids,\n\u001b[0;32m   (...)\u001b[0m\n\u001b[1;32m    373\u001b[0m     uris\u001b[38;5;241m=\u001b[39muris,\n\u001b[1;32m    374\u001b[0m ):\n\u001b[0;32m--> 375\u001b[0m     \u001b[38;5;28mself\u001b[39m\u001b[38;5;241m.\u001b[39m_validate_embedding_record(coll, r)\n\u001b[1;32m    376\u001b[0m     records_to_submit\u001b[38;5;241m.\u001b[39mappend(r)\n\u001b[1;32m    377\u001b[0m \u001b[38;5;28mself\u001b[39m\u001b[38;5;241m.\u001b[39m_producer\u001b[38;5;241m.\u001b[39msubmit_embeddings(coll[\u001b[38;5;124m\"\u001b[39m\u001b[38;5;124mtopic\u001b[39m\u001b[38;5;124m\"\u001b[39m], records_to_submit)\n",
"File \u001b[0;32m~/miniforge3/envs/crhomadb/lib/python3.11/site-packages/chromadb/telemetry/opentelemetry/__init__.py:127\u001b[0m, in \u001b[0;36mtrace_method.<locals>.decorator.<locals>.wrapper\u001b[0;34m(*args, **kwargs)\u001b[0m\n\u001b[1;32m    125\u001b[0m \u001b[38;5;28;01mglobal\u001b[39;00m tracer, granularity\n\u001b[1;32m    126\u001b[0m \u001b[38;5;28;01mif\u001b[39;00m trace_granularity \u001b[38;5;241m<\u001b[39m granularity:\n\u001b[0;32m--> 127\u001b[0m     \u001b[38;5;28;01mreturn\u001b[39;00m f(\u001b[38;5;241m*\u001b[39margs, \u001b[38;5;241m*\u001b[39m\u001b[38;5;241m*\u001b[39mkwargs)\n\u001b[1;32m    128\u001b[0m \u001b[38;5;28;01mif\u001b[39;00m \u001b[38;5;129;01mnot\u001b[39;00m tracer:\n\u001b[1;32m    129\u001b[0m     \u001b[38;5;28;01mreturn\u001b[39;00m f(\u001b[38;5;241m*\u001b[39margs, \u001b[38;5;241m*\u001b[39m\u001b[38;5;241m*\u001b[39mkwargs)\n",
"File \u001b[0;32m~/miniforge3/envs/crhomadb/lib/python3.11/site-packages/chromadb/api/segment.py:799\u001b[0m, in \u001b[0;36mSegmentAPI._validate_embedding_record\u001b[0;34m(self, collection, record)\u001b[0m\n\u001b[1;32m    797\u001b[0m add_attributes_to_current_span({\u001b[38;5;124m\"\u001b[39m\u001b[38;5;124mcollection_id\u001b[39m\u001b[38;5;124m\"\u001b[39m: \u001b[38;5;28mstr\u001b[39m(collection[\u001b[38;5;124m\"\u001b[39m\u001b[38;5;124mid\u001b[39m\u001b[38;5;124m\"\u001b[39m])})\n\u001b[1;32m    798\u001b[0m \u001b[38;5;28;01mif\u001b[39;00m record[\u001b[38;5;124m\"\u001b[39m\u001b[38;5;124membedding\u001b[39m\u001b[38;5;124m\"\u001b[39m]:\n\u001b[0;32m--> 799\u001b[0m     \u001b[38;5;28mself\u001b[39m\u001b[38;5;241m.\u001b[39m_validate_dimension(collection, \u001b[38;5;28mlen\u001b[39m(record[\u001b[38;5;124m\"\u001b[39m\u001b[38;5;124membedding\u001b[39m\u001b[38;5;124m\"\u001b[39m]), update\u001b[38;5;241m=\u001b[39m\u001b[38;5;28;01mTrue\u001b[39;00m)\n",
"File \u001b[0;32m~/miniforge3/envs/crhomadb/lib/python3.11/site-packages/chromadb/telemetry/opentelemetry/__init__.py:127\u001b[0m, in \u001b[0;36mtrace_method.<locals>.decorator.<locals>.wrapper\u001b[0;34m(*args, **kwargs)\u001b[0m\n\u001b[1;32m    125\u001b[0m \u001b[38;5;28;01mglobal\u001b[39;00m tracer, granularity\n\u001b[1;32m    126\u001b[0m \u001b[38;5;28;01mif\u001b[39;00m trace_granularity \u001b[38;5;241m<\u001b[39m granularity:\n\u001b[0;32m--> 127\u001b[0m     \u001b[38;5;28;01mreturn\u001b[39;00m f(\u001b[38;5;241m*\u001b[39margs, \u001b[38;5;241m*\u001b[39m\u001b[38;5;241m*\u001b[39mkwargs)\n\u001b[1;32m    128\u001b[0m \u001b[38;5;28;01mif\u001b[39;00m \u001b[38;5;129;01mnot\u001b[39;00m tracer:\n\u001b[1;32m    129\u001b[0m     \u001b[38;5;28;01mreturn\u001b[39;00m f(\u001b[38;5;241m*\u001b[39margs, \u001b[38;5;241m*\u001b[39m\u001b[38;5;241m*\u001b[39mkwargs)\n",
"File \u001b[0;32m~/miniforge3/envs/crhomadb/lib/python3.11/site-packages/chromadb/api/segment.py:814\u001b[0m, in \u001b[0;36mSegmentAPI._validate_dimension\u001b[0;34m(self, collection, dim, update)\u001b[0m\n\u001b[1;32m    812\u001b[0m         \u001b[38;5;28mself\u001b[39m\u001b[38;5;241m.\u001b[39m_collection_cache[\u001b[38;5;28mid\u001b[39m][\u001b[38;5;124m\"\u001b[39m\u001b[38;5;124mdimension\u001b[39m\u001b[38;5;124m\"\u001b[39m] \u001b[38;5;241m=\u001b[39m dim\n\u001b[1;32m    813\u001b[0m \u001b[38;5;28;01melif\u001b[39;00m collection[\u001b[38;5;124m\"\u001b[39m\u001b[38;5;124mdimension\u001b[39m\u001b[38;5;124m\"\u001b[39m] \u001b[38;5;241m!=\u001b[39m dim:\n\u001b[0;32m--> 814\u001b[0m     \u001b[38;5;28;01mraise\u001b[39;00m InvalidDimensionException(\n\u001b[1;32m    815\u001b[0m         \u001b[38;5;124mf\u001b[39m\u001b[38;5;124m\"\u001b[39m\u001b[38;5;124mEmbedding dimension \u001b[39m\u001b[38;5;132;01m{\u001b[39;00mdim\u001b[38;5;132;01m}\u001b[39;00m\u001b[38;5;124m does not match collection dimensionality \u001b[39m\u001b[38;5;132;01m{\u001b[39;00mcollection[\u001b[38;5;124m'\u001b[39m\u001b[38;5;124mdimension\u001b[39m\u001b[38;5;124m'\u001b[39m]\u001b[38;5;132;01m}\u001b[39;00m\u001b[38;5;124m\"\u001b[39m\n\u001b[1;32m    816\u001b[0m     )\n\u001b[1;32m    817\u001b[0m \u001b[38;5;28;01melse\u001b[39;00m:\n\u001b[1;32m    818\u001b[0m     \u001b[38;5;28;01mreturn\u001b[39;00m\n",
"\u001b[0;31mInvalidDimensionException\u001b[0m: Embedding dimension 383 does not match collection dimensionality 384"
          ]
        }
      ],
      "source": [
      "collection.add(\n",
"    embeddings=new_embedding_differetn_size,\n",
"    metadatas=[{\"source\": \"New embeddings different size\"}],\n",
"    ids=[\"id6\"]\n",
")"
      ]
    },
{
      "cell_type": "markdown",
      "metadata": {},
      "source": [
      "#### Add documents and embeddings"
      ]
    },
{
      "cell_type": "markdown",
      "metadata": {},
      "source": [
      "Chroma also allows us to add documents and embeddings at the same time. So if this is done, it will not create the embeddings of the document."
      ]
    },
{
      "cell_type": "code",
      "execution_count": "None",
      "metadata": {},
      "outputs": [],
      "source": [
      "collection.add(\n",
"    documents=[\"This is a Pytorch docs\"],\n",
"    embeddings=new_embedding,\n",
"    metadatas=[{\"source\": \"Pytorch source\"}],\n",
"    ids=[\"id6\"]\n",
")"
      ]
    },
{
      "cell_type": "markdown",
      "metadata": {},
      "source": [
      "If we look at the embeddings of the last element of the collection, we will see that these are the ones we added"
      ]
    },
{
      "cell_type": "code",
      "execution_count": "None",
      "metadata": {},
      "outputs": [
      {
          "data": {
            "text/plain": [
            "[1.0,\n",
" 1.0,\n",
" 1.0,\n",
" 1.0,\n",
" 1.0,\n",
" 1.0,\n",
" 1.0,\n",
" 1.0,\n",
" 1.0,\n",
" 1.0,\n",
" 1.0,\n",
" 1.0,\n",
" 1.0,\n",
" 1.0,\n",
" 1.0,\n",
" 1.0,\n",
" 1.0,\n",
" 1.0,\n",
" 1.0,\n",
" 1.0,\n",
" 1.0,\n",
" 1.0,\n",
" 1.0,\n",
" 1.0,\n",
" 1.0,\n",
" 1.0,\n",
" 1.0,\n",
" ...,\n",
" 1.0,\n",
" 1.0,\n",
" 1.0,\n",
" 1.0,\n",
" 1.0]"
            ]
          },
          "execution_count": 45,
          "metadata": {},
          "output_type": "execute_result"
        }
      ],
      "source": [
      "collection.peek()['embeddings'][-1]"
      ]
    },
{
      "cell_type": "markdown",
      "metadata": {},
      "source": [
      "### Inquiries"
      ]
    },
{
      "cell_type": "markdown",
      "metadata": {},
      "source": [
      "#### Queries by documents"
      ]
    },
{
      "cell_type": "markdown",
      "metadata": {},
      "source": [
      "To make a query we use the `query` method. With the `n_results` parameter we can specify how many results we want to get"
      ]
    },
{
      "cell_type": "code",
      "execution_count": "None",
      "metadata": {},
      "outputs": [
      {
          "data": {
            "text/plain": [
            "{'ids': [['id1']],\n",
" 'distances': [[0.5389559268951416]],\n",
" 'metadatas': [[{'source': 'Python source'}]],\n",
" 'embeddings': None,\n",
" 'documents': [['This is a python docs']],\n",
" 'uris': None,\n",
" 'data': None}"
            ]
          },
          "execution_count": 47,
          "metadata": {},
          "output_type": "execute_result"
        }
      ],
      "source": [
      "collection.query(\n",
"    query_texts=[\"python\"],\n",
"    n_results=1,\n",
")"
      ]
    },
{
      "cell_type": "markdown",
      "metadata": {},
      "source": [
      "If instead of `n_results = 1` we set a higher value, it will return more results."
      ]
    },
{
      "cell_type": "code",
      "execution_count": "None",
      "metadata": {},
      "outputs": [
      {
          "name": "stderr",
          "output_type": "stream",
          "text": [
          "Number of requested results 10 is greater than number of elements in index 6, updating n_results = 6\n"
          ]
        },
{
          "data": {
            "text/plain": [
            "{'ids': [['id1', 'id2', 'id4', 'id3', 'id5', 'id6']],\n",
" 'distances': [[0.5389559268951416,\n",
"   1.5743632316589355,\n",
"   1.578398585319519,\n",
"   1.59961998462677,\n",
"   384.56890869140625,\n",
"   384.56890869140625]],\n",
" 'metadatas': [[{'source': 'Python source'},\n",
"   {'source': 'JavaScript source'},\n",
"   {'source': 'Rust source'},\n",
"   {'source': 'Mojo source'},\n",
"   {'source': 'Only embeddings'},\n",
"   {'source': 'Pytorch source'}]],\n",
" 'embeddings': None,\n",
" 'documents': [['This is a python docs',\n",
"   'This is JavaScript docs',\n",
"   'This is Rust docs',\n",
"   'This is a Mojo docs',\n",
"   None,\n",
"   'This is a Pytorch docs']],\n",
" 'uris': None,\n",
" 'data': None}"
            ]
          },
          "execution_count": 48,
          "metadata": {},
          "output_type": "execute_result"
        }
      ],
      "source": [
      "collection.query(\n",
"    query_texts=[\"python\"],\n",
"    n_results=10,\n",
")"
      ]
    },
{
      "cell_type": "markdown",
      "metadata": {},
      "source": [
      "We can filter by a metadata value with the argument `where`."
      ]
    },
{
      "cell_type": "code",
      "execution_count": "None",
      "metadata": {},
      "outputs": [
      {
          "name": "stderr",
          "output_type": "stream",
          "text": [
          "Number of requested results 10 is greater than number of elements in index 6, updating n_results = 6\n"
          ]
        },
{
          "data": {
            "text/plain": [
            "{'ids': [['id1']],\n",
" 'distances': [[0.5389559268951416]],\n",
" 'metadatas': [[{'source': 'Python source'}]],\n",
" 'embeddings': None,\n",
" 'documents': [['This is a python docs']],\n",
" 'uris': None,\n",
" 'data': None}"
            ]
          },
          "execution_count": 49,
          "metadata": {},
          "output_type": "execute_result"
        }
      ],
      "source": [
      "collection.query(\n",
"    query_texts=[\"python\"],\n",
"    n_results=10,\n",
"    where={\"source\": \"Python source\"}\n",
")"
      ]
    },
{
      "cell_type": "markdown",
      "metadata": {},
      "source": [
      "We can see that only 1 result is already returned"
      ]
    },
{
      "cell_type": "markdown",
      "metadata": {},
      "source": [
      "We can also filter by document content with the argument `where_document`."
      ]
    },
{
      "cell_type": "code",
      "execution_count": "None",
      "metadata": {},
      "outputs": [
      {
          "name": "stderr",
          "output_type": "stream",
          "text": [
          "Number of requested results 10 is greater than number of elements in index 6, updating n_results = 6\n"
          ]
        },
{
          "data": {
            "text/plain": [
            "{'ids': [['id1']],\n",
" 'distances': [[0.5389559268951416]],\n",
" 'metadatas': [[{'source': 'Python source'}]],\n",
" 'embeddings': None,\n",
" 'documents': [['This is a python docs']],\n",
" 'uris': None,\n",
" 'data': None}"
            ]
          },
          "execution_count": 51,
          "metadata": {},
          "output_type": "execute_result"
        }
      ],
      "source": [
      "collection.query(\n",
"    query_texts=[\"python\"],\n",
"    n_results=10,\n",
"    where_document={\"$contains\": \"python\"}\n",
")"
      ]
    },
{
      "cell_type": "markdown",
      "metadata": {},
      "source": [
      "We will see later on the possibilities we have here"
      ]
    },
{
      "cell_type": "markdown",
      "metadata": {},
      "source": [
      "When we make a query we can say what data we want to be returned, for example only the embeddings, only the metadata, or several data by specifying it in a list using the `include` argument."
      ]
    },
{
      "cell_type": "code",
      "execution_count": "None",
      "metadata": {},
      "outputs": [
      {
          "name": "stderr",
          "output_type": "stream",
          "text": [
          "Number of requested results 10 is greater than number of elements in index 6, updating n_results = 6\n"
          ]
        },
{
          "data": {
            "text/plain": [
            "{'ids': [['id1', 'id2', 'id4', 'id3', 'id5', 'id6']],\n",
" 'distances': [[0.5389559268951416,\n",
"   1.5743632316589355,\n",
"   1.578398585319519,\n",
"   1.59961998462677,\n",
"   384.56890869140625,\n",
"   384.56890869140625]],\n",
" 'metadatas': None,\n",
" 'embeddings': None,\n",
" 'documents': [['This is a python docs',\n",
"   'This is JavaScript docs',\n",
"   'This is Rust docs',\n",
"   'This is a Mojo docs',\n",
"   None,\n",
"   'This is a Pytorch docs']],\n",
" 'uris': None,\n",
" 'data': None}"
            ]
          },
          "execution_count": 59,
          "metadata": {},
          "output_type": "execute_result"
        }
      ],
      "source": [
      "collection.query(\n",
"    query_texts=[\"python\"],\n",
"    n_results=10,\n",
"    include=[\"documents\", \"distances\"]\n",
")"
      ]
    },
{
      "cell_type": "markdown",
      "metadata": {},
      "source": [
      "We see that now `metadatas` is `None`."
      ]
    },
{
      "cell_type": "markdown",
      "metadata": {},
      "source": [
      "#### Several queries at once"
      ]
    },
{
      "cell_type": "markdown",
      "metadata": {},
      "source": [
      "We can make several queries to the collection at the same time, for this, we pass a list to the `query_texts` parameter"
      ]
    },
{
      "cell_type": "code",
      "execution_count": "None",
      "metadata": {},
      "outputs": [
      {
          "data": {
            "text/plain": [
            "{'ids': [['id1'], ['id1'], ['id3']],\n",
" 'distances': [[1.152251958847046], [1.654376745223999], [1.6786067485809326]],\n",
" 'metadatas': [[{'source': 'Python source'}],\n",
"  [{'source': 'Python source'}],\n",
"  [{'source': 'Mojo source'}]],\n",
" 'embeddings': None,\n",
" 'documents': [['This is a python docs'],\n",
"  ['This is a python docs'],\n",
"  ['This is a Mojo docs']],\n",
" 'uris': None,\n",
" 'data': None}"
            ]
          },
          "execution_count": 57,
          "metadata": {},
          "output_type": "execute_result"
        }
      ],
      "source": [
      "collection.query(\n",
"    query_texts=[\"programming language\", \"high level\", \"multi propuse\"],\n",
"    n_results=1,\n",
")"
      ]
    },
{
      "cell_type": "markdown",
      "metadata": {},
      "source": [
      "For each query it returned a result"
      ]
    },
{
      "cell_type": "markdown",
      "metadata": {},
      "source": [
      "This is very useful when the database is hosted on a server and we are charged for each query we make. So instead of making a query for each question we have, we make a query with all the questions we have."
      ]
    },
{
      "cell_type": "markdown",
      "metadata": {},
      "source": [
      "#### Queries for embeddings"
      ]
    },
{
      "cell_type": "markdown",
      "metadata": {},
      "source": [
      "When we make a query for documents, what chroma does is to calculate the embedding of the `query_texts` and look for the documents that most resemble that embedding. But if we already have the embedding, we can make the query directly with the embedding."
      ]
    },
{
      "cell_type": "markdown",
      "metadata": {},
      "source": [
      "Let's first get the embedding of a query with the same embedding function of the collections"
      ]
    },
{
      "cell_type": "code",
      "execution_count": "None",
      "metadata": {},
      "outputs": [
      {
          "data": {
            "text/plain": [
            "[[-0.04816831275820732,\n",
"  0.014662696048617363,\n",
"  -0.031021444126963615,\n",
"  0.008308809250593185,\n",
"  -0.07176128774881363,\n",
"  -0.10355626791715622,\n",
"  0.06690476089715958,\n",
"  0.04229631647467613,\n",
"  -0.03681119903922081,\n",
"  -0.04993892088532448,\n",
"  0.03186540678143501,\n",
"  0.015252595767378807,\n",
"  0.0642094686627388,\n",
"  0.018130118027329445,\n",
"  0.016300885006785393,\n",
"  -0.028082313016057014,\n",
"  -0.03994889184832573,\n",
"  0.023195551708340645,\n",
"  0.004547565709799528,\n",
"  -0.11764183640480042,\n",
"  0.019792592152953148,\n",
"  0.0496944822371006,\n",
"  -0.013253907673060894,\n",
"  0.03610404208302498,\n",
"  0.030529780313372612,\n",
"  -0.01815914921462536,\n",
"  -0.009753326885402203,\n",
"  0.03412770479917526,\n",
"  0.03020440600812435,\n",
"  ...\n",
"  0.02079579420387745,\n",
"  -0.00972712505608797,\n",
"  0.13462257385253906,\n",
"  0.15277136862277985,\n",
"  -0.028574923053383827]]"
            ]
          },
          "execution_count": 54,
          "metadata": {},
          "output_type": "execute_result"
        }
      ],
      "source": [
      "query_texts = [\"python language\"]\n",
"query_embeddings = collection._embedding_function(query_texts)\n",
"query_embeddings"
      ]
    },
{
      "cell_type": "markdown",
      "metadata": {},
      "source": [
      "Now we can make the query with embedding"
      ]
    },
{
      "cell_type": "code",
      "execution_count": "None",
      "metadata": {},
      "outputs": [
      {
          "data": {
            "text/plain": [
            "{'ids': [['id1']],\n",
" 'distances': [[0.6297433376312256]],\n",
" 'metadatas': [[{'source': 'Python source'}]],\n",
" 'embeddings': None,\n",
" 'documents': [['This is a python docs']],\n",
" 'uris': None,\n",
" 'data': None}"
            ]
          },
          "execution_count": 55,
          "metadata": {},
          "output_type": "execute_result"
        }
      ],
      "source": [
      "collection.query(\n",
"    query_embeddings=query_embeddings,\n",
"    n_results=1,\n",
")"
      ]
    },
{
      "cell_type": "markdown",
      "metadata": {},
      "source": [
      "As before we can get more results by increasing the value of the `n_results` parameter, and we can filter with the `where` and `where_document` parameters. We can also do several queries at once, and we can specify what data we want to return with the `include` parameter."
      ]
    },
{
      "cell_type": "markdown",
      "metadata": {},
      "source": [
      " > Note: If we try to make a query with an embedding of a different dimension than the ones already in the collection, we will get an error."
      ]
    },
{
      "cell_type": "markdown",
      "metadata": {},
      "source": [
      "### Retrieve documents by `ID`."
      ]
    },
{
      "cell_type": "markdown",
      "metadata": {},
      "source": [
      "If we know the `ID` of a document, we can retrieve the document with the `get` method"
      ]
    },
{
      "cell_type": "code",
      "execution_count": "None",
      "metadata": {},
      "outputs": [
      {
          "data": {
            "text/plain": [
            "{'ids': ['id1'],\n",
" 'embeddings': None,\n",
" 'metadatas': [{'source': 'Python source'}],\n",
" 'documents': ['This is a python docs'],\n",
" 'uris': None,\n",
" 'data': None}"
            ]
          },
          "execution_count": 56,
          "metadata": {},
          "output_type": "execute_result"
        }
      ],
      "source": [
      "collection.get(\n",
"    ids=[\"id1\"],\n",
")"
      ]
    },
{
      "cell_type": "markdown",
      "metadata": {},
      "source": [
      "Multiple documents can also be retrieved at once."
      ]
    },
{
      "cell_type": "code",
      "execution_count": "None",
      "metadata": {},
      "outputs": [
      {
          "data": {
            "text/plain": [
            "{'ids': ['id1', 'id2', 'id3'],\n",
" 'embeddings': None,\n",
" 'metadatas': [{'source': 'Python source'},\n",
"  {'source': 'JavaScript source'},\n",
"  {'source': 'Mojo source'}],\n",
" 'documents': ['This is a python docs',\n",
"  'This is JavaScript docs',\n",
"  'This is a Mojo docs'],\n",
" 'uris': None,\n",
" 'data': None}"
            ]
          },
          "execution_count": 58,
          "metadata": {},
          "output_type": "execute_result"
        }
      ],
      "source": [
      "collection.get(\n",
"    ids=[\"id1\", \"id2\", \"id3\"],\n",
")"
      ]
    },
{
      "cell_type": "markdown",
      "metadata": {},
      "source": [
      "As before we can filter with the `where` and `where_document` arguments. We can also make several queries at once, and we can specify what data we want to return with the `include` parameter."
      ]
    },
{
      "cell_type": "markdown",
      "metadata": {},
      "source": [
      "### Filtering"
      ]
    },
{
      "cell_type": "markdown",
      "metadata": {},
      "source": [
      "As we have seen, it is possible to filter by metadata with the parameter `where`, and by document content with the parameter `where_document`."
      ]
    },
{
      "cell_type": "markdown",
      "metadata": {},
      "source": [
      "#### Filtering by metadata"
      ]
    },
{
      "cell_type": "markdown",
      "metadata": {},
      "source": [
      "How metadata will enter me as a dictionary\n",
"\n",
"````python\n",
"collection.add(\n",
"    documents=[\"This is a python docs\", \"This is JavaScript docs\"],\n",
"    metadatas=[{\"source\": \"Python source\"}, {\"source\": \"JavaScript source\"}],\n",
"    ids=[\"id1\", \"id2\"]\n",
"\n",
"```\n",
"\n",
"The first thing we have to do is to indicate the key of the metadata by which we want to filter. Next we have to put an operator and the value\n",
"\n",
"````python\n",
"{\n",
"    \"metadata_field\": {\n",
"        <Operator>: <Value>.\n",
"    }\n",
"}\n",
"```"
      ]
    },
{
      "cell_type": "markdown",
      "metadata": {},
      "source": [
      "The possible values of the oerator are\n",
"\n",
" * **$eq** - equal to (string, int, float)\n",
" * **$ne** - not equal to (string, int, float)\n",
" * **$gt** - greater than (int, float)\n",
" * **$gte** - greater than or equal to (int, float)\n",
" **$lt** - less than (int, float)\n",
" * **$lte** - less than or equal to (int, float)"
      ]
    },
{
      "cell_type": "markdown",
      "metadata": {},
      "source": [
      "Let's see now a query"
      ]
    },
{
      "cell_type": "code",
      "execution_count": "None",
      "metadata": {},
      "outputs": [
      {
          "data": {
            "text/plain": [
            "{'ids': [['id1']],\n",
" 'distances': [[0.5389559268951416]],\n",
" 'metadatas': [[{'source': 'Python source'}]],\n",
" 'embeddings': None,\n",
" 'documents': [['This is a python docs']],\n",
" 'uris': None,\n",
" 'data': None}"
            ]
          },
          "execution_count": 61,
          "metadata": {},
          "output_type": "execute_result"
        }
      ],
      "source": [
      "collection.query(\n",
"    query_texts=[\"python\"],\n",
"    n_results=1,\n",
"    where=\n",
"    {\n",
"        \"source\": \n",
"        {\n",
"            \"$eq\": \"Python source\"\n",
"        }\n",
"    }\n",
")"
      ]
    },
{
      "cell_type": "markdown",
      "metadata": {},
      "source": [
      "If we do not set operator, the default will be `$eq`, i.e., that is, this\n",
"\n",
"````python\n",
"{\n",
"    \"metadata_field\": {\n",
"        <\"$eq\">: <Value>.\n",
"    }\n",
"}\n",
"```\n",
"\n",
"It is the same as this\n",
"\n",
"````python\n",
"{\n",
"    \"metadata_field\": <Value>.\n",
"}\n",
"```"
      ]
    },
{
      "cell_type": "markdown",
      "metadata": {},
      "source": [
      " **Note**: Chroma will only search data that has the `source` metadata, for example if you search `where={\"version\": {\"$ne\": 1}}` it will only return data that has a `version` key in its metadata and is not 1."
      ]
    },
{
      "cell_type": "markdown",
      "metadata": {},
      "source": [
      "#### Filtering by document content"
      ]
    },
{
      "cell_type": "markdown",
      "metadata": {},
      "source": [
      "When filtering by document content we have two possible keys `$contains` and `$not_contains`."
      ]
    },
{
      "cell_type": "markdown",
      "metadata": {},
      "source": [
      "For example, we look for the data in the collection in which the word `python` appears in your document"
      ]
    },
{
      "cell_type": "code",
      "execution_count": "None",
      "metadata": {},
      "outputs": [
      {
          "name": "stderr",
          "output_type": "stream",
          "text": [
          "Number of requested results 10 is greater than number of elements in index 6, updating n_results = 6\n"
          ]
        },
{
          "data": {
            "text/plain": [
            "{'ids': [['id1']],\n",
" 'distances': [[0.5389559268951416]],\n",
" 'metadatas': [[{'source': 'Python source'}]],\n",
" 'embeddings': None,\n",
" 'documents': [['This is a python docs']],\n",
" 'uris': None,\n",
" 'data': None}"
            ]
          },
          "execution_count": 74,
          "metadata": {},
          "output_type": "execute_result"
        }
      ],
      "source": [
      "collection.query(\n",
"    query_texts=[\"python\"],\n",
"    n_results=10,\n",
"    where_document={\"$contains\": \"python\"}\n",
")"
      ]
    },
{
      "cell_type": "markdown",
      "metadata": {},
      "source": [
      "And all the data in the collection in which the word `python` does not appear in your document"
      ]
    },
{
      "cell_type": "code",
      "execution_count": "None",
      "metadata": {},
      "outputs": [
      {
          "name": "stderr",
          "output_type": "stream",
          "text": [
          "Number of requested results 10 is greater than number of elements in index 6, updating n_results = 6\n"
          ]
        },
{
          "data": {
            "text/plain": [
            "{'ids': [['id2', 'id4', 'id3', 'id6']],\n",
" 'distances': [[1.5743632316589355,\n",
"   1.578398585319519,\n",
"   1.59961998462677,\n",
"   384.56890869140625]],\n",
" 'metadatas': [[{'source': 'JavaScript source'},\n",
"   {'source': 'Rust source'},\n",
"   {'source': 'Mojo source'},\n",
"   {'source': 'Pytorch source'}]],\n",
" 'embeddings': None,\n",
" 'documents': [['This is JavaScript docs',\n",
"   'This is Rust docs',\n",
"   'This is a Mojo docs',\n",
"   'This is a Pytorch docs']],\n",
" 'uris': None,\n",
" 'data': None}"
            ]
          },
          "execution_count": 75,
          "metadata": {},
          "output_type": "execute_result"
        }
      ],
      "source": [
      "collection.query(\n",
"    query_texts=[\"python\"],\n",
"    n_results=10,\n",
"    where_document={\"$not_contains\": \"python\"}\n",
")"
      ]
    },
{
      "cell_type": "markdown",
      "metadata": {},
      "source": [
      "We can also use the logical operators `$and` and `$or` to make more complex queries.\n",
"\n",
"````python\n",
"{\n",
"    \"$and\": [\n",
"        {\n",
"            <Operator>: <Value>.\n",
"        },\n",
"        {\n",
"            <Operator>: <Value>.\n",
"        }\n",
"    \n",
"}\n",
"```\n",
"\n",
"````python\n",
"{\n",
"    \"$or\": [\n",
"        {\n",
"            <Operator>: <Value>.\n",
"        },\n",
"        {\n",
"            <Operator>: <Value>.\n",
"        }\n",
"    \n",
"}\n",
"```"
      ]
    },
{
      "cell_type": "markdown",
      "metadata": {},
      "source": [
      "For example, we search for all documents containing the words `python` and `docs`."
      ]
    },
{
      "cell_type": "code",
      "execution_count": "None",
      "metadata": {},
      "outputs": [
      {
          "name": "stderr",
          "output_type": "stream",
          "text": [
          "Number of requested results 10 is greater than number of elements in index 6, updating n_results = 6\n"
          ]
        },
{
          "data": {
            "text/plain": [
            "{'ids': [['id1']],\n",
" 'distances': [[0.5389559268951416]],\n",
" 'metadatas': [[{'source': 'Python source'}]],\n",
" 'embeddings': None,\n",
" 'documents': [['This is a python docs']],\n",
" 'uris': None,\n",
" 'data': None}"
            ]
          },
          "execution_count": 79,
          "metadata": {},
          "output_type": "execute_result"
        }
      ],
      "source": [
      "collection.query(\n",
"    query_texts=[\"python\"],\n",
"    n_results=10,\n",
"    where_document=\n",
"    {\n",
"        \"$and\": [\n",
"            {\"$contains\": \"python\"},\n",
"            {\"$contains\": \"docs\"},\n",
"        ],\n",
"    },\n",
")"
      ]
    },
{
      "cell_type": "markdown",
      "metadata": {},
      "source": [
      "### Update data"
      ]
    },
{
      "cell_type": "markdown",
      "metadata": {},
      "source": [
      "Any item of data can be updated with the update method"
      ]
    },
{
      "cell_type": "code",
      "execution_count": "None",
      "metadata": {},
      "outputs": [],
      "source": [
      "collection.update(\n",
"    ids=[\"id1\"],\n",
"    documents=[\"This is a updated Python docs\"]\n",
")"
      ]
    },
{
      "cell_type": "markdown",
      "metadata": {},
      "source": [
      "Let's see if it has been updated"
      ]
    },
{
      "cell_type": "code",
      "execution_count": "None",
      "metadata": {},
      "outputs": [
      {
          "name": "stderr",
          "output_type": "stream",
          "text": [
          "Number of requested results 10 is greater than number of elements in index 6, updating n_results = 6\n"
          ]
        },
{
          "data": {
            "text/plain": [
            "{'ids': [['id1']],\n",
" 'distances': [[0.8247963190078735]],\n",
" 'metadatas': [[{'source': 'Python source'}]],\n",
" 'embeddings': None,\n",
" 'documents': [['This is a updated Python docs']],\n",
" 'uris': None,\n",
" 'data': None}"
            ]
          },
          "execution_count": 82,
          "metadata": {},
          "output_type": "execute_result"
        }
      ],
      "source": [
      "collection.query(\n",
"    query_texts=[\"python\"],\n",
"    n_results=10,\n",
"    where_document={\"$contains\": \"Python\"}\n",
")"
      ]
    },
{
      "cell_type": "markdown",
      "metadata": {},
      "source": [
      " > Note: If you try to update an `ID` that does not exist, you will get an error."
      ]
    },
{
      "cell_type": "markdown",
      "metadata": {},
      "source": [
      " > Note: If we try to update an embeddings with another embeddings of a different size, we will get an error."
      ]
    },
{
      "cell_type": "markdown",
      "metadata": {},
      "source": [
      "### Update or add data"
      ]
    },
{
      "cell_type": "markdown",
      "metadata": {},
      "source": [
      "With the `upsert` method we can update a data if it already exists, or add it if it does not exist."
      ]
    },
{
      "cell_type": "code",
      "execution_count": "None",
      "metadata": {},
      "outputs": [],
      "source": [
      "collection.upsert(\n",
"    ids=[\"id6\"],\n",
"    documents=[\"This is a Pytorch docs\"],\n",
"    metadatas=[{\"source\": \"Pytorch source\"}],   \n",
")"
      ]
    },
{
      "cell_type": "markdown",
      "metadata": {},
      "source": [
      "Let's see if it has been added to the collection"
      ]
    },
{
      "cell_type": "code",
      "execution_count": "None",
      "metadata": {},
      "outputs": [
      {
          "data": {
            "text/plain": [
            "{'ids': ['id1', 'id2', 'id3', 'id4', 'id5', 'id6'],\n",
" 'embeddings': [[-0.08374718576669693,\n",
"   0.01027572900056839,\n",
"   -0.04819200187921524,\n",
"   0.01758415624499321,\n",
"   0.013158757239580154,\n",
"   -0.11435151100158691,\n",
"   -0.024248722940683365,\n",
"   -0.01319972239434719,\n",
"   -0.09626100957393646,\n",
"   -0.010561048053205013,\n",
"   0.09369225800037384,\n",
"   0.06017905846238136,\n",
"   0.031283188611269,\n",
"   0.014855983667075634,\n",
"   -0.0015984248602762818,\n",
"   0.023238031193614006,\n",
"   -0.04709107056260109,\n",
"   -0.007838696241378784,\n",
"   0.012870412319898605,\n",
"   -0.028354981914162636,\n",
"   -0.007653804495930672,\n",
"   0.09018168598413467,\n",
"   0.060235824435949326,\n",
"   0.0005205210763961077,\n",
"   ...\n",
"   0.014388148672878742]],\n",
" 'metadatas': [{'source': 'Python source'},\n",
"  {'source': 'JavaScript source'},\n",
"  {'source': 'Mojo source'},\n",
"  {'source': 'Rust source'},\n",
"  {'source': 'Only embeddings'},\n",
"  {'source': 'Pytorch source'}],\n",
" 'documents': ['This is a updated Python docs',\n",
"  'This is JavaScript docs',\n",
"  'This is a Mojo docs',\n",
"  'This is Rust docs',\n",
"  None,\n",
"  'This is a Pytorch docs'],\n",
" 'uris': None,\n",
" 'data': None}"
            ]
          },
          "execution_count": 84,
          "metadata": {},
          "output_type": "execute_result"
        }
      ],
      "source": [
      "collection.peek()"
      ]
    },
{
      "cell_type": "markdown",
      "metadata": {},
      "source": [
      "We see that yes"
      ]
    },
{
      "cell_type": "markdown",
      "metadata": {},
      "source": [
      "### Delete data"
      ]
    },
{
      "cell_type": "markdown",
      "metadata": {},
      "source": [
      "We can delete data from a collection with the `delete` method"
      ]
    },
{
      "cell_type": "markdown",
      "metadata": {},
      "source": [
      "We are going to delete the datum with `ID` `id5` which is the one we added with its embedding all to ones"
      ]
    },
{
      "cell_type": "code",
      "execution_count": "None",
      "metadata": {},
      "outputs": [],
      "source": [
      "collection.delete(\n",
"    ids=[\"id5\"]\n",
")"
      ]
    },
{
      "cell_type": "markdown",
      "metadata": {},
      "source": [
      "Let's see if it has been removed"
      ]
    },
{
      "cell_type": "code",
      "execution_count": "None",
      "metadata": {},
      "outputs": [
      {
          "data": {
            "text/plain": [
            "{'ids': ['id1', 'id2', 'id3', 'id4', 'id6'],\n",
" 'embeddings': [[-0.08374718576669693,\n",
"   0.01027572900056839,\n",
"   -0.04819200187921524,\n",
"   0.01758415624499321,\n",
"   0.013158757239580154,\n",
"   -0.11435151100158691,\n",
"   -0.024248722940683365,\n",
"   -0.01319972239434719,\n",
"   -0.09626100957393646,\n",
"   -0.010561048053205013,\n",
"   0.09369225800037384,\n",
"   0.06017905846238136,\n",
"   0.031283188611269,\n",
"   0.014855983667075634,\n",
"   -0.0015984248602762818,\n",
"   0.023238031193614006,\n",
"   -0.04709107056260109,\n",
"   -0.007838696241378784,\n",
"   0.012870412319898605,\n",
"   -0.028354981914162636,\n",
"   -0.007653804495930672,\n",
"   0.09018168598413467,\n",
"   0.060235824435949326,\n",
"   0.0005205210763961077,\n",
"   ...\n",
"   0.07033486664295197,\n",
"   0.014388148672878742]],\n",
" 'metadatas': [{'source': 'Python source'},\n",
"  {'source': 'JavaScript source'},\n",
"  {'source': 'Mojo source'},\n",
"  {'source': 'Rust source'},\n",
"  {'source': 'Pytorch source'}],\n",
" 'documents': ['This is a updated Python docs',\n",
"  'This is JavaScript docs',\n",
"  'This is a Mojo docs',\n",
"  'This is Rust docs',\n",
"  'This is a Pytorch docs'],\n",
" 'uris': None,\n",
" 'data': None}"
            ]
          },
          "execution_count": 86,
          "metadata": {},
          "output_type": "execute_result"
        }
      ],
      "source": [
      "collection.peek()"
      ]
    },
{
      "cell_type": "markdown",
      "metadata": {},
      "source": [
      "We see that it is no longer"
      ]
    },
{
      "cell_type": "markdown",
      "metadata": {},
      "source": [
      "## Embeddings"
      ]
    },
{
      "cell_type": "markdown",
      "metadata": {},
      "source": [
      "As we have said we can use different embeddings functions and if none is specified it will use `all-MiniLM-L6-v2`. In the chroma [embeddings documentation](https://docs.trychroma.com/embeddings) page we can see the different embeddings functions we can use. As this is something that can change, and also some of them are paid and require api key, we are going to explain only how to use the HuggingFace ones."
      ]
    },
{
      "cell_type": "markdown",
      "metadata": {},
      "source": [
      "First we set the embedding function"
      ]
    },
{
      "cell_type": "code",
      "execution_count": "None",
      "metadata": {},
      "outputs": [],
      "source": [
      "import chromadb.utils.embedding_functions as embedding_functions\n",
"\n",
"huggingface_ef = embedding_functions.HuggingFaceEmbeddingFunction(\n",
"    api_key=\"YOUR_API_KEY\",\n",
"    model_name=\"sentence-transformers/all-mpnet-base-v2\"\n",
")"
      ]
    },
{
      "cell_type": "markdown",
      "metadata": {},
      "source": [
      "In my case I use `sentence-transformers/all-mpnet-base-v2` which is the most downloaded of `sentence-transformers` at the time of writing this post."
      ]
    },
{
      "cell_type": "markdown",
      "metadata": {},
      "source": [
      "To now add the embedding function to the collection, we have to add the argument `metadata={\"embedding\": <function>}`."
      ]
    },
{
      "cell_type": "code",
      "execution_count": "None",
      "metadata": {},
      "outputs": [],
      "source": [
      "collection = chroma_client.create_collection(\n",
"    name=\"colection_huggingface\",\n",
"    embedding_function=huggingface_ef\n",
")"
      ]
    },
{
      "cell_type": "markdown",
      "metadata": {},
      "source": [
      "We can check that we have added the new embedding function by calculating the embeddings of a word"
      ]
    },
{
      "cell_type": "code",
      "execution_count": "None",
      "metadata": {},
      "outputs": [
      {
          "data": {
            "text/plain": [
            "(1, 768)"
            ]
          },
          "execution_count": 101,
          "metadata": {},
          "output_type": "execute_result"
        }
      ],
      "source": [
      "embedding = collection._embedding_function([\"python\"])\n",
"len(embedding), len(embedding[0])"
      ]
    },
{
      "cell_type": "markdown",
      "metadata": {},
      "source": [
      "The embedding length is 768"
      ]
    },
{
      "cell_type": "markdown",
      "metadata": {},
      "source": [
      "If we now calculate the embedding with the embedding function of the previous collection"
      ]
    },
{
      "cell_type": "code",
      "execution_count": "None",
      "metadata": {},
      "outputs": [],
      "source": [
      "collection = chroma_client.get_collection(name = \"my_collection\")"
      ]
    },
{
      "cell_type": "code",
      "execution_count": "None",
      "metadata": {},
      "outputs": [
      {
          "data": {
            "text/plain": [
            "(1, 384)"
            ]
          },
          "execution_count": 103,
          "metadata": {},
          "output_type": "execute_result"
        }
      ],
      "source": [
      "embedding = collection._embedding_function([\"python\"])\n",
"len(embedding), len(embedding[0])"
      ]
    },
{
      "cell_type": "markdown",
      "metadata": {},
      "source": [
      "We see that now the length of the ambedding is 384, i.e., we had used a new embedding function before"
      ]
    },
{
      "cell_type": "markdown",
      "metadata": {},
      "source": [
      "## Multimodality"
      ]
    },
{
      "cell_type": "markdown",
      "metadata": {},
      "source": [
      "We can add image embeddings since chroma has built-in [OpenCLIP](https://github.com/mlfoundations/open_clip). [OpenCLIP](https://github.com/mlfoundations/open_clip) is an open source implementation of [CLIP](https://github.com/openai/CLIP) (Contrastive Language-Image Pre-Training), which is an OpenAI neural network that is able to give a description of an image."
      ]
    },
{
      "cell_type": "markdown",
      "metadata": {},
      "source": [
      "In order to use OpenCLIP, we have to install it with pip\n",
"\n",
"````bash\n",
"pip install open-clip-torch\n",
"```"
      ]
    },
{
      "cell_type": "markdown",
      "metadata": {},
      "source": [
      "Once installed we can use it to create embeddings of the following picture\n",
"\n",
"![chroma db - python mixture](http://maximofn.com/wp-content/uploads/2024/02/chromadb_dalle3.webp)\n",
"\n",
"I have it in my local path `../images/chromadb_dalle3.webp`."
      ]
    },
{
      "cell_type": "code",
      "execution_count": 44,
      "metadata": {},
      "outputs": [
      {
          "data": {
            "text/plain": [
            "(30, 512)"
            ]
          },
          "execution_count": 44,
          "metadata": {},
          "output_type": "execute_result"
        }
      ],
      "source": [
      "from chromadb.utils.embedding_functions import  OpenCLIPEmbeddingFunction\n",
"\n",
"embedding_function = OpenCLIPEmbeddingFunction()\n",
"image = \"../images/chromadb_dalle3.webp\"\n",
"embedding = embedding_function(image)\n",
"len(embedding), len(embedding[0])"
      ]
    },
{
      "cell_type": "markdown",
      "metadata": {},
      "source": [
      "As we can see it creates an embeddings of size 30x512"
      ]
    },
{
      "cell_type": "markdown",
      "metadata": {},
      "source": [
      "Chroma also comes with an image uploader"
      ]
    },
{
      "cell_type": "code",
      "execution_count": 45,
      "metadata": {},
      "outputs": [
      {
          "data": {
            "text/plain": [
            "(numpy.ndarray, (1024, 1024, 3))"
            ]
          },
          "execution_count": 45,
          "metadata": {},
          "output_type": "execute_result"
        }
      ],
      "source": [
      "from chromadb.utils.data_loaders import ImageLoader\n",
"data_loader = ImageLoader()\n",
"data = data_loader._load_image(image)\n",
"type(data), data.shape"
      ]
    },
{
      "cell_type": "markdown",
      "metadata": {},
      "source": [
      "So we can create a multimodal collection with this embedding function and the image uploader"
      ]
    },
{
      "cell_type": "code",
      "execution_count": 46,
      "metadata": {},
      "outputs": [],
      "source": [
      "collection = chroma_client.create_collection(\n",
"    name=\"multimodal_collection\",\n",
"    embedding_function=embedding_function,\n",
"    data_loader=data_loader\n",
")"
      ]
    },
{
      "cell_type": "markdown",
      "metadata": {},
      "source": [
      "And we can add the embeddings of the images"
      ]
    },
{
      "cell_type": "code",
      "execution_count": 47,
      "metadata": {},
      "outputs": [],
      "source": [
      "collection.add(\n",
"    ids=['id1'],\n",
"    images=[image]\n",
")"
      ]
    },
{
      "cell_type": "markdown",
      "metadata": {},
      "source": [
      "Let's see what you have saved"
      ]
    },
{
      "cell_type": "code",
      "execution_count": 48,
      "metadata": {},
      "outputs": [
      {
          "data": {
            "text/plain": [
            "{'ids': ['id1'],\n",
" 'embeddings': [[-0.014372998848557472,\n",
"   0.0063015008345246315,\n",
"   -0.03794914484024048,\n",
"   -0.028725482523441315,\n",
"   -0.014304812066257,\n",
"   -0.04323698952794075,\n",
"   0.008670451119542122,\n",
"   -0.016066772863268852,\n",
"   -0.02365742437541485,\n",
"   0.07881983369588852,\n",
"   0.022775636985898018,\n",
"   0.004407387692481279,\n",
"   0.058205753564834595,\n",
"   -0.02389293536543846,\n",
"   -0.027586588636040688,\n",
"   0.05778728798031807,\n",
"   -0.2631031572818756,\n",
"   0.044124454259872437,\n",
"   0.010588622651994228,\n",
"   -0.035578884184360504,\n",
"   -0.041719693690538406,\n",
"   -0.0033654430881142616,\n",
"   -0.04731074720621109,\n",
"   -0.0019943572115153074,\n",
"   ...\n",
"   0.04397008568048477,\n",
"   0.04396628588438034]],\n",
" 'metadatas': [None],\n",
" 'documents': [None],\n",
" 'uris': None,\n",
" 'data': None}"
            ]
          },
          "execution_count": 48,
          "metadata": {},
          "output_type": "execute_result"
        }
      ],
      "source": [
      "collection.peek()"
      ]
    },
{
      "cell_type": "markdown",
      "metadata": {},
      "source": [
      "Chroma does not store the images, only the embeddings, so in order not to lose the relationship between the embeddings and the images, we can save the path to the images in the metadata. Let's use the `update` method to add the path to the image"
      ]
    },
{
      "cell_type": "code",
      "execution_count": 55,
      "metadata": {},
      "outputs": [],
      "source": [
      "collection.update(\n",
"    ids=['id1'],\n",
"    images=[image],\n",
"    metadatas=[{\"source\": image}]\n",
")"
      ]
    },
{
      "cell_type": "markdown",
      "metadata": {},
      "source": [
      "If we go back to see what the collection has in store."
      ]
    },
{
      "cell_type": "code",
      "execution_count": 56,
      "metadata": {},
      "outputs": [
      {
          "data": {
            "text/plain": [
            "{'ids': ['id1'],\n",
" 'embeddings': [[-0.014372998848557472,\n",
"   0.0063015008345246315,\n",
"   -0.03794914484024048,\n",
"   -0.028725482523441315,\n",
"   -0.014304812066257,\n",
"   -0.04323698952794075,\n",
"   0.008670451119542122,\n",
"   -0.016066772863268852,\n",
"   -0.02365742437541485,\n",
"   0.07881983369588852,\n",
"   0.022775636985898018,\n",
"   0.004407387692481279,\n",
"   0.058205753564834595,\n",
"   -0.02389293536543846,\n",
"   -0.027586588636040688,\n",
"   0.05778728798031807,\n",
"   -0.2631031572818756,\n",
"   0.044124454259872437,\n",
"   0.010588622651994228,\n",
"   -0.035578884184360504,\n",
"   -0.041719693690538406,\n",
"   -0.0033654430881142616,\n",
"   -0.04731074720621109,\n",
"   -0.0019943572115153074,\n",
"   ...\n",
"   0.04397008568048477,\n",
"   0.04396628588438034]],\n",
" 'metadatas': [{'source': '../images/chromadb_dalle3.webp'}],\n",
" 'documents': [None],\n",
" 'uris': None,\n",
" 'data': None}"
            ]
          },
          "execution_count": 56,
          "metadata": {},
          "output_type": "execute_result"
        }
      ],
      "source": [
      "collection.peek()"
      ]
    },
{
      "cell_type": "markdown",
      "metadata": {},
      "source": [
      "As the collection is multimodal, we can add documents to it as before."
      ]
    },
{
      "cell_type": "code",
      "execution_count": 57,
      "metadata": {},
      "outputs": [
      {
          "data": {
            "text/plain": [
            "{'ids': ['id1', 'id2', 'id3'],\n",
" 'embeddings': [[-0.014372998848557472,\n",
"   0.0063015008345246315,\n",
"   -0.03794914484024048,\n",
"   -0.028725482523441315,\n",
"   -0.014304812066257,\n",
"   -0.04323698952794075,\n",
"   0.008670451119542122,\n",
"   -0.016066772863268852,\n",
"   -0.02365742437541485,\n",
"   0.07881983369588852,\n",
"   0.022775636985898018,\n",
"   0.004407387692481279,\n",
"   0.058205753564834595,\n",
"   -0.02389293536543846,\n",
"   -0.027586588636040688,\n",
"   0.05778728798031807,\n",
"   -0.2631031572818756,\n",
"   0.044124454259872437,\n",
"   0.010588622651994228,\n",
"   -0.035578884184360504,\n",
"   -0.041719693690538406,\n",
"   -0.0033654430881142616,\n",
"   -0.04731074720621109,\n",
"   -0.0019943572115153074,\n",
"   ...\n",
"   -0.061795610934495926,\n",
"   -0.02433035336434841]],\n",
" 'metadatas': [{'source': '../images/chromadb_dalle3.webp'},\n",
"  {'source': 'Python source'},\n",
"  {'source': 'JavaScript source'}],\n",
" 'documents': [None, 'This is a python docs', 'This is JavaScript docs'],\n",
" 'uris': None,\n",
" 'data': None}"
            ]
          },
          "execution_count": 57,
          "metadata": {},
          "output_type": "execute_result"
        }
      ],
      "source": [
      "collection.add(\n",
"    ids=['id2', 'id3'],\n",
"    documents=[\"This is a python docs\", \"This is JavaScript docs\"],\n",
"    metadatas=[{\"source\": \"Python source\"}, {\"source\": \"JavaScript source\"}]\n",
")\n",
"collection.peek()"
      ]
    },
{
      "cell_type": "markdown",
      "metadata": {},
      "source": [
      "Finally, we can make queries with text"
      ]
    },
{
      "cell_type": "code",
      "execution_count": 59,
      "metadata": {},
      "outputs": [
      {
          "name": "stderr",
          "output_type": "stream",
          "text": [
          "WARNING:chromadb.segment.impl.vector.local_hnsw:Number of requested results 10 is greater than number of elements in index 3, updating n_results = 3\n"
          ]
        },
{
          "data": {
            "text/plain": [
            "{'ids': [['id2', 'id1', 'id3']],\n",
" 'distances': [[1.1276676654815674, 1.1777206659317017, 1.2047353982925415]],\n",
" 'metadatas': [[{'source': 'Python source'},\n",
"   {'source': '../images/chromadb_dalle3.webp'},\n",
"   {'source': 'JavaScript source'}]],\n",
" 'embeddings': None,\n",
" 'documents': [['This is a python docs', None, 'This is JavaScript docs']],\n",
" 'uris': None,\n",
" 'data': None}"
            ]
          },
          "execution_count": 59,
          "metadata": {},
          "output_type": "execute_result"
        }
      ],
      "source": [
      "collection.query(\n",
"    query_texts=[\"persona trabajando en una mesa\"],\n",
")"
      ]
    },
{
      "cell_type": "markdown",
      "metadata": {},
      "source": [
      "With text we didn't get the image as the first result, if we follow the python documentation"
      ]
    },
{
      "cell_type": "markdown",
      "metadata": {},
      "source": [
      "But we can also make them with images, in this case I'm going to do it with this image\n",
"\n",
"![chroma logo](http://maximofn.com/wp-content/uploads/2024/02/chromadb_elegant.png)"
      ]
    },
{
      "cell_type": "code",
      "execution_count": 60,
      "metadata": {},
      "outputs": [
      {
          "name": "stderr",
          "output_type": "stream",
          "text": [
          "WARNING:chromadb.segment.impl.vector.local_hnsw:Number of requested results 10 is greater than number of elements in index 3, updating n_results = 3\n"
          ]
        },
{
          "data": {
            "text/plain": [
            "{'ids': [['id1', 'id2', 'id3']],\n",
" 'distances': [[0.6684874296188354, 0.9450105428695679, 1.0639115571975708]],\n",
" 'metadatas': [[{'source': '../images/chromadb_dalle3.webp'},\n",
"   {'source': 'Python source'},\n",
"   {'source': 'JavaScript source'}]],\n",
" 'embeddings': None,\n",
" 'documents': [[None, 'This is a python docs', 'This is JavaScript docs']],\n",
" 'uris': None,\n",
" 'data': None}"
            ]
          },
          "execution_count": 60,
          "metadata": {},
          "output_type": "execute_result"
        }
      ],
      "source": [
      "query_image = \"http://maximofn.com/wp-content/uploads/2024/02/chromadb_elegant.png\"\n",
"collection.query(\n",
"    query_images=[query_image],\n",
")"
      ]
    },
{
      "cell_type": "markdown",
      "metadata": {},
      "source": [
      "Now it gives as first result the image that we had saved."
      ]
    }
  ],
  "metadata": {
    "kernelspec": {
      "display_name": "base",
      "language": "python",
      "name": "python3"
    },
    "language_info": {
      "codemirror_mode": {
        "name": "ipython",
        "version": 3
      },
      "file_extension": ".py",
      "mimetype": "text/x-python",
      "name": "python",
      "nbconvert_exporter": "python",
      "pygments_lexer": "ipython3",
      "version": "3.11.7"
    }
  },
  "nbformat": 4,
  "nbformat_minor": 2
}
