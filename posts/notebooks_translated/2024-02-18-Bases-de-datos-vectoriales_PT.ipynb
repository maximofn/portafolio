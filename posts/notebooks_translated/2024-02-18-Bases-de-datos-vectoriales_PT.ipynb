{
  "cells": [
  {
      "cell_type": "markdown",
      "metadata": {},
      "source": [
      "# Bancos de dados vetoriais"
      ]
    },
{
      "cell_type": "markdown",
      "metadata": {},
      "source": [
      "Vimos na postagem [embeddings](https://www.maximofn.com/embeddings) que os embeddings são uma forma de representar palavras em um espaço vetorial. Nesta postagem, veremos como podemos armazenar esses embeddings em bancos de dados vetoriais e como podemos fazer consultas a eles."
      ]
    },
{
      "cell_type": "markdown",
      "metadata": {},
      "source": [
      "Este caderno foi traduzido automaticamente para torná-lo acessível a mais pessoas, por favor me avise se você vir algum erro de digitação..\n",
"\n",
"Quando temos uma consulta, podemos criar a incorporação da consulta, pesquisar no banco de dados de vetores as incorporações que mais se aproximam da consulta e retornar os documentos que correspondem a essas incorporações ou uma explicação desses documentos.\n",
"\n",
"![banco de dados vetorial](https://images.maximofn.com/vector_database.svg)\n",
"\n",
"Ou seja, vamos gerar um banco de dados de informações, vamos criar embeddings dessas informações e vamos armazená-las em um banco de dados vetorial. Então, quando um usuário fizer uma consulta, converteremos a consulta em embeddings, pesquisaremos no banco de dados os embeddings com a maior similaridade e retornaremos os documentos que correspondem a esses embeddings.\n",
"\n",
"Além dos documentos, outras informações podem ser armazenadas no banco de dados, que chamaremos de metadados. Por exemplo, se estivermos trabalhando com um conjunto de itens de notícias, podemos armazenar o título, a data, o autor etc. do item de notícias."
      ]
    },
{
      "cell_type": "markdown",
      "metadata": {},
      "source": [
      "## Croma"
      ]
    },
{
      "cell_type": "markdown",
      "metadata": {},
      "source": [
      "Nesta postagem, vamos analisar o [crhoma](https://www.trychroma.com/), pois ele é o [banco de dados de vetores](https://blog.langchain.dev/langchain-state-of-ai-2023/#most-used-vectorstores) mais usado, como pode ser visto neste relatório [langchain state of ai 2023](https://blog.langchain.dev/langchain-state-of-ai-2023).\n",
"\n",
"Vectorstores mais usados](https://blog.langchain.dev/content/images/size/w1000/2023/12/Top-vectorstores--1-.png)"
      ]
    },
{
      "cell_type": "markdown",
      "metadata": {},
      "source": [
      "## Instalação"
      ]
    },
{
      "cell_type": "markdown",
      "metadata": {},
      "source": [
      "Portanto, para instalar o chroma com o conda, você precisa fazer o seguinte\n",
"\n",
"```bash\n",
"conda install conda-forge::chromadb\n",
"```\n",
"\n",
"Ou se você quiser instalar com o pip\n",
"\n",
"```bash\n",
"pip install chromadb\n",
"```"
      ]
    },
{
      "cell_type": "markdown",
      "metadata": {},
      "source": [
      "## Uso rápido"
      ]
    },
{
      "cell_type": "markdown",
      "metadata": {},
      "source": [
      "Para uma aplicação rápida, primeiro importamos o chroma"
      ]
    },
{
      "cell_type": "code",
      "execution_count": 1,
      "metadata": {},
      "outputs": [],
      "source": [
      "import chromadb"
      ]
    },
{
      "cell_type": "markdown",
      "metadata": {},
      "source": [
      "Em seguida, criamos um cliente chroma."
      ]
    },
{
      "cell_type": "code",
      "execution_count": 2,
      "metadata": {},
      "outputs": [],
      "source": [
      "chroma_client = chromadb.Client()"
      ]
    },
{
      "cell_type": "markdown",
      "metadata": {},
      "source": [
      "Criamos uma coleção. Uma coleção é o local onde as incorporações, as incorporações e os metadados serão armazenados."
      ]
    },
{
      "cell_type": "code",
      "execution_count": 3,
      "metadata": {},
      "outputs": [],
      "source": [
      "collection = chroma_client.create_collection(name=\"my_collection\")"
      ]
    },
{
      "cell_type": "markdown",
      "metadata": {},
      "source": [
      "Como você pode ver, é exibida uma mensagem indicando que nenhuma função de embeddings foi introduzida e, portanto, o padrão será `all-MiniLM-L6-v2`, que é semelhante ao modelo `paraphrase-MiniLM-L6-v2` que usamos na postagem [embeddings](https://maximofn.com/embeddings/).\n",
"\n",
"Falaremos mais sobre isso mais tarde, mas podemos escolher como gerar os embeddings."
      ]
    },
{
      "cell_type": "markdown",
      "metadata": {},
      "source": [
      "Agora, adicionamos documentos, IDs e metadados à coleção."
      ]
    },
{
      "cell_type": "code",
      "execution_count": 4,
      "metadata": {},
      "outputs": [],
      "source": [
      "collection.add(\n",
"    documents=[\"This is a python docs\", \"This is JavaScript docs\"],\n",
"    metadatas=[{\"source\": \"Python source\"}, {\"source\": \"JavaScript source\"}],\n",
"    ids=[\"id1\", \"id2\"]\n",
")"
      ]
    },
{
      "cell_type": "markdown",
      "metadata": {},
      "source": [
      "Agora podemos fazer uma consulta"
      ]
    },
{
      "cell_type": "code",
      "execution_count": 5,
      "metadata": {},
      "outputs": [],
      "source": [
      "results = collection.query(\n",
"    query_texts=[\"This is a query of Python\"],\n",
"    n_results=2\n",
")"
      ]
    },
{
      "cell_type": "code",
      "execution_count": 6,
      "metadata": {},
      "outputs": [
      {
          "data": {
            "text/plain": [
            "{'ids': [['id1', 'id2']],\n",
" 'distances': [[0.6205940246582031, 1.4631636142730713]],\n",
" 'metadatas': [[{'source': 'Python source'}, {'source': 'JavaScript source'}]],\n",
" 'embeddings': None,\n",
" 'documents': [['This is a python docs', 'This is JavaScript docs']],\n",
" 'uris': None,\n",
" 'data': None}"
            ]
          },
          "execution_count": 6,
          "metadata": {},
          "output_type": "execute_result"
        }
      ],
      "source": [
      "results"
      ]
    },
{
      "cell_type": "markdown",
      "metadata": {},
      "source": [
      "Como podemos ver, a distância para id1 é menor do que a distância para id2, portanto, parece que o documento 1 é mais adequado para responder à consulta."
      ]
    },
{
      "cell_type": "markdown",
      "metadata": {},
      "source": [
      "## Bancos de dados persistentes"
      ]
    },
{
      "cell_type": "markdown",
      "metadata": {},
      "source": [
      "O banco de dados que criamos anteriormente é temporário e, assim que fecharmos o notebook, ele desaparecerá. Portanto, para criar um banco de dados persistente, é necessário passar para o chroma o caminho onde ele será salvo."
      ]
    },
{
      "cell_type": "markdown",
      "metadata": {},
      "source": [
      "Primeiro, vamos criar a pasta onde salvaremos o banco de dados"
      ]
    },
{
      "cell_type": "code",
      "execution_count": 7,
      "metadata": {},
      "outputs": [],
      "source": [
      "from pathlib import Path\n",
"\n",
"chroma_path = Path(\"chromadb\")\n",
"chroma_path.mkdir(exist_ok=True)"
      ]
    },
{
      "cell_type": "markdown",
      "metadata": {},
      "source": [
      "Agora, criamos um cliente na pasta que criamos."
      ]
    },
{
      "cell_type": "code",
      "execution_count": 8,
      "metadata": {},
      "outputs": [],
      "source": [
      "chroma_client_persistent = chromadb.PersistentClient(path = str(chroma_path))"
      ]
    },
{
      "cell_type": "markdown",
      "metadata": {},
      "source": [
      "## Coleções"
      ]
    },
{
      "cell_type": "markdown",
      "metadata": {},
      "source": [
      "### Criar coleções"
      ]
    },
{
      "cell_type": "markdown",
      "metadata": {},
      "source": [
      "Ao criar uma coleção, um nome deve ser especificado. O nome deve ter as seguintes considerações:\n",
"\n",
" * O comprimento do nome deve ter entre 3 e 63 caracteres.\n",
" * O nome deve começar e terminar com uma letra minúscula ou dígito e pode conter pontos finais, hífens e sublinhados no meio.\n",
" * O nome não deve conter dois dois pontos consecutivos.\n",
" * O nome não deve ser um endereço IP válido.\n",
"\n",
"Também podemos atribuir a ele uma função de incorporação. Se não for atribuída uma função, o padrão será a função `all-MiniLM-L6-v2`."
      ]
    },
{
      "cell_type": "code",
      "execution_count": 9,
      "metadata": {},
      "outputs": [],
      "source": [
      "collection = chroma_client.create_collection(name=\"my_other_collection\")"
      ]
    },
{
      "cell_type": "markdown",
      "metadata": {},
      "source": [
      "Como você pode ver, uma segunda coleção foi criada para o mesmo cliente `chroma_client`, portanto, para um único cliente, podemos ter várias coleções."
      ]
    },
{
      "cell_type": "markdown",
      "metadata": {},
      "source": [
      "### Recuperar coleções"
      ]
    },
{
      "cell_type": "markdown",
      "metadata": {},
      "source": [
      "Se quisermos recuperar uma coleção de um cliente, podemos fazer isso com o método `get_collection`."
      ]
    },
{
      "cell_type": "code",
      "execution_count": 10,
      "metadata": {},
      "outputs": [],
      "source": [
      "collection = chroma_client.get_collection(name = \"my_collection\")"
      ]
    },
{
      "cell_type": "markdown",
      "metadata": {},
      "source": [
      "### Recuperar ou criar coleções"
      ]
    },
{
      "cell_type": "markdown",
      "metadata": {},
      "source": [
      "Podemos obter coleções e, se elas não existirem, criá-las com o método `get_or_create_collection`."
      ]
    },
{
      "cell_type": "code",
      "execution_count": 11,
      "metadata": {},
      "outputs": [],
      "source": [
      "collection = chroma_client.get_or_create_collection(name = \"my_tird_collection\")"
      ]
    },
{
      "cell_type": "markdown",
      "metadata": {},
      "source": [
      "### Excluir coleções"
      ]
    },
{
      "cell_type": "markdown",
      "metadata": {},
      "source": [
      "Podemos excluir uma coleção com o método `delete_collection`."
      ]
    },
{
      "cell_type": "code",
      "execution_count": 12,
      "metadata": {},
      "outputs": [],
      "source": [
      "chroma_client.delete_collection(name=\"my_tird_collection\")"
      ]
    },
{
      "cell_type": "markdown",
      "metadata": {},
      "source": [
      "### Obter itens de coleções"
      ]
    },
{
      "cell_type": "markdown",
      "metadata": {},
      "source": [
      "Podemos obter os primeiros 10 itens da coleção com o método `peek`."
      ]
    },
{
      "cell_type": "code",
      "execution_count": 13,
      "metadata": {},
      "outputs": [
      {
          "data": {
            "text/plain": [
            "{'ids': ['id1', 'id2'],\n",
" 'embeddings': [[-0.06924048811197281,\n",
"   0.061624377965927124,\n",
"   -0.090973399579525,\n",
"   0.013923337683081627,\n",
"   0.006247623357921839,\n",
"   -0.1078396588563919,\n",
"   -0.012472339905798435,\n",
"   0.03485661745071411,\n",
"   -0.06300634145736694,\n",
"   -0.00880391988903284,\n",
"   0.06879935413599014,\n",
"   0.0564003586769104,\n",
"   0.07040536403656006,\n",
"   -0.020754728466272354,\n",
"   -0.04048658534884453,\n",
"   -0.006666888482868671,\n",
"   -0.0953674241900444,\n",
"   0.049781784415245056,\n",
"   0.021780474111437798,\n",
"   -0.06344643980264664,\n",
"   0.06119797006249428,\n",
"   0.0834411084651947,\n",
"   -0.034758951514959335,\n",
"   0.0029120452236384153,\n",
"   ...\n",
"   -0.013378280214965343]],\n",
" 'metadatas': [{'source': 'Python source'}, {'source': 'JavaScript source'}],\n",
" 'documents': ['This is a python docs', 'This is JavaScript docs'],\n",
" 'uris': None,\n",
" 'data': None}"
            ]
          },
          "execution_count": 13,
          "metadata": {},
          "output_type": "execute_result"
        }
      ],
      "source": [
      "collection = chroma_client.get_collection(name = \"my_collection\")\n",
"collection.peek()"
      ]
    },
{
      "cell_type": "markdown",
      "metadata": {},
      "source": [
      "Nesse caso, apenas dois foram obtidos, porque nossa coleção tem apenas dois documentos."
      ]
    },
{
      "cell_type": "markdown",
      "metadata": {},
      "source": [
      "Se você quiser obter outro número de itens, poderá especificá-lo com o argumento `limit`."
      ]
    },
{
      "cell_type": "code",
      "execution_count": 14,
      "metadata": {},
      "outputs": [
      {
          "data": {
            "text/plain": [
            "{'ids': ['id1'],\n",
" 'embeddings': [[-0.06924048811197281,\n",
"   0.061624377965927124,\n",
"   -0.090973399579525,\n",
"   0.013923337683081627,\n",
"   0.006247623357921839,\n",
"   -0.1078396588563919,\n",
"   -0.012472339905798435,\n",
"   0.03485661745071411,\n",
"   -0.06300634145736694,\n",
"   -0.00880391988903284,\n",
"   0.06879935413599014,\n",
"   0.0564003586769104,\n",
"   0.07040536403656006,\n",
"   -0.020754728466272354,\n",
"   -0.04048658534884453,\n",
"   -0.006666888482868671,\n",
"   -0.0953674241900444,\n",
"   0.049781784415245056,\n",
"   0.021780474111437798,\n",
"   -0.06344643980264664,\n",
"   0.06119797006249428,\n",
"   0.0834411084651947,\n",
"   -0.034758951514959335,\n",
"   0.0029120452236384153,\n",
"   ...\n",
"   0.012315398082137108]],\n",
" 'metadatas': [{'source': 'Python source'}],\n",
" 'documents': ['This is a python docs'],\n",
" 'uris': None,\n",
" 'data': None}"
            ]
          },
          "execution_count": 14,
          "metadata": {},
          "output_type": "execute_result"
        }
      ],
      "source": [
      "collection.peek(limit=1)"
      ]
    },
{
      "cell_type": "markdown",
      "metadata": {},
      "source": [
      "### Obter o número total de itens nas coleções"
      ]
    },
{
      "cell_type": "markdown",
      "metadata": {},
      "source": [
      "Podemos obter o número total de itens na coleção com o método `count`."
      ]
    },
{
      "cell_type": "code",
      "execution_count": 15,
      "metadata": {},
      "outputs": [
      {
          "data": {
            "text/plain": [
            "2"
            ]
          },
          "execution_count": 15,
          "metadata": {},
          "output_type": "execute_result"
        }
      ],
      "source": [
      "collection.count()"
      ]
    },
{
      "cell_type": "markdown",
      "metadata": {},
      "source": [
      "### Alterar a função de similaridade"
      ]
    },
{
      "cell_type": "markdown",
      "metadata": {},
      "source": [
      "Anteriormente, quando fizemos uma consulta, obtivemos a similaridade dos embeddings com nossa consulta, porque, por padrão, em uma coleção, a função de distância é usada, mas podemos especificar qual função de similaridade queremos usar. As possibilidades são\n",
"\n",
" * L2 ao quadrado (`l2`)\n",
" * Produto interno (`ip`)\n",
" * Similaridade de cosseno (`cosine`)\n",
"\n",
"Na postagem [Measurement of similarity between embeddings] (https://maximofn.com/embeddings-similarity/), vimos a similaridade L2 e cosseno, caso queira saber mais sobre elas."
      ]
    },
{
      "cell_type": "markdown",
      "metadata": {},
      "source": [
      "Portanto, podemos criar coleções com outra função de similaridade com o argumento `metadata={\"hnsw:space\": <function>}`."
      ]
    },
{
      "cell_type": "code",
      "execution_count": 16,
      "metadata": {},
      "outputs": [],
      "source": [
      "collection = chroma_client.create_collection(name=\"colection_cosine\", metadata={\"hnsw:space\": \"cosine\"})"
      ]
    },
{
      "cell_type": "markdown",
      "metadata": {},
      "source": [
      "### Adicionar dados à coleção"
      ]
    },
{
      "cell_type": "markdown",
      "metadata": {},
      "source": [
      "#### Adicionar documentos"
      ]
    },
{
      "cell_type": "markdown",
      "metadata": {},
      "source": [
      "Vamos examinar os dados que temos na coleção novamente com o método `peek`."
      ]
    },
{
      "cell_type": "code",
      "execution_count": 17,
      "metadata": {},
      "outputs": [
      {
          "data": {
            "text/plain": [
            "{'ids': [],\n",
" 'embeddings': [],\n",
" 'metadatas': [],\n",
" 'documents': [],\n",
" 'uris': None,\n",
" 'data': None}"
            ]
          },
          "execution_count": 17,
          "metadata": {},
          "output_type": "execute_result"
        }
      ],
      "source": [
      "collection.peek()"
      ]
    },
{
      "cell_type": "markdown",
      "metadata": {},
      "source": [
      "Como podemos ver, ela está vazia, porque a última coleção que criamos foi a função de similaridade `cosine`, mas não adicionamos dados a ela. Vamos ver como é isso, obtendo o nome da coleção"
      ]
    },
{
      "cell_type": "code",
      "execution_count": 18,
      "metadata": {},
      "outputs": [
      {
          "data": {
            "text/plain": [
            "'colection_cosine'"
            ]
          },
          "execution_count": 18,
          "metadata": {},
          "output_type": "execute_result"
        }
      ],
      "source": [
      "collection.name"
      ]
    },
{
      "cell_type": "markdown",
      "metadata": {},
      "source": [
      "Assim, trazemos de volta a primeira coleção que criamos e para a qual inserimos dados."
      ]
    },
{
      "cell_type": "code",
      "execution_count": 19,
      "metadata": {},
      "outputs": [],
      "source": [
      "collection = chroma_client.get_collection(name = \"my_collection\")"
      ]
    },
{
      "cell_type": "markdown",
      "metadata": {},
      "source": [
      "Agora podemos adicionar dados à coleção com o método `add`."
      ]
    },
{
      "cell_type": "code",
      "execution_count": 20,
      "metadata": {},
      "outputs": [],
      "source": [
      "collection.add(\n",
"    documents=[\"This is a Mojo docs\", \"This is Rust docs\"],\n",
"    metadatas=[{\"source\": \"Mojo source\"}, {\"source\": \"Rust source\"}],\n",
"    ids=[\"id3\", \"id4\"]\n",
")"
      ]
    },
{
      "cell_type": "markdown",
      "metadata": {},
      "source": [
      "Como você pode ver, os `IDs são consecutivos e não têm o mesmo valor de antes, pois os `IDs precisam ser exclusivos."
      ]
    },
{
      "cell_type": "markdown",
      "metadata": {},
      "source": [
      "Se tentarmos adicionar dados repetindo `ID`s, ele indicará que já existem dados com esses `ID`s."
      ]
    },
{
      "cell_type": "code",
      "execution_count": 21,
      "metadata": {},
      "outputs": [
      {
          "name": "stderr",
          "output_type": "stream",
          "text": [
          "Add of existing embedding ID: id3\n",
"Add of existing embedding ID: id4\n",
"Insert of existing embedding ID: id3\n",
"Insert of existing embedding ID: id4\n"
          ]
        }
      ],
      "source": [
      "collection.add(\n",
"    documents=[\"This is a Pytorch docs\", \"This is TensorRT docs\"],\n",
"    metadatas=[{\"source\": \"Pytorch source\"}, {\"source\": \"TensorRT source\"}],\n",
"    ids=[\"id3\", \"id4\"]\n",
")"
      ]
    },
{
      "cell_type": "markdown",
      "metadata": {},
      "source": [
      "Não foi possível adicionar os documentos do Pytorch e do TensorRT."
      ]
    },
{
      "cell_type": "markdown",
      "metadata": {},
      "source": [
      "Vamos dar uma olhada nos dados de coleta"
      ]
    },
{
      "cell_type": "code",
      "execution_count": 22,
      "metadata": {},
      "outputs": [
      {
          "data": {
            "text/plain": [
            "{'ids': ['id1', 'id2', 'id3', 'id4'],\n",
" 'embeddings': [[-0.06924048811197281,\n",
"   0.061624377965927124,\n",
"   -0.090973399579525,\n",
"   0.013923337683081627,\n",
"   0.006247623357921839,\n",
"   -0.1078396588563919,\n",
"   -0.012472339905798435,\n",
"   0.03485661745071411,\n",
"   -0.06300634145736694,\n",
"   -0.00880391988903284,\n",
"   0.06879935413599014,\n",
"   0.0564003586769104,\n",
"   0.07040536403656006,\n",
"   -0.020754728466272354,\n",
"   -0.04048658534884453,\n",
"   -0.006666888482868671,\n",
"   -0.0953674241900444,\n",
"   0.049781784415245056,\n",
"   0.021780474111437798,\n",
"   -0.06344643980264664,\n",
"   0.06119797006249428,\n",
"   0.0834411084651947,\n",
"   -0.034758951514959335,\n",
"   0.0029120452236384153,\n",
"   ...\n",
"  {'source': 'JavaScript source'},\n",
"  {'source': 'Mojo source'},\n",
"  {'source': 'Rust source'}],\n",
" 'documents': ['This is a python docs',\n",
"  'This is JavaScript docs',\n",
"  'This is a Mojo docs',\n",
"  'This is Rust docs'],\n",
" 'uris': None,\n",
" 'data': None}"
            ]
          },
          "execution_count": 22,
          "metadata": {},
          "output_type": "execute_result"
        }
      ],
      "source": [
      "collection.peek()"
      ]
    },
{
      "cell_type": "markdown",
      "metadata": {},
      "source": [
      "Como pode ser visto, os conteúdos originais de `ID3` e `ID4` foram mantidos."
      ]
    },
{
      "cell_type": "markdown",
      "metadata": {},
      "source": [
      "#### Adicionar incorporações"
      ]
    },
{
      "cell_type": "markdown",
      "metadata": {},
      "source": [
      "Podemos adicionar embeddings diretamente sem adicionar documentos. No entanto, isso não faz muito sentido, pois se adicionarmos apenas embeddings, quando quisermos fazer uma consulta, não haverá documentos para recuperar."
      ]
    },
{
      "cell_type": "markdown",
      "metadata": {},
      "source": [
      "Obtemos algumas incorporações para criar outras com as mesmas dimensões."
      ]
    },
{
      "cell_type": "code",
      "execution_count": 23,
      "metadata": {},
      "outputs": [
      {
          "data": {
            "text/plain": [
            "(1, 384)"
            ]
          },
          "execution_count": 23,
          "metadata": {},
          "output_type": "execute_result"
        }
      ],
      "source": [
      "embedding1 = collection.peek(1)['embeddings']\n",
"len(embedding1), len(embedding1[0])"
      ]
    },
{
      "cell_type": "markdown",
      "metadata": {},
      "source": [
      "Criamos novas incorporações com todos eles para sabermos quais foram criados."
      ]
    },
{
      "cell_type": "code",
      "execution_count": 24,
      "metadata": {},
      "outputs": [
      {
          "data": {
            "text/plain": [
            "(1, 384)"
            ]
          },
          "execution_count": 24,
          "metadata": {},
          "output_type": "execute_result"
        }
      ],
      "source": [
      "new_embedding = [1] * len(embedding1[0])\n",
"new_embedding = [new_embedding]\n",
"len(new_embedding), len(new_embedding[0])"
      ]
    },
{
      "cell_type": "markdown",
      "metadata": {},
      "source": [
      "Agora adicionamos os novos embeddings"
      ]
    },
{
      "cell_type": "code",
      "execution_count": 25,
      "metadata": {},
      "outputs": [],
      "source": [
      "collection.add(\n",
"    embeddings=new_embedding,\n",
"    metadatas=[{\"source\": \"Only embeddings\"}],\n",
"    ids=[\"id5\"]\n",
")"
      ]
    },
{
      "cell_type": "markdown",
      "metadata": {},
      "source": [
      "Vamos dar uma olhada nos dados de coleta"
      ]
    },
{
      "cell_type": "code",
      "execution_count": 26,
      "metadata": {},
      "outputs": [
      {
          "data": {
            "text/plain": [
            "[1.0,\n",
" 1.0,\n",
" 1.0,\n",
" 1.0,\n",
" 1.0,\n",
" 1.0,\n",
" 1.0,\n",
" 1.0,\n",
" 1.0,\n",
" 1.0,\n",
" 1.0,\n",
" 1.0,\n",
" 1.0,\n",
" 1.0,\n",
" 1.0,\n",
" 1.0,\n",
" 1.0,\n",
" 1.0,\n",
" 1.0,\n",
" 1.0,\n",
" 1.0,\n",
" 1.0,\n",
" 1.0,\n",
" 1.0,\n",
" 1.0,\n",
" 1.0,\n",
" ...,\n",
" 1.0,\n",
" 1.0,\n",
" 1.0,\n",
" 1.0,\n",
" 1.0]"
            ]
          },
          "execution_count": 26,
          "metadata": {},
          "output_type": "execute_result"
        }
      ],
      "source": [
      "collection.peek()['embeddings'][-1]"
      ]
    },
{
      "cell_type": "markdown",
      "metadata": {},
      "source": [
      "O último elemento da condição tem as incorporações que adicionamos."
      ]
    },
{
      "cell_type": "markdown",
      "metadata": {},
      "source": [
      " > Observação: Se tentarmos adicionar bordados com um tamanho diferente dos que já estão na coleção, ocorrerá um erro."
      ]
    },
{
      "cell_type": "code",
      "execution_count": 27,
      "metadata": {},
      "outputs": [
      {
          "data": {
            "text/plain": [
            "(1, 383)"
            ]
          },
          "execution_count": 27,
          "metadata": {},
          "output_type": "execute_result"
        }
      ],
      "source": [
      "new_embedding_differetn_size = [1] * (len(embedding1[0])-1)\n",
"new_embedding_differetn_size = [new_embedding_differetn_size]\n",
"len(new_embedding_differetn_size), len(new_embedding_differetn_size[0])"
      ]
    },
{
      "cell_type": "markdown",
      "metadata": {},
      "source": [
      "Como você pode ver, a dimensão de incorporação é 383, em vez de 384."
      ]
    },
{
      "cell_type": "code",
      "execution_count": 28,
      "metadata": {},
      "outputs": [
      {
          "ename": "InvalidDimensionException",
          "evalue": "Embedding dimension 383 does not match collection dimensionality 384",
          "output_type": "error",
          "traceback": [
          "\u001b[0;31m---------------------------------------------------------------------------\u001b[0m",
"\u001b[0;31mInvalidDimensionException\u001b[0m                 Traceback (most recent call last)",
"Cell \u001b[0;32mIn[28], line 1\u001b[0m\n\u001b[0;32m----> 1\u001b[0m collection\u001b[38;5;241m.\u001b[39madd(\n\u001b[1;32m      2\u001b[0m     embeddings\u001b[38;5;241m=\u001b[39mnew_embedding_differetn_size,\n\u001b[1;32m      3\u001b[0m     metadatas\u001b[38;5;241m=\u001b[39m[{\u001b[38;5;124m\"\u001b[39m\u001b[38;5;124msource\u001b[39m\u001b[38;5;124m\"\u001b[39m: \u001b[38;5;124m\"\u001b[39m\u001b[38;5;124mNew embeddings different size\u001b[39m\u001b[38;5;124m\"\u001b[39m}],\n\u001b[1;32m      4\u001b[0m     ids\u001b[38;5;241m=\u001b[39m[\u001b[38;5;124m\"\u001b[39m\u001b[38;5;124mid6\u001b[39m\u001b[38;5;124m\"\u001b[39m]\n\u001b[1;32m      5\u001b[0m )\n",
"File \u001b[0;32m~/miniforge3/envs/crhomadb/lib/python3.11/site-packages/chromadb/api/models/Collection.py:168\u001b[0m, in \u001b[0;36mCollection.add\u001b[0;34m(self, ids, embeddings, metadatas, documents, images, uris)\u001b[0m\n\u001b[1;32m    163\u001b[0m             \u001b[38;5;28;01mraise\u001b[39;00m \u001b[38;5;167;01mValueError\u001b[39;00m(\n\u001b[1;32m    164\u001b[0m                 \u001b[38;5;124m\"\u001b[39m\u001b[38;5;124mYou must set a data loader on the collection if loading from URIs.\u001b[39m\u001b[38;5;124m\"\u001b[39m\n\u001b[1;32m    165\u001b[0m             )\n\u001b[1;32m    166\u001b[0m         embeddings \u001b[38;5;241m=\u001b[39m \u001b[38;5;28mself\u001b[39m\u001b[38;5;241m.\u001b[39m_embed(\u001b[38;5;28mself\u001b[39m\u001b[38;5;241m.\u001b[39m_data_loader(uris))\n\u001b[0;32m--> 168\u001b[0m \u001b[38;5;28mself\u001b[39m\u001b[38;5;241m.\u001b[39m_client\u001b[38;5;241m.\u001b[39m_add(ids, \u001b[38;5;28mself\u001b[39m\u001b[38;5;241m.\u001b[39mid, embeddings, metadatas, documents, uris)\n",
"File \u001b[0;32m~/miniforge3/envs/crhomadb/lib/python3.11/site-packages/chromadb/telemetry/opentelemetry/__init__.py:127\u001b[0m, in \u001b[0;36mtrace_method.<locals>.decorator.<locals>.wrapper\u001b[0;34m(*args, **kwargs)\u001b[0m\n\u001b[1;32m    125\u001b[0m \u001b[38;5;28;01mglobal\u001b[39;00m tracer, granularity\n\u001b[1;32m    126\u001b[0m \u001b[38;5;28;01mif\u001b[39;00m trace_granularity \u001b[38;5;241m<\u001b[39m granularity:\n\u001b[0;32m--> 127\u001b[0m     \u001b[38;5;28;01mreturn\u001b[39;00m f(\u001b[38;5;241m*\u001b[39margs, \u001b[38;5;241m*\u001b[39m\u001b[38;5;241m*\u001b[39mkwargs)\n\u001b[1;32m    128\u001b[0m \u001b[38;5;28;01mif\u001b[39;00m \u001b[38;5;129;01mnot\u001b[39;00m tracer:\n\u001b[1;32m    129\u001b[0m     \u001b[38;5;28;01mreturn\u001b[39;00m f(\u001b[38;5;241m*\u001b[39margs, \u001b[38;5;241m*\u001b[39m\u001b[38;5;241m*\u001b[39mkwargs)\n",
"File \u001b[0;32m~/miniforge3/envs/crhomadb/lib/python3.11/site-packages/chromadb/api/segment.py:375\u001b[0m, in \u001b[0;36mSegmentAPI._add\u001b[0;34m(self, ids, collection_id, embeddings, metadatas, documents, uris)\u001b[0m\n\u001b[1;32m    365\u001b[0m records_to_submit \u001b[38;5;241m=\u001b[39m []\n\u001b[1;32m    366\u001b[0m \u001b[38;5;28;01mfor\u001b[39;00m r \u001b[38;5;129;01min\u001b[39;00m _records(\n\u001b[1;32m    367\u001b[0m     t\u001b[38;5;241m.\u001b[39mOperation\u001b[38;5;241m.\u001b[39mADD,\n\u001b[1;32m    368\u001b[0m     ids\u001b[38;5;241m=\u001b[39mids,\n\u001b[0;32m   (...)\u001b[0m\n\u001b[1;32m    373\u001b[0m     uris\u001b[38;5;241m=\u001b[39muris,\n\u001b[1;32m    374\u001b[0m ):\n\u001b[0;32m--> 375\u001b[0m     \u001b[38;5;28mself\u001b[39m\u001b[38;5;241m.\u001b[39m_validate_embedding_record(coll, r)\n\u001b[1;32m    376\u001b[0m     records_to_submit\u001b[38;5;241m.\u001b[39mappend(r)\n\u001b[1;32m    377\u001b[0m \u001b[38;5;28mself\u001b[39m\u001b[38;5;241m.\u001b[39m_producer\u001b[38;5;241m.\u001b[39msubmit_embeddings(coll[\u001b[38;5;124m\"\u001b[39m\u001b[38;5;124mtopic\u001b[39m\u001b[38;5;124m\"\u001b[39m], records_to_submit)\n",
"File \u001b[0;32m~/miniforge3/envs/crhomadb/lib/python3.11/site-packages/chromadb/telemetry/opentelemetry/__init__.py:127\u001b[0m, in \u001b[0;36mtrace_method.<locals>.decorator.<locals>.wrapper\u001b[0;34m(*args, **kwargs)\u001b[0m\n\u001b[1;32m    125\u001b[0m \u001b[38;5;28;01mglobal\u001b[39;00m tracer, granularity\n\u001b[1;32m    126\u001b[0m \u001b[38;5;28;01mif\u001b[39;00m trace_granularity \u001b[38;5;241m<\u001b[39m granularity:\n\u001b[0;32m--> 127\u001b[0m     \u001b[38;5;28;01mreturn\u001b[39;00m f(\u001b[38;5;241m*\u001b[39margs, \u001b[38;5;241m*\u001b[39m\u001b[38;5;241m*\u001b[39mkwargs)\n\u001b[1;32m    128\u001b[0m \u001b[38;5;28;01mif\u001b[39;00m \u001b[38;5;129;01mnot\u001b[39;00m tracer:\n\u001b[1;32m    129\u001b[0m     \u001b[38;5;28;01mreturn\u001b[39;00m f(\u001b[38;5;241m*\u001b[39margs, \u001b[38;5;241m*\u001b[39m\u001b[38;5;241m*\u001b[39mkwargs)\n",
"File \u001b[0;32m~/miniforge3/envs/crhomadb/lib/python3.11/site-packages/chromadb/api/segment.py:799\u001b[0m, in \u001b[0;36mSegmentAPI._validate_embedding_record\u001b[0;34m(self, collection, record)\u001b[0m\n\u001b[1;32m    797\u001b[0m add_attributes_to_current_span({\u001b[38;5;124m\"\u001b[39m\u001b[38;5;124mcollection_id\u001b[39m\u001b[38;5;124m\"\u001b[39m: \u001b[38;5;28mstr\u001b[39m(collection[\u001b[38;5;124m\"\u001b[39m\u001b[38;5;124mid\u001b[39m\u001b[38;5;124m\"\u001b[39m])})\n\u001b[1;32m    798\u001b[0m \u001b[38;5;28;01mif\u001b[39;00m record[\u001b[38;5;124m\"\u001b[39m\u001b[38;5;124membedding\u001b[39m\u001b[38;5;124m\"\u001b[39m]:\n\u001b[0;32m--> 799\u001b[0m     \u001b[38;5;28mself\u001b[39m\u001b[38;5;241m.\u001b[39m_validate_dimension(collection, \u001b[38;5;28mlen\u001b[39m(record[\u001b[38;5;124m\"\u001b[39m\u001b[38;5;124membedding\u001b[39m\u001b[38;5;124m\"\u001b[39m]), update\u001b[38;5;241m=\u001b[39m\u001b[38;5;28;01mTrue\u001b[39;00m)\n",
"File \u001b[0;32m~/miniforge3/envs/crhomadb/lib/python3.11/site-packages/chromadb/telemetry/opentelemetry/__init__.py:127\u001b[0m, in \u001b[0;36mtrace_method.<locals>.decorator.<locals>.wrapper\u001b[0;34m(*args, **kwargs)\u001b[0m\n\u001b[1;32m    125\u001b[0m \u001b[38;5;28;01mglobal\u001b[39;00m tracer, granularity\n\u001b[1;32m    126\u001b[0m \u001b[38;5;28;01mif\u001b[39;00m trace_granularity \u001b[38;5;241m<\u001b[39m granularity:\n\u001b[0;32m--> 127\u001b[0m     \u001b[38;5;28;01mreturn\u001b[39;00m f(\u001b[38;5;241m*\u001b[39margs, \u001b[38;5;241m*\u001b[39m\u001b[38;5;241m*\u001b[39mkwargs)\n\u001b[1;32m    128\u001b[0m \u001b[38;5;28;01mif\u001b[39;00m \u001b[38;5;129;01mnot\u001b[39;00m tracer:\n\u001b[1;32m    129\u001b[0m     \u001b[38;5;28;01mreturn\u001b[39;00m f(\u001b[38;5;241m*\u001b[39margs, \u001b[38;5;241m*\u001b[39m\u001b[38;5;241m*\u001b[39mkwargs)\n",
"File \u001b[0;32m~/miniforge3/envs/crhomadb/lib/python3.11/site-packages/chromadb/api/segment.py:814\u001b[0m, in \u001b[0;36mSegmentAPI._validate_dimension\u001b[0;34m(self, collection, dim, update)\u001b[0m\n\u001b[1;32m    812\u001b[0m         \u001b[38;5;28mself\u001b[39m\u001b[38;5;241m.\u001b[39m_collection_cache[\u001b[38;5;28mid\u001b[39m][\u001b[38;5;124m\"\u001b[39m\u001b[38;5;124mdimension\u001b[39m\u001b[38;5;124m\"\u001b[39m] \u001b[38;5;241m=\u001b[39m dim\n\u001b[1;32m    813\u001b[0m \u001b[38;5;28;01melif\u001b[39;00m collection[\u001b[38;5;124m\"\u001b[39m\u001b[38;5;124mdimension\u001b[39m\u001b[38;5;124m\"\u001b[39m] \u001b[38;5;241m!=\u001b[39m dim:\n\u001b[0;32m--> 814\u001b[0m     \u001b[38;5;28;01mraise\u001b[39;00m InvalidDimensionException(\n\u001b[1;32m    815\u001b[0m         \u001b[38;5;124mf\u001b[39m\u001b[38;5;124m\"\u001b[39m\u001b[38;5;124mEmbedding dimension \u001b[39m\u001b[38;5;132;01m{\u001b[39;00mdim\u001b[38;5;132;01m}\u001b[39;00m\u001b[38;5;124m does not match collection dimensionality \u001b[39m\u001b[38;5;132;01m{\u001b[39;00mcollection[\u001b[38;5;124m'\u001b[39m\u001b[38;5;124mdimension\u001b[39m\u001b[38;5;124m'\u001b[39m]\u001b[38;5;132;01m}\u001b[39;00m\u001b[38;5;124m\"\u001b[39m\n\u001b[1;32m    816\u001b[0m     )\n\u001b[1;32m    817\u001b[0m \u001b[38;5;28;01melse\u001b[39;00m:\n\u001b[1;32m    818\u001b[0m     \u001b[38;5;28;01mreturn\u001b[39;00m\n",
"\u001b[0;31mInvalidDimensionException\u001b[0m: Embedding dimension 383 does not match collection dimensionality 384"
          ]
        }
      ],
      "source": [
      "collection.add(\n",
"    embeddings=new_embedding_differetn_size,\n",
"    metadatas=[{\"source\": \"New embeddings different size\"}],\n",
"    ids=[\"id6\"]\n",
")"
      ]
    },
{
      "cell_type": "markdown",
      "metadata": {},
      "source": [
      "#### Adicionar documentos e embeddings"
      ]
    },
{
      "cell_type": "markdown",
      "metadata": {},
      "source": [
      "O Chroma também permite adicionar documentos e embeddings ao mesmo tempo. Portanto, se isso for feito, ele não criará os embeddings do documento."
      ]
    },
{
      "cell_type": "code",
      "execution_count": 100,
      "metadata": {},
      "outputs": [],
      "source": [
      "collection.add(\n",
"    documents=[\"This is a Pytorch docs\"],\n",
"    embeddings=new_embedding,\n",
"    metadatas=[{\"source\": \"Pytorch source\"}],\n",
"    ids=[\"id6\"]\n",
")"
      ]
    },
{
      "cell_type": "markdown",
      "metadata": {},
      "source": [
      "Se observarmos os embeddings do último elemento da coleção, veremos que eles são os que adicionamos."
      ]
    },
{
      "cell_type": "code",
      "execution_count": 100,
      "metadata": {},
      "outputs": [
      {
          "data": {
            "text/plain": [
            "[1.0,\n",
" 1.0,\n",
" 1.0,\n",
" 1.0,\n",
" 1.0,\n",
" 1.0,\n",
" 1.0,\n",
" 1.0,\n",
" 1.0,\n",
" 1.0,\n",
" 1.0,\n",
" 1.0,\n",
" 1.0,\n",
" 1.0,\n",
" 1.0,\n",
" 1.0,\n",
" 1.0,\n",
" 1.0,\n",
" 1.0,\n",
" 1.0,\n",
" 1.0,\n",
" 1.0,\n",
" 1.0,\n",
" 1.0,\n",
" 1.0,\n",
" 1.0,\n",
" 1.0,\n",
" ...,\n",
" 1.0,\n",
" 1.0,\n",
" 1.0,\n",
" 1.0,\n",
" 1.0]"
            ]
          },
          "execution_count": 45,
          "metadata": {},
          "output_type": "execute_result"
        }
      ],
      "source": [
      "collection.peek()['embeddings'][-1]"
      ]
    },
{
      "cell_type": "markdown",
      "metadata": {},
      "source": [
      "### Consultas"
      ]
    },
{
      "cell_type": "markdown",
      "metadata": {},
      "source": [
      "#### Consultas por documentos"
      ]
    },
{
      "cell_type": "markdown",
      "metadata": {},
      "source": [
      "Para fazer uma consulta, usamos o método `query`. Com o parâmetro `n_results`, podemos especificar quantos resultados queremos obter."
      ]
    },
{
      "cell_type": "code",
      "execution_count": 100,
      "metadata": {},
      "outputs": [
      {
          "data": {
            "text/plain": [
            "{'ids': [['id1']],\n",
" 'distances': [[0.5389559268951416]],\n",
" 'metadatas': [[{'source': 'Python source'}]],\n",
" 'embeddings': None,\n",
" 'documents': [['This is a python docs']],\n",
" 'uris': None,\n",
" 'data': None}"
            ]
          },
          "execution_count": 47,
          "metadata": {},
          "output_type": "execute_result"
        }
      ],
      "source": [
      "collection.query(\n",
"    query_texts=[\"python\"],\n",
"    n_results=1,\n",
")"
      ]
    },
{
      "cell_type": "markdown",
      "metadata": {},
      "source": [
      "Se, em vez de `n_results = 1`, definirmos um valor maior, ele retornará mais resultados."
      ]
    },
{
      "cell_type": "code",
      "execution_count": 100,
      "metadata": {},
      "outputs": [
      {
          "name": "stderr",
          "output_type": "stream",
          "text": [
          "Number of requested results 10 is greater than number of elements in index 6, updating n_results = 6\n"
          ]
        },
{
          "data": {
            "text/plain": [
            "{'ids': [['id1', 'id2', 'id4', 'id3', 'id5', 'id6']],\n",
" 'distances': [[0.5389559268951416,\n",
"   1.5743632316589355,\n",
"   1.578398585319519,\n",
"   1.59961998462677,\n",
"   384.56890869140625,\n",
"   384.56890869140625]],\n",
" 'metadatas': [[{'source': 'Python source'},\n",
"   {'source': 'JavaScript source'},\n",
"   {'source': 'Rust source'},\n",
"   {'source': 'Mojo source'},\n",
"   {'source': 'Only embeddings'},\n",
"   {'source': 'Pytorch source'}]],\n",
" 'embeddings': None,\n",
" 'documents': [['This is a python docs',\n",
"   'This is JavaScript docs',\n",
"   'This is Rust docs',\n",
"   'This is a Mojo docs',\n",
"   None,\n",
"   'This is a Pytorch docs']],\n",
" 'uris': None,\n",
" 'data': None}"
            ]
          },
          "execution_count": 48,
          "metadata": {},
          "output_type": "execute_result"
        }
      ],
      "source": [
      "collection.query(\n",
"    query_texts=[\"python\"],\n",
"    n_results=10,\n",
")"
      ]
    },
{
      "cell_type": "markdown",
      "metadata": {},
      "source": [
      "Podemos filtrar por um valor de metadados com o argumento `where`."
      ]
    },
{
      "cell_type": "code",
      "execution_count": 100,
      "metadata": {},
      "outputs": [
      {
          "name": "stderr",
          "output_type": "stream",
          "text": [
          "Number of requested results 10 is greater than number of elements in index 6, updating n_results = 6\n"
          ]
        },
{
          "data": {
            "text/plain": [
            "{'ids': [['id1']],\n",
" 'distances': [[0.5389559268951416]],\n",
" 'metadatas': [[{'source': 'Python source'}]],\n",
" 'embeddings': None,\n",
" 'documents': [['This is a python docs']],\n",
" 'uris': None,\n",
" 'data': None}"
            ]
          },
          "execution_count": 49,
          "metadata": {},
          "output_type": "execute_result"
        }
      ],
      "source": [
      "collection.query(\n",
"    query_texts=[\"python\"],\n",
"    n_results=10,\n",
"    where={\"source\": \"Python source\"}\n",
")"
      ]
    },
{
      "cell_type": "markdown",
      "metadata": {},
      "source": [
      "Podemos ver que apenas um resultado já foi retornado"
      ]
    },
{
      "cell_type": "markdown",
      "metadata": {},
      "source": [
      "Também podemos filtrar pelo conteúdo do documento com o argumento `where_document`."
      ]
    },
{
      "cell_type": "code",
      "execution_count": 100,
      "metadata": {},
      "outputs": [
      {
          "name": "stderr",
          "output_type": "stream",
          "text": [
          "Number of requested results 10 is greater than number of elements in index 6, updating n_results = 6\n"
          ]
        },
{
          "data": {
            "text/plain": [
            "{'ids': [['id1']],\n",
" 'distances': [[0.5389559268951416]],\n",
" 'metadatas': [[{'source': 'Python source'}]],\n",
" 'embeddings': None,\n",
" 'documents': [['This is a python docs']],\n",
" 'uris': None,\n",
" 'data': None}"
            ]
          },
          "execution_count": 51,
          "metadata": {},
          "output_type": "execute_result"
        }
      ],
      "source": [
      "collection.query(\n",
"    query_texts=[\"python\"],\n",
"    n_results=10,\n",
"    where_document={\"$contains\": \"python\"}\n",
")"
      ]
    },
{
      "cell_type": "markdown",
      "metadata": {},
      "source": [
      "Mais tarde, falaremos mais sobre as possibilidades que temos aqui"
      ]
    },
{
      "cell_type": "markdown",
      "metadata": {},
      "source": [
      "Quando fazemos uma consulta, podemos dizer quais dados queremos que sejam retornados, por exemplo, apenas os embeddings, apenas os metadados ou vários dados, especificando-os em uma lista usando o argumento `include`."
      ]
    },
{
      "cell_type": "code",
      "execution_count": 100,
      "metadata": {},
      "outputs": [
      {
          "name": "stderr",
          "output_type": "stream",
          "text": [
          "Number of requested results 10 is greater than number of elements in index 6, updating n_results = 6\n"
          ]
        },
{
          "data": {
            "text/plain": [
            "{'ids': [['id1', 'id2', 'id4', 'id3', 'id5', 'id6']],\n",
" 'distances': [[0.5389559268951416,\n",
"   1.5743632316589355,\n",
"   1.578398585319519,\n",
"   1.59961998462677,\n",
"   384.56890869140625,\n",
"   384.56890869140625]],\n",
" 'metadatas': None,\n",
" 'embeddings': None,\n",
" 'documents': [['This is a python docs',\n",
"   'This is JavaScript docs',\n",
"   'This is Rust docs',\n",
"   'This is a Mojo docs',\n",
"   None,\n",
"   'This is a Pytorch docs']],\n",
" 'uris': None,\n",
" 'data': None}"
            ]
          },
          "execution_count": 59,
          "metadata": {},
          "output_type": "execute_result"
        }
      ],
      "source": [
      "collection.query(\n",
"    query_texts=[\"python\"],\n",
"    n_results=10,\n",
"    include=[\"documents\", \"distances\"]\n",
")"
      ]
    },
{
      "cell_type": "markdown",
      "metadata": {},
      "source": [
      "Vemos que `metadatas` agora é `None`."
      ]
    },
{
      "cell_type": "markdown",
      "metadata": {},
      "source": [
      "#### Várias consultas ao mesmo tempo"
      ]
    },
{
      "cell_type": "markdown",
      "metadata": {},
      "source": [
      "Podemos consultar a coleção várias vezes ao mesmo tempo, passando uma lista para o parâmetro `query_texts`."
      ]
    },
{
      "cell_type": "code",
      "execution_count": 100,
      "metadata": {},
      "outputs": [
      {
          "data": {
            "text/plain": [
            "{'ids': [['id1'], ['id1'], ['id3']],\n",
" 'distances': [[1.152251958847046], [1.654376745223999], [1.6786067485809326]],\n",
" 'metadatas': [[{'source': 'Python source'}],\n",
"  [{'source': 'Python source'}],\n",
"  [{'source': 'Mojo source'}]],\n",
" 'embeddings': None,\n",
" 'documents': [['This is a python docs'],\n",
"  ['This is a python docs'],\n",
"  ['This is a Mojo docs']],\n",
" 'uris': None,\n",
" 'data': None}"
            ]
          },
          "execution_count": 57,
          "metadata": {},
          "output_type": "execute_result"
        }
      ],
      "source": [
      "collection.query(\n",
"    query_texts=[\"programming language\", \"high level\", \"multi propuse\"],\n",
"    n_results=1,\n",
")"
      ]
    },
{
      "cell_type": "markdown",
      "metadata": {},
      "source": [
      "Para cada consulta, ele retornou um resultado"
      ]
    },
{
      "cell_type": "markdown",
      "metadata": {},
      "source": [
      "Isso é muito útil quando o banco de dados está hospedado em um servidor e somos cobrados por cada consulta que fazemos. Portanto, em vez de fazer uma consulta para cada pergunta que temos, fazemos uma consulta com todas as perguntas que temos."
      ]
    },
{
      "cell_type": "markdown",
      "metadata": {},
      "source": [
      "#### Consultas para incorporações"
      ]
    },
{
      "cell_type": "markdown",
      "metadata": {},
      "source": [
      "Quando consultamos os documentos, o que o chroma faz é calcular a incorporação dos `textos de consulta` e procurar os documentos que mais se assemelham a essa incorporação. Mas se já tivermos a incorporação, podemos fazer a consulta diretamente com a incorporação."
      ]
    },
{
      "cell_type": "markdown",
      "metadata": {},
      "source": [
      "Primeiro, vamos obter a incorporação de uma consulta com a mesma função de incorporação das coleções."
      ]
    },
{
      "cell_type": "code",
      "execution_count": 100,
      "metadata": {},
      "outputs": [
      {
          "data": {
            "text/plain": [
            "[[-0.04816831275820732,\n",
"  0.014662696048617363,\n",
"  -0.031021444126963615,\n",
"  0.008308809250593185,\n",
"  -0.07176128774881363,\n",
"  -0.10355626791715622,\n",
"  0.06690476089715958,\n",
"  0.04229631647467613,\n",
"  -0.03681119903922081,\n",
"  -0.04993892088532448,\n",
"  0.03186540678143501,\n",
"  0.015252595767378807,\n",
"  0.0642094686627388,\n",
"  0.018130118027329445,\n",
"  0.016300885006785393,\n",
"  -0.028082313016057014,\n",
"  -0.03994889184832573,\n",
"  0.023195551708340645,\n",
"  0.004547565709799528,\n",
"  -0.11764183640480042,\n",
"  0.019792592152953148,\n",
"  0.0496944822371006,\n",
"  -0.013253907673060894,\n",
"  0.03610404208302498,\n",
"  0.030529780313372612,\n",
"  -0.01815914921462536,\n",
"  -0.009753326885402203,\n",
"  0.03412770479917526,\n",
"  0.03020440600812435,\n",
"  ...\n",
"  0.02079579420387745,\n",
"  -0.00972712505608797,\n",
"  0.13462257385253906,\n",
"  0.15277136862277985,\n",
"  -0.028574923053383827]]"
            ]
          },
          "execution_count": 54,
          "metadata": {},
          "output_type": "execute_result"
        }
      ],
      "source": [
      "query_texts = [\"python language\"]\n",
"query_embeddings = collection._embedding_function(query_texts)\n",
"query_embeddings"
      ]
    },
{
      "cell_type": "markdown",
      "metadata": {},
      "source": [
      "Agora podemos fazer a consulta com a incorporação"
      ]
    },
{
      "cell_type": "code",
      "execution_count": 100,
      "metadata": {},
      "outputs": [
      {
          "data": {
            "text/plain": [
            "{'ids': [['id1']],\n",
" 'distances': [[0.6297433376312256]],\n",
" 'metadatas': [[{'source': 'Python source'}]],\n",
" 'embeddings': None,\n",
" 'documents': [['This is a python docs']],\n",
" 'uris': None,\n",
" 'data': None}"
            ]
          },
          "execution_count": 55,
          "metadata": {},
          "output_type": "execute_result"
        }
      ],
      "source": [
      "collection.query(\n",
"    query_embeddings=query_embeddings,\n",
"    n_results=1,\n",
")"
      ]
    },
{
      "cell_type": "markdown",
      "metadata": {},
      "source": [
      "Como antes, podemos obter mais resultados aumentando o valor do parâmetro `n_results` e podemos filtrar com os parâmetros `where` e `where_document`. Também podemos fazer várias consultas ao mesmo tempo e especificar quais dados queremos retornar com o parâmetro `include`."
      ]
    },
{
      "cell_type": "markdown",
      "metadata": {},
      "source": [
      " > Observação: se tentarmos fazer uma consulta com uma incorporação de uma dimensão diferente das que já estão na coleção, receberemos um erro."
      ]
    },
{
      "cell_type": "markdown",
      "metadata": {},
      "source": [
      "### Recuperar documentos por `ID`."
      ]
    },
{
      "cell_type": "markdown",
      "metadata": {},
      "source": [
      "Se soubermos o `ID` de um documento, poderemos recuperar o documento com o método `get`."
      ]
    },
{
      "cell_type": "code",
      "execution_count": 100,
      "metadata": {},
      "outputs": [
      {
          "data": {
            "text/plain": [
            "{'ids': ['id1'],\n",
" 'embeddings': None,\n",
" 'metadatas': [{'source': 'Python source'}],\n",
" 'documents': ['This is a python docs'],\n",
" 'uris': None,\n",
" 'data': None}"
            ]
          },
          "execution_count": 56,
          "metadata": {},
          "output_type": "execute_result"
        }
      ],
      "source": [
      "collection.get(\n",
"    ids=[\"id1\"],\n",
")"
      ]
    },
{
      "cell_type": "markdown",
      "metadata": {},
      "source": [
      "Também é possível recuperar vários documentos de uma só vez."
      ]
    },
{
      "cell_type": "code",
      "execution_count": 100,
      "metadata": {},
      "outputs": [
      {
          "data": {
            "text/plain": [
            "{'ids': ['id1', 'id2', 'id3'],\n",
" 'embeddings': None,\n",
" 'metadatas': [{'source': 'Python source'},\n",
"  {'source': 'JavaScript source'},\n",
"  {'source': 'Mojo source'}],\n",
" 'documents': ['This is a python docs',\n",
"  'This is JavaScript docs',\n",
"  'This is a Mojo docs'],\n",
" 'uris': None,\n",
" 'data': None}"
            ]
          },
          "execution_count": 58,
          "metadata": {},
          "output_type": "execute_result"
        }
      ],
      "source": [
      "collection.get(\n",
"    ids=[\"id1\", \"id2\", \"id3\"],\n",
")"
      ]
    },
{
      "cell_type": "markdown",
      "metadata": {},
      "source": [
      "Como antes, podemos filtrar com os argumentos `where` e `where_document`. Também podemos fazer várias consultas ao mesmo tempo e especificar quais dados queremos retornar com o parâmetro `include`."
      ]
    },
{
      "cell_type": "markdown",
      "metadata": {},
      "source": [
      "### Filtragem"
      ]
    },
{
      "cell_type": "markdown",
      "metadata": {},
      "source": [
      "Como vimos, você pode filtrar por metadados com o parâmetro `where` e pelo conteúdo do documento com o parâmetro `where_document`."
      ]
    },
{
      "cell_type": "markdown",
      "metadata": {},
      "source": [
      "#### Filtragem por metadados"
      ]
    },
{
      "cell_type": "markdown",
      "metadata": {},
      "source": [
      "Como os metadados entrarão em mim como um dicionário\n",
"\n",
"```python\n",
"collection.add(\n",
"    documents=[\"This is a python docs\", \"This is JavaScript docs\"],\n",
"    metadatas=[{\"source\": \"Python source\"}, {\"source\": \"JavaScript source\"}],\n",
"    ids=[\"id1\", \"id2\"]\n",
")\n",
"```\n",
"\n",
"A primeira coisa que temos de fazer é indicar a chave dos metadados pelos quais queremos filtrar. Em seguida, temos de colocar um operador e o valor\n",
"\n",
"```python\n",
"{\n",
"    \"metadata_field\": {\n",
"        <Operador>: <Valor>.\n",
"    }\n",
"}\n",
"```"
      ]
    },
{
      "cell_type": "markdown",
      "metadata": {},
      "source": [
      "Os valores possíveis do oerador são\n",
"\n",
" **$eq** - igual a (string, int, float)\n",
" **$ne** - não é igual a (string, int, float)\n",
" **$gt** - maior que (int, float)\n",
" **$gte** - maior ou igual a (int, float)\n",
" **$lt** - menor que (int, float)\n",
" **$lte** - menor que ou igual a (int, float)"
      ]
    },
{
      "cell_type": "markdown",
      "metadata": {},
      "source": [
      "Vamos dar uma olhada em uma consulta"
      ]
    },
{
      "cell_type": "code",
      "execution_count": 100,
      "metadata": {},
      "outputs": [
      {
          "data": {
            "text/plain": [
            "{'ids': [['id1']],\n",
" 'distances': [[0.5389559268951416]],\n",
" 'metadatas': [[{'source': 'Python source'}]],\n",
" 'embeddings': None,\n",
" 'documents': [['This is a python docs']],\n",
" 'uris': None,\n",
" 'data': None}"
            ]
          },
          "execution_count": 61,
          "metadata": {},
          "output_type": "execute_result"
        }
      ],
      "source": [
      "collection.query(\n",
"    query_texts=[\"python\"],\n",
"    n_results=1,\n",
"    where=\n",
"    {\n",
"        \"source\": \n",
"        {\n",
"            \"$eq\": \"Python source\"\n",
"        }\n",
"    }\n",
")"
      ]
    },
{
      "cell_type": "markdown",
      "metadata": {},
      "source": [
      "Se não colocarmos o operador, o padrão será `$eq`, ou seja, isto\n",
"\n",
"```python\n",
"{\n",
"    \"metadata_field\": {\n",
"        <\"$eq\">: <Value>.\n",
"    }\n",
"}\n",
"```\n",
"\n",
"É o mesmo que isto\n",
"\n",
"```python\n",
"{\n",
"    \"metadata_field\": <Value>.\n",
"}\n",
"```"
      ]
    },
{
      "cell_type": "markdown",
      "metadata": {},
      "source": [
      " > Observação**: O Chroma só pesquisará dados que tenham os metadados `source`; por exemplo, se você pesquisar `where={\"version\": {\"$ne\": 1}}`, ele só retornará dados que tenham uma chave `version` em seus metadados e que não sejam 1."
      ]
    },
{
      "cell_type": "markdown",
      "metadata": {},
      "source": [
      "#### Filtragem por conteúdo do documento"
      ]
    },
{
      "cell_type": "markdown",
      "metadata": {},
      "source": [
      "Ao filtrar pelo conteúdo do documento, temos duas chaves possíveis: `$contains` e `$not_contains`."
      ]
    },
{
      "cell_type": "markdown",
      "metadata": {},
      "source": [
      "Por exemplo, procuramos dados na coleção em que a palavra \"python\" aparece em seu documento."
      ]
    },
{
      "cell_type": "code",
      "execution_count": 100,
      "metadata": {},
      "outputs": [
      {
          "name": "stderr",
          "output_type": "stream",
          "text": [
          "Number of requested results 10 is greater than number of elements in index 6, updating n_results = 6\n"
          ]
        },
{
          "data": {
            "text/plain": [
            "{'ids': [['id1']],\n",
" 'distances': [[0.5389559268951416]],\n",
" 'metadatas': [[{'source': 'Python source'}]],\n",
" 'embeddings': None,\n",
" 'documents': [['This is a python docs']],\n",
" 'uris': None,\n",
" 'data': None}"
            ]
          },
          "execution_count": 74,
          "metadata": {},
          "output_type": "execute_result"
        }
      ],
      "source": [
      "collection.query(\n",
"    query_texts=[\"python\"],\n",
"    n_results=10,\n",
"    where_document={\"$contains\": \"python\"}\n",
")"
      ]
    },
{
      "cell_type": "markdown",
      "metadata": {},
      "source": [
      "E todos os dados na coleção em que a palavra `python` não aparece em seu documento"
      ]
    },
{
      "cell_type": "code",
      "execution_count": 100,
      "metadata": {},
      "outputs": [
      {
          "name": "stderr",
          "output_type": "stream",
          "text": [
          "Number of requested results 10 is greater than number of elements in index 6, updating n_results = 6\n"
          ]
        },
{
          "data": {
            "text/plain": [
            "{'ids': [['id2', 'id4', 'id3', 'id6']],\n",
" 'distances': [[1.5743632316589355,\n",
"   1.578398585319519,\n",
"   1.59961998462677,\n",
"   384.56890869140625]],\n",
" 'metadatas': [[{'source': 'JavaScript source'},\n",
"   {'source': 'Rust source'},\n",
"   {'source': 'Mojo source'},\n",
"   {'source': 'Pytorch source'}]],\n",
" 'embeddings': None,\n",
" 'documents': [['This is JavaScript docs',\n",
"   'This is Rust docs',\n",
"   'This is a Mojo docs',\n",
"   'This is a Pytorch docs']],\n",
" 'uris': None,\n",
" 'data': None}"
            ]
          },
          "execution_count": 75,
          "metadata": {},
          "output_type": "execute_result"
        }
      ],
      "source": [
      "collection.query(\n",
"    query_texts=[\"python\"],\n",
"    n_results=10,\n",
"    where_document={\"$not_contains\": \"python\"}\n",
")"
      ]
    },
{
      "cell_type": "markdown",
      "metadata": {},
      "source": [
      "Também podemos usar os operadores lógicos `$and` e `$or` para fazer consultas mais complexas.\n",
"\n",
"```python\n",
"{\n",
"    \"$e\": [\n",
"        {\n",
"            <Operador>: <Valor>.\n",
"        },\n",
"        {\n",
"            <Operador>: <Valor>.\n",
"        }\n",
"    \n",
"}\n",
"```\n",
"\n",
"```python\n",
"{\n",
"    \"$or\": [\n",
"        {\n",
"            <Operador>: <Valor>.\n",
"        },\n",
"        {\n",
"            <Operador>: <Valor>.\n",
"        }\n",
"    \n",
"}\n",
"```"
      ]
    },
{
      "cell_type": "markdown",
      "metadata": {},
      "source": [
      "Por exemplo, pesquisamos todos os documentos que contêm as palavras `python` e `docs`."
      ]
    },
{
      "cell_type": "code",
      "execution_count": 100,
      "metadata": {},
      "outputs": [
      {
          "name": "stderr",
          "output_type": "stream",
          "text": [
          "Number of requested results 10 is greater than number of elements in index 6, updating n_results = 6\n"
          ]
        },
{
          "data": {
            "text/plain": [
            "{'ids': [['id1']],\n",
" 'distances': [[0.5389559268951416]],\n",
" 'metadatas': [[{'source': 'Python source'}]],\n",
" 'embeddings': None,\n",
" 'documents': [['This is a python docs']],\n",
" 'uris': None,\n",
" 'data': None}"
            ]
          },
          "execution_count": 79,
          "metadata": {},
          "output_type": "execute_result"
        }
      ],
      "source": [
      "collection.query(\n",
"    query_texts=[\"python\"],\n",
"    n_results=10,\n",
"    where_document=\n",
"    {\n",
"        \"$and\": [\n",
"            {\"$contains\": \"python\"},\n",
"            {\"$contains\": \"docs\"},\n",
"        ],\n",
"    },\n",
")"
      ]
    },
{
      "cell_type": "markdown",
      "metadata": {},
      "source": [
      "### Atualizar dados"
      ]
    },
{
      "cell_type": "markdown",
      "metadata": {},
      "source": [
      "Qualquer item de dados pode ser atualizado com o método update."
      ]
    },
{
      "cell_type": "code",
      "execution_count": 100,
      "metadata": {},
      "outputs": [],
      "source": [
      "collection.update(\n",
"    ids=[\"id1\"],\n",
"    documents=[\"This is a updated Python docs\"]\n",
")"
      ]
    },
{
      "cell_type": "markdown",
      "metadata": {},
      "source": [
      "Vamos ver se ela foi atualizada"
      ]
    },
{
      "cell_type": "code",
      "execution_count": 100,
      "metadata": {},
      "outputs": [
      {
          "name": "stderr",
          "output_type": "stream",
          "text": [
          "Number of requested results 10 is greater than number of elements in index 6, updating n_results = 6\n"
          ]
        },
{
          "data": {
            "text/plain": [
            "{'ids': [['id1']],\n",
" 'distances': [[0.8247963190078735]],\n",
" 'metadatas': [[{'source': 'Python source'}]],\n",
" 'embeddings': None,\n",
" 'documents': [['This is a updated Python docs']],\n",
" 'uris': None,\n",
" 'data': None}"
            ]
          },
          "execution_count": 82,
          "metadata": {},
          "output_type": "execute_result"
        }
      ],
      "source": [
      "collection.query(\n",
"    query_texts=[\"python\"],\n",
"    n_results=10,\n",
"    where_document={\"$contains\": \"Python\"}\n",
")"
      ]
    },
{
      "cell_type": "markdown",
      "metadata": {},
      "source": [
      " > Observação: se você tentar atualizar um `ID` que não existe, ocorrerá um erro."
      ]
    },
{
      "cell_type": "markdown",
      "metadata": {},
      "source": [
      " > Observação: se você tentar atualizar uma incorporação com outra incorporação de tamanho diferente, ocorrerá um erro."
      ]
    },
{
      "cell_type": "markdown",
      "metadata": {},
      "source": [
      "### Atualizar ou adicionar dados"
      ]
    },
{
      "cell_type": "markdown",
      "metadata": {},
      "source": [
      "Com o método `upsert`, podemos atualizar um dado se ele já existir ou adicioná-lo se ele não existir."
      ]
    },
{
      "cell_type": "code",
      "execution_count": 100,
      "metadata": {},
      "outputs": [],
      "source": [
      "collection.upsert(\n",
"    ids=[\"id6\"],\n",
"    documents=[\"This is a Pytorch docs\"],\n",
"    metadatas=[{\"source\": \"Pytorch source\"}],   \n",
")"
      ]
    },
{
      "cell_type": "markdown",
      "metadata": {},
      "source": [
      "Vamos ver se ele foi adicionado à coleção"
      ]
    },
{
      "cell_type": "code",
      "execution_count": 100,
      "metadata": {},
      "outputs": [
      {
          "data": {
            "text/plain": [
            "{'ids': ['id1', 'id2', 'id3', 'id4', 'id5', 'id6'],\n",
" 'embeddings': [[-0.08374718576669693,\n",
"   0.01027572900056839,\n",
"   -0.04819200187921524,\n",
"   0.01758415624499321,\n",
"   0.013158757239580154,\n",
"   -0.11435151100158691,\n",
"   -0.024248722940683365,\n",
"   -0.01319972239434719,\n",
"   -0.09626100957393646,\n",
"   -0.010561048053205013,\n",
"   0.09369225800037384,\n",
"   0.06017905846238136,\n",
"   0.031283188611269,\n",
"   0.014855983667075634,\n",
"   -0.0015984248602762818,\n",
"   0.023238031193614006,\n",
"   -0.04709107056260109,\n",
"   -0.007838696241378784,\n",
"   0.012870412319898605,\n",
"   -0.028354981914162636,\n",
"   -0.007653804495930672,\n",
"   0.09018168598413467,\n",
"   0.060235824435949326,\n",
"   0.0005205210763961077,\n",
"   ...\n",
"   0.014388148672878742]],\n",
" 'metadatas': [{'source': 'Python source'},\n",
"  {'source': 'JavaScript source'},\n",
"  {'source': 'Mojo source'},\n",
"  {'source': 'Rust source'},\n",
"  {'source': 'Only embeddings'},\n",
"  {'source': 'Pytorch source'}],\n",
" 'documents': ['This is a updated Python docs',\n",
"  'This is JavaScript docs',\n",
"  'This is a Mojo docs',\n",
"  'This is Rust docs',\n",
"  None,\n",
"  'This is a Pytorch docs'],\n",
" 'uris': None,\n",
" 'data': None}"
            ]
          },
          "execution_count": 84,
          "metadata": {},
          "output_type": "execute_result"
        }
      ],
      "source": [
      "collection.peek()"
      ]
    },
{
      "cell_type": "markdown",
      "metadata": {},
      "source": [
      "Vemos que sim"
      ]
    },
{
      "cell_type": "markdown",
      "metadata": {},
      "source": [
      "### Excluir dados"
      ]
    },
{
      "cell_type": "markdown",
      "metadata": {},
      "source": [
      "Podemos excluir dados de uma coleção com o método `delete`."
      ]
    },
{
      "cell_type": "markdown",
      "metadata": {},
      "source": [
      "Removeremos os dados com `ID` `id5`, que é o que adicionamos com sua incorporação de todos os dados"
      ]
    },
{
      "cell_type": "code",
      "execution_count": 100,
      "metadata": {},
      "outputs": [],
      "source": [
      "collection.delete(\n",
"    ids=[\"id5\"]\n",
")"
      ]
    },
{
      "cell_type": "markdown",
      "metadata": {},
      "source": [
      "Vamos ver se ele foi removido"
      ]
    },
{
      "cell_type": "code",
      "execution_count": 100,
      "metadata": {},
      "outputs": [
      {
          "data": {
            "text/plain": [
            "{'ids': ['id1', 'id2', 'id3', 'id4', 'id6'],\n",
" 'embeddings': [[-0.08374718576669693,\n",
"   0.01027572900056839,\n",
"   -0.04819200187921524,\n",
"   0.01758415624499321,\n",
"   0.013158757239580154,\n",
"   -0.11435151100158691,\n",
"   -0.024248722940683365,\n",
"   -0.01319972239434719,\n",
"   -0.09626100957393646,\n",
"   -0.010561048053205013,\n",
"   0.09369225800037384,\n",
"   0.06017905846238136,\n",
"   0.031283188611269,\n",
"   0.014855983667075634,\n",
"   -0.0015984248602762818,\n",
"   0.023238031193614006,\n",
"   -0.04709107056260109,\n",
"   -0.007838696241378784,\n",
"   0.012870412319898605,\n",
"   -0.028354981914162636,\n",
"   -0.007653804495930672,\n",
"   0.09018168598413467,\n",
"   0.060235824435949326,\n",
"   0.0005205210763961077,\n",
"   ...\n",
"   0.07033486664295197,\n",
"   0.014388148672878742]],\n",
" 'metadatas': [{'source': 'Python source'},\n",
"  {'source': 'JavaScript source'},\n",
"  {'source': 'Mojo source'},\n",
"  {'source': 'Rust source'},\n",
"  {'source': 'Pytorch source'}],\n",
" 'documents': ['This is a updated Python docs',\n",
"  'This is JavaScript docs',\n",
"  'This is a Mojo docs',\n",
"  'This is Rust docs',\n",
"  'This is a Pytorch docs'],\n",
" 'uris': None,\n",
" 'data': None}"
            ]
          },
          "execution_count": 86,
          "metadata": {},
          "output_type": "execute_result"
        }
      ],
      "source": [
      "collection.peek()"
      ]
    },
{
      "cell_type": "markdown",
      "metadata": {},
      "source": [
      "Vemos que não é mais"
      ]
    },
{
      "cell_type": "markdown",
      "metadata": {},
      "source": [
      "## Embeddings"
      ]
    },
{
      "cell_type": "markdown",
      "metadata": {},
      "source": [
      "Conforme mencionado acima, podemos usar diferentes funções de embeddings e, se nenhuma for especificada, ele usará `all-MiniLM-L6-v2`. Na página chroma [embeddings documentation](https://docs.trychroma.com/docs/embeddings/embedding-functions), podemos ver as diferentes funções de embeddings que podemos usar. Como isso pode mudar e algumas delas são pagas e exigem uma chave de API, explicaremos apenas como usar as do HuggingFace."
      ]
    },
{
      "cell_type": "markdown",
      "metadata": {},
      "source": [
      "Primeiro, definimos a função de incorporação"
      ]
    },
{
      "cell_type": "code",
      "execution_count": 100,
      "metadata": {},
      "outputs": [],
      "source": [
      "import chromadb.utils.embedding_functions as embedding_functions\n",
"\n",
"huggingface_ef = embedding_functions.HuggingFaceEmbeddingFunction(\n",
"    api_key=\"YOUR_API_KEY\",\n",
"    model_name=\"sentence-transformers/all-mpnet-base-v2\"\n",
")"
      ]
    },
{
      "cell_type": "markdown",
      "metadata": {},
      "source": [
      "No meu caso, utilizo o `sentence-transformers/all-mpnet-base-v2`, que é o mais baixado dos `sentence-transformers` no momento em que escrevo esta postagem."
      ]
    },
{
      "cell_type": "markdown",
      "metadata": {},
      "source": [
      "Para adicionar agora a função de incorporação à coleção, precisamos adicionar o argumento `metadata={\"embedding\": <function>}`."
      ]
    },
{
      "cell_type": "code",
      "execution_count": 100,
      "metadata": {},
      "outputs": [],
      "source": [
      "collection = chroma_client.create_collection(\n",
"    name=\"colection_huggingface\",\n",
"    embedding_function=huggingface_ef\n",
")"
      ]
    },
{
      "cell_type": "markdown",
      "metadata": {},
      "source": [
      "Podemos verificar se adicionamos a nova função de incorporação calculando as incorporações de uma palavra."
      ]
    },
{
      "cell_type": "code",
      "execution_count": 100,
      "metadata": {},
      "outputs": [
      {
          "data": {
            "text/plain": [
            "(1, 768)"
            ]
          },
          "execution_count": 101,
          "metadata": {},
          "output_type": "execute_result"
        }
      ],
      "source": [
      "embedding = collection._embedding_function([\"python\"])\n",
"len(embedding), len(embedding[0])"
      ]
    },
{
      "cell_type": "markdown",
      "metadata": {},
      "source": [
      "O comprimento da incorporação é de 768"
      ]
    },
{
      "cell_type": "markdown",
      "metadata": {},
      "source": [
      "Se agora calcularmos a incorporação com a função de incorporação da coleção anterior"
      ]
    },
{
      "cell_type": "code",
      "execution_count": 100,
      "metadata": {},
      "outputs": [],
      "source": [
      "collection = chroma_client.get_collection(name = \"my_collection\")"
      ]
    },
{
      "cell_type": "code",
      "execution_count": 100,
      "metadata": {},
      "outputs": [
      {
          "data": {
            "text/plain": [
            "(1, 384)"
            ]
          },
          "execution_count": 103,
          "metadata": {},
          "output_type": "execute_result"
        }
      ],
      "source": [
      "embedding = collection._embedding_function([\"python\"])\n",
"len(embedding), len(embedding[0])"
      ]
    },
{
      "cell_type": "markdown",
      "metadata": {},
      "source": [
      "Vemos que agora o comprimento da incorporação é 384, ou seja, usamos uma nova função de incorporação antes."
      ]
    },
{
      "cell_type": "markdown",
      "metadata": {},
      "source": [
      "## Multimodalidade"
      ]
    },
{
      "cell_type": "markdown",
      "metadata": {},
      "source": [
      "Podemos adicionar embeddings de imagem, pois o chroma tem o [OpenCLIP](https://github.com/mlfoundations/open_clip) incorporado. O [OpenCLIP](https://github.com/mlfoundations/open_clip) é uma implementação de código aberto do [CLIP](https://github.com/openai/CLIP) (Contrastive Language-Image Pre-Training), que é uma rede neural OpenAI capaz de fornecer uma descrição de uma imagem."
      ]
    },
{
      "cell_type": "markdown",
      "metadata": {},
      "source": [
      "Para usar o OpenCLIP, temos que instalá-lo com o pip\n",
"\n",
"```bash\n",
"pip install open-clip-torch\n",
"```"
      ]
    },
{
      "cell_type": "markdown",
      "metadata": {},
      "source": [
      "Depois de instalado, podemos usá-lo para criar embeddings da seguinte imagem\n",
"\n",
"![chroma db - python mixture](https://images.maximofn.com/chromadb_dalle3.webp)\n",
"\n",
"Eu o tenho em meu caminho local `../images/chromadb_dalle3.webp`."
      ]
    },
{
      "cell_type": "code",
      "execution_count": 44,
      "metadata": {},
      "outputs": [
      {
          "data": {
            "text/plain": [
            "(30, 512)"
            ]
          },
          "execution_count": 44,
          "metadata": {},
          "output_type": "execute_result"
        }
      ],
      "source": [
      "from chromadb.utils.embedding_functions import  OpenCLIPEmbeddingFunction\n",
"\n",
"embedding_function = OpenCLIPEmbeddingFunction()\n",
"image = \"../images/chromadb_dalle3.webp\"\n",
"embedding = embedding_function(image)\n",
"len(embedding), len(embedding[0])"
      ]
    },
{
      "cell_type": "markdown",
      "metadata": {},
      "source": [
      "Como podemos ver, ele cria uma incorporação de tamanho 30x512."
      ]
    },
{
      "cell_type": "markdown",
      "metadata": {},
      "source": [
      "O Chroma também vem com um carregador de imagens."
      ]
    },
{
      "cell_type": "code",
      "execution_count": 45,
      "metadata": {},
      "outputs": [
      {
          "data": {
            "text/plain": [
            "(numpy.ndarray, (1024, 1024, 3))"
            ]
          },
          "execution_count": 45,
          "metadata": {},
          "output_type": "execute_result"
        }
      ],
      "source": [
      "from chromadb.utils.data_loaders import ImageLoader\n",
"data_loader = ImageLoader()\n",
"data = data_loader._load_image(image)\n",
"type(data), data.shape"
      ]
    },
{
      "cell_type": "markdown",
      "metadata": {},
      "source": [
      "Portanto, podemos criar uma coleção multimodal com essa função de incorporação e o carregador de imagens."
      ]
    },
{
      "cell_type": "code",
      "execution_count": 46,
      "metadata": {},
      "outputs": [],
      "source": [
      "collection = chroma_client.create_collection(\n",
"    name=\"multimodal_collection\",\n",
"    embedding_function=embedding_function,\n",
"    data_loader=data_loader\n",
")"
      ]
    },
{
      "cell_type": "markdown",
      "metadata": {},
      "source": [
      "E podemos adicionar os embeddings das imagens a ele."
      ]
    },
{
      "cell_type": "code",
      "execution_count": 47,
      "metadata": {},
      "outputs": [],
      "source": [
      "collection.add(\n",
"    ids=['id1'],\n",
"    images=[image]\n",
")"
      ]
    },
{
      "cell_type": "markdown",
      "metadata": {},
      "source": [
      "Vamos ver o que ele salvou"
      ]
    },
{
      "cell_type": "code",
      "execution_count": 48,
      "metadata": {},
      "outputs": [
      {
          "data": {
            "text/plain": [
            "{'ids': ['id1'],\n",
" 'embeddings': [[-0.014372998848557472,\n",
"   0.0063015008345246315,\n",
"   -0.03794914484024048,\n",
"   -0.028725482523441315,\n",
"   -0.014304812066257,\n",
"   -0.04323698952794075,\n",
"   0.008670451119542122,\n",
"   -0.016066772863268852,\n",
"   -0.02365742437541485,\n",
"   0.07881983369588852,\n",
"   0.022775636985898018,\n",
"   0.004407387692481279,\n",
"   0.058205753564834595,\n",
"   -0.02389293536543846,\n",
"   -0.027586588636040688,\n",
"   0.05778728798031807,\n",
"   -0.2631031572818756,\n",
"   0.044124454259872437,\n",
"   0.010588622651994228,\n",
"   -0.035578884184360504,\n",
"   -0.041719693690538406,\n",
"   -0.0033654430881142616,\n",
"   -0.04731074720621109,\n",
"   -0.0019943572115153074,\n",
"   ...\n",
"   0.04397008568048477,\n",
"   0.04396628588438034]],\n",
" 'metadatas': [None],\n",
" 'documents': [None],\n",
" 'uris': None,\n",
" 'data': None}"
            ]
          },
          "execution_count": 48,
          "metadata": {},
          "output_type": "execute_result"
        }
      ],
      "source": [
      "collection.peek()"
      ]
    },
{
      "cell_type": "markdown",
      "metadata": {},
      "source": [
      "O Chroma não armazena as imagens, apenas os embeddings, portanto, para não perder a relação entre os embeddings e as imagens, podemos salvar o caminho para as imagens nos metadados. Vamos usar o método `update` para adicionar o caminho à imagem"
      ]
    },
{
      "cell_type": "code",
      "execution_count": 55,
      "metadata": {},
      "outputs": [],
      "source": [
      "collection.update(\n",
"    ids=['id1'],\n",
"    images=[image],\n",
"    metadatas=[{\"source\": image}]\n",
")"
      ]
    },
{
      "cell_type": "markdown",
      "metadata": {},
      "source": [
      "Se voltarmos e olharmos para o que a coleção tem reservado"
      ]
    },
{
      "cell_type": "code",
      "execution_count": 56,
      "metadata": {},
      "outputs": [
      {
          "data": {
            "text/plain": [
            "{'ids': ['id1'],\n",
" 'embeddings': [[-0.014372998848557472,\n",
"   0.0063015008345246315,\n",
"   -0.03794914484024048,\n",
"   -0.028725482523441315,\n",
"   -0.014304812066257,\n",
"   -0.04323698952794075,\n",
"   0.008670451119542122,\n",
"   -0.016066772863268852,\n",
"   -0.02365742437541485,\n",
"   0.07881983369588852,\n",
"   0.022775636985898018,\n",
"   0.004407387692481279,\n",
"   0.058205753564834595,\n",
"   -0.02389293536543846,\n",
"   -0.027586588636040688,\n",
"   0.05778728798031807,\n",
"   -0.2631031572818756,\n",
"   0.044124454259872437,\n",
"   0.010588622651994228,\n",
"   -0.035578884184360504,\n",
"   -0.041719693690538406,\n",
"   -0.0033654430881142616,\n",
"   -0.04731074720621109,\n",
"   -0.0019943572115153074,\n",
"   ...\n",
"   0.04397008568048477,\n",
"   0.04396628588438034]],\n",
" 'metadatas': [{'source': '../images/chromadb_dalle3.webp'}],\n",
" 'documents': [None],\n",
" 'uris': None,\n",
" 'data': None}"
            ]
          },
          "execution_count": 56,
          "metadata": {},
          "output_type": "execute_result"
        }
      ],
      "source": [
      "collection.peek()"
      ]
    },
{
      "cell_type": "markdown",
      "metadata": {},
      "source": [
      "Como a coleção é multimodal, podemos adicionar documentos a ela como antes."
      ]
    },
{
      "cell_type": "code",
      "execution_count": 57,
      "metadata": {},
      "outputs": [
      {
          "data": {
            "text/plain": [
            "{'ids': ['id1', 'id2', 'id3'],\n",
" 'embeddings': [[-0.014372998848557472,\n",
"   0.0063015008345246315,\n",
"   -0.03794914484024048,\n",
"   -0.028725482523441315,\n",
"   -0.014304812066257,\n",
"   -0.04323698952794075,\n",
"   0.008670451119542122,\n",
"   -0.016066772863268852,\n",
"   -0.02365742437541485,\n",
"   0.07881983369588852,\n",
"   0.022775636985898018,\n",
"   0.004407387692481279,\n",
"   0.058205753564834595,\n",
"   -0.02389293536543846,\n",
"   -0.027586588636040688,\n",
"   0.05778728798031807,\n",
"   -0.2631031572818756,\n",
"   0.044124454259872437,\n",
"   0.010588622651994228,\n",
"   -0.035578884184360504,\n",
"   -0.041719693690538406,\n",
"   -0.0033654430881142616,\n",
"   -0.04731074720621109,\n",
"   -0.0019943572115153074,\n",
"   ...\n",
"   -0.061795610934495926,\n",
"   -0.02433035336434841]],\n",
" 'metadatas': [{'source': '../images/chromadb_dalle3.webp'},\n",
"  {'source': 'Python source'},\n",
"  {'source': 'JavaScript source'}],\n",
" 'documents': [None, 'This is a python docs', 'This is JavaScript docs'],\n",
" 'uris': None,\n",
" 'data': None}"
            ]
          },
          "execution_count": 57,
          "metadata": {},
          "output_type": "execute_result"
        }
      ],
      "source": [
      "collection.add(\n",
"    ids=['id2', 'id3'],\n",
"    documents=[\"This is a python docs\", \"This is JavaScript docs\"],\n",
"    metadatas=[{\"source\": \"Python source\"}, {\"source\": \"JavaScript source\"}]\n",
")\n",
"collection.peek()"
      ]
    },
{
      "cell_type": "markdown",
      "metadata": {},
      "source": [
      "Por fim, podemos fazer consultas com texto"
      ]
    },
{
      "cell_type": "code",
      "execution_count": 59,
      "metadata": {},
      "outputs": [
      {
          "name": "stderr",
          "output_type": "stream",
          "text": [
          "WARNING:chromadb.segment.impl.vector.local_hnsw:Number of requested results 10 is greater than number of elements in index 3, updating n_results = 3\n"
          ]
        },
{
          "data": {
            "text/plain": [
            "{'ids': [['id2', 'id1', 'id3']],\n",
" 'distances': [[1.1276676654815674, 1.1777206659317017, 1.2047353982925415]],\n",
" 'metadatas': [[{'source': 'Python source'},\n",
"   {'source': '../images/chromadb_dalle3.webp'},\n",
"   {'source': 'JavaScript source'}]],\n",
" 'embeddings': None,\n",
" 'documents': [['This is a python docs', None, 'This is JavaScript docs']],\n",
" 'uris': None,\n",
" 'data': None}"
            ]
          },
          "execution_count": 59,
          "metadata": {},
          "output_type": "execute_result"
        }
      ],
      "source": [
      "collection.query(\n",
"    query_texts=[\"persona trabajando en una mesa\"],\n",
")"
      ]
    },
{
      "cell_type": "markdown",
      "metadata": {},
      "source": [
      "Com o texto, não obtivemos a imagem como o primeiro resultado, se eu seguir a documentação do python"
      ]
    },
{
      "cell_type": "markdown",
      "metadata": {},
      "source": [
      "Mas também podemos criá-las com imagens. Neste caso, vou fazer isso com esta imagem\n",
"\n",
"![chroma logo](https://images.maximofn.com/chromadb_elegant.webp)"
      ]
    },
{
      "cell_type": "code",
      "execution_count": 60,
      "metadata": {},
      "outputs": [
      {
          "name": "stderr",
          "output_type": "stream",
          "text": [
          "WARNING:chromadb.segment.impl.vector.local_hnsw:Number of requested results 10 is greater than number of elements in index 3, updating n_results = 3\n"
          ]
        },
{
          "data": {
            "text/plain": [
            "{'ids': [['id1', 'id2', 'id3']],\n",
" 'distances': [[0.6684874296188354, 0.9450105428695679, 1.0639115571975708]],\n",
" 'metadatas': [[{'source': '../images/chromadb_dalle3.webp'},\n",
"   {'source': 'Python source'},\n",
"   {'source': 'JavaScript source'}]],\n",
" 'embeddings': None,\n",
" 'documents': [[None, 'This is a python docs', 'This is JavaScript docs']],\n",
" 'uris': None,\n",
" 'data': None}"
            ]
          },
          "execution_count": 60,
          "metadata": {},
          "output_type": "execute_result"
        }
      ],
      "source": [
      "query_image = \"https://images.maximofn.com/chromadb_elegant.webp\"\n",
"collection.query(\n",
"    query_images=[query_image],\n",
")"
      ]
    },
{
      "cell_type": "markdown",
      "metadata": {},
      "source": [
      "Agora, ele apresenta como primeiro resultado a imagem que salvamos"
      ]
    }
  ],
  "metadata": {
    "kernelspec": {
      "display_name": "base",
      "language": "python",
      "name": "python3"
    },
    "language_info": {
      "codemirror_mode": {
        "name": "ipython",
        "version": 3
      },
      "file_extension": ".py",
      "mimetype": "text/x-python",
      "name": "python",
      "nbconvert_exporter": "python",
      "pygments_lexer": "ipython3",
      "version": "3.11.7"
    }
  },
  "nbformat": 4,
  "nbformat_minor": 2
}
