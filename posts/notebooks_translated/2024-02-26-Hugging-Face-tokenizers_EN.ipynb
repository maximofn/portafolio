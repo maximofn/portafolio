{
      "cells": [
            {
                  "cell_type": "markdown",
                  "metadata": {},
                  "source": [
                        "# Hugging Face tokenizers"
                  ]
            },
            {
                  "cell_type": "markdown",
                  "metadata": {},
                  "source": [
                        "The Hugging Face `tokenizers` library provides an implementation of today`s most commonly used tokenizers, focusing on performance and versatility. In the post [tokens](https://maximofn.com/tokens/) we already saw the importance of tokens when processing text, since computers do not understand words, but numbers. Therefore, it is necessary to convert words to numbers so that language models can process them."
                  ]
            },
            {
                  "cell_type": "markdown",
                  "metadata": {},
                  "source": [
                        "This notebook has been automatically translated to make it accessible to more people, please let me know if you see any typos.\n",
                        "\n",
                        "## Installation"
                  ]
            },
            {
                  "cell_type": "markdown",
                  "metadata": {},
                  "source": [
                        "To install `tokenizers` with pip:\n",
                        "\n",
                        "````bash\n",
                        "pip install tokenizers\n",
                        "```\n",
                        "\n",
                        "to install `tokenizers` with conda:\n",
                        "\n",
                        "````bash\n",
                        "conda install conda-forge::tokenizers\n",
                        "```"
                  ]
            },
            {
                  "cell_type": "markdown",
                  "metadata": {},
                  "source": [
                        "## The tokenization pipeline"
                  ]
            },
            {
                  "cell_type": "markdown",
                  "metadata": {},
                  "source": [
                        "To tokenize a sequence, `Tokenizer.encode` is used, which performs the following steps:\n",
                        "\n",
                        " * Standardization\n",
                        " * pre-tokenization\n",
                        " * Tokenization\n",
                        " * Post-tokenization\n",
                        "\n",
                        "Let's take a look at each one"
                  ]
            },
            {
                  "cell_type": "markdown",
                  "metadata": {},
                  "source": [
                        "For this post we are going to use the dataset [wikitext-103](https://blog.einstein.ai/the-wikitext-long-term-dependency-language-modeling-dataset/)"
                  ]
            },
            {
                  "cell_type": "code",
                  "execution_count": 2,
                  "metadata": {},
                  "outputs": [
                        {
                              "name": "stdout",
                              "output_type": "stream",
                              "text": [
                                    "--2024-02-26 08:14:11--  https://dax-cdn.cdn.appdomain.cloud/dax-wikitext-103/1.0.1/wikitext-103.tar.gz\n",
                                    "Resolving dax-cdn.cdn.appdomain.cloud (dax-cdn.cdn.appdomain.cloud)... 23.200.169.125\n",
                                    "Connecting to dax-cdn.cdn.appdomain.cloud (dax-cdn.cdn.appdomain.cloud)|23.200.169.125|:443... connected.\n",
                                    "HTTP request sent, awaiting response... "
                              ]
                        },
                        {
                              "name": "stdout",
                              "output_type": "stream",
                              "text": [
                                    "200 OK\n",
                                    "Length: 189603606 (181M) [application/x-gzip]\n",
                                    "Saving to: ‘wikitext-103.tar.gz’\n",
                                    "\n",
                                    "wikitext-103.tar.gz 100%[===================>] 180,82M  6,42MB/s    in 30s     \n",
                                    "\n",
                                    "2024-02-26 08:14:42 (5,95 MB/s) - ‘wikitext-103.tar.gz’ saved [189603606/189603606]\n",
                                    "\n"
                              ]
                        }
                  ],
                  "source": [
                        "!wget https://dax-cdn.cdn.appdomain.cloud/dax-wikitext-103/1.0.1/wikitext-103.tar.gz"
                  ]
            },
            {
                  "cell_type": "code",
                  "execution_count": 3,
                  "metadata": {},
                  "outputs": [
                        {
                              "name": "stdout",
                              "output_type": "stream",
                              "text": [
                                    "wikitext-103/\n",
                                    "wikitext-103/wiki.test.tokens\n",
                                    "wikitext-103/wiki.valid.tokens\n",
                                    "wikitext-103/README.txt\n",
                                    "wikitext-103/LICENSE.txt\n",
                                    "wikitext-103/wiki.train.tokens\n"
                              ]
                        }
                  ],
                  "source": [
                        "!tar -xvzf wikitext-103.tar.gz"
                  ]
            },
            {
                  "cell_type": "code",
                  "execution_count": 4,
                  "metadata": {},
                  "outputs": [],
                  "source": [
                        "!rm wikitext-103.tar.gz"
                  ]
            },
            {
                  "cell_type": "markdown",
                  "metadata": {},
                  "source": [
                        "### Standardization"
                  ]
            },
            {
                  "cell_type": "markdown",
                  "metadata": {},
                  "source": [
                        "Normalization are operations that are applied to the text before tokenization, such as removing whitespace, converting to lowercase, removing special characters, etc. The following normalizations are implemented in Hugging Face:\n",
                        "\n",
                        "|Normalización|Descripción|Ejemplo|\n",
                        "|---|---|---|\n",
                        "|NFD (Normalization for D)|Los caracteres se descomponen por equivalencia canónica|`â` (U+00E2) se descompone en `a` (U+0061) + `^` (U+0302)|\n",
                        "|NFKD (Normalization Form KD)|Los caracteres se descomponen por compatibilidad|`ﬁ` (U+FB01) se descompone en `f` (U+0066) + `i` (U+0069)|\n",
                        "|NFC (Normalization Form C)|Los caracteres se descomponen y luego se recomponen por equivalencia canónica|`â` (U+00E2) se descompone en `a` (U+0061) + `^` (U+0302) y luego se recompone en `â` (U+00E2)|\n",
                        "|NFKC (Normalization Form KC)|Los caracteres se descomponen por compatibilidad y luego se recomponen por equivalencia canónica|`ﬁ` (U+FB01) se descompone en `f` (U+0066) + `i` (U+0069) y luego se recompone en `f` (U+0066) + `i` (U+0069)|\n",
                        "|Lowercase|Convierte el texto a minúsculas|`Hello World` se convierte en `hello world`|\n",
                        "|Strip|Elimina todos los espacios en blanco de los lados especificados (izquierdo, derecho o ambos) del texto|`  Hello World  ` se convierte en `Hello World`|\n",
                        "|StripAccents|Elimina todos los símbolos de acento en unicode (se utilizará con NFD por coherencia)|`á` (U+00E1) se convierte en `a` (U+0061)|\n",
                        "|Replace|Sustituye una cadena personalizada o [regex](https://maximofn.com/regular-expressions/) y la cambia por el contenido dado|`Hello World` se convierte en `Hello Universe`|\n",
                        "|BertNormalizer|Proporciona una implementación del Normalizador utilizado en el BERT original. Las opciones que se pueden configurar son `clean_text`, `handle_chinese_chars`, `strip_accents` y `lowercase`|`Hello World` se convierte en `hello world`|"
                  ]
            },
            {
                  "cell_type": "markdown",
                  "metadata": {},
                  "source": [
                        "Let's create a normalizer to see how it works."
                  ]
            },
            {
                  "cell_type": "code",
                  "execution_count": 1,
                  "metadata": {},
                  "outputs": [
                        {
                              "data": {
                                    "text/plain": [
                                          "'hello how are u?'"
                                    ]
                              },
                              "execution_count": 1,
                              "metadata": {},
                              "output_type": "execute_result"
                        }
                  ],
                  "source": [
                        "from tokenizers import normalizers\n",
                        "\n",
                        "bert_normalizer = normalizers.BertNormalizer()\n",
                        "\n",
                        "input_text = \"Héllò hôw are ü?\"\n",
                        "normalized_text = bert_normalizer.normalize_str(input_text)\n",
                        "normalized_text"
                  ]
            },
            {
                  "cell_type": "markdown",
                  "metadata": {},
                  "source": [
                        "To use several normalizers we can use the `Sequence` method"
                  ]
            },
            {
                  "cell_type": "code",
                  "execution_count": 2,
                  "metadata": {},
                  "outputs": [
                        {
                              "data": {
                                    "text/plain": [
                                          "'hello how are u?'"
                                    ]
                              },
                              "execution_count": 2,
                              "metadata": {},
                              "output_type": "execute_result"
                        }
                  ],
                  "source": [
                        "custom_normalizer = normalizers.Sequence([normalizers.NFKC(), normalizers.BertNormalizer()])\n",
                        "\n",
                        "normalized_text = custom_normalizer.normalize_str(input_text)\n",
                        "normalized_text"
                  ]
            },
            {
                  "cell_type": "markdown",
                  "metadata": {},
                  "source": [
                        "To modify the normalizer of a tokenizer"
                  ]
            },
            {
                  "cell_type": "code",
                  "execution_count": 3,
                  "metadata": {},
                  "outputs": [],
                  "source": [
                        "import tokenizers\n",
                        "\n",
                        "tokenizer = tokenizers.BertWordPieceTokenizer() # or any other tokenizer"
                  ]
            },
            {
                  "cell_type": "code",
                  "execution_count": 4,
                  "metadata": {},
                  "outputs": [],
                  "source": [
                        "tokenizer.normalizer = custom_normalizer"
                  ]
            },
            {
                  "cell_type": "markdown",
                  "metadata": {},
                  "source": [
                        "### Pre-tokenization"
                  ]
            },
            {
                  "cell_type": "markdown",
                  "metadata": {},
                  "source": [
                        "Pretokenization is the act of breaking a text into smaller objects. The pretokenizer will split the text into \"words\" and the final tokens will be parts of those words.\n",
                        "\n",
                        "The PreTokenizer is responsible for splitting the input according to a set of rules. This preprocessing allows you to make sure that the tokenizer does not build tokens across multiple \"splits\". For example, if you don't want to have whitespace within a token, then you can have a pre tokenizer that splits in words from whitespace.\n",
                        "\n",
                        "The following pre tokenizers are implemented in Hugging Face\n",
                        "\n",
                        "|PreTokenizer|Descripción|Ejemplo|\n",
                        "|---|---|---|\n",
                        "|ByteLevel|Divide en espacios en blanco mientras reasigna todos los bytes a un conjunto de caracteres visibles. Esta técnica fue introducida por OpenAI con GPT-2 y tiene algunas propiedades más o menos buenas: Como mapea sobre bytes, un tokenizador que utilice esto sólo requiere 256 caracteres como alfabeto inicial (el número de valores que puede tener un byte), frente a los más de 130.000 caracteres Unicode. Una consecuencia del punto anterior es que es absolutamente innecesario tener un token desconocido usando esto ya que podemos representar cualquier cosa con 256 tokens. Para caracteres no ascii, se vuelve completamente ilegible, ¡pero funciona!|`Hello my friend, how are you?` se divide en `Hello`, `Ġmy`, `Ġfriend`, `,`, `Ġhow`, `Ġare`, `Ġyou`, `?`|\n",
                        "|Whitespace|Divide en límites de palabra usando la siguiente expresión regular: `\\w+[^\\w\\s]+`. En mi post sobre [expresiones regulares](https://maximofn.com/regular-expressions/) puedes entender qué hace|`Hello there!` se divide en `Hello`, `there`, `!`|\n",
                        "|WhitespaceSplit|Se divide en cualquier carácter de espacio en blanco|`Hello there!` se divide en `Hello`, `there!`|\n",
                        "|Punctuation|Aislará todos los caracteres de puntuación|`Hello?` se divide en `Hello`, `?`|\n",
                        "|Metaspace|Separa los espacios en blanco y los sustituye por un carácter especial \"▁\" (U+2581)|`Hello there` se divide en `Hello`, `▁there`|\n",
                        "|CharDelimiterSplit|Divisiones en un carácter determinado|Ejemplo con el caracter `x`: `Helloxthere` se divide en `Hello`, `there`|\n",
                        "|Digits|Divide los números de cualquier otro carácter|`Hello123there` se divide en `Hello`, `123`, `there`|\n",
                        "|Split|Pretokenizador versátil que divide según el patrón y el comportamiento proporcionados. El patrón se puede invertir si es necesario. El patrón debe ser una cadena personalizada o una [regex](https://maximofn.com/regular-expressions/). El comportamiento debe ser `removed`, `isolated`, `merged_with_previous`, `merged_with_next`, `contiguous`. Para invertir se indica con un booleano|Ejemplo con pattern=`\" \"`, behavior=`isolated`, invert=`False`: `Hello, how are you?` se divide en `Hello,`, ` `, `how`, ` `, `are`, ` `, `you?`|"
                  ]
            },
            {
                  "cell_type": "markdown",
                  "metadata": {},
                  "source": [
                        "Let's create a pre tokenizer to see how it works."
                  ]
            },
            {
                  "cell_type": "code",
                  "execution_count": 5,
                  "metadata": {},
                  "outputs": [
                        {
                              "data": {
                                    "text/plain": [
                                          "[('I paid $', (0, 8)),\n",
                                          " ('3', (8, 9)),\n",
                                          " ('0', (9, 10)),\n",
                                          " (' for the car', (10, 22))]"
                                    ]
                              },
                              "execution_count": 5,
                              "metadata": {},
                              "output_type": "execute_result"
                        }
                  ],
                  "source": [
                        "from tokenizers import pre_tokenizers\n",
                        "\n",
                        "pre_tokenizer = pre_tokenizers.Digits(individual_digits=True)\n",
                        "\n",
                        "input_text = \"I paid $30 for the car\"\n",
                        "pre_tokenized_text = pre_tokenizer.pre_tokenize_str(input_text)\n",
                        "pre_tokenized_text"
                  ]
            },
            {
                  "cell_type": "markdown",
                  "metadata": {},
                  "source": [
                        "To use several pre tokenizers we can use the `Sequence` method."
                  ]
            },
            {
                  "cell_type": "code",
                  "execution_count": 6,
                  "metadata": {},
                  "outputs": [
                        {
                              "data": {
                                    "text/plain": [
                                          "[('I', (0, 1)),\n",
                                          " ('paid', (2, 6)),\n",
                                          " ('$', (7, 8)),\n",
                                          " ('3', (8, 9)),\n",
                                          " ('0', (9, 10)),\n",
                                          " ('for', (11, 14)),\n",
                                          " ('the', (15, 18)),\n",
                                          " ('car', (19, 22))]"
                                    ]
                              },
                              "execution_count": 6,
                              "metadata": {},
                              "output_type": "execute_result"
                        }
                  ],
                  "source": [
                        "custom_pre_tokenizer = pre_tokenizers.Sequence([pre_tokenizers.Whitespace(), pre_tokenizers.Digits(individual_digits=True)])\n",
                        "\n",
                        "pre_tokenized_text = custom_pre_tokenizer.pre_tokenize_str(input_text)\n",
                        "pre_tokenized_text"
                  ]
            },
            {
                  "cell_type": "markdown",
                  "metadata": {},
                  "source": [
                        "To modify the pre tokenizer of a tokenizer"
                  ]
            },
            {
                  "cell_type": "code",
                  "execution_count": 7,
                  "metadata": {},
                  "outputs": [],
                  "source": [
                        "tokenizer.pre_tokenizer = custom_pre_tokenizer"
                  ]
            },
            {
                  "cell_type": "markdown",
                  "metadata": {},
                  "source": [
                        "### Tokenization"
                  ]
            },
            {
                  "cell_type": "markdown",
                  "metadata": {},
                  "source": [
                        "Once the input texts have been normalized and pretokenized, the tokenizer applies the model to the pretokens. This is the part of the process that must be trained with the corpus (or has already been trained if a pre-trained tokenizer is used).\n",
                        "\n",
                        "The function of the model is to divide the \"words\" into tokens using the rules it has learned. It is also responsible for assigning those tokens to their corresponding IDs in the model's vocabulary.\n",
                        "\n",
                        "The model has a vocabulary size, i.e., it has a finite number of tokens, so it has to decompose the words and assign them to one of those tokens.\n",
                        "\n",
                        "This model is passed when initializing the Tokenizer. Currently, the 🤗 Tokenizers library supports:\n",
                        "\n",
                        "|Modelo|Descripción|\n",
                        "|---|---|\n",
                        "|WordLevel|Este es el algoritmo \"clásico\" de tokenización. Te permite simplemente asignar palabras a IDs sin nada sofisticado. Tiene la ventaja de ser muy fácil de usar y entender, pero requiere vocabularios extremadamente grandes para una buena cobertura. El uso de este modelo requiere el uso de un PreTokenizer. Este modelo no realiza ninguna elección directamente, simplemente asigna tokens de entrada a IDs.|\n",
                        "|BPE (Byte Pair Encoding)|Uno de los algoritmos de tokenización de subpalabras más populares. El Byte-Pair-Encoding funciona empezando con caracteres y fusionando los que se ven juntos con más frecuencia, creando así nuevos tokens. A continuación, trabaja de forma iterativa para construir nuevos tokens a partir de los pares más frecuentes que ve en un corpus. BPE es capaz de construir palabras que nunca ha visto utilizando múltiples subpalabras y, por tanto, requiere vocabularios más pequeños, con menos posibilidades de tener palabras `unk` (desconocidas).|\n",
                        "|WordPiece|Se trata de un algoritmo de tokenización de subpalabras bastante similar a BPE, utilizado principalmente por Google en modelos como BERT. Utiliza un algoritmo codicioso que intenta construir primero palabras largas, dividiéndolas en varios tokens cuando no existen palabras completas en el vocabulario. A diferencia de BPE, que parte de los caracteres y construye tokens lo más grandes posible. Utiliza el famoso prefijo ## para identificar los tokens que forman parte de una palabra (es decir, que no empiezan una palabra).|\n",
                        "|Unigram|Unigram es también un algoritmo de tokenización de subpalabras, y funciona tratando de identificar el mejor conjunto de tokens de subpalabras para maximizar la probabilidad de una frase dada. Se diferencia de BPE en que no es un algoritmo determinista basado en un conjunto de reglas aplicadas secuencialmente. En su lugar, Unigram podrá calcular múltiples formas de tokenizar, eligiendo la más probable.|"
                  ]
            },
            {
                  "cell_type": "markdown",
                  "metadata": {},
                  "source": [
                        "When you create a tokenizer you have to pass it the model"
                  ]
            },
            {
                  "cell_type": "code",
                  "execution_count": 11,
                  "metadata": {},
                  "outputs": [],
                  "source": [
                        "from tokenizers import Tokenizer, models\n",
                        "\n",
                        "tokenizer = Tokenizer(models.Unigram())"
                  ]
            },
            {
                  "cell_type": "markdown",
                  "metadata": {},
                  "source": [
                        "Let's pass the normalizer and the pre tokenizer we have created to it"
                  ]
            },
            {
                  "cell_type": "code",
                  "execution_count": 12,
                  "metadata": {},
                  "outputs": [],
                  "source": [
                        "tokenizer.normalizer = custom_normalizer\n",
                        "tokenizer.pre_tokenizer = custom_pre_tokenizer"
                  ]
            },
            {
                  "cell_type": "markdown",
                  "metadata": {},
                  "source": [
                        "Now we have to train the model or load a pre-trained one. In this case we are going to train one with the corpus we have downloaded."
                  ]
            },
            {
                  "cell_type": "markdown",
                  "metadata": {},
                  "source": [
                        "#### Model training"
                  ]
            },
            {
                  "cell_type": "markdown",
                  "metadata": {},
                  "source": [
                        "To train the model we have several types of `Trainer`s\n",
                        "\n",
                        "|Trainer|Descripción|\n",
                        "|---|---|\n",
                        "|WordLevelTrainer|Entrena un tokenizador WordLevel|\n",
                        "|BpeTrainer|Entrena un tokenizador BPE|\n",
                        "|WordPieceTrainer|Entrena un tokenizador WordPiece|\n",
                        "|UnigramTrainer|Entrena un tokenizador Unigram|\n",
                        "\n",
                        "Almost all trainers have the same parameters, which are:\n",
                        "\n",
                        " * vocab_size: The size of the final vocabulary, including all tokens and the alphabet.\n",
                        " * show_progress: show or not progress bars during training\n",
                        " * special_tokens: A list of special tokens that the model should be aware of.\n",
                        "\n",
                        "Apart from these parameters, each trainer has its own parameters, to see them see the [Trainers](https://huggingface.co/docs/tokenizers/api/trainers) documentation."
                  ]
            },
            {
                  "cell_type": "markdown",
                  "metadata": {},
                  "source": [
                        "To train we have to create a `Trainer`, as the model we have created is a `Unigram` we will create a `UnigramTrainer`."
                  ]
            },
            {
                  "cell_type": "code",
                  "execution_count": 27,
                  "metadata": {},
                  "outputs": [],
                  "source": [
                        "from tokenizers.trainers import trainers\n",
                        "\n",
                        "trainer = trainers.UnigramTrainer(\n",
                        "    vocab_size=20000,\n",
                        "    initial_alphabet=pre_tokenizers.ByteLevel.alphabet(),\n",
                        "    special_tokens=[\"<PAD>\", \"<BOS>\", \"<EOS>\"],\n",
                        ")"
                  ]
            },
            {
                  "cell_type": "markdown",
                  "metadata": {},
                  "source": [
                        "Once we have created the `Trainer` there are two ways to enter, through the `train` method, to which a list of files is passed, or through the `train_from_iterator` method to which an iterator is passed."
                  ]
            },
            {
                  "cell_type": "markdown",
                  "metadata": {},
                  "source": [
                        "##### Model training with the `train` method"
                  ]
            },
            {
                  "cell_type": "markdown",
                  "metadata": {},
                  "source": [
                        "First we create a list of files with the corpus"
                  ]
            },
            {
                  "cell_type": "code",
                  "execution_count": 28,
                  "metadata": {},
                  "outputs": [
                        {
                              "data": {
                                    "text/plain": [
                                          "['wikitext-103/wiki.test.tokens',\n",
                                          " 'wikitext-103/wiki.train.tokens',\n",
                                          " 'wikitext-103/wiki.valid.tokens']"
                                    ]
                              },
                              "execution_count": 28,
                              "metadata": {},
                              "output_type": "execute_result"
                        }
                  ],
                  "source": [
                        "files = [f\"wikitext-103/wiki.{split}.tokens\" for split in [\"test\", \"train\", \"valid\"]]\n",
                        "files"
                  ]
            },
            {
                  "cell_type": "markdown",
                  "metadata": {},
                  "source": [
                        "And now we train the model"
                  ]
            },
            {
                  "cell_type": "code",
                  "execution_count": 29,
                  "metadata": {},
                  "outputs": [
                        {
                              "name": "stdout",
                              "output_type": "stream",
                              "text": [
                                    "\n",
                                    "\n"
                              ]
                        }
                  ],
                  "source": [
                        "tokenizer.train(files, trainer)"
                  ]
            },
            {
                  "cell_type": "markdown",
                  "metadata": {},
                  "source": [
                        "##### Model training with `train_from_iterator` method"
                  ]
            },
            {
                  "cell_type": "markdown",
                  "metadata": {},
                  "source": [
                        "First we create a function that will return an iterator"
                  ]
            },
            {
                  "cell_type": "code",
                  "execution_count": 30,
                  "metadata": {},
                  "outputs": [],
                  "source": [
                        "def iterator():\n",
                        "    for file in files:\n",
                        "        with open(file, \"r\") as f:\n",
                        "            for line in f:\n",
                        "                yield line"
                  ]
            },
            {
                  "cell_type": "markdown",
                  "metadata": {},
                  "source": [
                        "We now retrain the model"
                  ]
            },
            {
                  "cell_type": "code",
                  "execution_count": 31,
                  "metadata": {},
                  "outputs": [
                        {
                              "name": "stdout",
                              "output_type": "stream",
                              "text": [
                                    "\n",
                                    "\n"
                              ]
                        }
                  ],
                  "source": [
                        "tokenizer.train_from_iterator(iterator(), trainer)"
                  ]
            },
            {
                  "cell_type": "markdown",
                  "metadata": {},
                  "source": [
                        "##### Training the model with the `train_from_iterator` method from a Hugging Face dataset"
                  ]
            },
            {
                  "cell_type": "markdown",
                  "metadata": {},
                  "source": [
                        "If we had downloaded the Hugging Face dataset, we could have trained the model directly from the dataset."
                  ]
            },
            {
                  "cell_type": "code",
                  "execution_count": 32,
                  "metadata": {},
                  "outputs": [],
                  "source": [
                        "import datasets\n",
                        "\n",
                        "dataset = datasets.load_dataset(\"wikitext\", \"wikitext-103-raw-v1\", split=\"train+test+validation\")"
                  ]
            },
            {
                  "cell_type": "markdown",
                  "metadata": {},
                  "source": [
                        "Now we can create an iterator"
                  ]
            },
            {
                  "cell_type": "code",
                  "execution_count": 33,
                  "metadata": {},
                  "outputs": [],
                  "source": [
                        "def batch_iterator(batch_size=1000):\n",
                        "    for i in range(0, len(dataset), batch_size):\n",
                        "        yield dataset[i : i + batch_size][\"text\"]"
                  ]
            },
            {
                  "cell_type": "markdown",
                  "metadata": {},
                  "source": [
                        "We retrain the model"
                  ]
            },
            {
                  "cell_type": "code",
                  "execution_count": 34,
                  "metadata": {},
                  "outputs": [
                        {
                              "name": "stdout",
                              "output_type": "stream",
                              "text": [
                                    "\n",
                                    "\n"
                              ]
                        }
                  ],
                  "source": [
                        "tokenizer.train_from_iterator(batch_iterator(), trainer=trainer, length=len(dataset))"
                  ]
            },
            {
                  "cell_type": "markdown",
                  "metadata": {},
                  "source": [
                        "#### Saving the model"
                  ]
            },
            {
                  "cell_type": "markdown",
                  "metadata": {},
                  "source": [
                        "Once the model has been trained, it can be saved for future use. To save the model you must save it in a `json` file."
                  ]
            },
            {
                  "cell_type": "code",
                  "execution_count": 35,
                  "metadata": {},
                  "outputs": [],
                  "source": [
                        "tokenizer.save(\"wikitext-103-tokenizer.json\")"
                  ]
            },
            {
                  "cell_type": "markdown",
                  "metadata": {},
                  "source": [
                        "#### Loading the pre-trained model"
                  ]
            },
            {
                  "cell_type": "markdown",
                  "metadata": {},
                  "source": [
                        "We can load a pre-trained model from a `json` instead of having to train it."
                  ]
            },
            {
                  "cell_type": "code",
                  "execution_count": 36,
                  "metadata": {},
                  "outputs": [
                        {
                              "data": {
                                    "text/plain": [
                                          "<tokenizers.Tokenizer at 0x7f1dd7784a30>"
                                    ]
                              },
                              "execution_count": 36,
                              "metadata": {},
                              "output_type": "execute_result"
                        }
                  ],
                  "source": [
                        "tokenizer.from_file(\"wikitext-103-tokenizer.json\")"
                  ]
            },
            {
                  "cell_type": "markdown",
                  "metadata": {},
                  "source": [
                        "We can also load a pre-trained model available in the Hugging Face Hub."
                  ]
            },
            {
                  "cell_type": "code",
                  "execution_count": 38,
                  "metadata": {},
                  "outputs": [
                        {
                              "data": {
                                    "text/plain": [
                                          "<tokenizers.Tokenizer at 0x7f1d64a75e30>"
                                    ]
                              },
                              "execution_count": 38,
                              "metadata": {},
                              "output_type": "execute_result"
                        }
                  ],
                  "source": [
                        "tokenizer.from_pretrained('bert-base-uncased')"
                  ]
            },
            {
                  "cell_type": "markdown",
                  "metadata": {},
                  "source": [
                        "### Post processing"
                  ]
            },
            {
                  "cell_type": "markdown",
                  "metadata": {},
                  "source": [
                        "We may want our tokenizer to automatically add special tokens, such as `[CLS]` or `[SEP]`.\n",
                        "\n",
                        "The following post processors are implemented in Hugging Face\n",
                        "\n",
                        "|PostProcesador|Descripción|Ejemplo|\n",
                        "|---|---|---|\n",
                        "|BertProcessing|Este post-procesador se encarga de añadir los tokens especiales que necesita un modelo Bert (`SEP` y `CLS`)|`Hello, how are you?` se convierte en `[CLS]`, `Hello`, `,`, `how`, `are`, `you`, `?`, `[SEP]`|\n",
                        "|RobertaProcessing|Este post-procesador se encarga de añadir los tokens especiales que necesita un modelo Roberta (`SEP` y `CLS`). También se encarga de recortar los offsets. Por defecto, el ByteLevel BPE puede incluir espacios en blanco en los tokens producidos. Si no desea que las compensaciones incluyan estos espacios en blanco, hay que inicializar este PostProcessor con `trim_offsets=True`.|`Hello, how are you?` se convierte en `<s>`, `Hello`, `,`, `how`, `are`, `you`, `?`, `</s>`|\n",
                        "|ElectraProcessing|Añade tokens especiales para ELECTRA|`Hello, how are you?` se convierte en `[CLS]`, `Hello`, `,`, `how`, `are`, `you`, `?`, `[SEP]`|\n",
                        "|TemplateProcessing|Permite crear fácilmente una plantilla para el postprocesamiento, añadiendo tokens especiales y especificando el type_id de cada secuencia/token especial. La plantilla recibe dos cadenas que representan la secuencia única y el par de secuencias, así como un conjunto de tokens especiales a utilizar|Example, when specifying a template with these values: single:`[CLS] $A [SEP]`, pair: `[CLS] $A [SEP] $B [SEP]`, special tokens: `[CLS]`, `[SEP]`. Input: (`I like this`, `but not this`), Output: `[CLS] I like this [SEP] but not this [SEP]`|"
                  ]
            },
            {
                  "cell_type": "markdown",
                  "metadata": {},
                  "source": [
                        "Let's create a post tokenizer to see how it works."
                  ]
            },
            {
                  "cell_type": "code",
                  "execution_count": 41,
                  "metadata": {},
                  "outputs": [],
                  "source": [
                        "from tokenizers.processors import TemplateProcessing\n",
                        "\n",
                        "post_processor = TemplateProcessing(\n",
                        "    single=\"[CLS] $A [SEP]\",\n",
                        "    pair=\"[CLS] $A [SEP] $B:1 [SEP]:1\",\n",
                        "    special_tokens=[(\"[CLS]\", 1), (\"[SEP]\", 2)],\n",
                        ")"
                  ]
            },
            {
                  "cell_type": "markdown",
                  "metadata": {},
                  "source": [
                        "To modify the post tokenizer of a tokenizer"
                  ]
            },
            {
                  "cell_type": "code",
                  "execution_count": 42,
                  "metadata": {},
                  "outputs": [],
                  "source": [
                        "tokenizer.post_processor = post_processor"
                  ]
            },
            {
                  "cell_type": "markdown",
                  "metadata": {},
                  "source": [
                        "Let's see how it works"
                  ]
            },
            {
                  "cell_type": "code",
                  "execution_count": 43,
                  "metadata": {},
                  "outputs": [
                        {
                              "data": {
                                    "text/plain": [
                                          "['[CLS]', 'i', 'paid', '$', '3', '0', 'for', 'the', 'car', '[SEP]']"
                                    ]
                              },
                              "execution_count": 43,
                              "metadata": {},
                              "output_type": "execute_result"
                        }
                  ],
                  "source": [
                        "input_text = \"I paid $30 for the car\"\n",
                        "decoded_text = tokenizer.encode(input_text)\n",
                        "\n",
                        "decoded_text.tokens"
                  ]
            },
            {
                  "cell_type": "code",
                  "execution_count": 49,
                  "metadata": {},
                  "outputs": [
                        {
                              "name": "stdout",
                              "output_type": "stream",
                              "text": [
                                    "['[CLS]', 'hell', 'o', ',', 'y', \"'\", 'all', '!', '[SEP]', 'how', 'are', 'you', '?', '[SEP]']\n"
                              ]
                        }
                  ],
                  "source": [
                        "input_text1 = \"Hello, y'all!\"\n",
                        "input_text2 = \"How are you?\"\n",
                        "decoded_text = tokenizer.encode(input_text1, input_text2)\n",
                        "\n",
                        "print(decoded_text.tokens)"
                  ]
            },
            {
                  "cell_type": "markdown",
                  "metadata": {},
                  "source": [
                        "If we were to save the tokenizer now, the post tokenizer would be saved with it."
                  ]
            },
            {
                  "cell_type": "markdown",
                  "metadata": {},
                  "source": [
                        "### Encoding"
                  ]
            },
            {
                  "cell_type": "markdown",
                  "metadata": {},
                  "source": [
                        "Once we have the tokenizer trained, we can use it to tokenize texts."
                  ]
            },
            {
                  "cell_type": "code",
                  "execution_count": 50,
                  "metadata": {},
                  "outputs": [],
                  "source": [
                        "input_text = \"I love tokenizers!\"\n",
                        "encoded_text = tokenizer.encode(input_text)"
                  ]
            },
            {
                  "cell_type": "markdown",
                  "metadata": {},
                  "source": [
                        "Let's see what we get when we tokenize text"
                  ]
            },
            {
                  "cell_type": "code",
                  "execution_count": 51,
                  "metadata": {},
                  "outputs": [
                        {
                              "data": {
                                    "text/plain": [
                                          "tokenizers.Encoding"
                                    ]
                              },
                              "execution_count": 51,
                              "metadata": {},
                              "output_type": "execute_result"
                        }
                  ],
                  "source": [
                        "type(encoded_text)"
                  ]
            },
            {
                  "cell_type": "markdown",
                  "metadata": {},
                  "source": [
                        "We obtain an object of type [Encoding](https://huggingface.co/docs/tokenizers/api/encoding#tokenizers.Encoding), which contains the tokens and token ids"
                  ]
            },
            {
                  "cell_type": "markdown",
                  "metadata": {},
                  "source": [
                        "The `ids` are the `id`s of the tokens in the tokenizer vocabulary."
                  ]
            },
            {
                  "cell_type": "code",
                  "execution_count": 52,
                  "metadata": {},
                  "outputs": [
                        {
                              "data": {
                                    "text/plain": [
                                          "[1, 17, 383, 10694, 17, 3533, 3, 586, 2]"
                                    ]
                              },
                              "execution_count": 52,
                              "metadata": {},
                              "output_type": "execute_result"
                        }
                  ],
                  "source": [
                        "encoded_text.ids"
                  ]
            },
            {
                  "cell_type": "markdown",
                  "metadata": {},
                  "source": [
                        "The `tokens` are the tokens to which the `ids` are equivalent."
                  ]
            },
            {
                  "cell_type": "code",
                  "execution_count": 54,
                  "metadata": {},
                  "outputs": [
                        {
                              "data": {
                                    "text/plain": [
                                          "['[CLS]', 'i', 'love', 'token', 'i', 'zer', 's', '!', '[SEP]']"
                                    ]
                              },
                              "execution_count": 54,
                              "metadata": {},
                              "output_type": "execute_result"
                        }
                  ],
                  "source": [
                        "encoded_text.tokens"
                  ]
            },
            {
                  "cell_type": "markdown",
                  "metadata": {},
                  "source": [
                        "If we have several sequences, we can code them all at the same time."
                  ]
            },
            {
                  "cell_type": "code",
                  "execution_count": 85,
                  "metadata": {},
                  "outputs": [
                        {
                              "name": "stdout",
                              "output_type": "stream",
                              "text": [
                                    "['[CLS]', 'hell', 'o', ',', 'y', \"'\", 'all', '!', '[SEP]', 'how', 'are', 'you', '?', '[SEP]']\n",
                                    "[1, 2215, 7, 5, 22, 26, 81, 586, 2, 98, 59, 213, 902, 2]\n",
                                    "[0, 0, 0, 0, 0, 0, 0, 0, 0, 1, 1, 1, 1, 1]\n"
                              ]
                        }
                  ],
                  "source": [
                        "encoded_texts = tokenizer.encode(input_text1, input_text2)\n",
                        "\n",
                        "print(encoded_texts.tokens)\n",
                        "print(encoded_texts.ids)\n",
                        "print(encoded_texts.type_ids)"
                  ]
            },
            {
                  "cell_type": "markdown",
                  "metadata": {},
                  "source": [
                        "However, when you have several sequences it is better to use the `encode_batch` method."
                  ]
            },
            {
                  "cell_type": "code",
                  "execution_count": 86,
                  "metadata": {},
                  "outputs": [
                        {
                              "data": {
                                    "text/plain": [
                                          "list"
                                    ]
                              },
                              "execution_count": 86,
                              "metadata": {},
                              "output_type": "execute_result"
                        }
                  ],
                  "source": [
                        "encoded_texts = tokenizer.encode_batch([input_text1, input_text2])\n",
                        "\n",
                        "type(encoded_texts)"
                  ]
            },
            {
                  "cell_type": "markdown",
                  "metadata": {},
                  "source": [
                        "We see that we get a list"
                  ]
            },
            {
                  "cell_type": "code",
                  "execution_count": 87,
                  "metadata": {},
                  "outputs": [
                        {
                              "name": "stdout",
                              "output_type": "stream",
                              "text": [
                                    "['[CLS]', 'hell', 'o', ',', 'y', \"'\", 'all', '!', '[SEP]']\n",
                                    "[1, 2215, 7, 5, 22, 26, 81, 586, 2]\n",
                                    "['[CLS]', 'how', 'are', 'you', '?', '[SEP]']\n",
                                    "[1, 98, 59, 213, 902, 2]\n"
                              ]
                        }
                  ],
                  "source": [
                        "print(encoded_texts[0].tokens)\n",
                        "print(encoded_texts[0].ids)\n",
                        "print(encoded_texts[1].tokens)\n",
                        "print(encoded_texts[1].ids)"
                  ]
            },
            {
                  "cell_type": "markdown",
                  "metadata": {},
                  "source": [
                        "### Decoding"
                  ]
            },
            {
                  "cell_type": "markdown",
                  "metadata": {},
                  "source": [
                        "In addition to encoding input texts, a Tokenizer also has a method to decode, i.e. convert the IDs generated by its model back to a text. This is done by the methods `Tokenizer.decode` (for a predicted text) and `Tokenizer.decode_batch` (for a batch of predictions).\n",
                        "\n",
                        "The types of decoding that can be used are:\n",
                        "\n",
                        "|Decodificación|Descripción|\n",
                        "|---|---|\n",
                        "|BPEDecoder|Revierte el modelo BPE|\n",
                        "|ByteLevel|Revierte el ByteLevel PreTokenizer. Este PreTokenizer codifica a nivel de byte, utilizando un conjunto de caracteres Unicode visibles para representar cada byte, por lo que necesitamos un Decoder para revertir este proceso y obtener algo legible de nuevo.|\n",
                        "|CTC|Revierte el modelo CTC|\n",
                        "|Metaspace|Revierte el PreTokenizer de Metaspace. Este PreTokenizer utiliza un identificador especial ▁ para identificar los espacios en blanco, por lo que este Decoder ayuda con la decodificación de estos.|\n",
                        "|WordPiece|Revierte el modelo WordPiece. Este modelo utiliza un identificador especial ## para las subpalabras continuas, por lo que este decodificador ayuda a decodificarlas.|\n",
                        "\n",
                        "The decoder will first convert the IDs into tokens (using the tokenizer vocabulary) and remove all special tokens, then join those tokens with blanks."
                  ]
            },
            {
                  "cell_type": "markdown",
                  "metadata": {},
                  "source": [
                        "Let's create a decoder"
                  ]
            },
            {
                  "cell_type": "code",
                  "execution_count": 79,
                  "metadata": {},
                  "outputs": [],
                  "source": [
                        "from tokenizers import decoders\n",
                        "\n",
                        "decoder = decoders.ByteLevel()"
                  ]
            },
            {
                  "cell_type": "markdown",
                  "metadata": {},
                  "source": [
                        "We add it to the tokenizer"
                  ]
            },
            {
                  "cell_type": "code",
                  "execution_count": 80,
                  "metadata": {},
                  "outputs": [],
                  "source": [
                        "tokenizer.decoder = decoder"
                  ]
            },
            {
                  "cell_type": "markdown",
                  "metadata": {},
                  "source": [
                        "We decode"
                  ]
            },
            {
                  "cell_type": "code",
                  "execution_count": 81,
                  "metadata": {},
                  "outputs": [
                        {
                              "data": {
                                    "text/plain": [
                                          "('I love tokenizers!', 'ilovetokenizers!')"
                                    ]
                              },
                              "execution_count": 81,
                              "metadata": {},
                              "output_type": "execute_result"
                        }
                  ],
                  "source": [
                        "decoded_text = tokenizer.decode(encoded_text.ids)\n",
                        "\n",
                        "input_text, decoded_text"
                  ]
            },
            {
                  "cell_type": "code",
                  "execution_count": 90,
                  "metadata": {},
                  "outputs": [
                        {
                              "name": "stdout",
                              "output_type": "stream",
                              "text": [
                                    "Hello, y'all! hello,y'all!\n",
                                    "How are you? howareyou?\n"
                              ]
                        }
                  ],
                  "source": [
                        "decoded_texts = tokenizer.decode_batch([encoded_texts[0].ids, encoded_texts[1].ids])\n",
                        "\n",
                        "print(input_text1, decoded_texts[0])\n",
                        "print(input_text2, decoded_texts[1])"
                  ]
            },
            {
                  "cell_type": "markdown",
                  "metadata": {},
                  "source": [
                        "## BERT tokenizer"
                  ]
            },
            {
                  "cell_type": "markdown",
                  "metadata": {},
                  "source": [
                        "With everything we have learned we are going to create the BERT tokenizer from scratch, first we create the tokenizer. Bert uses `WordPiece` as a model, so we pass it to the initializer of the tokenizer."
                  ]
            },
            {
                  "cell_type": "code",
                  "execution_count": 91,
                  "metadata": {},
                  "outputs": [],
                  "source": [
                        "from tokenizers import Tokenizer\n",
                        "from tokenizers.models import WordPiece\n",
                        "\n",
                        "bert_tokenizer = Tokenizer(WordPiece(unk_token=\"[UNK]\"))"
                  ]
            },
            {
                  "cell_type": "markdown",
                  "metadata": {},
                  "source": [
                        "BERT preprocesses texts by removing accents and lowercase letters. We also use a unicode normalizer"
                  ]
            },
            {
                  "cell_type": "code",
                  "execution_count": 92,
                  "metadata": {},
                  "outputs": [],
                  "source": [
                        "from tokenizers import normalizers\n",
                        "from tokenizers.normalizers import NFD, Lowercase, StripAccents\n",
                        "\n",
                        "bert_tokenizer.normalizer = normalizers.Sequence([NFD(), Lowercase(), StripAccents()])"
                  ]
            },
            {
                  "cell_type": "markdown",
                  "metadata": {},
                  "source": [
                        "The pretokenizer only splits whitespace and punctuation marks."
                  ]
            },
            {
                  "cell_type": "code",
                  "execution_count": 93,
                  "metadata": {},
                  "outputs": [],
                  "source": [
                        "from tokenizers.pre_tokenizers import Whitespace\n",
                        "\n",
                        "bert_tokenizer.pre_tokenizer = Whitespace()"
                  ]
            },
            {
                  "cell_type": "markdown",
                  "metadata": {},
                  "source": [
                        "And the post-processing uses the template that we saw in the previous section"
                  ]
            },
            {
                  "cell_type": "code",
                  "execution_count": 94,
                  "metadata": {},
                  "outputs": [],
                  "source": [
                        "from tokenizers.processors import TemplateProcessing\n",
                        "\n",
                        "bert_tokenizer.post_processor = TemplateProcessing(\n",
                        "    single=\"[CLS] $A [SEP]\",\n",
                        "    pair=\"[CLS] $A [SEP] $B:1 [SEP]:1\",\n",
                        "    special_tokens=[\n",
                        "        (\"[CLS]\", 1),\n",
                        "        (\"[SEP]\", 2),\n",
                        "    ],\n",
                        ")"
                  ]
            },
            {
                  "cell_type": "markdown",
                  "metadata": {},
                  "source": [
                        "We train the tokenizer with the dataset of wikitext-103"
                  ]
            },
            {
                  "cell_type": "code",
                  "execution_count": 95,
                  "metadata": {},
                  "outputs": [],
                  "source": [
                        "from tokenizers.trainers import WordPieceTrainer\n",
                        "\n",
                        "trainer = WordPieceTrainer(vocab_size=30522, special_tokens=[\"[UNK]\", \"[CLS]\", \"[SEP]\", \"[PAD]\", \"[MASK]\"])"
                  ]
            },
            {
                  "cell_type": "code",
                  "execution_count": 96,
                  "metadata": {},
                  "outputs": [
                        {
                              "name": "stdout",
                              "output_type": "stream",
                              "text": [
                                    "\n",
                                    "\n",
                                    "\n"
                              ]
                        }
                  ],
                  "source": [
                        "files = [f\"wikitext-103/wiki.{split}.tokens\" for split in [\"test\", \"train\", \"valid\"]]\n",
                        "bert_tokenizer.train(files, trainer)"
                  ]
            },
            {
                  "cell_type": "markdown",
                  "metadata": {},
                  "source": [
                        "Now we test it"
                  ]
            },
            {
                  "cell_type": "code",
                  "execution_count": 97,
                  "metadata": {},
                  "outputs": [
                        {
                              "name": "stdout",
                              "output_type": "stream",
                              "text": [
                                    "El texto de entrada 'I love tokenizers!' se convierte en los tokens ['[CLS]', 'i', 'love', 'token', '##izers', '!', '[SEP]'], que tienen las ids [1, 51, 2867, 25791, 12213, 5, 2] y luego se decodifica como 'i love token ##izers !'\n"
                              ]
                        }
                  ],
                  "source": [
                        "input_text = \"I love tokenizers!\"\n",
                        "\n",
                        "encoded_text = bert_tokenizer.encode(input_text)\n",
                        "decoded_text = bert_tokenizer.decode(encoded_text.ids)\n",
                        "\n",
                        "print(f\"El texto de entrada '{input_text}' se convierte en los tokens {encoded_text.tokens}, que tienen las ids {encoded_text.ids} y luego se decodifica como '{decoded_text}'\")"
                  ]
            }
      ],
      "metadata": {
            "kernelspec": {
                  "display_name": "base",
                  "language": "python",
                  "name": "python3"
            },
            "language_info": {
                  "codemirror_mode": {
                        "name": "ipython",
                        "version": 3
                  },
                  "file_extension": ".py",
                  "mimetype": "text/x-python",
                  "name": "python",
                  "nbconvert_exporter": "python",
                  "pygments_lexer": "ipython3",
                  "version": "3.11.7"
            }
      },
      "nbformat": 4,
      "nbformat_minor": 2
}
