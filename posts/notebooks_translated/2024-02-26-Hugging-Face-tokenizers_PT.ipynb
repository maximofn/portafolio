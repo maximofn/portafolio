{
      "cells": [
            {
                  "cell_type": "markdown",
                  "metadata": {},
                  "source": [
                        "# Tokenizadores de rostos abraçados"
                  ]
            },
            {
                  "cell_type": "markdown",
                  "metadata": {},
                  "source": [
                        "A biblioteca Hugging Face `tokenizers` fornece uma implementação dos tokenizadores mais usados atualmente, com foco no desempenho e na versatilidade. Na postagem [tokens](https://maximofn.com/tokens/), já vimos a importância dos tokens no processamento de texto, pois os computadores não entendem palavras, mas números. Portanto, é necessário converter palavras em números para que os modelos de linguagem possam processá-las."
                  ]
            },
            {
                  "cell_type": "markdown",
                  "metadata": {},
                  "source": [
                        "Este caderno foi traduzido automaticamente para torná-lo acessível a mais pessoas, por favor me avise se você vir algum erro de digitação..\n",
                        "\n",
                        "## Instalação"
                  ]
            },
            {
                  "cell_type": "markdown",
                  "metadata": {},
                  "source": [
                        "Para instalar o `tokenizers` com o pip:\n",
                        "\n",
                        "````bash\n",
                        "pip install tokenizers\n",
                        "```\n",
                        "\n",
                        "para instalar o `tokenizers` com o conda:\n",
                        "\n",
                        "````bash\n",
                        "conda install conda-forge::tokenizers\n",
                        "```"
                  ]
            },
            {
                  "cell_type": "markdown",
                  "metadata": {},
                  "source": [
                        "## O pipeline de tokenização"
                  ]
            },
            {
                  "cell_type": "markdown",
                  "metadata": {},
                  "source": [
                        "Para tokenizar uma sequência, é usado o `Tokenizer.encode`, que executa as seguintes etapas:\n",
                        "\n",
                        " * Padronização\n",
                        " * pré-tokenização\n",
                        " * Tokenização\n",
                        " * Pós-tokenização\n",
                        "\n",
                        "Vamos dar uma olhada em cada um deles"
                  ]
            },
            {
                  "cell_type": "markdown",
                  "metadata": {},
                  "source": [
                        "Para esta postagem, usaremos o conjunto de dados [wikitext-103] (https://blog.einstein.ai/the-wikitext-long-term-dependency-language-modeling-dataset/)"
                  ]
            },
            {
                  "cell_type": "code",
                  "execution_count": 2,
                  "metadata": {},
                  "outputs": [
                        {
                              "name": "stdout",
                              "output_type": "stream",
                              "text": [
                                    "--2024-02-26 08:14:11--  https://dax-cdn.cdn.appdomain.cloud/dax-wikitext-103/1.0.1/wikitext-103.tar.gz\n",
                                    "Resolving dax-cdn.cdn.appdomain.cloud (dax-cdn.cdn.appdomain.cloud)... 23.200.169.125\n",
                                    "Connecting to dax-cdn.cdn.appdomain.cloud (dax-cdn.cdn.appdomain.cloud)|23.200.169.125|:443... connected.\n",
                                    "HTTP request sent, awaiting response... "
                              ]
                        },
                        {
                              "name": "stdout",
                              "output_type": "stream",
                              "text": [
                                    "200 OK\n",
                                    "Length: 189603606 (181M) [application/x-gzip]\n",
                                    "Saving to: ‘wikitext-103.tar.gz’\n",
                                    "\n",
                                    "wikitext-103.tar.gz 100%[===================>] 180,82M  6,42MB/s    in 30s     \n",
                                    "\n",
                                    "2024-02-26 08:14:42 (5,95 MB/s) - ‘wikitext-103.tar.gz’ saved [189603606/189603606]\n",
                                    "\n"
                              ]
                        }
                  ],
                  "source": [
                        "!wget https://dax-cdn.cdn.appdomain.cloud/dax-wikitext-103/1.0.1/wikitext-103.tar.gz"
                  ]
            },
            {
                  "cell_type": "code",
                  "execution_count": 3,
                  "metadata": {},
                  "outputs": [
                        {
                              "name": "stdout",
                              "output_type": "stream",
                              "text": [
                                    "wikitext-103/\n",
                                    "wikitext-103/wiki.test.tokens\n",
                                    "wikitext-103/wiki.valid.tokens\n",
                                    "wikitext-103/README.txt\n",
                                    "wikitext-103/LICENSE.txt\n",
                                    "wikitext-103/wiki.train.tokens\n"
                              ]
                        }
                  ],
                  "source": [
                        "!tar -xvzf wikitext-103.tar.gz"
                  ]
            },
            {
                  "cell_type": "code",
                  "execution_count": 4,
                  "metadata": {},
                  "outputs": [],
                  "source": [
                        "!rm wikitext-103.tar.gz"
                  ]
            },
            {
                  "cell_type": "markdown",
                  "metadata": {},
                  "source": [
                        "### Padronização"
                  ]
            },
            {
                  "cell_type": "markdown",
                  "metadata": {},
                  "source": [
                        "As normalizações são operações aplicadas ao texto antes da tokenização, como a remoção de espaços em branco, a conversão para letras minúsculas, a remoção de caracteres especiais etc. As seguintes normalizações são implementadas no Hugging Face:\n",
                        "\n",
                        "|Normalización|Descripción|Ejemplo|\n",
                        "|---|---|---|\n",
                        "|NFD (Normalization for D)|Los caracteres se descomponen por equivalencia canónica|`â` (U+00E2) se descompone en `a` (U+0061) + `^` (U+0302)|\n",
                        "|NFKD (Normalization Form KD)|Los caracteres se descomponen por compatibilidad|`ﬁ` (U+FB01) se descompone en `f` (U+0066) + `i` (U+0069)|\n",
                        "|NFC (Normalization Form C)|Los caracteres se descomponen y luego se recomponen por equivalencia canónica|`â` (U+00E2) se descompone en `a` (U+0061) + `^` (U+0302) y luego se recompone en `â` (U+00E2)|\n",
                        "|NFKC (Normalization Form KC)|Los caracteres se descomponen por compatibilidad y luego se recomponen por equivalencia canónica|`ﬁ` (U+FB01) se descompone en `f` (U+0066) + `i` (U+0069) y luego se recompone en `f` (U+0066) + `i` (U+0069)|\n",
                        "|Lowercase|Convierte el texto a minúsculas|`Hello World` se convierte en `hello world`|\n",
                        "|Strip|Elimina todos los espacios en blanco de los lados especificados (izquierdo, derecho o ambos) del texto|`  Hello World  ` se convierte en `Hello World`|\n",
                        "|StripAccents|Elimina todos los símbolos de acento en unicode (se utilizará con NFD por coherencia)|`á` (U+00E1) se convierte en `a` (U+0061)|\n",
                        "|Replace|Sustituye una cadena personalizada o [regex](https://maximofn.com/regular-expressions/) y la cambia por el contenido dado|`Hello World` se convierte en `Hello Universe`|\n",
                        "|BertNormalizer|Proporciona una implementación del Normalizador utilizado en el BERT original. Las opciones que se pueden configurar son `clean_text`, `handle_chinese_chars`, `strip_accents` y `lowercase`|`Hello World` se convierte en `hello world`|"
                  ]
            },
            {
                  "cell_type": "markdown",
                  "metadata": {},
                  "source": [
                        "Vamos criar um normalizador para ver como ele funciona."
                  ]
            },
            {
                  "cell_type": "code",
                  "execution_count": 1,
                  "metadata": {},
                  "outputs": [
                        {
                              "data": {
                                    "text/plain": [
                                          "'hello how are u?'"
                                    ]
                              },
                              "execution_count": 1,
                              "metadata": {},
                              "output_type": "execute_result"
                        }
                  ],
                  "source": [
                        "from tokenizers import normalizers\n",
                        "\n",
                        "bert_normalizer = normalizers.BertNormalizer()\n",
                        "\n",
                        "input_text = \"Héllò hôw are ü?\"\n",
                        "normalized_text = bert_normalizer.normalize_str(input_text)\n",
                        "normalized_text"
                  ]
            },
            {
                  "cell_type": "markdown",
                  "metadata": {},
                  "source": [
                        "Para usar vários normalizadores, podemos usar o método `Sequence`."
                  ]
            },
            {
                  "cell_type": "code",
                  "execution_count": 2,
                  "metadata": {},
                  "outputs": [
                        {
                              "data": {
                                    "text/plain": [
                                          "'hello how are u?'"
                                    ]
                              },
                              "execution_count": 2,
                              "metadata": {},
                              "output_type": "execute_result"
                        }
                  ],
                  "source": [
                        "custom_normalizer = normalizers.Sequence([normalizers.NFKC(), normalizers.BertNormalizer()])\n",
                        "\n",
                        "normalized_text = custom_normalizer.normalize_str(input_text)\n",
                        "normalized_text"
                  ]
            },
            {
                  "cell_type": "markdown",
                  "metadata": {},
                  "source": [
                        "Para modificar o normalizador de um tokenizador"
                  ]
            },
            {
                  "cell_type": "code",
                  "execution_count": 3,
                  "metadata": {},
                  "outputs": [],
                  "source": [
                        "import tokenizers\n",
                        "\n",
                        "tokenizer = tokenizers.BertWordPieceTokenizer() # or any other tokenizer"
                  ]
            },
            {
                  "cell_type": "code",
                  "execution_count": 4,
                  "metadata": {},
                  "outputs": [],
                  "source": [
                        "tokenizer.normalizer = custom_normalizer"
                  ]
            },
            {
                  "cell_type": "markdown",
                  "metadata": {},
                  "source": [
                        "### Pré-tokenização"
                  ]
            },
            {
                  "cell_type": "markdown",
                  "metadata": {},
                  "source": [
                        "Pretokenização é o ato de dividir o texto em objetos menores. O pretokenizador dividirá o texto em \"palavras\" e os tokens finais serão partes dessas palavras.\n",
                        "\n",
                        "O PreTokenizer se encarrega de dividir a entrada de acordo com um conjunto de regras. Esse pré-processamento permite que você garanta que o tokenizador não crie tokens em várias \"divisões\". Por exemplo, se você não quiser ter espaços em branco em um token, poderá ter um pré-tokenizador que divida as palavras em espaços em branco.\n",
                        "\n",
                        "Os seguintes pré-tokenizadores são implementados no Hugging Face\n",
                        "\n",
                        "|PreTokenizer|Descripción|Ejemplo|\n",
                        "|---|---|---|\n",
                        "|ByteLevel|Divide en espacios en blanco mientras reasigna todos los bytes a un conjunto de caracteres visibles. Esta técnica fue introducida por OpenAI con GPT-2 y tiene algunas propiedades más o menos buenas: Como mapea sobre bytes, un tokenizador que utilice esto sólo requiere 256 caracteres como alfabeto inicial (el número de valores que puede tener un byte), frente a los más de 130.000 caracteres Unicode. Una consecuencia del punto anterior es que es absolutamente innecesario tener un token desconocido usando esto ya que podemos representar cualquier cosa con 256 tokens. Para caracteres no ascii, se vuelve completamente ilegible, ¡pero funciona!|`Hello my friend, how are you?` se divide en `Hello`, `Ġmy`, `Ġfriend`, `,`, `Ġhow`, `Ġare`, `Ġyou`, `?`|\n",
                        "|Whitespace|Divide en límites de palabra usando la siguiente expresión regular: `\\w+[^\\w\\s]+`. En mi post sobre [expresiones regulares](https://maximofn.com/regular-expressions/) puedes entender qué hace|`Hello there!` se divide en `Hello`, `there`, `!`|\n",
                        "|WhitespaceSplit|Se divide en cualquier carácter de espacio en blanco|`Hello there!` se divide en `Hello`, `there!`|\n",
                        "|Punctuation|Aislará todos los caracteres de puntuación|`Hello?` se divide en `Hello`, `?`|\n",
                        "|Metaspace|Separa los espacios en blanco y los sustituye por un carácter especial \"▁\" (U+2581)|`Hello there` se divide en `Hello`, `▁there`|\n",
                        "|CharDelimiterSplit|Divisiones en un carácter determinado|Ejemplo con el caracter `x`: `Helloxthere` se divide en `Hello`, `there`|\n",
                        "|Digits|Divide los números de cualquier otro carácter|`Hello123there` se divide en `Hello`, `123`, `there`|\n",
                        "|Split|Pretokenizador versátil que divide según el patrón y el comportamiento proporcionados. El patrón se puede invertir si es necesario. El patrón debe ser una cadena personalizada o una [regex](https://maximofn.com/regular-expressions/). El comportamiento debe ser `removed`, `isolated`, `merged_with_previous`, `merged_with_next`, `contiguous`. Para invertir se indica con un booleano|Ejemplo con pattern=`\" \"`, behavior=`isolated`, invert=`False`: `Hello, how are you?` se divide en `Hello,`, ` `, `how`, ` `, `are`, ` `, `you?`|"
                  ]
            },
            {
                  "cell_type": "markdown",
                  "metadata": {},
                  "source": [
                        "Vamos criar um pré-tokenizador para ver como ele funciona."
                  ]
            },
            {
                  "cell_type": "code",
                  "execution_count": 5,
                  "metadata": {},
                  "outputs": [
                        {
                              "data": {
                                    "text/plain": [
                                          "[('I paid $', (0, 8)),\n",
                                          " ('3', (8, 9)),\n",
                                          " ('0', (9, 10)),\n",
                                          " (' for the car', (10, 22))]"
                                    ]
                              },
                              "execution_count": 5,
                              "metadata": {},
                              "output_type": "execute_result"
                        }
                  ],
                  "source": [
                        "from tokenizers import pre_tokenizers\n",
                        "\n",
                        "pre_tokenizer = pre_tokenizers.Digits(individual_digits=True)\n",
                        "\n",
                        "input_text = \"I paid $30 for the car\"\n",
                        "pre_tokenized_text = pre_tokenizer.pre_tokenize_str(input_text)\n",
                        "pre_tokenized_text"
                  ]
            },
            {
                  "cell_type": "markdown",
                  "metadata": {},
                  "source": [
                        "Para usar vários pré-tokenizadores, podemos usar o método `Sequence`."
                  ]
            },
            {
                  "cell_type": "code",
                  "execution_count": 6,
                  "metadata": {},
                  "outputs": [
                        {
                              "data": {
                                    "text/plain": [
                                          "[('I', (0, 1)),\n",
                                          " ('paid', (2, 6)),\n",
                                          " ('$', (7, 8)),\n",
                                          " ('3', (8, 9)),\n",
                                          " ('0', (9, 10)),\n",
                                          " ('for', (11, 14)),\n",
                                          " ('the', (15, 18)),\n",
                                          " ('car', (19, 22))]"
                                    ]
                              },
                              "execution_count": 6,
                              "metadata": {},
                              "output_type": "execute_result"
                        }
                  ],
                  "source": [
                        "custom_pre_tokenizer = pre_tokenizers.Sequence([pre_tokenizers.Whitespace(), pre_tokenizers.Digits(individual_digits=True)])\n",
                        "\n",
                        "pre_tokenized_text = custom_pre_tokenizer.pre_tokenize_str(input_text)\n",
                        "pre_tokenized_text"
                  ]
            },
            {
                  "cell_type": "markdown",
                  "metadata": {},
                  "source": [
                        "Para modificar o pré-tokenizador de um tokenizador"
                  ]
            },
            {
                  "cell_type": "code",
                  "execution_count": 7,
                  "metadata": {},
                  "outputs": [],
                  "source": [
                        "tokenizer.pre_tokenizer = custom_pre_tokenizer"
                  ]
            },
            {
                  "cell_type": "markdown",
                  "metadata": {},
                  "source": [
                        "### Tokenização"
                  ]
            },
            {
                  "cell_type": "markdown",
                  "metadata": {},
                  "source": [
                        "Depois que os textos de entrada tiverem sido normalizados e pré-tokenizados, o tokenizador aplica o modelo aos pré-tokens. Essa é a parte do processo que precisa ser treinada no corpus (ou já foi treinada se for usado um tokenizador pré-treinado).\n",
                        "\n",
                        "A função do modelo é dividir as \"palavras\" em tokens usando as regras que aprendeu. Ele também é responsável por atribuir esses tokens às suas IDs correspondentes no vocabulário do modelo.\n",
                        "\n",
                        "O modelo tem um tamanho de vocabulário, ou seja, tem um número finito de tokens, portanto, precisa decompor as palavras e atribuí-las a um desses tokens.\n",
                        "\n",
                        "Esse modelo é passado quando o Tokenizer é inicializado. Atualmente, a biblioteca 🤗 Tokenizers é compatível:\n",
                        "\n",
                        "|Modelo|Descripción|\n",
                        "|---|---|\n",
                        "|WordLevel|Este es el algoritmo \"clásico\" de tokenización. Te permite simplemente asignar palabras a IDs sin nada sofisticado. Tiene la ventaja de ser muy fácil de usar y entender, pero requiere vocabularios extremadamente grandes para una buena cobertura. El uso de este modelo requiere el uso de un PreTokenizer. Este modelo no realiza ninguna elección directamente, simplemente asigna tokens de entrada a IDs.|\n",
                        "|BPE (Byte Pair Encoding)|Uno de los algoritmos de tokenización de subpalabras más populares. El Byte-Pair-Encoding funciona empezando con caracteres y fusionando los que se ven juntos con más frecuencia, creando así nuevos tokens. A continuación, trabaja de forma iterativa para construir nuevos tokens a partir de los pares más frecuentes que ve en un corpus. BPE es capaz de construir palabras que nunca ha visto utilizando múltiples subpalabras y, por tanto, requiere vocabularios más pequeños, con menos posibilidades de tener palabras `unk` (desconocidas).|\n",
                        "|WordPiece|Se trata de un algoritmo de tokenización de subpalabras bastante similar a BPE, utilizado principalmente por Google en modelos como BERT. Utiliza un algoritmo codicioso que intenta construir primero palabras largas, dividiéndolas en varios tokens cuando no existen palabras completas en el vocabulario. A diferencia de BPE, que parte de los caracteres y construye tokens lo más grandes posible. Utiliza el famoso prefijo ## para identificar los tokens que forman parte de una palabra (es decir, que no empiezan una palabra).|\n",
                        "|Unigram|Unigram es también un algoritmo de tokenización de subpalabras, y funciona tratando de identificar el mejor conjunto de tokens de subpalabras para maximizar la probabilidad de una frase dada. Se diferencia de BPE en que no es un algoritmo determinista basado en un conjunto de reglas aplicadas secuencialmente. En su lugar, Unigram podrá calcular múltiples formas de tokenizar, eligiendo la más probable.|"
                  ]
            },
            {
                  "cell_type": "markdown",
                  "metadata": {},
                  "source": [
                        "Quando você cria um tokenizador, precisa passar a ele o modelo"
                  ]
            },
            {
                  "cell_type": "code",
                  "execution_count": 11,
                  "metadata": {},
                  "outputs": [],
                  "source": [
                        "from tokenizers import Tokenizer, models\n",
                        "\n",
                        "tokenizer = Tokenizer(models.Unigram())"
                  ]
            },
            {
                  "cell_type": "markdown",
                  "metadata": {},
                  "source": [
                        "Passaremos o normalizador e o pré-tokenizador que criamos para ele."
                  ]
            },
            {
                  "cell_type": "code",
                  "execution_count": 12,
                  "metadata": {},
                  "outputs": [],
                  "source": [
                        "tokenizer.normalizer = custom_normalizer\n",
                        "tokenizer.pre_tokenizer = custom_pre_tokenizer"
                  ]
            },
            {
                  "cell_type": "markdown",
                  "metadata": {},
                  "source": [
                        "Agora temos que treinar o modelo ou carregar um modelo pré-treinado. Neste caso, vamos treinar um modelo com o corpus que baixamos."
                  ]
            },
            {
                  "cell_type": "markdown",
                  "metadata": {},
                  "source": [
                        "#### Treinamento de modelos"
                  ]
            },
            {
                  "cell_type": "markdown",
                  "metadata": {},
                  "source": [
                        "Para treinar o modelo, temos vários tipos de \"treinadores\".\n",
                        "\n",
                        "|Trainer|Descripción|\n",
                        "|---|---|\n",
                        "|WordLevelTrainer|Entrena un tokenizador WordLevel|\n",
                        "|BpeTrainer|Entrena un tokenizador BPE|\n",
                        "|WordPieceTrainer|Entrena un tokenizador WordPiece|\n",
                        "|UnigramTrainer|Entrena un tokenizador Unigram|\n",
                        "\n",
                        "Quase todos os treinadores têm os mesmos parâmetros, que são:\n",
                        "\n",
                        " * vocab_size: o tamanho do vocabulário final, incluindo todos os tokens e o alfabeto.\n",
                        " * show_progress: Mostrar ou não barras de progresso durante o treinamento\n",
                        " * special_tokens: Uma lista de tokens especiais dos quais o modelo deve estar ciente.\n",
                        "\n",
                        "Além desses parâmetros, cada treinador tem seus próprios parâmetros; consulte a documentação [Trainers](https://huggingface.co/docs/tokenizers/api/trainers) para obter mais informações."
                  ]
            },
            {
                  "cell_type": "markdown",
                  "metadata": {},
                  "source": [
                        "Para treinar, precisamos criar um `Trainer`. Como o modelo que criamos é um `Unigram`, criaremos um `UnigramTrainer`."
                  ]
            },
            {
                  "cell_type": "code",
                  "execution_count": 27,
                  "metadata": {},
                  "outputs": [],
                  "source": [
                        "from tokenizers.trainers import trainers\n",
                        "\n",
                        "trainer = trainers.UnigramTrainer(\n",
                        "    vocab_size=20000,\n",
                        "    initial_alphabet=pre_tokenizers.ByteLevel.alphabet(),\n",
                        "    special_tokens=[\"<PAD>\", \"<BOS>\", \"<EOS>\"],\n",
                        ")"
                  ]
            },
            {
                  "cell_type": "markdown",
                  "metadata": {},
                  "source": [
                        "Depois de criarmos o `Trainer`, há duas maneiras de entrar, usando o método `train`, que recebe uma lista de arquivos, ou usando o método `train_from_iterator`, que recebe um iterador."
                  ]
            },
            {
                  "cell_type": "markdown",
                  "metadata": {},
                  "source": [
                        "##### Treinamento do modelo com o método `train`."
                  ]
            },
            {
                  "cell_type": "markdown",
                  "metadata": {},
                  "source": [
                        "Primeiro, criamos uma lista de arquivos com o corpus"
                  ]
            },
            {
                  "cell_type": "code",
                  "execution_count": 28,
                  "metadata": {},
                  "outputs": [
                        {
                              "data": {
                                    "text/plain": [
                                          "['wikitext-103/wiki.test.tokens',\n",
                                          " 'wikitext-103/wiki.train.tokens',\n",
                                          " 'wikitext-103/wiki.valid.tokens']"
                                    ]
                              },
                              "execution_count": 28,
                              "metadata": {},
                              "output_type": "execute_result"
                        }
                  ],
                  "source": [
                        "files = [f\"wikitext-103/wiki.{split}.tokens\" for split in [\"test\", \"train\", \"valid\"]]\n",
                        "files"
                  ]
            },
            {
                  "cell_type": "markdown",
                  "metadata": {},
                  "source": [
                        "E agora treinamos o modelo"
                  ]
            },
            {
                  "cell_type": "code",
                  "execution_count": 29,
                  "metadata": {},
                  "outputs": [
                        {
                              "name": "stdout",
                              "output_type": "stream",
                              "text": [
                                    "\n",
                                    "\n"
                              ]
                        }
                  ],
                  "source": [
                        "tokenizer.train(files, trainer)"
                  ]
            },
            {
                  "cell_type": "markdown",
                  "metadata": {},
                  "source": [
                        "##### Treinamento do modelo com o método `train_from_iterator`."
                  ]
            },
            {
                  "cell_type": "markdown",
                  "metadata": {},
                  "source": [
                        "Primeiro, criamos uma função que retorna um iterador."
                  ]
            },
            {
                  "cell_type": "code",
                  "execution_count": 30,
                  "metadata": {},
                  "outputs": [],
                  "source": [
                        "def iterator():\n",
                        "    for file in files:\n",
                        "        with open(file, \"r\") as f:\n",
                        "            for line in f:\n",
                        "                yield line"
                  ]
            },
            {
                  "cell_type": "markdown",
                  "metadata": {},
                  "source": [
                        "Agora, treinamos novamente o modelo"
                  ]
            },
            {
                  "cell_type": "code",
                  "execution_count": 31,
                  "metadata": {},
                  "outputs": [
                        {
                              "name": "stdout",
                              "output_type": "stream",
                              "text": [
                                    "\n",
                                    "\n"
                              ]
                        }
                  ],
                  "source": [
                        "tokenizer.train_from_iterator(iterator(), trainer)"
                  ]
            },
            {
                  "cell_type": "markdown",
                  "metadata": {},
                  "source": [
                        "##### Treinamento do modelo com o método `train_from_iterator` a partir de um conjunto de dados Hugging Face"
                  ]
            },
            {
                  "cell_type": "markdown",
                  "metadata": {},
                  "source": [
                        "Se tivéssemos baixado o conjunto de dados Hugging Face, poderíamos ter treinado o modelo diretamente do conjunto de dados."
                  ]
            },
            {
                  "cell_type": "code",
                  "execution_count": 32,
                  "metadata": {},
                  "outputs": [],
                  "source": [
                        "import datasets\n",
                        "\n",
                        "dataset = datasets.load_dataset(\"wikitext\", \"wikitext-103-raw-v1\", split=\"train+test+validation\")"
                  ]
            },
            {
                  "cell_type": "markdown",
                  "metadata": {},
                  "source": [
                        "Agora podemos criar um iterador"
                  ]
            },
            {
                  "cell_type": "code",
                  "execution_count": 33,
                  "metadata": {},
                  "outputs": [],
                  "source": [
                        "def batch_iterator(batch_size=1000):\n",
                        "    for i in range(0, len(dataset), batch_size):\n",
                        "        yield dataset[i : i + batch_size][\"text\"]"
                  ]
            },
            {
                  "cell_type": "markdown",
                  "metadata": {},
                  "source": [
                        "Treinamos novamente o modelo"
                  ]
            },
            {
                  "cell_type": "code",
                  "execution_count": 34,
                  "metadata": {},
                  "outputs": [
                        {
                              "name": "stdout",
                              "output_type": "stream",
                              "text": [
                                    "\n",
                                    "\n"
                              ]
                        }
                  ],
                  "source": [
                        "tokenizer.train_from_iterator(batch_iterator(), trainer=trainer, length=len(dataset))"
                  ]
            },
            {
                  "cell_type": "markdown",
                  "metadata": {},
                  "source": [
                        "#### Salvando o modelo"
                  ]
            },
            {
                  "cell_type": "markdown",
                  "metadata": {},
                  "source": [
                        "Depois que o modelo tiver sido treinado, ele poderá ser salvo para uso futuro. Para salvar o modelo, é necessário salvá-lo em um arquivo `json`."
                  ]
            },
            {
                  "cell_type": "code",
                  "execution_count": 35,
                  "metadata": {},
                  "outputs": [],
                  "source": [
                        "tokenizer.save(\"wikitext-103-tokenizer.json\")"
                  ]
            },
            {
                  "cell_type": "markdown",
                  "metadata": {},
                  "source": [
                        "#### Carregando o modelo pré-treinado"
                  ]
            },
            {
                  "cell_type": "markdown",
                  "metadata": {},
                  "source": [
                        "Podemos carregar um modelo pré-treinado a partir de um `json` em vez de precisar treiná-lo."
                  ]
            },
            {
                  "cell_type": "code",
                  "execution_count": 36,
                  "metadata": {},
                  "outputs": [
                        {
                              "data": {
                                    "text/plain": [
                                          "<tokenizers.Tokenizer at 0x7f1dd7784a30>"
                                    ]
                              },
                              "execution_count": 36,
                              "metadata": {},
                              "output_type": "execute_result"
                        }
                  ],
                  "source": [
                        "tokenizer.from_file(\"wikitext-103-tokenizer.json\")"
                  ]
            },
            {
                  "cell_type": "markdown",
                  "metadata": {},
                  "source": [
                        "Também podemos carregar um modelo pré-treinado disponível no Hugging Face Hub."
                  ]
            },
            {
                  "cell_type": "code",
                  "execution_count": 38,
                  "metadata": {},
                  "outputs": [
                        {
                              "data": {
                                    "text/plain": [
                                          "<tokenizers.Tokenizer at 0x7f1d64a75e30>"
                                    ]
                              },
                              "execution_count": 38,
                              "metadata": {},
                              "output_type": "execute_result"
                        }
                  ],
                  "source": [
                        "tokenizer.from_pretrained('bert-base-uncased')"
                  ]
            },
            {
                  "cell_type": "markdown",
                  "metadata": {},
                  "source": [
                        "### Pós-processamento"
                  ]
            },
            {
                  "cell_type": "markdown",
                  "metadata": {},
                  "source": [
                        "Talvez queiramos que nosso tokenizador adicione automaticamente tokens especiais, como `[CLS]` ou `[SEP]`.\n",
                        "\n",
                        "Os seguintes pós-processadores são implementados no Hugging Face\n",
                        "\n",
                        "|PostProcesador|Descripción|Ejemplo|\n",
                        "|---|---|---|\n",
                        "|BertProcessing|Este post-procesador se encarga de añadir los tokens especiales que necesita un modelo Bert (`SEP` y `CLS`)|`Hello, how are you?` se convierte en `[CLS]`, `Hello`, `,`, `how`, `are`, `you`, `?`, `[SEP]`|\n",
                        "|RobertaProcessing|Este post-procesador se encarga de añadir los tokens especiales que necesita un modelo Roberta (`SEP` y `CLS`). También se encarga de recortar los offsets. Por defecto, el ByteLevel BPE puede incluir espacios en blanco en los tokens producidos. Si no desea que las compensaciones incluyan estos espacios en blanco, hay que inicializar este PostProcessor con `trim_offsets=True`.|`Hello, how are you?` se convierte en `<s>`, `Hello`, `,`, `how`, `are`, `you`, `?`, `</s>`|\n",
                        "|ElectraProcessing|Añade tokens especiales para ELECTRA|`Hello, how are you?` se convierte en `[CLS]`, `Hello`, `,`, `how`, `are`, `you`, `?`, `[SEP]`|\n",
                        "|TemplateProcessing|Permite crear fácilmente una plantilla para el postprocesamiento, añadiendo tokens especiales y especificando el type_id de cada secuencia/token especial. La plantilla recibe dos cadenas que representan la secuencia única y el par de secuencias, así como un conjunto de tokens especiales a utilizar|Example, when specifying a template with these values: single:`[CLS] $A [SEP]`, pair: `[CLS] $A [SEP] $B [SEP]`, special tokens: `[CLS]`, `[SEP]`. Input: (`I like this`, `but not this`), Output: `[CLS] I like this [SEP] but not this [SEP]`|"
                  ]
            },
            {
                  "cell_type": "markdown",
                  "metadata": {},
                  "source": [
                        "Vamos criar um tokenizador de postagem para ver como ele funciona."
                  ]
            },
            {
                  "cell_type": "code",
                  "execution_count": 41,
                  "metadata": {},
                  "outputs": [],
                  "source": [
                        "from tokenizers.processors import TemplateProcessing\n",
                        "\n",
                        "post_processor = TemplateProcessing(\n",
                        "    single=\"[CLS] $A [SEP]\",\n",
                        "    pair=\"[CLS] $A [SEP] $B:1 [SEP]:1\",\n",
                        "    special_tokens=[(\"[CLS]\", 1), (\"[SEP]\", 2)],\n",
                        ")"
                  ]
            },
            {
                  "cell_type": "markdown",
                  "metadata": {},
                  "source": [
                        "Para modificar o tokenizador de postagem de um tokenizador"
                  ]
            },
            {
                  "cell_type": "code",
                  "execution_count": 42,
                  "metadata": {},
                  "outputs": [],
                  "source": [
                        "tokenizer.post_processor = post_processor"
                  ]
            },
            {
                  "cell_type": "markdown",
                  "metadata": {},
                  "source": [
                        "Vamos ver como funciona"
                  ]
            },
            {
                  "cell_type": "code",
                  "execution_count": 43,
                  "metadata": {},
                  "outputs": [
                        {
                              "data": {
                                    "text/plain": [
                                          "['[CLS]', 'i', 'paid', '$', '3', '0', 'for', 'the', 'car', '[SEP]']"
                                    ]
                              },
                              "execution_count": 43,
                              "metadata": {},
                              "output_type": "execute_result"
                        }
                  ],
                  "source": [
                        "input_text = \"I paid $30 for the car\"\n",
                        "decoded_text = tokenizer.encode(input_text)\n",
                        "\n",
                        "decoded_text.tokens"
                  ]
            },
            {
                  "cell_type": "code",
                  "execution_count": 49,
                  "metadata": {},
                  "outputs": [
                        {
                              "name": "stdout",
                              "output_type": "stream",
                              "text": [
                                    "['[CLS]', 'hell', 'o', ',', 'y', \"'\", 'all', '!', '[SEP]', 'how', 'are', 'you', '?', '[SEP]']\n"
                              ]
                        }
                  ],
                  "source": [
                        "input_text1 = \"Hello, y'all!\"\n",
                        "input_text2 = \"How are you?\"\n",
                        "decoded_text = tokenizer.encode(input_text1, input_text2)\n",
                        "\n",
                        "print(decoded_text.tokens)"
                  ]
            },
            {
                  "cell_type": "markdown",
                  "metadata": {},
                  "source": [
                        "Se salvarmos o tokenizador agora, o tokenizador de postagem será salvo com ele."
                  ]
            },
            {
                  "cell_type": "markdown",
                  "metadata": {},
                  "source": [
                        "### Codificação"
                  ]
            },
            {
                  "cell_type": "markdown",
                  "metadata": {},
                  "source": [
                        "Depois de treinar o tokenizador, podemos usá-lo para tokenizar textos."
                  ]
            },
            {
                  "cell_type": "code",
                  "execution_count": 50,
                  "metadata": {},
                  "outputs": [],
                  "source": [
                        "input_text = \"I love tokenizers!\"\n",
                        "encoded_text = tokenizer.encode(input_text)"
                  ]
            },
            {
                  "cell_type": "markdown",
                  "metadata": {},
                  "source": [
                        "Vejamos o que obtemos ao tokenizar um texto"
                  ]
            },
            {
                  "cell_type": "code",
                  "execution_count": 51,
                  "metadata": {},
                  "outputs": [
                        {
                              "data": {
                                    "text/plain": [
                                          "tokenizers.Encoding"
                                    ]
                              },
                              "execution_count": 51,
                              "metadata": {},
                              "output_type": "execute_result"
                        }
                  ],
                  "source": [
                        "type(encoded_text)"
                  ]
            },
            {
                  "cell_type": "markdown",
                  "metadata": {},
                  "source": [
                        "Obtemos um objeto do tipo [Encoding](https://huggingface.co/docs/tokenizers/api/encoding#tokenizers.Encoding), contendo os tokens e os ids dos tokens."
                  ]
            },
            {
                  "cell_type": "markdown",
                  "metadata": {},
                  "source": [
                        "Os `ids` são os `id`s dos tokens no vocabulário do tokenizador."
                  ]
            },
            {
                  "cell_type": "code",
                  "execution_count": 52,
                  "metadata": {},
                  "outputs": [
                        {
                              "data": {
                                    "text/plain": [
                                          "[1, 17, 383, 10694, 17, 3533, 3, 586, 2]"
                                    ]
                              },
                              "execution_count": 52,
                              "metadata": {},
                              "output_type": "execute_result"
                        }
                  ],
                  "source": [
                        "encoded_text.ids"
                  ]
            },
            {
                  "cell_type": "markdown",
                  "metadata": {},
                  "source": [
                        "Tokens são os tokens aos quais os `ids` são equivalentes."
                  ]
            },
            {
                  "cell_type": "code",
                  "execution_count": 54,
                  "metadata": {},
                  "outputs": [
                        {
                              "data": {
                                    "text/plain": [
                                          "['[CLS]', 'i', 'love', 'token', 'i', 'zer', 's', '!', '[SEP]']"
                                    ]
                              },
                              "execution_count": 54,
                              "metadata": {},
                              "output_type": "execute_result"
                        }
                  ],
                  "source": [
                        "encoded_text.tokens"
                  ]
            },
            {
                  "cell_type": "markdown",
                  "metadata": {},
                  "source": [
                        "Se tivermos várias sequências, poderemos codificá-las todas de uma vez"
                  ]
            },
            {
                  "cell_type": "code",
                  "execution_count": 85,
                  "metadata": {},
                  "outputs": [
                        {
                              "name": "stdout",
                              "output_type": "stream",
                              "text": [
                                    "['[CLS]', 'hell', 'o', ',', 'y', \"'\", 'all', '!', '[SEP]', 'how', 'are', 'you', '?', '[SEP]']\n",
                                    "[1, 2215, 7, 5, 22, 26, 81, 586, 2, 98, 59, 213, 902, 2]\n",
                                    "[0, 0, 0, 0, 0, 0, 0, 0, 0, 1, 1, 1, 1, 1]\n"
                              ]
                        }
                  ],
                  "source": [
                        "encoded_texts = tokenizer.encode(input_text1, input_text2)\n",
                        "\n",
                        "print(encoded_texts.tokens)\n",
                        "print(encoded_texts.ids)\n",
                        "print(encoded_texts.type_ids)"
                  ]
            },
            {
                  "cell_type": "markdown",
                  "metadata": {},
                  "source": [
                        "No entanto, quando você tem várias sequências, é melhor usar o método `encode_batch`."
                  ]
            },
            {
                  "cell_type": "code",
                  "execution_count": 86,
                  "metadata": {},
                  "outputs": [
                        {
                              "data": {
                                    "text/plain": [
                                          "list"
                                    ]
                              },
                              "execution_count": 86,
                              "metadata": {},
                              "output_type": "execute_result"
                        }
                  ],
                  "source": [
                        "encoded_texts = tokenizer.encode_batch([input_text1, input_text2])\n",
                        "\n",
                        "type(encoded_texts)"
                  ]
            },
            {
                  "cell_type": "markdown",
                  "metadata": {},
                  "source": [
                        "Vemos que obtemos uma lista"
                  ]
            },
            {
                  "cell_type": "code",
                  "execution_count": 87,
                  "metadata": {},
                  "outputs": [
                        {
                              "name": "stdout",
                              "output_type": "stream",
                              "text": [
                                    "['[CLS]', 'hell', 'o', ',', 'y', \"'\", 'all', '!', '[SEP]']\n",
                                    "[1, 2215, 7, 5, 22, 26, 81, 586, 2]\n",
                                    "['[CLS]', 'how', 'are', 'you', '?', '[SEP]']\n",
                                    "[1, 98, 59, 213, 902, 2]\n"
                              ]
                        }
                  ],
                  "source": [
                        "print(encoded_texts[0].tokens)\n",
                        "print(encoded_texts[0].ids)\n",
                        "print(encoded_texts[1].tokens)\n",
                        "print(encoded_texts[1].ids)"
                  ]
            },
            {
                  "cell_type": "markdown",
                  "metadata": {},
                  "source": [
                        "### Decodificação"
                  ]
            },
            {
                  "cell_type": "markdown",
                  "metadata": {},
                  "source": [
                        "Além de codificar os textos de entrada, um Tokenizer também tem um método para decodificar, ou seja, converter os IDs gerados pelo seu modelo de volta para um texto. Isso é feito pelos métodos `Tokenizer.decode` (para um texto previsto) e `Tokenizer.decode_batch` (para um lote de previsões).\n",
                        "\n",
                        "Os tipos de decodificação que podem ser usados são:\n",
                        "\n",
                        "|Decodificación|Descripción|\n",
                        "|---|---|\n",
                        "|BPEDecoder|Revierte el modelo BPE|\n",
                        "|ByteLevel|Revierte el ByteLevel PreTokenizer. Este PreTokenizer codifica a nivel de byte, utilizando un conjunto de caracteres Unicode visibles para representar cada byte, por lo que necesitamos un Decoder para revertir este proceso y obtener algo legible de nuevo.|\n",
                        "|CTC|Revierte el modelo CTC|\n",
                        "|Metaspace|Revierte el PreTokenizer de Metaspace. Este PreTokenizer utiliza un identificador especial ▁ para identificar los espacios en blanco, por lo que este Decoder ayuda con la decodificación de estos.|\n",
                        "|WordPiece|Revierte el modelo WordPiece. Este modelo utiliza un identificador especial ## para las subpalabras continuas, por lo que este decodificador ayuda a decodificarlas.|\n",
                        "\n",
                        "O decodificador primeiro converterá os IDs em tokens (usando o vocabulário do tokenizador) e removerá todos os tokens especiais e, em seguida, juntará esses tokens com espaços em branco."
                  ]
            },
            {
                  "cell_type": "markdown",
                  "metadata": {},
                  "source": [
                        "Vamos criar um decodificador"
                  ]
            },
            {
                  "cell_type": "code",
                  "execution_count": 79,
                  "metadata": {},
                  "outputs": [],
                  "source": [
                        "from tokenizers import decoders\n",
                        "\n",
                        "decoder = decoders.ByteLevel()"
                  ]
            },
            {
                  "cell_type": "markdown",
                  "metadata": {},
                  "source": [
                        "Nós o adicionamos ao tokenizador"
                  ]
            },
            {
                  "cell_type": "code",
                  "execution_count": 80,
                  "metadata": {},
                  "outputs": [],
                  "source": [
                        "tokenizer.decoder = decoder"
                  ]
            },
            {
                  "cell_type": "markdown",
                  "metadata": {},
                  "source": [
                        "Nós decodificamos"
                  ]
            },
            {
                  "cell_type": "code",
                  "execution_count": 81,
                  "metadata": {},
                  "outputs": [
                        {
                              "data": {
                                    "text/plain": [
                                          "('I love tokenizers!', 'ilovetokenizers!')"
                                    ]
                              },
                              "execution_count": 81,
                              "metadata": {},
                              "output_type": "execute_result"
                        }
                  ],
                  "source": [
                        "decoded_text = tokenizer.decode(encoded_text.ids)\n",
                        "\n",
                        "input_text, decoded_text"
                  ]
            },
            {
                  "cell_type": "code",
                  "execution_count": 90,
                  "metadata": {},
                  "outputs": [
                        {
                              "name": "stdout",
                              "output_type": "stream",
                              "text": [
                                    "Hello, y'all! hello,y'all!\n",
                                    "How are you? howareyou?\n"
                              ]
                        }
                  ],
                  "source": [
                        "decoded_texts = tokenizer.decode_batch([encoded_texts[0].ids, encoded_texts[1].ids])\n",
                        "\n",
                        "print(input_text1, decoded_texts[0])\n",
                        "print(input_text2, decoded_texts[1])"
                  ]
            },
            {
                  "cell_type": "markdown",
                  "metadata": {},
                  "source": [
                        "## BERT tokenizer"
                  ]
            },
            {
                  "cell_type": "markdown",
                  "metadata": {},
                  "source": [
                        "Com tudo o que aprendemos, vamos criar o tokenizador BERT do zero. O Bert usa o `WordPiece` como modelo, então o passamos para o inicializador do tokenizador."
                  ]
            },
            {
                  "cell_type": "code",
                  "execution_count": 91,
                  "metadata": {},
                  "outputs": [],
                  "source": [
                        "from tokenizers import Tokenizer\n",
                        "from tokenizers.models import WordPiece\n",
                        "\n",
                        "bert_tokenizer = Tokenizer(WordPiece(unk_token=\"[UNK]\"))"
                  ]
            },
            {
                  "cell_type": "markdown",
                  "metadata": {},
                  "source": [
                        "O BERT pré-processa os textos removendo acentos e letras minúsculas. Também usamos um normalizador unicode"
                  ]
            },
            {
                  "cell_type": "code",
                  "execution_count": 92,
                  "metadata": {},
                  "outputs": [],
                  "source": [
                        "from tokenizers import normalizers\n",
                        "from tokenizers.normalizers import NFD, Lowercase, StripAccents\n",
                        "\n",
                        "bert_tokenizer.normalizer = normalizers.Sequence([NFD(), Lowercase(), StripAccents()])"
                  ]
            },
            {
                  "cell_type": "markdown",
                  "metadata": {},
                  "source": [
                        "O pretokenizador divide apenas espaços em branco e sinais de pontuação."
                  ]
            },
            {
                  "cell_type": "code",
                  "execution_count": 93,
                  "metadata": {},
                  "outputs": [],
                  "source": [
                        "from tokenizers.pre_tokenizers import Whitespace\n",
                        "\n",
                        "bert_tokenizer.pre_tokenizer = Whitespace()"
                  ]
            },
            {
                  "cell_type": "markdown",
                  "metadata": {},
                  "source": [
                        "E o pós-processamento usa o modelo que vimos na seção anterior"
                  ]
            },
            {
                  "cell_type": "code",
                  "execution_count": 94,
                  "metadata": {},
                  "outputs": [],
                  "source": [
                        "from tokenizers.processors import TemplateProcessing\n",
                        "\n",
                        "bert_tokenizer.post_processor = TemplateProcessing(\n",
                        "    single=\"[CLS] $A [SEP]\",\n",
                        "    pair=\"[CLS] $A [SEP] $B:1 [SEP]:1\",\n",
                        "    special_tokens=[\n",
                        "        (\"[CLS]\", 1),\n",
                        "        (\"[SEP]\", 2),\n",
                        "    ],\n",
                        ")"
                  ]
            },
            {
                  "cell_type": "markdown",
                  "metadata": {},
                  "source": [
                        "Treinamos o tokenizador com o conjunto de dados wikitext-103."
                  ]
            },
            {
                  "cell_type": "code",
                  "execution_count": 95,
                  "metadata": {},
                  "outputs": [],
                  "source": [
                        "from tokenizers.trainers import WordPieceTrainer\n",
                        "\n",
                        "trainer = WordPieceTrainer(vocab_size=30522, special_tokens=[\"[UNK]\", \"[CLS]\", \"[SEP]\", \"[PAD]\", \"[MASK]\"])"
                  ]
            },
            {
                  "cell_type": "code",
                  "execution_count": 96,
                  "metadata": {},
                  "outputs": [
                        {
                              "name": "stdout",
                              "output_type": "stream",
                              "text": [
                                    "\n",
                                    "\n",
                                    "\n"
                              ]
                        }
                  ],
                  "source": [
                        "files = [f\"wikitext-103/wiki.{split}.tokens\" for split in [\"test\", \"train\", \"valid\"]]\n",
                        "bert_tokenizer.train(files, trainer)"
                  ]
            },
            {
                  "cell_type": "markdown",
                  "metadata": {},
                  "source": [
                        "Agora vamos testá-lo"
                  ]
            },
            {
                  "cell_type": "code",
                  "execution_count": 97,
                  "metadata": {},
                  "outputs": [
                        {
                              "name": "stdout",
                              "output_type": "stream",
                              "text": [
                                    "El texto de entrada 'I love tokenizers!' se convierte en los tokens ['[CLS]', 'i', 'love', 'token', '##izers', '!', '[SEP]'], que tienen las ids [1, 51, 2867, 25791, 12213, 5, 2] y luego se decodifica como 'i love token ##izers !'\n"
                              ]
                        }
                  ],
                  "source": [
                        "input_text = \"I love tokenizers!\"\n",
                        "\n",
                        "encoded_text = bert_tokenizer.encode(input_text)\n",
                        "decoded_text = bert_tokenizer.decode(encoded_text.ids)\n",
                        "\n",
                        "print(f\"El texto de entrada '{input_text}' se convierte en los tokens {encoded_text.tokens}, que tienen las ids {encoded_text.ids} y luego se decodifica como '{decoded_text}'\")"
                  ]
            }
      ],
      "metadata": {
            "kernelspec": {
                  "display_name": "base",
                  "language": "python",
                  "name": "python3"
            },
            "language_info": {
                  "codemirror_mode": {
                        "name": "ipython",
                        "version": 3
                  },
                  "file_extension": ".py",
                  "mimetype": "text/x-python",
                  "name": "python",
                  "nbconvert_exporter": "python",
                  "pygments_lexer": "ipython3",
                  "version": "3.11.7"
            }
      },
      "nbformat": 4,
      "nbformat_minor": 2
}
