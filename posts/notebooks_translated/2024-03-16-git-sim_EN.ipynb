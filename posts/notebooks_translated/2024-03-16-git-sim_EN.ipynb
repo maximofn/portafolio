{
  "cells": [
  {
      "cell_type": "markdown",
      "metadata": {},
      "source": [
      "# Git-sim"
      ]
    },
{
      "cell_type": "markdown",
      "metadata": {},
      "source": [
      "Are you afraid to do a `git rebase`? Or a `git reset`? Or any other git command? Don't worry, because with `git-sim` you'll be able to see before you do it what's going to happen so you can make the right decision."
      ]
    },
{
      "cell_type": "markdown",
      "metadata": {},
      "source": [
      "This notebook has been automatically translated to make it accessible to more people, please let me know if you see any typos.\n",
"\n",
"## Installation\n",
"\n",
"To install `git-sim` we first need to install `manim`, which is a python library for making animations. For this we can install it with pip:\n",
"\n",
"````bash\n",
"pip install manim\n",
"```\n",
"\n",
"or with conda\n",
"\n",
"````bash\n",
"conda install -c conda-forge manim\n",
"```"
      ]
    },
{
      "cell_type": "markdown",
      "metadata": {},
      "source": [
      "Once `manim` is installed we can install `git-sim` with pip:\n",
"\n",
"````bash\n",
"pip install git-sim\n",
"```"
      ]
    },
{
      "cell_type": "markdown",
      "metadata": {},
      "source": [
      "## Use"
      ]
    },
{
      "cell_type": "markdown",
      "metadata": {},
      "source": [
      "Now that we have it installed we go to a repository and test any git command changing `git` for `git-sim`. For example, if in a repository of mine I do a `git-sim reset --hard HEAD~1` it will show me an animation of how the rebase would look like before doing it.\n",
"\n",
"![git-sim](http://maximofn.com/wp-content/uploads/2024/03/git-sim-scaled.webp)\n",
"\n",
"As we can see it is showing me that if I do `git reset --hard HEAD~1` it would go from commit `ae757a8` to commit `3754c64` and that it would also remove the changes in the files indicated in `Changes deleted from`."
      ]
    }
  ],
  "metadata": {
    "kernelspec": {
      "display_name": "nlp",
      "language": "python",
      "name": "python3"
    },
    "language_info": {
      "codemirror_mode": {
        "name": "ipython",
        "version": 3
      },
      "file_extension": ".py",
      "mimetype": "text/x-python",
      "name": "python",
      "nbconvert_exporter": "python",
      "pygments_lexer": "ipython3",
      "version": "3.11.5"
    }
  },
  "nbformat": 4,
  "nbformat_minor": 2
}
