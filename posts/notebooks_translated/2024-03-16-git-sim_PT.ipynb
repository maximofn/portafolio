{
      "cells": [
            {
                  "cell_type": "markdown",
                  "metadata": {},
                  "source": [
                        "# Git-sim"
                  ]
            },
            {
                  "cell_type": "markdown",
                  "metadata": {},
                  "source": [
                        "Você tem medo de fazer um `git rebase`? Ou um `git reset`? Ou qualquer outro comando do git? Não se preocupe, pois com o `git-sim` você poderá ver antes de fazer isso o que vai acontecer para que possa tomar a decisão"
                  ]
            },
            {
                  "cell_type": "markdown",
                  "metadata": {},
                  "source": [
                        "Este caderno foi traduzido automaticamente para torná-lo acessível a mais pessoas, por favor me avise se você vir algum erro de digitação..\n",
                        "\n",
                        "## Instalação\n",
                        "\n",
                        "Para instalar o `git-sim`, primeiro precisamos instalar o `manim`, que é uma biblioteca python para criar animações. Para isso, podemos instalá-la com o pip:\n",
                        "\n",
                        "```bash\n",
                        "pip install manim\n",
                        "```\n",
                        "\n",
                        "ou com conda\n",
                        "\n",
                        "```bash\n",
                        "conda install -c conda-forge manim\n",
                        "```"
                  ]
            },
            {
                  "cell_type": "markdown",
                  "metadata": {},
                  "source": [
                        "Depois que o `manim` estiver instalado, podemos instalar o `git-sim` com o pip:\n",
                        "\n",
                        "```bash\n",
                        "pip install git-sim\n",
                        "```"
                  ]
            },
            {
                  "cell_type": "markdown",
                  "metadata": {},
                  "source": [
                        "## Use"
                  ]
            },
            {
                  "cell_type": "markdown",
                  "metadata": {},
                  "source": [
                        "Agora que o instalamos, podemos ir a um repositório e testar qualquer comando git alterando `git` para `git-sim`. Por exemplo, se eu fizer um `git-sim reset --hard HEAD~1` em um repositório meu, ele mostrará uma animação de como seria o rebase antes de eu fazer isso.\n",
                        "\n",
                        "![git-sim](https://images.maximofn.com/git-sim-scaled.webp)\n",
                        "\n",
                        "Como podemos ver, ele está me mostrando que, se eu fizer `git reset --hard HEAD~1`, ele passará do commit `ae757a8` para o commit `3754c64` e também removerá as alterações nos arquivos indicados em `Changes deleted from`."
                  ]
            }
      ],
      "metadata": {
            "kernelspec": {
                  "display_name": "nlp",
                  "language": "python",
                  "name": "python3"
            },
            "language_info": {
                  "codemirror_mode": {
                        "name": "ipython",
                        "version": 3
                  },
                  "file_extension": ".py",
                  "mimetype": "text/x-python",
                  "name": "python",
                  "nbconvert_exporter": "python",
                  "pygments_lexer": "ipython3",
                  "version": "3.11.5"
            }
      },
      "nbformat": 4,
      "nbformat_minor": 2
}
