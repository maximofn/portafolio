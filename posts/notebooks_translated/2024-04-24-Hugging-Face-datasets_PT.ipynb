{
  "cells": [
  {
      "cell_type": "markdown",
      "metadata": {},
      "source": [
      "# Conjuntos de dados de rostos abraçados"
      ]
    },
{
      "cell_type": "markdown",
      "metadata": {},
      "source": [
      "A biblioteca Hugging Face `datasets` é uma biblioteca muito útil para trabalhar com conjuntos de dados, tanto com todos os conjuntos de dados no [hub] (https://huggingface.co/datasets) quanto com seus próprios conjuntos de dados."
      ]
    },
{
      "cell_type": "markdown",
      "metadata": {},
      "source": [
      "Este caderno foi traduzido automaticamente para torná-lo acessível a mais pessoas, por favor me avise se você vir algum erro de digitação..\n",
"\n",
"## Instalação"
      ]
    },
{
      "cell_type": "markdown",
      "metadata": {},
      "source": [
      "Para usar a biblioteca Hugging Face `datasets`, primeiro precisamos instalá-la com o pip\n",
"\n",
"``` bash\n",
"pip install datasets\n",
"```\n",
"\n",
"ou com conda\n",
"\n",
"``` bash\n",
"conda install -c huggingface -c conda-forge datasets\n",
"```"
      ]
    },
{
      "cell_type": "markdown",
      "metadata": {},
      "source": [
      "## Carregando um conjunto de dados do hub"
      ]
    },
{
      "cell_type": "markdown",
      "metadata": {},
      "source": [
      "O Hugging Face tem um [hub] (https://huggingface.co/datasets) com um grande número de conjuntos de dados, classificados por tarefas ou `tarefas`."
      ]
    },
{
      "cell_type": "markdown",
      "metadata": {},
      "source": [
      "### Obter informações sobre o conjunto de dados"
      ]
    },
{
      "cell_type": "markdown",
      "metadata": {},
      "source": [
      "Antes de fazer download de um conjunto de dados, é útil obter as informações dele. A melhor maneira é entrar no hub e visualizar suas informações, mas, se não for possível, você pode obter as informações carregando primeiro um gerador de conjunto de dados com a função `load_dataset_builder`, que não envolve download, e depois obtendo suas informações com o método `info`."
      ]
    },
{
      "cell_type": "code",
      "execution_count": 1,
      "metadata": {},
      "outputs": [
      {
          "data": {
            "text/plain": [
            "DatasetInfo(description='', citation='', homepage='', license='', features={'label': ClassLabel(names=['1 star', '2 star', '3 stars', '4 stars', '5 stars'], id=None), 'text': Value(dtype='string', id=None)}, post_processed=None, supervised_keys=None, task_templates=None, builder_name='parquet', dataset_name='yelp_review_full', config_name='yelp_review_full', version=0.0.0, splits={'train': SplitInfo(name='train', num_bytes=483811554, num_examples=650000, shard_lengths=None, dataset_name=None), 'test': SplitInfo(name='test', num_bytes=37271188, num_examples=50000, shard_lengths=None, dataset_name=None)}, download_checksums=None, download_size=322952369, post_processing_size=None, dataset_size=521082742, size_in_bytes=None)"
            ]
          },
          "execution_count": 1,
          "metadata": {},
          "output_type": "execute_result"
        }
      ],
      "source": [
      "from datasets import load_dataset_builder\n",
"\n",
"ds_builder = load_dataset_builder(\"yelp_review_full\")\n",
"info = ds_builder.info\n",
"info"
      ]
    },
{
      "cell_type": "markdown",
      "metadata": {},
      "source": [
      "Você pode ver, por exemplo, as classes"
      ]
    },
{
      "cell_type": "code",
      "execution_count": 2,
      "metadata": {},
      "outputs": [
      {
          "data": {
            "text/plain": [
            "{'label': ClassLabel(names=['1 star', '2 star', '3 stars', '4 stars', '5 stars'], id=None),\n",
" 'text': Value(dtype='string', id=None)}"
            ]
          },
          "execution_count": 2,
          "metadata": {},
          "output_type": "execute_result"
        }
      ],
      "source": [
      "info.features"
      ]
    },
{
      "cell_type": "markdown",
      "metadata": {},
      "source": [
      "### Download do conjunto de dados"
      ]
    },
{
      "cell_type": "markdown",
      "metadata": {},
      "source": [
      "Se estivermos satisfeitos com o conjunto de dados escolhido, poderemos baixá-lo com a função `load_dataset`."
      ]
    },
{
      "cell_type": "code",
      "execution_count": 4,
      "metadata": {},
      "outputs": [
      {
          "data": {
            "text/plain": [
            "DatasetDict({\n",
"    train: Dataset({\n",
"        features: ['label', 'text'],\n",
"        num_rows: 650000\n",
"    })\n",
"    test: Dataset({\n",
"        features: ['label', 'text'],\n",
"        num_rows: 50000\n",
"    })\n",
"})"
            ]
          },
          "execution_count": 4,
          "metadata": {},
          "output_type": "execute_result"
        }
      ],
      "source": [
      "from datasets import load_dataset\n",
"\n",
"ds = load_dataset(\"yelp_review_full\")\n",
"ds"
      ]
    },
{
      "cell_type": "markdown",
      "metadata": {},
      "source": [
      "### Divisões"
      ]
    },
{
      "cell_type": "markdown",
      "metadata": {},
      "source": [
      "Como você pode ver, quando fizemos o download do conjunto de dados, vimos que o conjunto `train` e o conjunto `test` foram baixados. Se quisermos saber quais conjuntos um conjunto de dados tem, podemos usar a função `get_dataset_split_names`."
      ]
    },
{
      "cell_type": "code",
      "execution_count": 6,
      "metadata": {},
      "outputs": [
      {
          "data": {
            "text/plain": [
            "['train', 'test']"
            ]
          },
          "execution_count": 6,
          "metadata": {},
          "output_type": "execute_result"
        }
      ],
      "source": [
      "from datasets import get_dataset_split_names\n",
"\n",
"split_names = get_dataset_split_names(\"yelp_review_full\")\n",
"split_names"
      ]
    },
{
      "cell_type": "markdown",
      "metadata": {},
      "source": [
      "Há conjuntos de dados que também têm um conjunto de \"validação\"."
      ]
    },
{
      "cell_type": "code",
      "execution_count": 7,
      "metadata": {},
      "outputs": [
      {
          "data": {
            "text/plain": [
            "['train', 'validation', 'test']"
            ]
          },
          "execution_count": 7,
          "metadata": {},
          "output_type": "execute_result"
        }
      ],
      "source": [
      "from datasets import get_dataset_split_names\n",
"\n",
"split_names = get_dataset_split_names(\"rotten_tomatoes\")\n",
"split_names"
      ]
    },
{
      "cell_type": "markdown",
      "metadata": {},
      "source": [
      "Como os conjuntos de dados têm conjuntos de dados, podemos fazer download de apenas um deles com o argumento `split`."
      ]
    },
{
      "cell_type": "code",
      "execution_count": 8,
      "metadata": {},
      "outputs": [
      {
          "data": {
            "text/plain": [
            "Dataset({\n",
"    features: ['label', 'text'],\n",
"    num_rows: 650000\n",
"})"
            ]
          },
          "execution_count": 8,
          "metadata": {},
          "output_type": "execute_result"
        }
      ],
      "source": [
      "from datasets import load_dataset\n",
"\n",
"ds = load_dataset(\"yelp_review_full\", split=\"train\")\n",
"ds"
      ]
    },
{
      "cell_type": "markdown",
      "metadata": {},
      "source": [
      "### Configurações"
      ]
    },
{
      "cell_type": "markdown",
      "metadata": {},
      "source": [
      "Alguns conjuntos de dados têm subconjuntos de conjuntos de dados. Para ver os subconjuntos de um conjunto de dados, podemos usar a função `get_dataset_config_names`."
      ]
    },
{
      "cell_type": "code",
      "execution_count": 14,
      "metadata": {},
      "outputs": [
      {
          "data": {
            "text/plain": [
            "['af-en',\n",
" 'am-en',\n",
" 'an-en',\n",
" 'ar-de',\n",
" 'ar-en',\n",
" 'ar-fr',\n",
" 'ar-nl',\n",
" 'ar-ru',\n",
" 'ar-zh',\n",
" 'as-en',\n",
" 'az-en',\n",
" 'be-en',\n",
" 'bg-en',\n",
" 'bn-en',\n",
" 'br-en',\n",
" 'bs-en',\n",
" 'ca-en',\n",
" 'cs-en',\n",
" 'cy-en',\n",
" 'da-en',\n",
" 'de-en',\n",
" 'de-fr',\n",
" 'de-nl',\n",
" 'de-ru',\n",
" 'de-zh',\n",
" 'dz-en',\n",
" 'el-en',\n",
" 'en-eo',\n",
" 'en-es',\n",
" 'en-et',\n",
" 'en-eu',\n",
" 'en-fa',\n",
" 'en-fi',\n",
" 'en-fr',\n",
" 'en-fy',\n",
" 'en-ga',\n",
" 'en-gd',\n",
" 'en-gl',\n",
" 'en-gu',\n",
" 'en-ha',\n",
" 'en-he',\n",
" 'en-hi',\n",
" 'en-hr',\n",
" 'en-hu',\n",
" 'en-hy',\n",
" 'en-id',\n",
" 'en-ig',\n",
" 'en-is',\n",
" 'en-it',\n",
" 'en-ja',\n",
" 'en-ka',\n",
" 'en-kk',\n",
" 'en-km',\n",
" 'en-kn',\n",
" 'en-ko',\n",
" 'en-ku',\n",
" 'en-ky',\n",
" 'en-li',\n",
" 'en-lt',\n",
" 'en-lv',\n",
" 'en-mg',\n",
" 'en-mk',\n",
" 'en-ml',\n",
" 'en-mn',\n",
" 'en-mr',\n",
" 'en-ms',\n",
" 'en-mt',\n",
" 'en-my',\n",
" 'en-nb',\n",
" 'en-ne',\n",
" 'en-nl',\n",
" 'en-nn',\n",
" 'en-no',\n",
" 'en-oc',\n",
" 'en-or',\n",
" 'en-pa',\n",
" 'en-pl',\n",
" 'en-ps',\n",
" 'en-pt',\n",
" 'en-ro',\n",
" 'en-ru',\n",
" 'en-rw',\n",
" 'en-se',\n",
" 'en-sh',\n",
" 'en-si',\n",
" 'en-sk',\n",
" 'en-sl',\n",
" 'en-sq',\n",
" 'en-sr',\n",
" 'en-sv',\n",
" 'en-ta',\n",
" 'en-te',\n",
" 'en-tg',\n",
" 'en-th',\n",
" 'en-tk',\n",
" 'en-tr',\n",
" 'en-tt',\n",
" 'en-ug',\n",
" 'en-uk',\n",
" 'en-ur',\n",
" 'en-uz',\n",
" 'en-vi',\n",
" 'en-wa',\n",
" 'en-xh',\n",
" 'en-yi',\n",
" 'en-yo',\n",
" 'en-zh',\n",
" 'en-zu',\n",
" 'fr-nl',\n",
" 'fr-ru',\n",
" 'fr-zh',\n",
" 'nl-ru',\n",
" 'nl-zh',\n",
" 'ru-zh']"
            ]
          },
          "execution_count": 14,
          "metadata": {},
          "output_type": "execute_result"
        }
      ],
      "source": [
      "from datasets import get_dataset_config_names\n",
"\n",
"configs = get_dataset_config_names(\"opus100\")\n",
"configs"
      ]
    },
{
      "cell_type": "markdown",
      "metadata": {},
      "source": [
      "Esse conjunto de dados tem subconjuntos de traduções de um idioma para outro."
      ]
    },
{
      "cell_type": "markdown",
      "metadata": {},
      "source": [
      "Se você quiser baixar apenas um subconjunto de um conjunto de dados, basta especificá-lo."
      ]
    },
{
      "cell_type": "code",
      "execution_count": 2,
      "metadata": {},
      "outputs": [
      {
          "data": {
            "text/plain": [
            "DatasetDict({\n",
"    test: Dataset({\n",
"        features: ['translation'],\n",
"        num_rows: 2000\n",
"    })\n",
"    train: Dataset({\n",
"        features: ['translation'],\n",
"        num_rows: 1000000\n",
"    })\n",
"    validation: Dataset({\n",
"        features: ['translation'],\n",
"        num_rows: 2000\n",
"    })\n",
"})"
            ]
          },
          "execution_count": 2,
          "metadata": {},
          "output_type": "execute_result"
        }
      ],
      "source": [
      "from datasets import load_dataset\n",
"\n",
"opus100en_es = load_dataset(\"opus100\", \"en-es\")\n",
"opus100en_es"
      ]
    },
{
      "cell_type": "markdown",
      "metadata": {},
      "source": [
      "### Código remoto"
      ]
    },
{
      "cell_type": "markdown",
      "metadata": {},
      "source": [
      "Todos os arquivos e códigos carregados no Hub são verificados quanto a malware, um script é executado para verificá-los. Mas se você quiser fazer o download mais rápido sem a execução do script, deverá definir o parâmetro `trust_remote_code=True`. Isso só é aconselhável em um conjunto de dados em que você confia ou se quiser fazer a verificação por conta própria."
      ]
    },
{
      "cell_type": "code",
      "execution_count": 4,
      "metadata": {},
      "outputs": [
      {
          "data": {
            "text/plain": [
            "DatasetDict({\n",
"    test: Dataset({\n",
"        features: ['translation'],\n",
"        num_rows: 2000\n",
"    })\n",
"    train: Dataset({\n",
"        features: ['translation'],\n",
"        num_rows: 1000000\n",
"    })\n",
"    validation: Dataset({\n",
"        features: ['translation'],\n",
"        num_rows: 2000\n",
"    })\n",
"})"
            ]
          },
          "execution_count": 4,
          "metadata": {},
          "output_type": "execute_result"
        }
      ],
      "source": [
      "from datasets import load_dataset\n",
"\n",
"opus100 = load_dataset(\"opus100\", \"en-es\", trust_remote_code=True)\n",
"opus100"
      ]
    },
{
      "cell_type": "markdown",
      "metadata": {},
      "source": [
      "## Conhecendo os conjuntos de dados"
      ]
    },
{
      "cell_type": "markdown",
      "metadata": {},
      "source": [
      "No hugging face, há dois conjuntos de dados: conjuntos de dados normais e conjuntos de dados iteráveis, que são conjuntos de dados que não precisam ser carregados como um todo. Isso significa que, suponhamos que você tenha um conjunto de dados tão grande que não caiba na memória do disco, com um conjunto de dados iterável você não precisa descarregar todo o conjunto de dados, pois descarregará as partes à medida que precisar delas."
      ]
    },
{
      "cell_type": "markdown",
      "metadata": {},
      "source": [
      "### Conjuntos de dados normais"
      ]
    },
{
      "cell_type": "markdown",
      "metadata": {},
      "source": [
      "Como o nome sugere, há muitos dados em um conjunto de dados, portanto, podemos fazer uma indexação"
      ]
    },
{
      "cell_type": "code",
      "execution_count": 8,
      "metadata": {},
      "outputs": [],
      "source": [
      "from datasets import load_dataset\n",
"\n",
"opus100 = load_dataset(\"opus100\", \"en-es\", split=\"train\")"
      ]
    },
{
      "cell_type": "code",
      "execution_count": 9,
      "metadata": {},
      "outputs": [
      {
          "data": {
            "text/plain": [
            "{'translation': {'en': \"I'm out of here.\", 'es': 'Me voy de aquí.'}}"
            ]
          },
          "execution_count": 9,
          "metadata": {},
          "output_type": "execute_result"
        }
      ],
      "source": [
      "opus100[1]"
      ]
    },
{
      "cell_type": "code",
      "execution_count": 10,
      "metadata": {},
      "outputs": [
      {
          "data": {
            "text/plain": [
            "{'translation': [{'en': \"I'm out of here.\", 'es': 'Me voy de aquí.'},\n",
"  {'en': 'One time, I swear I pooped out a stick of chalk.',\n",
"   'es': 'Una vez, juro que cagué una barra de tiza.'},\n",
"  {'en': 'And I will move, do you understand me?',\n",
"   'es': 'Y prefiero mudarme, ¿Entiendes?'},\n",
"  {'en': '- Thank you, my lord.', 'es': '- Gracias.'},\n",
"  {'en': 'You have to help me.', 'es': 'Debes ayudarme.'},\n",
"  {'en': 'Fuck this!', 'es': '¡Por la mierda!'},\n",
"  {'en': 'The safety and efficacy of MIRCERA therapy in other indications has not been established.',\n",
"   'es': 'No se ha establecido la seguridad y eficacia del tratamiento con MIRCERA en otras indicaciones.'},\n",
"  {'en': 'You can stay if you want.',\n",
"   'es': 'Así lo decidí, pueden quedarse si quieren.'},\n",
"  {'en': \"Of course, when I say 'translating an idiom,' I do not mean literal translation, rather an equivalent idiomatic expression in the target language, or any other means to convey the meaning.\",\n",
"   'es': \"Por supuesto, cuando digo 'traducir un idioma', no me refiero a la traducción literal, más bien a una expresión equivalente idiomática de la lengua final, o cualquier otro medio para transmitir el significado.\"}]}"
            ]
          },
          "execution_count": 10,
          "metadata": {},
          "output_type": "execute_result"
        }
      ],
      "source": [
      "opus100[1:10]"
      ]
    },
{
      "cell_type": "markdown",
      "metadata": {},
      "source": [
      "É importante observar que fizemos o download do conjunto de dados `train`, pois se tivéssemos feito o download de tudo, receberíamos um erro."
      ]
    },
{
      "cell_type": "code",
      "execution_count": 11,
      "metadata": {},
      "outputs": [],
      "source": [
      "from datasets import load_dataset\n",
"\n",
"opus100_all = load_dataset(\"opus100\", \"en-es\")"
      ]
    },
{
      "cell_type": "code",
      "execution_count": 12,
      "metadata": {},
      "outputs": [
      {
          "ename": "KeyError",
          "evalue": "\"Invalid key: 1. Please first select a split. For example: `my_dataset_dictionary['train'][1]`. Available splits: ['test', 'train', 'validation']\"",
          "output_type": "error",
          "traceback": [
          "\u001b[0;31m---------------------------------------------------------------------------\u001b[0m",
"\u001b[0;31mKeyError\u001b[0m                                  Traceback (most recent call last)",
"Cell \u001b[0;32mIn[12], line 1\u001b[0m\n\u001b[0;32m----> 1\u001b[0m opus100_all[\u001b[38;5;241m1\u001b[39m]\n",
"File \u001b[0;32m~/miniconda3/envs/nlp/lib/python3.11/site-packages/datasets/dataset_dict.py:80\u001b[0m, in \u001b[0;36mDatasetDict.__getitem__\u001b[0;34m(self, k)\u001b[0m\n\u001b[1;32m     76\u001b[0m available_suggested_splits \u001b[38;5;241m=\u001b[39m [\n\u001b[1;32m     77\u001b[0m     split \u001b[38;5;28;01mfor\u001b[39;00m split \u001b[38;5;129;01min\u001b[39;00m (Split\u001b[38;5;241m.\u001b[39mTRAIN, Split\u001b[38;5;241m.\u001b[39mTEST, Split\u001b[38;5;241m.\u001b[39mVALIDATION) \u001b[38;5;28;01mif\u001b[39;00m split \u001b[38;5;129;01min\u001b[39;00m \u001b[38;5;28mself\u001b[39m\n\u001b[1;32m     78\u001b[0m ]\n\u001b[1;32m     79\u001b[0m suggested_split \u001b[38;5;241m=\u001b[39m available_suggested_splits[\u001b[38;5;241m0\u001b[39m] \u001b[38;5;28;01mif\u001b[39;00m available_suggested_splits \u001b[38;5;28;01melse\u001b[39;00m \u001b[38;5;28mlist\u001b[39m(\u001b[38;5;28mself\u001b[39m)[\u001b[38;5;241m0\u001b[39m]\n\u001b[0;32m---> 80\u001b[0m \u001b[38;5;28;01mraise\u001b[39;00m \u001b[38;5;167;01mKeyError\u001b[39;00m(\n\u001b[1;32m     81\u001b[0m     \u001b[38;5;124mf\u001b[39m\u001b[38;5;124m\"\u001b[39m\u001b[38;5;124mInvalid key: \u001b[39m\u001b[38;5;132;01m{\u001b[39;00mk\u001b[38;5;132;01m}\u001b[39;00m\u001b[38;5;124m. Please first select a split. For example: \u001b[39m\u001b[38;5;124m\"\u001b[39m\n\u001b[1;32m     82\u001b[0m     \u001b[38;5;124mf\u001b[39m\u001b[38;5;124m\"\u001b[39m\u001b[38;5;124m`my_dataset_dictionary[\u001b[39m\u001b[38;5;124m'\u001b[39m\u001b[38;5;132;01m{\u001b[39;00msuggested_split\u001b[38;5;132;01m}\u001b[39;00m\u001b[38;5;124m'\u001b[39m\u001b[38;5;124m][\u001b[39m\u001b[38;5;132;01m{\u001b[39;00mk\u001b[38;5;132;01m}\u001b[39;00m\u001b[38;5;124m]`. \u001b[39m\u001b[38;5;124m\"\u001b[39m\n\u001b[1;32m     83\u001b[0m     \u001b[38;5;124mf\u001b[39m\u001b[38;5;124m\"\u001b[39m\u001b[38;5;124mAvailable splits: \u001b[39m\u001b[38;5;132;01m{\u001b[39;00m\u001b[38;5;28msorted\u001b[39m(\u001b[38;5;28mself\u001b[39m)\u001b[38;5;132;01m}\u001b[39;00m\u001b[38;5;124m\"\u001b[39m\n\u001b[1;32m     84\u001b[0m )\n",
"\u001b[0;31mKeyError\u001b[0m: \"Invalid key: 1. Please first select a split. For example: `my_dataset_dictionary['train'][1]`. Available splits: ['test', 'train', 'validation']\""
          ]
        }
      ],
      "source": [
      "opus100_all[1]"
      ]
    },
{
      "cell_type": "markdown",
      "metadata": {},
      "source": [
      "Como podemos ver, ele nos diz que primeiro temos que escolher uma divisão, portanto, nesse caso em que baixamos tudo, isso deveria ter sido feito da seguinte forma"
      ]
    },
{
      "cell_type": "code",
      "execution_count": 13,
      "metadata": {},
      "outputs": [
      {
          "data": {
            "text/plain": [
            "{'translation': {'en': \"I'm out of here.\", 'es': 'Me voy de aquí.'}}"
            ]
          },
          "execution_count": 13,
          "metadata": {},
          "output_type": "execute_result"
        }
      ],
      "source": [
      "opus100_all[\"train\"][1]"
      ]
    },
{
      "cell_type": "markdown",
      "metadata": {},
      "source": [
      "Também podemos indexar por alguns dos recursos, mas primeiro vamos ver quais são eles."
      ]
    },
{
      "cell_type": "code",
      "execution_count": 15,
      "metadata": {},
      "outputs": [
      {
          "data": {
            "text/plain": [
            "{'translation': Translation(languages=['en', 'es'], id=None)}"
            ]
          },
          "execution_count": 15,
          "metadata": {},
          "output_type": "execute_result"
        }
      ],
      "source": [
      "features = opus100.features\n",
"features"
      ]
    },
{
      "cell_type": "markdown",
      "metadata": {},
      "source": [
      "Vemos que se trata de \"tradução\"."
      ]
    },
{
      "cell_type": "code",
      "execution_count": 16,
      "metadata": {},
      "outputs": [
      {
          "data": {
            "text/plain": [
            "[{'en': \"It was the asbestos in here, that's what did it!\",\n",
"  'es': 'Fueron los asbestos aquí. ¡Eso es lo que ocurrió!'},\n",
" {'en': \"I'm out of here.\", 'es': 'Me voy de aquí.'},\n",
" {'en': 'One time, I swear I pooped out a stick of chalk.',\n",
"  'es': 'Una vez, juro que cagué una barra de tiza.'},\n",
" {'en': 'And I will move, do you understand me?',\n",
"  'es': 'Y prefiero mudarme, ¿Entiendes?'},\n",
" {'en': '- Thank you, my lord.', 'es': '- Gracias.'},\n",
" {'en': 'You have to help me.', 'es': 'Debes ayudarme.'},\n",
" {'en': 'Fuck this!', 'es': '¡Por la mierda!'},\n",
" {'en': 'The safety and efficacy of MIRCERA therapy in other indications has not been established.',\n",
"  'es': 'No se ha establecido la seguridad y eficacia del tratamiento con MIRCERA en otras indicaciones.'},\n",
" {'en': 'You can stay if you want.',\n",
"  'es': 'Así lo decidí, pueden quedarse si quieren.'},\n",
" {'en': \"Of course, when I say 'translating an idiom,' I do not mean literal translation, rather an equivalent idiomatic expression in the target language, or any other means to convey the meaning.\",\n",
"  'es': \"Por supuesto, cuando digo 'traducir un idioma', no me refiero a la traducción literal, más bien a una expresión equivalente idiomática de la lengua final, o cualquier otro medio para transmitir el significado.\"},\n",
" {'en': 'Norman.', 'es': 'Norman.'},\n",
" {'en': \"- I'm not stupid.\", 'es': '- Yo no soy estúpido.'},\n",
" {'en': 'Sorry, a weird gas bubble for a sec.',\n",
"  'es': 'Perdón, he tenido una burbuja de gas extraño un momentito'},\n",
" {'en': \"It's uncomplicated.\", 'es': 'Es algo sin complicaciones.'},\n",
" {'en': 'No!', 'es': '¡No!'},\n",
" {'en': 'No.', 'es': 'No.'},\n",
" {'en': 'in paragraph 2, the first subparagraph is replaced by the following:',\n",
"  'es': 'en el apartado 2, el párrafo primero se sustituye por el texto siguiente:'},\n",
" {'en': \"- Mm. I'll tell you something my father told me.\",\n",
"  'es': 'Te diré algo que me dijo mi padre.'},\n",
" {'en': \"Good night, ma'am.\",\n",
"  'es': 'Esta tarde,hubo conciertos en las ciudades ocupadas.'},\n",
" {'en': 'http://www.vodniraj.cz/bazen.asp', 'es': 'http://www.madeira.ji.cz/'},\n",
" {'en': 'What?', 'es': '¿Qué?'},\n",
" {'en': \"- I'm afraid so.\", 'es': 'Eso me temo.'},\n",
" {'en': '- Come on.', 'es': '- Vamos.'},\n",
" {'en': 'Now pivot as you deliver the stroke.',\n",
"  'es': 'Ahora gira mientras propinas el golpe.'},\n",
" {'en': \"I'm sorry.\", 'es': 'Lo siento.'},\n",
" {'en': 'No!', 'es': '¡No!'},\n",
" {'en': 'Of course.', 'es': 'Por supuesto.'},\n",
" {'en': \"You know it's true.\", 'es': 'Sabes que es verdad.'},\n",
" {'en': 'Good to see you.', 'es': 'Me alegro de verte.'},\n",
" {'en': \"- We don't know that.\", 'es': '- No lo sabemos.'},\n",
" {'en': 'Why are you late?', 'es': '¿Por qué vienes tarde?'},\n",
" {'en': '- All right.', 'es': '- De acuerdo.'},\n",
" {'en': 'I want answers.', 'es': 'Quiero respuestas.'},\n",
" {'en': 'I am quite certain.', 'es': 'Estoy bastante seguro.'},\n",
" {'en': 'Hey, Johnny.', 'es': 'Hola, Johnny.'},\n",
" {'en': \"No, it's OK.\", 'es': 'No pasa nada.'},\n",
" {'en': 'I...', 'es': 'Ya...'},\n",
" {'en': 'No dad.', 'es': 'No papá.'},\n",
" {'en': 'Someone betrayed me.', 'es': 'Alguien me la jugó'},\n",
" {'en': 'I, um...', 'es': 'Yo...'},\n",
" {'en': 'I did.', 'es': 'Sí.'},\n",
" {'en': \"It's only for one night.\", 'es': 'Es sólo por una noche.'},\n",
" {'en': 'C95-132/I95-143 C95-132/I95-143',\n",
"  'es': 'C95-132/ I95-143 C95-132/ I95-143'},\n",
" {'en': \"It's me.\", 'es': 'Soy yo.'},\n",
" {'en': \"No, I don't want any lessons from some up-north stranger.\",\n",
"  'es': 'No, yo no recibo lecciones... de un extranjero venido del norte.'},\n",
" {'en': 'Well, what are we gonna do?', 'es': '- Bueno, ¿qué vamos a hacer?'},\n",
" {'en': 'Always.', 'es': 'Siempre.'},\n",
" {'en': 'And then...', 'es': 'Y luego ...'},\n",
" {'en': 'Three million.', 'es': '- Tres millones.'},\n",
" {'en': '- Oh, have fun scrubbing my boxers.', 'es': '- ¿Qué?'},\n",
" {'en': 'Prepare yourself!', 'es': '¡Seif!'},\n",
" {'en': '- Tom?', 'es': '- ¿Tom?'},\n",
" {'en': 'That was beautiful.', 'es': 'Eso ha sido precioso.'},\n",
" {'en': \"It's fine.\", 'es': 'No pasa nada.'},\n",
" {'en': 'Evil.', 'es': 'El mal.'},\n",
" {'en': \"It's business.\", 'es': 'Son los negocios.'},\n",
" {'en': '3.', 'es': '3 .'},\n",
" {'en': 'Go for it.', 'es': 'Adelante.'},\n",
" {'en': 'Coursework?', 'es': 'Tarea?'},\n",
" {'en': 'No, stop!', 'es': 'No.'},\n",
" {'en': 'You were there?', 'es': '¿Estuvo allí?'},\n",
" {'en': \"If I wasn't, you wouldn't like me.\",\n",
"  'es': 'Si no lo fuera, no te gustaría.'},\n",
" {'en': '- I would love that.', 'es': '- Me encantaría.'},\n",
" {'en': 'Put the weapon down.', 'es': '- Arroje el arma.'},\n",
" {'en': \"That's all I got.\", 'es': 'Eso es todo lo que tengo.'},\n",
" {'en': 'Hotchner.', 'es': 'Hotchner.'},\n",
" {'en': 'Get out of my face.', 'es': 'Vete de mi vista.'},\n",
" {'en': 'I wish...', 'es': 'Tal vez...'},\n",
" {'en': 'Sire.', 'es': 'Sire.'},\n",
" {'en': 'I got nothing to say.', 'es': 'No tengo nada que decir.'},\n",
" {'en': 'You go.', 'es': 'Tú hazlo.'},\n",
" {'en': '2 weeks.', 'es': '2 semanas'},\n",
" {'en': 'You got the wrong guy!', 'es': '¡Se equivocan de hombre!'},\n",
" {'en': 'What will he choose, ladies and gentlemen?',\n",
"  'es': '¿Qué elegirá, damas y caballeros?'},\n",
" {'en': \"It doesn't have to be.\", 'es': 'No tiene por qué serlo.'},\n",
" {'en': '-Perfect.', 'es': 'Perfecto.'},\n",
" {'en': 'Hey.', 'es': 'Hey.'},\n",
" {'en': 'While you are in the chart, clicking with the & RMB; will bring the & kchart; settings menu which allows you to modify the parameters of the chart. Please see the & kchart; user manual to get more information on how to use & kchart;.',\n",
"  'es': 'Cuando esté en la gráfica, al hacer clic con el & RMB; aparecerá el menú de opciones de & kchart;, que permite modificar los parámetros de la gráfica. Puede consultar el manual de usuario de & kchart; para acceder a la información relativa al uso de & kchart;.'},\n",
" {'en': 'Enough!', 'es': '¡Ya basta!'},\n",
" {'en': 'Eritrea', 'es': 'Eritrea'},\n",
" {'en': '- All right!', 'es': '- ¡Sí!'},\n",
" {'en': 'Address European Development Centre, 3 Milton Park, Abingdon, Oxon OX14 4RN, United Kingdom',\n",
"  'es': 'Dirección European Development Centre, 3 Milton Park, Abingdon, Oxon OX14 4RN, Reino Unido'},\n",
" {'en': '- Yes?', 'es': '- ¿Si?'},\n",
" {'en': 'Having regard to the Treaty establishing the European Community,',\n",
"  'es': 'Visto el Tratado constitutivo de la Comunidad Europea,'},\n",
" {'en': '- Okay.', 'es': 'Está bien.'},\n",
" {'en': '- Is that a fact?', 'es': '- ¿No me diga?'},\n",
" {'en': 'Anything to stop you taking off?',\n",
"  'es': 'Cualquier cosa para detener se aparta ?'},\n",
" {'en': 'I chose you.', 'es': 'Te elegí a ti.'},\n",
" {'en': '- Hi there.', 'es': '- Hola.'},\n",
" {'en': 'Are you angry with me?', 'es': '¿Estás enfadado conmigo?'},\n",
" {'en': 'Dad!', 'es': '¡Papá!'},\n",
" {'en': 'No!', 'es': '¡No!'},\n",
" {'en': 'I told you.', 'es': 'Se lo dije.'},\n",
" {'en': 'Sleeping?', 'es': 'Durmiendo.'},\n",
" {'en': '- I am.', 'es': '- Sí.'},\n",
" {'en': 'Come with me.', 'es': 'Ven conmigo.'},\n",
" {'en': 'Regular regular.', 'es': 'Normal, tirando a regular.'},\n",
" {'en': \"I'm trying to narrow it down.\", 'es': 'Estoy tratando de reducirlo.'},\n",
" {'en': 'One life is just the blink of an eye.',\n",
"  'es': 'Una vida es sólo un parpadeo.'},\n",
" {'en': 'Excuse me.', 'es': 'Disculpe.'},\n",
" {'en': 'And I think we should get a drink.',\n",
"  'es': 'Y creo que hay que conseguir un trago.'},\n",
" {'en': '- Is this it?', 'es': '- ¿Es aquí?'},\n",
" {'en': 'Okay, okay!', 'es': '¡Está bien, está bien!'},\n",
" {'en': 'Show both', 'es': 'Mostrar ambos'},\n",
" {'en': \"The whole presence of the Devil, the tails and the horns, that must've been quite disrupting.\",\n",
"  'es': 'La simple presencia del diablo, la cola y los cuernos, debe haber sido bastante perturbador.'},\n",
" {'en': 'Oh, yeah.', 'es': 'Sí.'},\n",
" {'en': \"It's not to everybody's taste.\",\n",
"  'es': 'No es para el gusto de cualquiera.'},\n",
" {'en': \"Blackie don't like nobody to walk out of a game.\",\n",
"  'es': 'A Blackie no le agrada que alguien se retire de una partida.'},\n",
" {'en': 'Hi, Jake.', 'es': 'Hola, Jake.'},\n",
" {'en': 'Thank you. Thank you.', 'es': 'Gracias'},\n",
" {'en': 'Time periods indicated include presentations and discussion.',\n",
"  'es': 'Time periods indicated include presentations and discussion.'},\n",
" {'en': 'Let me handle this.', 'es': 'Dejame manejar esto.'},\n",
" {'en': '- Which I give unopened to my PR man.',\n",
"  'es': '- Que se la doy a mi relacionista público.'},\n",
" {'en': 'Oh, yeah?', 'es': '¿Ah, sí?'},\n",
" {'en': \"We're in the middle of a goddamn minefield!\",\n",
"  'es': '¡Estamos en medio de un maldito campo minado!'},\n",
" {'en': 'Use that big brain of yours to think your way out.',\n",
"  'es': 'Usa tu cerebro de genio para pensar una salida.'},\n",
" {'en': 'Take it.', 'es': 'Quédesela.'},\n",
" {'en': \"That's a beautiful name.\", 'es': 'Es un bonito nombre.'},\n",
" {'en': 'Not you, trooper.', 'es': 'Tú no, soldado.'},\n",
" {'en': 'I am.', 'es': '- Sí, sí.'},\n",
" {'en': 'Get on the ground!', 'es': '¡Al suelo!'},\n",
" {'en': 'I can wait.', 'es': 'Puedo esperar.'},\n",
" {'en': 'Forget it.', 'es': 'Olvídadlo. No importa.'},\n",
" {'en': '27/06/2014', 'es': '19/11/2014'},\n",
" {'en': \"That's what they said.\", 'es': 'Es lo que han dicho.'},\n",
" {'en': 'I only assumed you would not waste excessive coin towards them.',\n",
"  'es': 'Solo asumo que no deberías desperdiciar una gran cantidad de monedas en ellos.'},\n",
" {'en': \"- Oh, that's too bad.\", 'es': '- Qué pena.'},\n",
" {'en': 'As a family?', 'es': '¿Como familia?'},\n",
" {'en': 'Oh, jeez.', 'es': '- Ya viene el bebé.'},\n",
" {'en': 'Dating a junior?', 'es': '¿Saliendo con una niña?'},\n",
" {'en': 'Whoever did it only arrived in town last night.',\n",
"  'es': 'Porque quien lo hizo llegó a la ciudad anoche.'},\n",
" {'en': 'They came for you.', 'es': 'Vienen por ti.'},\n",
" {'en': '[Laughter]', 'es': '[Risa]'},\n",
" {'en': 'Look at this.', 'es': 'Mira esto.'},\n",
" {'en': 'He looks happy.', 'es': '- Parece feliz.'},\n",
" {'en': 'Is Tahiti better than this place?',\n",
"  'es': '¿Es mejor Tahití que esto?'},\n",
" {'en': '- Thank you, baby.', 'es': '- Gracias, cariño.'},\n",
" {'en': 'Looters.', 'es': 'Saqueadores.'},\n",
" {'en': 'Anybody here?', 'es': '¿ Hay alguien aquí?'},\n",
" {'en': '- Oh, man!', 'es': '- ¡Hombre!'},\n",
" {'en': 'Oh, yeah.', 'es': 'Sí.'},\n",
" {'en': 'Protests in Dhaka.', 'es': 'Protestas en Daca.'},\n",
" {'en': '- It is?', 'es': '- Lo es?'},\n",
" {'en': '- Sorry to interrupt.', 'es': '- Perdón por interrumpir.'},\n",
" {'en': 'Can I have one?', 'es': '¿Puedo fumar uno?'},\n",
" {'en': 'What is this?', 'es': '¿Qué es esto?'},\n",
" {'en': 'Not right now.', 'es': 'Ahora no.'},\n",
" {'en': 'Trust me.', 'es': 'Confía en mí.'},\n",
" {'en': 'Fuck.', 'es': 'Maldición.'},\n",
" {'en': 'No.', 'es': 'No.'},\n",
" {'en': 'During the Israeli military operations in Gaza, the number of children detained by Israel was higher than in the same period in 2008.',\n",
"  'es': 'Durante las operaciones militares israelíes en Gaza, el número de niños detenidos por Israel era superior al del mismo período en 2008.'},\n",
" {'en': 'You can... you can have my bedroom.',\n",
"  'es': 'Puedes... puedes quedarte en mi habitación.'},\n",
" {'en': 'Watch out.', 'es': 'Cuidado.'},\n",
" {'en': 'It is not enough to come up with rhetorical and woolly phrases; what we need instead is results and actions of the kind of which Robert Schuman spoke, when he said that Europe would not be built in a day, but by action, and probably by actions in the plural.',\n",
"  'es': 'No basta con pronunciar frases retóricas y vagas; lo que necesitamos en lugar de ello son resultados y acciones a los que se refería Robert Schuman cuando dijo que Europa no podía construirse en un solo día, sino a través de la acción y probablemente a través de las acciones, en plural.'},\n",
" {'en': '- If you have autoimmune hepatitis or any other problem with your immune system; if you are',\n",
"  'es': '- Si presenta una hepatitis autoinmune o cualquier otro problema del sistema inmune; si se'},\n",
" {'en': 'Hello, pretty.', 'es': 'Hola, linda.'},\n",
" {'en': '- Sabrina?', 'es': '- ¿Sabrina?'},\n",
" {'en': '- Bruce:', 'es': '- Bueno.'},\n",
" {'en': \"It's night.\", 'es': 'Es de noche.'},\n",
" {'en': '- Good.', 'es': '- Bien.'},\n",
" {'en': 'No!', 'es': 'No!'},\n",
" {'en': 'I thought it would suit you.',\n",
"  'es': 'Pensé que sería apropiado para ti.'},\n",
" {'en': 'You got it.', 'es': 'A ti.'},\n",
" {'en': \"It's okay.\", 'es': 'Está bien.'},\n",
" {'en': 'I just mean files.', 'es': '¡Quiero decir archivos!'},\n",
" {'en': 'Say what?', 'es': '¿Qué dijiste?'},\n",
" {'en': \"You're a professional.\", 'es': 'Eres un profesional.'},\n",
" {'en': \"You're gonna miss the slumber party.\",\n",
"  'es': 'Se perderán la fiesta de pijamas.'},\n",
" {'en': 'of 21 December 2006', 'es': 'de 21 de diciembre de 2006'},\n",
" {'en': 'Good.', 'es': 'Bien.'},\n",
" {'en': '- Where?', 'es': '- ¿Dónde?'},\n",
" {'en': \"It's so beautiful.\", 'es': 'Es tan hermoso.'},\n",
" {'en': 'Remarks', 'es': 'Comentarios'},\n",
" {'en': 'This is terrible.', 'es': 'Esto es terrible.'},\n",
" {'en': '- Oh...', 'es': '- Oh...'},\n",
" {'en': 'Oh, yes.', 'es': 'Sí.'},\n",
" {'en': 'Stephen?', 'es': '¿Stephen?'},\n",
" {'en': 'She has Only herself to blame!', 'es': '¡Ella misma es culpable!'},\n",
" {'en': 'Thank you.', 'es': '- Gracias.'},\n",
" {'en': 'Go on!', 'es': '¡Órale!'},\n",
" {'en': '- Get out!', 'es': '¡Fuera!'},\n",
" {'en': \"I've done nothing wrong!\", 'es': '¡No he hecho nada malo!'},\n",
" {'en': '- Thank you.', 'es': '- Gracias.'},\n",
" {'en': 'Get back.', 'es': '¡Retrocedan!'},\n",
" {'en': \"You can't be serious.\", 'es': 'No puedes estar hablando en serio.'},\n",
" {'en': 'And I was at the end of it.', 'es': 'Y yo estaba al final.'},\n",
" {'en': 'Leo!', 'es': '¡Leo!'},\n",
" {'en': 'Of course you can.', 'es': 'Por supuesto que sí .'},\n",
" {'en': 'What do I get in return?', 'es': '¿Qué consigo a cambio?'},\n",
" {'en': 'To contribute to attaining the objectives referred to in paragraph 1, the European Parliament and the Council, acting in accordance with the ordinary legislative procedure, shall establish the necessary measures, which may take the form of a European space programme, excluding any harmonisation of the laws and regulations of the Member States.',\n",
"  'es': 'Para contribuir a la consecución de los objetivos mencionados en el apartado 1, el Parlamento Europeo y el Consejo establecerán, con arreglo al procedimiento legislativo ordinario, las medidas necesarias, que podrán tener la forma de un programa espacial europeo, con exclusión de toda armonización de las disposiciones legales y reglamentarias de los Estados miembros.'},\n",
" {'en': '- Let me know how it goes.', 'es': '- Hazme saber como estuvo.'},\n",
" {'en': 'Wait for me.', 'es': 'Espérenme.'},\n",
" {'en': '- Roc can get am-fucker anything am-fucker gonna ask for.',\n",
"  'es': 'J-Roc puede conseguir cualquier mierda que quieras.'},\n",
" {'en': \"I told you I'd do my best.\", 'es': '- Te dije que me esforzaría.'},\n",
" {'en': 'Sure.', 'es': 'Claro.'},\n",
" {'en': 'Aniline derivatives and their salts',\n",
"  'es': 'Derivados de la anilina y sus sales'},\n",
" {'en': \"But you're right, it's not relevant.\",\n",
"  'es': 'Pero, tienes razón, no es relevante.'},\n",
" {'en': 'Take this.', 'es': 'Toma.'},\n",
" {'en': 'What?', 'es': '¿Qué?'},\n",
" {'en': 'Not very.', 'es': 'No mucho.'},\n",
" {'en': \"I'm sorry, Paul.\", 'es': 'Lo siento, Paul.'},\n",
" {'en': '- Excuse me?', 'es': '¿Disculpa?'},\n",
" {'en': \"You're not good enough to be my friend\",\n",
"  'es': 'No eres lo suficientemente buena para ser mi amiga.'},\n",
" {'en': 'I-I know.', 'es': 'Lo sé.'},\n",
" {'en': \"I don't want to lose you.\", 'es': 'No quiero perderte.'},\n",
" {'en': 'Contents', 'es': 'ÍNDICE'},\n",
" {'en': 'Okay, here we go.', 'es': 'Ahí vamos.'},\n",
" {'en': \"I'll find a way.\", 'es': 'Hallaré el modo.'},\n",
" {'en': 'Be right back.', 'es': 'Enseguida vuelvo.'},\n",
" {'en': 'Wanna come?', 'es': '¿Quiere venir?'},\n",
" {'en': \"I really hope you don't.\", 'es': 'Realmente espero que no.'},\n",
" {'en': '18 A.', 'es': '19 A.'},\n",
" {'en': '- Who are you?', 'es': '- ¿Quien eres tu?'},\n",
" {'en': 'Because of the potential for adverse reactions in breast-fed infants, breast-feeding should be discontinued prior to initiation of treatment.',\n",
"  'es': 'Dado el potencial de reacciones adversas en lactantes, la lactancia se deberá interrumpir antes de iniciar el tratamiento.'},\n",
" {'en': 'Hi.', 'es': '- Hola.'},\n",
" {'en': 'Good evening.', 'es': 'Buenas noches.'},\n",
" {'en': '- Huh?', 'es': '- ¿Eh?'},\n",
" {'en': \"That's right.\", 'es': 'Eso es.'},\n",
" {'en': 'And what are you doing?', 'es': '¿Y qué está haciendo?'},\n",
" {'en': \"It doesn't matter what I feel.\", 'es': 'No importa lo que siento.'},\n",
" {'en': 'Yeah, sure.', 'es': 'Qué bobada.'},\n",
" {'en': 'The entire building almost burned down.',\n",
"  'es': 'Casi se quemó todo el edificio entero.'},\n",
" {'en': \"He's one of the most brilliant minds we have.\",\n",
"  'es': 'Es de los más inteligentes.'},\n",
" {'en': 'Drink?', 'es': '- ¿Un trago?'},\n",
" {'en': 'Knock-knock.', 'es': '¿Se puede?'},\n",
" {'en': '- Arrested? !', 'es': '- ¿Arrestado?'},\n",
" {'en': 'Having regard to the proposal from the Commission(1),',\n",
"  'es': 'Vista la propuesta de la Comisión(1),'},\n",
" {'en': 'It takes time.', 'es': 'Lleva su tiempo.'},\n",
" {'en': 'Get you back on your feet.', 'es': 'Ayudarte a recuperar.'},\n",
" {'en': 'Many centuries ago, a Chinese poet foresaw a Hong Kong that glittered like the stars in the heavens.',\n",
"  'es': 'Hace muchos siglos, un poeta chino imaginó una Hong Kong que brillara como las estrellas del cielo.'},\n",
" {'en': 'Contents', 'es': 'Índice'},\n",
" {'en': 'That was pretty fast.', 'es': '- Eso fue muy rápido.'},\n",
" {'en': 'I will allow it.', 'es': 'Lo permitiré.'},\n",
" {'en': 'Where, in a rule in the list, two percentages are given for the maximum value of non-originating materials that can be used, then these percentages may not be added together.',\n",
"  'es': 'Si en una norma de la lista se establecen dos o más porcentajes relativos al valor máximo de las materias no originarias que pueden utilizarse, estos porcentajes no podrán sumarse.'},\n",
" {'en': \"She's in danger.\", 'es': 'Está en peligro'},\n",
" {'en': 'Battle stations.', 'es': 'Estaciones de batalla.'},\n",
" {'en': 'The window was open.', 'es': 'La ventana está abierta.'},\n",
" {'en': 'You got something to say, just say it.',\n",
"  'es': 'Si tienes algo que decir, simplemente dilo.'},\n",
" {'en': 'I think this machine works.',\n",
"  'es': 'Creo que esta máquina funciona.'},\n",
" {'en': '- I am not!', 'es': '- ¡No soy comunista!'},\n",
" {'en': 'Alaska.', 'es': 'Alaska.'},\n",
" {'en': 'Romania', 'es': 'Rumanía'},\n",
" {'en': 'All alone?', 'es': '¿Sola?'},\n",
" {'en': 'This is for you.', 'es': 'Es para ti.'},\n",
" {'en': 'Liddy.', 'es': '- Liddy'},\n",
" {'en': 'Sharon, please.', 'es': '- Sharon, por favor.'},\n",
" {'en': \"It's worse than death in the mines.\",\n",
"  'es': 'Es incluso peor que trabajar en las minas.'},\n",
" {'en': 'You had taken a risk.', 'es': 'Has tomado un riesgo.'},\n",
" {'en': 'Marker.', 'es': 'Marker.'},\n",
" {'en': '- I know.', 'es': '- Lo sé.'},\n",
" {'en': '- Yes, love?', 'es': '- ¿Si amor? .'},\n",
" {'en': '- Fi!', 'es': '-¡Fi!'},\n",
" {'en': \"It doesn't work with a bow...\", 'es': 'No funciona con un corba...'},\n",
" {'en': \"We're only waiting for you.\", 'es': '¡Fuera de aquí!'},\n",
" {'en': 'Goodbye!', 'es': '¡Hasta la vista!'},\n",
" {'en': 'My darling.', 'es': 'Mi querido.'},\n",
" {'en': \"- You're welcome.\", 'es': '-De nada.'},\n",
" {'en': \"I'm not here.\", 'es': '- No estoy aquí.'},\n",
" {'en': '- Butters.', 'es': 'Butters.'},\n",
" {'en': \"Let's go to sleep.\", 'es': 'Vamos a dormir.'},\n",
" {'en': 'Give me your hand.', 'es': 'Dame la mano.'},\n",
" {'en': \"You've got me.\", 'es': 'Me tiene a mí.'},\n",
" {'en': 'Following intravenous administration to healthy adults, the volume of distribution (Vdss) of nevirapine was 1.21 ± 0.09 l/ kg, suggesting that nevirapine is widely distributed in humans.',\n",
"  'es': 'Después de la administración intravenosa a adultos sanos, el volumen de distribución (Vdss) de la nevirapina fue de 1,21 ± 0,09 l/ kg, sugiriendo una amplia distribución en el ser humano.'},\n",
" {'en': 'Cheers.', 'es': 'Salud.'},\n",
" {'en': 'Suit yourself.', 'es': 'haz lo que quieras.'},\n",
" {'en': '-So?', 'es': '- ¿Y?'},\n",
" {'en': \"You're a good boy.\", 'es': 'Eres un buen muchacho.'},\n",
" {'en': 'For the Commission', 'es': 'Por la Comisión'},\n",
" {'en': 'Okay, great.', 'es': '- Adiós.'},\n",
" {'en': \"Where's the sample, Kat?\", 'es': '¿Dónde está la muestra, Kat?'},\n",
" {'en': \"They're gone.\", 'es': 'Se han ido'},\n",
" {'en': 'I want my baby!', 'es': '¡Quiero a mi bebé!'},\n",
" {'en': '- Sure.', 'es': '- Claro.'},\n",
" {'en': \"Let's get going.\", 'es': 'Sigamos adelante.'},\n",
" {'en': '-What the hell does that mean?', 'es': '-Qué significa eso?'},\n",
" {'en': 'However, this clarification does not impose any new obligations on Member States or holders of authorisations compared to the directives which have been adopted until now amending Annex I.',\n",
"  'es': 'Esta aclaración, sin embargo, no impone nuevas obligaciones a los Estados miembros ni a los titulares de autorizaciones con respecto a las Directivas adoptadas hasta el momento para modificar el anexo I.'},\n",
" {'en': '- Who is it?', 'es': '¿Quién?'},\n",
" {'en': '- Already?', 'es': '- Ahora?'},\n",
" {'en': 'Everybody, quiet!', 'es': '¡Chicos, silencio!'},\n",
" {'en': '- Of course she does.', 'es': '- Claro que tiene.'},\n",
" {'en': '-Hellfish.', 'es': '- Hellfish.'},\n",
" {'en': '4.3 Contraindications', 'es': '4.3 Contraindicaciones'},\n",
" {'en': 'A train.', 'es': 'Un tren.'},\n",
" {'en': 'Okay.', 'es': 'Bien.'},\n",
" {'en': 'As you can see, we have everything under control.',\n",
"  'es': 'Tenemos todo bajo control.'},\n",
" {'en': \"If anything goes wrong, it's all down to you, Martha.\",\n",
"  'es': 'Si algo va mal, todo depende de ti, Martha.'},\n",
" {'en': 'Thomas?', 'es': '- ¿Que protegería mi trabajo?'},\n",
" {'en': 'Alto.', 'es': '-Alto.'},\n",
" {'en': \"So, if you don't mind...\", 'es': 'Entonces, si no te importa...'},\n",
" {'en': \"That's really pretty.\", 'es': 'Es muy bonito.'},\n",
" {'en': 'Is someone there?', 'es': 'Hay alguien allí?'},\n",
" {'en': 'Survival.', 'es': 'Para sobrevivir.'},\n",
" {'en': 'We need to take some X rays, though.', 'es': 'Señor.'},\n",
" {'en': 'Wait until tomorrow.', 'es': 'Espera hasta mañana.'},\n",
" {'en': 'A lifetime in jail.', 'es': 'Toda una vida en la cárcel.'},\n",
" {'en': 'I know what you look like.', 'es': 'Sé como luces.'},\n",
" {'en': 'Preamble', 'es': 'Preámbulo'},\n",
" {'en': 'But then he began to fear discovery.',\n",
"  'es': 'Pero luego tuvo miedo, de ser descubierto.'},\n",
" {'en': 'Enough.', 'es': 'Suficiente.'},\n",
" {'en': 'Wow.', 'es': 'Vaya.'},\n",
" {'en': 'Excuse me.', 'es': 'Disculpe.'},\n",
" {'en': 'Thanks a lot.', 'es': 'Muchas gracias.'},\n",
" {'en': 'What are you looking for?', 'es': '¿Qué está buscando?'},\n",
" {'en': 'Me neither.', 'es': 'Yo tampoco.'},\n",
" {'en': 'Thank you.', 'es': 'Gracias.'},\n",
" {'en': \"I said don't!\", 'es': 'No ! Yo no dije !'},\n",
" {'en': \"I don't need any help.\", 'es': 'No necesito ayuda.'},\n",
" {'en': \"- I'm so sorry.\", 'es': '- Cuanto lo siento.'},\n",
" {'en': \"It's easy for you, Victor.\", 'es': 'Es fácil para ti, Victor'},\n",
" {'en': \"I think she's going to help us.\", 'es': 'Nos ayudará.'},\n",
" {'en': 'hello.', 'es': 'Hola.'},\n",
" {'en': 'You got that right.',\n",
"  'es': '- En eso tienes razón. - Y trabajaremos en eso.'},\n",
" {'en': \"I'm not gonna narc on them.\", 'es': 'No voy a chivarme.'},\n",
" {'en': \"You're late.\", 'es': 'Llegas tarde.'},\n",
" {'en': \"Doctor she won't listen.\", 'es': 'Doctor... ella no escucha.'},\n",
" {'en': \"- What'd he do?\", 'es': '- ¿Qué hizo?'},\n",
" {'en': \"You'll hardly know we're here.\", 'es': 'Apenas sabrá dónde estamos.'},\n",
" {'en': '- Sure.', 'es': '- Seguro.'},\n",
" {'en': 'I need a word.', 'es': 'Necesito hablar.'},\n",
" {'en': 'Love it.', 'es': 'Me encanta.'},\n",
" {'en': \"You weren't?\", 'es': '¿No fue así?'},\n",
" {'en': '- Which one?', 'es': '- ¿Qué?'},\n",
" {'en': '- Permanent.', 'es': 'Permanentemente.'},\n",
" {'en': 'Just a suggestion.', 'es': 'Era una sugerencia.'},\n",
" {'en': 'He has severe scar tissue all over his body.',\n",
"  'es': 'Tiene cicatrices por todo el cuerpo.'},\n",
" {'en': 'What are you thinking?', 'es': '¿Qué piensas?'},\n",
" {'en': 'Tatiana.', 'es': 'Tatiana.'},\n",
" {'en': '- Nothing.', 'es': '- Nada.'},\n",
" {'en': \"Sorry to disturb you but it's important.\",\n",
"  'es': 'Siento molestarte pero es importante.'},\n",
" {'en': 'Come on, off you go!', 'es': '¡Vamos, empiecen!'},\n",
" {'en': 'Total quantity', 'es': 'Cantidad total'},\n",
" {'en': \"- It's nice to see you.\", 'es': '- Me alegra verte.'},\n",
" {'en': 'Oh, good.', 'es': 'Bien.'},\n",
" {'en': \"What's so funny?\", 'es': '¿Qué te resulta tan divertido?'},\n",
" {'en': \"- They're dead.\", 'es': '- Están muertos.'},\n",
" {'en': \"Let's see your hands.\", 'es': 'Dejame ver tus manos.'},\n",
" {'en': 'Sorry...', 'es': 'Perdón.'},\n",
" {'en': 'Yes?', 'es': '¿Qué?'},\n",
" {'en': 'What are you afraid of?', 'es': '¿De qué tiene miedo?'},\n",
" {'en': 'Call the police.', 'es': '- Tengo que llamar a la policía.'},\n",
" {'en': 'MAN:', 'es': 'Un chaval nos dijo:'},\n",
" {'en': \"He's crashing.\", 'es': 'Está entrando en shock.'},\n",
" {'en': 'Done at Brussels, 27 April 2006.',\n",
"  'es': 'Hecho en Bruselas, el 27 de abril de 2006.'},\n",
" {'en': 'It would be my honor to play your husband, Claire.',\n",
"  'es': 'Será un honor para mí actuar de marido tuyo, Claire.'},\n",
" {'en': 'What are you doing here?', 'es': '¿Qué estás haciendo aquí?'},\n",
" {'en': 'Chen!', 'es': 'Chen!'},\n",
" {'en': 'Gus.', 'es': 'Gus.'},\n",
" {'en': 'PHARMACEUTICAL FORM AND CONTENTS',\n",
"  'es': 'FORMA FARMACÉUTICA Y CONTENIDO DEL ENVASE'},\n",
" {'en': 'Do not use in pregnant or lactating animals.',\n",
"  'es': 'No usar en animales en gestación o lactancia.'},\n",
" {'en': 'I had...', 'es': '- Tenía...'},\n",
" {'en': '- I am.', 'es': '- Lo estoy.'},\n",
" {'en': 'Move forward.', 'es': 'Hacia adelante'},\n",
" {'en': '\"When you hear them, scream.', 'es': '\"Cuando los oigas, grita.'},\n",
" {'en': 'How do you know her?', 'es': '¿cómo la conoces?'},\n",
" {'en': \"She doesn't look good.\", 'es': 'Ella no se ve bien.'},\n",
" {'en': 'The report from the Committee on Regional Policy once again comes out in favour of changing regional planning policy in the Community.',\n",
"  'es': 'El informe de la Comisión de Política Regional aboga una vez más en favor de que la política de ordenación del territorio entre en el ámbito comunitario.'},\n",
" {'en': 'Agenda item 7', 'es': 'Tema 7 del programa'},\n",
" {'en': 'Thanks for waiting.', 'es': 'Perdón por la espera.'},\n",
" {'en': '- Thank you.', 'es': '- Muchas gracias,'},\n",
" {'en': 'Right on the dot.', 'es': 'El peso exacto.'},\n",
" {'en': \"Why don't you go give this to Carrie?\",\n",
"  'es': '¿Qué tal si se Io das a Carrie?'},\n",
" {'en': 'Okay, I am.', 'es': '¿Qué? ¿te estás riendo?'},\n",
" {'en': \"That's it.\", 'es': 'Eso es todo. ¡Es asombroso!'},\n",
" {'en': 'Mmm!', 'es': 'Mmm!'},\n",
" {'en': \"You're crazy.\", 'es': 'Estás loca.'},\n",
" {'en': 'Thank you.', 'es': 'Gracias.'},\n",
" {'en': 'I...', 'es': 'No...'},\n",
" {'en': \"We didn't have him, but we do now, and he's on a flight as we speak.\",\n",
"  'es': 'No le teníamos, pero ahora sí, y está volando hacia aquí ahora mismo.'},\n",
" {'en': 'No.', 'es': 'No.'},\n",
" {'en': 'I panicked.', 'es': 'Entré en pánico.'},\n",
" {'en': 'ibuprofen) or to COX-2 inhibitors.',\n",
"  'es': 'o AINE (p.ej.: ibuprofeno) o a inhibidores de la COX -2.'},\n",
" {'en': '- Thank you.', 'es': '- Gracias.'},\n",
" {'en': 'Of course you do.', 'es': 'Claro que te acuerdas.'},\n",
" {'en': \"Wow, hadn't thought of that.\", 'es': 'No Había pensado en eso.'},\n",
" {'en': 'Her parents?', 'es': '¿Es sobre sus padres?'},\n",
" {'en': 'Are you okay?', 'es': '¿Estás bien?'},\n",
" {'en': \"Why didn't you tell me before?\",\n",
"  'es': '¿Por qué no me lo dijiste antes?'},\n",
" {'en': 'Not now.', 'es': 'Ahora no.'},\n",
" {'en': 'Is there a point to this?', 'es': '¿Quieres llegar a algo?'},\n",
" {'en': 'Get to work. Yes, sir.', 'es': 'Sí, señor.'},\n",
" {'en': '- Nothing.', 'es': '- Nada.'},\n",
" {'en': \"Here's my card.\", 'es': 'Aquí está mi tarjeta.'},\n",
" {'en': \"That's the thing.\", 'es': 'Esa es la cuestión.'},\n",
" {'en': 'Am I too late?', 'es': '¿Llego tarde?'},\n",
" {'en': 'I knew it was real.', 'es': 'Sabía que era real.'},\n",
" {'en': '- Great.', 'es': '-Genial.'},\n",
" {'en': 'I mean, I was just in grade school at the time.',\n",
"  'es': 'Quiero decir, solo estaba en la primaria en ese tiempo.'},\n",
" {'en': \"That's right.\", 'es': 'Así es.'},\n",
" {'en': '\"let it go, please\"', 'es': 'Suéltalo... \"Suéltalo, por favor\"'},\n",
" {'en': 'Fancy meeting you here.', 'es': 'Un lujo encontrarte aquí.'},\n",
" {'en': 'My son!', 'es': '¡Mi hijo!'},\n",
" {'en': 'What should they do?', 'es': '¿Qué tendrían que hacer?'},\n",
" {'en': 'Liquid, yellowish.', 'es': 'Líquido, con un tono amarillento.'},\n",
" {'en': 'Tax Man.', 'es': 'Recaudador.'},\n",
" {'en': \"- I'm proud of you.\", 'es': '-Te admiro. -¿Por qué?'},\n",
" {'en': '- With physical force?', 'es': '- ¿Con fuerza física?'},\n",
" {'en': 'CEREALS', 'es': 'CEREALES'},\n",
" {'en': 'Thank you for coming.', 'es': 'Gracias por venir.'},\n",
" {'en': \"Let's go inside.\", 'es': 'Vamos adentro.'},\n",
" {'en': 'Good gracious!', 'es': '¡Dios mío! ¡Bertie!'},\n",
" {'en': 'Stop it!', 'es': '- Deténganse. ¡Deténganse ya!'},\n",
" {'en': 'I thought you were...', 'es': 'Pensé que...'},\n",
" {'en': 'For God Sake,Lee!', 'es': '¡Por dios santo, Lee!'},\n",
" {'en': 'Thank you.', 'es': 'Gracias.'},\n",
" {'en': \"I'm in!\", 'es': '¡Me aceptaron!'},\n",
" {'en': 'I am the hostess .', 'es': 'Yo soy la azafata.'},\n",
" {'en': 'All of a sudden...', 'es': 'De repente-'},\n",
" {'en': 'Now, listen, I am still having my annual Fourth of July Clambake.',\n",
"  'es': 'Ahora, escucha, sigo teniendo mi fiesta de la almeja del cuatro de Julio'},\n",
" {'en': 'Did you talk to him?', 'es': '¿Habló con él?'},\n",
" {'en': 'Duration', 'es': 'Duración'},\n",
" {'en': 'Can you...?', 'es': '¿Puede...?'},\n",
" {'en': \"Sadly, some of us women have been led to think this is “normal” or that “it's our fault” we are victims of this type of abuse, and it's because our aggressors use public transport — and especially the streets — to offend us sexually.\",\n",
"  'es': 'Lamentablemente, algunas mujeres hemos llegado a pensar que es “normal” o que “por nuestra culpa” somos víctimas de este tipo de abuso, y es que los acosadores aprovechan las unidades de transporte -sobre todo las rutas-, para ofendernos sexualmente.'},\n",
" {'en': 'Come on, come on, come on.', 'es': 'Vamos, vamos.'},\n",
" {'en': 'We are too late.', 'es': 'Es demasiado tarde.'},\n",
" {'en': 'Here.', 'es': 'Toma.'},\n",
" {'en': 'Come on.', 'es': '¡Vayan!'},\n",
" {'en': 'Get down!', 'es': '¡Al suelo!'},\n",
" {'en': 'I can do that.', 'es': 'Puedo hacer eso.'},\n",
" {'en': 'Excuse me, I have a very important announcement to make.',\n",
"  'es': 'Perdona.'},\n",
" {'en': 'Oh, no.', 'es': 'Oh, no.'},\n",
" {'en': \"The quantity of time isn't always the most important.\",\n",
"  'es': 'La cantidad de tiempo no siempre es lo más importante.'},\n",
" {'en': \"You're alive!\", 'es': '¡Estáis vivos!'},\n",
" {'en': 'Is he okay?', 'es': '¿Está bien?'},\n",
" {'en': 'Your father was a great man.', 'es': 'Tu padre era un gran hombre.'},\n",
" {'en': '- No problem.', 'es': '- No hay problema.'},\n",
" {'en': '“The members of the Council had a constructive exchange of views with representatives of participating troop-contributing countries.”',\n",
"  'es': 'Los miembros del Consejo mantuvieron un constructivo intercambio de opiniones con los representantes de los países que aportan contingentes.”'},\n",
" {'en': 'If the Reptilians wanted to keep their actions a secret... the past would be a good place to do it.',\n",
"  'es': 'Si los Reptilianos querían mantener en secreto sus acciones, el pasado sería un buen lugar para hacerlo'},\n",
" {'en': 'What? What?', 'es': '¿Qué?'},\n",
" {'en': '- Back off!', 'es': '-¡Atrás!'},\n",
" {'en': 'Who are you looking for?', 'es': '¿A quién está buscando?'},\n",
" {'en': 'Drop your weapons!', 'es': '¡Tira tus armas! .'},\n",
" {'en': 'Burn it down!', 'es': '¡Quémenlo!'},\n",
" {'en': \"- Yes, ma'am.\", 'es': '- Sí, señora.'},\n",
" {'en': \"- I'm innocent.\", 'es': '- Muy bien.'},\n",
" {'en': 'Enough already.', 'es': 'Ya lo está.'},\n",
" {'en': 'I just need a place to rest.',\n",
"  'es': 'Sólo necesito un lugar donde descansar.'},\n",
" {'en': 'Fuck.', 'es': 'joder.'},\n",
" {'en': 'Nothing?', 'es': '¿Nada?'},\n",
" {'en': '(2) Maximum residue limits should be established only after the examination within the Committee for Veterinary Medicinal Products of all the relevant information concerning the safety of residues of the substance concerned for the consumer of foodstuffs of animal origin and the impact of residues on the industrial processing of foodstuffs.',\n",
"  'es': '(2) Los límites máximos de residuos deben establecerse solamente tras examinar en el Comité de medicamentos veterinarios toda información pertinente que se refiera a la inocuidad de los residuos de la sustancia en cuestión para el consumidor de productos alimenticios de origen animal y la repercusión de los residuos en el tratamiento industrial de productos alimenticios.'},\n",
" {'en': 'I got it!', 'es': '¡Lo tengo!'},\n",
" {'en': 'Move on!', 'es': '¡Vamos!'},\n",
" {'en': 'I have no idea.', 'es': 'No tengo ni idea.'},\n",
" {'en': 'Right.', 'es': 'Claro.'},\n",
" {'en': \"That's what I want.\", 'es': 'Esto es lo que quiero.'},\n",
" {'en': \"I don't like lying.\", 'es': 'No me gusta mentir.'},\n",
" {'en': '- You could be my Peter.', 'es': 'Podrías ser mi Pedro.'},\n",
" {'en': 'Oh, my God!', 'es': '¡Por Dios!'},\n",
" {'en': 'Great.', 'es': 'Estupendo.'},\n",
" {'en': 'Excellent', 'es': 'Genial'},\n",
" {'en': 'Now are you absolutely, positively clear about rule number one?',\n",
"  'es': '¿Está absoluta, positivamente segura de la regla número uno?'},\n",
" {'en': 'Ring the bell.', 'es': 'Llama al timbre.'},\n",
" {'en': 'No kidding.', 'es': 'No es broma.'},\n",
" {'en': 'How?', 'es': '¿Cómo?'},\n",
" {'en': 'Animals killed for organs and tissues, as well as sentinels, are excluded from the provision of statistical data, unless the killing is performed under a project authorisation using a method not included in Annex IV or where the animal has gone through a previous intervention, prior to being killed, and which has been above the threshold of minimum pain, suffering, distress and lasting harm.',\n",
"  'es': 'Los animales que se sacrifiquen por sus órganos y tejidos, así como los animales centinelas, se excluirán de los datos estadísticos, salvo cuando el sacrificio tenga lugar en el marco de una autorización de proyecto que utilice un método no incluido en el anexo IV o cuando el animal se haya sometido antes de su sacrificio a una intervención en la que el dolor, el sufrimiento, la angustia y los daños duraderos hayan superado el umbral mínimo.'},\n",
" {'en': 'You want a hint?', 'es': '¿Quieres una pista?'},\n",
" {'en': '-Why?', 'es': '- ¿Por qué?'},\n",
" {'en': 'Impact warning 30° West.', 'es': 'Aviso de impacto.'},\n",
" {'en': 'What are you, stupid?', 'es': '¿Qué eres tú, estúpido?'},\n",
" {'en': \"You're kidding, right?\", 'es': '- ¿Estás de broma?'},\n",
" {'en': 'I think that was a strange question.',\n",
"  'es': 'Esa fue una pregunta extraña.'},\n",
" {'en': \"Carter's dead?\", 'es': '¿Carter está muerto?'},\n",
" {'en': '- Nobody move.', 'es': '- Nadie se mueva.'},\n",
" {'en': 'One, two, three!', 'es': 'Una... dos... ¡tres!'},\n",
" {'en': 'The Organization has to strive for a proper mix of these two categories of functions, which complement each other.',\n",
"  'es': 'La Organización debe aspirar a lograr una proporción idónea entre las dos categorías de funciones, que se complementan.'},\n",
" {'en': 'Thank you so much.', 'es': 'Muchas gracias.'},\n",
" {'en': '- Motherland!', 'es': '- Patria!'},\n",
" {'en': \"No, you don't.\", 'es': 'No,no lo haces'},\n",
" {'en': \"I'm a cop.\", 'es': 'Soy policía.'},\n",
" {'en': 'What the hell are you doing in there?',\n",
"  'es': '¿Qué diablos estás haciendo?'},\n",
" {'en': 'Up to the fifth year of primary education there are no major differences in dropout rates between boys and girls, although after the sixth year males are more likely to be affected, a phenomenon that is still more marked over the entire period of secondary education.',\n",
"  'es': 'Hasta el 5º de primaria no existen grandes diferencias en la tasa de abandono entre hombres y mujeres, aunque a partir de 6º se convierte en un factor que afecta más a los hombres, fenómeno que es aún más marcado durante todo el nivel secundario.'},\n",
" {'en': 'All right.', 'es': '¿OK?'},\n",
" {'en': \"I've changed my mind.\", 'es': 'He cambiado de opinión.'},\n",
" {'en': 'Almost nothing.', 'es': 'Prácticamente nada.'},\n",
" {'en': 'But--', 'es': 'Pero...'},\n",
" {'en': 'More than three decades later and boosted by many awards including the Nobel Peace Prize (jointly with its founder Dr. Muhammad Yunus in 2006), it has expanded into a family of social organizations.',\n",
"  'es': 'Más de tres décadas después e impulsado por muchos premios (incluido el Premio Nobel de la Paz, junto con su fundador el Dr. Muhammad Yunus en 2006), se ha transformado en una familia de organizaciones sociales.'},\n",
" {'en': \"Oh, Virgil. I don't think you're gonna win many races.\",\n",
"  'es': 'Virgil, no creo que ganes muchas carreras.'},\n",
" {'en': 'You need anything?', 'es': '¿Necesitas algo?'},\n",
" {'en': 'No one.', 'es': 'Nadie.'},\n",
" {'en': \"I'm so sorry.\", 'es': 'Lo siento mucho.'},\n",
" {'en': 'No.', 'es': 'No.'},\n",
" {'en': 'Hi, Charlie.', 'es': '¡Oye, Charlie!'},\n",
" {'en': \"- What? That's it?\", 'es': '¿Eso es todo?'},\n",
" {'en': 'The restaurant.', 'es': 'Del restaurante.'},\n",
" {'en': 'Your Highness.', 'es': 'Alteza.'},\n",
" {'en': 'Better.', 'es': 'Mejor.'},\n",
" {'en': '__________________', 'es': 'Azizbek a_grigory'},\n",
" {'en': 'Five?', 'es': '¿Cinco?'},\n",
" {'en': \"- I'm just...\", 'es': '- Sí. - Voy a...'},\n",
" {'en': 'Friend...', 'es': '!'},\n",
" {'en': '@ashbetteridge: a thing that struck me about the campaigns here over the past week or so is that they are predominately male #eleisaun2012',\n",
"  'es': '@ashbetteridge: algo que me sorprende de las campañas durante la semana pasada es que casi todos son hombres #eleisaun2012'},\n",
" {'en': \"I wasn't looking for an invite.\", 'es': 'No buscaba una invitación.'},\n",
" {'en': 'It was just a dream.', 'es': 'Fue sólo un sueño.'},\n",
" {'en': 'Oh.', 'es': 'Oh.'},\n",
" {'en': \"Stop what you're doing.\", 'es': 'Paren lo que hacen.'},\n",
" {'en': \"You're welcome.\", 'es': 'De nada.'},\n",
" {'en': 'Number of visits: 2734', 'es': 'Número de visitas: 404'},\n",
" {'en': 'One, two, three.', 'es': 'Uno, dos, tres.'},\n",
" {'en': \"Don't you?\", 'es': '¿Tú no?'},\n",
" {'en': 'Thank you.', 'es': 'Gracias.'},\n",
" {'en': 'It goes without saying that no sensible person would oppose equal rights for men and women.',\n",
"  'es': 'Está claro que ninguna persona en su sano juicio se opone a la igualdad de oportunidades entre hombres y mujeres.'},\n",
" {'en': 'Brought to you by WITH S2 Written In The Heavens Subbing Squad',\n",
"  'es': 'Subtítulos en español: *** Coffee-Wings Subs ***'},\n",
" {'en': \"If it's not too late.\", 'es': 'Vean a esa pobre gente ahí afuera.'},\n",
" {'en': 'Daylight!', 'es': 'Luz de día.'},\n",
" {'en': 'No, no.', 'es': 'No, no.'},\n",
" {'en': 'Oh, my!', 'es': '¡Ah, caray!'},\n",
" {'en': 'Nope.', 'es': 'No.'},\n",
" {'en': 'It happens.', 'es': 'Eso pasa.'},\n",
" {'en': 'In centrum (3)', 'es': 'In centrum (54)'},\n",
" {'en': 'Aah!', 'es': 'Aah!'},\n",
" {'en': 'Prescribers should refer to national guidelines for influenza vaccination.',\n",
"  'es': 'El médico deberá observar las directrices nacionales para la vacunación contra la gripe.'},\n",
" {'en': '- Hi.', 'es': '- Hola.'},\n",
" {'en': 'Everything.', 'es': 'Todo.'},\n",
" {'en': 'Not exactly.', 'es': 'No precisamente.'},\n",
" {'en': 'Bye.', 'es': 'Si.'},\n",
" {'en': 'Move on.', 'es': 'Pásala.'},\n",
" {'en': 'Oh, stop it.', 'es': 'Oh, basta.'},\n",
" {'en': 'Sure.', 'es': '- Claro. - ¿Cree que irá al Cielo?'},\n",
" {'en': 'NAME AND ADDRESS OF THE MARKETING AUTHORISATION HOLDER',\n",
"  'es': 'NOMBRE O RAZÓN SOCIAL DEL TITULAR DE LA AUTORIZACIÓN DE COMERCIALIZACIÓN'},\n",
" {'en': '- Mercy.', 'es': '- Mercy.'},\n",
" {'en': 'Is that what you think?', 'es': '¿Eso es lo que crees?'},\n",
" {'en': 'To both of us.', 'es': 'Para ambos.'},\n",
" {'en': 'This is fresh.', 'es': 'Es reciente.'},\n",
" {'en': '- May I ?', 'es': '- ¿Puedo?'},\n",
" {'en': \"If that's all right with you?\", 'es': '- ¿Si estás de acuerdo?'},\n",
" {'en': 'Outputs', 'es': 'Productos'},\n",
" {'en': 'Take those off.', 'es': 'Sacate eso.'},\n",
" {'en': 'Any relationship problems?',\n",
"  'es': '¿Cualquier problema con las relaciones?'},\n",
" {'en': 'No, what?', 'es': 'No, ¿qué?'},\n",
" {'en': 'I want to leave an Eliot Stemple skid mark.',\n",
"  'es': 'Quiero dejar una marca de derrape Eliot Stemple.'},\n",
" {'en': 'Conclusion', 'es': 'Conclusión'},\n",
" {'en': '- My father.', 'es': 'Mi padre.'},\n",
" {'en': 'VI.', 'es': '177.'},\n",
" {'en': \"- It's a little bit of trivia.\", 'es': '- Es un poco de trivia.'},\n",
" {'en': 'Five dates.', 'es': 'Cinco citas.'},\n",
" {'en': 'And?', 'es': '¿Y?'},\n",
" {'en': 'Most of them are non-lethal.',\n",
"  'es': 'La mayoría de ellas no son letales.'},\n",
" {'en': 'I spent the whole time sleeping.',\n",
"  'es': 'Me pasé todo el santo tiempo, durmiendo.'},\n",
" {'en': 'Hey, Kent.', 'es': 'Hola, Kent.'},\n",
" {'en': 'Quantum mechanics allows--', 'es': 'La mecánica cuántica permite...'},\n",
" {'en': 'Yard sale!', 'es': '¡Venta de garaje!'},\n",
" {'en': 'Enoch.', 'es': 'Enoch.'},\n",
" {'en': 'What is it?', 'es': '¿Que es?'},\n",
" {'en': \"What's up, brother?\", 'es': '¿Qué tal? Hola, Dé.'},\n",
" {'en': 'I have to go.', 'es': 'Debo irme.'},\n",
" {'en': 'Go on.', 'es': 'Continúa.'},\n",
" {'en': 'THE CUBE', 'es': 'EL CUBO'},\n",
" {'en': \"It's fine.\", 'es': 'Esto se mete por todas partes.'},\n",
" {'en': 'Oh, okay.', 'es': 'Vale.'},\n",
" {'en': '- God.', 'es': '- Dios.'},\n",
" {'en': '4.', 'es': '4.'},\n",
" {'en': \"It's you?\", 'es': '¿Eres tú?'},\n",
" {'en': '- Four!', 'es': '- ¡Cuatro!'},\n",
" {'en': 'Since when?', 'es': 'Desde cuando?'},\n",
" {'en': 'Listen to me.', 'es': 'Escúchame.'},\n",
" {'en': \"What do you think'?\", 'es': '¿Que piensas?'},\n",
" {'en': \"I mean, I don't shop in this neighborhood, but...\",\n",
"  'es': 'No compro en este barrio, pero...'},\n",
" {'en': '- I know.', 'es': '- Lo sé.'},\n",
" {'en': \"I'll see you at dinner.\", 'es': 'Nos vemos en la cena.'},\n",
" {'en': 'You alone?', 'es': '¿Estás sola?'},\n",
" {'en': 'Come here.', 'es': 'Ven acá.'},\n",
" {'en': 'Development of clear and transparent indicators, especially for ODA.',\n",
"  'es': 'Asistencia oficial para el desarrollo/asistencia para el desarrollo'},\n",
" {'en': 'It will be fine.', 'es': 'No pasa nada.'},\n",
" {'en': '- Tonight.', 'es': '- Todos nosotros.'},\n",
" {'en': 'Here you go.', 'es': 'Aquí tiene.'},\n",
" {'en': \"- What are you laughing at, what's so funny?\",\n",
"  'es': '¿Y cuántos son, 24 votos? ¿Pero de qué coño te ríes, Michè? ¿De qué te ríes?'},\n",
" {'en': 'Fuck.', 'es': 'Carajo.'},\n",
" {'en': 'Can you hear me?', 'es': '¿Puedes oírme?'},\n",
" {'en': \"That's true.\", 'es': 'Eso es verdad.'},\n",
" {'en': \"She won't do it, Dad.\", 'es': 'Ella no lo hará, papá.'},\n",
" {'en': 'You.', 'es': 'Tú.'},\n",
" {'en': '(1)', 'es': 'Douche (116)'},\n",
" {'en': 'Valenzuela is dead.', 'es': 'Valenzuela está muerto.'},\n",
" {'en': 'Clear right.', 'es': 'Despejado a la derecha.'},\n",
" {'en': 'Like this.', 'es': 'Así.'},\n",
" {'en': 'What, right now?', 'es': '¿Cómo, ahora mismo?'},\n",
" {'en': \"Then that's what we'll do.\", 'es': 'Entonces vayamos.'},\n",
" {'en': \"- You don't seem too worried.\", 'es': '- No pareces muy preocupado.'},\n",
" {'en': 'You found it.', 'es': '- Lo encontró.'},\n",
" {'en': 'You first.', 'es': 'Tú el primero.'},\n",
" {'en': \"I don't want it.\", 'es': 'No lo quiero.'},\n",
" {'en': '4.', 'es': '4.'},\n",
" {'en': '%#: session number', 'es': '%#: número de sesión'},\n",
" {'en': 'I gave you one.', 'es': 'Yo te di uno.'},\n",
" {'en': 'This is my fault?',\n",
"  'es': '¿Y es culpa mía? Le puse mis datos en unas tarjetas.'},\n",
" {'en': 'Yes, she is.', 'es': 'Sí, es preciosa.'},\n",
" {'en': 'Hello.', 'es': 'Hola.'},\n",
" {'en': 'Distillation:', 'es': 'Destilación:'},\n",
" {'en': 'Do me a favor.', 'es': 'Hazme un favor.'},\n",
" {'en': 'Individually and collectively, States will endeavour, as appropriate, to support the following actions:',\n",
"  'es': 'Individual y colectivamente, según proceda, los Estados se esforzarán por apoyar:'},\n",
" {'en': 'I conclude by expressing my appreciation for the constructive contribution offered to the Committee on Civil Liberties and Internal Affairs in relation to the text originally proposed.',\n",
"  'es': 'Y termino diciendo que aprecio la contribución constructiva prestada a la Comisión de Libertades Públicas y de Asuntos Interiores con respecto al texto originariamente propuesto.'},\n",
" {'en': 'Hi.', 'es': 'Hola.'},\n",
" {'en': 'I checked out his web page.', 'es': 'Ojeé su página web.'},\n",
" {'en': '6.2 Incompatibilities', 'es': '21 6.2 Incompatibilidades'},\n",
" {'en': 'Gotcha.', 'es': 'Eres mía.'},\n",
" {'en': 'No morphine.', 'es': '- Morfina. No, morfina no.'},\n",
" {'en': 'Yeah, he does.', 'es': 'Sí que me odia.'},\n",
" {'en': 'Down!', 'es': '¡Abajo!'},\n",
" {'en': 'You OK?', 'es': '¿Estás bien?'},\n",
" {'en': 'Jeff!', 'es': '¡Jeff! ¿No era eso lo que querías?'},\n",
" {'en': 'Tai.', 'es': 'Tai.'},\n",
" {'en': 'Tiny bars of soap.', 'es': 'Jaboncitos individuales.'},\n",
" {'en': \"- I'm aware of that.\", 'es': '- Soy consciente de ello.'},\n",
" {'en': \"- Take 'em off.\", 'es': '- Quítatelos.'},\n",
" {'en': \"It's about time.\", 'es': 'A buenas horas.'},\n",
" {'en': '_', 'es': 'Trabajo esta noche.'},\n",
" {'en': '- You sure?', 'es': '-¿Estás seguro?'},\n",
" {'en': '7.', 'es': '7.'},\n",
" {'en': 'Yeah, she does.', 'es': 'Sí, así es.'},\n",
" {'en': \"It's nothing.\", 'es': 'No es nada.'},\n",
" {'en': '- Hang on.', 'es': '- Espera.'},\n",
" {'en': 'Firstly, if this scum is a hoji , he should have explained to the boys that theft is bad!',\n",
"  'es': 'En primer lugar si esta escoria es un Hoji , debería haber explicado a los jóvenes ¡que robar es malo!'},\n",
" {'en': '- Hi.', 'es': '- Hola.'},\n",
" {'en': 'Somebody stop him!', 'es': 'IQue alguien le detenga!'},\n",
" {'en': \"That's all.\", 'es': 'Eso es todo.'},\n",
" {'en': 'Many users on social media referred to the double standard the Bogota police showed.',\n",
"  'es': 'Muchos usuarios en redes sociales se refirieron al doble estándar que mostró la policía de Bogotá.'},\n",
" {'en': 'Everybody does it.', 'es': 'Todo el mundo lo hace.'},\n",
" {'en': '4.4 Special warnings and precautions for use',\n",
"  'es': '4.4 Advertencias y precauciones especiales de empleo'},\n",
" {'en': 'The John Galt Line.', 'es': 'La Línea John Galt.'},\n",
" {'en': '- I think so.', 'es': '- Eso creo.'},\n",
" {'en': 'Him?', 'es': '¿Él?'},\n",
" {'en': \"It's up to you.\", 'es': 'Depende de ti.'},\n",
" {'en': '- What? !', 'es': '- ¿Qué?'},\n",
" {'en': \"Yeah, I don't know.\", 'es': 'Sí, no lo sé.'},\n",
" {'en': 'Murder?', 'es': '¿Asesinato?'},\n",
" {'en': 'Oh, I see.', 'es': 'Ya veo.'},\n",
" {'en': 'Yes, sir.', 'es': 'Si señor.'},\n",
" {'en': 'What happened to your face?', 'es': '¿Qué te pasó en la cara?'},\n",
" {'en': \"I'm gonna get me a new partner.\", 'es': 'Me buscaré un socio nuevo.'},\n",
" {'en': 'No!', 'es': '¡No!'},\n",
" {'en': \"I left it at Maria's a while ago.\",\n",
"  'es': 'Se lo dejé a María hace un tiempo.'},\n",
" {'en': 'Good.', 'es': 'Bien.'},\n",
" {'en': 'Bullshtak.', 'es': 'Shtak de toro.'},\n",
" {'en': 'Have you gone mad?', 'es': 'Es un poco tarde para esas preguntas.'},\n",
" {'en': 'Anyway, thank you.', 'es': 'En fin, gracias.'},\n",
" {'en': \"No, that's just a...\", 'es': 'No, es solo...'},\n",
" {'en': 'Cut.', 'es': 'Corte.'},\n",
" {'en': 'Well, that is absolutely not true.',\n",
"  'es': 'Bueno, eso no es para nada verdad.'},\n",
" {'en': 'Wait, what?', 'es': 'Espera, ¿qué?'},\n",
" {'en': 'No, no, no.', 'es': 'No, no.'},\n",
" {'en': 'Whereas this new situation, by altering the conditions of competition in the markets of the Member States of the Community as constituted before 1 January 1986, also influences the level of income of sardine producers of those Member States in the Mediterranean region;',\n",
"  'es': 'Considerando que el nuevo contexto, al alterar las condiciones de competencia en los mercados de los Estados miembros de la Comunidad en su composición anterior al 1 de enero de 1986, afecta asimismo al nivel de ingresos de los productores de sardinas de dichos Estados miembros en la zona mediterránea;'},\n",
" {'en': 'Well, okay.', 'es': 'Está bien.'},\n",
" {'en': 'You think?', 'es': '¿Eso crees?'},\n",
" {'en': 'She says that you can, uh, pull greatness right out of people.',\n",
"  'es': 'Dice que tú puedes sacar la grandeza de la gente.'},\n",
" {'en': \"It's the Thunderbowl, the ultimate test of bowling nerve.\",\n",
"  'es': 'Esto es Bocha relámpago, la máxima prueba para los nervios.'},\n",
" {'en': 'Article 74', 'es': 'Artículo 74'},\n",
" {'en': 'What are you looking at?', 'es': '¿Qué estás mirando?'},\n",
" {'en': '- Oh, I know, I know.', 'es': 'Lo sé.'},\n",
" {'en': 'Oh, please.', 'es': 'Ah, por favor.'},\n",
" {'en': 'ANNEX I', 'es': 'ANEXO I'},\n",
" {'en': 'Stop it!', 'es': '¡Para!'},\n",
" {'en': 'The Assembly:', 'es': 'La Asamblea:'},\n",
" {'en': \"Yeah. Yeah, you're right.\", 'es': 'Tienes razón.'},\n",
" {'en': 'Get the lead out!', 'es': '¡Fuera!'},\n",
" {'en': 'Oh.', 'es': 'Oh.'},\n",
" {'en': \"What have you told him about his father's death?\",\n",
"  'es': '¿Qué le dijiste sobre su muerte?'},\n",
" {'en': 'Victoria.', 'es': 'Victoria.'},\n",
" {'en': 'It is my understanding that the Council is ready to proceed to the vote on the draft resolution before it.',\n",
"  'es': 'Tengo entendido que el Consejo de Seguridad está dispuesto a proceder a la votación del proyecto de resolución que tiene ante sí.'},\n",
" {'en': 'Okay, okay, okay.', 'es': 'Bien, está bien, está bien.'},\n",
" {'en': 'Doctor?', 'es': '¿El doctor?'},\n",
" {'en': 'Are you deaf?', 'es': '- ¿Es sorda?'},\n",
" {'en': 'No worries.', 'es': 'Sin problema.'},\n",
" {'en': 'Well, what do you think?', 'es': 'Bueno, ¿qué crees tú?'},\n",
" {'en': \"Lover's quarrel?\", 'es': '¿Pleito de enamorados?'},\n",
" {'en': 'Nothing could be further from the truth.',\n",
"  'es': 'Si este referendo hubiera tenido lugar antes de la reciente ampliación, ¿nos habríamos adherido – y me refiero a los 10 nuevos Estados miembros– a la UE?'},\n",
" {'en': '- OK?', 'es': '- ¿OK?'},\n",
" {'en': 'Hey, man.', 'es': 'Hey hombre.'},\n",
" {'en': \"That's really nice of you.\", 'es': 'Es muy bonito por tu parte.'},\n",
" {'en': 'He does.', 'es': 'Lo está.'},\n",
" {'en': 'Just cut to the chase.', 'es': 'Para. Ve directo al grano.'},\n",
" {'en': 'Together.', 'es': 'Juntos.'},\n",
" {'en': \"Now he's dead.\", 'es': 'Y ahora está muerto.'},\n",
" {'en': \"This isn't about me.\", 'es': 'Esto no es sobre mí.'},\n",
" {'en': 'Max?', 'es': '¿Max?'},\n",
" {'en': 'Period.', 'es': 'Punto.'},\n",
" {'en': 'BEVERLY: What?', 'es': '¿Qué?'},\n",
" {'en': 'Right.', 'es': 'cierto.'},\n",
" {'en': \"I'll see you all tomorrow.\", 'es': 'Hasta mañana.'},\n",
" {'en': 'No, you crazy?', 'es': '- No. ¿Estás loco?'},\n",
" {'en': 'Neighbouring Country', 'es': 'País vecino'},\n",
" {'en': \"Oh, I'm sorry.\", 'es': 'Lo siento.'},\n",
" {'en': \"Don't tempt me.\", 'es': 'No me tientes.'},\n",
" {'en': \"I just couldn't do it.\", 'es': 'yo no podía hacerlo.'},\n",
" {'en': 'Doctors.', 'es': 'Doctores.'},\n",
" {'en': 'Jack!', 'es': '¡Jack!'},\n",
" {'en': '- Wait.', 'es': '- Espera.'},\n",
" {'en': 'Enron on-line will change the markets for many many commodities.',\n",
"  'es': 'Enron Online cambiará los mercados ...para muchas mercancías.'},\n",
" {'en': \"He can't take care of himself.\",\n",
"  'es': 'No puede cuidarse a si mismo.'},\n",
" {'en': 'Look.', 'es': 'Mira.'},\n",
" {'en': '-Close your eyes.', 'es': 'Cierra tus ojos.'},\n",
" {'en': 'Wanna give it a shot?', 'es': '¿Quieres darle algún toque?'},\n",
" {'en': 'Do you understand that?', 'es': '¿Entiendes eso?'},\n",
" {'en': 'Nobody gave shit for me!', 'es': '¡A nadie le importo una mierda!'},\n",
" {'en': \"- You're welcome.\", 'es': '- De nada.'},\n",
" {'en': '- Who? Me?', 'es': '¿Yo?'},\n",
" {'en': \"He's a liar.\", 'es': '- Es un mentiroso.'},\n",
" {'en': 'What?', 'es': '¿Qué?'},\n",
" {'en': 'Come on.', 'es': 'Vamos.'},\n",
" {'en': 'Tell me everything.', 'es': 'Cuéntemelo todo.'},\n",
" {'en': \"It's a metaphor.\", 'es': 'Es una metáfora.'},\n",
" {'en': 'Paragraphs Page', 'es': 'Párrafos Página'},\n",
" {'en': '- Oh, no, please.', 'es': '- No, por favor.'},\n",
" {'en': 'Hope so.', 'es': 'Eso espero.'},\n",
" {'en': '- Roger, roger.', 'es': '- Entendido, entendido.'},\n",
" {'en': '- Who is it?', 'es': '- Quién es?'},\n",
" {'en': \"They're coming back.\", 'es': 'Aquí vamos.'},\n",
" {'en': \"It's almost 8.\", 'es': 'Son casi las 8.'},\n",
" {'en': 'I promise.', 'es': 'Lo prometo.'},\n",
" {'en': 'Maybe we should just do our jobs.',\n",
"  'es': 'Tal vez deberíamos dedicarnos a nuestros trabajos.'},\n",
" {'en': \"If you don't like it, don't look.\",\n",
"  'es': 'Si no te gusta, no mires.'},\n",
" {'en': '- Hey, there.', 'es': '-Hola'},\n",
" {'en': 'No, sorry.', 'es': 'Ni me importa.'},\n",
" {'en': 'See you tomorrow.', 'es': 'Nos vemos mañana.'},\n",
" {'en': 'Come on.', 'es': 'Vamos.'},\n",
" {'en': 'Stella?', 'es': 'Estrella?'},\n",
" {'en': 'What are you trying to say?', 'es': '¿Qué tratas de decir?'},\n",
" {'en': 'One vial with powder for solution for injection contains nonacog alfa 1000 IU and excipients.',\n",
"  'es': 'Un vial con polvo para solución inyectable que contiene 1000 UI de nonacog alfa y excipientes.'},\n",
" {'en': \"I understand, ma'am.\", 'es': 'Lo entiendo, señora.'},\n",
" {'en': '- I heard you.', 'es': 'Sí, sargento.'},\n",
" {'en': '- Who do you think?', 'es': '- ¿Quién va a ser?'},\n",
" {'en': 'Stop now.', 'es': 'Para ya.'},\n",
" {'en': 'Nobody.', 'es': 'Nadie.'},\n",
" {'en': 'Actually, no.', 'es': 'De hecho, no.'},\n",
" {'en': \"I don't know, honey.\", 'es': 'No lo sé, cariño.'},\n",
" {'en': 'Aware of the devastating impact of crime on the national economies of African States and of the fact that crime is a major obstacle to harmonious and sustainable development in Africa,',\n",
"  'es': 'Consciente de la repercusión devastadora del delito en la economía nacional de los Estados de África y de que la delincuencia constituye un obstáculo importante para el desarrollo armonioso y sostenible en África,'},\n",
" {'en': 'Why ?', 'es': '¿Por qué?'},\n",
" {'en': 'Here.', 'es': 'Toma.'},\n",
" {'en': 'Mr\\xa0President, rapporteur, ladies and gentlemen, I would like to congratulate the Committee on Development, and in particular Mrs\\xa0Carlotti, on its work.',\n",
"  'es': 'Señor Presidente, señora ponente, Señorías, quisiera felicitar a la Comisión de Desarrollo, y en especial a la señora Carlotti, por su trabajo.'},\n",
" {'en': 'DATE OF FIRST AUTHORISATION/ RENEWAL OF THE AUTHORISATION',\n",
"  'es': 'FECHA DE LA PRIMERA AUTORIZACIÓN/ RENOVACIÓN DE LA AUTORIZACIÓN'},\n",
" {'en': 'Thank you.', 'es': 'Gracias.'},\n",
" {'en': 'Hey.', 'es': 'Hola...'},\n",
" {'en': '- I trust you.', 'es': '- Confío en ti.'},\n",
" {'en': \"I've tried.\", 'es': 'Lo he intentado.'},\n",
" {'en': \"-You don't understand...\", 'es': '-No entiende...'},\n",
" {'en': 'Do you know where they went?', 'es': '¿Sabes adónde fueron?'},\n",
" {'en': \"No, it's not possible.\", 'es': 'No, no es posible.'},\n",
" {'en': 'Stay calm! No!', 'es': '¡Mantén la calma!'},\n",
" {'en': 'Nothing.', 'es': 'Nada.'},\n",
" {'en': '-Hello.', 'es': '- Hola.'},\n",
" {'en': 'Oh, no, no!', 'es': '¡No, no!'},\n",
" {'en': 'Well, talk to you later.', 'es': 'Bueno, luego hablamos.'},\n",
" {'en': '-A LSD predecessor?', 'es': '- ¿Un predecesor del LSD?'},\n",
" {'en': 'Is she all right?', 'es': '¿Está bien?'},\n",
" {'en': '- Quiet!', 'es': '- ¡Silencio!'},\n",
" {'en': 'You look great.', 'es': 'Te ves genial.'},\n",
" {'en': 'Seriously.', 'es': '- En serio.'},\n",
" {'en': 'You wore them so proudly.',\n",
"  'es': 'Usted los portaba tan orgullosamente.'},\n",
" {'en': 'Elise?', 'es': '¿Elise?'},\n",
" {'en': '26:48', 'es': '7:26'},\n",
" {'en': 'Damn!', 'es': 'Maldición!'},\n",
" {'en': 'How to get there?', 'es': '¿Cómo llegar?'},\n",
" {'en': 'Okay.', 'es': 'Vale.'},\n",
" {'en': 'And then my Mr. Tuttle and your Mr. Moguy can hash out the finer details between themselves.',\n",
"  'es': 'Y entonces mi Sr. Tuttle y su Sr. Moguy puede discutir los más íntimos detalles entre ellos.'},\n",
" {'en': '- Oh, get out.', 'es': '-Lárgate.'},\n",
" {'en': 'Airport.', 'es': '- ¿Aeropuerto?'},\n",
" {'en': 'How do I know I can trust you?',\n",
"  'es': '¿Cómo sé que puedo confiar en ti?'},\n",
" {'en': \"You don't know that.\", 'es': 'No lo sabes.'},\n",
" {'en': '- Yeah, we know.', 'es': '-Sí, lo sabemos.'},\n",
" {'en': \"That's classified.\", 'es': '- Es un secreto.'},\n",
" {'en': 'Brilliant!', 'es': '¡Brillante!'},\n",
" {'en': '- Friends.', 'es': '- Amigos.'},\n",
" {'en': \"What's this?\", 'es': '¿Qué es esto?'},\n",
" {'en': \"No, I'm okay.\", 'es': '- No estoy bien, estoy bien.'},\n",
" {'en': 'Now, say it again once more.', 'es': 'Repítelo otra vez.'},\n",
" {'en': 'Joint Inspection Unit', 'es': 'Dependencia Común de Inspección'},\n",
" {'en': 'I was just looking for--', 'es': 'Estaba buscando...'},\n",
" {'en': '2.25 1.125 0.56 1.35 0.68 0.34 0.9 0.45 0.225',\n",
"  'es': '2,25 1,125 0,56 1,35 0,68 0,34 0,9 0,45 0,225'},\n",
" {'en': 'Can you see?', 'es': '¿Puedes ver?'},\n",
" {'en': \"That's really something.\", 'es': 'Es verdaderamente importante.'},\n",
" {'en': \"Listen, for our ten-year vow renewal, you'll do your mint mixology station.\",\n",
"  'es': 'Escucha, para la renovación de nuestros votos de los diez años, harás tu cóctel de menta. Genial.'},\n",
" {'en': 'News flash.', 'es': 'Noticia de última hora.'},\n",
" {'en': \"Shouldn't be a big deal.\", 'es': 'No debe ser cualquier cosa que,'},\n",
" {'en': '- Have you seen him?', 'es': '- ¿Le has visto?'},\n",
" {'en': 'I understand.', 'es': 'Lo entiendo.'},\n",
" {'en': 'ANNEX', 'es': 'ANEXO'},\n",
" {'en': 'Article 13(4) of Regulation (EC) No 3072/95, provides that when refunds are being fixed account must be taken of the existing situation and the future trend with regard to prices and availabilities of rice and broken rice on the Community market on the one hand and prices for rice and broken rice on the world market on the other.',\n",
"  'es': 'En virtud de lo dispuesto en el apartado 4 del artículo 13 del Reglamento (CE) no 3072/95, las restituciones deben fijarse tomando en consideración la situación y las perspectivas de evolución, por una parte, de las disponibilidades de arroz partido y de sus precios en el mercado de la Comunidad y, por otra parte, de los precios del arroz y el arroz partido en el mercado mundial.'},\n",
" {'en': '66.', 'es': '66.'},\n",
" {'en': 'For how long?', 'es': '¿Por cuánto tiempo?'},\n",
" {'en': \"It's yours.\", 'es': 'Toma.'},\n",
" {'en': 'Not then.', 'es': 'No en esa época.'},\n",
" {'en': \"Wait, wait, what's that?\", 'es': 'Espera, espera, qué es eso?'},\n",
" {'en': 'I love you.', 'es': 'Te amo.'},\n",
" {'en': \"I'll see you in court.\", 'es': 'Te veré en el tribunal.'},\n",
" {'en': '- Of course.', 'es': '- Por supuesto.'},\n",
" {'en': '- No, no.', 'es': '- No, no.'},\n",
" {'en': '- You sure?', 'es': '¿Seguro?'},\n",
" {'en': '- Or else?', 'es': '¿O bien?'},\n",
" {'en': 'Respect for the views of the child',\n",
"  'es': 'Respeto de las opiniones del niño'},\n",
" {'en': 'This is Paul.', 'es': 'Habla Paul.'},\n",
" {'en': 'Oh, dear.', 'es': 'Oh, querida.'},\n",
" {'en': \"What's the secret?\", 'es': '¿Cuál es el secreto?'},\n",
" {'en': \"I don't see a thing.\", 'es': 'No veo nada.'},\n",
" {'en': 'Got it?', 'es': '¿Enterado?'},\n",
" {'en': 'Chloe!', 'es': '¡Cloé!'},\n",
" {'en': 'Alright!', 'es': '¡Bien!'},\n",
" {'en': 'Well done.', 'es': 'Bien hecho.'},\n",
" {'en': '1.', 'es': '1.'},\n",
" {'en': 'Well...', 'es': 'Bueno...'},\n",
" {'en': 'Have you ever thought about getting out?',\n",
"  'es': '¿Alguna vez has pensado en irte?'},\n",
" {'en': 'But then, when we find that gold...',\n",
"  'es': 'Pero entonces, cuando encontremos el oro...'},\n",
" {'en': \"I know what I'm doing.\", 'es': 'Sé lo que estoy haciendo.'},\n",
" {'en': 'Article 6', 'es': 'Artículo 6'},\n",
" {'en': \"We're fucked.\", 'es': 'Estamos jodidos.'},\n",
" {'en': \"He's killing bad people who got a 2nd chance in life.\",\n",
"  'es': 'Está matando \"gente mala\" que obtuvo una 2ª oportunidad en la vida.'},\n",
" {'en': 'You know which one?', 'es': '¿Sabes cúal?'},\n",
" {'en': 'Nope.', 'es': 'No.'},\n",
" {'en': 'What?', 'es': '¿Qué?'},\n",
" {'en': 'You all right?', 'es': '¿Estás bien?'},\n",
" {'en': 'Uh, yeah.', 'es': 'Sí. Está bien.'},\n",
" {'en': '[LAUGHING]',\n",
"  'es': 'Así es que me gustaría presentar Una moción para que le enviamos'},\n",
" {'en': 'Bye.', 'es': '- Adiós.'},\n",
" {'en': 'Yeah, what?', 'es': 'Ok. ¿Qué?'},\n",
" {'en': 'No.', 'es': 'No.'},\n",
" {'en': 'I have her.', 'es': 'La tengo.'},\n",
" {'en': 'What are you doing there?', 'es': '? Que haces ahi parado? ?'},\n",
" {'en': 'The minute I see an opening, okay?',\n",
"  'es': '¿En cuanto vea el momento, vale?'},\n",
" {'en': \"Oh, that's so cute.\", 'es': 'Qué mono.'},\n",
" {'en': '- Yes, sorry.', 'es': 'Sí, perdónanos.'},\n",
" {'en': 'Font &Size',\n",
"  'es': 'Tamaño del tipo de letra@action boldify selected text'},\n",
" {'en': 'I was able to reach an agreement with the Liberals to the effect that their amendment would be adopted although in modified form.',\n",
"  'es': 'He podido llegar a un acuerdo con los liberales para recoger su enmienda, si bien, modificada.'},\n",
" {'en': '-Do you have a moment?', 'es': 'Director Green, ¿tiene un momento?'},\n",
" {'en': \"I'm not going through that.\", 'es': 'No pasaré por ello.'},\n",
" {'en': 'METHOD AND ROUTE(S) OF ADMINISTRATION',\n",
"  'es': 'FORMA Y VÍA(S) DE ADMINISTRACIÓN'},\n",
" {'en': '- Yep.', 'es': '- Sí.'},\n",
" {'en': 'Come on, Spock.', 'es': '¡Vamos, Spock!'},\n",
" {'en': 'Withdrawal', 'es': 'Tamaño de envase'},\n",
" {'en': 'However, an embossing press combined with letters or figures obtained by means of perforation, or printing on the licence may be substituted for the issuing authority’s stamp.',\n",
"  'es': 'No obstante, el sello de los organismos expedidores podrá ser sustituido por un sello seco combinado con letras y cifras obtenidas mediante perforación o impresión sobre la licencia.'},\n",
" {'en': 'Well.', 'es': 'Bueno.'},\n",
" {'en': 'Given this focus, all sectors should formulate programmes and projects that target the poor, the vulnerable and the un-reached.',\n",
"  'es': 'En consecuencia, todos los sectores deberán formular programas y proyectos destinados a las personas pobres, vulnerables y abandonadas.'},\n",
" {'en': 'Damn!', 'es': 'Maldición.'},\n",
" {'en': 'Better?', 'es': '¿Mejor?'},\n",
" {'en': '- Do what I say.', 'es': '- Haz lo que te digo.'},\n",
" {'en': 'No.', 'es': 'No.'},\n",
" {'en': 'OK, then.', 'es': 'De acuerdo, entonces.'},\n",
" {'en': 'Oh, you have got to be freaking kidding me!',\n",
"  'es': 'Oh, ¡tienes que estar bromeando carajo¡'},\n",
" {'en': 'Yes, sir.', 'es': 'Sí, señor.'},\n",
" {'en': 'Well, Mrs Norbury,', 'es': 'Bien, Sra. Norbury,'},\n",
" {'en': 'Edie.', 'es': 'Eddie.'},\n",
" {'en': 'Sorry.', 'es': 'Perdona.'},\n",
" {'en': 'I accept your apology.', 'es': 'Acepto tu disculpa.'},\n",
" {'en': 'Okay.', 'es': 'Vale.'},\n",
" {'en': '-I only provide winners.', 'es': '¡Yo sólo doy ganadores!'},\n",
" {'en': 'Maybe you should.', 'es': 'Tal vez deberías.'},\n",
" {'en': 'But...', 'es': 'Pero...'},\n",
" {'en': 'If you pollinate too early, it may not work.',\n",
"  'es': 'Si polinizas demasiado pronto, puede que no funcione bien.'},\n",
" {'en': 'One, two, and three.', 'es': 'Una, dos y tres.'},\n",
" {'en': \"But that ain't all, come take a looksee.\",\n",
"  'es': 'Pero eso no es todo. Ven aquí y mira.'},\n",
" {'en': 'No.', 'es': 'No.'},\n",
" {'en': 'Addendum', 'es': 'Adición'},\n",
" {'en': 'She wants a divorce.', 'es': 'Ella quiere el divorcio.'},\n",
" {'en': 'Is it?', 'es': '¿Sí?'},\n",
" {'en': 'Office of the Director', 'es': 'Oficina del Director'},\n",
" {'en': 'Congratulations.', 'es': 'Te felicito.'},\n",
" {'en': '- Who?', 'es': '- ¿De quién?'},\n",
" {'en': \"What's going on?\", 'es': '- ¿Qué pasa?'},\n",
" {'en': 'Lenny. How have you been?', 'es': 'Lenny, ¿cómo has estado?'},\n",
" {'en': 'Thank you.', 'es': 'Gracias.'},\n",
" {'en': 'Click on the Add Photos button and select from your computer the TIF photos you wish to flip. Then click the ‘Next’ button.',\n",
"  'es': 'Haga clic en la botón Añadir y seleccione las fotos desde el ordenador las fotos JPG que usted desea retocar.'},\n",
" {'en': \"I'm here.\", 'es': 'He llegado.'},\n",
" {'en': \"That's bullshit.\", 'es': 'Qué disparate.'},\n",
" {'en': 'A little senile, you mean, with one foot and a big toe in the grave?',\n",
"  'es': 'Quieres decir un poco senil, ¿con un pie en la tumba?'},\n",
" {'en': '- Yes?', 'es': '¿Si?'},\n",
" {'en': 'Finish:', 'es': 'Acabados:'},\n",
" {'en': 'Huh?', 'es': 'Eh... ¿qué?'},\n",
" {'en': \"Oh, it's good to be home.\", 'es': 'Es bueno estar en casa.'},\n",
" {'en': 'In its 3-year action plan of consumer policy in the EC (1990-1992) the Commission emphasized its aim to rapidly and radically improve the standards of consumer informa tion about the use of consumer products in order to prepare consumers for the full implementation of the internal market by 1993.',\n",
"  'es': 'En su Plan trienal de acción sobre política de los consumidores en la CE (1990-1992), la Comisión hizo hincapié en su objetivo de mejorar de forma acelerada y radical los niveles de información al consumidor en relación con la utilización de productos de consumo, para preparar al consumidor ante la plena realización del mercado interior en 1993.'},\n",
" {'en': 'What is so special about me?', 'es': '¿Qué tengo de especial?'},\n",
" {'en': 'What was the plan?', 'es': '¿Cuál era el plan?'},\n",
" {'en': 'Now, listen...', 'es': 'Escuche...'},\n",
" {'en': \"- Who's that?\", 'es': '- ¿Quién es esa?'},\n",
" {'en': 'You again.', 'es': 'Otra vez tú.'},\n",
" {'en': 'Let me take you home.', 'es': 'Permíteme llevarte a casa.'},\n",
" {'en': 'There was nothing we could do.', 'es': 'No pudimos hacer nada.'},\n",
" {'en': 'No, actually, I come for your girls.',\n",
"  'es': 'No, de hecho, yo vengo por ellas.'},\n",
" {'en': '- Key?', 'es': '- ¿Llave?'},\n",
" {'en': 'Get dressed.', 'es': 'Vístete.'},\n",
" {'en': '- Okay.', 'es': '- De acuerdo.'},\n",
" {'en': 'Come on.', 'es': 'Vamos.'},\n",
" {'en': \"- 'Bye.\", 'es': '- Adiós.'},\n",
" {'en': 'Her body language is all wrong.',\n",
"  'es': 'Su lenguaje corporal es todo incorrecto.'},\n",
" {'en': 'Bullshit!', 'es': '¡Y una mierda!'},\n",
" {'en': \"I'm sorry!\", 'es': '¡Lo siento!'},\n",
" {'en': 'Hello.', 'es': '- Hola.'},\n",
" {'en': '- Damn.', 'es': '- Maldición.'},\n",
" {'en': \"People's direct action.\", 'es': 'Acción directa del Pueblo.'},\n",
" {'en': 'Fine weather today.', 'es': 'El tiempo está bueno hoy.'},\n",
" {'en': \"This might sound crazy, but they're allergic to drunk people.\",\n",
"  'es': 'Esto probablemente sonará como una locura, pero son alérgicos a la gente ebria.'},\n",
" {'en': 'You oughta be ashamed of yourself.',\n",
"  'es': '-Seguro. -Debería avergonzarte de ti mismo.'},\n",
" {'en': 'Mama.', 'es': 'Mamá.'},\n",
" {'en': 'Morning.', 'es': '- ¿Y su alquiler?'},\n",
" {'en': 'Who then?', 'es': '¿Y quién es?'},\n",
" {'en': \"I don't know how to tell you, but...\",\n",
"  'es': 'No sé cómo decírtelo, pero...'},\n",
" {'en': 'What the hell just happened?', 'es': '¿Qué diablos acaba de pasar?'},\n",
" {'en': 'Just kidding.', 'es': 'Estoy bromenado.'},\n",
" {'en': 'Can I come in?', 'es': '¿Puedo pasar?'},\n",
" {'en': 'points 4.1 and 4.2 are deleted;',\n",
"  'es': 'se suprimen los puntos 4.1 y 4.2;'},\n",
" {'en': 'Are you kidding me?', 'es': '¿Estás de broma?'},\n",
" {'en': 'You threatened Hans Pettersson in prison.',\n",
"  'es': 'Amenazaste a Hans Pettersson desde la cárcel.'},\n",
" {'en': '- What the hell are you doing?', 'es': '¿Qué haces aquí?'},\n",
" {'en': 'Look,', 'es': 'Mire,'},\n",
" {'en': 'You want a hug?', 'es': '¿Quieres un abrazo?'},\n",
" {'en': 'You were flawed, weak, malleable.',\n",
"  'es': 'Estabas dañado, débil, maleable.'},\n",
" {'en': 'I...', 'es': 'Yo...'},\n",
" {'en': \"What's the use in fighting our natures.\",\n",
"  'es': '¿Qué sentido tiene luchar contra nuestra propia naturaleza?'},\n",
" {'en': 'He is your son.', 'es': 'Es tu hijo.'},\n",
" {'en': \"I'm Gravity, Mission Commander's assistant.\",\n",
"  'es': 'Soy Gravedad, asistente del comandante de la misión.'},\n",
" {'en': 'Great.', 'es': 'Genial.'},\n",
" {'en': '\"PWIP PIP\"?', 'es': '¿PPG PIP?'},\n",
" {'en': 'You sad?', 'es': '¿Triste?'},\n",
" {'en': '- Jubilee?', 'es': '- ¿Jubileo?'},\n",
" {'en': \"I can't wait to tell the judge all about this tomorrow.\",\n",
"  'es': 'No veo la hora de contarle al juez todo esto mañana.'},\n",
" {'en': \"It's not bad.\", 'es': '- Igual no es poco.'},\n",
" {'en': \"- I don't know.\", 'es': 'Va a estar enojada.'},\n",
" {'en': '[ Doorbell rings ]', 'es': '[Suena el timbre]'},\n",
" {'en': 'I gotta go to the bathroom.', 'es': 'Debo ir al baño.'},\n",
" {'en': \"I'll blow them away.\", 'es': 'Los machacaré.'},\n",
" {'en': \"That's it.\", 'es': 'Se acabó.'},\n",
" {'en': \"Don't you want to call me a phony jerk first?\",\n",
"  'es': 'No deseas llamarme falso idiota primero?'},\n",
" {'en': 'Neither the radio.', 'es': 'Tampoco las radios.'},\n",
" {'en': '\"No.', 'es': '\"No.'},\n",
" {'en': '-Of course I do.', 'es': 'Claro que sí.'},\n",
" {'en': 'Stop...', 'es': 'Para...'},\n",
" {'en': \"- You're a bad boy.\", 'es': '- Eres un mal tipo.'},\n",
" {'en': \"You don't think?\", 'es': '- ¿Creen?'},\n",
" {'en': 'Emma?', 'es': '¿Emma?'},\n",
" {'en': \"You're in excellent hands.\", 'es': 'Estás en excelentes manos.'},\n",
" {'en': \"Keep 'em closed.\", 'es': 'Mantenlos cerrados.'},\n",
" {'en': 'Alone and forgotten.', 'es': 'Solo y olvidado.'},\n",
" {'en': \"No, I didn't.\", 'es': 'No, yo no le he dicho nada.'},\n",
" {'en': \"He's all alone?\", 'es': '¿Él está totalmente solo?'},\n",
" {'en': 'Right.', 'es': 'Bien.'},\n",
" {'en': 'Well, okay.', 'es': 'Bueno, de acuerdo.'},\n",
" {'en': \"He's not.\", 'es': 'No está libre.'},\n",
" {'en': '- Christ!', 'es': '- Cristo.'},\n",
" {'en': 'Eurostat', 'es': 'Eurostat.'},\n",
" {'en': 'The demon woman was here, the one who attacked you.',\n",
"  'es': 'La chica demonio estuvo aquí, la que te atacó.'},\n",
" {'en': 'Having regard to the proposal of the Italian Government,',\n",
"  'es': 'Vista la propuesta del Gobierno italiano,'},\n",
" {'en': \"You're not going to help me?\", 'es': '¿No me ayudarás?'},\n",
" {'en': 'School.', 'es': 'Escuela.'},\n",
" {'en': \"I don't know what...\", 'es': 'No sé qué ...'},\n",
" {'en': \"You don't have to tattoo my dad.\",\n",
"  'es': 'No tienen que tatuar a mi papá.'},\n",
" {'en': \"It's in you.\", 'es': 'Está dentro de ti.'},\n",
" {'en': 'Take it.', 'es': 'Tómalo.'},\n",
" {'en': \"The others didn't save me.\", 'es': 'Nadie puede salvarte.'},\n",
" {'en': \"I promise I'll never lie to you again.\",\n",
"  'es': 'Te prometo que nunca volveré a mentirte.'},\n",
" {'en': 'No, no.', 'es': 'No, no.'},\n",
" {'en': \"- They're watching me on Facebook?\", 'es': '- ¿Me ven en Facebook?'},\n",
" {'en': 'Report?', 'es': '¿Reporte?'},\n",
" {'en': 'Now!', 'es': '¡Ahora!'},\n",
" {'en': 'Commission on the Status of Women',\n",
"  'es': 'Comisión de la Condición Jurídica y Social de la Mujer'},\n",
" {'en': '- You did that on purpose.',\n",
"  'es': 'Mi- ¡Maldita sea! ¡Lo hiciste a propósito!'},\n",
" {'en': \"Lizzy, it's just a house and it's yours.\",\n",
"  'es': 'Lizzy, es sólo una casa y es tuya.'},\n",
" {'en': \"She's wrong.\", 'es': 'Está mal.'},\n",
" {'en': 'I think this has finally been achieved.',\n",
"  'es': 'Creo que al final se ha logrado.'},\n",
" {'en': 'The costs and benefits taken into account shall include at least the following:',\n",
"  'es': 'Los costes y beneficios que se tengan en cuenta incluirán, al menos, lo siguiente:'},\n",
" {'en': \"It's taken care of.\", 'es': 'Ya ha sido solucionado.'},\n",
" {'en': 'What a view!', 'es': 'Que vista!'},\n",
" {'en': 'Sole Article', 'es': 'Artículo único'},\n",
" {'en': \"Now, let's get back to work.\", 'es': 'Manos a la obra.'},\n",
" {'en': \"And I don't believe you.\", 'es': 'Y no te creo.'},\n",
" {'en': 'We have multiple vortices touching down.',\n",
"  'es': '¡Tenemos múltiples vórtices tocando tierra!'},\n",
" {'en': \"She's smart.\", 'es': 'Es inteligente.'},\n",
" {'en': 'You and your wife?', 'es': '¿Tuya y de tu esposa?'},\n",
" {'en': 'Billy, no!', 'es': '¡Billy, no!'},\n",
" {'en': \"You don't know that.\", 'es': 'No lo sabes. Sí lo sé.'},\n",
" {'en': 'Sverige sanofi-aventis AB Tel: +46 (0)8 634 50 00',\n",
"  'es': 'Sverige sanofi-aventis AB Tel: +46 (0)8 634 50 00'},\n",
" {'en': 'Come on.', 'es': 'Vamos.'},\n",
" {'en': '21 December 2009', 'es': '29 de diciembre de 2013'},\n",
" {'en': 'Why should I mind?', 'es': 'Por qué debería importarme?'},\n",
" {'en': 'In a six-month rat toxicity study no tumorigenic or unexpected mitogenic responses were observed in non-haematological tissues.',\n",
"  'es': 'En un estudio de toxicidad a seis meses con ratas, no se observaron respuestas cancerígenas o mitógenas inesperadas en tejidos extrahematológicos.'},\n",
" {'en': \"Isn't it?\", 'es': '¿No es así?'},\n",
" {'en': 'Regulation (EEC) No 2658/87 has laid down the general rules for the interpretation of the Combined Nomenclature.',\n",
"  'es': 'El Reglamento (CEE) no 2658/87 establece las reglas generales para la interpretación de la nomenclatura combinada.'},\n",
" {'en': 'This is my fault.', 'es': 'Esto es culpa mía.'},\n",
" {'en': 'Come on, you know what.', 'es': 'Vamos, ya lo sabes.'},\n",
" {'en': \"- Let's see.\", 'es': '- A ver...'},\n",
" {'en': 'I believed in you.', 'es': 'Creo en ti.'},\n",
" {'en': '- Someone like me?', 'es': '- ¿Alguien como yo?'},\n",
" {'en': '- Yeah, but...', 'es': '- Sí, pero...'},\n",
" {'en': \"That's very clever.\", 'es': 'Eso es muy inteligente.'},\n",
" {'en': 'You going somewhere?', 'es': 'Vas a alguna parte?'},\n",
" {'en': \"Isn't it?\", 'es': 'No lo es?'},\n",
" {'en': '(e) To continue to consider, on a priority basis, ways and means of improving its working methods and enhancing its efficiency with a view to identifying widely acceptable measures for future implementation;',\n",
"  'es': 'e) Siga examinando, con carácter prioritario, los medios de mejorar sus métodos de trabajo e incrementar su eficiencia a fin de determinar medidas que cuenten con aceptación general y puedan aplicarse en el futuro;'},\n",
" {'en': 'Not.', 'es': 'No.'},\n",
" {'en': 'I have seen you.', 'es': 'La vi hace 4 años.'},\n",
" {'en': 'Finale', 'es': 'Final'},\n",
" {'en': 'Yeah, it does.', 'es': 'Si, claro.'},\n",
" {'en': \"I'm sure you'll be very happy.\",\n",
"  'es': 'Qué novia tan guapa, estoy seguro de que serás feliz. Adiós.'},\n",
" {'en': 'Hey!', 'es': '¡Oye!'},\n",
" {'en': 'Godspeed, my lord.', 'es': 'Buena suerte, mi señor.'},\n",
" {'en': 'Right which is why I think you should keep your day job.',\n",
"  'es': 'Correcto, es por eso que creo que tienes que mantener tú trabajo diurno.'},\n",
" {'en': '_', 'es': 'Fischer era predecible.'},\n",
" {'en': \"I feel like I'm dreaming.\", 'es': 'Siento que estoy soñando.'},\n",
" {'en': \"I don't think I need to, honey.\",\n",
"  'es': 'No creo que lo necesite, cariño.'},\n",
" {'en': \"- Which bit don't you understand?\",\n",
"  'es': '- ¿Qué parte no entiendes?'},\n",
" {'en': 'Is it anything like your last Christmas letter?', 'es': 'Sí, bueno.'},\n",
" {'en': 'Mike.', 'es': 'Mike.'},\n",
" {'en': 'The haemoglobin should be measured every one or two weeks until it is stable.',\n",
"  'es': 'La hemoglobina se medirá cada una o dos semanas hasta que se estabilice.'},\n",
" {'en': 'Yeah, buddy!', 'es': '- ¡Sí, amigo!'},\n",
" {'en': \"That's not it.\", 'es': 'No se trata de eso.'},\n",
" {'en': 'Come on.', 'es': 'Vamos.'},\n",
" {'en': 'I knew this would happen.', 'es': 'Sabía que esto sucedería.'},\n",
" ...]"
            ]
          },
          "execution_count": 16,
          "metadata": {},
          "output_type": "execute_result"
        }
      ],
      "source": [
      "opus100[\"translation\"]"
      ]
    },
{
      "cell_type": "markdown",
      "metadata": {},
      "source": [
      "Como podemos ver, obtemos uma lista com muitos pares de traduções entre inglês e espanhol, portanto, se quiséssemos a primeira, poderíamos nos sentir tentados a fazer `opus100[\"translation\"][0]`, mas vamos fazer algumas medições de tempo."
      ]
    },
{
      "cell_type": "code",
      "execution_count": 18,
      "metadata": {},
      "outputs": [
      {
          "name": "stdout",
          "output_type": "stream",
          "text": [
          "Tiempo indexando primero por feature y luego por posición: 6.145161390304565 segundos\n",
"Tiempo indexando primero por posición y luego por feature: 0.00044727325439453125 segundos\n"
          ]
        }
      ],
      "source": [
      "from time import time\n",
"\n",
"t0 = time()\n",
"opus100[\"translation\"][0]\n",
"t = time()\n",
"print(f\"Tiempo indexando primero por feature y luego por posición: {t-t0} segundos\")\n",
"\n",
"t0 = time()\n",
"opus100[0][\"translation\"]\n",
"t = time()\n",
"print(f\"Tiempo indexando primero por posición y luego por feature: {t-t0} segundos\")"
      ]
    },
{
      "cell_type": "markdown",
      "metadata": {},
      "source": [
      "Como você pode ver, é muito mais rápido indexar primeiro por posição e depois por recurso, porque se fizermos `opus100[\"translation\"]`, obteremos todos os pares de tradução do conjunto de dados e manteremos o primeiro, enquanto que se fizermos `opus100[0]`, obteremos o primeiro elemento do conjunto de dados e manteremos apenas o recurso que desejamos.\n",
"\n",
"Por isso, é importante indexar primeiro por posição e depois por recurso."
      ]
    },
{
      "cell_type": "markdown",
      "metadata": {},
      "source": [
      "Vejamos agora um exemplo de duas traduções"
      ]
    },
{
      "cell_type": "code",
      "execution_count": 19,
      "metadata": {},
      "outputs": [
      {
          "data": {
            "text/plain": [
            "{'en': \"It was the asbestos in here, that's what did it!\",\n",
" 'es': 'Fueron los asbestos aquí. ¡Eso es lo que ocurrió!'}"
            ]
          },
          "execution_count": 19,
          "metadata": {},
          "output_type": "execute_result"
        }
      ],
      "source": [
      "opus100[0][\"translation\"]"
      ]
    },
{
      "cell_type": "markdown",
      "metadata": {},
      "source": [
      "### Conjuntos de dados iteráveis (streaming)"
      ]
    },
{
      "cell_type": "markdown",
      "metadata": {},
      "source": [
      "Como já dissemos, o download do conjunto de dados iterável é feito à medida que precisamos dos dados e não de uma só vez. Para isso, precisamos adicionar o parâmetro `streaming=True` à função `load_dataset`.\n",
"\n",
"![huggingface_datasets_streaming_dark](https://huggingface.co/datasets/huggingface/documentation-images/resolve/main/datasets/streaming-dark.gif)"
      ]
    },
{
      "cell_type": "code",
      "execution_count": 1,
      "metadata": {},
      "outputs": [
      {
          "name": "stdout",
          "output_type": "stream",
          "text": [
          "{'image': <PIL.JpegImagePlugin.JpegImageFile image mode=RGB size=384x512 at 0x7F9878371AD0>, 'label': 6}\n"
          ]
        }
      ],
      "source": [
      "from datasets import load_dataset\n",
"\n",
"iterable_dataset = load_dataset(\"food101\", split=\"train\", streaming=True)\n",
"\n",
"for example in iterable_dataset:\n",
"    print(example)\n",
"    break"
      ]
    },
{
      "cell_type": "markdown",
      "metadata": {},
      "source": [
      "Diferentemente dos conjuntos de dados normais, com os conjuntos de dados iteráveis não é possível fazer indexação ou fatiamento, porque, como não os temos carregados na memória, não podemos pegar partes do conjunto."
      ]
    },
{
      "cell_type": "markdown",
      "metadata": {},
      "source": [
      "Para iterar em um conjunto de dados iterável, você deve fazer isso com um `for`, como fizemos anteriormente, mas quando quiser apenas obter o próximo elemento, você deve fazer isso com as funções `next()` e `iter()` do Python.\n",
"\n",
"Com a função `next()`, convertemos o conjunto de dados em um tipo de dados iterável do Python. E com a função `next()` obtemos o próximo elemento do tipo de dados iterável. Tudo isso é melhor explicado na postagem [Introduction to Python](https://maximofn.com/python/)."
      ]
    },
{
      "cell_type": "code",
      "execution_count": 5,
      "metadata": {},
      "outputs": [
      {
          "data": {
            "text/plain": [
            "{'image': <PIL.JpegImagePlugin.JpegImageFile image mode=RGB size=384x512>,\n",
" 'label': 6}"
            ]
          },
          "execution_count": 5,
          "metadata": {},
          "output_type": "execute_result"
        }
      ],
      "source": [
      "next(iter(iterable_dataset))"
      ]
    },
{
      "cell_type": "markdown",
      "metadata": {},
      "source": [
      "No entanto, se o que queremos é obter vários elementos novos do conjunto de dados, faremos isso usando a função `list()` e o método `take()`.\n",
"\n",
"Com o método `take()`, informamos ao conjunto de dados iterável quantos elementos novos desejamos. Já com a função `list()`, convertemos esses dados em uma lista."
      ]
    },
{
      "cell_type": "code",
      "execution_count": 6,
      "metadata": {},
      "outputs": [
      {
          "data": {
            "text/plain": [
            "[{'image': <PIL.JpegImagePlugin.JpegImageFile image mode=RGB size=384x512>,\n",
"  'label': 6},\n",
" {'image': <PIL.JpegImagePlugin.JpegImageFile image mode=RGB size=512x512>,\n",
"  'label': 6},\n",
" {'image': <PIL.JpegImagePlugin.JpegImageFile image mode=RGB size=512x383>,\n",
"  'label': 6}]"
            ]
          },
          "execution_count": 6,
          "metadata": {},
          "output_type": "execute_result"
        }
      ],
      "source": [
      "list(iterable_dataset.take(3))"
      ]
    },
{
      "cell_type": "markdown",
      "metadata": {},
      "source": [
      "## Pré-processamento de dados"
      ]
    },
{
      "cell_type": "markdown",
      "metadata": {},
      "source": [
      "Quando temos um conjunto de dados, geralmente precisamos fazer algum pré-processamento dos dados, por exemplo, às vezes precisamos remover caracteres inválidos etc. A biblioteca `dataset` fornece essa funcionalidade por meio do método `map`."
      ]
    },
{
      "cell_type": "markdown",
      "metadata": {},
      "source": [
      "Primeiro, vamos instanciar um conjunto de dados e um tokenizador pré-treinado. Para instanciar o tokenizador, usamos a biblioteca `transformers` e não a biblioteca `tokenizers`, porque com a biblioteca `transformers` podemos instanciar um tokenizador pré-treinado e, com a biblioteca `tokenizers`, teríamos que criar o tokenizador do zero."
      ]
    },
{
      "cell_type": "code",
      "execution_count": 31,
      "metadata": {},
      "outputs": [],
      "source": [
      "from transformers import AutoTokenizer\n",
"from datasets import load_dataset\n",
"\n",
"tokenizer = AutoTokenizer.from_pretrained(\"bert-base-uncased\")\n",
"dataset = load_dataset(\"rotten_tomatoes\", split=\"train\")"
      ]
    },
{
      "cell_type": "markdown",
      "metadata": {},
      "source": [
      "Vamos dar uma olhada nas \"chaves\" do conjunto de dados"
      ]
    },
{
      "cell_type": "code",
      "execution_count": 16,
      "metadata": {},
      "outputs": [
      {
          "data": {
            "text/plain": [
            "dict_keys(['text', 'label'])"
            ]
          },
          "execution_count": 16,
          "metadata": {},
          "output_type": "execute_result"
        }
      ],
      "source": [
      "dataset[0].keys()"
      ]
    },
{
      "cell_type": "markdown",
      "metadata": {},
      "source": [
      "Agora vamos dar uma olhada em um exemplo do conjunto de dados"
      ]
    },
{
      "cell_type": "code",
      "execution_count": 17,
      "metadata": {},
      "outputs": [
      {
          "data": {
            "text/plain": [
            "{'text': 'the rock is destined to be the 21st century\\'s new \" conan \" and that he\\'s going to make a splash even greater than arnold schwarzenegger , jean-claud van damme or steven segal .',\n",
" 'label': 1}"
            ]
          },
          "execution_count": 17,
          "metadata": {},
          "output_type": "execute_result"
        }
      ],
      "source": [
      "dataset[0]"
      ]
    },
{
      "cell_type": "markdown",
      "metadata": {},
      "source": [
      "Vamos tokenizar o texto"
      ]
    },
{
      "cell_type": "code",
      "execution_count": 18,
      "metadata": {},
      "outputs": [
      {
          "data": {
            "text/plain": [
            "{'input_ids': [101, 1996, 2600, 2003, 16036, 2000, 2022, 1996, 7398, 2301, 1005, 1055, 2047, 1000, 16608, 1000, 1998, 2008, 2002, 1005, 1055, 2183, 2000, 2191, 1037, 17624, 2130, 3618, 2084, 7779, 29058, 8625, 13327, 1010, 3744, 1011, 18856, 19513, 3158, 5477, 4168, 2030, 7112, 16562, 2140, 1012, 102], 'token_type_ids': [0, 0, 0, 0, 0, 0, 0, 0, 0, 0, 0, 0, 0, 0, 0, 0, 0, 0, 0, 0, 0, 0, 0, 0, 0, 0, 0, 0, 0, 0, 0, 0, 0, 0, 0, 0, 0, 0, 0, 0, 0, 0, 0, 0, 0, 0, 0], 'attention_mask': [1, 1, 1, 1, 1, 1, 1, 1, 1, 1, 1, 1, 1, 1, 1, 1, 1, 1, 1, 1, 1, 1, 1, 1, 1, 1, 1, 1, 1, 1, 1, 1, 1, 1, 1, 1, 1, 1, 1, 1, 1, 1, 1, 1, 1, 1, 1]}"
            ]
          },
          "execution_count": 18,
          "metadata": {},
          "output_type": "execute_result"
        }
      ],
      "source": [
      "tokenizer(dataset[0][\"text\"])"
      ]
    },
{
      "cell_type": "markdown",
      "metadata": {},
      "source": [
      "Quando vamos treinar um modelo de linguagem, vimos que não podemos passar a ele o texto, mas apenas os tokens, portanto, faremos um pré-processamento do conjunto de dados para tokenizar todos os textos."
      ]
    },
{
      "cell_type": "markdown",
      "metadata": {},
      "source": [
      "Primeiro, criamos uma função que tokeniza um texto de entrada."
      ]
    },
{
      "cell_type": "code",
      "execution_count": 32,
      "metadata": {},
      "outputs": [],
      "source": [
      "def tokenization(example):\n",
"    return tokenizer(example[\"text\"])"
      ]
    },
{
      "cell_type": "markdown",
      "metadata": {},
      "source": [
      "Agora, como dissemos, com o método `map` podemos aplicar uma função a todos os elementos de um conjunto de dados. Também usamos a variável `batched=True` para aplicar a função a lotes de texto, e não um a um, para sermos mais rápidos."
      ]
    },
{
      "cell_type": "code",
      "execution_count": 33,
      "metadata": {},
      "outputs": [],
      "source": [
      "dataset = dataset.map(tokenization, batched=True)"
      ]
    },
{
      "cell_type": "markdown",
      "metadata": {},
      "source": [
      "Vamos agora dar uma olhada nas \"chaves\" do conjunto de dados"
      ]
    },
{
      "cell_type": "code",
      "execution_count": 20,
      "metadata": {},
      "outputs": [
      {
          "data": {
            "text/plain": [
            "dict_keys(['text', 'label', 'input_ids', 'token_type_ids', 'attention_mask'])"
            ]
          },
          "execution_count": 20,
          "metadata": {},
          "output_type": "execute_result"
        }
      ],
      "source": [
      "dataset[0].keys()"
      ]
    },
{
      "cell_type": "markdown",
      "metadata": {},
      "source": [
      "Como podemos ver, novas `chaves` foram adicionadas ao conjunto de dados, que são aquelas adicionadas ao tokenizar o texto."
      ]
    },
{
      "cell_type": "markdown",
      "metadata": {},
      "source": [
      "Vejamos novamente o mesmo exemplo anterior."
      ]
    },
{
      "cell_type": "code",
      "execution_count": 21,
      "metadata": {},
      "outputs": [
      {
          "data": {
            "text/plain": [
            "{'text': 'the rock is destined to be the 21st century\\'s new \" conan \" and that he\\'s going to make a splash even greater than arnold schwarzenegger , jean-claud van damme or steven segal .',\n",
" 'label': 1,\n",
" 'input_ids': [101,\n",
"  1996,\n",
"  2600,\n",
"  2003,\n",
"  16036,\n",
"  2000,\n",
"  2022,\n",
"  1996,\n",
"  7398,\n",
"  2301,\n",
"  1005,\n",
"  1055,\n",
"  2047,\n",
"  1000,\n",
"  16608,\n",
"  1000,\n",
"  1998,\n",
"  2008,\n",
"  2002,\n",
"  1005,\n",
"  1055,\n",
"  2183,\n",
"  2000,\n",
"  2191,\n",
"  1037,\n",
"  17624,\n",
"  2130,\n",
"  3618,\n",
"  2084,\n",
"  7779,\n",
"  29058,\n",
"  8625,\n",
"  13327,\n",
"  1010,\n",
"  3744,\n",
"  1011,\n",
"  18856,\n",
"  19513,\n",
"  3158,\n",
"  5477,\n",
"  4168,\n",
"  2030,\n",
"  7112,\n",
"  16562,\n",
"  2140,\n",
"  1012,\n",
"  102],\n",
" 'token_type_ids': [0,\n",
"  0,\n",
"  0,\n",
"  0,\n",
"  0,\n",
"  0,\n",
"  0,\n",
"  0,\n",
"  0,\n",
"  0,\n",
"  0,\n",
"  0,\n",
"  0,\n",
"  0,\n",
"  0,\n",
"  0,\n",
"  0,\n",
"  0,\n",
"  0,\n",
"  0,\n",
"  0,\n",
"  0,\n",
"  0,\n",
"  0,\n",
"  0,\n",
"  0,\n",
"  0,\n",
"  0,\n",
"  0,\n",
"  0,\n",
"  0,\n",
"  0,\n",
"  0,\n",
"  0,\n",
"  0,\n",
"  0,\n",
"  0,\n",
"  0,\n",
"  0,\n",
"  0,\n",
"  0,\n",
"  0,\n",
"  0,\n",
"  0,\n",
"  0,\n",
"  0,\n",
"  0],\n",
" 'attention_mask': [1,\n",
"  1,\n",
"  1,\n",
"  1,\n",
"  1,\n",
"  1,\n",
"  1,\n",
"  1,\n",
"  1,\n",
"  1,\n",
"  1,\n",
"  1,\n",
"  1,\n",
"  1,\n",
"  1,\n",
"  1,\n",
"  1,\n",
"  1,\n",
"  1,\n",
"  1,\n",
"  1,\n",
"  1,\n",
"  1,\n",
"  1,\n",
"  1,\n",
"  1,\n",
"  1,\n",
"  1,\n",
"  1,\n",
"  1,\n",
"  1,\n",
"  1,\n",
"  1,\n",
"  1,\n",
"  1,\n",
"  1,\n",
"  1,\n",
"  1,\n",
"  1,\n",
"  1,\n",
"  1,\n",
"  1,\n",
"  1,\n",
"  1,\n",
"  1,\n",
"  1,\n",
"  1]}"
            ]
          },
          "execution_count": 21,
          "metadata": {},
          "output_type": "execute_result"
        }
      ],
      "source": [
      "dataset[0]"
      ]
    },
{
      "cell_type": "markdown",
      "metadata": {},
      "source": [
      "Ele é muito maior do que antes"
      ]
    },
{
      "cell_type": "markdown",
      "metadata": {},
      "source": [
      "### Formato do conjunto de dados"
      ]
    },
{
      "cell_type": "markdown",
      "metadata": {},
      "source": [
      "Temos tokenização para poder usar o conjunto de dados com um modelo de linguagem, mas se você observar o tipo de dados de cada `chave`, ele é uma lista."
      ]
    },
{
      "cell_type": "code",
      "execution_count": 35,
      "metadata": {},
      "outputs": [
      {
          "data": {
            "text/plain": [
            "(str, int, list, list, list)"
            ]
          },
          "execution_count": 35,
          "metadata": {},
          "output_type": "execute_result"
        }
      ],
      "source": [
      "type(dataset[0][\"text\"]), type(dataset[0][\"label\"]), type(dataset[0][\"input_ids\"]), type(dataset[0][\"token_type_ids\"]), type(dataset[0][\"attention_mask\"])"
      ]
    },
{
      "cell_type": "markdown",
      "metadata": {},
      "source": [
      "No entanto, para o treinamento, precisamos que eles sejam tensores, portanto, o `datasets` fornece um método para definir o formato dos dados dos conjuntos de dados, que é o método `set_format`."
      ]
    },
{
      "cell_type": "code",
      "execution_count": 36,
      "metadata": {},
      "outputs": [
      {
          "data": {
            "text/plain": [
            "'torch'"
            ]
          },
          "execution_count": 36,
          "metadata": {},
          "output_type": "execute_result"
        }
      ],
      "source": [
      "dataset.set_format(type=\"torch\", columns=[\"input_ids\", \"token_type_ids\", \"attention_mask\", \"label\"])\n",
"dataset.format['type']"
      ]
    },
{
      "cell_type": "markdown",
      "metadata": {},
      "source": [
      "Vamos dar uma olhada novamente nas \"chaves\" do conjunto de dados"
      ]
    },
{
      "cell_type": "code",
      "execution_count": 38,
      "metadata": {},
      "outputs": [
      {
          "data": {
            "text/plain": [
            "dict_keys(['label', 'input_ids', 'token_type_ids', 'attention_mask'])"
            ]
          },
          "execution_count": 38,
          "metadata": {},
          "output_type": "execute_result"
        }
      ],
      "source": [
      "dataset[0].keys()"
      ]
    },
{
      "cell_type": "markdown",
      "metadata": {},
      "source": [
      "Como podemos ver, ao formatar, não temos mais a `chave` `texto` e, na verdade, não precisamos dela."
      ]
    },
{
      "cell_type": "markdown",
      "metadata": {},
      "source": [
      "Agora vemos o tipo de dados de cada `chave`."
      ]
    },
{
      "cell_type": "code",
      "execution_count": 39,
      "metadata": {},
      "outputs": [
      {
          "data": {
            "text/plain": [
            "(torch.Tensor, torch.Tensor, torch.Tensor, torch.Tensor)"
            ]
          },
          "execution_count": 39,
          "metadata": {},
          "output_type": "execute_result"
        }
      ],
      "source": [
      "type(dataset[0][\"label\"]), type(dataset[0][\"input_ids\"]), type(dataset[0][\"token_type_ids\"]), type(dataset[0][\"attention_mask\"])"
      ]
    },
{
      "cell_type": "markdown",
      "metadata": {},
      "source": [
      "Todos são tensionadores, perfeitos para treinamento"
      ]
    },
{
      "cell_type": "markdown",
      "metadata": {},
      "source": [
      "Nesse ponto, poderíamos salvar o conjunto de dados para não precisarmos fazer sempre esse pré-processamento."
      ]
    },
{
      "cell_type": "markdown",
      "metadata": {},
      "source": [
      "## Criar um conjunto de dados"
      ]
    },
{
      "cell_type": "markdown",
      "metadata": {},
      "source": [
      "Ao criar um conjunto de dados, o huggingface nos dá três opções, por meio de pastas, mas, no momento da redação desta postagem, fazê-lo por meio de pastas só é válido para conjuntos de dados de imagem ou áudio.\n",
"\n",
"Os outros dois métodos são por meio de geradores e por meio de dicionários, portanto, vamos dar uma olhada neles."
      ]
    },
{
      "cell_type": "markdown",
      "metadata": {},
      "source": [
      "### Criando um conjunto de dados a partir de um gerador"
      ]
    },
{
      "cell_type": "markdown",
      "metadata": {},
      "source": [
      "Suponha que tenhamos os seguintes pares de frases em inglês e espanhol:"
      ]
    },
{
      "cell_type": "code",
      "execution_count": 1,
      "metadata": {},
      "outputs": [
      {
          "name": "stdout",
          "output_type": "stream",
          "text": [
          "El perro ha comido hoy - The dog has eaten today\n",
"El gato ha dormido hoy - The cat has slept today\n",
"El pájaro ha volado hoy - The bird has flown today\n",
"El pez ha nadado hoy - The fish has swum today\n",
"El caballo ha galopado hoy - The horse has galloped today\n",
"El cerdo ha corrido hoy - The pig has run today\n",
"El ratón ha saltado hoy - The mouse has jumped today\n",
"El elefante ha caminado hoy - The elephant has walked today\n",
"El león ha rugido hoy - The lion has roared today\n",
"El tigre ha cazado hoy - The tiger has hunted today\n"
          ]
        }
      ],
      "source": [
      "print(\"El perro ha comido hoy - The dog has eaten today\")\n",
"print(\"El gato ha dormido hoy - The cat has slept today\")\n",
"print(\"El pájaro ha volado hoy - The bird has flown today\")\n",
"print(\"El pez ha nadado hoy - The fish has swum today\")\n",
"print(\"El caballo ha galopado hoy - The horse has galloped today\")\n",
"print(\"El cerdo ha corrido hoy - The pig has run today\")\n",
"print(\"El ratón ha saltado hoy - The mouse has jumped today\")\n",
"print(\"El elefante ha caminado hoy - The elephant has walked today\")\n",
"print(\"El león ha rugido hoy - The lion has roared today\")\n",
"print(\"El tigre ha cazado hoy - The tiger has hunted today\")"
      ]
    },
{
      "cell_type": "markdown",
      "metadata": {},
      "source": [
      " > Não me julgue, ele é gerado pelo copiloto"
      ]
    },
{
      "cell_type": "markdown",
      "metadata": {},
      "source": [
      "Podemos criar um conjunto de dados usando um gerador importando o `Dataset` e usando seu método `from_generator`."
      ]
    },
{
      "cell_type": "code",
      "execution_count": 3,
      "metadata": {},
      "outputs": [
      {
          "data": {
            "application/vnd.jupyter.widget-view+json": {
              "model_id": "1abdec143d344c158f9cd3062751e698",
              "version_major": 2,
              "version_minor": 0
            },
            "text/plain": [
            "Generating train split: 0 examples [00:00, ? examples/s]"
            ]
          },
          "metadata": {},
          "output_type": "display_data"
        },
{
          "data": {
            "text/plain": [
            "Dataset({\n",
"    features: ['es', 'en'],\n",
"    num_rows: 10\n",
"})"
            ]
          },
          "execution_count": 3,
          "metadata": {},
          "output_type": "execute_result"
        }
      ],
      "source": [
      "from datasets import Dataset\n",
"\n",
"def generator():\n",
"    yield {\"es\": \"El perro ha comido hoy\", \"en\": \"The dog has eaten today\"}\n",
"    yield {\"es\": \"El gato ha dormido hoy\", \"en\": \"The cat has slept today\"}\n",
"    yield {\"es\": \"El pájaro ha volado hoy\", \"en\": \"The bird has flown today\"}\n",
"    yield {\"es\": \"El pez ha nadado hoy\", \"en\": \"The fish has swum today\"}\n",
"    yield {\"es\": \"El caballo ha galopado hoy\", \"en\": \"The horse has galloped today\"}\n",
"    yield {\"es\": \"El cerdo ha corrido hoy\", \"en\": \"The pig has run today\"}\n",
"    yield {\"es\": \"El ratón ha saltado hoy\", \"en\": \"The mouse has jumped today\"}\n",
"    yield {\"es\": \"El elefante ha caminado hoy\", \"en\": \"The elephant has walked today\"}\n",
"    yield {\"es\": \"El león ha rugido hoy\", \"en\": \"The lion has roared today\"}\n",
"    yield {\"es\": \"El tigre ha cazado hoy\", \"en\": \"The tiger has hunted today\"}\n",
"\n",
"dataset = Dataset.from_generator(generator)\n",
"dataset"
      ]
    },
{
      "cell_type": "markdown",
      "metadata": {},
      "source": [
      "O bom de usar o método `from_generator` é que podemos criar um conjunto de dados iterável, que, como vimos anteriormente, não precisa ser carregado inteiro na memória. Para fazer isso, basta importar o módulo `IterableDataset` em vez do módulo `Dataset` e usar o método `from_generator` novamente."
      ]
    },
{
      "cell_type": "code",
      "execution_count": 5,
      "metadata": {},
      "outputs": [
      {
          "data": {
            "text/plain": [
            "IterableDataset({\n",
"    features: ['es', 'en'],\n",
"    n_shards: 1\n",
"})"
            ]
          },
          "execution_count": 5,
          "metadata": {},
          "output_type": "execute_result"
        }
      ],
      "source": [
      "from datasets import IterableDataset\n",
"\n",
"def generator():\n",
"    yield {\"es\": \"El perro ha comido hoy\", \"en\": \"The dog has eaten today\"}\n",
"    yield {\"es\": \"El gato ha dormido hoy\", \"en\": \"The cat has slept today\"}\n",
"    yield {\"es\": \"El pájaro ha volado hoy\", \"en\": \"The bird has flown today\"}\n",
"    yield {\"es\": \"El pez ha nadado hoy\", \"en\": \"The fish has swum today\"}\n",
"    yield {\"es\": \"El caballo ha galopado hoy\", \"en\": \"The horse has galloped today\"}\n",
"    yield {\"es\": \"El cerdo ha corrido hoy\", \"en\": \"The pig has run today\"}\n",
"    yield {\"es\": \"El ratón ha saltado hoy\", \"en\": \"The mouse has jumped today\"}\n",
"    yield {\"es\": \"El elefante ha caminado hoy\", \"en\": \"The elephant has walked today\"}\n",
"    yield {\"es\": \"El león ha rugido hoy\", \"en\": \"The lion has roared today\"}\n",
"    yield {\"es\": \"El tigre ha cazado hoy\", \"en\": \"The tiger has hunted today\"}\n",
"\n",
"iterable_dataset = IterableDataset.from_generator(generator)\n",
"iterable_dataset"
      ]
    },
{
      "cell_type": "markdown",
      "metadata": {},
      "source": [
      "Agora podemos pegar os dados um a um"
      ]
    },
{
      "cell_type": "code",
      "execution_count": 6,
      "metadata": {},
      "outputs": [
      {
          "data": {
            "text/plain": [
            "{'es': 'El perro ha comido hoy', 'en': 'The dog has eaten today'}"
            ]
          },
          "execution_count": 6,
          "metadata": {},
          "output_type": "execute_result"
        }
      ],
      "source": [
      "next(iter(iterable_dataset))"
      ]
    },
{
      "cell_type": "markdown",
      "metadata": {},
      "source": [
      "O em lotes"
      ]
    },
{
      "cell_type": "code",
      "execution_count": 7,
      "metadata": {},
      "outputs": [
      {
          "data": {
            "text/plain": [
            "[{'es': 'El perro ha comido hoy', 'en': 'The dog has eaten today'},\n",
" {'es': 'El gato ha dormido hoy', 'en': 'The cat has slept today'},\n",
" {'es': 'El pájaro ha volado hoy', 'en': 'The bird has flown today'}]"
            ]
          },
          "execution_count": 7,
          "metadata": {},
          "output_type": "execute_result"
        }
      ],
      "source": [
      "list(iterable_dataset.take(3))"
      ]
    },
{
      "cell_type": "markdown",
      "metadata": {},
      "source": [
      "### Criando um conjunto de dados a partir de um dicionário"
      ]
    },
{
      "cell_type": "markdown",
      "metadata": {},
      "source": [
      "Talvez tenhamos os dados armazenados em um dicionário e, nesse caso, podemos criar um conjunto de dados importando o módulo `Dataset` e usando o método `from_dict`."
      ]
    },
{
      "cell_type": "code",
      "execution_count": 2,
      "metadata": {},
      "outputs": [
      {
          "data": {
            "text/plain": [
            "Dataset({\n",
"    features: ['es', 'en'],\n",
"    num_rows: 10\n",
"})"
            ]
          },
          "execution_count": 2,
          "metadata": {},
          "output_type": "execute_result"
        }
      ],
      "source": [
      "from datasets import Dataset\n",
"\n",
"translations_dict = {\n",
"    \"es\": [\n",
"            \"El perro ha comido hoy\",\n",
"            \"El gato ha dormido hoy\",\n",
"            \"El pájaro ha volado hoy\",\n",
"            \"El pez ha nadado hoy\",\n",
"            \"El caballo ha galopado hoy\",\n",
"            \"El cerdo ha corrido hoy\",\n",
"            \"El ratón ha saltado hoy\",\n",
"            \"El elefante ha caminado hoy\",\n",
"            \"El león ha rugido hoy\",\n",
"            \"El tigre ha cazado hoy\"\n",
"        ],\n",
"    \"en\": [\n",
"            \"The dog has eaten today\",\n",
"            \"The cat has slept today\",\n",
"            \"The bird has flown today\",\n",
"            \"The fish has swum today\",\n",
"            \"The horse has galloped today\",\n",
"            \"The pig has run today\",\n",
"            \"The mouse has jumped today\",\n",
"            \"The elephant has walked today\",\n",
"            \"The lion has roared today\",\n",
"            \"The tiger has hunted today\"\n",
"        ]\n",
"}\n",
"\n",
"dataset = Dataset.from_dict(translations_dict)\n",
"dataset"
      ]
    },
{
      "cell_type": "markdown",
      "metadata": {},
      "source": [
      "No entanto, ao criar um conjunto de dados a partir de um dicionário, não podemos criar um conjunto de dados iterável."
      ]
    },
{
      "cell_type": "markdown",
      "metadata": {},
      "source": [
      "## Compartilhe o conjunto de dados no Hub do Rosto Abraçado"
      ]
    },
{
      "cell_type": "markdown",
      "metadata": {},
      "source": [
      "Depois de criarmos o conjunto de dados, podemos carregá-lo em nosso espaço no Hugging Face Hub para que outros possam usá-lo. Para fazer isso, você precisa ter uma conta no Hugging Face."
      ]
    },
{
      "cell_type": "markdown",
      "metadata": {},
      "source": [
      "### Registro em log"
      ]
    },
{
      "cell_type": "markdown",
      "metadata": {},
      "source": [
      "Para fazer upload do conjunto de dados, primeiro precisamos fazer login.\n",
"\n",
"Isso pode ser feito por meio do terminal com\n",
"\n",
"```bash\n",
"huggingface-cli login\n",
"```\n",
"\n",
"Ou por meio do notebook, tendo instalado primeiro a biblioteca `huggingface_hub` com\n",
"\n",
"```bash\n",
"pip install huggingface_hub\n",
"```\n",
"\n",
"Agora, podemos fazer login com a função `notebook_login`, que criará uma pequena interface gráfica na qual devemos inserir um token Hugging Face."
      ]
    },
{
      "cell_type": "markdown",
      "metadata": {},
      "source": [
      "Para criar um token, acesse a página [setings/tokens](https://huggingface.co/settings/tokens) de sua conta, que terá a seguinte aparência\n",
"\n",
"![User-Access-Token-dark](http://maximofn.com/wp-content/uploads/2024/03/User-Access-Token-dark.png)\n",
"\n",
"Clique em `New token` e será exibida uma janela para criar um novo token.\n",
"\n",
"![new-token-dark](http://maximofn.com/wp-content/uploads/2024/03/new-token-dark.png)\n",
"\n",
"Nomeamos o token e o criamos com a função `write`.\n",
"\n",
"Uma vez criado, nós o copiamos"
      ]
    },
{
      "cell_type": "code",
      "execution_count": 3,
      "metadata": {},
      "outputs": [
      {
          "data": {
            "application/vnd.jupyter.widget-view+json": {
              "model_id": "be666551139a4d179587d50a1365236f",
              "version_major": 2,
              "version_minor": 0
            },
            "text/plain": [
            "VBox(children=(HTML(value='<center> <img\\nsrc=https://huggingface.co/front/assets/huggingface_logo-noborder.sv…"
            ]
          },
          "metadata": {},
          "output_type": "display_data"
        }
      ],
      "source": [
      "from huggingface_hub import notebook_login\n",
"\n",
"notebook_login()"
      ]
    },
{
      "cell_type": "markdown",
      "metadata": {},
      "source": [
      "### Upload do conjunto de dados"
      ]
    },
{
      "cell_type": "markdown",
      "metadata": {},
      "source": [
      "Uma vez conectados, podemos fazer upload do conjunto de dados simplesmente usando o método `push_to_hub`, fornecendo um nome para o conjunto de dados"
      ]
    },
{
      "cell_type": "code",
      "execution_count": 5,
      "metadata": {},
      "outputs": [
      {
          "data": {
            "application/vnd.jupyter.widget-view+json": {
              "model_id": "0da14bb34d2f42719adac1a00865d9e5",
              "version_major": 2,
              "version_minor": 0
            },
            "text/plain": [
            "Uploading the dataset shards:   0%|          | 0/1 [00:00<?, ?it/s]"
            ]
          },
          "metadata": {},
          "output_type": "display_data"
        },
{
          "data": {
            "application/vnd.jupyter.widget-view+json": {
              "model_id": "704ae4aed9764c3e901e3f552f529a44",
              "version_major": 2,
              "version_minor": 0
            },
            "text/plain": [
            "Creating parquet from Arrow format:   0%|          | 0/1 [00:00<?, ?ba/s]"
            ]
          },
          "metadata": {},
          "output_type": "display_data"
        },
{
          "data": {
            "text/plain": [
            "CommitInfo(commit_url='https://huggingface.co/datasets/Maximofn/dataset_notebook_demo/commit/71f1ad2cffd6f424f33d45fd992f817d8f76dc0e', commit_message='Upload dataset', commit_description='', oid='71f1ad2cffd6f424f33d45fd992f817d8f76dc0e', pr_url=None, pr_revision=None, pr_num=None)"
            ]
          },
          "execution_count": 5,
          "metadata": {},
          "output_type": "execute_result"
        }
      ],
      "source": [
      "dataset.push_to_hub(\"dataset_notebook_demo\")"
      ]
    },
{
      "cell_type": "markdown",
      "metadata": {},
      "source": [
      "Se formos agora ao nosso Hub, veremos que o conjunto de dados foi carregado.\n",
"\n",
"![push_dataset_public_huggingface](https://maximofn.com/wp-content/uploads/2024/04/push_dataset_public_huggingface.webp)"
      ]
    },
{
      "cell_type": "markdown",
      "metadata": {},
      "source": [
      "Se agora acessarmos o cartão do conjunto de dados e virmos\n",
"\n",
"![dataset_card_public_huggingface](https://maximofn.com/wp-content/uploads/2024/04/dataset_card_public_huggingface-scaled.webp)\n",
"\n",
"Vemos que nem tudo está preenchido, portanto, as informações devem ser completadas."
      ]
    },
{
      "cell_type": "markdown",
      "metadata": {},
      "source": [
      "### Carregamento de conjunto de dados privados"
      ]
    },
{
      "cell_type": "markdown",
      "metadata": {},
      "source": [
      "Se quisermos que somente nós ou as pessoas da nossa organização tenham acesso ao conjunto de dados, teremos que adicionar o atributo `private=true` ao método `push_to_hub`."
      ]
    },
{
      "cell_type": "code",
      "execution_count": 6,
      "metadata": {},
      "outputs": [
      {
          "data": {
            "application/vnd.jupyter.widget-view+json": {
              "model_id": "f6e03845a13e4e62a43564b0d6cdb039",
              "version_major": 2,
              "version_minor": 0
            },
            "text/plain": [
            "Uploading the dataset shards:   0%|          | 0/1 [00:00<?, ?it/s]"
            ]
          },
          "metadata": {},
          "output_type": "display_data"
        },
{
          "data": {
            "application/vnd.jupyter.widget-view+json": {
              "model_id": "8709f44de8df4fa890c1873ee426e234",
              "version_major": 2,
              "version_minor": 0
            },
            "text/plain": [
            "Creating parquet from Arrow format:   0%|          | 0/1 [00:00<?, ?ba/s]"
            ]
          },
          "metadata": {},
          "output_type": "display_data"
        },
{
          "data": {
            "text/plain": [
            "CommitInfo(commit_url='https://huggingface.co/datasets/Maximofn/dataset_notebook_demo_private/commit/c90525f6aa5f1c8c44da3cde2b9599828abd8233', commit_message='Upload dataset', commit_description='', oid='c90525f6aa5f1c8c44da3cde2b9599828abd8233', pr_url=None, pr_revision=None, pr_num=None)"
            ]
          },
          "execution_count": 6,
          "metadata": {},
          "output_type": "execute_result"
        }
      ],
      "source": [
      "dataset.push_to_hub(\"dataset_notebook_demo_private\", private=True)"
      ]
    },
{
      "cell_type": "markdown",
      "metadata": {},
      "source": [
      "Se formos agora ao nosso Hub, veremos que o conjunto de dados foi carregado.\n",
"\n",
"![push_dataset_public_huggingface_private](https://maximofn.com/wp-content/uploads/2024/04/push_dataset_public_huggingface_private.webp)"
      ]
    },
{
      "cell_type": "markdown",
      "metadata": {},
      "source": [
      "Se agora acessarmos o cartão do conjunto de dados e virmos\n",
"\n",
"![dataset_card_private_huggingface](https://maximofn.com/wp-content/uploads/2024/04/dataset_card_private_huggingface-scaled.webp)\n",
"\n",
"Podemos ver que nem tudo está preenchido, portanto, as informações precisariam ser completadas. Também podemos ver que nos conjuntos de dados privados os dados não estão visíveis."
      ]
    },
{
      "cell_type": "markdown",
      "metadata": {},
      "source": [
      "## Hub como repositório git"
      ]
    },
{
      "cell_type": "markdown",
      "metadata": {},
      "source": [
      "No Hugging Face, os modelos, os espaços e os conjuntos de dados são repositórios git, portanto, você pode trabalhar com eles dessa forma. Ou seja, você pode clonar, bifurcar, fazer solicitações pull, etc."
      ]
    },
{
      "cell_type": "markdown",
      "metadata": {},
      "source": [
      "Mas outra grande vantagem disso é que você pode usar um conjunto de dados em uma determinada versão."
      ]
    },
{
      "cell_type": "code",
      "execution_count": 100,
      "metadata": {},
      "outputs": [
      {
          "data": {
            "application/vnd.jupyter.widget-view+json": {
              "model_id": "ac4073343f714633995cf5fdac32cd4c",
              "version_major": 2,
              "version_minor": 0
            },
            "text/plain": [
            "config.json:   0%|          | 0.00/433 [00:00<?, ?B/s]"
            ]
          },
          "metadata": {},
          "output_type": "display_data"
        },
{
          "data": {
            "application/vnd.jupyter.widget-view+json": {
              "model_id": "ba8043e401ae485ca985a55b3e2f149d",
              "version_major": 2,
              "version_minor": 0
            },
            "text/plain": [
            "pytorch_model.bin:   0%|          | 0.00/436M [00:00<?, ?B/s]"
            ]
          },
          "metadata": {},
          "output_type": "display_data"
        },
{
          "name": "stderr",
          "output_type": "stream",
          "text": [
          "Some weights of BertForSequenceClassification were not initialized from the model checkpoint at bert-base-cased and are newly initialized: ['classifier.bias', 'classifier.weight']\n",
"You should probably TRAIN this model on a down-stream task to be able to use it for predictions and inference.\n"
          ]
        }
      ],
      "source": [
      "from datasets import load_dataset\n",
"\n",
"ds = load_dataset(\"yelp_review_full\", revision=\"393e083\")"
      ]
    }
  ],
  "metadata": {
    "kernelspec": {
      "display_name": "base",
      "language": "python",
      "name": "python3"
    },
    "language_info": {
      "codemirror_mode": {
        "name": "ipython",
        "version": 3
      },
      "file_extension": ".py",
      "mimetype": "text/x-python",
      "name": "python",
      "nbconvert_exporter": "python",
      "pygments_lexer": "ipython3",
      "version": "3.11.7"
    }
  },
  "nbformat": 4,
  "nbformat_minor": 2
}
