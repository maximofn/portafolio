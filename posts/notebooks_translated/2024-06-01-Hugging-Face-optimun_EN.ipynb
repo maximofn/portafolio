{
  "cells": [
    {
      "cell_type": "markdown",
      "metadata": {},
      "source": [
        "# Hugging Face Optimum"
      ]
    },
    {
      "cell_type": "markdown",
      "metadata": {},
      "source": [
        " > Disclaimer: This post has been translated to English using a machine translation model. Please, let me know if you find any mistakes."
      ]
    },
    {
      "cell_type": "markdown",
      "metadata": {},
      "source": [
        "`Optimun` is an extension of the [Transformers](https://maximofn.com/hugging-face-transformers/) library that provides a set of performance optimization tools for training and inference of models, on specific hardware, with maximum efficiency.",
        "\n",
        "The AI ecosystem is evolving rapidly, and every day more specialized hardware emerges along with its own optimizations. Therefore, `Optimum` allows users to efficiently utilize any of this HW with the same ease as [Transformers](https://maximofn.com/hugging-face-transformers/)."
      ]
    },
    {
      "cell_type": "markdown",
      "metadata": {},
      "source": [
        "`Optimun` allows optimization for the following HW platforms:",
        "\n",
        "* Nvidia",
        "* AMD",
        "* Intel",
        "* AWS",
        "* TPU",
        "* Havana",
        "* FuriousAI",
        "\n",
        "In addition, it offers acceleration for the following open source integrations",
        "\n",
        "* ONNX runtime",
        "* Exporters: Export Pytorch or TensorFlow models to different formats such as ONNX or TFLite",
        "* BetterTransformer",
        "* Torch FX"
      ]
    },
    {
      "cell_type": "markdown",
      "metadata": {},
      "source": [
        "## Installation"
      ]
    },
    {
      "cell_type": "markdown",
      "metadata": {},
      "source": [
        "To install `Optimun` simply run:",
        "\n",
        "```bash\n",
        "pip install optimum",
        "```\n",
        "\n",
        "But if you want to install with support for all HW platforms, you can do it like this",
        "\n",
        "|Accelerator|Installation|",
        "|---|---|",
        "|ONNX Runtime\t|`pip install --upgrade --upgrade-strategy eager optimum[onnxruntime]`|",
        "|Intel Neural Compressor\t|`pip install --upgrade --upgrade-strategy eager optimum[neural-compressor]`|",
        "|OpenVINO|`pip install --upgrade --upgrade-strategy eager optimum[openvino]`|",
        "|NVIDIA TensorRT-LLM | `docker run -it --gpus all --ipc host huggingface/optimum-nvidia` |",
        "|AMD Instinct GPUs and Ryzen AI NPU|`pip install --upgrade --upgrade-strategy eager optimum[amd]`|",
        "|AWS Trainum & Inferentia\t|`pip install --upgrade --upgrade-strategy eager optimum[neuronx]`|",
        "|Habana Gaudi Processor (HPU)|`pip install --upgrade --upgrade-strategy eager optimum[habana]`|",
        "|FuriosaAI\t|`pip install --upgrade --upgrade-strategy eager optimum[furiosa]`|",
        "\n",
        "The flags `--upgrade --upgrade-strategy eager` are necessary to ensure that the different packages are updated to the latest possible version."
      ]
    },
    {
      "cell_type": "markdown",
      "metadata": {},
      "source": [
        "Since most people use Pytorch on Nvidia GPUs, and especially since I have an Nvidia GPU, this post will only discuss the use of `Optimun` with Nvidia GPUs and Pytorch."
      ]
    },
    {
      "cell_type": "markdown",
      "metadata": {},
      "source": [
        "## BetterTransformer"
      ]
    },
    {
      "cell_type": "markdown",
      "metadata": {},
      "source": [
        "BetterTransformer is a native PyTorch optimization to achieve an acceleration of x1.25 to x4 in the inference of Transformer-based models."
      ]
    },
    {
      "cell_type": "markdown",
      "metadata": {},
      "source": [
        "BetterTransformer is an API that allows leveraging modern hardware features to accelerate the training and inference of transformer models in PyTorch, using more efficient attention implementations and the `fast path` of the native `nn.TransformerEncoderLayer`.",
        "\n",
        "BetterTransformer uses two types of accelerations:",
        "\n",
        "1. `Flash Attention`: This is an implementation of `attention` that uses `sparse` to reduce computational complexity. Attention is one of the most expensive operations in transformer models, and `Flash Attention` makes it more efficient.",
        "2. `Memory-Efficient Attention`: This is another implementation of attention that uses the `scaled_dot_product_attention` function from PyTorch. This function is more memory-efficient than the standard attention implementation in PyTorch.",
        "\n",
        "In addition, version 2.0 of PyTorch includes a native scaled dot product attention (SDPA) operator as part of `torch.nn.functional`",
        "\n",
        "`Optimun` provides this functionality with the library `Transformers`"
      ]
    },
    {
      "cell_type": "markdown",
      "metadata": {},
      "source": [
        "### Inference with Automodel"
      ]
    },
    {
      "cell_type": "markdown",
      "metadata": {},
      "source": [
        "First, let's see how normal inference would work with `Transformers` and `Automodel`"
      ]
    },
    {
      "cell_type": "code",
      "execution_count": 1,
      "metadata": {},
      "outputs": [
        {
          "name": "stderr",
          "output_type": "stream",
          "text": [
            "Setting `pad_token_id` to `eos_token_id`:50256 for open-end generation.\n"
          ]
        },
        {
          "data": {
            "text/plain": [
              "'Me encanta aprender de la vie de la vie de la vie de la vie de la vie de la vie de la vie de la vie de la vie de la vie de la vie de'"
            ]
          },
          "execution_count": 1,
          "metadata": {},
          "output_type": "execute_result"
        }
      ],
      "source": [
        "from transformers import AutoTokenizer, AutoModelForCausalLM\n",
        "\n",
        "checkpoint = \"openai-community/gpt2\"\n",
        "tokenizer = AutoTokenizer.from_pretrained(checkpoint)\n",
        "model = AutoModelForCausalLM.from_pretrained(checkpoint, device_map=\"auto\")\n",
        "\n",
        "tokenizer.pad_token = tokenizer.eos_token\n",
        "\n",
        "input_tokens = tokenizer([\"Me encanta aprender de\"], return_tensors=\"pt\", padding=True).to(\"cuda\")\n",
        "output_tokens = model.generate(**input_tokens, max_length=50)\n",
        "\n",
        "sentence_output = tokenizer.decode(output_tokens[0], skip_special_tokens=True)\n",
        "sentence_output"
      ]
    },
    {
      "cell_type": "markdown",
      "metadata": {},
      "source": [
        "Now we see how it would be optimized with `BetterTransformer` and `Optimun`",
        "\n",
        "What we need to do is convert the model using the `transform` method of `BetterTransformer`"
      ]
    },
    {
      "cell_type": "code",
      "execution_count": 2,
      "metadata": {},
      "outputs": [
        {
          "name": "stderr",
          "output_type": "stream",
          "text": [
            "The BetterTransformer implementation does not support padding during training, as the fused kernels do not support attention masks. Beware that passing padded batched data during training may result in unexpected outputs. Please refer to https://huggingface.co/docs/optimum/bettertransformer/overview for more details.\n",
            "Setting `pad_token_id` to `eos_token_id`:50256 for open-end generation.\n"
          ]
        },
        {
          "data": {
            "text/plain": [
              "'Me encanta aprender de la vie de la vie de la vie de la vie de la vie de la vie de la vie de la vie de la vie de la vie de la vie de'"
            ]
          },
          "execution_count": 2,
          "metadata": {},
          "output_type": "execute_result"
        }
      ],
      "source": [
        "from transformers import AutoTokenizer, AutoModelForCausalLM\n",
        "from optimum.bettertransformer import BetterTransformer\n",
        "\n",
        "checkpoint = \"openai-community/gpt2\"\n",
        "tokenizer = AutoTokenizer.from_pretrained(checkpoint)\n",
        "model_hf = AutoModelForCausalLM.from_pretrained(checkpoint, device_map=\"auto\")\n",
        "\n",
        "# Convert the model to a BetterTransformer model\n",
        "model = BetterTransformer.transform(model_hf, keep_original_model=True)\n",
        "\n",
        "tokenizer.pad_token = tokenizer.eos_token\n",
        "\n",
        "input_tokens = tokenizer([\"Me encanta aprender de\"], return_tensors=\"pt\", padding=True).to(\"cuda\")\n",
        "output_tokens = model.generate(**input_tokens, max_length=50)\n",
        "\n",
        "sentence_output = tokenizer.decode(output_tokens[0], skip_special_tokens=True)\n",
        "sentence_output"
      ]
    },
    {
      "cell_type": "markdown",
      "metadata": {},
      "source": [
        "### Inference with Pipeline"
      ]
    },
    {
      "cell_type": "markdown",
      "metadata": {},
      "source": [
        "Just like before, we first see how normal inference would be done with `Transformers` and `Pipeline`"
      ]
    },
    {
      "cell_type": "code",
      "execution_count": 3,
      "metadata": {},
      "outputs": [
        {
          "data": {
            "text/plain": [
              "[{'score': 0.05116177722811699,\n",
              "  'token': 8422,\n",
              "  'token_str': 'stanford',\n",
              "  'sequence': 'i am a student at stanford university.'},\n",
              " {'score': 0.04033993184566498,\n",
              "  'token': 5765,\n",
              "  'token_str': 'harvard',\n",
              "  'sequence': 'i am a student at harvard university.'},\n",
              " {'score': 0.03990468755364418,\n",
              "  'token': 7996,\n",
              "  'token_str': 'yale',\n",
              "  'sequence': 'i am a student at yale university.'},\n",
              " {'score': 0.0361952930688858,\n",
              "  'token': 10921,\n",
              "  'token_str': 'cornell',\n",
              "  'sequence': 'i am a student at cornell university.'},\n",
              " {'score': 0.03303057327866554,\n",
              "  'token': 9173,\n",
              "  'token_str': 'princeton',\n",
              "  'sequence': 'i am a student at princeton university.'}]"
            ]
          },
          "execution_count": 3,
          "metadata": {},
          "output_type": "execute_result"
        }
      ],
      "source": [
        "from transformers import pipeline\n",
        "\n",
        "pipe = pipeline(task=\"fill-mask\", model=\"distilbert-base-uncased\")\n",
        "pipe(\"I am a student at [MASK] University.\")"
      ]
    },
    {
      "cell_type": "markdown",
      "metadata": {},
      "source": [
        "Now we see how to optimize it, for this we use `pipeline` from `Optimun`, instead of the one from `Transformers`. Additionally, we need to specify that we want to use `bettertransformer` as the accelerator."
      ]
    },
    {
      "cell_type": "code",
      "execution_count": 4,
      "metadata": {},
      "outputs": [
        {
          "name": "stderr",
          "output_type": "stream",
          "text": [
            "The BetterTransformer implementation does not support padding during training, as the fused kernels do not support attention masks. Beware that passing padded batched data during training may result in unexpected outputs. Please refer to https://huggingface.co/docs/optimum/bettertransformer/overview for more details.\n",
            "/home/wallabot/miniconda3/envs/nlp/lib/python3.11/site-packages/optimum/bettertransformer/models/encoder_models.py:868: UserWarning: The PyTorch API of nested tensors is in prototype stage and will change in the near future. (Triggered internally at /opt/conda/conda-bld/pytorch_1708025845868/work/aten/src/ATen/NestedTensorImpl.cpp:177.)\n",
            "  hidden_states = torch._nested_tensor_from_mask(hidden_states, attn_mask)\n"
          ]
        },
        {
          "data": {
            "text/plain": [
              "[{'score': 0.05116180703043938,\n",
              "  'token': 8422,\n",
              "  'token_str': 'stanford',\n",
              "  'sequence': 'i am a student at stanford university.'},\n",
              " {'score': 0.040340032428503036,\n",
              "  'token': 5765,\n",
              "  'token_str': 'harvard',\n",
              "  'sequence': 'i am a student at harvard university.'},\n",
              " {'score': 0.039904672652482986,\n",
              "  'token': 7996,\n",
              "  'token_str': 'yale',\n",
              "  'sequence': 'i am a student at yale university.'},\n",
              " {'score': 0.036195311695337296,\n",
              "  'token': 10921,\n",
              "  'token_str': 'cornell',\n",
              "  'sequence': 'i am a student at cornell university.'},\n",
              " {'score': 0.03303062543272972,\n",
              "  'token': 9173,\n",
              "  'token_str': 'princeton',\n",
              "  'sequence': 'i am a student at princeton university.'}]"
            ]
          },
          "execution_count": 4,
          "metadata": {},
          "output_type": "execute_result"
        }
      ],
      "source": [
        "from optimum.pipelines import pipeline\n",
        "\n",
        "# Use the BetterTransformer pipeline\n",
        "pipe = pipeline(task=\"fill-mask\", model=\"distilbert-base-uncased\", accelerator=\"bettertransformer\")\n",
        "pipe(\"I am a student at [MASK] University.\")"
      ]
    },
    {
      "cell_type": "markdown",
      "metadata": {},
      "source": [
        "### Training"
      ]
    },
    {
      "cell_type": "markdown",
      "metadata": {},
      "source": [
        "For the training with `Optimun` we do the same as with the inference with Automodel, we convert the model using the `transform` method of `BeterTransformer`.",
        "\n",
        "When we finish the training, we revert the model back to its original form using the `reverse` method of `BetterTransformer`, so that we can save it and upload it to the Hugging Face hub."
      ]
    },
    {
      "cell_type": "code",
      "execution_count": 100,
      "metadata": {},
      "outputs": [],
      "source": [
        "from transformers import AutoTokenizer, AutoModelForCausalLM\n",
        "from optimum.bettertransformer import BetterTransformer\n",
        "\n",
        "checkpoint = \"openai-community/gpt2\"\n",
        "tokenizer = AutoTokenizer.from_pretrained(checkpoint)\n",
        "model_hf = AutoModelForCausalLM.from_pretrained(checkpoint, device_map=\"auto\")\n",
        "\n",
        "# Convert the model to a BetterTransformer model\n",
        "model = BetterTransformer.transform(model_hf, keep_original_model=True)\n",
        "\n",
        "##############################################################################\n",
        "# do your training here\n",
        "##############################################################################\n",
        "\n",
        "# Convert the model back to a Hugging Face model\n",
        "model_hf = BetterTransformer.reverse(model)\n",
        "\n",
        "model_hf.save_pretrained(\"fine_tuned_model\")\n",
        "model_hf.push_to_hub(\"fine_tuned_model\")"
      ]
    }
  ],
  "metadata": {
    "kernelspec": {
      "display_name": "base",
      "language": "python",
      "name": "python3"
    },
    "language_info": {
      "codemirror_mode": {
        "name": "ipython",
        "version": 3
      },
      "file_extension": ".py",
      "mimetype": "text/x-python",
      "name": "python",
      "nbconvert_exporter": "python",
      "pygments_lexer": "ipython3",
      "version": "3.11.8"
    },
    "maximofn": {
      "date": "2024-06-01",
      "description_en": "Attention, slow PyTorch models! \ud83d\udc0c Optimun, the Hugging Face library, comes to the rescue to speed up your workouts and inferences. With Optimun, you can forget about speed issues and enjoy more speed and efficiency \ud83d\udd52\ufe0f. And best of all, it's PyTorch compatible - go on, give your models a boost with Optimun! \ud83d\udcbb",
      "description_es": "\u00a1Atenci\u00f3n, modelos de PyTorch lentos! \ud83d\udc0c Optimun, la librer\u00eda de Hugging Face, viene al rescate para acelerar tus entrenamientos e inferencias. Con Optimun, puedes olvidarte de los problemas de velocidad y disfrutar de m\u00e1s velocidad y eficiencia \ud83d\udd52\ufe0f. Y lo mejor de todo, es compatible con PyTorch. \u00a1Vamos, dale un boost a tus modelos con Optimun! \ud83d\udcbb",
      "description_pt": "Aten\u00e7\u00e3o, modelos PyTorch lentos! \ud83d\udc0c Optimun, a biblioteca Hugging Face, vem em seu socorro para acelerar seu treinamento e suas infer\u00eancias. Com o Optimun, voc\u00ea pode esquecer os problemas de velocidade e aproveitar mais velocidade e efici\u00eancia \ud83d\udd52\ufe0f. E o melhor de tudo \u00e9 que ela \u00e9 compat\u00edvel com o PyTorch - v\u00e1 em frente, d\u00ea um impulso aos seus modelos com a Optimun! \ud83d\udcbb",
      "end_url": "hugging-face-optimun",
      "image": "https://pub-fb664c455eca46a2ba762a065ac900f7.r2.dev/huggingface_optimun.webp",
      "image_hover_path": "https://pub-fb664c455eca46a2ba762a065ac900f7.r2.dev/huggingface_optimun.webp",
      "keywords_en": "hugging face, optimun, pytorch, transformers, training, inference, speed, efficiency",
      "keywords_es": "hugging face, optimun, pytorch, transformers, entrenamiento, inferencia, velocidad, eficiencia",
      "keywords_pt": "hugging face, optimun, pytorch, transformers, treinamento, infer\u00eancia, velocidade, efici\u00eancia",
      "title_en": "Hugging Face Optimun",
      "title_es": "Hugging Face Optimun",
      "title_pt": "Hugging Face Optimun"
    }
  },
  "nbformat": 4,
  "nbformat_minor": 2
}